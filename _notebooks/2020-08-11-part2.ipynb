{
 "cells": [
  {
   "cell_type": "markdown",
   "id": "98380cd3",
   "metadata": {
    "papermill": {
     "duration": 0.031594,
     "end_time": "2021-10-06T20:07:41.988466",
     "exception": false,
     "start_time": "2021-10-06T20:07:41.956872",
     "status": "completed"
    },
    "tags": []
   },
   "source": [
    "# Distinguish Your Own Digits (DYOD)"
   ]
  },
  {
   "cell_type": "markdown",
   "id": "ef31240d",
   "metadata": {
    "papermill": {
     "duration": 0.028774,
     "end_time": "2021-10-06T20:07:42.048921",
     "exception": false,
     "start_time": "2021-10-06T20:07:42.020147",
     "status": "completed"
    },
    "tags": []
   },
   "source": [
    "You are going to write a classifier that distinguishes between the number 3 and number 8."
   ]
  },
  {
   "cell_type": "code",
   "execution_count": 1,
   "id": "b15c8646",
   "metadata": {
    "execution": {
     "iopub.execute_input": "2021-10-06T20:07:42.119660Z",
     "iopub.status.busy": "2021-10-06T20:07:42.119053Z",
     "iopub.status.idle": "2021-10-06T20:07:42.131785Z",
     "shell.execute_reply": "2021-10-06T20:07:42.131155Z"
    },
    "papermill": {
     "duration": 0.053859,
     "end_time": "2021-10-06T20:07:42.131939",
     "exception": false,
     "start_time": "2021-10-06T20:07:42.078080",
     "status": "completed"
    },
    "tags": []
   },
   "outputs": [],
   "source": [
    "%load_ext autoreload\n",
    "%autoreload 2"
   ]
  },
  {
   "cell_type": "code",
   "execution_count": 2,
   "id": "22ef38dc",
   "metadata": {
    "execution": {
     "iopub.execute_input": "2021-10-06T20:07:42.198031Z",
     "iopub.status.busy": "2021-10-06T20:07:42.197325Z",
     "iopub.status.idle": "2021-10-06T20:07:42.799465Z",
     "shell.execute_reply": "2021-10-06T20:07:42.798869Z"
    },
    "papermill": {
     "duration": 0.638324,
     "end_time": "2021-10-06T20:07:42.799603",
     "exception": false,
     "start_time": "2021-10-06T20:07:42.161279",
     "status": "completed"
    },
    "tags": []
   },
   "outputs": [],
   "source": [
    "%matplotlib inline\n",
    "import numpy as np\n",
    "import matplotlib.pyplot as plt\n",
    "import pandas as pd"
   ]
  },
  {
   "cell_type": "markdown",
   "id": "ba036198",
   "metadata": {
    "papermill": {
     "duration": 0.033005,
     "end_time": "2021-10-06T20:07:42.862743",
     "exception": false,
     "start_time": "2021-10-06T20:07:42.829738",
     "status": "completed"
    },
    "tags": []
   },
   "source": [
    "From the command line run `pip install mnist`. This is a library that will help you bring down the mnist dataset. If you run this from a notebook, you need to put  `!pip install mnist` in a cell by itself."
   ]
  },
  {
   "cell_type": "code",
   "execution_count": 3,
   "id": "bb6ad8a1",
   "metadata": {
    "execution": {
     "iopub.execute_input": "2021-10-06T20:07:42.928655Z",
     "iopub.status.busy": "2021-10-06T20:07:42.927955Z",
     "iopub.status.idle": "2021-10-06T20:07:44.904007Z",
     "shell.execute_reply": "2021-10-06T20:07:44.903332Z"
    },
    "papermill": {
     "duration": 2.010298,
     "end_time": "2021-10-06T20:07:44.904148",
     "exception": false,
     "start_time": "2021-10-06T20:07:42.893850",
     "status": "completed"
    },
    "tags": []
   },
   "outputs": [
    {
     "name": "stdout",
     "output_type": "stream",
     "text": [
      "Collecting mnist\r\n"
     ]
    },
    {
     "name": "stdout",
     "output_type": "stream",
     "text": [
      "  Downloading mnist-0.2.2-py2.py3-none-any.whl (3.5 kB)\r\n",
      "Requirement already satisfied: numpy in /opt/hostedtoolcache/Python/3.6.15/x64/lib/python3.6/site-packages (from mnist) (1.19.5)\r\n"
     ]
    },
    {
     "name": "stdout",
     "output_type": "stream",
     "text": [
      "Installing collected packages: mnist\r\n",
      "Successfully installed mnist-0.2.2\r\n"
     ]
    }
   ],
   "source": [
    "!pip install mnist"
   ]
  },
  {
   "cell_type": "markdown",
   "id": "69df9c9a",
   "metadata": {
    "papermill": {
     "duration": 0.030866,
     "end_time": "2021-10-06T20:07:44.965847",
     "exception": false,
     "start_time": "2021-10-06T20:07:44.934981",
     "status": "completed"
    },
    "tags": []
   },
   "source": [
    "## Preparing the Data"
   ]
  },
  {
   "cell_type": "code",
   "execution_count": 4,
   "id": "7f69d806",
   "metadata": {
    "execution": {
     "iopub.execute_input": "2021-10-06T20:07:45.039596Z",
     "iopub.status.busy": "2021-10-06T20:07:45.028142Z",
     "iopub.status.idle": "2021-10-06T20:07:45.043686Z",
     "shell.execute_reply": "2021-10-06T20:07:45.043044Z"
    },
    "papermill": {
     "duration": 0.051681,
     "end_time": "2021-10-06T20:07:45.043816",
     "exception": false,
     "start_time": "2021-10-06T20:07:44.992135",
     "status": "completed"
    },
    "tags": []
   },
   "outputs": [],
   "source": [
    "import mnist"
   ]
  },
  {
   "cell_type": "code",
   "execution_count": 5,
   "id": "a411e44f",
   "metadata": {
    "execution": {
     "iopub.execute_input": "2021-10-06T20:07:45.123959Z",
     "iopub.status.busy": "2021-10-06T20:07:45.122451Z",
     "iopub.status.idle": "2021-10-06T20:07:45.749861Z",
     "shell.execute_reply": "2021-10-06T20:07:45.748978Z"
    },
    "papermill": {
     "duration": 0.663015,
     "end_time": "2021-10-06T20:07:45.750065",
     "exception": false,
     "start_time": "2021-10-06T20:07:45.087050",
     "status": "completed"
    },
    "tags": []
   },
   "outputs": [],
   "source": [
    "train_images = mnist.train_images()\n",
    "train_labels = mnist.train_labels()"
   ]
  },
  {
   "cell_type": "code",
   "execution_count": 6,
   "id": "dceab3a5",
   "metadata": {
    "execution": {
     "iopub.execute_input": "2021-10-06T20:07:45.817001Z",
     "iopub.status.busy": "2021-10-06T20:07:45.816366Z",
     "iopub.status.idle": "2021-10-06T20:07:45.830785Z",
     "shell.execute_reply": "2021-10-06T20:07:45.831448Z"
    },
    "papermill": {
     "duration": 0.051317,
     "end_time": "2021-10-06T20:07:45.831581",
     "exception": false,
     "start_time": "2021-10-06T20:07:45.780264",
     "status": "completed"
    },
    "tags": []
   },
   "outputs": [
    {
     "data": {
      "text/plain": [
       "((60000, 28, 28), (60000,))"
      ]
     },
     "execution_count": 6,
     "metadata": {},
     "output_type": "execute_result"
    }
   ],
   "source": [
    "train_images.shape, train_labels.shape"
   ]
  },
  {
   "cell_type": "code",
   "execution_count": 7,
   "id": "f50dc2bb",
   "metadata": {
    "execution": {
     "iopub.execute_input": "2021-10-06T20:07:45.897562Z",
     "iopub.status.busy": "2021-10-06T20:07:45.896892Z",
     "iopub.status.idle": "2021-10-06T20:07:46.070019Z",
     "shell.execute_reply": "2021-10-06T20:07:46.070522Z"
    },
    "papermill": {
     "duration": 0.208301,
     "end_time": "2021-10-06T20:07:46.070690",
     "exception": false,
     "start_time": "2021-10-06T20:07:45.862389",
     "status": "completed"
    },
    "tags": []
   },
   "outputs": [],
   "source": [
    "test_images = mnist.test_images()\n",
    "test_labels = mnist.test_labels()"
   ]
  },
  {
   "cell_type": "code",
   "execution_count": 8,
   "id": "fc38cf1b",
   "metadata": {
    "execution": {
     "iopub.execute_input": "2021-10-06T20:07:46.138988Z",
     "iopub.status.busy": "2021-10-06T20:07:46.138292Z",
     "iopub.status.idle": "2021-10-06T20:07:46.152518Z",
     "shell.execute_reply": "2021-10-06T20:07:46.151897Z"
    },
    "papermill": {
     "duration": 0.04985,
     "end_time": "2021-10-06T20:07:46.152679",
     "exception": false,
     "start_time": "2021-10-06T20:07:46.102829",
     "status": "completed"
    },
    "tags": []
   },
   "outputs": [
    {
     "data": {
      "text/plain": [
       "((10000, 28, 28), (10000,))"
      ]
     },
     "execution_count": 8,
     "metadata": {},
     "output_type": "execute_result"
    }
   ],
   "source": [
    "test_images.shape, test_labels.shape"
   ]
  },
  {
   "cell_type": "code",
   "execution_count": 9,
   "id": "f9ed8fe0",
   "metadata": {
    "execution": {
     "iopub.execute_input": "2021-10-06T20:07:46.222354Z",
     "iopub.status.busy": "2021-10-06T20:07:46.221738Z",
     "iopub.status.idle": "2021-10-06T20:07:46.414251Z",
     "shell.execute_reply": "2021-10-06T20:07:46.413321Z"
    },
    "papermill": {
     "duration": 0.227494,
     "end_time": "2021-10-06T20:07:46.414433",
     "exception": false,
     "start_time": "2021-10-06T20:07:46.186939",
     "status": "completed"
    },
    "tags": []
   },
   "outputs": [
    {
     "name": "stdout",
     "output_type": "stream",
     "text": [
      "2\n"
     ]
    },
    {
     "data": {
      "text/plain": [
       "<matplotlib.image.AxesImage at 0x7f86cbdae828>"
      ]
     },
     "execution_count": 9,
     "metadata": {},
     "output_type": "execute_result"
    },
    {
     "data": {
      "image/png": "[encoded data removed]",
      "text/plain": [
       "<Figure size 432x288 with 1 Axes>"
      ]
     },
     "metadata": {
      "needs_background": "light"
     },
     "output_type": "display_data"
    }
   ],
   "source": [
    "image_index = 7776 # You may select anything up to 60,000\n",
    "print(train_labels[image_index]) \n",
    "plt.imshow(train_images[image_index], cmap='Greys')"
   ]
  },
  {
   "cell_type": "markdown",
   "id": "a8d2388d",
   "metadata": {
    "papermill": {
     "duration": 0.033153,
     "end_time": "2021-10-06T20:07:46.479469",
     "exception": false,
     "start_time": "2021-10-06T20:07:46.446316",
     "status": "completed"
    },
    "tags": []
   },
   "source": [
    "## Filter data to get 3 and 8 out"
   ]
  },
  {
   "cell_type": "code",
   "execution_count": 10,
   "id": "776f7fc7",
   "metadata": {
    "execution": {
     "iopub.execute_input": "2021-10-06T20:07:46.552375Z",
     "iopub.status.busy": "2021-10-06T20:07:46.551142Z",
     "iopub.status.idle": "2021-10-06T20:07:46.571162Z",
     "shell.execute_reply": "2021-10-06T20:07:46.571608Z"
    },
    "papermill": {
     "duration": 0.06234,
     "end_time": "2021-10-06T20:07:46.571764",
     "exception": false,
     "start_time": "2021-10-06T20:07:46.509424",
     "status": "completed"
    },
    "tags": []
   },
   "outputs": [],
   "source": [
    "train_filter = np.where((train_labels == 3 ) | (train_labels == 8))\n",
    "test_filter = np.where((test_labels == 3) | (test_labels == 8))\n",
    "X_train, y_train = train_images[train_filter], train_labels[train_filter]\n",
    "X_test, y_test = test_images[test_filter], test_labels[test_filter]"
   ]
  },
  {
   "cell_type": "markdown",
   "id": "948f0b7e",
   "metadata": {
    "papermill": {
     "duration": 0.030331,
     "end_time": "2021-10-06T20:07:46.634091",
     "exception": false,
     "start_time": "2021-10-06T20:07:46.603760",
     "status": "completed"
    },
    "tags": []
   },
   "source": [
    "We normalize the pizel values in the 0 to 1 range"
   ]
  },
  {
   "cell_type": "code",
   "execution_count": 11,
   "id": "ee4c2166",
   "metadata": {
    "execution": {
     "iopub.execute_input": "2021-10-06T20:07:46.707002Z",
     "iopub.status.busy": "2021-10-06T20:07:46.706302Z",
     "iopub.status.idle": "2021-10-06T20:07:46.770972Z",
     "shell.execute_reply": "2021-10-06T20:07:46.770333Z"
    },
    "papermill": {
     "duration": 0.103148,
     "end_time": "2021-10-06T20:07:46.771176",
     "exception": false,
     "start_time": "2021-10-06T20:07:46.668028",
     "status": "completed"
    },
    "tags": []
   },
   "outputs": [],
   "source": [
    "X_train = X_train/255.\n",
    "X_test = X_test/255."
   ]
  },
  {
   "cell_type": "markdown",
   "id": "ddcf4fab",
   "metadata": {
    "papermill": {
     "duration": 0.030508,
     "end_time": "2021-10-06T20:07:46.836104",
     "exception": false,
     "start_time": "2021-10-06T20:07:46.805596",
     "status": "completed"
    },
    "tags": []
   },
   "source": [
    "And setup the labels as 1 (when the digit is 3) and 0 (when the digit is 8)"
   ]
  },
  {
   "cell_type": "code",
   "execution_count": 12,
   "id": "7dc908f2",
   "metadata": {
    "execution": {
     "iopub.execute_input": "2021-10-06T20:07:46.907237Z",
     "iopub.status.busy": "2021-10-06T20:07:46.906362Z",
     "iopub.status.idle": "2021-10-06T20:07:46.918621Z",
     "shell.execute_reply": "2021-10-06T20:07:46.919239Z"
    },
    "papermill": {
     "duration": 0.052847,
     "end_time": "2021-10-06T20:07:46.919388",
     "exception": false,
     "start_time": "2021-10-06T20:07:46.866541",
     "status": "completed"
    },
    "tags": []
   },
   "outputs": [],
   "source": [
    "y_train = 1*(y_train==3)\n",
    "y_test = 1*(y_test==3)"
   ]
  },
  {
   "cell_type": "code",
   "execution_count": 13,
   "id": "01e4e969",
   "metadata": {
    "execution": {
     "iopub.execute_input": "2021-10-06T20:07:46.985151Z",
     "iopub.status.busy": "2021-10-06T20:07:46.984564Z",
     "iopub.status.idle": "2021-10-06T20:07:46.999560Z",
     "shell.execute_reply": "2021-10-06T20:07:46.998908Z"
    },
    "papermill": {
     "duration": 0.048829,
     "end_time": "2021-10-06T20:07:46.999758",
     "exception": false,
     "start_time": "2021-10-06T20:07:46.950929",
     "status": "completed"
    },
    "tags": []
   },
   "outputs": [
    {
     "data": {
      "text/plain": [
       "((11982, 28, 28), (1984, 28, 28))"
      ]
     },
     "execution_count": 13,
     "metadata": {},
     "output_type": "execute_result"
    }
   ],
   "source": [
    "X_train.shape, X_test.shape"
   ]
  },
  {
   "cell_type": "markdown",
   "id": "5ccf3f85",
   "metadata": {
    "papermill": {
     "duration": 0.033345,
     "end_time": "2021-10-06T20:07:47.068808",
     "exception": false,
     "start_time": "2021-10-06T20:07:47.035463",
     "status": "completed"
    },
    "tags": []
   },
   "source": [
    "We reshape the data to flatten the image pixels into a set of features or co-variates:"
   ]
  },
  {
   "cell_type": "code",
   "execution_count": 14,
   "id": "5286a4a3",
   "metadata": {
    "execution": {
     "iopub.execute_input": "2021-10-06T20:07:47.140512Z",
     "iopub.status.busy": "2021-10-06T20:07:47.139754Z",
     "iopub.status.idle": "2021-10-06T20:07:47.154199Z",
     "shell.execute_reply": "2021-10-06T20:07:47.154775Z"
    },
    "papermill": {
     "duration": 0.054652,
     "end_time": "2021-10-06T20:07:47.154915",
     "exception": false,
     "start_time": "2021-10-06T20:07:47.100263",
     "status": "completed"
    },
    "tags": []
   },
   "outputs": [
    {
     "data": {
      "text/plain": [
       "((11982, 784), (1984, 784))"
      ]
     },
     "execution_count": 14,
     "metadata": {},
     "output_type": "execute_result"
    }
   ],
   "source": [
    "X_train = X_train.reshape(X_train.shape[0], -1)\n",
    "X_test = X_test.reshape(X_test.shape[0], -1)\n",
    "X_train.shape, X_test.shape"
   ]
  },
  {
   "cell_type": "code",
   "execution_count": 15,
   "id": "73c5f88a",
   "metadata": {
    "execution": {
     "iopub.execute_input": "2021-10-06T20:07:47.227661Z",
     "iopub.status.busy": "2021-10-06T20:07:47.226907Z",
     "iopub.status.idle": "2021-10-06T20:07:47.249733Z",
     "shell.execute_reply": "2021-10-06T20:07:47.250316Z"
    },
    "papermill": {
     "duration": 0.059979,
     "end_time": "2021-10-06T20:07:47.250513",
     "exception": false,
     "start_time": "2021-10-06T20:07:47.190534",
     "status": "completed"
    },
    "tags": []
   },
   "outputs": [],
   "source": [
    "#Impoting functions from 'Kudzu'\n",
    "from kudzu.model import Model\n",
    "from kudzu.train import Learner\n",
    "from kudzu.optim import GD\n",
    "from kudzu.data import Data, Sampler,Dataloader\n",
    "\n",
    "from kudzu.callbacks import AccCallback\n",
    "from kudzu.callbacks import ClfCallback\n",
    "\n",
    "from kudzu.loss import MSE\n",
    "\n",
    "from kudzu.layer import Sigmoid,Relu\n",
    "from kudzu.layer import Affine"
   ]
  },
  {
   "cell_type": "markdown",
   "id": "bc01172a",
   "metadata": {
    "papermill": {
     "duration": 0.032889,
     "end_time": "2021-10-06T20:07:47.317025",
     "exception": false,
     "start_time": "2021-10-06T20:07:47.284136",
     "status": "completed"
    },
    "tags": []
   },
   "source": [
    "### Let us create a `Config` class, to store important parameters. \n",
    "This class essentially plays the role of a dictionary."
   ]
  },
  {
   "cell_type": "code",
   "execution_count": 16,
   "id": "978281aa",
   "metadata": {
    "execution": {
     "iopub.execute_input": "2021-10-06T20:07:47.387246Z",
     "iopub.status.busy": "2021-10-06T20:07:47.386654Z",
     "iopub.status.idle": "2021-10-06T20:07:47.398450Z",
     "shell.execute_reply": "2021-10-06T20:07:47.399017Z"
    },
    "papermill": {
     "duration": 0.047809,
     "end_time": "2021-10-06T20:07:47.399211",
     "exception": false,
     "start_time": "2021-10-06T20:07:47.351402",
     "status": "completed"
    },
    "tags": []
   },
   "outputs": [],
   "source": [
    "class Config:\n",
    "    pass\n",
    "config = Config()\n",
    "config.lr = 0.001\n",
    "config.num_epochs = 250\n",
    "config.bs = 50"
   ]
  },
  {
   "cell_type": "markdown",
   "id": "1385fa59",
   "metadata": {
    "papermill": {
     "duration": 0.035359,
     "end_time": "2021-10-06T20:07:47.465547",
     "exception": false,
     "start_time": "2021-10-06T20:07:47.430188",
     "status": "completed"
    },
    "tags": []
   },
   "source": [
    "### Running Models with the Training data\n",
    "Details about the network layers:\n",
    "- A first affine layer has 784 inputs and does 100 affine transforms. These are followed by a Relu\n",
    "- A second affine layer has 100 inputs from the 100 activations of the past layer, and does 100 affine transforms. These are followed by a Relu\n",
    "- A third affine layer has 100 activations and does 2 affine transformations to create an embedding for visualization. There is no non-linearity here.\n",
    "- A final \"logistic regression\" which has an affine transform from 2 inputs to 1 output, which is squeezed through a sigmoid.\n"
   ]
  },
  {
   "cell_type": "code",
   "execution_count": 17,
   "id": "2b9c66db",
   "metadata": {
    "execution": {
     "iopub.execute_input": "2021-10-06T20:07:47.534663Z",
     "iopub.status.busy": "2021-10-06T20:07:47.534082Z",
     "iopub.status.idle": "2021-10-06T20:07:47.546652Z",
     "shell.execute_reply": "2021-10-06T20:07:47.547246Z"
    },
    "papermill": {
     "duration": 0.048779,
     "end_time": "2021-10-06T20:07:47.547376",
     "exception": false,
     "start_time": "2021-10-06T20:07:47.498597",
     "status": "completed"
    },
    "tags": []
   },
   "outputs": [],
   "source": [
    "data = Data(X_train, y_train.reshape(-1,1))\n",
    "sampler = Sampler(data, config.bs, shuffle=True)\n",
    "\n",
    "dl = Dataloader(data, sampler)\n",
    "\n",
    "opt = GD(config.lr)\n",
    "loss = MSE()"
   ]
  },
  {
   "cell_type": "code",
   "execution_count": 18,
   "id": "b275e4c2",
   "metadata": {
    "execution": {
     "iopub.execute_input": "2021-10-06T20:07:47.622409Z",
     "iopub.status.busy": "2021-10-06T20:07:47.621736Z",
     "iopub.status.idle": "2021-10-06T20:07:47.633680Z",
     "shell.execute_reply": "2021-10-06T20:07:47.633125Z"
    },
    "papermill": {
     "duration": 0.051188,
     "end_time": "2021-10-06T20:07:47.633866",
     "exception": false,
     "start_time": "2021-10-06T20:07:47.582678",
     "status": "completed"
    },
    "tags": []
   },
   "outputs": [],
   "source": [
    "training_data_x = X_train\n",
    "testing_data_x = X_test\n",
    "training_data_y = y_train.reshape(-1,1)\n",
    "testing_data_y = y_test.reshape(-1,1)"
   ]
  },
  {
   "cell_type": "code",
   "execution_count": 19,
   "id": "76951160",
   "metadata": {
    "execution": {
     "iopub.execute_input": "2021-10-06T20:07:47.708535Z",
     "iopub.status.busy": "2021-10-06T20:07:47.707754Z",
     "iopub.status.idle": "2021-10-06T20:07:47.728501Z",
     "shell.execute_reply": "2021-10-06T20:07:47.729100Z"
    },
    "papermill": {
     "duration": 0.062389,
     "end_time": "2021-10-06T20:07:47.729310",
     "exception": false,
     "start_time": "2021-10-06T20:07:47.666921",
     "status": "completed"
    },
    "tags": []
   },
   "outputs": [
    {
     "name": "stdout",
     "output_type": "stream",
     "text": [
      "xavier\n",
      "xavier\n",
      "xavier\n",
      "xavier\n",
      "xavier\n"
     ]
    }
   ],
   "source": [
    "layers = [Affine(\"first\", 784, 100), Relu(\"first\"), Affine(\"second\", 100, 100), Relu(\"second\"), Affine(\"third\", 100, 2), Affine(\"last\", 2, 1), Sigmoid(\"last\")]\n",
    "model_nn = Model(layers)\n",
    "model_lr = Model([Affine(\"logits\", 784, 1), Sigmoid(\"sigmoid\")])"
   ]
  },
  {
   "cell_type": "code",
   "execution_count": 20,
   "id": "6eede77a",
   "metadata": {
    "execution": {
     "iopub.execute_input": "2021-10-06T20:07:47.804115Z",
     "iopub.status.busy": "2021-10-06T20:07:47.803511Z",
     "iopub.status.idle": "2021-10-06T20:07:47.817452Z",
     "shell.execute_reply": "2021-10-06T20:07:47.818154Z"
    },
    "papermill": {
     "duration": 0.052707,
     "end_time": "2021-10-06T20:07:47.818338",
     "exception": false,
     "start_time": "2021-10-06T20:07:47.765631",
     "status": "completed"
    },
    "tags": []
   },
   "outputs": [],
   "source": [
    "nn_learner = Learner(loss, model_nn, opt, config.num_epochs)\n",
    "acc_nn = ClfCallback(nn_learner, config.bs, training_data_x , testing_data_x, training_data_y, testing_data_y)\n",
    "nn_learner.set_callbacks([acc_nn])"
   ]
  },
  {
   "cell_type": "code",
   "execution_count": 21,
   "id": "877b6cc7",
   "metadata": {
    "execution": {
     "iopub.execute_input": "2021-10-06T20:07:47.892623Z",
     "iopub.status.busy": "2021-10-06T20:07:47.891763Z",
     "iopub.status.idle": "2021-10-06T20:07:47.906928Z",
     "shell.execute_reply": "2021-10-06T20:07:47.907689Z"
    },
    "papermill": {
     "duration": 0.05649,
     "end_time": "2021-10-06T20:07:47.907909",
     "exception": false,
     "start_time": "2021-10-06T20:07:47.851419",
     "status": "completed"
    },
    "tags": []
   },
   "outputs": [],
   "source": [
    "lr_learner = Learner(loss, model_lr, opt, config.num_epochs)\n",
    "acc_lr = ClfCallback(lr_learner, config.bs, training_data_x , testing_data_x, training_data_y, testing_data_y)\n",
    "lr_learner.set_callbacks([acc_lr])"
   ]
  },
  {
   "cell_type": "code",
   "execution_count": 22,
   "id": "d9b133c3",
   "metadata": {
    "execution": {
     "iopub.execute_input": "2021-10-06T20:07:47.986801Z",
     "iopub.status.busy": "2021-10-06T20:07:47.980464Z",
     "iopub.status.idle": "2021-10-06T20:10:13.906909Z",
     "shell.execute_reply": "2021-10-06T20:10:13.907568Z"
    },
    "papermill": {
     "duration": 145.968195,
     "end_time": "2021-10-06T20:10:13.907797",
     "exception": false,
     "start_time": "2021-10-06T20:07:47.939602",
     "status": "completed"
    },
    "tags": []
   },
   "outputs": [
    {
     "name": "stdout",
     "output_type": "stream",
     "text": [
      "Epoch 0, Loss 0.252\n",
      "Training Accuracy: 0.4811, Testing Accuracy: 0.4803\n",
      "\n"
     ]
    },
    {
     "name": "stdout",
     "output_type": "stream",
     "text": [
      "Epoch 10, Loss 0.2074\n",
      "Training Accuracy: 0.8867, Testing Accuracy: 0.8947\n",
      "\n"
     ]
    },
    {
     "name": "stdout",
     "output_type": "stream",
     "text": [
      "Epoch 20, Loss 0.106\n",
      "Training Accuracy: 0.9138, Testing Accuracy: 0.9284\n",
      "\n"
     ]
    },
    {
     "name": "stdout",
     "output_type": "stream",
     "text": [
      "Epoch 30, Loss 0.0641\n",
      "Training Accuracy: 0.9326, Testing Accuracy: 0.9451\n",
      "\n"
     ]
    },
    {
     "name": "stdout",
     "output_type": "stream",
     "text": [
      "Epoch 40, Loss 0.0488\n",
      "Training Accuracy: 0.9460, Testing Accuracy: 0.9561\n",
      "\n"
     ]
    },
    {
     "name": "stdout",
     "output_type": "stream",
     "text": [
      "Epoch 50, Loss 0.0413\n",
      "Training Accuracy: 0.9542, Testing Accuracy: 0.9617\n",
      "\n"
     ]
    },
    {
     "name": "stdout",
     "output_type": "stream",
     "text": [
      "Epoch 60, Loss 0.0369\n",
      "Training Accuracy: 0.9580, Testing Accuracy: 0.9647\n",
      "\n"
     ]
    },
    {
     "name": "stdout",
     "output_type": "stream",
     "text": [
      "Epoch 70, Loss 0.0339\n",
      "Training Accuracy: 0.9606, Testing Accuracy: 0.9652\n",
      "\n"
     ]
    },
    {
     "name": "stdout",
     "output_type": "stream",
     "text": [
      "Epoch 80, Loss 0.0318\n",
      "Training Accuracy: 0.9621, Testing Accuracy: 0.9667\n",
      "\n"
     ]
    },
    {
     "name": "stdout",
     "output_type": "stream",
     "text": [
      "Epoch 90, Loss 0.0302\n",
      "Training Accuracy: 0.9640, Testing Accuracy: 0.9677\n",
      "\n"
     ]
    },
    {
     "name": "stdout",
     "output_type": "stream",
     "text": [
      "Epoch 100, Loss 0.0289\n",
      "Training Accuracy: 0.9649, Testing Accuracy: 0.9688\n",
      "\n"
     ]
    },
    {
     "name": "stdout",
     "output_type": "stream",
     "text": [
      "Epoch 110, Loss 0.0278\n",
      "Training Accuracy: 0.9661, Testing Accuracy: 0.9698\n",
      "\n"
     ]
    },
    {
     "name": "stdout",
     "output_type": "stream",
     "text": [
      "Epoch 120, Loss 0.0269\n",
      "Training Accuracy: 0.9674, Testing Accuracy: 0.9693\n",
      "\n"
     ]
    },
    {
     "name": "stdout",
     "output_type": "stream",
     "text": [
      "Epoch 130, Loss 0.0261\n",
      "Training Accuracy: 0.9686, Testing Accuracy: 0.9698\n",
      "\n"
     ]
    },
    {
     "name": "stdout",
     "output_type": "stream",
     "text": [
      "Epoch 140, Loss 0.0254\n",
      "Training Accuracy: 0.9694, Testing Accuracy: 0.9708\n",
      "\n"
     ]
    },
    {
     "name": "stdout",
     "output_type": "stream",
     "text": [
      "Epoch 150, Loss 0.0248\n",
      "Training Accuracy: 0.9708, Testing Accuracy: 0.9713\n",
      "\n"
     ]
    },
    {
     "name": "stdout",
     "output_type": "stream",
     "text": [
      "Epoch 160, Loss 0.0242\n",
      "Training Accuracy: 0.9715, Testing Accuracy: 0.9718\n",
      "\n"
     ]
    },
    {
     "name": "stdout",
     "output_type": "stream",
     "text": [
      "Epoch 170, Loss 0.0236\n",
      "Training Accuracy: 0.9720, Testing Accuracy: 0.9708\n",
      "\n"
     ]
    },
    {
     "name": "stdout",
     "output_type": "stream",
     "text": [
      "Epoch 180, Loss 0.0231\n",
      "Training Accuracy: 0.9734, Testing Accuracy: 0.9718\n",
      "\n"
     ]
    },
    {
     "name": "stdout",
     "output_type": "stream",
     "text": [
      "Epoch 190, Loss 0.0226\n",
      "Training Accuracy: 0.9737, Testing Accuracy: 0.9723\n",
      "\n"
     ]
    },
    {
     "name": "stdout",
     "output_type": "stream",
     "text": [
      "Epoch 200, Loss 0.0222\n",
      "Training Accuracy: 0.9742, Testing Accuracy: 0.9728\n",
      "\n"
     ]
    },
    {
     "name": "stdout",
     "output_type": "stream",
     "text": [
      "Epoch 210, Loss 0.0218\n",
      "Training Accuracy: 0.9748, Testing Accuracy: 0.9728\n",
      "\n"
     ]
    },
    {
     "name": "stdout",
     "output_type": "stream",
     "text": [
      "Epoch 220, Loss 0.0214\n",
      "Training Accuracy: 0.9752, Testing Accuracy: 0.9728\n",
      "\n"
     ]
    },
    {
     "name": "stdout",
     "output_type": "stream",
     "text": [
      "Epoch 230, Loss 0.021\n",
      "Training Accuracy: 0.9758, Testing Accuracy: 0.9733\n",
      "\n"
     ]
    },
    {
     "name": "stdout",
     "output_type": "stream",
     "text": [
      "Epoch 240, Loss 0.0206\n",
      "Training Accuracy: 0.9762, Testing Accuracy: 0.9748\n",
      "\n"
     ]
    },
    {
     "data": {
      "text/plain": [
       "0.09773445360995113"
      ]
     },
     "execution_count": 22,
     "metadata": {},
     "output_type": "execute_result"
    }
   ],
   "source": [
    "nn_learner.train_loop(dl)"
   ]
  },
  {
   "cell_type": "code",
   "execution_count": 23,
   "id": "e0163366",
   "metadata": {
    "execution": {
     "iopub.execute_input": "2021-10-06T20:10:14.004469Z",
     "iopub.status.busy": "2021-10-06T20:10:14.003826Z",
     "iopub.status.idle": "2021-10-06T20:10:34.730683Z",
     "shell.execute_reply": "2021-10-06T20:10:34.731560Z"
    },
    "papermill": {
     "duration": 20.779217,
     "end_time": "2021-10-06T20:10:34.731742",
     "exception": false,
     "start_time": "2021-10-06T20:10:13.952525",
     "status": "completed"
    },
    "tags": []
   },
   "outputs": [
    {
     "name": "stdout",
     "output_type": "stream",
     "text": [
      "Epoch 0, Loss 0.2372\n",
      "Training Accuracy: 0.7128, Testing Accuracy: 0.7127\n",
      "\n"
     ]
    },
    {
     "name": "stdout",
     "output_type": "stream",
     "text": [
      "Epoch 10, Loss 0.1048\n",
      "Training Accuracy: 0.9015, Testing Accuracy: 0.9088\n",
      "\n"
     ]
    },
    {
     "name": "stdout",
     "output_type": "stream",
     "text": [
      "Epoch 20, Loss 0.0807\n",
      "Training Accuracy: 0.9222, Testing Accuracy: 0.9335\n",
      "\n"
     ]
    },
    {
     "name": "stdout",
     "output_type": "stream",
     "text": [
      "Epoch 30, Loss 0.0694\n",
      "Training Accuracy: 0.9328, Testing Accuracy: 0.9446\n",
      "\n"
     ]
    },
    {
     "name": "stdout",
     "output_type": "stream",
     "text": [
      "Epoch 40, Loss 0.0625\n",
      "Training Accuracy: 0.9388, Testing Accuracy: 0.9496\n",
      "\n"
     ]
    },
    {
     "name": "stdout",
     "output_type": "stream",
     "text": [
      "Epoch 50, Loss 0.0578\n",
      "Training Accuracy: 0.9427, Testing Accuracy: 0.9541\n",
      "\n"
     ]
    },
    {
     "name": "stdout",
     "output_type": "stream",
     "text": [
      "Epoch 60, Loss 0.0544\n",
      "Training Accuracy: 0.9466, Testing Accuracy: 0.9582\n",
      "\n"
     ]
    },
    {
     "name": "stdout",
     "output_type": "stream",
     "text": [
      "Epoch 70, Loss 0.0517\n",
      "Training Accuracy: 0.9490, Testing Accuracy: 0.9607\n",
      "\n"
     ]
    },
    {
     "name": "stdout",
     "output_type": "stream",
     "text": [
      "Epoch 80, Loss 0.0496\n",
      "Training Accuracy: 0.9500, Testing Accuracy: 0.9622\n",
      "\n"
     ]
    },
    {
     "name": "stdout",
     "output_type": "stream",
     "text": [
      "Epoch 90, Loss 0.0478\n",
      "Training Accuracy: 0.9509, Testing Accuracy: 0.9632\n",
      "\n"
     ]
    },
    {
     "name": "stdout",
     "output_type": "stream",
     "text": [
      "Epoch 100, Loss 0.0464\n",
      "Training Accuracy: 0.9523, Testing Accuracy: 0.9632\n",
      "\n"
     ]
    },
    {
     "name": "stdout",
     "output_type": "stream",
     "text": [
      "Epoch 110, Loss 0.0451\n",
      "Training Accuracy: 0.9533, Testing Accuracy: 0.9637\n",
      "\n"
     ]
    },
    {
     "name": "stdout",
     "output_type": "stream",
     "text": [
      "Epoch 120, Loss 0.044\n",
      "Training Accuracy: 0.9547, Testing Accuracy: 0.9642\n",
      "\n"
     ]
    },
    {
     "name": "stdout",
     "output_type": "stream",
     "text": [
      "Epoch 130, Loss 0.043\n",
      "Training Accuracy: 0.9559, Testing Accuracy: 0.9637\n",
      "\n"
     ]
    },
    {
     "name": "stdout",
     "output_type": "stream",
     "text": [
      "Epoch 140, Loss 0.0422\n",
      "Training Accuracy: 0.9567, Testing Accuracy: 0.9642\n",
      "\n"
     ]
    },
    {
     "name": "stdout",
     "output_type": "stream",
     "text": [
      "Epoch 150, Loss 0.0414\n",
      "Training Accuracy: 0.9571, Testing Accuracy: 0.9647\n",
      "\n"
     ]
    },
    {
     "name": "stdout",
     "output_type": "stream",
     "text": [
      "Epoch 160, Loss 0.0407\n",
      "Training Accuracy: 0.9576, Testing Accuracy: 0.9652\n",
      "\n"
     ]
    },
    {
     "name": "stdout",
     "output_type": "stream",
     "text": [
      "Epoch 170, Loss 0.0401\n",
      "Training Accuracy: 0.9582, Testing Accuracy: 0.9652\n",
      "\n"
     ]
    },
    {
     "name": "stdout",
     "output_type": "stream",
     "text": [
      "Epoch 180, Loss 0.0395\n",
      "Training Accuracy: 0.9585, Testing Accuracy: 0.9657\n",
      "\n"
     ]
    },
    {
     "name": "stdout",
     "output_type": "stream",
     "text": [
      "Epoch 190, Loss 0.039\n",
      "Training Accuracy: 0.9586, Testing Accuracy: 0.9657\n",
      "\n"
     ]
    },
    {
     "name": "stdout",
     "output_type": "stream",
     "text": [
      "Epoch 200, Loss 0.0385\n",
      "Training Accuracy: 0.9592, Testing Accuracy: 0.9657\n",
      "\n"
     ]
    },
    {
     "name": "stdout",
     "output_type": "stream",
     "text": [
      "Epoch 210, Loss 0.0381\n",
      "Training Accuracy: 0.9594, Testing Accuracy: 0.9657\n",
      "\n"
     ]
    },
    {
     "name": "stdout",
     "output_type": "stream",
     "text": [
      "Epoch 220, Loss 0.0377\n",
      "Training Accuracy: 0.9596, Testing Accuracy: 0.9657\n",
      "\n"
     ]
    },
    {
     "name": "stdout",
     "output_type": "stream",
     "text": [
      "Epoch 230, Loss 0.0373\n",
      "Training Accuracy: 0.9598, Testing Accuracy: 0.9662\n",
      "\n"
     ]
    },
    {
     "name": "stdout",
     "output_type": "stream",
     "text": [
      "Epoch 240, Loss 0.0369\n",
      "Training Accuracy: 0.9599, Testing Accuracy: 0.9662\n",
      "\n"
     ]
    },
    {
     "data": {
      "text/plain": [
       "0.02641442037972736"
      ]
     },
     "execution_count": 23,
     "metadata": {},
     "output_type": "execute_result"
    }
   ],
   "source": [
    "lr_learner.train_loop(dl)"
   ]
  },
  {
   "cell_type": "code",
   "execution_count": 24,
   "id": "ca410940",
   "metadata": {
    "execution": {
     "iopub.execute_input": "2021-10-06T20:10:34.848603Z",
     "iopub.status.busy": "2021-10-06T20:10:34.847913Z",
     "iopub.status.idle": "2021-10-06T20:10:35.152136Z",
     "shell.execute_reply": "2021-10-06T20:10:35.151567Z"
    },
    "papermill": {
     "duration": 0.369139,
     "end_time": "2021-10-06T20:10:35.152304",
     "exception": false,
     "start_time": "2021-10-06T20:10:34.783165",
     "status": "completed"
    },
    "tags": []
   },
   "outputs": [
    {
     "data": {
      "text/plain": [
       "<matplotlib.legend.Legend at 0x7f86cb911908>"
      ]
     },
     "execution_count": 24,
     "metadata": {},
     "output_type": "execute_result"
    },
    {
     "data": {
      "image/png": "[encoded data removed]",
      "text/plain": [
       "<Figure size 1080x720 with 1 Axes>"
      ]
     },
     "metadata": {
      "needs_background": "light"
     },
     "output_type": "display_data"
    }
   ],
   "source": [
    "#comparing the results of NN and LR\n",
    "plt.figure(figsize=(15,10))\n",
    "\n",
    "# Neural Network plots\n",
    "plt.plot(acc_nn.accuracies, 'r-', label = \"Training Accuracies - NN\")\n",
    "plt.plot(acc_nn.test_accuracies, 'g-', label = \"Testing Accuracies - NN\")\n",
    "\n",
    "# Logistic Regression plots\n",
    "plt.plot(acc_lr.accuracies, 'k-', label = \"Training Accuracies - LR\")\n",
    "plt.plot(acc_lr.test_accuracies, 'b-', label = \"Testing Accuracies - LR\")\n",
    "plt.legend()"
   ]
  },
  {
   "cell_type": "markdown",
   "id": "80dfb35c",
   "metadata": {
    "papermill": {
     "duration": 0.04886,
     "end_time": "2021-10-06T20:10:35.255993",
     "exception": false,
     "start_time": "2021-10-06T20:10:35.207133",
     "status": "completed"
    },
    "tags": []
   },
   "source": [
    "#### Plotting the outputs of this layer of the NN.\n"
   ]
  },
  {
   "cell_type": "code",
   "execution_count": 25,
   "id": "45eb2ff5",
   "metadata": {
    "execution": {
     "iopub.execute_input": "2021-10-06T20:10:35.365842Z",
     "iopub.status.busy": "2021-10-06T20:10:35.365253Z",
     "iopub.status.idle": "2021-10-06T20:10:35.391208Z",
     "shell.execute_reply": "2021-10-06T20:10:35.391775Z"
    },
    "papermill": {
     "duration": 0.077987,
     "end_time": "2021-10-06T20:10:35.392534",
     "exception": false,
     "start_time": "2021-10-06T20:10:35.314547",
     "status": "completed"
    },
    "tags": []
   },
   "outputs": [],
   "source": [
    "new_model = Model(layers[:-2])\n",
    "testing_plot = new_model(testing_data_x)"
   ]
  },
  {
   "cell_type": "code",
   "execution_count": 26,
   "id": "4c0a5485",
   "metadata": {
    "execution": {
     "iopub.execute_input": "2021-10-06T20:10:35.508773Z",
     "iopub.status.busy": "2021-10-06T20:10:35.508124Z",
     "iopub.status.idle": "2021-10-06T20:10:35.771317Z",
     "shell.execute_reply": "2021-10-06T20:10:35.770781Z"
    },
    "papermill": {
     "duration": 0.323897,
     "end_time": "2021-10-06T20:10:35.771484",
     "exception": false,
     "start_time": "2021-10-06T20:10:35.447587",
     "status": "completed"
    },
    "tags": []
   },
   "outputs": [
    {
     "data": {
      "text/plain": [
       "Text(0.5, 1.0, 'Outputs')"
      ]
     },
     "execution_count": 26,
     "metadata": {},
     "output_type": "execute_result"
    },
    {
     "data": {
      "image/png": "[encoded data removed]",
      "text/plain": [
       "<Figure size 576x504 with 1 Axes>"
      ]
     },
     "metadata": {
      "needs_background": "light"
     },
     "output_type": "display_data"
    }
   ],
   "source": [
    "# Plotting the scatter plot of points and color coding by class\n",
    "plt.figure(figsize=(8,7))\n",
    "plt.scatter(testing_plot[:,0], testing_plot[:,1], alpha = 0.1, c = y_test.ravel());\n",
    "plt.title('Outputs')"
   ]
  },
  {
   "cell_type": "markdown",
   "id": "a74fcf8f",
   "metadata": {
    "papermill": {
     "duration": 0.055407,
     "end_time": "2021-10-06T20:10:35.884649",
     "exception": false,
     "start_time": "2021-10-06T20:10:35.829242",
     "status": "completed"
    },
    "tags": []
   },
   "source": [
    "Probability contours"
   ]
  },
  {
   "cell_type": "code",
   "execution_count": 27,
   "id": "d0afc8e3",
   "metadata": {
    "execution": {
     "iopub.execute_input": "2021-10-06T20:10:35.996926Z",
     "iopub.status.busy": "2021-10-06T20:10:35.996303Z",
     "iopub.status.idle": "2021-10-06T20:10:36.007049Z",
     "shell.execute_reply": "2021-10-06T20:10:36.007548Z"
    },
    "papermill": {
     "duration": 0.069981,
     "end_time": "2021-10-06T20:10:36.007684",
     "exception": false,
     "start_time": "2021-10-06T20:10:35.937703",
     "status": "completed"
    },
    "tags": []
   },
   "outputs": [],
   "source": [
    "model_prob = Model(layers[-2:]) "
   ]
  },
  {
   "cell_type": "code",
   "execution_count": 28,
   "id": "9b96e238",
   "metadata": {
    "execution": {
     "iopub.execute_input": "2021-10-06T20:10:36.119748Z",
     "iopub.status.busy": "2021-10-06T20:10:36.119145Z",
     "iopub.status.idle": "2021-10-06T20:10:36.134430Z",
     "shell.execute_reply": "2021-10-06T20:10:36.134866Z"
    },
    "papermill": {
     "duration": 0.073988,
     "end_time": "2021-10-06T20:10:36.135005",
     "exception": false,
     "start_time": "2021-10-06T20:10:36.061017",
     "status": "completed"
    },
    "tags": []
   },
   "outputs": [],
   "source": [
    "#creating the x and y ranges according to the above generated plot.\n",
    "x_range = np.linspace(-4, 1, 100) \n",
    "y_range = np.linspace(-6, 6, 100) \n",
    "x_grid, y_grid = np.meshgrid(x_range, y_range) # x_grid and y_grig are of size 100 X 100\n",
    "\n",
    "# converting x_grid and y_grid to continuous arrays\n",
    "x_gridflat = np.ravel(x_grid)\n",
    "y_gridflat = np.ravel(y_grid)\n",
    "\n",
    "# The last layer of the current model takes two columns as input. Hence transpose of np.vstack() is required.\n",
    "X = np.vstack((x_gridflat, y_gridflat)).T\n",
    "\n",
    "prob_contour = model_prob(X).reshape(100,100) "
   ]
  },
  {
   "cell_type": "code",
   "execution_count": 29,
   "id": "da72499a",
   "metadata": {
    "execution": {
     "iopub.execute_input": "2021-10-06T20:10:36.285883Z",
     "iopub.status.busy": "2021-10-06T20:10:36.285202Z",
     "iopub.status.idle": "2021-10-06T20:10:36.624385Z",
     "shell.execute_reply": "2021-10-06T20:10:36.624904Z"
    },
    "papermill": {
     "duration": 0.40244,
     "end_time": "2021-10-06T20:10:36.625075",
     "exception": false,
     "start_time": "2021-10-06T20:10:36.222635",
     "status": "completed"
    },
    "tags": []
   },
   "outputs": [
    {
     "data": {
      "image/png": "[encoded data removed]",
      "text/plain": [
       "<Figure size 720x648 with 1 Axes>"
      ]
     },
     "metadata": {
      "needs_background": "light"
     },
     "output_type": "display_data"
    }
   ],
   "source": [
    "plt.figure(figsize=(10,9))\n",
    "plt.scatter(testing_plot[:,0], testing_plot[:,1], alpha = 0.1, c = y_test.ravel())\n",
    "contours = plt.contour(x_grid,y_grid,prob_contour)\n",
    "plt.title('Probability Contours')\n",
    "plt.clabel(contours, inline = True );"
   ]
  },
  {
   "cell_type": "code",
   "execution_count": null,
   "id": "e81b4ac7",
   "metadata": {
    "papermill": {
     "duration": 0.059126,
     "end_time": "2021-10-06T20:10:36.739485",
     "exception": false,
     "start_time": "2021-10-06T20:10:36.680359",
     "status": "completed"
    },
    "tags": []
   },
   "outputs": [],
   "source": []
  }
 ],
 "metadata": {
  "kernelspec": {
   "display_name": "Python 3",
   "language": "python",
   "name": "python3"
  },
  "language_info": {
   "codemirror_mode": {
    "name": "ipython",
    "version": 3
   },
   "file_extension": ".py",
   "mimetype": "text/x-python",
   "name": "python",
   "nbconvert_exporter": "python",
   "pygments_lexer": "ipython3",
   "version": "3.6.15"
  },
  "papermill": {
   "default_parameters": {},
   "duration": 176.368568,
   "end_time": "2021-10-06T20:10:37.202522",
   "environment_variables": {},
   "exception": null,
   "input_path": "2020-08-11-part2.ipynb",
   "output_path": "2020-08-11-part2.ipynb",
   "parameters": {},
   "start_time": "2021-10-06T20:07:40.833954",
   "version": "2.3.3"
  }
 },
 "nbformat": 4,
 "nbformat_minor": 5
}