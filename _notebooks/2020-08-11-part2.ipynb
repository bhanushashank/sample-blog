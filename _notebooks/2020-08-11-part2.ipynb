{
 "cells": [
  {
   "cell_type": "markdown",
   "id": "98380cd3",
   "metadata": {
    "papermill": {
     "duration": 0.034878,
     "end_time": "2021-11-23T00:23:07.833226",
     "exception": false,
     "start_time": "2021-11-23T00:23:07.798348",
     "status": "completed"
    },
    "tags": []
   },
   "source": [
    "# Distinguish Your Own Digits (DYOD)"
   ]
  },
  {
   "cell_type": "markdown",
   "id": "ef31240d",
   "metadata": {
    "papermill": {
     "duration": 0.029327,
     "end_time": "2021-11-23T00:23:07.891114",
     "exception": false,
     "start_time": "2021-11-23T00:23:07.861787",
     "status": "completed"
    },
    "tags": []
   },
   "source": [
    "You are going to write a classifier that distinguishes between the number 3 and number 8."
   ]
  },
  {
   "cell_type": "code",
   "execution_count": 1,
   "id": "b15c8646",
   "metadata": {
    "execution": {
     "iopub.execute_input": "2021-11-23T00:23:07.961030Z",
     "iopub.status.busy": "2021-11-23T00:23:07.960265Z",
     "iopub.status.idle": "2021-11-23T00:23:07.973029Z",
     "shell.execute_reply": "2021-11-23T00:23:07.972500Z"
    },
    "papermill": {
     "duration": 0.051977,
     "end_time": "2021-11-23T00:23:07.973201",
     "exception": false,
     "start_time": "2021-11-23T00:23:07.921224",
     "status": "completed"
    },
    "tags": []
   },
   "outputs": [],
   "source": [
    "%load_ext autoreload\n",
    "%autoreload 2"
   ]
  },
  {
   "cell_type": "code",
   "execution_count": 2,
   "id": "22ef38dc",
   "metadata": {
    "execution": {
     "iopub.execute_input": "2021-11-23T00:23:08.038622Z",
     "iopub.status.busy": "2021-11-23T00:23:08.037897Z",
     "iopub.status.idle": "2021-11-23T00:23:08.765109Z",
     "shell.execute_reply": "2021-11-23T00:23:08.764556Z"
    },
    "papermill": {
     "duration": 0.764461,
     "end_time": "2021-11-23T00:23:08.765313",
     "exception": false,
     "start_time": "2021-11-23T00:23:08.000852",
     "status": "completed"
    },
    "tags": []
   },
   "outputs": [],
   "source": [
    "%matplotlib inline\n",
    "import numpy as np\n",
    "import matplotlib.pyplot as plt\n",
    "import pandas as pd"
   ]
  },
  {
   "cell_type": "markdown",
   "id": "ba036198",
   "metadata": {
    "papermill": {
     "duration": 0.031052,
     "end_time": "2021-11-23T00:23:08.827365",
     "exception": false,
     "start_time": "2021-11-23T00:23:08.796313",
     "status": "completed"
    },
    "tags": []
   },
   "source": [
    "From the command line run `pip install mnist`. This is a library that will help you bring down the mnist dataset. If you run this from a notebook, you need to put  `!pip install mnist` in a cell by itself."
   ]
  },
  {
   "cell_type": "code",
   "execution_count": 3,
   "id": "bb6ad8a1",
   "metadata": {
    "execution": {
     "iopub.execute_input": "2021-11-23T00:23:08.892886Z",
     "iopub.status.busy": "2021-11-23T00:23:08.892285Z",
     "iopub.status.idle": "2021-11-23T00:23:10.962670Z",
     "shell.execute_reply": "2021-11-23T00:23:10.963377Z"
    },
    "papermill": {
     "duration": 2.105918,
     "end_time": "2021-11-23T00:23:10.963565",
     "exception": false,
     "start_time": "2021-11-23T00:23:08.857647",
     "status": "completed"
    },
    "tags": []
   },
   "outputs": [
    {
     "name": "stdout",
     "output_type": "stream",
     "text": [
      "Collecting mnist\r\n"
     ]
    },
    {
     "name": "stdout",
     "output_type": "stream",
     "text": [
      "  Downloading mnist-0.2.2-py2.py3-none-any.whl (3.5 kB)\r\n",
      "Requirement already satisfied: numpy in /opt/hostedtoolcache/Python/3.6.15/x64/lib/python3.6/site-packages (from mnist) (1.19.5)\r\n"
     ]
    },
    {
     "name": "stdout",
     "output_type": "stream",
     "text": [
      "Installing collected packages: mnist\r\n"
     ]
    },
    {
     "name": "stdout",
     "output_type": "stream",
     "text": [
      "Successfully installed mnist-0.2.2\r\n"
     ]
    }
   ],
   "source": [
    "!pip install mnist"
   ]
  },
  {
   "cell_type": "markdown",
   "id": "69df9c9a",
   "metadata": {
    "papermill": {
     "duration": 0.032729,
     "end_time": "2021-11-23T00:23:11.028478",
     "exception": false,
     "start_time": "2021-11-23T00:23:10.995749",
     "status": "completed"
    },
    "tags": []
   },
   "source": [
    "## Preparing the Data"
   ]
  },
  {
   "cell_type": "code",
   "execution_count": 4,
   "id": "7f69d806",
   "metadata": {
    "execution": {
     "iopub.execute_input": "2021-11-23T00:23:11.098310Z",
     "iopub.status.busy": "2021-11-23T00:23:11.097517Z",
     "iopub.status.idle": "2021-11-23T00:23:11.115510Z",
     "shell.execute_reply": "2021-11-23T00:23:11.116071Z"
    },
    "papermill": {
     "duration": 0.054911,
     "end_time": "2021-11-23T00:23:11.116234",
     "exception": false,
     "start_time": "2021-11-23T00:23:11.061323",
     "status": "completed"
    },
    "tags": []
   },
   "outputs": [],
   "source": [
    "import mnist"
   ]
  },
  {
   "cell_type": "code",
   "execution_count": 5,
   "id": "a411e44f",
   "metadata": {
    "execution": {
     "iopub.execute_input": "2021-11-23T00:23:11.188359Z",
     "iopub.status.busy": "2021-11-23T00:23:11.185415Z",
     "iopub.status.idle": "2021-11-23T00:23:11.992915Z",
     "shell.execute_reply": "2021-11-23T00:23:11.993413Z"
    },
    "papermill": {
     "duration": 0.843934,
     "end_time": "2021-11-23T00:23:11.993598",
     "exception": false,
     "start_time": "2021-11-23T00:23:11.149664",
     "status": "completed"
    },
    "tags": []
   },
   "outputs": [],
   "source": [
    "train_images = mnist.train_images()\n",
    "train_labels = mnist.train_labels()"
   ]
  },
  {
   "cell_type": "code",
   "execution_count": 6,
   "id": "dceab3a5",
   "metadata": {
    "execution": {
     "iopub.execute_input": "2021-11-23T00:23:12.066562Z",
     "iopub.status.busy": "2021-11-23T00:23:12.065846Z",
     "iopub.status.idle": "2021-11-23T00:23:12.083715Z",
     "shell.execute_reply": "2021-11-23T00:23:12.084370Z"
    },
    "papermill": {
     "duration": 0.057203,
     "end_time": "2021-11-23T00:23:12.084543",
     "exception": false,
     "start_time": "2021-11-23T00:23:12.027340",
     "status": "completed"
    },
    "tags": []
   },
   "outputs": [
    {
     "data": {
      "text/plain": [
       "((60000, 28, 28), (60000,))"
      ]
     },
     "execution_count": 6,
     "metadata": {},
     "output_type": "execute_result"
    }
   ],
   "source": [
    "train_images.shape, train_labels.shape"
   ]
  },
  {
   "cell_type": "code",
   "execution_count": 7,
   "id": "f50dc2bb",
   "metadata": {
    "execution": {
     "iopub.execute_input": "2021-11-23T00:23:12.155982Z",
     "iopub.status.busy": "2021-11-23T00:23:12.155274Z",
     "iopub.status.idle": "2021-11-23T00:23:12.313733Z",
     "shell.execute_reply": "2021-11-23T00:23:12.313137Z"
    },
    "papermill": {
     "duration": 0.197005,
     "end_time": "2021-11-23T00:23:12.313889",
     "exception": false,
     "start_time": "2021-11-23T00:23:12.116884",
     "status": "completed"
    },
    "tags": []
   },
   "outputs": [],
   "source": [
    "test_images = mnist.test_images()\n",
    "test_labels = mnist.test_labels()"
   ]
  },
  {
   "cell_type": "code",
   "execution_count": 8,
   "id": "fc38cf1b",
   "metadata": {
    "execution": {
     "iopub.execute_input": "2021-11-23T00:23:12.384694Z",
     "iopub.status.busy": "2021-11-23T00:23:12.384035Z",
     "iopub.status.idle": "2021-11-23T00:23:12.399023Z",
     "shell.execute_reply": "2021-11-23T00:23:12.399656Z"
    },
    "papermill": {
     "duration": 0.05291,
     "end_time": "2021-11-23T00:23:12.399820",
     "exception": false,
     "start_time": "2021-11-23T00:23:12.346910",
     "status": "completed"
    },
    "tags": []
   },
   "outputs": [
    {
     "data": {
      "text/plain": [
       "((10000, 28, 28), (10000,))"
      ]
     },
     "execution_count": 8,
     "metadata": {},
     "output_type": "execute_result"
    }
   ],
   "source": [
    "test_images.shape, test_labels.shape"
   ]
  },
  {
   "cell_type": "code",
   "execution_count": 9,
   "id": "f9ed8fe0",
   "metadata": {
    "execution": {
     "iopub.execute_input": "2021-11-23T00:23:12.467965Z",
     "iopub.status.busy": "2021-11-23T00:23:12.467261Z",
     "iopub.status.idle": "2021-11-23T00:23:12.670097Z",
     "shell.execute_reply": "2021-11-23T00:23:12.670593Z"
    },
    "papermill": {
     "duration": 0.238519,
     "end_time": "2021-11-23T00:23:12.670773",
     "exception": false,
     "start_time": "2021-11-23T00:23:12.432254",
     "status": "completed"
    },
    "tags": []
   },
   "outputs": [
    {
     "name": "stdout",
     "output_type": "stream",
     "text": [
      "2\n"
     ]
    },
    {
     "data": {
      "text/plain": [
       "<matplotlib.image.AxesImage at 0x7f0d5b215198>"
      ]
     },
     "execution_count": 9,
     "metadata": {},
     "output_type": "execute_result"
    },
    {
     "data": {
      "image/png": "[encoded data removed]",
      "text/plain": [
       "<Figure size 432x288 with 1 Axes>"
      ]
     },
     "metadata": {
      "needs_background": "light"
     },
     "output_type": "display_data"
    }
   ],
   "source": [
    "image_index = 7776 # You may select anything up to 60,000\n",
    "print(train_labels[image_index]) \n",
    "plt.imshow(train_images[image_index], cmap='Greys')"
   ]
  },
  {
   "cell_type": "markdown",
   "id": "a8d2388d",
   "metadata": {
    "papermill": {
     "duration": 0.035741,
     "end_time": "2021-11-23T00:23:12.740788",
     "exception": false,
     "start_time": "2021-11-23T00:23:12.705047",
     "status": "completed"
    },
    "tags": []
   },
   "source": [
    "## Filter data to get 3 and 8 out"
   ]
  },
  {
   "cell_type": "code",
   "execution_count": 10,
   "id": "776f7fc7",
   "metadata": {
    "execution": {
     "iopub.execute_input": "2021-11-23T00:23:12.817146Z",
     "iopub.status.busy": "2021-11-23T00:23:12.811097Z",
     "iopub.status.idle": "2021-11-23T00:23:12.833847Z",
     "shell.execute_reply": "2021-11-23T00:23:12.833330Z"
    },
    "papermill": {
     "duration": 0.059929,
     "end_time": "2021-11-23T00:23:12.833984",
     "exception": false,
     "start_time": "2021-11-23T00:23:12.774055",
     "status": "completed"
    },
    "tags": []
   },
   "outputs": [],
   "source": [
    "train_filter = np.where((train_labels == 3 ) | (train_labels == 8))\n",
    "test_filter = np.where((test_labels == 3) | (test_labels == 8))\n",
    "X_train, y_train = train_images[train_filter], train_labels[train_filter]\n",
    "X_test, y_test = test_images[test_filter], test_labels[test_filter]"
   ]
  },
  {
   "cell_type": "markdown",
   "id": "948f0b7e",
   "metadata": {
    "papermill": {
     "duration": 0.033962,
     "end_time": "2021-11-23T00:23:12.900073",
     "exception": false,
     "start_time": "2021-11-23T00:23:12.866111",
     "status": "completed"
    },
    "tags": []
   },
   "source": [
    "We normalize the pizel values in the 0 to 1 range"
   ]
  },
  {
   "cell_type": "code",
   "execution_count": 11,
   "id": "ee4c2166",
   "metadata": {
    "execution": {
     "iopub.execute_input": "2021-11-23T00:23:12.969442Z",
     "iopub.status.busy": "2021-11-23T00:23:12.968745Z",
     "iopub.status.idle": "2021-11-23T00:23:13.035771Z",
     "shell.execute_reply": "2021-11-23T00:23:13.034548Z"
    },
    "papermill": {
     "duration": 0.103321,
     "end_time": "2021-11-23T00:23:13.035905",
     "exception": false,
     "start_time": "2021-11-23T00:23:12.932584",
     "status": "completed"
    },
    "tags": []
   },
   "outputs": [],
   "source": [
    "X_train = X_train/255.\n",
    "X_test = X_test/255."
   ]
  },
  {
   "cell_type": "markdown",
   "id": "ddcf4fab",
   "metadata": {
    "papermill": {
     "duration": 0.03582,
     "end_time": "2021-11-23T00:23:13.104131",
     "exception": false,
     "start_time": "2021-11-23T00:23:13.068311",
     "status": "completed"
    },
    "tags": []
   },
   "source": [
    "And setup the labels as 1 (when the digit is 3) and 0 (when the digit is 8)"
   ]
  },
  {
   "cell_type": "code",
   "execution_count": 12,
   "id": "7dc908f2",
   "metadata": {
    "execution": {
     "iopub.execute_input": "2021-11-23T00:23:13.180386Z",
     "iopub.status.busy": "2021-11-23T00:23:13.176448Z",
     "iopub.status.idle": "2021-11-23T00:23:13.191740Z",
     "shell.execute_reply": "2021-11-23T00:23:13.191017Z"
    },
    "papermill": {
     "duration": 0.053404,
     "end_time": "2021-11-23T00:23:13.191891",
     "exception": false,
     "start_time": "2021-11-23T00:23:13.138487",
     "status": "completed"
    },
    "tags": []
   },
   "outputs": [],
   "source": [
    "y_train = 1*(y_train==3)\n",
    "y_test = 1*(y_test==3)"
   ]
  },
  {
   "cell_type": "code",
   "execution_count": 13,
   "id": "01e4e969",
   "metadata": {
    "execution": {
     "iopub.execute_input": "2021-11-23T00:23:13.264098Z",
     "iopub.status.busy": "2021-11-23T00:23:13.263431Z",
     "iopub.status.idle": "2021-11-23T00:23:13.278718Z",
     "shell.execute_reply": "2021-11-23T00:23:13.278146Z"
    },
    "papermill": {
     "duration": 0.052342,
     "end_time": "2021-11-23T00:23:13.278871",
     "exception": false,
     "start_time": "2021-11-23T00:23:13.226529",
     "status": "completed"
    },
    "tags": []
   },
   "outputs": [
    {
     "data": {
      "text/plain": [
       "((11982, 28, 28), (1984, 28, 28))"
      ]
     },
     "execution_count": 13,
     "metadata": {},
     "output_type": "execute_result"
    }
   ],
   "source": [
    "X_train.shape, X_test.shape"
   ]
  },
  {
   "cell_type": "markdown",
   "id": "5ccf3f85",
   "metadata": {
    "papermill": {
     "duration": 0.033632,
     "end_time": "2021-11-23T00:23:13.348110",
     "exception": false,
     "start_time": "2021-11-23T00:23:13.314478",
     "status": "completed"
    },
    "tags": []
   },
   "source": [
    "We reshape the data to flatten the image pixels into a set of features or co-variates:"
   ]
  },
  {
   "cell_type": "code",
   "execution_count": 14,
   "id": "5286a4a3",
   "metadata": {
    "execution": {
     "iopub.execute_input": "2021-11-23T00:23:13.427130Z",
     "iopub.status.busy": "2021-11-23T00:23:13.426451Z",
     "iopub.status.idle": "2021-11-23T00:23:13.442034Z",
     "shell.execute_reply": "2021-11-23T00:23:13.441480Z"
    },
    "papermill": {
     "duration": 0.05594,
     "end_time": "2021-11-23T00:23:13.442241",
     "exception": false,
     "start_time": "2021-11-23T00:23:13.386301",
     "status": "completed"
    },
    "tags": []
   },
   "outputs": [
    {
     "data": {
      "text/plain": [
       "((11982, 784), (1984, 784))"
      ]
     },
     "execution_count": 14,
     "metadata": {},
     "output_type": "execute_result"
    }
   ],
   "source": [
    "X_train = X_train.reshape(X_train.shape[0], -1)\n",
    "X_test = X_test.reshape(X_test.shape[0], -1)\n",
    "X_train.shape, X_test.shape"
   ]
  },
  {
   "cell_type": "code",
   "execution_count": 15,
   "id": "73c5f88a",
   "metadata": {
    "execution": {
     "iopub.execute_input": "2021-11-23T00:23:13.520355Z",
     "iopub.status.busy": "2021-11-23T00:23:13.519594Z",
     "iopub.status.idle": "2021-11-23T00:23:13.541907Z",
     "shell.execute_reply": "2021-11-23T00:23:13.541361Z"
    },
    "papermill": {
     "duration": 0.063928,
     "end_time": "2021-11-23T00:23:13.542050",
     "exception": false,
     "start_time": "2021-11-23T00:23:13.478122",
     "status": "completed"
    },
    "tags": []
   },
   "outputs": [],
   "source": [
    "#Impoting functions from 'Kudzu'\n",
    "from kudzu.model import Model\n",
    "from kudzu.train import Learner\n",
    "from kudzu.optim import GD\n",
    "from kudzu.data import Data, Sampler,Dataloader\n",
    "\n",
    "from kudzu.callbacks import AccCallback\n",
    "from kudzu.callbacks import ClfCallback\n",
    "\n",
    "from kudzu.loss import MSE\n",
    "\n",
    "from kudzu.layer import Sigmoid,Relu\n",
    "from kudzu.layer import Affine"
   ]
  },
  {
   "cell_type": "markdown",
   "id": "bc01172a",
   "metadata": {
    "papermill": {
     "duration": 0.035032,
     "end_time": "2021-11-23T00:23:13.611602",
     "exception": false,
     "start_time": "2021-11-23T00:23:13.576570",
     "status": "completed"
    },
    "tags": []
   },
   "source": [
    "### Let us create a `Config` class, to store important parameters. \n",
    "This class essentially plays the role of a dictionary."
   ]
  },
  {
   "cell_type": "code",
   "execution_count": 16,
   "id": "978281aa",
   "metadata": {
    "execution": {
     "iopub.execute_input": "2021-11-23T00:23:13.684887Z",
     "iopub.status.busy": "2021-11-23T00:23:13.684090Z",
     "iopub.status.idle": "2021-11-23T00:23:13.699005Z",
     "shell.execute_reply": "2021-11-23T00:23:13.699628Z"
    },
    "papermill": {
     "duration": 0.054867,
     "end_time": "2021-11-23T00:23:13.699790",
     "exception": false,
     "start_time": "2021-11-23T00:23:13.644923",
     "status": "completed"
    },
    "tags": []
   },
   "outputs": [],
   "source": [
    "class Config:\n",
    "    pass\n",
    "config = Config()\n",
    "config.lr = 0.001\n",
    "config.num_epochs = 250\n",
    "config.bs = 50"
   ]
  },
  {
   "cell_type": "markdown",
   "id": "1385fa59",
   "metadata": {
    "papermill": {
     "duration": 0.033781,
     "end_time": "2021-11-23T00:23:13.768202",
     "exception": false,
     "start_time": "2021-11-23T00:23:13.734421",
     "status": "completed"
    },
    "tags": []
   },
   "source": [
    "### Running Models with the Training data\n",
    "Details about the network layers:\n",
    "- A first affine layer has 784 inputs and does 100 affine transforms. These are followed by a Relu\n",
    "- A second affine layer has 100 inputs from the 100 activations of the past layer, and does 100 affine transforms. These are followed by a Relu\n",
    "- A third affine layer has 100 activations and does 2 affine transformations to create an embedding for visualization. There is no non-linearity here.\n",
    "- A final \"logistic regression\" which has an affine transform from 2 inputs to 1 output, which is squeezed through a sigmoid.\n"
   ]
  },
  {
   "cell_type": "code",
   "execution_count": 17,
   "id": "2b9c66db",
   "metadata": {
    "execution": {
     "iopub.execute_input": "2021-11-23T00:23:13.842931Z",
     "iopub.status.busy": "2021-11-23T00:23:13.842214Z",
     "iopub.status.idle": "2021-11-23T00:23:13.856391Z",
     "shell.execute_reply": "2021-11-23T00:23:13.855796Z"
    },
    "papermill": {
     "duration": 0.052354,
     "end_time": "2021-11-23T00:23:13.856523",
     "exception": false,
     "start_time": "2021-11-23T00:23:13.804169",
     "status": "completed"
    },
    "tags": []
   },
   "outputs": [],
   "source": [
    "data = Data(X_train, y_train.reshape(-1,1))\n",
    "sampler = Sampler(data, config.bs, shuffle=True)\n",
    "\n",
    "dl = Dataloader(data, sampler)\n",
    "\n",
    "opt = GD(config.lr)\n",
    "loss = MSE()"
   ]
  },
  {
   "cell_type": "code",
   "execution_count": 18,
   "id": "b275e4c2",
   "metadata": {
    "execution": {
     "iopub.execute_input": "2021-11-23T00:23:13.944772Z",
     "iopub.status.busy": "2021-11-23T00:23:13.944072Z",
     "iopub.status.idle": "2021-11-23T00:23:13.950639Z",
     "shell.execute_reply": "2021-11-23T00:23:13.950006Z"
    },
    "papermill": {
     "duration": 0.057893,
     "end_time": "2021-11-23T00:23:13.950779",
     "exception": false,
     "start_time": "2021-11-23T00:23:13.892886",
     "status": "completed"
    },
    "tags": []
   },
   "outputs": [],
   "source": [
    "training_data_x = X_train\n",
    "testing_data_x = X_test\n",
    "training_data_y = y_train.reshape(-1,1)\n",
    "testing_data_y = y_test.reshape(-1,1)"
   ]
  },
  {
   "cell_type": "code",
   "execution_count": 19,
   "id": "76951160",
   "metadata": {
    "execution": {
     "iopub.execute_input": "2021-11-23T00:23:14.028384Z",
     "iopub.status.busy": "2021-11-23T00:23:14.027662Z",
     "iopub.status.idle": "2021-11-23T00:23:14.046590Z",
     "shell.execute_reply": "2021-11-23T00:23:14.045999Z"
    },
    "papermill": {
     "duration": 0.060841,
     "end_time": "2021-11-23T00:23:14.046727",
     "exception": false,
     "start_time": "2021-11-23T00:23:13.985886",
     "status": "completed"
    },
    "tags": []
   },
   "outputs": [
    {
     "name": "stdout",
     "output_type": "stream",
     "text": [
      "xavier\n",
      "xavier\n",
      "xavier\n",
      "xavier\n",
      "xavier\n"
     ]
    }
   ],
   "source": [
    "layers = [Affine(\"first\", 784, 100), Relu(\"first\"), Affine(\"second\", 100, 100), Relu(\"second\"), Affine(\"third\", 100, 2), Affine(\"last\", 2, 1), Sigmoid(\"last\")]\n",
    "model_nn = Model(layers)\n",
    "model_lr = Model([Affine(\"logits\", 784, 1), Sigmoid(\"sigmoid\")])"
   ]
  },
  {
   "cell_type": "code",
   "execution_count": 20,
   "id": "6eede77a",
   "metadata": {
    "execution": {
     "iopub.execute_input": "2021-11-23T00:23:14.124721Z",
     "iopub.status.busy": "2021-11-23T00:23:14.124093Z",
     "iopub.status.idle": "2021-11-23T00:23:14.137018Z",
     "shell.execute_reply": "2021-11-23T00:23:14.137586Z"
    },
    "papermill": {
     "duration": 0.055028,
     "end_time": "2021-11-23T00:23:14.137759",
     "exception": false,
     "start_time": "2021-11-23T00:23:14.082731",
     "status": "completed"
    },
    "tags": []
   },
   "outputs": [],
   "source": [
    "nn_learner = Learner(loss, model_nn, opt, config.num_epochs)\n",
    "acc_nn = ClfCallback(nn_learner, config.bs, training_data_x , testing_data_x, training_data_y, testing_data_y)\n",
    "nn_learner.set_callbacks([acc_nn])"
   ]
  },
  {
   "cell_type": "code",
   "execution_count": 21,
   "id": "877b6cc7",
   "metadata": {
    "execution": {
     "iopub.execute_input": "2021-11-23T00:23:14.212215Z",
     "iopub.status.busy": "2021-11-23T00:23:14.211559Z",
     "iopub.status.idle": "2021-11-23T00:23:14.225806Z",
     "shell.execute_reply": "2021-11-23T00:23:14.225186Z"
    },
    "papermill": {
     "duration": 0.054376,
     "end_time": "2021-11-23T00:23:14.225962",
     "exception": false,
     "start_time": "2021-11-23T00:23:14.171586",
     "status": "completed"
    },
    "tags": []
   },
   "outputs": [],
   "source": [
    "lr_learner = Learner(loss, model_lr, opt, config.num_epochs)\n",
    "acc_lr = ClfCallback(lr_learner, config.bs, training_data_x , testing_data_x, training_data_y, testing_data_y)\n",
    "lr_learner.set_callbacks([acc_lr])"
   ]
  },
  {
   "cell_type": "code",
   "execution_count": 22,
   "id": "d9b133c3",
   "metadata": {
    "execution": {
     "iopub.execute_input": "2021-11-23T00:23:14.312734Z",
     "iopub.status.busy": "2021-11-23T00:23:14.305067Z",
     "iopub.status.idle": "2021-11-23T00:25:37.106253Z",
     "shell.execute_reply": "2021-11-23T00:25:37.107157Z"
    },
    "papermill": {
     "duration": 142.845588,
     "end_time": "2021-11-23T00:25:37.107377",
     "exception": false,
     "start_time": "2021-11-23T00:23:14.261789",
     "status": "completed"
    },
    "tags": []
   },
   "outputs": [
    {
     "name": "stdout",
     "output_type": "stream",
     "text": [
      "Epoch 0, Loss 0.2019\n",
      "Training Accuracy: 0.8398, Testing Accuracy: 0.8463\n",
      "\n"
     ]
    },
    {
     "name": "stdout",
     "output_type": "stream",
     "text": [
      "Epoch 10, Loss 0.0568\n",
      "Training Accuracy: 0.9401, Testing Accuracy: 0.9551\n",
      "\n"
     ]
    },
    {
     "name": "stdout",
     "output_type": "stream",
     "text": [
      "Epoch 20, Loss 0.041\n",
      "Training Accuracy: 0.9555, Testing Accuracy: 0.9627\n",
      "\n"
     ]
    },
    {
     "name": "stdout",
     "output_type": "stream",
     "text": [
      "Epoch 30, Loss 0.0344\n",
      "Training Accuracy: 0.9607, Testing Accuracy: 0.9677\n",
      "\n"
     ]
    },
    {
     "name": "stdout",
     "output_type": "stream",
     "text": [
      "Epoch 40, Loss 0.0306\n",
      "Training Accuracy: 0.9649, Testing Accuracy: 0.9713\n",
      "\n"
     ]
    },
    {
     "name": "stdout",
     "output_type": "stream",
     "text": [
      "Epoch 50, Loss 0.0281\n",
      "Training Accuracy: 0.9680, Testing Accuracy: 0.9718\n",
      "\n"
     ]
    },
    {
     "name": "stdout",
     "output_type": "stream",
     "text": [
      "Epoch 60, Loss 0.0262\n",
      "Training Accuracy: 0.9701, Testing Accuracy: 0.9713\n",
      "\n"
     ]
    },
    {
     "name": "stdout",
     "output_type": "stream",
     "text": [
      "Epoch 70, Loss 0.0247\n",
      "Training Accuracy: 0.9723, Testing Accuracy: 0.9713\n",
      "\n"
     ]
    },
    {
     "name": "stdout",
     "output_type": "stream",
     "text": [
      "Epoch 80, Loss 0.0236\n",
      "Training Accuracy: 0.9736, Testing Accuracy: 0.9728\n",
      "\n"
     ]
    },
    {
     "name": "stdout",
     "output_type": "stream",
     "text": [
      "Epoch 90, Loss 0.0225\n",
      "Training Accuracy: 0.9743, Testing Accuracy: 0.9718\n",
      "\n"
     ]
    },
    {
     "name": "stdout",
     "output_type": "stream",
     "text": [
      "Epoch 100, Loss 0.0216\n",
      "Training Accuracy: 0.9755, Testing Accuracy: 0.9718\n",
      "\n"
     ]
    },
    {
     "name": "stdout",
     "output_type": "stream",
     "text": [
      "Epoch 110, Loss 0.0208\n",
      "Training Accuracy: 0.9768, Testing Accuracy: 0.9738\n",
      "\n"
     ]
    },
    {
     "name": "stdout",
     "output_type": "stream",
     "text": [
      "Epoch 120, Loss 0.0201\n",
      "Training Accuracy: 0.9778, Testing Accuracy: 0.9738\n",
      "\n"
     ]
    },
    {
     "name": "stdout",
     "output_type": "stream",
     "text": [
      "Epoch 130, Loss 0.0194\n",
      "Training Accuracy: 0.9783, Testing Accuracy: 0.9753\n",
      "\n"
     ]
    },
    {
     "name": "stdout",
     "output_type": "stream",
     "text": [
      "Epoch 140, Loss 0.0188\n",
      "Training Accuracy: 0.9790, Testing Accuracy: 0.9758\n",
      "\n"
     ]
    },
    {
     "name": "stdout",
     "output_type": "stream",
     "text": [
      "Epoch 150, Loss 0.0182\n",
      "Training Accuracy: 0.9798, Testing Accuracy: 0.9768\n",
      "\n"
     ]
    },
    {
     "name": "stdout",
     "output_type": "stream",
     "text": [
      "Epoch 160, Loss 0.0176\n",
      "Training Accuracy: 0.9810, Testing Accuracy: 0.9773\n",
      "\n"
     ]
    },
    {
     "name": "stdout",
     "output_type": "stream",
     "text": [
      "Epoch 170, Loss 0.0171\n",
      "Training Accuracy: 0.9818, Testing Accuracy: 0.9773\n",
      "\n"
     ]
    },
    {
     "name": "stdout",
     "output_type": "stream",
     "text": [
      "Epoch 180, Loss 0.0166\n",
      "Training Accuracy: 0.9826, Testing Accuracy: 0.9768\n",
      "\n"
     ]
    },
    {
     "name": "stdout",
     "output_type": "stream",
     "text": [
      "Epoch 190, Loss 0.0161\n",
      "Training Accuracy: 0.9831, Testing Accuracy: 0.9768\n",
      "\n"
     ]
    },
    {
     "name": "stdout",
     "output_type": "stream",
     "text": [
      "Epoch 200, Loss 0.0156\n",
      "Training Accuracy: 0.9838, Testing Accuracy: 0.9783\n",
      "\n"
     ]
    },
    {
     "name": "stdout",
     "output_type": "stream",
     "text": [
      "Epoch 210, Loss 0.0152\n",
      "Training Accuracy: 0.9841, Testing Accuracy: 0.9788\n",
      "\n"
     ]
    },
    {
     "name": "stdout",
     "output_type": "stream",
     "text": [
      "Epoch 220, Loss 0.0147\n",
      "Training Accuracy: 0.9849, Testing Accuracy: 0.9788\n",
      "\n"
     ]
    },
    {
     "name": "stdout",
     "output_type": "stream",
     "text": [
      "Epoch 230, Loss 0.0143\n",
      "Training Accuracy: 0.9852, Testing Accuracy: 0.9788\n",
      "\n"
     ]
    },
    {
     "name": "stdout",
     "output_type": "stream",
     "text": [
      "Epoch 240, Loss 0.0139\n",
      "Training Accuracy: 0.9859, Testing Accuracy: 0.9788\n",
      "\n"
     ]
    },
    {
     "data": {
      "text/plain": [
       "0.01410168850448764"
      ]
     },
     "execution_count": 22,
     "metadata": {},
     "output_type": "execute_result"
    }
   ],
   "source": [
    "nn_learner.train_loop(dl)"
   ]
  },
  {
   "cell_type": "code",
   "execution_count": 23,
   "id": "e0163366",
   "metadata": {
    "execution": {
     "iopub.execute_input": "2021-11-23T00:25:37.208967Z",
     "iopub.status.busy": "2021-11-23T00:25:37.208288Z",
     "iopub.status.idle": "2021-11-23T00:25:57.630584Z",
     "shell.execute_reply": "2021-11-23T00:25:57.631270Z"
    },
    "papermill": {
     "duration": 20.477471,
     "end_time": "2021-11-23T00:25:57.631664",
     "exception": false,
     "start_time": "2021-11-23T00:25:37.154193",
     "status": "completed"
    },
    "tags": []
   },
   "outputs": [
    {
     "name": "stdout",
     "output_type": "stream",
     "text": [
      "Epoch 0, Loss 0.279\n",
      "Training Accuracy: 0.5417, Testing Accuracy: 0.5383\n",
      "\n"
     ]
    },
    {
     "name": "stdout",
     "output_type": "stream",
     "text": [
      "Epoch 10, Loss 0.1055\n",
      "Training Accuracy: 0.9046, Testing Accuracy: 0.9108\n",
      "\n"
     ]
    },
    {
     "name": "stdout",
     "output_type": "stream",
     "text": [
      "Epoch 20, Loss 0.0797\n",
      "Training Accuracy: 0.9271, Testing Accuracy: 0.9330\n",
      "\n"
     ]
    },
    {
     "name": "stdout",
     "output_type": "stream",
     "text": [
      "Epoch 30, Loss 0.0682\n",
      "Training Accuracy: 0.9367, Testing Accuracy: 0.9466\n",
      "\n"
     ]
    },
    {
     "name": "stdout",
     "output_type": "stream",
     "text": [
      "Epoch 40, Loss 0.0614\n",
      "Training Accuracy: 0.9423, Testing Accuracy: 0.9506\n",
      "\n"
     ]
    },
    {
     "name": "stdout",
     "output_type": "stream",
     "text": [
      "Epoch 50, Loss 0.0568\n",
      "Training Accuracy: 0.9463, Testing Accuracy: 0.9541\n",
      "\n"
     ]
    },
    {
     "name": "stdout",
     "output_type": "stream",
     "text": [
      "Epoch 60, Loss 0.0535\n",
      "Training Accuracy: 0.9488, Testing Accuracy: 0.9567\n",
      "\n"
     ]
    },
    {
     "name": "stdout",
     "output_type": "stream",
     "text": [
      "Epoch 70, Loss 0.0509\n",
      "Training Accuracy: 0.9511, Testing Accuracy: 0.9572\n",
      "\n"
     ]
    },
    {
     "name": "stdout",
     "output_type": "stream",
     "text": [
      "Epoch 80, Loss 0.0489\n",
      "Training Accuracy: 0.9528, Testing Accuracy: 0.9597\n",
      "\n"
     ]
    },
    {
     "name": "stdout",
     "output_type": "stream",
     "text": [
      "Epoch 90, Loss 0.0472\n",
      "Training Accuracy: 0.9537, Testing Accuracy: 0.9612\n",
      "\n"
     ]
    },
    {
     "name": "stdout",
     "output_type": "stream",
     "text": [
      "Epoch 100, Loss 0.0458\n",
      "Training Accuracy: 0.9546, Testing Accuracy: 0.9617\n",
      "\n"
     ]
    },
    {
     "name": "stdout",
     "output_type": "stream",
     "text": [
      "Epoch 110, Loss 0.0446\n",
      "Training Accuracy: 0.9553, Testing Accuracy: 0.9637\n",
      "\n"
     ]
    },
    {
     "name": "stdout",
     "output_type": "stream",
     "text": [
      "Epoch 120, Loss 0.0435\n",
      "Training Accuracy: 0.9560, Testing Accuracy: 0.9642\n",
      "\n"
     ]
    },
    {
     "name": "stdout",
     "output_type": "stream",
     "text": [
      "Epoch 130, Loss 0.0426\n",
      "Training Accuracy: 0.9568, Testing Accuracy: 0.9642\n",
      "\n"
     ]
    },
    {
     "name": "stdout",
     "output_type": "stream",
     "text": [
      "Epoch 140, Loss 0.0418\n",
      "Training Accuracy: 0.9574, Testing Accuracy: 0.9642\n",
      "\n"
     ]
    },
    {
     "name": "stdout",
     "output_type": "stream",
     "text": [
      "Epoch 150, Loss 0.0411\n",
      "Training Accuracy: 0.9574, Testing Accuracy: 0.9647\n",
      "\n"
     ]
    },
    {
     "name": "stdout",
     "output_type": "stream",
     "text": [
      "Epoch 160, Loss 0.0404\n",
      "Training Accuracy: 0.9576, Testing Accuracy: 0.9647\n",
      "\n"
     ]
    },
    {
     "name": "stdout",
     "output_type": "stream",
     "text": [
      "Epoch 170, Loss 0.0398\n",
      "Training Accuracy: 0.9581, Testing Accuracy: 0.9652\n",
      "\n"
     ]
    },
    {
     "name": "stdout",
     "output_type": "stream",
     "text": [
      "Epoch 180, Loss 0.0392\n",
      "Training Accuracy: 0.9587, Testing Accuracy: 0.9657\n",
      "\n"
     ]
    },
    {
     "name": "stdout",
     "output_type": "stream",
     "text": [
      "Epoch 190, Loss 0.0387\n",
      "Training Accuracy: 0.9595, Testing Accuracy: 0.9657\n",
      "\n"
     ]
    },
    {
     "name": "stdout",
     "output_type": "stream",
     "text": [
      "Epoch 200, Loss 0.0383\n",
      "Training Accuracy: 0.9595, Testing Accuracy: 0.9662\n",
      "\n"
     ]
    },
    {
     "name": "stdout",
     "output_type": "stream",
     "text": [
      "Epoch 210, Loss 0.0378\n",
      "Training Accuracy: 0.9600, Testing Accuracy: 0.9662\n",
      "\n"
     ]
    },
    {
     "name": "stdout",
     "output_type": "stream",
     "text": [
      "Epoch 220, Loss 0.0374\n",
      "Training Accuracy: 0.9602, Testing Accuracy: 0.9672\n",
      "\n"
     ]
    },
    {
     "name": "stdout",
     "output_type": "stream",
     "text": [
      "Epoch 230, Loss 0.037\n",
      "Training Accuracy: 0.9603, Testing Accuracy: 0.9677\n",
      "\n"
     ]
    },
    {
     "name": "stdout",
     "output_type": "stream",
     "text": [
      "Epoch 240, Loss 0.0367\n",
      "Training Accuracy: 0.9608, Testing Accuracy: 0.9677\n",
      "\n"
     ]
    },
    {
     "data": {
      "text/plain": [
       "0.014529181658210733"
      ]
     },
     "execution_count": 23,
     "metadata": {},
     "output_type": "execute_result"
    }
   ],
   "source": [
    "lr_learner.train_loop(dl)"
   ]
  },
  {
   "cell_type": "code",
   "execution_count": 24,
   "id": "ca410940",
   "metadata": {
    "execution": {
     "iopub.execute_input": "2021-11-23T00:25:57.745646Z",
     "iopub.status.busy": "2021-11-23T00:25:57.744269Z",
     "iopub.status.idle": "2021-11-23T00:25:58.038444Z",
     "shell.execute_reply": "2021-11-23T00:25:58.037945Z"
    },
    "papermill": {
     "duration": 0.356018,
     "end_time": "2021-11-23T00:25:58.038590",
     "exception": false,
     "start_time": "2021-11-23T00:25:57.682572",
     "status": "completed"
    },
    "tags": []
   },
   "outputs": [
    {
     "data": {
      "text/plain": [
       "<matplotlib.legend.Legend at 0x7f0d5ad75908>"
      ]
     },
     "execution_count": 24,
     "metadata": {},
     "output_type": "execute_result"
    },
    {
     "data": {
      "image/png": "[encoded data removed]",
      "text/plain": [
       "<Figure size 1080x720 with 1 Axes>"
      ]
     },
     "metadata": {
      "needs_background": "light"
     },
     "output_type": "display_data"
    }
   ],
   "source": [
    "#comparing the results of NN and LR\n",
    "plt.figure(figsize=(15,10))\n",
    "\n",
    "# Neural Network plots\n",
    "plt.plot(acc_nn.accuracies, 'r-', label = \"Training Accuracies - NN\")\n",
    "plt.plot(acc_nn.test_accuracies, 'g-', label = \"Testing Accuracies - NN\")\n",
    "\n",
    "# Logistic Regression plots\n",
    "plt.plot(acc_lr.accuracies, 'k-', label = \"Training Accuracies - LR\")\n",
    "plt.plot(acc_lr.test_accuracies, 'b-', label = \"Testing Accuracies - LR\")\n",
    "plt.legend()"
   ]
  },
  {
   "cell_type": "markdown",
   "id": "80dfb35c",
   "metadata": {
    "papermill": {
     "duration": 0.055771,
     "end_time": "2021-11-23T00:25:58.145648",
     "exception": false,
     "start_time": "2021-11-23T00:25:58.089877",
     "status": "completed"
    },
    "tags": []
   },
   "source": [
    "#### Plotting the outputs of this layer of the NN.\n"
   ]
  },
  {
   "cell_type": "code",
   "execution_count": 25,
   "id": "45eb2ff5",
   "metadata": {
    "execution": {
     "iopub.execute_input": "2021-11-23T00:25:58.264161Z",
     "iopub.status.busy": "2021-11-23T00:25:58.263093Z",
     "iopub.status.idle": "2021-11-23T00:25:58.295937Z",
     "shell.execute_reply": "2021-11-23T00:25:58.296513Z"
    },
    "papermill": {
     "duration": 0.096224,
     "end_time": "2021-11-23T00:25:58.296719",
     "exception": false,
     "start_time": "2021-11-23T00:25:58.200495",
     "status": "completed"
    },
    "tags": []
   },
   "outputs": [],
   "source": [
    "new_model = Model(layers[:-2])\n",
    "testing_plot = new_model(testing_data_x)"
   ]
  },
  {
   "cell_type": "code",
   "execution_count": 26,
   "id": "4c0a5485",
   "metadata": {
    "execution": {
     "iopub.execute_input": "2021-11-23T00:25:58.418581Z",
     "iopub.status.busy": "2021-11-23T00:25:58.417874Z",
     "iopub.status.idle": "2021-11-23T00:25:58.669645Z",
     "shell.execute_reply": "2021-11-23T00:25:58.670225Z"
    },
    "papermill": {
     "duration": 0.31625,
     "end_time": "2021-11-23T00:25:58.670389",
     "exception": false,
     "start_time": "2021-11-23T00:25:58.354139",
     "status": "completed"
    },
    "tags": []
   },
   "outputs": [
    {
     "data": {
      "text/plain": [
       "Text(0.5, 1.0, 'Outputs')"
      ]
     },
     "execution_count": 26,
     "metadata": {},
     "output_type": "execute_result"
    },
    {
     "data": {
      "image/png": "[encoded data removed]",
      "text/plain": [
       "<Figure size 576x504 with 1 Axes>"
      ]
     },
     "metadata": {
      "needs_background": "light"
     },
     "output_type": "display_data"
    }
   ],
   "source": [
    "# Plotting the scatter plot of points and color coding by class\n",
    "plt.figure(figsize=(8,7))\n",
    "plt.scatter(testing_plot[:,0], testing_plot[:,1], alpha = 0.1, c = y_test.ravel());\n",
    "plt.title('Outputs')"
   ]
  },
  {
   "cell_type": "markdown",
   "id": "a74fcf8f",
   "metadata": {
    "papermill": {
     "duration": 0.053916,
     "end_time": "2021-11-23T00:25:58.782634",
     "exception": false,
     "start_time": "2021-11-23T00:25:58.728718",
     "status": "completed"
    },
    "tags": []
   },
   "source": [
    "Probability contours"
   ]
  },
  {
   "cell_type": "code",
   "execution_count": 27,
   "id": "d0afc8e3",
   "metadata": {
    "execution": {
     "iopub.execute_input": "2021-11-23T00:25:58.920493Z",
     "iopub.status.busy": "2021-11-23T00:25:58.919743Z",
     "iopub.status.idle": "2021-11-23T00:25:58.934799Z",
     "shell.execute_reply": "2021-11-23T00:25:58.934292Z"
    },
    "papermill": {
     "duration": 0.072374,
     "end_time": "2021-11-23T00:25:58.934929",
     "exception": false,
     "start_time": "2021-11-23T00:25:58.862555",
     "status": "completed"
    },
    "tags": []
   },
   "outputs": [],
   "source": [
    "model_prob = Model(layers[-2:]) "
   ]
  },
  {
   "cell_type": "code",
   "execution_count": 28,
   "id": "9b96e238",
   "metadata": {
    "execution": {
     "iopub.execute_input": "2021-11-23T00:25:59.049207Z",
     "iopub.status.busy": "2021-11-23T00:25:59.048514Z",
     "iopub.status.idle": "2021-11-23T00:25:59.067000Z",
     "shell.execute_reply": "2021-11-23T00:25:59.066359Z"
    },
    "papermill": {
     "duration": 0.079042,
     "end_time": "2021-11-23T00:25:59.067203",
     "exception": false,
     "start_time": "2021-11-23T00:25:58.988161",
     "status": "completed"
    },
    "tags": []
   },
   "outputs": [],
   "source": [
    "#creating the x and y ranges according to the above generated plot.\n",
    "x_range = np.linspace(-4, 1, 100) \n",
    "y_range = np.linspace(-6, 6, 100) \n",
    "x_grid, y_grid = np.meshgrid(x_range, y_range) # x_grid and y_grig are of size 100 X 100\n",
    "\n",
    "# converting x_grid and y_grid to continuous arrays\n",
    "x_gridflat = np.ravel(x_grid)\n",
    "y_gridflat = np.ravel(y_grid)\n",
    "\n",
    "# The last layer of the current model takes two columns as input. Hence transpose of np.vstack() is required.\n",
    "X = np.vstack((x_gridflat, y_gridflat)).T\n",
    "\n",
    "prob_contour = model_prob(X).reshape(100,100) "
   ]
  },
  {
   "cell_type": "code",
   "execution_count": 29,
   "id": "da72499a",
   "metadata": {
    "execution": {
     "iopub.execute_input": "2021-11-23T00:25:59.187186Z",
     "iopub.status.busy": "2021-11-23T00:25:59.186395Z",
     "iopub.status.idle": "2021-11-23T00:25:59.494379Z",
     "shell.execute_reply": "2021-11-23T00:25:59.494847Z"
    },
    "papermill": {
     "duration": 0.372053,
     "end_time": "2021-11-23T00:25:59.494995",
     "exception": false,
     "start_time": "2021-11-23T00:25:59.122942",
     "status": "completed"
    },
    "tags": []
   },
   "outputs": [
    {
     "data": {
      "image/png": "[encoded data removed]",
      "text/plain": [
       "<Figure size 720x648 with 1 Axes>"
      ]
     },
     "metadata": {
      "needs_background": "light"
     },
     "output_type": "display_data"
    }
   ],
   "source": [
    "plt.figure(figsize=(10,9))\n",
    "plt.scatter(testing_plot[:,0], testing_plot[:,1], alpha = 0.1, c = y_test.ravel())\n",
    "contours = plt.contour(x_grid,y_grid,prob_contour)\n",
    "plt.title('Probability Contours')\n",
    "plt.clabel(contours, inline = True );"
   ]
  },
  {
   "cell_type": "code",
   "execution_count": null,
   "id": "e81b4ac7",
   "metadata": {
    "papermill": {
     "duration": 0.053095,
     "end_time": "2021-11-23T00:25:59.602261",
     "exception": false,
     "start_time": "2021-11-23T00:25:59.549166",
     "status": "completed"
    },
    "tags": []
   },
   "outputs": [],
   "source": []
  }
 ],
 "metadata": {
  "kernelspec": {
   "display_name": "Python 3",
   "language": "python",
   "name": "python3"
  },
  "language_info": {
   "codemirror_mode": {
    "name": "ipython",
    "version": 3
   },
   "file_extension": ".py",
   "mimetype": "text/x-python",
   "name": "python",
   "nbconvert_exporter": "python",
   "pygments_lexer": "ipython3",
   "version": "3.6.15"
  },
  "papermill": {
   "default_parameters": {},
   "duration": 173.593231,
   "end_time": "2021-11-23T00:26:00.067882",
   "environment_variables": {},
   "exception": null,
   "input_path": "2020-08-11-part2.ipynb",
   "output_path": "2020-08-11-part2.ipynb",
   "parameters": {},
   "start_time": "2021-11-23T00:23:06.474651",
   "version": "2.3.3"
  }
 },
 "nbformat": 4,
 "nbformat_minor": 5
}