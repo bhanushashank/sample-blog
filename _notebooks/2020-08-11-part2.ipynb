{
 "cells": [
  {
   "cell_type": "markdown",
   "id": "98380cd3",
   "metadata": {
    "papermill": {
     "duration": 0.028029,
     "end_time": "2022-01-05T20:08:23.699106",
     "exception": false,
     "start_time": "2022-01-05T20:08:23.671077",
     "status": "completed"
    },
    "tags": []
   },
   "source": [
    "# Distinguish Your Own Digits (DYOD)"
   ]
  },
  {
   "cell_type": "markdown",
   "id": "ef31240d",
   "metadata": {
    "papermill": {
     "duration": 0.024,
     "end_time": "2022-01-05T20:08:23.747601",
     "exception": false,
     "start_time": "2022-01-05T20:08:23.723601",
     "status": "completed"
    },
    "tags": []
   },
   "source": [
    "You are going to write a classifier that distinguishes between the number 3 and number 8."
   ]
  },
  {
   "cell_type": "code",
   "execution_count": 1,
   "id": "b15c8646",
   "metadata": {
    "execution": {
     "iopub.execute_input": "2022-01-05T20:08:23.805326Z",
     "iopub.status.busy": "2022-01-05T20:08:23.804755Z",
     "iopub.status.idle": "2022-01-05T20:08:23.819283Z",
     "shell.execute_reply": "2022-01-05T20:08:23.818803Z"
    },
    "papermill": {
     "duration": 0.047874,
     "end_time": "2022-01-05T20:08:23.819428",
     "exception": false,
     "start_time": "2022-01-05T20:08:23.771554",
     "status": "completed"
    },
    "tags": []
   },
   "outputs": [],
   "source": [
    "%load_ext autoreload\n",
    "%autoreload 2"
   ]
  },
  {
   "cell_type": "code",
   "execution_count": 2,
   "id": "22ef38dc",
   "metadata": {
    "execution": {
     "iopub.execute_input": "2022-01-05T20:08:23.873560Z",
     "iopub.status.busy": "2022-01-05T20:08:23.872998Z",
     "iopub.status.idle": "2022-01-05T20:08:24.440736Z",
     "shell.execute_reply": "2022-01-05T20:08:24.440168Z"
    },
    "papermill": {
     "duration": 0.597227,
     "end_time": "2022-01-05T20:08:24.440881",
     "exception": false,
     "start_time": "2022-01-05T20:08:23.843654",
     "status": "completed"
    },
    "tags": []
   },
   "outputs": [],
   "source": [
    "%matplotlib inline\n",
    "import numpy as np\n",
    "import matplotlib.pyplot as plt\n",
    "import pandas as pd"
   ]
  },
  {
   "cell_type": "markdown",
   "id": "ba036198",
   "metadata": {
    "papermill": {
     "duration": 0.024073,
     "end_time": "2022-01-05T20:08:24.489360",
     "exception": false,
     "start_time": "2022-01-05T20:08:24.465287",
     "status": "completed"
    },
    "tags": []
   },
   "source": [
    "From the command line run `pip install mnist`. This is a library that will help you bring down the mnist dataset. If you run this from a notebook, you need to put  `!pip install mnist` in a cell by itself."
   ]
  },
  {
   "cell_type": "code",
   "execution_count": 3,
   "id": "bb6ad8a1",
   "metadata": {
    "execution": {
     "iopub.execute_input": "2022-01-05T20:08:24.549804Z",
     "iopub.status.busy": "2022-01-05T20:08:24.549240Z",
     "iopub.status.idle": "2022-01-05T20:08:26.267579Z",
     "shell.execute_reply": "2022-01-05T20:08:26.268023Z"
    },
    "papermill": {
     "duration": 1.754588,
     "end_time": "2022-01-05T20:08:26.268170",
     "exception": false,
     "start_time": "2022-01-05T20:08:24.513582",
     "status": "completed"
    },
    "tags": []
   },
   "outputs": [
    {
     "name": "stdout",
     "output_type": "stream",
     "text": [
      "Collecting mnist\r\n"
     ]
    },
    {
     "name": "stdout",
     "output_type": "stream",
     "text": [
      "  Downloading mnist-0.2.2-py2.py3-none-any.whl (3.5 kB)\r\n"
     ]
    },
    {
     "name": "stdout",
     "output_type": "stream",
     "text": [
      "Requirement already satisfied: numpy in /opt/hostedtoolcache/Python/3.6.15/x64/lib/python3.6/site-packages (from mnist) (1.19.5)\r\n"
     ]
    },
    {
     "name": "stdout",
     "output_type": "stream",
     "text": [
      "Installing collected packages: mnist\r\n"
     ]
    },
    {
     "name": "stdout",
     "output_type": "stream",
     "text": [
      "Successfully installed mnist-0.2.2\r\n"
     ]
    }
   ],
   "source": [
    "!pip install mnist"
   ]
  },
  {
   "cell_type": "markdown",
   "id": "69df9c9a",
   "metadata": {
    "papermill": {
     "duration": 0.025141,
     "end_time": "2022-01-05T20:08:26.318720",
     "exception": false,
     "start_time": "2022-01-05T20:08:26.293579",
     "status": "completed"
    },
    "tags": []
   },
   "source": [
    "## Preparing the Data"
   ]
  },
  {
   "cell_type": "code",
   "execution_count": 4,
   "id": "7f69d806",
   "metadata": {
    "execution": {
     "iopub.execute_input": "2022-01-05T20:08:26.374895Z",
     "iopub.status.busy": "2022-01-05T20:08:26.374379Z",
     "iopub.status.idle": "2022-01-05T20:08:26.390250Z",
     "shell.execute_reply": "2022-01-05T20:08:26.389820Z"
    },
    "papermill": {
     "duration": 0.046552,
     "end_time": "2022-01-05T20:08:26.390372",
     "exception": false,
     "start_time": "2022-01-05T20:08:26.343820",
     "status": "completed"
    },
    "tags": []
   },
   "outputs": [],
   "source": [
    "import mnist"
   ]
  },
  {
   "cell_type": "code",
   "execution_count": 5,
   "id": "a411e44f",
   "metadata": {
    "execution": {
     "iopub.execute_input": "2022-01-05T20:08:26.444858Z",
     "iopub.status.busy": "2022-01-05T20:08:26.444320Z",
     "iopub.status.idle": "2022-01-05T20:08:27.033272Z",
     "shell.execute_reply": "2022-01-05T20:08:27.032739Z"
    },
    "papermill": {
     "duration": 0.617628,
     "end_time": "2022-01-05T20:08:27.033413",
     "exception": false,
     "start_time": "2022-01-05T20:08:26.415785",
     "status": "completed"
    },
    "tags": []
   },
   "outputs": [],
   "source": [
    "train_images = mnist.train_images()\n",
    "train_labels = mnist.train_labels()"
   ]
  },
  {
   "cell_type": "code",
   "execution_count": 6,
   "id": "dceab3a5",
   "metadata": {
    "execution": {
     "iopub.execute_input": "2022-01-05T20:08:27.089491Z",
     "iopub.status.busy": "2022-01-05T20:08:27.088975Z",
     "iopub.status.idle": "2022-01-05T20:08:27.103021Z",
     "shell.execute_reply": "2022-01-05T20:08:27.103408Z"
    },
    "papermill": {
     "duration": 0.043708,
     "end_time": "2022-01-05T20:08:27.103546",
     "exception": false,
     "start_time": "2022-01-05T20:08:27.059838",
     "status": "completed"
    },
    "tags": []
   },
   "outputs": [
    {
     "data": {
      "text/plain": [
       "((60000, 28, 28), (60000,))"
      ]
     },
     "execution_count": 6,
     "metadata": {},
     "output_type": "execute_result"
    }
   ],
   "source": [
    "train_images.shape, train_labels.shape"
   ]
  },
  {
   "cell_type": "code",
   "execution_count": 7,
   "id": "f50dc2bb",
   "metadata": {
    "execution": {
     "iopub.execute_input": "2022-01-05T20:08:27.159627Z",
     "iopub.status.busy": "2022-01-05T20:08:27.159041Z",
     "iopub.status.idle": "2022-01-05T20:08:27.373136Z",
     "shell.execute_reply": "2022-01-05T20:08:27.372600Z"
    },
    "papermill": {
     "duration": 0.244496,
     "end_time": "2022-01-05T20:08:27.373276",
     "exception": false,
     "start_time": "2022-01-05T20:08:27.128780",
     "status": "completed"
    },
    "tags": []
   },
   "outputs": [],
   "source": [
    "test_images = mnist.test_images()\n",
    "test_labels = mnist.test_labels()"
   ]
  },
  {
   "cell_type": "code",
   "execution_count": 8,
   "id": "fc38cf1b",
   "metadata": {
    "execution": {
     "iopub.execute_input": "2022-01-05T20:08:27.429366Z",
     "iopub.status.busy": "2022-01-05T20:08:27.428841Z",
     "iopub.status.idle": "2022-01-05T20:08:27.442775Z",
     "shell.execute_reply": "2022-01-05T20:08:27.442354Z"
    },
    "papermill": {
     "duration": 0.043399,
     "end_time": "2022-01-05T20:08:27.442897",
     "exception": false,
     "start_time": "2022-01-05T20:08:27.399498",
     "status": "completed"
    },
    "tags": []
   },
   "outputs": [
    {
     "data": {
      "text/plain": [
       "((10000, 28, 28), (10000,))"
      ]
     },
     "execution_count": 8,
     "metadata": {},
     "output_type": "execute_result"
    }
   ],
   "source": [
    "test_images.shape, test_labels.shape"
   ]
  },
  {
   "cell_type": "code",
   "execution_count": 9,
   "id": "f9ed8fe0",
   "metadata": {
    "execution": {
     "iopub.execute_input": "2022-01-05T20:08:27.498247Z",
     "iopub.status.busy": "2022-01-05T20:08:27.497735Z",
     "iopub.status.idle": "2022-01-05T20:08:27.636844Z",
     "shell.execute_reply": "2022-01-05T20:08:27.637314Z"
    },
    "papermill": {
     "duration": 0.168783,
     "end_time": "2022-01-05T20:08:27.637465",
     "exception": false,
     "start_time": "2022-01-05T20:08:27.468682",
     "status": "completed"
    },
    "tags": []
   },
   "outputs": [
    {
     "name": "stdout",
     "output_type": "stream",
     "text": [
      "2\n"
     ]
    },
    {
     "data": {
      "text/plain": [
       "<matplotlib.image.AxesImage at 0x7fac1ef89320>"
      ]
     },
     "execution_count": 9,
     "metadata": {},
     "output_type": "execute_result"
    },
    {
     "data": {
      "image/png": "[encoded data removed]",
      "text/plain": [
       "<Figure size 432x288 with 1 Axes>"
      ]
     },
     "metadata": {
      "needs_background": "light"
     },
     "output_type": "display_data"
    }
   ],
   "source": [
    "image_index = 7776 # You may select anything up to 60,000\n",
    "print(train_labels[image_index]) \n",
    "plt.imshow(train_images[image_index], cmap='Greys')"
   ]
  },
  {
   "cell_type": "markdown",
   "id": "a8d2388d",
   "metadata": {
    "papermill": {
     "duration": 0.027162,
     "end_time": "2022-01-05T20:08:27.692277",
     "exception": false,
     "start_time": "2022-01-05T20:08:27.665115",
     "status": "completed"
    },
    "tags": []
   },
   "source": [
    "## Filter data to get 3 and 8 out"
   ]
  },
  {
   "cell_type": "code",
   "execution_count": 10,
   "id": "776f7fc7",
   "metadata": {
    "execution": {
     "iopub.execute_input": "2022-01-05T20:08:27.754025Z",
     "iopub.status.busy": "2022-01-05T20:08:27.753448Z",
     "iopub.status.idle": "2022-01-05T20:08:27.767824Z",
     "shell.execute_reply": "2022-01-05T20:08:27.767375Z"
    },
    "papermill": {
     "duration": 0.048751,
     "end_time": "2022-01-05T20:08:27.767941",
     "exception": false,
     "start_time": "2022-01-05T20:08:27.719190",
     "status": "completed"
    },
    "tags": []
   },
   "outputs": [],
   "source": [
    "train_filter = np.where((train_labels == 3 ) | (train_labels == 8))\n",
    "test_filter = np.where((test_labels == 3) | (test_labels == 8))\n",
    "X_train, y_train = train_images[train_filter], train_labels[train_filter]\n",
    "X_test, y_test = test_images[test_filter], test_labels[test_filter]"
   ]
  },
  {
   "cell_type": "markdown",
   "id": "948f0b7e",
   "metadata": {
    "papermill": {
     "duration": 0.02662,
     "end_time": "2022-01-05T20:08:27.821389",
     "exception": false,
     "start_time": "2022-01-05T20:08:27.794769",
     "status": "completed"
    },
    "tags": []
   },
   "source": [
    "We normalize the pizel values in the 0 to 1 range"
   ]
  },
  {
   "cell_type": "code",
   "execution_count": 11,
   "id": "ee4c2166",
   "metadata": {
    "execution": {
     "iopub.execute_input": "2022-01-05T20:08:27.878044Z",
     "iopub.status.busy": "2022-01-05T20:08:27.877519Z",
     "iopub.status.idle": "2022-01-05T20:08:27.924596Z",
     "shell.execute_reply": "2022-01-05T20:08:27.925091Z"
    },
    "papermill": {
     "duration": 0.077293,
     "end_time": "2022-01-05T20:08:27.925260",
     "exception": false,
     "start_time": "2022-01-05T20:08:27.847967",
     "status": "completed"
    },
    "tags": []
   },
   "outputs": [],
   "source": [
    "X_train = X_train/255.\n",
    "X_test = X_test/255."
   ]
  },
  {
   "cell_type": "markdown",
   "id": "ddcf4fab",
   "metadata": {
    "papermill": {
     "duration": 0.02656,
     "end_time": "2022-01-05T20:08:27.979569",
     "exception": false,
     "start_time": "2022-01-05T20:08:27.953009",
     "status": "completed"
    },
    "tags": []
   },
   "source": [
    "And setup the labels as 1 (when the digit is 3) and 0 (when the digit is 8)"
   ]
  },
  {
   "cell_type": "code",
   "execution_count": 12,
   "id": "7dc908f2",
   "metadata": {
    "execution": {
     "iopub.execute_input": "2022-01-05T20:08:28.037123Z",
     "iopub.status.busy": "2022-01-05T20:08:28.036063Z",
     "iopub.status.idle": "2022-01-05T20:08:28.048949Z",
     "shell.execute_reply": "2022-01-05T20:08:28.049382Z"
    },
    "papermill": {
     "duration": 0.043311,
     "end_time": "2022-01-05T20:08:28.049516",
     "exception": false,
     "start_time": "2022-01-05T20:08:28.006205",
     "status": "completed"
    },
    "tags": []
   },
   "outputs": [],
   "source": [
    "y_train = 1*(y_train==3)\n",
    "y_test = 1*(y_test==3)"
   ]
  },
  {
   "cell_type": "code",
   "execution_count": 13,
   "id": "01e4e969",
   "metadata": {
    "execution": {
     "iopub.execute_input": "2022-01-05T20:08:28.120147Z",
     "iopub.status.busy": "2022-01-05T20:08:28.115355Z",
     "iopub.status.idle": "2022-01-05T20:08:28.123097Z",
     "shell.execute_reply": "2022-01-05T20:08:28.122682Z"
    },
    "papermill": {
     "duration": 0.04656,
     "end_time": "2022-01-05T20:08:28.123210",
     "exception": false,
     "start_time": "2022-01-05T20:08:28.076650",
     "status": "completed"
    },
    "tags": []
   },
   "outputs": [
    {
     "data": {
      "text/plain": [
       "((11982, 28, 28), (1984, 28, 28))"
      ]
     },
     "execution_count": 13,
     "metadata": {},
     "output_type": "execute_result"
    }
   ],
   "source": [
    "X_train.shape, X_test.shape"
   ]
  },
  {
   "cell_type": "markdown",
   "id": "5ccf3f85",
   "metadata": {
    "papermill": {
     "duration": 0.026598,
     "end_time": "2022-01-05T20:08:28.176517",
     "exception": false,
     "start_time": "2022-01-05T20:08:28.149919",
     "status": "completed"
    },
    "tags": []
   },
   "source": [
    "We reshape the data to flatten the image pixels into a set of features or co-variates:"
   ]
  },
  {
   "cell_type": "code",
   "execution_count": 14,
   "id": "5286a4a3",
   "metadata": {
    "execution": {
     "iopub.execute_input": "2022-01-05T20:08:28.234883Z",
     "iopub.status.busy": "2022-01-05T20:08:28.234358Z",
     "iopub.status.idle": "2022-01-05T20:08:28.247156Z",
     "shell.execute_reply": "2022-01-05T20:08:28.246741Z"
    },
    "papermill": {
     "duration": 0.043845,
     "end_time": "2022-01-05T20:08:28.247270",
     "exception": false,
     "start_time": "2022-01-05T20:08:28.203425",
     "status": "completed"
    },
    "tags": []
   },
   "outputs": [
    {
     "data": {
      "text/plain": [
       "((11982, 784), (1984, 784))"
      ]
     },
     "execution_count": 14,
     "metadata": {},
     "output_type": "execute_result"
    }
   ],
   "source": [
    "X_train = X_train.reshape(X_train.shape[0], -1)\n",
    "X_test = X_test.reshape(X_test.shape[0], -1)\n",
    "X_train.shape, X_test.shape"
   ]
  },
  {
   "cell_type": "code",
   "execution_count": 15,
   "id": "73c5f88a",
   "metadata": {
    "execution": {
     "iopub.execute_input": "2022-01-05T20:08:28.308142Z",
     "iopub.status.busy": "2022-01-05T20:08:28.307614Z",
     "iopub.status.idle": "2022-01-05T20:08:28.325368Z",
     "shell.execute_reply": "2022-01-05T20:08:28.324946Z"
    },
    "papermill": {
     "duration": 0.050712,
     "end_time": "2022-01-05T20:08:28.325487",
     "exception": false,
     "start_time": "2022-01-05T20:08:28.274775",
     "status": "completed"
    },
    "tags": []
   },
   "outputs": [],
   "source": [
    "#Impoting functions from 'Kudzu'\n",
    "from kudzu.model import Model\n",
    "from kudzu.train import Learner\n",
    "from kudzu.optim import GD\n",
    "from kudzu.data import Data, Sampler,Dataloader\n",
    "\n",
    "from kudzu.callbacks import AccCallback\n",
    "from kudzu.callbacks import ClfCallback\n",
    "\n",
    "from kudzu.loss import MSE\n",
    "\n",
    "from kudzu.layer import Sigmoid,Relu\n",
    "from kudzu.layer import Affine"
   ]
  },
  {
   "cell_type": "markdown",
   "id": "bc01172a",
   "metadata": {
    "papermill": {
     "duration": 0.026972,
     "end_time": "2022-01-05T20:08:28.379735",
     "exception": false,
     "start_time": "2022-01-05T20:08:28.352763",
     "status": "completed"
    },
    "tags": []
   },
   "source": [
    "### Let us create a `Config` class, to store important parameters. \n",
    "This class essentially plays the role of a dictionary."
   ]
  },
  {
   "cell_type": "code",
   "execution_count": 16,
   "id": "978281aa",
   "metadata": {
    "execution": {
     "iopub.execute_input": "2022-01-05T20:08:28.437809Z",
     "iopub.status.busy": "2022-01-05T20:08:28.437290Z",
     "iopub.status.idle": "2022-01-05T20:08:28.449855Z",
     "shell.execute_reply": "2022-01-05T20:08:28.449439Z"
    },
    "papermill": {
     "duration": 0.043125,
     "end_time": "2022-01-05T20:08:28.449971",
     "exception": false,
     "start_time": "2022-01-05T20:08:28.406846",
     "status": "completed"
    },
    "tags": []
   },
   "outputs": [],
   "source": [
    "class Config:\n",
    "    pass\n",
    "config = Config()\n",
    "config.lr = 0.001\n",
    "config.num_epochs = 250\n",
    "config.bs = 50"
   ]
  },
  {
   "cell_type": "markdown",
   "id": "1385fa59",
   "metadata": {
    "papermill": {
     "duration": 0.026932,
     "end_time": "2022-01-05T20:08:28.504257",
     "exception": false,
     "start_time": "2022-01-05T20:08:28.477325",
     "status": "completed"
    },
    "tags": []
   },
   "source": [
    "### Running Models with the Training data\n",
    "Details about the network layers:\n",
    "- A first affine layer has 784 inputs and does 100 affine transforms. These are followed by a Relu\n",
    "- A second affine layer has 100 inputs from the 100 activations of the past layer, and does 100 affine transforms. These are followed by a Relu\n",
    "- A third affine layer has 100 activations and does 2 affine transformations to create an embedding for visualization. There is no non-linearity here.\n",
    "- A final \"logistic regression\" which has an affine transform from 2 inputs to 1 output, which is squeezed through a sigmoid.\n"
   ]
  },
  {
   "cell_type": "code",
   "execution_count": 17,
   "id": "2b9c66db",
   "metadata": {
    "execution": {
     "iopub.execute_input": "2022-01-05T20:08:28.565656Z",
     "iopub.status.busy": "2022-01-05T20:08:28.565116Z",
     "iopub.status.idle": "2022-01-05T20:08:28.575757Z",
     "shell.execute_reply": "2022-01-05T20:08:28.575343Z"
    },
    "papermill": {
     "duration": 0.044489,
     "end_time": "2022-01-05T20:08:28.575875",
     "exception": false,
     "start_time": "2022-01-05T20:08:28.531386",
     "status": "completed"
    },
    "tags": []
   },
   "outputs": [],
   "source": [
    "data = Data(X_train, y_train.reshape(-1,1))\n",
    "sampler = Sampler(data, config.bs, shuffle=True)\n",
    "\n",
    "dl = Dataloader(data, sampler)\n",
    "\n",
    "opt = GD(config.lr)\n",
    "loss = MSE()"
   ]
  },
  {
   "cell_type": "code",
   "execution_count": 18,
   "id": "b275e4c2",
   "metadata": {
    "execution": {
     "iopub.execute_input": "2022-01-05T20:08:28.636154Z",
     "iopub.status.busy": "2022-01-05T20:08:28.635627Z",
     "iopub.status.idle": "2022-01-05T20:08:28.646028Z",
     "shell.execute_reply": "2022-01-05T20:08:28.646440Z"
    },
    "papermill": {
     "duration": 0.043173,
     "end_time": "2022-01-05T20:08:28.646570",
     "exception": false,
     "start_time": "2022-01-05T20:08:28.603397",
     "status": "completed"
    },
    "tags": []
   },
   "outputs": [],
   "source": [
    "training_data_x = X_train\n",
    "testing_data_x = X_test\n",
    "training_data_y = y_train.reshape(-1,1)\n",
    "testing_data_y = y_test.reshape(-1,1)"
   ]
  },
  {
   "cell_type": "code",
   "execution_count": 19,
   "id": "76951160",
   "metadata": {
    "execution": {
     "iopub.execute_input": "2022-01-05T20:08:28.705283Z",
     "iopub.status.busy": "2022-01-05T20:08:28.704729Z",
     "iopub.status.idle": "2022-01-05T20:08:28.721060Z",
     "shell.execute_reply": "2022-01-05T20:08:28.721498Z"
    },
    "papermill": {
     "duration": 0.048,
     "end_time": "2022-01-05T20:08:28.721631",
     "exception": false,
     "start_time": "2022-01-05T20:08:28.673631",
     "status": "completed"
    },
    "tags": []
   },
   "outputs": [
    {
     "name": "stdout",
     "output_type": "stream",
     "text": [
      "xavier\n",
      "xavier\n",
      "xavier\n",
      "xavier\n",
      "xavier\n"
     ]
    }
   ],
   "source": [
    "layers = [Affine(\"first\", 784, 100), Relu(\"first\"), Affine(\"second\", 100, 100), Relu(\"second\"), Affine(\"third\", 100, 2), Affine(\"last\", 2, 1), Sigmoid(\"last\")]\n",
    "model_nn = Model(layers)\n",
    "model_lr = Model([Affine(\"logits\", 784, 1), Sigmoid(\"sigmoid\")])"
   ]
  },
  {
   "cell_type": "code",
   "execution_count": 20,
   "id": "6eede77a",
   "metadata": {
    "execution": {
     "iopub.execute_input": "2022-01-05T20:08:28.780725Z",
     "iopub.status.busy": "2022-01-05T20:08:28.780161Z",
     "iopub.status.idle": "2022-01-05T20:08:28.792142Z",
     "shell.execute_reply": "2022-01-05T20:08:28.791727Z"
    },
    "papermill": {
     "duration": 0.043014,
     "end_time": "2022-01-05T20:08:28.792257",
     "exception": false,
     "start_time": "2022-01-05T20:08:28.749243",
     "status": "completed"
    },
    "tags": []
   },
   "outputs": [],
   "source": [
    "nn_learner = Learner(loss, model_nn, opt, config.num_epochs)\n",
    "acc_nn = ClfCallback(nn_learner, config.bs, training_data_x , testing_data_x, training_data_y, testing_data_y)\n",
    "nn_learner.set_callbacks([acc_nn])"
   ]
  },
  {
   "cell_type": "code",
   "execution_count": 21,
   "id": "877b6cc7",
   "metadata": {
    "execution": {
     "iopub.execute_input": "2022-01-05T20:08:28.853584Z",
     "iopub.status.busy": "2022-01-05T20:08:28.853062Z",
     "iopub.status.idle": "2022-01-05T20:08:28.863789Z",
     "shell.execute_reply": "2022-01-05T20:08:28.863369Z"
    },
    "papermill": {
     "duration": 0.044194,
     "end_time": "2022-01-05T20:08:28.863910",
     "exception": false,
     "start_time": "2022-01-05T20:08:28.819716",
     "status": "completed"
    },
    "tags": []
   },
   "outputs": [],
   "source": [
    "lr_learner = Learner(loss, model_lr, opt, config.num_epochs)\n",
    "acc_lr = ClfCallback(lr_learner, config.bs, training_data_x , testing_data_x, training_data_y, testing_data_y)\n",
    "lr_learner.set_callbacks([acc_lr])"
   ]
  },
  {
   "cell_type": "code",
   "execution_count": 22,
   "id": "d9b133c3",
   "metadata": {
    "execution": {
     "iopub.execute_input": "2022-01-05T20:08:28.923004Z",
     "iopub.status.busy": "2022-01-05T20:08:28.922467Z",
     "iopub.status.idle": "2022-01-05T20:09:48.733620Z",
     "shell.execute_reply": "2022-01-05T20:09:48.734385Z"
    },
    "papermill": {
     "duration": 79.843169,
     "end_time": "2022-01-05T20:09:48.734540",
     "exception": false,
     "start_time": "2022-01-05T20:08:28.891371",
     "status": "completed"
    },
    "tags": []
   },
   "outputs": [
    {
     "name": "stdout",
     "output_type": "stream",
     "text": [
      "Epoch 0, Loss 0.2376\n",
      "Training Accuracy: 0.6764, Testing Accuracy: 0.6991\n",
      "\n"
     ]
    },
    {
     "name": "stdout",
     "output_type": "stream",
     "text": [
      "Epoch 10, Loss 0.0798\n",
      "Training Accuracy: 0.9285, Testing Accuracy: 0.9405\n",
      "\n"
     ]
    },
    {
     "name": "stdout",
     "output_type": "stream",
     "text": [
      "Epoch 20, Loss 0.0517\n",
      "Training Accuracy: 0.9454, Testing Accuracy: 0.9541\n",
      "\n"
     ]
    },
    {
     "name": "stdout",
     "output_type": "stream",
     "text": [
      "Epoch 30, Loss 0.0422\n",
      "Training Accuracy: 0.9519, Testing Accuracy: 0.9592\n",
      "\n"
     ]
    },
    {
     "name": "stdout",
     "output_type": "stream",
     "text": [
      "Epoch 40, Loss 0.0371\n",
      "Training Accuracy: 0.9571, Testing Accuracy: 0.9617\n",
      "\n"
     ]
    },
    {
     "name": "stdout",
     "output_type": "stream",
     "text": [
      "Epoch 50, Loss 0.0339\n",
      "Training Accuracy: 0.9604, Testing Accuracy: 0.9647\n",
      "\n"
     ]
    },
    {
     "name": "stdout",
     "output_type": "stream",
     "text": [
      "Epoch 60, Loss 0.0316\n",
      "Training Accuracy: 0.9623, Testing Accuracy: 0.9667\n",
      "\n"
     ]
    },
    {
     "name": "stdout",
     "output_type": "stream",
     "text": [
      "Epoch 70, Loss 0.0298\n",
      "Training Accuracy: 0.9647, Testing Accuracy: 0.9698\n",
      "\n"
     ]
    },
    {
     "name": "stdout",
     "output_type": "stream",
     "text": [
      "Epoch 80, Loss 0.0284\n",
      "Training Accuracy: 0.9661, Testing Accuracy: 0.9703\n",
      "\n"
     ]
    },
    {
     "name": "stdout",
     "output_type": "stream",
     "text": [
      "Epoch 90, Loss 0.0272\n",
      "Training Accuracy: 0.9674, Testing Accuracy: 0.9713\n",
      "\n"
     ]
    },
    {
     "name": "stdout",
     "output_type": "stream",
     "text": [
      "Epoch 100, Loss 0.0262\n",
      "Training Accuracy: 0.9685, Testing Accuracy: 0.9713\n",
      "\n"
     ]
    },
    {
     "name": "stdout",
     "output_type": "stream",
     "text": [
      "Epoch 110, Loss 0.0253\n",
      "Training Accuracy: 0.9704, Testing Accuracy: 0.9713\n",
      "\n"
     ]
    },
    {
     "name": "stdout",
     "output_type": "stream",
     "text": [
      "Epoch 120, Loss 0.0245\n",
      "Training Accuracy: 0.9715, Testing Accuracy: 0.9723\n",
      "\n"
     ]
    },
    {
     "name": "stdout",
     "output_type": "stream",
     "text": [
      "Epoch 130, Loss 0.0238\n",
      "Training Accuracy: 0.9723, Testing Accuracy: 0.9728\n",
      "\n"
     ]
    },
    {
     "name": "stdout",
     "output_type": "stream",
     "text": [
      "Epoch 140, Loss 0.0231\n",
      "Training Accuracy: 0.9734, Testing Accuracy: 0.9728\n",
      "\n"
     ]
    },
    {
     "name": "stdout",
     "output_type": "stream",
     "text": [
      "Epoch 150, Loss 0.0225\n",
      "Training Accuracy: 0.9744, Testing Accuracy: 0.9743\n",
      "\n"
     ]
    },
    {
     "name": "stdout",
     "output_type": "stream",
     "text": [
      "Epoch 160, Loss 0.022\n",
      "Training Accuracy: 0.9750, Testing Accuracy: 0.9748\n",
      "\n"
     ]
    },
    {
     "name": "stdout",
     "output_type": "stream",
     "text": [
      "Epoch 170, Loss 0.0214\n",
      "Training Accuracy: 0.9754, Testing Accuracy: 0.9748\n",
      "\n"
     ]
    },
    {
     "name": "stdout",
     "output_type": "stream",
     "text": [
      "Epoch 180, Loss 0.021\n",
      "Training Accuracy: 0.9760, Testing Accuracy: 0.9748\n",
      "\n"
     ]
    },
    {
     "name": "stdout",
     "output_type": "stream",
     "text": [
      "Epoch 190, Loss 0.0205\n",
      "Training Accuracy: 0.9766, Testing Accuracy: 0.9748\n",
      "\n"
     ]
    },
    {
     "name": "stdout",
     "output_type": "stream",
     "text": [
      "Epoch 200, Loss 0.0201\n",
      "Training Accuracy: 0.9774, Testing Accuracy: 0.9748\n",
      "\n"
     ]
    },
    {
     "name": "stdout",
     "output_type": "stream",
     "text": [
      "Epoch 210, Loss 0.0197\n",
      "Training Accuracy: 0.9778, Testing Accuracy: 0.9748\n",
      "\n"
     ]
    },
    {
     "name": "stdout",
     "output_type": "stream",
     "text": [
      "Epoch 220, Loss 0.0193\n",
      "Training Accuracy: 0.9785, Testing Accuracy: 0.9753\n",
      "\n"
     ]
    },
    {
     "name": "stdout",
     "output_type": "stream",
     "text": [
      "Epoch 230, Loss 0.0189\n",
      "Training Accuracy: 0.9792, Testing Accuracy: 0.9753\n",
      "\n"
     ]
    },
    {
     "name": "stdout",
     "output_type": "stream",
     "text": [
      "Epoch 240, Loss 0.0186\n",
      "Training Accuracy: 0.9797, Testing Accuracy: 0.9753\n",
      "\n"
     ]
    },
    {
     "data": {
      "text/plain": [
       "0.0015975148896490035"
      ]
     },
     "execution_count": 22,
     "metadata": {},
     "output_type": "execute_result"
    }
   ],
   "source": [
    "nn_learner.train_loop(dl)"
   ]
  },
  {
   "cell_type": "code",
   "execution_count": 23,
   "id": "e0163366",
   "metadata": {
    "execution": {
     "iopub.execute_input": "2022-01-05T20:09:48.815680Z",
     "iopub.status.busy": "2022-01-05T20:09:48.814795Z",
     "iopub.status.idle": "2022-01-05T20:10:02.994718Z",
     "shell.execute_reply": "2022-01-05T20:10:02.995471Z"
    },
    "papermill": {
     "duration": 14.225709,
     "end_time": "2022-01-05T20:10:02.995622",
     "exception": false,
     "start_time": "2022-01-05T20:09:48.769913",
     "status": "completed"
    },
    "tags": []
   },
   "outputs": [
    {
     "name": "stdout",
     "output_type": "stream",
     "text": [
      "Epoch 0, Loss 0.2768\n",
      "Training Accuracy: 0.5235, Testing Accuracy: 0.5005\n",
      "\n"
     ]
    },
    {
     "name": "stdout",
     "output_type": "stream",
     "text": [
      "Epoch 10, Loss 0.1073\n",
      "Training Accuracy: 0.9060, Testing Accuracy: 0.9118\n",
      "\n"
     ]
    },
    {
     "name": "stdout",
     "output_type": "stream",
     "text": [
      "Epoch 20, Loss 0.0814\n",
      "Training Accuracy: 0.9246, Testing Accuracy: 0.9330\n",
      "\n"
     ]
    },
    {
     "name": "stdout",
     "output_type": "stream",
     "text": [
      "Epoch 30, Loss 0.0697\n",
      "Training Accuracy: 0.9320, Testing Accuracy: 0.9425\n",
      "\n"
     ]
    },
    {
     "name": "stdout",
     "output_type": "stream",
     "text": [
      "Epoch 40, Loss 0.0627\n",
      "Training Accuracy: 0.9389, Testing Accuracy: 0.9496\n",
      "\n"
     ]
    },
    {
     "name": "stdout",
     "output_type": "stream",
     "text": [
      "Epoch 50, Loss 0.0579\n",
      "Training Accuracy: 0.9422, Testing Accuracy: 0.9526\n",
      "\n"
     ]
    },
    {
     "name": "stdout",
     "output_type": "stream",
     "text": [
      "Epoch 60, Loss 0.0545\n",
      "Training Accuracy: 0.9452, Testing Accuracy: 0.9541\n",
      "\n"
     ]
    },
    {
     "name": "stdout",
     "output_type": "stream",
     "text": [
      "Epoch 70, Loss 0.0518\n",
      "Training Accuracy: 0.9475, Testing Accuracy: 0.9577\n",
      "\n"
     ]
    },
    {
     "name": "stdout",
     "output_type": "stream",
     "text": [
      "Epoch 80, Loss 0.0497\n",
      "Training Accuracy: 0.9493, Testing Accuracy: 0.9592\n",
      "\n"
     ]
    },
    {
     "name": "stdout",
     "output_type": "stream",
     "text": [
      "Epoch 90, Loss 0.0479\n",
      "Training Accuracy: 0.9504, Testing Accuracy: 0.9597\n",
      "\n"
     ]
    },
    {
     "name": "stdout",
     "output_type": "stream",
     "text": [
      "Epoch 100, Loss 0.0464\n",
      "Training Accuracy: 0.9513, Testing Accuracy: 0.9617\n",
      "\n"
     ]
    },
    {
     "name": "stdout",
     "output_type": "stream",
     "text": [
      "Epoch 110, Loss 0.0452\n",
      "Training Accuracy: 0.9526, Testing Accuracy: 0.9627\n",
      "\n"
     ]
    },
    {
     "name": "stdout",
     "output_type": "stream",
     "text": [
      "Epoch 120, Loss 0.0441\n",
      "Training Accuracy: 0.9537, Testing Accuracy: 0.9632\n",
      "\n"
     ]
    },
    {
     "name": "stdout",
     "output_type": "stream",
     "text": [
      "Epoch 130, Loss 0.0431\n",
      "Training Accuracy: 0.9557, Testing Accuracy: 0.9632\n",
      "\n"
     ]
    },
    {
     "name": "stdout",
     "output_type": "stream",
     "text": [
      "Epoch 140, Loss 0.0423\n",
      "Training Accuracy: 0.9561, Testing Accuracy: 0.9652\n",
      "\n"
     ]
    },
    {
     "name": "stdout",
     "output_type": "stream",
     "text": [
      "Epoch 150, Loss 0.0415\n",
      "Training Accuracy: 0.9567, Testing Accuracy: 0.9652\n",
      "\n"
     ]
    },
    {
     "name": "stdout",
     "output_type": "stream",
     "text": [
      "Epoch 160, Loss 0.0408\n",
      "Training Accuracy: 0.9569, Testing Accuracy: 0.9647\n",
      "\n"
     ]
    },
    {
     "name": "stdout",
     "output_type": "stream",
     "text": [
      "Epoch 170, Loss 0.0402\n",
      "Training Accuracy: 0.9573, Testing Accuracy: 0.9657\n",
      "\n"
     ]
    },
    {
     "name": "stdout",
     "output_type": "stream",
     "text": [
      "Epoch 180, Loss 0.0396\n",
      "Training Accuracy: 0.9576, Testing Accuracy: 0.9662\n",
      "\n"
     ]
    },
    {
     "name": "stdout",
     "output_type": "stream",
     "text": [
      "Epoch 190, Loss 0.0391\n",
      "Training Accuracy: 0.9580, Testing Accuracy: 0.9662\n",
      "\n"
     ]
    },
    {
     "name": "stdout",
     "output_type": "stream",
     "text": [
      "Epoch 200, Loss 0.0386\n",
      "Training Accuracy: 0.9584, Testing Accuracy: 0.9667\n",
      "\n"
     ]
    },
    {
     "name": "stdout",
     "output_type": "stream",
     "text": [
      "Epoch 210, Loss 0.0381\n",
      "Training Accuracy: 0.9588, Testing Accuracy: 0.9667\n",
      "\n"
     ]
    },
    {
     "name": "stdout",
     "output_type": "stream",
     "text": [
      "Epoch 220, Loss 0.0377\n",
      "Training Accuracy: 0.9590, Testing Accuracy: 0.9662\n",
      "\n"
     ]
    },
    {
     "name": "stdout",
     "output_type": "stream",
     "text": [
      "Epoch 230, Loss 0.0373\n",
      "Training Accuracy: 0.9594, Testing Accuracy: 0.9657\n",
      "\n"
     ]
    },
    {
     "name": "stdout",
     "output_type": "stream",
     "text": [
      "Epoch 240, Loss 0.037\n",
      "Training Accuracy: 0.9600, Testing Accuracy: 0.9657\n",
      "\n"
     ]
    },
    {
     "data": {
      "text/plain": [
       "0.06987997928377593"
      ]
     },
     "execution_count": 23,
     "metadata": {},
     "output_type": "execute_result"
    }
   ],
   "source": [
    "lr_learner.train_loop(dl)"
   ]
  },
  {
   "cell_type": "code",
   "execution_count": 24,
   "id": "ca410940",
   "metadata": {
    "execution": {
     "iopub.execute_input": "2022-01-05T20:10:03.093688Z",
     "iopub.status.busy": "2022-01-05T20:10:03.093104Z",
     "iopub.status.idle": "2022-01-05T20:10:03.311084Z",
     "shell.execute_reply": "2022-01-05T20:10:03.311499Z"
    },
    "papermill": {
     "duration": 0.274181,
     "end_time": "2022-01-05T20:10:03.311637",
     "exception": false,
     "start_time": "2022-01-05T20:10:03.037456",
     "status": "completed"
    },
    "tags": []
   },
   "outputs": [
    {
     "data": {
      "text/plain": [
       "<matplotlib.legend.Legend at 0x7fac1175dac8>"
      ]
     },
     "execution_count": 24,
     "metadata": {},
     "output_type": "execute_result"
    },
    {
     "data": {
      "image/png": "[encoded data removed]",
      "text/plain": [
       "<Figure size 1080x720 with 1 Axes>"
      ]
     },
     "metadata": {
      "needs_background": "light"
     },
     "output_type": "display_data"
    }
   ],
   "source": [
    "#comparing the results of NN and LR\n",
    "plt.figure(figsize=(15,10))\n",
    "\n",
    "# Neural Network plots\n",
    "plt.plot(acc_nn.accuracies, 'r-', label = \"Training Accuracies - NN\")\n",
    "plt.plot(acc_nn.test_accuracies, 'g-', label = \"Testing Accuracies - NN\")\n",
    "\n",
    "# Logistic Regression plots\n",
    "plt.plot(acc_lr.accuracies, 'k-', label = \"Training Accuracies - LR\")\n",
    "plt.plot(acc_lr.test_accuracies, 'b-', label = \"Testing Accuracies - LR\")\n",
    "plt.legend()"
   ]
  },
  {
   "cell_type": "markdown",
   "id": "80dfb35c",
   "metadata": {
    "papermill": {
     "duration": 0.042623,
     "end_time": "2022-01-05T20:10:03.396973",
     "exception": false,
     "start_time": "2022-01-05T20:10:03.354350",
     "status": "completed"
    },
    "tags": []
   },
   "source": [
    "#### Plotting the outputs of this layer of the NN.\n"
   ]
  },
  {
   "cell_type": "code",
   "execution_count": 25,
   "id": "45eb2ff5",
   "metadata": {
    "execution": {
     "iopub.execute_input": "2022-01-05T20:10:03.485939Z",
     "iopub.status.busy": "2022-01-05T20:10:03.485407Z",
     "iopub.status.idle": "2022-01-05T20:10:03.507074Z",
     "shell.execute_reply": "2022-01-05T20:10:03.507533Z"
    },
    "papermill": {
     "duration": 0.068181,
     "end_time": "2022-01-05T20:10:03.507678",
     "exception": false,
     "start_time": "2022-01-05T20:10:03.439497",
     "status": "completed"
    },
    "tags": []
   },
   "outputs": [],
   "source": [
    "new_model = Model(layers[:-2])\n",
    "testing_plot = new_model(testing_data_x)"
   ]
  },
  {
   "cell_type": "code",
   "execution_count": 26,
   "id": "4c0a5485",
   "metadata": {
    "execution": {
     "iopub.execute_input": "2022-01-05T20:10:03.605607Z",
     "iopub.status.busy": "2022-01-05T20:10:03.605054Z",
     "iopub.status.idle": "2022-01-05T20:10:03.783078Z",
     "shell.execute_reply": "2022-01-05T20:10:03.782339Z"
    },
    "papermill": {
     "duration": 0.23268,
     "end_time": "2022-01-05T20:10:03.783209",
     "exception": false,
     "start_time": "2022-01-05T20:10:03.550529",
     "status": "completed"
    },
    "tags": []
   },
   "outputs": [
    {
     "data": {
      "text/plain": [
       "Text(0.5, 1.0, 'Outputs')"
      ]
     },
     "execution_count": 26,
     "metadata": {},
     "output_type": "execute_result"
    },
    {
     "data": {
      "image/png": "[encoded data removed]",
      "text/plain": [
       "<Figure size 576x504 with 1 Axes>"
      ]
     },
     "metadata": {
      "needs_background": "light"
     },
     "output_type": "display_data"
    }
   ],
   "source": [
    "# Plotting the scatter plot of points and color coding by class\n",
    "plt.figure(figsize=(8,7))\n",
    "plt.scatter(testing_plot[:,0], testing_plot[:,1], alpha = 0.1, c = y_test.ravel());\n",
    "plt.title('Outputs')"
   ]
  },
  {
   "cell_type": "markdown",
   "id": "a74fcf8f",
   "metadata": {
    "papermill": {
     "duration": 0.044515,
     "end_time": "2022-01-05T20:10:03.872500",
     "exception": false,
     "start_time": "2022-01-05T20:10:03.827985",
     "status": "completed"
    },
    "tags": []
   },
   "source": [
    "Probability contours"
   ]
  },
  {
   "cell_type": "code",
   "execution_count": 27,
   "id": "d0afc8e3",
   "metadata": {
    "execution": {
     "iopub.execute_input": "2022-01-05T20:10:03.965610Z",
     "iopub.status.busy": "2022-01-05T20:10:03.965079Z",
     "iopub.status.idle": "2022-01-05T20:10:03.976761Z",
     "shell.execute_reply": "2022-01-05T20:10:03.976213Z"
    },
    "papermill": {
     "duration": 0.060033,
     "end_time": "2022-01-05T20:10:03.976887",
     "exception": false,
     "start_time": "2022-01-05T20:10:03.916854",
     "status": "completed"
    },
    "tags": []
   },
   "outputs": [],
   "source": [
    "model_prob = Model(layers[-2:]) "
   ]
  },
  {
   "cell_type": "code",
   "execution_count": 28,
   "id": "9b96e238",
   "metadata": {
    "execution": {
     "iopub.execute_input": "2022-01-05T20:10:04.113238Z",
     "iopub.status.busy": "2022-01-05T20:10:04.108704Z",
     "iopub.status.idle": "2022-01-05T20:10:04.119080Z",
     "shell.execute_reply": "2022-01-05T20:10:04.119468Z"
    },
    "papermill": {
     "duration": 0.098245,
     "end_time": "2022-01-05T20:10:04.119608",
     "exception": false,
     "start_time": "2022-01-05T20:10:04.021363",
     "status": "completed"
    },
    "tags": []
   },
   "outputs": [],
   "source": [
    "#creating the x and y ranges according to the above generated plot.\n",
    "x_range = np.linspace(-4, 1, 100) \n",
    "y_range = np.linspace(-6, 6, 100) \n",
    "x_grid, y_grid = np.meshgrid(x_range, y_range) # x_grid and y_grig are of size 100 X 100\n",
    "\n",
    "# converting x_grid and y_grid to continuous arrays\n",
    "x_gridflat = np.ravel(x_grid)\n",
    "y_gridflat = np.ravel(y_grid)\n",
    "\n",
    "# The last layer of the current model takes two columns as input. Hence transpose of np.vstack() is required.\n",
    "X = np.vstack((x_gridflat, y_gridflat)).T\n",
    "\n",
    "prob_contour = model_prob(X).reshape(100,100) "
   ]
  },
  {
   "cell_type": "code",
   "execution_count": 29,
   "id": "da72499a",
   "metadata": {
    "execution": {
     "iopub.execute_input": "2022-01-05T20:10:04.219346Z",
     "iopub.status.busy": "2022-01-05T20:10:04.218777Z",
     "iopub.status.idle": "2022-01-05T20:10:04.451431Z",
     "shell.execute_reply": "2022-01-05T20:10:04.451905Z"
    },
    "papermill": {
     "duration": 0.287276,
     "end_time": "2022-01-05T20:10:04.452060",
     "exception": false,
     "start_time": "2022-01-05T20:10:04.164784",
     "status": "completed"
    },
    "tags": []
   },
   "outputs": [
    {
     "data": {
      "image/png": "[encoded data removed]",
      "text/plain": [
       "<Figure size 720x648 with 1 Axes>"
      ]
     },
     "metadata": {
      "needs_background": "light"
     },
     "output_type": "display_data"
    }
   ],
   "source": [
    "plt.figure(figsize=(10,9))\n",
    "plt.scatter(testing_plot[:,0], testing_plot[:,1], alpha = 0.1, c = y_test.ravel())\n",
    "contours = plt.contour(x_grid,y_grid,prob_contour)\n",
    "plt.title('Probability Contours')\n",
    "plt.clabel(contours, inline = True );"
   ]
  },
  {
   "cell_type": "code",
   "execution_count": null,
   "id": "e81b4ac7",
   "metadata": {
    "papermill": {
     "duration": 0.047313,
     "end_time": "2022-01-05T20:10:04.547789",
     "exception": false,
     "start_time": "2022-01-05T20:10:04.500476",
     "status": "completed"
    },
    "tags": []
   },
   "outputs": [],
   "source": []
  }
 ],
 "metadata": {
  "kernelspec": {
   "display_name": "Python 3",
   "language": "python",
   "name": "python3"
  },
  "language_info": {
   "codemirror_mode": {
    "name": "ipython",
    "version": 3
   },
   "file_extension": ".py",
   "mimetype": "text/x-python",
   "name": "python",
   "nbconvert_exporter": "python",
   "pygments_lexer": "ipython3",
   "version": "3.6.15"
  },
  "papermill": {
   "default_parameters": {},
   "duration": 102.353866,
   "end_time": "2022-01-05T20:10:05.003546",
   "environment_variables": {},
   "exception": null,
   "input_path": "2020-08-11-part2.ipynb",
   "output_path": "2020-08-11-part2.ipynb",
   "parameters": {},
   "start_time": "2022-01-05T20:08:22.649680",
   "version": "2.3.3"
  }
 },
 "nbformat": 4,
 "nbformat_minor": 5
}