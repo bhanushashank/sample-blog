{
 "cells": [
  {
   "cell_type": "markdown",
   "id": "98380cd3",
   "metadata": {
    "papermill": {
     "duration": 0.02841,
     "end_time": "2022-02-06T00:30:44.516441",
     "exception": false,
     "start_time": "2022-02-06T00:30:44.488031",
     "status": "completed"
    },
    "tags": []
   },
   "source": [
    "# Distinguish Your Own Digits (DYOD)"
   ]
  },
  {
   "cell_type": "markdown",
   "id": "ef31240d",
   "metadata": {
    "papermill": {
     "duration": 0.024757,
     "end_time": "2022-02-06T00:30:44.566908",
     "exception": false,
     "start_time": "2022-02-06T00:30:44.542151",
     "status": "completed"
    },
    "tags": []
   },
   "source": [
    "You are going to write a classifier that distinguishes between the number 3 and number 8."
   ]
  },
  {
   "cell_type": "code",
   "execution_count": 1,
   "id": "b15c8646",
   "metadata": {
    "execution": {
     "iopub.execute_input": "2022-02-06T00:30:44.627097Z",
     "iopub.status.busy": "2022-02-06T00:30:44.626588Z",
     "iopub.status.idle": "2022-02-06T00:30:44.636021Z",
     "shell.execute_reply": "2022-02-06T00:30:44.636437Z"
    },
    "papermill": {
     "duration": 0.044973,
     "end_time": "2022-02-06T00:30:44.636580",
     "exception": false,
     "start_time": "2022-02-06T00:30:44.591607",
     "status": "completed"
    },
    "tags": []
   },
   "outputs": [],
   "source": [
    "%load_ext autoreload\n",
    "%autoreload 2"
   ]
  },
  {
   "cell_type": "code",
   "execution_count": 2,
   "id": "22ef38dc",
   "metadata": {
    "execution": {
     "iopub.execute_input": "2022-02-06T00:30:44.689958Z",
     "iopub.status.busy": "2022-02-06T00:30:44.689439Z",
     "iopub.status.idle": "2022-02-06T00:30:45.247721Z",
     "shell.execute_reply": "2022-02-06T00:30:45.247264Z"
    },
    "papermill": {
     "duration": 0.586394,
     "end_time": "2022-02-06T00:30:45.247839",
     "exception": false,
     "start_time": "2022-02-06T00:30:44.661445",
     "status": "completed"
    },
    "tags": []
   },
   "outputs": [],
   "source": [
    "%matplotlib inline\n",
    "import numpy as np\n",
    "import matplotlib.pyplot as plt\n",
    "import pandas as pd"
   ]
  },
  {
   "cell_type": "markdown",
   "id": "ba036198",
   "metadata": {
    "papermill": {
     "duration": 0.024816,
     "end_time": "2022-02-06T00:30:45.297477",
     "exception": false,
     "start_time": "2022-02-06T00:30:45.272661",
     "status": "completed"
    },
    "tags": []
   },
   "source": [
    "From the command line run `pip install mnist`. This is a library that will help you bring down the mnist dataset. If you run this from a notebook, you need to put  `!pip install mnist` in a cell by itself."
   ]
  },
  {
   "cell_type": "code",
   "execution_count": 3,
   "id": "bb6ad8a1",
   "metadata": {
    "execution": {
     "iopub.execute_input": "2022-02-06T00:30:45.350739Z",
     "iopub.status.busy": "2022-02-06T00:30:45.350231Z",
     "iopub.status.idle": "2022-02-06T00:30:47.874205Z",
     "shell.execute_reply": "2022-02-06T00:30:47.874615Z"
    },
    "papermill": {
     "duration": 2.552638,
     "end_time": "2022-02-06T00:30:47.874752",
     "exception": false,
     "start_time": "2022-02-06T00:30:45.322114",
     "status": "completed"
    },
    "tags": []
   },
   "outputs": [
    {
     "name": "stdout",
     "output_type": "stream",
     "text": [
      "Collecting mnist\r\n"
     ]
    },
    {
     "name": "stdout",
     "output_type": "stream",
     "text": [
      "  Downloading mnist-0.2.2-py2.py3-none-any.whl (3.5 kB)\r\n",
      "Requirement already satisfied: numpy in /opt/hostedtoolcache/Python/3.6.15/x64/lib/python3.6/site-packages (from mnist) (1.19.5)\r\n"
     ]
    },
    {
     "name": "stdout",
     "output_type": "stream",
     "text": [
      "Installing collected packages: mnist\r\n",
      "Successfully installed mnist-0.2.2\r\n"
     ]
    }
   ],
   "source": [
    "!pip install mnist"
   ]
  },
  {
   "cell_type": "markdown",
   "id": "69df9c9a",
   "metadata": {
    "papermill": {
     "duration": 0.026043,
     "end_time": "2022-02-06T00:30:47.926781",
     "exception": false,
     "start_time": "2022-02-06T00:30:47.900738",
     "status": "completed"
    },
    "tags": []
   },
   "source": [
    "## Preparing the Data"
   ]
  },
  {
   "cell_type": "code",
   "execution_count": 4,
   "id": "7f69d806",
   "metadata": {
    "execution": {
     "iopub.execute_input": "2022-02-06T00:30:47.981242Z",
     "iopub.status.busy": "2022-02-06T00:30:47.980743Z",
     "iopub.status.idle": "2022-02-06T00:30:47.994428Z",
     "shell.execute_reply": "2022-02-06T00:30:47.994833Z"
    },
    "papermill": {
     "duration": 0.042708,
     "end_time": "2022-02-06T00:30:47.994953",
     "exception": false,
     "start_time": "2022-02-06T00:30:47.952245",
     "status": "completed"
    },
    "tags": []
   },
   "outputs": [],
   "source": [
    "import mnist"
   ]
  },
  {
   "cell_type": "code",
   "execution_count": 5,
   "id": "a411e44f",
   "metadata": {
    "execution": {
     "iopub.execute_input": "2022-02-06T00:30:48.049526Z",
     "iopub.status.busy": "2022-02-06T00:30:48.049034Z",
     "iopub.status.idle": "2022-02-06T00:30:48.687922Z",
     "shell.execute_reply": "2022-02-06T00:30:48.687483Z"
    },
    "papermill": {
     "duration": 0.667405,
     "end_time": "2022-02-06T00:30:48.688038",
     "exception": false,
     "start_time": "2022-02-06T00:30:48.020633",
     "status": "completed"
    },
    "tags": []
   },
   "outputs": [],
   "source": [
    "train_images = mnist.train_images()\n",
    "train_labels = mnist.train_labels()"
   ]
  },
  {
   "cell_type": "code",
   "execution_count": 6,
   "id": "dceab3a5",
   "metadata": {
    "execution": {
     "iopub.execute_input": "2022-02-06T00:30:48.743116Z",
     "iopub.status.busy": "2022-02-06T00:30:48.742623Z",
     "iopub.status.idle": "2022-02-06T00:30:48.756124Z",
     "shell.execute_reply": "2022-02-06T00:30:48.756565Z"
    },
    "papermill": {
     "duration": 0.042807,
     "end_time": "2022-02-06T00:30:48.756693",
     "exception": false,
     "start_time": "2022-02-06T00:30:48.713886",
     "status": "completed"
    },
    "tags": []
   },
   "outputs": [
    {
     "data": {
      "text/plain": [
       "((60000, 28, 28), (60000,))"
      ]
     },
     "execution_count": 6,
     "metadata": {},
     "output_type": "execute_result"
    }
   ],
   "source": [
    "train_images.shape, train_labels.shape"
   ]
  },
  {
   "cell_type": "code",
   "execution_count": 7,
   "id": "f50dc2bb",
   "metadata": {
    "execution": {
     "iopub.execute_input": "2022-02-06T00:30:48.811894Z",
     "iopub.status.busy": "2022-02-06T00:30:48.811406Z",
     "iopub.status.idle": "2022-02-06T00:30:49.063742Z",
     "shell.execute_reply": "2022-02-06T00:30:49.063282Z"
    },
    "papermill": {
     "duration": 0.281441,
     "end_time": "2022-02-06T00:30:49.063854",
     "exception": false,
     "start_time": "2022-02-06T00:30:48.782413",
     "status": "completed"
    },
    "tags": []
   },
   "outputs": [],
   "source": [
    "test_images = mnist.test_images()\n",
    "test_labels = mnist.test_labels()"
   ]
  },
  {
   "cell_type": "code",
   "execution_count": 8,
   "id": "fc38cf1b",
   "metadata": {
    "execution": {
     "iopub.execute_input": "2022-02-06T00:30:49.119533Z",
     "iopub.status.busy": "2022-02-06T00:30:49.119032Z",
     "iopub.status.idle": "2022-02-06T00:30:49.131334Z",
     "shell.execute_reply": "2022-02-06T00:30:49.130938Z"
    },
    "papermill": {
     "duration": 0.041233,
     "end_time": "2022-02-06T00:30:49.131441",
     "exception": false,
     "start_time": "2022-02-06T00:30:49.090208",
     "status": "completed"
    },
    "tags": []
   },
   "outputs": [
    {
     "data": {
      "text/plain": [
       "((10000, 28, 28), (10000,))"
      ]
     },
     "execution_count": 8,
     "metadata": {},
     "output_type": "execute_result"
    }
   ],
   "source": [
    "test_images.shape, test_labels.shape"
   ]
  },
  {
   "cell_type": "code",
   "execution_count": 9,
   "id": "f9ed8fe0",
   "metadata": {
    "execution": {
     "iopub.execute_input": "2022-02-06T00:30:49.186884Z",
     "iopub.status.busy": "2022-02-06T00:30:49.186384Z",
     "iopub.status.idle": "2022-02-06T00:30:49.317827Z",
     "shell.execute_reply": "2022-02-06T00:30:49.318237Z"
    },
    "papermill": {
     "duration": 0.160976,
     "end_time": "2022-02-06T00:30:49.318365",
     "exception": false,
     "start_time": "2022-02-06T00:30:49.157389",
     "status": "completed"
    },
    "tags": []
   },
   "outputs": [
    {
     "name": "stdout",
     "output_type": "stream",
     "text": [
      "2\n"
     ]
    },
    {
     "data": {
      "text/plain": [
       "<matplotlib.image.AxesImage at 0x7f92d9da9cc0>"
      ]
     },
     "execution_count": 9,
     "metadata": {},
     "output_type": "execute_result"
    },
    {
     "data": {
      "image/png": "[encoded data removed]",
      "text/plain": [
       "<Figure size 432x288 with 1 Axes>"
      ]
     },
     "metadata": {
      "needs_background": "light"
     },
     "output_type": "display_data"
    }
   ],
   "source": [
    "image_index = 7776 # You may select anything up to 60,000\n",
    "print(train_labels[image_index]) \n",
    "plt.imshow(train_images[image_index], cmap='Greys')"
   ]
  },
  {
   "cell_type": "markdown",
   "id": "a8d2388d",
   "metadata": {
    "papermill": {
     "duration": 0.02737,
     "end_time": "2022-02-06T00:30:49.373141",
     "exception": false,
     "start_time": "2022-02-06T00:30:49.345771",
     "status": "completed"
    },
    "tags": []
   },
   "source": [
    "## Filter data to get 3 and 8 out"
   ]
  },
  {
   "cell_type": "code",
   "execution_count": 10,
   "id": "776f7fc7",
   "metadata": {
    "execution": {
     "iopub.execute_input": "2022-02-06T00:30:49.432397Z",
     "iopub.status.busy": "2022-02-06T00:30:49.431867Z",
     "iopub.status.idle": "2022-02-06T00:30:49.447384Z",
     "shell.execute_reply": "2022-02-06T00:30:49.446958Z"
    },
    "papermill": {
     "duration": 0.047171,
     "end_time": "2022-02-06T00:30:49.447489",
     "exception": false,
     "start_time": "2022-02-06T00:30:49.400318",
     "status": "completed"
    },
    "tags": []
   },
   "outputs": [],
   "source": [
    "train_filter = np.where((train_labels == 3 ) | (train_labels == 8))\n",
    "test_filter = np.where((test_labels == 3) | (test_labels == 8))\n",
    "X_train, y_train = train_images[train_filter], train_labels[train_filter]\n",
    "X_test, y_test = test_images[test_filter], test_labels[test_filter]"
   ]
  },
  {
   "cell_type": "markdown",
   "id": "948f0b7e",
   "metadata": {
    "papermill": {
     "duration": 0.027072,
     "end_time": "2022-02-06T00:30:49.501849",
     "exception": false,
     "start_time": "2022-02-06T00:30:49.474777",
     "status": "completed"
    },
    "tags": []
   },
   "source": [
    "We normalize the pizel values in the 0 to 1 range"
   ]
  },
  {
   "cell_type": "code",
   "execution_count": 11,
   "id": "ee4c2166",
   "metadata": {
    "execution": {
     "iopub.execute_input": "2022-02-06T00:30:49.559761Z",
     "iopub.status.busy": "2022-02-06T00:30:49.559252Z",
     "iopub.status.idle": "2022-02-06T00:30:49.599206Z",
     "shell.execute_reply": "2022-02-06T00:30:49.598799Z"
    },
    "papermill": {
     "duration": 0.070306,
     "end_time": "2022-02-06T00:30:49.599314",
     "exception": false,
     "start_time": "2022-02-06T00:30:49.529008",
     "status": "completed"
    },
    "tags": []
   },
   "outputs": [],
   "source": [
    "X_train = X_train/255.\n",
    "X_test = X_test/255."
   ]
  },
  {
   "cell_type": "markdown",
   "id": "ddcf4fab",
   "metadata": {
    "papermill": {
     "duration": 0.027298,
     "end_time": "2022-02-06T00:30:49.654367",
     "exception": false,
     "start_time": "2022-02-06T00:30:49.627069",
     "status": "completed"
    },
    "tags": []
   },
   "source": [
    "And setup the labels as 1 (when the digit is 3) and 0 (when the digit is 8)"
   ]
  },
  {
   "cell_type": "code",
   "execution_count": 12,
   "id": "7dc908f2",
   "metadata": {
    "execution": {
     "iopub.execute_input": "2022-02-06T00:30:49.712366Z",
     "iopub.status.busy": "2022-02-06T00:30:49.711776Z",
     "iopub.status.idle": "2022-02-06T00:30:49.722980Z",
     "shell.execute_reply": "2022-02-06T00:30:49.722504Z"
    },
    "papermill": {
     "duration": 0.041525,
     "end_time": "2022-02-06T00:30:49.723085",
     "exception": false,
     "start_time": "2022-02-06T00:30:49.681560",
     "status": "completed"
    },
    "tags": []
   },
   "outputs": [],
   "source": [
    "y_train = 1*(y_train==3)\n",
    "y_test = 1*(y_test==3)"
   ]
  },
  {
   "cell_type": "code",
   "execution_count": 13,
   "id": "01e4e969",
   "metadata": {
    "execution": {
     "iopub.execute_input": "2022-02-06T00:30:49.781332Z",
     "iopub.status.busy": "2022-02-06T00:30:49.780819Z",
     "iopub.status.idle": "2022-02-06T00:30:49.793097Z",
     "shell.execute_reply": "2022-02-06T00:30:49.792678Z"
    },
    "papermill": {
     "duration": 0.042606,
     "end_time": "2022-02-06T00:30:49.793201",
     "exception": false,
     "start_time": "2022-02-06T00:30:49.750595",
     "status": "completed"
    },
    "tags": []
   },
   "outputs": [
    {
     "data": {
      "text/plain": [
       "((11982, 28, 28), (1984, 28, 28))"
      ]
     },
     "execution_count": 13,
     "metadata": {},
     "output_type": "execute_result"
    }
   ],
   "source": [
    "X_train.shape, X_test.shape"
   ]
  },
  {
   "cell_type": "markdown",
   "id": "5ccf3f85",
   "metadata": {
    "papermill": {
     "duration": 0.02749,
     "end_time": "2022-02-06T00:30:49.848035",
     "exception": false,
     "start_time": "2022-02-06T00:30:49.820545",
     "status": "completed"
    },
    "tags": []
   },
   "source": [
    "We reshape the data to flatten the image pixels into a set of features or co-variates:"
   ]
  },
  {
   "cell_type": "code",
   "execution_count": 14,
   "id": "5286a4a3",
   "metadata": {
    "execution": {
     "iopub.execute_input": "2022-02-06T00:30:49.907496Z",
     "iopub.status.busy": "2022-02-06T00:30:49.906687Z",
     "iopub.status.idle": "2022-02-06T00:30:49.920179Z",
     "shell.execute_reply": "2022-02-06T00:30:49.919758Z"
    },
    "papermill": {
     "duration": 0.044628,
     "end_time": "2022-02-06T00:30:49.920300",
     "exception": false,
     "start_time": "2022-02-06T00:30:49.875672",
     "status": "completed"
    },
    "tags": []
   },
   "outputs": [
    {
     "data": {
      "text/plain": [
       "((11982, 784), (1984, 784))"
      ]
     },
     "execution_count": 14,
     "metadata": {},
     "output_type": "execute_result"
    }
   ],
   "source": [
    "X_train = X_train.reshape(X_train.shape[0], -1)\n",
    "X_test = X_test.reshape(X_test.shape[0], -1)\n",
    "X_train.shape, X_test.shape"
   ]
  },
  {
   "cell_type": "code",
   "execution_count": 15,
   "id": "73c5f88a",
   "metadata": {
    "execution": {
     "iopub.execute_input": "2022-02-06T00:30:49.979711Z",
     "iopub.status.busy": "2022-02-06T00:30:49.979202Z",
     "iopub.status.idle": "2022-02-06T00:30:49.996274Z",
     "shell.execute_reply": "2022-02-06T00:30:49.996678Z"
    },
    "papermill": {
     "duration": 0.048756,
     "end_time": "2022-02-06T00:30:49.996798",
     "exception": false,
     "start_time": "2022-02-06T00:30:49.948042",
     "status": "completed"
    },
    "tags": []
   },
   "outputs": [],
   "source": [
    "#Impoting functions from 'Kudzu'\n",
    "from kudzu.model import Model\n",
    "from kudzu.train import Learner\n",
    "from kudzu.optim import GD\n",
    "from kudzu.data import Data, Sampler,Dataloader\n",
    "\n",
    "from kudzu.callbacks import AccCallback\n",
    "from kudzu.callbacks import ClfCallback\n",
    "\n",
    "from kudzu.loss import MSE\n",
    "\n",
    "from kudzu.layer import Sigmoid,Relu\n",
    "from kudzu.layer import Affine"
   ]
  },
  {
   "cell_type": "markdown",
   "id": "bc01172a",
   "metadata": {
    "papermill": {
     "duration": 0.028238,
     "end_time": "2022-02-06T00:30:50.052939",
     "exception": false,
     "start_time": "2022-02-06T00:30:50.024701",
     "status": "completed"
    },
    "tags": []
   },
   "source": [
    "### Let us create a `Config` class, to store important parameters. \n",
    "This class essentially plays the role of a dictionary."
   ]
  },
  {
   "cell_type": "code",
   "execution_count": 16,
   "id": "978281aa",
   "metadata": {
    "execution": {
     "iopub.execute_input": "2022-02-06T00:30:50.111956Z",
     "iopub.status.busy": "2022-02-06T00:30:50.111447Z",
     "iopub.status.idle": "2022-02-06T00:30:50.122867Z",
     "shell.execute_reply": "2022-02-06T00:30:50.123283Z"
    },
    "papermill": {
     "duration": 0.042669,
     "end_time": "2022-02-06T00:30:50.123405",
     "exception": false,
     "start_time": "2022-02-06T00:30:50.080736",
     "status": "completed"
    },
    "tags": []
   },
   "outputs": [],
   "source": [
    "class Config:\n",
    "    pass\n",
    "config = Config()\n",
    "config.lr = 0.001\n",
    "config.num_epochs = 250\n",
    "config.bs = 50"
   ]
  },
  {
   "cell_type": "markdown",
   "id": "1385fa59",
   "metadata": {
    "papermill": {
     "duration": 0.028082,
     "end_time": "2022-02-06T00:30:50.179579",
     "exception": false,
     "start_time": "2022-02-06T00:30:50.151497",
     "status": "completed"
    },
    "tags": []
   },
   "source": [
    "### Running Models with the Training data\n",
    "Details about the network layers:\n",
    "- A first affine layer has 784 inputs and does 100 affine transforms. These are followed by a Relu\n",
    "- A second affine layer has 100 inputs from the 100 activations of the past layer, and does 100 affine transforms. These are followed by a Relu\n",
    "- A third affine layer has 100 activations and does 2 affine transformations to create an embedding for visualization. There is no non-linearity here.\n",
    "- A final \"logistic regression\" which has an affine transform from 2 inputs to 1 output, which is squeezed through a sigmoid.\n"
   ]
  },
  {
   "cell_type": "code",
   "execution_count": 17,
   "id": "2b9c66db",
   "metadata": {
    "execution": {
     "iopub.execute_input": "2022-02-06T00:30:50.239159Z",
     "iopub.status.busy": "2022-02-06T00:30:50.238658Z",
     "iopub.status.idle": "2022-02-06T00:30:50.250271Z",
     "shell.execute_reply": "2022-02-06T00:30:50.249847Z"
    },
    "papermill": {
     "duration": 0.042887,
     "end_time": "2022-02-06T00:30:50.250372",
     "exception": false,
     "start_time": "2022-02-06T00:30:50.207485",
     "status": "completed"
    },
    "tags": []
   },
   "outputs": [],
   "source": [
    "data = Data(X_train, y_train.reshape(-1,1))\n",
    "sampler = Sampler(data, config.bs, shuffle=True)\n",
    "\n",
    "dl = Dataloader(data, sampler)\n",
    "\n",
    "opt = GD(config.lr)\n",
    "loss = MSE()"
   ]
  },
  {
   "cell_type": "code",
   "execution_count": 18,
   "id": "b275e4c2",
   "metadata": {
    "execution": {
     "iopub.execute_input": "2022-02-06T00:30:50.309440Z",
     "iopub.status.busy": "2022-02-06T00:30:50.308934Z",
     "iopub.status.idle": "2022-02-06T00:30:50.320135Z",
     "shell.execute_reply": "2022-02-06T00:30:50.320563Z"
    },
    "papermill": {
     "duration": 0.042423,
     "end_time": "2022-02-06T00:30:50.320688",
     "exception": false,
     "start_time": "2022-02-06T00:30:50.278265",
     "status": "completed"
    },
    "tags": []
   },
   "outputs": [],
   "source": [
    "training_data_x = X_train\n",
    "testing_data_x = X_test\n",
    "training_data_y = y_train.reshape(-1,1)\n",
    "testing_data_y = y_test.reshape(-1,1)"
   ]
  },
  {
   "cell_type": "code",
   "execution_count": 19,
   "id": "76951160",
   "metadata": {
    "execution": {
     "iopub.execute_input": "2022-02-06T00:30:50.380426Z",
     "iopub.status.busy": "2022-02-06T00:30:50.379885Z",
     "iopub.status.idle": "2022-02-06T00:30:50.394973Z",
     "shell.execute_reply": "2022-02-06T00:30:50.394572Z"
    },
    "papermill": {
     "duration": 0.046565,
     "end_time": "2022-02-06T00:30:50.395078",
     "exception": false,
     "start_time": "2022-02-06T00:30:50.348513",
     "status": "completed"
    },
    "tags": []
   },
   "outputs": [
    {
     "name": "stdout",
     "output_type": "stream",
     "text": [
      "xavier\n",
      "xavier\n",
      "xavier\n",
      "xavier\n",
      "xavier\n"
     ]
    }
   ],
   "source": [
    "layers = [Affine(\"first\", 784, 100), Relu(\"first\"), Affine(\"second\", 100, 100), Relu(\"second\"), Affine(\"third\", 100, 2), Affine(\"last\", 2, 1), Sigmoid(\"last\")]\n",
    "model_nn = Model(layers)\n",
    "model_lr = Model([Affine(\"logits\", 784, 1), Sigmoid(\"sigmoid\")])"
   ]
  },
  {
   "cell_type": "code",
   "execution_count": 20,
   "id": "6eede77a",
   "metadata": {
    "execution": {
     "iopub.execute_input": "2022-02-06T00:30:50.455288Z",
     "iopub.status.busy": "2022-02-06T00:30:50.454756Z",
     "iopub.status.idle": "2022-02-06T00:30:50.466059Z",
     "shell.execute_reply": "2022-02-06T00:30:50.465656Z"
    },
    "papermill": {
     "duration": 0.042831,
     "end_time": "2022-02-06T00:30:50.466169",
     "exception": false,
     "start_time": "2022-02-06T00:30:50.423338",
     "status": "completed"
    },
    "tags": []
   },
   "outputs": [],
   "source": [
    "nn_learner = Learner(loss, model_nn, opt, config.num_epochs)\n",
    "acc_nn = ClfCallback(nn_learner, config.bs, training_data_x , testing_data_x, training_data_y, testing_data_y)\n",
    "nn_learner.set_callbacks([acc_nn])"
   ]
  },
  {
   "cell_type": "code",
   "execution_count": 21,
   "id": "877b6cc7",
   "metadata": {
    "execution": {
     "iopub.execute_input": "2022-02-06T00:30:50.526427Z",
     "iopub.status.busy": "2022-02-06T00:30:50.525905Z",
     "iopub.status.idle": "2022-02-06T00:30:50.537382Z",
     "shell.execute_reply": "2022-02-06T00:30:50.536967Z"
    },
    "papermill": {
     "duration": 0.043035,
     "end_time": "2022-02-06T00:30:50.537487",
     "exception": false,
     "start_time": "2022-02-06T00:30:50.494452",
     "status": "completed"
    },
    "tags": []
   },
   "outputs": [],
   "source": [
    "lr_learner = Learner(loss, model_lr, opt, config.num_epochs)\n",
    "acc_lr = ClfCallback(lr_learner, config.bs, training_data_x , testing_data_x, training_data_y, testing_data_y)\n",
    "lr_learner.set_callbacks([acc_lr])"
   ]
  },
  {
   "cell_type": "code",
   "execution_count": 22,
   "id": "d9b133c3",
   "metadata": {
    "execution": {
     "iopub.execute_input": "2022-02-06T00:30:50.597506Z",
     "iopub.status.busy": "2022-02-06T00:30:50.597002Z",
     "iopub.status.idle": "2022-02-06T00:33:48.416830Z",
     "shell.execute_reply": "2022-02-06T00:33:48.417252Z"
    },
    "papermill": {
     "duration": 177.851532,
     "end_time": "2022-02-06T00:33:48.417377",
     "exception": false,
     "start_time": "2022-02-06T00:30:50.565845",
     "status": "completed"
    },
    "tags": []
   },
   "outputs": [
    {
     "name": "stdout",
     "output_type": "stream",
     "text": [
      "Epoch 0, Loss 0.2204\n",
      "Training Accuracy: 0.8023, Testing Accuracy: 0.8044\n",
      "\n"
     ]
    },
    {
     "name": "stdout",
     "output_type": "stream",
     "text": [
      "Epoch 10, Loss 0.0497\n",
      "Training Accuracy: 0.9463, Testing Accuracy: 0.9531\n",
      "\n"
     ]
    },
    {
     "name": "stdout",
     "output_type": "stream",
     "text": [
      "Epoch 20, Loss 0.0368\n",
      "Training Accuracy: 0.9595, Testing Accuracy: 0.9647\n",
      "\n"
     ]
    },
    {
     "name": "stdout",
     "output_type": "stream",
     "text": [
      "Epoch 30, Loss 0.0315\n",
      "Training Accuracy: 0.9644, Testing Accuracy: 0.9662\n",
      "\n"
     ]
    },
    {
     "name": "stdout",
     "output_type": "stream",
     "text": [
      "Epoch 40, Loss 0.0285\n",
      "Training Accuracy: 0.9678, Testing Accuracy: 0.9682\n",
      "\n"
     ]
    },
    {
     "name": "stdout",
     "output_type": "stream",
     "text": [
      "Epoch 50, Loss 0.0264\n",
      "Training Accuracy: 0.9705, Testing Accuracy: 0.9703\n",
      "\n"
     ]
    },
    {
     "name": "stdout",
     "output_type": "stream",
     "text": [
      "Epoch 60, Loss 0.0249\n",
      "Training Accuracy: 0.9717, Testing Accuracy: 0.9733\n",
      "\n"
     ]
    },
    {
     "name": "stdout",
     "output_type": "stream",
     "text": [
      "Epoch 70, Loss 0.0236\n",
      "Training Accuracy: 0.9731, Testing Accuracy: 0.9748\n",
      "\n"
     ]
    },
    {
     "name": "stdout",
     "output_type": "stream",
     "text": [
      "Epoch 80, Loss 0.0226\n",
      "Training Accuracy: 0.9748, Testing Accuracy: 0.9758\n",
      "\n"
     ]
    },
    {
     "name": "stdout",
     "output_type": "stream",
     "text": [
      "Epoch 90, Loss 0.0217\n",
      "Training Accuracy: 0.9760, Testing Accuracy: 0.9748\n",
      "\n"
     ]
    },
    {
     "name": "stdout",
     "output_type": "stream",
     "text": [
      "Epoch 100, Loss 0.0209\n",
      "Training Accuracy: 0.9769, Testing Accuracy: 0.9748\n",
      "\n"
     ]
    },
    {
     "name": "stdout",
     "output_type": "stream",
     "text": [
      "Epoch 110, Loss 0.0202\n",
      "Training Accuracy: 0.9777, Testing Accuracy: 0.9748\n",
      "\n"
     ]
    },
    {
     "name": "stdout",
     "output_type": "stream",
     "text": [
      "Epoch 120, Loss 0.0195\n",
      "Training Accuracy: 0.9787, Testing Accuracy: 0.9743\n",
      "\n"
     ]
    },
    {
     "name": "stdout",
     "output_type": "stream",
     "text": [
      "Epoch 130, Loss 0.0189\n",
      "Training Accuracy: 0.9796, Testing Accuracy: 0.9748\n",
      "\n"
     ]
    },
    {
     "name": "stdout",
     "output_type": "stream",
     "text": [
      "Epoch 140, Loss 0.0184\n",
      "Training Accuracy: 0.9803, Testing Accuracy: 0.9753\n",
      "\n"
     ]
    },
    {
     "name": "stdout",
     "output_type": "stream",
     "text": [
      "Epoch 150, Loss 0.0178\n",
      "Training Accuracy: 0.9811, Testing Accuracy: 0.9748\n",
      "\n"
     ]
    },
    {
     "name": "stdout",
     "output_type": "stream",
     "text": [
      "Epoch 160, Loss 0.0173\n",
      "Training Accuracy: 0.9817, Testing Accuracy: 0.9753\n",
      "\n"
     ]
    },
    {
     "name": "stdout",
     "output_type": "stream",
     "text": [
      "Epoch 170, Loss 0.0168\n",
      "Training Accuracy: 0.9825, Testing Accuracy: 0.9758\n",
      "\n"
     ]
    },
    {
     "name": "stdout",
     "output_type": "stream",
     "text": [
      "Epoch 180, Loss 0.0163\n",
      "Training Accuracy: 0.9828, Testing Accuracy: 0.9763\n",
      "\n"
     ]
    },
    {
     "name": "stdout",
     "output_type": "stream",
     "text": [
      "Epoch 190, Loss 0.0158\n",
      "Training Accuracy: 0.9831, Testing Accuracy: 0.9768\n",
      "\n"
     ]
    },
    {
     "name": "stdout",
     "output_type": "stream",
     "text": [
      "Epoch 200, Loss 0.0154\n",
      "Training Accuracy: 0.9839, Testing Accuracy: 0.9778\n",
      "\n"
     ]
    },
    {
     "name": "stdout",
     "output_type": "stream",
     "text": [
      "Epoch 210, Loss 0.0149\n",
      "Training Accuracy: 0.9842, Testing Accuracy: 0.9773\n",
      "\n"
     ]
    },
    {
     "name": "stdout",
     "output_type": "stream",
     "text": [
      "Epoch 220, Loss 0.0145\n",
      "Training Accuracy: 0.9849, Testing Accuracy: 0.9778\n",
      "\n"
     ]
    },
    {
     "name": "stdout",
     "output_type": "stream",
     "text": [
      "Epoch 230, Loss 0.0141\n",
      "Training Accuracy: 0.9851, Testing Accuracy: 0.9778\n",
      "\n"
     ]
    },
    {
     "name": "stdout",
     "output_type": "stream",
     "text": [
      "Epoch 240, Loss 0.0138\n",
      "Training Accuracy: 0.9859, Testing Accuracy: 0.9778\n",
      "\n"
     ]
    },
    {
     "data": {
      "text/plain": [
       "0.011864105738677572"
      ]
     },
     "execution_count": 22,
     "metadata": {},
     "output_type": "execute_result"
    }
   ],
   "source": [
    "nn_learner.train_loop(dl)"
   ]
  },
  {
   "cell_type": "code",
   "execution_count": 23,
   "id": "e0163366",
   "metadata": {
    "execution": {
     "iopub.execute_input": "2022-02-06T00:33:48.494305Z",
     "iopub.status.busy": "2022-02-06T00:33:48.493063Z",
     "iopub.status.idle": "2022-02-06T00:34:00.804340Z",
     "shell.execute_reply": "2022-02-06T00:34:00.804757Z"
    },
    "papermill": {
     "duration": 12.351509,
     "end_time": "2022-02-06T00:34:00.804888",
     "exception": false,
     "start_time": "2022-02-06T00:33:48.453379",
     "status": "completed"
    },
    "tags": []
   },
   "outputs": [
    {
     "name": "stdout",
     "output_type": "stream",
     "text": [
      "Epoch 0, Loss 0.2331\n",
      "Training Accuracy: 0.7326, Testing Accuracy: 0.7440\n",
      "\n"
     ]
    },
    {
     "name": "stdout",
     "output_type": "stream",
     "text": [
      "Epoch 10, Loss 0.0992\n",
      "Training Accuracy: 0.9160, Testing Accuracy: 0.9294\n",
      "\n"
     ]
    },
    {
     "name": "stdout",
     "output_type": "stream",
     "text": [
      "Epoch 20, Loss 0.0774\n",
      "Training Accuracy: 0.9311, Testing Accuracy: 0.9405\n",
      "\n"
     ]
    },
    {
     "name": "stdout",
     "output_type": "stream",
     "text": [
      "Epoch 30, Loss 0.0672\n",
      "Training Accuracy: 0.9377, Testing Accuracy: 0.9476\n",
      "\n"
     ]
    },
    {
     "name": "stdout",
     "output_type": "stream",
     "text": [
      "Epoch 40, Loss 0.061\n",
      "Training Accuracy: 0.9411, Testing Accuracy: 0.9516\n",
      "\n"
     ]
    },
    {
     "name": "stdout",
     "output_type": "stream",
     "text": [
      "Epoch 50, Loss 0.0566\n",
      "Training Accuracy: 0.9446, Testing Accuracy: 0.9551\n",
      "\n"
     ]
    },
    {
     "name": "stdout",
     "output_type": "stream",
     "text": [
      "Epoch 60, Loss 0.0534\n",
      "Training Accuracy: 0.9476, Testing Accuracy: 0.9577\n",
      "\n"
     ]
    },
    {
     "name": "stdout",
     "output_type": "stream",
     "text": [
      "Epoch 70, Loss 0.051\n",
      "Training Accuracy: 0.9496, Testing Accuracy: 0.9572\n",
      "\n"
     ]
    },
    {
     "name": "stdout",
     "output_type": "stream",
     "text": [
      "Epoch 80, Loss 0.049\n",
      "Training Accuracy: 0.9516, Testing Accuracy: 0.9582\n",
      "\n"
     ]
    },
    {
     "name": "stdout",
     "output_type": "stream",
     "text": [
      "Epoch 90, Loss 0.0473\n",
      "Training Accuracy: 0.9527, Testing Accuracy: 0.9607\n",
      "\n"
     ]
    },
    {
     "name": "stdout",
     "output_type": "stream",
     "text": [
      "Epoch 100, Loss 0.0459\n",
      "Training Accuracy: 0.9537, Testing Accuracy: 0.9612\n",
      "\n"
     ]
    },
    {
     "name": "stdout",
     "output_type": "stream",
     "text": [
      "Epoch 110, Loss 0.0447\n",
      "Training Accuracy: 0.9544, Testing Accuracy: 0.9622\n",
      "\n"
     ]
    },
    {
     "name": "stdout",
     "output_type": "stream",
     "text": [
      "Epoch 120, Loss 0.0436\n",
      "Training Accuracy: 0.9556, Testing Accuracy: 0.9627\n",
      "\n"
     ]
    },
    {
     "name": "stdout",
     "output_type": "stream",
     "text": [
      "Epoch 130, Loss 0.0427\n",
      "Training Accuracy: 0.9564, Testing Accuracy: 0.9637\n",
      "\n"
     ]
    },
    {
     "name": "stdout",
     "output_type": "stream",
     "text": [
      "Epoch 140, Loss 0.0419\n",
      "Training Accuracy: 0.9569, Testing Accuracy: 0.9632\n",
      "\n"
     ]
    },
    {
     "name": "stdout",
     "output_type": "stream",
     "text": [
      "Epoch 150, Loss 0.0412\n",
      "Training Accuracy: 0.9572, Testing Accuracy: 0.9647\n",
      "\n"
     ]
    },
    {
     "name": "stdout",
     "output_type": "stream",
     "text": [
      "Epoch 160, Loss 0.0405\n",
      "Training Accuracy: 0.9577, Testing Accuracy: 0.9652\n",
      "\n"
     ]
    },
    {
     "name": "stdout",
     "output_type": "stream",
     "text": [
      "Epoch 170, Loss 0.0399\n",
      "Training Accuracy: 0.9584, Testing Accuracy: 0.9652\n",
      "\n"
     ]
    },
    {
     "name": "stdout",
     "output_type": "stream",
     "text": [
      "Epoch 180, Loss 0.0393\n",
      "Training Accuracy: 0.9592, Testing Accuracy: 0.9662\n",
      "\n"
     ]
    },
    {
     "name": "stdout",
     "output_type": "stream",
     "text": [
      "Epoch 190, Loss 0.0388\n",
      "Training Accuracy: 0.9596, Testing Accuracy: 0.9662\n",
      "\n"
     ]
    },
    {
     "name": "stdout",
     "output_type": "stream",
     "text": [
      "Epoch 200, Loss 0.0383\n",
      "Training Accuracy: 0.9601, Testing Accuracy: 0.9662\n",
      "\n"
     ]
    },
    {
     "name": "stdout",
     "output_type": "stream",
     "text": [
      "Epoch 210, Loss 0.0379\n",
      "Training Accuracy: 0.9607, Testing Accuracy: 0.9662\n",
      "\n"
     ]
    },
    {
     "name": "stdout",
     "output_type": "stream",
     "text": [
      "Epoch 220, Loss 0.0375\n",
      "Training Accuracy: 0.9610, Testing Accuracy: 0.9662\n",
      "\n"
     ]
    },
    {
     "name": "stdout",
     "output_type": "stream",
     "text": [
      "Epoch 230, Loss 0.0371\n",
      "Training Accuracy: 0.9614, Testing Accuracy: 0.9667\n",
      "\n"
     ]
    },
    {
     "name": "stdout",
     "output_type": "stream",
     "text": [
      "Epoch 240, Loss 0.0367\n",
      "Training Accuracy: 0.9615, Testing Accuracy: 0.9677\n",
      "\n"
     ]
    },
    {
     "data": {
      "text/plain": [
       "0.018000547753787528"
      ]
     },
     "execution_count": 23,
     "metadata": {},
     "output_type": "execute_result"
    }
   ],
   "source": [
    "lr_learner.train_loop(dl)"
   ]
  },
  {
   "cell_type": "code",
   "execution_count": 24,
   "id": "ca410940",
   "metadata": {
    "execution": {
     "iopub.execute_input": "2022-02-06T00:34:00.900646Z",
     "iopub.status.busy": "2022-02-06T00:34:00.899556Z",
     "iopub.status.idle": "2022-02-06T00:34:01.125578Z",
     "shell.execute_reply": "2022-02-06T00:34:01.125135Z"
    },
    "papermill": {
     "duration": 0.275949,
     "end_time": "2022-02-06T00:34:01.125694",
     "exception": false,
     "start_time": "2022-02-06T00:34:00.849745",
     "status": "completed"
    },
    "tags": []
   },
   "outputs": [
    {
     "data": {
      "text/plain": [
       "<matplotlib.legend.Legend at 0x7f92d9916470>"
      ]
     },
     "execution_count": 24,
     "metadata": {},
     "output_type": "execute_result"
    },
    {
     "data": {
      "image/png": "[encoded data removed]",
      "text/plain": [
       "<Figure size 1080x720 with 1 Axes>"
      ]
     },
     "metadata": {
      "needs_background": "light"
     },
     "output_type": "display_data"
    }
   ],
   "source": [
    "#comparing the results of NN and LR\n",
    "plt.figure(figsize=(15,10))\n",
    "\n",
    "# Neural Network plots\n",
    "plt.plot(acc_nn.accuracies, 'r-', label = \"Training Accuracies - NN\")\n",
    "plt.plot(acc_nn.test_accuracies, 'g-', label = \"Testing Accuracies - NN\")\n",
    "\n",
    "# Logistic Regression plots\n",
    "plt.plot(acc_lr.accuracies, 'k-', label = \"Training Accuracies - LR\")\n",
    "plt.plot(acc_lr.test_accuracies, 'b-', label = \"Testing Accuracies - LR\")\n",
    "plt.legend()"
   ]
  },
  {
   "cell_type": "markdown",
   "id": "80dfb35c",
   "metadata": {
    "papermill": {
     "duration": 0.043444,
     "end_time": "2022-02-06T00:34:01.212759",
     "exception": false,
     "start_time": "2022-02-06T00:34:01.169315",
     "status": "completed"
    },
    "tags": []
   },
   "source": [
    "#### Plotting the outputs of this layer of the NN.\n"
   ]
  },
  {
   "cell_type": "code",
   "execution_count": 25,
   "id": "45eb2ff5",
   "metadata": {
    "execution": {
     "iopub.execute_input": "2022-02-06T00:34:01.303108Z",
     "iopub.status.busy": "2022-02-06T00:34:01.302576Z",
     "iopub.status.idle": "2022-02-06T00:34:01.337847Z",
     "shell.execute_reply": "2022-02-06T00:34:01.338264Z"
    },
    "papermill": {
     "duration": 0.082158,
     "end_time": "2022-02-06T00:34:01.338397",
     "exception": false,
     "start_time": "2022-02-06T00:34:01.256239",
     "status": "completed"
    },
    "tags": []
   },
   "outputs": [],
   "source": [
    "new_model = Model(layers[:-2])\n",
    "testing_plot = new_model(testing_data_x)"
   ]
  },
  {
   "cell_type": "code",
   "execution_count": 26,
   "id": "4c0a5485",
   "metadata": {
    "execution": {
     "iopub.execute_input": "2022-02-06T00:34:01.429633Z",
     "iopub.status.busy": "2022-02-06T00:34:01.429128Z",
     "iopub.status.idle": "2022-02-06T00:34:01.618974Z",
     "shell.execute_reply": "2022-02-06T00:34:01.618537Z"
    },
    "papermill": {
     "duration": 0.237091,
     "end_time": "2022-02-06T00:34:01.619090",
     "exception": false,
     "start_time": "2022-02-06T00:34:01.381999",
     "status": "completed"
    },
    "tags": []
   },
   "outputs": [
    {
     "data": {
      "text/plain": [
       "Text(0.5, 1.0, 'Outputs')"
      ]
     },
     "execution_count": 26,
     "metadata": {},
     "output_type": "execute_result"
    },
    {
     "data": {
      "image/png": "[encoded data removed]",
      "text/plain": [
       "<Figure size 576x504 with 1 Axes>"
      ]
     },
     "metadata": {
      "needs_background": "light"
     },
     "output_type": "display_data"
    }
   ],
   "source": [
    "# Plotting the scatter plot of points and color coding by class\n",
    "plt.figure(figsize=(8,7))\n",
    "plt.scatter(testing_plot[:,0], testing_plot[:,1], alpha = 0.1, c = y_test.ravel());\n",
    "plt.title('Outputs')"
   ]
  },
  {
   "cell_type": "markdown",
   "id": "a74fcf8f",
   "metadata": {
    "papermill": {
     "duration": 0.046047,
     "end_time": "2022-02-06T00:34:01.711443",
     "exception": false,
     "start_time": "2022-02-06T00:34:01.665396",
     "status": "completed"
    },
    "tags": []
   },
   "source": [
    "Probability contours"
   ]
  },
  {
   "cell_type": "code",
   "execution_count": 27,
   "id": "d0afc8e3",
   "metadata": {
    "execution": {
     "iopub.execute_input": "2022-02-06T00:34:01.809519Z",
     "iopub.status.busy": "2022-02-06T00:34:01.809005Z",
     "iopub.status.idle": "2022-02-06T00:34:01.820229Z",
     "shell.execute_reply": "2022-02-06T00:34:01.820653Z"
    },
    "papermill": {
     "duration": 0.06314,
     "end_time": "2022-02-06T00:34:01.820778",
     "exception": false,
     "start_time": "2022-02-06T00:34:01.757638",
     "status": "completed"
    },
    "tags": []
   },
   "outputs": [],
   "source": [
    "model_prob = Model(layers[-2:]) "
   ]
  },
  {
   "cell_type": "code",
   "execution_count": 28,
   "id": "9b96e238",
   "metadata": {
    "execution": {
     "iopub.execute_input": "2022-02-06T00:34:01.940234Z",
     "iopub.status.busy": "2022-02-06T00:34:01.939717Z",
     "iopub.status.idle": "2022-02-06T00:34:01.952938Z",
     "shell.execute_reply": "2022-02-06T00:34:01.953350Z"
    },
    "papermill": {
     "duration": 0.086528,
     "end_time": "2022-02-06T00:34:01.953482",
     "exception": false,
     "start_time": "2022-02-06T00:34:01.866954",
     "status": "completed"
    },
    "tags": []
   },
   "outputs": [],
   "source": [
    "#creating the x and y ranges according to the above generated plot.\n",
    "x_range = np.linspace(-4, 1, 100) \n",
    "y_range = np.linspace(-6, 6, 100) \n",
    "x_grid, y_grid = np.meshgrid(x_range, y_range) # x_grid and y_grig are of size 100 X 100\n",
    "\n",
    "# converting x_grid and y_grid to continuous arrays\n",
    "x_gridflat = np.ravel(x_grid)\n",
    "y_gridflat = np.ravel(y_grid)\n",
    "\n",
    "# The last layer of the current model takes two columns as input. Hence transpose of np.vstack() is required.\n",
    "X = np.vstack((x_gridflat, y_gridflat)).T\n",
    "\n",
    "prob_contour = model_prob(X).reshape(100,100) "
   ]
  },
  {
   "cell_type": "code",
   "execution_count": 29,
   "id": "da72499a",
   "metadata": {
    "execution": {
     "iopub.execute_input": "2022-02-06T00:34:02.050256Z",
     "iopub.status.busy": "2022-02-06T00:34:02.049747Z",
     "iopub.status.idle": "2022-02-06T00:34:02.298941Z",
     "shell.execute_reply": "2022-02-06T00:34:02.298508Z"
    },
    "papermill": {
     "duration": 0.299027,
     "end_time": "2022-02-06T00:34:02.299053",
     "exception": false,
     "start_time": "2022-02-06T00:34:02.000026",
     "status": "completed"
    },
    "tags": []
   },
   "outputs": [
    {
     "data": {
      "image/png": "[encoded data removed]",
      "text/plain": [
       "<Figure size 720x648 with 1 Axes>"
      ]
     },
     "metadata": {
      "needs_background": "light"
     },
     "output_type": "display_data"
    }
   ],
   "source": [
    "plt.figure(figsize=(10,9))\n",
    "plt.scatter(testing_plot[:,0], testing_plot[:,1], alpha = 0.1, c = y_test.ravel())\n",
    "contours = plt.contour(x_grid,y_grid,prob_contour)\n",
    "plt.title('Probability Contours')\n",
    "plt.clabel(contours, inline = True );"
   ]
  },
  {
   "cell_type": "code",
   "execution_count": null,
   "id": "e81b4ac7",
   "metadata": {
    "papermill": {
     "duration": 0.04894,
     "end_time": "2022-02-06T00:34:02.397442",
     "exception": false,
     "start_time": "2022-02-06T00:34:02.348502",
     "status": "completed"
    },
    "tags": []
   },
   "outputs": [],
   "source": []
  }
 ],
 "metadata": {
  "kernelspec": {
   "display_name": "Python 3",
   "language": "python",
   "name": "python3"
  },
  "language_info": {
   "codemirror_mode": {
    "name": "ipython",
    "version": 3
   },
   "file_extension": ".py",
   "mimetype": "text/x-python",
   "name": "python",
   "nbconvert_exporter": "python",
   "pygments_lexer": "ipython3",
   "version": "3.6.15"
  },
  "papermill": {
   "default_parameters": {},
   "duration": 199.288481,
   "end_time": "2022-02-06T00:34:02.864154",
   "environment_variables": {},
   "exception": null,
   "input_path": "2020-08-11-part2.ipynb",
   "output_path": "2020-08-11-part2.ipynb",
   "parameters": {},
   "start_time": "2022-02-06T00:30:43.575673",
   "version": "2.3.3"
  }
 },
 "nbformat": 4,
 "nbformat_minor": 5
}