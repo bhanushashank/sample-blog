{
 "cells": [
  {
   "cell_type": "markdown",
   "id": "98380cd3",
   "metadata": {
    "papermill": {
     "duration": 0.033902,
     "end_time": "2022-06-05T20:09:53.329311",
     "exception": false,
     "start_time": "2022-06-05T20:09:53.295409",
     "status": "completed"
    },
    "tags": []
   },
   "source": [
    "# Distinguish Your Own Digits (DYOD)"
   ]
  },
  {
   "cell_type": "markdown",
   "id": "ef31240d",
   "metadata": {
    "papermill": {
     "duration": 0.027426,
     "end_time": "2022-06-05T20:09:53.384533",
     "exception": false,
     "start_time": "2022-06-05T20:09:53.357107",
     "status": "completed"
    },
    "tags": []
   },
   "source": [
    "You are going to write a classifier that distinguishes between the number 3 and number 8."
   ]
  },
  {
   "cell_type": "code",
   "execution_count": 1,
   "id": "b15c8646",
   "metadata": {
    "execution": {
     "iopub.execute_input": "2022-06-05T20:09:53.453662Z",
     "iopub.status.busy": "2022-06-05T20:09:53.447681Z",
     "iopub.status.idle": "2022-06-05T20:09:53.466182Z",
     "shell.execute_reply": "2022-06-05T20:09:53.465551Z"
    },
    "papermill": {
     "duration": 0.054694,
     "end_time": "2022-06-05T20:09:53.466328",
     "exception": false,
     "start_time": "2022-06-05T20:09:53.411634",
     "status": "completed"
    },
    "tags": []
   },
   "outputs": [],
   "source": [
    "%load_ext autoreload\n",
    "%autoreload 2"
   ]
  },
  {
   "cell_type": "code",
   "execution_count": 2,
   "id": "22ef38dc",
   "metadata": {
    "execution": {
     "iopub.execute_input": "2022-06-05T20:09:53.527736Z",
     "iopub.status.busy": "2022-06-05T20:09:53.527023Z",
     "iopub.status.idle": "2022-06-05T20:09:54.159678Z",
     "shell.execute_reply": "2022-06-05T20:09:54.157806Z"
    },
    "papermill": {
     "duration": 0.666482,
     "end_time": "2022-06-05T20:09:54.159909",
     "exception": false,
     "start_time": "2022-06-05T20:09:53.493427",
     "status": "completed"
    },
    "tags": []
   },
   "outputs": [],
   "source": [
    "%matplotlib inline\n",
    "import numpy as np\n",
    "import matplotlib.pyplot as plt\n",
    "import pandas as pd"
   ]
  },
  {
   "cell_type": "markdown",
   "id": "ba036198",
   "metadata": {
    "papermill": {
     "duration": 0.028359,
     "end_time": "2022-06-05T20:09:54.215756",
     "exception": false,
     "start_time": "2022-06-05T20:09:54.187397",
     "status": "completed"
    },
    "tags": []
   },
   "source": [
    "From the command line run `pip install mnist`. This is a library that will help you bring down the mnist dataset. If you run this from a notebook, you need to put  `!pip install mnist` in a cell by itself."
   ]
  },
  {
   "cell_type": "code",
   "execution_count": 3,
   "id": "bb6ad8a1",
   "metadata": {
    "execution": {
     "iopub.execute_input": "2022-06-05T20:09:54.276074Z",
     "iopub.status.busy": "2022-06-05T20:09:54.275338Z",
     "iopub.status.idle": "2022-06-05T20:09:56.174937Z",
     "shell.execute_reply": "2022-06-05T20:09:56.174009Z"
    },
    "papermill": {
     "duration": 1.932163,
     "end_time": "2022-06-05T20:09:56.175130",
     "exception": false,
     "start_time": "2022-06-05T20:09:54.242967",
     "status": "completed"
    },
    "tags": []
   },
   "outputs": [
    {
     "name": "stdout",
     "output_type": "stream",
     "text": [
      "Collecting mnist\r\n"
     ]
    },
    {
     "name": "stdout",
     "output_type": "stream",
     "text": [
      "  Downloading mnist-0.2.2-py2.py3-none-any.whl (3.5 kB)\r\n",
      "Requirement already satisfied: numpy in /opt/hostedtoolcache/Python/3.6.15/x64/lib/python3.6/site-packages (from mnist) (1.19.5)\r\n"
     ]
    },
    {
     "name": "stdout",
     "output_type": "stream",
     "text": [
      "Installing collected packages: mnist\r\n"
     ]
    },
    {
     "name": "stdout",
     "output_type": "stream",
     "text": [
      "Successfully installed mnist-0.2.2\r\n"
     ]
    }
   ],
   "source": [
    "!pip install mnist"
   ]
  },
  {
   "cell_type": "markdown",
   "id": "69df9c9a",
   "metadata": {
    "papermill": {
     "duration": 0.028373,
     "end_time": "2022-06-05T20:09:56.233810",
     "exception": false,
     "start_time": "2022-06-05T20:09:56.205437",
     "status": "completed"
    },
    "tags": []
   },
   "source": [
    "## Preparing the Data"
   ]
  },
  {
   "cell_type": "code",
   "execution_count": 4,
   "id": "7f69d806",
   "metadata": {
    "execution": {
     "iopub.execute_input": "2022-06-05T20:09:56.295319Z",
     "iopub.status.busy": "2022-06-05T20:09:56.294618Z",
     "iopub.status.idle": "2022-06-05T20:09:56.311295Z",
     "shell.execute_reply": "2022-06-05T20:09:56.310603Z"
    },
    "papermill": {
     "duration": 0.050216,
     "end_time": "2022-06-05T20:09:56.311428",
     "exception": false,
     "start_time": "2022-06-05T20:09:56.261212",
     "status": "completed"
    },
    "tags": []
   },
   "outputs": [],
   "source": [
    "import mnist"
   ]
  },
  {
   "cell_type": "code",
   "execution_count": 5,
   "id": "a411e44f",
   "metadata": {
    "execution": {
     "iopub.execute_input": "2022-06-05T20:09:56.374691Z",
     "iopub.status.busy": "2022-06-05T20:09:56.373982Z",
     "iopub.status.idle": "2022-06-05T20:09:57.049067Z",
     "shell.execute_reply": "2022-06-05T20:09:57.048428Z"
    },
    "papermill": {
     "duration": 0.708592,
     "end_time": "2022-06-05T20:09:57.049206",
     "exception": false,
     "start_time": "2022-06-05T20:09:56.340614",
     "status": "completed"
    },
    "tags": []
   },
   "outputs": [],
   "source": [
    "train_images = mnist.train_images()\n",
    "train_labels = mnist.train_labels()"
   ]
  },
  {
   "cell_type": "code",
   "execution_count": 6,
   "id": "dceab3a5",
   "metadata": {
    "execution": {
     "iopub.execute_input": "2022-06-05T20:09:57.114052Z",
     "iopub.status.busy": "2022-06-05T20:09:57.113248Z",
     "iopub.status.idle": "2022-06-05T20:09:57.129132Z",
     "shell.execute_reply": "2022-06-05T20:09:57.129825Z"
    },
    "papermill": {
     "duration": 0.051764,
     "end_time": "2022-06-05T20:09:57.129983",
     "exception": false,
     "start_time": "2022-06-05T20:09:57.078219",
     "status": "completed"
    },
    "tags": []
   },
   "outputs": [
    {
     "data": {
      "text/plain": [
       "((60000, 28, 28), (60000,))"
      ]
     },
     "execution_count": 6,
     "metadata": {},
     "output_type": "execute_result"
    }
   ],
   "source": [
    "train_images.shape, train_labels.shape"
   ]
  },
  {
   "cell_type": "code",
   "execution_count": 7,
   "id": "f50dc2bb",
   "metadata": {
    "execution": {
     "iopub.execute_input": "2022-06-05T20:09:57.191663Z",
     "iopub.status.busy": "2022-06-05T20:09:57.190967Z",
     "iopub.status.idle": "2022-06-05T20:09:57.363731Z",
     "shell.execute_reply": "2022-06-05T20:09:57.362999Z"
    },
    "papermill": {
     "duration": 0.205311,
     "end_time": "2022-06-05T20:09:57.363869",
     "exception": false,
     "start_time": "2022-06-05T20:09:57.158558",
     "status": "completed"
    },
    "tags": []
   },
   "outputs": [],
   "source": [
    "test_images = mnist.test_images()\n",
    "test_labels = mnist.test_labels()"
   ]
  },
  {
   "cell_type": "code",
   "execution_count": 8,
   "id": "fc38cf1b",
   "metadata": {
    "execution": {
     "iopub.execute_input": "2022-06-05T20:09:57.430811Z",
     "iopub.status.busy": "2022-06-05T20:09:57.430168Z",
     "iopub.status.idle": "2022-06-05T20:09:57.445583Z",
     "shell.execute_reply": "2022-06-05T20:09:57.446118Z"
    },
    "papermill": {
     "duration": 0.05177,
     "end_time": "2022-06-05T20:09:57.446352",
     "exception": false,
     "start_time": "2022-06-05T20:09:57.394582",
     "status": "completed"
    },
    "tags": []
   },
   "outputs": [
    {
     "data": {
      "text/plain": [
       "((10000, 28, 28), (10000,))"
      ]
     },
     "execution_count": 8,
     "metadata": {},
     "output_type": "execute_result"
    }
   ],
   "source": [
    "test_images.shape, test_labels.shape"
   ]
  },
  {
   "cell_type": "code",
   "execution_count": 9,
   "id": "f9ed8fe0",
   "metadata": {
    "execution": {
     "iopub.execute_input": "2022-06-05T20:09:57.515019Z",
     "iopub.status.busy": "2022-06-05T20:09:57.514323Z",
     "iopub.status.idle": "2022-06-05T20:09:57.677827Z",
     "shell.execute_reply": "2022-06-05T20:09:57.678375Z"
    },
    "papermill": {
     "duration": 0.197884,
     "end_time": "2022-06-05T20:09:57.678531",
     "exception": false,
     "start_time": "2022-06-05T20:09:57.480647",
     "status": "completed"
    },
    "tags": []
   },
   "outputs": [
    {
     "name": "stdout",
     "output_type": "stream",
     "text": [
      "2\n"
     ]
    },
    {
     "data": {
      "text/plain": [
       "<matplotlib.image.AxesImage at 0x7f98150b33c8>"
      ]
     },
     "execution_count": 9,
     "metadata": {},
     "output_type": "execute_result"
    },
    {
     "data": {
      "image/png": "[encoded data removed]",
      "text/plain": [
       "<Figure size 432x288 with 1 Axes>"
      ]
     },
     "metadata": {
      "needs_background": "light"
     },
     "output_type": "display_data"
    }
   ],
   "source": [
    "image_index = 7776 # You may select anything up to 60,000\n",
    "print(train_labels[image_index]) \n",
    "plt.imshow(train_images[image_index], cmap='Greys')"
   ]
  },
  {
   "cell_type": "markdown",
   "id": "a8d2388d",
   "metadata": {
    "papermill": {
     "duration": 0.03033,
     "end_time": "2022-06-05T20:09:57.739056",
     "exception": false,
     "start_time": "2022-06-05T20:09:57.708726",
     "status": "completed"
    },
    "tags": []
   },
   "source": [
    "## Filter data to get 3 and 8 out"
   ]
  },
  {
   "cell_type": "code",
   "execution_count": 10,
   "id": "776f7fc7",
   "metadata": {
    "execution": {
     "iopub.execute_input": "2022-06-05T20:09:57.806410Z",
     "iopub.status.busy": "2022-06-05T20:09:57.805678Z",
     "iopub.status.idle": "2022-06-05T20:09:57.829298Z",
     "shell.execute_reply": "2022-06-05T20:09:57.828674Z"
    },
    "papermill": {
     "duration": 0.060338,
     "end_time": "2022-06-05T20:09:57.829436",
     "exception": false,
     "start_time": "2022-06-05T20:09:57.769098",
     "status": "completed"
    },
    "tags": []
   },
   "outputs": [],
   "source": [
    "train_filter = np.where((train_labels == 3 ) | (train_labels == 8))\n",
    "test_filter = np.where((test_labels == 3) | (test_labels == 8))\n",
    "X_train, y_train = train_images[train_filter], train_labels[train_filter]\n",
    "X_test, y_test = test_images[test_filter], test_labels[test_filter]"
   ]
  },
  {
   "cell_type": "markdown",
   "id": "948f0b7e",
   "metadata": {
    "papermill": {
     "duration": 0.030519,
     "end_time": "2022-06-05T20:09:57.890474",
     "exception": false,
     "start_time": "2022-06-05T20:09:57.859955",
     "status": "completed"
    },
    "tags": []
   },
   "source": [
    "We normalize the pizel values in the 0 to 1 range"
   ]
  },
  {
   "cell_type": "code",
   "execution_count": 11,
   "id": "ee4c2166",
   "metadata": {
    "execution": {
     "iopub.execute_input": "2022-06-05T20:09:57.960337Z",
     "iopub.status.busy": "2022-06-05T20:09:57.959641Z",
     "iopub.status.idle": "2022-06-05T20:09:58.014767Z",
     "shell.execute_reply": "2022-06-05T20:09:58.014043Z"
    },
    "papermill": {
     "duration": 0.094384,
     "end_time": "2022-06-05T20:09:58.014922",
     "exception": false,
     "start_time": "2022-06-05T20:09:57.920538",
     "status": "completed"
    },
    "tags": []
   },
   "outputs": [],
   "source": [
    "X_train = X_train/255.\n",
    "X_test = X_test/255."
   ]
  },
  {
   "cell_type": "markdown",
   "id": "ddcf4fab",
   "metadata": {
    "papermill": {
     "duration": 0.030454,
     "end_time": "2022-06-05T20:09:58.076998",
     "exception": false,
     "start_time": "2022-06-05T20:09:58.046544",
     "status": "completed"
    },
    "tags": []
   },
   "source": [
    "And setup the labels as 1 (when the digit is 3) and 0 (when the digit is 8)"
   ]
  },
  {
   "cell_type": "code",
   "execution_count": 12,
   "id": "7dc908f2",
   "metadata": {
    "execution": {
     "iopub.execute_input": "2022-06-05T20:09:58.146764Z",
     "iopub.status.busy": "2022-06-05T20:09:58.146057Z",
     "iopub.status.idle": "2022-06-05T20:09:58.160112Z",
     "shell.execute_reply": "2022-06-05T20:09:58.160641Z"
    },
    "papermill": {
     "duration": 0.053439,
     "end_time": "2022-06-05T20:09:58.160789",
     "exception": false,
     "start_time": "2022-06-05T20:09:58.107350",
     "status": "completed"
    },
    "tags": []
   },
   "outputs": [],
   "source": [
    "y_train = 1*(y_train==3)\n",
    "y_test = 1*(y_test==3)"
   ]
  },
  {
   "cell_type": "code",
   "execution_count": 13,
   "id": "01e4e969",
   "metadata": {
    "execution": {
     "iopub.execute_input": "2022-06-05T20:09:58.226765Z",
     "iopub.status.busy": "2022-06-05T20:09:58.226066Z",
     "iopub.status.idle": "2022-06-05T20:09:58.241663Z",
     "shell.execute_reply": "2022-06-05T20:09:58.241079Z"
    },
    "papermill": {
     "duration": 0.050836,
     "end_time": "2022-06-05T20:09:58.241792",
     "exception": false,
     "start_time": "2022-06-05T20:09:58.190956",
     "status": "completed"
    },
    "tags": []
   },
   "outputs": [
    {
     "data": {
      "text/plain": [
       "((11982, 28, 28), (1984, 28, 28))"
      ]
     },
     "execution_count": 13,
     "metadata": {},
     "output_type": "execute_result"
    }
   ],
   "source": [
    "X_train.shape, X_test.shape"
   ]
  },
  {
   "cell_type": "markdown",
   "id": "5ccf3f85",
   "metadata": {
    "papermill": {
     "duration": 0.030026,
     "end_time": "2022-06-05T20:09:58.302663",
     "exception": false,
     "start_time": "2022-06-05T20:09:58.272637",
     "status": "completed"
    },
    "tags": []
   },
   "source": [
    "We reshape the data to flatten the image pixels into a set of features or co-variates:"
   ]
  },
  {
   "cell_type": "code",
   "execution_count": 14,
   "id": "5286a4a3",
   "metadata": {
    "execution": {
     "iopub.execute_input": "2022-06-05T20:09:58.368850Z",
     "iopub.status.busy": "2022-06-05T20:09:58.368162Z",
     "iopub.status.idle": "2022-06-05T20:09:58.383832Z",
     "shell.execute_reply": "2022-06-05T20:09:58.384384Z"
    },
    "papermill": {
     "duration": 0.051518,
     "end_time": "2022-06-05T20:09:58.384533",
     "exception": false,
     "start_time": "2022-06-05T20:09:58.333015",
     "status": "completed"
    },
    "tags": []
   },
   "outputs": [
    {
     "data": {
      "text/plain": [
       "((11982, 784), (1984, 784))"
      ]
     },
     "execution_count": 14,
     "metadata": {},
     "output_type": "execute_result"
    }
   ],
   "source": [
    "X_train = X_train.reshape(X_train.shape[0], -1)\n",
    "X_test = X_test.reshape(X_test.shape[0], -1)\n",
    "X_train.shape, X_test.shape"
   ]
  },
  {
   "cell_type": "code",
   "execution_count": 15,
   "id": "73c5f88a",
   "metadata": {
    "execution": {
     "iopub.execute_input": "2022-06-05T20:09:58.451772Z",
     "iopub.status.busy": "2022-06-05T20:09:58.451084Z",
     "iopub.status.idle": "2022-06-05T20:09:58.473806Z",
     "shell.execute_reply": "2022-06-05T20:09:58.473004Z"
    },
    "papermill": {
     "duration": 0.0588,
     "end_time": "2022-06-05T20:09:58.473979",
     "exception": false,
     "start_time": "2022-06-05T20:09:58.415179",
     "status": "completed"
    },
    "tags": []
   },
   "outputs": [],
   "source": [
    "#Impoting functions from 'Kudzu'\n",
    "from kudzu.model import Model\n",
    "from kudzu.train import Learner\n",
    "from kudzu.optim import GD\n",
    "from kudzu.data import Data, Sampler,Dataloader\n",
    "\n",
    "from kudzu.callbacks import AccCallback\n",
    "from kudzu.callbacks import ClfCallback\n",
    "\n",
    "from kudzu.loss import MSE\n",
    "\n",
    "from kudzu.layer import Sigmoid,Relu\n",
    "from kudzu.layer import Affine"
   ]
  },
  {
   "cell_type": "markdown",
   "id": "bc01172a",
   "metadata": {
    "papermill": {
     "duration": 0.029966,
     "end_time": "2022-06-05T20:09:58.535910",
     "exception": false,
     "start_time": "2022-06-05T20:09:58.505944",
     "status": "completed"
    },
    "tags": []
   },
   "source": [
    "### Let us create a `Config` class, to store important parameters. \n",
    "This class essentially plays the role of a dictionary."
   ]
  },
  {
   "cell_type": "code",
   "execution_count": 16,
   "id": "978281aa",
   "metadata": {
    "execution": {
     "iopub.execute_input": "2022-06-05T20:09:58.602338Z",
     "iopub.status.busy": "2022-06-05T20:09:58.601618Z",
     "iopub.status.idle": "2022-06-05T20:09:58.615884Z",
     "shell.execute_reply": "2022-06-05T20:09:58.615322Z"
    },
    "papermill": {
     "duration": 0.050172,
     "end_time": "2022-06-05T20:09:58.616013",
     "exception": false,
     "start_time": "2022-06-05T20:09:58.565841",
     "status": "completed"
    },
    "tags": []
   },
   "outputs": [],
   "source": [
    "class Config:\n",
    "    pass\n",
    "config = Config()\n",
    "config.lr = 0.001\n",
    "config.num_epochs = 250\n",
    "config.bs = 50"
   ]
  },
  {
   "cell_type": "markdown",
   "id": "1385fa59",
   "metadata": {
    "papermill": {
     "duration": 0.030719,
     "end_time": "2022-06-05T20:09:58.677019",
     "exception": false,
     "start_time": "2022-06-05T20:09:58.646300",
     "status": "completed"
    },
    "tags": []
   },
   "source": [
    "### Running Models with the Training data\n",
    "Details about the network layers:\n",
    "- A first affine layer has 784 inputs and does 100 affine transforms. These are followed by a Relu\n",
    "- A second affine layer has 100 inputs from the 100 activations of the past layer, and does 100 affine transforms. These are followed by a Relu\n",
    "- A third affine layer has 100 activations and does 2 affine transformations to create an embedding for visualization. There is no non-linearity here.\n",
    "- A final \"logistic regression\" which has an affine transform from 2 inputs to 1 output, which is squeezed through a sigmoid.\n"
   ]
  },
  {
   "cell_type": "code",
   "execution_count": 17,
   "id": "2b9c66db",
   "metadata": {
    "execution": {
     "iopub.execute_input": "2022-06-05T20:09:58.743575Z",
     "iopub.status.busy": "2022-06-05T20:09:58.742861Z",
     "iopub.status.idle": "2022-06-05T20:09:58.758196Z",
     "shell.execute_reply": "2022-06-05T20:09:58.757583Z"
    },
    "papermill": {
     "duration": 0.050983,
     "end_time": "2022-06-05T20:09:58.758326",
     "exception": false,
     "start_time": "2022-06-05T20:09:58.707343",
     "status": "completed"
    },
    "tags": []
   },
   "outputs": [],
   "source": [
    "data = Data(X_train, y_train.reshape(-1,1))\n",
    "sampler = Sampler(data, config.bs, shuffle=True)\n",
    "\n",
    "dl = Dataloader(data, sampler)\n",
    "\n",
    "opt = GD(config.lr)\n",
    "loss = MSE()"
   ]
  },
  {
   "cell_type": "code",
   "execution_count": 18,
   "id": "b275e4c2",
   "metadata": {
    "execution": {
     "iopub.execute_input": "2022-06-05T20:09:58.826511Z",
     "iopub.status.busy": "2022-06-05T20:09:58.825773Z",
     "iopub.status.idle": "2022-06-05T20:09:58.838749Z",
     "shell.execute_reply": "2022-06-05T20:09:58.838177Z"
    },
    "papermill": {
     "duration": 0.050578,
     "end_time": "2022-06-05T20:09:58.838878",
     "exception": false,
     "start_time": "2022-06-05T20:09:58.788300",
     "status": "completed"
    },
    "tags": []
   },
   "outputs": [],
   "source": [
    "training_data_x = X_train\n",
    "testing_data_x = X_test\n",
    "training_data_y = y_train.reshape(-1,1)\n",
    "testing_data_y = y_test.reshape(-1,1)"
   ]
  },
  {
   "cell_type": "code",
   "execution_count": 19,
   "id": "76951160",
   "metadata": {
    "execution": {
     "iopub.execute_input": "2022-06-05T20:09:58.905189Z",
     "iopub.status.busy": "2022-06-05T20:09:58.904493Z",
     "iopub.status.idle": "2022-06-05T20:09:58.923367Z",
     "shell.execute_reply": "2022-06-05T20:09:58.922701Z"
    },
    "papermill": {
     "duration": 0.054254,
     "end_time": "2022-06-05T20:09:58.923494",
     "exception": false,
     "start_time": "2022-06-05T20:09:58.869240",
     "status": "completed"
    },
    "tags": []
   },
   "outputs": [
    {
     "name": "stdout",
     "output_type": "stream",
     "text": [
      "xavier\n",
      "xavier\n",
      "xavier\n",
      "xavier\n",
      "xavier\n"
     ]
    }
   ],
   "source": [
    "layers = [Affine(\"first\", 784, 100), Relu(\"first\"), Affine(\"second\", 100, 100), Relu(\"second\"), Affine(\"third\", 100, 2), Affine(\"last\", 2, 1), Sigmoid(\"last\")]\n",
    "model_nn = Model(layers)\n",
    "model_lr = Model([Affine(\"logits\", 784, 1), Sigmoid(\"sigmoid\")])"
   ]
  },
  {
   "cell_type": "code",
   "execution_count": 20,
   "id": "6eede77a",
   "metadata": {
    "execution": {
     "iopub.execute_input": "2022-06-05T20:09:58.990075Z",
     "iopub.status.busy": "2022-06-05T20:09:58.989353Z",
     "iopub.status.idle": "2022-06-05T20:09:59.003611Z",
     "shell.execute_reply": "2022-06-05T20:09:59.003053Z"
    },
    "papermill": {
     "duration": 0.049792,
     "end_time": "2022-06-05T20:09:59.003742",
     "exception": false,
     "start_time": "2022-06-05T20:09:58.953950",
     "status": "completed"
    },
    "tags": []
   },
   "outputs": [],
   "source": [
    "nn_learner = Learner(loss, model_nn, opt, config.num_epochs)\n",
    "acc_nn = ClfCallback(nn_learner, config.bs, training_data_x , testing_data_x, training_data_y, testing_data_y)\n",
    "nn_learner.set_callbacks([acc_nn])"
   ]
  },
  {
   "cell_type": "code",
   "execution_count": 21,
   "id": "877b6cc7",
   "metadata": {
    "execution": {
     "iopub.execute_input": "2022-06-05T20:09:59.071039Z",
     "iopub.status.busy": "2022-06-05T20:09:59.070356Z",
     "iopub.status.idle": "2022-06-05T20:09:59.084483Z",
     "shell.execute_reply": "2022-06-05T20:09:59.083814Z"
    },
    "papermill": {
     "duration": 0.050118,
     "end_time": "2022-06-05T20:09:59.084612",
     "exception": false,
     "start_time": "2022-06-05T20:09:59.034494",
     "status": "completed"
    },
    "tags": []
   },
   "outputs": [],
   "source": [
    "lr_learner = Learner(loss, model_lr, opt, config.num_epochs)\n",
    "acc_lr = ClfCallback(lr_learner, config.bs, training_data_x , testing_data_x, training_data_y, testing_data_y)\n",
    "lr_learner.set_callbacks([acc_lr])"
   ]
  },
  {
   "cell_type": "code",
   "execution_count": 22,
   "id": "d9b133c3",
   "metadata": {
    "execution": {
     "iopub.execute_input": "2022-06-05T20:09:59.151389Z",
     "iopub.status.busy": "2022-06-05T20:09:59.150648Z",
     "iopub.status.idle": "2022-06-05T20:11:29.501411Z",
     "shell.execute_reply": "2022-06-05T20:11:29.502422Z"
    },
    "papermill": {
     "duration": 90.386832,
     "end_time": "2022-06-05T20:11:29.502590",
     "exception": false,
     "start_time": "2022-06-05T20:09:59.115758",
     "status": "completed"
    },
    "tags": []
   },
   "outputs": [
    {
     "name": "stdout",
     "output_type": "stream",
     "text": [
      "Epoch 0, Loss 0.2417\n",
      "Training Accuracy: 0.7009, Testing Accuracy: 0.7107\n",
      "\n"
     ]
    },
    {
     "name": "stdout",
     "output_type": "stream",
     "text": [
      "Epoch 10, Loss 0.0759\n",
      "Training Accuracy: 0.9315, Testing Accuracy: 0.9410\n",
      "\n"
     ]
    },
    {
     "name": "stdout",
     "output_type": "stream",
     "text": [
      "Epoch 20, Loss 0.0515\n",
      "Training Accuracy: 0.9454, Testing Accuracy: 0.9536\n",
      "\n"
     ]
    },
    {
     "name": "stdout",
     "output_type": "stream",
     "text": [
      "Epoch 30, Loss 0.0424\n",
      "Training Accuracy: 0.9519, Testing Accuracy: 0.9607\n",
      "\n"
     ]
    },
    {
     "name": "stdout",
     "output_type": "stream",
     "text": [
      "Epoch 40, Loss 0.0374\n",
      "Training Accuracy: 0.9579, Testing Accuracy: 0.9647\n",
      "\n"
     ]
    },
    {
     "name": "stdout",
     "output_type": "stream",
     "text": [
      "Epoch 50, Loss 0.0342\n",
      "Training Accuracy: 0.9608, Testing Accuracy: 0.9688\n",
      "\n"
     ]
    },
    {
     "name": "stdout",
     "output_type": "stream",
     "text": [
      "Epoch 60, Loss 0.0319\n",
      "Training Accuracy: 0.9626, Testing Accuracy: 0.9708\n",
      "\n"
     ]
    },
    {
     "name": "stdout",
     "output_type": "stream",
     "text": [
      "Epoch 70, Loss 0.0301\n",
      "Training Accuracy: 0.9644, Testing Accuracy: 0.9713\n",
      "\n"
     ]
    },
    {
     "name": "stdout",
     "output_type": "stream",
     "text": [
      "Epoch 80, Loss 0.0287\n",
      "Training Accuracy: 0.9660, Testing Accuracy: 0.9713\n",
      "\n"
     ]
    },
    {
     "name": "stdout",
     "output_type": "stream",
     "text": [
      "Epoch 90, Loss 0.0275\n",
      "Training Accuracy: 0.9673, Testing Accuracy: 0.9713\n",
      "\n"
     ]
    },
    {
     "name": "stdout",
     "output_type": "stream",
     "text": [
      "Epoch 100, Loss 0.0265\n",
      "Training Accuracy: 0.9692, Testing Accuracy: 0.9713\n",
      "\n"
     ]
    },
    {
     "name": "stdout",
     "output_type": "stream",
     "text": [
      "Epoch 110, Loss 0.0256\n",
      "Training Accuracy: 0.9705, Testing Accuracy: 0.9718\n",
      "\n"
     ]
    },
    {
     "name": "stdout",
     "output_type": "stream",
     "text": [
      "Epoch 120, Loss 0.0248\n",
      "Training Accuracy: 0.9715, Testing Accuracy: 0.9718\n",
      "\n"
     ]
    },
    {
     "name": "stdout",
     "output_type": "stream",
     "text": [
      "Epoch 130, Loss 0.024\n",
      "Training Accuracy: 0.9724, Testing Accuracy: 0.9723\n",
      "\n"
     ]
    },
    {
     "name": "stdout",
     "output_type": "stream",
     "text": [
      "Epoch 140, Loss 0.0233\n",
      "Training Accuracy: 0.9733, Testing Accuracy: 0.9713\n",
      "\n"
     ]
    },
    {
     "name": "stdout",
     "output_type": "stream",
     "text": [
      "Epoch 150, Loss 0.0227\n",
      "Training Accuracy: 0.9741, Testing Accuracy: 0.9723\n",
      "\n"
     ]
    },
    {
     "name": "stdout",
     "output_type": "stream",
     "text": [
      "Epoch 160, Loss 0.0221\n",
      "Training Accuracy: 0.9750, Testing Accuracy: 0.9723\n",
      "\n"
     ]
    },
    {
     "name": "stdout",
     "output_type": "stream",
     "text": [
      "Epoch 170, Loss 0.0216\n",
      "Training Accuracy: 0.9751, Testing Accuracy: 0.9728\n",
      "\n"
     ]
    },
    {
     "name": "stdout",
     "output_type": "stream",
     "text": [
      "Epoch 180, Loss 0.021\n",
      "Training Accuracy: 0.9756, Testing Accuracy: 0.9728\n",
      "\n"
     ]
    },
    {
     "name": "stdout",
     "output_type": "stream",
     "text": [
      "Epoch 190, Loss 0.0205\n",
      "Training Accuracy: 0.9766, Testing Accuracy: 0.9733\n",
      "\n"
     ]
    },
    {
     "name": "stdout",
     "output_type": "stream",
     "text": [
      "Epoch 200, Loss 0.02\n",
      "Training Accuracy: 0.9772, Testing Accuracy: 0.9738\n",
      "\n"
     ]
    },
    {
     "name": "stdout",
     "output_type": "stream",
     "text": [
      "Epoch 210, Loss 0.0196\n",
      "Training Accuracy: 0.9775, Testing Accuracy: 0.9738\n",
      "\n"
     ]
    },
    {
     "name": "stdout",
     "output_type": "stream",
     "text": [
      "Epoch 220, Loss 0.0191\n",
      "Training Accuracy: 0.9780, Testing Accuracy: 0.9748\n",
      "\n"
     ]
    },
    {
     "name": "stdout",
     "output_type": "stream",
     "text": [
      "Epoch 230, Loss 0.0187\n",
      "Training Accuracy: 0.9788, Testing Accuracy: 0.9748\n",
      "\n"
     ]
    },
    {
     "name": "stdout",
     "output_type": "stream",
     "text": [
      "Epoch 240, Loss 0.0183\n",
      "Training Accuracy: 0.9796, Testing Accuracy: 0.9753\n",
      "\n"
     ]
    },
    {
     "data": {
      "text/plain": [
       "0.002642596767661462"
      ]
     },
     "execution_count": 22,
     "metadata": {},
     "output_type": "execute_result"
    }
   ],
   "source": [
    "nn_learner.train_loop(dl)"
   ]
  },
  {
   "cell_type": "code",
   "execution_count": 23,
   "id": "e0163366",
   "metadata": {
    "execution": {
     "iopub.execute_input": "2022-06-05T20:11:29.611988Z",
     "iopub.status.busy": "2022-06-05T20:11:29.611278Z",
     "iopub.status.idle": "2022-06-05T20:11:45.570564Z",
     "shell.execute_reply": "2022-06-05T20:11:45.571460Z"
    },
    "papermill": {
     "duration": 16.029597,
     "end_time": "2022-06-05T20:11:45.571617",
     "exception": false,
     "start_time": "2022-06-05T20:11:29.542020",
     "status": "completed"
    },
    "tags": []
   },
   "outputs": [
    {
     "name": "stdout",
     "output_type": "stream",
     "text": [
      "Epoch 0, Loss 0.2404\n",
      "Training Accuracy: 0.6789, Testing Accuracy: 0.6769\n",
      "\n"
     ]
    },
    {
     "name": "stdout",
     "output_type": "stream",
     "text": [
      "Epoch 10, Loss 0.1003\n",
      "Training Accuracy: 0.9150, Testing Accuracy: 0.9279\n",
      "\n"
     ]
    },
    {
     "name": "stdout",
     "output_type": "stream",
     "text": [
      "Epoch 20, Loss 0.0775\n",
      "Training Accuracy: 0.9298, Testing Accuracy: 0.9420\n",
      "\n"
     ]
    },
    {
     "name": "stdout",
     "output_type": "stream",
     "text": [
      "Epoch 30, Loss 0.067\n",
      "Training Accuracy: 0.9384, Testing Accuracy: 0.9496\n",
      "\n"
     ]
    },
    {
     "name": "stdout",
     "output_type": "stream",
     "text": [
      "Epoch 40, Loss 0.0607\n",
      "Training Accuracy: 0.9419, Testing Accuracy: 0.9521\n",
      "\n"
     ]
    },
    {
     "name": "stdout",
     "output_type": "stream",
     "text": [
      "Epoch 50, Loss 0.0564\n",
      "Training Accuracy: 0.9459, Testing Accuracy: 0.9536\n",
      "\n"
     ]
    },
    {
     "name": "stdout",
     "output_type": "stream",
     "text": [
      "Epoch 60, Loss 0.0533\n",
      "Training Accuracy: 0.9490, Testing Accuracy: 0.9567\n",
      "\n"
     ]
    },
    {
     "name": "stdout",
     "output_type": "stream",
     "text": [
      "Epoch 70, Loss 0.0508\n",
      "Training Accuracy: 0.9508, Testing Accuracy: 0.9572\n",
      "\n"
     ]
    },
    {
     "name": "stdout",
     "output_type": "stream",
     "text": [
      "Epoch 80, Loss 0.0488\n",
      "Training Accuracy: 0.9523, Testing Accuracy: 0.9597\n",
      "\n"
     ]
    },
    {
     "name": "stdout",
     "output_type": "stream",
     "text": [
      "Epoch 90, Loss 0.0472\n",
      "Training Accuracy: 0.9537, Testing Accuracy: 0.9617\n",
      "\n"
     ]
    },
    {
     "name": "stdout",
     "output_type": "stream",
     "text": [
      "Epoch 100, Loss 0.0458\n",
      "Training Accuracy: 0.9545, Testing Accuracy: 0.9647\n",
      "\n"
     ]
    },
    {
     "name": "stdout",
     "output_type": "stream",
     "text": [
      "Epoch 110, Loss 0.0446\n",
      "Training Accuracy: 0.9551, Testing Accuracy: 0.9652\n",
      "\n"
     ]
    },
    {
     "name": "stdout",
     "output_type": "stream",
     "text": [
      "Epoch 120, Loss 0.0436\n",
      "Training Accuracy: 0.9556, Testing Accuracy: 0.9657\n",
      "\n"
     ]
    },
    {
     "name": "stdout",
     "output_type": "stream",
     "text": [
      "Epoch 130, Loss 0.0427\n",
      "Training Accuracy: 0.9563, Testing Accuracy: 0.9662\n",
      "\n"
     ]
    },
    {
     "name": "stdout",
     "output_type": "stream",
     "text": [
      "Epoch 140, Loss 0.0419\n",
      "Training Accuracy: 0.9570, Testing Accuracy: 0.9667\n",
      "\n"
     ]
    },
    {
     "name": "stdout",
     "output_type": "stream",
     "text": [
      "Epoch 150, Loss 0.0412\n",
      "Training Accuracy: 0.9580, Testing Accuracy: 0.9677\n",
      "\n"
     ]
    },
    {
     "name": "stdout",
     "output_type": "stream",
     "text": [
      "Epoch 160, Loss 0.0405\n",
      "Training Accuracy: 0.9587, Testing Accuracy: 0.9682\n",
      "\n"
     ]
    },
    {
     "name": "stdout",
     "output_type": "stream",
     "text": [
      "Epoch 170, Loss 0.0399\n",
      "Training Accuracy: 0.9593, Testing Accuracy: 0.9677\n",
      "\n"
     ]
    },
    {
     "name": "stdout",
     "output_type": "stream",
     "text": [
      "Epoch 180, Loss 0.0394\n",
      "Training Accuracy: 0.9597, Testing Accuracy: 0.9682\n",
      "\n"
     ]
    },
    {
     "name": "stdout",
     "output_type": "stream",
     "text": [
      "Epoch 190, Loss 0.0389\n",
      "Training Accuracy: 0.9605, Testing Accuracy: 0.9677\n",
      "\n"
     ]
    },
    {
     "name": "stdout",
     "output_type": "stream",
     "text": [
      "Epoch 200, Loss 0.0384\n",
      "Training Accuracy: 0.9606, Testing Accuracy: 0.9688\n",
      "\n"
     ]
    },
    {
     "name": "stdout",
     "output_type": "stream",
     "text": [
      "Epoch 210, Loss 0.038\n",
      "Training Accuracy: 0.9609, Testing Accuracy: 0.9682\n",
      "\n"
     ]
    },
    {
     "name": "stdout",
     "output_type": "stream",
     "text": [
      "Epoch 220, Loss 0.0376\n",
      "Training Accuracy: 0.9610, Testing Accuracy: 0.9688\n",
      "\n"
     ]
    },
    {
     "name": "stdout",
     "output_type": "stream",
     "text": [
      "Epoch 230, Loss 0.0372\n",
      "Training Accuracy: 0.9614, Testing Accuracy: 0.9693\n",
      "\n"
     ]
    },
    {
     "name": "stdout",
     "output_type": "stream",
     "text": [
      "Epoch 240, Loss 0.0368\n",
      "Training Accuracy: 0.9618, Testing Accuracy: 0.9698\n",
      "\n"
     ]
    },
    {
     "data": {
      "text/plain": [
       "0.018117153058015256"
      ]
     },
     "execution_count": 23,
     "metadata": {},
     "output_type": "execute_result"
    }
   ],
   "source": [
    "lr_learner.train_loop(dl)"
   ]
  },
  {
   "cell_type": "code",
   "execution_count": 24,
   "id": "ca410940",
   "metadata": {
    "execution": {
     "iopub.execute_input": "2022-06-05T20:11:45.679433Z",
     "iopub.status.busy": "2022-06-05T20:11:45.678722Z",
     "iopub.status.idle": "2022-06-05T20:11:45.933238Z",
     "shell.execute_reply": "2022-06-05T20:11:45.933913Z"
    },
    "papermill": {
     "duration": 0.315971,
     "end_time": "2022-06-05T20:11:45.934065",
     "exception": false,
     "start_time": "2022-06-05T20:11:45.618094",
     "status": "completed"
    },
    "tags": []
   },
   "outputs": [
    {
     "data": {
      "text/plain": [
       "<matplotlib.legend.Legend at 0x7f9814c14b00>"
      ]
     },
     "execution_count": 24,
     "metadata": {},
     "output_type": "execute_result"
    },
    {
     "data": {
      "image/png": "[encoded data removed]",
      "text/plain": [
       "<Figure size 1080x720 with 1 Axes>"
      ]
     },
     "metadata": {
      "needs_background": "light"
     },
     "output_type": "display_data"
    }
   ],
   "source": [
    "#comparing the results of NN and LR\n",
    "plt.figure(figsize=(15,10))\n",
    "\n",
    "# Neural Network plots\n",
    "plt.plot(acc_nn.accuracies, 'r-', label = \"Training Accuracies - NN\")\n",
    "plt.plot(acc_nn.test_accuracies, 'g-', label = \"Testing Accuracies - NN\")\n",
    "\n",
    "# Logistic Regression plots\n",
    "plt.plot(acc_lr.accuracies, 'k-', label = \"Training Accuracies - LR\")\n",
    "plt.plot(acc_lr.test_accuracies, 'b-', label = \"Testing Accuracies - LR\")\n",
    "plt.legend()"
   ]
  },
  {
   "cell_type": "markdown",
   "id": "80dfb35c",
   "metadata": {
    "papermill": {
     "duration": 0.046736,
     "end_time": "2022-06-05T20:11:46.028033",
     "exception": false,
     "start_time": "2022-06-05T20:11:45.981297",
     "status": "completed"
    },
    "tags": []
   },
   "source": [
    "#### Plotting the outputs of this layer of the NN.\n"
   ]
  },
  {
   "cell_type": "code",
   "execution_count": 25,
   "id": "45eb2ff5",
   "metadata": {
    "execution": {
     "iopub.execute_input": "2022-06-05T20:11:46.131073Z",
     "iopub.status.busy": "2022-06-05T20:11:46.129937Z",
     "iopub.status.idle": "2022-06-05T20:11:46.151106Z",
     "shell.execute_reply": "2022-06-05T20:11:46.151661Z"
    },
    "papermill": {
     "duration": 0.076342,
     "end_time": "2022-06-05T20:11:46.151821",
     "exception": false,
     "start_time": "2022-06-05T20:11:46.075479",
     "status": "completed"
    },
    "tags": []
   },
   "outputs": [],
   "source": [
    "new_model = Model(layers[:-2])\n",
    "testing_plot = new_model(testing_data_x)"
   ]
  },
  {
   "cell_type": "code",
   "execution_count": 26,
   "id": "4c0a5485",
   "metadata": {
    "execution": {
     "iopub.execute_input": "2022-06-05T20:11:46.256319Z",
     "iopub.status.busy": "2022-06-05T20:11:46.253330Z",
     "iopub.status.idle": "2022-06-05T20:11:46.477211Z",
     "shell.execute_reply": "2022-06-05T20:11:46.476577Z"
    },
    "papermill": {
     "duration": 0.277174,
     "end_time": "2022-06-05T20:11:46.477350",
     "exception": false,
     "start_time": "2022-06-05T20:11:46.200176",
     "status": "completed"
    },
    "tags": []
   },
   "outputs": [
    {
     "data": {
      "text/plain": [
       "Text(0.5, 1.0, 'Outputs')"
      ]
     },
     "execution_count": 26,
     "metadata": {},
     "output_type": "execute_result"
    },
    {
     "data": {
      "image/png": "[encoded data removed]",
      "text/plain": [
       "<Figure size 576x504 with 1 Axes>"
      ]
     },
     "metadata": {
      "needs_background": "light"
     },
     "output_type": "display_data"
    }
   ],
   "source": [
    "# Plotting the scatter plot of points and color coding by class\n",
    "plt.figure(figsize=(8,7))\n",
    "plt.scatter(testing_plot[:,0], testing_plot[:,1], alpha = 0.1, c = y_test.ravel());\n",
    "plt.title('Outputs')"
   ]
  },
  {
   "cell_type": "markdown",
   "id": "a74fcf8f",
   "metadata": {
    "papermill": {
     "duration": 0.049952,
     "end_time": "2022-06-05T20:11:46.577259",
     "exception": false,
     "start_time": "2022-06-05T20:11:46.527307",
     "status": "completed"
    },
    "tags": []
   },
   "source": [
    "Probability contours"
   ]
  },
  {
   "cell_type": "code",
   "execution_count": 27,
   "id": "d0afc8e3",
   "metadata": {
    "execution": {
     "iopub.execute_input": "2022-06-05T20:11:46.713278Z",
     "iopub.status.busy": "2022-06-05T20:11:46.712565Z",
     "iopub.status.idle": "2022-06-05T20:11:46.726063Z",
     "shell.execute_reply": "2022-06-05T20:11:46.726633Z"
    },
    "papermill": {
     "duration": 0.06959,
     "end_time": "2022-06-05T20:11:46.726784",
     "exception": false,
     "start_time": "2022-06-05T20:11:46.657194",
     "status": "completed"
    },
    "tags": []
   },
   "outputs": [],
   "source": [
    "model_prob = Model(layers[-2:]) "
   ]
  },
  {
   "cell_type": "code",
   "execution_count": 28,
   "id": "9b96e238",
   "metadata": {
    "execution": {
     "iopub.execute_input": "2022-06-05T20:11:46.832613Z",
     "iopub.status.busy": "2022-06-05T20:11:46.831907Z",
     "iopub.status.idle": "2022-06-05T20:11:46.846712Z",
     "shell.execute_reply": "2022-06-05T20:11:46.846170Z"
    },
    "papermill": {
     "duration": 0.070151,
     "end_time": "2022-06-05T20:11:46.846843",
     "exception": false,
     "start_time": "2022-06-05T20:11:46.776692",
     "status": "completed"
    },
    "tags": []
   },
   "outputs": [],
   "source": [
    "#creating the x and y ranges according to the above generated plot.\n",
    "x_range = np.linspace(-4, 1, 100) \n",
    "y_range = np.linspace(-6, 6, 100) \n",
    "x_grid, y_grid = np.meshgrid(x_range, y_range) # x_grid and y_grig are of size 100 X 100\n",
    "\n",
    "# converting x_grid and y_grid to continuous arrays\n",
    "x_gridflat = np.ravel(x_grid)\n",
    "y_gridflat = np.ravel(y_grid)\n",
    "\n",
    "# The last layer of the current model takes two columns as input. Hence transpose of np.vstack() is required.\n",
    "X = np.vstack((x_gridflat, y_gridflat)).T\n",
    "\n",
    "prob_contour = model_prob(X).reshape(100,100) "
   ]
  },
  {
   "cell_type": "code",
   "execution_count": 29,
   "id": "da72499a",
   "metadata": {
    "execution": {
     "iopub.execute_input": "2022-06-05T20:11:46.955963Z",
     "iopub.status.busy": "2022-06-05T20:11:46.955288Z",
     "iopub.status.idle": "2022-06-05T20:11:47.237562Z",
     "shell.execute_reply": "2022-06-05T20:11:47.238116Z"
    },
    "papermill": {
     "duration": 0.341524,
     "end_time": "2022-06-05T20:11:47.238270",
     "exception": false,
     "start_time": "2022-06-05T20:11:46.896746",
     "status": "completed"
    },
    "tags": []
   },
   "outputs": [
    {
     "data": {
      "image/png": "[encoded data removed]",
      "text/plain": [
       "<Figure size 720x648 with 1 Axes>"
      ]
     },
     "metadata": {
      "needs_background": "light"
     },
     "output_type": "display_data"
    }
   ],
   "source": [
    "plt.figure(figsize=(10,9))\n",
    "plt.scatter(testing_plot[:,0], testing_plot[:,1], alpha = 0.1, c = y_test.ravel())\n",
    "contours = plt.contour(x_grid,y_grid,prob_contour)\n",
    "plt.title('Probability Contours')\n",
    "plt.clabel(contours, inline = True );"
   ]
  },
  {
   "cell_type": "code",
   "execution_count": null,
   "id": "e81b4ac7",
   "metadata": {
    "papermill": {
     "duration": 0.0522,
     "end_time": "2022-06-05T20:11:47.341953",
     "exception": false,
     "start_time": "2022-06-05T20:11:47.289753",
     "status": "completed"
    },
    "tags": []
   },
   "outputs": [],
   "source": []
  }
 ],
 "metadata": {
  "kernelspec": {
   "display_name": "Python 3",
   "language": "python",
   "name": "python3"
  },
  "language_info": {
   "codemirror_mode": {
    "name": "ipython",
    "version": 3
   },
   "file_extension": ".py",
   "mimetype": "text/x-python",
   "name": "python",
   "nbconvert_exporter": "python",
   "pygments_lexer": "ipython3",
   "version": "3.6.15"
  },
  "papermill": {
   "default_parameters": {},
   "duration": 115.824769,
   "end_time": "2022-06-05T20:11:47.816899",
   "environment_variables": {},
   "exception": null,
   "input_path": "2020-08-11-part2.ipynb",
   "output_path": "2020-08-11-part2.ipynb",
   "parameters": {},
   "start_time": "2022-06-05T20:09:51.992130",
   "version": "2.3.3"
  }
 },
 "nbformat": 4,
 "nbformat_minor": 5
}