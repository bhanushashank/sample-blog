{
 "cells": [
  {
   "cell_type": "markdown",
   "id": "98380cd3",
   "metadata": {
    "papermill": {
     "duration": 0.037449,
     "end_time": "2022-09-19T00:46:03.171892",
     "exception": false,
     "start_time": "2022-09-19T00:46:03.134443",
     "status": "completed"
    },
    "tags": []
   },
   "source": [
    "# Distinguish Your Own Digits (DYOD)"
   ]
  },
  {
   "cell_type": "markdown",
   "id": "ef31240d",
   "metadata": {
    "papermill": {
     "duration": 0.031864,
     "end_time": "2022-09-19T00:46:03.236323",
     "exception": false,
     "start_time": "2022-09-19T00:46:03.204459",
     "status": "completed"
    },
    "tags": []
   },
   "source": [
    "You are going to write a classifier that distinguishes between the number 3 and number 8."
   ]
  },
  {
   "cell_type": "code",
   "execution_count": 1,
   "id": "b15c8646",
   "metadata": {
    "execution": {
     "iopub.execute_input": "2022-09-19T00:46:03.314015Z",
     "iopub.status.busy": "2022-09-19T00:46:03.313126Z",
     "iopub.status.idle": "2022-09-19T00:46:03.328829Z",
     "shell.execute_reply": "2022-09-19T00:46:03.328099Z"
    },
    "papermill": {
     "duration": 0.060751,
     "end_time": "2022-09-19T00:46:03.329310",
     "exception": false,
     "start_time": "2022-09-19T00:46:03.268559",
     "status": "completed"
    },
    "tags": []
   },
   "outputs": [],
   "source": [
    "%load_ext autoreload\n",
    "%autoreload 2"
   ]
  },
  {
   "cell_type": "code",
   "execution_count": 2,
   "id": "22ef38dc",
   "metadata": {
    "execution": {
     "iopub.execute_input": "2022-09-19T00:46:03.406091Z",
     "iopub.status.busy": "2022-09-19T00:46:03.405015Z",
     "iopub.status.idle": "2022-09-19T00:46:04.162018Z",
     "shell.execute_reply": "2022-09-19T00:46:04.162641Z"
    },
    "papermill": {
     "duration": 0.800829,
     "end_time": "2022-09-19T00:46:04.162835",
     "exception": false,
     "start_time": "2022-09-19T00:46:03.362006",
     "status": "completed"
    },
    "tags": []
   },
   "outputs": [],
   "source": [
    "%matplotlib inline\n",
    "import numpy as np\n",
    "import matplotlib.pyplot as plt\n",
    "import pandas as pd"
   ]
  },
  {
   "cell_type": "markdown",
   "id": "ba036198",
   "metadata": {
    "papermill": {
     "duration": 0.032413,
     "end_time": "2022-09-19T00:46:04.228789",
     "exception": false,
     "start_time": "2022-09-19T00:46:04.196376",
     "status": "completed"
    },
    "tags": []
   },
   "source": [
    "From the command line run `pip install mnist`. This is a library that will help you bring down the mnist dataset. If you run this from a notebook, you need to put  `!pip install mnist` in a cell by itself."
   ]
  },
  {
   "cell_type": "code",
   "execution_count": 3,
   "id": "bb6ad8a1",
   "metadata": {
    "execution": {
     "iopub.execute_input": "2022-09-19T00:46:04.309625Z",
     "iopub.status.busy": "2022-09-19T00:46:04.308783Z",
     "iopub.status.idle": "2022-09-19T00:46:06.389802Z",
     "shell.execute_reply": "2022-09-19T00:46:06.388761Z"
    },
    "papermill": {
     "duration": 2.128013,
     "end_time": "2022-09-19T00:46:06.389993",
     "exception": false,
     "start_time": "2022-09-19T00:46:04.261980",
     "status": "completed"
    },
    "tags": []
   },
   "outputs": [
    {
     "name": "stdout",
     "output_type": "stream",
     "text": [
      "Collecting mnist\r\n"
     ]
    },
    {
     "name": "stdout",
     "output_type": "stream",
     "text": [
      "  Downloading mnist-0.2.2-py2.py3-none-any.whl (3.5 kB)\r\n",
      "Requirement already satisfied: numpy in /opt/hostedtoolcache/Python/3.6.15/x64/lib/python3.6/site-packages (from mnist) (1.19.5)\r\n"
     ]
    },
    {
     "name": "stdout",
     "output_type": "stream",
     "text": [
      "Installing collected packages: mnist\r\n"
     ]
    },
    {
     "name": "stdout",
     "output_type": "stream",
     "text": [
      "Successfully installed mnist-0.2.2\r\n"
     ]
    }
   ],
   "source": [
    "!pip install mnist"
   ]
  },
  {
   "cell_type": "markdown",
   "id": "69df9c9a",
   "metadata": {
    "papermill": {
     "duration": 0.034201,
     "end_time": "2022-09-19T00:46:06.456760",
     "exception": false,
     "start_time": "2022-09-19T00:46:06.422559",
     "status": "completed"
    },
    "tags": []
   },
   "source": [
    "## Preparing the Data"
   ]
  },
  {
   "cell_type": "code",
   "execution_count": 4,
   "id": "7f69d806",
   "metadata": {
    "execution": {
     "iopub.execute_input": "2022-09-19T00:46:06.546784Z",
     "iopub.status.busy": "2022-09-19T00:46:06.531780Z",
     "iopub.status.idle": "2022-09-19T00:46:06.557019Z",
     "shell.execute_reply": "2022-09-19T00:46:06.555968Z"
    },
    "papermill": {
     "duration": 0.067797,
     "end_time": "2022-09-19T00:46:06.557184",
     "exception": false,
     "start_time": "2022-09-19T00:46:06.489387",
     "status": "completed"
    },
    "tags": []
   },
   "outputs": [],
   "source": [
    "import mnist"
   ]
  },
  {
   "cell_type": "code",
   "execution_count": 5,
   "id": "a411e44f",
   "metadata": {
    "execution": {
     "iopub.execute_input": "2022-09-19T00:46:06.631274Z",
     "iopub.status.busy": "2022-09-19T00:46:06.630342Z",
     "iopub.status.idle": "2022-09-19T00:46:07.225484Z",
     "shell.execute_reply": "2022-09-19T00:46:07.224685Z"
    },
    "papermill": {
     "duration": 0.634454,
     "end_time": "2022-09-19T00:46:07.225638",
     "exception": false,
     "start_time": "2022-09-19T00:46:06.591184",
     "status": "completed"
    },
    "tags": []
   },
   "outputs": [],
   "source": [
    "train_images = mnist.train_images()\n",
    "train_labels = mnist.train_labels()"
   ]
  },
  {
   "cell_type": "code",
   "execution_count": 6,
   "id": "dceab3a5",
   "metadata": {
    "execution": {
     "iopub.execute_input": "2022-09-19T00:46:07.310810Z",
     "iopub.status.busy": "2022-09-19T00:46:07.301489Z",
     "iopub.status.idle": "2022-09-19T00:46:07.321658Z",
     "shell.execute_reply": "2022-09-19T00:46:07.321037Z"
    },
    "papermill": {
     "duration": 0.063845,
     "end_time": "2022-09-19T00:46:07.321814",
     "exception": false,
     "start_time": "2022-09-19T00:46:07.257969",
     "status": "completed"
    },
    "tags": []
   },
   "outputs": [
    {
     "data": {
      "text/plain": [
       "((60000, 28, 28), (60000,))"
      ]
     },
     "execution_count": 6,
     "metadata": {},
     "output_type": "execute_result"
    }
   ],
   "source": [
    "train_images.shape, train_labels.shape"
   ]
  },
  {
   "cell_type": "code",
   "execution_count": 7,
   "id": "f50dc2bb",
   "metadata": {
    "execution": {
     "iopub.execute_input": "2022-09-19T00:46:07.393547Z",
     "iopub.status.busy": "2022-09-19T00:46:07.392767Z",
     "iopub.status.idle": "2022-09-19T00:46:07.662698Z",
     "shell.execute_reply": "2022-09-19T00:46:07.662052Z"
    },
    "papermill": {
     "duration": 0.308066,
     "end_time": "2022-09-19T00:46:07.662854",
     "exception": false,
     "start_time": "2022-09-19T00:46:07.354788",
     "status": "completed"
    },
    "tags": []
   },
   "outputs": [],
   "source": [
    "test_images = mnist.test_images()\n",
    "test_labels = mnist.test_labels()"
   ]
  },
  {
   "cell_type": "code",
   "execution_count": 8,
   "id": "fc38cf1b",
   "metadata": {
    "execution": {
     "iopub.execute_input": "2022-09-19T00:46:07.738298Z",
     "iopub.status.busy": "2022-09-19T00:46:07.737496Z",
     "iopub.status.idle": "2022-09-19T00:46:07.754139Z",
     "shell.execute_reply": "2022-09-19T00:46:07.753498Z"
    },
    "papermill": {
     "duration": 0.057326,
     "end_time": "2022-09-19T00:46:07.754300",
     "exception": false,
     "start_time": "2022-09-19T00:46:07.696974",
     "status": "completed"
    },
    "tags": []
   },
   "outputs": [
    {
     "data": {
      "text/plain": [
       "((10000, 28, 28), (10000,))"
      ]
     },
     "execution_count": 8,
     "metadata": {},
     "output_type": "execute_result"
    }
   ],
   "source": [
    "test_images.shape, test_labels.shape"
   ]
  },
  {
   "cell_type": "code",
   "execution_count": 9,
   "id": "f9ed8fe0",
   "metadata": {
    "execution": {
     "iopub.execute_input": "2022-09-19T00:46:07.835595Z",
     "iopub.status.busy": "2022-09-19T00:46:07.834639Z",
     "iopub.status.idle": "2022-09-19T00:46:08.032524Z",
     "shell.execute_reply": "2022-09-19T00:46:08.031819Z"
    },
    "papermill": {
     "duration": 0.245346,
     "end_time": "2022-09-19T00:46:08.032676",
     "exception": false,
     "start_time": "2022-09-19T00:46:07.787330",
     "status": "completed"
    },
    "tags": []
   },
   "outputs": [
    {
     "name": "stdout",
     "output_type": "stream",
     "text": [
      "2\n"
     ]
    },
    {
     "data": {
      "text/plain": [
       "<matplotlib.image.AxesImage at 0x7f6468a5ac50>"
      ]
     },
     "execution_count": 9,
     "metadata": {},
     "output_type": "execute_result"
    },
    {
     "data": {
      "image/png": "[encoded data removed]",
      "text/plain": [
       "<Figure size 432x288 with 1 Axes>"
      ]
     },
     "metadata": {
      "needs_background": "light"
     },
     "output_type": "display_data"
    }
   ],
   "source": [
    "image_index = 7776 # You may select anything up to 60,000\n",
    "print(train_labels[image_index]) \n",
    "plt.imshow(train_images[image_index], cmap='Greys')"
   ]
  },
  {
   "cell_type": "markdown",
   "id": "a8d2388d",
   "metadata": {
    "papermill": {
     "duration": 0.036077,
     "end_time": "2022-09-19T00:46:08.103514",
     "exception": false,
     "start_time": "2022-09-19T00:46:08.067437",
     "status": "completed"
    },
    "tags": []
   },
   "source": [
    "## Filter data to get 3 and 8 out"
   ]
  },
  {
   "cell_type": "code",
   "execution_count": 10,
   "id": "776f7fc7",
   "metadata": {
    "execution": {
     "iopub.execute_input": "2022-09-19T00:46:08.185231Z",
     "iopub.status.busy": "2022-09-19T00:46:08.184419Z",
     "iopub.status.idle": "2022-09-19T00:46:08.208822Z",
     "shell.execute_reply": "2022-09-19T00:46:08.208102Z"
    },
    "papermill": {
     "duration": 0.06652,
     "end_time": "2022-09-19T00:46:08.208978",
     "exception": false,
     "start_time": "2022-09-19T00:46:08.142458",
     "status": "completed"
    },
    "tags": []
   },
   "outputs": [],
   "source": [
    "train_filter = np.where((train_labels == 3 ) | (train_labels == 8))\n",
    "test_filter = np.where((test_labels == 3) | (test_labels == 8))\n",
    "X_train, y_train = train_images[train_filter], train_labels[train_filter]\n",
    "X_test, y_test = test_images[test_filter], test_labels[test_filter]"
   ]
  },
  {
   "cell_type": "markdown",
   "id": "948f0b7e",
   "metadata": {
    "papermill": {
     "duration": 0.034687,
     "end_time": "2022-09-19T00:46:08.277945",
     "exception": false,
     "start_time": "2022-09-19T00:46:08.243258",
     "status": "completed"
    },
    "tags": []
   },
   "source": [
    "We normalize the pizel values in the 0 to 1 range"
   ]
  },
  {
   "cell_type": "code",
   "execution_count": 11,
   "id": "ee4c2166",
   "metadata": {
    "execution": {
     "iopub.execute_input": "2022-09-19T00:46:08.354334Z",
     "iopub.status.busy": "2022-09-19T00:46:08.353556Z",
     "iopub.status.idle": "2022-09-19T00:46:08.419178Z",
     "shell.execute_reply": "2022-09-19T00:46:08.418512Z"
    },
    "papermill": {
     "duration": 0.105515,
     "end_time": "2022-09-19T00:46:08.419330",
     "exception": false,
     "start_time": "2022-09-19T00:46:08.313815",
     "status": "completed"
    },
    "tags": []
   },
   "outputs": [],
   "source": [
    "X_train = X_train/255.\n",
    "X_test = X_test/255."
   ]
  },
  {
   "cell_type": "markdown",
   "id": "ddcf4fab",
   "metadata": {
    "papermill": {
     "duration": 0.034894,
     "end_time": "2022-09-19T00:46:08.488902",
     "exception": false,
     "start_time": "2022-09-19T00:46:08.454008",
     "status": "completed"
    },
    "tags": []
   },
   "source": [
    "And setup the labels as 1 (when the digit is 3) and 0 (when the digit is 8)"
   ]
  },
  {
   "cell_type": "code",
   "execution_count": 12,
   "id": "7dc908f2",
   "metadata": {
    "execution": {
     "iopub.execute_input": "2022-09-19T00:46:08.566342Z",
     "iopub.status.busy": "2022-09-19T00:46:08.565523Z",
     "iopub.status.idle": "2022-09-19T00:46:08.580473Z",
     "shell.execute_reply": "2022-09-19T00:46:08.579752Z"
    },
    "papermill": {
     "duration": 0.05669,
     "end_time": "2022-09-19T00:46:08.580626",
     "exception": false,
     "start_time": "2022-09-19T00:46:08.523936",
     "status": "completed"
    },
    "tags": []
   },
   "outputs": [],
   "source": [
    "y_train = 1*(y_train==3)\n",
    "y_test = 1*(y_test==3)"
   ]
  },
  {
   "cell_type": "code",
   "execution_count": 13,
   "id": "01e4e969",
   "metadata": {
    "execution": {
     "iopub.execute_input": "2022-09-19T00:46:08.655425Z",
     "iopub.status.busy": "2022-09-19T00:46:08.654642Z",
     "iopub.status.idle": "2022-09-19T00:46:08.676876Z",
     "shell.execute_reply": "2022-09-19T00:46:08.676156Z"
    },
    "papermill": {
     "duration": 0.06178,
     "end_time": "2022-09-19T00:46:08.677040",
     "exception": false,
     "start_time": "2022-09-19T00:46:08.615260",
     "status": "completed"
    },
    "tags": []
   },
   "outputs": [
    {
     "data": {
      "text/plain": [
       "((11982, 28, 28), (1984, 28, 28))"
      ]
     },
     "execution_count": 13,
     "metadata": {},
     "output_type": "execute_result"
    }
   ],
   "source": [
    "X_train.shape, X_test.shape"
   ]
  },
  {
   "cell_type": "markdown",
   "id": "5ccf3f85",
   "metadata": {
    "papermill": {
     "duration": 0.035406,
     "end_time": "2022-09-19T00:46:08.747999",
     "exception": false,
     "start_time": "2022-09-19T00:46:08.712593",
     "status": "completed"
    },
    "tags": []
   },
   "source": [
    "We reshape the data to flatten the image pixels into a set of features or co-variates:"
   ]
  },
  {
   "cell_type": "code",
   "execution_count": 14,
   "id": "5286a4a3",
   "metadata": {
    "execution": {
     "iopub.execute_input": "2022-09-19T00:46:08.827157Z",
     "iopub.status.busy": "2022-09-19T00:46:08.826334Z",
     "iopub.status.idle": "2022-09-19T00:46:08.844848Z",
     "shell.execute_reply": "2022-09-19T00:46:08.844122Z"
    },
    "papermill": {
     "duration": 0.059168,
     "end_time": "2022-09-19T00:46:08.845003",
     "exception": false,
     "start_time": "2022-09-19T00:46:08.785835",
     "status": "completed"
    },
    "tags": []
   },
   "outputs": [
    {
     "data": {
      "text/plain": [
       "((11982, 784), (1984, 784))"
      ]
     },
     "execution_count": 14,
     "metadata": {},
     "output_type": "execute_result"
    }
   ],
   "source": [
    "X_train = X_train.reshape(X_train.shape[0], -1)\n",
    "X_test = X_test.reshape(X_test.shape[0], -1)\n",
    "X_train.shape, X_test.shape"
   ]
  },
  {
   "cell_type": "code",
   "execution_count": 15,
   "id": "73c5f88a",
   "metadata": {
    "execution": {
     "iopub.execute_input": "2022-09-19T00:46:08.928840Z",
     "iopub.status.busy": "2022-09-19T00:46:08.927963Z",
     "iopub.status.idle": "2022-09-19T00:46:08.950985Z",
     "shell.execute_reply": "2022-09-19T00:46:08.950170Z"
    },
    "papermill": {
     "duration": 0.067205,
     "end_time": "2022-09-19T00:46:08.951149",
     "exception": false,
     "start_time": "2022-09-19T00:46:08.883944",
     "status": "completed"
    },
    "tags": []
   },
   "outputs": [],
   "source": [
    "#Impoting functions from 'Kudzu'\n",
    "from kudzu.model import Model\n",
    "from kudzu.train import Learner\n",
    "from kudzu.optim import GD\n",
    "from kudzu.data import Data, Sampler,Dataloader\n",
    "\n",
    "from kudzu.callbacks import AccCallback\n",
    "from kudzu.callbacks import ClfCallback\n",
    "\n",
    "from kudzu.loss import MSE\n",
    "\n",
    "from kudzu.layer import Sigmoid,Relu\n",
    "from kudzu.layer import Affine"
   ]
  },
  {
   "cell_type": "markdown",
   "id": "bc01172a",
   "metadata": {
    "papermill": {
     "duration": 0.040829,
     "end_time": "2022-09-19T00:46:09.028530",
     "exception": false,
     "start_time": "2022-09-19T00:46:08.987701",
     "status": "completed"
    },
    "tags": []
   },
   "source": [
    "### Let us create a `Config` class, to store important parameters. \n",
    "This class essentially plays the role of a dictionary."
   ]
  },
  {
   "cell_type": "code",
   "execution_count": 16,
   "id": "978281aa",
   "metadata": {
    "execution": {
     "iopub.execute_input": "2022-09-19T00:46:09.106120Z",
     "iopub.status.busy": "2022-09-19T00:46:09.105321Z",
     "iopub.status.idle": "2022-09-19T00:46:09.122369Z",
     "shell.execute_reply": "2022-09-19T00:46:09.121595Z"
    },
    "papermill": {
     "duration": 0.057773,
     "end_time": "2022-09-19T00:46:09.122523",
     "exception": false,
     "start_time": "2022-09-19T00:46:09.064750",
     "status": "completed"
    },
    "tags": []
   },
   "outputs": [],
   "source": [
    "class Config:\n",
    "    pass\n",
    "config = Config()\n",
    "config.lr = 0.001\n",
    "config.num_epochs = 250\n",
    "config.bs = 50"
   ]
  },
  {
   "cell_type": "markdown",
   "id": "1385fa59",
   "metadata": {
    "papermill": {
     "duration": 0.036457,
     "end_time": "2022-09-19T00:46:09.195731",
     "exception": false,
     "start_time": "2022-09-19T00:46:09.159274",
     "status": "completed"
    },
    "tags": []
   },
   "source": [
    "### Running Models with the Training data\n",
    "Details about the network layers:\n",
    "- A first affine layer has 784 inputs and does 100 affine transforms. These are followed by a Relu\n",
    "- A second affine layer has 100 inputs from the 100 activations of the past layer, and does 100 affine transforms. These are followed by a Relu\n",
    "- A third affine layer has 100 activations and does 2 affine transformations to create an embedding for visualization. There is no non-linearity here.\n",
    "- A final \"logistic regression\" which has an affine transform from 2 inputs to 1 output, which is squeezed through a sigmoid.\n"
   ]
  },
  {
   "cell_type": "code",
   "execution_count": 17,
   "id": "2b9c66db",
   "metadata": {
    "execution": {
     "iopub.execute_input": "2022-09-19T00:46:09.275263Z",
     "iopub.status.busy": "2022-09-19T00:46:09.274470Z",
     "iopub.status.idle": "2022-09-19T00:46:09.291879Z",
     "shell.execute_reply": "2022-09-19T00:46:09.291202Z"
    },
    "papermill": {
     "duration": 0.059656,
     "end_time": "2022-09-19T00:46:09.292031",
     "exception": false,
     "start_time": "2022-09-19T00:46:09.232375",
     "status": "completed"
    },
    "tags": []
   },
   "outputs": [],
   "source": [
    "data = Data(X_train, y_train.reshape(-1,1))\n",
    "sampler = Sampler(data, config.bs, shuffle=True)\n",
    "\n",
    "dl = Dataloader(data, sampler)\n",
    "\n",
    "opt = GD(config.lr)\n",
    "loss = MSE()"
   ]
  },
  {
   "cell_type": "code",
   "execution_count": 18,
   "id": "b275e4c2",
   "metadata": {
    "execution": {
     "iopub.execute_input": "2022-09-19T00:46:09.370560Z",
     "iopub.status.busy": "2022-09-19T00:46:09.369684Z",
     "iopub.status.idle": "2022-09-19T00:46:09.386837Z",
     "shell.execute_reply": "2022-09-19T00:46:09.386164Z"
    },
    "papermill": {
     "duration": 0.057413,
     "end_time": "2022-09-19T00:46:09.386990",
     "exception": false,
     "start_time": "2022-09-19T00:46:09.329577",
     "status": "completed"
    },
    "tags": []
   },
   "outputs": [],
   "source": [
    "training_data_x = X_train\n",
    "testing_data_x = X_test\n",
    "training_data_y = y_train.reshape(-1,1)\n",
    "testing_data_y = y_test.reshape(-1,1)"
   ]
  },
  {
   "cell_type": "code",
   "execution_count": 19,
   "id": "76951160",
   "metadata": {
    "execution": {
     "iopub.execute_input": "2022-09-19T00:46:09.469243Z",
     "iopub.status.busy": "2022-09-19T00:46:09.466095Z",
     "iopub.status.idle": "2022-09-19T00:46:09.492731Z",
     "shell.execute_reply": "2022-09-19T00:46:09.492007Z"
    },
    "papermill": {
     "duration": 0.069935,
     "end_time": "2022-09-19T00:46:09.492885",
     "exception": false,
     "start_time": "2022-09-19T00:46:09.422950",
     "status": "completed"
    },
    "tags": []
   },
   "outputs": [
    {
     "name": "stdout",
     "output_type": "stream",
     "text": [
      "xavier\n",
      "xavier\n",
      "xavier\n",
      "xavier\n",
      "xavier\n"
     ]
    }
   ],
   "source": [
    "layers = [Affine(\"first\", 784, 100), Relu(\"first\"), Affine(\"second\", 100, 100), Relu(\"second\"), Affine(\"third\", 100, 2), Affine(\"last\", 2, 1), Sigmoid(\"last\")]\n",
    "model_nn = Model(layers)\n",
    "model_lr = Model([Affine(\"logits\", 784, 1), Sigmoid(\"sigmoid\")])"
   ]
  },
  {
   "cell_type": "code",
   "execution_count": 20,
   "id": "6eede77a",
   "metadata": {
    "execution": {
     "iopub.execute_input": "2022-09-19T00:46:09.585418Z",
     "iopub.status.busy": "2022-09-19T00:46:09.583701Z",
     "iopub.status.idle": "2022-09-19T00:46:09.602245Z",
     "shell.execute_reply": "2022-09-19T00:46:09.602877Z"
    },
    "papermill": {
     "duration": 0.071696,
     "end_time": "2022-09-19T00:46:09.603058",
     "exception": false,
     "start_time": "2022-09-19T00:46:09.531362",
     "status": "completed"
    },
    "tags": []
   },
   "outputs": [],
   "source": [
    "nn_learner = Learner(loss, model_nn, opt, config.num_epochs)\n",
    "acc_nn = ClfCallback(nn_learner, config.bs, training_data_x , testing_data_x, training_data_y, testing_data_y)\n",
    "nn_learner.set_callbacks([acc_nn])"
   ]
  },
  {
   "cell_type": "code",
   "execution_count": 21,
   "id": "877b6cc7",
   "metadata": {
    "execution": {
     "iopub.execute_input": "2022-09-19T00:46:09.682128Z",
     "iopub.status.busy": "2022-09-19T00:46:09.681327Z",
     "iopub.status.idle": "2022-09-19T00:46:09.699373Z",
     "shell.execute_reply": "2022-09-19T00:46:09.698699Z"
    },
    "papermill": {
     "duration": 0.060051,
     "end_time": "2022-09-19T00:46:09.699527",
     "exception": false,
     "start_time": "2022-09-19T00:46:09.639476",
     "status": "completed"
    },
    "tags": []
   },
   "outputs": [],
   "source": [
    "lr_learner = Learner(loss, model_lr, opt, config.num_epochs)\n",
    "acc_lr = ClfCallback(lr_learner, config.bs, training_data_x , testing_data_x, training_data_y, testing_data_y)\n",
    "lr_learner.set_callbacks([acc_lr])"
   ]
  },
  {
   "cell_type": "code",
   "execution_count": 22,
   "id": "d9b133c3",
   "metadata": {
    "execution": {
     "iopub.execute_input": "2022-09-19T00:46:09.781360Z",
     "iopub.status.busy": "2022-09-19T00:46:09.780567Z",
     "iopub.status.idle": "2022-09-19T00:48:24.606699Z",
     "shell.execute_reply": "2022-09-19T00:48:24.606009Z"
    },
    "papermill": {
     "duration": 134.868687,
     "end_time": "2022-09-19T00:48:24.606852",
     "exception": false,
     "start_time": "2022-09-19T00:46:09.738165",
     "status": "completed"
    },
    "tags": []
   },
   "outputs": [
    {
     "name": "stdout",
     "output_type": "stream",
     "text": [
      "Epoch 0, Loss 0.2289\n",
      "Training Accuracy: 0.7813, Testing Accuracy: 0.7727\n",
      "\n"
     ]
    },
    {
     "name": "stdout",
     "output_type": "stream",
     "text": [
      "Epoch 10, Loss 0.0634\n",
      "Training Accuracy: 0.9363, Testing Accuracy: 0.9461\n",
      "\n"
     ]
    },
    {
     "name": "stdout",
     "output_type": "stream",
     "text": [
      "Epoch 20, Loss 0.044\n",
      "Training Accuracy: 0.9515, Testing Accuracy: 0.9607\n",
      "\n"
     ]
    },
    {
     "name": "stdout",
     "output_type": "stream",
     "text": [
      "Epoch 30, Loss 0.0367\n",
      "Training Accuracy: 0.9578, Testing Accuracy: 0.9647\n",
      "\n"
     ]
    },
    {
     "name": "stdout",
     "output_type": "stream",
     "text": [
      "Epoch 40, Loss 0.0326\n",
      "Training Accuracy: 0.9624, Testing Accuracy: 0.9662\n",
      "\n"
     ]
    },
    {
     "name": "stdout",
     "output_type": "stream",
     "text": [
      "Epoch 50, Loss 0.0299\n",
      "Training Accuracy: 0.9658, Testing Accuracy: 0.9667\n",
      "\n"
     ]
    },
    {
     "name": "stdout",
     "output_type": "stream",
     "text": [
      "Epoch 60, Loss 0.028\n",
      "Training Accuracy: 0.9688, Testing Accuracy: 0.9677\n",
      "\n"
     ]
    },
    {
     "name": "stdout",
     "output_type": "stream",
     "text": [
      "Epoch 70, Loss 0.0265\n",
      "Training Accuracy: 0.9700, Testing Accuracy: 0.9693\n",
      "\n"
     ]
    },
    {
     "name": "stdout",
     "output_type": "stream",
     "text": [
      "Epoch 80, Loss 0.0252\n",
      "Training Accuracy: 0.9712, Testing Accuracy: 0.9703\n",
      "\n"
     ]
    },
    {
     "name": "stdout",
     "output_type": "stream",
     "text": [
      "Epoch 90, Loss 0.0242\n",
      "Training Accuracy: 0.9719, Testing Accuracy: 0.9698\n",
      "\n"
     ]
    },
    {
     "name": "stdout",
     "output_type": "stream",
     "text": [
      "Epoch 100, Loss 0.0233\n",
      "Training Accuracy: 0.9731, Testing Accuracy: 0.9703\n",
      "\n"
     ]
    },
    {
     "name": "stdout",
     "output_type": "stream",
     "text": [
      "Epoch 110, Loss 0.0225\n",
      "Training Accuracy: 0.9739, Testing Accuracy: 0.9708\n",
      "\n"
     ]
    },
    {
     "name": "stdout",
     "output_type": "stream",
     "text": [
      "Epoch 120, Loss 0.0218\n",
      "Training Accuracy: 0.9750, Testing Accuracy: 0.9718\n",
      "\n"
     ]
    },
    {
     "name": "stdout",
     "output_type": "stream",
     "text": [
      "Epoch 130, Loss 0.0211\n",
      "Training Accuracy: 0.9763, Testing Accuracy: 0.9718\n",
      "\n"
     ]
    },
    {
     "name": "stdout",
     "output_type": "stream",
     "text": [
      "Epoch 140, Loss 0.0205\n",
      "Training Accuracy: 0.9770, Testing Accuracy: 0.9723\n",
      "\n"
     ]
    },
    {
     "name": "stdout",
     "output_type": "stream",
     "text": [
      "Epoch 150, Loss 0.0199\n",
      "Training Accuracy: 0.9779, Testing Accuracy: 0.9723\n",
      "\n"
     ]
    },
    {
     "name": "stdout",
     "output_type": "stream",
     "text": [
      "Epoch 160, Loss 0.0193\n",
      "Training Accuracy: 0.9787, Testing Accuracy: 0.9723\n",
      "\n"
     ]
    },
    {
     "name": "stdout",
     "output_type": "stream",
     "text": [
      "Epoch 170, Loss 0.0188\n",
      "Training Accuracy: 0.9791, Testing Accuracy: 0.9733\n",
      "\n"
     ]
    },
    {
     "name": "stdout",
     "output_type": "stream",
     "text": [
      "Epoch 180, Loss 0.0183\n",
      "Training Accuracy: 0.9796, Testing Accuracy: 0.9728\n",
      "\n"
     ]
    },
    {
     "name": "stdout",
     "output_type": "stream",
     "text": [
      "Epoch 190, Loss 0.0178\n",
      "Training Accuracy: 0.9801, Testing Accuracy: 0.9728\n",
      "\n"
     ]
    },
    {
     "name": "stdout",
     "output_type": "stream",
     "text": [
      "Epoch 200, Loss 0.0174\n",
      "Training Accuracy: 0.9805, Testing Accuracy: 0.9733\n",
      "\n"
     ]
    },
    {
     "name": "stdout",
     "output_type": "stream",
     "text": [
      "Epoch 210, Loss 0.017\n",
      "Training Accuracy: 0.9816, Testing Accuracy: 0.9743\n",
      "\n"
     ]
    },
    {
     "name": "stdout",
     "output_type": "stream",
     "text": [
      "Epoch 220, Loss 0.0166\n",
      "Training Accuracy: 0.9820, Testing Accuracy: 0.9743\n",
      "\n"
     ]
    },
    {
     "name": "stdout",
     "output_type": "stream",
     "text": [
      "Epoch 230, Loss 0.0162\n",
      "Training Accuracy: 0.9826, Testing Accuracy: 0.9743\n",
      "\n"
     ]
    },
    {
     "name": "stdout",
     "output_type": "stream",
     "text": [
      "Epoch 240, Loss 0.0158\n",
      "Training Accuracy: 0.9833, Testing Accuracy: 0.9753\n",
      "\n"
     ]
    },
    {
     "data": {
      "text/plain": [
       "0.04553317431637789"
      ]
     },
     "execution_count": 22,
     "metadata": {},
     "output_type": "execute_result"
    }
   ],
   "source": [
    "nn_learner.train_loop(dl)"
   ]
  },
  {
   "cell_type": "code",
   "execution_count": 23,
   "id": "e0163366",
   "metadata": {
    "execution": {
     "iopub.execute_input": "2022-09-19T00:48:24.710174Z",
     "iopub.status.busy": "2022-09-19T00:48:24.709402Z",
     "iopub.status.idle": "2022-09-19T00:48:44.095876Z",
     "shell.execute_reply": "2022-09-19T00:48:44.096684Z"
    },
    "papermill": {
     "duration": 19.444543,
     "end_time": "2022-09-19T00:48:44.096855",
     "exception": false,
     "start_time": "2022-09-19T00:48:24.652312",
     "status": "completed"
    },
    "tags": []
   },
   "outputs": [
    {
     "name": "stdout",
     "output_type": "stream",
     "text": [
      "Epoch 0, Loss 0.2379\n",
      "Training Accuracy: 0.7064, Testing Accuracy: 0.7314\n",
      "\n"
     ]
    },
    {
     "name": "stdout",
     "output_type": "stream",
     "text": [
      "Epoch 10, Loss 0.0992\n",
      "Training Accuracy: 0.9128, Testing Accuracy: 0.9264\n",
      "\n"
     ]
    },
    {
     "name": "stdout",
     "output_type": "stream",
     "text": [
      "Epoch 20, Loss 0.0776\n",
      "Training Accuracy: 0.9276, Testing Accuracy: 0.9400\n",
      "\n"
     ]
    },
    {
     "name": "stdout",
     "output_type": "stream",
     "text": [
      "Epoch 30, Loss 0.0674\n",
      "Training Accuracy: 0.9342, Testing Accuracy: 0.9486\n",
      "\n"
     ]
    },
    {
     "name": "stdout",
     "output_type": "stream",
     "text": [
      "Epoch 40, Loss 0.0611\n",
      "Training Accuracy: 0.9402, Testing Accuracy: 0.9521\n",
      "\n"
     ]
    },
    {
     "name": "stdout",
     "output_type": "stream",
     "text": [
      "Epoch 50, Loss 0.0568\n",
      "Training Accuracy: 0.9435, Testing Accuracy: 0.9556\n",
      "\n"
     ]
    },
    {
     "name": "stdout",
     "output_type": "stream",
     "text": [
      "Epoch 60, Loss 0.0536\n",
      "Training Accuracy: 0.9459, Testing Accuracy: 0.9572\n",
      "\n"
     ]
    },
    {
     "name": "stdout",
     "output_type": "stream",
     "text": [
      "Epoch 70, Loss 0.0511\n",
      "Training Accuracy: 0.9478, Testing Accuracy: 0.9592\n",
      "\n"
     ]
    },
    {
     "name": "stdout",
     "output_type": "stream",
     "text": [
      "Epoch 80, Loss 0.0491\n",
      "Training Accuracy: 0.9488, Testing Accuracy: 0.9602\n",
      "\n"
     ]
    },
    {
     "name": "stdout",
     "output_type": "stream",
     "text": [
      "Epoch 90, Loss 0.0475\n",
      "Training Accuracy: 0.9506, Testing Accuracy: 0.9622\n",
      "\n"
     ]
    },
    {
     "name": "stdout",
     "output_type": "stream",
     "text": [
      "Epoch 100, Loss 0.0461\n",
      "Training Accuracy: 0.9513, Testing Accuracy: 0.9627\n",
      "\n"
     ]
    },
    {
     "name": "stdout",
     "output_type": "stream",
     "text": [
      "Epoch 110, Loss 0.0449\n",
      "Training Accuracy: 0.9524, Testing Accuracy: 0.9642\n",
      "\n"
     ]
    },
    {
     "name": "stdout",
     "output_type": "stream",
     "text": [
      "Epoch 120, Loss 0.0438\n",
      "Training Accuracy: 0.9538, Testing Accuracy: 0.9642\n",
      "\n"
     ]
    },
    {
     "name": "stdout",
     "output_type": "stream",
     "text": [
      "Epoch 130, Loss 0.0429\n",
      "Training Accuracy: 0.9548, Testing Accuracy: 0.9637\n",
      "\n"
     ]
    },
    {
     "name": "stdout",
     "output_type": "stream",
     "text": [
      "Epoch 140, Loss 0.0421\n",
      "Training Accuracy: 0.9556, Testing Accuracy: 0.9647\n",
      "\n"
     ]
    },
    {
     "name": "stdout",
     "output_type": "stream",
     "text": [
      "Epoch 150, Loss 0.0413\n",
      "Training Accuracy: 0.9566, Testing Accuracy: 0.9647\n",
      "\n"
     ]
    },
    {
     "name": "stdout",
     "output_type": "stream",
     "text": [
      "Epoch 160, Loss 0.0407\n",
      "Training Accuracy: 0.9572, Testing Accuracy: 0.9652\n",
      "\n"
     ]
    },
    {
     "name": "stdout",
     "output_type": "stream",
     "text": [
      "Epoch 170, Loss 0.0401\n",
      "Training Accuracy: 0.9580, Testing Accuracy: 0.9647\n",
      "\n"
     ]
    },
    {
     "name": "stdout",
     "output_type": "stream",
     "text": [
      "Epoch 180, Loss 0.0395\n",
      "Training Accuracy: 0.9584, Testing Accuracy: 0.9647\n",
      "\n"
     ]
    },
    {
     "name": "stdout",
     "output_type": "stream",
     "text": [
      "Epoch 190, Loss 0.039\n",
      "Training Accuracy: 0.9589, Testing Accuracy: 0.9652\n",
      "\n"
     ]
    },
    {
     "name": "stdout",
     "output_type": "stream",
     "text": [
      "Epoch 200, Loss 0.0385\n",
      "Training Accuracy: 0.9594, Testing Accuracy: 0.9657\n",
      "\n"
     ]
    },
    {
     "name": "stdout",
     "output_type": "stream",
     "text": [
      "Epoch 210, Loss 0.0381\n",
      "Training Accuracy: 0.9594, Testing Accuracy: 0.9662\n",
      "\n"
     ]
    },
    {
     "name": "stdout",
     "output_type": "stream",
     "text": [
      "Epoch 220, Loss 0.0377\n",
      "Training Accuracy: 0.9597, Testing Accuracy: 0.9662\n",
      "\n"
     ]
    },
    {
     "name": "stdout",
     "output_type": "stream",
     "text": [
      "Epoch 230, Loss 0.0373\n",
      "Training Accuracy: 0.9602, Testing Accuracy: 0.9662\n",
      "\n"
     ]
    },
    {
     "name": "stdout",
     "output_type": "stream",
     "text": [
      "Epoch 240, Loss 0.0369\n",
      "Training Accuracy: 0.9605, Testing Accuracy: 0.9667\n",
      "\n"
     ]
    },
    {
     "data": {
      "text/plain": [
       "0.024431830290541086"
      ]
     },
     "execution_count": 23,
     "metadata": {},
     "output_type": "execute_result"
    }
   ],
   "source": [
    "lr_learner.train_loop(dl)"
   ]
  },
  {
   "cell_type": "code",
   "execution_count": 24,
   "id": "ca410940",
   "metadata": {
    "execution": {
     "iopub.execute_input": "2022-09-19T00:48:44.211307Z",
     "iopub.status.busy": "2022-09-19T00:48:44.210473Z",
     "iopub.status.idle": "2022-09-19T00:48:44.518437Z",
     "shell.execute_reply": "2022-09-19T00:48:44.519040Z"
    },
    "papermill": {
     "duration": 0.369039,
     "end_time": "2022-09-19T00:48:44.519221",
     "exception": false,
     "start_time": "2022-09-19T00:48:44.150182",
     "status": "completed"
    },
    "tags": []
   },
   "outputs": [
    {
     "data": {
      "text/plain": [
       "<matplotlib.legend.Legend at 0x7f64685b6fd0>"
      ]
     },
     "execution_count": 24,
     "metadata": {},
     "output_type": "execute_result"
    },
    {
     "data": {
      "image/png": "[encoded data removed]",
      "text/plain": [
       "<Figure size 1080x720 with 1 Axes>"
      ]
     },
     "metadata": {
      "needs_background": "light"
     },
     "output_type": "display_data"
    }
   ],
   "source": [
    "#comparing the results of NN and LR\n",
    "plt.figure(figsize=(15,10))\n",
    "\n",
    "# Neural Network plots\n",
    "plt.plot(acc_nn.accuracies, 'r-', label = \"Training Accuracies - NN\")\n",
    "plt.plot(acc_nn.test_accuracies, 'g-', label = \"Testing Accuracies - NN\")\n",
    "\n",
    "# Logistic Regression plots\n",
    "plt.plot(acc_lr.accuracies, 'k-', label = \"Training Accuracies - LR\")\n",
    "plt.plot(acc_lr.test_accuracies, 'b-', label = \"Testing Accuracies - LR\")\n",
    "plt.legend()"
   ]
  },
  {
   "cell_type": "markdown",
   "id": "80dfb35c",
   "metadata": {
    "papermill": {
     "duration": 0.053073,
     "end_time": "2022-09-19T00:48:44.630166",
     "exception": false,
     "start_time": "2022-09-19T00:48:44.577093",
     "status": "completed"
    },
    "tags": []
   },
   "source": [
    "#### Plotting the outputs of this layer of the NN.\n"
   ]
  },
  {
   "cell_type": "code",
   "execution_count": 25,
   "id": "45eb2ff5",
   "metadata": {
    "execution": {
     "iopub.execute_input": "2022-09-19T00:48:44.746390Z",
     "iopub.status.busy": "2022-09-19T00:48:44.744455Z",
     "iopub.status.idle": "2022-09-19T00:48:44.775036Z",
     "shell.execute_reply": "2022-09-19T00:48:44.774366Z"
    },
    "papermill": {
     "duration": 0.088924,
     "end_time": "2022-09-19T00:48:44.775197",
     "exception": false,
     "start_time": "2022-09-19T00:48:44.686273",
     "status": "completed"
    },
    "tags": []
   },
   "outputs": [],
   "source": [
    "new_model = Model(layers[:-2])\n",
    "testing_plot = new_model(testing_data_x)"
   ]
  },
  {
   "cell_type": "code",
   "execution_count": 26,
   "id": "4c0a5485",
   "metadata": {
    "execution": {
     "iopub.execute_input": "2022-09-19T00:48:44.896167Z",
     "iopub.status.busy": "2022-09-19T00:48:44.895387Z",
     "iopub.status.idle": "2022-09-19T00:48:45.164118Z",
     "shell.execute_reply": "2022-09-19T00:48:45.163509Z"
    },
    "papermill": {
     "duration": 0.333469,
     "end_time": "2022-09-19T00:48:45.164312",
     "exception": false,
     "start_time": "2022-09-19T00:48:44.830843",
     "status": "completed"
    },
    "tags": []
   },
   "outputs": [
    {
     "data": {
      "text/plain": [
       "Text(0.5, 1.0, 'Outputs')"
      ]
     },
     "execution_count": 26,
     "metadata": {},
     "output_type": "execute_result"
    },
    {
     "data": {
      "image/png": "[encoded data removed]",
      "text/plain": [
       "<Figure size 576x504 with 1 Axes>"
      ]
     },
     "metadata": {
      "needs_background": "light"
     },
     "output_type": "display_data"
    }
   ],
   "source": [
    "# Plotting the scatter plot of points and color coding by class\n",
    "plt.figure(figsize=(8,7))\n",
    "plt.scatter(testing_plot[:,0], testing_plot[:,1], alpha = 0.1, c = y_test.ravel());\n",
    "plt.title('Outputs')"
   ]
  },
  {
   "cell_type": "markdown",
   "id": "a74fcf8f",
   "metadata": {
    "papermill": {
     "duration": 0.085221,
     "end_time": "2022-09-19T00:48:45.311847",
     "exception": false,
     "start_time": "2022-09-19T00:48:45.226626",
     "status": "completed"
    },
    "tags": []
   },
   "source": [
    "Probability contours"
   ]
  },
  {
   "cell_type": "code",
   "execution_count": 27,
   "id": "d0afc8e3",
   "metadata": {
    "execution": {
     "iopub.execute_input": "2022-09-19T00:48:45.436040Z",
     "iopub.status.busy": "2022-09-19T00:48:45.435217Z",
     "iopub.status.idle": "2022-09-19T00:48:45.453326Z",
     "shell.execute_reply": "2022-09-19T00:48:45.452617Z"
    },
    "papermill": {
     "duration": 0.08374,
     "end_time": "2022-09-19T00:48:45.453479",
     "exception": false,
     "start_time": "2022-09-19T00:48:45.369739",
     "status": "completed"
    },
    "tags": []
   },
   "outputs": [],
   "source": [
    "model_prob = Model(layers[-2:]) "
   ]
  },
  {
   "cell_type": "code",
   "execution_count": 28,
   "id": "9b96e238",
   "metadata": {
    "execution": {
     "iopub.execute_input": "2022-09-19T00:48:45.581026Z",
     "iopub.status.busy": "2022-09-19T00:48:45.580118Z",
     "iopub.status.idle": "2022-09-19T00:48:45.595615Z",
     "shell.execute_reply": "2022-09-19T00:48:45.596231Z"
    },
    "papermill": {
     "duration": 0.083371,
     "end_time": "2022-09-19T00:48:45.596406",
     "exception": false,
     "start_time": "2022-09-19T00:48:45.513035",
     "status": "completed"
    },
    "tags": []
   },
   "outputs": [],
   "source": [
    "#creating the x and y ranges according to the above generated plot.\n",
    "x_range = np.linspace(-4, 1, 100) \n",
    "y_range = np.linspace(-6, 6, 100) \n",
    "x_grid, y_grid = np.meshgrid(x_range, y_range) # x_grid and y_grig are of size 100 X 100\n",
    "\n",
    "# converting x_grid and y_grid to continuous arrays\n",
    "x_gridflat = np.ravel(x_grid)\n",
    "y_gridflat = np.ravel(y_grid)\n",
    "\n",
    "# The last layer of the current model takes two columns as input. Hence transpose of np.vstack() is required.\n",
    "X = np.vstack((x_gridflat, y_gridflat)).T\n",
    "\n",
    "prob_contour = model_prob(X).reshape(100,100) "
   ]
  },
  {
   "cell_type": "code",
   "execution_count": 29,
   "id": "da72499a",
   "metadata": {
    "execution": {
     "iopub.execute_input": "2022-09-19T00:48:45.719571Z",
     "iopub.status.busy": "2022-09-19T00:48:45.718810Z",
     "iopub.status.idle": "2022-09-19T00:48:46.068455Z",
     "shell.execute_reply": "2022-09-19T00:48:46.067797Z"
    },
    "papermill": {
     "duration": 0.414789,
     "end_time": "2022-09-19T00:48:46.068608",
     "exception": false,
     "start_time": "2022-09-19T00:48:45.653819",
     "status": "completed"
    },
    "tags": []
   },
   "outputs": [
    {
     "data": {
      "image/png": "[encoded data removed]",
      "text/plain": [
       "<Figure size 720x648 with 1 Axes>"
      ]
     },
     "metadata": {
      "needs_background": "light"
     },
     "output_type": "display_data"
    }
   ],
   "source": [
    "plt.figure(figsize=(10,9))\n",
    "plt.scatter(testing_plot[:,0], testing_plot[:,1], alpha = 0.1, c = y_test.ravel())\n",
    "contours = plt.contour(x_grid,y_grid,prob_contour)\n",
    "plt.title('Probability Contours')\n",
    "plt.clabel(contours, inline = True );"
   ]
  },
  {
   "cell_type": "code",
   "execution_count": null,
   "id": "e81b4ac7",
   "metadata": {
    "papermill": {
     "duration": 0.059509,
     "end_time": "2022-09-19T00:48:46.189339",
     "exception": false,
     "start_time": "2022-09-19T00:48:46.129830",
     "status": "completed"
    },
    "tags": []
   },
   "outputs": [],
   "source": []
  }
 ],
 "metadata": {
  "kernelspec": {
   "display_name": "Python 3",
   "language": "python",
   "name": "python3"
  },
  "language_info": {
   "codemirror_mode": {
    "name": "ipython",
    "version": 3
   },
   "file_extension": ".py",
   "mimetype": "text/x-python",
   "name": "python",
   "nbconvert_exporter": "python",
   "pygments_lexer": "ipython3",
   "version": "3.6.15"
  },
  "papermill": {
   "default_parameters": {},
   "duration": 164.790134,
   "end_time": "2022-09-19T00:48:46.670812",
   "environment_variables": {},
   "exception": null,
   "input_path": "2020-08-11-part2.ipynb",
   "output_path": "2020-08-11-part2.ipynb",
   "parameters": {},
   "start_time": "2022-09-19T00:46:01.880678",
   "version": "2.3.3"
  }
 },
 "nbformat": 4,
 "nbformat_minor": 5
}