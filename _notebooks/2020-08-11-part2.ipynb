{
 "cells": [
  {
   "cell_type": "markdown",
   "id": "98380cd3",
   "metadata": {
    "papermill": {
     "duration": 0.027896,
     "end_time": "2022-04-11T10:10:45.903974",
     "exception": false,
     "start_time": "2022-04-11T10:10:45.876078",
     "status": "completed"
    },
    "tags": []
   },
   "source": [
    "# Distinguish Your Own Digits (DYOD)"
   ]
  },
  {
   "cell_type": "markdown",
   "id": "ef31240d",
   "metadata": {
    "papermill": {
     "duration": 0.025321,
     "end_time": "2022-04-11T10:10:45.953820",
     "exception": false,
     "start_time": "2022-04-11T10:10:45.928499",
     "status": "completed"
    },
    "tags": []
   },
   "source": [
    "You are going to write a classifier that distinguishes between the number 3 and number 8."
   ]
  },
  {
   "cell_type": "code",
   "execution_count": 1,
   "id": "b15c8646",
   "metadata": {
    "execution": {
     "iopub.execute_input": "2022-04-11T10:10:46.012736Z",
     "iopub.status.busy": "2022-04-11T10:10:46.011210Z",
     "iopub.status.idle": "2022-04-11T10:10:46.022973Z",
     "shell.execute_reply": "2022-04-11T10:10:46.022492Z"
    },
    "papermill": {
     "duration": 0.045638,
     "end_time": "2022-04-11T10:10:46.023122",
     "exception": false,
     "start_time": "2022-04-11T10:10:45.977484",
     "status": "completed"
    },
    "tags": []
   },
   "outputs": [],
   "source": [
    "%load_ext autoreload\n",
    "%autoreload 2"
   ]
  },
  {
   "cell_type": "code",
   "execution_count": 2,
   "id": "22ef38dc",
   "metadata": {
    "execution": {
     "iopub.execute_input": "2022-04-11T10:10:46.094856Z",
     "iopub.status.busy": "2022-04-11T10:10:46.086110Z",
     "iopub.status.idle": "2022-04-11T10:10:46.633552Z",
     "shell.execute_reply": "2022-04-11T10:10:46.634035Z"
    },
    "papermill": {
     "duration": 0.586884,
     "end_time": "2022-04-11T10:10:46.634201",
     "exception": false,
     "start_time": "2022-04-11T10:10:46.047317",
     "status": "completed"
    },
    "tags": []
   },
   "outputs": [],
   "source": [
    "%matplotlib inline\n",
    "import numpy as np\n",
    "import matplotlib.pyplot as plt\n",
    "import pandas as pd"
   ]
  },
  {
   "cell_type": "markdown",
   "id": "ba036198",
   "metadata": {
    "papermill": {
     "duration": 0.023693,
     "end_time": "2022-04-11T10:10:46.682389",
     "exception": false,
     "start_time": "2022-04-11T10:10:46.658696",
     "status": "completed"
    },
    "tags": []
   },
   "source": [
    "From the command line run `pip install mnist`. This is a library that will help you bring down the mnist dataset. If you run this from a notebook, you need to put  `!pip install mnist` in a cell by itself."
   ]
  },
  {
   "cell_type": "code",
   "execution_count": 3,
   "id": "bb6ad8a1",
   "metadata": {
    "execution": {
     "iopub.execute_input": "2022-04-11T10:10:46.734426Z",
     "iopub.status.busy": "2022-04-11T10:10:46.733921Z",
     "iopub.status.idle": "2022-04-11T10:10:48.492412Z",
     "shell.execute_reply": "2022-04-11T10:10:48.491867Z"
    },
    "papermill": {
     "duration": 1.786286,
     "end_time": "2022-04-11T10:10:48.492540",
     "exception": false,
     "start_time": "2022-04-11T10:10:46.706254",
     "status": "completed"
    },
    "tags": []
   },
   "outputs": [
    {
     "name": "stdout",
     "output_type": "stream",
     "text": [
      "Collecting mnist\r\n"
     ]
    },
    {
     "name": "stdout",
     "output_type": "stream",
     "text": [
      "  Downloading mnist-0.2.2-py2.py3-none-any.whl (3.5 kB)\r\n",
      "Requirement already satisfied: numpy in /opt/hostedtoolcache/Python/3.6.15/x64/lib/python3.6/site-packages (from mnist) (1.19.5)\r\n"
     ]
    },
    {
     "name": "stdout",
     "output_type": "stream",
     "text": [
      "Installing collected packages: mnist\r\n",
      "Successfully installed mnist-0.2.2\r\n"
     ]
    }
   ],
   "source": [
    "!pip install mnist"
   ]
  },
  {
   "cell_type": "markdown",
   "id": "69df9c9a",
   "metadata": {
    "papermill": {
     "duration": 0.024854,
     "end_time": "2022-04-11T10:10:48.542456",
     "exception": false,
     "start_time": "2022-04-11T10:10:48.517602",
     "status": "completed"
    },
    "tags": []
   },
   "source": [
    "## Preparing the Data"
   ]
  },
  {
   "cell_type": "code",
   "execution_count": 4,
   "id": "7f69d806",
   "metadata": {
    "execution": {
     "iopub.execute_input": "2022-04-11T10:10:48.597600Z",
     "iopub.status.busy": "2022-04-11T10:10:48.596682Z",
     "iopub.status.idle": "2022-04-11T10:10:48.610603Z",
     "shell.execute_reply": "2022-04-11T10:10:48.611017Z"
    },
    "papermill": {
     "duration": 0.043949,
     "end_time": "2022-04-11T10:10:48.611150",
     "exception": false,
     "start_time": "2022-04-11T10:10:48.567201",
     "status": "completed"
    },
    "tags": []
   },
   "outputs": [],
   "source": [
    "import mnist"
   ]
  },
  {
   "cell_type": "code",
   "execution_count": 5,
   "id": "a411e44f",
   "metadata": {
    "execution": {
     "iopub.execute_input": "2022-04-11T10:10:48.664772Z",
     "iopub.status.busy": "2022-04-11T10:10:48.664168Z",
     "iopub.status.idle": "2022-04-11T10:10:49.317298Z",
     "shell.execute_reply": "2022-04-11T10:10:49.317787Z"
    },
    "papermill": {
     "duration": 0.682123,
     "end_time": "2022-04-11T10:10:49.317957",
     "exception": false,
     "start_time": "2022-04-11T10:10:48.635834",
     "status": "completed"
    },
    "tags": []
   },
   "outputs": [],
   "source": [
    "train_images = mnist.train_images()\n",
    "train_labels = mnist.train_labels()"
   ]
  },
  {
   "cell_type": "code",
   "execution_count": 6,
   "id": "dceab3a5",
   "metadata": {
    "execution": {
     "iopub.execute_input": "2022-04-11T10:10:49.377411Z",
     "iopub.status.busy": "2022-04-11T10:10:49.376878Z",
     "iopub.status.idle": "2022-04-11T10:10:49.389092Z",
     "shell.execute_reply": "2022-04-11T10:10:49.388652Z"
    },
    "papermill": {
     "duration": 0.045025,
     "end_time": "2022-04-11T10:10:49.389203",
     "exception": false,
     "start_time": "2022-04-11T10:10:49.344178",
     "status": "completed"
    },
    "tags": []
   },
   "outputs": [
    {
     "data": {
      "text/plain": [
       "((60000, 28, 28), (60000,))"
      ]
     },
     "execution_count": 6,
     "metadata": {},
     "output_type": "execute_result"
    }
   ],
   "source": [
    "train_images.shape, train_labels.shape"
   ]
  },
  {
   "cell_type": "code",
   "execution_count": 7,
   "id": "f50dc2bb",
   "metadata": {
    "execution": {
     "iopub.execute_input": "2022-04-11T10:10:49.443673Z",
     "iopub.status.busy": "2022-04-11T10:10:49.443155Z",
     "iopub.status.idle": "2022-04-11T10:10:49.677090Z",
     "shell.execute_reply": "2022-04-11T10:10:49.676530Z"
    },
    "papermill": {
     "duration": 0.26312,
     "end_time": "2022-04-11T10:10:49.677235",
     "exception": false,
     "start_time": "2022-04-11T10:10:49.414115",
     "status": "completed"
    },
    "tags": []
   },
   "outputs": [],
   "source": [
    "test_images = mnist.test_images()\n",
    "test_labels = mnist.test_labels()"
   ]
  },
  {
   "cell_type": "code",
   "execution_count": 8,
   "id": "fc38cf1b",
   "metadata": {
    "execution": {
     "iopub.execute_input": "2022-04-11T10:10:49.733411Z",
     "iopub.status.busy": "2022-04-11T10:10:49.732879Z",
     "iopub.status.idle": "2022-04-11T10:10:49.745462Z",
     "shell.execute_reply": "2022-04-11T10:10:49.744992Z"
    },
    "papermill": {
     "duration": 0.042604,
     "end_time": "2022-04-11T10:10:49.745579",
     "exception": false,
     "start_time": "2022-04-11T10:10:49.702975",
     "status": "completed"
    },
    "tags": []
   },
   "outputs": [
    {
     "data": {
      "text/plain": [
       "((10000, 28, 28), (10000,))"
      ]
     },
     "execution_count": 8,
     "metadata": {},
     "output_type": "execute_result"
    }
   ],
   "source": [
    "test_images.shape, test_labels.shape"
   ]
  },
  {
   "cell_type": "code",
   "execution_count": 9,
   "id": "f9ed8fe0",
   "metadata": {
    "execution": {
     "iopub.execute_input": "2022-04-11T10:10:49.805374Z",
     "iopub.status.busy": "2022-04-11T10:10:49.804857Z",
     "iopub.status.idle": "2022-04-11T10:10:49.942867Z",
     "shell.execute_reply": "2022-04-11T10:10:49.943267Z"
    },
    "papermill": {
     "duration": 0.172362,
     "end_time": "2022-04-11T10:10:49.943414",
     "exception": false,
     "start_time": "2022-04-11T10:10:49.771052",
     "status": "completed"
    },
    "tags": []
   },
   "outputs": [
    {
     "name": "stdout",
     "output_type": "stream",
     "text": [
      "2\n"
     ]
    },
    {
     "data": {
      "text/plain": [
       "<matplotlib.image.AxesImage at 0x7fcfcc533358>"
      ]
     },
     "execution_count": 9,
     "metadata": {},
     "output_type": "execute_result"
    },
    {
     "data": {
      "image/png": "[encoded data removed]",
      "text/plain": [
       "<Figure size 432x288 with 1 Axes>"
      ]
     },
     "metadata": {
      "needs_background": "light"
     },
     "output_type": "display_data"
    }
   ],
   "source": [
    "image_index = 7776 # You may select anything up to 60,000\n",
    "print(train_labels[image_index]) \n",
    "plt.imshow(train_images[image_index], cmap='Greys')"
   ]
  },
  {
   "cell_type": "markdown",
   "id": "a8d2388d",
   "metadata": {
    "papermill": {
     "duration": 0.026564,
     "end_time": "2022-04-11T10:10:49.996526",
     "exception": false,
     "start_time": "2022-04-11T10:10:49.969962",
     "status": "completed"
    },
    "tags": []
   },
   "source": [
    "## Filter data to get 3 and 8 out"
   ]
  },
  {
   "cell_type": "code",
   "execution_count": 10,
   "id": "776f7fc7",
   "metadata": {
    "execution": {
     "iopub.execute_input": "2022-04-11T10:10:50.058268Z",
     "iopub.status.busy": "2022-04-11T10:10:50.057712Z",
     "iopub.status.idle": "2022-04-11T10:10:50.074856Z",
     "shell.execute_reply": "2022-04-11T10:10:50.074398Z"
    },
    "papermill": {
     "duration": 0.052125,
     "end_time": "2022-04-11T10:10:50.074982",
     "exception": false,
     "start_time": "2022-04-11T10:10:50.022857",
     "status": "completed"
    },
    "tags": []
   },
   "outputs": [],
   "source": [
    "train_filter = np.where((train_labels == 3 ) | (train_labels == 8))\n",
    "test_filter = np.where((test_labels == 3) | (test_labels == 8))\n",
    "X_train, y_train = train_images[train_filter], train_labels[train_filter]\n",
    "X_test, y_test = test_images[test_filter], test_labels[test_filter]"
   ]
  },
  {
   "cell_type": "markdown",
   "id": "948f0b7e",
   "metadata": {
    "papermill": {
     "duration": 0.026714,
     "end_time": "2022-04-11T10:10:50.128282",
     "exception": false,
     "start_time": "2022-04-11T10:10:50.101568",
     "status": "completed"
    },
    "tags": []
   },
   "source": [
    "We normalize the pizel values in the 0 to 1 range"
   ]
  },
  {
   "cell_type": "code",
   "execution_count": 11,
   "id": "ee4c2166",
   "metadata": {
    "execution": {
     "iopub.execute_input": "2022-04-11T10:10:50.185986Z",
     "iopub.status.busy": "2022-04-11T10:10:50.185446Z",
     "iopub.status.idle": "2022-04-11T10:10:50.233591Z",
     "shell.execute_reply": "2022-04-11T10:10:50.233066Z"
    },
    "papermill": {
     "duration": 0.079241,
     "end_time": "2022-04-11T10:10:50.233732",
     "exception": false,
     "start_time": "2022-04-11T10:10:50.154491",
     "status": "completed"
    },
    "tags": []
   },
   "outputs": [],
   "source": [
    "X_train = X_train/255.\n",
    "X_test = X_test/255."
   ]
  },
  {
   "cell_type": "markdown",
   "id": "ddcf4fab",
   "metadata": {
    "papermill": {
     "duration": 0.026547,
     "end_time": "2022-04-11T10:10:50.287598",
     "exception": false,
     "start_time": "2022-04-11T10:10:50.261051",
     "status": "completed"
    },
    "tags": []
   },
   "source": [
    "And setup the labels as 1 (when the digit is 3) and 0 (when the digit is 8)"
   ]
  },
  {
   "cell_type": "code",
   "execution_count": 12,
   "id": "7dc908f2",
   "metadata": {
    "execution": {
     "iopub.execute_input": "2022-04-11T10:10:50.357528Z",
     "iopub.status.busy": "2022-04-11T10:10:50.356969Z",
     "iopub.status.idle": "2022-04-11T10:10:50.362348Z",
     "shell.execute_reply": "2022-04-11T10:10:50.361930Z"
    },
    "papermill": {
     "duration": 0.048694,
     "end_time": "2022-04-11T10:10:50.362464",
     "exception": false,
     "start_time": "2022-04-11T10:10:50.313770",
     "status": "completed"
    },
    "tags": []
   },
   "outputs": [],
   "source": [
    "y_train = 1*(y_train==3)\n",
    "y_test = 1*(y_test==3)"
   ]
  },
  {
   "cell_type": "code",
   "execution_count": 13,
   "id": "01e4e969",
   "metadata": {
    "execution": {
     "iopub.execute_input": "2022-04-11T10:10:50.433028Z",
     "iopub.status.busy": "2022-04-11T10:10:50.429156Z",
     "iopub.status.idle": "2022-04-11T10:10:50.436158Z",
     "shell.execute_reply": "2022-04-11T10:10:50.435703Z"
    },
    "papermill": {
     "duration": 0.047418,
     "end_time": "2022-04-11T10:10:50.436273",
     "exception": false,
     "start_time": "2022-04-11T10:10:50.388855",
     "status": "completed"
    },
    "tags": []
   },
   "outputs": [
    {
     "data": {
      "text/plain": [
       "((11982, 28, 28), (1984, 28, 28))"
      ]
     },
     "execution_count": 13,
     "metadata": {},
     "output_type": "execute_result"
    }
   ],
   "source": [
    "X_train.shape, X_test.shape"
   ]
  },
  {
   "cell_type": "markdown",
   "id": "5ccf3f85",
   "metadata": {
    "papermill": {
     "duration": 0.02618,
     "end_time": "2022-04-11T10:10:50.488695",
     "exception": false,
     "start_time": "2022-04-11T10:10:50.462515",
     "status": "completed"
    },
    "tags": []
   },
   "source": [
    "We reshape the data to flatten the image pixels into a set of features or co-variates:"
   ]
  },
  {
   "cell_type": "code",
   "execution_count": 14,
   "id": "5286a4a3",
   "metadata": {
    "execution": {
     "iopub.execute_input": "2022-04-11T10:10:50.561354Z",
     "iopub.status.busy": "2022-04-11T10:10:50.560800Z",
     "iopub.status.idle": "2022-04-11T10:10:50.566433Z",
     "shell.execute_reply": "2022-04-11T10:10:50.566020Z"
    },
    "papermill": {
     "duration": 0.051507,
     "end_time": "2022-04-11T10:10:50.566548",
     "exception": false,
     "start_time": "2022-04-11T10:10:50.515041",
     "status": "completed"
    },
    "tags": []
   },
   "outputs": [
    {
     "data": {
      "text/plain": [
       "((11982, 784), (1984, 784))"
      ]
     },
     "execution_count": 14,
     "metadata": {},
     "output_type": "execute_result"
    }
   ],
   "source": [
    "X_train = X_train.reshape(X_train.shape[0], -1)\n",
    "X_test = X_test.reshape(X_test.shape[0], -1)\n",
    "X_train.shape, X_test.shape"
   ]
  },
  {
   "cell_type": "code",
   "execution_count": 15,
   "id": "73c5f88a",
   "metadata": {
    "execution": {
     "iopub.execute_input": "2022-04-11T10:10:50.623902Z",
     "iopub.status.busy": "2022-04-11T10:10:50.623390Z",
     "iopub.status.idle": "2022-04-11T10:10:50.642254Z",
     "shell.execute_reply": "2022-04-11T10:10:50.641836Z"
    },
    "papermill": {
     "duration": 0.049134,
     "end_time": "2022-04-11T10:10:50.642369",
     "exception": false,
     "start_time": "2022-04-11T10:10:50.593235",
     "status": "completed"
    },
    "tags": []
   },
   "outputs": [],
   "source": [
    "#Impoting functions from 'Kudzu'\n",
    "from kudzu.model import Model\n",
    "from kudzu.train import Learner\n",
    "from kudzu.optim import GD\n",
    "from kudzu.data import Data, Sampler,Dataloader\n",
    "\n",
    "from kudzu.callbacks import AccCallback\n",
    "from kudzu.callbacks import ClfCallback\n",
    "\n",
    "from kudzu.loss import MSE\n",
    "\n",
    "from kudzu.layer import Sigmoid,Relu\n",
    "from kudzu.layer import Affine"
   ]
  },
  {
   "cell_type": "markdown",
   "id": "bc01172a",
   "metadata": {
    "papermill": {
     "duration": 0.026475,
     "end_time": "2022-04-11T10:10:50.695578",
     "exception": false,
     "start_time": "2022-04-11T10:10:50.669103",
     "status": "completed"
    },
    "tags": []
   },
   "source": [
    "### Let us create a `Config` class, to store important parameters. \n",
    "This class essentially plays the role of a dictionary."
   ]
  },
  {
   "cell_type": "code",
   "execution_count": 16,
   "id": "978281aa",
   "metadata": {
    "execution": {
     "iopub.execute_input": "2022-04-11T10:10:50.753043Z",
     "iopub.status.busy": "2022-04-11T10:10:50.752526Z",
     "iopub.status.idle": "2022-04-11T10:10:50.764878Z",
     "shell.execute_reply": "2022-04-11T10:10:50.765294Z"
    },
    "papermill": {
     "duration": 0.043441,
     "end_time": "2022-04-11T10:10:50.765432",
     "exception": false,
     "start_time": "2022-04-11T10:10:50.721991",
     "status": "completed"
    },
    "tags": []
   },
   "outputs": [],
   "source": [
    "class Config:\n",
    "    pass\n",
    "config = Config()\n",
    "config.lr = 0.001\n",
    "config.num_epochs = 250\n",
    "config.bs = 50"
   ]
  },
  {
   "cell_type": "markdown",
   "id": "1385fa59",
   "metadata": {
    "papermill": {
     "duration": 0.026634,
     "end_time": "2022-04-11T10:10:50.819043",
     "exception": false,
     "start_time": "2022-04-11T10:10:50.792409",
     "status": "completed"
    },
    "tags": []
   },
   "source": [
    "### Running Models with the Training data\n",
    "Details about the network layers:\n",
    "- A first affine layer has 784 inputs and does 100 affine transforms. These are followed by a Relu\n",
    "- A second affine layer has 100 inputs from the 100 activations of the past layer, and does 100 affine transforms. These are followed by a Relu\n",
    "- A third affine layer has 100 activations and does 2 affine transformations to create an embedding for visualization. There is no non-linearity here.\n",
    "- A final \"logistic regression\" which has an affine transform from 2 inputs to 1 output, which is squeezed through a sigmoid.\n"
   ]
  },
  {
   "cell_type": "code",
   "execution_count": 17,
   "id": "2b9c66db",
   "metadata": {
    "execution": {
     "iopub.execute_input": "2022-04-11T10:10:50.881368Z",
     "iopub.status.busy": "2022-04-11T10:10:50.880832Z",
     "iopub.status.idle": "2022-04-11T10:10:50.890641Z",
     "shell.execute_reply": "2022-04-11T10:10:50.891083Z"
    },
    "papermill": {
     "duration": 0.045456,
     "end_time": "2022-04-11T10:10:50.891225",
     "exception": false,
     "start_time": "2022-04-11T10:10:50.845769",
     "status": "completed"
    },
    "tags": []
   },
   "outputs": [],
   "source": [
    "data = Data(X_train, y_train.reshape(-1,1))\n",
    "sampler = Sampler(data, config.bs, shuffle=True)\n",
    "\n",
    "dl = Dataloader(data, sampler)\n",
    "\n",
    "opt = GD(config.lr)\n",
    "loss = MSE()"
   ]
  },
  {
   "cell_type": "code",
   "execution_count": 18,
   "id": "b275e4c2",
   "metadata": {
    "execution": {
     "iopub.execute_input": "2022-04-11T10:10:50.949612Z",
     "iopub.status.busy": "2022-04-11T10:10:50.949099Z",
     "iopub.status.idle": "2022-04-11T10:10:50.961181Z",
     "shell.execute_reply": "2022-04-11T10:10:50.960770Z"
    },
    "papermill": {
     "duration": 0.043146,
     "end_time": "2022-04-11T10:10:50.961292",
     "exception": false,
     "start_time": "2022-04-11T10:10:50.918146",
     "status": "completed"
    },
    "tags": []
   },
   "outputs": [],
   "source": [
    "training_data_x = X_train\n",
    "testing_data_x = X_test\n",
    "training_data_y = y_train.reshape(-1,1)\n",
    "testing_data_y = y_test.reshape(-1,1)"
   ]
  },
  {
   "cell_type": "code",
   "execution_count": 19,
   "id": "76951160",
   "metadata": {
    "execution": {
     "iopub.execute_input": "2022-04-11T10:10:51.018378Z",
     "iopub.status.busy": "2022-04-11T10:10:51.017862Z",
     "iopub.status.idle": "2022-04-11T10:10:51.033870Z",
     "shell.execute_reply": "2022-04-11T10:10:51.034252Z"
    },
    "papermill": {
     "duration": 0.046748,
     "end_time": "2022-04-11T10:10:51.034386",
     "exception": false,
     "start_time": "2022-04-11T10:10:50.987638",
     "status": "completed"
    },
    "tags": []
   },
   "outputs": [
    {
     "name": "stdout",
     "output_type": "stream",
     "text": [
      "xavier\n",
      "xavier\n",
      "xavier\n",
      "xavier\n",
      "xavier\n"
     ]
    }
   ],
   "source": [
    "layers = [Affine(\"first\", 784, 100), Relu(\"first\"), Affine(\"second\", 100, 100), Relu(\"second\"), Affine(\"third\", 100, 2), Affine(\"last\", 2, 1), Sigmoid(\"last\")]\n",
    "model_nn = Model(layers)\n",
    "model_lr = Model([Affine(\"logits\", 784, 1), Sigmoid(\"sigmoid\")])"
   ]
  },
  {
   "cell_type": "code",
   "execution_count": 20,
   "id": "6eede77a",
   "metadata": {
    "execution": {
     "iopub.execute_input": "2022-04-11T10:10:51.092490Z",
     "iopub.status.busy": "2022-04-11T10:10:51.091941Z",
     "iopub.status.idle": "2022-04-11T10:10:51.104595Z",
     "shell.execute_reply": "2022-04-11T10:10:51.104168Z"
    },
    "papermill": {
     "duration": 0.043334,
     "end_time": "2022-04-11T10:10:51.104713",
     "exception": false,
     "start_time": "2022-04-11T10:10:51.061379",
     "status": "completed"
    },
    "tags": []
   },
   "outputs": [],
   "source": [
    "nn_learner = Learner(loss, model_nn, opt, config.num_epochs)\n",
    "acc_nn = ClfCallback(nn_learner, config.bs, training_data_x , testing_data_x, training_data_y, testing_data_y)\n",
    "nn_learner.set_callbacks([acc_nn])"
   ]
  },
  {
   "cell_type": "code",
   "execution_count": 21,
   "id": "877b6cc7",
   "metadata": {
    "execution": {
     "iopub.execute_input": "2022-04-11T10:10:51.164408Z",
     "iopub.status.busy": "2022-04-11T10:10:51.163863Z",
     "iopub.status.idle": "2022-04-11T10:10:51.175199Z",
     "shell.execute_reply": "2022-04-11T10:10:51.174786Z"
    },
    "papermill": {
     "duration": 0.043748,
     "end_time": "2022-04-11T10:10:51.175315",
     "exception": false,
     "start_time": "2022-04-11T10:10:51.131567",
     "status": "completed"
    },
    "tags": []
   },
   "outputs": [],
   "source": [
    "lr_learner = Learner(loss, model_lr, opt, config.num_epochs)\n",
    "acc_lr = ClfCallback(lr_learner, config.bs, training_data_x , testing_data_x, training_data_y, testing_data_y)\n",
    "lr_learner.set_callbacks([acc_lr])"
   ]
  },
  {
   "cell_type": "code",
   "execution_count": 22,
   "id": "d9b133c3",
   "metadata": {
    "execution": {
     "iopub.execute_input": "2022-04-11T10:10:51.235165Z",
     "iopub.status.busy": "2022-04-11T10:10:51.234655Z",
     "iopub.status.idle": "2022-04-11T10:12:08.146219Z",
     "shell.execute_reply": "2022-04-11T10:12:08.146978Z"
    },
    "papermill": {
     "duration": 76.944768,
     "end_time": "2022-04-11T10:12:08.147130",
     "exception": false,
     "start_time": "2022-04-11T10:10:51.202362",
     "status": "completed"
    },
    "tags": []
   },
   "outputs": [
    {
     "name": "stdout",
     "output_type": "stream",
     "text": [
      "Epoch 0, Loss 0.2207\n",
      "Training Accuracy: 0.7824, Testing Accuracy: 0.7727\n",
      "\n"
     ]
    },
    {
     "name": "stdout",
     "output_type": "stream",
     "text": [
      "Epoch 10, Loss 0.0651\n",
      "Training Accuracy: 0.9337, Testing Accuracy: 0.9385\n",
      "\n"
     ]
    },
    {
     "name": "stdout",
     "output_type": "stream",
     "text": [
      "Epoch 20, Loss 0.0442\n",
      "Training Accuracy: 0.9516, Testing Accuracy: 0.9587\n",
      "\n"
     ]
    },
    {
     "name": "stdout",
     "output_type": "stream",
     "text": [
      "Epoch 30, Loss 0.0367\n",
      "Training Accuracy: 0.9593, Testing Accuracy: 0.9632\n",
      "\n"
     ]
    },
    {
     "name": "stdout",
     "output_type": "stream",
     "text": [
      "Epoch 40, Loss 0.0327\n",
      "Training Accuracy: 0.9627, Testing Accuracy: 0.9672\n",
      "\n"
     ]
    },
    {
     "name": "stdout",
     "output_type": "stream",
     "text": [
      "Epoch 50, Loss 0.0301\n",
      "Training Accuracy: 0.9655, Testing Accuracy: 0.9698\n",
      "\n"
     ]
    },
    {
     "name": "stdout",
     "output_type": "stream",
     "text": [
      "Epoch 60, Loss 0.0283\n",
      "Training Accuracy: 0.9676, Testing Accuracy: 0.9708\n",
      "\n"
     ]
    },
    {
     "name": "stdout",
     "output_type": "stream",
     "text": [
      "Epoch 70, Loss 0.0269\n",
      "Training Accuracy: 0.9693, Testing Accuracy: 0.9713\n",
      "\n"
     ]
    },
    {
     "name": "stdout",
     "output_type": "stream",
     "text": [
      "Epoch 80, Loss 0.0258\n",
      "Training Accuracy: 0.9709, Testing Accuracy: 0.9718\n",
      "\n"
     ]
    },
    {
     "name": "stdout",
     "output_type": "stream",
     "text": [
      "Epoch 90, Loss 0.0248\n",
      "Training Accuracy: 0.9718, Testing Accuracy: 0.9728\n",
      "\n"
     ]
    },
    {
     "name": "stdout",
     "output_type": "stream",
     "text": [
      "Epoch 100, Loss 0.024\n",
      "Training Accuracy: 0.9726, Testing Accuracy: 0.9743\n",
      "\n"
     ]
    },
    {
     "name": "stdout",
     "output_type": "stream",
     "text": [
      "Epoch 110, Loss 0.0232\n",
      "Training Accuracy: 0.9737, Testing Accuracy: 0.9738\n",
      "\n"
     ]
    },
    {
     "name": "stdout",
     "output_type": "stream",
     "text": [
      "Epoch 120, Loss 0.0226\n",
      "Training Accuracy: 0.9745, Testing Accuracy: 0.9743\n",
      "\n"
     ]
    },
    {
     "name": "stdout",
     "output_type": "stream",
     "text": [
      "Epoch 130, Loss 0.0219\n",
      "Training Accuracy: 0.9750, Testing Accuracy: 0.9743\n",
      "\n"
     ]
    },
    {
     "name": "stdout",
     "output_type": "stream",
     "text": [
      "Epoch 140, Loss 0.0213\n",
      "Training Accuracy: 0.9761, Testing Accuracy: 0.9738\n",
      "\n"
     ]
    },
    {
     "name": "stdout",
     "output_type": "stream",
     "text": [
      "Epoch 150, Loss 0.0208\n",
      "Training Accuracy: 0.9766, Testing Accuracy: 0.9738\n",
      "\n"
     ]
    },
    {
     "name": "stdout",
     "output_type": "stream",
     "text": [
      "Epoch 160, Loss 0.0203\n",
      "Training Accuracy: 0.9772, Testing Accuracy: 0.9743\n",
      "\n"
     ]
    },
    {
     "name": "stdout",
     "output_type": "stream",
     "text": [
      "Epoch 170, Loss 0.0198\n",
      "Training Accuracy: 0.9779, Testing Accuracy: 0.9743\n",
      "\n"
     ]
    },
    {
     "name": "stdout",
     "output_type": "stream",
     "text": [
      "Epoch 180, Loss 0.0193\n",
      "Training Accuracy: 0.9790, Testing Accuracy: 0.9743\n",
      "\n"
     ]
    },
    {
     "name": "stdout",
     "output_type": "stream",
     "text": [
      "Epoch 190, Loss 0.0188\n",
      "Training Accuracy: 0.9800, Testing Accuracy: 0.9743\n",
      "\n"
     ]
    },
    {
     "name": "stdout",
     "output_type": "stream",
     "text": [
      "Epoch 200, Loss 0.0184\n",
      "Training Accuracy: 0.9801, Testing Accuracy: 0.9748\n",
      "\n"
     ]
    },
    {
     "name": "stdout",
     "output_type": "stream",
     "text": [
      "Epoch 210, Loss 0.0179\n",
      "Training Accuracy: 0.9808, Testing Accuracy: 0.9748\n",
      "\n"
     ]
    },
    {
     "name": "stdout",
     "output_type": "stream",
     "text": [
      "Epoch 220, Loss 0.0175\n",
      "Training Accuracy: 0.9814, Testing Accuracy: 0.9753\n",
      "\n"
     ]
    },
    {
     "name": "stdout",
     "output_type": "stream",
     "text": [
      "Epoch 230, Loss 0.0171\n",
      "Training Accuracy: 0.9818, Testing Accuracy: 0.9758\n",
      "\n"
     ]
    },
    {
     "name": "stdout",
     "output_type": "stream",
     "text": [
      "Epoch 240, Loss 0.0167\n",
      "Training Accuracy: 0.9823, Testing Accuracy: 0.9763\n",
      "\n"
     ]
    },
    {
     "data": {
      "text/plain": [
       "0.00034532248560509765"
      ]
     },
     "execution_count": 22,
     "metadata": {},
     "output_type": "execute_result"
    }
   ],
   "source": [
    "nn_learner.train_loop(dl)"
   ]
  },
  {
   "cell_type": "code",
   "execution_count": 23,
   "id": "e0163366",
   "metadata": {
    "execution": {
     "iopub.execute_input": "2022-04-11T10:12:08.228903Z",
     "iopub.status.busy": "2022-04-11T10:12:08.228331Z",
     "iopub.status.idle": "2022-04-11T10:12:22.199603Z",
     "shell.execute_reply": "2022-04-11T10:12:22.200371Z"
    },
    "papermill": {
     "duration": 14.019022,
     "end_time": "2022-04-11T10:12:22.200531",
     "exception": false,
     "start_time": "2022-04-11T10:12:08.181509",
     "status": "completed"
    },
    "tags": []
   },
   "outputs": [
    {
     "name": "stdout",
     "output_type": "stream",
     "text": [
      "Epoch 0, Loss 0.2705\n",
      "Training Accuracy: 0.5366, Testing Accuracy: 0.5343\n",
      "\n"
     ]
    },
    {
     "name": "stdout",
     "output_type": "stream",
     "text": [
      "Epoch 10, Loss 0.1099\n",
      "Training Accuracy: 0.8910, Testing Accuracy: 0.9062\n",
      "\n"
     ]
    },
    {
     "name": "stdout",
     "output_type": "stream",
     "text": [
      "Epoch 20, Loss 0.0827\n",
      "Training Accuracy: 0.9193, Testing Accuracy: 0.9370\n",
      "\n"
     ]
    },
    {
     "name": "stdout",
     "output_type": "stream",
     "text": [
      "Epoch 30, Loss 0.0705\n",
      "Training Accuracy: 0.9320, Testing Accuracy: 0.9461\n",
      "\n"
     ]
    },
    {
     "name": "stdout",
     "output_type": "stream",
     "text": [
      "Epoch 40, Loss 0.0633\n",
      "Training Accuracy: 0.9386, Testing Accuracy: 0.9551\n",
      "\n"
     ]
    },
    {
     "name": "stdout",
     "output_type": "stream",
     "text": [
      "Epoch 50, Loss 0.0584\n",
      "Training Accuracy: 0.9427, Testing Accuracy: 0.9572\n",
      "\n"
     ]
    },
    {
     "name": "stdout",
     "output_type": "stream",
     "text": [
      "Epoch 60, Loss 0.0549\n",
      "Training Accuracy: 0.9455, Testing Accuracy: 0.9587\n",
      "\n"
     ]
    },
    {
     "name": "stdout",
     "output_type": "stream",
     "text": [
      "Epoch 70, Loss 0.0521\n",
      "Training Accuracy: 0.9484, Testing Accuracy: 0.9607\n",
      "\n"
     ]
    },
    {
     "name": "stdout",
     "output_type": "stream",
     "text": [
      "Epoch 80, Loss 0.05\n",
      "Training Accuracy: 0.9500, Testing Accuracy: 0.9612\n",
      "\n"
     ]
    },
    {
     "name": "stdout",
     "output_type": "stream",
     "text": [
      "Epoch 90, Loss 0.0482\n",
      "Training Accuracy: 0.9510, Testing Accuracy: 0.9617\n",
      "\n"
     ]
    },
    {
     "name": "stdout",
     "output_type": "stream",
     "text": [
      "Epoch 100, Loss 0.0467\n",
      "Training Accuracy: 0.9518, Testing Accuracy: 0.9617\n",
      "\n"
     ]
    },
    {
     "name": "stdout",
     "output_type": "stream",
     "text": [
      "Epoch 110, Loss 0.0454\n",
      "Training Accuracy: 0.9533, Testing Accuracy: 0.9617\n",
      "\n"
     ]
    },
    {
     "name": "stdout",
     "output_type": "stream",
     "text": [
      "Epoch 120, Loss 0.0443\n",
      "Training Accuracy: 0.9541, Testing Accuracy: 0.9607\n",
      "\n"
     ]
    },
    {
     "name": "stdout",
     "output_type": "stream",
     "text": [
      "Epoch 130, Loss 0.0433\n",
      "Training Accuracy: 0.9549, Testing Accuracy: 0.9612\n",
      "\n"
     ]
    },
    {
     "name": "stdout",
     "output_type": "stream",
     "text": [
      "Epoch 140, Loss 0.0425\n",
      "Training Accuracy: 0.9559, Testing Accuracy: 0.9622\n",
      "\n"
     ]
    },
    {
     "name": "stdout",
     "output_type": "stream",
     "text": [
      "Epoch 150, Loss 0.0417\n",
      "Training Accuracy: 0.9564, Testing Accuracy: 0.9637\n",
      "\n"
     ]
    },
    {
     "name": "stdout",
     "output_type": "stream",
     "text": [
      "Epoch 160, Loss 0.041\n",
      "Training Accuracy: 0.9569, Testing Accuracy: 0.9652\n",
      "\n"
     ]
    },
    {
     "name": "stdout",
     "output_type": "stream",
     "text": [
      "Epoch 170, Loss 0.0403\n",
      "Training Accuracy: 0.9574, Testing Accuracy: 0.9667\n",
      "\n"
     ]
    },
    {
     "name": "stdout",
     "output_type": "stream",
     "text": [
      "Epoch 180, Loss 0.0398\n",
      "Training Accuracy: 0.9580, Testing Accuracy: 0.9677\n",
      "\n"
     ]
    },
    {
     "name": "stdout",
     "output_type": "stream",
     "text": [
      "Epoch 190, Loss 0.0392\n",
      "Training Accuracy: 0.9582, Testing Accuracy: 0.9677\n",
      "\n"
     ]
    },
    {
     "name": "stdout",
     "output_type": "stream",
     "text": [
      "Epoch 200, Loss 0.0387\n",
      "Training Accuracy: 0.9588, Testing Accuracy: 0.9677\n",
      "\n"
     ]
    },
    {
     "name": "stdout",
     "output_type": "stream",
     "text": [
      "Epoch 210, Loss 0.0383\n",
      "Training Accuracy: 0.9596, Testing Accuracy: 0.9677\n",
      "\n"
     ]
    },
    {
     "name": "stdout",
     "output_type": "stream",
     "text": [
      "Epoch 220, Loss 0.0378\n",
      "Training Accuracy: 0.9602, Testing Accuracy: 0.9677\n",
      "\n"
     ]
    },
    {
     "name": "stdout",
     "output_type": "stream",
     "text": [
      "Epoch 230, Loss 0.0374\n",
      "Training Accuracy: 0.9605, Testing Accuracy: 0.9677\n",
      "\n"
     ]
    },
    {
     "name": "stdout",
     "output_type": "stream",
     "text": [
      "Epoch 240, Loss 0.0371\n",
      "Training Accuracy: 0.9609, Testing Accuracy: 0.9677\n",
      "\n"
     ]
    },
    {
     "data": {
      "text/plain": [
       "0.045743233702660445"
      ]
     },
     "execution_count": 23,
     "metadata": {},
     "output_type": "execute_result"
    }
   ],
   "source": [
    "lr_learner.train_loop(dl)"
   ]
  },
  {
   "cell_type": "code",
   "execution_count": 24,
   "id": "ca410940",
   "metadata": {
    "execution": {
     "iopub.execute_input": "2022-04-11T10:12:22.297541Z",
     "iopub.status.busy": "2022-04-11T10:12:22.296990Z",
     "iopub.status.idle": "2022-04-11T10:12:22.513222Z",
     "shell.execute_reply": "2022-04-11T10:12:22.512763Z"
    },
    "papermill": {
     "duration": 0.271681,
     "end_time": "2022-04-11T10:12:22.513346",
     "exception": false,
     "start_time": "2022-04-11T10:12:22.241665",
     "status": "completed"
    },
    "tags": []
   },
   "outputs": [
    {
     "data": {
      "text/plain": [
       "<matplotlib.legend.Legend at 0x7fcfcc111b00>"
      ]
     },
     "execution_count": 24,
     "metadata": {},
     "output_type": "execute_result"
    },
    {
     "data": {
      "image/png": "[encoded data removed]",
      "text/plain": [
       "<Figure size 1080x720 with 1 Axes>"
      ]
     },
     "metadata": {
      "needs_background": "light"
     },
     "output_type": "display_data"
    }
   ],
   "source": [
    "#comparing the results of NN and LR\n",
    "plt.figure(figsize=(15,10))\n",
    "\n",
    "# Neural Network plots\n",
    "plt.plot(acc_nn.accuracies, 'r-', label = \"Training Accuracies - NN\")\n",
    "plt.plot(acc_nn.test_accuracies, 'g-', label = \"Testing Accuracies - NN\")\n",
    "\n",
    "# Logistic Regression plots\n",
    "plt.plot(acc_lr.accuracies, 'k-', label = \"Training Accuracies - LR\")\n",
    "plt.plot(acc_lr.test_accuracies, 'b-', label = \"Testing Accuracies - LR\")\n",
    "plt.legend()"
   ]
  },
  {
   "cell_type": "markdown",
   "id": "80dfb35c",
   "metadata": {
    "papermill": {
     "duration": 0.041801,
     "end_time": "2022-04-11T10:12:22.597397",
     "exception": false,
     "start_time": "2022-04-11T10:12:22.555596",
     "status": "completed"
    },
    "tags": []
   },
   "source": [
    "#### Plotting the outputs of this layer of the NN.\n"
   ]
  },
  {
   "cell_type": "code",
   "execution_count": 25,
   "id": "45eb2ff5",
   "metadata": {
    "execution": {
     "iopub.execute_input": "2022-04-11T10:12:22.686243Z",
     "iopub.status.busy": "2022-04-11T10:12:22.685708Z",
     "iopub.status.idle": "2022-04-11T10:12:22.705583Z",
     "shell.execute_reply": "2022-04-11T10:12:22.706018Z"
    },
    "papermill": {
     "duration": 0.06644,
     "end_time": "2022-04-11T10:12:22.706157",
     "exception": false,
     "start_time": "2022-04-11T10:12:22.639717",
     "status": "completed"
    },
    "tags": []
   },
   "outputs": [],
   "source": [
    "new_model = Model(layers[:-2])\n",
    "testing_plot = new_model(testing_data_x)"
   ]
  },
  {
   "cell_type": "code",
   "execution_count": 26,
   "id": "4c0a5485",
   "metadata": {
    "execution": {
     "iopub.execute_input": "2022-04-11T10:12:22.795859Z",
     "iopub.status.busy": "2022-04-11T10:12:22.795317Z",
     "iopub.status.idle": "2022-04-11T10:12:22.987158Z",
     "shell.execute_reply": "2022-04-11T10:12:22.986718Z"
    },
    "papermill": {
     "duration": 0.237673,
     "end_time": "2022-04-11T10:12:22.987282",
     "exception": false,
     "start_time": "2022-04-11T10:12:22.749609",
     "status": "completed"
    },
    "tags": []
   },
   "outputs": [
    {
     "data": {
      "text/plain": [
       "Text(0.5, 1.0, 'Outputs')"
      ]
     },
     "execution_count": 26,
     "metadata": {},
     "output_type": "execute_result"
    },
    {
     "data": {
      "image/png": "[encoded data removed]",
      "text/plain": [
       "<Figure size 576x504 with 1 Axes>"
      ]
     },
     "metadata": {
      "needs_background": "light"
     },
     "output_type": "display_data"
    }
   ],
   "source": [
    "# Plotting the scatter plot of points and color coding by class\n",
    "plt.figure(figsize=(8,7))\n",
    "plt.scatter(testing_plot[:,0], testing_plot[:,1], alpha = 0.1, c = y_test.ravel());\n",
    "plt.title('Outputs')"
   ]
  },
  {
   "cell_type": "markdown",
   "id": "a74fcf8f",
   "metadata": {
    "papermill": {
     "duration": 0.043934,
     "end_time": "2022-04-11T10:12:23.075014",
     "exception": false,
     "start_time": "2022-04-11T10:12:23.031080",
     "status": "completed"
    },
    "tags": []
   },
   "source": [
    "Probability contours"
   ]
  },
  {
   "cell_type": "code",
   "execution_count": 27,
   "id": "d0afc8e3",
   "metadata": {
    "execution": {
     "iopub.execute_input": "2022-04-11T10:12:23.171894Z",
     "iopub.status.busy": "2022-04-11T10:12:23.171341Z",
     "iopub.status.idle": "2022-04-11T10:12:23.181045Z",
     "shell.execute_reply": "2022-04-11T10:12:23.181453Z"
    },
    "papermill": {
     "duration": 0.062615,
     "end_time": "2022-04-11T10:12:23.181588",
     "exception": false,
     "start_time": "2022-04-11T10:12:23.118973",
     "status": "completed"
    },
    "tags": []
   },
   "outputs": [],
   "source": [
    "model_prob = Model(layers[-2:]) "
   ]
  },
  {
   "cell_type": "code",
   "execution_count": 28,
   "id": "9b96e238",
   "metadata": {
    "execution": {
     "iopub.execute_input": "2022-04-11T10:12:23.285529Z",
     "iopub.status.busy": "2022-04-11T10:12:23.284985Z",
     "iopub.status.idle": "2022-04-11T10:12:23.292611Z",
     "shell.execute_reply": "2022-04-11T10:12:23.292185Z"
    },
    "papermill": {
     "duration": 0.067387,
     "end_time": "2022-04-11T10:12:23.292728",
     "exception": false,
     "start_time": "2022-04-11T10:12:23.225341",
     "status": "completed"
    },
    "tags": []
   },
   "outputs": [],
   "source": [
    "#creating the x and y ranges according to the above generated plot.\n",
    "x_range = np.linspace(-4, 1, 100) \n",
    "y_range = np.linspace(-6, 6, 100) \n",
    "x_grid, y_grid = np.meshgrid(x_range, y_range) # x_grid and y_grig are of size 100 X 100\n",
    "\n",
    "# converting x_grid and y_grid to continuous arrays\n",
    "x_gridflat = np.ravel(x_grid)\n",
    "y_gridflat = np.ravel(y_grid)\n",
    "\n",
    "# The last layer of the current model takes two columns as input. Hence transpose of np.vstack() is required.\n",
    "X = np.vstack((x_gridflat, y_gridflat)).T\n",
    "\n",
    "prob_contour = model_prob(X).reshape(100,100) "
   ]
  },
  {
   "cell_type": "code",
   "execution_count": 29,
   "id": "da72499a",
   "metadata": {
    "execution": {
     "iopub.execute_input": "2022-04-11T10:12:23.422152Z",
     "iopub.status.busy": "2022-04-11T10:12:23.421637Z",
     "iopub.status.idle": "2022-04-11T10:12:23.667820Z",
     "shell.execute_reply": "2022-04-11T10:12:23.667358Z"
    },
    "papermill": {
     "duration": 0.331293,
     "end_time": "2022-04-11T10:12:23.667941",
     "exception": false,
     "start_time": "2022-04-11T10:12:23.336648",
     "status": "completed"
    },
    "tags": []
   },
   "outputs": [
    {
     "data": {
      "image/png": "[encoded data removed]",
      "text/plain": [
       "<Figure size 720x648 with 1 Axes>"
      ]
     },
     "metadata": {
      "needs_background": "light"
     },
     "output_type": "display_data"
    }
   ],
   "source": [
    "plt.figure(figsize=(10,9))\n",
    "plt.scatter(testing_plot[:,0], testing_plot[:,1], alpha = 0.1, c = y_test.ravel())\n",
    "contours = plt.contour(x_grid,y_grid,prob_contour)\n",
    "plt.title('Probability Contours')\n",
    "plt.clabel(contours, inline = True );"
   ]
  },
  {
   "cell_type": "code",
   "execution_count": null,
   "id": "e81b4ac7",
   "metadata": {
    "papermill": {
     "duration": 0.046351,
     "end_time": "2022-04-11T10:12:23.761052",
     "exception": false,
     "start_time": "2022-04-11T10:12:23.714701",
     "status": "completed"
    },
    "tags": []
   },
   "outputs": [],
   "source": []
  }
 ],
 "metadata": {
  "kernelspec": {
   "display_name": "Python 3",
   "language": "python",
   "name": "python3"
  },
  "language_info": {
   "codemirror_mode": {
    "name": "ipython",
    "version": 3
   },
   "file_extension": ".py",
   "mimetype": "text/x-python",
   "name": "python",
   "nbconvert_exporter": "python",
   "pygments_lexer": "ipython3",
   "version": "3.6.15"
  },
  "papermill": {
   "default_parameters": {},
   "duration": 99.287099,
   "end_time": "2022-04-11T10:12:24.226279",
   "environment_variables": {},
   "exception": null,
   "input_path": "2020-08-11-part2.ipynb",
   "output_path": "2020-08-11-part2.ipynb",
   "parameters": {},
   "start_time": "2022-04-11T10:10:44.939180",
   "version": "2.3.3"
  }
 },
 "nbformat": 4,
 "nbformat_minor": 5
}