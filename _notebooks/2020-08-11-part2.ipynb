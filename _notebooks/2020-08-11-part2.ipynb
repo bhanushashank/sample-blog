{
 "cells": [
  {
   "cell_type": "markdown",
   "id": "98380cd3",
   "metadata": {
    "papermill": {
     "duration": 0.028785,
     "end_time": "2022-04-28T00:45:56.613674",
     "exception": false,
     "start_time": "2022-04-28T00:45:56.584889",
     "status": "completed"
    },
    "tags": []
   },
   "source": [
    "# Distinguish Your Own Digits (DYOD)"
   ]
  },
  {
   "cell_type": "markdown",
   "id": "ef31240d",
   "metadata": {
    "papermill": {
     "duration": 0.024876,
     "end_time": "2022-04-28T00:45:56.662902",
     "exception": false,
     "start_time": "2022-04-28T00:45:56.638026",
     "status": "completed"
    },
    "tags": []
   },
   "source": [
    "You are going to write a classifier that distinguishes between the number 3 and number 8."
   ]
  },
  {
   "cell_type": "code",
   "execution_count": 1,
   "id": "b15c8646",
   "metadata": {
    "execution": {
     "iopub.execute_input": "2022-04-28T00:45:56.719782Z",
     "iopub.status.busy": "2022-04-28T00:45:56.719258Z",
     "iopub.status.idle": "2022-04-28T00:45:56.729105Z",
     "shell.execute_reply": "2022-04-28T00:45:56.729539Z"
    },
    "papermill": {
     "duration": 0.043212,
     "end_time": "2022-04-28T00:45:56.729681",
     "exception": false,
     "start_time": "2022-04-28T00:45:56.686469",
     "status": "completed"
    },
    "tags": []
   },
   "outputs": [],
   "source": [
    "%load_ext autoreload\n",
    "%autoreload 2"
   ]
  },
  {
   "cell_type": "code",
   "execution_count": 2,
   "id": "22ef38dc",
   "metadata": {
    "execution": {
     "iopub.execute_input": "2022-04-28T00:45:56.791843Z",
     "iopub.status.busy": "2022-04-28T00:45:56.791307Z",
     "iopub.status.idle": "2022-04-28T00:45:57.314393Z",
     "shell.execute_reply": "2022-04-28T00:45:57.313815Z"
    },
    "papermill": {
     "duration": 0.561334,
     "end_time": "2022-04-28T00:45:57.314530",
     "exception": false,
     "start_time": "2022-04-28T00:45:56.753196",
     "status": "completed"
    },
    "tags": []
   },
   "outputs": [],
   "source": [
    "%matplotlib inline\n",
    "import numpy as np\n",
    "import matplotlib.pyplot as plt\n",
    "import pandas as pd"
   ]
  },
  {
   "cell_type": "markdown",
   "id": "ba036198",
   "metadata": {
    "papermill": {
     "duration": 0.023672,
     "end_time": "2022-04-28T00:45:57.362830",
     "exception": false,
     "start_time": "2022-04-28T00:45:57.339158",
     "status": "completed"
    },
    "tags": []
   },
   "source": [
    "From the command line run `pip install mnist`. This is a library that will help you bring down the mnist dataset. If you run this from a notebook, you need to put  `!pip install mnist` in a cell by itself."
   ]
  },
  {
   "cell_type": "code",
   "execution_count": 3,
   "id": "bb6ad8a1",
   "metadata": {
    "execution": {
     "iopub.execute_input": "2022-04-28T00:45:57.419172Z",
     "iopub.status.busy": "2022-04-28T00:45:57.418641Z",
     "iopub.status.idle": "2022-04-28T00:45:59.068272Z",
     "shell.execute_reply": "2022-04-28T00:45:59.067445Z"
    },
    "papermill": {
     "duration": 1.681905,
     "end_time": "2022-04-28T00:45:59.068401",
     "exception": false,
     "start_time": "2022-04-28T00:45:57.386496",
     "status": "completed"
    },
    "tags": []
   },
   "outputs": [
    {
     "name": "stdout",
     "output_type": "stream",
     "text": [
      "Collecting mnist\r\n"
     ]
    },
    {
     "name": "stdout",
     "output_type": "stream",
     "text": [
      "  Downloading mnist-0.2.2-py2.py3-none-any.whl (3.5 kB)\r\n",
      "Requirement already satisfied: numpy in /opt/hostedtoolcache/Python/3.6.15/x64/lib/python3.6/site-packages (from mnist) (1.19.5)\r\n"
     ]
    },
    {
     "name": "stdout",
     "output_type": "stream",
     "text": [
      "Installing collected packages: mnist\r\n"
     ]
    },
    {
     "name": "stdout",
     "output_type": "stream",
     "text": [
      "Successfully installed mnist-0.2.2\r\n"
     ]
    }
   ],
   "source": [
    "!pip install mnist"
   ]
  },
  {
   "cell_type": "markdown",
   "id": "69df9c9a",
   "metadata": {
    "papermill": {
     "duration": 0.024658,
     "end_time": "2022-04-28T00:45:59.118265",
     "exception": false,
     "start_time": "2022-04-28T00:45:59.093607",
     "status": "completed"
    },
    "tags": []
   },
   "source": [
    "## Preparing the Data"
   ]
  },
  {
   "cell_type": "code",
   "execution_count": 4,
   "id": "7f69d806",
   "metadata": {
    "execution": {
     "iopub.execute_input": "2022-04-28T00:45:59.175226Z",
     "iopub.status.busy": "2022-04-28T00:45:59.174689Z",
     "iopub.status.idle": "2022-04-28T00:45:59.186834Z",
     "shell.execute_reply": "2022-04-28T00:45:59.186408Z"
    },
    "papermill": {
     "duration": 0.044094,
     "end_time": "2022-04-28T00:45:59.186951",
     "exception": false,
     "start_time": "2022-04-28T00:45:59.142857",
     "status": "completed"
    },
    "tags": []
   },
   "outputs": [],
   "source": [
    "import mnist"
   ]
  },
  {
   "cell_type": "code",
   "execution_count": 5,
   "id": "a411e44f",
   "metadata": {
    "execution": {
     "iopub.execute_input": "2022-04-28T00:45:59.240372Z",
     "iopub.status.busy": "2022-04-28T00:45:59.239850Z",
     "iopub.status.idle": "2022-04-28T00:45:59.738193Z",
     "shell.execute_reply": "2022-04-28T00:45:59.737638Z"
    },
    "papermill": {
     "duration": 0.526483,
     "end_time": "2022-04-28T00:45:59.738336",
     "exception": false,
     "start_time": "2022-04-28T00:45:59.211853",
     "status": "completed"
    },
    "tags": []
   },
   "outputs": [],
   "source": [
    "train_images = mnist.train_images()\n",
    "train_labels = mnist.train_labels()"
   ]
  },
  {
   "cell_type": "code",
   "execution_count": 6,
   "id": "dceab3a5",
   "metadata": {
    "execution": {
     "iopub.execute_input": "2022-04-28T00:45:59.797665Z",
     "iopub.status.busy": "2022-04-28T00:45:59.797089Z",
     "iopub.status.idle": "2022-04-28T00:45:59.810678Z",
     "shell.execute_reply": "2022-04-28T00:45:59.810199Z"
    },
    "papermill": {
     "duration": 0.046671,
     "end_time": "2022-04-28T00:45:59.810800",
     "exception": false,
     "start_time": "2022-04-28T00:45:59.764129",
     "status": "completed"
    },
    "tags": []
   },
   "outputs": [
    {
     "data": {
      "text/plain": [
       "((60000, 28, 28), (60000,))"
      ]
     },
     "execution_count": 6,
     "metadata": {},
     "output_type": "execute_result"
    }
   ],
   "source": [
    "train_images.shape, train_labels.shape"
   ]
  },
  {
   "cell_type": "code",
   "execution_count": 7,
   "id": "f50dc2bb",
   "metadata": {
    "execution": {
     "iopub.execute_input": "2022-04-28T00:45:59.867448Z",
     "iopub.status.busy": "2022-04-28T00:45:59.866895Z",
     "iopub.status.idle": "2022-04-28T00:46:00.033269Z",
     "shell.execute_reply": "2022-04-28T00:46:00.032777Z"
    },
    "papermill": {
     "duration": 0.196713,
     "end_time": "2022-04-28T00:46:00.033400",
     "exception": false,
     "start_time": "2022-04-28T00:45:59.836687",
     "status": "completed"
    },
    "tags": []
   },
   "outputs": [],
   "source": [
    "test_images = mnist.test_images()\n",
    "test_labels = mnist.test_labels()"
   ]
  },
  {
   "cell_type": "code",
   "execution_count": 8,
   "id": "fc38cf1b",
   "metadata": {
    "execution": {
     "iopub.execute_input": "2022-04-28T00:46:00.107911Z",
     "iopub.status.busy": "2022-04-28T00:46:00.107187Z",
     "iopub.status.idle": "2022-04-28T00:46:00.110338Z",
     "shell.execute_reply": "2022-04-28T00:46:00.109601Z"
    },
    "papermill": {
     "duration": 0.050363,
     "end_time": "2022-04-28T00:46:00.110457",
     "exception": false,
     "start_time": "2022-04-28T00:46:00.060094",
     "status": "completed"
    },
    "tags": []
   },
   "outputs": [
    {
     "data": {
      "text/plain": [
       "((10000, 28, 28), (10000,))"
      ]
     },
     "execution_count": 8,
     "metadata": {},
     "output_type": "execute_result"
    }
   ],
   "source": [
    "test_images.shape, test_labels.shape"
   ]
  },
  {
   "cell_type": "code",
   "execution_count": 9,
   "id": "f9ed8fe0",
   "metadata": {
    "execution": {
     "iopub.execute_input": "2022-04-28T00:46:00.182841Z",
     "iopub.status.busy": "2022-04-28T00:46:00.182284Z",
     "iopub.status.idle": "2022-04-28T00:46:00.334736Z",
     "shell.execute_reply": "2022-04-28T00:46:00.334222Z"
    },
    "papermill": {
     "duration": 0.19488,
     "end_time": "2022-04-28T00:46:00.334878",
     "exception": false,
     "start_time": "2022-04-28T00:46:00.139998",
     "status": "completed"
    },
    "tags": []
   },
   "outputs": [
    {
     "name": "stdout",
     "output_type": "stream",
     "text": [
      "2\n"
     ]
    },
    {
     "data": {
      "text/plain": [
       "<matplotlib.image.AxesImage at 0x7fbe06e50400>"
      ]
     },
     "execution_count": 9,
     "metadata": {},
     "output_type": "execute_result"
    },
    {
     "data": {
      "image/png": "[encoded data removed]",
      "text/plain": [
       "<Figure size 432x288 with 1 Axes>"
      ]
     },
     "metadata": {
      "needs_background": "light"
     },
     "output_type": "display_data"
    }
   ],
   "source": [
    "image_index = 7776 # You may select anything up to 60,000\n",
    "print(train_labels[image_index]) \n",
    "plt.imshow(train_images[image_index], cmap='Greys')"
   ]
  },
  {
   "cell_type": "markdown",
   "id": "a8d2388d",
   "metadata": {
    "papermill": {
     "duration": 0.027527,
     "end_time": "2022-04-28T00:46:00.390294",
     "exception": false,
     "start_time": "2022-04-28T00:46:00.362767",
     "status": "completed"
    },
    "tags": []
   },
   "source": [
    "## Filter data to get 3 and 8 out"
   ]
  },
  {
   "cell_type": "code",
   "execution_count": 10,
   "id": "776f7fc7",
   "metadata": {
    "execution": {
     "iopub.execute_input": "2022-04-28T00:46:00.453748Z",
     "iopub.status.busy": "2022-04-28T00:46:00.453196Z",
     "iopub.status.idle": "2022-04-28T00:46:00.472553Z",
     "shell.execute_reply": "2022-04-28T00:46:00.472060Z"
    },
    "papermill": {
     "duration": 0.054591,
     "end_time": "2022-04-28T00:46:00.472673",
     "exception": false,
     "start_time": "2022-04-28T00:46:00.418082",
     "status": "completed"
    },
    "tags": []
   },
   "outputs": [],
   "source": [
    "train_filter = np.where((train_labels == 3 ) | (train_labels == 8))\n",
    "test_filter = np.where((test_labels == 3) | (test_labels == 8))\n",
    "X_train, y_train = train_images[train_filter], train_labels[train_filter]\n",
    "X_test, y_test = test_images[test_filter], test_labels[test_filter]"
   ]
  },
  {
   "cell_type": "markdown",
   "id": "948f0b7e",
   "metadata": {
    "papermill": {
     "duration": 0.026639,
     "end_time": "2022-04-28T00:46:00.526100",
     "exception": false,
     "start_time": "2022-04-28T00:46:00.499461",
     "status": "completed"
    },
    "tags": []
   },
   "source": [
    "We normalize the pizel values in the 0 to 1 range"
   ]
  },
  {
   "cell_type": "code",
   "execution_count": 11,
   "id": "ee4c2166",
   "metadata": {
    "execution": {
     "iopub.execute_input": "2022-04-28T00:46:00.582582Z",
     "iopub.status.busy": "2022-04-28T00:46:00.582045Z",
     "iopub.status.idle": "2022-04-28T00:46:00.630460Z",
     "shell.execute_reply": "2022-04-28T00:46:00.629977Z"
    },
    "papermill": {
     "duration": 0.078001,
     "end_time": "2022-04-28T00:46:00.630587",
     "exception": false,
     "start_time": "2022-04-28T00:46:00.552586",
     "status": "completed"
    },
    "tags": []
   },
   "outputs": [],
   "source": [
    "X_train = X_train/255.\n",
    "X_test = X_test/255."
   ]
  },
  {
   "cell_type": "markdown",
   "id": "ddcf4fab",
   "metadata": {
    "papermill": {
     "duration": 0.026684,
     "end_time": "2022-04-28T00:46:00.683814",
     "exception": false,
     "start_time": "2022-04-28T00:46:00.657130",
     "status": "completed"
    },
    "tags": []
   },
   "source": [
    "And setup the labels as 1 (when the digit is 3) and 0 (when the digit is 8)"
   ]
  },
  {
   "cell_type": "code",
   "execution_count": 12,
   "id": "7dc908f2",
   "metadata": {
    "execution": {
     "iopub.execute_input": "2022-04-28T00:46:00.744440Z",
     "iopub.status.busy": "2022-04-28T00:46:00.743932Z",
     "iopub.status.idle": "2022-04-28T00:46:00.753208Z",
     "shell.execute_reply": "2022-04-28T00:46:00.752776Z"
    },
    "papermill": {
     "duration": 0.043181,
     "end_time": "2022-04-28T00:46:00.753314",
     "exception": false,
     "start_time": "2022-04-28T00:46:00.710133",
     "status": "completed"
    },
    "tags": []
   },
   "outputs": [],
   "source": [
    "y_train = 1*(y_train==3)\n",
    "y_test = 1*(y_test==3)"
   ]
  },
  {
   "cell_type": "code",
   "execution_count": 13,
   "id": "01e4e969",
   "metadata": {
    "execution": {
     "iopub.execute_input": "2022-04-28T00:46:00.810079Z",
     "iopub.status.busy": "2022-04-28T00:46:00.809520Z",
     "iopub.status.idle": "2022-04-28T00:46:00.823405Z",
     "shell.execute_reply": "2022-04-28T00:46:00.823789Z"
    },
    "papermill": {
     "duration": 0.044093,
     "end_time": "2022-04-28T00:46:00.823921",
     "exception": false,
     "start_time": "2022-04-28T00:46:00.779828",
     "status": "completed"
    },
    "tags": []
   },
   "outputs": [
    {
     "data": {
      "text/plain": [
       "((11982, 28, 28), (1984, 28, 28))"
      ]
     },
     "execution_count": 13,
     "metadata": {},
     "output_type": "execute_result"
    }
   ],
   "source": [
    "X_train.shape, X_test.shape"
   ]
  },
  {
   "cell_type": "markdown",
   "id": "5ccf3f85",
   "metadata": {
    "papermill": {
     "duration": 0.026368,
     "end_time": "2022-04-28T00:46:00.876759",
     "exception": false,
     "start_time": "2022-04-28T00:46:00.850391",
     "status": "completed"
    },
    "tags": []
   },
   "source": [
    "We reshape the data to flatten the image pixels into a set of features or co-variates:"
   ]
  },
  {
   "cell_type": "code",
   "execution_count": 14,
   "id": "5286a4a3",
   "metadata": {
    "execution": {
     "iopub.execute_input": "2022-04-28T00:46:00.939774Z",
     "iopub.status.busy": "2022-04-28T00:46:00.939238Z",
     "iopub.status.idle": "2022-04-28T00:46:00.949180Z",
     "shell.execute_reply": "2022-04-28T00:46:00.948746Z"
    },
    "papermill": {
     "duration": 0.046017,
     "end_time": "2022-04-28T00:46:00.949288",
     "exception": false,
     "start_time": "2022-04-28T00:46:00.903271",
     "status": "completed"
    },
    "tags": []
   },
   "outputs": [
    {
     "data": {
      "text/plain": [
       "((11982, 784), (1984, 784))"
      ]
     },
     "execution_count": 14,
     "metadata": {},
     "output_type": "execute_result"
    }
   ],
   "source": [
    "X_train = X_train.reshape(X_train.shape[0], -1)\n",
    "X_test = X_test.reshape(X_test.shape[0], -1)\n",
    "X_train.shape, X_test.shape"
   ]
  },
  {
   "cell_type": "code",
   "execution_count": 15,
   "id": "73c5f88a",
   "metadata": {
    "execution": {
     "iopub.execute_input": "2022-04-28T00:46:01.007727Z",
     "iopub.status.busy": "2022-04-28T00:46:01.007199Z",
     "iopub.status.idle": "2022-04-28T00:46:01.026327Z",
     "shell.execute_reply": "2022-04-28T00:46:01.025829Z"
    },
    "papermill": {
     "duration": 0.050507,
     "end_time": "2022-04-28T00:46:01.026445",
     "exception": false,
     "start_time": "2022-04-28T00:46:00.975938",
     "status": "completed"
    },
    "tags": []
   },
   "outputs": [],
   "source": [
    "#Impoting functions from 'Kudzu'\n",
    "from kudzu.model import Model\n",
    "from kudzu.train import Learner\n",
    "from kudzu.optim import GD\n",
    "from kudzu.data import Data, Sampler,Dataloader\n",
    "\n",
    "from kudzu.callbacks import AccCallback\n",
    "from kudzu.callbacks import ClfCallback\n",
    "\n",
    "from kudzu.loss import MSE\n",
    "\n",
    "from kudzu.layer import Sigmoid,Relu\n",
    "from kudzu.layer import Affine"
   ]
  },
  {
   "cell_type": "markdown",
   "id": "bc01172a",
   "metadata": {
    "papermill": {
     "duration": 0.026741,
     "end_time": "2022-04-28T00:46:01.080416",
     "exception": false,
     "start_time": "2022-04-28T00:46:01.053675",
     "status": "completed"
    },
    "tags": []
   },
   "source": [
    "### Let us create a `Config` class, to store important parameters. \n",
    "This class essentially plays the role of a dictionary."
   ]
  },
  {
   "cell_type": "code",
   "execution_count": 16,
   "id": "978281aa",
   "metadata": {
    "execution": {
     "iopub.execute_input": "2022-04-28T00:46:01.146948Z",
     "iopub.status.busy": "2022-04-28T00:46:01.143711Z",
     "iopub.status.idle": "2022-04-28T00:46:01.151788Z",
     "shell.execute_reply": "2022-04-28T00:46:01.152200Z"
    },
    "papermill": {
     "duration": 0.045065,
     "end_time": "2022-04-28T00:46:01.152330",
     "exception": false,
     "start_time": "2022-04-28T00:46:01.107265",
     "status": "completed"
    },
    "tags": []
   },
   "outputs": [],
   "source": [
    "class Config:\n",
    "    pass\n",
    "config = Config()\n",
    "config.lr = 0.001\n",
    "config.num_epochs = 250\n",
    "config.bs = 50"
   ]
  },
  {
   "cell_type": "markdown",
   "id": "1385fa59",
   "metadata": {
    "papermill": {
     "duration": 0.02665,
     "end_time": "2022-04-28T00:46:01.205738",
     "exception": false,
     "start_time": "2022-04-28T00:46:01.179088",
     "status": "completed"
    },
    "tags": []
   },
   "source": [
    "### Running Models with the Training data\n",
    "Details about the network layers:\n",
    "- A first affine layer has 784 inputs and does 100 affine transforms. These are followed by a Relu\n",
    "- A second affine layer has 100 inputs from the 100 activations of the past layer, and does 100 affine transforms. These are followed by a Relu\n",
    "- A third affine layer has 100 activations and does 2 affine transformations to create an embedding for visualization. There is no non-linearity here.\n",
    "- A final \"logistic regression\" which has an affine transform from 2 inputs to 1 output, which is squeezed through a sigmoid.\n"
   ]
  },
  {
   "cell_type": "code",
   "execution_count": 17,
   "id": "2b9c66db",
   "metadata": {
    "execution": {
     "iopub.execute_input": "2022-04-28T00:46:01.276837Z",
     "iopub.status.busy": "2022-04-28T00:46:01.275553Z",
     "iopub.status.idle": "2022-04-28T00:46:01.279457Z",
     "shell.execute_reply": "2022-04-28T00:46:01.279848Z"
    },
    "papermill": {
     "duration": 0.047684,
     "end_time": "2022-04-28T00:46:01.279978",
     "exception": false,
     "start_time": "2022-04-28T00:46:01.232294",
     "status": "completed"
    },
    "tags": []
   },
   "outputs": [],
   "source": [
    "data = Data(X_train, y_train.reshape(-1,1))\n",
    "sampler = Sampler(data, config.bs, shuffle=True)\n",
    "\n",
    "dl = Dataloader(data, sampler)\n",
    "\n",
    "opt = GD(config.lr)\n",
    "loss = MSE()"
   ]
  },
  {
   "cell_type": "code",
   "execution_count": 18,
   "id": "b275e4c2",
   "metadata": {
    "execution": {
     "iopub.execute_input": "2022-04-28T00:46:01.337367Z",
     "iopub.status.busy": "2022-04-28T00:46:01.336838Z",
     "iopub.status.idle": "2022-04-28T00:46:01.349574Z",
     "shell.execute_reply": "2022-04-28T00:46:01.349150Z"
    },
    "papermill": {
     "duration": 0.042963,
     "end_time": "2022-04-28T00:46:01.349689",
     "exception": false,
     "start_time": "2022-04-28T00:46:01.306726",
     "status": "completed"
    },
    "tags": []
   },
   "outputs": [],
   "source": [
    "training_data_x = X_train\n",
    "testing_data_x = X_test\n",
    "training_data_y = y_train.reshape(-1,1)\n",
    "testing_data_y = y_test.reshape(-1,1)"
   ]
  },
  {
   "cell_type": "code",
   "execution_count": 19,
   "id": "76951160",
   "metadata": {
    "execution": {
     "iopub.execute_input": "2022-04-28T00:46:01.414374Z",
     "iopub.status.busy": "2022-04-28T00:46:01.413794Z",
     "iopub.status.idle": "2022-04-28T00:46:01.429995Z",
     "shell.execute_reply": "2022-04-28T00:46:01.429550Z"
    },
    "papermill": {
     "duration": 0.053617,
     "end_time": "2022-04-28T00:46:01.430113",
     "exception": false,
     "start_time": "2022-04-28T00:46:01.376496",
     "status": "completed"
    },
    "tags": []
   },
   "outputs": [
    {
     "name": "stdout",
     "output_type": "stream",
     "text": [
      "xavier\n",
      "xavier\n",
      "xavier\n",
      "xavier\n",
      "xavier\n"
     ]
    }
   ],
   "source": [
    "layers = [Affine(\"first\", 784, 100), Relu(\"first\"), Affine(\"second\", 100, 100), Relu(\"second\"), Affine(\"third\", 100, 2), Affine(\"last\", 2, 1), Sigmoid(\"last\")]\n",
    "model_nn = Model(layers)\n",
    "model_lr = Model([Affine(\"logits\", 784, 1), Sigmoid(\"sigmoid\")])"
   ]
  },
  {
   "cell_type": "code",
   "execution_count": 20,
   "id": "6eede77a",
   "metadata": {
    "execution": {
     "iopub.execute_input": "2022-04-28T00:46:01.489500Z",
     "iopub.status.busy": "2022-04-28T00:46:01.488982Z",
     "iopub.status.idle": "2022-04-28T00:46:01.501709Z",
     "shell.execute_reply": "2022-04-28T00:46:01.501295Z"
    },
    "papermill": {
     "duration": 0.043744,
     "end_time": "2022-04-28T00:46:01.501819",
     "exception": false,
     "start_time": "2022-04-28T00:46:01.458075",
     "status": "completed"
    },
    "tags": []
   },
   "outputs": [],
   "source": [
    "nn_learner = Learner(loss, model_nn, opt, config.num_epochs)\n",
    "acc_nn = ClfCallback(nn_learner, config.bs, training_data_x , testing_data_x, training_data_y, testing_data_y)\n",
    "nn_learner.set_callbacks([acc_nn])"
   ]
  },
  {
   "cell_type": "code",
   "execution_count": 21,
   "id": "877b6cc7",
   "metadata": {
    "execution": {
     "iopub.execute_input": "2022-04-28T00:46:01.566546Z",
     "iopub.status.busy": "2022-04-28T00:46:01.564616Z",
     "iopub.status.idle": "2022-04-28T00:46:01.574230Z",
     "shell.execute_reply": "2022-04-28T00:46:01.573785Z"
    },
    "papermill": {
     "duration": 0.04546,
     "end_time": "2022-04-28T00:46:01.574346",
     "exception": false,
     "start_time": "2022-04-28T00:46:01.528886",
     "status": "completed"
    },
    "tags": []
   },
   "outputs": [],
   "source": [
    "lr_learner = Learner(loss, model_lr, opt, config.num_epochs)\n",
    "acc_lr = ClfCallback(lr_learner, config.bs, training_data_x , testing_data_x, training_data_y, testing_data_y)\n",
    "lr_learner.set_callbacks([acc_lr])"
   ]
  },
  {
   "cell_type": "code",
   "execution_count": 22,
   "id": "d9b133c3",
   "metadata": {
    "execution": {
     "iopub.execute_input": "2022-04-28T00:46:01.632658Z",
     "iopub.status.busy": "2022-04-28T00:46:01.632120Z",
     "iopub.status.idle": "2022-04-28T00:47:18.140117Z",
     "shell.execute_reply": "2022-04-28T00:47:18.140916Z"
    },
    "papermill": {
     "duration": 76.539671,
     "end_time": "2022-04-28T00:47:18.141066",
     "exception": false,
     "start_time": "2022-04-28T00:46:01.601395",
     "status": "completed"
    },
    "tags": []
   },
   "outputs": [
    {
     "name": "stdout",
     "output_type": "stream",
     "text": [
      "Epoch 0, Loss 0.2118\n",
      "Training Accuracy: 0.7931, Testing Accuracy: 0.8034\n",
      "\n"
     ]
    },
    {
     "name": "stdout",
     "output_type": "stream",
     "text": [
      "Epoch 10, Loss 0.0522\n",
      "Training Accuracy: 0.9443, Testing Accuracy: 0.9491\n",
      "\n"
     ]
    },
    {
     "name": "stdout",
     "output_type": "stream",
     "text": [
      "Epoch 20, Loss 0.0382\n",
      "Training Accuracy: 0.9579, Testing Accuracy: 0.9647\n",
      "\n"
     ]
    },
    {
     "name": "stdout",
     "output_type": "stream",
     "text": [
      "Epoch 30, Loss 0.0324\n",
      "Training Accuracy: 0.9637, Testing Accuracy: 0.9688\n",
      "\n"
     ]
    },
    {
     "name": "stdout",
     "output_type": "stream",
     "text": [
      "Epoch 40, Loss 0.0291\n",
      "Training Accuracy: 0.9678, Testing Accuracy: 0.9682\n",
      "\n"
     ]
    },
    {
     "name": "stdout",
     "output_type": "stream",
     "text": [
      "Epoch 50, Loss 0.0268\n",
      "Training Accuracy: 0.9694, Testing Accuracy: 0.9713\n",
      "\n"
     ]
    },
    {
     "name": "stdout",
     "output_type": "stream",
     "text": [
      "Epoch 60, Loss 0.0251\n",
      "Training Accuracy: 0.9718, Testing Accuracy: 0.9728\n",
      "\n"
     ]
    },
    {
     "name": "stdout",
     "output_type": "stream",
     "text": [
      "Epoch 70, Loss 0.0238\n",
      "Training Accuracy: 0.9735, Testing Accuracy: 0.9733\n",
      "\n"
     ]
    },
    {
     "name": "stdout",
     "output_type": "stream",
     "text": [
      "Epoch 80, Loss 0.0227\n",
      "Training Accuracy: 0.9739, Testing Accuracy: 0.9733\n",
      "\n"
     ]
    },
    {
     "name": "stdout",
     "output_type": "stream",
     "text": [
      "Epoch 90, Loss 0.0218\n",
      "Training Accuracy: 0.9748, Testing Accuracy: 0.9738\n",
      "\n"
     ]
    },
    {
     "name": "stdout",
     "output_type": "stream",
     "text": [
      "Epoch 100, Loss 0.021\n",
      "Training Accuracy: 0.9756, Testing Accuracy: 0.9743\n",
      "\n"
     ]
    },
    {
     "name": "stdout",
     "output_type": "stream",
     "text": [
      "Epoch 110, Loss 0.0203\n",
      "Training Accuracy: 0.9765, Testing Accuracy: 0.9743\n",
      "\n"
     ]
    },
    {
     "name": "stdout",
     "output_type": "stream",
     "text": [
      "Epoch 120, Loss 0.0196\n",
      "Training Accuracy: 0.9776, Testing Accuracy: 0.9748\n",
      "\n"
     ]
    },
    {
     "name": "stdout",
     "output_type": "stream",
     "text": [
      "Epoch 130, Loss 0.019\n",
      "Training Accuracy: 0.9787, Testing Accuracy: 0.9743\n",
      "\n"
     ]
    },
    {
     "name": "stdout",
     "output_type": "stream",
     "text": [
      "Epoch 140, Loss 0.0184\n",
      "Training Accuracy: 0.9796, Testing Accuracy: 0.9753\n",
      "\n"
     ]
    },
    {
     "name": "stdout",
     "output_type": "stream",
     "text": [
      "Epoch 150, Loss 0.0179\n",
      "Training Accuracy: 0.9805, Testing Accuracy: 0.9753\n",
      "\n"
     ]
    },
    {
     "name": "stdout",
     "output_type": "stream",
     "text": [
      "Epoch 160, Loss 0.0173\n",
      "Training Accuracy: 0.9816, Testing Accuracy: 0.9763\n",
      "\n"
     ]
    },
    {
     "name": "stdout",
     "output_type": "stream",
     "text": [
      "Epoch 170, Loss 0.0169\n",
      "Training Accuracy: 0.9824, Testing Accuracy: 0.9758\n",
      "\n"
     ]
    },
    {
     "name": "stdout",
     "output_type": "stream",
     "text": [
      "Epoch 180, Loss 0.0164\n",
      "Training Accuracy: 0.9833, Testing Accuracy: 0.9758\n",
      "\n"
     ]
    },
    {
     "name": "stdout",
     "output_type": "stream",
     "text": [
      "Epoch 190, Loss 0.016\n",
      "Training Accuracy: 0.9835, Testing Accuracy: 0.9758\n",
      "\n"
     ]
    },
    {
     "name": "stdout",
     "output_type": "stream",
     "text": [
      "Epoch 200, Loss 0.0155\n",
      "Training Accuracy: 0.9841, Testing Accuracy: 0.9758\n",
      "\n"
     ]
    },
    {
     "name": "stdout",
     "output_type": "stream",
     "text": [
      "Epoch 210, Loss 0.0151\n",
      "Training Accuracy: 0.9842, Testing Accuracy: 0.9758\n",
      "\n"
     ]
    },
    {
     "name": "stdout",
     "output_type": "stream",
     "text": [
      "Epoch 220, Loss 0.0147\n",
      "Training Accuracy: 0.9849, Testing Accuracy: 0.9758\n",
      "\n"
     ]
    },
    {
     "name": "stdout",
     "output_type": "stream",
     "text": [
      "Epoch 230, Loss 0.0144\n",
      "Training Accuracy: 0.9857, Testing Accuracy: 0.9763\n",
      "\n"
     ]
    },
    {
     "name": "stdout",
     "output_type": "stream",
     "text": [
      "Epoch 240, Loss 0.014\n",
      "Training Accuracy: 0.9859, Testing Accuracy: 0.9768\n",
      "\n"
     ]
    },
    {
     "data": {
      "text/plain": [
       "0.007077683820471736"
      ]
     },
     "execution_count": 22,
     "metadata": {},
     "output_type": "execute_result"
    }
   ],
   "source": [
    "nn_learner.train_loop(dl)"
   ]
  },
  {
   "cell_type": "code",
   "execution_count": 23,
   "id": "e0163366",
   "metadata": {
    "execution": {
     "iopub.execute_input": "2022-04-28T00:47:18.222761Z",
     "iopub.status.busy": "2022-04-28T00:47:18.222210Z",
     "iopub.status.idle": "2022-04-28T00:47:31.704023Z",
     "shell.execute_reply": "2022-04-28T00:47:31.704783Z"
    },
    "papermill": {
     "duration": 13.528971,
     "end_time": "2022-04-28T00:47:31.704936",
     "exception": false,
     "start_time": "2022-04-28T00:47:18.175965",
     "status": "completed"
    },
    "tags": []
   },
   "outputs": [
    {
     "name": "stdout",
     "output_type": "stream",
     "text": [
      "Epoch 0, Loss 0.2508\n",
      "Training Accuracy: 0.6215, Testing Accuracy: 0.6240\n",
      "\n"
     ]
    },
    {
     "name": "stdout",
     "output_type": "stream",
     "text": [
      "Epoch 10, Loss 0.1059\n",
      "Training Accuracy: 0.9027, Testing Accuracy: 0.9153\n",
      "\n"
     ]
    },
    {
     "name": "stdout",
     "output_type": "stream",
     "text": [
      "Epoch 20, Loss 0.0807\n",
      "Training Accuracy: 0.9254, Testing Accuracy: 0.9365\n",
      "\n"
     ]
    },
    {
     "name": "stdout",
     "output_type": "stream",
     "text": [
      "Epoch 30, Loss 0.0692\n",
      "Training Accuracy: 0.9349, Testing Accuracy: 0.9461\n",
      "\n"
     ]
    },
    {
     "name": "stdout",
     "output_type": "stream",
     "text": [
      "Epoch 40, Loss 0.0624\n",
      "Training Accuracy: 0.9397, Testing Accuracy: 0.9506\n",
      "\n"
     ]
    },
    {
     "name": "stdout",
     "output_type": "stream",
     "text": [
      "Epoch 50, Loss 0.0578\n",
      "Training Accuracy: 0.9437, Testing Accuracy: 0.9551\n",
      "\n"
     ]
    },
    {
     "name": "stdout",
     "output_type": "stream",
     "text": [
      "Epoch 60, Loss 0.0545\n",
      "Training Accuracy: 0.9456, Testing Accuracy: 0.9577\n",
      "\n"
     ]
    },
    {
     "name": "stdout",
     "output_type": "stream",
     "text": [
      "Epoch 70, Loss 0.0519\n",
      "Training Accuracy: 0.9478, Testing Accuracy: 0.9602\n",
      "\n"
     ]
    },
    {
     "name": "stdout",
     "output_type": "stream",
     "text": [
      "Epoch 80, Loss 0.0498\n",
      "Training Accuracy: 0.9496, Testing Accuracy: 0.9632\n",
      "\n"
     ]
    },
    {
     "name": "stdout",
     "output_type": "stream",
     "text": [
      "Epoch 90, Loss 0.0481\n",
      "Training Accuracy: 0.9508, Testing Accuracy: 0.9637\n",
      "\n"
     ]
    },
    {
     "name": "stdout",
     "output_type": "stream",
     "text": [
      "Epoch 100, Loss 0.0466\n",
      "Training Accuracy: 0.9517, Testing Accuracy: 0.9647\n",
      "\n"
     ]
    },
    {
     "name": "stdout",
     "output_type": "stream",
     "text": [
      "Epoch 110, Loss 0.0454\n",
      "Training Accuracy: 0.9535, Testing Accuracy: 0.9662\n",
      "\n"
     ]
    },
    {
     "name": "stdout",
     "output_type": "stream",
     "text": [
      "Epoch 120, Loss 0.0443\n",
      "Training Accuracy: 0.9543, Testing Accuracy: 0.9657\n",
      "\n"
     ]
    },
    {
     "name": "stdout",
     "output_type": "stream",
     "text": [
      "Epoch 130, Loss 0.0434\n",
      "Training Accuracy: 0.9553, Testing Accuracy: 0.9657\n",
      "\n"
     ]
    },
    {
     "name": "stdout",
     "output_type": "stream",
     "text": [
      "Epoch 140, Loss 0.0425\n",
      "Training Accuracy: 0.9558, Testing Accuracy: 0.9662\n",
      "\n"
     ]
    },
    {
     "name": "stdout",
     "output_type": "stream",
     "text": [
      "Epoch 150, Loss 0.0418\n",
      "Training Accuracy: 0.9560, Testing Accuracy: 0.9662\n",
      "\n"
     ]
    },
    {
     "name": "stdout",
     "output_type": "stream",
     "text": [
      "Epoch 160, Loss 0.0411\n",
      "Training Accuracy: 0.9566, Testing Accuracy: 0.9662\n",
      "\n"
     ]
    },
    {
     "name": "stdout",
     "output_type": "stream",
     "text": [
      "Epoch 170, Loss 0.0405\n",
      "Training Accuracy: 0.9569, Testing Accuracy: 0.9667\n",
      "\n"
     ]
    },
    {
     "name": "stdout",
     "output_type": "stream",
     "text": [
      "Epoch 180, Loss 0.0399\n",
      "Training Accuracy: 0.9576, Testing Accuracy: 0.9662\n",
      "\n"
     ]
    },
    {
     "name": "stdout",
     "output_type": "stream",
     "text": [
      "Epoch 190, Loss 0.0394\n",
      "Training Accuracy: 0.9578, Testing Accuracy: 0.9662\n",
      "\n"
     ]
    },
    {
     "name": "stdout",
     "output_type": "stream",
     "text": [
      "Epoch 200, Loss 0.0389\n",
      "Training Accuracy: 0.9584, Testing Accuracy: 0.9667\n",
      "\n"
     ]
    },
    {
     "name": "stdout",
     "output_type": "stream",
     "text": [
      "Epoch 210, Loss 0.0385\n",
      "Training Accuracy: 0.9591, Testing Accuracy: 0.9667\n",
      "\n"
     ]
    },
    {
     "name": "stdout",
     "output_type": "stream",
     "text": [
      "Epoch 220, Loss 0.038\n",
      "Training Accuracy: 0.9592, Testing Accuracy: 0.9662\n",
      "\n"
     ]
    },
    {
     "name": "stdout",
     "output_type": "stream",
     "text": [
      "Epoch 230, Loss 0.0377\n",
      "Training Accuracy: 0.9593, Testing Accuracy: 0.9662\n",
      "\n"
     ]
    },
    {
     "name": "stdout",
     "output_type": "stream",
     "text": [
      "Epoch 240, Loss 0.0373\n",
      "Training Accuracy: 0.9594, Testing Accuracy: 0.9667\n",
      "\n"
     ]
    },
    {
     "data": {
      "text/plain": [
       "0.010317113985173832"
      ]
     },
     "execution_count": 23,
     "metadata": {},
     "output_type": "execute_result"
    }
   ],
   "source": [
    "lr_learner.train_loop(dl)"
   ]
  },
  {
   "cell_type": "code",
   "execution_count": 24,
   "id": "ca410940",
   "metadata": {
    "execution": {
     "iopub.execute_input": "2022-04-28T00:47:31.799374Z",
     "iopub.status.busy": "2022-04-28T00:47:31.798823Z",
     "iopub.status.idle": "2022-04-28T00:47:32.032653Z",
     "shell.execute_reply": "2022-04-28T00:47:32.032157Z"
    },
    "papermill": {
     "duration": 0.286228,
     "end_time": "2022-04-28T00:47:32.032787",
     "exception": false,
     "start_time": "2022-04-28T00:47:31.746559",
     "status": "completed"
    },
    "tags": []
   },
   "outputs": [
    {
     "data": {
      "text/plain": [
       "<matplotlib.legend.Legend at 0x7fbe06a30ac8>"
      ]
     },
     "execution_count": 24,
     "metadata": {},
     "output_type": "execute_result"
    },
    {
     "data": {
      "image/png": "[encoded data removed]",
      "text/plain": [
       "<Figure size 1080x720 with 1 Axes>"
      ]
     },
     "metadata": {
      "needs_background": "light"
     },
     "output_type": "display_data"
    }
   ],
   "source": [
    "#comparing the results of NN and LR\n",
    "plt.figure(figsize=(15,10))\n",
    "\n",
    "# Neural Network plots\n",
    "plt.plot(acc_nn.accuracies, 'r-', label = \"Training Accuracies - NN\")\n",
    "plt.plot(acc_nn.test_accuracies, 'g-', label = \"Testing Accuracies - NN\")\n",
    "\n",
    "# Logistic Regression plots\n",
    "plt.plot(acc_lr.accuracies, 'k-', label = \"Training Accuracies - LR\")\n",
    "plt.plot(acc_lr.test_accuracies, 'b-', label = \"Testing Accuracies - LR\")\n",
    "plt.legend()"
   ]
  },
  {
   "cell_type": "markdown",
   "id": "80dfb35c",
   "metadata": {
    "papermill": {
     "duration": 0.042382,
     "end_time": "2022-04-28T00:47:32.117363",
     "exception": false,
     "start_time": "2022-04-28T00:47:32.074981",
     "status": "completed"
    },
    "tags": []
   },
   "source": [
    "#### Plotting the outputs of this layer of the NN.\n"
   ]
  },
  {
   "cell_type": "code",
   "execution_count": 25,
   "id": "45eb2ff5",
   "metadata": {
    "execution": {
     "iopub.execute_input": "2022-04-28T00:47:32.205029Z",
     "iopub.status.busy": "2022-04-28T00:47:32.204495Z",
     "iopub.status.idle": "2022-04-28T00:47:32.223851Z",
     "shell.execute_reply": "2022-04-28T00:47:32.223432Z"
    },
    "papermill": {
     "duration": 0.064841,
     "end_time": "2022-04-28T00:47:32.223963",
     "exception": false,
     "start_time": "2022-04-28T00:47:32.159122",
     "status": "completed"
    },
    "tags": []
   },
   "outputs": [],
   "source": [
    "new_model = Model(layers[:-2])\n",
    "testing_plot = new_model(testing_data_x)"
   ]
  },
  {
   "cell_type": "code",
   "execution_count": 26,
   "id": "4c0a5485",
   "metadata": {
    "execution": {
     "iopub.execute_input": "2022-04-28T00:47:32.317195Z",
     "iopub.status.busy": "2022-04-28T00:47:32.316682Z",
     "iopub.status.idle": "2022-04-28T00:47:32.519848Z",
     "shell.execute_reply": "2022-04-28T00:47:32.519415Z"
    },
    "papermill": {
     "duration": 0.251907,
     "end_time": "2022-04-28T00:47:32.519969",
     "exception": false,
     "start_time": "2022-04-28T00:47:32.268062",
     "status": "completed"
    },
    "tags": []
   },
   "outputs": [
    {
     "data": {
      "text/plain": [
       "Text(0.5, 1.0, 'Outputs')"
      ]
     },
     "execution_count": 26,
     "metadata": {},
     "output_type": "execute_result"
    },
    {
     "data": {
      "image/png": "[encoded data removed]",
      "text/plain": [
       "<Figure size 576x504 with 1 Axes>"
      ]
     },
     "metadata": {
      "needs_background": "light"
     },
     "output_type": "display_data"
    }
   ],
   "source": [
    "# Plotting the scatter plot of points and color coding by class\n",
    "plt.figure(figsize=(8,7))\n",
    "plt.scatter(testing_plot[:,0], testing_plot[:,1], alpha = 0.1, c = y_test.ravel());\n",
    "plt.title('Outputs')"
   ]
  },
  {
   "cell_type": "markdown",
   "id": "a74fcf8f",
   "metadata": {
    "papermill": {
     "duration": 0.044427,
     "end_time": "2022-04-28T00:47:32.609146",
     "exception": false,
     "start_time": "2022-04-28T00:47:32.564719",
     "status": "completed"
    },
    "tags": []
   },
   "source": [
    "Probability contours"
   ]
  },
  {
   "cell_type": "code",
   "execution_count": 27,
   "id": "d0afc8e3",
   "metadata": {
    "execution": {
     "iopub.execute_input": "2022-04-28T00:47:32.703042Z",
     "iopub.status.busy": "2022-04-28T00:47:32.702419Z",
     "iopub.status.idle": "2022-04-28T00:47:32.713027Z",
     "shell.execute_reply": "2022-04-28T00:47:32.713417Z"
    },
    "papermill": {
     "duration": 0.059846,
     "end_time": "2022-04-28T00:47:32.713550",
     "exception": false,
     "start_time": "2022-04-28T00:47:32.653704",
     "status": "completed"
    },
    "tags": []
   },
   "outputs": [],
   "source": [
    "model_prob = Model(layers[-2:]) "
   ]
  },
  {
   "cell_type": "code",
   "execution_count": 28,
   "id": "9b96e238",
   "metadata": {
    "execution": {
     "iopub.execute_input": "2022-04-28T00:47:32.844122Z",
     "iopub.status.busy": "2022-04-28T00:47:32.842890Z",
     "iopub.status.idle": "2022-04-28T00:47:32.852597Z",
     "shell.execute_reply": "2022-04-28T00:47:32.852109Z"
    },
    "papermill": {
     "duration": 0.068705,
     "end_time": "2022-04-28T00:47:32.852704",
     "exception": false,
     "start_time": "2022-04-28T00:47:32.783999",
     "status": "completed"
    },
    "tags": []
   },
   "outputs": [],
   "source": [
    "#creating the x and y ranges according to the above generated plot.\n",
    "x_range = np.linspace(-4, 1, 100) \n",
    "y_range = np.linspace(-6, 6, 100) \n",
    "x_grid, y_grid = np.meshgrid(x_range, y_range) # x_grid and y_grig are of size 100 X 100\n",
    "\n",
    "# converting x_grid and y_grid to continuous arrays\n",
    "x_gridflat = np.ravel(x_grid)\n",
    "y_gridflat = np.ravel(y_grid)\n",
    "\n",
    "# The last layer of the current model takes two columns as input. Hence transpose of np.vstack() is required.\n",
    "X = np.vstack((x_gridflat, y_gridflat)).T\n",
    "\n",
    "prob_contour = model_prob(X).reshape(100,100) "
   ]
  },
  {
   "cell_type": "code",
   "execution_count": 29,
   "id": "da72499a",
   "metadata": {
    "execution": {
     "iopub.execute_input": "2022-04-28T00:47:32.963823Z",
     "iopub.status.busy": "2022-04-28T00:47:32.963308Z",
     "iopub.status.idle": "2022-04-28T00:47:33.205235Z",
     "shell.execute_reply": "2022-04-28T00:47:33.204291Z"
    },
    "papermill": {
     "duration": 0.290017,
     "end_time": "2022-04-28T00:47:33.205358",
     "exception": false,
     "start_time": "2022-04-28T00:47:32.915341",
     "status": "completed"
    },
    "tags": []
   },
   "outputs": [
    {
     "data": {
      "image/png": "[encoded data removed]",
      "text/plain": [
       "<Figure size 720x648 with 1 Axes>"
      ]
     },
     "metadata": {
      "needs_background": "light"
     },
     "output_type": "display_data"
    }
   ],
   "source": [
    "plt.figure(figsize=(10,9))\n",
    "plt.scatter(testing_plot[:,0], testing_plot[:,1], alpha = 0.1, c = y_test.ravel())\n",
    "contours = plt.contour(x_grid,y_grid,prob_contour)\n",
    "plt.title('Probability Contours')\n",
    "plt.clabel(contours, inline = True );"
   ]
  },
  {
   "cell_type": "code",
   "execution_count": null,
   "id": "e81b4ac7",
   "metadata": {
    "papermill": {
     "duration": 0.047433,
     "end_time": "2022-04-28T00:47:33.300770",
     "exception": false,
     "start_time": "2022-04-28T00:47:33.253337",
     "status": "completed"
    },
    "tags": []
   },
   "outputs": [],
   "source": []
  }
 ],
 "metadata": {
  "kernelspec": {
   "display_name": "Python 3",
   "language": "python",
   "name": "python3"
  },
  "language_info": {
   "codemirror_mode": {
    "name": "ipython",
    "version": 3
   },
   "file_extension": ".py",
   "mimetype": "text/x-python",
   "name": "python",
   "nbconvert_exporter": "python",
   "pygments_lexer": "ipython3",
   "version": "3.6.15"
  },
  "papermill": {
   "default_parameters": {},
   "duration": 98.132225,
   "end_time": "2022-04-28T00:47:33.767190",
   "environment_variables": {},
   "exception": null,
   "input_path": "2020-08-11-part2.ipynb",
   "output_path": "2020-08-11-part2.ipynb",
   "parameters": {},
   "start_time": "2022-04-28T00:45:55.634965",
   "version": "2.3.3"
  }
 },
 "nbformat": 4,
 "nbformat_minor": 5
}