{
 "cells": [
  {
   "cell_type": "markdown",
   "id": "98380cd3",
   "metadata": {
    "papermill": {
     "duration": 0.02843,
     "end_time": "2022-04-05T10:10:18.246280",
     "exception": false,
     "start_time": "2022-04-05T10:10:18.217850",
     "status": "completed"
    },
    "tags": []
   },
   "source": [
    "# Distinguish Your Own Digits (DYOD)"
   ]
  },
  {
   "cell_type": "markdown",
   "id": "ef31240d",
   "metadata": {
    "papermill": {
     "duration": 0.025096,
     "end_time": "2022-04-05T10:10:18.295705",
     "exception": false,
     "start_time": "2022-04-05T10:10:18.270609",
     "status": "completed"
    },
    "tags": []
   },
   "source": [
    "You are going to write a classifier that distinguishes between the number 3 and number 8."
   ]
  },
  {
   "cell_type": "code",
   "execution_count": 1,
   "id": "b15c8646",
   "metadata": {
    "execution": {
     "iopub.execute_input": "2022-04-05T10:10:18.353323Z",
     "iopub.status.busy": "2022-04-05T10:10:18.352794Z",
     "iopub.status.idle": "2022-04-05T10:10:18.363281Z",
     "shell.execute_reply": "2022-04-05T10:10:18.362853Z"
    },
    "papermill": {
     "duration": 0.044119,
     "end_time": "2022-04-05T10:10:18.363406",
     "exception": false,
     "start_time": "2022-04-05T10:10:18.319287",
     "status": "completed"
    },
    "tags": []
   },
   "outputs": [],
   "source": [
    "%load_ext autoreload\n",
    "%autoreload 2"
   ]
  },
  {
   "cell_type": "code",
   "execution_count": 2,
   "id": "22ef38dc",
   "metadata": {
    "execution": {
     "iopub.execute_input": "2022-04-05T10:10:18.416041Z",
     "iopub.status.busy": "2022-04-05T10:10:18.415503Z",
     "iopub.status.idle": "2022-04-05T10:10:18.990121Z",
     "shell.execute_reply": "2022-04-05T10:10:18.990598Z"
    },
    "papermill": {
     "duration": 0.603569,
     "end_time": "2022-04-05T10:10:18.990769",
     "exception": false,
     "start_time": "2022-04-05T10:10:18.387200",
     "status": "completed"
    },
    "tags": []
   },
   "outputs": [],
   "source": [
    "%matplotlib inline\n",
    "import numpy as np\n",
    "import matplotlib.pyplot as plt\n",
    "import pandas as pd"
   ]
  },
  {
   "cell_type": "markdown",
   "id": "ba036198",
   "metadata": {
    "papermill": {
     "duration": 0.023758,
     "end_time": "2022-04-05T10:10:19.039231",
     "exception": false,
     "start_time": "2022-04-05T10:10:19.015473",
     "status": "completed"
    },
    "tags": []
   },
   "source": [
    "From the command line run `pip install mnist`. This is a library that will help you bring down the mnist dataset. If you run this from a notebook, you need to put  `!pip install mnist` in a cell by itself."
   ]
  },
  {
   "cell_type": "code",
   "execution_count": 3,
   "id": "bb6ad8a1",
   "metadata": {
    "execution": {
     "iopub.execute_input": "2022-04-05T10:10:19.094002Z",
     "iopub.status.busy": "2022-04-05T10:10:19.093488Z",
     "iopub.status.idle": "2022-04-05T10:10:21.590969Z",
     "shell.execute_reply": "2022-04-05T10:10:21.591441Z"
    },
    "papermill": {
     "duration": 2.528453,
     "end_time": "2022-04-05T10:10:21.591614",
     "exception": false,
     "start_time": "2022-04-05T10:10:19.063161",
     "status": "completed"
    },
    "tags": []
   },
   "outputs": [
    {
     "name": "stdout",
     "output_type": "stream",
     "text": [
      "Collecting mnist\r\n"
     ]
    },
    {
     "name": "stdout",
     "output_type": "stream",
     "text": [
      "  Downloading mnist-0.2.2-py2.py3-none-any.whl (3.5 kB)\r\n"
     ]
    },
    {
     "name": "stdout",
     "output_type": "stream",
     "text": [
      "Requirement already satisfied: numpy in /opt/hostedtoolcache/Python/3.6.15/x64/lib/python3.6/site-packages (from mnist) (1.19.5)\r\n"
     ]
    },
    {
     "name": "stdout",
     "output_type": "stream",
     "text": [
      "Installing collected packages: mnist\r\n",
      "Successfully installed mnist-0.2.2\r\n"
     ]
    }
   ],
   "source": [
    "!pip install mnist"
   ]
  },
  {
   "cell_type": "markdown",
   "id": "69df9c9a",
   "metadata": {
    "papermill": {
     "duration": 0.025181,
     "end_time": "2022-04-05T10:10:21.642910",
     "exception": false,
     "start_time": "2022-04-05T10:10:21.617729",
     "status": "completed"
    },
    "tags": []
   },
   "source": [
    "## Preparing the Data"
   ]
  },
  {
   "cell_type": "code",
   "execution_count": 4,
   "id": "7f69d806",
   "metadata": {
    "execution": {
     "iopub.execute_input": "2022-04-05T10:10:21.696727Z",
     "iopub.status.busy": "2022-04-05T10:10:21.696200Z",
     "iopub.status.idle": "2022-04-05T10:10:21.711168Z",
     "shell.execute_reply": "2022-04-05T10:10:21.710737Z"
    },
    "papermill": {
     "duration": 0.043525,
     "end_time": "2022-04-05T10:10:21.711287",
     "exception": false,
     "start_time": "2022-04-05T10:10:21.667762",
     "status": "completed"
    },
    "tags": []
   },
   "outputs": [],
   "source": [
    "import mnist"
   ]
  },
  {
   "cell_type": "code",
   "execution_count": 5,
   "id": "a411e44f",
   "metadata": {
    "execution": {
     "iopub.execute_input": "2022-04-05T10:10:21.765716Z",
     "iopub.status.busy": "2022-04-05T10:10:21.765185Z",
     "iopub.status.idle": "2022-04-05T10:10:22.391891Z",
     "shell.execute_reply": "2022-04-05T10:10:22.390762Z"
    },
    "papermill": {
     "duration": 0.655506,
     "end_time": "2022-04-05T10:10:22.392042",
     "exception": false,
     "start_time": "2022-04-05T10:10:21.736536",
     "status": "completed"
    },
    "tags": []
   },
   "outputs": [],
   "source": [
    "train_images = mnist.train_images()\n",
    "train_labels = mnist.train_labels()"
   ]
  },
  {
   "cell_type": "code",
   "execution_count": 6,
   "id": "dceab3a5",
   "metadata": {
    "execution": {
     "iopub.execute_input": "2022-04-05T10:10:22.449269Z",
     "iopub.status.busy": "2022-04-05T10:10:22.445225Z",
     "iopub.status.idle": "2022-04-05T10:10:22.459188Z",
     "shell.execute_reply": "2022-04-05T10:10:22.459661Z"
    },
    "papermill": {
     "duration": 0.042527,
     "end_time": "2022-04-05T10:10:22.459792",
     "exception": false,
     "start_time": "2022-04-05T10:10:22.417265",
     "status": "completed"
    },
    "tags": []
   },
   "outputs": [
    {
     "data": {
      "text/plain": [
       "((60000, 28, 28), (60000,))"
      ]
     },
     "execution_count": 6,
     "metadata": {},
     "output_type": "execute_result"
    }
   ],
   "source": [
    "train_images.shape, train_labels.shape"
   ]
  },
  {
   "cell_type": "code",
   "execution_count": 7,
   "id": "f50dc2bb",
   "metadata": {
    "execution": {
     "iopub.execute_input": "2022-04-05T10:10:22.513872Z",
     "iopub.status.busy": "2022-04-05T10:10:22.513364Z",
     "iopub.status.idle": "2022-04-05T10:10:22.645026Z",
     "shell.execute_reply": "2022-04-05T10:10:22.645456Z"
    },
    "papermill": {
     "duration": 0.160526,
     "end_time": "2022-04-05T10:10:22.645618",
     "exception": false,
     "start_time": "2022-04-05T10:10:22.485092",
     "status": "completed"
    },
    "tags": []
   },
   "outputs": [],
   "source": [
    "test_images = mnist.test_images()\n",
    "test_labels = mnist.test_labels()"
   ]
  },
  {
   "cell_type": "code",
   "execution_count": 8,
   "id": "fc38cf1b",
   "metadata": {
    "execution": {
     "iopub.execute_input": "2022-04-05T10:10:22.700332Z",
     "iopub.status.busy": "2022-04-05T10:10:22.699775Z",
     "iopub.status.idle": "2022-04-05T10:10:22.712871Z",
     "shell.execute_reply": "2022-04-05T10:10:22.713362Z"
    },
    "papermill": {
     "duration": 0.042018,
     "end_time": "2022-04-05T10:10:22.713490",
     "exception": false,
     "start_time": "2022-04-05T10:10:22.671472",
     "status": "completed"
    },
    "tags": []
   },
   "outputs": [
    {
     "data": {
      "text/plain": [
       "((10000, 28, 28), (10000,))"
      ]
     },
     "execution_count": 8,
     "metadata": {},
     "output_type": "execute_result"
    }
   ],
   "source": [
    "test_images.shape, test_labels.shape"
   ]
  },
  {
   "cell_type": "code",
   "execution_count": 9,
   "id": "f9ed8fe0",
   "metadata": {
    "execution": {
     "iopub.execute_input": "2022-04-05T10:10:22.768315Z",
     "iopub.status.busy": "2022-04-05T10:10:22.767753Z",
     "iopub.status.idle": "2022-04-05T10:10:22.905159Z",
     "shell.execute_reply": "2022-04-05T10:10:22.904634Z"
    },
    "papermill": {
     "duration": 0.166337,
     "end_time": "2022-04-05T10:10:22.905296",
     "exception": false,
     "start_time": "2022-04-05T10:10:22.738959",
     "status": "completed"
    },
    "tags": []
   },
   "outputs": [
    {
     "name": "stdout",
     "output_type": "stream",
     "text": [
      "2\n"
     ]
    },
    {
     "data": {
      "text/plain": [
       "<matplotlib.image.AxesImage at 0x7f031d29a080>"
      ]
     },
     "execution_count": 9,
     "metadata": {},
     "output_type": "execute_result"
    },
    {
     "data": {
      "image/png": "[encoded data removed]",
      "text/plain": [
       "<Figure size 432x288 with 1 Axes>"
      ]
     },
     "metadata": {
      "needs_background": "light"
     },
     "output_type": "display_data"
    }
   ],
   "source": [
    "image_index = 7776 # You may select anything up to 60,000\n",
    "print(train_labels[image_index]) \n",
    "plt.imshow(train_images[image_index], cmap='Greys')"
   ]
  },
  {
   "cell_type": "markdown",
   "id": "a8d2388d",
   "metadata": {
    "papermill": {
     "duration": 0.026659,
     "end_time": "2022-04-05T10:10:22.958818",
     "exception": false,
     "start_time": "2022-04-05T10:10:22.932159",
     "status": "completed"
    },
    "tags": []
   },
   "source": [
    "## Filter data to get 3 and 8 out"
   ]
  },
  {
   "cell_type": "code",
   "execution_count": 10,
   "id": "776f7fc7",
   "metadata": {
    "execution": {
     "iopub.execute_input": "2022-04-05T10:10:23.017064Z",
     "iopub.status.busy": "2022-04-05T10:10:23.016532Z",
     "iopub.status.idle": "2022-04-05T10:10:23.035127Z",
     "shell.execute_reply": "2022-04-05T10:10:23.034706Z"
    },
    "papermill": {
     "duration": 0.049878,
     "end_time": "2022-04-05T10:10:23.035249",
     "exception": false,
     "start_time": "2022-04-05T10:10:22.985371",
     "status": "completed"
    },
    "tags": []
   },
   "outputs": [],
   "source": [
    "train_filter = np.where((train_labels == 3 ) | (train_labels == 8))\n",
    "test_filter = np.where((test_labels == 3) | (test_labels == 8))\n",
    "X_train, y_train = train_images[train_filter], train_labels[train_filter]\n",
    "X_test, y_test = test_images[test_filter], test_labels[test_filter]"
   ]
  },
  {
   "cell_type": "markdown",
   "id": "948f0b7e",
   "metadata": {
    "papermill": {
     "duration": 0.026438,
     "end_time": "2022-04-05T10:10:23.088379",
     "exception": false,
     "start_time": "2022-04-05T10:10:23.061941",
     "status": "completed"
    },
    "tags": []
   },
   "source": [
    "We normalize the pizel values in the 0 to 1 range"
   ]
  },
  {
   "cell_type": "code",
   "execution_count": 11,
   "id": "ee4c2166",
   "metadata": {
    "execution": {
     "iopub.execute_input": "2022-04-05T10:10:23.144815Z",
     "iopub.status.busy": "2022-04-05T10:10:23.144296Z",
     "iopub.status.idle": "2022-04-05T10:10:23.193082Z",
     "shell.execute_reply": "2022-04-05T10:10:23.192571Z"
    },
    "papermill": {
     "duration": 0.078469,
     "end_time": "2022-04-05T10:10:23.193228",
     "exception": false,
     "start_time": "2022-04-05T10:10:23.114759",
     "status": "completed"
    },
    "tags": []
   },
   "outputs": [],
   "source": [
    "X_train = X_train/255.\n",
    "X_test = X_test/255."
   ]
  },
  {
   "cell_type": "markdown",
   "id": "ddcf4fab",
   "metadata": {
    "papermill": {
     "duration": 0.026611,
     "end_time": "2022-04-05T10:10:23.247527",
     "exception": false,
     "start_time": "2022-04-05T10:10:23.220916",
     "status": "completed"
    },
    "tags": []
   },
   "source": [
    "And setup the labels as 1 (when the digit is 3) and 0 (when the digit is 8)"
   ]
  },
  {
   "cell_type": "code",
   "execution_count": 12,
   "id": "7dc908f2",
   "metadata": {
    "execution": {
     "iopub.execute_input": "2022-04-05T10:10:23.314785Z",
     "iopub.status.busy": "2022-04-05T10:10:23.313941Z",
     "iopub.status.idle": "2022-04-05T10:10:23.320920Z",
     "shell.execute_reply": "2022-04-05T10:10:23.320474Z"
    },
    "papermill": {
     "duration": 0.045787,
     "end_time": "2022-04-05T10:10:23.321036",
     "exception": false,
     "start_time": "2022-04-05T10:10:23.275249",
     "status": "completed"
    },
    "tags": []
   },
   "outputs": [],
   "source": [
    "y_train = 1*(y_train==3)\n",
    "y_test = 1*(y_test==3)"
   ]
  },
  {
   "cell_type": "code",
   "execution_count": 13,
   "id": "01e4e969",
   "metadata": {
    "execution": {
     "iopub.execute_input": "2022-04-05T10:10:23.389124Z",
     "iopub.status.busy": "2022-04-05T10:10:23.388614Z",
     "iopub.status.idle": "2022-04-05T10:10:23.401685Z",
     "shell.execute_reply": "2022-04-05T10:10:23.401221Z"
    },
    "papermill": {
     "duration": 0.054246,
     "end_time": "2022-04-05T10:10:23.401796",
     "exception": false,
     "start_time": "2022-04-05T10:10:23.347550",
     "status": "completed"
    },
    "tags": []
   },
   "outputs": [
    {
     "data": {
      "text/plain": [
       "((11982, 28, 28), (1984, 28, 28))"
      ]
     },
     "execution_count": 13,
     "metadata": {},
     "output_type": "execute_result"
    }
   ],
   "source": [
    "X_train.shape, X_test.shape"
   ]
  },
  {
   "cell_type": "markdown",
   "id": "5ccf3f85",
   "metadata": {
    "papermill": {
     "duration": 0.026818,
     "end_time": "2022-04-05T10:10:23.455313",
     "exception": false,
     "start_time": "2022-04-05T10:10:23.428495",
     "status": "completed"
    },
    "tags": []
   },
   "source": [
    "We reshape the data to flatten the image pixels into a set of features or co-variates:"
   ]
  },
  {
   "cell_type": "code",
   "execution_count": 14,
   "id": "5286a4a3",
   "metadata": {
    "execution": {
     "iopub.execute_input": "2022-04-05T10:10:23.515381Z",
     "iopub.status.busy": "2022-04-05T10:10:23.514867Z",
     "iopub.status.idle": "2022-04-05T10:10:23.528390Z",
     "shell.execute_reply": "2022-04-05T10:10:23.528772Z"
    },
    "papermill": {
     "duration": 0.046792,
     "end_time": "2022-04-05T10:10:23.528898",
     "exception": false,
     "start_time": "2022-04-05T10:10:23.482106",
     "status": "completed"
    },
    "tags": []
   },
   "outputs": [
    {
     "data": {
      "text/plain": [
       "((11982, 784), (1984, 784))"
      ]
     },
     "execution_count": 14,
     "metadata": {},
     "output_type": "execute_result"
    }
   ],
   "source": [
    "X_train = X_train.reshape(X_train.shape[0], -1)\n",
    "X_test = X_test.reshape(X_test.shape[0], -1)\n",
    "X_train.shape, X_test.shape"
   ]
  },
  {
   "cell_type": "code",
   "execution_count": 15,
   "id": "73c5f88a",
   "metadata": {
    "execution": {
     "iopub.execute_input": "2022-04-05T10:10:23.600537Z",
     "iopub.status.busy": "2022-04-05T10:10:23.587182Z",
     "iopub.status.idle": "2022-04-05T10:10:23.609237Z",
     "shell.execute_reply": "2022-04-05T10:10:23.608805Z"
    },
    "papermill": {
     "duration": 0.053483,
     "end_time": "2022-04-05T10:10:23.609339",
     "exception": false,
     "start_time": "2022-04-05T10:10:23.555856",
     "status": "completed"
    },
    "tags": []
   },
   "outputs": [],
   "source": [
    "#Impoting functions from 'Kudzu'\n",
    "from kudzu.model import Model\n",
    "from kudzu.train import Learner\n",
    "from kudzu.optim import GD\n",
    "from kudzu.data import Data, Sampler,Dataloader\n",
    "\n",
    "from kudzu.callbacks import AccCallback\n",
    "from kudzu.callbacks import ClfCallback\n",
    "\n",
    "from kudzu.loss import MSE\n",
    "\n",
    "from kudzu.layer import Sigmoid,Relu\n",
    "from kudzu.layer import Affine"
   ]
  },
  {
   "cell_type": "markdown",
   "id": "bc01172a",
   "metadata": {
    "papermill": {
     "duration": 0.026739,
     "end_time": "2022-04-05T10:10:23.663085",
     "exception": false,
     "start_time": "2022-04-05T10:10:23.636346",
     "status": "completed"
    },
    "tags": []
   },
   "source": [
    "### Let us create a `Config` class, to store important parameters. \n",
    "This class essentially plays the role of a dictionary."
   ]
  },
  {
   "cell_type": "code",
   "execution_count": 16,
   "id": "978281aa",
   "metadata": {
    "execution": {
     "iopub.execute_input": "2022-04-05T10:10:23.727836Z",
     "iopub.status.busy": "2022-04-05T10:10:23.727321Z",
     "iopub.status.idle": "2022-04-05T10:10:23.737000Z",
     "shell.execute_reply": "2022-04-05T10:10:23.736596Z"
    },
    "papermill": {
     "duration": 0.043711,
     "end_time": "2022-04-05T10:10:23.737107",
     "exception": false,
     "start_time": "2022-04-05T10:10:23.693396",
     "status": "completed"
    },
    "tags": []
   },
   "outputs": [],
   "source": [
    "class Config:\n",
    "    pass\n",
    "config = Config()\n",
    "config.lr = 0.001\n",
    "config.num_epochs = 250\n",
    "config.bs = 50"
   ]
  },
  {
   "cell_type": "markdown",
   "id": "1385fa59",
   "metadata": {
    "papermill": {
     "duration": 0.026917,
     "end_time": "2022-04-05T10:10:23.791039",
     "exception": false,
     "start_time": "2022-04-05T10:10:23.764122",
     "status": "completed"
    },
    "tags": []
   },
   "source": [
    "### Running Models with the Training data\n",
    "Details about the network layers:\n",
    "- A first affine layer has 784 inputs and does 100 affine transforms. These are followed by a Relu\n",
    "- A second affine layer has 100 inputs from the 100 activations of the past layer, and does 100 affine transforms. These are followed by a Relu\n",
    "- A third affine layer has 100 activations and does 2 affine transformations to create an embedding for visualization. There is no non-linearity here.\n",
    "- A final \"logistic regression\" which has an affine transform from 2 inputs to 1 output, which is squeezed through a sigmoid.\n"
   ]
  },
  {
   "cell_type": "code",
   "execution_count": 17,
   "id": "2b9c66db",
   "metadata": {
    "execution": {
     "iopub.execute_input": "2022-04-05T10:10:23.851157Z",
     "iopub.status.busy": "2022-04-05T10:10:23.850628Z",
     "iopub.status.idle": "2022-04-05T10:10:23.862344Z",
     "shell.execute_reply": "2022-04-05T10:10:23.861904Z"
    },
    "papermill": {
     "duration": 0.044175,
     "end_time": "2022-04-05T10:10:23.862456",
     "exception": false,
     "start_time": "2022-04-05T10:10:23.818281",
     "status": "completed"
    },
    "tags": []
   },
   "outputs": [],
   "source": [
    "data = Data(X_train, y_train.reshape(-1,1))\n",
    "sampler = Sampler(data, config.bs, shuffle=True)\n",
    "\n",
    "dl = Dataloader(data, sampler)\n",
    "\n",
    "opt = GD(config.lr)\n",
    "loss = MSE()"
   ]
  },
  {
   "cell_type": "code",
   "execution_count": 18,
   "id": "b275e4c2",
   "metadata": {
    "execution": {
     "iopub.execute_input": "2022-04-05T10:10:23.936728Z",
     "iopub.status.busy": "2022-04-05T10:10:23.932620Z",
     "iopub.status.idle": "2022-04-05T10:10:23.939163Z",
     "shell.execute_reply": "2022-04-05T10:10:23.938703Z"
    },
    "papermill": {
     "duration": 0.04969,
     "end_time": "2022-04-05T10:10:23.939282",
     "exception": false,
     "start_time": "2022-04-05T10:10:23.889592",
     "status": "completed"
    },
    "tags": []
   },
   "outputs": [],
   "source": [
    "training_data_x = X_train\n",
    "testing_data_x = X_test\n",
    "training_data_y = y_train.reshape(-1,1)\n",
    "testing_data_y = y_test.reshape(-1,1)"
   ]
  },
  {
   "cell_type": "code",
   "execution_count": 19,
   "id": "76951160",
   "metadata": {
    "execution": {
     "iopub.execute_input": "2022-04-05T10:10:24.000245Z",
     "iopub.status.busy": "2022-04-05T10:10:23.999667Z",
     "iopub.status.idle": "2022-04-05T10:10:24.016865Z",
     "shell.execute_reply": "2022-04-05T10:10:24.017282Z"
    },
    "papermill": {
     "duration": 0.050604,
     "end_time": "2022-04-05T10:10:24.017425",
     "exception": false,
     "start_time": "2022-04-05T10:10:23.966821",
     "status": "completed"
    },
    "tags": []
   },
   "outputs": [
    {
     "name": "stdout",
     "output_type": "stream",
     "text": [
      "xavier\n",
      "xavier\n",
      "xavier\n",
      "xavier\n",
      "xavier\n"
     ]
    }
   ],
   "source": [
    "layers = [Affine(\"first\", 784, 100), Relu(\"first\"), Affine(\"second\", 100, 100), Relu(\"second\"), Affine(\"third\", 100, 2), Affine(\"last\", 2, 1), Sigmoid(\"last\")]\n",
    "model_nn = Model(layers)\n",
    "model_lr = Model([Affine(\"logits\", 784, 1), Sigmoid(\"sigmoid\")])"
   ]
  },
  {
   "cell_type": "code",
   "execution_count": 20,
   "id": "6eede77a",
   "metadata": {
    "execution": {
     "iopub.execute_input": "2022-04-05T10:10:24.076970Z",
     "iopub.status.busy": "2022-04-05T10:10:24.076452Z",
     "iopub.status.idle": "2022-04-05T10:10:24.089780Z",
     "shell.execute_reply": "2022-04-05T10:10:24.089336Z"
    },
    "papermill": {
     "duration": 0.044717,
     "end_time": "2022-04-05T10:10:24.089904",
     "exception": false,
     "start_time": "2022-04-05T10:10:24.045187",
     "status": "completed"
    },
    "tags": []
   },
   "outputs": [],
   "source": [
    "nn_learner = Learner(loss, model_nn, opt, config.num_epochs)\n",
    "acc_nn = ClfCallback(nn_learner, config.bs, training_data_x , testing_data_x, training_data_y, testing_data_y)\n",
    "nn_learner.set_callbacks([acc_nn])"
   ]
  },
  {
   "cell_type": "code",
   "execution_count": 21,
   "id": "877b6cc7",
   "metadata": {
    "execution": {
     "iopub.execute_input": "2022-04-05T10:10:24.161917Z",
     "iopub.status.busy": "2022-04-05T10:10:24.161377Z",
     "iopub.status.idle": "2022-04-05T10:10:24.163773Z",
     "shell.execute_reply": "2022-04-05T10:10:24.163336Z"
    },
    "papermill": {
     "duration": 0.046542,
     "end_time": "2022-04-05T10:10:24.163905",
     "exception": false,
     "start_time": "2022-04-05T10:10:24.117363",
     "status": "completed"
    },
    "tags": []
   },
   "outputs": [],
   "source": [
    "lr_learner = Learner(loss, model_lr, opt, config.num_epochs)\n",
    "acc_lr = ClfCallback(lr_learner, config.bs, training_data_x , testing_data_x, training_data_y, testing_data_y)\n",
    "lr_learner.set_callbacks([acc_lr])"
   ]
  },
  {
   "cell_type": "code",
   "execution_count": 22,
   "id": "d9b133c3",
   "metadata": {
    "execution": {
     "iopub.execute_input": "2022-04-05T10:10:24.223595Z",
     "iopub.status.busy": "2022-04-05T10:10:24.223073Z",
     "iopub.status.idle": "2022-04-05T10:11:40.045825Z",
     "shell.execute_reply": "2022-04-05T10:11:40.046612Z"
    },
    "papermill": {
     "duration": 75.855224,
     "end_time": "2022-04-05T10:11:40.046771",
     "exception": false,
     "start_time": "2022-04-05T10:10:24.191547",
     "status": "completed"
    },
    "tags": []
   },
   "outputs": [
    {
     "name": "stdout",
     "output_type": "stream",
     "text": [
      "Epoch 0, Loss 0.2484\n",
      "Training Accuracy: 0.6178, Testing Accuracy: 0.6184\n",
      "\n"
     ]
    },
    {
     "name": "stdout",
     "output_type": "stream",
     "text": [
      "Epoch 10, Loss 0.1279\n",
      "Training Accuracy: 0.9064, Testing Accuracy: 0.9183\n",
      "\n"
     ]
    },
    {
     "name": "stdout",
     "output_type": "stream",
     "text": [
      "Epoch 20, Loss 0.0678\n",
      "Training Accuracy: 0.9347, Testing Accuracy: 0.9425\n",
      "\n"
     ]
    },
    {
     "name": "stdout",
     "output_type": "stream",
     "text": [
      "Epoch 30, Loss 0.0495\n",
      "Training Accuracy: 0.9468, Testing Accuracy: 0.9572\n",
      "\n"
     ]
    },
    {
     "name": "stdout",
     "output_type": "stream",
     "text": [
      "Epoch 40, Loss 0.0414\n",
      "Training Accuracy: 0.9547, Testing Accuracy: 0.9632\n",
      "\n"
     ]
    },
    {
     "name": "stdout",
     "output_type": "stream",
     "text": [
      "Epoch 50, Loss 0.037\n",
      "Training Accuracy: 0.9589, Testing Accuracy: 0.9652\n",
      "\n"
     ]
    },
    {
     "name": "stdout",
     "output_type": "stream",
     "text": [
      "Epoch 60, Loss 0.0341\n",
      "Training Accuracy: 0.9616, Testing Accuracy: 0.9677\n",
      "\n"
     ]
    },
    {
     "name": "stdout",
     "output_type": "stream",
     "text": [
      "Epoch 70, Loss 0.032\n",
      "Training Accuracy: 0.9636, Testing Accuracy: 0.9693\n",
      "\n"
     ]
    },
    {
     "name": "stdout",
     "output_type": "stream",
     "text": [
      "Epoch 80, Loss 0.0304\n",
      "Training Accuracy: 0.9648, Testing Accuracy: 0.9693\n",
      "\n"
     ]
    },
    {
     "name": "stdout",
     "output_type": "stream",
     "text": [
      "Epoch 90, Loss 0.0292\n",
      "Training Accuracy: 0.9662, Testing Accuracy: 0.9693\n",
      "\n"
     ]
    },
    {
     "name": "stdout",
     "output_type": "stream",
     "text": [
      "Epoch 100, Loss 0.0281\n",
      "Training Accuracy: 0.9674, Testing Accuracy: 0.9693\n",
      "\n"
     ]
    },
    {
     "name": "stdout",
     "output_type": "stream",
     "text": [
      "Epoch 110, Loss 0.0271\n",
      "Training Accuracy: 0.9685, Testing Accuracy: 0.9698\n",
      "\n"
     ]
    },
    {
     "name": "stdout",
     "output_type": "stream",
     "text": [
      "Epoch 120, Loss 0.0263\n",
      "Training Accuracy: 0.9695, Testing Accuracy: 0.9703\n",
      "\n"
     ]
    },
    {
     "name": "stdout",
     "output_type": "stream",
     "text": [
      "Epoch 130, Loss 0.0255\n",
      "Training Accuracy: 0.9705, Testing Accuracy: 0.9698\n",
      "\n"
     ]
    },
    {
     "name": "stdout",
     "output_type": "stream",
     "text": [
      "Epoch 140, Loss 0.0249\n",
      "Training Accuracy: 0.9709, Testing Accuracy: 0.9688\n",
      "\n"
     ]
    },
    {
     "name": "stdout",
     "output_type": "stream",
     "text": [
      "Epoch 150, Loss 0.0242\n",
      "Training Accuracy: 0.9717, Testing Accuracy: 0.9693\n",
      "\n"
     ]
    },
    {
     "name": "stdout",
     "output_type": "stream",
     "text": [
      "Epoch 160, Loss 0.0236\n",
      "Training Accuracy: 0.9724, Testing Accuracy: 0.9698\n",
      "\n"
     ]
    },
    {
     "name": "stdout",
     "output_type": "stream",
     "text": [
      "Epoch 170, Loss 0.0231\n",
      "Training Accuracy: 0.9727, Testing Accuracy: 0.9708\n",
      "\n"
     ]
    },
    {
     "name": "stdout",
     "output_type": "stream",
     "text": [
      "Epoch 180, Loss 0.0226\n",
      "Training Accuracy: 0.9739, Testing Accuracy: 0.9708\n",
      "\n"
     ]
    },
    {
     "name": "stdout",
     "output_type": "stream",
     "text": [
      "Epoch 190, Loss 0.022\n",
      "Training Accuracy: 0.9748, Testing Accuracy: 0.9708\n",
      "\n"
     ]
    },
    {
     "name": "stdout",
     "output_type": "stream",
     "text": [
      "Epoch 200, Loss 0.0216\n",
      "Training Accuracy: 0.9761, Testing Accuracy: 0.9708\n",
      "\n"
     ]
    },
    {
     "name": "stdout",
     "output_type": "stream",
     "text": [
      "Epoch 210, Loss 0.0211\n",
      "Training Accuracy: 0.9764, Testing Accuracy: 0.9713\n",
      "\n"
     ]
    },
    {
     "name": "stdout",
     "output_type": "stream",
     "text": [
      "Epoch 220, Loss 0.0207\n",
      "Training Accuracy: 0.9772, Testing Accuracy: 0.9718\n",
      "\n"
     ]
    },
    {
     "name": "stdout",
     "output_type": "stream",
     "text": [
      "Epoch 230, Loss 0.0202\n",
      "Training Accuracy: 0.9778, Testing Accuracy: 0.9718\n",
      "\n"
     ]
    },
    {
     "name": "stdout",
     "output_type": "stream",
     "text": [
      "Epoch 240, Loss 0.0198\n",
      "Training Accuracy: 0.9785, Testing Accuracy: 0.9718\n",
      "\n"
     ]
    },
    {
     "data": {
      "text/plain": [
       "0.009148167836581787"
      ]
     },
     "execution_count": 22,
     "metadata": {},
     "output_type": "execute_result"
    }
   ],
   "source": [
    "nn_learner.train_loop(dl)"
   ]
  },
  {
   "cell_type": "code",
   "execution_count": 23,
   "id": "e0163366",
   "metadata": {
    "execution": {
     "iopub.execute_input": "2022-04-05T10:11:40.129248Z",
     "iopub.status.busy": "2022-04-05T10:11:40.128727Z",
     "iopub.status.idle": "2022-04-05T10:11:53.868623Z",
     "shell.execute_reply": "2022-04-05T10:11:53.869373Z"
    },
    "papermill": {
     "duration": 13.786883,
     "end_time": "2022-04-05T10:11:53.869534",
     "exception": false,
     "start_time": "2022-04-05T10:11:40.082651",
     "status": "completed"
    },
    "tags": []
   },
   "outputs": [
    {
     "name": "stdout",
     "output_type": "stream",
     "text": [
      "Epoch 0, Loss 0.2054\n",
      "Training Accuracy: 0.7731, Testing Accuracy: 0.7918\n",
      "\n"
     ]
    },
    {
     "name": "stdout",
     "output_type": "stream",
     "text": [
      "Epoch 10, Loss 0.1015\n",
      "Training Accuracy: 0.9046, Testing Accuracy: 0.9178\n",
      "\n"
     ]
    },
    {
     "name": "stdout",
     "output_type": "stream",
     "text": [
      "Epoch 20, Loss 0.0792\n",
      "Training Accuracy: 0.9256, Testing Accuracy: 0.9395\n",
      "\n"
     ]
    },
    {
     "name": "stdout",
     "output_type": "stream",
     "text": [
      "Epoch 30, Loss 0.0685\n",
      "Training Accuracy: 0.9343, Testing Accuracy: 0.9466\n",
      "\n"
     ]
    },
    {
     "name": "stdout",
     "output_type": "stream",
     "text": [
      "Epoch 40, Loss 0.062\n",
      "Training Accuracy: 0.9397, Testing Accuracy: 0.9516\n",
      "\n"
     ]
    },
    {
     "name": "stdout",
     "output_type": "stream",
     "text": [
      "Epoch 50, Loss 0.0576\n",
      "Training Accuracy: 0.9447, Testing Accuracy: 0.9546\n",
      "\n"
     ]
    },
    {
     "name": "stdout",
     "output_type": "stream",
     "text": [
      "Epoch 60, Loss 0.0543\n",
      "Training Accuracy: 0.9463, Testing Accuracy: 0.9572\n",
      "\n"
     ]
    },
    {
     "name": "stdout",
     "output_type": "stream",
     "text": [
      "Epoch 70, Loss 0.0517\n",
      "Training Accuracy: 0.9483, Testing Accuracy: 0.9582\n",
      "\n"
     ]
    },
    {
     "name": "stdout",
     "output_type": "stream",
     "text": [
      "Epoch 80, Loss 0.0497\n",
      "Training Accuracy: 0.9503, Testing Accuracy: 0.9587\n",
      "\n"
     ]
    },
    {
     "name": "stdout",
     "output_type": "stream",
     "text": [
      "Epoch 90, Loss 0.048\n",
      "Training Accuracy: 0.9513, Testing Accuracy: 0.9587\n",
      "\n"
     ]
    },
    {
     "name": "stdout",
     "output_type": "stream",
     "text": [
      "Epoch 100, Loss 0.0466\n",
      "Training Accuracy: 0.9523, Testing Accuracy: 0.9587\n",
      "\n"
     ]
    },
    {
     "name": "stdout",
     "output_type": "stream",
     "text": [
      "Epoch 110, Loss 0.0453\n",
      "Training Accuracy: 0.9536, Testing Accuracy: 0.9582\n",
      "\n"
     ]
    },
    {
     "name": "stdout",
     "output_type": "stream",
     "text": [
      "Epoch 120, Loss 0.0443\n",
      "Training Accuracy: 0.9547, Testing Accuracy: 0.9597\n",
      "\n"
     ]
    },
    {
     "name": "stdout",
     "output_type": "stream",
     "text": [
      "Epoch 130, Loss 0.0433\n",
      "Training Accuracy: 0.9557, Testing Accuracy: 0.9612\n",
      "\n"
     ]
    },
    {
     "name": "stdout",
     "output_type": "stream",
     "text": [
      "Epoch 140, Loss 0.0425\n",
      "Training Accuracy: 0.9560, Testing Accuracy: 0.9632\n",
      "\n"
     ]
    },
    {
     "name": "stdout",
     "output_type": "stream",
     "text": [
      "Epoch 150, Loss 0.0417\n",
      "Training Accuracy: 0.9566, Testing Accuracy: 0.9637\n",
      "\n"
     ]
    },
    {
     "name": "stdout",
     "output_type": "stream",
     "text": [
      "Epoch 160, Loss 0.041\n",
      "Training Accuracy: 0.9573, Testing Accuracy: 0.9647\n",
      "\n"
     ]
    },
    {
     "name": "stdout",
     "output_type": "stream",
     "text": [
      "Epoch 170, Loss 0.0404\n",
      "Training Accuracy: 0.9576, Testing Accuracy: 0.9647\n",
      "\n"
     ]
    },
    {
     "name": "stdout",
     "output_type": "stream",
     "text": [
      "Epoch 180, Loss 0.0398\n",
      "Training Accuracy: 0.9581, Testing Accuracy: 0.9647\n",
      "\n"
     ]
    },
    {
     "name": "stdout",
     "output_type": "stream",
     "text": [
      "Epoch 190, Loss 0.0393\n",
      "Training Accuracy: 0.9585, Testing Accuracy: 0.9652\n",
      "\n"
     ]
    },
    {
     "name": "stdout",
     "output_type": "stream",
     "text": [
      "Epoch 200, Loss 0.0388\n",
      "Training Accuracy: 0.9588, Testing Accuracy: 0.9652\n",
      "\n"
     ]
    },
    {
     "name": "stdout",
     "output_type": "stream",
     "text": [
      "Epoch 210, Loss 0.0384\n",
      "Training Accuracy: 0.9590, Testing Accuracy: 0.9652\n",
      "\n"
     ]
    },
    {
     "name": "stdout",
     "output_type": "stream",
     "text": [
      "Epoch 220, Loss 0.0379\n",
      "Training Accuracy: 0.9594, Testing Accuracy: 0.9652\n",
      "\n"
     ]
    },
    {
     "name": "stdout",
     "output_type": "stream",
     "text": [
      "Epoch 230, Loss 0.0375\n",
      "Training Accuracy: 0.9599, Testing Accuracy: 0.9657\n",
      "\n"
     ]
    },
    {
     "name": "stdout",
     "output_type": "stream",
     "text": [
      "Epoch 240, Loss 0.0372\n",
      "Training Accuracy: 0.9599, Testing Accuracy: 0.9657\n",
      "\n"
     ]
    },
    {
     "data": {
      "text/plain": [
       "0.02171976228117775"
      ]
     },
     "execution_count": 23,
     "metadata": {},
     "output_type": "execute_result"
    }
   ],
   "source": [
    "lr_learner.train_loop(dl)"
   ]
  },
  {
   "cell_type": "code",
   "execution_count": 24,
   "id": "ca410940",
   "metadata": {
    "execution": {
     "iopub.execute_input": "2022-04-05T10:11:53.961750Z",
     "iopub.status.busy": "2022-04-05T10:11:53.961203Z",
     "iopub.status.idle": "2022-04-05T10:11:54.197930Z",
     "shell.execute_reply": "2022-04-05T10:11:54.197461Z"
    },
    "papermill": {
     "duration": 0.286938,
     "end_time": "2022-04-05T10:11:54.198052",
     "exception": false,
     "start_time": "2022-04-05T10:11:53.911114",
     "status": "completed"
    },
    "tags": []
   },
   "outputs": [
    {
     "data": {
      "text/plain": [
       "<matplotlib.legend.Legend at 0x7f0319e9cc18>"
      ]
     },
     "execution_count": 24,
     "metadata": {},
     "output_type": "execute_result"
    },
    {
     "data": {
      "image/png": "[encoded data removed]",
      "text/plain": [
       "<Figure size 1080x720 with 1 Axes>"
      ]
     },
     "metadata": {
      "needs_background": "light"
     },
     "output_type": "display_data"
    }
   ],
   "source": [
    "#comparing the results of NN and LR\n",
    "plt.figure(figsize=(15,10))\n",
    "\n",
    "# Neural Network plots\n",
    "plt.plot(acc_nn.accuracies, 'r-', label = \"Training Accuracies - NN\")\n",
    "plt.plot(acc_nn.test_accuracies, 'g-', label = \"Testing Accuracies - NN\")\n",
    "\n",
    "# Logistic Regression plots\n",
    "plt.plot(acc_lr.accuracies, 'k-', label = \"Training Accuracies - LR\")\n",
    "plt.plot(acc_lr.test_accuracies, 'b-', label = \"Testing Accuracies - LR\")\n",
    "plt.legend()"
   ]
  },
  {
   "cell_type": "markdown",
   "id": "80dfb35c",
   "metadata": {
    "papermill": {
     "duration": 0.04323,
     "end_time": "2022-04-05T10:11:54.283898",
     "exception": false,
     "start_time": "2022-04-05T10:11:54.240668",
     "status": "completed"
    },
    "tags": []
   },
   "source": [
    "#### Plotting the outputs of this layer of the NN.\n"
   ]
  },
  {
   "cell_type": "code",
   "execution_count": 25,
   "id": "45eb2ff5",
   "metadata": {
    "execution": {
     "iopub.execute_input": "2022-04-05T10:11:54.372882Z",
     "iopub.status.busy": "2022-04-05T10:11:54.372354Z",
     "iopub.status.idle": "2022-04-05T10:11:54.393446Z",
     "shell.execute_reply": "2022-04-05T10:11:54.393009Z"
    },
    "papermill": {
     "duration": 0.067394,
     "end_time": "2022-04-05T10:11:54.393568",
     "exception": false,
     "start_time": "2022-04-05T10:11:54.326174",
     "status": "completed"
    },
    "tags": []
   },
   "outputs": [],
   "source": [
    "new_model = Model(layers[:-2])\n",
    "testing_plot = new_model(testing_data_x)"
   ]
  },
  {
   "cell_type": "code",
   "execution_count": 26,
   "id": "4c0a5485",
   "metadata": {
    "execution": {
     "iopub.execute_input": "2022-04-05T10:11:54.484711Z",
     "iopub.status.busy": "2022-04-05T10:11:54.484183Z",
     "iopub.status.idle": "2022-04-05T10:11:54.718913Z",
     "shell.execute_reply": "2022-04-05T10:11:54.718476Z"
    },
    "papermill": {
     "duration": 0.282412,
     "end_time": "2022-04-05T10:11:54.719036",
     "exception": false,
     "start_time": "2022-04-05T10:11:54.436624",
     "status": "completed"
    },
    "tags": []
   },
   "outputs": [
    {
     "data": {
      "text/plain": [
       "Text(0.5, 1.0, 'Outputs')"
      ]
     },
     "execution_count": 26,
     "metadata": {},
     "output_type": "execute_result"
    },
    {
     "data": {
      "image/png": "[encoded data removed]",
      "text/plain": [
       "<Figure size 576x504 with 1 Axes>"
      ]
     },
     "metadata": {
      "needs_background": "light"
     },
     "output_type": "display_data"
    }
   ],
   "source": [
    "# Plotting the scatter plot of points and color coding by class\n",
    "plt.figure(figsize=(8,7))\n",
    "plt.scatter(testing_plot[:,0], testing_plot[:,1], alpha = 0.1, c = y_test.ravel());\n",
    "plt.title('Outputs')"
   ]
  },
  {
   "cell_type": "markdown",
   "id": "a74fcf8f",
   "metadata": {
    "papermill": {
     "duration": 0.045579,
     "end_time": "2022-04-05T10:11:54.810344",
     "exception": false,
     "start_time": "2022-04-05T10:11:54.764765",
     "status": "completed"
    },
    "tags": []
   },
   "source": [
    "Probability contours"
   ]
  },
  {
   "cell_type": "code",
   "execution_count": 27,
   "id": "d0afc8e3",
   "metadata": {
    "execution": {
     "iopub.execute_input": "2022-04-05T10:11:54.908033Z",
     "iopub.status.busy": "2022-04-05T10:11:54.907480Z",
     "iopub.status.idle": "2022-04-05T10:11:54.918478Z",
     "shell.execute_reply": "2022-04-05T10:11:54.918033Z"
    },
    "papermill": {
     "duration": 0.062553,
     "end_time": "2022-04-05T10:11:54.918591",
     "exception": false,
     "start_time": "2022-04-05T10:11:54.856038",
     "status": "completed"
    },
    "tags": []
   },
   "outputs": [],
   "source": [
    "model_prob = Model(layers[-2:]) "
   ]
  },
  {
   "cell_type": "code",
   "execution_count": 28,
   "id": "9b96e238",
   "metadata": {
    "execution": {
     "iopub.execute_input": "2022-04-05T10:11:55.042684Z",
     "iopub.status.busy": "2022-04-05T10:11:55.042162Z",
     "iopub.status.idle": "2022-04-05T10:11:55.056223Z",
     "shell.execute_reply": "2022-04-05T10:11:55.056617Z"
    },
    "papermill": {
     "duration": 0.064387,
     "end_time": "2022-04-05T10:11:55.056756",
     "exception": false,
     "start_time": "2022-04-05T10:11:54.992369",
     "status": "completed"
    },
    "tags": []
   },
   "outputs": [],
   "source": [
    "#creating the x and y ranges according to the above generated plot.\n",
    "x_range = np.linspace(-4, 1, 100) \n",
    "y_range = np.linspace(-6, 6, 100) \n",
    "x_grid, y_grid = np.meshgrid(x_range, y_range) # x_grid and y_grig are of size 100 X 100\n",
    "\n",
    "# converting x_grid and y_grid to continuous arrays\n",
    "x_gridflat = np.ravel(x_grid)\n",
    "y_gridflat = np.ravel(y_grid)\n",
    "\n",
    "# The last layer of the current model takes two columns as input. Hence transpose of np.vstack() is required.\n",
    "X = np.vstack((x_gridflat, y_gridflat)).T\n",
    "\n",
    "prob_contour = model_prob(X).reshape(100,100) "
   ]
  },
  {
   "cell_type": "code",
   "execution_count": 29,
   "id": "da72499a",
   "metadata": {
    "execution": {
     "iopub.execute_input": "2022-04-05T10:11:55.157569Z",
     "iopub.status.busy": "2022-04-05T10:11:55.157053Z",
     "iopub.status.idle": "2022-04-05T10:11:55.397549Z",
     "shell.execute_reply": "2022-04-05T10:11:55.397085Z"
    },
    "papermill": {
     "duration": 0.294238,
     "end_time": "2022-04-05T10:11:55.397674",
     "exception": false,
     "start_time": "2022-04-05T10:11:55.103436",
     "status": "completed"
    },
    "tags": []
   },
   "outputs": [
    {
     "data": {
      "image/png": "[encoded data removed]",
      "text/plain": [
       "<Figure size 720x648 with 1 Axes>"
      ]
     },
     "metadata": {
      "needs_background": "light"
     },
     "output_type": "display_data"
    }
   ],
   "source": [
    "plt.figure(figsize=(10,9))\n",
    "plt.scatter(testing_plot[:,0], testing_plot[:,1], alpha = 0.1, c = y_test.ravel())\n",
    "contours = plt.contour(x_grid,y_grid,prob_contour)\n",
    "plt.title('Probability Contours')\n",
    "plt.clabel(contours, inline = True );"
   ]
  },
  {
   "cell_type": "code",
   "execution_count": null,
   "id": "e81b4ac7",
   "metadata": {
    "papermill": {
     "duration": 0.04761,
     "end_time": "2022-04-05T10:11:55.493877",
     "exception": false,
     "start_time": "2022-04-05T10:11:55.446267",
     "status": "completed"
    },
    "tags": []
   },
   "outputs": [],
   "source": []
  }
 ],
 "metadata": {
  "kernelspec": {
   "display_name": "Python 3",
   "language": "python",
   "name": "python3"
  },
  "language_info": {
   "codemirror_mode": {
    "name": "ipython",
    "version": 3
   },
   "file_extension": ".py",
   "mimetype": "text/x-python",
   "name": "python",
   "nbconvert_exporter": "python",
   "pygments_lexer": "ipython3",
   "version": "3.6.15"
  },
  "papermill": {
   "default_parameters": {},
   "duration": 98.667775,
   "end_time": "2022-04-05T10:11:55.960964",
   "environment_variables": {},
   "exception": null,
   "input_path": "2020-08-11-part2.ipynb",
   "output_path": "2020-08-11-part2.ipynb",
   "parameters": {},
   "start_time": "2022-04-05T10:10:17.293189",
   "version": "2.3.3"
  }
 },
 "nbformat": 4,
 "nbformat_minor": 5
}