{
 "cells": [
  {
   "cell_type": "markdown",
   "id": "98380cd3",
   "metadata": {
    "papermill": {
     "duration": 0.029645,
     "end_time": "2022-11-07T00:41:22.978172",
     "exception": false,
     "start_time": "2022-11-07T00:41:22.948527",
     "status": "completed"
    },
    "tags": []
   },
   "source": [
    "# Distinguish Your Own Digits (DYOD)"
   ]
  },
  {
   "cell_type": "markdown",
   "id": "ef31240d",
   "metadata": {
    "papermill": {
     "duration": 0.024228,
     "end_time": "2022-11-07T00:41:23.027616",
     "exception": false,
     "start_time": "2022-11-07T00:41:23.003388",
     "status": "completed"
    },
    "tags": []
   },
   "source": [
    "You are going to write a classifier that distinguishes between the number 3 and number 8."
   ]
  },
  {
   "cell_type": "code",
   "execution_count": 1,
   "id": "b15c8646",
   "metadata": {
    "execution": {
     "iopub.execute_input": "2022-11-07T00:41:23.086467Z",
     "iopub.status.busy": "2022-11-07T00:41:23.085860Z",
     "iopub.status.idle": "2022-11-07T00:41:23.096772Z",
     "shell.execute_reply": "2022-11-07T00:41:23.096311Z"
    },
    "papermill": {
     "duration": 0.045096,
     "end_time": "2022-11-07T00:41:23.096893",
     "exception": false,
     "start_time": "2022-11-07T00:41:23.051797",
     "status": "completed"
    },
    "tags": []
   },
   "outputs": [],
   "source": [
    "%load_ext autoreload\n",
    "%autoreload 2"
   ]
  },
  {
   "cell_type": "code",
   "execution_count": 2,
   "id": "22ef38dc",
   "metadata": {
    "execution": {
     "iopub.execute_input": "2022-11-07T00:41:23.149604Z",
     "iopub.status.busy": "2022-11-07T00:41:23.148999Z",
     "iopub.status.idle": "2022-11-07T00:41:23.691162Z",
     "shell.execute_reply": "2022-11-07T00:41:23.690677Z"
    },
    "papermill": {
     "duration": 0.569904,
     "end_time": "2022-11-07T00:41:23.691280",
     "exception": false,
     "start_time": "2022-11-07T00:41:23.121376",
     "status": "completed"
    },
    "tags": []
   },
   "outputs": [],
   "source": [
    "%matplotlib inline\n",
    "import numpy as np\n",
    "import matplotlib.pyplot as plt\n",
    "import pandas as pd"
   ]
  },
  {
   "cell_type": "markdown",
   "id": "ba036198",
   "metadata": {
    "papermill": {
     "duration": 0.024204,
     "end_time": "2022-11-07T00:41:23.739797",
     "exception": false,
     "start_time": "2022-11-07T00:41:23.715593",
     "status": "completed"
    },
    "tags": []
   },
   "source": [
    "From the command line run `pip install mnist`. This is a library that will help you bring down the mnist dataset. If you run this from a notebook, you need to put  `!pip install mnist` in a cell by itself."
   ]
  },
  {
   "cell_type": "code",
   "execution_count": 3,
   "id": "bb6ad8a1",
   "metadata": {
    "execution": {
     "iopub.execute_input": "2022-11-07T00:41:23.793135Z",
     "iopub.status.busy": "2022-11-07T00:41:23.792497Z",
     "iopub.status.idle": "2022-11-07T00:41:26.344528Z",
     "shell.execute_reply": "2022-11-07T00:41:26.344023Z"
    },
    "papermill": {
     "duration": 2.580512,
     "end_time": "2022-11-07T00:41:26.344639",
     "exception": false,
     "start_time": "2022-11-07T00:41:23.764127",
     "status": "completed"
    },
    "tags": []
   },
   "outputs": [
    {
     "name": "stdout",
     "output_type": "stream",
     "text": [
      "Collecting mnist\r\n",
      "  Downloading mnist-0.2.2-py2.py3-none-any.whl (3.5 kB)\r\n"
     ]
    },
    {
     "name": "stdout",
     "output_type": "stream",
     "text": [
      "Requirement already satisfied: numpy in /opt/hostedtoolcache/Python/3.6.15/x64/lib/python3.6/site-packages (from mnist) (1.19.5)\r\n"
     ]
    },
    {
     "name": "stdout",
     "output_type": "stream",
     "text": [
      "Installing collected packages: mnist\r\n",
      "Successfully installed mnist-0.2.2\r\n"
     ]
    }
   ],
   "source": [
    "!pip install mnist"
   ]
  },
  {
   "cell_type": "markdown",
   "id": "69df9c9a",
   "metadata": {
    "papermill": {
     "duration": 0.02515,
     "end_time": "2022-11-07T00:41:26.395154",
     "exception": false,
     "start_time": "2022-11-07T00:41:26.370004",
     "status": "completed"
    },
    "tags": []
   },
   "source": [
    "## Preparing the Data"
   ]
  },
  {
   "cell_type": "code",
   "execution_count": 4,
   "id": "7f69d806",
   "metadata": {
    "execution": {
     "iopub.execute_input": "2022-11-07T00:41:26.449414Z",
     "iopub.status.busy": "2022-11-07T00:41:26.448828Z",
     "iopub.status.idle": "2022-11-07T00:41:26.463020Z",
     "shell.execute_reply": "2022-11-07T00:41:26.462562Z"
    },
    "papermill": {
     "duration": 0.042995,
     "end_time": "2022-11-07T00:41:26.463127",
     "exception": false,
     "start_time": "2022-11-07T00:41:26.420132",
     "status": "completed"
    },
    "tags": []
   },
   "outputs": [],
   "source": [
    "import mnist"
   ]
  },
  {
   "cell_type": "code",
   "execution_count": 5,
   "id": "a411e44f",
   "metadata": {
    "execution": {
     "iopub.execute_input": "2022-11-07T00:41:26.517122Z",
     "iopub.status.busy": "2022-11-07T00:41:26.516569Z",
     "iopub.status.idle": "2022-11-07T00:41:27.085142Z",
     "shell.execute_reply": "2022-11-07T00:41:27.085644Z"
    },
    "papermill": {
     "duration": 0.597518,
     "end_time": "2022-11-07T00:41:27.085806",
     "exception": false,
     "start_time": "2022-11-07T00:41:26.488288",
     "status": "completed"
    },
    "tags": []
   },
   "outputs": [],
   "source": [
    "train_images = mnist.train_images()\n",
    "train_labels = mnist.train_labels()"
   ]
  },
  {
   "cell_type": "code",
   "execution_count": 6,
   "id": "dceab3a5",
   "metadata": {
    "execution": {
     "iopub.execute_input": "2022-11-07T00:41:27.142340Z",
     "iopub.status.busy": "2022-11-07T00:41:27.140842Z",
     "iopub.status.idle": "2022-11-07T00:41:27.154763Z",
     "shell.execute_reply": "2022-11-07T00:41:27.154215Z"
    },
    "papermill": {
     "duration": 0.043734,
     "end_time": "2022-11-07T00:41:27.154870",
     "exception": false,
     "start_time": "2022-11-07T00:41:27.111136",
     "status": "completed"
    },
    "tags": []
   },
   "outputs": [
    {
     "data": {
      "text/plain": [
       "((60000, 28, 28), (60000,))"
      ]
     },
     "execution_count": 6,
     "metadata": {},
     "output_type": "execute_result"
    }
   ],
   "source": [
    "train_images.shape, train_labels.shape"
   ]
  },
  {
   "cell_type": "code",
   "execution_count": 7,
   "id": "f50dc2bb",
   "metadata": {
    "execution": {
     "iopub.execute_input": "2022-11-07T00:41:27.209653Z",
     "iopub.status.busy": "2022-11-07T00:41:27.209060Z",
     "iopub.status.idle": "2022-11-07T00:41:27.368663Z",
     "shell.execute_reply": "2022-11-07T00:41:27.369117Z"
    },
    "papermill": {
     "duration": 0.189154,
     "end_time": "2022-11-07T00:41:27.369282",
     "exception": false,
     "start_time": "2022-11-07T00:41:27.180128",
     "status": "completed"
    },
    "tags": []
   },
   "outputs": [],
   "source": [
    "test_images = mnist.test_images()\n",
    "test_labels = mnist.test_labels()"
   ]
  },
  {
   "cell_type": "code",
   "execution_count": 8,
   "id": "fc38cf1b",
   "metadata": {
    "execution": {
     "iopub.execute_input": "2022-11-07T00:41:27.424243Z",
     "iopub.status.busy": "2022-11-07T00:41:27.423660Z",
     "iopub.status.idle": "2022-11-07T00:41:27.437739Z",
     "shell.execute_reply": "2022-11-07T00:41:27.437143Z"
    },
    "papermill": {
     "duration": 0.042991,
     "end_time": "2022-11-07T00:41:27.437851",
     "exception": false,
     "start_time": "2022-11-07T00:41:27.394860",
     "status": "completed"
    },
    "tags": []
   },
   "outputs": [
    {
     "data": {
      "text/plain": [
       "((10000, 28, 28), (10000,))"
      ]
     },
     "execution_count": 8,
     "metadata": {},
     "output_type": "execute_result"
    }
   ],
   "source": [
    "test_images.shape, test_labels.shape"
   ]
  },
  {
   "cell_type": "code",
   "execution_count": 9,
   "id": "f9ed8fe0",
   "metadata": {
    "execution": {
     "iopub.execute_input": "2022-11-07T00:41:27.493732Z",
     "iopub.status.busy": "2022-11-07T00:41:27.493101Z",
     "iopub.status.idle": "2022-11-07T00:41:27.629834Z",
     "shell.execute_reply": "2022-11-07T00:41:27.630283Z"
    },
    "papermill": {
     "duration": 0.166731,
     "end_time": "2022-11-07T00:41:27.630414",
     "exception": false,
     "start_time": "2022-11-07T00:41:27.463683",
     "status": "completed"
    },
    "tags": []
   },
   "outputs": [
    {
     "name": "stdout",
     "output_type": "stream",
     "text": [
      "2\n"
     ]
    },
    {
     "data": {
      "text/plain": [
       "<matplotlib.image.AxesImage at 0x7ff9abad2da0>"
      ]
     },
     "execution_count": 9,
     "metadata": {},
     "output_type": "execute_result"
    },
    {
     "data": {
      "image/png": "[encoded data removed]",
      "text/plain": [
       "<Figure size 432x288 with 1 Axes>"
      ]
     },
     "metadata": {
      "needs_background": "light"
     },
     "output_type": "display_data"
    }
   ],
   "source": [
    "image_index = 7776 # You may select anything up to 60,000\n",
    "print(train_labels[image_index]) \n",
    "plt.imshow(train_images[image_index], cmap='Greys')"
   ]
  },
  {
   "cell_type": "markdown",
   "id": "a8d2388d",
   "metadata": {
    "papermill": {
     "duration": 0.026902,
     "end_time": "2022-11-07T00:41:27.684215",
     "exception": false,
     "start_time": "2022-11-07T00:41:27.657313",
     "status": "completed"
    },
    "tags": []
   },
   "source": [
    "## Filter data to get 3 and 8 out"
   ]
  },
  {
   "cell_type": "code",
   "execution_count": 10,
   "id": "776f7fc7",
   "metadata": {
    "execution": {
     "iopub.execute_input": "2022-11-07T00:41:27.742672Z",
     "iopub.status.busy": "2022-11-07T00:41:27.742072Z",
     "iopub.status.idle": "2022-11-07T00:41:27.757578Z",
     "shell.execute_reply": "2022-11-07T00:41:27.757078Z"
    },
    "papermill": {
     "duration": 0.046748,
     "end_time": "2022-11-07T00:41:27.757689",
     "exception": false,
     "start_time": "2022-11-07T00:41:27.710941",
     "status": "completed"
    },
    "tags": []
   },
   "outputs": [],
   "source": [
    "train_filter = np.where((train_labels == 3 ) | (train_labels == 8))\n",
    "test_filter = np.where((test_labels == 3) | (test_labels == 8))\n",
    "X_train, y_train = train_images[train_filter], train_labels[train_filter]\n",
    "X_test, y_test = test_images[test_filter], test_labels[test_filter]"
   ]
  },
  {
   "cell_type": "markdown",
   "id": "948f0b7e",
   "metadata": {
    "papermill": {
     "duration": 0.026721,
     "end_time": "2022-11-07T00:41:27.811346",
     "exception": false,
     "start_time": "2022-11-07T00:41:27.784625",
     "status": "completed"
    },
    "tags": []
   },
   "source": [
    "We normalize the pizel values in the 0 to 1 range"
   ]
  },
  {
   "cell_type": "code",
   "execution_count": 11,
   "id": "ee4c2166",
   "metadata": {
    "execution": {
     "iopub.execute_input": "2022-11-07T00:41:27.868501Z",
     "iopub.status.busy": "2022-11-07T00:41:27.867929Z",
     "iopub.status.idle": "2022-11-07T00:41:27.909390Z",
     "shell.execute_reply": "2022-11-07T00:41:27.908869Z"
    },
    "papermill": {
     "duration": 0.071434,
     "end_time": "2022-11-07T00:41:27.909504",
     "exception": false,
     "start_time": "2022-11-07T00:41:27.838070",
     "status": "completed"
    },
    "tags": []
   },
   "outputs": [],
   "source": [
    "X_train = X_train/255.\n",
    "X_test = X_test/255."
   ]
  },
  {
   "cell_type": "markdown",
   "id": "ddcf4fab",
   "metadata": {
    "papermill": {
     "duration": 0.026685,
     "end_time": "2022-11-07T00:41:27.963018",
     "exception": false,
     "start_time": "2022-11-07T00:41:27.936333",
     "status": "completed"
    },
    "tags": []
   },
   "source": [
    "And setup the labels as 1 (when the digit is 3) and 0 (when the digit is 8)"
   ]
  },
  {
   "cell_type": "code",
   "execution_count": 12,
   "id": "7dc908f2",
   "metadata": {
    "execution": {
     "iopub.execute_input": "2022-11-07T00:41:28.020320Z",
     "iopub.status.busy": "2022-11-07T00:41:28.019745Z",
     "iopub.status.idle": "2022-11-07T00:41:28.031813Z",
     "shell.execute_reply": "2022-11-07T00:41:28.031361Z"
    },
    "papermill": {
     "duration": 0.042083,
     "end_time": "2022-11-07T00:41:28.031919",
     "exception": false,
     "start_time": "2022-11-07T00:41:27.989836",
     "status": "completed"
    },
    "tags": []
   },
   "outputs": [],
   "source": [
    "y_train = 1*(y_train==3)\n",
    "y_test = 1*(y_test==3)"
   ]
  },
  {
   "cell_type": "code",
   "execution_count": 13,
   "id": "01e4e969",
   "metadata": {
    "execution": {
     "iopub.execute_input": "2022-11-07T00:41:28.089539Z",
     "iopub.status.busy": "2022-11-07T00:41:28.088930Z",
     "iopub.status.idle": "2022-11-07T00:41:28.102740Z",
     "shell.execute_reply": "2022-11-07T00:41:28.102270Z"
    },
    "papermill": {
     "duration": 0.043969,
     "end_time": "2022-11-07T00:41:28.102844",
     "exception": false,
     "start_time": "2022-11-07T00:41:28.058875",
     "status": "completed"
    },
    "tags": []
   },
   "outputs": [
    {
     "data": {
      "text/plain": [
       "((11982, 28, 28), (1984, 28, 28))"
      ]
     },
     "execution_count": 13,
     "metadata": {},
     "output_type": "execute_result"
    }
   ],
   "source": [
    "X_train.shape, X_test.shape"
   ]
  },
  {
   "cell_type": "markdown",
   "id": "5ccf3f85",
   "metadata": {
    "papermill": {
     "duration": 0.026936,
     "end_time": "2022-11-07T00:41:28.156934",
     "exception": false,
     "start_time": "2022-11-07T00:41:28.129998",
     "status": "completed"
    },
    "tags": []
   },
   "source": [
    "We reshape the data to flatten the image pixels into a set of features or co-variates:"
   ]
  },
  {
   "cell_type": "code",
   "execution_count": 14,
   "id": "5286a4a3",
   "metadata": {
    "execution": {
     "iopub.execute_input": "2022-11-07T00:41:28.215958Z",
     "iopub.status.busy": "2022-11-07T00:41:28.215363Z",
     "iopub.status.idle": "2022-11-07T00:41:28.229089Z",
     "shell.execute_reply": "2022-11-07T00:41:28.228614Z"
    },
    "papermill": {
     "duration": 0.044964,
     "end_time": "2022-11-07T00:41:28.229220",
     "exception": false,
     "start_time": "2022-11-07T00:41:28.184256",
     "status": "completed"
    },
    "tags": []
   },
   "outputs": [
    {
     "data": {
      "text/plain": [
       "((11982, 784), (1984, 784))"
      ]
     },
     "execution_count": 14,
     "metadata": {},
     "output_type": "execute_result"
    }
   ],
   "source": [
    "X_train = X_train.reshape(X_train.shape[0], -1)\n",
    "X_test = X_test.reshape(X_test.shape[0], -1)\n",
    "X_train.shape, X_test.shape"
   ]
  },
  {
   "cell_type": "code",
   "execution_count": 15,
   "id": "73c5f88a",
   "metadata": {
    "execution": {
     "iopub.execute_input": "2022-11-07T00:41:28.289135Z",
     "iopub.status.busy": "2022-11-07T00:41:28.288528Z",
     "iopub.status.idle": "2022-11-07T00:41:28.307294Z",
     "shell.execute_reply": "2022-11-07T00:41:28.307730Z"
    },
    "papermill": {
     "duration": 0.051227,
     "end_time": "2022-11-07T00:41:28.307863",
     "exception": false,
     "start_time": "2022-11-07T00:41:28.256636",
     "status": "completed"
    },
    "tags": []
   },
   "outputs": [],
   "source": [
    "#Impoting functions from 'Kudzu'\n",
    "from kudzu.model import Model\n",
    "from kudzu.train import Learner\n",
    "from kudzu.optim import GD\n",
    "from kudzu.data import Data, Sampler,Dataloader\n",
    "\n",
    "from kudzu.callbacks import AccCallback\n",
    "from kudzu.callbacks import ClfCallback\n",
    "\n",
    "from kudzu.loss import MSE\n",
    "\n",
    "from kudzu.layer import Sigmoid,Relu\n",
    "from kudzu.layer import Affine"
   ]
  },
  {
   "cell_type": "markdown",
   "id": "bc01172a",
   "metadata": {
    "papermill": {
     "duration": 0.027272,
     "end_time": "2022-11-07T00:41:28.362673",
     "exception": false,
     "start_time": "2022-11-07T00:41:28.335401",
     "status": "completed"
    },
    "tags": []
   },
   "source": [
    "### Let us create a `Config` class, to store important parameters. \n",
    "This class essentially plays the role of a dictionary."
   ]
  },
  {
   "cell_type": "code",
   "execution_count": 16,
   "id": "978281aa",
   "metadata": {
    "execution": {
     "iopub.execute_input": "2022-11-07T00:41:28.421337Z",
     "iopub.status.busy": "2022-11-07T00:41:28.420719Z",
     "iopub.status.idle": "2022-11-07T00:41:28.433371Z",
     "shell.execute_reply": "2022-11-07T00:41:28.432879Z"
    },
    "papermill": {
     "duration": 0.043532,
     "end_time": "2022-11-07T00:41:28.433481",
     "exception": false,
     "start_time": "2022-11-07T00:41:28.389949",
     "status": "completed"
    },
    "tags": []
   },
   "outputs": [],
   "source": [
    "class Config:\n",
    "    pass\n",
    "config = Config()\n",
    "config.lr = 0.001\n",
    "config.num_epochs = 250\n",
    "config.bs = 50"
   ]
  },
  {
   "cell_type": "markdown",
   "id": "1385fa59",
   "metadata": {
    "papermill": {
     "duration": 0.027963,
     "end_time": "2022-11-07T00:41:28.488951",
     "exception": false,
     "start_time": "2022-11-07T00:41:28.460988",
     "status": "completed"
    },
    "tags": []
   },
   "source": [
    "### Running Models with the Training data\n",
    "Details about the network layers:\n",
    "- A first affine layer has 784 inputs and does 100 affine transforms. These are followed by a Relu\n",
    "- A second affine layer has 100 inputs from the 100 activations of the past layer, and does 100 affine transforms. These are followed by a Relu\n",
    "- A third affine layer has 100 activations and does 2 affine transformations to create an embedding for visualization. There is no non-linearity here.\n",
    "- A final \"logistic regression\" which has an affine transform from 2 inputs to 1 output, which is squeezed through a sigmoid.\n"
   ]
  },
  {
   "cell_type": "code",
   "execution_count": 17,
   "id": "2b9c66db",
   "metadata": {
    "execution": {
     "iopub.execute_input": "2022-11-07T00:41:28.547564Z",
     "iopub.status.busy": "2022-11-07T00:41:28.547002Z",
     "iopub.status.idle": "2022-11-07T00:41:28.559539Z",
     "shell.execute_reply": "2022-11-07T00:41:28.558990Z"
    },
    "papermill": {
     "duration": 0.043466,
     "end_time": "2022-11-07T00:41:28.559648",
     "exception": false,
     "start_time": "2022-11-07T00:41:28.516182",
     "status": "completed"
    },
    "tags": []
   },
   "outputs": [],
   "source": [
    "data = Data(X_train, y_train.reshape(-1,1))\n",
    "sampler = Sampler(data, config.bs, shuffle=True)\n",
    "\n",
    "dl = Dataloader(data, sampler)\n",
    "\n",
    "opt = GD(config.lr)\n",
    "loss = MSE()"
   ]
  },
  {
   "cell_type": "code",
   "execution_count": 18,
   "id": "b275e4c2",
   "metadata": {
    "execution": {
     "iopub.execute_input": "2022-11-07T00:41:28.618295Z",
     "iopub.status.busy": "2022-11-07T00:41:28.617724Z",
     "iopub.status.idle": "2022-11-07T00:41:28.629285Z",
     "shell.execute_reply": "2022-11-07T00:41:28.629735Z"
    },
    "papermill": {
     "duration": 0.042782,
     "end_time": "2022-11-07T00:41:28.629855",
     "exception": false,
     "start_time": "2022-11-07T00:41:28.587073",
     "status": "completed"
    },
    "tags": []
   },
   "outputs": [],
   "source": [
    "training_data_x = X_train\n",
    "testing_data_x = X_test\n",
    "training_data_y = y_train.reshape(-1,1)\n",
    "testing_data_y = y_test.reshape(-1,1)"
   ]
  },
  {
   "cell_type": "code",
   "execution_count": 19,
   "id": "76951160",
   "metadata": {
    "execution": {
     "iopub.execute_input": "2022-11-07T00:41:28.688514Z",
     "iopub.status.busy": "2022-11-07T00:41:28.687959Z",
     "iopub.status.idle": "2022-11-07T00:41:28.704605Z",
     "shell.execute_reply": "2022-11-07T00:41:28.704151Z"
    },
    "papermill": {
     "duration": 0.047743,
     "end_time": "2022-11-07T00:41:28.704712",
     "exception": false,
     "start_time": "2022-11-07T00:41:28.656969",
     "status": "completed"
    },
    "tags": []
   },
   "outputs": [
    {
     "name": "stdout",
     "output_type": "stream",
     "text": [
      "xavier\n",
      "xavier\n",
      "xavier\n",
      "xavier\n",
      "xavier\n"
     ]
    }
   ],
   "source": [
    "layers = [Affine(\"first\", 784, 100), Relu(\"first\"), Affine(\"second\", 100, 100), Relu(\"second\"), Affine(\"third\", 100, 2), Affine(\"last\", 2, 1), Sigmoid(\"last\")]\n",
    "model_nn = Model(layers)\n",
    "model_lr = Model([Affine(\"logits\", 784, 1), Sigmoid(\"sigmoid\")])"
   ]
  },
  {
   "cell_type": "code",
   "execution_count": 20,
   "id": "6eede77a",
   "metadata": {
    "execution": {
     "iopub.execute_input": "2022-11-07T00:41:28.764820Z",
     "iopub.status.busy": "2022-11-07T00:41:28.763748Z",
     "iopub.status.idle": "2022-11-07T00:41:28.776635Z",
     "shell.execute_reply": "2022-11-07T00:41:28.776173Z"
    },
    "papermill": {
     "duration": 0.044339,
     "end_time": "2022-11-07T00:41:28.776743",
     "exception": false,
     "start_time": "2022-11-07T00:41:28.732404",
     "status": "completed"
    },
    "tags": []
   },
   "outputs": [],
   "source": [
    "nn_learner = Learner(loss, model_nn, opt, config.num_epochs)\n",
    "acc_nn = ClfCallback(nn_learner, config.bs, training_data_x , testing_data_x, training_data_y, testing_data_y)\n",
    "nn_learner.set_callbacks([acc_nn])"
   ]
  },
  {
   "cell_type": "code",
   "execution_count": 21,
   "id": "877b6cc7",
   "metadata": {
    "execution": {
     "iopub.execute_input": "2022-11-07T00:41:28.836238Z",
     "iopub.status.busy": "2022-11-07T00:41:28.835678Z",
     "iopub.status.idle": "2022-11-07T00:41:28.847748Z",
     "shell.execute_reply": "2022-11-07T00:41:28.847292Z"
    },
    "papermill": {
     "duration": 0.043428,
     "end_time": "2022-11-07T00:41:28.847853",
     "exception": false,
     "start_time": "2022-11-07T00:41:28.804425",
     "status": "completed"
    },
    "tags": []
   },
   "outputs": [],
   "source": [
    "lr_learner = Learner(loss, model_lr, opt, config.num_epochs)\n",
    "acc_lr = ClfCallback(lr_learner, config.bs, training_data_x , testing_data_x, training_data_y, testing_data_y)\n",
    "lr_learner.set_callbacks([acc_lr])"
   ]
  },
  {
   "cell_type": "code",
   "execution_count": 22,
   "id": "d9b133c3",
   "metadata": {
    "execution": {
     "iopub.execute_input": "2022-11-07T00:41:28.907614Z",
     "iopub.status.busy": "2022-11-07T00:41:28.907032Z",
     "iopub.status.idle": "2022-11-07T00:44:26.641919Z",
     "shell.execute_reply": "2022-11-07T00:44:26.642386Z"
    },
    "papermill": {
     "duration": 177.767002,
     "end_time": "2022-11-07T00:44:26.642524",
     "exception": false,
     "start_time": "2022-11-07T00:41:28.875522",
     "status": "completed"
    },
    "tags": []
   },
   "outputs": [
    {
     "name": "stdout",
     "output_type": "stream",
     "text": [
      "Epoch 0, Loss 0.2021\n",
      "Training Accuracy: 0.8316, Testing Accuracy: 0.8523\n",
      "\n"
     ]
    },
    {
     "name": "stdout",
     "output_type": "stream",
     "text": [
      "Epoch 10, Loss 0.0526\n",
      "Training Accuracy: 0.9451, Testing Accuracy: 0.9541\n",
      "\n"
     ]
    },
    {
     "name": "stdout",
     "output_type": "stream",
     "text": [
      "Epoch 20, Loss 0.0388\n",
      "Training Accuracy: 0.9571, Testing Accuracy: 0.9652\n",
      "\n"
     ]
    },
    {
     "name": "stdout",
     "output_type": "stream",
     "text": [
      "Epoch 30, Loss 0.0333\n",
      "Training Accuracy: 0.9625, Testing Accuracy: 0.9693\n",
      "\n"
     ]
    },
    {
     "name": "stdout",
     "output_type": "stream",
     "text": [
      "Epoch 40, Loss 0.0302\n",
      "Training Accuracy: 0.9649, Testing Accuracy: 0.9713\n",
      "\n"
     ]
    },
    {
     "name": "stdout",
     "output_type": "stream",
     "text": [
      "Epoch 50, Loss 0.028\n",
      "Training Accuracy: 0.9676, Testing Accuracy: 0.9728\n",
      "\n"
     ]
    },
    {
     "name": "stdout",
     "output_type": "stream",
     "text": [
      "Epoch 60, Loss 0.0263\n",
      "Training Accuracy: 0.9684, Testing Accuracy: 0.9723\n",
      "\n"
     ]
    },
    {
     "name": "stdout",
     "output_type": "stream",
     "text": [
      "Epoch 70, Loss 0.025\n",
      "Training Accuracy: 0.9701, Testing Accuracy: 0.9728\n",
      "\n"
     ]
    },
    {
     "name": "stdout",
     "output_type": "stream",
     "text": [
      "Epoch 80, Loss 0.0239\n",
      "Training Accuracy: 0.9717, Testing Accuracy: 0.9733\n",
      "\n"
     ]
    },
    {
     "name": "stdout",
     "output_type": "stream",
     "text": [
      "Epoch 90, Loss 0.023\n",
      "Training Accuracy: 0.9731, Testing Accuracy: 0.9723\n",
      "\n"
     ]
    },
    {
     "name": "stdout",
     "output_type": "stream",
     "text": [
      "Epoch 100, Loss 0.0221\n",
      "Training Accuracy: 0.9740, Testing Accuracy: 0.9728\n",
      "\n"
     ]
    },
    {
     "name": "stdout",
     "output_type": "stream",
     "text": [
      "Epoch 110, Loss 0.0213\n",
      "Training Accuracy: 0.9759, Testing Accuracy: 0.9733\n",
      "\n"
     ]
    },
    {
     "name": "stdout",
     "output_type": "stream",
     "text": [
      "Epoch 120, Loss 0.0206\n",
      "Training Accuracy: 0.9766, Testing Accuracy: 0.9738\n",
      "\n"
     ]
    },
    {
     "name": "stdout",
     "output_type": "stream",
     "text": [
      "Epoch 130, Loss 0.02\n",
      "Training Accuracy: 0.9777, Testing Accuracy: 0.9748\n",
      "\n"
     ]
    },
    {
     "name": "stdout",
     "output_type": "stream",
     "text": [
      "Epoch 140, Loss 0.0194\n",
      "Training Accuracy: 0.9786, Testing Accuracy: 0.9758\n",
      "\n"
     ]
    },
    {
     "name": "stdout",
     "output_type": "stream",
     "text": [
      "Epoch 150, Loss 0.0188\n",
      "Training Accuracy: 0.9792, Testing Accuracy: 0.9758\n",
      "\n"
     ]
    },
    {
     "name": "stdout",
     "output_type": "stream",
     "text": [
      "Epoch 160, Loss 0.0183\n",
      "Training Accuracy: 0.9805, Testing Accuracy: 0.9763\n",
      "\n"
     ]
    },
    {
     "name": "stdout",
     "output_type": "stream",
     "text": [
      "Epoch 170, Loss 0.0178\n",
      "Training Accuracy: 0.9811, Testing Accuracy: 0.9763\n",
      "\n"
     ]
    },
    {
     "name": "stdout",
     "output_type": "stream",
     "text": [
      "Epoch 180, Loss 0.0173\n",
      "Training Accuracy: 0.9817, Testing Accuracy: 0.9763\n",
      "\n"
     ]
    },
    {
     "name": "stdout",
     "output_type": "stream",
     "text": [
      "Epoch 190, Loss 0.0169\n",
      "Training Accuracy: 0.9824, Testing Accuracy: 0.9763\n",
      "\n"
     ]
    },
    {
     "name": "stdout",
     "output_type": "stream",
     "text": [
      "Epoch 200, Loss 0.0164\n",
      "Training Accuracy: 0.9830, Testing Accuracy: 0.9783\n",
      "\n"
     ]
    },
    {
     "name": "stdout",
     "output_type": "stream",
     "text": [
      "Epoch 210, Loss 0.016\n",
      "Training Accuracy: 0.9839, Testing Accuracy: 0.9778\n",
      "\n"
     ]
    },
    {
     "name": "stdout",
     "output_type": "stream",
     "text": [
      "Epoch 220, Loss 0.0156\n",
      "Training Accuracy: 0.9846, Testing Accuracy: 0.9793\n",
      "\n"
     ]
    },
    {
     "name": "stdout",
     "output_type": "stream",
     "text": [
      "Epoch 230, Loss 0.0152\n",
      "Training Accuracy: 0.9851, Testing Accuracy: 0.9803\n",
      "\n"
     ]
    },
    {
     "name": "stdout",
     "output_type": "stream",
     "text": [
      "Epoch 240, Loss 0.0149\n",
      "Training Accuracy: 0.9856, Testing Accuracy: 0.9803\n",
      "\n"
     ]
    },
    {
     "data": {
      "text/plain": [
       "0.00399079246300694"
      ]
     },
     "execution_count": 22,
     "metadata": {},
     "output_type": "execute_result"
    }
   ],
   "source": [
    "nn_learner.train_loop(dl)"
   ]
  },
  {
   "cell_type": "code",
   "execution_count": 23,
   "id": "e0163366",
   "metadata": {
    "execution": {
     "iopub.execute_input": "2022-11-07T00:44:26.718566Z",
     "iopub.status.busy": "2022-11-07T00:44:26.717972Z",
     "iopub.status.idle": "2022-11-07T00:44:39.070731Z",
     "shell.execute_reply": "2022-11-07T00:44:39.071256Z"
    },
    "papermill": {
     "duration": 12.39414,
     "end_time": "2022-11-07T00:44:39.071384",
     "exception": false,
     "start_time": "2022-11-07T00:44:26.677244",
     "status": "completed"
    },
    "tags": []
   },
   "outputs": [
    {
     "name": "stdout",
     "output_type": "stream",
     "text": [
      "Epoch 0, Loss 0.2368\n",
      "Training Accuracy: 0.7364, Testing Accuracy: 0.7717\n",
      "\n"
     ]
    },
    {
     "name": "stdout",
     "output_type": "stream",
     "text": [
      "Epoch 10, Loss 0.1004\n",
      "Training Accuracy: 0.9165, Testing Accuracy: 0.9254\n",
      "\n"
     ]
    },
    {
     "name": "stdout",
     "output_type": "stream",
     "text": [
      "Epoch 20, Loss 0.0778\n",
      "Training Accuracy: 0.9293, Testing Accuracy: 0.9430\n",
      "\n"
     ]
    },
    {
     "name": "stdout",
     "output_type": "stream",
     "text": [
      "Epoch 30, Loss 0.0674\n",
      "Training Accuracy: 0.9372, Testing Accuracy: 0.9476\n",
      "\n"
     ]
    },
    {
     "name": "stdout",
     "output_type": "stream",
     "text": [
      "Epoch 40, Loss 0.0611\n",
      "Training Accuracy: 0.9414, Testing Accuracy: 0.9536\n",
      "\n"
     ]
    },
    {
     "name": "stdout",
     "output_type": "stream",
     "text": [
      "Epoch 50, Loss 0.0568\n",
      "Training Accuracy: 0.9446, Testing Accuracy: 0.9556\n",
      "\n"
     ]
    },
    {
     "name": "stdout",
     "output_type": "stream",
     "text": [
      "Epoch 60, Loss 0.0536\n",
      "Training Accuracy: 0.9479, Testing Accuracy: 0.9572\n",
      "\n"
     ]
    },
    {
     "name": "stdout",
     "output_type": "stream",
     "text": [
      "Epoch 70, Loss 0.0511\n",
      "Training Accuracy: 0.9502, Testing Accuracy: 0.9597\n",
      "\n"
     ]
    },
    {
     "name": "stdout",
     "output_type": "stream",
     "text": [
      "Epoch 80, Loss 0.0491\n",
      "Training Accuracy: 0.9513, Testing Accuracy: 0.9612\n",
      "\n"
     ]
    },
    {
     "name": "stdout",
     "output_type": "stream",
     "text": [
      "Epoch 90, Loss 0.0474\n",
      "Training Accuracy: 0.9524, Testing Accuracy: 0.9617\n",
      "\n"
     ]
    },
    {
     "name": "stdout",
     "output_type": "stream",
     "text": [
      "Epoch 100, Loss 0.046\n",
      "Training Accuracy: 0.9530, Testing Accuracy: 0.9617\n",
      "\n"
     ]
    },
    {
     "name": "stdout",
     "output_type": "stream",
     "text": [
      "Epoch 110, Loss 0.0448\n",
      "Training Accuracy: 0.9538, Testing Accuracy: 0.9632\n",
      "\n"
     ]
    },
    {
     "name": "stdout",
     "output_type": "stream",
     "text": [
      "Epoch 120, Loss 0.0438\n",
      "Training Accuracy: 0.9544, Testing Accuracy: 0.9637\n",
      "\n"
     ]
    },
    {
     "name": "stdout",
     "output_type": "stream",
     "text": [
      "Epoch 130, Loss 0.0429\n",
      "Training Accuracy: 0.9552, Testing Accuracy: 0.9642\n",
      "\n"
     ]
    },
    {
     "name": "stdout",
     "output_type": "stream",
     "text": [
      "Epoch 140, Loss 0.0421\n",
      "Training Accuracy: 0.9556, Testing Accuracy: 0.9647\n",
      "\n"
     ]
    },
    {
     "name": "stdout",
     "output_type": "stream",
     "text": [
      "Epoch 150, Loss 0.0413\n",
      "Training Accuracy: 0.9562, Testing Accuracy: 0.9662\n",
      "\n"
     ]
    },
    {
     "name": "stdout",
     "output_type": "stream",
     "text": [
      "Epoch 160, Loss 0.0407\n",
      "Training Accuracy: 0.9565, Testing Accuracy: 0.9667\n",
      "\n"
     ]
    },
    {
     "name": "stdout",
     "output_type": "stream",
     "text": [
      "Epoch 170, Loss 0.0401\n",
      "Training Accuracy: 0.9573, Testing Accuracy: 0.9667\n",
      "\n"
     ]
    },
    {
     "name": "stdout",
     "output_type": "stream",
     "text": [
      "Epoch 180, Loss 0.0395\n",
      "Training Accuracy: 0.9578, Testing Accuracy: 0.9667\n",
      "\n"
     ]
    },
    {
     "name": "stdout",
     "output_type": "stream",
     "text": [
      "Epoch 190, Loss 0.039\n",
      "Training Accuracy: 0.9580, Testing Accuracy: 0.9672\n",
      "\n"
     ]
    },
    {
     "name": "stdout",
     "output_type": "stream",
     "text": [
      "Epoch 200, Loss 0.0385\n",
      "Training Accuracy: 0.9584, Testing Accuracy: 0.9672\n",
      "\n"
     ]
    },
    {
     "name": "stdout",
     "output_type": "stream",
     "text": [
      "Epoch 210, Loss 0.0381\n",
      "Training Accuracy: 0.9590, Testing Accuracy: 0.9672\n",
      "\n"
     ]
    },
    {
     "name": "stdout",
     "output_type": "stream",
     "text": [
      "Epoch 220, Loss 0.0377\n",
      "Training Accuracy: 0.9594, Testing Accuracy: 0.9672\n",
      "\n"
     ]
    },
    {
     "name": "stdout",
     "output_type": "stream",
     "text": [
      "Epoch 230, Loss 0.0373\n",
      "Training Accuracy: 0.9595, Testing Accuracy: 0.9677\n",
      "\n"
     ]
    },
    {
     "name": "stdout",
     "output_type": "stream",
     "text": [
      "Epoch 240, Loss 0.0369\n",
      "Training Accuracy: 0.9604, Testing Accuracy: 0.9677\n",
      "\n"
     ]
    },
    {
     "data": {
      "text/plain": [
       "0.02241442307937782"
      ]
     },
     "execution_count": 23,
     "metadata": {},
     "output_type": "execute_result"
    }
   ],
   "source": [
    "lr_learner.train_loop(dl)"
   ]
  },
  {
   "cell_type": "code",
   "execution_count": 24,
   "id": "ca410940",
   "metadata": {
    "execution": {
     "iopub.execute_input": "2022-11-07T00:44:39.163017Z",
     "iopub.status.busy": "2022-11-07T00:44:39.161882Z",
     "iopub.status.idle": "2022-11-07T00:44:39.384170Z",
     "shell.execute_reply": "2022-11-07T00:44:39.383689Z"
    },
    "papermill": {
     "duration": 0.270606,
     "end_time": "2022-11-07T00:44:39.384281",
     "exception": false,
     "start_time": "2022-11-07T00:44:39.113675",
     "status": "completed"
    },
    "tags": []
   },
   "outputs": [
    {
     "data": {
      "text/plain": [
       "<matplotlib.legend.Legend at 0x7ff99ee94470>"
      ]
     },
     "execution_count": 24,
     "metadata": {},
     "output_type": "execute_result"
    },
    {
     "data": {
      "image/png": "[encoded data removed]",
      "text/plain": [
       "<Figure size 1080x720 with 1 Axes>"
      ]
     },
     "metadata": {
      "needs_background": "light"
     },
     "output_type": "display_data"
    }
   ],
   "source": [
    "#comparing the results of NN and LR\n",
    "plt.figure(figsize=(15,10))\n",
    "\n",
    "# Neural Network plots\n",
    "plt.plot(acc_nn.accuracies, 'r-', label = \"Training Accuracies - NN\")\n",
    "plt.plot(acc_nn.test_accuracies, 'g-', label = \"Testing Accuracies - NN\")\n",
    "\n",
    "# Logistic Regression plots\n",
    "plt.plot(acc_lr.accuracies, 'k-', label = \"Training Accuracies - LR\")\n",
    "plt.plot(acc_lr.test_accuracies, 'b-', label = \"Testing Accuracies - LR\")\n",
    "plt.legend()"
   ]
  },
  {
   "cell_type": "markdown",
   "id": "80dfb35c",
   "metadata": {
    "papermill": {
     "duration": 0.042391,
     "end_time": "2022-11-07T00:44:39.469605",
     "exception": false,
     "start_time": "2022-11-07T00:44:39.427214",
     "status": "completed"
    },
    "tags": []
   },
   "source": [
    "#### Plotting the outputs of this layer of the NN.\n"
   ]
  },
  {
   "cell_type": "code",
   "execution_count": 25,
   "id": "45eb2ff5",
   "metadata": {
    "execution": {
     "iopub.execute_input": "2022-11-07T00:44:39.558445Z",
     "iopub.status.busy": "2022-11-07T00:44:39.557862Z",
     "iopub.status.idle": "2022-11-07T00:44:39.595702Z",
     "shell.execute_reply": "2022-11-07T00:44:39.595223Z"
    },
    "papermill": {
     "duration": 0.083728,
     "end_time": "2022-11-07T00:44:39.595818",
     "exception": false,
     "start_time": "2022-11-07T00:44:39.512090",
     "status": "completed"
    },
    "tags": []
   },
   "outputs": [],
   "source": [
    "new_model = Model(layers[:-2])\n",
    "testing_plot = new_model(testing_data_x)"
   ]
  },
  {
   "cell_type": "code",
   "execution_count": 26,
   "id": "4c0a5485",
   "metadata": {
    "execution": {
     "iopub.execute_input": "2022-11-07T00:44:39.686711Z",
     "iopub.status.busy": "2022-11-07T00:44:39.686030Z",
     "iopub.status.idle": "2022-11-07T00:44:39.883935Z",
     "shell.execute_reply": "2022-11-07T00:44:39.884371Z"
    },
    "papermill": {
     "duration": 0.244809,
     "end_time": "2022-11-07T00:44:39.884496",
     "exception": false,
     "start_time": "2022-11-07T00:44:39.639687",
     "status": "completed"
    },
    "tags": []
   },
   "outputs": [
    {
     "data": {
      "text/plain": [
       "Text(0.5, 1.0, 'Outputs')"
      ]
     },
     "execution_count": 26,
     "metadata": {},
     "output_type": "execute_result"
    },
    {
     "data": {
      "image/png": "[encoded data removed]",
      "text/plain": [
       "<Figure size 576x504 with 1 Axes>"
      ]
     },
     "metadata": {
      "needs_background": "light"
     },
     "output_type": "display_data"
    }
   ],
   "source": [
    "# Plotting the scatter plot of points and color coding by class\n",
    "plt.figure(figsize=(8,7))\n",
    "plt.scatter(testing_plot[:,0], testing_plot[:,1], alpha = 0.1, c = y_test.ravel());\n",
    "plt.title('Outputs')"
   ]
  },
  {
   "cell_type": "markdown",
   "id": "a74fcf8f",
   "metadata": {
    "papermill": {
     "duration": 0.044975,
     "end_time": "2022-11-07T00:44:39.974817",
     "exception": false,
     "start_time": "2022-11-07T00:44:39.929842",
     "status": "completed"
    },
    "tags": []
   },
   "source": [
    "Probability contours"
   ]
  },
  {
   "cell_type": "code",
   "execution_count": 27,
   "id": "d0afc8e3",
   "metadata": {
    "execution": {
     "iopub.execute_input": "2022-11-07T00:44:40.094593Z",
     "iopub.status.busy": "2022-11-07T00:44:40.092217Z",
     "iopub.status.idle": "2022-11-07T00:44:40.104227Z",
     "shell.execute_reply": "2022-11-07T00:44:40.103746Z"
    },
    "papermill": {
     "duration": 0.084146,
     "end_time": "2022-11-07T00:44:40.104335",
     "exception": false,
     "start_time": "2022-11-07T00:44:40.020189",
     "status": "completed"
    },
    "tags": []
   },
   "outputs": [],
   "source": [
    "model_prob = Model(layers[-2:]) "
   ]
  },
  {
   "cell_type": "code",
   "execution_count": 28,
   "id": "9b96e238",
   "metadata": {
    "execution": {
     "iopub.execute_input": "2022-11-07T00:44:40.200191Z",
     "iopub.status.busy": "2022-11-07T00:44:40.199618Z",
     "iopub.status.idle": "2022-11-07T00:44:40.215649Z",
     "shell.execute_reply": "2022-11-07T00:44:40.216415Z"
    },
    "papermill": {
     "duration": 0.066505,
     "end_time": "2022-11-07T00:44:40.216541",
     "exception": false,
     "start_time": "2022-11-07T00:44:40.150036",
     "status": "completed"
    },
    "tags": []
   },
   "outputs": [],
   "source": [
    "#creating the x and y ranges according to the above generated plot.\n",
    "x_range = np.linspace(-4, 1, 100) \n",
    "y_range = np.linspace(-6, 6, 100) \n",
    "x_grid, y_grid = np.meshgrid(x_range, y_range) # x_grid and y_grig are of size 100 X 100\n",
    "\n",
    "# converting x_grid and y_grid to continuous arrays\n",
    "x_gridflat = np.ravel(x_grid)\n",
    "y_gridflat = np.ravel(y_grid)\n",
    "\n",
    "# The last layer of the current model takes two columns as input. Hence transpose of np.vstack() is required.\n",
    "X = np.vstack((x_gridflat, y_gridflat)).T\n",
    "\n",
    "prob_contour = model_prob(X).reshape(100,100) "
   ]
  },
  {
   "cell_type": "code",
   "execution_count": 29,
   "id": "da72499a",
   "metadata": {
    "execution": {
     "iopub.execute_input": "2022-11-07T00:44:40.315121Z",
     "iopub.status.busy": "2022-11-07T00:44:40.313360Z",
     "iopub.status.idle": "2022-11-07T00:44:40.544417Z",
     "shell.execute_reply": "2022-11-07T00:44:40.543965Z"
    },
    "papermill": {
     "duration": 0.282029,
     "end_time": "2022-11-07T00:44:40.544529",
     "exception": false,
     "start_time": "2022-11-07T00:44:40.262500",
     "status": "completed"
    },
    "tags": []
   },
   "outputs": [
    {
     "data": {
      "image/png": "[encoded data removed]",
      "text/plain": [
       "<Figure size 720x648 with 1 Axes>"
      ]
     },
     "metadata": {
      "needs_background": "light"
     },
     "output_type": "display_data"
    }
   ],
   "source": [
    "plt.figure(figsize=(10,9))\n",
    "plt.scatter(testing_plot[:,0], testing_plot[:,1], alpha = 0.1, c = y_test.ravel())\n",
    "contours = plt.contour(x_grid,y_grid,prob_contour)\n",
    "plt.title('Probability Contours')\n",
    "plt.clabel(contours, inline = True );"
   ]
  },
  {
   "cell_type": "code",
   "execution_count": null,
   "id": "e81b4ac7",
   "metadata": {
    "papermill": {
     "duration": 0.04747,
     "end_time": "2022-11-07T00:44:40.640779",
     "exception": false,
     "start_time": "2022-11-07T00:44:40.593309",
     "status": "completed"
    },
    "tags": []
   },
   "outputs": [],
   "source": []
  }
 ],
 "metadata": {
  "kernelspec": {
   "display_name": "Python 3",
   "language": "python",
   "name": "python3"
  },
  "language_info": {
   "codemirror_mode": {
    "name": "ipython",
    "version": 3
   },
   "file_extension": ".py",
   "mimetype": "text/x-python",
   "name": "python",
   "nbconvert_exporter": "python",
   "pygments_lexer": "ipython3",
   "version": "3.6.15"
  },
  "papermill": {
   "default_parameters": {},
   "duration": 199.101348,
   "end_time": "2022-11-07T00:44:41.005773",
   "environment_variables": {},
   "exception": null,
   "input_path": "2020-08-11-part2.ipynb",
   "output_path": "2020-08-11-part2.ipynb",
   "parameters": {},
   "start_time": "2022-11-07T00:41:21.904425",
   "version": "2.3.3"
  }
 },
 "nbformat": 4,
 "nbformat_minor": 5
}