{
 "cells": [
  {
   "cell_type": "markdown",
   "id": "98380cd3",
   "metadata": {
    "papermill": {
     "duration": 0.025196,
     "end_time": "2021-10-17T00:21:57.250870",
     "exception": false,
     "start_time": "2021-10-17T00:21:57.225674",
     "status": "completed"
    },
    "tags": []
   },
   "source": [
    "# Distinguish Your Own Digits (DYOD)"
   ]
  },
  {
   "cell_type": "markdown",
   "id": "ef31240d",
   "metadata": {
    "papermill": {
     "duration": 0.021333,
     "end_time": "2021-10-17T00:21:57.294250",
     "exception": false,
     "start_time": "2021-10-17T00:21:57.272917",
     "status": "completed"
    },
    "tags": []
   },
   "source": [
    "You are going to write a classifier that distinguishes between the number 3 and number 8."
   ]
  },
  {
   "cell_type": "code",
   "execution_count": 1,
   "id": "b15c8646",
   "metadata": {
    "execution": {
     "iopub.execute_input": "2021-10-17T00:21:57.348266Z",
     "iopub.status.busy": "2021-10-17T00:21:57.347759Z",
     "iopub.status.idle": "2021-10-17T00:21:57.357996Z",
     "shell.execute_reply": "2021-10-17T00:21:57.358387Z"
    },
    "papermill": {
     "duration": 0.042872,
     "end_time": "2021-10-17T00:21:57.358533",
     "exception": false,
     "start_time": "2021-10-17T00:21:57.315661",
     "status": "completed"
    },
    "tags": []
   },
   "outputs": [],
   "source": [
    "%load_ext autoreload\n",
    "%autoreload 2"
   ]
  },
  {
   "cell_type": "code",
   "execution_count": 2,
   "id": "22ef38dc",
   "metadata": {
    "execution": {
     "iopub.execute_input": "2021-10-17T00:21:57.418450Z",
     "iopub.status.busy": "2021-10-17T00:21:57.415900Z",
     "iopub.status.idle": "2021-10-17T00:21:57.944914Z",
     "shell.execute_reply": "2021-10-17T00:21:57.944334Z"
    },
    "papermill": {
     "duration": 0.564695,
     "end_time": "2021-10-17T00:21:57.945050",
     "exception": false,
     "start_time": "2021-10-17T00:21:57.380355",
     "status": "completed"
    },
    "tags": []
   },
   "outputs": [],
   "source": [
    "%matplotlib inline\n",
    "import numpy as np\n",
    "import matplotlib.pyplot as plt\n",
    "import pandas as pd"
   ]
  },
  {
   "cell_type": "markdown",
   "id": "ba036198",
   "metadata": {
    "papermill": {
     "duration": 0.024767,
     "end_time": "2021-10-17T00:21:57.995506",
     "exception": false,
     "start_time": "2021-10-17T00:21:57.970739",
     "status": "completed"
    },
    "tags": []
   },
   "source": [
    "From the command line run `pip install mnist`. This is a library that will help you bring down the mnist dataset. If you run this from a notebook, you need to put  `!pip install mnist` in a cell by itself."
   ]
  },
  {
   "cell_type": "code",
   "execution_count": 3,
   "id": "bb6ad8a1",
   "metadata": {
    "execution": {
     "iopub.execute_input": "2021-10-17T00:21:58.049679Z",
     "iopub.status.busy": "2021-10-17T00:21:58.049153Z",
     "iopub.status.idle": "2021-10-17T00:22:00.612033Z",
     "shell.execute_reply": "2021-10-17T00:22:00.611474Z"
    },
    "papermill": {
     "duration": 2.592066,
     "end_time": "2021-10-17T00:22:00.612179",
     "exception": false,
     "start_time": "2021-10-17T00:21:58.020113",
     "status": "completed"
    },
    "tags": []
   },
   "outputs": [
    {
     "name": "stdout",
     "output_type": "stream",
     "text": [
      "Collecting mnist\r\n"
     ]
    },
    {
     "name": "stdout",
     "output_type": "stream",
     "text": [
      "  Downloading mnist-0.2.2-py2.py3-none-any.whl (3.5 kB)\r\n",
      "Requirement already satisfied: numpy in /opt/hostedtoolcache/Python/3.6.15/x64/lib/python3.6/site-packages (from mnist) (1.19.5)\r\n"
     ]
    },
    {
     "name": "stdout",
     "output_type": "stream",
     "text": [
      "Installing collected packages: mnist\r\n",
      "Successfully installed mnist-0.2.2\r\n"
     ]
    },
    {
     "name": "stdout",
     "output_type": "stream",
     "text": [
      "\u001b[33mWARNING: You are using pip version 21.2.4; however, version 21.3 is available.\r\n",
      "You should consider upgrading via the '/opt/hostedtoolcache/Python/3.6.15/x64/bin/python -m pip install --upgrade pip' command.\u001b[0m\r\n"
     ]
    }
   ],
   "source": [
    "!pip install mnist"
   ]
  },
  {
   "cell_type": "markdown",
   "id": "69df9c9a",
   "metadata": {
    "papermill": {
     "duration": 0.025444,
     "end_time": "2021-10-17T00:22:00.663721",
     "exception": false,
     "start_time": "2021-10-17T00:22:00.638277",
     "status": "completed"
    },
    "tags": []
   },
   "source": [
    "## Preparing the Data"
   ]
  },
  {
   "cell_type": "code",
   "execution_count": 4,
   "id": "7f69d806",
   "metadata": {
    "execution": {
     "iopub.execute_input": "2021-10-17T00:22:00.719080Z",
     "iopub.status.busy": "2021-10-17T00:22:00.718558Z",
     "iopub.status.idle": "2021-10-17T00:22:00.733137Z",
     "shell.execute_reply": "2021-10-17T00:22:00.733528Z"
    },
    "papermill": {
     "duration": 0.044593,
     "end_time": "2021-10-17T00:22:00.733665",
     "exception": false,
     "start_time": "2021-10-17T00:22:00.689072",
     "status": "completed"
    },
    "tags": []
   },
   "outputs": [],
   "source": [
    "import mnist"
   ]
  },
  {
   "cell_type": "code",
   "execution_count": 5,
   "id": "a411e44f",
   "metadata": {
    "execution": {
     "iopub.execute_input": "2021-10-17T00:22:00.788994Z",
     "iopub.status.busy": "2021-10-17T00:22:00.788461Z",
     "iopub.status.idle": "2021-10-17T00:22:01.311367Z",
     "shell.execute_reply": "2021-10-17T00:22:01.310818Z"
    },
    "papermill": {
     "duration": 0.552162,
     "end_time": "2021-10-17T00:22:01.311511",
     "exception": false,
     "start_time": "2021-10-17T00:22:00.759349",
     "status": "completed"
    },
    "tags": []
   },
   "outputs": [],
   "source": [
    "train_images = mnist.train_images()\n",
    "train_labels = mnist.train_labels()"
   ]
  },
  {
   "cell_type": "code",
   "execution_count": 6,
   "id": "dceab3a5",
   "metadata": {
    "execution": {
     "iopub.execute_input": "2021-10-17T00:22:01.370606Z",
     "iopub.status.busy": "2021-10-17T00:22:01.370075Z",
     "iopub.status.idle": "2021-10-17T00:22:01.382914Z",
     "shell.execute_reply": "2021-10-17T00:22:01.382464Z"
    },
    "papermill": {
     "duration": 0.044672,
     "end_time": "2021-10-17T00:22:01.383028",
     "exception": false,
     "start_time": "2021-10-17T00:22:01.338356",
     "status": "completed"
    },
    "tags": []
   },
   "outputs": [
    {
     "data": {
      "text/plain": [
       "((60000, 28, 28), (60000,))"
      ]
     },
     "execution_count": 6,
     "metadata": {},
     "output_type": "execute_result"
    }
   ],
   "source": [
    "train_images.shape, train_labels.shape"
   ]
  },
  {
   "cell_type": "code",
   "execution_count": 7,
   "id": "f50dc2bb",
   "metadata": {
    "execution": {
     "iopub.execute_input": "2021-10-17T00:22:01.450551Z",
     "iopub.status.busy": "2021-10-17T00:22:01.447495Z",
     "iopub.status.idle": "2021-10-17T00:22:01.592446Z",
     "shell.execute_reply": "2021-10-17T00:22:01.591875Z"
    },
    "papermill": {
     "duration": 0.183803,
     "end_time": "2021-10-17T00:22:01.592585",
     "exception": false,
     "start_time": "2021-10-17T00:22:01.408782",
     "status": "completed"
    },
    "tags": []
   },
   "outputs": [],
   "source": [
    "test_images = mnist.test_images()\n",
    "test_labels = mnist.test_labels()"
   ]
  },
  {
   "cell_type": "code",
   "execution_count": 8,
   "id": "fc38cf1b",
   "metadata": {
    "execution": {
     "iopub.execute_input": "2021-10-17T00:22:01.650454Z",
     "iopub.status.busy": "2021-10-17T00:22:01.649928Z",
     "iopub.status.idle": "2021-10-17T00:22:01.662203Z",
     "shell.execute_reply": "2021-10-17T00:22:01.662617Z"
    },
    "papermill": {
     "duration": 0.043619,
     "end_time": "2021-10-17T00:22:01.662756",
     "exception": false,
     "start_time": "2021-10-17T00:22:01.619137",
     "status": "completed"
    },
    "tags": []
   },
   "outputs": [
    {
     "data": {
      "text/plain": [
       "((10000, 28, 28), (10000,))"
      ]
     },
     "execution_count": 8,
     "metadata": {},
     "output_type": "execute_result"
    }
   ],
   "source": [
    "test_images.shape, test_labels.shape"
   ]
  },
  {
   "cell_type": "code",
   "execution_count": 9,
   "id": "f9ed8fe0",
   "metadata": {
    "execution": {
     "iopub.execute_input": "2021-10-17T00:22:01.745323Z",
     "iopub.status.busy": "2021-10-17T00:22:01.725869Z",
     "iopub.status.idle": "2021-10-17T00:22:01.862182Z",
     "shell.execute_reply": "2021-10-17T00:22:01.862609Z"
    },
    "papermill": {
     "duration": 0.173874,
     "end_time": "2021-10-17T00:22:01.862764",
     "exception": false,
     "start_time": "2021-10-17T00:22:01.688890",
     "status": "completed"
    },
    "tags": []
   },
   "outputs": [
    {
     "name": "stdout",
     "output_type": "stream",
     "text": [
      "2\n"
     ]
    },
    {
     "data": {
      "text/plain": [
       "<matplotlib.image.AxesImage at 0x7ff16e0dea90>"
      ]
     },
     "execution_count": 9,
     "metadata": {},
     "output_type": "execute_result"
    },
    {
     "data": {
      "image/png": "[encoded data removed]",
      "text/plain": [
       "<Figure size 432x288 with 1 Axes>"
      ]
     },
     "metadata": {
      "needs_background": "light"
     },
     "output_type": "display_data"
    }
   ],
   "source": [
    "image_index = 7776 # You may select anything up to 60,000\n",
    "print(train_labels[image_index]) \n",
    "plt.imshow(train_images[image_index], cmap='Greys')"
   ]
  },
  {
   "cell_type": "markdown",
   "id": "a8d2388d",
   "metadata": {
    "papermill": {
     "duration": 0.027509,
     "end_time": "2021-10-17T00:22:01.917698",
     "exception": false,
     "start_time": "2021-10-17T00:22:01.890189",
     "status": "completed"
    },
    "tags": []
   },
   "source": [
    "## Filter data to get 3 and 8 out"
   ]
  },
  {
   "cell_type": "code",
   "execution_count": 10,
   "id": "776f7fc7",
   "metadata": {
    "execution": {
     "iopub.execute_input": "2021-10-17T00:22:01.981025Z",
     "iopub.status.busy": "2021-10-17T00:22:01.980488Z",
     "iopub.status.idle": "2021-10-17T00:22:01.996514Z",
     "shell.execute_reply": "2021-10-17T00:22:01.996087Z"
    },
    "papermill": {
     "duration": 0.051829,
     "end_time": "2021-10-17T00:22:01.996634",
     "exception": false,
     "start_time": "2021-10-17T00:22:01.944805",
     "status": "completed"
    },
    "tags": []
   },
   "outputs": [],
   "source": [
    "train_filter = np.where((train_labels == 3 ) | (train_labels == 8))\n",
    "test_filter = np.where((test_labels == 3) | (test_labels == 8))\n",
    "X_train, y_train = train_images[train_filter], train_labels[train_filter]\n",
    "X_test, y_test = test_images[test_filter], test_labels[test_filter]"
   ]
  },
  {
   "cell_type": "markdown",
   "id": "948f0b7e",
   "metadata": {
    "papermill": {
     "duration": 0.029617,
     "end_time": "2021-10-17T00:22:02.055537",
     "exception": false,
     "start_time": "2021-10-17T00:22:02.025920",
     "status": "completed"
    },
    "tags": []
   },
   "source": [
    "We normalize the pizel values in the 0 to 1 range"
   ]
  },
  {
   "cell_type": "code",
   "execution_count": 11,
   "id": "ee4c2166",
   "metadata": {
    "execution": {
     "iopub.execute_input": "2021-10-17T00:22:02.113487Z",
     "iopub.status.busy": "2021-10-17T00:22:02.112974Z",
     "iopub.status.idle": "2021-10-17T00:22:02.161831Z",
     "shell.execute_reply": "2021-10-17T00:22:02.161272Z"
    },
    "papermill": {
     "duration": 0.079291,
     "end_time": "2021-10-17T00:22:02.161969",
     "exception": false,
     "start_time": "2021-10-17T00:22:02.082678",
     "status": "completed"
    },
    "tags": []
   },
   "outputs": [],
   "source": [
    "X_train = X_train/255.\n",
    "X_test = X_test/255."
   ]
  },
  {
   "cell_type": "markdown",
   "id": "ddcf4fab",
   "metadata": {
    "papermill": {
     "duration": 0.027169,
     "end_time": "2021-10-17T00:22:02.216532",
     "exception": false,
     "start_time": "2021-10-17T00:22:02.189363",
     "status": "completed"
    },
    "tags": []
   },
   "source": [
    "And setup the labels as 1 (when the digit is 3) and 0 (when the digit is 8)"
   ]
  },
  {
   "cell_type": "code",
   "execution_count": 12,
   "id": "7dc908f2",
   "metadata": {
    "execution": {
     "iopub.execute_input": "2021-10-17T00:22:02.276043Z",
     "iopub.status.busy": "2021-10-17T00:22:02.275519Z",
     "iopub.status.idle": "2021-10-17T00:22:02.286068Z",
     "shell.execute_reply": "2021-10-17T00:22:02.286551Z"
    },
    "papermill": {
     "duration": 0.043034,
     "end_time": "2021-10-17T00:22:02.286683",
     "exception": false,
     "start_time": "2021-10-17T00:22:02.243649",
     "status": "completed"
    },
    "tags": []
   },
   "outputs": [],
   "source": [
    "y_train = 1*(y_train==3)\n",
    "y_test = 1*(y_test==3)"
   ]
  },
  {
   "cell_type": "code",
   "execution_count": 13,
   "id": "01e4e969",
   "metadata": {
    "execution": {
     "iopub.execute_input": "2021-10-17T00:22:02.346944Z",
     "iopub.status.busy": "2021-10-17T00:22:02.346435Z",
     "iopub.status.idle": "2021-10-17T00:22:02.357846Z",
     "shell.execute_reply": "2021-10-17T00:22:02.357402Z"
    },
    "papermill": {
     "duration": 0.044408,
     "end_time": "2021-10-17T00:22:02.357965",
     "exception": false,
     "start_time": "2021-10-17T00:22:02.313557",
     "status": "completed"
    },
    "tags": []
   },
   "outputs": [
    {
     "data": {
      "text/plain": [
       "((11982, 28, 28), (1984, 28, 28))"
      ]
     },
     "execution_count": 13,
     "metadata": {},
     "output_type": "execute_result"
    }
   ],
   "source": [
    "X_train.shape, X_test.shape"
   ]
  },
  {
   "cell_type": "markdown",
   "id": "5ccf3f85",
   "metadata": {
    "papermill": {
     "duration": 0.027433,
     "end_time": "2021-10-17T00:22:02.412706",
     "exception": false,
     "start_time": "2021-10-17T00:22:02.385273",
     "status": "completed"
    },
    "tags": []
   },
   "source": [
    "We reshape the data to flatten the image pixels into a set of features or co-variates:"
   ]
  },
  {
   "cell_type": "code",
   "execution_count": 14,
   "id": "5286a4a3",
   "metadata": {
    "execution": {
     "iopub.execute_input": "2021-10-17T00:22:02.472416Z",
     "iopub.status.busy": "2021-10-17T00:22:02.471896Z",
     "iopub.status.idle": "2021-10-17T00:22:02.485455Z",
     "shell.execute_reply": "2021-10-17T00:22:02.485871Z"
    },
    "papermill": {
     "duration": 0.045765,
     "end_time": "2021-10-17T00:22:02.486009",
     "exception": false,
     "start_time": "2021-10-17T00:22:02.440244",
     "status": "completed"
    },
    "tags": []
   },
   "outputs": [
    {
     "data": {
      "text/plain": [
       "((11982, 784), (1984, 784))"
      ]
     },
     "execution_count": 14,
     "metadata": {},
     "output_type": "execute_result"
    }
   ],
   "source": [
    "X_train = X_train.reshape(X_train.shape[0], -1)\n",
    "X_test = X_test.reshape(X_test.shape[0], -1)\n",
    "X_train.shape, X_test.shape"
   ]
  },
  {
   "cell_type": "code",
   "execution_count": 15,
   "id": "73c5f88a",
   "metadata": {
    "execution": {
     "iopub.execute_input": "2021-10-17T00:22:02.562569Z",
     "iopub.status.busy": "2021-10-17T00:22:02.558618Z",
     "iopub.status.idle": "2021-10-17T00:22:02.568416Z",
     "shell.execute_reply": "2021-10-17T00:22:02.568795Z"
    },
    "papermill": {
     "duration": 0.055471,
     "end_time": "2021-10-17T00:22:02.568924",
     "exception": false,
     "start_time": "2021-10-17T00:22:02.513453",
     "status": "completed"
    },
    "tags": []
   },
   "outputs": [],
   "source": [
    "#Impoting functions from 'Kudzu'\n",
    "from kudzu.model import Model\n",
    "from kudzu.train import Learner\n",
    "from kudzu.optim import GD\n",
    "from kudzu.data import Data, Sampler,Dataloader\n",
    "\n",
    "from kudzu.callbacks import AccCallback\n",
    "from kudzu.callbacks import ClfCallback\n",
    "\n",
    "from kudzu.loss import MSE\n",
    "\n",
    "from kudzu.layer import Sigmoid,Relu\n",
    "from kudzu.layer import Affine"
   ]
  },
  {
   "cell_type": "markdown",
   "id": "bc01172a",
   "metadata": {
    "papermill": {
     "duration": 0.027347,
     "end_time": "2021-10-17T00:22:02.623689",
     "exception": false,
     "start_time": "2021-10-17T00:22:02.596342",
     "status": "completed"
    },
    "tags": []
   },
   "source": [
    "### Let us create a `Config` class, to store important parameters. \n",
    "This class essentially plays the role of a dictionary."
   ]
  },
  {
   "cell_type": "code",
   "execution_count": 16,
   "id": "978281aa",
   "metadata": {
    "execution": {
     "iopub.execute_input": "2021-10-17T00:22:02.682354Z",
     "iopub.status.busy": "2021-10-17T00:22:02.681769Z",
     "iopub.status.idle": "2021-10-17T00:22:02.693001Z",
     "shell.execute_reply": "2021-10-17T00:22:02.693445Z"
    },
    "papermill": {
     "duration": 0.042703,
     "end_time": "2021-10-17T00:22:02.693570",
     "exception": false,
     "start_time": "2021-10-17T00:22:02.650867",
     "status": "completed"
    },
    "tags": []
   },
   "outputs": [],
   "source": [
    "class Config:\n",
    "    pass\n",
    "config = Config()\n",
    "config.lr = 0.001\n",
    "config.num_epochs = 250\n",
    "config.bs = 50"
   ]
  },
  {
   "cell_type": "markdown",
   "id": "1385fa59",
   "metadata": {
    "papermill": {
     "duration": 0.027507,
     "end_time": "2021-10-17T00:22:02.748569",
     "exception": false,
     "start_time": "2021-10-17T00:22:02.721062",
     "status": "completed"
    },
    "tags": []
   },
   "source": [
    "### Running Models with the Training data\n",
    "Details about the network layers:\n",
    "- A first affine layer has 784 inputs and does 100 affine transforms. These are followed by a Relu\n",
    "- A second affine layer has 100 inputs from the 100 activations of the past layer, and does 100 affine transforms. These are followed by a Relu\n",
    "- A third affine layer has 100 activations and does 2 affine transformations to create an embedding for visualization. There is no non-linearity here.\n",
    "- A final \"logistic regression\" which has an affine transform from 2 inputs to 1 output, which is squeezed through a sigmoid.\n"
   ]
  },
  {
   "cell_type": "code",
   "execution_count": 17,
   "id": "2b9c66db",
   "metadata": {
    "execution": {
     "iopub.execute_input": "2021-10-17T00:22:02.809992Z",
     "iopub.status.busy": "2021-10-17T00:22:02.809450Z",
     "iopub.status.idle": "2021-10-17T00:22:02.820683Z",
     "shell.execute_reply": "2021-10-17T00:22:02.820249Z"
    },
    "papermill": {
     "duration": 0.044932,
     "end_time": "2021-10-17T00:22:02.820793",
     "exception": false,
     "start_time": "2021-10-17T00:22:02.775861",
     "status": "completed"
    },
    "tags": []
   },
   "outputs": [],
   "source": [
    "data = Data(X_train, y_train.reshape(-1,1))\n",
    "sampler = Sampler(data, config.bs, shuffle=True)\n",
    "\n",
    "dl = Dataloader(data, sampler)\n",
    "\n",
    "opt = GD(config.lr)\n",
    "loss = MSE()"
   ]
  },
  {
   "cell_type": "code",
   "execution_count": 18,
   "id": "b275e4c2",
   "metadata": {
    "execution": {
     "iopub.execute_input": "2021-10-17T00:22:02.879658Z",
     "iopub.status.busy": "2021-10-17T00:22:02.879147Z",
     "iopub.status.idle": "2021-10-17T00:22:02.891210Z",
     "shell.execute_reply": "2021-10-17T00:22:02.891643Z"
    },
    "papermill": {
     "duration": 0.043259,
     "end_time": "2021-10-17T00:22:02.891770",
     "exception": false,
     "start_time": "2021-10-17T00:22:02.848511",
     "status": "completed"
    },
    "tags": []
   },
   "outputs": [],
   "source": [
    "training_data_x = X_train\n",
    "testing_data_x = X_test\n",
    "training_data_y = y_train.reshape(-1,1)\n",
    "testing_data_y = y_test.reshape(-1,1)"
   ]
  },
  {
   "cell_type": "code",
   "execution_count": 19,
   "id": "76951160",
   "metadata": {
    "execution": {
     "iopub.execute_input": "2021-10-17T00:22:02.950691Z",
     "iopub.status.busy": "2021-10-17T00:22:02.950161Z",
     "iopub.status.idle": "2021-10-17T00:22:02.966147Z",
     "shell.execute_reply": "2021-10-17T00:22:02.966532Z"
    },
    "papermill": {
     "duration": 0.047547,
     "end_time": "2021-10-17T00:22:02.966659",
     "exception": false,
     "start_time": "2021-10-17T00:22:02.919112",
     "status": "completed"
    },
    "tags": []
   },
   "outputs": [
    {
     "name": "stdout",
     "output_type": "stream",
     "text": [
      "xavier\n",
      "xavier\n",
      "xavier\n",
      "xavier\n",
      "xavier\n"
     ]
    }
   ],
   "source": [
    "layers = [Affine(\"first\", 784, 100), Relu(\"first\"), Affine(\"second\", 100, 100), Relu(\"second\"), Affine(\"third\", 100, 2), Affine(\"last\", 2, 1), Sigmoid(\"last\")]\n",
    "model_nn = Model(layers)\n",
    "model_lr = Model([Affine(\"logits\", 784, 1), Sigmoid(\"sigmoid\")])"
   ]
  },
  {
   "cell_type": "code",
   "execution_count": 20,
   "id": "6eede77a",
   "metadata": {
    "execution": {
     "iopub.execute_input": "2021-10-17T00:22:03.033029Z",
     "iopub.status.busy": "2021-10-17T00:22:03.029983Z",
     "iopub.status.idle": "2021-10-17T00:22:03.039885Z",
     "shell.execute_reply": "2021-10-17T00:22:03.039454Z"
    },
    "papermill": {
     "duration": 0.04565,
     "end_time": "2021-10-17T00:22:03.039990",
     "exception": false,
     "start_time": "2021-10-17T00:22:02.994340",
     "status": "completed"
    },
    "tags": []
   },
   "outputs": [],
   "source": [
    "nn_learner = Learner(loss, model_nn, opt, config.num_epochs)\n",
    "acc_nn = ClfCallback(nn_learner, config.bs, training_data_x , testing_data_x, training_data_y, testing_data_y)\n",
    "nn_learner.set_callbacks([acc_nn])"
   ]
  },
  {
   "cell_type": "code",
   "execution_count": 21,
   "id": "877b6cc7",
   "metadata": {
    "execution": {
     "iopub.execute_input": "2021-10-17T00:22:03.099928Z",
     "iopub.status.busy": "2021-10-17T00:22:03.099389Z",
     "iopub.status.idle": "2021-10-17T00:22:03.110501Z",
     "shell.execute_reply": "2021-10-17T00:22:03.110071Z"
    },
    "papermill": {
     "duration": 0.043152,
     "end_time": "2021-10-17T00:22:03.110602",
     "exception": false,
     "start_time": "2021-10-17T00:22:03.067450",
     "status": "completed"
    },
    "tags": []
   },
   "outputs": [],
   "source": [
    "lr_learner = Learner(loss, model_lr, opt, config.num_epochs)\n",
    "acc_lr = ClfCallback(lr_learner, config.bs, training_data_x , testing_data_x, training_data_y, testing_data_y)\n",
    "lr_learner.set_callbacks([acc_lr])"
   ]
  },
  {
   "cell_type": "code",
   "execution_count": 22,
   "id": "d9b133c3",
   "metadata": {
    "execution": {
     "iopub.execute_input": "2021-10-17T00:22:03.178369Z",
     "iopub.status.busy": "2021-10-17T00:22:03.176838Z",
     "iopub.status.idle": "2021-10-17T00:23:20.341629Z",
     "shell.execute_reply": "2021-10-17T00:23:20.342171Z"
    },
    "papermill": {
     "duration": 77.204061,
     "end_time": "2021-10-17T00:23:20.342319",
     "exception": false,
     "start_time": "2021-10-17T00:22:03.138258",
     "status": "completed"
    },
    "tags": []
   },
   "outputs": [
    {
     "name": "stdout",
     "output_type": "stream",
     "text": [
      "Epoch 0, Loss 0.2555\n",
      "Training Accuracy: 0.5613, Testing Accuracy: 0.5605\n",
      "\n"
     ]
    },
    {
     "name": "stdout",
     "output_type": "stream",
     "text": [
      "Epoch 10, Loss 0.1018\n",
      "Training Accuracy: 0.9150, Testing Accuracy: 0.9173\n",
      "\n"
     ]
    },
    {
     "name": "stdout",
     "output_type": "stream",
     "text": [
      "Epoch 20, Loss 0.058\n",
      "Training Accuracy: 0.9413, Testing Accuracy: 0.9466\n",
      "\n"
     ]
    },
    {
     "name": "stdout",
     "output_type": "stream",
     "text": [
      "Epoch 30, Loss 0.0441\n",
      "Training Accuracy: 0.9527, Testing Accuracy: 0.9602\n",
      "\n"
     ]
    },
    {
     "name": "stdout",
     "output_type": "stream",
     "text": [
      "Epoch 40, Loss 0.0376\n",
      "Training Accuracy: 0.9582, Testing Accuracy: 0.9632\n",
      "\n"
     ]
    },
    {
     "name": "stdout",
     "output_type": "stream",
     "text": [
      "Epoch 50, Loss 0.0338\n",
      "Training Accuracy: 0.9619, Testing Accuracy: 0.9647\n",
      "\n"
     ]
    },
    {
     "name": "stdout",
     "output_type": "stream",
     "text": [
      "Epoch 60, Loss 0.0313\n",
      "Training Accuracy: 0.9639, Testing Accuracy: 0.9667\n",
      "\n"
     ]
    },
    {
     "name": "stdout",
     "output_type": "stream",
     "text": [
      "Epoch 70, Loss 0.0295\n",
      "Training Accuracy: 0.9657, Testing Accuracy: 0.9688\n",
      "\n"
     ]
    },
    {
     "name": "stdout",
     "output_type": "stream",
     "text": [
      "Epoch 80, Loss 0.028\n",
      "Training Accuracy: 0.9673, Testing Accuracy: 0.9703\n",
      "\n"
     ]
    },
    {
     "name": "stdout",
     "output_type": "stream",
     "text": [
      "Epoch 90, Loss 0.0268\n",
      "Training Accuracy: 0.9685, Testing Accuracy: 0.9708\n",
      "\n"
     ]
    },
    {
     "name": "stdout",
     "output_type": "stream",
     "text": [
      "Epoch 100, Loss 0.0258\n",
      "Training Accuracy: 0.9700, Testing Accuracy: 0.9708\n",
      "\n"
     ]
    },
    {
     "name": "stdout",
     "output_type": "stream",
     "text": [
      "Epoch 110, Loss 0.0249\n",
      "Training Accuracy: 0.9705, Testing Accuracy: 0.9693\n",
      "\n"
     ]
    },
    {
     "name": "stdout",
     "output_type": "stream",
     "text": [
      "Epoch 120, Loss 0.0241\n",
      "Training Accuracy: 0.9716, Testing Accuracy: 0.9693\n",
      "\n"
     ]
    },
    {
     "name": "stdout",
     "output_type": "stream",
     "text": [
      "Epoch 130, Loss 0.0233\n",
      "Training Accuracy: 0.9725, Testing Accuracy: 0.9708\n",
      "\n"
     ]
    },
    {
     "name": "stdout",
     "output_type": "stream",
     "text": [
      "Epoch 140, Loss 0.0227\n",
      "Training Accuracy: 0.9735, Testing Accuracy: 0.9698\n",
      "\n"
     ]
    },
    {
     "name": "stdout",
     "output_type": "stream",
     "text": [
      "Epoch 150, Loss 0.0221\n",
      "Training Accuracy: 0.9740, Testing Accuracy: 0.9703\n",
      "\n"
     ]
    },
    {
     "name": "stdout",
     "output_type": "stream",
     "text": [
      "Epoch 160, Loss 0.0215\n",
      "Training Accuracy: 0.9746, Testing Accuracy: 0.9703\n",
      "\n"
     ]
    },
    {
     "name": "stdout",
     "output_type": "stream",
     "text": [
      "Epoch 170, Loss 0.021\n",
      "Training Accuracy: 0.9753, Testing Accuracy: 0.9708\n",
      "\n"
     ]
    },
    {
     "name": "stdout",
     "output_type": "stream",
     "text": [
      "Epoch 180, Loss 0.0205\n",
      "Training Accuracy: 0.9762, Testing Accuracy: 0.9713\n",
      "\n"
     ]
    },
    {
     "name": "stdout",
     "output_type": "stream",
     "text": [
      "Epoch 190, Loss 0.0201\n",
      "Training Accuracy: 0.9767, Testing Accuracy: 0.9718\n",
      "\n"
     ]
    },
    {
     "name": "stdout",
     "output_type": "stream",
     "text": [
      "Epoch 200, Loss 0.0196\n",
      "Training Accuracy: 0.9773, Testing Accuracy: 0.9718\n",
      "\n"
     ]
    },
    {
     "name": "stdout",
     "output_type": "stream",
     "text": [
      "Epoch 210, Loss 0.0192\n",
      "Training Accuracy: 0.9779, Testing Accuracy: 0.9718\n",
      "\n"
     ]
    },
    {
     "name": "stdout",
     "output_type": "stream",
     "text": [
      "Epoch 220, Loss 0.0188\n",
      "Training Accuracy: 0.9785, Testing Accuracy: 0.9728\n",
      "\n"
     ]
    },
    {
     "name": "stdout",
     "output_type": "stream",
     "text": [
      "Epoch 230, Loss 0.0184\n",
      "Training Accuracy: 0.9792, Testing Accuracy: 0.9738\n",
      "\n"
     ]
    },
    {
     "name": "stdout",
     "output_type": "stream",
     "text": [
      "Epoch 240, Loss 0.0181\n",
      "Training Accuracy: 0.9797, Testing Accuracy: 0.9738\n",
      "\n"
     ]
    },
    {
     "data": {
      "text/plain": [
       "0.012175001681224793"
      ]
     },
     "execution_count": 22,
     "metadata": {},
     "output_type": "execute_result"
    }
   ],
   "source": [
    "nn_learner.train_loop(dl)"
   ]
  },
  {
   "cell_type": "code",
   "execution_count": 23,
   "id": "e0163366",
   "metadata": {
    "execution": {
     "iopub.execute_input": "2021-10-17T00:23:20.422874Z",
     "iopub.status.busy": "2021-10-17T00:23:20.422352Z",
     "iopub.status.idle": "2021-10-17T00:23:34.271315Z",
     "shell.execute_reply": "2021-10-17T00:23:34.271813Z"
    },
    "papermill": {
     "duration": 13.892997,
     "end_time": "2021-10-17T00:23:34.271959",
     "exception": false,
     "start_time": "2021-10-17T00:23:20.378962",
     "status": "completed"
    },
    "tags": []
   },
   "outputs": [
    {
     "name": "stdout",
     "output_type": "stream",
     "text": [
      "Epoch 0, Loss 0.2593\n",
      "Training Accuracy: 0.6189, Testing Accuracy: 0.6028\n",
      "\n"
     ]
    },
    {
     "name": "stdout",
     "output_type": "stream",
     "text": [
      "Epoch 10, Loss 0.1041\n",
      "Training Accuracy: 0.9125, Testing Accuracy: 0.9259\n",
      "\n"
     ]
    },
    {
     "name": "stdout",
     "output_type": "stream",
     "text": [
      "Epoch 20, Loss 0.0791\n",
      "Training Accuracy: 0.9308, Testing Accuracy: 0.9425\n",
      "\n"
     ]
    },
    {
     "name": "stdout",
     "output_type": "stream",
     "text": [
      "Epoch 30, Loss 0.0678\n",
      "Training Accuracy: 0.9387, Testing Accuracy: 0.9511\n",
      "\n"
     ]
    },
    {
     "name": "stdout",
     "output_type": "stream",
     "text": [
      "Epoch 40, Loss 0.0612\n",
      "Training Accuracy: 0.9442, Testing Accuracy: 0.9541\n",
      "\n"
     ]
    },
    {
     "name": "stdout",
     "output_type": "stream",
     "text": [
      "Epoch 50, Loss 0.0566\n",
      "Training Accuracy: 0.9473, Testing Accuracy: 0.9582\n",
      "\n"
     ]
    },
    {
     "name": "stdout",
     "output_type": "stream",
     "text": [
      "Epoch 60, Loss 0.0534\n",
      "Training Accuracy: 0.9493, Testing Accuracy: 0.9577\n",
      "\n"
     ]
    },
    {
     "name": "stdout",
     "output_type": "stream",
     "text": [
      "Epoch 70, Loss 0.0508\n",
      "Training Accuracy: 0.9503, Testing Accuracy: 0.9582\n",
      "\n"
     ]
    },
    {
     "name": "stdout",
     "output_type": "stream",
     "text": [
      "Epoch 80, Loss 0.0488\n",
      "Training Accuracy: 0.9524, Testing Accuracy: 0.9597\n",
      "\n"
     ]
    },
    {
     "name": "stdout",
     "output_type": "stream",
     "text": [
      "Epoch 90, Loss 0.0471\n",
      "Training Accuracy: 0.9535, Testing Accuracy: 0.9612\n",
      "\n"
     ]
    },
    {
     "name": "stdout",
     "output_type": "stream",
     "text": [
      "Epoch 100, Loss 0.0457\n",
      "Training Accuracy: 0.9552, Testing Accuracy: 0.9632\n",
      "\n"
     ]
    },
    {
     "name": "stdout",
     "output_type": "stream",
     "text": [
      "Epoch 110, Loss 0.0445\n",
      "Training Accuracy: 0.9559, Testing Accuracy: 0.9652\n",
      "\n"
     ]
    },
    {
     "name": "stdout",
     "output_type": "stream",
     "text": [
      "Epoch 120, Loss 0.0435\n",
      "Training Accuracy: 0.9569, Testing Accuracy: 0.9662\n",
      "\n"
     ]
    },
    {
     "name": "stdout",
     "output_type": "stream",
     "text": [
      "Epoch 130, Loss 0.0426\n",
      "Training Accuracy: 0.9575, Testing Accuracy: 0.9667\n",
      "\n"
     ]
    },
    {
     "name": "stdout",
     "output_type": "stream",
     "text": [
      "Epoch 140, Loss 0.0418\n",
      "Training Accuracy: 0.9584, Testing Accuracy: 0.9672\n",
      "\n"
     ]
    },
    {
     "name": "stdout",
     "output_type": "stream",
     "text": [
      "Epoch 150, Loss 0.041\n",
      "Training Accuracy: 0.9592, Testing Accuracy: 0.9677\n",
      "\n"
     ]
    },
    {
     "name": "stdout",
     "output_type": "stream",
     "text": [
      "Epoch 160, Loss 0.0404\n",
      "Training Accuracy: 0.9599, Testing Accuracy: 0.9677\n",
      "\n"
     ]
    },
    {
     "name": "stdout",
     "output_type": "stream",
     "text": [
      "Epoch 170, Loss 0.0398\n",
      "Training Accuracy: 0.9602, Testing Accuracy: 0.9672\n",
      "\n"
     ]
    },
    {
     "name": "stdout",
     "output_type": "stream",
     "text": [
      "Epoch 180, Loss 0.0392\n",
      "Training Accuracy: 0.9605, Testing Accuracy: 0.9672\n",
      "\n"
     ]
    },
    {
     "name": "stdout",
     "output_type": "stream",
     "text": [
      "Epoch 190, Loss 0.0387\n",
      "Training Accuracy: 0.9608, Testing Accuracy: 0.9672\n",
      "\n"
     ]
    },
    {
     "name": "stdout",
     "output_type": "stream",
     "text": [
      "Epoch 200, Loss 0.0383\n",
      "Training Accuracy: 0.9613, Testing Accuracy: 0.9682\n",
      "\n"
     ]
    },
    {
     "name": "stdout",
     "output_type": "stream",
     "text": [
      "Epoch 210, Loss 0.0378\n",
      "Training Accuracy: 0.9613, Testing Accuracy: 0.9677\n",
      "\n"
     ]
    },
    {
     "name": "stdout",
     "output_type": "stream",
     "text": [
      "Epoch 220, Loss 0.0374\n",
      "Training Accuracy: 0.9614, Testing Accuracy: 0.9677\n",
      "\n"
     ]
    },
    {
     "name": "stdout",
     "output_type": "stream",
     "text": [
      "Epoch 230, Loss 0.037\n",
      "Training Accuracy: 0.9615, Testing Accuracy: 0.9682\n",
      "\n"
     ]
    },
    {
     "name": "stdout",
     "output_type": "stream",
     "text": [
      "Epoch 240, Loss 0.0367\n",
      "Training Accuracy: 0.9617, Testing Accuracy: 0.9682\n",
      "\n"
     ]
    },
    {
     "data": {
      "text/plain": [
       "0.02490262515710026"
      ]
     },
     "execution_count": 23,
     "metadata": {},
     "output_type": "execute_result"
    }
   ],
   "source": [
    "lr_learner.train_loop(dl)"
   ]
  },
  {
   "cell_type": "code",
   "execution_count": 24,
   "id": "ca410940",
   "metadata": {
    "execution": {
     "iopub.execute_input": "2021-10-17T00:23:34.363532Z",
     "iopub.status.busy": "2021-10-17T00:23:34.363000Z",
     "iopub.status.idle": "2021-10-17T00:23:34.583906Z",
     "shell.execute_reply": "2021-10-17T00:23:34.583417Z"
    },
    "papermill": {
     "duration": 0.270105,
     "end_time": "2021-10-17T00:23:34.584043",
     "exception": false,
     "start_time": "2021-10-17T00:23:34.313938",
     "status": "completed"
    },
    "tags": []
   },
   "outputs": [
    {
     "data": {
      "text/plain": [
       "<matplotlib.legend.Legend at 0x7ff16dc40ef0>"
      ]
     },
     "execution_count": 24,
     "metadata": {},
     "output_type": "execute_result"
    },
    {
     "data": {
      "image/png": "[encoded data removed]",
      "text/plain": [
       "<Figure size 1080x720 with 1 Axes>"
      ]
     },
     "metadata": {
      "needs_background": "light"
     },
     "output_type": "display_data"
    }
   ],
   "source": [
    "#comparing the results of NN and LR\n",
    "plt.figure(figsize=(15,10))\n",
    "\n",
    "# Neural Network plots\n",
    "plt.plot(acc_nn.accuracies, 'r-', label = \"Training Accuracies - NN\")\n",
    "plt.plot(acc_nn.test_accuracies, 'g-', label = \"Testing Accuracies - NN\")\n",
    "\n",
    "# Logistic Regression plots\n",
    "plt.plot(acc_lr.accuracies, 'k-', label = \"Training Accuracies - LR\")\n",
    "plt.plot(acc_lr.test_accuracies, 'b-', label = \"Testing Accuracies - LR\")\n",
    "plt.legend()"
   ]
  },
  {
   "cell_type": "markdown",
   "id": "80dfb35c",
   "metadata": {
    "papermill": {
     "duration": 0.042562,
     "end_time": "2021-10-17T00:23:34.669913",
     "exception": false,
     "start_time": "2021-10-17T00:23:34.627351",
     "status": "completed"
    },
    "tags": []
   },
   "source": [
    "#### Plotting the outputs of this layer of the NN.\n"
   ]
  },
  {
   "cell_type": "code",
   "execution_count": 25,
   "id": "45eb2ff5",
   "metadata": {
    "execution": {
     "iopub.execute_input": "2021-10-17T00:23:34.763188Z",
     "iopub.status.busy": "2021-10-17T00:23:34.762667Z",
     "iopub.status.idle": "2021-10-17T00:23:34.779819Z",
     "shell.execute_reply": "2021-10-17T00:23:34.779379Z"
    },
    "papermill": {
     "duration": 0.067562,
     "end_time": "2021-10-17T00:23:34.779927",
     "exception": false,
     "start_time": "2021-10-17T00:23:34.712365",
     "status": "completed"
    },
    "tags": []
   },
   "outputs": [],
   "source": [
    "new_model = Model(layers[:-2])\n",
    "testing_plot = new_model(testing_data_x)"
   ]
  },
  {
   "cell_type": "code",
   "execution_count": 26,
   "id": "4c0a5485",
   "metadata": {
    "execution": {
     "iopub.execute_input": "2021-10-17T00:23:34.878839Z",
     "iopub.status.busy": "2021-10-17T00:23:34.878333Z",
     "iopub.status.idle": "2021-10-17T00:23:35.064155Z",
     "shell.execute_reply": "2021-10-17T00:23:35.063700Z"
    },
    "papermill": {
     "duration": 0.232128,
     "end_time": "2021-10-17T00:23:35.064270",
     "exception": false,
     "start_time": "2021-10-17T00:23:34.832142",
     "status": "completed"
    },
    "tags": []
   },
   "outputs": [
    {
     "data": {
      "text/plain": [
       "Text(0.5, 1.0, 'Outputs')"
      ]
     },
     "execution_count": 26,
     "metadata": {},
     "output_type": "execute_result"
    },
    {
     "data": {
      "image/png": "[encoded data removed]",
      "text/plain": [
       "<Figure size 576x504 with 1 Axes>"
      ]
     },
     "metadata": {
      "needs_background": "light"
     },
     "output_type": "display_data"
    }
   ],
   "source": [
    "# Plotting the scatter plot of points and color coding by class\n",
    "plt.figure(figsize=(8,7))\n",
    "plt.scatter(testing_plot[:,0], testing_plot[:,1], alpha = 0.1, c = y_test.ravel());\n",
    "plt.title('Outputs')"
   ]
  },
  {
   "cell_type": "markdown",
   "id": "a74fcf8f",
   "metadata": {
    "papermill": {
     "duration": 0.044501,
     "end_time": "2021-10-17T00:23:35.153465",
     "exception": false,
     "start_time": "2021-10-17T00:23:35.108964",
     "status": "completed"
    },
    "tags": []
   },
   "source": [
    "Probability contours"
   ]
  },
  {
   "cell_type": "code",
   "execution_count": 27,
   "id": "d0afc8e3",
   "metadata": {
    "execution": {
     "iopub.execute_input": "2021-10-17T00:23:35.250981Z",
     "iopub.status.busy": "2021-10-17T00:23:35.249794Z",
     "iopub.status.idle": "2021-10-17T00:23:35.261195Z",
     "shell.execute_reply": "2021-10-17T00:23:35.260325Z"
    },
    "papermill": {
     "duration": 0.063326,
     "end_time": "2021-10-17T00:23:35.261308",
     "exception": false,
     "start_time": "2021-10-17T00:23:35.197982",
     "status": "completed"
    },
    "tags": []
   },
   "outputs": [],
   "source": [
    "model_prob = Model(layers[-2:]) "
   ]
  },
  {
   "cell_type": "code",
   "execution_count": 28,
   "id": "9b96e238",
   "metadata": {
    "execution": {
     "iopub.execute_input": "2021-10-17T00:23:35.382977Z",
     "iopub.status.busy": "2021-10-17T00:23:35.382455Z",
     "iopub.status.idle": "2021-10-17T00:23:35.396840Z",
     "shell.execute_reply": "2021-10-17T00:23:35.397223Z"
    },
    "papermill": {
     "duration": 0.091472,
     "end_time": "2021-10-17T00:23:35.397348",
     "exception": false,
     "start_time": "2021-10-17T00:23:35.305876",
     "status": "completed"
    },
    "tags": []
   },
   "outputs": [],
   "source": [
    "#creating the x and y ranges according to the above generated plot.\n",
    "x_range = np.linspace(-4, 1, 100) \n",
    "y_range = np.linspace(-6, 6, 100) \n",
    "x_grid, y_grid = np.meshgrid(x_range, y_range) # x_grid and y_grig are of size 100 X 100\n",
    "\n",
    "# converting x_grid and y_grid to continuous arrays\n",
    "x_gridflat = np.ravel(x_grid)\n",
    "y_gridflat = np.ravel(y_grid)\n",
    "\n",
    "# The last layer of the current model takes two columns as input. Hence transpose of np.vstack() is required.\n",
    "X = np.vstack((x_gridflat, y_gridflat)).T\n",
    "\n",
    "prob_contour = model_prob(X).reshape(100,100) "
   ]
  },
  {
   "cell_type": "code",
   "execution_count": 29,
   "id": "da72499a",
   "metadata": {
    "execution": {
     "iopub.execute_input": "2021-10-17T00:23:35.496844Z",
     "iopub.status.busy": "2021-10-17T00:23:35.496307Z",
     "iopub.status.idle": "2021-10-17T00:23:35.736238Z",
     "shell.execute_reply": "2021-10-17T00:23:35.735810Z"
    },
    "papermill": {
     "duration": 0.289755,
     "end_time": "2021-10-17T00:23:35.736357",
     "exception": false,
     "start_time": "2021-10-17T00:23:35.446602",
     "status": "completed"
    },
    "tags": []
   },
   "outputs": [
    {
     "data": {
      "image/png": "[encoded data removed]",
      "text/plain": [
       "<Figure size 720x648 with 1 Axes>"
      ]
     },
     "metadata": {
      "needs_background": "light"
     },
     "output_type": "display_data"
    }
   ],
   "source": [
    "plt.figure(figsize=(10,9))\n",
    "plt.scatter(testing_plot[:,0], testing_plot[:,1], alpha = 0.1, c = y_test.ravel())\n",
    "contours = plt.contour(x_grid,y_grid,prob_contour)\n",
    "plt.title('Probability Contours')\n",
    "plt.clabel(contours, inline = True );"
   ]
  },
  {
   "cell_type": "code",
   "execution_count": null,
   "id": "e81b4ac7",
   "metadata": {
    "papermill": {
     "duration": 0.046835,
     "end_time": "2021-10-17T00:23:35.830818",
     "exception": false,
     "start_time": "2021-10-17T00:23:35.783983",
     "status": "completed"
    },
    "tags": []
   },
   "outputs": [],
   "source": []
  }
 ],
 "metadata": {
  "kernelspec": {
   "display_name": "Python 3",
   "language": "python",
   "name": "python3"
  },
  "language_info": {
   "codemirror_mode": {
    "name": "ipython",
    "version": 3
   },
   "file_extension": ".py",
   "mimetype": "text/x-python",
   "name": "python",
   "nbconvert_exporter": "python",
   "pygments_lexer": "ipython3",
   "version": "3.6.15"
  },
  "papermill": {
   "default_parameters": {},
   "duration": 100.091781,
   "end_time": "2021-10-17T00:23:36.285446",
   "environment_variables": {},
   "exception": null,
   "input_path": "2020-08-11-part2.ipynb",
   "output_path": "2020-08-11-part2.ipynb",
   "parameters": {},
   "start_time": "2021-10-17T00:21:56.193665",
   "version": "2.3.3"
  }
 },
 "nbformat": 4,
 "nbformat_minor": 5
}