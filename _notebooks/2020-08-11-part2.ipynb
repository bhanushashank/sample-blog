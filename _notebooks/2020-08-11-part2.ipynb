{
 "cells": [
  {
   "cell_type": "markdown",
   "id": "98380cd3",
   "metadata": {
    "papermill": {
     "duration": 0.033251,
     "end_time": "2021-12-18T00:23:55.469428",
     "exception": false,
     "start_time": "2021-12-18T00:23:55.436177",
     "status": "completed"
    },
    "tags": []
   },
   "source": [
    "# Distinguish Your Own Digits (DYOD)"
   ]
  },
  {
   "cell_type": "markdown",
   "id": "ef31240d",
   "metadata": {
    "papermill": {
     "duration": 0.026805,
     "end_time": "2021-12-18T00:23:55.523744",
     "exception": false,
     "start_time": "2021-12-18T00:23:55.496939",
     "status": "completed"
    },
    "tags": []
   },
   "source": [
    "You are going to write a classifier that distinguishes between the number 3 and number 8."
   ]
  },
  {
   "cell_type": "code",
   "execution_count": 1,
   "id": "b15c8646",
   "metadata": {
    "execution": {
     "iopub.execute_input": "2021-12-18T00:23:55.591845Z",
     "iopub.status.busy": "2021-12-18T00:23:55.591255Z",
     "iopub.status.idle": "2021-12-18T00:23:55.604165Z",
     "shell.execute_reply": "2021-12-18T00:23:55.603628Z"
    },
    "papermill": {
     "duration": 0.054084,
     "end_time": "2021-12-18T00:23:55.604307",
     "exception": false,
     "start_time": "2021-12-18T00:23:55.550223",
     "status": "completed"
    },
    "tags": []
   },
   "outputs": [],
   "source": [
    "%load_ext autoreload\n",
    "%autoreload 2"
   ]
  },
  {
   "cell_type": "code",
   "execution_count": 2,
   "id": "22ef38dc",
   "metadata": {
    "execution": {
     "iopub.execute_input": "2021-12-18T00:23:55.662447Z",
     "iopub.status.busy": "2021-12-18T00:23:55.661812Z",
     "iopub.status.idle": "2021-12-18T00:23:56.325469Z",
     "shell.execute_reply": "2021-12-18T00:23:56.324943Z"
    },
    "papermill": {
     "duration": 0.694203,
     "end_time": "2021-12-18T00:23:56.325601",
     "exception": false,
     "start_time": "2021-12-18T00:23:55.631398",
     "status": "completed"
    },
    "tags": []
   },
   "outputs": [],
   "source": [
    "%matplotlib inline\n",
    "import numpy as np\n",
    "import matplotlib.pyplot as plt\n",
    "import pandas as pd"
   ]
  },
  {
   "cell_type": "markdown",
   "id": "ba036198",
   "metadata": {
    "papermill": {
     "duration": 0.026956,
     "end_time": "2021-12-18T00:23:56.378927",
     "exception": false,
     "start_time": "2021-12-18T00:23:56.351971",
     "status": "completed"
    },
    "tags": []
   },
   "source": [
    "From the command line run `pip install mnist`. This is a library that will help you bring down the mnist dataset. If you run this from a notebook, you need to put  `!pip install mnist` in a cell by itself."
   ]
  },
  {
   "cell_type": "code",
   "execution_count": 3,
   "id": "bb6ad8a1",
   "metadata": {
    "execution": {
     "iopub.execute_input": "2021-12-18T00:23:56.440755Z",
     "iopub.status.busy": "2021-12-18T00:23:56.439727Z",
     "iopub.status.idle": "2021-12-18T00:23:59.188031Z",
     "shell.execute_reply": "2021-12-18T00:23:59.187471Z"
    },
    "papermill": {
     "duration": 2.78302,
     "end_time": "2021-12-18T00:23:59.188168",
     "exception": false,
     "start_time": "2021-12-18T00:23:56.405148",
     "status": "completed"
    },
    "tags": []
   },
   "outputs": [
    {
     "name": "stdout",
     "output_type": "stream",
     "text": [
      "Collecting mnist\r\n"
     ]
    },
    {
     "name": "stdout",
     "output_type": "stream",
     "text": [
      "  Downloading mnist-0.2.2-py2.py3-none-any.whl (3.5 kB)\r\n"
     ]
    },
    {
     "name": "stdout",
     "output_type": "stream",
     "text": [
      "Requirement already satisfied: numpy in /opt/hostedtoolcache/Python/3.6.15/x64/lib/python3.6/site-packages (from mnist) (1.19.5)\r\n"
     ]
    },
    {
     "name": "stdout",
     "output_type": "stream",
     "text": [
      "Installing collected packages: mnist\r\n"
     ]
    },
    {
     "name": "stdout",
     "output_type": "stream",
     "text": [
      "Successfully installed mnist-0.2.2\r\n"
     ]
    }
   ],
   "source": [
    "!pip install mnist"
   ]
  },
  {
   "cell_type": "markdown",
   "id": "69df9c9a",
   "metadata": {
    "papermill": {
     "duration": 0.028188,
     "end_time": "2021-12-18T00:23:59.244630",
     "exception": false,
     "start_time": "2021-12-18T00:23:59.216442",
     "status": "completed"
    },
    "tags": []
   },
   "source": [
    "## Preparing the Data"
   ]
  },
  {
   "cell_type": "code",
   "execution_count": 4,
   "id": "7f69d806",
   "metadata": {
    "execution": {
     "iopub.execute_input": "2021-12-18T00:23:59.306296Z",
     "iopub.status.busy": "2021-12-18T00:23:59.305722Z",
     "iopub.status.idle": "2021-12-18T00:23:59.320614Z",
     "shell.execute_reply": "2021-12-18T00:23:59.321031Z"
    },
    "papermill": {
     "duration": 0.048335,
     "end_time": "2021-12-18T00:23:59.321170",
     "exception": false,
     "start_time": "2021-12-18T00:23:59.272835",
     "status": "completed"
    },
    "tags": []
   },
   "outputs": [],
   "source": [
    "import mnist"
   ]
  },
  {
   "cell_type": "code",
   "execution_count": 5,
   "id": "a411e44f",
   "metadata": {
    "execution": {
     "iopub.execute_input": "2021-12-18T00:23:59.387931Z",
     "iopub.status.busy": "2021-12-18T00:23:59.387328Z",
     "iopub.status.idle": "2021-12-18T00:24:00.053496Z",
     "shell.execute_reply": "2021-12-18T00:24:00.052818Z"
    },
    "papermill": {
     "duration": 0.704022,
     "end_time": "2021-12-18T00:24:00.053669",
     "exception": false,
     "start_time": "2021-12-18T00:23:59.349647",
     "status": "completed"
    },
    "tags": []
   },
   "outputs": [],
   "source": [
    "train_images = mnist.train_images()\n",
    "train_labels = mnist.train_labels()"
   ]
  },
  {
   "cell_type": "code",
   "execution_count": 6,
   "id": "dceab3a5",
   "metadata": {
    "execution": {
     "iopub.execute_input": "2021-12-18T00:24:00.115728Z",
     "iopub.status.busy": "2021-12-18T00:24:00.115123Z",
     "iopub.status.idle": "2021-12-18T00:24:00.132693Z",
     "shell.execute_reply": "2021-12-18T00:24:00.133238Z"
    },
    "papermill": {
     "duration": 0.050946,
     "end_time": "2021-12-18T00:24:00.133392",
     "exception": false,
     "start_time": "2021-12-18T00:24:00.082446",
     "status": "completed"
    },
    "tags": []
   },
   "outputs": [
    {
     "data": {
      "text/plain": [
       "((60000, 28, 28), (60000,))"
      ]
     },
     "execution_count": 6,
     "metadata": {},
     "output_type": "execute_result"
    }
   ],
   "source": [
    "train_images.shape, train_labels.shape"
   ]
  },
  {
   "cell_type": "code",
   "execution_count": 7,
   "id": "f50dc2bb",
   "metadata": {
    "execution": {
     "iopub.execute_input": "2021-12-18T00:24:00.194529Z",
     "iopub.status.busy": "2021-12-18T00:24:00.193458Z",
     "iopub.status.idle": "2021-12-18T00:24:00.445096Z",
     "shell.execute_reply": "2021-12-18T00:24:00.444449Z"
    },
    "papermill": {
     "duration": 0.282921,
     "end_time": "2021-12-18T00:24:00.445229",
     "exception": false,
     "start_time": "2021-12-18T00:24:00.162308",
     "status": "completed"
    },
    "tags": []
   },
   "outputs": [],
   "source": [
    "test_images = mnist.test_images()\n",
    "test_labels = mnist.test_labels()"
   ]
  },
  {
   "cell_type": "code",
   "execution_count": 8,
   "id": "fc38cf1b",
   "metadata": {
    "execution": {
     "iopub.execute_input": "2021-12-18T00:24:00.506797Z",
     "iopub.status.busy": "2021-12-18T00:24:00.506198Z",
     "iopub.status.idle": "2021-12-18T00:24:00.520837Z",
     "shell.execute_reply": "2021-12-18T00:24:00.520353Z"
    },
    "papermill": {
     "duration": 0.046407,
     "end_time": "2021-12-18T00:24:00.520970",
     "exception": false,
     "start_time": "2021-12-18T00:24:00.474563",
     "status": "completed"
    },
    "tags": []
   },
   "outputs": [
    {
     "data": {
      "text/plain": [
       "((10000, 28, 28), (10000,))"
      ]
     },
     "execution_count": 8,
     "metadata": {},
     "output_type": "execute_result"
    }
   ],
   "source": [
    "test_images.shape, test_labels.shape"
   ]
  },
  {
   "cell_type": "code",
   "execution_count": 9,
   "id": "f9ed8fe0",
   "metadata": {
    "execution": {
     "iopub.execute_input": "2021-12-18T00:24:00.581972Z",
     "iopub.status.busy": "2021-12-18T00:24:00.581372Z",
     "iopub.status.idle": "2021-12-18T00:24:00.745366Z",
     "shell.execute_reply": "2021-12-18T00:24:00.744842Z"
    },
    "papermill": {
     "duration": 0.195857,
     "end_time": "2021-12-18T00:24:00.745497",
     "exception": false,
     "start_time": "2021-12-18T00:24:00.549640",
     "status": "completed"
    },
    "tags": []
   },
   "outputs": [
    {
     "name": "stdout",
     "output_type": "stream",
     "text": [
      "2\n"
     ]
    },
    {
     "data": {
      "text/plain": [
       "<matplotlib.image.AxesImage at 0x7f3ec9eba518>"
      ]
     },
     "execution_count": 9,
     "metadata": {},
     "output_type": "execute_result"
    },
    {
     "data": {
      "image/png": "[encoded data removed]",
      "text/plain": [
       "<Figure size 432x288 with 1 Axes>"
      ]
     },
     "metadata": {
      "needs_background": "light"
     },
     "output_type": "display_data"
    }
   ],
   "source": [
    "image_index = 7776 # You may select anything up to 60,000\n",
    "print(train_labels[image_index]) \n",
    "plt.imshow(train_images[image_index], cmap='Greys')"
   ]
  },
  {
   "cell_type": "markdown",
   "id": "a8d2388d",
   "metadata": {
    "papermill": {
     "duration": 0.030361,
     "end_time": "2021-12-18T00:24:00.806603",
     "exception": false,
     "start_time": "2021-12-18T00:24:00.776242",
     "status": "completed"
    },
    "tags": []
   },
   "source": [
    "## Filter data to get 3 and 8 out"
   ]
  },
  {
   "cell_type": "code",
   "execution_count": 10,
   "id": "776f7fc7",
   "metadata": {
    "execution": {
     "iopub.execute_input": "2021-12-18T00:24:00.875391Z",
     "iopub.status.busy": "2021-12-18T00:24:00.872710Z",
     "iopub.status.idle": "2021-12-18T00:24:00.893041Z",
     "shell.execute_reply": "2021-12-18T00:24:00.892528Z"
    },
    "papermill": {
     "duration": 0.05614,
     "end_time": "2021-12-18T00:24:00.893178",
     "exception": false,
     "start_time": "2021-12-18T00:24:00.837038",
     "status": "completed"
    },
    "tags": []
   },
   "outputs": [],
   "source": [
    "train_filter = np.where((train_labels == 3 ) | (train_labels == 8))\n",
    "test_filter = np.where((test_labels == 3) | (test_labels == 8))\n",
    "X_train, y_train = train_images[train_filter], train_labels[train_filter]\n",
    "X_test, y_test = test_images[test_filter], test_labels[test_filter]"
   ]
  },
  {
   "cell_type": "markdown",
   "id": "948f0b7e",
   "metadata": {
    "papermill": {
     "duration": 0.030467,
     "end_time": "2021-12-18T00:24:00.954301",
     "exception": false,
     "start_time": "2021-12-18T00:24:00.923834",
     "status": "completed"
    },
    "tags": []
   },
   "source": [
    "We normalize the pizel values in the 0 to 1 range"
   ]
  },
  {
   "cell_type": "code",
   "execution_count": 11,
   "id": "ee4c2166",
   "metadata": {
    "execution": {
     "iopub.execute_input": "2021-12-18T00:24:01.019615Z",
     "iopub.status.busy": "2021-12-18T00:24:01.019000Z",
     "iopub.status.idle": "2021-12-18T00:24:01.073489Z",
     "shell.execute_reply": "2021-12-18T00:24:01.072935Z"
    },
    "papermill": {
     "duration": 0.088514,
     "end_time": "2021-12-18T00:24:01.073613",
     "exception": false,
     "start_time": "2021-12-18T00:24:00.985099",
     "status": "completed"
    },
    "tags": []
   },
   "outputs": [],
   "source": [
    "X_train = X_train/255.\n",
    "X_test = X_test/255."
   ]
  },
  {
   "cell_type": "markdown",
   "id": "ddcf4fab",
   "metadata": {
    "papermill": {
     "duration": 0.029446,
     "end_time": "2021-12-18T00:24:01.133188",
     "exception": false,
     "start_time": "2021-12-18T00:24:01.103742",
     "status": "completed"
    },
    "tags": []
   },
   "source": [
    "And setup the labels as 1 (when the digit is 3) and 0 (when the digit is 8)"
   ]
  },
  {
   "cell_type": "code",
   "execution_count": 12,
   "id": "7dc908f2",
   "metadata": {
    "execution": {
     "iopub.execute_input": "2021-12-18T00:24:01.196593Z",
     "iopub.status.busy": "2021-12-18T00:24:01.196028Z",
     "iopub.status.idle": "2021-12-18T00:24:01.209183Z",
     "shell.execute_reply": "2021-12-18T00:24:01.208679Z"
    },
    "papermill": {
     "duration": 0.046785,
     "end_time": "2021-12-18T00:24:01.209307",
     "exception": false,
     "start_time": "2021-12-18T00:24:01.162522",
     "status": "completed"
    },
    "tags": []
   },
   "outputs": [],
   "source": [
    "y_train = 1*(y_train==3)\n",
    "y_test = 1*(y_test==3)"
   ]
  },
  {
   "cell_type": "code",
   "execution_count": 13,
   "id": "01e4e969",
   "metadata": {
    "execution": {
     "iopub.execute_input": "2021-12-18T00:24:01.274235Z",
     "iopub.status.busy": "2021-12-18T00:24:01.273649Z",
     "iopub.status.idle": "2021-12-18T00:24:01.289047Z",
     "shell.execute_reply": "2021-12-18T00:24:01.288570Z"
    },
    "papermill": {
     "duration": 0.049862,
     "end_time": "2021-12-18T00:24:01.289178",
     "exception": false,
     "start_time": "2021-12-18T00:24:01.239316",
     "status": "completed"
    },
    "tags": []
   },
   "outputs": [
    {
     "data": {
      "text/plain": [
       "((11982, 28, 28), (1984, 28, 28))"
      ]
     },
     "execution_count": 13,
     "metadata": {},
     "output_type": "execute_result"
    }
   ],
   "source": [
    "X_train.shape, X_test.shape"
   ]
  },
  {
   "cell_type": "markdown",
   "id": "5ccf3f85",
   "metadata": {
    "papermill": {
     "duration": 0.029618,
     "end_time": "2021-12-18T00:24:01.347629",
     "exception": false,
     "start_time": "2021-12-18T00:24:01.318011",
     "status": "completed"
    },
    "tags": []
   },
   "source": [
    "We reshape the data to flatten the image pixels into a set of features or co-variates:"
   ]
  },
  {
   "cell_type": "code",
   "execution_count": 14,
   "id": "5286a4a3",
   "metadata": {
    "execution": {
     "iopub.execute_input": "2021-12-18T00:24:01.415638Z",
     "iopub.status.busy": "2021-12-18T00:24:01.415032Z",
     "iopub.status.idle": "2021-12-18T00:24:01.430088Z",
     "shell.execute_reply": "2021-12-18T00:24:01.430618Z"
    },
    "papermill": {
     "duration": 0.053012,
     "end_time": "2021-12-18T00:24:01.430770",
     "exception": false,
     "start_time": "2021-12-18T00:24:01.377758",
     "status": "completed"
    },
    "tags": []
   },
   "outputs": [
    {
     "data": {
      "text/plain": [
       "((11982, 784), (1984, 784))"
      ]
     },
     "execution_count": 14,
     "metadata": {},
     "output_type": "execute_result"
    }
   ],
   "source": [
    "X_train = X_train.reshape(X_train.shape[0], -1)\n",
    "X_test = X_test.reshape(X_test.shape[0], -1)\n",
    "X_train.shape, X_test.shape"
   ]
  },
  {
   "cell_type": "code",
   "execution_count": 15,
   "id": "73c5f88a",
   "metadata": {
    "execution": {
     "iopub.execute_input": "2021-12-18T00:24:01.497096Z",
     "iopub.status.busy": "2021-12-18T00:24:01.496485Z",
     "iopub.status.idle": "2021-12-18T00:24:01.517388Z",
     "shell.execute_reply": "2021-12-18T00:24:01.516898Z"
    },
    "papermill": {
     "duration": 0.056517,
     "end_time": "2021-12-18T00:24:01.517520",
     "exception": false,
     "start_time": "2021-12-18T00:24:01.461003",
     "status": "completed"
    },
    "tags": []
   },
   "outputs": [],
   "source": [
    "#Impoting functions from 'Kudzu'\n",
    "from kudzu.model import Model\n",
    "from kudzu.train import Learner\n",
    "from kudzu.optim import GD\n",
    "from kudzu.data import Data, Sampler,Dataloader\n",
    "\n",
    "from kudzu.callbacks import AccCallback\n",
    "from kudzu.callbacks import ClfCallback\n",
    "\n",
    "from kudzu.loss import MSE\n",
    "\n",
    "from kudzu.layer import Sigmoid,Relu\n",
    "from kudzu.layer import Affine"
   ]
  },
  {
   "cell_type": "markdown",
   "id": "bc01172a",
   "metadata": {
    "papermill": {
     "duration": 0.029879,
     "end_time": "2021-12-18T00:24:01.578679",
     "exception": false,
     "start_time": "2021-12-18T00:24:01.548800",
     "status": "completed"
    },
    "tags": []
   },
   "source": [
    "### Let us create a `Config` class, to store important parameters. \n",
    "This class essentially plays the role of a dictionary."
   ]
  },
  {
   "cell_type": "code",
   "execution_count": 16,
   "id": "978281aa",
   "metadata": {
    "execution": {
     "iopub.execute_input": "2021-12-18T00:24:01.641639Z",
     "iopub.status.busy": "2021-12-18T00:24:01.641030Z",
     "iopub.status.idle": "2021-12-18T00:24:01.656291Z",
     "shell.execute_reply": "2021-12-18T00:24:01.655365Z"
    },
    "papermill": {
     "duration": 0.048308,
     "end_time": "2021-12-18T00:24:01.656422",
     "exception": false,
     "start_time": "2021-12-18T00:24:01.608114",
     "status": "completed"
    },
    "tags": []
   },
   "outputs": [],
   "source": [
    "class Config:\n",
    "    pass\n",
    "config = Config()\n",
    "config.lr = 0.001\n",
    "config.num_epochs = 250\n",
    "config.bs = 50"
   ]
  },
  {
   "cell_type": "markdown",
   "id": "1385fa59",
   "metadata": {
    "papermill": {
     "duration": 0.029036,
     "end_time": "2021-12-18T00:24:01.715111",
     "exception": false,
     "start_time": "2021-12-18T00:24:01.686075",
     "status": "completed"
    },
    "tags": []
   },
   "source": [
    "### Running Models with the Training data\n",
    "Details about the network layers:\n",
    "- A first affine layer has 784 inputs and does 100 affine transforms. These are followed by a Relu\n",
    "- A second affine layer has 100 inputs from the 100 activations of the past layer, and does 100 affine transforms. These are followed by a Relu\n",
    "- A third affine layer has 100 activations and does 2 affine transformations to create an embedding for visualization. There is no non-linearity here.\n",
    "- A final \"logistic regression\" which has an affine transform from 2 inputs to 1 output, which is squeezed through a sigmoid.\n"
   ]
  },
  {
   "cell_type": "code",
   "execution_count": 17,
   "id": "2b9c66db",
   "metadata": {
    "execution": {
     "iopub.execute_input": "2021-12-18T00:24:01.780695Z",
     "iopub.status.busy": "2021-12-18T00:24:01.780080Z",
     "iopub.status.idle": "2021-12-18T00:24:01.794974Z",
     "shell.execute_reply": "2021-12-18T00:24:01.794455Z"
    },
    "papermill": {
     "duration": 0.050323,
     "end_time": "2021-12-18T00:24:01.795098",
     "exception": false,
     "start_time": "2021-12-18T00:24:01.744775",
     "status": "completed"
    },
    "tags": []
   },
   "outputs": [],
   "source": [
    "data = Data(X_train, y_train.reshape(-1,1))\n",
    "sampler = Sampler(data, config.bs, shuffle=True)\n",
    "\n",
    "dl = Dataloader(data, sampler)\n",
    "\n",
    "opt = GD(config.lr)\n",
    "loss = MSE()"
   ]
  },
  {
   "cell_type": "code",
   "execution_count": 18,
   "id": "b275e4c2",
   "metadata": {
    "execution": {
     "iopub.execute_input": "2021-12-18T00:24:01.859669Z",
     "iopub.status.busy": "2021-12-18T00:24:01.859069Z",
     "iopub.status.idle": "2021-12-18T00:24:01.873610Z",
     "shell.execute_reply": "2021-12-18T00:24:01.873065Z"
    },
    "papermill": {
     "duration": 0.049249,
     "end_time": "2021-12-18T00:24:01.873735",
     "exception": false,
     "start_time": "2021-12-18T00:24:01.824486",
     "status": "completed"
    },
    "tags": []
   },
   "outputs": [],
   "source": [
    "training_data_x = X_train\n",
    "testing_data_x = X_test\n",
    "training_data_y = y_train.reshape(-1,1)\n",
    "testing_data_y = y_test.reshape(-1,1)"
   ]
  },
  {
   "cell_type": "code",
   "execution_count": 19,
   "id": "76951160",
   "metadata": {
    "execution": {
     "iopub.execute_input": "2021-12-18T00:24:01.940325Z",
     "iopub.status.busy": "2021-12-18T00:24:01.938997Z",
     "iopub.status.idle": "2021-12-18T00:24:01.958561Z",
     "shell.execute_reply": "2021-12-18T00:24:01.959046Z"
    },
    "papermill": {
     "duration": 0.054744,
     "end_time": "2021-12-18T00:24:01.959195",
     "exception": false,
     "start_time": "2021-12-18T00:24:01.904451",
     "status": "completed"
    },
    "tags": []
   },
   "outputs": [
    {
     "name": "stdout",
     "output_type": "stream",
     "text": [
      "xavier\n",
      "xavier\n",
      "xavier\n",
      "xavier\n",
      "xavier\n"
     ]
    }
   ],
   "source": [
    "layers = [Affine(\"first\", 784, 100), Relu(\"first\"), Affine(\"second\", 100, 100), Relu(\"second\"), Affine(\"third\", 100, 2), Affine(\"last\", 2, 1), Sigmoid(\"last\")]\n",
    "model_nn = Model(layers)\n",
    "model_lr = Model([Affine(\"logits\", 784, 1), Sigmoid(\"sigmoid\")])"
   ]
  },
  {
   "cell_type": "code",
   "execution_count": 20,
   "id": "6eede77a",
   "metadata": {
    "execution": {
     "iopub.execute_input": "2021-12-18T00:24:02.027335Z",
     "iopub.status.busy": "2021-12-18T00:24:02.023860Z",
     "iopub.status.idle": "2021-12-18T00:24:02.039361Z",
     "shell.execute_reply": "2021-12-18T00:24:02.038839Z"
    },
    "papermill": {
     "duration": 0.049821,
     "end_time": "2021-12-18T00:24:02.039482",
     "exception": false,
     "start_time": "2021-12-18T00:24:01.989661",
     "status": "completed"
    },
    "tags": []
   },
   "outputs": [],
   "source": [
    "nn_learner = Learner(loss, model_nn, opt, config.num_epochs)\n",
    "acc_nn = ClfCallback(nn_learner, config.bs, training_data_x , testing_data_x, training_data_y, testing_data_y)\n",
    "nn_learner.set_callbacks([acc_nn])"
   ]
  },
  {
   "cell_type": "code",
   "execution_count": 21,
   "id": "877b6cc7",
   "metadata": {
    "execution": {
     "iopub.execute_input": "2021-12-18T00:24:02.105451Z",
     "iopub.status.busy": "2021-12-18T00:24:02.104861Z",
     "iopub.status.idle": "2021-12-18T00:24:02.119006Z",
     "shell.execute_reply": "2021-12-18T00:24:02.118510Z"
    },
    "papermill": {
     "duration": 0.049361,
     "end_time": "2021-12-18T00:24:02.119124",
     "exception": false,
     "start_time": "2021-12-18T00:24:02.069763",
     "status": "completed"
    },
    "tags": []
   },
   "outputs": [],
   "source": [
    "lr_learner = Learner(loss, model_lr, opt, config.num_epochs)\n",
    "acc_lr = ClfCallback(lr_learner, config.bs, training_data_x , testing_data_x, training_data_y, testing_data_y)\n",
    "lr_learner.set_callbacks([acc_lr])"
   ]
  },
  {
   "cell_type": "code",
   "execution_count": 22,
   "id": "d9b133c3",
   "metadata": {
    "execution": {
     "iopub.execute_input": "2021-12-18T00:24:02.183847Z",
     "iopub.status.busy": "2021-12-18T00:24:02.183294Z",
     "iopub.status.idle": "2021-12-18T00:25:28.081611Z",
     "shell.execute_reply": "2021-12-18T00:25:28.082393Z"
    },
    "papermill": {
     "duration": 85.933866,
     "end_time": "2021-12-18T00:25:28.082587",
     "exception": false,
     "start_time": "2021-12-18T00:24:02.148721",
     "status": "completed"
    },
    "tags": []
   },
   "outputs": [
    {
     "name": "stdout",
     "output_type": "stream",
     "text": [
      "Epoch 0, Loss 0.225\n",
      "Training Accuracy: 0.7949, Testing Accuracy: 0.8034\n",
      "\n"
     ]
    },
    {
     "name": "stdout",
     "output_type": "stream",
     "text": [
      "Epoch 10, Loss 0.0717\n",
      "Training Accuracy: 0.9302, Testing Accuracy: 0.9420\n",
      "\n"
     ]
    },
    {
     "name": "stdout",
     "output_type": "stream",
     "text": [
      "Epoch 20, Loss 0.049\n",
      "Training Accuracy: 0.9468, Testing Accuracy: 0.9587\n",
      "\n"
     ]
    },
    {
     "name": "stdout",
     "output_type": "stream",
     "text": [
      "Epoch 30, Loss 0.0406\n",
      "Training Accuracy: 0.9541, Testing Accuracy: 0.9617\n",
      "\n"
     ]
    },
    {
     "name": "stdout",
     "output_type": "stream",
     "text": [
      "Epoch 40, Loss 0.0361\n",
      "Training Accuracy: 0.9581, Testing Accuracy: 0.9652\n",
      "\n"
     ]
    },
    {
     "name": "stdout",
     "output_type": "stream",
     "text": [
      "Epoch 50, Loss 0.0331\n",
      "Training Accuracy: 0.9614, Testing Accuracy: 0.9672\n",
      "\n"
     ]
    },
    {
     "name": "stdout",
     "output_type": "stream",
     "text": [
      "Epoch 60, Loss 0.0309\n",
      "Training Accuracy: 0.9639, Testing Accuracy: 0.9682\n",
      "\n"
     ]
    },
    {
     "name": "stdout",
     "output_type": "stream",
     "text": [
      "Epoch 70, Loss 0.0292\n",
      "Training Accuracy: 0.9656, Testing Accuracy: 0.9693\n",
      "\n"
     ]
    },
    {
     "name": "stdout",
     "output_type": "stream",
     "text": [
      "Epoch 80, Loss 0.0277\n",
      "Training Accuracy: 0.9675, Testing Accuracy: 0.9698\n",
      "\n"
     ]
    },
    {
     "name": "stdout",
     "output_type": "stream",
     "text": [
      "Epoch 90, Loss 0.0265\n",
      "Training Accuracy: 0.9689, Testing Accuracy: 0.9708\n",
      "\n"
     ]
    },
    {
     "name": "stdout",
     "output_type": "stream",
     "text": [
      "Epoch 100, Loss 0.0254\n",
      "Training Accuracy: 0.9706, Testing Accuracy: 0.9718\n",
      "\n"
     ]
    },
    {
     "name": "stdout",
     "output_type": "stream",
     "text": [
      "Epoch 110, Loss 0.0244\n",
      "Training Accuracy: 0.9717, Testing Accuracy: 0.9728\n",
      "\n"
     ]
    },
    {
     "name": "stdout",
     "output_type": "stream",
     "text": [
      "Epoch 120, Loss 0.0235\n",
      "Training Accuracy: 0.9730, Testing Accuracy: 0.9728\n",
      "\n"
     ]
    },
    {
     "name": "stdout",
     "output_type": "stream",
     "text": [
      "Epoch 130, Loss 0.0227\n",
      "Training Accuracy: 0.9740, Testing Accuracy: 0.9728\n",
      "\n"
     ]
    },
    {
     "name": "stdout",
     "output_type": "stream",
     "text": [
      "Epoch 140, Loss 0.022\n",
      "Training Accuracy: 0.9750, Testing Accuracy: 0.9723\n",
      "\n"
     ]
    },
    {
     "name": "stdout",
     "output_type": "stream",
     "text": [
      "Epoch 150, Loss 0.0213\n",
      "Training Accuracy: 0.9759, Testing Accuracy: 0.9723\n",
      "\n"
     ]
    },
    {
     "name": "stdout",
     "output_type": "stream",
     "text": [
      "Epoch 160, Loss 0.0207\n",
      "Training Accuracy: 0.9768, Testing Accuracy: 0.9723\n",
      "\n"
     ]
    },
    {
     "name": "stdout",
     "output_type": "stream",
     "text": [
      "Epoch 170, Loss 0.0201\n",
      "Training Accuracy: 0.9776, Testing Accuracy: 0.9738\n",
      "\n"
     ]
    },
    {
     "name": "stdout",
     "output_type": "stream",
     "text": [
      "Epoch 180, Loss 0.0195\n",
      "Training Accuracy: 0.9784, Testing Accuracy: 0.9738\n",
      "\n"
     ]
    },
    {
     "name": "stdout",
     "output_type": "stream",
     "text": [
      "Epoch 190, Loss 0.019\n",
      "Training Accuracy: 0.9793, Testing Accuracy: 0.9748\n",
      "\n"
     ]
    },
    {
     "name": "stdout",
     "output_type": "stream",
     "text": [
      "Epoch 200, Loss 0.0185\n",
      "Training Accuracy: 0.9797, Testing Accuracy: 0.9758\n",
      "\n"
     ]
    },
    {
     "name": "stdout",
     "output_type": "stream",
     "text": [
      "Epoch 210, Loss 0.0181\n",
      "Training Accuracy: 0.9804, Testing Accuracy: 0.9768\n",
      "\n"
     ]
    },
    {
     "name": "stdout",
     "output_type": "stream",
     "text": [
      "Epoch 220, Loss 0.0176\n",
      "Training Accuracy: 0.9808, Testing Accuracy: 0.9773\n",
      "\n"
     ]
    },
    {
     "name": "stdout",
     "output_type": "stream",
     "text": [
      "Epoch 230, Loss 0.0172\n",
      "Training Accuracy: 0.9813, Testing Accuracy: 0.9778\n",
      "\n"
     ]
    },
    {
     "name": "stdout",
     "output_type": "stream",
     "text": [
      "Epoch 240, Loss 0.0168\n",
      "Training Accuracy: 0.9816, Testing Accuracy: 0.9783\n",
      "\n"
     ]
    },
    {
     "data": {
      "text/plain": [
       "0.0069837958605012945"
      ]
     },
     "execution_count": 22,
     "metadata": {},
     "output_type": "execute_result"
    }
   ],
   "source": [
    "nn_learner.train_loop(dl)"
   ]
  },
  {
   "cell_type": "code",
   "execution_count": 23,
   "id": "e0163366",
   "metadata": {
    "execution": {
     "iopub.execute_input": "2021-12-18T00:25:28.167872Z",
     "iopub.status.busy": "2021-12-18T00:25:28.167265Z",
     "iopub.status.idle": "2021-12-18T00:25:43.430568Z",
     "shell.execute_reply": "2021-12-18T00:25:43.431339Z"
    },
    "papermill": {
     "duration": 15.310528,
     "end_time": "2021-12-18T00:25:43.431506",
     "exception": false,
     "start_time": "2021-12-18T00:25:28.120978",
     "status": "completed"
    },
    "tags": []
   },
   "outputs": [
    {
     "name": "stdout",
     "output_type": "stream",
     "text": [
      "Epoch 0, Loss 0.2335\n",
      "Training Accuracy: 0.7241, Testing Accuracy: 0.7288\n",
      "\n"
     ]
    },
    {
     "name": "stdout",
     "output_type": "stream",
     "text": [
      "Epoch 10, Loss 0.1032\n",
      "Training Accuracy: 0.9058, Testing Accuracy: 0.9163\n",
      "\n"
     ]
    },
    {
     "name": "stdout",
     "output_type": "stream",
     "text": [
      "Epoch 20, Loss 0.0795\n",
      "Training Accuracy: 0.9271, Testing Accuracy: 0.9365\n",
      "\n"
     ]
    },
    {
     "name": "stdout",
     "output_type": "stream",
     "text": [
      "Epoch 30, Loss 0.0684\n",
      "Training Accuracy: 0.9355, Testing Accuracy: 0.9486\n",
      "\n"
     ]
    },
    {
     "name": "stdout",
     "output_type": "stream",
     "text": [
      "Epoch 40, Loss 0.0617\n",
      "Training Accuracy: 0.9407, Testing Accuracy: 0.9536\n",
      "\n"
     ]
    },
    {
     "name": "stdout",
     "output_type": "stream",
     "text": [
      "Epoch 50, Loss 0.0571\n",
      "Training Accuracy: 0.9432, Testing Accuracy: 0.9587\n",
      "\n"
     ]
    },
    {
     "name": "stdout",
     "output_type": "stream",
     "text": [
      "Epoch 60, Loss 0.0537\n",
      "Training Accuracy: 0.9464, Testing Accuracy: 0.9582\n",
      "\n"
     ]
    },
    {
     "name": "stdout",
     "output_type": "stream",
     "text": [
      "Epoch 70, Loss 0.0512\n",
      "Training Accuracy: 0.9497, Testing Accuracy: 0.9612\n",
      "\n"
     ]
    },
    {
     "name": "stdout",
     "output_type": "stream",
     "text": [
      "Epoch 80, Loss 0.0491\n",
      "Training Accuracy: 0.9515, Testing Accuracy: 0.9617\n",
      "\n"
     ]
    },
    {
     "name": "stdout",
     "output_type": "stream",
     "text": [
      "Epoch 90, Loss 0.0474\n",
      "Training Accuracy: 0.9524, Testing Accuracy: 0.9617\n",
      "\n"
     ]
    },
    {
     "name": "stdout",
     "output_type": "stream",
     "text": [
      "Epoch 100, Loss 0.046\n",
      "Training Accuracy: 0.9533, Testing Accuracy: 0.9622\n",
      "\n"
     ]
    },
    {
     "name": "stdout",
     "output_type": "stream",
     "text": [
      "Epoch 110, Loss 0.0447\n",
      "Training Accuracy: 0.9543, Testing Accuracy: 0.9622\n",
      "\n"
     ]
    },
    {
     "name": "stdout",
     "output_type": "stream",
     "text": [
      "Epoch 120, Loss 0.0437\n",
      "Training Accuracy: 0.9548, Testing Accuracy: 0.9642\n",
      "\n"
     ]
    },
    {
     "name": "stdout",
     "output_type": "stream",
     "text": [
      "Epoch 130, Loss 0.0427\n",
      "Training Accuracy: 0.9559, Testing Accuracy: 0.9647\n",
      "\n"
     ]
    },
    {
     "name": "stdout",
     "output_type": "stream",
     "text": [
      "Epoch 140, Loss 0.0419\n",
      "Training Accuracy: 0.9564, Testing Accuracy: 0.9657\n",
      "\n"
     ]
    },
    {
     "name": "stdout",
     "output_type": "stream",
     "text": [
      "Epoch 150, Loss 0.0412\n",
      "Training Accuracy: 0.9571, Testing Accuracy: 0.9652\n",
      "\n"
     ]
    },
    {
     "name": "stdout",
     "output_type": "stream",
     "text": [
      "Epoch 160, Loss 0.0405\n",
      "Training Accuracy: 0.9577, Testing Accuracy: 0.9657\n",
      "\n"
     ]
    },
    {
     "name": "stdout",
     "output_type": "stream",
     "text": [
      "Epoch 170, Loss 0.0399\n",
      "Training Accuracy: 0.9583, Testing Accuracy: 0.9652\n",
      "\n"
     ]
    },
    {
     "name": "stdout",
     "output_type": "stream",
     "text": [
      "Epoch 180, Loss 0.0393\n",
      "Training Accuracy: 0.9588, Testing Accuracy: 0.9652\n",
      "\n"
     ]
    },
    {
     "name": "stdout",
     "output_type": "stream",
     "text": [
      "Epoch 190, Loss 0.0388\n",
      "Training Accuracy: 0.9591, Testing Accuracy: 0.9667\n",
      "\n"
     ]
    },
    {
     "name": "stdout",
     "output_type": "stream",
     "text": [
      "Epoch 200, Loss 0.0383\n",
      "Training Accuracy: 0.9594, Testing Accuracy: 0.9667\n",
      "\n"
     ]
    },
    {
     "name": "stdout",
     "output_type": "stream",
     "text": [
      "Epoch 210, Loss 0.0379\n",
      "Training Accuracy: 0.9595, Testing Accuracy: 0.9667\n",
      "\n"
     ]
    },
    {
     "name": "stdout",
     "output_type": "stream",
     "text": [
      "Epoch 220, Loss 0.0375\n",
      "Training Accuracy: 0.9600, Testing Accuracy: 0.9667\n",
      "\n"
     ]
    },
    {
     "name": "stdout",
     "output_type": "stream",
     "text": [
      "Epoch 230, Loss 0.0371\n",
      "Training Accuracy: 0.9604, Testing Accuracy: 0.9662\n",
      "\n"
     ]
    },
    {
     "name": "stdout",
     "output_type": "stream",
     "text": [
      "Epoch 240, Loss 0.0367\n",
      "Training Accuracy: 0.9608, Testing Accuracy: 0.9672\n",
      "\n"
     ]
    },
    {
     "data": {
      "text/plain": [
       "0.028485773269386956"
      ]
     },
     "execution_count": 23,
     "metadata": {},
     "output_type": "execute_result"
    }
   ],
   "source": [
    "lr_learner.train_loop(dl)"
   ]
  },
  {
   "cell_type": "code",
   "execution_count": 24,
   "id": "ca410940",
   "metadata": {
    "execution": {
     "iopub.execute_input": "2021-12-18T00:25:43.539914Z",
     "iopub.status.busy": "2021-12-18T00:25:43.539281Z",
     "iopub.status.idle": "2021-12-18T00:25:43.790147Z",
     "shell.execute_reply": "2021-12-18T00:25:43.789613Z"
    },
    "papermill": {
     "duration": 0.310988,
     "end_time": "2021-12-18T00:25:43.790282",
     "exception": false,
     "start_time": "2021-12-18T00:25:43.479294",
     "status": "completed"
    },
    "tags": []
   },
   "outputs": [
    {
     "data": {
      "text/plain": [
       "<matplotlib.legend.Legend at 0x7f3ec9a94c88>"
      ]
     },
     "execution_count": 24,
     "metadata": {},
     "output_type": "execute_result"
    },
    {
     "data": {
      "image/png": "[encoded data removed]",
      "text/plain": [
       "<Figure size 1080x720 with 1 Axes>"
      ]
     },
     "metadata": {
      "needs_background": "light"
     },
     "output_type": "display_data"
    }
   ],
   "source": [
    "#comparing the results of NN and LR\n",
    "plt.figure(figsize=(15,10))\n",
    "\n",
    "# Neural Network plots\n",
    "plt.plot(acc_nn.accuracies, 'r-', label = \"Training Accuracies - NN\")\n",
    "plt.plot(acc_nn.test_accuracies, 'g-', label = \"Testing Accuracies - NN\")\n",
    "\n",
    "# Logistic Regression plots\n",
    "plt.plot(acc_lr.accuracies, 'k-', label = \"Training Accuracies - LR\")\n",
    "plt.plot(acc_lr.test_accuracies, 'b-', label = \"Testing Accuracies - LR\")\n",
    "plt.legend()"
   ]
  },
  {
   "cell_type": "markdown",
   "id": "80dfb35c",
   "metadata": {
    "papermill": {
     "duration": 0.046562,
     "end_time": "2021-12-18T00:25:43.884006",
     "exception": false,
     "start_time": "2021-12-18T00:25:43.837444",
     "status": "completed"
    },
    "tags": []
   },
   "source": [
    "#### Plotting the outputs of this layer of the NN.\n"
   ]
  },
  {
   "cell_type": "code",
   "execution_count": 25,
   "id": "45eb2ff5",
   "metadata": {
    "execution": {
     "iopub.execute_input": "2021-12-18T00:25:43.981321Z",
     "iopub.status.busy": "2021-12-18T00:25:43.980699Z",
     "iopub.status.idle": "2021-12-18T00:25:44.001579Z",
     "shell.execute_reply": "2021-12-18T00:25:44.002069Z"
    },
    "papermill": {
     "duration": 0.070999,
     "end_time": "2021-12-18T00:25:44.002223",
     "exception": false,
     "start_time": "2021-12-18T00:25:43.931224",
     "status": "completed"
    },
    "tags": []
   },
   "outputs": [],
   "source": [
    "new_model = Model(layers[:-2])\n",
    "testing_plot = new_model(testing_data_x)"
   ]
  },
  {
   "cell_type": "code",
   "execution_count": 26,
   "id": "4c0a5485",
   "metadata": {
    "execution": {
     "iopub.execute_input": "2021-12-18T00:25:44.107373Z",
     "iopub.status.busy": "2021-12-18T00:25:44.105755Z",
     "iopub.status.idle": "2021-12-18T00:25:44.333967Z",
     "shell.execute_reply": "2021-12-18T00:25:44.334651Z"
    },
    "papermill": {
     "duration": 0.284752,
     "end_time": "2021-12-18T00:25:44.334852",
     "exception": false,
     "start_time": "2021-12-18T00:25:44.050100",
     "status": "completed"
    },
    "tags": []
   },
   "outputs": [
    {
     "data": {
      "text/plain": [
       "Text(0.5, 1.0, 'Outputs')"
      ]
     },
     "execution_count": 26,
     "metadata": {},
     "output_type": "execute_result"
    },
    {
     "data": {
      "image/png": "[encoded data removed]",
      "text/plain": [
       "<Figure size 576x504 with 1 Axes>"
      ]
     },
     "metadata": {
      "needs_background": "light"
     },
     "output_type": "display_data"
    }
   ],
   "source": [
    "# Plotting the scatter plot of points and color coding by class\n",
    "plt.figure(figsize=(8,7))\n",
    "plt.scatter(testing_plot[:,0], testing_plot[:,1], alpha = 0.1, c = y_test.ravel());\n",
    "plt.title('Outputs')"
   ]
  },
  {
   "cell_type": "markdown",
   "id": "a74fcf8f",
   "metadata": {
    "papermill": {
     "duration": 0.050435,
     "end_time": "2021-12-18T00:25:44.436877",
     "exception": false,
     "start_time": "2021-12-18T00:25:44.386442",
     "status": "completed"
    },
    "tags": []
   },
   "source": [
    "Probability contours"
   ]
  },
  {
   "cell_type": "code",
   "execution_count": 27,
   "id": "d0afc8e3",
   "metadata": {
    "execution": {
     "iopub.execute_input": "2021-12-18T00:25:44.543946Z",
     "iopub.status.busy": "2021-12-18T00:25:44.543316Z",
     "iopub.status.idle": "2021-12-18T00:25:44.552981Z",
     "shell.execute_reply": "2021-12-18T00:25:44.552461Z"
    },
    "papermill": {
     "duration": 0.067425,
     "end_time": "2021-12-18T00:25:44.553111",
     "exception": false,
     "start_time": "2021-12-18T00:25:44.485686",
     "status": "completed"
    },
    "tags": []
   },
   "outputs": [],
   "source": [
    "model_prob = Model(layers[-2:]) "
   ]
  },
  {
   "cell_type": "code",
   "execution_count": 28,
   "id": "9b96e238",
   "metadata": {
    "execution": {
     "iopub.execute_input": "2021-12-18T00:25:44.691683Z",
     "iopub.status.busy": "2021-12-18T00:25:44.691059Z",
     "iopub.status.idle": "2021-12-18T00:25:44.706603Z",
     "shell.execute_reply": "2021-12-18T00:25:44.707077Z"
    },
    "papermill": {
     "duration": 0.072927,
     "end_time": "2021-12-18T00:25:44.707238",
     "exception": false,
     "start_time": "2021-12-18T00:25:44.634311",
     "status": "completed"
    },
    "tags": []
   },
   "outputs": [],
   "source": [
    "#creating the x and y ranges according to the above generated plot.\n",
    "x_range = np.linspace(-4, 1, 100) \n",
    "y_range = np.linspace(-6, 6, 100) \n",
    "x_grid, y_grid = np.meshgrid(x_range, y_range) # x_grid and y_grig are of size 100 X 100\n",
    "\n",
    "# converting x_grid and y_grid to continuous arrays\n",
    "x_gridflat = np.ravel(x_grid)\n",
    "y_gridflat = np.ravel(y_grid)\n",
    "\n",
    "# The last layer of the current model takes two columns as input. Hence transpose of np.vstack() is required.\n",
    "X = np.vstack((x_gridflat, y_gridflat)).T\n",
    "\n",
    "prob_contour = model_prob(X).reshape(100,100) "
   ]
  },
  {
   "cell_type": "code",
   "execution_count": 29,
   "id": "da72499a",
   "metadata": {
    "execution": {
     "iopub.execute_input": "2021-12-18T00:25:44.820510Z",
     "iopub.status.busy": "2021-12-18T00:25:44.819905Z",
     "iopub.status.idle": "2021-12-18T00:25:45.105554Z",
     "shell.execute_reply": "2021-12-18T00:25:45.105030Z"
    },
    "papermill": {
     "duration": 0.34576,
     "end_time": "2021-12-18T00:25:45.105688",
     "exception": false,
     "start_time": "2021-12-18T00:25:44.759928",
     "status": "completed"
    },
    "tags": []
   },
   "outputs": [
    {
     "data": {
      "image/png": "[encoded data removed]",
      "text/plain": [
       "<Figure size 720x648 with 1 Axes>"
      ]
     },
     "metadata": {
      "needs_background": "light"
     },
     "output_type": "display_data"
    }
   ],
   "source": [
    "plt.figure(figsize=(10,9))\n",
    "plt.scatter(testing_plot[:,0], testing_plot[:,1], alpha = 0.1, c = y_test.ravel())\n",
    "contours = plt.contour(x_grid,y_grid,prob_contour)\n",
    "plt.title('Probability Contours')\n",
    "plt.clabel(contours, inline = True );"
   ]
  },
  {
   "cell_type": "code",
   "execution_count": null,
   "id": "e81b4ac7",
   "metadata": {
    "papermill": {
     "duration": 0.054547,
     "end_time": "2021-12-18T00:25:45.214999",
     "exception": false,
     "start_time": "2021-12-18T00:25:45.160452",
     "status": "completed"
    },
    "tags": []
   },
   "outputs": [],
   "source": []
  }
 ],
 "metadata": {
  "kernelspec": {
   "display_name": "Python 3",
   "language": "python",
   "name": "python3"
  },
  "language_info": {
   "codemirror_mode": {
    "name": "ipython",
    "version": 3
   },
   "file_extension": ".py",
   "mimetype": "text/x-python",
   "name": "python",
   "nbconvert_exporter": "python",
   "pygments_lexer": "ipython3",
   "version": "3.6.15"
  },
  "papermill": {
   "default_parameters": {},
   "duration": 111.528723,
   "end_time": "2021-12-18T00:25:45.679201",
   "environment_variables": {},
   "exception": null,
   "input_path": "2020-08-11-part2.ipynb",
   "output_path": "2020-08-11-part2.ipynb",
   "parameters": {},
   "start_time": "2021-12-18T00:23:54.150478",
   "version": "2.3.3"
  }
 },
 "nbformat": 4,
 "nbformat_minor": 5
}