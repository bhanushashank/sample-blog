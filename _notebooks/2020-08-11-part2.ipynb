{
 "cells": [
  {
   "cell_type": "markdown",
   "id": "98380cd3",
   "metadata": {
    "papermill": {
     "duration": 0.027997,
     "end_time": "2022-03-19T20:08:23.265845",
     "exception": false,
     "start_time": "2022-03-19T20:08:23.237848",
     "status": "completed"
    },
    "tags": []
   },
   "source": [
    "# Distinguish Your Own Digits (DYOD)"
   ]
  },
  {
   "cell_type": "markdown",
   "id": "ef31240d",
   "metadata": {
    "papermill": {
     "duration": 0.025481,
     "end_time": "2022-03-19T20:08:23.316101",
     "exception": false,
     "start_time": "2022-03-19T20:08:23.290620",
     "status": "completed"
    },
    "tags": []
   },
   "source": [
    "You are going to write a classifier that distinguishes between the number 3 and number 8."
   ]
  },
  {
   "cell_type": "code",
   "execution_count": 1,
   "id": "b15c8646",
   "metadata": {
    "execution": {
     "iopub.execute_input": "2022-03-19T20:08:23.374873Z",
     "iopub.status.busy": "2022-03-19T20:08:23.374329Z",
     "iopub.status.idle": "2022-03-19T20:08:23.385506Z",
     "shell.execute_reply": "2022-03-19T20:08:23.385089Z"
    },
    "papermill": {
     "duration": 0.045461,
     "end_time": "2022-03-19T20:08:23.385632",
     "exception": false,
     "start_time": "2022-03-19T20:08:23.340171",
     "status": "completed"
    },
    "tags": []
   },
   "outputs": [],
   "source": [
    "%load_ext autoreload\n",
    "%autoreload 2"
   ]
  },
  {
   "cell_type": "code",
   "execution_count": 2,
   "id": "22ef38dc",
   "metadata": {
    "execution": {
     "iopub.execute_input": "2022-03-19T20:08:23.441804Z",
     "iopub.status.busy": "2022-03-19T20:08:23.441293Z",
     "iopub.status.idle": "2022-03-19T20:08:24.011782Z",
     "shell.execute_reply": "2022-03-19T20:08:24.011248Z"
    },
    "papermill": {
     "duration": 0.602203,
     "end_time": "2022-03-19T20:08:24.011930",
     "exception": false,
     "start_time": "2022-03-19T20:08:23.409727",
     "status": "completed"
    },
    "tags": []
   },
   "outputs": [],
   "source": [
    "%matplotlib inline\n",
    "import numpy as np\n",
    "import matplotlib.pyplot as plt\n",
    "import pandas as pd"
   ]
  },
  {
   "cell_type": "markdown",
   "id": "ba036198",
   "metadata": {
    "papermill": {
     "duration": 0.024165,
     "end_time": "2022-03-19T20:08:24.061615",
     "exception": false,
     "start_time": "2022-03-19T20:08:24.037450",
     "status": "completed"
    },
    "tags": []
   },
   "source": [
    "From the command line run `pip install mnist`. This is a library that will help you bring down the mnist dataset. If you run this from a notebook, you need to put  `!pip install mnist` in a cell by itself."
   ]
  },
  {
   "cell_type": "code",
   "execution_count": 3,
   "id": "bb6ad8a1",
   "metadata": {
    "execution": {
     "iopub.execute_input": "2022-03-19T20:08:24.114729Z",
     "iopub.status.busy": "2022-03-19T20:08:24.114206Z",
     "iopub.status.idle": "2022-03-19T20:08:25.776530Z",
     "shell.execute_reply": "2022-03-19T20:08:25.776017Z"
    },
    "papermill": {
     "duration": 1.690853,
     "end_time": "2022-03-19T20:08:25.776657",
     "exception": false,
     "start_time": "2022-03-19T20:08:24.085804",
     "status": "completed"
    },
    "tags": []
   },
   "outputs": [
    {
     "name": "stdout",
     "output_type": "stream",
     "text": [
      "Collecting mnist\r\n"
     ]
    },
    {
     "name": "stdout",
     "output_type": "stream",
     "text": [
      "  Downloading mnist-0.2.2-py2.py3-none-any.whl (3.5 kB)\r\n",
      "Requirement already satisfied: numpy in /opt/hostedtoolcache/Python/3.6.15/x64/lib/python3.6/site-packages (from mnist) (1.19.5)\r\n"
     ]
    },
    {
     "name": "stdout",
     "output_type": "stream",
     "text": [
      "Installing collected packages: mnist\r\n"
     ]
    },
    {
     "name": "stdout",
     "output_type": "stream",
     "text": [
      "Successfully installed mnist-0.2.2\r\n"
     ]
    }
   ],
   "source": [
    "!pip install mnist"
   ]
  },
  {
   "cell_type": "markdown",
   "id": "69df9c9a",
   "metadata": {
    "papermill": {
     "duration": 0.025383,
     "end_time": "2022-03-19T20:08:25.827773",
     "exception": false,
     "start_time": "2022-03-19T20:08:25.802390",
     "status": "completed"
    },
    "tags": []
   },
   "source": [
    "## Preparing the Data"
   ]
  },
  {
   "cell_type": "code",
   "execution_count": 4,
   "id": "7f69d806",
   "metadata": {
    "execution": {
     "iopub.execute_input": "2022-03-19T20:08:25.896461Z",
     "iopub.status.busy": "2022-03-19T20:08:25.887111Z",
     "iopub.status.idle": "2022-03-19T20:08:25.900348Z",
     "shell.execute_reply": "2022-03-19T20:08:25.899941Z"
    },
    "papermill": {
     "duration": 0.047525,
     "end_time": "2022-03-19T20:08:25.900458",
     "exception": false,
     "start_time": "2022-03-19T20:08:25.852933",
     "status": "completed"
    },
    "tags": []
   },
   "outputs": [],
   "source": [
    "import mnist"
   ]
  },
  {
   "cell_type": "code",
   "execution_count": 5,
   "id": "a411e44f",
   "metadata": {
    "execution": {
     "iopub.execute_input": "2022-03-19T20:08:25.954157Z",
     "iopub.status.busy": "2022-03-19T20:08:25.953619Z",
     "iopub.status.idle": "2022-03-19T20:08:26.564739Z",
     "shell.execute_reply": "2022-03-19T20:08:26.564199Z"
    },
    "papermill": {
     "duration": 0.639149,
     "end_time": "2022-03-19T20:08:26.564886",
     "exception": false,
     "start_time": "2022-03-19T20:08:25.925737",
     "status": "completed"
    },
    "tags": []
   },
   "outputs": [],
   "source": [
    "train_images = mnist.train_images()\n",
    "train_labels = mnist.train_labels()"
   ]
  },
  {
   "cell_type": "code",
   "execution_count": 6,
   "id": "dceab3a5",
   "metadata": {
    "execution": {
     "iopub.execute_input": "2022-03-19T20:08:26.620193Z",
     "iopub.status.busy": "2022-03-19T20:08:26.619669Z",
     "iopub.status.idle": "2022-03-19T20:08:26.633556Z",
     "shell.execute_reply": "2022-03-19T20:08:26.633122Z"
    },
    "papermill": {
     "duration": 0.0427,
     "end_time": "2022-03-19T20:08:26.633659",
     "exception": false,
     "start_time": "2022-03-19T20:08:26.590959",
     "status": "completed"
    },
    "tags": []
   },
   "outputs": [
    {
     "data": {
      "text/plain": [
       "((60000, 28, 28), (60000,))"
      ]
     },
     "execution_count": 6,
     "metadata": {},
     "output_type": "execute_result"
    }
   ],
   "source": [
    "train_images.shape, train_labels.shape"
   ]
  },
  {
   "cell_type": "code",
   "execution_count": 7,
   "id": "f50dc2bb",
   "metadata": {
    "execution": {
     "iopub.execute_input": "2022-03-19T20:08:26.690581Z",
     "iopub.status.busy": "2022-03-19T20:08:26.690072Z",
     "iopub.status.idle": "2022-03-19T20:08:26.858084Z",
     "shell.execute_reply": "2022-03-19T20:08:26.857488Z"
    },
    "papermill": {
     "duration": 0.199125,
     "end_time": "2022-03-19T20:08:26.858229",
     "exception": false,
     "start_time": "2022-03-19T20:08:26.659104",
     "status": "completed"
    },
    "tags": []
   },
   "outputs": [],
   "source": [
    "test_images = mnist.test_images()\n",
    "test_labels = mnist.test_labels()"
   ]
  },
  {
   "cell_type": "code",
   "execution_count": 8,
   "id": "fc38cf1b",
   "metadata": {
    "execution": {
     "iopub.execute_input": "2022-03-19T20:08:26.914211Z",
     "iopub.status.busy": "2022-03-19T20:08:26.913658Z",
     "iopub.status.idle": "2022-03-19T20:08:26.927462Z",
     "shell.execute_reply": "2022-03-19T20:08:26.927049Z"
    },
    "papermill": {
     "duration": 0.0428,
     "end_time": "2022-03-19T20:08:26.927572",
     "exception": false,
     "start_time": "2022-03-19T20:08:26.884772",
     "status": "completed"
    },
    "tags": []
   },
   "outputs": [
    {
     "data": {
      "text/plain": [
       "((10000, 28, 28), (10000,))"
      ]
     },
     "execution_count": 8,
     "metadata": {},
     "output_type": "execute_result"
    }
   ],
   "source": [
    "test_images.shape, test_labels.shape"
   ]
  },
  {
   "cell_type": "code",
   "execution_count": 9,
   "id": "f9ed8fe0",
   "metadata": {
    "execution": {
     "iopub.execute_input": "2022-03-19T20:08:26.992586Z",
     "iopub.status.busy": "2022-03-19T20:08:26.992061Z",
     "iopub.status.idle": "2022-03-19T20:08:27.120593Z",
     "shell.execute_reply": "2022-03-19T20:08:27.120160Z"
    },
    "papermill": {
     "duration": 0.167358,
     "end_time": "2022-03-19T20:08:27.120717",
     "exception": false,
     "start_time": "2022-03-19T20:08:26.953359",
     "status": "completed"
    },
    "tags": []
   },
   "outputs": [
    {
     "name": "stdout",
     "output_type": "stream",
     "text": [
      "2\n"
     ]
    },
    {
     "data": {
      "text/plain": [
       "<matplotlib.image.AxesImage at 0x7efe279e45f8>"
      ]
     },
     "execution_count": 9,
     "metadata": {},
     "output_type": "execute_result"
    },
    {
     "data": {
      "image/png": "[encoded data removed]",
      "text/plain": [
       "<Figure size 432x288 with 1 Axes>"
      ]
     },
     "metadata": {
      "needs_background": "light"
     },
     "output_type": "display_data"
    }
   ],
   "source": [
    "image_index = 7776 # You may select anything up to 60,000\n",
    "print(train_labels[image_index]) \n",
    "plt.imshow(train_images[image_index], cmap='Greys')"
   ]
  },
  {
   "cell_type": "markdown",
   "id": "a8d2388d",
   "metadata": {
    "papermill": {
     "duration": 0.026821,
     "end_time": "2022-03-19T20:08:27.175871",
     "exception": false,
     "start_time": "2022-03-19T20:08:27.149050",
     "status": "completed"
    },
    "tags": []
   },
   "source": [
    "## Filter data to get 3 and 8 out"
   ]
  },
  {
   "cell_type": "code",
   "execution_count": 10,
   "id": "776f7fc7",
   "metadata": {
    "execution": {
     "iopub.execute_input": "2022-03-19T20:08:27.234406Z",
     "iopub.status.busy": "2022-03-19T20:08:27.233372Z",
     "iopub.status.idle": "2022-03-19T20:08:27.252184Z",
     "shell.execute_reply": "2022-03-19T20:08:27.251562Z"
    },
    "papermill": {
     "duration": 0.049539,
     "end_time": "2022-03-19T20:08:27.252312",
     "exception": false,
     "start_time": "2022-03-19T20:08:27.202773",
     "status": "completed"
    },
    "tags": []
   },
   "outputs": [],
   "source": [
    "train_filter = np.where((train_labels == 3 ) | (train_labels == 8))\n",
    "test_filter = np.where((test_labels == 3) | (test_labels == 8))\n",
    "X_train, y_train = train_images[train_filter], train_labels[train_filter]\n",
    "X_test, y_test = test_images[test_filter], test_labels[test_filter]"
   ]
  },
  {
   "cell_type": "markdown",
   "id": "948f0b7e",
   "metadata": {
    "papermill": {
     "duration": 0.027153,
     "end_time": "2022-03-19T20:08:27.306907",
     "exception": false,
     "start_time": "2022-03-19T20:08:27.279754",
     "status": "completed"
    },
    "tags": []
   },
   "source": [
    "We normalize the pizel values in the 0 to 1 range"
   ]
  },
  {
   "cell_type": "code",
   "execution_count": 11,
   "id": "ee4c2166",
   "metadata": {
    "execution": {
     "iopub.execute_input": "2022-03-19T20:08:27.374563Z",
     "iopub.status.busy": "2022-03-19T20:08:27.368041Z",
     "iopub.status.idle": "2022-03-19T20:08:27.413147Z",
     "shell.execute_reply": "2022-03-19T20:08:27.412641Z"
    },
    "papermill": {
     "duration": 0.07936,
     "end_time": "2022-03-19T20:08:27.413288",
     "exception": false,
     "start_time": "2022-03-19T20:08:27.333928",
     "status": "completed"
    },
    "tags": []
   },
   "outputs": [],
   "source": [
    "X_train = X_train/255.\n",
    "X_test = X_test/255."
   ]
  },
  {
   "cell_type": "markdown",
   "id": "ddcf4fab",
   "metadata": {
    "papermill": {
     "duration": 0.026989,
     "end_time": "2022-03-19T20:08:27.468285",
     "exception": false,
     "start_time": "2022-03-19T20:08:27.441296",
     "status": "completed"
    },
    "tags": []
   },
   "source": [
    "And setup the labels as 1 (when the digit is 3) and 0 (when the digit is 8)"
   ]
  },
  {
   "cell_type": "code",
   "execution_count": 12,
   "id": "7dc908f2",
   "metadata": {
    "execution": {
     "iopub.execute_input": "2022-03-19T20:08:27.525472Z",
     "iopub.status.busy": "2022-03-19T20:08:27.524956Z",
     "iopub.status.idle": "2022-03-19T20:08:27.537429Z",
     "shell.execute_reply": "2022-03-19T20:08:27.537017Z"
    },
    "papermill": {
     "duration": 0.042431,
     "end_time": "2022-03-19T20:08:27.537539",
     "exception": false,
     "start_time": "2022-03-19T20:08:27.495108",
     "status": "completed"
    },
    "tags": []
   },
   "outputs": [],
   "source": [
    "y_train = 1*(y_train==3)\n",
    "y_test = 1*(y_test==3)"
   ]
  },
  {
   "cell_type": "code",
   "execution_count": 13,
   "id": "01e4e969",
   "metadata": {
    "execution": {
     "iopub.execute_input": "2022-03-19T20:08:27.594878Z",
     "iopub.status.busy": "2022-03-19T20:08:27.594379Z",
     "iopub.status.idle": "2022-03-19T20:08:27.607741Z",
     "shell.execute_reply": "2022-03-19T20:08:27.607312Z"
    },
    "papermill": {
     "duration": 0.043335,
     "end_time": "2022-03-19T20:08:27.607848",
     "exception": false,
     "start_time": "2022-03-19T20:08:27.564513",
     "status": "completed"
    },
    "tags": []
   },
   "outputs": [
    {
     "data": {
      "text/plain": [
       "((11982, 28, 28), (1984, 28, 28))"
      ]
     },
     "execution_count": 13,
     "metadata": {},
     "output_type": "execute_result"
    }
   ],
   "source": [
    "X_train.shape, X_test.shape"
   ]
  },
  {
   "cell_type": "markdown",
   "id": "5ccf3f85",
   "metadata": {
    "papermill": {
     "duration": 0.027202,
     "end_time": "2022-03-19T20:08:27.662272",
     "exception": false,
     "start_time": "2022-03-19T20:08:27.635070",
     "status": "completed"
    },
    "tags": []
   },
   "source": [
    "We reshape the data to flatten the image pixels into a set of features or co-variates:"
   ]
  },
  {
   "cell_type": "code",
   "execution_count": 14,
   "id": "5286a4a3",
   "metadata": {
    "execution": {
     "iopub.execute_input": "2022-03-19T20:08:27.724766Z",
     "iopub.status.busy": "2022-03-19T20:08:27.724249Z",
     "iopub.status.idle": "2022-03-19T20:08:27.734586Z",
     "shell.execute_reply": "2022-03-19T20:08:27.734152Z"
    },
    "papermill": {
     "duration": 0.045315,
     "end_time": "2022-03-19T20:08:27.734690",
     "exception": false,
     "start_time": "2022-03-19T20:08:27.689375",
     "status": "completed"
    },
    "tags": []
   },
   "outputs": [
    {
     "data": {
      "text/plain": [
       "((11982, 784), (1984, 784))"
      ]
     },
     "execution_count": 14,
     "metadata": {},
     "output_type": "execute_result"
    }
   ],
   "source": [
    "X_train = X_train.reshape(X_train.shape[0], -1)\n",
    "X_test = X_test.reshape(X_test.shape[0], -1)\n",
    "X_train.shape, X_test.shape"
   ]
  },
  {
   "cell_type": "code",
   "execution_count": 15,
   "id": "73c5f88a",
   "metadata": {
    "execution": {
     "iopub.execute_input": "2022-03-19T20:08:27.793135Z",
     "iopub.status.busy": "2022-03-19T20:08:27.792628Z",
     "iopub.status.idle": "2022-03-19T20:08:27.810026Z",
     "shell.execute_reply": "2022-03-19T20:08:27.810443Z"
    },
    "papermill": {
     "duration": 0.048466,
     "end_time": "2022-03-19T20:08:27.810562",
     "exception": false,
     "start_time": "2022-03-19T20:08:27.762096",
     "status": "completed"
    },
    "tags": []
   },
   "outputs": [],
   "source": [
    "#Impoting functions from 'Kudzu'\n",
    "from kudzu.model import Model\n",
    "from kudzu.train import Learner\n",
    "from kudzu.optim import GD\n",
    "from kudzu.data import Data, Sampler,Dataloader\n",
    "\n",
    "from kudzu.callbacks import AccCallback\n",
    "from kudzu.callbacks import ClfCallback\n",
    "\n",
    "from kudzu.loss import MSE\n",
    "\n",
    "from kudzu.layer import Sigmoid,Relu\n",
    "from kudzu.layer import Affine"
   ]
  },
  {
   "cell_type": "markdown",
   "id": "bc01172a",
   "metadata": {
    "papermill": {
     "duration": 0.027403,
     "end_time": "2022-03-19T20:08:27.865208",
     "exception": false,
     "start_time": "2022-03-19T20:08:27.837805",
     "status": "completed"
    },
    "tags": []
   },
   "source": [
    "### Let us create a `Config` class, to store important parameters. \n",
    "This class essentially plays the role of a dictionary."
   ]
  },
  {
   "cell_type": "code",
   "execution_count": 16,
   "id": "978281aa",
   "metadata": {
    "execution": {
     "iopub.execute_input": "2022-03-19T20:08:27.926959Z",
     "iopub.status.busy": "2022-03-19T20:08:27.926436Z",
     "iopub.status.idle": "2022-03-19T20:08:27.936751Z",
     "shell.execute_reply": "2022-03-19T20:08:27.936320Z"
    },
    "papermill": {
     "duration": 0.044304,
     "end_time": "2022-03-19T20:08:27.936858",
     "exception": false,
     "start_time": "2022-03-19T20:08:27.892554",
     "status": "completed"
    },
    "tags": []
   },
   "outputs": [],
   "source": [
    "class Config:\n",
    "    pass\n",
    "config = Config()\n",
    "config.lr = 0.001\n",
    "config.num_epochs = 250\n",
    "config.bs = 50"
   ]
  },
  {
   "cell_type": "markdown",
   "id": "1385fa59",
   "metadata": {
    "papermill": {
     "duration": 0.027359,
     "end_time": "2022-03-19T20:08:27.991677",
     "exception": false,
     "start_time": "2022-03-19T20:08:27.964318",
     "status": "completed"
    },
    "tags": []
   },
   "source": [
    "### Running Models with the Training data\n",
    "Details about the network layers:\n",
    "- A first affine layer has 784 inputs and does 100 affine transforms. These are followed by a Relu\n",
    "- A second affine layer has 100 inputs from the 100 activations of the past layer, and does 100 affine transforms. These are followed by a Relu\n",
    "- A third affine layer has 100 activations and does 2 affine transformations to create an embedding for visualization. There is no non-linearity here.\n",
    "- A final \"logistic regression\" which has an affine transform from 2 inputs to 1 output, which is squeezed through a sigmoid.\n"
   ]
  },
  {
   "cell_type": "code",
   "execution_count": 17,
   "id": "2b9c66db",
   "metadata": {
    "execution": {
     "iopub.execute_input": "2022-03-19T20:08:28.050228Z",
     "iopub.status.busy": "2022-03-19T20:08:28.049684Z",
     "iopub.status.idle": "2022-03-19T20:08:28.062199Z",
     "shell.execute_reply": "2022-03-19T20:08:28.061742Z"
    },
    "papermill": {
     "duration": 0.043271,
     "end_time": "2022-03-19T20:08:28.062303",
     "exception": false,
     "start_time": "2022-03-19T20:08:28.019032",
     "status": "completed"
    },
    "tags": []
   },
   "outputs": [],
   "source": [
    "data = Data(X_train, y_train.reshape(-1,1))\n",
    "sampler = Sampler(data, config.bs, shuffle=True)\n",
    "\n",
    "dl = Dataloader(data, sampler)\n",
    "\n",
    "opt = GD(config.lr)\n",
    "loss = MSE()"
   ]
  },
  {
   "cell_type": "code",
   "execution_count": 18,
   "id": "b275e4c2",
   "metadata": {
    "execution": {
     "iopub.execute_input": "2022-03-19T20:08:28.132841Z",
     "iopub.status.busy": "2022-03-19T20:08:28.128141Z",
     "iopub.status.idle": "2022-03-19T20:08:28.134698Z",
     "shell.execute_reply": "2022-03-19T20:08:28.135081Z"
    },
    "papermill": {
     "duration": 0.045645,
     "end_time": "2022-03-19T20:08:28.135200",
     "exception": false,
     "start_time": "2022-03-19T20:08:28.089555",
     "status": "completed"
    },
    "tags": []
   },
   "outputs": [],
   "source": [
    "training_data_x = X_train\n",
    "testing_data_x = X_test\n",
    "training_data_y = y_train.reshape(-1,1)\n",
    "testing_data_y = y_test.reshape(-1,1)"
   ]
  },
  {
   "cell_type": "code",
   "execution_count": 19,
   "id": "76951160",
   "metadata": {
    "execution": {
     "iopub.execute_input": "2022-03-19T20:08:28.204449Z",
     "iopub.status.busy": "2022-03-19T20:08:28.203921Z",
     "iopub.status.idle": "2022-03-19T20:08:28.213747Z",
     "shell.execute_reply": "2022-03-19T20:08:28.213336Z"
    },
    "papermill": {
     "duration": 0.051237,
     "end_time": "2022-03-19T20:08:28.213873",
     "exception": false,
     "start_time": "2022-03-19T20:08:28.162636",
     "status": "completed"
    },
    "tags": []
   },
   "outputs": [
    {
     "name": "stdout",
     "output_type": "stream",
     "text": [
      "xavier\n",
      "xavier\n",
      "xavier\n",
      "xavier\n",
      "xavier\n"
     ]
    }
   ],
   "source": [
    "layers = [Affine(\"first\", 784, 100), Relu(\"first\"), Affine(\"second\", 100, 100), Relu(\"second\"), Affine(\"third\", 100, 2), Affine(\"last\", 2, 1), Sigmoid(\"last\")]\n",
    "model_nn = Model(layers)\n",
    "model_lr = Model([Affine(\"logits\", 784, 1), Sigmoid(\"sigmoid\")])"
   ]
  },
  {
   "cell_type": "code",
   "execution_count": 20,
   "id": "6eede77a",
   "metadata": {
    "execution": {
     "iopub.execute_input": "2022-03-19T20:08:28.283099Z",
     "iopub.status.busy": "2022-03-19T20:08:28.282583Z",
     "iopub.status.idle": "2022-03-19T20:08:28.289764Z",
     "shell.execute_reply": "2022-03-19T20:08:28.289327Z"
    },
    "papermill": {
     "duration": 0.048231,
     "end_time": "2022-03-19T20:08:28.289890",
     "exception": false,
     "start_time": "2022-03-19T20:08:28.241659",
     "status": "completed"
    },
    "tags": []
   },
   "outputs": [],
   "source": [
    "nn_learner = Learner(loss, model_nn, opt, config.num_epochs)\n",
    "acc_nn = ClfCallback(nn_learner, config.bs, training_data_x , testing_data_x, training_data_y, testing_data_y)\n",
    "nn_learner.set_callbacks([acc_nn])"
   ]
  },
  {
   "cell_type": "code",
   "execution_count": 21,
   "id": "877b6cc7",
   "metadata": {
    "execution": {
     "iopub.execute_input": "2022-03-19T20:08:28.356721Z",
     "iopub.status.busy": "2022-03-19T20:08:28.350533Z",
     "iopub.status.idle": "2022-03-19T20:08:28.361882Z",
     "shell.execute_reply": "2022-03-19T20:08:28.362330Z"
    },
    "papermill": {
     "duration": 0.044731,
     "end_time": "2022-03-19T20:08:28.362452",
     "exception": false,
     "start_time": "2022-03-19T20:08:28.317721",
     "status": "completed"
    },
    "tags": []
   },
   "outputs": [],
   "source": [
    "lr_learner = Learner(loss, model_lr, opt, config.num_epochs)\n",
    "acc_lr = ClfCallback(lr_learner, config.bs, training_data_x , testing_data_x, training_data_y, testing_data_y)\n",
    "lr_learner.set_callbacks([acc_lr])"
   ]
  },
  {
   "cell_type": "code",
   "execution_count": 22,
   "id": "d9b133c3",
   "metadata": {
    "execution": {
     "iopub.execute_input": "2022-03-19T20:08:28.420779Z",
     "iopub.status.busy": "2022-03-19T20:08:28.420281Z",
     "iopub.status.idle": "2022-03-19T20:09:44.337358Z",
     "shell.execute_reply": "2022-03-19T20:09:44.338136Z"
    },
    "papermill": {
     "duration": 75.94824,
     "end_time": "2022-03-19T20:09:44.338295",
     "exception": false,
     "start_time": "2022-03-19T20:08:28.390055",
     "status": "completed"
    },
    "tags": []
   },
   "outputs": [
    {
     "name": "stdout",
     "output_type": "stream",
     "text": [
      "Epoch 0, Loss 0.2456\n",
      "Training Accuracy: 0.5565, Testing Accuracy: 0.5570\n",
      "\n"
     ]
    },
    {
     "name": "stdout",
     "output_type": "stream",
     "text": [
      "Epoch 10, Loss 0.1093\n",
      "Training Accuracy: 0.9145, Testing Accuracy: 0.9269\n",
      "\n"
     ]
    },
    {
     "name": "stdout",
     "output_type": "stream",
     "text": [
      "Epoch 20, Loss 0.0617\n",
      "Training Accuracy: 0.9367, Testing Accuracy: 0.9491\n",
      "\n"
     ]
    },
    {
     "name": "stdout",
     "output_type": "stream",
     "text": [
      "Epoch 30, Loss 0.0468\n",
      "Training Accuracy: 0.9486, Testing Accuracy: 0.9607\n",
      "\n"
     ]
    },
    {
     "name": "stdout",
     "output_type": "stream",
     "text": [
      "Epoch 40, Loss 0.0398\n",
      "Training Accuracy: 0.9547, Testing Accuracy: 0.9632\n",
      "\n"
     ]
    },
    {
     "name": "stdout",
     "output_type": "stream",
     "text": [
      "Epoch 50, Loss 0.0357\n",
      "Training Accuracy: 0.9575, Testing Accuracy: 0.9642\n",
      "\n"
     ]
    },
    {
     "name": "stdout",
     "output_type": "stream",
     "text": [
      "Epoch 60, Loss 0.033\n",
      "Training Accuracy: 0.9609, Testing Accuracy: 0.9662\n",
      "\n"
     ]
    },
    {
     "name": "stdout",
     "output_type": "stream",
     "text": [
      "Epoch 70, Loss 0.0311\n",
      "Training Accuracy: 0.9623, Testing Accuracy: 0.9667\n",
      "\n"
     ]
    },
    {
     "name": "stdout",
     "output_type": "stream",
     "text": [
      "Epoch 80, Loss 0.0295\n",
      "Training Accuracy: 0.9639, Testing Accuracy: 0.9682\n",
      "\n"
     ]
    },
    {
     "name": "stdout",
     "output_type": "stream",
     "text": [
      "Epoch 90, Loss 0.0283\n",
      "Training Accuracy: 0.9654, Testing Accuracy: 0.9693\n",
      "\n"
     ]
    },
    {
     "name": "stdout",
     "output_type": "stream",
     "text": [
      "Epoch 100, Loss 0.0273\n",
      "Training Accuracy: 0.9673, Testing Accuracy: 0.9693\n",
      "\n"
     ]
    },
    {
     "name": "stdout",
     "output_type": "stream",
     "text": [
      "Epoch 110, Loss 0.0264\n",
      "Training Accuracy: 0.9689, Testing Accuracy: 0.9693\n",
      "\n"
     ]
    },
    {
     "name": "stdout",
     "output_type": "stream",
     "text": [
      "Epoch 120, Loss 0.0256\n",
      "Training Accuracy: 0.9693, Testing Accuracy: 0.9688\n",
      "\n"
     ]
    },
    {
     "name": "stdout",
     "output_type": "stream",
     "text": [
      "Epoch 130, Loss 0.0249\n",
      "Training Accuracy: 0.9709, Testing Accuracy: 0.9688\n",
      "\n"
     ]
    },
    {
     "name": "stdout",
     "output_type": "stream",
     "text": [
      "Epoch 140, Loss 0.0243\n",
      "Training Accuracy: 0.9719, Testing Accuracy: 0.9693\n",
      "\n"
     ]
    },
    {
     "name": "stdout",
     "output_type": "stream",
     "text": [
      "Epoch 150, Loss 0.0237\n",
      "Training Accuracy: 0.9723, Testing Accuracy: 0.9703\n",
      "\n"
     ]
    },
    {
     "name": "stdout",
     "output_type": "stream",
     "text": [
      "Epoch 160, Loss 0.0232\n",
      "Training Accuracy: 0.9730, Testing Accuracy: 0.9703\n",
      "\n"
     ]
    },
    {
     "name": "stdout",
     "output_type": "stream",
     "text": [
      "Epoch 170, Loss 0.0227\n",
      "Training Accuracy: 0.9743, Testing Accuracy: 0.9708\n",
      "\n"
     ]
    },
    {
     "name": "stdout",
     "output_type": "stream",
     "text": [
      "Epoch 180, Loss 0.0222\n",
      "Training Accuracy: 0.9746, Testing Accuracy: 0.9713\n",
      "\n"
     ]
    },
    {
     "name": "stdout",
     "output_type": "stream",
     "text": [
      "Epoch 190, Loss 0.0218\n",
      "Training Accuracy: 0.9754, Testing Accuracy: 0.9713\n",
      "\n"
     ]
    },
    {
     "name": "stdout",
     "output_type": "stream",
     "text": [
      "Epoch 200, Loss 0.0214\n",
      "Training Accuracy: 0.9757, Testing Accuracy: 0.9713\n",
      "\n"
     ]
    },
    {
     "name": "stdout",
     "output_type": "stream",
     "text": [
      "Epoch 210, Loss 0.021\n",
      "Training Accuracy: 0.9762, Testing Accuracy: 0.9723\n",
      "\n"
     ]
    },
    {
     "name": "stdout",
     "output_type": "stream",
     "text": [
      "Epoch 220, Loss 0.0206\n",
      "Training Accuracy: 0.9765, Testing Accuracy: 0.9723\n",
      "\n"
     ]
    },
    {
     "name": "stdout",
     "output_type": "stream",
     "text": [
      "Epoch 230, Loss 0.0203\n",
      "Training Accuracy: 0.9775, Testing Accuracy: 0.9728\n",
      "\n"
     ]
    },
    {
     "name": "stdout",
     "output_type": "stream",
     "text": [
      "Epoch 240, Loss 0.0199\n",
      "Training Accuracy: 0.9779, Testing Accuracy: 0.9728\n",
      "\n"
     ]
    },
    {
     "data": {
      "text/plain": [
       "0.012794857218593067"
      ]
     },
     "execution_count": 22,
     "metadata": {},
     "output_type": "execute_result"
    }
   ],
   "source": [
    "nn_learner.train_loop(dl)"
   ]
  },
  {
   "cell_type": "code",
   "execution_count": 23,
   "id": "e0163366",
   "metadata": {
    "execution": {
     "iopub.execute_input": "2022-03-19T20:09:44.426720Z",
     "iopub.status.busy": "2022-03-19T20:09:44.426193Z",
     "iopub.status.idle": "2022-03-19T20:09:58.031315Z",
     "shell.execute_reply": "2022-03-19T20:09:58.032053Z"
    },
    "papermill": {
     "duration": 13.653573,
     "end_time": "2022-03-19T20:09:58.032213",
     "exception": false,
     "start_time": "2022-03-19T20:09:44.378640",
     "status": "completed"
    },
    "tags": []
   },
   "outputs": [
    {
     "name": "stdout",
     "output_type": "stream",
     "text": [
      "Epoch 0, Loss 0.2328\n",
      "Training Accuracy: 0.7283, Testing Accuracy: 0.7208\n",
      "\n"
     ]
    },
    {
     "name": "stdout",
     "output_type": "stream",
     "text": [
      "Epoch 10, Loss 0.0997\n",
      "Training Accuracy: 0.9177, Testing Accuracy: 0.9269\n",
      "\n"
     ]
    },
    {
     "name": "stdout",
     "output_type": "stream",
     "text": [
      "Epoch 20, Loss 0.0771\n",
      "Training Accuracy: 0.9314, Testing Accuracy: 0.9420\n",
      "\n"
     ]
    },
    {
     "name": "stdout",
     "output_type": "stream",
     "text": [
      "Epoch 30, Loss 0.0667\n",
      "Training Accuracy: 0.9402, Testing Accuracy: 0.9511\n",
      "\n"
     ]
    },
    {
     "name": "stdout",
     "output_type": "stream",
     "text": [
      "Epoch 40, Loss 0.0605\n",
      "Training Accuracy: 0.9448, Testing Accuracy: 0.9546\n",
      "\n"
     ]
    },
    {
     "name": "stdout",
     "output_type": "stream",
     "text": [
      "Epoch 50, Loss 0.0562\n",
      "Training Accuracy: 0.9474, Testing Accuracy: 0.9582\n",
      "\n"
     ]
    },
    {
     "name": "stdout",
     "output_type": "stream",
     "text": [
      "Epoch 60, Loss 0.053\n",
      "Training Accuracy: 0.9489, Testing Accuracy: 0.9607\n",
      "\n"
     ]
    },
    {
     "name": "stdout",
     "output_type": "stream",
     "text": [
      "Epoch 70, Loss 0.0506\n",
      "Training Accuracy: 0.9496, Testing Accuracy: 0.9632\n",
      "\n"
     ]
    },
    {
     "name": "stdout",
     "output_type": "stream",
     "text": [
      "Epoch 80, Loss 0.0486\n",
      "Training Accuracy: 0.9512, Testing Accuracy: 0.9642\n",
      "\n"
     ]
    },
    {
     "name": "stdout",
     "output_type": "stream",
     "text": [
      "Epoch 90, Loss 0.047\n",
      "Training Accuracy: 0.9523, Testing Accuracy: 0.9652\n",
      "\n"
     ]
    },
    {
     "name": "stdout",
     "output_type": "stream",
     "text": [
      "Epoch 100, Loss 0.0456\n",
      "Training Accuracy: 0.9533, Testing Accuracy: 0.9652\n",
      "\n"
     ]
    },
    {
     "name": "stdout",
     "output_type": "stream",
     "text": [
      "Epoch 110, Loss 0.0445\n",
      "Training Accuracy: 0.9543, Testing Accuracy: 0.9647\n",
      "\n"
     ]
    },
    {
     "name": "stdout",
     "output_type": "stream",
     "text": [
      "Epoch 120, Loss 0.0434\n",
      "Training Accuracy: 0.9553, Testing Accuracy: 0.9652\n",
      "\n"
     ]
    },
    {
     "name": "stdout",
     "output_type": "stream",
     "text": [
      "Epoch 130, Loss 0.0425\n",
      "Training Accuracy: 0.9565, Testing Accuracy: 0.9652\n",
      "\n"
     ]
    },
    {
     "name": "stdout",
     "output_type": "stream",
     "text": [
      "Epoch 140, Loss 0.0417\n",
      "Training Accuracy: 0.9571, Testing Accuracy: 0.9657\n",
      "\n"
     ]
    },
    {
     "name": "stdout",
     "output_type": "stream",
     "text": [
      "Epoch 150, Loss 0.041\n",
      "Training Accuracy: 0.9573, Testing Accuracy: 0.9652\n",
      "\n"
     ]
    },
    {
     "name": "stdout",
     "output_type": "stream",
     "text": [
      "Epoch 160, Loss 0.0404\n",
      "Training Accuracy: 0.9578, Testing Accuracy: 0.9657\n",
      "\n"
     ]
    },
    {
     "name": "stdout",
     "output_type": "stream",
     "text": [
      "Epoch 170, Loss 0.0398\n",
      "Training Accuracy: 0.9583, Testing Accuracy: 0.9662\n",
      "\n"
     ]
    },
    {
     "name": "stdout",
     "output_type": "stream",
     "text": [
      "Epoch 180, Loss 0.0392\n",
      "Training Accuracy: 0.9593, Testing Accuracy: 0.9662\n",
      "\n"
     ]
    },
    {
     "name": "stdout",
     "output_type": "stream",
     "text": [
      "Epoch 190, Loss 0.0387\n",
      "Training Accuracy: 0.9597, Testing Accuracy: 0.9662\n",
      "\n"
     ]
    },
    {
     "name": "stdout",
     "output_type": "stream",
     "text": [
      "Epoch 200, Loss 0.0383\n",
      "Training Accuracy: 0.9602, Testing Accuracy: 0.9662\n",
      "\n"
     ]
    },
    {
     "name": "stdout",
     "output_type": "stream",
     "text": [
      "Epoch 210, Loss 0.0378\n",
      "Training Accuracy: 0.9605, Testing Accuracy: 0.9662\n",
      "\n"
     ]
    },
    {
     "name": "stdout",
     "output_type": "stream",
     "text": [
      "Epoch 220, Loss 0.0374\n",
      "Training Accuracy: 0.9609, Testing Accuracy: 0.9662\n",
      "\n"
     ]
    },
    {
     "name": "stdout",
     "output_type": "stream",
     "text": [
      "Epoch 230, Loss 0.0371\n",
      "Training Accuracy: 0.9614, Testing Accuracy: 0.9662\n",
      "\n"
     ]
    },
    {
     "name": "stdout",
     "output_type": "stream",
     "text": [
      "Epoch 240, Loss 0.0367\n",
      "Training Accuracy: 0.9617, Testing Accuracy: 0.9667\n",
      "\n"
     ]
    },
    {
     "data": {
      "text/plain": [
       "0.04115473402570251"
      ]
     },
     "execution_count": 23,
     "metadata": {},
     "output_type": "execute_result"
    }
   ],
   "source": [
    "lr_learner.train_loop(dl)"
   ]
  },
  {
   "cell_type": "code",
   "execution_count": 24,
   "id": "ca410940",
   "metadata": {
    "execution": {
     "iopub.execute_input": "2022-03-19T20:09:58.123407Z",
     "iopub.status.busy": "2022-03-19T20:09:58.122883Z",
     "iopub.status.idle": "2022-03-19T20:09:58.338156Z",
     "shell.execute_reply": "2022-03-19T20:09:58.338590Z"
    },
    "papermill": {
     "duration": 0.264563,
     "end_time": "2022-03-19T20:09:58.338737",
     "exception": false,
     "start_time": "2022-03-19T20:09:58.074174",
     "status": "completed"
    },
    "tags": []
   },
   "outputs": [
    {
     "data": {
      "text/plain": [
       "<matplotlib.legend.Legend at 0x7efe275c1d30>"
      ]
     },
     "execution_count": 24,
     "metadata": {},
     "output_type": "execute_result"
    },
    {
     "data": {
      "image/png": "[encoded data removed]",
      "text/plain": [
       "<Figure size 1080x720 with 1 Axes>"
      ]
     },
     "metadata": {
      "needs_background": "light"
     },
     "output_type": "display_data"
    }
   ],
   "source": [
    "#comparing the results of NN and LR\n",
    "plt.figure(figsize=(15,10))\n",
    "\n",
    "# Neural Network plots\n",
    "plt.plot(acc_nn.accuracies, 'r-', label = \"Training Accuracies - NN\")\n",
    "plt.plot(acc_nn.test_accuracies, 'g-', label = \"Testing Accuracies - NN\")\n",
    "\n",
    "# Logistic Regression plots\n",
    "plt.plot(acc_lr.accuracies, 'k-', label = \"Training Accuracies - LR\")\n",
    "plt.plot(acc_lr.test_accuracies, 'b-', label = \"Testing Accuracies - LR\")\n",
    "plt.legend()"
   ]
  },
  {
   "cell_type": "markdown",
   "id": "80dfb35c",
   "metadata": {
    "papermill": {
     "duration": 0.042671,
     "end_time": "2022-03-19T20:09:58.424486",
     "exception": false,
     "start_time": "2022-03-19T20:09:58.381815",
     "status": "completed"
    },
    "tags": []
   },
   "source": [
    "#### Plotting the outputs of this layer of the NN.\n"
   ]
  },
  {
   "cell_type": "code",
   "execution_count": 25,
   "id": "45eb2ff5",
   "metadata": {
    "execution": {
     "iopub.execute_input": "2022-03-19T20:09:58.526978Z",
     "iopub.status.busy": "2022-03-19T20:09:58.526413Z",
     "iopub.status.idle": "2022-03-19T20:09:58.539077Z",
     "shell.execute_reply": "2022-03-19T20:09:58.538628Z"
    },
    "papermill": {
     "duration": 0.072103,
     "end_time": "2022-03-19T20:09:58.539192",
     "exception": false,
     "start_time": "2022-03-19T20:09:58.467089",
     "status": "completed"
    },
    "tags": []
   },
   "outputs": [],
   "source": [
    "new_model = Model(layers[:-2])\n",
    "testing_plot = new_model(testing_data_x)"
   ]
  },
  {
   "cell_type": "code",
   "execution_count": 26,
   "id": "4c0a5485",
   "metadata": {
    "execution": {
     "iopub.execute_input": "2022-03-19T20:09:58.635131Z",
     "iopub.status.busy": "2022-03-19T20:09:58.634608Z",
     "iopub.status.idle": "2022-03-19T20:09:58.836643Z",
     "shell.execute_reply": "2022-03-19T20:09:58.836195Z"
    },
    "papermill": {
     "duration": 0.254168,
     "end_time": "2022-03-19T20:09:58.836765",
     "exception": false,
     "start_time": "2022-03-19T20:09:58.582597",
     "status": "completed"
    },
    "tags": []
   },
   "outputs": [
    {
     "data": {
      "text/plain": [
       "Text(0.5, 1.0, 'Outputs')"
      ]
     },
     "execution_count": 26,
     "metadata": {},
     "output_type": "execute_result"
    },
    {
     "data": {
      "image/png": "[encoded data removed]",
      "text/plain": [
       "<Figure size 576x504 with 1 Axes>"
      ]
     },
     "metadata": {
      "needs_background": "light"
     },
     "output_type": "display_data"
    }
   ],
   "source": [
    "# Plotting the scatter plot of points and color coding by class\n",
    "plt.figure(figsize=(8,7))\n",
    "plt.scatter(testing_plot[:,0], testing_plot[:,1], alpha = 0.1, c = y_test.ravel());\n",
    "plt.title('Outputs')"
   ]
  },
  {
   "cell_type": "markdown",
   "id": "a74fcf8f",
   "metadata": {
    "papermill": {
     "duration": 0.044977,
     "end_time": "2022-03-19T20:09:58.927045",
     "exception": false,
     "start_time": "2022-03-19T20:09:58.882068",
     "status": "completed"
    },
    "tags": []
   },
   "source": [
    "Probability contours"
   ]
  },
  {
   "cell_type": "code",
   "execution_count": 27,
   "id": "d0afc8e3",
   "metadata": {
    "execution": {
     "iopub.execute_input": "2022-03-19T20:09:59.022069Z",
     "iopub.status.busy": "2022-03-19T20:09:59.021129Z",
     "iopub.status.idle": "2022-03-19T20:09:59.033477Z",
     "shell.execute_reply": "2022-03-19T20:09:59.033879Z"
    },
    "papermill": {
     "duration": 0.061926,
     "end_time": "2022-03-19T20:09:59.034017",
     "exception": false,
     "start_time": "2022-03-19T20:09:58.972091",
     "status": "completed"
    },
    "tags": []
   },
   "outputs": [],
   "source": [
    "model_prob = Model(layers[-2:]) "
   ]
  },
  {
   "cell_type": "code",
   "execution_count": 28,
   "id": "9b96e238",
   "metadata": {
    "execution": {
     "iopub.execute_input": "2022-03-19T20:09:59.163191Z",
     "iopub.status.busy": "2022-03-19T20:09:59.162661Z",
     "iopub.status.idle": "2022-03-19T20:09:59.172064Z",
     "shell.execute_reply": "2022-03-19T20:09:59.172457Z"
    },
    "papermill": {
     "duration": 0.064925,
     "end_time": "2022-03-19T20:09:59.172588",
     "exception": false,
     "start_time": "2022-03-19T20:09:59.107663",
     "status": "completed"
    },
    "tags": []
   },
   "outputs": [],
   "source": [
    "#creating the x and y ranges according to the above generated plot.\n",
    "x_range = np.linspace(-4, 1, 100) \n",
    "y_range = np.linspace(-6, 6, 100) \n",
    "x_grid, y_grid = np.meshgrid(x_range, y_range) # x_grid and y_grig are of size 100 X 100\n",
    "\n",
    "# converting x_grid and y_grid to continuous arrays\n",
    "x_gridflat = np.ravel(x_grid)\n",
    "y_gridflat = np.ravel(y_grid)\n",
    "\n",
    "# The last layer of the current model takes two columns as input. Hence transpose of np.vstack() is required.\n",
    "X = np.vstack((x_gridflat, y_gridflat)).T\n",
    "\n",
    "prob_contour = model_prob(X).reshape(100,100) "
   ]
  },
  {
   "cell_type": "code",
   "execution_count": 29,
   "id": "da72499a",
   "metadata": {
    "execution": {
     "iopub.execute_input": "2022-03-19T20:09:59.275188Z",
     "iopub.status.busy": "2022-03-19T20:09:59.274656Z",
     "iopub.status.idle": "2022-03-19T20:09:59.516362Z",
     "shell.execute_reply": "2022-03-19T20:09:59.516750Z"
    },
    "papermill": {
     "duration": 0.295552,
     "end_time": "2022-03-19T20:09:59.516894",
     "exception": false,
     "start_time": "2022-03-19T20:09:59.221342",
     "status": "completed"
    },
    "tags": []
   },
   "outputs": [
    {
     "data": {
      "image/png": "[encoded data removed]",
      "text/plain": [
       "<Figure size 720x648 with 1 Axes>"
      ]
     },
     "metadata": {
      "needs_background": "light"
     },
     "output_type": "display_data"
    }
   ],
   "source": [
    "plt.figure(figsize=(10,9))\n",
    "plt.scatter(testing_plot[:,0], testing_plot[:,1], alpha = 0.1, c = y_test.ravel())\n",
    "contours = plt.contour(x_grid,y_grid,prob_contour)\n",
    "plt.title('Probability Contours')\n",
    "plt.clabel(contours, inline = True );"
   ]
  },
  {
   "cell_type": "code",
   "execution_count": null,
   "id": "e81b4ac7",
   "metadata": {
    "papermill": {
     "duration": 0.047526,
     "end_time": "2022-03-19T20:09:59.613186",
     "exception": false,
     "start_time": "2022-03-19T20:09:59.565660",
     "status": "completed"
    },
    "tags": []
   },
   "outputs": [],
   "source": []
  }
 ],
 "metadata": {
  "kernelspec": {
   "display_name": "Python 3",
   "language": "python",
   "name": "python3"
  },
  "language_info": {
   "codemirror_mode": {
    "name": "ipython",
    "version": 3
   },
   "file_extension": ".py",
   "mimetype": "text/x-python",
   "name": "python",
   "nbconvert_exporter": "python",
   "pygments_lexer": "ipython3",
   "version": "3.6.15"
  },
  "papermill": {
   "default_parameters": {},
   "duration": 97.760849,
   "end_time": "2022-03-19T20:10:00.080109",
   "environment_variables": {},
   "exception": null,
   "input_path": "2020-08-11-part2.ipynb",
   "output_path": "2020-08-11-part2.ipynb",
   "parameters": {},
   "start_time": "2022-03-19T20:08:22.319260",
   "version": "2.3.3"
  }
 },
 "nbformat": 4,
 "nbformat_minor": 5
}