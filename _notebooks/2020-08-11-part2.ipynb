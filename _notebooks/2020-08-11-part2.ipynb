{
 "cells": [
  {
   "cell_type": "markdown",
   "id": "98380cd3",
   "metadata": {
    "papermill": {
     "duration": 0.030422,
     "end_time": "2022-11-19T10:10:05.301689",
     "exception": false,
     "start_time": "2022-11-19T10:10:05.271267",
     "status": "completed"
    },
    "tags": []
   },
   "source": [
    "# Distinguish Your Own Digits (DYOD)"
   ]
  },
  {
   "cell_type": "markdown",
   "id": "ef31240d",
   "metadata": {
    "papermill": {
     "duration": 0.023707,
     "end_time": "2022-11-19T10:10:05.349901",
     "exception": false,
     "start_time": "2022-11-19T10:10:05.326194",
     "status": "completed"
    },
    "tags": []
   },
   "source": [
    "You are going to write a classifier that distinguishes between the number 3 and number 8."
   ]
  },
  {
   "cell_type": "code",
   "execution_count": 1,
   "id": "b15c8646",
   "metadata": {
    "execution": {
     "iopub.execute_input": "2022-11-19T10:10:05.410823Z",
     "iopub.status.busy": "2022-11-19T10:10:05.410188Z",
     "iopub.status.idle": "2022-11-19T10:10:05.421612Z",
     "shell.execute_reply": "2022-11-19T10:10:05.421115Z"
    },
    "papermill": {
     "duration": 0.048165,
     "end_time": "2022-11-19T10:10:05.421752",
     "exception": false,
     "start_time": "2022-11-19T10:10:05.373587",
     "status": "completed"
    },
    "tags": []
   },
   "outputs": [],
   "source": [
    "%load_ext autoreload\n",
    "%autoreload 2"
   ]
  },
  {
   "cell_type": "code",
   "execution_count": 2,
   "id": "22ef38dc",
   "metadata": {
    "execution": {
     "iopub.execute_input": "2022-11-19T10:10:05.474043Z",
     "iopub.status.busy": "2022-11-19T10:10:05.473437Z",
     "iopub.status.idle": "2022-11-19T10:10:06.013877Z",
     "shell.execute_reply": "2022-11-19T10:10:06.012928Z"
    },
    "papermill": {
     "duration": 0.568277,
     "end_time": "2022-11-19T10:10:06.014012",
     "exception": false,
     "start_time": "2022-11-19T10:10:05.445735",
     "status": "completed"
    },
    "tags": []
   },
   "outputs": [],
   "source": [
    "%matplotlib inline\n",
    "import numpy as np\n",
    "import matplotlib.pyplot as plt\n",
    "import pandas as pd"
   ]
  },
  {
   "cell_type": "markdown",
   "id": "ba036198",
   "metadata": {
    "papermill": {
     "duration": 0.02372,
     "end_time": "2022-11-19T10:10:06.061609",
     "exception": false,
     "start_time": "2022-11-19T10:10:06.037889",
     "status": "completed"
    },
    "tags": []
   },
   "source": [
    "From the command line run `pip install mnist`. This is a library that will help you bring down the mnist dataset. If you run this from a notebook, you need to put  `!pip install mnist` in a cell by itself."
   ]
  },
  {
   "cell_type": "code",
   "execution_count": 3,
   "id": "bb6ad8a1",
   "metadata": {
    "execution": {
     "iopub.execute_input": "2022-11-19T10:10:06.116237Z",
     "iopub.status.busy": "2022-11-19T10:10:06.113102Z",
     "iopub.status.idle": "2022-11-19T10:10:08.611017Z",
     "shell.execute_reply": "2022-11-19T10:10:08.610505Z"
    },
    "papermill": {
     "duration": 2.525686,
     "end_time": "2022-11-19T10:10:08.611144",
     "exception": false,
     "start_time": "2022-11-19T10:10:06.085458",
     "status": "completed"
    },
    "tags": []
   },
   "outputs": [
    {
     "name": "stdout",
     "output_type": "stream",
     "text": [
      "Collecting mnist\r\n",
      "  Downloading mnist-0.2.2-py2.py3-none-any.whl (3.5 kB)\r\n",
      "Requirement already satisfied: numpy in /opt/hostedtoolcache/Python/3.6.15/x64/lib/python3.6/site-packages (from mnist) (1.19.5)\r\n"
     ]
    },
    {
     "name": "stdout",
     "output_type": "stream",
     "text": [
      "Installing collected packages: mnist\r\n"
     ]
    },
    {
     "name": "stdout",
     "output_type": "stream",
     "text": [
      "Successfully installed mnist-0.2.2\r\n"
     ]
    }
   ],
   "source": [
    "!pip install mnist"
   ]
  },
  {
   "cell_type": "markdown",
   "id": "69df9c9a",
   "metadata": {
    "papermill": {
     "duration": 0.024747,
     "end_time": "2022-11-19T10:10:08.660743",
     "exception": false,
     "start_time": "2022-11-19T10:10:08.635996",
     "status": "completed"
    },
    "tags": []
   },
   "source": [
    "## Preparing the Data"
   ]
  },
  {
   "cell_type": "code",
   "execution_count": 4,
   "id": "7f69d806",
   "metadata": {
    "execution": {
     "iopub.execute_input": "2022-11-19T10:10:08.728948Z",
     "iopub.status.busy": "2022-11-19T10:10:08.728295Z",
     "iopub.status.idle": "2022-11-19T10:10:08.734939Z",
     "shell.execute_reply": "2022-11-19T10:10:08.734472Z"
    },
    "papermill": {
     "duration": 0.049683,
     "end_time": "2022-11-19T10:10:08.735061",
     "exception": false,
     "start_time": "2022-11-19T10:10:08.685378",
     "status": "completed"
    },
    "tags": []
   },
   "outputs": [],
   "source": [
    "import mnist"
   ]
  },
  {
   "cell_type": "code",
   "execution_count": 5,
   "id": "a411e44f",
   "metadata": {
    "execution": {
     "iopub.execute_input": "2022-11-19T10:10:08.788507Z",
     "iopub.status.busy": "2022-11-19T10:10:08.787928Z",
     "iopub.status.idle": "2022-11-19T10:10:09.378128Z",
     "shell.execute_reply": "2022-11-19T10:10:09.377552Z"
    },
    "papermill": {
     "duration": 0.618364,
     "end_time": "2022-11-19T10:10:09.378270",
     "exception": false,
     "start_time": "2022-11-19T10:10:08.759906",
     "status": "completed"
    },
    "tags": []
   },
   "outputs": [],
   "source": [
    "train_images = mnist.train_images()\n",
    "train_labels = mnist.train_labels()"
   ]
  },
  {
   "cell_type": "code",
   "execution_count": 6,
   "id": "dceab3a5",
   "metadata": {
    "execution": {
     "iopub.execute_input": "2022-11-19T10:10:09.439809Z",
     "iopub.status.busy": "2022-11-19T10:10:09.438431Z",
     "iopub.status.idle": "2022-11-19T10:10:09.450811Z",
     "shell.execute_reply": "2022-11-19T10:10:09.451291Z"
    },
    "papermill": {
     "duration": 0.047407,
     "end_time": "2022-11-19T10:10:09.451430",
     "exception": false,
     "start_time": "2022-11-19T10:10:09.404023",
     "status": "completed"
    },
    "tags": []
   },
   "outputs": [
    {
     "data": {
      "text/plain": [
       "((60000, 28, 28), (60000,))"
      ]
     },
     "execution_count": 6,
     "metadata": {},
     "output_type": "execute_result"
    }
   ],
   "source": [
    "train_images.shape, train_labels.shape"
   ]
  },
  {
   "cell_type": "code",
   "execution_count": 7,
   "id": "f50dc2bb",
   "metadata": {
    "execution": {
     "iopub.execute_input": "2022-11-19T10:10:09.516244Z",
     "iopub.status.busy": "2022-11-19T10:10:09.506847Z",
     "iopub.status.idle": "2022-11-19T10:10:09.637878Z",
     "shell.execute_reply": "2022-11-19T10:10:09.637305Z"
    },
    "papermill": {
     "duration": 0.161579,
     "end_time": "2022-11-19T10:10:09.638017",
     "exception": false,
     "start_time": "2022-11-19T10:10:09.476438",
     "status": "completed"
    },
    "tags": []
   },
   "outputs": [],
   "source": [
    "test_images = mnist.test_images()\n",
    "test_labels = mnist.test_labels()"
   ]
  },
  {
   "cell_type": "code",
   "execution_count": 8,
   "id": "fc38cf1b",
   "metadata": {
    "execution": {
     "iopub.execute_input": "2022-11-19T10:10:09.692684Z",
     "iopub.status.busy": "2022-11-19T10:10:09.692083Z",
     "iopub.status.idle": "2022-11-19T10:10:09.706514Z",
     "shell.execute_reply": "2022-11-19T10:10:09.707078Z"
    },
    "papermill": {
     "duration": 0.043944,
     "end_time": "2022-11-19T10:10:09.707236",
     "exception": false,
     "start_time": "2022-11-19T10:10:09.663292",
     "status": "completed"
    },
    "tags": []
   },
   "outputs": [
    {
     "data": {
      "text/plain": [
       "((10000, 28, 28), (10000,))"
      ]
     },
     "execution_count": 8,
     "metadata": {},
     "output_type": "execute_result"
    }
   ],
   "source": [
    "test_images.shape, test_labels.shape"
   ]
  },
  {
   "cell_type": "code",
   "execution_count": 9,
   "id": "f9ed8fe0",
   "metadata": {
    "execution": {
     "iopub.execute_input": "2022-11-19T10:10:09.763694Z",
     "iopub.status.busy": "2022-11-19T10:10:09.763044Z",
     "iopub.status.idle": "2022-11-19T10:10:09.902249Z",
     "shell.execute_reply": "2022-11-19T10:10:09.901752Z"
    },
    "papermill": {
     "duration": 0.169939,
     "end_time": "2022-11-19T10:10:09.902368",
     "exception": false,
     "start_time": "2022-11-19T10:10:09.732429",
     "status": "completed"
    },
    "tags": []
   },
   "outputs": [
    {
     "name": "stdout",
     "output_type": "stream",
     "text": [
      "2\n"
     ]
    },
    {
     "data": {
      "text/plain": [
       "<matplotlib.image.AxesImage at 0x7ff3d9142e48>"
      ]
     },
     "execution_count": 9,
     "metadata": {},
     "output_type": "execute_result"
    },
    {
     "data": {
      "image/png": "[encoded data removed]",
      "text/plain": [
       "<Figure size 432x288 with 1 Axes>"
      ]
     },
     "metadata": {
      "needs_background": "light"
     },
     "output_type": "display_data"
    }
   ],
   "source": [
    "image_index = 7776 # You may select anything up to 60,000\n",
    "print(train_labels[image_index]) \n",
    "plt.imshow(train_images[image_index], cmap='Greys')"
   ]
  },
  {
   "cell_type": "markdown",
   "id": "a8d2388d",
   "metadata": {
    "papermill": {
     "duration": 0.026388,
     "end_time": "2022-11-19T10:10:09.955243",
     "exception": false,
     "start_time": "2022-11-19T10:10:09.928855",
     "status": "completed"
    },
    "tags": []
   },
   "source": [
    "## Filter data to get 3 and 8 out"
   ]
  },
  {
   "cell_type": "code",
   "execution_count": 10,
   "id": "776f7fc7",
   "metadata": {
    "execution": {
     "iopub.execute_input": "2022-11-19T10:10:10.024336Z",
     "iopub.status.busy": "2022-11-19T10:10:10.015577Z",
     "iopub.status.idle": "2022-11-19T10:10:10.033437Z",
     "shell.execute_reply": "2022-11-19T10:10:10.033902Z"
    },
    "papermill": {
     "duration": 0.052585,
     "end_time": "2022-11-19T10:10:10.034040",
     "exception": false,
     "start_time": "2022-11-19T10:10:09.981455",
     "status": "completed"
    },
    "tags": []
   },
   "outputs": [],
   "source": [
    "train_filter = np.where((train_labels == 3 ) | (train_labels == 8))\n",
    "test_filter = np.where((test_labels == 3) | (test_labels == 8))\n",
    "X_train, y_train = train_images[train_filter], train_labels[train_filter]\n",
    "X_test, y_test = test_images[test_filter], test_labels[test_filter]"
   ]
  },
  {
   "cell_type": "markdown",
   "id": "948f0b7e",
   "metadata": {
    "papermill": {
     "duration": 0.026742,
     "end_time": "2022-11-19T10:10:10.087300",
     "exception": false,
     "start_time": "2022-11-19T10:10:10.060558",
     "status": "completed"
    },
    "tags": []
   },
   "source": [
    "We normalize the pizel values in the 0 to 1 range"
   ]
  },
  {
   "cell_type": "code",
   "execution_count": 11,
   "id": "ee4c2166",
   "metadata": {
    "execution": {
     "iopub.execute_input": "2022-11-19T10:10:10.155620Z",
     "iopub.status.busy": "2022-11-19T10:10:10.143272Z",
     "iopub.status.idle": "2022-11-19T10:10:10.193341Z",
     "shell.execute_reply": "2022-11-19T10:10:10.192757Z"
    },
    "papermill": {
     "duration": 0.079939,
     "end_time": "2022-11-19T10:10:10.193481",
     "exception": false,
     "start_time": "2022-11-19T10:10:10.113542",
     "status": "completed"
    },
    "tags": []
   },
   "outputs": [],
   "source": [
    "X_train = X_train/255.\n",
    "X_test = X_test/255."
   ]
  },
  {
   "cell_type": "markdown",
   "id": "ddcf4fab",
   "metadata": {
    "papermill": {
     "duration": 0.02636,
     "end_time": "2022-11-19T10:10:10.247036",
     "exception": false,
     "start_time": "2022-11-19T10:10:10.220676",
     "status": "completed"
    },
    "tags": []
   },
   "source": [
    "And setup the labels as 1 (when the digit is 3) and 0 (when the digit is 8)"
   ]
  },
  {
   "cell_type": "code",
   "execution_count": 12,
   "id": "7dc908f2",
   "metadata": {
    "execution": {
     "iopub.execute_input": "2022-11-19T10:10:10.308065Z",
     "iopub.status.busy": "2022-11-19T10:10:10.303095Z",
     "iopub.status.idle": "2022-11-19T10:10:10.316488Z",
     "shell.execute_reply": "2022-11-19T10:10:10.316974Z"
    },
    "papermill": {
     "duration": 0.043737,
     "end_time": "2022-11-19T10:10:10.317107",
     "exception": false,
     "start_time": "2022-11-19T10:10:10.273370",
     "status": "completed"
    },
    "tags": []
   },
   "outputs": [],
   "source": [
    "y_train = 1*(y_train==3)\n",
    "y_test = 1*(y_test==3)"
   ]
  },
  {
   "cell_type": "code",
   "execution_count": 13,
   "id": "01e4e969",
   "metadata": {
    "execution": {
     "iopub.execute_input": "2022-11-19T10:10:10.376041Z",
     "iopub.status.busy": "2022-11-19T10:10:10.373263Z",
     "iopub.status.idle": "2022-11-19T10:10:10.387676Z",
     "shell.execute_reply": "2022-11-19T10:10:10.388102Z"
    },
    "papermill": {
     "duration": 0.044725,
     "end_time": "2022-11-19T10:10:10.388243",
     "exception": false,
     "start_time": "2022-11-19T10:10:10.343518",
     "status": "completed"
    },
    "tags": []
   },
   "outputs": [
    {
     "data": {
      "text/plain": [
       "((11982, 28, 28), (1984, 28, 28))"
      ]
     },
     "execution_count": 13,
     "metadata": {},
     "output_type": "execute_result"
    }
   ],
   "source": [
    "X_train.shape, X_test.shape"
   ]
  },
  {
   "cell_type": "markdown",
   "id": "5ccf3f85",
   "metadata": {
    "papermill": {
     "duration": 0.02657,
     "end_time": "2022-11-19T10:10:10.441484",
     "exception": false,
     "start_time": "2022-11-19T10:10:10.414914",
     "status": "completed"
    },
    "tags": []
   },
   "source": [
    "We reshape the data to flatten the image pixels into a set of features or co-variates:"
   ]
  },
  {
   "cell_type": "code",
   "execution_count": 14,
   "id": "5286a4a3",
   "metadata": {
    "execution": {
     "iopub.execute_input": "2022-11-19T10:10:10.507593Z",
     "iopub.status.busy": "2022-11-19T10:10:10.498547Z",
     "iopub.status.idle": "2022-11-19T10:10:10.517466Z",
     "shell.execute_reply": "2022-11-19T10:10:10.516650Z"
    },
    "papermill": {
     "duration": 0.049348,
     "end_time": "2022-11-19T10:10:10.517588",
     "exception": false,
     "start_time": "2022-11-19T10:10:10.468240",
     "status": "completed"
    },
    "tags": []
   },
   "outputs": [
    {
     "data": {
      "text/plain": [
       "((11982, 784), (1984, 784))"
      ]
     },
     "execution_count": 14,
     "metadata": {},
     "output_type": "execute_result"
    }
   ],
   "source": [
    "X_train = X_train.reshape(X_train.shape[0], -1)\n",
    "X_test = X_test.reshape(X_test.shape[0], -1)\n",
    "X_train.shape, X_test.shape"
   ]
  },
  {
   "cell_type": "code",
   "execution_count": 15,
   "id": "73c5f88a",
   "metadata": {
    "execution": {
     "iopub.execute_input": "2022-11-19T10:10:10.584808Z",
     "iopub.status.busy": "2022-11-19T10:10:10.584177Z",
     "iopub.status.idle": "2022-11-19T10:10:10.597660Z",
     "shell.execute_reply": "2022-11-19T10:10:10.598087Z"
    },
    "papermill": {
     "duration": 0.053669,
     "end_time": "2022-11-19T10:10:10.598222",
     "exception": false,
     "start_time": "2022-11-19T10:10:10.544553",
     "status": "completed"
    },
    "tags": []
   },
   "outputs": [],
   "source": [
    "#Impoting functions from 'Kudzu'\n",
    "from kudzu.model import Model\n",
    "from kudzu.train import Learner\n",
    "from kudzu.optim import GD\n",
    "from kudzu.data import Data, Sampler,Dataloader\n",
    "\n",
    "from kudzu.callbacks import AccCallback\n",
    "from kudzu.callbacks import ClfCallback\n",
    "\n",
    "from kudzu.loss import MSE\n",
    "\n",
    "from kudzu.layer import Sigmoid,Relu\n",
    "from kudzu.layer import Affine"
   ]
  },
  {
   "cell_type": "markdown",
   "id": "bc01172a",
   "metadata": {
    "papermill": {
     "duration": 0.026524,
     "end_time": "2022-11-19T10:10:10.652186",
     "exception": false,
     "start_time": "2022-11-19T10:10:10.625662",
     "status": "completed"
    },
    "tags": []
   },
   "source": [
    "### Let us create a `Config` class, to store important parameters. \n",
    "This class essentially plays the role of a dictionary."
   ]
  },
  {
   "cell_type": "code",
   "execution_count": 16,
   "id": "978281aa",
   "metadata": {
    "execution": {
     "iopub.execute_input": "2022-11-19T10:10:10.721458Z",
     "iopub.status.busy": "2022-11-19T10:10:10.720829Z",
     "iopub.status.idle": "2022-11-19T10:10:10.727977Z",
     "shell.execute_reply": "2022-11-19T10:10:10.728401Z"
    },
    "papermill": {
     "duration": 0.049706,
     "end_time": "2022-11-19T10:10:10.728534",
     "exception": false,
     "start_time": "2022-11-19T10:10:10.678828",
     "status": "completed"
    },
    "tags": []
   },
   "outputs": [],
   "source": [
    "class Config:\n",
    "    pass\n",
    "config = Config()\n",
    "config.lr = 0.001\n",
    "config.num_epochs = 250\n",
    "config.bs = 50"
   ]
  },
  {
   "cell_type": "markdown",
   "id": "1385fa59",
   "metadata": {
    "papermill": {
     "duration": 0.026716,
     "end_time": "2022-11-19T10:10:10.782344",
     "exception": false,
     "start_time": "2022-11-19T10:10:10.755628",
     "status": "completed"
    },
    "tags": []
   },
   "source": [
    "### Running Models with the Training data\n",
    "Details about the network layers:\n",
    "- A first affine layer has 784 inputs and does 100 affine transforms. These are followed by a Relu\n",
    "- A second affine layer has 100 inputs from the 100 activations of the past layer, and does 100 affine transforms. These are followed by a Relu\n",
    "- A third affine layer has 100 activations and does 2 affine transformations to create an embedding for visualization. There is no non-linearity here.\n",
    "- A final \"logistic regression\" which has an affine transform from 2 inputs to 1 output, which is squeezed through a sigmoid.\n"
   ]
  },
  {
   "cell_type": "code",
   "execution_count": 17,
   "id": "2b9c66db",
   "metadata": {
    "execution": {
     "iopub.execute_input": "2022-11-19T10:10:10.849907Z",
     "iopub.status.busy": "2022-11-19T10:10:10.840315Z",
     "iopub.status.idle": "2022-11-19T10:10:10.854830Z",
     "shell.execute_reply": "2022-11-19T10:10:10.855309Z"
    },
    "papermill": {
     "duration": 0.046319,
     "end_time": "2022-11-19T10:10:10.855449",
     "exception": false,
     "start_time": "2022-11-19T10:10:10.809130",
     "status": "completed"
    },
    "tags": []
   },
   "outputs": [],
   "source": [
    "data = Data(X_train, y_train.reshape(-1,1))\n",
    "sampler = Sampler(data, config.bs, shuffle=True)\n",
    "\n",
    "dl = Dataloader(data, sampler)\n",
    "\n",
    "opt = GD(config.lr)\n",
    "loss = MSE()"
   ]
  },
  {
   "cell_type": "code",
   "execution_count": 18,
   "id": "b275e4c2",
   "metadata": {
    "execution": {
     "iopub.execute_input": "2022-11-19T10:10:10.915988Z",
     "iopub.status.busy": "2022-11-19T10:10:10.912865Z",
     "iopub.status.idle": "2022-11-19T10:10:10.927606Z",
     "shell.execute_reply": "2022-11-19T10:10:10.926806Z"
    },
    "papermill": {
     "duration": 0.045343,
     "end_time": "2022-11-19T10:10:10.927728",
     "exception": false,
     "start_time": "2022-11-19T10:10:10.882385",
     "status": "completed"
    },
    "tags": []
   },
   "outputs": [],
   "source": [
    "training_data_x = X_train\n",
    "testing_data_x = X_test\n",
    "training_data_y = y_train.reshape(-1,1)\n",
    "testing_data_y = y_test.reshape(-1,1)"
   ]
  },
  {
   "cell_type": "code",
   "execution_count": 19,
   "id": "76951160",
   "metadata": {
    "execution": {
     "iopub.execute_input": "2022-11-19T10:10:10.996085Z",
     "iopub.status.busy": "2022-11-19T10:10:10.984252Z",
     "iopub.status.idle": "2022-11-19T10:10:11.006780Z",
     "shell.execute_reply": "2022-11-19T10:10:11.005647Z"
    },
    "papermill": {
     "duration": 0.052371,
     "end_time": "2022-11-19T10:10:11.006902",
     "exception": false,
     "start_time": "2022-11-19T10:10:10.954531",
     "status": "completed"
    },
    "tags": []
   },
   "outputs": [
    {
     "name": "stdout",
     "output_type": "stream",
     "text": [
      "xavier\n",
      "xavier\n",
      "xavier\n",
      "xavier\n",
      "xavier\n"
     ]
    }
   ],
   "source": [
    "layers = [Affine(\"first\", 784, 100), Relu(\"first\"), Affine(\"second\", 100, 100), Relu(\"second\"), Affine(\"third\", 100, 2), Affine(\"last\", 2, 1), Sigmoid(\"last\")]\n",
    "model_nn = Model(layers)\n",
    "model_lr = Model([Affine(\"logits\", 784, 1), Sigmoid(\"sigmoid\")])"
   ]
  },
  {
   "cell_type": "code",
   "execution_count": 20,
   "id": "6eede77a",
   "metadata": {
    "execution": {
     "iopub.execute_input": "2022-11-19T10:10:11.065616Z",
     "iopub.status.busy": "2022-11-19T10:10:11.065025Z",
     "iopub.status.idle": "2022-11-19T10:10:11.079969Z",
     "shell.execute_reply": "2022-11-19T10:10:11.080452Z"
    },
    "papermill": {
     "duration": 0.046387,
     "end_time": "2022-11-19T10:10:11.080585",
     "exception": false,
     "start_time": "2022-11-19T10:10:11.034198",
     "status": "completed"
    },
    "tags": []
   },
   "outputs": [],
   "source": [
    "nn_learner = Learner(loss, model_nn, opt, config.num_epochs)\n",
    "acc_nn = ClfCallback(nn_learner, config.bs, training_data_x , testing_data_x, training_data_y, testing_data_y)\n",
    "nn_learner.set_callbacks([acc_nn])"
   ]
  },
  {
   "cell_type": "code",
   "execution_count": 21,
   "id": "877b6cc7",
   "metadata": {
    "execution": {
     "iopub.execute_input": "2022-11-19T10:10:11.149539Z",
     "iopub.status.busy": "2022-11-19T10:10:11.148157Z",
     "iopub.status.idle": "2022-11-19T10:10:11.155623Z",
     "shell.execute_reply": "2022-11-19T10:10:11.154820Z"
    },
    "papermill": {
     "duration": 0.047958,
     "end_time": "2022-11-19T10:10:11.155741",
     "exception": false,
     "start_time": "2022-11-19T10:10:11.107783",
     "status": "completed"
    },
    "tags": []
   },
   "outputs": [],
   "source": [
    "lr_learner = Learner(loss, model_lr, opt, config.num_epochs)\n",
    "acc_lr = ClfCallback(lr_learner, config.bs, training_data_x , testing_data_x, training_data_y, testing_data_y)\n",
    "lr_learner.set_callbacks([acc_lr])"
   ]
  },
  {
   "cell_type": "code",
   "execution_count": 22,
   "id": "d9b133c3",
   "metadata": {
    "execution": {
     "iopub.execute_input": "2022-11-19T10:10:11.215257Z",
     "iopub.status.busy": "2022-11-19T10:10:11.214579Z",
     "iopub.status.idle": "2022-11-19T10:11:26.303237Z",
     "shell.execute_reply": "2022-11-19T10:11:26.304069Z"
    },
    "papermill": {
     "duration": 75.121446,
     "end_time": "2022-11-19T10:11:26.304211",
     "exception": false,
     "start_time": "2022-11-19T10:10:11.182765",
     "status": "completed"
    },
    "tags": []
   },
   "outputs": [
    {
     "name": "stdout",
     "output_type": "stream",
     "text": [
      "Epoch 0, Loss 0.2382\n",
      "Training Accuracy: 0.7323, Testing Accuracy: 0.7429\n",
      "\n"
     ]
    },
    {
     "name": "stdout",
     "output_type": "stream",
     "text": [
      "Epoch 10, Loss 0.1041\n",
      "Training Accuracy: 0.9083, Testing Accuracy: 0.9173\n",
      "\n"
     ]
    },
    {
     "name": "stdout",
     "output_type": "stream",
     "text": [
      "Epoch 20, Loss 0.061\n",
      "Training Accuracy: 0.9392, Testing Accuracy: 0.9466\n",
      "\n"
     ]
    },
    {
     "name": "stdout",
     "output_type": "stream",
     "text": [
      "Epoch 30, Loss 0.0463\n",
      "Training Accuracy: 0.9498, Testing Accuracy: 0.9567\n",
      "\n"
     ]
    },
    {
     "name": "stdout",
     "output_type": "stream",
     "text": [
      "Epoch 40, Loss 0.0392\n",
      "Training Accuracy: 0.9568, Testing Accuracy: 0.9597\n",
      "\n"
     ]
    },
    {
     "name": "stdout",
     "output_type": "stream",
     "text": [
      "Epoch 50, Loss 0.035\n",
      "Training Accuracy: 0.9612, Testing Accuracy: 0.9617\n",
      "\n"
     ]
    },
    {
     "name": "stdout",
     "output_type": "stream",
     "text": [
      "Epoch 60, Loss 0.0321\n",
      "Training Accuracy: 0.9641, Testing Accuracy: 0.9667\n",
      "\n"
     ]
    },
    {
     "name": "stdout",
     "output_type": "stream",
     "text": [
      "Epoch 70, Loss 0.03\n",
      "Training Accuracy: 0.9664, Testing Accuracy: 0.9667\n",
      "\n"
     ]
    },
    {
     "name": "stdout",
     "output_type": "stream",
     "text": [
      "Epoch 80, Loss 0.0284\n",
      "Training Accuracy: 0.9693, Testing Accuracy: 0.9682\n",
      "\n"
     ]
    },
    {
     "name": "stdout",
     "output_type": "stream",
     "text": [
      "Epoch 90, Loss 0.027\n",
      "Training Accuracy: 0.9700, Testing Accuracy: 0.9703\n",
      "\n"
     ]
    },
    {
     "name": "stdout",
     "output_type": "stream",
     "text": [
      "Epoch 100, Loss 0.0258\n",
      "Training Accuracy: 0.9707, Testing Accuracy: 0.9708\n",
      "\n"
     ]
    },
    {
     "name": "stdout",
     "output_type": "stream",
     "text": [
      "Epoch 110, Loss 0.0248\n",
      "Training Accuracy: 0.9715, Testing Accuracy: 0.9708\n",
      "\n"
     ]
    },
    {
     "name": "stdout",
     "output_type": "stream",
     "text": [
      "Epoch 120, Loss 0.0239\n",
      "Training Accuracy: 0.9725, Testing Accuracy: 0.9723\n",
      "\n"
     ]
    },
    {
     "name": "stdout",
     "output_type": "stream",
     "text": [
      "Epoch 130, Loss 0.0231\n",
      "Training Accuracy: 0.9735, Testing Accuracy: 0.9733\n",
      "\n"
     ]
    },
    {
     "name": "stdout",
     "output_type": "stream",
     "text": [
      "Epoch 140, Loss 0.0224\n",
      "Training Accuracy: 0.9740, Testing Accuracy: 0.9738\n",
      "\n"
     ]
    },
    {
     "name": "stdout",
     "output_type": "stream",
     "text": [
      "Epoch 150, Loss 0.0217\n",
      "Training Accuracy: 0.9751, Testing Accuracy: 0.9738\n",
      "\n"
     ]
    },
    {
     "name": "stdout",
     "output_type": "stream",
     "text": [
      "Epoch 160, Loss 0.0211\n",
      "Training Accuracy: 0.9756, Testing Accuracy: 0.9748\n",
      "\n"
     ]
    },
    {
     "name": "stdout",
     "output_type": "stream",
     "text": [
      "Epoch 170, Loss 0.0206\n",
      "Training Accuracy: 0.9764, Testing Accuracy: 0.9748\n",
      "\n"
     ]
    },
    {
     "name": "stdout",
     "output_type": "stream",
     "text": [
      "Epoch 180, Loss 0.02\n",
      "Training Accuracy: 0.9770, Testing Accuracy: 0.9748\n",
      "\n"
     ]
    },
    {
     "name": "stdout",
     "output_type": "stream",
     "text": [
      "Epoch 190, Loss 0.0195\n",
      "Training Accuracy: 0.9773, Testing Accuracy: 0.9753\n",
      "\n"
     ]
    },
    {
     "name": "stdout",
     "output_type": "stream",
     "text": [
      "Epoch 200, Loss 0.019\n",
      "Training Accuracy: 0.9785, Testing Accuracy: 0.9753\n",
      "\n"
     ]
    },
    {
     "name": "stdout",
     "output_type": "stream",
     "text": [
      "Epoch 210, Loss 0.0185\n",
      "Training Accuracy: 0.9789, Testing Accuracy: 0.9753\n",
      "\n"
     ]
    },
    {
     "name": "stdout",
     "output_type": "stream",
     "text": [
      "Epoch 220, Loss 0.0181\n",
      "Training Accuracy: 0.9796, Testing Accuracy: 0.9753\n",
      "\n"
     ]
    },
    {
     "name": "stdout",
     "output_type": "stream",
     "text": [
      "Epoch 230, Loss 0.0177\n",
      "Training Accuracy: 0.9801, Testing Accuracy: 0.9748\n",
      "\n"
     ]
    },
    {
     "name": "stdout",
     "output_type": "stream",
     "text": [
      "Epoch 240, Loss 0.0173\n",
      "Training Accuracy: 0.9802, Testing Accuracy: 0.9763\n",
      "\n"
     ]
    },
    {
     "data": {
      "text/plain": [
       "0.007810760462324452"
      ]
     },
     "execution_count": 22,
     "metadata": {},
     "output_type": "execute_result"
    }
   ],
   "source": [
    "nn_learner.train_loop(dl)"
   ]
  },
  {
   "cell_type": "code",
   "execution_count": 23,
   "id": "e0163366",
   "metadata": {
    "execution": {
     "iopub.execute_input": "2022-11-19T10:11:26.392140Z",
     "iopub.status.busy": "2022-11-19T10:11:26.391507Z",
     "iopub.status.idle": "2022-11-19T10:11:39.702246Z",
     "shell.execute_reply": "2022-11-19T10:11:39.703131Z"
    },
    "papermill": {
     "duration": 13.363594,
     "end_time": "2022-11-19T10:11:39.703301",
     "exception": false,
     "start_time": "2022-11-19T10:11:26.339707",
     "status": "completed"
    },
    "tags": []
   },
   "outputs": [
    {
     "name": "stdout",
     "output_type": "stream",
     "text": [
      "Epoch 0, Loss 0.2301\n",
      "Training Accuracy: 0.7162, Testing Accuracy: 0.7303\n",
      "\n"
     ]
    },
    {
     "name": "stdout",
     "output_type": "stream",
     "text": [
      "Epoch 10, Loss 0.1042\n",
      "Training Accuracy: 0.9024, Testing Accuracy: 0.9093\n",
      "\n"
     ]
    },
    {
     "name": "stdout",
     "output_type": "stream",
     "text": [
      "Epoch 20, Loss 0.0801\n",
      "Training Accuracy: 0.9244, Testing Accuracy: 0.9355\n",
      "\n"
     ]
    },
    {
     "name": "stdout",
     "output_type": "stream",
     "text": [
      "Epoch 30, Loss 0.069\n",
      "Training Accuracy: 0.9333, Testing Accuracy: 0.9456\n",
      "\n"
     ]
    },
    {
     "name": "stdout",
     "output_type": "stream",
     "text": [
      "Epoch 40, Loss 0.0623\n",
      "Training Accuracy: 0.9388, Testing Accuracy: 0.9506\n",
      "\n"
     ]
    },
    {
     "name": "stdout",
     "output_type": "stream",
     "text": [
      "Epoch 50, Loss 0.0577\n",
      "Training Accuracy: 0.9416, Testing Accuracy: 0.9526\n",
      "\n"
     ]
    },
    {
     "name": "stdout",
     "output_type": "stream",
     "text": [
      "Epoch 60, Loss 0.0543\n",
      "Training Accuracy: 0.9450, Testing Accuracy: 0.9541\n",
      "\n"
     ]
    },
    {
     "name": "stdout",
     "output_type": "stream",
     "text": [
      "Epoch 70, Loss 0.0517\n",
      "Training Accuracy: 0.9473, Testing Accuracy: 0.9567\n",
      "\n"
     ]
    },
    {
     "name": "stdout",
     "output_type": "stream",
     "text": [
      "Epoch 80, Loss 0.0496\n",
      "Training Accuracy: 0.9488, Testing Accuracy: 0.9587\n",
      "\n"
     ]
    },
    {
     "name": "stdout",
     "output_type": "stream",
     "text": [
      "Epoch 90, Loss 0.0479\n",
      "Training Accuracy: 0.9507, Testing Accuracy: 0.9587\n",
      "\n"
     ]
    },
    {
     "name": "stdout",
     "output_type": "stream",
     "text": [
      "Epoch 100, Loss 0.0465\n",
      "Training Accuracy: 0.9516, Testing Accuracy: 0.9592\n",
      "\n"
     ]
    },
    {
     "name": "stdout",
     "output_type": "stream",
     "text": [
      "Epoch 110, Loss 0.0452\n",
      "Training Accuracy: 0.9524, Testing Accuracy: 0.9602\n",
      "\n"
     ]
    },
    {
     "name": "stdout",
     "output_type": "stream",
     "text": [
      "Epoch 120, Loss 0.0441\n",
      "Training Accuracy: 0.9535, Testing Accuracy: 0.9622\n",
      "\n"
     ]
    },
    {
     "name": "stdout",
     "output_type": "stream",
     "text": [
      "Epoch 130, Loss 0.0432\n",
      "Training Accuracy: 0.9543, Testing Accuracy: 0.9632\n",
      "\n"
     ]
    },
    {
     "name": "stdout",
     "output_type": "stream",
     "text": [
      "Epoch 140, Loss 0.0423\n",
      "Training Accuracy: 0.9556, Testing Accuracy: 0.9637\n",
      "\n"
     ]
    },
    {
     "name": "stdout",
     "output_type": "stream",
     "text": [
      "Epoch 150, Loss 0.0416\n",
      "Training Accuracy: 0.9566, Testing Accuracy: 0.9637\n",
      "\n"
     ]
    },
    {
     "name": "stdout",
     "output_type": "stream",
     "text": [
      "Epoch 160, Loss 0.0409\n",
      "Training Accuracy: 0.9573, Testing Accuracy: 0.9632\n",
      "\n"
     ]
    },
    {
     "name": "stdout",
     "output_type": "stream",
     "text": [
      "Epoch 170, Loss 0.0402\n",
      "Training Accuracy: 0.9578, Testing Accuracy: 0.9637\n",
      "\n"
     ]
    },
    {
     "name": "stdout",
     "output_type": "stream",
     "text": [
      "Epoch 180, Loss 0.0397\n",
      "Training Accuracy: 0.9583, Testing Accuracy: 0.9642\n",
      "\n"
     ]
    },
    {
     "name": "stdout",
     "output_type": "stream",
     "text": [
      "Epoch 190, Loss 0.0392\n",
      "Training Accuracy: 0.9584, Testing Accuracy: 0.9642\n",
      "\n"
     ]
    },
    {
     "name": "stdout",
     "output_type": "stream",
     "text": [
      "Epoch 200, Loss 0.0387\n",
      "Training Accuracy: 0.9584, Testing Accuracy: 0.9642\n",
      "\n"
     ]
    },
    {
     "name": "stdout",
     "output_type": "stream",
     "text": [
      "Epoch 210, Loss 0.0382\n",
      "Training Accuracy: 0.9593, Testing Accuracy: 0.9652\n",
      "\n"
     ]
    },
    {
     "name": "stdout",
     "output_type": "stream",
     "text": [
      "Epoch 220, Loss 0.0378\n",
      "Training Accuracy: 0.9595, Testing Accuracy: 0.9652\n",
      "\n"
     ]
    },
    {
     "name": "stdout",
     "output_type": "stream",
     "text": [
      "Epoch 230, Loss 0.0374\n",
      "Training Accuracy: 0.9599, Testing Accuracy: 0.9652\n",
      "\n"
     ]
    },
    {
     "name": "stdout",
     "output_type": "stream",
     "text": [
      "Epoch 240, Loss 0.037\n",
      "Training Accuracy: 0.9602, Testing Accuracy: 0.9652\n",
      "\n"
     ]
    },
    {
     "data": {
      "text/plain": [
       "0.03462405914482125"
      ]
     },
     "execution_count": 23,
     "metadata": {},
     "output_type": "execute_result"
    }
   ],
   "source": [
    "lr_learner.train_loop(dl)"
   ]
  },
  {
   "cell_type": "code",
   "execution_count": 24,
   "id": "ca410940",
   "metadata": {
    "execution": {
     "iopub.execute_input": "2022-11-19T10:11:39.800930Z",
     "iopub.status.busy": "2022-11-19T10:11:39.800284Z",
     "iopub.status.idle": "2022-11-19T10:11:40.014385Z",
     "shell.execute_reply": "2022-11-19T10:11:40.013877Z"
    },
    "papermill": {
     "duration": 0.269948,
     "end_time": "2022-11-19T10:11:40.014510",
     "exception": false,
     "start_time": "2022-11-19T10:11:39.744562",
     "status": "completed"
    },
    "tags": []
   },
   "outputs": [
    {
     "data": {
      "text/plain": [
       "<matplotlib.legend.Legend at 0x7ff3d8cb3470>"
      ]
     },
     "execution_count": 24,
     "metadata": {},
     "output_type": "execute_result"
    },
    {
     "data": {
      "image/png": "[encoded data removed]",
      "text/plain": [
       "<Figure size 1080x720 with 1 Axes>"
      ]
     },
     "metadata": {
      "needs_background": "light"
     },
     "output_type": "display_data"
    }
   ],
   "source": [
    "#comparing the results of NN and LR\n",
    "plt.figure(figsize=(15,10))\n",
    "\n",
    "# Neural Network plots\n",
    "plt.plot(acc_nn.accuracies, 'r-', label = \"Training Accuracies - NN\")\n",
    "plt.plot(acc_nn.test_accuracies, 'g-', label = \"Testing Accuracies - NN\")\n",
    "\n",
    "# Logistic Regression plots\n",
    "plt.plot(acc_lr.accuracies, 'k-', label = \"Training Accuracies - LR\")\n",
    "plt.plot(acc_lr.test_accuracies, 'b-', label = \"Testing Accuracies - LR\")\n",
    "plt.legend()"
   ]
  },
  {
   "cell_type": "markdown",
   "id": "80dfb35c",
   "metadata": {
    "papermill": {
     "duration": 0.042006,
     "end_time": "2022-11-19T10:11:40.099189",
     "exception": false,
     "start_time": "2022-11-19T10:11:40.057183",
     "status": "completed"
    },
    "tags": []
   },
   "source": [
    "#### Plotting the outputs of this layer of the NN.\n"
   ]
  },
  {
   "cell_type": "code",
   "execution_count": 25,
   "id": "45eb2ff5",
   "metadata": {
    "execution": {
     "iopub.execute_input": "2022-11-19T10:11:40.188943Z",
     "iopub.status.busy": "2022-11-19T10:11:40.188289Z",
     "iopub.status.idle": "2022-11-19T10:11:40.208334Z",
     "shell.execute_reply": "2022-11-19T10:11:40.207813Z"
    },
    "papermill": {
     "duration": 0.067193,
     "end_time": "2022-11-19T10:11:40.208457",
     "exception": false,
     "start_time": "2022-11-19T10:11:40.141264",
     "status": "completed"
    },
    "tags": []
   },
   "outputs": [],
   "source": [
    "new_model = Model(layers[:-2])\n",
    "testing_plot = new_model(testing_data_x)"
   ]
  },
  {
   "cell_type": "code",
   "execution_count": 26,
   "id": "4c0a5485",
   "metadata": {
    "execution": {
     "iopub.execute_input": "2022-11-19T10:11:40.299642Z",
     "iopub.status.busy": "2022-11-19T10:11:40.298981Z",
     "iopub.status.idle": "2022-11-19T10:11:40.482535Z",
     "shell.execute_reply": "2022-11-19T10:11:40.482975Z"
    },
    "papermill": {
     "duration": 0.232126,
     "end_time": "2022-11-19T10:11:40.483123",
     "exception": false,
     "start_time": "2022-11-19T10:11:40.250997",
     "status": "completed"
    },
    "tags": []
   },
   "outputs": [
    {
     "data": {
      "text/plain": [
       "Text(0.5, 1.0, 'Outputs')"
      ]
     },
     "execution_count": 26,
     "metadata": {},
     "output_type": "execute_result"
    },
    {
     "data": {
      "image/png": "[encoded data removed]",
      "text/plain": [
       "<Figure size 576x504 with 1 Axes>"
      ]
     },
     "metadata": {
      "needs_background": "light"
     },
     "output_type": "display_data"
    }
   ],
   "source": [
    "# Plotting the scatter plot of points and color coding by class\n",
    "plt.figure(figsize=(8,7))\n",
    "plt.scatter(testing_plot[:,0], testing_plot[:,1], alpha = 0.1, c = y_test.ravel());\n",
    "plt.title('Outputs')"
   ]
  },
  {
   "cell_type": "markdown",
   "id": "a74fcf8f",
   "metadata": {
    "papermill": {
     "duration": 0.044128,
     "end_time": "2022-11-19T10:11:40.571725",
     "exception": false,
     "start_time": "2022-11-19T10:11:40.527597",
     "status": "completed"
    },
    "tags": []
   },
   "source": [
    "Probability contours"
   ]
  },
  {
   "cell_type": "code",
   "execution_count": 27,
   "id": "d0afc8e3",
   "metadata": {
    "execution": {
     "iopub.execute_input": "2022-11-19T10:11:40.667755Z",
     "iopub.status.busy": "2022-11-19T10:11:40.666259Z",
     "iopub.status.idle": "2022-11-19T10:11:40.677227Z",
     "shell.execute_reply": "2022-11-19T10:11:40.677671Z"
    },
    "papermill": {
     "duration": 0.061813,
     "end_time": "2022-11-19T10:11:40.677812",
     "exception": false,
     "start_time": "2022-11-19T10:11:40.615999",
     "status": "completed"
    },
    "tags": []
   },
   "outputs": [],
   "source": [
    "model_prob = Model(layers[-2:]) "
   ]
  },
  {
   "cell_type": "code",
   "execution_count": 28,
   "id": "9b96e238",
   "metadata": {
    "execution": {
     "iopub.execute_input": "2022-11-19T10:11:40.781477Z",
     "iopub.status.busy": "2022-11-19T10:11:40.780372Z",
     "iopub.status.idle": "2022-11-19T10:11:40.790548Z",
     "shell.execute_reply": "2022-11-19T10:11:40.790053Z"
    },
    "papermill": {
     "duration": 0.068517,
     "end_time": "2022-11-19T10:11:40.790665",
     "exception": false,
     "start_time": "2022-11-19T10:11:40.722148",
     "status": "completed"
    },
    "tags": []
   },
   "outputs": [],
   "source": [
    "#creating the x and y ranges according to the above generated plot.\n",
    "x_range = np.linspace(-4, 1, 100) \n",
    "y_range = np.linspace(-6, 6, 100) \n",
    "x_grid, y_grid = np.meshgrid(x_range, y_range) # x_grid and y_grig are of size 100 X 100\n",
    "\n",
    "# converting x_grid and y_grid to continuous arrays\n",
    "x_gridflat = np.ravel(x_grid)\n",
    "y_gridflat = np.ravel(y_grid)\n",
    "\n",
    "# The last layer of the current model takes two columns as input. Hence transpose of np.vstack() is required.\n",
    "X = np.vstack((x_gridflat, y_gridflat)).T\n",
    "\n",
    "prob_contour = model_prob(X).reshape(100,100) "
   ]
  },
  {
   "cell_type": "code",
   "execution_count": 29,
   "id": "da72499a",
   "metadata": {
    "execution": {
     "iopub.execute_input": "2022-11-19T10:11:40.919879Z",
     "iopub.status.busy": "2022-11-19T10:11:40.919254Z",
     "iopub.status.idle": "2022-11-19T10:11:41.158568Z",
     "shell.execute_reply": "2022-11-19T10:11:41.158020Z"
    },
    "papermill": {
     "duration": 0.290504,
     "end_time": "2022-11-19T10:11:41.158698",
     "exception": false,
     "start_time": "2022-11-19T10:11:40.868194",
     "status": "completed"
    },
    "tags": []
   },
   "outputs": [
    {
     "data": {
      "image/png": "[encoded data removed]",
      "text/plain": [
       "<Figure size 720x648 with 1 Axes>"
      ]
     },
     "metadata": {
      "needs_background": "light"
     },
     "output_type": "display_data"
    }
   ],
   "source": [
    "plt.figure(figsize=(10,9))\n",
    "plt.scatter(testing_plot[:,0], testing_plot[:,1], alpha = 0.1, c = y_test.ravel())\n",
    "contours = plt.contour(x_grid,y_grid,prob_contour)\n",
    "plt.title('Probability Contours')\n",
    "plt.clabel(contours, inline = True );"
   ]
  },
  {
   "cell_type": "code",
   "execution_count": null,
   "id": "e81b4ac7",
   "metadata": {
    "papermill": {
     "duration": 0.047427,
     "end_time": "2022-11-19T10:11:41.254013",
     "exception": false,
     "start_time": "2022-11-19T10:11:41.206586",
     "status": "completed"
    },
    "tags": []
   },
   "outputs": [],
   "source": []
  }
 ],
 "metadata": {
  "kernelspec": {
   "display_name": "Python 3",
   "language": "python",
   "name": "python3"
  },
  "language_info": {
   "codemirror_mode": {
    "name": "ipython",
    "version": 3
   },
   "file_extension": ".py",
   "mimetype": "text/x-python",
   "name": "python",
   "nbconvert_exporter": "python",
   "pygments_lexer": "ipython3",
   "version": "3.6.15"
  },
  "papermill": {
   "default_parameters": {},
   "duration": 97.398129,
   "end_time": "2022-11-19T10:11:41.720378",
   "environment_variables": {},
   "exception": null,
   "input_path": "2020-08-11-part2.ipynb",
   "output_path": "2020-08-11-part2.ipynb",
   "parameters": {},
   "start_time": "2022-11-19T10:10:04.322249",
   "version": "2.3.3"
  }
 },
 "nbformat": 4,
 "nbformat_minor": 5
}