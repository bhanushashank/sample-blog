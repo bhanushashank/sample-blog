{
 "cells": [
  {
   "cell_type": "markdown",
   "id": "98380cd3",
   "metadata": {
    "papermill": {
     "duration": 0.034275,
     "end_time": "2021-09-07T20:07:24.929102",
     "exception": false,
     "start_time": "2021-09-07T20:07:24.894827",
     "status": "completed"
    },
    "tags": []
   },
   "source": [
    "# Distinguish Your Own Digits (DYOD)"
   ]
  },
  {
   "cell_type": "markdown",
   "id": "ef31240d",
   "metadata": {
    "papermill": {
     "duration": 0.029739,
     "end_time": "2021-09-07T20:07:24.989061",
     "exception": false,
     "start_time": "2021-09-07T20:07:24.959322",
     "status": "completed"
    },
    "tags": []
   },
   "source": [
    "You are going to write a classifier that distinguishes between the number 3 and number 8."
   ]
  },
  {
   "cell_type": "code",
   "execution_count": 1,
   "id": "b15c8646",
   "metadata": {
    "execution": {
     "iopub.execute_input": "2021-09-07T20:07:25.061358Z",
     "iopub.status.busy": "2021-09-07T20:07:25.060676Z",
     "iopub.status.idle": "2021-09-07T20:07:25.076073Z",
     "shell.execute_reply": "2021-09-07T20:07:25.076655Z"
    },
    "papermill": {
     "duration": 0.058191,
     "end_time": "2021-09-07T20:07:25.076871",
     "exception": false,
     "start_time": "2021-09-07T20:07:25.018680",
     "status": "completed"
    },
    "tags": []
   },
   "outputs": [],
   "source": [
    "%load_ext autoreload\n",
    "%autoreload 2"
   ]
  },
  {
   "cell_type": "code",
   "execution_count": 2,
   "id": "22ef38dc",
   "metadata": {
    "execution": {
     "iopub.execute_input": "2021-09-07T20:07:25.145483Z",
     "iopub.status.busy": "2021-09-07T20:07:25.144698Z",
     "iopub.status.idle": "2021-09-07T20:07:25.793902Z",
     "shell.execute_reply": "2021-09-07T20:07:25.793307Z"
    },
    "papermill": {
     "duration": 0.685369,
     "end_time": "2021-09-07T20:07:25.794063",
     "exception": false,
     "start_time": "2021-09-07T20:07:25.108694",
     "status": "completed"
    },
    "tags": []
   },
   "outputs": [],
   "source": [
    "%matplotlib inline\n",
    "import numpy as np\n",
    "import matplotlib.pyplot as plt\n",
    "import pandas as pd"
   ]
  },
  {
   "cell_type": "markdown",
   "id": "ba036198",
   "metadata": {
    "papermill": {
     "duration": 0.031088,
     "end_time": "2021-09-07T20:07:25.855179",
     "exception": false,
     "start_time": "2021-09-07T20:07:25.824091",
     "status": "completed"
    },
    "tags": []
   },
   "source": [
    "From the command line run `pip install mnist`. This is a library that will help you bring down the mnist dataset. If you run this from a notebook, you need to put  `!pip install mnist` in a cell by itself."
   ]
  },
  {
   "cell_type": "code",
   "execution_count": 3,
   "id": "bb6ad8a1",
   "metadata": {
    "execution": {
     "iopub.execute_input": "2021-09-07T20:07:25.923191Z",
     "iopub.status.busy": "2021-09-07T20:07:25.922482Z",
     "iopub.status.idle": "2021-09-07T20:07:28.029594Z",
     "shell.execute_reply": "2021-09-07T20:07:28.028996Z"
    },
    "papermill": {
     "duration": 2.14456,
     "end_time": "2021-09-07T20:07:28.029751",
     "exception": false,
     "start_time": "2021-09-07T20:07:25.885191",
     "status": "completed"
    },
    "tags": []
   },
   "outputs": [
    {
     "name": "stdout",
     "output_type": "stream",
     "text": [
      "Collecting mnist\r\n"
     ]
    },
    {
     "name": "stdout",
     "output_type": "stream",
     "text": [
      "  Downloading mnist-0.2.2-py2.py3-none-any.whl (3.5 kB)\r\n"
     ]
    },
    {
     "name": "stdout",
     "output_type": "stream",
     "text": [
      "Requirement already satisfied: numpy in /opt/hostedtoolcache/Python/3.6.14/x64/lib/python3.6/site-packages (from mnist) (1.19.5)\r\n"
     ]
    },
    {
     "name": "stdout",
     "output_type": "stream",
     "text": [
      "Installing collected packages: mnist\r\n"
     ]
    },
    {
     "name": "stdout",
     "output_type": "stream",
     "text": [
      "Successfully installed mnist-0.2.2\r\n"
     ]
    }
   ],
   "source": [
    "!pip install mnist"
   ]
  },
  {
   "cell_type": "markdown",
   "id": "69df9c9a",
   "metadata": {
    "papermill": {
     "duration": 0.032259,
     "end_time": "2021-09-07T20:07:28.099671",
     "exception": false,
     "start_time": "2021-09-07T20:07:28.067412",
     "status": "completed"
    },
    "tags": []
   },
   "source": [
    "## Preparing the Data"
   ]
  },
  {
   "cell_type": "code",
   "execution_count": 4,
   "id": "7f69d806",
   "metadata": {
    "execution": {
     "iopub.execute_input": "2021-09-07T20:07:28.169841Z",
     "iopub.status.busy": "2021-09-07T20:07:28.169169Z",
     "iopub.status.idle": "2021-09-07T20:07:28.186755Z",
     "shell.execute_reply": "2021-09-07T20:07:28.186180Z"
    },
    "papermill": {
     "duration": 0.054655,
     "end_time": "2021-09-07T20:07:28.186907",
     "exception": false,
     "start_time": "2021-09-07T20:07:28.132252",
     "status": "completed"
    },
    "tags": []
   },
   "outputs": [],
   "source": [
    "import mnist"
   ]
  },
  {
   "cell_type": "code",
   "execution_count": 5,
   "id": "a411e44f",
   "metadata": {
    "execution": {
     "iopub.execute_input": "2021-09-07T20:07:28.256887Z",
     "iopub.status.busy": "2021-09-07T20:07:28.256187Z",
     "iopub.status.idle": "2021-09-07T20:07:28.897664Z",
     "shell.execute_reply": "2021-09-07T20:07:28.896916Z"
    },
    "papermill": {
     "duration": 0.678657,
     "end_time": "2021-09-07T20:07:28.897819",
     "exception": false,
     "start_time": "2021-09-07T20:07:28.219162",
     "status": "completed"
    },
    "tags": []
   },
   "outputs": [],
   "source": [
    "train_images = mnist.train_images()\n",
    "train_labels = mnist.train_labels()"
   ]
  },
  {
   "cell_type": "code",
   "execution_count": 6,
   "id": "dceab3a5",
   "metadata": {
    "execution": {
     "iopub.execute_input": "2021-09-07T20:07:28.973196Z",
     "iopub.status.busy": "2021-09-07T20:07:28.972517Z",
     "iopub.status.idle": "2021-09-07T20:07:28.990305Z",
     "shell.execute_reply": "2021-09-07T20:07:28.989698Z"
    },
    "papermill": {
     "duration": 0.056152,
     "end_time": "2021-09-07T20:07:28.990452",
     "exception": false,
     "start_time": "2021-09-07T20:07:28.934300",
     "status": "completed"
    },
    "tags": []
   },
   "outputs": [
    {
     "data": {
      "text/plain": [
       "((60000, 28, 28), (60000,))"
      ]
     },
     "execution_count": 6,
     "metadata": {},
     "output_type": "execute_result"
    }
   ],
   "source": [
    "train_images.shape, train_labels.shape"
   ]
  },
  {
   "cell_type": "code",
   "execution_count": 7,
   "id": "f50dc2bb",
   "metadata": {
    "execution": {
     "iopub.execute_input": "2021-09-07T20:07:29.063397Z",
     "iopub.status.busy": "2021-09-07T20:07:29.062585Z",
     "iopub.status.idle": "2021-09-07T20:07:29.312550Z",
     "shell.execute_reply": "2021-09-07T20:07:29.311926Z"
    },
    "papermill": {
     "duration": 0.290236,
     "end_time": "2021-09-07T20:07:29.312706",
     "exception": false,
     "start_time": "2021-09-07T20:07:29.022470",
     "status": "completed"
    },
    "tags": []
   },
   "outputs": [],
   "source": [
    "test_images = mnist.test_images()\n",
    "test_labels = mnist.test_labels()"
   ]
  },
  {
   "cell_type": "code",
   "execution_count": 8,
   "id": "fc38cf1b",
   "metadata": {
    "execution": {
     "iopub.execute_input": "2021-09-07T20:07:29.384906Z",
     "iopub.status.busy": "2021-09-07T20:07:29.383377Z",
     "iopub.status.idle": "2021-09-07T20:07:29.397987Z",
     "shell.execute_reply": "2021-09-07T20:07:29.397410Z"
    },
    "papermill": {
     "duration": 0.052368,
     "end_time": "2021-09-07T20:07:29.398132",
     "exception": false,
     "start_time": "2021-09-07T20:07:29.345764",
     "status": "completed"
    },
    "tags": []
   },
   "outputs": [
    {
     "data": {
      "text/plain": [
       "((10000, 28, 28), (10000,))"
      ]
     },
     "execution_count": 8,
     "metadata": {},
     "output_type": "execute_result"
    }
   ],
   "source": [
    "test_images.shape, test_labels.shape"
   ]
  },
  {
   "cell_type": "code",
   "execution_count": 9,
   "id": "f9ed8fe0",
   "metadata": {
    "execution": {
     "iopub.execute_input": "2021-09-07T20:07:29.471800Z",
     "iopub.status.busy": "2021-09-07T20:07:29.471126Z",
     "iopub.status.idle": "2021-09-07T20:07:29.673882Z",
     "shell.execute_reply": "2021-09-07T20:07:29.674884Z"
    },
    "papermill": {
     "duration": 0.243271,
     "end_time": "2021-09-07T20:07:29.675080",
     "exception": false,
     "start_time": "2021-09-07T20:07:29.431809",
     "status": "completed"
    },
    "tags": []
   },
   "outputs": [
    {
     "name": "stdout",
     "output_type": "stream",
     "text": [
      "2\n"
     ]
    },
    {
     "data": {
      "text/plain": [
       "<matplotlib.image.AxesImage at 0x7efbdaa75cf8>"
      ]
     },
     "execution_count": 9,
     "metadata": {},
     "output_type": "execute_result"
    },
    {
     "data": {
      "image/png": "[encoded data removed]",
      "text/plain": [
       "<Figure size 432x288 with 1 Axes>"
      ]
     },
     "metadata": {
      "needs_background": "light"
     },
     "output_type": "display_data"
    }
   ],
   "source": [
    "image_index = 7776 # You may select anything up to 60,000\n",
    "print(train_labels[image_index]) \n",
    "plt.imshow(train_images[image_index], cmap='Greys')"
   ]
  },
  {
   "cell_type": "markdown",
   "id": "a8d2388d",
   "metadata": {
    "papermill": {
     "duration": 0.03507,
     "end_time": "2021-09-07T20:07:29.745072",
     "exception": false,
     "start_time": "2021-09-07T20:07:29.710002",
     "status": "completed"
    },
    "tags": []
   },
   "source": [
    "## Filter data to get 3 and 8 out"
   ]
  },
  {
   "cell_type": "code",
   "execution_count": 10,
   "id": "776f7fc7",
   "metadata": {
    "execution": {
     "iopub.execute_input": "2021-09-07T20:07:29.818545Z",
     "iopub.status.busy": "2021-09-07T20:07:29.817852Z",
     "iopub.status.idle": "2021-09-07T20:07:29.840509Z",
     "shell.execute_reply": "2021-09-07T20:07:29.841090Z"
    },
    "papermill": {
     "duration": 0.061489,
     "end_time": "2021-09-07T20:07:29.841272",
     "exception": false,
     "start_time": "2021-09-07T20:07:29.779783",
     "status": "completed"
    },
    "tags": []
   },
   "outputs": [],
   "source": [
    "train_filter = np.where((train_labels == 3 ) | (train_labels == 8))\n",
    "test_filter = np.where((test_labels == 3) | (test_labels == 8))\n",
    "X_train, y_train = train_images[train_filter], train_labels[train_filter]\n",
    "X_test, y_test = test_images[test_filter], test_labels[test_filter]"
   ]
  },
  {
   "cell_type": "markdown",
   "id": "948f0b7e",
   "metadata": {
    "papermill": {
     "duration": 0.035624,
     "end_time": "2021-09-07T20:07:29.912628",
     "exception": false,
     "start_time": "2021-09-07T20:07:29.877004",
     "status": "completed"
    },
    "tags": []
   },
   "source": [
    "We normalize the pizel values in the 0 to 1 range"
   ]
  },
  {
   "cell_type": "code",
   "execution_count": 11,
   "id": "ee4c2166",
   "metadata": {
    "execution": {
     "iopub.execute_input": "2021-09-07T20:07:29.989372Z",
     "iopub.status.busy": "2021-09-07T20:07:29.988678Z",
     "iopub.status.idle": "2021-09-07T20:07:30.048300Z",
     "shell.execute_reply": "2021-09-07T20:07:30.047702Z"
    },
    "papermill": {
     "duration": 0.101642,
     "end_time": "2021-09-07T20:07:30.048500",
     "exception": false,
     "start_time": "2021-09-07T20:07:29.946858",
     "status": "completed"
    },
    "tags": []
   },
   "outputs": [],
   "source": [
    "X_train = X_train/255.\n",
    "X_test = X_test/255."
   ]
  },
  {
   "cell_type": "markdown",
   "id": "ddcf4fab",
   "metadata": {
    "papermill": {
     "duration": 0.036446,
     "end_time": "2021-09-07T20:07:30.124273",
     "exception": false,
     "start_time": "2021-09-07T20:07:30.087827",
     "status": "completed"
    },
    "tags": []
   },
   "source": [
    "And setup the labels as 1 (when the digit is 3) and 0 (when the digit is 8)"
   ]
  },
  {
   "cell_type": "code",
   "execution_count": 12,
   "id": "7dc908f2",
   "metadata": {
    "execution": {
     "iopub.execute_input": "2021-09-07T20:07:30.199860Z",
     "iopub.status.busy": "2021-09-07T20:07:30.199171Z",
     "iopub.status.idle": "2021-09-07T20:07:30.212985Z",
     "shell.execute_reply": "2021-09-07T20:07:30.213553Z"
    },
    "papermill": {
     "duration": 0.052636,
     "end_time": "2021-09-07T20:07:30.213729",
     "exception": false,
     "start_time": "2021-09-07T20:07:30.161093",
     "status": "completed"
    },
    "tags": []
   },
   "outputs": [],
   "source": [
    "y_train = 1*(y_train==3)\n",
    "y_test = 1*(y_test==3)"
   ]
  },
  {
   "cell_type": "code",
   "execution_count": 13,
   "id": "01e4e969",
   "metadata": {
    "execution": {
     "iopub.execute_input": "2021-09-07T20:07:30.301675Z",
     "iopub.status.busy": "2021-09-07T20:07:30.297948Z",
     "iopub.status.idle": "2021-09-07T20:07:30.305760Z",
     "shell.execute_reply": "2021-09-07T20:07:30.305183Z"
    },
    "papermill": {
     "duration": 0.057421,
     "end_time": "2021-09-07T20:07:30.305907",
     "exception": false,
     "start_time": "2021-09-07T20:07:30.248486",
     "status": "completed"
    },
    "tags": []
   },
   "outputs": [
    {
     "data": {
      "text/plain": [
       "((11982, 28, 28), (1984, 28, 28))"
      ]
     },
     "execution_count": 13,
     "metadata": {},
     "output_type": "execute_result"
    }
   ],
   "source": [
    "X_train.shape, X_test.shape"
   ]
  },
  {
   "cell_type": "markdown",
   "id": "5ccf3f85",
   "metadata": {
    "papermill": {
     "duration": 0.035325,
     "end_time": "2021-09-07T20:07:30.377769",
     "exception": false,
     "start_time": "2021-09-07T20:07:30.342444",
     "status": "completed"
    },
    "tags": []
   },
   "source": [
    "We reshape the data to flatten the image pixels into a set of features or co-variates:"
   ]
  },
  {
   "cell_type": "code",
   "execution_count": 14,
   "id": "5286a4a3",
   "metadata": {
    "execution": {
     "iopub.execute_input": "2021-09-07T20:07:30.454632Z",
     "iopub.status.busy": "2021-09-07T20:07:30.453962Z",
     "iopub.status.idle": "2021-09-07T20:07:30.468548Z",
     "shell.execute_reply": "2021-09-07T20:07:30.467565Z"
    },
    "papermill": {
     "duration": 0.056049,
     "end_time": "2021-09-07T20:07:30.468700",
     "exception": false,
     "start_time": "2021-09-07T20:07:30.412651",
     "status": "completed"
    },
    "tags": []
   },
   "outputs": [
    {
     "data": {
      "text/plain": [
       "((11982, 784), (1984, 784))"
      ]
     },
     "execution_count": 14,
     "metadata": {},
     "output_type": "execute_result"
    }
   ],
   "source": [
    "X_train = X_train.reshape(X_train.shape[0], -1)\n",
    "X_test = X_test.reshape(X_test.shape[0], -1)\n",
    "X_train.shape, X_test.shape"
   ]
  },
  {
   "cell_type": "code",
   "execution_count": 15,
   "id": "73c5f88a",
   "metadata": {
    "execution": {
     "iopub.execute_input": "2021-09-07T20:07:30.557464Z",
     "iopub.status.busy": "2021-09-07T20:07:30.550077Z",
     "iopub.status.idle": "2021-09-07T20:07:30.575291Z",
     "shell.execute_reply": "2021-09-07T20:07:30.574154Z"
    },
    "papermill": {
     "duration": 0.064862,
     "end_time": "2021-09-07T20:07:30.575451",
     "exception": false,
     "start_time": "2021-09-07T20:07:30.510589",
     "status": "completed"
    },
    "tags": []
   },
   "outputs": [],
   "source": [
    "#Impoting functions from 'Kudzu'\n",
    "from kudzu.model import Model\n",
    "from kudzu.train import Learner\n",
    "from kudzu.optim import GD\n",
    "from kudzu.data import Data, Sampler,Dataloader\n",
    "\n",
    "from kudzu.callbacks import AccCallback\n",
    "from kudzu.callbacks import ClfCallback\n",
    "\n",
    "from kudzu.loss import MSE\n",
    "\n",
    "from kudzu.layer import Sigmoid,Relu\n",
    "from kudzu.layer import Affine"
   ]
  },
  {
   "cell_type": "markdown",
   "id": "bc01172a",
   "metadata": {
    "papermill": {
     "duration": 0.037824,
     "end_time": "2021-09-07T20:07:30.653103",
     "exception": false,
     "start_time": "2021-09-07T20:07:30.615279",
     "status": "completed"
    },
    "tags": []
   },
   "source": [
    "### Let us create a `Config` class, to store important parameters. \n",
    "This class essentially plays the role of a dictionary."
   ]
  },
  {
   "cell_type": "code",
   "execution_count": 16,
   "id": "978281aa",
   "metadata": {
    "execution": {
     "iopub.execute_input": "2021-09-07T20:07:30.730893Z",
     "iopub.status.busy": "2021-09-07T20:07:30.729456Z",
     "iopub.status.idle": "2021-09-07T20:07:30.743717Z",
     "shell.execute_reply": "2021-09-07T20:07:30.742750Z"
    },
    "papermill": {
     "duration": 0.055277,
     "end_time": "2021-09-07T20:07:30.743871",
     "exception": false,
     "start_time": "2021-09-07T20:07:30.688594",
     "status": "completed"
    },
    "tags": []
   },
   "outputs": [],
   "source": [
    "class Config:\n",
    "    pass\n",
    "config = Config()\n",
    "config.lr = 0.001\n",
    "config.num_epochs = 250\n",
    "config.bs = 50"
   ]
  },
  {
   "cell_type": "markdown",
   "id": "1385fa59",
   "metadata": {
    "papermill": {
     "duration": 0.034632,
     "end_time": "2021-09-07T20:07:30.815643",
     "exception": false,
     "start_time": "2021-09-07T20:07:30.781011",
     "status": "completed"
    },
    "tags": []
   },
   "source": [
    "### Running Models with the Training data\n",
    "Details about the network layers:\n",
    "- A first affine layer has 784 inputs and does 100 affine transforms. These are followed by a Relu\n",
    "- A second affine layer has 100 inputs from the 100 activations of the past layer, and does 100 affine transforms. These are followed by a Relu\n",
    "- A third affine layer has 100 activations and does 2 affine transformations to create an embedding for visualization. There is no non-linearity here.\n",
    "- A final \"logistic regression\" which has an affine transform from 2 inputs to 1 output, which is squeezed through a sigmoid.\n"
   ]
  },
  {
   "cell_type": "code",
   "execution_count": 17,
   "id": "2b9c66db",
   "metadata": {
    "execution": {
     "iopub.execute_input": "2021-09-07T20:07:30.891116Z",
     "iopub.status.busy": "2021-09-07T20:07:30.890417Z",
     "iopub.status.idle": "2021-09-07T20:07:30.907924Z",
     "shell.execute_reply": "2021-09-07T20:07:30.907351Z"
    },
    "papermill": {
     "duration": 0.057354,
     "end_time": "2021-09-07T20:07:30.908077",
     "exception": false,
     "start_time": "2021-09-07T20:07:30.850723",
     "status": "completed"
    },
    "tags": []
   },
   "outputs": [],
   "source": [
    "data = Data(X_train, y_train.reshape(-1,1))\n",
    "sampler = Sampler(data, config.bs, shuffle=True)\n",
    "\n",
    "dl = Dataloader(data, sampler)\n",
    "\n",
    "opt = GD(config.lr)\n",
    "loss = MSE()"
   ]
  },
  {
   "cell_type": "code",
   "execution_count": 18,
   "id": "b275e4c2",
   "metadata": {
    "execution": {
     "iopub.execute_input": "2021-09-07T20:07:30.982934Z",
     "iopub.status.busy": "2021-09-07T20:07:30.982234Z",
     "iopub.status.idle": "2021-09-07T20:07:30.997175Z",
     "shell.execute_reply": "2021-09-07T20:07:30.997722Z"
    },
    "papermill": {
     "duration": 0.055248,
     "end_time": "2021-09-07T20:07:30.997911",
     "exception": false,
     "start_time": "2021-09-07T20:07:30.942663",
     "status": "completed"
    },
    "tags": []
   },
   "outputs": [],
   "source": [
    "training_data_x = X_train\n",
    "testing_data_x = X_test\n",
    "training_data_y = y_train.reshape(-1,1)\n",
    "testing_data_y = y_test.reshape(-1,1)"
   ]
  },
  {
   "cell_type": "code",
   "execution_count": 19,
   "id": "76951160",
   "metadata": {
    "execution": {
     "iopub.execute_input": "2021-09-07T20:07:31.095851Z",
     "iopub.status.busy": "2021-09-07T20:07:31.087067Z",
     "iopub.status.idle": "2021-09-07T20:07:31.103256Z",
     "shell.execute_reply": "2021-09-07T20:07:31.103782Z"
    },
    "papermill": {
     "duration": 0.068403,
     "end_time": "2021-09-07T20:07:31.103957",
     "exception": false,
     "start_time": "2021-09-07T20:07:31.035554",
     "status": "completed"
    },
    "tags": []
   },
   "outputs": [
    {
     "name": "stdout",
     "output_type": "stream",
     "text": [
      "xavier\n",
      "xavier\n",
      "xavier\n",
      "xavier\n",
      "xavier\n"
     ]
    }
   ],
   "source": [
    "layers = [Affine(\"first\", 784, 100), Relu(\"first\"), Affine(\"second\", 100, 100), Relu(\"second\"), Affine(\"third\", 100, 2), Affine(\"last\", 2, 1), Sigmoid(\"last\")]\n",
    "model_nn = Model(layers)\n",
    "model_lr = Model([Affine(\"logits\", 784, 1), Sigmoid(\"sigmoid\")])"
   ]
  },
  {
   "cell_type": "code",
   "execution_count": 20,
   "id": "6eede77a",
   "metadata": {
    "execution": {
     "iopub.execute_input": "2021-09-07T20:07:31.181011Z",
     "iopub.status.busy": "2021-09-07T20:07:31.180283Z",
     "iopub.status.idle": "2021-09-07T20:07:31.197409Z",
     "shell.execute_reply": "2021-09-07T20:07:31.196809Z"
    },
    "papermill": {
     "duration": 0.057353,
     "end_time": "2021-09-07T20:07:31.197568",
     "exception": false,
     "start_time": "2021-09-07T20:07:31.140215",
     "status": "completed"
    },
    "tags": []
   },
   "outputs": [],
   "source": [
    "nn_learner = Learner(loss, model_nn, opt, config.num_epochs)\n",
    "acc_nn = ClfCallback(nn_learner, config.bs, training_data_x , testing_data_x, training_data_y, testing_data_y)\n",
    "nn_learner.set_callbacks([acc_nn])"
   ]
  },
  {
   "cell_type": "code",
   "execution_count": 21,
   "id": "877b6cc7",
   "metadata": {
    "execution": {
     "iopub.execute_input": "2021-09-07T20:07:31.286510Z",
     "iopub.status.busy": "2021-09-07T20:07:31.278356Z",
     "iopub.status.idle": "2021-09-07T20:07:31.289023Z",
     "shell.execute_reply": "2021-09-07T20:07:31.289748Z"
    },
    "papermill": {
     "duration": 0.057237,
     "end_time": "2021-09-07T20:07:31.289937",
     "exception": false,
     "start_time": "2021-09-07T20:07:31.232700",
     "status": "completed"
    },
    "tags": []
   },
   "outputs": [],
   "source": [
    "lr_learner = Learner(loss, model_lr, opt, config.num_epochs)\n",
    "acc_lr = ClfCallback(lr_learner, config.bs, training_data_x , testing_data_x, training_data_y, testing_data_y)\n",
    "lr_learner.set_callbacks([acc_lr])"
   ]
  },
  {
   "cell_type": "code",
   "execution_count": 22,
   "id": "d9b133c3",
   "metadata": {
    "execution": {
     "iopub.execute_input": "2021-09-07T20:07:31.369284Z",
     "iopub.status.busy": "2021-09-07T20:07:31.368606Z",
     "iopub.status.idle": "2021-09-07T20:09:42.051071Z",
     "shell.execute_reply": "2021-09-07T20:09:42.052061Z"
    },
    "papermill": {
     "duration": 130.725443,
     "end_time": "2021-09-07T20:09:42.052239",
     "exception": false,
     "start_time": "2021-09-07T20:07:31.326796",
     "status": "completed"
    },
    "tags": []
   },
   "outputs": [
    {
     "name": "stdout",
     "output_type": "stream",
     "text": [
      "Epoch 0, Loss 0.2138\n",
      "Training Accuracy: 0.8172, Testing Accuracy: 0.8296\n",
      "\n"
     ]
    },
    {
     "name": "stdout",
     "output_type": "stream",
     "text": [
      "Epoch 10, Loss 0.0625\n",
      "Training Accuracy: 0.9377, Testing Accuracy: 0.9486\n",
      "\n"
     ]
    },
    {
     "name": "stdout",
     "output_type": "stream",
     "text": [
      "Epoch 20, Loss 0.0418\n",
      "Training Accuracy: 0.9567, Testing Accuracy: 0.9637\n",
      "\n"
     ]
    },
    {
     "name": "stdout",
     "output_type": "stream",
     "text": [
      "Epoch 30, Loss 0.0343\n",
      "Training Accuracy: 0.9629, Testing Accuracy: 0.9672\n",
      "\n"
     ]
    },
    {
     "name": "stdout",
     "output_type": "stream",
     "text": [
      "Epoch 40, Loss 0.0303\n",
      "Training Accuracy: 0.9668, Testing Accuracy: 0.9703\n",
      "\n"
     ]
    },
    {
     "name": "stdout",
     "output_type": "stream",
     "text": [
      "Epoch 50, Loss 0.0277\n",
      "Training Accuracy: 0.9696, Testing Accuracy: 0.9703\n",
      "\n"
     ]
    },
    {
     "name": "stdout",
     "output_type": "stream",
     "text": [
      "Epoch 60, Loss 0.0259\n",
      "Training Accuracy: 0.9714, Testing Accuracy: 0.9708\n",
      "\n"
     ]
    },
    {
     "name": "stdout",
     "output_type": "stream",
     "text": [
      "Epoch 70, Loss 0.0244\n",
      "Training Accuracy: 0.9731, Testing Accuracy: 0.9708\n",
      "\n"
     ]
    },
    {
     "name": "stdout",
     "output_type": "stream",
     "text": [
      "Epoch 80, Loss 0.0233\n",
      "Training Accuracy: 0.9741, Testing Accuracy: 0.9713\n",
      "\n"
     ]
    },
    {
     "name": "stdout",
     "output_type": "stream",
     "text": [
      "Epoch 90, Loss 0.0222\n",
      "Training Accuracy: 0.9754, Testing Accuracy: 0.9718\n",
      "\n"
     ]
    },
    {
     "name": "stdout",
     "output_type": "stream",
     "text": [
      "Epoch 100, Loss 0.0213\n",
      "Training Accuracy: 0.9765, Testing Accuracy: 0.9733\n",
      "\n"
     ]
    },
    {
     "name": "stdout",
     "output_type": "stream",
     "text": [
      "Epoch 110, Loss 0.0206\n",
      "Training Accuracy: 0.9775, Testing Accuracy: 0.9733\n",
      "\n"
     ]
    },
    {
     "name": "stdout",
     "output_type": "stream",
     "text": [
      "Epoch 120, Loss 0.0199\n",
      "Training Accuracy: 0.9782, Testing Accuracy: 0.9733\n",
      "\n"
     ]
    },
    {
     "name": "stdout",
     "output_type": "stream",
     "text": [
      "Epoch 130, Loss 0.0192\n",
      "Training Accuracy: 0.9788, Testing Accuracy: 0.9738\n",
      "\n"
     ]
    },
    {
     "name": "stdout",
     "output_type": "stream",
     "text": [
      "Epoch 140, Loss 0.0186\n",
      "Training Accuracy: 0.9796, Testing Accuracy: 0.9758\n",
      "\n"
     ]
    },
    {
     "name": "stdout",
     "output_type": "stream",
     "text": [
      "Epoch 150, Loss 0.0181\n",
      "Training Accuracy: 0.9804, Testing Accuracy: 0.9763\n",
      "\n"
     ]
    },
    {
     "name": "stdout",
     "output_type": "stream",
     "text": [
      "Epoch 160, Loss 0.0176\n",
      "Training Accuracy: 0.9809, Testing Accuracy: 0.9763\n",
      "\n"
     ]
    },
    {
     "name": "stdout",
     "output_type": "stream",
     "text": [
      "Epoch 170, Loss 0.0171\n",
      "Training Accuracy: 0.9814, Testing Accuracy: 0.9778\n",
      "\n"
     ]
    },
    {
     "name": "stdout",
     "output_type": "stream",
     "text": [
      "Epoch 180, Loss 0.0166\n",
      "Training Accuracy: 0.9820, Testing Accuracy: 0.9788\n",
      "\n"
     ]
    },
    {
     "name": "stdout",
     "output_type": "stream",
     "text": [
      "Epoch 190, Loss 0.0162\n",
      "Training Accuracy: 0.9826, Testing Accuracy: 0.9788\n",
      "\n"
     ]
    },
    {
     "name": "stdout",
     "output_type": "stream",
     "text": [
      "Epoch 200, Loss 0.0158\n",
      "Training Accuracy: 0.9829, Testing Accuracy: 0.9793\n",
      "\n"
     ]
    },
    {
     "name": "stdout",
     "output_type": "stream",
     "text": [
      "Epoch 210, Loss 0.0154\n",
      "Training Accuracy: 0.9831, Testing Accuracy: 0.9798\n",
      "\n"
     ]
    },
    {
     "name": "stdout",
     "output_type": "stream",
     "text": [
      "Epoch 220, Loss 0.015\n",
      "Training Accuracy: 0.9838, Testing Accuracy: 0.9793\n",
      "\n"
     ]
    },
    {
     "name": "stdout",
     "output_type": "stream",
     "text": [
      "Epoch 230, Loss 0.0146\n",
      "Training Accuracy: 0.9845, Testing Accuracy: 0.9798\n",
      "\n"
     ]
    },
    {
     "name": "stdout",
     "output_type": "stream",
     "text": [
      "Epoch 240, Loss 0.0143\n",
      "Training Accuracy: 0.9848, Testing Accuracy: 0.9808\n",
      "\n"
     ]
    },
    {
     "data": {
      "text/plain": [
       "0.017526811800190754"
      ]
     },
     "execution_count": 22,
     "metadata": {},
     "output_type": "execute_result"
    }
   ],
   "source": [
    "nn_learner.train_loop(dl)"
   ]
  },
  {
   "cell_type": "code",
   "execution_count": 23,
   "id": "e0163366",
   "metadata": {
    "execution": {
     "iopub.execute_input": "2021-09-07T20:09:42.158098Z",
     "iopub.status.busy": "2021-09-07T20:09:42.157423Z",
     "iopub.status.idle": "2021-09-07T20:10:01.666795Z",
     "shell.execute_reply": "2021-09-07T20:10:01.667693Z"
    },
    "papermill": {
     "duration": 19.565715,
     "end_time": "2021-09-07T20:10:01.667867",
     "exception": false,
     "start_time": "2021-09-07T20:09:42.102152",
     "status": "completed"
    },
    "tags": []
   },
   "outputs": [
    {
     "name": "stdout",
     "output_type": "stream",
     "text": [
      "Epoch 0, Loss 0.256\n",
      "Training Accuracy: 0.6549, Testing Accuracy: 0.6608\n",
      "\n"
     ]
    },
    {
     "name": "stdout",
     "output_type": "stream",
     "text": [
      "Epoch 10, Loss 0.105\n",
      "Training Accuracy: 0.9036, Testing Accuracy: 0.9098\n",
      "\n"
     ]
    },
    {
     "name": "stdout",
     "output_type": "stream",
     "text": [
      "Epoch 20, Loss 0.0808\n",
      "Training Accuracy: 0.9239, Testing Accuracy: 0.9294\n",
      "\n"
     ]
    },
    {
     "name": "stdout",
     "output_type": "stream",
     "text": [
      "Epoch 30, Loss 0.0697\n",
      "Training Accuracy: 0.9327, Testing Accuracy: 0.9425\n",
      "\n"
     ]
    },
    {
     "name": "stdout",
     "output_type": "stream",
     "text": [
      "Epoch 40, Loss 0.063\n",
      "Training Accuracy: 0.9375, Testing Accuracy: 0.9486\n",
      "\n"
     ]
    },
    {
     "name": "stdout",
     "output_type": "stream",
     "text": [
      "Epoch 50, Loss 0.0584\n",
      "Training Accuracy: 0.9411, Testing Accuracy: 0.9521\n",
      "\n"
     ]
    },
    {
     "name": "stdout",
     "output_type": "stream",
     "text": [
      "Epoch 60, Loss 0.0551\n",
      "Training Accuracy: 0.9436, Testing Accuracy: 0.9556\n",
      "\n"
     ]
    },
    {
     "name": "stdout",
     "output_type": "stream",
     "text": [
      "Epoch 70, Loss 0.0525\n",
      "Training Accuracy: 0.9460, Testing Accuracy: 0.9572\n",
      "\n"
     ]
    },
    {
     "name": "stdout",
     "output_type": "stream",
     "text": [
      "Epoch 80, Loss 0.0504\n",
      "Training Accuracy: 0.9472, Testing Accuracy: 0.9592\n",
      "\n"
     ]
    },
    {
     "name": "stdout",
     "output_type": "stream",
     "text": [
      "Epoch 90, Loss 0.0486\n",
      "Training Accuracy: 0.9487, Testing Accuracy: 0.9602\n",
      "\n"
     ]
    },
    {
     "name": "stdout",
     "output_type": "stream",
     "text": [
      "Epoch 100, Loss 0.0471\n",
      "Training Accuracy: 0.9499, Testing Accuracy: 0.9612\n",
      "\n"
     ]
    },
    {
     "name": "stdout",
     "output_type": "stream",
     "text": [
      "Epoch 110, Loss 0.0459\n",
      "Training Accuracy: 0.9517, Testing Accuracy: 0.9612\n",
      "\n"
     ]
    },
    {
     "name": "stdout",
     "output_type": "stream",
     "text": [
      "Epoch 120, Loss 0.0448\n",
      "Training Accuracy: 0.9527, Testing Accuracy: 0.9627\n",
      "\n"
     ]
    },
    {
     "name": "stdout",
     "output_type": "stream",
     "text": [
      "Epoch 130, Loss 0.0438\n",
      "Training Accuracy: 0.9537, Testing Accuracy: 0.9622\n",
      "\n"
     ]
    },
    {
     "name": "stdout",
     "output_type": "stream",
     "text": [
      "Epoch 140, Loss 0.0429\n",
      "Training Accuracy: 0.9545, Testing Accuracy: 0.9632\n",
      "\n"
     ]
    },
    {
     "name": "stdout",
     "output_type": "stream",
     "text": [
      "Epoch 150, Loss 0.0422\n",
      "Training Accuracy: 0.9551, Testing Accuracy: 0.9632\n",
      "\n"
     ]
    },
    {
     "name": "stdout",
     "output_type": "stream",
     "text": [
      "Epoch 160, Loss 0.0415\n",
      "Training Accuracy: 0.9557, Testing Accuracy: 0.9632\n",
      "\n"
     ]
    },
    {
     "name": "stdout",
     "output_type": "stream",
     "text": [
      "Epoch 170, Loss 0.0408\n",
      "Training Accuracy: 0.9566, Testing Accuracy: 0.9642\n",
      "\n"
     ]
    },
    {
     "name": "stdout",
     "output_type": "stream",
     "text": [
      "Epoch 180, Loss 0.0402\n",
      "Training Accuracy: 0.9572, Testing Accuracy: 0.9632\n",
      "\n"
     ]
    },
    {
     "name": "stdout",
     "output_type": "stream",
     "text": [
      "Epoch 190, Loss 0.0397\n",
      "Training Accuracy: 0.9574, Testing Accuracy: 0.9632\n",
      "\n"
     ]
    },
    {
     "name": "stdout",
     "output_type": "stream",
     "text": [
      "Epoch 200, Loss 0.0392\n",
      "Training Accuracy: 0.9580, Testing Accuracy: 0.9637\n",
      "\n"
     ]
    },
    {
     "name": "stdout",
     "output_type": "stream",
     "text": [
      "Epoch 210, Loss 0.0387\n",
      "Training Accuracy: 0.9584, Testing Accuracy: 0.9637\n",
      "\n"
     ]
    },
    {
     "name": "stdout",
     "output_type": "stream",
     "text": [
      "Epoch 220, Loss 0.0383\n",
      "Training Accuracy: 0.9584, Testing Accuracy: 0.9637\n",
      "\n"
     ]
    },
    {
     "name": "stdout",
     "output_type": "stream",
     "text": [
      "Epoch 230, Loss 0.0379\n",
      "Training Accuracy: 0.9588, Testing Accuracy: 0.9642\n",
      "\n"
     ]
    },
    {
     "name": "stdout",
     "output_type": "stream",
     "text": [
      "Epoch 240, Loss 0.0375\n",
      "Training Accuracy: 0.9593, Testing Accuracy: 0.9657\n",
      "\n"
     ]
    },
    {
     "data": {
      "text/plain": [
       "0.06321471331356124"
      ]
     },
     "execution_count": 23,
     "metadata": {},
     "output_type": "execute_result"
    }
   ],
   "source": [
    "lr_learner.train_loop(dl)"
   ]
  },
  {
   "cell_type": "code",
   "execution_count": 24,
   "id": "ca410940",
   "metadata": {
    "execution": {
     "iopub.execute_input": "2021-09-07T20:10:01.789937Z",
     "iopub.status.busy": "2021-09-07T20:10:01.789233Z",
     "iopub.status.idle": "2021-09-07T20:10:02.107165Z",
     "shell.execute_reply": "2021-09-07T20:10:02.106483Z"
    },
    "papermill": {
     "duration": 0.383857,
     "end_time": "2021-09-07T20:10:02.107319",
     "exception": false,
     "start_time": "2021-09-07T20:10:01.723462",
     "status": "completed"
    },
    "tags": []
   },
   "outputs": [
    {
     "data": {
      "text/plain": [
       "<matplotlib.legend.Legend at 0x7efbda654e48>"
      ]
     },
     "execution_count": 24,
     "metadata": {},
     "output_type": "execute_result"
    },
    {
     "data": {
      "image/png": "[encoded data removed]",
      "text/plain": [
       "<Figure size 1080x720 with 1 Axes>"
      ]
     },
     "metadata": {
      "needs_background": "light"
     },
     "output_type": "display_data"
    }
   ],
   "source": [
    "#comparing the results of NN and LR\n",
    "plt.figure(figsize=(15,10))\n",
    "\n",
    "# Neural Network plots\n",
    "plt.plot(acc_nn.accuracies, 'r-', label = \"Training Accuracies - NN\")\n",
    "plt.plot(acc_nn.test_accuracies, 'g-', label = \"Testing Accuracies - NN\")\n",
    "\n",
    "# Logistic Regression plots\n",
    "plt.plot(acc_lr.accuracies, 'k-', label = \"Training Accuracies - LR\")\n",
    "plt.plot(acc_lr.test_accuracies, 'b-', label = \"Testing Accuracies - LR\")\n",
    "plt.legend()"
   ]
  },
  {
   "cell_type": "markdown",
   "id": "80dfb35c",
   "metadata": {
    "papermill": {
     "duration": 0.054065,
     "end_time": "2021-09-07T20:10:02.215303",
     "exception": false,
     "start_time": "2021-09-07T20:10:02.161238",
     "status": "completed"
    },
    "tags": []
   },
   "source": [
    "#### Plotting the outputs of this layer of the NN.\n"
   ]
  },
  {
   "cell_type": "code",
   "execution_count": 25,
   "id": "45eb2ff5",
   "metadata": {
    "execution": {
     "iopub.execute_input": "2021-09-07T20:10:02.337907Z",
     "iopub.status.busy": "2021-09-07T20:10:02.337179Z",
     "iopub.status.idle": "2021-09-07T20:10:02.365650Z",
     "shell.execute_reply": "2021-09-07T20:10:02.366576Z"
    },
    "papermill": {
     "duration": 0.092437,
     "end_time": "2021-09-07T20:10:02.366762",
     "exception": false,
     "start_time": "2021-09-07T20:10:02.274325",
     "status": "completed"
    },
    "tags": []
   },
   "outputs": [],
   "source": [
    "new_model = Model(layers[:-2])\n",
    "testing_plot = new_model(testing_data_x)"
   ]
  },
  {
   "cell_type": "code",
   "execution_count": 26,
   "id": "4c0a5485",
   "metadata": {
    "execution": {
     "iopub.execute_input": "2021-09-07T20:10:02.489059Z",
     "iopub.status.busy": "2021-09-07T20:10:02.488347Z",
     "iopub.status.idle": "2021-09-07T20:10:02.740899Z",
     "shell.execute_reply": "2021-09-07T20:10:02.741418Z"
    },
    "papermill": {
     "duration": 0.316102,
     "end_time": "2021-09-07T20:10:02.741593",
     "exception": false,
     "start_time": "2021-09-07T20:10:02.425491",
     "status": "completed"
    },
    "tags": []
   },
   "outputs": [
    {
     "data": {
      "text/plain": [
       "Text(0.5, 1.0, 'Outputs')"
      ]
     },
     "execution_count": 26,
     "metadata": {},
     "output_type": "execute_result"
    },
    {
     "data": {
      "image/png": "[encoded data removed]",
      "text/plain": [
       "<Figure size 576x504 with 1 Axes>"
      ]
     },
     "metadata": {
      "needs_background": "light"
     },
     "output_type": "display_data"
    }
   ],
   "source": [
    "# Plotting the scatter plot of points and color coding by class\n",
    "plt.figure(figsize=(8,7))\n",
    "plt.scatter(testing_plot[:,0], testing_plot[:,1], alpha = 0.1, c = y_test.ravel());\n",
    "plt.title('Outputs')"
   ]
  },
  {
   "cell_type": "markdown",
   "id": "a74fcf8f",
   "metadata": {
    "papermill": {
     "duration": 0.05573,
     "end_time": "2021-09-07T20:10:02.852973",
     "exception": false,
     "start_time": "2021-09-07T20:10:02.797243",
     "status": "completed"
    },
    "tags": []
   },
   "source": [
    "Probability contours"
   ]
  },
  {
   "cell_type": "code",
   "execution_count": 27,
   "id": "d0afc8e3",
   "metadata": {
    "execution": {
     "iopub.execute_input": "2021-09-07T20:10:02.979528Z",
     "iopub.status.busy": "2021-09-07T20:10:02.978563Z",
     "iopub.status.idle": "2021-09-07T20:10:02.990261Z",
     "shell.execute_reply": "2021-09-07T20:10:02.989324Z"
    },
    "papermill": {
     "duration": 0.078395,
     "end_time": "2021-09-07T20:10:02.990409",
     "exception": false,
     "start_time": "2021-09-07T20:10:02.912014",
     "status": "completed"
    },
    "tags": []
   },
   "outputs": [],
   "source": [
    "model_prob = Model(layers[-2:]) "
   ]
  },
  {
   "cell_type": "code",
   "execution_count": 28,
   "id": "9b96e238",
   "metadata": {
    "execution": {
     "iopub.execute_input": "2021-09-07T20:10:03.166903Z",
     "iopub.status.busy": "2021-09-07T20:10:03.160987Z",
     "iopub.status.idle": "2021-09-07T20:10:03.169739Z",
     "shell.execute_reply": "2021-09-07T20:10:03.170399Z"
    },
    "papermill": {
     "duration": 0.114335,
     "end_time": "2021-09-07T20:10:03.170573",
     "exception": false,
     "start_time": "2021-09-07T20:10:03.056238",
     "status": "completed"
    },
    "tags": []
   },
   "outputs": [],
   "source": [
    "#creating the x and y ranges according to the above generated plot.\n",
    "x_range = np.linspace(-4, 1, 100) \n",
    "y_range = np.linspace(-6, 6, 100) \n",
    "x_grid, y_grid = np.meshgrid(x_range, y_range) # x_grid and y_grig are of size 100 X 100\n",
    "\n",
    "# converting x_grid and y_grid to continuous arrays\n",
    "x_gridflat = np.ravel(x_grid)\n",
    "y_gridflat = np.ravel(y_grid)\n",
    "\n",
    "# The last layer of the current model takes two columns as input. Hence transpose of np.vstack() is required.\n",
    "X = np.vstack((x_gridflat, y_gridflat)).T\n",
    "\n",
    "prob_contour = model_prob(X).reshape(100,100) "
   ]
  },
  {
   "cell_type": "code",
   "execution_count": 29,
   "id": "da72499a",
   "metadata": {
    "execution": {
     "iopub.execute_input": "2021-09-07T20:10:03.298263Z",
     "iopub.status.busy": "2021-09-07T20:10:03.297548Z",
     "iopub.status.idle": "2021-09-07T20:10:03.627010Z",
     "shell.execute_reply": "2021-09-07T20:10:03.627555Z"
    },
    "papermill": {
     "duration": 0.395934,
     "end_time": "2021-09-07T20:10:03.627726",
     "exception": false,
     "start_time": "2021-09-07T20:10:03.231792",
     "status": "completed"
    },
    "tags": []
   },
   "outputs": [
    {
     "data": {
      "image/png": "[encoded data removed]",
      "text/plain": [
       "<Figure size 720x648 with 1 Axes>"
      ]
     },
     "metadata": {
      "needs_background": "light"
     },
     "output_type": "display_data"
    }
   ],
   "source": [
    "plt.figure(figsize=(10,9))\n",
    "plt.scatter(testing_plot[:,0], testing_plot[:,1], alpha = 0.1, c = y_test.ravel())\n",
    "contours = plt.contour(x_grid,y_grid,prob_contour)\n",
    "plt.title('Probability Contours')\n",
    "plt.clabel(contours, inline = True );"
   ]
  },
  {
   "cell_type": "code",
   "execution_count": null,
   "id": "e81b4ac7",
   "metadata": {
    "papermill": {
     "duration": 0.064614,
     "end_time": "2021-09-07T20:10:03.752702",
     "exception": false,
     "start_time": "2021-09-07T20:10:03.688088",
     "status": "completed"
    },
    "tags": []
   },
   "outputs": [],
   "source": []
  }
 ],
 "metadata": {
  "kernelspec": {
   "display_name": "Python 3",
   "language": "python",
   "name": "python3"
  },
  "language_info": {
   "codemirror_mode": {
    "name": "ipython",
    "version": 3
   },
   "file_extension": ".py",
   "mimetype": "text/x-python",
   "name": "python",
   "nbconvert_exporter": "python",
   "pygments_lexer": "ipython3",
   "version": "3.6.14"
  },
  "papermill": {
   "default_parameters": {},
   "duration": 160.476321,
   "end_time": "2021-09-07T20:10:04.218982",
   "environment_variables": {},
   "exception": null,
   "input_path": "2020-08-11-part2.ipynb",
   "output_path": "2020-08-11-part2.ipynb",
   "parameters": {},
   "start_time": "2021-09-07T20:07:23.742661",
   "version": "2.3.3"
  }
 },
 "nbformat": 4,
 "nbformat_minor": 5
}