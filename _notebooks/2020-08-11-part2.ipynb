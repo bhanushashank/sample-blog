{
 "cells": [
  {
   "cell_type": "markdown",
   "id": "98380cd3",
   "metadata": {
    "papermill": {
     "duration": 0.028897,
     "end_time": "2022-01-29T00:22:08.602250",
     "exception": false,
     "start_time": "2022-01-29T00:22:08.573353",
     "status": "completed"
    },
    "tags": []
   },
   "source": [
    "# Distinguish Your Own Digits (DYOD)"
   ]
  },
  {
   "cell_type": "markdown",
   "id": "ef31240d",
   "metadata": {
    "papermill": {
     "duration": 0.024663,
     "end_time": "2022-01-29T00:22:08.655014",
     "exception": false,
     "start_time": "2022-01-29T00:22:08.630351",
     "status": "completed"
    },
    "tags": []
   },
   "source": [
    "You are going to write a classifier that distinguishes between the number 3 and number 8."
   ]
  },
  {
   "cell_type": "code",
   "execution_count": 1,
   "id": "b15c8646",
   "metadata": {
    "execution": {
     "iopub.execute_input": "2022-01-29T00:22:08.719082Z",
     "iopub.status.busy": "2022-01-29T00:22:08.718496Z",
     "iopub.status.idle": "2022-01-29T00:22:08.729447Z",
     "shell.execute_reply": "2022-01-29T00:22:08.728929Z"
    },
    "papermill": {
     "duration": 0.04862,
     "end_time": "2022-01-29T00:22:08.729602",
     "exception": false,
     "start_time": "2022-01-29T00:22:08.680982",
     "status": "completed"
    },
    "tags": []
   },
   "outputs": [],
   "source": [
    "%load_ext autoreload\n",
    "%autoreload 2"
   ]
  },
  {
   "cell_type": "code",
   "execution_count": 2,
   "id": "22ef38dc",
   "metadata": {
    "execution": {
     "iopub.execute_input": "2022-01-29T00:22:08.791275Z",
     "iopub.status.busy": "2022-01-29T00:22:08.790683Z",
     "iopub.status.idle": "2022-01-29T00:22:09.442283Z",
     "shell.execute_reply": "2022-01-29T00:22:09.441720Z"
    },
    "papermill": {
     "duration": 0.686843,
     "end_time": "2022-01-29T00:22:09.442430",
     "exception": false,
     "start_time": "2022-01-29T00:22:08.755587",
     "status": "completed"
    },
    "tags": []
   },
   "outputs": [],
   "source": [
    "%matplotlib inline\n",
    "import numpy as np\n",
    "import matplotlib.pyplot as plt\n",
    "import pandas as pd"
   ]
  },
  {
   "cell_type": "markdown",
   "id": "ba036198",
   "metadata": {
    "papermill": {
     "duration": 0.029515,
     "end_time": "2022-01-29T00:22:09.496967",
     "exception": false,
     "start_time": "2022-01-29T00:22:09.467452",
     "status": "completed"
    },
    "tags": []
   },
   "source": [
    "From the command line run `pip install mnist`. This is a library that will help you bring down the mnist dataset. If you run this from a notebook, you need to put  `!pip install mnist` in a cell by itself."
   ]
  },
  {
   "cell_type": "code",
   "execution_count": 3,
   "id": "bb6ad8a1",
   "metadata": {
    "execution": {
     "iopub.execute_input": "2022-01-29T00:22:09.556000Z",
     "iopub.status.busy": "2022-01-29T00:22:09.555431Z",
     "iopub.status.idle": "2022-01-29T00:22:11.518169Z",
     "shell.execute_reply": "2022-01-29T00:22:11.518715Z"
    },
    "papermill": {
     "duration": 1.993181,
     "end_time": "2022-01-29T00:22:11.518880",
     "exception": false,
     "start_time": "2022-01-29T00:22:09.525699",
     "status": "completed"
    },
    "tags": []
   },
   "outputs": [
    {
     "name": "stdout",
     "output_type": "stream",
     "text": [
      "Collecting mnist\r\n"
     ]
    },
    {
     "name": "stdout",
     "output_type": "stream",
     "text": [
      "  Downloading mnist-0.2.2-py2.py3-none-any.whl (3.5 kB)\r\n",
      "Requirement already satisfied: numpy in /opt/hostedtoolcache/Python/3.6.15/x64/lib/python3.6/site-packages (from mnist) (1.19.5)\r\n"
     ]
    },
    {
     "name": "stdout",
     "output_type": "stream",
     "text": [
      "Installing collected packages: mnist\r\n"
     ]
    },
    {
     "name": "stdout",
     "output_type": "stream",
     "text": [
      "Successfully installed mnist-0.2.2\r\n"
     ]
    }
   ],
   "source": [
    "!pip install mnist"
   ]
  },
  {
   "cell_type": "markdown",
   "id": "69df9c9a",
   "metadata": {
    "papermill": {
     "duration": 0.029769,
     "end_time": "2022-01-29T00:22:11.574427",
     "exception": false,
     "start_time": "2022-01-29T00:22:11.544658",
     "status": "completed"
    },
    "tags": []
   },
   "source": [
    "## Preparing the Data"
   ]
  },
  {
   "cell_type": "code",
   "execution_count": 4,
   "id": "7f69d806",
   "metadata": {
    "execution": {
     "iopub.execute_input": "2022-01-29T00:22:11.630528Z",
     "iopub.status.busy": "2022-01-29T00:22:11.629940Z",
     "iopub.status.idle": "2022-01-29T00:22:11.646520Z",
     "shell.execute_reply": "2022-01-29T00:22:11.646035Z"
    },
    "papermill": {
     "duration": 0.046364,
     "end_time": "2022-01-29T00:22:11.646651",
     "exception": false,
     "start_time": "2022-01-29T00:22:11.600287",
     "status": "completed"
    },
    "tags": []
   },
   "outputs": [],
   "source": [
    "import mnist"
   ]
  },
  {
   "cell_type": "code",
   "execution_count": 5,
   "id": "a411e44f",
   "metadata": {
    "execution": {
     "iopub.execute_input": "2022-01-29T00:22:11.704902Z",
     "iopub.status.busy": "2022-01-29T00:22:11.704328Z",
     "iopub.status.idle": "2022-01-29T00:22:12.459112Z",
     "shell.execute_reply": "2022-01-29T00:22:12.458403Z"
    },
    "papermill": {
     "duration": 0.785009,
     "end_time": "2022-01-29T00:22:12.459259",
     "exception": false,
     "start_time": "2022-01-29T00:22:11.674250",
     "status": "completed"
    },
    "tags": []
   },
   "outputs": [],
   "source": [
    "train_images = mnist.train_images()\n",
    "train_labels = mnist.train_labels()"
   ]
  },
  {
   "cell_type": "code",
   "execution_count": 6,
   "id": "dceab3a5",
   "metadata": {
    "execution": {
     "iopub.execute_input": "2022-01-29T00:22:12.515377Z",
     "iopub.status.busy": "2022-01-29T00:22:12.514817Z",
     "iopub.status.idle": "2022-01-29T00:22:12.533154Z",
     "shell.execute_reply": "2022-01-29T00:22:12.533596Z"
    },
    "papermill": {
     "duration": 0.048694,
     "end_time": "2022-01-29T00:22:12.533746",
     "exception": false,
     "start_time": "2022-01-29T00:22:12.485052",
     "status": "completed"
    },
    "tags": []
   },
   "outputs": [
    {
     "data": {
      "text/plain": [
       "((60000, 28, 28), (60000,))"
      ]
     },
     "execution_count": 6,
     "metadata": {},
     "output_type": "execute_result"
    }
   ],
   "source": [
    "train_images.shape, train_labels.shape"
   ]
  },
  {
   "cell_type": "code",
   "execution_count": 7,
   "id": "f50dc2bb",
   "metadata": {
    "execution": {
     "iopub.execute_input": "2022-01-29T00:22:12.593141Z",
     "iopub.status.busy": "2022-01-29T00:22:12.592561Z",
     "iopub.status.idle": "2022-01-29T00:22:12.817088Z",
     "shell.execute_reply": "2022-01-29T00:22:12.816581Z"
    },
    "papermill": {
     "duration": 0.257245,
     "end_time": "2022-01-29T00:22:12.817227",
     "exception": false,
     "start_time": "2022-01-29T00:22:12.559982",
     "status": "completed"
    },
    "tags": []
   },
   "outputs": [],
   "source": [
    "test_images = mnist.test_images()\n",
    "test_labels = mnist.test_labels()"
   ]
  },
  {
   "cell_type": "code",
   "execution_count": 8,
   "id": "fc38cf1b",
   "metadata": {
    "execution": {
     "iopub.execute_input": "2022-01-29T00:22:12.884023Z",
     "iopub.status.busy": "2022-01-29T00:22:12.883439Z",
     "iopub.status.idle": "2022-01-29T00:22:12.896127Z",
     "shell.execute_reply": "2022-01-29T00:22:12.895667Z"
    },
    "papermill": {
     "duration": 0.047215,
     "end_time": "2022-01-29T00:22:12.896253",
     "exception": false,
     "start_time": "2022-01-29T00:22:12.849038",
     "status": "completed"
    },
    "tags": []
   },
   "outputs": [
    {
     "data": {
      "text/plain": [
       "((10000, 28, 28), (10000,))"
      ]
     },
     "execution_count": 8,
     "metadata": {},
     "output_type": "execute_result"
    }
   ],
   "source": [
    "test_images.shape, test_labels.shape"
   ]
  },
  {
   "cell_type": "code",
   "execution_count": 9,
   "id": "f9ed8fe0",
   "metadata": {
    "execution": {
     "iopub.execute_input": "2022-01-29T00:22:12.959699Z",
     "iopub.status.busy": "2022-01-29T00:22:12.959048Z",
     "iopub.status.idle": "2022-01-29T00:22:13.108213Z",
     "shell.execute_reply": "2022-01-29T00:22:13.108637Z"
    },
    "papermill": {
     "duration": 0.18588,
     "end_time": "2022-01-29T00:22:13.108794",
     "exception": false,
     "start_time": "2022-01-29T00:22:12.922914",
     "status": "completed"
    },
    "tags": []
   },
   "outputs": [
    {
     "name": "stdout",
     "output_type": "stream",
     "text": [
      "2\n"
     ]
    },
    {
     "data": {
      "text/plain": [
       "<matplotlib.image.AxesImage at 0x7f2882bb3c18>"
      ]
     },
     "execution_count": 9,
     "metadata": {},
     "output_type": "execute_result"
    },
    {
     "data": {
      "image/png": "[encoded data removed]",
      "text/plain": [
       "<Figure size 432x288 with 1 Axes>"
      ]
     },
     "metadata": {
      "needs_background": "light"
     },
     "output_type": "display_data"
    }
   ],
   "source": [
    "image_index = 7776 # You may select anything up to 60,000\n",
    "print(train_labels[image_index]) \n",
    "plt.imshow(train_images[image_index], cmap='Greys')"
   ]
  },
  {
   "cell_type": "markdown",
   "id": "a8d2388d",
   "metadata": {
    "papermill": {
     "duration": 0.028621,
     "end_time": "2022-01-29T00:22:13.165137",
     "exception": false,
     "start_time": "2022-01-29T00:22:13.136516",
     "status": "completed"
    },
    "tags": []
   },
   "source": [
    "## Filter data to get 3 and 8 out"
   ]
  },
  {
   "cell_type": "code",
   "execution_count": 10,
   "id": "776f7fc7",
   "metadata": {
    "execution": {
     "iopub.execute_input": "2022-01-29T00:22:13.240239Z",
     "iopub.status.busy": "2022-01-29T00:22:13.234568Z",
     "iopub.status.idle": "2022-01-29T00:22:13.252252Z",
     "shell.execute_reply": "2022-01-29T00:22:13.252700Z"
    },
    "papermill": {
     "duration": 0.05596,
     "end_time": "2022-01-29T00:22:13.252865",
     "exception": false,
     "start_time": "2022-01-29T00:22:13.196905",
     "status": "completed"
    },
    "tags": []
   },
   "outputs": [],
   "source": [
    "train_filter = np.where((train_labels == 3 ) | (train_labels == 8))\n",
    "test_filter = np.where((test_labels == 3) | (test_labels == 8))\n",
    "X_train, y_train = train_images[train_filter], train_labels[train_filter]\n",
    "X_test, y_test = test_images[test_filter], test_labels[test_filter]"
   ]
  },
  {
   "cell_type": "markdown",
   "id": "948f0b7e",
   "metadata": {
    "papermill": {
     "duration": 0.030414,
     "end_time": "2022-01-29T00:22:13.313655",
     "exception": false,
     "start_time": "2022-01-29T00:22:13.283241",
     "status": "completed"
    },
    "tags": []
   },
   "source": [
    "We normalize the pizel values in the 0 to 1 range"
   ]
  },
  {
   "cell_type": "code",
   "execution_count": 11,
   "id": "ee4c2166",
   "metadata": {
    "execution": {
     "iopub.execute_input": "2022-01-29T00:22:13.374662Z",
     "iopub.status.busy": "2022-01-29T00:22:13.374070Z",
     "iopub.status.idle": "2022-01-29T00:22:13.426779Z",
     "shell.execute_reply": "2022-01-29T00:22:13.426238Z"
    },
    "papermill": {
     "duration": 0.085416,
     "end_time": "2022-01-29T00:22:13.426916",
     "exception": false,
     "start_time": "2022-01-29T00:22:13.341500",
     "status": "completed"
    },
    "tags": []
   },
   "outputs": [],
   "source": [
    "X_train = X_train/255.\n",
    "X_test = X_test/255."
   ]
  },
  {
   "cell_type": "markdown",
   "id": "ddcf4fab",
   "metadata": {
    "papermill": {
     "duration": 0.027637,
     "end_time": "2022-01-29T00:22:13.483010",
     "exception": false,
     "start_time": "2022-01-29T00:22:13.455373",
     "status": "completed"
    },
    "tags": []
   },
   "source": [
    "And setup the labels as 1 (when the digit is 3) and 0 (when the digit is 8)"
   ]
  },
  {
   "cell_type": "code",
   "execution_count": 12,
   "id": "7dc908f2",
   "metadata": {
    "execution": {
     "iopub.execute_input": "2022-01-29T00:22:13.546521Z",
     "iopub.status.busy": "2022-01-29T00:22:13.545885Z",
     "iopub.status.idle": "2022-01-29T00:22:13.560182Z",
     "shell.execute_reply": "2022-01-29T00:22:13.559490Z"
    },
    "papermill": {
     "duration": 0.04556,
     "end_time": "2022-01-29T00:22:13.560352",
     "exception": false,
     "start_time": "2022-01-29T00:22:13.514792",
     "status": "completed"
    },
    "tags": []
   },
   "outputs": [],
   "source": [
    "y_train = 1*(y_train==3)\n",
    "y_test = 1*(y_test==3)"
   ]
  },
  {
   "cell_type": "code",
   "execution_count": 13,
   "id": "01e4e969",
   "metadata": {
    "execution": {
     "iopub.execute_input": "2022-01-29T00:22:13.627402Z",
     "iopub.status.busy": "2022-01-29T00:22:13.626744Z",
     "iopub.status.idle": "2022-01-29T00:22:13.636334Z",
     "shell.execute_reply": "2022-01-29T00:22:13.635796Z"
    },
    "papermill": {
     "duration": 0.048396,
     "end_time": "2022-01-29T00:22:13.636462",
     "exception": false,
     "start_time": "2022-01-29T00:22:13.588066",
     "status": "completed"
    },
    "tags": []
   },
   "outputs": [
    {
     "data": {
      "text/plain": [
       "((11982, 28, 28), (1984, 28, 28))"
      ]
     },
     "execution_count": 13,
     "metadata": {},
     "output_type": "execute_result"
    }
   ],
   "source": [
    "X_train.shape, X_test.shape"
   ]
  },
  {
   "cell_type": "markdown",
   "id": "5ccf3f85",
   "metadata": {
    "papermill": {
     "duration": 0.028272,
     "end_time": "2022-01-29T00:22:13.692868",
     "exception": false,
     "start_time": "2022-01-29T00:22:13.664596",
     "status": "completed"
    },
    "tags": []
   },
   "source": [
    "We reshape the data to flatten the image pixels into a set of features or co-variates:"
   ]
  },
  {
   "cell_type": "code",
   "execution_count": 14,
   "id": "5286a4a3",
   "metadata": {
    "execution": {
     "iopub.execute_input": "2022-01-29T00:22:13.758621Z",
     "iopub.status.busy": "2022-01-29T00:22:13.758046Z",
     "iopub.status.idle": "2022-01-29T00:22:13.772124Z",
     "shell.execute_reply": "2022-01-29T00:22:13.772627Z"
    },
    "papermill": {
     "duration": 0.046822,
     "end_time": "2022-01-29T00:22:13.772781",
     "exception": false,
     "start_time": "2022-01-29T00:22:13.725959",
     "status": "completed"
    },
    "tags": []
   },
   "outputs": [
    {
     "data": {
      "text/plain": [
       "((11982, 784), (1984, 784))"
      ]
     },
     "execution_count": 14,
     "metadata": {},
     "output_type": "execute_result"
    }
   ],
   "source": [
    "X_train = X_train.reshape(X_train.shape[0], -1)\n",
    "X_test = X_test.reshape(X_test.shape[0], -1)\n",
    "X_train.shape, X_test.shape"
   ]
  },
  {
   "cell_type": "code",
   "execution_count": 15,
   "id": "73c5f88a",
   "metadata": {
    "execution": {
     "iopub.execute_input": "2022-01-29T00:22:13.839447Z",
     "iopub.status.busy": "2022-01-29T00:22:13.838882Z",
     "iopub.status.idle": "2022-01-29T00:22:13.858031Z",
     "shell.execute_reply": "2022-01-29T00:22:13.857503Z"
    },
    "papermill": {
     "duration": 0.055028,
     "end_time": "2022-01-29T00:22:13.858172",
     "exception": false,
     "start_time": "2022-01-29T00:22:13.803144",
     "status": "completed"
    },
    "tags": []
   },
   "outputs": [],
   "source": [
    "#Impoting functions from 'Kudzu'\n",
    "from kudzu.model import Model\n",
    "from kudzu.train import Learner\n",
    "from kudzu.optim import GD\n",
    "from kudzu.data import Data, Sampler,Dataloader\n",
    "\n",
    "from kudzu.callbacks import AccCallback\n",
    "from kudzu.callbacks import ClfCallback\n",
    "\n",
    "from kudzu.loss import MSE\n",
    "\n",
    "from kudzu.layer import Sigmoid,Relu\n",
    "from kudzu.layer import Affine"
   ]
  },
  {
   "cell_type": "markdown",
   "id": "bc01172a",
   "metadata": {
    "papermill": {
     "duration": 0.033325,
     "end_time": "2022-01-29T00:22:13.926458",
     "exception": false,
     "start_time": "2022-01-29T00:22:13.893133",
     "status": "completed"
    },
    "tags": []
   },
   "source": [
    "### Let us create a `Config` class, to store important parameters. \n",
    "This class essentially plays the role of a dictionary."
   ]
  },
  {
   "cell_type": "code",
   "execution_count": 16,
   "id": "978281aa",
   "metadata": {
    "execution": {
     "iopub.execute_input": "2022-01-29T00:22:13.999795Z",
     "iopub.status.busy": "2022-01-29T00:22:13.995466Z",
     "iopub.status.idle": "2022-01-29T00:22:14.004769Z",
     "shell.execute_reply": "2022-01-29T00:22:14.004267Z"
    },
    "papermill": {
     "duration": 0.049362,
     "end_time": "2022-01-29T00:22:14.004893",
     "exception": false,
     "start_time": "2022-01-29T00:22:13.955531",
     "status": "completed"
    },
    "tags": []
   },
   "outputs": [],
   "source": [
    "class Config:\n",
    "    pass\n",
    "config = Config()\n",
    "config.lr = 0.001\n",
    "config.num_epochs = 250\n",
    "config.bs = 50"
   ]
  },
  {
   "cell_type": "markdown",
   "id": "1385fa59",
   "metadata": {
    "papermill": {
     "duration": 0.027468,
     "end_time": "2022-01-29T00:22:14.060057",
     "exception": false,
     "start_time": "2022-01-29T00:22:14.032589",
     "status": "completed"
    },
    "tags": []
   },
   "source": [
    "### Running Models with the Training data\n",
    "Details about the network layers:\n",
    "- A first affine layer has 784 inputs and does 100 affine transforms. These are followed by a Relu\n",
    "- A second affine layer has 100 inputs from the 100 activations of the past layer, and does 100 affine transforms. These are followed by a Relu\n",
    "- A third affine layer has 100 activations and does 2 affine transformations to create an embedding for visualization. There is no non-linearity here.\n",
    "- A final \"logistic regression\" which has an affine transform from 2 inputs to 1 output, which is squeezed through a sigmoid.\n"
   ]
  },
  {
   "cell_type": "code",
   "execution_count": 17,
   "id": "2b9c66db",
   "metadata": {
    "execution": {
     "iopub.execute_input": "2022-01-29T00:22:14.129618Z",
     "iopub.status.busy": "2022-01-29T00:22:14.128999Z",
     "iopub.status.idle": "2022-01-29T00:22:14.136357Z",
     "shell.execute_reply": "2022-01-29T00:22:14.135902Z"
    },
    "papermill": {
     "duration": 0.048981,
     "end_time": "2022-01-29T00:22:14.136490",
     "exception": false,
     "start_time": "2022-01-29T00:22:14.087509",
     "status": "completed"
    },
    "tags": []
   },
   "outputs": [],
   "source": [
    "data = Data(X_train, y_train.reshape(-1,1))\n",
    "sampler = Sampler(data, config.bs, shuffle=True)\n",
    "\n",
    "dl = Dataloader(data, sampler)\n",
    "\n",
    "opt = GD(config.lr)\n",
    "loss = MSE()"
   ]
  },
  {
   "cell_type": "code",
   "execution_count": 18,
   "id": "b275e4c2",
   "metadata": {
    "execution": {
     "iopub.execute_input": "2022-01-29T00:22:14.197343Z",
     "iopub.status.busy": "2022-01-29T00:22:14.196730Z",
     "iopub.status.idle": "2022-01-29T00:22:14.208805Z",
     "shell.execute_reply": "2022-01-29T00:22:14.208356Z"
    },
    "papermill": {
     "duration": 0.044725,
     "end_time": "2022-01-29T00:22:14.208933",
     "exception": false,
     "start_time": "2022-01-29T00:22:14.164208",
     "status": "completed"
    },
    "tags": []
   },
   "outputs": [],
   "source": [
    "training_data_x = X_train\n",
    "testing_data_x = X_test\n",
    "training_data_y = y_train.reshape(-1,1)\n",
    "testing_data_y = y_test.reshape(-1,1)"
   ]
  },
  {
   "cell_type": "code",
   "execution_count": 19,
   "id": "76951160",
   "metadata": {
    "execution": {
     "iopub.execute_input": "2022-01-29T00:22:14.270483Z",
     "iopub.status.busy": "2022-01-29T00:22:14.269867Z",
     "iopub.status.idle": "2022-01-29T00:22:14.287564Z",
     "shell.execute_reply": "2022-01-29T00:22:14.287977Z"
    },
    "papermill": {
     "duration": 0.051494,
     "end_time": "2022-01-29T00:22:14.288122",
     "exception": false,
     "start_time": "2022-01-29T00:22:14.236628",
     "status": "completed"
    },
    "tags": []
   },
   "outputs": [
    {
     "name": "stdout",
     "output_type": "stream",
     "text": [
      "xavier\n",
      "xavier\n",
      "xavier\n",
      "xavier\n",
      "xavier\n"
     ]
    }
   ],
   "source": [
    "layers = [Affine(\"first\", 784, 100), Relu(\"first\"), Affine(\"second\", 100, 100), Relu(\"second\"), Affine(\"third\", 100, 2), Affine(\"last\", 2, 1), Sigmoid(\"last\")]\n",
    "model_nn = Model(layers)\n",
    "model_lr = Model([Affine(\"logits\", 784, 1), Sigmoid(\"sigmoid\")])"
   ]
  },
  {
   "cell_type": "code",
   "execution_count": 20,
   "id": "6eede77a",
   "metadata": {
    "execution": {
     "iopub.execute_input": "2022-01-29T00:22:14.353133Z",
     "iopub.status.busy": "2022-01-29T00:22:14.352585Z",
     "iopub.status.idle": "2022-01-29T00:22:14.366431Z",
     "shell.execute_reply": "2022-01-29T00:22:14.365937Z"
    },
    "papermill": {
     "duration": 0.046512,
     "end_time": "2022-01-29T00:22:14.366569",
     "exception": false,
     "start_time": "2022-01-29T00:22:14.320057",
     "status": "completed"
    },
    "tags": []
   },
   "outputs": [],
   "source": [
    "nn_learner = Learner(loss, model_nn, opt, config.num_epochs)\n",
    "acc_nn = ClfCallback(nn_learner, config.bs, training_data_x , testing_data_x, training_data_y, testing_data_y)\n",
    "nn_learner.set_callbacks([acc_nn])"
   ]
  },
  {
   "cell_type": "code",
   "execution_count": 21,
   "id": "877b6cc7",
   "metadata": {
    "execution": {
     "iopub.execute_input": "2022-01-29T00:22:14.429864Z",
     "iopub.status.busy": "2022-01-29T00:22:14.429318Z",
     "iopub.status.idle": "2022-01-29T00:22:14.446694Z",
     "shell.execute_reply": "2022-01-29T00:22:14.445670Z"
    },
    "papermill": {
     "duration": 0.050815,
     "end_time": "2022-01-29T00:22:14.446833",
     "exception": false,
     "start_time": "2022-01-29T00:22:14.396018",
     "status": "completed"
    },
    "tags": []
   },
   "outputs": [],
   "source": [
    "lr_learner = Learner(loss, model_lr, opt, config.num_epochs)\n",
    "acc_lr = ClfCallback(lr_learner, config.bs, training_data_x , testing_data_x, training_data_y, testing_data_y)\n",
    "lr_learner.set_callbacks([acc_lr])"
   ]
  },
  {
   "cell_type": "code",
   "execution_count": 22,
   "id": "d9b133c3",
   "metadata": {
    "execution": {
     "iopub.execute_input": "2022-01-29T00:22:14.520280Z",
     "iopub.status.busy": "2022-01-29T00:22:14.513323Z",
     "iopub.status.idle": "2022-01-29T00:23:37.540295Z",
     "shell.execute_reply": "2022-01-29T00:23:37.541050Z"
    },
    "papermill": {
     "duration": 83.065698,
     "end_time": "2022-01-29T00:23:37.541210",
     "exception": false,
     "start_time": "2022-01-29T00:22:14.475512",
     "status": "completed"
    },
    "tags": []
   },
   "outputs": [
    {
     "name": "stdout",
     "output_type": "stream",
     "text": [
      "Epoch 0, Loss 0.2401\n",
      "Training Accuracy: 0.6667, Testing Accuracy: 0.6608\n",
      "\n"
     ]
    },
    {
     "name": "stdout",
     "output_type": "stream",
     "text": [
      "Epoch 10, Loss 0.1451\n",
      "Training Accuracy: 0.8846, Testing Accuracy: 0.8957\n",
      "\n"
     ]
    },
    {
     "name": "stdout",
     "output_type": "stream",
     "text": [
      "Epoch 20, Loss 0.0797\n",
      "Training Accuracy: 0.9192, Testing Accuracy: 0.9330\n",
      "\n"
     ]
    },
    {
     "name": "stdout",
     "output_type": "stream",
     "text": [
      "Epoch 30, Loss 0.0564\n",
      "Training Accuracy: 0.9379, Testing Accuracy: 0.9496\n",
      "\n"
     ]
    },
    {
     "name": "stdout",
     "output_type": "stream",
     "text": [
      "Epoch 40, Loss 0.0455\n",
      "Training Accuracy: 0.9483, Testing Accuracy: 0.9597\n",
      "\n"
     ]
    },
    {
     "name": "stdout",
     "output_type": "stream",
     "text": [
      "Epoch 50, Loss 0.0396\n",
      "Training Accuracy: 0.9553, Testing Accuracy: 0.9657\n",
      "\n"
     ]
    },
    {
     "name": "stdout",
     "output_type": "stream",
     "text": [
      "Epoch 60, Loss 0.036\n",
      "Training Accuracy: 0.9586, Testing Accuracy: 0.9677\n",
      "\n"
     ]
    },
    {
     "name": "stdout",
     "output_type": "stream",
     "text": [
      "Epoch 70, Loss 0.0334\n",
      "Training Accuracy: 0.9617, Testing Accuracy: 0.9677\n",
      "\n"
     ]
    },
    {
     "name": "stdout",
     "output_type": "stream",
     "text": [
      "Epoch 80, Loss 0.0315\n",
      "Training Accuracy: 0.9630, Testing Accuracy: 0.9667\n",
      "\n"
     ]
    },
    {
     "name": "stdout",
     "output_type": "stream",
     "text": [
      "Epoch 90, Loss 0.0299\n",
      "Training Accuracy: 0.9643, Testing Accuracy: 0.9688\n",
      "\n"
     ]
    },
    {
     "name": "stdout",
     "output_type": "stream",
     "text": [
      "Epoch 100, Loss 0.0287\n",
      "Training Accuracy: 0.9663, Testing Accuracy: 0.9693\n",
      "\n"
     ]
    },
    {
     "name": "stdout",
     "output_type": "stream",
     "text": [
      "Epoch 110, Loss 0.0276\n",
      "Training Accuracy: 0.9678, Testing Accuracy: 0.9713\n",
      "\n"
     ]
    },
    {
     "name": "stdout",
     "output_type": "stream",
     "text": [
      "Epoch 120, Loss 0.0267\n",
      "Training Accuracy: 0.9684, Testing Accuracy: 0.9713\n",
      "\n"
     ]
    },
    {
     "name": "stdout",
     "output_type": "stream",
     "text": [
      "Epoch 130, Loss 0.0259\n",
      "Training Accuracy: 0.9694, Testing Accuracy: 0.9713\n",
      "\n"
     ]
    },
    {
     "name": "stdout",
     "output_type": "stream",
     "text": [
      "Epoch 140, Loss 0.0252\n",
      "Training Accuracy: 0.9705, Testing Accuracy: 0.9713\n",
      "\n"
     ]
    },
    {
     "name": "stdout",
     "output_type": "stream",
     "text": [
      "Epoch 150, Loss 0.0245\n",
      "Training Accuracy: 0.9712, Testing Accuracy: 0.9718\n",
      "\n"
     ]
    },
    {
     "name": "stdout",
     "output_type": "stream",
     "text": [
      "Epoch 160, Loss 0.0239\n",
      "Training Accuracy: 0.9720, Testing Accuracy: 0.9723\n",
      "\n"
     ]
    },
    {
     "name": "stdout",
     "output_type": "stream",
     "text": [
      "Epoch 170, Loss 0.0234\n",
      "Training Accuracy: 0.9729, Testing Accuracy: 0.9723\n",
      "\n"
     ]
    },
    {
     "name": "stdout",
     "output_type": "stream",
     "text": [
      "Epoch 180, Loss 0.0229\n",
      "Training Accuracy: 0.9736, Testing Accuracy: 0.9718\n",
      "\n"
     ]
    },
    {
     "name": "stdout",
     "output_type": "stream",
     "text": [
      "Epoch 190, Loss 0.0224\n",
      "Training Accuracy: 0.9745, Testing Accuracy: 0.9718\n",
      "\n"
     ]
    },
    {
     "name": "stdout",
     "output_type": "stream",
     "text": [
      "Epoch 200, Loss 0.0219\n",
      "Training Accuracy: 0.9753, Testing Accuracy: 0.9718\n",
      "\n"
     ]
    },
    {
     "name": "stdout",
     "output_type": "stream",
     "text": [
      "Epoch 210, Loss 0.0215\n",
      "Training Accuracy: 0.9757, Testing Accuracy: 0.9723\n",
      "\n"
     ]
    },
    {
     "name": "stdout",
     "output_type": "stream",
     "text": [
      "Epoch 220, Loss 0.0211\n",
      "Training Accuracy: 0.9757, Testing Accuracy: 0.9728\n",
      "\n"
     ]
    },
    {
     "name": "stdout",
     "output_type": "stream",
     "text": [
      "Epoch 230, Loss 0.0207\n",
      "Training Accuracy: 0.9765, Testing Accuracy: 0.9728\n",
      "\n"
     ]
    },
    {
     "name": "stdout",
     "output_type": "stream",
     "text": [
      "Epoch 240, Loss 0.0203\n",
      "Training Accuracy: 0.9775, Testing Accuracy: 0.9728\n",
      "\n"
     ]
    },
    {
     "data": {
      "text/plain": [
       "0.004608338550150648"
      ]
     },
     "execution_count": 22,
     "metadata": {},
     "output_type": "execute_result"
    }
   ],
   "source": [
    "nn_learner.train_loop(dl)"
   ]
  },
  {
   "cell_type": "code",
   "execution_count": 23,
   "id": "e0163366",
   "metadata": {
    "execution": {
     "iopub.execute_input": "2022-01-29T00:23:37.619560Z",
     "iopub.status.busy": "2022-01-29T00:23:37.619043Z",
     "iopub.status.idle": "2022-01-29T00:23:51.708661Z",
     "shell.execute_reply": "2022-01-29T00:23:51.709406Z"
    },
    "papermill": {
     "duration": 14.133439,
     "end_time": "2022-01-29T00:23:51.709563",
     "exception": false,
     "start_time": "2022-01-29T00:23:37.576124",
     "status": "completed"
    },
    "tags": []
   },
   "outputs": [
    {
     "name": "stdout",
     "output_type": "stream",
     "text": [
      "Epoch 0, Loss 0.2276\n",
      "Training Accuracy: 0.7157, Testing Accuracy: 0.7016\n",
      "\n"
     ]
    },
    {
     "name": "stdout",
     "output_type": "stream",
     "text": [
      "Epoch 10, Loss 0.1014\n",
      "Training Accuracy: 0.9079, Testing Accuracy: 0.9194\n",
      "\n"
     ]
    },
    {
     "name": "stdout",
     "output_type": "stream",
     "text": [
      "Epoch 20, Loss 0.0792\n",
      "Training Accuracy: 0.9250, Testing Accuracy: 0.9390\n",
      "\n"
     ]
    },
    {
     "name": "stdout",
     "output_type": "stream",
     "text": [
      "Epoch 30, Loss 0.0688\n",
      "Training Accuracy: 0.9342, Testing Accuracy: 0.9456\n",
      "\n"
     ]
    },
    {
     "name": "stdout",
     "output_type": "stream",
     "text": [
      "Epoch 40, Loss 0.0624\n",
      "Training Accuracy: 0.9384, Testing Accuracy: 0.9471\n",
      "\n"
     ]
    },
    {
     "name": "stdout",
     "output_type": "stream",
     "text": [
      "Epoch 50, Loss 0.058\n",
      "Training Accuracy: 0.9427, Testing Accuracy: 0.9536\n",
      "\n"
     ]
    },
    {
     "name": "stdout",
     "output_type": "stream",
     "text": [
      "Epoch 60, Loss 0.0547\n",
      "Training Accuracy: 0.9456, Testing Accuracy: 0.9556\n",
      "\n"
     ]
    },
    {
     "name": "stdout",
     "output_type": "stream",
     "text": [
      "Epoch 70, Loss 0.0522\n",
      "Training Accuracy: 0.9472, Testing Accuracy: 0.9577\n",
      "\n"
     ]
    },
    {
     "name": "stdout",
     "output_type": "stream",
     "text": [
      "Epoch 80, Loss 0.0501\n",
      "Training Accuracy: 0.9488, Testing Accuracy: 0.9597\n",
      "\n"
     ]
    },
    {
     "name": "stdout",
     "output_type": "stream",
     "text": [
      "Epoch 90, Loss 0.0484\n",
      "Training Accuracy: 0.9504, Testing Accuracy: 0.9602\n",
      "\n"
     ]
    },
    {
     "name": "stdout",
     "output_type": "stream",
     "text": [
      "Epoch 100, Loss 0.047\n",
      "Training Accuracy: 0.9512, Testing Accuracy: 0.9607\n",
      "\n"
     ]
    },
    {
     "name": "stdout",
     "output_type": "stream",
     "text": [
      "Epoch 110, Loss 0.0457\n",
      "Training Accuracy: 0.9520, Testing Accuracy: 0.9612\n",
      "\n"
     ]
    },
    {
     "name": "stdout",
     "output_type": "stream",
     "text": [
      "Epoch 120, Loss 0.0446\n",
      "Training Accuracy: 0.9533, Testing Accuracy: 0.9617\n",
      "\n"
     ]
    },
    {
     "name": "stdout",
     "output_type": "stream",
     "text": [
      "Epoch 130, Loss 0.0437\n",
      "Training Accuracy: 0.9543, Testing Accuracy: 0.9627\n",
      "\n"
     ]
    },
    {
     "name": "stdout",
     "output_type": "stream",
     "text": [
      "Epoch 140, Loss 0.0428\n",
      "Training Accuracy: 0.9549, Testing Accuracy: 0.9627\n",
      "\n"
     ]
    },
    {
     "name": "stdout",
     "output_type": "stream",
     "text": [
      "Epoch 150, Loss 0.0421\n",
      "Training Accuracy: 0.9554, Testing Accuracy: 0.9627\n",
      "\n"
     ]
    },
    {
     "name": "stdout",
     "output_type": "stream",
     "text": [
      "Epoch 160, Loss 0.0414\n",
      "Training Accuracy: 0.9559, Testing Accuracy: 0.9642\n",
      "\n"
     ]
    },
    {
     "name": "stdout",
     "output_type": "stream",
     "text": [
      "Epoch 170, Loss 0.0407\n",
      "Training Accuracy: 0.9564, Testing Accuracy: 0.9647\n",
      "\n"
     ]
    },
    {
     "name": "stdout",
     "output_type": "stream",
     "text": [
      "Epoch 180, Loss 0.0401\n",
      "Training Accuracy: 0.9569, Testing Accuracy: 0.9647\n",
      "\n"
     ]
    },
    {
     "name": "stdout",
     "output_type": "stream",
     "text": [
      "Epoch 190, Loss 0.0396\n",
      "Training Accuracy: 0.9571, Testing Accuracy: 0.9652\n",
      "\n"
     ]
    },
    {
     "name": "stdout",
     "output_type": "stream",
     "text": [
      "Epoch 200, Loss 0.0391\n",
      "Training Accuracy: 0.9577, Testing Accuracy: 0.9647\n",
      "\n"
     ]
    },
    {
     "name": "stdout",
     "output_type": "stream",
     "text": [
      "Epoch 210, Loss 0.0386\n",
      "Training Accuracy: 0.9581, Testing Accuracy: 0.9652\n",
      "\n"
     ]
    },
    {
     "name": "stdout",
     "output_type": "stream",
     "text": [
      "Epoch 220, Loss 0.0382\n",
      "Training Accuracy: 0.9584, Testing Accuracy: 0.9652\n",
      "\n"
     ]
    },
    {
     "name": "stdout",
     "output_type": "stream",
     "text": [
      "Epoch 230, Loss 0.0378\n",
      "Training Accuracy: 0.9590, Testing Accuracy: 0.9652\n",
      "\n"
     ]
    },
    {
     "name": "stdout",
     "output_type": "stream",
     "text": [
      "Epoch 240, Loss 0.0374\n",
      "Training Accuracy: 0.9592, Testing Accuracy: 0.9652\n",
      "\n"
     ]
    },
    {
     "data": {
      "text/plain": [
       "0.007693326465707133"
      ]
     },
     "execution_count": 23,
     "metadata": {},
     "output_type": "execute_result"
    }
   ],
   "source": [
    "lr_learner.train_loop(dl)"
   ]
  },
  {
   "cell_type": "code",
   "execution_count": 24,
   "id": "ca410940",
   "metadata": {
    "execution": {
     "iopub.execute_input": "2022-01-29T00:23:51.803246Z",
     "iopub.status.busy": "2022-01-29T00:23:51.802720Z",
     "iopub.status.idle": "2022-01-29T00:23:52.029156Z",
     "shell.execute_reply": "2022-01-29T00:23:52.028385Z"
    },
    "papermill": {
     "duration": 0.278038,
     "end_time": "2022-01-29T00:23:52.029290",
     "exception": false,
     "start_time": "2022-01-29T00:23:51.751252",
     "status": "completed"
    },
    "tags": []
   },
   "outputs": [
    {
     "data": {
      "text/plain": [
       "<matplotlib.legend.Legend at 0x7f2882722390>"
      ]
     },
     "execution_count": 24,
     "metadata": {},
     "output_type": "execute_result"
    },
    {
     "data": {
      "image/png": "[encoded data removed]",
      "text/plain": [
       "<Figure size 1080x720 with 1 Axes>"
      ]
     },
     "metadata": {
      "needs_background": "light"
     },
     "output_type": "display_data"
    }
   ],
   "source": [
    "#comparing the results of NN and LR\n",
    "plt.figure(figsize=(15,10))\n",
    "\n",
    "# Neural Network plots\n",
    "plt.plot(acc_nn.accuracies, 'r-', label = \"Training Accuracies - NN\")\n",
    "plt.plot(acc_nn.test_accuracies, 'g-', label = \"Testing Accuracies - NN\")\n",
    "\n",
    "# Logistic Regression plots\n",
    "plt.plot(acc_lr.accuracies, 'k-', label = \"Training Accuracies - LR\")\n",
    "plt.plot(acc_lr.test_accuracies, 'b-', label = \"Testing Accuracies - LR\")\n",
    "plt.legend()"
   ]
  },
  {
   "cell_type": "markdown",
   "id": "80dfb35c",
   "metadata": {
    "papermill": {
     "duration": 0.042262,
     "end_time": "2022-01-29T00:23:52.114131",
     "exception": false,
     "start_time": "2022-01-29T00:23:52.071869",
     "status": "completed"
    },
    "tags": []
   },
   "source": [
    "#### Plotting the outputs of this layer of the NN.\n"
   ]
  },
  {
   "cell_type": "code",
   "execution_count": 25,
   "id": "45eb2ff5",
   "metadata": {
    "execution": {
     "iopub.execute_input": "2022-01-29T00:23:52.208417Z",
     "iopub.status.busy": "2022-01-29T00:23:52.207826Z",
     "iopub.status.idle": "2022-01-29T00:23:52.225663Z",
     "shell.execute_reply": "2022-01-29T00:23:52.226094Z"
    },
    "papermill": {
     "duration": 0.069666,
     "end_time": "2022-01-29T00:23:52.226251",
     "exception": false,
     "start_time": "2022-01-29T00:23:52.156585",
     "status": "completed"
    },
    "tags": []
   },
   "outputs": [],
   "source": [
    "new_model = Model(layers[:-2])\n",
    "testing_plot = new_model(testing_data_x)"
   ]
  },
  {
   "cell_type": "code",
   "execution_count": 26,
   "id": "4c0a5485",
   "metadata": {
    "execution": {
     "iopub.execute_input": "2022-01-29T00:23:52.323334Z",
     "iopub.status.busy": "2022-01-29T00:23:52.321489Z",
     "iopub.status.idle": "2022-01-29T00:23:52.524252Z",
     "shell.execute_reply": "2022-01-29T00:23:52.524647Z"
    },
    "papermill": {
     "duration": 0.251245,
     "end_time": "2022-01-29T00:23:52.524794",
     "exception": false,
     "start_time": "2022-01-29T00:23:52.273549",
     "status": "completed"
    },
    "tags": []
   },
   "outputs": [
    {
     "data": {
      "text/plain": [
       "Text(0.5, 1.0, 'Outputs')"
      ]
     },
     "execution_count": 26,
     "metadata": {},
     "output_type": "execute_result"
    },
    {
     "data": {
      "image/png": "[encoded data removed]",
      "text/plain": [
       "<Figure size 576x504 with 1 Axes>"
      ]
     },
     "metadata": {
      "needs_background": "light"
     },
     "output_type": "display_data"
    }
   ],
   "source": [
    "# Plotting the scatter plot of points and color coding by class\n",
    "plt.figure(figsize=(8,7))\n",
    "plt.scatter(testing_plot[:,0], testing_plot[:,1], alpha = 0.1, c = y_test.ravel());\n",
    "plt.title('Outputs')"
   ]
  },
  {
   "cell_type": "markdown",
   "id": "a74fcf8f",
   "metadata": {
    "papermill": {
     "duration": 0.044173,
     "end_time": "2022-01-29T00:23:52.613528",
     "exception": false,
     "start_time": "2022-01-29T00:23:52.569355",
     "status": "completed"
    },
    "tags": []
   },
   "source": [
    "Probability contours"
   ]
  },
  {
   "cell_type": "code",
   "execution_count": 27,
   "id": "d0afc8e3",
   "metadata": {
    "execution": {
     "iopub.execute_input": "2022-01-29T00:23:52.709152Z",
     "iopub.status.busy": "2022-01-29T00:23:52.707236Z",
     "iopub.status.idle": "2022-01-29T00:23:52.719162Z",
     "shell.execute_reply": "2022-01-29T00:23:52.718622Z"
    },
    "papermill": {
     "duration": 0.061568,
     "end_time": "2022-01-29T00:23:52.719278",
     "exception": false,
     "start_time": "2022-01-29T00:23:52.657710",
     "status": "completed"
    },
    "tags": []
   },
   "outputs": [],
   "source": [
    "model_prob = Model(layers[-2:]) "
   ]
  },
  {
   "cell_type": "code",
   "execution_count": 28,
   "id": "9b96e238",
   "metadata": {
    "execution": {
     "iopub.execute_input": "2022-01-29T00:23:52.841252Z",
     "iopub.status.busy": "2022-01-29T00:23:52.840714Z",
     "iopub.status.idle": "2022-01-29T00:23:52.854075Z",
     "shell.execute_reply": "2022-01-29T00:23:52.854780Z"
    },
    "papermill": {
     "duration": 0.063265,
     "end_time": "2022-01-29T00:23:52.854910",
     "exception": false,
     "start_time": "2022-01-29T00:23:52.791645",
     "status": "completed"
    },
    "tags": []
   },
   "outputs": [],
   "source": [
    "#creating the x and y ranges according to the above generated plot.\n",
    "x_range = np.linspace(-4, 1, 100) \n",
    "y_range = np.linspace(-6, 6, 100) \n",
    "x_grid, y_grid = np.meshgrid(x_range, y_range) # x_grid and y_grig are of size 100 X 100\n",
    "\n",
    "# converting x_grid and y_grid to continuous arrays\n",
    "x_gridflat = np.ravel(x_grid)\n",
    "y_gridflat = np.ravel(y_grid)\n",
    "\n",
    "# The last layer of the current model takes two columns as input. Hence transpose of np.vstack() is required.\n",
    "X = np.vstack((x_gridflat, y_gridflat)).T\n",
    "\n",
    "prob_contour = model_prob(X).reshape(100,100) "
   ]
  },
  {
   "cell_type": "code",
   "execution_count": 29,
   "id": "da72499a",
   "metadata": {
    "execution": {
     "iopub.execute_input": "2022-01-29T00:23:52.955163Z",
     "iopub.status.busy": "2022-01-29T00:23:52.954655Z",
     "iopub.status.idle": "2022-01-29T00:23:53.204733Z",
     "shell.execute_reply": "2022-01-29T00:23:53.204238Z"
    },
    "papermill": {
     "duration": 0.304625,
     "end_time": "2022-01-29T00:23:53.204864",
     "exception": false,
     "start_time": "2022-01-29T00:23:52.900239",
     "status": "completed"
    },
    "tags": []
   },
   "outputs": [
    {
     "data": {
      "image/png": "[encoded data removed]",
      "text/plain": [
       "<Figure size 720x648 with 1 Axes>"
      ]
     },
     "metadata": {
      "needs_background": "light"
     },
     "output_type": "display_data"
    }
   ],
   "source": [
    "plt.figure(figsize=(10,9))\n",
    "plt.scatter(testing_plot[:,0], testing_plot[:,1], alpha = 0.1, c = y_test.ravel())\n",
    "contours = plt.contour(x_grid,y_grid,prob_contour)\n",
    "plt.title('Probability Contours')\n",
    "plt.clabel(contours, inline = True );"
   ]
  },
  {
   "cell_type": "code",
   "execution_count": null,
   "id": "e81b4ac7",
   "metadata": {
    "papermill": {
     "duration": 0.046546,
     "end_time": "2022-01-29T00:23:53.298876",
     "exception": false,
     "start_time": "2022-01-29T00:23:53.252330",
     "status": "completed"
    },
    "tags": []
   },
   "outputs": [],
   "source": []
  }
 ],
 "metadata": {
  "kernelspec": {
   "display_name": "Python 3",
   "language": "python",
   "name": "python3"
  },
  "language_info": {
   "codemirror_mode": {
    "name": "ipython",
    "version": 3
   },
   "file_extension": ".py",
   "mimetype": "text/x-python",
   "name": "python",
   "nbconvert_exporter": "python",
   "pygments_lexer": "ipython3",
   "version": "3.6.15"
  },
  "papermill": {
   "default_parameters": {},
   "duration": 106.241543,
   "end_time": "2022-01-29T00:23:53.764391",
   "environment_variables": {},
   "exception": null,
   "input_path": "2020-08-11-part2.ipynb",
   "output_path": "2020-08-11-part2.ipynb",
   "parameters": {},
   "start_time": "2022-01-29T00:22:07.522848",
   "version": "2.3.3"
  }
 },
 "nbformat": 4,
 "nbformat_minor": 5
}