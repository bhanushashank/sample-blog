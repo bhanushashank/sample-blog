{
 "cells": [
  {
   "cell_type": "markdown",
   "id": "98380cd3",
   "metadata": {
    "papermill": {
     "duration": 0.028497,
     "end_time": "2022-05-29T00:37:39.532711",
     "exception": false,
     "start_time": "2022-05-29T00:37:39.504214",
     "status": "completed"
    },
    "tags": []
   },
   "source": [
    "# Distinguish Your Own Digits (DYOD)"
   ]
  },
  {
   "cell_type": "markdown",
   "id": "ef31240d",
   "metadata": {
    "papermill": {
     "duration": 0.023419,
     "end_time": "2022-05-29T00:37:39.580285",
     "exception": false,
     "start_time": "2022-05-29T00:37:39.556866",
     "status": "completed"
    },
    "tags": []
   },
   "source": [
    "You are going to write a classifier that distinguishes between the number 3 and number 8."
   ]
  },
  {
   "cell_type": "code",
   "execution_count": 1,
   "id": "b15c8646",
   "metadata": {
    "execution": {
     "iopub.execute_input": "2022-05-29T00:37:39.637578Z",
     "iopub.status.busy": "2022-05-29T00:37:39.636975Z",
     "iopub.status.idle": "2022-05-29T00:37:39.648172Z",
     "shell.execute_reply": "2022-05-29T00:37:39.647713Z"
    },
    "papermill": {
     "duration": 0.044545,
     "end_time": "2022-05-29T00:37:39.648294",
     "exception": false,
     "start_time": "2022-05-29T00:37:39.603749",
     "status": "completed"
    },
    "tags": []
   },
   "outputs": [],
   "source": [
    "%load_ext autoreload\n",
    "%autoreload 2"
   ]
  },
  {
   "cell_type": "code",
   "execution_count": 2,
   "id": "22ef38dc",
   "metadata": {
    "execution": {
     "iopub.execute_input": "2022-05-29T00:37:39.699190Z",
     "iopub.status.busy": "2022-05-29T00:37:39.698603Z",
     "iopub.status.idle": "2022-05-29T00:37:40.221577Z",
     "shell.execute_reply": "2022-05-29T00:37:40.221056Z"
    },
    "papermill": {
     "duration": 0.549798,
     "end_time": "2022-05-29T00:37:40.221702",
     "exception": false,
     "start_time": "2022-05-29T00:37:39.671904",
     "status": "completed"
    },
    "tags": []
   },
   "outputs": [],
   "source": [
    "%matplotlib inline\n",
    "import numpy as np\n",
    "import matplotlib.pyplot as plt\n",
    "import pandas as pd"
   ]
  },
  {
   "cell_type": "markdown",
   "id": "ba036198",
   "metadata": {
    "papermill": {
     "duration": 0.023547,
     "end_time": "2022-05-29T00:37:40.268980",
     "exception": false,
     "start_time": "2022-05-29T00:37:40.245433",
     "status": "completed"
    },
    "tags": []
   },
   "source": [
    "From the command line run `pip install mnist`. This is a library that will help you bring down the mnist dataset. If you run this from a notebook, you need to put  `!pip install mnist` in a cell by itself."
   ]
  },
  {
   "cell_type": "code",
   "execution_count": 3,
   "id": "bb6ad8a1",
   "metadata": {
    "execution": {
     "iopub.execute_input": "2022-05-29T00:37:40.319610Z",
     "iopub.status.busy": "2022-05-29T00:37:40.319038Z",
     "iopub.status.idle": "2022-05-29T00:37:41.931230Z",
     "shell.execute_reply": "2022-05-29T00:37:41.930621Z"
    },
    "papermill": {
     "duration": 1.638843,
     "end_time": "2022-05-29T00:37:41.931372",
     "exception": false,
     "start_time": "2022-05-29T00:37:40.292529",
     "status": "completed"
    },
    "tags": []
   },
   "outputs": [
    {
     "name": "stdout",
     "output_type": "stream",
     "text": [
      "Collecting mnist\r\n",
      "  Downloading mnist-0.2.2-py2.py3-none-any.whl (3.5 kB)\r\n"
     ]
    },
    {
     "name": "stdout",
     "output_type": "stream",
     "text": [
      "Requirement already satisfied: numpy in /opt/hostedtoolcache/Python/3.6.15/x64/lib/python3.6/site-packages (from mnist) (1.19.5)\r\n"
     ]
    },
    {
     "name": "stdout",
     "output_type": "stream",
     "text": [
      "Installing collected packages: mnist\r\n"
     ]
    },
    {
     "name": "stdout",
     "output_type": "stream",
     "text": [
      "Successfully installed mnist-0.2.2\r\n"
     ]
    }
   ],
   "source": [
    "!pip install mnist"
   ]
  },
  {
   "cell_type": "markdown",
   "id": "69df9c9a",
   "metadata": {
    "papermill": {
     "duration": 0.024643,
     "end_time": "2022-05-29T00:37:41.981565",
     "exception": false,
     "start_time": "2022-05-29T00:37:41.956922",
     "status": "completed"
    },
    "tags": []
   },
   "source": [
    "## Preparing the Data"
   ]
  },
  {
   "cell_type": "code",
   "execution_count": 4,
   "id": "7f69d806",
   "metadata": {
    "execution": {
     "iopub.execute_input": "2022-05-29T00:37:42.039587Z",
     "iopub.status.busy": "2022-05-29T00:37:42.038926Z",
     "iopub.status.idle": "2022-05-29T00:37:42.052917Z",
     "shell.execute_reply": "2022-05-29T00:37:42.052427Z"
    },
    "papermill": {
     "duration": 0.043347,
     "end_time": "2022-05-29T00:37:42.053024",
     "exception": false,
     "start_time": "2022-05-29T00:37:42.009677",
     "status": "completed"
    },
    "tags": []
   },
   "outputs": [],
   "source": [
    "import mnist"
   ]
  },
  {
   "cell_type": "code",
   "execution_count": 5,
   "id": "a411e44f",
   "metadata": {
    "execution": {
     "iopub.execute_input": "2022-05-29T00:37:42.105508Z",
     "iopub.status.busy": "2022-05-29T00:37:42.104930Z",
     "iopub.status.idle": "2022-05-29T00:37:42.570088Z",
     "shell.execute_reply": "2022-05-29T00:37:42.569527Z"
    },
    "papermill": {
     "duration": 0.492564,
     "end_time": "2022-05-29T00:37:42.570210",
     "exception": false,
     "start_time": "2022-05-29T00:37:42.077646",
     "status": "completed"
    },
    "tags": []
   },
   "outputs": [],
   "source": [
    "train_images = mnist.train_images()\n",
    "train_labels = mnist.train_labels()"
   ]
  },
  {
   "cell_type": "code",
   "execution_count": 6,
   "id": "dceab3a5",
   "metadata": {
    "execution": {
     "iopub.execute_input": "2022-05-29T00:37:42.629156Z",
     "iopub.status.busy": "2022-05-29T00:37:42.628556Z",
     "iopub.status.idle": "2022-05-29T00:37:42.640124Z",
     "shell.execute_reply": "2022-05-29T00:37:42.639552Z"
    },
    "papermill": {
     "duration": 0.044937,
     "end_time": "2022-05-29T00:37:42.640231",
     "exception": false,
     "start_time": "2022-05-29T00:37:42.595294",
     "status": "completed"
    },
    "tags": []
   },
   "outputs": [
    {
     "data": {
      "text/plain": [
       "((60000, 28, 28), (60000,))"
      ]
     },
     "execution_count": 6,
     "metadata": {},
     "output_type": "execute_result"
    }
   ],
   "source": [
    "train_images.shape, train_labels.shape"
   ]
  },
  {
   "cell_type": "code",
   "execution_count": 7,
   "id": "f50dc2bb",
   "metadata": {
    "execution": {
     "iopub.execute_input": "2022-05-29T00:37:42.693239Z",
     "iopub.status.busy": "2022-05-29T00:37:42.692660Z",
     "iopub.status.idle": "2022-05-29T00:37:42.816104Z",
     "shell.execute_reply": "2022-05-29T00:37:42.815403Z"
    },
    "papermill": {
     "duration": 0.151168,
     "end_time": "2022-05-29T00:37:42.816233",
     "exception": false,
     "start_time": "2022-05-29T00:37:42.665065",
     "status": "completed"
    },
    "tags": []
   },
   "outputs": [],
   "source": [
    "test_images = mnist.test_images()\n",
    "test_labels = mnist.test_labels()"
   ]
  },
  {
   "cell_type": "code",
   "execution_count": 8,
   "id": "fc38cf1b",
   "metadata": {
    "execution": {
     "iopub.execute_input": "2022-05-29T00:37:42.871087Z",
     "iopub.status.busy": "2022-05-29T00:37:42.870503Z",
     "iopub.status.idle": "2022-05-29T00:37:42.883425Z",
     "shell.execute_reply": "2022-05-29T00:37:42.883970Z"
    },
    "papermill": {
     "duration": 0.041956,
     "end_time": "2022-05-29T00:37:42.884091",
     "exception": false,
     "start_time": "2022-05-29T00:37:42.842135",
     "status": "completed"
    },
    "tags": []
   },
   "outputs": [
    {
     "data": {
      "text/plain": [
       "((10000, 28, 28), (10000,))"
      ]
     },
     "execution_count": 8,
     "metadata": {},
     "output_type": "execute_result"
    }
   ],
   "source": [
    "test_images.shape, test_labels.shape"
   ]
  },
  {
   "cell_type": "code",
   "execution_count": 9,
   "id": "f9ed8fe0",
   "metadata": {
    "execution": {
     "iopub.execute_input": "2022-05-29T00:37:42.937619Z",
     "iopub.status.busy": "2022-05-29T00:37:42.937047Z",
     "iopub.status.idle": "2022-05-29T00:37:43.074272Z",
     "shell.execute_reply": "2022-05-29T00:37:43.073775Z"
    },
    "papermill": {
     "duration": 0.165272,
     "end_time": "2022-05-29T00:37:43.074389",
     "exception": false,
     "start_time": "2022-05-29T00:37:42.909117",
     "status": "completed"
    },
    "tags": []
   },
   "outputs": [
    {
     "name": "stdout",
     "output_type": "stream",
     "text": [
      "2\n"
     ]
    },
    {
     "data": {
      "text/plain": [
       "<matplotlib.image.AxesImage at 0x7f609da4aeb8>"
      ]
     },
     "execution_count": 9,
     "metadata": {},
     "output_type": "execute_result"
    },
    {
     "data": {
      "image/png": "[encoded data removed]",
      "text/plain": [
       "<Figure size 432x288 with 1 Axes>"
      ]
     },
     "metadata": {
      "needs_background": "light"
     },
     "output_type": "display_data"
    }
   ],
   "source": [
    "image_index = 7776 # You may select anything up to 60,000\n",
    "print(train_labels[image_index]) \n",
    "plt.imshow(train_images[image_index], cmap='Greys')"
   ]
  },
  {
   "cell_type": "markdown",
   "id": "a8d2388d",
   "metadata": {
    "papermill": {
     "duration": 0.026076,
     "end_time": "2022-05-29T00:37:43.127348",
     "exception": false,
     "start_time": "2022-05-29T00:37:43.101272",
     "status": "completed"
    },
    "tags": []
   },
   "source": [
    "## Filter data to get 3 and 8 out"
   ]
  },
  {
   "cell_type": "code",
   "execution_count": 10,
   "id": "776f7fc7",
   "metadata": {
    "execution": {
     "iopub.execute_input": "2022-05-29T00:37:43.185778Z",
     "iopub.status.busy": "2022-05-29T00:37:43.183608Z",
     "iopub.status.idle": "2022-05-29T00:37:43.202393Z",
     "shell.execute_reply": "2022-05-29T00:37:43.202836Z"
    },
    "papermill": {
     "duration": 0.049513,
     "end_time": "2022-05-29T00:37:43.202975",
     "exception": false,
     "start_time": "2022-05-29T00:37:43.153462",
     "status": "completed"
    },
    "tags": []
   },
   "outputs": [],
   "source": [
    "train_filter = np.where((train_labels == 3 ) | (train_labels == 8))\n",
    "test_filter = np.where((test_labels == 3) | (test_labels == 8))\n",
    "X_train, y_train = train_images[train_filter], train_labels[train_filter]\n",
    "X_test, y_test = test_images[test_filter], test_labels[test_filter]"
   ]
  },
  {
   "cell_type": "markdown",
   "id": "948f0b7e",
   "metadata": {
    "papermill": {
     "duration": 0.026072,
     "end_time": "2022-05-29T00:37:43.255340",
     "exception": false,
     "start_time": "2022-05-29T00:37:43.229268",
     "status": "completed"
    },
    "tags": []
   },
   "source": [
    "We normalize the pizel values in the 0 to 1 range"
   ]
  },
  {
   "cell_type": "code",
   "execution_count": 11,
   "id": "ee4c2166",
   "metadata": {
    "execution": {
     "iopub.execute_input": "2022-05-29T00:37:43.325173Z",
     "iopub.status.busy": "2022-05-29T00:37:43.321355Z",
     "iopub.status.idle": "2022-05-29T00:37:43.362828Z",
     "shell.execute_reply": "2022-05-29T00:37:43.361921Z"
    },
    "papermill": {
     "duration": 0.081566,
     "end_time": "2022-05-29T00:37:43.362968",
     "exception": false,
     "start_time": "2022-05-29T00:37:43.281402",
     "status": "completed"
    },
    "tags": []
   },
   "outputs": [],
   "source": [
    "X_train = X_train/255.\n",
    "X_test = X_test/255."
   ]
  },
  {
   "cell_type": "markdown",
   "id": "ddcf4fab",
   "metadata": {
    "papermill": {
     "duration": 0.026091,
     "end_time": "2022-05-29T00:37:43.416670",
     "exception": false,
     "start_time": "2022-05-29T00:37:43.390579",
     "status": "completed"
    },
    "tags": []
   },
   "source": [
    "And setup the labels as 1 (when the digit is 3) and 0 (when the digit is 8)"
   ]
  },
  {
   "cell_type": "code",
   "execution_count": 12,
   "id": "7dc908f2",
   "metadata": {
    "execution": {
     "iopub.execute_input": "2022-05-29T00:37:43.472450Z",
     "iopub.status.busy": "2022-05-29T00:37:43.471839Z",
     "iopub.status.idle": "2022-05-29T00:37:43.484355Z",
     "shell.execute_reply": "2022-05-29T00:37:43.483883Z"
    },
    "papermill": {
     "duration": 0.041716,
     "end_time": "2022-05-29T00:37:43.484491",
     "exception": false,
     "start_time": "2022-05-29T00:37:43.442775",
     "status": "completed"
    },
    "tags": []
   },
   "outputs": [],
   "source": [
    "y_train = 1*(y_train==3)\n",
    "y_test = 1*(y_test==3)"
   ]
  },
  {
   "cell_type": "code",
   "execution_count": 13,
   "id": "01e4e969",
   "metadata": {
    "execution": {
     "iopub.execute_input": "2022-05-29T00:37:43.539900Z",
     "iopub.status.busy": "2022-05-29T00:37:43.539334Z",
     "iopub.status.idle": "2022-05-29T00:37:43.552418Z",
     "shell.execute_reply": "2022-05-29T00:37:43.552851Z"
    },
    "papermill": {
     "duration": 0.042244,
     "end_time": "2022-05-29T00:37:43.552969",
     "exception": false,
     "start_time": "2022-05-29T00:37:43.510725",
     "status": "completed"
    },
    "tags": []
   },
   "outputs": [
    {
     "data": {
      "text/plain": [
       "((11982, 28, 28), (1984, 28, 28))"
      ]
     },
     "execution_count": 13,
     "metadata": {},
     "output_type": "execute_result"
    }
   ],
   "source": [
    "X_train.shape, X_test.shape"
   ]
  },
  {
   "cell_type": "markdown",
   "id": "5ccf3f85",
   "metadata": {
    "papermill": {
     "duration": 0.026249,
     "end_time": "2022-05-29T00:37:43.605517",
     "exception": false,
     "start_time": "2022-05-29T00:37:43.579268",
     "status": "completed"
    },
    "tags": []
   },
   "source": [
    "We reshape the data to flatten the image pixels into a set of features or co-variates:"
   ]
  },
  {
   "cell_type": "code",
   "execution_count": 14,
   "id": "5286a4a3",
   "metadata": {
    "execution": {
     "iopub.execute_input": "2022-05-29T00:37:43.676231Z",
     "iopub.status.busy": "2022-05-29T00:37:43.673176Z",
     "iopub.status.idle": "2022-05-29T00:37:43.679161Z",
     "shell.execute_reply": "2022-05-29T00:37:43.679583Z"
    },
    "papermill": {
     "duration": 0.047768,
     "end_time": "2022-05-29T00:37:43.679702",
     "exception": false,
     "start_time": "2022-05-29T00:37:43.631934",
     "status": "completed"
    },
    "tags": []
   },
   "outputs": [
    {
     "data": {
      "text/plain": [
       "((11982, 784), (1984, 784))"
      ]
     },
     "execution_count": 14,
     "metadata": {},
     "output_type": "execute_result"
    }
   ],
   "source": [
    "X_train = X_train.reshape(X_train.shape[0], -1)\n",
    "X_test = X_test.reshape(X_test.shape[0], -1)\n",
    "X_train.shape, X_test.shape"
   ]
  },
  {
   "cell_type": "code",
   "execution_count": 15,
   "id": "73c5f88a",
   "metadata": {
    "execution": {
     "iopub.execute_input": "2022-05-29T00:37:43.740690Z",
     "iopub.status.busy": "2022-05-29T00:37:43.740092Z",
     "iopub.status.idle": "2022-05-29T00:37:43.755796Z",
     "shell.execute_reply": "2022-05-29T00:37:43.755332Z"
    },
    "papermill": {
     "duration": 0.049681,
     "end_time": "2022-05-29T00:37:43.755895",
     "exception": false,
     "start_time": "2022-05-29T00:37:43.706214",
     "status": "completed"
    },
    "tags": []
   },
   "outputs": [],
   "source": [
    "#Impoting functions from 'Kudzu'\n",
    "from kudzu.model import Model\n",
    "from kudzu.train import Learner\n",
    "from kudzu.optim import GD\n",
    "from kudzu.data import Data, Sampler,Dataloader\n",
    "\n",
    "from kudzu.callbacks import AccCallback\n",
    "from kudzu.callbacks import ClfCallback\n",
    "\n",
    "from kudzu.loss import MSE\n",
    "\n",
    "from kudzu.layer import Sigmoid,Relu\n",
    "from kudzu.layer import Affine"
   ]
  },
  {
   "cell_type": "markdown",
   "id": "bc01172a",
   "metadata": {
    "papermill": {
     "duration": 0.026432,
     "end_time": "2022-05-29T00:37:43.809017",
     "exception": false,
     "start_time": "2022-05-29T00:37:43.782585",
     "status": "completed"
    },
    "tags": []
   },
   "source": [
    "### Let us create a `Config` class, to store important parameters. \n",
    "This class essentially plays the role of a dictionary."
   ]
  },
  {
   "cell_type": "code",
   "execution_count": 16,
   "id": "978281aa",
   "metadata": {
    "execution": {
     "iopub.execute_input": "2022-05-29T00:37:43.865650Z",
     "iopub.status.busy": "2022-05-29T00:37:43.865074Z",
     "iopub.status.idle": "2022-05-29T00:37:43.877407Z",
     "shell.execute_reply": "2022-05-29T00:37:43.876938Z"
    },
    "papermill": {
     "duration": 0.042046,
     "end_time": "2022-05-29T00:37:43.877508",
     "exception": false,
     "start_time": "2022-05-29T00:37:43.835462",
     "status": "completed"
    },
    "tags": []
   },
   "outputs": [],
   "source": [
    "class Config:\n",
    "    pass\n",
    "config = Config()\n",
    "config.lr = 0.001\n",
    "config.num_epochs = 250\n",
    "config.bs = 50"
   ]
  },
  {
   "cell_type": "markdown",
   "id": "1385fa59",
   "metadata": {
    "papermill": {
     "duration": 0.026526,
     "end_time": "2022-05-29T00:37:43.930638",
     "exception": false,
     "start_time": "2022-05-29T00:37:43.904112",
     "status": "completed"
    },
    "tags": []
   },
   "source": [
    "### Running Models with the Training data\n",
    "Details about the network layers:\n",
    "- A first affine layer has 784 inputs and does 100 affine transforms. These are followed by a Relu\n",
    "- A second affine layer has 100 inputs from the 100 activations of the past layer, and does 100 affine transforms. These are followed by a Relu\n",
    "- A third affine layer has 100 activations and does 2 affine transformations to create an embedding for visualization. There is no non-linearity here.\n",
    "- A final \"logistic regression\" which has an affine transform from 2 inputs to 1 output, which is squeezed through a sigmoid.\n"
   ]
  },
  {
   "cell_type": "code",
   "execution_count": 17,
   "id": "2b9c66db",
   "metadata": {
    "execution": {
     "iopub.execute_input": "2022-05-29T00:37:43.987395Z",
     "iopub.status.busy": "2022-05-29T00:37:43.986818Z",
     "iopub.status.idle": "2022-05-29T00:37:43.999447Z",
     "shell.execute_reply": "2022-05-29T00:37:43.998980Z"
    },
    "papermill": {
     "duration": 0.042333,
     "end_time": "2022-05-29T00:37:43.999547",
     "exception": false,
     "start_time": "2022-05-29T00:37:43.957214",
     "status": "completed"
    },
    "tags": []
   },
   "outputs": [],
   "source": [
    "data = Data(X_train, y_train.reshape(-1,1))\n",
    "sampler = Sampler(data, config.bs, shuffle=True)\n",
    "\n",
    "dl = Dataloader(data, sampler)\n",
    "\n",
    "opt = GD(config.lr)\n",
    "loss = MSE()"
   ]
  },
  {
   "cell_type": "code",
   "execution_count": 18,
   "id": "b275e4c2",
   "metadata": {
    "execution": {
     "iopub.execute_input": "2022-05-29T00:37:44.068758Z",
     "iopub.status.busy": "2022-05-29T00:37:44.065103Z",
     "iopub.status.idle": "2022-05-29T00:37:44.071862Z",
     "shell.execute_reply": "2022-05-29T00:37:44.071307Z"
    },
    "papermill": {
     "duration": 0.045845,
     "end_time": "2022-05-29T00:37:44.071965",
     "exception": false,
     "start_time": "2022-05-29T00:37:44.026120",
     "status": "completed"
    },
    "tags": []
   },
   "outputs": [],
   "source": [
    "training_data_x = X_train\n",
    "testing_data_x = X_test\n",
    "training_data_y = y_train.reshape(-1,1)\n",
    "testing_data_y = y_test.reshape(-1,1)"
   ]
  },
  {
   "cell_type": "code",
   "execution_count": 19,
   "id": "76951160",
   "metadata": {
    "execution": {
     "iopub.execute_input": "2022-05-29T00:37:44.129059Z",
     "iopub.status.busy": "2022-05-29T00:37:44.128474Z",
     "iopub.status.idle": "2022-05-29T00:37:44.144815Z",
     "shell.execute_reply": "2022-05-29T00:37:44.144317Z"
    },
    "papermill": {
     "duration": 0.046403,
     "end_time": "2022-05-29T00:37:44.144917",
     "exception": false,
     "start_time": "2022-05-29T00:37:44.098514",
     "status": "completed"
    },
    "tags": []
   },
   "outputs": [
    {
     "name": "stdout",
     "output_type": "stream",
     "text": [
      "xavier\n",
      "xavier\n",
      "xavier\n",
      "xavier\n",
      "xavier\n"
     ]
    }
   ],
   "source": [
    "layers = [Affine(\"first\", 784, 100), Relu(\"first\"), Affine(\"second\", 100, 100), Relu(\"second\"), Affine(\"third\", 100, 2), Affine(\"last\", 2, 1), Sigmoid(\"last\")]\n",
    "model_nn = Model(layers)\n",
    "model_lr = Model([Affine(\"logits\", 784, 1), Sigmoid(\"sigmoid\")])"
   ]
  },
  {
   "cell_type": "code",
   "execution_count": 20,
   "id": "6eede77a",
   "metadata": {
    "execution": {
     "iopub.execute_input": "2022-05-29T00:37:44.213450Z",
     "iopub.status.busy": "2022-05-29T00:37:44.207209Z",
     "iopub.status.idle": "2022-05-29T00:37:44.215884Z",
     "shell.execute_reply": "2022-05-29T00:37:44.215324Z"
    },
    "papermill": {
     "duration": 0.044231,
     "end_time": "2022-05-29T00:37:44.215984",
     "exception": false,
     "start_time": "2022-05-29T00:37:44.171753",
     "status": "completed"
    },
    "tags": []
   },
   "outputs": [],
   "source": [
    "nn_learner = Learner(loss, model_nn, opt, config.num_epochs)\n",
    "acc_nn = ClfCallback(nn_learner, config.bs, training_data_x , testing_data_x, training_data_y, testing_data_y)\n",
    "nn_learner.set_callbacks([acc_nn])"
   ]
  },
  {
   "cell_type": "code",
   "execution_count": 21,
   "id": "877b6cc7",
   "metadata": {
    "execution": {
     "iopub.execute_input": "2022-05-29T00:37:44.273202Z",
     "iopub.status.busy": "2022-05-29T00:37:44.272626Z",
     "iopub.status.idle": "2022-05-29T00:37:44.285881Z",
     "shell.execute_reply": "2022-05-29T00:37:44.285410Z"
    },
    "papermill": {
     "duration": 0.043162,
     "end_time": "2022-05-29T00:37:44.285981",
     "exception": false,
     "start_time": "2022-05-29T00:37:44.242819",
     "status": "completed"
    },
    "tags": []
   },
   "outputs": [],
   "source": [
    "lr_learner = Learner(loss, model_lr, opt, config.num_epochs)\n",
    "acc_lr = ClfCallback(lr_learner, config.bs, training_data_x , testing_data_x, training_data_y, testing_data_y)\n",
    "lr_learner.set_callbacks([acc_lr])"
   ]
  },
  {
   "cell_type": "code",
   "execution_count": 22,
   "id": "d9b133c3",
   "metadata": {
    "execution": {
     "iopub.execute_input": "2022-05-29T00:37:44.356110Z",
     "iopub.status.busy": "2022-05-29T00:37:44.353147Z",
     "iopub.status.idle": "2022-05-29T00:38:58.297123Z",
     "shell.execute_reply": "2022-05-29T00:38:58.297916Z"
    },
    "papermill": {
     "duration": 73.985062,
     "end_time": "2022-05-29T00:38:58.298067",
     "exception": false,
     "start_time": "2022-05-29T00:37:44.313005",
     "status": "completed"
    },
    "tags": []
   },
   "outputs": [
    {
     "name": "stdout",
     "output_type": "stream",
     "text": [
      "Epoch 0, Loss 0.2434\n",
      "Training Accuracy: 0.6505, Testing Accuracy: 0.6386\n",
      "\n"
     ]
    },
    {
     "name": "stdout",
     "output_type": "stream",
     "text": [
      "Epoch 10, Loss 0.1665\n",
      "Training Accuracy: 0.8916, Testing Accuracy: 0.8987\n",
      "\n"
     ]
    },
    {
     "name": "stdout",
     "output_type": "stream",
     "text": [
      "Epoch 20, Loss 0.0811\n",
      "Training Accuracy: 0.9264, Testing Accuracy: 0.9315\n",
      "\n"
     ]
    },
    {
     "name": "stdout",
     "output_type": "stream",
     "text": [
      "Epoch 30, Loss 0.0543\n",
      "Training Accuracy: 0.9435, Testing Accuracy: 0.9501\n",
      "\n"
     ]
    },
    {
     "name": "stdout",
     "output_type": "stream",
     "text": [
      "Epoch 40, Loss 0.0435\n",
      "Training Accuracy: 0.9527, Testing Accuracy: 0.9582\n",
      "\n"
     ]
    },
    {
     "name": "stdout",
     "output_type": "stream",
     "text": [
      "Epoch 50, Loss 0.038\n",
      "Training Accuracy: 0.9568, Testing Accuracy: 0.9612\n",
      "\n"
     ]
    },
    {
     "name": "stdout",
     "output_type": "stream",
     "text": [
      "Epoch 60, Loss 0.0347\n",
      "Training Accuracy: 0.9600, Testing Accuracy: 0.9652\n",
      "\n"
     ]
    },
    {
     "name": "stdout",
     "output_type": "stream",
     "text": [
      "Epoch 70, Loss 0.0324\n",
      "Training Accuracy: 0.9617, Testing Accuracy: 0.9682\n",
      "\n"
     ]
    },
    {
     "name": "stdout",
     "output_type": "stream",
     "text": [
      "Epoch 80, Loss 0.0307\n",
      "Training Accuracy: 0.9638, Testing Accuracy: 0.9688\n",
      "\n"
     ]
    },
    {
     "name": "stdout",
     "output_type": "stream",
     "text": [
      "Epoch 90, Loss 0.0293\n",
      "Training Accuracy: 0.9654, Testing Accuracy: 0.9693\n",
      "\n"
     ]
    },
    {
     "name": "stdout",
     "output_type": "stream",
     "text": [
      "Epoch 100, Loss 0.0282\n",
      "Training Accuracy: 0.9670, Testing Accuracy: 0.9693\n",
      "\n"
     ]
    },
    {
     "name": "stdout",
     "output_type": "stream",
     "text": [
      "Epoch 110, Loss 0.0272\n",
      "Training Accuracy: 0.9681, Testing Accuracy: 0.9703\n",
      "\n"
     ]
    },
    {
     "name": "stdout",
     "output_type": "stream",
     "text": [
      "Epoch 120, Loss 0.0264\n",
      "Training Accuracy: 0.9690, Testing Accuracy: 0.9713\n",
      "\n"
     ]
    },
    {
     "name": "stdout",
     "output_type": "stream",
     "text": [
      "Epoch 130, Loss 0.0257\n",
      "Training Accuracy: 0.9694, Testing Accuracy: 0.9718\n",
      "\n"
     ]
    },
    {
     "name": "stdout",
     "output_type": "stream",
     "text": [
      "Epoch 140, Loss 0.025\n",
      "Training Accuracy: 0.9702, Testing Accuracy: 0.9718\n",
      "\n"
     ]
    },
    {
     "name": "stdout",
     "output_type": "stream",
     "text": [
      "Epoch 150, Loss 0.0245\n",
      "Training Accuracy: 0.9711, Testing Accuracy: 0.9723\n",
      "\n"
     ]
    },
    {
     "name": "stdout",
     "output_type": "stream",
     "text": [
      "Epoch 160, Loss 0.0239\n",
      "Training Accuracy: 0.9723, Testing Accuracy: 0.9723\n",
      "\n"
     ]
    },
    {
     "name": "stdout",
     "output_type": "stream",
     "text": [
      "Epoch 170, Loss 0.0234\n",
      "Training Accuracy: 0.9728, Testing Accuracy: 0.9723\n",
      "\n"
     ]
    },
    {
     "name": "stdout",
     "output_type": "stream",
     "text": [
      "Epoch 180, Loss 0.023\n",
      "Training Accuracy: 0.9734, Testing Accuracy: 0.9718\n",
      "\n"
     ]
    },
    {
     "name": "stdout",
     "output_type": "stream",
     "text": [
      "Epoch 190, Loss 0.0225\n",
      "Training Accuracy: 0.9738, Testing Accuracy: 0.9718\n",
      "\n"
     ]
    },
    {
     "name": "stdout",
     "output_type": "stream",
     "text": [
      "Epoch 200, Loss 0.0221\n",
      "Training Accuracy: 0.9741, Testing Accuracy: 0.9708\n",
      "\n"
     ]
    },
    {
     "name": "stdout",
     "output_type": "stream",
     "text": [
      "Epoch 210, Loss 0.0217\n",
      "Training Accuracy: 0.9747, Testing Accuracy: 0.9703\n",
      "\n"
     ]
    },
    {
     "name": "stdout",
     "output_type": "stream",
     "text": [
      "Epoch 220, Loss 0.0213\n",
      "Training Accuracy: 0.9755, Testing Accuracy: 0.9703\n",
      "\n"
     ]
    },
    {
     "name": "stdout",
     "output_type": "stream",
     "text": [
      "Epoch 230, Loss 0.021\n",
      "Training Accuracy: 0.9758, Testing Accuracy: 0.9698\n",
      "\n"
     ]
    },
    {
     "name": "stdout",
     "output_type": "stream",
     "text": [
      "Epoch 240, Loss 0.0206\n",
      "Training Accuracy: 0.9766, Testing Accuracy: 0.9708\n",
      "\n"
     ]
    },
    {
     "data": {
      "text/plain": [
       "0.004785369020094894"
      ]
     },
     "execution_count": 22,
     "metadata": {},
     "output_type": "execute_result"
    }
   ],
   "source": [
    "nn_learner.train_loop(dl)"
   ]
  },
  {
   "cell_type": "code",
   "execution_count": 23,
   "id": "e0163366",
   "metadata": {
    "execution": {
     "iopub.execute_input": "2022-05-29T00:38:58.374894Z",
     "iopub.status.busy": "2022-05-29T00:38:58.374302Z",
     "iopub.status.idle": "2022-05-29T00:39:11.799403Z",
     "shell.execute_reply": "2022-05-29T00:39:11.800246Z"
    },
    "papermill": {
     "duration": 13.467955,
     "end_time": "2022-05-29T00:39:11.800412",
     "exception": false,
     "start_time": "2022-05-29T00:38:58.332457",
     "status": "completed"
    },
    "tags": []
   },
   "outputs": [
    {
     "name": "stdout",
     "output_type": "stream",
     "text": [
      "Epoch 0, Loss 0.2334\n",
      "Training Accuracy: 0.7157, Testing Accuracy: 0.7339\n",
      "\n"
     ]
    },
    {
     "name": "stdout",
     "output_type": "stream",
     "text": [
      "Epoch 10, Loss 0.1045\n",
      "Training Accuracy: 0.8996, Testing Accuracy: 0.9017\n",
      "\n"
     ]
    },
    {
     "name": "stdout",
     "output_type": "stream",
     "text": [
      "Epoch 20, Loss 0.0803\n",
      "Training Accuracy: 0.9241, Testing Accuracy: 0.9294\n",
      "\n"
     ]
    },
    {
     "name": "stdout",
     "output_type": "stream",
     "text": [
      "Epoch 30, Loss 0.069\n",
      "Training Accuracy: 0.9346, Testing Accuracy: 0.9441\n",
      "\n"
     ]
    },
    {
     "name": "stdout",
     "output_type": "stream",
     "text": [
      "Epoch 40, Loss 0.0621\n",
      "Training Accuracy: 0.9403, Testing Accuracy: 0.9491\n",
      "\n"
     ]
    },
    {
     "name": "stdout",
     "output_type": "stream",
     "text": [
      "Epoch 50, Loss 0.0575\n",
      "Training Accuracy: 0.9442, Testing Accuracy: 0.9541\n",
      "\n"
     ]
    },
    {
     "name": "stdout",
     "output_type": "stream",
     "text": [
      "Epoch 60, Loss 0.0541\n",
      "Training Accuracy: 0.9466, Testing Accuracy: 0.9567\n",
      "\n"
     ]
    },
    {
     "name": "stdout",
     "output_type": "stream",
     "text": [
      "Epoch 70, Loss 0.0515\n",
      "Training Accuracy: 0.9487, Testing Accuracy: 0.9582\n",
      "\n"
     ]
    },
    {
     "name": "stdout",
     "output_type": "stream",
     "text": [
      "Epoch 80, Loss 0.0495\n",
      "Training Accuracy: 0.9508, Testing Accuracy: 0.9597\n",
      "\n"
     ]
    },
    {
     "name": "stdout",
     "output_type": "stream",
     "text": [
      "Epoch 90, Loss 0.0477\n",
      "Training Accuracy: 0.9517, Testing Accuracy: 0.9612\n",
      "\n"
     ]
    },
    {
     "name": "stdout",
     "output_type": "stream",
     "text": [
      "Epoch 100, Loss 0.0463\n",
      "Training Accuracy: 0.9528, Testing Accuracy: 0.9622\n",
      "\n"
     ]
    },
    {
     "name": "stdout",
     "output_type": "stream",
     "text": [
      "Epoch 110, Loss 0.0451\n",
      "Training Accuracy: 0.9537, Testing Accuracy: 0.9617\n",
      "\n"
     ]
    },
    {
     "name": "stdout",
     "output_type": "stream",
     "text": [
      "Epoch 120, Loss 0.044\n",
      "Training Accuracy: 0.9543, Testing Accuracy: 0.9642\n",
      "\n"
     ]
    },
    {
     "name": "stdout",
     "output_type": "stream",
     "text": [
      "Epoch 130, Loss 0.0431\n",
      "Training Accuracy: 0.9548, Testing Accuracy: 0.9642\n",
      "\n"
     ]
    },
    {
     "name": "stdout",
     "output_type": "stream",
     "text": [
      "Epoch 140, Loss 0.0422\n",
      "Training Accuracy: 0.9553, Testing Accuracy: 0.9647\n",
      "\n"
     ]
    },
    {
     "name": "stdout",
     "output_type": "stream",
     "text": [
      "Epoch 150, Loss 0.0415\n",
      "Training Accuracy: 0.9561, Testing Accuracy: 0.9657\n",
      "\n"
     ]
    },
    {
     "name": "stdout",
     "output_type": "stream",
     "text": [
      "Epoch 160, Loss 0.0408\n",
      "Training Accuracy: 0.9568, Testing Accuracy: 0.9667\n",
      "\n"
     ]
    },
    {
     "name": "stdout",
     "output_type": "stream",
     "text": [
      "Epoch 170, Loss 0.0402\n",
      "Training Accuracy: 0.9573, Testing Accuracy: 0.9667\n",
      "\n"
     ]
    },
    {
     "name": "stdout",
     "output_type": "stream",
     "text": [
      "Epoch 180, Loss 0.0396\n",
      "Training Accuracy: 0.9580, Testing Accuracy: 0.9667\n",
      "\n"
     ]
    },
    {
     "name": "stdout",
     "output_type": "stream",
     "text": [
      "Epoch 190, Loss 0.0391\n",
      "Training Accuracy: 0.9587, Testing Accuracy: 0.9672\n",
      "\n"
     ]
    },
    {
     "name": "stdout",
     "output_type": "stream",
     "text": [
      "Epoch 200, Loss 0.0386\n",
      "Training Accuracy: 0.9592, Testing Accuracy: 0.9677\n",
      "\n"
     ]
    },
    {
     "name": "stdout",
     "output_type": "stream",
     "text": [
      "Epoch 210, Loss 0.0382\n",
      "Training Accuracy: 0.9595, Testing Accuracy: 0.9682\n",
      "\n"
     ]
    },
    {
     "name": "stdout",
     "output_type": "stream",
     "text": [
      "Epoch 220, Loss 0.0377\n",
      "Training Accuracy: 0.9602, Testing Accuracy: 0.9682\n",
      "\n"
     ]
    },
    {
     "name": "stdout",
     "output_type": "stream",
     "text": [
      "Epoch 230, Loss 0.0374\n",
      "Training Accuracy: 0.9605, Testing Accuracy: 0.9677\n",
      "\n"
     ]
    },
    {
     "name": "stdout",
     "output_type": "stream",
     "text": [
      "Epoch 240, Loss 0.037\n",
      "Training Accuracy: 0.9606, Testing Accuracy: 0.9677\n",
      "\n"
     ]
    },
    {
     "data": {
      "text/plain": [
       "0.0523854394800151"
      ]
     },
     "execution_count": 23,
     "metadata": {},
     "output_type": "execute_result"
    }
   ],
   "source": [
    "lr_learner.train_loop(dl)"
   ]
  },
  {
   "cell_type": "code",
   "execution_count": 24,
   "id": "ca410940",
   "metadata": {
    "execution": {
     "iopub.execute_input": "2022-05-29T00:39:11.890411Z",
     "iopub.status.busy": "2022-05-29T00:39:11.889809Z",
     "iopub.status.idle": "2022-05-29T00:39:12.120263Z",
     "shell.execute_reply": "2022-05-29T00:39:12.119761Z"
    },
    "papermill": {
     "duration": 0.278741,
     "end_time": "2022-05-29T00:39:12.120379",
     "exception": false,
     "start_time": "2022-05-29T00:39:11.841638",
     "status": "completed"
    },
    "tags": []
   },
   "outputs": [
    {
     "data": {
      "text/plain": [
       "<matplotlib.legend.Legend at 0x7f609d5bb4e0>"
      ]
     },
     "execution_count": 24,
     "metadata": {},
     "output_type": "execute_result"
    },
    {
     "data": {
      "image/png": "[encoded data removed]",
      "text/plain": [
       "<Figure size 1080x720 with 1 Axes>"
      ]
     },
     "metadata": {
      "needs_background": "light"
     },
     "output_type": "display_data"
    }
   ],
   "source": [
    "#comparing the results of NN and LR\n",
    "plt.figure(figsize=(15,10))\n",
    "\n",
    "# Neural Network plots\n",
    "plt.plot(acc_nn.accuracies, 'r-', label = \"Training Accuracies - NN\")\n",
    "plt.plot(acc_nn.test_accuracies, 'g-', label = \"Testing Accuracies - NN\")\n",
    "\n",
    "# Logistic Regression plots\n",
    "plt.plot(acc_lr.accuracies, 'k-', label = \"Training Accuracies - LR\")\n",
    "plt.plot(acc_lr.test_accuracies, 'b-', label = \"Testing Accuracies - LR\")\n",
    "plt.legend()"
   ]
  },
  {
   "cell_type": "markdown",
   "id": "80dfb35c",
   "metadata": {
    "papermill": {
     "duration": 0.041483,
     "end_time": "2022-05-29T00:39:12.203892",
     "exception": false,
     "start_time": "2022-05-29T00:39:12.162409",
     "status": "completed"
    },
    "tags": []
   },
   "source": [
    "#### Plotting the outputs of this layer of the NN.\n"
   ]
  },
  {
   "cell_type": "code",
   "execution_count": 25,
   "id": "45eb2ff5",
   "metadata": {
    "execution": {
     "iopub.execute_input": "2022-05-29T00:39:12.291996Z",
     "iopub.status.busy": "2022-05-29T00:39:12.291390Z",
     "iopub.status.idle": "2022-05-29T00:39:12.310735Z",
     "shell.execute_reply": "2022-05-29T00:39:12.310248Z"
    },
    "papermill": {
     "duration": 0.065292,
     "end_time": "2022-05-29T00:39:12.310846",
     "exception": false,
     "start_time": "2022-05-29T00:39:12.245554",
     "status": "completed"
    },
    "tags": []
   },
   "outputs": [],
   "source": [
    "new_model = Model(layers[:-2])\n",
    "testing_plot = new_model(testing_data_x)"
   ]
  },
  {
   "cell_type": "code",
   "execution_count": 26,
   "id": "4c0a5485",
   "metadata": {
    "execution": {
     "iopub.execute_input": "2022-05-29T00:39:12.400992Z",
     "iopub.status.busy": "2022-05-29T00:39:12.400352Z",
     "iopub.status.idle": "2022-05-29T00:39:12.603262Z",
     "shell.execute_reply": "2022-05-29T00:39:12.603691Z"
    },
    "papermill": {
     "duration": 0.249101,
     "end_time": "2022-05-29T00:39:12.603832",
     "exception": false,
     "start_time": "2022-05-29T00:39:12.354731",
     "status": "completed"
    },
    "tags": []
   },
   "outputs": [
    {
     "data": {
      "text/plain": [
       "Text(0.5, 1.0, 'Outputs')"
      ]
     },
     "execution_count": 26,
     "metadata": {},
     "output_type": "execute_result"
    },
    {
     "data": {
      "image/png": "[encoded data removed]",
      "text/plain": [
       "<Figure size 576x504 with 1 Axes>"
      ]
     },
     "metadata": {
      "needs_background": "light"
     },
     "output_type": "display_data"
    }
   ],
   "source": [
    "# Plotting the scatter plot of points and color coding by class\n",
    "plt.figure(figsize=(8,7))\n",
    "plt.scatter(testing_plot[:,0], testing_plot[:,1], alpha = 0.1, c = y_test.ravel());\n",
    "plt.title('Outputs')"
   ]
  },
  {
   "cell_type": "markdown",
   "id": "a74fcf8f",
   "metadata": {
    "papermill": {
     "duration": 0.043365,
     "end_time": "2022-05-29T00:39:12.691036",
     "exception": false,
     "start_time": "2022-05-29T00:39:12.647671",
     "status": "completed"
    },
    "tags": []
   },
   "source": [
    "Probability contours"
   ]
  },
  {
   "cell_type": "code",
   "execution_count": 27,
   "id": "d0afc8e3",
   "metadata": {
    "execution": {
     "iopub.execute_input": "2022-05-29T00:39:12.807985Z",
     "iopub.status.busy": "2022-05-29T00:39:12.807389Z",
     "iopub.status.idle": "2022-05-29T00:39:12.819489Z",
     "shell.execute_reply": "2022-05-29T00:39:12.819004Z"
    },
    "papermill": {
     "duration": 0.084995,
     "end_time": "2022-05-29T00:39:12.819595",
     "exception": false,
     "start_time": "2022-05-29T00:39:12.734600",
     "status": "completed"
    },
    "tags": []
   },
   "outputs": [],
   "source": [
    "model_prob = Model(layers[-2:]) "
   ]
  },
  {
   "cell_type": "code",
   "execution_count": 28,
   "id": "9b96e238",
   "metadata": {
    "execution": {
     "iopub.execute_input": "2022-05-29T00:39:12.911456Z",
     "iopub.status.busy": "2022-05-29T00:39:12.910878Z",
     "iopub.status.idle": "2022-05-29T00:39:12.925175Z",
     "shell.execute_reply": "2022-05-29T00:39:12.925660Z"
    },
    "papermill": {
     "duration": 0.062675,
     "end_time": "2022-05-29T00:39:12.925787",
     "exception": false,
     "start_time": "2022-05-29T00:39:12.863112",
     "status": "completed"
    },
    "tags": []
   },
   "outputs": [],
   "source": [
    "#creating the x and y ranges according to the above generated plot.\n",
    "x_range = np.linspace(-4, 1, 100) \n",
    "y_range = np.linspace(-6, 6, 100) \n",
    "x_grid, y_grid = np.meshgrid(x_range, y_range) # x_grid and y_grig are of size 100 X 100\n",
    "\n",
    "# converting x_grid and y_grid to continuous arrays\n",
    "x_gridflat = np.ravel(x_grid)\n",
    "y_gridflat = np.ravel(y_grid)\n",
    "\n",
    "# The last layer of the current model takes two columns as input. Hence transpose of np.vstack() is required.\n",
    "X = np.vstack((x_gridflat, y_gridflat)).T\n",
    "\n",
    "prob_contour = model_prob(X).reshape(100,100) "
   ]
  },
  {
   "cell_type": "code",
   "execution_count": 29,
   "id": "da72499a",
   "metadata": {
    "execution": {
     "iopub.execute_input": "2022-05-29T00:39:13.025029Z",
     "iopub.status.busy": "2022-05-29T00:39:13.024447Z",
     "iopub.status.idle": "2022-05-29T00:39:13.254393Z",
     "shell.execute_reply": "2022-05-29T00:39:13.253841Z"
    },
    "papermill": {
     "duration": 0.284755,
     "end_time": "2022-05-29T00:39:13.254508",
     "exception": false,
     "start_time": "2022-05-29T00:39:12.969753",
     "status": "completed"
    },
    "tags": []
   },
   "outputs": [
    {
     "data": {
      "image/png": "[encoded data removed]",
      "text/plain": [
       "<Figure size 720x648 with 1 Axes>"
      ]
     },
     "metadata": {
      "needs_background": "light"
     },
     "output_type": "display_data"
    }
   ],
   "source": [
    "plt.figure(figsize=(10,9))\n",
    "plt.scatter(testing_plot[:,0], testing_plot[:,1], alpha = 0.1, c = y_test.ravel())\n",
    "contours = plt.contour(x_grid,y_grid,prob_contour)\n",
    "plt.title('Probability Contours')\n",
    "plt.clabel(contours, inline = True );"
   ]
  },
  {
   "cell_type": "code",
   "execution_count": null,
   "id": "e81b4ac7",
   "metadata": {
    "papermill": {
     "duration": 0.045839,
     "end_time": "2022-05-29T00:39:13.346890",
     "exception": false,
     "start_time": "2022-05-29T00:39:13.301051",
     "status": "completed"
    },
    "tags": []
   },
   "outputs": [],
   "source": []
  }
 ],
 "metadata": {
  "kernelspec": {
   "display_name": "Python 3",
   "language": "python",
   "name": "python3"
  },
  "language_info": {
   "codemirror_mode": {
    "name": "ipython",
    "version": 3
   },
   "file_extension": ".py",
   "mimetype": "text/x-python",
   "name": "python",
   "nbconvert_exporter": "python",
   "pygments_lexer": "ipython3",
   "version": "3.6.15"
  },
  "papermill": {
   "default_parameters": {},
   "duration": 95.231225,
   "end_time": "2022-05-29T00:39:13.811477",
   "environment_variables": {},
   "exception": null,
   "input_path": "2020-08-11-part2.ipynb",
   "output_path": "2020-08-11-part2.ipynb",
   "parameters": {},
   "start_time": "2022-05-29T00:37:38.580252",
   "version": "2.3.3"
  }
 },
 "nbformat": 4,
 "nbformat_minor": 5
}