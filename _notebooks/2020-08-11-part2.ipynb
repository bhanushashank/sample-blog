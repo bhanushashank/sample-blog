{
 "cells": [
  {
   "cell_type": "markdown",
   "id": "98380cd3",
   "metadata": {
    "papermill": {
     "duration": 0.029143,
     "end_time": "2021-08-30T10:07:14.945582",
     "exception": false,
     "start_time": "2021-08-30T10:07:14.916439",
     "status": "completed"
    },
    "tags": []
   },
   "source": [
    "# Distinguish Your Own Digits (DYOD)"
   ]
  },
  {
   "cell_type": "markdown",
   "id": "ef31240d",
   "metadata": {
    "papermill": {
     "duration": 0.023874,
     "end_time": "2021-08-30T10:07:14.993850",
     "exception": false,
     "start_time": "2021-08-30T10:07:14.969976",
     "status": "completed"
    },
    "tags": []
   },
   "source": [
    "You are going to write a classifier that distinguishes between the number 3 and number 8."
   ]
  },
  {
   "cell_type": "code",
   "execution_count": 1,
   "id": "b15c8646",
   "metadata": {
    "execution": {
     "iopub.execute_input": "2021-08-30T10:07:15.052051Z",
     "iopub.status.busy": "2021-08-30T10:07:15.051519Z",
     "iopub.status.idle": "2021-08-30T10:07:15.062270Z",
     "shell.execute_reply": "2021-08-30T10:07:15.061834Z"
    },
    "papermill": {
     "duration": 0.044897,
     "end_time": "2021-08-30T10:07:15.062397",
     "exception": false,
     "start_time": "2021-08-30T10:07:15.017500",
     "status": "completed"
    },
    "tags": []
   },
   "outputs": [],
   "source": [
    "%load_ext autoreload\n",
    "%autoreload 2"
   ]
  },
  {
   "cell_type": "code",
   "execution_count": 2,
   "id": "22ef38dc",
   "metadata": {
    "execution": {
     "iopub.execute_input": "2021-08-30T10:07:15.115648Z",
     "iopub.status.busy": "2021-08-30T10:07:15.115136Z",
     "iopub.status.idle": "2021-08-30T10:07:15.620228Z",
     "shell.execute_reply": "2021-08-30T10:07:15.619296Z"
    },
    "papermill": {
     "duration": 0.534039,
     "end_time": "2021-08-30T10:07:15.620368",
     "exception": false,
     "start_time": "2021-08-30T10:07:15.086329",
     "status": "completed"
    },
    "tags": []
   },
   "outputs": [],
   "source": [
    "%matplotlib inline\n",
    "import numpy as np\n",
    "import matplotlib.pyplot as plt\n",
    "import pandas as pd"
   ]
  },
  {
   "cell_type": "markdown",
   "id": "ba036198",
   "metadata": {
    "papermill": {
     "duration": 0.024822,
     "end_time": "2021-08-30T10:07:15.669156",
     "exception": false,
     "start_time": "2021-08-30T10:07:15.644334",
     "status": "completed"
    },
    "tags": []
   },
   "source": [
    "From the command line run `pip install mnist`. This is a library that will help you bring down the mnist dataset. If you run this from a notebook, you need to put  `!pip install mnist` in a cell by itself."
   ]
  },
  {
   "cell_type": "code",
   "execution_count": 3,
   "id": "bb6ad8a1",
   "metadata": {
    "execution": {
     "iopub.execute_input": "2021-08-30T10:07:15.723499Z",
     "iopub.status.busy": "2021-08-30T10:07:15.720691Z",
     "iopub.status.idle": "2021-08-30T10:07:17.417351Z",
     "shell.execute_reply": "2021-08-30T10:07:17.417807Z"
    },
    "papermill": {
     "duration": 1.724739,
     "end_time": "2021-08-30T10:07:17.417951",
     "exception": false,
     "start_time": "2021-08-30T10:07:15.693212",
     "status": "completed"
    },
    "tags": []
   },
   "outputs": [
    {
     "name": "stdout",
     "output_type": "stream",
     "text": [
      "Collecting mnist\r\n"
     ]
    },
    {
     "name": "stdout",
     "output_type": "stream",
     "text": [
      "  Downloading mnist-0.2.2-py2.py3-none-any.whl (3.5 kB)\r\n",
      "Requirement already satisfied: numpy in /opt/hostedtoolcache/Python/3.6.14/x64/lib/python3.6/site-packages (from mnist) (1.19.5)\r\n"
     ]
    },
    {
     "name": "stdout",
     "output_type": "stream",
     "text": [
      "Installing collected packages: mnist\r\n"
     ]
    },
    {
     "name": "stdout",
     "output_type": "stream",
     "text": [
      "Successfully installed mnist-0.2.2\r\n"
     ]
    }
   ],
   "source": [
    "!pip install mnist"
   ]
  },
  {
   "cell_type": "markdown",
   "id": "69df9c9a",
   "metadata": {
    "papermill": {
     "duration": 0.025236,
     "end_time": "2021-08-30T10:07:17.468457",
     "exception": false,
     "start_time": "2021-08-30T10:07:17.443221",
     "status": "completed"
    },
    "tags": []
   },
   "source": [
    "## Preparing the Data"
   ]
  },
  {
   "cell_type": "code",
   "execution_count": 4,
   "id": "7f69d806",
   "metadata": {
    "execution": {
     "iopub.execute_input": "2021-08-30T10:07:17.522172Z",
     "iopub.status.busy": "2021-08-30T10:07:17.521673Z",
     "iopub.status.idle": "2021-08-30T10:07:17.536017Z",
     "shell.execute_reply": "2021-08-30T10:07:17.535585Z"
    },
    "papermill": {
     "duration": 0.042835,
     "end_time": "2021-08-30T10:07:17.536126",
     "exception": false,
     "start_time": "2021-08-30T10:07:17.493291",
     "status": "completed"
    },
    "tags": []
   },
   "outputs": [],
   "source": [
    "import mnist"
   ]
  },
  {
   "cell_type": "code",
   "execution_count": 5,
   "id": "a411e44f",
   "metadata": {
    "execution": {
     "iopub.execute_input": "2021-08-30T10:07:17.590171Z",
     "iopub.status.busy": "2021-08-30T10:07:17.589657Z",
     "iopub.status.idle": "2021-08-30T10:07:18.220131Z",
     "shell.execute_reply": "2021-08-30T10:07:18.220642Z"
    },
    "papermill": {
     "duration": 0.659622,
     "end_time": "2021-08-30T10:07:18.220797",
     "exception": false,
     "start_time": "2021-08-30T10:07:17.561175",
     "status": "completed"
    },
    "tags": []
   },
   "outputs": [],
   "source": [
    "train_images = mnist.train_images()\n",
    "train_labels = mnist.train_labels()"
   ]
  },
  {
   "cell_type": "code",
   "execution_count": 6,
   "id": "dceab3a5",
   "metadata": {
    "execution": {
     "iopub.execute_input": "2021-08-30T10:07:18.287455Z",
     "iopub.status.busy": "2021-08-30T10:07:18.279425Z",
     "iopub.status.idle": "2021-08-30T10:07:18.290551Z",
     "shell.execute_reply": "2021-08-30T10:07:18.290085Z"
    },
    "papermill": {
     "duration": 0.044553,
     "end_time": "2021-08-30T10:07:18.290668",
     "exception": false,
     "start_time": "2021-08-30T10:07:18.246115",
     "status": "completed"
    },
    "tags": []
   },
   "outputs": [
    {
     "data": {
      "text/plain": [
       "((60000, 28, 28), (60000,))"
      ]
     },
     "execution_count": 6,
     "metadata": {},
     "output_type": "execute_result"
    }
   ],
   "source": [
    "train_images.shape, train_labels.shape"
   ]
  },
  {
   "cell_type": "code",
   "execution_count": 7,
   "id": "f50dc2bb",
   "metadata": {
    "execution": {
     "iopub.execute_input": "2021-08-30T10:07:18.346756Z",
     "iopub.status.busy": "2021-08-30T10:07:18.346235Z",
     "iopub.status.idle": "2021-08-30T10:07:18.557598Z",
     "shell.execute_reply": "2021-08-30T10:07:18.557078Z"
    },
    "papermill": {
     "duration": 0.241798,
     "end_time": "2021-08-30T10:07:18.557742",
     "exception": false,
     "start_time": "2021-08-30T10:07:18.315944",
     "status": "completed"
    },
    "tags": []
   },
   "outputs": [],
   "source": [
    "test_images = mnist.test_images()\n",
    "test_labels = mnist.test_labels()"
   ]
  },
  {
   "cell_type": "code",
   "execution_count": 8,
   "id": "fc38cf1b",
   "metadata": {
    "execution": {
     "iopub.execute_input": "2021-08-30T10:07:18.623239Z",
     "iopub.status.busy": "2021-08-30T10:07:18.622308Z",
     "iopub.status.idle": "2021-08-30T10:07:18.629949Z",
     "shell.execute_reply": "2021-08-30T10:07:18.629274Z"
    },
    "papermill": {
     "duration": 0.045578,
     "end_time": "2021-08-30T10:07:18.630069",
     "exception": false,
     "start_time": "2021-08-30T10:07:18.584491",
     "status": "completed"
    },
    "tags": []
   },
   "outputs": [
    {
     "data": {
      "text/plain": [
       "((10000, 28, 28), (10000,))"
      ]
     },
     "execution_count": 8,
     "metadata": {},
     "output_type": "execute_result"
    }
   ],
   "source": [
    "test_images.shape, test_labels.shape"
   ]
  },
  {
   "cell_type": "code",
   "execution_count": 9,
   "id": "f9ed8fe0",
   "metadata": {
    "execution": {
     "iopub.execute_input": "2021-08-30T10:07:18.685190Z",
     "iopub.status.busy": "2021-08-30T10:07:18.684694Z",
     "iopub.status.idle": "2021-08-30T10:07:18.818783Z",
     "shell.execute_reply": "2021-08-30T10:07:18.819203Z"
    },
    "papermill": {
     "duration": 0.163621,
     "end_time": "2021-08-30T10:07:18.819340",
     "exception": false,
     "start_time": "2021-08-30T10:07:18.655719",
     "status": "completed"
    },
    "tags": []
   },
   "outputs": [
    {
     "name": "stdout",
     "output_type": "stream",
     "text": [
      "2\n"
     ]
    },
    {
     "data": {
      "text/plain": [
       "<matplotlib.image.AxesImage at 0x7fc2851adac8>"
      ]
     },
     "execution_count": 9,
     "metadata": {},
     "output_type": "execute_result"
    },
    {
     "data": {
      "image/png": "[encoded data removed]",
      "text/plain": [
       "<Figure size 432x288 with 1 Axes>"
      ]
     },
     "metadata": {
      "needs_background": "light"
     },
     "output_type": "display_data"
    }
   ],
   "source": [
    "image_index = 7776 # You may select anything up to 60,000\n",
    "print(train_labels[image_index]) \n",
    "plt.imshow(train_images[image_index], cmap='Greys')"
   ]
  },
  {
   "cell_type": "markdown",
   "id": "a8d2388d",
   "metadata": {
    "papermill": {
     "duration": 0.026923,
     "end_time": "2021-08-30T10:07:18.872976",
     "exception": false,
     "start_time": "2021-08-30T10:07:18.846053",
     "status": "completed"
    },
    "tags": []
   },
   "source": [
    "## Filter data to get 3 and 8 out"
   ]
  },
  {
   "cell_type": "code",
   "execution_count": 10,
   "id": "776f7fc7",
   "metadata": {
    "execution": {
     "iopub.execute_input": "2021-08-30T10:07:18.933942Z",
     "iopub.status.busy": "2021-08-30T10:07:18.933412Z",
     "iopub.status.idle": "2021-08-30T10:07:18.949019Z",
     "shell.execute_reply": "2021-08-30T10:07:18.948582Z"
    },
    "papermill": {
     "duration": 0.049776,
     "end_time": "2021-08-30T10:07:18.949131",
     "exception": false,
     "start_time": "2021-08-30T10:07:18.899355",
     "status": "completed"
    },
    "tags": []
   },
   "outputs": [],
   "source": [
    "train_filter = np.where((train_labels == 3 ) | (train_labels == 8))\n",
    "test_filter = np.where((test_labels == 3) | (test_labels == 8))\n",
    "X_train, y_train = train_images[train_filter], train_labels[train_filter]\n",
    "X_test, y_test = test_images[test_filter], test_labels[test_filter]"
   ]
  },
  {
   "cell_type": "markdown",
   "id": "948f0b7e",
   "metadata": {
    "papermill": {
     "duration": 0.026425,
     "end_time": "2021-08-30T10:07:19.002149",
     "exception": false,
     "start_time": "2021-08-30T10:07:18.975724",
     "status": "completed"
    },
    "tags": []
   },
   "source": [
    "We normalize the pizel values in the 0 to 1 range"
   ]
  },
  {
   "cell_type": "code",
   "execution_count": 11,
   "id": "ee4c2166",
   "metadata": {
    "execution": {
     "iopub.execute_input": "2021-08-30T10:07:19.058942Z",
     "iopub.status.busy": "2021-08-30T10:07:19.058392Z",
     "iopub.status.idle": "2021-08-30T10:07:19.106402Z",
     "shell.execute_reply": "2021-08-30T10:07:19.105882Z"
    },
    "papermill": {
     "duration": 0.077946,
     "end_time": "2021-08-30T10:07:19.106555",
     "exception": false,
     "start_time": "2021-08-30T10:07:19.028609",
     "status": "completed"
    },
    "tags": []
   },
   "outputs": [],
   "source": [
    "X_train = X_train/255.\n",
    "X_test = X_test/255."
   ]
  },
  {
   "cell_type": "markdown",
   "id": "ddcf4fab",
   "metadata": {
    "papermill": {
     "duration": 0.026829,
     "end_time": "2021-08-30T10:07:19.160308",
     "exception": false,
     "start_time": "2021-08-30T10:07:19.133479",
     "status": "completed"
    },
    "tags": []
   },
   "source": [
    "And setup the labels as 1 (when the digit is 3) and 0 (when the digit is 8)"
   ]
  },
  {
   "cell_type": "code",
   "execution_count": 12,
   "id": "7dc908f2",
   "metadata": {
    "execution": {
     "iopub.execute_input": "2021-08-30T10:07:19.217484Z",
     "iopub.status.busy": "2021-08-30T10:07:19.216973Z",
     "iopub.status.idle": "2021-08-30T10:07:19.228358Z",
     "shell.execute_reply": "2021-08-30T10:07:19.227943Z"
    },
    "papermill": {
     "duration": 0.041742,
     "end_time": "2021-08-30T10:07:19.228470",
     "exception": false,
     "start_time": "2021-08-30T10:07:19.186728",
     "status": "completed"
    },
    "tags": []
   },
   "outputs": [],
   "source": [
    "y_train = 1*(y_train==3)\n",
    "y_test = 1*(y_test==3)"
   ]
  },
  {
   "cell_type": "code",
   "execution_count": 13,
   "id": "01e4e969",
   "metadata": {
    "execution": {
     "iopub.execute_input": "2021-08-30T10:07:19.284554Z",
     "iopub.status.busy": "2021-08-30T10:07:19.284055Z",
     "iopub.status.idle": "2021-08-30T10:07:19.296799Z",
     "shell.execute_reply": "2021-08-30T10:07:19.297229Z"
    },
    "papermill": {
     "duration": 0.042345,
     "end_time": "2021-08-30T10:07:19.297355",
     "exception": false,
     "start_time": "2021-08-30T10:07:19.255010",
     "status": "completed"
    },
    "tags": []
   },
   "outputs": [
    {
     "data": {
      "text/plain": [
       "((11982, 28, 28), (1984, 28, 28))"
      ]
     },
     "execution_count": 13,
     "metadata": {},
     "output_type": "execute_result"
    }
   ],
   "source": [
    "X_train.shape, X_test.shape"
   ]
  },
  {
   "cell_type": "markdown",
   "id": "5ccf3f85",
   "metadata": {
    "papermill": {
     "duration": 0.027561,
     "end_time": "2021-08-30T10:07:19.351501",
     "exception": false,
     "start_time": "2021-08-30T10:07:19.323940",
     "status": "completed"
    },
    "tags": []
   },
   "source": [
    "We reshape the data to flatten the image pixels into a set of features or co-variates:"
   ]
  },
  {
   "cell_type": "code",
   "execution_count": 14,
   "id": "5286a4a3",
   "metadata": {
    "execution": {
     "iopub.execute_input": "2021-08-30T10:07:19.410424Z",
     "iopub.status.busy": "2021-08-30T10:07:19.409828Z",
     "iopub.status.idle": "2021-08-30T10:07:19.422684Z",
     "shell.execute_reply": "2021-08-30T10:07:19.423121Z"
    },
    "papermill": {
     "duration": 0.044874,
     "end_time": "2021-08-30T10:07:19.423250",
     "exception": false,
     "start_time": "2021-08-30T10:07:19.378376",
     "status": "completed"
    },
    "tags": []
   },
   "outputs": [
    {
     "data": {
      "text/plain": [
       "((11982, 784), (1984, 784))"
      ]
     },
     "execution_count": 14,
     "metadata": {},
     "output_type": "execute_result"
    }
   ],
   "source": [
    "X_train = X_train.reshape(X_train.shape[0], -1)\n",
    "X_test = X_test.reshape(X_test.shape[0], -1)\n",
    "X_train.shape, X_test.shape"
   ]
  },
  {
   "cell_type": "code",
   "execution_count": 15,
   "id": "73c5f88a",
   "metadata": {
    "execution": {
     "iopub.execute_input": "2021-08-30T10:07:19.483830Z",
     "iopub.status.busy": "2021-08-30T10:07:19.483319Z",
     "iopub.status.idle": "2021-08-30T10:07:19.499414Z",
     "shell.execute_reply": "2021-08-30T10:07:19.499010Z"
    },
    "papermill": {
     "duration": 0.049245,
     "end_time": "2021-08-30T10:07:19.499522",
     "exception": false,
     "start_time": "2021-08-30T10:07:19.450277",
     "status": "completed"
    },
    "tags": []
   },
   "outputs": [],
   "source": [
    "#Impoting functions from 'Kudzu'\n",
    "from kudzu.model import Model\n",
    "from kudzu.train import Learner\n",
    "from kudzu.optim import GD\n",
    "from kudzu.data import Data, Sampler,Dataloader\n",
    "\n",
    "from kudzu.callbacks import AccCallback\n",
    "from kudzu.callbacks import ClfCallback\n",
    "\n",
    "from kudzu.loss import MSE\n",
    "\n",
    "from kudzu.layer import Sigmoid,Relu\n",
    "from kudzu.layer import Affine"
   ]
  },
  {
   "cell_type": "markdown",
   "id": "bc01172a",
   "metadata": {
    "papermill": {
     "duration": 0.026802,
     "end_time": "2021-08-30T10:07:19.553332",
     "exception": false,
     "start_time": "2021-08-30T10:07:19.526530",
     "status": "completed"
    },
    "tags": []
   },
   "source": [
    "### Let us create a `Config` class, to store important parameters. \n",
    "This class essentially plays the role of a dictionary."
   ]
  },
  {
   "cell_type": "code",
   "execution_count": 16,
   "id": "978281aa",
   "metadata": {
    "execution": {
     "iopub.execute_input": "2021-08-30T10:07:19.624062Z",
     "iopub.status.busy": "2021-08-30T10:07:19.623539Z",
     "iopub.status.idle": "2021-08-30T10:07:19.627382Z",
     "shell.execute_reply": "2021-08-30T10:07:19.626952Z"
    },
    "papermill": {
     "duration": 0.047257,
     "end_time": "2021-08-30T10:07:19.627488",
     "exception": false,
     "start_time": "2021-08-30T10:07:19.580231",
     "status": "completed"
    },
    "tags": []
   },
   "outputs": [],
   "source": [
    "class Config:\n",
    "    pass\n",
    "config = Config()\n",
    "config.lr = 0.001\n",
    "config.num_epochs = 250\n",
    "config.bs = 50"
   ]
  },
  {
   "cell_type": "markdown",
   "id": "1385fa59",
   "metadata": {
    "papermill": {
     "duration": 0.026946,
     "end_time": "2021-08-30T10:07:19.681523",
     "exception": false,
     "start_time": "2021-08-30T10:07:19.654577",
     "status": "completed"
    },
    "tags": []
   },
   "source": [
    "### Running Models with the Training data\n",
    "Details about the network layers:\n",
    "- A first affine layer has 784 inputs and does 100 affine transforms. These are followed by a Relu\n",
    "- A second affine layer has 100 inputs from the 100 activations of the past layer, and does 100 affine transforms. These are followed by a Relu\n",
    "- A third affine layer has 100 activations and does 2 affine transformations to create an embedding for visualization. There is no non-linearity here.\n",
    "- A final \"logistic regression\" which has an affine transform from 2 inputs to 1 output, which is squeezed through a sigmoid.\n"
   ]
  },
  {
   "cell_type": "code",
   "execution_count": 17,
   "id": "2b9c66db",
   "metadata": {
    "execution": {
     "iopub.execute_input": "2021-08-30T10:07:19.748261Z",
     "iopub.status.busy": "2021-08-30T10:07:19.747430Z",
     "iopub.status.idle": "2021-08-30T10:07:19.754751Z",
     "shell.execute_reply": "2021-08-30T10:07:19.754326Z"
    },
    "papermill": {
     "duration": 0.046363,
     "end_time": "2021-08-30T10:07:19.754865",
     "exception": false,
     "start_time": "2021-08-30T10:07:19.708502",
     "status": "completed"
    },
    "tags": []
   },
   "outputs": [],
   "source": [
    "data = Data(X_train, y_train.reshape(-1,1))\n",
    "sampler = Sampler(data, config.bs, shuffle=True)\n",
    "\n",
    "dl = Dataloader(data, sampler)\n",
    "\n",
    "opt = GD(config.lr)\n",
    "loss = MSE()"
   ]
  },
  {
   "cell_type": "code",
   "execution_count": 18,
   "id": "b275e4c2",
   "metadata": {
    "execution": {
     "iopub.execute_input": "2021-08-30T10:07:19.812170Z",
     "iopub.status.busy": "2021-08-30T10:07:19.811650Z",
     "iopub.status.idle": "2021-08-30T10:07:19.823444Z",
     "shell.execute_reply": "2021-08-30T10:07:19.823041Z"
    },
    "papermill": {
     "duration": 0.041704,
     "end_time": "2021-08-30T10:07:19.823550",
     "exception": false,
     "start_time": "2021-08-30T10:07:19.781846",
     "status": "completed"
    },
    "tags": []
   },
   "outputs": [],
   "source": [
    "training_data_x = X_train\n",
    "testing_data_x = X_test\n",
    "training_data_y = y_train.reshape(-1,1)\n",
    "testing_data_y = y_test.reshape(-1,1)"
   ]
  },
  {
   "cell_type": "code",
   "execution_count": 19,
   "id": "76951160",
   "metadata": {
    "execution": {
     "iopub.execute_input": "2021-08-30T10:07:19.881631Z",
     "iopub.status.busy": "2021-08-30T10:07:19.881126Z",
     "iopub.status.idle": "2021-08-30T10:07:19.895552Z",
     "shell.execute_reply": "2021-08-30T10:07:19.895937Z"
    },
    "papermill": {
     "duration": 0.045609,
     "end_time": "2021-08-30T10:07:19.896060",
     "exception": false,
     "start_time": "2021-08-30T10:07:19.850451",
     "status": "completed"
    },
    "tags": []
   },
   "outputs": [
    {
     "name": "stdout",
     "output_type": "stream",
     "text": [
      "xavier\n",
      "xavier\n",
      "xavier\n",
      "xavier\n",
      "xavier\n"
     ]
    }
   ],
   "source": [
    "layers = [Affine(\"first\", 784, 100), Relu(\"first\"), Affine(\"second\", 100, 100), Relu(\"second\"), Affine(\"third\", 100, 2), Affine(\"last\", 2, 1), Sigmoid(\"last\")]\n",
    "model_nn = Model(layers)\n",
    "model_lr = Model([Affine(\"logits\", 784, 1), Sigmoid(\"sigmoid\")])"
   ]
  },
  {
   "cell_type": "code",
   "execution_count": 20,
   "id": "6eede77a",
   "metadata": {
    "execution": {
     "iopub.execute_input": "2021-08-30T10:07:19.961603Z",
     "iopub.status.busy": "2021-08-30T10:07:19.960696Z",
     "iopub.status.idle": "2021-08-30T10:07:19.968165Z",
     "shell.execute_reply": "2021-08-30T10:07:19.967762Z"
    },
    "papermill": {
     "duration": 0.044933,
     "end_time": "2021-08-30T10:07:19.968274",
     "exception": false,
     "start_time": "2021-08-30T10:07:19.923341",
     "status": "completed"
    },
    "tags": []
   },
   "outputs": [],
   "source": [
    "nn_learner = Learner(loss, model_nn, opt, config.num_epochs)\n",
    "acc_nn = ClfCallback(nn_learner, config.bs, training_data_x , testing_data_x, training_data_y, testing_data_y)\n",
    "nn_learner.set_callbacks([acc_nn])"
   ]
  },
  {
   "cell_type": "code",
   "execution_count": 21,
   "id": "877b6cc7",
   "metadata": {
    "execution": {
     "iopub.execute_input": "2021-08-30T10:07:20.037714Z",
     "iopub.status.busy": "2021-08-30T10:07:20.037190Z",
     "iopub.status.idle": "2021-08-30T10:07:20.043322Z",
     "shell.execute_reply": "2021-08-30T10:07:20.043709Z"
    },
    "papermill": {
     "duration": 0.048394,
     "end_time": "2021-08-30T10:07:20.043835",
     "exception": false,
     "start_time": "2021-08-30T10:07:19.995441",
     "status": "completed"
    },
    "tags": []
   },
   "outputs": [],
   "source": [
    "lr_learner = Learner(loss, model_lr, opt, config.num_epochs)\n",
    "acc_lr = ClfCallback(lr_learner, config.bs, training_data_x , testing_data_x, training_data_y, testing_data_y)\n",
    "lr_learner.set_callbacks([acc_lr])"
   ]
  },
  {
   "cell_type": "code",
   "execution_count": 22,
   "id": "d9b133c3",
   "metadata": {
    "execution": {
     "iopub.execute_input": "2021-08-30T10:07:20.107532Z",
     "iopub.status.busy": "2021-08-30T10:07:20.102677Z",
     "iopub.status.idle": "2021-08-30T10:08:35.492987Z",
     "shell.execute_reply": "2021-08-30T10:08:35.493741Z"
    },
    "papermill": {
     "duration": 75.422656,
     "end_time": "2021-08-30T10:08:35.493892",
     "exception": false,
     "start_time": "2021-08-30T10:07:20.071236",
     "status": "completed"
    },
    "tags": []
   },
   "outputs": [
    {
     "name": "stdout",
     "output_type": "stream",
     "text": [
      "Epoch 0, Loss 0.2274\n",
      "Training Accuracy: 0.8045, Testing Accuracy: 0.8241\n",
      "\n"
     ]
    },
    {
     "name": "stdout",
     "output_type": "stream",
     "text": [
      "Epoch 10, Loss 0.1072\n",
      "Training Accuracy: 0.9140, Testing Accuracy: 0.9264\n",
      "\n"
     ]
    },
    {
     "name": "stdout",
     "output_type": "stream",
     "text": [
      "Epoch 20, Loss 0.0624\n",
      "Training Accuracy: 0.9362, Testing Accuracy: 0.9481\n",
      "\n"
     ]
    },
    {
     "name": "stdout",
     "output_type": "stream",
     "text": [
      "Epoch 30, Loss 0.048\n",
      "Training Accuracy: 0.9458, Testing Accuracy: 0.9582\n",
      "\n"
     ]
    },
    {
     "name": "stdout",
     "output_type": "stream",
     "text": [
      "Epoch 40, Loss 0.0412\n",
      "Training Accuracy: 0.9520, Testing Accuracy: 0.9647\n",
      "\n"
     ]
    },
    {
     "name": "stdout",
     "output_type": "stream",
     "text": [
      "Epoch 50, Loss 0.0372\n",
      "Training Accuracy: 0.9563, Testing Accuracy: 0.9657\n",
      "\n"
     ]
    },
    {
     "name": "stdout",
     "output_type": "stream",
     "text": [
      "Epoch 60, Loss 0.0345\n",
      "Training Accuracy: 0.9589, Testing Accuracy: 0.9662\n",
      "\n"
     ]
    },
    {
     "name": "stdout",
     "output_type": "stream",
     "text": [
      "Epoch 70, Loss 0.0325\n",
      "Training Accuracy: 0.9608, Testing Accuracy: 0.9688\n",
      "\n"
     ]
    },
    {
     "name": "stdout",
     "output_type": "stream",
     "text": [
      "Epoch 80, Loss 0.031\n",
      "Training Accuracy: 0.9624, Testing Accuracy: 0.9703\n",
      "\n"
     ]
    },
    {
     "name": "stdout",
     "output_type": "stream",
     "text": [
      "Epoch 90, Loss 0.0297\n",
      "Training Accuracy: 0.9640, Testing Accuracy: 0.9703\n",
      "\n"
     ]
    },
    {
     "name": "stdout",
     "output_type": "stream",
     "text": [
      "Epoch 100, Loss 0.0286\n",
      "Training Accuracy: 0.9654, Testing Accuracy: 0.9713\n",
      "\n"
     ]
    },
    {
     "name": "stdout",
     "output_type": "stream",
     "text": [
      "Epoch 110, Loss 0.0277\n",
      "Training Accuracy: 0.9670, Testing Accuracy: 0.9713\n",
      "\n"
     ]
    },
    {
     "name": "stdout",
     "output_type": "stream",
     "text": [
      "Epoch 120, Loss 0.0269\n",
      "Training Accuracy: 0.9679, Testing Accuracy: 0.9718\n",
      "\n"
     ]
    },
    {
     "name": "stdout",
     "output_type": "stream",
     "text": [
      "Epoch 130, Loss 0.0261\n",
      "Training Accuracy: 0.9693, Testing Accuracy: 0.9718\n",
      "\n"
     ]
    },
    {
     "name": "stdout",
     "output_type": "stream",
     "text": [
      "Epoch 140, Loss 0.0255\n",
      "Training Accuracy: 0.9700, Testing Accuracy: 0.9718\n",
      "\n"
     ]
    },
    {
     "name": "stdout",
     "output_type": "stream",
     "text": [
      "Epoch 150, Loss 0.0249\n",
      "Training Accuracy: 0.9707, Testing Accuracy: 0.9713\n",
      "\n"
     ]
    },
    {
     "name": "stdout",
     "output_type": "stream",
     "text": [
      "Epoch 160, Loss 0.0243\n",
      "Training Accuracy: 0.9712, Testing Accuracy: 0.9723\n",
      "\n"
     ]
    },
    {
     "name": "stdout",
     "output_type": "stream",
     "text": [
      "Epoch 170, Loss 0.0238\n",
      "Training Accuracy: 0.9718, Testing Accuracy: 0.9723\n",
      "\n"
     ]
    },
    {
     "name": "stdout",
     "output_type": "stream",
     "text": [
      "Epoch 180, Loss 0.0234\n",
      "Training Accuracy: 0.9725, Testing Accuracy: 0.9728\n",
      "\n"
     ]
    },
    {
     "name": "stdout",
     "output_type": "stream",
     "text": [
      "Epoch 190, Loss 0.0229\n",
      "Training Accuracy: 0.9731, Testing Accuracy: 0.9733\n",
      "\n"
     ]
    },
    {
     "name": "stdout",
     "output_type": "stream",
     "text": [
      "Epoch 200, Loss 0.0225\n",
      "Training Accuracy: 0.9740, Testing Accuracy: 0.9733\n",
      "\n"
     ]
    },
    {
     "name": "stdout",
     "output_type": "stream",
     "text": [
      "Epoch 210, Loss 0.0221\n",
      "Training Accuracy: 0.9740, Testing Accuracy: 0.9733\n",
      "\n"
     ]
    },
    {
     "name": "stdout",
     "output_type": "stream",
     "text": [
      "Epoch 220, Loss 0.0217\n",
      "Training Accuracy: 0.9746, Testing Accuracy: 0.9738\n",
      "\n"
     ]
    },
    {
     "name": "stdout",
     "output_type": "stream",
     "text": [
      "Epoch 230, Loss 0.0213\n",
      "Training Accuracy: 0.9748, Testing Accuracy: 0.9738\n",
      "\n"
     ]
    },
    {
     "name": "stdout",
     "output_type": "stream",
     "text": [
      "Epoch 240, Loss 0.021\n",
      "Training Accuracy: 0.9755, Testing Accuracy: 0.9753\n",
      "\n"
     ]
    },
    {
     "data": {
      "text/plain": [
       "0.04122709581155595"
      ]
     },
     "execution_count": 22,
     "metadata": {},
     "output_type": "execute_result"
    }
   ],
   "source": [
    "nn_learner.train_loop(dl)"
   ]
  },
  {
   "cell_type": "code",
   "execution_count": 23,
   "id": "e0163366",
   "metadata": {
    "execution": {
     "iopub.execute_input": "2021-08-30T10:08:35.568932Z",
     "iopub.status.busy": "2021-08-30T10:08:35.568412Z",
     "iopub.status.idle": "2021-08-30T10:08:49.335450Z",
     "shell.execute_reply": "2021-08-30T10:08:49.336104Z"
    },
    "papermill": {
     "duration": 13.807428,
     "end_time": "2021-08-30T10:08:49.336250",
     "exception": false,
     "start_time": "2021-08-30T10:08:35.528822",
     "status": "completed"
    },
    "tags": []
   },
   "outputs": [
    {
     "name": "stdout",
     "output_type": "stream",
     "text": [
      "Epoch 0, Loss 0.2399\n",
      "Training Accuracy: 0.7071, Testing Accuracy: 0.7319\n",
      "\n"
     ]
    },
    {
     "name": "stdout",
     "output_type": "stream",
     "text": [
      "Epoch 10, Loss 0.1029\n",
      "Training Accuracy: 0.9053, Testing Accuracy: 0.9173\n",
      "\n"
     ]
    },
    {
     "name": "stdout",
     "output_type": "stream",
     "text": [
      "Epoch 20, Loss 0.0797\n",
      "Training Accuracy: 0.9258, Testing Accuracy: 0.9385\n",
      "\n"
     ]
    },
    {
     "name": "stdout",
     "output_type": "stream",
     "text": [
      "Epoch 30, Loss 0.0687\n",
      "Training Accuracy: 0.9342, Testing Accuracy: 0.9456\n",
      "\n"
     ]
    },
    {
     "name": "stdout",
     "output_type": "stream",
     "text": [
      "Epoch 40, Loss 0.0621\n",
      "Training Accuracy: 0.9402, Testing Accuracy: 0.9521\n",
      "\n"
     ]
    },
    {
     "name": "stdout",
     "output_type": "stream",
     "text": [
      "Epoch 50, Loss 0.0575\n",
      "Training Accuracy: 0.9437, Testing Accuracy: 0.9561\n",
      "\n"
     ]
    },
    {
     "name": "stdout",
     "output_type": "stream",
     "text": [
      "Epoch 60, Loss 0.0542\n",
      "Training Accuracy: 0.9467, Testing Accuracy: 0.9582\n",
      "\n"
     ]
    },
    {
     "name": "stdout",
     "output_type": "stream",
     "text": [
      "Epoch 70, Loss 0.0516\n",
      "Training Accuracy: 0.9483, Testing Accuracy: 0.9612\n",
      "\n"
     ]
    },
    {
     "name": "stdout",
     "output_type": "stream",
     "text": [
      "Epoch 80, Loss 0.0495\n",
      "Training Accuracy: 0.9496, Testing Accuracy: 0.9632\n",
      "\n"
     ]
    },
    {
     "name": "stdout",
     "output_type": "stream",
     "text": [
      "Epoch 90, Loss 0.0478\n",
      "Training Accuracy: 0.9517, Testing Accuracy: 0.9642\n",
      "\n"
     ]
    },
    {
     "name": "stdout",
     "output_type": "stream",
     "text": [
      "Epoch 100, Loss 0.0464\n",
      "Training Accuracy: 0.9528, Testing Accuracy: 0.9652\n",
      "\n"
     ]
    },
    {
     "name": "stdout",
     "output_type": "stream",
     "text": [
      "Epoch 110, Loss 0.0451\n",
      "Training Accuracy: 0.9537, Testing Accuracy: 0.9652\n",
      "\n"
     ]
    },
    {
     "name": "stdout",
     "output_type": "stream",
     "text": [
      "Epoch 120, Loss 0.044\n",
      "Training Accuracy: 0.9551, Testing Accuracy: 0.9667\n",
      "\n"
     ]
    },
    {
     "name": "stdout",
     "output_type": "stream",
     "text": [
      "Epoch 130, Loss 0.0431\n",
      "Training Accuracy: 0.9560, Testing Accuracy: 0.9667\n",
      "\n"
     ]
    },
    {
     "name": "stdout",
     "output_type": "stream",
     "text": [
      "Epoch 140, Loss 0.0422\n",
      "Training Accuracy: 0.9566, Testing Accuracy: 0.9672\n",
      "\n"
     ]
    },
    {
     "name": "stdout",
     "output_type": "stream",
     "text": [
      "Epoch 150, Loss 0.0415\n",
      "Training Accuracy: 0.9574, Testing Accuracy: 0.9672\n",
      "\n"
     ]
    },
    {
     "name": "stdout",
     "output_type": "stream",
     "text": [
      "Epoch 160, Loss 0.0408\n",
      "Training Accuracy: 0.9578, Testing Accuracy: 0.9672\n",
      "\n"
     ]
    },
    {
     "name": "stdout",
     "output_type": "stream",
     "text": [
      "Epoch 170, Loss 0.0402\n",
      "Training Accuracy: 0.9579, Testing Accuracy: 0.9672\n",
      "\n"
     ]
    },
    {
     "name": "stdout",
     "output_type": "stream",
     "text": [
      "Epoch 180, Loss 0.0396\n",
      "Training Accuracy: 0.9582, Testing Accuracy: 0.9672\n",
      "\n"
     ]
    },
    {
     "name": "stdout",
     "output_type": "stream",
     "text": [
      "Epoch 190, Loss 0.0391\n",
      "Training Accuracy: 0.9588, Testing Accuracy: 0.9667\n",
      "\n"
     ]
    },
    {
     "name": "stdout",
     "output_type": "stream",
     "text": [
      "Epoch 200, Loss 0.0386\n",
      "Training Accuracy: 0.9590, Testing Accuracy: 0.9667\n",
      "\n"
     ]
    },
    {
     "name": "stdout",
     "output_type": "stream",
     "text": [
      "Epoch 210, Loss 0.0382\n",
      "Training Accuracy: 0.9596, Testing Accuracy: 0.9667\n",
      "\n"
     ]
    },
    {
     "name": "stdout",
     "output_type": "stream",
     "text": [
      "Epoch 220, Loss 0.0377\n",
      "Training Accuracy: 0.9599, Testing Accuracy: 0.9662\n",
      "\n"
     ]
    },
    {
     "name": "stdout",
     "output_type": "stream",
     "text": [
      "Epoch 230, Loss 0.0374\n",
      "Training Accuracy: 0.9600, Testing Accuracy: 0.9667\n",
      "\n"
     ]
    },
    {
     "name": "stdout",
     "output_type": "stream",
     "text": [
      "Epoch 240, Loss 0.037\n",
      "Training Accuracy: 0.9604, Testing Accuracy: 0.9667\n",
      "\n"
     ]
    },
    {
     "data": {
      "text/plain": [
       "0.04092821529971196"
      ]
     },
     "execution_count": 23,
     "metadata": {},
     "output_type": "execute_result"
    }
   ],
   "source": [
    "lr_learner.train_loop(dl)"
   ]
  },
  {
   "cell_type": "code",
   "execution_count": 24,
   "id": "ca410940",
   "metadata": {
    "execution": {
     "iopub.execute_input": "2021-08-30T10:08:49.427708Z",
     "iopub.status.busy": "2021-08-30T10:08:49.427189Z",
     "iopub.status.idle": "2021-08-30T10:08:49.653556Z",
     "shell.execute_reply": "2021-08-30T10:08:49.653039Z"
    },
    "papermill": {
     "duration": 0.275973,
     "end_time": "2021-08-30T10:08:49.653689",
     "exception": false,
     "start_time": "2021-08-30T10:08:49.377716",
     "status": "completed"
    },
    "tags": []
   },
   "outputs": [
    {
     "data": {
      "text/plain": [
       "<matplotlib.legend.Legend at 0x7fc284d90be0>"
      ]
     },
     "execution_count": 24,
     "metadata": {},
     "output_type": "execute_result"
    },
    {
     "data": {
      "image/png": "[encoded data removed]",
      "text/plain": [
       "<Figure size 1080x720 with 1 Axes>"
      ]
     },
     "metadata": {
      "needs_background": "light"
     },
     "output_type": "display_data"
    }
   ],
   "source": [
    "#comparing the results of NN and LR\n",
    "plt.figure(figsize=(15,10))\n",
    "\n",
    "# Neural Network plots\n",
    "plt.plot(acc_nn.accuracies, 'r-', label = \"Training Accuracies - NN\")\n",
    "plt.plot(acc_nn.test_accuracies, 'g-', label = \"Testing Accuracies - NN\")\n",
    "\n",
    "# Logistic Regression plots\n",
    "plt.plot(acc_lr.accuracies, 'k-', label = \"Training Accuracies - LR\")\n",
    "plt.plot(acc_lr.test_accuracies, 'b-', label = \"Testing Accuracies - LR\")\n",
    "plt.legend()"
   ]
  },
  {
   "cell_type": "markdown",
   "id": "80dfb35c",
   "metadata": {
    "papermill": {
     "duration": 0.042296,
     "end_time": "2021-08-30T10:08:49.739192",
     "exception": false,
     "start_time": "2021-08-30T10:08:49.696896",
     "status": "completed"
    },
    "tags": []
   },
   "source": [
    "#### Plotting the outputs of this layer of the NN.\n"
   ]
  },
  {
   "cell_type": "code",
   "execution_count": 25,
   "id": "45eb2ff5",
   "metadata": {
    "execution": {
     "iopub.execute_input": "2021-08-30T10:08:49.827911Z",
     "iopub.status.busy": "2021-08-30T10:08:49.827367Z",
     "iopub.status.idle": "2021-08-30T10:08:49.846963Z",
     "shell.execute_reply": "2021-08-30T10:08:49.846525Z"
    },
    "papermill": {
     "duration": 0.065826,
     "end_time": "2021-08-30T10:08:49.847083",
     "exception": false,
     "start_time": "2021-08-30T10:08:49.781257",
     "status": "completed"
    },
    "tags": []
   },
   "outputs": [],
   "source": [
    "new_model = Model(layers[:-2])\n",
    "testing_plot = new_model(testing_data_x)"
   ]
  },
  {
   "cell_type": "code",
   "execution_count": 26,
   "id": "4c0a5485",
   "metadata": {
    "execution": {
     "iopub.execute_input": "2021-08-30T10:08:49.945203Z",
     "iopub.status.busy": "2021-08-30T10:08:49.944705Z",
     "iopub.status.idle": "2021-08-30T10:08:50.131929Z",
     "shell.execute_reply": "2021-08-30T10:08:50.131473Z"
    },
    "papermill": {
     "duration": 0.23499,
     "end_time": "2021-08-30T10:08:50.132045",
     "exception": false,
     "start_time": "2021-08-30T10:08:49.897055",
     "status": "completed"
    },
    "tags": []
   },
   "outputs": [
    {
     "data": {
      "text/plain": [
       "Text(0.5, 1.0, 'Outputs')"
      ]
     },
     "execution_count": 26,
     "metadata": {},
     "output_type": "execute_result"
    },
    {
     "data": {
      "image/png": "[encoded data removed]",
      "text/plain": [
       "<Figure size 576x504 with 1 Axes>"
      ]
     },
     "metadata": {
      "needs_background": "light"
     },
     "output_type": "display_data"
    }
   ],
   "source": [
    "# Plotting the scatter plot of points and color coding by class\n",
    "plt.figure(figsize=(8,7))\n",
    "plt.scatter(testing_plot[:,0], testing_plot[:,1], alpha = 0.1, c = y_test.ravel());\n",
    "plt.title('Outputs')"
   ]
  },
  {
   "cell_type": "markdown",
   "id": "a74fcf8f",
   "metadata": {
    "papermill": {
     "duration": 0.046004,
     "end_time": "2021-08-30T10:08:50.222788",
     "exception": false,
     "start_time": "2021-08-30T10:08:50.176784",
     "status": "completed"
    },
    "tags": []
   },
   "source": [
    "Probability contours"
   ]
  },
  {
   "cell_type": "code",
   "execution_count": 27,
   "id": "d0afc8e3",
   "metadata": {
    "execution": {
     "iopub.execute_input": "2021-08-30T10:08:50.322240Z",
     "iopub.status.busy": "2021-08-30T10:08:50.318960Z",
     "iopub.status.idle": "2021-08-30T10:08:50.328890Z",
     "shell.execute_reply": "2021-08-30T10:08:50.328459Z"
    },
    "papermill": {
     "duration": 0.061872,
     "end_time": "2021-08-30T10:08:50.329001",
     "exception": false,
     "start_time": "2021-08-30T10:08:50.267129",
     "status": "completed"
    },
    "tags": []
   },
   "outputs": [],
   "source": [
    "model_prob = Model(layers[-2:]) "
   ]
  },
  {
   "cell_type": "code",
   "execution_count": 28,
   "id": "9b96e238",
   "metadata": {
    "execution": {
     "iopub.execute_input": "2021-08-30T10:08:50.428213Z",
     "iopub.status.busy": "2021-08-30T10:08:50.427302Z",
     "iopub.status.idle": "2021-08-30T10:08:50.438773Z",
     "shell.execute_reply": "2021-08-30T10:08:50.439164Z"
    },
    "papermill": {
     "duration": 0.065931,
     "end_time": "2021-08-30T10:08:50.439293",
     "exception": false,
     "start_time": "2021-08-30T10:08:50.373362",
     "status": "completed"
    },
    "tags": []
   },
   "outputs": [],
   "source": [
    "#creating the x and y ranges according to the above generated plot.\n",
    "x_range = np.linspace(-4, 1, 100) \n",
    "y_range = np.linspace(-6, 6, 100) \n",
    "x_grid, y_grid = np.meshgrid(x_range, y_range) # x_grid and y_grig are of size 100 X 100\n",
    "\n",
    "# converting x_grid and y_grid to continuous arrays\n",
    "x_gridflat = np.ravel(x_grid)\n",
    "y_gridflat = np.ravel(y_grid)\n",
    "\n",
    "# The last layer of the current model takes two columns as input. Hence transpose of np.vstack() is required.\n",
    "X = np.vstack((x_gridflat, y_gridflat)).T\n",
    "\n",
    "prob_contour = model_prob(X).reshape(100,100) "
   ]
  },
  {
   "cell_type": "code",
   "execution_count": 29,
   "id": "da72499a",
   "metadata": {
    "execution": {
     "iopub.execute_input": "2021-08-30T10:08:50.583695Z",
     "iopub.status.busy": "2021-08-30T10:08:50.583163Z",
     "iopub.status.idle": "2021-08-30T10:08:50.821012Z",
     "shell.execute_reply": "2021-08-30T10:08:50.820572Z"
    },
    "papermill": {
     "duration": 0.327222,
     "end_time": "2021-08-30T10:08:50.821137",
     "exception": false,
     "start_time": "2021-08-30T10:08:50.493915",
     "status": "completed"
    },
    "tags": []
   },
   "outputs": [
    {
     "data": {
      "image/png": "[encoded data removed]",
      "text/plain": [
       "<Figure size 720x648 with 1 Axes>"
      ]
     },
     "metadata": {
      "needs_background": "light"
     },
     "output_type": "display_data"
    }
   ],
   "source": [
    "plt.figure(figsize=(10,9))\n",
    "plt.scatter(testing_plot[:,0], testing_plot[:,1], alpha = 0.1, c = y_test.ravel())\n",
    "contours = plt.contour(x_grid,y_grid,prob_contour)\n",
    "plt.title('Probability Contours')\n",
    "plt.clabel(contours, inline = True );"
   ]
  },
  {
   "cell_type": "code",
   "execution_count": null,
   "id": "e81b4ac7",
   "metadata": {
    "papermill": {
     "duration": 0.046478,
     "end_time": "2021-08-30T10:08:50.914620",
     "exception": false,
     "start_time": "2021-08-30T10:08:50.868142",
     "status": "completed"
    },
    "tags": []
   },
   "outputs": [],
   "source": []
  }
 ],
 "metadata": {
  "kernelspec": {
   "display_name": "Python 3",
   "language": "python",
   "name": "python3"
  },
  "language_info": {
   "codemirror_mode": {
    "name": "ipython",
    "version": 3
   },
   "file_extension": ".py",
   "mimetype": "text/x-python",
   "name": "python",
   "nbconvert_exporter": "python",
   "pygments_lexer": "ipython3",
   "version": "3.6.14"
  },
  "papermill": {
   "default_parameters": {},
   "duration": 97.484392,
   "end_time": "2021-08-30T10:08:51.370938",
   "environment_variables": {},
   "exception": null,
   "input_path": "2020-08-11-part2.ipynb",
   "output_path": "2020-08-11-part2.ipynb",
   "parameters": {},
   "start_time": "2021-08-30T10:07:13.886546",
   "version": "2.3.3"
  }
 },
 "nbformat": 4,
 "nbformat_minor": 5
}