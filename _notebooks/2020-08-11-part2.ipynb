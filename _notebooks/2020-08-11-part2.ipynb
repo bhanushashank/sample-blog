{
 "cells": [
  {
   "cell_type": "markdown",
   "id": "98380cd3",
   "metadata": {
    "papermill": {
     "duration": 0.034233,
     "end_time": "2021-12-21T10:10:01.589539",
     "exception": false,
     "start_time": "2021-12-21T10:10:01.555306",
     "status": "completed"
    },
    "tags": []
   },
   "source": [
    "# Distinguish Your Own Digits (DYOD)"
   ]
  },
  {
   "cell_type": "markdown",
   "id": "ef31240d",
   "metadata": {
    "papermill": {
     "duration": 0.029663,
     "end_time": "2021-12-21T10:10:01.649542",
     "exception": false,
     "start_time": "2021-12-21T10:10:01.619879",
     "status": "completed"
    },
    "tags": []
   },
   "source": [
    "You are going to write a classifier that distinguishes between the number 3 and number 8."
   ]
  },
  {
   "cell_type": "code",
   "execution_count": 1,
   "id": "b15c8646",
   "metadata": {
    "execution": {
     "iopub.execute_input": "2021-12-21T10:10:01.725471Z",
     "iopub.status.busy": "2021-12-21T10:10:01.724748Z",
     "iopub.status.idle": "2021-12-21T10:10:01.737160Z",
     "shell.execute_reply": "2021-12-21T10:10:01.736609Z"
    },
    "papermill": {
     "duration": 0.05693,
     "end_time": "2021-12-21T10:10:01.737326",
     "exception": false,
     "start_time": "2021-12-21T10:10:01.680396",
     "status": "completed"
    },
    "tags": []
   },
   "outputs": [],
   "source": [
    "%load_ext autoreload\n",
    "%autoreload 2"
   ]
  },
  {
   "cell_type": "code",
   "execution_count": 2,
   "id": "22ef38dc",
   "metadata": {
    "execution": {
     "iopub.execute_input": "2021-12-21T10:10:01.809039Z",
     "iopub.status.busy": "2021-12-21T10:10:01.808352Z",
     "iopub.status.idle": "2021-12-21T10:10:02.543626Z",
     "shell.execute_reply": "2021-12-21T10:10:02.542824Z"
    },
    "papermill": {
     "duration": 0.770598,
     "end_time": "2021-12-21T10:10:02.543809",
     "exception": false,
     "start_time": "2021-12-21T10:10:01.773211",
     "status": "completed"
    },
    "tags": []
   },
   "outputs": [],
   "source": [
    "%matplotlib inline\n",
    "import numpy as np\n",
    "import matplotlib.pyplot as plt\n",
    "import pandas as pd"
   ]
  },
  {
   "cell_type": "markdown",
   "id": "ba036198",
   "metadata": {
    "papermill": {
     "duration": 0.031903,
     "end_time": "2021-12-21T10:10:02.609244",
     "exception": false,
     "start_time": "2021-12-21T10:10:02.577341",
     "status": "completed"
    },
    "tags": []
   },
   "source": [
    "From the command line run `pip install mnist`. This is a library that will help you bring down the mnist dataset. If you run this from a notebook, you need to put  `!pip install mnist` in a cell by itself."
   ]
  },
  {
   "cell_type": "code",
   "execution_count": 3,
   "id": "bb6ad8a1",
   "metadata": {
    "execution": {
     "iopub.execute_input": "2021-12-21T10:10:02.675756Z",
     "iopub.status.busy": "2021-12-21T10:10:02.675075Z",
     "iopub.status.idle": "2021-12-21T10:10:04.680924Z",
     "shell.execute_reply": "2021-12-21T10:10:04.681550Z"
    },
    "papermill": {
     "duration": 2.041854,
     "end_time": "2021-12-21T10:10:04.681770",
     "exception": false,
     "start_time": "2021-12-21T10:10:02.639916",
     "status": "completed"
    },
    "tags": []
   },
   "outputs": [
    {
     "name": "stdout",
     "output_type": "stream",
     "text": [
      "Collecting mnist\r\n"
     ]
    },
    {
     "name": "stdout",
     "output_type": "stream",
     "text": [
      "  Downloading mnist-0.2.2-py2.py3-none-any.whl (3.5 kB)\r\n",
      "Requirement already satisfied: numpy in /opt/hostedtoolcache/Python/3.6.15/x64/lib/python3.6/site-packages (from mnist) (1.19.5)\r\n"
     ]
    },
    {
     "name": "stdout",
     "output_type": "stream",
     "text": [
      "Installing collected packages: mnist\r\n"
     ]
    },
    {
     "name": "stdout",
     "output_type": "stream",
     "text": [
      "Successfully installed mnist-0.2.2\r\n"
     ]
    }
   ],
   "source": [
    "!pip install mnist"
   ]
  },
  {
   "cell_type": "markdown",
   "id": "69df9c9a",
   "metadata": {
    "papermill": {
     "duration": 0.032302,
     "end_time": "2021-12-21T10:10:04.744599",
     "exception": false,
     "start_time": "2021-12-21T10:10:04.712297",
     "status": "completed"
    },
    "tags": []
   },
   "source": [
    "## Preparing the Data"
   ]
  },
  {
   "cell_type": "code",
   "execution_count": 4,
   "id": "7f69d806",
   "metadata": {
    "execution": {
     "iopub.execute_input": "2021-12-21T10:10:04.812843Z",
     "iopub.status.busy": "2021-12-21T10:10:04.812198Z",
     "iopub.status.idle": "2021-12-21T10:10:04.827524Z",
     "shell.execute_reply": "2021-12-21T10:10:04.827045Z"
    },
    "papermill": {
     "duration": 0.050406,
     "end_time": "2021-12-21T10:10:04.827690",
     "exception": false,
     "start_time": "2021-12-21T10:10:04.777284",
     "status": "completed"
    },
    "tags": []
   },
   "outputs": [],
   "source": [
    "import mnist"
   ]
  },
  {
   "cell_type": "code",
   "execution_count": 5,
   "id": "a411e44f",
   "metadata": {
    "execution": {
     "iopub.execute_input": "2021-12-21T10:10:04.898121Z",
     "iopub.status.busy": "2021-12-21T10:10:04.897494Z",
     "iopub.status.idle": "2021-12-21T10:10:05.392259Z",
     "shell.execute_reply": "2021-12-21T10:10:05.391541Z"
    },
    "papermill": {
     "duration": 0.533435,
     "end_time": "2021-12-21T10:10:05.392402",
     "exception": false,
     "start_time": "2021-12-21T10:10:04.858967",
     "status": "completed"
    },
    "tags": []
   },
   "outputs": [],
   "source": [
    "train_images = mnist.train_images()\n",
    "train_labels = mnist.train_labels()"
   ]
  },
  {
   "cell_type": "code",
   "execution_count": 6,
   "id": "dceab3a5",
   "metadata": {
    "execution": {
     "iopub.execute_input": "2021-12-21T10:10:05.462511Z",
     "iopub.status.busy": "2021-12-21T10:10:05.461859Z",
     "iopub.status.idle": "2021-12-21T10:10:05.477367Z",
     "shell.execute_reply": "2021-12-21T10:10:05.476866Z"
    },
    "papermill": {
     "duration": 0.052897,
     "end_time": "2021-12-21T10:10:05.477494",
     "exception": false,
     "start_time": "2021-12-21T10:10:05.424597",
     "status": "completed"
    },
    "tags": []
   },
   "outputs": [
    {
     "data": {
      "text/plain": [
       "((60000, 28, 28), (60000,))"
      ]
     },
     "execution_count": 6,
     "metadata": {},
     "output_type": "execute_result"
    }
   ],
   "source": [
    "train_images.shape, train_labels.shape"
   ]
  },
  {
   "cell_type": "code",
   "execution_count": 7,
   "id": "f50dc2bb",
   "metadata": {
    "execution": {
     "iopub.execute_input": "2021-12-21T10:10:05.549078Z",
     "iopub.status.busy": "2021-12-21T10:10:05.548491Z",
     "iopub.status.idle": "2021-12-21T10:10:05.652058Z",
     "shell.execute_reply": "2021-12-21T10:10:05.651448Z"
    },
    "papermill": {
     "duration": 0.142923,
     "end_time": "2021-12-21T10:10:05.652190",
     "exception": false,
     "start_time": "2021-12-21T10:10:05.509267",
     "status": "completed"
    },
    "tags": []
   },
   "outputs": [],
   "source": [
    "test_images = mnist.test_images()\n",
    "test_labels = mnist.test_labels()"
   ]
  },
  {
   "cell_type": "code",
   "execution_count": 8,
   "id": "fc38cf1b",
   "metadata": {
    "execution": {
     "iopub.execute_input": "2021-12-21T10:10:05.721149Z",
     "iopub.status.busy": "2021-12-21T10:10:05.720496Z",
     "iopub.status.idle": "2021-12-21T10:10:05.734912Z",
     "shell.execute_reply": "2021-12-21T10:10:05.734329Z"
    },
    "papermill": {
     "duration": 0.050252,
     "end_time": "2021-12-21T10:10:05.735053",
     "exception": false,
     "start_time": "2021-12-21T10:10:05.684801",
     "status": "completed"
    },
    "tags": []
   },
   "outputs": [
    {
     "data": {
      "text/plain": [
       "((10000, 28, 28), (10000,))"
      ]
     },
     "execution_count": 8,
     "metadata": {},
     "output_type": "execute_result"
    }
   ],
   "source": [
    "test_images.shape, test_labels.shape"
   ]
  },
  {
   "cell_type": "code",
   "execution_count": 9,
   "id": "f9ed8fe0",
   "metadata": {
    "execution": {
     "iopub.execute_input": "2021-12-21T10:10:05.804950Z",
     "iopub.status.busy": "2021-12-21T10:10:05.804311Z",
     "iopub.status.idle": "2021-12-21T10:10:06.001179Z",
     "shell.execute_reply": "2021-12-21T10:10:06.000203Z"
    },
    "papermill": {
     "duration": 0.234752,
     "end_time": "2021-12-21T10:10:06.001343",
     "exception": false,
     "start_time": "2021-12-21T10:10:05.766591",
     "status": "completed"
    },
    "tags": []
   },
   "outputs": [
    {
     "name": "stdout",
     "output_type": "stream",
     "text": [
      "2\n"
     ]
    },
    {
     "data": {
      "text/plain": [
       "<matplotlib.image.AxesImage at 0x7f4df09484e0>"
      ]
     },
     "execution_count": 9,
     "metadata": {},
     "output_type": "execute_result"
    },
    {
     "data": {
      "image/png": "[encoded data removed]",
      "text/plain": [
       "<Figure size 432x288 with 1 Axes>"
      ]
     },
     "metadata": {
      "needs_background": "light"
     },
     "output_type": "display_data"
    }
   ],
   "source": [
    "image_index = 7776 # You may select anything up to 60,000\n",
    "print(train_labels[image_index]) \n",
    "plt.imshow(train_images[image_index], cmap='Greys')"
   ]
  },
  {
   "cell_type": "markdown",
   "id": "a8d2388d",
   "metadata": {
    "papermill": {
     "duration": 0.036214,
     "end_time": "2021-12-21T10:10:06.072828",
     "exception": false,
     "start_time": "2021-12-21T10:10:06.036614",
     "status": "completed"
    },
    "tags": []
   },
   "source": [
    "## Filter data to get 3 and 8 out"
   ]
  },
  {
   "cell_type": "code",
   "execution_count": 10,
   "id": "776f7fc7",
   "metadata": {
    "execution": {
     "iopub.execute_input": "2021-12-21T10:10:06.153280Z",
     "iopub.status.busy": "2021-12-21T10:10:06.147798Z",
     "iopub.status.idle": "2021-12-21T10:10:06.166988Z",
     "shell.execute_reply": "2021-12-21T10:10:06.166428Z"
    },
    "papermill": {
     "duration": 0.058058,
     "end_time": "2021-12-21T10:10:06.167137",
     "exception": false,
     "start_time": "2021-12-21T10:10:06.109079",
     "status": "completed"
    },
    "tags": []
   },
   "outputs": [],
   "source": [
    "train_filter = np.where((train_labels == 3 ) | (train_labels == 8))\n",
    "test_filter = np.where((test_labels == 3) | (test_labels == 8))\n",
    "X_train, y_train = train_images[train_filter], train_labels[train_filter]\n",
    "X_test, y_test = test_images[test_filter], test_labels[test_filter]"
   ]
  },
  {
   "cell_type": "markdown",
   "id": "948f0b7e",
   "metadata": {
    "papermill": {
     "duration": 0.033365,
     "end_time": "2021-12-21T10:10:06.235523",
     "exception": false,
     "start_time": "2021-12-21T10:10:06.202158",
     "status": "completed"
    },
    "tags": []
   },
   "source": [
    "We normalize the pizel values in the 0 to 1 range"
   ]
  },
  {
   "cell_type": "code",
   "execution_count": 11,
   "id": "ee4c2166",
   "metadata": {
    "execution": {
     "iopub.execute_input": "2021-12-21T10:10:06.311554Z",
     "iopub.status.busy": "2021-12-21T10:10:06.310920Z",
     "iopub.status.idle": "2021-12-21T10:10:06.372022Z",
     "shell.execute_reply": "2021-12-21T10:10:06.371409Z"
    },
    "papermill": {
     "duration": 0.101491,
     "end_time": "2021-12-21T10:10:06.372171",
     "exception": false,
     "start_time": "2021-12-21T10:10:06.270680",
     "status": "completed"
    },
    "tags": []
   },
   "outputs": [],
   "source": [
    "X_train = X_train/255.\n",
    "X_test = X_test/255."
   ]
  },
  {
   "cell_type": "markdown",
   "id": "ddcf4fab",
   "metadata": {
    "papermill": {
     "duration": 0.032402,
     "end_time": "2021-12-21T10:10:06.439494",
     "exception": false,
     "start_time": "2021-12-21T10:10:06.407092",
     "status": "completed"
    },
    "tags": []
   },
   "source": [
    "And setup the labels as 1 (when the digit is 3) and 0 (when the digit is 8)"
   ]
  },
  {
   "cell_type": "code",
   "execution_count": 12,
   "id": "7dc908f2",
   "metadata": {
    "execution": {
     "iopub.execute_input": "2021-12-21T10:10:06.514315Z",
     "iopub.status.busy": "2021-12-21T10:10:06.513663Z",
     "iopub.status.idle": "2021-12-21T10:10:06.526848Z",
     "shell.execute_reply": "2021-12-21T10:10:06.526065Z"
    },
    "papermill": {
     "duration": 0.052603,
     "end_time": "2021-12-21T10:10:06.527088",
     "exception": false,
     "start_time": "2021-12-21T10:10:06.474485",
     "status": "completed"
    },
    "tags": []
   },
   "outputs": [],
   "source": [
    "y_train = 1*(y_train==3)\n",
    "y_test = 1*(y_test==3)"
   ]
  },
  {
   "cell_type": "code",
   "execution_count": 13,
   "id": "01e4e969",
   "metadata": {
    "execution": {
     "iopub.execute_input": "2021-12-21T10:10:06.601857Z",
     "iopub.status.busy": "2021-12-21T10:10:06.601015Z",
     "iopub.status.idle": "2021-12-21T10:10:06.614931Z",
     "shell.execute_reply": "2021-12-21T10:10:06.614432Z"
    },
    "papermill": {
     "duration": 0.054138,
     "end_time": "2021-12-21T10:10:06.615063",
     "exception": false,
     "start_time": "2021-12-21T10:10:06.560925",
     "status": "completed"
    },
    "tags": []
   },
   "outputs": [
    {
     "data": {
      "text/plain": [
       "((11982, 28, 28), (1984, 28, 28))"
      ]
     },
     "execution_count": 13,
     "metadata": {},
     "output_type": "execute_result"
    }
   ],
   "source": [
    "X_train.shape, X_test.shape"
   ]
  },
  {
   "cell_type": "markdown",
   "id": "5ccf3f85",
   "metadata": {
    "papermill": {
     "duration": 0.034375,
     "end_time": "2021-12-21T10:10:06.682334",
     "exception": false,
     "start_time": "2021-12-21T10:10:06.647959",
     "status": "completed"
    },
    "tags": []
   },
   "source": [
    "We reshape the data to flatten the image pixels into a set of features or co-variates:"
   ]
  },
  {
   "cell_type": "code",
   "execution_count": 14,
   "id": "5286a4a3",
   "metadata": {
    "execution": {
     "iopub.execute_input": "2021-12-21T10:10:06.760092Z",
     "iopub.status.busy": "2021-12-21T10:10:06.759414Z",
     "iopub.status.idle": "2021-12-21T10:10:06.773677Z",
     "shell.execute_reply": "2021-12-21T10:10:06.773062Z"
    },
    "papermill": {
     "duration": 0.058905,
     "end_time": "2021-12-21T10:10:06.773816",
     "exception": false,
     "start_time": "2021-12-21T10:10:06.714911",
     "status": "completed"
    },
    "tags": []
   },
   "outputs": [
    {
     "data": {
      "text/plain": [
       "((11982, 784), (1984, 784))"
      ]
     },
     "execution_count": 14,
     "metadata": {},
     "output_type": "execute_result"
    }
   ],
   "source": [
    "X_train = X_train.reshape(X_train.shape[0], -1)\n",
    "X_test = X_test.reshape(X_test.shape[0], -1)\n",
    "X_train.shape, X_test.shape"
   ]
  },
  {
   "cell_type": "code",
   "execution_count": 15,
   "id": "73c5f88a",
   "metadata": {
    "execution": {
     "iopub.execute_input": "2021-12-21T10:10:06.847139Z",
     "iopub.status.busy": "2021-12-21T10:10:06.846547Z",
     "iopub.status.idle": "2021-12-21T10:10:06.867016Z",
     "shell.execute_reply": "2021-12-21T10:10:06.867483Z"
    },
    "papermill": {
     "duration": 0.05971,
     "end_time": "2021-12-21T10:10:06.867736",
     "exception": false,
     "start_time": "2021-12-21T10:10:06.808026",
     "status": "completed"
    },
    "tags": []
   },
   "outputs": [],
   "source": [
    "#Impoting functions from 'Kudzu'\n",
    "from kudzu.model import Model\n",
    "from kudzu.train import Learner\n",
    "from kudzu.optim import GD\n",
    "from kudzu.data import Data, Sampler,Dataloader\n",
    "\n",
    "from kudzu.callbacks import AccCallback\n",
    "from kudzu.callbacks import ClfCallback\n",
    "\n",
    "from kudzu.loss import MSE\n",
    "\n",
    "from kudzu.layer import Sigmoid,Relu\n",
    "from kudzu.layer import Affine"
   ]
  },
  {
   "cell_type": "markdown",
   "id": "bc01172a",
   "metadata": {
    "papermill": {
     "duration": 0.032091,
     "end_time": "2021-12-21T10:10:06.933233",
     "exception": false,
     "start_time": "2021-12-21T10:10:06.901142",
     "status": "completed"
    },
    "tags": []
   },
   "source": [
    "### Let us create a `Config` class, to store important parameters. \n",
    "This class essentially plays the role of a dictionary."
   ]
  },
  {
   "cell_type": "code",
   "execution_count": 16,
   "id": "978281aa",
   "metadata": {
    "execution": {
     "iopub.execute_input": "2021-12-21T10:10:07.016436Z",
     "iopub.status.busy": "2021-12-21T10:10:07.013794Z",
     "iopub.status.idle": "2021-12-21T10:10:07.022842Z",
     "shell.execute_reply": "2021-12-21T10:10:07.022141Z"
    },
    "papermill": {
     "duration": 0.0578,
     "end_time": "2021-12-21T10:10:07.022990",
     "exception": false,
     "start_time": "2021-12-21T10:10:06.965190",
     "status": "completed"
    },
    "tags": []
   },
   "outputs": [],
   "source": [
    "class Config:\n",
    "    pass\n",
    "config = Config()\n",
    "config.lr = 0.001\n",
    "config.num_epochs = 250\n",
    "config.bs = 50"
   ]
  },
  {
   "cell_type": "markdown",
   "id": "1385fa59",
   "metadata": {
    "papermill": {
     "duration": 0.034826,
     "end_time": "2021-12-21T10:10:07.093865",
     "exception": false,
     "start_time": "2021-12-21T10:10:07.059039",
     "status": "completed"
    },
    "tags": []
   },
   "source": [
    "### Running Models with the Training data\n",
    "Details about the network layers:\n",
    "- A first affine layer has 784 inputs and does 100 affine transforms. These are followed by a Relu\n",
    "- A second affine layer has 100 inputs from the 100 activations of the past layer, and does 100 affine transforms. These are followed by a Relu\n",
    "- A third affine layer has 100 activations and does 2 affine transformations to create an embedding for visualization. There is no non-linearity here.\n",
    "- A final \"logistic regression\" which has an affine transform from 2 inputs to 1 output, which is squeezed through a sigmoid.\n"
   ]
  },
  {
   "cell_type": "code",
   "execution_count": 17,
   "id": "2b9c66db",
   "metadata": {
    "execution": {
     "iopub.execute_input": "2021-12-21T10:10:07.170591Z",
     "iopub.status.busy": "2021-12-21T10:10:07.169956Z",
     "iopub.status.idle": "2021-12-21T10:10:07.182152Z",
     "shell.execute_reply": "2021-12-21T10:10:07.182865Z"
    },
    "papermill": {
     "duration": 0.053412,
     "end_time": "2021-12-21T10:10:07.183039",
     "exception": false,
     "start_time": "2021-12-21T10:10:07.129627",
     "status": "completed"
    },
    "tags": []
   },
   "outputs": [],
   "source": [
    "data = Data(X_train, y_train.reshape(-1,1))\n",
    "sampler = Sampler(data, config.bs, shuffle=True)\n",
    "\n",
    "dl = Dataloader(data, sampler)\n",
    "\n",
    "opt = GD(config.lr)\n",
    "loss = MSE()"
   ]
  },
  {
   "cell_type": "code",
   "execution_count": 18,
   "id": "b275e4c2",
   "metadata": {
    "execution": {
     "iopub.execute_input": "2021-12-21T10:10:07.256691Z",
     "iopub.status.busy": "2021-12-21T10:10:07.254503Z",
     "iopub.status.idle": "2021-12-21T10:10:07.268187Z",
     "shell.execute_reply": "2021-12-21T10:10:07.267403Z"
    },
    "papermill": {
     "duration": 0.052707,
     "end_time": "2021-12-21T10:10:07.268315",
     "exception": false,
     "start_time": "2021-12-21T10:10:07.215608",
     "status": "completed"
    },
    "tags": []
   },
   "outputs": [],
   "source": [
    "training_data_x = X_train\n",
    "testing_data_x = X_test\n",
    "training_data_y = y_train.reshape(-1,1)\n",
    "testing_data_y = y_test.reshape(-1,1)"
   ]
  },
  {
   "cell_type": "code",
   "execution_count": 19,
   "id": "76951160",
   "metadata": {
    "execution": {
     "iopub.execute_input": "2021-12-21T10:10:07.343693Z",
     "iopub.status.busy": "2021-12-21T10:10:07.342875Z",
     "iopub.status.idle": "2021-12-21T10:10:07.363133Z",
     "shell.execute_reply": "2021-12-21T10:10:07.362508Z"
    },
    "papermill": {
     "duration": 0.060641,
     "end_time": "2021-12-21T10:10:07.363267",
     "exception": false,
     "start_time": "2021-12-21T10:10:07.302626",
     "status": "completed"
    },
    "tags": []
   },
   "outputs": [
    {
     "name": "stdout",
     "output_type": "stream",
     "text": [
      "xavier\n",
      "xavier\n",
      "xavier\n",
      "xavier\n",
      "xavier\n"
     ]
    }
   ],
   "source": [
    "layers = [Affine(\"first\", 784, 100), Relu(\"first\"), Affine(\"second\", 100, 100), Relu(\"second\"), Affine(\"third\", 100, 2), Affine(\"last\", 2, 1), Sigmoid(\"last\")]\n",
    "model_nn = Model(layers)\n",
    "model_lr = Model([Affine(\"logits\", 784, 1), Sigmoid(\"sigmoid\")])"
   ]
  },
  {
   "cell_type": "code",
   "execution_count": 20,
   "id": "6eede77a",
   "metadata": {
    "execution": {
     "iopub.execute_input": "2021-12-21T10:10:07.447311Z",
     "iopub.status.busy": "2021-12-21T10:10:07.441398Z",
     "iopub.status.idle": "2021-12-21T10:10:07.455215Z",
     "shell.execute_reply": "2021-12-21T10:10:07.454686Z"
    },
    "papermill": {
     "duration": 0.05702,
     "end_time": "2021-12-21T10:10:07.455349",
     "exception": false,
     "start_time": "2021-12-21T10:10:07.398329",
     "status": "completed"
    },
    "tags": []
   },
   "outputs": [],
   "source": [
    "nn_learner = Learner(loss, model_nn, opt, config.num_epochs)\n",
    "acc_nn = ClfCallback(nn_learner, config.bs, training_data_x , testing_data_x, training_data_y, testing_data_y)\n",
    "nn_learner.set_callbacks([acc_nn])"
   ]
  },
  {
   "cell_type": "code",
   "execution_count": 21,
   "id": "877b6cc7",
   "metadata": {
    "execution": {
     "iopub.execute_input": "2021-12-21T10:10:07.528819Z",
     "iopub.status.busy": "2021-12-21T10:10:07.526840Z",
     "iopub.status.idle": "2021-12-21T10:10:07.542120Z",
     "shell.execute_reply": "2021-12-21T10:10:07.542716Z"
    },
    "papermill": {
     "duration": 0.052839,
     "end_time": "2021-12-21T10:10:07.542894",
     "exception": false,
     "start_time": "2021-12-21T10:10:07.490055",
     "status": "completed"
    },
    "tags": []
   },
   "outputs": [],
   "source": [
    "lr_learner = Learner(loss, model_lr, opt, config.num_epochs)\n",
    "acc_lr = ClfCallback(lr_learner, config.bs, training_data_x , testing_data_x, training_data_y, testing_data_y)\n",
    "lr_learner.set_callbacks([acc_lr])"
   ]
  },
  {
   "cell_type": "code",
   "execution_count": 22,
   "id": "d9b133c3",
   "metadata": {
    "execution": {
     "iopub.execute_input": "2021-12-21T10:10:07.623505Z",
     "iopub.status.busy": "2021-12-21T10:10:07.622908Z",
     "iopub.status.idle": "2021-12-21T10:12:32.609755Z",
     "shell.execute_reply": "2021-12-21T10:12:32.610692Z"
    },
    "papermill": {
     "duration": 145.028978,
     "end_time": "2021-12-21T10:12:32.610955",
     "exception": false,
     "start_time": "2021-12-21T10:10:07.581977",
     "status": "completed"
    },
    "tags": []
   },
   "outputs": [
    {
     "name": "stdout",
     "output_type": "stream",
     "text": [
      "Epoch 0, Loss 0.2309\n",
      "Training Accuracy: 0.7615, Testing Accuracy: 0.7505\n",
      "\n"
     ]
    },
    {
     "name": "stdout",
     "output_type": "stream",
     "text": [
      "Epoch 10, Loss 0.0659\n",
      "Training Accuracy: 0.9364, Testing Accuracy: 0.9456\n",
      "\n"
     ]
    },
    {
     "name": "stdout",
     "output_type": "stream",
     "text": [
      "Epoch 20, Loss 0.0443\n",
      "Training Accuracy: 0.9536, Testing Accuracy: 0.9607\n",
      "\n"
     ]
    },
    {
     "name": "stdout",
     "output_type": "stream",
     "text": [
      "Epoch 30, Loss 0.0363\n",
      "Training Accuracy: 0.9608, Testing Accuracy: 0.9662\n",
      "\n"
     ]
    },
    {
     "name": "stdout",
     "output_type": "stream",
     "text": [
      "Epoch 40, Loss 0.032\n",
      "Training Accuracy: 0.9648, Testing Accuracy: 0.9708\n",
      "\n"
     ]
    },
    {
     "name": "stdout",
     "output_type": "stream",
     "text": [
      "Epoch 50, Loss 0.0292\n",
      "Training Accuracy: 0.9679, Testing Accuracy: 0.9738\n",
      "\n"
     ]
    },
    {
     "name": "stdout",
     "output_type": "stream",
     "text": [
      "Epoch 60, Loss 0.0272\n",
      "Training Accuracy: 0.9699, Testing Accuracy: 0.9753\n",
      "\n"
     ]
    },
    {
     "name": "stdout",
     "output_type": "stream",
     "text": [
      "Epoch 70, Loss 0.0256\n",
      "Training Accuracy: 0.9723, Testing Accuracy: 0.9758\n",
      "\n"
     ]
    },
    {
     "name": "stdout",
     "output_type": "stream",
     "text": [
      "Epoch 80, Loss 0.0244\n",
      "Training Accuracy: 0.9737, Testing Accuracy: 0.9753\n",
      "\n"
     ]
    },
    {
     "name": "stdout",
     "output_type": "stream",
     "text": [
      "Epoch 90, Loss 0.0233\n",
      "Training Accuracy: 0.9750, Testing Accuracy: 0.9738\n",
      "\n"
     ]
    },
    {
     "name": "stdout",
     "output_type": "stream",
     "text": [
      "Epoch 100, Loss 0.0224\n",
      "Training Accuracy: 0.9756, Testing Accuracy: 0.9758\n",
      "\n"
     ]
    },
    {
     "name": "stdout",
     "output_type": "stream",
     "text": [
      "Epoch 110, Loss 0.0216\n",
      "Training Accuracy: 0.9767, Testing Accuracy: 0.9763\n",
      "\n"
     ]
    },
    {
     "name": "stdout",
     "output_type": "stream",
     "text": [
      "Epoch 120, Loss 0.0209\n",
      "Training Accuracy: 0.9771, Testing Accuracy: 0.9763\n",
      "\n"
     ]
    },
    {
     "name": "stdout",
     "output_type": "stream",
     "text": [
      "Epoch 130, Loss 0.0203\n",
      "Training Accuracy: 0.9776, Testing Accuracy: 0.9768\n",
      "\n"
     ]
    },
    {
     "name": "stdout",
     "output_type": "stream",
     "text": [
      "Epoch 140, Loss 0.0197\n",
      "Training Accuracy: 0.9786, Testing Accuracy: 0.9778\n",
      "\n"
     ]
    },
    {
     "name": "stdout",
     "output_type": "stream",
     "text": [
      "Epoch 150, Loss 0.0192\n",
      "Training Accuracy: 0.9794, Testing Accuracy: 0.9768\n",
      "\n"
     ]
    },
    {
     "name": "stdout",
     "output_type": "stream",
     "text": [
      "Epoch 160, Loss 0.0187\n",
      "Training Accuracy: 0.9799, Testing Accuracy: 0.9768\n",
      "\n"
     ]
    },
    {
     "name": "stdout",
     "output_type": "stream",
     "text": [
      "Epoch 170, Loss 0.0182\n",
      "Training Accuracy: 0.9805, Testing Accuracy: 0.9763\n",
      "\n"
     ]
    },
    {
     "name": "stdout",
     "output_type": "stream",
     "text": [
      "Epoch 180, Loss 0.0178\n",
      "Training Accuracy: 0.9808, Testing Accuracy: 0.9763\n",
      "\n"
     ]
    },
    {
     "name": "stdout",
     "output_type": "stream",
     "text": [
      "Epoch 190, Loss 0.0174\n",
      "Training Accuracy: 0.9813, Testing Accuracy: 0.9763\n",
      "\n"
     ]
    },
    {
     "name": "stdout",
     "output_type": "stream",
     "text": [
      "Epoch 200, Loss 0.017\n",
      "Training Accuracy: 0.9817, Testing Accuracy: 0.9763\n",
      "\n"
     ]
    },
    {
     "name": "stdout",
     "output_type": "stream",
     "text": [
      "Epoch 210, Loss 0.0166\n",
      "Training Accuracy: 0.9821, Testing Accuracy: 0.9763\n",
      "\n"
     ]
    },
    {
     "name": "stdout",
     "output_type": "stream",
     "text": [
      "Epoch 220, Loss 0.0163\n",
      "Training Accuracy: 0.9825, Testing Accuracy: 0.9763\n",
      "\n"
     ]
    },
    {
     "name": "stdout",
     "output_type": "stream",
     "text": [
      "Epoch 230, Loss 0.0159\n",
      "Training Accuracy: 0.9834, Testing Accuracy: 0.9763\n",
      "\n"
     ]
    },
    {
     "name": "stdout",
     "output_type": "stream",
     "text": [
      "Epoch 240, Loss 0.0156\n",
      "Training Accuracy: 0.9836, Testing Accuracy: 0.9763\n",
      "\n"
     ]
    },
    {
     "data": {
      "text/plain": [
       "0.019641280424434256"
      ]
     },
     "execution_count": 22,
     "metadata": {},
     "output_type": "execute_result"
    }
   ],
   "source": [
    "nn_learner.train_loop(dl)"
   ]
  },
  {
   "cell_type": "code",
   "execution_count": 23,
   "id": "e0163366",
   "metadata": {
    "execution": {
     "iopub.execute_input": "2021-12-21T10:12:32.704753Z",
     "iopub.status.busy": "2021-12-21T10:12:32.704170Z",
     "iopub.status.idle": "2021-12-21T10:12:53.256767Z",
     "shell.execute_reply": "2021-12-21T10:12:53.257725Z"
    },
    "papermill": {
     "duration": 20.602604,
     "end_time": "2021-12-21T10:12:53.257879",
     "exception": false,
     "start_time": "2021-12-21T10:12:32.655275",
     "status": "completed"
    },
    "tags": []
   },
   "outputs": [
    {
     "name": "stdout",
     "output_type": "stream",
     "text": [
      "Epoch 0, Loss 0.2317\n",
      "Training Accuracy: 0.7545, Testing Accuracy: 0.7530\n",
      "\n"
     ]
    },
    {
     "name": "stdout",
     "output_type": "stream",
     "text": [
      "Epoch 10, Loss 0.1007\n",
      "Training Accuracy: 0.9124, Testing Accuracy: 0.9259\n",
      "\n"
     ]
    },
    {
     "name": "stdout",
     "output_type": "stream",
     "text": [
      "Epoch 20, Loss 0.0785\n",
      "Training Accuracy: 0.9281, Testing Accuracy: 0.9420\n",
      "\n"
     ]
    },
    {
     "name": "stdout",
     "output_type": "stream",
     "text": [
      "Epoch 30, Loss 0.068\n",
      "Training Accuracy: 0.9368, Testing Accuracy: 0.9511\n",
      "\n"
     ]
    },
    {
     "name": "stdout",
     "output_type": "stream",
     "text": [
      "Epoch 40, Loss 0.0616\n",
      "Training Accuracy: 0.9405, Testing Accuracy: 0.9531\n",
      "\n"
     ]
    },
    {
     "name": "stdout",
     "output_type": "stream",
     "text": [
      "Epoch 50, Loss 0.0572\n",
      "Training Accuracy: 0.9444, Testing Accuracy: 0.9546\n",
      "\n"
     ]
    },
    {
     "name": "stdout",
     "output_type": "stream",
     "text": [
      "Epoch 60, Loss 0.0539\n",
      "Training Accuracy: 0.9476, Testing Accuracy: 0.9556\n",
      "\n"
     ]
    },
    {
     "name": "stdout",
     "output_type": "stream",
     "text": [
      "Epoch 70, Loss 0.0514\n",
      "Training Accuracy: 0.9498, Testing Accuracy: 0.9577\n",
      "\n"
     ]
    },
    {
     "name": "stdout",
     "output_type": "stream",
     "text": [
      "Epoch 80, Loss 0.0493\n",
      "Training Accuracy: 0.9511, Testing Accuracy: 0.9622\n",
      "\n"
     ]
    },
    {
     "name": "stdout",
     "output_type": "stream",
     "text": [
      "Epoch 90, Loss 0.0477\n",
      "Training Accuracy: 0.9527, Testing Accuracy: 0.9632\n",
      "\n"
     ]
    },
    {
     "name": "stdout",
     "output_type": "stream",
     "text": [
      "Epoch 100, Loss 0.0462\n",
      "Training Accuracy: 0.9535, Testing Accuracy: 0.9652\n",
      "\n"
     ]
    },
    {
     "name": "stdout",
     "output_type": "stream",
     "text": [
      "Epoch 110, Loss 0.045\n",
      "Training Accuracy: 0.9543, Testing Accuracy: 0.9652\n",
      "\n"
     ]
    },
    {
     "name": "stdout",
     "output_type": "stream",
     "text": [
      "Epoch 120, Loss 0.0439\n",
      "Training Accuracy: 0.9550, Testing Accuracy: 0.9647\n",
      "\n"
     ]
    },
    {
     "name": "stdout",
     "output_type": "stream",
     "text": [
      "Epoch 130, Loss 0.043\n",
      "Training Accuracy: 0.9554, Testing Accuracy: 0.9647\n",
      "\n"
     ]
    },
    {
     "name": "stdout",
     "output_type": "stream",
     "text": [
      "Epoch 140, Loss 0.0422\n",
      "Training Accuracy: 0.9564, Testing Accuracy: 0.9652\n",
      "\n"
     ]
    },
    {
     "name": "stdout",
     "output_type": "stream",
     "text": [
      "Epoch 150, Loss 0.0414\n",
      "Training Accuracy: 0.9566, Testing Accuracy: 0.9642\n",
      "\n"
     ]
    },
    {
     "name": "stdout",
     "output_type": "stream",
     "text": [
      "Epoch 160, Loss 0.0407\n",
      "Training Accuracy: 0.9574, Testing Accuracy: 0.9652\n",
      "\n"
     ]
    },
    {
     "name": "stdout",
     "output_type": "stream",
     "text": [
      "Epoch 170, Loss 0.0401\n",
      "Training Accuracy: 0.9581, Testing Accuracy: 0.9657\n",
      "\n"
     ]
    },
    {
     "name": "stdout",
     "output_type": "stream",
     "text": [
      "Epoch 180, Loss 0.0395\n",
      "Training Accuracy: 0.9585, Testing Accuracy: 0.9662\n",
      "\n"
     ]
    },
    {
     "name": "stdout",
     "output_type": "stream",
     "text": [
      "Epoch 190, Loss 0.039\n",
      "Training Accuracy: 0.9590, Testing Accuracy: 0.9662\n",
      "\n"
     ]
    },
    {
     "name": "stdout",
     "output_type": "stream",
     "text": [
      "Epoch 200, Loss 0.0385\n",
      "Training Accuracy: 0.9593, Testing Accuracy: 0.9667\n",
      "\n"
     ]
    },
    {
     "name": "stdout",
     "output_type": "stream",
     "text": [
      "Epoch 210, Loss 0.0381\n",
      "Training Accuracy: 0.9595, Testing Accuracy: 0.9682\n",
      "\n"
     ]
    },
    {
     "name": "stdout",
     "output_type": "stream",
     "text": [
      "Epoch 220, Loss 0.0377\n",
      "Training Accuracy: 0.9598, Testing Accuracy: 0.9682\n",
      "\n"
     ]
    },
    {
     "name": "stdout",
     "output_type": "stream",
     "text": [
      "Epoch 230, Loss 0.0373\n",
      "Training Accuracy: 0.9599, Testing Accuracy: 0.9677\n",
      "\n"
     ]
    },
    {
     "name": "stdout",
     "output_type": "stream",
     "text": [
      "Epoch 240, Loss 0.0369\n",
      "Training Accuracy: 0.9604, Testing Accuracy: 0.9677\n",
      "\n"
     ]
    },
    {
     "data": {
      "text/plain": [
       "0.06892443776636298"
      ]
     },
     "execution_count": 23,
     "metadata": {},
     "output_type": "execute_result"
    }
   ],
   "source": [
    "lr_learner.train_loop(dl)"
   ]
  },
  {
   "cell_type": "code",
   "execution_count": 24,
   "id": "ca410940",
   "metadata": {
    "execution": {
     "iopub.execute_input": "2021-12-21T10:12:53.368048Z",
     "iopub.status.busy": "2021-12-21T10:12:53.367429Z",
     "iopub.status.idle": "2021-12-21T10:12:53.663165Z",
     "shell.execute_reply": "2021-12-21T10:12:53.662680Z"
    },
    "papermill": {
     "duration": 0.352699,
     "end_time": "2021-12-21T10:12:53.663315",
     "exception": false,
     "start_time": "2021-12-21T10:12:53.310616",
     "status": "completed"
    },
    "tags": []
   },
   "outputs": [
    {
     "data": {
      "text/plain": [
       "<matplotlib.legend.Legend at 0x7f4de3199cc0>"
      ]
     },
     "execution_count": 24,
     "metadata": {},
     "output_type": "execute_result"
    },
    {
     "data": {
      "image/png": "[encoded data removed]",
      "text/plain": [
       "<Figure size 1080x720 with 1 Axes>"
      ]
     },
     "metadata": {
      "needs_background": "light"
     },
     "output_type": "display_data"
    }
   ],
   "source": [
    "#comparing the results of NN and LR\n",
    "plt.figure(figsize=(15,10))\n",
    "\n",
    "# Neural Network plots\n",
    "plt.plot(acc_nn.accuracies, 'r-', label = \"Training Accuracies - NN\")\n",
    "plt.plot(acc_nn.test_accuracies, 'g-', label = \"Testing Accuracies - NN\")\n",
    "\n",
    "# Logistic Regression plots\n",
    "plt.plot(acc_lr.accuracies, 'k-', label = \"Training Accuracies - LR\")\n",
    "plt.plot(acc_lr.test_accuracies, 'b-', label = \"Testing Accuracies - LR\")\n",
    "plt.legend()"
   ]
  },
  {
   "cell_type": "markdown",
   "id": "80dfb35c",
   "metadata": {
    "papermill": {
     "duration": 0.050635,
     "end_time": "2021-12-21T10:12:53.768740",
     "exception": false,
     "start_time": "2021-12-21T10:12:53.718105",
     "status": "completed"
    },
    "tags": []
   },
   "source": [
    "#### Plotting the outputs of this layer of the NN.\n"
   ]
  },
  {
   "cell_type": "code",
   "execution_count": 25,
   "id": "45eb2ff5",
   "metadata": {
    "execution": {
     "iopub.execute_input": "2021-12-21T10:12:53.880192Z",
     "iopub.status.busy": "2021-12-21T10:12:53.879228Z",
     "iopub.status.idle": "2021-12-21T10:12:53.907001Z",
     "shell.execute_reply": "2021-12-21T10:12:53.907529Z"
    },
    "papermill": {
     "duration": 0.085533,
     "end_time": "2021-12-21T10:12:53.907784",
     "exception": false,
     "start_time": "2021-12-21T10:12:53.822251",
     "status": "completed"
    },
    "tags": []
   },
   "outputs": [],
   "source": [
    "new_model = Model(layers[:-2])\n",
    "testing_plot = new_model(testing_data_x)"
   ]
  },
  {
   "cell_type": "code",
   "execution_count": 26,
   "id": "4c0a5485",
   "metadata": {
    "execution": {
     "iopub.execute_input": "2021-12-21T10:12:54.024575Z",
     "iopub.status.busy": "2021-12-21T10:12:54.023881Z",
     "iopub.status.idle": "2021-12-21T10:12:54.269757Z",
     "shell.execute_reply": "2021-12-21T10:12:54.270406Z"
    },
    "papermill": {
     "duration": 0.307894,
     "end_time": "2021-12-21T10:12:54.270573",
     "exception": false,
     "start_time": "2021-12-21T10:12:53.962679",
     "status": "completed"
    },
    "tags": []
   },
   "outputs": [
    {
     "data": {
      "text/plain": [
       "Text(0.5, 1.0, 'Outputs')"
      ]
     },
     "execution_count": 26,
     "metadata": {},
     "output_type": "execute_result"
    },
    {
     "data": {
      "image/png": "[encoded data removed]",
      "text/plain": [
       "<Figure size 576x504 with 1 Axes>"
      ]
     },
     "metadata": {
      "needs_background": "light"
     },
     "output_type": "display_data"
    }
   ],
   "source": [
    "# Plotting the scatter plot of points and color coding by class\n",
    "plt.figure(figsize=(8,7))\n",
    "plt.scatter(testing_plot[:,0], testing_plot[:,1], alpha = 0.1, c = y_test.ravel());\n",
    "plt.title('Outputs')"
   ]
  },
  {
   "cell_type": "markdown",
   "id": "a74fcf8f",
   "metadata": {
    "papermill": {
     "duration": 0.05695,
     "end_time": "2021-12-21T10:12:54.385302",
     "exception": false,
     "start_time": "2021-12-21T10:12:54.328352",
     "status": "completed"
    },
    "tags": []
   },
   "source": [
    "Probability contours"
   ]
  },
  {
   "cell_type": "code",
   "execution_count": 27,
   "id": "d0afc8e3",
   "metadata": {
    "execution": {
     "iopub.execute_input": "2021-12-21T10:12:54.537517Z",
     "iopub.status.busy": "2021-12-21T10:12:54.536903Z",
     "iopub.status.idle": "2021-12-21T10:12:54.546708Z",
     "shell.execute_reply": "2021-12-21T10:12:54.547191Z"
    },
    "papermill": {
     "duration": 0.103144,
     "end_time": "2021-12-21T10:12:54.547342",
     "exception": false,
     "start_time": "2021-12-21T10:12:54.444198",
     "status": "completed"
    },
    "tags": []
   },
   "outputs": [],
   "source": [
    "model_prob = Model(layers[-2:]) "
   ]
  },
  {
   "cell_type": "code",
   "execution_count": 28,
   "id": "9b96e238",
   "metadata": {
    "execution": {
     "iopub.execute_input": "2021-12-21T10:12:54.671339Z",
     "iopub.status.busy": "2021-12-21T10:12:54.670707Z",
     "iopub.status.idle": "2021-12-21T10:12:54.687515Z",
     "shell.execute_reply": "2021-12-21T10:12:54.686514Z"
    },
    "papermill": {
     "duration": 0.082905,
     "end_time": "2021-12-21T10:12:54.687696",
     "exception": false,
     "start_time": "2021-12-21T10:12:54.604791",
     "status": "completed"
    },
    "tags": []
   },
   "outputs": [],
   "source": [
    "#creating the x and y ranges according to the above generated plot.\n",
    "x_range = np.linspace(-4, 1, 100) \n",
    "y_range = np.linspace(-6, 6, 100) \n",
    "x_grid, y_grid = np.meshgrid(x_range, y_range) # x_grid and y_grig are of size 100 X 100\n",
    "\n",
    "# converting x_grid and y_grid to continuous arrays\n",
    "x_gridflat = np.ravel(x_grid)\n",
    "y_gridflat = np.ravel(y_grid)\n",
    "\n",
    "# The last layer of the current model takes two columns as input. Hence transpose of np.vstack() is required.\n",
    "X = np.vstack((x_gridflat, y_gridflat)).T\n",
    "\n",
    "prob_contour = model_prob(X).reshape(100,100) "
   ]
  },
  {
   "cell_type": "code",
   "execution_count": 29,
   "id": "da72499a",
   "metadata": {
    "execution": {
     "iopub.execute_input": "2021-12-21T10:12:54.808735Z",
     "iopub.status.busy": "2021-12-21T10:12:54.808055Z",
     "iopub.status.idle": "2021-12-21T10:12:55.117515Z",
     "shell.execute_reply": "2021-12-21T10:12:55.118018Z"
    },
    "papermill": {
     "duration": 0.371721,
     "end_time": "2021-12-21T10:12:55.118176",
     "exception": false,
     "start_time": "2021-12-21T10:12:54.746455",
     "status": "completed"
    },
    "tags": []
   },
   "outputs": [
    {
     "data": {
      "image/png": "[encoded data removed]",
      "text/plain": [
       "<Figure size 720x648 with 1 Axes>"
      ]
     },
     "metadata": {
      "needs_background": "light"
     },
     "output_type": "display_data"
    }
   ],
   "source": [
    "plt.figure(figsize=(10,9))\n",
    "plt.scatter(testing_plot[:,0], testing_plot[:,1], alpha = 0.1, c = y_test.ravel())\n",
    "contours = plt.contour(x_grid,y_grid,prob_contour)\n",
    "plt.title('Probability Contours')\n",
    "plt.clabel(contours, inline = True );"
   ]
  },
  {
   "cell_type": "code",
   "execution_count": null,
   "id": "e81b4ac7",
   "metadata": {
    "papermill": {
     "duration": 0.060813,
     "end_time": "2021-12-21T10:12:55.242813",
     "exception": false,
     "start_time": "2021-12-21T10:12:55.182000",
     "status": "completed"
    },
    "tags": []
   },
   "outputs": [],
   "source": []
  }
 ],
 "metadata": {
  "kernelspec": {
   "display_name": "Python 3",
   "language": "python",
   "name": "python3"
  },
  "language_info": {
   "codemirror_mode": {
    "name": "ipython",
    "version": 3
   },
   "file_extension": ".py",
   "mimetype": "text/x-python",
   "name": "python",
   "nbconvert_exporter": "python",
   "pygments_lexer": "ipython3",
   "version": "3.6.15"
  },
  "papermill": {
   "default_parameters": {},
   "duration": 175.479885,
   "end_time": "2021-12-21T10:12:55.715568",
   "environment_variables": {},
   "exception": null,
   "input_path": "2020-08-11-part2.ipynb",
   "output_path": "2020-08-11-part2.ipynb",
   "parameters": {},
   "start_time": "2021-12-21T10:10:00.235683",
   "version": "2.3.3"
  }
 },
 "nbformat": 4,
 "nbformat_minor": 5
}