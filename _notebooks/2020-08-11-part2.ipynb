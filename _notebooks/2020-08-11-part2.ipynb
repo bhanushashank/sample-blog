{
 "cells": [
  {
   "cell_type": "markdown",
   "id": "98380cd3",
   "metadata": {
    "papermill": {
     "duration": 0.028895,
     "end_time": "2022-11-24T20:09:54.345666",
     "exception": false,
     "start_time": "2022-11-24T20:09:54.316771",
     "status": "completed"
    },
    "tags": []
   },
   "source": [
    "# Distinguish Your Own Digits (DYOD)"
   ]
  },
  {
   "cell_type": "markdown",
   "id": "ef31240d",
   "metadata": {
    "papermill": {
     "duration": 0.023912,
     "end_time": "2022-11-24T20:09:54.394184",
     "exception": false,
     "start_time": "2022-11-24T20:09:54.370272",
     "status": "completed"
    },
    "tags": []
   },
   "source": [
    "You are going to write a classifier that distinguishes between the number 3 and number 8."
   ]
  },
  {
   "cell_type": "code",
   "execution_count": 1,
   "id": "b15c8646",
   "metadata": {
    "execution": {
     "iopub.execute_input": "2022-11-24T20:09:54.451930Z",
     "iopub.status.busy": "2022-11-24T20:09:54.451360Z",
     "iopub.status.idle": "2022-11-24T20:09:54.460881Z",
     "shell.execute_reply": "2022-11-24T20:09:54.461399Z"
    },
    "papermill": {
     "duration": 0.043352,
     "end_time": "2022-11-24T20:09:54.461523",
     "exception": false,
     "start_time": "2022-11-24T20:09:54.418171",
     "status": "completed"
    },
    "tags": []
   },
   "outputs": [],
   "source": [
    "%load_ext autoreload\n",
    "%autoreload 2"
   ]
  },
  {
   "cell_type": "code",
   "execution_count": 2,
   "id": "22ef38dc",
   "metadata": {
    "execution": {
     "iopub.execute_input": "2022-11-24T20:09:54.513366Z",
     "iopub.status.busy": "2022-11-24T20:09:54.512810Z",
     "iopub.status.idle": "2022-11-24T20:09:55.008662Z",
     "shell.execute_reply": "2022-11-24T20:09:55.008162Z"
    },
    "papermill": {
     "duration": 0.523105,
     "end_time": "2022-11-24T20:09:55.008777",
     "exception": false,
     "start_time": "2022-11-24T20:09:54.485672",
     "status": "completed"
    },
    "tags": []
   },
   "outputs": [],
   "source": [
    "%matplotlib inline\n",
    "import numpy as np\n",
    "import matplotlib.pyplot as plt\n",
    "import pandas as pd"
   ]
  },
  {
   "cell_type": "markdown",
   "id": "ba036198",
   "metadata": {
    "papermill": {
     "duration": 0.024295,
     "end_time": "2022-11-24T20:09:55.057269",
     "exception": false,
     "start_time": "2022-11-24T20:09:55.032974",
     "status": "completed"
    },
    "tags": []
   },
   "source": [
    "From the command line run `pip install mnist`. This is a library that will help you bring down the mnist dataset. If you run this from a notebook, you need to put  `!pip install mnist` in a cell by itself."
   ]
  },
  {
   "cell_type": "code",
   "execution_count": 3,
   "id": "bb6ad8a1",
   "metadata": {
    "execution": {
     "iopub.execute_input": "2022-11-24T20:09:55.109147Z",
     "iopub.status.busy": "2022-11-24T20:09:55.108557Z",
     "iopub.status.idle": "2022-11-24T20:09:56.707986Z",
     "shell.execute_reply": "2022-11-24T20:09:56.706841Z"
    },
    "papermill": {
     "duration": 1.626689,
     "end_time": "2022-11-24T20:09:56.708104",
     "exception": false,
     "start_time": "2022-11-24T20:09:55.081415",
     "status": "completed"
    },
    "tags": []
   },
   "outputs": [
    {
     "name": "stdout",
     "output_type": "stream",
     "text": [
      "Collecting mnist\r\n"
     ]
    },
    {
     "name": "stdout",
     "output_type": "stream",
     "text": [
      "  Downloading mnist-0.2.2-py2.py3-none-any.whl (3.5 kB)\r\n",
      "Requirement already satisfied: numpy in /opt/hostedtoolcache/Python/3.6.15/x64/lib/python3.6/site-packages (from mnist) (1.19.5)\r\n"
     ]
    },
    {
     "name": "stdout",
     "output_type": "stream",
     "text": [
      "Installing collected packages: mnist\r\n"
     ]
    },
    {
     "name": "stdout",
     "output_type": "stream",
     "text": [
      "Successfully installed mnist-0.2.2\r\n"
     ]
    }
   ],
   "source": [
    "!pip install mnist"
   ]
  },
  {
   "cell_type": "markdown",
   "id": "69df9c9a",
   "metadata": {
    "papermill": {
     "duration": 0.025479,
     "end_time": "2022-11-24T20:09:56.759237",
     "exception": false,
     "start_time": "2022-11-24T20:09:56.733758",
     "status": "completed"
    },
    "tags": []
   },
   "source": [
    "## Preparing the Data"
   ]
  },
  {
   "cell_type": "code",
   "execution_count": 4,
   "id": "7f69d806",
   "metadata": {
    "execution": {
     "iopub.execute_input": "2022-11-24T20:09:56.813803Z",
     "iopub.status.busy": "2022-11-24T20:09:56.813233Z",
     "iopub.status.idle": "2022-11-24T20:09:56.827257Z",
     "shell.execute_reply": "2022-11-24T20:09:56.826803Z"
    },
    "papermill": {
     "duration": 0.042568,
     "end_time": "2022-11-24T20:09:56.827349",
     "exception": false,
     "start_time": "2022-11-24T20:09:56.784781",
     "status": "completed"
    },
    "tags": []
   },
   "outputs": [],
   "source": [
    "import mnist"
   ]
  },
  {
   "cell_type": "code",
   "execution_count": 5,
   "id": "a411e44f",
   "metadata": {
    "execution": {
     "iopub.execute_input": "2022-11-24T20:09:56.880796Z",
     "iopub.status.busy": "2022-11-24T20:09:56.880216Z",
     "iopub.status.idle": "2022-11-24T20:09:57.395997Z",
     "shell.execute_reply": "2022-11-24T20:09:57.395497Z"
    },
    "papermill": {
     "duration": 0.543506,
     "end_time": "2022-11-24T20:09:57.396111",
     "exception": false,
     "start_time": "2022-11-24T20:09:56.852605",
     "status": "completed"
    },
    "tags": []
   },
   "outputs": [],
   "source": [
    "train_images = mnist.train_images()\n",
    "train_labels = mnist.train_labels()"
   ]
  },
  {
   "cell_type": "code",
   "execution_count": 6,
   "id": "dceab3a5",
   "metadata": {
    "execution": {
     "iopub.execute_input": "2022-11-24T20:09:57.450551Z",
     "iopub.status.busy": "2022-11-24T20:09:57.449999Z",
     "iopub.status.idle": "2022-11-24T20:09:57.463979Z",
     "shell.execute_reply": "2022-11-24T20:09:57.463529Z"
    },
    "papermill": {
     "duration": 0.042462,
     "end_time": "2022-11-24T20:09:57.464072",
     "exception": false,
     "start_time": "2022-11-24T20:09:57.421610",
     "status": "completed"
    },
    "tags": []
   },
   "outputs": [
    {
     "data": {
      "text/plain": [
       "((60000, 28, 28), (60000,))"
      ]
     },
     "execution_count": 6,
     "metadata": {},
     "output_type": "execute_result"
    }
   ],
   "source": [
    "train_images.shape, train_labels.shape"
   ]
  },
  {
   "cell_type": "code",
   "execution_count": 7,
   "id": "f50dc2bb",
   "metadata": {
    "execution": {
     "iopub.execute_input": "2022-11-24T20:09:57.517470Z",
     "iopub.status.busy": "2022-11-24T20:09:57.516933Z",
     "iopub.status.idle": "2022-11-24T20:09:57.634021Z",
     "shell.execute_reply": "2022-11-24T20:09:57.633549Z"
    },
    "papermill": {
     "duration": 0.144565,
     "end_time": "2022-11-24T20:09:57.634133",
     "exception": false,
     "start_time": "2022-11-24T20:09:57.489568",
     "status": "completed"
    },
    "tags": []
   },
   "outputs": [],
   "source": [
    "test_images = mnist.test_images()\n",
    "test_labels = mnist.test_labels()"
   ]
  },
  {
   "cell_type": "code",
   "execution_count": 8,
   "id": "fc38cf1b",
   "metadata": {
    "execution": {
     "iopub.execute_input": "2022-11-24T20:09:57.689174Z",
     "iopub.status.busy": "2022-11-24T20:09:57.688600Z",
     "iopub.status.idle": "2022-11-24T20:09:57.701082Z",
     "shell.execute_reply": "2022-11-24T20:09:57.700523Z"
    },
    "papermill": {
     "duration": 0.041251,
     "end_time": "2022-11-24T20:09:57.701183",
     "exception": false,
     "start_time": "2022-11-24T20:09:57.659932",
     "status": "completed"
    },
    "tags": []
   },
   "outputs": [
    {
     "data": {
      "text/plain": [
       "((10000, 28, 28), (10000,))"
      ]
     },
     "execution_count": 8,
     "metadata": {},
     "output_type": "execute_result"
    }
   ],
   "source": [
    "test_images.shape, test_labels.shape"
   ]
  },
  {
   "cell_type": "code",
   "execution_count": 9,
   "id": "f9ed8fe0",
   "metadata": {
    "execution": {
     "iopub.execute_input": "2022-11-24T20:09:57.755823Z",
     "iopub.status.busy": "2022-11-24T20:09:57.755279Z",
     "iopub.status.idle": "2022-11-24T20:09:57.884947Z",
     "shell.execute_reply": "2022-11-24T20:09:57.885386Z"
    },
    "papermill": {
     "duration": 0.158479,
     "end_time": "2022-11-24T20:09:57.885503",
     "exception": false,
     "start_time": "2022-11-24T20:09:57.727024",
     "status": "completed"
    },
    "tags": []
   },
   "outputs": [
    {
     "name": "stdout",
     "output_type": "stream",
     "text": [
      "2\n"
     ]
    },
    {
     "data": {
      "text/plain": [
       "<matplotlib.image.AxesImage at 0x7f1d3d295dd8>"
      ]
     },
     "execution_count": 9,
     "metadata": {},
     "output_type": "execute_result"
    },
    {
     "data": {
      "image/png": "[encoded data removed]",
      "text/plain": [
       "<Figure size 432x288 with 1 Axes>"
      ]
     },
     "metadata": {
      "needs_background": "light"
     },
     "output_type": "display_data"
    }
   ],
   "source": [
    "image_index = 7776 # You may select anything up to 60,000\n",
    "print(train_labels[image_index]) \n",
    "plt.imshow(train_images[image_index], cmap='Greys')"
   ]
  },
  {
   "cell_type": "markdown",
   "id": "a8d2388d",
   "metadata": {
    "papermill": {
     "duration": 0.027161,
     "end_time": "2022-11-24T20:09:57.939603",
     "exception": false,
     "start_time": "2022-11-24T20:09:57.912442",
     "status": "completed"
    },
    "tags": []
   },
   "source": [
    "## Filter data to get 3 and 8 out"
   ]
  },
  {
   "cell_type": "code",
   "execution_count": 10,
   "id": "776f7fc7",
   "metadata": {
    "execution": {
     "iopub.execute_input": "2022-11-24T20:09:57.996732Z",
     "iopub.status.busy": "2022-11-24T20:09:57.996131Z",
     "iopub.status.idle": "2022-11-24T20:09:58.011758Z",
     "shell.execute_reply": "2022-11-24T20:09:58.012261Z"
    },
    "papermill": {
     "duration": 0.045951,
     "end_time": "2022-11-24T20:09:58.012367",
     "exception": false,
     "start_time": "2022-11-24T20:09:57.966416",
     "status": "completed"
    },
    "tags": []
   },
   "outputs": [],
   "source": [
    "train_filter = np.where((train_labels == 3 ) | (train_labels == 8))\n",
    "test_filter = np.where((test_labels == 3) | (test_labels == 8))\n",
    "X_train, y_train = train_images[train_filter], train_labels[train_filter]\n",
    "X_test, y_test = test_images[test_filter], test_labels[test_filter]"
   ]
  },
  {
   "cell_type": "markdown",
   "id": "948f0b7e",
   "metadata": {
    "papermill": {
     "duration": 0.026749,
     "end_time": "2022-11-24T20:09:58.065915",
     "exception": false,
     "start_time": "2022-11-24T20:09:58.039166",
     "status": "completed"
    },
    "tags": []
   },
   "source": [
    "We normalize the pizel values in the 0 to 1 range"
   ]
  },
  {
   "cell_type": "code",
   "execution_count": 11,
   "id": "ee4c2166",
   "metadata": {
    "execution": {
     "iopub.execute_input": "2022-11-24T20:09:58.122295Z",
     "iopub.status.busy": "2022-11-24T20:09:58.121748Z",
     "iopub.status.idle": "2022-11-24T20:09:58.162267Z",
     "shell.execute_reply": "2022-11-24T20:09:58.161792Z"
    },
    "papermill": {
     "duration": 0.069762,
     "end_time": "2022-11-24T20:09:58.162373",
     "exception": false,
     "start_time": "2022-11-24T20:09:58.092611",
     "status": "completed"
    },
    "tags": []
   },
   "outputs": [],
   "source": [
    "X_train = X_train/255.\n",
    "X_test = X_test/255."
   ]
  },
  {
   "cell_type": "markdown",
   "id": "ddcf4fab",
   "metadata": {
    "papermill": {
     "duration": 0.026735,
     "end_time": "2022-11-24T20:09:58.216185",
     "exception": false,
     "start_time": "2022-11-24T20:09:58.189450",
     "status": "completed"
    },
    "tags": []
   },
   "source": [
    "And setup the labels as 1 (when the digit is 3) and 0 (when the digit is 8)"
   ]
  },
  {
   "cell_type": "code",
   "execution_count": 12,
   "id": "7dc908f2",
   "metadata": {
    "execution": {
     "iopub.execute_input": "2022-11-24T20:09:58.273239Z",
     "iopub.status.busy": "2022-11-24T20:09:58.272688Z",
     "iopub.status.idle": "2022-11-24T20:09:58.283878Z",
     "shell.execute_reply": "2022-11-24T20:09:58.284388Z"
    },
    "papermill": {
     "duration": 0.04135,
     "end_time": "2022-11-24T20:09:58.284495",
     "exception": false,
     "start_time": "2022-11-24T20:09:58.243145",
     "status": "completed"
    },
    "tags": []
   },
   "outputs": [],
   "source": [
    "y_train = 1*(y_train==3)\n",
    "y_test = 1*(y_test==3)"
   ]
  },
  {
   "cell_type": "code",
   "execution_count": 13,
   "id": "01e4e969",
   "metadata": {
    "execution": {
     "iopub.execute_input": "2022-11-24T20:09:58.341030Z",
     "iopub.status.busy": "2022-11-24T20:09:58.340442Z",
     "iopub.status.idle": "2022-11-24T20:09:58.352478Z",
     "shell.execute_reply": "2022-11-24T20:09:58.352927Z"
    },
    "papermill": {
     "duration": 0.041701,
     "end_time": "2022-11-24T20:09:58.353036",
     "exception": false,
     "start_time": "2022-11-24T20:09:58.311335",
     "status": "completed"
    },
    "tags": []
   },
   "outputs": [
    {
     "data": {
      "text/plain": [
       "((11982, 28, 28), (1984, 28, 28))"
      ]
     },
     "execution_count": 13,
     "metadata": {},
     "output_type": "execute_result"
    }
   ],
   "source": [
    "X_train.shape, X_test.shape"
   ]
  },
  {
   "cell_type": "markdown",
   "id": "5ccf3f85",
   "metadata": {
    "papermill": {
     "duration": 0.026917,
     "end_time": "2022-11-24T20:09:58.406917",
     "exception": false,
     "start_time": "2022-11-24T20:09:58.380000",
     "status": "completed"
    },
    "tags": []
   },
   "source": [
    "We reshape the data to flatten the image pixels into a set of features or co-variates:"
   ]
  },
  {
   "cell_type": "code",
   "execution_count": 14,
   "id": "5286a4a3",
   "metadata": {
    "execution": {
     "iopub.execute_input": "2022-11-24T20:09:58.464189Z",
     "iopub.status.busy": "2022-11-24T20:09:58.463642Z",
     "iopub.status.idle": "2022-11-24T20:09:58.476411Z",
     "shell.execute_reply": "2022-11-24T20:09:58.475879Z"
    },
    "papermill": {
     "duration": 0.042479,
     "end_time": "2022-11-24T20:09:58.476503",
     "exception": false,
     "start_time": "2022-11-24T20:09:58.434024",
     "status": "completed"
    },
    "tags": []
   },
   "outputs": [
    {
     "data": {
      "text/plain": [
       "((11982, 784), (1984, 784))"
      ]
     },
     "execution_count": 14,
     "metadata": {},
     "output_type": "execute_result"
    }
   ],
   "source": [
    "X_train = X_train.reshape(X_train.shape[0], -1)\n",
    "X_test = X_test.reshape(X_test.shape[0], -1)\n",
    "X_train.shape, X_test.shape"
   ]
  },
  {
   "cell_type": "code",
   "execution_count": 15,
   "id": "73c5f88a",
   "metadata": {
    "execution": {
     "iopub.execute_input": "2022-11-24T20:09:58.534979Z",
     "iopub.status.busy": "2022-11-24T20:09:58.534435Z",
     "iopub.status.idle": "2022-11-24T20:09:58.551582Z",
     "shell.execute_reply": "2022-11-24T20:09:58.551155Z"
    },
    "papermill": {
     "duration": 0.047742,
     "end_time": "2022-11-24T20:09:58.551676",
     "exception": false,
     "start_time": "2022-11-24T20:09:58.503934",
     "status": "completed"
    },
    "tags": []
   },
   "outputs": [],
   "source": [
    "#Impoting functions from 'Kudzu'\n",
    "from kudzu.model import Model\n",
    "from kudzu.train import Learner\n",
    "from kudzu.optim import GD\n",
    "from kudzu.data import Data, Sampler,Dataloader\n",
    "\n",
    "from kudzu.callbacks import AccCallback\n",
    "from kudzu.callbacks import ClfCallback\n",
    "\n",
    "from kudzu.loss import MSE\n",
    "\n",
    "from kudzu.layer import Sigmoid,Relu\n",
    "from kudzu.layer import Affine"
   ]
  },
  {
   "cell_type": "markdown",
   "id": "bc01172a",
   "metadata": {
    "papermill": {
     "duration": 0.027245,
     "end_time": "2022-11-24T20:09:58.606271",
     "exception": false,
     "start_time": "2022-11-24T20:09:58.579026",
     "status": "completed"
    },
    "tags": []
   },
   "source": [
    "### Let us create a `Config` class, to store important parameters. \n",
    "This class essentially plays the role of a dictionary."
   ]
  },
  {
   "cell_type": "code",
   "execution_count": 16,
   "id": "978281aa",
   "metadata": {
    "execution": {
     "iopub.execute_input": "2022-11-24T20:09:58.663926Z",
     "iopub.status.busy": "2022-11-24T20:09:58.663389Z",
     "iopub.status.idle": "2022-11-24T20:09:58.674280Z",
     "shell.execute_reply": "2022-11-24T20:09:58.673835Z"
    },
    "papermill": {
     "duration": 0.040834,
     "end_time": "2022-11-24T20:09:58.674372",
     "exception": false,
     "start_time": "2022-11-24T20:09:58.633538",
     "status": "completed"
    },
    "tags": []
   },
   "outputs": [],
   "source": [
    "class Config:\n",
    "    pass\n",
    "config = Config()\n",
    "config.lr = 0.001\n",
    "config.num_epochs = 250\n",
    "config.bs = 50"
   ]
  },
  {
   "cell_type": "markdown",
   "id": "1385fa59",
   "metadata": {
    "papermill": {
     "duration": 0.027264,
     "end_time": "2022-11-24T20:09:58.729308",
     "exception": false,
     "start_time": "2022-11-24T20:09:58.702044",
     "status": "completed"
    },
    "tags": []
   },
   "source": [
    "### Running Models with the Training data\n",
    "Details about the network layers:\n",
    "- A first affine layer has 784 inputs and does 100 affine transforms. These are followed by a Relu\n",
    "- A second affine layer has 100 inputs from the 100 activations of the past layer, and does 100 affine transforms. These are followed by a Relu\n",
    "- A third affine layer has 100 activations and does 2 affine transformations to create an embedding for visualization. There is no non-linearity here.\n",
    "- A final \"logistic regression\" which has an affine transform from 2 inputs to 1 output, which is squeezed through a sigmoid.\n"
   ]
  },
  {
   "cell_type": "code",
   "execution_count": 17,
   "id": "2b9c66db",
   "metadata": {
    "execution": {
     "iopub.execute_input": "2022-11-24T20:09:58.786207Z",
     "iopub.status.busy": "2022-11-24T20:09:58.785670Z",
     "iopub.status.idle": "2022-11-24T20:09:58.797917Z",
     "shell.execute_reply": "2022-11-24T20:09:58.797470Z"
    },
    "papermill": {
     "duration": 0.041354,
     "end_time": "2022-11-24T20:09:58.798010",
     "exception": false,
     "start_time": "2022-11-24T20:09:58.756656",
     "status": "completed"
    },
    "tags": []
   },
   "outputs": [],
   "source": [
    "data = Data(X_train, y_train.reshape(-1,1))\n",
    "sampler = Sampler(data, config.bs, shuffle=True)\n",
    "\n",
    "dl = Dataloader(data, sampler)\n",
    "\n",
    "opt = GD(config.lr)\n",
    "loss = MSE()"
   ]
  },
  {
   "cell_type": "code",
   "execution_count": 18,
   "id": "b275e4c2",
   "metadata": {
    "execution": {
     "iopub.execute_input": "2022-11-24T20:09:58.855767Z",
     "iopub.status.busy": "2022-11-24T20:09:58.855214Z",
     "iopub.status.idle": "2022-11-24T20:09:58.866589Z",
     "shell.execute_reply": "2022-11-24T20:09:58.866054Z"
    },
    "papermill": {
     "duration": 0.041215,
     "end_time": "2022-11-24T20:09:58.866681",
     "exception": false,
     "start_time": "2022-11-24T20:09:58.825466",
     "status": "completed"
    },
    "tags": []
   },
   "outputs": [],
   "source": [
    "training_data_x = X_train\n",
    "testing_data_x = X_test\n",
    "training_data_y = y_train.reshape(-1,1)\n",
    "testing_data_y = y_test.reshape(-1,1)"
   ]
  },
  {
   "cell_type": "code",
   "execution_count": 19,
   "id": "76951160",
   "metadata": {
    "execution": {
     "iopub.execute_input": "2022-11-24T20:09:58.925019Z",
     "iopub.status.busy": "2022-11-24T20:09:58.924446Z",
     "iopub.status.idle": "2022-11-24T20:09:58.939587Z",
     "shell.execute_reply": "2022-11-24T20:09:58.939051Z"
    },
    "papermill": {
     "duration": 0.045629,
     "end_time": "2022-11-24T20:09:58.939679",
     "exception": false,
     "start_time": "2022-11-24T20:09:58.894050",
     "status": "completed"
    },
    "tags": []
   },
   "outputs": [
    {
     "name": "stdout",
     "output_type": "stream",
     "text": [
      "xavier\n",
      "xavier\n",
      "xavier\n",
      "xavier\n",
      "xavier\n"
     ]
    }
   ],
   "source": [
    "layers = [Affine(\"first\", 784, 100), Relu(\"first\"), Affine(\"second\", 100, 100), Relu(\"second\"), Affine(\"third\", 100, 2), Affine(\"last\", 2, 1), Sigmoid(\"last\")]\n",
    "model_nn = Model(layers)\n",
    "model_lr = Model([Affine(\"logits\", 784, 1), Sigmoid(\"sigmoid\")])"
   ]
  },
  {
   "cell_type": "code",
   "execution_count": 20,
   "id": "6eede77a",
   "metadata": {
    "execution": {
     "iopub.execute_input": "2022-11-24T20:09:59.002178Z",
     "iopub.status.busy": "2022-11-24T20:09:59.001627Z",
     "iopub.status.idle": "2022-11-24T20:09:59.011246Z",
     "shell.execute_reply": "2022-11-24T20:09:59.010799Z"
    },
    "papermill": {
     "duration": 0.0414,
     "end_time": "2022-11-24T20:09:59.011337",
     "exception": false,
     "start_time": "2022-11-24T20:09:58.969937",
     "status": "completed"
    },
    "tags": []
   },
   "outputs": [],
   "source": [
    "nn_learner = Learner(loss, model_nn, opt, config.num_epochs)\n",
    "acc_nn = ClfCallback(nn_learner, config.bs, training_data_x , testing_data_x, training_data_y, testing_data_y)\n",
    "nn_learner.set_callbacks([acc_nn])"
   ]
  },
  {
   "cell_type": "code",
   "execution_count": 21,
   "id": "877b6cc7",
   "metadata": {
    "execution": {
     "iopub.execute_input": "2022-11-24T20:09:59.069946Z",
     "iopub.status.busy": "2022-11-24T20:09:59.069398Z",
     "iopub.status.idle": "2022-11-24T20:09:59.080708Z",
     "shell.execute_reply": "2022-11-24T20:09:59.080170Z"
    },
    "papermill": {
     "duration": 0.041795,
     "end_time": "2022-11-24T20:09:59.080801",
     "exception": false,
     "start_time": "2022-11-24T20:09:59.039006",
     "status": "completed"
    },
    "tags": []
   },
   "outputs": [],
   "source": [
    "lr_learner = Learner(loss, model_lr, opt, config.num_epochs)\n",
    "acc_lr = ClfCallback(lr_learner, config.bs, training_data_x , testing_data_x, training_data_y, testing_data_y)\n",
    "lr_learner.set_callbacks([acc_lr])"
   ]
  },
  {
   "cell_type": "code",
   "execution_count": 22,
   "id": "d9b133c3",
   "metadata": {
    "execution": {
     "iopub.execute_input": "2022-11-24T20:09:59.139198Z",
     "iopub.status.busy": "2022-11-24T20:09:59.138640Z",
     "iopub.status.idle": "2022-11-24T20:12:54.072619Z",
     "shell.execute_reply": "2022-11-24T20:12:54.073112Z"
    },
    "papermill": {
     "duration": 174.964729,
     "end_time": "2022-11-24T20:12:54.073240",
     "exception": false,
     "start_time": "2022-11-24T20:09:59.108511",
     "status": "completed"
    },
    "tags": []
   },
   "outputs": [
    {
     "name": "stdout",
     "output_type": "stream",
     "text": [
      "Epoch 0, Loss 0.2379\n",
      "Training Accuracy: 0.6865, Testing Accuracy: 0.7087\n",
      "\n"
     ]
    },
    {
     "name": "stdout",
     "output_type": "stream",
     "text": [
      "Epoch 10, Loss 0.0807\n",
      "Training Accuracy: 0.9165, Testing Accuracy: 0.9259\n",
      "\n"
     ]
    },
    {
     "name": "stdout",
     "output_type": "stream",
     "text": [
      "Epoch 20, Loss 0.0519\n",
      "Training Accuracy: 0.9437, Testing Accuracy: 0.9551\n",
      "\n"
     ]
    },
    {
     "name": "stdout",
     "output_type": "stream",
     "text": [
      "Epoch 30, Loss 0.0411\n",
      "Training Accuracy: 0.9543, Testing Accuracy: 0.9617\n",
      "\n"
     ]
    },
    {
     "name": "stdout",
     "output_type": "stream",
     "text": [
      "Epoch 40, Loss 0.0357\n",
      "Training Accuracy: 0.9612, Testing Accuracy: 0.9642\n",
      "\n"
     ]
    },
    {
     "name": "stdout",
     "output_type": "stream",
     "text": [
      "Epoch 50, Loss 0.0323\n",
      "Training Accuracy: 0.9649, Testing Accuracy: 0.9682\n",
      "\n"
     ]
    },
    {
     "name": "stdout",
     "output_type": "stream",
     "text": [
      "Epoch 60, Loss 0.03\n",
      "Training Accuracy: 0.9676, Testing Accuracy: 0.9723\n",
      "\n"
     ]
    },
    {
     "name": "stdout",
     "output_type": "stream",
     "text": [
      "Epoch 70, Loss 0.0283\n",
      "Training Accuracy: 0.9690, Testing Accuracy: 0.9723\n",
      "\n"
     ]
    },
    {
     "name": "stdout",
     "output_type": "stream",
     "text": [
      "Epoch 80, Loss 0.0269\n",
      "Training Accuracy: 0.9703, Testing Accuracy: 0.9723\n",
      "\n"
     ]
    },
    {
     "name": "stdout",
     "output_type": "stream",
     "text": [
      "Epoch 90, Loss 0.0257\n",
      "Training Accuracy: 0.9714, Testing Accuracy: 0.9743\n",
      "\n"
     ]
    },
    {
     "name": "stdout",
     "output_type": "stream",
     "text": [
      "Epoch 100, Loss 0.0247\n",
      "Training Accuracy: 0.9729, Testing Accuracy: 0.9738\n",
      "\n"
     ]
    },
    {
     "name": "stdout",
     "output_type": "stream",
     "text": [
      "Epoch 110, Loss 0.0239\n",
      "Training Accuracy: 0.9737, Testing Accuracy: 0.9738\n",
      "\n"
     ]
    },
    {
     "name": "stdout",
     "output_type": "stream",
     "text": [
      "Epoch 120, Loss 0.0231\n",
      "Training Accuracy: 0.9745, Testing Accuracy: 0.9743\n",
      "\n"
     ]
    },
    {
     "name": "stdout",
     "output_type": "stream",
     "text": [
      "Epoch 130, Loss 0.0224\n",
      "Training Accuracy: 0.9753, Testing Accuracy: 0.9738\n",
      "\n"
     ]
    },
    {
     "name": "stdout",
     "output_type": "stream",
     "text": [
      "Epoch 140, Loss 0.0217\n",
      "Training Accuracy: 0.9760, Testing Accuracy: 0.9728\n",
      "\n"
     ]
    },
    {
     "name": "stdout",
     "output_type": "stream",
     "text": [
      "Epoch 150, Loss 0.0211\n",
      "Training Accuracy: 0.9766, Testing Accuracy: 0.9738\n",
      "\n"
     ]
    },
    {
     "name": "stdout",
     "output_type": "stream",
     "text": [
      "Epoch 160, Loss 0.0206\n",
      "Training Accuracy: 0.9774, Testing Accuracy: 0.9738\n",
      "\n"
     ]
    },
    {
     "name": "stdout",
     "output_type": "stream",
     "text": [
      "Epoch 170, Loss 0.02\n",
      "Training Accuracy: 0.9781, Testing Accuracy: 0.9738\n",
      "\n"
     ]
    },
    {
     "name": "stdout",
     "output_type": "stream",
     "text": [
      "Epoch 180, Loss 0.0195\n",
      "Training Accuracy: 0.9786, Testing Accuracy: 0.9738\n",
      "\n"
     ]
    },
    {
     "name": "stdout",
     "output_type": "stream",
     "text": [
      "Epoch 190, Loss 0.0191\n",
      "Training Accuracy: 0.9796, Testing Accuracy: 0.9738\n",
      "\n"
     ]
    },
    {
     "name": "stdout",
     "output_type": "stream",
     "text": [
      "Epoch 200, Loss 0.0186\n",
      "Training Accuracy: 0.9804, Testing Accuracy: 0.9738\n",
      "\n"
     ]
    },
    {
     "name": "stdout",
     "output_type": "stream",
     "text": [
      "Epoch 210, Loss 0.0182\n",
      "Training Accuracy: 0.9810, Testing Accuracy: 0.9748\n",
      "\n"
     ]
    },
    {
     "name": "stdout",
     "output_type": "stream",
     "text": [
      "Epoch 220, Loss 0.0177\n",
      "Training Accuracy: 0.9818, Testing Accuracy: 0.9753\n",
      "\n"
     ]
    },
    {
     "name": "stdout",
     "output_type": "stream",
     "text": [
      "Epoch 230, Loss 0.0173\n",
      "Training Accuracy: 0.9820, Testing Accuracy: 0.9748\n",
      "\n"
     ]
    },
    {
     "name": "stdout",
     "output_type": "stream",
     "text": [
      "Epoch 240, Loss 0.0169\n",
      "Training Accuracy: 0.9827, Testing Accuracy: 0.9753\n",
      "\n"
     ]
    },
    {
     "data": {
      "text/plain": [
       "0.03162831696504297"
      ]
     },
     "execution_count": 22,
     "metadata": {},
     "output_type": "execute_result"
    }
   ],
   "source": [
    "nn_learner.train_loop(dl)"
   ]
  },
  {
   "cell_type": "code",
   "execution_count": 23,
   "id": "e0163366",
   "metadata": {
    "execution": {
     "iopub.execute_input": "2022-11-24T20:12:54.147523Z",
     "iopub.status.busy": "2022-11-24T20:12:54.146961Z",
     "iopub.status.idle": "2022-11-24T20:13:06.281552Z",
     "shell.execute_reply": "2022-11-24T20:13:06.281976Z"
    },
    "papermill": {
     "duration": 12.173956,
     "end_time": "2022-11-24T20:13:06.282108",
     "exception": false,
     "start_time": "2022-11-24T20:12:54.108152",
     "status": "completed"
    },
    "tags": []
   },
   "outputs": [
    {
     "name": "stdout",
     "output_type": "stream",
     "text": [
      "Epoch 0, Loss 0.2256\n",
      "Training Accuracy: 0.7248, Testing Accuracy: 0.7379\n",
      "\n"
     ]
    },
    {
     "name": "stdout",
     "output_type": "stream",
     "text": [
      "Epoch 10, Loss 0.1005\n",
      "Training Accuracy: 0.9135, Testing Accuracy: 0.9249\n",
      "\n"
     ]
    },
    {
     "name": "stdout",
     "output_type": "stream",
     "text": [
      "Epoch 20, Loss 0.0774\n",
      "Training Accuracy: 0.9308, Testing Accuracy: 0.9375\n",
      "\n"
     ]
    },
    {
     "name": "stdout",
     "output_type": "stream",
     "text": [
      "Epoch 30, Loss 0.0668\n",
      "Training Accuracy: 0.9387, Testing Accuracy: 0.9476\n",
      "\n"
     ]
    },
    {
     "name": "stdout",
     "output_type": "stream",
     "text": [
      "Epoch 40, Loss 0.0604\n",
      "Training Accuracy: 0.9440, Testing Accuracy: 0.9501\n",
      "\n"
     ]
    },
    {
     "name": "stdout",
     "output_type": "stream",
     "text": [
      "Epoch 50, Loss 0.0561\n",
      "Training Accuracy: 0.9463, Testing Accuracy: 0.9531\n",
      "\n"
     ]
    },
    {
     "name": "stdout",
     "output_type": "stream",
     "text": [
      "Epoch 60, Loss 0.0529\n",
      "Training Accuracy: 0.9489, Testing Accuracy: 0.9556\n",
      "\n"
     ]
    },
    {
     "name": "stdout",
     "output_type": "stream",
     "text": [
      "Epoch 70, Loss 0.0504\n",
      "Training Accuracy: 0.9504, Testing Accuracy: 0.9587\n",
      "\n"
     ]
    },
    {
     "name": "stdout",
     "output_type": "stream",
     "text": [
      "Epoch 80, Loss 0.0485\n",
      "Training Accuracy: 0.9519, Testing Accuracy: 0.9607\n",
      "\n"
     ]
    },
    {
     "name": "stdout",
     "output_type": "stream",
     "text": [
      "Epoch 90, Loss 0.0469\n",
      "Training Accuracy: 0.9527, Testing Accuracy: 0.9627\n",
      "\n"
     ]
    },
    {
     "name": "stdout",
     "output_type": "stream",
     "text": [
      "Epoch 100, Loss 0.0455\n",
      "Training Accuracy: 0.9541, Testing Accuracy: 0.9632\n",
      "\n"
     ]
    },
    {
     "name": "stdout",
     "output_type": "stream",
     "text": [
      "Epoch 110, Loss 0.0443\n",
      "Training Accuracy: 0.9551, Testing Accuracy: 0.9637\n",
      "\n"
     ]
    },
    {
     "name": "stdout",
     "output_type": "stream",
     "text": [
      "Epoch 120, Loss 0.0433\n",
      "Training Accuracy: 0.9555, Testing Accuracy: 0.9637\n",
      "\n"
     ]
    },
    {
     "name": "stdout",
     "output_type": "stream",
     "text": [
      "Epoch 130, Loss 0.0424\n",
      "Training Accuracy: 0.9562, Testing Accuracy: 0.9642\n",
      "\n"
     ]
    },
    {
     "name": "stdout",
     "output_type": "stream",
     "text": [
      "Epoch 140, Loss 0.0416\n",
      "Training Accuracy: 0.9569, Testing Accuracy: 0.9657\n",
      "\n"
     ]
    },
    {
     "name": "stdout",
     "output_type": "stream",
     "text": [
      "Epoch 150, Loss 0.0409\n",
      "Training Accuracy: 0.9575, Testing Accuracy: 0.9662\n",
      "\n"
     ]
    },
    {
     "name": "stdout",
     "output_type": "stream",
     "text": [
      "Epoch 160, Loss 0.0402\n",
      "Training Accuracy: 0.9581, Testing Accuracy: 0.9667\n",
      "\n"
     ]
    },
    {
     "name": "stdout",
     "output_type": "stream",
     "text": [
      "Epoch 170, Loss 0.0397\n",
      "Training Accuracy: 0.9588, Testing Accuracy: 0.9667\n",
      "\n"
     ]
    },
    {
     "name": "stdout",
     "output_type": "stream",
     "text": [
      "Epoch 180, Loss 0.0391\n",
      "Training Accuracy: 0.9590, Testing Accuracy: 0.9667\n",
      "\n"
     ]
    },
    {
     "name": "stdout",
     "output_type": "stream",
     "text": [
      "Epoch 190, Loss 0.0386\n",
      "Training Accuracy: 0.9595, Testing Accuracy: 0.9667\n",
      "\n"
     ]
    },
    {
     "name": "stdout",
     "output_type": "stream",
     "text": [
      "Epoch 200, Loss 0.0382\n",
      "Training Accuracy: 0.9600, Testing Accuracy: 0.9662\n",
      "\n"
     ]
    },
    {
     "name": "stdout",
     "output_type": "stream",
     "text": [
      "Epoch 210, Loss 0.0377\n",
      "Training Accuracy: 0.9602, Testing Accuracy: 0.9662\n",
      "\n"
     ]
    },
    {
     "name": "stdout",
     "output_type": "stream",
     "text": [
      "Epoch 220, Loss 0.0373\n",
      "Training Accuracy: 0.9604, Testing Accuracy: 0.9667\n",
      "\n"
     ]
    },
    {
     "name": "stdout",
     "output_type": "stream",
     "text": [
      "Epoch 230, Loss 0.037\n",
      "Training Accuracy: 0.9609, Testing Accuracy: 0.9667\n",
      "\n"
     ]
    },
    {
     "name": "stdout",
     "output_type": "stream",
     "text": [
      "Epoch 240, Loss 0.0366\n",
      "Training Accuracy: 0.9609, Testing Accuracy: 0.9672\n",
      "\n"
     ]
    },
    {
     "data": {
      "text/plain": [
       "0.009697105818496025"
      ]
     },
     "execution_count": 23,
     "metadata": {},
     "output_type": "execute_result"
    }
   ],
   "source": [
    "lr_learner.train_loop(dl)"
   ]
  },
  {
   "cell_type": "code",
   "execution_count": 24,
   "id": "ca410940",
   "metadata": {
    "execution": {
     "iopub.execute_input": "2022-11-24T20:13:06.377816Z",
     "iopub.status.busy": "2022-11-24T20:13:06.375348Z",
     "iopub.status.idle": "2022-11-24T20:13:06.602365Z",
     "shell.execute_reply": "2022-11-24T20:13:06.601897Z"
    },
    "papermill": {
     "duration": 0.277322,
     "end_time": "2022-11-24T20:13:06.602471",
     "exception": false,
     "start_time": "2022-11-24T20:13:06.325149",
     "status": "completed"
    },
    "tags": []
   },
   "outputs": [
    {
     "data": {
      "text/plain": [
       "<matplotlib.legend.Legend at 0x7f1d3ce04470>"
      ]
     },
     "execution_count": 24,
     "metadata": {},
     "output_type": "execute_result"
    },
    {
     "data": {
      "image/png": "[encoded data removed]",
      "text/plain": [
       "<Figure size 1080x720 with 1 Axes>"
      ]
     },
     "metadata": {
      "needs_background": "light"
     },
     "output_type": "display_data"
    }
   ],
   "source": [
    "#comparing the results of NN and LR\n",
    "plt.figure(figsize=(15,10))\n",
    "\n",
    "# Neural Network plots\n",
    "plt.plot(acc_nn.accuracies, 'r-', label = \"Training Accuracies - NN\")\n",
    "plt.plot(acc_nn.test_accuracies, 'g-', label = \"Testing Accuracies - NN\")\n",
    "\n",
    "# Logistic Regression plots\n",
    "plt.plot(acc_lr.accuracies, 'k-', label = \"Training Accuracies - LR\")\n",
    "plt.plot(acc_lr.test_accuracies, 'b-', label = \"Testing Accuracies - LR\")\n",
    "plt.legend()"
   ]
  },
  {
   "cell_type": "markdown",
   "id": "80dfb35c",
   "metadata": {
    "papermill": {
     "duration": 0.043104,
     "end_time": "2022-11-24T20:13:06.688787",
     "exception": false,
     "start_time": "2022-11-24T20:13:06.645683",
     "status": "completed"
    },
    "tags": []
   },
   "source": [
    "#### Plotting the outputs of this layer of the NN.\n"
   ]
  },
  {
   "cell_type": "code",
   "execution_count": 25,
   "id": "45eb2ff5",
   "metadata": {
    "execution": {
     "iopub.execute_input": "2022-11-24T20:13:06.781237Z",
     "iopub.status.busy": "2022-11-24T20:13:06.779776Z",
     "iopub.status.idle": "2022-11-24T20:13:06.815371Z",
     "shell.execute_reply": "2022-11-24T20:13:06.814901Z"
    },
    "papermill": {
     "duration": 0.083814,
     "end_time": "2022-11-24T20:13:06.815475",
     "exception": false,
     "start_time": "2022-11-24T20:13:06.731661",
     "status": "completed"
    },
    "tags": []
   },
   "outputs": [],
   "source": [
    "new_model = Model(layers[:-2])\n",
    "testing_plot = new_model(testing_data_x)"
   ]
  },
  {
   "cell_type": "code",
   "execution_count": 26,
   "id": "4c0a5485",
   "metadata": {
    "execution": {
     "iopub.execute_input": "2022-11-24T20:13:06.909352Z",
     "iopub.status.busy": "2022-11-24T20:13:06.907849Z",
     "iopub.status.idle": "2022-11-24T20:13:07.093963Z",
     "shell.execute_reply": "2022-11-24T20:13:07.094406Z"
    },
    "papermill": {
     "duration": 0.235337,
     "end_time": "2022-11-24T20:13:07.094532",
     "exception": false,
     "start_time": "2022-11-24T20:13:06.859195",
     "status": "completed"
    },
    "tags": []
   },
   "outputs": [
    {
     "data": {
      "text/plain": [
       "Text(0.5, 1.0, 'Outputs')"
      ]
     },
     "execution_count": 26,
     "metadata": {},
     "output_type": "execute_result"
    },
    {
     "data": {
      "image/png": "[encoded data removed]",
      "text/plain": [
       "<Figure size 576x504 with 1 Axes>"
      ]
     },
     "metadata": {
      "needs_background": "light"
     },
     "output_type": "display_data"
    }
   ],
   "source": [
    "# Plotting the scatter plot of points and color coding by class\n",
    "plt.figure(figsize=(8,7))\n",
    "plt.scatter(testing_plot[:,0], testing_plot[:,1], alpha = 0.1, c = y_test.ravel());\n",
    "plt.title('Outputs')"
   ]
  },
  {
   "cell_type": "markdown",
   "id": "a74fcf8f",
   "metadata": {
    "papermill": {
     "duration": 0.044927,
     "end_time": "2022-11-24T20:13:07.206473",
     "exception": false,
     "start_time": "2022-11-24T20:13:07.161546",
     "status": "completed"
    },
    "tags": []
   },
   "source": [
    "Probability contours"
   ]
  },
  {
   "cell_type": "code",
   "execution_count": 27,
   "id": "d0afc8e3",
   "metadata": {
    "execution": {
     "iopub.execute_input": "2022-11-24T20:13:07.300482Z",
     "iopub.status.busy": "2022-11-24T20:13:07.299926Z",
     "iopub.status.idle": "2022-11-24T20:13:07.311361Z",
     "shell.execute_reply": "2022-11-24T20:13:07.310901Z"
    },
    "papermill": {
     "duration": 0.059959,
     "end_time": "2022-11-24T20:13:07.311463",
     "exception": false,
     "start_time": "2022-11-24T20:13:07.251504",
     "status": "completed"
    },
    "tags": []
   },
   "outputs": [],
   "source": [
    "model_prob = Model(layers[-2:]) "
   ]
  },
  {
   "cell_type": "code",
   "execution_count": 28,
   "id": "9b96e238",
   "metadata": {
    "execution": {
     "iopub.execute_input": "2022-11-24T20:13:07.409571Z",
     "iopub.status.busy": "2022-11-24T20:13:07.407000Z",
     "iopub.status.idle": "2022-11-24T20:13:07.421437Z",
     "shell.execute_reply": "2022-11-24T20:13:07.421865Z"
    },
    "papermill": {
     "duration": 0.065419,
     "end_time": "2022-11-24T20:13:07.421995",
     "exception": false,
     "start_time": "2022-11-24T20:13:07.356576",
     "status": "completed"
    },
    "tags": []
   },
   "outputs": [],
   "source": [
    "#creating the x and y ranges according to the above generated plot.\n",
    "x_range = np.linspace(-4, 1, 100) \n",
    "y_range = np.linspace(-6, 6, 100) \n",
    "x_grid, y_grid = np.meshgrid(x_range, y_range) # x_grid and y_grig are of size 100 X 100\n",
    "\n",
    "# converting x_grid and y_grid to continuous arrays\n",
    "x_gridflat = np.ravel(x_grid)\n",
    "y_gridflat = np.ravel(y_grid)\n",
    "\n",
    "# The last layer of the current model takes two columns as input. Hence transpose of np.vstack() is required.\n",
    "X = np.vstack((x_gridflat, y_gridflat)).T\n",
    "\n",
    "prob_contour = model_prob(X).reshape(100,100) "
   ]
  },
  {
   "cell_type": "code",
   "execution_count": 29,
   "id": "da72499a",
   "metadata": {
    "execution": {
     "iopub.execute_input": "2022-11-24T20:13:07.521174Z",
     "iopub.status.busy": "2022-11-24T20:13:07.519586Z",
     "iopub.status.idle": "2022-11-24T20:13:07.758544Z",
     "shell.execute_reply": "2022-11-24T20:13:07.757798Z"
    },
    "papermill": {
     "duration": 0.289822,
     "end_time": "2022-11-24T20:13:07.758655",
     "exception": false,
     "start_time": "2022-11-24T20:13:07.468833",
     "status": "completed"
    },
    "tags": []
   },
   "outputs": [
    {
     "data": {
      "image/png": "[encoded data removed]",
      "text/plain": [
       "<Figure size 720x648 with 1 Axes>"
      ]
     },
     "metadata": {
      "needs_background": "light"
     },
     "output_type": "display_data"
    }
   ],
   "source": [
    "plt.figure(figsize=(10,9))\n",
    "plt.scatter(testing_plot[:,0], testing_plot[:,1], alpha = 0.1, c = y_test.ravel())\n",
    "contours = plt.contour(x_grid,y_grid,prob_contour)\n",
    "plt.title('Probability Contours')\n",
    "plt.clabel(contours, inline = True );"
   ]
  },
  {
   "cell_type": "code",
   "execution_count": null,
   "id": "e81b4ac7",
   "metadata": {
    "papermill": {
     "duration": 0.04739,
     "end_time": "2022-11-24T20:13:07.854677",
     "exception": false,
     "start_time": "2022-11-24T20:13:07.807287",
     "status": "completed"
    },
    "tags": []
   },
   "outputs": [],
   "source": []
  }
 ],
 "metadata": {
  "kernelspec": {
   "display_name": "Python 3",
   "language": "python",
   "name": "python3"
  },
  "language_info": {
   "codemirror_mode": {
    "name": "ipython",
    "version": 3
   },
   "file_extension": ".py",
   "mimetype": "text/x-python",
   "name": "python",
   "nbconvert_exporter": "python",
   "pygments_lexer": "ipython3",
   "version": "3.6.15"
  },
  "papermill": {
   "default_parameters": {},
   "duration": 194.917137,
   "end_time": "2022-11-24T20:13:08.322269",
   "environment_variables": {},
   "exception": null,
   "input_path": "2020-08-11-part2.ipynb",
   "output_path": "2020-08-11-part2.ipynb",
   "parameters": {},
   "start_time": "2022-11-24T20:09:53.405132",
   "version": "2.3.3"
  }
 },
 "nbformat": 4,
 "nbformat_minor": 5
}