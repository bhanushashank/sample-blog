{
 "cells": [
  {
   "cell_type": "markdown",
   "id": "98380cd3",
   "metadata": {
    "papermill": {
     "duration": 0.028781,
     "end_time": "2022-04-15T10:09:32.336284",
     "exception": false,
     "start_time": "2022-04-15T10:09:32.307503",
     "status": "completed"
    },
    "tags": []
   },
   "source": [
    "# Distinguish Your Own Digits (DYOD)"
   ]
  },
  {
   "cell_type": "markdown",
   "id": "ef31240d",
   "metadata": {
    "papermill": {
     "duration": 0.025535,
     "end_time": "2022-04-15T10:09:32.387014",
     "exception": false,
     "start_time": "2022-04-15T10:09:32.361479",
     "status": "completed"
    },
    "tags": []
   },
   "source": [
    "You are going to write a classifier that distinguishes between the number 3 and number 8."
   ]
  },
  {
   "cell_type": "code",
   "execution_count": 1,
   "id": "b15c8646",
   "metadata": {
    "execution": {
     "iopub.execute_input": "2022-04-15T10:09:32.447164Z",
     "iopub.status.busy": "2022-04-15T10:09:32.446625Z",
     "iopub.status.idle": "2022-04-15T10:09:32.457242Z",
     "shell.execute_reply": "2022-04-15T10:09:32.456801Z"
    },
    "papermill": {
     "duration": 0.045438,
     "end_time": "2022-04-15T10:09:32.457403",
     "exception": false,
     "start_time": "2022-04-15T10:09:32.411965",
     "status": "completed"
    },
    "tags": []
   },
   "outputs": [],
   "source": [
    "%load_ext autoreload\n",
    "%autoreload 2"
   ]
  },
  {
   "cell_type": "code",
   "execution_count": 2,
   "id": "22ef38dc",
   "metadata": {
    "execution": {
     "iopub.execute_input": "2022-04-15T10:09:32.510221Z",
     "iopub.status.busy": "2022-04-15T10:09:32.509689Z",
     "iopub.status.idle": "2022-04-15T10:09:33.050916Z",
     "shell.execute_reply": "2022-04-15T10:09:33.051417Z"
    },
    "papermill": {
     "duration": 0.569609,
     "end_time": "2022-04-15T10:09:33.051597",
     "exception": false,
     "start_time": "2022-04-15T10:09:32.481988",
     "status": "completed"
    },
    "tags": []
   },
   "outputs": [],
   "source": [
    "%matplotlib inline\n",
    "import numpy as np\n",
    "import matplotlib.pyplot as plt\n",
    "import pandas as pd"
   ]
  },
  {
   "cell_type": "markdown",
   "id": "ba036198",
   "metadata": {
    "papermill": {
     "duration": 0.021066,
     "end_time": "2022-04-15T10:09:33.094113",
     "exception": false,
     "start_time": "2022-04-15T10:09:33.073047",
     "status": "completed"
    },
    "tags": []
   },
   "source": [
    "From the command line run `pip install mnist`. This is a library that will help you bring down the mnist dataset. If you run this from a notebook, you need to put  `!pip install mnist` in a cell by itself."
   ]
  },
  {
   "cell_type": "code",
   "execution_count": 3,
   "id": "bb6ad8a1",
   "metadata": {
    "execution": {
     "iopub.execute_input": "2022-04-15T10:09:33.140615Z",
     "iopub.status.busy": "2022-04-15T10:09:33.140155Z",
     "iopub.status.idle": "2022-04-15T10:09:34.762689Z",
     "shell.execute_reply": "2022-04-15T10:09:34.762041Z"
    },
    "papermill": {
     "duration": 1.647665,
     "end_time": "2022-04-15T10:09:34.762836",
     "exception": false,
     "start_time": "2022-04-15T10:09:33.115171",
     "status": "completed"
    },
    "tags": []
   },
   "outputs": [
    {
     "name": "stdout",
     "output_type": "stream",
     "text": [
      "Collecting mnist\r\n"
     ]
    },
    {
     "name": "stdout",
     "output_type": "stream",
     "text": [
      "  Downloading mnist-0.2.2-py2.py3-none-any.whl (3.5 kB)\r\n",
      "Requirement already satisfied: numpy in /opt/hostedtoolcache/Python/3.6.15/x64/lib/python3.6/site-packages (from mnist) (1.19.5)\r\n"
     ]
    },
    {
     "name": "stdout",
     "output_type": "stream",
     "text": [
      "Installing collected packages: mnist\r\n",
      "Successfully installed mnist-0.2.2\r\n"
     ]
    }
   ],
   "source": [
    "!pip install mnist"
   ]
  },
  {
   "cell_type": "markdown",
   "id": "69df9c9a",
   "metadata": {
    "papermill": {
     "duration": 0.025413,
     "end_time": "2022-04-15T10:09:34.813552",
     "exception": false,
     "start_time": "2022-04-15T10:09:34.788139",
     "status": "completed"
    },
    "tags": []
   },
   "source": [
    "## Preparing the Data"
   ]
  },
  {
   "cell_type": "code",
   "execution_count": 4,
   "id": "7f69d806",
   "metadata": {
    "execution": {
     "iopub.execute_input": "2022-04-15T10:09:34.870248Z",
     "iopub.status.busy": "2022-04-15T10:09:34.869719Z",
     "iopub.status.idle": "2022-04-15T10:09:34.881190Z",
     "shell.execute_reply": "2022-04-15T10:09:34.880764Z"
    },
    "papermill": {
     "duration": 0.042944,
     "end_time": "2022-04-15T10:09:34.881310",
     "exception": false,
     "start_time": "2022-04-15T10:09:34.838366",
     "status": "completed"
    },
    "tags": []
   },
   "outputs": [],
   "source": [
    "import mnist"
   ]
  },
  {
   "cell_type": "code",
   "execution_count": 5,
   "id": "a411e44f",
   "metadata": {
    "execution": {
     "iopub.execute_input": "2022-04-15T10:09:34.935390Z",
     "iopub.status.busy": "2022-04-15T10:09:34.934841Z",
     "iopub.status.idle": "2022-04-15T10:09:35.458151Z",
     "shell.execute_reply": "2022-04-15T10:09:35.457476Z"
    },
    "papermill": {
     "duration": 0.551695,
     "end_time": "2022-04-15T10:09:35.458294",
     "exception": false,
     "start_time": "2022-04-15T10:09:34.906599",
     "status": "completed"
    },
    "tags": []
   },
   "outputs": [],
   "source": [
    "train_images = mnist.train_images()\n",
    "train_labels = mnist.train_labels()"
   ]
  },
  {
   "cell_type": "code",
   "execution_count": 6,
   "id": "dceab3a5",
   "metadata": {
    "execution": {
     "iopub.execute_input": "2022-04-15T10:09:35.523946Z",
     "iopub.status.busy": "2022-04-15T10:09:35.522197Z",
     "iopub.status.idle": "2022-04-15T10:09:35.531522Z",
     "shell.execute_reply": "2022-04-15T10:09:35.531087Z"
    },
    "papermill": {
     "duration": 0.048115,
     "end_time": "2022-04-15T10:09:35.531632",
     "exception": false,
     "start_time": "2022-04-15T10:09:35.483517",
     "status": "completed"
    },
    "tags": []
   },
   "outputs": [
    {
     "data": {
      "text/plain": [
       "((60000, 28, 28), (60000,))"
      ]
     },
     "execution_count": 6,
     "metadata": {},
     "output_type": "execute_result"
    }
   ],
   "source": [
    "train_images.shape, train_labels.shape"
   ]
  },
  {
   "cell_type": "code",
   "execution_count": 7,
   "id": "f50dc2bb",
   "metadata": {
    "execution": {
     "iopub.execute_input": "2022-04-15T10:09:35.585446Z",
     "iopub.status.busy": "2022-04-15T10:09:35.584907Z",
     "iopub.status.idle": "2022-04-15T10:09:35.721452Z",
     "shell.execute_reply": "2022-04-15T10:09:35.720862Z"
    },
    "papermill": {
     "duration": 0.164721,
     "end_time": "2022-04-15T10:09:35.721611",
     "exception": false,
     "start_time": "2022-04-15T10:09:35.556890",
     "status": "completed"
    },
    "tags": []
   },
   "outputs": [],
   "source": [
    "test_images = mnist.test_images()\n",
    "test_labels = mnist.test_labels()"
   ]
  },
  {
   "cell_type": "code",
   "execution_count": 8,
   "id": "fc38cf1b",
   "metadata": {
    "execution": {
     "iopub.execute_input": "2022-04-15T10:09:35.786279Z",
     "iopub.status.busy": "2022-04-15T10:09:35.782107Z",
     "iopub.status.idle": "2022-04-15T10:09:35.792500Z",
     "shell.execute_reply": "2022-04-15T10:09:35.792064Z"
    },
    "papermill": {
     "duration": 0.045117,
     "end_time": "2022-04-15T10:09:35.792612",
     "exception": false,
     "start_time": "2022-04-15T10:09:35.747495",
     "status": "completed"
    },
    "tags": []
   },
   "outputs": [
    {
     "data": {
      "text/plain": [
       "((10000, 28, 28), (10000,))"
      ]
     },
     "execution_count": 8,
     "metadata": {},
     "output_type": "execute_result"
    }
   ],
   "source": [
    "test_images.shape, test_labels.shape"
   ]
  },
  {
   "cell_type": "code",
   "execution_count": 9,
   "id": "f9ed8fe0",
   "metadata": {
    "execution": {
     "iopub.execute_input": "2022-04-15T10:09:35.847182Z",
     "iopub.status.busy": "2022-04-15T10:09:35.846689Z",
     "iopub.status.idle": "2022-04-15T10:09:35.985188Z",
     "shell.execute_reply": "2022-04-15T10:09:35.985720Z"
    },
    "papermill": {
     "duration": 0.167965,
     "end_time": "2022-04-15T10:09:35.985896",
     "exception": false,
     "start_time": "2022-04-15T10:09:35.817931",
     "status": "completed"
    },
    "tags": []
   },
   "outputs": [
    {
     "name": "stdout",
     "output_type": "stream",
     "text": [
      "2\n"
     ]
    },
    {
     "data": {
      "text/plain": [
       "<matplotlib.image.AxesImage at 0x7fec6bae6358>"
      ]
     },
     "execution_count": 9,
     "metadata": {},
     "output_type": "execute_result"
    },
    {
     "data": {
      "image/png": "[encoded data removed]",
      "text/plain": [
       "<Figure size 432x288 with 1 Axes>"
      ]
     },
     "metadata": {
      "needs_background": "light"
     },
     "output_type": "display_data"
    }
   ],
   "source": [
    "image_index = 7776 # You may select anything up to 60,000\n",
    "print(train_labels[image_index]) \n",
    "plt.imshow(train_images[image_index], cmap='Greys')"
   ]
  },
  {
   "cell_type": "markdown",
   "id": "a8d2388d",
   "metadata": {
    "papermill": {
     "duration": 0.026286,
     "end_time": "2022-04-15T10:09:36.038838",
     "exception": false,
     "start_time": "2022-04-15T10:09:36.012552",
     "status": "completed"
    },
    "tags": []
   },
   "source": [
    "## Filter data to get 3 and 8 out"
   ]
  },
  {
   "cell_type": "code",
   "execution_count": 10,
   "id": "776f7fc7",
   "metadata": {
    "execution": {
     "iopub.execute_input": "2022-04-15T10:09:36.097747Z",
     "iopub.status.busy": "2022-04-15T10:09:36.097158Z",
     "iopub.status.idle": "2022-04-15T10:09:36.112948Z",
     "shell.execute_reply": "2022-04-15T10:09:36.112502Z"
    },
    "papermill": {
     "duration": 0.048052,
     "end_time": "2022-04-15T10:09:36.113064",
     "exception": false,
     "start_time": "2022-04-15T10:09:36.065012",
     "status": "completed"
    },
    "tags": []
   },
   "outputs": [],
   "source": [
    "train_filter = np.where((train_labels == 3 ) | (train_labels == 8))\n",
    "test_filter = np.where((test_labels == 3) | (test_labels == 8))\n",
    "X_train, y_train = train_images[train_filter], train_labels[train_filter]\n",
    "X_test, y_test = test_images[test_filter], test_labels[test_filter]"
   ]
  },
  {
   "cell_type": "markdown",
   "id": "948f0b7e",
   "metadata": {
    "papermill": {
     "duration": 0.026188,
     "end_time": "2022-04-15T10:09:36.166101",
     "exception": false,
     "start_time": "2022-04-15T10:09:36.139913",
     "status": "completed"
    },
    "tags": []
   },
   "source": [
    "We normalize the pizel values in the 0 to 1 range"
   ]
  },
  {
   "cell_type": "code",
   "execution_count": 11,
   "id": "ee4c2166",
   "metadata": {
    "execution": {
     "iopub.execute_input": "2022-04-15T10:09:36.222232Z",
     "iopub.status.busy": "2022-04-15T10:09:36.221708Z",
     "iopub.status.idle": "2022-04-15T10:09:36.267722Z",
     "shell.execute_reply": "2022-04-15T10:09:36.267185Z"
    },
    "papermill": {
     "duration": 0.07561,
     "end_time": "2022-04-15T10:09:36.267871",
     "exception": false,
     "start_time": "2022-04-15T10:09:36.192261",
     "status": "completed"
    },
    "tags": []
   },
   "outputs": [],
   "source": [
    "X_train = X_train/255.\n",
    "X_test = X_test/255."
   ]
  },
  {
   "cell_type": "markdown",
   "id": "ddcf4fab",
   "metadata": {
    "papermill": {
     "duration": 0.026386,
     "end_time": "2022-04-15T10:09:36.321416",
     "exception": false,
     "start_time": "2022-04-15T10:09:36.295030",
     "status": "completed"
    },
    "tags": []
   },
   "source": [
    "And setup the labels as 1 (when the digit is 3) and 0 (when the digit is 8)"
   ]
  },
  {
   "cell_type": "code",
   "execution_count": 12,
   "id": "7dc908f2",
   "metadata": {
    "execution": {
     "iopub.execute_input": "2022-04-15T10:09:36.379358Z",
     "iopub.status.busy": "2022-04-15T10:09:36.378775Z",
     "iopub.status.idle": "2022-04-15T10:09:36.390680Z",
     "shell.execute_reply": "2022-04-15T10:09:36.391092Z"
    },
    "papermill": {
     "duration": 0.043686,
     "end_time": "2022-04-15T10:09:36.391223",
     "exception": false,
     "start_time": "2022-04-15T10:09:36.347537",
     "status": "completed"
    },
    "tags": []
   },
   "outputs": [],
   "source": [
    "y_train = 1*(y_train==3)\n",
    "y_test = 1*(y_test==3)"
   ]
  },
  {
   "cell_type": "code",
   "execution_count": 13,
   "id": "01e4e969",
   "metadata": {
    "execution": {
     "iopub.execute_input": "2022-04-15T10:09:36.457436Z",
     "iopub.status.busy": "2022-04-15T10:09:36.449679Z",
     "iopub.status.idle": "2022-04-15T10:09:36.459933Z",
     "shell.execute_reply": "2022-04-15T10:09:36.460319Z"
    },
    "papermill": {
     "duration": 0.043016,
     "end_time": "2022-04-15T10:09:36.460457",
     "exception": false,
     "start_time": "2022-04-15T10:09:36.417441",
     "status": "completed"
    },
    "tags": []
   },
   "outputs": [
    {
     "data": {
      "text/plain": [
       "((11982, 28, 28), (1984, 28, 28))"
      ]
     },
     "execution_count": 13,
     "metadata": {},
     "output_type": "execute_result"
    }
   ],
   "source": [
    "X_train.shape, X_test.shape"
   ]
  },
  {
   "cell_type": "markdown",
   "id": "5ccf3f85",
   "metadata": {
    "papermill": {
     "duration": 0.026438,
     "end_time": "2022-04-15T10:09:36.513447",
     "exception": false,
     "start_time": "2022-04-15T10:09:36.487009",
     "status": "completed"
    },
    "tags": []
   },
   "source": [
    "We reshape the data to flatten the image pixels into a set of features or co-variates:"
   ]
  },
  {
   "cell_type": "code",
   "execution_count": 14,
   "id": "5286a4a3",
   "metadata": {
    "execution": {
     "iopub.execute_input": "2022-04-15T10:09:36.570456Z",
     "iopub.status.busy": "2022-04-15T10:09:36.569942Z",
     "iopub.status.idle": "2022-04-15T10:09:36.584178Z",
     "shell.execute_reply": "2022-04-15T10:09:36.584620Z"
    },
    "papermill": {
     "duration": 0.04477,
     "end_time": "2022-04-15T10:09:36.584753",
     "exception": false,
     "start_time": "2022-04-15T10:09:36.539983",
     "status": "completed"
    },
    "tags": []
   },
   "outputs": [
    {
     "data": {
      "text/plain": [
       "((11982, 784), (1984, 784))"
      ]
     },
     "execution_count": 14,
     "metadata": {},
     "output_type": "execute_result"
    }
   ],
   "source": [
    "X_train = X_train.reshape(X_train.shape[0], -1)\n",
    "X_test = X_test.reshape(X_test.shape[0], -1)\n",
    "X_train.shape, X_test.shape"
   ]
  },
  {
   "cell_type": "code",
   "execution_count": 15,
   "id": "73c5f88a",
   "metadata": {
    "execution": {
     "iopub.execute_input": "2022-04-15T10:09:36.642711Z",
     "iopub.status.busy": "2022-04-15T10:09:36.642157Z",
     "iopub.status.idle": "2022-04-15T10:09:36.661952Z",
     "shell.execute_reply": "2022-04-15T10:09:36.661491Z"
    },
    "papermill": {
     "duration": 0.050555,
     "end_time": "2022-04-15T10:09:36.662070",
     "exception": false,
     "start_time": "2022-04-15T10:09:36.611515",
     "status": "completed"
    },
    "tags": []
   },
   "outputs": [],
   "source": [
    "#Impoting functions from 'Kudzu'\n",
    "from kudzu.model import Model\n",
    "from kudzu.train import Learner\n",
    "from kudzu.optim import GD\n",
    "from kudzu.data import Data, Sampler,Dataloader\n",
    "\n",
    "from kudzu.callbacks import AccCallback\n",
    "from kudzu.callbacks import ClfCallback\n",
    "\n",
    "from kudzu.loss import MSE\n",
    "\n",
    "from kudzu.layer import Sigmoid,Relu\n",
    "from kudzu.layer import Affine"
   ]
  },
  {
   "cell_type": "markdown",
   "id": "bc01172a",
   "metadata": {
    "papermill": {
     "duration": 0.026724,
     "end_time": "2022-04-15T10:09:36.715575",
     "exception": false,
     "start_time": "2022-04-15T10:09:36.688851",
     "status": "completed"
    },
    "tags": []
   },
   "source": [
    "### Let us create a `Config` class, to store important parameters. \n",
    "This class essentially plays the role of a dictionary."
   ]
  },
  {
   "cell_type": "code",
   "execution_count": 16,
   "id": "978281aa",
   "metadata": {
    "execution": {
     "iopub.execute_input": "2022-04-15T10:09:36.782076Z",
     "iopub.status.busy": "2022-04-15T10:09:36.778136Z",
     "iopub.status.idle": "2022-04-15T10:09:36.786259Z",
     "shell.execute_reply": "2022-04-15T10:09:36.785819Z"
    },
    "papermill": {
     "duration": 0.04418,
     "end_time": "2022-04-15T10:09:36.786376",
     "exception": false,
     "start_time": "2022-04-15T10:09:36.742196",
     "status": "completed"
    },
    "tags": []
   },
   "outputs": [],
   "source": [
    "class Config:\n",
    "    pass\n",
    "config = Config()\n",
    "config.lr = 0.001\n",
    "config.num_epochs = 250\n",
    "config.bs = 50"
   ]
  },
  {
   "cell_type": "markdown",
   "id": "1385fa59",
   "metadata": {
    "papermill": {
     "duration": 0.026686,
     "end_time": "2022-04-15T10:09:36.839841",
     "exception": false,
     "start_time": "2022-04-15T10:09:36.813155",
     "status": "completed"
    },
    "tags": []
   },
   "source": [
    "### Running Models with the Training data\n",
    "Details about the network layers:\n",
    "- A first affine layer has 784 inputs and does 100 affine transforms. These are followed by a Relu\n",
    "- A second affine layer has 100 inputs from the 100 activations of the past layer, and does 100 affine transforms. These are followed by a Relu\n",
    "- A third affine layer has 100 activations and does 2 affine transformations to create an embedding for visualization. There is no non-linearity here.\n",
    "- A final \"logistic regression\" which has an affine transform from 2 inputs to 1 output, which is squeezed through a sigmoid.\n"
   ]
  },
  {
   "cell_type": "code",
   "execution_count": 17,
   "id": "2b9c66db",
   "metadata": {
    "execution": {
     "iopub.execute_input": "2022-04-15T10:09:36.897367Z",
     "iopub.status.busy": "2022-04-15T10:09:36.896824Z",
     "iopub.status.idle": "2022-04-15T10:09:36.910117Z",
     "shell.execute_reply": "2022-04-15T10:09:36.909689Z"
    },
    "papermill": {
     "duration": 0.043656,
     "end_time": "2022-04-15T10:09:36.910233",
     "exception": false,
     "start_time": "2022-04-15T10:09:36.866577",
     "status": "completed"
    },
    "tags": []
   },
   "outputs": [],
   "source": [
    "data = Data(X_train, y_train.reshape(-1,1))\n",
    "sampler = Sampler(data, config.bs, shuffle=True)\n",
    "\n",
    "dl = Dataloader(data, sampler)\n",
    "\n",
    "opt = GD(config.lr)\n",
    "loss = MSE()"
   ]
  },
  {
   "cell_type": "code",
   "execution_count": 18,
   "id": "b275e4c2",
   "metadata": {
    "execution": {
     "iopub.execute_input": "2022-04-15T10:09:36.982831Z",
     "iopub.status.busy": "2022-04-15T10:09:36.980190Z",
     "iopub.status.idle": "2022-04-15T10:09:36.984990Z",
     "shell.execute_reply": "2022-04-15T10:09:36.985437Z"
    },
    "papermill": {
     "duration": 0.048614,
     "end_time": "2022-04-15T10:09:36.985579",
     "exception": false,
     "start_time": "2022-04-15T10:09:36.936965",
     "status": "completed"
    },
    "tags": []
   },
   "outputs": [],
   "source": [
    "training_data_x = X_train\n",
    "testing_data_x = X_test\n",
    "training_data_y = y_train.reshape(-1,1)\n",
    "testing_data_y = y_test.reshape(-1,1)"
   ]
  },
  {
   "cell_type": "code",
   "execution_count": 19,
   "id": "76951160",
   "metadata": {
    "execution": {
     "iopub.execute_input": "2022-04-15T10:09:37.054922Z",
     "iopub.status.busy": "2022-04-15T10:09:37.047940Z",
     "iopub.status.idle": "2022-04-15T10:09:37.061235Z",
     "shell.execute_reply": "2022-04-15T10:09:37.060792Z"
    },
    "papermill": {
     "duration": 0.049022,
     "end_time": "2022-04-15T10:09:37.061373",
     "exception": false,
     "start_time": "2022-04-15T10:09:37.012351",
     "status": "completed"
    },
    "tags": []
   },
   "outputs": [
    {
     "name": "stdout",
     "output_type": "stream",
     "text": [
      "xavier\n",
      "xavier\n",
      "xavier\n",
      "xavier\n",
      "xavier\n"
     ]
    }
   ],
   "source": [
    "layers = [Affine(\"first\", 784, 100), Relu(\"first\"), Affine(\"second\", 100, 100), Relu(\"second\"), Affine(\"third\", 100, 2), Affine(\"last\", 2, 1), Sigmoid(\"last\")]\n",
    "model_nn = Model(layers)\n",
    "model_lr = Model([Affine(\"logits\", 784, 1), Sigmoid(\"sigmoid\")])"
   ]
  },
  {
   "cell_type": "code",
   "execution_count": 20,
   "id": "6eede77a",
   "metadata": {
    "execution": {
     "iopub.execute_input": "2022-04-15T10:09:37.119498Z",
     "iopub.status.busy": "2022-04-15T10:09:37.118974Z",
     "iopub.status.idle": "2022-04-15T10:09:37.131386Z",
     "shell.execute_reply": "2022-04-15T10:09:37.130969Z"
    },
    "papermill": {
     "duration": 0.042891,
     "end_time": "2022-04-15T10:09:37.131503",
     "exception": false,
     "start_time": "2022-04-15T10:09:37.088612",
     "status": "completed"
    },
    "tags": []
   },
   "outputs": [],
   "source": [
    "nn_learner = Learner(loss, model_nn, opt, config.num_epochs)\n",
    "acc_nn = ClfCallback(nn_learner, config.bs, training_data_x , testing_data_x, training_data_y, testing_data_y)\n",
    "nn_learner.set_callbacks([acc_nn])"
   ]
  },
  {
   "cell_type": "code",
   "execution_count": 21,
   "id": "877b6cc7",
   "metadata": {
    "execution": {
     "iopub.execute_input": "2022-04-15T10:09:37.189958Z",
     "iopub.status.busy": "2022-04-15T10:09:37.189484Z",
     "iopub.status.idle": "2022-04-15T10:09:37.200750Z",
     "shell.execute_reply": "2022-04-15T10:09:37.200355Z"
    },
    "papermill": {
     "duration": 0.04223,
     "end_time": "2022-04-15T10:09:37.200848",
     "exception": false,
     "start_time": "2022-04-15T10:09:37.158618",
     "status": "completed"
    },
    "tags": []
   },
   "outputs": [],
   "source": [
    "lr_learner = Learner(loss, model_lr, opt, config.num_epochs)\n",
    "acc_lr = ClfCallback(lr_learner, config.bs, training_data_x , testing_data_x, training_data_y, testing_data_y)\n",
    "lr_learner.set_callbacks([acc_lr])"
   ]
  },
  {
   "cell_type": "code",
   "execution_count": 22,
   "id": "d9b133c3",
   "metadata": {
    "execution": {
     "iopub.execute_input": "2022-04-15T10:09:37.255479Z",
     "iopub.status.busy": "2022-04-15T10:09:37.255014Z",
     "iopub.status.idle": "2022-04-15T10:10:57.156912Z",
     "shell.execute_reply": "2022-04-15T10:10:57.157647Z"
    },
    "papermill": {
     "duration": 79.932629,
     "end_time": "2022-04-15T10:10:57.157796",
     "exception": false,
     "start_time": "2022-04-15T10:09:37.225167",
     "status": "completed"
    },
    "tags": []
   },
   "outputs": [
    {
     "name": "stdout",
     "output_type": "stream",
     "text": [
      "Epoch 0, Loss 0.2407\n",
      "Training Accuracy: 0.5753, Testing Accuracy: 0.5761\n",
      "\n"
     ]
    },
    {
     "name": "stdout",
     "output_type": "stream",
     "text": [
      "Epoch 10, Loss 0.1166\n",
      "Training Accuracy: 0.9039, Testing Accuracy: 0.9103\n",
      "\n"
     ]
    },
    {
     "name": "stdout",
     "output_type": "stream",
     "text": [
      "Epoch 20, Loss 0.0636\n",
      "Training Accuracy: 0.9367, Testing Accuracy: 0.9430\n",
      "\n"
     ]
    },
    {
     "name": "stdout",
     "output_type": "stream",
     "text": [
      "Epoch 30, Loss 0.0474\n",
      "Training Accuracy: 0.9497, Testing Accuracy: 0.9561\n",
      "\n"
     ]
    },
    {
     "name": "stdout",
     "output_type": "stream",
     "text": [
      "Epoch 40, Loss 0.0401\n",
      "Training Accuracy: 0.9562, Testing Accuracy: 0.9632\n",
      "\n"
     ]
    },
    {
     "name": "stdout",
     "output_type": "stream",
     "text": [
      "Epoch 50, Loss 0.036\n",
      "Training Accuracy: 0.9596, Testing Accuracy: 0.9652\n",
      "\n"
     ]
    },
    {
     "name": "stdout",
     "output_type": "stream",
     "text": [
      "Epoch 60, Loss 0.0332\n",
      "Training Accuracy: 0.9629, Testing Accuracy: 0.9662\n",
      "\n"
     ]
    },
    {
     "name": "stdout",
     "output_type": "stream",
     "text": [
      "Epoch 70, Loss 0.0312\n",
      "Training Accuracy: 0.9650, Testing Accuracy: 0.9667\n",
      "\n"
     ]
    },
    {
     "name": "stdout",
     "output_type": "stream",
     "text": [
      "Epoch 80, Loss 0.0296\n",
      "Training Accuracy: 0.9665, Testing Accuracy: 0.9682\n",
      "\n"
     ]
    },
    {
     "name": "stdout",
     "output_type": "stream",
     "text": [
      "Epoch 90, Loss 0.0283\n",
      "Training Accuracy: 0.9679, Testing Accuracy: 0.9688\n",
      "\n"
     ]
    },
    {
     "name": "stdout",
     "output_type": "stream",
     "text": [
      "Epoch 100, Loss 0.0272\n",
      "Training Accuracy: 0.9687, Testing Accuracy: 0.9693\n",
      "\n"
     ]
    },
    {
     "name": "stdout",
     "output_type": "stream",
     "text": [
      "Epoch 110, Loss 0.0262\n",
      "Training Accuracy: 0.9698, Testing Accuracy: 0.9698\n",
      "\n"
     ]
    },
    {
     "name": "stdout",
     "output_type": "stream",
     "text": [
      "Epoch 120, Loss 0.0253\n",
      "Training Accuracy: 0.9705, Testing Accuracy: 0.9713\n",
      "\n"
     ]
    },
    {
     "name": "stdout",
     "output_type": "stream",
     "text": [
      "Epoch 130, Loss 0.0246\n",
      "Training Accuracy: 0.9715, Testing Accuracy: 0.9718\n",
      "\n"
     ]
    },
    {
     "name": "stdout",
     "output_type": "stream",
     "text": [
      "Epoch 140, Loss 0.0239\n",
      "Training Accuracy: 0.9723, Testing Accuracy: 0.9723\n",
      "\n"
     ]
    },
    {
     "name": "stdout",
     "output_type": "stream",
     "text": [
      "Epoch 150, Loss 0.0232\n",
      "Training Accuracy: 0.9726, Testing Accuracy: 0.9728\n",
      "\n"
     ]
    },
    {
     "name": "stdout",
     "output_type": "stream",
     "text": [
      "Epoch 160, Loss 0.0227\n",
      "Training Accuracy: 0.9737, Testing Accuracy: 0.9723\n",
      "\n"
     ]
    },
    {
     "name": "stdout",
     "output_type": "stream",
     "text": [
      "Epoch 170, Loss 0.0221\n",
      "Training Accuracy: 0.9749, Testing Accuracy: 0.9733\n",
      "\n"
     ]
    },
    {
     "name": "stdout",
     "output_type": "stream",
     "text": [
      "Epoch 180, Loss 0.0216\n",
      "Training Accuracy: 0.9754, Testing Accuracy: 0.9728\n",
      "\n"
     ]
    },
    {
     "name": "stdout",
     "output_type": "stream",
     "text": [
      "Epoch 190, Loss 0.0211\n",
      "Training Accuracy: 0.9758, Testing Accuracy: 0.9723\n",
      "\n"
     ]
    },
    {
     "name": "stdout",
     "output_type": "stream",
     "text": [
      "Epoch 200, Loss 0.0206\n",
      "Training Accuracy: 0.9770, Testing Accuracy: 0.9723\n",
      "\n"
     ]
    },
    {
     "name": "stdout",
     "output_type": "stream",
     "text": [
      "Epoch 210, Loss 0.0201\n",
      "Training Accuracy: 0.9773, Testing Accuracy: 0.9723\n",
      "\n"
     ]
    },
    {
     "name": "stdout",
     "output_type": "stream",
     "text": [
      "Epoch 220, Loss 0.0197\n",
      "Training Accuracy: 0.9774, Testing Accuracy: 0.9723\n",
      "\n"
     ]
    },
    {
     "name": "stdout",
     "output_type": "stream",
     "text": [
      "Epoch 230, Loss 0.0193\n",
      "Training Accuracy: 0.9781, Testing Accuracy: 0.9728\n",
      "\n"
     ]
    },
    {
     "name": "stdout",
     "output_type": "stream",
     "text": [
      "Epoch 240, Loss 0.0189\n",
      "Training Accuracy: 0.9789, Testing Accuracy: 0.9738\n",
      "\n"
     ]
    },
    {
     "data": {
      "text/plain": [
       "0.030553226578656598"
      ]
     },
     "execution_count": 22,
     "metadata": {},
     "output_type": "execute_result"
    }
   ],
   "source": [
    "nn_learner.train_loop(dl)"
   ]
  },
  {
   "cell_type": "code",
   "execution_count": 23,
   "id": "e0163366",
   "metadata": {
    "execution": {
     "iopub.execute_input": "2022-04-15T10:10:57.229763Z",
     "iopub.status.busy": "2022-04-15T10:10:57.229262Z",
     "iopub.status.idle": "2022-04-15T10:11:12.234367Z",
     "shell.execute_reply": "2022-04-15T10:11:12.235048Z"
    },
    "papermill": {
     "duration": 15.046858,
     "end_time": "2022-04-15T10:11:12.235193",
     "exception": false,
     "start_time": "2022-04-15T10:10:57.188335",
     "status": "completed"
    },
    "tags": []
   },
   "outputs": [
    {
     "name": "stdout",
     "output_type": "stream",
     "text": [
      "Epoch 0, Loss 0.2663\n",
      "Training Accuracy: 0.5815, Testing Accuracy: 0.5338\n",
      "\n"
     ]
    },
    {
     "name": "stdout",
     "output_type": "stream",
     "text": [
      "Epoch 10, Loss 0.1072\n",
      "Training Accuracy: 0.9029, Testing Accuracy: 0.9153\n",
      "\n"
     ]
    },
    {
     "name": "stdout",
     "output_type": "stream",
     "text": [
      "Epoch 20, Loss 0.0814\n",
      "Training Accuracy: 0.9252, Testing Accuracy: 0.9360\n",
      "\n"
     ]
    },
    {
     "name": "stdout",
     "output_type": "stream",
     "text": [
      "Epoch 30, Loss 0.0698\n",
      "Training Accuracy: 0.9349, Testing Accuracy: 0.9441\n",
      "\n"
     ]
    },
    {
     "name": "stdout",
     "output_type": "stream",
     "text": [
      "Epoch 40, Loss 0.0628\n",
      "Training Accuracy: 0.9392, Testing Accuracy: 0.9496\n",
      "\n"
     ]
    },
    {
     "name": "stdout",
     "output_type": "stream",
     "text": [
      "Epoch 50, Loss 0.0581\n",
      "Training Accuracy: 0.9432, Testing Accuracy: 0.9526\n",
      "\n"
     ]
    },
    {
     "name": "stdout",
     "output_type": "stream",
     "text": [
      "Epoch 60, Loss 0.0547\n",
      "Training Accuracy: 0.9460, Testing Accuracy: 0.9577\n",
      "\n"
     ]
    },
    {
     "name": "stdout",
     "output_type": "stream",
     "text": [
      "Epoch 70, Loss 0.052\n",
      "Training Accuracy: 0.9481, Testing Accuracy: 0.9587\n",
      "\n"
     ]
    },
    {
     "name": "stdout",
     "output_type": "stream",
     "text": [
      "Epoch 80, Loss 0.0499\n",
      "Training Accuracy: 0.9505, Testing Accuracy: 0.9607\n",
      "\n"
     ]
    },
    {
     "name": "stdout",
     "output_type": "stream",
     "text": [
      "Epoch 90, Loss 0.0481\n",
      "Training Accuracy: 0.9517, Testing Accuracy: 0.9617\n",
      "\n"
     ]
    },
    {
     "name": "stdout",
     "output_type": "stream",
     "text": [
      "Epoch 100, Loss 0.0467\n",
      "Training Accuracy: 0.9533, Testing Accuracy: 0.9627\n",
      "\n"
     ]
    },
    {
     "name": "stdout",
     "output_type": "stream",
     "text": [
      "Epoch 110, Loss 0.0454\n",
      "Training Accuracy: 0.9539, Testing Accuracy: 0.9642\n",
      "\n"
     ]
    },
    {
     "name": "stdout",
     "output_type": "stream",
     "text": [
      "Epoch 120, Loss 0.0443\n",
      "Training Accuracy: 0.9543, Testing Accuracy: 0.9637\n",
      "\n"
     ]
    },
    {
     "name": "stdout",
     "output_type": "stream",
     "text": [
      "Epoch 130, Loss 0.0434\n",
      "Training Accuracy: 0.9548, Testing Accuracy: 0.9647\n",
      "\n"
     ]
    },
    {
     "name": "stdout",
     "output_type": "stream",
     "text": [
      "Epoch 140, Loss 0.0425\n",
      "Training Accuracy: 0.9553, Testing Accuracy: 0.9652\n",
      "\n"
     ]
    },
    {
     "name": "stdout",
     "output_type": "stream",
     "text": [
      "Epoch 150, Loss 0.0417\n",
      "Training Accuracy: 0.9560, Testing Accuracy: 0.9652\n",
      "\n"
     ]
    },
    {
     "name": "stdout",
     "output_type": "stream",
     "text": [
      "Epoch 160, Loss 0.0411\n",
      "Training Accuracy: 0.9564, Testing Accuracy: 0.9652\n",
      "\n"
     ]
    },
    {
     "name": "stdout",
     "output_type": "stream",
     "text": [
      "Epoch 170, Loss 0.0404\n",
      "Training Accuracy: 0.9569, Testing Accuracy: 0.9647\n",
      "\n"
     ]
    },
    {
     "name": "stdout",
     "output_type": "stream",
     "text": [
      "Epoch 180, Loss 0.0399\n",
      "Training Accuracy: 0.9574, Testing Accuracy: 0.9647\n",
      "\n"
     ]
    },
    {
     "name": "stdout",
     "output_type": "stream",
     "text": [
      "Epoch 190, Loss 0.0393\n",
      "Training Accuracy: 0.9579, Testing Accuracy: 0.9652\n",
      "\n"
     ]
    },
    {
     "name": "stdout",
     "output_type": "stream",
     "text": [
      "Epoch 200, Loss 0.0388\n",
      "Training Accuracy: 0.9580, Testing Accuracy: 0.9657\n",
      "\n"
     ]
    },
    {
     "name": "stdout",
     "output_type": "stream",
     "text": [
      "Epoch 210, Loss 0.0384\n",
      "Training Accuracy: 0.9579, Testing Accuracy: 0.9657\n",
      "\n"
     ]
    },
    {
     "name": "stdout",
     "output_type": "stream",
     "text": [
      "Epoch 220, Loss 0.038\n",
      "Training Accuracy: 0.9584, Testing Accuracy: 0.9657\n",
      "\n"
     ]
    },
    {
     "name": "stdout",
     "output_type": "stream",
     "text": [
      "Epoch 230, Loss 0.0376\n",
      "Training Accuracy: 0.9588, Testing Accuracy: 0.9657\n",
      "\n"
     ]
    },
    {
     "name": "stdout",
     "output_type": "stream",
     "text": [
      "Epoch 240, Loss 0.0372\n",
      "Training Accuracy: 0.9590, Testing Accuracy: 0.9657\n",
      "\n"
     ]
    },
    {
     "data": {
      "text/plain": [
       "0.013687397345841183"
      ]
     },
     "execution_count": 23,
     "metadata": {},
     "output_type": "execute_result"
    }
   ],
   "source": [
    "lr_learner.train_loop(dl)"
   ]
  },
  {
   "cell_type": "code",
   "execution_count": 24,
   "id": "ca410940",
   "metadata": {
    "execution": {
     "iopub.execute_input": "2022-04-15T10:11:12.322672Z",
     "iopub.status.busy": "2022-04-15T10:11:12.322178Z",
     "iopub.status.idle": "2022-04-15T10:11:12.522471Z",
     "shell.execute_reply": "2022-04-15T10:11:12.522004Z"
    },
    "papermill": {
     "duration": 0.250847,
     "end_time": "2022-04-15T10:11:12.522598",
     "exception": false,
     "start_time": "2022-04-15T10:11:12.271751",
     "status": "completed"
    },
    "tags": []
   },
   "outputs": [
    {
     "data": {
      "text/plain": [
       "<matplotlib.legend.Legend at 0x7fec5ef1aa90>"
      ]
     },
     "execution_count": 24,
     "metadata": {},
     "output_type": "execute_result"
    },
    {
     "data": {
      "image/png": "[encoded data removed]",
      "text/plain": [
       "<Figure size 1080x720 with 1 Axes>"
      ]
     },
     "metadata": {
      "needs_background": "light"
     },
     "output_type": "display_data"
    }
   ],
   "source": [
    "#comparing the results of NN and LR\n",
    "plt.figure(figsize=(15,10))\n",
    "\n",
    "# Neural Network plots\n",
    "plt.plot(acc_nn.accuracies, 'r-', label = \"Training Accuracies - NN\")\n",
    "plt.plot(acc_nn.test_accuracies, 'g-', label = \"Testing Accuracies - NN\")\n",
    "\n",
    "# Logistic Regression plots\n",
    "plt.plot(acc_lr.accuracies, 'k-', label = \"Training Accuracies - LR\")\n",
    "plt.plot(acc_lr.test_accuracies, 'b-', label = \"Testing Accuracies - LR\")\n",
    "plt.legend()"
   ]
  },
  {
   "cell_type": "markdown",
   "id": "80dfb35c",
   "metadata": {
    "papermill": {
     "duration": 0.041767,
     "end_time": "2022-04-15T10:11:12.611560",
     "exception": false,
     "start_time": "2022-04-15T10:11:12.569793",
     "status": "completed"
    },
    "tags": []
   },
   "source": [
    "#### Plotting the outputs of this layer of the NN.\n"
   ]
  },
  {
   "cell_type": "code",
   "execution_count": 25,
   "id": "45eb2ff5",
   "metadata": {
    "execution": {
     "iopub.execute_input": "2022-04-15T10:11:12.705233Z",
     "iopub.status.busy": "2022-04-15T10:11:12.704678Z",
     "iopub.status.idle": "2022-04-15T10:11:12.725997Z",
     "shell.execute_reply": "2022-04-15T10:11:12.725532Z"
    },
    "papermill": {
     "duration": 0.068376,
     "end_time": "2022-04-15T10:11:12.726115",
     "exception": false,
     "start_time": "2022-04-15T10:11:12.657739",
     "status": "completed"
    },
    "tags": []
   },
   "outputs": [],
   "source": [
    "new_model = Model(layers[:-2])\n",
    "testing_plot = new_model(testing_data_x)"
   ]
  },
  {
   "cell_type": "code",
   "execution_count": 26,
   "id": "4c0a5485",
   "metadata": {
    "execution": {
     "iopub.execute_input": "2022-04-15T10:11:12.814890Z",
     "iopub.status.busy": "2022-04-15T10:11:12.814361Z",
     "iopub.status.idle": "2022-04-15T10:11:13.011821Z",
     "shell.execute_reply": "2022-04-15T10:11:13.010768Z"
    },
    "papermill": {
     "duration": 0.243402,
     "end_time": "2022-04-15T10:11:13.011956",
     "exception": false,
     "start_time": "2022-04-15T10:11:12.768554",
     "status": "completed"
    },
    "tags": []
   },
   "outputs": [
    {
     "data": {
      "text/plain": [
       "Text(0.5, 1.0, 'Outputs')"
      ]
     },
     "execution_count": 26,
     "metadata": {},
     "output_type": "execute_result"
    },
    {
     "data": {
      "image/png": "[encoded data removed]",
      "text/plain": [
       "<Figure size 576x504 with 1 Axes>"
      ]
     },
     "metadata": {
      "needs_background": "light"
     },
     "output_type": "display_data"
    }
   ],
   "source": [
    "# Plotting the scatter plot of points and color coding by class\n",
    "plt.figure(figsize=(8,7))\n",
    "plt.scatter(testing_plot[:,0], testing_plot[:,1], alpha = 0.1, c = y_test.ravel());\n",
    "plt.title('Outputs')"
   ]
  },
  {
   "cell_type": "markdown",
   "id": "a74fcf8f",
   "metadata": {
    "papermill": {
     "duration": 0.043614,
     "end_time": "2022-04-15T10:11:13.099471",
     "exception": false,
     "start_time": "2022-04-15T10:11:13.055857",
     "status": "completed"
    },
    "tags": []
   },
   "source": [
    "Probability contours"
   ]
  },
  {
   "cell_type": "code",
   "execution_count": 27,
   "id": "d0afc8e3",
   "metadata": {
    "execution": {
     "iopub.execute_input": "2022-04-15T10:11:13.197604Z",
     "iopub.status.busy": "2022-04-15T10:11:13.195840Z",
     "iopub.status.idle": "2022-04-15T10:11:13.206566Z",
     "shell.execute_reply": "2022-04-15T10:11:13.206984Z"
    },
    "papermill": {
     "duration": 0.064007,
     "end_time": "2022-04-15T10:11:13.207126",
     "exception": false,
     "start_time": "2022-04-15T10:11:13.143119",
     "status": "completed"
    },
    "tags": []
   },
   "outputs": [],
   "source": [
    "model_prob = Model(layers[-2:]) "
   ]
  },
  {
   "cell_type": "code",
   "execution_count": 28,
   "id": "9b96e238",
   "metadata": {
    "execution": {
     "iopub.execute_input": "2022-04-15T10:11:13.303787Z",
     "iopub.status.busy": "2022-04-15T10:11:13.303241Z",
     "iopub.status.idle": "2022-04-15T10:11:13.314701Z",
     "shell.execute_reply": "2022-04-15T10:11:13.315444Z"
    },
    "papermill": {
     "duration": 0.064357,
     "end_time": "2022-04-15T10:11:13.315583",
     "exception": false,
     "start_time": "2022-04-15T10:11:13.251226",
     "status": "completed"
    },
    "tags": []
   },
   "outputs": [],
   "source": [
    "#creating the x and y ranges according to the above generated plot.\n",
    "x_range = np.linspace(-4, 1, 100) \n",
    "y_range = np.linspace(-6, 6, 100) \n",
    "x_grid, y_grid = np.meshgrid(x_range, y_range) # x_grid and y_grig are of size 100 X 100\n",
    "\n",
    "# converting x_grid and y_grid to continuous arrays\n",
    "x_gridflat = np.ravel(x_grid)\n",
    "y_gridflat = np.ravel(y_grid)\n",
    "\n",
    "# The last layer of the current model takes two columns as input. Hence transpose of np.vstack() is required.\n",
    "X = np.vstack((x_gridflat, y_gridflat)).T\n",
    "\n",
    "prob_contour = model_prob(X).reshape(100,100) "
   ]
  },
  {
   "cell_type": "code",
   "execution_count": 29,
   "id": "da72499a",
   "metadata": {
    "execution": {
     "iopub.execute_input": "2022-04-15T10:11:13.446265Z",
     "iopub.status.busy": "2022-04-15T10:11:13.445628Z",
     "iopub.status.idle": "2022-04-15T10:11:13.698649Z",
     "shell.execute_reply": "2022-04-15T10:11:13.698209Z"
    },
    "papermill": {
     "duration": 0.333859,
     "end_time": "2022-04-15T10:11:13.698777",
     "exception": false,
     "start_time": "2022-04-15T10:11:13.364918",
     "status": "completed"
    },
    "tags": []
   },
   "outputs": [
    {
     "data": {
      "image/png": "[encoded data removed]",
      "text/plain": [
       "<Figure size 720x648 with 1 Axes>"
      ]
     },
     "metadata": {
      "needs_background": "light"
     },
     "output_type": "display_data"
    }
   ],
   "source": [
    "plt.figure(figsize=(10,9))\n",
    "plt.scatter(testing_plot[:,0], testing_plot[:,1], alpha = 0.1, c = y_test.ravel())\n",
    "contours = plt.contour(x_grid,y_grid,prob_contour)\n",
    "plt.title('Probability Contours')\n",
    "plt.clabel(contours, inline = True );"
   ]
  },
  {
   "cell_type": "code",
   "execution_count": null,
   "id": "e81b4ac7",
   "metadata": {
    "papermill": {
     "duration": 0.049172,
     "end_time": "2022-04-15T10:11:13.797716",
     "exception": false,
     "start_time": "2022-04-15T10:11:13.748544",
     "status": "completed"
    },
    "tags": []
   },
   "outputs": [],
   "source": []
  }
 ],
 "metadata": {
  "kernelspec": {
   "display_name": "Python 3",
   "language": "python",
   "name": "python3"
  },
  "language_info": {
   "codemirror_mode": {
    "name": "ipython",
    "version": 3
   },
   "file_extension": ".py",
   "mimetype": "text/x-python",
   "name": "python",
   "nbconvert_exporter": "python",
   "pygments_lexer": "ipython3",
   "version": "3.6.15"
  },
  "papermill": {
   "default_parameters": {},
   "duration": 103.078046,
   "end_time": "2022-04-15T10:11:14.270241",
   "environment_variables": {},
   "exception": null,
   "input_path": "2020-08-11-part2.ipynb",
   "output_path": "2020-08-11-part2.ipynb",
   "parameters": {},
   "start_time": "2022-04-15T10:09:31.192195",
   "version": "2.3.3"
  }
 },
 "nbformat": 4,
 "nbformat_minor": 5
}