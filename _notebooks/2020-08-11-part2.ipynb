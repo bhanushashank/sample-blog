{
 "cells": [
  {
   "cell_type": "markdown",
   "id": "98380cd3",
   "metadata": {
    "papermill": {
     "duration": 0.030139,
     "end_time": "2022-09-21T00:48:23.714888",
     "exception": false,
     "start_time": "2022-09-21T00:48:23.684749",
     "status": "completed"
    },
    "tags": []
   },
   "source": [
    "# Distinguish Your Own Digits (DYOD)"
   ]
  },
  {
   "cell_type": "markdown",
   "id": "ef31240d",
   "metadata": {
    "papermill": {
     "duration": 0.023555,
     "end_time": "2022-09-21T00:48:23.762817",
     "exception": false,
     "start_time": "2022-09-21T00:48:23.739262",
     "status": "completed"
    },
    "tags": []
   },
   "source": [
    "You are going to write a classifier that distinguishes between the number 3 and number 8."
   ]
  },
  {
   "cell_type": "code",
   "execution_count": 1,
   "id": "b15c8646",
   "metadata": {
    "execution": {
     "iopub.execute_input": "2022-09-21T00:48:23.821338Z",
     "iopub.status.busy": "2022-09-21T00:48:23.820727Z",
     "iopub.status.idle": "2022-09-21T00:48:23.831494Z",
     "shell.execute_reply": "2022-09-21T00:48:23.832005Z"
    },
    "papermill": {
     "duration": 0.045855,
     "end_time": "2022-09-21T00:48:23.832169",
     "exception": false,
     "start_time": "2022-09-21T00:48:23.786314",
     "status": "completed"
    },
    "tags": []
   },
   "outputs": [],
   "source": [
    "%load_ext autoreload\n",
    "%autoreload 2"
   ]
  },
  {
   "cell_type": "code",
   "execution_count": 2,
   "id": "22ef38dc",
   "metadata": {
    "execution": {
     "iopub.execute_input": "2022-09-21T00:48:23.887400Z",
     "iopub.status.busy": "2022-09-21T00:48:23.886810Z",
     "iopub.status.idle": "2022-09-21T00:48:24.440279Z",
     "shell.execute_reply": "2022-09-21T00:48:24.439732Z"
    },
    "papermill": {
     "duration": 0.584418,
     "end_time": "2022-09-21T00:48:24.440422",
     "exception": false,
     "start_time": "2022-09-21T00:48:23.856004",
     "status": "completed"
    },
    "tags": []
   },
   "outputs": [],
   "source": [
    "%matplotlib inline\n",
    "import numpy as np\n",
    "import matplotlib.pyplot as plt\n",
    "import pandas as pd"
   ]
  },
  {
   "cell_type": "markdown",
   "id": "ba036198",
   "metadata": {
    "papermill": {
     "duration": 0.023489,
     "end_time": "2022-09-21T00:48:24.487626",
     "exception": false,
     "start_time": "2022-09-21T00:48:24.464137",
     "status": "completed"
    },
    "tags": []
   },
   "source": [
    "From the command line run `pip install mnist`. This is a library that will help you bring down the mnist dataset. If you run this from a notebook, you need to put  `!pip install mnist` in a cell by itself."
   ]
  },
  {
   "cell_type": "code",
   "execution_count": 3,
   "id": "bb6ad8a1",
   "metadata": {
    "execution": {
     "iopub.execute_input": "2022-09-21T00:48:24.545322Z",
     "iopub.status.busy": "2022-09-21T00:48:24.544706Z",
     "iopub.status.idle": "2022-09-21T00:48:26.296203Z",
     "shell.execute_reply": "2022-09-21T00:48:26.295546Z"
    },
    "papermill": {
     "duration": 1.785117,
     "end_time": "2022-09-21T00:48:26.296350",
     "exception": false,
     "start_time": "2022-09-21T00:48:24.511233",
     "status": "completed"
    },
    "tags": []
   },
   "outputs": [
    {
     "name": "stdout",
     "output_type": "stream",
     "text": [
      "Collecting mnist\r\n",
      "  Downloading mnist-0.2.2-py2.py3-none-any.whl (3.5 kB)\r\n",
      "Requirement already satisfied: numpy in /opt/hostedtoolcache/Python/3.6.15/x64/lib/python3.6/site-packages (from mnist) (1.19.5)\r\n"
     ]
    },
    {
     "name": "stdout",
     "output_type": "stream",
     "text": [
      "Installing collected packages: mnist\r\n"
     ]
    },
    {
     "name": "stdout",
     "output_type": "stream",
     "text": [
      "Successfully installed mnist-0.2.2\r\n"
     ]
    }
   ],
   "source": [
    "!pip install mnist"
   ]
  },
  {
   "cell_type": "markdown",
   "id": "69df9c9a",
   "metadata": {
    "papermill": {
     "duration": 0.024286,
     "end_time": "2022-09-21T00:48:26.345715",
     "exception": false,
     "start_time": "2022-09-21T00:48:26.321429",
     "status": "completed"
    },
    "tags": []
   },
   "source": [
    "## Preparing the Data"
   ]
  },
  {
   "cell_type": "code",
   "execution_count": 4,
   "id": "7f69d806",
   "metadata": {
    "execution": {
     "iopub.execute_input": "2022-09-21T00:48:26.410297Z",
     "iopub.status.busy": "2022-09-21T00:48:26.409700Z",
     "iopub.status.idle": "2022-09-21T00:48:26.415976Z",
     "shell.execute_reply": "2022-09-21T00:48:26.415485Z"
    },
    "papermill": {
     "duration": 0.046146,
     "end_time": "2022-09-21T00:48:26.416090",
     "exception": false,
     "start_time": "2022-09-21T00:48:26.369944",
     "status": "completed"
    },
    "tags": []
   },
   "outputs": [],
   "source": [
    "import mnist"
   ]
  },
  {
   "cell_type": "code",
   "execution_count": 5,
   "id": "a411e44f",
   "metadata": {
    "execution": {
     "iopub.execute_input": "2022-09-21T00:48:26.469717Z",
     "iopub.status.busy": "2022-09-21T00:48:26.469136Z",
     "iopub.status.idle": "2022-09-21T00:48:26.993523Z",
     "shell.execute_reply": "2022-09-21T00:48:26.992947Z"
    },
    "papermill": {
     "duration": 0.553335,
     "end_time": "2022-09-21T00:48:26.993672",
     "exception": false,
     "start_time": "2022-09-21T00:48:26.440337",
     "status": "completed"
    },
    "tags": []
   },
   "outputs": [],
   "source": [
    "train_images = mnist.train_images()\n",
    "train_labels = mnist.train_labels()"
   ]
  },
  {
   "cell_type": "code",
   "execution_count": 6,
   "id": "dceab3a5",
   "metadata": {
    "execution": {
     "iopub.execute_input": "2022-09-21T00:48:27.047630Z",
     "iopub.status.busy": "2022-09-21T00:48:27.047055Z",
     "iopub.status.idle": "2022-09-21T00:48:27.061844Z",
     "shell.execute_reply": "2022-09-21T00:48:27.062420Z"
    },
    "papermill": {
     "duration": 0.043642,
     "end_time": "2022-09-21T00:48:27.062557",
     "exception": false,
     "start_time": "2022-09-21T00:48:27.018915",
     "status": "completed"
    },
    "tags": []
   },
   "outputs": [
    {
     "data": {
      "text/plain": [
       "((60000, 28, 28), (60000,))"
      ]
     },
     "execution_count": 6,
     "metadata": {},
     "output_type": "execute_result"
    }
   ],
   "source": [
    "train_images.shape, train_labels.shape"
   ]
  },
  {
   "cell_type": "code",
   "execution_count": 7,
   "id": "f50dc2bb",
   "metadata": {
    "execution": {
     "iopub.execute_input": "2022-09-21T00:48:27.115503Z",
     "iopub.status.busy": "2022-09-21T00:48:27.114927Z",
     "iopub.status.idle": "2022-09-21T00:48:27.231056Z",
     "shell.execute_reply": "2022-09-21T00:48:27.230487Z"
    },
    "papermill": {
     "duration": 0.144109,
     "end_time": "2022-09-21T00:48:27.231185",
     "exception": false,
     "start_time": "2022-09-21T00:48:27.087076",
     "status": "completed"
    },
    "tags": []
   },
   "outputs": [],
   "source": [
    "test_images = mnist.test_images()\n",
    "test_labels = mnist.test_labels()"
   ]
  },
  {
   "cell_type": "code",
   "execution_count": 8,
   "id": "fc38cf1b",
   "metadata": {
    "execution": {
     "iopub.execute_input": "2022-09-21T00:48:27.284971Z",
     "iopub.status.busy": "2022-09-21T00:48:27.284385Z",
     "iopub.status.idle": "2022-09-21T00:48:27.298624Z",
     "shell.execute_reply": "2022-09-21T00:48:27.299161Z"
    },
    "papermill": {
     "duration": 0.04317,
     "end_time": "2022-09-21T00:48:27.299298",
     "exception": false,
     "start_time": "2022-09-21T00:48:27.256128",
     "status": "completed"
    },
    "tags": []
   },
   "outputs": [
    {
     "data": {
      "text/plain": [
       "((10000, 28, 28), (10000,))"
      ]
     },
     "execution_count": 8,
     "metadata": {},
     "output_type": "execute_result"
    }
   ],
   "source": [
    "test_images.shape, test_labels.shape"
   ]
  },
  {
   "cell_type": "code",
   "execution_count": 9,
   "id": "f9ed8fe0",
   "metadata": {
    "execution": {
     "iopub.execute_input": "2022-09-21T00:48:27.352706Z",
     "iopub.status.busy": "2022-09-21T00:48:27.352128Z",
     "iopub.status.idle": "2022-09-21T00:48:27.492765Z",
     "shell.execute_reply": "2022-09-21T00:48:27.492206Z"
    },
    "papermill": {
     "duration": 0.168891,
     "end_time": "2022-09-21T00:48:27.492906",
     "exception": false,
     "start_time": "2022-09-21T00:48:27.324015",
     "status": "completed"
    },
    "tags": []
   },
   "outputs": [
    {
     "name": "stdout",
     "output_type": "stream",
     "text": [
      "2\n"
     ]
    },
    {
     "data": {
      "text/plain": [
       "<matplotlib.image.AxesImage at 0x7f5fdbf72cc0>"
      ]
     },
     "execution_count": 9,
     "metadata": {},
     "output_type": "execute_result"
    },
    {
     "data": {
      "image/png": "[encoded data removed]",
      "text/plain": [
       "<Figure size 432x288 with 1 Axes>"
      ]
     },
     "metadata": {
      "needs_background": "light"
     },
     "output_type": "display_data"
    }
   ],
   "source": [
    "image_index = 7776 # You may select anything up to 60,000\n",
    "print(train_labels[image_index]) \n",
    "plt.imshow(train_images[image_index], cmap='Greys')"
   ]
  },
  {
   "cell_type": "markdown",
   "id": "a8d2388d",
   "metadata": {
    "papermill": {
     "duration": 0.026037,
     "end_time": "2022-09-21T00:48:27.545564",
     "exception": false,
     "start_time": "2022-09-21T00:48:27.519527",
     "status": "completed"
    },
    "tags": []
   },
   "source": [
    "## Filter data to get 3 and 8 out"
   ]
  },
  {
   "cell_type": "code",
   "execution_count": 10,
   "id": "776f7fc7",
   "metadata": {
    "execution": {
     "iopub.execute_input": "2022-09-21T00:48:27.607801Z",
     "iopub.status.busy": "2022-09-21T00:48:27.607173Z",
     "iopub.status.idle": "2022-09-21T00:48:27.624815Z",
     "shell.execute_reply": "2022-09-21T00:48:27.624332Z"
    },
    "papermill": {
     "duration": 0.053274,
     "end_time": "2022-09-21T00:48:27.624932",
     "exception": false,
     "start_time": "2022-09-21T00:48:27.571658",
     "status": "completed"
    },
    "tags": []
   },
   "outputs": [],
   "source": [
    "train_filter = np.where((train_labels == 3 ) | (train_labels == 8))\n",
    "test_filter = np.where((test_labels == 3) | (test_labels == 8))\n",
    "X_train, y_train = train_images[train_filter], train_labels[train_filter]\n",
    "X_test, y_test = test_images[test_filter], test_labels[test_filter]"
   ]
  },
  {
   "cell_type": "markdown",
   "id": "948f0b7e",
   "metadata": {
    "papermill": {
     "duration": 0.025889,
     "end_time": "2022-09-21T00:48:27.676922",
     "exception": false,
     "start_time": "2022-09-21T00:48:27.651033",
     "status": "completed"
    },
    "tags": []
   },
   "source": [
    "We normalize the pizel values in the 0 to 1 range"
   ]
  },
  {
   "cell_type": "code",
   "execution_count": 11,
   "id": "ee4c2166",
   "metadata": {
    "execution": {
     "iopub.execute_input": "2022-09-21T00:48:27.740680Z",
     "iopub.status.busy": "2022-09-21T00:48:27.736283Z",
     "iopub.status.idle": "2022-09-21T00:48:27.783647Z",
     "shell.execute_reply": "2022-09-21T00:48:27.783086Z"
    },
    "papermill": {
     "duration": 0.080911,
     "end_time": "2022-09-21T00:48:27.783778",
     "exception": false,
     "start_time": "2022-09-21T00:48:27.702867",
     "status": "completed"
    },
    "tags": []
   },
   "outputs": [],
   "source": [
    "X_train = X_train/255.\n",
    "X_test = X_test/255."
   ]
  },
  {
   "cell_type": "markdown",
   "id": "ddcf4fab",
   "metadata": {
    "papermill": {
     "duration": 0.025962,
     "end_time": "2022-09-21T00:48:27.836054",
     "exception": false,
     "start_time": "2022-09-21T00:48:27.810092",
     "status": "completed"
    },
    "tags": []
   },
   "source": [
    "And setup the labels as 1 (when the digit is 3) and 0 (when the digit is 8)"
   ]
  },
  {
   "cell_type": "code",
   "execution_count": 12,
   "id": "7dc908f2",
   "metadata": {
    "execution": {
     "iopub.execute_input": "2022-09-21T00:48:27.900651Z",
     "iopub.status.busy": "2022-09-21T00:48:27.897476Z",
     "iopub.status.idle": "2022-09-21T00:48:27.906609Z",
     "shell.execute_reply": "2022-09-21T00:48:27.907054Z"
    },
    "papermill": {
     "duration": 0.045397,
     "end_time": "2022-09-21T00:48:27.907184",
     "exception": false,
     "start_time": "2022-09-21T00:48:27.861787",
     "status": "completed"
    },
    "tags": []
   },
   "outputs": [],
   "source": [
    "y_train = 1*(y_train==3)\n",
    "y_test = 1*(y_test==3)"
   ]
  },
  {
   "cell_type": "code",
   "execution_count": 13,
   "id": "01e4e969",
   "metadata": {
    "execution": {
     "iopub.execute_input": "2022-09-21T00:48:27.973558Z",
     "iopub.status.busy": "2022-09-21T00:48:27.961917Z",
     "iopub.status.idle": "2022-09-21T00:48:27.979578Z",
     "shell.execute_reply": "2022-09-21T00:48:27.980058Z"
    },
    "papermill": {
     "duration": 0.047204,
     "end_time": "2022-09-21T00:48:27.980194",
     "exception": false,
     "start_time": "2022-09-21T00:48:27.932990",
     "status": "completed"
    },
    "tags": []
   },
   "outputs": [
    {
     "data": {
      "text/plain": [
       "((11982, 28, 28), (1984, 28, 28))"
      ]
     },
     "execution_count": 13,
     "metadata": {},
     "output_type": "execute_result"
    }
   ],
   "source": [
    "X_train.shape, X_test.shape"
   ]
  },
  {
   "cell_type": "markdown",
   "id": "5ccf3f85",
   "metadata": {
    "papermill": {
     "duration": 0.026474,
     "end_time": "2022-09-21T00:48:28.032923",
     "exception": false,
     "start_time": "2022-09-21T00:48:28.006449",
     "status": "completed"
    },
    "tags": []
   },
   "source": [
    "We reshape the data to flatten the image pixels into a set of features or co-variates:"
   ]
  },
  {
   "cell_type": "code",
   "execution_count": 14,
   "id": "5286a4a3",
   "metadata": {
    "execution": {
     "iopub.execute_input": "2022-09-21T00:48:28.101250Z",
     "iopub.status.busy": "2022-09-21T00:48:28.100668Z",
     "iopub.status.idle": "2022-09-21T00:48:28.111085Z",
     "shell.execute_reply": "2022-09-21T00:48:28.110631Z"
    },
    "papermill": {
     "duration": 0.051839,
     "end_time": "2022-09-21T00:48:28.111201",
     "exception": false,
     "start_time": "2022-09-21T00:48:28.059362",
     "status": "completed"
    },
    "tags": []
   },
   "outputs": [
    {
     "data": {
      "text/plain": [
       "((11982, 784), (1984, 784))"
      ]
     },
     "execution_count": 14,
     "metadata": {},
     "output_type": "execute_result"
    }
   ],
   "source": [
    "X_train = X_train.reshape(X_train.shape[0], -1)\n",
    "X_test = X_test.reshape(X_test.shape[0], -1)\n",
    "X_train.shape, X_test.shape"
   ]
  },
  {
   "cell_type": "code",
   "execution_count": 15,
   "id": "73c5f88a",
   "metadata": {
    "execution": {
     "iopub.execute_input": "2022-09-21T00:48:28.176575Z",
     "iopub.status.busy": "2022-09-21T00:48:28.167865Z",
     "iopub.status.idle": "2022-09-21T00:48:28.190112Z",
     "shell.execute_reply": "2022-09-21T00:48:28.189020Z"
    },
    "papermill": {
     "duration": 0.052666,
     "end_time": "2022-09-21T00:48:28.190225",
     "exception": false,
     "start_time": "2022-09-21T00:48:28.137559",
     "status": "completed"
    },
    "tags": []
   },
   "outputs": [],
   "source": [
    "#Impoting functions from 'Kudzu'\n",
    "from kudzu.model import Model\n",
    "from kudzu.train import Learner\n",
    "from kudzu.optim import GD\n",
    "from kudzu.data import Data, Sampler,Dataloader\n",
    "\n",
    "from kudzu.callbacks import AccCallback\n",
    "from kudzu.callbacks import ClfCallback\n",
    "\n",
    "from kudzu.loss import MSE\n",
    "\n",
    "from kudzu.layer import Sigmoid,Relu\n",
    "from kudzu.layer import Affine"
   ]
  },
  {
   "cell_type": "markdown",
   "id": "bc01172a",
   "metadata": {
    "papermill": {
     "duration": 0.026347,
     "end_time": "2022-09-21T00:48:28.243240",
     "exception": false,
     "start_time": "2022-09-21T00:48:28.216893",
     "status": "completed"
    },
    "tags": []
   },
   "source": [
    "### Let us create a `Config` class, to store important parameters. \n",
    "This class essentially plays the role of a dictionary."
   ]
  },
  {
   "cell_type": "code",
   "execution_count": 16,
   "id": "978281aa",
   "metadata": {
    "execution": {
     "iopub.execute_input": "2022-09-21T00:48:28.304733Z",
     "iopub.status.busy": "2022-09-21T00:48:28.304131Z",
     "iopub.status.idle": "2022-09-21T00:48:28.314340Z",
     "shell.execute_reply": "2022-09-21T00:48:28.314789Z"
    },
    "papermill": {
     "duration": 0.045316,
     "end_time": "2022-09-21T00:48:28.314918",
     "exception": false,
     "start_time": "2022-09-21T00:48:28.269602",
     "status": "completed"
    },
    "tags": []
   },
   "outputs": [],
   "source": [
    "class Config:\n",
    "    pass\n",
    "config = Config()\n",
    "config.lr = 0.001\n",
    "config.num_epochs = 250\n",
    "config.bs = 50"
   ]
  },
  {
   "cell_type": "markdown",
   "id": "1385fa59",
   "metadata": {
    "papermill": {
     "duration": 0.026223,
     "end_time": "2022-09-21T00:48:28.367659",
     "exception": false,
     "start_time": "2022-09-21T00:48:28.341436",
     "status": "completed"
    },
    "tags": []
   },
   "source": [
    "### Running Models with the Training data\n",
    "Details about the network layers:\n",
    "- A first affine layer has 784 inputs and does 100 affine transforms. These are followed by a Relu\n",
    "- A second affine layer has 100 inputs from the 100 activations of the past layer, and does 100 affine transforms. These are followed by a Relu\n",
    "- A third affine layer has 100 activations and does 2 affine transformations to create an embedding for visualization. There is no non-linearity here.\n",
    "- A final \"logistic regression\" which has an affine transform from 2 inputs to 1 output, which is squeezed through a sigmoid.\n"
   ]
  },
  {
   "cell_type": "code",
   "execution_count": 17,
   "id": "2b9c66db",
   "metadata": {
    "execution": {
     "iopub.execute_input": "2022-09-21T00:48:28.428143Z",
     "iopub.status.busy": "2022-09-21T00:48:28.427517Z",
     "iopub.status.idle": "2022-09-21T00:48:28.438954Z",
     "shell.execute_reply": "2022-09-21T00:48:28.438472Z"
    },
    "papermill": {
     "duration": 0.04499,
     "end_time": "2022-09-21T00:48:28.439064",
     "exception": false,
     "start_time": "2022-09-21T00:48:28.394074",
     "status": "completed"
    },
    "tags": []
   },
   "outputs": [],
   "source": [
    "data = Data(X_train, y_train.reshape(-1,1))\n",
    "sampler = Sampler(data, config.bs, shuffle=True)\n",
    "\n",
    "dl = Dataloader(data, sampler)\n",
    "\n",
    "opt = GD(config.lr)\n",
    "loss = MSE()"
   ]
  },
  {
   "cell_type": "code",
   "execution_count": 18,
   "id": "b275e4c2",
   "metadata": {
    "execution": {
     "iopub.execute_input": "2022-09-21T00:48:28.496045Z",
     "iopub.status.busy": "2022-09-21T00:48:28.495437Z",
     "iopub.status.idle": "2022-09-21T00:48:28.508979Z",
     "shell.execute_reply": "2022-09-21T00:48:28.508530Z"
    },
    "papermill": {
     "duration": 0.043467,
     "end_time": "2022-09-21T00:48:28.509093",
     "exception": false,
     "start_time": "2022-09-21T00:48:28.465626",
     "status": "completed"
    },
    "tags": []
   },
   "outputs": [],
   "source": [
    "training_data_x = X_train\n",
    "testing_data_x = X_test\n",
    "training_data_y = y_train.reshape(-1,1)\n",
    "testing_data_y = y_test.reshape(-1,1)"
   ]
  },
  {
   "cell_type": "code",
   "execution_count": 19,
   "id": "76951160",
   "metadata": {
    "execution": {
     "iopub.execute_input": "2022-09-21T00:48:28.566907Z",
     "iopub.status.busy": "2022-09-21T00:48:28.566324Z",
     "iopub.status.idle": "2022-09-21T00:48:28.583984Z",
     "shell.execute_reply": "2022-09-21T00:48:28.583475Z"
    },
    "papermill": {
     "duration": 0.048513,
     "end_time": "2022-09-21T00:48:28.584104",
     "exception": false,
     "start_time": "2022-09-21T00:48:28.535591",
     "status": "completed"
    },
    "tags": []
   },
   "outputs": [
    {
     "name": "stdout",
     "output_type": "stream",
     "text": [
      "xavier\n",
      "xavier\n",
      "xavier\n",
      "xavier\n",
      "xavier\n"
     ]
    }
   ],
   "source": [
    "layers = [Affine(\"first\", 784, 100), Relu(\"first\"), Affine(\"second\", 100, 100), Relu(\"second\"), Affine(\"third\", 100, 2), Affine(\"last\", 2, 1), Sigmoid(\"last\")]\n",
    "model_nn = Model(layers)\n",
    "model_lr = Model([Affine(\"logits\", 784, 1), Sigmoid(\"sigmoid\")])"
   ]
  },
  {
   "cell_type": "code",
   "execution_count": 20,
   "id": "6eede77a",
   "metadata": {
    "execution": {
     "iopub.execute_input": "2022-09-21T00:48:28.642354Z",
     "iopub.status.busy": "2022-09-21T00:48:28.641746Z",
     "iopub.status.idle": "2022-09-21T00:48:28.655535Z",
     "shell.execute_reply": "2022-09-21T00:48:28.655058Z"
    },
    "papermill": {
     "duration": 0.044474,
     "end_time": "2022-09-21T00:48:28.655648",
     "exception": false,
     "start_time": "2022-09-21T00:48:28.611174",
     "status": "completed"
    },
    "tags": []
   },
   "outputs": [],
   "source": [
    "nn_learner = Learner(loss, model_nn, opt, config.num_epochs)\n",
    "acc_nn = ClfCallback(nn_learner, config.bs, training_data_x , testing_data_x, training_data_y, testing_data_y)\n",
    "nn_learner.set_callbacks([acc_nn])"
   ]
  },
  {
   "cell_type": "code",
   "execution_count": 21,
   "id": "877b6cc7",
   "metadata": {
    "execution": {
     "iopub.execute_input": "2022-09-21T00:48:28.715206Z",
     "iopub.status.busy": "2022-09-21T00:48:28.714601Z",
     "iopub.status.idle": "2022-09-21T00:48:28.727035Z",
     "shell.execute_reply": "2022-09-21T00:48:28.726543Z"
    },
    "papermill": {
     "duration": 0.04461,
     "end_time": "2022-09-21T00:48:28.727152",
     "exception": false,
     "start_time": "2022-09-21T00:48:28.682542",
     "status": "completed"
    },
    "tags": []
   },
   "outputs": [],
   "source": [
    "lr_learner = Learner(loss, model_lr, opt, config.num_epochs)\n",
    "acc_lr = ClfCallback(lr_learner, config.bs, training_data_x , testing_data_x, training_data_y, testing_data_y)\n",
    "lr_learner.set_callbacks([acc_lr])"
   ]
  },
  {
   "cell_type": "code",
   "execution_count": 22,
   "id": "d9b133c3",
   "metadata": {
    "execution": {
     "iopub.execute_input": "2022-09-21T00:48:28.792351Z",
     "iopub.status.busy": "2022-09-21T00:48:28.791685Z",
     "iopub.status.idle": "2022-09-21T00:49:47.272463Z",
     "shell.execute_reply": "2022-09-21T00:49:47.273336Z"
    },
    "papermill": {
     "duration": 78.51921,
     "end_time": "2022-09-21T00:49:47.273492",
     "exception": false,
     "start_time": "2022-09-21T00:48:28.754282",
     "status": "completed"
    },
    "tags": []
   },
   "outputs": [
    {
     "name": "stdout",
     "output_type": "stream",
     "text": [
      "Epoch 0, Loss 0.2559\n",
      "Training Accuracy: 0.6612, Testing Accuracy: 0.6920\n",
      "\n"
     ]
    },
    {
     "name": "stdout",
     "output_type": "stream",
     "text": [
      "Epoch 10, Loss 0.0688\n",
      "Training Accuracy: 0.9343, Testing Accuracy: 0.9491\n",
      "\n"
     ]
    },
    {
     "name": "stdout",
     "output_type": "stream",
     "text": [
      "Epoch 20, Loss 0.0466\n",
      "Training Accuracy: 0.9509, Testing Accuracy: 0.9632\n",
      "\n"
     ]
    },
    {
     "name": "stdout",
     "output_type": "stream",
     "text": [
      "Epoch 30, Loss 0.0388\n",
      "Training Accuracy: 0.9571, Testing Accuracy: 0.9677\n",
      "\n"
     ]
    },
    {
     "name": "stdout",
     "output_type": "stream",
     "text": [
      "Epoch 40, Loss 0.0347\n",
      "Training Accuracy: 0.9603, Testing Accuracy: 0.9693\n",
      "\n"
     ]
    },
    {
     "name": "stdout",
     "output_type": "stream",
     "text": [
      "Epoch 50, Loss 0.032\n",
      "Training Accuracy: 0.9624, Testing Accuracy: 0.9688\n",
      "\n"
     ]
    },
    {
     "name": "stdout",
     "output_type": "stream",
     "text": [
      "Epoch 60, Loss 0.0302\n",
      "Training Accuracy: 0.9644, Testing Accuracy: 0.9693\n",
      "\n"
     ]
    },
    {
     "name": "stdout",
     "output_type": "stream",
     "text": [
      "Epoch 70, Loss 0.0287\n",
      "Training Accuracy: 0.9664, Testing Accuracy: 0.9693\n",
      "\n"
     ]
    },
    {
     "name": "stdout",
     "output_type": "stream",
     "text": [
      "Epoch 80, Loss 0.0275\n",
      "Training Accuracy: 0.9680, Testing Accuracy: 0.9688\n",
      "\n"
     ]
    },
    {
     "name": "stdout",
     "output_type": "stream",
     "text": [
      "Epoch 90, Loss 0.0265\n",
      "Training Accuracy: 0.9685, Testing Accuracy: 0.9708\n",
      "\n"
     ]
    },
    {
     "name": "stdout",
     "output_type": "stream",
     "text": [
      "Epoch 100, Loss 0.0256\n",
      "Training Accuracy: 0.9694, Testing Accuracy: 0.9708\n",
      "\n"
     ]
    },
    {
     "name": "stdout",
     "output_type": "stream",
     "text": [
      "Epoch 110, Loss 0.0249\n",
      "Training Accuracy: 0.9706, Testing Accuracy: 0.9708\n",
      "\n"
     ]
    },
    {
     "name": "stdout",
     "output_type": "stream",
     "text": [
      "Epoch 120, Loss 0.0242\n",
      "Training Accuracy: 0.9714, Testing Accuracy: 0.9708\n",
      "\n"
     ]
    },
    {
     "name": "stdout",
     "output_type": "stream",
     "text": [
      "Epoch 130, Loss 0.0235\n",
      "Training Accuracy: 0.9722, Testing Accuracy: 0.9713\n",
      "\n"
     ]
    },
    {
     "name": "stdout",
     "output_type": "stream",
     "text": [
      "Epoch 140, Loss 0.0229\n",
      "Training Accuracy: 0.9732, Testing Accuracy: 0.9713\n",
      "\n"
     ]
    },
    {
     "name": "stdout",
     "output_type": "stream",
     "text": [
      "Epoch 150, Loss 0.0224\n",
      "Training Accuracy: 0.9739, Testing Accuracy: 0.9718\n",
      "\n"
     ]
    },
    {
     "name": "stdout",
     "output_type": "stream",
     "text": [
      "Epoch 160, Loss 0.0218\n",
      "Training Accuracy: 0.9745, Testing Accuracy: 0.9718\n",
      "\n"
     ]
    },
    {
     "name": "stdout",
     "output_type": "stream",
     "text": [
      "Epoch 170, Loss 0.0213\n",
      "Training Accuracy: 0.9755, Testing Accuracy: 0.9723\n",
      "\n"
     ]
    },
    {
     "name": "stdout",
     "output_type": "stream",
     "text": [
      "Epoch 180, Loss 0.0209\n",
      "Training Accuracy: 0.9765, Testing Accuracy: 0.9733\n",
      "\n"
     ]
    },
    {
     "name": "stdout",
     "output_type": "stream",
     "text": [
      "Epoch 190, Loss 0.0204\n",
      "Training Accuracy: 0.9768, Testing Accuracy: 0.9738\n",
      "\n"
     ]
    },
    {
     "name": "stdout",
     "output_type": "stream",
     "text": [
      "Epoch 200, Loss 0.02\n",
      "Training Accuracy: 0.9775, Testing Accuracy: 0.9738\n",
      "\n"
     ]
    },
    {
     "name": "stdout",
     "output_type": "stream",
     "text": [
      "Epoch 210, Loss 0.0196\n",
      "Training Accuracy: 0.9781, Testing Accuracy: 0.9743\n",
      "\n"
     ]
    },
    {
     "name": "stdout",
     "output_type": "stream",
     "text": [
      "Epoch 220, Loss 0.0192\n",
      "Training Accuracy: 0.9789, Testing Accuracy: 0.9743\n",
      "\n"
     ]
    },
    {
     "name": "stdout",
     "output_type": "stream",
     "text": [
      "Epoch 230, Loss 0.0188\n",
      "Training Accuracy: 0.9791, Testing Accuracy: 0.9753\n",
      "\n"
     ]
    },
    {
     "name": "stdout",
     "output_type": "stream",
     "text": [
      "Epoch 240, Loss 0.0185\n",
      "Training Accuracy: 0.9795, Testing Accuracy: 0.9748\n",
      "\n"
     ]
    },
    {
     "data": {
      "text/plain": [
       "0.030127814742187165"
      ]
     },
     "execution_count": 22,
     "metadata": {},
     "output_type": "execute_result"
    }
   ],
   "source": [
    "nn_learner.train_loop(dl)"
   ]
  },
  {
   "cell_type": "code",
   "execution_count": 23,
   "id": "e0163366",
   "metadata": {
    "execution": {
     "iopub.execute_input": "2022-09-21T00:49:47.355642Z",
     "iopub.status.busy": "2022-09-21T00:49:47.355033Z",
     "iopub.status.idle": "2022-09-21T00:50:01.478967Z",
     "shell.execute_reply": "2022-09-21T00:50:01.479809Z"
    },
    "papermill": {
     "duration": 14.171674,
     "end_time": "2022-09-21T00:50:01.479989",
     "exception": false,
     "start_time": "2022-09-21T00:49:47.308315",
     "status": "completed"
    },
    "tags": []
   },
   "outputs": [
    {
     "name": "stdout",
     "output_type": "stream",
     "text": [
      "Epoch 0, Loss 0.2204\n",
      "Training Accuracy: 0.7392, Testing Accuracy: 0.7651\n",
      "\n"
     ]
    },
    {
     "name": "stdout",
     "output_type": "stream",
     "text": [
      "Epoch 10, Loss 0.1061\n",
      "Training Accuracy: 0.8950, Testing Accuracy: 0.9093\n",
      "\n"
     ]
    },
    {
     "name": "stdout",
     "output_type": "stream",
     "text": [
      "Epoch 20, Loss 0.0818\n",
      "Training Accuracy: 0.9212, Testing Accuracy: 0.9340\n",
      "\n"
     ]
    },
    {
     "name": "stdout",
     "output_type": "stream",
     "text": [
      "Epoch 30, Loss 0.0702\n",
      "Training Accuracy: 0.9311, Testing Accuracy: 0.9446\n",
      "\n"
     ]
    },
    {
     "name": "stdout",
     "output_type": "stream",
     "text": [
      "Epoch 40, Loss 0.0632\n",
      "Training Accuracy: 0.9379, Testing Accuracy: 0.9491\n",
      "\n"
     ]
    },
    {
     "name": "stdout",
     "output_type": "stream",
     "text": [
      "Epoch 50, Loss 0.0584\n",
      "Training Accuracy: 0.9422, Testing Accuracy: 0.9521\n",
      "\n"
     ]
    },
    {
     "name": "stdout",
     "output_type": "stream",
     "text": [
      "Epoch 60, Loss 0.0549\n",
      "Training Accuracy: 0.9445, Testing Accuracy: 0.9546\n",
      "\n"
     ]
    },
    {
     "name": "stdout",
     "output_type": "stream",
     "text": [
      "Epoch 70, Loss 0.0522\n",
      "Training Accuracy: 0.9481, Testing Accuracy: 0.9561\n",
      "\n"
     ]
    },
    {
     "name": "stdout",
     "output_type": "stream",
     "text": [
      "Epoch 80, Loss 0.05\n",
      "Training Accuracy: 0.9498, Testing Accuracy: 0.9572\n",
      "\n"
     ]
    },
    {
     "name": "stdout",
     "output_type": "stream",
     "text": [
      "Epoch 90, Loss 0.0482\n",
      "Training Accuracy: 0.9513, Testing Accuracy: 0.9587\n",
      "\n"
     ]
    },
    {
     "name": "stdout",
     "output_type": "stream",
     "text": [
      "Epoch 100, Loss 0.0467\n",
      "Training Accuracy: 0.9527, Testing Accuracy: 0.9597\n",
      "\n"
     ]
    },
    {
     "name": "stdout",
     "output_type": "stream",
     "text": [
      "Epoch 110, Loss 0.0454\n",
      "Training Accuracy: 0.9537, Testing Accuracy: 0.9597\n",
      "\n"
     ]
    },
    {
     "name": "stdout",
     "output_type": "stream",
     "text": [
      "Epoch 120, Loss 0.0443\n",
      "Training Accuracy: 0.9552, Testing Accuracy: 0.9597\n",
      "\n"
     ]
    },
    {
     "name": "stdout",
     "output_type": "stream",
     "text": [
      "Epoch 130, Loss 0.0433\n",
      "Training Accuracy: 0.9553, Testing Accuracy: 0.9607\n",
      "\n"
     ]
    },
    {
     "name": "stdout",
     "output_type": "stream",
     "text": [
      "Epoch 140, Loss 0.0425\n",
      "Training Accuracy: 0.9561, Testing Accuracy: 0.9617\n",
      "\n"
     ]
    },
    {
     "name": "stdout",
     "output_type": "stream",
     "text": [
      "Epoch 150, Loss 0.0417\n",
      "Training Accuracy: 0.9570, Testing Accuracy: 0.9617\n",
      "\n"
     ]
    },
    {
     "name": "stdout",
     "output_type": "stream",
     "text": [
      "Epoch 160, Loss 0.041\n",
      "Training Accuracy: 0.9575, Testing Accuracy: 0.9622\n",
      "\n"
     ]
    },
    {
     "name": "stdout",
     "output_type": "stream",
     "text": [
      "Epoch 170, Loss 0.0403\n",
      "Training Accuracy: 0.9580, Testing Accuracy: 0.9642\n",
      "\n"
     ]
    },
    {
     "name": "stdout",
     "output_type": "stream",
     "text": [
      "Epoch 180, Loss 0.0398\n",
      "Training Accuracy: 0.9584, Testing Accuracy: 0.9662\n",
      "\n"
     ]
    },
    {
     "name": "stdout",
     "output_type": "stream",
     "text": [
      "Epoch 190, Loss 0.0392\n",
      "Training Accuracy: 0.9587, Testing Accuracy: 0.9667\n",
      "\n"
     ]
    },
    {
     "name": "stdout",
     "output_type": "stream",
     "text": [
      "Epoch 200, Loss 0.0387\n",
      "Training Accuracy: 0.9591, Testing Accuracy: 0.9667\n",
      "\n"
     ]
    },
    {
     "name": "stdout",
     "output_type": "stream",
     "text": [
      "Epoch 210, Loss 0.0383\n",
      "Training Accuracy: 0.9596, Testing Accuracy: 0.9672\n",
      "\n"
     ]
    },
    {
     "name": "stdout",
     "output_type": "stream",
     "text": [
      "Epoch 220, Loss 0.0378\n",
      "Training Accuracy: 0.9599, Testing Accuracy: 0.9672\n",
      "\n"
     ]
    },
    {
     "name": "stdout",
     "output_type": "stream",
     "text": [
      "Epoch 230, Loss 0.0374\n",
      "Training Accuracy: 0.9605, Testing Accuracy: 0.9672\n",
      "\n"
     ]
    },
    {
     "name": "stdout",
     "output_type": "stream",
     "text": [
      "Epoch 240, Loss 0.0371\n",
      "Training Accuracy: 0.9607, Testing Accuracy: 0.9672\n",
      "\n"
     ]
    },
    {
     "data": {
      "text/plain": [
       "0.037854239970949013"
      ]
     },
     "execution_count": 23,
     "metadata": {},
     "output_type": "execute_result"
    }
   ],
   "source": [
    "lr_learner.train_loop(dl)"
   ]
  },
  {
   "cell_type": "code",
   "execution_count": 24,
   "id": "ca410940",
   "metadata": {
    "execution": {
     "iopub.execute_input": "2022-09-21T00:50:01.573400Z",
     "iopub.status.busy": "2022-09-21T00:50:01.572792Z",
     "iopub.status.idle": "2022-09-21T00:50:01.806764Z",
     "shell.execute_reply": "2022-09-21T00:50:01.806289Z"
    },
    "papermill": {
     "duration": 0.285616,
     "end_time": "2022-09-21T00:50:01.806890",
     "exception": false,
     "start_time": "2022-09-21T00:50:01.521274",
     "status": "completed"
    },
    "tags": []
   },
   "outputs": [
    {
     "data": {
      "text/plain": [
       "<matplotlib.legend.Legend at 0x7f5fdbae1438>"
      ]
     },
     "execution_count": 24,
     "metadata": {},
     "output_type": "execute_result"
    },
    {
     "data": {
      "image/png": "[encoded data removed]",
      "text/plain": [
       "<Figure size 1080x720 with 1 Axes>"
      ]
     },
     "metadata": {
      "needs_background": "light"
     },
     "output_type": "display_data"
    }
   ],
   "source": [
    "#comparing the results of NN and LR\n",
    "plt.figure(figsize=(15,10))\n",
    "\n",
    "# Neural Network plots\n",
    "plt.plot(acc_nn.accuracies, 'r-', label = \"Training Accuracies - NN\")\n",
    "plt.plot(acc_nn.test_accuracies, 'g-', label = \"Testing Accuracies - NN\")\n",
    "\n",
    "# Logistic Regression plots\n",
    "plt.plot(acc_lr.accuracies, 'k-', label = \"Training Accuracies - LR\")\n",
    "plt.plot(acc_lr.test_accuracies, 'b-', label = \"Testing Accuracies - LR\")\n",
    "plt.legend()"
   ]
  },
  {
   "cell_type": "markdown",
   "id": "80dfb35c",
   "metadata": {
    "papermill": {
     "duration": 0.041649,
     "end_time": "2022-09-21T00:50:01.890311",
     "exception": false,
     "start_time": "2022-09-21T00:50:01.848662",
     "status": "completed"
    },
    "tags": []
   },
   "source": [
    "#### Plotting the outputs of this layer of the NN.\n"
   ]
  },
  {
   "cell_type": "code",
   "execution_count": 25,
   "id": "45eb2ff5",
   "metadata": {
    "execution": {
     "iopub.execute_input": "2022-09-21T00:50:01.977319Z",
     "iopub.status.busy": "2022-09-21T00:50:01.976677Z",
     "iopub.status.idle": "2022-09-21T00:50:01.999382Z",
     "shell.execute_reply": "2022-09-21T00:50:01.998899Z"
    },
    "papermill": {
     "duration": 0.068041,
     "end_time": "2022-09-21T00:50:01.999507",
     "exception": false,
     "start_time": "2022-09-21T00:50:01.931466",
     "status": "completed"
    },
    "tags": []
   },
   "outputs": [],
   "source": [
    "new_model = Model(layers[:-2])\n",
    "testing_plot = new_model(testing_data_x)"
   ]
  },
  {
   "cell_type": "code",
   "execution_count": 26,
   "id": "4c0a5485",
   "metadata": {
    "execution": {
     "iopub.execute_input": "2022-09-21T00:50:02.093155Z",
     "iopub.status.busy": "2022-09-21T00:50:02.092566Z",
     "iopub.status.idle": "2022-09-21T00:50:02.282762Z",
     "shell.execute_reply": "2022-09-21T00:50:02.283220Z"
    },
    "papermill": {
     "duration": 0.241493,
     "end_time": "2022-09-21T00:50:02.283368",
     "exception": false,
     "start_time": "2022-09-21T00:50:02.041875",
     "status": "completed"
    },
    "tags": []
   },
   "outputs": [
    {
     "data": {
      "text/plain": [
       "Text(0.5, 1.0, 'Outputs')"
      ]
     },
     "execution_count": 26,
     "metadata": {},
     "output_type": "execute_result"
    },
    {
     "data": {
      "image/png": "[encoded data removed]",
      "text/plain": [
       "<Figure size 576x504 with 1 Axes>"
      ]
     },
     "metadata": {
      "needs_background": "light"
     },
     "output_type": "display_data"
    }
   ],
   "source": [
    "# Plotting the scatter plot of points and color coding by class\n",
    "plt.figure(figsize=(8,7))\n",
    "plt.scatter(testing_plot[:,0], testing_plot[:,1], alpha = 0.1, c = y_test.ravel());\n",
    "plt.title('Outputs')"
   ]
  },
  {
   "cell_type": "markdown",
   "id": "a74fcf8f",
   "metadata": {
    "papermill": {
     "duration": 0.043385,
     "end_time": "2022-09-21T00:50:02.370333",
     "exception": false,
     "start_time": "2022-09-21T00:50:02.326948",
     "status": "completed"
    },
    "tags": []
   },
   "source": [
    "Probability contours"
   ]
  },
  {
   "cell_type": "code",
   "execution_count": 27,
   "id": "d0afc8e3",
   "metadata": {
    "execution": {
     "iopub.execute_input": "2022-09-21T00:50:02.461512Z",
     "iopub.status.busy": "2022-09-21T00:50:02.460920Z",
     "iopub.status.idle": "2022-09-21T00:50:02.473353Z",
     "shell.execute_reply": "2022-09-21T00:50:02.473800Z"
    },
    "papermill": {
     "duration": 0.060244,
     "end_time": "2022-09-21T00:50:02.473934",
     "exception": false,
     "start_time": "2022-09-21T00:50:02.413690",
     "status": "completed"
    },
    "tags": []
   },
   "outputs": [],
   "source": [
    "model_prob = Model(layers[-2:]) "
   ]
  },
  {
   "cell_type": "code",
   "execution_count": 28,
   "id": "9b96e238",
   "metadata": {
    "execution": {
     "iopub.execute_input": "2022-09-21T00:50:02.605345Z",
     "iopub.status.busy": "2022-09-21T00:50:02.604742Z",
     "iopub.status.idle": "2022-09-21T00:50:02.617024Z",
     "shell.execute_reply": "2022-09-21T00:50:02.616561Z"
    },
    "papermill": {
     "duration": 0.09976,
     "end_time": "2022-09-21T00:50:02.617138",
     "exception": false,
     "start_time": "2022-09-21T00:50:02.517378",
     "status": "completed"
    },
    "tags": []
   },
   "outputs": [],
   "source": [
    "#creating the x and y ranges according to the above generated plot.\n",
    "x_range = np.linspace(-4, 1, 100) \n",
    "y_range = np.linspace(-6, 6, 100) \n",
    "x_grid, y_grid = np.meshgrid(x_range, y_range) # x_grid and y_grig are of size 100 X 100\n",
    "\n",
    "# converting x_grid and y_grid to continuous arrays\n",
    "x_gridflat = np.ravel(x_grid)\n",
    "y_gridflat = np.ravel(y_grid)\n",
    "\n",
    "# The last layer of the current model takes two columns as input. Hence transpose of np.vstack() is required.\n",
    "X = np.vstack((x_gridflat, y_gridflat)).T\n",
    "\n",
    "prob_contour = model_prob(X).reshape(100,100) "
   ]
  },
  {
   "cell_type": "code",
   "execution_count": 29,
   "id": "da72499a",
   "metadata": {
    "execution": {
     "iopub.execute_input": "2022-09-21T00:50:02.713886Z",
     "iopub.status.busy": "2022-09-21T00:50:02.713304Z",
     "iopub.status.idle": "2022-09-21T00:50:02.950574Z",
     "shell.execute_reply": "2022-09-21T00:50:02.950055Z"
    },
    "papermill": {
     "duration": 0.289402,
     "end_time": "2022-09-21T00:50:02.950701",
     "exception": false,
     "start_time": "2022-09-21T00:50:02.661299",
     "status": "completed"
    },
    "tags": []
   },
   "outputs": [
    {
     "data": {
      "image/png": "[encoded data removed]",
      "text/plain": [
       "<Figure size 720x648 with 1 Axes>"
      ]
     },
     "metadata": {
      "needs_background": "light"
     },
     "output_type": "display_data"
    }
   ],
   "source": [
    "plt.figure(figsize=(10,9))\n",
    "plt.scatter(testing_plot[:,0], testing_plot[:,1], alpha = 0.1, c = y_test.ravel())\n",
    "contours = plt.contour(x_grid,y_grid,prob_contour)\n",
    "plt.title('Probability Contours')\n",
    "plt.clabel(contours, inline = True );"
   ]
  },
  {
   "cell_type": "code",
   "execution_count": null,
   "id": "e81b4ac7",
   "metadata": {
    "papermill": {
     "duration": 0.046104,
     "end_time": "2022-09-21T00:50:03.043535",
     "exception": false,
     "start_time": "2022-09-21T00:50:02.997431",
     "status": "completed"
    },
    "tags": []
   },
   "outputs": [],
   "source": []
  }
 ],
 "metadata": {
  "kernelspec": {
   "display_name": "Python 3",
   "language": "python",
   "name": "python3"
  },
  "language_info": {
   "codemirror_mode": {
    "name": "ipython",
    "version": 3
   },
   "file_extension": ".py",
   "mimetype": "text/x-python",
   "name": "python",
   "nbconvert_exporter": "python",
   "pygments_lexer": "ipython3",
   "version": "3.6.15"
  },
  "papermill": {
   "default_parameters": {},
   "duration": 100.775414,
   "end_time": "2022-09-21T00:50:03.509447",
   "environment_variables": {},
   "exception": null,
   "input_path": "2020-08-11-part2.ipynb",
   "output_path": "2020-08-11-part2.ipynb",
   "parameters": {},
   "start_time": "2022-09-21T00:48:22.734033",
   "version": "2.3.3"
  }
 },
 "nbformat": 4,
 "nbformat_minor": 5
}