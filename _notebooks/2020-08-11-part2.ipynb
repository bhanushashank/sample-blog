{
 "cells": [
  {
   "cell_type": "markdown",
   "id": "98380cd3",
   "metadata": {
    "papermill": {
     "duration": 0.032463,
     "end_time": "2021-08-23T00:18:46.645475",
     "exception": false,
     "start_time": "2021-08-23T00:18:46.613012",
     "status": "completed"
    },
    "tags": []
   },
   "source": [
    "# Distinguish Your Own Digits (DYOD)"
   ]
  },
  {
   "cell_type": "markdown",
   "id": "ef31240d",
   "metadata": {
    "papermill": {
     "duration": 0.025125,
     "end_time": "2021-08-23T00:18:46.696186",
     "exception": false,
     "start_time": "2021-08-23T00:18:46.671061",
     "status": "completed"
    },
    "tags": []
   },
   "source": [
    "You are going to write a classifier that distinguishes between the number 3 and number 8."
   ]
  },
  {
   "cell_type": "code",
   "execution_count": 1,
   "id": "b15c8646",
   "metadata": {
    "execution": {
     "iopub.execute_input": "2021-08-23T00:18:46.754767Z",
     "iopub.status.busy": "2021-08-23T00:18:46.754207Z",
     "iopub.status.idle": "2021-08-23T00:18:46.764463Z",
     "shell.execute_reply": "2021-08-23T00:18:46.764041Z"
    },
    "papermill": {
     "duration": 0.044482,
     "end_time": "2021-08-23T00:18:46.764579",
     "exception": false,
     "start_time": "2021-08-23T00:18:46.720097",
     "status": "completed"
    },
    "tags": []
   },
   "outputs": [],
   "source": [
    "%load_ext autoreload\n",
    "%autoreload 2"
   ]
  },
  {
   "cell_type": "code",
   "execution_count": 2,
   "id": "22ef38dc",
   "metadata": {
    "execution": {
     "iopub.execute_input": "2021-08-23T00:18:46.815147Z",
     "iopub.status.busy": "2021-08-23T00:18:46.814626Z",
     "iopub.status.idle": "2021-08-23T00:18:47.376789Z",
     "shell.execute_reply": "2021-08-23T00:18:47.375760Z"
    },
    "papermill": {
     "duration": 0.589854,
     "end_time": "2021-08-23T00:18:47.376953",
     "exception": false,
     "start_time": "2021-08-23T00:18:46.787099",
     "status": "completed"
    },
    "tags": []
   },
   "outputs": [],
   "source": [
    "%matplotlib inline\n",
    "import numpy as np\n",
    "import matplotlib.pyplot as plt\n",
    "import pandas as pd"
   ]
  },
  {
   "cell_type": "markdown",
   "id": "ba036198",
   "metadata": {
    "papermill": {
     "duration": 0.025133,
     "end_time": "2021-08-23T00:18:47.427718",
     "exception": false,
     "start_time": "2021-08-23T00:18:47.402585",
     "status": "completed"
    },
    "tags": []
   },
   "source": [
    "From the command line run `pip install mnist`. This is a library that will help you bring down the mnist dataset. If you run this from a notebook, you need to put  `!pip install mnist` in a cell by itself."
   ]
  },
  {
   "cell_type": "code",
   "execution_count": 3,
   "id": "bb6ad8a1",
   "metadata": {
    "execution": {
     "iopub.execute_input": "2021-08-23T00:18:47.485311Z",
     "iopub.status.busy": "2021-08-23T00:18:47.484717Z",
     "iopub.status.idle": "2021-08-23T00:18:49.394418Z",
     "shell.execute_reply": "2021-08-23T00:18:49.394838Z"
    },
    "papermill": {
     "duration": 1.943013,
     "end_time": "2021-08-23T00:18:49.394981",
     "exception": false,
     "start_time": "2021-08-23T00:18:47.451968",
     "status": "completed"
    },
    "tags": []
   },
   "outputs": [
    {
     "name": "stdout",
     "output_type": "stream",
     "text": [
      "Collecting mnist\r\n"
     ]
    },
    {
     "name": "stdout",
     "output_type": "stream",
     "text": [
      "  Downloading mnist-0.2.2-py2.py3-none-any.whl (3.5 kB)\r\n",
      "Requirement already satisfied: numpy in /opt/hostedtoolcache/Python/3.6.14/x64/lib/python3.6/site-packages (from mnist) (1.19.5)\r\n"
     ]
    },
    {
     "name": "stdout",
     "output_type": "stream",
     "text": [
      "Installing collected packages: mnist\r\n"
     ]
    },
    {
     "name": "stdout",
     "output_type": "stream",
     "text": [
      "Successfully installed mnist-0.2.2\r\n"
     ]
    }
   ],
   "source": [
    "!pip install mnist"
   ]
  },
  {
   "cell_type": "markdown",
   "id": "69df9c9a",
   "metadata": {
    "papermill": {
     "duration": 0.024017,
     "end_time": "2021-08-23T00:18:49.442551",
     "exception": false,
     "start_time": "2021-08-23T00:18:49.418534",
     "status": "completed"
    },
    "tags": []
   },
   "source": [
    "## Preparing the Data"
   ]
  },
  {
   "cell_type": "code",
   "execution_count": 4,
   "id": "7f69d806",
   "metadata": {
    "execution": {
     "iopub.execute_input": "2021-08-23T00:18:49.495223Z",
     "iopub.status.busy": "2021-08-23T00:18:49.494732Z",
     "iopub.status.idle": "2021-08-23T00:18:49.509063Z",
     "shell.execute_reply": "2021-08-23T00:18:49.508562Z"
    },
    "papermill": {
     "duration": 0.042396,
     "end_time": "2021-08-23T00:18:49.509184",
     "exception": false,
     "start_time": "2021-08-23T00:18:49.466788",
     "status": "completed"
    },
    "tags": []
   },
   "outputs": [],
   "source": [
    "import mnist"
   ]
  },
  {
   "cell_type": "code",
   "execution_count": 5,
   "id": "a411e44f",
   "metadata": {
    "execution": {
     "iopub.execute_input": "2021-08-23T00:18:49.562561Z",
     "iopub.status.busy": "2021-08-23T00:18:49.562012Z",
     "iopub.status.idle": "2021-08-23T00:22:30.670484Z",
     "shell.execute_reply": "2021-08-23T00:22:30.670956Z"
    },
    "papermill": {
     "duration": 221.137418,
     "end_time": "2021-08-23T00:22:30.671096",
     "exception": false,
     "start_time": "2021-08-23T00:18:49.533678",
     "status": "completed"
    },
    "tags": []
   },
   "outputs": [],
   "source": [
    "train_images = mnist.train_images()\n",
    "train_labels = mnist.train_labels()"
   ]
  },
  {
   "cell_type": "code",
   "execution_count": 6,
   "id": "dceab3a5",
   "metadata": {
    "execution": {
     "iopub.execute_input": "2021-08-23T00:22:30.727232Z",
     "iopub.status.busy": "2021-08-23T00:22:30.726625Z",
     "iopub.status.idle": "2021-08-23T00:22:30.743570Z",
     "shell.execute_reply": "2021-08-23T00:22:30.743179Z"
    },
    "papermill": {
     "duration": 0.047252,
     "end_time": "2021-08-23T00:22:30.743676",
     "exception": false,
     "start_time": "2021-08-23T00:22:30.696424",
     "status": "completed"
    },
    "tags": []
   },
   "outputs": [
    {
     "data": {
      "text/plain": [
       "((60000, 28, 28), (60000,))"
      ]
     },
     "execution_count": 6,
     "metadata": {},
     "output_type": "execute_result"
    }
   ],
   "source": [
    "train_images.shape, train_labels.shape"
   ]
  },
  {
   "cell_type": "code",
   "execution_count": 7,
   "id": "f50dc2bb",
   "metadata": {
    "execution": {
     "iopub.execute_input": "2021-08-23T00:22:30.800538Z",
     "iopub.status.busy": "2021-08-23T00:22:30.799940Z",
     "iopub.status.idle": "2021-08-23T00:22:59.896891Z",
     "shell.execute_reply": "2021-08-23T00:22:59.895191Z"
    },
    "papermill": {
     "duration": 29.127586,
     "end_time": "2021-08-23T00:22:59.897065",
     "exception": false,
     "start_time": "2021-08-23T00:22:30.769479",
     "status": "completed"
    },
    "tags": []
   },
   "outputs": [],
   "source": [
    "test_images = mnist.test_images()\n",
    "test_labels = mnist.test_labels()"
   ]
  },
  {
   "cell_type": "code",
   "execution_count": 8,
   "id": "fc38cf1b",
   "metadata": {
    "execution": {
     "iopub.execute_input": "2021-08-23T00:22:59.962902Z",
     "iopub.status.busy": "2021-08-23T00:22:59.958810Z",
     "iopub.status.idle": "2021-08-23T00:22:59.972316Z",
     "shell.execute_reply": "2021-08-23T00:22:59.971856Z"
    },
    "papermill": {
     "duration": 0.044879,
     "end_time": "2021-08-23T00:22:59.972430",
     "exception": false,
     "start_time": "2021-08-23T00:22:59.927551",
     "status": "completed"
    },
    "tags": []
   },
   "outputs": [
    {
     "data": {
      "text/plain": [
       "((10000, 28, 28), (10000,))"
      ]
     },
     "execution_count": 8,
     "metadata": {},
     "output_type": "execute_result"
    }
   ],
   "source": [
    "test_images.shape, test_labels.shape"
   ]
  },
  {
   "cell_type": "code",
   "execution_count": 9,
   "id": "f9ed8fe0",
   "metadata": {
    "execution": {
     "iopub.execute_input": "2021-08-23T00:23:00.037764Z",
     "iopub.status.busy": "2021-08-23T00:23:00.037174Z",
     "iopub.status.idle": "2021-08-23T00:23:00.190181Z",
     "shell.execute_reply": "2021-08-23T00:23:00.189659Z"
    },
    "papermill": {
     "duration": 0.185199,
     "end_time": "2021-08-23T00:23:00.190308",
     "exception": false,
     "start_time": "2021-08-23T00:23:00.005109",
     "status": "completed"
    },
    "tags": []
   },
   "outputs": [
    {
     "name": "stdout",
     "output_type": "stream",
     "text": [
      "2\n"
     ]
    },
    {
     "data": {
      "text/plain": [
       "<matplotlib.image.AxesImage at 0x7f8101170908>"
      ]
     },
     "execution_count": 9,
     "metadata": {},
     "output_type": "execute_result"
    },
    {
     "data": {
      "image/png": "[encoded data removed]",
      "text/plain": [
       "<Figure size 432x288 with 1 Axes>"
      ]
     },
     "metadata": {
      "needs_background": "light"
     },
     "output_type": "display_data"
    }
   ],
   "source": [
    "image_index = 7776 # You may select anything up to 60,000\n",
    "print(train_labels[image_index]) \n",
    "plt.imshow(train_images[image_index], cmap='Greys')"
   ]
  },
  {
   "cell_type": "markdown",
   "id": "a8d2388d",
   "metadata": {
    "papermill": {
     "duration": 0.026302,
     "end_time": "2021-08-23T00:23:00.243053",
     "exception": false,
     "start_time": "2021-08-23T00:23:00.216751",
     "status": "completed"
    },
    "tags": []
   },
   "source": [
    "## Filter data to get 3 and 8 out"
   ]
  },
  {
   "cell_type": "code",
   "execution_count": 10,
   "id": "776f7fc7",
   "metadata": {
    "execution": {
     "iopub.execute_input": "2021-08-23T00:23:00.302899Z",
     "iopub.status.busy": "2021-08-23T00:23:00.302315Z",
     "iopub.status.idle": "2021-08-23T00:23:00.322755Z",
     "shell.execute_reply": "2021-08-23T00:23:00.322251Z"
    },
    "papermill": {
     "duration": 0.052867,
     "end_time": "2021-08-23T00:23:00.322872",
     "exception": false,
     "start_time": "2021-08-23T00:23:00.270005",
     "status": "completed"
    },
    "tags": []
   },
   "outputs": [],
   "source": [
    "train_filter = np.where((train_labels == 3 ) | (train_labels == 8))\n",
    "test_filter = np.where((test_labels == 3) | (test_labels == 8))\n",
    "X_train, y_train = train_images[train_filter], train_labels[train_filter]\n",
    "X_test, y_test = test_images[test_filter], test_labels[test_filter]"
   ]
  },
  {
   "cell_type": "markdown",
   "id": "948f0b7e",
   "metadata": {
    "papermill": {
     "duration": 0.027865,
     "end_time": "2021-08-23T00:23:00.378275",
     "exception": false,
     "start_time": "2021-08-23T00:23:00.350410",
     "status": "completed"
    },
    "tags": []
   },
   "source": [
    "We normalize the pizel values in the 0 to 1 range"
   ]
  },
  {
   "cell_type": "code",
   "execution_count": 11,
   "id": "ee4c2166",
   "metadata": {
    "execution": {
     "iopub.execute_input": "2021-08-23T00:23:00.436086Z",
     "iopub.status.busy": "2021-08-23T00:23:00.435596Z",
     "iopub.status.idle": "2021-08-23T00:23:00.489013Z",
     "shell.execute_reply": "2021-08-23T00:23:00.488174Z"
    },
    "papermill": {
     "duration": 0.08461,
     "end_time": "2021-08-23T00:23:00.489227",
     "exception": false,
     "start_time": "2021-08-23T00:23:00.404617",
     "status": "completed"
    },
    "tags": []
   },
   "outputs": [],
   "source": [
    "X_train = X_train/255.\n",
    "X_test = X_test/255."
   ]
  },
  {
   "cell_type": "markdown",
   "id": "ddcf4fab",
   "metadata": {
    "papermill": {
     "duration": 0.027027,
     "end_time": "2021-08-23T00:23:00.546130",
     "exception": false,
     "start_time": "2021-08-23T00:23:00.519103",
     "status": "completed"
    },
    "tags": []
   },
   "source": [
    "And setup the labels as 1 (when the digit is 3) and 0 (when the digit is 8)"
   ]
  },
  {
   "cell_type": "code",
   "execution_count": 12,
   "id": "7dc908f2",
   "metadata": {
    "execution": {
     "iopub.execute_input": "2021-08-23T00:23:00.604702Z",
     "iopub.status.busy": "2021-08-23T00:23:00.604153Z",
     "iopub.status.idle": "2021-08-23T00:23:00.617202Z",
     "shell.execute_reply": "2021-08-23T00:23:00.616699Z"
    },
    "papermill": {
     "duration": 0.044726,
     "end_time": "2021-08-23T00:23:00.617305",
     "exception": false,
     "start_time": "2021-08-23T00:23:00.572579",
     "status": "completed"
    },
    "tags": []
   },
   "outputs": [],
   "source": [
    "y_train = 1*(y_train==3)\n",
    "y_test = 1*(y_test==3)"
   ]
  },
  {
   "cell_type": "code",
   "execution_count": 13,
   "id": "01e4e969",
   "metadata": {
    "execution": {
     "iopub.execute_input": "2021-08-23T00:23:00.676385Z",
     "iopub.status.busy": "2021-08-23T00:23:00.675846Z",
     "iopub.status.idle": "2021-08-23T00:23:00.690631Z",
     "shell.execute_reply": "2021-08-23T00:23:00.690189Z"
    },
    "papermill": {
     "duration": 0.04716,
     "end_time": "2021-08-23T00:23:00.690746",
     "exception": false,
     "start_time": "2021-08-23T00:23:00.643586",
     "status": "completed"
    },
    "tags": []
   },
   "outputs": [
    {
     "data": {
      "text/plain": [
       "((11982, 28, 28), (1984, 28, 28))"
      ]
     },
     "execution_count": 13,
     "metadata": {},
     "output_type": "execute_result"
    }
   ],
   "source": [
    "X_train.shape, X_test.shape"
   ]
  },
  {
   "cell_type": "markdown",
   "id": "5ccf3f85",
   "metadata": {
    "papermill": {
     "duration": 0.027934,
     "end_time": "2021-08-23T00:23:00.743930",
     "exception": false,
     "start_time": "2021-08-23T00:23:00.715996",
     "status": "completed"
    },
    "tags": []
   },
   "source": [
    "We reshape the data to flatten the image pixels into a set of features or co-variates:"
   ]
  },
  {
   "cell_type": "code",
   "execution_count": 14,
   "id": "5286a4a3",
   "metadata": {
    "execution": {
     "iopub.execute_input": "2021-08-23T00:23:00.805410Z",
     "iopub.status.busy": "2021-08-23T00:23:00.804871Z",
     "iopub.status.idle": "2021-08-23T00:23:00.821264Z",
     "shell.execute_reply": "2021-08-23T00:23:00.821745Z"
    },
    "papermill": {
     "duration": 0.04939,
     "end_time": "2021-08-23T00:23:00.821906",
     "exception": false,
     "start_time": "2021-08-23T00:23:00.772516",
     "status": "completed"
    },
    "tags": []
   },
   "outputs": [
    {
     "data": {
      "text/plain": [
       "((11982, 784), (1984, 784))"
      ]
     },
     "execution_count": 14,
     "metadata": {},
     "output_type": "execute_result"
    }
   ],
   "source": [
    "X_train = X_train.reshape(X_train.shape[0], -1)\n",
    "X_test = X_test.reshape(X_test.shape[0], -1)\n",
    "X_train.shape, X_test.shape"
   ]
  },
  {
   "cell_type": "code",
   "execution_count": 15,
   "id": "73c5f88a",
   "metadata": {
    "execution": {
     "iopub.execute_input": "2021-08-23T00:23:00.882054Z",
     "iopub.status.busy": "2021-08-23T00:23:00.881475Z",
     "iopub.status.idle": "2021-08-23T00:23:00.902590Z",
     "shell.execute_reply": "2021-08-23T00:23:00.901677Z"
    },
    "papermill": {
     "duration": 0.053424,
     "end_time": "2021-08-23T00:23:00.902792",
     "exception": false,
     "start_time": "2021-08-23T00:23:00.849368",
     "status": "completed"
    },
    "tags": []
   },
   "outputs": [],
   "source": [
    "#Impoting functions from 'Kudzu'\n",
    "from kudzu.model import Model\n",
    "from kudzu.train import Learner\n",
    "from kudzu.optim import GD\n",
    "from kudzu.data import Data, Sampler,Dataloader\n",
    "\n",
    "from kudzu.callbacks import AccCallback\n",
    "from kudzu.callbacks import ClfCallback\n",
    "\n",
    "from kudzu.loss import MSE\n",
    "\n",
    "from kudzu.layer import Sigmoid,Relu\n",
    "from kudzu.layer import Affine"
   ]
  },
  {
   "cell_type": "markdown",
   "id": "bc01172a",
   "metadata": {
    "papermill": {
     "duration": 0.028637,
     "end_time": "2021-08-23T00:23:00.961685",
     "exception": false,
     "start_time": "2021-08-23T00:23:00.933048",
     "status": "completed"
    },
    "tags": []
   },
   "source": [
    "### Let us create a `Config` class, to store important parameters. \n",
    "This class essentially plays the role of a dictionary."
   ]
  },
  {
   "cell_type": "code",
   "execution_count": 16,
   "id": "978281aa",
   "metadata": {
    "execution": {
     "iopub.execute_input": "2021-08-23T00:23:01.022116Z",
     "iopub.status.busy": "2021-08-23T00:23:01.021496Z",
     "iopub.status.idle": "2021-08-23T00:23:01.034378Z",
     "shell.execute_reply": "2021-08-23T00:23:01.033897Z"
    },
    "papermill": {
     "duration": 0.045771,
     "end_time": "2021-08-23T00:23:01.034501",
     "exception": false,
     "start_time": "2021-08-23T00:23:00.988730",
     "status": "completed"
    },
    "tags": []
   },
   "outputs": [],
   "source": [
    "class Config:\n",
    "    pass\n",
    "config = Config()\n",
    "config.lr = 0.001\n",
    "config.num_epochs = 250\n",
    "config.bs = 50"
   ]
  },
  {
   "cell_type": "markdown",
   "id": "1385fa59",
   "metadata": {
    "papermill": {
     "duration": 0.029005,
     "end_time": "2021-08-23T00:23:01.091269",
     "exception": false,
     "start_time": "2021-08-23T00:23:01.062264",
     "status": "completed"
    },
    "tags": []
   },
   "source": [
    "### Running Models with the Training data\n",
    "Details about the network layers:\n",
    "- A first affine layer has 784 inputs and does 100 affine transforms. These are followed by a Relu\n",
    "- A second affine layer has 100 inputs from the 100 activations of the past layer, and does 100 affine transforms. These are followed by a Relu\n",
    "- A third affine layer has 100 activations and does 2 affine transformations to create an embedding for visualization. There is no non-linearity here.\n",
    "- A final \"logistic regression\" which has an affine transform from 2 inputs to 1 output, which is squeezed through a sigmoid.\n"
   ]
  },
  {
   "cell_type": "code",
   "execution_count": 17,
   "id": "2b9c66db",
   "metadata": {
    "execution": {
     "iopub.execute_input": "2021-08-23T00:23:01.152893Z",
     "iopub.status.busy": "2021-08-23T00:23:01.152271Z",
     "iopub.status.idle": "2021-08-23T00:23:01.165069Z",
     "shell.execute_reply": "2021-08-23T00:23:01.164587Z"
    },
    "papermill": {
     "duration": 0.04464,
     "end_time": "2021-08-23T00:23:01.165195",
     "exception": false,
     "start_time": "2021-08-23T00:23:01.120555",
     "status": "completed"
    },
    "tags": []
   },
   "outputs": [],
   "source": [
    "data = Data(X_train, y_train.reshape(-1,1))\n",
    "sampler = Sampler(data, config.bs, shuffle=True)\n",
    "\n",
    "dl = Dataloader(data, sampler)\n",
    "\n",
    "opt = GD(config.lr)\n",
    "loss = MSE()"
   ]
  },
  {
   "cell_type": "code",
   "execution_count": 18,
   "id": "b275e4c2",
   "metadata": {
    "execution": {
     "iopub.execute_input": "2021-08-23T00:23:01.227685Z",
     "iopub.status.busy": "2021-08-23T00:23:01.227117Z",
     "iopub.status.idle": "2021-08-23T00:23:01.239388Z",
     "shell.execute_reply": "2021-08-23T00:23:01.238948Z"
    },
    "papermill": {
     "duration": 0.044643,
     "end_time": "2021-08-23T00:23:01.239503",
     "exception": false,
     "start_time": "2021-08-23T00:23:01.194860",
     "status": "completed"
    },
    "tags": []
   },
   "outputs": [],
   "source": [
    "training_data_x = X_train\n",
    "testing_data_x = X_test\n",
    "training_data_y = y_train.reshape(-1,1)\n",
    "testing_data_y = y_test.reshape(-1,1)"
   ]
  },
  {
   "cell_type": "code",
   "execution_count": 19,
   "id": "76951160",
   "metadata": {
    "execution": {
     "iopub.execute_input": "2021-08-23T00:23:01.301516Z",
     "iopub.status.busy": "2021-08-23T00:23:01.300970Z",
     "iopub.status.idle": "2021-08-23T00:23:01.319991Z",
     "shell.execute_reply": "2021-08-23T00:23:01.319535Z"
    },
    "papermill": {
     "duration": 0.052711,
     "end_time": "2021-08-23T00:23:01.320101",
     "exception": false,
     "start_time": "2021-08-23T00:23:01.267390",
     "status": "completed"
    },
    "tags": []
   },
   "outputs": [
    {
     "name": "stdout",
     "output_type": "stream",
     "text": [
      "xavier\n",
      "xavier\n",
      "xavier\n",
      "xavier\n",
      "xavier\n"
     ]
    }
   ],
   "source": [
    "layers = [Affine(\"first\", 784, 100), Relu(\"first\"), Affine(\"second\", 100, 100), Relu(\"second\"), Affine(\"third\", 100, 2), Affine(\"last\", 2, 1), Sigmoid(\"last\")]\n",
    "model_nn = Model(layers)\n",
    "model_lr = Model([Affine(\"logits\", 784, 1), Sigmoid(\"sigmoid\")])"
   ]
  },
  {
   "cell_type": "code",
   "execution_count": 20,
   "id": "6eede77a",
   "metadata": {
    "execution": {
     "iopub.execute_input": "2021-08-23T00:23:01.382633Z",
     "iopub.status.busy": "2021-08-23T00:23:01.382076Z",
     "iopub.status.idle": "2021-08-23T00:23:01.395614Z",
     "shell.execute_reply": "2021-08-23T00:23:01.395120Z"
    },
    "papermill": {
     "duration": 0.046628,
     "end_time": "2021-08-23T00:23:01.395732",
     "exception": false,
     "start_time": "2021-08-23T00:23:01.349104",
     "status": "completed"
    },
    "tags": []
   },
   "outputs": [],
   "source": [
    "nn_learner = Learner(loss, model_nn, opt, config.num_epochs)\n",
    "acc_nn = ClfCallback(nn_learner, config.bs, training_data_x , testing_data_x, training_data_y, testing_data_y)\n",
    "nn_learner.set_callbacks([acc_nn])"
   ]
  },
  {
   "cell_type": "code",
   "execution_count": 21,
   "id": "877b6cc7",
   "metadata": {
    "execution": {
     "iopub.execute_input": "2021-08-23T00:23:01.457757Z",
     "iopub.status.busy": "2021-08-23T00:23:01.457174Z",
     "iopub.status.idle": "2021-08-23T00:23:01.470375Z",
     "shell.execute_reply": "2021-08-23T00:23:01.471066Z"
    },
    "papermill": {
     "duration": 0.046581,
     "end_time": "2021-08-23T00:23:01.471258",
     "exception": false,
     "start_time": "2021-08-23T00:23:01.424677",
     "status": "completed"
    },
    "tags": []
   },
   "outputs": [],
   "source": [
    "lr_learner = Learner(loss, model_lr, opt, config.num_epochs)\n",
    "acc_lr = ClfCallback(lr_learner, config.bs, training_data_x , testing_data_x, training_data_y, testing_data_y)\n",
    "lr_learner.set_callbacks([acc_lr])"
   ]
  },
  {
   "cell_type": "code",
   "execution_count": 22,
   "id": "d9b133c3",
   "metadata": {
    "execution": {
     "iopub.execute_input": "2021-08-23T00:23:01.537438Z",
     "iopub.status.busy": "2021-08-23T00:23:01.536837Z",
     "iopub.status.idle": "2021-08-23T00:24:22.483453Z",
     "shell.execute_reply": "2021-08-23T00:24:22.484261Z"
    },
    "papermill": {
     "duration": 80.980333,
     "end_time": "2021-08-23T00:24:22.484418",
     "exception": false,
     "start_time": "2021-08-23T00:23:01.504085",
     "status": "completed"
    },
    "tags": []
   },
   "outputs": [
    {
     "name": "stdout",
     "output_type": "stream",
     "text": [
      "Epoch 0, Loss 0.249\n",
      "Training Accuracy: 0.6029, Testing Accuracy: 0.6300\n",
      "\n"
     ]
    },
    {
     "name": "stdout",
     "output_type": "stream",
     "text": [
      "Epoch 10, Loss 0.0894\n",
      "Training Accuracy: 0.9222, Testing Accuracy: 0.9309\n",
      "\n"
     ]
    },
    {
     "name": "stdout",
     "output_type": "stream",
     "text": [
      "Epoch 20, Loss 0.0537\n",
      "Training Accuracy: 0.9442, Testing Accuracy: 0.9567\n",
      "\n"
     ]
    },
    {
     "name": "stdout",
     "output_type": "stream",
     "text": [
      "Epoch 30, Loss 0.0418\n",
      "Training Accuracy: 0.9551, Testing Accuracy: 0.9637\n",
      "\n"
     ]
    },
    {
     "name": "stdout",
     "output_type": "stream",
     "text": [
      "Epoch 40, Loss 0.0359\n",
      "Training Accuracy: 0.9599, Testing Accuracy: 0.9682\n",
      "\n"
     ]
    },
    {
     "name": "stdout",
     "output_type": "stream",
     "text": [
      "Epoch 50, Loss 0.0324\n",
      "Training Accuracy: 0.9629, Testing Accuracy: 0.9713\n",
      "\n"
     ]
    },
    {
     "name": "stdout",
     "output_type": "stream",
     "text": [
      "Epoch 60, Loss 0.0299\n",
      "Training Accuracy: 0.9658, Testing Accuracy: 0.9713\n",
      "\n"
     ]
    },
    {
     "name": "stdout",
     "output_type": "stream",
     "text": [
      "Epoch 70, Loss 0.028\n",
      "Training Accuracy: 0.9680, Testing Accuracy: 0.9718\n",
      "\n"
     ]
    },
    {
     "name": "stdout",
     "output_type": "stream",
     "text": [
      "Epoch 80, Loss 0.0265\n",
      "Training Accuracy: 0.9696, Testing Accuracy: 0.9718\n",
      "\n"
     ]
    },
    {
     "name": "stdout",
     "output_type": "stream",
     "text": [
      "Epoch 90, Loss 0.0253\n",
      "Training Accuracy: 0.9708, Testing Accuracy: 0.9723\n",
      "\n"
     ]
    },
    {
     "name": "stdout",
     "output_type": "stream",
     "text": [
      "Epoch 100, Loss 0.0242\n",
      "Training Accuracy: 0.9720, Testing Accuracy: 0.9728\n",
      "\n"
     ]
    },
    {
     "name": "stdout",
     "output_type": "stream",
     "text": [
      "Epoch 110, Loss 0.0233\n",
      "Training Accuracy: 0.9730, Testing Accuracy: 0.9743\n",
      "\n"
     ]
    },
    {
     "name": "stdout",
     "output_type": "stream",
     "text": [
      "Epoch 120, Loss 0.0225\n",
      "Training Accuracy: 0.9744, Testing Accuracy: 0.9733\n",
      "\n"
     ]
    },
    {
     "name": "stdout",
     "output_type": "stream",
     "text": [
      "Epoch 130, Loss 0.0217\n",
      "Training Accuracy: 0.9753, Testing Accuracy: 0.9743\n",
      "\n"
     ]
    },
    {
     "name": "stdout",
     "output_type": "stream",
     "text": [
      "Epoch 140, Loss 0.021\n",
      "Training Accuracy: 0.9762, Testing Accuracy: 0.9753\n",
      "\n"
     ]
    },
    {
     "name": "stdout",
     "output_type": "stream",
     "text": [
      "Epoch 150, Loss 0.0204\n",
      "Training Accuracy: 0.9773, Testing Accuracy: 0.9753\n",
      "\n"
     ]
    },
    {
     "name": "stdout",
     "output_type": "stream",
     "text": [
      "Epoch 160, Loss 0.0198\n",
      "Training Accuracy: 0.9780, Testing Accuracy: 0.9758\n",
      "\n"
     ]
    },
    {
     "name": "stdout",
     "output_type": "stream",
     "text": [
      "Epoch 170, Loss 0.0193\n",
      "Training Accuracy: 0.9784, Testing Accuracy: 0.9768\n",
      "\n"
     ]
    },
    {
     "name": "stdout",
     "output_type": "stream",
     "text": [
      "Epoch 180, Loss 0.0187\n",
      "Training Accuracy: 0.9788, Testing Accuracy: 0.9768\n",
      "\n"
     ]
    },
    {
     "name": "stdout",
     "output_type": "stream",
     "text": [
      "Epoch 190, Loss 0.0183\n",
      "Training Accuracy: 0.9793, Testing Accuracy: 0.9768\n",
      "\n"
     ]
    },
    {
     "name": "stdout",
     "output_type": "stream",
     "text": [
      "Epoch 200, Loss 0.0178\n",
      "Training Accuracy: 0.9801, Testing Accuracy: 0.9768\n",
      "\n"
     ]
    },
    {
     "name": "stdout",
     "output_type": "stream",
     "text": [
      "Epoch 210, Loss 0.0174\n",
      "Training Accuracy: 0.9806, Testing Accuracy: 0.9778\n",
      "\n"
     ]
    },
    {
     "name": "stdout",
     "output_type": "stream",
     "text": [
      "Epoch 220, Loss 0.017\n",
      "Training Accuracy: 0.9811, Testing Accuracy: 0.9773\n",
      "\n"
     ]
    },
    {
     "name": "stdout",
     "output_type": "stream",
     "text": [
      "Epoch 230, Loss 0.0166\n",
      "Training Accuracy: 0.9816, Testing Accuracy: 0.9778\n",
      "\n"
     ]
    },
    {
     "name": "stdout",
     "output_type": "stream",
     "text": [
      "Epoch 240, Loss 0.0162\n",
      "Training Accuracy: 0.9822, Testing Accuracy: 0.9788\n",
      "\n"
     ]
    },
    {
     "data": {
      "text/plain": [
       "0.0030212225375350417"
      ]
     },
     "execution_count": 22,
     "metadata": {},
     "output_type": "execute_result"
    }
   ],
   "source": [
    "nn_learner.train_loop(dl)"
   ]
  },
  {
   "cell_type": "code",
   "execution_count": 23,
   "id": "e0163366",
   "metadata": {
    "execution": {
     "iopub.execute_input": "2021-08-23T00:24:22.563595Z",
     "iopub.status.busy": "2021-08-23T00:24:22.563048Z",
     "iopub.status.idle": "2021-08-23T00:24:37.006301Z",
     "shell.execute_reply": "2021-08-23T00:24:37.007109Z"
    },
    "papermill": {
     "duration": 14.488309,
     "end_time": "2021-08-23T00:24:37.007269",
     "exception": false,
     "start_time": "2021-08-23T00:24:22.518960",
     "status": "completed"
    },
    "tags": []
   },
   "outputs": [
    {
     "name": "stdout",
     "output_type": "stream",
     "text": [
      "Epoch 0, Loss 0.2298\n",
      "Training Accuracy: 0.7318, Testing Accuracy: 0.7651\n",
      "\n"
     ]
    },
    {
     "name": "stdout",
     "output_type": "stream",
     "text": [
      "Epoch 10, Loss 0.1039\n",
      "Training Accuracy: 0.9039, Testing Accuracy: 0.9118\n",
      "\n"
     ]
    },
    {
     "name": "stdout",
     "output_type": "stream",
     "text": [
      "Epoch 20, Loss 0.0802\n",
      "Training Accuracy: 0.9241, Testing Accuracy: 0.9320\n",
      "\n"
     ]
    },
    {
     "name": "stdout",
     "output_type": "stream",
     "text": [
      "Epoch 30, Loss 0.069\n",
      "Training Accuracy: 0.9343, Testing Accuracy: 0.9425\n",
      "\n"
     ]
    },
    {
     "name": "stdout",
     "output_type": "stream",
     "text": [
      "Epoch 40, Loss 0.0623\n",
      "Training Accuracy: 0.9394, Testing Accuracy: 0.9491\n",
      "\n"
     ]
    },
    {
     "name": "stdout",
     "output_type": "stream",
     "text": [
      "Epoch 50, Loss 0.0577\n",
      "Training Accuracy: 0.9438, Testing Accuracy: 0.9521\n",
      "\n"
     ]
    },
    {
     "name": "stdout",
     "output_type": "stream",
     "text": [
      "Epoch 60, Loss 0.0544\n",
      "Training Accuracy: 0.9464, Testing Accuracy: 0.9551\n",
      "\n"
     ]
    },
    {
     "name": "stdout",
     "output_type": "stream",
     "text": [
      "Epoch 70, Loss 0.0518\n",
      "Training Accuracy: 0.9483, Testing Accuracy: 0.9561\n",
      "\n"
     ]
    },
    {
     "name": "stdout",
     "output_type": "stream",
     "text": [
      "Epoch 80, Loss 0.0497\n",
      "Training Accuracy: 0.9493, Testing Accuracy: 0.9587\n",
      "\n"
     ]
    },
    {
     "name": "stdout",
     "output_type": "stream",
     "text": [
      "Epoch 90, Loss 0.0479\n",
      "Training Accuracy: 0.9508, Testing Accuracy: 0.9587\n",
      "\n"
     ]
    },
    {
     "name": "stdout",
     "output_type": "stream",
     "text": [
      "Epoch 100, Loss 0.0465\n",
      "Training Accuracy: 0.9520, Testing Accuracy: 0.9612\n",
      "\n"
     ]
    },
    {
     "name": "stdout",
     "output_type": "stream",
     "text": [
      "Epoch 110, Loss 0.0453\n",
      "Training Accuracy: 0.9531, Testing Accuracy: 0.9622\n",
      "\n"
     ]
    },
    {
     "name": "stdout",
     "output_type": "stream",
     "text": [
      "Epoch 120, Loss 0.0442\n",
      "Training Accuracy: 0.9543, Testing Accuracy: 0.9627\n",
      "\n"
     ]
    },
    {
     "name": "stdout",
     "output_type": "stream",
     "text": [
      "Epoch 130, Loss 0.0432\n",
      "Training Accuracy: 0.9551, Testing Accuracy: 0.9637\n",
      "\n"
     ]
    },
    {
     "name": "stdout",
     "output_type": "stream",
     "text": [
      "Epoch 140, Loss 0.0424\n",
      "Training Accuracy: 0.9555, Testing Accuracy: 0.9637\n",
      "\n"
     ]
    },
    {
     "name": "stdout",
     "output_type": "stream",
     "text": [
      "Epoch 150, Loss 0.0416\n",
      "Training Accuracy: 0.9560, Testing Accuracy: 0.9652\n",
      "\n"
     ]
    },
    {
     "name": "stdout",
     "output_type": "stream",
     "text": [
      "Epoch 160, Loss 0.0409\n",
      "Training Accuracy: 0.9570, Testing Accuracy: 0.9662\n",
      "\n"
     ]
    },
    {
     "name": "stdout",
     "output_type": "stream",
     "text": [
      "Epoch 170, Loss 0.0403\n",
      "Training Accuracy: 0.9576, Testing Accuracy: 0.9657\n",
      "\n"
     ]
    },
    {
     "name": "stdout",
     "output_type": "stream",
     "text": [
      "Epoch 180, Loss 0.0397\n",
      "Training Accuracy: 0.9584, Testing Accuracy: 0.9652\n",
      "\n"
     ]
    },
    {
     "name": "stdout",
     "output_type": "stream",
     "text": [
      "Epoch 190, Loss 0.0392\n",
      "Training Accuracy: 0.9588, Testing Accuracy: 0.9657\n",
      "\n"
     ]
    },
    {
     "name": "stdout",
     "output_type": "stream",
     "text": [
      "Epoch 200, Loss 0.0387\n",
      "Training Accuracy: 0.9591, Testing Accuracy: 0.9657\n",
      "\n"
     ]
    },
    {
     "name": "stdout",
     "output_type": "stream",
     "text": [
      "Epoch 210, Loss 0.0383\n",
      "Training Accuracy: 0.9594, Testing Accuracy: 0.9662\n",
      "\n"
     ]
    },
    {
     "name": "stdout",
     "output_type": "stream",
     "text": [
      "Epoch 220, Loss 0.0379\n",
      "Training Accuracy: 0.9598, Testing Accuracy: 0.9662\n",
      "\n"
     ]
    },
    {
     "name": "stdout",
     "output_type": "stream",
     "text": [
      "Epoch 230, Loss 0.0375\n",
      "Training Accuracy: 0.9600, Testing Accuracy: 0.9662\n",
      "\n"
     ]
    },
    {
     "name": "stdout",
     "output_type": "stream",
     "text": [
      "Epoch 240, Loss 0.0371\n",
      "Training Accuracy: 0.9601, Testing Accuracy: 0.9667\n",
      "\n"
     ]
    },
    {
     "data": {
      "text/plain": [
       "0.01688174178785102"
      ]
     },
     "execution_count": 23,
     "metadata": {},
     "output_type": "execute_result"
    }
   ],
   "source": [
    "lr_learner.train_loop(dl)"
   ]
  },
  {
   "cell_type": "code",
   "execution_count": 24,
   "id": "ca410940",
   "metadata": {
    "execution": {
     "iopub.execute_input": "2021-08-23T00:24:37.111301Z",
     "iopub.status.busy": "2021-08-23T00:24:37.110677Z",
     "iopub.status.idle": "2021-08-23T00:24:37.366731Z",
     "shell.execute_reply": "2021-08-23T00:24:37.366243Z"
    },
    "papermill": {
     "duration": 0.314731,
     "end_time": "2021-08-23T00:24:37.366856",
     "exception": false,
     "start_time": "2021-08-23T00:24:37.052125",
     "status": "completed"
    },
    "tags": []
   },
   "outputs": [
    {
     "data": {
      "text/plain": [
       "<matplotlib.legend.Legend at 0x7f8100cd39b0>"
      ]
     },
     "execution_count": 24,
     "metadata": {},
     "output_type": "execute_result"
    },
    {
     "data": {
      "image/png": "[encoded data removed]",
      "text/plain": [
       "<Figure size 1080x720 with 1 Axes>"
      ]
     },
     "metadata": {
      "needs_background": "light"
     },
     "output_type": "display_data"
    }
   ],
   "source": [
    "#comparing the results of NN and LR\n",
    "plt.figure(figsize=(15,10))\n",
    "\n",
    "# Neural Network plots\n",
    "plt.plot(acc_nn.accuracies, 'r-', label = \"Training Accuracies - NN\")\n",
    "plt.plot(acc_nn.test_accuracies, 'g-', label = \"Testing Accuracies - NN\")\n",
    "\n",
    "# Logistic Regression plots\n",
    "plt.plot(acc_lr.accuracies, 'k-', label = \"Training Accuracies - LR\")\n",
    "plt.plot(acc_lr.test_accuracies, 'b-', label = \"Testing Accuracies - LR\")\n",
    "plt.legend()"
   ]
  },
  {
   "cell_type": "markdown",
   "id": "80dfb35c",
   "metadata": {
    "papermill": {
     "duration": 0.044155,
     "end_time": "2021-08-23T00:24:37.456523",
     "exception": false,
     "start_time": "2021-08-23T00:24:37.412368",
     "status": "completed"
    },
    "tags": []
   },
   "source": [
    "#### Plotting the outputs of this layer of the NN.\n"
   ]
  },
  {
   "cell_type": "code",
   "execution_count": 25,
   "id": "45eb2ff5",
   "metadata": {
    "execution": {
     "iopub.execute_input": "2021-08-23T00:24:37.553065Z",
     "iopub.status.busy": "2021-08-23T00:24:37.551707Z",
     "iopub.status.idle": "2021-08-23T00:24:37.572748Z",
     "shell.execute_reply": "2021-08-23T00:24:37.573224Z"
    },
    "papermill": {
     "duration": 0.071768,
     "end_time": "2021-08-23T00:24:37.573376",
     "exception": false,
     "start_time": "2021-08-23T00:24:37.501608",
     "status": "completed"
    },
    "tags": []
   },
   "outputs": [],
   "source": [
    "new_model = Model(layers[:-2])\n",
    "testing_plot = new_model(testing_data_x)"
   ]
  },
  {
   "cell_type": "code",
   "execution_count": 26,
   "id": "4c0a5485",
   "metadata": {
    "execution": {
     "iopub.execute_input": "2021-08-23T00:24:37.687112Z",
     "iopub.status.busy": "2021-08-23T00:24:37.686555Z",
     "iopub.status.idle": "2021-08-23T00:24:37.900256Z",
     "shell.execute_reply": "2021-08-23T00:24:37.899775Z"
    },
    "papermill": {
     "duration": 0.27414,
     "end_time": "2021-08-23T00:24:37.900382",
     "exception": false,
     "start_time": "2021-08-23T00:24:37.626242",
     "status": "completed"
    },
    "tags": []
   },
   "outputs": [
    {
     "data": {
      "text/plain": [
       "Text(0.5, 1.0, 'Outputs')"
      ]
     },
     "execution_count": 26,
     "metadata": {},
     "output_type": "execute_result"
    },
    {
     "data": {
      "image/png": "[encoded data removed]",
      "text/plain": [
       "<Figure size 576x504 with 1 Axes>"
      ]
     },
     "metadata": {
      "needs_background": "light"
     },
     "output_type": "display_data"
    }
   ],
   "source": [
    "# Plotting the scatter plot of points and color coding by class\n",
    "plt.figure(figsize=(8,7))\n",
    "plt.scatter(testing_plot[:,0], testing_plot[:,1], alpha = 0.1, c = y_test.ravel());\n",
    "plt.title('Outputs')"
   ]
  },
  {
   "cell_type": "markdown",
   "id": "a74fcf8f",
   "metadata": {
    "papermill": {
     "duration": 0.046334,
     "end_time": "2021-08-23T00:24:37.989740",
     "exception": false,
     "start_time": "2021-08-23T00:24:37.943406",
     "status": "completed"
    },
    "tags": []
   },
   "source": [
    "Probability contours"
   ]
  },
  {
   "cell_type": "code",
   "execution_count": 27,
   "id": "d0afc8e3",
   "metadata": {
    "execution": {
     "iopub.execute_input": "2021-08-23T00:24:38.094971Z",
     "iopub.status.busy": "2021-08-23T00:24:38.094404Z",
     "iopub.status.idle": "2021-08-23T00:24:38.098867Z",
     "shell.execute_reply": "2021-08-23T00:24:38.099315Z"
    },
    "papermill": {
     "duration": 0.063009,
     "end_time": "2021-08-23T00:24:38.099452",
     "exception": false,
     "start_time": "2021-08-23T00:24:38.036443",
     "status": "completed"
    },
    "tags": []
   },
   "outputs": [],
   "source": [
    "model_prob = Model(layers[-2:]) "
   ]
  },
  {
   "cell_type": "code",
   "execution_count": 28,
   "id": "9b96e238",
   "metadata": {
    "execution": {
     "iopub.execute_input": "2021-08-23T00:24:38.229923Z",
     "iopub.status.busy": "2021-08-23T00:24:38.229305Z",
     "iopub.status.idle": "2021-08-23T00:24:38.245214Z",
     "shell.execute_reply": "2021-08-23T00:24:38.244773Z"
    },
    "papermill": {
     "duration": 0.070407,
     "end_time": "2021-08-23T00:24:38.245337",
     "exception": false,
     "start_time": "2021-08-23T00:24:38.174930",
     "status": "completed"
    },
    "tags": []
   },
   "outputs": [],
   "source": [
    "#creating the x and y ranges according to the above generated plot.\n",
    "x_range = np.linspace(-4, 1, 100) \n",
    "y_range = np.linspace(-6, 6, 100) \n",
    "x_grid, y_grid = np.meshgrid(x_range, y_range) # x_grid and y_grig are of size 100 X 100\n",
    "\n",
    "# converting x_grid and y_grid to continuous arrays\n",
    "x_gridflat = np.ravel(x_grid)\n",
    "y_gridflat = np.ravel(y_grid)\n",
    "\n",
    "# The last layer of the current model takes two columns as input. Hence transpose of np.vstack() is required.\n",
    "X = np.vstack((x_gridflat, y_gridflat)).T\n",
    "\n",
    "prob_contour = model_prob(X).reshape(100,100) "
   ]
  },
  {
   "cell_type": "code",
   "execution_count": 29,
   "id": "da72499a",
   "metadata": {
    "execution": {
     "iopub.execute_input": "2021-08-23T00:24:38.357330Z",
     "iopub.status.busy": "2021-08-23T00:24:38.356770Z",
     "iopub.status.idle": "2021-08-23T00:24:38.620827Z",
     "shell.execute_reply": "2021-08-23T00:24:38.621473Z"
    },
    "papermill": {
     "duration": 0.318094,
     "end_time": "2021-08-23T00:24:38.621675",
     "exception": false,
     "start_time": "2021-08-23T00:24:38.303581",
     "status": "completed"
    },
    "tags": []
   },
   "outputs": [
    {
     "data": {
      "image/png": "[encoded data removed]",
      "text/plain": [
       "<Figure size 720x648 with 1 Axes>"
      ]
     },
     "metadata": {
      "needs_background": "light"
     },
     "output_type": "display_data"
    }
   ],
   "source": [
    "plt.figure(figsize=(10,9))\n",
    "plt.scatter(testing_plot[:,0], testing_plot[:,1], alpha = 0.1, c = y_test.ravel())\n",
    "contours = plt.contour(x_grid,y_grid,prob_contour)\n",
    "plt.title('Probability Contours')\n",
    "plt.clabel(contours, inline = True );"
   ]
  },
  {
   "cell_type": "code",
   "execution_count": null,
   "id": "e81b4ac7",
   "metadata": {
    "papermill": {
     "duration": 0.048473,
     "end_time": "2021-08-23T00:24:38.719773",
     "exception": false,
     "start_time": "2021-08-23T00:24:38.671300",
     "status": "completed"
    },
    "tags": []
   },
   "outputs": [],
   "source": []
  }
 ],
 "metadata": {
  "kernelspec": {
   "display_name": "Python 3",
   "language": "python",
   "name": "python3"
  },
  "language_info": {
   "codemirror_mode": {
    "name": "ipython",
    "version": 3
   },
   "file_extension": ".py",
   "mimetype": "text/x-python",
   "name": "python",
   "nbconvert_exporter": "python",
   "pygments_lexer": "ipython3",
   "version": "3.6.14"
  },
  "papermill": {
   "default_parameters": {},
   "duration": 353.622312,
   "end_time": "2021-08-23T00:24:39.181540",
   "environment_variables": {},
   "exception": null,
   "input_path": "2020-08-11-part2.ipynb",
   "output_path": "2020-08-11-part2.ipynb",
   "parameters": {},
   "start_time": "2021-08-23T00:18:45.559228",
   "version": "2.3.3"
  }
 },
 "nbformat": 4,
 "nbformat_minor": 5
}