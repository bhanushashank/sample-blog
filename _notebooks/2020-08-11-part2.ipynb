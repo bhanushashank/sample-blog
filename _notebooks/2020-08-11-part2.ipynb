{
 "cells": [
  {
   "cell_type": "markdown",
   "id": "98380cd3",
   "metadata": {
    "papermill": {
     "duration": 0.028434,
     "end_time": "2021-09-27T20:06:47.364701",
     "exception": false,
     "start_time": "2021-09-27T20:06:47.336267",
     "status": "completed"
    },
    "tags": []
   },
   "source": [
    "# Distinguish Your Own Digits (DYOD)"
   ]
  },
  {
   "cell_type": "markdown",
   "id": "ef31240d",
   "metadata": {
    "papermill": {
     "duration": 0.024098,
     "end_time": "2021-09-27T20:06:47.413396",
     "exception": false,
     "start_time": "2021-09-27T20:06:47.389298",
     "status": "completed"
    },
    "tags": []
   },
   "source": [
    "You are going to write a classifier that distinguishes between the number 3 and number 8."
   ]
  },
  {
   "cell_type": "code",
   "execution_count": 1,
   "id": "b15c8646",
   "metadata": {
    "execution": {
     "iopub.execute_input": "2021-09-27T20:06:47.473487Z",
     "iopub.status.busy": "2021-09-27T20:06:47.472938Z",
     "iopub.status.idle": "2021-09-27T20:06:47.483390Z",
     "shell.execute_reply": "2021-09-27T20:06:47.482947Z"
    },
    "papermill": {
     "duration": 0.04632,
     "end_time": "2021-09-27T20:06:47.483528",
     "exception": false,
     "start_time": "2021-09-27T20:06:47.437208",
     "status": "completed"
    },
    "tags": []
   },
   "outputs": [],
   "source": [
    "%load_ext autoreload\n",
    "%autoreload 2"
   ]
  },
  {
   "cell_type": "code",
   "execution_count": 2,
   "id": "22ef38dc",
   "metadata": {
    "execution": {
     "iopub.execute_input": "2021-09-27T20:06:47.538871Z",
     "iopub.status.busy": "2021-09-27T20:06:47.538336Z",
     "iopub.status.idle": "2021-09-27T20:06:48.062083Z",
     "shell.execute_reply": "2021-09-27T20:06:48.061538Z"
    },
    "papermill": {
     "duration": 0.554371,
     "end_time": "2021-09-27T20:06:48.062215",
     "exception": false,
     "start_time": "2021-09-27T20:06:47.507844",
     "status": "completed"
    },
    "tags": []
   },
   "outputs": [],
   "source": [
    "%matplotlib inline\n",
    "import numpy as np\n",
    "import matplotlib.pyplot as plt\n",
    "import pandas as pd"
   ]
  },
  {
   "cell_type": "markdown",
   "id": "ba036198",
   "metadata": {
    "papermill": {
     "duration": 0.032246,
     "end_time": "2021-09-27T20:06:48.119563",
     "exception": false,
     "start_time": "2021-09-27T20:06:48.087317",
     "status": "completed"
    },
    "tags": []
   },
   "source": [
    "From the command line run `pip install mnist`. This is a library that will help you bring down the mnist dataset. If you run this from a notebook, you need to put  `!pip install mnist` in a cell by itself."
   ]
  },
  {
   "cell_type": "code",
   "execution_count": 3,
   "id": "bb6ad8a1",
   "metadata": {
    "execution": {
     "iopub.execute_input": "2021-09-27T20:06:48.171648Z",
     "iopub.status.busy": "2021-09-27T20:06:48.170842Z",
     "iopub.status.idle": "2021-09-27T20:06:49.849791Z",
     "shell.execute_reply": "2021-09-27T20:06:49.849238Z"
    },
    "papermill": {
     "duration": 1.706211,
     "end_time": "2021-09-27T20:06:49.849939",
     "exception": false,
     "start_time": "2021-09-27T20:06:48.143728",
     "status": "completed"
    },
    "tags": []
   },
   "outputs": [
    {
     "name": "stdout",
     "output_type": "stream",
     "text": [
      "Collecting mnist\r\n"
     ]
    },
    {
     "name": "stdout",
     "output_type": "stream",
     "text": [
      "  Downloading mnist-0.2.2-py2.py3-none-any.whl (3.5 kB)\r\n",
      "Requirement already satisfied: numpy in /opt/hostedtoolcache/Python/3.6.15/x64/lib/python3.6/site-packages (from mnist) (1.19.5)\r\n"
     ]
    },
    {
     "name": "stdout",
     "output_type": "stream",
     "text": [
      "Installing collected packages: mnist\r\n"
     ]
    },
    {
     "name": "stdout",
     "output_type": "stream",
     "text": [
      "Successfully installed mnist-0.2.2\r\n"
     ]
    }
   ],
   "source": [
    "!pip install mnist"
   ]
  },
  {
   "cell_type": "markdown",
   "id": "69df9c9a",
   "metadata": {
    "papermill": {
     "duration": 0.025401,
     "end_time": "2021-09-27T20:06:49.901149",
     "exception": false,
     "start_time": "2021-09-27T20:06:49.875748",
     "status": "completed"
    },
    "tags": []
   },
   "source": [
    "## Preparing the Data"
   ]
  },
  {
   "cell_type": "code",
   "execution_count": 4,
   "id": "7f69d806",
   "metadata": {
    "execution": {
     "iopub.execute_input": "2021-09-27T20:06:49.955968Z",
     "iopub.status.busy": "2021-09-27T20:06:49.955450Z",
     "iopub.status.idle": "2021-09-27T20:06:49.970737Z",
     "shell.execute_reply": "2021-09-27T20:06:49.970265Z"
    },
    "papermill": {
     "duration": 0.044294,
     "end_time": "2021-09-27T20:06:49.970860",
     "exception": false,
     "start_time": "2021-09-27T20:06:49.926566",
     "status": "completed"
    },
    "tags": []
   },
   "outputs": [],
   "source": [
    "import mnist"
   ]
  },
  {
   "cell_type": "code",
   "execution_count": 5,
   "id": "a411e44f",
   "metadata": {
    "execution": {
     "iopub.execute_input": "2021-09-27T20:06:50.037573Z",
     "iopub.status.busy": "2021-09-27T20:06:50.030498Z",
     "iopub.status.idle": "2021-09-27T20:06:50.581710Z",
     "shell.execute_reply": "2021-09-27T20:06:50.581149Z"
    },
    "papermill": {
     "duration": 0.585408,
     "end_time": "2021-09-27T20:06:50.581859",
     "exception": false,
     "start_time": "2021-09-27T20:06:49.996451",
     "status": "completed"
    },
    "tags": []
   },
   "outputs": [],
   "source": [
    "train_images = mnist.train_images()\n",
    "train_labels = mnist.train_labels()"
   ]
  },
  {
   "cell_type": "code",
   "execution_count": 6,
   "id": "dceab3a5",
   "metadata": {
    "execution": {
     "iopub.execute_input": "2021-09-27T20:06:50.644842Z",
     "iopub.status.busy": "2021-09-27T20:06:50.644291Z",
     "iopub.status.idle": "2021-09-27T20:06:50.654154Z",
     "shell.execute_reply": "2021-09-27T20:06:50.654575Z"
    },
    "papermill": {
     "duration": 0.046885,
     "end_time": "2021-09-27T20:06:50.654717",
     "exception": false,
     "start_time": "2021-09-27T20:06:50.607832",
     "status": "completed"
    },
    "tags": []
   },
   "outputs": [
    {
     "data": {
      "text/plain": [
       "((60000, 28, 28), (60000,))"
      ]
     },
     "execution_count": 6,
     "metadata": {},
     "output_type": "execute_result"
    }
   ],
   "source": [
    "train_images.shape, train_labels.shape"
   ]
  },
  {
   "cell_type": "code",
   "execution_count": 7,
   "id": "f50dc2bb",
   "metadata": {
    "execution": {
     "iopub.execute_input": "2021-09-27T20:06:50.709759Z",
     "iopub.status.busy": "2021-09-27T20:06:50.709193Z",
     "iopub.status.idle": "2021-09-27T20:06:50.830116Z",
     "shell.execute_reply": "2021-09-27T20:06:50.829480Z"
    },
    "papermill": {
     "duration": 0.149991,
     "end_time": "2021-09-27T20:06:50.830259",
     "exception": false,
     "start_time": "2021-09-27T20:06:50.680268",
     "status": "completed"
    },
    "tags": []
   },
   "outputs": [],
   "source": [
    "test_images = mnist.test_images()\n",
    "test_labels = mnist.test_labels()"
   ]
  },
  {
   "cell_type": "code",
   "execution_count": 8,
   "id": "fc38cf1b",
   "metadata": {
    "execution": {
     "iopub.execute_input": "2021-09-27T20:06:50.886266Z",
     "iopub.status.busy": "2021-09-27T20:06:50.885715Z",
     "iopub.status.idle": "2021-09-27T20:06:50.899026Z",
     "shell.execute_reply": "2021-09-27T20:06:50.898563Z"
    },
    "papermill": {
     "duration": 0.04229,
     "end_time": "2021-09-27T20:06:50.899149",
     "exception": false,
     "start_time": "2021-09-27T20:06:50.856859",
     "status": "completed"
    },
    "tags": []
   },
   "outputs": [
    {
     "data": {
      "text/plain": [
       "((10000, 28, 28), (10000,))"
      ]
     },
     "execution_count": 8,
     "metadata": {},
     "output_type": "execute_result"
    }
   ],
   "source": [
    "test_images.shape, test_labels.shape"
   ]
  },
  {
   "cell_type": "code",
   "execution_count": 9,
   "id": "f9ed8fe0",
   "metadata": {
    "execution": {
     "iopub.execute_input": "2021-09-27T20:06:50.966529Z",
     "iopub.status.busy": "2021-09-27T20:06:50.960949Z",
     "iopub.status.idle": "2021-09-27T20:06:51.095845Z",
     "shell.execute_reply": "2021-09-27T20:06:51.096332Z"
    },
    "papermill": {
     "duration": 0.171505,
     "end_time": "2021-09-27T20:06:51.096491",
     "exception": false,
     "start_time": "2021-09-27T20:06:50.924986",
     "status": "completed"
    },
    "tags": []
   },
   "outputs": [
    {
     "name": "stdout",
     "output_type": "stream",
     "text": [
      "2\n"
     ]
    },
    {
     "data": {
      "text/plain": [
       "<matplotlib.image.AxesImage at 0x7f60a111b9b0>"
      ]
     },
     "execution_count": 9,
     "metadata": {},
     "output_type": "execute_result"
    },
    {
     "data": {
      "image/png": "[encoded data removed]",
      "text/plain": [
       "<Figure size 432x288 with 1 Axes>"
      ]
     },
     "metadata": {
      "needs_background": "light"
     },
     "output_type": "display_data"
    }
   ],
   "source": [
    "image_index = 7776 # You may select anything up to 60,000\n",
    "print(train_labels[image_index]) \n",
    "plt.imshow(train_images[image_index], cmap='Greys')"
   ]
  },
  {
   "cell_type": "markdown",
   "id": "a8d2388d",
   "metadata": {
    "papermill": {
     "duration": 0.027214,
     "end_time": "2021-09-27T20:06:51.153513",
     "exception": false,
     "start_time": "2021-09-27T20:06:51.126299",
     "status": "completed"
    },
    "tags": []
   },
   "source": [
    "## Filter data to get 3 and 8 out"
   ]
  },
  {
   "cell_type": "code",
   "execution_count": 10,
   "id": "776f7fc7",
   "metadata": {
    "execution": {
     "iopub.execute_input": "2021-09-27T20:06:51.229608Z",
     "iopub.status.busy": "2021-09-27T20:06:51.222565Z",
     "iopub.status.idle": "2021-09-27T20:06:51.231841Z",
     "shell.execute_reply": "2021-09-27T20:06:51.231371Z"
    },
    "papermill": {
     "duration": 0.051641,
     "end_time": "2021-09-27T20:06:51.231965",
     "exception": false,
     "start_time": "2021-09-27T20:06:51.180324",
     "status": "completed"
    },
    "tags": []
   },
   "outputs": [],
   "source": [
    "train_filter = np.where((train_labels == 3 ) | (train_labels == 8))\n",
    "test_filter = np.where((test_labels == 3) | (test_labels == 8))\n",
    "X_train, y_train = train_images[train_filter], train_labels[train_filter]\n",
    "X_test, y_test = test_images[test_filter], test_labels[test_filter]"
   ]
  },
  {
   "cell_type": "markdown",
   "id": "948f0b7e",
   "metadata": {
    "papermill": {
     "duration": 0.027332,
     "end_time": "2021-09-27T20:06:51.286397",
     "exception": false,
     "start_time": "2021-09-27T20:06:51.259065",
     "status": "completed"
    },
    "tags": []
   },
   "source": [
    "We normalize the pizel values in the 0 to 1 range"
   ]
  },
  {
   "cell_type": "code",
   "execution_count": 11,
   "id": "ee4c2166",
   "metadata": {
    "execution": {
     "iopub.execute_input": "2021-09-27T20:06:51.345972Z",
     "iopub.status.busy": "2021-09-27T20:06:51.345362Z",
     "iopub.status.idle": "2021-09-27T20:06:51.391949Z",
     "shell.execute_reply": "2021-09-27T20:06:51.392433Z"
    },
    "papermill": {
     "duration": 0.079354,
     "end_time": "2021-09-27T20:06:51.392607",
     "exception": false,
     "start_time": "2021-09-27T20:06:51.313253",
     "status": "completed"
    },
    "tags": []
   },
   "outputs": [],
   "source": [
    "X_train = X_train/255.\n",
    "X_test = X_test/255."
   ]
  },
  {
   "cell_type": "markdown",
   "id": "ddcf4fab",
   "metadata": {
    "papermill": {
     "duration": 0.026998,
     "end_time": "2021-09-27T20:06:51.447475",
     "exception": false,
     "start_time": "2021-09-27T20:06:51.420477",
     "status": "completed"
    },
    "tags": []
   },
   "source": [
    "And setup the labels as 1 (when the digit is 3) and 0 (when the digit is 8)"
   ]
  },
  {
   "cell_type": "code",
   "execution_count": 12,
   "id": "7dc908f2",
   "metadata": {
    "execution": {
     "iopub.execute_input": "2021-09-27T20:06:51.505002Z",
     "iopub.status.busy": "2021-09-27T20:06:51.504468Z",
     "iopub.status.idle": "2021-09-27T20:06:51.517646Z",
     "shell.execute_reply": "2021-09-27T20:06:51.517145Z"
    },
    "papermill": {
     "duration": 0.04352,
     "end_time": "2021-09-27T20:06:51.517783",
     "exception": false,
     "start_time": "2021-09-27T20:06:51.474263",
     "status": "completed"
    },
    "tags": []
   },
   "outputs": [],
   "source": [
    "y_train = 1*(y_train==3)\n",
    "y_test = 1*(y_test==3)"
   ]
  },
  {
   "cell_type": "code",
   "execution_count": 13,
   "id": "01e4e969",
   "metadata": {
    "execution": {
     "iopub.execute_input": "2021-09-27T20:06:51.575419Z",
     "iopub.status.busy": "2021-09-27T20:06:51.574882Z",
     "iopub.status.idle": "2021-09-27T20:06:51.588496Z",
     "shell.execute_reply": "2021-09-27T20:06:51.588917Z"
    },
    "papermill": {
     "duration": 0.044321,
     "end_time": "2021-09-27T20:06:51.589061",
     "exception": false,
     "start_time": "2021-09-27T20:06:51.544740",
     "status": "completed"
    },
    "tags": []
   },
   "outputs": [
    {
     "data": {
      "text/plain": [
       "((11982, 28, 28), (1984, 28, 28))"
      ]
     },
     "execution_count": 13,
     "metadata": {},
     "output_type": "execute_result"
    }
   ],
   "source": [
    "X_train.shape, X_test.shape"
   ]
  },
  {
   "cell_type": "markdown",
   "id": "5ccf3f85",
   "metadata": {
    "papermill": {
     "duration": 0.027169,
     "end_time": "2021-09-27T20:06:51.643378",
     "exception": false,
     "start_time": "2021-09-27T20:06:51.616209",
     "status": "completed"
    },
    "tags": []
   },
   "source": [
    "We reshape the data to flatten the image pixels into a set of features or co-variates:"
   ]
  },
  {
   "cell_type": "code",
   "execution_count": 14,
   "id": "5286a4a3",
   "metadata": {
    "execution": {
     "iopub.execute_input": "2021-09-27T20:06:51.704967Z",
     "iopub.status.busy": "2021-09-27T20:06:51.704408Z",
     "iopub.status.idle": "2021-09-27T20:06:51.716154Z",
     "shell.execute_reply": "2021-09-27T20:06:51.715672Z"
    },
    "papermill": {
     "duration": 0.04576,
     "end_time": "2021-09-27T20:06:51.716274",
     "exception": false,
     "start_time": "2021-09-27T20:06:51.670514",
     "status": "completed"
    },
    "tags": []
   },
   "outputs": [
    {
     "data": {
      "text/plain": [
       "((11982, 784), (1984, 784))"
      ]
     },
     "execution_count": 14,
     "metadata": {},
     "output_type": "execute_result"
    }
   ],
   "source": [
    "X_train = X_train.reshape(X_train.shape[0], -1)\n",
    "X_test = X_test.reshape(X_test.shape[0], -1)\n",
    "X_train.shape, X_test.shape"
   ]
  },
  {
   "cell_type": "code",
   "execution_count": 15,
   "id": "73c5f88a",
   "metadata": {
    "execution": {
     "iopub.execute_input": "2021-09-27T20:06:51.776301Z",
     "iopub.status.busy": "2021-09-27T20:06:51.775760Z",
     "iopub.status.idle": "2021-09-27T20:06:51.794054Z",
     "shell.execute_reply": "2021-09-27T20:06:51.793559Z"
    },
    "papermill": {
     "duration": 0.050192,
     "end_time": "2021-09-27T20:06:51.794177",
     "exception": false,
     "start_time": "2021-09-27T20:06:51.743985",
     "status": "completed"
    },
    "tags": []
   },
   "outputs": [],
   "source": [
    "#Impoting functions from 'Kudzu'\n",
    "from kudzu.model import Model\n",
    "from kudzu.train import Learner\n",
    "from kudzu.optim import GD\n",
    "from kudzu.data import Data, Sampler,Dataloader\n",
    "\n",
    "from kudzu.callbacks import AccCallback\n",
    "from kudzu.callbacks import ClfCallback\n",
    "\n",
    "from kudzu.loss import MSE\n",
    "\n",
    "from kudzu.layer import Sigmoid,Relu\n",
    "from kudzu.layer import Affine"
   ]
  },
  {
   "cell_type": "markdown",
   "id": "bc01172a",
   "metadata": {
    "papermill": {
     "duration": 0.027248,
     "end_time": "2021-09-27T20:06:51.849028",
     "exception": false,
     "start_time": "2021-09-27T20:06:51.821780",
     "status": "completed"
    },
    "tags": []
   },
   "source": [
    "### Let us create a `Config` class, to store important parameters. \n",
    "This class essentially plays the role of a dictionary."
   ]
  },
  {
   "cell_type": "code",
   "execution_count": 16,
   "id": "978281aa",
   "metadata": {
    "execution": {
     "iopub.execute_input": "2021-09-27T20:06:51.910311Z",
     "iopub.status.busy": "2021-09-27T20:06:51.909770Z",
     "iopub.status.idle": "2021-09-27T20:06:51.920048Z",
     "shell.execute_reply": "2021-09-27T20:06:51.919618Z"
    },
    "papermill": {
     "duration": 0.043837,
     "end_time": "2021-09-27T20:06:51.920174",
     "exception": false,
     "start_time": "2021-09-27T20:06:51.876337",
     "status": "completed"
    },
    "tags": []
   },
   "outputs": [],
   "source": [
    "class Config:\n",
    "    pass\n",
    "config = Config()\n",
    "config.lr = 0.001\n",
    "config.num_epochs = 250\n",
    "config.bs = 50"
   ]
  },
  {
   "cell_type": "markdown",
   "id": "1385fa59",
   "metadata": {
    "papermill": {
     "duration": 0.027318,
     "end_time": "2021-09-27T20:06:51.975162",
     "exception": false,
     "start_time": "2021-09-27T20:06:51.947844",
     "status": "completed"
    },
    "tags": []
   },
   "source": [
    "### Running Models with the Training data\n",
    "Details about the network layers:\n",
    "- A first affine layer has 784 inputs and does 100 affine transforms. These are followed by a Relu\n",
    "- A second affine layer has 100 inputs from the 100 activations of the past layer, and does 100 affine transforms. These are followed by a Relu\n",
    "- A third affine layer has 100 activations and does 2 affine transformations to create an embedding for visualization. There is no non-linearity here.\n",
    "- A final \"logistic regression\" which has an affine transform from 2 inputs to 1 output, which is squeezed through a sigmoid.\n"
   ]
  },
  {
   "cell_type": "code",
   "execution_count": 17,
   "id": "2b9c66db",
   "metadata": {
    "execution": {
     "iopub.execute_input": "2021-09-27T20:06:52.042596Z",
     "iopub.status.busy": "2021-09-27T20:06:52.040089Z",
     "iopub.status.idle": "2021-09-27T20:06:52.049237Z",
     "shell.execute_reply": "2021-09-27T20:06:52.048256Z"
    },
    "papermill": {
     "duration": 0.046783,
     "end_time": "2021-09-27T20:06:52.049365",
     "exception": false,
     "start_time": "2021-09-27T20:06:52.002582",
     "status": "completed"
    },
    "tags": []
   },
   "outputs": [],
   "source": [
    "data = Data(X_train, y_train.reshape(-1,1))\n",
    "sampler = Sampler(data, config.bs, shuffle=True)\n",
    "\n",
    "dl = Dataloader(data, sampler)\n",
    "\n",
    "opt = GD(config.lr)\n",
    "loss = MSE()"
   ]
  },
  {
   "cell_type": "code",
   "execution_count": 18,
   "id": "b275e4c2",
   "metadata": {
    "execution": {
     "iopub.execute_input": "2021-09-27T20:06:52.119942Z",
     "iopub.status.busy": "2021-09-27T20:06:52.107949Z",
     "iopub.status.idle": "2021-09-27T20:06:52.121845Z",
     "shell.execute_reply": "2021-09-27T20:06:52.122314Z"
    },
    "papermill": {
     "duration": 0.045275,
     "end_time": "2021-09-27T20:06:52.122462",
     "exception": false,
     "start_time": "2021-09-27T20:06:52.077187",
     "status": "completed"
    },
    "tags": []
   },
   "outputs": [],
   "source": [
    "training_data_x = X_train\n",
    "testing_data_x = X_test\n",
    "training_data_y = y_train.reshape(-1,1)\n",
    "testing_data_y = y_test.reshape(-1,1)"
   ]
  },
  {
   "cell_type": "code",
   "execution_count": 19,
   "id": "76951160",
   "metadata": {
    "execution": {
     "iopub.execute_input": "2021-09-27T20:06:52.182417Z",
     "iopub.status.busy": "2021-09-27T20:06:52.181868Z",
     "iopub.status.idle": "2021-09-27T20:06:52.198258Z",
     "shell.execute_reply": "2021-09-27T20:06:52.197767Z"
    },
    "papermill": {
     "duration": 0.048253,
     "end_time": "2021-09-27T20:06:52.198387",
     "exception": false,
     "start_time": "2021-09-27T20:06:52.150134",
     "status": "completed"
    },
    "tags": []
   },
   "outputs": [
    {
     "name": "stdout",
     "output_type": "stream",
     "text": [
      "xavier\n",
      "xavier\n",
      "xavier\n",
      "xavier\n",
      "xavier\n"
     ]
    }
   ],
   "source": [
    "layers = [Affine(\"first\", 784, 100), Relu(\"first\"), Affine(\"second\", 100, 100), Relu(\"second\"), Affine(\"third\", 100, 2), Affine(\"last\", 2, 1), Sigmoid(\"last\")]\n",
    "model_nn = Model(layers)\n",
    "model_lr = Model([Affine(\"logits\", 784, 1), Sigmoid(\"sigmoid\")])"
   ]
  },
  {
   "cell_type": "code",
   "execution_count": 20,
   "id": "6eede77a",
   "metadata": {
    "execution": {
     "iopub.execute_input": "2021-09-27T20:06:52.260105Z",
     "iopub.status.busy": "2021-09-27T20:06:52.259563Z",
     "iopub.status.idle": "2021-09-27T20:06:52.271324Z",
     "shell.execute_reply": "2021-09-27T20:06:52.270882Z"
    },
    "papermill": {
     "duration": 0.044899,
     "end_time": "2021-09-27T20:06:52.271451",
     "exception": false,
     "start_time": "2021-09-27T20:06:52.226552",
     "status": "completed"
    },
    "tags": []
   },
   "outputs": [],
   "source": [
    "nn_learner = Learner(loss, model_nn, opt, config.num_epochs)\n",
    "acc_nn = ClfCallback(nn_learner, config.bs, training_data_x , testing_data_x, training_data_y, testing_data_y)\n",
    "nn_learner.set_callbacks([acc_nn])"
   ]
  },
  {
   "cell_type": "code",
   "execution_count": 21,
   "id": "877b6cc7",
   "metadata": {
    "execution": {
     "iopub.execute_input": "2021-09-27T20:06:52.343698Z",
     "iopub.status.busy": "2021-09-27T20:06:52.337967Z",
     "iopub.status.idle": "2021-09-27T20:06:52.346044Z",
     "shell.execute_reply": "2021-09-27T20:06:52.345593Z"
    },
    "papermill": {
     "duration": 0.046972,
     "end_time": "2021-09-27T20:06:52.346173",
     "exception": false,
     "start_time": "2021-09-27T20:06:52.299201",
     "status": "completed"
    },
    "tags": []
   },
   "outputs": [],
   "source": [
    "lr_learner = Learner(loss, model_lr, opt, config.num_epochs)\n",
    "acc_lr = ClfCallback(lr_learner, config.bs, training_data_x , testing_data_x, training_data_y, testing_data_y)\n",
    "lr_learner.set_callbacks([acc_lr])"
   ]
  },
  {
   "cell_type": "code",
   "execution_count": 22,
   "id": "d9b133c3",
   "metadata": {
    "execution": {
     "iopub.execute_input": "2021-09-27T20:06:52.406969Z",
     "iopub.status.busy": "2021-09-27T20:06:52.406427Z",
     "iopub.status.idle": "2021-09-27T20:08:09.717517Z",
     "shell.execute_reply": "2021-09-27T20:08:09.718332Z"
    },
    "papermill": {
     "duration": 77.344277,
     "end_time": "2021-09-27T20:08:09.718488",
     "exception": false,
     "start_time": "2021-09-27T20:06:52.374211",
     "status": "completed"
    },
    "tags": []
   },
   "outputs": [
    {
     "name": "stdout",
     "output_type": "stream",
     "text": [
      "Epoch 0, Loss 0.2488\n",
      "Training Accuracy: 0.6491, Testing Accuracy: 0.6729\n",
      "\n"
     ]
    },
    {
     "name": "stdout",
     "output_type": "stream",
     "text": [
      "Epoch 10, Loss 0.0854\n",
      "Training Accuracy: 0.9165, Testing Accuracy: 0.9304\n",
      "\n"
     ]
    },
    {
     "name": "stdout",
     "output_type": "stream",
     "text": [
      "Epoch 20, Loss 0.0553\n",
      "Training Accuracy: 0.9396, Testing Accuracy: 0.9546\n",
      "\n"
     ]
    },
    {
     "name": "stdout",
     "output_type": "stream",
     "text": [
      "Epoch 30, Loss 0.0445\n",
      "Training Accuracy: 0.9501, Testing Accuracy: 0.9577\n",
      "\n"
     ]
    },
    {
     "name": "stdout",
     "output_type": "stream",
     "text": [
      "Epoch 40, Loss 0.0389\n",
      "Training Accuracy: 0.9550, Testing Accuracy: 0.9597\n",
      "\n"
     ]
    },
    {
     "name": "stdout",
     "output_type": "stream",
     "text": [
      "Epoch 50, Loss 0.0353\n",
      "Training Accuracy: 0.9584, Testing Accuracy: 0.9607\n",
      "\n"
     ]
    },
    {
     "name": "stdout",
     "output_type": "stream",
     "text": [
      "Epoch 60, Loss 0.0328\n",
      "Training Accuracy: 0.9613, Testing Accuracy: 0.9637\n",
      "\n"
     ]
    },
    {
     "name": "stdout",
     "output_type": "stream",
     "text": [
      "Epoch 70, Loss 0.0308\n",
      "Training Accuracy: 0.9634, Testing Accuracy: 0.9657\n",
      "\n"
     ]
    },
    {
     "name": "stdout",
     "output_type": "stream",
     "text": [
      "Epoch 80, Loss 0.0293\n",
      "Training Accuracy: 0.9659, Testing Accuracy: 0.9677\n",
      "\n"
     ]
    },
    {
     "name": "stdout",
     "output_type": "stream",
     "text": [
      "Epoch 90, Loss 0.0281\n",
      "Training Accuracy: 0.9675, Testing Accuracy: 0.9677\n",
      "\n"
     ]
    },
    {
     "name": "stdout",
     "output_type": "stream",
     "text": [
      "Epoch 100, Loss 0.027\n",
      "Training Accuracy: 0.9690, Testing Accuracy: 0.9688\n",
      "\n"
     ]
    },
    {
     "name": "stdout",
     "output_type": "stream",
     "text": [
      "Epoch 110, Loss 0.0261\n",
      "Training Accuracy: 0.9704, Testing Accuracy: 0.9698\n",
      "\n"
     ]
    },
    {
     "name": "stdout",
     "output_type": "stream",
     "text": [
      "Epoch 120, Loss 0.0253\n",
      "Training Accuracy: 0.9714, Testing Accuracy: 0.9713\n",
      "\n"
     ]
    },
    {
     "name": "stdout",
     "output_type": "stream",
     "text": [
      "Epoch 130, Loss 0.0246\n",
      "Training Accuracy: 0.9720, Testing Accuracy: 0.9713\n",
      "\n"
     ]
    },
    {
     "name": "stdout",
     "output_type": "stream",
     "text": [
      "Epoch 140, Loss 0.024\n",
      "Training Accuracy: 0.9723, Testing Accuracy: 0.9708\n",
      "\n"
     ]
    },
    {
     "name": "stdout",
     "output_type": "stream",
     "text": [
      "Epoch 150, Loss 0.0234\n",
      "Training Accuracy: 0.9730, Testing Accuracy: 0.9713\n",
      "\n"
     ]
    },
    {
     "name": "stdout",
     "output_type": "stream",
     "text": [
      "Epoch 160, Loss 0.0228\n",
      "Training Accuracy: 0.9738, Testing Accuracy: 0.9713\n",
      "\n"
     ]
    },
    {
     "name": "stdout",
     "output_type": "stream",
     "text": [
      "Epoch 170, Loss 0.0224\n",
      "Training Accuracy: 0.9745, Testing Accuracy: 0.9713\n",
      "\n"
     ]
    },
    {
     "name": "stdout",
     "output_type": "stream",
     "text": [
      "Epoch 180, Loss 0.0219\n",
      "Training Accuracy: 0.9750, Testing Accuracy: 0.9718\n",
      "\n"
     ]
    },
    {
     "name": "stdout",
     "output_type": "stream",
     "text": [
      "Epoch 190, Loss 0.0214\n",
      "Training Accuracy: 0.9752, Testing Accuracy: 0.9728\n",
      "\n"
     ]
    },
    {
     "name": "stdout",
     "output_type": "stream",
     "text": [
      "Epoch 200, Loss 0.021\n",
      "Training Accuracy: 0.9760, Testing Accuracy: 0.9733\n",
      "\n"
     ]
    },
    {
     "name": "stdout",
     "output_type": "stream",
     "text": [
      "Epoch 210, Loss 0.0206\n",
      "Training Accuracy: 0.9761, Testing Accuracy: 0.9733\n",
      "\n"
     ]
    },
    {
     "name": "stdout",
     "output_type": "stream",
     "text": [
      "Epoch 220, Loss 0.0202\n",
      "Training Accuracy: 0.9770, Testing Accuracy: 0.9733\n",
      "\n"
     ]
    },
    {
     "name": "stdout",
     "output_type": "stream",
     "text": [
      "Epoch 230, Loss 0.0198\n",
      "Training Accuracy: 0.9775, Testing Accuracy: 0.9733\n",
      "\n"
     ]
    },
    {
     "name": "stdout",
     "output_type": "stream",
     "text": [
      "Epoch 240, Loss 0.0195\n",
      "Training Accuracy: 0.9776, Testing Accuracy: 0.9748\n",
      "\n"
     ]
    },
    {
     "data": {
      "text/plain": [
       "0.013506079328723095"
      ]
     },
     "execution_count": 22,
     "metadata": {},
     "output_type": "execute_result"
    }
   ],
   "source": [
    "nn_learner.train_loop(dl)"
   ]
  },
  {
   "cell_type": "code",
   "execution_count": 23,
   "id": "e0163366",
   "metadata": {
    "execution": {
     "iopub.execute_input": "2021-09-27T20:08:09.799075Z",
     "iopub.status.busy": "2021-09-27T20:08:09.798521Z",
     "iopub.status.idle": "2021-09-27T20:08:23.577122Z",
     "shell.execute_reply": "2021-09-27T20:08:23.577928Z"
    },
    "papermill": {
     "duration": 13.824739,
     "end_time": "2021-09-27T20:08:23.578080",
     "exception": false,
     "start_time": "2021-09-27T20:08:09.753341",
     "status": "completed"
    },
    "tags": []
   },
   "outputs": [
    {
     "name": "stdout",
     "output_type": "stream",
     "text": [
      "Epoch 0, Loss 0.2602\n",
      "Training Accuracy: 0.6033, Testing Accuracy: 0.5932\n",
      "\n"
     ]
    },
    {
     "name": "stdout",
     "output_type": "stream",
     "text": [
      "Epoch 10, Loss 0.1039\n",
      "Training Accuracy: 0.9059, Testing Accuracy: 0.9189\n",
      "\n"
     ]
    },
    {
     "name": "stdout",
     "output_type": "stream",
     "text": [
      "Epoch 20, Loss 0.0794\n",
      "Training Accuracy: 0.9264, Testing Accuracy: 0.9375\n",
      "\n"
     ]
    },
    {
     "name": "stdout",
     "output_type": "stream",
     "text": [
      "Epoch 30, Loss 0.0683\n",
      "Training Accuracy: 0.9354, Testing Accuracy: 0.9481\n",
      "\n"
     ]
    },
    {
     "name": "stdout",
     "output_type": "stream",
     "text": [
      "Epoch 40, Loss 0.0617\n",
      "Training Accuracy: 0.9412, Testing Accuracy: 0.9526\n",
      "\n"
     ]
    },
    {
     "name": "stdout",
     "output_type": "stream",
     "text": [
      "Epoch 50, Loss 0.0572\n",
      "Training Accuracy: 0.9442, Testing Accuracy: 0.9582\n",
      "\n"
     ]
    },
    {
     "name": "stdout",
     "output_type": "stream",
     "text": [
      "Epoch 60, Loss 0.0538\n",
      "Training Accuracy: 0.9470, Testing Accuracy: 0.9622\n",
      "\n"
     ]
    },
    {
     "name": "stdout",
     "output_type": "stream",
     "text": [
      "Epoch 70, Loss 0.0513\n",
      "Training Accuracy: 0.9488, Testing Accuracy: 0.9627\n",
      "\n"
     ]
    },
    {
     "name": "stdout",
     "output_type": "stream",
     "text": [
      "Epoch 80, Loss 0.0492\n",
      "Training Accuracy: 0.9505, Testing Accuracy: 0.9637\n",
      "\n"
     ]
    },
    {
     "name": "stdout",
     "output_type": "stream",
     "text": [
      "Epoch 90, Loss 0.0475\n",
      "Training Accuracy: 0.9512, Testing Accuracy: 0.9627\n",
      "\n"
     ]
    },
    {
     "name": "stdout",
     "output_type": "stream",
     "text": [
      "Epoch 100, Loss 0.0461\n",
      "Training Accuracy: 0.9524, Testing Accuracy: 0.9642\n",
      "\n"
     ]
    },
    {
     "name": "stdout",
     "output_type": "stream",
     "text": [
      "Epoch 110, Loss 0.0449\n",
      "Training Accuracy: 0.9534, Testing Accuracy: 0.9642\n",
      "\n"
     ]
    },
    {
     "name": "stdout",
     "output_type": "stream",
     "text": [
      "Epoch 120, Loss 0.0438\n",
      "Training Accuracy: 0.9541, Testing Accuracy: 0.9662\n",
      "\n"
     ]
    },
    {
     "name": "stdout",
     "output_type": "stream",
     "text": [
      "Epoch 130, Loss 0.0429\n",
      "Training Accuracy: 0.9550, Testing Accuracy: 0.9667\n",
      "\n"
     ]
    },
    {
     "name": "stdout",
     "output_type": "stream",
     "text": [
      "Epoch 140, Loss 0.0421\n",
      "Training Accuracy: 0.9562, Testing Accuracy: 0.9682\n",
      "\n"
     ]
    },
    {
     "name": "stdout",
     "output_type": "stream",
     "text": [
      "Epoch 150, Loss 0.0413\n",
      "Training Accuracy: 0.9566, Testing Accuracy: 0.9682\n",
      "\n"
     ]
    },
    {
     "name": "stdout",
     "output_type": "stream",
     "text": [
      "Epoch 160, Loss 0.0406\n",
      "Training Accuracy: 0.9570, Testing Accuracy: 0.9693\n",
      "\n"
     ]
    },
    {
     "name": "stdout",
     "output_type": "stream",
     "text": [
      "Epoch 170, Loss 0.04\n",
      "Training Accuracy: 0.9574, Testing Accuracy: 0.9693\n",
      "\n"
     ]
    },
    {
     "name": "stdout",
     "output_type": "stream",
     "text": [
      "Epoch 180, Loss 0.0395\n",
      "Training Accuracy: 0.9579, Testing Accuracy: 0.9693\n",
      "\n"
     ]
    },
    {
     "name": "stdout",
     "output_type": "stream",
     "text": [
      "Epoch 190, Loss 0.0389\n",
      "Training Accuracy: 0.9583, Testing Accuracy: 0.9698\n",
      "\n"
     ]
    },
    {
     "name": "stdout",
     "output_type": "stream",
     "text": [
      "Epoch 200, Loss 0.0385\n",
      "Training Accuracy: 0.9587, Testing Accuracy: 0.9698\n",
      "\n"
     ]
    },
    {
     "name": "stdout",
     "output_type": "stream",
     "text": [
      "Epoch 210, Loss 0.038\n",
      "Training Accuracy: 0.9591, Testing Accuracy: 0.9703\n",
      "\n"
     ]
    },
    {
     "name": "stdout",
     "output_type": "stream",
     "text": [
      "Epoch 220, Loss 0.0376\n",
      "Training Accuracy: 0.9594, Testing Accuracy: 0.9708\n",
      "\n"
     ]
    },
    {
     "name": "stdout",
     "output_type": "stream",
     "text": [
      "Epoch 230, Loss 0.0372\n",
      "Training Accuracy: 0.9596, Testing Accuracy: 0.9708\n",
      "\n"
     ]
    },
    {
     "name": "stdout",
     "output_type": "stream",
     "text": [
      "Epoch 240, Loss 0.0369\n",
      "Training Accuracy: 0.9602, Testing Accuracy: 0.9713\n",
      "\n"
     ]
    },
    {
     "data": {
      "text/plain": [
       "0.04931394902382511"
      ]
     },
     "execution_count": 23,
     "metadata": {},
     "output_type": "execute_result"
    }
   ],
   "source": [
    "lr_learner.train_loop(dl)"
   ]
  },
  {
   "cell_type": "code",
   "execution_count": 24,
   "id": "ca410940",
   "metadata": {
    "execution": {
     "iopub.execute_input": "2021-09-27T20:08:23.674233Z",
     "iopub.status.busy": "2021-09-27T20:08:23.672506Z",
     "iopub.status.idle": "2021-09-27T20:08:23.909914Z",
     "shell.execute_reply": "2021-09-27T20:08:23.910353Z"
    },
    "papermill": {
     "duration": 0.288262,
     "end_time": "2021-09-27T20:08:23.910499",
     "exception": false,
     "start_time": "2021-09-27T20:08:23.622237",
     "status": "completed"
    },
    "tags": []
   },
   "outputs": [
    {
     "data": {
      "text/plain": [
       "<matplotlib.legend.Legend at 0x7f60938f59e8>"
      ]
     },
     "execution_count": 24,
     "metadata": {},
     "output_type": "execute_result"
    },
    {
     "data": {
      "image/png": "[encoded data removed]",
      "text/plain": [
       "<Figure size 1080x720 with 1 Axes>"
      ]
     },
     "metadata": {
      "needs_background": "light"
     },
     "output_type": "display_data"
    }
   ],
   "source": [
    "#comparing the results of NN and LR\n",
    "plt.figure(figsize=(15,10))\n",
    "\n",
    "# Neural Network plots\n",
    "plt.plot(acc_nn.accuracies, 'r-', label = \"Training Accuracies - NN\")\n",
    "plt.plot(acc_nn.test_accuracies, 'g-', label = \"Testing Accuracies - NN\")\n",
    "\n",
    "# Logistic Regression plots\n",
    "plt.plot(acc_lr.accuracies, 'k-', label = \"Training Accuracies - LR\")\n",
    "plt.plot(acc_lr.test_accuracies, 'b-', label = \"Testing Accuracies - LR\")\n",
    "plt.legend()"
   ]
  },
  {
   "cell_type": "markdown",
   "id": "80dfb35c",
   "metadata": {
    "papermill": {
     "duration": 0.042577,
     "end_time": "2021-09-27T20:08:23.996259",
     "exception": false,
     "start_time": "2021-09-27T20:08:23.953682",
     "status": "completed"
    },
    "tags": []
   },
   "source": [
    "#### Plotting the outputs of this layer of the NN.\n"
   ]
  },
  {
   "cell_type": "code",
   "execution_count": 25,
   "id": "45eb2ff5",
   "metadata": {
    "execution": {
     "iopub.execute_input": "2021-09-27T20:08:24.095063Z",
     "iopub.status.busy": "2021-09-27T20:08:24.094504Z",
     "iopub.status.idle": "2021-09-27T20:08:24.108360Z",
     "shell.execute_reply": "2021-09-27T20:08:24.108819Z"
    },
    "papermill": {
     "duration": 0.070333,
     "end_time": "2021-09-27T20:08:24.108962",
     "exception": false,
     "start_time": "2021-09-27T20:08:24.038629",
     "status": "completed"
    },
    "tags": []
   },
   "outputs": [],
   "source": [
    "new_model = Model(layers[:-2])\n",
    "testing_plot = new_model(testing_data_x)"
   ]
  },
  {
   "cell_type": "code",
   "execution_count": 26,
   "id": "4c0a5485",
   "metadata": {
    "execution": {
     "iopub.execute_input": "2021-09-27T20:08:24.209003Z",
     "iopub.status.busy": "2021-09-27T20:08:24.207625Z",
     "iopub.status.idle": "2021-09-27T20:08:24.416006Z",
     "shell.execute_reply": "2021-09-27T20:08:24.416437Z"
    },
    "papermill": {
     "duration": 0.257007,
     "end_time": "2021-09-27T20:08:24.416578",
     "exception": false,
     "start_time": "2021-09-27T20:08:24.159571",
     "status": "completed"
    },
    "tags": []
   },
   "outputs": [
    {
     "data": {
      "text/plain": [
       "Text(0.5, 1.0, 'Outputs')"
      ]
     },
     "execution_count": 26,
     "metadata": {},
     "output_type": "execute_result"
    },
    {
     "data": {
      "image/png": "[encoded data removed]",
      "text/plain": [
       "<Figure size 576x504 with 1 Axes>"
      ]
     },
     "metadata": {
      "needs_background": "light"
     },
     "output_type": "display_data"
    }
   ],
   "source": [
    "# Plotting the scatter plot of points and color coding by class\n",
    "plt.figure(figsize=(8,7))\n",
    "plt.scatter(testing_plot[:,0], testing_plot[:,1], alpha = 0.1, c = y_test.ravel());\n",
    "plt.title('Outputs')"
   ]
  },
  {
   "cell_type": "markdown",
   "id": "a74fcf8f",
   "metadata": {
    "papermill": {
     "duration": 0.045123,
     "end_time": "2021-09-27T20:08:24.506873",
     "exception": false,
     "start_time": "2021-09-27T20:08:24.461750",
     "status": "completed"
    },
    "tags": []
   },
   "source": [
    "Probability contours"
   ]
  },
  {
   "cell_type": "code",
   "execution_count": 27,
   "id": "d0afc8e3",
   "metadata": {
    "execution": {
     "iopub.execute_input": "2021-09-27T20:08:24.602978Z",
     "iopub.status.busy": "2021-09-27T20:08:24.602391Z",
     "iopub.status.idle": "2021-09-27T20:08:24.612263Z",
     "shell.execute_reply": "2021-09-27T20:08:24.611810Z"
    },
    "papermill": {
     "duration": 0.060329,
     "end_time": "2021-09-27T20:08:24.612389",
     "exception": false,
     "start_time": "2021-09-27T20:08:24.552060",
     "status": "completed"
    },
    "tags": []
   },
   "outputs": [],
   "source": [
    "model_prob = Model(layers[-2:]) "
   ]
  },
  {
   "cell_type": "code",
   "execution_count": 28,
   "id": "9b96e238",
   "metadata": {
    "execution": {
     "iopub.execute_input": "2021-09-27T20:08:24.741564Z",
     "iopub.status.busy": "2021-09-27T20:08:24.740652Z",
     "iopub.status.idle": "2021-09-27T20:08:24.754841Z",
     "shell.execute_reply": "2021-09-27T20:08:24.755223Z"
    },
    "papermill": {
     "duration": 0.096711,
     "end_time": "2021-09-27T20:08:24.755357",
     "exception": false,
     "start_time": "2021-09-27T20:08:24.658646",
     "status": "completed"
    },
    "tags": []
   },
   "outputs": [],
   "source": [
    "#creating the x and y ranges according to the above generated plot.\n",
    "x_range = np.linspace(-4, 1, 100) \n",
    "y_range = np.linspace(-6, 6, 100) \n",
    "x_grid, y_grid = np.meshgrid(x_range, y_range) # x_grid and y_grig are of size 100 X 100\n",
    "\n",
    "# converting x_grid and y_grid to continuous arrays\n",
    "x_gridflat = np.ravel(x_grid)\n",
    "y_gridflat = np.ravel(y_grid)\n",
    "\n",
    "# The last layer of the current model takes two columns as input. Hence transpose of np.vstack() is required.\n",
    "X = np.vstack((x_gridflat, y_gridflat)).T\n",
    "\n",
    "prob_contour = model_prob(X).reshape(100,100) "
   ]
  },
  {
   "cell_type": "code",
   "execution_count": 29,
   "id": "da72499a",
   "metadata": {
    "execution": {
     "iopub.execute_input": "2021-09-27T20:08:24.862347Z",
     "iopub.status.busy": "2021-09-27T20:08:24.861765Z",
     "iopub.status.idle": "2021-09-27T20:08:25.104586Z",
     "shell.execute_reply": "2021-09-27T20:08:25.104093Z"
    },
    "papermill": {
     "duration": 0.29677,
     "end_time": "2021-09-27T20:08:25.104723",
     "exception": false,
     "start_time": "2021-09-27T20:08:24.807953",
     "status": "completed"
    },
    "tags": []
   },
   "outputs": [
    {
     "data": {
      "image/png": "[encoded data removed]",
      "text/plain": [
       "<Figure size 720x648 with 1 Axes>"
      ]
     },
     "metadata": {
      "needs_background": "light"
     },
     "output_type": "display_data"
    }
   ],
   "source": [
    "plt.figure(figsize=(10,9))\n",
    "plt.scatter(testing_plot[:,0], testing_plot[:,1], alpha = 0.1, c = y_test.ravel())\n",
    "contours = plt.contour(x_grid,y_grid,prob_contour)\n",
    "plt.title('Probability Contours')\n",
    "plt.clabel(contours, inline = True );"
   ]
  },
  {
   "cell_type": "code",
   "execution_count": null,
   "id": "e81b4ac7",
   "metadata": {
    "papermill": {
     "duration": 0.047438,
     "end_time": "2021-09-27T20:08:25.200637",
     "exception": false,
     "start_time": "2021-09-27T20:08:25.153199",
     "status": "completed"
    },
    "tags": []
   },
   "outputs": [],
   "source": []
  }
 ],
 "metadata": {
  "kernelspec": {
   "display_name": "Python 3",
   "language": "python",
   "name": "python3"
  },
  "language_info": {
   "codemirror_mode": {
    "name": "ipython",
    "version": 3
   },
   "file_extension": ".py",
   "mimetype": "text/x-python",
   "name": "python",
   "nbconvert_exporter": "python",
   "pygments_lexer": "ipython3",
   "version": "3.6.15"
  },
  "papermill": {
   "default_parameters": {},
   "duration": 99.366799,
   "end_time": "2021-09-27T20:08:25.656812",
   "environment_variables": {},
   "exception": null,
   "input_path": "2020-08-11-part2.ipynb",
   "output_path": "2020-08-11-part2.ipynb",
   "parameters": {},
   "start_time": "2021-09-27T20:06:46.290013",
   "version": "2.3.3"
  }
 },
 "nbformat": 4,
 "nbformat_minor": 5
}