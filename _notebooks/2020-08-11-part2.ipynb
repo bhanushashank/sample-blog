{
 "cells": [
  {
   "cell_type": "markdown",
   "id": "98380cd3",
   "metadata": {
    "papermill": {
     "duration": 0.027787,
     "end_time": "2022-04-12T10:10:56.312624",
     "exception": false,
     "start_time": "2022-04-12T10:10:56.284837",
     "status": "completed"
    },
    "tags": []
   },
   "source": [
    "# Distinguish Your Own Digits (DYOD)"
   ]
  },
  {
   "cell_type": "markdown",
   "id": "ef31240d",
   "metadata": {
    "papermill": {
     "duration": 0.024884,
     "end_time": "2022-04-12T10:10:56.361525",
     "exception": false,
     "start_time": "2022-04-12T10:10:56.336641",
     "status": "completed"
    },
    "tags": []
   },
   "source": [
    "You are going to write a classifier that distinguishes between the number 3 and number 8."
   ]
  },
  {
   "cell_type": "code",
   "execution_count": 1,
   "id": "b15c8646",
   "metadata": {
    "execution": {
     "iopub.execute_input": "2022-04-12T10:10:56.417996Z",
     "iopub.status.busy": "2022-04-12T10:10:56.417459Z",
     "iopub.status.idle": "2022-04-12T10:10:56.428176Z",
     "shell.execute_reply": "2022-04-12T10:10:56.427696Z"
    },
    "papermill": {
     "duration": 0.04344,
     "end_time": "2022-04-12T10:10:56.428325",
     "exception": false,
     "start_time": "2022-04-12T10:10:56.384885",
     "status": "completed"
    },
    "tags": []
   },
   "outputs": [],
   "source": [
    "%load_ext autoreload\n",
    "%autoreload 2"
   ]
  },
  {
   "cell_type": "code",
   "execution_count": 2,
   "id": "22ef38dc",
   "metadata": {
    "execution": {
     "iopub.execute_input": "2022-04-12T10:10:56.482459Z",
     "iopub.status.busy": "2022-04-12T10:10:56.481944Z",
     "iopub.status.idle": "2022-04-12T10:10:57.025600Z",
     "shell.execute_reply": "2022-04-12T10:10:57.025057Z"
    },
    "papermill": {
     "duration": 0.573499,
     "end_time": "2022-04-12T10:10:57.025743",
     "exception": false,
     "start_time": "2022-04-12T10:10:56.452244",
     "status": "completed"
    },
    "tags": []
   },
   "outputs": [],
   "source": [
    "%matplotlib inline\n",
    "import numpy as np\n",
    "import matplotlib.pyplot as plt\n",
    "import pandas as pd"
   ]
  },
  {
   "cell_type": "markdown",
   "id": "ba036198",
   "metadata": {
    "papermill": {
     "duration": 0.023484,
     "end_time": "2022-04-12T10:10:57.073370",
     "exception": false,
     "start_time": "2022-04-12T10:10:57.049886",
     "status": "completed"
    },
    "tags": []
   },
   "source": [
    "From the command line run `pip install mnist`. This is a library that will help you bring down the mnist dataset. If you run this from a notebook, you need to put  `!pip install mnist` in a cell by itself."
   ]
  },
  {
   "cell_type": "code",
   "execution_count": 3,
   "id": "bb6ad8a1",
   "metadata": {
    "execution": {
     "iopub.execute_input": "2022-04-12T10:10:57.123833Z",
     "iopub.status.busy": "2022-04-12T10:10:57.123326Z",
     "iopub.status.idle": "2022-04-12T10:10:59.659171Z",
     "shell.execute_reply": "2022-04-12T10:10:59.658664Z"
    },
    "papermill": {
     "duration": 2.562546,
     "end_time": "2022-04-12T10:10:59.659297",
     "exception": false,
     "start_time": "2022-04-12T10:10:57.096751",
     "status": "completed"
    },
    "tags": []
   },
   "outputs": [
    {
     "name": "stdout",
     "output_type": "stream",
     "text": [
      "Collecting mnist\r\n"
     ]
    },
    {
     "name": "stdout",
     "output_type": "stream",
     "text": [
      "  Downloading mnist-0.2.2-py2.py3-none-any.whl (3.5 kB)\r\n",
      "Requirement already satisfied: numpy in /opt/hostedtoolcache/Python/3.6.15/x64/lib/python3.6/site-packages (from mnist) (1.19.5)\r\n"
     ]
    },
    {
     "name": "stdout",
     "output_type": "stream",
     "text": [
      "Installing collected packages: mnist\r\n"
     ]
    },
    {
     "name": "stdout",
     "output_type": "stream",
     "text": [
      "Successfully installed mnist-0.2.2\r\n"
     ]
    }
   ],
   "source": [
    "!pip install mnist"
   ]
  },
  {
   "cell_type": "markdown",
   "id": "69df9c9a",
   "metadata": {
    "papermill": {
     "duration": 0.02463,
     "end_time": "2022-04-12T10:10:59.708923",
     "exception": false,
     "start_time": "2022-04-12T10:10:59.684293",
     "status": "completed"
    },
    "tags": []
   },
   "source": [
    "## Preparing the Data"
   ]
  },
  {
   "cell_type": "code",
   "execution_count": 4,
   "id": "7f69d806",
   "metadata": {
    "execution": {
     "iopub.execute_input": "2022-04-12T10:10:59.762216Z",
     "iopub.status.busy": "2022-04-12T10:10:59.761683Z",
     "iopub.status.idle": "2022-04-12T10:10:59.777177Z",
     "shell.execute_reply": "2022-04-12T10:10:59.776727Z"
    },
    "papermill": {
     "duration": 0.043785,
     "end_time": "2022-04-12T10:10:59.777290",
     "exception": false,
     "start_time": "2022-04-12T10:10:59.733505",
     "status": "completed"
    },
    "tags": []
   },
   "outputs": [],
   "source": [
    "import mnist"
   ]
  },
  {
   "cell_type": "code",
   "execution_count": 5,
   "id": "a411e44f",
   "metadata": {
    "execution": {
     "iopub.execute_input": "2022-04-12T10:10:59.831648Z",
     "iopub.status.busy": "2022-04-12T10:10:59.831136Z",
     "iopub.status.idle": "2022-04-12T10:11:01.074698Z",
     "shell.execute_reply": "2022-04-12T10:11:01.075195Z"
    },
    "papermill": {
     "duration": 1.273379,
     "end_time": "2022-04-12T10:11:01.075367",
     "exception": false,
     "start_time": "2022-04-12T10:10:59.801988",
     "status": "completed"
    },
    "tags": []
   },
   "outputs": [],
   "source": [
    "train_images = mnist.train_images()\n",
    "train_labels = mnist.train_labels()"
   ]
  },
  {
   "cell_type": "code",
   "execution_count": 6,
   "id": "dceab3a5",
   "metadata": {
    "execution": {
     "iopub.execute_input": "2022-04-12T10:11:01.144863Z",
     "iopub.status.busy": "2022-04-12T10:11:01.144251Z",
     "iopub.status.idle": "2022-04-12T10:11:01.147246Z",
     "shell.execute_reply": "2022-04-12T10:11:01.146791Z"
    },
    "papermill": {
     "duration": 0.046499,
     "end_time": "2022-04-12T10:11:01.147366",
     "exception": false,
     "start_time": "2022-04-12T10:11:01.100867",
     "status": "completed"
    },
    "tags": []
   },
   "outputs": [
    {
     "data": {
      "text/plain": [
       "((60000, 28, 28), (60000,))"
      ]
     },
     "execution_count": 6,
     "metadata": {},
     "output_type": "execute_result"
    }
   ],
   "source": [
    "train_images.shape, train_labels.shape"
   ]
  },
  {
   "cell_type": "code",
   "execution_count": 7,
   "id": "f50dc2bb",
   "metadata": {
    "execution": {
     "iopub.execute_input": "2022-04-12T10:11:01.201400Z",
     "iopub.status.busy": "2022-04-12T10:11:01.200881Z",
     "iopub.status.idle": "2022-04-12T10:11:01.403492Z",
     "shell.execute_reply": "2022-04-12T10:11:01.403001Z"
    },
    "papermill": {
     "duration": 0.231207,
     "end_time": "2022-04-12T10:11:01.403620",
     "exception": false,
     "start_time": "2022-04-12T10:11:01.172413",
     "status": "completed"
    },
    "tags": []
   },
   "outputs": [],
   "source": [
    "test_images = mnist.test_images()\n",
    "test_labels = mnist.test_labels()"
   ]
  },
  {
   "cell_type": "code",
   "execution_count": 8,
   "id": "fc38cf1b",
   "metadata": {
    "execution": {
     "iopub.execute_input": "2022-04-12T10:11:01.458784Z",
     "iopub.status.busy": "2022-04-12T10:11:01.458260Z",
     "iopub.status.idle": "2022-04-12T10:11:01.471544Z",
     "shell.execute_reply": "2022-04-12T10:11:01.471124Z"
    },
    "papermill": {
     "duration": 0.042535,
     "end_time": "2022-04-12T10:11:01.471661",
     "exception": false,
     "start_time": "2022-04-12T10:11:01.429126",
     "status": "completed"
    },
    "tags": []
   },
   "outputs": [
    {
     "data": {
      "text/plain": [
       "((10000, 28, 28), (10000,))"
      ]
     },
     "execution_count": 8,
     "metadata": {},
     "output_type": "execute_result"
    }
   ],
   "source": [
    "test_images.shape, test_labels.shape"
   ]
  },
  {
   "cell_type": "code",
   "execution_count": 9,
   "id": "f9ed8fe0",
   "metadata": {
    "execution": {
     "iopub.execute_input": "2022-04-12T10:11:01.526484Z",
     "iopub.status.busy": "2022-04-12T10:11:01.525957Z",
     "iopub.status.idle": "2022-04-12T10:11:01.663746Z",
     "shell.execute_reply": "2022-04-12T10:11:01.664222Z"
    },
    "papermill": {
     "duration": 0.167513,
     "end_time": "2022-04-12T10:11:01.664401",
     "exception": false,
     "start_time": "2022-04-12T10:11:01.496888",
     "status": "completed"
    },
    "tags": []
   },
   "outputs": [
    {
     "name": "stdout",
     "output_type": "stream",
     "text": [
      "2\n"
     ]
    },
    {
     "data": {
      "text/plain": [
       "<matplotlib.image.AxesImage at 0x7f9b6c96c358>"
      ]
     },
     "execution_count": 9,
     "metadata": {},
     "output_type": "execute_result"
    },
    {
     "data": {
      "image/png": "[encoded data removed]",
      "text/plain": [
       "<Figure size 432x288 with 1 Axes>"
      ]
     },
     "metadata": {
      "needs_background": "light"
     },
     "output_type": "display_data"
    }
   ],
   "source": [
    "image_index = 7776 # You may select anything up to 60,000\n",
    "print(train_labels[image_index]) \n",
    "plt.imshow(train_images[image_index], cmap='Greys')"
   ]
  },
  {
   "cell_type": "markdown",
   "id": "a8d2388d",
   "metadata": {
    "papermill": {
     "duration": 0.026123,
     "end_time": "2022-04-12T10:11:01.717218",
     "exception": false,
     "start_time": "2022-04-12T10:11:01.691095",
     "status": "completed"
    },
    "tags": []
   },
   "source": [
    "## Filter data to get 3 and 8 out"
   ]
  },
  {
   "cell_type": "code",
   "execution_count": 10,
   "id": "776f7fc7",
   "metadata": {
    "execution": {
     "iopub.execute_input": "2022-04-12T10:11:01.789355Z",
     "iopub.status.busy": "2022-04-12T10:11:01.782743Z",
     "iopub.status.idle": "2022-04-12T10:11:01.796479Z",
     "shell.execute_reply": "2022-04-12T10:11:01.796025Z"
    },
    "papermill": {
     "duration": 0.053202,
     "end_time": "2022-04-12T10:11:01.796601",
     "exception": false,
     "start_time": "2022-04-12T10:11:01.743399",
     "status": "completed"
    },
    "tags": []
   },
   "outputs": [],
   "source": [
    "train_filter = np.where((train_labels == 3 ) | (train_labels == 8))\n",
    "test_filter = np.where((test_labels == 3) | (test_labels == 8))\n",
    "X_train, y_train = train_images[train_filter], train_labels[train_filter]\n",
    "X_test, y_test = test_images[test_filter], test_labels[test_filter]"
   ]
  },
  {
   "cell_type": "markdown",
   "id": "948f0b7e",
   "metadata": {
    "papermill": {
     "duration": 0.026119,
     "end_time": "2022-04-12T10:11:01.849130",
     "exception": false,
     "start_time": "2022-04-12T10:11:01.823011",
     "status": "completed"
    },
    "tags": []
   },
   "source": [
    "We normalize the pizel values in the 0 to 1 range"
   ]
  },
  {
   "cell_type": "code",
   "execution_count": 11,
   "id": "ee4c2166",
   "metadata": {
    "execution": {
     "iopub.execute_input": "2022-04-12T10:11:01.904844Z",
     "iopub.status.busy": "2022-04-12T10:11:01.904305Z",
     "iopub.status.idle": "2022-04-12T10:11:01.954242Z",
     "shell.execute_reply": "2022-04-12T10:11:01.953706Z"
    },
    "papermill": {
     "duration": 0.079198,
     "end_time": "2022-04-12T10:11:01.954387",
     "exception": false,
     "start_time": "2022-04-12T10:11:01.875189",
     "status": "completed"
    },
    "tags": []
   },
   "outputs": [],
   "source": [
    "X_train = X_train/255.\n",
    "X_test = X_test/255."
   ]
  },
  {
   "cell_type": "markdown",
   "id": "ddcf4fab",
   "metadata": {
    "papermill": {
     "duration": 0.026105,
     "end_time": "2022-04-12T10:11:02.007934",
     "exception": false,
     "start_time": "2022-04-12T10:11:01.981829",
     "status": "completed"
    },
    "tags": []
   },
   "source": [
    "And setup the labels as 1 (when the digit is 3) and 0 (when the digit is 8)"
   ]
  },
  {
   "cell_type": "code",
   "execution_count": 12,
   "id": "7dc908f2",
   "metadata": {
    "execution": {
     "iopub.execute_input": "2022-04-12T10:11:02.065102Z",
     "iopub.status.busy": "2022-04-12T10:11:02.064559Z",
     "iopub.status.idle": "2022-04-12T10:11:02.077082Z",
     "shell.execute_reply": "2022-04-12T10:11:02.076625Z"
    },
    "papermill": {
     "duration": 0.043153,
     "end_time": "2022-04-12T10:11:02.077192",
     "exception": false,
     "start_time": "2022-04-12T10:11:02.034039",
     "status": "completed"
    },
    "tags": []
   },
   "outputs": [],
   "source": [
    "y_train = 1*(y_train==3)\n",
    "y_test = 1*(y_test==3)"
   ]
  },
  {
   "cell_type": "code",
   "execution_count": 13,
   "id": "01e4e969",
   "metadata": {
    "execution": {
     "iopub.execute_input": "2022-04-12T10:11:02.147197Z",
     "iopub.status.busy": "2022-04-12T10:11:02.146613Z",
     "iopub.status.idle": "2022-04-12T10:11:02.153215Z",
     "shell.execute_reply": "2022-04-12T10:11:02.153604Z"
    },
    "papermill": {
     "duration": 0.050295,
     "end_time": "2022-04-12T10:11:02.153747",
     "exception": false,
     "start_time": "2022-04-12T10:11:02.103452",
     "status": "completed"
    },
    "tags": []
   },
   "outputs": [
    {
     "data": {
      "text/plain": [
       "((11982, 28, 28), (1984, 28, 28))"
      ]
     },
     "execution_count": 13,
     "metadata": {},
     "output_type": "execute_result"
    }
   ],
   "source": [
    "X_train.shape, X_test.shape"
   ]
  },
  {
   "cell_type": "markdown",
   "id": "5ccf3f85",
   "metadata": {
    "papermill": {
     "duration": 0.026313,
     "end_time": "2022-04-12T10:11:02.206501",
     "exception": false,
     "start_time": "2022-04-12T10:11:02.180188",
     "status": "completed"
    },
    "tags": []
   },
   "source": [
    "We reshape the data to flatten the image pixels into a set of features or co-variates:"
   ]
  },
  {
   "cell_type": "code",
   "execution_count": 14,
   "id": "5286a4a3",
   "metadata": {
    "execution": {
     "iopub.execute_input": "2022-04-12T10:11:02.271408Z",
     "iopub.status.busy": "2022-04-12T10:11:02.270857Z",
     "iopub.status.idle": "2022-04-12T10:11:02.281462Z",
     "shell.execute_reply": "2022-04-12T10:11:02.281043Z"
    },
    "papermill": {
     "duration": 0.048573,
     "end_time": "2022-04-12T10:11:02.281581",
     "exception": false,
     "start_time": "2022-04-12T10:11:02.233008",
     "status": "completed"
    },
    "tags": []
   },
   "outputs": [
    {
     "data": {
      "text/plain": [
       "((11982, 784), (1984, 784))"
      ]
     },
     "execution_count": 14,
     "metadata": {},
     "output_type": "execute_result"
    }
   ],
   "source": [
    "X_train = X_train.reshape(X_train.shape[0], -1)\n",
    "X_test = X_test.reshape(X_test.shape[0], -1)\n",
    "X_train.shape, X_test.shape"
   ]
  },
  {
   "cell_type": "code",
   "execution_count": 15,
   "id": "73c5f88a",
   "metadata": {
    "execution": {
     "iopub.execute_input": "2022-04-12T10:11:02.349154Z",
     "iopub.status.busy": "2022-04-12T10:11:02.345000Z",
     "iopub.status.idle": "2022-04-12T10:11:02.360373Z",
     "shell.execute_reply": "2022-04-12T10:11:02.359894Z"
    },
    "papermill": {
     "duration": 0.052163,
     "end_time": "2022-04-12T10:11:02.360499",
     "exception": false,
     "start_time": "2022-04-12T10:11:02.308336",
     "status": "completed"
    },
    "tags": []
   },
   "outputs": [],
   "source": [
    "#Impoting functions from 'Kudzu'\n",
    "from kudzu.model import Model\n",
    "from kudzu.train import Learner\n",
    "from kudzu.optim import GD\n",
    "from kudzu.data import Data, Sampler,Dataloader\n",
    "\n",
    "from kudzu.callbacks import AccCallback\n",
    "from kudzu.callbacks import ClfCallback\n",
    "\n",
    "from kudzu.loss import MSE\n",
    "\n",
    "from kudzu.layer import Sigmoid,Relu\n",
    "from kudzu.layer import Affine"
   ]
  },
  {
   "cell_type": "markdown",
   "id": "bc01172a",
   "metadata": {
    "papermill": {
     "duration": 0.026484,
     "end_time": "2022-04-12T10:11:02.414281",
     "exception": false,
     "start_time": "2022-04-12T10:11:02.387797",
     "status": "completed"
    },
    "tags": []
   },
   "source": [
    "### Let us create a `Config` class, to store important parameters. \n",
    "This class essentially plays the role of a dictionary."
   ]
  },
  {
   "cell_type": "code",
   "execution_count": 16,
   "id": "978281aa",
   "metadata": {
    "execution": {
     "iopub.execute_input": "2022-04-12T10:11:02.471249Z",
     "iopub.status.busy": "2022-04-12T10:11:02.470723Z",
     "iopub.status.idle": "2022-04-12T10:11:02.483233Z",
     "shell.execute_reply": "2022-04-12T10:11:02.482814Z"
    },
    "papermill": {
     "duration": 0.042472,
     "end_time": "2022-04-12T10:11:02.483349",
     "exception": false,
     "start_time": "2022-04-12T10:11:02.440877",
     "status": "completed"
    },
    "tags": []
   },
   "outputs": [],
   "source": [
    "class Config:\n",
    "    pass\n",
    "config = Config()\n",
    "config.lr = 0.001\n",
    "config.num_epochs = 250\n",
    "config.bs = 50"
   ]
  },
  {
   "cell_type": "markdown",
   "id": "1385fa59",
   "metadata": {
    "papermill": {
     "duration": 0.026449,
     "end_time": "2022-04-12T10:11:02.536386",
     "exception": false,
     "start_time": "2022-04-12T10:11:02.509937",
     "status": "completed"
    },
    "tags": []
   },
   "source": [
    "### Running Models with the Training data\n",
    "Details about the network layers:\n",
    "- A first affine layer has 784 inputs and does 100 affine transforms. These are followed by a Relu\n",
    "- A second affine layer has 100 inputs from the 100 activations of the past layer, and does 100 affine transforms. These are followed by a Relu\n",
    "- A third affine layer has 100 activations and does 2 affine transformations to create an embedding for visualization. There is no non-linearity here.\n",
    "- A final \"logistic regression\" which has an affine transform from 2 inputs to 1 output, which is squeezed through a sigmoid.\n"
   ]
  },
  {
   "cell_type": "code",
   "execution_count": 17,
   "id": "2b9c66db",
   "metadata": {
    "execution": {
     "iopub.execute_input": "2022-04-12T10:11:02.605100Z",
     "iopub.status.busy": "2022-04-12T10:11:02.599254Z",
     "iopub.status.idle": "2022-04-12T10:11:02.609440Z",
     "shell.execute_reply": "2022-04-12T10:11:02.608999Z"
    },
    "papermill": {
     "duration": 0.046647,
     "end_time": "2022-04-12T10:11:02.609550",
     "exception": false,
     "start_time": "2022-04-12T10:11:02.562903",
     "status": "completed"
    },
    "tags": []
   },
   "outputs": [],
   "source": [
    "data = Data(X_train, y_train.reshape(-1,1))\n",
    "sampler = Sampler(data, config.bs, shuffle=True)\n",
    "\n",
    "dl = Dataloader(data, sampler)\n",
    "\n",
    "opt = GD(config.lr)\n",
    "loss = MSE()"
   ]
  },
  {
   "cell_type": "code",
   "execution_count": 18,
   "id": "b275e4c2",
   "metadata": {
    "execution": {
     "iopub.execute_input": "2022-04-12T10:11:02.678181Z",
     "iopub.status.busy": "2022-04-12T10:11:02.677639Z",
     "iopub.status.idle": "2022-04-12T10:11:02.685154Z",
     "shell.execute_reply": "2022-04-12T10:11:02.684736Z"
    },
    "papermill": {
     "duration": 0.04882,
     "end_time": "2022-04-12T10:11:02.685269",
     "exception": false,
     "start_time": "2022-04-12T10:11:02.636449",
     "status": "completed"
    },
    "tags": []
   },
   "outputs": [],
   "source": [
    "training_data_x = X_train\n",
    "testing_data_x = X_test\n",
    "training_data_y = y_train.reshape(-1,1)\n",
    "testing_data_y = y_test.reshape(-1,1)"
   ]
  },
  {
   "cell_type": "code",
   "execution_count": 19,
   "id": "76951160",
   "metadata": {
    "execution": {
     "iopub.execute_input": "2022-04-12T10:11:02.743532Z",
     "iopub.status.busy": "2022-04-12T10:11:02.742988Z",
     "iopub.status.idle": "2022-04-12T10:11:02.759728Z",
     "shell.execute_reply": "2022-04-12T10:11:02.759311Z"
    },
    "papermill": {
     "duration": 0.047884,
     "end_time": "2022-04-12T10:11:02.759842",
     "exception": false,
     "start_time": "2022-04-12T10:11:02.711958",
     "status": "completed"
    },
    "tags": []
   },
   "outputs": [
    {
     "name": "stdout",
     "output_type": "stream",
     "text": [
      "xavier\n",
      "xavier\n",
      "xavier\n",
      "xavier\n",
      "xavier\n"
     ]
    }
   ],
   "source": [
    "layers = [Affine(\"first\", 784, 100), Relu(\"first\"), Affine(\"second\", 100, 100), Relu(\"second\"), Affine(\"third\", 100, 2), Affine(\"last\", 2, 1), Sigmoid(\"last\")]\n",
    "model_nn = Model(layers)\n",
    "model_lr = Model([Affine(\"logits\", 784, 1), Sigmoid(\"sigmoid\")])"
   ]
  },
  {
   "cell_type": "code",
   "execution_count": 20,
   "id": "6eede77a",
   "metadata": {
    "execution": {
     "iopub.execute_input": "2022-04-12T10:11:02.817935Z",
     "iopub.status.busy": "2022-04-12T10:11:02.817409Z",
     "iopub.status.idle": "2022-04-12T10:11:02.829217Z",
     "shell.execute_reply": "2022-04-12T10:11:02.829659Z"
    },
    "papermill": {
     "duration": 0.042697,
     "end_time": "2022-04-12T10:11:02.829787",
     "exception": false,
     "start_time": "2022-04-12T10:11:02.787090",
     "status": "completed"
    },
    "tags": []
   },
   "outputs": [],
   "source": [
    "nn_learner = Learner(loss, model_nn, opt, config.num_epochs)\n",
    "acc_nn = ClfCallback(nn_learner, config.bs, training_data_x , testing_data_x, training_data_y, testing_data_y)\n",
    "nn_learner.set_callbacks([acc_nn])"
   ]
  },
  {
   "cell_type": "code",
   "execution_count": 21,
   "id": "877b6cc7",
   "metadata": {
    "execution": {
     "iopub.execute_input": "2022-04-12T10:11:02.887816Z",
     "iopub.status.busy": "2022-04-12T10:11:02.887296Z",
     "iopub.status.idle": "2022-04-12T10:11:02.899454Z",
     "shell.execute_reply": "2022-04-12T10:11:02.899867Z"
    },
    "papermill": {
     "duration": 0.043382,
     "end_time": "2022-04-12T10:11:02.899990",
     "exception": false,
     "start_time": "2022-04-12T10:11:02.856608",
     "status": "completed"
    },
    "tags": []
   },
   "outputs": [],
   "source": [
    "lr_learner = Learner(loss, model_lr, opt, config.num_epochs)\n",
    "acc_lr = ClfCallback(lr_learner, config.bs, training_data_x , testing_data_x, training_data_y, testing_data_y)\n",
    "lr_learner.set_callbacks([acc_lr])"
   ]
  },
  {
   "cell_type": "code",
   "execution_count": 22,
   "id": "d9b133c3",
   "metadata": {
    "execution": {
     "iopub.execute_input": "2022-04-12T10:11:02.971107Z",
     "iopub.status.busy": "2022-04-12T10:11:02.969034Z",
     "iopub.status.idle": "2022-04-12T10:12:19.551809Z",
     "shell.execute_reply": "2022-04-12T10:12:19.552345Z"
    },
    "papermill": {
     "duration": 76.625494,
     "end_time": "2022-04-12T10:12:19.552495",
     "exception": false,
     "start_time": "2022-04-12T10:11:02.927001",
     "status": "completed"
    },
    "tags": []
   },
   "outputs": [
    {
     "name": "stdout",
     "output_type": "stream",
     "text": [
      "Epoch 0, Loss 0.2451\n",
      "Training Accuracy: 0.5545, Testing Accuracy: 0.5444\n",
      "\n"
     ]
    },
    {
     "name": "stdout",
     "output_type": "stream",
     "text": [
      "Epoch 10, Loss 0.1361\n",
      "Training Accuracy: 0.9056, Testing Accuracy: 0.9148\n",
      "\n"
     ]
    },
    {
     "name": "stdout",
     "output_type": "stream",
     "text": [
      "Epoch 20, Loss 0.072\n",
      "Training Accuracy: 0.9300, Testing Accuracy: 0.9430\n",
      "\n"
     ]
    },
    {
     "name": "stdout",
     "output_type": "stream",
     "text": [
      "Epoch 30, Loss 0.052\n",
      "Training Accuracy: 0.9455, Testing Accuracy: 0.9556\n",
      "\n"
     ]
    },
    {
     "name": "stdout",
     "output_type": "stream",
     "text": [
      "Epoch 40, Loss 0.0429\n",
      "Training Accuracy: 0.9533, Testing Accuracy: 0.9617\n",
      "\n"
     ]
    },
    {
     "name": "stdout",
     "output_type": "stream",
     "text": [
      "Epoch 50, Loss 0.0379\n",
      "Training Accuracy: 0.9576, Testing Accuracy: 0.9662\n",
      "\n"
     ]
    },
    {
     "name": "stdout",
     "output_type": "stream",
     "text": [
      "Epoch 60, Loss 0.0347\n",
      "Training Accuracy: 0.9595, Testing Accuracy: 0.9682\n",
      "\n"
     ]
    },
    {
     "name": "stdout",
     "output_type": "stream",
     "text": [
      "Epoch 70, Loss 0.0325\n",
      "Training Accuracy: 0.9623, Testing Accuracy: 0.9698\n",
      "\n"
     ]
    },
    {
     "name": "stdout",
     "output_type": "stream",
     "text": [
      "Epoch 80, Loss 0.0307\n",
      "Training Accuracy: 0.9648, Testing Accuracy: 0.9703\n",
      "\n"
     ]
    },
    {
     "name": "stdout",
     "output_type": "stream",
     "text": [
      "Epoch 90, Loss 0.0293\n",
      "Training Accuracy: 0.9665, Testing Accuracy: 0.9718\n",
      "\n"
     ]
    },
    {
     "name": "stdout",
     "output_type": "stream",
     "text": [
      "Epoch 100, Loss 0.0282\n",
      "Training Accuracy: 0.9672, Testing Accuracy: 0.9723\n",
      "\n"
     ]
    },
    {
     "name": "stdout",
     "output_type": "stream",
     "text": [
      "Epoch 110, Loss 0.0272\n",
      "Training Accuracy: 0.9689, Testing Accuracy: 0.9738\n",
      "\n"
     ]
    },
    {
     "name": "stdout",
     "output_type": "stream",
     "text": [
      "Epoch 120, Loss 0.0263\n",
      "Training Accuracy: 0.9698, Testing Accuracy: 0.9733\n",
      "\n"
     ]
    },
    {
     "name": "stdout",
     "output_type": "stream",
     "text": [
      "Epoch 130, Loss 0.0255\n",
      "Training Accuracy: 0.9707, Testing Accuracy: 0.9743\n",
      "\n"
     ]
    },
    {
     "name": "stdout",
     "output_type": "stream",
     "text": [
      "Epoch 140, Loss 0.0248\n",
      "Training Accuracy: 0.9713, Testing Accuracy: 0.9753\n",
      "\n"
     ]
    },
    {
     "name": "stdout",
     "output_type": "stream",
     "text": [
      "Epoch 150, Loss 0.0242\n",
      "Training Accuracy: 0.9723, Testing Accuracy: 0.9748\n",
      "\n"
     ]
    },
    {
     "name": "stdout",
     "output_type": "stream",
     "text": [
      "Epoch 160, Loss 0.0236\n",
      "Training Accuracy: 0.9730, Testing Accuracy: 0.9748\n",
      "\n"
     ]
    },
    {
     "name": "stdout",
     "output_type": "stream",
     "text": [
      "Epoch 170, Loss 0.0231\n",
      "Training Accuracy: 0.9740, Testing Accuracy: 0.9758\n",
      "\n"
     ]
    },
    {
     "name": "stdout",
     "output_type": "stream",
     "text": [
      "Epoch 180, Loss 0.0226\n",
      "Training Accuracy: 0.9748, Testing Accuracy: 0.9758\n",
      "\n"
     ]
    },
    {
     "name": "stdout",
     "output_type": "stream",
     "text": [
      "Epoch 190, Loss 0.0221\n",
      "Training Accuracy: 0.9750, Testing Accuracy: 0.9758\n",
      "\n"
     ]
    },
    {
     "name": "stdout",
     "output_type": "stream",
     "text": [
      "Epoch 200, Loss 0.0216\n",
      "Training Accuracy: 0.9751, Testing Accuracy: 0.9748\n",
      "\n"
     ]
    },
    {
     "name": "stdout",
     "output_type": "stream",
     "text": [
      "Epoch 210, Loss 0.0212\n",
      "Training Accuracy: 0.9755, Testing Accuracy: 0.9748\n",
      "\n"
     ]
    },
    {
     "name": "stdout",
     "output_type": "stream",
     "text": [
      "Epoch 220, Loss 0.0207\n",
      "Training Accuracy: 0.9760, Testing Accuracy: 0.9743\n",
      "\n"
     ]
    },
    {
     "name": "stdout",
     "output_type": "stream",
     "text": [
      "Epoch 230, Loss 0.0203\n",
      "Training Accuracy: 0.9764, Testing Accuracy: 0.9743\n",
      "\n"
     ]
    },
    {
     "name": "stdout",
     "output_type": "stream",
     "text": [
      "Epoch 240, Loss 0.0199\n",
      "Training Accuracy: 0.9771, Testing Accuracy: 0.9743\n",
      "\n"
     ]
    },
    {
     "data": {
      "text/plain": [
       "0.02289276767313579"
      ]
     },
     "execution_count": 22,
     "metadata": {},
     "output_type": "execute_result"
    }
   ],
   "source": [
    "nn_learner.train_loop(dl)"
   ]
  },
  {
   "cell_type": "code",
   "execution_count": 23,
   "id": "e0163366",
   "metadata": {
    "execution": {
     "iopub.execute_input": "2022-04-12T10:12:19.630785Z",
     "iopub.status.busy": "2022-04-12T10:12:19.630239Z",
     "iopub.status.idle": "2022-04-12T10:12:33.561059Z",
     "shell.execute_reply": "2022-04-12T10:12:33.561798Z"
    },
    "papermill": {
     "duration": 13.975012,
     "end_time": "2022-04-12T10:12:33.561953",
     "exception": false,
     "start_time": "2022-04-12T10:12:19.586941",
     "status": "completed"
    },
    "tags": []
   },
   "outputs": [
    {
     "name": "stdout",
     "output_type": "stream",
     "text": [
      "Epoch 0, Loss 0.2285\n",
      "Training Accuracy: 0.7358, Testing Accuracy: 0.7581\n",
      "\n"
     ]
    },
    {
     "name": "stdout",
     "output_type": "stream",
     "text": [
      "Epoch 10, Loss 0.0982\n",
      "Training Accuracy: 0.9219, Testing Accuracy: 0.9299\n",
      "\n"
     ]
    },
    {
     "name": "stdout",
     "output_type": "stream",
     "text": [
      "Epoch 20, Loss 0.0764\n",
      "Training Accuracy: 0.9329, Testing Accuracy: 0.9446\n",
      "\n"
     ]
    },
    {
     "name": "stdout",
     "output_type": "stream",
     "text": [
      "Epoch 30, Loss 0.0664\n",
      "Training Accuracy: 0.9391, Testing Accuracy: 0.9491\n",
      "\n"
     ]
    },
    {
     "name": "stdout",
     "output_type": "stream",
     "text": [
      "Epoch 40, Loss 0.0604\n",
      "Training Accuracy: 0.9438, Testing Accuracy: 0.9541\n",
      "\n"
     ]
    },
    {
     "name": "stdout",
     "output_type": "stream",
     "text": [
      "Epoch 50, Loss 0.0562\n",
      "Training Accuracy: 0.9465, Testing Accuracy: 0.9556\n",
      "\n"
     ]
    },
    {
     "name": "stdout",
     "output_type": "stream",
     "text": [
      "Epoch 60, Loss 0.0532\n",
      "Training Accuracy: 0.9488, Testing Accuracy: 0.9582\n",
      "\n"
     ]
    },
    {
     "name": "stdout",
     "output_type": "stream",
     "text": [
      "Epoch 70, Loss 0.0508\n",
      "Training Accuracy: 0.9502, Testing Accuracy: 0.9592\n",
      "\n"
     ]
    },
    {
     "name": "stdout",
     "output_type": "stream",
     "text": [
      "Epoch 80, Loss 0.0488\n",
      "Training Accuracy: 0.9517, Testing Accuracy: 0.9617\n",
      "\n"
     ]
    },
    {
     "name": "stdout",
     "output_type": "stream",
     "text": [
      "Epoch 90, Loss 0.0473\n",
      "Training Accuracy: 0.9525, Testing Accuracy: 0.9632\n",
      "\n"
     ]
    },
    {
     "name": "stdout",
     "output_type": "stream",
     "text": [
      "Epoch 100, Loss 0.0459\n",
      "Training Accuracy: 0.9537, Testing Accuracy: 0.9632\n",
      "\n"
     ]
    },
    {
     "name": "stdout",
     "output_type": "stream",
     "text": [
      "Epoch 110, Loss 0.0447\n",
      "Training Accuracy: 0.9545, Testing Accuracy: 0.9637\n",
      "\n"
     ]
    },
    {
     "name": "stdout",
     "output_type": "stream",
     "text": [
      "Epoch 120, Loss 0.0437\n",
      "Training Accuracy: 0.9552, Testing Accuracy: 0.9647\n",
      "\n"
     ]
    },
    {
     "name": "stdout",
     "output_type": "stream",
     "text": [
      "Epoch 130, Loss 0.0428\n",
      "Training Accuracy: 0.9561, Testing Accuracy: 0.9652\n",
      "\n"
     ]
    },
    {
     "name": "stdout",
     "output_type": "stream",
     "text": [
      "Epoch 140, Loss 0.042\n",
      "Training Accuracy: 0.9567, Testing Accuracy: 0.9652\n",
      "\n"
     ]
    },
    {
     "name": "stdout",
     "output_type": "stream",
     "text": [
      "Epoch 150, Loss 0.0413\n",
      "Training Accuracy: 0.9572, Testing Accuracy: 0.9657\n",
      "\n"
     ]
    },
    {
     "name": "stdout",
     "output_type": "stream",
     "text": [
      "Epoch 160, Loss 0.0406\n",
      "Training Accuracy: 0.9577, Testing Accuracy: 0.9657\n",
      "\n"
     ]
    },
    {
     "name": "stdout",
     "output_type": "stream",
     "text": [
      "Epoch 170, Loss 0.04\n",
      "Training Accuracy: 0.9585, Testing Accuracy: 0.9652\n",
      "\n"
     ]
    },
    {
     "name": "stdout",
     "output_type": "stream",
     "text": [
      "Epoch 180, Loss 0.0395\n",
      "Training Accuracy: 0.9589, Testing Accuracy: 0.9652\n",
      "\n"
     ]
    },
    {
     "name": "stdout",
     "output_type": "stream",
     "text": [
      "Epoch 190, Loss 0.039\n",
      "Training Accuracy: 0.9594, Testing Accuracy: 0.9652\n",
      "\n"
     ]
    },
    {
     "name": "stdout",
     "output_type": "stream",
     "text": [
      "Epoch 200, Loss 0.0385\n",
      "Training Accuracy: 0.9596, Testing Accuracy: 0.9652\n",
      "\n"
     ]
    },
    {
     "name": "stdout",
     "output_type": "stream",
     "text": [
      "Epoch 210, Loss 0.0381\n",
      "Training Accuracy: 0.9600, Testing Accuracy: 0.9652\n",
      "\n"
     ]
    },
    {
     "name": "stdout",
     "output_type": "stream",
     "text": [
      "Epoch 220, Loss 0.0377\n",
      "Training Accuracy: 0.9604, Testing Accuracy: 0.9647\n",
      "\n"
     ]
    },
    {
     "name": "stdout",
     "output_type": "stream",
     "text": [
      "Epoch 230, Loss 0.0373\n",
      "Training Accuracy: 0.9608, Testing Accuracy: 0.9652\n",
      "\n"
     ]
    },
    {
     "name": "stdout",
     "output_type": "stream",
     "text": [
      "Epoch 240, Loss 0.0369\n",
      "Training Accuracy: 0.9608, Testing Accuracy: 0.9657\n",
      "\n"
     ]
    },
    {
     "data": {
      "text/plain": [
       "0.03961967197508505"
      ]
     },
     "execution_count": 23,
     "metadata": {},
     "output_type": "execute_result"
    }
   ],
   "source": [
    "lr_learner.train_loop(dl)"
   ]
  },
  {
   "cell_type": "code",
   "execution_count": 24,
   "id": "ca410940",
   "metadata": {
    "execution": {
     "iopub.execute_input": "2022-04-12T10:12:33.657583Z",
     "iopub.status.busy": "2022-04-12T10:12:33.657055Z",
     "iopub.status.idle": "2022-04-12T10:12:33.868872Z",
     "shell.execute_reply": "2022-04-12T10:12:33.869322Z"
    },
    "papermill": {
     "duration": 0.266298,
     "end_time": "2022-04-12T10:12:33.869473",
     "exception": false,
     "start_time": "2022-04-12T10:12:33.603175",
     "status": "completed"
    },
    "tags": []
   },
   "outputs": [
    {
     "data": {
      "text/plain": [
       "<matplotlib.legend.Legend at 0x7f9b6c549a20>"
      ]
     },
     "execution_count": 24,
     "metadata": {},
     "output_type": "execute_result"
    },
    {
     "data": {
      "image/png": "[encoded data removed]",
      "text/plain": [
       "<Figure size 1080x720 with 1 Axes>"
      ]
     },
     "metadata": {
      "needs_background": "light"
     },
     "output_type": "display_data"
    }
   ],
   "source": [
    "#comparing the results of NN and LR\n",
    "plt.figure(figsize=(15,10))\n",
    "\n",
    "# Neural Network plots\n",
    "plt.plot(acc_nn.accuracies, 'r-', label = \"Training Accuracies - NN\")\n",
    "plt.plot(acc_nn.test_accuracies, 'g-', label = \"Testing Accuracies - NN\")\n",
    "\n",
    "# Logistic Regression plots\n",
    "plt.plot(acc_lr.accuracies, 'k-', label = \"Training Accuracies - LR\")\n",
    "plt.plot(acc_lr.test_accuracies, 'b-', label = \"Testing Accuracies - LR\")\n",
    "plt.legend()"
   ]
  },
  {
   "cell_type": "markdown",
   "id": "80dfb35c",
   "metadata": {
    "papermill": {
     "duration": 0.041737,
     "end_time": "2022-04-12T10:12:33.953158",
     "exception": false,
     "start_time": "2022-04-12T10:12:33.911421",
     "status": "completed"
    },
    "tags": []
   },
   "source": [
    "#### Plotting the outputs of this layer of the NN.\n"
   ]
  },
  {
   "cell_type": "code",
   "execution_count": 25,
   "id": "45eb2ff5",
   "metadata": {
    "execution": {
     "iopub.execute_input": "2022-04-12T10:12:34.048918Z",
     "iopub.status.busy": "2022-04-12T10:12:34.048086Z",
     "iopub.status.idle": "2022-04-12T10:12:34.063419Z",
     "shell.execute_reply": "2022-04-12T10:12:34.063816Z"
    },
    "papermill": {
     "duration": 0.069426,
     "end_time": "2022-04-12T10:12:34.063960",
     "exception": false,
     "start_time": "2022-04-12T10:12:33.994534",
     "status": "completed"
    },
    "tags": []
   },
   "outputs": [],
   "source": [
    "new_model = Model(layers[:-2])\n",
    "testing_plot = new_model(testing_data_x)"
   ]
  },
  {
   "cell_type": "code",
   "execution_count": 26,
   "id": "4c0a5485",
   "metadata": {
    "execution": {
     "iopub.execute_input": "2022-04-12T10:12:34.158828Z",
     "iopub.status.busy": "2022-04-12T10:12:34.158306Z",
     "iopub.status.idle": "2022-04-12T10:12:34.370847Z",
     "shell.execute_reply": "2022-04-12T10:12:34.371269Z"
    },
    "papermill": {
     "duration": 0.265233,
     "end_time": "2022-04-12T10:12:34.371416",
     "exception": false,
     "start_time": "2022-04-12T10:12:34.106183",
     "status": "completed"
    },
    "tags": []
   },
   "outputs": [
    {
     "data": {
      "text/plain": [
       "Text(0.5, 1.0, 'Outputs')"
      ]
     },
     "execution_count": 26,
     "metadata": {},
     "output_type": "execute_result"
    },
    {
     "data": {
      "image/png": "[encoded data removed]",
      "text/plain": [
       "<Figure size 576x504 with 1 Axes>"
      ]
     },
     "metadata": {
      "needs_background": "light"
     },
     "output_type": "display_data"
    }
   ],
   "source": [
    "# Plotting the scatter plot of points and color coding by class\n",
    "plt.figure(figsize=(8,7))\n",
    "plt.scatter(testing_plot[:,0], testing_plot[:,1], alpha = 0.1, c = y_test.ravel());\n",
    "plt.title('Outputs')"
   ]
  },
  {
   "cell_type": "markdown",
   "id": "a74fcf8f",
   "metadata": {
    "papermill": {
     "duration": 0.044263,
     "end_time": "2022-04-12T10:12:34.460078",
     "exception": false,
     "start_time": "2022-04-12T10:12:34.415815",
     "status": "completed"
    },
    "tags": []
   },
   "source": [
    "Probability contours"
   ]
  },
  {
   "cell_type": "code",
   "execution_count": 27,
   "id": "d0afc8e3",
   "metadata": {
    "execution": {
     "iopub.execute_input": "2022-04-12T10:12:34.568491Z",
     "iopub.status.busy": "2022-04-12T10:12:34.567900Z",
     "iopub.status.idle": "2022-04-12T10:12:34.570793Z",
     "shell.execute_reply": "2022-04-12T10:12:34.571201Z"
    },
    "papermill": {
     "duration": 0.066789,
     "end_time": "2022-04-12T10:12:34.571334",
     "exception": false,
     "start_time": "2022-04-12T10:12:34.504545",
     "status": "completed"
    },
    "tags": []
   },
   "outputs": [],
   "source": [
    "model_prob = Model(layers[-2:]) "
   ]
  },
  {
   "cell_type": "code",
   "execution_count": 28,
   "id": "9b96e238",
   "metadata": {
    "execution": {
     "iopub.execute_input": "2022-04-12T10:12:34.696346Z",
     "iopub.status.busy": "2022-04-12T10:12:34.695785Z",
     "iopub.status.idle": "2022-04-12T10:12:34.709315Z",
     "shell.execute_reply": "2022-04-12T10:12:34.708899Z"
    },
    "papermill": {
     "duration": 0.064069,
     "end_time": "2022-04-12T10:12:34.709425",
     "exception": false,
     "start_time": "2022-04-12T10:12:34.645356",
     "status": "completed"
    },
    "tags": []
   },
   "outputs": [],
   "source": [
    "#creating the x and y ranges according to the above generated plot.\n",
    "x_range = np.linspace(-4, 1, 100) \n",
    "y_range = np.linspace(-6, 6, 100) \n",
    "x_grid, y_grid = np.meshgrid(x_range, y_range) # x_grid and y_grig are of size 100 X 100\n",
    "\n",
    "# converting x_grid and y_grid to continuous arrays\n",
    "x_gridflat = np.ravel(x_grid)\n",
    "y_gridflat = np.ravel(y_grid)\n",
    "\n",
    "# The last layer of the current model takes two columns as input. Hence transpose of np.vstack() is required.\n",
    "X = np.vstack((x_gridflat, y_gridflat)).T\n",
    "\n",
    "prob_contour = model_prob(X).reshape(100,100) "
   ]
  },
  {
   "cell_type": "code",
   "execution_count": 29,
   "id": "da72499a",
   "metadata": {
    "execution": {
     "iopub.execute_input": "2022-04-12T10:12:34.809842Z",
     "iopub.status.busy": "2022-04-12T10:12:34.809324Z",
     "iopub.status.idle": "2022-04-12T10:12:35.051275Z",
     "shell.execute_reply": "2022-04-12T10:12:35.050757Z"
    },
    "papermill": {
     "duration": 0.297268,
     "end_time": "2022-04-12T10:12:35.051421",
     "exception": false,
     "start_time": "2022-04-12T10:12:34.754153",
     "status": "completed"
    },
    "tags": []
   },
   "outputs": [
    {
     "data": {
      "image/png": "[encoded data removed]",
      "text/plain": [
       "<Figure size 720x648 with 1 Axes>"
      ]
     },
     "metadata": {
      "needs_background": "light"
     },
     "output_type": "display_data"
    }
   ],
   "source": [
    "plt.figure(figsize=(10,9))\n",
    "plt.scatter(testing_plot[:,0], testing_plot[:,1], alpha = 0.1, c = y_test.ravel())\n",
    "contours = plt.contour(x_grid,y_grid,prob_contour)\n",
    "plt.title('Probability Contours')\n",
    "plt.clabel(contours, inline = True );"
   ]
  },
  {
   "cell_type": "code",
   "execution_count": null,
   "id": "e81b4ac7",
   "metadata": {
    "papermill": {
     "duration": 0.04712,
     "end_time": "2022-04-12T10:12:35.150475",
     "exception": false,
     "start_time": "2022-04-12T10:12:35.103355",
     "status": "completed"
    },
    "tags": []
   },
   "outputs": [],
   "source": []
  }
 ],
 "metadata": {
  "kernelspec": {
   "display_name": "Python 3",
   "language": "python",
   "name": "python3"
  },
  "language_info": {
   "codemirror_mode": {
    "name": "ipython",
    "version": 3
   },
   "file_extension": ".py",
   "mimetype": "text/x-python",
   "name": "python",
   "nbconvert_exporter": "python",
   "pygments_lexer": "ipython3",
   "version": "3.6.15"
  },
  "papermill": {
   "default_parameters": {},
   "duration": 100.257261,
   "end_time": "2022-04-12T10:12:35.617966",
   "environment_variables": {},
   "exception": null,
   "input_path": "2020-08-11-part2.ipynb",
   "output_path": "2020-08-11-part2.ipynb",
   "parameters": {},
   "start_time": "2022-04-12T10:10:55.360705",
   "version": "2.3.3"
  }
 },
 "nbformat": 4,
 "nbformat_minor": 5
}