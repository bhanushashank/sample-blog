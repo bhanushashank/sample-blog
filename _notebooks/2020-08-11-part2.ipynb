{
 "cells": [
  {
   "cell_type": "markdown",
   "id": "98380cd3",
   "metadata": {
    "papermill": {
     "duration": 0.037605,
     "end_time": "2022-05-19T00:42:10.504212",
     "exception": false,
     "start_time": "2022-05-19T00:42:10.466607",
     "status": "completed"
    },
    "tags": []
   },
   "source": [
    "# Distinguish Your Own Digits (DYOD)"
   ]
  },
  {
   "cell_type": "markdown",
   "id": "ef31240d",
   "metadata": {
    "papermill": {
     "duration": 0.031579,
     "end_time": "2022-05-19T00:42:10.569026",
     "exception": false,
     "start_time": "2022-05-19T00:42:10.537447",
     "status": "completed"
    },
    "tags": []
   },
   "source": [
    "You are going to write a classifier that distinguishes between the number 3 and number 8."
   ]
  },
  {
   "cell_type": "code",
   "execution_count": 1,
   "id": "b15c8646",
   "metadata": {
    "execution": {
     "iopub.execute_input": "2022-05-19T00:42:10.643290Z",
     "iopub.status.busy": "2022-05-19T00:42:10.642603Z",
     "iopub.status.idle": "2022-05-19T00:42:10.654698Z",
     "shell.execute_reply": "2022-05-19T00:42:10.654107Z"
    },
    "papermill": {
     "duration": 0.053857,
     "end_time": "2022-05-19T00:42:10.654926",
     "exception": false,
     "start_time": "2022-05-19T00:42:10.601069",
     "status": "completed"
    },
    "tags": []
   },
   "outputs": [],
   "source": [
    "%load_ext autoreload\n",
    "%autoreload 2"
   ]
  },
  {
   "cell_type": "code",
   "execution_count": 2,
   "id": "22ef38dc",
   "metadata": {
    "execution": {
     "iopub.execute_input": "2022-05-19T00:42:10.726675Z",
     "iopub.status.busy": "2022-05-19T00:42:10.725342Z",
     "iopub.status.idle": "2022-05-19T00:42:11.365429Z",
     "shell.execute_reply": "2022-05-19T00:42:11.364844Z"
    },
    "papermill": {
     "duration": 0.679966,
     "end_time": "2022-05-19T00:42:11.365583",
     "exception": false,
     "start_time": "2022-05-19T00:42:10.685617",
     "status": "completed"
    },
    "tags": []
   },
   "outputs": [],
   "source": [
    "%matplotlib inline\n",
    "import numpy as np\n",
    "import matplotlib.pyplot as plt\n",
    "import pandas as pd"
   ]
  },
  {
   "cell_type": "markdown",
   "id": "ba036198",
   "metadata": {
    "papermill": {
     "duration": 0.032458,
     "end_time": "2022-05-19T00:42:11.430066",
     "exception": false,
     "start_time": "2022-05-19T00:42:11.397608",
     "status": "completed"
    },
    "tags": []
   },
   "source": [
    "From the command line run `pip install mnist`. This is a library that will help you bring down the mnist dataset. If you run this from a notebook, you need to put  `!pip install mnist` in a cell by itself."
   ]
  },
  {
   "cell_type": "code",
   "execution_count": 3,
   "id": "bb6ad8a1",
   "metadata": {
    "execution": {
     "iopub.execute_input": "2022-05-19T00:42:11.511263Z",
     "iopub.status.busy": "2022-05-19T00:42:11.510603Z",
     "iopub.status.idle": "2022-05-19T00:42:13.586533Z",
     "shell.execute_reply": "2022-05-19T00:42:13.587064Z"
    },
    "papermill": {
     "duration": 2.126726,
     "end_time": "2022-05-19T00:42:13.587245",
     "exception": false,
     "start_time": "2022-05-19T00:42:11.460519",
     "status": "completed"
    },
    "tags": []
   },
   "outputs": [
    {
     "name": "stdout",
     "output_type": "stream",
     "text": [
      "Collecting mnist\r\n",
      "  Downloading mnist-0.2.2-py2.py3-none-any.whl (3.5 kB)\r\n",
      "Requirement already satisfied: numpy in /opt/hostedtoolcache/Python/3.6.15/x64/lib/python3.6/site-packages (from mnist) (1.19.5)\r\n"
     ]
    },
    {
     "name": "stdout",
     "output_type": "stream",
     "text": [
      "Installing collected packages: mnist\r\n"
     ]
    },
    {
     "name": "stdout",
     "output_type": "stream",
     "text": [
      "Successfully installed mnist-0.2.2\r\n"
     ]
    }
   ],
   "source": [
    "!pip install mnist"
   ]
  },
  {
   "cell_type": "markdown",
   "id": "69df9c9a",
   "metadata": {
    "papermill": {
     "duration": 0.033784,
     "end_time": "2022-05-19T00:42:13.653235",
     "exception": false,
     "start_time": "2022-05-19T00:42:13.619451",
     "status": "completed"
    },
    "tags": []
   },
   "source": [
    "## Preparing the Data"
   ]
  },
  {
   "cell_type": "code",
   "execution_count": 4,
   "id": "7f69d806",
   "metadata": {
    "execution": {
     "iopub.execute_input": "2022-05-19T00:42:13.739102Z",
     "iopub.status.busy": "2022-05-19T00:42:13.732334Z",
     "iopub.status.idle": "2022-05-19T00:42:13.743713Z",
     "shell.execute_reply": "2022-05-19T00:42:13.743149Z"
    },
    "papermill": {
     "duration": 0.059599,
     "end_time": "2022-05-19T00:42:13.743854",
     "exception": false,
     "start_time": "2022-05-19T00:42:13.684255",
     "status": "completed"
    },
    "tags": []
   },
   "outputs": [],
   "source": [
    "import mnist"
   ]
  },
  {
   "cell_type": "code",
   "execution_count": 5,
   "id": "a411e44f",
   "metadata": {
    "execution": {
     "iopub.execute_input": "2022-05-19T00:42:13.820576Z",
     "iopub.status.busy": "2022-05-19T00:42:13.812207Z",
     "iopub.status.idle": "2022-05-19T00:42:14.475189Z",
     "shell.execute_reply": "2022-05-19T00:42:14.475714Z"
    },
    "papermill": {
     "duration": 0.700731,
     "end_time": "2022-05-19T00:42:14.475893",
     "exception": false,
     "start_time": "2022-05-19T00:42:13.775162",
     "status": "completed"
    },
    "tags": []
   },
   "outputs": [],
   "source": [
    "train_images = mnist.train_images()\n",
    "train_labels = mnist.train_labels()"
   ]
  },
  {
   "cell_type": "code",
   "execution_count": 6,
   "id": "dceab3a5",
   "metadata": {
    "execution": {
     "iopub.execute_input": "2022-05-19T00:42:14.554605Z",
     "iopub.status.busy": "2022-05-19T00:42:14.548424Z",
     "iopub.status.idle": "2022-05-19T00:42:14.565689Z",
     "shell.execute_reply": "2022-05-19T00:42:14.565094Z"
    },
    "papermill": {
     "duration": 0.054901,
     "end_time": "2022-05-19T00:42:14.565839",
     "exception": false,
     "start_time": "2022-05-19T00:42:14.510938",
     "status": "completed"
    },
    "tags": []
   },
   "outputs": [
    {
     "data": {
      "text/plain": [
       "((60000, 28, 28), (60000,))"
      ]
     },
     "execution_count": 6,
     "metadata": {},
     "output_type": "execute_result"
    }
   ],
   "source": [
    "train_images.shape, train_labels.shape"
   ]
  },
  {
   "cell_type": "code",
   "execution_count": 7,
   "id": "f50dc2bb",
   "metadata": {
    "execution": {
     "iopub.execute_input": "2022-05-19T00:42:14.639552Z",
     "iopub.status.busy": "2022-05-19T00:42:14.638876Z",
     "iopub.status.idle": "2022-05-19T00:42:14.763446Z",
     "shell.execute_reply": "2022-05-19T00:42:14.762864Z"
    },
    "papermill": {
     "duration": 0.165367,
     "end_time": "2022-05-19T00:42:14.763602",
     "exception": false,
     "start_time": "2022-05-19T00:42:14.598235",
     "status": "completed"
    },
    "tags": []
   },
   "outputs": [],
   "source": [
    "test_images = mnist.test_images()\n",
    "test_labels = mnist.test_labels()"
   ]
  },
  {
   "cell_type": "code",
   "execution_count": 8,
   "id": "fc38cf1b",
   "metadata": {
    "execution": {
     "iopub.execute_input": "2022-05-19T00:42:14.832453Z",
     "iopub.status.busy": "2022-05-19T00:42:14.831777Z",
     "iopub.status.idle": "2022-05-19T00:42:14.847159Z",
     "shell.execute_reply": "2022-05-19T00:42:14.846553Z"
    },
    "papermill": {
     "duration": 0.051212,
     "end_time": "2022-05-19T00:42:14.847302",
     "exception": false,
     "start_time": "2022-05-19T00:42:14.796090",
     "status": "completed"
    },
    "tags": []
   },
   "outputs": [
    {
     "data": {
      "text/plain": [
       "((10000, 28, 28), (10000,))"
      ]
     },
     "execution_count": 8,
     "metadata": {},
     "output_type": "execute_result"
    }
   ],
   "source": [
    "test_images.shape, test_labels.shape"
   ]
  },
  {
   "cell_type": "code",
   "execution_count": 9,
   "id": "f9ed8fe0",
   "metadata": {
    "execution": {
     "iopub.execute_input": "2022-05-19T00:42:14.931212Z",
     "iopub.status.busy": "2022-05-19T00:42:14.923042Z",
     "iopub.status.idle": "2022-05-19T00:42:15.109136Z",
     "shell.execute_reply": "2022-05-19T00:42:15.109678Z"
    },
    "papermill": {
     "duration": 0.23066,
     "end_time": "2022-05-19T00:42:15.109852",
     "exception": false,
     "start_time": "2022-05-19T00:42:14.879192",
     "status": "completed"
    },
    "tags": []
   },
   "outputs": [
    {
     "name": "stdout",
     "output_type": "stream",
     "text": [
      "2\n"
     ]
    },
    {
     "data": {
      "text/plain": [
       "<matplotlib.image.AxesImage at 0x7f70f18f94a8>"
      ]
     },
     "execution_count": 9,
     "metadata": {},
     "output_type": "execute_result"
    },
    {
     "data": {
      "image/png": "[encoded data removed]",
      "text/plain": [
       "<Figure size 432x288 with 1 Axes>"
      ]
     },
     "metadata": {
      "needs_background": "light"
     },
     "output_type": "display_data"
    }
   ],
   "source": [
    "image_index = 7776 # You may select anything up to 60,000\n",
    "print(train_labels[image_index]) \n",
    "plt.imshow(train_images[image_index], cmap='Greys')"
   ]
  },
  {
   "cell_type": "markdown",
   "id": "a8d2388d",
   "metadata": {
    "papermill": {
     "duration": 0.034313,
     "end_time": "2022-05-19T00:42:15.178335",
     "exception": false,
     "start_time": "2022-05-19T00:42:15.144022",
     "status": "completed"
    },
    "tags": []
   },
   "source": [
    "## Filter data to get 3 and 8 out"
   ]
  },
  {
   "cell_type": "code",
   "execution_count": 10,
   "id": "776f7fc7",
   "metadata": {
    "execution": {
     "iopub.execute_input": "2022-05-19T00:42:15.254141Z",
     "iopub.status.busy": "2022-05-19T00:42:15.253447Z",
     "iopub.status.idle": "2022-05-19T00:42:15.272349Z",
     "shell.execute_reply": "2022-05-19T00:42:15.271766Z"
    },
    "papermill": {
     "duration": 0.060551,
     "end_time": "2022-05-19T00:42:15.272537",
     "exception": false,
     "start_time": "2022-05-19T00:42:15.211986",
     "status": "completed"
    },
    "tags": []
   },
   "outputs": [],
   "source": [
    "train_filter = np.where((train_labels == 3 ) | (train_labels == 8))\n",
    "test_filter = np.where((test_labels == 3) | (test_labels == 8))\n",
    "X_train, y_train = train_images[train_filter], train_labels[train_filter]\n",
    "X_test, y_test = test_images[test_filter], test_labels[test_filter]"
   ]
  },
  {
   "cell_type": "markdown",
   "id": "948f0b7e",
   "metadata": {
    "papermill": {
     "duration": 0.034634,
     "end_time": "2022-05-19T00:42:15.341533",
     "exception": false,
     "start_time": "2022-05-19T00:42:15.306899",
     "status": "completed"
    },
    "tags": []
   },
   "source": [
    "We normalize the pizel values in the 0 to 1 range"
   ]
  },
  {
   "cell_type": "code",
   "execution_count": 11,
   "id": "ee4c2166",
   "metadata": {
    "execution": {
     "iopub.execute_input": "2022-05-19T00:42:15.415776Z",
     "iopub.status.busy": "2022-05-19T00:42:15.415111Z",
     "iopub.status.idle": "2022-05-19T00:42:15.478440Z",
     "shell.execute_reply": "2022-05-19T00:42:15.477392Z"
    },
    "papermill": {
     "duration": 0.102279,
     "end_time": "2022-05-19T00:42:15.478601",
     "exception": false,
     "start_time": "2022-05-19T00:42:15.376322",
     "status": "completed"
    },
    "tags": []
   },
   "outputs": [],
   "source": [
    "X_train = X_train/255.\n",
    "X_test = X_test/255."
   ]
  },
  {
   "cell_type": "markdown",
   "id": "ddcf4fab",
   "metadata": {
    "papermill": {
     "duration": 0.034627,
     "end_time": "2022-05-19T00:42:15.547623",
     "exception": false,
     "start_time": "2022-05-19T00:42:15.512996",
     "status": "completed"
    },
    "tags": []
   },
   "source": [
    "And setup the labels as 1 (when the digit is 3) and 0 (when the digit is 8)"
   ]
  },
  {
   "cell_type": "code",
   "execution_count": 12,
   "id": "7dc908f2",
   "metadata": {
    "execution": {
     "iopub.execute_input": "2022-05-19T00:42:15.622405Z",
     "iopub.status.busy": "2022-05-19T00:42:15.621734Z",
     "iopub.status.idle": "2022-05-19T00:42:15.634336Z",
     "shell.execute_reply": "2022-05-19T00:42:15.633776Z"
    },
    "papermill": {
     "duration": 0.05322,
     "end_time": "2022-05-19T00:42:15.634469",
     "exception": false,
     "start_time": "2022-05-19T00:42:15.581249",
     "status": "completed"
    },
    "tags": []
   },
   "outputs": [],
   "source": [
    "y_train = 1*(y_train==3)\n",
    "y_test = 1*(y_test==3)"
   ]
  },
  {
   "cell_type": "code",
   "execution_count": 13,
   "id": "01e4e969",
   "metadata": {
    "execution": {
     "iopub.execute_input": "2022-05-19T00:42:15.707401Z",
     "iopub.status.busy": "2022-05-19T00:42:15.706738Z",
     "iopub.status.idle": "2022-05-19T00:42:15.721578Z",
     "shell.execute_reply": "2022-05-19T00:42:15.721024Z"
    },
    "papermill": {
     "duration": 0.053036,
     "end_time": "2022-05-19T00:42:15.721712",
     "exception": false,
     "start_time": "2022-05-19T00:42:15.668676",
     "status": "completed"
    },
    "tags": []
   },
   "outputs": [
    {
     "data": {
      "text/plain": [
       "((11982, 28, 28), (1984, 28, 28))"
      ]
     },
     "execution_count": 13,
     "metadata": {},
     "output_type": "execute_result"
    }
   ],
   "source": [
    "X_train.shape, X_test.shape"
   ]
  },
  {
   "cell_type": "markdown",
   "id": "5ccf3f85",
   "metadata": {
    "papermill": {
     "duration": 0.033489,
     "end_time": "2022-05-19T00:42:15.790692",
     "exception": false,
     "start_time": "2022-05-19T00:42:15.757203",
     "status": "completed"
    },
    "tags": []
   },
   "source": [
    "We reshape the data to flatten the image pixels into a set of features or co-variates:"
   ]
  },
  {
   "cell_type": "code",
   "execution_count": 14,
   "id": "5286a4a3",
   "metadata": {
    "execution": {
     "iopub.execute_input": "2022-05-19T00:42:15.871797Z",
     "iopub.status.busy": "2022-05-19T00:42:15.871069Z",
     "iopub.status.idle": "2022-05-19T00:42:15.883136Z",
     "shell.execute_reply": "2022-05-19T00:42:15.883756Z"
    },
    "papermill": {
     "duration": 0.059387,
     "end_time": "2022-05-19T00:42:15.883916",
     "exception": false,
     "start_time": "2022-05-19T00:42:15.824529",
     "status": "completed"
    },
    "tags": []
   },
   "outputs": [
    {
     "data": {
      "text/plain": [
       "((11982, 784), (1984, 784))"
      ]
     },
     "execution_count": 14,
     "metadata": {},
     "output_type": "execute_result"
    }
   ],
   "source": [
    "X_train = X_train.reshape(X_train.shape[0], -1)\n",
    "X_test = X_test.reshape(X_test.shape[0], -1)\n",
    "X_train.shape, X_test.shape"
   ]
  },
  {
   "cell_type": "code",
   "execution_count": 15,
   "id": "73c5f88a",
   "metadata": {
    "execution": {
     "iopub.execute_input": "2022-05-19T00:42:15.960375Z",
     "iopub.status.busy": "2022-05-19T00:42:15.959645Z",
     "iopub.status.idle": "2022-05-19T00:42:15.979430Z",
     "shell.execute_reply": "2022-05-19T00:42:15.979975Z"
    },
    "papermill": {
     "duration": 0.062568,
     "end_time": "2022-05-19T00:42:15.980133",
     "exception": false,
     "start_time": "2022-05-19T00:42:15.917565",
     "status": "completed"
    },
    "tags": []
   },
   "outputs": [],
   "source": [
    "#Impoting functions from 'Kudzu'\n",
    "from kudzu.model import Model\n",
    "from kudzu.train import Learner\n",
    "from kudzu.optim import GD\n",
    "from kudzu.data import Data, Sampler,Dataloader\n",
    "\n",
    "from kudzu.callbacks import AccCallback\n",
    "from kudzu.callbacks import ClfCallback\n",
    "\n",
    "from kudzu.loss import MSE\n",
    "\n",
    "from kudzu.layer import Sigmoid,Relu\n",
    "from kudzu.layer import Affine"
   ]
  },
  {
   "cell_type": "markdown",
   "id": "bc01172a",
   "metadata": {
    "papermill": {
     "duration": 0.035699,
     "end_time": "2022-05-19T00:42:16.049331",
     "exception": false,
     "start_time": "2022-05-19T00:42:16.013632",
     "status": "completed"
    },
    "tags": []
   },
   "source": [
    "### Let us create a `Config` class, to store important parameters. \n",
    "This class essentially plays the role of a dictionary."
   ]
  },
  {
   "cell_type": "code",
   "execution_count": 16,
   "id": "978281aa",
   "metadata": {
    "execution": {
     "iopub.execute_input": "2022-05-19T00:42:16.126028Z",
     "iopub.status.busy": "2022-05-19T00:42:16.125360Z",
     "iopub.status.idle": "2022-05-19T00:42:16.138969Z",
     "shell.execute_reply": "2022-05-19T00:42:16.138401Z"
    },
    "papermill": {
     "duration": 0.053278,
     "end_time": "2022-05-19T00:42:16.139111",
     "exception": false,
     "start_time": "2022-05-19T00:42:16.085833",
     "status": "completed"
    },
    "tags": []
   },
   "outputs": [],
   "source": [
    "class Config:\n",
    "    pass\n",
    "config = Config()\n",
    "config.lr = 0.001\n",
    "config.num_epochs = 250\n",
    "config.bs = 50"
   ]
  },
  {
   "cell_type": "markdown",
   "id": "1385fa59",
   "metadata": {
    "papermill": {
     "duration": 0.035191,
     "end_time": "2022-05-19T00:42:16.210100",
     "exception": false,
     "start_time": "2022-05-19T00:42:16.174909",
     "status": "completed"
    },
    "tags": []
   },
   "source": [
    "### Running Models with the Training data\n",
    "Details about the network layers:\n",
    "- A first affine layer has 784 inputs and does 100 affine transforms. These are followed by a Relu\n",
    "- A second affine layer has 100 inputs from the 100 activations of the past layer, and does 100 affine transforms. These are followed by a Relu\n",
    "- A third affine layer has 100 activations and does 2 affine transformations to create an embedding for visualization. There is no non-linearity here.\n",
    "- A final \"logistic regression\" which has an affine transform from 2 inputs to 1 output, which is squeezed through a sigmoid.\n"
   ]
  },
  {
   "cell_type": "code",
   "execution_count": 17,
   "id": "2b9c66db",
   "metadata": {
    "execution": {
     "iopub.execute_input": "2022-05-19T00:42:16.303685Z",
     "iopub.status.busy": "2022-05-19T00:42:16.302300Z",
     "iopub.status.idle": "2022-05-19T00:42:16.305882Z",
     "shell.execute_reply": "2022-05-19T00:42:16.306384Z"
    },
    "papermill": {
     "duration": 0.060911,
     "end_time": "2022-05-19T00:42:16.306542",
     "exception": false,
     "start_time": "2022-05-19T00:42:16.245631",
     "status": "completed"
    },
    "tags": []
   },
   "outputs": [],
   "source": [
    "data = Data(X_train, y_train.reshape(-1,1))\n",
    "sampler = Sampler(data, config.bs, shuffle=True)\n",
    "\n",
    "dl = Dataloader(data, sampler)\n",
    "\n",
    "opt = GD(config.lr)\n",
    "loss = MSE()"
   ]
  },
  {
   "cell_type": "code",
   "execution_count": 18,
   "id": "b275e4c2",
   "metadata": {
    "execution": {
     "iopub.execute_input": "2022-05-19T00:42:16.387664Z",
     "iopub.status.busy": "2022-05-19T00:42:16.384734Z",
     "iopub.status.idle": "2022-05-19T00:42:16.396503Z",
     "shell.execute_reply": "2022-05-19T00:42:16.395923Z"
    },
    "papermill": {
     "duration": 0.0542,
     "end_time": "2022-05-19T00:42:16.396642",
     "exception": false,
     "start_time": "2022-05-19T00:42:16.342442",
     "status": "completed"
    },
    "tags": []
   },
   "outputs": [],
   "source": [
    "training_data_x = X_train\n",
    "testing_data_x = X_test\n",
    "training_data_y = y_train.reshape(-1,1)\n",
    "testing_data_y = y_test.reshape(-1,1)"
   ]
  },
  {
   "cell_type": "code",
   "execution_count": 19,
   "id": "76951160",
   "metadata": {
    "execution": {
     "iopub.execute_input": "2022-05-19T00:42:16.484750Z",
     "iopub.status.busy": "2022-05-19T00:42:16.484049Z",
     "iopub.status.idle": "2022-05-19T00:42:16.495902Z",
     "shell.execute_reply": "2022-05-19T00:42:16.495091Z"
    },
    "papermill": {
     "duration": 0.06419,
     "end_time": "2022-05-19T00:42:16.496039",
     "exception": false,
     "start_time": "2022-05-19T00:42:16.431849",
     "status": "completed"
    },
    "tags": []
   },
   "outputs": [
    {
     "name": "stdout",
     "output_type": "stream",
     "text": [
      "xavier\n",
      "xavier\n",
      "xavier\n",
      "xavier\n",
      "xavier\n"
     ]
    }
   ],
   "source": [
    "layers = [Affine(\"first\", 784, 100), Relu(\"first\"), Affine(\"second\", 100, 100), Relu(\"second\"), Affine(\"third\", 100, 2), Affine(\"last\", 2, 1), Sigmoid(\"last\")]\n",
    "model_nn = Model(layers)\n",
    "model_lr = Model([Affine(\"logits\", 784, 1), Sigmoid(\"sigmoid\")])"
   ]
  },
  {
   "cell_type": "code",
   "execution_count": 20,
   "id": "6eede77a",
   "metadata": {
    "execution": {
     "iopub.execute_input": "2022-05-19T00:42:16.591439Z",
     "iopub.status.busy": "2022-05-19T00:42:16.586907Z",
     "iopub.status.idle": "2022-05-19T00:42:16.593786Z",
     "shell.execute_reply": "2022-05-19T00:42:16.594316Z"
    },
    "papermill": {
     "duration": 0.061934,
     "end_time": "2022-05-19T00:42:16.594468",
     "exception": false,
     "start_time": "2022-05-19T00:42:16.532534",
     "status": "completed"
    },
    "tags": []
   },
   "outputs": [],
   "source": [
    "nn_learner = Learner(loss, model_nn, opt, config.num_epochs)\n",
    "acc_nn = ClfCallback(nn_learner, config.bs, training_data_x , testing_data_x, training_data_y, testing_data_y)\n",
    "nn_learner.set_callbacks([acc_nn])"
   ]
  },
  {
   "cell_type": "code",
   "execution_count": 21,
   "id": "877b6cc7",
   "metadata": {
    "execution": {
     "iopub.execute_input": "2022-05-19T00:42:16.669124Z",
     "iopub.status.busy": "2022-05-19T00:42:16.668432Z",
     "iopub.status.idle": "2022-05-19T00:42:16.682385Z",
     "shell.execute_reply": "2022-05-19T00:42:16.681833Z"
    },
    "papermill": {
     "duration": 0.053151,
     "end_time": "2022-05-19T00:42:16.682515",
     "exception": false,
     "start_time": "2022-05-19T00:42:16.629364",
     "status": "completed"
    },
    "tags": []
   },
   "outputs": [],
   "source": [
    "lr_learner = Learner(loss, model_lr, opt, config.num_epochs)\n",
    "acc_lr = ClfCallback(lr_learner, config.bs, training_data_x , testing_data_x, training_data_y, testing_data_y)\n",
    "lr_learner.set_callbacks([acc_lr])"
   ]
  },
  {
   "cell_type": "code",
   "execution_count": 22,
   "id": "d9b133c3",
   "metadata": {
    "execution": {
     "iopub.execute_input": "2022-05-19T00:42:16.756387Z",
     "iopub.status.busy": "2022-05-19T00:42:16.755741Z",
     "iopub.status.idle": "2022-05-19T00:44:25.708535Z",
     "shell.execute_reply": "2022-05-19T00:44:25.709395Z"
    },
    "papermill": {
     "duration": 128.992994,
     "end_time": "2022-05-19T00:44:25.709566",
     "exception": false,
     "start_time": "2022-05-19T00:42:16.716572",
     "status": "completed"
    },
    "tags": []
   },
   "outputs": [
    {
     "name": "stdout",
     "output_type": "stream",
     "text": [
      "Epoch 0, Loss 0.2422\n",
      "Training Accuracy: 0.6098, Testing Accuracy: 0.6255\n",
      "\n"
     ]
    },
    {
     "name": "stdout",
     "output_type": "stream",
     "text": [
      "Epoch 10, Loss 0.165\n",
      "Training Accuracy: 0.8903, Testing Accuracy: 0.8987\n",
      "\n"
     ]
    },
    {
     "name": "stdout",
     "output_type": "stream",
     "text": [
      "Epoch 20, Loss 0.0833\n",
      "Training Accuracy: 0.9181, Testing Accuracy: 0.9309\n",
      "\n"
     ]
    },
    {
     "name": "stdout",
     "output_type": "stream",
     "text": [
      "Epoch 30, Loss 0.0586\n",
      "Training Accuracy: 0.9359, Testing Accuracy: 0.9481\n",
      "\n"
     ]
    },
    {
     "name": "stdout",
     "output_type": "stream",
     "text": [
      "Epoch 40, Loss 0.0477\n",
      "Training Accuracy: 0.9461, Testing Accuracy: 0.9541\n",
      "\n"
     ]
    },
    {
     "name": "stdout",
     "output_type": "stream",
     "text": [
      "Epoch 50, Loss 0.0417\n",
      "Training Accuracy: 0.9506, Testing Accuracy: 0.9602\n",
      "\n"
     ]
    },
    {
     "name": "stdout",
     "output_type": "stream",
     "text": [
      "Epoch 60, Loss 0.0379\n",
      "Training Accuracy: 0.9548, Testing Accuracy: 0.9632\n",
      "\n"
     ]
    },
    {
     "name": "stdout",
     "output_type": "stream",
     "text": [
      "Epoch 70, Loss 0.0353\n",
      "Training Accuracy: 0.9579, Testing Accuracy: 0.9647\n",
      "\n"
     ]
    },
    {
     "name": "stdout",
     "output_type": "stream",
     "text": [
      "Epoch 80, Loss 0.0333\n",
      "Training Accuracy: 0.9613, Testing Accuracy: 0.9642\n",
      "\n"
     ]
    },
    {
     "name": "stdout",
     "output_type": "stream",
     "text": [
      "Epoch 90, Loss 0.0317\n",
      "Training Accuracy: 0.9630, Testing Accuracy: 0.9667\n",
      "\n"
     ]
    },
    {
     "name": "stdout",
     "output_type": "stream",
     "text": [
      "Epoch 100, Loss 0.0304\n",
      "Training Accuracy: 0.9644, Testing Accuracy: 0.9682\n",
      "\n"
     ]
    },
    {
     "name": "stdout",
     "output_type": "stream",
     "text": [
      "Epoch 110, Loss 0.0293\n",
      "Training Accuracy: 0.9656, Testing Accuracy: 0.9682\n",
      "\n"
     ]
    },
    {
     "name": "stdout",
     "output_type": "stream",
     "text": [
      "Epoch 120, Loss 0.0284\n",
      "Training Accuracy: 0.9666, Testing Accuracy: 0.9682\n",
      "\n"
     ]
    },
    {
     "name": "stdout",
     "output_type": "stream",
     "text": [
      "Epoch 130, Loss 0.0276\n",
      "Training Accuracy: 0.9677, Testing Accuracy: 0.9682\n",
      "\n"
     ]
    },
    {
     "name": "stdout",
     "output_type": "stream",
     "text": [
      "Epoch 140, Loss 0.0269\n",
      "Training Accuracy: 0.9689, Testing Accuracy: 0.9688\n",
      "\n"
     ]
    },
    {
     "name": "stdout",
     "output_type": "stream",
     "text": [
      "Epoch 150, Loss 0.0262\n",
      "Training Accuracy: 0.9694, Testing Accuracy: 0.9703\n",
      "\n"
     ]
    },
    {
     "name": "stdout",
     "output_type": "stream",
     "text": [
      "Epoch 160, Loss 0.0256\n",
      "Training Accuracy: 0.9701, Testing Accuracy: 0.9713\n",
      "\n"
     ]
    },
    {
     "name": "stdout",
     "output_type": "stream",
     "text": [
      "Epoch 170, Loss 0.025\n",
      "Training Accuracy: 0.9708, Testing Accuracy: 0.9718\n",
      "\n"
     ]
    },
    {
     "name": "stdout",
     "output_type": "stream",
     "text": [
      "Epoch 180, Loss 0.0245\n",
      "Training Accuracy: 0.9711, Testing Accuracy: 0.9713\n",
      "\n"
     ]
    },
    {
     "name": "stdout",
     "output_type": "stream",
     "text": [
      "Epoch 190, Loss 0.0241\n",
      "Training Accuracy: 0.9717, Testing Accuracy: 0.9723\n",
      "\n"
     ]
    },
    {
     "name": "stdout",
     "output_type": "stream",
     "text": [
      "Epoch 200, Loss 0.0236\n",
      "Training Accuracy: 0.9721, Testing Accuracy: 0.9728\n",
      "\n"
     ]
    },
    {
     "name": "stdout",
     "output_type": "stream",
     "text": [
      "Epoch 210, Loss 0.0232\n",
      "Training Accuracy: 0.9726, Testing Accuracy: 0.9723\n",
      "\n"
     ]
    },
    {
     "name": "stdout",
     "output_type": "stream",
     "text": [
      "Epoch 220, Loss 0.0228\n",
      "Training Accuracy: 0.9731, Testing Accuracy: 0.9733\n",
      "\n"
     ]
    },
    {
     "name": "stdout",
     "output_type": "stream",
     "text": [
      "Epoch 230, Loss 0.0224\n",
      "Training Accuracy: 0.9739, Testing Accuracy: 0.9728\n",
      "\n"
     ]
    },
    {
     "name": "stdout",
     "output_type": "stream",
     "text": [
      "Epoch 240, Loss 0.022\n",
      "Training Accuracy: 0.9739, Testing Accuracy: 0.9718\n",
      "\n"
     ]
    },
    {
     "data": {
      "text/plain": [
       "0.03519020014973437"
      ]
     },
     "execution_count": 22,
     "metadata": {},
     "output_type": "execute_result"
    }
   ],
   "source": [
    "nn_learner.train_loop(dl)"
   ]
  },
  {
   "cell_type": "code",
   "execution_count": 23,
   "id": "e0163366",
   "metadata": {
    "execution": {
     "iopub.execute_input": "2022-05-19T00:44:25.810045Z",
     "iopub.status.busy": "2022-05-19T00:44:25.809390Z",
     "iopub.status.idle": "2022-05-19T00:44:44.787231Z",
     "shell.execute_reply": "2022-05-19T00:44:44.788097Z"
    },
    "papermill": {
     "duration": 19.034689,
     "end_time": "2022-05-19T00:44:44.788273",
     "exception": false,
     "start_time": "2022-05-19T00:44:25.753584",
     "status": "completed"
    },
    "tags": []
   },
   "outputs": [
    {
     "name": "stdout",
     "output_type": "stream",
     "text": [
      "Epoch 0, Loss 0.2569\n",
      "Training Accuracy: 0.6276, Testing Accuracy: 0.6305\n",
      "\n"
     ]
    },
    {
     "name": "stdout",
     "output_type": "stream",
     "text": [
      "Epoch 10, Loss 0.1042\n",
      "Training Accuracy: 0.9114, Testing Accuracy: 0.9224\n",
      "\n"
     ]
    },
    {
     "name": "stdout",
     "output_type": "stream",
     "text": [
      "Epoch 20, Loss 0.0789\n",
      "Training Accuracy: 0.9306, Testing Accuracy: 0.9395\n",
      "\n"
     ]
    },
    {
     "name": "stdout",
     "output_type": "stream",
     "text": [
      "Epoch 30, Loss 0.0677\n",
      "Training Accuracy: 0.9387, Testing Accuracy: 0.9536\n",
      "\n"
     ]
    },
    {
     "name": "stdout",
     "output_type": "stream",
     "text": [
      "Epoch 40, Loss 0.0611\n",
      "Training Accuracy: 0.9428, Testing Accuracy: 0.9556\n",
      "\n"
     ]
    },
    {
     "name": "stdout",
     "output_type": "stream",
     "text": [
      "Epoch 50, Loss 0.0566\n",
      "Training Accuracy: 0.9461, Testing Accuracy: 0.9592\n",
      "\n"
     ]
    },
    {
     "name": "stdout",
     "output_type": "stream",
     "text": [
      "Epoch 60, Loss 0.0534\n",
      "Training Accuracy: 0.9487, Testing Accuracy: 0.9592\n",
      "\n"
     ]
    },
    {
     "name": "stdout",
     "output_type": "stream",
     "text": [
      "Epoch 70, Loss 0.0509\n",
      "Training Accuracy: 0.9502, Testing Accuracy: 0.9622\n",
      "\n"
     ]
    },
    {
     "name": "stdout",
     "output_type": "stream",
     "text": [
      "Epoch 80, Loss 0.0489\n",
      "Training Accuracy: 0.9519, Testing Accuracy: 0.9642\n",
      "\n"
     ]
    },
    {
     "name": "stdout",
     "output_type": "stream",
     "text": [
      "Epoch 90, Loss 0.0472\n",
      "Training Accuracy: 0.9538, Testing Accuracy: 0.9647\n",
      "\n"
     ]
    },
    {
     "name": "stdout",
     "output_type": "stream",
     "text": [
      "Epoch 100, Loss 0.0459\n",
      "Training Accuracy: 0.9547, Testing Accuracy: 0.9657\n",
      "\n"
     ]
    },
    {
     "name": "stdout",
     "output_type": "stream",
     "text": [
      "Epoch 110, Loss 0.0447\n",
      "Training Accuracy: 0.9553, Testing Accuracy: 0.9657\n",
      "\n"
     ]
    },
    {
     "name": "stdout",
     "output_type": "stream",
     "text": [
      "Epoch 120, Loss 0.0437\n",
      "Training Accuracy: 0.9562, Testing Accuracy: 0.9652\n",
      "\n"
     ]
    },
    {
     "name": "stdout",
     "output_type": "stream",
     "text": [
      "Epoch 130, Loss 0.0427\n",
      "Training Accuracy: 0.9569, Testing Accuracy: 0.9647\n",
      "\n"
     ]
    },
    {
     "name": "stdout",
     "output_type": "stream",
     "text": [
      "Epoch 140, Loss 0.0419\n",
      "Training Accuracy: 0.9577, Testing Accuracy: 0.9657\n",
      "\n"
     ]
    },
    {
     "name": "stdout",
     "output_type": "stream",
     "text": [
      "Epoch 150, Loss 0.0412\n",
      "Training Accuracy: 0.9581, Testing Accuracy: 0.9657\n",
      "\n"
     ]
    },
    {
     "name": "stdout",
     "output_type": "stream",
     "text": [
      "Epoch 160, Loss 0.0406\n",
      "Training Accuracy: 0.9585, Testing Accuracy: 0.9662\n",
      "\n"
     ]
    },
    {
     "name": "stdout",
     "output_type": "stream",
     "text": [
      "Epoch 170, Loss 0.04\n",
      "Training Accuracy: 0.9589, Testing Accuracy: 0.9662\n",
      "\n"
     ]
    },
    {
     "name": "stdout",
     "output_type": "stream",
     "text": [
      "Epoch 180, Loss 0.0394\n",
      "Training Accuracy: 0.9590, Testing Accuracy: 0.9662\n",
      "\n"
     ]
    },
    {
     "name": "stdout",
     "output_type": "stream",
     "text": [
      "Epoch 190, Loss 0.0389\n",
      "Training Accuracy: 0.9592, Testing Accuracy: 0.9662\n",
      "\n"
     ]
    },
    {
     "name": "stdout",
     "output_type": "stream",
     "text": [
      "Epoch 200, Loss 0.0384\n",
      "Training Accuracy: 0.9596, Testing Accuracy: 0.9667\n",
      "\n"
     ]
    },
    {
     "name": "stdout",
     "output_type": "stream",
     "text": [
      "Epoch 210, Loss 0.038\n",
      "Training Accuracy: 0.9596, Testing Accuracy: 0.9667\n",
      "\n"
     ]
    },
    {
     "name": "stdout",
     "output_type": "stream",
     "text": [
      "Epoch 220, Loss 0.0376\n",
      "Training Accuracy: 0.9599, Testing Accuracy: 0.9667\n",
      "\n"
     ]
    },
    {
     "name": "stdout",
     "output_type": "stream",
     "text": [
      "Epoch 230, Loss 0.0372\n",
      "Training Accuracy: 0.9600, Testing Accuracy: 0.9667\n",
      "\n"
     ]
    },
    {
     "name": "stdout",
     "output_type": "stream",
     "text": [
      "Epoch 240, Loss 0.0369\n",
      "Training Accuracy: 0.9604, Testing Accuracy: 0.9662\n",
      "\n"
     ]
    },
    {
     "data": {
      "text/plain": [
       "0.07165577701330489"
      ]
     },
     "execution_count": 23,
     "metadata": {},
     "output_type": "execute_result"
    }
   ],
   "source": [
    "lr_learner.train_loop(dl)"
   ]
  },
  {
   "cell_type": "code",
   "execution_count": 24,
   "id": "ca410940",
   "metadata": {
    "execution": {
     "iopub.execute_input": "2022-05-19T00:44:44.903060Z",
     "iopub.status.busy": "2022-05-19T00:44:44.902364Z",
     "iopub.status.idle": "2022-05-19T00:44:45.215326Z",
     "shell.execute_reply": "2022-05-19T00:44:45.215864Z"
    },
    "papermill": {
     "duration": 0.373777,
     "end_time": "2022-05-19T00:44:45.216034",
     "exception": false,
     "start_time": "2022-05-19T00:44:44.842257",
     "status": "completed"
    },
    "tags": []
   },
   "outputs": [
    {
     "data": {
      "text/plain": [
       "<matplotlib.legend.Legend at 0x7f70f14d8c18>"
      ]
     },
     "execution_count": 24,
     "metadata": {},
     "output_type": "execute_result"
    },
    {
     "data": {
      "image/png": "[encoded data removed]",
      "text/plain": [
       "<Figure size 1080x720 with 1 Axes>"
      ]
     },
     "metadata": {
      "needs_background": "light"
     },
     "output_type": "display_data"
    }
   ],
   "source": [
    "#comparing the results of NN and LR\n",
    "plt.figure(figsize=(15,10))\n",
    "\n",
    "# Neural Network plots\n",
    "plt.plot(acc_nn.accuracies, 'r-', label = \"Training Accuracies - NN\")\n",
    "plt.plot(acc_nn.test_accuracies, 'g-', label = \"Testing Accuracies - NN\")\n",
    "\n",
    "# Logistic Regression plots\n",
    "plt.plot(acc_lr.accuracies, 'k-', label = \"Training Accuracies - LR\")\n",
    "plt.plot(acc_lr.test_accuracies, 'b-', label = \"Testing Accuracies - LR\")\n",
    "plt.legend()"
   ]
  },
  {
   "cell_type": "markdown",
   "id": "80dfb35c",
   "metadata": {
    "papermill": {
     "duration": 0.051773,
     "end_time": "2022-05-19T00:44:45.326784",
     "exception": false,
     "start_time": "2022-05-19T00:44:45.275011",
     "status": "completed"
    },
    "tags": []
   },
   "source": [
    "#### Plotting the outputs of this layer of the NN.\n"
   ]
  },
  {
   "cell_type": "code",
   "execution_count": 25,
   "id": "45eb2ff5",
   "metadata": {
    "execution": {
     "iopub.execute_input": "2022-05-19T00:44:45.443954Z",
     "iopub.status.busy": "2022-05-19T00:44:45.442724Z",
     "iopub.status.idle": "2022-05-19T00:44:45.466172Z",
     "shell.execute_reply": "2022-05-19T00:44:45.466717Z"
    },
    "papermill": {
     "duration": 0.086394,
     "end_time": "2022-05-19T00:44:45.466889",
     "exception": false,
     "start_time": "2022-05-19T00:44:45.380495",
     "status": "completed"
    },
    "tags": []
   },
   "outputs": [],
   "source": [
    "new_model = Model(layers[:-2])\n",
    "testing_plot = new_model(testing_data_x)"
   ]
  },
  {
   "cell_type": "code",
   "execution_count": 26,
   "id": "4c0a5485",
   "metadata": {
    "execution": {
     "iopub.execute_input": "2022-05-19T00:44:45.591273Z",
     "iopub.status.busy": "2022-05-19T00:44:45.590596Z",
     "iopub.status.idle": "2022-05-19T00:44:45.843939Z",
     "shell.execute_reply": "2022-05-19T00:44:45.843364Z"
    },
    "papermill": {
     "duration": 0.32225,
     "end_time": "2022-05-19T00:44:45.844084",
     "exception": false,
     "start_time": "2022-05-19T00:44:45.521834",
     "status": "completed"
    },
    "tags": []
   },
   "outputs": [
    {
     "data": {
      "text/plain": [
       "Text(0.5, 1.0, 'Outputs')"
      ]
     },
     "execution_count": 26,
     "metadata": {},
     "output_type": "execute_result"
    },
    {
     "data": {
      "image/png": "[encoded data removed]",
      "text/plain": [
       "<Figure size 576x504 with 1 Axes>"
      ]
     },
     "metadata": {
      "needs_background": "light"
     },
     "output_type": "display_data"
    }
   ],
   "source": [
    "# Plotting the scatter plot of points and color coding by class\n",
    "plt.figure(figsize=(8,7))\n",
    "plt.scatter(testing_plot[:,0], testing_plot[:,1], alpha = 0.1, c = y_test.ravel());\n",
    "plt.title('Outputs')"
   ]
  },
  {
   "cell_type": "markdown",
   "id": "a74fcf8f",
   "metadata": {
    "papermill": {
     "duration": 0.062386,
     "end_time": "2022-05-19T00:44:45.962082",
     "exception": false,
     "start_time": "2022-05-19T00:44:45.899696",
     "status": "completed"
    },
    "tags": []
   },
   "source": [
    "Probability contours"
   ]
  },
  {
   "cell_type": "code",
   "execution_count": 27,
   "id": "d0afc8e3",
   "metadata": {
    "execution": {
     "iopub.execute_input": "2022-05-19T00:44:46.093040Z",
     "iopub.status.busy": "2022-05-19T00:44:46.091095Z",
     "iopub.status.idle": "2022-05-19T00:44:46.105024Z",
     "shell.execute_reply": "2022-05-19T00:44:46.104486Z"
    },
    "papermill": {
     "duration": 0.0787,
     "end_time": "2022-05-19T00:44:46.105160",
     "exception": false,
     "start_time": "2022-05-19T00:44:46.026460",
     "status": "completed"
    },
    "tags": []
   },
   "outputs": [],
   "source": [
    "model_prob = Model(layers[-2:]) "
   ]
  },
  {
   "cell_type": "code",
   "execution_count": 28,
   "id": "9b96e238",
   "metadata": {
    "execution": {
     "iopub.execute_input": "2022-05-19T00:44:46.269257Z",
     "iopub.status.busy": "2022-05-19T00:44:46.263985Z",
     "iopub.status.idle": "2022-05-19T00:44:46.276115Z",
     "shell.execute_reply": "2022-05-19T00:44:46.276657Z"
    },
    "papermill": {
     "duration": 0.110763,
     "end_time": "2022-05-19T00:44:46.276814",
     "exception": false,
     "start_time": "2022-05-19T00:44:46.166051",
     "status": "completed"
    },
    "tags": []
   },
   "outputs": [],
   "source": [
    "#creating the x and y ranges according to the above generated plot.\n",
    "x_range = np.linspace(-4, 1, 100) \n",
    "y_range = np.linspace(-6, 6, 100) \n",
    "x_grid, y_grid = np.meshgrid(x_range, y_range) # x_grid and y_grig are of size 100 X 100\n",
    "\n",
    "# converting x_grid and y_grid to continuous arrays\n",
    "x_gridflat = np.ravel(x_grid)\n",
    "y_gridflat = np.ravel(y_grid)\n",
    "\n",
    "# The last layer of the current model takes two columns as input. Hence transpose of np.vstack() is required.\n",
    "X = np.vstack((x_gridflat, y_gridflat)).T\n",
    "\n",
    "prob_contour = model_prob(X).reshape(100,100) "
   ]
  },
  {
   "cell_type": "code",
   "execution_count": 29,
   "id": "da72499a",
   "metadata": {
    "execution": {
     "iopub.execute_input": "2022-05-19T00:44:46.406502Z",
     "iopub.status.busy": "2022-05-19T00:44:46.405821Z",
     "iopub.status.idle": "2022-05-19T00:44:46.731230Z",
     "shell.execute_reply": "2022-05-19T00:44:46.730290Z"
    },
    "papermill": {
     "duration": 0.398068,
     "end_time": "2022-05-19T00:44:46.731385",
     "exception": false,
     "start_time": "2022-05-19T00:44:46.333317",
     "status": "completed"
    },
    "tags": []
   },
   "outputs": [
    {
     "data": {
      "image/png": "[encoded data removed]",
      "text/plain": [
       "<Figure size 720x648 with 1 Axes>"
      ]
     },
     "metadata": {
      "needs_background": "light"
     },
     "output_type": "display_data"
    }
   ],
   "source": [
    "plt.figure(figsize=(10,9))\n",
    "plt.scatter(testing_plot[:,0], testing_plot[:,1], alpha = 0.1, c = y_test.ravel())\n",
    "contours = plt.contour(x_grid,y_grid,prob_contour)\n",
    "plt.title('Probability Contours')\n",
    "plt.clabel(contours, inline = True );"
   ]
  },
  {
   "cell_type": "code",
   "execution_count": null,
   "id": "e81b4ac7",
   "metadata": {
    "papermill": {
     "duration": 0.058284,
     "end_time": "2022-05-19T00:44:46.849016",
     "exception": false,
     "start_time": "2022-05-19T00:44:46.790732",
     "status": "completed"
    },
    "tags": []
   },
   "outputs": [],
   "source": []
  }
 ],
 "metadata": {
  "kernelspec": {
   "display_name": "Python 3",
   "language": "python",
   "name": "python3"
  },
  "language_info": {
   "codemirror_mode": {
    "name": "ipython",
    "version": 3
   },
   "file_extension": ".py",
   "mimetype": "text/x-python",
   "name": "python",
   "nbconvert_exporter": "python",
   "pygments_lexer": "ipython3",
   "version": "3.6.15"
  },
  "papermill": {
   "default_parameters": {},
   "duration": 158.166643,
   "end_time": "2022-05-19T00:44:47.327242",
   "environment_variables": {},
   "exception": null,
   "input_path": "2020-08-11-part2.ipynb",
   "output_path": "2020-08-11-part2.ipynb",
   "parameters": {},
   "start_time": "2022-05-19T00:42:09.160599",
   "version": "2.3.3"
  }
 },
 "nbformat": 4,
 "nbformat_minor": 5
}