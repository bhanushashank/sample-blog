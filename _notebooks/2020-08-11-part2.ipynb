{
 "cells": [
  {
   "cell_type": "markdown",
   "id": "98380cd3",
   "metadata": {
    "papermill": {
     "duration": 0.029664,
     "end_time": "2022-07-31T00:40:18.630022",
     "exception": false,
     "start_time": "2022-07-31T00:40:18.600358",
     "status": "completed"
    },
    "tags": []
   },
   "source": [
    "# Distinguish Your Own Digits (DYOD)"
   ]
  },
  {
   "cell_type": "markdown",
   "id": "ef31240d",
   "metadata": {
    "papermill": {
     "duration": 0.024994,
     "end_time": "2022-07-31T00:40:18.680509",
     "exception": false,
     "start_time": "2022-07-31T00:40:18.655515",
     "status": "completed"
    },
    "tags": []
   },
   "source": [
    "You are going to write a classifier that distinguishes between the number 3 and number 8."
   ]
  },
  {
   "cell_type": "code",
   "execution_count": 1,
   "id": "b15c8646",
   "metadata": {
    "execution": {
     "iopub.execute_input": "2022-07-31T00:40:18.740349Z",
     "iopub.status.busy": "2022-07-31T00:40:18.739741Z",
     "iopub.status.idle": "2022-07-31T00:40:18.749786Z",
     "shell.execute_reply": "2022-07-31T00:40:18.750248Z"
    },
    "papermill": {
     "duration": 0.044942,
     "end_time": "2022-07-31T00:40:18.750384",
     "exception": false,
     "start_time": "2022-07-31T00:40:18.705442",
     "status": "completed"
    },
    "tags": []
   },
   "outputs": [],
   "source": [
    "%load_ext autoreload\n",
    "%autoreload 2"
   ]
  },
  {
   "cell_type": "code",
   "execution_count": 2,
   "id": "22ef38dc",
   "metadata": {
    "execution": {
     "iopub.execute_input": "2022-07-31T00:40:18.804392Z",
     "iopub.status.busy": "2022-07-31T00:40:18.803787Z",
     "iopub.status.idle": "2022-07-31T00:40:19.325426Z",
     "shell.execute_reply": "2022-07-31T00:40:19.324945Z"
    },
    "papermill": {
     "duration": 0.550165,
     "end_time": "2022-07-31T00:40:19.325541",
     "exception": false,
     "start_time": "2022-07-31T00:40:18.775376",
     "status": "completed"
    },
    "tags": []
   },
   "outputs": [],
   "source": [
    "%matplotlib inline\n",
    "import numpy as np\n",
    "import matplotlib.pyplot as plt\n",
    "import pandas as pd"
   ]
  },
  {
   "cell_type": "markdown",
   "id": "ba036198",
   "metadata": {
    "papermill": {
     "duration": 0.024827,
     "end_time": "2022-07-31T00:40:19.375183",
     "exception": false,
     "start_time": "2022-07-31T00:40:19.350356",
     "status": "completed"
    },
    "tags": []
   },
   "source": [
    "From the command line run `pip install mnist`. This is a library that will help you bring down the mnist dataset. If you run this from a notebook, you need to put  `!pip install mnist` in a cell by itself."
   ]
  },
  {
   "cell_type": "code",
   "execution_count": 3,
   "id": "bb6ad8a1",
   "metadata": {
    "execution": {
     "iopub.execute_input": "2022-07-31T00:40:19.428790Z",
     "iopub.status.busy": "2022-07-31T00:40:19.428230Z",
     "iopub.status.idle": "2022-07-31T00:40:21.086404Z",
     "shell.execute_reply": "2022-07-31T00:40:21.085918Z"
    },
    "papermill": {
     "duration": 1.686357,
     "end_time": "2022-07-31T00:40:21.086521",
     "exception": false,
     "start_time": "2022-07-31T00:40:19.400164",
     "status": "completed"
    },
    "tags": []
   },
   "outputs": [
    {
     "name": "stdout",
     "output_type": "stream",
     "text": [
      "Collecting mnist\r\n"
     ]
    },
    {
     "name": "stdout",
     "output_type": "stream",
     "text": [
      "  Downloading mnist-0.2.2-py2.py3-none-any.whl (3.5 kB)\r\n",
      "Requirement already satisfied: numpy in /opt/hostedtoolcache/Python/3.6.15/x64/lib/python3.6/site-packages (from mnist) (1.19.5)\r\n"
     ]
    },
    {
     "name": "stdout",
     "output_type": "stream",
     "text": [
      "Installing collected packages: mnist\r\n"
     ]
    },
    {
     "name": "stdout",
     "output_type": "stream",
     "text": [
      "Successfully installed mnist-0.2.2\r\n"
     ]
    }
   ],
   "source": [
    "!pip install mnist"
   ]
  },
  {
   "cell_type": "markdown",
   "id": "69df9c9a",
   "metadata": {
    "papermill": {
     "duration": 0.026152,
     "end_time": "2022-07-31T00:40:21.138889",
     "exception": false,
     "start_time": "2022-07-31T00:40:21.112737",
     "status": "completed"
    },
    "tags": []
   },
   "source": [
    "## Preparing the Data"
   ]
  },
  {
   "cell_type": "code",
   "execution_count": 4,
   "id": "7f69d806",
   "metadata": {
    "execution": {
     "iopub.execute_input": "2022-07-31T00:40:21.194479Z",
     "iopub.status.busy": "2022-07-31T00:40:21.193916Z",
     "iopub.status.idle": "2022-07-31T00:40:21.207729Z",
     "shell.execute_reply": "2022-07-31T00:40:21.207280Z"
    },
    "papermill": {
     "duration": 0.042906,
     "end_time": "2022-07-31T00:40:21.207837",
     "exception": false,
     "start_time": "2022-07-31T00:40:21.164931",
     "status": "completed"
    },
    "tags": []
   },
   "outputs": [],
   "source": [
    "import mnist"
   ]
  },
  {
   "cell_type": "code",
   "execution_count": 5,
   "id": "a411e44f",
   "metadata": {
    "execution": {
     "iopub.execute_input": "2022-07-31T00:40:21.263547Z",
     "iopub.status.busy": "2022-07-31T00:40:21.262963Z",
     "iopub.status.idle": "2022-07-31T00:40:21.934636Z",
     "shell.execute_reply": "2022-07-31T00:40:21.934125Z"
    },
    "papermill": {
     "duration": 0.700833,
     "end_time": "2022-07-31T00:40:21.934745",
     "exception": false,
     "start_time": "2022-07-31T00:40:21.233912",
     "status": "completed"
    },
    "tags": []
   },
   "outputs": [],
   "source": [
    "train_images = mnist.train_images()\n",
    "train_labels = mnist.train_labels()"
   ]
  },
  {
   "cell_type": "code",
   "execution_count": 6,
   "id": "dceab3a5",
   "metadata": {
    "execution": {
     "iopub.execute_input": "2022-07-31T00:40:21.991207Z",
     "iopub.status.busy": "2022-07-31T00:40:21.990648Z",
     "iopub.status.idle": "2022-07-31T00:40:22.004324Z",
     "shell.execute_reply": "2022-07-31T00:40:22.004785Z"
    },
    "papermill": {
     "duration": 0.043558,
     "end_time": "2022-07-31T00:40:22.004907",
     "exception": false,
     "start_time": "2022-07-31T00:40:21.961349",
     "status": "completed"
    },
    "tags": []
   },
   "outputs": [
    {
     "data": {
      "text/plain": [
       "((60000, 28, 28), (60000,))"
      ]
     },
     "execution_count": 6,
     "metadata": {},
     "output_type": "execute_result"
    }
   ],
   "source": [
    "train_images.shape, train_labels.shape"
   ]
  },
  {
   "cell_type": "code",
   "execution_count": 7,
   "id": "f50dc2bb",
   "metadata": {
    "execution": {
     "iopub.execute_input": "2022-07-31T00:40:22.060497Z",
     "iopub.status.busy": "2022-07-31T00:40:22.059903Z",
     "iopub.status.idle": "2022-07-31T00:40:22.289955Z",
     "shell.execute_reply": "2022-07-31T00:40:22.288825Z"
    },
    "papermill": {
     "duration": 0.259205,
     "end_time": "2022-07-31T00:40:22.290076",
     "exception": false,
     "start_time": "2022-07-31T00:40:22.030871",
     "status": "completed"
    },
    "tags": []
   },
   "outputs": [],
   "source": [
    "test_images = mnist.test_images()\n",
    "test_labels = mnist.test_labels()"
   ]
  },
  {
   "cell_type": "code",
   "execution_count": 8,
   "id": "fc38cf1b",
   "metadata": {
    "execution": {
     "iopub.execute_input": "2022-07-31T00:40:22.348766Z",
     "iopub.status.busy": "2022-07-31T00:40:22.345532Z",
     "iopub.status.idle": "2022-07-31T00:40:22.358269Z",
     "shell.execute_reply": "2022-07-31T00:40:22.357837Z"
    },
    "papermill": {
     "duration": 0.041919,
     "end_time": "2022-07-31T00:40:22.358373",
     "exception": false,
     "start_time": "2022-07-31T00:40:22.316454",
     "status": "completed"
    },
    "tags": []
   },
   "outputs": [
    {
     "data": {
      "text/plain": [
       "((10000, 28, 28), (10000,))"
      ]
     },
     "execution_count": 8,
     "metadata": {},
     "output_type": "execute_result"
    }
   ],
   "source": [
    "test_images.shape, test_labels.shape"
   ]
  },
  {
   "cell_type": "code",
   "execution_count": 9,
   "id": "f9ed8fe0",
   "metadata": {
    "execution": {
     "iopub.execute_input": "2022-07-31T00:40:22.415242Z",
     "iopub.status.busy": "2022-07-31T00:40:22.414683Z",
     "iopub.status.idle": "2022-07-31T00:40:22.549247Z",
     "shell.execute_reply": "2022-07-31T00:40:22.549686Z"
    },
    "papermill": {
     "duration": 0.165136,
     "end_time": "2022-07-31T00:40:22.549809",
     "exception": false,
     "start_time": "2022-07-31T00:40:22.384673",
     "status": "completed"
    },
    "tags": []
   },
   "outputs": [
    {
     "name": "stdout",
     "output_type": "stream",
     "text": [
      "2\n"
     ]
    },
    {
     "data": {
      "text/plain": [
       "<matplotlib.image.AxesImage at 0x7f6f093224a8>"
      ]
     },
     "execution_count": 9,
     "metadata": {},
     "output_type": "execute_result"
    },
    {
     "data": {
      "image/png": "[encoded data removed]",
      "text/plain": [
       "<Figure size 432x288 with 1 Axes>"
      ]
     },
     "metadata": {
      "needs_background": "light"
     },
     "output_type": "display_data"
    }
   ],
   "source": [
    "image_index = 7776 # You may select anything up to 60,000\n",
    "print(train_labels[image_index]) \n",
    "plt.imshow(train_images[image_index], cmap='Greys')"
   ]
  },
  {
   "cell_type": "markdown",
   "id": "a8d2388d",
   "metadata": {
    "papermill": {
     "duration": 0.02771,
     "end_time": "2022-07-31T00:40:22.605207",
     "exception": false,
     "start_time": "2022-07-31T00:40:22.577497",
     "status": "completed"
    },
    "tags": []
   },
   "source": [
    "## Filter data to get 3 and 8 out"
   ]
  },
  {
   "cell_type": "code",
   "execution_count": 10,
   "id": "776f7fc7",
   "metadata": {
    "execution": {
     "iopub.execute_input": "2022-07-31T00:40:22.665039Z",
     "iopub.status.busy": "2022-07-31T00:40:22.664461Z",
     "iopub.status.idle": "2022-07-31T00:40:22.680325Z",
     "shell.execute_reply": "2022-07-31T00:40:22.680787Z"
    },
    "papermill": {
     "duration": 0.048243,
     "end_time": "2022-07-31T00:40:22.680910",
     "exception": false,
     "start_time": "2022-07-31T00:40:22.632667",
     "status": "completed"
    },
    "tags": []
   },
   "outputs": [],
   "source": [
    "train_filter = np.where((train_labels == 3 ) | (train_labels == 8))\n",
    "test_filter = np.where((test_labels == 3) | (test_labels == 8))\n",
    "X_train, y_train = train_images[train_filter], train_labels[train_filter]\n",
    "X_test, y_test = test_images[test_filter], test_labels[test_filter]"
   ]
  },
  {
   "cell_type": "markdown",
   "id": "948f0b7e",
   "metadata": {
    "papermill": {
     "duration": 0.02749,
     "end_time": "2022-07-31T00:40:22.736206",
     "exception": false,
     "start_time": "2022-07-31T00:40:22.708716",
     "status": "completed"
    },
    "tags": []
   },
   "source": [
    "We normalize the pizel values in the 0 to 1 range"
   ]
  },
  {
   "cell_type": "code",
   "execution_count": 11,
   "id": "ee4c2166",
   "metadata": {
    "execution": {
     "iopub.execute_input": "2022-07-31T00:40:22.794743Z",
     "iopub.status.busy": "2022-07-31T00:40:22.794175Z",
     "iopub.status.idle": "2022-07-31T00:40:22.834641Z",
     "shell.execute_reply": "2022-07-31T00:40:22.834162Z"
    },
    "papermill": {
     "duration": 0.071032,
     "end_time": "2022-07-31T00:40:22.834749",
     "exception": false,
     "start_time": "2022-07-31T00:40:22.763717",
     "status": "completed"
    },
    "tags": []
   },
   "outputs": [],
   "source": [
    "X_train = X_train/255.\n",
    "X_test = X_test/255."
   ]
  },
  {
   "cell_type": "markdown",
   "id": "ddcf4fab",
   "metadata": {
    "papermill": {
     "duration": 0.02747,
     "end_time": "2022-07-31T00:40:22.889977",
     "exception": false,
     "start_time": "2022-07-31T00:40:22.862507",
     "status": "completed"
    },
    "tags": []
   },
   "source": [
    "And setup the labels as 1 (when the digit is 3) and 0 (when the digit is 8)"
   ]
  },
  {
   "cell_type": "code",
   "execution_count": 12,
   "id": "7dc908f2",
   "metadata": {
    "execution": {
     "iopub.execute_input": "2022-07-31T00:40:22.948600Z",
     "iopub.status.busy": "2022-07-31T00:40:22.948022Z",
     "iopub.status.idle": "2022-07-31T00:40:22.959769Z",
     "shell.execute_reply": "2022-07-31T00:40:22.960203Z"
    },
    "papermill": {
     "duration": 0.042867,
     "end_time": "2022-07-31T00:40:22.960328",
     "exception": false,
     "start_time": "2022-07-31T00:40:22.917461",
     "status": "completed"
    },
    "tags": []
   },
   "outputs": [],
   "source": [
    "y_train = 1*(y_train==3)\n",
    "y_test = 1*(y_test==3)"
   ]
  },
  {
   "cell_type": "code",
   "execution_count": 13,
   "id": "01e4e969",
   "metadata": {
    "execution": {
     "iopub.execute_input": "2022-07-31T00:40:23.019255Z",
     "iopub.status.busy": "2022-07-31T00:40:23.018695Z",
     "iopub.status.idle": "2022-07-31T00:40:23.031612Z",
     "shell.execute_reply": "2022-07-31T00:40:23.032077Z"
    },
    "papermill": {
     "duration": 0.044113,
     "end_time": "2022-07-31T00:40:23.032202",
     "exception": false,
     "start_time": "2022-07-31T00:40:22.988089",
     "status": "completed"
    },
    "tags": []
   },
   "outputs": [
    {
     "data": {
      "text/plain": [
       "((11982, 28, 28), (1984, 28, 28))"
      ]
     },
     "execution_count": 13,
     "metadata": {},
     "output_type": "execute_result"
    }
   ],
   "source": [
    "X_train.shape, X_test.shape"
   ]
  },
  {
   "cell_type": "markdown",
   "id": "5ccf3f85",
   "metadata": {
    "papermill": {
     "duration": 0.027712,
     "end_time": "2022-07-31T00:40:23.087613",
     "exception": false,
     "start_time": "2022-07-31T00:40:23.059901",
     "status": "completed"
    },
    "tags": []
   },
   "source": [
    "We reshape the data to flatten the image pixels into a set of features or co-variates:"
   ]
  },
  {
   "cell_type": "code",
   "execution_count": 14,
   "id": "5286a4a3",
   "metadata": {
    "execution": {
     "iopub.execute_input": "2022-07-31T00:40:23.147143Z",
     "iopub.status.busy": "2022-07-31T00:40:23.146577Z",
     "iopub.status.idle": "2022-07-31T00:40:23.159697Z",
     "shell.execute_reply": "2022-07-31T00:40:23.160177Z"
    },
    "papermill": {
     "duration": 0.044864,
     "end_time": "2022-07-31T00:40:23.160296",
     "exception": false,
     "start_time": "2022-07-31T00:40:23.115432",
     "status": "completed"
    },
    "tags": []
   },
   "outputs": [
    {
     "data": {
      "text/plain": [
       "((11982, 784), (1984, 784))"
      ]
     },
     "execution_count": 14,
     "metadata": {},
     "output_type": "execute_result"
    }
   ],
   "source": [
    "X_train = X_train.reshape(X_train.shape[0], -1)\n",
    "X_test = X_test.reshape(X_test.shape[0], -1)\n",
    "X_train.shape, X_test.shape"
   ]
  },
  {
   "cell_type": "code",
   "execution_count": 15,
   "id": "73c5f88a",
   "metadata": {
    "execution": {
     "iopub.execute_input": "2022-07-31T00:40:23.221405Z",
     "iopub.status.busy": "2022-07-31T00:40:23.220332Z",
     "iopub.status.idle": "2022-07-31T00:40:23.238940Z",
     "shell.execute_reply": "2022-07-31T00:40:23.239382Z"
    },
    "papermill": {
     "duration": 0.051195,
     "end_time": "2022-07-31T00:40:23.239502",
     "exception": false,
     "start_time": "2022-07-31T00:40:23.188307",
     "status": "completed"
    },
    "tags": []
   },
   "outputs": [],
   "source": [
    "#Impoting functions from 'Kudzu'\n",
    "from kudzu.model import Model\n",
    "from kudzu.train import Learner\n",
    "from kudzu.optim import GD\n",
    "from kudzu.data import Data, Sampler,Dataloader\n",
    "\n",
    "from kudzu.callbacks import AccCallback\n",
    "from kudzu.callbacks import ClfCallback\n",
    "\n",
    "from kudzu.loss import MSE\n",
    "\n",
    "from kudzu.layer import Sigmoid,Relu\n",
    "from kudzu.layer import Affine"
   ]
  },
  {
   "cell_type": "markdown",
   "id": "bc01172a",
   "metadata": {
    "papermill": {
     "duration": 0.027984,
     "end_time": "2022-07-31T00:40:23.295761",
     "exception": false,
     "start_time": "2022-07-31T00:40:23.267777",
     "status": "completed"
    },
    "tags": []
   },
   "source": [
    "### Let us create a `Config` class, to store important parameters. \n",
    "This class essentially plays the role of a dictionary."
   ]
  },
  {
   "cell_type": "code",
   "execution_count": 16,
   "id": "978281aa",
   "metadata": {
    "execution": {
     "iopub.execute_input": "2022-07-31T00:40:23.355446Z",
     "iopub.status.busy": "2022-07-31T00:40:23.354891Z",
     "iopub.status.idle": "2022-07-31T00:40:23.367106Z",
     "shell.execute_reply": "2022-07-31T00:40:23.366640Z"
    },
    "papermill": {
     "duration": 0.043466,
     "end_time": "2022-07-31T00:40:23.367205",
     "exception": false,
     "start_time": "2022-07-31T00:40:23.323739",
     "status": "completed"
    },
    "tags": []
   },
   "outputs": [],
   "source": [
    "class Config:\n",
    "    pass\n",
    "config = Config()\n",
    "config.lr = 0.001\n",
    "config.num_epochs = 250\n",
    "config.bs = 50"
   ]
  },
  {
   "cell_type": "markdown",
   "id": "1385fa59",
   "metadata": {
    "papermill": {
     "duration": 0.027994,
     "end_time": "2022-07-31T00:40:23.423182",
     "exception": false,
     "start_time": "2022-07-31T00:40:23.395188",
     "status": "completed"
    },
    "tags": []
   },
   "source": [
    "### Running Models with the Training data\n",
    "Details about the network layers:\n",
    "- A first affine layer has 784 inputs and does 100 affine transforms. These are followed by a Relu\n",
    "- A second affine layer has 100 inputs from the 100 activations of the past layer, and does 100 affine transforms. These are followed by a Relu\n",
    "- A third affine layer has 100 activations and does 2 affine transformations to create an embedding for visualization. There is no non-linearity here.\n",
    "- A final \"logistic regression\" which has an affine transform from 2 inputs to 1 output, which is squeezed through a sigmoid.\n"
   ]
  },
  {
   "cell_type": "code",
   "execution_count": 17,
   "id": "2b9c66db",
   "metadata": {
    "execution": {
     "iopub.execute_input": "2022-07-31T00:40:23.483250Z",
     "iopub.status.busy": "2022-07-31T00:40:23.482686Z",
     "iopub.status.idle": "2022-07-31T00:40:23.494516Z",
     "shell.execute_reply": "2022-07-31T00:40:23.494975Z"
    },
    "papermill": {
     "duration": 0.043815,
     "end_time": "2022-07-31T00:40:23.495094",
     "exception": false,
     "start_time": "2022-07-31T00:40:23.451279",
     "status": "completed"
    },
    "tags": []
   },
   "outputs": [],
   "source": [
    "data = Data(X_train, y_train.reshape(-1,1))\n",
    "sampler = Sampler(data, config.bs, shuffle=True)\n",
    "\n",
    "dl = Dataloader(data, sampler)\n",
    "\n",
    "opt = GD(config.lr)\n",
    "loss = MSE()"
   ]
  },
  {
   "cell_type": "code",
   "execution_count": 18,
   "id": "b275e4c2",
   "metadata": {
    "execution": {
     "iopub.execute_input": "2022-07-31T00:40:23.555175Z",
     "iopub.status.busy": "2022-07-31T00:40:23.554591Z",
     "iopub.status.idle": "2022-07-31T00:40:23.567915Z",
     "shell.execute_reply": "2022-07-31T00:40:23.568421Z"
    },
    "papermill": {
     "duration": 0.045308,
     "end_time": "2022-07-31T00:40:23.568552",
     "exception": false,
     "start_time": "2022-07-31T00:40:23.523244",
     "status": "completed"
    },
    "tags": []
   },
   "outputs": [],
   "source": [
    "training_data_x = X_train\n",
    "testing_data_x = X_test\n",
    "training_data_y = y_train.reshape(-1,1)\n",
    "testing_data_y = y_test.reshape(-1,1)"
   ]
  },
  {
   "cell_type": "code",
   "execution_count": 19,
   "id": "76951160",
   "metadata": {
    "execution": {
     "iopub.execute_input": "2022-07-31T00:40:23.629234Z",
     "iopub.status.busy": "2022-07-31T00:40:23.628665Z",
     "iopub.status.idle": "2022-07-31T00:40:23.644743Z",
     "shell.execute_reply": "2022-07-31T00:40:23.645204Z"
    },
    "papermill": {
     "duration": 0.048668,
     "end_time": "2022-07-31T00:40:23.645328",
     "exception": false,
     "start_time": "2022-07-31T00:40:23.596660",
     "status": "completed"
    },
    "tags": []
   },
   "outputs": [
    {
     "name": "stdout",
     "output_type": "stream",
     "text": [
      "xavier\n",
      "xavier\n",
      "xavier\n",
      "xavier\n",
      "xavier\n"
     ]
    }
   ],
   "source": [
    "layers = [Affine(\"first\", 784, 100), Relu(\"first\"), Affine(\"second\", 100, 100), Relu(\"second\"), Affine(\"third\", 100, 2), Affine(\"last\", 2, 1), Sigmoid(\"last\")]\n",
    "model_nn = Model(layers)\n",
    "model_lr = Model([Affine(\"logits\", 784, 1), Sigmoid(\"sigmoid\")])"
   ]
  },
  {
   "cell_type": "code",
   "execution_count": 20,
   "id": "6eede77a",
   "metadata": {
    "execution": {
     "iopub.execute_input": "2022-07-31T00:40:23.705898Z",
     "iopub.status.busy": "2022-07-31T00:40:23.705332Z",
     "iopub.status.idle": "2022-07-31T00:40:23.717442Z",
     "shell.execute_reply": "2022-07-31T00:40:23.716983Z"
    },
    "papermill": {
     "duration": 0.043813,
     "end_time": "2022-07-31T00:40:23.717543",
     "exception": false,
     "start_time": "2022-07-31T00:40:23.673730",
     "status": "completed"
    },
    "tags": []
   },
   "outputs": [],
   "source": [
    "nn_learner = Learner(loss, model_nn, opt, config.num_epochs)\n",
    "acc_nn = ClfCallback(nn_learner, config.bs, training_data_x , testing_data_x, training_data_y, testing_data_y)\n",
    "nn_learner.set_callbacks([acc_nn])"
   ]
  },
  {
   "cell_type": "code",
   "execution_count": 21,
   "id": "877b6cc7",
   "metadata": {
    "execution": {
     "iopub.execute_input": "2022-07-31T00:40:23.777815Z",
     "iopub.status.busy": "2022-07-31T00:40:23.777251Z",
     "iopub.status.idle": "2022-07-31T00:40:23.788972Z",
     "shell.execute_reply": "2022-07-31T00:40:23.789422Z"
    },
    "papermill": {
     "duration": 0.043703,
     "end_time": "2022-07-31T00:40:23.789539",
     "exception": false,
     "start_time": "2022-07-31T00:40:23.745836",
     "status": "completed"
    },
    "tags": []
   },
   "outputs": [],
   "source": [
    "lr_learner = Learner(loss, model_lr, opt, config.num_epochs)\n",
    "acc_lr = ClfCallback(lr_learner, config.bs, training_data_x , testing_data_x, training_data_y, testing_data_y)\n",
    "lr_learner.set_callbacks([acc_lr])"
   ]
  },
  {
   "cell_type": "code",
   "execution_count": 22,
   "id": "d9b133c3",
   "metadata": {
    "execution": {
     "iopub.execute_input": "2022-07-31T00:40:23.849867Z",
     "iopub.status.busy": "2022-07-31T00:40:23.849308Z",
     "iopub.status.idle": "2022-07-31T00:43:20.824469Z",
     "shell.execute_reply": "2022-07-31T00:43:20.824974Z"
    },
    "papermill": {
     "duration": 177.007075,
     "end_time": "2022-07-31T00:43:20.825103",
     "exception": false,
     "start_time": "2022-07-31T00:40:23.818028",
     "status": "completed"
    },
    "tags": []
   },
   "outputs": [
    {
     "name": "stdout",
     "output_type": "stream",
     "text": [
      "Epoch 0, Loss 0.2499\n",
      "Training Accuracy: 0.5103, Testing Accuracy: 0.5247\n",
      "\n"
     ]
    },
    {
     "name": "stdout",
     "output_type": "stream",
     "text": [
      "Epoch 10, Loss 0.1674\n",
      "Training Accuracy: 0.8923, Testing Accuracy: 0.9078\n",
      "\n"
     ]
    },
    {
     "name": "stdout",
     "output_type": "stream",
     "text": [
      "Epoch 20, Loss 0.0837\n",
      "Training Accuracy: 0.9236, Testing Accuracy: 0.9365\n",
      "\n"
     ]
    },
    {
     "name": "stdout",
     "output_type": "stream",
     "text": [
      "Epoch 30, Loss 0.056\n",
      "Training Accuracy: 0.9417, Testing Accuracy: 0.9511\n",
      "\n"
     ]
    },
    {
     "name": "stdout",
     "output_type": "stream",
     "text": [
      "Epoch 40, Loss 0.0446\n",
      "Training Accuracy: 0.9511, Testing Accuracy: 0.9662\n",
      "\n"
     ]
    },
    {
     "name": "stdout",
     "output_type": "stream",
     "text": [
      "Epoch 50, Loss 0.0387\n",
      "Training Accuracy: 0.9557, Testing Accuracy: 0.9693\n",
      "\n"
     ]
    },
    {
     "name": "stdout",
     "output_type": "stream",
     "text": [
      "Epoch 60, Loss 0.0351\n",
      "Training Accuracy: 0.9594, Testing Accuracy: 0.9693\n",
      "\n"
     ]
    },
    {
     "name": "stdout",
     "output_type": "stream",
     "text": [
      "Epoch 70, Loss 0.0326\n",
      "Training Accuracy: 0.9622, Testing Accuracy: 0.9703\n",
      "\n"
     ]
    },
    {
     "name": "stdout",
     "output_type": "stream",
     "text": [
      "Epoch 80, Loss 0.0308\n",
      "Training Accuracy: 0.9647, Testing Accuracy: 0.9688\n",
      "\n"
     ]
    },
    {
     "name": "stdout",
     "output_type": "stream",
     "text": [
      "Epoch 90, Loss 0.0293\n",
      "Training Accuracy: 0.9665, Testing Accuracy: 0.9693\n",
      "\n"
     ]
    },
    {
     "name": "stdout",
     "output_type": "stream",
     "text": [
      "Epoch 100, Loss 0.0282\n",
      "Training Accuracy: 0.9682, Testing Accuracy: 0.9708\n",
      "\n"
     ]
    },
    {
     "name": "stdout",
     "output_type": "stream",
     "text": [
      "Epoch 110, Loss 0.0272\n",
      "Training Accuracy: 0.9690, Testing Accuracy: 0.9723\n",
      "\n"
     ]
    },
    {
     "name": "stdout",
     "output_type": "stream",
     "text": [
      "Epoch 120, Loss 0.0263\n",
      "Training Accuracy: 0.9702, Testing Accuracy: 0.9708\n",
      "\n"
     ]
    },
    {
     "name": "stdout",
     "output_type": "stream",
     "text": [
      "Epoch 130, Loss 0.0255\n",
      "Training Accuracy: 0.9709, Testing Accuracy: 0.9718\n",
      "\n"
     ]
    },
    {
     "name": "stdout",
     "output_type": "stream",
     "text": [
      "Epoch 140, Loss 0.0248\n",
      "Training Accuracy: 0.9716, Testing Accuracy: 0.9718\n",
      "\n"
     ]
    },
    {
     "name": "stdout",
     "output_type": "stream",
     "text": [
      "Epoch 150, Loss 0.0242\n",
      "Training Accuracy: 0.9720, Testing Accuracy: 0.9718\n",
      "\n"
     ]
    },
    {
     "name": "stdout",
     "output_type": "stream",
     "text": [
      "Epoch 160, Loss 0.0236\n",
      "Training Accuracy: 0.9726, Testing Accuracy: 0.9723\n",
      "\n"
     ]
    },
    {
     "name": "stdout",
     "output_type": "stream",
     "text": [
      "Epoch 170, Loss 0.0231\n",
      "Training Accuracy: 0.9731, Testing Accuracy: 0.9723\n",
      "\n"
     ]
    },
    {
     "name": "stdout",
     "output_type": "stream",
     "text": [
      "Epoch 180, Loss 0.0226\n",
      "Training Accuracy: 0.9737, Testing Accuracy: 0.9718\n",
      "\n"
     ]
    },
    {
     "name": "stdout",
     "output_type": "stream",
     "text": [
      "Epoch 190, Loss 0.0222\n",
      "Training Accuracy: 0.9740, Testing Accuracy: 0.9723\n",
      "\n"
     ]
    },
    {
     "name": "stdout",
     "output_type": "stream",
     "text": [
      "Epoch 200, Loss 0.0217\n",
      "Training Accuracy: 0.9745, Testing Accuracy: 0.9718\n",
      "\n"
     ]
    },
    {
     "name": "stdout",
     "output_type": "stream",
     "text": [
      "Epoch 210, Loss 0.0213\n",
      "Training Accuracy: 0.9752, Testing Accuracy: 0.9718\n",
      "\n"
     ]
    },
    {
     "name": "stdout",
     "output_type": "stream",
     "text": [
      "Epoch 220, Loss 0.0209\n",
      "Training Accuracy: 0.9756, Testing Accuracy: 0.9723\n",
      "\n"
     ]
    },
    {
     "name": "stdout",
     "output_type": "stream",
     "text": [
      "Epoch 230, Loss 0.0206\n",
      "Training Accuracy: 0.9767, Testing Accuracy: 0.9728\n",
      "\n"
     ]
    },
    {
     "name": "stdout",
     "output_type": "stream",
     "text": [
      "Epoch 240, Loss 0.0202\n",
      "Training Accuracy: 0.9773, Testing Accuracy: 0.9728\n",
      "\n"
     ]
    },
    {
     "data": {
      "text/plain": [
       "0.003429977441814126"
      ]
     },
     "execution_count": 22,
     "metadata": {},
     "output_type": "execute_result"
    }
   ],
   "source": [
    "nn_learner.train_loop(dl)"
   ]
  },
  {
   "cell_type": "code",
   "execution_count": 23,
   "id": "e0163366",
   "metadata": {
    "execution": {
     "iopub.execute_input": "2022-07-31T00:43:20.899748Z",
     "iopub.status.busy": "2022-07-31T00:43:20.899164Z",
     "iopub.status.idle": "2022-07-31T00:43:33.210813Z",
     "shell.execute_reply": "2022-07-31T00:43:33.211605Z"
    },
    "papermill": {
     "duration": 12.350871,
     "end_time": "2022-07-31T00:43:33.211738",
     "exception": false,
     "start_time": "2022-07-31T00:43:20.860867",
     "status": "completed"
    },
    "tags": []
   },
   "outputs": [
    {
     "name": "stdout",
     "output_type": "stream",
     "text": [
      "Epoch 0, Loss 0.2249\n",
      "Training Accuracy: 0.7364, Testing Accuracy: 0.7445\n",
      "\n"
     ]
    },
    {
     "name": "stdout",
     "output_type": "stream",
     "text": [
      "Epoch 10, Loss 0.1024\n",
      "Training Accuracy: 0.9076, Testing Accuracy: 0.9219\n",
      "\n"
     ]
    },
    {
     "name": "stdout",
     "output_type": "stream",
     "text": [
      "Epoch 20, Loss 0.0793\n",
      "Training Accuracy: 0.9268, Testing Accuracy: 0.9405\n",
      "\n"
     ]
    },
    {
     "name": "stdout",
     "output_type": "stream",
     "text": [
      "Epoch 30, Loss 0.0685\n",
      "Training Accuracy: 0.9343, Testing Accuracy: 0.9435\n",
      "\n"
     ]
    },
    {
     "name": "stdout",
     "output_type": "stream",
     "text": [
      "Epoch 40, Loss 0.062\n",
      "Training Accuracy: 0.9394, Testing Accuracy: 0.9501\n",
      "\n"
     ]
    },
    {
     "name": "stdout",
     "output_type": "stream",
     "text": [
      "Epoch 50, Loss 0.0576\n",
      "Training Accuracy: 0.9437, Testing Accuracy: 0.9546\n",
      "\n"
     ]
    },
    {
     "name": "stdout",
     "output_type": "stream",
     "text": [
      "Epoch 60, Loss 0.0543\n",
      "Training Accuracy: 0.9452, Testing Accuracy: 0.9587\n",
      "\n"
     ]
    },
    {
     "name": "stdout",
     "output_type": "stream",
     "text": [
      "Epoch 70, Loss 0.0518\n",
      "Training Accuracy: 0.9473, Testing Accuracy: 0.9607\n",
      "\n"
     ]
    },
    {
     "name": "stdout",
     "output_type": "stream",
     "text": [
      "Epoch 80, Loss 0.0497\n",
      "Training Accuracy: 0.9488, Testing Accuracy: 0.9632\n",
      "\n"
     ]
    },
    {
     "name": "stdout",
     "output_type": "stream",
     "text": [
      "Epoch 90, Loss 0.048\n",
      "Training Accuracy: 0.9505, Testing Accuracy: 0.9632\n",
      "\n"
     ]
    },
    {
     "name": "stdout",
     "output_type": "stream",
     "text": [
      "Epoch 100, Loss 0.0466\n",
      "Training Accuracy: 0.9518, Testing Accuracy: 0.9642\n",
      "\n"
     ]
    },
    {
     "name": "stdout",
     "output_type": "stream",
     "text": [
      "Epoch 110, Loss 0.0454\n",
      "Training Accuracy: 0.9528, Testing Accuracy: 0.9647\n",
      "\n"
     ]
    },
    {
     "name": "stdout",
     "output_type": "stream",
     "text": [
      "Epoch 120, Loss 0.0443\n",
      "Training Accuracy: 0.9543, Testing Accuracy: 0.9652\n",
      "\n"
     ]
    },
    {
     "name": "stdout",
     "output_type": "stream",
     "text": [
      "Epoch 130, Loss 0.0433\n",
      "Training Accuracy: 0.9546, Testing Accuracy: 0.9652\n",
      "\n"
     ]
    },
    {
     "name": "stdout",
     "output_type": "stream",
     "text": [
      "Epoch 140, Loss 0.0425\n",
      "Training Accuracy: 0.9550, Testing Accuracy: 0.9657\n",
      "\n"
     ]
    },
    {
     "name": "stdout",
     "output_type": "stream",
     "text": [
      "Epoch 150, Loss 0.0417\n",
      "Training Accuracy: 0.9559, Testing Accuracy: 0.9662\n",
      "\n"
     ]
    },
    {
     "name": "stdout",
     "output_type": "stream",
     "text": [
      "Epoch 160, Loss 0.0411\n",
      "Training Accuracy: 0.9560, Testing Accuracy: 0.9657\n",
      "\n"
     ]
    },
    {
     "name": "stdout",
     "output_type": "stream",
     "text": [
      "Epoch 170, Loss 0.0404\n",
      "Training Accuracy: 0.9565, Testing Accuracy: 0.9652\n",
      "\n"
     ]
    },
    {
     "name": "stdout",
     "output_type": "stream",
     "text": [
      "Epoch 180, Loss 0.0399\n",
      "Training Accuracy: 0.9576, Testing Accuracy: 0.9657\n",
      "\n"
     ]
    },
    {
     "name": "stdout",
     "output_type": "stream",
     "text": [
      "Epoch 190, Loss 0.0393\n",
      "Training Accuracy: 0.9582, Testing Accuracy: 0.9657\n",
      "\n"
     ]
    },
    {
     "name": "stdout",
     "output_type": "stream",
     "text": [
      "Epoch 200, Loss 0.0389\n",
      "Training Accuracy: 0.9587, Testing Accuracy: 0.9672\n",
      "\n"
     ]
    },
    {
     "name": "stdout",
     "output_type": "stream",
     "text": [
      "Epoch 210, Loss 0.0384\n",
      "Training Accuracy: 0.9589, Testing Accuracy: 0.9672\n",
      "\n"
     ]
    },
    {
     "name": "stdout",
     "output_type": "stream",
     "text": [
      "Epoch 220, Loss 0.038\n",
      "Training Accuracy: 0.9590, Testing Accuracy: 0.9677\n",
      "\n"
     ]
    },
    {
     "name": "stdout",
     "output_type": "stream",
     "text": [
      "Epoch 230, Loss 0.0376\n",
      "Training Accuracy: 0.9594, Testing Accuracy: 0.9677\n",
      "\n"
     ]
    },
    {
     "name": "stdout",
     "output_type": "stream",
     "text": [
      "Epoch 240, Loss 0.0372\n",
      "Training Accuracy: 0.9596, Testing Accuracy: 0.9682\n",
      "\n"
     ]
    },
    {
     "data": {
      "text/plain": [
       "0.015115631356955712"
      ]
     },
     "execution_count": 23,
     "metadata": {},
     "output_type": "execute_result"
    }
   ],
   "source": [
    "lr_learner.train_loop(dl)"
   ]
  },
  {
   "cell_type": "code",
   "execution_count": 24,
   "id": "ca410940",
   "metadata": {
    "execution": {
     "iopub.execute_input": "2022-07-31T00:43:33.305613Z",
     "iopub.status.busy": "2022-07-31T00:43:33.305048Z",
     "iopub.status.idle": "2022-07-31T00:43:33.531194Z",
     "shell.execute_reply": "2022-07-31T00:43:33.530736Z"
    },
    "papermill": {
     "duration": 0.276423,
     "end_time": "2022-07-31T00:43:33.531304",
     "exception": false,
     "start_time": "2022-07-31T00:43:33.254881",
     "status": "completed"
    },
    "tags": []
   },
   "outputs": [
    {
     "data": {
      "text/plain": [
       "<matplotlib.legend.Legend at 0x7f6f08e80a90>"
      ]
     },
     "execution_count": 24,
     "metadata": {},
     "output_type": "execute_result"
    },
    {
     "data": {
      "image/png": "[encoded data removed]",
      "text/plain": [
       "<Figure size 1080x720 with 1 Axes>"
      ]
     },
     "metadata": {
      "needs_background": "light"
     },
     "output_type": "display_data"
    }
   ],
   "source": [
    "#comparing the results of NN and LR\n",
    "plt.figure(figsize=(15,10))\n",
    "\n",
    "# Neural Network plots\n",
    "plt.plot(acc_nn.accuracies, 'r-', label = \"Training Accuracies - NN\")\n",
    "plt.plot(acc_nn.test_accuracies, 'g-', label = \"Testing Accuracies - NN\")\n",
    "\n",
    "# Logistic Regression plots\n",
    "plt.plot(acc_lr.accuracies, 'k-', label = \"Training Accuracies - LR\")\n",
    "plt.plot(acc_lr.test_accuracies, 'b-', label = \"Testing Accuracies - LR\")\n",
    "plt.legend()"
   ]
  },
  {
   "cell_type": "markdown",
   "id": "80dfb35c",
   "metadata": {
    "papermill": {
     "duration": 0.043636,
     "end_time": "2022-07-31T00:43:33.619431",
     "exception": false,
     "start_time": "2022-07-31T00:43:33.575795",
     "status": "completed"
    },
    "tags": []
   },
   "source": [
    "#### Plotting the outputs of this layer of the NN.\n"
   ]
  },
  {
   "cell_type": "code",
   "execution_count": 25,
   "id": "45eb2ff5",
   "metadata": {
    "execution": {
     "iopub.execute_input": "2022-07-31T00:43:33.714038Z",
     "iopub.status.busy": "2022-07-31T00:43:33.712560Z",
     "iopub.status.idle": "2022-07-31T00:43:33.747789Z",
     "shell.execute_reply": "2022-07-31T00:43:33.747311Z"
    },
    "papermill": {
     "duration": 0.084713,
     "end_time": "2022-07-31T00:43:33.747903",
     "exception": false,
     "start_time": "2022-07-31T00:43:33.663190",
     "status": "completed"
    },
    "tags": []
   },
   "outputs": [],
   "source": [
    "new_model = Model(layers[:-2])\n",
    "testing_plot = new_model(testing_data_x)"
   ]
  },
  {
   "cell_type": "code",
   "execution_count": 26,
   "id": "4c0a5485",
   "metadata": {
    "execution": {
     "iopub.execute_input": "2022-07-31T00:43:33.841710Z",
     "iopub.status.busy": "2022-07-31T00:43:33.841144Z",
     "iopub.status.idle": "2022-07-31T00:43:34.078962Z",
     "shell.execute_reply": "2022-07-31T00:43:34.079401Z"
    },
    "papermill": {
     "duration": 0.287225,
     "end_time": "2022-07-31T00:43:34.079525",
     "exception": false,
     "start_time": "2022-07-31T00:43:33.792300",
     "status": "completed"
    },
    "tags": []
   },
   "outputs": [
    {
     "data": {
      "text/plain": [
       "Text(0.5, 1.0, 'Outputs')"
      ]
     },
     "execution_count": 26,
     "metadata": {},
     "output_type": "execute_result"
    },
    {
     "data": {
      "image/png": "[encoded data removed]",
      "text/plain": [
       "<Figure size 576x504 with 1 Axes>"
      ]
     },
     "metadata": {
      "needs_background": "light"
     },
     "output_type": "display_data"
    }
   ],
   "source": [
    "# Plotting the scatter plot of points and color coding by class\n",
    "plt.figure(figsize=(8,7))\n",
    "plt.scatter(testing_plot[:,0], testing_plot[:,1], alpha = 0.1, c = y_test.ravel());\n",
    "plt.title('Outputs')"
   ]
  },
  {
   "cell_type": "markdown",
   "id": "a74fcf8f",
   "metadata": {
    "papermill": {
     "duration": 0.046891,
     "end_time": "2022-07-31T00:43:34.195025",
     "exception": false,
     "start_time": "2022-07-31T00:43:34.148134",
     "status": "completed"
    },
    "tags": []
   },
   "source": [
    "Probability contours"
   ]
  },
  {
   "cell_type": "code",
   "execution_count": 27,
   "id": "d0afc8e3",
   "metadata": {
    "execution": {
     "iopub.execute_input": "2022-07-31T00:43:34.297007Z",
     "iopub.status.busy": "2022-07-31T00:43:34.292774Z",
     "iopub.status.idle": "2022-07-31T00:43:34.304809Z",
     "shell.execute_reply": "2022-07-31T00:43:34.304352Z"
    },
    "papermill": {
     "duration": 0.062304,
     "end_time": "2022-07-31T00:43:34.304912",
     "exception": false,
     "start_time": "2022-07-31T00:43:34.242608",
     "status": "completed"
    },
    "tags": []
   },
   "outputs": [],
   "source": [
    "model_prob = Model(layers[-2:]) "
   ]
  },
  {
   "cell_type": "code",
   "execution_count": 28,
   "id": "9b96e238",
   "metadata": {
    "execution": {
     "iopub.execute_input": "2022-07-31T00:43:34.403776Z",
     "iopub.status.busy": "2022-07-31T00:43:34.403208Z",
     "iopub.status.idle": "2022-07-31T00:43:34.416900Z",
     "shell.execute_reply": "2022-07-31T00:43:34.417324Z"
    },
    "papermill": {
     "duration": 0.065156,
     "end_time": "2022-07-31T00:43:34.417448",
     "exception": false,
     "start_time": "2022-07-31T00:43:34.352292",
     "status": "completed"
    },
    "tags": []
   },
   "outputs": [],
   "source": [
    "#creating the x and y ranges according to the above generated plot.\n",
    "x_range = np.linspace(-4, 1, 100) \n",
    "y_range = np.linspace(-6, 6, 100) \n",
    "x_grid, y_grid = np.meshgrid(x_range, y_range) # x_grid and y_grig are of size 100 X 100\n",
    "\n",
    "# converting x_grid and y_grid to continuous arrays\n",
    "x_gridflat = np.ravel(x_grid)\n",
    "y_gridflat = np.ravel(y_grid)\n",
    "\n",
    "# The last layer of the current model takes two columns as input. Hence transpose of np.vstack() is required.\n",
    "X = np.vstack((x_gridflat, y_gridflat)).T\n",
    "\n",
    "prob_contour = model_prob(X).reshape(100,100) "
   ]
  },
  {
   "cell_type": "code",
   "execution_count": 29,
   "id": "da72499a",
   "metadata": {
    "execution": {
     "iopub.execute_input": "2022-07-31T00:43:34.517044Z",
     "iopub.status.busy": "2022-07-31T00:43:34.516510Z",
     "iopub.status.idle": "2022-07-31T00:43:34.762500Z",
     "shell.execute_reply": "2022-07-31T00:43:34.762029Z"
    },
    "papermill": {
     "duration": 0.297192,
     "end_time": "2022-07-31T00:43:34.762614",
     "exception": false,
     "start_time": "2022-07-31T00:43:34.465422",
     "status": "completed"
    },
    "tags": []
   },
   "outputs": [
    {
     "data": {
      "image/png": "[encoded data removed]",
      "text/plain": [
       "<Figure size 720x648 with 1 Axes>"
      ]
     },
     "metadata": {
      "needs_background": "light"
     },
     "output_type": "display_data"
    }
   ],
   "source": [
    "plt.figure(figsize=(10,9))\n",
    "plt.scatter(testing_plot[:,0], testing_plot[:,1], alpha = 0.1, c = y_test.ravel())\n",
    "contours = plt.contour(x_grid,y_grid,prob_contour)\n",
    "plt.title('Probability Contours')\n",
    "plt.clabel(contours, inline = True );"
   ]
  },
  {
   "cell_type": "code",
   "execution_count": null,
   "id": "e81b4ac7",
   "metadata": {
    "papermill": {
     "duration": 0.049935,
     "end_time": "2022-07-31T00:43:34.862645",
     "exception": false,
     "start_time": "2022-07-31T00:43:34.812710",
     "status": "completed"
    },
    "tags": []
   },
   "outputs": [],
   "source": []
  }
 ],
 "metadata": {
  "kernelspec": {
   "display_name": "Python 3",
   "language": "python",
   "name": "python3"
  },
  "language_info": {
   "codemirror_mode": {
    "name": "ipython",
    "version": 3
   },
   "file_extension": ".py",
   "mimetype": "text/x-python",
   "name": "python",
   "nbconvert_exporter": "python",
   "pygments_lexer": "ipython3",
   "version": "3.6.15"
  },
  "papermill": {
   "default_parameters": {},
   "duration": 197.562391,
   "end_time": "2022-07-31T00:43:35.230038",
   "environment_variables": {},
   "exception": null,
   "input_path": "2020-08-11-part2.ipynb",
   "output_path": "2020-08-11-part2.ipynb",
   "parameters": {},
   "start_time": "2022-07-31T00:40:17.667647",
   "version": "2.3.3"
  }
 },
 "nbformat": 4,
 "nbformat_minor": 5
}