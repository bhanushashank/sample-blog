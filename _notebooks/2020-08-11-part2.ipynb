{
 "cells": [
  {
   "cell_type": "markdown",
   "id": "98380cd3",
   "metadata": {
    "papermill": {
     "duration": 0.03073,
     "end_time": "2021-12-20T10:09:33.151180",
     "exception": false,
     "start_time": "2021-12-20T10:09:33.120450",
     "status": "completed"
    },
    "tags": []
   },
   "source": [
    "# Distinguish Your Own Digits (DYOD)"
   ]
  },
  {
   "cell_type": "markdown",
   "id": "ef31240d",
   "metadata": {
    "papermill": {
     "duration": 0.026552,
     "end_time": "2021-12-20T10:09:33.205703",
     "exception": false,
     "start_time": "2021-12-20T10:09:33.179151",
     "status": "completed"
    },
    "tags": []
   },
   "source": [
    "You are going to write a classifier that distinguishes between the number 3 and number 8."
   ]
  },
  {
   "cell_type": "code",
   "execution_count": 1,
   "id": "b15c8646",
   "metadata": {
    "execution": {
     "iopub.execute_input": "2021-12-20T10:09:33.271741Z",
     "iopub.status.busy": "2021-12-20T10:09:33.271133Z",
     "iopub.status.idle": "2021-12-20T10:09:33.282943Z",
     "shell.execute_reply": "2021-12-20T10:09:33.282417Z"
    },
    "papermill": {
     "duration": 0.051082,
     "end_time": "2021-12-20T10:09:33.283089",
     "exception": false,
     "start_time": "2021-12-20T10:09:33.232007",
     "status": "completed"
    },
    "tags": []
   },
   "outputs": [],
   "source": [
    "%load_ext autoreload\n",
    "%autoreload 2"
   ]
  },
  {
   "cell_type": "code",
   "execution_count": 2,
   "id": "22ef38dc",
   "metadata": {
    "execution": {
     "iopub.execute_input": "2021-12-20T10:09:33.341783Z",
     "iopub.status.busy": "2021-12-20T10:09:33.341171Z",
     "iopub.status.idle": "2021-12-20T10:09:34.032039Z",
     "shell.execute_reply": "2021-12-20T10:09:34.031415Z"
    },
    "papermill": {
     "duration": 0.722353,
     "end_time": "2021-12-20T10:09:34.032195",
     "exception": false,
     "start_time": "2021-12-20T10:09:33.309842",
     "status": "completed"
    },
    "tags": []
   },
   "outputs": [],
   "source": [
    "%matplotlib inline\n",
    "import numpy as np\n",
    "import matplotlib.pyplot as plt\n",
    "import pandas as pd"
   ]
  },
  {
   "cell_type": "markdown",
   "id": "ba036198",
   "metadata": {
    "papermill": {
     "duration": 0.027739,
     "end_time": "2021-12-20T10:09:34.087593",
     "exception": false,
     "start_time": "2021-12-20T10:09:34.059854",
     "status": "completed"
    },
    "tags": []
   },
   "source": [
    "From the command line run `pip install mnist`. This is a library that will help you bring down the mnist dataset. If you run this from a notebook, you need to put  `!pip install mnist` in a cell by itself."
   ]
  },
  {
   "cell_type": "code",
   "execution_count": 3,
   "id": "bb6ad8a1",
   "metadata": {
    "execution": {
     "iopub.execute_input": "2021-12-20T10:09:34.149059Z",
     "iopub.status.busy": "2021-12-20T10:09:34.147199Z",
     "iopub.status.idle": "2021-12-20T10:09:36.135694Z",
     "shell.execute_reply": "2021-12-20T10:09:36.136217Z"
    },
    "papermill": {
     "duration": 2.021677,
     "end_time": "2021-12-20T10:09:36.136376",
     "exception": false,
     "start_time": "2021-12-20T10:09:34.114699",
     "status": "completed"
    },
    "tags": []
   },
   "outputs": [
    {
     "name": "stdout",
     "output_type": "stream",
     "text": [
      "Collecting mnist\r\n"
     ]
    },
    {
     "name": "stdout",
     "output_type": "stream",
     "text": [
      "  Downloading mnist-0.2.2-py2.py3-none-any.whl (3.5 kB)\r\n",
      "Requirement already satisfied: numpy in /opt/hostedtoolcache/Python/3.6.15/x64/lib/python3.6/site-packages (from mnist) (1.19.5)\r\n"
     ]
    },
    {
     "name": "stdout",
     "output_type": "stream",
     "text": [
      "Installing collected packages: mnist\r\n"
     ]
    },
    {
     "name": "stdout",
     "output_type": "stream",
     "text": [
      "Successfully installed mnist-0.2.2\r\n"
     ]
    }
   ],
   "source": [
    "!pip install mnist"
   ]
  },
  {
   "cell_type": "markdown",
   "id": "69df9c9a",
   "metadata": {
    "papermill": {
     "duration": 0.028678,
     "end_time": "2021-12-20T10:09:36.193351",
     "exception": false,
     "start_time": "2021-12-20T10:09:36.164673",
     "status": "completed"
    },
    "tags": []
   },
   "source": [
    "## Preparing the Data"
   ]
  },
  {
   "cell_type": "code",
   "execution_count": 4,
   "id": "7f69d806",
   "metadata": {
    "execution": {
     "iopub.execute_input": "2021-12-20T10:09:36.254561Z",
     "iopub.status.busy": "2021-12-20T10:09:36.253958Z",
     "iopub.status.idle": "2021-12-20T10:09:36.270902Z",
     "shell.execute_reply": "2021-12-20T10:09:36.270412Z"
    },
    "papermill": {
     "duration": 0.049718,
     "end_time": "2021-12-20T10:09:36.271033",
     "exception": false,
     "start_time": "2021-12-20T10:09:36.221315",
     "status": "completed"
    },
    "tags": []
   },
   "outputs": [],
   "source": [
    "import mnist"
   ]
  },
  {
   "cell_type": "code",
   "execution_count": 5,
   "id": "a411e44f",
   "metadata": {
    "execution": {
     "iopub.execute_input": "2021-12-20T10:09:36.332310Z",
     "iopub.status.busy": "2021-12-20T10:09:36.331705Z",
     "iopub.status.idle": "2021-12-20T10:09:36.918594Z",
     "shell.execute_reply": "2021-12-20T10:09:36.919075Z"
    },
    "papermill": {
     "duration": 0.619487,
     "end_time": "2021-12-20T10:09:36.919225",
     "exception": false,
     "start_time": "2021-12-20T10:09:36.299738",
     "status": "completed"
    },
    "tags": []
   },
   "outputs": [],
   "source": [
    "train_images = mnist.train_images()\n",
    "train_labels = mnist.train_labels()"
   ]
  },
  {
   "cell_type": "code",
   "execution_count": 6,
   "id": "dceab3a5",
   "metadata": {
    "execution": {
     "iopub.execute_input": "2021-12-20T10:09:36.979922Z",
     "iopub.status.busy": "2021-12-20T10:09:36.979370Z",
     "iopub.status.idle": "2021-12-20T10:09:36.995588Z",
     "shell.execute_reply": "2021-12-20T10:09:36.995147Z"
    },
    "papermill": {
     "duration": 0.048441,
     "end_time": "2021-12-20T10:09:36.995704",
     "exception": false,
     "start_time": "2021-12-20T10:09:36.947263",
     "status": "completed"
    },
    "tags": []
   },
   "outputs": [
    {
     "data": {
      "text/plain": [
       "((60000, 28, 28), (60000,))"
      ]
     },
     "execution_count": 6,
     "metadata": {},
     "output_type": "execute_result"
    }
   ],
   "source": [
    "train_images.shape, train_labels.shape"
   ]
  },
  {
   "cell_type": "code",
   "execution_count": 7,
   "id": "f50dc2bb",
   "metadata": {
    "execution": {
     "iopub.execute_input": "2021-12-20T10:09:37.059572Z",
     "iopub.status.busy": "2021-12-20T10:09:37.058976Z",
     "iopub.status.idle": "2021-12-20T10:09:37.200419Z",
     "shell.execute_reply": "2021-12-20T10:09:37.199876Z"
    },
    "papermill": {
     "duration": 0.176593,
     "end_time": "2021-12-20T10:09:37.200560",
     "exception": false,
     "start_time": "2021-12-20T10:09:37.023967",
     "status": "completed"
    },
    "tags": []
   },
   "outputs": [],
   "source": [
    "test_images = mnist.test_images()\n",
    "test_labels = mnist.test_labels()"
   ]
  },
  {
   "cell_type": "code",
   "execution_count": 8,
   "id": "fc38cf1b",
   "metadata": {
    "execution": {
     "iopub.execute_input": "2021-12-20T10:09:37.261365Z",
     "iopub.status.busy": "2021-12-20T10:09:37.260729Z",
     "iopub.status.idle": "2021-12-20T10:09:37.275463Z",
     "shell.execute_reply": "2021-12-20T10:09:37.274970Z"
    },
    "papermill": {
     "duration": 0.04648,
     "end_time": "2021-12-20T10:09:37.275596",
     "exception": false,
     "start_time": "2021-12-20T10:09:37.229116",
     "status": "completed"
    },
    "tags": []
   },
   "outputs": [
    {
     "data": {
      "text/plain": [
       "((10000, 28, 28), (10000,))"
      ]
     },
     "execution_count": 8,
     "metadata": {},
     "output_type": "execute_result"
    }
   ],
   "source": [
    "test_images.shape, test_labels.shape"
   ]
  },
  {
   "cell_type": "code",
   "execution_count": 9,
   "id": "f9ed8fe0",
   "metadata": {
    "execution": {
     "iopub.execute_input": "2021-12-20T10:09:37.339991Z",
     "iopub.status.busy": "2021-12-20T10:09:37.338474Z",
     "iopub.status.idle": "2021-12-20T10:09:37.498354Z",
     "shell.execute_reply": "2021-12-20T10:09:37.497840Z"
    },
    "papermill": {
     "duration": 0.194003,
     "end_time": "2021-12-20T10:09:37.498492",
     "exception": false,
     "start_time": "2021-12-20T10:09:37.304489",
     "status": "completed"
    },
    "tags": []
   },
   "outputs": [
    {
     "name": "stdout",
     "output_type": "stream",
     "text": [
      "2\n"
     ]
    },
    {
     "data": {
      "text/plain": [
       "<matplotlib.image.AxesImage at 0x7fd3dad2a518>"
      ]
     },
     "execution_count": 9,
     "metadata": {},
     "output_type": "execute_result"
    },
    {
     "data": {
      "image/png": "[encoded data removed]",
      "text/plain": [
       "<Figure size 432x288 with 1 Axes>"
      ]
     },
     "metadata": {
      "needs_background": "light"
     },
     "output_type": "display_data"
    }
   ],
   "source": [
    "image_index = 7776 # You may select anything up to 60,000\n",
    "print(train_labels[image_index]) \n",
    "plt.imshow(train_images[image_index], cmap='Greys')"
   ]
  },
  {
   "cell_type": "markdown",
   "id": "a8d2388d",
   "metadata": {
    "papermill": {
     "duration": 0.030119,
     "end_time": "2021-12-20T10:09:37.559407",
     "exception": false,
     "start_time": "2021-12-20T10:09:37.529288",
     "status": "completed"
    },
    "tags": []
   },
   "source": [
    "## Filter data to get 3 and 8 out"
   ]
  },
  {
   "cell_type": "code",
   "execution_count": 10,
   "id": "776f7fc7",
   "metadata": {
    "execution": {
     "iopub.execute_input": "2021-12-20T10:09:37.624066Z",
     "iopub.status.busy": "2021-12-20T10:09:37.622642Z",
     "iopub.status.idle": "2021-12-20T10:09:37.642729Z",
     "shell.execute_reply": "2021-12-20T10:09:37.642110Z"
    },
    "papermill": {
     "duration": 0.053497,
     "end_time": "2021-12-20T10:09:37.642856",
     "exception": false,
     "start_time": "2021-12-20T10:09:37.589359",
     "status": "completed"
    },
    "tags": []
   },
   "outputs": [],
   "source": [
    "train_filter = np.where((train_labels == 3 ) | (train_labels == 8))\n",
    "test_filter = np.where((test_labels == 3) | (test_labels == 8))\n",
    "X_train, y_train = train_images[train_filter], train_labels[train_filter]\n",
    "X_test, y_test = test_images[test_filter], test_labels[test_filter]"
   ]
  },
  {
   "cell_type": "markdown",
   "id": "948f0b7e",
   "metadata": {
    "papermill": {
     "duration": 0.029641,
     "end_time": "2021-12-20T10:09:37.702838",
     "exception": false,
     "start_time": "2021-12-20T10:09:37.673197",
     "status": "completed"
    },
    "tags": []
   },
   "source": [
    "We normalize the pizel values in the 0 to 1 range"
   ]
  },
  {
   "cell_type": "code",
   "execution_count": 11,
   "id": "ee4c2166",
   "metadata": {
    "execution": {
     "iopub.execute_input": "2021-12-20T10:09:37.773788Z",
     "iopub.status.busy": "2021-12-20T10:09:37.769414Z",
     "iopub.status.idle": "2021-12-20T10:09:37.822442Z",
     "shell.execute_reply": "2021-12-20T10:09:37.821881Z"
    },
    "papermill": {
     "duration": 0.088653,
     "end_time": "2021-12-20T10:09:37.822578",
     "exception": false,
     "start_time": "2021-12-20T10:09:37.733925",
     "status": "completed"
    },
    "tags": []
   },
   "outputs": [],
   "source": [
    "X_train = X_train/255.\n",
    "X_test = X_test/255."
   ]
  },
  {
   "cell_type": "markdown",
   "id": "ddcf4fab",
   "metadata": {
    "papermill": {
     "duration": 0.030439,
     "end_time": "2021-12-20T10:09:37.883260",
     "exception": false,
     "start_time": "2021-12-20T10:09:37.852821",
     "status": "completed"
    },
    "tags": []
   },
   "source": [
    "And setup the labels as 1 (when the digit is 3) and 0 (when the digit is 8)"
   ]
  },
  {
   "cell_type": "code",
   "execution_count": 12,
   "id": "7dc908f2",
   "metadata": {
    "execution": {
     "iopub.execute_input": "2021-12-20T10:09:37.950370Z",
     "iopub.status.busy": "2021-12-20T10:09:37.945745Z",
     "iopub.status.idle": "2021-12-20T10:09:37.960156Z",
     "shell.execute_reply": "2021-12-20T10:09:37.959675Z"
    },
    "papermill": {
     "duration": 0.047263,
     "end_time": "2021-12-20T10:09:37.960284",
     "exception": false,
     "start_time": "2021-12-20T10:09:37.913021",
     "status": "completed"
    },
    "tags": []
   },
   "outputs": [],
   "source": [
    "y_train = 1*(y_train==3)\n",
    "y_test = 1*(y_test==3)"
   ]
  },
  {
   "cell_type": "code",
   "execution_count": 13,
   "id": "01e4e969",
   "metadata": {
    "execution": {
     "iopub.execute_input": "2021-12-20T10:09:38.023079Z",
     "iopub.status.busy": "2021-12-20T10:09:38.022478Z",
     "iopub.status.idle": "2021-12-20T10:09:38.037275Z",
     "shell.execute_reply": "2021-12-20T10:09:38.036732Z"
    },
    "papermill": {
     "duration": 0.047526,
     "end_time": "2021-12-20T10:09:38.037404",
     "exception": false,
     "start_time": "2021-12-20T10:09:37.989878",
     "status": "completed"
    },
    "tags": []
   },
   "outputs": [
    {
     "data": {
      "text/plain": [
       "((11982, 28, 28), (1984, 28, 28))"
      ]
     },
     "execution_count": 13,
     "metadata": {},
     "output_type": "execute_result"
    }
   ],
   "source": [
    "X_train.shape, X_test.shape"
   ]
  },
  {
   "cell_type": "markdown",
   "id": "5ccf3f85",
   "metadata": {
    "papermill": {
     "duration": 0.03044,
     "end_time": "2021-12-20T10:09:38.098427",
     "exception": false,
     "start_time": "2021-12-20T10:09:38.067987",
     "status": "completed"
    },
    "tags": []
   },
   "source": [
    "We reshape the data to flatten the image pixels into a set of features or co-variates:"
   ]
  },
  {
   "cell_type": "code",
   "execution_count": 14,
   "id": "5286a4a3",
   "metadata": {
    "execution": {
     "iopub.execute_input": "2021-12-20T10:09:38.163750Z",
     "iopub.status.busy": "2021-12-20T10:09:38.163135Z",
     "iopub.status.idle": "2021-12-20T10:09:38.178354Z",
     "shell.execute_reply": "2021-12-20T10:09:38.178806Z"
    },
    "papermill": {
     "duration": 0.050232,
     "end_time": "2021-12-20T10:09:38.178960",
     "exception": false,
     "start_time": "2021-12-20T10:09:38.128728",
     "status": "completed"
    },
    "tags": []
   },
   "outputs": [
    {
     "data": {
      "text/plain": [
       "((11982, 784), (1984, 784))"
      ]
     },
     "execution_count": 14,
     "metadata": {},
     "output_type": "execute_result"
    }
   ],
   "source": [
    "X_train = X_train.reshape(X_train.shape[0], -1)\n",
    "X_test = X_test.reshape(X_test.shape[0], -1)\n",
    "X_train.shape, X_test.shape"
   ]
  },
  {
   "cell_type": "code",
   "execution_count": 15,
   "id": "73c5f88a",
   "metadata": {
    "execution": {
     "iopub.execute_input": "2021-12-20T10:09:38.245569Z",
     "iopub.status.busy": "2021-12-20T10:09:38.244986Z",
     "iopub.status.idle": "2021-12-20T10:09:38.264323Z",
     "shell.execute_reply": "2021-12-20T10:09:38.264768Z"
    },
    "papermill": {
     "duration": 0.055173,
     "end_time": "2021-12-20T10:09:38.264905",
     "exception": false,
     "start_time": "2021-12-20T10:09:38.209732",
     "status": "completed"
    },
    "tags": []
   },
   "outputs": [],
   "source": [
    "#Impoting functions from 'Kudzu'\n",
    "from kudzu.model import Model\n",
    "from kudzu.train import Learner\n",
    "from kudzu.optim import GD\n",
    "from kudzu.data import Data, Sampler,Dataloader\n",
    "\n",
    "from kudzu.callbacks import AccCallback\n",
    "from kudzu.callbacks import ClfCallback\n",
    "\n",
    "from kudzu.loss import MSE\n",
    "\n",
    "from kudzu.layer import Sigmoid,Relu\n",
    "from kudzu.layer import Affine"
   ]
  },
  {
   "cell_type": "markdown",
   "id": "bc01172a",
   "metadata": {
    "papermill": {
     "duration": 0.0304,
     "end_time": "2021-12-20T10:09:38.325598",
     "exception": false,
     "start_time": "2021-12-20T10:09:38.295198",
     "status": "completed"
    },
    "tags": []
   },
   "source": [
    "### Let us create a `Config` class, to store important parameters. \n",
    "This class essentially plays the role of a dictionary."
   ]
  },
  {
   "cell_type": "code",
   "execution_count": 16,
   "id": "978281aa",
   "metadata": {
    "execution": {
     "iopub.execute_input": "2021-12-20T10:09:38.391256Z",
     "iopub.status.busy": "2021-12-20T10:09:38.390632Z",
     "iopub.status.idle": "2021-12-20T10:09:38.404670Z",
     "shell.execute_reply": "2021-12-20T10:09:38.404167Z"
    },
    "papermill": {
     "duration": 0.048847,
     "end_time": "2021-12-20T10:09:38.404803",
     "exception": false,
     "start_time": "2021-12-20T10:09:38.355956",
     "status": "completed"
    },
    "tags": []
   },
   "outputs": [],
   "source": [
    "class Config:\n",
    "    pass\n",
    "config = Config()\n",
    "config.lr = 0.001\n",
    "config.num_epochs = 250\n",
    "config.bs = 50"
   ]
  },
  {
   "cell_type": "markdown",
   "id": "1385fa59",
   "metadata": {
    "papermill": {
     "duration": 0.030863,
     "end_time": "2021-12-20T10:09:38.466332",
     "exception": false,
     "start_time": "2021-12-20T10:09:38.435469",
     "status": "completed"
    },
    "tags": []
   },
   "source": [
    "### Running Models with the Training data\n",
    "Details about the network layers:\n",
    "- A first affine layer has 784 inputs and does 100 affine transforms. These are followed by a Relu\n",
    "- A second affine layer has 100 inputs from the 100 activations of the past layer, and does 100 affine transforms. These are followed by a Relu\n",
    "- A third affine layer has 100 activations and does 2 affine transformations to create an embedding for visualization. There is no non-linearity here.\n",
    "- A final \"logistic regression\" which has an affine transform from 2 inputs to 1 output, which is squeezed through a sigmoid.\n"
   ]
  },
  {
   "cell_type": "code",
   "execution_count": 17,
   "id": "2b9c66db",
   "metadata": {
    "execution": {
     "iopub.execute_input": "2021-12-20T10:09:38.531930Z",
     "iopub.status.busy": "2021-12-20T10:09:38.531308Z",
     "iopub.status.idle": "2021-12-20T10:09:38.545021Z",
     "shell.execute_reply": "2021-12-20T10:09:38.544506Z"
    },
    "papermill": {
     "duration": 0.048126,
     "end_time": "2021-12-20T10:09:38.545155",
     "exception": false,
     "start_time": "2021-12-20T10:09:38.497029",
     "status": "completed"
    },
    "tags": []
   },
   "outputs": [],
   "source": [
    "data = Data(X_train, y_train.reshape(-1,1))\n",
    "sampler = Sampler(data, config.bs, shuffle=True)\n",
    "\n",
    "dl = Dataloader(data, sampler)\n",
    "\n",
    "opt = GD(config.lr)\n",
    "loss = MSE()"
   ]
  },
  {
   "cell_type": "code",
   "execution_count": 18,
   "id": "b275e4c2",
   "metadata": {
    "execution": {
     "iopub.execute_input": "2021-12-20T10:09:38.610250Z",
     "iopub.status.busy": "2021-12-20T10:09:38.609650Z",
     "iopub.status.idle": "2021-12-20T10:09:38.622881Z",
     "shell.execute_reply": "2021-12-20T10:09:38.622364Z"
    },
    "papermill": {
     "duration": 0.047279,
     "end_time": "2021-12-20T10:09:38.623009",
     "exception": false,
     "start_time": "2021-12-20T10:09:38.575730",
     "status": "completed"
    },
    "tags": []
   },
   "outputs": [],
   "source": [
    "training_data_x = X_train\n",
    "testing_data_x = X_test\n",
    "training_data_y = y_train.reshape(-1,1)\n",
    "testing_data_y = y_test.reshape(-1,1)"
   ]
  },
  {
   "cell_type": "code",
   "execution_count": 19,
   "id": "76951160",
   "metadata": {
    "execution": {
     "iopub.execute_input": "2021-12-20T10:09:38.687990Z",
     "iopub.status.busy": "2021-12-20T10:09:38.687393Z",
     "iopub.status.idle": "2021-12-20T10:09:38.705532Z",
     "shell.execute_reply": "2021-12-20T10:09:38.706010Z"
    },
    "papermill": {
     "duration": 0.052968,
     "end_time": "2021-12-20T10:09:38.706151",
     "exception": false,
     "start_time": "2021-12-20T10:09:38.653183",
     "status": "completed"
    },
    "tags": []
   },
   "outputs": [
    {
     "name": "stdout",
     "output_type": "stream",
     "text": [
      "xavier\n",
      "xavier\n",
      "xavier\n",
      "xavier\n",
      "xavier\n"
     ]
    }
   ],
   "source": [
    "layers = [Affine(\"first\", 784, 100), Relu(\"first\"), Affine(\"second\", 100, 100), Relu(\"second\"), Affine(\"third\", 100, 2), Affine(\"last\", 2, 1), Sigmoid(\"last\")]\n",
    "model_nn = Model(layers)\n",
    "model_lr = Model([Affine(\"logits\", 784, 1), Sigmoid(\"sigmoid\")])"
   ]
  },
  {
   "cell_type": "code",
   "execution_count": 20,
   "id": "6eede77a",
   "metadata": {
    "execution": {
     "iopub.execute_input": "2021-12-20T10:09:38.771762Z",
     "iopub.status.busy": "2021-12-20T10:09:38.771148Z",
     "iopub.status.idle": "2021-12-20T10:09:38.784549Z",
     "shell.execute_reply": "2021-12-20T10:09:38.784040Z"
    },
    "papermill": {
     "duration": 0.047923,
     "end_time": "2021-12-20T10:09:38.784668",
     "exception": false,
     "start_time": "2021-12-20T10:09:38.736745",
     "status": "completed"
    },
    "tags": []
   },
   "outputs": [],
   "source": [
    "nn_learner = Learner(loss, model_nn, opt, config.num_epochs)\n",
    "acc_nn = ClfCallback(nn_learner, config.bs, training_data_x , testing_data_x, training_data_y, testing_data_y)\n",
    "nn_learner.set_callbacks([acc_nn])"
   ]
  },
  {
   "cell_type": "code",
   "execution_count": 21,
   "id": "877b6cc7",
   "metadata": {
    "execution": {
     "iopub.execute_input": "2021-12-20T10:09:38.852186Z",
     "iopub.status.busy": "2021-12-20T10:09:38.851583Z",
     "iopub.status.idle": "2021-12-20T10:09:38.864075Z",
     "shell.execute_reply": "2021-12-20T10:09:38.863560Z"
    },
    "papermill": {
     "duration": 0.049614,
     "end_time": "2021-12-20T10:09:38.864199",
     "exception": false,
     "start_time": "2021-12-20T10:09:38.814585",
     "status": "completed"
    },
    "tags": []
   },
   "outputs": [],
   "source": [
    "lr_learner = Learner(loss, model_lr, opt, config.num_epochs)\n",
    "acc_lr = ClfCallback(lr_learner, config.bs, training_data_x , testing_data_x, training_data_y, testing_data_y)\n",
    "lr_learner.set_callbacks([acc_lr])"
   ]
  },
  {
   "cell_type": "code",
   "execution_count": 22,
   "id": "d9b133c3",
   "metadata": {
    "execution": {
     "iopub.execute_input": "2021-12-20T10:09:38.930391Z",
     "iopub.status.busy": "2021-12-20T10:09:38.929788Z",
     "iopub.status.idle": "2021-12-20T10:11:07.736550Z",
     "shell.execute_reply": "2021-12-20T10:11:07.737443Z"
    },
    "papermill": {
     "duration": 88.842447,
     "end_time": "2021-12-20T10:11:07.737609",
     "exception": false,
     "start_time": "2021-12-20T10:09:38.895162",
     "status": "completed"
    },
    "tags": []
   },
   "outputs": [
    {
     "name": "stdout",
     "output_type": "stream",
     "text": [
      "Epoch 0, Loss 0.2545\n",
      "Training Accuracy: 0.5354, Testing Accuracy: 0.5227\n",
      "\n"
     ]
    },
    {
     "name": "stdout",
     "output_type": "stream",
     "text": [
      "Epoch 10, Loss 0.1103\n",
      "Training Accuracy: 0.9163, Testing Accuracy: 0.9249\n",
      "\n"
     ]
    },
    {
     "name": "stdout",
     "output_type": "stream",
     "text": [
      "Epoch 20, Loss 0.0608\n",
      "Training Accuracy: 0.9412, Testing Accuracy: 0.9526\n",
      "\n"
     ]
    },
    {
     "name": "stdout",
     "output_type": "stream",
     "text": [
      "Epoch 30, Loss 0.0463\n",
      "Training Accuracy: 0.9508, Testing Accuracy: 0.9597\n",
      "\n"
     ]
    },
    {
     "name": "stdout",
     "output_type": "stream",
     "text": [
      "Epoch 40, Loss 0.0395\n",
      "Training Accuracy: 0.9567, Testing Accuracy: 0.9627\n",
      "\n"
     ]
    },
    {
     "name": "stdout",
     "output_type": "stream",
     "text": [
      "Epoch 50, Loss 0.0356\n",
      "Training Accuracy: 0.9614, Testing Accuracy: 0.9662\n",
      "\n"
     ]
    },
    {
     "name": "stdout",
     "output_type": "stream",
     "text": [
      "Epoch 60, Loss 0.0329\n",
      "Training Accuracy: 0.9636, Testing Accuracy: 0.9688\n",
      "\n"
     ]
    },
    {
     "name": "stdout",
     "output_type": "stream",
     "text": [
      "Epoch 70, Loss 0.031\n",
      "Training Accuracy: 0.9651, Testing Accuracy: 0.9703\n",
      "\n"
     ]
    },
    {
     "name": "stdout",
     "output_type": "stream",
     "text": [
      "Epoch 80, Loss 0.0295\n",
      "Training Accuracy: 0.9666, Testing Accuracy: 0.9698\n",
      "\n"
     ]
    },
    {
     "name": "stdout",
     "output_type": "stream",
     "text": [
      "Epoch 90, Loss 0.0283\n",
      "Training Accuracy: 0.9676, Testing Accuracy: 0.9698\n",
      "\n"
     ]
    },
    {
     "name": "stdout",
     "output_type": "stream",
     "text": [
      "Epoch 100, Loss 0.0272\n",
      "Training Accuracy: 0.9688, Testing Accuracy: 0.9703\n",
      "\n"
     ]
    },
    {
     "name": "stdout",
     "output_type": "stream",
     "text": [
      "Epoch 110, Loss 0.0264\n",
      "Training Accuracy: 0.9697, Testing Accuracy: 0.9708\n",
      "\n"
     ]
    },
    {
     "name": "stdout",
     "output_type": "stream",
     "text": [
      "Epoch 120, Loss 0.0256\n",
      "Training Accuracy: 0.9705, Testing Accuracy: 0.9713\n",
      "\n"
     ]
    },
    {
     "name": "stdout",
     "output_type": "stream",
     "text": [
      "Epoch 130, Loss 0.0249\n",
      "Training Accuracy: 0.9712, Testing Accuracy: 0.9723\n",
      "\n"
     ]
    },
    {
     "name": "stdout",
     "output_type": "stream",
     "text": [
      "Epoch 140, Loss 0.0243\n",
      "Training Accuracy: 0.9722, Testing Accuracy: 0.9723\n",
      "\n"
     ]
    },
    {
     "name": "stdout",
     "output_type": "stream",
     "text": [
      "Epoch 150, Loss 0.0237\n",
      "Training Accuracy: 0.9730, Testing Accuracy: 0.9723\n",
      "\n"
     ]
    },
    {
     "name": "stdout",
     "output_type": "stream",
     "text": [
      "Epoch 160, Loss 0.0232\n",
      "Training Accuracy: 0.9740, Testing Accuracy: 0.9728\n",
      "\n"
     ]
    },
    {
     "name": "stdout",
     "output_type": "stream",
     "text": [
      "Epoch 170, Loss 0.0227\n",
      "Training Accuracy: 0.9742, Testing Accuracy: 0.9733\n",
      "\n"
     ]
    },
    {
     "name": "stdout",
     "output_type": "stream",
     "text": [
      "Epoch 180, Loss 0.0223\n",
      "Training Accuracy: 0.9746, Testing Accuracy: 0.9733\n",
      "\n"
     ]
    },
    {
     "name": "stdout",
     "output_type": "stream",
     "text": [
      "Epoch 190, Loss 0.0218\n",
      "Training Accuracy: 0.9755, Testing Accuracy: 0.9733\n",
      "\n"
     ]
    },
    {
     "name": "stdout",
     "output_type": "stream",
     "text": [
      "Epoch 200, Loss 0.0214\n",
      "Training Accuracy: 0.9759, Testing Accuracy: 0.9738\n",
      "\n"
     ]
    },
    {
     "name": "stdout",
     "output_type": "stream",
     "text": [
      "Epoch 210, Loss 0.021\n",
      "Training Accuracy: 0.9761, Testing Accuracy: 0.9738\n",
      "\n"
     ]
    },
    {
     "name": "stdout",
     "output_type": "stream",
     "text": [
      "Epoch 220, Loss 0.0207\n",
      "Training Accuracy: 0.9768, Testing Accuracy: 0.9738\n",
      "\n"
     ]
    },
    {
     "name": "stdout",
     "output_type": "stream",
     "text": [
      "Epoch 230, Loss 0.0203\n",
      "Training Accuracy: 0.9771, Testing Accuracy: 0.9743\n",
      "\n"
     ]
    },
    {
     "name": "stdout",
     "output_type": "stream",
     "text": [
      "Epoch 240, Loss 0.02\n",
      "Training Accuracy: 0.9779, Testing Accuracy: 0.9748\n",
      "\n"
     ]
    },
    {
     "data": {
      "text/plain": [
       "0.01956480229423529"
      ]
     },
     "execution_count": 22,
     "metadata": {},
     "output_type": "execute_result"
    }
   ],
   "source": [
    "nn_learner.train_loop(dl)"
   ]
  },
  {
   "cell_type": "code",
   "execution_count": 23,
   "id": "e0163366",
   "metadata": {
    "execution": {
     "iopub.execute_input": "2021-12-20T10:11:07.829403Z",
     "iopub.status.busy": "2021-12-20T10:11:07.828779Z",
     "iopub.status.idle": "2021-12-20T10:11:23.758867Z",
     "shell.execute_reply": "2021-12-20T10:11:23.759728Z"
    },
    "papermill": {
     "duration": 15.982963,
     "end_time": "2021-12-20T10:11:23.759892",
     "exception": false,
     "start_time": "2021-12-20T10:11:07.776929",
     "status": "completed"
    },
    "tags": []
   },
   "outputs": [
    {
     "name": "stdout",
     "output_type": "stream",
     "text": [
      "Epoch 0, Loss 0.2543\n",
      "Training Accuracy: 0.6405, Testing Accuracy: 0.6134\n",
      "\n"
     ]
    },
    {
     "name": "stdout",
     "output_type": "stream",
     "text": [
      "Epoch 10, Loss 0.1055\n",
      "Training Accuracy: 0.9021, Testing Accuracy: 0.9118\n",
      "\n"
     ]
    },
    {
     "name": "stdout",
     "output_type": "stream",
     "text": [
      "Epoch 20, Loss 0.0808\n",
      "Training Accuracy: 0.9241, Testing Accuracy: 0.9299\n",
      "\n"
     ]
    },
    {
     "name": "stdout",
     "output_type": "stream",
     "text": [
      "Epoch 30, Loss 0.0694\n",
      "Training Accuracy: 0.9326, Testing Accuracy: 0.9425\n",
      "\n"
     ]
    },
    {
     "name": "stdout",
     "output_type": "stream",
     "text": [
      "Epoch 40, Loss 0.0626\n",
      "Training Accuracy: 0.9390, Testing Accuracy: 0.9471\n",
      "\n"
     ]
    },
    {
     "name": "stdout",
     "output_type": "stream",
     "text": [
      "Epoch 50, Loss 0.058\n",
      "Training Accuracy: 0.9424, Testing Accuracy: 0.9511\n",
      "\n"
     ]
    },
    {
     "name": "stdout",
     "output_type": "stream",
     "text": [
      "Epoch 60, Loss 0.0546\n",
      "Training Accuracy: 0.9452, Testing Accuracy: 0.9551\n",
      "\n"
     ]
    },
    {
     "name": "stdout",
     "output_type": "stream",
     "text": [
      "Epoch 70, Loss 0.052\n",
      "Training Accuracy: 0.9474, Testing Accuracy: 0.9551\n",
      "\n"
     ]
    },
    {
     "name": "stdout",
     "output_type": "stream",
     "text": [
      "Epoch 80, Loss 0.0498\n",
      "Training Accuracy: 0.9491, Testing Accuracy: 0.9567\n",
      "\n"
     ]
    },
    {
     "name": "stdout",
     "output_type": "stream",
     "text": [
      "Epoch 90, Loss 0.0481\n",
      "Training Accuracy: 0.9509, Testing Accuracy: 0.9597\n",
      "\n"
     ]
    },
    {
     "name": "stdout",
     "output_type": "stream",
     "text": [
      "Epoch 100, Loss 0.0466\n",
      "Training Accuracy: 0.9514, Testing Accuracy: 0.9602\n",
      "\n"
     ]
    },
    {
     "name": "stdout",
     "output_type": "stream",
     "text": [
      "Epoch 110, Loss 0.0454\n",
      "Training Accuracy: 0.9523, Testing Accuracy: 0.9627\n",
      "\n"
     ]
    },
    {
     "name": "stdout",
     "output_type": "stream",
     "text": [
      "Epoch 120, Loss 0.0443\n",
      "Training Accuracy: 0.9531, Testing Accuracy: 0.9637\n",
      "\n"
     ]
    },
    {
     "name": "stdout",
     "output_type": "stream",
     "text": [
      "Epoch 130, Loss 0.0433\n",
      "Training Accuracy: 0.9540, Testing Accuracy: 0.9642\n",
      "\n"
     ]
    },
    {
     "name": "stdout",
     "output_type": "stream",
     "text": [
      "Epoch 140, Loss 0.0424\n",
      "Training Accuracy: 0.9550, Testing Accuracy: 0.9642\n",
      "\n"
     ]
    },
    {
     "name": "stdout",
     "output_type": "stream",
     "text": [
      "Epoch 150, Loss 0.0417\n",
      "Training Accuracy: 0.9556, Testing Accuracy: 0.9642\n",
      "\n"
     ]
    },
    {
     "name": "stdout",
     "output_type": "stream",
     "text": [
      "Epoch 160, Loss 0.041\n",
      "Training Accuracy: 0.9563, Testing Accuracy: 0.9652\n",
      "\n"
     ]
    },
    {
     "name": "stdout",
     "output_type": "stream",
     "text": [
      "Epoch 170, Loss 0.0403\n",
      "Training Accuracy: 0.9569, Testing Accuracy: 0.9652\n",
      "\n"
     ]
    },
    {
     "name": "stdout",
     "output_type": "stream",
     "text": [
      "Epoch 180, Loss 0.0398\n",
      "Training Accuracy: 0.9580, Testing Accuracy: 0.9652\n",
      "\n"
     ]
    },
    {
     "name": "stdout",
     "output_type": "stream",
     "text": [
      "Epoch 190, Loss 0.0392\n",
      "Training Accuracy: 0.9585, Testing Accuracy: 0.9652\n",
      "\n"
     ]
    },
    {
     "name": "stdout",
     "output_type": "stream",
     "text": [
      "Epoch 200, Loss 0.0387\n",
      "Training Accuracy: 0.9591, Testing Accuracy: 0.9657\n",
      "\n"
     ]
    },
    {
     "name": "stdout",
     "output_type": "stream",
     "text": [
      "Epoch 210, Loss 0.0383\n",
      "Training Accuracy: 0.9597, Testing Accuracy: 0.9657\n",
      "\n"
     ]
    },
    {
     "name": "stdout",
     "output_type": "stream",
     "text": [
      "Epoch 220, Loss 0.0378\n",
      "Training Accuracy: 0.9597, Testing Accuracy: 0.9672\n",
      "\n"
     ]
    },
    {
     "name": "stdout",
     "output_type": "stream",
     "text": [
      "Epoch 230, Loss 0.0375\n",
      "Training Accuracy: 0.9599, Testing Accuracy: 0.9672\n",
      "\n"
     ]
    },
    {
     "name": "stdout",
     "output_type": "stream",
     "text": [
      "Epoch 240, Loss 0.0371\n",
      "Training Accuracy: 0.9606, Testing Accuracy: 0.9667\n",
      "\n"
     ]
    },
    {
     "data": {
      "text/plain": [
       "0.020405323867357692"
      ]
     },
     "execution_count": 23,
     "metadata": {},
     "output_type": "execute_result"
    }
   ],
   "source": [
    "lr_learner.train_loop(dl)"
   ]
  },
  {
   "cell_type": "code",
   "execution_count": 24,
   "id": "ca410940",
   "metadata": {
    "execution": {
     "iopub.execute_input": "2021-12-20T10:11:23.866528Z",
     "iopub.status.busy": "2021-12-20T10:11:23.865912Z",
     "iopub.status.idle": "2021-12-20T10:11:24.119705Z",
     "shell.execute_reply": "2021-12-20T10:11:24.120157Z"
    },
    "papermill": {
     "duration": 0.313456,
     "end_time": "2021-12-20T10:11:24.120306",
     "exception": false,
     "start_time": "2021-12-20T10:11:23.806850",
     "status": "completed"
    },
    "tags": []
   },
   "outputs": [
    {
     "data": {
      "text/plain": [
       "<matplotlib.legend.Legend at 0x7fd3da905c50>"
      ]
     },
     "execution_count": 24,
     "metadata": {},
     "output_type": "execute_result"
    },
    {
     "data": {
      "image/png": "[encoded data removed]",
      "text/plain": [
       "<Figure size 1080x720 with 1 Axes>"
      ]
     },
     "metadata": {
      "needs_background": "light"
     },
     "output_type": "display_data"
    }
   ],
   "source": [
    "#comparing the results of NN and LR\n",
    "plt.figure(figsize=(15,10))\n",
    "\n",
    "# Neural Network plots\n",
    "plt.plot(acc_nn.accuracies, 'r-', label = \"Training Accuracies - NN\")\n",
    "plt.plot(acc_nn.test_accuracies, 'g-', label = \"Testing Accuracies - NN\")\n",
    "\n",
    "# Logistic Regression plots\n",
    "plt.plot(acc_lr.accuracies, 'k-', label = \"Training Accuracies - LR\")\n",
    "plt.plot(acc_lr.test_accuracies, 'b-', label = \"Testing Accuracies - LR\")\n",
    "plt.legend()"
   ]
  },
  {
   "cell_type": "markdown",
   "id": "80dfb35c",
   "metadata": {
    "papermill": {
     "duration": 0.047087,
     "end_time": "2021-12-20T10:11:24.215310",
     "exception": false,
     "start_time": "2021-12-20T10:11:24.168223",
     "status": "completed"
    },
    "tags": []
   },
   "source": [
    "#### Plotting the outputs of this layer of the NN.\n"
   ]
  },
  {
   "cell_type": "code",
   "execution_count": 25,
   "id": "45eb2ff5",
   "metadata": {
    "execution": {
     "iopub.execute_input": "2021-12-20T10:11:24.315839Z",
     "iopub.status.busy": "2021-12-20T10:11:24.315232Z",
     "iopub.status.idle": "2021-12-20T10:11:24.337262Z",
     "shell.execute_reply": "2021-12-20T10:11:24.337754Z"
    },
    "papermill": {
     "duration": 0.074411,
     "end_time": "2021-12-20T10:11:24.337908",
     "exception": false,
     "start_time": "2021-12-20T10:11:24.263497",
     "status": "completed"
    },
    "tags": []
   },
   "outputs": [],
   "source": [
    "new_model = Model(layers[:-2])\n",
    "testing_plot = new_model(testing_data_x)"
   ]
  },
  {
   "cell_type": "code",
   "execution_count": 26,
   "id": "4c0a5485",
   "metadata": {
    "execution": {
     "iopub.execute_input": "2021-12-20T10:11:24.442604Z",
     "iopub.status.busy": "2021-12-20T10:11:24.441871Z",
     "iopub.status.idle": "2021-12-20T10:11:24.695967Z",
     "shell.execute_reply": "2021-12-20T10:11:24.696444Z"
    },
    "papermill": {
     "duration": 0.308436,
     "end_time": "2021-12-20T10:11:24.696598",
     "exception": false,
     "start_time": "2021-12-20T10:11:24.388162",
     "status": "completed"
    },
    "tags": []
   },
   "outputs": [
    {
     "data": {
      "text/plain": [
       "Text(0.5, 1.0, 'Outputs')"
      ]
     },
     "execution_count": 26,
     "metadata": {},
     "output_type": "execute_result"
    },
    {
     "data": {
      "image/png": "[encoded data removed]",
      "text/plain": [
       "<Figure size 576x504 with 1 Axes>"
      ]
     },
     "metadata": {
      "needs_background": "light"
     },
     "output_type": "display_data"
    }
   ],
   "source": [
    "# Plotting the scatter plot of points and color coding by class\n",
    "plt.figure(figsize=(8,7))\n",
    "plt.scatter(testing_plot[:,0], testing_plot[:,1], alpha = 0.1, c = y_test.ravel());\n",
    "plt.title('Outputs')"
   ]
  },
  {
   "cell_type": "markdown",
   "id": "a74fcf8f",
   "metadata": {
    "papermill": {
     "duration": 0.050772,
     "end_time": "2021-12-20T10:11:24.798244",
     "exception": false,
     "start_time": "2021-12-20T10:11:24.747472",
     "status": "completed"
    },
    "tags": []
   },
   "source": [
    "Probability contours"
   ]
  },
  {
   "cell_type": "code",
   "execution_count": 27,
   "id": "d0afc8e3",
   "metadata": {
    "execution": {
     "iopub.execute_input": "2021-12-20T10:11:24.904542Z",
     "iopub.status.busy": "2021-12-20T10:11:24.903940Z",
     "iopub.status.idle": "2021-12-20T10:11:24.917213Z",
     "shell.execute_reply": "2021-12-20T10:11:24.916706Z"
    },
    "papermill": {
     "duration": 0.068836,
     "end_time": "2021-12-20T10:11:24.917354",
     "exception": false,
     "start_time": "2021-12-20T10:11:24.848518",
     "status": "completed"
    },
    "tags": []
   },
   "outputs": [],
   "source": [
    "model_prob = Model(layers[-2:]) "
   ]
  },
  {
   "cell_type": "code",
   "execution_count": 28,
   "id": "9b96e238",
   "metadata": {
    "execution": {
     "iopub.execute_input": "2021-12-20T10:11:25.054840Z",
     "iopub.status.busy": "2021-12-20T10:11:25.054221Z",
     "iopub.status.idle": "2021-12-20T10:11:25.069266Z",
     "shell.execute_reply": "2021-12-20T10:11:25.069745Z"
    },
    "papermill": {
     "duration": 0.071903,
     "end_time": "2021-12-20T10:11:25.069908",
     "exception": false,
     "start_time": "2021-12-20T10:11:24.998005",
     "status": "completed"
    },
    "tags": []
   },
   "outputs": [],
   "source": [
    "#creating the x and y ranges according to the above generated plot.\n",
    "x_range = np.linspace(-4, 1, 100) \n",
    "y_range = np.linspace(-6, 6, 100) \n",
    "x_grid, y_grid = np.meshgrid(x_range, y_range) # x_grid and y_grig are of size 100 X 100\n",
    "\n",
    "# converting x_grid and y_grid to continuous arrays\n",
    "x_gridflat = np.ravel(x_grid)\n",
    "y_gridflat = np.ravel(y_grid)\n",
    "\n",
    "# The last layer of the current model takes two columns as input. Hence transpose of np.vstack() is required.\n",
    "X = np.vstack((x_gridflat, y_gridflat)).T\n",
    "\n",
    "prob_contour = model_prob(X).reshape(100,100) "
   ]
  },
  {
   "cell_type": "code",
   "execution_count": 29,
   "id": "da72499a",
   "metadata": {
    "execution": {
     "iopub.execute_input": "2021-12-20T10:11:25.190435Z",
     "iopub.status.busy": "2021-12-20T10:11:25.189806Z",
     "iopub.status.idle": "2021-12-20T10:11:25.479516Z",
     "shell.execute_reply": "2021-12-20T10:11:25.479998Z"
    },
    "papermill": {
     "duration": 0.357554,
     "end_time": "2021-12-20T10:11:25.480155",
     "exception": false,
     "start_time": "2021-12-20T10:11:25.122601",
     "status": "completed"
    },
    "tags": []
   },
   "outputs": [
    {
     "data": {
      "image/png": "[encoded data removed]",
      "text/plain": [
       "<Figure size 720x648 with 1 Axes>"
      ]
     },
     "metadata": {
      "needs_background": "light"
     },
     "output_type": "display_data"
    }
   ],
   "source": [
    "plt.figure(figsize=(10,9))\n",
    "plt.scatter(testing_plot[:,0], testing_plot[:,1], alpha = 0.1, c = y_test.ravel())\n",
    "contours = plt.contour(x_grid,y_grid,prob_contour)\n",
    "plt.title('Probability Contours')\n",
    "plt.clabel(contours, inline = True );"
   ]
  },
  {
   "cell_type": "code",
   "execution_count": null,
   "id": "e81b4ac7",
   "metadata": {
    "papermill": {
     "duration": 0.054224,
     "end_time": "2021-12-20T10:11:25.589166",
     "exception": false,
     "start_time": "2021-12-20T10:11:25.534942",
     "status": "completed"
    },
    "tags": []
   },
   "outputs": [],
   "source": []
  }
 ],
 "metadata": {
  "kernelspec": {
   "display_name": "Python 3",
   "language": "python",
   "name": "python3"
  },
  "language_info": {
   "codemirror_mode": {
    "name": "ipython",
    "version": 3
   },
   "file_extension": ".py",
   "mimetype": "text/x-python",
   "name": "python",
   "nbconvert_exporter": "python",
   "pygments_lexer": "ipython3",
   "version": "3.6.15"
  },
  "papermill": {
   "default_parameters": {},
   "duration": 114.222704,
   "end_time": "2021-12-20T10:11:26.052280",
   "environment_variables": {},
   "exception": null,
   "input_path": "2020-08-11-part2.ipynb",
   "output_path": "2020-08-11-part2.ipynb",
   "parameters": {},
   "start_time": "2021-12-20T10:09:31.829576",
   "version": "2.3.3"
  }
 },
 "nbformat": 4,
 "nbformat_minor": 5
}