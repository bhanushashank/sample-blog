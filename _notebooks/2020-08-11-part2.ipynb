{
 "cells": [
  {
   "cell_type": "markdown",
   "id": "98380cd3",
   "metadata": {
    "papermill": {
     "duration": 0.028445,
     "end_time": "2021-09-09T00:20:24.902638",
     "exception": false,
     "start_time": "2021-09-09T00:20:24.874193",
     "status": "completed"
    },
    "tags": []
   },
   "source": [
    "# Distinguish Your Own Digits (DYOD)"
   ]
  },
  {
   "cell_type": "markdown",
   "id": "ef31240d",
   "metadata": {
    "papermill": {
     "duration": 0.023758,
     "end_time": "2021-09-09T00:20:24.950831",
     "exception": false,
     "start_time": "2021-09-09T00:20:24.927073",
     "status": "completed"
    },
    "tags": []
   },
   "source": [
    "You are going to write a classifier that distinguishes between the number 3 and number 8."
   ]
  },
  {
   "cell_type": "code",
   "execution_count": 1,
   "id": "b15c8646",
   "metadata": {
    "execution": {
     "iopub.execute_input": "2021-09-09T00:20:25.008381Z",
     "iopub.status.busy": "2021-09-09T00:20:25.007842Z",
     "iopub.status.idle": "2021-09-09T00:20:25.017992Z",
     "shell.execute_reply": "2021-09-09T00:20:25.017566Z"
    },
    "papermill": {
     "duration": 0.043582,
     "end_time": "2021-09-09T00:20:25.018115",
     "exception": false,
     "start_time": "2021-09-09T00:20:24.974533",
     "status": "completed"
    },
    "tags": []
   },
   "outputs": [],
   "source": [
    "%load_ext autoreload\n",
    "%autoreload 2"
   ]
  },
  {
   "cell_type": "code",
   "execution_count": 2,
   "id": "22ef38dc",
   "metadata": {
    "execution": {
     "iopub.execute_input": "2021-09-09T00:20:25.069324Z",
     "iopub.status.busy": "2021-09-09T00:20:25.068770Z",
     "iopub.status.idle": "2021-09-09T00:20:25.590037Z",
     "shell.execute_reply": "2021-09-09T00:20:25.589196Z"
    },
    "papermill": {
     "duration": 0.548416,
     "end_time": "2021-09-09T00:20:25.590181",
     "exception": false,
     "start_time": "2021-09-09T00:20:25.041765",
     "status": "completed"
    },
    "tags": []
   },
   "outputs": [],
   "source": [
    "%matplotlib inline\n",
    "import numpy as np\n",
    "import matplotlib.pyplot as plt\n",
    "import pandas as pd"
   ]
  },
  {
   "cell_type": "markdown",
   "id": "ba036198",
   "metadata": {
    "papermill": {
     "duration": 0.024882,
     "end_time": "2021-09-09T00:20:25.638974",
     "exception": false,
     "start_time": "2021-09-09T00:20:25.614092",
     "status": "completed"
    },
    "tags": []
   },
   "source": [
    "From the command line run `pip install mnist`. This is a library that will help you bring down the mnist dataset. If you run this from a notebook, you need to put  `!pip install mnist` in a cell by itself."
   ]
  },
  {
   "cell_type": "code",
   "execution_count": 3,
   "id": "bb6ad8a1",
   "metadata": {
    "execution": {
     "iopub.execute_input": "2021-09-09T00:20:25.694042Z",
     "iopub.status.busy": "2021-09-09T00:20:25.693498Z",
     "iopub.status.idle": "2021-09-09T00:20:27.421603Z",
     "shell.execute_reply": "2021-09-09T00:20:27.421068Z"
    },
    "papermill": {
     "duration": 1.758871,
     "end_time": "2021-09-09T00:20:27.421750",
     "exception": false,
     "start_time": "2021-09-09T00:20:25.662879",
     "status": "completed"
    },
    "tags": []
   },
   "outputs": [
    {
     "name": "stdout",
     "output_type": "stream",
     "text": [
      "Collecting mnist\r\n"
     ]
    },
    {
     "name": "stdout",
     "output_type": "stream",
     "text": [
      "  Downloading mnist-0.2.2-py2.py3-none-any.whl (3.5 kB)\r\n",
      "Requirement already satisfied: numpy in /opt/hostedtoolcache/Python/3.6.14/x64/lib/python3.6/site-packages (from mnist) (1.19.5)\r\n"
     ]
    },
    {
     "name": "stdout",
     "output_type": "stream",
     "text": [
      "Installing collected packages: mnist\r\n",
      "Successfully installed mnist-0.2.2\r\n"
     ]
    }
   ],
   "source": [
    "!pip install mnist"
   ]
  },
  {
   "cell_type": "markdown",
   "id": "69df9c9a",
   "metadata": {
    "papermill": {
     "duration": 0.024817,
     "end_time": "2021-09-09T00:20:27.472319",
     "exception": false,
     "start_time": "2021-09-09T00:20:27.447502",
     "status": "completed"
    },
    "tags": []
   },
   "source": [
    "## Preparing the Data"
   ]
  },
  {
   "cell_type": "code",
   "execution_count": 4,
   "id": "7f69d806",
   "metadata": {
    "execution": {
     "iopub.execute_input": "2021-09-09T00:20:27.531987Z",
     "iopub.status.busy": "2021-09-09T00:20:27.531005Z",
     "iopub.status.idle": "2021-09-09T00:20:27.542899Z",
     "shell.execute_reply": "2021-09-09T00:20:27.542475Z"
    },
    "papermill": {
     "duration": 0.046023,
     "end_time": "2021-09-09T00:20:27.543015",
     "exception": false,
     "start_time": "2021-09-09T00:20:27.496992",
     "status": "completed"
    },
    "tags": []
   },
   "outputs": [],
   "source": [
    "import mnist"
   ]
  },
  {
   "cell_type": "code",
   "execution_count": 5,
   "id": "a411e44f",
   "metadata": {
    "execution": {
     "iopub.execute_input": "2021-09-09T00:20:27.596451Z",
     "iopub.status.busy": "2021-09-09T00:20:27.595942Z",
     "iopub.status.idle": "2021-09-09T00:20:28.170525Z",
     "shell.execute_reply": "2021-09-09T00:20:28.169994Z"
    },
    "papermill": {
     "duration": 0.602822,
     "end_time": "2021-09-09T00:20:28.170675",
     "exception": false,
     "start_time": "2021-09-09T00:20:27.567853",
     "status": "completed"
    },
    "tags": []
   },
   "outputs": [],
   "source": [
    "train_images = mnist.train_images()\n",
    "train_labels = mnist.train_labels()"
   ]
  },
  {
   "cell_type": "code",
   "execution_count": 6,
   "id": "dceab3a5",
   "metadata": {
    "execution": {
     "iopub.execute_input": "2021-09-09T00:20:28.229534Z",
     "iopub.status.busy": "2021-09-09T00:20:28.229008Z",
     "iopub.status.idle": "2021-09-09T00:20:28.241055Z",
     "shell.execute_reply": "2021-09-09T00:20:28.241533Z"
    },
    "papermill": {
     "duration": 0.045087,
     "end_time": "2021-09-09T00:20:28.241666",
     "exception": false,
     "start_time": "2021-09-09T00:20:28.196579",
     "status": "completed"
    },
    "tags": []
   },
   "outputs": [
    {
     "data": {
      "text/plain": [
       "((60000, 28, 28), (60000,))"
      ]
     },
     "execution_count": 6,
     "metadata": {},
     "output_type": "execute_result"
    }
   ],
   "source": [
    "train_images.shape, train_labels.shape"
   ]
  },
  {
   "cell_type": "code",
   "execution_count": 7,
   "id": "f50dc2bb",
   "metadata": {
    "execution": {
     "iopub.execute_input": "2021-09-09T00:20:28.294922Z",
     "iopub.status.busy": "2021-09-09T00:20:28.294412Z",
     "iopub.status.idle": "2021-09-09T00:20:28.480611Z",
     "shell.execute_reply": "2021-09-09T00:20:28.480050Z"
    },
    "papermill": {
     "duration": 0.214271,
     "end_time": "2021-09-09T00:20:28.480751",
     "exception": false,
     "start_time": "2021-09-09T00:20:28.266480",
     "status": "completed"
    },
    "tags": []
   },
   "outputs": [],
   "source": [
    "test_images = mnist.test_images()\n",
    "test_labels = mnist.test_labels()"
   ]
  },
  {
   "cell_type": "code",
   "execution_count": 8,
   "id": "fc38cf1b",
   "metadata": {
    "execution": {
     "iopub.execute_input": "2021-09-09T00:20:28.534875Z",
     "iopub.status.busy": "2021-09-09T00:20:28.534360Z",
     "iopub.status.idle": "2021-09-09T00:20:28.547728Z",
     "shell.execute_reply": "2021-09-09T00:20:28.547317Z"
    },
    "papermill": {
     "duration": 0.041648,
     "end_time": "2021-09-09T00:20:28.547847",
     "exception": false,
     "start_time": "2021-09-09T00:20:28.506199",
     "status": "completed"
    },
    "tags": []
   },
   "outputs": [
    {
     "data": {
      "text/plain": [
       "((10000, 28, 28), (10000,))"
      ]
     },
     "execution_count": 8,
     "metadata": {},
     "output_type": "execute_result"
    }
   ],
   "source": [
    "test_images.shape, test_labels.shape"
   ]
  },
  {
   "cell_type": "code",
   "execution_count": 9,
   "id": "f9ed8fe0",
   "metadata": {
    "execution": {
     "iopub.execute_input": "2021-09-09T00:20:28.608185Z",
     "iopub.status.busy": "2021-09-09T00:20:28.607662Z",
     "iopub.status.idle": "2021-09-09T00:20:28.742180Z",
     "shell.execute_reply": "2021-09-09T00:20:28.741734Z"
    },
    "papermill": {
     "duration": 0.169299,
     "end_time": "2021-09-09T00:20:28.742311",
     "exception": false,
     "start_time": "2021-09-09T00:20:28.573012",
     "status": "completed"
    },
    "tags": []
   },
   "outputs": [
    {
     "name": "stdout",
     "output_type": "stream",
     "text": [
      "2\n"
     ]
    },
    {
     "data": {
      "text/plain": [
       "<matplotlib.image.AxesImage at 0x7f14191c9cc0>"
      ]
     },
     "execution_count": 9,
     "metadata": {},
     "output_type": "execute_result"
    },
    {
     "data": {
      "image/png": "[encoded data removed]",
      "text/plain": [
       "<Figure size 432x288 with 1 Axes>"
      ]
     },
     "metadata": {
      "needs_background": "light"
     },
     "output_type": "display_data"
    }
   ],
   "source": [
    "image_index = 7776 # You may select anything up to 60,000\n",
    "print(train_labels[image_index]) \n",
    "plt.imshow(train_images[image_index], cmap='Greys')"
   ]
  },
  {
   "cell_type": "markdown",
   "id": "a8d2388d",
   "metadata": {
    "papermill": {
     "duration": 0.026685,
     "end_time": "2021-09-09T00:20:28.796268",
     "exception": false,
     "start_time": "2021-09-09T00:20:28.769583",
     "status": "completed"
    },
    "tags": []
   },
   "source": [
    "## Filter data to get 3 and 8 out"
   ]
  },
  {
   "cell_type": "code",
   "execution_count": 10,
   "id": "776f7fc7",
   "metadata": {
    "execution": {
     "iopub.execute_input": "2021-09-09T00:20:28.853640Z",
     "iopub.status.busy": "2021-09-09T00:20:28.853094Z",
     "iopub.status.idle": "2021-09-09T00:20:28.872012Z",
     "shell.execute_reply": "2021-09-09T00:20:28.871559Z"
    },
    "papermill": {
     "duration": 0.049422,
     "end_time": "2021-09-09T00:20:28.872135",
     "exception": false,
     "start_time": "2021-09-09T00:20:28.822713",
     "status": "completed"
    },
    "tags": []
   },
   "outputs": [],
   "source": [
    "train_filter = np.where((train_labels == 3 ) | (train_labels == 8))\n",
    "test_filter = np.where((test_labels == 3) | (test_labels == 8))\n",
    "X_train, y_train = train_images[train_filter], train_labels[train_filter]\n",
    "X_test, y_test = test_images[test_filter], test_labels[test_filter]"
   ]
  },
  {
   "cell_type": "markdown",
   "id": "948f0b7e",
   "metadata": {
    "papermill": {
     "duration": 0.026202,
     "end_time": "2021-09-09T00:20:28.925200",
     "exception": false,
     "start_time": "2021-09-09T00:20:28.898998",
     "status": "completed"
    },
    "tags": []
   },
   "source": [
    "We normalize the pizel values in the 0 to 1 range"
   ]
  },
  {
   "cell_type": "code",
   "execution_count": 11,
   "id": "ee4c2166",
   "metadata": {
    "execution": {
     "iopub.execute_input": "2021-09-09T00:20:28.993634Z",
     "iopub.status.busy": "2021-09-09T00:20:28.986383Z",
     "iopub.status.idle": "2021-09-09T00:20:29.031181Z",
     "shell.execute_reply": "2021-09-09T00:20:29.030683Z"
    },
    "papermill": {
     "duration": 0.079954,
     "end_time": "2021-09-09T00:20:29.031305",
     "exception": false,
     "start_time": "2021-09-09T00:20:28.951351",
     "status": "completed"
    },
    "tags": []
   },
   "outputs": [],
   "source": [
    "X_train = X_train/255.\n",
    "X_test = X_test/255."
   ]
  },
  {
   "cell_type": "markdown",
   "id": "ddcf4fab",
   "metadata": {
    "papermill": {
     "duration": 0.026408,
     "end_time": "2021-09-09T00:20:29.084645",
     "exception": false,
     "start_time": "2021-09-09T00:20:29.058237",
     "status": "completed"
    },
    "tags": []
   },
   "source": [
    "And setup the labels as 1 (when the digit is 3) and 0 (when the digit is 8)"
   ]
  },
  {
   "cell_type": "code",
   "execution_count": 12,
   "id": "7dc908f2",
   "metadata": {
    "execution": {
     "iopub.execute_input": "2021-09-09T00:20:29.145498Z",
     "iopub.status.busy": "2021-09-09T00:20:29.144948Z",
     "iopub.status.idle": "2021-09-09T00:20:29.155851Z",
     "shell.execute_reply": "2021-09-09T00:20:29.155390Z"
    },
    "papermill": {
     "duration": 0.044521,
     "end_time": "2021-09-09T00:20:29.155977",
     "exception": false,
     "start_time": "2021-09-09T00:20:29.111456",
     "status": "completed"
    },
    "tags": []
   },
   "outputs": [],
   "source": [
    "y_train = 1*(y_train==3)\n",
    "y_test = 1*(y_test==3)"
   ]
  },
  {
   "cell_type": "code",
   "execution_count": 13,
   "id": "01e4e969",
   "metadata": {
    "execution": {
     "iopub.execute_input": "2021-09-09T00:20:29.216196Z",
     "iopub.status.busy": "2021-09-09T00:20:29.215668Z",
     "iopub.status.idle": "2021-09-09T00:20:29.226734Z",
     "shell.execute_reply": "2021-09-09T00:20:29.226322Z"
    },
    "papermill": {
     "duration": 0.044254,
     "end_time": "2021-09-09T00:20:29.226854",
     "exception": false,
     "start_time": "2021-09-09T00:20:29.182600",
     "status": "completed"
    },
    "tags": []
   },
   "outputs": [
    {
     "data": {
      "text/plain": [
       "((11982, 28, 28), (1984, 28, 28))"
      ]
     },
     "execution_count": 13,
     "metadata": {},
     "output_type": "execute_result"
    }
   ],
   "source": [
    "X_train.shape, X_test.shape"
   ]
  },
  {
   "cell_type": "markdown",
   "id": "5ccf3f85",
   "metadata": {
    "papermill": {
     "duration": 0.026485,
     "end_time": "2021-09-09T00:20:29.279949",
     "exception": false,
     "start_time": "2021-09-09T00:20:29.253464",
     "status": "completed"
    },
    "tags": []
   },
   "source": [
    "We reshape the data to flatten the image pixels into a set of features or co-variates:"
   ]
  },
  {
   "cell_type": "code",
   "execution_count": 14,
   "id": "5286a4a3",
   "metadata": {
    "execution": {
     "iopub.execute_input": "2021-09-09T00:20:29.351312Z",
     "iopub.status.busy": "2021-09-09T00:20:29.348303Z",
     "iopub.status.idle": "2021-09-09T00:20:29.356318Z",
     "shell.execute_reply": "2021-09-09T00:20:29.356794Z"
    },
    "papermill": {
     "duration": 0.050326,
     "end_time": "2021-09-09T00:20:29.356949",
     "exception": false,
     "start_time": "2021-09-09T00:20:29.306623",
     "status": "completed"
    },
    "tags": []
   },
   "outputs": [
    {
     "data": {
      "text/plain": [
       "((11982, 784), (1984, 784))"
      ]
     },
     "execution_count": 14,
     "metadata": {},
     "output_type": "execute_result"
    }
   ],
   "source": [
    "X_train = X_train.reshape(X_train.shape[0], -1)\n",
    "X_test = X_test.reshape(X_test.shape[0], -1)\n",
    "X_train.shape, X_test.shape"
   ]
  },
  {
   "cell_type": "code",
   "execution_count": 15,
   "id": "73c5f88a",
   "metadata": {
    "execution": {
     "iopub.execute_input": "2021-09-09T00:20:29.419700Z",
     "iopub.status.busy": "2021-09-09T00:20:29.419155Z",
     "iopub.status.idle": "2021-09-09T00:20:29.435032Z",
     "shell.execute_reply": "2021-09-09T00:20:29.434611Z"
    },
    "papermill": {
     "duration": 0.051273,
     "end_time": "2021-09-09T00:20:29.435151",
     "exception": false,
     "start_time": "2021-09-09T00:20:29.383878",
     "status": "completed"
    },
    "tags": []
   },
   "outputs": [],
   "source": [
    "#Impoting functions from 'Kudzu'\n",
    "from kudzu.model import Model\n",
    "from kudzu.train import Learner\n",
    "from kudzu.optim import GD\n",
    "from kudzu.data import Data, Sampler,Dataloader\n",
    "\n",
    "from kudzu.callbacks import AccCallback\n",
    "from kudzu.callbacks import ClfCallback\n",
    "\n",
    "from kudzu.loss import MSE\n",
    "\n",
    "from kudzu.layer import Sigmoid,Relu\n",
    "from kudzu.layer import Affine"
   ]
  },
  {
   "cell_type": "markdown",
   "id": "bc01172a",
   "metadata": {
    "papermill": {
     "duration": 0.026639,
     "end_time": "2021-09-09T00:20:29.488717",
     "exception": false,
     "start_time": "2021-09-09T00:20:29.462078",
     "status": "completed"
    },
    "tags": []
   },
   "source": [
    "### Let us create a `Config` class, to store important parameters. \n",
    "This class essentially plays the role of a dictionary."
   ]
  },
  {
   "cell_type": "code",
   "execution_count": 16,
   "id": "978281aa",
   "metadata": {
    "execution": {
     "iopub.execute_input": "2021-09-09T00:20:29.546139Z",
     "iopub.status.busy": "2021-09-09T00:20:29.545610Z",
     "iopub.status.idle": "2021-09-09T00:20:29.558201Z",
     "shell.execute_reply": "2021-09-09T00:20:29.557780Z"
    },
    "papermill": {
     "duration": 0.042917,
     "end_time": "2021-09-09T00:20:29.558318",
     "exception": false,
     "start_time": "2021-09-09T00:20:29.515401",
     "status": "completed"
    },
    "tags": []
   },
   "outputs": [],
   "source": [
    "class Config:\n",
    "    pass\n",
    "config = Config()\n",
    "config.lr = 0.001\n",
    "config.num_epochs = 250\n",
    "config.bs = 50"
   ]
  },
  {
   "cell_type": "markdown",
   "id": "1385fa59",
   "metadata": {
    "papermill": {
     "duration": 0.026669,
     "end_time": "2021-09-09T00:20:29.611920",
     "exception": false,
     "start_time": "2021-09-09T00:20:29.585251",
     "status": "completed"
    },
    "tags": []
   },
   "source": [
    "### Running Models with the Training data\n",
    "Details about the network layers:\n",
    "- A first affine layer has 784 inputs and does 100 affine transforms. These are followed by a Relu\n",
    "- A second affine layer has 100 inputs from the 100 activations of the past layer, and does 100 affine transforms. These are followed by a Relu\n",
    "- A third affine layer has 100 activations and does 2 affine transformations to create an embedding for visualization. There is no non-linearity here.\n",
    "- A final \"logistic regression\" which has an affine transform from 2 inputs to 1 output, which is squeezed through a sigmoid.\n"
   ]
  },
  {
   "cell_type": "code",
   "execution_count": 17,
   "id": "2b9c66db",
   "metadata": {
    "execution": {
     "iopub.execute_input": "2021-09-09T00:20:29.669633Z",
     "iopub.status.busy": "2021-09-09T00:20:29.669102Z",
     "iopub.status.idle": "2021-09-09T00:20:29.681461Z",
     "shell.execute_reply": "2021-09-09T00:20:29.681047Z"
    },
    "papermill": {
     "duration": 0.042913,
     "end_time": "2021-09-09T00:20:29.681578",
     "exception": false,
     "start_time": "2021-09-09T00:20:29.638665",
     "status": "completed"
    },
    "tags": []
   },
   "outputs": [],
   "source": [
    "data = Data(X_train, y_train.reshape(-1,1))\n",
    "sampler = Sampler(data, config.bs, shuffle=True)\n",
    "\n",
    "dl = Dataloader(data, sampler)\n",
    "\n",
    "opt = GD(config.lr)\n",
    "loss = MSE()"
   ]
  },
  {
   "cell_type": "code",
   "execution_count": 18,
   "id": "b275e4c2",
   "metadata": {
    "execution": {
     "iopub.execute_input": "2021-09-09T00:20:29.742162Z",
     "iopub.status.busy": "2021-09-09T00:20:29.741623Z",
     "iopub.status.idle": "2021-09-09T00:20:29.751434Z",
     "shell.execute_reply": "2021-09-09T00:20:29.751843Z"
    },
    "papermill": {
     "duration": 0.043532,
     "end_time": "2021-09-09T00:20:29.751975",
     "exception": false,
     "start_time": "2021-09-09T00:20:29.708443",
     "status": "completed"
    },
    "tags": []
   },
   "outputs": [],
   "source": [
    "training_data_x = X_train\n",
    "testing_data_x = X_test\n",
    "training_data_y = y_train.reshape(-1,1)\n",
    "testing_data_y = y_test.reshape(-1,1)"
   ]
  },
  {
   "cell_type": "code",
   "execution_count": 19,
   "id": "76951160",
   "metadata": {
    "execution": {
     "iopub.execute_input": "2021-09-09T00:20:29.809731Z",
     "iopub.status.busy": "2021-09-09T00:20:29.809199Z",
     "iopub.status.idle": "2021-09-09T00:20:29.825026Z",
     "shell.execute_reply": "2021-09-09T00:20:29.825417Z"
    },
    "papermill": {
     "duration": 0.046834,
     "end_time": "2021-09-09T00:20:29.825554",
     "exception": false,
     "start_time": "2021-09-09T00:20:29.778720",
     "status": "completed"
    },
    "tags": []
   },
   "outputs": [
    {
     "name": "stdout",
     "output_type": "stream",
     "text": [
      "xavier\n",
      "xavier\n",
      "xavier\n",
      "xavier\n",
      "xavier\n"
     ]
    }
   ],
   "source": [
    "layers = [Affine(\"first\", 784, 100), Relu(\"first\"), Affine(\"second\", 100, 100), Relu(\"second\"), Affine(\"third\", 100, 2), Affine(\"last\", 2, 1), Sigmoid(\"last\")]\n",
    "model_nn = Model(layers)\n",
    "model_lr = Model([Affine(\"logits\", 784, 1), Sigmoid(\"sigmoid\")])"
   ]
  },
  {
   "cell_type": "code",
   "execution_count": 20,
   "id": "6eede77a",
   "metadata": {
    "execution": {
     "iopub.execute_input": "2021-09-09T00:20:29.886960Z",
     "iopub.status.busy": "2021-09-09T00:20:29.886432Z",
     "iopub.status.idle": "2021-09-09T00:20:29.897688Z",
     "shell.execute_reply": "2021-09-09T00:20:29.897271Z"
    },
    "papermill": {
     "duration": 0.04503,
     "end_time": "2021-09-09T00:20:29.897810",
     "exception": false,
     "start_time": "2021-09-09T00:20:29.852780",
     "status": "completed"
    },
    "tags": []
   },
   "outputs": [],
   "source": [
    "nn_learner = Learner(loss, model_nn, opt, config.num_epochs)\n",
    "acc_nn = ClfCallback(nn_learner, config.bs, training_data_x , testing_data_x, training_data_y, testing_data_y)\n",
    "nn_learner.set_callbacks([acc_nn])"
   ]
  },
  {
   "cell_type": "code",
   "execution_count": 21,
   "id": "877b6cc7",
   "metadata": {
    "execution": {
     "iopub.execute_input": "2021-09-09T00:20:29.954729Z",
     "iopub.status.busy": "2021-09-09T00:20:29.954192Z",
     "iopub.status.idle": "2021-09-09T00:20:29.967293Z",
     "shell.execute_reply": "2021-09-09T00:20:29.966854Z"
    },
    "papermill": {
     "duration": 0.042571,
     "end_time": "2021-09-09T00:20:29.967408",
     "exception": false,
     "start_time": "2021-09-09T00:20:29.924837",
     "status": "completed"
    },
    "tags": []
   },
   "outputs": [],
   "source": [
    "lr_learner = Learner(loss, model_lr, opt, config.num_epochs)\n",
    "acc_lr = ClfCallback(lr_learner, config.bs, training_data_x , testing_data_x, training_data_y, testing_data_y)\n",
    "lr_learner.set_callbacks([acc_lr])"
   ]
  },
  {
   "cell_type": "code",
   "execution_count": 22,
   "id": "d9b133c3",
   "metadata": {
    "execution": {
     "iopub.execute_input": "2021-09-09T00:20:30.025300Z",
     "iopub.status.busy": "2021-09-09T00:20:30.024764Z",
     "iopub.status.idle": "2021-09-09T00:21:46.322422Z",
     "shell.execute_reply": "2021-09-09T00:21:46.323141Z"
    },
    "papermill": {
     "duration": 76.328617,
     "end_time": "2021-09-09T00:21:46.323288",
     "exception": false,
     "start_time": "2021-09-09T00:20:29.994671",
     "status": "completed"
    },
    "tags": []
   },
   "outputs": [
    {
     "name": "stdout",
     "output_type": "stream",
     "text": [
      "Epoch 0, Loss 0.2494\n",
      "Training Accuracy: 0.5612, Testing Accuracy: 0.5650\n",
      "\n"
     ]
    },
    {
     "name": "stdout",
     "output_type": "stream",
     "text": [
      "Epoch 10, Loss 0.2125\n",
      "Training Accuracy: 0.8624, Testing Accuracy: 0.8785\n",
      "\n"
     ]
    },
    {
     "name": "stdout",
     "output_type": "stream",
     "text": [
      "Epoch 20, Loss 0.1148\n",
      "Training Accuracy: 0.9064, Testing Accuracy: 0.9098\n",
      "\n"
     ]
    },
    {
     "name": "stdout",
     "output_type": "stream",
     "text": [
      "Epoch 30, Loss 0.0663\n",
      "Training Accuracy: 0.9329, Testing Accuracy: 0.9350\n",
      "\n"
     ]
    },
    {
     "name": "stdout",
     "output_type": "stream",
     "text": [
      "Epoch 40, Loss 0.0501\n",
      "Training Accuracy: 0.9450, Testing Accuracy: 0.9476\n",
      "\n"
     ]
    },
    {
     "name": "stdout",
     "output_type": "stream",
     "text": [
      "Epoch 50, Loss 0.0425\n",
      "Training Accuracy: 0.9518, Testing Accuracy: 0.9556\n",
      "\n"
     ]
    },
    {
     "name": "stdout",
     "output_type": "stream",
     "text": [
      "Epoch 60, Loss 0.038\n",
      "Training Accuracy: 0.9564, Testing Accuracy: 0.9617\n",
      "\n"
     ]
    },
    {
     "name": "stdout",
     "output_type": "stream",
     "text": [
      "Epoch 70, Loss 0.035\n",
      "Training Accuracy: 0.9588, Testing Accuracy: 0.9617\n",
      "\n"
     ]
    },
    {
     "name": "stdout",
     "output_type": "stream",
     "text": [
      "Epoch 80, Loss 0.0329\n",
      "Training Accuracy: 0.9614, Testing Accuracy: 0.9637\n",
      "\n"
     ]
    },
    {
     "name": "stdout",
     "output_type": "stream",
     "text": [
      "Epoch 90, Loss 0.0312\n",
      "Training Accuracy: 0.9638, Testing Accuracy: 0.9647\n",
      "\n"
     ]
    },
    {
     "name": "stdout",
     "output_type": "stream",
     "text": [
      "Epoch 100, Loss 0.0299\n",
      "Training Accuracy: 0.9654, Testing Accuracy: 0.9657\n",
      "\n"
     ]
    },
    {
     "name": "stdout",
     "output_type": "stream",
     "text": [
      "Epoch 110, Loss 0.0287\n",
      "Training Accuracy: 0.9669, Testing Accuracy: 0.9662\n",
      "\n"
     ]
    },
    {
     "name": "stdout",
     "output_type": "stream",
     "text": [
      "Epoch 120, Loss 0.0278\n",
      "Training Accuracy: 0.9675, Testing Accuracy: 0.9667\n",
      "\n"
     ]
    },
    {
     "name": "stdout",
     "output_type": "stream",
     "text": [
      "Epoch 130, Loss 0.027\n",
      "Training Accuracy: 0.9682, Testing Accuracy: 0.9672\n",
      "\n"
     ]
    },
    {
     "name": "stdout",
     "output_type": "stream",
     "text": [
      "Epoch 140, Loss 0.0262\n",
      "Training Accuracy: 0.9695, Testing Accuracy: 0.9682\n",
      "\n"
     ]
    },
    {
     "name": "stdout",
     "output_type": "stream",
     "text": [
      "Epoch 150, Loss 0.0256\n",
      "Training Accuracy: 0.9701, Testing Accuracy: 0.9693\n",
      "\n"
     ]
    },
    {
     "name": "stdout",
     "output_type": "stream",
     "text": [
      "Epoch 160, Loss 0.025\n",
      "Training Accuracy: 0.9706, Testing Accuracy: 0.9688\n",
      "\n"
     ]
    },
    {
     "name": "stdout",
     "output_type": "stream",
     "text": [
      "Epoch 170, Loss 0.0244\n",
      "Training Accuracy: 0.9711, Testing Accuracy: 0.9688\n",
      "\n"
     ]
    },
    {
     "name": "stdout",
     "output_type": "stream",
     "text": [
      "Epoch 180, Loss 0.0239\n",
      "Training Accuracy: 0.9715, Testing Accuracy: 0.9688\n",
      "\n"
     ]
    },
    {
     "name": "stdout",
     "output_type": "stream",
     "text": [
      "Epoch 190, Loss 0.0234\n",
      "Training Accuracy: 0.9725, Testing Accuracy: 0.9688\n",
      "\n"
     ]
    },
    {
     "name": "stdout",
     "output_type": "stream",
     "text": [
      "Epoch 200, Loss 0.023\n",
      "Training Accuracy: 0.9730, Testing Accuracy: 0.9708\n",
      "\n"
     ]
    },
    {
     "name": "stdout",
     "output_type": "stream",
     "text": [
      "Epoch 210, Loss 0.0225\n",
      "Training Accuracy: 0.9736, Testing Accuracy: 0.9713\n",
      "\n"
     ]
    },
    {
     "name": "stdout",
     "output_type": "stream",
     "text": [
      "Epoch 220, Loss 0.0221\n",
      "Training Accuracy: 0.9738, Testing Accuracy: 0.9728\n",
      "\n"
     ]
    },
    {
     "name": "stdout",
     "output_type": "stream",
     "text": [
      "Epoch 230, Loss 0.0217\n",
      "Training Accuracy: 0.9744, Testing Accuracy: 0.9728\n",
      "\n"
     ]
    },
    {
     "name": "stdout",
     "output_type": "stream",
     "text": [
      "Epoch 240, Loss 0.0214\n",
      "Training Accuracy: 0.9746, Testing Accuracy: 0.9733\n",
      "\n"
     ]
    },
    {
     "data": {
      "text/plain": [
       "0.007097140121675588"
      ]
     },
     "execution_count": 22,
     "metadata": {},
     "output_type": "execute_result"
    }
   ],
   "source": [
    "nn_learner.train_loop(dl)"
   ]
  },
  {
   "cell_type": "code",
   "execution_count": 23,
   "id": "e0163366",
   "metadata": {
    "execution": {
     "iopub.execute_input": "2021-09-09T00:21:46.404995Z",
     "iopub.status.busy": "2021-09-09T00:21:46.404425Z",
     "iopub.status.idle": "2021-09-09T00:22:00.212123Z",
     "shell.execute_reply": "2021-09-09T00:22:00.213333Z"
    },
    "papermill": {
     "duration": 13.855303,
     "end_time": "2021-09-09T00:22:00.213494",
     "exception": false,
     "start_time": "2021-09-09T00:21:46.358191",
     "status": "completed"
    },
    "tags": []
   },
   "outputs": [
    {
     "name": "stdout",
     "output_type": "stream",
     "text": [
      "Epoch 0, Loss 0.2307\n",
      "Training Accuracy: 0.7096, Testing Accuracy: 0.7142\n",
      "\n"
     ]
    },
    {
     "name": "stdout",
     "output_type": "stream",
     "text": [
      "Epoch 10, Loss 0.1037\n",
      "Training Accuracy: 0.9051, Testing Accuracy: 0.9178\n",
      "\n"
     ]
    },
    {
     "name": "stdout",
     "output_type": "stream",
     "text": [
      "Epoch 20, Loss 0.0798\n",
      "Training Accuracy: 0.9273, Testing Accuracy: 0.9375\n",
      "\n"
     ]
    },
    {
     "name": "stdout",
     "output_type": "stream",
     "text": [
      "Epoch 30, Loss 0.0686\n",
      "Training Accuracy: 0.9362, Testing Accuracy: 0.9476\n",
      "\n"
     ]
    },
    {
     "name": "stdout",
     "output_type": "stream",
     "text": [
      "Epoch 40, Loss 0.0619\n",
      "Training Accuracy: 0.9407, Testing Accuracy: 0.9536\n",
      "\n"
     ]
    },
    {
     "name": "stdout",
     "output_type": "stream",
     "text": [
      "Epoch 50, Loss 0.0573\n",
      "Training Accuracy: 0.9433, Testing Accuracy: 0.9556\n",
      "\n"
     ]
    },
    {
     "name": "stdout",
     "output_type": "stream",
     "text": [
      "Epoch 60, Loss 0.0539\n",
      "Training Accuracy: 0.9466, Testing Accuracy: 0.9577\n",
      "\n"
     ]
    },
    {
     "name": "stdout",
     "output_type": "stream",
     "text": [
      "Epoch 70, Loss 0.0513\n",
      "Training Accuracy: 0.9484, Testing Accuracy: 0.9587\n",
      "\n"
     ]
    },
    {
     "name": "stdout",
     "output_type": "stream",
     "text": [
      "Epoch 80, Loss 0.0493\n",
      "Training Accuracy: 0.9500, Testing Accuracy: 0.9592\n",
      "\n"
     ]
    },
    {
     "name": "stdout",
     "output_type": "stream",
     "text": [
      "Epoch 90, Loss 0.0476\n",
      "Training Accuracy: 0.9513, Testing Accuracy: 0.9597\n",
      "\n"
     ]
    },
    {
     "name": "stdout",
     "output_type": "stream",
     "text": [
      "Epoch 100, Loss 0.0461\n",
      "Training Accuracy: 0.9522, Testing Accuracy: 0.9612\n",
      "\n"
     ]
    },
    {
     "name": "stdout",
     "output_type": "stream",
     "text": [
      "Epoch 110, Loss 0.0449\n",
      "Training Accuracy: 0.9532, Testing Accuracy: 0.9612\n",
      "\n"
     ]
    },
    {
     "name": "stdout",
     "output_type": "stream",
     "text": [
      "Epoch 120, Loss 0.0438\n",
      "Training Accuracy: 0.9538, Testing Accuracy: 0.9617\n",
      "\n"
     ]
    },
    {
     "name": "stdout",
     "output_type": "stream",
     "text": [
      "Epoch 130, Loss 0.0429\n",
      "Training Accuracy: 0.9548, Testing Accuracy: 0.9622\n",
      "\n"
     ]
    },
    {
     "name": "stdout",
     "output_type": "stream",
     "text": [
      "Epoch 140, Loss 0.042\n",
      "Training Accuracy: 0.9560, Testing Accuracy: 0.9622\n",
      "\n"
     ]
    },
    {
     "name": "stdout",
     "output_type": "stream",
     "text": [
      "Epoch 150, Loss 0.0413\n",
      "Training Accuracy: 0.9564, Testing Accuracy: 0.9622\n",
      "\n"
     ]
    },
    {
     "name": "stdout",
     "output_type": "stream",
     "text": [
      "Epoch 160, Loss 0.0406\n",
      "Training Accuracy: 0.9568, Testing Accuracy: 0.9627\n",
      "\n"
     ]
    },
    {
     "name": "stdout",
     "output_type": "stream",
     "text": [
      "Epoch 170, Loss 0.04\n",
      "Training Accuracy: 0.9576, Testing Accuracy: 0.9637\n",
      "\n"
     ]
    },
    {
     "name": "stdout",
     "output_type": "stream",
     "text": [
      "Epoch 180, Loss 0.0394\n",
      "Training Accuracy: 0.9579, Testing Accuracy: 0.9647\n",
      "\n"
     ]
    },
    {
     "name": "stdout",
     "output_type": "stream",
     "text": [
      "Epoch 190, Loss 0.0389\n",
      "Training Accuracy: 0.9591, Testing Accuracy: 0.9647\n",
      "\n"
     ]
    },
    {
     "name": "stdout",
     "output_type": "stream",
     "text": [
      "Epoch 200, Loss 0.0384\n",
      "Training Accuracy: 0.9597, Testing Accuracy: 0.9652\n",
      "\n"
     ]
    },
    {
     "name": "stdout",
     "output_type": "stream",
     "text": [
      "Epoch 210, Loss 0.038\n",
      "Training Accuracy: 0.9599, Testing Accuracy: 0.9652\n",
      "\n"
     ]
    },
    {
     "name": "stdout",
     "output_type": "stream",
     "text": [
      "Epoch 220, Loss 0.0376\n",
      "Training Accuracy: 0.9603, Testing Accuracy: 0.9652\n",
      "\n"
     ]
    },
    {
     "name": "stdout",
     "output_type": "stream",
     "text": [
      "Epoch 230, Loss 0.0372\n",
      "Training Accuracy: 0.9604, Testing Accuracy: 0.9652\n",
      "\n"
     ]
    },
    {
     "name": "stdout",
     "output_type": "stream",
     "text": [
      "Epoch 240, Loss 0.0368\n",
      "Training Accuracy: 0.9606, Testing Accuracy: 0.9652\n",
      "\n"
     ]
    },
    {
     "data": {
      "text/plain": [
       "0.056392887818397075"
      ]
     },
     "execution_count": 23,
     "metadata": {},
     "output_type": "execute_result"
    }
   ],
   "source": [
    "lr_learner.train_loop(dl)"
   ]
  },
  {
   "cell_type": "code",
   "execution_count": 24,
   "id": "ca410940",
   "metadata": {
    "execution": {
     "iopub.execute_input": "2021-09-09T00:22:00.310344Z",
     "iopub.status.busy": "2021-09-09T00:22:00.309799Z",
     "iopub.status.idle": "2021-09-09T00:22:00.521112Z",
     "shell.execute_reply": "2021-09-09T00:22:00.521509Z"
    },
    "papermill": {
     "duration": 0.266589,
     "end_time": "2021-09-09T00:22:00.521657",
     "exception": false,
     "start_time": "2021-09-09T00:22:00.255068",
     "status": "completed"
    },
    "tags": []
   },
   "outputs": [
    {
     "data": {
      "text/plain": [
       "<matplotlib.legend.Legend at 0x7f1418da7d68>"
      ]
     },
     "execution_count": 24,
     "metadata": {},
     "output_type": "execute_result"
    },
    {
     "data": {
      "image/png": "[encoded data removed]",
      "text/plain": [
       "<Figure size 1080x720 with 1 Axes>"
      ]
     },
     "metadata": {
      "needs_background": "light"
     },
     "output_type": "display_data"
    }
   ],
   "source": [
    "#comparing the results of NN and LR\n",
    "plt.figure(figsize=(15,10))\n",
    "\n",
    "# Neural Network plots\n",
    "plt.plot(acc_nn.accuracies, 'r-', label = \"Training Accuracies - NN\")\n",
    "plt.plot(acc_nn.test_accuracies, 'g-', label = \"Testing Accuracies - NN\")\n",
    "\n",
    "# Logistic Regression plots\n",
    "plt.plot(acc_lr.accuracies, 'k-', label = \"Training Accuracies - LR\")\n",
    "plt.plot(acc_lr.test_accuracies, 'b-', label = \"Testing Accuracies - LR\")\n",
    "plt.legend()"
   ]
  },
  {
   "cell_type": "markdown",
   "id": "80dfb35c",
   "metadata": {
    "papermill": {
     "duration": 0.041798,
     "end_time": "2021-09-09T00:22:00.605806",
     "exception": false,
     "start_time": "2021-09-09T00:22:00.564008",
     "status": "completed"
    },
    "tags": []
   },
   "source": [
    "#### Plotting the outputs of this layer of the NN.\n"
   ]
  },
  {
   "cell_type": "code",
   "execution_count": 25,
   "id": "45eb2ff5",
   "metadata": {
    "execution": {
     "iopub.execute_input": "2021-09-09T00:22:00.694151Z",
     "iopub.status.busy": "2021-09-09T00:22:00.693619Z",
     "iopub.status.idle": "2021-09-09T00:22:00.713588Z",
     "shell.execute_reply": "2021-09-09T00:22:00.714012Z"
    },
    "papermill": {
     "duration": 0.066464,
     "end_time": "2021-09-09T00:22:00.714153",
     "exception": false,
     "start_time": "2021-09-09T00:22:00.647689",
     "status": "completed"
    },
    "tags": []
   },
   "outputs": [],
   "source": [
    "new_model = Model(layers[:-2])\n",
    "testing_plot = new_model(testing_data_x)"
   ]
  },
  {
   "cell_type": "code",
   "execution_count": 26,
   "id": "4c0a5485",
   "metadata": {
    "execution": {
     "iopub.execute_input": "2021-09-09T00:22:00.808681Z",
     "iopub.status.busy": "2021-09-09T00:22:00.808169Z",
     "iopub.status.idle": "2021-09-09T00:22:01.006366Z",
     "shell.execute_reply": "2021-09-09T00:22:01.005907Z"
    },
    "papermill": {
     "duration": 0.245925,
     "end_time": "2021-09-09T00:22:01.006490",
     "exception": false,
     "start_time": "2021-09-09T00:22:00.760565",
     "status": "completed"
    },
    "tags": []
   },
   "outputs": [
    {
     "data": {
      "text/plain": [
       "Text(0.5, 1.0, 'Outputs')"
      ]
     },
     "execution_count": 26,
     "metadata": {},
     "output_type": "execute_result"
    },
    {
     "data": {
      "image/png": "[encoded data removed]",
      "text/plain": [
       "<Figure size 576x504 with 1 Axes>"
      ]
     },
     "metadata": {
      "needs_background": "light"
     },
     "output_type": "display_data"
    }
   ],
   "source": [
    "# Plotting the scatter plot of points and color coding by class\n",
    "plt.figure(figsize=(8,7))\n",
    "plt.scatter(testing_plot[:,0], testing_plot[:,1], alpha = 0.1, c = y_test.ravel());\n",
    "plt.title('Outputs')"
   ]
  },
  {
   "cell_type": "markdown",
   "id": "a74fcf8f",
   "metadata": {
    "papermill": {
     "duration": 0.043936,
     "end_time": "2021-09-09T00:22:01.095085",
     "exception": false,
     "start_time": "2021-09-09T00:22:01.051149",
     "status": "completed"
    },
    "tags": []
   },
   "source": [
    "Probability contours"
   ]
  },
  {
   "cell_type": "code",
   "execution_count": 27,
   "id": "d0afc8e3",
   "metadata": {
    "execution": {
     "iopub.execute_input": "2021-09-09T00:22:01.188984Z",
     "iopub.status.busy": "2021-09-09T00:22:01.187779Z",
     "iopub.status.idle": "2021-09-09T00:22:01.199035Z",
     "shell.execute_reply": "2021-09-09T00:22:01.199445Z"
    },
    "papermill": {
     "duration": 0.060231,
     "end_time": "2021-09-09T00:22:01.199597",
     "exception": false,
     "start_time": "2021-09-09T00:22:01.139366",
     "status": "completed"
    },
    "tags": []
   },
   "outputs": [],
   "source": [
    "model_prob = Model(layers[-2:]) "
   ]
  },
  {
   "cell_type": "code",
   "execution_count": 28,
   "id": "9b96e238",
   "metadata": {
    "execution": {
     "iopub.execute_input": "2021-09-09T00:22:01.295362Z",
     "iopub.status.busy": "2021-09-09T00:22:01.294802Z",
     "iopub.status.idle": "2021-09-09T00:22:01.308613Z",
     "shell.execute_reply": "2021-09-09T00:22:01.309028Z"
    },
    "papermill": {
     "duration": 0.065133,
     "end_time": "2021-09-09T00:22:01.309173",
     "exception": false,
     "start_time": "2021-09-09T00:22:01.244040",
     "status": "completed"
    },
    "tags": []
   },
   "outputs": [],
   "source": [
    "#creating the x and y ranges according to the above generated plot.\n",
    "x_range = np.linspace(-4, 1, 100) \n",
    "y_range = np.linspace(-6, 6, 100) \n",
    "x_grid, y_grid = np.meshgrid(x_range, y_range) # x_grid and y_grig are of size 100 X 100\n",
    "\n",
    "# converting x_grid and y_grid to continuous arrays\n",
    "x_gridflat = np.ravel(x_grid)\n",
    "y_gridflat = np.ravel(y_grid)\n",
    "\n",
    "# The last layer of the current model takes two columns as input. Hence transpose of np.vstack() is required.\n",
    "X = np.vstack((x_gridflat, y_gridflat)).T\n",
    "\n",
    "prob_contour = model_prob(X).reshape(100,100) "
   ]
  },
  {
   "cell_type": "code",
   "execution_count": 29,
   "id": "da72499a",
   "metadata": {
    "execution": {
     "iopub.execute_input": "2021-09-09T00:22:01.414204Z",
     "iopub.status.busy": "2021-09-09T00:22:01.413683Z",
     "iopub.status.idle": "2021-09-09T00:22:01.659934Z",
     "shell.execute_reply": "2021-09-09T00:22:01.660356Z"
    },
    "papermill": {
     "duration": 0.301742,
     "end_time": "2021-09-09T00:22:01.660500",
     "exception": false,
     "start_time": "2021-09-09T00:22:01.358758",
     "status": "completed"
    },
    "tags": []
   },
   "outputs": [
    {
     "data": {
      "image/png": "[encoded data removed]",
      "text/plain": [
       "<Figure size 720x648 with 1 Axes>"
      ]
     },
     "metadata": {
      "needs_background": "light"
     },
     "output_type": "display_data"
    }
   ],
   "source": [
    "plt.figure(figsize=(10,9))\n",
    "plt.scatter(testing_plot[:,0], testing_plot[:,1], alpha = 0.1, c = y_test.ravel())\n",
    "contours = plt.contour(x_grid,y_grid,prob_contour)\n",
    "plt.title('Probability Contours')\n",
    "plt.clabel(contours, inline = True );"
   ]
  },
  {
   "cell_type": "code",
   "execution_count": null,
   "id": "e81b4ac7",
   "metadata": {
    "papermill": {
     "duration": 0.046438,
     "end_time": "2021-09-09T00:22:01.754148",
     "exception": false,
     "start_time": "2021-09-09T00:22:01.707710",
     "status": "completed"
    },
    "tags": []
   },
   "outputs": [],
   "source": []
  }
 ],
 "metadata": {
  "kernelspec": {
   "display_name": "Python 3",
   "language": "python",
   "name": "python3"
  },
  "language_info": {
   "codemirror_mode": {
    "name": "ipython",
    "version": 3
   },
   "file_extension": ".py",
   "mimetype": "text/x-python",
   "name": "python",
   "nbconvert_exporter": "python",
   "pygments_lexer": "ipython3",
   "version": "3.6.14"
  },
  "papermill": {
   "default_parameters": {},
   "duration": 98.396694,
   "end_time": "2021-09-09T00:22:02.239791",
   "environment_variables": {},
   "exception": null,
   "input_path": "2020-08-11-part2.ipynb",
   "output_path": "2020-08-11-part2.ipynb",
   "parameters": {},
   "start_time": "2021-09-09T00:20:23.843097",
   "version": "2.3.3"
  }
 },
 "nbformat": 4,
 "nbformat_minor": 5
}