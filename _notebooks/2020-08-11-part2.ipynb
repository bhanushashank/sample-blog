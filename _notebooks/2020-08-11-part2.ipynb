{
 "cells": [
  {
   "cell_type": "markdown",
   "id": "98380cd3",
   "metadata": {
    "papermill": {
     "duration": 0.038422,
     "end_time": "2022-11-07T10:11:40.671814",
     "exception": false,
     "start_time": "2022-11-07T10:11:40.633392",
     "status": "completed"
    },
    "tags": []
   },
   "source": [
    "# Distinguish Your Own Digits (DYOD)"
   ]
  },
  {
   "cell_type": "markdown",
   "id": "ef31240d",
   "metadata": {
    "papermill": {
     "duration": 0.028104,
     "end_time": "2022-11-07T10:11:40.728395",
     "exception": false,
     "start_time": "2022-11-07T10:11:40.700291",
     "status": "completed"
    },
    "tags": []
   },
   "source": [
    "You are going to write a classifier that distinguishes between the number 3 and number 8."
   ]
  },
  {
   "cell_type": "code",
   "execution_count": 1,
   "id": "b15c8646",
   "metadata": {
    "execution": {
     "iopub.execute_input": "2022-11-07T10:11:40.799298Z",
     "iopub.status.busy": "2022-11-07T10:11:40.798468Z",
     "iopub.status.idle": "2022-11-07T10:11:40.810414Z",
     "shell.execute_reply": "2022-11-07T10:11:40.810969Z"
    },
    "papermill": {
     "duration": 0.052631,
     "end_time": "2022-11-07T10:11:40.811183",
     "exception": false,
     "start_time": "2022-11-07T10:11:40.758552",
     "status": "completed"
    },
    "tags": []
   },
   "outputs": [],
   "source": [
    "%load_ext autoreload\n",
    "%autoreload 2"
   ]
  },
  {
   "cell_type": "code",
   "execution_count": 2,
   "id": "22ef38dc",
   "metadata": {
    "execution": {
     "iopub.execute_input": "2022-11-07T10:11:40.868817Z",
     "iopub.status.busy": "2022-11-07T10:11:40.867934Z",
     "iopub.status.idle": "2022-11-07T10:11:41.501118Z",
     "shell.execute_reply": "2022-11-07T10:11:41.500463Z"
    },
    "papermill": {
     "duration": 0.661951,
     "end_time": "2022-11-07T10:11:41.501278",
     "exception": false,
     "start_time": "2022-11-07T10:11:40.839327",
     "status": "completed"
    },
    "tags": []
   },
   "outputs": [],
   "source": [
    "%matplotlib inline\n",
    "import numpy as np\n",
    "import matplotlib.pyplot as plt\n",
    "import pandas as pd"
   ]
  },
  {
   "cell_type": "markdown",
   "id": "ba036198",
   "metadata": {
    "papermill": {
     "duration": 0.030683,
     "end_time": "2022-11-07T10:11:41.562175",
     "exception": false,
     "start_time": "2022-11-07T10:11:41.531492",
     "status": "completed"
    },
    "tags": []
   },
   "source": [
    "From the command line run `pip install mnist`. This is a library that will help you bring down the mnist dataset. If you run this from a notebook, you need to put  `!pip install mnist` in a cell by itself."
   ]
  },
  {
   "cell_type": "code",
   "execution_count": 3,
   "id": "bb6ad8a1",
   "metadata": {
    "execution": {
     "iopub.execute_input": "2022-11-07T10:11:41.623693Z",
     "iopub.status.busy": "2022-11-07T10:11:41.622914Z",
     "iopub.status.idle": "2022-11-07T10:11:43.415856Z",
     "shell.execute_reply": "2022-11-07T10:11:43.416314Z"
    },
    "papermill": {
     "duration": 1.827335,
     "end_time": "2022-11-07T10:11:43.416508",
     "exception": false,
     "start_time": "2022-11-07T10:11:41.589173",
     "status": "completed"
    },
    "tags": []
   },
   "outputs": [
    {
     "name": "stdout",
     "output_type": "stream",
     "text": [
      "Collecting mnist\r\n"
     ]
    },
    {
     "name": "stdout",
     "output_type": "stream",
     "text": [
      "  Downloading mnist-0.2.2-py2.py3-none-any.whl (3.5 kB)\r\n"
     ]
    },
    {
     "name": "stdout",
     "output_type": "stream",
     "text": [
      "Requirement already satisfied: numpy in /opt/hostedtoolcache/Python/3.6.15/x64/lib/python3.6/site-packages (from mnist) (1.19.5)\r\n"
     ]
    },
    {
     "name": "stdout",
     "output_type": "stream",
     "text": [
      "Installing collected packages: mnist\r\n"
     ]
    },
    {
     "name": "stdout",
     "output_type": "stream",
     "text": [
      "Successfully installed mnist-0.2.2\r\n"
     ]
    }
   ],
   "source": [
    "!pip install mnist"
   ]
  },
  {
   "cell_type": "markdown",
   "id": "69df9c9a",
   "metadata": {
    "papermill": {
     "duration": 0.028123,
     "end_time": "2022-11-07T10:11:43.473405",
     "exception": false,
     "start_time": "2022-11-07T10:11:43.445282",
     "status": "completed"
    },
    "tags": []
   },
   "source": [
    "## Preparing the Data"
   ]
  },
  {
   "cell_type": "code",
   "execution_count": 4,
   "id": "7f69d806",
   "metadata": {
    "execution": {
     "iopub.execute_input": "2022-11-07T10:11:43.540019Z",
     "iopub.status.busy": "2022-11-07T10:11:43.537203Z",
     "iopub.status.idle": "2022-11-07T10:11:43.553308Z",
     "shell.execute_reply": "2022-11-07T10:11:43.554054Z"
    },
    "papermill": {
     "duration": 0.051897,
     "end_time": "2022-11-07T10:11:43.554196",
     "exception": false,
     "start_time": "2022-11-07T10:11:43.502299",
     "status": "completed"
    },
    "tags": []
   },
   "outputs": [],
   "source": [
    "import mnist"
   ]
  },
  {
   "cell_type": "code",
   "execution_count": 5,
   "id": "a411e44f",
   "metadata": {
    "execution": {
     "iopub.execute_input": "2022-11-07T10:11:43.631123Z",
     "iopub.status.busy": "2022-11-07T10:11:43.623987Z",
     "iopub.status.idle": "2022-11-07T10:11:44.339652Z",
     "shell.execute_reply": "2022-11-07T10:11:44.338862Z"
    },
    "papermill": {
     "duration": 0.755356,
     "end_time": "2022-11-07T10:11:44.339825",
     "exception": false,
     "start_time": "2022-11-07T10:11:43.584469",
     "status": "completed"
    },
    "tags": []
   },
   "outputs": [],
   "source": [
    "train_images = mnist.train_images()\n",
    "train_labels = mnist.train_labels()"
   ]
  },
  {
   "cell_type": "code",
   "execution_count": 6,
   "id": "dceab3a5",
   "metadata": {
    "execution": {
     "iopub.execute_input": "2022-11-07T10:11:44.409836Z",
     "iopub.status.busy": "2022-11-07T10:11:44.406418Z",
     "iopub.status.idle": "2022-11-07T10:11:44.425198Z",
     "shell.execute_reply": "2022-11-07T10:11:44.424612Z"
    },
    "papermill": {
     "duration": 0.055582,
     "end_time": "2022-11-07T10:11:44.425362",
     "exception": false,
     "start_time": "2022-11-07T10:11:44.369780",
     "status": "completed"
    },
    "tags": []
   },
   "outputs": [
    {
     "data": {
      "text/plain": [
       "((60000, 28, 28), (60000,))"
      ]
     },
     "execution_count": 6,
     "metadata": {},
     "output_type": "execute_result"
    }
   ],
   "source": [
    "train_images.shape, train_labels.shape"
   ]
  },
  {
   "cell_type": "code",
   "execution_count": 7,
   "id": "f50dc2bb",
   "metadata": {
    "execution": {
     "iopub.execute_input": "2022-11-07T10:11:44.491836Z",
     "iopub.status.busy": "2022-11-07T10:11:44.490784Z",
     "iopub.status.idle": "2022-11-07T10:11:44.712764Z",
     "shell.execute_reply": "2022-11-07T10:11:44.712042Z"
    },
    "papermill": {
     "duration": 0.257213,
     "end_time": "2022-11-07T10:11:44.712925",
     "exception": false,
     "start_time": "2022-11-07T10:11:44.455712",
     "status": "completed"
    },
    "tags": []
   },
   "outputs": [],
   "source": [
    "test_images = mnist.test_images()\n",
    "test_labels = mnist.test_labels()"
   ]
  },
  {
   "cell_type": "code",
   "execution_count": 8,
   "id": "fc38cf1b",
   "metadata": {
    "execution": {
     "iopub.execute_input": "2022-11-07T10:11:44.778161Z",
     "iopub.status.busy": "2022-11-07T10:11:44.777461Z",
     "iopub.status.idle": "2022-11-07T10:11:44.793150Z",
     "shell.execute_reply": "2022-11-07T10:11:44.793868Z"
    },
    "papermill": {
     "duration": 0.050541,
     "end_time": "2022-11-07T10:11:44.793989",
     "exception": false,
     "start_time": "2022-11-07T10:11:44.743448",
     "status": "completed"
    },
    "tags": []
   },
   "outputs": [
    {
     "data": {
      "text/plain": [
       "((10000, 28, 28), (10000,))"
      ]
     },
     "execution_count": 8,
     "metadata": {},
     "output_type": "execute_result"
    }
   ],
   "source": [
    "test_images.shape, test_labels.shape"
   ]
  },
  {
   "cell_type": "code",
   "execution_count": 9,
   "id": "f9ed8fe0",
   "metadata": {
    "execution": {
     "iopub.execute_input": "2022-11-07T10:11:44.861776Z",
     "iopub.status.busy": "2022-11-07T10:11:44.861000Z",
     "iopub.status.idle": "2022-11-07T10:11:45.046653Z",
     "shell.execute_reply": "2022-11-07T10:11:45.047389Z"
    },
    "papermill": {
     "duration": 0.22217,
     "end_time": "2022-11-07T10:11:45.047595",
     "exception": false,
     "start_time": "2022-11-07T10:11:44.825425",
     "status": "completed"
    },
    "tags": []
   },
   "outputs": [
    {
     "name": "stdout",
     "output_type": "stream",
     "text": [
      "2\n"
     ]
    },
    {
     "data": {
      "text/plain": [
       "<matplotlib.image.AxesImage at 0x7fb552981d68>"
      ]
     },
     "execution_count": 9,
     "metadata": {},
     "output_type": "execute_result"
    },
    {
     "data": {
      "image/png": "[encoded data removed]",
      "text/plain": [
       "<Figure size 432x288 with 1 Axes>"
      ]
     },
     "metadata": {
      "needs_background": "light"
     },
     "output_type": "display_data"
    }
   ],
   "source": [
    "image_index = 7776 # You may select anything up to 60,000\n",
    "print(train_labels[image_index]) \n",
    "plt.imshow(train_images[image_index], cmap='Greys')"
   ]
  },
  {
   "cell_type": "markdown",
   "id": "a8d2388d",
   "metadata": {
    "papermill": {
     "duration": 0.030535,
     "end_time": "2022-11-07T10:11:45.111975",
     "exception": false,
     "start_time": "2022-11-07T10:11:45.081440",
     "status": "completed"
    },
    "tags": []
   },
   "source": [
    "## Filter data to get 3 and 8 out"
   ]
  },
  {
   "cell_type": "code",
   "execution_count": 10,
   "id": "776f7fc7",
   "metadata": {
    "execution": {
     "iopub.execute_input": "2022-11-07T10:11:45.182243Z",
     "iopub.status.busy": "2022-11-07T10:11:45.181557Z",
     "iopub.status.idle": "2022-11-07T10:11:45.200565Z",
     "shell.execute_reply": "2022-11-07T10:11:45.199847Z"
    },
    "papermill": {
     "duration": 0.0543,
     "end_time": "2022-11-07T10:11:45.200758",
     "exception": false,
     "start_time": "2022-11-07T10:11:45.146458",
     "status": "completed"
    },
    "tags": []
   },
   "outputs": [],
   "source": [
    "train_filter = np.where((train_labels == 3 ) | (train_labels == 8))\n",
    "test_filter = np.where((test_labels == 3) | (test_labels == 8))\n",
    "X_train, y_train = train_images[train_filter], train_labels[train_filter]\n",
    "X_test, y_test = test_images[test_filter], test_labels[test_filter]"
   ]
  },
  {
   "cell_type": "markdown",
   "id": "948f0b7e",
   "metadata": {
    "papermill": {
     "duration": 0.027848,
     "end_time": "2022-11-07T10:11:45.260497",
     "exception": false,
     "start_time": "2022-11-07T10:11:45.232649",
     "status": "completed"
    },
    "tags": []
   },
   "source": [
    "We normalize the pizel values in the 0 to 1 range"
   ]
  },
  {
   "cell_type": "code",
   "execution_count": 11,
   "id": "ee4c2166",
   "metadata": {
    "execution": {
     "iopub.execute_input": "2022-11-07T10:11:45.323813Z",
     "iopub.status.busy": "2022-11-07T10:11:45.323192Z",
     "iopub.status.idle": "2022-11-07T10:11:45.377736Z",
     "shell.execute_reply": "2022-11-07T10:11:45.378320Z"
    },
    "papermill": {
     "duration": 0.087986,
     "end_time": "2022-11-07T10:11:45.378498",
     "exception": false,
     "start_time": "2022-11-07T10:11:45.290512",
     "status": "completed"
    },
    "tags": []
   },
   "outputs": [],
   "source": [
    "X_train = X_train/255.\n",
    "X_test = X_test/255."
   ]
  },
  {
   "cell_type": "markdown",
   "id": "ddcf4fab",
   "metadata": {
    "papermill": {
     "duration": 0.027823,
     "end_time": "2022-11-07T10:11:45.437075",
     "exception": false,
     "start_time": "2022-11-07T10:11:45.409252",
     "status": "completed"
    },
    "tags": []
   },
   "source": [
    "And setup the labels as 1 (when the digit is 3) and 0 (when the digit is 8)"
   ]
  },
  {
   "cell_type": "code",
   "execution_count": 12,
   "id": "7dc908f2",
   "metadata": {
    "execution": {
     "iopub.execute_input": "2022-11-07T10:11:45.504915Z",
     "iopub.status.busy": "2022-11-07T10:11:45.504253Z",
     "iopub.status.idle": "2022-11-07T10:11:45.517694Z",
     "shell.execute_reply": "2022-11-07T10:11:45.517082Z"
    },
    "papermill": {
     "duration": 0.04999,
     "end_time": "2022-11-07T10:11:45.517830",
     "exception": false,
     "start_time": "2022-11-07T10:11:45.467840",
     "status": "completed"
    },
    "tags": []
   },
   "outputs": [],
   "source": [
    "y_train = 1*(y_train==3)\n",
    "y_test = 1*(y_test==3)"
   ]
  },
  {
   "cell_type": "code",
   "execution_count": 13,
   "id": "01e4e969",
   "metadata": {
    "execution": {
     "iopub.execute_input": "2022-11-07T10:11:45.583952Z",
     "iopub.status.busy": "2022-11-07T10:11:45.583318Z",
     "iopub.status.idle": "2022-11-07T10:11:45.597246Z",
     "shell.execute_reply": "2022-11-07T10:11:45.596521Z"
    },
    "papermill": {
     "duration": 0.050263,
     "end_time": "2022-11-07T10:11:45.597367",
     "exception": false,
     "start_time": "2022-11-07T10:11:45.547104",
     "status": "completed"
    },
    "tags": []
   },
   "outputs": [
    {
     "data": {
      "text/plain": [
       "((11982, 28, 28), (1984, 28, 28))"
      ]
     },
     "execution_count": 13,
     "metadata": {},
     "output_type": "execute_result"
    }
   ],
   "source": [
    "X_train.shape, X_test.shape"
   ]
  },
  {
   "cell_type": "markdown",
   "id": "5ccf3f85",
   "metadata": {
    "papermill": {
     "duration": 0.02952,
     "end_time": "2022-11-07T10:11:45.657017",
     "exception": false,
     "start_time": "2022-11-07T10:11:45.627497",
     "status": "completed"
    },
    "tags": []
   },
   "source": [
    "We reshape the data to flatten the image pixels into a set of features or co-variates:"
   ]
  },
  {
   "cell_type": "code",
   "execution_count": 14,
   "id": "5286a4a3",
   "metadata": {
    "execution": {
     "iopub.execute_input": "2022-11-07T10:11:45.720475Z",
     "iopub.status.busy": "2022-11-07T10:11:45.719876Z",
     "iopub.status.idle": "2022-11-07T10:11:45.735119Z",
     "shell.execute_reply": "2022-11-07T10:11:45.735755Z"
    },
    "papermill": {
     "duration": 0.048876,
     "end_time": "2022-11-07T10:11:45.735896",
     "exception": false,
     "start_time": "2022-11-07T10:11:45.687020",
     "status": "completed"
    },
    "tags": []
   },
   "outputs": [
    {
     "data": {
      "text/plain": [
       "((11982, 784), (1984, 784))"
      ]
     },
     "execution_count": 14,
     "metadata": {},
     "output_type": "execute_result"
    }
   ],
   "source": [
    "X_train = X_train.reshape(X_train.shape[0], -1)\n",
    "X_test = X_test.reshape(X_test.shape[0], -1)\n",
    "X_train.shape, X_test.shape"
   ]
  },
  {
   "cell_type": "code",
   "execution_count": 15,
   "id": "73c5f88a",
   "metadata": {
    "execution": {
     "iopub.execute_input": "2022-11-07T10:11:45.797834Z",
     "iopub.status.busy": "2022-11-07T10:11:45.797099Z",
     "iopub.status.idle": "2022-11-07T10:11:45.818393Z",
     "shell.execute_reply": "2022-11-07T10:11:45.817818Z"
    },
    "papermill": {
     "duration": 0.05503,
     "end_time": "2022-11-07T10:11:45.818517",
     "exception": false,
     "start_time": "2022-11-07T10:11:45.763487",
     "status": "completed"
    },
    "tags": []
   },
   "outputs": [],
   "source": [
    "#Impoting functions from 'Kudzu'\n",
    "from kudzu.model import Model\n",
    "from kudzu.train import Learner\n",
    "from kudzu.optim import GD\n",
    "from kudzu.data import Data, Sampler,Dataloader\n",
    "\n",
    "from kudzu.callbacks import AccCallback\n",
    "from kudzu.callbacks import ClfCallback\n",
    "\n",
    "from kudzu.loss import MSE\n",
    "\n",
    "from kudzu.layer import Sigmoid,Relu\n",
    "from kudzu.layer import Affine"
   ]
  },
  {
   "cell_type": "markdown",
   "id": "bc01172a",
   "metadata": {
    "papermill": {
     "duration": 0.032038,
     "end_time": "2022-11-07T10:11:45.880939",
     "exception": false,
     "start_time": "2022-11-07T10:11:45.848901",
     "status": "completed"
    },
    "tags": []
   },
   "source": [
    "### Let us create a `Config` class, to store important parameters. \n",
    "This class essentially plays the role of a dictionary."
   ]
  },
  {
   "cell_type": "code",
   "execution_count": 16,
   "id": "978281aa",
   "metadata": {
    "execution": {
     "iopub.execute_input": "2022-11-07T10:11:45.964013Z",
     "iopub.status.busy": "2022-11-07T10:11:45.963289Z",
     "iopub.status.idle": "2022-11-07T10:11:45.977708Z",
     "shell.execute_reply": "2022-11-07T10:11:45.978387Z"
    },
    "papermill": {
     "duration": 0.05243,
     "end_time": "2022-11-07T10:11:45.978532",
     "exception": false,
     "start_time": "2022-11-07T10:11:45.926102",
     "status": "completed"
    },
    "tags": []
   },
   "outputs": [],
   "source": [
    "class Config:\n",
    "    pass\n",
    "config = Config()\n",
    "config.lr = 0.001\n",
    "config.num_epochs = 250\n",
    "config.bs = 50"
   ]
  },
  {
   "cell_type": "markdown",
   "id": "1385fa59",
   "metadata": {
    "papermill": {
     "duration": 0.034427,
     "end_time": "2022-11-07T10:11:46.046832",
     "exception": false,
     "start_time": "2022-11-07T10:11:46.012405",
     "status": "completed"
    },
    "tags": []
   },
   "source": [
    "### Running Models with the Training data\n",
    "Details about the network layers:\n",
    "- A first affine layer has 784 inputs and does 100 affine transforms. These are followed by a Relu\n",
    "- A second affine layer has 100 inputs from the 100 activations of the past layer, and does 100 affine transforms. These are followed by a Relu\n",
    "- A third affine layer has 100 activations and does 2 affine transformations to create an embedding for visualization. There is no non-linearity here.\n",
    "- A final \"logistic regression\" which has an affine transform from 2 inputs to 1 output, which is squeezed through a sigmoid.\n"
   ]
  },
  {
   "cell_type": "code",
   "execution_count": 17,
   "id": "2b9c66db",
   "metadata": {
    "execution": {
     "iopub.execute_input": "2022-11-07T10:11:46.121008Z",
     "iopub.status.busy": "2022-11-07T10:11:46.120286Z",
     "iopub.status.idle": "2022-11-07T10:11:46.139338Z",
     "shell.execute_reply": "2022-11-07T10:11:46.138544Z"
    },
    "papermill": {
     "duration": 0.058308,
     "end_time": "2022-11-07T10:11:46.139548",
     "exception": false,
     "start_time": "2022-11-07T10:11:46.081240",
     "status": "completed"
    },
    "tags": []
   },
   "outputs": [],
   "source": [
    "data = Data(X_train, y_train.reshape(-1,1))\n",
    "sampler = Sampler(data, config.bs, shuffle=True)\n",
    "\n",
    "dl = Dataloader(data, sampler)\n",
    "\n",
    "opt = GD(config.lr)\n",
    "loss = MSE()"
   ]
  },
  {
   "cell_type": "code",
   "execution_count": 18,
   "id": "b275e4c2",
   "metadata": {
    "execution": {
     "iopub.execute_input": "2022-11-07T10:11:46.210603Z",
     "iopub.status.busy": "2022-11-07T10:11:46.209166Z",
     "iopub.status.idle": "2022-11-07T10:11:46.223702Z",
     "shell.execute_reply": "2022-11-07T10:11:46.224293Z"
    },
    "papermill": {
     "duration": 0.052162,
     "end_time": "2022-11-07T10:11:46.224427",
     "exception": false,
     "start_time": "2022-11-07T10:11:46.172265",
     "status": "completed"
    },
    "tags": []
   },
   "outputs": [],
   "source": [
    "training_data_x = X_train\n",
    "testing_data_x = X_test\n",
    "training_data_y = y_train.reshape(-1,1)\n",
    "testing_data_y = y_test.reshape(-1,1)"
   ]
  },
  {
   "cell_type": "code",
   "execution_count": 19,
   "id": "76951160",
   "metadata": {
    "execution": {
     "iopub.execute_input": "2022-11-07T10:11:46.304218Z",
     "iopub.status.busy": "2022-11-07T10:11:46.303511Z",
     "iopub.status.idle": "2022-11-07T10:11:46.321807Z",
     "shell.execute_reply": "2022-11-07T10:11:46.321200Z"
    },
    "papermill": {
     "duration": 0.063423,
     "end_time": "2022-11-07T10:11:46.321928",
     "exception": false,
     "start_time": "2022-11-07T10:11:46.258505",
     "status": "completed"
    },
    "tags": []
   },
   "outputs": [
    {
     "name": "stdout",
     "output_type": "stream",
     "text": [
      "xavier\n",
      "xavier\n",
      "xavier\n",
      "xavier\n",
      "xavier\n"
     ]
    }
   ],
   "source": [
    "layers = [Affine(\"first\", 784, 100), Relu(\"first\"), Affine(\"second\", 100, 100), Relu(\"second\"), Affine(\"third\", 100, 2), Affine(\"last\", 2, 1), Sigmoid(\"last\")]\n",
    "model_nn = Model(layers)\n",
    "model_lr = Model([Affine(\"logits\", 784, 1), Sigmoid(\"sigmoid\")])"
   ]
  },
  {
   "cell_type": "code",
   "execution_count": 20,
   "id": "6eede77a",
   "metadata": {
    "execution": {
     "iopub.execute_input": "2022-11-07T10:11:46.395474Z",
     "iopub.status.busy": "2022-11-07T10:11:46.394790Z",
     "iopub.status.idle": "2022-11-07T10:11:46.407836Z",
     "shell.execute_reply": "2022-11-07T10:11:46.408387Z"
    },
    "papermill": {
     "duration": 0.054595,
     "end_time": "2022-11-07T10:11:46.408579",
     "exception": false,
     "start_time": "2022-11-07T10:11:46.353984",
     "status": "completed"
    },
    "tags": []
   },
   "outputs": [],
   "source": [
    "nn_learner = Learner(loss, model_nn, opt, config.num_epochs)\n",
    "acc_nn = ClfCallback(nn_learner, config.bs, training_data_x , testing_data_x, training_data_y, testing_data_y)\n",
    "nn_learner.set_callbacks([acc_nn])"
   ]
  },
  {
   "cell_type": "code",
   "execution_count": 21,
   "id": "877b6cc7",
   "metadata": {
    "execution": {
     "iopub.execute_input": "2022-11-07T10:11:46.496078Z",
     "iopub.status.busy": "2022-11-07T10:11:46.493999Z",
     "iopub.status.idle": "2022-11-07T10:11:46.504392Z",
     "shell.execute_reply": "2022-11-07T10:11:46.504897Z"
    },
    "papermill": {
     "duration": 0.064048,
     "end_time": "2022-11-07T10:11:46.505026",
     "exception": false,
     "start_time": "2022-11-07T10:11:46.440978",
     "status": "completed"
    },
    "tags": []
   },
   "outputs": [],
   "source": [
    "lr_learner = Learner(loss, model_lr, opt, config.num_epochs)\n",
    "acc_lr = ClfCallback(lr_learner, config.bs, training_data_x , testing_data_x, training_data_y, testing_data_y)\n",
    "lr_learner.set_callbacks([acc_lr])"
   ]
  },
  {
   "cell_type": "code",
   "execution_count": 22,
   "id": "d9b133c3",
   "metadata": {
    "execution": {
     "iopub.execute_input": "2022-11-07T10:11:46.583081Z",
     "iopub.status.busy": "2022-11-07T10:11:46.572839Z",
     "iopub.status.idle": "2022-11-07T10:14:07.576478Z",
     "shell.execute_reply": "2022-11-07T10:14:07.577411Z"
    },
    "papermill": {
     "duration": 141.042169,
     "end_time": "2022-11-07T10:14:07.577573",
     "exception": false,
     "start_time": "2022-11-07T10:11:46.535404",
     "status": "completed"
    },
    "tags": []
   },
   "outputs": [
    {
     "name": "stdout",
     "output_type": "stream",
     "text": [
      "Epoch 0, Loss 0.2558\n",
      "Training Accuracy: 0.4929, Testing Accuracy: 0.4945\n",
      "\n"
     ]
    },
    {
     "name": "stdout",
     "output_type": "stream",
     "text": [
      "Epoch 10, Loss 0.1427\n",
      "Training Accuracy: 0.8988, Testing Accuracy: 0.9118\n",
      "\n"
     ]
    },
    {
     "name": "stdout",
     "output_type": "stream",
     "text": [
      "Epoch 20, Loss 0.0751\n",
      "Training Accuracy: 0.9272, Testing Accuracy: 0.9370\n",
      "\n"
     ]
    },
    {
     "name": "stdout",
     "output_type": "stream",
     "text": [
      "Epoch 30, Loss 0.0541\n",
      "Training Accuracy: 0.9436, Testing Accuracy: 0.9546\n",
      "\n"
     ]
    },
    {
     "name": "stdout",
     "output_type": "stream",
     "text": [
      "Epoch 40, Loss 0.0447\n",
      "Training Accuracy: 0.9514, Testing Accuracy: 0.9592\n",
      "\n"
     ]
    },
    {
     "name": "stdout",
     "output_type": "stream",
     "text": [
      "Epoch 50, Loss 0.0395\n",
      "Training Accuracy: 0.9551, Testing Accuracy: 0.9662\n",
      "\n"
     ]
    },
    {
     "name": "stdout",
     "output_type": "stream",
     "text": [
      "Epoch 60, Loss 0.0361\n",
      "Training Accuracy: 0.9587, Testing Accuracy: 0.9672\n",
      "\n"
     ]
    },
    {
     "name": "stdout",
     "output_type": "stream",
     "text": [
      "Epoch 70, Loss 0.0337\n",
      "Training Accuracy: 0.9604, Testing Accuracy: 0.9688\n",
      "\n"
     ]
    },
    {
     "name": "stdout",
     "output_type": "stream",
     "text": [
      "Epoch 80, Loss 0.0319\n",
      "Training Accuracy: 0.9633, Testing Accuracy: 0.9688\n",
      "\n"
     ]
    },
    {
     "name": "stdout",
     "output_type": "stream",
     "text": [
      "Epoch 90, Loss 0.0304\n",
      "Training Accuracy: 0.9646, Testing Accuracy: 0.9708\n",
      "\n"
     ]
    },
    {
     "name": "stdout",
     "output_type": "stream",
     "text": [
      "Epoch 100, Loss 0.0291\n",
      "Training Accuracy: 0.9664, Testing Accuracy: 0.9728\n",
      "\n"
     ]
    },
    {
     "name": "stdout",
     "output_type": "stream",
     "text": [
      "Epoch 110, Loss 0.0281\n",
      "Training Accuracy: 0.9673, Testing Accuracy: 0.9743\n",
      "\n"
     ]
    },
    {
     "name": "stdout",
     "output_type": "stream",
     "text": [
      "Epoch 120, Loss 0.0271\n",
      "Training Accuracy: 0.9685, Testing Accuracy: 0.9748\n",
      "\n"
     ]
    },
    {
     "name": "stdout",
     "output_type": "stream",
     "text": [
      "Epoch 130, Loss 0.0263\n",
      "Training Accuracy: 0.9694, Testing Accuracy: 0.9758\n",
      "\n"
     ]
    },
    {
     "name": "stdout",
     "output_type": "stream",
     "text": [
      "Epoch 140, Loss 0.0256\n",
      "Training Accuracy: 0.9698, Testing Accuracy: 0.9753\n",
      "\n"
     ]
    },
    {
     "name": "stdout",
     "output_type": "stream",
     "text": [
      "Epoch 150, Loss 0.0249\n",
      "Training Accuracy: 0.9705, Testing Accuracy: 0.9753\n",
      "\n"
     ]
    },
    {
     "name": "stdout",
     "output_type": "stream",
     "text": [
      "Epoch 160, Loss 0.0243\n",
      "Training Accuracy: 0.9709, Testing Accuracy: 0.9753\n",
      "\n"
     ]
    },
    {
     "name": "stdout",
     "output_type": "stream",
     "text": [
      "Epoch 170, Loss 0.0237\n",
      "Training Accuracy: 0.9719, Testing Accuracy: 0.9743\n",
      "\n"
     ]
    },
    {
     "name": "stdout",
     "output_type": "stream",
     "text": [
      "Epoch 180, Loss 0.0232\n",
      "Training Accuracy: 0.9725, Testing Accuracy: 0.9748\n",
      "\n"
     ]
    },
    {
     "name": "stdout",
     "output_type": "stream",
     "text": [
      "Epoch 190, Loss 0.0227\n",
      "Training Accuracy: 0.9731, Testing Accuracy: 0.9748\n",
      "\n"
     ]
    },
    {
     "name": "stdout",
     "output_type": "stream",
     "text": [
      "Epoch 200, Loss 0.0222\n",
      "Training Accuracy: 0.9737, Testing Accuracy: 0.9748\n",
      "\n"
     ]
    },
    {
     "name": "stdout",
     "output_type": "stream",
     "text": [
      "Epoch 210, Loss 0.0217\n",
      "Training Accuracy: 0.9745, Testing Accuracy: 0.9748\n",
      "\n"
     ]
    },
    {
     "name": "stdout",
     "output_type": "stream",
     "text": [
      "Epoch 220, Loss 0.0213\n",
      "Training Accuracy: 0.9747, Testing Accuracy: 0.9748\n",
      "\n"
     ]
    },
    {
     "name": "stdout",
     "output_type": "stream",
     "text": [
      "Epoch 230, Loss 0.0209\n",
      "Training Accuracy: 0.9753, Testing Accuracy: 0.9753\n",
      "\n"
     ]
    },
    {
     "name": "stdout",
     "output_type": "stream",
     "text": [
      "Epoch 240, Loss 0.0205\n",
      "Training Accuracy: 0.9758, Testing Accuracy: 0.9753\n",
      "\n"
     ]
    },
    {
     "data": {
      "text/plain": [
       "0.027650359813194435"
      ]
     },
     "execution_count": 22,
     "metadata": {},
     "output_type": "execute_result"
    }
   ],
   "source": [
    "nn_learner.train_loop(dl)"
   ]
  },
  {
   "cell_type": "code",
   "execution_count": 23,
   "id": "e0163366",
   "metadata": {
    "execution": {
     "iopub.execute_input": "2022-11-07T10:14:07.677035Z",
     "iopub.status.busy": "2022-11-07T10:14:07.676269Z",
     "iopub.status.idle": "2022-11-07T10:14:28.030700Z",
     "shell.execute_reply": "2022-11-07T10:14:28.031814Z"
    },
    "papermill": {
     "duration": 20.410664,
     "end_time": "2022-11-07T10:14:28.031965",
     "exception": false,
     "start_time": "2022-11-07T10:14:07.621301",
     "status": "completed"
    },
    "tags": []
   },
   "outputs": [
    {
     "name": "stdout",
     "output_type": "stream",
     "text": [
      "Epoch 0, Loss 0.194\n",
      "Training Accuracy: 0.8359, Testing Accuracy: 0.8564\n",
      "\n"
     ]
    },
    {
     "name": "stdout",
     "output_type": "stream",
     "text": [
      "Epoch 10, Loss 0.0972\n",
      "Training Accuracy: 0.9165, Testing Accuracy: 0.9325\n",
      "\n"
     ]
    },
    {
     "name": "stdout",
     "output_type": "stream",
     "text": [
      "Epoch 20, Loss 0.0769\n",
      "Training Accuracy: 0.9301, Testing Accuracy: 0.9466\n",
      "\n"
     ]
    },
    {
     "name": "stdout",
     "output_type": "stream",
     "text": [
      "Epoch 30, Loss 0.067\n",
      "Training Accuracy: 0.9378, Testing Accuracy: 0.9501\n",
      "\n"
     ]
    },
    {
     "name": "stdout",
     "output_type": "stream",
     "text": [
      "Epoch 40, Loss 0.0609\n",
      "Training Accuracy: 0.9419, Testing Accuracy: 0.9536\n",
      "\n"
     ]
    },
    {
     "name": "stdout",
     "output_type": "stream",
     "text": [
      "Epoch 50, Loss 0.0567\n",
      "Training Accuracy: 0.9448, Testing Accuracy: 0.9567\n",
      "\n"
     ]
    },
    {
     "name": "stdout",
     "output_type": "stream",
     "text": [
      "Epoch 60, Loss 0.0535\n",
      "Training Accuracy: 0.9473, Testing Accuracy: 0.9587\n",
      "\n"
     ]
    },
    {
     "name": "stdout",
     "output_type": "stream",
     "text": [
      "Epoch 70, Loss 0.051\n",
      "Training Accuracy: 0.9489, Testing Accuracy: 0.9592\n",
      "\n"
     ]
    },
    {
     "name": "stdout",
     "output_type": "stream",
     "text": [
      "Epoch 80, Loss 0.049\n",
      "Training Accuracy: 0.9511, Testing Accuracy: 0.9622\n",
      "\n"
     ]
    },
    {
     "name": "stdout",
     "output_type": "stream",
     "text": [
      "Epoch 90, Loss 0.0474\n",
      "Training Accuracy: 0.9521, Testing Accuracy: 0.9642\n",
      "\n"
     ]
    },
    {
     "name": "stdout",
     "output_type": "stream",
     "text": [
      "Epoch 100, Loss 0.046\n",
      "Training Accuracy: 0.9533, Testing Accuracy: 0.9647\n",
      "\n"
     ]
    },
    {
     "name": "stdout",
     "output_type": "stream",
     "text": [
      "Epoch 110, Loss 0.0448\n",
      "Training Accuracy: 0.9544, Testing Accuracy: 0.9662\n",
      "\n"
     ]
    },
    {
     "name": "stdout",
     "output_type": "stream",
     "text": [
      "Epoch 120, Loss 0.0437\n",
      "Training Accuracy: 0.9550, Testing Accuracy: 0.9647\n",
      "\n"
     ]
    },
    {
     "name": "stdout",
     "output_type": "stream",
     "text": [
      "Epoch 130, Loss 0.0428\n",
      "Training Accuracy: 0.9553, Testing Accuracy: 0.9652\n",
      "\n"
     ]
    },
    {
     "name": "stdout",
     "output_type": "stream",
     "text": [
      "Epoch 140, Loss 0.042\n",
      "Training Accuracy: 0.9564, Testing Accuracy: 0.9647\n",
      "\n"
     ]
    },
    {
     "name": "stdout",
     "output_type": "stream",
     "text": [
      "Epoch 150, Loss 0.0412\n",
      "Training Accuracy: 0.9569, Testing Accuracy: 0.9647\n",
      "\n"
     ]
    },
    {
     "name": "stdout",
     "output_type": "stream",
     "text": [
      "Epoch 160, Loss 0.0405\n",
      "Training Accuracy: 0.9576, Testing Accuracy: 0.9647\n",
      "\n"
     ]
    },
    {
     "name": "stdout",
     "output_type": "stream",
     "text": [
      "Epoch 170, Loss 0.0399\n",
      "Training Accuracy: 0.9579, Testing Accuracy: 0.9642\n",
      "\n"
     ]
    },
    {
     "name": "stdout",
     "output_type": "stream",
     "text": [
      "Epoch 180, Loss 0.0394\n",
      "Training Accuracy: 0.9584, Testing Accuracy: 0.9647\n",
      "\n"
     ]
    },
    {
     "name": "stdout",
     "output_type": "stream",
     "text": [
      "Epoch 190, Loss 0.0388\n",
      "Training Accuracy: 0.9589, Testing Accuracy: 0.9652\n",
      "\n"
     ]
    },
    {
     "name": "stdout",
     "output_type": "stream",
     "text": [
      "Epoch 200, Loss 0.0384\n",
      "Training Accuracy: 0.9596, Testing Accuracy: 0.9647\n",
      "\n"
     ]
    },
    {
     "name": "stdout",
     "output_type": "stream",
     "text": [
      "Epoch 210, Loss 0.0379\n",
      "Training Accuracy: 0.9598, Testing Accuracy: 0.9647\n",
      "\n"
     ]
    },
    {
     "name": "stdout",
     "output_type": "stream",
     "text": [
      "Epoch 220, Loss 0.0375\n",
      "Training Accuracy: 0.9600, Testing Accuracy: 0.9647\n",
      "\n"
     ]
    },
    {
     "name": "stdout",
     "output_type": "stream",
     "text": [
      "Epoch 230, Loss 0.0371\n",
      "Training Accuracy: 0.9608, Testing Accuracy: 0.9647\n",
      "\n"
     ]
    },
    {
     "name": "stdout",
     "output_type": "stream",
     "text": [
      "Epoch 240, Loss 0.0368\n",
      "Training Accuracy: 0.9610, Testing Accuracy: 0.9652\n",
      "\n"
     ]
    },
    {
     "data": {
      "text/plain": [
       "0.03173696644727027"
      ]
     },
     "execution_count": 23,
     "metadata": {},
     "output_type": "execute_result"
    }
   ],
   "source": [
    "lr_learner.train_loop(dl)"
   ]
  },
  {
   "cell_type": "code",
   "execution_count": 24,
   "id": "ca410940",
   "metadata": {
    "execution": {
     "iopub.execute_input": "2022-11-07T10:14:28.140382Z",
     "iopub.status.busy": "2022-11-07T10:14:28.139621Z",
     "iopub.status.idle": "2022-11-07T10:14:28.432969Z",
     "shell.execute_reply": "2022-11-07T10:14:28.432465Z"
    },
    "papermill": {
     "duration": 0.347777,
     "end_time": "2022-11-07T10:14:28.433095",
     "exception": false,
     "start_time": "2022-11-07T10:14:28.085318",
     "status": "completed"
    },
    "tags": []
   },
   "outputs": [
    {
     "data": {
      "text/plain": [
       "<matplotlib.legend.Legend at 0x7fb545d43550>"
      ]
     },
     "execution_count": 24,
     "metadata": {},
     "output_type": "execute_result"
    },
    {
     "data": {
      "image/png": "[encoded data removed]",
      "text/plain": [
       "<Figure size 1080x720 with 1 Axes>"
      ]
     },
     "metadata": {
      "needs_background": "light"
     },
     "output_type": "display_data"
    }
   ],
   "source": [
    "#comparing the results of NN and LR\n",
    "plt.figure(figsize=(15,10))\n",
    "\n",
    "# Neural Network plots\n",
    "plt.plot(acc_nn.accuracies, 'r-', label = \"Training Accuracies - NN\")\n",
    "plt.plot(acc_nn.test_accuracies, 'g-', label = \"Testing Accuracies - NN\")\n",
    "\n",
    "# Logistic Regression plots\n",
    "plt.plot(acc_lr.accuracies, 'k-', label = \"Training Accuracies - LR\")\n",
    "plt.plot(acc_lr.test_accuracies, 'b-', label = \"Testing Accuracies - LR\")\n",
    "plt.legend()"
   ]
  },
  {
   "cell_type": "markdown",
   "id": "80dfb35c",
   "metadata": {
    "papermill": {
     "duration": 0.048722,
     "end_time": "2022-11-07T10:14:28.532096",
     "exception": false,
     "start_time": "2022-11-07T10:14:28.483374",
     "status": "completed"
    },
    "tags": []
   },
   "source": [
    "#### Plotting the outputs of this layer of the NN.\n"
   ]
  },
  {
   "cell_type": "code",
   "execution_count": 25,
   "id": "45eb2ff5",
   "metadata": {
    "execution": {
     "iopub.execute_input": "2022-11-07T10:14:28.638816Z",
     "iopub.status.busy": "2022-11-07T10:14:28.637905Z",
     "iopub.status.idle": "2022-11-07T10:14:28.663789Z",
     "shell.execute_reply": "2022-11-07T10:14:28.664250Z"
    },
    "papermill": {
     "duration": 0.083044,
     "end_time": "2022-11-07T10:14:28.664384",
     "exception": false,
     "start_time": "2022-11-07T10:14:28.581340",
     "status": "completed"
    },
    "tags": []
   },
   "outputs": [],
   "source": [
    "new_model = Model(layers[:-2])\n",
    "testing_plot = new_model(testing_data_x)"
   ]
  },
  {
   "cell_type": "code",
   "execution_count": 26,
   "id": "4c0a5485",
   "metadata": {
    "execution": {
     "iopub.execute_input": "2022-11-07T10:14:28.774516Z",
     "iopub.status.busy": "2022-11-07T10:14:28.773843Z",
     "iopub.status.idle": "2022-11-07T10:14:29.006435Z",
     "shell.execute_reply": "2022-11-07T10:14:29.006903Z"
    },
    "papermill": {
     "duration": 0.286573,
     "end_time": "2022-11-07T10:14:29.007110",
     "exception": false,
     "start_time": "2022-11-07T10:14:28.720537",
     "status": "completed"
    },
    "tags": []
   },
   "outputs": [
    {
     "data": {
      "text/plain": [
       "Text(0.5, 1.0, 'Outputs')"
      ]
     },
     "execution_count": 26,
     "metadata": {},
     "output_type": "execute_result"
    },
    {
     "data": {
      "image/png": "[encoded data removed]",
      "text/plain": [
       "<Figure size 576x504 with 1 Axes>"
      ]
     },
     "metadata": {
      "needs_background": "light"
     },
     "output_type": "display_data"
    }
   ],
   "source": [
    "# Plotting the scatter plot of points and color coding by class\n",
    "plt.figure(figsize=(8,7))\n",
    "plt.scatter(testing_plot[:,0], testing_plot[:,1], alpha = 0.1, c = y_test.ravel());\n",
    "plt.title('Outputs')"
   ]
  },
  {
   "cell_type": "markdown",
   "id": "a74fcf8f",
   "metadata": {
    "papermill": {
     "duration": 0.075338,
     "end_time": "2022-11-07T10:14:29.137125",
     "exception": false,
     "start_time": "2022-11-07T10:14:29.061787",
     "status": "completed"
    },
    "tags": []
   },
   "source": [
    "Probability contours"
   ]
  },
  {
   "cell_type": "code",
   "execution_count": 27,
   "id": "d0afc8e3",
   "metadata": {
    "execution": {
     "iopub.execute_input": "2022-11-07T10:14:29.236459Z",
     "iopub.status.busy": "2022-11-07T10:14:29.235782Z",
     "iopub.status.idle": "2022-11-07T10:14:29.247602Z",
     "shell.execute_reply": "2022-11-07T10:14:29.248104Z"
    },
    "papermill": {
     "duration": 0.063733,
     "end_time": "2022-11-07T10:14:29.248224",
     "exception": false,
     "start_time": "2022-11-07T10:14:29.184491",
     "status": "completed"
    },
    "tags": []
   },
   "outputs": [],
   "source": [
    "model_prob = Model(layers[-2:]) "
   ]
  },
  {
   "cell_type": "code",
   "execution_count": 28,
   "id": "9b96e238",
   "metadata": {
    "execution": {
     "iopub.execute_input": "2022-11-07T10:14:29.357312Z",
     "iopub.status.busy": "2022-11-07T10:14:29.356579Z",
     "iopub.status.idle": "2022-11-07T10:14:29.375087Z",
     "shell.execute_reply": "2022-11-07T10:14:29.376281Z"
    },
    "papermill": {
     "duration": 0.079804,
     "end_time": "2022-11-07T10:14:29.376520",
     "exception": false,
     "start_time": "2022-11-07T10:14:29.296716",
     "status": "completed"
    },
    "tags": []
   },
   "outputs": [],
   "source": [
    "#creating the x and y ranges according to the above generated plot.\n",
    "x_range = np.linspace(-4, 1, 100) \n",
    "y_range = np.linspace(-6, 6, 100) \n",
    "x_grid, y_grid = np.meshgrid(x_range, y_range) # x_grid and y_grig are of size 100 X 100\n",
    "\n",
    "# converting x_grid and y_grid to continuous arrays\n",
    "x_gridflat = np.ravel(x_grid)\n",
    "y_gridflat = np.ravel(y_grid)\n",
    "\n",
    "# The last layer of the current model takes two columns as input. Hence transpose of np.vstack() is required.\n",
    "X = np.vstack((x_gridflat, y_gridflat)).T\n",
    "\n",
    "prob_contour = model_prob(X).reshape(100,100) "
   ]
  },
  {
   "cell_type": "code",
   "execution_count": 29,
   "id": "da72499a",
   "metadata": {
    "execution": {
     "iopub.execute_input": "2022-11-07T10:14:29.490608Z",
     "iopub.status.busy": "2022-11-07T10:14:29.489853Z",
     "iopub.status.idle": "2022-11-07T10:14:29.827006Z",
     "shell.execute_reply": "2022-11-07T10:14:29.826478Z"
    },
    "papermill": {
     "duration": 0.398248,
     "end_time": "2022-11-07T10:14:29.827214",
     "exception": false,
     "start_time": "2022-11-07T10:14:29.428966",
     "status": "completed"
    },
    "tags": []
   },
   "outputs": [
    {
     "data": {
      "image/png": "[encoded data removed]",
      "text/plain": [
       "<Figure size 720x648 with 1 Axes>"
      ]
     },
     "metadata": {
      "needs_background": "light"
     },
     "output_type": "display_data"
    }
   ],
   "source": [
    "plt.figure(figsize=(10,9))\n",
    "plt.scatter(testing_plot[:,0], testing_plot[:,1], alpha = 0.1, c = y_test.ravel())\n",
    "contours = plt.contour(x_grid,y_grid,prob_contour)\n",
    "plt.title('Probability Contours')\n",
    "plt.clabel(contours, inline = True );"
   ]
  },
  {
   "cell_type": "code",
   "execution_count": null,
   "id": "e81b4ac7",
   "metadata": {
    "papermill": {
     "duration": 0.054889,
     "end_time": "2022-11-07T10:14:29.936754",
     "exception": false,
     "start_time": "2022-11-07T10:14:29.881865",
     "status": "completed"
    },
    "tags": []
   },
   "outputs": [],
   "source": []
  }
 ],
 "metadata": {
  "kernelspec": {
   "display_name": "Python 3",
   "language": "python",
   "name": "python3"
  },
  "language_info": {
   "codemirror_mode": {
    "name": "ipython",
    "version": 3
   },
   "file_extension": ".py",
   "mimetype": "text/x-python",
   "name": "python",
   "nbconvert_exporter": "python",
   "pygments_lexer": "ipython3",
   "version": "3.6.15"
  },
  "papermill": {
   "default_parameters": {},
   "duration": 171.069376,
   "end_time": "2022-11-07T10:14:30.409764",
   "environment_variables": {},
   "exception": null,
   "input_path": "2020-08-11-part2.ipynb",
   "output_path": "2020-08-11-part2.ipynb",
   "parameters": {},
   "start_time": "2022-11-07T10:11:39.340388",
   "version": "2.3.3"
  }
 },
 "nbformat": 4,
 "nbformat_minor": 5
}