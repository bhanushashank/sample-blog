{
 "cells": [
  {
   "cell_type": "markdown",
   "id": "98380cd3",
   "metadata": {
    "papermill": {
     "duration": 0.039595,
     "end_time": "2022-03-02T10:09:43.171188",
     "exception": false,
     "start_time": "2022-03-02T10:09:43.131593",
     "status": "completed"
    },
    "tags": []
   },
   "source": [
    "# Distinguish Your Own Digits (DYOD)"
   ]
  },
  {
   "cell_type": "markdown",
   "id": "ef31240d",
   "metadata": {
    "papermill": {
     "duration": 0.032624,
     "end_time": "2022-03-02T10:09:43.236344",
     "exception": false,
     "start_time": "2022-03-02T10:09:43.203720",
     "status": "completed"
    },
    "tags": []
   },
   "source": [
    "You are going to write a classifier that distinguishes between the number 3 and number 8."
   ]
  },
  {
   "cell_type": "code",
   "execution_count": 1,
   "id": "b15c8646",
   "metadata": {
    "execution": {
     "iopub.execute_input": "2022-03-02T10:09:43.312532Z",
     "iopub.status.busy": "2022-03-02T10:09:43.311060Z",
     "iopub.status.idle": "2022-03-02T10:09:43.325725Z",
     "shell.execute_reply": "2022-03-02T10:09:43.325117Z"
    },
    "papermill": {
     "duration": 0.059531,
     "end_time": "2022-03-02T10:09:43.326121",
     "exception": false,
     "start_time": "2022-03-02T10:09:43.266590",
     "status": "completed"
    },
    "tags": []
   },
   "outputs": [],
   "source": [
    "%load_ext autoreload\n",
    "%autoreload 2"
   ]
  },
  {
   "cell_type": "code",
   "execution_count": 2,
   "id": "22ef38dc",
   "metadata": {
    "execution": {
     "iopub.execute_input": "2022-03-02T10:09:43.395989Z",
     "iopub.status.busy": "2022-03-02T10:09:43.395128Z",
     "iopub.status.idle": "2022-03-02T10:09:44.120090Z",
     "shell.execute_reply": "2022-03-02T10:09:44.119348Z"
    },
    "papermill": {
     "duration": 0.762626,
     "end_time": "2022-03-02T10:09:44.120256",
     "exception": false,
     "start_time": "2022-03-02T10:09:43.357630",
     "status": "completed"
    },
    "tags": []
   },
   "outputs": [],
   "source": [
    "%matplotlib inline\n",
    "import numpy as np\n",
    "import matplotlib.pyplot as plt\n",
    "import pandas as pd"
   ]
  },
  {
   "cell_type": "markdown",
   "id": "ba036198",
   "metadata": {
    "papermill": {
     "duration": 0.032947,
     "end_time": "2022-03-02T10:09:44.185336",
     "exception": false,
     "start_time": "2022-03-02T10:09:44.152389",
     "status": "completed"
    },
    "tags": []
   },
   "source": [
    "From the command line run `pip install mnist`. This is a library that will help you bring down the mnist dataset. If you run this from a notebook, you need to put  `!pip install mnist` in a cell by itself."
   ]
  },
  {
   "cell_type": "code",
   "execution_count": 3,
   "id": "bb6ad8a1",
   "metadata": {
    "execution": {
     "iopub.execute_input": "2022-03-02T10:09:44.252256Z",
     "iopub.status.busy": "2022-03-02T10:09:44.251664Z",
     "iopub.status.idle": "2022-03-02T10:09:47.034411Z",
     "shell.execute_reply": "2022-03-02T10:09:47.034895Z"
    },
    "papermill": {
     "duration": 2.81814,
     "end_time": "2022-03-02T10:09:47.035063",
     "exception": false,
     "start_time": "2022-03-02T10:09:44.216923",
     "status": "completed"
    },
    "tags": []
   },
   "outputs": [
    {
     "name": "stdout",
     "output_type": "stream",
     "text": [
      "Collecting mnist\r\n",
      "  Downloading mnist-0.2.2-py2.py3-none-any.whl (3.5 kB)\r\n",
      "Requirement already satisfied: numpy in /opt/hostedtoolcache/Python/3.6.15/x64/lib/python3.6/site-packages (from mnist) (1.19.5)\r\n"
     ]
    },
    {
     "name": "stdout",
     "output_type": "stream",
     "text": [
      "Installing collected packages: mnist\r\n"
     ]
    },
    {
     "name": "stdout",
     "output_type": "stream",
     "text": [
      "Successfully installed mnist-0.2.2\r\n"
     ]
    }
   ],
   "source": [
    "!pip install mnist"
   ]
  },
  {
   "cell_type": "markdown",
   "id": "69df9c9a",
   "metadata": {
    "papermill": {
     "duration": 0.029352,
     "end_time": "2022-03-02T10:09:47.093217",
     "exception": false,
     "start_time": "2022-03-02T10:09:47.063865",
     "status": "completed"
    },
    "tags": []
   },
   "source": [
    "## Preparing the Data"
   ]
  },
  {
   "cell_type": "code",
   "execution_count": 4,
   "id": "7f69d806",
   "metadata": {
    "execution": {
     "iopub.execute_input": "2022-03-02T10:09:47.164169Z",
     "iopub.status.busy": "2022-03-02T10:09:47.157822Z",
     "iopub.status.idle": "2022-03-02T10:09:47.170875Z",
     "shell.execute_reply": "2022-03-02T10:09:47.170369Z"
    },
    "papermill": {
     "duration": 0.049954,
     "end_time": "2022-03-02T10:09:47.170994",
     "exception": false,
     "start_time": "2022-03-02T10:09:47.121040",
     "status": "completed"
    },
    "tags": []
   },
   "outputs": [],
   "source": [
    "import mnist"
   ]
  },
  {
   "cell_type": "code",
   "execution_count": 5,
   "id": "a411e44f",
   "metadata": {
    "execution": {
     "iopub.execute_input": "2022-03-02T10:09:47.244199Z",
     "iopub.status.busy": "2022-03-02T10:09:47.236033Z",
     "iopub.status.idle": "2022-03-02T10:09:47.800569Z",
     "shell.execute_reply": "2022-03-02T10:09:47.799967Z"
    },
    "papermill": {
     "duration": 0.600828,
     "end_time": "2022-03-02T10:09:47.800746",
     "exception": false,
     "start_time": "2022-03-02T10:09:47.199918",
     "status": "completed"
    },
    "tags": []
   },
   "outputs": [],
   "source": [
    "train_images = mnist.train_images()\n",
    "train_labels = mnist.train_labels()"
   ]
  },
  {
   "cell_type": "code",
   "execution_count": 6,
   "id": "dceab3a5",
   "metadata": {
    "execution": {
     "iopub.execute_input": "2022-03-02T10:09:47.863775Z",
     "iopub.status.busy": "2022-03-02T10:09:47.863057Z",
     "iopub.status.idle": "2022-03-02T10:09:47.877996Z",
     "shell.execute_reply": "2022-03-02T10:09:47.877493Z"
    },
    "papermill": {
     "duration": 0.048713,
     "end_time": "2022-03-02T10:09:47.878116",
     "exception": false,
     "start_time": "2022-03-02T10:09:47.829403",
     "status": "completed"
    },
    "tags": []
   },
   "outputs": [
    {
     "data": {
      "text/plain": [
       "((60000, 28, 28), (60000,))"
      ]
     },
     "execution_count": 6,
     "metadata": {},
     "output_type": "execute_result"
    }
   ],
   "source": [
    "train_images.shape, train_labels.shape"
   ]
  },
  {
   "cell_type": "code",
   "execution_count": 7,
   "id": "f50dc2bb",
   "metadata": {
    "execution": {
     "iopub.execute_input": "2022-03-02T10:09:47.939290Z",
     "iopub.status.busy": "2022-03-02T10:09:47.938594Z",
     "iopub.status.idle": "2022-03-02T10:09:48.189013Z",
     "shell.execute_reply": "2022-03-02T10:09:48.188463Z"
    },
    "papermill": {
     "duration": 0.282101,
     "end_time": "2022-03-02T10:09:48.189161",
     "exception": false,
     "start_time": "2022-03-02T10:09:47.907060",
     "status": "completed"
    },
    "tags": []
   },
   "outputs": [],
   "source": [
    "test_images = mnist.test_images()\n",
    "test_labels = mnist.test_labels()"
   ]
  },
  {
   "cell_type": "code",
   "execution_count": 8,
   "id": "fc38cf1b",
   "metadata": {
    "execution": {
     "iopub.execute_input": "2022-03-02T10:09:48.254189Z",
     "iopub.status.busy": "2022-03-02T10:09:48.253513Z",
     "iopub.status.idle": "2022-03-02T10:09:48.265216Z",
     "shell.execute_reply": "2022-03-02T10:09:48.264736Z"
    },
    "papermill": {
     "duration": 0.046329,
     "end_time": "2022-03-02T10:09:48.265337",
     "exception": false,
     "start_time": "2022-03-02T10:09:48.219008",
     "status": "completed"
    },
    "tags": []
   },
   "outputs": [
    {
     "data": {
      "text/plain": [
       "((10000, 28, 28), (10000,))"
      ]
     },
     "execution_count": 8,
     "metadata": {},
     "output_type": "execute_result"
    }
   ],
   "source": [
    "test_images.shape, test_labels.shape"
   ]
  },
  {
   "cell_type": "code",
   "execution_count": 9,
   "id": "f9ed8fe0",
   "metadata": {
    "execution": {
     "iopub.execute_input": "2022-03-02T10:09:48.326172Z",
     "iopub.status.busy": "2022-03-02T10:09:48.325585Z",
     "iopub.status.idle": "2022-03-02T10:09:48.494046Z",
     "shell.execute_reply": "2022-03-02T10:09:48.493042Z"
    },
    "papermill": {
     "duration": 0.199933,
     "end_time": "2022-03-02T10:09:48.494215",
     "exception": false,
     "start_time": "2022-03-02T10:09:48.294282",
     "status": "completed"
    },
    "tags": []
   },
   "outputs": [
    {
     "name": "stdout",
     "output_type": "stream",
     "text": [
      "2\n"
     ]
    },
    {
     "data": {
      "text/plain": [
       "<matplotlib.image.AxesImage at 0x7fa198c8d588>"
      ]
     },
     "execution_count": 9,
     "metadata": {},
     "output_type": "execute_result"
    },
    {
     "data": {
      "image/png": "[encoded data removed]",
      "text/plain": [
       "<Figure size 432x288 with 1 Axes>"
      ]
     },
     "metadata": {
      "needs_background": "light"
     },
     "output_type": "display_data"
    }
   ],
   "source": [
    "image_index = 7776 # You may select anything up to 60,000\n",
    "print(train_labels[image_index]) \n",
    "plt.imshow(train_images[image_index], cmap='Greys')"
   ]
  },
  {
   "cell_type": "markdown",
   "id": "a8d2388d",
   "metadata": {
    "papermill": {
     "duration": 0.039671,
     "end_time": "2022-03-02T10:09:48.577755",
     "exception": false,
     "start_time": "2022-03-02T10:09:48.538084",
     "status": "completed"
    },
    "tags": []
   },
   "source": [
    "## Filter data to get 3 and 8 out"
   ]
  },
  {
   "cell_type": "code",
   "execution_count": 10,
   "id": "776f7fc7",
   "metadata": {
    "execution": {
     "iopub.execute_input": "2022-03-02T10:09:48.642062Z",
     "iopub.status.busy": "2022-03-02T10:09:48.641442Z",
     "iopub.status.idle": "2022-03-02T10:09:48.661419Z",
     "shell.execute_reply": "2022-03-02T10:09:48.660902Z"
    },
    "papermill": {
     "duration": 0.053849,
     "end_time": "2022-03-02T10:09:48.661556",
     "exception": false,
     "start_time": "2022-03-02T10:09:48.607707",
     "status": "completed"
    },
    "tags": []
   },
   "outputs": [],
   "source": [
    "train_filter = np.where((train_labels == 3 ) | (train_labels == 8))\n",
    "test_filter = np.where((test_labels == 3) | (test_labels == 8))\n",
    "X_train, y_train = train_images[train_filter], train_labels[train_filter]\n",
    "X_test, y_test = test_images[test_filter], test_labels[test_filter]"
   ]
  },
  {
   "cell_type": "markdown",
   "id": "948f0b7e",
   "metadata": {
    "papermill": {
     "duration": 0.030042,
     "end_time": "2022-03-02T10:09:48.721052",
     "exception": false,
     "start_time": "2022-03-02T10:09:48.691010",
     "status": "completed"
    },
    "tags": []
   },
   "source": [
    "We normalize the pizel values in the 0 to 1 range"
   ]
  },
  {
   "cell_type": "code",
   "execution_count": 11,
   "id": "ee4c2166",
   "metadata": {
    "execution": {
     "iopub.execute_input": "2022-03-02T10:09:48.782548Z",
     "iopub.status.busy": "2022-03-02T10:09:48.781947Z",
     "iopub.status.idle": "2022-03-02T10:09:48.841196Z",
     "shell.execute_reply": "2022-03-02T10:09:48.840630Z"
    },
    "papermill": {
     "duration": 0.091018,
     "end_time": "2022-03-02T10:09:48.841347",
     "exception": false,
     "start_time": "2022-03-02T10:09:48.750329",
     "status": "completed"
    },
    "tags": []
   },
   "outputs": [],
   "source": [
    "X_train = X_train/255.\n",
    "X_test = X_test/255."
   ]
  },
  {
   "cell_type": "markdown",
   "id": "ddcf4fab",
   "metadata": {
    "papermill": {
     "duration": 0.032348,
     "end_time": "2022-03-02T10:09:48.906206",
     "exception": false,
     "start_time": "2022-03-02T10:09:48.873858",
     "status": "completed"
    },
    "tags": []
   },
   "source": [
    "And setup the labels as 1 (when the digit is 3) and 0 (when the digit is 8)"
   ]
  },
  {
   "cell_type": "code",
   "execution_count": 12,
   "id": "7dc908f2",
   "metadata": {
    "execution": {
     "iopub.execute_input": "2022-03-02T10:09:48.973097Z",
     "iopub.status.busy": "2022-03-02T10:09:48.972381Z",
     "iopub.status.idle": "2022-03-02T10:09:48.983682Z",
     "shell.execute_reply": "2022-03-02T10:09:48.983174Z"
    },
    "papermill": {
     "duration": 0.047168,
     "end_time": "2022-03-02T10:09:48.983804",
     "exception": false,
     "start_time": "2022-03-02T10:09:48.936636",
     "status": "completed"
    },
    "tags": []
   },
   "outputs": [],
   "source": [
    "y_train = 1*(y_train==3)\n",
    "y_test = 1*(y_test==3)"
   ]
  },
  {
   "cell_type": "code",
   "execution_count": 13,
   "id": "01e4e969",
   "metadata": {
    "execution": {
     "iopub.execute_input": "2022-03-02T10:09:49.048575Z",
     "iopub.status.busy": "2022-03-02T10:09:49.047974Z",
     "iopub.status.idle": "2022-03-02T10:09:49.060819Z",
     "shell.execute_reply": "2022-03-02T10:09:49.060336Z"
    },
    "papermill": {
     "duration": 0.047676,
     "end_time": "2022-03-02T10:09:49.060941",
     "exception": false,
     "start_time": "2022-03-02T10:09:49.013265",
     "status": "completed"
    },
    "tags": []
   },
   "outputs": [
    {
     "data": {
      "text/plain": [
       "((11982, 28, 28), (1984, 28, 28))"
      ]
     },
     "execution_count": 13,
     "metadata": {},
     "output_type": "execute_result"
    }
   ],
   "source": [
    "X_train.shape, X_test.shape"
   ]
  },
  {
   "cell_type": "markdown",
   "id": "5ccf3f85",
   "metadata": {
    "papermill": {
     "duration": 0.031453,
     "end_time": "2022-03-02T10:09:49.121650",
     "exception": false,
     "start_time": "2022-03-02T10:09:49.090197",
     "status": "completed"
    },
    "tags": []
   },
   "source": [
    "We reshape the data to flatten the image pixels into a set of features or co-variates:"
   ]
  },
  {
   "cell_type": "code",
   "execution_count": 14,
   "id": "5286a4a3",
   "metadata": {
    "execution": {
     "iopub.execute_input": "2022-03-02T10:09:49.183771Z",
     "iopub.status.busy": "2022-03-02T10:09:49.182848Z",
     "iopub.status.idle": "2022-03-02T10:09:49.199153Z",
     "shell.execute_reply": "2022-03-02T10:09:49.199666Z"
    },
    "papermill": {
     "duration": 0.04892,
     "end_time": "2022-03-02T10:09:49.199802",
     "exception": false,
     "start_time": "2022-03-02T10:09:49.150882",
     "status": "completed"
    },
    "tags": []
   },
   "outputs": [
    {
     "data": {
      "text/plain": [
       "((11982, 784), (1984, 784))"
      ]
     },
     "execution_count": 14,
     "metadata": {},
     "output_type": "execute_result"
    }
   ],
   "source": [
    "X_train = X_train.reshape(X_train.shape[0], -1)\n",
    "X_test = X_test.reshape(X_test.shape[0], -1)\n",
    "X_train.shape, X_test.shape"
   ]
  },
  {
   "cell_type": "code",
   "execution_count": 15,
   "id": "73c5f88a",
   "metadata": {
    "execution": {
     "iopub.execute_input": "2022-03-02T10:09:49.266943Z",
     "iopub.status.busy": "2022-03-02T10:09:49.266344Z",
     "iopub.status.idle": "2022-03-02T10:09:49.292754Z",
     "shell.execute_reply": "2022-03-02T10:09:49.293332Z"
    },
    "papermill": {
     "duration": 0.062164,
     "end_time": "2022-03-02T10:09:49.293502",
     "exception": false,
     "start_time": "2022-03-02T10:09:49.231338",
     "status": "completed"
    },
    "tags": []
   },
   "outputs": [],
   "source": [
    "#Impoting functions from 'Kudzu'\n",
    "from kudzu.model import Model\n",
    "from kudzu.train import Learner\n",
    "from kudzu.optim import GD\n",
    "from kudzu.data import Data, Sampler,Dataloader\n",
    "\n",
    "from kudzu.callbacks import AccCallback\n",
    "from kudzu.callbacks import ClfCallback\n",
    "\n",
    "from kudzu.loss import MSE\n",
    "\n",
    "from kudzu.layer import Sigmoid,Relu\n",
    "from kudzu.layer import Affine"
   ]
  },
  {
   "cell_type": "markdown",
   "id": "bc01172a",
   "metadata": {
    "papermill": {
     "duration": 0.029563,
     "end_time": "2022-03-02T10:09:49.355830",
     "exception": false,
     "start_time": "2022-03-02T10:09:49.326267",
     "status": "completed"
    },
    "tags": []
   },
   "source": [
    "### Let us create a `Config` class, to store important parameters. \n",
    "This class essentially plays the role of a dictionary."
   ]
  },
  {
   "cell_type": "code",
   "execution_count": 16,
   "id": "978281aa",
   "metadata": {
    "execution": {
     "iopub.execute_input": "2022-03-02T10:09:49.426756Z",
     "iopub.status.busy": "2022-03-02T10:09:49.426059Z",
     "iopub.status.idle": "2022-03-02T10:09:49.437122Z",
     "shell.execute_reply": "2022-03-02T10:09:49.436586Z"
    },
    "papermill": {
     "duration": 0.049709,
     "end_time": "2022-03-02T10:09:49.437243",
     "exception": false,
     "start_time": "2022-03-02T10:09:49.387534",
     "status": "completed"
    },
    "tags": []
   },
   "outputs": [],
   "source": [
    "class Config:\n",
    "    pass\n",
    "config = Config()\n",
    "config.lr = 0.001\n",
    "config.num_epochs = 250\n",
    "config.bs = 50"
   ]
  },
  {
   "cell_type": "markdown",
   "id": "1385fa59",
   "metadata": {
    "papermill": {
     "duration": 0.029678,
     "end_time": "2022-03-02T10:09:49.496718",
     "exception": false,
     "start_time": "2022-03-02T10:09:49.467040",
     "status": "completed"
    },
    "tags": []
   },
   "source": [
    "### Running Models with the Training data\n",
    "Details about the network layers:\n",
    "- A first affine layer has 784 inputs and does 100 affine transforms. These are followed by a Relu\n",
    "- A second affine layer has 100 inputs from the 100 activations of the past layer, and does 100 affine transforms. These are followed by a Relu\n",
    "- A third affine layer has 100 activations and does 2 affine transformations to create an embedding for visualization. There is no non-linearity here.\n",
    "- A final \"logistic regression\" which has an affine transform from 2 inputs to 1 output, which is squeezed through a sigmoid.\n"
   ]
  },
  {
   "cell_type": "code",
   "execution_count": 17,
   "id": "2b9c66db",
   "metadata": {
    "execution": {
     "iopub.execute_input": "2022-03-02T10:09:49.562753Z",
     "iopub.status.busy": "2022-03-02T10:09:49.562158Z",
     "iopub.status.idle": "2022-03-02T10:09:49.573529Z",
     "shell.execute_reply": "2022-03-02T10:09:49.574039Z"
    },
    "papermill": {
     "duration": 0.047269,
     "end_time": "2022-03-02T10:09:49.574174",
     "exception": false,
     "start_time": "2022-03-02T10:09:49.526905",
     "status": "completed"
    },
    "tags": []
   },
   "outputs": [],
   "source": [
    "data = Data(X_train, y_train.reshape(-1,1))\n",
    "sampler = Sampler(data, config.bs, shuffle=True)\n",
    "\n",
    "dl = Dataloader(data, sampler)\n",
    "\n",
    "opt = GD(config.lr)\n",
    "loss = MSE()"
   ]
  },
  {
   "cell_type": "code",
   "execution_count": 18,
   "id": "b275e4c2",
   "metadata": {
    "execution": {
     "iopub.execute_input": "2022-03-02T10:09:49.639073Z",
     "iopub.status.busy": "2022-03-02T10:09:49.638425Z",
     "iopub.status.idle": "2022-03-02T10:09:49.651931Z",
     "shell.execute_reply": "2022-03-02T10:09:49.652491Z"
    },
    "papermill": {
     "duration": 0.047162,
     "end_time": "2022-03-02T10:09:49.652629",
     "exception": false,
     "start_time": "2022-03-02T10:09:49.605467",
     "status": "completed"
    },
    "tags": []
   },
   "outputs": [],
   "source": [
    "training_data_x = X_train\n",
    "testing_data_x = X_test\n",
    "training_data_y = y_train.reshape(-1,1)\n",
    "testing_data_y = y_test.reshape(-1,1)"
   ]
  },
  {
   "cell_type": "code",
   "execution_count": 19,
   "id": "76951160",
   "metadata": {
    "execution": {
     "iopub.execute_input": "2022-03-02T10:09:49.728211Z",
     "iopub.status.busy": "2022-03-02T10:09:49.725272Z",
     "iopub.status.idle": "2022-03-02T10:09:49.737927Z",
     "shell.execute_reply": "2022-03-02T10:09:49.738604Z"
    },
    "papermill": {
     "duration": 0.054493,
     "end_time": "2022-03-02T10:09:49.738787",
     "exception": false,
     "start_time": "2022-03-02T10:09:49.684294",
     "status": "completed"
    },
    "tags": []
   },
   "outputs": [
    {
     "name": "stdout",
     "output_type": "stream",
     "text": [
      "xavier\n",
      "xavier\n",
      "xavier\n",
      "xavier\n",
      "xavier\n"
     ]
    }
   ],
   "source": [
    "layers = [Affine(\"first\", 784, 100), Relu(\"first\"), Affine(\"second\", 100, 100), Relu(\"second\"), Affine(\"third\", 100, 2), Affine(\"last\", 2, 1), Sigmoid(\"last\")]\n",
    "model_nn = Model(layers)\n",
    "model_lr = Model([Affine(\"logits\", 784, 1), Sigmoid(\"sigmoid\")])"
   ]
  },
  {
   "cell_type": "code",
   "execution_count": 20,
   "id": "6eede77a",
   "metadata": {
    "execution": {
     "iopub.execute_input": "2022-03-02T10:09:49.808018Z",
     "iopub.status.busy": "2022-03-02T10:09:49.806681Z",
     "iopub.status.idle": "2022-03-02T10:09:49.820354Z",
     "shell.execute_reply": "2022-03-02T10:09:49.819830Z"
    },
    "papermill": {
     "duration": 0.050788,
     "end_time": "2022-03-02T10:09:49.820483",
     "exception": false,
     "start_time": "2022-03-02T10:09:49.769695",
     "status": "completed"
    },
    "tags": []
   },
   "outputs": [],
   "source": [
    "nn_learner = Learner(loss, model_nn, opt, config.num_epochs)\n",
    "acc_nn = ClfCallback(nn_learner, config.bs, training_data_x , testing_data_x, training_data_y, testing_data_y)\n",
    "nn_learner.set_callbacks([acc_nn])"
   ]
  },
  {
   "cell_type": "code",
   "execution_count": 21,
   "id": "877b6cc7",
   "metadata": {
    "execution": {
     "iopub.execute_input": "2022-03-02T10:09:49.904069Z",
     "iopub.status.busy": "2022-03-02T10:09:49.895160Z",
     "iopub.status.idle": "2022-03-02T10:09:49.908650Z",
     "shell.execute_reply": "2022-03-02T10:09:49.908062Z"
    },
    "papermill": {
     "duration": 0.056331,
     "end_time": "2022-03-02T10:09:49.908768",
     "exception": false,
     "start_time": "2022-03-02T10:09:49.852437",
     "status": "completed"
    },
    "tags": []
   },
   "outputs": [],
   "source": [
    "lr_learner = Learner(loss, model_lr, opt, config.num_epochs)\n",
    "acc_lr = ClfCallback(lr_learner, config.bs, training_data_x , testing_data_x, training_data_y, testing_data_y)\n",
    "lr_learner.set_callbacks([acc_lr])"
   ]
  },
  {
   "cell_type": "code",
   "execution_count": 22,
   "id": "d9b133c3",
   "metadata": {
    "execution": {
     "iopub.execute_input": "2022-03-02T10:09:49.981783Z",
     "iopub.status.busy": "2022-03-02T10:09:49.976048Z",
     "iopub.status.idle": "2022-03-02T10:11:56.634591Z",
     "shell.execute_reply": "2022-03-02T10:11:56.635503Z"
    },
    "papermill": {
     "duration": 126.695102,
     "end_time": "2022-03-02T10:11:56.635668",
     "exception": false,
     "start_time": "2022-03-02T10:09:49.940566",
     "status": "completed"
    },
    "tags": []
   },
   "outputs": [
    {
     "name": "stdout",
     "output_type": "stream",
     "text": [
      "Epoch 0, Loss 0.2524\n",
      "Training Accuracy: 0.5870, Testing Accuracy: 0.5454\n",
      "\n"
     ]
    },
    {
     "name": "stdout",
     "output_type": "stream",
     "text": [
      "Epoch 10, Loss 0.1206\n",
      "Training Accuracy: 0.9050, Testing Accuracy: 0.9163\n",
      "\n"
     ]
    },
    {
     "name": "stdout",
     "output_type": "stream",
     "text": [
      "Epoch 20, Loss 0.0648\n",
      "Training Accuracy: 0.9363, Testing Accuracy: 0.9446\n",
      "\n"
     ]
    },
    {
     "name": "stdout",
     "output_type": "stream",
     "text": [
      "Epoch 30, Loss 0.0489\n",
      "Training Accuracy: 0.9468, Testing Accuracy: 0.9531\n",
      "\n"
     ]
    },
    {
     "name": "stdout",
     "output_type": "stream",
     "text": [
      "Epoch 40, Loss 0.0417\n",
      "Training Accuracy: 0.9528, Testing Accuracy: 0.9572\n",
      "\n"
     ]
    },
    {
     "name": "stdout",
     "output_type": "stream",
     "text": [
      "Epoch 50, Loss 0.0374\n",
      "Training Accuracy: 0.9565, Testing Accuracy: 0.9627\n",
      "\n"
     ]
    },
    {
     "name": "stdout",
     "output_type": "stream",
     "text": [
      "Epoch 60, Loss 0.0345\n",
      "Training Accuracy: 0.9595, Testing Accuracy: 0.9652\n",
      "\n"
     ]
    },
    {
     "name": "stdout",
     "output_type": "stream",
     "text": [
      "Epoch 70, Loss 0.0324\n",
      "Training Accuracy: 0.9620, Testing Accuracy: 0.9642\n",
      "\n"
     ]
    },
    {
     "name": "stdout",
     "output_type": "stream",
     "text": [
      "Epoch 80, Loss 0.0307\n",
      "Training Accuracy: 0.9635, Testing Accuracy: 0.9662\n",
      "\n"
     ]
    },
    {
     "name": "stdout",
     "output_type": "stream",
     "text": [
      "Epoch 90, Loss 0.0294\n",
      "Training Accuracy: 0.9657, Testing Accuracy: 0.9672\n",
      "\n"
     ]
    },
    {
     "name": "stdout",
     "output_type": "stream",
     "text": [
      "Epoch 100, Loss 0.0283\n",
      "Training Accuracy: 0.9670, Testing Accuracy: 0.9703\n",
      "\n"
     ]
    },
    {
     "name": "stdout",
     "output_type": "stream",
     "text": [
      "Epoch 110, Loss 0.0273\n",
      "Training Accuracy: 0.9686, Testing Accuracy: 0.9703\n",
      "\n"
     ]
    },
    {
     "name": "stdout",
     "output_type": "stream",
     "text": [
      "Epoch 120, Loss 0.0264\n",
      "Training Accuracy: 0.9695, Testing Accuracy: 0.9698\n",
      "\n"
     ]
    },
    {
     "name": "stdout",
     "output_type": "stream",
     "text": [
      "Epoch 130, Loss 0.0257\n",
      "Training Accuracy: 0.9702, Testing Accuracy: 0.9703\n",
      "\n"
     ]
    },
    {
     "name": "stdout",
     "output_type": "stream",
     "text": [
      "Epoch 140, Loss 0.025\n",
      "Training Accuracy: 0.9709, Testing Accuracy: 0.9708\n",
      "\n"
     ]
    },
    {
     "name": "stdout",
     "output_type": "stream",
     "text": [
      "Epoch 150, Loss 0.0243\n",
      "Training Accuracy: 0.9718, Testing Accuracy: 0.9713\n",
      "\n"
     ]
    },
    {
     "name": "stdout",
     "output_type": "stream",
     "text": [
      "Epoch 160, Loss 0.0237\n",
      "Training Accuracy: 0.9725, Testing Accuracy: 0.9713\n",
      "\n"
     ]
    },
    {
     "name": "stdout",
     "output_type": "stream",
     "text": [
      "Epoch 170, Loss 0.0232\n",
      "Training Accuracy: 0.9735, Testing Accuracy: 0.9733\n",
      "\n"
     ]
    },
    {
     "name": "stdout",
     "output_type": "stream",
     "text": [
      "Epoch 180, Loss 0.0227\n",
      "Training Accuracy: 0.9739, Testing Accuracy: 0.9738\n",
      "\n"
     ]
    },
    {
     "name": "stdout",
     "output_type": "stream",
     "text": [
      "Epoch 190, Loss 0.0222\n",
      "Training Accuracy: 0.9745, Testing Accuracy: 0.9738\n",
      "\n"
     ]
    },
    {
     "name": "stdout",
     "output_type": "stream",
     "text": [
      "Epoch 200, Loss 0.0217\n",
      "Training Accuracy: 0.9755, Testing Accuracy: 0.9733\n",
      "\n"
     ]
    },
    {
     "name": "stdout",
     "output_type": "stream",
     "text": [
      "Epoch 210, Loss 0.0213\n",
      "Training Accuracy: 0.9761, Testing Accuracy: 0.9738\n",
      "\n"
     ]
    },
    {
     "name": "stdout",
     "output_type": "stream",
     "text": [
      "Epoch 220, Loss 0.0209\n",
      "Training Accuracy: 0.9765, Testing Accuracy: 0.9743\n",
      "\n"
     ]
    },
    {
     "name": "stdout",
     "output_type": "stream",
     "text": [
      "Epoch 230, Loss 0.0204\n",
      "Training Accuracy: 0.9766, Testing Accuracy: 0.9743\n",
      "\n"
     ]
    },
    {
     "name": "stdout",
     "output_type": "stream",
     "text": [
      "Epoch 240, Loss 0.0201\n",
      "Training Accuracy: 0.9771, Testing Accuracy: 0.9738\n",
      "\n"
     ]
    },
    {
     "data": {
      "text/plain": [
       "0.006241563130377768"
      ]
     },
     "execution_count": 22,
     "metadata": {},
     "output_type": "execute_result"
    }
   ],
   "source": [
    "nn_learner.train_loop(dl)"
   ]
  },
  {
   "cell_type": "code",
   "execution_count": 23,
   "id": "e0163366",
   "metadata": {
    "execution": {
     "iopub.execute_input": "2022-03-02T10:11:56.725719Z",
     "iopub.status.busy": "2022-03-02T10:11:56.725119Z",
     "iopub.status.idle": "2022-03-02T10:12:15.635627Z",
     "shell.execute_reply": "2022-03-02T10:12:15.636490Z"
    },
    "papermill": {
     "duration": 18.959841,
     "end_time": "2022-03-02T10:12:15.636660",
     "exception": false,
     "start_time": "2022-03-02T10:11:56.676819",
     "status": "completed"
    },
    "tags": []
   },
   "outputs": [
    {
     "name": "stdout",
     "output_type": "stream",
     "text": [
      "Epoch 0, Loss 0.2307\n",
      "Training Accuracy: 0.7101, Testing Accuracy: 0.7026\n",
      "\n"
     ]
    },
    {
     "name": "stdout",
     "output_type": "stream",
     "text": [
      "Epoch 10, Loss 0.1041\n",
      "Training Accuracy: 0.9012, Testing Accuracy: 0.9113\n",
      "\n"
     ]
    },
    {
     "name": "stdout",
     "output_type": "stream",
     "text": [
      "Epoch 20, Loss 0.0805\n",
      "Training Accuracy: 0.9224, Testing Accuracy: 0.9320\n",
      "\n"
     ]
    },
    {
     "name": "stdout",
     "output_type": "stream",
     "text": [
      "Epoch 30, Loss 0.0694\n",
      "Training Accuracy: 0.9308, Testing Accuracy: 0.9425\n",
      "\n"
     ]
    },
    {
     "name": "stdout",
     "output_type": "stream",
     "text": [
      "Epoch 40, Loss 0.0626\n",
      "Training Accuracy: 0.9367, Testing Accuracy: 0.9461\n",
      "\n"
     ]
    },
    {
     "name": "stdout",
     "output_type": "stream",
     "text": [
      "Epoch 50, Loss 0.0579\n",
      "Training Accuracy: 0.9410, Testing Accuracy: 0.9506\n",
      "\n"
     ]
    },
    {
     "name": "stdout",
     "output_type": "stream",
     "text": [
      "Epoch 60, Loss 0.0545\n",
      "Training Accuracy: 0.9439, Testing Accuracy: 0.9531\n",
      "\n"
     ]
    },
    {
     "name": "stdout",
     "output_type": "stream",
     "text": [
      "Epoch 70, Loss 0.0518\n",
      "Training Accuracy: 0.9465, Testing Accuracy: 0.9556\n",
      "\n"
     ]
    },
    {
     "name": "stdout",
     "output_type": "stream",
     "text": [
      "Epoch 80, Loss 0.0497\n",
      "Training Accuracy: 0.9489, Testing Accuracy: 0.9587\n",
      "\n"
     ]
    },
    {
     "name": "stdout",
     "output_type": "stream",
     "text": [
      "Epoch 90, Loss 0.048\n",
      "Training Accuracy: 0.9508, Testing Accuracy: 0.9602\n",
      "\n"
     ]
    },
    {
     "name": "stdout",
     "output_type": "stream",
     "text": [
      "Epoch 100, Loss 0.0465\n",
      "Training Accuracy: 0.9522, Testing Accuracy: 0.9602\n",
      "\n"
     ]
    },
    {
     "name": "stdout",
     "output_type": "stream",
     "text": [
      "Epoch 110, Loss 0.0452\n",
      "Training Accuracy: 0.9527, Testing Accuracy: 0.9607\n",
      "\n"
     ]
    },
    {
     "name": "stdout",
     "output_type": "stream",
     "text": [
      "Epoch 120, Loss 0.0441\n",
      "Training Accuracy: 0.9539, Testing Accuracy: 0.9612\n",
      "\n"
     ]
    },
    {
     "name": "stdout",
     "output_type": "stream",
     "text": [
      "Epoch 130, Loss 0.0432\n",
      "Training Accuracy: 0.9550, Testing Accuracy: 0.9612\n",
      "\n"
     ]
    },
    {
     "name": "stdout",
     "output_type": "stream",
     "text": [
      "Epoch 140, Loss 0.0423\n",
      "Training Accuracy: 0.9556, Testing Accuracy: 0.9612\n",
      "\n"
     ]
    },
    {
     "name": "stdout",
     "output_type": "stream",
     "text": [
      "Epoch 150, Loss 0.0415\n",
      "Training Accuracy: 0.9564, Testing Accuracy: 0.9627\n",
      "\n"
     ]
    },
    {
     "name": "stdout",
     "output_type": "stream",
     "text": [
      "Epoch 160, Loss 0.0408\n",
      "Training Accuracy: 0.9572, Testing Accuracy: 0.9637\n",
      "\n"
     ]
    },
    {
     "name": "stdout",
     "output_type": "stream",
     "text": [
      "Epoch 170, Loss 0.0402\n",
      "Training Accuracy: 0.9579, Testing Accuracy: 0.9642\n",
      "\n"
     ]
    },
    {
     "name": "stdout",
     "output_type": "stream",
     "text": [
      "Epoch 180, Loss 0.0396\n",
      "Training Accuracy: 0.9584, Testing Accuracy: 0.9647\n",
      "\n"
     ]
    },
    {
     "name": "stdout",
     "output_type": "stream",
     "text": [
      "Epoch 190, Loss 0.0391\n",
      "Training Accuracy: 0.9589, Testing Accuracy: 0.9652\n",
      "\n"
     ]
    },
    {
     "name": "stdout",
     "output_type": "stream",
     "text": [
      "Epoch 200, Loss 0.0386\n",
      "Training Accuracy: 0.9593, Testing Accuracy: 0.9652\n",
      "\n"
     ]
    },
    {
     "name": "stdout",
     "output_type": "stream",
     "text": [
      "Epoch 210, Loss 0.0381\n",
      "Training Accuracy: 0.9595, Testing Accuracy: 0.9657\n",
      "\n"
     ]
    },
    {
     "name": "stdout",
     "output_type": "stream",
     "text": [
      "Epoch 220, Loss 0.0377\n",
      "Training Accuracy: 0.9598, Testing Accuracy: 0.9672\n",
      "\n"
     ]
    },
    {
     "name": "stdout",
     "output_type": "stream",
     "text": [
      "Epoch 230, Loss 0.0373\n",
      "Training Accuracy: 0.9600, Testing Accuracy: 0.9672\n",
      "\n"
     ]
    },
    {
     "name": "stdout",
     "output_type": "stream",
     "text": [
      "Epoch 240, Loss 0.037\n",
      "Training Accuracy: 0.9604, Testing Accuracy: 0.9667\n",
      "\n"
     ]
    },
    {
     "data": {
      "text/plain": [
       "0.020069034670886946"
      ]
     },
     "execution_count": 23,
     "metadata": {},
     "output_type": "execute_result"
    }
   ],
   "source": [
    "lr_learner.train_loop(dl)"
   ]
  },
  {
   "cell_type": "code",
   "execution_count": 24,
   "id": "ca410940",
   "metadata": {
    "execution": {
     "iopub.execute_input": "2022-03-02T10:12:15.740680Z",
     "iopub.status.busy": "2022-03-02T10:12:15.740025Z",
     "iopub.status.idle": "2022-03-02T10:12:16.017805Z",
     "shell.execute_reply": "2022-03-02T10:12:16.017185Z"
    },
    "papermill": {
     "duration": 0.334339,
     "end_time": "2022-03-02T10:12:16.017948",
     "exception": false,
     "start_time": "2022-03-02T10:12:15.683609",
     "status": "completed"
    },
    "tags": []
   },
   "outputs": [
    {
     "data": {
      "text/plain": [
       "<matplotlib.legend.Legend at 0x7fa198868d68>"
      ]
     },
     "execution_count": 24,
     "metadata": {},
     "output_type": "execute_result"
    },
    {
     "data": {
      "image/png": "[encoded data removed]",
      "text/plain": [
       "<Figure size 1080x720 with 1 Axes>"
      ]
     },
     "metadata": {
      "needs_background": "light"
     },
     "output_type": "display_data"
    }
   ],
   "source": [
    "#comparing the results of NN and LR\n",
    "plt.figure(figsize=(15,10))\n",
    "\n",
    "# Neural Network plots\n",
    "plt.plot(acc_nn.accuracies, 'r-', label = \"Training Accuracies - NN\")\n",
    "plt.plot(acc_nn.test_accuracies, 'g-', label = \"Testing Accuracies - NN\")\n",
    "\n",
    "# Logistic Regression plots\n",
    "plt.plot(acc_lr.accuracies, 'k-', label = \"Training Accuracies - LR\")\n",
    "plt.plot(acc_lr.test_accuracies, 'b-', label = \"Testing Accuracies - LR\")\n",
    "plt.legend()"
   ]
  },
  {
   "cell_type": "markdown",
   "id": "80dfb35c",
   "metadata": {
    "papermill": {
     "duration": 0.047175,
     "end_time": "2022-03-02T10:12:16.115603",
     "exception": false,
     "start_time": "2022-03-02T10:12:16.068428",
     "status": "completed"
    },
    "tags": []
   },
   "source": [
    "#### Plotting the outputs of this layer of the NN.\n"
   ]
  },
  {
   "cell_type": "code",
   "execution_count": 25,
   "id": "45eb2ff5",
   "metadata": {
    "execution": {
     "iopub.execute_input": "2022-03-02T10:12:16.219992Z",
     "iopub.status.busy": "2022-03-02T10:12:16.217498Z",
     "iopub.status.idle": "2022-03-02T10:12:16.244830Z",
     "shell.execute_reply": "2022-03-02T10:12:16.245332Z"
    },
    "papermill": {
     "duration": 0.082772,
     "end_time": "2022-03-02T10:12:16.245497",
     "exception": false,
     "start_time": "2022-03-02T10:12:16.162725",
     "status": "completed"
    },
    "tags": []
   },
   "outputs": [],
   "source": [
    "new_model = Model(layers[:-2])\n",
    "testing_plot = new_model(testing_data_x)"
   ]
  },
  {
   "cell_type": "code",
   "execution_count": 26,
   "id": "4c0a5485",
   "metadata": {
    "execution": {
     "iopub.execute_input": "2022-03-02T10:12:16.357991Z",
     "iopub.status.busy": "2022-03-02T10:12:16.355904Z",
     "iopub.status.idle": "2022-03-02T10:12:16.589558Z",
     "shell.execute_reply": "2022-03-02T10:12:16.590023Z"
    },
    "papermill": {
     "duration": 0.295457,
     "end_time": "2022-03-02T10:12:16.590193",
     "exception": false,
     "start_time": "2022-03-02T10:12:16.294736",
     "status": "completed"
    },
    "tags": []
   },
   "outputs": [
    {
     "data": {
      "text/plain": [
       "Text(0.5, 1.0, 'Outputs')"
      ]
     },
     "execution_count": 26,
     "metadata": {},
     "output_type": "execute_result"
    },
    {
     "data": {
      "image/png": "[encoded data removed]",
      "text/plain": [
       "<Figure size 576x504 with 1 Axes>"
      ]
     },
     "metadata": {
      "needs_background": "light"
     },
     "output_type": "display_data"
    }
   ],
   "source": [
    "# Plotting the scatter plot of points and color coding by class\n",
    "plt.figure(figsize=(8,7))\n",
    "plt.scatter(testing_plot[:,0], testing_plot[:,1], alpha = 0.1, c = y_test.ravel());\n",
    "plt.title('Outputs')"
   ]
  },
  {
   "cell_type": "markdown",
   "id": "a74fcf8f",
   "metadata": {
    "papermill": {
     "duration": 0.052882,
     "end_time": "2022-03-02T10:12:16.693837",
     "exception": false,
     "start_time": "2022-03-02T10:12:16.640955",
     "status": "completed"
    },
    "tags": []
   },
   "source": [
    "Probability contours"
   ]
  },
  {
   "cell_type": "code",
   "execution_count": 27,
   "id": "d0afc8e3",
   "metadata": {
    "execution": {
     "iopub.execute_input": "2022-03-02T10:12:16.806203Z",
     "iopub.status.busy": "2022-03-02T10:12:16.805525Z",
     "iopub.status.idle": "2022-03-02T10:12:16.820831Z",
     "shell.execute_reply": "2022-03-02T10:12:16.819979Z"
    },
    "papermill": {
     "duration": 0.070935,
     "end_time": "2022-03-02T10:12:16.820970",
     "exception": false,
     "start_time": "2022-03-02T10:12:16.750035",
     "status": "completed"
    },
    "tags": []
   },
   "outputs": [],
   "source": [
    "model_prob = Model(layers[-2:]) "
   ]
  },
  {
   "cell_type": "code",
   "execution_count": 28,
   "id": "9b96e238",
   "metadata": {
    "execution": {
     "iopub.execute_input": "2022-03-02T10:12:16.960229Z",
     "iopub.status.busy": "2022-03-02T10:12:16.959591Z",
     "iopub.status.idle": "2022-03-02T10:12:16.970661Z",
     "shell.execute_reply": "2022-03-02T10:12:16.971206Z"
    },
    "papermill": {
     "duration": 0.073459,
     "end_time": "2022-03-02T10:12:16.971408",
     "exception": false,
     "start_time": "2022-03-02T10:12:16.897949",
     "status": "completed"
    },
    "tags": []
   },
   "outputs": [],
   "source": [
    "#creating the x and y ranges according to the above generated plot.\n",
    "x_range = np.linspace(-4, 1, 100) \n",
    "y_range = np.linspace(-6, 6, 100) \n",
    "x_grid, y_grid = np.meshgrid(x_range, y_range) # x_grid and y_grig are of size 100 X 100\n",
    "\n",
    "# converting x_grid and y_grid to continuous arrays\n",
    "x_gridflat = np.ravel(x_grid)\n",
    "y_gridflat = np.ravel(y_grid)\n",
    "\n",
    "# The last layer of the current model takes two columns as input. Hence transpose of np.vstack() is required.\n",
    "X = np.vstack((x_gridflat, y_gridflat)).T\n",
    "\n",
    "prob_contour = model_prob(X).reshape(100,100) "
   ]
  },
  {
   "cell_type": "code",
   "execution_count": 29,
   "id": "da72499a",
   "metadata": {
    "execution": {
     "iopub.execute_input": "2022-03-02T10:12:17.083942Z",
     "iopub.status.busy": "2022-03-02T10:12:17.083227Z",
     "iopub.status.idle": "2022-03-02T10:12:17.398783Z",
     "shell.execute_reply": "2022-03-02T10:12:17.400721Z"
    },
    "papermill": {
     "duration": 0.378373,
     "end_time": "2022-03-02T10:12:17.400891",
     "exception": false,
     "start_time": "2022-03-02T10:12:17.022518",
     "status": "completed"
    },
    "tags": []
   },
   "outputs": [
    {
     "data": {
      "image/png": "[encoded data removed]",
      "text/plain": [
       "<Figure size 720x648 with 1 Axes>"
      ]
     },
     "metadata": {
      "needs_background": "light"
     },
     "output_type": "display_data"
    }
   ],
   "source": [
    "plt.figure(figsize=(10,9))\n",
    "plt.scatter(testing_plot[:,0], testing_plot[:,1], alpha = 0.1, c = y_test.ravel())\n",
    "contours = plt.contour(x_grid,y_grid,prob_contour)\n",
    "plt.title('Probability Contours')\n",
    "plt.clabel(contours, inline = True );"
   ]
  },
  {
   "cell_type": "code",
   "execution_count": null,
   "id": "e81b4ac7",
   "metadata": {
    "papermill": {
     "duration": 0.052331,
     "end_time": "2022-03-02T10:12:17.507086",
     "exception": false,
     "start_time": "2022-03-02T10:12:17.454755",
     "status": "completed"
    },
    "tags": []
   },
   "outputs": [],
   "source": []
  }
 ],
 "metadata": {
  "kernelspec": {
   "display_name": "Python 3",
   "language": "python",
   "name": "python3"
  },
  "language_info": {
   "codemirror_mode": {
    "name": "ipython",
    "version": 3
   },
   "file_extension": ".py",
   "mimetype": "text/x-python",
   "name": "python",
   "nbconvert_exporter": "python",
   "pygments_lexer": "ipython3",
   "version": "3.6.15"
  },
  "papermill": {
   "default_parameters": {},
   "duration": 156.130317,
   "end_time": "2022-03-02T10:12:17.978915",
   "environment_variables": {},
   "exception": null,
   "input_path": "2020-08-11-part2.ipynb",
   "output_path": "2020-08-11-part2.ipynb",
   "parameters": {},
   "start_time": "2022-03-02T10:09:41.848598",
   "version": "2.3.3"
  }
 },
 "nbformat": 4,
 "nbformat_minor": 5
}