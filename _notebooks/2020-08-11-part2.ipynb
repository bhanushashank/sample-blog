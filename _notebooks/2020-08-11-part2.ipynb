{
 "cells": [
  {
   "cell_type": "markdown",
   "id": "98380cd3",
   "metadata": {
    "papermill": {
     "duration": 0.033611,
     "end_time": "2021-09-14T20:26:20.487564",
     "exception": false,
     "start_time": "2021-09-14T20:26:20.453953",
     "status": "completed"
    },
    "tags": []
   },
   "source": [
    "# Distinguish Your Own Digits (DYOD)"
   ]
  },
  {
   "cell_type": "markdown",
   "id": "ef31240d",
   "metadata": {
    "papermill": {
     "duration": 0.025858,
     "end_time": "2021-09-14T20:26:20.539271",
     "exception": false,
     "start_time": "2021-09-14T20:26:20.513413",
     "status": "completed"
    },
    "tags": []
   },
   "source": [
    "You are going to write a classifier that distinguishes between the number 3 and number 8."
   ]
  },
  {
   "cell_type": "code",
   "execution_count": 1,
   "id": "b15c8646",
   "metadata": {
    "execution": {
     "iopub.execute_input": "2021-09-14T20:26:20.603167Z",
     "iopub.status.busy": "2021-09-14T20:26:20.602560Z",
     "iopub.status.idle": "2021-09-14T20:26:20.614847Z",
     "shell.execute_reply": "2021-09-14T20:26:20.614353Z"
    },
    "papermill": {
     "duration": 0.050023,
     "end_time": "2021-09-14T20:26:20.614988",
     "exception": false,
     "start_time": "2021-09-14T20:26:20.564965",
     "status": "completed"
    },
    "tags": []
   },
   "outputs": [],
   "source": [
    "%load_ext autoreload\n",
    "%autoreload 2"
   ]
  },
  {
   "cell_type": "code",
   "execution_count": 2,
   "id": "22ef38dc",
   "metadata": {
    "execution": {
     "iopub.execute_input": "2021-09-14T20:26:20.669612Z",
     "iopub.status.busy": "2021-09-14T20:26:20.668999Z",
     "iopub.status.idle": "2021-09-14T20:26:21.235155Z",
     "shell.execute_reply": "2021-09-14T20:26:21.234636Z"
    },
    "papermill": {
     "duration": 0.595007,
     "end_time": "2021-09-14T20:26:21.235286",
     "exception": false,
     "start_time": "2021-09-14T20:26:20.640279",
     "status": "completed"
    },
    "tags": []
   },
   "outputs": [],
   "source": [
    "%matplotlib inline\n",
    "import numpy as np\n",
    "import matplotlib.pyplot as plt\n",
    "import pandas as pd"
   ]
  },
  {
   "cell_type": "markdown",
   "id": "ba036198",
   "metadata": {
    "papermill": {
     "duration": 0.028138,
     "end_time": "2021-09-14T20:26:21.289579",
     "exception": false,
     "start_time": "2021-09-14T20:26:21.261441",
     "status": "completed"
    },
    "tags": []
   },
   "source": [
    "From the command line run `pip install mnist`. This is a library that will help you bring down the mnist dataset. If you run this from a notebook, you need to put  `!pip install mnist` in a cell by itself."
   ]
  },
  {
   "cell_type": "code",
   "execution_count": 3,
   "id": "bb6ad8a1",
   "metadata": {
    "execution": {
     "iopub.execute_input": "2021-09-14T20:26:21.349794Z",
     "iopub.status.busy": "2021-09-14T20:26:21.348558Z",
     "iopub.status.idle": "2021-09-14T20:26:23.122176Z",
     "shell.execute_reply": "2021-09-14T20:26:23.120732Z"
    },
    "papermill": {
     "duration": 1.806852,
     "end_time": "2021-09-14T20:26:23.122318",
     "exception": false,
     "start_time": "2021-09-14T20:26:21.315466",
     "status": "completed"
    },
    "tags": []
   },
   "outputs": [
    {
     "name": "stdout",
     "output_type": "stream",
     "text": [
      "Collecting mnist\r\n"
     ]
    },
    {
     "name": "stdout",
     "output_type": "stream",
     "text": [
      "  Downloading mnist-0.2.2-py2.py3-none-any.whl (3.5 kB)\r\n",
      "Requirement already satisfied: numpy in /opt/hostedtoolcache/Python/3.6.14/x64/lib/python3.6/site-packages (from mnist) (1.19.5)\r\n"
     ]
    },
    {
     "name": "stdout",
     "output_type": "stream",
     "text": [
      "Installing collected packages: mnist\r\n"
     ]
    },
    {
     "name": "stdout",
     "output_type": "stream",
     "text": [
      "Successfully installed mnist-0.2.2\r\n"
     ]
    }
   ],
   "source": [
    "!pip install mnist"
   ]
  },
  {
   "cell_type": "markdown",
   "id": "69df9c9a",
   "metadata": {
    "papermill": {
     "duration": 0.027065,
     "end_time": "2021-09-14T20:26:23.176826",
     "exception": false,
     "start_time": "2021-09-14T20:26:23.149761",
     "status": "completed"
    },
    "tags": []
   },
   "source": [
    "## Preparing the Data"
   ]
  },
  {
   "cell_type": "code",
   "execution_count": 4,
   "id": "7f69d806",
   "metadata": {
    "execution": {
     "iopub.execute_input": "2021-09-14T20:26:23.246866Z",
     "iopub.status.busy": "2021-09-14T20:26:23.241459Z",
     "iopub.status.idle": "2021-09-14T20:26:23.254743Z",
     "shell.execute_reply": "2021-09-14T20:26:23.255206Z"
    },
    "papermill": {
     "duration": 0.051011,
     "end_time": "2021-09-14T20:26:23.255339",
     "exception": false,
     "start_time": "2021-09-14T20:26:23.204328",
     "status": "completed"
    },
    "tags": []
   },
   "outputs": [],
   "source": [
    "import mnist"
   ]
  },
  {
   "cell_type": "code",
   "execution_count": 5,
   "id": "a411e44f",
   "metadata": {
    "execution": {
     "iopub.execute_input": "2021-09-14T20:26:23.314410Z",
     "iopub.status.busy": "2021-09-14T20:26:23.313831Z",
     "iopub.status.idle": "2021-09-14T20:26:23.901207Z",
     "shell.execute_reply": "2021-09-14T20:26:23.900518Z"
    },
    "papermill": {
     "duration": 0.61887,
     "end_time": "2021-09-14T20:26:23.901368",
     "exception": false,
     "start_time": "2021-09-14T20:26:23.282498",
     "status": "completed"
    },
    "tags": []
   },
   "outputs": [],
   "source": [
    "train_images = mnist.train_images()\n",
    "train_labels = mnist.train_labels()"
   ]
  },
  {
   "cell_type": "code",
   "execution_count": 6,
   "id": "dceab3a5",
   "metadata": {
    "execution": {
     "iopub.execute_input": "2021-09-14T20:26:23.959124Z",
     "iopub.status.busy": "2021-09-14T20:26:23.958520Z",
     "iopub.status.idle": "2021-09-14T20:26:23.974938Z",
     "shell.execute_reply": "2021-09-14T20:26:23.975390Z"
    },
    "papermill": {
     "duration": 0.047043,
     "end_time": "2021-09-14T20:26:23.975527",
     "exception": false,
     "start_time": "2021-09-14T20:26:23.928484",
     "status": "completed"
    },
    "tags": []
   },
   "outputs": [
    {
     "data": {
      "text/plain": [
       "((60000, 28, 28), (60000,))"
      ]
     },
     "execution_count": 6,
     "metadata": {},
     "output_type": "execute_result"
    }
   ],
   "source": [
    "train_images.shape, train_labels.shape"
   ]
  },
  {
   "cell_type": "code",
   "execution_count": 7,
   "id": "f50dc2bb",
   "metadata": {
    "execution": {
     "iopub.execute_input": "2021-09-14T20:26:24.038261Z",
     "iopub.status.busy": "2021-09-14T20:26:24.033829Z",
     "iopub.status.idle": "2021-09-14T20:26:24.197109Z",
     "shell.execute_reply": "2021-09-14T20:26:24.196549Z"
    },
    "papermill": {
     "duration": 0.194519,
     "end_time": "2021-09-14T20:26:24.197281",
     "exception": false,
     "start_time": "2021-09-14T20:26:24.002762",
     "status": "completed"
    },
    "tags": []
   },
   "outputs": [],
   "source": [
    "test_images = mnist.test_images()\n",
    "test_labels = mnist.test_labels()"
   ]
  },
  {
   "cell_type": "code",
   "execution_count": 8,
   "id": "fc38cf1b",
   "metadata": {
    "execution": {
     "iopub.execute_input": "2021-09-14T20:26:24.261119Z",
     "iopub.status.busy": "2021-09-14T20:26:24.260531Z",
     "iopub.status.idle": "2021-09-14T20:26:24.276275Z",
     "shell.execute_reply": "2021-09-14T20:26:24.275752Z"
    },
    "papermill": {
     "duration": 0.049449,
     "end_time": "2021-09-14T20:26:24.276397",
     "exception": false,
     "start_time": "2021-09-14T20:26:24.226948",
     "status": "completed"
    },
    "tags": []
   },
   "outputs": [
    {
     "data": {
      "text/plain": [
       "((10000, 28, 28), (10000,))"
      ]
     },
     "execution_count": 8,
     "metadata": {},
     "output_type": "execute_result"
    }
   ],
   "source": [
    "test_images.shape, test_labels.shape"
   ]
  },
  {
   "cell_type": "code",
   "execution_count": 9,
   "id": "f9ed8fe0",
   "metadata": {
    "execution": {
     "iopub.execute_input": "2021-09-14T20:26:24.337040Z",
     "iopub.status.busy": "2021-09-14T20:26:24.336562Z",
     "iopub.status.idle": "2021-09-14T20:26:24.487855Z",
     "shell.execute_reply": "2021-09-14T20:26:24.487332Z"
    },
    "papermill": {
     "duration": 0.184684,
     "end_time": "2021-09-14T20:26:24.487986",
     "exception": false,
     "start_time": "2021-09-14T20:26:24.303302",
     "status": "completed"
    },
    "tags": []
   },
   "outputs": [
    {
     "name": "stdout",
     "output_type": "stream",
     "text": [
      "2\n"
     ]
    },
    {
     "data": {
      "text/plain": [
       "<matplotlib.image.AxesImage at 0x7f887718de80>"
      ]
     },
     "execution_count": 9,
     "metadata": {},
     "output_type": "execute_result"
    },
    {
     "data": {
      "image/png": "[encoded data removed]",
      "text/plain": [
       "<Figure size 432x288 with 1 Axes>"
      ]
     },
     "metadata": {
      "needs_background": "light"
     },
     "output_type": "display_data"
    }
   ],
   "source": [
    "image_index = 7776 # You may select anything up to 60,000\n",
    "print(train_labels[image_index]) \n",
    "plt.imshow(train_images[image_index], cmap='Greys')"
   ]
  },
  {
   "cell_type": "markdown",
   "id": "a8d2388d",
   "metadata": {
    "papermill": {
     "duration": 0.029287,
     "end_time": "2021-09-14T20:26:24.546786",
     "exception": false,
     "start_time": "2021-09-14T20:26:24.517499",
     "status": "completed"
    },
    "tags": []
   },
   "source": [
    "## Filter data to get 3 and 8 out"
   ]
  },
  {
   "cell_type": "code",
   "execution_count": 10,
   "id": "776f7fc7",
   "metadata": {
    "execution": {
     "iopub.execute_input": "2021-09-14T20:26:24.611296Z",
     "iopub.status.busy": "2021-09-14T20:26:24.607952Z",
     "iopub.status.idle": "2021-09-14T20:26:24.628724Z",
     "shell.execute_reply": "2021-09-14T20:26:24.628220Z"
    },
    "papermill": {
     "duration": 0.05447,
     "end_time": "2021-09-14T20:26:24.628847",
     "exception": false,
     "start_time": "2021-09-14T20:26:24.574377",
     "status": "completed"
    },
    "tags": []
   },
   "outputs": [],
   "source": [
    "train_filter = np.where((train_labels == 3 ) | (train_labels == 8))\n",
    "test_filter = np.where((test_labels == 3) | (test_labels == 8))\n",
    "X_train, y_train = train_images[train_filter], train_labels[train_filter]\n",
    "X_test, y_test = test_images[test_filter], test_labels[test_filter]"
   ]
  },
  {
   "cell_type": "markdown",
   "id": "948f0b7e",
   "metadata": {
    "papermill": {
     "duration": 0.028588,
     "end_time": "2021-09-14T20:26:24.685760",
     "exception": false,
     "start_time": "2021-09-14T20:26:24.657172",
     "status": "completed"
    },
    "tags": []
   },
   "source": [
    "We normalize the pizel values in the 0 to 1 range"
   ]
  },
  {
   "cell_type": "code",
   "execution_count": 11,
   "id": "ee4c2166",
   "metadata": {
    "execution": {
     "iopub.execute_input": "2021-09-14T20:26:24.753886Z",
     "iopub.status.busy": "2021-09-14T20:26:24.753278Z",
     "iopub.status.idle": "2021-09-14T20:26:24.805380Z",
     "shell.execute_reply": "2021-09-14T20:26:24.804586Z"
    },
    "papermill": {
     "duration": 0.089773,
     "end_time": "2021-09-14T20:26:24.805576",
     "exception": false,
     "start_time": "2021-09-14T20:26:24.715803",
     "status": "completed"
    },
    "tags": []
   },
   "outputs": [],
   "source": [
    "X_train = X_train/255.\n",
    "X_test = X_test/255."
   ]
  },
  {
   "cell_type": "markdown",
   "id": "ddcf4fab",
   "metadata": {
    "papermill": {
     "duration": 0.029076,
     "end_time": "2021-09-14T20:26:24.866938",
     "exception": false,
     "start_time": "2021-09-14T20:26:24.837862",
     "status": "completed"
    },
    "tags": []
   },
   "source": [
    "And setup the labels as 1 (when the digit is 3) and 0 (when the digit is 8)"
   ]
  },
  {
   "cell_type": "code",
   "execution_count": 12,
   "id": "7dc908f2",
   "metadata": {
    "execution": {
     "iopub.execute_input": "2021-09-14T20:26:24.928634Z",
     "iopub.status.busy": "2021-09-14T20:26:24.927334Z",
     "iopub.status.idle": "2021-09-14T20:26:24.943546Z",
     "shell.execute_reply": "2021-09-14T20:26:24.943062Z"
    },
    "papermill": {
     "duration": 0.048138,
     "end_time": "2021-09-14T20:26:24.943666",
     "exception": false,
     "start_time": "2021-09-14T20:26:24.895528",
     "status": "completed"
    },
    "tags": []
   },
   "outputs": [],
   "source": [
    "y_train = 1*(y_train==3)\n",
    "y_test = 1*(y_test==3)"
   ]
  },
  {
   "cell_type": "code",
   "execution_count": 13,
   "id": "01e4e969",
   "metadata": {
    "execution": {
     "iopub.execute_input": "2021-09-14T20:26:25.004263Z",
     "iopub.status.busy": "2021-09-14T20:26:25.003671Z",
     "iopub.status.idle": "2021-09-14T20:26:25.022841Z",
     "shell.execute_reply": "2021-09-14T20:26:25.022356Z"
    },
    "papermill": {
     "duration": 0.051093,
     "end_time": "2021-09-14T20:26:25.022959",
     "exception": false,
     "start_time": "2021-09-14T20:26:24.971866",
     "status": "completed"
    },
    "tags": []
   },
   "outputs": [
    {
     "data": {
      "text/plain": [
       "((11982, 28, 28), (1984, 28, 28))"
      ]
     },
     "execution_count": 13,
     "metadata": {},
     "output_type": "execute_result"
    }
   ],
   "source": [
    "X_train.shape, X_test.shape"
   ]
  },
  {
   "cell_type": "markdown",
   "id": "5ccf3f85",
   "metadata": {
    "papermill": {
     "duration": 0.02924,
     "end_time": "2021-09-14T20:26:25.080481",
     "exception": false,
     "start_time": "2021-09-14T20:26:25.051241",
     "status": "completed"
    },
    "tags": []
   },
   "source": [
    "We reshape the data to flatten the image pixels into a set of features or co-variates:"
   ]
  },
  {
   "cell_type": "code",
   "execution_count": 14,
   "id": "5286a4a3",
   "metadata": {
    "execution": {
     "iopub.execute_input": "2021-09-14T20:26:25.142367Z",
     "iopub.status.busy": "2021-09-14T20:26:25.141824Z",
     "iopub.status.idle": "2021-09-14T20:26:25.160260Z",
     "shell.execute_reply": "2021-09-14T20:26:25.159823Z"
    },
    "papermill": {
     "duration": 0.050915,
     "end_time": "2021-09-14T20:26:25.160373",
     "exception": false,
     "start_time": "2021-09-14T20:26:25.109458",
     "status": "completed"
    },
    "tags": []
   },
   "outputs": [
    {
     "data": {
      "text/plain": [
       "((11982, 784), (1984, 784))"
      ]
     },
     "execution_count": 14,
     "metadata": {},
     "output_type": "execute_result"
    }
   ],
   "source": [
    "X_train = X_train.reshape(X_train.shape[0], -1)\n",
    "X_test = X_test.reshape(X_test.shape[0], -1)\n",
    "X_train.shape, X_test.shape"
   ]
  },
  {
   "cell_type": "code",
   "execution_count": 15,
   "id": "73c5f88a",
   "metadata": {
    "execution": {
     "iopub.execute_input": "2021-09-14T20:26:25.223594Z",
     "iopub.status.busy": "2021-09-14T20:26:25.223002Z",
     "iopub.status.idle": "2021-09-14T20:26:25.242821Z",
     "shell.execute_reply": "2021-09-14T20:26:25.242142Z"
    },
    "papermill": {
     "duration": 0.05336,
     "end_time": "2021-09-14T20:26:25.242980",
     "exception": false,
     "start_time": "2021-09-14T20:26:25.189620",
     "status": "completed"
    },
    "tags": []
   },
   "outputs": [],
   "source": [
    "#Impoting functions from 'Kudzu'\n",
    "from kudzu.model import Model\n",
    "from kudzu.train import Learner\n",
    "from kudzu.optim import GD\n",
    "from kudzu.data import Data, Sampler,Dataloader\n",
    "\n",
    "from kudzu.callbacks import AccCallback\n",
    "from kudzu.callbacks import ClfCallback\n",
    "\n",
    "from kudzu.loss import MSE\n",
    "\n",
    "from kudzu.layer import Sigmoid,Relu\n",
    "from kudzu.layer import Affine"
   ]
  },
  {
   "cell_type": "markdown",
   "id": "bc01172a",
   "metadata": {
    "papermill": {
     "duration": 0.029233,
     "end_time": "2021-09-14T20:26:25.303628",
     "exception": false,
     "start_time": "2021-09-14T20:26:25.274395",
     "status": "completed"
    },
    "tags": []
   },
   "source": [
    "### Let us create a `Config` class, to store important parameters. \n",
    "This class essentially plays the role of a dictionary."
   ]
  },
  {
   "cell_type": "code",
   "execution_count": 16,
   "id": "978281aa",
   "metadata": {
    "execution": {
     "iopub.execute_input": "2021-09-14T20:26:25.367702Z",
     "iopub.status.busy": "2021-09-14T20:26:25.367136Z",
     "iopub.status.idle": "2021-09-14T20:26:25.380650Z",
     "shell.execute_reply": "2021-09-14T20:26:25.380169Z"
    },
    "papermill": {
     "duration": 0.047714,
     "end_time": "2021-09-14T20:26:25.380764",
     "exception": false,
     "start_time": "2021-09-14T20:26:25.333050",
     "status": "completed"
    },
    "tags": []
   },
   "outputs": [],
   "source": [
    "class Config:\n",
    "    pass\n",
    "config = Config()\n",
    "config.lr = 0.001\n",
    "config.num_epochs = 250\n",
    "config.bs = 50"
   ]
  },
  {
   "cell_type": "markdown",
   "id": "1385fa59",
   "metadata": {
    "papermill": {
     "duration": 0.029094,
     "end_time": "2021-09-14T20:26:25.438788",
     "exception": false,
     "start_time": "2021-09-14T20:26:25.409694",
     "status": "completed"
    },
    "tags": []
   },
   "source": [
    "### Running Models with the Training data\n",
    "Details about the network layers:\n",
    "- A first affine layer has 784 inputs and does 100 affine transforms. These are followed by a Relu\n",
    "- A second affine layer has 100 inputs from the 100 activations of the past layer, and does 100 affine transforms. These are followed by a Relu\n",
    "- A third affine layer has 100 activations and does 2 affine transformations to create an embedding for visualization. There is no non-linearity here.\n",
    "- A final \"logistic regression\" which has an affine transform from 2 inputs to 1 output, which is squeezed through a sigmoid.\n"
   ]
  },
  {
   "cell_type": "code",
   "execution_count": 17,
   "id": "2b9c66db",
   "metadata": {
    "execution": {
     "iopub.execute_input": "2021-09-14T20:26:25.503458Z",
     "iopub.status.busy": "2021-09-14T20:26:25.502864Z",
     "iopub.status.idle": "2021-09-14T20:26:25.515849Z",
     "shell.execute_reply": "2021-09-14T20:26:25.515383Z"
    },
    "papermill": {
     "duration": 0.047166,
     "end_time": "2021-09-14T20:26:25.515967",
     "exception": false,
     "start_time": "2021-09-14T20:26:25.468801",
     "status": "completed"
    },
    "tags": []
   },
   "outputs": [],
   "source": [
    "data = Data(X_train, y_train.reshape(-1,1))\n",
    "sampler = Sampler(data, config.bs, shuffle=True)\n",
    "\n",
    "dl = Dataloader(data, sampler)\n",
    "\n",
    "opt = GD(config.lr)\n",
    "loss = MSE()"
   ]
  },
  {
   "cell_type": "code",
   "execution_count": 18,
   "id": "b275e4c2",
   "metadata": {
    "execution": {
     "iopub.execute_input": "2021-09-14T20:26:25.578106Z",
     "iopub.status.busy": "2021-09-14T20:26:25.577560Z",
     "iopub.status.idle": "2021-09-14T20:26:25.597517Z",
     "shell.execute_reply": "2021-09-14T20:26:25.596851Z"
    },
    "papermill": {
     "duration": 0.052223,
     "end_time": "2021-09-14T20:26:25.597678",
     "exception": false,
     "start_time": "2021-09-14T20:26:25.545455",
     "status": "completed"
    },
    "tags": []
   },
   "outputs": [],
   "source": [
    "training_data_x = X_train\n",
    "testing_data_x = X_test\n",
    "training_data_y = y_train.reshape(-1,1)\n",
    "testing_data_y = y_test.reshape(-1,1)"
   ]
  },
  {
   "cell_type": "code",
   "execution_count": 19,
   "id": "76951160",
   "metadata": {
    "execution": {
     "iopub.execute_input": "2021-09-14T20:26:25.661694Z",
     "iopub.status.busy": "2021-09-14T20:26:25.661200Z",
     "iopub.status.idle": "2021-09-14T20:26:25.677364Z",
     "shell.execute_reply": "2021-09-14T20:26:25.676886Z"
    },
    "papermill": {
     "duration": 0.04895,
     "end_time": "2021-09-14T20:26:25.677477",
     "exception": false,
     "start_time": "2021-09-14T20:26:25.628527",
     "status": "completed"
    },
    "tags": []
   },
   "outputs": [
    {
     "name": "stdout",
     "output_type": "stream",
     "text": [
      "xavier\n",
      "xavier\n",
      "xavier\n",
      "xavier\n",
      "xavier\n"
     ]
    }
   ],
   "source": [
    "layers = [Affine(\"first\", 784, 100), Relu(\"first\"), Affine(\"second\", 100, 100), Relu(\"second\"), Affine(\"third\", 100, 2), Affine(\"last\", 2, 1), Sigmoid(\"last\")]\n",
    "model_nn = Model(layers)\n",
    "model_lr = Model([Affine(\"logits\", 784, 1), Sigmoid(\"sigmoid\")])"
   ]
  },
  {
   "cell_type": "code",
   "execution_count": 20,
   "id": "6eede77a",
   "metadata": {
    "execution": {
     "iopub.execute_input": "2021-09-14T20:26:25.739767Z",
     "iopub.status.busy": "2021-09-14T20:26:25.739232Z",
     "iopub.status.idle": "2021-09-14T20:26:25.754168Z",
     "shell.execute_reply": "2021-09-14T20:26:25.753713Z"
    },
    "papermill": {
     "duration": 0.048092,
     "end_time": "2021-09-14T20:26:25.754275",
     "exception": false,
     "start_time": "2021-09-14T20:26:25.706183",
     "status": "completed"
    },
    "tags": []
   },
   "outputs": [],
   "source": [
    "nn_learner = Learner(loss, model_nn, opt, config.num_epochs)\n",
    "acc_nn = ClfCallback(nn_learner, config.bs, training_data_x , testing_data_x, training_data_y, testing_data_y)\n",
    "nn_learner.set_callbacks([acc_nn])"
   ]
  },
  {
   "cell_type": "code",
   "execution_count": 21,
   "id": "877b6cc7",
   "metadata": {
    "execution": {
     "iopub.execute_input": "2021-09-14T20:26:25.817505Z",
     "iopub.status.busy": "2021-09-14T20:26:25.816895Z",
     "iopub.status.idle": "2021-09-14T20:26:25.829864Z",
     "shell.execute_reply": "2021-09-14T20:26:25.829388Z"
    },
    "papermill": {
     "duration": 0.047349,
     "end_time": "2021-09-14T20:26:25.829985",
     "exception": false,
     "start_time": "2021-09-14T20:26:25.782636",
     "status": "completed"
    },
    "tags": []
   },
   "outputs": [],
   "source": [
    "lr_learner = Learner(loss, model_lr, opt, config.num_epochs)\n",
    "acc_lr = ClfCallback(lr_learner, config.bs, training_data_x , testing_data_x, training_data_y, testing_data_y)\n",
    "lr_learner.set_callbacks([acc_lr])"
   ]
  },
  {
   "cell_type": "code",
   "execution_count": 22,
   "id": "d9b133c3",
   "metadata": {
    "execution": {
     "iopub.execute_input": "2021-09-14T20:26:25.893979Z",
     "iopub.status.busy": "2021-09-14T20:26:25.893436Z",
     "iopub.status.idle": "2021-09-14T20:27:50.964513Z",
     "shell.execute_reply": "2021-09-14T20:27:50.965334Z"
    },
    "papermill": {
     "duration": 85.106163,
     "end_time": "2021-09-14T20:27:50.965490",
     "exception": false,
     "start_time": "2021-09-14T20:26:25.859327",
     "status": "completed"
    },
    "tags": []
   },
   "outputs": [
    {
     "name": "stdout",
     "output_type": "stream",
     "text": [
      "Epoch 0, Loss 0.2338\n",
      "Training Accuracy: 0.7468, Testing Accuracy: 0.7626\n",
      "\n"
     ]
    },
    {
     "name": "stdout",
     "output_type": "stream",
     "text": [
      "Epoch 10, Loss 0.0687\n",
      "Training Accuracy: 0.9338, Testing Accuracy: 0.9395\n",
      "\n"
     ]
    },
    {
     "name": "stdout",
     "output_type": "stream",
     "text": [
      "Epoch 20, Loss 0.0466\n",
      "Training Accuracy: 0.9515, Testing Accuracy: 0.9592\n",
      "\n"
     ]
    },
    {
     "name": "stdout",
     "output_type": "stream",
     "text": [
      "Epoch 30, Loss 0.0384\n",
      "Training Accuracy: 0.9574, Testing Accuracy: 0.9672\n",
      "\n"
     ]
    },
    {
     "name": "stdout",
     "output_type": "stream",
     "text": [
      "Epoch 40, Loss 0.0342\n",
      "Training Accuracy: 0.9608, Testing Accuracy: 0.9698\n",
      "\n"
     ]
    },
    {
     "name": "stdout",
     "output_type": "stream",
     "text": [
      "Epoch 50, Loss 0.0314\n",
      "Training Accuracy: 0.9637, Testing Accuracy: 0.9733\n",
      "\n"
     ]
    },
    {
     "name": "stdout",
     "output_type": "stream",
     "text": [
      "Epoch 60, Loss 0.0295\n",
      "Training Accuracy: 0.9659, Testing Accuracy: 0.9728\n",
      "\n"
     ]
    },
    {
     "name": "stdout",
     "output_type": "stream",
     "text": [
      "Epoch 70, Loss 0.0279\n",
      "Training Accuracy: 0.9675, Testing Accuracy: 0.9728\n",
      "\n"
     ]
    },
    {
     "name": "stdout",
     "output_type": "stream",
     "text": [
      "Epoch 80, Loss 0.0267\n",
      "Training Accuracy: 0.9695, Testing Accuracy: 0.9738\n",
      "\n"
     ]
    },
    {
     "name": "stdout",
     "output_type": "stream",
     "text": [
      "Epoch 90, Loss 0.0256\n",
      "Training Accuracy: 0.9706, Testing Accuracy: 0.9743\n",
      "\n"
     ]
    },
    {
     "name": "stdout",
     "output_type": "stream",
     "text": [
      "Epoch 100, Loss 0.0247\n",
      "Training Accuracy: 0.9714, Testing Accuracy: 0.9743\n",
      "\n"
     ]
    },
    {
     "name": "stdout",
     "output_type": "stream",
     "text": [
      "Epoch 110, Loss 0.0238\n",
      "Training Accuracy: 0.9723, Testing Accuracy: 0.9748\n",
      "\n"
     ]
    },
    {
     "name": "stdout",
     "output_type": "stream",
     "text": [
      "Epoch 120, Loss 0.0231\n",
      "Training Accuracy: 0.9731, Testing Accuracy: 0.9743\n",
      "\n"
     ]
    },
    {
     "name": "stdout",
     "output_type": "stream",
     "text": [
      "Epoch 130, Loss 0.0224\n",
      "Training Accuracy: 0.9744, Testing Accuracy: 0.9738\n",
      "\n"
     ]
    },
    {
     "name": "stdout",
     "output_type": "stream",
     "text": [
      "Epoch 140, Loss 0.0218\n",
      "Training Accuracy: 0.9751, Testing Accuracy: 0.9738\n",
      "\n"
     ]
    },
    {
     "name": "stdout",
     "output_type": "stream",
     "text": [
      "Epoch 150, Loss 0.0212\n",
      "Training Accuracy: 0.9755, Testing Accuracy: 0.9748\n",
      "\n"
     ]
    },
    {
     "name": "stdout",
     "output_type": "stream",
     "text": [
      "Epoch 160, Loss 0.0206\n",
      "Training Accuracy: 0.9760, Testing Accuracy: 0.9748\n",
      "\n"
     ]
    },
    {
     "name": "stdout",
     "output_type": "stream",
     "text": [
      "Epoch 170, Loss 0.0201\n",
      "Training Accuracy: 0.9771, Testing Accuracy: 0.9753\n",
      "\n"
     ]
    },
    {
     "name": "stdout",
     "output_type": "stream",
     "text": [
      "Epoch 180, Loss 0.0196\n",
      "Training Accuracy: 0.9781, Testing Accuracy: 0.9753\n",
      "\n"
     ]
    },
    {
     "name": "stdout",
     "output_type": "stream",
     "text": [
      "Epoch 190, Loss 0.0191\n",
      "Training Accuracy: 0.9792, Testing Accuracy: 0.9753\n",
      "\n"
     ]
    },
    {
     "name": "stdout",
     "output_type": "stream",
     "text": [
      "Epoch 200, Loss 0.0187\n",
      "Training Accuracy: 0.9799, Testing Accuracy: 0.9758\n",
      "\n"
     ]
    },
    {
     "name": "stdout",
     "output_type": "stream",
     "text": [
      "Epoch 210, Loss 0.0182\n",
      "Training Accuracy: 0.9804, Testing Accuracy: 0.9768\n",
      "\n"
     ]
    },
    {
     "name": "stdout",
     "output_type": "stream",
     "text": [
      "Epoch 220, Loss 0.0178\n",
      "Training Accuracy: 0.9806, Testing Accuracy: 0.9768\n",
      "\n"
     ]
    },
    {
     "name": "stdout",
     "output_type": "stream",
     "text": [
      "Epoch 230, Loss 0.0174\n",
      "Training Accuracy: 0.9811, Testing Accuracy: 0.9773\n",
      "\n"
     ]
    },
    {
     "name": "stdout",
     "output_type": "stream",
     "text": [
      "Epoch 240, Loss 0.017\n",
      "Training Accuracy: 0.9814, Testing Accuracy: 0.9778\n",
      "\n"
     ]
    },
    {
     "data": {
      "text/plain": [
       "0.037168724869050054"
      ]
     },
     "execution_count": 22,
     "metadata": {},
     "output_type": "execute_result"
    }
   ],
   "source": [
    "nn_learner.train_loop(dl)"
   ]
  },
  {
   "cell_type": "code",
   "execution_count": 23,
   "id": "e0163366",
   "metadata": {
    "execution": {
     "iopub.execute_input": "2021-09-14T20:27:51.054603Z",
     "iopub.status.busy": "2021-09-14T20:27:51.054031Z",
     "iopub.status.idle": "2021-09-14T20:28:06.159942Z",
     "shell.execute_reply": "2021-09-14T20:28:06.160729Z"
    },
    "papermill": {
     "duration": 15.157239,
     "end_time": "2021-09-14T20:28:06.160882",
     "exception": false,
     "start_time": "2021-09-14T20:27:51.003643",
     "status": "completed"
    },
    "tags": []
   },
   "outputs": [
    {
     "name": "stdout",
     "output_type": "stream",
     "text": [
      "Epoch 0, Loss 0.2162\n",
      "Training Accuracy: 0.7612, Testing Accuracy: 0.7898\n",
      "\n"
     ]
    },
    {
     "name": "stdout",
     "output_type": "stream",
     "text": [
      "Epoch 10, Loss 0.0991\n",
      "Training Accuracy: 0.9163, Testing Accuracy: 0.9274\n",
      "\n"
     ]
    },
    {
     "name": "stdout",
     "output_type": "stream",
     "text": [
      "Epoch 20, Loss 0.0774\n",
      "Training Accuracy: 0.9301, Testing Accuracy: 0.9435\n",
      "\n"
     ]
    },
    {
     "name": "stdout",
     "output_type": "stream",
     "text": [
      "Epoch 30, Loss 0.0673\n",
      "Training Accuracy: 0.9369, Testing Accuracy: 0.9486\n",
      "\n"
     ]
    },
    {
     "name": "stdout",
     "output_type": "stream",
     "text": [
      "Epoch 40, Loss 0.0611\n",
      "Training Accuracy: 0.9412, Testing Accuracy: 0.9531\n",
      "\n"
     ]
    },
    {
     "name": "stdout",
     "output_type": "stream",
     "text": [
      "Epoch 50, Loss 0.0568\n",
      "Training Accuracy: 0.9442, Testing Accuracy: 0.9536\n",
      "\n"
     ]
    },
    {
     "name": "stdout",
     "output_type": "stream",
     "text": [
      "Epoch 60, Loss 0.0537\n",
      "Training Accuracy: 0.9472, Testing Accuracy: 0.9556\n",
      "\n"
     ]
    },
    {
     "name": "stdout",
     "output_type": "stream",
     "text": [
      "Epoch 70, Loss 0.0512\n",
      "Training Accuracy: 0.9492, Testing Accuracy: 0.9587\n",
      "\n"
     ]
    },
    {
     "name": "stdout",
     "output_type": "stream",
     "text": [
      "Epoch 80, Loss 0.0493\n",
      "Training Accuracy: 0.9508, Testing Accuracy: 0.9617\n",
      "\n"
     ]
    },
    {
     "name": "stdout",
     "output_type": "stream",
     "text": [
      "Epoch 90, Loss 0.0476\n",
      "Training Accuracy: 0.9518, Testing Accuracy: 0.9622\n",
      "\n"
     ]
    },
    {
     "name": "stdout",
     "output_type": "stream",
     "text": [
      "Epoch 100, Loss 0.0463\n",
      "Training Accuracy: 0.9528, Testing Accuracy: 0.9622\n",
      "\n"
     ]
    },
    {
     "name": "stdout",
     "output_type": "stream",
     "text": [
      "Epoch 110, Loss 0.0451\n",
      "Training Accuracy: 0.9534, Testing Accuracy: 0.9627\n",
      "\n"
     ]
    },
    {
     "name": "stdout",
     "output_type": "stream",
     "text": [
      "Epoch 120, Loss 0.044\n",
      "Training Accuracy: 0.9545, Testing Accuracy: 0.9637\n",
      "\n"
     ]
    },
    {
     "name": "stdout",
     "output_type": "stream",
     "text": [
      "Epoch 130, Loss 0.0431\n",
      "Training Accuracy: 0.9554, Testing Accuracy: 0.9637\n",
      "\n"
     ]
    },
    {
     "name": "stdout",
     "output_type": "stream",
     "text": [
      "Epoch 140, Loss 0.0423\n",
      "Training Accuracy: 0.9559, Testing Accuracy: 0.9642\n",
      "\n"
     ]
    },
    {
     "name": "stdout",
     "output_type": "stream",
     "text": [
      "Epoch 150, Loss 0.0416\n",
      "Training Accuracy: 0.9564, Testing Accuracy: 0.9652\n",
      "\n"
     ]
    },
    {
     "name": "stdout",
     "output_type": "stream",
     "text": [
      "Epoch 160, Loss 0.0409\n",
      "Training Accuracy: 0.9568, Testing Accuracy: 0.9647\n",
      "\n"
     ]
    },
    {
     "name": "stdout",
     "output_type": "stream",
     "text": [
      "Epoch 170, Loss 0.0403\n",
      "Training Accuracy: 0.9572, Testing Accuracy: 0.9647\n",
      "\n"
     ]
    },
    {
     "name": "stdout",
     "output_type": "stream",
     "text": [
      "Epoch 180, Loss 0.0397\n",
      "Training Accuracy: 0.9577, Testing Accuracy: 0.9657\n",
      "\n"
     ]
    },
    {
     "name": "stdout",
     "output_type": "stream",
     "text": [
      "Epoch 190, Loss 0.0392\n",
      "Training Accuracy: 0.9579, Testing Accuracy: 0.9657\n",
      "\n"
     ]
    },
    {
     "name": "stdout",
     "output_type": "stream",
     "text": [
      "Epoch 200, Loss 0.0388\n",
      "Training Accuracy: 0.9587, Testing Accuracy: 0.9657\n",
      "\n"
     ]
    },
    {
     "name": "stdout",
     "output_type": "stream",
     "text": [
      "Epoch 210, Loss 0.0383\n",
      "Training Accuracy: 0.9584, Testing Accuracy: 0.9657\n",
      "\n"
     ]
    },
    {
     "name": "stdout",
     "output_type": "stream",
     "text": [
      "Epoch 220, Loss 0.0379\n",
      "Training Accuracy: 0.9586, Testing Accuracy: 0.9662\n",
      "\n"
     ]
    },
    {
     "name": "stdout",
     "output_type": "stream",
     "text": [
      "Epoch 230, Loss 0.0375\n",
      "Training Accuracy: 0.9590, Testing Accuracy: 0.9662\n",
      "\n"
     ]
    },
    {
     "name": "stdout",
     "output_type": "stream",
     "text": [
      "Epoch 240, Loss 0.0372\n",
      "Training Accuracy: 0.9595, Testing Accuracy: 0.9672\n",
      "\n"
     ]
    },
    {
     "data": {
      "text/plain": [
       "0.048419279886822895"
      ]
     },
     "execution_count": 23,
     "metadata": {},
     "output_type": "execute_result"
    }
   ],
   "source": [
    "lr_learner.train_loop(dl)"
   ]
  },
  {
   "cell_type": "code",
   "execution_count": 24,
   "id": "ca410940",
   "metadata": {
    "execution": {
     "iopub.execute_input": "2021-09-14T20:28:06.266614Z",
     "iopub.status.busy": "2021-09-14T20:28:06.266038Z",
     "iopub.status.idle": "2021-09-14T20:28:06.512214Z",
     "shell.execute_reply": "2021-09-14T20:28:06.511491Z"
    },
    "papermill": {
     "duration": 0.305578,
     "end_time": "2021-09-14T20:28:06.512398",
     "exception": false,
     "start_time": "2021-09-14T20:28:06.206820",
     "status": "completed"
    },
    "tags": []
   },
   "outputs": [
    {
     "data": {
      "text/plain": [
       "<matplotlib.legend.Legend at 0x7f8876d6cf28>"
      ]
     },
     "execution_count": 24,
     "metadata": {},
     "output_type": "execute_result"
    },
    {
     "data": {
      "image/png": "[encoded data removed]",
      "text/plain": [
       "<Figure size 1080x720 with 1 Axes>"
      ]
     },
     "metadata": {
      "needs_background": "light"
     },
     "output_type": "display_data"
    }
   ],
   "source": [
    "#comparing the results of NN and LR\n",
    "plt.figure(figsize=(15,10))\n",
    "\n",
    "# Neural Network plots\n",
    "plt.plot(acc_nn.accuracies, 'r-', label = \"Training Accuracies - NN\")\n",
    "plt.plot(acc_nn.test_accuracies, 'g-', label = \"Testing Accuracies - NN\")\n",
    "\n",
    "# Logistic Regression plots\n",
    "plt.plot(acc_lr.accuracies, 'k-', label = \"Training Accuracies - LR\")\n",
    "plt.plot(acc_lr.test_accuracies, 'b-', label = \"Testing Accuracies - LR\")\n",
    "plt.legend()"
   ]
  },
  {
   "cell_type": "markdown",
   "id": "80dfb35c",
   "metadata": {
    "papermill": {
     "duration": 0.04688,
     "end_time": "2021-09-14T20:28:06.607146",
     "exception": false,
     "start_time": "2021-09-14T20:28:06.560266",
     "status": "completed"
    },
    "tags": []
   },
   "source": [
    "#### Plotting the outputs of this layer of the NN.\n"
   ]
  },
  {
   "cell_type": "code",
   "execution_count": 25,
   "id": "45eb2ff5",
   "metadata": {
    "execution": {
     "iopub.execute_input": "2021-09-14T20:28:06.704424Z",
     "iopub.status.busy": "2021-09-14T20:28:06.703852Z",
     "iopub.status.idle": "2021-09-14T20:28:06.726211Z",
     "shell.execute_reply": "2021-09-14T20:28:06.726993Z"
    },
    "papermill": {
     "duration": 0.07379,
     "end_time": "2021-09-14T20:28:06.727152",
     "exception": false,
     "start_time": "2021-09-14T20:28:06.653362",
     "status": "completed"
    },
    "tags": []
   },
   "outputs": [],
   "source": [
    "new_model = Model(layers[:-2])\n",
    "testing_plot = new_model(testing_data_x)"
   ]
  },
  {
   "cell_type": "code",
   "execution_count": 26,
   "id": "4c0a5485",
   "metadata": {
    "execution": {
     "iopub.execute_input": "2021-09-14T20:28:06.838443Z",
     "iopub.status.busy": "2021-09-14T20:28:06.837857Z",
     "iopub.status.idle": "2021-09-14T20:28:07.066101Z",
     "shell.execute_reply": "2021-09-14T20:28:07.066532Z"
    },
    "papermill": {
     "duration": 0.289596,
     "end_time": "2021-09-14T20:28:07.066673",
     "exception": false,
     "start_time": "2021-09-14T20:28:06.777077",
     "status": "completed"
    },
    "tags": []
   },
   "outputs": [
    {
     "data": {
      "text/plain": [
       "Text(0.5, 1.0, 'Outputs')"
      ]
     },
     "execution_count": 26,
     "metadata": {},
     "output_type": "execute_result"
    },
    {
     "data": {
      "image/png": "[encoded data removed]",
      "text/plain": [
       "<Figure size 576x504 with 1 Axes>"
      ]
     },
     "metadata": {
      "needs_background": "light"
     },
     "output_type": "display_data"
    }
   ],
   "source": [
    "# Plotting the scatter plot of points and color coding by class\n",
    "plt.figure(figsize=(8,7))\n",
    "plt.scatter(testing_plot[:,0], testing_plot[:,1], alpha = 0.1, c = y_test.ravel());\n",
    "plt.title('Outputs')"
   ]
  },
  {
   "cell_type": "markdown",
   "id": "a74fcf8f",
   "metadata": {
    "papermill": {
     "duration": 0.049636,
     "end_time": "2021-09-14T20:28:07.166698",
     "exception": false,
     "start_time": "2021-09-14T20:28:07.117062",
     "status": "completed"
    },
    "tags": []
   },
   "source": [
    "Probability contours"
   ]
  },
  {
   "cell_type": "code",
   "execution_count": 27,
   "id": "d0afc8e3",
   "metadata": {
    "execution": {
     "iopub.execute_input": "2021-09-14T20:28:07.275173Z",
     "iopub.status.busy": "2021-09-14T20:28:07.274105Z",
     "iopub.status.idle": "2021-09-14T20:28:07.284981Z",
     "shell.execute_reply": "2021-09-14T20:28:07.284517Z"
    },
    "papermill": {
     "duration": 0.06798,
     "end_time": "2021-09-14T20:28:07.285116",
     "exception": false,
     "start_time": "2021-09-14T20:28:07.217136",
     "status": "completed"
    },
    "tags": []
   },
   "outputs": [],
   "source": [
    "model_prob = Model(layers[-2:]) "
   ]
  },
  {
   "cell_type": "code",
   "execution_count": 28,
   "id": "9b96e238",
   "metadata": {
    "execution": {
     "iopub.execute_input": "2021-09-14T20:28:07.389588Z",
     "iopub.status.busy": "2021-09-14T20:28:07.388948Z",
     "iopub.status.idle": "2021-09-14T20:28:07.403340Z",
     "shell.execute_reply": "2021-09-14T20:28:07.403762Z"
    },
    "papermill": {
     "duration": 0.069389,
     "end_time": "2021-09-14T20:28:07.403899",
     "exception": false,
     "start_time": "2021-09-14T20:28:07.334510",
     "status": "completed"
    },
    "tags": []
   },
   "outputs": [],
   "source": [
    "#creating the x and y ranges according to the above generated plot.\n",
    "x_range = np.linspace(-4, 1, 100) \n",
    "y_range = np.linspace(-6, 6, 100) \n",
    "x_grid, y_grid = np.meshgrid(x_range, y_range) # x_grid and y_grig are of size 100 X 100\n",
    "\n",
    "# converting x_grid and y_grid to continuous arrays\n",
    "x_gridflat = np.ravel(x_grid)\n",
    "y_gridflat = np.ravel(y_grid)\n",
    "\n",
    "# The last layer of the current model takes two columns as input. Hence transpose of np.vstack() is required.\n",
    "X = np.vstack((x_gridflat, y_gridflat)).T\n",
    "\n",
    "prob_contour = model_prob(X).reshape(100,100) "
   ]
  },
  {
   "cell_type": "code",
   "execution_count": 29,
   "id": "da72499a",
   "metadata": {
    "execution": {
     "iopub.execute_input": "2021-09-14T20:28:07.543079Z",
     "iopub.status.busy": "2021-09-14T20:28:07.541469Z",
     "iopub.status.idle": "2021-09-14T20:28:07.821873Z",
     "shell.execute_reply": "2021-09-14T20:28:07.821274Z"
    },
    "papermill": {
     "duration": 0.335966,
     "end_time": "2021-09-14T20:28:07.822001",
     "exception": false,
     "start_time": "2021-09-14T20:28:07.486035",
     "status": "completed"
    },
    "tags": []
   },
   "outputs": [
    {
     "data": {
      "image/png": "[encoded data removed]",
      "text/plain": [
       "<Figure size 720x648 with 1 Axes>"
      ]
     },
     "metadata": {
      "needs_background": "light"
     },
     "output_type": "display_data"
    }
   ],
   "source": [
    "plt.figure(figsize=(10,9))\n",
    "plt.scatter(testing_plot[:,0], testing_plot[:,1], alpha = 0.1, c = y_test.ravel())\n",
    "contours = plt.contour(x_grid,y_grid,prob_contour)\n",
    "plt.title('Probability Contours')\n",
    "plt.clabel(contours, inline = True );"
   ]
  },
  {
   "cell_type": "code",
   "execution_count": null,
   "id": "e81b4ac7",
   "metadata": {
    "papermill": {
     "duration": 0.05184,
     "end_time": "2021-09-14T20:28:07.926482",
     "exception": false,
     "start_time": "2021-09-14T20:28:07.874642",
     "status": "completed"
    },
    "tags": []
   },
   "outputs": [],
   "source": []
  }
 ],
 "metadata": {
  "kernelspec": {
   "display_name": "Python 3",
   "language": "python",
   "name": "python3"
  },
  "language_info": {
   "codemirror_mode": {
    "name": "ipython",
    "version": 3
   },
   "file_extension": ".py",
   "mimetype": "text/x-python",
   "name": "python",
   "nbconvert_exporter": "python",
   "pygments_lexer": "ipython3",
   "version": "3.6.14"
  },
  "papermill": {
   "default_parameters": {},
   "duration": 109.038282,
   "end_time": "2021-09-14T20:28:08.388990",
   "environment_variables": {},
   "exception": null,
   "input_path": "2020-08-11-part2.ipynb",
   "output_path": "2020-08-11-part2.ipynb",
   "parameters": {},
   "start_time": "2021-09-14T20:26:19.350708",
   "version": "2.3.3"
  }
 },
 "nbformat": 4,
 "nbformat_minor": 5
}