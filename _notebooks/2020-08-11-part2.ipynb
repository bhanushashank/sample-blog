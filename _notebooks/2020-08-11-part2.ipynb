{
 "cells": [
  {
   "cell_type": "markdown",
   "id": "98380cd3",
   "metadata": {
    "papermill": {
     "duration": 0.035839,
     "end_time": "2022-11-08T00:42:42.325769",
     "exception": false,
     "start_time": "2022-11-08T00:42:42.289930",
     "status": "completed"
    },
    "tags": []
   },
   "source": [
    "# Distinguish Your Own Digits (DYOD)"
   ]
  },
  {
   "cell_type": "markdown",
   "id": "ef31240d",
   "metadata": {
    "papermill": {
     "duration": 0.029753,
     "end_time": "2022-11-08T00:42:42.388167",
     "exception": false,
     "start_time": "2022-11-08T00:42:42.358414",
     "status": "completed"
    },
    "tags": []
   },
   "source": [
    "You are going to write a classifier that distinguishes between the number 3 and number 8."
   ]
  },
  {
   "cell_type": "code",
   "execution_count": 1,
   "id": "b15c8646",
   "metadata": {
    "execution": {
     "iopub.execute_input": "2022-11-08T00:42:42.462034Z",
     "iopub.status.busy": "2022-11-08T00:42:42.461227Z",
     "iopub.status.idle": "2022-11-08T00:42:42.475509Z",
     "shell.execute_reply": "2022-11-08T00:42:42.474852Z"
    },
    "papermill": {
     "duration": 0.057021,
     "end_time": "2022-11-08T00:42:42.475711",
     "exception": false,
     "start_time": "2022-11-08T00:42:42.418690",
     "status": "completed"
    },
    "tags": []
   },
   "outputs": [],
   "source": [
    "%load_ext autoreload\n",
    "%autoreload 2"
   ]
  },
  {
   "cell_type": "code",
   "execution_count": 2,
   "id": "22ef38dc",
   "metadata": {
    "execution": {
     "iopub.execute_input": "2022-11-08T00:42:42.546429Z",
     "iopub.status.busy": "2022-11-08T00:42:42.545733Z",
     "iopub.status.idle": "2022-11-08T00:42:43.223079Z",
     "shell.execute_reply": "2022-11-08T00:42:43.222355Z"
    },
    "papermill": {
     "duration": 0.715466,
     "end_time": "2022-11-08T00:42:43.223216",
     "exception": false,
     "start_time": "2022-11-08T00:42:42.507750",
     "status": "completed"
    },
    "tags": []
   },
   "outputs": [],
   "source": [
    "%matplotlib inline\n",
    "import numpy as np\n",
    "import matplotlib.pyplot as plt\n",
    "import pandas as pd"
   ]
  },
  {
   "cell_type": "markdown",
   "id": "ba036198",
   "metadata": {
    "papermill": {
     "duration": 0.031103,
     "end_time": "2022-11-08T00:42:43.284398",
     "exception": false,
     "start_time": "2022-11-08T00:42:43.253295",
     "status": "completed"
    },
    "tags": []
   },
   "source": [
    "From the command line run `pip install mnist`. This is a library that will help you bring down the mnist dataset. If you run this from a notebook, you need to put  `!pip install mnist` in a cell by itself."
   ]
  },
  {
   "cell_type": "code",
   "execution_count": 3,
   "id": "bb6ad8a1",
   "metadata": {
    "execution": {
     "iopub.execute_input": "2022-11-08T00:42:43.352570Z",
     "iopub.status.busy": "2022-11-08T00:42:43.351742Z",
     "iopub.status.idle": "2022-11-08T00:42:45.402719Z",
     "shell.execute_reply": "2022-11-08T00:42:45.402086Z"
    },
    "papermill": {
     "duration": 2.090004,
     "end_time": "2022-11-08T00:42:45.402964",
     "exception": false,
     "start_time": "2022-11-08T00:42:43.312960",
     "status": "completed"
    },
    "tags": []
   },
   "outputs": [
    {
     "name": "stdout",
     "output_type": "stream",
     "text": [
      "Collecting mnist\r\n"
     ]
    },
    {
     "name": "stdout",
     "output_type": "stream",
     "text": [
      "  Downloading mnist-0.2.2-py2.py3-none-any.whl (3.5 kB)\r\n",
      "Requirement already satisfied: numpy in /opt/hostedtoolcache/Python/3.6.15/x64/lib/python3.6/site-packages (from mnist) (1.19.5)\r\n"
     ]
    },
    {
     "name": "stdout",
     "output_type": "stream",
     "text": [
      "Installing collected packages: mnist\r\n"
     ]
    },
    {
     "name": "stdout",
     "output_type": "stream",
     "text": [
      "Successfully installed mnist-0.2.2\r\n"
     ]
    }
   ],
   "source": [
    "!pip install mnist"
   ]
  },
  {
   "cell_type": "markdown",
   "id": "69df9c9a",
   "metadata": {
    "papermill": {
     "duration": 0.032648,
     "end_time": "2022-11-08T00:42:45.467286",
     "exception": false,
     "start_time": "2022-11-08T00:42:45.434638",
     "status": "completed"
    },
    "tags": []
   },
   "source": [
    "## Preparing the Data"
   ]
  },
  {
   "cell_type": "code",
   "execution_count": 4,
   "id": "7f69d806",
   "metadata": {
    "execution": {
     "iopub.execute_input": "2022-11-08T00:42:45.536388Z",
     "iopub.status.busy": "2022-11-08T00:42:45.533765Z",
     "iopub.status.idle": "2022-11-08T00:42:45.553416Z",
     "shell.execute_reply": "2022-11-08T00:42:45.552781Z"
    },
    "papermill": {
     "duration": 0.055538,
     "end_time": "2022-11-08T00:42:45.553556",
     "exception": false,
     "start_time": "2022-11-08T00:42:45.498018",
     "status": "completed"
    },
    "tags": []
   },
   "outputs": [],
   "source": [
    "import mnist"
   ]
  },
  {
   "cell_type": "code",
   "execution_count": 5,
   "id": "a411e44f",
   "metadata": {
    "execution": {
     "iopub.execute_input": "2022-11-08T00:42:45.630941Z",
     "iopub.status.busy": "2022-11-08T00:42:45.630248Z",
     "iopub.status.idle": "2022-11-08T00:42:46.670864Z",
     "shell.execute_reply": "2022-11-08T00:42:46.671415Z"
    },
    "papermill": {
     "duration": 1.08144,
     "end_time": "2022-11-08T00:42:46.671590",
     "exception": false,
     "start_time": "2022-11-08T00:42:45.590150",
     "status": "completed"
    },
    "tags": []
   },
   "outputs": [],
   "source": [
    "train_images = mnist.train_images()\n",
    "train_labels = mnist.train_labels()"
   ]
  },
  {
   "cell_type": "code",
   "execution_count": 6,
   "id": "dceab3a5",
   "metadata": {
    "execution": {
     "iopub.execute_input": "2022-11-08T00:42:46.743665Z",
     "iopub.status.busy": "2022-11-08T00:42:46.743028Z",
     "iopub.status.idle": "2022-11-08T00:42:46.759657Z",
     "shell.execute_reply": "2022-11-08T00:42:46.758847Z"
    },
    "papermill": {
     "duration": 0.055052,
     "end_time": "2022-11-08T00:42:46.759816",
     "exception": false,
     "start_time": "2022-11-08T00:42:46.704764",
     "status": "completed"
    },
    "tags": []
   },
   "outputs": [
    {
     "data": {
      "text/plain": [
       "((60000, 28, 28), (60000,))"
      ]
     },
     "execution_count": 6,
     "metadata": {},
     "output_type": "execute_result"
    }
   ],
   "source": [
    "train_images.shape, train_labels.shape"
   ]
  },
  {
   "cell_type": "code",
   "execution_count": 7,
   "id": "f50dc2bb",
   "metadata": {
    "execution": {
     "iopub.execute_input": "2022-11-08T00:42:46.840914Z",
     "iopub.status.busy": "2022-11-08T00:42:46.832042Z",
     "iopub.status.idle": "2022-11-08T00:42:47.123377Z",
     "shell.execute_reply": "2022-11-08T00:42:47.122685Z"
    },
    "papermill": {
     "duration": 0.330945,
     "end_time": "2022-11-08T00:42:47.123524",
     "exception": false,
     "start_time": "2022-11-08T00:42:46.792579",
     "status": "completed"
    },
    "tags": []
   },
   "outputs": [],
   "source": [
    "test_images = mnist.test_images()\n",
    "test_labels = mnist.test_labels()"
   ]
  },
  {
   "cell_type": "code",
   "execution_count": 8,
   "id": "fc38cf1b",
   "metadata": {
    "execution": {
     "iopub.execute_input": "2022-11-08T00:42:47.194981Z",
     "iopub.status.busy": "2022-11-08T00:42:47.194285Z",
     "iopub.status.idle": "2022-11-08T00:42:47.211151Z",
     "shell.execute_reply": "2022-11-08T00:42:47.210508Z"
    },
    "papermill": {
     "duration": 0.053575,
     "end_time": "2022-11-08T00:42:47.211292",
     "exception": false,
     "start_time": "2022-11-08T00:42:47.157717",
     "status": "completed"
    },
    "tags": []
   },
   "outputs": [
    {
     "data": {
      "text/plain": [
       "((10000, 28, 28), (10000,))"
      ]
     },
     "execution_count": 8,
     "metadata": {},
     "output_type": "execute_result"
    }
   ],
   "source": [
    "test_images.shape, test_labels.shape"
   ]
  },
  {
   "cell_type": "code",
   "execution_count": 9,
   "id": "f9ed8fe0",
   "metadata": {
    "execution": {
     "iopub.execute_input": "2022-11-08T00:42:47.287703Z",
     "iopub.status.busy": "2022-11-08T00:42:47.286968Z",
     "iopub.status.idle": "2022-11-08T00:42:47.484840Z",
     "shell.execute_reply": "2022-11-08T00:42:47.484255Z"
    },
    "papermill": {
     "duration": 0.239592,
     "end_time": "2022-11-08T00:42:47.484984",
     "exception": false,
     "start_time": "2022-11-08T00:42:47.245392",
     "status": "completed"
    },
    "tags": []
   },
   "outputs": [
    {
     "name": "stdout",
     "output_type": "stream",
     "text": [
      "2\n"
     ]
    },
    {
     "data": {
      "text/plain": [
       "<matplotlib.image.AxesImage at 0x7f55ec7d7cf8>"
      ]
     },
     "execution_count": 9,
     "metadata": {},
     "output_type": "execute_result"
    },
    {
     "data": {
      "image/png": "[encoded data removed]",
      "text/plain": [
       "<Figure size 432x288 with 1 Axes>"
      ]
     },
     "metadata": {
      "needs_background": "light"
     },
     "output_type": "display_data"
    }
   ],
   "source": [
    "image_index = 7776 # You may select anything up to 60,000\n",
    "print(train_labels[image_index]) \n",
    "plt.imshow(train_images[image_index], cmap='Greys')"
   ]
  },
  {
   "cell_type": "markdown",
   "id": "a8d2388d",
   "metadata": {
    "papermill": {
     "duration": 0.033427,
     "end_time": "2022-11-08T00:42:47.552159",
     "exception": false,
     "start_time": "2022-11-08T00:42:47.518732",
     "status": "completed"
    },
    "tags": []
   },
   "source": [
    "## Filter data to get 3 and 8 out"
   ]
  },
  {
   "cell_type": "code",
   "execution_count": 10,
   "id": "776f7fc7",
   "metadata": {
    "execution": {
     "iopub.execute_input": "2022-11-08T00:42:47.629865Z",
     "iopub.status.busy": "2022-11-08T00:42:47.628906Z",
     "iopub.status.idle": "2022-11-08T00:42:47.652116Z",
     "shell.execute_reply": "2022-11-08T00:42:47.652658Z"
    },
    "papermill": {
     "duration": 0.064591,
     "end_time": "2022-11-08T00:42:47.652872",
     "exception": false,
     "start_time": "2022-11-08T00:42:47.588281",
     "status": "completed"
    },
    "tags": []
   },
   "outputs": [],
   "source": [
    "train_filter = np.where((train_labels == 3 ) | (train_labels == 8))\n",
    "test_filter = np.where((test_labels == 3) | (test_labels == 8))\n",
    "X_train, y_train = train_images[train_filter], train_labels[train_filter]\n",
    "X_test, y_test = test_images[test_filter], test_labels[test_filter]"
   ]
  },
  {
   "cell_type": "markdown",
   "id": "948f0b7e",
   "metadata": {
    "papermill": {
     "duration": 0.033065,
     "end_time": "2022-11-08T00:42:47.720839",
     "exception": false,
     "start_time": "2022-11-08T00:42:47.687774",
     "status": "completed"
    },
    "tags": []
   },
   "source": [
    "We normalize the pizel values in the 0 to 1 range"
   ]
  },
  {
   "cell_type": "code",
   "execution_count": 11,
   "id": "ee4c2166",
   "metadata": {
    "execution": {
     "iopub.execute_input": "2022-11-08T00:42:47.796237Z",
     "iopub.status.busy": "2022-11-08T00:42:47.791834Z",
     "iopub.status.idle": "2022-11-08T00:42:47.857436Z",
     "shell.execute_reply": "2022-11-08T00:42:47.856579Z"
    },
    "papermill": {
     "duration": 0.102899,
     "end_time": "2022-11-08T00:42:47.857635",
     "exception": false,
     "start_time": "2022-11-08T00:42:47.754736",
     "status": "completed"
    },
    "tags": []
   },
   "outputs": [],
   "source": [
    "X_train = X_train/255.\n",
    "X_test = X_test/255."
   ]
  },
  {
   "cell_type": "markdown",
   "id": "ddcf4fab",
   "metadata": {
    "papermill": {
     "duration": 0.040084,
     "end_time": "2022-11-08T00:42:47.928525",
     "exception": false,
     "start_time": "2022-11-08T00:42:47.888441",
     "status": "completed"
    },
    "tags": []
   },
   "source": [
    "And setup the labels as 1 (when the digit is 3) and 0 (when the digit is 8)"
   ]
  },
  {
   "cell_type": "code",
   "execution_count": 12,
   "id": "7dc908f2",
   "metadata": {
    "execution": {
     "iopub.execute_input": "2022-11-08T00:42:48.000803Z",
     "iopub.status.busy": "2022-11-08T00:42:48.000001Z",
     "iopub.status.idle": "2022-11-08T00:42:48.014149Z",
     "shell.execute_reply": "2022-11-08T00:42:48.014690Z"
    },
    "papermill": {
     "duration": 0.053225,
     "end_time": "2022-11-08T00:42:48.014846",
     "exception": false,
     "start_time": "2022-11-08T00:42:47.961621",
     "status": "completed"
    },
    "tags": []
   },
   "outputs": [],
   "source": [
    "y_train = 1*(y_train==3)\n",
    "y_test = 1*(y_test==3)"
   ]
  },
  {
   "cell_type": "code",
   "execution_count": 13,
   "id": "01e4e969",
   "metadata": {
    "execution": {
     "iopub.execute_input": "2022-11-08T00:42:48.092726Z",
     "iopub.status.busy": "2022-11-08T00:42:48.091897Z",
     "iopub.status.idle": "2022-11-08T00:42:48.106760Z",
     "shell.execute_reply": "2022-11-08T00:42:48.107363Z"
    },
    "papermill": {
     "duration": 0.057324,
     "end_time": "2022-11-08T00:42:48.107519",
     "exception": false,
     "start_time": "2022-11-08T00:42:48.050195",
     "status": "completed"
    },
    "tags": []
   },
   "outputs": [
    {
     "data": {
      "text/plain": [
       "((11982, 28, 28), (1984, 28, 28))"
      ]
     },
     "execution_count": 13,
     "metadata": {},
     "output_type": "execute_result"
    }
   ],
   "source": [
    "X_train.shape, X_test.shape"
   ]
  },
  {
   "cell_type": "markdown",
   "id": "5ccf3f85",
   "metadata": {
    "papermill": {
     "duration": 0.035485,
     "end_time": "2022-11-08T00:42:48.179683",
     "exception": false,
     "start_time": "2022-11-08T00:42:48.144198",
     "status": "completed"
    },
    "tags": []
   },
   "source": [
    "We reshape the data to flatten the image pixels into a set of features or co-variates:"
   ]
  },
  {
   "cell_type": "code",
   "execution_count": 14,
   "id": "5286a4a3",
   "metadata": {
    "execution": {
     "iopub.execute_input": "2022-11-08T00:42:48.267864Z",
     "iopub.status.busy": "2022-11-08T00:42:48.265508Z",
     "iopub.status.idle": "2022-11-08T00:42:48.279947Z",
     "shell.execute_reply": "2022-11-08T00:42:48.280751Z"
    },
    "papermill": {
     "duration": 0.063428,
     "end_time": "2022-11-08T00:42:48.280913",
     "exception": false,
     "start_time": "2022-11-08T00:42:48.217485",
     "status": "completed"
    },
    "tags": []
   },
   "outputs": [
    {
     "data": {
      "text/plain": [
       "((11982, 784), (1984, 784))"
      ]
     },
     "execution_count": 14,
     "metadata": {},
     "output_type": "execute_result"
    }
   ],
   "source": [
    "X_train = X_train.reshape(X_train.shape[0], -1)\n",
    "X_test = X_test.reshape(X_test.shape[0], -1)\n",
    "X_train.shape, X_test.shape"
   ]
  },
  {
   "cell_type": "code",
   "execution_count": 15,
   "id": "73c5f88a",
   "metadata": {
    "execution": {
     "iopub.execute_input": "2022-11-08T00:42:48.366740Z",
     "iopub.status.busy": "2022-11-08T00:42:48.361066Z",
     "iopub.status.idle": "2022-11-08T00:42:48.386561Z",
     "shell.execute_reply": "2022-11-08T00:42:48.387156Z"
    },
    "papermill": {
     "duration": 0.071738,
     "end_time": "2022-11-08T00:42:48.387340",
     "exception": false,
     "start_time": "2022-11-08T00:42:48.315602",
     "status": "completed"
    },
    "tags": []
   },
   "outputs": [],
   "source": [
    "#Impoting functions from 'Kudzu'\n",
    "from kudzu.model import Model\n",
    "from kudzu.train import Learner\n",
    "from kudzu.optim import GD\n",
    "from kudzu.data import Data, Sampler,Dataloader\n",
    "\n",
    "from kudzu.callbacks import AccCallback\n",
    "from kudzu.callbacks import ClfCallback\n",
    "\n",
    "from kudzu.loss import MSE\n",
    "\n",
    "from kudzu.layer import Sigmoid,Relu\n",
    "from kudzu.layer import Affine"
   ]
  },
  {
   "cell_type": "markdown",
   "id": "bc01172a",
   "metadata": {
    "papermill": {
     "duration": 0.033377,
     "end_time": "2022-11-08T00:42:48.454823",
     "exception": false,
     "start_time": "2022-11-08T00:42:48.421446",
     "status": "completed"
    },
    "tags": []
   },
   "source": [
    "### Let us create a `Config` class, to store important parameters. \n",
    "This class essentially plays the role of a dictionary."
   ]
  },
  {
   "cell_type": "code",
   "execution_count": 16,
   "id": "978281aa",
   "metadata": {
    "execution": {
     "iopub.execute_input": "2022-11-08T00:42:48.538291Z",
     "iopub.status.busy": "2022-11-08T00:42:48.537537Z",
     "iopub.status.idle": "2022-11-08T00:42:48.552408Z",
     "shell.execute_reply": "2022-11-08T00:42:48.551663Z"
    },
    "papermill": {
     "duration": 0.061364,
     "end_time": "2022-11-08T00:42:48.552576",
     "exception": false,
     "start_time": "2022-11-08T00:42:48.491212",
     "status": "completed"
    },
    "tags": []
   },
   "outputs": [],
   "source": [
    "class Config:\n",
    "    pass\n",
    "config = Config()\n",
    "config.lr = 0.001\n",
    "config.num_epochs = 250\n",
    "config.bs = 50"
   ]
  },
  {
   "cell_type": "markdown",
   "id": "1385fa59",
   "metadata": {
    "papermill": {
     "duration": 0.035129,
     "end_time": "2022-11-08T00:42:48.625563",
     "exception": false,
     "start_time": "2022-11-08T00:42:48.590434",
     "status": "completed"
    },
    "tags": []
   },
   "source": [
    "### Running Models with the Training data\n",
    "Details about the network layers:\n",
    "- A first affine layer has 784 inputs and does 100 affine transforms. These are followed by a Relu\n",
    "- A second affine layer has 100 inputs from the 100 activations of the past layer, and does 100 affine transforms. These are followed by a Relu\n",
    "- A third affine layer has 100 activations and does 2 affine transformations to create an embedding for visualization. There is no non-linearity here.\n",
    "- A final \"logistic regression\" which has an affine transform from 2 inputs to 1 output, which is squeezed through a sigmoid.\n"
   ]
  },
  {
   "cell_type": "code",
   "execution_count": 17,
   "id": "2b9c66db",
   "metadata": {
    "execution": {
     "iopub.execute_input": "2022-11-08T00:42:48.708369Z",
     "iopub.status.busy": "2022-11-08T00:42:48.705053Z",
     "iopub.status.idle": "2022-11-08T00:42:48.719690Z",
     "shell.execute_reply": "2022-11-08T00:42:48.720415Z"
    },
    "papermill": {
     "duration": 0.058224,
     "end_time": "2022-11-08T00:42:48.720557",
     "exception": false,
     "start_time": "2022-11-08T00:42:48.662333",
     "status": "completed"
    },
    "tags": []
   },
   "outputs": [],
   "source": [
    "data = Data(X_train, y_train.reshape(-1,1))\n",
    "sampler = Sampler(data, config.bs, shuffle=True)\n",
    "\n",
    "dl = Dataloader(data, sampler)\n",
    "\n",
    "opt = GD(config.lr)\n",
    "loss = MSE()"
   ]
  },
  {
   "cell_type": "code",
   "execution_count": 18,
   "id": "b275e4c2",
   "metadata": {
    "execution": {
     "iopub.execute_input": "2022-11-08T00:42:48.800486Z",
     "iopub.status.busy": "2022-11-08T00:42:48.799613Z",
     "iopub.status.idle": "2022-11-08T00:42:48.813432Z",
     "shell.execute_reply": "2022-11-08T00:42:48.812847Z"
    },
    "papermill": {
     "duration": 0.056824,
     "end_time": "2022-11-08T00:42:48.813586",
     "exception": false,
     "start_time": "2022-11-08T00:42:48.756762",
     "status": "completed"
    },
    "tags": []
   },
   "outputs": [],
   "source": [
    "training_data_x = X_train\n",
    "testing_data_x = X_test\n",
    "training_data_y = y_train.reshape(-1,1)\n",
    "testing_data_y = y_test.reshape(-1,1)"
   ]
  },
  {
   "cell_type": "code",
   "execution_count": 19,
   "id": "76951160",
   "metadata": {
    "execution": {
     "iopub.execute_input": "2022-11-08T00:42:48.886261Z",
     "iopub.status.busy": "2022-11-08T00:42:48.885526Z",
     "iopub.status.idle": "2022-11-08T00:42:48.912905Z",
     "shell.execute_reply": "2022-11-08T00:42:48.913737Z"
    },
    "papermill": {
     "duration": 0.06609,
     "end_time": "2022-11-08T00:42:48.913912",
     "exception": false,
     "start_time": "2022-11-08T00:42:48.847822",
     "status": "completed"
    },
    "tags": []
   },
   "outputs": [
    {
     "name": "stdout",
     "output_type": "stream",
     "text": [
      "xavier\n",
      "xavier\n",
      "xavier\n",
      "xavier\n",
      "xavier\n"
     ]
    }
   ],
   "source": [
    "layers = [Affine(\"first\", 784, 100), Relu(\"first\"), Affine(\"second\", 100, 100), Relu(\"second\"), Affine(\"third\", 100, 2), Affine(\"last\", 2, 1), Sigmoid(\"last\")]\n",
    "model_nn = Model(layers)\n",
    "model_lr = Model([Affine(\"logits\", 784, 1), Sigmoid(\"sigmoid\")])"
   ]
  },
  {
   "cell_type": "code",
   "execution_count": 20,
   "id": "6eede77a",
   "metadata": {
    "execution": {
     "iopub.execute_input": "2022-11-08T00:42:48.992836Z",
     "iopub.status.busy": "2022-11-08T00:42:48.991991Z",
     "iopub.status.idle": "2022-11-08T00:42:49.008447Z",
     "shell.execute_reply": "2022-11-08T00:42:49.007672Z"
    },
    "papermill": {
     "duration": 0.059779,
     "end_time": "2022-11-08T00:42:49.008580",
     "exception": false,
     "start_time": "2022-11-08T00:42:48.948801",
     "status": "completed"
    },
    "tags": []
   },
   "outputs": [],
   "source": [
    "nn_learner = Learner(loss, model_nn, opt, config.num_epochs)\n",
    "acc_nn = ClfCallback(nn_learner, config.bs, training_data_x , testing_data_x, training_data_y, testing_data_y)\n",
    "nn_learner.set_callbacks([acc_nn])"
   ]
  },
  {
   "cell_type": "code",
   "execution_count": 21,
   "id": "877b6cc7",
   "metadata": {
    "execution": {
     "iopub.execute_input": "2022-11-08T00:42:49.091927Z",
     "iopub.status.busy": "2022-11-08T00:42:49.089435Z",
     "iopub.status.idle": "2022-11-08T00:42:49.103719Z",
     "shell.execute_reply": "2022-11-08T00:42:49.104309Z"
    },
    "papermill": {
     "duration": 0.058216,
     "end_time": "2022-11-08T00:42:49.104446",
     "exception": false,
     "start_time": "2022-11-08T00:42:49.046230",
     "status": "completed"
    },
    "tags": []
   },
   "outputs": [],
   "source": [
    "lr_learner = Learner(loss, model_lr, opt, config.num_epochs)\n",
    "acc_lr = ClfCallback(lr_learner, config.bs, training_data_x , testing_data_x, training_data_y, testing_data_y)\n",
    "lr_learner.set_callbacks([acc_lr])"
   ]
  },
  {
   "cell_type": "code",
   "execution_count": 22,
   "id": "d9b133c3",
   "metadata": {
    "execution": {
     "iopub.execute_input": "2022-11-08T00:42:49.185753Z",
     "iopub.status.busy": "2022-11-08T00:42:49.185029Z",
     "iopub.status.idle": "2022-11-08T00:45:16.168240Z",
     "shell.execute_reply": "2022-11-08T00:45:16.169375Z"
    },
    "papermill": {
     "duration": 147.025725,
     "end_time": "2022-11-08T00:45:16.169582",
     "exception": false,
     "start_time": "2022-11-08T00:42:49.143857",
     "status": "completed"
    },
    "tags": []
   },
   "outputs": [
    {
     "name": "stdout",
     "output_type": "stream",
     "text": [
      "Epoch 0, Loss 0.25\n",
      "Training Accuracy: 0.4962, Testing Accuracy: 0.4965\n",
      "\n"
     ]
    },
    {
     "name": "stdout",
     "output_type": "stream",
     "text": [
      "Epoch 10, Loss 0.1847\n",
      "Training Accuracy: 0.8724, Testing Accuracy: 0.8886\n",
      "\n"
     ]
    },
    {
     "name": "stdout",
     "output_type": "stream",
     "text": [
      "Epoch 20, Loss 0.0912\n",
      "Training Accuracy: 0.9157, Testing Accuracy: 0.9284\n",
      "\n"
     ]
    },
    {
     "name": "stdout",
     "output_type": "stream",
     "text": [
      "Epoch 30, Loss 0.0578\n",
      "Training Accuracy: 0.9401, Testing Accuracy: 0.9521\n",
      "\n"
     ]
    },
    {
     "name": "stdout",
     "output_type": "stream",
     "text": [
      "Epoch 40, Loss 0.0449\n",
      "Training Accuracy: 0.9505, Testing Accuracy: 0.9627\n",
      "\n"
     ]
    },
    {
     "name": "stdout",
     "output_type": "stream",
     "text": [
      "Epoch 50, Loss 0.0385\n",
      "Training Accuracy: 0.9571, Testing Accuracy: 0.9672\n",
      "\n"
     ]
    },
    {
     "name": "stdout",
     "output_type": "stream",
     "text": [
      "Epoch 60, Loss 0.0347\n",
      "Training Accuracy: 0.9603, Testing Accuracy: 0.9662\n",
      "\n"
     ]
    },
    {
     "name": "stdout",
     "output_type": "stream",
     "text": [
      "Epoch 70, Loss 0.0322\n",
      "Training Accuracy: 0.9629, Testing Accuracy: 0.9688\n",
      "\n"
     ]
    },
    {
     "name": "stdout",
     "output_type": "stream",
     "text": [
      "Epoch 80, Loss 0.0303\n",
      "Training Accuracy: 0.9641, Testing Accuracy: 0.9693\n",
      "\n"
     ]
    },
    {
     "name": "stdout",
     "output_type": "stream",
     "text": [
      "Epoch 90, Loss 0.0288\n",
      "Training Accuracy: 0.9654, Testing Accuracy: 0.9708\n",
      "\n"
     ]
    },
    {
     "name": "stdout",
     "output_type": "stream",
     "text": [
      "Epoch 100, Loss 0.0276\n",
      "Training Accuracy: 0.9674, Testing Accuracy: 0.9708\n",
      "\n"
     ]
    },
    {
     "name": "stdout",
     "output_type": "stream",
     "text": [
      "Epoch 110, Loss 0.0266\n",
      "Training Accuracy: 0.9685, Testing Accuracy: 0.9723\n",
      "\n"
     ]
    },
    {
     "name": "stdout",
     "output_type": "stream",
     "text": [
      "Epoch 120, Loss 0.0257\n",
      "Training Accuracy: 0.9701, Testing Accuracy: 0.9723\n",
      "\n"
     ]
    },
    {
     "name": "stdout",
     "output_type": "stream",
     "text": [
      "Epoch 130, Loss 0.0249\n",
      "Training Accuracy: 0.9707, Testing Accuracy: 0.9728\n",
      "\n"
     ]
    },
    {
     "name": "stdout",
     "output_type": "stream",
     "text": [
      "Epoch 140, Loss 0.0242\n",
      "Training Accuracy: 0.9711, Testing Accuracy: 0.9753\n",
      "\n"
     ]
    },
    {
     "name": "stdout",
     "output_type": "stream",
     "text": [
      "Epoch 150, Loss 0.0236\n",
      "Training Accuracy: 0.9725, Testing Accuracy: 0.9748\n",
      "\n"
     ]
    },
    {
     "name": "stdout",
     "output_type": "stream",
     "text": [
      "Epoch 160, Loss 0.0231\n",
      "Training Accuracy: 0.9734, Testing Accuracy: 0.9748\n",
      "\n"
     ]
    },
    {
     "name": "stdout",
     "output_type": "stream",
     "text": [
      "Epoch 170, Loss 0.0225\n",
      "Training Accuracy: 0.9746, Testing Accuracy: 0.9748\n",
      "\n"
     ]
    },
    {
     "name": "stdout",
     "output_type": "stream",
     "text": [
      "Epoch 180, Loss 0.022\n",
      "Training Accuracy: 0.9754, Testing Accuracy: 0.9748\n",
      "\n"
     ]
    },
    {
     "name": "stdout",
     "output_type": "stream",
     "text": [
      "Epoch 190, Loss 0.0215\n",
      "Training Accuracy: 0.9762, Testing Accuracy: 0.9743\n",
      "\n"
     ]
    },
    {
     "name": "stdout",
     "output_type": "stream",
     "text": [
      "Epoch 200, Loss 0.0211\n",
      "Training Accuracy: 0.9768, Testing Accuracy: 0.9743\n",
      "\n"
     ]
    },
    {
     "name": "stdout",
     "output_type": "stream",
     "text": [
      "Epoch 210, Loss 0.0207\n",
      "Training Accuracy: 0.9771, Testing Accuracy: 0.9743\n",
      "\n"
     ]
    },
    {
     "name": "stdout",
     "output_type": "stream",
     "text": [
      "Epoch 220, Loss 0.0203\n",
      "Training Accuracy: 0.9774, Testing Accuracy: 0.9748\n",
      "\n"
     ]
    },
    {
     "name": "stdout",
     "output_type": "stream",
     "text": [
      "Epoch 230, Loss 0.0199\n",
      "Training Accuracy: 0.9781, Testing Accuracy: 0.9743\n",
      "\n"
     ]
    },
    {
     "name": "stdout",
     "output_type": "stream",
     "text": [
      "Epoch 240, Loss 0.0195\n",
      "Training Accuracy: 0.9786, Testing Accuracy: 0.9743\n",
      "\n"
     ]
    },
    {
     "data": {
      "text/plain": [
       "0.034170265046137564"
      ]
     },
     "execution_count": 22,
     "metadata": {},
     "output_type": "execute_result"
    }
   ],
   "source": [
    "nn_learner.train_loop(dl)"
   ]
  },
  {
   "cell_type": "code",
   "execution_count": 23,
   "id": "e0163366",
   "metadata": {
    "execution": {
     "iopub.execute_input": "2022-11-08T00:45:16.277388Z",
     "iopub.status.busy": "2022-11-08T00:45:16.276616Z",
     "iopub.status.idle": "2022-11-08T00:45:37.798358Z",
     "shell.execute_reply": "2022-11-08T00:45:37.799321Z"
    },
    "papermill": {
     "duration": 21.578414,
     "end_time": "2022-11-08T00:45:37.799501",
     "exception": false,
     "start_time": "2022-11-08T00:45:16.221087",
     "status": "completed"
    },
    "tags": []
   },
   "outputs": [
    {
     "name": "stdout",
     "output_type": "stream",
     "text": [
      "Epoch 0, Loss 0.2442\n",
      "Training Accuracy: 0.6757, Testing Accuracy: 0.6920\n",
      "\n"
     ]
    },
    {
     "name": "stdout",
     "output_type": "stream",
     "text": [
      "Epoch 10, Loss 0.1049\n",
      "Training Accuracy: 0.9071, Testing Accuracy: 0.9168\n",
      "\n"
     ]
    },
    {
     "name": "stdout",
     "output_type": "stream",
     "text": [
      "Epoch 20, Loss 0.08\n",
      "Training Accuracy: 0.9265, Testing Accuracy: 0.9395\n",
      "\n"
     ]
    },
    {
     "name": "stdout",
     "output_type": "stream",
     "text": [
      "Epoch 30, Loss 0.0687\n",
      "Training Accuracy: 0.9349, Testing Accuracy: 0.9486\n",
      "\n"
     ]
    },
    {
     "name": "stdout",
     "output_type": "stream",
     "text": [
      "Epoch 40, Loss 0.0619\n",
      "Training Accuracy: 0.9419, Testing Accuracy: 0.9521\n",
      "\n"
     ]
    },
    {
     "name": "stdout",
     "output_type": "stream",
     "text": [
      "Epoch 50, Loss 0.0574\n",
      "Training Accuracy: 0.9453, Testing Accuracy: 0.9551\n",
      "\n"
     ]
    },
    {
     "name": "stdout",
     "output_type": "stream",
     "text": [
      "Epoch 60, Loss 0.054\n",
      "Training Accuracy: 0.9473, Testing Accuracy: 0.9551\n",
      "\n"
     ]
    },
    {
     "name": "stdout",
     "output_type": "stream",
     "text": [
      "Epoch 70, Loss 0.0514\n",
      "Training Accuracy: 0.9490, Testing Accuracy: 0.9577\n",
      "\n"
     ]
    },
    {
     "name": "stdout",
     "output_type": "stream",
     "text": [
      "Epoch 80, Loss 0.0494\n",
      "Training Accuracy: 0.9505, Testing Accuracy: 0.9587\n",
      "\n"
     ]
    },
    {
     "name": "stdout",
     "output_type": "stream",
     "text": [
      "Epoch 90, Loss 0.0477\n",
      "Training Accuracy: 0.9518, Testing Accuracy: 0.9607\n",
      "\n"
     ]
    },
    {
     "name": "stdout",
     "output_type": "stream",
     "text": [
      "Epoch 100, Loss 0.0463\n",
      "Training Accuracy: 0.9527, Testing Accuracy: 0.9617\n",
      "\n"
     ]
    },
    {
     "name": "stdout",
     "output_type": "stream",
     "text": [
      "Epoch 110, Loss 0.045\n",
      "Training Accuracy: 0.9537, Testing Accuracy: 0.9637\n",
      "\n"
     ]
    },
    {
     "name": "stdout",
     "output_type": "stream",
     "text": [
      "Epoch 120, Loss 0.044\n",
      "Training Accuracy: 0.9548, Testing Accuracy: 0.9637\n",
      "\n"
     ]
    },
    {
     "name": "stdout",
     "output_type": "stream",
     "text": [
      "Epoch 130, Loss 0.043\n",
      "Training Accuracy: 0.9557, Testing Accuracy: 0.9652\n",
      "\n"
     ]
    },
    {
     "name": "stdout",
     "output_type": "stream",
     "text": [
      "Epoch 140, Loss 0.0422\n",
      "Training Accuracy: 0.9560, Testing Accuracy: 0.9657\n",
      "\n"
     ]
    },
    {
     "name": "stdout",
     "output_type": "stream",
     "text": [
      "Epoch 150, Loss 0.0414\n",
      "Training Accuracy: 0.9566, Testing Accuracy: 0.9662\n",
      "\n"
     ]
    },
    {
     "name": "stdout",
     "output_type": "stream",
     "text": [
      "Epoch 160, Loss 0.0408\n",
      "Training Accuracy: 0.9573, Testing Accuracy: 0.9657\n",
      "\n"
     ]
    },
    {
     "name": "stdout",
     "output_type": "stream",
     "text": [
      "Epoch 170, Loss 0.0402\n",
      "Training Accuracy: 0.9577, Testing Accuracy: 0.9652\n",
      "\n"
     ]
    },
    {
     "name": "stdout",
     "output_type": "stream",
     "text": [
      "Epoch 180, Loss 0.0396\n",
      "Training Accuracy: 0.9581, Testing Accuracy: 0.9652\n",
      "\n"
     ]
    },
    {
     "name": "stdout",
     "output_type": "stream",
     "text": [
      "Epoch 190, Loss 0.0391\n",
      "Training Accuracy: 0.9585, Testing Accuracy: 0.9652\n",
      "\n"
     ]
    },
    {
     "name": "stdout",
     "output_type": "stream",
     "text": [
      "Epoch 200, Loss 0.0386\n",
      "Training Accuracy: 0.9591, Testing Accuracy: 0.9657\n",
      "\n"
     ]
    },
    {
     "name": "stdout",
     "output_type": "stream",
     "text": [
      "Epoch 210, Loss 0.0382\n",
      "Training Accuracy: 0.9595, Testing Accuracy: 0.9657\n",
      "\n"
     ]
    },
    {
     "name": "stdout",
     "output_type": "stream",
     "text": [
      "Epoch 220, Loss 0.0377\n",
      "Training Accuracy: 0.9600, Testing Accuracy: 0.9657\n",
      "\n"
     ]
    },
    {
     "name": "stdout",
     "output_type": "stream",
     "text": [
      "Epoch 230, Loss 0.0374\n",
      "Training Accuracy: 0.9605, Testing Accuracy: 0.9657\n",
      "\n"
     ]
    },
    {
     "name": "stdout",
     "output_type": "stream",
     "text": [
      "Epoch 240, Loss 0.037\n",
      "Training Accuracy: 0.9607, Testing Accuracy: 0.9657\n",
      "\n"
     ]
    },
    {
     "data": {
      "text/plain": [
       "0.032429387942064736"
      ]
     },
     "execution_count": 23,
     "metadata": {},
     "output_type": "execute_result"
    }
   ],
   "source": [
    "lr_learner.train_loop(dl)"
   ]
  },
  {
   "cell_type": "code",
   "execution_count": 24,
   "id": "ca410940",
   "metadata": {
    "execution": {
     "iopub.execute_input": "2022-11-08T00:45:37.917582Z",
     "iopub.status.busy": "2022-11-08T00:45:37.916679Z",
     "iopub.status.idle": "2022-11-08T00:45:38.243100Z",
     "shell.execute_reply": "2022-11-08T00:45:38.242374Z"
    },
    "papermill": {
     "duration": 0.387305,
     "end_time": "2022-11-08T00:45:38.243264",
     "exception": false,
     "start_time": "2022-11-08T00:45:37.855959",
     "status": "completed"
    },
    "tags": []
   },
   "outputs": [
    {
     "data": {
      "text/plain": [
       "<matplotlib.legend.Legend at 0x7f55ec344550>"
      ]
     },
     "execution_count": 24,
     "metadata": {},
     "output_type": "execute_result"
    },
    {
     "data": {
      "image/png": "[encoded data removed]",
      "text/plain": [
       "<Figure size 1080x720 with 1 Axes>"
      ]
     },
     "metadata": {
      "needs_background": "light"
     },
     "output_type": "display_data"
    }
   ],
   "source": [
    "#comparing the results of NN and LR\n",
    "plt.figure(figsize=(15,10))\n",
    "\n",
    "# Neural Network plots\n",
    "plt.plot(acc_nn.accuracies, 'r-', label = \"Training Accuracies - NN\")\n",
    "plt.plot(acc_nn.test_accuracies, 'g-', label = \"Testing Accuracies - NN\")\n",
    "\n",
    "# Logistic Regression plots\n",
    "plt.plot(acc_lr.accuracies, 'k-', label = \"Training Accuracies - LR\")\n",
    "plt.plot(acc_lr.test_accuracies, 'b-', label = \"Testing Accuracies - LR\")\n",
    "plt.legend()"
   ]
  },
  {
   "cell_type": "markdown",
   "id": "80dfb35c",
   "metadata": {
    "papermill": {
     "duration": 0.057204,
     "end_time": "2022-11-08T00:45:38.358211",
     "exception": false,
     "start_time": "2022-11-08T00:45:38.301007",
     "status": "completed"
    },
    "tags": []
   },
   "source": [
    "#### Plotting the outputs of this layer of the NN.\n"
   ]
  },
  {
   "cell_type": "code",
   "execution_count": 25,
   "id": "45eb2ff5",
   "metadata": {
    "execution": {
     "iopub.execute_input": "2022-11-08T00:45:38.477164Z",
     "iopub.status.busy": "2022-11-08T00:45:38.475963Z",
     "iopub.status.idle": "2022-11-08T00:45:38.509260Z",
     "shell.execute_reply": "2022-11-08T00:45:38.509838Z"
    },
    "papermill": {
     "duration": 0.096976,
     "end_time": "2022-11-08T00:45:38.510007",
     "exception": false,
     "start_time": "2022-11-08T00:45:38.413031",
     "status": "completed"
    },
    "tags": []
   },
   "outputs": [],
   "source": [
    "new_model = Model(layers[:-2])\n",
    "testing_plot = new_model(testing_data_x)"
   ]
  },
  {
   "cell_type": "code",
   "execution_count": 26,
   "id": "4c0a5485",
   "metadata": {
    "execution": {
     "iopub.execute_input": "2022-11-08T00:45:38.629076Z",
     "iopub.status.busy": "2022-11-08T00:45:38.628334Z",
     "iopub.status.idle": "2022-11-08T00:45:38.886199Z",
     "shell.execute_reply": "2022-11-08T00:45:38.885515Z"
    },
    "papermill": {
     "duration": 0.321336,
     "end_time": "2022-11-08T00:45:38.886370",
     "exception": false,
     "start_time": "2022-11-08T00:45:38.565034",
     "status": "completed"
    },
    "tags": []
   },
   "outputs": [
    {
     "data": {
      "text/plain": [
       "Text(0.5, 1.0, 'Outputs')"
      ]
     },
     "execution_count": 26,
     "metadata": {},
     "output_type": "execute_result"
    },
    {
     "data": {
      "image/png": "[encoded data removed]",
      "text/plain": [
       "<Figure size 576x504 with 1 Axes>"
      ]
     },
     "metadata": {
      "needs_background": "light"
     },
     "output_type": "display_data"
    }
   ],
   "source": [
    "# Plotting the scatter plot of points and color coding by class\n",
    "plt.figure(figsize=(8,7))\n",
    "plt.scatter(testing_plot[:,0], testing_plot[:,1], alpha = 0.1, c = y_test.ravel());\n",
    "plt.title('Outputs')"
   ]
  },
  {
   "cell_type": "markdown",
   "id": "a74fcf8f",
   "metadata": {
    "papermill": {
     "duration": 0.084458,
     "end_time": "2022-11-08T00:45:39.028263",
     "exception": false,
     "start_time": "2022-11-08T00:45:38.943805",
     "status": "completed"
    },
    "tags": []
   },
   "source": [
    "Probability contours"
   ]
  },
  {
   "cell_type": "code",
   "execution_count": 27,
   "id": "d0afc8e3",
   "metadata": {
    "execution": {
     "iopub.execute_input": "2022-11-08T00:45:39.150895Z",
     "iopub.status.busy": "2022-11-08T00:45:39.150164Z",
     "iopub.status.idle": "2022-11-08T00:45:39.165197Z",
     "shell.execute_reply": "2022-11-08T00:45:39.165843Z"
    },
    "papermill": {
     "duration": 0.080489,
     "end_time": "2022-11-08T00:45:39.166073",
     "exception": false,
     "start_time": "2022-11-08T00:45:39.085584",
     "status": "completed"
    },
    "tags": []
   },
   "outputs": [],
   "source": [
    "model_prob = Model(layers[-2:]) "
   ]
  },
  {
   "cell_type": "code",
   "execution_count": 28,
   "id": "9b96e238",
   "metadata": {
    "execution": {
     "iopub.execute_input": "2022-11-08T00:45:39.292431Z",
     "iopub.status.busy": "2022-11-08T00:45:39.291716Z",
     "iopub.status.idle": "2022-11-08T00:45:39.307988Z",
     "shell.execute_reply": "2022-11-08T00:45:39.308621Z"
    },
    "papermill": {
     "duration": 0.084285,
     "end_time": "2022-11-08T00:45:39.308842",
     "exception": false,
     "start_time": "2022-11-08T00:45:39.224557",
     "status": "completed"
    },
    "tags": []
   },
   "outputs": [],
   "source": [
    "#creating the x and y ranges according to the above generated plot.\n",
    "x_range = np.linspace(-4, 1, 100) \n",
    "y_range = np.linspace(-6, 6, 100) \n",
    "x_grid, y_grid = np.meshgrid(x_range, y_range) # x_grid and y_grig are of size 100 X 100\n",
    "\n",
    "# converting x_grid and y_grid to continuous arrays\n",
    "x_gridflat = np.ravel(x_grid)\n",
    "y_gridflat = np.ravel(y_grid)\n",
    "\n",
    "# The last layer of the current model takes two columns as input. Hence transpose of np.vstack() is required.\n",
    "X = np.vstack((x_gridflat, y_gridflat)).T\n",
    "\n",
    "prob_contour = model_prob(X).reshape(100,100) "
   ]
  },
  {
   "cell_type": "code",
   "execution_count": 29,
   "id": "da72499a",
   "metadata": {
    "execution": {
     "iopub.execute_input": "2022-11-08T00:45:39.432430Z",
     "iopub.status.busy": "2022-11-08T00:45:39.431689Z",
     "iopub.status.idle": "2022-11-08T00:45:39.770006Z",
     "shell.execute_reply": "2022-11-08T00:45:39.770467Z"
    },
    "papermill": {
     "duration": 0.402633,
     "end_time": "2022-11-08T00:45:39.770619",
     "exception": false,
     "start_time": "2022-11-08T00:45:39.367986",
     "status": "completed"
    },
    "tags": []
   },
   "outputs": [
    {
     "data": {
      "image/png": "[encoded data removed]",
      "text/plain": [
       "<Figure size 720x648 with 1 Axes>"
      ]
     },
     "metadata": {
      "needs_background": "light"
     },
     "output_type": "display_data"
    }
   ],
   "source": [
    "plt.figure(figsize=(10,9))\n",
    "plt.scatter(testing_plot[:,0], testing_plot[:,1], alpha = 0.1, c = y_test.ravel())\n",
    "contours = plt.contour(x_grid,y_grid,prob_contour)\n",
    "plt.title('Probability Contours')\n",
    "plt.clabel(contours, inline = True );"
   ]
  },
  {
   "cell_type": "code",
   "execution_count": null,
   "id": "e81b4ac7",
   "metadata": {
    "papermill": {
     "duration": 0.059039,
     "end_time": "2022-11-08T00:45:39.891955",
     "exception": false,
     "start_time": "2022-11-08T00:45:39.832916",
     "status": "completed"
    },
    "tags": []
   },
   "outputs": [],
   "source": []
  }
 ],
 "metadata": {
  "kernelspec": {
   "display_name": "Python 3",
   "language": "python",
   "name": "python3"
  },
  "language_info": {
   "codemirror_mode": {
    "name": "ipython",
    "version": 3
   },
   "file_extension": ".py",
   "mimetype": "text/x-python",
   "name": "python",
   "nbconvert_exporter": "python",
   "pygments_lexer": "ipython3",
   "version": "3.6.15"
  },
  "papermill": {
   "default_parameters": {},
   "duration": 179.465382,
   "end_time": "2022-11-08T00:45:40.376431",
   "environment_variables": {},
   "exception": null,
   "input_path": "2020-08-11-part2.ipynb",
   "output_path": "2020-08-11-part2.ipynb",
   "parameters": {},
   "start_time": "2022-11-08T00:42:40.911049",
   "version": "2.3.3"
  }
 },
 "nbformat": 4,
 "nbformat_minor": 5
}