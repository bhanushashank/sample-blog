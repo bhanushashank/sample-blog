{
 "cells": [
  {
   "cell_type": "markdown",
   "id": "98380cd3",
   "metadata": {
    "papermill": {
     "duration": 0.029397,
     "end_time": "2022-06-27T00:43:00.195418",
     "exception": false,
     "start_time": "2022-06-27T00:43:00.166021",
     "status": "completed"
    },
    "tags": []
   },
   "source": [
    "# Distinguish Your Own Digits (DYOD)"
   ]
  },
  {
   "cell_type": "markdown",
   "id": "ef31240d",
   "metadata": {
    "papermill": {
     "duration": 0.023831,
     "end_time": "2022-06-27T00:43:00.243947",
     "exception": false,
     "start_time": "2022-06-27T00:43:00.220116",
     "status": "completed"
    },
    "tags": []
   },
   "source": [
    "You are going to write a classifier that distinguishes between the number 3 and number 8."
   ]
  },
  {
   "cell_type": "code",
   "execution_count": 1,
   "id": "b15c8646",
   "metadata": {
    "execution": {
     "iopub.execute_input": "2022-06-27T00:43:00.302425Z",
     "iopub.status.busy": "2022-06-27T00:43:00.301848Z",
     "iopub.status.idle": "2022-06-27T00:43:00.312041Z",
     "shell.execute_reply": "2022-06-27T00:43:00.312508Z"
    },
    "papermill": {
     "duration": 0.044822,
     "end_time": "2022-06-27T00:43:00.312639",
     "exception": false,
     "start_time": "2022-06-27T00:43:00.267817",
     "status": "completed"
    },
    "tags": []
   },
   "outputs": [],
   "source": [
    "%load_ext autoreload\n",
    "%autoreload 2"
   ]
  },
  {
   "cell_type": "code",
   "execution_count": 2,
   "id": "22ef38dc",
   "metadata": {
    "execution": {
     "iopub.execute_input": "2022-06-27T00:43:00.364221Z",
     "iopub.status.busy": "2022-06-27T00:43:00.363645Z",
     "iopub.status.idle": "2022-06-27T00:43:00.865268Z",
     "shell.execute_reply": "2022-06-27T00:43:00.864783Z"
    },
    "papermill": {
     "duration": 0.528644,
     "end_time": "2022-06-27T00:43:00.865384",
     "exception": false,
     "start_time": "2022-06-27T00:43:00.336740",
     "status": "completed"
    },
    "tags": []
   },
   "outputs": [],
   "source": [
    "%matplotlib inline\n",
    "import numpy as np\n",
    "import matplotlib.pyplot as plt\n",
    "import pandas as pd"
   ]
  },
  {
   "cell_type": "markdown",
   "id": "ba036198",
   "metadata": {
    "papermill": {
     "duration": 0.023982,
     "end_time": "2022-06-27T00:43:00.913317",
     "exception": false,
     "start_time": "2022-06-27T00:43:00.889335",
     "status": "completed"
    },
    "tags": []
   },
   "source": [
    "From the command line run `pip install mnist`. This is a library that will help you bring down the mnist dataset. If you run this from a notebook, you need to put  `!pip install mnist` in a cell by itself."
   ]
  },
  {
   "cell_type": "code",
   "execution_count": 3,
   "id": "bb6ad8a1",
   "metadata": {
    "execution": {
     "iopub.execute_input": "2022-06-27T00:43:00.964582Z",
     "iopub.status.busy": "2022-06-27T00:43:00.964009Z",
     "iopub.status.idle": "2022-06-27T00:43:03.673200Z",
     "shell.execute_reply": "2022-06-27T00:43:03.673676Z"
    },
    "papermill": {
     "duration": 2.736562,
     "end_time": "2022-06-27T00:43:03.673806",
     "exception": false,
     "start_time": "2022-06-27T00:43:00.937244",
     "status": "completed"
    },
    "tags": []
   },
   "outputs": [
    {
     "name": "stdout",
     "output_type": "stream",
     "text": [
      "Collecting mnist\r\n"
     ]
    },
    {
     "name": "stdout",
     "output_type": "stream",
     "text": [
      "  Downloading mnist-0.2.2-py2.py3-none-any.whl (3.5 kB)\r\n",
      "Requirement already satisfied: numpy in /opt/hostedtoolcache/Python/3.6.15/x64/lib/python3.6/site-packages (from mnist) (1.19.5)\r\n"
     ]
    },
    {
     "name": "stdout",
     "output_type": "stream",
     "text": [
      "Installing collected packages: mnist\r\n"
     ]
    },
    {
     "name": "stdout",
     "output_type": "stream",
     "text": [
      "Successfully installed mnist-0.2.2\r\n"
     ]
    }
   ],
   "source": [
    "!pip install mnist"
   ]
  },
  {
   "cell_type": "markdown",
   "id": "69df9c9a",
   "metadata": {
    "papermill": {
     "duration": 0.025095,
     "end_time": "2022-06-27T00:43:03.724240",
     "exception": false,
     "start_time": "2022-06-27T00:43:03.699145",
     "status": "completed"
    },
    "tags": []
   },
   "source": [
    "## Preparing the Data"
   ]
  },
  {
   "cell_type": "code",
   "execution_count": 4,
   "id": "7f69d806",
   "metadata": {
    "execution": {
     "iopub.execute_input": "2022-06-27T00:43:03.777530Z",
     "iopub.status.busy": "2022-06-27T00:43:03.776979Z",
     "iopub.status.idle": "2022-06-27T00:43:03.791335Z",
     "shell.execute_reply": "2022-06-27T00:43:03.790883Z"
    },
    "papermill": {
     "duration": 0.042247,
     "end_time": "2022-06-27T00:43:03.791432",
     "exception": false,
     "start_time": "2022-06-27T00:43:03.749185",
     "status": "completed"
    },
    "tags": []
   },
   "outputs": [],
   "source": [
    "import mnist"
   ]
  },
  {
   "cell_type": "code",
   "execution_count": 5,
   "id": "a411e44f",
   "metadata": {
    "execution": {
     "iopub.execute_input": "2022-06-27T00:43:03.847818Z",
     "iopub.status.busy": "2022-06-27T00:43:03.845453Z",
     "iopub.status.idle": "2022-06-27T00:43:04.519301Z",
     "shell.execute_reply": "2022-06-27T00:43:04.518824Z"
    },
    "papermill": {
     "duration": 0.702968,
     "end_time": "2022-06-27T00:43:04.519418",
     "exception": false,
     "start_time": "2022-06-27T00:43:03.816450",
     "status": "completed"
    },
    "tags": []
   },
   "outputs": [],
   "source": [
    "train_images = mnist.train_images()\n",
    "train_labels = mnist.train_labels()"
   ]
  },
  {
   "cell_type": "code",
   "execution_count": 6,
   "id": "dceab3a5",
   "metadata": {
    "execution": {
     "iopub.execute_input": "2022-06-27T00:43:04.575949Z",
     "iopub.status.busy": "2022-06-27T00:43:04.574757Z",
     "iopub.status.idle": "2022-06-27T00:43:04.588154Z",
     "shell.execute_reply": "2022-06-27T00:43:04.587597Z"
    },
    "papermill": {
     "duration": 0.043494,
     "end_time": "2022-06-27T00:43:04.588254",
     "exception": false,
     "start_time": "2022-06-27T00:43:04.544760",
     "status": "completed"
    },
    "tags": []
   },
   "outputs": [
    {
     "data": {
      "text/plain": [
       "((60000, 28, 28), (60000,))"
      ]
     },
     "execution_count": 6,
     "metadata": {},
     "output_type": "execute_result"
    }
   ],
   "source": [
    "train_images.shape, train_labels.shape"
   ]
  },
  {
   "cell_type": "code",
   "execution_count": 7,
   "id": "f50dc2bb",
   "metadata": {
    "execution": {
     "iopub.execute_input": "2022-06-27T00:43:04.641824Z",
     "iopub.status.busy": "2022-06-27T00:43:04.641288Z",
     "iopub.status.idle": "2022-06-27T00:43:04.878218Z",
     "shell.execute_reply": "2022-06-27T00:43:04.877707Z"
    },
    "papermill": {
     "duration": 0.264785,
     "end_time": "2022-06-27T00:43:04.878328",
     "exception": false,
     "start_time": "2022-06-27T00:43:04.613543",
     "status": "completed"
    },
    "tags": []
   },
   "outputs": [],
   "source": [
    "test_images = mnist.test_images()\n",
    "test_labels = mnist.test_labels()"
   ]
  },
  {
   "cell_type": "code",
   "execution_count": 8,
   "id": "fc38cf1b",
   "metadata": {
    "execution": {
     "iopub.execute_input": "2022-06-27T00:43:04.932673Z",
     "iopub.status.busy": "2022-06-27T00:43:04.932109Z",
     "iopub.status.idle": "2022-06-27T00:43:04.944825Z",
     "shell.execute_reply": "2022-06-27T00:43:04.944381Z"
    },
    "papermill": {
     "duration": 0.041026,
     "end_time": "2022-06-27T00:43:04.944922",
     "exception": false,
     "start_time": "2022-06-27T00:43:04.903896",
     "status": "completed"
    },
    "tags": []
   },
   "outputs": [
    {
     "data": {
      "text/plain": [
       "((10000, 28, 28), (10000,))"
      ]
     },
     "execution_count": 8,
     "metadata": {},
     "output_type": "execute_result"
    }
   ],
   "source": [
    "test_images.shape, test_labels.shape"
   ]
  },
  {
   "cell_type": "code",
   "execution_count": 9,
   "id": "f9ed8fe0",
   "metadata": {
    "execution": {
     "iopub.execute_input": "2022-06-27T00:43:05.004240Z",
     "iopub.status.busy": "2022-06-27T00:43:04.999580Z",
     "iopub.status.idle": "2022-06-27T00:43:05.134806Z",
     "shell.execute_reply": "2022-06-27T00:43:05.134328Z"
    },
    "papermill": {
     "duration": 0.164325,
     "end_time": "2022-06-27T00:43:05.134917",
     "exception": false,
     "start_time": "2022-06-27T00:43:04.970592",
     "status": "completed"
    },
    "tags": []
   },
   "outputs": [
    {
     "name": "stdout",
     "output_type": "stream",
     "text": [
      "2\n"
     ]
    },
    {
     "data": {
      "text/plain": [
       "<matplotlib.image.AxesImage at 0x7f1859970400>"
      ]
     },
     "execution_count": 9,
     "metadata": {},
     "output_type": "execute_result"
    },
    {
     "data": {
      "image/png": "[encoded data removed]",
      "text/plain": [
       "<Figure size 432x288 with 1 Axes>"
      ]
     },
     "metadata": {
      "needs_background": "light"
     },
     "output_type": "display_data"
    }
   ],
   "source": [
    "image_index = 7776 # You may select anything up to 60,000\n",
    "print(train_labels[image_index]) \n",
    "plt.imshow(train_images[image_index], cmap='Greys')"
   ]
  },
  {
   "cell_type": "markdown",
   "id": "a8d2388d",
   "metadata": {
    "papermill": {
     "duration": 0.02677,
     "end_time": "2022-06-27T00:43:05.189152",
     "exception": false,
     "start_time": "2022-06-27T00:43:05.162382",
     "status": "completed"
    },
    "tags": []
   },
   "source": [
    "## Filter data to get 3 and 8 out"
   ]
  },
  {
   "cell_type": "code",
   "execution_count": 10,
   "id": "776f7fc7",
   "metadata": {
    "execution": {
     "iopub.execute_input": "2022-06-27T00:43:05.248805Z",
     "iopub.status.busy": "2022-06-27T00:43:05.246312Z",
     "iopub.status.idle": "2022-06-27T00:43:05.262243Z",
     "shell.execute_reply": "2022-06-27T00:43:05.262657Z"
    },
    "papermill": {
     "duration": 0.046968,
     "end_time": "2022-06-27T00:43:05.262788",
     "exception": false,
     "start_time": "2022-06-27T00:43:05.215820",
     "status": "completed"
    },
    "tags": []
   },
   "outputs": [],
   "source": [
    "train_filter = np.where((train_labels == 3 ) | (train_labels == 8))\n",
    "test_filter = np.where((test_labels == 3) | (test_labels == 8))\n",
    "X_train, y_train = train_images[train_filter], train_labels[train_filter]\n",
    "X_test, y_test = test_images[test_filter], test_labels[test_filter]"
   ]
  },
  {
   "cell_type": "markdown",
   "id": "948f0b7e",
   "metadata": {
    "papermill": {
     "duration": 0.026766,
     "end_time": "2022-06-27T00:43:05.316419",
     "exception": false,
     "start_time": "2022-06-27T00:43:05.289653",
     "status": "completed"
    },
    "tags": []
   },
   "source": [
    "We normalize the pizel values in the 0 to 1 range"
   ]
  },
  {
   "cell_type": "code",
   "execution_count": 11,
   "id": "ee4c2166",
   "metadata": {
    "execution": {
     "iopub.execute_input": "2022-06-27T00:43:05.373406Z",
     "iopub.status.busy": "2022-06-27T00:43:05.372849Z",
     "iopub.status.idle": "2022-06-27T00:43:05.413736Z",
     "shell.execute_reply": "2022-06-27T00:43:05.413251Z"
    },
    "papermill": {
     "duration": 0.070654,
     "end_time": "2022-06-27T00:43:05.413856",
     "exception": false,
     "start_time": "2022-06-27T00:43:05.343202",
     "status": "completed"
    },
    "tags": []
   },
   "outputs": [],
   "source": [
    "X_train = X_train/255.\n",
    "X_test = X_test/255."
   ]
  },
  {
   "cell_type": "markdown",
   "id": "ddcf4fab",
   "metadata": {
    "papermill": {
     "duration": 0.026821,
     "end_time": "2022-06-27T00:43:05.467559",
     "exception": false,
     "start_time": "2022-06-27T00:43:05.440738",
     "status": "completed"
    },
    "tags": []
   },
   "source": [
    "And setup the labels as 1 (when the digit is 3) and 0 (when the digit is 8)"
   ]
  },
  {
   "cell_type": "code",
   "execution_count": 12,
   "id": "7dc908f2",
   "metadata": {
    "execution": {
     "iopub.execute_input": "2022-06-27T00:43:05.524898Z",
     "iopub.status.busy": "2022-06-27T00:43:05.524333Z",
     "iopub.status.idle": "2022-06-27T00:43:05.535970Z",
     "shell.execute_reply": "2022-06-27T00:43:05.536395Z"
    },
    "papermill": {
     "duration": 0.042302,
     "end_time": "2022-06-27T00:43:05.536519",
     "exception": false,
     "start_time": "2022-06-27T00:43:05.494217",
     "status": "completed"
    },
    "tags": []
   },
   "outputs": [],
   "source": [
    "y_train = 1*(y_train==3)\n",
    "y_test = 1*(y_test==3)"
   ]
  },
  {
   "cell_type": "code",
   "execution_count": 13,
   "id": "01e4e969",
   "metadata": {
    "execution": {
     "iopub.execute_input": "2022-06-27T00:43:05.593467Z",
     "iopub.status.busy": "2022-06-27T00:43:05.592924Z",
     "iopub.status.idle": "2022-06-27T00:43:05.605667Z",
     "shell.execute_reply": "2022-06-27T00:43:05.605212Z"
    },
    "papermill": {
     "duration": 0.042431,
     "end_time": "2022-06-27T00:43:05.605768",
     "exception": false,
     "start_time": "2022-06-27T00:43:05.563337",
     "status": "completed"
    },
    "tags": []
   },
   "outputs": [
    {
     "data": {
      "text/plain": [
       "((11982, 28, 28), (1984, 28, 28))"
      ]
     },
     "execution_count": 13,
     "metadata": {},
     "output_type": "execute_result"
    }
   ],
   "source": [
    "X_train.shape, X_test.shape"
   ]
  },
  {
   "cell_type": "markdown",
   "id": "5ccf3f85",
   "metadata": {
    "papermill": {
     "duration": 0.026793,
     "end_time": "2022-06-27T00:43:05.659291",
     "exception": false,
     "start_time": "2022-06-27T00:43:05.632498",
     "status": "completed"
    },
    "tags": []
   },
   "source": [
    "We reshape the data to flatten the image pixels into a set of features or co-variates:"
   ]
  },
  {
   "cell_type": "code",
   "execution_count": 14,
   "id": "5286a4a3",
   "metadata": {
    "execution": {
     "iopub.execute_input": "2022-06-27T00:43:05.716794Z",
     "iopub.status.busy": "2022-06-27T00:43:05.716236Z",
     "iopub.status.idle": "2022-06-27T00:43:05.730943Z",
     "shell.execute_reply": "2022-06-27T00:43:05.730483Z"
    },
    "papermill": {
     "duration": 0.044904,
     "end_time": "2022-06-27T00:43:05.731046",
     "exception": false,
     "start_time": "2022-06-27T00:43:05.686142",
     "status": "completed"
    },
    "tags": []
   },
   "outputs": [
    {
     "data": {
      "text/plain": [
       "((11982, 784), (1984, 784))"
      ]
     },
     "execution_count": 14,
     "metadata": {},
     "output_type": "execute_result"
    }
   ],
   "source": [
    "X_train = X_train.reshape(X_train.shape[0], -1)\n",
    "X_test = X_test.reshape(X_test.shape[0], -1)\n",
    "X_train.shape, X_test.shape"
   ]
  },
  {
   "cell_type": "code",
   "execution_count": 15,
   "id": "73c5f88a",
   "metadata": {
    "execution": {
     "iopub.execute_input": "2022-06-27T00:43:05.789688Z",
     "iopub.status.busy": "2022-06-27T00:43:05.789135Z",
     "iopub.status.idle": "2022-06-27T00:43:05.807302Z",
     "shell.execute_reply": "2022-06-27T00:43:05.806848Z"
    },
    "papermill": {
     "duration": 0.04915,
     "end_time": "2022-06-27T00:43:05.807403",
     "exception": false,
     "start_time": "2022-06-27T00:43:05.758253",
     "status": "completed"
    },
    "tags": []
   },
   "outputs": [],
   "source": [
    "#Impoting functions from 'Kudzu'\n",
    "from kudzu.model import Model\n",
    "from kudzu.train import Learner\n",
    "from kudzu.optim import GD\n",
    "from kudzu.data import Data, Sampler,Dataloader\n",
    "\n",
    "from kudzu.callbacks import AccCallback\n",
    "from kudzu.callbacks import ClfCallback\n",
    "\n",
    "from kudzu.loss import MSE\n",
    "\n",
    "from kudzu.layer import Sigmoid,Relu\n",
    "from kudzu.layer import Affine"
   ]
  },
  {
   "cell_type": "markdown",
   "id": "bc01172a",
   "metadata": {
    "papermill": {
     "duration": 0.027088,
     "end_time": "2022-06-27T00:43:05.861820",
     "exception": false,
     "start_time": "2022-06-27T00:43:05.834732",
     "status": "completed"
    },
    "tags": []
   },
   "source": [
    "### Let us create a `Config` class, to store important parameters. \n",
    "This class essentially plays the role of a dictionary."
   ]
  },
  {
   "cell_type": "code",
   "execution_count": 16,
   "id": "978281aa",
   "metadata": {
    "execution": {
     "iopub.execute_input": "2022-06-27T00:43:05.919737Z",
     "iopub.status.busy": "2022-06-27T00:43:05.919185Z",
     "iopub.status.idle": "2022-06-27T00:43:05.931101Z",
     "shell.execute_reply": "2022-06-27T00:43:05.930645Z"
    },
    "papermill": {
     "duration": 0.042251,
     "end_time": "2022-06-27T00:43:05.931203",
     "exception": false,
     "start_time": "2022-06-27T00:43:05.888952",
     "status": "completed"
    },
    "tags": []
   },
   "outputs": [],
   "source": [
    "class Config:\n",
    "    pass\n",
    "config = Config()\n",
    "config.lr = 0.001\n",
    "config.num_epochs = 250\n",
    "config.bs = 50"
   ]
  },
  {
   "cell_type": "markdown",
   "id": "1385fa59",
   "metadata": {
    "papermill": {
     "duration": 0.026974,
     "end_time": "2022-06-27T00:43:05.985397",
     "exception": false,
     "start_time": "2022-06-27T00:43:05.958423",
     "status": "completed"
    },
    "tags": []
   },
   "source": [
    "### Running Models with the Training data\n",
    "Details about the network layers:\n",
    "- A first affine layer has 784 inputs and does 100 affine transforms. These are followed by a Relu\n",
    "- A second affine layer has 100 inputs from the 100 activations of the past layer, and does 100 affine transforms. These are followed by a Relu\n",
    "- A third affine layer has 100 activations and does 2 affine transformations to create an embedding for visualization. There is no non-linearity here.\n",
    "- A final \"logistic regression\" which has an affine transform from 2 inputs to 1 output, which is squeezed through a sigmoid.\n"
   ]
  },
  {
   "cell_type": "code",
   "execution_count": 17,
   "id": "2b9c66db",
   "metadata": {
    "execution": {
     "iopub.execute_input": "2022-06-27T00:43:06.043364Z",
     "iopub.status.busy": "2022-06-27T00:43:06.042782Z",
     "iopub.status.idle": "2022-06-27T00:43:06.054584Z",
     "shell.execute_reply": "2022-06-27T00:43:06.054126Z"
    },
    "papermill": {
     "duration": 0.042238,
     "end_time": "2022-06-27T00:43:06.054684",
     "exception": false,
     "start_time": "2022-06-27T00:43:06.012446",
     "status": "completed"
    },
    "tags": []
   },
   "outputs": [],
   "source": [
    "data = Data(X_train, y_train.reshape(-1,1))\n",
    "sampler = Sampler(data, config.bs, shuffle=True)\n",
    "\n",
    "dl = Dataloader(data, sampler)\n",
    "\n",
    "opt = GD(config.lr)\n",
    "loss = MSE()"
   ]
  },
  {
   "cell_type": "code",
   "execution_count": 18,
   "id": "b275e4c2",
   "metadata": {
    "execution": {
     "iopub.execute_input": "2022-06-27T00:43:06.112521Z",
     "iopub.status.busy": "2022-06-27T00:43:06.111921Z",
     "iopub.status.idle": "2022-06-27T00:43:06.123565Z",
     "shell.execute_reply": "2022-06-27T00:43:06.123113Z"
    },
    "papermill": {
     "duration": 0.041832,
     "end_time": "2022-06-27T00:43:06.123664",
     "exception": false,
     "start_time": "2022-06-27T00:43:06.081832",
     "status": "completed"
    },
    "tags": []
   },
   "outputs": [],
   "source": [
    "training_data_x = X_train\n",
    "testing_data_x = X_test\n",
    "training_data_y = y_train.reshape(-1,1)\n",
    "testing_data_y = y_test.reshape(-1,1)"
   ]
  },
  {
   "cell_type": "code",
   "execution_count": 19,
   "id": "76951160",
   "metadata": {
    "execution": {
     "iopub.execute_input": "2022-06-27T00:43:06.182104Z",
     "iopub.status.busy": "2022-06-27T00:43:06.181549Z",
     "iopub.status.idle": "2022-06-27T00:43:06.197437Z",
     "shell.execute_reply": "2022-06-27T00:43:06.196908Z"
    },
    "papermill": {
     "duration": 0.04682,
     "end_time": "2022-06-27T00:43:06.197536",
     "exception": false,
     "start_time": "2022-06-27T00:43:06.150716",
     "status": "completed"
    },
    "tags": []
   },
   "outputs": [
    {
     "name": "stdout",
     "output_type": "stream",
     "text": [
      "xavier\n",
      "xavier\n",
      "xavier\n",
      "xavier\n",
      "xavier\n"
     ]
    }
   ],
   "source": [
    "layers = [Affine(\"first\", 784, 100), Relu(\"first\"), Affine(\"second\", 100, 100), Relu(\"second\"), Affine(\"third\", 100, 2), Affine(\"last\", 2, 1), Sigmoid(\"last\")]\n",
    "model_nn = Model(layers)\n",
    "model_lr = Model([Affine(\"logits\", 784, 1), Sigmoid(\"sigmoid\")])"
   ]
  },
  {
   "cell_type": "code",
   "execution_count": 20,
   "id": "6eede77a",
   "metadata": {
    "execution": {
     "iopub.execute_input": "2022-06-27T00:43:06.256210Z",
     "iopub.status.busy": "2022-06-27T00:43:06.255622Z",
     "iopub.status.idle": "2022-06-27T00:43:06.267346Z",
     "shell.execute_reply": "2022-06-27T00:43:06.266901Z"
    },
    "papermill": {
     "duration": 0.042301,
     "end_time": "2022-06-27T00:43:06.267442",
     "exception": false,
     "start_time": "2022-06-27T00:43:06.225141",
     "status": "completed"
    },
    "tags": []
   },
   "outputs": [],
   "source": [
    "nn_learner = Learner(loss, model_nn, opt, config.num_epochs)\n",
    "acc_nn = ClfCallback(nn_learner, config.bs, training_data_x , testing_data_x, training_data_y, testing_data_y)\n",
    "nn_learner.set_callbacks([acc_nn])"
   ]
  },
  {
   "cell_type": "code",
   "execution_count": 21,
   "id": "877b6cc7",
   "metadata": {
    "execution": {
     "iopub.execute_input": "2022-06-27T00:43:06.326536Z",
     "iopub.status.busy": "2022-06-27T00:43:06.325973Z",
     "iopub.status.idle": "2022-06-27T00:43:06.339500Z",
     "shell.execute_reply": "2022-06-27T00:43:06.338775Z"
    },
    "papermill": {
     "duration": 0.044648,
     "end_time": "2022-06-27T00:43:06.339611",
     "exception": false,
     "start_time": "2022-06-27T00:43:06.294963",
     "status": "completed"
    },
    "tags": []
   },
   "outputs": [],
   "source": [
    "lr_learner = Learner(loss, model_lr, opt, config.num_epochs)\n",
    "acc_lr = ClfCallback(lr_learner, config.bs, training_data_x , testing_data_x, training_data_y, testing_data_y)\n",
    "lr_learner.set_callbacks([acc_lr])"
   ]
  },
  {
   "cell_type": "code",
   "execution_count": 22,
   "id": "d9b133c3",
   "metadata": {
    "execution": {
     "iopub.execute_input": "2022-06-27T00:43:06.398444Z",
     "iopub.status.busy": "2022-06-27T00:43:06.397880Z",
     "iopub.status.idle": "2022-06-27T00:46:01.829952Z",
     "shell.execute_reply": "2022-06-27T00:46:01.830408Z"
    },
    "papermill": {
     "duration": 175.463202,
     "end_time": "2022-06-27T00:46:01.830539",
     "exception": false,
     "start_time": "2022-06-27T00:43:06.367337",
     "status": "completed"
    },
    "tags": []
   },
   "outputs": [
    {
     "name": "stdout",
     "output_type": "stream",
     "text": [
      "Epoch 0, Loss 0.2454\n",
      "Training Accuracy: 0.6487, Testing Accuracy: 0.6109\n",
      "\n"
     ]
    },
    {
     "name": "stdout",
     "output_type": "stream",
     "text": [
      "Epoch 10, Loss 0.1419\n",
      "Training Accuracy: 0.9004, Testing Accuracy: 0.9108\n",
      "\n"
     ]
    },
    {
     "name": "stdout",
     "output_type": "stream",
     "text": [
      "Epoch 20, Loss 0.0722\n",
      "Training Accuracy: 0.9279, Testing Accuracy: 0.9430\n",
      "\n"
     ]
    },
    {
     "name": "stdout",
     "output_type": "stream",
     "text": [
      "Epoch 30, Loss 0.0523\n",
      "Training Accuracy: 0.9437, Testing Accuracy: 0.9536\n",
      "\n"
     ]
    },
    {
     "name": "stdout",
     "output_type": "stream",
     "text": [
      "Epoch 40, Loss 0.0437\n",
      "Training Accuracy: 0.9501, Testing Accuracy: 0.9607\n",
      "\n"
     ]
    },
    {
     "name": "stdout",
     "output_type": "stream",
     "text": [
      "Epoch 50, Loss 0.0388\n",
      "Training Accuracy: 0.9549, Testing Accuracy: 0.9657\n",
      "\n"
     ]
    },
    {
     "name": "stdout",
     "output_type": "stream",
     "text": [
      "Epoch 60, Loss 0.0355\n",
      "Training Accuracy: 0.9589, Testing Accuracy: 0.9667\n",
      "\n"
     ]
    },
    {
     "name": "stdout",
     "output_type": "stream",
     "text": [
      "Epoch 70, Loss 0.0332\n",
      "Training Accuracy: 0.9606, Testing Accuracy: 0.9677\n",
      "\n"
     ]
    },
    {
     "name": "stdout",
     "output_type": "stream",
     "text": [
      "Epoch 80, Loss 0.0315\n",
      "Training Accuracy: 0.9630, Testing Accuracy: 0.9682\n",
      "\n"
     ]
    },
    {
     "name": "stdout",
     "output_type": "stream",
     "text": [
      "Epoch 90, Loss 0.0301\n",
      "Training Accuracy: 0.9644, Testing Accuracy: 0.9688\n",
      "\n"
     ]
    },
    {
     "name": "stdout",
     "output_type": "stream",
     "text": [
      "Epoch 100, Loss 0.0289\n",
      "Training Accuracy: 0.9664, Testing Accuracy: 0.9698\n",
      "\n"
     ]
    },
    {
     "name": "stdout",
     "output_type": "stream",
     "text": [
      "Epoch 110, Loss 0.0279\n",
      "Training Accuracy: 0.9673, Testing Accuracy: 0.9713\n",
      "\n"
     ]
    },
    {
     "name": "stdout",
     "output_type": "stream",
     "text": [
      "Epoch 120, Loss 0.0271\n",
      "Training Accuracy: 0.9680, Testing Accuracy: 0.9723\n",
      "\n"
     ]
    },
    {
     "name": "stdout",
     "output_type": "stream",
     "text": [
      "Epoch 130, Loss 0.0263\n",
      "Training Accuracy: 0.9690, Testing Accuracy: 0.9718\n",
      "\n"
     ]
    },
    {
     "name": "stdout",
     "output_type": "stream",
     "text": [
      "Epoch 140, Loss 0.0256\n",
      "Training Accuracy: 0.9698, Testing Accuracy: 0.9713\n",
      "\n"
     ]
    },
    {
     "name": "stdout",
     "output_type": "stream",
     "text": [
      "Epoch 150, Loss 0.025\n",
      "Training Accuracy: 0.9707, Testing Accuracy: 0.9713\n",
      "\n"
     ]
    },
    {
     "name": "stdout",
     "output_type": "stream",
     "text": [
      "Epoch 160, Loss 0.0244\n",
      "Training Accuracy: 0.9719, Testing Accuracy: 0.9703\n",
      "\n"
     ]
    },
    {
     "name": "stdout",
     "output_type": "stream",
     "text": [
      "Epoch 170, Loss 0.0239\n",
      "Training Accuracy: 0.9722, Testing Accuracy: 0.9703\n",
      "\n"
     ]
    },
    {
     "name": "stdout",
     "output_type": "stream",
     "text": [
      "Epoch 180, Loss 0.0234\n",
      "Training Accuracy: 0.9728, Testing Accuracy: 0.9703\n",
      "\n"
     ]
    },
    {
     "name": "stdout",
     "output_type": "stream",
     "text": [
      "Epoch 190, Loss 0.023\n",
      "Training Accuracy: 0.9734, Testing Accuracy: 0.9708\n",
      "\n"
     ]
    },
    {
     "name": "stdout",
     "output_type": "stream",
     "text": [
      "Epoch 200, Loss 0.0226\n",
      "Training Accuracy: 0.9740, Testing Accuracy: 0.9713\n",
      "\n"
     ]
    },
    {
     "name": "stdout",
     "output_type": "stream",
     "text": [
      "Epoch 210, Loss 0.0222\n",
      "Training Accuracy: 0.9744, Testing Accuracy: 0.9718\n",
      "\n"
     ]
    },
    {
     "name": "stdout",
     "output_type": "stream",
     "text": [
      "Epoch 220, Loss 0.0218\n",
      "Training Accuracy: 0.9747, Testing Accuracy: 0.9718\n",
      "\n"
     ]
    },
    {
     "name": "stdout",
     "output_type": "stream",
     "text": [
      "Epoch 230, Loss 0.0214\n",
      "Training Accuracy: 0.9754, Testing Accuracy: 0.9723\n",
      "\n"
     ]
    },
    {
     "name": "stdout",
     "output_type": "stream",
     "text": [
      "Epoch 240, Loss 0.021\n",
      "Training Accuracy: 0.9760, Testing Accuracy: 0.9723\n",
      "\n"
     ]
    },
    {
     "data": {
      "text/plain": [
       "0.0011918883264602758"
      ]
     },
     "execution_count": 22,
     "metadata": {},
     "output_type": "execute_result"
    }
   ],
   "source": [
    "nn_learner.train_loop(dl)"
   ]
  },
  {
   "cell_type": "code",
   "execution_count": 23,
   "id": "e0163366",
   "metadata": {
    "execution": {
     "iopub.execute_input": "2022-06-27T00:46:01.905226Z",
     "iopub.status.busy": "2022-06-27T00:46:01.904662Z",
     "iopub.status.idle": "2022-06-27T00:46:14.033978Z",
     "shell.execute_reply": "2022-06-27T00:46:14.034420Z"
    },
    "papermill": {
     "duration": 12.168888,
     "end_time": "2022-06-27T00:46:14.034552",
     "exception": false,
     "start_time": "2022-06-27T00:46:01.865664",
     "status": "completed"
    },
    "tags": []
   },
   "outputs": [
    {
     "name": "stdout",
     "output_type": "stream",
     "text": [
      "Epoch 0, Loss 0.2455\n",
      "Training Accuracy: 0.6843, Testing Accuracy: 0.6724\n",
      "\n"
     ]
    },
    {
     "name": "stdout",
     "output_type": "stream",
     "text": [
      "Epoch 10, Loss 0.1026\n",
      "Training Accuracy: 0.9113, Testing Accuracy: 0.9143\n",
      "\n"
     ]
    },
    {
     "name": "stdout",
     "output_type": "stream",
     "text": [
      "Epoch 20, Loss 0.079\n",
      "Training Accuracy: 0.9277, Testing Accuracy: 0.9365\n",
      "\n"
     ]
    },
    {
     "name": "stdout",
     "output_type": "stream",
     "text": [
      "Epoch 30, Loss 0.0683\n",
      "Training Accuracy: 0.9361, Testing Accuracy: 0.9476\n",
      "\n"
     ]
    },
    {
     "name": "stdout",
     "output_type": "stream",
     "text": [
      "Epoch 40, Loss 0.0619\n",
      "Training Accuracy: 0.9413, Testing Accuracy: 0.9521\n",
      "\n"
     ]
    },
    {
     "name": "stdout",
     "output_type": "stream",
     "text": [
      "Epoch 50, Loss 0.0574\n",
      "Training Accuracy: 0.9443, Testing Accuracy: 0.9536\n",
      "\n"
     ]
    },
    {
     "name": "stdout",
     "output_type": "stream",
     "text": [
      "Epoch 60, Loss 0.0542\n",
      "Training Accuracy: 0.9468, Testing Accuracy: 0.9577\n",
      "\n"
     ]
    },
    {
     "name": "stdout",
     "output_type": "stream",
     "text": [
      "Epoch 70, Loss 0.0516\n",
      "Training Accuracy: 0.9485, Testing Accuracy: 0.9612\n",
      "\n"
     ]
    },
    {
     "name": "stdout",
     "output_type": "stream",
     "text": [
      "Epoch 80, Loss 0.0495\n",
      "Training Accuracy: 0.9498, Testing Accuracy: 0.9607\n",
      "\n"
     ]
    },
    {
     "name": "stdout",
     "output_type": "stream",
     "text": [
      "Epoch 90, Loss 0.0478\n",
      "Training Accuracy: 0.9510, Testing Accuracy: 0.9627\n",
      "\n"
     ]
    },
    {
     "name": "stdout",
     "output_type": "stream",
     "text": [
      "Epoch 100, Loss 0.0464\n",
      "Training Accuracy: 0.9524, Testing Accuracy: 0.9637\n",
      "\n"
     ]
    },
    {
     "name": "stdout",
     "output_type": "stream",
     "text": [
      "Epoch 110, Loss 0.0452\n",
      "Training Accuracy: 0.9529, Testing Accuracy: 0.9632\n",
      "\n"
     ]
    },
    {
     "name": "stdout",
     "output_type": "stream",
     "text": [
      "Epoch 120, Loss 0.0441\n",
      "Training Accuracy: 0.9536, Testing Accuracy: 0.9637\n",
      "\n"
     ]
    },
    {
     "name": "stdout",
     "output_type": "stream",
     "text": [
      "Epoch 130, Loss 0.0431\n",
      "Training Accuracy: 0.9551, Testing Accuracy: 0.9647\n",
      "\n"
     ]
    },
    {
     "name": "stdout",
     "output_type": "stream",
     "text": [
      "Epoch 140, Loss 0.0423\n",
      "Training Accuracy: 0.9560, Testing Accuracy: 0.9642\n",
      "\n"
     ]
    },
    {
     "name": "stdout",
     "output_type": "stream",
     "text": [
      "Epoch 150, Loss 0.0415\n",
      "Training Accuracy: 0.9568, Testing Accuracy: 0.9647\n",
      "\n"
     ]
    },
    {
     "name": "stdout",
     "output_type": "stream",
     "text": [
      "Epoch 160, Loss 0.0409\n",
      "Training Accuracy: 0.9575, Testing Accuracy: 0.9652\n",
      "\n"
     ]
    },
    {
     "name": "stdout",
     "output_type": "stream",
     "text": [
      "Epoch 170, Loss 0.0402\n",
      "Training Accuracy: 0.9581, Testing Accuracy: 0.9662\n",
      "\n"
     ]
    },
    {
     "name": "stdout",
     "output_type": "stream",
     "text": [
      "Epoch 180, Loss 0.0397\n",
      "Training Accuracy: 0.9587, Testing Accuracy: 0.9662\n",
      "\n"
     ]
    },
    {
     "name": "stdout",
     "output_type": "stream",
     "text": [
      "Epoch 190, Loss 0.0391\n",
      "Training Accuracy: 0.9594, Testing Accuracy: 0.9657\n",
      "\n"
     ]
    },
    {
     "name": "stdout",
     "output_type": "stream",
     "text": [
      "Epoch 200, Loss 0.0386\n",
      "Training Accuracy: 0.9597, Testing Accuracy: 0.9662\n",
      "\n"
     ]
    },
    {
     "name": "stdout",
     "output_type": "stream",
     "text": [
      "Epoch 210, Loss 0.0382\n",
      "Training Accuracy: 0.9599, Testing Accuracy: 0.9667\n",
      "\n"
     ]
    },
    {
     "name": "stdout",
     "output_type": "stream",
     "text": [
      "Epoch 220, Loss 0.0378\n",
      "Training Accuracy: 0.9604, Testing Accuracy: 0.9677\n",
      "\n"
     ]
    },
    {
     "name": "stdout",
     "output_type": "stream",
     "text": [
      "Epoch 230, Loss 0.0374\n",
      "Training Accuracy: 0.9609, Testing Accuracy: 0.9677\n",
      "\n"
     ]
    },
    {
     "name": "stdout",
     "output_type": "stream",
     "text": [
      "Epoch 240, Loss 0.037\n",
      "Training Accuracy: 0.9612, Testing Accuracy: 0.9667\n",
      "\n"
     ]
    },
    {
     "data": {
      "text/plain": [
       "0.10311379332663317"
      ]
     },
     "execution_count": 23,
     "metadata": {},
     "output_type": "execute_result"
    }
   ],
   "source": [
    "lr_learner.train_loop(dl)"
   ]
  },
  {
   "cell_type": "code",
   "execution_count": 24,
   "id": "ca410940",
   "metadata": {
    "execution": {
     "iopub.execute_input": "2022-06-27T00:46:14.124799Z",
     "iopub.status.busy": "2022-06-27T00:46:14.122261Z",
     "iopub.status.idle": "2022-06-27T00:46:14.361612Z",
     "shell.execute_reply": "2022-06-27T00:46:14.362074Z"
    },
    "papermill": {
     "duration": 0.286314,
     "end_time": "2022-06-27T00:46:14.362206",
     "exception": false,
     "start_time": "2022-06-27T00:46:14.075892",
     "status": "completed"
    },
    "tags": []
   },
   "outputs": [
    {
     "data": {
      "text/plain": [
       "<matplotlib.legend.Legend at 0x7f18594cf9e8>"
      ]
     },
     "execution_count": 24,
     "metadata": {},
     "output_type": "execute_result"
    },
    {
     "data": {
      "image/png": "[encoded data removed]",
      "text/plain": [
       "<Figure size 1080x720 with 1 Axes>"
      ]
     },
     "metadata": {
      "needs_background": "light"
     },
     "output_type": "display_data"
    }
   ],
   "source": [
    "#comparing the results of NN and LR\n",
    "plt.figure(figsize=(15,10))\n",
    "\n",
    "# Neural Network plots\n",
    "plt.plot(acc_nn.accuracies, 'r-', label = \"Training Accuracies - NN\")\n",
    "plt.plot(acc_nn.test_accuracies, 'g-', label = \"Testing Accuracies - NN\")\n",
    "\n",
    "# Logistic Regression plots\n",
    "plt.plot(acc_lr.accuracies, 'k-', label = \"Training Accuracies - LR\")\n",
    "plt.plot(acc_lr.test_accuracies, 'b-', label = \"Testing Accuracies - LR\")\n",
    "plt.legend()"
   ]
  },
  {
   "cell_type": "markdown",
   "id": "80dfb35c",
   "metadata": {
    "papermill": {
     "duration": 0.042622,
     "end_time": "2022-06-27T00:46:14.447809",
     "exception": false,
     "start_time": "2022-06-27T00:46:14.405187",
     "status": "completed"
    },
    "tags": []
   },
   "source": [
    "#### Plotting the outputs of this layer of the NN.\n"
   ]
  },
  {
   "cell_type": "code",
   "execution_count": 25,
   "id": "45eb2ff5",
   "metadata": {
    "execution": {
     "iopub.execute_input": "2022-06-27T00:46:14.536616Z",
     "iopub.status.busy": "2022-06-27T00:46:14.536044Z",
     "iopub.status.idle": "2022-06-27T00:46:14.571860Z",
     "shell.execute_reply": "2022-06-27T00:46:14.572702Z"
    },
    "papermill": {
     "duration": 0.082461,
     "end_time": "2022-06-27T00:46:14.572848",
     "exception": false,
     "start_time": "2022-06-27T00:46:14.490387",
     "status": "completed"
    },
    "tags": []
   },
   "outputs": [],
   "source": [
    "new_model = Model(layers[:-2])\n",
    "testing_plot = new_model(testing_data_x)"
   ]
  },
  {
   "cell_type": "code",
   "execution_count": 26,
   "id": "4c0a5485",
   "metadata": {
    "execution": {
     "iopub.execute_input": "2022-06-27T00:46:14.666348Z",
     "iopub.status.busy": "2022-06-27T00:46:14.665799Z",
     "iopub.status.idle": "2022-06-27T00:46:14.853674Z",
     "shell.execute_reply": "2022-06-27T00:46:14.853197Z"
    },
    "papermill": {
     "duration": 0.237294,
     "end_time": "2022-06-27T00:46:14.853784",
     "exception": false,
     "start_time": "2022-06-27T00:46:14.616490",
     "status": "completed"
    },
    "tags": []
   },
   "outputs": [
    {
     "data": {
      "text/plain": [
       "Text(0.5, 1.0, 'Outputs')"
      ]
     },
     "execution_count": 26,
     "metadata": {},
     "output_type": "execute_result"
    },
    {
     "data": {
      "image/png": "[encoded data removed]",
      "text/plain": [
       "<Figure size 576x504 with 1 Axes>"
      ]
     },
     "metadata": {
      "needs_background": "light"
     },
     "output_type": "display_data"
    }
   ],
   "source": [
    "# Plotting the scatter plot of points and color coding by class\n",
    "plt.figure(figsize=(8,7))\n",
    "plt.scatter(testing_plot[:,0], testing_plot[:,1], alpha = 0.1, c = y_test.ravel());\n",
    "plt.title('Outputs')"
   ]
  },
  {
   "cell_type": "markdown",
   "id": "a74fcf8f",
   "metadata": {
    "papermill": {
     "duration": 0.044243,
     "end_time": "2022-06-27T00:46:14.966381",
     "exception": false,
     "start_time": "2022-06-27T00:46:14.922138",
     "status": "completed"
    },
    "tags": []
   },
   "source": [
    "Probability contours"
   ]
  },
  {
   "cell_type": "code",
   "execution_count": 27,
   "id": "d0afc8e3",
   "metadata": {
    "execution": {
     "iopub.execute_input": "2022-06-27T00:46:15.058564Z",
     "iopub.status.busy": "2022-06-27T00:46:15.058004Z",
     "iopub.status.idle": "2022-06-27T00:46:15.069894Z",
     "shell.execute_reply": "2022-06-27T00:46:15.069427Z"
    },
    "papermill": {
     "duration": 0.059244,
     "end_time": "2022-06-27T00:46:15.069999",
     "exception": false,
     "start_time": "2022-06-27T00:46:15.010755",
     "status": "completed"
    },
    "tags": []
   },
   "outputs": [],
   "source": [
    "model_prob = Model(layers[-2:]) "
   ]
  },
  {
   "cell_type": "code",
   "execution_count": 28,
   "id": "9b96e238",
   "metadata": {
    "execution": {
     "iopub.execute_input": "2022-06-27T00:46:15.164915Z",
     "iopub.status.busy": "2022-06-27T00:46:15.164334Z",
     "iopub.status.idle": "2022-06-27T00:46:15.177989Z",
     "shell.execute_reply": "2022-06-27T00:46:15.178421Z"
    },
    "papermill": {
     "duration": 0.064113,
     "end_time": "2022-06-27T00:46:15.178562",
     "exception": false,
     "start_time": "2022-06-27T00:46:15.114449",
     "status": "completed"
    },
    "tags": []
   },
   "outputs": [],
   "source": [
    "#creating the x and y ranges according to the above generated plot.\n",
    "x_range = np.linspace(-4, 1, 100) \n",
    "y_range = np.linspace(-6, 6, 100) \n",
    "x_grid, y_grid = np.meshgrid(x_range, y_range) # x_grid and y_grig are of size 100 X 100\n",
    "\n",
    "# converting x_grid and y_grid to continuous arrays\n",
    "x_gridflat = np.ravel(x_grid)\n",
    "y_gridflat = np.ravel(y_grid)\n",
    "\n",
    "# The last layer of the current model takes two columns as input. Hence transpose of np.vstack() is required.\n",
    "X = np.vstack((x_gridflat, y_gridflat)).T\n",
    "\n",
    "prob_contour = model_prob(X).reshape(100,100) "
   ]
  },
  {
   "cell_type": "code",
   "execution_count": 29,
   "id": "da72499a",
   "metadata": {
    "execution": {
     "iopub.execute_input": "2022-06-27T00:46:15.272793Z",
     "iopub.status.busy": "2022-06-27T00:46:15.272229Z",
     "iopub.status.idle": "2022-06-27T00:46:15.515661Z",
     "shell.execute_reply": "2022-06-27T00:46:15.515173Z"
    },
    "papermill": {
     "duration": 0.292412,
     "end_time": "2022-06-27T00:46:15.515771",
     "exception": false,
     "start_time": "2022-06-27T00:46:15.223359",
     "status": "completed"
    },
    "tags": []
   },
   "outputs": [
    {
     "data": {
      "image/png": "[encoded data removed]",
      "text/plain": [
       "<Figure size 720x648 with 1 Axes>"
      ]
     },
     "metadata": {
      "needs_background": "light"
     },
     "output_type": "display_data"
    }
   ],
   "source": [
    "plt.figure(figsize=(10,9))\n",
    "plt.scatter(testing_plot[:,0], testing_plot[:,1], alpha = 0.1, c = y_test.ravel())\n",
    "contours = plt.contour(x_grid,y_grid,prob_contour)\n",
    "plt.title('Probability Contours')\n",
    "plt.clabel(contours, inline = True );"
   ]
  },
  {
   "cell_type": "code",
   "execution_count": null,
   "id": "e81b4ac7",
   "metadata": {
    "papermill": {
     "duration": 0.047145,
     "end_time": "2022-06-27T00:46:15.610183",
     "exception": false,
     "start_time": "2022-06-27T00:46:15.563038",
     "status": "completed"
    },
    "tags": []
   },
   "outputs": [],
   "source": []
  }
 ],
 "metadata": {
  "kernelspec": {
   "display_name": "Python 3",
   "language": "python",
   "name": "python3"
  },
  "language_info": {
   "codemirror_mode": {
    "name": "ipython",
    "version": 3
   },
   "file_extension": ".py",
   "mimetype": "text/x-python",
   "name": "python",
   "nbconvert_exporter": "python",
   "pygments_lexer": "ipython3",
   "version": "3.6.15"
  },
  "papermill": {
   "default_parameters": {},
   "duration": 196.731269,
   "end_time": "2022-06-27T00:46:15.974736",
   "environment_variables": {},
   "exception": null,
   "input_path": "2020-08-11-part2.ipynb",
   "output_path": "2020-08-11-part2.ipynb",
   "parameters": {},
   "start_time": "2022-06-27T00:42:59.243467",
   "version": "2.3.3"
  }
 },
 "nbformat": 4,
 "nbformat_minor": 5
}