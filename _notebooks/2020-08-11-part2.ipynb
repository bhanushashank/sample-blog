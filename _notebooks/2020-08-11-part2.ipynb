{
 "cells": [
  {
   "cell_type": "markdown",
   "id": "98380cd3",
   "metadata": {
    "papermill": {
     "duration": 0.03438,
     "end_time": "2021-11-26T20:09:19.032700",
     "exception": false,
     "start_time": "2021-11-26T20:09:18.998320",
     "status": "completed"
    },
    "tags": []
   },
   "source": [
    "# Distinguish Your Own Digits (DYOD)"
   ]
  },
  {
   "cell_type": "markdown",
   "id": "ef31240d",
   "metadata": {
    "papermill": {
     "duration": 0.030185,
     "end_time": "2021-11-26T20:09:19.093538",
     "exception": false,
     "start_time": "2021-11-26T20:09:19.063353",
     "status": "completed"
    },
    "tags": []
   },
   "source": [
    "You are going to write a classifier that distinguishes between the number 3 and number 8."
   ]
  },
  {
   "cell_type": "code",
   "execution_count": 1,
   "id": "b15c8646",
   "metadata": {
    "execution": {
     "iopub.execute_input": "2021-11-26T20:09:19.162833Z",
     "iopub.status.busy": "2021-11-26T20:09:19.162245Z",
     "iopub.status.idle": "2021-11-26T20:09:19.173730Z",
     "shell.execute_reply": "2021-11-26T20:09:19.174294Z"
    },
    "papermill": {
     "duration": 0.052244,
     "end_time": "2021-11-26T20:09:19.174452",
     "exception": false,
     "start_time": "2021-11-26T20:09:19.122208",
     "status": "completed"
    },
    "tags": []
   },
   "outputs": [],
   "source": [
    "%load_ext autoreload\n",
    "%autoreload 2"
   ]
  },
  {
   "cell_type": "code",
   "execution_count": 2,
   "id": "22ef38dc",
   "metadata": {
    "execution": {
     "iopub.execute_input": "2021-11-26T20:09:19.234300Z",
     "iopub.status.busy": "2021-11-26T20:09:19.233631Z",
     "iopub.status.idle": "2021-11-26T20:09:19.924725Z",
     "shell.execute_reply": "2021-11-26T20:09:19.924161Z"
    },
    "papermill": {
     "duration": 0.722013,
     "end_time": "2021-11-26T20:09:19.924901",
     "exception": false,
     "start_time": "2021-11-26T20:09:19.202888",
     "status": "completed"
    },
    "tags": []
   },
   "outputs": [],
   "source": [
    "%matplotlib inline\n",
    "import numpy as np\n",
    "import matplotlib.pyplot as plt\n",
    "import pandas as pd"
   ]
  },
  {
   "cell_type": "markdown",
   "id": "ba036198",
   "metadata": {
    "papermill": {
     "duration": 0.031374,
     "end_time": "2021-11-26T20:09:19.986742",
     "exception": false,
     "start_time": "2021-11-26T20:09:19.955368",
     "status": "completed"
    },
    "tags": []
   },
   "source": [
    "From the command line run `pip install mnist`. This is a library that will help you bring down the mnist dataset. If you run this from a notebook, you need to put  `!pip install mnist` in a cell by itself."
   ]
  },
  {
   "cell_type": "code",
   "execution_count": 3,
   "id": "bb6ad8a1",
   "metadata": {
    "execution": {
     "iopub.execute_input": "2021-11-26T20:09:20.054629Z",
     "iopub.status.busy": "2021-11-26T20:09:20.054043Z",
     "iopub.status.idle": "2021-11-26T20:09:22.277890Z",
     "shell.execute_reply": "2021-11-26T20:09:22.278409Z"
    },
    "papermill": {
     "duration": 2.263091,
     "end_time": "2021-11-26T20:09:22.278596",
     "exception": false,
     "start_time": "2021-11-26T20:09:20.015505",
     "status": "completed"
    },
    "tags": []
   },
   "outputs": [
    {
     "name": "stdout",
     "output_type": "stream",
     "text": [
      "Collecting mnist\r\n"
     ]
    },
    {
     "name": "stdout",
     "output_type": "stream",
     "text": [
      "  Downloading mnist-0.2.2-py2.py3-none-any.whl (3.5 kB)\r\n",
      "Requirement already satisfied: numpy in /opt/hostedtoolcache/Python/3.6.15/x64/lib/python3.6/site-packages (from mnist) (1.19.5)\r\n"
     ]
    },
    {
     "name": "stdout",
     "output_type": "stream",
     "text": [
      "Installing collected packages: mnist\r\n"
     ]
    },
    {
     "name": "stdout",
     "output_type": "stream",
     "text": [
      "Successfully installed mnist-0.2.2\r\n"
     ]
    }
   ],
   "source": [
    "!pip install mnist"
   ]
  },
  {
   "cell_type": "markdown",
   "id": "69df9c9a",
   "metadata": {
    "papermill": {
     "duration": 0.030093,
     "end_time": "2021-11-26T20:09:22.339783",
     "exception": false,
     "start_time": "2021-11-26T20:09:22.309690",
     "status": "completed"
    },
    "tags": []
   },
   "source": [
    "## Preparing the Data"
   ]
  },
  {
   "cell_type": "code",
   "execution_count": 4,
   "id": "7f69d806",
   "metadata": {
    "execution": {
     "iopub.execute_input": "2021-11-26T20:09:22.404911Z",
     "iopub.status.busy": "2021-11-26T20:09:22.404068Z",
     "iopub.status.idle": "2021-11-26T20:09:22.421211Z",
     "shell.execute_reply": "2021-11-26T20:09:22.421723Z"
    },
    "papermill": {
     "duration": 0.052533,
     "end_time": "2021-11-26T20:09:22.421877",
     "exception": false,
     "start_time": "2021-11-26T20:09:22.369344",
     "status": "completed"
    },
    "tags": []
   },
   "outputs": [],
   "source": [
    "import mnist"
   ]
  },
  {
   "cell_type": "code",
   "execution_count": 5,
   "id": "a411e44f",
   "metadata": {
    "execution": {
     "iopub.execute_input": "2021-11-26T20:09:22.499608Z",
     "iopub.status.busy": "2021-11-26T20:09:22.486263Z",
     "iopub.status.idle": "2021-11-26T20:09:23.193233Z",
     "shell.execute_reply": "2021-11-26T20:09:23.191462Z"
    },
    "papermill": {
     "duration": 0.741492,
     "end_time": "2021-11-26T20:09:23.193419",
     "exception": false,
     "start_time": "2021-11-26T20:09:22.451927",
     "status": "completed"
    },
    "tags": []
   },
   "outputs": [],
   "source": [
    "train_images = mnist.train_images()\n",
    "train_labels = mnist.train_labels()"
   ]
  },
  {
   "cell_type": "code",
   "execution_count": 6,
   "id": "dceab3a5",
   "metadata": {
    "execution": {
     "iopub.execute_input": "2021-11-26T20:09:23.273939Z",
     "iopub.status.busy": "2021-11-26T20:09:23.271915Z",
     "iopub.status.idle": "2021-11-26T20:09:23.292253Z",
     "shell.execute_reply": "2021-11-26T20:09:23.291441Z"
    },
    "papermill": {
     "duration": 0.061471,
     "end_time": "2021-11-26T20:09:23.292373",
     "exception": false,
     "start_time": "2021-11-26T20:09:23.230902",
     "status": "completed"
    },
    "tags": []
   },
   "outputs": [
    {
     "data": {
      "text/plain": [
       "((60000, 28, 28), (60000,))"
      ]
     },
     "execution_count": 6,
     "metadata": {},
     "output_type": "execute_result"
    }
   ],
   "source": [
    "train_images.shape, train_labels.shape"
   ]
  },
  {
   "cell_type": "code",
   "execution_count": 7,
   "id": "f50dc2bb",
   "metadata": {
    "execution": {
     "iopub.execute_input": "2021-11-26T20:09:23.382745Z",
     "iopub.status.busy": "2021-11-26T20:09:23.382076Z",
     "iopub.status.idle": "2021-11-26T20:09:23.697282Z",
     "shell.execute_reply": "2021-11-26T20:09:23.696301Z"
    },
    "papermill": {
     "duration": 0.362987,
     "end_time": "2021-11-26T20:09:23.697425",
     "exception": false,
     "start_time": "2021-11-26T20:09:23.334438",
     "status": "completed"
    },
    "tags": []
   },
   "outputs": [],
   "source": [
    "test_images = mnist.test_images()\n",
    "test_labels = mnist.test_labels()"
   ]
  },
  {
   "cell_type": "code",
   "execution_count": 8,
   "id": "fc38cf1b",
   "metadata": {
    "execution": {
     "iopub.execute_input": "2021-11-26T20:09:23.781683Z",
     "iopub.status.busy": "2021-11-26T20:09:23.776175Z",
     "iopub.status.idle": "2021-11-26T20:09:23.788887Z",
     "shell.execute_reply": "2021-11-26T20:09:23.789367Z"
    },
    "papermill": {
     "duration": 0.060044,
     "end_time": "2021-11-26T20:09:23.789515",
     "exception": false,
     "start_time": "2021-11-26T20:09:23.729471",
     "status": "completed"
    },
    "tags": []
   },
   "outputs": [
    {
     "data": {
      "text/plain": [
       "((10000, 28, 28), (10000,))"
      ]
     },
     "execution_count": 8,
     "metadata": {},
     "output_type": "execute_result"
    }
   ],
   "source": [
    "test_images.shape, test_labels.shape"
   ]
  },
  {
   "cell_type": "code",
   "execution_count": 9,
   "id": "f9ed8fe0",
   "metadata": {
    "execution": {
     "iopub.execute_input": "2021-11-26T20:09:23.879254Z",
     "iopub.status.busy": "2021-11-26T20:09:23.861443Z",
     "iopub.status.idle": "2021-11-26T20:09:24.038589Z",
     "shell.execute_reply": "2021-11-26T20:09:24.039072Z"
    },
    "papermill": {
     "duration": 0.217925,
     "end_time": "2021-11-26T20:09:24.039233",
     "exception": false,
     "start_time": "2021-11-26T20:09:23.821308",
     "status": "completed"
    },
    "tags": []
   },
   "outputs": [
    {
     "name": "stdout",
     "output_type": "stream",
     "text": [
      "2\n"
     ]
    },
    {
     "data": {
      "text/plain": [
       "<matplotlib.image.AxesImage at 0x7f99c36e3208>"
      ]
     },
     "execution_count": 9,
     "metadata": {},
     "output_type": "execute_result"
    },
    {
     "data": {
      "image/png": "[encoded data removed]",
      "text/plain": [
       "<Figure size 432x288 with 1 Axes>"
      ]
     },
     "metadata": {
      "needs_background": "light"
     },
     "output_type": "display_data"
    }
   ],
   "source": [
    "image_index = 7776 # You may select anything up to 60,000\n",
    "print(train_labels[image_index]) \n",
    "plt.imshow(train_images[image_index], cmap='Greys')"
   ]
  },
  {
   "cell_type": "markdown",
   "id": "a8d2388d",
   "metadata": {
    "papermill": {
     "duration": 0.033681,
     "end_time": "2021-11-26T20:09:24.110410",
     "exception": false,
     "start_time": "2021-11-26T20:09:24.076729",
     "status": "completed"
    },
    "tags": []
   },
   "source": [
    "## Filter data to get 3 and 8 out"
   ]
  },
  {
   "cell_type": "code",
   "execution_count": 10,
   "id": "776f7fc7",
   "metadata": {
    "execution": {
     "iopub.execute_input": "2021-11-26T20:09:24.190122Z",
     "iopub.status.busy": "2021-11-26T20:09:24.189429Z",
     "iopub.status.idle": "2021-11-26T20:09:24.209332Z",
     "shell.execute_reply": "2021-11-26T20:09:24.209907Z"
    },
    "papermill": {
     "duration": 0.064449,
     "end_time": "2021-11-26T20:09:24.210085",
     "exception": false,
     "start_time": "2021-11-26T20:09:24.145636",
     "status": "completed"
    },
    "tags": []
   },
   "outputs": [],
   "source": [
    "train_filter = np.where((train_labels == 3 ) | (train_labels == 8))\n",
    "test_filter = np.where((test_labels == 3) | (test_labels == 8))\n",
    "X_train, y_train = train_images[train_filter], train_labels[train_filter]\n",
    "X_test, y_test = test_images[test_filter], test_labels[test_filter]"
   ]
  },
  {
   "cell_type": "markdown",
   "id": "948f0b7e",
   "metadata": {
    "papermill": {
     "duration": 0.033319,
     "end_time": "2021-11-26T20:09:24.278951",
     "exception": false,
     "start_time": "2021-11-26T20:09:24.245632",
     "status": "completed"
    },
    "tags": []
   },
   "source": [
    "We normalize the pizel values in the 0 to 1 range"
   ]
  },
  {
   "cell_type": "code",
   "execution_count": 11,
   "id": "ee4c2166",
   "metadata": {
    "execution": {
     "iopub.execute_input": "2021-11-26T20:09:24.347674Z",
     "iopub.status.busy": "2021-11-26T20:09:24.346966Z",
     "iopub.status.idle": "2021-11-26T20:09:24.411488Z",
     "shell.execute_reply": "2021-11-26T20:09:24.411993Z"
    },
    "papermill": {
     "duration": 0.10094,
     "end_time": "2021-11-26T20:09:24.412162",
     "exception": false,
     "start_time": "2021-11-26T20:09:24.311222",
     "status": "completed"
    },
    "tags": []
   },
   "outputs": [],
   "source": [
    "X_train = X_train/255.\n",
    "X_test = X_test/255."
   ]
  },
  {
   "cell_type": "markdown",
   "id": "ddcf4fab",
   "metadata": {
    "papermill": {
     "duration": 0.03195,
     "end_time": "2021-11-26T20:09:24.475324",
     "exception": false,
     "start_time": "2021-11-26T20:09:24.443374",
     "status": "completed"
    },
    "tags": []
   },
   "source": [
    "And setup the labels as 1 (when the digit is 3) and 0 (when the digit is 8)"
   ]
  },
  {
   "cell_type": "code",
   "execution_count": 12,
   "id": "7dc908f2",
   "metadata": {
    "execution": {
     "iopub.execute_input": "2021-11-26T20:09:24.552158Z",
     "iopub.status.busy": "2021-11-26T20:09:24.551317Z",
     "iopub.status.idle": "2021-11-26T20:09:24.565709Z",
     "shell.execute_reply": "2021-11-26T20:09:24.566215Z"
    },
    "papermill": {
     "duration": 0.055012,
     "end_time": "2021-11-26T20:09:24.566368",
     "exception": false,
     "start_time": "2021-11-26T20:09:24.511356",
     "status": "completed"
    },
    "tags": []
   },
   "outputs": [],
   "source": [
    "y_train = 1*(y_train==3)\n",
    "y_test = 1*(y_test==3)"
   ]
  },
  {
   "cell_type": "code",
   "execution_count": 13,
   "id": "01e4e969",
   "metadata": {
    "execution": {
     "iopub.execute_input": "2021-11-26T20:09:24.652060Z",
     "iopub.status.busy": "2021-11-26T20:09:24.651341Z",
     "iopub.status.idle": "2021-11-26T20:09:24.661576Z",
     "shell.execute_reply": "2021-11-26T20:09:24.661093Z"
    },
    "papermill": {
     "duration": 0.062814,
     "end_time": "2021-11-26T20:09:24.661695",
     "exception": false,
     "start_time": "2021-11-26T20:09:24.598881",
     "status": "completed"
    },
    "tags": []
   },
   "outputs": [
    {
     "data": {
      "text/plain": [
       "((11982, 28, 28), (1984, 28, 28))"
      ]
     },
     "execution_count": 13,
     "metadata": {},
     "output_type": "execute_result"
    }
   ],
   "source": [
    "X_train.shape, X_test.shape"
   ]
  },
  {
   "cell_type": "markdown",
   "id": "5ccf3f85",
   "metadata": {
    "papermill": {
     "duration": 0.032774,
     "end_time": "2021-11-26T20:09:24.727320",
     "exception": false,
     "start_time": "2021-11-26T20:09:24.694546",
     "status": "completed"
    },
    "tags": []
   },
   "source": [
    "We reshape the data to flatten the image pixels into a set of features or co-variates:"
   ]
  },
  {
   "cell_type": "code",
   "execution_count": 14,
   "id": "5286a4a3",
   "metadata": {
    "execution": {
     "iopub.execute_input": "2021-11-26T20:09:24.810357Z",
     "iopub.status.busy": "2021-11-26T20:09:24.801627Z",
     "iopub.status.idle": "2021-11-26T20:09:24.823626Z",
     "shell.execute_reply": "2021-11-26T20:09:24.824155Z"
    },
    "papermill": {
     "duration": 0.060174,
     "end_time": "2021-11-26T20:09:24.824310",
     "exception": false,
     "start_time": "2021-11-26T20:09:24.764136",
     "status": "completed"
    },
    "tags": []
   },
   "outputs": [
    {
     "data": {
      "text/plain": [
       "((11982, 784), (1984, 784))"
      ]
     },
     "execution_count": 14,
     "metadata": {},
     "output_type": "execute_result"
    }
   ],
   "source": [
    "X_train = X_train.reshape(X_train.shape[0], -1)\n",
    "X_test = X_test.reshape(X_test.shape[0], -1)\n",
    "X_train.shape, X_test.shape"
   ]
  },
  {
   "cell_type": "code",
   "execution_count": 15,
   "id": "73c5f88a",
   "metadata": {
    "execution": {
     "iopub.execute_input": "2021-11-26T20:09:24.897517Z",
     "iopub.status.busy": "2021-11-26T20:09:24.894461Z",
     "iopub.status.idle": "2021-11-26T20:09:24.918604Z",
     "shell.execute_reply": "2021-11-26T20:09:24.918090Z"
    },
    "papermill": {
     "duration": 0.062606,
     "end_time": "2021-11-26T20:09:24.918796",
     "exception": false,
     "start_time": "2021-11-26T20:09:24.856190",
     "status": "completed"
    },
    "tags": []
   },
   "outputs": [],
   "source": [
    "#Impoting functions from 'Kudzu'\n",
    "from kudzu.model import Model\n",
    "from kudzu.train import Learner\n",
    "from kudzu.optim import GD\n",
    "from kudzu.data import Data, Sampler,Dataloader\n",
    "\n",
    "from kudzu.callbacks import AccCallback\n",
    "from kudzu.callbacks import ClfCallback\n",
    "\n",
    "from kudzu.loss import MSE\n",
    "\n",
    "from kudzu.layer import Sigmoid,Relu\n",
    "from kudzu.layer import Affine"
   ]
  },
  {
   "cell_type": "markdown",
   "id": "bc01172a",
   "metadata": {
    "papermill": {
     "duration": 0.032619,
     "end_time": "2021-11-26T20:09:24.985963",
     "exception": false,
     "start_time": "2021-11-26T20:09:24.953344",
     "status": "completed"
    },
    "tags": []
   },
   "source": [
    "### Let us create a `Config` class, to store important parameters. \n",
    "This class essentially plays the role of a dictionary."
   ]
  },
  {
   "cell_type": "code",
   "execution_count": 16,
   "id": "978281aa",
   "metadata": {
    "execution": {
     "iopub.execute_input": "2021-11-26T20:09:25.061453Z",
     "iopub.status.busy": "2021-11-26T20:09:25.060727Z",
     "iopub.status.idle": "2021-11-26T20:09:25.075888Z",
     "shell.execute_reply": "2021-11-26T20:09:25.075293Z"
    },
    "papermill": {
     "duration": 0.055093,
     "end_time": "2021-11-26T20:09:25.076037",
     "exception": false,
     "start_time": "2021-11-26T20:09:25.020944",
     "status": "completed"
    },
    "tags": []
   },
   "outputs": [],
   "source": [
    "class Config:\n",
    "    pass\n",
    "config = Config()\n",
    "config.lr = 0.001\n",
    "config.num_epochs = 250\n",
    "config.bs = 50"
   ]
  },
  {
   "cell_type": "markdown",
   "id": "1385fa59",
   "metadata": {
    "papermill": {
     "duration": 0.035935,
     "end_time": "2021-11-26T20:09:25.144133",
     "exception": false,
     "start_time": "2021-11-26T20:09:25.108198",
     "status": "completed"
    },
    "tags": []
   },
   "source": [
    "### Running Models with the Training data\n",
    "Details about the network layers:\n",
    "- A first affine layer has 784 inputs and does 100 affine transforms. These are followed by a Relu\n",
    "- A second affine layer has 100 inputs from the 100 activations of the past layer, and does 100 affine transforms. These are followed by a Relu\n",
    "- A third affine layer has 100 activations and does 2 affine transformations to create an embedding for visualization. There is no non-linearity here.\n",
    "- A final \"logistic regression\" which has an affine transform from 2 inputs to 1 output, which is squeezed through a sigmoid.\n"
   ]
  },
  {
   "cell_type": "code",
   "execution_count": 17,
   "id": "2b9c66db",
   "metadata": {
    "execution": {
     "iopub.execute_input": "2021-11-26T20:09:25.216527Z",
     "iopub.status.busy": "2021-11-26T20:09:25.215864Z",
     "iopub.status.idle": "2021-11-26T20:09:25.231848Z",
     "shell.execute_reply": "2021-11-26T20:09:25.231358Z"
    },
    "papermill": {
     "duration": 0.053582,
     "end_time": "2021-11-26T20:09:25.231978",
     "exception": false,
     "start_time": "2021-11-26T20:09:25.178396",
     "status": "completed"
    },
    "tags": []
   },
   "outputs": [],
   "source": [
    "data = Data(X_train, y_train.reshape(-1,1))\n",
    "sampler = Sampler(data, config.bs, shuffle=True)\n",
    "\n",
    "dl = Dataloader(data, sampler)\n",
    "\n",
    "opt = GD(config.lr)\n",
    "loss = MSE()"
   ]
  },
  {
   "cell_type": "code",
   "execution_count": 18,
   "id": "b275e4c2",
   "metadata": {
    "execution": {
     "iopub.execute_input": "2021-11-26T20:09:25.305229Z",
     "iopub.status.busy": "2021-11-26T20:09:25.304513Z",
     "iopub.status.idle": "2021-11-26T20:09:25.317614Z",
     "shell.execute_reply": "2021-11-26T20:09:25.318131Z"
    },
    "papermill": {
     "duration": 0.052688,
     "end_time": "2021-11-26T20:09:25.318284",
     "exception": false,
     "start_time": "2021-11-26T20:09:25.265596",
     "status": "completed"
    },
    "tags": []
   },
   "outputs": [],
   "source": [
    "training_data_x = X_train\n",
    "testing_data_x = X_test\n",
    "training_data_y = y_train.reshape(-1,1)\n",
    "testing_data_y = y_test.reshape(-1,1)"
   ]
  },
  {
   "cell_type": "code",
   "execution_count": 19,
   "id": "76951160",
   "metadata": {
    "execution": {
     "iopub.execute_input": "2021-11-26T20:09:25.395665Z",
     "iopub.status.busy": "2021-11-26T20:09:25.395031Z",
     "iopub.status.idle": "2021-11-26T20:09:25.412399Z",
     "shell.execute_reply": "2021-11-26T20:09:25.411608Z"
    },
    "papermill": {
     "duration": 0.059582,
     "end_time": "2021-11-26T20:09:25.412656",
     "exception": false,
     "start_time": "2021-11-26T20:09:25.353074",
     "status": "completed"
    },
    "tags": []
   },
   "outputs": [
    {
     "name": "stdout",
     "output_type": "stream",
     "text": [
      "xavier\n",
      "xavier\n",
      "xavier\n",
      "xavier\n",
      "xavier\n"
     ]
    }
   ],
   "source": [
    "layers = [Affine(\"first\", 784, 100), Relu(\"first\"), Affine(\"second\", 100, 100), Relu(\"second\"), Affine(\"third\", 100, 2), Affine(\"last\", 2, 1), Sigmoid(\"last\")]\n",
    "model_nn = Model(layers)\n",
    "model_lr = Model([Affine(\"logits\", 784, 1), Sigmoid(\"sigmoid\")])"
   ]
  },
  {
   "cell_type": "code",
   "execution_count": 20,
   "id": "6eede77a",
   "metadata": {
    "execution": {
     "iopub.execute_input": "2021-11-26T20:09:25.486142Z",
     "iopub.status.busy": "2021-11-26T20:09:25.485531Z",
     "iopub.status.idle": "2021-11-26T20:09:25.497425Z",
     "shell.execute_reply": "2021-11-26T20:09:25.496910Z"
    },
    "papermill": {
     "duration": 0.050426,
     "end_time": "2021-11-26T20:09:25.497541",
     "exception": false,
     "start_time": "2021-11-26T20:09:25.447115",
     "status": "completed"
    },
    "tags": []
   },
   "outputs": [],
   "source": [
    "nn_learner = Learner(loss, model_nn, opt, config.num_epochs)\n",
    "acc_nn = ClfCallback(nn_learner, config.bs, training_data_x , testing_data_x, training_data_y, testing_data_y)\n",
    "nn_learner.set_callbacks([acc_nn])"
   ]
  },
  {
   "cell_type": "code",
   "execution_count": 21,
   "id": "877b6cc7",
   "metadata": {
    "execution": {
     "iopub.execute_input": "2021-11-26T20:09:25.582463Z",
     "iopub.status.busy": "2021-11-26T20:09:25.581790Z",
     "iopub.status.idle": "2021-11-26T20:09:25.586338Z",
     "shell.execute_reply": "2021-11-26T20:09:25.585814Z"
    },
    "papermill": {
     "duration": 0.056223,
     "end_time": "2021-11-26T20:09:25.586454",
     "exception": false,
     "start_time": "2021-11-26T20:09:25.530231",
     "status": "completed"
    },
    "tags": []
   },
   "outputs": [],
   "source": [
    "lr_learner = Learner(loss, model_lr, opt, config.num_epochs)\n",
    "acc_lr = ClfCallback(lr_learner, config.bs, training_data_x , testing_data_x, training_data_y, testing_data_y)\n",
    "lr_learner.set_callbacks([acc_lr])"
   ]
  },
  {
   "cell_type": "code",
   "execution_count": 22,
   "id": "d9b133c3",
   "metadata": {
    "execution": {
     "iopub.execute_input": "2021-11-26T20:09:25.670657Z",
     "iopub.status.busy": "2021-11-26T20:09:25.670010Z",
     "iopub.status.idle": "2021-11-26T20:11:35.862361Z",
     "shell.execute_reply": "2021-11-26T20:11:35.863257Z"
    },
    "papermill": {
     "duration": 130.237998,
     "end_time": "2021-11-26T20:11:35.863434",
     "exception": false,
     "start_time": "2021-11-26T20:09:25.625436",
     "status": "completed"
    },
    "tags": []
   },
   "outputs": [
    {
     "name": "stdout",
     "output_type": "stream",
     "text": [
      "Epoch 0, Loss 0.2488\n",
      "Training Accuracy: 0.5904, Testing Accuracy: 0.5731\n",
      "\n"
     ]
    },
    {
     "name": "stdout",
     "output_type": "stream",
     "text": [
      "Epoch 10, Loss 0.1165\n",
      "Training Accuracy: 0.9046, Testing Accuracy: 0.9138\n",
      "\n"
     ]
    },
    {
     "name": "stdout",
     "output_type": "stream",
     "text": [
      "Epoch 20, Loss 0.0648\n",
      "Training Accuracy: 0.9372, Testing Accuracy: 0.9451\n",
      "\n"
     ]
    },
    {
     "name": "stdout",
     "output_type": "stream",
     "text": [
      "Epoch 30, Loss 0.0476\n",
      "Training Accuracy: 0.9508, Testing Accuracy: 0.9592\n",
      "\n"
     ]
    },
    {
     "name": "stdout",
     "output_type": "stream",
     "text": [
      "Epoch 40, Loss 0.0399\n",
      "Training Accuracy: 0.9571, Testing Accuracy: 0.9642\n",
      "\n"
     ]
    },
    {
     "name": "stdout",
     "output_type": "stream",
     "text": [
      "Epoch 50, Loss 0.0356\n",
      "Training Accuracy: 0.9604, Testing Accuracy: 0.9682\n",
      "\n"
     ]
    },
    {
     "name": "stdout",
     "output_type": "stream",
     "text": [
      "Epoch 60, Loss 0.0328\n",
      "Training Accuracy: 0.9634, Testing Accuracy: 0.9682\n",
      "\n"
     ]
    },
    {
     "name": "stdout",
     "output_type": "stream",
     "text": [
      "Epoch 70, Loss 0.0307\n",
      "Training Accuracy: 0.9649, Testing Accuracy: 0.9693\n",
      "\n"
     ]
    },
    {
     "name": "stdout",
     "output_type": "stream",
     "text": [
      "Epoch 80, Loss 0.0292\n",
      "Training Accuracy: 0.9664, Testing Accuracy: 0.9713\n",
      "\n"
     ]
    },
    {
     "name": "stdout",
     "output_type": "stream",
     "text": [
      "Epoch 90, Loss 0.0279\n",
      "Training Accuracy: 0.9678, Testing Accuracy: 0.9708\n",
      "\n"
     ]
    },
    {
     "name": "stdout",
     "output_type": "stream",
     "text": [
      "Epoch 100, Loss 0.0269\n",
      "Training Accuracy: 0.9686, Testing Accuracy: 0.9708\n",
      "\n"
     ]
    },
    {
     "name": "stdout",
     "output_type": "stream",
     "text": [
      "Epoch 110, Loss 0.0259\n",
      "Training Accuracy: 0.9700, Testing Accuracy: 0.9718\n",
      "\n"
     ]
    },
    {
     "name": "stdout",
     "output_type": "stream",
     "text": [
      "Epoch 120, Loss 0.0251\n",
      "Training Accuracy: 0.9710, Testing Accuracy: 0.9718\n",
      "\n"
     ]
    },
    {
     "name": "stdout",
     "output_type": "stream",
     "text": [
      "Epoch 130, Loss 0.0244\n",
      "Training Accuracy: 0.9715, Testing Accuracy: 0.9723\n",
      "\n"
     ]
    },
    {
     "name": "stdout",
     "output_type": "stream",
     "text": [
      "Epoch 140, Loss 0.0238\n",
      "Training Accuracy: 0.9725, Testing Accuracy: 0.9718\n",
      "\n"
     ]
    },
    {
     "name": "stdout",
     "output_type": "stream",
     "text": [
      "Epoch 150, Loss 0.0232\n",
      "Training Accuracy: 0.9734, Testing Accuracy: 0.9723\n",
      "\n"
     ]
    },
    {
     "name": "stdout",
     "output_type": "stream",
     "text": [
      "Epoch 160, Loss 0.0226\n",
      "Training Accuracy: 0.9739, Testing Accuracy: 0.9733\n",
      "\n"
     ]
    },
    {
     "name": "stdout",
     "output_type": "stream",
     "text": [
      "Epoch 170, Loss 0.0221\n",
      "Training Accuracy: 0.9740, Testing Accuracy: 0.9733\n",
      "\n"
     ]
    },
    {
     "name": "stdout",
     "output_type": "stream",
     "text": [
      "Epoch 180, Loss 0.0216\n",
      "Training Accuracy: 0.9748, Testing Accuracy: 0.9738\n",
      "\n"
     ]
    },
    {
     "name": "stdout",
     "output_type": "stream",
     "text": [
      "Epoch 190, Loss 0.0211\n",
      "Training Accuracy: 0.9755, Testing Accuracy: 0.9738\n",
      "\n"
     ]
    },
    {
     "name": "stdout",
     "output_type": "stream",
     "text": [
      "Epoch 200, Loss 0.0206\n",
      "Training Accuracy: 0.9764, Testing Accuracy: 0.9738\n",
      "\n"
     ]
    },
    {
     "name": "stdout",
     "output_type": "stream",
     "text": [
      "Epoch 210, Loss 0.0202\n",
      "Training Accuracy: 0.9768, Testing Accuracy: 0.9743\n",
      "\n"
     ]
    },
    {
     "name": "stdout",
     "output_type": "stream",
     "text": [
      "Epoch 220, Loss 0.0198\n",
      "Training Accuracy: 0.9774, Testing Accuracy: 0.9748\n",
      "\n"
     ]
    },
    {
     "name": "stdout",
     "output_type": "stream",
     "text": [
      "Epoch 230, Loss 0.0194\n",
      "Training Accuracy: 0.9778, Testing Accuracy: 0.9748\n",
      "\n"
     ]
    },
    {
     "name": "stdout",
     "output_type": "stream",
     "text": [
      "Epoch 240, Loss 0.0191\n",
      "Training Accuracy: 0.9781, Testing Accuracy: 0.9758\n",
      "\n"
     ]
    },
    {
     "data": {
      "text/plain": [
       "0.003575401541053781"
      ]
     },
     "execution_count": 22,
     "metadata": {},
     "output_type": "execute_result"
    }
   ],
   "source": [
    "nn_learner.train_loop(dl)"
   ]
  },
  {
   "cell_type": "code",
   "execution_count": 23,
   "id": "e0163366",
   "metadata": {
    "execution": {
     "iopub.execute_input": "2021-11-26T20:11:35.970813Z",
     "iopub.status.busy": "2021-11-26T20:11:35.969586Z",
     "iopub.status.idle": "2021-11-26T20:11:55.041528Z",
     "shell.execute_reply": "2021-11-26T20:11:55.042206Z"
    },
    "papermill": {
     "duration": 19.131195,
     "end_time": "2021-11-26T20:11:55.042381",
     "exception": false,
     "start_time": "2021-11-26T20:11:35.911186",
     "status": "completed"
    },
    "tags": []
   },
   "outputs": [
    {
     "name": "stdout",
     "output_type": "stream",
     "text": [
      "Epoch 0, Loss 0.2548\n",
      "Training Accuracy: 0.6294, Testing Accuracy: 0.6391\n",
      "\n"
     ]
    },
    {
     "name": "stdout",
     "output_type": "stream",
     "text": [
      "Epoch 10, Loss 0.1036\n",
      "Training Accuracy: 0.9078, Testing Accuracy: 0.9148\n",
      "\n"
     ]
    },
    {
     "name": "stdout",
     "output_type": "stream",
     "text": [
      "Epoch 20, Loss 0.0791\n",
      "Training Accuracy: 0.9276, Testing Accuracy: 0.9355\n",
      "\n"
     ]
    },
    {
     "name": "stdout",
     "output_type": "stream",
     "text": [
      "Epoch 30, Loss 0.068\n",
      "Training Accuracy: 0.9374, Testing Accuracy: 0.9461\n",
      "\n"
     ]
    },
    {
     "name": "stdout",
     "output_type": "stream",
     "text": [
      "Epoch 40, Loss 0.0614\n",
      "Training Accuracy: 0.9417, Testing Accuracy: 0.9536\n",
      "\n"
     ]
    },
    {
     "name": "stdout",
     "output_type": "stream",
     "text": [
      "Epoch 50, Loss 0.057\n",
      "Training Accuracy: 0.9451, Testing Accuracy: 0.9572\n",
      "\n"
     ]
    },
    {
     "name": "stdout",
     "output_type": "stream",
     "text": [
      "Epoch 60, Loss 0.0537\n",
      "Training Accuracy: 0.9469, Testing Accuracy: 0.9592\n",
      "\n"
     ]
    },
    {
     "name": "stdout",
     "output_type": "stream",
     "text": [
      "Epoch 70, Loss 0.0511\n",
      "Training Accuracy: 0.9495, Testing Accuracy: 0.9597\n",
      "\n"
     ]
    },
    {
     "name": "stdout",
     "output_type": "stream",
     "text": [
      "Epoch 80, Loss 0.0491\n",
      "Training Accuracy: 0.9512, Testing Accuracy: 0.9617\n",
      "\n"
     ]
    },
    {
     "name": "stdout",
     "output_type": "stream",
     "text": [
      "Epoch 90, Loss 0.0474\n",
      "Training Accuracy: 0.9523, Testing Accuracy: 0.9632\n",
      "\n"
     ]
    },
    {
     "name": "stdout",
     "output_type": "stream",
     "text": [
      "Epoch 100, Loss 0.046\n",
      "Training Accuracy: 0.9534, Testing Accuracy: 0.9632\n",
      "\n"
     ]
    },
    {
     "name": "stdout",
     "output_type": "stream",
     "text": [
      "Epoch 110, Loss 0.0448\n",
      "Training Accuracy: 0.9545, Testing Accuracy: 0.9647\n",
      "\n"
     ]
    },
    {
     "name": "stdout",
     "output_type": "stream",
     "text": [
      "Epoch 120, Loss 0.0437\n",
      "Training Accuracy: 0.9552, Testing Accuracy: 0.9647\n",
      "\n"
     ]
    },
    {
     "name": "stdout",
     "output_type": "stream",
     "text": [
      "Epoch 130, Loss 0.0428\n",
      "Training Accuracy: 0.9562, Testing Accuracy: 0.9652\n",
      "\n"
     ]
    },
    {
     "name": "stdout",
     "output_type": "stream",
     "text": [
      "Epoch 140, Loss 0.0419\n",
      "Training Accuracy: 0.9569, Testing Accuracy: 0.9672\n",
      "\n"
     ]
    },
    {
     "name": "stdout",
     "output_type": "stream",
     "text": [
      "Epoch 150, Loss 0.0412\n",
      "Training Accuracy: 0.9578, Testing Accuracy: 0.9672\n",
      "\n"
     ]
    },
    {
     "name": "stdout",
     "output_type": "stream",
     "text": [
      "Epoch 160, Loss 0.0405\n",
      "Training Accuracy: 0.9584, Testing Accuracy: 0.9672\n",
      "\n"
     ]
    },
    {
     "name": "stdout",
     "output_type": "stream",
     "text": [
      "Epoch 170, Loss 0.0399\n",
      "Training Accuracy: 0.9591, Testing Accuracy: 0.9677\n",
      "\n"
     ]
    },
    {
     "name": "stdout",
     "output_type": "stream",
     "text": [
      "Epoch 180, Loss 0.0393\n",
      "Training Accuracy: 0.9594, Testing Accuracy: 0.9677\n",
      "\n"
     ]
    },
    {
     "name": "stdout",
     "output_type": "stream",
     "text": [
      "Epoch 190, Loss 0.0388\n",
      "Training Accuracy: 0.9596, Testing Accuracy: 0.9688\n",
      "\n"
     ]
    },
    {
     "name": "stdout",
     "output_type": "stream",
     "text": [
      "Epoch 200, Loss 0.0384\n",
      "Training Accuracy: 0.9599, Testing Accuracy: 0.9688\n",
      "\n"
     ]
    },
    {
     "name": "stdout",
     "output_type": "stream",
     "text": [
      "Epoch 210, Loss 0.0379\n",
      "Training Accuracy: 0.9605, Testing Accuracy: 0.9688\n",
      "\n"
     ]
    },
    {
     "name": "stdout",
     "output_type": "stream",
     "text": [
      "Epoch 220, Loss 0.0375\n",
      "Training Accuracy: 0.9607, Testing Accuracy: 0.9693\n",
      "\n"
     ]
    },
    {
     "name": "stdout",
     "output_type": "stream",
     "text": [
      "Epoch 230, Loss 0.0371\n",
      "Training Accuracy: 0.9610, Testing Accuracy: 0.9688\n",
      "\n"
     ]
    },
    {
     "name": "stdout",
     "output_type": "stream",
     "text": [
      "Epoch 240, Loss 0.0368\n",
      "Training Accuracy: 0.9609, Testing Accuracy: 0.9693\n",
      "\n"
     ]
    },
    {
     "data": {
      "text/plain": [
       "0.017821084068428906"
      ]
     },
     "execution_count": 23,
     "metadata": {},
     "output_type": "execute_result"
    }
   ],
   "source": [
    "lr_learner.train_loop(dl)"
   ]
  },
  {
   "cell_type": "code",
   "execution_count": 24,
   "id": "ca410940",
   "metadata": {
    "execution": {
     "iopub.execute_input": "2021-11-26T20:11:55.156374Z",
     "iopub.status.busy": "2021-11-26T20:11:55.155702Z",
     "iopub.status.idle": "2021-11-26T20:11:55.465447Z",
     "shell.execute_reply": "2021-11-26T20:11:55.464383Z"
    },
    "papermill": {
     "duration": 0.368528,
     "end_time": "2021-11-26T20:11:55.465619",
     "exception": false,
     "start_time": "2021-11-26T20:11:55.097091",
     "status": "completed"
    },
    "tags": []
   },
   "outputs": [
    {
     "data": {
      "text/plain": [
       "<matplotlib.legend.Legend at 0x7f99b5eb9908>"
      ]
     },
     "execution_count": 24,
     "metadata": {},
     "output_type": "execute_result"
    },
    {
     "data": {
      "image/png": "[encoded data removed]",
      "text/plain": [
       "<Figure size 1080x720 with 1 Axes>"
      ]
     },
     "metadata": {
      "needs_background": "light"
     },
     "output_type": "display_data"
    }
   ],
   "source": [
    "#comparing the results of NN and LR\n",
    "plt.figure(figsize=(15,10))\n",
    "\n",
    "# Neural Network plots\n",
    "plt.plot(acc_nn.accuracies, 'r-', label = \"Training Accuracies - NN\")\n",
    "plt.plot(acc_nn.test_accuracies, 'g-', label = \"Testing Accuracies - NN\")\n",
    "\n",
    "# Logistic Regression plots\n",
    "plt.plot(acc_lr.accuracies, 'k-', label = \"Training Accuracies - LR\")\n",
    "plt.plot(acc_lr.test_accuracies, 'b-', label = \"Testing Accuracies - LR\")\n",
    "plt.legend()"
   ]
  },
  {
   "cell_type": "markdown",
   "id": "80dfb35c",
   "metadata": {
    "papermill": {
     "duration": 0.053828,
     "end_time": "2021-11-26T20:11:55.575938",
     "exception": false,
     "start_time": "2021-11-26T20:11:55.522110",
     "status": "completed"
    },
    "tags": []
   },
   "source": [
    "#### Plotting the outputs of this layer of the NN.\n"
   ]
  },
  {
   "cell_type": "code",
   "execution_count": 25,
   "id": "45eb2ff5",
   "metadata": {
    "execution": {
     "iopub.execute_input": "2021-11-26T20:11:55.713559Z",
     "iopub.status.busy": "2021-11-26T20:11:55.712874Z",
     "iopub.status.idle": "2021-11-26T20:11:55.731731Z",
     "shell.execute_reply": "2021-11-26T20:11:55.732252Z"
    },
    "papermill": {
     "duration": 0.099229,
     "end_time": "2021-11-26T20:11:55.732419",
     "exception": false,
     "start_time": "2021-11-26T20:11:55.633190",
     "status": "completed"
    },
    "tags": []
   },
   "outputs": [],
   "source": [
    "new_model = Model(layers[:-2])\n",
    "testing_plot = new_model(testing_data_x)"
   ]
  },
  {
   "cell_type": "code",
   "execution_count": 26,
   "id": "4c0a5485",
   "metadata": {
    "execution": {
     "iopub.execute_input": "2021-11-26T20:11:55.850623Z",
     "iopub.status.busy": "2021-11-26T20:11:55.849959Z",
     "iopub.status.idle": "2021-11-26T20:11:56.115767Z",
     "shell.execute_reply": "2021-11-26T20:11:56.116287Z"
    },
    "papermill": {
     "duration": 0.329965,
     "end_time": "2021-11-26T20:11:56.116462",
     "exception": false,
     "start_time": "2021-11-26T20:11:55.786497",
     "status": "completed"
    },
    "tags": []
   },
   "outputs": [
    {
     "data": {
      "text/plain": [
       "Text(0.5, 1.0, 'Outputs')"
      ]
     },
     "execution_count": 26,
     "metadata": {},
     "output_type": "execute_result"
    },
    {
     "data": {
      "image/png": "[encoded data removed]",
      "text/plain": [
       "<Figure size 576x504 with 1 Axes>"
      ]
     },
     "metadata": {
      "needs_background": "light"
     },
     "output_type": "display_data"
    }
   ],
   "source": [
    "# Plotting the scatter plot of points and color coding by class\n",
    "plt.figure(figsize=(8,7))\n",
    "plt.scatter(testing_plot[:,0], testing_plot[:,1], alpha = 0.1, c = y_test.ravel());\n",
    "plt.title('Outputs')"
   ]
  },
  {
   "cell_type": "markdown",
   "id": "a74fcf8f",
   "metadata": {
    "papermill": {
     "duration": 0.056914,
     "end_time": "2021-11-26T20:11:56.231039",
     "exception": false,
     "start_time": "2021-11-26T20:11:56.174125",
     "status": "completed"
    },
    "tags": []
   },
   "source": [
    "Probability contours"
   ]
  },
  {
   "cell_type": "code",
   "execution_count": 27,
   "id": "d0afc8e3",
   "metadata": {
    "execution": {
     "iopub.execute_input": "2021-11-26T20:11:56.378939Z",
     "iopub.status.busy": "2021-11-26T20:11:56.378284Z",
     "iopub.status.idle": "2021-11-26T20:11:56.388931Z",
     "shell.execute_reply": "2021-11-26T20:11:56.389459Z"
    },
    "papermill": {
     "duration": 0.073236,
     "end_time": "2021-11-26T20:11:56.389642",
     "exception": false,
     "start_time": "2021-11-26T20:11:56.316406",
     "status": "completed"
    },
    "tags": []
   },
   "outputs": [],
   "source": [
    "model_prob = Model(layers[-2:]) "
   ]
  },
  {
   "cell_type": "code",
   "execution_count": 28,
   "id": "9b96e238",
   "metadata": {
    "execution": {
     "iopub.execute_input": "2021-11-26T20:11:56.511090Z",
     "iopub.status.busy": "2021-11-26T20:11:56.510404Z",
     "iopub.status.idle": "2021-11-26T20:11:56.527230Z",
     "shell.execute_reply": "2021-11-26T20:11:56.526657Z"
    },
    "papermill": {
     "duration": 0.080024,
     "end_time": "2021-11-26T20:11:56.527372",
     "exception": false,
     "start_time": "2021-11-26T20:11:56.447348",
     "status": "completed"
    },
    "tags": []
   },
   "outputs": [],
   "source": [
    "#creating the x and y ranges according to the above generated plot.\n",
    "x_range = np.linspace(-4, 1, 100) \n",
    "y_range = np.linspace(-6, 6, 100) \n",
    "x_grid, y_grid = np.meshgrid(x_range, y_range) # x_grid and y_grig are of size 100 X 100\n",
    "\n",
    "# converting x_grid and y_grid to continuous arrays\n",
    "x_gridflat = np.ravel(x_grid)\n",
    "y_gridflat = np.ravel(y_grid)\n",
    "\n",
    "# The last layer of the current model takes two columns as input. Hence transpose of np.vstack() is required.\n",
    "X = np.vstack((x_gridflat, y_gridflat)).T\n",
    "\n",
    "prob_contour = model_prob(X).reshape(100,100) "
   ]
  },
  {
   "cell_type": "code",
   "execution_count": 29,
   "id": "da72499a",
   "metadata": {
    "execution": {
     "iopub.execute_input": "2021-11-26T20:11:56.647318Z",
     "iopub.status.busy": "2021-11-26T20:11:56.646640Z",
     "iopub.status.idle": "2021-11-26T20:11:56.975024Z",
     "shell.execute_reply": "2021-11-26T20:11:56.975550Z"
    },
    "papermill": {
     "duration": 0.391404,
     "end_time": "2021-11-26T20:11:56.975716",
     "exception": false,
     "start_time": "2021-11-26T20:11:56.584312",
     "status": "completed"
    },
    "tags": []
   },
   "outputs": [
    {
     "data": {
      "image/png": "[encoded data removed]",
      "text/plain": [
       "<Figure size 720x648 with 1 Axes>"
      ]
     },
     "metadata": {
      "needs_background": "light"
     },
     "output_type": "display_data"
    }
   ],
   "source": [
    "plt.figure(figsize=(10,9))\n",
    "plt.scatter(testing_plot[:,0], testing_plot[:,1], alpha = 0.1, c = y_test.ravel())\n",
    "contours = plt.contour(x_grid,y_grid,prob_contour)\n",
    "plt.title('Probability Contours')\n",
    "plt.clabel(contours, inline = True );"
   ]
  },
  {
   "cell_type": "code",
   "execution_count": null,
   "id": "e81b4ac7",
   "metadata": {
    "papermill": {
     "duration": 0.060321,
     "end_time": "2021-11-26T20:11:57.096291",
     "exception": false,
     "start_time": "2021-11-26T20:11:57.035970",
     "status": "completed"
    },
    "tags": []
   },
   "outputs": [],
   "source": []
  }
 ],
 "metadata": {
  "kernelspec": {
   "display_name": "Python 3",
   "language": "python",
   "name": "python3"
  },
  "language_info": {
   "codemirror_mode": {
    "name": "ipython",
    "version": 3
   },
   "file_extension": ".py",
   "mimetype": "text/x-python",
   "name": "python",
   "nbconvert_exporter": "python",
   "pygments_lexer": "ipython3",
   "version": "3.6.15"
  },
  "papermill": {
   "default_parameters": {},
   "duration": 159.894392,
   "end_time": "2021-11-26T20:11:57.566951",
   "environment_variables": {},
   "exception": null,
   "input_path": "2020-08-11-part2.ipynb",
   "output_path": "2020-08-11-part2.ipynb",
   "parameters": {},
   "start_time": "2021-11-26T20:09:17.672559",
   "version": "2.3.3"
  }
 },
 "nbformat": 4,
 "nbformat_minor": 5
}