{
 "cells": [
  {
   "cell_type": "markdown",
   "id": "98380cd3",
   "metadata": {
    "papermill": {
     "duration": 0.028349,
     "end_time": "2022-01-17T10:08:56.086563",
     "exception": false,
     "start_time": "2022-01-17T10:08:56.058214",
     "status": "completed"
    },
    "tags": []
   },
   "source": [
    "# Distinguish Your Own Digits (DYOD)"
   ]
  },
  {
   "cell_type": "markdown",
   "id": "ef31240d",
   "metadata": {
    "papermill": {
     "duration": 0.02397,
     "end_time": "2022-01-17T10:08:56.135200",
     "exception": false,
     "start_time": "2022-01-17T10:08:56.111230",
     "status": "completed"
    },
    "tags": []
   },
   "source": [
    "You are going to write a classifier that distinguishes between the number 3 and number 8."
   ]
  },
  {
   "cell_type": "code",
   "execution_count": 1,
   "id": "b15c8646",
   "metadata": {
    "execution": {
     "iopub.execute_input": "2022-01-17T10:08:56.194559Z",
     "iopub.status.busy": "2022-01-17T10:08:56.194038Z",
     "iopub.status.idle": "2022-01-17T10:08:56.203398Z",
     "shell.execute_reply": "2022-01-17T10:08:56.202977Z"
    },
    "papermill": {
     "duration": 0.044488,
     "end_time": "2022-01-17T10:08:56.203526",
     "exception": false,
     "start_time": "2022-01-17T10:08:56.159038",
     "status": "completed"
    },
    "tags": []
   },
   "outputs": [],
   "source": [
    "%load_ext autoreload\n",
    "%autoreload 2"
   ]
  },
  {
   "cell_type": "code",
   "execution_count": 2,
   "id": "22ef38dc",
   "metadata": {
    "execution": {
     "iopub.execute_input": "2022-01-17T10:08:56.254765Z",
     "iopub.status.busy": "2022-01-17T10:08:56.254252Z",
     "iopub.status.idle": "2022-01-17T10:08:56.768498Z",
     "shell.execute_reply": "2022-01-17T10:08:56.767925Z"
    },
    "papermill": {
     "duration": 0.541215,
     "end_time": "2022-01-17T10:08:56.768647",
     "exception": false,
     "start_time": "2022-01-17T10:08:56.227432",
     "status": "completed"
    },
    "tags": []
   },
   "outputs": [],
   "source": [
    "%matplotlib inline\n",
    "import numpy as np\n",
    "import matplotlib.pyplot as plt\n",
    "import pandas as pd"
   ]
  },
  {
   "cell_type": "markdown",
   "id": "ba036198",
   "metadata": {
    "papermill": {
     "duration": 0.024007,
     "end_time": "2022-01-17T10:08:56.817380",
     "exception": false,
     "start_time": "2022-01-17T10:08:56.793373",
     "status": "completed"
    },
    "tags": []
   },
   "source": [
    "From the command line run `pip install mnist`. This is a library that will help you bring down the mnist dataset. If you run this from a notebook, you need to put  `!pip install mnist` in a cell by itself."
   ]
  },
  {
   "cell_type": "code",
   "execution_count": 3,
   "id": "bb6ad8a1",
   "metadata": {
    "execution": {
     "iopub.execute_input": "2022-01-17T10:08:56.874146Z",
     "iopub.status.busy": "2022-01-17T10:08:56.873618Z",
     "iopub.status.idle": "2022-01-17T10:08:59.360819Z",
     "shell.execute_reply": "2022-01-17T10:08:59.360314Z"
    },
    "papermill": {
     "duration": 2.519419,
     "end_time": "2022-01-17T10:08:59.360937",
     "exception": false,
     "start_time": "2022-01-17T10:08:56.841518",
     "status": "completed"
    },
    "tags": []
   },
   "outputs": [
    {
     "name": "stdout",
     "output_type": "stream",
     "text": [
      "Collecting mnist\r\n"
     ]
    },
    {
     "name": "stdout",
     "output_type": "stream",
     "text": [
      "  Downloading mnist-0.2.2-py2.py3-none-any.whl (3.5 kB)\r\n",
      "Requirement already satisfied: numpy in /opt/hostedtoolcache/Python/3.6.15/x64/lib/python3.6/site-packages (from mnist) (1.19.5)\r\n"
     ]
    },
    {
     "name": "stdout",
     "output_type": "stream",
     "text": [
      "Installing collected packages: mnist\r\n",
      "Successfully installed mnist-0.2.2\r\n"
     ]
    }
   ],
   "source": [
    "!pip install mnist"
   ]
  },
  {
   "cell_type": "markdown",
   "id": "69df9c9a",
   "metadata": {
    "papermill": {
     "duration": 0.02259,
     "end_time": "2022-01-17T10:08:59.405868",
     "exception": false,
     "start_time": "2022-01-17T10:08:59.383278",
     "status": "completed"
    },
    "tags": []
   },
   "source": [
    "## Preparing the Data"
   ]
  },
  {
   "cell_type": "code",
   "execution_count": 4,
   "id": "7f69d806",
   "metadata": {
    "execution": {
     "iopub.execute_input": "2022-01-17T10:08:59.454058Z",
     "iopub.status.busy": "2022-01-17T10:08:59.453567Z",
     "iopub.status.idle": "2022-01-17T10:08:59.470295Z",
     "shell.execute_reply": "2022-01-17T10:08:59.469882Z"
    },
    "papermill": {
     "duration": 0.042482,
     "end_time": "2022-01-17T10:08:59.470403",
     "exception": false,
     "start_time": "2022-01-17T10:08:59.427921",
     "status": "completed"
    },
    "tags": []
   },
   "outputs": [],
   "source": [
    "import mnist"
   ]
  },
  {
   "cell_type": "code",
   "execution_count": 5,
   "id": "a411e44f",
   "metadata": {
    "execution": {
     "iopub.execute_input": "2022-01-17T10:08:59.519057Z",
     "iopub.status.busy": "2022-01-17T10:08:59.518202Z",
     "iopub.status.idle": "2022-01-17T10:09:00.057538Z",
     "shell.execute_reply": "2022-01-17T10:09:00.057002Z"
    },
    "papermill": {
     "duration": 0.564962,
     "end_time": "2022-01-17T10:09:00.057686",
     "exception": false,
     "start_time": "2022-01-17T10:08:59.492724",
     "status": "completed"
    },
    "tags": []
   },
   "outputs": [],
   "source": [
    "train_images = mnist.train_images()\n",
    "train_labels = mnist.train_labels()"
   ]
  },
  {
   "cell_type": "code",
   "execution_count": 6,
   "id": "dceab3a5",
   "metadata": {
    "execution": {
     "iopub.execute_input": "2022-01-17T10:09:00.107596Z",
     "iopub.status.busy": "2022-01-17T10:09:00.107131Z",
     "iopub.status.idle": "2022-01-17T10:09:00.122651Z",
     "shell.execute_reply": "2022-01-17T10:09:00.122270Z"
    },
    "papermill": {
     "duration": 0.041378,
     "end_time": "2022-01-17T10:09:00.122766",
     "exception": false,
     "start_time": "2022-01-17T10:09:00.081388",
     "status": "completed"
    },
    "tags": []
   },
   "outputs": [
    {
     "data": {
      "text/plain": [
       "((60000, 28, 28), (60000,))"
      ]
     },
     "execution_count": 6,
     "metadata": {},
     "output_type": "execute_result"
    }
   ],
   "source": [
    "train_images.shape, train_labels.shape"
   ]
  },
  {
   "cell_type": "code",
   "execution_count": 7,
   "id": "f50dc2bb",
   "metadata": {
    "execution": {
     "iopub.execute_input": "2022-01-17T10:09:00.171239Z",
     "iopub.status.busy": "2022-01-17T10:09:00.170761Z",
     "iopub.status.idle": "2022-01-17T10:09:00.306668Z",
     "shell.execute_reply": "2022-01-17T10:09:00.306193Z"
    },
    "papermill": {
     "duration": 0.161774,
     "end_time": "2022-01-17T10:09:00.306787",
     "exception": false,
     "start_time": "2022-01-17T10:09:00.145013",
     "status": "completed"
    },
    "tags": []
   },
   "outputs": [],
   "source": [
    "test_images = mnist.test_images()\n",
    "test_labels = mnist.test_labels()"
   ]
  },
  {
   "cell_type": "code",
   "execution_count": 8,
   "id": "fc38cf1b",
   "metadata": {
    "execution": {
     "iopub.execute_input": "2022-01-17T10:09:00.357192Z",
     "iopub.status.busy": "2022-01-17T10:09:00.356557Z",
     "iopub.status.idle": "2022-01-17T10:09:00.368651Z",
     "shell.execute_reply": "2022-01-17T10:09:00.368173Z"
    },
    "papermill": {
     "duration": 0.039374,
     "end_time": "2022-01-17T10:09:00.368773",
     "exception": false,
     "start_time": "2022-01-17T10:09:00.329399",
     "status": "completed"
    },
    "tags": []
   },
   "outputs": [
    {
     "data": {
      "text/plain": [
       "((10000, 28, 28), (10000,))"
      ]
     },
     "execution_count": 8,
     "metadata": {},
     "output_type": "execute_result"
    }
   ],
   "source": [
    "test_images.shape, test_labels.shape"
   ]
  },
  {
   "cell_type": "code",
   "execution_count": 9,
   "id": "f9ed8fe0",
   "metadata": {
    "execution": {
     "iopub.execute_input": "2022-01-17T10:09:00.423983Z",
     "iopub.status.busy": "2022-01-17T10:09:00.423464Z",
     "iopub.status.idle": "2022-01-17T10:09:00.550981Z",
     "shell.execute_reply": "2022-01-17T10:09:00.551445Z"
    },
    "papermill": {
     "duration": 0.157385,
     "end_time": "2022-01-17T10:09:00.551588",
     "exception": false,
     "start_time": "2022-01-17T10:09:00.394203",
     "status": "completed"
    },
    "tags": []
   },
   "outputs": [
    {
     "name": "stdout",
     "output_type": "stream",
     "text": [
      "2\n"
     ]
    },
    {
     "data": {
      "text/plain": [
       "<matplotlib.image.AxesImage at 0x7f61ffcbc4e0>"
      ]
     },
     "execution_count": 9,
     "metadata": {},
     "output_type": "execute_result"
    },
    {
     "data": {
      "image/png": "[encoded data removed]",
      "text/plain": [
       "<Figure size 432x288 with 1 Axes>"
      ]
     },
     "metadata": {
      "needs_background": "light"
     },
     "output_type": "display_data"
    }
   ],
   "source": [
    "image_index = 7776 # You may select anything up to 60,000\n",
    "print(train_labels[image_index]) \n",
    "plt.imshow(train_images[image_index], cmap='Greys')"
   ]
  },
  {
   "cell_type": "markdown",
   "id": "a8d2388d",
   "metadata": {
    "papermill": {
     "duration": 0.023449,
     "end_time": "2022-01-17T10:09:00.598845",
     "exception": false,
     "start_time": "2022-01-17T10:09:00.575396",
     "status": "completed"
    },
    "tags": []
   },
   "source": [
    "## Filter data to get 3 and 8 out"
   ]
  },
  {
   "cell_type": "code",
   "execution_count": 10,
   "id": "776f7fc7",
   "metadata": {
    "execution": {
     "iopub.execute_input": "2022-01-17T10:09:00.656840Z",
     "iopub.status.busy": "2022-01-17T10:09:00.656293Z",
     "iopub.status.idle": "2022-01-17T10:09:00.671961Z",
     "shell.execute_reply": "2022-01-17T10:09:00.671556Z"
    },
    "papermill": {
     "duration": 0.049901,
     "end_time": "2022-01-17T10:09:00.672080",
     "exception": false,
     "start_time": "2022-01-17T10:09:00.622179",
     "status": "completed"
    },
    "tags": []
   },
   "outputs": [],
   "source": [
    "train_filter = np.where((train_labels == 3 ) | (train_labels == 8))\n",
    "test_filter = np.where((test_labels == 3) | (test_labels == 8))\n",
    "X_train, y_train = train_images[train_filter], train_labels[train_filter]\n",
    "X_test, y_test = test_images[test_filter], test_labels[test_filter]"
   ]
  },
  {
   "cell_type": "markdown",
   "id": "948f0b7e",
   "metadata": {
    "papermill": {
     "duration": 0.023478,
     "end_time": "2022-01-17T10:09:00.719193",
     "exception": false,
     "start_time": "2022-01-17T10:09:00.695715",
     "status": "completed"
    },
    "tags": []
   },
   "source": [
    "We normalize the pizel values in the 0 to 1 range"
   ]
  },
  {
   "cell_type": "code",
   "execution_count": 11,
   "id": "ee4c2166",
   "metadata": {
    "execution": {
     "iopub.execute_input": "2022-01-17T10:09:00.769658Z",
     "iopub.status.busy": "2022-01-17T10:09:00.769169Z",
     "iopub.status.idle": "2022-01-17T10:09:00.818123Z",
     "shell.execute_reply": "2022-01-17T10:09:00.818599Z"
    },
    "papermill": {
     "duration": 0.076144,
     "end_time": "2022-01-17T10:09:00.818773",
     "exception": false,
     "start_time": "2022-01-17T10:09:00.742629",
     "status": "completed"
    },
    "tags": []
   },
   "outputs": [],
   "source": [
    "X_train = X_train/255.\n",
    "X_test = X_test/255."
   ]
  },
  {
   "cell_type": "markdown",
   "id": "ddcf4fab",
   "metadata": {
    "papermill": {
     "duration": 0.023228,
     "end_time": "2022-01-17T10:09:00.866913",
     "exception": false,
     "start_time": "2022-01-17T10:09:00.843685",
     "status": "completed"
    },
    "tags": []
   },
   "source": [
    "And setup the labels as 1 (when the digit is 3) and 0 (when the digit is 8)"
   ]
  },
  {
   "cell_type": "code",
   "execution_count": 12,
   "id": "7dc908f2",
   "metadata": {
    "execution": {
     "iopub.execute_input": "2022-01-17T10:09:00.917473Z",
     "iopub.status.busy": "2022-01-17T10:09:00.917002Z",
     "iopub.status.idle": "2022-01-17T10:09:00.928565Z",
     "shell.execute_reply": "2022-01-17T10:09:00.929010Z"
    },
    "papermill": {
     "duration": 0.038951,
     "end_time": "2022-01-17T10:09:00.929141",
     "exception": false,
     "start_time": "2022-01-17T10:09:00.890190",
     "status": "completed"
    },
    "tags": []
   },
   "outputs": [],
   "source": [
    "y_train = 1*(y_train==3)\n",
    "y_test = 1*(y_test==3)"
   ]
  },
  {
   "cell_type": "code",
   "execution_count": 13,
   "id": "01e4e969",
   "metadata": {
    "execution": {
     "iopub.execute_input": "2022-01-17T10:09:00.979155Z",
     "iopub.status.busy": "2022-01-17T10:09:00.978696Z",
     "iopub.status.idle": "2022-01-17T10:09:00.991497Z",
     "shell.execute_reply": "2022-01-17T10:09:00.991840Z"
    },
    "papermill": {
     "duration": 0.039468,
     "end_time": "2022-01-17T10:09:00.991970",
     "exception": false,
     "start_time": "2022-01-17T10:09:00.952502",
     "status": "completed"
    },
    "tags": []
   },
   "outputs": [
    {
     "data": {
      "text/plain": [
       "((11982, 28, 28), (1984, 28, 28))"
      ]
     },
     "execution_count": 13,
     "metadata": {},
     "output_type": "execute_result"
    }
   ],
   "source": [
    "X_train.shape, X_test.shape"
   ]
  },
  {
   "cell_type": "markdown",
   "id": "5ccf3f85",
   "metadata": {
    "papermill": {
     "duration": 0.023543,
     "end_time": "2022-01-17T10:09:01.038958",
     "exception": false,
     "start_time": "2022-01-17T10:09:01.015415",
     "status": "completed"
    },
    "tags": []
   },
   "source": [
    "We reshape the data to flatten the image pixels into a set of features or co-variates:"
   ]
  },
  {
   "cell_type": "code",
   "execution_count": 14,
   "id": "5286a4a3",
   "metadata": {
    "execution": {
     "iopub.execute_input": "2022-01-17T10:09:01.092662Z",
     "iopub.status.busy": "2022-01-17T10:09:01.092162Z",
     "iopub.status.idle": "2022-01-17T10:09:01.104369Z",
     "shell.execute_reply": "2022-01-17T10:09:01.104777Z"
    },
    "papermill": {
     "duration": 0.041958,
     "end_time": "2022-01-17T10:09:01.104910",
     "exception": false,
     "start_time": "2022-01-17T10:09:01.062952",
     "status": "completed"
    },
    "tags": []
   },
   "outputs": [
    {
     "data": {
      "text/plain": [
       "((11982, 784), (1984, 784))"
      ]
     },
     "execution_count": 14,
     "metadata": {},
     "output_type": "execute_result"
    }
   ],
   "source": [
    "X_train = X_train.reshape(X_train.shape[0], -1)\n",
    "X_test = X_test.reshape(X_test.shape[0], -1)\n",
    "X_train.shape, X_test.shape"
   ]
  },
  {
   "cell_type": "code",
   "execution_count": 15,
   "id": "73c5f88a",
   "metadata": {
    "execution": {
     "iopub.execute_input": "2022-01-17T10:09:01.170611Z",
     "iopub.status.busy": "2022-01-17T10:09:01.166391Z",
     "iopub.status.idle": "2022-01-17T10:09:01.179662Z",
     "shell.execute_reply": "2022-01-17T10:09:01.179251Z"
    },
    "papermill": {
     "duration": 0.051072,
     "end_time": "2022-01-17T10:09:01.179766",
     "exception": false,
     "start_time": "2022-01-17T10:09:01.128694",
     "status": "completed"
    },
    "tags": []
   },
   "outputs": [],
   "source": [
    "#Impoting functions from 'Kudzu'\n",
    "from kudzu.model import Model\n",
    "from kudzu.train import Learner\n",
    "from kudzu.optim import GD\n",
    "from kudzu.data import Data, Sampler,Dataloader\n",
    "\n",
    "from kudzu.callbacks import AccCallback\n",
    "from kudzu.callbacks import ClfCallback\n",
    "\n",
    "from kudzu.loss import MSE\n",
    "\n",
    "from kudzu.layer import Sigmoid,Relu\n",
    "from kudzu.layer import Affine"
   ]
  },
  {
   "cell_type": "markdown",
   "id": "bc01172a",
   "metadata": {
    "papermill": {
     "duration": 0.023656,
     "end_time": "2022-01-17T10:09:01.227371",
     "exception": false,
     "start_time": "2022-01-17T10:09:01.203715",
     "status": "completed"
    },
    "tags": []
   },
   "source": [
    "### Let us create a `Config` class, to store important parameters. \n",
    "This class essentially plays the role of a dictionary."
   ]
  },
  {
   "cell_type": "code",
   "execution_count": 16,
   "id": "978281aa",
   "metadata": {
    "execution": {
     "iopub.execute_input": "2022-01-17T10:09:01.280370Z",
     "iopub.status.busy": "2022-01-17T10:09:01.279863Z",
     "iopub.status.idle": "2022-01-17T10:09:01.291000Z",
     "shell.execute_reply": "2022-01-17T10:09:01.291388Z"
    },
    "papermill": {
     "duration": 0.040442,
     "end_time": "2022-01-17T10:09:01.291515",
     "exception": false,
     "start_time": "2022-01-17T10:09:01.251073",
     "status": "completed"
    },
    "tags": []
   },
   "outputs": [],
   "source": [
    "class Config:\n",
    "    pass\n",
    "config = Config()\n",
    "config.lr = 0.001\n",
    "config.num_epochs = 250\n",
    "config.bs = 50"
   ]
  },
  {
   "cell_type": "markdown",
   "id": "1385fa59",
   "metadata": {
    "papermill": {
     "duration": 0.02365,
     "end_time": "2022-01-17T10:09:01.339059",
     "exception": false,
     "start_time": "2022-01-17T10:09:01.315409",
     "status": "completed"
    },
    "tags": []
   },
   "source": [
    "### Running Models with the Training data\n",
    "Details about the network layers:\n",
    "- A first affine layer has 784 inputs and does 100 affine transforms. These are followed by a Relu\n",
    "- A second affine layer has 100 inputs from the 100 activations of the past layer, and does 100 affine transforms. These are followed by a Relu\n",
    "- A third affine layer has 100 activations and does 2 affine transformations to create an embedding for visualization. There is no non-linearity here.\n",
    "- A final \"logistic regression\" which has an affine transform from 2 inputs to 1 output, which is squeezed through a sigmoid.\n"
   ]
  },
  {
   "cell_type": "code",
   "execution_count": 17,
   "id": "2b9c66db",
   "metadata": {
    "execution": {
     "iopub.execute_input": "2022-01-17T10:09:01.390640Z",
     "iopub.status.busy": "2022-01-17T10:09:01.390176Z",
     "iopub.status.idle": "2022-01-17T10:09:01.402992Z",
     "shell.execute_reply": "2022-01-17T10:09:01.402613Z"
    },
    "papermill": {
     "duration": 0.040372,
     "end_time": "2022-01-17T10:09:01.403098",
     "exception": false,
     "start_time": "2022-01-17T10:09:01.362726",
     "status": "completed"
    },
    "tags": []
   },
   "outputs": [],
   "source": [
    "data = Data(X_train, y_train.reshape(-1,1))\n",
    "sampler = Sampler(data, config.bs, shuffle=True)\n",
    "\n",
    "dl = Dataloader(data, sampler)\n",
    "\n",
    "opt = GD(config.lr)\n",
    "loss = MSE()"
   ]
  },
  {
   "cell_type": "code",
   "execution_count": 18,
   "id": "b275e4c2",
   "metadata": {
    "execution": {
     "iopub.execute_input": "2022-01-17T10:09:01.454633Z",
     "iopub.status.busy": "2022-01-17T10:09:01.454171Z",
     "iopub.status.idle": "2022-01-17T10:09:01.466300Z",
     "shell.execute_reply": "2022-01-17T10:09:01.465929Z"
    },
    "papermill": {
     "duration": 0.039193,
     "end_time": "2022-01-17T10:09:01.466404",
     "exception": false,
     "start_time": "2022-01-17T10:09:01.427211",
     "status": "completed"
    },
    "tags": []
   },
   "outputs": [],
   "source": [
    "training_data_x = X_train\n",
    "testing_data_x = X_test\n",
    "training_data_y = y_train.reshape(-1,1)\n",
    "testing_data_y = y_test.reshape(-1,1)"
   ]
  },
  {
   "cell_type": "code",
   "execution_count": 19,
   "id": "76951160",
   "metadata": {
    "execution": {
     "iopub.execute_input": "2022-01-17T10:09:01.517091Z",
     "iopub.status.busy": "2022-01-17T10:09:01.516659Z",
     "iopub.status.idle": "2022-01-17T10:09:01.531598Z",
     "shell.execute_reply": "2022-01-17T10:09:01.532169Z"
    },
    "papermill": {
     "duration": 0.04238,
     "end_time": "2022-01-17T10:09:01.532311",
     "exception": false,
     "start_time": "2022-01-17T10:09:01.489931",
     "status": "completed"
    },
    "tags": []
   },
   "outputs": [
    {
     "name": "stdout",
     "output_type": "stream",
     "text": [
      "xavier\n",
      "xavier\n",
      "xavier\n",
      "xavier\n",
      "xavier\n"
     ]
    }
   ],
   "source": [
    "layers = [Affine(\"first\", 784, 100), Relu(\"first\"), Affine(\"second\", 100, 100), Relu(\"second\"), Affine(\"third\", 100, 2), Affine(\"last\", 2, 1), Sigmoid(\"last\")]\n",
    "model_nn = Model(layers)\n",
    "model_lr = Model([Affine(\"logits\", 784, 1), Sigmoid(\"sigmoid\")])"
   ]
  },
  {
   "cell_type": "code",
   "execution_count": 20,
   "id": "6eede77a",
   "metadata": {
    "execution": {
     "iopub.execute_input": "2022-01-17T10:09:01.584133Z",
     "iopub.status.busy": "2022-01-17T10:09:01.583688Z",
     "iopub.status.idle": "2022-01-17T10:09:01.595873Z",
     "shell.execute_reply": "2022-01-17T10:09:01.595472Z"
    },
    "papermill": {
     "duration": 0.039698,
     "end_time": "2022-01-17T10:09:01.595978",
     "exception": false,
     "start_time": "2022-01-17T10:09:01.556280",
     "status": "completed"
    },
    "tags": []
   },
   "outputs": [],
   "source": [
    "nn_learner = Learner(loss, model_nn, opt, config.num_epochs)\n",
    "acc_nn = ClfCallback(nn_learner, config.bs, training_data_x , testing_data_x, training_data_y, testing_data_y)\n",
    "nn_learner.set_callbacks([acc_nn])"
   ]
  },
  {
   "cell_type": "code",
   "execution_count": 21,
   "id": "877b6cc7",
   "metadata": {
    "execution": {
     "iopub.execute_input": "2022-01-17T10:09:01.648551Z",
     "iopub.status.busy": "2022-01-17T10:09:01.648039Z",
     "iopub.status.idle": "2022-01-17T10:09:01.659564Z",
     "shell.execute_reply": "2022-01-17T10:09:01.659911Z"
    },
    "papermill": {
     "duration": 0.040236,
     "end_time": "2022-01-17T10:09:01.660039",
     "exception": false,
     "start_time": "2022-01-17T10:09:01.619803",
     "status": "completed"
    },
    "tags": []
   },
   "outputs": [],
   "source": [
    "lr_learner = Learner(loss, model_lr, opt, config.num_epochs)\n",
    "acc_lr = ClfCallback(lr_learner, config.bs, training_data_x , testing_data_x, training_data_y, testing_data_y)\n",
    "lr_learner.set_callbacks([acc_lr])"
   ]
  },
  {
   "cell_type": "code",
   "execution_count": 22,
   "id": "d9b133c3",
   "metadata": {
    "execution": {
     "iopub.execute_input": "2022-01-17T10:09:01.720958Z",
     "iopub.status.busy": "2022-01-17T10:09:01.719542Z",
     "iopub.status.idle": "2022-01-17T10:10:18.816805Z",
     "shell.execute_reply": "2022-01-17T10:10:18.817251Z"
    },
    "papermill": {
     "duration": 77.133125,
     "end_time": "2022-01-17T10:10:18.817389",
     "exception": false,
     "start_time": "2022-01-17T10:09:01.684264",
     "status": "completed"
    },
    "tags": []
   },
   "outputs": [
    {
     "name": "stdout",
     "output_type": "stream",
     "text": [
      "Epoch 0, Loss 0.2464\n",
      "Training Accuracy: 0.6562, Testing Accuracy: 0.6658\n",
      "\n"
     ]
    },
    {
     "name": "stdout",
     "output_type": "stream",
     "text": [
      "Epoch 10, Loss 0.1037\n",
      "Training Accuracy: 0.9199, Testing Accuracy: 0.9284\n",
      "\n"
     ]
    },
    {
     "name": "stdout",
     "output_type": "stream",
     "text": [
      "Epoch 20, Loss 0.0599\n",
      "Training Accuracy: 0.9427, Testing Accuracy: 0.9516\n",
      "\n"
     ]
    },
    {
     "name": "stdout",
     "output_type": "stream",
     "text": [
      "Epoch 30, Loss 0.0457\n",
      "Training Accuracy: 0.9517, Testing Accuracy: 0.9642\n",
      "\n"
     ]
    },
    {
     "name": "stdout",
     "output_type": "stream",
     "text": [
      "Epoch 40, Loss 0.0391\n",
      "Training Accuracy: 0.9570, Testing Accuracy: 0.9677\n",
      "\n"
     ]
    },
    {
     "name": "stdout",
     "output_type": "stream",
     "text": [
      "Epoch 50, Loss 0.0353\n",
      "Training Accuracy: 0.9600, Testing Accuracy: 0.9693\n",
      "\n"
     ]
    },
    {
     "name": "stdout",
     "output_type": "stream",
     "text": [
      "Epoch 60, Loss 0.0327\n",
      "Training Accuracy: 0.9615, Testing Accuracy: 0.9693\n",
      "\n"
     ]
    },
    {
     "name": "stdout",
     "output_type": "stream",
     "text": [
      "Epoch 70, Loss 0.0307\n",
      "Training Accuracy: 0.9637, Testing Accuracy: 0.9708\n",
      "\n"
     ]
    },
    {
     "name": "stdout",
     "output_type": "stream",
     "text": [
      "Epoch 80, Loss 0.0292\n",
      "Training Accuracy: 0.9652, Testing Accuracy: 0.9718\n",
      "\n"
     ]
    },
    {
     "name": "stdout",
     "output_type": "stream",
     "text": [
      "Epoch 90, Loss 0.0278\n",
      "Training Accuracy: 0.9670, Testing Accuracy: 0.9723\n",
      "\n"
     ]
    },
    {
     "name": "stdout",
     "output_type": "stream",
     "text": [
      "Epoch 100, Loss 0.0267\n",
      "Training Accuracy: 0.9684, Testing Accuracy: 0.9728\n",
      "\n"
     ]
    },
    {
     "name": "stdout",
     "output_type": "stream",
     "text": [
      "Epoch 110, Loss 0.0257\n",
      "Training Accuracy: 0.9702, Testing Accuracy: 0.9743\n",
      "\n"
     ]
    },
    {
     "name": "stdout",
     "output_type": "stream",
     "text": [
      "Epoch 120, Loss 0.0248\n",
      "Training Accuracy: 0.9715, Testing Accuracy: 0.9748\n",
      "\n"
     ]
    },
    {
     "name": "stdout",
     "output_type": "stream",
     "text": [
      "Epoch 130, Loss 0.024\n",
      "Training Accuracy: 0.9720, Testing Accuracy: 0.9753\n",
      "\n"
     ]
    },
    {
     "name": "stdout",
     "output_type": "stream",
     "text": [
      "Epoch 140, Loss 0.0233\n",
      "Training Accuracy: 0.9730, Testing Accuracy: 0.9753\n",
      "\n"
     ]
    },
    {
     "name": "stdout",
     "output_type": "stream",
     "text": [
      "Epoch 150, Loss 0.0226\n",
      "Training Accuracy: 0.9743, Testing Accuracy: 0.9748\n",
      "\n"
     ]
    },
    {
     "name": "stdout",
     "output_type": "stream",
     "text": [
      "Epoch 160, Loss 0.0219\n",
      "Training Accuracy: 0.9750, Testing Accuracy: 0.9763\n",
      "\n"
     ]
    },
    {
     "name": "stdout",
     "output_type": "stream",
     "text": [
      "Epoch 170, Loss 0.0213\n",
      "Training Accuracy: 0.9755, Testing Accuracy: 0.9768\n",
      "\n"
     ]
    },
    {
     "name": "stdout",
     "output_type": "stream",
     "text": [
      "Epoch 180, Loss 0.0207\n",
      "Training Accuracy: 0.9762, Testing Accuracy: 0.9773\n",
      "\n"
     ]
    },
    {
     "name": "stdout",
     "output_type": "stream",
     "text": [
      "Epoch 190, Loss 0.0202\n",
      "Training Accuracy: 0.9777, Testing Accuracy: 0.9773\n",
      "\n"
     ]
    },
    {
     "name": "stdout",
     "output_type": "stream",
     "text": [
      "Epoch 200, Loss 0.0197\n",
      "Training Accuracy: 0.9786, Testing Accuracy: 0.9768\n",
      "\n"
     ]
    },
    {
     "name": "stdout",
     "output_type": "stream",
     "text": [
      "Epoch 210, Loss 0.0192\n",
      "Training Accuracy: 0.9790, Testing Accuracy: 0.9763\n",
      "\n"
     ]
    },
    {
     "name": "stdout",
     "output_type": "stream",
     "text": [
      "Epoch 220, Loss 0.0187\n",
      "Training Accuracy: 0.9796, Testing Accuracy: 0.9763\n",
      "\n"
     ]
    },
    {
     "name": "stdout",
     "output_type": "stream",
     "text": [
      "Epoch 230, Loss 0.0182\n",
      "Training Accuracy: 0.9803, Testing Accuracy: 0.9768\n",
      "\n"
     ]
    },
    {
     "name": "stdout",
     "output_type": "stream",
     "text": [
      "Epoch 240, Loss 0.0178\n",
      "Training Accuracy: 0.9810, Testing Accuracy: 0.9768\n",
      "\n"
     ]
    },
    {
     "data": {
      "text/plain": [
       "0.023231999075955953"
      ]
     },
     "execution_count": 22,
     "metadata": {},
     "output_type": "execute_result"
    }
   ],
   "source": [
    "nn_learner.train_loop(dl)"
   ]
  },
  {
   "cell_type": "code",
   "execution_count": 23,
   "id": "e0163366",
   "metadata": {
    "execution": {
     "iopub.execute_input": "2022-01-17T10:10:18.885521Z",
     "iopub.status.busy": "2022-01-17T10:10:18.885063Z",
     "iopub.status.idle": "2022-01-17T10:10:32.769400Z",
     "shell.execute_reply": "2022-01-17T10:10:32.770102Z"
    },
    "papermill": {
     "duration": 13.922406,
     "end_time": "2022-01-17T10:10:32.770251",
     "exception": false,
     "start_time": "2022-01-17T10:10:18.847845",
     "status": "completed"
    },
    "tags": []
   },
   "outputs": [
    {
     "name": "stdout",
     "output_type": "stream",
     "text": [
      "Epoch 0, Loss 0.2619\n",
      "Training Accuracy: 0.6162, Testing Accuracy: 0.6174\n",
      "\n"
     ]
    },
    {
     "name": "stdout",
     "output_type": "stream",
     "text": [
      "Epoch 10, Loss 0.1067\n",
      "Training Accuracy: 0.9027, Testing Accuracy: 0.9128\n",
      "\n"
     ]
    },
    {
     "name": "stdout",
     "output_type": "stream",
     "text": [
      "Epoch 20, Loss 0.0814\n",
      "Training Accuracy: 0.9251, Testing Accuracy: 0.9360\n",
      "\n"
     ]
    },
    {
     "name": "stdout",
     "output_type": "stream",
     "text": [
      "Epoch 30, Loss 0.0697\n",
      "Training Accuracy: 0.9337, Testing Accuracy: 0.9441\n",
      "\n"
     ]
    },
    {
     "name": "stdout",
     "output_type": "stream",
     "text": [
      "Epoch 40, Loss 0.0628\n",
      "Training Accuracy: 0.9394, Testing Accuracy: 0.9491\n",
      "\n"
     ]
    },
    {
     "name": "stdout",
     "output_type": "stream",
     "text": [
      "Epoch 50, Loss 0.058\n",
      "Training Accuracy: 0.9443, Testing Accuracy: 0.9516\n",
      "\n"
     ]
    },
    {
     "name": "stdout",
     "output_type": "stream",
     "text": [
      "Epoch 60, Loss 0.0545\n",
      "Training Accuracy: 0.9468, Testing Accuracy: 0.9546\n",
      "\n"
     ]
    },
    {
     "name": "stdout",
     "output_type": "stream",
     "text": [
      "Epoch 70, Loss 0.0519\n",
      "Training Accuracy: 0.9487, Testing Accuracy: 0.9561\n",
      "\n"
     ]
    },
    {
     "name": "stdout",
     "output_type": "stream",
     "text": [
      "Epoch 80, Loss 0.0497\n",
      "Training Accuracy: 0.9511, Testing Accuracy: 0.9572\n",
      "\n"
     ]
    },
    {
     "name": "stdout",
     "output_type": "stream",
     "text": [
      "Epoch 90, Loss 0.048\n",
      "Training Accuracy: 0.9518, Testing Accuracy: 0.9577\n",
      "\n"
     ]
    },
    {
     "name": "stdout",
     "output_type": "stream",
     "text": [
      "Epoch 100, Loss 0.0465\n",
      "Training Accuracy: 0.9528, Testing Accuracy: 0.9587\n",
      "\n"
     ]
    },
    {
     "name": "stdout",
     "output_type": "stream",
     "text": [
      "Epoch 110, Loss 0.0452\n",
      "Training Accuracy: 0.9543, Testing Accuracy: 0.9587\n",
      "\n"
     ]
    },
    {
     "name": "stdout",
     "output_type": "stream",
     "text": [
      "Epoch 120, Loss 0.0441\n",
      "Training Accuracy: 0.9548, Testing Accuracy: 0.9602\n",
      "\n"
     ]
    },
    {
     "name": "stdout",
     "output_type": "stream",
     "text": [
      "Epoch 130, Loss 0.0432\n",
      "Training Accuracy: 0.9556, Testing Accuracy: 0.9612\n",
      "\n"
     ]
    },
    {
     "name": "stdout",
     "output_type": "stream",
     "text": [
      "Epoch 140, Loss 0.0423\n",
      "Training Accuracy: 0.9564, Testing Accuracy: 0.9617\n",
      "\n"
     ]
    },
    {
     "name": "stdout",
     "output_type": "stream",
     "text": [
      "Epoch 150, Loss 0.0415\n",
      "Training Accuracy: 0.9569, Testing Accuracy: 0.9617\n",
      "\n"
     ]
    },
    {
     "name": "stdout",
     "output_type": "stream",
     "text": [
      "Epoch 160, Loss 0.0409\n",
      "Training Accuracy: 0.9578, Testing Accuracy: 0.9627\n",
      "\n"
     ]
    },
    {
     "name": "stdout",
     "output_type": "stream",
     "text": [
      "Epoch 170, Loss 0.0402\n",
      "Training Accuracy: 0.9585, Testing Accuracy: 0.9632\n",
      "\n"
     ]
    },
    {
     "name": "stdout",
     "output_type": "stream",
     "text": [
      "Epoch 180, Loss 0.0396\n",
      "Training Accuracy: 0.9590, Testing Accuracy: 0.9642\n",
      "\n"
     ]
    },
    {
     "name": "stdout",
     "output_type": "stream",
     "text": [
      "Epoch 190, Loss 0.0391\n",
      "Training Accuracy: 0.9592, Testing Accuracy: 0.9642\n",
      "\n"
     ]
    },
    {
     "name": "stdout",
     "output_type": "stream",
     "text": [
      "Epoch 200, Loss 0.0386\n",
      "Training Accuracy: 0.9597, Testing Accuracy: 0.9647\n",
      "\n"
     ]
    },
    {
     "name": "stdout",
     "output_type": "stream",
     "text": [
      "Epoch 210, Loss 0.0382\n",
      "Training Accuracy: 0.9597, Testing Accuracy: 0.9647\n",
      "\n"
     ]
    },
    {
     "name": "stdout",
     "output_type": "stream",
     "text": [
      "Epoch 220, Loss 0.0378\n",
      "Training Accuracy: 0.9602, Testing Accuracy: 0.9652\n",
      "\n"
     ]
    },
    {
     "name": "stdout",
     "output_type": "stream",
     "text": [
      "Epoch 230, Loss 0.0374\n",
      "Training Accuracy: 0.9605, Testing Accuracy: 0.9652\n",
      "\n"
     ]
    },
    {
     "name": "stdout",
     "output_type": "stream",
     "text": [
      "Epoch 240, Loss 0.037\n",
      "Training Accuracy: 0.9608, Testing Accuracy: 0.9657\n",
      "\n"
     ]
    },
    {
     "data": {
      "text/plain": [
       "0.048827821877424724"
      ]
     },
     "execution_count": 23,
     "metadata": {},
     "output_type": "execute_result"
    }
   ],
   "source": [
    "lr_learner.train_loop(dl)"
   ]
  },
  {
   "cell_type": "code",
   "execution_count": 24,
   "id": "ca410940",
   "metadata": {
    "execution": {
     "iopub.execute_input": "2022-01-17T10:10:32.853435Z",
     "iopub.status.busy": "2022-01-17T10:10:32.852962Z",
     "iopub.status.idle": "2022-01-17T10:10:33.062762Z",
     "shell.execute_reply": "2022-01-17T10:10:33.063191Z"
    },
    "papermill": {
     "duration": 0.255862,
     "end_time": "2022-01-17T10:10:33.063341",
     "exception": false,
     "start_time": "2022-01-17T10:10:32.807479",
     "status": "completed"
    },
    "tags": []
   },
   "outputs": [
    {
     "data": {
      "text/plain": [
       "<matplotlib.legend.Legend at 0x7f61ff897be0>"
      ]
     },
     "execution_count": 24,
     "metadata": {},
     "output_type": "execute_result"
    },
    {
     "data": {
      "image/png": "[encoded data removed]",
      "text/plain": [
       "<Figure size 1080x720 with 1 Axes>"
      ]
     },
     "metadata": {
      "needs_background": "light"
     },
     "output_type": "display_data"
    }
   ],
   "source": [
    "#comparing the results of NN and LR\n",
    "plt.figure(figsize=(15,10))\n",
    "\n",
    "# Neural Network plots\n",
    "plt.plot(acc_nn.accuracies, 'r-', label = \"Training Accuracies - NN\")\n",
    "plt.plot(acc_nn.test_accuracies, 'g-', label = \"Testing Accuracies - NN\")\n",
    "\n",
    "# Logistic Regression plots\n",
    "plt.plot(acc_lr.accuracies, 'k-', label = \"Training Accuracies - LR\")\n",
    "plt.plot(acc_lr.test_accuracies, 'b-', label = \"Testing Accuracies - LR\")\n",
    "plt.legend()"
   ]
  },
  {
   "cell_type": "markdown",
   "id": "80dfb35c",
   "metadata": {
    "papermill": {
     "duration": 0.042111,
     "end_time": "2022-01-17T10:10:33.149706",
     "exception": false,
     "start_time": "2022-01-17T10:10:33.107595",
     "status": "completed"
    },
    "tags": []
   },
   "source": [
    "#### Plotting the outputs of this layer of the NN.\n"
   ]
  },
  {
   "cell_type": "code",
   "execution_count": 25,
   "id": "45eb2ff5",
   "metadata": {
    "execution": {
     "iopub.execute_input": "2022-01-17T10:10:33.237773Z",
     "iopub.status.busy": "2022-01-17T10:10:33.237144Z",
     "iopub.status.idle": "2022-01-17T10:10:33.257213Z",
     "shell.execute_reply": "2022-01-17T10:10:33.256789Z"
    },
    "papermill": {
     "duration": 0.065764,
     "end_time": "2022-01-17T10:10:33.257332",
     "exception": false,
     "start_time": "2022-01-17T10:10:33.191568",
     "status": "completed"
    },
    "tags": []
   },
   "outputs": [],
   "source": [
    "new_model = Model(layers[:-2])\n",
    "testing_plot = new_model(testing_data_x)"
   ]
  },
  {
   "cell_type": "code",
   "execution_count": 26,
   "id": "4c0a5485",
   "metadata": {
    "execution": {
     "iopub.execute_input": "2022-01-17T10:10:33.348322Z",
     "iopub.status.busy": "2022-01-17T10:10:33.347756Z",
     "iopub.status.idle": "2022-01-17T10:10:33.542999Z",
     "shell.execute_reply": "2022-01-17T10:10:33.542567Z"
    },
    "papermill": {
     "duration": 0.24346,
     "end_time": "2022-01-17T10:10:33.543108",
     "exception": false,
     "start_time": "2022-01-17T10:10:33.299648",
     "status": "completed"
    },
    "tags": []
   },
   "outputs": [
    {
     "data": {
      "text/plain": [
       "Text(0.5, 1.0, 'Outputs')"
      ]
     },
     "execution_count": 26,
     "metadata": {},
     "output_type": "execute_result"
    },
    {
     "data": {
      "image/png": "[encoded data removed]",
      "text/plain": [
       "<Figure size 576x504 with 1 Axes>"
      ]
     },
     "metadata": {
      "needs_background": "light"
     },
     "output_type": "display_data"
    }
   ],
   "source": [
    "# Plotting the scatter plot of points and color coding by class\n",
    "plt.figure(figsize=(8,7))\n",
    "plt.scatter(testing_plot[:,0], testing_plot[:,1], alpha = 0.1, c = y_test.ravel());\n",
    "plt.title('Outputs')"
   ]
  },
  {
   "cell_type": "markdown",
   "id": "a74fcf8f",
   "metadata": {
    "papermill": {
     "duration": 0.038517,
     "end_time": "2022-01-17T10:10:33.620797",
     "exception": false,
     "start_time": "2022-01-17T10:10:33.582280",
     "status": "completed"
    },
    "tags": []
   },
   "source": [
    "Probability contours"
   ]
  },
  {
   "cell_type": "code",
   "execution_count": 27,
   "id": "d0afc8e3",
   "metadata": {
    "execution": {
     "iopub.execute_input": "2022-01-17T10:10:33.701612Z",
     "iopub.status.busy": "2022-01-17T10:10:33.701136Z",
     "iopub.status.idle": "2022-01-17T10:10:33.712940Z",
     "shell.execute_reply": "2022-01-17T10:10:33.713295Z"
    },
    "papermill": {
     "duration": 0.054295,
     "end_time": "2022-01-17T10:10:33.713407",
     "exception": false,
     "start_time": "2022-01-17T10:10:33.659112",
     "status": "completed"
    },
    "tags": []
   },
   "outputs": [],
   "source": [
    "model_prob = Model(layers[-2:]) "
   ]
  },
  {
   "cell_type": "code",
   "execution_count": 28,
   "id": "9b96e238",
   "metadata": {
    "execution": {
     "iopub.execute_input": "2022-01-17T10:10:33.801581Z",
     "iopub.status.busy": "2022-01-17T10:10:33.801044Z",
     "iopub.status.idle": "2022-01-17T10:10:33.810779Z",
     "shell.execute_reply": "2022-01-17T10:10:33.811165Z"
    },
    "papermill": {
     "duration": 0.059228,
     "end_time": "2022-01-17T10:10:33.811295",
     "exception": false,
     "start_time": "2022-01-17T10:10:33.752067",
     "status": "completed"
    },
    "tags": []
   },
   "outputs": [],
   "source": [
    "#creating the x and y ranges according to the above generated plot.\n",
    "x_range = np.linspace(-4, 1, 100) \n",
    "y_range = np.linspace(-6, 6, 100) \n",
    "x_grid, y_grid = np.meshgrid(x_range, y_range) # x_grid and y_grig are of size 100 X 100\n",
    "\n",
    "# converting x_grid and y_grid to continuous arrays\n",
    "x_gridflat = np.ravel(x_grid)\n",
    "y_gridflat = np.ravel(y_grid)\n",
    "\n",
    "# The last layer of the current model takes two columns as input. Hence transpose of np.vstack() is required.\n",
    "X = np.vstack((x_gridflat, y_gridflat)).T\n",
    "\n",
    "prob_contour = model_prob(X).reshape(100,100) "
   ]
  },
  {
   "cell_type": "code",
   "execution_count": 29,
   "id": "da72499a",
   "metadata": {
    "execution": {
     "iopub.execute_input": "2022-01-17T10:10:33.905574Z",
     "iopub.status.busy": "2022-01-17T10:10:33.905067Z",
     "iopub.status.idle": "2022-01-17T10:10:34.126596Z",
     "shell.execute_reply": "2022-01-17T10:10:34.126954Z"
    },
    "papermill": {
     "duration": 0.270602,
     "end_time": "2022-01-17T10:10:34.127091",
     "exception": false,
     "start_time": "2022-01-17T10:10:33.856489",
     "status": "completed"
    },
    "tags": []
   },
   "outputs": [
    {
     "data": {
      "image/png": "[encoded data removed]",
      "text/plain": [
       "<Figure size 720x648 with 1 Axes>"
      ]
     },
     "metadata": {
      "needs_background": "light"
     },
     "output_type": "display_data"
    }
   ],
   "source": [
    "plt.figure(figsize=(10,9))\n",
    "plt.scatter(testing_plot[:,0], testing_plot[:,1], alpha = 0.1, c = y_test.ravel())\n",
    "contours = plt.contour(x_grid,y_grid,prob_contour)\n",
    "plt.title('Probability Contours')\n",
    "plt.clabel(contours, inline = True );"
   ]
  },
  {
   "cell_type": "code",
   "execution_count": null,
   "id": "e81b4ac7",
   "metadata": {
    "papermill": {
     "duration": 0.040828,
     "end_time": "2022-01-17T10:10:34.238833",
     "exception": false,
     "start_time": "2022-01-17T10:10:34.198005",
     "status": "completed"
    },
    "tags": []
   },
   "outputs": [],
   "source": []
  }
 ],
 "metadata": {
  "kernelspec": {
   "display_name": "Python 3",
   "language": "python",
   "name": "python3"
  },
  "language_info": {
   "codemirror_mode": {
    "name": "ipython",
    "version": 3
   },
   "file_extension": ".py",
   "mimetype": "text/x-python",
   "name": "python",
   "nbconvert_exporter": "python",
   "pygments_lexer": "ipython3",
   "version": "3.6.15"
  },
  "papermill": {
   "default_parameters": {},
   "duration": 99.590607,
   "end_time": "2022-01-17T10:10:34.699312",
   "environment_variables": {},
   "exception": null,
   "input_path": "2020-08-11-part2.ipynb",
   "output_path": "2020-08-11-part2.ipynb",
   "parameters": {},
   "start_time": "2022-01-17T10:08:55.108705",
   "version": "2.3.3"
  }
 },
 "nbformat": 4,
 "nbformat_minor": 5
}