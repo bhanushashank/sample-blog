{
 "cells": [
  {
   "cell_type": "markdown",
   "id": "98380cd3",
   "metadata": {
    "papermill": {
     "duration": 0.027435,
     "end_time": "2022-05-03T20:10:02.755363",
     "exception": false,
     "start_time": "2022-05-03T20:10:02.727928",
     "status": "completed"
    },
    "tags": []
   },
   "source": [
    "# Distinguish Your Own Digits (DYOD)"
   ]
  },
  {
   "cell_type": "markdown",
   "id": "ef31240d",
   "metadata": {
    "papermill": {
     "duration": 0.024972,
     "end_time": "2022-05-03T20:10:02.804655",
     "exception": false,
     "start_time": "2022-05-03T20:10:02.779683",
     "status": "completed"
    },
    "tags": []
   },
   "source": [
    "You are going to write a classifier that distinguishes between the number 3 and number 8."
   ]
  },
  {
   "cell_type": "code",
   "execution_count": 1,
   "id": "b15c8646",
   "metadata": {
    "execution": {
     "iopub.execute_input": "2022-05-03T20:10:02.862692Z",
     "iopub.status.busy": "2022-05-03T20:10:02.862167Z",
     "iopub.status.idle": "2022-05-03T20:10:02.872160Z",
     "shell.execute_reply": "2022-05-03T20:10:02.872594Z"
    },
    "papermill": {
     "duration": 0.044372,
     "end_time": "2022-05-03T20:10:02.872735",
     "exception": false,
     "start_time": "2022-05-03T20:10:02.828363",
     "status": "completed"
    },
    "tags": []
   },
   "outputs": [],
   "source": [
    "%load_ext autoreload\n",
    "%autoreload 2"
   ]
  },
  {
   "cell_type": "code",
   "execution_count": 2,
   "id": "22ef38dc",
   "metadata": {
    "execution": {
     "iopub.execute_input": "2022-05-03T20:10:02.924168Z",
     "iopub.status.busy": "2022-05-03T20:10:02.923645Z",
     "iopub.status.idle": "2022-05-03T20:10:03.443518Z",
     "shell.execute_reply": "2022-05-03T20:10:03.443036Z"
    },
    "papermill": {
     "duration": 0.547432,
     "end_time": "2022-05-03T20:10:03.443667",
     "exception": false,
     "start_time": "2022-05-03T20:10:02.896235",
     "status": "completed"
    },
    "tags": []
   },
   "outputs": [],
   "source": [
    "%matplotlib inline\n",
    "import numpy as np\n",
    "import matplotlib.pyplot as plt\n",
    "import pandas as pd"
   ]
  },
  {
   "cell_type": "markdown",
   "id": "ba036198",
   "metadata": {
    "papermill": {
     "duration": 0.023657,
     "end_time": "2022-05-03T20:10:03.490929",
     "exception": false,
     "start_time": "2022-05-03T20:10:03.467272",
     "status": "completed"
    },
    "tags": []
   },
   "source": [
    "From the command line run `pip install mnist`. This is a library that will help you bring down the mnist dataset. If you run this from a notebook, you need to put  `!pip install mnist` in a cell by itself."
   ]
  },
  {
   "cell_type": "code",
   "execution_count": 3,
   "id": "bb6ad8a1",
   "metadata": {
    "execution": {
     "iopub.execute_input": "2022-05-03T20:10:03.542015Z",
     "iopub.status.busy": "2022-05-03T20:10:03.541512Z",
     "iopub.status.idle": "2022-05-03T20:10:05.990359Z",
     "shell.execute_reply": "2022-05-03T20:10:05.989534Z"
    },
    "papermill": {
     "duration": 2.475939,
     "end_time": "2022-05-03T20:10:05.990493",
     "exception": false,
     "start_time": "2022-05-03T20:10:03.514554",
     "status": "completed"
    },
    "tags": []
   },
   "outputs": [
    {
     "name": "stdout",
     "output_type": "stream",
     "text": [
      "Collecting mnist\r\n"
     ]
    },
    {
     "name": "stdout",
     "output_type": "stream",
     "text": [
      "  Downloading mnist-0.2.2-py2.py3-none-any.whl (3.5 kB)\r\n",
      "Requirement already satisfied: numpy in /opt/hostedtoolcache/Python/3.6.15/x64/lib/python3.6/site-packages (from mnist) (1.19.5)\r\n"
     ]
    },
    {
     "name": "stdout",
     "output_type": "stream",
     "text": [
      "Installing collected packages: mnist\r\n",
      "Successfully installed mnist-0.2.2\r\n"
     ]
    }
   ],
   "source": [
    "!pip install mnist"
   ]
  },
  {
   "cell_type": "markdown",
   "id": "69df9c9a",
   "metadata": {
    "papermill": {
     "duration": 0.024717,
     "end_time": "2022-05-03T20:10:06.039933",
     "exception": false,
     "start_time": "2022-05-03T20:10:06.015216",
     "status": "completed"
    },
    "tags": []
   },
   "source": [
    "## Preparing the Data"
   ]
  },
  {
   "cell_type": "code",
   "execution_count": 4,
   "id": "7f69d806",
   "metadata": {
    "execution": {
     "iopub.execute_input": "2022-05-03T20:10:06.096830Z",
     "iopub.status.busy": "2022-05-03T20:10:06.096318Z",
     "iopub.status.idle": "2022-05-03T20:10:06.107728Z",
     "shell.execute_reply": "2022-05-03T20:10:06.107271Z"
    },
    "papermill": {
     "duration": 0.043548,
     "end_time": "2022-05-03T20:10:06.107839",
     "exception": false,
     "start_time": "2022-05-03T20:10:06.064291",
     "status": "completed"
    },
    "tags": []
   },
   "outputs": [],
   "source": [
    "import mnist"
   ]
  },
  {
   "cell_type": "code",
   "execution_count": 5,
   "id": "a411e44f",
   "metadata": {
    "execution": {
     "iopub.execute_input": "2022-05-03T20:10:06.163965Z",
     "iopub.status.busy": "2022-05-03T20:10:06.163420Z",
     "iopub.status.idle": "2022-05-03T20:10:06.697078Z",
     "shell.execute_reply": "2022-05-03T20:10:06.696523Z"
    },
    "papermill": {
     "duration": 0.564968,
     "end_time": "2022-05-03T20:10:06.697212",
     "exception": false,
     "start_time": "2022-05-03T20:10:06.132244",
     "status": "completed"
    },
    "tags": []
   },
   "outputs": [],
   "source": [
    "train_images = mnist.train_images()\n",
    "train_labels = mnist.train_labels()"
   ]
  },
  {
   "cell_type": "code",
   "execution_count": 6,
   "id": "dceab3a5",
   "metadata": {
    "execution": {
     "iopub.execute_input": "2022-05-03T20:10:06.760343Z",
     "iopub.status.busy": "2022-05-03T20:10:06.755219Z",
     "iopub.status.idle": "2022-05-03T20:10:06.768813Z",
     "shell.execute_reply": "2022-05-03T20:10:06.769192Z"
    },
    "papermill": {
     "duration": 0.046876,
     "end_time": "2022-05-03T20:10:06.769321",
     "exception": false,
     "start_time": "2022-05-03T20:10:06.722445",
     "status": "completed"
    },
    "tags": []
   },
   "outputs": [
    {
     "data": {
      "text/plain": [
       "((60000, 28, 28), (60000,))"
      ]
     },
     "execution_count": 6,
     "metadata": {},
     "output_type": "execute_result"
    }
   ],
   "source": [
    "train_images.shape, train_labels.shape"
   ]
  },
  {
   "cell_type": "code",
   "execution_count": 7,
   "id": "f50dc2bb",
   "metadata": {
    "execution": {
     "iopub.execute_input": "2022-05-03T20:10:06.823369Z",
     "iopub.status.busy": "2022-05-03T20:10:06.822864Z",
     "iopub.status.idle": "2022-05-03T20:10:06.952408Z",
     "shell.execute_reply": "2022-05-03T20:10:06.951882Z"
    },
    "papermill": {
     "duration": 0.158626,
     "end_time": "2022-05-03T20:10:06.952546",
     "exception": false,
     "start_time": "2022-05-03T20:10:06.793920",
     "status": "completed"
    },
    "tags": []
   },
   "outputs": [],
   "source": [
    "test_images = mnist.test_images()\n",
    "test_labels = mnist.test_labels()"
   ]
  },
  {
   "cell_type": "code",
   "execution_count": 8,
   "id": "fc38cf1b",
   "metadata": {
    "execution": {
     "iopub.execute_input": "2022-05-03T20:10:07.010011Z",
     "iopub.status.busy": "2022-05-03T20:10:07.009501Z",
     "iopub.status.idle": "2022-05-03T20:10:07.020603Z",
     "shell.execute_reply": "2022-05-03T20:10:07.020195Z"
    },
    "papermill": {
     "duration": 0.042744,
     "end_time": "2022-05-03T20:10:07.020715",
     "exception": false,
     "start_time": "2022-05-03T20:10:06.977971",
     "status": "completed"
    },
    "tags": []
   },
   "outputs": [
    {
     "data": {
      "text/plain": [
       "((10000, 28, 28), (10000,))"
      ]
     },
     "execution_count": 8,
     "metadata": {},
     "output_type": "execute_result"
    }
   ],
   "source": [
    "test_images.shape, test_labels.shape"
   ]
  },
  {
   "cell_type": "code",
   "execution_count": 9,
   "id": "f9ed8fe0",
   "metadata": {
    "execution": {
     "iopub.execute_input": "2022-05-03T20:10:07.073928Z",
     "iopub.status.busy": "2022-05-03T20:10:07.073424Z",
     "iopub.status.idle": "2022-05-03T20:10:07.209931Z",
     "shell.execute_reply": "2022-05-03T20:10:07.210396Z"
    },
    "papermill": {
     "duration": 0.164973,
     "end_time": "2022-05-03T20:10:07.210545",
     "exception": false,
     "start_time": "2022-05-03T20:10:07.045572",
     "status": "completed"
    },
    "tags": []
   },
   "outputs": [
    {
     "name": "stdout",
     "output_type": "stream",
     "text": [
      "2\n"
     ]
    },
    {
     "data": {
      "text/plain": [
       "<matplotlib.image.AxesImage at 0x7fe702324390>"
      ]
     },
     "execution_count": 9,
     "metadata": {},
     "output_type": "execute_result"
    },
    {
     "data": {
      "image/png": "[encoded data removed]",
      "text/plain": [
       "<Figure size 432x288 with 1 Axes>"
      ]
     },
     "metadata": {
      "needs_background": "light"
     },
     "output_type": "display_data"
    }
   ],
   "source": [
    "image_index = 7776 # You may select anything up to 60,000\n",
    "print(train_labels[image_index]) \n",
    "plt.imshow(train_images[image_index], cmap='Greys')"
   ]
  },
  {
   "cell_type": "markdown",
   "id": "a8d2388d",
   "metadata": {
    "papermill": {
     "duration": 0.026243,
     "end_time": "2022-05-03T20:10:07.263094",
     "exception": false,
     "start_time": "2022-05-03T20:10:07.236851",
     "status": "completed"
    },
    "tags": []
   },
   "source": [
    "## Filter data to get 3 and 8 out"
   ]
  },
  {
   "cell_type": "code",
   "execution_count": 10,
   "id": "776f7fc7",
   "metadata": {
    "execution": {
     "iopub.execute_input": "2022-05-03T20:10:07.328319Z",
     "iopub.status.busy": "2022-05-03T20:10:07.326319Z",
     "iopub.status.idle": "2022-05-03T20:10:07.337577Z",
     "shell.execute_reply": "2022-05-03T20:10:07.337165Z"
    },
    "papermill": {
     "duration": 0.048543,
     "end_time": "2022-05-03T20:10:07.337688",
     "exception": false,
     "start_time": "2022-05-03T20:10:07.289145",
     "status": "completed"
    },
    "tags": []
   },
   "outputs": [],
   "source": [
    "train_filter = np.where((train_labels == 3 ) | (train_labels == 8))\n",
    "test_filter = np.where((test_labels == 3) | (test_labels == 8))\n",
    "X_train, y_train = train_images[train_filter], train_labels[train_filter]\n",
    "X_test, y_test = test_images[test_filter], test_labels[test_filter]"
   ]
  },
  {
   "cell_type": "markdown",
   "id": "948f0b7e",
   "metadata": {
    "papermill": {
     "duration": 0.02591,
     "end_time": "2022-05-03T20:10:07.389529",
     "exception": false,
     "start_time": "2022-05-03T20:10:07.363619",
     "status": "completed"
    },
    "tags": []
   },
   "source": [
    "We normalize the pizel values in the 0 to 1 range"
   ]
  },
  {
   "cell_type": "code",
   "execution_count": 11,
   "id": "ee4c2166",
   "metadata": {
    "execution": {
     "iopub.execute_input": "2022-05-03T20:10:07.460299Z",
     "iopub.status.busy": "2022-05-03T20:10:07.456336Z",
     "iopub.status.idle": "2022-05-03T20:10:07.492882Z",
     "shell.execute_reply": "2022-05-03T20:10:07.492378Z"
    },
    "papermill": {
     "duration": 0.07755,
     "end_time": "2022-05-03T20:10:07.493019",
     "exception": false,
     "start_time": "2022-05-03T20:10:07.415469",
     "status": "completed"
    },
    "tags": []
   },
   "outputs": [],
   "source": [
    "X_train = X_train/255.\n",
    "X_test = X_test/255."
   ]
  },
  {
   "cell_type": "markdown",
   "id": "ddcf4fab",
   "metadata": {
    "papermill": {
     "duration": 0.026142,
     "end_time": "2022-05-03T20:10:07.545985",
     "exception": false,
     "start_time": "2022-05-03T20:10:07.519843",
     "status": "completed"
    },
    "tags": []
   },
   "source": [
    "And setup the labels as 1 (when the digit is 3) and 0 (when the digit is 8)"
   ]
  },
  {
   "cell_type": "code",
   "execution_count": 12,
   "id": "7dc908f2",
   "metadata": {
    "execution": {
     "iopub.execute_input": "2022-05-03T20:10:07.613616Z",
     "iopub.status.busy": "2022-05-03T20:10:07.609750Z",
     "iopub.status.idle": "2022-05-03T20:10:07.617776Z",
     "shell.execute_reply": "2022-05-03T20:10:07.617362Z"
    },
    "papermill": {
     "duration": 0.045323,
     "end_time": "2022-05-03T20:10:07.617888",
     "exception": false,
     "start_time": "2022-05-03T20:10:07.572565",
     "status": "completed"
    },
    "tags": []
   },
   "outputs": [],
   "source": [
    "y_train = 1*(y_train==3)\n",
    "y_test = 1*(y_test==3)"
   ]
  },
  {
   "cell_type": "code",
   "execution_count": 13,
   "id": "01e4e969",
   "metadata": {
    "execution": {
     "iopub.execute_input": "2022-05-03T20:10:07.686917Z",
     "iopub.status.busy": "2022-05-03T20:10:07.682020Z",
     "iopub.status.idle": "2022-05-03T20:10:07.689764Z",
     "shell.execute_reply": "2022-05-03T20:10:07.689359Z"
    },
    "papermill": {
     "duration": 0.045916,
     "end_time": "2022-05-03T20:10:07.689873",
     "exception": false,
     "start_time": "2022-05-03T20:10:07.643957",
     "status": "completed"
    },
    "tags": []
   },
   "outputs": [
    {
     "data": {
      "text/plain": [
       "((11982, 28, 28), (1984, 28, 28))"
      ]
     },
     "execution_count": 13,
     "metadata": {},
     "output_type": "execute_result"
    }
   ],
   "source": [
    "X_train.shape, X_test.shape"
   ]
  },
  {
   "cell_type": "markdown",
   "id": "5ccf3f85",
   "metadata": {
    "papermill": {
     "duration": 0.026106,
     "end_time": "2022-05-03T20:10:07.742091",
     "exception": false,
     "start_time": "2022-05-03T20:10:07.715985",
     "status": "completed"
    },
    "tags": []
   },
   "source": [
    "We reshape the data to flatten the image pixels into a set of features or co-variates:"
   ]
  },
  {
   "cell_type": "code",
   "execution_count": 14,
   "id": "5286a4a3",
   "metadata": {
    "execution": {
     "iopub.execute_input": "2022-05-03T20:10:07.801904Z",
     "iopub.status.busy": "2022-05-03T20:10:07.801399Z",
     "iopub.status.idle": "2022-05-03T20:10:07.812766Z",
     "shell.execute_reply": "2022-05-03T20:10:07.812333Z"
    },
    "papermill": {
     "duration": 0.044554,
     "end_time": "2022-05-03T20:10:07.812881",
     "exception": false,
     "start_time": "2022-05-03T20:10:07.768327",
     "status": "completed"
    },
    "tags": []
   },
   "outputs": [
    {
     "data": {
      "text/plain": [
       "((11982, 784), (1984, 784))"
      ]
     },
     "execution_count": 14,
     "metadata": {},
     "output_type": "execute_result"
    }
   ],
   "source": [
    "X_train = X_train.reshape(X_train.shape[0], -1)\n",
    "X_test = X_test.reshape(X_test.shape[0], -1)\n",
    "X_train.shape, X_test.shape"
   ]
  },
  {
   "cell_type": "code",
   "execution_count": 15,
   "id": "73c5f88a",
   "metadata": {
    "execution": {
     "iopub.execute_input": "2022-05-03T20:10:07.869697Z",
     "iopub.status.busy": "2022-05-03T20:10:07.869193Z",
     "iopub.status.idle": "2022-05-03T20:10:07.887537Z",
     "shell.execute_reply": "2022-05-03T20:10:07.887123Z"
    },
    "papermill": {
     "duration": 0.048285,
     "end_time": "2022-05-03T20:10:07.887666",
     "exception": false,
     "start_time": "2022-05-03T20:10:07.839381",
     "status": "completed"
    },
    "tags": []
   },
   "outputs": [],
   "source": [
    "#Impoting functions from 'Kudzu'\n",
    "from kudzu.model import Model\n",
    "from kudzu.train import Learner\n",
    "from kudzu.optim import GD\n",
    "from kudzu.data import Data, Sampler,Dataloader\n",
    "\n",
    "from kudzu.callbacks import AccCallback\n",
    "from kudzu.callbacks import ClfCallback\n",
    "\n",
    "from kudzu.loss import MSE\n",
    "\n",
    "from kudzu.layer import Sigmoid,Relu\n",
    "from kudzu.layer import Affine"
   ]
  },
  {
   "cell_type": "markdown",
   "id": "bc01172a",
   "metadata": {
    "papermill": {
     "duration": 0.026522,
     "end_time": "2022-05-03T20:10:07.940676",
     "exception": false,
     "start_time": "2022-05-03T20:10:07.914154",
     "status": "completed"
    },
    "tags": []
   },
   "source": [
    "### Let us create a `Config` class, to store important parameters. \n",
    "This class essentially plays the role of a dictionary."
   ]
  },
  {
   "cell_type": "code",
   "execution_count": 16,
   "id": "978281aa",
   "metadata": {
    "execution": {
     "iopub.execute_input": "2022-05-03T20:10:07.998027Z",
     "iopub.status.busy": "2022-05-03T20:10:07.997517Z",
     "iopub.status.idle": "2022-05-03T20:10:08.010193Z",
     "shell.execute_reply": "2022-05-03T20:10:08.009781Z"
    },
    "papermill": {
     "duration": 0.04306,
     "end_time": "2022-05-03T20:10:08.010303",
     "exception": false,
     "start_time": "2022-05-03T20:10:07.967243",
     "status": "completed"
    },
    "tags": []
   },
   "outputs": [],
   "source": [
    "class Config:\n",
    "    pass\n",
    "config = Config()\n",
    "config.lr = 0.001\n",
    "config.num_epochs = 250\n",
    "config.bs = 50"
   ]
  },
  {
   "cell_type": "markdown",
   "id": "1385fa59",
   "metadata": {
    "papermill": {
     "duration": 0.026451,
     "end_time": "2022-05-03T20:10:08.063486",
     "exception": false,
     "start_time": "2022-05-03T20:10:08.037035",
     "status": "completed"
    },
    "tags": []
   },
   "source": [
    "### Running Models with the Training data\n",
    "Details about the network layers:\n",
    "- A first affine layer has 784 inputs and does 100 affine transforms. These are followed by a Relu\n",
    "- A second affine layer has 100 inputs from the 100 activations of the past layer, and does 100 affine transforms. These are followed by a Relu\n",
    "- A third affine layer has 100 activations and does 2 affine transformations to create an embedding for visualization. There is no non-linearity here.\n",
    "- A final \"logistic regression\" which has an affine transform from 2 inputs to 1 output, which is squeezed through a sigmoid.\n"
   ]
  },
  {
   "cell_type": "code",
   "execution_count": 17,
   "id": "2b9c66db",
   "metadata": {
    "execution": {
     "iopub.execute_input": "2022-05-03T20:10:08.120992Z",
     "iopub.status.busy": "2022-05-03T20:10:08.120474Z",
     "iopub.status.idle": "2022-05-03T20:10:08.133101Z",
     "shell.execute_reply": "2022-05-03T20:10:08.133535Z"
    },
    "papermill": {
     "duration": 0.043152,
     "end_time": "2022-05-03T20:10:08.133661",
     "exception": false,
     "start_time": "2022-05-03T20:10:08.090509",
     "status": "completed"
    },
    "tags": []
   },
   "outputs": [],
   "source": [
    "data = Data(X_train, y_train.reshape(-1,1))\n",
    "sampler = Sampler(data, config.bs, shuffle=True)\n",
    "\n",
    "dl = Dataloader(data, sampler)\n",
    "\n",
    "opt = GD(config.lr)\n",
    "loss = MSE()"
   ]
  },
  {
   "cell_type": "code",
   "execution_count": 18,
   "id": "b275e4c2",
   "metadata": {
    "execution": {
     "iopub.execute_input": "2022-05-03T20:10:08.195364Z",
     "iopub.status.busy": "2022-05-03T20:10:08.194840Z",
     "iopub.status.idle": "2022-05-03T20:10:08.204103Z",
     "shell.execute_reply": "2022-05-03T20:10:08.204543Z"
    },
    "papermill": {
     "duration": 0.044479,
     "end_time": "2022-05-03T20:10:08.204666",
     "exception": false,
     "start_time": "2022-05-03T20:10:08.160187",
     "status": "completed"
    },
    "tags": []
   },
   "outputs": [],
   "source": [
    "training_data_x = X_train\n",
    "testing_data_x = X_test\n",
    "training_data_y = y_train.reshape(-1,1)\n",
    "testing_data_y = y_test.reshape(-1,1)"
   ]
  },
  {
   "cell_type": "code",
   "execution_count": 19,
   "id": "76951160",
   "metadata": {
    "execution": {
     "iopub.execute_input": "2022-05-03T20:10:08.263109Z",
     "iopub.status.busy": "2022-05-03T20:10:08.262585Z",
     "iopub.status.idle": "2022-05-03T20:10:08.278171Z",
     "shell.execute_reply": "2022-05-03T20:10:08.277739Z"
    },
    "papermill": {
     "duration": 0.047198,
     "end_time": "2022-05-03T20:10:08.278276",
     "exception": false,
     "start_time": "2022-05-03T20:10:08.231078",
     "status": "completed"
    },
    "tags": []
   },
   "outputs": [
    {
     "name": "stdout",
     "output_type": "stream",
     "text": [
      "xavier\n",
      "xavier\n",
      "xavier\n",
      "xavier\n",
      "xavier\n"
     ]
    }
   ],
   "source": [
    "layers = [Affine(\"first\", 784, 100), Relu(\"first\"), Affine(\"second\", 100, 100), Relu(\"second\"), Affine(\"third\", 100, 2), Affine(\"last\", 2, 1), Sigmoid(\"last\")]\n",
    "model_nn = Model(layers)\n",
    "model_lr = Model([Affine(\"logits\", 784, 1), Sigmoid(\"sigmoid\")])"
   ]
  },
  {
   "cell_type": "code",
   "execution_count": 20,
   "id": "6eede77a",
   "metadata": {
    "execution": {
     "iopub.execute_input": "2022-05-03T20:10:08.335131Z",
     "iopub.status.busy": "2022-05-03T20:10:08.334628Z",
     "iopub.status.idle": "2022-05-03T20:10:08.346743Z",
     "shell.execute_reply": "2022-05-03T20:10:08.347123Z"
    },
    "papermill": {
     "duration": 0.042175,
     "end_time": "2022-05-03T20:10:08.347247",
     "exception": false,
     "start_time": "2022-05-03T20:10:08.305072",
     "status": "completed"
    },
    "tags": []
   },
   "outputs": [],
   "source": [
    "nn_learner = Learner(loss, model_nn, opt, config.num_epochs)\n",
    "acc_nn = ClfCallback(nn_learner, config.bs, training_data_x , testing_data_x, training_data_y, testing_data_y)\n",
    "nn_learner.set_callbacks([acc_nn])"
   ]
  },
  {
   "cell_type": "code",
   "execution_count": 21,
   "id": "877b6cc7",
   "metadata": {
    "execution": {
     "iopub.execute_input": "2022-05-03T20:10:08.416568Z",
     "iopub.status.busy": "2022-05-03T20:10:08.410082Z",
     "iopub.status.idle": "2022-05-03T20:10:08.420654Z",
     "shell.execute_reply": "2022-05-03T20:10:08.420217Z"
    },
    "papermill": {
     "duration": 0.046764,
     "end_time": "2022-05-03T20:10:08.420765",
     "exception": false,
     "start_time": "2022-05-03T20:10:08.374001",
     "status": "completed"
    },
    "tags": []
   },
   "outputs": [],
   "source": [
    "lr_learner = Learner(loss, model_lr, opt, config.num_epochs)\n",
    "acc_lr = ClfCallback(lr_learner, config.bs, training_data_x , testing_data_x, training_data_y, testing_data_y)\n",
    "lr_learner.set_callbacks([acc_lr])"
   ]
  },
  {
   "cell_type": "code",
   "execution_count": 22,
   "id": "d9b133c3",
   "metadata": {
    "execution": {
     "iopub.execute_input": "2022-05-03T20:10:08.488341Z",
     "iopub.status.busy": "2022-05-03T20:10:08.480301Z",
     "iopub.status.idle": "2022-05-03T20:11:25.164916Z",
     "shell.execute_reply": "2022-05-03T20:11:25.165682Z"
    },
    "papermill": {
     "duration": 76.718109,
     "end_time": "2022-05-03T20:11:25.165832",
     "exception": false,
     "start_time": "2022-05-03T20:10:08.447723",
     "status": "completed"
    },
    "tags": []
   },
   "outputs": [
    {
     "name": "stdout",
     "output_type": "stream",
     "text": [
      "Epoch 0, Loss 0.2334\n",
      "Training Accuracy: 0.7252, Testing Accuracy: 0.7616\n",
      "\n"
     ]
    },
    {
     "name": "stdout",
     "output_type": "stream",
     "text": [
      "Epoch 10, Loss 0.0869\n",
      "Training Accuracy: 0.9189, Testing Accuracy: 0.9294\n",
      "\n"
     ]
    },
    {
     "name": "stdout",
     "output_type": "stream",
     "text": [
      "Epoch 20, Loss 0.0545\n",
      "Training Accuracy: 0.9417, Testing Accuracy: 0.9526\n",
      "\n"
     ]
    },
    {
     "name": "stdout",
     "output_type": "stream",
     "text": [
      "Epoch 30, Loss 0.0432\n",
      "Training Accuracy: 0.9527, Testing Accuracy: 0.9617\n",
      "\n"
     ]
    },
    {
     "name": "stdout",
     "output_type": "stream",
     "text": [
      "Epoch 40, Loss 0.0376\n",
      "Training Accuracy: 0.9589, Testing Accuracy: 0.9662\n",
      "\n"
     ]
    },
    {
     "name": "stdout",
     "output_type": "stream",
     "text": [
      "Epoch 50, Loss 0.0341\n",
      "Training Accuracy: 0.9631, Testing Accuracy: 0.9682\n",
      "\n"
     ]
    },
    {
     "name": "stdout",
     "output_type": "stream",
     "text": [
      "Epoch 60, Loss 0.0317\n",
      "Training Accuracy: 0.9647, Testing Accuracy: 0.9688\n",
      "\n"
     ]
    },
    {
     "name": "stdout",
     "output_type": "stream",
     "text": [
      "Epoch 70, Loss 0.0299\n",
      "Training Accuracy: 0.9661, Testing Accuracy: 0.9703\n",
      "\n"
     ]
    },
    {
     "name": "stdout",
     "output_type": "stream",
     "text": [
      "Epoch 80, Loss 0.0285\n",
      "Training Accuracy: 0.9673, Testing Accuracy: 0.9693\n",
      "\n"
     ]
    },
    {
     "name": "stdout",
     "output_type": "stream",
     "text": [
      "Epoch 90, Loss 0.0273\n",
      "Training Accuracy: 0.9686, Testing Accuracy: 0.9688\n",
      "\n"
     ]
    },
    {
     "name": "stdout",
     "output_type": "stream",
     "text": [
      "Epoch 100, Loss 0.0264\n",
      "Training Accuracy: 0.9695, Testing Accuracy: 0.9693\n",
      "\n"
     ]
    },
    {
     "name": "stdout",
     "output_type": "stream",
     "text": [
      "Epoch 110, Loss 0.0255\n",
      "Training Accuracy: 0.9703, Testing Accuracy: 0.9698\n",
      "\n"
     ]
    },
    {
     "name": "stdout",
     "output_type": "stream",
     "text": [
      "Epoch 120, Loss 0.0247\n",
      "Training Accuracy: 0.9710, Testing Accuracy: 0.9698\n",
      "\n"
     ]
    },
    {
     "name": "stdout",
     "output_type": "stream",
     "text": [
      "Epoch 130, Loss 0.024\n",
      "Training Accuracy: 0.9719, Testing Accuracy: 0.9693\n",
      "\n"
     ]
    },
    {
     "name": "stdout",
     "output_type": "stream",
     "text": [
      "Epoch 140, Loss 0.0234\n",
      "Training Accuracy: 0.9728, Testing Accuracy: 0.9693\n",
      "\n"
     ]
    },
    {
     "name": "stdout",
     "output_type": "stream",
     "text": [
      "Epoch 150, Loss 0.0228\n",
      "Training Accuracy: 0.9740, Testing Accuracy: 0.9693\n",
      "\n"
     ]
    },
    {
     "name": "stdout",
     "output_type": "stream",
     "text": [
      "Epoch 160, Loss 0.0223\n",
      "Training Accuracy: 0.9747, Testing Accuracy: 0.9693\n",
      "\n"
     ]
    },
    {
     "name": "stdout",
     "output_type": "stream",
     "text": [
      "Epoch 170, Loss 0.0218\n",
      "Training Accuracy: 0.9756, Testing Accuracy: 0.9688\n",
      "\n"
     ]
    },
    {
     "name": "stdout",
     "output_type": "stream",
     "text": [
      "Epoch 180, Loss 0.0213\n",
      "Training Accuracy: 0.9763, Testing Accuracy: 0.9708\n",
      "\n"
     ]
    },
    {
     "name": "stdout",
     "output_type": "stream",
     "text": [
      "Epoch 190, Loss 0.0209\n",
      "Training Accuracy: 0.9771, Testing Accuracy: 0.9713\n",
      "\n"
     ]
    },
    {
     "name": "stdout",
     "output_type": "stream",
     "text": [
      "Epoch 200, Loss 0.0204\n",
      "Training Accuracy: 0.9775, Testing Accuracy: 0.9708\n",
      "\n"
     ]
    },
    {
     "name": "stdout",
     "output_type": "stream",
     "text": [
      "Epoch 210, Loss 0.02\n",
      "Training Accuracy: 0.9778, Testing Accuracy: 0.9723\n",
      "\n"
     ]
    },
    {
     "name": "stdout",
     "output_type": "stream",
     "text": [
      "Epoch 220, Loss 0.0196\n",
      "Training Accuracy: 0.9783, Testing Accuracy: 0.9718\n",
      "\n"
     ]
    },
    {
     "name": "stdout",
     "output_type": "stream",
     "text": [
      "Epoch 230, Loss 0.0192\n",
      "Training Accuracy: 0.9790, Testing Accuracy: 0.9723\n",
      "\n"
     ]
    },
    {
     "name": "stdout",
     "output_type": "stream",
     "text": [
      "Epoch 240, Loss 0.0189\n",
      "Training Accuracy: 0.9792, Testing Accuracy: 0.9733\n",
      "\n"
     ]
    },
    {
     "data": {
      "text/plain": [
       "0.0019132478018290208"
      ]
     },
     "execution_count": 22,
     "metadata": {},
     "output_type": "execute_result"
    }
   ],
   "source": [
    "nn_learner.train_loop(dl)"
   ]
  },
  {
   "cell_type": "code",
   "execution_count": 23,
   "id": "e0163366",
   "metadata": {
    "execution": {
     "iopub.execute_input": "2022-05-03T20:11:25.246865Z",
     "iopub.status.busy": "2022-05-03T20:11:25.246332Z",
     "iopub.status.idle": "2022-05-03T20:11:39.573914Z",
     "shell.execute_reply": "2022-05-03T20:11:39.574708Z"
    },
    "papermill": {
     "duration": 14.374826,
     "end_time": "2022-05-03T20:11:39.574864",
     "exception": false,
     "start_time": "2022-05-03T20:11:25.200038",
     "status": "completed"
    },
    "tags": []
   },
   "outputs": [
    {
     "name": "stdout",
     "output_type": "stream",
     "text": [
      "Epoch 0, Loss 0.2556\n",
      "Training Accuracy: 0.6160, Testing Accuracy: 0.6174\n",
      "\n"
     ]
    },
    {
     "name": "stdout",
     "output_type": "stream",
     "text": [
      "Epoch 10, Loss 0.1046\n",
      "Training Accuracy: 0.9103, Testing Accuracy: 0.9249\n",
      "\n"
     ]
    },
    {
     "name": "stdout",
     "output_type": "stream",
     "text": [
      "Epoch 20, Loss 0.0795\n",
      "Training Accuracy: 0.9298, Testing Accuracy: 0.9405\n",
      "\n"
     ]
    },
    {
     "name": "stdout",
     "output_type": "stream",
     "text": [
      "Epoch 30, Loss 0.0681\n",
      "Training Accuracy: 0.9380, Testing Accuracy: 0.9496\n",
      "\n"
     ]
    },
    {
     "name": "stdout",
     "output_type": "stream",
     "text": [
      "Epoch 40, Loss 0.0613\n",
      "Training Accuracy: 0.9438, Testing Accuracy: 0.9521\n",
      "\n"
     ]
    },
    {
     "name": "stdout",
     "output_type": "stream",
     "text": [
      "Epoch 50, Loss 0.0567\n",
      "Training Accuracy: 0.9462, Testing Accuracy: 0.9541\n",
      "\n"
     ]
    },
    {
     "name": "stdout",
     "output_type": "stream",
     "text": [
      "Epoch 60, Loss 0.0534\n",
      "Training Accuracy: 0.9483, Testing Accuracy: 0.9572\n",
      "\n"
     ]
    },
    {
     "name": "stdout",
     "output_type": "stream",
     "text": [
      "Epoch 70, Loss 0.0508\n",
      "Training Accuracy: 0.9503, Testing Accuracy: 0.9577\n",
      "\n"
     ]
    },
    {
     "name": "stdout",
     "output_type": "stream",
     "text": [
      "Epoch 80, Loss 0.0488\n",
      "Training Accuracy: 0.9519, Testing Accuracy: 0.9612\n",
      "\n"
     ]
    },
    {
     "name": "stdout",
     "output_type": "stream",
     "text": [
      "Epoch 90, Loss 0.0471\n",
      "Training Accuracy: 0.9534, Testing Accuracy: 0.9632\n",
      "\n"
     ]
    },
    {
     "name": "stdout",
     "output_type": "stream",
     "text": [
      "Epoch 100, Loss 0.0457\n",
      "Training Accuracy: 0.9548, Testing Accuracy: 0.9637\n",
      "\n"
     ]
    },
    {
     "name": "stdout",
     "output_type": "stream",
     "text": [
      "Epoch 110, Loss 0.0445\n",
      "Training Accuracy: 0.9553, Testing Accuracy: 0.9642\n",
      "\n"
     ]
    },
    {
     "name": "stdout",
     "output_type": "stream",
     "text": [
      "Epoch 120, Loss 0.0434\n",
      "Training Accuracy: 0.9557, Testing Accuracy: 0.9642\n",
      "\n"
     ]
    },
    {
     "name": "stdout",
     "output_type": "stream",
     "text": [
      "Epoch 130, Loss 0.0425\n",
      "Training Accuracy: 0.9565, Testing Accuracy: 0.9642\n",
      "\n"
     ]
    },
    {
     "name": "stdout",
     "output_type": "stream",
     "text": [
      "Epoch 140, Loss 0.0417\n",
      "Training Accuracy: 0.9573, Testing Accuracy: 0.9647\n",
      "\n"
     ]
    },
    {
     "name": "stdout",
     "output_type": "stream",
     "text": [
      "Epoch 150, Loss 0.0409\n",
      "Training Accuracy: 0.9575, Testing Accuracy: 0.9662\n",
      "\n"
     ]
    },
    {
     "name": "stdout",
     "output_type": "stream",
     "text": [
      "Epoch 160, Loss 0.0403\n",
      "Training Accuracy: 0.9578, Testing Accuracy: 0.9667\n",
      "\n"
     ]
    },
    {
     "name": "stdout",
     "output_type": "stream",
     "text": [
      "Epoch 170, Loss 0.0397\n",
      "Training Accuracy: 0.9587, Testing Accuracy: 0.9662\n",
      "\n"
     ]
    },
    {
     "name": "stdout",
     "output_type": "stream",
     "text": [
      "Epoch 180, Loss 0.0391\n",
      "Training Accuracy: 0.9591, Testing Accuracy: 0.9662\n",
      "\n"
     ]
    },
    {
     "name": "stdout",
     "output_type": "stream",
     "text": [
      "Epoch 190, Loss 0.0386\n",
      "Training Accuracy: 0.9599, Testing Accuracy: 0.9672\n",
      "\n"
     ]
    },
    {
     "name": "stdout",
     "output_type": "stream",
     "text": [
      "Epoch 200, Loss 0.0382\n",
      "Training Accuracy: 0.9604, Testing Accuracy: 0.9672\n",
      "\n"
     ]
    },
    {
     "name": "stdout",
     "output_type": "stream",
     "text": [
      "Epoch 210, Loss 0.0377\n",
      "Training Accuracy: 0.9608, Testing Accuracy: 0.9672\n",
      "\n"
     ]
    },
    {
     "name": "stdout",
     "output_type": "stream",
     "text": [
      "Epoch 220, Loss 0.0373\n",
      "Training Accuracy: 0.9615, Testing Accuracy: 0.9667\n",
      "\n"
     ]
    },
    {
     "name": "stdout",
     "output_type": "stream",
     "text": [
      "Epoch 230, Loss 0.0369\n",
      "Training Accuracy: 0.9618, Testing Accuracy: 0.9667\n",
      "\n"
     ]
    },
    {
     "name": "stdout",
     "output_type": "stream",
     "text": [
      "Epoch 240, Loss 0.0366\n",
      "Training Accuracy: 0.9624, Testing Accuracy: 0.9662\n",
      "\n"
     ]
    },
    {
     "data": {
      "text/plain": [
       "0.027345198043533712"
      ]
     },
     "execution_count": 23,
     "metadata": {},
     "output_type": "execute_result"
    }
   ],
   "source": [
    "lr_learner.train_loop(dl)"
   ]
  },
  {
   "cell_type": "code",
   "execution_count": 24,
   "id": "ca410940",
   "metadata": {
    "execution": {
     "iopub.execute_input": "2022-05-03T20:11:39.672941Z",
     "iopub.status.busy": "2022-05-03T20:11:39.672372Z",
     "iopub.status.idle": "2022-05-03T20:11:39.905002Z",
     "shell.execute_reply": "2022-05-03T20:11:39.904494Z"
    },
    "papermill": {
     "duration": 0.288376,
     "end_time": "2022-05-03T20:11:39.905140",
     "exception": false,
     "start_time": "2022-05-03T20:11:39.616764",
     "status": "completed"
    },
    "tags": []
   },
   "outputs": [
    {
     "data": {
      "text/plain": [
       "<matplotlib.legend.Legend at 0x7fe6f5757b00>"
      ]
     },
     "execution_count": 24,
     "metadata": {},
     "output_type": "execute_result"
    },
    {
     "data": {
      "image/png": "[encoded data removed]",
      "text/plain": [
       "<Figure size 1080x720 with 1 Axes>"
      ]
     },
     "metadata": {
      "needs_background": "light"
     },
     "output_type": "display_data"
    }
   ],
   "source": [
    "#comparing the results of NN and LR\n",
    "plt.figure(figsize=(15,10))\n",
    "\n",
    "# Neural Network plots\n",
    "plt.plot(acc_nn.accuracies, 'r-', label = \"Training Accuracies - NN\")\n",
    "plt.plot(acc_nn.test_accuracies, 'g-', label = \"Testing Accuracies - NN\")\n",
    "\n",
    "# Logistic Regression plots\n",
    "plt.plot(acc_lr.accuracies, 'k-', label = \"Training Accuracies - LR\")\n",
    "plt.plot(acc_lr.test_accuracies, 'b-', label = \"Testing Accuracies - LR\")\n",
    "plt.legend()"
   ]
  },
  {
   "cell_type": "markdown",
   "id": "80dfb35c",
   "metadata": {
    "papermill": {
     "duration": 0.042327,
     "end_time": "2022-05-03T20:11:39.990478",
     "exception": false,
     "start_time": "2022-05-03T20:11:39.948151",
     "status": "completed"
    },
    "tags": []
   },
   "source": [
    "#### Plotting the outputs of this layer of the NN.\n"
   ]
  },
  {
   "cell_type": "code",
   "execution_count": 25,
   "id": "45eb2ff5",
   "metadata": {
    "execution": {
     "iopub.execute_input": "2022-05-03T20:11:40.085581Z",
     "iopub.status.busy": "2022-05-03T20:11:40.084299Z",
     "iopub.status.idle": "2022-05-03T20:11:40.101531Z",
     "shell.execute_reply": "2022-05-03T20:11:40.101085Z"
    },
    "papermill": {
     "duration": 0.069138,
     "end_time": "2022-05-03T20:11:40.101657",
     "exception": false,
     "start_time": "2022-05-03T20:11:40.032519",
     "status": "completed"
    },
    "tags": []
   },
   "outputs": [],
   "source": [
    "new_model = Model(layers[:-2])\n",
    "testing_plot = new_model(testing_data_x)"
   ]
  },
  {
   "cell_type": "code",
   "execution_count": 26,
   "id": "4c0a5485",
   "metadata": {
    "execution": {
     "iopub.execute_input": "2022-05-03T20:11:40.193198Z",
     "iopub.status.busy": "2022-05-03T20:11:40.192663Z",
     "iopub.status.idle": "2022-05-03T20:11:40.390142Z",
     "shell.execute_reply": "2022-05-03T20:11:40.390533Z"
    },
    "papermill": {
     "duration": 0.244023,
     "end_time": "2022-05-03T20:11:40.390678",
     "exception": false,
     "start_time": "2022-05-03T20:11:40.146655",
     "status": "completed"
    },
    "tags": []
   },
   "outputs": [
    {
     "data": {
      "text/plain": [
       "Text(0.5, 1.0, 'Outputs')"
      ]
     },
     "execution_count": 26,
     "metadata": {},
     "output_type": "execute_result"
    },
    {
     "data": {
      "image/png": "[encoded data removed]",
      "text/plain": [
       "<Figure size 576x504 with 1 Axes>"
      ]
     },
     "metadata": {
      "needs_background": "light"
     },
     "output_type": "display_data"
    }
   ],
   "source": [
    "# Plotting the scatter plot of points and color coding by class\n",
    "plt.figure(figsize=(8,7))\n",
    "plt.scatter(testing_plot[:,0], testing_plot[:,1], alpha = 0.1, c = y_test.ravel());\n",
    "plt.title('Outputs')"
   ]
  },
  {
   "cell_type": "markdown",
   "id": "a74fcf8f",
   "metadata": {
    "papermill": {
     "duration": 0.044047,
     "end_time": "2022-05-03T20:11:40.479078",
     "exception": false,
     "start_time": "2022-05-03T20:11:40.435031",
     "status": "completed"
    },
    "tags": []
   },
   "source": [
    "Probability contours"
   ]
  },
  {
   "cell_type": "code",
   "execution_count": 27,
   "id": "d0afc8e3",
   "metadata": {
    "execution": {
     "iopub.execute_input": "2022-05-03T20:11:40.575599Z",
     "iopub.status.busy": "2022-05-03T20:11:40.570770Z",
     "iopub.status.idle": "2022-05-03T20:11:40.584571Z",
     "shell.execute_reply": "2022-05-03T20:11:40.584126Z"
    },
    "papermill": {
     "duration": 0.061421,
     "end_time": "2022-05-03T20:11:40.584687",
     "exception": false,
     "start_time": "2022-05-03T20:11:40.523266",
     "status": "completed"
    },
    "tags": []
   },
   "outputs": [],
   "source": [
    "model_prob = Model(layers[-2:]) "
   ]
  },
  {
   "cell_type": "code",
   "execution_count": 28,
   "id": "9b96e238",
   "metadata": {
    "execution": {
     "iopub.execute_input": "2022-05-03T20:11:40.678226Z",
     "iopub.status.busy": "2022-05-03T20:11:40.677694Z",
     "iopub.status.idle": "2022-05-03T20:11:40.691479Z",
     "shell.execute_reply": "2022-05-03T20:11:40.691923Z"
    },
    "papermill": {
     "duration": 0.063098,
     "end_time": "2022-05-03T20:11:40.692071",
     "exception": false,
     "start_time": "2022-05-03T20:11:40.628973",
     "status": "completed"
    },
    "tags": []
   },
   "outputs": [],
   "source": [
    "#creating the x and y ranges according to the above generated plot.\n",
    "x_range = np.linspace(-4, 1, 100) \n",
    "y_range = np.linspace(-6, 6, 100) \n",
    "x_grid, y_grid = np.meshgrid(x_range, y_range) # x_grid and y_grig are of size 100 X 100\n",
    "\n",
    "# converting x_grid and y_grid to continuous arrays\n",
    "x_gridflat = np.ravel(x_grid)\n",
    "y_gridflat = np.ravel(y_grid)\n",
    "\n",
    "# The last layer of the current model takes two columns as input. Hence transpose of np.vstack() is required.\n",
    "X = np.vstack((x_gridflat, y_gridflat)).T\n",
    "\n",
    "prob_contour = model_prob(X).reshape(100,100) "
   ]
  },
  {
   "cell_type": "code",
   "execution_count": 29,
   "id": "da72499a",
   "metadata": {
    "execution": {
     "iopub.execute_input": "2022-05-03T20:11:40.815895Z",
     "iopub.status.busy": "2022-05-03T20:11:40.815334Z",
     "iopub.status.idle": "2022-05-03T20:11:41.070610Z",
     "shell.execute_reply": "2022-05-03T20:11:41.069659Z"
    },
    "papermill": {
     "duration": 0.334047,
     "end_time": "2022-05-03T20:11:41.070775",
     "exception": false,
     "start_time": "2022-05-03T20:11:40.736728",
     "status": "completed"
    },
    "tags": []
   },
   "outputs": [
    {
     "data": {
      "image/png": "[encoded data removed]",
      "text/plain": [
       "<Figure size 720x648 with 1 Axes>"
      ]
     },
     "metadata": {
      "needs_background": "light"
     },
     "output_type": "display_data"
    }
   ],
   "source": [
    "plt.figure(figsize=(10,9))\n",
    "plt.scatter(testing_plot[:,0], testing_plot[:,1], alpha = 0.1, c = y_test.ravel())\n",
    "contours = plt.contour(x_grid,y_grid,prob_contour)\n",
    "plt.title('Probability Contours')\n",
    "plt.clabel(contours, inline = True );"
   ]
  },
  {
   "cell_type": "code",
   "execution_count": null,
   "id": "e81b4ac7",
   "metadata": {
    "papermill": {
     "duration": 0.047382,
     "end_time": "2022-05-03T20:11:41.165915",
     "exception": false,
     "start_time": "2022-05-03T20:11:41.118533",
     "status": "completed"
    },
    "tags": []
   },
   "outputs": [],
   "source": []
  }
 ],
 "metadata": {
  "kernelspec": {
   "display_name": "Python 3",
   "language": "python",
   "name": "python3"
  },
  "language_info": {
   "codemirror_mode": {
    "name": "ipython",
    "version": 3
   },
   "file_extension": ".py",
   "mimetype": "text/x-python",
   "name": "python",
   "nbconvert_exporter": "python",
   "pygments_lexer": "ipython3",
   "version": "3.6.15"
  },
  "papermill": {
   "default_parameters": {},
   "duration": 99.827467,
   "end_time": "2022-05-03T20:11:41.631871",
   "environment_variables": {},
   "exception": null,
   "input_path": "2020-08-11-part2.ipynb",
   "output_path": "2020-08-11-part2.ipynb",
   "parameters": {},
   "start_time": "2022-05-03T20:10:01.804404",
   "version": "2.3.3"
  }
 },
 "nbformat": 4,
 "nbformat_minor": 5
}