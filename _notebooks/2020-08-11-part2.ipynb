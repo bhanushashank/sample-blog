{
 "cells": [
  {
   "cell_type": "markdown",
   "id": "98380cd3",
   "metadata": {
    "papermill": {
     "duration": 0.045891,
     "end_time": "2022-07-05T10:10:56.806196",
     "exception": false,
     "start_time": "2022-07-05T10:10:56.760305",
     "status": "completed"
    },
    "tags": []
   },
   "source": [
    "# Distinguish Your Own Digits (DYOD)"
   ]
  },
  {
   "cell_type": "markdown",
   "id": "ef31240d",
   "metadata": {
    "papermill": {
     "duration": 0.039158,
     "end_time": "2022-07-05T10:10:56.885242",
     "exception": false,
     "start_time": "2022-07-05T10:10:56.846084",
     "status": "completed"
    },
    "tags": []
   },
   "source": [
    "You are going to write a classifier that distinguishes between the number 3 and number 8."
   ]
  },
  {
   "cell_type": "code",
   "execution_count": 1,
   "id": "b15c8646",
   "metadata": {
    "execution": {
     "iopub.execute_input": "2022-07-05T10:10:56.965237Z",
     "iopub.status.busy": "2022-07-05T10:10:56.964348Z",
     "iopub.status.idle": "2022-07-05T10:10:56.986632Z",
     "shell.execute_reply": "2022-07-05T10:10:56.985882Z"
    },
    "papermill": {
     "duration": 0.068683,
     "end_time": "2022-07-05T10:10:56.986862",
     "exception": false,
     "start_time": "2022-07-05T10:10:56.918179",
     "status": "completed"
    },
    "tags": []
   },
   "outputs": [],
   "source": [
    "%load_ext autoreload\n",
    "%autoreload 2"
   ]
  },
  {
   "cell_type": "code",
   "execution_count": 2,
   "id": "22ef38dc",
   "metadata": {
    "execution": {
     "iopub.execute_input": "2022-07-05T10:10:57.069155Z",
     "iopub.status.busy": "2022-07-05T10:10:57.068251Z",
     "iopub.status.idle": "2022-07-05T10:10:57.846557Z",
     "shell.execute_reply": "2022-07-05T10:10:57.845838Z"
    },
    "papermill": {
     "duration": 0.822236,
     "end_time": "2022-07-05T10:10:57.846723",
     "exception": false,
     "start_time": "2022-07-05T10:10:57.024487",
     "status": "completed"
    },
    "tags": []
   },
   "outputs": [],
   "source": [
    "%matplotlib inline\n",
    "import numpy as np\n",
    "import matplotlib.pyplot as plt\n",
    "import pandas as pd"
   ]
  },
  {
   "cell_type": "markdown",
   "id": "ba036198",
   "metadata": {
    "papermill": {
     "duration": 0.03771,
     "end_time": "2022-07-05T10:10:57.921242",
     "exception": false,
     "start_time": "2022-07-05T10:10:57.883532",
     "status": "completed"
    },
    "tags": []
   },
   "source": [
    "From the command line run `pip install mnist`. This is a library that will help you bring down the mnist dataset. If you run this from a notebook, you need to put  `!pip install mnist` in a cell by itself."
   ]
  },
  {
   "cell_type": "code",
   "execution_count": 3,
   "id": "bb6ad8a1",
   "metadata": {
    "execution": {
     "iopub.execute_input": "2022-07-05T10:10:57.998185Z",
     "iopub.status.busy": "2022-07-05T10:10:57.997288Z",
     "iopub.status.idle": "2022-07-05T10:11:00.286183Z",
     "shell.execute_reply": "2022-07-05T10:11:00.285170Z"
    },
    "papermill": {
     "duration": 2.329875,
     "end_time": "2022-07-05T10:11:00.286346",
     "exception": false,
     "start_time": "2022-07-05T10:10:57.956471",
     "status": "completed"
    },
    "tags": []
   },
   "outputs": [
    {
     "name": "stdout",
     "output_type": "stream",
     "text": [
      "Collecting mnist\r\n"
     ]
    },
    {
     "name": "stdout",
     "output_type": "stream",
     "text": [
      "  Downloading mnist-0.2.2-py2.py3-none-any.whl (3.5 kB)\r\n",
      "Requirement already satisfied: numpy in /opt/hostedtoolcache/Python/3.6.15/x64/lib/python3.6/site-packages (from mnist) (1.19.5)\r\n"
     ]
    },
    {
     "name": "stdout",
     "output_type": "stream",
     "text": [
      "Installing collected packages: mnist\r\n"
     ]
    },
    {
     "name": "stdout",
     "output_type": "stream",
     "text": [
      "Successfully installed mnist-0.2.2\r\n"
     ]
    }
   ],
   "source": [
    "!pip install mnist"
   ]
  },
  {
   "cell_type": "markdown",
   "id": "69df9c9a",
   "metadata": {
    "papermill": {
     "duration": 0.036462,
     "end_time": "2022-07-05T10:11:00.357341",
     "exception": false,
     "start_time": "2022-07-05T10:11:00.320879",
     "status": "completed"
    },
    "tags": []
   },
   "source": [
    "## Preparing the Data"
   ]
  },
  {
   "cell_type": "code",
   "execution_count": 4,
   "id": "7f69d806",
   "metadata": {
    "execution": {
     "iopub.execute_input": "2022-07-05T10:11:00.434042Z",
     "iopub.status.busy": "2022-07-05T10:11:00.433093Z",
     "iopub.status.idle": "2022-07-05T10:11:00.451902Z",
     "shell.execute_reply": "2022-07-05T10:11:00.451067Z"
    },
    "papermill": {
     "duration": 0.059436,
     "end_time": "2022-07-05T10:11:00.452063",
     "exception": false,
     "start_time": "2022-07-05T10:11:00.392627",
     "status": "completed"
    },
    "tags": []
   },
   "outputs": [],
   "source": [
    "import mnist"
   ]
  },
  {
   "cell_type": "code",
   "execution_count": 5,
   "id": "a411e44f",
   "metadata": {
    "execution": {
     "iopub.execute_input": "2022-07-05T10:11:00.540114Z",
     "iopub.status.busy": "2022-07-05T10:11:00.539339Z",
     "iopub.status.idle": "2022-07-05T10:11:01.252367Z",
     "shell.execute_reply": "2022-07-05T10:11:01.251716Z"
    },
    "papermill": {
     "duration": 0.75188,
     "end_time": "2022-07-05T10:11:01.252566",
     "exception": false,
     "start_time": "2022-07-05T10:11:00.500686",
     "status": "completed"
    },
    "tags": []
   },
   "outputs": [],
   "source": [
    "train_images = mnist.train_images()\n",
    "train_labels = mnist.train_labels()"
   ]
  },
  {
   "cell_type": "code",
   "execution_count": 6,
   "id": "dceab3a5",
   "metadata": {
    "execution": {
     "iopub.execute_input": "2022-07-05T10:11:01.330073Z",
     "iopub.status.busy": "2022-07-05T10:11:01.329302Z",
     "iopub.status.idle": "2022-07-05T10:11:01.348267Z",
     "shell.execute_reply": "2022-07-05T10:11:01.347489Z"
    },
    "papermill": {
     "duration": 0.058439,
     "end_time": "2022-07-05T10:11:01.348434",
     "exception": false,
     "start_time": "2022-07-05T10:11:01.289995",
     "status": "completed"
    },
    "tags": []
   },
   "outputs": [
    {
     "data": {
      "text/plain": [
       "((60000, 28, 28), (60000,))"
      ]
     },
     "execution_count": 6,
     "metadata": {},
     "output_type": "execute_result"
    }
   ],
   "source": [
    "train_images.shape, train_labels.shape"
   ]
  },
  {
   "cell_type": "code",
   "execution_count": 7,
   "id": "f50dc2bb",
   "metadata": {
    "execution": {
     "iopub.execute_input": "2022-07-05T10:11:01.429135Z",
     "iopub.status.busy": "2022-07-05T10:11:01.428191Z",
     "iopub.status.idle": "2022-07-05T10:11:01.625652Z",
     "shell.execute_reply": "2022-07-05T10:11:01.626434Z"
    },
    "papermill": {
     "duration": 0.240348,
     "end_time": "2022-07-05T10:11:01.626625",
     "exception": false,
     "start_time": "2022-07-05T10:11:01.386277",
     "status": "completed"
    },
    "tags": []
   },
   "outputs": [],
   "source": [
    "test_images = mnist.test_images()\n",
    "test_labels = mnist.test_labels()"
   ]
  },
  {
   "cell_type": "code",
   "execution_count": 8,
   "id": "fc38cf1b",
   "metadata": {
    "execution": {
     "iopub.execute_input": "2022-07-05T10:11:01.704701Z",
     "iopub.status.busy": "2022-07-05T10:11:01.703866Z",
     "iopub.status.idle": "2022-07-05T10:11:01.722589Z",
     "shell.execute_reply": "2022-07-05T10:11:01.721920Z"
    },
    "papermill": {
     "duration": 0.061106,
     "end_time": "2022-07-05T10:11:01.722741",
     "exception": false,
     "start_time": "2022-07-05T10:11:01.661635",
     "status": "completed"
    },
    "tags": []
   },
   "outputs": [
    {
     "data": {
      "text/plain": [
       "((10000, 28, 28), (10000,))"
      ]
     },
     "execution_count": 8,
     "metadata": {},
     "output_type": "execute_result"
    }
   ],
   "source": [
    "test_images.shape, test_labels.shape"
   ]
  },
  {
   "cell_type": "code",
   "execution_count": 9,
   "id": "f9ed8fe0",
   "metadata": {
    "execution": {
     "iopub.execute_input": "2022-07-05T10:11:01.800328Z",
     "iopub.status.busy": "2022-07-05T10:11:01.799545Z",
     "iopub.status.idle": "2022-07-05T10:11:02.017230Z",
     "shell.execute_reply": "2022-07-05T10:11:02.016505Z"
    },
    "papermill": {
     "duration": 0.258107,
     "end_time": "2022-07-05T10:11:02.017403",
     "exception": false,
     "start_time": "2022-07-05T10:11:01.759296",
     "status": "completed"
    },
    "tags": []
   },
   "outputs": [
    {
     "name": "stdout",
     "output_type": "stream",
     "text": [
      "2\n"
     ]
    },
    {
     "data": {
      "text/plain": [
       "<matplotlib.image.AxesImage at 0x7f961b0d34a8>"
      ]
     },
     "execution_count": 9,
     "metadata": {},
     "output_type": "execute_result"
    },
    {
     "data": {
      "image/png": "[encoded data removed]",
      "text/plain": [
       "<Figure size 432x288 with 1 Axes>"
      ]
     },
     "metadata": {
      "needs_background": "light"
     },
     "output_type": "display_data"
    }
   ],
   "source": [
    "image_index = 7776 # You may select anything up to 60,000\n",
    "print(train_labels[image_index]) \n",
    "plt.imshow(train_images[image_index], cmap='Greys')"
   ]
  },
  {
   "cell_type": "markdown",
   "id": "a8d2388d",
   "metadata": {
    "papermill": {
     "duration": 0.049193,
     "end_time": "2022-07-05T10:11:02.106053",
     "exception": false,
     "start_time": "2022-07-05T10:11:02.056860",
     "status": "completed"
    },
    "tags": []
   },
   "source": [
    "## Filter data to get 3 and 8 out"
   ]
  },
  {
   "cell_type": "code",
   "execution_count": 10,
   "id": "776f7fc7",
   "metadata": {
    "execution": {
     "iopub.execute_input": "2022-07-05T10:11:02.195289Z",
     "iopub.status.busy": "2022-07-05T10:11:02.191016Z",
     "iopub.status.idle": "2022-07-05T10:11:02.216071Z",
     "shell.execute_reply": "2022-07-05T10:11:02.216765Z"
    },
    "papermill": {
     "duration": 0.072387,
     "end_time": "2022-07-05T10:11:02.216960",
     "exception": false,
     "start_time": "2022-07-05T10:11:02.144573",
     "status": "completed"
    },
    "tags": []
   },
   "outputs": [],
   "source": [
    "train_filter = np.where((train_labels == 3 ) | (train_labels == 8))\n",
    "test_filter = np.where((test_labels == 3) | (test_labels == 8))\n",
    "X_train, y_train = train_images[train_filter], train_labels[train_filter]\n",
    "X_test, y_test = test_images[test_filter], test_labels[test_filter]"
   ]
  },
  {
   "cell_type": "markdown",
   "id": "948f0b7e",
   "metadata": {
    "papermill": {
     "duration": 0.037851,
     "end_time": "2022-07-05T10:11:02.298336",
     "exception": false,
     "start_time": "2022-07-05T10:11:02.260485",
     "status": "completed"
    },
    "tags": []
   },
   "source": [
    "We normalize the pizel values in the 0 to 1 range"
   ]
  },
  {
   "cell_type": "code",
   "execution_count": 11,
   "id": "ee4c2166",
   "metadata": {
    "execution": {
     "iopub.execute_input": "2022-07-05T10:11:02.390172Z",
     "iopub.status.busy": "2022-07-05T10:11:02.385077Z",
     "iopub.status.idle": "2022-07-05T10:11:02.454490Z",
     "shell.execute_reply": "2022-07-05T10:11:02.453830Z"
    },
    "papermill": {
     "duration": 0.118612,
     "end_time": "2022-07-05T10:11:02.454653",
     "exception": false,
     "start_time": "2022-07-05T10:11:02.336041",
     "status": "completed"
    },
    "tags": []
   },
   "outputs": [],
   "source": [
    "X_train = X_train/255.\n",
    "X_test = X_test/255."
   ]
  },
  {
   "cell_type": "markdown",
   "id": "ddcf4fab",
   "metadata": {
    "papermill": {
     "duration": 0.036675,
     "end_time": "2022-07-05T10:11:02.534491",
     "exception": false,
     "start_time": "2022-07-05T10:11:02.497816",
     "status": "completed"
    },
    "tags": []
   },
   "source": [
    "And setup the labels as 1 (when the digit is 3) and 0 (when the digit is 8)"
   ]
  },
  {
   "cell_type": "code",
   "execution_count": 12,
   "id": "7dc908f2",
   "metadata": {
    "execution": {
     "iopub.execute_input": "2022-07-05T10:11:02.617375Z",
     "iopub.status.busy": "2022-07-05T10:11:02.616300Z",
     "iopub.status.idle": "2022-07-05T10:11:02.639880Z",
     "shell.execute_reply": "2022-07-05T10:11:02.639185Z"
    },
    "papermill": {
     "duration": 0.067807,
     "end_time": "2022-07-05T10:11:02.640039",
     "exception": false,
     "start_time": "2022-07-05T10:11:02.572232",
     "status": "completed"
    },
    "tags": []
   },
   "outputs": [],
   "source": [
    "y_train = 1*(y_train==3)\n",
    "y_test = 1*(y_test==3)"
   ]
  },
  {
   "cell_type": "code",
   "execution_count": 13,
   "id": "01e4e969",
   "metadata": {
    "execution": {
     "iopub.execute_input": "2022-07-05T10:11:02.718043Z",
     "iopub.status.busy": "2022-07-05T10:11:02.717148Z",
     "iopub.status.idle": "2022-07-05T10:11:02.737262Z",
     "shell.execute_reply": "2022-07-05T10:11:02.736237Z"
    },
    "papermill": {
     "duration": 0.061155,
     "end_time": "2022-07-05T10:11:02.737422",
     "exception": false,
     "start_time": "2022-07-05T10:11:02.676267",
     "status": "completed"
    },
    "tags": []
   },
   "outputs": [
    {
     "data": {
      "text/plain": [
       "((11982, 28, 28), (1984, 28, 28))"
      ]
     },
     "execution_count": 13,
     "metadata": {},
     "output_type": "execute_result"
    }
   ],
   "source": [
    "X_train.shape, X_test.shape"
   ]
  },
  {
   "cell_type": "markdown",
   "id": "5ccf3f85",
   "metadata": {
    "papermill": {
     "duration": 0.039277,
     "end_time": "2022-07-05T10:11:02.816249",
     "exception": false,
     "start_time": "2022-07-05T10:11:02.776972",
     "status": "completed"
    },
    "tags": []
   },
   "source": [
    "We reshape the data to flatten the image pixels into a set of features or co-variates:"
   ]
  },
  {
   "cell_type": "code",
   "execution_count": 14,
   "id": "5286a4a3",
   "metadata": {
    "execution": {
     "iopub.execute_input": "2022-07-05T10:11:02.912402Z",
     "iopub.status.busy": "2022-07-05T10:11:02.905313Z",
     "iopub.status.idle": "2022-07-05T10:11:02.925320Z",
     "shell.execute_reply": "2022-07-05T10:11:02.924634Z"
    },
    "papermill": {
     "duration": 0.069366,
     "end_time": "2022-07-05T10:11:02.925477",
     "exception": false,
     "start_time": "2022-07-05T10:11:02.856111",
     "status": "completed"
    },
    "tags": []
   },
   "outputs": [
    {
     "data": {
      "text/plain": [
       "((11982, 784), (1984, 784))"
      ]
     },
     "execution_count": 14,
     "metadata": {},
     "output_type": "execute_result"
    }
   ],
   "source": [
    "X_train = X_train.reshape(X_train.shape[0], -1)\n",
    "X_test = X_test.reshape(X_test.shape[0], -1)\n",
    "X_train.shape, X_test.shape"
   ]
  },
  {
   "cell_type": "code",
   "execution_count": 15,
   "id": "73c5f88a",
   "metadata": {
    "execution": {
     "iopub.execute_input": "2022-07-05T10:11:03.017504Z",
     "iopub.status.busy": "2022-07-05T10:11:03.016613Z",
     "iopub.status.idle": "2022-07-05T10:11:03.040490Z",
     "shell.execute_reply": "2022-07-05T10:11:03.039820Z"
    },
    "papermill": {
     "duration": 0.074991,
     "end_time": "2022-07-05T10:11:03.040653",
     "exception": false,
     "start_time": "2022-07-05T10:11:02.965662",
     "status": "completed"
    },
    "tags": []
   },
   "outputs": [],
   "source": [
    "#Impoting functions from 'Kudzu'\n",
    "from kudzu.model import Model\n",
    "from kudzu.train import Learner\n",
    "from kudzu.optim import GD\n",
    "from kudzu.data import Data, Sampler,Dataloader\n",
    "\n",
    "from kudzu.callbacks import AccCallback\n",
    "from kudzu.callbacks import ClfCallback\n",
    "\n",
    "from kudzu.loss import MSE\n",
    "\n",
    "from kudzu.layer import Sigmoid,Relu\n",
    "from kudzu.layer import Affine"
   ]
  },
  {
   "cell_type": "markdown",
   "id": "bc01172a",
   "metadata": {
    "papermill": {
     "duration": 0.038429,
     "end_time": "2022-07-05T10:11:03.119862",
     "exception": false,
     "start_time": "2022-07-05T10:11:03.081433",
     "status": "completed"
    },
    "tags": []
   },
   "source": [
    "### Let us create a `Config` class, to store important parameters. \n",
    "This class essentially plays the role of a dictionary."
   ]
  },
  {
   "cell_type": "code",
   "execution_count": 16,
   "id": "978281aa",
   "metadata": {
    "execution": {
     "iopub.execute_input": "2022-07-05T10:11:03.200189Z",
     "iopub.status.busy": "2022-07-05T10:11:03.199396Z",
     "iopub.status.idle": "2022-07-05T10:11:03.218995Z",
     "shell.execute_reply": "2022-07-05T10:11:03.218268Z"
    },
    "papermill": {
     "duration": 0.061545,
     "end_time": "2022-07-05T10:11:03.219186",
     "exception": false,
     "start_time": "2022-07-05T10:11:03.157641",
     "status": "completed"
    },
    "tags": []
   },
   "outputs": [],
   "source": [
    "class Config:\n",
    "    pass\n",
    "config = Config()\n",
    "config.lr = 0.001\n",
    "config.num_epochs = 250\n",
    "config.bs = 50"
   ]
  },
  {
   "cell_type": "markdown",
   "id": "1385fa59",
   "metadata": {
    "papermill": {
     "duration": 0.037294,
     "end_time": "2022-07-05T10:11:03.295187",
     "exception": false,
     "start_time": "2022-07-05T10:11:03.257893",
     "status": "completed"
    },
    "tags": []
   },
   "source": [
    "### Running Models with the Training data\n",
    "Details about the network layers:\n",
    "- A first affine layer has 784 inputs and does 100 affine transforms. These are followed by a Relu\n",
    "- A second affine layer has 100 inputs from the 100 activations of the past layer, and does 100 affine transforms. These are followed by a Relu\n",
    "- A third affine layer has 100 activations and does 2 affine transformations to create an embedding for visualization. There is no non-linearity here.\n",
    "- A final \"logistic regression\" which has an affine transform from 2 inputs to 1 output, which is squeezed through a sigmoid.\n"
   ]
  },
  {
   "cell_type": "code",
   "execution_count": 17,
   "id": "2b9c66db",
   "metadata": {
    "execution": {
     "iopub.execute_input": "2022-07-05T10:11:03.386279Z",
     "iopub.status.busy": "2022-07-05T10:11:03.384990Z",
     "iopub.status.idle": "2022-07-05T10:11:03.401628Z",
     "shell.execute_reply": "2022-07-05T10:11:03.400916Z"
    },
    "papermill": {
     "duration": 0.064662,
     "end_time": "2022-07-05T10:11:03.401785",
     "exception": false,
     "start_time": "2022-07-05T10:11:03.337123",
     "status": "completed"
    },
    "tags": []
   },
   "outputs": [],
   "source": [
    "data = Data(X_train, y_train.reshape(-1,1))\n",
    "sampler = Sampler(data, config.bs, shuffle=True)\n",
    "\n",
    "dl = Dataloader(data, sampler)\n",
    "\n",
    "opt = GD(config.lr)\n",
    "loss = MSE()"
   ]
  },
  {
   "cell_type": "code",
   "execution_count": 18,
   "id": "b275e4c2",
   "metadata": {
    "execution": {
     "iopub.execute_input": "2022-07-05T10:11:03.497486Z",
     "iopub.status.busy": "2022-07-05T10:11:03.496489Z",
     "iopub.status.idle": "2022-07-05T10:11:03.519161Z",
     "shell.execute_reply": "2022-07-05T10:11:03.518306Z"
    },
    "papermill": {
     "duration": 0.074829,
     "end_time": "2022-07-05T10:11:03.519321",
     "exception": false,
     "start_time": "2022-07-05T10:11:03.444492",
     "status": "completed"
    },
    "tags": []
   },
   "outputs": [],
   "source": [
    "training_data_x = X_train\n",
    "testing_data_x = X_test\n",
    "training_data_y = y_train.reshape(-1,1)\n",
    "testing_data_y = y_test.reshape(-1,1)"
   ]
  },
  {
   "cell_type": "code",
   "execution_count": 19,
   "id": "76951160",
   "metadata": {
    "execution": {
     "iopub.execute_input": "2022-07-05T10:11:03.613638Z",
     "iopub.status.busy": "2022-07-05T10:11:03.606548Z",
     "iopub.status.idle": "2022-07-05T10:11:03.631308Z",
     "shell.execute_reply": "2022-07-05T10:11:03.629864Z"
    },
    "papermill": {
     "duration": 0.073586,
     "end_time": "2022-07-05T10:11:03.631463",
     "exception": false,
     "start_time": "2022-07-05T10:11:03.557877",
     "status": "completed"
    },
    "tags": []
   },
   "outputs": [
    {
     "name": "stdout",
     "output_type": "stream",
     "text": [
      "xavier\n",
      "xavier\n",
      "xavier\n",
      "xavier\n",
      "xavier\n"
     ]
    }
   ],
   "source": [
    "layers = [Affine(\"first\", 784, 100), Relu(\"first\"), Affine(\"second\", 100, 100), Relu(\"second\"), Affine(\"third\", 100, 2), Affine(\"last\", 2, 1), Sigmoid(\"last\")]\n",
    "model_nn = Model(layers)\n",
    "model_lr = Model([Affine(\"logits\", 784, 1), Sigmoid(\"sigmoid\")])"
   ]
  },
  {
   "cell_type": "code",
   "execution_count": 20,
   "id": "6eede77a",
   "metadata": {
    "execution": {
     "iopub.execute_input": "2022-07-05T10:11:03.717593Z",
     "iopub.status.busy": "2022-07-05T10:11:03.714327Z",
     "iopub.status.idle": "2022-07-05T10:11:03.730136Z",
     "shell.execute_reply": "2022-07-05T10:11:03.730740Z"
    },
    "papermill": {
     "duration": 0.058433,
     "end_time": "2022-07-05T10:11:03.731122",
     "exception": false,
     "start_time": "2022-07-05T10:11:03.672689",
     "status": "completed"
    },
    "tags": []
   },
   "outputs": [],
   "source": [
    "nn_learner = Learner(loss, model_nn, opt, config.num_epochs)\n",
    "acc_nn = ClfCallback(nn_learner, config.bs, training_data_x , testing_data_x, training_data_y, testing_data_y)\n",
    "nn_learner.set_callbacks([acc_nn])"
   ]
  },
  {
   "cell_type": "code",
   "execution_count": 21,
   "id": "877b6cc7",
   "metadata": {
    "execution": {
     "iopub.execute_input": "2022-07-05T10:11:03.827426Z",
     "iopub.status.busy": "2022-07-05T10:11:03.826635Z",
     "iopub.status.idle": "2022-07-05T10:11:03.844015Z",
     "shell.execute_reply": "2022-07-05T10:11:03.843366Z"
    },
    "papermill": {
     "duration": 0.063677,
     "end_time": "2022-07-05T10:11:03.844172",
     "exception": false,
     "start_time": "2022-07-05T10:11:03.780495",
     "status": "completed"
    },
    "tags": []
   },
   "outputs": [],
   "source": [
    "lr_learner = Learner(loss, model_lr, opt, config.num_epochs)\n",
    "acc_lr = ClfCallback(lr_learner, config.bs, training_data_x , testing_data_x, training_data_y, testing_data_y)\n",
    "lr_learner.set_callbacks([acc_lr])"
   ]
  },
  {
   "cell_type": "code",
   "execution_count": 22,
   "id": "d9b133c3",
   "metadata": {
    "execution": {
     "iopub.execute_input": "2022-07-05T10:11:03.927242Z",
     "iopub.status.busy": "2022-07-05T10:11:03.926429Z",
     "iopub.status.idle": "2022-07-05T10:13:37.271584Z",
     "shell.execute_reply": "2022-07-05T10:13:37.272796Z"
    },
    "papermill": {
     "duration": 153.390512,
     "end_time": "2022-07-05T10:13:37.273058",
     "exception": false,
     "start_time": "2022-07-05T10:11:03.882546",
     "status": "completed"
    },
    "tags": []
   },
   "outputs": [
    {
     "name": "stdout",
     "output_type": "stream",
     "text": [
      "Epoch 0, Loss 0.2389\n",
      "Training Accuracy: 0.6368, Testing Accuracy: 0.6366\n",
      "\n"
     ]
    },
    {
     "name": "stdout",
     "output_type": "stream",
     "text": [
      "Epoch 10, Loss 0.125\n",
      "Training Accuracy: 0.9040, Testing Accuracy: 0.9113\n",
      "\n"
     ]
    },
    {
     "name": "stdout",
     "output_type": "stream",
     "text": [
      "Epoch 20, Loss 0.0684\n",
      "Training Accuracy: 0.9337, Testing Accuracy: 0.9441\n",
      "\n"
     ]
    },
    {
     "name": "stdout",
     "output_type": "stream",
     "text": [
      "Epoch 30, Loss 0.0502\n",
      "Training Accuracy: 0.9467, Testing Accuracy: 0.9556\n",
      "\n"
     ]
    },
    {
     "name": "stdout",
     "output_type": "stream",
     "text": [
      "Epoch 40, Loss 0.0417\n",
      "Training Accuracy: 0.9545, Testing Accuracy: 0.9592\n",
      "\n"
     ]
    },
    {
     "name": "stdout",
     "output_type": "stream",
     "text": [
      "Epoch 50, Loss 0.0369\n",
      "Training Accuracy: 0.9603, Testing Accuracy: 0.9632\n",
      "\n"
     ]
    },
    {
     "name": "stdout",
     "output_type": "stream",
     "text": [
      "Epoch 60, Loss 0.0338\n",
      "Training Accuracy: 0.9629, Testing Accuracy: 0.9667\n",
      "\n"
     ]
    },
    {
     "name": "stdout",
     "output_type": "stream",
     "text": [
      "Epoch 70, Loss 0.0316\n",
      "Training Accuracy: 0.9652, Testing Accuracy: 0.9698\n",
      "\n"
     ]
    },
    {
     "name": "stdout",
     "output_type": "stream",
     "text": [
      "Epoch 80, Loss 0.0299\n",
      "Training Accuracy: 0.9661, Testing Accuracy: 0.9703\n",
      "\n"
     ]
    },
    {
     "name": "stdout",
     "output_type": "stream",
     "text": [
      "Epoch 90, Loss 0.0285\n",
      "Training Accuracy: 0.9672, Testing Accuracy: 0.9708\n",
      "\n"
     ]
    },
    {
     "name": "stdout",
     "output_type": "stream",
     "text": [
      "Epoch 100, Loss 0.0274\n",
      "Training Accuracy: 0.9685, Testing Accuracy: 0.9703\n",
      "\n"
     ]
    },
    {
     "name": "stdout",
     "output_type": "stream",
     "text": [
      "Epoch 110, Loss 0.0264\n",
      "Training Accuracy: 0.9697, Testing Accuracy: 0.9718\n",
      "\n"
     ]
    },
    {
     "name": "stdout",
     "output_type": "stream",
     "text": [
      "Epoch 120, Loss 0.0255\n",
      "Training Accuracy: 0.9705, Testing Accuracy: 0.9728\n",
      "\n"
     ]
    },
    {
     "name": "stdout",
     "output_type": "stream",
     "text": [
      "Epoch 130, Loss 0.0248\n",
      "Training Accuracy: 0.9719, Testing Accuracy: 0.9733\n",
      "\n"
     ]
    },
    {
     "name": "stdout",
     "output_type": "stream",
     "text": [
      "Epoch 140, Loss 0.0241\n",
      "Training Accuracy: 0.9726, Testing Accuracy: 0.9733\n",
      "\n"
     ]
    },
    {
     "name": "stdout",
     "output_type": "stream",
     "text": [
      "Epoch 150, Loss 0.0234\n",
      "Training Accuracy: 0.9732, Testing Accuracy: 0.9733\n",
      "\n"
     ]
    },
    {
     "name": "stdout",
     "output_type": "stream",
     "text": [
      "Epoch 160, Loss 0.0228\n",
      "Training Accuracy: 0.9739, Testing Accuracy: 0.9738\n",
      "\n"
     ]
    },
    {
     "name": "stdout",
     "output_type": "stream",
     "text": [
      "Epoch 170, Loss 0.0223\n",
      "Training Accuracy: 0.9748, Testing Accuracy: 0.9738\n",
      "\n"
     ]
    },
    {
     "name": "stdout",
     "output_type": "stream",
     "text": [
      "Epoch 180, Loss 0.0218\n",
      "Training Accuracy: 0.9752, Testing Accuracy: 0.9743\n",
      "\n"
     ]
    },
    {
     "name": "stdout",
     "output_type": "stream",
     "text": [
      "Epoch 190, Loss 0.0213\n",
      "Training Accuracy: 0.9755, Testing Accuracy: 0.9748\n",
      "\n"
     ]
    },
    {
     "name": "stdout",
     "output_type": "stream",
     "text": [
      "Epoch 200, Loss 0.0208\n",
      "Training Accuracy: 0.9763, Testing Accuracy: 0.9743\n",
      "\n"
     ]
    },
    {
     "name": "stdout",
     "output_type": "stream",
     "text": [
      "Epoch 210, Loss 0.0203\n",
      "Training Accuracy: 0.9765, Testing Accuracy: 0.9743\n",
      "\n"
     ]
    },
    {
     "name": "stdout",
     "output_type": "stream",
     "text": [
      "Epoch 220, Loss 0.0199\n",
      "Training Accuracy: 0.9774, Testing Accuracy: 0.9758\n",
      "\n"
     ]
    },
    {
     "name": "stdout",
     "output_type": "stream",
     "text": [
      "Epoch 230, Loss 0.0195\n",
      "Training Accuracy: 0.9779, Testing Accuracy: 0.9753\n",
      "\n"
     ]
    },
    {
     "name": "stdout",
     "output_type": "stream",
     "text": [
      "Epoch 240, Loss 0.0191\n",
      "Training Accuracy: 0.9785, Testing Accuracy: 0.9753\n",
      "\n"
     ]
    },
    {
     "data": {
      "text/plain": [
       "0.020690632957100507"
      ]
     },
     "execution_count": 22,
     "metadata": {},
     "output_type": "execute_result"
    }
   ],
   "source": [
    "nn_learner.train_loop(dl)"
   ]
  },
  {
   "cell_type": "code",
   "execution_count": 23,
   "id": "e0163366",
   "metadata": {
    "execution": {
     "iopub.execute_input": "2022-07-05T10:13:37.386637Z",
     "iopub.status.busy": "2022-07-05T10:13:37.385854Z",
     "iopub.status.idle": "2022-07-05T10:13:59.316083Z",
     "shell.execute_reply": "2022-07-05T10:13:59.317167Z"
    },
    "papermill": {
     "duration": 21.995262,
     "end_time": "2022-07-05T10:13:59.317353",
     "exception": false,
     "start_time": "2022-07-05T10:13:37.322091",
     "status": "completed"
    },
    "tags": []
   },
   "outputs": [
    {
     "name": "stdout",
     "output_type": "stream",
     "text": [
      "Epoch 0, Loss 0.2436\n",
      "Training Accuracy: 0.6828, Testing Accuracy: 0.6668\n",
      "\n"
     ]
    },
    {
     "name": "stdout",
     "output_type": "stream",
     "text": [
      "Epoch 10, Loss 0.1025\n",
      "Training Accuracy: 0.9065, Testing Accuracy: 0.9128\n",
      "\n"
     ]
    },
    {
     "name": "stdout",
     "output_type": "stream",
     "text": [
      "Epoch 20, Loss 0.0792\n",
      "Training Accuracy: 0.9261, Testing Accuracy: 0.9355\n",
      "\n"
     ]
    },
    {
     "name": "stdout",
     "output_type": "stream",
     "text": [
      "Epoch 30, Loss 0.0681\n",
      "Training Accuracy: 0.9360, Testing Accuracy: 0.9430\n",
      "\n"
     ]
    },
    {
     "name": "stdout",
     "output_type": "stream",
     "text": [
      "Epoch 40, Loss 0.0615\n",
      "Training Accuracy: 0.9414, Testing Accuracy: 0.9506\n",
      "\n"
     ]
    },
    {
     "name": "stdout",
     "output_type": "stream",
     "text": [
      "Epoch 50, Loss 0.0569\n",
      "Training Accuracy: 0.9448, Testing Accuracy: 0.9546\n",
      "\n"
     ]
    },
    {
     "name": "stdout",
     "output_type": "stream",
     "text": [
      "Epoch 60, Loss 0.0536\n",
      "Training Accuracy: 0.9480, Testing Accuracy: 0.9572\n",
      "\n"
     ]
    },
    {
     "name": "stdout",
     "output_type": "stream",
     "text": [
      "Epoch 70, Loss 0.051\n",
      "Training Accuracy: 0.9489, Testing Accuracy: 0.9597\n",
      "\n"
     ]
    },
    {
     "name": "stdout",
     "output_type": "stream",
     "text": [
      "Epoch 80, Loss 0.049\n",
      "Training Accuracy: 0.9504, Testing Accuracy: 0.9622\n",
      "\n"
     ]
    },
    {
     "name": "stdout",
     "output_type": "stream",
     "text": [
      "Epoch 90, Loss 0.0473\n",
      "Training Accuracy: 0.9515, Testing Accuracy: 0.9637\n",
      "\n"
     ]
    },
    {
     "name": "stdout",
     "output_type": "stream",
     "text": [
      "Epoch 100, Loss 0.0459\n",
      "Training Accuracy: 0.9528, Testing Accuracy: 0.9637\n",
      "\n"
     ]
    },
    {
     "name": "stdout",
     "output_type": "stream",
     "text": [
      "Epoch 110, Loss 0.0447\n",
      "Training Accuracy: 0.9540, Testing Accuracy: 0.9637\n",
      "\n"
     ]
    },
    {
     "name": "stdout",
     "output_type": "stream",
     "text": [
      "Epoch 120, Loss 0.0437\n",
      "Training Accuracy: 0.9548, Testing Accuracy: 0.9647\n",
      "\n"
     ]
    },
    {
     "name": "stdout",
     "output_type": "stream",
     "text": [
      "Epoch 130, Loss 0.0427\n",
      "Training Accuracy: 0.9555, Testing Accuracy: 0.9652\n",
      "\n"
     ]
    },
    {
     "name": "stdout",
     "output_type": "stream",
     "text": [
      "Epoch 140, Loss 0.0419\n",
      "Training Accuracy: 0.9563, Testing Accuracy: 0.9647\n",
      "\n"
     ]
    },
    {
     "name": "stdout",
     "output_type": "stream",
     "text": [
      "Epoch 150, Loss 0.0412\n",
      "Training Accuracy: 0.9569, Testing Accuracy: 0.9657\n",
      "\n"
     ]
    },
    {
     "name": "stdout",
     "output_type": "stream",
     "text": [
      "Epoch 160, Loss 0.0405\n",
      "Training Accuracy: 0.9573, Testing Accuracy: 0.9657\n",
      "\n"
     ]
    },
    {
     "name": "stdout",
     "output_type": "stream",
     "text": [
      "Epoch 170, Loss 0.0399\n",
      "Training Accuracy: 0.9580, Testing Accuracy: 0.9652\n",
      "\n"
     ]
    },
    {
     "name": "stdout",
     "output_type": "stream",
     "text": [
      "Epoch 180, Loss 0.0394\n",
      "Training Accuracy: 0.9580, Testing Accuracy: 0.9652\n",
      "\n"
     ]
    },
    {
     "name": "stdout",
     "output_type": "stream",
     "text": [
      "Epoch 190, Loss 0.0389\n",
      "Training Accuracy: 0.9586, Testing Accuracy: 0.9652\n",
      "\n"
     ]
    },
    {
     "name": "stdout",
     "output_type": "stream",
     "text": [
      "Epoch 200, Loss 0.0384\n",
      "Training Accuracy: 0.9589, Testing Accuracy: 0.9652\n",
      "\n"
     ]
    },
    {
     "name": "stdout",
     "output_type": "stream",
     "text": [
      "Epoch 210, Loss 0.038\n",
      "Training Accuracy: 0.9594, Testing Accuracy: 0.9662\n",
      "\n"
     ]
    },
    {
     "name": "stdout",
     "output_type": "stream",
     "text": [
      "Epoch 220, Loss 0.0376\n",
      "Training Accuracy: 0.9596, Testing Accuracy: 0.9662\n",
      "\n"
     ]
    },
    {
     "name": "stdout",
     "output_type": "stream",
     "text": [
      "Epoch 230, Loss 0.0372\n",
      "Training Accuracy: 0.9601, Testing Accuracy: 0.9672\n",
      "\n"
     ]
    },
    {
     "name": "stdout",
     "output_type": "stream",
     "text": [
      "Epoch 240, Loss 0.0368\n",
      "Training Accuracy: 0.9603, Testing Accuracy: 0.9677\n",
      "\n"
     ]
    },
    {
     "data": {
      "text/plain": [
       "0.05444711741190242"
      ]
     },
     "execution_count": 23,
     "metadata": {},
     "output_type": "execute_result"
    }
   ],
   "source": [
    "lr_learner.train_loop(dl)"
   ]
  },
  {
   "cell_type": "code",
   "execution_count": 24,
   "id": "ca410940",
   "metadata": {
    "execution": {
     "iopub.execute_input": "2022-07-05T10:13:59.454069Z",
     "iopub.status.busy": "2022-07-05T10:13:59.453263Z",
     "iopub.status.idle": "2022-07-05T10:13:59.832161Z",
     "shell.execute_reply": "2022-07-05T10:13:59.832823Z"
    },
    "papermill": {
     "duration": 0.448094,
     "end_time": "2022-07-05T10:13:59.833137",
     "exception": false,
     "start_time": "2022-07-05T10:13:59.385043",
     "status": "completed"
    },
    "tags": []
   },
   "outputs": [
    {
     "data": {
      "text/plain": [
       "<matplotlib.legend.Legend at 0x7f961ac31b70>"
      ]
     },
     "execution_count": 24,
     "metadata": {},
     "output_type": "execute_result"
    },
    {
     "data": {
      "image/png": "[encoded data removed]",
      "text/plain": [
       "<Figure size 1080x720 with 1 Axes>"
      ]
     },
     "metadata": {
      "needs_background": "light"
     },
     "output_type": "display_data"
    }
   ],
   "source": [
    "#comparing the results of NN and LR\n",
    "plt.figure(figsize=(15,10))\n",
    "\n",
    "# Neural Network plots\n",
    "plt.plot(acc_nn.accuracies, 'r-', label = \"Training Accuracies - NN\")\n",
    "plt.plot(acc_nn.test_accuracies, 'g-', label = \"Testing Accuracies - NN\")\n",
    "\n",
    "# Logistic Regression plots\n",
    "plt.plot(acc_lr.accuracies, 'k-', label = \"Training Accuracies - LR\")\n",
    "plt.plot(acc_lr.test_accuracies, 'b-', label = \"Testing Accuracies - LR\")\n",
    "plt.legend()"
   ]
  },
  {
   "cell_type": "markdown",
   "id": "80dfb35c",
   "metadata": {
    "papermill": {
     "duration": 0.059232,
     "end_time": "2022-07-05T10:13:59.952307",
     "exception": false,
     "start_time": "2022-07-05T10:13:59.893075",
     "status": "completed"
    },
    "tags": []
   },
   "source": [
    "#### Plotting the outputs of this layer of the NN.\n"
   ]
  },
  {
   "cell_type": "code",
   "execution_count": 25,
   "id": "45eb2ff5",
   "metadata": {
    "execution": {
     "iopub.execute_input": "2022-07-05T10:14:00.080252Z",
     "iopub.status.busy": "2022-07-05T10:14:00.079289Z",
     "iopub.status.idle": "2022-07-05T10:14:00.113318Z",
     "shell.execute_reply": "2022-07-05T10:14:00.114274Z"
    },
    "papermill": {
     "duration": 0.101787,
     "end_time": "2022-07-05T10:14:00.114481",
     "exception": false,
     "start_time": "2022-07-05T10:14:00.012694",
     "status": "completed"
    },
    "tags": []
   },
   "outputs": [],
   "source": [
    "new_model = Model(layers[:-2])\n",
    "testing_plot = new_model(testing_data_x)"
   ]
  },
  {
   "cell_type": "code",
   "execution_count": 26,
   "id": "4c0a5485",
   "metadata": {
    "execution": {
     "iopub.execute_input": "2022-07-05T10:14:00.239173Z",
     "iopub.status.busy": "2022-07-05T10:14:00.238350Z",
     "iopub.status.idle": "2022-07-05T10:14:00.520380Z",
     "shell.execute_reply": "2022-07-05T10:14:00.521078Z"
    },
    "papermill": {
     "duration": 0.348306,
     "end_time": "2022-07-05T10:14:00.521278",
     "exception": false,
     "start_time": "2022-07-05T10:14:00.172972",
     "status": "completed"
    },
    "tags": []
   },
   "outputs": [
    {
     "data": {
      "text/plain": [
       "Text(0.5, 1.0, 'Outputs')"
      ]
     },
     "execution_count": 26,
     "metadata": {},
     "output_type": "execute_result"
    },
    {
     "data": {
      "image/png": "[encoded data removed]",
      "text/plain": [
       "<Figure size 576x504 with 1 Axes>"
      ]
     },
     "metadata": {
      "needs_background": "light"
     },
     "output_type": "display_data"
    }
   ],
   "source": [
    "# Plotting the scatter plot of points and color coding by class\n",
    "plt.figure(figsize=(8,7))\n",
    "plt.scatter(testing_plot[:,0], testing_plot[:,1], alpha = 0.1, c = y_test.ravel());\n",
    "plt.title('Outputs')"
   ]
  },
  {
   "cell_type": "markdown",
   "id": "a74fcf8f",
   "metadata": {
    "papermill": {
     "duration": 0.06063,
     "end_time": "2022-07-05T10:14:00.678877",
     "exception": false,
     "start_time": "2022-07-05T10:14:00.618247",
     "status": "completed"
    },
    "tags": []
   },
   "source": [
    "Probability contours"
   ]
  },
  {
   "cell_type": "code",
   "execution_count": 27,
   "id": "d0afc8e3",
   "metadata": {
    "execution": {
     "iopub.execute_input": "2022-07-05T10:14:00.806151Z",
     "iopub.status.busy": "2022-07-05T10:14:00.805359Z",
     "iopub.status.idle": "2022-07-05T10:14:00.821003Z",
     "shell.execute_reply": "2022-07-05T10:14:00.820254Z"
    },
    "papermill": {
     "duration": 0.080868,
     "end_time": "2022-07-05T10:14:00.821162",
     "exception": false,
     "start_time": "2022-07-05T10:14:00.740294",
     "status": "completed"
    },
    "tags": []
   },
   "outputs": [],
   "source": [
    "model_prob = Model(layers[-2:]) "
   ]
  },
  {
   "cell_type": "code",
   "execution_count": 28,
   "id": "9b96e238",
   "metadata": {
    "execution": {
     "iopub.execute_input": "2022-07-05T10:14:00.949108Z",
     "iopub.status.busy": "2022-07-05T10:14:00.948247Z",
     "iopub.status.idle": "2022-07-05T10:14:00.972397Z",
     "shell.execute_reply": "2022-07-05T10:14:00.973091Z"
    },
    "papermill": {
     "duration": 0.091828,
     "end_time": "2022-07-05T10:14:00.973286",
     "exception": false,
     "start_time": "2022-07-05T10:14:00.881458",
     "status": "completed"
    },
    "tags": []
   },
   "outputs": [],
   "source": [
    "#creating the x and y ranges according to the above generated plot.\n",
    "x_range = np.linspace(-4, 1, 100) \n",
    "y_range = np.linspace(-6, 6, 100) \n",
    "x_grid, y_grid = np.meshgrid(x_range, y_range) # x_grid and y_grig are of size 100 X 100\n",
    "\n",
    "# converting x_grid and y_grid to continuous arrays\n",
    "x_gridflat = np.ravel(x_grid)\n",
    "y_gridflat = np.ravel(y_grid)\n",
    "\n",
    "# The last layer of the current model takes two columns as input. Hence transpose of np.vstack() is required.\n",
    "X = np.vstack((x_gridflat, y_gridflat)).T\n",
    "\n",
    "prob_contour = model_prob(X).reshape(100,100) "
   ]
  },
  {
   "cell_type": "code",
   "execution_count": 29,
   "id": "da72499a",
   "metadata": {
    "execution": {
     "iopub.execute_input": "2022-07-05T10:14:01.106779Z",
     "iopub.status.busy": "2022-07-05T10:14:01.105954Z",
     "iopub.status.idle": "2022-07-05T10:14:01.464837Z",
     "shell.execute_reply": "2022-07-05T10:14:01.463716Z"
    },
    "papermill": {
     "duration": 0.428527,
     "end_time": "2022-07-05T10:14:01.464997",
     "exception": false,
     "start_time": "2022-07-05T10:14:01.036470",
     "status": "completed"
    },
    "tags": []
   },
   "outputs": [
    {
     "data": {
      "image/png": "[encoded data removed]",
      "text/plain": [
       "<Figure size 720x648 with 1 Axes>"
      ]
     },
     "metadata": {
      "needs_background": "light"
     },
     "output_type": "display_data"
    }
   ],
   "source": [
    "plt.figure(figsize=(10,9))\n",
    "plt.scatter(testing_plot[:,0], testing_plot[:,1], alpha = 0.1, c = y_test.ravel())\n",
    "contours = plt.contour(x_grid,y_grid,prob_contour)\n",
    "plt.title('Probability Contours')\n",
    "plt.clabel(contours, inline = True );"
   ]
  },
  {
   "cell_type": "code",
   "execution_count": null,
   "id": "e81b4ac7",
   "metadata": {
    "papermill": {
     "duration": 0.064156,
     "end_time": "2022-07-05T10:14:01.603139",
     "exception": false,
     "start_time": "2022-07-05T10:14:01.538983",
     "status": "completed"
    },
    "tags": []
   },
   "outputs": [],
   "source": []
  }
 ],
 "metadata": {
  "kernelspec": {
   "display_name": "Python 3",
   "language": "python",
   "name": "python3"
  },
  "language_info": {
   "codemirror_mode": {
    "name": "ipython",
    "version": 3
   },
   "file_extension": ".py",
   "mimetype": "text/x-python",
   "name": "python",
   "nbconvert_exporter": "python",
   "pygments_lexer": "ipython3",
   "version": "3.6.15"
  },
  "papermill": {
   "default_parameters": {},
   "duration": 186.711701,
   "end_time": "2022-07-05T10:14:02.197943",
   "environment_variables": {},
   "exception": null,
   "input_path": "2020-08-11-part2.ipynb",
   "output_path": "2020-08-11-part2.ipynb",
   "parameters": {},
   "start_time": "2022-07-05T10:10:55.486242",
   "version": "2.3.3"
  }
 },
 "nbformat": 4,
 "nbformat_minor": 5
}