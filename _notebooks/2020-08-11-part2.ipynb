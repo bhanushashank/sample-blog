{
 "cells": [
  {
   "cell_type": "markdown",
   "id": "98380cd3",
   "metadata": {
    "papermill": {
     "duration": 0.029569,
     "end_time": "2021-10-07T10:07:58.686950",
     "exception": false,
     "start_time": "2021-10-07T10:07:58.657381",
     "status": "completed"
    },
    "tags": []
   },
   "source": [
    "# Distinguish Your Own Digits (DYOD)"
   ]
  },
  {
   "cell_type": "markdown",
   "id": "ef31240d",
   "metadata": {
    "papermill": {
     "duration": 0.024073,
     "end_time": "2021-10-07T10:07:58.735901",
     "exception": false,
     "start_time": "2021-10-07T10:07:58.711828",
     "status": "completed"
    },
    "tags": []
   },
   "source": [
    "You are going to write a classifier that distinguishes between the number 3 and number 8."
   ]
  },
  {
   "cell_type": "code",
   "execution_count": 1,
   "id": "b15c8646",
   "metadata": {
    "execution": {
     "iopub.execute_input": "2021-10-07T10:07:58.794518Z",
     "iopub.status.busy": "2021-10-07T10:07:58.793962Z",
     "iopub.status.idle": "2021-10-07T10:07:58.804426Z",
     "shell.execute_reply": "2021-10-07T10:07:58.804824Z"
    },
    "papermill": {
     "duration": 0.045451,
     "end_time": "2021-10-07T10:07:58.804995",
     "exception": false,
     "start_time": "2021-10-07T10:07:58.759544",
     "status": "completed"
    },
    "tags": []
   },
   "outputs": [],
   "source": [
    "%load_ext autoreload\n",
    "%autoreload 2"
   ]
  },
  {
   "cell_type": "code",
   "execution_count": 2,
   "id": "22ef38dc",
   "metadata": {
    "execution": {
     "iopub.execute_input": "2021-10-07T10:07:58.860920Z",
     "iopub.status.busy": "2021-10-07T10:07:58.860383Z",
     "iopub.status.idle": "2021-10-07T10:07:59.433004Z",
     "shell.execute_reply": "2021-10-07T10:07:59.432409Z"
    },
    "papermill": {
     "duration": 0.604198,
     "end_time": "2021-10-07T10:07:59.433173",
     "exception": false,
     "start_time": "2021-10-07T10:07:58.828975",
     "status": "completed"
    },
    "tags": []
   },
   "outputs": [],
   "source": [
    "%matplotlib inline\n",
    "import numpy as np\n",
    "import matplotlib.pyplot as plt\n",
    "import pandas as pd"
   ]
  },
  {
   "cell_type": "markdown",
   "id": "ba036198",
   "metadata": {
    "papermill": {
     "duration": 0.025635,
     "end_time": "2021-10-07T10:07:59.483731",
     "exception": false,
     "start_time": "2021-10-07T10:07:59.458096",
     "status": "completed"
    },
    "tags": []
   },
   "source": [
    "From the command line run `pip install mnist`. This is a library that will help you bring down the mnist dataset. If you run this from a notebook, you need to put  `!pip install mnist` in a cell by itself."
   ]
  },
  {
   "cell_type": "code",
   "execution_count": 3,
   "id": "bb6ad8a1",
   "metadata": {
    "execution": {
     "iopub.execute_input": "2021-10-07T10:07:59.538970Z",
     "iopub.status.busy": "2021-10-07T10:07:59.538430Z",
     "iopub.status.idle": "2021-10-07T10:08:02.143024Z",
     "shell.execute_reply": "2021-10-07T10:08:02.142447Z"
    },
    "papermill": {
     "duration": 2.635381,
     "end_time": "2021-10-07T10:08:02.143195",
     "exception": false,
     "start_time": "2021-10-07T10:07:59.507814",
     "status": "completed"
    },
    "tags": []
   },
   "outputs": [
    {
     "name": "stdout",
     "output_type": "stream",
     "text": [
      "Collecting mnist\r\n"
     ]
    },
    {
     "name": "stdout",
     "output_type": "stream",
     "text": [
      "  Downloading mnist-0.2.2-py2.py3-none-any.whl (3.5 kB)\r\n",
      "Requirement already satisfied: numpy in /opt/hostedtoolcache/Python/3.6.15/x64/lib/python3.6/site-packages (from mnist) (1.19.5)\r\n"
     ]
    },
    {
     "name": "stdout",
     "output_type": "stream",
     "text": [
      "Installing collected packages: mnist\r\n"
     ]
    },
    {
     "name": "stdout",
     "output_type": "stream",
     "text": [
      "Successfully installed mnist-0.2.2\r\n"
     ]
    }
   ],
   "source": [
    "!pip install mnist"
   ]
  },
  {
   "cell_type": "markdown",
   "id": "69df9c9a",
   "metadata": {
    "papermill": {
     "duration": 0.02522,
     "end_time": "2021-10-07T10:08:02.194929",
     "exception": false,
     "start_time": "2021-10-07T10:08:02.169709",
     "status": "completed"
    },
    "tags": []
   },
   "source": [
    "## Preparing the Data"
   ]
  },
  {
   "cell_type": "code",
   "execution_count": 4,
   "id": "7f69d806",
   "metadata": {
    "execution": {
     "iopub.execute_input": "2021-10-07T10:08:02.266815Z",
     "iopub.status.busy": "2021-10-07T10:08:02.263180Z",
     "iopub.status.idle": "2021-10-07T10:08:02.269278Z",
     "shell.execute_reply": "2021-10-07T10:08:02.268802Z"
    },
    "papermill": {
     "duration": 0.049469,
     "end_time": "2021-10-07T10:08:02.269402",
     "exception": false,
     "start_time": "2021-10-07T10:08:02.219933",
     "status": "completed"
    },
    "tags": []
   },
   "outputs": [],
   "source": [
    "import mnist"
   ]
  },
  {
   "cell_type": "code",
   "execution_count": 5,
   "id": "a411e44f",
   "metadata": {
    "execution": {
     "iopub.execute_input": "2021-10-07T10:08:02.334660Z",
     "iopub.status.busy": "2021-10-07T10:08:02.334141Z",
     "iopub.status.idle": "2021-10-07T10:08:02.895405Z",
     "shell.execute_reply": "2021-10-07T10:08:02.894806Z"
    },
    "papermill": {
     "duration": 0.601043,
     "end_time": "2021-10-07T10:08:02.895565",
     "exception": false,
     "start_time": "2021-10-07T10:08:02.294522",
     "status": "completed"
    },
    "tags": []
   },
   "outputs": [],
   "source": [
    "train_images = mnist.train_images()\n",
    "train_labels = mnist.train_labels()"
   ]
  },
  {
   "cell_type": "code",
   "execution_count": 6,
   "id": "dceab3a5",
   "metadata": {
    "execution": {
     "iopub.execute_input": "2021-10-07T10:08:02.961474Z",
     "iopub.status.busy": "2021-10-07T10:08:02.960902Z",
     "iopub.status.idle": "2021-10-07T10:08:02.972063Z",
     "shell.execute_reply": "2021-10-07T10:08:02.971589Z"
    },
    "papermill": {
     "duration": 0.0505,
     "end_time": "2021-10-07T10:08:02.972200",
     "exception": false,
     "start_time": "2021-10-07T10:08:02.921700",
     "status": "completed"
    },
    "tags": []
   },
   "outputs": [
    {
     "data": {
      "text/plain": [
       "((60000, 28, 28), (60000,))"
      ]
     },
     "execution_count": 6,
     "metadata": {},
     "output_type": "execute_result"
    }
   ],
   "source": [
    "train_images.shape, train_labels.shape"
   ]
  },
  {
   "cell_type": "code",
   "execution_count": 7,
   "id": "f50dc2bb",
   "metadata": {
    "execution": {
     "iopub.execute_input": "2021-10-07T10:08:03.028047Z",
     "iopub.status.busy": "2021-10-07T10:08:03.026977Z",
     "iopub.status.idle": "2021-10-07T10:08:03.162093Z",
     "shell.execute_reply": "2021-10-07T10:08:03.161485Z"
    },
    "papermill": {
     "duration": 0.164594,
     "end_time": "2021-10-07T10:08:03.162253",
     "exception": false,
     "start_time": "2021-10-07T10:08:02.997659",
     "status": "completed"
    },
    "tags": []
   },
   "outputs": [],
   "source": [
    "test_images = mnist.test_images()\n",
    "test_labels = mnist.test_labels()"
   ]
  },
  {
   "cell_type": "code",
   "execution_count": 8,
   "id": "fc38cf1b",
   "metadata": {
    "execution": {
     "iopub.execute_input": "2021-10-07T10:08:03.224226Z",
     "iopub.status.busy": "2021-10-07T10:08:03.223660Z",
     "iopub.status.idle": "2021-10-07T10:08:03.234651Z",
     "shell.execute_reply": "2021-10-07T10:08:03.234234Z"
    },
    "papermill": {
     "duration": 0.046287,
     "end_time": "2021-10-07T10:08:03.234783",
     "exception": false,
     "start_time": "2021-10-07T10:08:03.188496",
     "status": "completed"
    },
    "tags": []
   },
   "outputs": [
    {
     "data": {
      "text/plain": [
       "((10000, 28, 28), (10000,))"
      ]
     },
     "execution_count": 8,
     "metadata": {},
     "output_type": "execute_result"
    }
   ],
   "source": [
    "test_images.shape, test_labels.shape"
   ]
  },
  {
   "cell_type": "code",
   "execution_count": 9,
   "id": "f9ed8fe0",
   "metadata": {
    "execution": {
     "iopub.execute_input": "2021-10-07T10:08:03.311102Z",
     "iopub.status.busy": "2021-10-07T10:08:03.303621Z",
     "iopub.status.idle": "2021-10-07T10:08:03.437522Z",
     "shell.execute_reply": "2021-10-07T10:08:03.436999Z"
    },
    "papermill": {
     "duration": 0.177414,
     "end_time": "2021-10-07T10:08:03.437680",
     "exception": false,
     "start_time": "2021-10-07T10:08:03.260266",
     "status": "completed"
    },
    "tags": []
   },
   "outputs": [
    {
     "name": "stdout",
     "output_type": "stream",
     "text": [
      "2\n"
     ]
    },
    {
     "data": {
      "text/plain": [
       "<matplotlib.image.AxesImage at 0x7f05b095d940>"
      ]
     },
     "execution_count": 9,
     "metadata": {},
     "output_type": "execute_result"
    },
    {
     "data": {
      "image/png": "[encoded data removed]",
      "text/plain": [
       "<Figure size 432x288 with 1 Axes>"
      ]
     },
     "metadata": {
      "needs_background": "light"
     },
     "output_type": "display_data"
    }
   ],
   "source": [
    "image_index = 7776 # You may select anything up to 60,000\n",
    "print(train_labels[image_index]) \n",
    "plt.imshow(train_images[image_index], cmap='Greys')"
   ]
  },
  {
   "cell_type": "markdown",
   "id": "a8d2388d",
   "metadata": {
    "papermill": {
     "duration": 0.02731,
     "end_time": "2021-10-07T10:08:03.492252",
     "exception": false,
     "start_time": "2021-10-07T10:08:03.464942",
     "status": "completed"
    },
    "tags": []
   },
   "source": [
    "## Filter data to get 3 and 8 out"
   ]
  },
  {
   "cell_type": "code",
   "execution_count": 10,
   "id": "776f7fc7",
   "metadata": {
    "execution": {
     "iopub.execute_input": "2021-10-07T10:08:03.553380Z",
     "iopub.status.busy": "2021-10-07T10:08:03.552843Z",
     "iopub.status.idle": "2021-10-07T10:08:03.568536Z",
     "shell.execute_reply": "2021-10-07T10:08:03.568953Z"
    },
    "papermill": {
     "duration": 0.050066,
     "end_time": "2021-10-07T10:08:03.569105",
     "exception": false,
     "start_time": "2021-10-07T10:08:03.519039",
     "status": "completed"
    },
    "tags": []
   },
   "outputs": [],
   "source": [
    "train_filter = np.where((train_labels == 3 ) | (train_labels == 8))\n",
    "test_filter = np.where((test_labels == 3) | (test_labels == 8))\n",
    "X_train, y_train = train_images[train_filter], train_labels[train_filter]\n",
    "X_test, y_test = test_images[test_filter], test_labels[test_filter]"
   ]
  },
  {
   "cell_type": "markdown",
   "id": "948f0b7e",
   "metadata": {
    "papermill": {
     "duration": 0.026344,
     "end_time": "2021-10-07T10:08:03.621927",
     "exception": false,
     "start_time": "2021-10-07T10:08:03.595583",
     "status": "completed"
    },
    "tags": []
   },
   "source": [
    "We normalize the pizel values in the 0 to 1 range"
   ]
  },
  {
   "cell_type": "code",
   "execution_count": 11,
   "id": "ee4c2166",
   "metadata": {
    "execution": {
     "iopub.execute_input": "2021-10-07T10:08:03.683208Z",
     "iopub.status.busy": "2021-10-07T10:08:03.682682Z",
     "iopub.status.idle": "2021-10-07T10:08:03.739145Z",
     "shell.execute_reply": "2021-10-07T10:08:03.738540Z"
    },
    "papermill": {
     "duration": 0.091055,
     "end_time": "2021-10-07T10:08:03.739302",
     "exception": false,
     "start_time": "2021-10-07T10:08:03.648247",
     "status": "completed"
    },
    "tags": []
   },
   "outputs": [],
   "source": [
    "X_train = X_train/255.\n",
    "X_test = X_test/255."
   ]
  },
  {
   "cell_type": "markdown",
   "id": "ddcf4fab",
   "metadata": {
    "papermill": {
     "duration": 0.02665,
     "end_time": "2021-10-07T10:08:03.793544",
     "exception": false,
     "start_time": "2021-10-07T10:08:03.766894",
     "status": "completed"
    },
    "tags": []
   },
   "source": [
    "And setup the labels as 1 (when the digit is 3) and 0 (when the digit is 8)"
   ]
  },
  {
   "cell_type": "code",
   "execution_count": 12,
   "id": "7dc908f2",
   "metadata": {
    "execution": {
     "iopub.execute_input": "2021-10-07T10:08:03.852796Z",
     "iopub.status.busy": "2021-10-07T10:08:03.852253Z",
     "iopub.status.idle": "2021-10-07T10:08:03.864056Z",
     "shell.execute_reply": "2021-10-07T10:08:03.864501Z"
    },
    "papermill": {
     "duration": 0.044741,
     "end_time": "2021-10-07T10:08:03.864651",
     "exception": false,
     "start_time": "2021-10-07T10:08:03.819910",
     "status": "completed"
    },
    "tags": []
   },
   "outputs": [],
   "source": [
    "y_train = 1*(y_train==3)\n",
    "y_test = 1*(y_test==3)"
   ]
  },
  {
   "cell_type": "code",
   "execution_count": 13,
   "id": "01e4e969",
   "metadata": {
    "execution": {
     "iopub.execute_input": "2021-10-07T10:08:03.921504Z",
     "iopub.status.busy": "2021-10-07T10:08:03.921001Z",
     "iopub.status.idle": "2021-10-07T10:08:03.935695Z",
     "shell.execute_reply": "2021-10-07T10:08:03.935284Z"
    },
    "papermill": {
     "duration": 0.044756,
     "end_time": "2021-10-07T10:08:03.935818",
     "exception": false,
     "start_time": "2021-10-07T10:08:03.891062",
     "status": "completed"
    },
    "tags": []
   },
   "outputs": [
    {
     "data": {
      "text/plain": [
       "((11982, 28, 28), (1984, 28, 28))"
      ]
     },
     "execution_count": 13,
     "metadata": {},
     "output_type": "execute_result"
    }
   ],
   "source": [
    "X_train.shape, X_test.shape"
   ]
  },
  {
   "cell_type": "markdown",
   "id": "5ccf3f85",
   "metadata": {
    "papermill": {
     "duration": 0.026642,
     "end_time": "2021-10-07T10:08:03.989122",
     "exception": false,
     "start_time": "2021-10-07T10:08:03.962480",
     "status": "completed"
    },
    "tags": []
   },
   "source": [
    "We reshape the data to flatten the image pixels into a set of features or co-variates:"
   ]
  },
  {
   "cell_type": "code",
   "execution_count": 14,
   "id": "5286a4a3",
   "metadata": {
    "execution": {
     "iopub.execute_input": "2021-10-07T10:08:04.052797Z",
     "iopub.status.busy": "2021-10-07T10:08:04.052259Z",
     "iopub.status.idle": "2021-10-07T10:08:04.063181Z",
     "shell.execute_reply": "2021-10-07T10:08:04.062764Z"
    },
    "papermill": {
     "duration": 0.047542,
     "end_time": "2021-10-07T10:08:04.063306",
     "exception": false,
     "start_time": "2021-10-07T10:08:04.015764",
     "status": "completed"
    },
    "tags": []
   },
   "outputs": [
    {
     "data": {
      "text/plain": [
       "((11982, 784), (1984, 784))"
      ]
     },
     "execution_count": 14,
     "metadata": {},
     "output_type": "execute_result"
    }
   ],
   "source": [
    "X_train = X_train.reshape(X_train.shape[0], -1)\n",
    "X_test = X_test.reshape(X_test.shape[0], -1)\n",
    "X_train.shape, X_test.shape"
   ]
  },
  {
   "cell_type": "code",
   "execution_count": 15,
   "id": "73c5f88a",
   "metadata": {
    "execution": {
     "iopub.execute_input": "2021-10-07T10:08:04.141341Z",
     "iopub.status.busy": "2021-10-07T10:08:04.136667Z",
     "iopub.status.idle": "2021-10-07T10:08:04.146925Z",
     "shell.execute_reply": "2021-10-07T10:08:04.146496Z"
    },
    "papermill": {
     "duration": 0.056688,
     "end_time": "2021-10-07T10:08:04.147046",
     "exception": false,
     "start_time": "2021-10-07T10:08:04.090358",
     "status": "completed"
    },
    "tags": []
   },
   "outputs": [],
   "source": [
    "#Impoting functions from 'Kudzu'\n",
    "from kudzu.model import Model\n",
    "from kudzu.train import Learner\n",
    "from kudzu.optim import GD\n",
    "from kudzu.data import Data, Sampler,Dataloader\n",
    "\n",
    "from kudzu.callbacks import AccCallback\n",
    "from kudzu.callbacks import ClfCallback\n",
    "\n",
    "from kudzu.loss import MSE\n",
    "\n",
    "from kudzu.layer import Sigmoid,Relu\n",
    "from kudzu.layer import Affine"
   ]
  },
  {
   "cell_type": "markdown",
   "id": "bc01172a",
   "metadata": {
    "papermill": {
     "duration": 0.0275,
     "end_time": "2021-10-07T10:08:04.201652",
     "exception": false,
     "start_time": "2021-10-07T10:08:04.174152",
     "status": "completed"
    },
    "tags": []
   },
   "source": [
    "### Let us create a `Config` class, to store important parameters. \n",
    "This class essentially plays the role of a dictionary."
   ]
  },
  {
   "cell_type": "code",
   "execution_count": 16,
   "id": "978281aa",
   "metadata": {
    "execution": {
     "iopub.execute_input": "2021-10-07T10:08:04.259037Z",
     "iopub.status.busy": "2021-10-07T10:08:04.258516Z",
     "iopub.status.idle": "2021-10-07T10:08:04.271380Z",
     "shell.execute_reply": "2021-10-07T10:08:04.271819Z"
    },
    "papermill": {
     "duration": 0.043621,
     "end_time": "2021-10-07T10:08:04.271984",
     "exception": false,
     "start_time": "2021-10-07T10:08:04.228363",
     "status": "completed"
    },
    "tags": []
   },
   "outputs": [],
   "source": [
    "class Config:\n",
    "    pass\n",
    "config = Config()\n",
    "config.lr = 0.001\n",
    "config.num_epochs = 250\n",
    "config.bs = 50"
   ]
  },
  {
   "cell_type": "markdown",
   "id": "1385fa59",
   "metadata": {
    "papermill": {
     "duration": 0.02665,
     "end_time": "2021-10-07T10:08:04.325652",
     "exception": false,
     "start_time": "2021-10-07T10:08:04.299002",
     "status": "completed"
    },
    "tags": []
   },
   "source": [
    "### Running Models with the Training data\n",
    "Details about the network layers:\n",
    "- A first affine layer has 784 inputs and does 100 affine transforms. These are followed by a Relu\n",
    "- A second affine layer has 100 inputs from the 100 activations of the past layer, and does 100 affine transforms. These are followed by a Relu\n",
    "- A third affine layer has 100 activations and does 2 affine transformations to create an embedding for visualization. There is no non-linearity here.\n",
    "- A final \"logistic regression\" which has an affine transform from 2 inputs to 1 output, which is squeezed through a sigmoid.\n"
   ]
  },
  {
   "cell_type": "code",
   "execution_count": 17,
   "id": "2b9c66db",
   "metadata": {
    "execution": {
     "iopub.execute_input": "2021-10-07T10:08:04.383602Z",
     "iopub.status.busy": "2021-10-07T10:08:04.383085Z",
     "iopub.status.idle": "2021-10-07T10:08:04.399326Z",
     "shell.execute_reply": "2021-10-07T10:08:04.398908Z"
    },
    "papermill": {
     "duration": 0.047003,
     "end_time": "2021-10-07T10:08:04.399443",
     "exception": false,
     "start_time": "2021-10-07T10:08:04.352440",
     "status": "completed"
    },
    "tags": []
   },
   "outputs": [],
   "source": [
    "data = Data(X_train, y_train.reshape(-1,1))\n",
    "sampler = Sampler(data, config.bs, shuffle=True)\n",
    "\n",
    "dl = Dataloader(data, sampler)\n",
    "\n",
    "opt = GD(config.lr)\n",
    "loss = MSE()"
   ]
  },
  {
   "cell_type": "code",
   "execution_count": 18,
   "id": "b275e4c2",
   "metadata": {
    "execution": {
     "iopub.execute_input": "2021-10-07T10:08:04.457016Z",
     "iopub.status.busy": "2021-10-07T10:08:04.456499Z",
     "iopub.status.idle": "2021-10-07T10:08:04.469365Z",
     "shell.execute_reply": "2021-10-07T10:08:04.468950Z"
    },
    "papermill": {
     "duration": 0.043041,
     "end_time": "2021-10-07T10:08:04.469486",
     "exception": false,
     "start_time": "2021-10-07T10:08:04.426445",
     "status": "completed"
    },
    "tags": []
   },
   "outputs": [],
   "source": [
    "training_data_x = X_train\n",
    "testing_data_x = X_test\n",
    "training_data_y = y_train.reshape(-1,1)\n",
    "testing_data_y = y_test.reshape(-1,1)"
   ]
  },
  {
   "cell_type": "code",
   "execution_count": 19,
   "id": "76951160",
   "metadata": {
    "execution": {
     "iopub.execute_input": "2021-10-07T10:08:04.529153Z",
     "iopub.status.busy": "2021-10-07T10:08:04.528627Z",
     "iopub.status.idle": "2021-10-07T10:08:04.544922Z",
     "shell.execute_reply": "2021-10-07T10:08:04.544506Z"
    },
    "papermill": {
     "duration": 0.048705,
     "end_time": "2021-10-07T10:08:04.545045",
     "exception": false,
     "start_time": "2021-10-07T10:08:04.496340",
     "status": "completed"
    },
    "tags": []
   },
   "outputs": [
    {
     "name": "stdout",
     "output_type": "stream",
     "text": [
      "xavier\n",
      "xavier\n",
      "xavier\n",
      "xavier\n",
      "xavier\n"
     ]
    }
   ],
   "source": [
    "layers = [Affine(\"first\", 784, 100), Relu(\"first\"), Affine(\"second\", 100, 100), Relu(\"second\"), Affine(\"third\", 100, 2), Affine(\"last\", 2, 1), Sigmoid(\"last\")]\n",
    "model_nn = Model(layers)\n",
    "model_lr = Model([Affine(\"logits\", 784, 1), Sigmoid(\"sigmoid\")])"
   ]
  },
  {
   "cell_type": "code",
   "execution_count": 20,
   "id": "6eede77a",
   "metadata": {
    "execution": {
     "iopub.execute_input": "2021-10-07T10:08:04.605283Z",
     "iopub.status.busy": "2021-10-07T10:08:04.604760Z",
     "iopub.status.idle": "2021-10-07T10:08:04.617212Z",
     "shell.execute_reply": "2021-10-07T10:08:04.616746Z"
    },
    "papermill": {
     "duration": 0.044749,
     "end_time": "2021-10-07T10:08:04.617329",
     "exception": false,
     "start_time": "2021-10-07T10:08:04.572580",
     "status": "completed"
    },
    "tags": []
   },
   "outputs": [],
   "source": [
    "nn_learner = Learner(loss, model_nn, opt, config.num_epochs)\n",
    "acc_nn = ClfCallback(nn_learner, config.bs, training_data_x , testing_data_x, training_data_y, testing_data_y)\n",
    "nn_learner.set_callbacks([acc_nn])"
   ]
  },
  {
   "cell_type": "code",
   "execution_count": 21,
   "id": "877b6cc7",
   "metadata": {
    "execution": {
     "iopub.execute_input": "2021-10-07T10:08:04.677563Z",
     "iopub.status.busy": "2021-10-07T10:08:04.677052Z",
     "iopub.status.idle": "2021-10-07T10:08:04.688593Z",
     "shell.execute_reply": "2021-10-07T10:08:04.688153Z"
    },
    "papermill": {
     "duration": 0.044185,
     "end_time": "2021-10-07T10:08:04.688707",
     "exception": false,
     "start_time": "2021-10-07T10:08:04.644522",
     "status": "completed"
    },
    "tags": []
   },
   "outputs": [],
   "source": [
    "lr_learner = Learner(loss, model_lr, opt, config.num_epochs)\n",
    "acc_lr = ClfCallback(lr_learner, config.bs, training_data_x , testing_data_x, training_data_y, testing_data_y)\n",
    "lr_learner.set_callbacks([acc_lr])"
   ]
  },
  {
   "cell_type": "code",
   "execution_count": 22,
   "id": "d9b133c3",
   "metadata": {
    "execution": {
     "iopub.execute_input": "2021-10-07T10:08:04.747128Z",
     "iopub.status.busy": "2021-10-07T10:08:04.746612Z",
     "iopub.status.idle": "2021-10-07T10:09:24.577672Z",
     "shell.execute_reply": "2021-10-07T10:09:24.578522Z"
    },
    "papermill": {
     "duration": 79.862441,
     "end_time": "2021-10-07T10:09:24.578701",
     "exception": false,
     "start_time": "2021-10-07T10:08:04.716260",
     "status": "completed"
    },
    "tags": []
   },
   "outputs": [
    {
     "name": "stdout",
     "output_type": "stream",
     "text": [
      "Epoch 0, Loss 0.2485\n",
      "Training Accuracy: 0.5499, Testing Accuracy: 0.5494\n",
      "\n"
     ]
    },
    {
     "name": "stdout",
     "output_type": "stream",
     "text": [
      "Epoch 10, Loss 0.1266\n",
      "Training Accuracy: 0.8978, Testing Accuracy: 0.9017\n",
      "\n"
     ]
    },
    {
     "name": "stdout",
     "output_type": "stream",
     "text": [
      "Epoch 20, Loss 0.0677\n",
      "Training Accuracy: 0.9298, Testing Accuracy: 0.9355\n",
      "\n"
     ]
    },
    {
     "name": "stdout",
     "output_type": "stream",
     "text": [
      "Epoch 30, Loss 0.0497\n",
      "Training Accuracy: 0.9446, Testing Accuracy: 0.9486\n",
      "\n"
     ]
    },
    {
     "name": "stdout",
     "output_type": "stream",
     "text": [
      "Epoch 40, Loss 0.0417\n",
      "Training Accuracy: 0.9527, Testing Accuracy: 0.9592\n",
      "\n"
     ]
    },
    {
     "name": "stdout",
     "output_type": "stream",
     "text": [
      "Epoch 50, Loss 0.0372\n",
      "Training Accuracy: 0.9566, Testing Accuracy: 0.9622\n",
      "\n"
     ]
    },
    {
     "name": "stdout",
     "output_type": "stream",
     "text": [
      "Epoch 60, Loss 0.0344\n",
      "Training Accuracy: 0.9600, Testing Accuracy: 0.9657\n",
      "\n"
     ]
    },
    {
     "name": "stdout",
     "output_type": "stream",
     "text": [
      "Epoch 70, Loss 0.0323\n",
      "Training Accuracy: 0.9633, Testing Accuracy: 0.9667\n",
      "\n"
     ]
    },
    {
     "name": "stdout",
     "output_type": "stream",
     "text": [
      "Epoch 80, Loss 0.0306\n",
      "Training Accuracy: 0.9647, Testing Accuracy: 0.9667\n",
      "\n"
     ]
    },
    {
     "name": "stdout",
     "output_type": "stream",
     "text": [
      "Epoch 90, Loss 0.0293\n",
      "Training Accuracy: 0.9660, Testing Accuracy: 0.9667\n",
      "\n"
     ]
    },
    {
     "name": "stdout",
     "output_type": "stream",
     "text": [
      "Epoch 100, Loss 0.0282\n",
      "Training Accuracy: 0.9674, Testing Accuracy: 0.9682\n",
      "\n"
     ]
    },
    {
     "name": "stdout",
     "output_type": "stream",
     "text": [
      "Epoch 110, Loss 0.0272\n",
      "Training Accuracy: 0.9685, Testing Accuracy: 0.9693\n",
      "\n"
     ]
    },
    {
     "name": "stdout",
     "output_type": "stream",
     "text": [
      "Epoch 120, Loss 0.0263\n",
      "Training Accuracy: 0.9696, Testing Accuracy: 0.9688\n",
      "\n"
     ]
    },
    {
     "name": "stdout",
     "output_type": "stream",
     "text": [
      "Epoch 130, Loss 0.0256\n",
      "Training Accuracy: 0.9701, Testing Accuracy: 0.9693\n",
      "\n"
     ]
    },
    {
     "name": "stdout",
     "output_type": "stream",
     "text": [
      "Epoch 140, Loss 0.0249\n",
      "Training Accuracy: 0.9710, Testing Accuracy: 0.9703\n",
      "\n"
     ]
    },
    {
     "name": "stdout",
     "output_type": "stream",
     "text": [
      "Epoch 150, Loss 0.0242\n",
      "Training Accuracy: 0.9719, Testing Accuracy: 0.9708\n",
      "\n"
     ]
    },
    {
     "name": "stdout",
     "output_type": "stream",
     "text": [
      "Epoch 160, Loss 0.0236\n",
      "Training Accuracy: 0.9728, Testing Accuracy: 0.9703\n",
      "\n"
     ]
    },
    {
     "name": "stdout",
     "output_type": "stream",
     "text": [
      "Epoch 170, Loss 0.0231\n",
      "Training Accuracy: 0.9735, Testing Accuracy: 0.9713\n",
      "\n"
     ]
    },
    {
     "name": "stdout",
     "output_type": "stream",
     "text": [
      "Epoch 180, Loss 0.0226\n",
      "Training Accuracy: 0.9739, Testing Accuracy: 0.9718\n",
      "\n"
     ]
    },
    {
     "name": "stdout",
     "output_type": "stream",
     "text": [
      "Epoch 190, Loss 0.0221\n",
      "Training Accuracy: 0.9745, Testing Accuracy: 0.9718\n",
      "\n"
     ]
    },
    {
     "name": "stdout",
     "output_type": "stream",
     "text": [
      "Epoch 200, Loss 0.0216\n",
      "Training Accuracy: 0.9751, Testing Accuracy: 0.9723\n",
      "\n"
     ]
    },
    {
     "name": "stdout",
     "output_type": "stream",
     "text": [
      "Epoch 210, Loss 0.0212\n",
      "Training Accuracy: 0.9755, Testing Accuracy: 0.9718\n",
      "\n"
     ]
    },
    {
     "name": "stdout",
     "output_type": "stream",
     "text": [
      "Epoch 220, Loss 0.0207\n",
      "Training Accuracy: 0.9762, Testing Accuracy: 0.9733\n",
      "\n"
     ]
    },
    {
     "name": "stdout",
     "output_type": "stream",
     "text": [
      "Epoch 230, Loss 0.0203\n",
      "Training Accuracy: 0.9766, Testing Accuracy: 0.9728\n",
      "\n"
     ]
    },
    {
     "name": "stdout",
     "output_type": "stream",
     "text": [
      "Epoch 240, Loss 0.0199\n",
      "Training Accuracy: 0.9774, Testing Accuracy: 0.9738\n",
      "\n"
     ]
    },
    {
     "data": {
      "text/plain": [
       "0.002929223150930005"
      ]
     },
     "execution_count": 22,
     "metadata": {},
     "output_type": "execute_result"
    }
   ],
   "source": [
    "nn_learner.train_loop(dl)"
   ]
  },
  {
   "cell_type": "code",
   "execution_count": 23,
   "id": "e0163366",
   "metadata": {
    "execution": {
     "iopub.execute_input": "2021-10-07T10:09:24.661927Z",
     "iopub.status.busy": "2021-10-07T10:09:24.661353Z",
     "iopub.status.idle": "2021-10-07T10:09:39.138892Z",
     "shell.execute_reply": "2021-10-07T10:09:39.139667Z"
    },
    "papermill": {
     "duration": 14.525552,
     "end_time": "2021-10-07T10:09:39.139870",
     "exception": false,
     "start_time": "2021-10-07T10:09:24.614318",
     "status": "completed"
    },
    "tags": []
   },
   "outputs": [
    {
     "name": "stdout",
     "output_type": "stream",
     "text": [
      "Epoch 0, Loss 0.2889\n",
      "Training Accuracy: 0.4866, Testing Accuracy: 0.5156\n",
      "\n"
     ]
    },
    {
     "name": "stdout",
     "output_type": "stream",
     "text": [
      "Epoch 10, Loss 0.1064\n",
      "Training Accuracy: 0.9092, Testing Accuracy: 0.9178\n",
      "\n"
     ]
    },
    {
     "name": "stdout",
     "output_type": "stream",
     "text": [
      "Epoch 20, Loss 0.08\n",
      "Training Accuracy: 0.9294, Testing Accuracy: 0.9375\n",
      "\n"
     ]
    },
    {
     "name": "stdout",
     "output_type": "stream",
     "text": [
      "Epoch 30, Loss 0.0684\n",
      "Training Accuracy: 0.9378, Testing Accuracy: 0.9471\n",
      "\n"
     ]
    },
    {
     "name": "stdout",
     "output_type": "stream",
     "text": [
      "Epoch 40, Loss 0.0615\n",
      "Training Accuracy: 0.9431, Testing Accuracy: 0.9511\n",
      "\n"
     ]
    },
    {
     "name": "stdout",
     "output_type": "stream",
     "text": [
      "Epoch 50, Loss 0.0569\n",
      "Training Accuracy: 0.9462, Testing Accuracy: 0.9546\n",
      "\n"
     ]
    },
    {
     "name": "stdout",
     "output_type": "stream",
     "text": [
      "Epoch 60, Loss 0.0536\n",
      "Training Accuracy: 0.9483, Testing Accuracy: 0.9572\n",
      "\n"
     ]
    },
    {
     "name": "stdout",
     "output_type": "stream",
     "text": [
      "Epoch 70, Loss 0.051\n",
      "Training Accuracy: 0.9500, Testing Accuracy: 0.9602\n",
      "\n"
     ]
    },
    {
     "name": "stdout",
     "output_type": "stream",
     "text": [
      "Epoch 80, Loss 0.0489\n",
      "Training Accuracy: 0.9511, Testing Accuracy: 0.9622\n",
      "\n"
     ]
    },
    {
     "name": "stdout",
     "output_type": "stream",
     "text": [
      "Epoch 90, Loss 0.0472\n",
      "Training Accuracy: 0.9524, Testing Accuracy: 0.9632\n",
      "\n"
     ]
    },
    {
     "name": "stdout",
     "output_type": "stream",
     "text": [
      "Epoch 100, Loss 0.0458\n",
      "Training Accuracy: 0.9538, Testing Accuracy: 0.9632\n",
      "\n"
     ]
    },
    {
     "name": "stdout",
     "output_type": "stream",
     "text": [
      "Epoch 110, Loss 0.0446\n",
      "Training Accuracy: 0.9548, Testing Accuracy: 0.9642\n",
      "\n"
     ]
    },
    {
     "name": "stdout",
     "output_type": "stream",
     "text": [
      "Epoch 120, Loss 0.0436\n",
      "Training Accuracy: 0.9553, Testing Accuracy: 0.9652\n",
      "\n"
     ]
    },
    {
     "name": "stdout",
     "output_type": "stream",
     "text": [
      "Epoch 130, Loss 0.0426\n",
      "Training Accuracy: 0.9561, Testing Accuracy: 0.9652\n",
      "\n"
     ]
    },
    {
     "name": "stdout",
     "output_type": "stream",
     "text": [
      "Epoch 140, Loss 0.0418\n",
      "Training Accuracy: 0.9570, Testing Accuracy: 0.9657\n",
      "\n"
     ]
    },
    {
     "name": "stdout",
     "output_type": "stream",
     "text": [
      "Epoch 150, Loss 0.0411\n",
      "Training Accuracy: 0.9582, Testing Accuracy: 0.9662\n",
      "\n"
     ]
    },
    {
     "name": "stdout",
     "output_type": "stream",
     "text": [
      "Epoch 160, Loss 0.0404\n",
      "Training Accuracy: 0.9586, Testing Accuracy: 0.9662\n",
      "\n"
     ]
    },
    {
     "name": "stdout",
     "output_type": "stream",
     "text": [
      "Epoch 170, Loss 0.0398\n",
      "Training Accuracy: 0.9589, Testing Accuracy: 0.9672\n",
      "\n"
     ]
    },
    {
     "name": "stdout",
     "output_type": "stream",
     "text": [
      "Epoch 180, Loss 0.0392\n",
      "Training Accuracy: 0.9592, Testing Accuracy: 0.9682\n",
      "\n"
     ]
    },
    {
     "name": "stdout",
     "output_type": "stream",
     "text": [
      "Epoch 190, Loss 0.0387\n",
      "Training Accuracy: 0.9596, Testing Accuracy: 0.9677\n",
      "\n"
     ]
    },
    {
     "name": "stdout",
     "output_type": "stream",
     "text": [
      "Epoch 200, Loss 0.0383\n",
      "Training Accuracy: 0.9604, Testing Accuracy: 0.9677\n",
      "\n"
     ]
    },
    {
     "name": "stdout",
     "output_type": "stream",
     "text": [
      "Epoch 210, Loss 0.0378\n",
      "Training Accuracy: 0.9604, Testing Accuracy: 0.9677\n",
      "\n"
     ]
    },
    {
     "name": "stdout",
     "output_type": "stream",
     "text": [
      "Epoch 220, Loss 0.0374\n",
      "Training Accuracy: 0.9605, Testing Accuracy: 0.9677\n",
      "\n"
     ]
    },
    {
     "name": "stdout",
     "output_type": "stream",
     "text": [
      "Epoch 230, Loss 0.037\n",
      "Training Accuracy: 0.9607, Testing Accuracy: 0.9677\n",
      "\n"
     ]
    },
    {
     "name": "stdout",
     "output_type": "stream",
     "text": [
      "Epoch 240, Loss 0.0367\n",
      "Training Accuracy: 0.9611, Testing Accuracy: 0.9682\n",
      "\n"
     ]
    },
    {
     "data": {
      "text/plain": [
       "0.010077238623489684"
      ]
     },
     "execution_count": 23,
     "metadata": {},
     "output_type": "execute_result"
    }
   ],
   "source": [
    "lr_learner.train_loop(dl)"
   ]
  },
  {
   "cell_type": "code",
   "execution_count": 24,
   "id": "ca410940",
   "metadata": {
    "execution": {
     "iopub.execute_input": "2021-10-07T10:09:39.233502Z",
     "iopub.status.busy": "2021-10-07T10:09:39.232943Z",
     "iopub.status.idle": "2021-10-07T10:09:39.465935Z",
     "shell.execute_reply": "2021-10-07T10:09:39.466693Z"
    },
    "papermill": {
     "duration": 0.285021,
     "end_time": "2021-10-07T10:09:39.466876",
     "exception": false,
     "start_time": "2021-10-07T10:09:39.181855",
     "status": "completed"
    },
    "tags": []
   },
   "outputs": [
    {
     "data": {
      "text/plain": [
       "<matplotlib.legend.Legend at 0x7f05a3d13940>"
      ]
     },
     "execution_count": 24,
     "metadata": {},
     "output_type": "execute_result"
    },
    {
     "data": {
      "image/png": "[encoded data removed]",
      "text/plain": [
       "<Figure size 1080x720 with 1 Axes>"
      ]
     },
     "metadata": {
      "needs_background": "light"
     },
     "output_type": "display_data"
    }
   ],
   "source": [
    "#comparing the results of NN and LR\n",
    "plt.figure(figsize=(15,10))\n",
    "\n",
    "# Neural Network plots\n",
    "plt.plot(acc_nn.accuracies, 'r-', label = \"Training Accuracies - NN\")\n",
    "plt.plot(acc_nn.test_accuracies, 'g-', label = \"Testing Accuracies - NN\")\n",
    "\n",
    "# Logistic Regression plots\n",
    "plt.plot(acc_lr.accuracies, 'k-', label = \"Training Accuracies - LR\")\n",
    "plt.plot(acc_lr.test_accuracies, 'b-', label = \"Testing Accuracies - LR\")\n",
    "plt.legend()"
   ]
  },
  {
   "cell_type": "markdown",
   "id": "80dfb35c",
   "metadata": {
    "papermill": {
     "duration": 0.042164,
     "end_time": "2021-10-07T10:09:39.551760",
     "exception": false,
     "start_time": "2021-10-07T10:09:39.509596",
     "status": "completed"
    },
    "tags": []
   },
   "source": [
    "#### Plotting the outputs of this layer of the NN.\n"
   ]
  },
  {
   "cell_type": "code",
   "execution_count": 25,
   "id": "45eb2ff5",
   "metadata": {
    "execution": {
     "iopub.execute_input": "2021-10-07T10:09:39.643332Z",
     "iopub.status.busy": "2021-10-07T10:09:39.642458Z",
     "iopub.status.idle": "2021-10-07T10:09:39.662935Z",
     "shell.execute_reply": "2021-10-07T10:09:39.663377Z"
    },
    "papermill": {
     "duration": 0.069529,
     "end_time": "2021-10-07T10:09:39.663545",
     "exception": false,
     "start_time": "2021-10-07T10:09:39.594016",
     "status": "completed"
    },
    "tags": []
   },
   "outputs": [],
   "source": [
    "new_model = Model(layers[:-2])\n",
    "testing_plot = new_model(testing_data_x)"
   ]
  },
  {
   "cell_type": "code",
   "execution_count": 26,
   "id": "4c0a5485",
   "metadata": {
    "execution": {
     "iopub.execute_input": "2021-10-07T10:09:39.765315Z",
     "iopub.status.busy": "2021-10-07T10:09:39.764768Z",
     "iopub.status.idle": "2021-10-07T10:09:39.967611Z",
     "shell.execute_reply": "2021-10-07T10:09:39.967116Z"
    },
    "papermill": {
     "duration": 0.257673,
     "end_time": "2021-10-07T10:09:39.967750",
     "exception": false,
     "start_time": "2021-10-07T10:09:39.710077",
     "status": "completed"
    },
    "tags": []
   },
   "outputs": [
    {
     "data": {
      "text/plain": [
       "Text(0.5, 1.0, 'Outputs')"
      ]
     },
     "execution_count": 26,
     "metadata": {},
     "output_type": "execute_result"
    },
    {
     "data": {
      "image/png": "[encoded data removed]",
      "text/plain": [
       "<Figure size 576x504 with 1 Axes>"
      ]
     },
     "metadata": {
      "needs_background": "light"
     },
     "output_type": "display_data"
    }
   ],
   "source": [
    "# Plotting the scatter plot of points and color coding by class\n",
    "plt.figure(figsize=(8,7))\n",
    "plt.scatter(testing_plot[:,0], testing_plot[:,1], alpha = 0.1, c = y_test.ravel());\n",
    "plt.title('Outputs')"
   ]
  },
  {
   "cell_type": "markdown",
   "id": "a74fcf8f",
   "metadata": {
    "papermill": {
     "duration": 0.044467,
     "end_time": "2021-10-07T10:09:40.057063",
     "exception": false,
     "start_time": "2021-10-07T10:09:40.012596",
     "status": "completed"
    },
    "tags": []
   },
   "source": [
    "Probability contours"
   ]
  },
  {
   "cell_type": "code",
   "execution_count": 27,
   "id": "d0afc8e3",
   "metadata": {
    "execution": {
     "iopub.execute_input": "2021-10-07T10:09:40.151165Z",
     "iopub.status.busy": "2021-10-07T10:09:40.150623Z",
     "iopub.status.idle": "2021-10-07T10:09:40.164369Z",
     "shell.execute_reply": "2021-10-07T10:09:40.163939Z"
    },
    "papermill": {
     "duration": 0.062218,
     "end_time": "2021-10-07T10:09:40.164498",
     "exception": false,
     "start_time": "2021-10-07T10:09:40.102280",
     "status": "completed"
    },
    "tags": []
   },
   "outputs": [],
   "source": [
    "model_prob = Model(layers[-2:]) "
   ]
  },
  {
   "cell_type": "code",
   "execution_count": 28,
   "id": "9b96e238",
   "metadata": {
    "execution": {
     "iopub.execute_input": "2021-10-07T10:09:40.261179Z",
     "iopub.status.busy": "2021-10-07T10:09:40.260654Z",
     "iopub.status.idle": "2021-10-07T10:09:40.274460Z",
     "shell.execute_reply": "2021-10-07T10:09:40.274841Z"
    },
    "papermill": {
     "duration": 0.065984,
     "end_time": "2021-10-07T10:09:40.274991",
     "exception": false,
     "start_time": "2021-10-07T10:09:40.209007",
     "status": "completed"
    },
    "tags": []
   },
   "outputs": [],
   "source": [
    "#creating the x and y ranges according to the above generated plot.\n",
    "x_range = np.linspace(-4, 1, 100) \n",
    "y_range = np.linspace(-6, 6, 100) \n",
    "x_grid, y_grid = np.meshgrid(x_range, y_range) # x_grid and y_grig are of size 100 X 100\n",
    "\n",
    "# converting x_grid and y_grid to continuous arrays\n",
    "x_gridflat = np.ravel(x_grid)\n",
    "y_gridflat = np.ravel(y_grid)\n",
    "\n",
    "# The last layer of the current model takes two columns as input. Hence transpose of np.vstack() is required.\n",
    "X = np.vstack((x_gridflat, y_gridflat)).T\n",
    "\n",
    "prob_contour = model_prob(X).reshape(100,100) "
   ]
  },
  {
   "cell_type": "code",
   "execution_count": 29,
   "id": "da72499a",
   "metadata": {
    "execution": {
     "iopub.execute_input": "2021-10-07T10:09:40.421103Z",
     "iopub.status.busy": "2021-10-07T10:09:40.420566Z",
     "iopub.status.idle": "2021-10-07T10:09:40.671182Z",
     "shell.execute_reply": "2021-10-07T10:09:40.670342Z"
    },
    "papermill": {
     "duration": 0.343417,
     "end_time": "2021-10-07T10:09:40.671338",
     "exception": false,
     "start_time": "2021-10-07T10:09:40.327921",
     "status": "completed"
    },
    "tags": []
   },
   "outputs": [
    {
     "data": {
      "image/png": "[encoded data removed]",
      "text/plain": [
       "<Figure size 720x648 with 1 Axes>"
      ]
     },
     "metadata": {
      "needs_background": "light"
     },
     "output_type": "display_data"
    }
   ],
   "source": [
    "plt.figure(figsize=(10,9))\n",
    "plt.scatter(testing_plot[:,0], testing_plot[:,1], alpha = 0.1, c = y_test.ravel())\n",
    "contours = plt.contour(x_grid,y_grid,prob_contour)\n",
    "plt.title('Probability Contours')\n",
    "plt.clabel(contours, inline = True );"
   ]
  },
  {
   "cell_type": "code",
   "execution_count": null,
   "id": "e81b4ac7",
   "metadata": {
    "papermill": {
     "duration": 0.047557,
     "end_time": "2021-10-07T10:09:40.767324",
     "exception": false,
     "start_time": "2021-10-07T10:09:40.719767",
     "status": "completed"
    },
    "tags": []
   },
   "outputs": [],
   "source": []
  }
 ],
 "metadata": {
  "kernelspec": {
   "display_name": "Python 3",
   "language": "python",
   "name": "python3"
  },
  "language_info": {
   "codemirror_mode": {
    "name": "ipython",
    "version": 3
   },
   "file_extension": ".py",
   "mimetype": "text/x-python",
   "name": "python",
   "nbconvert_exporter": "python",
   "pygments_lexer": "ipython3",
   "version": "3.6.15"
  },
  "papermill": {
   "default_parameters": {},
   "duration": 103.61556,
   "end_time": "2021-10-07T10:09:41.225219",
   "environment_variables": {},
   "exception": null,
   "input_path": "2020-08-11-part2.ipynb",
   "output_path": "2020-08-11-part2.ipynb",
   "parameters": {},
   "start_time": "2021-10-07T10:07:57.609659",
   "version": "2.3.3"
  }
 },
 "nbformat": 4,
 "nbformat_minor": 5
}