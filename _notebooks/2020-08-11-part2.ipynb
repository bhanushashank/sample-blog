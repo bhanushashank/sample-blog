{
 "cells": [
  {
   "cell_type": "markdown",
   "id": "98380cd3",
   "metadata": {
    "papermill": {
     "duration": 0.028764,
     "end_time": "2022-04-25T10:10:20.414662",
     "exception": false,
     "start_time": "2022-04-25T10:10:20.385898",
     "status": "completed"
    },
    "tags": []
   },
   "source": [
    "# Distinguish Your Own Digits (DYOD)"
   ]
  },
  {
   "cell_type": "markdown",
   "id": "ef31240d",
   "metadata": {
    "papermill": {
     "duration": 0.025735,
     "end_time": "2022-04-25T10:10:20.465214",
     "exception": false,
     "start_time": "2022-04-25T10:10:20.439479",
     "status": "completed"
    },
    "tags": []
   },
   "source": [
    "You are going to write a classifier that distinguishes between the number 3 and number 8."
   ]
  },
  {
   "cell_type": "code",
   "execution_count": 1,
   "id": "b15c8646",
   "metadata": {
    "execution": {
     "iopub.execute_input": "2022-04-25T10:10:20.523710Z",
     "iopub.status.busy": "2022-04-25T10:10:20.523150Z",
     "iopub.status.idle": "2022-04-25T10:10:20.533224Z",
     "shell.execute_reply": "2022-04-25T10:10:20.533617Z"
    },
    "papermill": {
     "duration": 0.044549,
     "end_time": "2022-04-25T10:10:20.533784",
     "exception": false,
     "start_time": "2022-04-25T10:10:20.489235",
     "status": "completed"
    },
    "tags": []
   },
   "outputs": [],
   "source": [
    "%load_ext autoreload\n",
    "%autoreload 2"
   ]
  },
  {
   "cell_type": "code",
   "execution_count": 2,
   "id": "22ef38dc",
   "metadata": {
    "execution": {
     "iopub.execute_input": "2022-04-25T10:10:20.589367Z",
     "iopub.status.busy": "2022-04-25T10:10:20.588812Z",
     "iopub.status.idle": "2022-04-25T10:10:21.174215Z",
     "shell.execute_reply": "2022-04-25T10:10:21.173709Z"
    },
    "papermill": {
     "duration": 0.6157,
     "end_time": "2022-04-25T10:10:21.174345",
     "exception": false,
     "start_time": "2022-04-25T10:10:20.558645",
     "status": "completed"
    },
    "tags": []
   },
   "outputs": [],
   "source": [
    "%matplotlib inline\n",
    "import numpy as np\n",
    "import matplotlib.pyplot as plt\n",
    "import pandas as pd"
   ]
  },
  {
   "cell_type": "markdown",
   "id": "ba036198",
   "metadata": {
    "papermill": {
     "duration": 0.024237,
     "end_time": "2022-04-25T10:10:21.222805",
     "exception": false,
     "start_time": "2022-04-25T10:10:21.198568",
     "status": "completed"
    },
    "tags": []
   },
   "source": [
    "From the command line run `pip install mnist`. This is a library that will help you bring down the mnist dataset. If you run this from a notebook, you need to put  `!pip install mnist` in a cell by itself."
   ]
  },
  {
   "cell_type": "code",
   "execution_count": 3,
   "id": "bb6ad8a1",
   "metadata": {
    "execution": {
     "iopub.execute_input": "2022-04-25T10:10:21.275927Z",
     "iopub.status.busy": "2022-04-25T10:10:21.275385Z",
     "iopub.status.idle": "2022-04-25T10:10:23.036475Z",
     "shell.execute_reply": "2022-04-25T10:10:23.035928Z"
    },
    "papermill": {
     "duration": 1.789474,
     "end_time": "2022-04-25T10:10:23.036631",
     "exception": false,
     "start_time": "2022-04-25T10:10:21.247157",
     "status": "completed"
    },
    "tags": []
   },
   "outputs": [
    {
     "name": "stdout",
     "output_type": "stream",
     "text": [
      "Collecting mnist\r\n"
     ]
    },
    {
     "name": "stdout",
     "output_type": "stream",
     "text": [
      "  Downloading mnist-0.2.2-py2.py3-none-any.whl (3.5 kB)\r\n",
      "Requirement already satisfied: numpy in /opt/hostedtoolcache/Python/3.6.15/x64/lib/python3.6/site-packages (from mnist) (1.19.5)\r\n"
     ]
    },
    {
     "name": "stdout",
     "output_type": "stream",
     "text": [
      "Installing collected packages: mnist\r\n"
     ]
    },
    {
     "name": "stdout",
     "output_type": "stream",
     "text": [
      "Successfully installed mnist-0.2.2\r\n"
     ]
    }
   ],
   "source": [
    "!pip install mnist"
   ]
  },
  {
   "cell_type": "markdown",
   "id": "69df9c9a",
   "metadata": {
    "papermill": {
     "duration": 0.025614,
     "end_time": "2022-04-25T10:10:23.087606",
     "exception": false,
     "start_time": "2022-04-25T10:10:23.061992",
     "status": "completed"
    },
    "tags": []
   },
   "source": [
    "## Preparing the Data"
   ]
  },
  {
   "cell_type": "code",
   "execution_count": 4,
   "id": "7f69d806",
   "metadata": {
    "execution": {
     "iopub.execute_input": "2022-04-25T10:10:23.146086Z",
     "iopub.status.busy": "2022-04-25T10:10:23.145561Z",
     "iopub.status.idle": "2022-04-25T10:10:23.158301Z",
     "shell.execute_reply": "2022-04-25T10:10:23.158724Z"
    },
    "papermill": {
     "duration": 0.046093,
     "end_time": "2022-04-25T10:10:23.158866",
     "exception": false,
     "start_time": "2022-04-25T10:10:23.112773",
     "status": "completed"
    },
    "tags": []
   },
   "outputs": [],
   "source": [
    "import mnist"
   ]
  },
  {
   "cell_type": "code",
   "execution_count": 5,
   "id": "a411e44f",
   "metadata": {
    "execution": {
     "iopub.execute_input": "2022-04-25T10:10:23.213777Z",
     "iopub.status.busy": "2022-04-25T10:10:23.213254Z",
     "iopub.status.idle": "2022-04-25T10:10:24.014980Z",
     "shell.execute_reply": "2022-04-25T10:10:24.014452Z"
    },
    "papermill": {
     "duration": 0.830939,
     "end_time": "2022-04-25T10:10:24.015116",
     "exception": false,
     "start_time": "2022-04-25T10:10:23.184177",
     "status": "completed"
    },
    "tags": []
   },
   "outputs": [],
   "source": [
    "train_images = mnist.train_images()\n",
    "train_labels = mnist.train_labels()"
   ]
  },
  {
   "cell_type": "code",
   "execution_count": 6,
   "id": "dceab3a5",
   "metadata": {
    "execution": {
     "iopub.execute_input": "2022-04-25T10:10:24.072263Z",
     "iopub.status.busy": "2022-04-25T10:10:24.071699Z",
     "iopub.status.idle": "2022-04-25T10:10:24.087160Z",
     "shell.execute_reply": "2022-04-25T10:10:24.086674Z"
    },
    "papermill": {
     "duration": 0.04672,
     "end_time": "2022-04-25T10:10:24.087292",
     "exception": false,
     "start_time": "2022-04-25T10:10:24.040572",
     "status": "completed"
    },
    "tags": []
   },
   "outputs": [
    {
     "data": {
      "text/plain": [
       "((60000, 28, 28), (60000,))"
      ]
     },
     "execution_count": 6,
     "metadata": {},
     "output_type": "execute_result"
    }
   ],
   "source": [
    "train_images.shape, train_labels.shape"
   ]
  },
  {
   "cell_type": "code",
   "execution_count": 7,
   "id": "f50dc2bb",
   "metadata": {
    "execution": {
     "iopub.execute_input": "2022-04-25T10:10:24.142623Z",
     "iopub.status.busy": "2022-04-25T10:10:24.142098Z",
     "iopub.status.idle": "2022-04-25T10:10:24.366922Z",
     "shell.execute_reply": "2022-04-25T10:10:24.366369Z"
    },
    "papermill": {
     "duration": 0.254367,
     "end_time": "2022-04-25T10:10:24.367091",
     "exception": false,
     "start_time": "2022-04-25T10:10:24.112724",
     "status": "completed"
    },
    "tags": []
   },
   "outputs": [],
   "source": [
    "test_images = mnist.test_images()\n",
    "test_labels = mnist.test_labels()"
   ]
  },
  {
   "cell_type": "code",
   "execution_count": 8,
   "id": "fc38cf1b",
   "metadata": {
    "execution": {
     "iopub.execute_input": "2022-04-25T10:10:24.422620Z",
     "iopub.status.busy": "2022-04-25T10:10:24.422103Z",
     "iopub.status.idle": "2022-04-25T10:10:24.436336Z",
     "shell.execute_reply": "2022-04-25T10:10:24.435906Z"
    },
    "papermill": {
     "duration": 0.0433,
     "end_time": "2022-04-25T10:10:24.436460",
     "exception": false,
     "start_time": "2022-04-25T10:10:24.393160",
     "status": "completed"
    },
    "tags": []
   },
   "outputs": [
    {
     "data": {
      "text/plain": [
       "((10000, 28, 28), (10000,))"
      ]
     },
     "execution_count": 8,
     "metadata": {},
     "output_type": "execute_result"
    }
   ],
   "source": [
    "test_images.shape, test_labels.shape"
   ]
  },
  {
   "cell_type": "code",
   "execution_count": 9,
   "id": "f9ed8fe0",
   "metadata": {
    "execution": {
     "iopub.execute_input": "2022-04-25T10:10:24.492539Z",
     "iopub.status.busy": "2022-04-25T10:10:24.492007Z",
     "iopub.status.idle": "2022-04-25T10:10:24.630615Z",
     "shell.execute_reply": "2022-04-25T10:10:24.631126Z"
    },
    "papermill": {
     "duration": 0.169207,
     "end_time": "2022-04-25T10:10:24.631292",
     "exception": false,
     "start_time": "2022-04-25T10:10:24.462085",
     "status": "completed"
    },
    "tags": []
   },
   "outputs": [
    {
     "name": "stdout",
     "output_type": "stream",
     "text": [
      "2\n"
     ]
    },
    {
     "data": {
      "text/plain": [
       "<matplotlib.image.AxesImage at 0x7f871d3403c8>"
      ]
     },
     "execution_count": 9,
     "metadata": {},
     "output_type": "execute_result"
    },
    {
     "data": {
      "image/png": "[encoded data removed]",
      "text/plain": [
       "<Figure size 432x288 with 1 Axes>"
      ]
     },
     "metadata": {
      "needs_background": "light"
     },
     "output_type": "display_data"
    }
   ],
   "source": [
    "image_index = 7776 # You may select anything up to 60,000\n",
    "print(train_labels[image_index]) \n",
    "plt.imshow(train_images[image_index], cmap='Greys')"
   ]
  },
  {
   "cell_type": "markdown",
   "id": "a8d2388d",
   "metadata": {
    "papermill": {
     "duration": 0.027004,
     "end_time": "2022-04-25T10:10:24.685602",
     "exception": false,
     "start_time": "2022-04-25T10:10:24.658598",
     "status": "completed"
    },
    "tags": []
   },
   "source": [
    "## Filter data to get 3 and 8 out"
   ]
  },
  {
   "cell_type": "code",
   "execution_count": 10,
   "id": "776f7fc7",
   "metadata": {
    "execution": {
     "iopub.execute_input": "2022-04-25T10:10:24.756747Z",
     "iopub.status.busy": "2022-04-25T10:10:24.751947Z",
     "iopub.status.idle": "2022-04-25T10:10:24.763702Z",
     "shell.execute_reply": "2022-04-25T10:10:24.764120Z"
    },
    "papermill": {
     "duration": 0.051928,
     "end_time": "2022-04-25T10:10:24.764267",
     "exception": false,
     "start_time": "2022-04-25T10:10:24.712339",
     "status": "completed"
    },
    "tags": []
   },
   "outputs": [],
   "source": [
    "train_filter = np.where((train_labels == 3 ) | (train_labels == 8))\n",
    "test_filter = np.where((test_labels == 3) | (test_labels == 8))\n",
    "X_train, y_train = train_images[train_filter], train_labels[train_filter]\n",
    "X_test, y_test = test_images[test_filter], test_labels[test_filter]"
   ]
  },
  {
   "cell_type": "markdown",
   "id": "948f0b7e",
   "metadata": {
    "papermill": {
     "duration": 0.026736,
     "end_time": "2022-04-25T10:10:24.818239",
     "exception": false,
     "start_time": "2022-04-25T10:10:24.791503",
     "status": "completed"
    },
    "tags": []
   },
   "source": [
    "We normalize the pizel values in the 0 to 1 range"
   ]
  },
  {
   "cell_type": "code",
   "execution_count": 11,
   "id": "ee4c2166",
   "metadata": {
    "execution": {
     "iopub.execute_input": "2022-04-25T10:10:24.875811Z",
     "iopub.status.busy": "2022-04-25T10:10:24.874585Z",
     "iopub.status.idle": "2022-04-25T10:10:24.920924Z",
     "shell.execute_reply": "2022-04-25T10:10:24.919970Z"
    },
    "papermill": {
     "duration": 0.076288,
     "end_time": "2022-04-25T10:10:24.921069",
     "exception": false,
     "start_time": "2022-04-25T10:10:24.844781",
     "status": "completed"
    },
    "tags": []
   },
   "outputs": [],
   "source": [
    "X_train = X_train/255.\n",
    "X_test = X_test/255."
   ]
  },
  {
   "cell_type": "markdown",
   "id": "ddcf4fab",
   "metadata": {
    "papermill": {
     "duration": 0.026679,
     "end_time": "2022-04-25T10:10:24.974825",
     "exception": false,
     "start_time": "2022-04-25T10:10:24.948146",
     "status": "completed"
    },
    "tags": []
   },
   "source": [
    "And setup the labels as 1 (when the digit is 3) and 0 (when the digit is 8)"
   ]
  },
  {
   "cell_type": "code",
   "execution_count": 12,
   "id": "7dc908f2",
   "metadata": {
    "execution": {
     "iopub.execute_input": "2022-04-25T10:10:25.032796Z",
     "iopub.status.busy": "2022-04-25T10:10:25.031842Z",
     "iopub.status.idle": "2022-04-25T10:10:25.044284Z",
     "shell.execute_reply": "2022-04-25T10:10:25.043740Z"
    },
    "papermill": {
     "duration": 0.042672,
     "end_time": "2022-04-25T10:10:25.044404",
     "exception": false,
     "start_time": "2022-04-25T10:10:25.001732",
     "status": "completed"
    },
    "tags": []
   },
   "outputs": [],
   "source": [
    "y_train = 1*(y_train==3)\n",
    "y_test = 1*(y_test==3)"
   ]
  },
  {
   "cell_type": "code",
   "execution_count": 13,
   "id": "01e4e969",
   "metadata": {
    "execution": {
     "iopub.execute_input": "2022-04-25T10:10:25.108641Z",
     "iopub.status.busy": "2022-04-25T10:10:25.108109Z",
     "iopub.status.idle": "2022-04-25T10:10:25.119156Z",
     "shell.execute_reply": "2022-04-25T10:10:25.119554Z"
    },
    "papermill": {
     "duration": 0.048336,
     "end_time": "2022-04-25T10:10:25.119698",
     "exception": false,
     "start_time": "2022-04-25T10:10:25.071362",
     "status": "completed"
    },
    "tags": []
   },
   "outputs": [
    {
     "data": {
      "text/plain": [
       "((11982, 28, 28), (1984, 28, 28))"
      ]
     },
     "execution_count": 13,
     "metadata": {},
     "output_type": "execute_result"
    }
   ],
   "source": [
    "X_train.shape, X_test.shape"
   ]
  },
  {
   "cell_type": "markdown",
   "id": "5ccf3f85",
   "metadata": {
    "papermill": {
     "duration": 0.026939,
     "end_time": "2022-04-25T10:10:25.173633",
     "exception": false,
     "start_time": "2022-04-25T10:10:25.146694",
     "status": "completed"
    },
    "tags": []
   },
   "source": [
    "We reshape the data to flatten the image pixels into a set of features or co-variates:"
   ]
  },
  {
   "cell_type": "code",
   "execution_count": 14,
   "id": "5286a4a3",
   "metadata": {
    "execution": {
     "iopub.execute_input": "2022-04-25T10:10:25.242792Z",
     "iopub.status.busy": "2022-04-25T10:10:25.236358Z",
     "iopub.status.idle": "2022-04-25T10:10:25.245400Z",
     "shell.execute_reply": "2022-04-25T10:10:25.245789Z"
    },
    "papermill": {
     "duration": 0.045237,
     "end_time": "2022-04-25T10:10:25.245934",
     "exception": false,
     "start_time": "2022-04-25T10:10:25.200697",
     "status": "completed"
    },
    "tags": []
   },
   "outputs": [
    {
     "data": {
      "text/plain": [
       "((11982, 784), (1984, 784))"
      ]
     },
     "execution_count": 14,
     "metadata": {},
     "output_type": "execute_result"
    }
   ],
   "source": [
    "X_train = X_train.reshape(X_train.shape[0], -1)\n",
    "X_test = X_test.reshape(X_test.shape[0], -1)\n",
    "X_train.shape, X_test.shape"
   ]
  },
  {
   "cell_type": "code",
   "execution_count": 15,
   "id": "73c5f88a",
   "metadata": {
    "execution": {
     "iopub.execute_input": "2022-04-25T10:10:25.308355Z",
     "iopub.status.busy": "2022-04-25T10:10:25.307811Z",
     "iopub.status.idle": "2022-04-25T10:10:25.325088Z",
     "shell.execute_reply": "2022-04-25T10:10:25.324661Z"
    },
    "papermill": {
     "duration": 0.051975,
     "end_time": "2022-04-25T10:10:25.325211",
     "exception": false,
     "start_time": "2022-04-25T10:10:25.273236",
     "status": "completed"
    },
    "tags": []
   },
   "outputs": [],
   "source": [
    "#Impoting functions from 'Kudzu'\n",
    "from kudzu.model import Model\n",
    "from kudzu.train import Learner\n",
    "from kudzu.optim import GD\n",
    "from kudzu.data import Data, Sampler,Dataloader\n",
    "\n",
    "from kudzu.callbacks import AccCallback\n",
    "from kudzu.callbacks import ClfCallback\n",
    "\n",
    "from kudzu.loss import MSE\n",
    "\n",
    "from kudzu.layer import Sigmoid,Relu\n",
    "from kudzu.layer import Affine"
   ]
  },
  {
   "cell_type": "markdown",
   "id": "bc01172a",
   "metadata": {
    "papermill": {
     "duration": 0.027505,
     "end_time": "2022-04-25T10:10:25.380139",
     "exception": false,
     "start_time": "2022-04-25T10:10:25.352634",
     "status": "completed"
    },
    "tags": []
   },
   "source": [
    "### Let us create a `Config` class, to store important parameters. \n",
    "This class essentially plays the role of a dictionary."
   ]
  },
  {
   "cell_type": "code",
   "execution_count": 16,
   "id": "978281aa",
   "metadata": {
    "execution": {
     "iopub.execute_input": "2022-04-25T10:10:25.448282Z",
     "iopub.status.busy": "2022-04-25T10:10:25.444029Z",
     "iopub.status.idle": "2022-04-25T10:10:25.453444Z",
     "shell.execute_reply": "2022-04-25T10:10:25.453002Z"
    },
    "papermill": {
     "duration": 0.046297,
     "end_time": "2022-04-25T10:10:25.453562",
     "exception": false,
     "start_time": "2022-04-25T10:10:25.407265",
     "status": "completed"
    },
    "tags": []
   },
   "outputs": [],
   "source": [
    "class Config:\n",
    "    pass\n",
    "config = Config()\n",
    "config.lr = 0.001\n",
    "config.num_epochs = 250\n",
    "config.bs = 50"
   ]
  },
  {
   "cell_type": "markdown",
   "id": "1385fa59",
   "metadata": {
    "papermill": {
     "duration": 0.027304,
     "end_time": "2022-04-25T10:10:25.508253",
     "exception": false,
     "start_time": "2022-04-25T10:10:25.480949",
     "status": "completed"
    },
    "tags": []
   },
   "source": [
    "### Running Models with the Training data\n",
    "Details about the network layers:\n",
    "- A first affine layer has 784 inputs and does 100 affine transforms. These are followed by a Relu\n",
    "- A second affine layer has 100 inputs from the 100 activations of the past layer, and does 100 affine transforms. These are followed by a Relu\n",
    "- A third affine layer has 100 activations and does 2 affine transformations to create an embedding for visualization. There is no non-linearity here.\n",
    "- A final \"logistic regression\" which has an affine transform from 2 inputs to 1 output, which is squeezed through a sigmoid.\n"
   ]
  },
  {
   "cell_type": "code",
   "execution_count": 17,
   "id": "2b9c66db",
   "metadata": {
    "execution": {
     "iopub.execute_input": "2022-04-25T10:10:25.582525Z",
     "iopub.status.busy": "2022-04-25T10:10:25.580360Z",
     "iopub.status.idle": "2022-04-25T10:10:25.585062Z",
     "shell.execute_reply": "2022-04-25T10:10:25.584390Z"
    },
    "papermill": {
     "duration": 0.049679,
     "end_time": "2022-04-25T10:10:25.585187",
     "exception": false,
     "start_time": "2022-04-25T10:10:25.535508",
     "status": "completed"
    },
    "tags": []
   },
   "outputs": [],
   "source": [
    "data = Data(X_train, y_train.reshape(-1,1))\n",
    "sampler = Sampler(data, config.bs, shuffle=True)\n",
    "\n",
    "dl = Dataloader(data, sampler)\n",
    "\n",
    "opt = GD(config.lr)\n",
    "loss = MSE()"
   ]
  },
  {
   "cell_type": "code",
   "execution_count": 18,
   "id": "b275e4c2",
   "metadata": {
    "execution": {
     "iopub.execute_input": "2022-04-25T10:10:25.644649Z",
     "iopub.status.busy": "2022-04-25T10:10:25.644127Z",
     "iopub.status.idle": "2022-04-25T10:10:25.657693Z",
     "shell.execute_reply": "2022-04-25T10:10:25.657263Z"
    },
    "papermill": {
     "duration": 0.045265,
     "end_time": "2022-04-25T10:10:25.657813",
     "exception": false,
     "start_time": "2022-04-25T10:10:25.612548",
     "status": "completed"
    },
    "tags": []
   },
   "outputs": [],
   "source": [
    "training_data_x = X_train\n",
    "testing_data_x = X_test\n",
    "training_data_y = y_train.reshape(-1,1)\n",
    "testing_data_y = y_test.reshape(-1,1)"
   ]
  },
  {
   "cell_type": "code",
   "execution_count": 19,
   "id": "76951160",
   "metadata": {
    "execution": {
     "iopub.execute_input": "2022-04-25T10:10:25.718246Z",
     "iopub.status.busy": "2022-04-25T10:10:25.717695Z",
     "iopub.status.idle": "2022-04-25T10:10:25.734898Z",
     "shell.execute_reply": "2022-04-25T10:10:25.734432Z"
    },
    "papermill": {
     "duration": 0.049869,
     "end_time": "2022-04-25T10:10:25.735048",
     "exception": false,
     "start_time": "2022-04-25T10:10:25.685179",
     "status": "completed"
    },
    "tags": []
   },
   "outputs": [
    {
     "name": "stdout",
     "output_type": "stream",
     "text": [
      "xavier\n",
      "xavier\n",
      "xavier\n",
      "xavier\n",
      "xavier\n"
     ]
    }
   ],
   "source": [
    "layers = [Affine(\"first\", 784, 100), Relu(\"first\"), Affine(\"second\", 100, 100), Relu(\"second\"), Affine(\"third\", 100, 2), Affine(\"last\", 2, 1), Sigmoid(\"last\")]\n",
    "model_nn = Model(layers)\n",
    "model_lr = Model([Affine(\"logits\", 784, 1), Sigmoid(\"sigmoid\")])"
   ]
  },
  {
   "cell_type": "code",
   "execution_count": 20,
   "id": "6eede77a",
   "metadata": {
    "execution": {
     "iopub.execute_input": "2022-04-25T10:10:25.796854Z",
     "iopub.status.busy": "2022-04-25T10:10:25.796333Z",
     "iopub.status.idle": "2022-04-25T10:10:25.807940Z",
     "shell.execute_reply": "2022-04-25T10:10:25.807511Z"
    },
    "papermill": {
     "duration": 0.044927,
     "end_time": "2022-04-25T10:10:25.808059",
     "exception": false,
     "start_time": "2022-04-25T10:10:25.763132",
     "status": "completed"
    },
    "tags": []
   },
   "outputs": [],
   "source": [
    "nn_learner = Learner(loss, model_nn, opt, config.num_epochs)\n",
    "acc_nn = ClfCallback(nn_learner, config.bs, training_data_x , testing_data_x, training_data_y, testing_data_y)\n",
    "nn_learner.set_callbacks([acc_nn])"
   ]
  },
  {
   "cell_type": "code",
   "execution_count": 21,
   "id": "877b6cc7",
   "metadata": {
    "execution": {
     "iopub.execute_input": "2022-04-25T10:10:25.880621Z",
     "iopub.status.busy": "2022-04-25T10:10:25.875829Z",
     "iopub.status.idle": "2022-04-25T10:10:25.882510Z",
     "shell.execute_reply": "2022-04-25T10:10:25.882899Z"
    },
    "papermill": {
     "duration": 0.047436,
     "end_time": "2022-04-25T10:10:25.883062",
     "exception": false,
     "start_time": "2022-04-25T10:10:25.835626",
     "status": "completed"
    },
    "tags": []
   },
   "outputs": [],
   "source": [
    "lr_learner = Learner(loss, model_lr, opt, config.num_epochs)\n",
    "acc_lr = ClfCallback(lr_learner, config.bs, training_data_x , testing_data_x, training_data_y, testing_data_y)\n",
    "lr_learner.set_callbacks([acc_lr])"
   ]
  },
  {
   "cell_type": "code",
   "execution_count": 22,
   "id": "d9b133c3",
   "metadata": {
    "execution": {
     "iopub.execute_input": "2022-04-25T10:10:25.948052Z",
     "iopub.status.busy": "2022-04-25T10:10:25.947508Z",
     "iopub.status.idle": "2022-04-25T10:11:45.028001Z",
     "shell.execute_reply": "2022-04-25T10:11:45.028750Z"
    },
    "papermill": {
     "duration": 79.118094,
     "end_time": "2022-04-25T10:11:45.028909",
     "exception": false,
     "start_time": "2022-04-25T10:10:25.910815",
     "status": "completed"
    },
    "tags": []
   },
   "outputs": [
    {
     "name": "stdout",
     "output_type": "stream",
     "text": [
      "Epoch 0, Loss 0.2388\n",
      "Training Accuracy: 0.6686, Testing Accuracy: 0.6956\n",
      "\n"
     ]
    },
    {
     "name": "stdout",
     "output_type": "stream",
     "text": [
      "Epoch 10, Loss 0.0819\n",
      "Training Accuracy: 0.9302, Testing Accuracy: 0.9415\n",
      "\n"
     ]
    },
    {
     "name": "stdout",
     "output_type": "stream",
     "text": [
      "Epoch 20, Loss 0.0524\n",
      "Training Accuracy: 0.9457, Testing Accuracy: 0.9592\n",
      "\n"
     ]
    },
    {
     "name": "stdout",
     "output_type": "stream",
     "text": [
      "Epoch 30, Loss 0.0422\n",
      "Training Accuracy: 0.9541, Testing Accuracy: 0.9627\n",
      "\n"
     ]
    },
    {
     "name": "stdout",
     "output_type": "stream",
     "text": [
      "Epoch 40, Loss 0.0368\n",
      "Training Accuracy: 0.9580, Testing Accuracy: 0.9632\n",
      "\n"
     ]
    },
    {
     "name": "stdout",
     "output_type": "stream",
     "text": [
      "Epoch 50, Loss 0.0335\n",
      "Training Accuracy: 0.9616, Testing Accuracy: 0.9637\n",
      "\n"
     ]
    },
    {
     "name": "stdout",
     "output_type": "stream",
     "text": [
      "Epoch 60, Loss 0.0311\n",
      "Training Accuracy: 0.9634, Testing Accuracy: 0.9657\n",
      "\n"
     ]
    },
    {
     "name": "stdout",
     "output_type": "stream",
     "text": [
      "Epoch 70, Loss 0.0293\n",
      "Training Accuracy: 0.9660, Testing Accuracy: 0.9677\n",
      "\n"
     ]
    },
    {
     "name": "stdout",
     "output_type": "stream",
     "text": [
      "Epoch 80, Loss 0.0278\n",
      "Training Accuracy: 0.9679, Testing Accuracy: 0.9682\n",
      "\n"
     ]
    },
    {
     "name": "stdout",
     "output_type": "stream",
     "text": [
      "Epoch 90, Loss 0.0266\n",
      "Training Accuracy: 0.9695, Testing Accuracy: 0.9682\n",
      "\n"
     ]
    },
    {
     "name": "stdout",
     "output_type": "stream",
     "text": [
      "Epoch 100, Loss 0.0256\n",
      "Training Accuracy: 0.9705, Testing Accuracy: 0.9682\n",
      "\n"
     ]
    },
    {
     "name": "stdout",
     "output_type": "stream",
     "text": [
      "Epoch 110, Loss 0.0246\n",
      "Training Accuracy: 0.9715, Testing Accuracy: 0.9693\n",
      "\n"
     ]
    },
    {
     "name": "stdout",
     "output_type": "stream",
     "text": [
      "Epoch 120, Loss 0.0238\n",
      "Training Accuracy: 0.9725, Testing Accuracy: 0.9693\n",
      "\n"
     ]
    },
    {
     "name": "stdout",
     "output_type": "stream",
     "text": [
      "Epoch 130, Loss 0.023\n",
      "Training Accuracy: 0.9734, Testing Accuracy: 0.9688\n",
      "\n"
     ]
    },
    {
     "name": "stdout",
     "output_type": "stream",
     "text": [
      "Epoch 140, Loss 0.0223\n",
      "Training Accuracy: 0.9745, Testing Accuracy: 0.9703\n",
      "\n"
     ]
    },
    {
     "name": "stdout",
     "output_type": "stream",
     "text": [
      "Epoch 150, Loss 0.0216\n",
      "Training Accuracy: 0.9752, Testing Accuracy: 0.9703\n",
      "\n"
     ]
    },
    {
     "name": "stdout",
     "output_type": "stream",
     "text": [
      "Epoch 160, Loss 0.021\n",
      "Training Accuracy: 0.9767, Testing Accuracy: 0.9718\n",
      "\n"
     ]
    },
    {
     "name": "stdout",
     "output_type": "stream",
     "text": [
      "Epoch 170, Loss 0.0205\n",
      "Training Accuracy: 0.9776, Testing Accuracy: 0.9718\n",
      "\n"
     ]
    },
    {
     "name": "stdout",
     "output_type": "stream",
     "text": [
      "Epoch 180, Loss 0.0199\n",
      "Training Accuracy: 0.9780, Testing Accuracy: 0.9713\n",
      "\n"
     ]
    },
    {
     "name": "stdout",
     "output_type": "stream",
     "text": [
      "Epoch 190, Loss 0.0194\n",
      "Training Accuracy: 0.9789, Testing Accuracy: 0.9728\n",
      "\n"
     ]
    },
    {
     "name": "stdout",
     "output_type": "stream",
     "text": [
      "Epoch 200, Loss 0.0189\n",
      "Training Accuracy: 0.9796, Testing Accuracy: 0.9733\n",
      "\n"
     ]
    },
    {
     "name": "stdout",
     "output_type": "stream",
     "text": [
      "Epoch 210, Loss 0.0184\n",
      "Training Accuracy: 0.9806, Testing Accuracy: 0.9743\n",
      "\n"
     ]
    },
    {
     "name": "stdout",
     "output_type": "stream",
     "text": [
      "Epoch 220, Loss 0.0179\n",
      "Training Accuracy: 0.9808, Testing Accuracy: 0.9733\n",
      "\n"
     ]
    },
    {
     "name": "stdout",
     "output_type": "stream",
     "text": [
      "Epoch 230, Loss 0.0175\n",
      "Training Accuracy: 0.9815, Testing Accuracy: 0.9738\n",
      "\n"
     ]
    },
    {
     "name": "stdout",
     "output_type": "stream",
     "text": [
      "Epoch 240, Loss 0.017\n",
      "Training Accuracy: 0.9819, Testing Accuracy: 0.9753\n",
      "\n"
     ]
    },
    {
     "data": {
      "text/plain": [
       "0.008326924913550441"
      ]
     },
     "execution_count": 22,
     "metadata": {},
     "output_type": "execute_result"
    }
   ],
   "source": [
    "nn_learner.train_loop(dl)"
   ]
  },
  {
   "cell_type": "code",
   "execution_count": 23,
   "id": "e0163366",
   "metadata": {
    "execution": {
     "iopub.execute_input": "2022-04-25T10:11:45.112050Z",
     "iopub.status.busy": "2022-04-25T10:11:45.111507Z",
     "iopub.status.idle": "2022-04-25T10:11:59.788188Z",
     "shell.execute_reply": "2022-04-25T10:11:59.788922Z"
    },
    "papermill": {
     "duration": 14.725404,
     "end_time": "2022-04-25T10:11:59.789078",
     "exception": false,
     "start_time": "2022-04-25T10:11:45.063674",
     "status": "completed"
    },
    "tags": []
   },
   "outputs": [
    {
     "name": "stdout",
     "output_type": "stream",
     "text": [
      "Epoch 0, Loss 0.2296\n",
      "Training Accuracy: 0.7432, Testing Accuracy: 0.7495\n",
      "\n"
     ]
    },
    {
     "name": "stdout",
     "output_type": "stream",
     "text": [
      "Epoch 10, Loss 0.1013\n",
      "Training Accuracy: 0.9095, Testing Accuracy: 0.9239\n",
      "\n"
     ]
    },
    {
     "name": "stdout",
     "output_type": "stream",
     "text": [
      "Epoch 20, Loss 0.0783\n",
      "Training Accuracy: 0.9281, Testing Accuracy: 0.9395\n",
      "\n"
     ]
    },
    {
     "name": "stdout",
     "output_type": "stream",
     "text": [
      "Epoch 30, Loss 0.0676\n",
      "Training Accuracy: 0.9365, Testing Accuracy: 0.9456\n",
      "\n"
     ]
    },
    {
     "name": "stdout",
     "output_type": "stream",
     "text": [
      "Epoch 40, Loss 0.0612\n",
      "Training Accuracy: 0.9415, Testing Accuracy: 0.9506\n",
      "\n"
     ]
    },
    {
     "name": "stdout",
     "output_type": "stream",
     "text": [
      "Epoch 50, Loss 0.0568\n",
      "Training Accuracy: 0.9446, Testing Accuracy: 0.9546\n",
      "\n"
     ]
    },
    {
     "name": "stdout",
     "output_type": "stream",
     "text": [
      "Epoch 60, Loss 0.0536\n",
      "Training Accuracy: 0.9469, Testing Accuracy: 0.9567\n",
      "\n"
     ]
    },
    {
     "name": "stdout",
     "output_type": "stream",
     "text": [
      "Epoch 70, Loss 0.0511\n",
      "Training Accuracy: 0.9497, Testing Accuracy: 0.9582\n",
      "\n"
     ]
    },
    {
     "name": "stdout",
     "output_type": "stream",
     "text": [
      "Epoch 80, Loss 0.0491\n",
      "Training Accuracy: 0.9508, Testing Accuracy: 0.9592\n",
      "\n"
     ]
    },
    {
     "name": "stdout",
     "output_type": "stream",
     "text": [
      "Epoch 90, Loss 0.0474\n",
      "Training Accuracy: 0.9521, Testing Accuracy: 0.9592\n",
      "\n"
     ]
    },
    {
     "name": "stdout",
     "output_type": "stream",
     "text": [
      "Epoch 100, Loss 0.046\n",
      "Training Accuracy: 0.9537, Testing Accuracy: 0.9612\n",
      "\n"
     ]
    },
    {
     "name": "stdout",
     "output_type": "stream",
     "text": [
      "Epoch 110, Loss 0.0448\n",
      "Training Accuracy: 0.9552, Testing Accuracy: 0.9622\n",
      "\n"
     ]
    },
    {
     "name": "stdout",
     "output_type": "stream",
     "text": [
      "Epoch 120, Loss 0.0437\n",
      "Training Accuracy: 0.9557, Testing Accuracy: 0.9637\n",
      "\n"
     ]
    },
    {
     "name": "stdout",
     "output_type": "stream",
     "text": [
      "Epoch 130, Loss 0.0428\n",
      "Training Accuracy: 0.9564, Testing Accuracy: 0.9647\n",
      "\n"
     ]
    },
    {
     "name": "stdout",
     "output_type": "stream",
     "text": [
      "Epoch 140, Loss 0.042\n",
      "Training Accuracy: 0.9571, Testing Accuracy: 0.9652\n",
      "\n"
     ]
    },
    {
     "name": "stdout",
     "output_type": "stream",
     "text": [
      "Epoch 150, Loss 0.0413\n",
      "Training Accuracy: 0.9575, Testing Accuracy: 0.9652\n",
      "\n"
     ]
    },
    {
     "name": "stdout",
     "output_type": "stream",
     "text": [
      "Epoch 160, Loss 0.0406\n",
      "Training Accuracy: 0.9579, Testing Accuracy: 0.9652\n",
      "\n"
     ]
    },
    {
     "name": "stdout",
     "output_type": "stream",
     "text": [
      "Epoch 170, Loss 0.04\n",
      "Training Accuracy: 0.9581, Testing Accuracy: 0.9652\n",
      "\n"
     ]
    },
    {
     "name": "stdout",
     "output_type": "stream",
     "text": [
      "Epoch 180, Loss 0.0394\n",
      "Training Accuracy: 0.9589, Testing Accuracy: 0.9662\n",
      "\n"
     ]
    },
    {
     "name": "stdout",
     "output_type": "stream",
     "text": [
      "Epoch 190, Loss 0.0389\n",
      "Training Accuracy: 0.9592, Testing Accuracy: 0.9662\n",
      "\n"
     ]
    },
    {
     "name": "stdout",
     "output_type": "stream",
     "text": [
      "Epoch 200, Loss 0.0384\n",
      "Training Accuracy: 0.9594, Testing Accuracy: 0.9657\n",
      "\n"
     ]
    },
    {
     "name": "stdout",
     "output_type": "stream",
     "text": [
      "Epoch 210, Loss 0.038\n",
      "Training Accuracy: 0.9605, Testing Accuracy: 0.9662\n",
      "\n"
     ]
    },
    {
     "name": "stdout",
     "output_type": "stream",
     "text": [
      "Epoch 220, Loss 0.0376\n",
      "Training Accuracy: 0.9607, Testing Accuracy: 0.9672\n",
      "\n"
     ]
    },
    {
     "name": "stdout",
     "output_type": "stream",
     "text": [
      "Epoch 230, Loss 0.0372\n",
      "Training Accuracy: 0.9609, Testing Accuracy: 0.9672\n",
      "\n"
     ]
    },
    {
     "name": "stdout",
     "output_type": "stream",
     "text": [
      "Epoch 240, Loss 0.0368\n",
      "Training Accuracy: 0.9611, Testing Accuracy: 0.9672\n",
      "\n"
     ]
    },
    {
     "data": {
      "text/plain": [
       "0.06114443482095679"
      ]
     },
     "execution_count": 23,
     "metadata": {},
     "output_type": "execute_result"
    }
   ],
   "source": [
    "lr_learner.train_loop(dl)"
   ]
  },
  {
   "cell_type": "code",
   "execution_count": 24,
   "id": "ca410940",
   "metadata": {
    "execution": {
     "iopub.execute_input": "2022-04-25T10:11:59.887274Z",
     "iopub.status.busy": "2022-04-25T10:11:59.886679Z",
     "iopub.status.idle": "2022-04-25T10:12:00.110146Z",
     "shell.execute_reply": "2022-04-25T10:12:00.110609Z"
    },
    "papermill": {
     "duration": 0.280071,
     "end_time": "2022-04-25T10:12:00.110746",
     "exception": false,
     "start_time": "2022-04-25T10:11:59.830675",
     "status": "completed"
    },
    "tags": []
   },
   "outputs": [
    {
     "data": {
      "text/plain": [
       "<matplotlib.legend.Legend at 0x7f8710774ac8>"
      ]
     },
     "execution_count": 24,
     "metadata": {},
     "output_type": "execute_result"
    },
    {
     "data": {
      "image/png": "[encoded data removed]",
      "text/plain": [
       "<Figure size 1080x720 with 1 Axes>"
      ]
     },
     "metadata": {
      "needs_background": "light"
     },
     "output_type": "display_data"
    }
   ],
   "source": [
    "#comparing the results of NN and LR\n",
    "plt.figure(figsize=(15,10))\n",
    "\n",
    "# Neural Network plots\n",
    "plt.plot(acc_nn.accuracies, 'r-', label = \"Training Accuracies - NN\")\n",
    "plt.plot(acc_nn.test_accuracies, 'g-', label = \"Testing Accuracies - NN\")\n",
    "\n",
    "# Logistic Regression plots\n",
    "plt.plot(acc_lr.accuracies, 'k-', label = \"Training Accuracies - LR\")\n",
    "plt.plot(acc_lr.test_accuracies, 'b-', label = \"Testing Accuracies - LR\")\n",
    "plt.legend()"
   ]
  },
  {
   "cell_type": "markdown",
   "id": "80dfb35c",
   "metadata": {
    "papermill": {
     "duration": 0.044272,
     "end_time": "2022-04-25T10:12:00.192827",
     "exception": false,
     "start_time": "2022-04-25T10:12:00.148555",
     "status": "completed"
    },
    "tags": []
   },
   "source": [
    "#### Plotting the outputs of this layer of the NN.\n"
   ]
  },
  {
   "cell_type": "code",
   "execution_count": 25,
   "id": "45eb2ff5",
   "metadata": {
    "execution": {
     "iopub.execute_input": "2022-04-25T10:12:00.284198Z",
     "iopub.status.busy": "2022-04-25T10:12:00.283654Z",
     "iopub.status.idle": "2022-04-25T10:12:00.303970Z",
     "shell.execute_reply": "2022-04-25T10:12:00.304471Z"
    },
    "papermill": {
     "duration": 0.068499,
     "end_time": "2022-04-25T10:12:00.304631",
     "exception": false,
     "start_time": "2022-04-25T10:12:00.236132",
     "status": "completed"
    },
    "tags": []
   },
   "outputs": [],
   "source": [
    "new_model = Model(layers[:-2])\n",
    "testing_plot = new_model(testing_data_x)"
   ]
  },
  {
   "cell_type": "code",
   "execution_count": 26,
   "id": "4c0a5485",
   "metadata": {
    "execution": {
     "iopub.execute_input": "2022-04-25T10:12:00.403333Z",
     "iopub.status.busy": "2022-04-25T10:12:00.402760Z",
     "iopub.status.idle": "2022-04-25T10:12:00.580086Z",
     "shell.execute_reply": "2022-04-25T10:12:00.579465Z"
    },
    "papermill": {
     "duration": 0.228838,
     "end_time": "2022-04-25T10:12:00.580223",
     "exception": false,
     "start_time": "2022-04-25T10:12:00.351385",
     "status": "completed"
    },
    "tags": []
   },
   "outputs": [
    {
     "data": {
      "text/plain": [
       "Text(0.5, 1.0, 'Outputs')"
      ]
     },
     "execution_count": 26,
     "metadata": {},
     "output_type": "execute_result"
    },
    {
     "data": {
      "image/png": "[encoded data removed]",
      "text/plain": [
       "<Figure size 576x504 with 1 Axes>"
      ]
     },
     "metadata": {
      "needs_background": "light"
     },
     "output_type": "display_data"
    }
   ],
   "source": [
    "# Plotting the scatter plot of points and color coding by class\n",
    "plt.figure(figsize=(8,7))\n",
    "plt.scatter(testing_plot[:,0], testing_plot[:,1], alpha = 0.1, c = y_test.ravel());\n",
    "plt.title('Outputs')"
   ]
  },
  {
   "cell_type": "markdown",
   "id": "a74fcf8f",
   "metadata": {
    "papermill": {
     "duration": 0.046081,
     "end_time": "2022-04-25T10:12:00.672372",
     "exception": false,
     "start_time": "2022-04-25T10:12:00.626291",
     "status": "completed"
    },
    "tags": []
   },
   "source": [
    "Probability contours"
   ]
  },
  {
   "cell_type": "code",
   "execution_count": 27,
   "id": "d0afc8e3",
   "metadata": {
    "execution": {
     "iopub.execute_input": "2022-04-25T10:12:00.781533Z",
     "iopub.status.busy": "2022-04-25T10:12:00.780242Z",
     "iopub.status.idle": "2022-04-25T10:12:00.785084Z",
     "shell.execute_reply": "2022-04-25T10:12:00.784065Z"
    },
    "papermill": {
     "duration": 0.06828,
     "end_time": "2022-04-25T10:12:00.785213",
     "exception": false,
     "start_time": "2022-04-25T10:12:00.716933",
     "status": "completed"
    },
    "tags": []
   },
   "outputs": [],
   "source": [
    "model_prob = Model(layers[-2:]) "
   ]
  },
  {
   "cell_type": "code",
   "execution_count": 28,
   "id": "9b96e238",
   "metadata": {
    "execution": {
     "iopub.execute_input": "2022-04-25T10:12:00.913408Z",
     "iopub.status.busy": "2022-04-25T10:12:00.912117Z",
     "iopub.status.idle": "2022-04-25T10:12:00.929930Z",
     "shell.execute_reply": "2022-04-25T10:12:00.929433Z"
    },
    "papermill": {
     "duration": 0.066563,
     "end_time": "2022-04-25T10:12:00.930057",
     "exception": false,
     "start_time": "2022-04-25T10:12:00.863494",
     "status": "completed"
    },
    "tags": []
   },
   "outputs": [],
   "source": [
    "#creating the x and y ranges according to the above generated plot.\n",
    "x_range = np.linspace(-4, 1, 100) \n",
    "y_range = np.linspace(-6, 6, 100) \n",
    "x_grid, y_grid = np.meshgrid(x_range, y_range) # x_grid and y_grig are of size 100 X 100\n",
    "\n",
    "# converting x_grid and y_grid to continuous arrays\n",
    "x_gridflat = np.ravel(x_grid)\n",
    "y_gridflat = np.ravel(y_grid)\n",
    "\n",
    "# The last layer of the current model takes two columns as input. Hence transpose of np.vstack() is required.\n",
    "X = np.vstack((x_gridflat, y_gridflat)).T\n",
    "\n",
    "prob_contour = model_prob(X).reshape(100,100) "
   ]
  },
  {
   "cell_type": "code",
   "execution_count": 29,
   "id": "da72499a",
   "metadata": {
    "execution": {
     "iopub.execute_input": "2022-04-25T10:12:01.034743Z",
     "iopub.status.busy": "2022-04-25T10:12:01.034194Z",
     "iopub.status.idle": "2022-04-25T10:12:01.267875Z",
     "shell.execute_reply": "2022-04-25T10:12:01.268291Z"
    },
    "papermill": {
     "duration": 0.288257,
     "end_time": "2022-04-25T10:12:01.268441",
     "exception": false,
     "start_time": "2022-04-25T10:12:00.980184",
     "status": "completed"
    },
    "tags": []
   },
   "outputs": [
    {
     "data": {
      "image/png": "[encoded data removed]",
      "text/plain": [
       "<Figure size 720x648 with 1 Axes>"
      ]
     },
     "metadata": {
      "needs_background": "light"
     },
     "output_type": "display_data"
    }
   ],
   "source": [
    "plt.figure(figsize=(10,9))\n",
    "plt.scatter(testing_plot[:,0], testing_plot[:,1], alpha = 0.1, c = y_test.ravel())\n",
    "contours = plt.contour(x_grid,y_grid,prob_contour)\n",
    "plt.title('Probability Contours')\n",
    "plt.clabel(contours, inline = True );"
   ]
  },
  {
   "cell_type": "code",
   "execution_count": null,
   "id": "e81b4ac7",
   "metadata": {
    "papermill": {
     "duration": 0.04684,
     "end_time": "2022-04-25T10:12:01.362644",
     "exception": false,
     "start_time": "2022-04-25T10:12:01.315804",
     "status": "completed"
    },
    "tags": []
   },
   "outputs": [],
   "source": []
  }
 ],
 "metadata": {
  "kernelspec": {
   "display_name": "Python 3",
   "language": "python",
   "name": "python3"
  },
  "language_info": {
   "codemirror_mode": {
    "name": "ipython",
    "version": 3
   },
   "file_extension": ".py",
   "mimetype": "text/x-python",
   "name": "python",
   "nbconvert_exporter": "python",
   "pygments_lexer": "ipython3",
   "version": "3.6.15"
  },
  "papermill": {
   "default_parameters": {},
   "duration": 102.533522,
   "end_time": "2022-04-25T10:12:01.828906",
   "environment_variables": {},
   "exception": null,
   "input_path": "2020-08-11-part2.ipynb",
   "output_path": "2020-08-11-part2.ipynb",
   "parameters": {},
   "start_time": "2022-04-25T10:10:19.295384",
   "version": "2.3.3"
  }
 },
 "nbformat": 4,
 "nbformat_minor": 5
}