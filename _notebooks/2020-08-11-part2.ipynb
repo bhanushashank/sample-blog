{
 "cells": [
  {
   "cell_type": "markdown",
   "id": "98380cd3",
   "metadata": {
    "papermill": {
     "duration": 0.027682,
     "end_time": "2022-06-20T10:10:02.993739",
     "exception": false,
     "start_time": "2022-06-20T10:10:02.966057",
     "status": "completed"
    },
    "tags": []
   },
   "source": [
    "# Distinguish Your Own Digits (DYOD)"
   ]
  },
  {
   "cell_type": "markdown",
   "id": "ef31240d",
   "metadata": {
    "papermill": {
     "duration": 0.021294,
     "end_time": "2022-06-20T10:10:03.036697",
     "exception": false,
     "start_time": "2022-06-20T10:10:03.015403",
     "status": "completed"
    },
    "tags": []
   },
   "source": [
    "You are going to write a classifier that distinguishes between the number 3 and number 8."
   ]
  },
  {
   "cell_type": "code",
   "execution_count": 1,
   "id": "b15c8646",
   "metadata": {
    "execution": {
     "iopub.execute_input": "2022-06-20T10:10:03.090250Z",
     "iopub.status.busy": "2022-06-20T10:10:03.089682Z",
     "iopub.status.idle": "2022-06-20T10:10:03.100461Z",
     "shell.execute_reply": "2022-06-20T10:10:03.100028Z"
    },
    "papermill": {
     "duration": 0.042834,
     "end_time": "2022-06-20T10:10:03.100581",
     "exception": false,
     "start_time": "2022-06-20T10:10:03.057747",
     "status": "completed"
    },
    "tags": []
   },
   "outputs": [],
   "source": [
    "%load_ext autoreload\n",
    "%autoreload 2"
   ]
  },
  {
   "cell_type": "code",
   "execution_count": 2,
   "id": "22ef38dc",
   "metadata": {
    "execution": {
     "iopub.execute_input": "2022-06-20T10:10:03.150957Z",
     "iopub.status.busy": "2022-06-20T10:10:03.150341Z",
     "iopub.status.idle": "2022-06-20T10:10:03.621627Z",
     "shell.execute_reply": "2022-06-20T10:10:03.620656Z"
    },
    "papermill": {
     "duration": 0.49994,
     "end_time": "2022-06-20T10:10:03.621756",
     "exception": false,
     "start_time": "2022-06-20T10:10:03.121816",
     "status": "completed"
    },
    "tags": []
   },
   "outputs": [],
   "source": [
    "%matplotlib inline\n",
    "import numpy as np\n",
    "import matplotlib.pyplot as plt\n",
    "import pandas as pd"
   ]
  },
  {
   "cell_type": "markdown",
   "id": "ba036198",
   "metadata": {
    "papermill": {
     "duration": 0.020978,
     "end_time": "2022-06-20T10:10:03.663856",
     "exception": false,
     "start_time": "2022-06-20T10:10:03.642878",
     "status": "completed"
    },
    "tags": []
   },
   "source": [
    "From the command line run `pip install mnist`. This is a library that will help you bring down the mnist dataset. If you run this from a notebook, you need to put  `!pip install mnist` in a cell by itself."
   ]
  },
  {
   "cell_type": "code",
   "execution_count": 3,
   "id": "bb6ad8a1",
   "metadata": {
    "execution": {
     "iopub.execute_input": "2022-06-20T10:10:03.709979Z",
     "iopub.status.busy": "2022-06-20T10:10:03.709233Z",
     "iopub.status.idle": "2022-06-20T10:10:05.325082Z",
     "shell.execute_reply": "2022-06-20T10:10:05.324514Z"
    },
    "papermill": {
     "duration": 1.640333,
     "end_time": "2022-06-20T10:10:05.325224",
     "exception": false,
     "start_time": "2022-06-20T10:10:03.684891",
     "status": "completed"
    },
    "tags": []
   },
   "outputs": [
    {
     "name": "stdout",
     "output_type": "stream",
     "text": [
      "Collecting mnist\r\n",
      "  Downloading mnist-0.2.2-py2.py3-none-any.whl (3.5 kB)\r\n"
     ]
    },
    {
     "name": "stdout",
     "output_type": "stream",
     "text": [
      "Requirement already satisfied: numpy in /opt/hostedtoolcache/Python/3.6.15/x64/lib/python3.6/site-packages (from mnist) (1.19.5)\r\n"
     ]
    },
    {
     "name": "stdout",
     "output_type": "stream",
     "text": [
      "Installing collected packages: mnist\r\n",
      "Successfully installed mnist-0.2.2\r\n"
     ]
    }
   ],
   "source": [
    "!pip install mnist"
   ]
  },
  {
   "cell_type": "markdown",
   "id": "69df9c9a",
   "metadata": {
    "papermill": {
     "duration": 0.021833,
     "end_time": "2022-06-20T10:10:05.369452",
     "exception": false,
     "start_time": "2022-06-20T10:10:05.347619",
     "status": "completed"
    },
    "tags": []
   },
   "source": [
    "## Preparing the Data"
   ]
  },
  {
   "cell_type": "code",
   "execution_count": 4,
   "id": "7f69d806",
   "metadata": {
    "execution": {
     "iopub.execute_input": "2022-06-20T10:10:05.416782Z",
     "iopub.status.busy": "2022-06-20T10:10:05.416255Z",
     "iopub.status.idle": "2022-06-20T10:10:05.431317Z",
     "shell.execute_reply": "2022-06-20T10:10:05.430894Z"
    },
    "papermill": {
     "duration": 0.040305,
     "end_time": "2022-06-20T10:10:05.431415",
     "exception": false,
     "start_time": "2022-06-20T10:10:05.391110",
     "status": "completed"
    },
    "tags": []
   },
   "outputs": [],
   "source": [
    "import mnist"
   ]
  },
  {
   "cell_type": "code",
   "execution_count": 5,
   "id": "a411e44f",
   "metadata": {
    "execution": {
     "iopub.execute_input": "2022-06-20T10:10:05.478096Z",
     "iopub.status.busy": "2022-06-20T10:10:05.477583Z",
     "iopub.status.idle": "2022-06-20T10:10:06.052299Z",
     "shell.execute_reply": "2022-06-20T10:10:06.051712Z"
    },
    "papermill": {
     "duration": 0.599319,
     "end_time": "2022-06-20T10:10:06.052407",
     "exception": false,
     "start_time": "2022-06-20T10:10:05.453088",
     "status": "completed"
    },
    "tags": []
   },
   "outputs": [],
   "source": [
    "train_images = mnist.train_images()\n",
    "train_labels = mnist.train_labels()"
   ]
  },
  {
   "cell_type": "code",
   "execution_count": 6,
   "id": "dceab3a5",
   "metadata": {
    "execution": {
     "iopub.execute_input": "2022-06-20T10:10:06.103086Z",
     "iopub.status.busy": "2022-06-20T10:10:06.102383Z",
     "iopub.status.idle": "2022-06-20T10:10:06.117396Z",
     "shell.execute_reply": "2022-06-20T10:10:06.116226Z"
    },
    "papermill": {
     "duration": 0.043373,
     "end_time": "2022-06-20T10:10:06.117518",
     "exception": false,
     "start_time": "2022-06-20T10:10:06.074145",
     "status": "completed"
    },
    "tags": []
   },
   "outputs": [
    {
     "data": {
      "text/plain": [
       "((60000, 28, 28), (60000,))"
      ]
     },
     "execution_count": 6,
     "metadata": {},
     "output_type": "execute_result"
    }
   ],
   "source": [
    "train_images.shape, train_labels.shape"
   ]
  },
  {
   "cell_type": "code",
   "execution_count": 7,
   "id": "f50dc2bb",
   "metadata": {
    "execution": {
     "iopub.execute_input": "2022-06-20T10:10:06.171044Z",
     "iopub.status.busy": "2022-06-20T10:10:06.170472Z",
     "iopub.status.idle": "2022-06-20T10:10:06.307636Z",
     "shell.execute_reply": "2022-06-20T10:10:06.308157Z"
    },
    "papermill": {
     "duration": 0.165753,
     "end_time": "2022-06-20T10:10:06.308333",
     "exception": false,
     "start_time": "2022-06-20T10:10:06.142580",
     "status": "completed"
    },
    "tags": []
   },
   "outputs": [],
   "source": [
    "test_images = mnist.test_images()\n",
    "test_labels = mnist.test_labels()"
   ]
  },
  {
   "cell_type": "code",
   "execution_count": 8,
   "id": "fc38cf1b",
   "metadata": {
    "execution": {
     "iopub.execute_input": "2022-06-20T10:10:06.362370Z",
     "iopub.status.busy": "2022-06-20T10:10:06.361793Z",
     "iopub.status.idle": "2022-06-20T10:10:06.375210Z",
     "shell.execute_reply": "2022-06-20T10:10:06.374739Z"
    },
    "papermill": {
     "duration": 0.04136,
     "end_time": "2022-06-20T10:10:06.375315",
     "exception": false,
     "start_time": "2022-06-20T10:10:06.333955",
     "status": "completed"
    },
    "tags": []
   },
   "outputs": [
    {
     "data": {
      "text/plain": [
       "((10000, 28, 28), (10000,))"
      ]
     },
     "execution_count": 8,
     "metadata": {},
     "output_type": "execute_result"
    }
   ],
   "source": [
    "test_images.shape, test_labels.shape"
   ]
  },
  {
   "cell_type": "code",
   "execution_count": 9,
   "id": "f9ed8fe0",
   "metadata": {
    "execution": {
     "iopub.execute_input": "2022-06-20T10:10:06.429457Z",
     "iopub.status.busy": "2022-06-20T10:10:06.428848Z",
     "iopub.status.idle": "2022-06-20T10:10:06.552054Z",
     "shell.execute_reply": "2022-06-20T10:10:06.552503Z"
    },
    "papermill": {
     "duration": 0.152369,
     "end_time": "2022-06-20T10:10:06.552638",
     "exception": false,
     "start_time": "2022-06-20T10:10:06.400269",
     "status": "completed"
    },
    "tags": []
   },
   "outputs": [
    {
     "name": "stdout",
     "output_type": "stream",
     "text": [
      "2\n"
     ]
    },
    {
     "data": {
      "text/plain": [
       "<matplotlib.image.AxesImage at 0x7f9f51cc0860>"
      ]
     },
     "execution_count": 9,
     "metadata": {},
     "output_type": "execute_result"
    },
    {
     "data": {
      "image/png": "[encoded data removed]",
      "text/plain": [
       "<Figure size 432x288 with 1 Axes>"
      ]
     },
     "metadata": {
      "needs_background": "light"
     },
     "output_type": "display_data"
    }
   ],
   "source": [
    "image_index = 7776 # You may select anything up to 60,000\n",
    "print(train_labels[image_index]) \n",
    "plt.imshow(train_images[image_index], cmap='Greys')"
   ]
  },
  {
   "cell_type": "markdown",
   "id": "a8d2388d",
   "metadata": {
    "papermill": {
     "duration": 0.026162,
     "end_time": "2022-06-20T10:10:06.605167",
     "exception": false,
     "start_time": "2022-06-20T10:10:06.579005",
     "status": "completed"
    },
    "tags": []
   },
   "source": [
    "## Filter data to get 3 and 8 out"
   ]
  },
  {
   "cell_type": "code",
   "execution_count": 10,
   "id": "776f7fc7",
   "metadata": {
    "execution": {
     "iopub.execute_input": "2022-06-20T10:10:06.664629Z",
     "iopub.status.busy": "2022-06-20T10:10:06.664038Z",
     "iopub.status.idle": "2022-06-20T10:10:06.677441Z",
     "shell.execute_reply": "2022-06-20T10:10:06.676916Z"
    },
    "papermill": {
     "duration": 0.046337,
     "end_time": "2022-06-20T10:10:06.677552",
     "exception": false,
     "start_time": "2022-06-20T10:10:06.631215",
     "status": "completed"
    },
    "tags": []
   },
   "outputs": [],
   "source": [
    "train_filter = np.where((train_labels == 3 ) | (train_labels == 8))\n",
    "test_filter = np.where((test_labels == 3) | (test_labels == 8))\n",
    "X_train, y_train = train_images[train_filter], train_labels[train_filter]\n",
    "X_test, y_test = test_images[test_filter], test_labels[test_filter]"
   ]
  },
  {
   "cell_type": "markdown",
   "id": "948f0b7e",
   "metadata": {
    "papermill": {
     "duration": 0.026209,
     "end_time": "2022-06-20T10:10:06.730491",
     "exception": false,
     "start_time": "2022-06-20T10:10:06.704282",
     "status": "completed"
    },
    "tags": []
   },
   "source": [
    "We normalize the pizel values in the 0 to 1 range"
   ]
  },
  {
   "cell_type": "code",
   "execution_count": 11,
   "id": "ee4c2166",
   "metadata": {
    "execution": {
     "iopub.execute_input": "2022-06-20T10:10:06.791012Z",
     "iopub.status.busy": "2022-06-20T10:10:06.790416Z",
     "iopub.status.idle": "2022-06-20T10:10:06.829862Z",
     "shell.execute_reply": "2022-06-20T10:10:06.829235Z"
    },
    "papermill": {
     "duration": 0.073402,
     "end_time": "2022-06-20T10:10:06.830000",
     "exception": false,
     "start_time": "2022-06-20T10:10:06.756598",
     "status": "completed"
    },
    "tags": []
   },
   "outputs": [],
   "source": [
    "X_train = X_train/255.\n",
    "X_test = X_test/255."
   ]
  },
  {
   "cell_type": "markdown",
   "id": "ddcf4fab",
   "metadata": {
    "papermill": {
     "duration": 0.026267,
     "end_time": "2022-06-20T10:10:06.883778",
     "exception": false,
     "start_time": "2022-06-20T10:10:06.857511",
     "status": "completed"
    },
    "tags": []
   },
   "source": [
    "And setup the labels as 1 (when the digit is 3) and 0 (when the digit is 8)"
   ]
  },
  {
   "cell_type": "code",
   "execution_count": 12,
   "id": "7dc908f2",
   "metadata": {
    "execution": {
     "iopub.execute_input": "2022-06-20T10:10:06.942229Z",
     "iopub.status.busy": "2022-06-20T10:10:06.941620Z",
     "iopub.status.idle": "2022-06-20T10:10:06.951556Z",
     "shell.execute_reply": "2022-06-20T10:10:06.950981Z"
    },
    "papermill": {
     "duration": 0.04157,
     "end_time": "2022-06-20T10:10:06.951667",
     "exception": false,
     "start_time": "2022-06-20T10:10:06.910097",
     "status": "completed"
    },
    "tags": []
   },
   "outputs": [],
   "source": [
    "y_train = 1*(y_train==3)\n",
    "y_test = 1*(y_test==3)"
   ]
  },
  {
   "cell_type": "code",
   "execution_count": 13,
   "id": "01e4e969",
   "metadata": {
    "execution": {
     "iopub.execute_input": "2022-06-20T10:10:07.008372Z",
     "iopub.status.busy": "2022-06-20T10:10:07.007784Z",
     "iopub.status.idle": "2022-06-20T10:10:07.021144Z",
     "shell.execute_reply": "2022-06-20T10:10:07.020567Z"
    },
    "papermill": {
     "duration": 0.043263,
     "end_time": "2022-06-20T10:10:07.021258",
     "exception": false,
     "start_time": "2022-06-20T10:10:06.977995",
     "status": "completed"
    },
    "tags": []
   },
   "outputs": [
    {
     "data": {
      "text/plain": [
       "((11982, 28, 28), (1984, 28, 28))"
      ]
     },
     "execution_count": 13,
     "metadata": {},
     "output_type": "execute_result"
    }
   ],
   "source": [
    "X_train.shape, X_test.shape"
   ]
  },
  {
   "cell_type": "markdown",
   "id": "5ccf3f85",
   "metadata": {
    "papermill": {
     "duration": 0.026452,
     "end_time": "2022-06-20T10:10:07.074380",
     "exception": false,
     "start_time": "2022-06-20T10:10:07.047928",
     "status": "completed"
    },
    "tags": []
   },
   "source": [
    "We reshape the data to flatten the image pixels into a set of features or co-variates:"
   ]
  },
  {
   "cell_type": "code",
   "execution_count": 14,
   "id": "5286a4a3",
   "metadata": {
    "execution": {
     "iopub.execute_input": "2022-06-20T10:10:07.134805Z",
     "iopub.status.busy": "2022-06-20T10:10:07.134216Z",
     "iopub.status.idle": "2022-06-20T10:10:07.145107Z",
     "shell.execute_reply": "2022-06-20T10:10:07.145573Z"
    },
    "papermill": {
     "duration": 0.044606,
     "end_time": "2022-06-20T10:10:07.145707",
     "exception": false,
     "start_time": "2022-06-20T10:10:07.101101",
     "status": "completed"
    },
    "tags": []
   },
   "outputs": [
    {
     "data": {
      "text/plain": [
       "((11982, 784), (1984, 784))"
      ]
     },
     "execution_count": 14,
     "metadata": {},
     "output_type": "execute_result"
    }
   ],
   "source": [
    "X_train = X_train.reshape(X_train.shape[0], -1)\n",
    "X_test = X_test.reshape(X_test.shape[0], -1)\n",
    "X_train.shape, X_test.shape"
   ]
  },
  {
   "cell_type": "code",
   "execution_count": 15,
   "id": "73c5f88a",
   "metadata": {
    "execution": {
     "iopub.execute_input": "2022-06-20T10:10:07.206212Z",
     "iopub.status.busy": "2022-06-20T10:10:07.205595Z",
     "iopub.status.idle": "2022-06-20T10:10:07.222005Z",
     "shell.execute_reply": "2022-06-20T10:10:07.221396Z"
    },
    "papermill": {
     "duration": 0.049831,
     "end_time": "2022-06-20T10:10:07.222116",
     "exception": false,
     "start_time": "2022-06-20T10:10:07.172285",
     "status": "completed"
    },
    "tags": []
   },
   "outputs": [],
   "source": [
    "#Impoting functions from 'Kudzu'\n",
    "from kudzu.model import Model\n",
    "from kudzu.train import Learner\n",
    "from kudzu.optim import GD\n",
    "from kudzu.data import Data, Sampler,Dataloader\n",
    "\n",
    "from kudzu.callbacks import AccCallback\n",
    "from kudzu.callbacks import ClfCallback\n",
    "\n",
    "from kudzu.loss import MSE\n",
    "\n",
    "from kudzu.layer import Sigmoid,Relu\n",
    "from kudzu.layer import Affine"
   ]
  },
  {
   "cell_type": "markdown",
   "id": "bc01172a",
   "metadata": {
    "papermill": {
     "duration": 0.026634,
     "end_time": "2022-06-20T10:10:07.275554",
     "exception": false,
     "start_time": "2022-06-20T10:10:07.248920",
     "status": "completed"
    },
    "tags": []
   },
   "source": [
    "### Let us create a `Config` class, to store important parameters. \n",
    "This class essentially plays the role of a dictionary."
   ]
  },
  {
   "cell_type": "code",
   "execution_count": 16,
   "id": "978281aa",
   "metadata": {
    "execution": {
     "iopub.execute_input": "2022-06-20T10:10:07.333505Z",
     "iopub.status.busy": "2022-06-20T10:10:07.332885Z",
     "iopub.status.idle": "2022-06-20T10:10:07.345512Z",
     "shell.execute_reply": "2022-06-20T10:10:07.345010Z"
    },
    "papermill": {
     "duration": 0.04332,
     "end_time": "2022-06-20T10:10:07.345627",
     "exception": false,
     "start_time": "2022-06-20T10:10:07.302307",
     "status": "completed"
    },
    "tags": []
   },
   "outputs": [],
   "source": [
    "class Config:\n",
    "    pass\n",
    "config = Config()\n",
    "config.lr = 0.001\n",
    "config.num_epochs = 250\n",
    "config.bs = 50"
   ]
  },
  {
   "cell_type": "markdown",
   "id": "1385fa59",
   "metadata": {
    "papermill": {
     "duration": 0.026975,
     "end_time": "2022-06-20T10:10:07.399531",
     "exception": false,
     "start_time": "2022-06-20T10:10:07.372556",
     "status": "completed"
    },
    "tags": []
   },
   "source": [
    "### Running Models with the Training data\n",
    "Details about the network layers:\n",
    "- A first affine layer has 784 inputs and does 100 affine transforms. These are followed by a Relu\n",
    "- A second affine layer has 100 inputs from the 100 activations of the past layer, and does 100 affine transforms. These are followed by a Relu\n",
    "- A third affine layer has 100 activations and does 2 affine transformations to create an embedding for visualization. There is no non-linearity here.\n",
    "- A final \"logistic regression\" which has an affine transform from 2 inputs to 1 output, which is squeezed through a sigmoid.\n"
   ]
  },
  {
   "cell_type": "code",
   "execution_count": 17,
   "id": "2b9c66db",
   "metadata": {
    "execution": {
     "iopub.execute_input": "2022-06-20T10:10:07.462258Z",
     "iopub.status.busy": "2022-06-20T10:10:07.461674Z",
     "iopub.status.idle": "2022-06-20T10:10:07.471146Z",
     "shell.execute_reply": "2022-06-20T10:10:07.471554Z"
    },
    "papermill": {
     "duration": 0.045338,
     "end_time": "2022-06-20T10:10:07.471680",
     "exception": false,
     "start_time": "2022-06-20T10:10:07.426342",
     "status": "completed"
    },
    "tags": []
   },
   "outputs": [],
   "source": [
    "data = Data(X_train, y_train.reshape(-1,1))\n",
    "sampler = Sampler(data, config.bs, shuffle=True)\n",
    "\n",
    "dl = Dataloader(data, sampler)\n",
    "\n",
    "opt = GD(config.lr)\n",
    "loss = MSE()"
   ]
  },
  {
   "cell_type": "code",
   "execution_count": 18,
   "id": "b275e4c2",
   "metadata": {
    "execution": {
     "iopub.execute_input": "2022-06-20T10:10:07.523710Z",
     "iopub.status.busy": "2022-06-20T10:10:07.523180Z",
     "iopub.status.idle": "2022-06-20T10:10:07.535604Z",
     "shell.execute_reply": "2022-06-20T10:10:07.535165Z"
    },
    "papermill": {
     "duration": 0.040082,
     "end_time": "2022-06-20T10:10:07.535710",
     "exception": false,
     "start_time": "2022-06-20T10:10:07.495628",
     "status": "completed"
    },
    "tags": []
   },
   "outputs": [],
   "source": [
    "training_data_x = X_train\n",
    "testing_data_x = X_test\n",
    "training_data_y = y_train.reshape(-1,1)\n",
    "testing_data_y = y_test.reshape(-1,1)"
   ]
  },
  {
   "cell_type": "code",
   "execution_count": 19,
   "id": "76951160",
   "metadata": {
    "execution": {
     "iopub.execute_input": "2022-06-20T10:10:07.594089Z",
     "iopub.status.busy": "2022-06-20T10:10:07.593520Z",
     "iopub.status.idle": "2022-06-20T10:10:07.606460Z",
     "shell.execute_reply": "2022-06-20T10:10:07.606017Z"
    },
    "papermill": {
     "duration": 0.047194,
     "end_time": "2022-06-20T10:10:07.606565",
     "exception": false,
     "start_time": "2022-06-20T10:10:07.559371",
     "status": "completed"
    },
    "tags": []
   },
   "outputs": [
    {
     "name": "stdout",
     "output_type": "stream",
     "text": [
      "xavier\n",
      "xavier\n",
      "xavier\n",
      "xavier\n",
      "xavier\n"
     ]
    }
   ],
   "source": [
    "layers = [Affine(\"first\", 784, 100), Relu(\"first\"), Affine(\"second\", 100, 100), Relu(\"second\"), Affine(\"third\", 100, 2), Affine(\"last\", 2, 1), Sigmoid(\"last\")]\n",
    "model_nn = Model(layers)\n",
    "model_lr = Model([Affine(\"logits\", 784, 1), Sigmoid(\"sigmoid\")])"
   ]
  },
  {
   "cell_type": "code",
   "execution_count": 20,
   "id": "6eede77a",
   "metadata": {
    "execution": {
     "iopub.execute_input": "2022-06-20T10:10:07.659451Z",
     "iopub.status.busy": "2022-06-20T10:10:07.658929Z",
     "iopub.status.idle": "2022-06-20T10:10:07.672131Z",
     "shell.execute_reply": "2022-06-20T10:10:07.671679Z"
    },
    "papermill": {
     "duration": 0.041551,
     "end_time": "2022-06-20T10:10:07.672243",
     "exception": false,
     "start_time": "2022-06-20T10:10:07.630692",
     "status": "completed"
    },
    "tags": []
   },
   "outputs": [],
   "source": [
    "nn_learner = Learner(loss, model_nn, opt, config.num_epochs)\n",
    "acc_nn = ClfCallback(nn_learner, config.bs, training_data_x , testing_data_x, training_data_y, testing_data_y)\n",
    "nn_learner.set_callbacks([acc_nn])"
   ]
  },
  {
   "cell_type": "code",
   "execution_count": 21,
   "id": "877b6cc7",
   "metadata": {
    "execution": {
     "iopub.execute_input": "2022-06-20T10:10:07.725085Z",
     "iopub.status.busy": "2022-06-20T10:10:07.724548Z",
     "iopub.status.idle": "2022-06-20T10:10:07.737258Z",
     "shell.execute_reply": "2022-06-20T10:10:07.736734Z"
    },
    "papermill": {
     "duration": 0.040784,
     "end_time": "2022-06-20T10:10:07.737362",
     "exception": false,
     "start_time": "2022-06-20T10:10:07.696578",
     "status": "completed"
    },
    "tags": []
   },
   "outputs": [],
   "source": [
    "lr_learner = Learner(loss, model_lr, opt, config.num_epochs)\n",
    "acc_lr = ClfCallback(lr_learner, config.bs, training_data_x , testing_data_x, training_data_y, testing_data_y)\n",
    "lr_learner.set_callbacks([acc_lr])"
   ]
  },
  {
   "cell_type": "code",
   "execution_count": 22,
   "id": "d9b133c3",
   "metadata": {
    "execution": {
     "iopub.execute_input": "2022-06-20T10:10:07.789537Z",
     "iopub.status.busy": "2022-06-20T10:10:07.788986Z",
     "iopub.status.idle": "2022-06-20T10:11:24.422987Z",
     "shell.execute_reply": "2022-06-20T10:11:24.424400Z"
    },
    "papermill": {
     "duration": 76.662947,
     "end_time": "2022-06-20T10:11:24.424556",
     "exception": false,
     "start_time": "2022-06-20T10:10:07.761609",
     "status": "completed"
    },
    "tags": []
   },
   "outputs": [
    {
     "name": "stdout",
     "output_type": "stream",
     "text": [
      "Epoch 0, Loss 0.2306\n",
      "Training Accuracy: 0.7310, Testing Accuracy: 0.7258\n",
      "\n"
     ]
    },
    {
     "name": "stdout",
     "output_type": "stream",
     "text": [
      "Epoch 10, Loss 0.0792\n",
      "Training Accuracy: 0.9216, Testing Accuracy: 0.9274\n",
      "\n"
     ]
    },
    {
     "name": "stdout",
     "output_type": "stream",
     "text": [
      "Epoch 20, Loss 0.0511\n",
      "Training Accuracy: 0.9456, Testing Accuracy: 0.9521\n",
      "\n"
     ]
    },
    {
     "name": "stdout",
     "output_type": "stream",
     "text": [
      "Epoch 30, Loss 0.041\n",
      "Training Accuracy: 0.9548, Testing Accuracy: 0.9617\n",
      "\n"
     ]
    },
    {
     "name": "stdout",
     "output_type": "stream",
     "text": [
      "Epoch 40, Loss 0.0358\n",
      "Training Accuracy: 0.9596, Testing Accuracy: 0.9647\n",
      "\n"
     ]
    },
    {
     "name": "stdout",
     "output_type": "stream",
     "text": [
      "Epoch 50, Loss 0.0327\n",
      "Training Accuracy: 0.9636, Testing Accuracy: 0.9688\n",
      "\n"
     ]
    },
    {
     "name": "stdout",
     "output_type": "stream",
     "text": [
      "Epoch 60, Loss 0.0304\n",
      "Training Accuracy: 0.9656, Testing Accuracy: 0.9698\n",
      "\n"
     ]
    },
    {
     "name": "stdout",
     "output_type": "stream",
     "text": [
      "Epoch 70, Loss 0.0287\n",
      "Training Accuracy: 0.9667, Testing Accuracy: 0.9708\n",
      "\n"
     ]
    },
    {
     "name": "stdout",
     "output_type": "stream",
     "text": [
      "Epoch 80, Loss 0.0274\n",
      "Training Accuracy: 0.9685, Testing Accuracy: 0.9723\n",
      "\n"
     ]
    },
    {
     "name": "stdout",
     "output_type": "stream",
     "text": [
      "Epoch 90, Loss 0.0263\n",
      "Training Accuracy: 0.9701, Testing Accuracy: 0.9723\n",
      "\n"
     ]
    },
    {
     "name": "stdout",
     "output_type": "stream",
     "text": [
      "Epoch 100, Loss 0.0253\n",
      "Training Accuracy: 0.9710, Testing Accuracy: 0.9723\n",
      "\n"
     ]
    },
    {
     "name": "stdout",
     "output_type": "stream",
     "text": [
      "Epoch 110, Loss 0.0245\n",
      "Training Accuracy: 0.9716, Testing Accuracy: 0.9723\n",
      "\n"
     ]
    },
    {
     "name": "stdout",
     "output_type": "stream",
     "text": [
      "Epoch 120, Loss 0.0237\n",
      "Training Accuracy: 0.9730, Testing Accuracy: 0.9738\n",
      "\n"
     ]
    },
    {
     "name": "stdout",
     "output_type": "stream",
     "text": [
      "Epoch 130, Loss 0.0231\n",
      "Training Accuracy: 0.9739, Testing Accuracy: 0.9738\n",
      "\n"
     ]
    },
    {
     "name": "stdout",
     "output_type": "stream",
     "text": [
      "Epoch 140, Loss 0.0225\n",
      "Training Accuracy: 0.9749, Testing Accuracy: 0.9733\n",
      "\n"
     ]
    },
    {
     "name": "stdout",
     "output_type": "stream",
     "text": [
      "Epoch 150, Loss 0.0219\n",
      "Training Accuracy: 0.9756, Testing Accuracy: 0.9738\n",
      "\n"
     ]
    },
    {
     "name": "stdout",
     "output_type": "stream",
     "text": [
      "Epoch 160, Loss 0.0214\n",
      "Training Accuracy: 0.9761, Testing Accuracy: 0.9738\n",
      "\n"
     ]
    },
    {
     "name": "stdout",
     "output_type": "stream",
     "text": [
      "Epoch 170, Loss 0.0209\n",
      "Training Accuracy: 0.9766, Testing Accuracy: 0.9738\n",
      "\n"
     ]
    },
    {
     "name": "stdout",
     "output_type": "stream",
     "text": [
      "Epoch 180, Loss 0.0205\n",
      "Training Accuracy: 0.9776, Testing Accuracy: 0.9743\n",
      "\n"
     ]
    },
    {
     "name": "stdout",
     "output_type": "stream",
     "text": [
      "Epoch 190, Loss 0.02\n",
      "Training Accuracy: 0.9779, Testing Accuracy: 0.9738\n",
      "\n"
     ]
    },
    {
     "name": "stdout",
     "output_type": "stream",
     "text": [
      "Epoch 200, Loss 0.0196\n",
      "Training Accuracy: 0.9789, Testing Accuracy: 0.9738\n",
      "\n"
     ]
    },
    {
     "name": "stdout",
     "output_type": "stream",
     "text": [
      "Epoch 210, Loss 0.0192\n",
      "Training Accuracy: 0.9793, Testing Accuracy: 0.9743\n",
      "\n"
     ]
    },
    {
     "name": "stdout",
     "output_type": "stream",
     "text": [
      "Epoch 220, Loss 0.0189\n",
      "Training Accuracy: 0.9800, Testing Accuracy: 0.9733\n",
      "\n"
     ]
    },
    {
     "name": "stdout",
     "output_type": "stream",
     "text": [
      "Epoch 230, Loss 0.0185\n",
      "Training Accuracy: 0.9801, Testing Accuracy: 0.9743\n",
      "\n"
     ]
    },
    {
     "name": "stdout",
     "output_type": "stream",
     "text": [
      "Epoch 240, Loss 0.0181\n",
      "Training Accuracy: 0.9806, Testing Accuracy: 0.9743\n",
      "\n"
     ]
    },
    {
     "data": {
      "text/plain": [
       "0.03357528953082957"
      ]
     },
     "execution_count": 22,
     "metadata": {},
     "output_type": "execute_result"
    }
   ],
   "source": [
    "nn_learner.train_loop(dl)"
   ]
  },
  {
   "cell_type": "code",
   "execution_count": 23,
   "id": "e0163366",
   "metadata": {
    "execution": {
     "iopub.execute_input": "2022-06-20T10:11:24.508295Z",
     "iopub.status.busy": "2022-06-20T10:11:24.497777Z",
     "iopub.status.idle": "2022-06-20T10:11:38.007591Z",
     "shell.execute_reply": "2022-06-20T10:11:38.007986Z"
    },
    "papermill": {
     "duration": 13.548977,
     "end_time": "2022-06-20T10:11:38.008124",
     "exception": false,
     "start_time": "2022-06-20T10:11:24.459147",
     "status": "completed"
    },
    "tags": []
   },
   "outputs": [
    {
     "name": "stdout",
     "output_type": "stream",
     "text": [
      "Epoch 0, Loss 0.1917\n",
      "Training Accuracy: 0.8307, Testing Accuracy: 0.8453\n",
      "\n"
     ]
    },
    {
     "name": "stdout",
     "output_type": "stream",
     "text": [
      "Epoch 10, Loss 0.0982\n",
      "Training Accuracy: 0.9156, Testing Accuracy: 0.9259\n",
      "\n"
     ]
    },
    {
     "name": "stdout",
     "output_type": "stream",
     "text": [
      "Epoch 20, Loss 0.0777\n",
      "Training Accuracy: 0.9305, Testing Accuracy: 0.9405\n",
      "\n"
     ]
    },
    {
     "name": "stdout",
     "output_type": "stream",
     "text": [
      "Epoch 30, Loss 0.0676\n",
      "Training Accuracy: 0.9377, Testing Accuracy: 0.9481\n",
      "\n"
     ]
    },
    {
     "name": "stdout",
     "output_type": "stream",
     "text": [
      "Epoch 40, Loss 0.0614\n",
      "Training Accuracy: 0.9421, Testing Accuracy: 0.9506\n",
      "\n"
     ]
    },
    {
     "name": "stdout",
     "output_type": "stream",
     "text": [
      "Epoch 50, Loss 0.0571\n",
      "Training Accuracy: 0.9448, Testing Accuracy: 0.9531\n",
      "\n"
     ]
    },
    {
     "name": "stdout",
     "output_type": "stream",
     "text": [
      "Epoch 60, Loss 0.0539\n",
      "Training Accuracy: 0.9487, Testing Accuracy: 0.9567\n",
      "\n"
     ]
    },
    {
     "name": "stdout",
     "output_type": "stream",
     "text": [
      "Epoch 70, Loss 0.0514\n",
      "Training Accuracy: 0.9510, Testing Accuracy: 0.9582\n",
      "\n"
     ]
    },
    {
     "name": "stdout",
     "output_type": "stream",
     "text": [
      "Epoch 80, Loss 0.0493\n",
      "Training Accuracy: 0.9515, Testing Accuracy: 0.9612\n",
      "\n"
     ]
    },
    {
     "name": "stdout",
     "output_type": "stream",
     "text": [
      "Epoch 90, Loss 0.0477\n",
      "Training Accuracy: 0.9526, Testing Accuracy: 0.9617\n",
      "\n"
     ]
    },
    {
     "name": "stdout",
     "output_type": "stream",
     "text": [
      "Epoch 100, Loss 0.0463\n",
      "Training Accuracy: 0.9535, Testing Accuracy: 0.9617\n",
      "\n"
     ]
    },
    {
     "name": "stdout",
     "output_type": "stream",
     "text": [
      "Epoch 110, Loss 0.0451\n",
      "Training Accuracy: 0.9544, Testing Accuracy: 0.9622\n",
      "\n"
     ]
    },
    {
     "name": "stdout",
     "output_type": "stream",
     "text": [
      "Epoch 120, Loss 0.044\n",
      "Training Accuracy: 0.9552, Testing Accuracy: 0.9622\n",
      "\n"
     ]
    },
    {
     "name": "stdout",
     "output_type": "stream",
     "text": [
      "Epoch 130, Loss 0.0431\n",
      "Training Accuracy: 0.9560, Testing Accuracy: 0.9642\n",
      "\n"
     ]
    },
    {
     "name": "stdout",
     "output_type": "stream",
     "text": [
      "Epoch 140, Loss 0.0423\n",
      "Training Accuracy: 0.9566, Testing Accuracy: 0.9657\n",
      "\n"
     ]
    },
    {
     "name": "stdout",
     "output_type": "stream",
     "text": [
      "Epoch 150, Loss 0.0415\n",
      "Training Accuracy: 0.9576, Testing Accuracy: 0.9657\n",
      "\n"
     ]
    },
    {
     "name": "stdout",
     "output_type": "stream",
     "text": [
      "Epoch 160, Loss 0.0409\n",
      "Training Accuracy: 0.9580, Testing Accuracy: 0.9662\n",
      "\n"
     ]
    },
    {
     "name": "stdout",
     "output_type": "stream",
     "text": [
      "Epoch 170, Loss 0.0403\n",
      "Training Accuracy: 0.9584, Testing Accuracy: 0.9662\n",
      "\n"
     ]
    },
    {
     "name": "stdout",
     "output_type": "stream",
     "text": [
      "Epoch 180, Loss 0.0397\n",
      "Training Accuracy: 0.9586, Testing Accuracy: 0.9667\n",
      "\n"
     ]
    },
    {
     "name": "stdout",
     "output_type": "stream",
     "text": [
      "Epoch 190, Loss 0.0392\n",
      "Training Accuracy: 0.9589, Testing Accuracy: 0.9667\n",
      "\n"
     ]
    },
    {
     "name": "stdout",
     "output_type": "stream",
     "text": [
      "Epoch 200, Loss 0.0387\n",
      "Training Accuracy: 0.9590, Testing Accuracy: 0.9667\n",
      "\n"
     ]
    },
    {
     "name": "stdout",
     "output_type": "stream",
     "text": [
      "Epoch 210, Loss 0.0383\n",
      "Training Accuracy: 0.9595, Testing Accuracy: 0.9667\n",
      "\n"
     ]
    },
    {
     "name": "stdout",
     "output_type": "stream",
     "text": [
      "Epoch 220, Loss 0.0379\n",
      "Training Accuracy: 0.9599, Testing Accuracy: 0.9662\n",
      "\n"
     ]
    },
    {
     "name": "stdout",
     "output_type": "stream",
     "text": [
      "Epoch 230, Loss 0.0375\n",
      "Training Accuracy: 0.9601, Testing Accuracy: 0.9662\n",
      "\n"
     ]
    },
    {
     "name": "stdout",
     "output_type": "stream",
     "text": [
      "Epoch 240, Loss 0.0371\n",
      "Training Accuracy: 0.9601, Testing Accuracy: 0.9667\n",
      "\n"
     ]
    },
    {
     "data": {
      "text/plain": [
       "0.03492080322769291"
      ]
     },
     "execution_count": 23,
     "metadata": {},
     "output_type": "execute_result"
    }
   ],
   "source": [
    "lr_learner.train_loop(dl)"
   ]
  },
  {
   "cell_type": "code",
   "execution_count": 24,
   "id": "ca410940",
   "metadata": {
    "execution": {
     "iopub.execute_input": "2022-06-20T10:11:38.090672Z",
     "iopub.status.busy": "2022-06-20T10:11:38.090127Z",
     "iopub.status.idle": "2022-06-20T10:11:38.291718Z",
     "shell.execute_reply": "2022-06-20T10:11:38.291208Z"
    },
    "papermill": {
     "duration": 0.246971,
     "end_time": "2022-06-20T10:11:38.291837",
     "exception": false,
     "start_time": "2022-06-20T10:11:38.044866",
     "status": "completed"
    },
    "tags": []
   },
   "outputs": [
    {
     "data": {
      "text/plain": [
       "<matplotlib.legend.Legend at 0x7f9f450827f0>"
      ]
     },
     "execution_count": 24,
     "metadata": {},
     "output_type": "execute_result"
    },
    {
     "data": {
      "image/png": "[encoded data removed]",
      "text/plain": [
       "<Figure size 1080x720 with 1 Axes>"
      ]
     },
     "metadata": {
      "needs_background": "light"
     },
     "output_type": "display_data"
    }
   ],
   "source": [
    "#comparing the results of NN and LR\n",
    "plt.figure(figsize=(15,10))\n",
    "\n",
    "# Neural Network plots\n",
    "plt.plot(acc_nn.accuracies, 'r-', label = \"Training Accuracies - NN\")\n",
    "plt.plot(acc_nn.test_accuracies, 'g-', label = \"Testing Accuracies - NN\")\n",
    "\n",
    "# Logistic Regression plots\n",
    "plt.plot(acc_lr.accuracies, 'k-', label = \"Training Accuracies - LR\")\n",
    "plt.plot(acc_lr.test_accuracies, 'b-', label = \"Testing Accuracies - LR\")\n",
    "plt.legend()"
   ]
  },
  {
   "cell_type": "markdown",
   "id": "80dfb35c",
   "metadata": {
    "papermill": {
     "duration": 0.042689,
     "end_time": "2022-06-20T10:11:38.377176",
     "exception": false,
     "start_time": "2022-06-20T10:11:38.334487",
     "status": "completed"
    },
    "tags": []
   },
   "source": [
    "#### Plotting the outputs of this layer of the NN.\n"
   ]
  },
  {
   "cell_type": "code",
   "execution_count": 25,
   "id": "45eb2ff5",
   "metadata": {
    "execution": {
     "iopub.execute_input": "2022-06-20T10:11:38.465916Z",
     "iopub.status.busy": "2022-06-20T10:11:38.465284Z",
     "iopub.status.idle": "2022-06-20T10:11:38.485067Z",
     "shell.execute_reply": "2022-06-20T10:11:38.485570Z"
    },
    "papermill": {
     "duration": 0.066153,
     "end_time": "2022-06-20T10:11:38.485716",
     "exception": false,
     "start_time": "2022-06-20T10:11:38.419563",
     "status": "completed"
    },
    "tags": []
   },
   "outputs": [],
   "source": [
    "new_model = Model(layers[:-2])\n",
    "testing_plot = new_model(testing_data_x)"
   ]
  },
  {
   "cell_type": "code",
   "execution_count": 26,
   "id": "4c0a5485",
   "metadata": {
    "execution": {
     "iopub.execute_input": "2022-06-20T10:11:38.579163Z",
     "iopub.status.busy": "2022-06-20T10:11:38.578553Z",
     "iopub.status.idle": "2022-06-20T10:11:38.767277Z",
     "shell.execute_reply": "2022-06-20T10:11:38.766767Z"
    },
    "papermill": {
     "duration": 0.239214,
     "end_time": "2022-06-20T10:11:38.767397",
     "exception": false,
     "start_time": "2022-06-20T10:11:38.528183",
     "status": "completed"
    },
    "tags": []
   },
   "outputs": [
    {
     "data": {
      "text/plain": [
       "Text(0.5, 1.0, 'Outputs')"
      ]
     },
     "execution_count": 26,
     "metadata": {},
     "output_type": "execute_result"
    },
    {
     "data": {
      "image/png": "[encoded data removed]",
      "text/plain": [
       "<Figure size 576x504 with 1 Axes>"
      ]
     },
     "metadata": {
      "needs_background": "light"
     },
     "output_type": "display_data"
    }
   ],
   "source": [
    "# Plotting the scatter plot of points and color coding by class\n",
    "plt.figure(figsize=(8,7))\n",
    "plt.scatter(testing_plot[:,0], testing_plot[:,1], alpha = 0.1, c = y_test.ravel());\n",
    "plt.title('Outputs')"
   ]
  },
  {
   "cell_type": "markdown",
   "id": "a74fcf8f",
   "metadata": {
    "papermill": {
     "duration": 0.045131,
     "end_time": "2022-06-20T10:11:38.857854",
     "exception": false,
     "start_time": "2022-06-20T10:11:38.812723",
     "status": "completed"
    },
    "tags": []
   },
   "source": [
    "Probability contours"
   ]
  },
  {
   "cell_type": "code",
   "execution_count": 27,
   "id": "d0afc8e3",
   "metadata": {
    "execution": {
     "iopub.execute_input": "2022-06-20T10:11:38.964384Z",
     "iopub.status.busy": "2022-06-20T10:11:38.963062Z",
     "iopub.status.idle": "2022-06-20T10:11:38.968691Z",
     "shell.execute_reply": "2022-06-20T10:11:38.968204Z"
    },
    "papermill": {
     "duration": 0.065487,
     "end_time": "2022-06-20T10:11:38.968803",
     "exception": false,
     "start_time": "2022-06-20T10:11:38.903316",
     "status": "completed"
    },
    "tags": []
   },
   "outputs": [],
   "source": [
    "model_prob = Model(layers[-2:]) "
   ]
  },
  {
   "cell_type": "code",
   "execution_count": 28,
   "id": "9b96e238",
   "metadata": {
    "execution": {
     "iopub.execute_input": "2022-06-20T10:11:39.068921Z",
     "iopub.status.busy": "2022-06-20T10:11:39.065649Z",
     "iopub.status.idle": "2022-06-20T10:11:39.080766Z",
     "shell.execute_reply": "2022-06-20T10:11:39.080304Z"
    },
    "papermill": {
     "duration": 0.066946,
     "end_time": "2022-06-20T10:11:39.080884",
     "exception": false,
     "start_time": "2022-06-20T10:11:39.013938",
     "status": "completed"
    },
    "tags": []
   },
   "outputs": [],
   "source": [
    "#creating the x and y ranges according to the above generated plot.\n",
    "x_range = np.linspace(-4, 1, 100) \n",
    "y_range = np.linspace(-6, 6, 100) \n",
    "x_grid, y_grid = np.meshgrid(x_range, y_range) # x_grid and y_grig are of size 100 X 100\n",
    "\n",
    "# converting x_grid and y_grid to continuous arrays\n",
    "x_gridflat = np.ravel(x_grid)\n",
    "y_gridflat = np.ravel(y_grid)\n",
    "\n",
    "# The last layer of the current model takes two columns as input. Hence transpose of np.vstack() is required.\n",
    "X = np.vstack((x_gridflat, y_gridflat)).T\n",
    "\n",
    "prob_contour = model_prob(X).reshape(100,100) "
   ]
  },
  {
   "cell_type": "code",
   "execution_count": 29,
   "id": "da72499a",
   "metadata": {
    "execution": {
     "iopub.execute_input": "2022-06-20T10:11:39.207651Z",
     "iopub.status.busy": "2022-06-20T10:11:39.207042Z",
     "iopub.status.idle": "2022-06-20T10:11:39.428758Z",
     "shell.execute_reply": "2022-06-20T10:11:39.428200Z"
    },
    "papermill": {
     "duration": 0.274596,
     "end_time": "2022-06-20T10:11:39.428887",
     "exception": false,
     "start_time": "2022-06-20T10:11:39.154291",
     "status": "completed"
    },
    "tags": []
   },
   "outputs": [
    {
     "data": {
      "image/png": "[encoded data removed]",
      "text/plain": [
       "<Figure size 720x648 with 1 Axes>"
      ]
     },
     "metadata": {
      "needs_background": "light"
     },
     "output_type": "display_data"
    }
   ],
   "source": [
    "plt.figure(figsize=(10,9))\n",
    "plt.scatter(testing_plot[:,0], testing_plot[:,1], alpha = 0.1, c = y_test.ravel())\n",
    "contours = plt.contour(x_grid,y_grid,prob_contour)\n",
    "plt.title('Probability Contours')\n",
    "plt.clabel(contours, inline = True );"
   ]
  },
  {
   "cell_type": "code",
   "execution_count": null,
   "id": "e81b4ac7",
   "metadata": {
    "papermill": {
     "duration": 0.047587,
     "end_time": "2022-06-20T10:11:39.524687",
     "exception": false,
     "start_time": "2022-06-20T10:11:39.477100",
     "status": "completed"
    },
    "tags": []
   },
   "outputs": [],
   "source": []
  }
 ],
 "metadata": {
  "kernelspec": {
   "display_name": "Python 3",
   "language": "python",
   "name": "python3"
  },
  "language_info": {
   "codemirror_mode": {
    "name": "ipython",
    "version": 3
   },
   "file_extension": ".py",
   "mimetype": "text/x-python",
   "name": "python",
   "nbconvert_exporter": "python",
   "pygments_lexer": "ipython3",
   "version": "3.6.15"
  },
  "papermill": {
   "default_parameters": {},
   "duration": 97.933087,
   "end_time": "2022-06-20T10:11:39.990696",
   "environment_variables": {},
   "exception": null,
   "input_path": "2020-08-11-part2.ipynb",
   "output_path": "2020-08-11-part2.ipynb",
   "parameters": {},
   "start_time": "2022-06-20T10:10:02.057609",
   "version": "2.3.3"
  }
 },
 "nbformat": 4,
 "nbformat_minor": 5
}