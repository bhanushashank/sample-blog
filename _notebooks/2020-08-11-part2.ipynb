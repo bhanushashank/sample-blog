{
 "cells": [
  {
   "cell_type": "markdown",
   "id": "98380cd3",
   "metadata": {
    "papermill": {
     "duration": 0.036504,
     "end_time": "2021-11-18T10:09:07.675077",
     "exception": false,
     "start_time": "2021-11-18T10:09:07.638573",
     "status": "completed"
    },
    "tags": []
   },
   "source": [
    "# Distinguish Your Own Digits (DYOD)"
   ]
  },
  {
   "cell_type": "markdown",
   "id": "ef31240d",
   "metadata": {
    "papermill": {
     "duration": 0.033153,
     "end_time": "2021-11-18T10:09:07.742406",
     "exception": false,
     "start_time": "2021-11-18T10:09:07.709253",
     "status": "completed"
    },
    "tags": []
   },
   "source": [
    "You are going to write a classifier that distinguishes between the number 3 and number 8."
   ]
  },
  {
   "cell_type": "code",
   "execution_count": 1,
   "id": "b15c8646",
   "metadata": {
    "execution": {
     "iopub.execute_input": "2021-11-18T10:09:07.817597Z",
     "iopub.status.busy": "2021-11-18T10:09:07.816842Z",
     "iopub.status.idle": "2021-11-18T10:09:07.829458Z",
     "shell.execute_reply": "2021-11-18T10:09:07.828754Z"
    },
    "papermill": {
     "duration": 0.056765,
     "end_time": "2021-11-18T10:09:07.829640",
     "exception": false,
     "start_time": "2021-11-18T10:09:07.772875",
     "status": "completed"
    },
    "tags": []
   },
   "outputs": [],
   "source": [
    "%load_ext autoreload\n",
    "%autoreload 2"
   ]
  },
  {
   "cell_type": "code",
   "execution_count": 2,
   "id": "22ef38dc",
   "metadata": {
    "execution": {
     "iopub.execute_input": "2021-11-18T10:09:07.901230Z",
     "iopub.status.busy": "2021-11-18T10:09:07.900121Z",
     "iopub.status.idle": "2021-11-18T10:09:08.639679Z",
     "shell.execute_reply": "2021-11-18T10:09:08.640224Z"
    },
    "papermill": {
     "duration": 0.77963,
     "end_time": "2021-11-18T10:09:08.640408",
     "exception": false,
     "start_time": "2021-11-18T10:09:07.860778",
     "status": "completed"
    },
    "tags": []
   },
   "outputs": [],
   "source": [
    "%matplotlib inline\n",
    "import numpy as np\n",
    "import matplotlib.pyplot as plt\n",
    "import pandas as pd"
   ]
  },
  {
   "cell_type": "markdown",
   "id": "ba036198",
   "metadata": {
    "papermill": {
     "duration": 0.031939,
     "end_time": "2021-11-18T10:09:08.703626",
     "exception": false,
     "start_time": "2021-11-18T10:09:08.671687",
     "status": "completed"
    },
    "tags": []
   },
   "source": [
    "From the command line run `pip install mnist`. This is a library that will help you bring down the mnist dataset. If you run this from a notebook, you need to put  `!pip install mnist` in a cell by itself."
   ]
  },
  {
   "cell_type": "code",
   "execution_count": 3,
   "id": "bb6ad8a1",
   "metadata": {
    "execution": {
     "iopub.execute_input": "2021-11-18T10:09:08.775284Z",
     "iopub.status.busy": "2021-11-18T10:09:08.774570Z",
     "iopub.status.idle": "2021-11-18T10:09:11.752423Z",
     "shell.execute_reply": "2021-11-18T10:09:11.751806Z"
    },
    "papermill": {
     "duration": 3.01592,
     "end_time": "2021-11-18T10:09:11.752576",
     "exception": false,
     "start_time": "2021-11-18T10:09:08.736656",
     "status": "completed"
    },
    "tags": []
   },
   "outputs": [
    {
     "name": "stdout",
     "output_type": "stream",
     "text": [
      "Collecting mnist\r\n"
     ]
    },
    {
     "name": "stdout",
     "output_type": "stream",
     "text": [
      "  Downloading mnist-0.2.2-py2.py3-none-any.whl (3.5 kB)\r\n"
     ]
    },
    {
     "name": "stdout",
     "output_type": "stream",
     "text": [
      "Requirement already satisfied: numpy in /opt/hostedtoolcache/Python/3.6.15/x64/lib/python3.6/site-packages (from mnist) (1.19.5)\r\n"
     ]
    },
    {
     "name": "stdout",
     "output_type": "stream",
     "text": [
      "Installing collected packages: mnist\r\n"
     ]
    },
    {
     "name": "stdout",
     "output_type": "stream",
     "text": [
      "Successfully installed mnist-0.2.2\r\n"
     ]
    }
   ],
   "source": [
    "!pip install mnist"
   ]
  },
  {
   "cell_type": "markdown",
   "id": "69df9c9a",
   "metadata": {
    "papermill": {
     "duration": 0.033756,
     "end_time": "2021-11-18T10:09:11.820422",
     "exception": false,
     "start_time": "2021-11-18T10:09:11.786666",
     "status": "completed"
    },
    "tags": []
   },
   "source": [
    "## Preparing the Data"
   ]
  },
  {
   "cell_type": "code",
   "execution_count": 4,
   "id": "7f69d806",
   "metadata": {
    "execution": {
     "iopub.execute_input": "2021-11-18T10:09:11.909209Z",
     "iopub.status.busy": "2021-11-18T10:09:11.902639Z",
     "iopub.status.idle": "2021-11-18T10:09:11.914054Z",
     "shell.execute_reply": "2021-11-18T10:09:11.913465Z"
    },
    "papermill": {
     "duration": 0.060552,
     "end_time": "2021-11-18T10:09:11.914206",
     "exception": false,
     "start_time": "2021-11-18T10:09:11.853654",
     "status": "completed"
    },
    "tags": []
   },
   "outputs": [],
   "source": [
    "import mnist"
   ]
  },
  {
   "cell_type": "code",
   "execution_count": 5,
   "id": "a411e44f",
   "metadata": {
    "execution": {
     "iopub.execute_input": "2021-11-18T10:09:11.990946Z",
     "iopub.status.busy": "2021-11-18T10:09:11.990246Z",
     "iopub.status.idle": "2021-11-18T10:09:12.725126Z",
     "shell.execute_reply": "2021-11-18T10:09:12.724334Z"
    },
    "papermill": {
     "duration": 0.778038,
     "end_time": "2021-11-18T10:09:12.725298",
     "exception": false,
     "start_time": "2021-11-18T10:09:11.947260",
     "status": "completed"
    },
    "tags": []
   },
   "outputs": [],
   "source": [
    "train_images = mnist.train_images()\n",
    "train_labels = mnist.train_labels()"
   ]
  },
  {
   "cell_type": "code",
   "execution_count": 6,
   "id": "dceab3a5",
   "metadata": {
    "execution": {
     "iopub.execute_input": "2021-11-18T10:09:12.801620Z",
     "iopub.status.busy": "2021-11-18T10:09:12.799352Z",
     "iopub.status.idle": "2021-11-18T10:09:12.817558Z",
     "shell.execute_reply": "2021-11-18T10:09:12.816752Z"
    },
    "papermill": {
     "duration": 0.058409,
     "end_time": "2021-11-18T10:09:12.817706",
     "exception": false,
     "start_time": "2021-11-18T10:09:12.759297",
     "status": "completed"
    },
    "tags": []
   },
   "outputs": [
    {
     "data": {
      "text/plain": [
       "((60000, 28, 28), (60000,))"
      ]
     },
     "execution_count": 6,
     "metadata": {},
     "output_type": "execute_result"
    }
   ],
   "source": [
    "train_images.shape, train_labels.shape"
   ]
  },
  {
   "cell_type": "code",
   "execution_count": 7,
   "id": "f50dc2bb",
   "metadata": {
    "execution": {
     "iopub.execute_input": "2021-11-18T10:09:12.892350Z",
     "iopub.status.busy": "2021-11-18T10:09:12.891641Z",
     "iopub.status.idle": "2021-11-18T10:09:13.127867Z",
     "shell.execute_reply": "2021-11-18T10:09:13.127208Z"
    },
    "papermill": {
     "duration": 0.274374,
     "end_time": "2021-11-18T10:09:13.128082",
     "exception": false,
     "start_time": "2021-11-18T10:09:12.853708",
     "status": "completed"
    },
    "tags": []
   },
   "outputs": [],
   "source": [
    "test_images = mnist.test_images()\n",
    "test_labels = mnist.test_labels()"
   ]
  },
  {
   "cell_type": "code",
   "execution_count": 8,
   "id": "fc38cf1b",
   "metadata": {
    "execution": {
     "iopub.execute_input": "2021-11-18T10:09:13.204015Z",
     "iopub.status.busy": "2021-11-18T10:09:13.203332Z",
     "iopub.status.idle": "2021-11-18T10:09:13.218493Z",
     "shell.execute_reply": "2021-11-18T10:09:13.217901Z"
    },
    "papermill": {
     "duration": 0.055429,
     "end_time": "2021-11-18T10:09:13.218641",
     "exception": false,
     "start_time": "2021-11-18T10:09:13.163212",
     "status": "completed"
    },
    "tags": []
   },
   "outputs": [
    {
     "data": {
      "text/plain": [
       "((10000, 28, 28), (10000,))"
      ]
     },
     "execution_count": 8,
     "metadata": {},
     "output_type": "execute_result"
    }
   ],
   "source": [
    "test_images.shape, test_labels.shape"
   ]
  },
  {
   "cell_type": "code",
   "execution_count": 9,
   "id": "f9ed8fe0",
   "metadata": {
    "execution": {
     "iopub.execute_input": "2021-11-18T10:09:13.296815Z",
     "iopub.status.busy": "2021-11-18T10:09:13.296121Z",
     "iopub.status.idle": "2021-11-18T10:09:13.482954Z",
     "shell.execute_reply": "2021-11-18T10:09:13.483498Z"
    },
    "papermill": {
     "duration": 0.229522,
     "end_time": "2021-11-18T10:09:13.483666",
     "exception": false,
     "start_time": "2021-11-18T10:09:13.254144",
     "status": "completed"
    },
    "tags": []
   },
   "outputs": [
    {
     "name": "stdout",
     "output_type": "stream",
     "text": [
      "2\n"
     ]
    },
    {
     "data": {
      "text/plain": [
       "<matplotlib.image.AxesImage at 0x7f3eb43baf60>"
      ]
     },
     "execution_count": 9,
     "metadata": {},
     "output_type": "execute_result"
    },
    {
     "data": {
      "image/png": "[encoded data removed]",
      "text/plain": [
       "<Figure size 432x288 with 1 Axes>"
      ]
     },
     "metadata": {
      "needs_background": "light"
     },
     "output_type": "display_data"
    }
   ],
   "source": [
    "image_index = 7776 # You may select anything up to 60,000\n",
    "print(train_labels[image_index]) \n",
    "plt.imshow(train_images[image_index], cmap='Greys')"
   ]
  },
  {
   "cell_type": "markdown",
   "id": "a8d2388d",
   "metadata": {
    "papermill": {
     "duration": 0.03596,
     "end_time": "2021-11-18T10:09:13.553583",
     "exception": false,
     "start_time": "2021-11-18T10:09:13.517623",
     "status": "completed"
    },
    "tags": []
   },
   "source": [
    "## Filter data to get 3 and 8 out"
   ]
  },
  {
   "cell_type": "code",
   "execution_count": 10,
   "id": "776f7fc7",
   "metadata": {
    "execution": {
     "iopub.execute_input": "2021-11-18T10:09:13.633180Z",
     "iopub.status.busy": "2021-11-18T10:09:13.632432Z",
     "iopub.status.idle": "2021-11-18T10:09:13.652082Z",
     "shell.execute_reply": "2021-11-18T10:09:13.651442Z"
    },
    "papermill": {
     "duration": 0.062533,
     "end_time": "2021-11-18T10:09:13.652233",
     "exception": false,
     "start_time": "2021-11-18T10:09:13.589700",
     "status": "completed"
    },
    "tags": []
   },
   "outputs": [],
   "source": [
    "train_filter = np.where((train_labels == 3 ) | (train_labels == 8))\n",
    "test_filter = np.where((test_labels == 3) | (test_labels == 8))\n",
    "X_train, y_train = train_images[train_filter], train_labels[train_filter]\n",
    "X_test, y_test = test_images[test_filter], test_labels[test_filter]"
   ]
  },
  {
   "cell_type": "markdown",
   "id": "948f0b7e",
   "metadata": {
    "papermill": {
     "duration": 0.034322,
     "end_time": "2021-11-18T10:09:13.721555",
     "exception": false,
     "start_time": "2021-11-18T10:09:13.687233",
     "status": "completed"
    },
    "tags": []
   },
   "source": [
    "We normalize the pizel values in the 0 to 1 range"
   ]
  },
  {
   "cell_type": "code",
   "execution_count": 11,
   "id": "ee4c2166",
   "metadata": {
    "execution": {
     "iopub.execute_input": "2021-11-18T10:09:13.797977Z",
     "iopub.status.busy": "2021-11-18T10:09:13.797301Z",
     "iopub.status.idle": "2021-11-18T10:09:13.862837Z",
     "shell.execute_reply": "2021-11-18T10:09:13.862175Z"
    },
    "papermill": {
     "duration": 0.105357,
     "end_time": "2021-11-18T10:09:13.862995",
     "exception": false,
     "start_time": "2021-11-18T10:09:13.757638",
     "status": "completed"
    },
    "tags": []
   },
   "outputs": [],
   "source": [
    "X_train = X_train/255.\n",
    "X_test = X_test/255."
   ]
  },
  {
   "cell_type": "markdown",
   "id": "ddcf4fab",
   "metadata": {
    "papermill": {
     "duration": 0.034168,
     "end_time": "2021-11-18T10:09:13.932165",
     "exception": false,
     "start_time": "2021-11-18T10:09:13.897997",
     "status": "completed"
    },
    "tags": []
   },
   "source": [
    "And setup the labels as 1 (when the digit is 3) and 0 (when the digit is 8)"
   ]
  },
  {
   "cell_type": "code",
   "execution_count": 12,
   "id": "7dc908f2",
   "metadata": {
    "execution": {
     "iopub.execute_input": "2021-11-18T10:09:14.005567Z",
     "iopub.status.busy": "2021-11-18T10:09:14.004859Z",
     "iopub.status.idle": "2021-11-18T10:09:14.024858Z",
     "shell.execute_reply": "2021-11-18T10:09:14.024258Z"
    },
    "papermill": {
     "duration": 0.058341,
     "end_time": "2021-11-18T10:09:14.025052",
     "exception": false,
     "start_time": "2021-11-18T10:09:13.966711",
     "status": "completed"
    },
    "tags": []
   },
   "outputs": [],
   "source": [
    "y_train = 1*(y_train==3)\n",
    "y_test = 1*(y_test==3)"
   ]
  },
  {
   "cell_type": "code",
   "execution_count": 13,
   "id": "01e4e969",
   "metadata": {
    "execution": {
     "iopub.execute_input": "2021-11-18T10:09:14.113926Z",
     "iopub.status.busy": "2021-11-18T10:09:14.109372Z",
     "iopub.status.idle": "2021-11-18T10:09:14.121096Z",
     "shell.execute_reply": "2021-11-18T10:09:14.120487Z"
    },
    "papermill": {
     "duration": 0.05923,
     "end_time": "2021-11-18T10:09:14.121246",
     "exception": false,
     "start_time": "2021-11-18T10:09:14.062016",
     "status": "completed"
    },
    "tags": []
   },
   "outputs": [
    {
     "data": {
      "text/plain": [
       "((11982, 28, 28), (1984, 28, 28))"
      ]
     },
     "execution_count": 13,
     "metadata": {},
     "output_type": "execute_result"
    }
   ],
   "source": [
    "X_train.shape, X_test.shape"
   ]
  },
  {
   "cell_type": "markdown",
   "id": "5ccf3f85",
   "metadata": {
    "papermill": {
     "duration": 0.034872,
     "end_time": "2021-11-18T10:09:14.191891",
     "exception": false,
     "start_time": "2021-11-18T10:09:14.157019",
     "status": "completed"
    },
    "tags": []
   },
   "source": [
    "We reshape the data to flatten the image pixels into a set of features or co-variates:"
   ]
  },
  {
   "cell_type": "code",
   "execution_count": 14,
   "id": "5286a4a3",
   "metadata": {
    "execution": {
     "iopub.execute_input": "2021-11-18T10:09:14.270551Z",
     "iopub.status.busy": "2021-11-18T10:09:14.269871Z",
     "iopub.status.idle": "2021-11-18T10:09:14.286501Z",
     "shell.execute_reply": "2021-11-18T10:09:14.287025Z"
    },
    "papermill": {
     "duration": 0.056777,
     "end_time": "2021-11-18T10:09:14.287210",
     "exception": false,
     "start_time": "2021-11-18T10:09:14.230433",
     "status": "completed"
    },
    "tags": []
   },
   "outputs": [
    {
     "data": {
      "text/plain": [
       "((11982, 784), (1984, 784))"
      ]
     },
     "execution_count": 14,
     "metadata": {},
     "output_type": "execute_result"
    }
   ],
   "source": [
    "X_train = X_train.reshape(X_train.shape[0], -1)\n",
    "X_test = X_test.reshape(X_test.shape[0], -1)\n",
    "X_train.shape, X_test.shape"
   ]
  },
  {
   "cell_type": "code",
   "execution_count": 15,
   "id": "73c5f88a",
   "metadata": {
    "execution": {
     "iopub.execute_input": "2021-11-18T10:09:14.365322Z",
     "iopub.status.busy": "2021-11-18T10:09:14.364468Z",
     "iopub.status.idle": "2021-11-18T10:09:14.386481Z",
     "shell.execute_reply": "2021-11-18T10:09:14.387017Z"
    },
    "papermill": {
     "duration": 0.064581,
     "end_time": "2021-11-18T10:09:14.387202",
     "exception": false,
     "start_time": "2021-11-18T10:09:14.322621",
     "status": "completed"
    },
    "tags": []
   },
   "outputs": [],
   "source": [
    "#Impoting functions from 'Kudzu'\n",
    "from kudzu.model import Model\n",
    "from kudzu.train import Learner\n",
    "from kudzu.optim import GD\n",
    "from kudzu.data import Data, Sampler,Dataloader\n",
    "\n",
    "from kudzu.callbacks import AccCallback\n",
    "from kudzu.callbacks import ClfCallback\n",
    "\n",
    "from kudzu.loss import MSE\n",
    "\n",
    "from kudzu.layer import Sigmoid,Relu\n",
    "from kudzu.layer import Affine"
   ]
  },
  {
   "cell_type": "markdown",
   "id": "bc01172a",
   "metadata": {
    "papermill": {
     "duration": 0.036009,
     "end_time": "2021-11-18T10:09:14.458764",
     "exception": false,
     "start_time": "2021-11-18T10:09:14.422755",
     "status": "completed"
    },
    "tags": []
   },
   "source": [
    "### Let us create a `Config` class, to store important parameters. \n",
    "This class essentially plays the role of a dictionary."
   ]
  },
  {
   "cell_type": "code",
   "execution_count": 16,
   "id": "978281aa",
   "metadata": {
    "execution": {
     "iopub.execute_input": "2021-11-18T10:09:14.537804Z",
     "iopub.status.busy": "2021-11-18T10:09:14.537132Z",
     "iopub.status.idle": "2021-11-18T10:09:14.551334Z",
     "shell.execute_reply": "2021-11-18T10:09:14.551949Z"
    },
    "papermill": {
     "duration": 0.056205,
     "end_time": "2021-11-18T10:09:14.552132",
     "exception": false,
     "start_time": "2021-11-18T10:09:14.495927",
     "status": "completed"
    },
    "tags": []
   },
   "outputs": [],
   "source": [
    "class Config:\n",
    "    pass\n",
    "config = Config()\n",
    "config.lr = 0.001\n",
    "config.num_epochs = 250\n",
    "config.bs = 50"
   ]
  },
  {
   "cell_type": "markdown",
   "id": "1385fa59",
   "metadata": {
    "papermill": {
     "duration": 0.035654,
     "end_time": "2021-11-18T10:09:14.625084",
     "exception": false,
     "start_time": "2021-11-18T10:09:14.589430",
     "status": "completed"
    },
    "tags": []
   },
   "source": [
    "### Running Models with the Training data\n",
    "Details about the network layers:\n",
    "- A first affine layer has 784 inputs and does 100 affine transforms. These are followed by a Relu\n",
    "- A second affine layer has 100 inputs from the 100 activations of the past layer, and does 100 affine transforms. These are followed by a Relu\n",
    "- A third affine layer has 100 activations and does 2 affine transformations to create an embedding for visualization. There is no non-linearity here.\n",
    "- A final \"logistic regression\" which has an affine transform from 2 inputs to 1 output, which is squeezed through a sigmoid.\n"
   ]
  },
  {
   "cell_type": "code",
   "execution_count": 17,
   "id": "2b9c66db",
   "metadata": {
    "execution": {
     "iopub.execute_input": "2021-11-18T10:09:14.704598Z",
     "iopub.status.busy": "2021-11-18T10:09:14.703911Z",
     "iopub.status.idle": "2021-11-18T10:09:14.717445Z",
     "shell.execute_reply": "2021-11-18T10:09:14.718039Z"
    },
    "papermill": {
     "duration": 0.05606,
     "end_time": "2021-11-18T10:09:14.718208",
     "exception": false,
     "start_time": "2021-11-18T10:09:14.662148",
     "status": "completed"
    },
    "tags": []
   },
   "outputs": [],
   "source": [
    "data = Data(X_train, y_train.reshape(-1,1))\n",
    "sampler = Sampler(data, config.bs, shuffle=True)\n",
    "\n",
    "dl = Dataloader(data, sampler)\n",
    "\n",
    "opt = GD(config.lr)\n",
    "loss = MSE()"
   ]
  },
  {
   "cell_type": "code",
   "execution_count": 18,
   "id": "b275e4c2",
   "metadata": {
    "execution": {
     "iopub.execute_input": "2021-11-18T10:09:14.796183Z",
     "iopub.status.busy": "2021-11-18T10:09:14.795395Z",
     "iopub.status.idle": "2021-11-18T10:09:14.809124Z",
     "shell.execute_reply": "2021-11-18T10:09:14.808394Z"
    },
    "papermill": {
     "duration": 0.055121,
     "end_time": "2021-11-18T10:09:14.809276",
     "exception": false,
     "start_time": "2021-11-18T10:09:14.754155",
     "status": "completed"
    },
    "tags": []
   },
   "outputs": [],
   "source": [
    "training_data_x = X_train\n",
    "testing_data_x = X_test\n",
    "training_data_y = y_train.reshape(-1,1)\n",
    "testing_data_y = y_test.reshape(-1,1)"
   ]
  },
  {
   "cell_type": "code",
   "execution_count": 19,
   "id": "76951160",
   "metadata": {
    "execution": {
     "iopub.execute_input": "2021-11-18T10:09:14.888570Z",
     "iopub.status.busy": "2021-11-18T10:09:14.887878Z",
     "iopub.status.idle": "2021-11-18T10:09:14.906515Z",
     "shell.execute_reply": "2021-11-18T10:09:14.905930Z"
    },
    "papermill": {
     "duration": 0.059431,
     "end_time": "2021-11-18T10:09:14.906662",
     "exception": false,
     "start_time": "2021-11-18T10:09:14.847231",
     "status": "completed"
    },
    "tags": []
   },
   "outputs": [
    {
     "name": "stdout",
     "output_type": "stream",
     "text": [
      "xavier\n",
      "xavier\n",
      "xavier\n",
      "xavier\n",
      "xavier\n"
     ]
    }
   ],
   "source": [
    "layers = [Affine(\"first\", 784, 100), Relu(\"first\"), Affine(\"second\", 100, 100), Relu(\"second\"), Affine(\"third\", 100, 2), Affine(\"last\", 2, 1), Sigmoid(\"last\")]\n",
    "model_nn = Model(layers)\n",
    "model_lr = Model([Affine(\"logits\", 784, 1), Sigmoid(\"sigmoid\")])"
   ]
  },
  {
   "cell_type": "code",
   "execution_count": 20,
   "id": "6eede77a",
   "metadata": {
    "execution": {
     "iopub.execute_input": "2021-11-18T10:09:14.991798Z",
     "iopub.status.busy": "2021-11-18T10:09:14.991107Z",
     "iopub.status.idle": "2021-11-18T10:09:15.000610Z",
     "shell.execute_reply": "2021-11-18T10:09:15.001198Z"
    },
    "papermill": {
     "duration": 0.058732,
     "end_time": "2021-11-18T10:09:15.001372",
     "exception": false,
     "start_time": "2021-11-18T10:09:14.942640",
     "status": "completed"
    },
    "tags": []
   },
   "outputs": [],
   "source": [
    "nn_learner = Learner(loss, model_nn, opt, config.num_epochs)\n",
    "acc_nn = ClfCallback(nn_learner, config.bs, training_data_x , testing_data_x, training_data_y, testing_data_y)\n",
    "nn_learner.set_callbacks([acc_nn])"
   ]
  },
  {
   "cell_type": "code",
   "execution_count": 21,
   "id": "877b6cc7",
   "metadata": {
    "execution": {
     "iopub.execute_input": "2021-11-18T10:09:15.089181Z",
     "iopub.status.busy": "2021-11-18T10:09:15.088451Z",
     "iopub.status.idle": "2021-11-18T10:09:15.099545Z",
     "shell.execute_reply": "2021-11-18T10:09:15.100156Z"
    },
    "papermill": {
     "duration": 0.061689,
     "end_time": "2021-11-18T10:09:15.100330",
     "exception": false,
     "start_time": "2021-11-18T10:09:15.038641",
     "status": "completed"
    },
    "tags": []
   },
   "outputs": [],
   "source": [
    "lr_learner = Learner(loss, model_lr, opt, config.num_epochs)\n",
    "acc_lr = ClfCallback(lr_learner, config.bs, training_data_x , testing_data_x, training_data_y, testing_data_y)\n",
    "lr_learner.set_callbacks([acc_lr])"
   ]
  },
  {
   "cell_type": "code",
   "execution_count": 22,
   "id": "d9b133c3",
   "metadata": {
    "execution": {
     "iopub.execute_input": "2021-11-18T10:09:15.178629Z",
     "iopub.status.busy": "2021-11-18T10:09:15.177963Z",
     "iopub.status.idle": "2021-11-18T10:11:24.437929Z",
     "shell.execute_reply": "2021-11-18T10:11:24.438805Z"
    },
    "papermill": {
     "duration": 129.303077,
     "end_time": "2021-11-18T10:11:24.438982",
     "exception": false,
     "start_time": "2021-11-18T10:09:15.135905",
     "status": "completed"
    },
    "tags": []
   },
   "outputs": [
    {
     "name": "stdout",
     "output_type": "stream",
     "text": [
      "Epoch 0, Loss 0.25\n",
      "Training Accuracy: 0.5149, Testing Accuracy: 0.5121\n",
      "\n"
     ]
    },
    {
     "name": "stdout",
     "output_type": "stream",
     "text": [
      "Epoch 10, Loss 0.2469\n",
      "Training Accuracy: 0.5723, Testing Accuracy: 0.5726\n",
      "\n"
     ]
    },
    {
     "name": "stdout",
     "output_type": "stream",
     "text": [
      "Epoch 20, Loss 0.2357\n",
      "Training Accuracy: 0.7925, Testing Accuracy: 0.7908\n",
      "\n"
     ]
    },
    {
     "name": "stdout",
     "output_type": "stream",
     "text": [
      "Epoch 30, Loss 0.1753\n",
      "Training Accuracy: 0.8972, Testing Accuracy: 0.9153\n",
      "\n"
     ]
    },
    {
     "name": "stdout",
     "output_type": "stream",
     "text": [
      "Epoch 40, Loss 0.0844\n",
      "Training Accuracy: 0.9231, Testing Accuracy: 0.9385\n",
      "\n"
     ]
    },
    {
     "name": "stdout",
     "output_type": "stream",
     "text": [
      "Epoch 50, Loss 0.0563\n",
      "Training Accuracy: 0.9422, Testing Accuracy: 0.9526\n",
      "\n"
     ]
    },
    {
     "name": "stdout",
     "output_type": "stream",
     "text": [
      "Epoch 60, Loss 0.0453\n",
      "Training Accuracy: 0.9517, Testing Accuracy: 0.9592\n",
      "\n"
     ]
    },
    {
     "name": "stdout",
     "output_type": "stream",
     "text": [
      "Epoch 70, Loss 0.0395\n",
      "Training Accuracy: 0.9557, Testing Accuracy: 0.9617\n",
      "\n"
     ]
    },
    {
     "name": "stdout",
     "output_type": "stream",
     "text": [
      "Epoch 80, Loss 0.036\n",
      "Training Accuracy: 0.9592, Testing Accuracy: 0.9682\n",
      "\n"
     ]
    },
    {
     "name": "stdout",
     "output_type": "stream",
     "text": [
      "Epoch 90, Loss 0.0336\n",
      "Training Accuracy: 0.9614, Testing Accuracy: 0.9693\n",
      "\n"
     ]
    },
    {
     "name": "stdout",
     "output_type": "stream",
     "text": [
      "Epoch 100, Loss 0.0318\n",
      "Training Accuracy: 0.9634, Testing Accuracy: 0.9693\n",
      "\n"
     ]
    },
    {
     "name": "stdout",
     "output_type": "stream",
     "text": [
      "Epoch 110, Loss 0.0303\n",
      "Training Accuracy: 0.9651, Testing Accuracy: 0.9698\n",
      "\n"
     ]
    },
    {
     "name": "stdout",
     "output_type": "stream",
     "text": [
      "Epoch 120, Loss 0.0291\n",
      "Training Accuracy: 0.9661, Testing Accuracy: 0.9703\n",
      "\n"
     ]
    },
    {
     "name": "stdout",
     "output_type": "stream",
     "text": [
      "Epoch 130, Loss 0.0281\n",
      "Training Accuracy: 0.9676, Testing Accuracy: 0.9713\n",
      "\n"
     ]
    },
    {
     "name": "stdout",
     "output_type": "stream",
     "text": [
      "Epoch 140, Loss 0.0272\n",
      "Training Accuracy: 0.9685, Testing Accuracy: 0.9723\n",
      "\n"
     ]
    },
    {
     "name": "stdout",
     "output_type": "stream",
     "text": [
      "Epoch 150, Loss 0.0265\n",
      "Training Accuracy: 0.9691, Testing Accuracy: 0.9723\n",
      "\n"
     ]
    },
    {
     "name": "stdout",
     "output_type": "stream",
     "text": [
      "Epoch 160, Loss 0.0258\n",
      "Training Accuracy: 0.9698, Testing Accuracy: 0.9723\n",
      "\n"
     ]
    },
    {
     "name": "stdout",
     "output_type": "stream",
     "text": [
      "Epoch 170, Loss 0.0252\n",
      "Training Accuracy: 0.9707, Testing Accuracy: 0.9728\n",
      "\n"
     ]
    },
    {
     "name": "stdout",
     "output_type": "stream",
     "text": [
      "Epoch 180, Loss 0.0246\n",
      "Training Accuracy: 0.9719, Testing Accuracy: 0.9728\n",
      "\n"
     ]
    },
    {
     "name": "stdout",
     "output_type": "stream",
     "text": [
      "Epoch 190, Loss 0.0241\n",
      "Training Accuracy: 0.9723, Testing Accuracy: 0.9723\n",
      "\n"
     ]
    },
    {
     "name": "stdout",
     "output_type": "stream",
     "text": [
      "Epoch 200, Loss 0.0236\n",
      "Training Accuracy: 0.9728, Testing Accuracy: 0.9723\n",
      "\n"
     ]
    },
    {
     "name": "stdout",
     "output_type": "stream",
     "text": [
      "Epoch 210, Loss 0.0231\n",
      "Training Accuracy: 0.9731, Testing Accuracy: 0.9718\n",
      "\n"
     ]
    },
    {
     "name": "stdout",
     "output_type": "stream",
     "text": [
      "Epoch 220, Loss 0.0227\n",
      "Training Accuracy: 0.9731, Testing Accuracy: 0.9718\n",
      "\n"
     ]
    },
    {
     "name": "stdout",
     "output_type": "stream",
     "text": [
      "Epoch 230, Loss 0.0222\n",
      "Training Accuracy: 0.9737, Testing Accuracy: 0.9723\n",
      "\n"
     ]
    },
    {
     "name": "stdout",
     "output_type": "stream",
     "text": [
      "Epoch 240, Loss 0.0219\n",
      "Training Accuracy: 0.9746, Testing Accuracy: 0.9728\n",
      "\n"
     ]
    },
    {
     "data": {
      "text/plain": [
       "0.021568361576351502"
      ]
     },
     "execution_count": 22,
     "metadata": {},
     "output_type": "execute_result"
    }
   ],
   "source": [
    "nn_learner.train_loop(dl)"
   ]
  },
  {
   "cell_type": "code",
   "execution_count": 23,
   "id": "e0163366",
   "metadata": {
    "execution": {
     "iopub.execute_input": "2021-11-18T10:11:24.539194Z",
     "iopub.status.busy": "2021-11-18T10:11:24.537806Z",
     "iopub.status.idle": "2021-11-18T10:11:43.559951Z",
     "shell.execute_reply": "2021-11-18T10:11:43.560865Z"
    },
    "papermill": {
     "duration": 19.077413,
     "end_time": "2021-11-18T10:11:43.561054",
     "exception": false,
     "start_time": "2021-11-18T10:11:24.483641",
     "status": "completed"
    },
    "tags": []
   },
   "outputs": [
    {
     "name": "stdout",
     "output_type": "stream",
     "text": [
      "Epoch 0, Loss 0.2475\n",
      "Training Accuracy: 0.6523, Testing Accuracy: 0.6477\n",
      "\n"
     ]
    },
    {
     "name": "stdout",
     "output_type": "stream",
     "text": [
      "Epoch 10, Loss 0.1043\n",
      "Training Accuracy: 0.9055, Testing Accuracy: 0.9148\n",
      "\n"
     ]
    },
    {
     "name": "stdout",
     "output_type": "stream",
     "text": [
      "Epoch 20, Loss 0.0803\n",
      "Training Accuracy: 0.9256, Testing Accuracy: 0.9325\n",
      "\n"
     ]
    },
    {
     "name": "stdout",
     "output_type": "stream",
     "text": [
      "Epoch 30, Loss 0.069\n",
      "Training Accuracy: 0.9348, Testing Accuracy: 0.9446\n",
      "\n"
     ]
    },
    {
     "name": "stdout",
     "output_type": "stream",
     "text": [
      "Epoch 40, Loss 0.0621\n",
      "Training Accuracy: 0.9402, Testing Accuracy: 0.9491\n",
      "\n"
     ]
    },
    {
     "name": "stdout",
     "output_type": "stream",
     "text": [
      "Epoch 50, Loss 0.0574\n",
      "Training Accuracy: 0.9453, Testing Accuracy: 0.9511\n",
      "\n"
     ]
    },
    {
     "name": "stdout",
     "output_type": "stream",
     "text": [
      "Epoch 60, Loss 0.054\n",
      "Training Accuracy: 0.9476, Testing Accuracy: 0.9546\n",
      "\n"
     ]
    },
    {
     "name": "stdout",
     "output_type": "stream",
     "text": [
      "Epoch 70, Loss 0.0513\n",
      "Training Accuracy: 0.9495, Testing Accuracy: 0.9582\n",
      "\n"
     ]
    },
    {
     "name": "stdout",
     "output_type": "stream",
     "text": [
      "Epoch 80, Loss 0.0492\n",
      "Training Accuracy: 0.9516, Testing Accuracy: 0.9607\n",
      "\n"
     ]
    },
    {
     "name": "stdout",
     "output_type": "stream",
     "text": [
      "Epoch 90, Loss 0.0474\n",
      "Training Accuracy: 0.9531, Testing Accuracy: 0.9607\n",
      "\n"
     ]
    },
    {
     "name": "stdout",
     "output_type": "stream",
     "text": [
      "Epoch 100, Loss 0.046\n",
      "Training Accuracy: 0.9545, Testing Accuracy: 0.9622\n",
      "\n"
     ]
    },
    {
     "name": "stdout",
     "output_type": "stream",
     "text": [
      "Epoch 110, Loss 0.0447\n",
      "Training Accuracy: 0.9553, Testing Accuracy: 0.9622\n",
      "\n"
     ]
    },
    {
     "name": "stdout",
     "output_type": "stream",
     "text": [
      "Epoch 120, Loss 0.0436\n",
      "Training Accuracy: 0.9560, Testing Accuracy: 0.9637\n",
      "\n"
     ]
    },
    {
     "name": "stdout",
     "output_type": "stream",
     "text": [
      "Epoch 130, Loss 0.0427\n",
      "Training Accuracy: 0.9566, Testing Accuracy: 0.9647\n",
      "\n"
     ]
    },
    {
     "name": "stdout",
     "output_type": "stream",
     "text": [
      "Epoch 140, Loss 0.0418\n",
      "Training Accuracy: 0.9571, Testing Accuracy: 0.9652\n",
      "\n"
     ]
    },
    {
     "name": "stdout",
     "output_type": "stream",
     "text": [
      "Epoch 150, Loss 0.0411\n",
      "Training Accuracy: 0.9575, Testing Accuracy: 0.9652\n",
      "\n"
     ]
    },
    {
     "name": "stdout",
     "output_type": "stream",
     "text": [
      "Epoch 160, Loss 0.0404\n",
      "Training Accuracy: 0.9582, Testing Accuracy: 0.9652\n",
      "\n"
     ]
    },
    {
     "name": "stdout",
     "output_type": "stream",
     "text": [
      "Epoch 170, Loss 0.0398\n",
      "Training Accuracy: 0.9585, Testing Accuracy: 0.9657\n",
      "\n"
     ]
    },
    {
     "name": "stdout",
     "output_type": "stream",
     "text": [
      "Epoch 180, Loss 0.0392\n",
      "Training Accuracy: 0.9590, Testing Accuracy: 0.9662\n",
      "\n"
     ]
    },
    {
     "name": "stdout",
     "output_type": "stream",
     "text": [
      "Epoch 190, Loss 0.0387\n",
      "Training Accuracy: 0.9594, Testing Accuracy: 0.9667\n",
      "\n"
     ]
    },
    {
     "name": "stdout",
     "output_type": "stream",
     "text": [
      "Epoch 200, Loss 0.0382\n",
      "Training Accuracy: 0.9598, Testing Accuracy: 0.9672\n",
      "\n"
     ]
    },
    {
     "name": "stdout",
     "output_type": "stream",
     "text": [
      "Epoch 210, Loss 0.0378\n",
      "Training Accuracy: 0.9601, Testing Accuracy: 0.9672\n",
      "\n"
     ]
    },
    {
     "name": "stdout",
     "output_type": "stream",
     "text": [
      "Epoch 220, Loss 0.0374\n",
      "Training Accuracy: 0.9603, Testing Accuracy: 0.9672\n",
      "\n"
     ]
    },
    {
     "name": "stdout",
     "output_type": "stream",
     "text": [
      "Epoch 230, Loss 0.037\n",
      "Training Accuracy: 0.9608, Testing Accuracy: 0.9672\n",
      "\n"
     ]
    },
    {
     "name": "stdout",
     "output_type": "stream",
     "text": [
      "Epoch 240, Loss 0.0366\n",
      "Training Accuracy: 0.9611, Testing Accuracy: 0.9677\n",
      "\n"
     ]
    },
    {
     "data": {
      "text/plain": [
       "0.06800008909083881"
      ]
     },
     "execution_count": 23,
     "metadata": {},
     "output_type": "execute_result"
    }
   ],
   "source": [
    "lr_learner.train_loop(dl)"
   ]
  },
  {
   "cell_type": "code",
   "execution_count": 24,
   "id": "ca410940",
   "metadata": {
    "execution": {
     "iopub.execute_input": "2021-11-18T10:11:43.684843Z",
     "iopub.status.busy": "2021-11-18T10:11:43.679242Z",
     "iopub.status.idle": "2021-11-18T10:11:43.984278Z",
     "shell.execute_reply": "2021-11-18T10:11:43.983700Z"
    },
    "papermill": {
     "duration": 0.366902,
     "end_time": "2021-11-18T10:11:43.984430",
     "exception": false,
     "start_time": "2021-11-18T10:11:43.617528",
     "status": "completed"
    },
    "tags": []
   },
   "outputs": [
    {
     "data": {
      "text/plain": [
       "<matplotlib.legend.Legend at 0x7f3eb3f29780>"
      ]
     },
     "execution_count": 24,
     "metadata": {},
     "output_type": "execute_result"
    },
    {
     "data": {
      "image/png": "[encoded data removed]",
      "text/plain": [
       "<Figure size 1080x720 with 1 Axes>"
      ]
     },
     "metadata": {
      "needs_background": "light"
     },
     "output_type": "display_data"
    }
   ],
   "source": [
    "#comparing the results of NN and LR\n",
    "plt.figure(figsize=(15,10))\n",
    "\n",
    "# Neural Network plots\n",
    "plt.plot(acc_nn.accuracies, 'r-', label = \"Training Accuracies - NN\")\n",
    "plt.plot(acc_nn.test_accuracies, 'g-', label = \"Testing Accuracies - NN\")\n",
    "\n",
    "# Logistic Regression plots\n",
    "plt.plot(acc_lr.accuracies, 'k-', label = \"Training Accuracies - LR\")\n",
    "plt.plot(acc_lr.test_accuracies, 'b-', label = \"Testing Accuracies - LR\")\n",
    "plt.legend()"
   ]
  },
  {
   "cell_type": "markdown",
   "id": "80dfb35c",
   "metadata": {
    "papermill": {
     "duration": 0.070466,
     "end_time": "2021-11-18T10:11:44.114556",
     "exception": false,
     "start_time": "2021-11-18T10:11:44.044090",
     "status": "completed"
    },
    "tags": []
   },
   "source": [
    "#### Plotting the outputs of this layer of the NN.\n"
   ]
  },
  {
   "cell_type": "code",
   "execution_count": 25,
   "id": "45eb2ff5",
   "metadata": {
    "execution": {
     "iopub.execute_input": "2021-11-18T10:11:44.235631Z",
     "iopub.status.busy": "2021-11-18T10:11:44.234621Z",
     "iopub.status.idle": "2021-11-18T10:11:44.261626Z",
     "shell.execute_reply": "2021-11-18T10:11:44.262193Z"
    },
    "papermill": {
     "duration": 0.090392,
     "end_time": "2021-11-18T10:11:44.262373",
     "exception": false,
     "start_time": "2021-11-18T10:11:44.171981",
     "status": "completed"
    },
    "tags": []
   },
   "outputs": [],
   "source": [
    "new_model = Model(layers[:-2])\n",
    "testing_plot = new_model(testing_data_x)"
   ]
  },
  {
   "cell_type": "code",
   "execution_count": 26,
   "id": "4c0a5485",
   "metadata": {
    "execution": {
     "iopub.execute_input": "2021-11-18T10:11:44.393809Z",
     "iopub.status.busy": "2021-11-18T10:11:44.393109Z",
     "iopub.status.idle": "2021-11-18T10:11:44.644140Z",
     "shell.execute_reply": "2021-11-18T10:11:44.643462Z"
    },
    "papermill": {
     "duration": 0.318033,
     "end_time": "2021-11-18T10:11:44.644284",
     "exception": false,
     "start_time": "2021-11-18T10:11:44.326251",
     "status": "completed"
    },
    "tags": []
   },
   "outputs": [
    {
     "data": {
      "text/plain": [
       "Text(0.5, 1.0, 'Outputs')"
      ]
     },
     "execution_count": 26,
     "metadata": {},
     "output_type": "execute_result"
    },
    {
     "data": {
      "image/png": "[encoded data removed]",
      "text/plain": [
       "<Figure size 576x504 with 1 Axes>"
      ]
     },
     "metadata": {
      "needs_background": "light"
     },
     "output_type": "display_data"
    }
   ],
   "source": [
    "# Plotting the scatter plot of points and color coding by class\n",
    "plt.figure(figsize=(8,7))\n",
    "plt.scatter(testing_plot[:,0], testing_plot[:,1], alpha = 0.1, c = y_test.ravel());\n",
    "plt.title('Outputs')"
   ]
  },
  {
   "cell_type": "markdown",
   "id": "a74fcf8f",
   "metadata": {
    "papermill": {
     "duration": 0.056948,
     "end_time": "2021-11-18T10:11:44.759957",
     "exception": false,
     "start_time": "2021-11-18T10:11:44.703009",
     "status": "completed"
    },
    "tags": []
   },
   "source": [
    "Probability contours"
   ]
  },
  {
   "cell_type": "code",
   "execution_count": 27,
   "id": "d0afc8e3",
   "metadata": {
    "execution": {
     "iopub.execute_input": "2021-11-18T10:11:44.906323Z",
     "iopub.status.busy": "2021-11-18T10:11:44.905637Z",
     "iopub.status.idle": "2021-11-18T10:11:44.921047Z",
     "shell.execute_reply": "2021-11-18T10:11:44.921913Z"
    },
    "papermill": {
     "duration": 0.077421,
     "end_time": "2021-11-18T10:11:44.922087",
     "exception": false,
     "start_time": "2021-11-18T10:11:44.844666",
     "status": "completed"
    },
    "tags": []
   },
   "outputs": [],
   "source": [
    "model_prob = Model(layers[-2:]) "
   ]
  },
  {
   "cell_type": "code",
   "execution_count": 28,
   "id": "9b96e238",
   "metadata": {
    "execution": {
     "iopub.execute_input": "2021-11-18T10:11:45.042547Z",
     "iopub.status.busy": "2021-11-18T10:11:45.041073Z",
     "iopub.status.idle": "2021-11-18T10:11:45.058530Z",
     "shell.execute_reply": "2021-11-18T10:11:45.059068Z"
    },
    "papermill": {
     "duration": 0.0802,
     "end_time": "2021-11-18T10:11:45.059250",
     "exception": false,
     "start_time": "2021-11-18T10:11:44.979050",
     "status": "completed"
    },
    "tags": []
   },
   "outputs": [],
   "source": [
    "#creating the x and y ranges according to the above generated plot.\n",
    "x_range = np.linspace(-4, 1, 100) \n",
    "y_range = np.linspace(-6, 6, 100) \n",
    "x_grid, y_grid = np.meshgrid(x_range, y_range) # x_grid and y_grig are of size 100 X 100\n",
    "\n",
    "# converting x_grid and y_grid to continuous arrays\n",
    "x_gridflat = np.ravel(x_grid)\n",
    "y_gridflat = np.ravel(y_grid)\n",
    "\n",
    "# The last layer of the current model takes two columns as input. Hence transpose of np.vstack() is required.\n",
    "X = np.vstack((x_gridflat, y_gridflat)).T\n",
    "\n",
    "prob_contour = model_prob(X).reshape(100,100) "
   ]
  },
  {
   "cell_type": "code",
   "execution_count": 29,
   "id": "da72499a",
   "metadata": {
    "execution": {
     "iopub.execute_input": "2021-11-18T10:11:45.192844Z",
     "iopub.status.busy": "2021-11-18T10:11:45.192106Z",
     "iopub.status.idle": "2021-11-18T10:11:45.522530Z",
     "shell.execute_reply": "2021-11-18T10:11:45.523104Z"
    },
    "papermill": {
     "duration": 0.40498,
     "end_time": "2021-11-18T10:11:45.523279",
     "exception": false,
     "start_time": "2021-11-18T10:11:45.118299",
     "status": "completed"
    },
    "tags": []
   },
   "outputs": [
    {
     "data": {
      "image/png": "[encoded data removed]",
      "text/plain": [
       "<Figure size 720x648 with 1 Axes>"
      ]
     },
     "metadata": {
      "needs_background": "light"
     },
     "output_type": "display_data"
    }
   ],
   "source": [
    "plt.figure(figsize=(10,9))\n",
    "plt.scatter(testing_plot[:,0], testing_plot[:,1], alpha = 0.1, c = y_test.ravel())\n",
    "contours = plt.contour(x_grid,y_grid,prob_contour)\n",
    "plt.title('Probability Contours')\n",
    "plt.clabel(contours, inline = True );"
   ]
  },
  {
   "cell_type": "code",
   "execution_count": null,
   "id": "e81b4ac7",
   "metadata": {
    "papermill": {
     "duration": 0.059097,
     "end_time": "2021-11-18T10:11:45.641966",
     "exception": false,
     "start_time": "2021-11-18T10:11:45.582869",
     "status": "completed"
    },
    "tags": []
   },
   "outputs": [],
   "source": []
  }
 ],
 "metadata": {
  "kernelspec": {
   "display_name": "Python 3",
   "language": "python",
   "name": "python3"
  },
  "language_info": {
   "codemirror_mode": {
    "name": "ipython",
    "version": 3
   },
   "file_extension": ".py",
   "mimetype": "text/x-python",
   "name": "python",
   "nbconvert_exporter": "python",
   "pygments_lexer": "ipython3",
   "version": "3.6.15"
  },
  "papermill": {
   "default_parameters": {},
   "duration": 159.672482,
   "end_time": "2021-11-18T10:11:46.112632",
   "environment_variables": {},
   "exception": null,
   "input_path": "2020-08-11-part2.ipynb",
   "output_path": "2020-08-11-part2.ipynb",
   "parameters": {},
   "start_time": "2021-11-18T10:09:06.440150",
   "version": "2.3.3"
  }
 },
 "nbformat": 4,
 "nbformat_minor": 5
}