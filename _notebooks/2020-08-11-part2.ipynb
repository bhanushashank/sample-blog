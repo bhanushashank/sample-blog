{
 "cells": [
  {
   "cell_type": "markdown",
   "id": "98380cd3",
   "metadata": {
    "papermill": {
     "duration": 0.035515,
     "end_time": "2022-03-19T00:31:24.800244",
     "exception": false,
     "start_time": "2022-03-19T00:31:24.764729",
     "status": "completed"
    },
    "tags": []
   },
   "source": [
    "# Distinguish Your Own Digits (DYOD)"
   ]
  },
  {
   "cell_type": "markdown",
   "id": "ef31240d",
   "metadata": {
    "papermill": {
     "duration": 0.02812,
     "end_time": "2022-03-19T00:31:24.855698",
     "exception": false,
     "start_time": "2022-03-19T00:31:24.827578",
     "status": "completed"
    },
    "tags": []
   },
   "source": [
    "You are going to write a classifier that distinguishes between the number 3 and number 8."
   ]
  },
  {
   "cell_type": "code",
   "execution_count": 1,
   "id": "b15c8646",
   "metadata": {
    "execution": {
     "iopub.execute_input": "2022-03-19T00:31:24.921843Z",
     "iopub.status.busy": "2022-03-19T00:31:24.921237Z",
     "iopub.status.idle": "2022-03-19T00:31:24.933120Z",
     "shell.execute_reply": "2022-03-19T00:31:24.932587Z"
    },
    "papermill": {
     "duration": 0.051342,
     "end_time": "2022-03-19T00:31:24.933253",
     "exception": false,
     "start_time": "2022-03-19T00:31:24.881911",
     "status": "completed"
    },
    "tags": []
   },
   "outputs": [],
   "source": [
    "%load_ext autoreload\n",
    "%autoreload 2"
   ]
  },
  {
   "cell_type": "code",
   "execution_count": 2,
   "id": "22ef38dc",
   "metadata": {
    "execution": {
     "iopub.execute_input": "2022-03-19T00:31:24.992789Z",
     "iopub.status.busy": "2022-03-19T00:31:24.992159Z",
     "iopub.status.idle": "2022-03-19T00:31:25.647535Z",
     "shell.execute_reply": "2022-03-19T00:31:25.646950Z"
    },
    "papermill": {
     "duration": 0.687159,
     "end_time": "2022-03-19T00:31:25.647669",
     "exception": false,
     "start_time": "2022-03-19T00:31:24.960510",
     "status": "completed"
    },
    "tags": []
   },
   "outputs": [],
   "source": [
    "%matplotlib inline\n",
    "import numpy as np\n",
    "import matplotlib.pyplot as plt\n",
    "import pandas as pd"
   ]
  },
  {
   "cell_type": "markdown",
   "id": "ba036198",
   "metadata": {
    "papermill": {
     "duration": 0.027632,
     "end_time": "2022-03-19T00:31:25.702573",
     "exception": false,
     "start_time": "2022-03-19T00:31:25.674941",
     "status": "completed"
    },
    "tags": []
   },
   "source": [
    "From the command line run `pip install mnist`. This is a library that will help you bring down the mnist dataset. If you run this from a notebook, you need to put  `!pip install mnist` in a cell by itself."
   ]
  },
  {
   "cell_type": "code",
   "execution_count": 3,
   "id": "bb6ad8a1",
   "metadata": {
    "execution": {
     "iopub.execute_input": "2022-03-19T00:31:25.761654Z",
     "iopub.status.busy": "2022-03-19T00:31:25.761064Z",
     "iopub.status.idle": "2022-03-19T00:31:28.430788Z",
     "shell.execute_reply": "2022-03-19T00:31:28.430219Z"
    },
    "papermill": {
     "duration": 2.701551,
     "end_time": "2022-03-19T00:31:28.430920",
     "exception": false,
     "start_time": "2022-03-19T00:31:25.729369",
     "status": "completed"
    },
    "tags": []
   },
   "outputs": [
    {
     "name": "stdout",
     "output_type": "stream",
     "text": [
      "Collecting mnist\r\n"
     ]
    },
    {
     "name": "stdout",
     "output_type": "stream",
     "text": [
      "  Downloading mnist-0.2.2-py2.py3-none-any.whl (3.5 kB)\r\n",
      "Requirement already satisfied: numpy in /opt/hostedtoolcache/Python/3.6.15/x64/lib/python3.6/site-packages (from mnist) (1.19.5)\r\n"
     ]
    },
    {
     "name": "stdout",
     "output_type": "stream",
     "text": [
      "Installing collected packages: mnist\r\n"
     ]
    },
    {
     "name": "stdout",
     "output_type": "stream",
     "text": [
      "Successfully installed mnist-0.2.2\r\n"
     ]
    }
   ],
   "source": [
    "!pip install mnist"
   ]
  },
  {
   "cell_type": "markdown",
   "id": "69df9c9a",
   "metadata": {
    "papermill": {
     "duration": 0.028521,
     "end_time": "2022-03-19T00:31:28.488116",
     "exception": false,
     "start_time": "2022-03-19T00:31:28.459595",
     "status": "completed"
    },
    "tags": []
   },
   "source": [
    "## Preparing the Data"
   ]
  },
  {
   "cell_type": "code",
   "execution_count": 4,
   "id": "7f69d806",
   "metadata": {
    "execution": {
     "iopub.execute_input": "2022-03-19T00:31:28.549408Z",
     "iopub.status.busy": "2022-03-19T00:31:28.548790Z",
     "iopub.status.idle": "2022-03-19T00:31:28.564547Z",
     "shell.execute_reply": "2022-03-19T00:31:28.564033Z"
    },
    "papermill": {
     "duration": 0.048321,
     "end_time": "2022-03-19T00:31:28.564680",
     "exception": false,
     "start_time": "2022-03-19T00:31:28.516359",
     "status": "completed"
    },
    "tags": []
   },
   "outputs": [],
   "source": [
    "import mnist"
   ]
  },
  {
   "cell_type": "code",
   "execution_count": 5,
   "id": "a411e44f",
   "metadata": {
    "execution": {
     "iopub.execute_input": "2022-03-19T00:31:28.633973Z",
     "iopub.status.busy": "2022-03-19T00:31:28.633348Z",
     "iopub.status.idle": "2022-03-19T00:31:29.204516Z",
     "shell.execute_reply": "2022-03-19T00:31:29.203299Z"
    },
    "papermill": {
     "duration": 0.611148,
     "end_time": "2022-03-19T00:31:29.204668",
     "exception": false,
     "start_time": "2022-03-19T00:31:28.593520",
     "status": "completed"
    },
    "tags": []
   },
   "outputs": [],
   "source": [
    "train_images = mnist.train_images()\n",
    "train_labels = mnist.train_labels()"
   ]
  },
  {
   "cell_type": "code",
   "execution_count": 6,
   "id": "dceab3a5",
   "metadata": {
    "execution": {
     "iopub.execute_input": "2022-03-19T00:31:29.269434Z",
     "iopub.status.busy": "2022-03-19T00:31:29.265533Z",
     "iopub.status.idle": "2022-03-19T00:31:29.281260Z",
     "shell.execute_reply": "2022-03-19T00:31:29.280741Z"
    },
    "papermill": {
     "duration": 0.048142,
     "end_time": "2022-03-19T00:31:29.281391",
     "exception": false,
     "start_time": "2022-03-19T00:31:29.233249",
     "status": "completed"
    },
    "tags": []
   },
   "outputs": [
    {
     "data": {
      "text/plain": [
       "((60000, 28, 28), (60000,))"
      ]
     },
     "execution_count": 6,
     "metadata": {},
     "output_type": "execute_result"
    }
   ],
   "source": [
    "train_images.shape, train_labels.shape"
   ]
  },
  {
   "cell_type": "code",
   "execution_count": 7,
   "id": "f50dc2bb",
   "metadata": {
    "execution": {
     "iopub.execute_input": "2022-03-19T00:31:29.350815Z",
     "iopub.status.busy": "2022-03-19T00:31:29.350185Z",
     "iopub.status.idle": "2022-03-19T00:31:29.498378Z",
     "shell.execute_reply": "2022-03-19T00:31:29.497390Z"
    },
    "papermill": {
     "duration": 0.188934,
     "end_time": "2022-03-19T00:31:29.498595",
     "exception": false,
     "start_time": "2022-03-19T00:31:29.309661",
     "status": "completed"
    },
    "tags": []
   },
   "outputs": [],
   "source": [
    "test_images = mnist.test_images()\n",
    "test_labels = mnist.test_labels()"
   ]
  },
  {
   "cell_type": "code",
   "execution_count": 8,
   "id": "fc38cf1b",
   "metadata": {
    "execution": {
     "iopub.execute_input": "2022-03-19T00:31:29.564632Z",
     "iopub.status.busy": "2022-03-19T00:31:29.563129Z",
     "iopub.status.idle": "2022-03-19T00:31:29.577359Z",
     "shell.execute_reply": "2022-03-19T00:31:29.576853Z"
    },
    "papermill": {
     "duration": 0.046919,
     "end_time": "2022-03-19T00:31:29.577482",
     "exception": false,
     "start_time": "2022-03-19T00:31:29.530563",
     "status": "completed"
    },
    "tags": []
   },
   "outputs": [
    {
     "data": {
      "text/plain": [
       "((10000, 28, 28), (10000,))"
      ]
     },
     "execution_count": 8,
     "metadata": {},
     "output_type": "execute_result"
    }
   ],
   "source": [
    "test_images.shape, test_labels.shape"
   ]
  },
  {
   "cell_type": "code",
   "execution_count": 9,
   "id": "f9ed8fe0",
   "metadata": {
    "execution": {
     "iopub.execute_input": "2022-03-19T00:31:29.649765Z",
     "iopub.status.busy": "2022-03-19T00:31:29.649141Z",
     "iopub.status.idle": "2022-03-19T00:31:29.802739Z",
     "shell.execute_reply": "2022-03-19T00:31:29.801821Z"
    },
    "papermill": {
     "duration": 0.196559,
     "end_time": "2022-03-19T00:31:29.802906",
     "exception": false,
     "start_time": "2022-03-19T00:31:29.606347",
     "status": "completed"
    },
    "tags": []
   },
   "outputs": [
    {
     "name": "stdout",
     "output_type": "stream",
     "text": [
      "2\n"
     ]
    },
    {
     "data": {
      "text/plain": [
       "<matplotlib.image.AxesImage at 0x7fc63fb0b5f8>"
      ]
     },
     "execution_count": 9,
     "metadata": {},
     "output_type": "execute_result"
    },
    {
     "data": {
      "image/png": "[encoded data removed]",
      "text/plain": [
       "<Figure size 432x288 with 1 Axes>"
      ]
     },
     "metadata": {
      "needs_background": "light"
     },
     "output_type": "display_data"
    }
   ],
   "source": [
    "image_index = 7776 # You may select anything up to 60,000\n",
    "print(train_labels[image_index]) \n",
    "plt.imshow(train_images[image_index], cmap='Greys')"
   ]
  },
  {
   "cell_type": "markdown",
   "id": "a8d2388d",
   "metadata": {
    "papermill": {
     "duration": 0.030072,
     "end_time": "2022-03-19T00:31:29.863208",
     "exception": false,
     "start_time": "2022-03-19T00:31:29.833136",
     "status": "completed"
    },
    "tags": []
   },
   "source": [
    "## Filter data to get 3 and 8 out"
   ]
  },
  {
   "cell_type": "code",
   "execution_count": 10,
   "id": "776f7fc7",
   "metadata": {
    "execution": {
     "iopub.execute_input": "2022-03-19T00:31:29.934751Z",
     "iopub.status.busy": "2022-03-19T00:31:29.933689Z",
     "iopub.status.idle": "2022-03-19T00:31:29.949694Z",
     "shell.execute_reply": "2022-03-19T00:31:29.948795Z"
    },
    "papermill": {
     "duration": 0.056391,
     "end_time": "2022-03-19T00:31:29.949841",
     "exception": false,
     "start_time": "2022-03-19T00:31:29.893450",
     "status": "completed"
    },
    "tags": []
   },
   "outputs": [],
   "source": [
    "train_filter = np.where((train_labels == 3 ) | (train_labels == 8))\n",
    "test_filter = np.where((test_labels == 3) | (test_labels == 8))\n",
    "X_train, y_train = train_images[train_filter], train_labels[train_filter]\n",
    "X_test, y_test = test_images[test_filter], test_labels[test_filter]"
   ]
  },
  {
   "cell_type": "markdown",
   "id": "948f0b7e",
   "metadata": {
    "papermill": {
     "duration": 0.030078,
     "end_time": "2022-03-19T00:31:30.010406",
     "exception": false,
     "start_time": "2022-03-19T00:31:29.980328",
     "status": "completed"
    },
    "tags": []
   },
   "source": [
    "We normalize the pizel values in the 0 to 1 range"
   ]
  },
  {
   "cell_type": "code",
   "execution_count": 11,
   "id": "ee4c2166",
   "metadata": {
    "execution": {
     "iopub.execute_input": "2022-03-19T00:31:30.083074Z",
     "iopub.status.busy": "2022-03-19T00:31:30.082146Z",
     "iopub.status.idle": "2022-03-19T00:31:30.132350Z",
     "shell.execute_reply": "2022-03-19T00:31:30.134186Z"
    },
    "papermill": {
     "duration": 0.089698,
     "end_time": "2022-03-19T00:31:30.134438",
     "exception": false,
     "start_time": "2022-03-19T00:31:30.044740",
     "status": "completed"
    },
    "tags": []
   },
   "outputs": [],
   "source": [
    "X_train = X_train/255.\n",
    "X_test = X_test/255."
   ]
  },
  {
   "cell_type": "markdown",
   "id": "ddcf4fab",
   "metadata": {
    "papermill": {
     "duration": 0.029885,
     "end_time": "2022-03-19T00:31:30.196429",
     "exception": false,
     "start_time": "2022-03-19T00:31:30.166544",
     "status": "completed"
    },
    "tags": []
   },
   "source": [
    "And setup the labels as 1 (when the digit is 3) and 0 (when the digit is 8)"
   ]
  },
  {
   "cell_type": "code",
   "execution_count": 12,
   "id": "7dc908f2",
   "metadata": {
    "execution": {
     "iopub.execute_input": "2022-03-19T00:31:30.259684Z",
     "iopub.status.busy": "2022-03-19T00:31:30.259119Z",
     "iopub.status.idle": "2022-03-19T00:31:30.272881Z",
     "shell.execute_reply": "2022-03-19T00:31:30.272362Z"
    },
    "papermill": {
     "duration": 0.047134,
     "end_time": "2022-03-19T00:31:30.273011",
     "exception": false,
     "start_time": "2022-03-19T00:31:30.225877",
     "status": "completed"
    },
    "tags": []
   },
   "outputs": [],
   "source": [
    "y_train = 1*(y_train==3)\n",
    "y_test = 1*(y_test==3)"
   ]
  },
  {
   "cell_type": "code",
   "execution_count": 13,
   "id": "01e4e969",
   "metadata": {
    "execution": {
     "iopub.execute_input": "2022-03-19T00:31:30.336888Z",
     "iopub.status.busy": "2022-03-19T00:31:30.336242Z",
     "iopub.status.idle": "2022-03-19T00:31:30.350925Z",
     "shell.execute_reply": "2022-03-19T00:31:30.350442Z"
    },
    "papermill": {
     "duration": 0.048103,
     "end_time": "2022-03-19T00:31:30.351059",
     "exception": false,
     "start_time": "2022-03-19T00:31:30.302956",
     "status": "completed"
    },
    "tags": []
   },
   "outputs": [
    {
     "data": {
      "text/plain": [
       "((11982, 28, 28), (1984, 28, 28))"
      ]
     },
     "execution_count": 13,
     "metadata": {},
     "output_type": "execute_result"
    }
   ],
   "source": [
    "X_train.shape, X_test.shape"
   ]
  },
  {
   "cell_type": "markdown",
   "id": "5ccf3f85",
   "metadata": {
    "papermill": {
     "duration": 0.030286,
     "end_time": "2022-03-19T00:31:30.411637",
     "exception": false,
     "start_time": "2022-03-19T00:31:30.381351",
     "status": "completed"
    },
    "tags": []
   },
   "source": [
    "We reshape the data to flatten the image pixels into a set of features or co-variates:"
   ]
  },
  {
   "cell_type": "code",
   "execution_count": 14,
   "id": "5286a4a3",
   "metadata": {
    "execution": {
     "iopub.execute_input": "2022-03-19T00:31:30.483916Z",
     "iopub.status.busy": "2022-03-19T00:31:30.483310Z",
     "iopub.status.idle": "2022-03-19T00:31:30.496757Z",
     "shell.execute_reply": "2022-03-19T00:31:30.496241Z"
    },
    "papermill": {
     "duration": 0.054772,
     "end_time": "2022-03-19T00:31:30.496890",
     "exception": false,
     "start_time": "2022-03-19T00:31:30.442118",
     "status": "completed"
    },
    "tags": []
   },
   "outputs": [
    {
     "data": {
      "text/plain": [
       "((11982, 784), (1984, 784))"
      ]
     },
     "execution_count": 14,
     "metadata": {},
     "output_type": "execute_result"
    }
   ],
   "source": [
    "X_train = X_train.reshape(X_train.shape[0], -1)\n",
    "X_test = X_test.reshape(X_test.shape[0], -1)\n",
    "X_train.shape, X_test.shape"
   ]
  },
  {
   "cell_type": "code",
   "execution_count": 15,
   "id": "73c5f88a",
   "metadata": {
    "execution": {
     "iopub.execute_input": "2022-03-19T00:31:30.563865Z",
     "iopub.status.busy": "2022-03-19T00:31:30.563270Z",
     "iopub.status.idle": "2022-03-19T00:31:30.584345Z",
     "shell.execute_reply": "2022-03-19T00:31:30.583863Z"
    },
    "papermill": {
     "duration": 0.057208,
     "end_time": "2022-03-19T00:31:30.584505",
     "exception": false,
     "start_time": "2022-03-19T00:31:30.527297",
     "status": "completed"
    },
    "tags": []
   },
   "outputs": [],
   "source": [
    "#Impoting functions from 'Kudzu'\n",
    "from kudzu.model import Model\n",
    "from kudzu.train import Learner\n",
    "from kudzu.optim import GD\n",
    "from kudzu.data import Data, Sampler,Dataloader\n",
    "\n",
    "from kudzu.callbacks import AccCallback\n",
    "from kudzu.callbacks import ClfCallback\n",
    "\n",
    "from kudzu.loss import MSE\n",
    "\n",
    "from kudzu.layer import Sigmoid,Relu\n",
    "from kudzu.layer import Affine"
   ]
  },
  {
   "cell_type": "markdown",
   "id": "bc01172a",
   "metadata": {
    "papermill": {
     "duration": 0.030261,
     "end_time": "2022-03-19T00:31:30.645175",
     "exception": false,
     "start_time": "2022-03-19T00:31:30.614914",
     "status": "completed"
    },
    "tags": []
   },
   "source": [
    "### Let us create a `Config` class, to store important parameters. \n",
    "This class essentially plays the role of a dictionary."
   ]
  },
  {
   "cell_type": "code",
   "execution_count": 16,
   "id": "978281aa",
   "metadata": {
    "execution": {
     "iopub.execute_input": "2022-03-19T00:31:30.709996Z",
     "iopub.status.busy": "2022-03-19T00:31:30.709399Z",
     "iopub.status.idle": "2022-03-19T00:31:30.726036Z",
     "shell.execute_reply": "2022-03-19T00:31:30.725560Z"
    },
    "papermill": {
     "duration": 0.051069,
     "end_time": "2022-03-19T00:31:30.726159",
     "exception": false,
     "start_time": "2022-03-19T00:31:30.675090",
     "status": "completed"
    },
    "tags": []
   },
   "outputs": [],
   "source": [
    "class Config:\n",
    "    pass\n",
    "config = Config()\n",
    "config.lr = 0.001\n",
    "config.num_epochs = 250\n",
    "config.bs = 50"
   ]
  },
  {
   "cell_type": "markdown",
   "id": "1385fa59",
   "metadata": {
    "papermill": {
     "duration": 0.030393,
     "end_time": "2022-03-19T00:31:30.787064",
     "exception": false,
     "start_time": "2022-03-19T00:31:30.756671",
     "status": "completed"
    },
    "tags": []
   },
   "source": [
    "### Running Models with the Training data\n",
    "Details about the network layers:\n",
    "- A first affine layer has 784 inputs and does 100 affine transforms. These are followed by a Relu\n",
    "- A second affine layer has 100 inputs from the 100 activations of the past layer, and does 100 affine transforms. These are followed by a Relu\n",
    "- A third affine layer has 100 activations and does 2 affine transformations to create an embedding for visualization. There is no non-linearity here.\n",
    "- A final \"logistic regression\" which has an affine transform from 2 inputs to 1 output, which is squeezed through a sigmoid.\n"
   ]
  },
  {
   "cell_type": "code",
   "execution_count": 17,
   "id": "2b9c66db",
   "metadata": {
    "execution": {
     "iopub.execute_input": "2022-03-19T00:31:30.857138Z",
     "iopub.status.busy": "2022-03-19T00:31:30.856508Z",
     "iopub.status.idle": "2022-03-19T00:31:30.869769Z",
     "shell.execute_reply": "2022-03-19T00:31:30.869245Z"
    },
    "papermill": {
     "duration": 0.051794,
     "end_time": "2022-03-19T00:31:30.869896",
     "exception": false,
     "start_time": "2022-03-19T00:31:30.818102",
     "status": "completed"
    },
    "tags": []
   },
   "outputs": [],
   "source": [
    "data = Data(X_train, y_train.reshape(-1,1))\n",
    "sampler = Sampler(data, config.bs, shuffle=True)\n",
    "\n",
    "dl = Dataloader(data, sampler)\n",
    "\n",
    "opt = GD(config.lr)\n",
    "loss = MSE()"
   ]
  },
  {
   "cell_type": "code",
   "execution_count": 18,
   "id": "b275e4c2",
   "metadata": {
    "execution": {
     "iopub.execute_input": "2022-03-19T00:31:30.936299Z",
     "iopub.status.busy": "2022-03-19T00:31:30.935204Z",
     "iopub.status.idle": "2022-03-19T00:31:30.949558Z",
     "shell.execute_reply": "2022-03-19T00:31:30.949079Z"
    },
    "papermill": {
     "duration": 0.048871,
     "end_time": "2022-03-19T00:31:30.949685",
     "exception": false,
     "start_time": "2022-03-19T00:31:30.900814",
     "status": "completed"
    },
    "tags": []
   },
   "outputs": [],
   "source": [
    "training_data_x = X_train\n",
    "testing_data_x = X_test\n",
    "training_data_y = y_train.reshape(-1,1)\n",
    "testing_data_y = y_test.reshape(-1,1)"
   ]
  },
  {
   "cell_type": "code",
   "execution_count": 19,
   "id": "76951160",
   "metadata": {
    "execution": {
     "iopub.execute_input": "2022-03-19T00:31:31.033687Z",
     "iopub.status.busy": "2022-03-19T00:31:31.023128Z",
     "iopub.status.idle": "2022-03-19T00:31:31.042831Z",
     "shell.execute_reply": "2022-03-19T00:31:31.042305Z"
    },
    "papermill": {
     "duration": 0.062919,
     "end_time": "2022-03-19T00:31:31.042968",
     "exception": false,
     "start_time": "2022-03-19T00:31:30.980049",
     "status": "completed"
    },
    "tags": []
   },
   "outputs": [
    {
     "name": "stdout",
     "output_type": "stream",
     "text": [
      "xavier\n",
      "xavier\n",
      "xavier\n",
      "xavier\n",
      "xavier\n"
     ]
    }
   ],
   "source": [
    "layers = [Affine(\"first\", 784, 100), Relu(\"first\"), Affine(\"second\", 100, 100), Relu(\"second\"), Affine(\"third\", 100, 2), Affine(\"last\", 2, 1), Sigmoid(\"last\")]\n",
    "model_nn = Model(layers)\n",
    "model_lr = Model([Affine(\"logits\", 784, 1), Sigmoid(\"sigmoid\")])"
   ]
  },
  {
   "cell_type": "code",
   "execution_count": 20,
   "id": "6eede77a",
   "metadata": {
    "execution": {
     "iopub.execute_input": "2022-03-19T00:31:31.111231Z",
     "iopub.status.busy": "2022-03-19T00:31:31.110618Z",
     "iopub.status.idle": "2022-03-19T00:31:31.129088Z",
     "shell.execute_reply": "2022-03-19T00:31:31.124608Z"
    },
    "papermill": {
     "duration": 0.05429,
     "end_time": "2022-03-19T00:31:31.129220",
     "exception": false,
     "start_time": "2022-03-19T00:31:31.074930",
     "status": "completed"
    },
    "tags": []
   },
   "outputs": [],
   "source": [
    "nn_learner = Learner(loss, model_nn, opt, config.num_epochs)\n",
    "acc_nn = ClfCallback(nn_learner, config.bs, training_data_x , testing_data_x, training_data_y, testing_data_y)\n",
    "nn_learner.set_callbacks([acc_nn])"
   ]
  },
  {
   "cell_type": "code",
   "execution_count": 21,
   "id": "877b6cc7",
   "metadata": {
    "execution": {
     "iopub.execute_input": "2022-03-19T00:31:31.196135Z",
     "iopub.status.busy": "2022-03-19T00:31:31.195167Z",
     "iopub.status.idle": "2022-03-19T00:31:31.207743Z",
     "shell.execute_reply": "2022-03-19T00:31:31.207192Z"
    },
    "papermill": {
     "duration": 0.047657,
     "end_time": "2022-03-19T00:31:31.207865",
     "exception": false,
     "start_time": "2022-03-19T00:31:31.160208",
     "status": "completed"
    },
    "tags": []
   },
   "outputs": [],
   "source": [
    "lr_learner = Learner(loss, model_lr, opt, config.num_epochs)\n",
    "acc_lr = ClfCallback(lr_learner, config.bs, training_data_x , testing_data_x, training_data_y, testing_data_y)\n",
    "lr_learner.set_callbacks([acc_lr])"
   ]
  },
  {
   "cell_type": "code",
   "execution_count": 22,
   "id": "d9b133c3",
   "metadata": {
    "execution": {
     "iopub.execute_input": "2022-03-19T00:31:31.277317Z",
     "iopub.status.busy": "2022-03-19T00:31:31.275135Z",
     "iopub.status.idle": "2022-03-19T00:32:59.558189Z",
     "shell.execute_reply": "2022-03-19T00:32:59.559067Z"
    },
    "papermill": {
     "duration": 88.317953,
     "end_time": "2022-03-19T00:32:59.559233",
     "exception": false,
     "start_time": "2022-03-19T00:31:31.241280",
     "status": "completed"
    },
    "tags": []
   },
   "outputs": [
    {
     "name": "stdout",
     "output_type": "stream",
     "text": [
      "Epoch 0, Loss 0.253\n",
      "Training Accuracy: 0.5191, Testing Accuracy: 0.5197\n",
      "\n"
     ]
    },
    {
     "name": "stdout",
     "output_type": "stream",
     "text": [
      "Epoch 10, Loss 0.1641\n",
      "Training Accuracy: 0.8821, Testing Accuracy: 0.8901\n",
      "\n"
     ]
    },
    {
     "name": "stdout",
     "output_type": "stream",
     "text": [
      "Epoch 20, Loss 0.083\n",
      "Training Accuracy: 0.9170, Testing Accuracy: 0.9289\n",
      "\n"
     ]
    },
    {
     "name": "stdout",
     "output_type": "stream",
     "text": [
      "Epoch 30, Loss 0.0573\n",
      "Training Accuracy: 0.9377, Testing Accuracy: 0.9506\n",
      "\n"
     ]
    },
    {
     "name": "stdout",
     "output_type": "stream",
     "text": [
      "Epoch 40, Loss 0.0461\n",
      "Training Accuracy: 0.9474, Testing Accuracy: 0.9597\n",
      "\n"
     ]
    },
    {
     "name": "stdout",
     "output_type": "stream",
     "text": [
      "Epoch 50, Loss 0.0399\n",
      "Training Accuracy: 0.9539, Testing Accuracy: 0.9667\n",
      "\n"
     ]
    },
    {
     "name": "stdout",
     "output_type": "stream",
     "text": [
      "Epoch 60, Loss 0.0361\n",
      "Training Accuracy: 0.9576, Testing Accuracy: 0.9688\n",
      "\n"
     ]
    },
    {
     "name": "stdout",
     "output_type": "stream",
     "text": [
      "Epoch 70, Loss 0.0334\n",
      "Training Accuracy: 0.9613, Testing Accuracy: 0.9703\n",
      "\n"
     ]
    },
    {
     "name": "stdout",
     "output_type": "stream",
     "text": [
      "Epoch 80, Loss 0.0314\n",
      "Training Accuracy: 0.9636, Testing Accuracy: 0.9703\n",
      "\n"
     ]
    },
    {
     "name": "stdout",
     "output_type": "stream",
     "text": [
      "Epoch 90, Loss 0.0298\n",
      "Training Accuracy: 0.9654, Testing Accuracy: 0.9703\n",
      "\n"
     ]
    },
    {
     "name": "stdout",
     "output_type": "stream",
     "text": [
      "Epoch 100, Loss 0.0285\n",
      "Training Accuracy: 0.9666, Testing Accuracy: 0.9698\n",
      "\n"
     ]
    },
    {
     "name": "stdout",
     "output_type": "stream",
     "text": [
      "Epoch 110, Loss 0.0274\n",
      "Training Accuracy: 0.9680, Testing Accuracy: 0.9703\n",
      "\n"
     ]
    },
    {
     "name": "stdout",
     "output_type": "stream",
     "text": [
      "Epoch 120, Loss 0.0265\n",
      "Training Accuracy: 0.9685, Testing Accuracy: 0.9703\n",
      "\n"
     ]
    },
    {
     "name": "stdout",
     "output_type": "stream",
     "text": [
      "Epoch 130, Loss 0.0257\n",
      "Training Accuracy: 0.9695, Testing Accuracy: 0.9703\n",
      "\n"
     ]
    },
    {
     "name": "stdout",
     "output_type": "stream",
     "text": [
      "Epoch 140, Loss 0.025\n",
      "Training Accuracy: 0.9703, Testing Accuracy: 0.9703\n",
      "\n"
     ]
    },
    {
     "name": "stdout",
     "output_type": "stream",
     "text": [
      "Epoch 150, Loss 0.0244\n",
      "Training Accuracy: 0.9710, Testing Accuracy: 0.9703\n",
      "\n"
     ]
    },
    {
     "name": "stdout",
     "output_type": "stream",
     "text": [
      "Epoch 160, Loss 0.0238\n",
      "Training Accuracy: 0.9720, Testing Accuracy: 0.9708\n",
      "\n"
     ]
    },
    {
     "name": "stdout",
     "output_type": "stream",
     "text": [
      "Epoch 170, Loss 0.0232\n",
      "Training Accuracy: 0.9724, Testing Accuracy: 0.9708\n",
      "\n"
     ]
    },
    {
     "name": "stdout",
     "output_type": "stream",
     "text": [
      "Epoch 180, Loss 0.0227\n",
      "Training Accuracy: 0.9730, Testing Accuracy: 0.9713\n",
      "\n"
     ]
    },
    {
     "name": "stdout",
     "output_type": "stream",
     "text": [
      "Epoch 190, Loss 0.0223\n",
      "Training Accuracy: 0.9740, Testing Accuracy: 0.9723\n",
      "\n"
     ]
    },
    {
     "name": "stdout",
     "output_type": "stream",
     "text": [
      "Epoch 200, Loss 0.0218\n",
      "Training Accuracy: 0.9745, Testing Accuracy: 0.9718\n",
      "\n"
     ]
    },
    {
     "name": "stdout",
     "output_type": "stream",
     "text": [
      "Epoch 210, Loss 0.0214\n",
      "Training Accuracy: 0.9747, Testing Accuracy: 0.9728\n",
      "\n"
     ]
    },
    {
     "name": "stdout",
     "output_type": "stream",
     "text": [
      "Epoch 220, Loss 0.021\n",
      "Training Accuracy: 0.9757, Testing Accuracy: 0.9728\n",
      "\n"
     ]
    },
    {
     "name": "stdout",
     "output_type": "stream",
     "text": [
      "Epoch 230, Loss 0.0207\n",
      "Training Accuracy: 0.9764, Testing Accuracy: 0.9728\n",
      "\n"
     ]
    },
    {
     "name": "stdout",
     "output_type": "stream",
     "text": [
      "Epoch 240, Loss 0.0203\n",
      "Training Accuracy: 0.9776, Testing Accuracy: 0.9733\n",
      "\n"
     ]
    },
    {
     "data": {
      "text/plain": [
       "0.01042685333148649"
      ]
     },
     "execution_count": 22,
     "metadata": {},
     "output_type": "execute_result"
    }
   ],
   "source": [
    "nn_learner.train_loop(dl)"
   ]
  },
  {
   "cell_type": "code",
   "execution_count": 23,
   "id": "e0163366",
   "metadata": {
    "execution": {
     "iopub.execute_input": "2022-03-19T00:32:59.649949Z",
     "iopub.status.busy": "2022-03-19T00:32:59.649341Z",
     "iopub.status.idle": "2022-03-19T00:33:15.468119Z",
     "shell.execute_reply": "2022-03-19T00:33:15.469006Z"
    },
    "papermill": {
     "duration": 15.870306,
     "end_time": "2022-03-19T00:33:15.469174",
     "exception": false,
     "start_time": "2022-03-19T00:32:59.598868",
     "status": "completed"
    },
    "tags": []
   },
   "outputs": [
    {
     "name": "stdout",
     "output_type": "stream",
     "text": [
      "Epoch 0, Loss 0.2441\n",
      "Training Accuracy: 0.6880, Testing Accuracy: 0.6991\n",
      "\n"
     ]
    },
    {
     "name": "stdout",
     "output_type": "stream",
     "text": [
      "Epoch 10, Loss 0.1057\n",
      "Training Accuracy: 0.9025, Testing Accuracy: 0.9133\n",
      "\n"
     ]
    },
    {
     "name": "stdout",
     "output_type": "stream",
     "text": [
      "Epoch 20, Loss 0.0815\n",
      "Training Accuracy: 0.9243, Testing Accuracy: 0.9335\n",
      "\n"
     ]
    },
    {
     "name": "stdout",
     "output_type": "stream",
     "text": [
      "Epoch 30, Loss 0.0701\n",
      "Training Accuracy: 0.9339, Testing Accuracy: 0.9451\n",
      "\n"
     ]
    },
    {
     "name": "stdout",
     "output_type": "stream",
     "text": [
      "Epoch 40, Loss 0.0632\n",
      "Training Accuracy: 0.9392, Testing Accuracy: 0.9501\n",
      "\n"
     ]
    },
    {
     "name": "stdout",
     "output_type": "stream",
     "text": [
      "Epoch 50, Loss 0.0584\n",
      "Training Accuracy: 0.9435, Testing Accuracy: 0.9556\n",
      "\n"
     ]
    },
    {
     "name": "stdout",
     "output_type": "stream",
     "text": [
      "Epoch 60, Loss 0.055\n",
      "Training Accuracy: 0.9463, Testing Accuracy: 0.9582\n",
      "\n"
     ]
    },
    {
     "name": "stdout",
     "output_type": "stream",
     "text": [
      "Epoch 70, Loss 0.0523\n",
      "Training Accuracy: 0.9482, Testing Accuracy: 0.9607\n",
      "\n"
     ]
    },
    {
     "name": "stdout",
     "output_type": "stream",
     "text": [
      "Epoch 80, Loss 0.0501\n",
      "Training Accuracy: 0.9502, Testing Accuracy: 0.9612\n",
      "\n"
     ]
    },
    {
     "name": "stdout",
     "output_type": "stream",
     "text": [
      "Epoch 90, Loss 0.0483\n",
      "Training Accuracy: 0.9512, Testing Accuracy: 0.9632\n",
      "\n"
     ]
    },
    {
     "name": "stdout",
     "output_type": "stream",
     "text": [
      "Epoch 100, Loss 0.0468\n",
      "Training Accuracy: 0.9529, Testing Accuracy: 0.9622\n",
      "\n"
     ]
    },
    {
     "name": "stdout",
     "output_type": "stream",
     "text": [
      "Epoch 110, Loss 0.0456\n",
      "Training Accuracy: 0.9537, Testing Accuracy: 0.9627\n",
      "\n"
     ]
    },
    {
     "name": "stdout",
     "output_type": "stream",
     "text": [
      "Epoch 120, Loss 0.0444\n",
      "Training Accuracy: 0.9544, Testing Accuracy: 0.9637\n",
      "\n"
     ]
    },
    {
     "name": "stdout",
     "output_type": "stream",
     "text": [
      "Epoch 130, Loss 0.0435\n",
      "Training Accuracy: 0.9549, Testing Accuracy: 0.9642\n",
      "\n"
     ]
    },
    {
     "name": "stdout",
     "output_type": "stream",
     "text": [
      "Epoch 140, Loss 0.0426\n",
      "Training Accuracy: 0.9553, Testing Accuracy: 0.9642\n",
      "\n"
     ]
    },
    {
     "name": "stdout",
     "output_type": "stream",
     "text": [
      "Epoch 150, Loss 0.0418\n",
      "Training Accuracy: 0.9558, Testing Accuracy: 0.9647\n",
      "\n"
     ]
    },
    {
     "name": "stdout",
     "output_type": "stream",
     "text": [
      "Epoch 160, Loss 0.0411\n",
      "Training Accuracy: 0.9560, Testing Accuracy: 0.9657\n",
      "\n"
     ]
    },
    {
     "name": "stdout",
     "output_type": "stream",
     "text": [
      "Epoch 170, Loss 0.0405\n",
      "Training Accuracy: 0.9566, Testing Accuracy: 0.9657\n",
      "\n"
     ]
    },
    {
     "name": "stdout",
     "output_type": "stream",
     "text": [
      "Epoch 180, Loss 0.0399\n",
      "Training Accuracy: 0.9569, Testing Accuracy: 0.9662\n",
      "\n"
     ]
    },
    {
     "name": "stdout",
     "output_type": "stream",
     "text": [
      "Epoch 190, Loss 0.0393\n",
      "Training Accuracy: 0.9574, Testing Accuracy: 0.9662\n",
      "\n"
     ]
    },
    {
     "name": "stdout",
     "output_type": "stream",
     "text": [
      "Epoch 200, Loss 0.0389\n",
      "Training Accuracy: 0.9579, Testing Accuracy: 0.9667\n",
      "\n"
     ]
    },
    {
     "name": "stdout",
     "output_type": "stream",
     "text": [
      "Epoch 210, Loss 0.0384\n",
      "Training Accuracy: 0.9589, Testing Accuracy: 0.9667\n",
      "\n"
     ]
    },
    {
     "name": "stdout",
     "output_type": "stream",
     "text": [
      "Epoch 220, Loss 0.038\n",
      "Training Accuracy: 0.9595, Testing Accuracy: 0.9667\n",
      "\n"
     ]
    },
    {
     "name": "stdout",
     "output_type": "stream",
     "text": [
      "Epoch 230, Loss 0.0376\n",
      "Training Accuracy: 0.9601, Testing Accuracy: 0.9672\n",
      "\n"
     ]
    },
    {
     "name": "stdout",
     "output_type": "stream",
     "text": [
      "Epoch 240, Loss 0.0372\n",
      "Training Accuracy: 0.9602, Testing Accuracy: 0.9672\n",
      "\n"
     ]
    },
    {
     "data": {
      "text/plain": [
       "0.021355800962740604"
      ]
     },
     "execution_count": 23,
     "metadata": {},
     "output_type": "execute_result"
    }
   ],
   "source": [
    "lr_learner.train_loop(dl)"
   ]
  },
  {
   "cell_type": "code",
   "execution_count": 24,
   "id": "ca410940",
   "metadata": {
    "execution": {
     "iopub.execute_input": "2022-03-19T00:33:15.578023Z",
     "iopub.status.busy": "2022-03-19T00:33:15.577393Z",
     "iopub.status.idle": "2022-03-19T00:33:15.835583Z",
     "shell.execute_reply": "2022-03-19T00:33:15.835054Z"
    },
    "papermill": {
     "duration": 0.31918,
     "end_time": "2022-03-19T00:33:15.835728",
     "exception": false,
     "start_time": "2022-03-19T00:33:15.516548",
     "status": "completed"
    },
    "tags": []
   },
   "outputs": [
    {
     "data": {
      "text/plain": [
       "<matplotlib.legend.Legend at 0x7fc63f6e6d68>"
      ]
     },
     "execution_count": 24,
     "metadata": {},
     "output_type": "execute_result"
    },
    {
     "data": {
      "image/png": "[encoded data removed]",
      "text/plain": [
       "<Figure size 1080x720 with 1 Axes>"
      ]
     },
     "metadata": {
      "needs_background": "light"
     },
     "output_type": "display_data"
    }
   ],
   "source": [
    "#comparing the results of NN and LR\n",
    "plt.figure(figsize=(15,10))\n",
    "\n",
    "# Neural Network plots\n",
    "plt.plot(acc_nn.accuracies, 'r-', label = \"Training Accuracies - NN\")\n",
    "plt.plot(acc_nn.test_accuracies, 'g-', label = \"Testing Accuracies - NN\")\n",
    "\n",
    "# Logistic Regression plots\n",
    "plt.plot(acc_lr.accuracies, 'k-', label = \"Training Accuracies - LR\")\n",
    "plt.plot(acc_lr.test_accuracies, 'b-', label = \"Testing Accuracies - LR\")\n",
    "plt.legend()"
   ]
  },
  {
   "cell_type": "markdown",
   "id": "80dfb35c",
   "metadata": {
    "papermill": {
     "duration": 0.048742,
     "end_time": "2022-03-19T00:33:15.935713",
     "exception": false,
     "start_time": "2022-03-19T00:33:15.886971",
     "status": "completed"
    },
    "tags": []
   },
   "source": [
    "#### Plotting the outputs of this layer of the NN.\n"
   ]
  },
  {
   "cell_type": "code",
   "execution_count": 25,
   "id": "45eb2ff5",
   "metadata": {
    "execution": {
     "iopub.execute_input": "2022-03-19T00:33:16.042301Z",
     "iopub.status.busy": "2022-03-19T00:33:16.040922Z",
     "iopub.status.idle": "2022-03-19T00:33:16.062160Z",
     "shell.execute_reply": "2022-03-19T00:33:16.062671Z"
    },
    "papermill": {
     "duration": 0.077553,
     "end_time": "2022-03-19T00:33:16.062830",
     "exception": false,
     "start_time": "2022-03-19T00:33:15.985277",
     "status": "completed"
    },
    "tags": []
   },
   "outputs": [],
   "source": [
    "new_model = Model(layers[:-2])\n",
    "testing_plot = new_model(testing_data_x)"
   ]
  },
  {
   "cell_type": "code",
   "execution_count": 26,
   "id": "4c0a5485",
   "metadata": {
    "execution": {
     "iopub.execute_input": "2022-03-19T00:33:16.167807Z",
     "iopub.status.busy": "2022-03-19T00:33:16.167169Z",
     "iopub.status.idle": "2022-03-19T00:33:16.412119Z",
     "shell.execute_reply": "2022-03-19T00:33:16.412654Z"
    },
    "papermill": {
     "duration": 0.299523,
     "end_time": "2022-03-19T00:33:16.412819",
     "exception": false,
     "start_time": "2022-03-19T00:33:16.113296",
     "status": "completed"
    },
    "tags": []
   },
   "outputs": [
    {
     "data": {
      "text/plain": [
       "Text(0.5, 1.0, 'Outputs')"
      ]
     },
     "execution_count": 26,
     "metadata": {},
     "output_type": "execute_result"
    },
    {
     "data": {
      "image/png": "[encoded data removed]",
      "text/plain": [
       "<Figure size 576x504 with 1 Axes>"
      ]
     },
     "metadata": {
      "needs_background": "light"
     },
     "output_type": "display_data"
    }
   ],
   "source": [
    "# Plotting the scatter plot of points and color coding by class\n",
    "plt.figure(figsize=(8,7))\n",
    "plt.scatter(testing_plot[:,0], testing_plot[:,1], alpha = 0.1, c = y_test.ravel());\n",
    "plt.title('Outputs')"
   ]
  },
  {
   "cell_type": "markdown",
   "id": "a74fcf8f",
   "metadata": {
    "papermill": {
     "duration": 0.050467,
     "end_time": "2022-03-19T00:33:16.514404",
     "exception": false,
     "start_time": "2022-03-19T00:33:16.463937",
     "status": "completed"
    },
    "tags": []
   },
   "source": [
    "Probability contours"
   ]
  },
  {
   "cell_type": "code",
   "execution_count": 27,
   "id": "d0afc8e3",
   "metadata": {
    "execution": {
     "iopub.execute_input": "2022-03-19T00:33:16.648626Z",
     "iopub.status.busy": "2022-03-19T00:33:16.647520Z",
     "iopub.status.idle": "2022-03-19T00:33:16.659648Z",
     "shell.execute_reply": "2022-03-19T00:33:16.660122Z"
    },
    "papermill": {
     "duration": 0.095223,
     "end_time": "2022-03-19T00:33:16.660267",
     "exception": false,
     "start_time": "2022-03-19T00:33:16.565044",
     "status": "completed"
    },
    "tags": []
   },
   "outputs": [],
   "source": [
    "model_prob = Model(layers[-2:]) "
   ]
  },
  {
   "cell_type": "code",
   "execution_count": 28,
   "id": "9b96e238",
   "metadata": {
    "execution": {
     "iopub.execute_input": "2022-03-19T00:33:16.769060Z",
     "iopub.status.busy": "2022-03-19T00:33:16.768355Z",
     "iopub.status.idle": "2022-03-19T00:33:16.784013Z",
     "shell.execute_reply": "2022-03-19T00:33:16.784498Z"
    },
    "papermill": {
     "duration": 0.073686,
     "end_time": "2022-03-19T00:33:16.784653",
     "exception": false,
     "start_time": "2022-03-19T00:33:16.710967",
     "status": "completed"
    },
    "tags": []
   },
   "outputs": [],
   "source": [
    "#creating the x and y ranges according to the above generated plot.\n",
    "x_range = np.linspace(-4, 1, 100) \n",
    "y_range = np.linspace(-6, 6, 100) \n",
    "x_grid, y_grid = np.meshgrid(x_range, y_range) # x_grid and y_grig are of size 100 X 100\n",
    "\n",
    "# converting x_grid and y_grid to continuous arrays\n",
    "x_gridflat = np.ravel(x_grid)\n",
    "y_gridflat = np.ravel(y_grid)\n",
    "\n",
    "# The last layer of the current model takes two columns as input. Hence transpose of np.vstack() is required.\n",
    "X = np.vstack((x_gridflat, y_gridflat)).T\n",
    "\n",
    "prob_contour = model_prob(X).reshape(100,100) "
   ]
  },
  {
   "cell_type": "code",
   "execution_count": 29,
   "id": "da72499a",
   "metadata": {
    "execution": {
     "iopub.execute_input": "2022-03-19T00:33:16.891882Z",
     "iopub.status.busy": "2022-03-19T00:33:16.891273Z",
     "iopub.status.idle": "2022-03-19T00:33:17.191262Z",
     "shell.execute_reply": "2022-03-19T00:33:17.191860Z"
    },
    "papermill": {
     "duration": 0.356874,
     "end_time": "2022-03-19T00:33:17.192055",
     "exception": false,
     "start_time": "2022-03-19T00:33:16.835181",
     "status": "completed"
    },
    "tags": []
   },
   "outputs": [
    {
     "data": {
      "image/png": "[encoded data removed]",
      "text/plain": [
       "<Figure size 720x648 with 1 Axes>"
      ]
     },
     "metadata": {
      "needs_background": "light"
     },
     "output_type": "display_data"
    }
   ],
   "source": [
    "plt.figure(figsize=(10,9))\n",
    "plt.scatter(testing_plot[:,0], testing_plot[:,1], alpha = 0.1, c = y_test.ravel())\n",
    "contours = plt.contour(x_grid,y_grid,prob_contour)\n",
    "plt.title('Probability Contours')\n",
    "plt.clabel(contours, inline = True );"
   ]
  },
  {
   "cell_type": "code",
   "execution_count": null,
   "id": "e81b4ac7",
   "metadata": {
    "papermill": {
     "duration": 0.054065,
     "end_time": "2022-03-19T00:33:17.300762",
     "exception": false,
     "start_time": "2022-03-19T00:33:17.246697",
     "status": "completed"
    },
    "tags": []
   },
   "outputs": [],
   "source": []
  }
 ],
 "metadata": {
  "kernelspec": {
   "display_name": "Python 3",
   "language": "python",
   "name": "python3"
  },
  "language_info": {
   "codemirror_mode": {
    "name": "ipython",
    "version": 3
   },
   "file_extension": ".py",
   "mimetype": "text/x-python",
   "name": "python",
   "nbconvert_exporter": "python",
   "pygments_lexer": "ipython3",
   "version": "3.6.15"
  },
  "papermill": {
   "default_parameters": {},
   "duration": 114.305076,
   "end_time": "2022-03-19T00:33:17.774086",
   "environment_variables": {},
   "exception": null,
   "input_path": "2020-08-11-part2.ipynb",
   "output_path": "2020-08-11-part2.ipynb",
   "parameters": {},
   "start_time": "2022-03-19T00:31:23.469010",
   "version": "2.3.3"
  }
 },
 "nbformat": 4,
 "nbformat_minor": 5
}