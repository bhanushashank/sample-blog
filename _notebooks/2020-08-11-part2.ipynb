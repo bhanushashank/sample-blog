{
 "cells": [
  {
   "cell_type": "markdown",
   "id": "98380cd3",
   "metadata": {
    "papermill": {
     "duration": 0.028861,
     "end_time": "2022-10-14T10:12:47.192245",
     "exception": false,
     "start_time": "2022-10-14T10:12:47.163384",
     "status": "completed"
    },
    "tags": []
   },
   "source": [
    "# Distinguish Your Own Digits (DYOD)"
   ]
  },
  {
   "cell_type": "markdown",
   "id": "ef31240d",
   "metadata": {
    "papermill": {
     "duration": 0.023723,
     "end_time": "2022-10-14T10:12:47.240406",
     "exception": false,
     "start_time": "2022-10-14T10:12:47.216683",
     "status": "completed"
    },
    "tags": []
   },
   "source": [
    "You are going to write a classifier that distinguishes between the number 3 and number 8."
   ]
  },
  {
   "cell_type": "code",
   "execution_count": 1,
   "id": "b15c8646",
   "metadata": {
    "execution": {
     "iopub.execute_input": "2022-10-14T10:12:47.297960Z",
     "iopub.status.busy": "2022-10-14T10:12:47.297387Z",
     "iopub.status.idle": "2022-10-14T10:12:47.308081Z",
     "shell.execute_reply": "2022-10-14T10:12:47.307606Z"
    },
    "papermill": {
     "duration": 0.044132,
     "end_time": "2022-10-14T10:12:47.308199",
     "exception": false,
     "start_time": "2022-10-14T10:12:47.264067",
     "status": "completed"
    },
    "tags": []
   },
   "outputs": [],
   "source": [
    "%load_ext autoreload\n",
    "%autoreload 2"
   ]
  },
  {
   "cell_type": "code",
   "execution_count": 2,
   "id": "22ef38dc",
   "metadata": {
    "execution": {
     "iopub.execute_input": "2022-10-14T10:12:47.359727Z",
     "iopub.status.busy": "2022-10-14T10:12:47.359139Z",
     "iopub.status.idle": "2022-10-14T10:12:47.864011Z",
     "shell.execute_reply": "2022-10-14T10:12:47.863491Z"
    },
    "papermill": {
     "duration": 0.532095,
     "end_time": "2022-10-14T10:12:47.864129",
     "exception": false,
     "start_time": "2022-10-14T10:12:47.332034",
     "status": "completed"
    },
    "tags": []
   },
   "outputs": [],
   "source": [
    "%matplotlib inline\n",
    "import numpy as np\n",
    "import matplotlib.pyplot as plt\n",
    "import pandas as pd"
   ]
  },
  {
   "cell_type": "markdown",
   "id": "ba036198",
   "metadata": {
    "papermill": {
     "duration": 0.023738,
     "end_time": "2022-10-14T10:12:47.911682",
     "exception": false,
     "start_time": "2022-10-14T10:12:47.887944",
     "status": "completed"
    },
    "tags": []
   },
   "source": [
    "From the command line run `pip install mnist`. This is a library that will help you bring down the mnist dataset. If you run this from a notebook, you need to put  `!pip install mnist` in a cell by itself."
   ]
  },
  {
   "cell_type": "code",
   "execution_count": 3,
   "id": "bb6ad8a1",
   "metadata": {
    "execution": {
     "iopub.execute_input": "2022-10-14T10:12:47.962950Z",
     "iopub.status.busy": "2022-10-14T10:12:47.962384Z",
     "iopub.status.idle": "2022-10-14T10:12:49.518716Z",
     "shell.execute_reply": "2022-10-14T10:12:49.517882Z"
    },
    "papermill": {
     "duration": 1.583413,
     "end_time": "2022-10-14T10:12:49.518838",
     "exception": false,
     "start_time": "2022-10-14T10:12:47.935425",
     "status": "completed"
    },
    "tags": []
   },
   "outputs": [
    {
     "name": "stdout",
     "output_type": "stream",
     "text": [
      "Collecting mnist\r\n"
     ]
    },
    {
     "name": "stdout",
     "output_type": "stream",
     "text": [
      "  Downloading mnist-0.2.2-py2.py3-none-any.whl (3.5 kB)\r\n",
      "Requirement already satisfied: numpy in /opt/hostedtoolcache/Python/3.6.15/x64/lib/python3.6/site-packages (from mnist) (1.19.5)\r\n"
     ]
    },
    {
     "name": "stdout",
     "output_type": "stream",
     "text": [
      "Installing collected packages: mnist\r\n"
     ]
    },
    {
     "name": "stdout",
     "output_type": "stream",
     "text": [
      "Successfully installed mnist-0.2.2\r\n"
     ]
    }
   ],
   "source": [
    "!pip install mnist"
   ]
  },
  {
   "cell_type": "markdown",
   "id": "69df9c9a",
   "metadata": {
    "papermill": {
     "duration": 0.025108,
     "end_time": "2022-10-14T10:12:49.569200",
     "exception": false,
     "start_time": "2022-10-14T10:12:49.544092",
     "status": "completed"
    },
    "tags": []
   },
   "source": [
    "## Preparing the Data"
   ]
  },
  {
   "cell_type": "code",
   "execution_count": 4,
   "id": "7f69d806",
   "metadata": {
    "execution": {
     "iopub.execute_input": "2022-10-14T10:12:49.622897Z",
     "iopub.status.busy": "2022-10-14T10:12:49.622346Z",
     "iopub.status.idle": "2022-10-14T10:12:49.636371Z",
     "shell.execute_reply": "2022-10-14T10:12:49.635910Z"
    },
    "papermill": {
     "duration": 0.042399,
     "end_time": "2022-10-14T10:12:49.636473",
     "exception": false,
     "start_time": "2022-10-14T10:12:49.594074",
     "status": "completed"
    },
    "tags": []
   },
   "outputs": [],
   "source": [
    "import mnist"
   ]
  },
  {
   "cell_type": "code",
   "execution_count": 5,
   "id": "a411e44f",
   "metadata": {
    "execution": {
     "iopub.execute_input": "2022-10-14T10:12:49.689346Z",
     "iopub.status.busy": "2022-10-14T10:12:49.688794Z",
     "iopub.status.idle": "2022-10-14T10:12:50.285060Z",
     "shell.execute_reply": "2022-10-14T10:12:50.283942Z"
    },
    "papermill": {
     "duration": 0.623758,
     "end_time": "2022-10-14T10:12:50.285181",
     "exception": false,
     "start_time": "2022-10-14T10:12:49.661423",
     "status": "completed"
    },
    "tags": []
   },
   "outputs": [],
   "source": [
    "train_images = mnist.train_images()\n",
    "train_labels = mnist.train_labels()"
   ]
  },
  {
   "cell_type": "code",
   "execution_count": 6,
   "id": "dceab3a5",
   "metadata": {
    "execution": {
     "iopub.execute_input": "2022-10-14T10:12:50.340532Z",
     "iopub.status.busy": "2022-10-14T10:12:50.337839Z",
     "iopub.status.idle": "2022-10-14T10:12:50.351847Z",
     "shell.execute_reply": "2022-10-14T10:12:50.351277Z"
    },
    "papermill": {
     "duration": 0.041703,
     "end_time": "2022-10-14T10:12:50.351947",
     "exception": false,
     "start_time": "2022-10-14T10:12:50.310244",
     "status": "completed"
    },
    "tags": []
   },
   "outputs": [
    {
     "data": {
      "text/plain": [
       "((60000, 28, 28), (60000,))"
      ]
     },
     "execution_count": 6,
     "metadata": {},
     "output_type": "execute_result"
    }
   ],
   "source": [
    "train_images.shape, train_labels.shape"
   ]
  },
  {
   "cell_type": "code",
   "execution_count": 7,
   "id": "f50dc2bb",
   "metadata": {
    "execution": {
     "iopub.execute_input": "2022-10-14T10:12:50.405992Z",
     "iopub.status.busy": "2022-10-14T10:12:50.405438Z",
     "iopub.status.idle": "2022-10-14T10:12:50.556079Z",
     "shell.execute_reply": "2022-10-14T10:12:50.556531Z"
    },
    "papermill": {
     "duration": 0.179586,
     "end_time": "2022-10-14T10:12:50.556669",
     "exception": false,
     "start_time": "2022-10-14T10:12:50.377083",
     "status": "completed"
    },
    "tags": []
   },
   "outputs": [],
   "source": [
    "test_images = mnist.test_images()\n",
    "test_labels = mnist.test_labels()"
   ]
  },
  {
   "cell_type": "code",
   "execution_count": 8,
   "id": "fc38cf1b",
   "metadata": {
    "execution": {
     "iopub.execute_input": "2022-10-14T10:12:50.611549Z",
     "iopub.status.busy": "2022-10-14T10:12:50.610986Z",
     "iopub.status.idle": "2022-10-14T10:12:50.623832Z",
     "shell.execute_reply": "2022-10-14T10:12:50.623252Z"
    },
    "papermill": {
     "duration": 0.041777,
     "end_time": "2022-10-14T10:12:50.623939",
     "exception": false,
     "start_time": "2022-10-14T10:12:50.582162",
     "status": "completed"
    },
    "tags": []
   },
   "outputs": [
    {
     "data": {
      "text/plain": [
       "((10000, 28, 28), (10000,))"
      ]
     },
     "execution_count": 8,
     "metadata": {},
     "output_type": "execute_result"
    }
   ],
   "source": [
    "test_images.shape, test_labels.shape"
   ]
  },
  {
   "cell_type": "code",
   "execution_count": 9,
   "id": "f9ed8fe0",
   "metadata": {
    "execution": {
     "iopub.execute_input": "2022-10-14T10:12:50.678634Z",
     "iopub.status.busy": "2022-10-14T10:12:50.678072Z",
     "iopub.status.idle": "2022-10-14T10:12:50.810574Z",
     "shell.execute_reply": "2022-10-14T10:12:50.811017Z"
    },
    "papermill": {
     "duration": 0.161752,
     "end_time": "2022-10-14T10:12:50.811144",
     "exception": false,
     "start_time": "2022-10-14T10:12:50.649392",
     "status": "completed"
    },
    "tags": []
   },
   "outputs": [
    {
     "name": "stdout",
     "output_type": "stream",
     "text": [
      "2\n"
     ]
    },
    {
     "data": {
      "text/plain": [
       "<matplotlib.image.AxesImage at 0x7f529124ad68>"
      ]
     },
     "execution_count": 9,
     "metadata": {},
     "output_type": "execute_result"
    },
    {
     "data": {
      "image/png": "[encoded data removed]",
      "text/plain": [
       "<Figure size 432x288 with 1 Axes>"
      ]
     },
     "metadata": {
      "needs_background": "light"
     },
     "output_type": "display_data"
    }
   ],
   "source": [
    "image_index = 7776 # You may select anything up to 60,000\n",
    "print(train_labels[image_index]) \n",
    "plt.imshow(train_images[image_index], cmap='Greys')"
   ]
  },
  {
   "cell_type": "markdown",
   "id": "a8d2388d",
   "metadata": {
    "papermill": {
     "duration": 0.026599,
     "end_time": "2022-10-14T10:12:50.864434",
     "exception": false,
     "start_time": "2022-10-14T10:12:50.837835",
     "status": "completed"
    },
    "tags": []
   },
   "source": [
    "## Filter data to get 3 and 8 out"
   ]
  },
  {
   "cell_type": "code",
   "execution_count": 10,
   "id": "776f7fc7",
   "metadata": {
    "execution": {
     "iopub.execute_input": "2022-10-14T10:12:50.922074Z",
     "iopub.status.busy": "2022-10-14T10:12:50.921438Z",
     "iopub.status.idle": "2022-10-14T10:12:50.935986Z",
     "shell.execute_reply": "2022-10-14T10:12:50.935498Z"
    },
    "papermill": {
     "duration": 0.045316,
     "end_time": "2022-10-14T10:12:50.936091",
     "exception": false,
     "start_time": "2022-10-14T10:12:50.890775",
     "status": "completed"
    },
    "tags": []
   },
   "outputs": [],
   "source": [
    "train_filter = np.where((train_labels == 3 ) | (train_labels == 8))\n",
    "test_filter = np.where((test_labels == 3) | (test_labels == 8))\n",
    "X_train, y_train = train_images[train_filter], train_labels[train_filter]\n",
    "X_test, y_test = test_images[test_filter], test_labels[test_filter]"
   ]
  },
  {
   "cell_type": "markdown",
   "id": "948f0b7e",
   "metadata": {
    "papermill": {
     "duration": 0.02625,
     "end_time": "2022-10-14T10:12:50.988695",
     "exception": false,
     "start_time": "2022-10-14T10:12:50.962445",
     "status": "completed"
    },
    "tags": []
   },
   "source": [
    "We normalize the pizel values in the 0 to 1 range"
   ]
  },
  {
   "cell_type": "code",
   "execution_count": 11,
   "id": "ee4c2166",
   "metadata": {
    "execution": {
     "iopub.execute_input": "2022-10-14T10:12:51.044530Z",
     "iopub.status.busy": "2022-10-14T10:12:51.043974Z",
     "iopub.status.idle": "2022-10-14T10:12:51.082619Z",
     "shell.execute_reply": "2022-10-14T10:12:51.082146Z"
    },
    "papermill": {
     "duration": 0.067829,
     "end_time": "2022-10-14T10:12:51.082725",
     "exception": false,
     "start_time": "2022-10-14T10:12:51.014896",
     "status": "completed"
    },
    "tags": []
   },
   "outputs": [],
   "source": [
    "X_train = X_train/255.\n",
    "X_test = X_test/255."
   ]
  },
  {
   "cell_type": "markdown",
   "id": "ddcf4fab",
   "metadata": {
    "papermill": {
     "duration": 0.026239,
     "end_time": "2022-10-14T10:12:51.135529",
     "exception": false,
     "start_time": "2022-10-14T10:12:51.109290",
     "status": "completed"
    },
    "tags": []
   },
   "source": [
    "And setup the labels as 1 (when the digit is 3) and 0 (when the digit is 8)"
   ]
  },
  {
   "cell_type": "code",
   "execution_count": 12,
   "id": "7dc908f2",
   "metadata": {
    "execution": {
     "iopub.execute_input": "2022-10-14T10:12:51.191672Z",
     "iopub.status.busy": "2022-10-14T10:12:51.191091Z",
     "iopub.status.idle": "2022-10-14T10:12:51.202583Z",
     "shell.execute_reply": "2022-10-14T10:12:51.203008Z"
    },
    "papermill": {
     "duration": 0.041276,
     "end_time": "2022-10-14T10:12:51.203120",
     "exception": false,
     "start_time": "2022-10-14T10:12:51.161844",
     "status": "completed"
    },
    "tags": []
   },
   "outputs": [],
   "source": [
    "y_train = 1*(y_train==3)\n",
    "y_test = 1*(y_test==3)"
   ]
  },
  {
   "cell_type": "code",
   "execution_count": 13,
   "id": "01e4e969",
   "metadata": {
    "execution": {
     "iopub.execute_input": "2022-10-14T10:12:51.258719Z",
     "iopub.status.busy": "2022-10-14T10:12:51.258166Z",
     "iopub.status.idle": "2022-10-14T10:12:51.270525Z",
     "shell.execute_reply": "2022-10-14T10:12:51.270978Z"
    },
    "papermill": {
     "duration": 0.041611,
     "end_time": "2022-10-14T10:12:51.271091",
     "exception": false,
     "start_time": "2022-10-14T10:12:51.229480",
     "status": "completed"
    },
    "tags": []
   },
   "outputs": [
    {
     "data": {
      "text/plain": [
       "((11982, 28, 28), (1984, 28, 28))"
      ]
     },
     "execution_count": 13,
     "metadata": {},
     "output_type": "execute_result"
    }
   ],
   "source": [
    "X_train.shape, X_test.shape"
   ]
  },
  {
   "cell_type": "markdown",
   "id": "5ccf3f85",
   "metadata": {
    "papermill": {
     "duration": 0.026842,
     "end_time": "2022-10-14T10:12:51.324507",
     "exception": false,
     "start_time": "2022-10-14T10:12:51.297665",
     "status": "completed"
    },
    "tags": []
   },
   "source": [
    "We reshape the data to flatten the image pixels into a set of features or co-variates:"
   ]
  },
  {
   "cell_type": "code",
   "execution_count": 14,
   "id": "5286a4a3",
   "metadata": {
    "execution": {
     "iopub.execute_input": "2022-10-14T10:12:51.381781Z",
     "iopub.status.busy": "2022-10-14T10:12:51.381205Z",
     "iopub.status.idle": "2022-10-14T10:12:51.394118Z",
     "shell.execute_reply": "2022-10-14T10:12:51.393575Z"
    },
    "papermill": {
     "duration": 0.042957,
     "end_time": "2022-10-14T10:12:51.394217",
     "exception": false,
     "start_time": "2022-10-14T10:12:51.351260",
     "status": "completed"
    },
    "tags": []
   },
   "outputs": [
    {
     "data": {
      "text/plain": [
       "((11982, 784), (1984, 784))"
      ]
     },
     "execution_count": 14,
     "metadata": {},
     "output_type": "execute_result"
    }
   ],
   "source": [
    "X_train = X_train.reshape(X_train.shape[0], -1)\n",
    "X_test = X_test.reshape(X_test.shape[0], -1)\n",
    "X_train.shape, X_test.shape"
   ]
  },
  {
   "cell_type": "code",
   "execution_count": 15,
   "id": "73c5f88a",
   "metadata": {
    "execution": {
     "iopub.execute_input": "2022-10-14T10:12:51.452264Z",
     "iopub.status.busy": "2022-10-14T10:12:51.451690Z",
     "iopub.status.idle": "2022-10-14T10:12:51.468979Z",
     "shell.execute_reply": "2022-10-14T10:12:51.469402Z"
    },
    "papermill": {
     "duration": 0.048228,
     "end_time": "2022-10-14T10:12:51.469514",
     "exception": false,
     "start_time": "2022-10-14T10:12:51.421286",
     "status": "completed"
    },
    "tags": []
   },
   "outputs": [],
   "source": [
    "#Impoting functions from 'Kudzu'\n",
    "from kudzu.model import Model\n",
    "from kudzu.train import Learner\n",
    "from kudzu.optim import GD\n",
    "from kudzu.data import Data, Sampler,Dataloader\n",
    "\n",
    "from kudzu.callbacks import AccCallback\n",
    "from kudzu.callbacks import ClfCallback\n",
    "\n",
    "from kudzu.loss import MSE\n",
    "\n",
    "from kudzu.layer import Sigmoid,Relu\n",
    "from kudzu.layer import Affine"
   ]
  },
  {
   "cell_type": "markdown",
   "id": "bc01172a",
   "metadata": {
    "papermill": {
     "duration": 0.02708,
     "end_time": "2022-10-14T10:12:51.523430",
     "exception": false,
     "start_time": "2022-10-14T10:12:51.496350",
     "status": "completed"
    },
    "tags": []
   },
   "source": [
    "### Let us create a `Config` class, to store important parameters. \n",
    "This class essentially plays the role of a dictionary."
   ]
  },
  {
   "cell_type": "code",
   "execution_count": 16,
   "id": "978281aa",
   "metadata": {
    "execution": {
     "iopub.execute_input": "2022-10-14T10:12:51.581587Z",
     "iopub.status.busy": "2022-10-14T10:12:51.581013Z",
     "iopub.status.idle": "2022-10-14T10:12:51.592138Z",
     "shell.execute_reply": "2022-10-14T10:12:51.592569Z"
    },
    "papermill": {
     "duration": 0.042339,
     "end_time": "2022-10-14T10:12:51.592687",
     "exception": false,
     "start_time": "2022-10-14T10:12:51.550348",
     "status": "completed"
    },
    "tags": []
   },
   "outputs": [],
   "source": [
    "class Config:\n",
    "    pass\n",
    "config = Config()\n",
    "config.lr = 0.001\n",
    "config.num_epochs = 250\n",
    "config.bs = 50"
   ]
  },
  {
   "cell_type": "markdown",
   "id": "1385fa59",
   "metadata": {
    "papermill": {
     "duration": 0.026768,
     "end_time": "2022-10-14T10:12:51.646402",
     "exception": false,
     "start_time": "2022-10-14T10:12:51.619634",
     "status": "completed"
    },
    "tags": []
   },
   "source": [
    "### Running Models with the Training data\n",
    "Details about the network layers:\n",
    "- A first affine layer has 784 inputs and does 100 affine transforms. These are followed by a Relu\n",
    "- A second affine layer has 100 inputs from the 100 activations of the past layer, and does 100 affine transforms. These are followed by a Relu\n",
    "- A third affine layer has 100 activations and does 2 affine transformations to create an embedding for visualization. There is no non-linearity here.\n",
    "- A final \"logistic regression\" which has an affine transform from 2 inputs to 1 output, which is squeezed through a sigmoid.\n"
   ]
  },
  {
   "cell_type": "code",
   "execution_count": 17,
   "id": "2b9c66db",
   "metadata": {
    "execution": {
     "iopub.execute_input": "2022-10-14T10:12:51.703922Z",
     "iopub.status.busy": "2022-10-14T10:12:51.703335Z",
     "iopub.status.idle": "2022-10-14T10:12:51.714940Z",
     "shell.execute_reply": "2022-10-14T10:12:51.715386Z"
    },
    "papermill": {
     "duration": 0.042267,
     "end_time": "2022-10-14T10:12:51.715495",
     "exception": false,
     "start_time": "2022-10-14T10:12:51.673228",
     "status": "completed"
    },
    "tags": []
   },
   "outputs": [],
   "source": [
    "data = Data(X_train, y_train.reshape(-1,1))\n",
    "sampler = Sampler(data, config.bs, shuffle=True)\n",
    "\n",
    "dl = Dataloader(data, sampler)\n",
    "\n",
    "opt = GD(config.lr)\n",
    "loss = MSE()"
   ]
  },
  {
   "cell_type": "code",
   "execution_count": 18,
   "id": "b275e4c2",
   "metadata": {
    "execution": {
     "iopub.execute_input": "2022-10-14T10:12:51.772593Z",
     "iopub.status.busy": "2022-10-14T10:12:51.772036Z",
     "iopub.status.idle": "2022-10-14T10:12:51.782719Z",
     "shell.execute_reply": "2022-10-14T10:12:51.783166Z"
    },
    "papermill": {
     "duration": 0.040957,
     "end_time": "2022-10-14T10:12:51.783275",
     "exception": false,
     "start_time": "2022-10-14T10:12:51.742318",
     "status": "completed"
    },
    "tags": []
   },
   "outputs": [],
   "source": [
    "training_data_x = X_train\n",
    "testing_data_x = X_test\n",
    "training_data_y = y_train.reshape(-1,1)\n",
    "testing_data_y = y_test.reshape(-1,1)"
   ]
  },
  {
   "cell_type": "code",
   "execution_count": 19,
   "id": "76951160",
   "metadata": {
    "execution": {
     "iopub.execute_input": "2022-10-14T10:12:51.840518Z",
     "iopub.status.busy": "2022-10-14T10:12:51.839941Z",
     "iopub.status.idle": "2022-10-14T10:12:51.855110Z",
     "shell.execute_reply": "2022-10-14T10:12:51.855558Z"
    },
    "papermill": {
     "duration": 0.045733,
     "end_time": "2022-10-14T10:12:51.855686",
     "exception": false,
     "start_time": "2022-10-14T10:12:51.809953",
     "status": "completed"
    },
    "tags": []
   },
   "outputs": [
    {
     "name": "stdout",
     "output_type": "stream",
     "text": [
      "xavier\n",
      "xavier\n",
      "xavier\n",
      "xavier\n",
      "xavier\n"
     ]
    }
   ],
   "source": [
    "layers = [Affine(\"first\", 784, 100), Relu(\"first\"), Affine(\"second\", 100, 100), Relu(\"second\"), Affine(\"third\", 100, 2), Affine(\"last\", 2, 1), Sigmoid(\"last\")]\n",
    "model_nn = Model(layers)\n",
    "model_lr = Model([Affine(\"logits\", 784, 1), Sigmoid(\"sigmoid\")])"
   ]
  },
  {
   "cell_type": "code",
   "execution_count": 20,
   "id": "6eede77a",
   "metadata": {
    "execution": {
     "iopub.execute_input": "2022-10-14T10:12:51.913572Z",
     "iopub.status.busy": "2022-10-14T10:12:51.913020Z",
     "iopub.status.idle": "2022-10-14T10:12:51.924876Z",
     "shell.execute_reply": "2022-10-14T10:12:51.924423Z"
    },
    "papermill": {
     "duration": 0.04207,
     "end_time": "2022-10-14T10:12:51.924977",
     "exception": false,
     "start_time": "2022-10-14T10:12:51.882907",
     "status": "completed"
    },
    "tags": []
   },
   "outputs": [],
   "source": [
    "nn_learner = Learner(loss, model_nn, opt, config.num_epochs)\n",
    "acc_nn = ClfCallback(nn_learner, config.bs, training_data_x , testing_data_x, training_data_y, testing_data_y)\n",
    "nn_learner.set_callbacks([acc_nn])"
   ]
  },
  {
   "cell_type": "code",
   "execution_count": 21,
   "id": "877b6cc7",
   "metadata": {
    "execution": {
     "iopub.execute_input": "2022-10-14T10:12:51.982855Z",
     "iopub.status.busy": "2022-10-14T10:12:51.982308Z",
     "iopub.status.idle": "2022-10-14T10:12:51.993474Z",
     "shell.execute_reply": "2022-10-14T10:12:51.993925Z"
    },
    "papermill": {
     "duration": 0.041896,
     "end_time": "2022-10-14T10:12:51.994036",
     "exception": false,
     "start_time": "2022-10-14T10:12:51.952140",
     "status": "completed"
    },
    "tags": []
   },
   "outputs": [],
   "source": [
    "lr_learner = Learner(loss, model_lr, opt, config.num_epochs)\n",
    "acc_lr = ClfCallback(lr_learner, config.bs, training_data_x , testing_data_x, training_data_y, testing_data_y)\n",
    "lr_learner.set_callbacks([acc_lr])"
   ]
  },
  {
   "cell_type": "code",
   "execution_count": 22,
   "id": "d9b133c3",
   "metadata": {
    "execution": {
     "iopub.execute_input": "2022-10-14T10:12:52.050947Z",
     "iopub.status.busy": "2022-10-14T10:12:52.050386Z",
     "iopub.status.idle": "2022-10-14T10:15:48.282897Z",
     "shell.execute_reply": "2022-10-14T10:15:48.283344Z"
    },
    "papermill": {
     "duration": 176.262166,
     "end_time": "2022-10-14T10:15:48.283472",
     "exception": false,
     "start_time": "2022-10-14T10:12:52.021306",
     "status": "completed"
    },
    "tags": []
   },
   "outputs": [
    {
     "name": "stdout",
     "output_type": "stream",
     "text": [
      "Epoch 0, Loss 0.2466\n",
      "Training Accuracy: 0.5713, Testing Accuracy: 0.5620\n",
      "\n"
     ]
    },
    {
     "name": "stdout",
     "output_type": "stream",
     "text": [
      "Epoch 10, Loss 0.1232\n",
      "Training Accuracy: 0.8962, Testing Accuracy: 0.9068\n",
      "\n"
     ]
    },
    {
     "name": "stdout",
     "output_type": "stream",
     "text": [
      "Epoch 20, Loss 0.0692\n",
      "Training Accuracy: 0.9301, Testing Accuracy: 0.9400\n",
      "\n"
     ]
    },
    {
     "name": "stdout",
     "output_type": "stream",
     "text": [
      "Epoch 30, Loss 0.0509\n",
      "Training Accuracy: 0.9439, Testing Accuracy: 0.9567\n",
      "\n"
     ]
    },
    {
     "name": "stdout",
     "output_type": "stream",
     "text": [
      "Epoch 40, Loss 0.0423\n",
      "Training Accuracy: 0.9528, Testing Accuracy: 0.9607\n",
      "\n"
     ]
    },
    {
     "name": "stdout",
     "output_type": "stream",
     "text": [
      "Epoch 50, Loss 0.0374\n",
      "Training Accuracy: 0.9578, Testing Accuracy: 0.9642\n",
      "\n"
     ]
    },
    {
     "name": "stdout",
     "output_type": "stream",
     "text": [
      "Epoch 60, Loss 0.0343\n",
      "Training Accuracy: 0.9604, Testing Accuracy: 0.9657\n",
      "\n"
     ]
    },
    {
     "name": "stdout",
     "output_type": "stream",
     "text": [
      "Epoch 70, Loss 0.032\n",
      "Training Accuracy: 0.9623, Testing Accuracy: 0.9677\n",
      "\n"
     ]
    },
    {
     "name": "stdout",
     "output_type": "stream",
     "text": [
      "Epoch 80, Loss 0.0303\n",
      "Training Accuracy: 0.9647, Testing Accuracy: 0.9677\n",
      "\n"
     ]
    },
    {
     "name": "stdout",
     "output_type": "stream",
     "text": [
      "Epoch 90, Loss 0.0289\n",
      "Training Accuracy: 0.9656, Testing Accuracy: 0.9682\n",
      "\n"
     ]
    },
    {
     "name": "stdout",
     "output_type": "stream",
     "text": [
      "Epoch 100, Loss 0.0278\n",
      "Training Accuracy: 0.9672, Testing Accuracy: 0.9698\n",
      "\n"
     ]
    },
    {
     "name": "stdout",
     "output_type": "stream",
     "text": [
      "Epoch 110, Loss 0.0269\n",
      "Training Accuracy: 0.9681, Testing Accuracy: 0.9688\n",
      "\n"
     ]
    },
    {
     "name": "stdout",
     "output_type": "stream",
     "text": [
      "Epoch 120, Loss 0.0261\n",
      "Training Accuracy: 0.9688, Testing Accuracy: 0.9677\n",
      "\n"
     ]
    },
    {
     "name": "stdout",
     "output_type": "stream",
     "text": [
      "Epoch 130, Loss 0.0254\n",
      "Training Accuracy: 0.9694, Testing Accuracy: 0.9677\n",
      "\n"
     ]
    },
    {
     "name": "stdout",
     "output_type": "stream",
     "text": [
      "Epoch 140, Loss 0.0248\n",
      "Training Accuracy: 0.9704, Testing Accuracy: 0.9682\n",
      "\n"
     ]
    },
    {
     "name": "stdout",
     "output_type": "stream",
     "text": [
      "Epoch 150, Loss 0.0242\n",
      "Training Accuracy: 0.9719, Testing Accuracy: 0.9698\n",
      "\n"
     ]
    },
    {
     "name": "stdout",
     "output_type": "stream",
     "text": [
      "Epoch 160, Loss 0.0236\n",
      "Training Accuracy: 0.9722, Testing Accuracy: 0.9688\n",
      "\n"
     ]
    },
    {
     "name": "stdout",
     "output_type": "stream",
     "text": [
      "Epoch 170, Loss 0.0231\n",
      "Training Accuracy: 0.9726, Testing Accuracy: 0.9698\n",
      "\n"
     ]
    },
    {
     "name": "stdout",
     "output_type": "stream",
     "text": [
      "Epoch 180, Loss 0.0226\n",
      "Training Accuracy: 0.9735, Testing Accuracy: 0.9708\n",
      "\n"
     ]
    },
    {
     "name": "stdout",
     "output_type": "stream",
     "text": [
      "Epoch 190, Loss 0.0222\n",
      "Training Accuracy: 0.9742, Testing Accuracy: 0.9718\n",
      "\n"
     ]
    },
    {
     "name": "stdout",
     "output_type": "stream",
     "text": [
      "Epoch 200, Loss 0.0218\n",
      "Training Accuracy: 0.9751, Testing Accuracy: 0.9728\n",
      "\n"
     ]
    },
    {
     "name": "stdout",
     "output_type": "stream",
     "text": [
      "Epoch 210, Loss 0.0213\n",
      "Training Accuracy: 0.9755, Testing Accuracy: 0.9718\n",
      "\n"
     ]
    },
    {
     "name": "stdout",
     "output_type": "stream",
     "text": [
      "Epoch 220, Loss 0.021\n",
      "Training Accuracy: 0.9757, Testing Accuracy: 0.9723\n",
      "\n"
     ]
    },
    {
     "name": "stdout",
     "output_type": "stream",
     "text": [
      "Epoch 230, Loss 0.0206\n",
      "Training Accuracy: 0.9761, Testing Accuracy: 0.9728\n",
      "\n"
     ]
    },
    {
     "name": "stdout",
     "output_type": "stream",
     "text": [
      "Epoch 240, Loss 0.0202\n",
      "Training Accuracy: 0.9769, Testing Accuracy: 0.9723\n",
      "\n"
     ]
    },
    {
     "data": {
      "text/plain": [
       "0.030921071585628047"
      ]
     },
     "execution_count": 22,
     "metadata": {},
     "output_type": "execute_result"
    }
   ],
   "source": [
    "nn_learner.train_loop(dl)"
   ]
  },
  {
   "cell_type": "code",
   "execution_count": 23,
   "id": "e0163366",
   "metadata": {
    "execution": {
     "iopub.execute_input": "2022-10-14T10:15:48.358471Z",
     "iopub.status.busy": "2022-10-14T10:15:48.356881Z",
     "iopub.status.idle": "2022-10-14T10:16:00.586617Z",
     "shell.execute_reply": "2022-10-14T10:16:00.587383Z"
    },
    "papermill": {
     "duration": 12.269724,
     "end_time": "2022-10-14T10:16:00.587519",
     "exception": false,
     "start_time": "2022-10-14T10:15:48.317795",
     "status": "completed"
    },
    "tags": []
   },
   "outputs": [
    {
     "name": "stdout",
     "output_type": "stream",
     "text": [
      "Epoch 0, Loss 0.2268\n",
      "Training Accuracy: 0.7486, Testing Accuracy: 0.7777\n",
      "\n"
     ]
    },
    {
     "name": "stdout",
     "output_type": "stream",
     "text": [
      "Epoch 10, Loss 0.1004\n",
      "Training Accuracy: 0.9146, Testing Accuracy: 0.9335\n",
      "\n"
     ]
    },
    {
     "name": "stdout",
     "output_type": "stream",
     "text": [
      "Epoch 20, Loss 0.0776\n",
      "Training Accuracy: 0.9321, Testing Accuracy: 0.9471\n",
      "\n"
     ]
    },
    {
     "name": "stdout",
     "output_type": "stream",
     "text": [
      "Epoch 30, Loss 0.0671\n",
      "Training Accuracy: 0.9402, Testing Accuracy: 0.9531\n",
      "\n"
     ]
    },
    {
     "name": "stdout",
     "output_type": "stream",
     "text": [
      "Epoch 40, Loss 0.0607\n",
      "Training Accuracy: 0.9452, Testing Accuracy: 0.9561\n",
      "\n"
     ]
    },
    {
     "name": "stdout",
     "output_type": "stream",
     "text": [
      "Epoch 50, Loss 0.0563\n",
      "Training Accuracy: 0.9473, Testing Accuracy: 0.9582\n",
      "\n"
     ]
    },
    {
     "name": "stdout",
     "output_type": "stream",
     "text": [
      "Epoch 60, Loss 0.0532\n",
      "Training Accuracy: 0.9484, Testing Accuracy: 0.9612\n",
      "\n"
     ]
    },
    {
     "name": "stdout",
     "output_type": "stream",
     "text": [
      "Epoch 70, Loss 0.0507\n",
      "Training Accuracy: 0.9502, Testing Accuracy: 0.9637\n",
      "\n"
     ]
    },
    {
     "name": "stdout",
     "output_type": "stream",
     "text": [
      "Epoch 80, Loss 0.0487\n",
      "Training Accuracy: 0.9517, Testing Accuracy: 0.9652\n",
      "\n"
     ]
    },
    {
     "name": "stdout",
     "output_type": "stream",
     "text": [
      "Epoch 90, Loss 0.0471\n",
      "Training Accuracy: 0.9530, Testing Accuracy: 0.9657\n",
      "\n"
     ]
    },
    {
     "name": "stdout",
     "output_type": "stream",
     "text": [
      "Epoch 100, Loss 0.0457\n",
      "Training Accuracy: 0.9543, Testing Accuracy: 0.9667\n",
      "\n"
     ]
    },
    {
     "name": "stdout",
     "output_type": "stream",
     "text": [
      "Epoch 110, Loss 0.0446\n",
      "Training Accuracy: 0.9552, Testing Accuracy: 0.9662\n",
      "\n"
     ]
    },
    {
     "name": "stdout",
     "output_type": "stream",
     "text": [
      "Epoch 120, Loss 0.0435\n",
      "Training Accuracy: 0.9559, Testing Accuracy: 0.9657\n",
      "\n"
     ]
    },
    {
     "name": "stdout",
     "output_type": "stream",
     "text": [
      "Epoch 130, Loss 0.0426\n",
      "Training Accuracy: 0.9560, Testing Accuracy: 0.9662\n",
      "\n"
     ]
    },
    {
     "name": "stdout",
     "output_type": "stream",
     "text": [
      "Epoch 140, Loss 0.0418\n",
      "Training Accuracy: 0.9569, Testing Accuracy: 0.9662\n",
      "\n"
     ]
    },
    {
     "name": "stdout",
     "output_type": "stream",
     "text": [
      "Epoch 150, Loss 0.0411\n",
      "Training Accuracy: 0.9574, Testing Accuracy: 0.9667\n",
      "\n"
     ]
    },
    {
     "name": "stdout",
     "output_type": "stream",
     "text": [
      "Epoch 160, Loss 0.0405\n",
      "Training Accuracy: 0.9581, Testing Accuracy: 0.9667\n",
      "\n"
     ]
    },
    {
     "name": "stdout",
     "output_type": "stream",
     "text": [
      "Epoch 170, Loss 0.0399\n",
      "Training Accuracy: 0.9586, Testing Accuracy: 0.9667\n",
      "\n"
     ]
    },
    {
     "name": "stdout",
     "output_type": "stream",
     "text": [
      "Epoch 180, Loss 0.0393\n",
      "Training Accuracy: 0.9587, Testing Accuracy: 0.9667\n",
      "\n"
     ]
    },
    {
     "name": "stdout",
     "output_type": "stream",
     "text": [
      "Epoch 190, Loss 0.0388\n",
      "Training Accuracy: 0.9589, Testing Accuracy: 0.9662\n",
      "\n"
     ]
    },
    {
     "name": "stdout",
     "output_type": "stream",
     "text": [
      "Epoch 200, Loss 0.0384\n",
      "Training Accuracy: 0.9596, Testing Accuracy: 0.9662\n",
      "\n"
     ]
    },
    {
     "name": "stdout",
     "output_type": "stream",
     "text": [
      "Epoch 210, Loss 0.0379\n",
      "Training Accuracy: 0.9598, Testing Accuracy: 0.9667\n",
      "\n"
     ]
    },
    {
     "name": "stdout",
     "output_type": "stream",
     "text": [
      "Epoch 220, Loss 0.0375\n",
      "Training Accuracy: 0.9601, Testing Accuracy: 0.9677\n",
      "\n"
     ]
    },
    {
     "name": "stdout",
     "output_type": "stream",
     "text": [
      "Epoch 230, Loss 0.0372\n",
      "Training Accuracy: 0.9607, Testing Accuracy: 0.9677\n",
      "\n"
     ]
    },
    {
     "name": "stdout",
     "output_type": "stream",
     "text": [
      "Epoch 240, Loss 0.0368\n",
      "Training Accuracy: 0.9610, Testing Accuracy: 0.9677\n",
      "\n"
     ]
    },
    {
     "data": {
      "text/plain": [
       "0.05812917934387485"
      ]
     },
     "execution_count": 23,
     "metadata": {},
     "output_type": "execute_result"
    }
   ],
   "source": [
    "lr_learner.train_loop(dl)"
   ]
  },
  {
   "cell_type": "code",
   "execution_count": 24,
   "id": "ca410940",
   "metadata": {
    "execution": {
     "iopub.execute_input": "2022-10-14T10:16:00.683257Z",
     "iopub.status.busy": "2022-10-14T10:16:00.680495Z",
     "iopub.status.idle": "2022-10-14T10:16:00.905166Z",
     "shell.execute_reply": "2022-10-14T10:16:00.904114Z"
    },
    "papermill": {
     "duration": 0.276387,
     "end_time": "2022-10-14T10:16:00.905284",
     "exception": false,
     "start_time": "2022-10-14T10:16:00.628897",
     "status": "completed"
    },
    "tags": []
   },
   "outputs": [
    {
     "data": {
      "text/plain": [
       "<matplotlib.legend.Legend at 0x7f528460e3c8>"
      ]
     },
     "execution_count": 24,
     "metadata": {},
     "output_type": "execute_result"
    },
    {
     "data": {
      "image/png": "[encoded data removed]",
      "text/plain": [
       "<Figure size 1080x720 with 1 Axes>"
      ]
     },
     "metadata": {
      "needs_background": "light"
     },
     "output_type": "display_data"
    }
   ],
   "source": [
    "#comparing the results of NN and LR\n",
    "plt.figure(figsize=(15,10))\n",
    "\n",
    "# Neural Network plots\n",
    "plt.plot(acc_nn.accuracies, 'r-', label = \"Training Accuracies - NN\")\n",
    "plt.plot(acc_nn.test_accuracies, 'g-', label = \"Testing Accuracies - NN\")\n",
    "\n",
    "# Logistic Regression plots\n",
    "plt.plot(acc_lr.accuracies, 'k-', label = \"Training Accuracies - LR\")\n",
    "plt.plot(acc_lr.test_accuracies, 'b-', label = \"Testing Accuracies - LR\")\n",
    "plt.legend()"
   ]
  },
  {
   "cell_type": "markdown",
   "id": "80dfb35c",
   "metadata": {
    "papermill": {
     "duration": 0.041995,
     "end_time": "2022-10-14T10:16:00.989678",
     "exception": false,
     "start_time": "2022-10-14T10:16:00.947683",
     "status": "completed"
    },
    "tags": []
   },
   "source": [
    "#### Plotting the outputs of this layer of the NN.\n"
   ]
  },
  {
   "cell_type": "code",
   "execution_count": 25,
   "id": "45eb2ff5",
   "metadata": {
    "execution": {
     "iopub.execute_input": "2022-10-14T10:16:01.080002Z",
     "iopub.status.busy": "2022-10-14T10:16:01.078482Z",
     "iopub.status.idle": "2022-10-14T10:16:01.112917Z",
     "shell.execute_reply": "2022-10-14T10:16:01.113576Z"
    },
    "papermill": {
     "duration": 0.082005,
     "end_time": "2022-10-14T10:16:01.113701",
     "exception": false,
     "start_time": "2022-10-14T10:16:01.031696",
     "status": "completed"
    },
    "tags": []
   },
   "outputs": [],
   "source": [
    "new_model = Model(layers[:-2])\n",
    "testing_plot = new_model(testing_data_x)"
   ]
  },
  {
   "cell_type": "code",
   "execution_count": 26,
   "id": "4c0a5485",
   "metadata": {
    "execution": {
     "iopub.execute_input": "2022-10-14T10:16:01.207756Z",
     "iopub.status.busy": "2022-10-14T10:16:01.207015Z",
     "iopub.status.idle": "2022-10-14T10:16:01.413311Z",
     "shell.execute_reply": "2022-10-14T10:16:01.412829Z"
    },
    "papermill": {
     "duration": 0.25698,
     "end_time": "2022-10-14T10:16:01.413418",
     "exception": false,
     "start_time": "2022-10-14T10:16:01.156438",
     "status": "completed"
    },
    "tags": []
   },
   "outputs": [
    {
     "data": {
      "text/plain": [
       "Text(0.5, 1.0, 'Outputs')"
      ]
     },
     "execution_count": 26,
     "metadata": {},
     "output_type": "execute_result"
    },
    {
     "data": {
      "image/png": "[encoded data removed]",
      "text/plain": [
       "<Figure size 576x504 with 1 Axes>"
      ]
     },
     "metadata": {
      "needs_background": "light"
     },
     "output_type": "display_data"
    }
   ],
   "source": [
    "# Plotting the scatter plot of points and color coding by class\n",
    "plt.figure(figsize=(8,7))\n",
    "plt.scatter(testing_plot[:,0], testing_plot[:,1], alpha = 0.1, c = y_test.ravel());\n",
    "plt.title('Outputs')"
   ]
  },
  {
   "cell_type": "markdown",
   "id": "a74fcf8f",
   "metadata": {
    "papermill": {
     "duration": 0.045053,
     "end_time": "2022-10-14T10:16:01.524731",
     "exception": false,
     "start_time": "2022-10-14T10:16:01.479678",
     "status": "completed"
    },
    "tags": []
   },
   "source": [
    "Probability contours"
   ]
  },
  {
   "cell_type": "code",
   "execution_count": 27,
   "id": "d0afc8e3",
   "metadata": {
    "execution": {
     "iopub.execute_input": "2022-10-14T10:16:01.620303Z",
     "iopub.status.busy": "2022-10-14T10:16:01.618346Z",
     "iopub.status.idle": "2022-10-14T10:16:01.629788Z",
     "shell.execute_reply": "2022-10-14T10:16:01.629340Z"
    },
    "papermill": {
     "duration": 0.060187,
     "end_time": "2022-10-14T10:16:01.629890",
     "exception": false,
     "start_time": "2022-10-14T10:16:01.569703",
     "status": "completed"
    },
    "tags": []
   },
   "outputs": [],
   "source": [
    "model_prob = Model(layers[-2:]) "
   ]
  },
  {
   "cell_type": "code",
   "execution_count": 28,
   "id": "9b96e238",
   "metadata": {
    "execution": {
     "iopub.execute_input": "2022-10-14T10:16:01.723364Z",
     "iopub.status.busy": "2022-10-14T10:16:01.722809Z",
     "iopub.status.idle": "2022-10-14T10:16:01.735256Z",
     "shell.execute_reply": "2022-10-14T10:16:01.735715Z"
    },
    "papermill": {
     "duration": 0.061287,
     "end_time": "2022-10-14T10:16:01.735839",
     "exception": false,
     "start_time": "2022-10-14T10:16:01.674552",
     "status": "completed"
    },
    "tags": []
   },
   "outputs": [],
   "source": [
    "#creating the x and y ranges according to the above generated plot.\n",
    "x_range = np.linspace(-4, 1, 100) \n",
    "y_range = np.linspace(-6, 6, 100) \n",
    "x_grid, y_grid = np.meshgrid(x_range, y_range) # x_grid and y_grig are of size 100 X 100\n",
    "\n",
    "# converting x_grid and y_grid to continuous arrays\n",
    "x_gridflat = np.ravel(x_grid)\n",
    "y_gridflat = np.ravel(y_grid)\n",
    "\n",
    "# The last layer of the current model takes two columns as input. Hence transpose of np.vstack() is required.\n",
    "X = np.vstack((x_gridflat, y_gridflat)).T\n",
    "\n",
    "prob_contour = model_prob(X).reshape(100,100) "
   ]
  },
  {
   "cell_type": "code",
   "execution_count": 29,
   "id": "da72499a",
   "metadata": {
    "execution": {
     "iopub.execute_input": "2022-10-14T10:16:01.830218Z",
     "iopub.status.busy": "2022-10-14T10:16:01.829666Z",
     "iopub.status.idle": "2022-10-14T10:16:02.069287Z",
     "shell.execute_reply": "2022-10-14T10:16:02.069732Z"
    },
    "papermill": {
     "duration": 0.28869,
     "end_time": "2022-10-14T10:16:02.069857",
     "exception": false,
     "start_time": "2022-10-14T10:16:01.781167",
     "status": "completed"
    },
    "tags": []
   },
   "outputs": [
    {
     "data": {
      "image/png": "[encoded data removed]",
      "text/plain": [
       "<Figure size 720x648 with 1 Axes>"
      ]
     },
     "metadata": {
      "needs_background": "light"
     },
     "output_type": "display_data"
    }
   ],
   "source": [
    "plt.figure(figsize=(10,9))\n",
    "plt.scatter(testing_plot[:,0], testing_plot[:,1], alpha = 0.1, c = y_test.ravel())\n",
    "contours = plt.contour(x_grid,y_grid,prob_contour)\n",
    "plt.title('Probability Contours')\n",
    "plt.clabel(contours, inline = True );"
   ]
  },
  {
   "cell_type": "code",
   "execution_count": null,
   "id": "e81b4ac7",
   "metadata": {
    "papermill": {
     "duration": 0.047241,
     "end_time": "2022-10-14T10:16:02.164620",
     "exception": false,
     "start_time": "2022-10-14T10:16:02.117379",
     "status": "completed"
    },
    "tags": []
   },
   "outputs": [],
   "source": []
  }
 ],
 "metadata": {
  "kernelspec": {
   "display_name": "Python 3",
   "language": "python",
   "name": "python3"
  },
  "language_info": {
   "codemirror_mode": {
    "name": "ipython",
    "version": 3
   },
   "file_extension": ".py",
   "mimetype": "text/x-python",
   "name": "python",
   "nbconvert_exporter": "python",
   "pygments_lexer": "ipython3",
   "version": "3.6.15"
  },
  "papermill": {
   "default_parameters": {},
   "duration": 196.290745,
   "end_time": "2022-10-14T10:16:02.528763",
   "environment_variables": {},
   "exception": null,
   "input_path": "2020-08-11-part2.ipynb",
   "output_path": "2020-08-11-part2.ipynb",
   "parameters": {},
   "start_time": "2022-10-14T10:12:46.238018",
   "version": "2.3.3"
  }
 },
 "nbformat": 4,
 "nbformat_minor": 5
}