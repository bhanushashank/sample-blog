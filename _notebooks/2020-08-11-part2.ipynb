{
 "cells": [
  {
   "cell_type": "markdown",
   "id": "98380cd3",
   "metadata": {
    "papermill": {
     "duration": 0.035546,
     "end_time": "2021-10-11T00:21:03.691547",
     "exception": false,
     "start_time": "2021-10-11T00:21:03.656001",
     "status": "completed"
    },
    "tags": []
   },
   "source": [
    "# Distinguish Your Own Digits (DYOD)"
   ]
  },
  {
   "cell_type": "markdown",
   "id": "ef31240d",
   "metadata": {
    "papermill": {
     "duration": 0.027028,
     "end_time": "2021-10-11T00:21:03.746629",
     "exception": false,
     "start_time": "2021-10-11T00:21:03.719601",
     "status": "completed"
    },
    "tags": []
   },
   "source": [
    "You are going to write a classifier that distinguishes between the number 3 and number 8."
   ]
  },
  {
   "cell_type": "code",
   "execution_count": 1,
   "id": "b15c8646",
   "metadata": {
    "execution": {
     "iopub.execute_input": "2021-10-11T00:21:03.815542Z",
     "iopub.status.busy": "2021-10-11T00:21:03.814927Z",
     "iopub.status.idle": "2021-10-11T00:21:03.826801Z",
     "shell.execute_reply": "2021-10-11T00:21:03.826310Z"
    },
    "papermill": {
     "duration": 0.053447,
     "end_time": "2021-10-11T00:21:03.826950",
     "exception": false,
     "start_time": "2021-10-11T00:21:03.773503",
     "status": "completed"
    },
    "tags": []
   },
   "outputs": [],
   "source": [
    "%load_ext autoreload\n",
    "%autoreload 2"
   ]
  },
  {
   "cell_type": "code",
   "execution_count": 2,
   "id": "22ef38dc",
   "metadata": {
    "execution": {
     "iopub.execute_input": "2021-10-11T00:21:03.888285Z",
     "iopub.status.busy": "2021-10-11T00:21:03.887636Z",
     "iopub.status.idle": "2021-10-11T00:21:04.477739Z",
     "shell.execute_reply": "2021-10-11T00:21:04.476788Z"
    },
    "papermill": {
     "duration": 0.623801,
     "end_time": "2021-10-11T00:21:04.477951",
     "exception": false,
     "start_time": "2021-10-11T00:21:03.854150",
     "status": "completed"
    },
    "tags": []
   },
   "outputs": [],
   "source": [
    "%matplotlib inline\n",
    "import numpy as np\n",
    "import matplotlib.pyplot as plt\n",
    "import pandas as pd"
   ]
  },
  {
   "cell_type": "markdown",
   "id": "ba036198",
   "metadata": {
    "papermill": {
     "duration": 0.027522,
     "end_time": "2021-10-11T00:21:04.534830",
     "exception": false,
     "start_time": "2021-10-11T00:21:04.507308",
     "status": "completed"
    },
    "tags": []
   },
   "source": [
    "From the command line run `pip install mnist`. This is a library that will help you bring down the mnist dataset. If you run this from a notebook, you need to put  `!pip install mnist` in a cell by itself."
   ]
  },
  {
   "cell_type": "code",
   "execution_count": 3,
   "id": "bb6ad8a1",
   "metadata": {
    "execution": {
     "iopub.execute_input": "2021-10-11T00:21:04.594564Z",
     "iopub.status.busy": "2021-10-11T00:21:04.593949Z",
     "iopub.status.idle": "2021-10-11T00:21:06.415557Z",
     "shell.execute_reply": "2021-10-11T00:21:06.416172Z"
    },
    "papermill": {
     "duration": 1.854602,
     "end_time": "2021-10-11T00:21:06.416341",
     "exception": false,
     "start_time": "2021-10-11T00:21:04.561739",
     "status": "completed"
    },
    "tags": []
   },
   "outputs": [
    {
     "name": "stdout",
     "output_type": "stream",
     "text": [
      "Collecting mnist\r\n"
     ]
    },
    {
     "name": "stdout",
     "output_type": "stream",
     "text": [
      "  Downloading mnist-0.2.2-py2.py3-none-any.whl (3.5 kB)\r\n",
      "Requirement already satisfied: numpy in /opt/hostedtoolcache/Python/3.6.15/x64/lib/python3.6/site-packages (from mnist) (1.19.5)\r\n"
     ]
    },
    {
     "name": "stdout",
     "output_type": "stream",
     "text": [
      "Installing collected packages: mnist\r\n"
     ]
    },
    {
     "name": "stdout",
     "output_type": "stream",
     "text": [
      "Successfully installed mnist-0.2.2\r\n"
     ]
    }
   ],
   "source": [
    "!pip install mnist"
   ]
  },
  {
   "cell_type": "markdown",
   "id": "69df9c9a",
   "metadata": {
    "papermill": {
     "duration": 0.028354,
     "end_time": "2021-10-11T00:21:06.473042",
     "exception": false,
     "start_time": "2021-10-11T00:21:06.444688",
     "status": "completed"
    },
    "tags": []
   },
   "source": [
    "## Preparing the Data"
   ]
  },
  {
   "cell_type": "code",
   "execution_count": 4,
   "id": "7f69d806",
   "metadata": {
    "execution": {
     "iopub.execute_input": "2021-10-11T00:21:06.535681Z",
     "iopub.status.busy": "2021-10-11T00:21:06.533161Z",
     "iopub.status.idle": "2021-10-11T00:21:06.550211Z",
     "shell.execute_reply": "2021-10-11T00:21:06.549720Z"
    },
    "papermill": {
     "duration": 0.049601,
     "end_time": "2021-10-11T00:21:06.550343",
     "exception": false,
     "start_time": "2021-10-11T00:21:06.500742",
     "status": "completed"
    },
    "tags": []
   },
   "outputs": [],
   "source": [
    "import mnist"
   ]
  },
  {
   "cell_type": "code",
   "execution_count": 5,
   "id": "a411e44f",
   "metadata": {
    "execution": {
     "iopub.execute_input": "2021-10-11T00:21:06.611929Z",
     "iopub.status.busy": "2021-10-11T00:21:06.611290Z",
     "iopub.status.idle": "2021-10-11T00:21:07.169227Z",
     "shell.execute_reply": "2021-10-11T00:21:07.169844Z"
    },
    "papermill": {
     "duration": 0.591116,
     "end_time": "2021-10-11T00:21:07.170014",
     "exception": false,
     "start_time": "2021-10-11T00:21:06.578898",
     "status": "completed"
    },
    "tags": []
   },
   "outputs": [],
   "source": [
    "train_images = mnist.train_images()\n",
    "train_labels = mnist.train_labels()"
   ]
  },
  {
   "cell_type": "code",
   "execution_count": 6,
   "id": "dceab3a5",
   "metadata": {
    "execution": {
     "iopub.execute_input": "2021-10-11T00:21:07.245148Z",
     "iopub.status.busy": "2021-10-11T00:21:07.240320Z",
     "iopub.status.idle": "2021-10-11T00:21:07.255710Z",
     "shell.execute_reply": "2021-10-11T00:21:07.254414Z"
    },
    "papermill": {
     "duration": 0.055164,
     "end_time": "2021-10-11T00:21:07.255873",
     "exception": false,
     "start_time": "2021-10-11T00:21:07.200709",
     "status": "completed"
    },
    "tags": []
   },
   "outputs": [
    {
     "data": {
      "text/plain": [
       "((60000, 28, 28), (60000,))"
      ]
     },
     "execution_count": 6,
     "metadata": {},
     "output_type": "execute_result"
    }
   ],
   "source": [
    "train_images.shape, train_labels.shape"
   ]
  },
  {
   "cell_type": "code",
   "execution_count": 7,
   "id": "f50dc2bb",
   "metadata": {
    "execution": {
     "iopub.execute_input": "2021-10-11T00:21:07.322497Z",
     "iopub.status.busy": "2021-10-11T00:21:07.316272Z",
     "iopub.status.idle": "2021-10-11T00:21:07.455642Z",
     "shell.execute_reply": "2021-10-11T00:21:07.455101Z"
    },
    "papermill": {
     "duration": 0.17143,
     "end_time": "2021-10-11T00:21:07.455786",
     "exception": false,
     "start_time": "2021-10-11T00:21:07.284356",
     "status": "completed"
    },
    "tags": []
   },
   "outputs": [],
   "source": [
    "test_images = mnist.test_images()\n",
    "test_labels = mnist.test_labels()"
   ]
  },
  {
   "cell_type": "code",
   "execution_count": 8,
   "id": "fc38cf1b",
   "metadata": {
    "execution": {
     "iopub.execute_input": "2021-10-11T00:21:07.517169Z",
     "iopub.status.busy": "2021-10-11T00:21:07.516575Z",
     "iopub.status.idle": "2021-10-11T00:21:07.531137Z",
     "shell.execute_reply": "2021-10-11T00:21:07.530690Z"
    },
    "papermill": {
     "duration": 0.046801,
     "end_time": "2021-10-11T00:21:07.531259",
     "exception": false,
     "start_time": "2021-10-11T00:21:07.484458",
     "status": "completed"
    },
    "tags": []
   },
   "outputs": [
    {
     "data": {
      "text/plain": [
       "((10000, 28, 28), (10000,))"
      ]
     },
     "execution_count": 8,
     "metadata": {},
     "output_type": "execute_result"
    }
   ],
   "source": [
    "test_images.shape, test_labels.shape"
   ]
  },
  {
   "cell_type": "code",
   "execution_count": 9,
   "id": "f9ed8fe0",
   "metadata": {
    "execution": {
     "iopub.execute_input": "2021-10-11T00:21:07.596949Z",
     "iopub.status.busy": "2021-10-11T00:21:07.596352Z",
     "iopub.status.idle": "2021-10-11T00:21:07.756679Z",
     "shell.execute_reply": "2021-10-11T00:21:07.756146Z"
    },
    "papermill": {
     "duration": 0.197076,
     "end_time": "2021-10-11T00:21:07.756811",
     "exception": false,
     "start_time": "2021-10-11T00:21:07.559735",
     "status": "completed"
    },
    "tags": []
   },
   "outputs": [
    {
     "name": "stdout",
     "output_type": "stream",
     "text": [
      "2\n"
     ]
    },
    {
     "data": {
      "text/plain": [
       "<matplotlib.image.AxesImage at 0x7f42a32c1860>"
      ]
     },
     "execution_count": 9,
     "metadata": {},
     "output_type": "execute_result"
    },
    {
     "data": {
      "image/png": "[encoded data removed]",
      "text/plain": [
       "<Figure size 432x288 with 1 Axes>"
      ]
     },
     "metadata": {
      "needs_background": "light"
     },
     "output_type": "display_data"
    }
   ],
   "source": [
    "image_index = 7776 # You may select anything up to 60,000\n",
    "print(train_labels[image_index]) \n",
    "plt.imshow(train_images[image_index], cmap='Greys')"
   ]
  },
  {
   "cell_type": "markdown",
   "id": "a8d2388d",
   "metadata": {
    "papermill": {
     "duration": 0.03013,
     "end_time": "2021-10-11T00:21:07.817140",
     "exception": false,
     "start_time": "2021-10-11T00:21:07.787010",
     "status": "completed"
    },
    "tags": []
   },
   "source": [
    "## Filter data to get 3 and 8 out"
   ]
  },
  {
   "cell_type": "code",
   "execution_count": 10,
   "id": "776f7fc7",
   "metadata": {
    "execution": {
     "iopub.execute_input": "2021-10-11T00:21:07.883654Z",
     "iopub.status.busy": "2021-10-11T00:21:07.883026Z",
     "iopub.status.idle": "2021-10-11T00:21:07.902806Z",
     "shell.execute_reply": "2021-10-11T00:21:07.903288Z"
    },
    "papermill": {
     "duration": 0.056013,
     "end_time": "2021-10-11T00:21:07.903440",
     "exception": false,
     "start_time": "2021-10-11T00:21:07.847427",
     "status": "completed"
    },
    "tags": []
   },
   "outputs": [],
   "source": [
    "train_filter = np.where((train_labels == 3 ) | (train_labels == 8))\n",
    "test_filter = np.where((test_labels == 3) | (test_labels == 8))\n",
    "X_train, y_train = train_images[train_filter], train_labels[train_filter]\n",
    "X_test, y_test = test_images[test_filter], test_labels[test_filter]"
   ]
  },
  {
   "cell_type": "markdown",
   "id": "948f0b7e",
   "metadata": {
    "papermill": {
     "duration": 0.029667,
     "end_time": "2021-10-11T00:21:07.963173",
     "exception": false,
     "start_time": "2021-10-11T00:21:07.933506",
     "status": "completed"
    },
    "tags": []
   },
   "source": [
    "We normalize the pizel values in the 0 to 1 range"
   ]
  },
  {
   "cell_type": "code",
   "execution_count": 11,
   "id": "ee4c2166",
   "metadata": {
    "execution": {
     "iopub.execute_input": "2021-10-11T00:21:08.027542Z",
     "iopub.status.busy": "2021-10-11T00:21:08.026936Z",
     "iopub.status.idle": "2021-10-11T00:21:08.081830Z",
     "shell.execute_reply": "2021-10-11T00:21:08.081268Z"
    },
    "papermill": {
     "duration": 0.088801,
     "end_time": "2021-10-11T00:21:08.081971",
     "exception": false,
     "start_time": "2021-10-11T00:21:07.993170",
     "status": "completed"
    },
    "tags": []
   },
   "outputs": [],
   "source": [
    "X_train = X_train/255.\n",
    "X_test = X_test/255."
   ]
  },
  {
   "cell_type": "markdown",
   "id": "ddcf4fab",
   "metadata": {
    "papermill": {
     "duration": 0.029912,
     "end_time": "2021-10-11T00:21:08.142183",
     "exception": false,
     "start_time": "2021-10-11T00:21:08.112271",
     "status": "completed"
    },
    "tags": []
   },
   "source": [
    "And setup the labels as 1 (when the digit is 3) and 0 (when the digit is 8)"
   ]
  },
  {
   "cell_type": "code",
   "execution_count": 12,
   "id": "7dc908f2",
   "metadata": {
    "execution": {
     "iopub.execute_input": "2021-10-11T00:21:08.206156Z",
     "iopub.status.busy": "2021-10-11T00:21:08.205549Z",
     "iopub.status.idle": "2021-10-11T00:21:08.218958Z",
     "shell.execute_reply": "2021-10-11T00:21:08.219466Z"
    },
    "papermill": {
     "duration": 0.047486,
     "end_time": "2021-10-11T00:21:08.219612",
     "exception": false,
     "start_time": "2021-10-11T00:21:08.172126",
     "status": "completed"
    },
    "tags": []
   },
   "outputs": [],
   "source": [
    "y_train = 1*(y_train==3)\n",
    "y_test = 1*(y_test==3)"
   ]
  },
  {
   "cell_type": "code",
   "execution_count": 13,
   "id": "01e4e969",
   "metadata": {
    "execution": {
     "iopub.execute_input": "2021-10-11T00:21:08.283998Z",
     "iopub.status.busy": "2021-10-11T00:21:08.283376Z",
     "iopub.status.idle": "2021-10-11T00:21:08.300954Z",
     "shell.execute_reply": "2021-10-11T00:21:08.300477Z"
    },
    "papermill": {
     "duration": 0.051586,
     "end_time": "2021-10-11T00:21:08.301083",
     "exception": false,
     "start_time": "2021-10-11T00:21:08.249497",
     "status": "completed"
    },
    "tags": []
   },
   "outputs": [
    {
     "data": {
      "text/plain": [
       "((11982, 28, 28), (1984, 28, 28))"
      ]
     },
     "execution_count": 13,
     "metadata": {},
     "output_type": "execute_result"
    }
   ],
   "source": [
    "X_train.shape, X_test.shape"
   ]
  },
  {
   "cell_type": "markdown",
   "id": "5ccf3f85",
   "metadata": {
    "papermill": {
     "duration": 0.029899,
     "end_time": "2021-10-11T00:21:08.361244",
     "exception": false,
     "start_time": "2021-10-11T00:21:08.331345",
     "status": "completed"
    },
    "tags": []
   },
   "source": [
    "We reshape the data to flatten the image pixels into a set of features or co-variates:"
   ]
  },
  {
   "cell_type": "code",
   "execution_count": 14,
   "id": "5286a4a3",
   "metadata": {
    "execution": {
     "iopub.execute_input": "2021-10-11T00:21:08.426790Z",
     "iopub.status.busy": "2021-10-11T00:21:08.426182Z",
     "iopub.status.idle": "2021-10-11T00:21:08.443325Z",
     "shell.execute_reply": "2021-10-11T00:21:08.442537Z"
    },
    "papermill": {
     "duration": 0.051894,
     "end_time": "2021-10-11T00:21:08.443456",
     "exception": false,
     "start_time": "2021-10-11T00:21:08.391562",
     "status": "completed"
    },
    "tags": []
   },
   "outputs": [
    {
     "data": {
      "text/plain": [
       "((11982, 784), (1984, 784))"
      ]
     },
     "execution_count": 14,
     "metadata": {},
     "output_type": "execute_result"
    }
   ],
   "source": [
    "X_train = X_train.reshape(X_train.shape[0], -1)\n",
    "X_test = X_test.reshape(X_test.shape[0], -1)\n",
    "X_train.shape, X_test.shape"
   ]
  },
  {
   "cell_type": "code",
   "execution_count": 15,
   "id": "73c5f88a",
   "metadata": {
    "execution": {
     "iopub.execute_input": "2021-10-11T00:21:08.510122Z",
     "iopub.status.busy": "2021-10-11T00:21:08.509004Z",
     "iopub.status.idle": "2021-10-11T00:21:08.531807Z",
     "shell.execute_reply": "2021-10-11T00:21:08.531302Z"
    },
    "papermill": {
     "duration": 0.057784,
     "end_time": "2021-10-11T00:21:08.531961",
     "exception": false,
     "start_time": "2021-10-11T00:21:08.474177",
     "status": "completed"
    },
    "tags": []
   },
   "outputs": [],
   "source": [
    "#Impoting functions from 'Kudzu'\n",
    "from kudzu.model import Model\n",
    "from kudzu.train import Learner\n",
    "from kudzu.optim import GD\n",
    "from kudzu.data import Data, Sampler,Dataloader\n",
    "\n",
    "from kudzu.callbacks import AccCallback\n",
    "from kudzu.callbacks import ClfCallback\n",
    "\n",
    "from kudzu.loss import MSE\n",
    "\n",
    "from kudzu.layer import Sigmoid,Relu\n",
    "from kudzu.layer import Affine"
   ]
  },
  {
   "cell_type": "markdown",
   "id": "bc01172a",
   "metadata": {
    "papermill": {
     "duration": 0.030398,
     "end_time": "2021-10-11T00:21:08.593021",
     "exception": false,
     "start_time": "2021-10-11T00:21:08.562623",
     "status": "completed"
    },
    "tags": []
   },
   "source": [
    "### Let us create a `Config` class, to store important parameters. \n",
    "This class essentially plays the role of a dictionary."
   ]
  },
  {
   "cell_type": "code",
   "execution_count": 16,
   "id": "978281aa",
   "metadata": {
    "execution": {
     "iopub.execute_input": "2021-10-11T00:21:08.661555Z",
     "iopub.status.busy": "2021-10-11T00:21:08.660950Z",
     "iopub.status.idle": "2021-10-11T00:21:08.674138Z",
     "shell.execute_reply": "2021-10-11T00:21:08.673657Z"
    },
    "papermill": {
     "duration": 0.050826,
     "end_time": "2021-10-11T00:21:08.674267",
     "exception": false,
     "start_time": "2021-10-11T00:21:08.623441",
     "status": "completed"
    },
    "tags": []
   },
   "outputs": [],
   "source": [
    "class Config:\n",
    "    pass\n",
    "config = Config()\n",
    "config.lr = 0.001\n",
    "config.num_epochs = 250\n",
    "config.bs = 50"
   ]
  },
  {
   "cell_type": "markdown",
   "id": "1385fa59",
   "metadata": {
    "papermill": {
     "duration": 0.031028,
     "end_time": "2021-10-11T00:21:08.736183",
     "exception": false,
     "start_time": "2021-10-11T00:21:08.705155",
     "status": "completed"
    },
    "tags": []
   },
   "source": [
    "### Running Models with the Training data\n",
    "Details about the network layers:\n",
    "- A first affine layer has 784 inputs and does 100 affine transforms. These are followed by a Relu\n",
    "- A second affine layer has 100 inputs from the 100 activations of the past layer, and does 100 affine transforms. These are followed by a Relu\n",
    "- A third affine layer has 100 activations and does 2 affine transformations to create an embedding for visualization. There is no non-linearity here.\n",
    "- A final \"logistic regression\" which has an affine transform from 2 inputs to 1 output, which is squeezed through a sigmoid.\n"
   ]
  },
  {
   "cell_type": "code",
   "execution_count": 17,
   "id": "2b9c66db",
   "metadata": {
    "execution": {
     "iopub.execute_input": "2021-10-11T00:21:08.805660Z",
     "iopub.status.busy": "2021-10-11T00:21:08.805049Z",
     "iopub.status.idle": "2021-10-11T00:21:08.819049Z",
     "shell.execute_reply": "2021-10-11T00:21:08.818540Z"
    },
    "papermill": {
     "duration": 0.052312,
     "end_time": "2021-10-11T00:21:08.819175",
     "exception": false,
     "start_time": "2021-10-11T00:21:08.766863",
     "status": "completed"
    },
    "tags": []
   },
   "outputs": [],
   "source": [
    "data = Data(X_train, y_train.reshape(-1,1))\n",
    "sampler = Sampler(data, config.bs, shuffle=True)\n",
    "\n",
    "dl = Dataloader(data, sampler)\n",
    "\n",
    "opt = GD(config.lr)\n",
    "loss = MSE()"
   ]
  },
  {
   "cell_type": "code",
   "execution_count": 18,
   "id": "b275e4c2",
   "metadata": {
    "execution": {
     "iopub.execute_input": "2021-10-11T00:21:08.884203Z",
     "iopub.status.busy": "2021-10-11T00:21:08.883566Z",
     "iopub.status.idle": "2021-10-11T00:21:08.897334Z",
     "shell.execute_reply": "2021-10-11T00:21:08.896843Z"
    },
    "papermill": {
     "duration": 0.047615,
     "end_time": "2021-10-11T00:21:08.897462",
     "exception": false,
     "start_time": "2021-10-11T00:21:08.849847",
     "status": "completed"
    },
    "tags": []
   },
   "outputs": [],
   "source": [
    "training_data_x = X_train\n",
    "testing_data_x = X_test\n",
    "training_data_y = y_train.reshape(-1,1)\n",
    "testing_data_y = y_test.reshape(-1,1)"
   ]
  },
  {
   "cell_type": "code",
   "execution_count": 19,
   "id": "76951160",
   "metadata": {
    "execution": {
     "iopub.execute_input": "2021-10-11T00:21:08.963213Z",
     "iopub.status.busy": "2021-10-11T00:21:08.962599Z",
     "iopub.status.idle": "2021-10-11T00:21:08.981011Z",
     "shell.execute_reply": "2021-10-11T00:21:08.980567Z"
    },
    "papermill": {
     "duration": 0.053157,
     "end_time": "2021-10-11T00:21:08.981130",
     "exception": false,
     "start_time": "2021-10-11T00:21:08.927973",
     "status": "completed"
    },
    "tags": []
   },
   "outputs": [
    {
     "name": "stdout",
     "output_type": "stream",
     "text": [
      "xavier\n",
      "xavier\n",
      "xavier\n",
      "xavier\n",
      "xavier\n"
     ]
    }
   ],
   "source": [
    "layers = [Affine(\"first\", 784, 100), Relu(\"first\"), Affine(\"second\", 100, 100), Relu(\"second\"), Affine(\"third\", 100, 2), Affine(\"last\", 2, 1), Sigmoid(\"last\")]\n",
    "model_nn = Model(layers)\n",
    "model_lr = Model([Affine(\"logits\", 784, 1), Sigmoid(\"sigmoid\")])"
   ]
  },
  {
   "cell_type": "code",
   "execution_count": 20,
   "id": "6eede77a",
   "metadata": {
    "execution": {
     "iopub.execute_input": "2021-10-11T00:21:09.049087Z",
     "iopub.status.busy": "2021-10-11T00:21:09.048493Z",
     "iopub.status.idle": "2021-10-11T00:21:09.062176Z",
     "shell.execute_reply": "2021-10-11T00:21:09.061699Z"
    },
    "papermill": {
     "duration": 0.05028,
     "end_time": "2021-10-11T00:21:09.062301",
     "exception": false,
     "start_time": "2021-10-11T00:21:09.012021",
     "status": "completed"
    },
    "tags": []
   },
   "outputs": [],
   "source": [
    "nn_learner = Learner(loss, model_nn, opt, config.num_epochs)\n",
    "acc_nn = ClfCallback(nn_learner, config.bs, training_data_x , testing_data_x, training_data_y, testing_data_y)\n",
    "nn_learner.set_callbacks([acc_nn])"
   ]
  },
  {
   "cell_type": "code",
   "execution_count": 21,
   "id": "877b6cc7",
   "metadata": {
    "execution": {
     "iopub.execute_input": "2021-10-11T00:21:09.129392Z",
     "iopub.status.busy": "2021-10-11T00:21:09.128802Z",
     "iopub.status.idle": "2021-10-11T00:21:09.142439Z",
     "shell.execute_reply": "2021-10-11T00:21:09.141905Z"
    },
    "papermill": {
     "duration": 0.049468,
     "end_time": "2021-10-11T00:21:09.142559",
     "exception": false,
     "start_time": "2021-10-11T00:21:09.093091",
     "status": "completed"
    },
    "tags": []
   },
   "outputs": [],
   "source": [
    "lr_learner = Learner(loss, model_lr, opt, config.num_epochs)\n",
    "acc_lr = ClfCallback(lr_learner, config.bs, training_data_x , testing_data_x, training_data_y, testing_data_y)\n",
    "lr_learner.set_callbacks([acc_lr])"
   ]
  },
  {
   "cell_type": "code",
   "execution_count": 22,
   "id": "d9b133c3",
   "metadata": {
    "execution": {
     "iopub.execute_input": "2021-10-11T00:21:09.210064Z",
     "iopub.status.busy": "2021-10-11T00:21:09.209481Z",
     "iopub.status.idle": "2021-10-11T00:22:41.951304Z",
     "shell.execute_reply": "2021-10-11T00:22:41.952219Z"
    },
    "papermill": {
     "duration": 92.778888,
     "end_time": "2021-10-11T00:22:41.952390",
     "exception": false,
     "start_time": "2021-10-11T00:21:09.173502",
     "status": "completed"
    },
    "tags": []
   },
   "outputs": [
    {
     "name": "stdout",
     "output_type": "stream",
     "text": [
      "Epoch 0, Loss 0.2514\n",
      "Training Accuracy: 0.6368, Testing Accuracy: 0.6689\n",
      "\n"
     ]
    },
    {
     "name": "stdout",
     "output_type": "stream",
     "text": [
      "Epoch 10, Loss 0.0844\n",
      "Training Accuracy: 0.9195, Testing Accuracy: 0.9269\n",
      "\n"
     ]
    },
    {
     "name": "stdout",
     "output_type": "stream",
     "text": [
      "Epoch 20, Loss 0.0541\n",
      "Training Accuracy: 0.9414, Testing Accuracy: 0.9506\n",
      "\n"
     ]
    },
    {
     "name": "stdout",
     "output_type": "stream",
     "text": [
      "Epoch 30, Loss 0.0432\n",
      "Training Accuracy: 0.9512, Testing Accuracy: 0.9602\n",
      "\n"
     ]
    },
    {
     "name": "stdout",
     "output_type": "stream",
     "text": [
      "Epoch 40, Loss 0.0376\n",
      "Training Accuracy: 0.9574, Testing Accuracy: 0.9637\n",
      "\n"
     ]
    },
    {
     "name": "stdout",
     "output_type": "stream",
     "text": [
      "Epoch 50, Loss 0.0342\n",
      "Training Accuracy: 0.9609, Testing Accuracy: 0.9657\n",
      "\n"
     ]
    },
    {
     "name": "stdout",
     "output_type": "stream",
     "text": [
      "Epoch 60, Loss 0.0318\n",
      "Training Accuracy: 0.9627, Testing Accuracy: 0.9662\n",
      "\n"
     ]
    },
    {
     "name": "stdout",
     "output_type": "stream",
     "text": [
      "Epoch 70, Loss 0.03\n",
      "Training Accuracy: 0.9645, Testing Accuracy: 0.9688\n",
      "\n"
     ]
    },
    {
     "name": "stdout",
     "output_type": "stream",
     "text": [
      "Epoch 80, Loss 0.0286\n",
      "Training Accuracy: 0.9666, Testing Accuracy: 0.9698\n",
      "\n"
     ]
    },
    {
     "name": "stdout",
     "output_type": "stream",
     "text": [
      "Epoch 90, Loss 0.0275\n",
      "Training Accuracy: 0.9681, Testing Accuracy: 0.9708\n",
      "\n"
     ]
    },
    {
     "name": "stdout",
     "output_type": "stream",
     "text": [
      "Epoch 100, Loss 0.0265\n",
      "Training Accuracy: 0.9691, Testing Accuracy: 0.9718\n",
      "\n"
     ]
    },
    {
     "name": "stdout",
     "output_type": "stream",
     "text": [
      "Epoch 110, Loss 0.0256\n",
      "Training Accuracy: 0.9698, Testing Accuracy: 0.9723\n",
      "\n"
     ]
    },
    {
     "name": "stdout",
     "output_type": "stream",
     "text": [
      "Epoch 120, Loss 0.0249\n",
      "Training Accuracy: 0.9710, Testing Accuracy: 0.9718\n",
      "\n"
     ]
    },
    {
     "name": "stdout",
     "output_type": "stream",
     "text": [
      "Epoch 130, Loss 0.0242\n",
      "Training Accuracy: 0.9718, Testing Accuracy: 0.9723\n",
      "\n"
     ]
    },
    {
     "name": "stdout",
     "output_type": "stream",
     "text": [
      "Epoch 140, Loss 0.0236\n",
      "Training Accuracy: 0.9722, Testing Accuracy: 0.9723\n",
      "\n"
     ]
    },
    {
     "name": "stdout",
     "output_type": "stream",
     "text": [
      "Epoch 150, Loss 0.023\n",
      "Training Accuracy: 0.9730, Testing Accuracy: 0.9718\n",
      "\n"
     ]
    },
    {
     "name": "stdout",
     "output_type": "stream",
     "text": [
      "Epoch 160, Loss 0.0225\n",
      "Training Accuracy: 0.9735, Testing Accuracy: 0.9728\n",
      "\n"
     ]
    },
    {
     "name": "stdout",
     "output_type": "stream",
     "text": [
      "Epoch 170, Loss 0.022\n",
      "Training Accuracy: 0.9742, Testing Accuracy: 0.9738\n",
      "\n"
     ]
    },
    {
     "name": "stdout",
     "output_type": "stream",
     "text": [
      "Epoch 180, Loss 0.0215\n",
      "Training Accuracy: 0.9751, Testing Accuracy: 0.9738\n",
      "\n"
     ]
    },
    {
     "name": "stdout",
     "output_type": "stream",
     "text": [
      "Epoch 190, Loss 0.0211\n",
      "Training Accuracy: 0.9761, Testing Accuracy: 0.9738\n",
      "\n"
     ]
    },
    {
     "name": "stdout",
     "output_type": "stream",
     "text": [
      "Epoch 200, Loss 0.0207\n",
      "Training Accuracy: 0.9764, Testing Accuracy: 0.9733\n",
      "\n"
     ]
    },
    {
     "name": "stdout",
     "output_type": "stream",
     "text": [
      "Epoch 210, Loss 0.0203\n",
      "Training Accuracy: 0.9767, Testing Accuracy: 0.9733\n",
      "\n"
     ]
    },
    {
     "name": "stdout",
     "output_type": "stream",
     "text": [
      "Epoch 220, Loss 0.0199\n",
      "Training Accuracy: 0.9770, Testing Accuracy: 0.9733\n",
      "\n"
     ]
    },
    {
     "name": "stdout",
     "output_type": "stream",
     "text": [
      "Epoch 230, Loss 0.0195\n",
      "Training Accuracy: 0.9770, Testing Accuracy: 0.9733\n",
      "\n"
     ]
    },
    {
     "name": "stdout",
     "output_type": "stream",
     "text": [
      "Epoch 240, Loss 0.0192\n",
      "Training Accuracy: 0.9779, Testing Accuracy: 0.9733\n",
      "\n"
     ]
    },
    {
     "data": {
      "text/plain": [
       "0.013138229474027702"
      ]
     },
     "execution_count": 22,
     "metadata": {},
     "output_type": "execute_result"
    }
   ],
   "source": [
    "nn_learner.train_loop(dl)"
   ]
  },
  {
   "cell_type": "code",
   "execution_count": 23,
   "id": "e0163366",
   "metadata": {
    "execution": {
     "iopub.execute_input": "2021-10-11T00:22:42.045466Z",
     "iopub.status.busy": "2021-10-11T00:22:42.044841Z",
     "iopub.status.idle": "2021-10-11T00:22:58.555718Z",
     "shell.execute_reply": "2021-10-11T00:22:58.556604Z"
    },
    "papermill": {
     "duration": 16.5647,
     "end_time": "2021-10-11T00:22:58.556771",
     "exception": false,
     "start_time": "2021-10-11T00:22:41.992071",
     "status": "completed"
    },
    "tags": []
   },
   "outputs": [
    {
     "name": "stdout",
     "output_type": "stream",
     "text": [
      "Epoch 0, Loss 0.2563\n",
      "Training Accuracy: 0.6365, Testing Accuracy: 0.6285\n",
      "\n"
     ]
    },
    {
     "name": "stdout",
     "output_type": "stream",
     "text": [
      "Epoch 10, Loss 0.1037\n",
      "Training Accuracy: 0.9131, Testing Accuracy: 0.9194\n",
      "\n"
     ]
    },
    {
     "name": "stdout",
     "output_type": "stream",
     "text": [
      "Epoch 20, Loss 0.0793\n",
      "Training Accuracy: 0.9316, Testing Accuracy: 0.9345\n",
      "\n"
     ]
    },
    {
     "name": "stdout",
     "output_type": "stream",
     "text": [
      "Epoch 30, Loss 0.0683\n",
      "Training Accuracy: 0.9387, Testing Accuracy: 0.9441\n",
      "\n"
     ]
    },
    {
     "name": "stdout",
     "output_type": "stream",
     "text": [
      "Epoch 40, Loss 0.0617\n",
      "Training Accuracy: 0.9431, Testing Accuracy: 0.9491\n",
      "\n"
     ]
    },
    {
     "name": "stdout",
     "output_type": "stream",
     "text": [
      "Epoch 50, Loss 0.0572\n",
      "Training Accuracy: 0.9458, Testing Accuracy: 0.9511\n",
      "\n"
     ]
    },
    {
     "name": "stdout",
     "output_type": "stream",
     "text": [
      "Epoch 60, Loss 0.0539\n",
      "Training Accuracy: 0.9473, Testing Accuracy: 0.9531\n",
      "\n"
     ]
    },
    {
     "name": "stdout",
     "output_type": "stream",
     "text": [
      "Epoch 70, Loss 0.0513\n",
      "Training Accuracy: 0.9496, Testing Accuracy: 0.9561\n",
      "\n"
     ]
    },
    {
     "name": "stdout",
     "output_type": "stream",
     "text": [
      "Epoch 80, Loss 0.0493\n",
      "Training Accuracy: 0.9505, Testing Accuracy: 0.9587\n",
      "\n"
     ]
    },
    {
     "name": "stdout",
     "output_type": "stream",
     "text": [
      "Epoch 90, Loss 0.0476\n",
      "Training Accuracy: 0.9514, Testing Accuracy: 0.9582\n",
      "\n"
     ]
    },
    {
     "name": "stdout",
     "output_type": "stream",
     "text": [
      "Epoch 100, Loss 0.0462\n",
      "Training Accuracy: 0.9526, Testing Accuracy: 0.9597\n",
      "\n"
     ]
    },
    {
     "name": "stdout",
     "output_type": "stream",
     "text": [
      "Epoch 110, Loss 0.045\n",
      "Training Accuracy: 0.9539, Testing Accuracy: 0.9607\n",
      "\n"
     ]
    },
    {
     "name": "stdout",
     "output_type": "stream",
     "text": [
      "Epoch 120, Loss 0.0439\n",
      "Training Accuracy: 0.9547, Testing Accuracy: 0.9607\n",
      "\n"
     ]
    },
    {
     "name": "stdout",
     "output_type": "stream",
     "text": [
      "Epoch 130, Loss 0.043\n",
      "Training Accuracy: 0.9556, Testing Accuracy: 0.9622\n",
      "\n"
     ]
    },
    {
     "name": "stdout",
     "output_type": "stream",
     "text": [
      "Epoch 140, Loss 0.0421\n",
      "Training Accuracy: 0.9557, Testing Accuracy: 0.9627\n",
      "\n"
     ]
    },
    {
     "name": "stdout",
     "output_type": "stream",
     "text": [
      "Epoch 150, Loss 0.0414\n",
      "Training Accuracy: 0.9561, Testing Accuracy: 0.9627\n",
      "\n"
     ]
    },
    {
     "name": "stdout",
     "output_type": "stream",
     "text": [
      "Epoch 160, Loss 0.0407\n",
      "Training Accuracy: 0.9565, Testing Accuracy: 0.9622\n",
      "\n"
     ]
    },
    {
     "name": "stdout",
     "output_type": "stream",
     "text": [
      "Epoch 170, Loss 0.0401\n",
      "Training Accuracy: 0.9573, Testing Accuracy: 0.9627\n",
      "\n"
     ]
    },
    {
     "name": "stdout",
     "output_type": "stream",
     "text": [
      "Epoch 180, Loss 0.0396\n",
      "Training Accuracy: 0.9579, Testing Accuracy: 0.9632\n",
      "\n"
     ]
    },
    {
     "name": "stdout",
     "output_type": "stream",
     "text": [
      "Epoch 190, Loss 0.0391\n",
      "Training Accuracy: 0.9582, Testing Accuracy: 0.9632\n",
      "\n"
     ]
    },
    {
     "name": "stdout",
     "output_type": "stream",
     "text": [
      "Epoch 200, Loss 0.0386\n",
      "Training Accuracy: 0.9584, Testing Accuracy: 0.9632\n",
      "\n"
     ]
    },
    {
     "name": "stdout",
     "output_type": "stream",
     "text": [
      "Epoch 210, Loss 0.0381\n",
      "Training Accuracy: 0.9588, Testing Accuracy: 0.9637\n",
      "\n"
     ]
    },
    {
     "name": "stdout",
     "output_type": "stream",
     "text": [
      "Epoch 220, Loss 0.0377\n",
      "Training Accuracy: 0.9590, Testing Accuracy: 0.9637\n",
      "\n"
     ]
    },
    {
     "name": "stdout",
     "output_type": "stream",
     "text": [
      "Epoch 230, Loss 0.0373\n",
      "Training Accuracy: 0.9598, Testing Accuracy: 0.9647\n",
      "\n"
     ]
    },
    {
     "name": "stdout",
     "output_type": "stream",
     "text": [
      "Epoch 240, Loss 0.037\n",
      "Training Accuracy: 0.9603, Testing Accuracy: 0.9652\n",
      "\n"
     ]
    },
    {
     "data": {
      "text/plain": [
       "0.028487196154218422"
      ]
     },
     "execution_count": 23,
     "metadata": {},
     "output_type": "execute_result"
    }
   ],
   "source": [
    "lr_learner.train_loop(dl)"
   ]
  },
  {
   "cell_type": "code",
   "execution_count": 24,
   "id": "ca410940",
   "metadata": {
    "execution": {
     "iopub.execute_input": "2021-10-11T00:22:58.661396Z",
     "iopub.status.busy": "2021-10-11T00:22:58.660781Z",
     "iopub.status.idle": "2021-10-11T00:22:58.928503Z",
     "shell.execute_reply": "2021-10-11T00:22:58.927993Z"
    },
    "papermill": {
     "duration": 0.32493,
     "end_time": "2021-10-11T00:22:58.928643",
     "exception": false,
     "start_time": "2021-10-11T00:22:58.603713",
     "status": "completed"
    },
    "tags": []
   },
   "outputs": [
    {
     "data": {
      "text/plain": [
       "<matplotlib.legend.Legend at 0x7f42a2e248d0>"
      ]
     },
     "execution_count": 24,
     "metadata": {},
     "output_type": "execute_result"
    },
    {
     "data": {
      "image/png": "[encoded data removed]",
      "text/plain": [
       "<Figure size 1080x720 with 1 Axes>"
      ]
     },
     "metadata": {
      "needs_background": "light"
     },
     "output_type": "display_data"
    }
   ],
   "source": [
    "#comparing the results of NN and LR\n",
    "plt.figure(figsize=(15,10))\n",
    "\n",
    "# Neural Network plots\n",
    "plt.plot(acc_nn.accuracies, 'r-', label = \"Training Accuracies - NN\")\n",
    "plt.plot(acc_nn.test_accuracies, 'g-', label = \"Testing Accuracies - NN\")\n",
    "\n",
    "# Logistic Regression plots\n",
    "plt.plot(acc_lr.accuracies, 'k-', label = \"Training Accuracies - LR\")\n",
    "plt.plot(acc_lr.test_accuracies, 'b-', label = \"Testing Accuracies - LR\")\n",
    "plt.legend()"
   ]
  },
  {
   "cell_type": "markdown",
   "id": "80dfb35c",
   "metadata": {
    "papermill": {
     "duration": 0.047925,
     "end_time": "2021-10-11T00:22:59.025401",
     "exception": false,
     "start_time": "2021-10-11T00:22:58.977476",
     "status": "completed"
    },
    "tags": []
   },
   "source": [
    "#### Plotting the outputs of this layer of the NN.\n"
   ]
  },
  {
   "cell_type": "code",
   "execution_count": 25,
   "id": "45eb2ff5",
   "metadata": {
    "execution": {
     "iopub.execute_input": "2021-10-11T00:22:59.127992Z",
     "iopub.status.busy": "2021-10-11T00:22:59.127324Z",
     "iopub.status.idle": "2021-10-11T00:22:59.152101Z",
     "shell.execute_reply": "2021-10-11T00:22:59.151529Z"
    },
    "papermill": {
     "duration": 0.078752,
     "end_time": "2021-10-11T00:22:59.152241",
     "exception": false,
     "start_time": "2021-10-11T00:22:59.073489",
     "status": "completed"
    },
    "tags": []
   },
   "outputs": [],
   "source": [
    "new_model = Model(layers[:-2])\n",
    "testing_plot = new_model(testing_data_x)"
   ]
  },
  {
   "cell_type": "code",
   "execution_count": 26,
   "id": "4c0a5485",
   "metadata": {
    "execution": {
     "iopub.execute_input": "2021-10-11T00:22:59.269361Z",
     "iopub.status.busy": "2021-10-11T00:22:59.268743Z",
     "iopub.status.idle": "2021-10-11T00:22:59.492075Z",
     "shell.execute_reply": "2021-10-11T00:22:59.491515Z"
    },
    "papermill": {
     "duration": 0.282527,
     "end_time": "2021-10-11T00:22:59.492218",
     "exception": false,
     "start_time": "2021-10-11T00:22:59.209691",
     "status": "completed"
    },
    "tags": []
   },
   "outputs": [
    {
     "data": {
      "text/plain": [
       "Text(0.5, 1.0, 'Outputs')"
      ]
     },
     "execution_count": 26,
     "metadata": {},
     "output_type": "execute_result"
    },
    {
     "data": {
      "image/png": "[encoded data removed]",
      "text/plain": [
       "<Figure size 576x504 with 1 Axes>"
      ]
     },
     "metadata": {
      "needs_background": "light"
     },
     "output_type": "display_data"
    }
   ],
   "source": [
    "# Plotting the scatter plot of points and color coding by class\n",
    "plt.figure(figsize=(8,7))\n",
    "plt.scatter(testing_plot[:,0], testing_plot[:,1], alpha = 0.1, c = y_test.ravel());\n",
    "plt.title('Outputs')"
   ]
  },
  {
   "cell_type": "markdown",
   "id": "a74fcf8f",
   "metadata": {
    "papermill": {
     "duration": 0.050977,
     "end_time": "2021-10-11T00:22:59.594030",
     "exception": false,
     "start_time": "2021-10-11T00:22:59.543053",
     "status": "completed"
    },
    "tags": []
   },
   "source": [
    "Probability contours"
   ]
  },
  {
   "cell_type": "code",
   "execution_count": 27,
   "id": "d0afc8e3",
   "metadata": {
    "execution": {
     "iopub.execute_input": "2021-10-11T00:22:59.699485Z",
     "iopub.status.busy": "2021-10-11T00:22:59.698457Z",
     "iopub.status.idle": "2021-10-11T00:22:59.713933Z",
     "shell.execute_reply": "2021-10-11T00:22:59.713419Z"
    },
    "papermill": {
     "duration": 0.069727,
     "end_time": "2021-10-11T00:22:59.714061",
     "exception": false,
     "start_time": "2021-10-11T00:22:59.644334",
     "status": "completed"
    },
    "tags": []
   },
   "outputs": [],
   "source": [
    "model_prob = Model(layers[-2:]) "
   ]
  },
  {
   "cell_type": "code",
   "execution_count": 28,
   "id": "9b96e238",
   "metadata": {
    "execution": {
     "iopub.execute_input": "2021-10-11T00:22:59.852046Z",
     "iopub.status.busy": "2021-10-11T00:22:59.851403Z",
     "iopub.status.idle": "2021-10-11T00:22:59.868830Z",
     "shell.execute_reply": "2021-10-11T00:22:59.869294Z"
    },
    "papermill": {
     "duration": 0.075694,
     "end_time": "2021-10-11T00:22:59.869445",
     "exception": false,
     "start_time": "2021-10-11T00:22:59.793751",
     "status": "completed"
    },
    "tags": []
   },
   "outputs": [],
   "source": [
    "#creating the x and y ranges according to the above generated plot.\n",
    "x_range = np.linspace(-4, 1, 100) \n",
    "y_range = np.linspace(-6, 6, 100) \n",
    "x_grid, y_grid = np.meshgrid(x_range, y_range) # x_grid and y_grig are of size 100 X 100\n",
    "\n",
    "# converting x_grid and y_grid to continuous arrays\n",
    "x_gridflat = np.ravel(x_grid)\n",
    "y_gridflat = np.ravel(y_grid)\n",
    "\n",
    "# The last layer of the current model takes two columns as input. Hence transpose of np.vstack() is required.\n",
    "X = np.vstack((x_gridflat, y_gridflat)).T\n",
    "\n",
    "prob_contour = model_prob(X).reshape(100,100) "
   ]
  },
  {
   "cell_type": "code",
   "execution_count": 29,
   "id": "da72499a",
   "metadata": {
    "execution": {
     "iopub.execute_input": "2021-10-11T00:22:59.989269Z",
     "iopub.status.busy": "2021-10-11T00:22:59.988669Z",
     "iopub.status.idle": "2021-10-11T00:23:00.274576Z",
     "shell.execute_reply": "2021-10-11T00:23:00.274093Z"
    },
    "papermill": {
     "duration": 0.349897,
     "end_time": "2021-10-11T00:23:00.274707",
     "exception": false,
     "start_time": "2021-10-11T00:22:59.924810",
     "status": "completed"
    },
    "tags": []
   },
   "outputs": [
    {
     "data": {
      "image/png": "[encoded data removed]",
      "text/plain": [
       "<Figure size 720x648 with 1 Axes>"
      ]
     },
     "metadata": {
      "needs_background": "light"
     },
     "output_type": "display_data"
    }
   ],
   "source": [
    "plt.figure(figsize=(10,9))\n",
    "plt.scatter(testing_plot[:,0], testing_plot[:,1], alpha = 0.1, c = y_test.ravel())\n",
    "contours = plt.contour(x_grid,y_grid,prob_contour)\n",
    "plt.title('Probability Contours')\n",
    "plt.clabel(contours, inline = True );"
   ]
  },
  {
   "cell_type": "code",
   "execution_count": null,
   "id": "e81b4ac7",
   "metadata": {
    "papermill": {
     "duration": 0.053489,
     "end_time": "2021-10-11T00:23:00.381989",
     "exception": false,
     "start_time": "2021-10-11T00:23:00.328500",
     "status": "completed"
    },
    "tags": []
   },
   "outputs": [],
   "source": []
  }
 ],
 "metadata": {
  "kernelspec": {
   "display_name": "Python 3",
   "language": "python",
   "name": "python3"
  },
  "language_info": {
   "codemirror_mode": {
    "name": "ipython",
    "version": 3
   },
   "file_extension": ".py",
   "mimetype": "text/x-python",
   "name": "python",
   "nbconvert_exporter": "python",
   "pygments_lexer": "ipython3",
   "version": "3.6.15"
  },
  "papermill": {
   "default_parameters": {},
   "duration": 118.274955,
   "end_time": "2021-10-11T00:23:00.847792",
   "environment_variables": {},
   "exception": null,
   "input_path": "2020-08-11-part2.ipynb",
   "output_path": "2020-08-11-part2.ipynb",
   "parameters": {},
   "start_time": "2021-10-11T00:21:02.572837",
   "version": "2.3.3"
  }
 },
 "nbformat": 4,
 "nbformat_minor": 5
}