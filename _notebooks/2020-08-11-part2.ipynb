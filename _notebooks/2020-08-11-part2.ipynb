{
 "cells": [
  {
   "cell_type": "markdown",
   "id": "98380cd3",
   "metadata": {
    "papermill": {
     "duration": 0.027968,
     "end_time": "2021-08-29T20:06:09.987288",
     "exception": false,
     "start_time": "2021-08-29T20:06:09.959320",
     "status": "completed"
    },
    "tags": []
   },
   "source": [
    "# Distinguish Your Own Digits (DYOD)"
   ]
  },
  {
   "cell_type": "markdown",
   "id": "ef31240d",
   "metadata": {
    "papermill": {
     "duration": 0.023431,
     "end_time": "2021-08-29T20:06:10.034797",
     "exception": false,
     "start_time": "2021-08-29T20:06:10.011366",
     "status": "completed"
    },
    "tags": []
   },
   "source": [
    "You are going to write a classifier that distinguishes between the number 3 and number 8."
   ]
  },
  {
   "cell_type": "code",
   "execution_count": 1,
   "id": "b15c8646",
   "metadata": {
    "execution": {
     "iopub.execute_input": "2021-08-29T20:06:10.092492Z",
     "iopub.status.busy": "2021-08-29T20:06:10.091982Z",
     "iopub.status.idle": "2021-08-29T20:06:10.101884Z",
     "shell.execute_reply": "2021-08-29T20:06:10.101430Z"
    },
    "papermill": {
     "duration": 0.043916,
     "end_time": "2021-08-29T20:06:10.102002",
     "exception": false,
     "start_time": "2021-08-29T20:06:10.058086",
     "status": "completed"
    },
    "tags": []
   },
   "outputs": [],
   "source": [
    "%load_ext autoreload\n",
    "%autoreload 2"
   ]
  },
  {
   "cell_type": "code",
   "execution_count": 2,
   "id": "22ef38dc",
   "metadata": {
    "execution": {
     "iopub.execute_input": "2021-08-29T20:06:10.161928Z",
     "iopub.status.busy": "2021-08-29T20:06:10.161406Z",
     "iopub.status.idle": "2021-08-29T20:06:10.654527Z",
     "shell.execute_reply": "2021-08-29T20:06:10.653992Z"
    },
    "papermill": {
     "duration": 0.529146,
     "end_time": "2021-08-29T20:06:10.654669",
     "exception": false,
     "start_time": "2021-08-29T20:06:10.125523",
     "status": "completed"
    },
    "tags": []
   },
   "outputs": [],
   "source": [
    "%matplotlib inline\n",
    "import numpy as np\n",
    "import matplotlib.pyplot as plt\n",
    "import pandas as pd"
   ]
  },
  {
   "cell_type": "markdown",
   "id": "ba036198",
   "metadata": {
    "papermill": {
     "duration": 0.024454,
     "end_time": "2021-08-29T20:06:10.702941",
     "exception": false,
     "start_time": "2021-08-29T20:06:10.678487",
     "status": "completed"
    },
    "tags": []
   },
   "source": [
    "From the command line run `pip install mnist`. This is a library that will help you bring down the mnist dataset. If you run this from a notebook, you need to put  `!pip install mnist` in a cell by itself."
   ]
  },
  {
   "cell_type": "code",
   "execution_count": 3,
   "id": "bb6ad8a1",
   "metadata": {
    "execution": {
     "iopub.execute_input": "2021-08-29T20:06:10.764398Z",
     "iopub.status.busy": "2021-08-29T20:06:10.763890Z",
     "iopub.status.idle": "2021-08-29T20:06:12.367945Z",
     "shell.execute_reply": "2021-08-29T20:06:12.367461Z"
    },
    "papermill": {
     "duration": 1.641659,
     "end_time": "2021-08-29T20:06:12.368069",
     "exception": false,
     "start_time": "2021-08-29T20:06:10.726410",
     "status": "completed"
    },
    "tags": []
   },
   "outputs": [
    {
     "name": "stdout",
     "output_type": "stream",
     "text": [
      "Collecting mnist\r\n"
     ]
    },
    {
     "name": "stdout",
     "output_type": "stream",
     "text": [
      "  Downloading mnist-0.2.2-py2.py3-none-any.whl (3.5 kB)\r\n",
      "Requirement already satisfied: numpy in /opt/hostedtoolcache/Python/3.6.14/x64/lib/python3.6/site-packages (from mnist) (1.19.5)\r\n"
     ]
    },
    {
     "name": "stdout",
     "output_type": "stream",
     "text": [
      "Installing collected packages: mnist\r\n"
     ]
    },
    {
     "name": "stdout",
     "output_type": "stream",
     "text": [
      "Successfully installed mnist-0.2.2\r\n"
     ]
    }
   ],
   "source": [
    "!pip install mnist"
   ]
  },
  {
   "cell_type": "markdown",
   "id": "69df9c9a",
   "metadata": {
    "papermill": {
     "duration": 0.024743,
     "end_time": "2021-08-29T20:06:12.417840",
     "exception": false,
     "start_time": "2021-08-29T20:06:12.393097",
     "status": "completed"
    },
    "tags": []
   },
   "source": [
    "## Preparing the Data"
   ]
  },
  {
   "cell_type": "code",
   "execution_count": 4,
   "id": "7f69d806",
   "metadata": {
    "execution": {
     "iopub.execute_input": "2021-08-29T20:06:12.470628Z",
     "iopub.status.busy": "2021-08-29T20:06:12.470111Z",
     "iopub.status.idle": "2021-08-29T20:06:12.485015Z",
     "shell.execute_reply": "2021-08-29T20:06:12.484611Z"
    },
    "papermill": {
     "duration": 0.042717,
     "end_time": "2021-08-29T20:06:12.485120",
     "exception": false,
     "start_time": "2021-08-29T20:06:12.442403",
     "status": "completed"
    },
    "tags": []
   },
   "outputs": [],
   "source": [
    "import mnist"
   ]
  },
  {
   "cell_type": "code",
   "execution_count": 5,
   "id": "a411e44f",
   "metadata": {
    "execution": {
     "iopub.execute_input": "2021-08-29T20:06:12.539459Z",
     "iopub.status.busy": "2021-08-29T20:06:12.538963Z",
     "iopub.status.idle": "2021-08-29T20:06:13.060728Z",
     "shell.execute_reply": "2021-08-29T20:06:13.060180Z"
    },
    "papermill": {
     "duration": 0.551084,
     "end_time": "2021-08-29T20:06:13.060876",
     "exception": false,
     "start_time": "2021-08-29T20:06:12.509792",
     "status": "completed"
    },
    "tags": []
   },
   "outputs": [],
   "source": [
    "train_images = mnist.train_images()\n",
    "train_labels = mnist.train_labels()"
   ]
  },
  {
   "cell_type": "code",
   "execution_count": 6,
   "id": "dceab3a5",
   "metadata": {
    "execution": {
     "iopub.execute_input": "2021-08-29T20:06:13.115988Z",
     "iopub.status.busy": "2021-08-29T20:06:13.115439Z",
     "iopub.status.idle": "2021-08-29T20:06:13.128811Z",
     "shell.execute_reply": "2021-08-29T20:06:13.128392Z"
    },
    "papermill": {
     "duration": 0.042136,
     "end_time": "2021-08-29T20:06:13.128913",
     "exception": false,
     "start_time": "2021-08-29T20:06:13.086777",
     "status": "completed"
    },
    "tags": []
   },
   "outputs": [
    {
     "data": {
      "text/plain": [
       "((60000, 28, 28), (60000,))"
      ]
     },
     "execution_count": 6,
     "metadata": {},
     "output_type": "execute_result"
    }
   ],
   "source": [
    "train_images.shape, train_labels.shape"
   ]
  },
  {
   "cell_type": "code",
   "execution_count": 7,
   "id": "f50dc2bb",
   "metadata": {
    "execution": {
     "iopub.execute_input": "2021-08-29T20:06:13.181756Z",
     "iopub.status.busy": "2021-08-29T20:06:13.181238Z",
     "iopub.status.idle": "2021-08-29T20:06:13.325131Z",
     "shell.execute_reply": "2021-08-29T20:06:13.324591Z"
    },
    "papermill": {
     "duration": 0.171526,
     "end_time": "2021-08-29T20:06:13.325263",
     "exception": false,
     "start_time": "2021-08-29T20:06:13.153737",
     "status": "completed"
    },
    "tags": []
   },
   "outputs": [],
   "source": [
    "test_images = mnist.test_images()\n",
    "test_labels = mnist.test_labels()"
   ]
  },
  {
   "cell_type": "code",
   "execution_count": 8,
   "id": "fc38cf1b",
   "metadata": {
    "execution": {
     "iopub.execute_input": "2021-08-29T20:06:13.387121Z",
     "iopub.status.busy": "2021-08-29T20:06:13.386358Z",
     "iopub.status.idle": "2021-08-29T20:06:13.394412Z",
     "shell.execute_reply": "2021-08-29T20:06:13.393986Z"
    },
    "papermill": {
     "duration": 0.043472,
     "end_time": "2021-08-29T20:06:13.394519",
     "exception": false,
     "start_time": "2021-08-29T20:06:13.351047",
     "status": "completed"
    },
    "tags": []
   },
   "outputs": [
    {
     "data": {
      "text/plain": [
       "((10000, 28, 28), (10000,))"
      ]
     },
     "execution_count": 8,
     "metadata": {},
     "output_type": "execute_result"
    }
   ],
   "source": [
    "test_images.shape, test_labels.shape"
   ]
  },
  {
   "cell_type": "code",
   "execution_count": 9,
   "id": "f9ed8fe0",
   "metadata": {
    "execution": {
     "iopub.execute_input": "2021-08-29T20:06:13.452619Z",
     "iopub.status.busy": "2021-08-29T20:06:13.452117Z",
     "iopub.status.idle": "2021-08-29T20:06:13.585286Z",
     "shell.execute_reply": "2021-08-29T20:06:13.585790Z"
    },
    "papermill": {
     "duration": 0.166397,
     "end_time": "2021-08-29T20:06:13.585938",
     "exception": false,
     "start_time": "2021-08-29T20:06:13.419541",
     "status": "completed"
    },
    "tags": []
   },
   "outputs": [
    {
     "name": "stdout",
     "output_type": "stream",
     "text": [
      "2\n"
     ]
    },
    {
     "data": {
      "text/plain": [
       "<matplotlib.image.AxesImage at 0x7fd13dc70ac8>"
      ]
     },
     "execution_count": 9,
     "metadata": {},
     "output_type": "execute_result"
    },
    {
     "data": {
      "image/png": "[encoded data removed]",
      "text/plain": [
       "<Figure size 432x288 with 1 Axes>"
      ]
     },
     "metadata": {
      "needs_background": "light"
     },
     "output_type": "display_data"
    }
   ],
   "source": [
    "image_index = 7776 # You may select anything up to 60,000\n",
    "print(train_labels[image_index]) \n",
    "plt.imshow(train_images[image_index], cmap='Greys')"
   ]
  },
  {
   "cell_type": "markdown",
   "id": "a8d2388d",
   "metadata": {
    "papermill": {
     "duration": 0.026139,
     "end_time": "2021-08-29T20:06:13.639040",
     "exception": false,
     "start_time": "2021-08-29T20:06:13.612901",
     "status": "completed"
    },
    "tags": []
   },
   "source": [
    "## Filter data to get 3 and 8 out"
   ]
  },
  {
   "cell_type": "code",
   "execution_count": 10,
   "id": "776f7fc7",
   "metadata": {
    "execution": {
     "iopub.execute_input": "2021-08-29T20:06:13.709218Z",
     "iopub.status.busy": "2021-08-29T20:06:13.708708Z",
     "iopub.status.idle": "2021-08-29T20:06:13.716834Z",
     "shell.execute_reply": "2021-08-29T20:06:13.716411Z"
    },
    "papermill": {
     "duration": 0.051817,
     "end_time": "2021-08-29T20:06:13.716937",
     "exception": false,
     "start_time": "2021-08-29T20:06:13.665120",
     "status": "completed"
    },
    "tags": []
   },
   "outputs": [],
   "source": [
    "train_filter = np.where((train_labels == 3 ) | (train_labels == 8))\n",
    "test_filter = np.where((test_labels == 3) | (test_labels == 8))\n",
    "X_train, y_train = train_images[train_filter], train_labels[train_filter]\n",
    "X_test, y_test = test_images[test_filter], test_labels[test_filter]"
   ]
  },
  {
   "cell_type": "markdown",
   "id": "948f0b7e",
   "metadata": {
    "papermill": {
     "duration": 0.02601,
     "end_time": "2021-08-29T20:06:13.769033",
     "exception": false,
     "start_time": "2021-08-29T20:06:13.743023",
     "status": "completed"
    },
    "tags": []
   },
   "source": [
    "We normalize the pizel values in the 0 to 1 range"
   ]
  },
  {
   "cell_type": "code",
   "execution_count": 11,
   "id": "ee4c2166",
   "metadata": {
    "execution": {
     "iopub.execute_input": "2021-08-29T20:06:13.824076Z",
     "iopub.status.busy": "2021-08-29T20:06:13.823578Z",
     "iopub.status.idle": "2021-08-29T20:06:13.871658Z",
     "shell.execute_reply": "2021-08-29T20:06:13.871136Z"
    },
    "papermill": {
     "duration": 0.076807,
     "end_time": "2021-08-29T20:06:13.871805",
     "exception": false,
     "start_time": "2021-08-29T20:06:13.794998",
     "status": "completed"
    },
    "tags": []
   },
   "outputs": [],
   "source": [
    "X_train = X_train/255.\n",
    "X_test = X_test/255."
   ]
  },
  {
   "cell_type": "markdown",
   "id": "ddcf4fab",
   "metadata": {
    "papermill": {
     "duration": 0.026304,
     "end_time": "2021-08-29T20:06:13.925054",
     "exception": false,
     "start_time": "2021-08-29T20:06:13.898750",
     "status": "completed"
    },
    "tags": []
   },
   "source": [
    "And setup the labels as 1 (when the digit is 3) and 0 (when the digit is 8)"
   ]
  },
  {
   "cell_type": "code",
   "execution_count": 12,
   "id": "7dc908f2",
   "metadata": {
    "execution": {
     "iopub.execute_input": "2021-08-29T20:06:13.984126Z",
     "iopub.status.busy": "2021-08-29T20:06:13.983612Z",
     "iopub.status.idle": "2021-08-29T20:06:13.994523Z",
     "shell.execute_reply": "2021-08-29T20:06:13.994115Z"
    },
    "papermill": {
     "duration": 0.043412,
     "end_time": "2021-08-29T20:06:13.994631",
     "exception": false,
     "start_time": "2021-08-29T20:06:13.951219",
     "status": "completed"
    },
    "tags": []
   },
   "outputs": [],
   "source": [
    "y_train = 1*(y_train==3)\n",
    "y_test = 1*(y_test==3)"
   ]
  },
  {
   "cell_type": "code",
   "execution_count": 13,
   "id": "01e4e969",
   "metadata": {
    "execution": {
     "iopub.execute_input": "2021-08-29T20:06:14.049533Z",
     "iopub.status.busy": "2021-08-29T20:06:14.049041Z",
     "iopub.status.idle": "2021-08-29T20:06:14.061753Z",
     "shell.execute_reply": "2021-08-29T20:06:14.062143Z"
    },
    "papermill": {
     "duration": 0.041522,
     "end_time": "2021-08-29T20:06:14.062257",
     "exception": false,
     "start_time": "2021-08-29T20:06:14.020735",
     "status": "completed"
    },
    "tags": []
   },
   "outputs": [
    {
     "data": {
      "text/plain": [
       "((11982, 28, 28), (1984, 28, 28))"
      ]
     },
     "execution_count": 13,
     "metadata": {},
     "output_type": "execute_result"
    }
   ],
   "source": [
    "X_train.shape, X_test.shape"
   ]
  },
  {
   "cell_type": "markdown",
   "id": "5ccf3f85",
   "metadata": {
    "papermill": {
     "duration": 0.026297,
     "end_time": "2021-08-29T20:06:14.114783",
     "exception": false,
     "start_time": "2021-08-29T20:06:14.088486",
     "status": "completed"
    },
    "tags": []
   },
   "source": [
    "We reshape the data to flatten the image pixels into a set of features or co-variates:"
   ]
  },
  {
   "cell_type": "code",
   "execution_count": 14,
   "id": "5286a4a3",
   "metadata": {
    "execution": {
     "iopub.execute_input": "2021-08-29T20:06:14.171956Z",
     "iopub.status.busy": "2021-08-29T20:06:14.171452Z",
     "iopub.status.idle": "2021-08-29T20:06:14.183718Z",
     "shell.execute_reply": "2021-08-29T20:06:14.183316Z"
    },
    "papermill": {
     "duration": 0.042755,
     "end_time": "2021-08-29T20:06:14.183822",
     "exception": false,
     "start_time": "2021-08-29T20:06:14.141067",
     "status": "completed"
    },
    "tags": []
   },
   "outputs": [
    {
     "data": {
      "text/plain": [
       "((11982, 784), (1984, 784))"
      ]
     },
     "execution_count": 14,
     "metadata": {},
     "output_type": "execute_result"
    }
   ],
   "source": [
    "X_train = X_train.reshape(X_train.shape[0], -1)\n",
    "X_test = X_test.reshape(X_test.shape[0], -1)\n",
    "X_train.shape, X_test.shape"
   ]
  },
  {
   "cell_type": "code",
   "execution_count": 15,
   "id": "73c5f88a",
   "metadata": {
    "execution": {
     "iopub.execute_input": "2021-08-29T20:06:14.250368Z",
     "iopub.status.busy": "2021-08-29T20:06:14.246272Z",
     "iopub.status.idle": "2021-08-29T20:06:14.260837Z",
     "shell.execute_reply": "2021-08-29T20:06:14.261269Z"
    },
    "papermill": {
     "duration": 0.050479,
     "end_time": "2021-08-29T20:06:14.261396",
     "exception": false,
     "start_time": "2021-08-29T20:06:14.210917",
     "status": "completed"
    },
    "tags": []
   },
   "outputs": [],
   "source": [
    "#Impoting functions from 'Kudzu'\n",
    "from kudzu.model import Model\n",
    "from kudzu.train import Learner\n",
    "from kudzu.optim import GD\n",
    "from kudzu.data import Data, Sampler,Dataloader\n",
    "\n",
    "from kudzu.callbacks import AccCallback\n",
    "from kudzu.callbacks import ClfCallback\n",
    "\n",
    "from kudzu.loss import MSE\n",
    "\n",
    "from kudzu.layer import Sigmoid,Relu\n",
    "from kudzu.layer import Affine"
   ]
  },
  {
   "cell_type": "markdown",
   "id": "bc01172a",
   "metadata": {
    "papermill": {
     "duration": 0.026504,
     "end_time": "2021-08-29T20:06:14.315683",
     "exception": false,
     "start_time": "2021-08-29T20:06:14.289179",
     "status": "completed"
    },
    "tags": []
   },
   "source": [
    "### Let us create a `Config` class, to store important parameters. \n",
    "This class essentially plays the role of a dictionary."
   ]
  },
  {
   "cell_type": "code",
   "execution_count": 16,
   "id": "978281aa",
   "metadata": {
    "execution": {
     "iopub.execute_input": "2021-08-29T20:06:14.371669Z",
     "iopub.status.busy": "2021-08-29T20:06:14.371161Z",
     "iopub.status.idle": "2021-08-29T20:06:14.381977Z",
     "shell.execute_reply": "2021-08-29T20:06:14.381556Z"
    },
    "papermill": {
     "duration": 0.039974,
     "end_time": "2021-08-29T20:06:14.382080",
     "exception": false,
     "start_time": "2021-08-29T20:06:14.342106",
     "status": "completed"
    },
    "tags": []
   },
   "outputs": [],
   "source": [
    "class Config:\n",
    "    pass\n",
    "config = Config()\n",
    "config.lr = 0.001\n",
    "config.num_epochs = 250\n",
    "config.bs = 50"
   ]
  },
  {
   "cell_type": "markdown",
   "id": "1385fa59",
   "metadata": {
    "papermill": {
     "duration": 0.026558,
     "end_time": "2021-08-29T20:06:14.435244",
     "exception": false,
     "start_time": "2021-08-29T20:06:14.408686",
     "status": "completed"
    },
    "tags": []
   },
   "source": [
    "### Running Models with the Training data\n",
    "Details about the network layers:\n",
    "- A first affine layer has 784 inputs and does 100 affine transforms. These are followed by a Relu\n",
    "- A second affine layer has 100 inputs from the 100 activations of the past layer, and does 100 affine transforms. These are followed by a Relu\n",
    "- A third affine layer has 100 activations and does 2 affine transformations to create an embedding for visualization. There is no non-linearity here.\n",
    "- A final \"logistic regression\" which has an affine transform from 2 inputs to 1 output, which is squeezed through a sigmoid.\n"
   ]
  },
  {
   "cell_type": "code",
   "execution_count": 17,
   "id": "2b9c66db",
   "metadata": {
    "execution": {
     "iopub.execute_input": "2021-08-29T20:06:14.492346Z",
     "iopub.status.busy": "2021-08-29T20:06:14.491837Z",
     "iopub.status.idle": "2021-08-29T20:06:14.503605Z",
     "shell.execute_reply": "2021-08-29T20:06:14.503204Z"
    },
    "papermill": {
     "duration": 0.041867,
     "end_time": "2021-08-29T20:06:14.503710",
     "exception": false,
     "start_time": "2021-08-29T20:06:14.461843",
     "status": "completed"
    },
    "tags": []
   },
   "outputs": [],
   "source": [
    "data = Data(X_train, y_train.reshape(-1,1))\n",
    "sampler = Sampler(data, config.bs, shuffle=True)\n",
    "\n",
    "dl = Dataloader(data, sampler)\n",
    "\n",
    "opt = GD(config.lr)\n",
    "loss = MSE()"
   ]
  },
  {
   "cell_type": "code",
   "execution_count": 18,
   "id": "b275e4c2",
   "metadata": {
    "execution": {
     "iopub.execute_input": "2021-08-29T20:06:14.571882Z",
     "iopub.status.busy": "2021-08-29T20:06:14.566311Z",
     "iopub.status.idle": "2021-08-29T20:06:14.574028Z",
     "shell.execute_reply": "2021-08-29T20:06:14.573571Z"
    },
    "papermill": {
     "duration": 0.043796,
     "end_time": "2021-08-29T20:06:14.574135",
     "exception": false,
     "start_time": "2021-08-29T20:06:14.530339",
     "status": "completed"
    },
    "tags": []
   },
   "outputs": [],
   "source": [
    "training_data_x = X_train\n",
    "testing_data_x = X_test\n",
    "training_data_y = y_train.reshape(-1,1)\n",
    "testing_data_y = y_test.reshape(-1,1)"
   ]
  },
  {
   "cell_type": "code",
   "execution_count": 19,
   "id": "76951160",
   "metadata": {
    "execution": {
     "iopub.execute_input": "2021-08-29T20:06:14.630943Z",
     "iopub.status.busy": "2021-08-29T20:06:14.630434Z",
     "iopub.status.idle": "2021-08-29T20:06:14.644782Z",
     "shell.execute_reply": "2021-08-29T20:06:14.645164Z"
    },
    "papermill": {
     "duration": 0.044636,
     "end_time": "2021-08-29T20:06:14.645282",
     "exception": false,
     "start_time": "2021-08-29T20:06:14.600646",
     "status": "completed"
    },
    "tags": []
   },
   "outputs": [
    {
     "name": "stdout",
     "output_type": "stream",
     "text": [
      "xavier\n",
      "xavier\n",
      "xavier\n",
      "xavier\n",
      "xavier\n"
     ]
    }
   ],
   "source": [
    "layers = [Affine(\"first\", 784, 100), Relu(\"first\"), Affine(\"second\", 100, 100), Relu(\"second\"), Affine(\"third\", 100, 2), Affine(\"last\", 2, 1), Sigmoid(\"last\")]\n",
    "model_nn = Model(layers)\n",
    "model_lr = Model([Affine(\"logits\", 784, 1), Sigmoid(\"sigmoid\")])"
   ]
  },
  {
   "cell_type": "code",
   "execution_count": 20,
   "id": "6eede77a",
   "metadata": {
    "execution": {
     "iopub.execute_input": "2021-08-29T20:06:14.714103Z",
     "iopub.status.busy": "2021-08-29T20:06:14.709875Z",
     "iopub.status.idle": "2021-08-29T20:06:14.716211Z",
     "shell.execute_reply": "2021-08-29T20:06:14.715790Z"
    },
    "papermill": {
     "duration": 0.044122,
     "end_time": "2021-08-29T20:06:14.716310",
     "exception": false,
     "start_time": "2021-08-29T20:06:14.672188",
     "status": "completed"
    },
    "tags": []
   },
   "outputs": [],
   "source": [
    "nn_learner = Learner(loss, model_nn, opt, config.num_epochs)\n",
    "acc_nn = ClfCallback(nn_learner, config.bs, training_data_x , testing_data_x, training_data_y, testing_data_y)\n",
    "nn_learner.set_callbacks([acc_nn])"
   ]
  },
  {
   "cell_type": "code",
   "execution_count": 21,
   "id": "877b6cc7",
   "metadata": {
    "execution": {
     "iopub.execute_input": "2021-08-29T20:06:14.778360Z",
     "iopub.status.busy": "2021-08-29T20:06:14.776271Z",
     "iopub.status.idle": "2021-08-29T20:06:14.784851Z",
     "shell.execute_reply": "2021-08-29T20:06:14.785231Z"
    },
    "papermill": {
     "duration": 0.042235,
     "end_time": "2021-08-29T20:06:14.785342",
     "exception": false,
     "start_time": "2021-08-29T20:06:14.743107",
     "status": "completed"
    },
    "tags": []
   },
   "outputs": [],
   "source": [
    "lr_learner = Learner(loss, model_lr, opt, config.num_epochs)\n",
    "acc_lr = ClfCallback(lr_learner, config.bs, training_data_x , testing_data_x, training_data_y, testing_data_y)\n",
    "lr_learner.set_callbacks([acc_lr])"
   ]
  },
  {
   "cell_type": "code",
   "execution_count": 22,
   "id": "d9b133c3",
   "metadata": {
    "execution": {
     "iopub.execute_input": "2021-08-29T20:06:14.842265Z",
     "iopub.status.busy": "2021-08-29T20:06:14.841717Z",
     "iopub.status.idle": "2021-08-29T20:07:29.435890Z",
     "shell.execute_reply": "2021-08-29T20:07:29.436617Z"
    },
    "papermill": {
     "duration": 74.624528,
     "end_time": "2021-08-29T20:07:29.436771",
     "exception": false,
     "start_time": "2021-08-29T20:06:14.812243",
     "status": "completed"
    },
    "tags": []
   },
   "outputs": [
    {
     "name": "stdout",
     "output_type": "stream",
     "text": [
      "Epoch 0, Loss 0.2551\n",
      "Training Accuracy: 0.6240, Testing Accuracy: 0.6265\n",
      "\n"
     ]
    },
    {
     "name": "stdout",
     "output_type": "stream",
     "text": [
      "Epoch 10, Loss 0.0805\n",
      "Training Accuracy: 0.9218, Testing Accuracy: 0.9315\n",
      "\n"
     ]
    },
    {
     "name": "stdout",
     "output_type": "stream",
     "text": [
      "Epoch 20, Loss 0.0519\n",
      "Training Accuracy: 0.9446, Testing Accuracy: 0.9531\n",
      "\n"
     ]
    },
    {
     "name": "stdout",
     "output_type": "stream",
     "text": [
      "Epoch 30, Loss 0.0417\n",
      "Training Accuracy: 0.9528, Testing Accuracy: 0.9577\n",
      "\n"
     ]
    },
    {
     "name": "stdout",
     "output_type": "stream",
     "text": [
      "Epoch 40, Loss 0.0365\n",
      "Training Accuracy: 0.9582, Testing Accuracy: 0.9632\n",
      "\n"
     ]
    },
    {
     "name": "stdout",
     "output_type": "stream",
     "text": [
      "Epoch 50, Loss 0.0333\n",
      "Training Accuracy: 0.9615, Testing Accuracy: 0.9667\n",
      "\n"
     ]
    },
    {
     "name": "stdout",
     "output_type": "stream",
     "text": [
      "Epoch 60, Loss 0.031\n",
      "Training Accuracy: 0.9630, Testing Accuracy: 0.9688\n",
      "\n"
     ]
    },
    {
     "name": "stdout",
     "output_type": "stream",
     "text": [
      "Epoch 70, Loss 0.0292\n",
      "Training Accuracy: 0.9651, Testing Accuracy: 0.9682\n",
      "\n"
     ]
    },
    {
     "name": "stdout",
     "output_type": "stream",
     "text": [
      "Epoch 80, Loss 0.0278\n",
      "Training Accuracy: 0.9669, Testing Accuracy: 0.9693\n",
      "\n"
     ]
    },
    {
     "name": "stdout",
     "output_type": "stream",
     "text": [
      "Epoch 90, Loss 0.0267\n",
      "Training Accuracy: 0.9693, Testing Accuracy: 0.9698\n",
      "\n"
     ]
    },
    {
     "name": "stdout",
     "output_type": "stream",
     "text": [
      "Epoch 100, Loss 0.0256\n",
      "Training Accuracy: 0.9705, Testing Accuracy: 0.9698\n",
      "\n"
     ]
    },
    {
     "name": "stdout",
     "output_type": "stream",
     "text": [
      "Epoch 110, Loss 0.0248\n",
      "Training Accuracy: 0.9715, Testing Accuracy: 0.9703\n",
      "\n"
     ]
    },
    {
     "name": "stdout",
     "output_type": "stream",
     "text": [
      "Epoch 120, Loss 0.024\n",
      "Training Accuracy: 0.9725, Testing Accuracy: 0.9703\n",
      "\n"
     ]
    },
    {
     "name": "stdout",
     "output_type": "stream",
     "text": [
      "Epoch 130, Loss 0.0233\n",
      "Training Accuracy: 0.9734, Testing Accuracy: 0.9703\n",
      "\n"
     ]
    },
    {
     "name": "stdout",
     "output_type": "stream",
     "text": [
      "Epoch 140, Loss 0.0227\n",
      "Training Accuracy: 0.9740, Testing Accuracy: 0.9708\n",
      "\n"
     ]
    },
    {
     "name": "stdout",
     "output_type": "stream",
     "text": [
      "Epoch 150, Loss 0.0221\n",
      "Training Accuracy: 0.9749, Testing Accuracy: 0.9713\n",
      "\n"
     ]
    },
    {
     "name": "stdout",
     "output_type": "stream",
     "text": [
      "Epoch 160, Loss 0.0216\n",
      "Training Accuracy: 0.9756, Testing Accuracy: 0.9713\n",
      "\n"
     ]
    },
    {
     "name": "stdout",
     "output_type": "stream",
     "text": [
      "Epoch 170, Loss 0.021\n",
      "Training Accuracy: 0.9766, Testing Accuracy: 0.9718\n",
      "\n"
     ]
    },
    {
     "name": "stdout",
     "output_type": "stream",
     "text": [
      "Epoch 180, Loss 0.0206\n",
      "Training Accuracy: 0.9774, Testing Accuracy: 0.9718\n",
      "\n"
     ]
    },
    {
     "name": "stdout",
     "output_type": "stream",
     "text": [
      "Epoch 190, Loss 0.0201\n",
      "Training Accuracy: 0.9781, Testing Accuracy: 0.9728\n",
      "\n"
     ]
    },
    {
     "name": "stdout",
     "output_type": "stream",
     "text": [
      "Epoch 200, Loss 0.0197\n",
      "Training Accuracy: 0.9786, Testing Accuracy: 0.9738\n",
      "\n"
     ]
    },
    {
     "name": "stdout",
     "output_type": "stream",
     "text": [
      "Epoch 210, Loss 0.0193\n",
      "Training Accuracy: 0.9790, Testing Accuracy: 0.9733\n",
      "\n"
     ]
    },
    {
     "name": "stdout",
     "output_type": "stream",
     "text": [
      "Epoch 220, Loss 0.0189\n",
      "Training Accuracy: 0.9796, Testing Accuracy: 0.9743\n",
      "\n"
     ]
    },
    {
     "name": "stdout",
     "output_type": "stream",
     "text": [
      "Epoch 230, Loss 0.0185\n",
      "Training Accuracy: 0.9799, Testing Accuracy: 0.9743\n",
      "\n"
     ]
    },
    {
     "name": "stdout",
     "output_type": "stream",
     "text": [
      "Epoch 240, Loss 0.0182\n",
      "Training Accuracy: 0.9802, Testing Accuracy: 0.9748\n",
      "\n"
     ]
    },
    {
     "data": {
      "text/plain": [
       "0.015593316308272138"
      ]
     },
     "execution_count": 22,
     "metadata": {},
     "output_type": "execute_result"
    }
   ],
   "source": [
    "nn_learner.train_loop(dl)"
   ]
  },
  {
   "cell_type": "code",
   "execution_count": 23,
   "id": "e0163366",
   "metadata": {
    "execution": {
     "iopub.execute_input": "2021-08-29T20:07:29.517838Z",
     "iopub.status.busy": "2021-08-29T20:07:29.517296Z",
     "iopub.status.idle": "2021-08-29T20:07:43.159648Z",
     "shell.execute_reply": "2021-08-29T20:07:43.160412Z"
    },
    "papermill": {
     "duration": 13.689256,
     "end_time": "2021-08-29T20:07:43.160567",
     "exception": false,
     "start_time": "2021-08-29T20:07:29.471311",
     "status": "completed"
    },
    "tags": []
   },
   "outputs": [
    {
     "name": "stdout",
     "output_type": "stream",
     "text": [
      "Epoch 0, Loss 0.2227\n",
      "Training Accuracy: 0.7616, Testing Accuracy: 0.7984\n",
      "\n"
     ]
    },
    {
     "name": "stdout",
     "output_type": "stream",
     "text": [
      "Epoch 10, Loss 0.1023\n",
      "Training Accuracy: 0.9063, Testing Accuracy: 0.9148\n",
      "\n"
     ]
    },
    {
     "name": "stdout",
     "output_type": "stream",
     "text": [
      "Epoch 20, Loss 0.0791\n",
      "Training Accuracy: 0.9273, Testing Accuracy: 0.9380\n",
      "\n"
     ]
    },
    {
     "name": "stdout",
     "output_type": "stream",
     "text": [
      "Epoch 30, Loss 0.0682\n",
      "Training Accuracy: 0.9365, Testing Accuracy: 0.9486\n",
      "\n"
     ]
    },
    {
     "name": "stdout",
     "output_type": "stream",
     "text": [
      "Epoch 40, Loss 0.0615\n",
      "Training Accuracy: 0.9403, Testing Accuracy: 0.9516\n",
      "\n"
     ]
    },
    {
     "name": "stdout",
     "output_type": "stream",
     "text": [
      "Epoch 50, Loss 0.057\n",
      "Training Accuracy: 0.9444, Testing Accuracy: 0.9567\n",
      "\n"
     ]
    },
    {
     "name": "stdout",
     "output_type": "stream",
     "text": [
      "Epoch 60, Loss 0.0537\n",
      "Training Accuracy: 0.9473, Testing Accuracy: 0.9572\n",
      "\n"
     ]
    },
    {
     "name": "stdout",
     "output_type": "stream",
     "text": [
      "Epoch 70, Loss 0.0512\n",
      "Training Accuracy: 0.9483, Testing Accuracy: 0.9577\n",
      "\n"
     ]
    },
    {
     "name": "stdout",
     "output_type": "stream",
     "text": [
      "Epoch 80, Loss 0.0492\n",
      "Training Accuracy: 0.9492, Testing Accuracy: 0.9602\n",
      "\n"
     ]
    },
    {
     "name": "stdout",
     "output_type": "stream",
     "text": [
      "Epoch 90, Loss 0.0475\n",
      "Training Accuracy: 0.9505, Testing Accuracy: 0.9617\n",
      "\n"
     ]
    },
    {
     "name": "stdout",
     "output_type": "stream",
     "text": [
      "Epoch 100, Loss 0.0461\n",
      "Training Accuracy: 0.9518, Testing Accuracy: 0.9637\n",
      "\n"
     ]
    },
    {
     "name": "stdout",
     "output_type": "stream",
     "text": [
      "Epoch 110, Loss 0.0449\n",
      "Training Accuracy: 0.9529, Testing Accuracy: 0.9652\n",
      "\n"
     ]
    },
    {
     "name": "stdout",
     "output_type": "stream",
     "text": [
      "Epoch 120, Loss 0.0438\n",
      "Training Accuracy: 0.9538, Testing Accuracy: 0.9662\n",
      "\n"
     ]
    },
    {
     "name": "stdout",
     "output_type": "stream",
     "text": [
      "Epoch 130, Loss 0.0429\n",
      "Training Accuracy: 0.9548, Testing Accuracy: 0.9667\n",
      "\n"
     ]
    },
    {
     "name": "stdout",
     "output_type": "stream",
     "text": [
      "Epoch 140, Loss 0.0421\n",
      "Training Accuracy: 0.9554, Testing Accuracy: 0.9677\n",
      "\n"
     ]
    },
    {
     "name": "stdout",
     "output_type": "stream",
     "text": [
      "Epoch 150, Loss 0.0413\n",
      "Training Accuracy: 0.9561, Testing Accuracy: 0.9672\n",
      "\n"
     ]
    },
    {
     "name": "stdout",
     "output_type": "stream",
     "text": [
      "Epoch 160, Loss 0.0407\n",
      "Training Accuracy: 0.9567, Testing Accuracy: 0.9667\n",
      "\n"
     ]
    },
    {
     "name": "stdout",
     "output_type": "stream",
     "text": [
      "Epoch 170, Loss 0.04\n",
      "Training Accuracy: 0.9576, Testing Accuracy: 0.9662\n",
      "\n"
     ]
    },
    {
     "name": "stdout",
     "output_type": "stream",
     "text": [
      "Epoch 180, Loss 0.0395\n",
      "Training Accuracy: 0.9579, Testing Accuracy: 0.9662\n",
      "\n"
     ]
    },
    {
     "name": "stdout",
     "output_type": "stream",
     "text": [
      "Epoch 190, Loss 0.039\n",
      "Training Accuracy: 0.9584, Testing Accuracy: 0.9667\n",
      "\n"
     ]
    },
    {
     "name": "stdout",
     "output_type": "stream",
     "text": [
      "Epoch 200, Loss 0.0385\n",
      "Training Accuracy: 0.9589, Testing Accuracy: 0.9662\n",
      "\n"
     ]
    },
    {
     "name": "stdout",
     "output_type": "stream",
     "text": [
      "Epoch 210, Loss 0.0381\n",
      "Training Accuracy: 0.9593, Testing Accuracy: 0.9662\n",
      "\n"
     ]
    },
    {
     "name": "stdout",
     "output_type": "stream",
     "text": [
      "Epoch 220, Loss 0.0377\n",
      "Training Accuracy: 0.9599, Testing Accuracy: 0.9662\n",
      "\n"
     ]
    },
    {
     "name": "stdout",
     "output_type": "stream",
     "text": [
      "Epoch 230, Loss 0.0373\n",
      "Training Accuracy: 0.9604, Testing Accuracy: 0.9667\n",
      "\n"
     ]
    },
    {
     "name": "stdout",
     "output_type": "stream",
     "text": [
      "Epoch 240, Loss 0.0369\n",
      "Training Accuracy: 0.9606, Testing Accuracy: 0.9672\n",
      "\n"
     ]
    },
    {
     "data": {
      "text/plain": [
       "0.03381284434523057"
      ]
     },
     "execution_count": 23,
     "metadata": {},
     "output_type": "execute_result"
    }
   ],
   "source": [
    "lr_learner.train_loop(dl)"
   ]
  },
  {
   "cell_type": "code",
   "execution_count": 24,
   "id": "ca410940",
   "metadata": {
    "execution": {
     "iopub.execute_input": "2021-08-29T20:07:43.254719Z",
     "iopub.status.busy": "2021-08-29T20:07:43.253043Z",
     "iopub.status.idle": "2021-08-29T20:07:43.482985Z",
     "shell.execute_reply": "2021-08-29T20:07:43.482476Z"
    },
    "papermill": {
     "duration": 0.28088,
     "end_time": "2021-08-29T20:07:43.483119",
     "exception": false,
     "start_time": "2021-08-29T20:07:43.202239",
     "status": "completed"
    },
    "tags": []
   },
   "outputs": [
    {
     "data": {
      "text/plain": [
       "<matplotlib.legend.Legend at 0x7fd1304c8be0>"
      ]
     },
     "execution_count": 24,
     "metadata": {},
     "output_type": "execute_result"
    },
    {
     "data": {
      "image/png": "[encoded data removed]",
      "text/plain": [
       "<Figure size 1080x720 with 1 Axes>"
      ]
     },
     "metadata": {
      "needs_background": "light"
     },
     "output_type": "display_data"
    }
   ],
   "source": [
    "#comparing the results of NN and LR\n",
    "plt.figure(figsize=(15,10))\n",
    "\n",
    "# Neural Network plots\n",
    "plt.plot(acc_nn.accuracies, 'r-', label = \"Training Accuracies - NN\")\n",
    "plt.plot(acc_nn.test_accuracies, 'g-', label = \"Testing Accuracies - NN\")\n",
    "\n",
    "# Logistic Regression plots\n",
    "plt.plot(acc_lr.accuracies, 'k-', label = \"Training Accuracies - LR\")\n",
    "plt.plot(acc_lr.test_accuracies, 'b-', label = \"Testing Accuracies - LR\")\n",
    "plt.legend()"
   ]
  },
  {
   "cell_type": "markdown",
   "id": "80dfb35c",
   "metadata": {
    "papermill": {
     "duration": 0.041742,
     "end_time": "2021-08-29T20:07:43.567521",
     "exception": false,
     "start_time": "2021-08-29T20:07:43.525779",
     "status": "completed"
    },
    "tags": []
   },
   "source": [
    "#### Plotting the outputs of this layer of the NN.\n"
   ]
  },
  {
   "cell_type": "code",
   "execution_count": 25,
   "id": "45eb2ff5",
   "metadata": {
    "execution": {
     "iopub.execute_input": "2021-08-29T20:07:43.654549Z",
     "iopub.status.busy": "2021-08-29T20:07:43.654015Z",
     "iopub.status.idle": "2021-08-29T20:07:43.673941Z",
     "shell.execute_reply": "2021-08-29T20:07:43.674361Z"
    },
    "papermill": {
     "duration": 0.065306,
     "end_time": "2021-08-29T20:07:43.674495",
     "exception": false,
     "start_time": "2021-08-29T20:07:43.609189",
     "status": "completed"
    },
    "tags": []
   },
   "outputs": [],
   "source": [
    "new_model = Model(layers[:-2])\n",
    "testing_plot = new_model(testing_data_x)"
   ]
  },
  {
   "cell_type": "code",
   "execution_count": 26,
   "id": "4c0a5485",
   "metadata": {
    "execution": {
     "iopub.execute_input": "2021-08-29T20:07:43.773996Z",
     "iopub.status.busy": "2021-08-29T20:07:43.773474Z",
     "iopub.status.idle": "2021-08-29T20:07:43.971703Z",
     "shell.execute_reply": "2021-08-29T20:07:43.971273Z"
    },
    "papermill": {
     "duration": 0.247061,
     "end_time": "2021-08-29T20:07:43.971828",
     "exception": false,
     "start_time": "2021-08-29T20:07:43.724767",
     "status": "completed"
    },
    "tags": []
   },
   "outputs": [
    {
     "data": {
      "text/plain": [
       "Text(0.5, 1.0, 'Outputs')"
      ]
     },
     "execution_count": 26,
     "metadata": {},
     "output_type": "execute_result"
    },
    {
     "data": {
      "image/png": "[encoded data removed]",
      "text/plain": [
       "<Figure size 576x504 with 1 Axes>"
      ]
     },
     "metadata": {
      "needs_background": "light"
     },
     "output_type": "display_data"
    }
   ],
   "source": [
    "# Plotting the scatter plot of points and color coding by class\n",
    "plt.figure(figsize=(8,7))\n",
    "plt.scatter(testing_plot[:,0], testing_plot[:,1], alpha = 0.1, c = y_test.ravel());\n",
    "plt.title('Outputs')"
   ]
  },
  {
   "cell_type": "markdown",
   "id": "a74fcf8f",
   "metadata": {
    "papermill": {
     "duration": 0.043548,
     "end_time": "2021-08-29T20:07:44.059342",
     "exception": false,
     "start_time": "2021-08-29T20:07:44.015794",
     "status": "completed"
    },
    "tags": []
   },
   "source": [
    "Probability contours"
   ]
  },
  {
   "cell_type": "code",
   "execution_count": 27,
   "id": "d0afc8e3",
   "metadata": {
    "execution": {
     "iopub.execute_input": "2021-08-29T20:07:44.154980Z",
     "iopub.status.busy": "2021-08-29T20:07:44.154381Z",
     "iopub.status.idle": "2021-08-29T20:07:44.161381Z",
     "shell.execute_reply": "2021-08-29T20:07:44.160942Z"
    },
    "papermill": {
     "duration": 0.058488,
     "end_time": "2021-08-29T20:07:44.161497",
     "exception": false,
     "start_time": "2021-08-29T20:07:44.103009",
     "status": "completed"
    },
    "tags": []
   },
   "outputs": [],
   "source": [
    "model_prob = Model(layers[-2:]) "
   ]
  },
  {
   "cell_type": "code",
   "execution_count": 28,
   "id": "9b96e238",
   "metadata": {
    "execution": {
     "iopub.execute_input": "2021-08-29T20:07:44.260074Z",
     "iopub.status.busy": "2021-08-29T20:07:44.259530Z",
     "iopub.status.idle": "2021-08-29T20:07:44.271347Z",
     "shell.execute_reply": "2021-08-29T20:07:44.271725Z"
    },
    "papermill": {
     "duration": 0.066557,
     "end_time": "2021-08-29T20:07:44.271852",
     "exception": false,
     "start_time": "2021-08-29T20:07:44.205295",
     "status": "completed"
    },
    "tags": []
   },
   "outputs": [],
   "source": [
    "#creating the x and y ranges according to the above generated plot.\n",
    "x_range = np.linspace(-4, 1, 100) \n",
    "y_range = np.linspace(-6, 6, 100) \n",
    "x_grid, y_grid = np.meshgrid(x_range, y_range) # x_grid and y_grig are of size 100 X 100\n",
    "\n",
    "# converting x_grid and y_grid to continuous arrays\n",
    "x_gridflat = np.ravel(x_grid)\n",
    "y_gridflat = np.ravel(y_grid)\n",
    "\n",
    "# The last layer of the current model takes two columns as input. Hence transpose of np.vstack() is required.\n",
    "X = np.vstack((x_gridflat, y_gridflat)).T\n",
    "\n",
    "prob_contour = model_prob(X).reshape(100,100) "
   ]
  },
  {
   "cell_type": "code",
   "execution_count": 29,
   "id": "da72499a",
   "metadata": {
    "execution": {
     "iopub.execute_input": "2021-08-29T20:07:44.395906Z",
     "iopub.status.busy": "2021-08-29T20:07:44.395401Z",
     "iopub.status.idle": "2021-08-29T20:07:44.641845Z",
     "shell.execute_reply": "2021-08-29T20:07:44.641368Z"
    },
    "papermill": {
     "duration": 0.321882,
     "end_time": "2021-08-29T20:07:44.641972",
     "exception": false,
     "start_time": "2021-08-29T20:07:44.320090",
     "status": "completed"
    },
    "tags": []
   },
   "outputs": [
    {
     "data": {
      "image/png": "[encoded data removed]",
      "text/plain": [
       "<Figure size 720x648 with 1 Axes>"
      ]
     },
     "metadata": {
      "needs_background": "light"
     },
     "output_type": "display_data"
    }
   ],
   "source": [
    "plt.figure(figsize=(10,9))\n",
    "plt.scatter(testing_plot[:,0], testing_plot[:,1], alpha = 0.1, c = y_test.ravel())\n",
    "contours = plt.contour(x_grid,y_grid,prob_contour)\n",
    "plt.title('Probability Contours')\n",
    "plt.clabel(contours, inline = True );"
   ]
  },
  {
   "cell_type": "code",
   "execution_count": null,
   "id": "e81b4ac7",
   "metadata": {
    "papermill": {
     "duration": 0.046286,
     "end_time": "2021-08-29T20:07:44.735630",
     "exception": false,
     "start_time": "2021-08-29T20:07:44.689344",
     "status": "completed"
    },
    "tags": []
   },
   "outputs": [],
   "source": []
  }
 ],
 "metadata": {
  "kernelspec": {
   "display_name": "Python 3",
   "language": "python",
   "name": "python3"
  },
  "language_info": {
   "codemirror_mode": {
    "name": "ipython",
    "version": 3
   },
   "file_extension": ".py",
   "mimetype": "text/x-python",
   "name": "python",
   "nbconvert_exporter": "python",
   "pygments_lexer": "ipython3",
   "version": "3.6.14"
  },
  "papermill": {
   "default_parameters": {},
   "duration": 96.251181,
   "end_time": "2021-08-29T20:07:45.189042",
   "environment_variables": {},
   "exception": null,
   "input_path": "2020-08-11-part2.ipynb",
   "output_path": "2020-08-11-part2.ipynb",
   "parameters": {},
   "start_time": "2021-08-29T20:06:08.937861",
   "version": "2.3.3"
  }
 },
 "nbformat": 4,
 "nbformat_minor": 5
}