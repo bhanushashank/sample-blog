{
 "cells": [
  {
   "cell_type": "markdown",
   "id": "98380cd3",
   "metadata": {
    "papermill": {
     "duration": 0.035287,
     "end_time": "2021-11-13T20:07:26.956911",
     "exception": false,
     "start_time": "2021-11-13T20:07:26.921624",
     "status": "completed"
    },
    "tags": []
   },
   "source": [
    "# Distinguish Your Own Digits (DYOD)"
   ]
  },
  {
   "cell_type": "markdown",
   "id": "ef31240d",
   "metadata": {
    "papermill": {
     "duration": 0.031014,
     "end_time": "2021-11-13T20:07:27.019917",
     "exception": false,
     "start_time": "2021-11-13T20:07:26.988903",
     "status": "completed"
    },
    "tags": []
   },
   "source": [
    "You are going to write a classifier that distinguishes between the number 3 and number 8."
   ]
  },
  {
   "cell_type": "code",
   "execution_count": 1,
   "id": "b15c8646",
   "metadata": {
    "execution": {
     "iopub.execute_input": "2021-11-13T20:07:27.099860Z",
     "iopub.status.busy": "2021-11-13T20:07:27.099158Z",
     "iopub.status.idle": "2021-11-13T20:07:27.109772Z",
     "shell.execute_reply": "2021-11-13T20:07:27.110354Z"
    },
    "papermill": {
     "duration": 0.059514,
     "end_time": "2021-11-13T20:07:27.110536",
     "exception": false,
     "start_time": "2021-11-13T20:07:27.051022",
     "status": "completed"
    },
    "tags": []
   },
   "outputs": [],
   "source": [
    "%load_ext autoreload\n",
    "%autoreload 2"
   ]
  },
  {
   "cell_type": "code",
   "execution_count": 2,
   "id": "22ef38dc",
   "metadata": {
    "execution": {
     "iopub.execute_input": "2021-11-13T20:07:27.182350Z",
     "iopub.status.busy": "2021-11-13T20:07:27.180352Z",
     "iopub.status.idle": "2021-11-13T20:07:27.758017Z",
     "shell.execute_reply": "2021-11-13T20:07:27.757454Z"
    },
    "papermill": {
     "duration": 0.619631,
     "end_time": "2021-11-13T20:07:27.758168",
     "exception": false,
     "start_time": "2021-11-13T20:07:27.138537",
     "status": "completed"
    },
    "tags": []
   },
   "outputs": [],
   "source": [
    "%matplotlib inline\n",
    "import numpy as np\n",
    "import matplotlib.pyplot as plt\n",
    "import pandas as pd"
   ]
  },
  {
   "cell_type": "markdown",
   "id": "ba036198",
   "metadata": {
    "papermill": {
     "duration": 0.030212,
     "end_time": "2021-11-13T20:07:27.817590",
     "exception": false,
     "start_time": "2021-11-13T20:07:27.787378",
     "status": "completed"
    },
    "tags": []
   },
   "source": [
    "From the command line run `pip install mnist`. This is a library that will help you bring down the mnist dataset. If you run this from a notebook, you need to put  `!pip install mnist` in a cell by itself."
   ]
  },
  {
   "cell_type": "code",
   "execution_count": 3,
   "id": "bb6ad8a1",
   "metadata": {
    "execution": {
     "iopub.execute_input": "2021-11-13T20:07:27.883129Z",
     "iopub.status.busy": "2021-11-13T20:07:27.882447Z",
     "iopub.status.idle": "2021-11-13T20:07:29.796861Z",
     "shell.execute_reply": "2021-11-13T20:07:29.797753Z"
    },
    "papermill": {
     "duration": 1.950653,
     "end_time": "2021-11-13T20:07:29.797926",
     "exception": false,
     "start_time": "2021-11-13T20:07:27.847273",
     "status": "completed"
    },
    "tags": []
   },
   "outputs": [
    {
     "name": "stdout",
     "output_type": "stream",
     "text": [
      "Collecting mnist\r\n"
     ]
    },
    {
     "name": "stdout",
     "output_type": "stream",
     "text": [
      "  Downloading mnist-0.2.2-py2.py3-none-any.whl (3.5 kB)\r\n",
      "Requirement already satisfied: numpy in /opt/hostedtoolcache/Python/3.6.15/x64/lib/python3.6/site-packages (from mnist) (1.19.5)\r\n"
     ]
    },
    {
     "name": "stdout",
     "output_type": "stream",
     "text": [
      "Installing collected packages: mnist\r\n"
     ]
    },
    {
     "name": "stdout",
     "output_type": "stream",
     "text": [
      "Successfully installed mnist-0.2.2\r\n"
     ]
    }
   ],
   "source": [
    "!pip install mnist"
   ]
  },
  {
   "cell_type": "markdown",
   "id": "69df9c9a",
   "metadata": {
    "papermill": {
     "duration": 0.030588,
     "end_time": "2021-11-13T20:07:29.857635",
     "exception": false,
     "start_time": "2021-11-13T20:07:29.827047",
     "status": "completed"
    },
    "tags": []
   },
   "source": [
    "## Preparing the Data"
   ]
  },
  {
   "cell_type": "code",
   "execution_count": 4,
   "id": "7f69d806",
   "metadata": {
    "execution": {
     "iopub.execute_input": "2021-11-13T20:07:29.932079Z",
     "iopub.status.busy": "2021-11-13T20:07:29.931395Z",
     "iopub.status.idle": "2021-11-13T20:07:29.942655Z",
     "shell.execute_reply": "2021-11-13T20:07:29.942124Z"
    },
    "papermill": {
     "duration": 0.054194,
     "end_time": "2021-11-13T20:07:29.942802",
     "exception": false,
     "start_time": "2021-11-13T20:07:29.888608",
     "status": "completed"
    },
    "tags": []
   },
   "outputs": [],
   "source": [
    "import mnist"
   ]
  },
  {
   "cell_type": "code",
   "execution_count": 5,
   "id": "a411e44f",
   "metadata": {
    "execution": {
     "iopub.execute_input": "2021-11-13T20:07:30.014049Z",
     "iopub.status.busy": "2021-11-13T20:07:30.013363Z",
     "iopub.status.idle": "2021-11-13T20:07:30.551142Z",
     "shell.execute_reply": "2021-11-13T20:07:30.551678Z"
    },
    "papermill": {
     "duration": 0.575305,
     "end_time": "2021-11-13T20:07:30.551864",
     "exception": false,
     "start_time": "2021-11-13T20:07:29.976559",
     "status": "completed"
    },
    "tags": []
   },
   "outputs": [],
   "source": [
    "train_images = mnist.train_images()\n",
    "train_labels = mnist.train_labels()"
   ]
  },
  {
   "cell_type": "code",
   "execution_count": 6,
   "id": "dceab3a5",
   "metadata": {
    "execution": {
     "iopub.execute_input": "2021-11-13T20:07:30.620688Z",
     "iopub.status.busy": "2021-11-13T20:07:30.620060Z",
     "iopub.status.idle": "2021-11-13T20:07:30.633567Z",
     "shell.execute_reply": "2021-11-13T20:07:30.633006Z"
    },
    "papermill": {
     "duration": 0.049351,
     "end_time": "2021-11-13T20:07:30.633702",
     "exception": false,
     "start_time": "2021-11-13T20:07:30.584351",
     "status": "completed"
    },
    "tags": []
   },
   "outputs": [
    {
     "data": {
      "text/plain": [
       "((60000, 28, 28), (60000,))"
      ]
     },
     "execution_count": 6,
     "metadata": {},
     "output_type": "execute_result"
    }
   ],
   "source": [
    "train_images.shape, train_labels.shape"
   ]
  },
  {
   "cell_type": "code",
   "execution_count": 7,
   "id": "f50dc2bb",
   "metadata": {
    "execution": {
     "iopub.execute_input": "2021-11-13T20:07:30.713904Z",
     "iopub.status.busy": "2021-11-13T20:07:30.713232Z",
     "iopub.status.idle": "2021-11-13T20:07:30.908423Z",
     "shell.execute_reply": "2021-11-13T20:07:30.907827Z"
    },
    "papermill": {
     "duration": 0.244192,
     "end_time": "2021-11-13T20:07:30.908573",
     "exception": false,
     "start_time": "2021-11-13T20:07:30.664381",
     "status": "completed"
    },
    "tags": []
   },
   "outputs": [],
   "source": [
    "test_images = mnist.test_images()\n",
    "test_labels = mnist.test_labels()"
   ]
  },
  {
   "cell_type": "code",
   "execution_count": 8,
   "id": "fc38cf1b",
   "metadata": {
    "execution": {
     "iopub.execute_input": "2021-11-13T20:07:30.973323Z",
     "iopub.status.busy": "2021-11-13T20:07:30.972666Z",
     "iopub.status.idle": "2021-11-13T20:07:30.984794Z",
     "shell.execute_reply": "2021-11-13T20:07:30.985302Z"
    },
    "papermill": {
     "duration": 0.047546,
     "end_time": "2021-11-13T20:07:30.985451",
     "exception": false,
     "start_time": "2021-11-13T20:07:30.937905",
     "status": "completed"
    },
    "tags": []
   },
   "outputs": [
    {
     "data": {
      "text/plain": [
       "((10000, 28, 28), (10000,))"
      ]
     },
     "execution_count": 8,
     "metadata": {},
     "output_type": "execute_result"
    }
   ],
   "source": [
    "test_images.shape, test_labels.shape"
   ]
  },
  {
   "cell_type": "code",
   "execution_count": 9,
   "id": "f9ed8fe0",
   "metadata": {
    "execution": {
     "iopub.execute_input": "2021-11-13T20:07:31.062836Z",
     "iopub.status.busy": "2021-11-13T20:07:31.062127Z",
     "iopub.status.idle": "2021-11-13T20:07:31.236279Z",
     "shell.execute_reply": "2021-11-13T20:07:31.236793Z"
    },
    "papermill": {
     "duration": 0.222303,
     "end_time": "2021-11-13T20:07:31.236965",
     "exception": false,
     "start_time": "2021-11-13T20:07:31.014662",
     "status": "completed"
    },
    "tags": []
   },
   "outputs": [
    {
     "name": "stdout",
     "output_type": "stream",
     "text": [
      "2\n"
     ]
    },
    {
     "data": {
      "text/plain": [
       "<matplotlib.image.AxesImage at 0x7f03100570b8>"
      ]
     },
     "execution_count": 9,
     "metadata": {},
     "output_type": "execute_result"
    },
    {
     "data": {
      "image/png": "[encoded data removed]",
      "text/plain": [
       "<Figure size 432x288 with 1 Axes>"
      ]
     },
     "metadata": {
      "needs_background": "light"
     },
     "output_type": "display_data"
    }
   ],
   "source": [
    "image_index = 7776 # You may select anything up to 60,000\n",
    "print(train_labels[image_index]) \n",
    "plt.imshow(train_images[image_index], cmap='Greys')"
   ]
  },
  {
   "cell_type": "markdown",
   "id": "a8d2388d",
   "metadata": {
    "papermill": {
     "duration": 0.032672,
     "end_time": "2021-11-13T20:07:31.304617",
     "exception": false,
     "start_time": "2021-11-13T20:07:31.271945",
     "status": "completed"
    },
    "tags": []
   },
   "source": [
    "## Filter data to get 3 and 8 out"
   ]
  },
  {
   "cell_type": "code",
   "execution_count": 10,
   "id": "776f7fc7",
   "metadata": {
    "execution": {
     "iopub.execute_input": "2021-11-13T20:07:31.390126Z",
     "iopub.status.busy": "2021-11-13T20:07:31.387736Z",
     "iopub.status.idle": "2021-11-13T20:07:31.401168Z",
     "shell.execute_reply": "2021-11-13T20:07:31.401759Z"
    },
    "papermill": {
     "duration": 0.065035,
     "end_time": "2021-11-13T20:07:31.401927",
     "exception": false,
     "start_time": "2021-11-13T20:07:31.336892",
     "status": "completed"
    },
    "tags": []
   },
   "outputs": [],
   "source": [
    "train_filter = np.where((train_labels == 3 ) | (train_labels == 8))\n",
    "test_filter = np.where((test_labels == 3) | (test_labels == 8))\n",
    "X_train, y_train = train_images[train_filter], train_labels[train_filter]\n",
    "X_test, y_test = test_images[test_filter], test_labels[test_filter]"
   ]
  },
  {
   "cell_type": "markdown",
   "id": "948f0b7e",
   "metadata": {
    "papermill": {
     "duration": 0.031496,
     "end_time": "2021-11-13T20:07:31.466044",
     "exception": false,
     "start_time": "2021-11-13T20:07:31.434548",
     "status": "completed"
    },
    "tags": []
   },
   "source": [
    "We normalize the pizel values in the 0 to 1 range"
   ]
  },
  {
   "cell_type": "code",
   "execution_count": 11,
   "id": "ee4c2166",
   "metadata": {
    "execution": {
     "iopub.execute_input": "2021-11-13T20:07:31.534775Z",
     "iopub.status.busy": "2021-11-13T20:07:31.534121Z",
     "iopub.status.idle": "2021-11-13T20:07:31.594055Z",
     "shell.execute_reply": "2021-11-13T20:07:31.594566Z"
    },
    "papermill": {
     "duration": 0.096512,
     "end_time": "2021-11-13T20:07:31.594742",
     "exception": false,
     "start_time": "2021-11-13T20:07:31.498230",
     "status": "completed"
    },
    "tags": []
   },
   "outputs": [],
   "source": [
    "X_train = X_train/255.\n",
    "X_test = X_test/255."
   ]
  },
  {
   "cell_type": "markdown",
   "id": "ddcf4fab",
   "metadata": {
    "papermill": {
     "duration": 0.032217,
     "end_time": "2021-11-13T20:07:31.660298",
     "exception": false,
     "start_time": "2021-11-13T20:07:31.628081",
     "status": "completed"
    },
    "tags": []
   },
   "source": [
    "And setup the labels as 1 (when the digit is 3) and 0 (when the digit is 8)"
   ]
  },
  {
   "cell_type": "code",
   "execution_count": 12,
   "id": "7dc908f2",
   "metadata": {
    "execution": {
     "iopub.execute_input": "2021-11-13T20:07:31.729031Z",
     "iopub.status.busy": "2021-11-13T20:07:31.728363Z",
     "iopub.status.idle": "2021-11-13T20:07:31.742001Z",
     "shell.execute_reply": "2021-11-13T20:07:31.741469Z"
    },
    "papermill": {
     "duration": 0.049411,
     "end_time": "2021-11-13T20:07:31.742140",
     "exception": false,
     "start_time": "2021-11-13T20:07:31.692729",
     "status": "completed"
    },
    "tags": []
   },
   "outputs": [],
   "source": [
    "y_train = 1*(y_train==3)\n",
    "y_test = 1*(y_test==3)"
   ]
  },
  {
   "cell_type": "code",
   "execution_count": 13,
   "id": "01e4e969",
   "metadata": {
    "execution": {
     "iopub.execute_input": "2021-11-13T20:07:31.811556Z",
     "iopub.status.busy": "2021-11-13T20:07:31.810923Z",
     "iopub.status.idle": "2021-11-13T20:07:31.823854Z",
     "shell.execute_reply": "2021-11-13T20:07:31.824354Z"
    },
    "papermill": {
     "duration": 0.051122,
     "end_time": "2021-11-13T20:07:31.824669",
     "exception": false,
     "start_time": "2021-11-13T20:07:31.773547",
     "status": "completed"
    },
    "tags": []
   },
   "outputs": [
    {
     "data": {
      "text/plain": [
       "((11982, 28, 28), (1984, 28, 28))"
      ]
     },
     "execution_count": 13,
     "metadata": {},
     "output_type": "execute_result"
    }
   ],
   "source": [
    "X_train.shape, X_test.shape"
   ]
  },
  {
   "cell_type": "markdown",
   "id": "5ccf3f85",
   "metadata": {
    "papermill": {
     "duration": 0.03164,
     "end_time": "2021-11-13T20:07:31.887659",
     "exception": false,
     "start_time": "2021-11-13T20:07:31.856019",
     "status": "completed"
    },
    "tags": []
   },
   "source": [
    "We reshape the data to flatten the image pixels into a set of features or co-variates:"
   ]
  },
  {
   "cell_type": "code",
   "execution_count": 14,
   "id": "5286a4a3",
   "metadata": {
    "execution": {
     "iopub.execute_input": "2021-11-13T20:07:31.957082Z",
     "iopub.status.busy": "2021-11-13T20:07:31.956438Z",
     "iopub.status.idle": "2021-11-13T20:07:31.970576Z",
     "shell.execute_reply": "2021-11-13T20:07:31.971093Z"
    },
    "papermill": {
     "duration": 0.052571,
     "end_time": "2021-11-13T20:07:31.971239",
     "exception": false,
     "start_time": "2021-11-13T20:07:31.918668",
     "status": "completed"
    },
    "tags": []
   },
   "outputs": [
    {
     "data": {
      "text/plain": [
       "((11982, 784), (1984, 784))"
      ]
     },
     "execution_count": 14,
     "metadata": {},
     "output_type": "execute_result"
    }
   ],
   "source": [
    "X_train = X_train.reshape(X_train.shape[0], -1)\n",
    "X_test = X_test.reshape(X_test.shape[0], -1)\n",
    "X_train.shape, X_test.shape"
   ]
  },
  {
   "cell_type": "code",
   "execution_count": 15,
   "id": "73c5f88a",
   "metadata": {
    "execution": {
     "iopub.execute_input": "2021-11-13T20:07:32.042620Z",
     "iopub.status.busy": "2021-11-13T20:07:32.041968Z",
     "iopub.status.idle": "2021-11-13T20:07:32.060412Z",
     "shell.execute_reply": "2021-11-13T20:07:32.060949Z"
    },
    "papermill": {
     "duration": 0.058416,
     "end_time": "2021-11-13T20:07:32.061130",
     "exception": false,
     "start_time": "2021-11-13T20:07:32.002714",
     "status": "completed"
    },
    "tags": []
   },
   "outputs": [],
   "source": [
    "#Impoting functions from 'Kudzu'\n",
    "from kudzu.model import Model\n",
    "from kudzu.train import Learner\n",
    "from kudzu.optim import GD\n",
    "from kudzu.data import Data, Sampler,Dataloader\n",
    "\n",
    "from kudzu.callbacks import AccCallback\n",
    "from kudzu.callbacks import ClfCallback\n",
    "\n",
    "from kudzu.loss import MSE\n",
    "\n",
    "from kudzu.layer import Sigmoid,Relu\n",
    "from kudzu.layer import Affine"
   ]
  },
  {
   "cell_type": "markdown",
   "id": "bc01172a",
   "metadata": {
    "papermill": {
     "duration": 0.035071,
     "end_time": "2021-11-13T20:07:32.132142",
     "exception": false,
     "start_time": "2021-11-13T20:07:32.097071",
     "status": "completed"
    },
    "tags": []
   },
   "source": [
    "### Let us create a `Config` class, to store important parameters. \n",
    "This class essentially plays the role of a dictionary."
   ]
  },
  {
   "cell_type": "code",
   "execution_count": 16,
   "id": "978281aa",
   "metadata": {
    "execution": {
     "iopub.execute_input": "2021-11-13T20:07:32.206171Z",
     "iopub.status.busy": "2021-11-13T20:07:32.205510Z",
     "iopub.status.idle": "2021-11-13T20:07:32.218345Z",
     "shell.execute_reply": "2021-11-13T20:07:32.217685Z"
    },
    "papermill": {
     "duration": 0.051916,
     "end_time": "2021-11-13T20:07:32.218486",
     "exception": false,
     "start_time": "2021-11-13T20:07:32.166570",
     "status": "completed"
    },
    "tags": []
   },
   "outputs": [],
   "source": [
    "class Config:\n",
    "    pass\n",
    "config = Config()\n",
    "config.lr = 0.001\n",
    "config.num_epochs = 250\n",
    "config.bs = 50"
   ]
  },
  {
   "cell_type": "markdown",
   "id": "1385fa59",
   "metadata": {
    "papermill": {
     "duration": 0.032781,
     "end_time": "2021-11-13T20:07:32.284520",
     "exception": false,
     "start_time": "2021-11-13T20:07:32.251739",
     "status": "completed"
    },
    "tags": []
   },
   "source": [
    "### Running Models with the Training data\n",
    "Details about the network layers:\n",
    "- A first affine layer has 784 inputs and does 100 affine transforms. These are followed by a Relu\n",
    "- A second affine layer has 100 inputs from the 100 activations of the past layer, and does 100 affine transforms. These are followed by a Relu\n",
    "- A third affine layer has 100 activations and does 2 affine transformations to create an embedding for visualization. There is no non-linearity here.\n",
    "- A final \"logistic regression\" which has an affine transform from 2 inputs to 1 output, which is squeezed through a sigmoid.\n"
   ]
  },
  {
   "cell_type": "code",
   "execution_count": 17,
   "id": "2b9c66db",
   "metadata": {
    "execution": {
     "iopub.execute_input": "2021-11-13T20:07:32.357501Z",
     "iopub.status.busy": "2021-11-13T20:07:32.356806Z",
     "iopub.status.idle": "2021-11-13T20:07:32.370001Z",
     "shell.execute_reply": "2021-11-13T20:07:32.369075Z"
    },
    "papermill": {
     "duration": 0.051537,
     "end_time": "2021-11-13T20:07:32.370150",
     "exception": false,
     "start_time": "2021-11-13T20:07:32.318613",
     "status": "completed"
    },
    "tags": []
   },
   "outputs": [],
   "source": [
    "data = Data(X_train, y_train.reshape(-1,1))\n",
    "sampler = Sampler(data, config.bs, shuffle=True)\n",
    "\n",
    "dl = Dataloader(data, sampler)\n",
    "\n",
    "opt = GD(config.lr)\n",
    "loss = MSE()"
   ]
  },
  {
   "cell_type": "code",
   "execution_count": 18,
   "id": "b275e4c2",
   "metadata": {
    "execution": {
     "iopub.execute_input": "2021-11-13T20:07:32.443343Z",
     "iopub.status.busy": "2021-11-13T20:07:32.442682Z",
     "iopub.status.idle": "2021-11-13T20:07:32.454994Z",
     "shell.execute_reply": "2021-11-13T20:07:32.454446Z"
    },
    "papermill": {
     "duration": 0.050347,
     "end_time": "2021-11-13T20:07:32.455133",
     "exception": false,
     "start_time": "2021-11-13T20:07:32.404786",
     "status": "completed"
    },
    "tags": []
   },
   "outputs": [],
   "source": [
    "training_data_x = X_train\n",
    "testing_data_x = X_test\n",
    "training_data_y = y_train.reshape(-1,1)\n",
    "testing_data_y = y_test.reshape(-1,1)"
   ]
  },
  {
   "cell_type": "code",
   "execution_count": 19,
   "id": "76951160",
   "metadata": {
    "execution": {
     "iopub.execute_input": "2021-11-13T20:07:32.525594Z",
     "iopub.status.busy": "2021-11-13T20:07:32.524882Z",
     "iopub.status.idle": "2021-11-13T20:07:32.541937Z",
     "shell.execute_reply": "2021-11-13T20:07:32.541415Z"
    },
    "papermill": {
     "duration": 0.054262,
     "end_time": "2021-11-13T20:07:32.542068",
     "exception": false,
     "start_time": "2021-11-13T20:07:32.487806",
     "status": "completed"
    },
    "tags": []
   },
   "outputs": [
    {
     "name": "stdout",
     "output_type": "stream",
     "text": [
      "xavier\n",
      "xavier\n",
      "xavier\n",
      "xavier\n",
      "xavier\n"
     ]
    }
   ],
   "source": [
    "layers = [Affine(\"first\", 784, 100), Relu(\"first\"), Affine(\"second\", 100, 100), Relu(\"second\"), Affine(\"third\", 100, 2), Affine(\"last\", 2, 1), Sigmoid(\"last\")]\n",
    "model_nn = Model(layers)\n",
    "model_lr = Model([Affine(\"logits\", 784, 1), Sigmoid(\"sigmoid\")])"
   ]
  },
  {
   "cell_type": "code",
   "execution_count": 20,
   "id": "6eede77a",
   "metadata": {
    "execution": {
     "iopub.execute_input": "2021-11-13T20:07:32.613169Z",
     "iopub.status.busy": "2021-11-13T20:07:32.612497Z",
     "iopub.status.idle": "2021-11-13T20:07:32.624002Z",
     "shell.execute_reply": "2021-11-13T20:07:32.624528Z"
    },
    "papermill": {
     "duration": 0.050745,
     "end_time": "2021-11-13T20:07:32.624688",
     "exception": false,
     "start_time": "2021-11-13T20:07:32.573943",
     "status": "completed"
    },
    "tags": []
   },
   "outputs": [],
   "source": [
    "nn_learner = Learner(loss, model_nn, opt, config.num_epochs)\n",
    "acc_nn = ClfCallback(nn_learner, config.bs, training_data_x , testing_data_x, training_data_y, testing_data_y)\n",
    "nn_learner.set_callbacks([acc_nn])"
   ]
  },
  {
   "cell_type": "code",
   "execution_count": 21,
   "id": "877b6cc7",
   "metadata": {
    "execution": {
     "iopub.execute_input": "2021-11-13T20:07:32.706686Z",
     "iopub.status.busy": "2021-11-13T20:07:32.702189Z",
     "iopub.status.idle": "2021-11-13T20:07:32.710314Z",
     "shell.execute_reply": "2021-11-13T20:07:32.710824Z"
    },
    "papermill": {
     "duration": 0.052866,
     "end_time": "2021-11-13T20:07:32.710978",
     "exception": false,
     "start_time": "2021-11-13T20:07:32.658112",
     "status": "completed"
    },
    "tags": []
   },
   "outputs": [],
   "source": [
    "lr_learner = Learner(loss, model_lr, opt, config.num_epochs)\n",
    "acc_lr = ClfCallback(lr_learner, config.bs, training_data_x , testing_data_x, training_data_y, testing_data_y)\n",
    "lr_learner.set_callbacks([acc_lr])"
   ]
  },
  {
   "cell_type": "code",
   "execution_count": 22,
   "id": "d9b133c3",
   "metadata": {
    "execution": {
     "iopub.execute_input": "2021-11-13T20:07:32.794576Z",
     "iopub.status.busy": "2021-11-13T20:07:32.789887Z",
     "iopub.status.idle": "2021-11-13T20:09:38.589994Z",
     "shell.execute_reply": "2021-11-13T20:09:38.590890Z"
    },
    "papermill": {
     "duration": 125.846712,
     "end_time": "2021-11-13T20:09:38.591063",
     "exception": false,
     "start_time": "2021-11-13T20:07:32.744351",
     "status": "completed"
    },
    "tags": []
   },
   "outputs": [
    {
     "name": "stdout",
     "output_type": "stream",
     "text": [
      "Epoch 0, Loss 0.2608\n",
      "Training Accuracy: 0.4985, Testing Accuracy: 0.4874\n",
      "\n"
     ]
    },
    {
     "name": "stdout",
     "output_type": "stream",
     "text": [
      "Epoch 10, Loss 0.1145\n",
      "Training Accuracy: 0.9038, Testing Accuracy: 0.9199\n",
      "\n"
     ]
    },
    {
     "name": "stdout",
     "output_type": "stream",
     "text": [
      "Epoch 20, Loss 0.0614\n",
      "Training Accuracy: 0.9392, Testing Accuracy: 0.9526\n",
      "\n"
     ]
    },
    {
     "name": "stdout",
     "output_type": "stream",
     "text": [
      "Epoch 30, Loss 0.0462\n",
      "Training Accuracy: 0.9493, Testing Accuracy: 0.9607\n",
      "\n"
     ]
    },
    {
     "name": "stdout",
     "output_type": "stream",
     "text": [
      "Epoch 40, Loss 0.0392\n",
      "Training Accuracy: 0.9561, Testing Accuracy: 0.9637\n",
      "\n"
     ]
    },
    {
     "name": "stdout",
     "output_type": "stream",
     "text": [
      "Epoch 50, Loss 0.0351\n",
      "Training Accuracy: 0.9599, Testing Accuracy: 0.9672\n",
      "\n"
     ]
    },
    {
     "name": "stdout",
     "output_type": "stream",
     "text": [
      "Epoch 60, Loss 0.0324\n",
      "Training Accuracy: 0.9635, Testing Accuracy: 0.9682\n",
      "\n"
     ]
    },
    {
     "name": "stdout",
     "output_type": "stream",
     "text": [
      "Epoch 70, Loss 0.0303\n",
      "Training Accuracy: 0.9657, Testing Accuracy: 0.9682\n",
      "\n"
     ]
    },
    {
     "name": "stdout",
     "output_type": "stream",
     "text": [
      "Epoch 80, Loss 0.0287\n",
      "Training Accuracy: 0.9670, Testing Accuracy: 0.9688\n",
      "\n"
     ]
    },
    {
     "name": "stdout",
     "output_type": "stream",
     "text": [
      "Epoch 90, Loss 0.0274\n",
      "Training Accuracy: 0.9688, Testing Accuracy: 0.9682\n",
      "\n"
     ]
    },
    {
     "name": "stdout",
     "output_type": "stream",
     "text": [
      "Epoch 100, Loss 0.0263\n",
      "Training Accuracy: 0.9706, Testing Accuracy: 0.9682\n",
      "\n"
     ]
    },
    {
     "name": "stdout",
     "output_type": "stream",
     "text": [
      "Epoch 110, Loss 0.0254\n",
      "Training Accuracy: 0.9716, Testing Accuracy: 0.9693\n",
      "\n"
     ]
    },
    {
     "name": "stdout",
     "output_type": "stream",
     "text": [
      "Epoch 120, Loss 0.0246\n",
      "Training Accuracy: 0.9724, Testing Accuracy: 0.9703\n",
      "\n"
     ]
    },
    {
     "name": "stdout",
     "output_type": "stream",
     "text": [
      "Epoch 130, Loss 0.0238\n",
      "Training Accuracy: 0.9732, Testing Accuracy: 0.9713\n",
      "\n"
     ]
    },
    {
     "name": "stdout",
     "output_type": "stream",
     "text": [
      "Epoch 140, Loss 0.0232\n",
      "Training Accuracy: 0.9738, Testing Accuracy: 0.9723\n",
      "\n"
     ]
    },
    {
     "name": "stdout",
     "output_type": "stream",
     "text": [
      "Epoch 150, Loss 0.0226\n",
      "Training Accuracy: 0.9743, Testing Accuracy: 0.9718\n",
      "\n"
     ]
    },
    {
     "name": "stdout",
     "output_type": "stream",
     "text": [
      "Epoch 160, Loss 0.022\n",
      "Training Accuracy: 0.9747, Testing Accuracy: 0.9723\n",
      "\n"
     ]
    },
    {
     "name": "stdout",
     "output_type": "stream",
     "text": [
      "Epoch 170, Loss 0.0215\n",
      "Training Accuracy: 0.9753, Testing Accuracy: 0.9718\n",
      "\n"
     ]
    },
    {
     "name": "stdout",
     "output_type": "stream",
     "text": [
      "Epoch 180, Loss 0.021\n",
      "Training Accuracy: 0.9760, Testing Accuracy: 0.9723\n",
      "\n"
     ]
    },
    {
     "name": "stdout",
     "output_type": "stream",
     "text": [
      "Epoch 190, Loss 0.0205\n",
      "Training Accuracy: 0.9769, Testing Accuracy: 0.9728\n",
      "\n"
     ]
    },
    {
     "name": "stdout",
     "output_type": "stream",
     "text": [
      "Epoch 200, Loss 0.0201\n",
      "Training Accuracy: 0.9775, Testing Accuracy: 0.9733\n",
      "\n"
     ]
    },
    {
     "name": "stdout",
     "output_type": "stream",
     "text": [
      "Epoch 210, Loss 0.0196\n",
      "Training Accuracy: 0.9785, Testing Accuracy: 0.9738\n",
      "\n"
     ]
    },
    {
     "name": "stdout",
     "output_type": "stream",
     "text": [
      "Epoch 220, Loss 0.0192\n",
      "Training Accuracy: 0.9788, Testing Accuracy: 0.9738\n",
      "\n"
     ]
    },
    {
     "name": "stdout",
     "output_type": "stream",
     "text": [
      "Epoch 230, Loss 0.0189\n",
      "Training Accuracy: 0.9795, Testing Accuracy: 0.9748\n",
      "\n"
     ]
    },
    {
     "name": "stdout",
     "output_type": "stream",
     "text": [
      "Epoch 240, Loss 0.0185\n",
      "Training Accuracy: 0.9799, Testing Accuracy: 0.9748\n",
      "\n"
     ]
    },
    {
     "data": {
      "text/plain": [
       "0.020363259550579035"
      ]
     },
     "execution_count": 22,
     "metadata": {},
     "output_type": "execute_result"
    }
   ],
   "source": [
    "nn_learner.train_loop(dl)"
   ]
  },
  {
   "cell_type": "code",
   "execution_count": 23,
   "id": "e0163366",
   "metadata": {
    "execution": {
     "iopub.execute_input": "2021-11-13T20:09:38.685153Z",
     "iopub.status.busy": "2021-11-13T20:09:38.684488Z",
     "iopub.status.idle": "2021-11-13T20:09:56.889090Z",
     "shell.execute_reply": "2021-11-13T20:09:56.889971Z"
    },
    "papermill": {
     "duration": 18.256495,
     "end_time": "2021-11-13T20:09:56.890140",
     "exception": false,
     "start_time": "2021-11-13T20:09:38.633645",
     "status": "completed"
    },
    "tags": []
   },
   "outputs": [
    {
     "name": "stdout",
     "output_type": "stream",
     "text": [
      "Epoch 0, Loss 0.2166\n",
      "Training Accuracy: 0.7850, Testing Accuracy: 0.7732\n",
      "\n"
     ]
    },
    {
     "name": "stdout",
     "output_type": "stream",
     "text": [
      "Epoch 10, Loss 0.0963\n",
      "Training Accuracy: 0.9241, Testing Accuracy: 0.9304\n",
      "\n"
     ]
    },
    {
     "name": "stdout",
     "output_type": "stream",
     "text": [
      "Epoch 20, Loss 0.0752\n",
      "Training Accuracy: 0.9340, Testing Accuracy: 0.9466\n",
      "\n"
     ]
    },
    {
     "name": "stdout",
     "output_type": "stream",
     "text": [
      "Epoch 30, Loss 0.0655\n",
      "Training Accuracy: 0.9401, Testing Accuracy: 0.9506\n",
      "\n"
     ]
    },
    {
     "name": "stdout",
     "output_type": "stream",
     "text": [
      "Epoch 40, Loss 0.0596\n",
      "Training Accuracy: 0.9456, Testing Accuracy: 0.9531\n",
      "\n"
     ]
    },
    {
     "name": "stdout",
     "output_type": "stream",
     "text": [
      "Epoch 50, Loss 0.0555\n",
      "Training Accuracy: 0.9481, Testing Accuracy: 0.9546\n",
      "\n"
     ]
    },
    {
     "name": "stdout",
     "output_type": "stream",
     "text": [
      "Epoch 60, Loss 0.0525\n",
      "Training Accuracy: 0.9495, Testing Accuracy: 0.9572\n",
      "\n"
     ]
    },
    {
     "name": "stdout",
     "output_type": "stream",
     "text": [
      "Epoch 70, Loss 0.0501\n",
      "Training Accuracy: 0.9512, Testing Accuracy: 0.9597\n",
      "\n"
     ]
    },
    {
     "name": "stdout",
     "output_type": "stream",
     "text": [
      "Epoch 80, Loss 0.0482\n",
      "Training Accuracy: 0.9537, Testing Accuracy: 0.9597\n",
      "\n"
     ]
    },
    {
     "name": "stdout",
     "output_type": "stream",
     "text": [
      "Epoch 90, Loss 0.0466\n",
      "Training Accuracy: 0.9542, Testing Accuracy: 0.9617\n",
      "\n"
     ]
    },
    {
     "name": "stdout",
     "output_type": "stream",
     "text": [
      "Epoch 100, Loss 0.0453\n",
      "Training Accuracy: 0.9557, Testing Accuracy: 0.9632\n",
      "\n"
     ]
    },
    {
     "name": "stdout",
     "output_type": "stream",
     "text": [
      "Epoch 110, Loss 0.0442\n",
      "Training Accuracy: 0.9566, Testing Accuracy: 0.9647\n",
      "\n"
     ]
    },
    {
     "name": "stdout",
     "output_type": "stream",
     "text": [
      "Epoch 120, Loss 0.0432\n",
      "Training Accuracy: 0.9570, Testing Accuracy: 0.9652\n",
      "\n"
     ]
    },
    {
     "name": "stdout",
     "output_type": "stream",
     "text": [
      "Epoch 130, Loss 0.0423\n",
      "Training Accuracy: 0.9578, Testing Accuracy: 0.9672\n",
      "\n"
     ]
    },
    {
     "name": "stdout",
     "output_type": "stream",
     "text": [
      "Epoch 140, Loss 0.0415\n",
      "Training Accuracy: 0.9584, Testing Accuracy: 0.9672\n",
      "\n"
     ]
    },
    {
     "name": "stdout",
     "output_type": "stream",
     "text": [
      "Epoch 150, Loss 0.0408\n",
      "Training Accuracy: 0.9586, Testing Accuracy: 0.9672\n",
      "\n"
     ]
    },
    {
     "name": "stdout",
     "output_type": "stream",
     "text": [
      "Epoch 160, Loss 0.0401\n",
      "Training Accuracy: 0.9590, Testing Accuracy: 0.9667\n",
      "\n"
     ]
    },
    {
     "name": "stdout",
     "output_type": "stream",
     "text": [
      "Epoch 170, Loss 0.0396\n",
      "Training Accuracy: 0.9594, Testing Accuracy: 0.9672\n",
      "\n"
     ]
    },
    {
     "name": "stdout",
     "output_type": "stream",
     "text": [
      "Epoch 180, Loss 0.039\n",
      "Training Accuracy: 0.9595, Testing Accuracy: 0.9667\n",
      "\n"
     ]
    },
    {
     "name": "stdout",
     "output_type": "stream",
     "text": [
      "Epoch 190, Loss 0.0385\n",
      "Training Accuracy: 0.9599, Testing Accuracy: 0.9662\n",
      "\n"
     ]
    },
    {
     "name": "stdout",
     "output_type": "stream",
     "text": [
      "Epoch 200, Loss 0.0381\n",
      "Training Accuracy: 0.9602, Testing Accuracy: 0.9672\n",
      "\n"
     ]
    },
    {
     "name": "stdout",
     "output_type": "stream",
     "text": [
      "Epoch 210, Loss 0.0376\n",
      "Training Accuracy: 0.9605, Testing Accuracy: 0.9672\n",
      "\n"
     ]
    },
    {
     "name": "stdout",
     "output_type": "stream",
     "text": [
      "Epoch 220, Loss 0.0373\n",
      "Training Accuracy: 0.9607, Testing Accuracy: 0.9677\n",
      "\n"
     ]
    },
    {
     "name": "stdout",
     "output_type": "stream",
     "text": [
      "Epoch 230, Loss 0.0369\n",
      "Training Accuracy: 0.9606, Testing Accuracy: 0.9677\n",
      "\n"
     ]
    },
    {
     "name": "stdout",
     "output_type": "stream",
     "text": [
      "Epoch 240, Loss 0.0365\n",
      "Training Accuracy: 0.9609, Testing Accuracy: 0.9688\n",
      "\n"
     ]
    },
    {
     "data": {
      "text/plain": [
       "0.03671769265038484"
      ]
     },
     "execution_count": 23,
     "metadata": {},
     "output_type": "execute_result"
    }
   ],
   "source": [
    "lr_learner.train_loop(dl)"
   ]
  },
  {
   "cell_type": "code",
   "execution_count": 24,
   "id": "ca410940",
   "metadata": {
    "execution": {
     "iopub.execute_input": "2021-11-13T20:09:57.003306Z",
     "iopub.status.busy": "2021-11-13T20:09:57.002600Z",
     "iopub.status.idle": "2021-11-13T20:09:57.288317Z",
     "shell.execute_reply": "2021-11-13T20:09:57.289009Z"
    },
    "papermill": {
     "duration": 0.343693,
     "end_time": "2021-11-13T20:09:57.289185",
     "exception": false,
     "start_time": "2021-11-13T20:09:56.945492",
     "status": "completed"
    },
    "tags": []
   },
   "outputs": [
    {
     "data": {
      "text/plain": [
       "<matplotlib.legend.Legend at 0x7f030fbba748>"
      ]
     },
     "execution_count": 24,
     "metadata": {},
     "output_type": "execute_result"
    },
    {
     "data": {
      "image/png": "[encoded data removed]",
      "text/plain": [
       "<Figure size 1080x720 with 1 Axes>"
      ]
     },
     "metadata": {
      "needs_background": "light"
     },
     "output_type": "display_data"
    }
   ],
   "source": [
    "#comparing the results of NN and LR\n",
    "plt.figure(figsize=(15,10))\n",
    "\n",
    "# Neural Network plots\n",
    "plt.plot(acc_nn.accuracies, 'r-', label = \"Training Accuracies - NN\")\n",
    "plt.plot(acc_nn.test_accuracies, 'g-', label = \"Testing Accuracies - NN\")\n",
    "\n",
    "# Logistic Regression plots\n",
    "plt.plot(acc_lr.accuracies, 'k-', label = \"Training Accuracies - LR\")\n",
    "plt.plot(acc_lr.test_accuracies, 'b-', label = \"Testing Accuracies - LR\")\n",
    "plt.legend()"
   ]
  },
  {
   "cell_type": "markdown",
   "id": "80dfb35c",
   "metadata": {
    "papermill": {
     "duration": 0.053377,
     "end_time": "2021-11-13T20:09:57.395899",
     "exception": false,
     "start_time": "2021-11-13T20:09:57.342522",
     "status": "completed"
    },
    "tags": []
   },
   "source": [
    "#### Plotting the outputs of this layer of the NN.\n"
   ]
  },
  {
   "cell_type": "code",
   "execution_count": 25,
   "id": "45eb2ff5",
   "metadata": {
    "execution": {
     "iopub.execute_input": "2021-11-13T20:09:57.502263Z",
     "iopub.status.busy": "2021-11-13T20:09:57.501586Z",
     "iopub.status.idle": "2021-11-13T20:09:57.527410Z",
     "shell.execute_reply": "2021-11-13T20:09:57.528061Z"
    },
    "papermill": {
     "duration": 0.080151,
     "end_time": "2021-11-13T20:09:57.528246",
     "exception": false,
     "start_time": "2021-11-13T20:09:57.448095",
     "status": "completed"
    },
    "tags": []
   },
   "outputs": [],
   "source": [
    "new_model = Model(layers[:-2])\n",
    "testing_plot = new_model(testing_data_x)"
   ]
  },
  {
   "cell_type": "code",
   "execution_count": 26,
   "id": "4c0a5485",
   "metadata": {
    "execution": {
     "iopub.execute_input": "2021-11-13T20:09:57.650081Z",
     "iopub.status.busy": "2021-11-13T20:09:57.646074Z",
     "iopub.status.idle": "2021-11-13T20:09:57.914314Z",
     "shell.execute_reply": "2021-11-13T20:09:57.914809Z"
    },
    "papermill": {
     "duration": 0.333334,
     "end_time": "2021-11-13T20:09:57.914968",
     "exception": false,
     "start_time": "2021-11-13T20:09:57.581634",
     "status": "completed"
    },
    "tags": []
   },
   "outputs": [
    {
     "data": {
      "text/plain": [
       "Text(0.5, 1.0, 'Outputs')"
      ]
     },
     "execution_count": 26,
     "metadata": {},
     "output_type": "execute_result"
    },
    {
     "data": {
      "image/png": "[encoded data removed]",
      "text/plain": [
       "<Figure size 576x504 with 1 Axes>"
      ]
     },
     "metadata": {
      "needs_background": "light"
     },
     "output_type": "display_data"
    }
   ],
   "source": [
    "# Plotting the scatter plot of points and color coding by class\n",
    "plt.figure(figsize=(8,7))\n",
    "plt.scatter(testing_plot[:,0], testing_plot[:,1], alpha = 0.1, c = y_test.ravel());\n",
    "plt.title('Outputs')"
   ]
  },
  {
   "cell_type": "markdown",
   "id": "a74fcf8f",
   "metadata": {
    "papermill": {
     "duration": 0.054519,
     "end_time": "2021-11-13T20:09:58.021626",
     "exception": false,
     "start_time": "2021-11-13T20:09:57.967107",
     "status": "completed"
    },
    "tags": []
   },
   "source": [
    "Probability contours"
   ]
  },
  {
   "cell_type": "code",
   "execution_count": 27,
   "id": "d0afc8e3",
   "metadata": {
    "execution": {
     "iopub.execute_input": "2021-11-13T20:09:58.164769Z",
     "iopub.status.busy": "2021-11-13T20:09:58.164112Z",
     "iopub.status.idle": "2021-11-13T20:09:58.176986Z",
     "shell.execute_reply": "2021-11-13T20:09:58.177551Z"
    },
    "papermill": {
     "duration": 0.0722,
     "end_time": "2021-11-13T20:09:58.177711",
     "exception": false,
     "start_time": "2021-11-13T20:09:58.105511",
     "status": "completed"
    },
    "tags": []
   },
   "outputs": [],
   "source": [
    "model_prob = Model(layers[-2:]) "
   ]
  },
  {
   "cell_type": "code",
   "execution_count": 28,
   "id": "9b96e238",
   "metadata": {
    "execution": {
     "iopub.execute_input": "2021-11-13T20:09:58.288441Z",
     "iopub.status.busy": "2021-11-13T20:09:58.287757Z",
     "iopub.status.idle": "2021-11-13T20:09:58.300457Z",
     "shell.execute_reply": "2021-11-13T20:09:58.300976Z"
    },
    "papermill": {
     "duration": 0.072215,
     "end_time": "2021-11-13T20:09:58.301148",
     "exception": false,
     "start_time": "2021-11-13T20:09:58.228933",
     "status": "completed"
    },
    "tags": []
   },
   "outputs": [],
   "source": [
    "#creating the x and y ranges according to the above generated plot.\n",
    "x_range = np.linspace(-4, 1, 100) \n",
    "y_range = np.linspace(-6, 6, 100) \n",
    "x_grid, y_grid = np.meshgrid(x_range, y_range) # x_grid and y_grig are of size 100 X 100\n",
    "\n",
    "# converting x_grid and y_grid to continuous arrays\n",
    "x_gridflat = np.ravel(x_grid)\n",
    "y_gridflat = np.ravel(y_grid)\n",
    "\n",
    "# The last layer of the current model takes two columns as input. Hence transpose of np.vstack() is required.\n",
    "X = np.vstack((x_gridflat, y_gridflat)).T\n",
    "\n",
    "prob_contour = model_prob(X).reshape(100,100) "
   ]
  },
  {
   "cell_type": "code",
   "execution_count": 29,
   "id": "da72499a",
   "metadata": {
    "execution": {
     "iopub.execute_input": "2021-11-13T20:09:58.419113Z",
     "iopub.status.busy": "2021-11-13T20:09:58.418465Z",
     "iopub.status.idle": "2021-11-13T20:09:58.742643Z",
     "shell.execute_reply": "2021-11-13T20:09:58.743162Z"
    },
    "papermill": {
     "duration": 0.385466,
     "end_time": "2021-11-13T20:09:58.743329",
     "exception": false,
     "start_time": "2021-11-13T20:09:58.357863",
     "status": "completed"
    },
    "tags": []
   },
   "outputs": [
    {
     "data": {
      "image/png": "[encoded data removed]",
      "text/plain": [
       "<Figure size 720x648 with 1 Axes>"
      ]
     },
     "metadata": {
      "needs_background": "light"
     },
     "output_type": "display_data"
    }
   ],
   "source": [
    "plt.figure(figsize=(10,9))\n",
    "plt.scatter(testing_plot[:,0], testing_plot[:,1], alpha = 0.1, c = y_test.ravel())\n",
    "contours = plt.contour(x_grid,y_grid,prob_contour)\n",
    "plt.title('Probability Contours')\n",
    "plt.clabel(contours, inline = True );"
   ]
  },
  {
   "cell_type": "code",
   "execution_count": null,
   "id": "e81b4ac7",
   "metadata": {
    "papermill": {
     "duration": 0.05493,
     "end_time": "2021-11-13T20:09:58.852038",
     "exception": false,
     "start_time": "2021-11-13T20:09:58.797108",
     "status": "completed"
    },
    "tags": []
   },
   "outputs": [],
   "source": []
  }
 ],
 "metadata": {
  "kernelspec": {
   "display_name": "Python 3",
   "language": "python",
   "name": "python3"
  },
  "language_info": {
   "codemirror_mode": {
    "name": "ipython",
    "version": 3
   },
   "file_extension": ".py",
   "mimetype": "text/x-python",
   "name": "python",
   "nbconvert_exporter": "python",
   "pygments_lexer": "ipython3",
   "version": "3.6.15"
  },
  "papermill": {
   "default_parameters": {},
   "duration": 153.491049,
   "end_time": "2021-11-13T20:09:59.316861",
   "environment_variables": {},
   "exception": null,
   "input_path": "2020-08-11-part2.ipynb",
   "output_path": "2020-08-11-part2.ipynb",
   "parameters": {},
   "start_time": "2021-11-13T20:07:25.825812",
   "version": "2.3.3"
  }
 },
 "nbformat": 4,
 "nbformat_minor": 5
}