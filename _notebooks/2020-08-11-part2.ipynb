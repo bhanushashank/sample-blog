{
 "cells": [
  {
   "cell_type": "markdown",
   "id": "98380cd3",
   "metadata": {
    "papermill": {
     "duration": 0.02923,
     "end_time": "2022-06-25T10:09:01.311943",
     "exception": false,
     "start_time": "2022-06-25T10:09:01.282713",
     "status": "completed"
    },
    "tags": []
   },
   "source": [
    "# Distinguish Your Own Digits (DYOD)"
   ]
  },
  {
   "cell_type": "markdown",
   "id": "ef31240d",
   "metadata": {
    "papermill": {
     "duration": 0.02381,
     "end_time": "2022-06-25T10:09:01.360171",
     "exception": false,
     "start_time": "2022-06-25T10:09:01.336361",
     "status": "completed"
    },
    "tags": []
   },
   "source": [
    "You are going to write a classifier that distinguishes between the number 3 and number 8."
   ]
  },
  {
   "cell_type": "code",
   "execution_count": 1,
   "id": "b15c8646",
   "metadata": {
    "execution": {
     "iopub.execute_input": "2022-06-25T10:09:01.417784Z",
     "iopub.status.busy": "2022-06-25T10:09:01.417200Z",
     "iopub.status.idle": "2022-06-25T10:09:01.429120Z",
     "shell.execute_reply": "2022-06-25T10:09:01.429543Z"
    },
    "papermill": {
     "duration": 0.045731,
     "end_time": "2022-06-25T10:09:01.429689",
     "exception": false,
     "start_time": "2022-06-25T10:09:01.383958",
     "status": "completed"
    },
    "tags": []
   },
   "outputs": [],
   "source": [
    "%load_ext autoreload\n",
    "%autoreload 2"
   ]
  },
  {
   "cell_type": "code",
   "execution_count": 2,
   "id": "22ef38dc",
   "metadata": {
    "execution": {
     "iopub.execute_input": "2022-06-25T10:09:01.485239Z",
     "iopub.status.busy": "2022-06-25T10:09:01.481195Z",
     "iopub.status.idle": "2022-06-25T10:09:01.984750Z",
     "shell.execute_reply": "2022-06-25T10:09:01.984233Z"
    },
    "papermill": {
     "duration": 0.531089,
     "end_time": "2022-06-25T10:09:01.984868",
     "exception": false,
     "start_time": "2022-06-25T10:09:01.453779",
     "status": "completed"
    },
    "tags": []
   },
   "outputs": [],
   "source": [
    "%matplotlib inline\n",
    "import numpy as np\n",
    "import matplotlib.pyplot as plt\n",
    "import pandas as pd"
   ]
  },
  {
   "cell_type": "markdown",
   "id": "ba036198",
   "metadata": {
    "papermill": {
     "duration": 0.023777,
     "end_time": "2022-06-25T10:09:02.032415",
     "exception": false,
     "start_time": "2022-06-25T10:09:02.008638",
     "status": "completed"
    },
    "tags": []
   },
   "source": [
    "From the command line run `pip install mnist`. This is a library that will help you bring down the mnist dataset. If you run this from a notebook, you need to put  `!pip install mnist` in a cell by itself."
   ]
  },
  {
   "cell_type": "code",
   "execution_count": 3,
   "id": "bb6ad8a1",
   "metadata": {
    "execution": {
     "iopub.execute_input": "2022-06-25T10:09:02.083520Z",
     "iopub.status.busy": "2022-06-25T10:09:02.082965Z",
     "iopub.status.idle": "2022-06-25T10:09:03.720700Z",
     "shell.execute_reply": "2022-06-25T10:09:03.719409Z"
    },
    "papermill": {
     "duration": 1.66467,
     "end_time": "2022-06-25T10:09:03.720820",
     "exception": false,
     "start_time": "2022-06-25T10:09:02.056150",
     "status": "completed"
    },
    "tags": []
   },
   "outputs": [
    {
     "name": "stdout",
     "output_type": "stream",
     "text": [
      "Collecting mnist\r\n"
     ]
    },
    {
     "name": "stdout",
     "output_type": "stream",
     "text": [
      "  Downloading mnist-0.2.2-py2.py3-none-any.whl (3.5 kB)\r\n",
      "Requirement already satisfied: numpy in /opt/hostedtoolcache/Python/3.6.15/x64/lib/python3.6/site-packages (from mnist) (1.19.5)\r\n"
     ]
    },
    {
     "name": "stdout",
     "output_type": "stream",
     "text": [
      "Installing collected packages: mnist\r\n"
     ]
    },
    {
     "name": "stdout",
     "output_type": "stream",
     "text": [
      "Successfully installed mnist-0.2.2\r\n"
     ]
    }
   ],
   "source": [
    "!pip install mnist"
   ]
  },
  {
   "cell_type": "markdown",
   "id": "69df9c9a",
   "metadata": {
    "papermill": {
     "duration": 0.02482,
     "end_time": "2022-06-25T10:09:03.770678",
     "exception": false,
     "start_time": "2022-06-25T10:09:03.745858",
     "status": "completed"
    },
    "tags": []
   },
   "source": [
    "## Preparing the Data"
   ]
  },
  {
   "cell_type": "code",
   "execution_count": 4,
   "id": "7f69d806",
   "metadata": {
    "execution": {
     "iopub.execute_input": "2022-06-25T10:09:03.824172Z",
     "iopub.status.busy": "2022-06-25T10:09:03.823610Z",
     "iopub.status.idle": "2022-06-25T10:09:03.837298Z",
     "shell.execute_reply": "2022-06-25T10:09:03.836839Z"
    },
    "papermill": {
     "duration": 0.04216,
     "end_time": "2022-06-25T10:09:03.837399",
     "exception": false,
     "start_time": "2022-06-25T10:09:03.795239",
     "status": "completed"
    },
    "tags": []
   },
   "outputs": [],
   "source": [
    "import mnist"
   ]
  },
  {
   "cell_type": "code",
   "execution_count": 5,
   "id": "a411e44f",
   "metadata": {
    "execution": {
     "iopub.execute_input": "2022-06-25T10:09:03.890130Z",
     "iopub.status.busy": "2022-06-25T10:09:03.889573Z",
     "iopub.status.idle": "2022-06-25T10:09:05.614645Z",
     "shell.execute_reply": "2022-06-25T10:09:05.614164Z"
    },
    "papermill": {
     "duration": 1.752617,
     "end_time": "2022-06-25T10:09:05.614761",
     "exception": false,
     "start_time": "2022-06-25T10:09:03.862144",
     "status": "completed"
    },
    "tags": []
   },
   "outputs": [],
   "source": [
    "train_images = mnist.train_images()\n",
    "train_labels = mnist.train_labels()"
   ]
  },
  {
   "cell_type": "code",
   "execution_count": 6,
   "id": "dceab3a5",
   "metadata": {
    "execution": {
     "iopub.execute_input": "2022-06-25T10:09:05.668234Z",
     "iopub.status.busy": "2022-06-25T10:09:05.667680Z",
     "iopub.status.idle": "2022-06-25T10:09:05.682615Z",
     "shell.execute_reply": "2022-06-25T10:09:05.682068Z"
    },
    "papermill": {
     "duration": 0.042703,
     "end_time": "2022-06-25T10:09:05.682716",
     "exception": false,
     "start_time": "2022-06-25T10:09:05.640013",
     "status": "completed"
    },
    "tags": []
   },
   "outputs": [
    {
     "data": {
      "text/plain": [
       "((60000, 28, 28), (60000,))"
      ]
     },
     "execution_count": 6,
     "metadata": {},
     "output_type": "execute_result"
    }
   ],
   "source": [
    "train_images.shape, train_labels.shape"
   ]
  },
  {
   "cell_type": "code",
   "execution_count": 7,
   "id": "f50dc2bb",
   "metadata": {
    "execution": {
     "iopub.execute_input": "2022-06-25T10:09:05.736150Z",
     "iopub.status.busy": "2022-06-25T10:09:05.735593Z",
     "iopub.status.idle": "2022-06-25T10:09:05.875659Z",
     "shell.execute_reply": "2022-06-25T10:09:05.875145Z"
    },
    "papermill": {
     "duration": 0.168031,
     "end_time": "2022-06-25T10:09:05.875769",
     "exception": false,
     "start_time": "2022-06-25T10:09:05.707738",
     "status": "completed"
    },
    "tags": []
   },
   "outputs": [],
   "source": [
    "test_images = mnist.test_images()\n",
    "test_labels = mnist.test_labels()"
   ]
  },
  {
   "cell_type": "code",
   "execution_count": 8,
   "id": "fc38cf1b",
   "metadata": {
    "execution": {
     "iopub.execute_input": "2022-06-25T10:09:05.930068Z",
     "iopub.status.busy": "2022-06-25T10:09:05.929517Z",
     "iopub.status.idle": "2022-06-25T10:09:05.942314Z",
     "shell.execute_reply": "2022-06-25T10:09:05.941851Z"
    },
    "papermill": {
     "duration": 0.04119,
     "end_time": "2022-06-25T10:09:05.942413",
     "exception": false,
     "start_time": "2022-06-25T10:09:05.901223",
     "status": "completed"
    },
    "tags": []
   },
   "outputs": [
    {
     "data": {
      "text/plain": [
       "((10000, 28, 28), (10000,))"
      ]
     },
     "execution_count": 8,
     "metadata": {},
     "output_type": "execute_result"
    }
   ],
   "source": [
    "test_images.shape, test_labels.shape"
   ]
  },
  {
   "cell_type": "code",
   "execution_count": 9,
   "id": "f9ed8fe0",
   "metadata": {
    "execution": {
     "iopub.execute_input": "2022-06-25T10:09:05.996407Z",
     "iopub.status.busy": "2022-06-25T10:09:05.995836Z",
     "iopub.status.idle": "2022-06-25T10:09:06.126835Z",
     "shell.execute_reply": "2022-06-25T10:09:06.127264Z"
    },
    "papermill": {
     "duration": 0.159803,
     "end_time": "2022-06-25T10:09:06.127389",
     "exception": false,
     "start_time": "2022-06-25T10:09:05.967586",
     "status": "completed"
    },
    "tags": []
   },
   "outputs": [
    {
     "name": "stdout",
     "output_type": "stream",
     "text": [
      "2\n"
     ]
    },
    {
     "data": {
      "text/plain": [
       "<matplotlib.image.AxesImage at 0x7f6e4095e390>"
      ]
     },
     "execution_count": 9,
     "metadata": {},
     "output_type": "execute_result"
    },
    {
     "data": {
      "image/png": "[encoded data removed]",
      "text/plain": [
       "<Figure size 432x288 with 1 Axes>"
      ]
     },
     "metadata": {
      "needs_background": "light"
     },
     "output_type": "display_data"
    }
   ],
   "source": [
    "image_index = 7776 # You may select anything up to 60,000\n",
    "print(train_labels[image_index]) \n",
    "plt.imshow(train_images[image_index], cmap='Greys')"
   ]
  },
  {
   "cell_type": "markdown",
   "id": "a8d2388d",
   "metadata": {
    "papermill": {
     "duration": 0.02683,
     "end_time": "2022-06-25T10:09:06.180808",
     "exception": false,
     "start_time": "2022-06-25T10:09:06.153978",
     "status": "completed"
    },
    "tags": []
   },
   "source": [
    "## Filter data to get 3 and 8 out"
   ]
  },
  {
   "cell_type": "code",
   "execution_count": 10,
   "id": "776f7fc7",
   "metadata": {
    "execution": {
     "iopub.execute_input": "2022-06-25T10:09:06.237970Z",
     "iopub.status.busy": "2022-06-25T10:09:06.237403Z",
     "iopub.status.idle": "2022-06-25T10:09:06.252167Z",
     "shell.execute_reply": "2022-06-25T10:09:06.251702Z"
    },
    "papermill": {
     "duration": 0.044875,
     "end_time": "2022-06-25T10:09:06.252270",
     "exception": false,
     "start_time": "2022-06-25T10:09:06.207395",
     "status": "completed"
    },
    "tags": []
   },
   "outputs": [],
   "source": [
    "train_filter = np.where((train_labels == 3 ) | (train_labels == 8))\n",
    "test_filter = np.where((test_labels == 3) | (test_labels == 8))\n",
    "X_train, y_train = train_images[train_filter], train_labels[train_filter]\n",
    "X_test, y_test = test_images[test_filter], test_labels[test_filter]"
   ]
  },
  {
   "cell_type": "markdown",
   "id": "948f0b7e",
   "metadata": {
    "papermill": {
     "duration": 0.026641,
     "end_time": "2022-06-25T10:09:06.305483",
     "exception": false,
     "start_time": "2022-06-25T10:09:06.278842",
     "status": "completed"
    },
    "tags": []
   },
   "source": [
    "We normalize the pizel values in the 0 to 1 range"
   ]
  },
  {
   "cell_type": "code",
   "execution_count": 11,
   "id": "ee4c2166",
   "metadata": {
    "execution": {
     "iopub.execute_input": "2022-06-25T10:09:06.361574Z",
     "iopub.status.busy": "2022-06-25T10:09:06.361012Z",
     "iopub.status.idle": "2022-06-25T10:09:06.401574Z",
     "shell.execute_reply": "2022-06-25T10:09:06.401994Z"
    },
    "papermill": {
     "duration": 0.070395,
     "end_time": "2022-06-25T10:09:06.402125",
     "exception": false,
     "start_time": "2022-06-25T10:09:06.331730",
     "status": "completed"
    },
    "tags": []
   },
   "outputs": [],
   "source": [
    "X_train = X_train/255.\n",
    "X_test = X_test/255."
   ]
  },
  {
   "cell_type": "markdown",
   "id": "ddcf4fab",
   "metadata": {
    "papermill": {
     "duration": 0.026483,
     "end_time": "2022-06-25T10:09:06.455202",
     "exception": false,
     "start_time": "2022-06-25T10:09:06.428719",
     "status": "completed"
    },
    "tags": []
   },
   "source": [
    "And setup the labels as 1 (when the digit is 3) and 0 (when the digit is 8)"
   ]
  },
  {
   "cell_type": "code",
   "execution_count": 12,
   "id": "7dc908f2",
   "metadata": {
    "execution": {
     "iopub.execute_input": "2022-06-25T10:09:06.512114Z",
     "iopub.status.busy": "2022-06-25T10:09:06.511556Z",
     "iopub.status.idle": "2022-06-25T10:09:06.522761Z",
     "shell.execute_reply": "2022-06-25T10:09:06.523173Z"
    },
    "papermill": {
     "duration": 0.041672,
     "end_time": "2022-06-25T10:09:06.523294",
     "exception": false,
     "start_time": "2022-06-25T10:09:06.481622",
     "status": "completed"
    },
    "tags": []
   },
   "outputs": [],
   "source": [
    "y_train = 1*(y_train==3)\n",
    "y_test = 1*(y_test==3)"
   ]
  },
  {
   "cell_type": "code",
   "execution_count": 13,
   "id": "01e4e969",
   "metadata": {
    "execution": {
     "iopub.execute_input": "2022-06-25T10:09:06.579502Z",
     "iopub.status.busy": "2022-06-25T10:09:06.578960Z",
     "iopub.status.idle": "2022-06-25T10:09:06.591927Z",
     "shell.execute_reply": "2022-06-25T10:09:06.591387Z"
    },
    "papermill": {
     "duration": 0.042402,
     "end_time": "2022-06-25T10:09:06.592023",
     "exception": false,
     "start_time": "2022-06-25T10:09:06.549621",
     "status": "completed"
    },
    "tags": []
   },
   "outputs": [
    {
     "data": {
      "text/plain": [
       "((11982, 28, 28), (1984, 28, 28))"
      ]
     },
     "execution_count": 13,
     "metadata": {},
     "output_type": "execute_result"
    }
   ],
   "source": [
    "X_train.shape, X_test.shape"
   ]
  },
  {
   "cell_type": "markdown",
   "id": "5ccf3f85",
   "metadata": {
    "papermill": {
     "duration": 0.026873,
     "end_time": "2022-06-25T10:09:06.645293",
     "exception": false,
     "start_time": "2022-06-25T10:09:06.618420",
     "status": "completed"
    },
    "tags": []
   },
   "source": [
    "We reshape the data to flatten the image pixels into a set of features or co-variates:"
   ]
  },
  {
   "cell_type": "code",
   "execution_count": 14,
   "id": "5286a4a3",
   "metadata": {
    "execution": {
     "iopub.execute_input": "2022-06-25T10:09:06.702993Z",
     "iopub.status.busy": "2022-06-25T10:09:06.702429Z",
     "iopub.status.idle": "2022-06-25T10:09:06.715241Z",
     "shell.execute_reply": "2022-06-25T10:09:06.715658Z"
    },
    "papermill": {
     "duration": 0.043773,
     "end_time": "2022-06-25T10:09:06.715774",
     "exception": false,
     "start_time": "2022-06-25T10:09:06.672001",
     "status": "completed"
    },
    "tags": []
   },
   "outputs": [
    {
     "data": {
      "text/plain": [
       "((11982, 784), (1984, 784))"
      ]
     },
     "execution_count": 14,
     "metadata": {},
     "output_type": "execute_result"
    }
   ],
   "source": [
    "X_train = X_train.reshape(X_train.shape[0], -1)\n",
    "X_test = X_test.reshape(X_test.shape[0], -1)\n",
    "X_train.shape, X_test.shape"
   ]
  },
  {
   "cell_type": "code",
   "execution_count": 15,
   "id": "73c5f88a",
   "metadata": {
    "execution": {
     "iopub.execute_input": "2022-06-25T10:09:06.773348Z",
     "iopub.status.busy": "2022-06-25T10:09:06.772791Z",
     "iopub.status.idle": "2022-06-25T10:09:06.790304Z",
     "shell.execute_reply": "2022-06-25T10:09:06.790725Z"
    },
    "papermill": {
     "duration": 0.048311,
     "end_time": "2022-06-25T10:09:06.790838",
     "exception": false,
     "start_time": "2022-06-25T10:09:06.742527",
     "status": "completed"
    },
    "tags": []
   },
   "outputs": [],
   "source": [
    "#Impoting functions from 'Kudzu'\n",
    "from kudzu.model import Model\n",
    "from kudzu.train import Learner\n",
    "from kudzu.optim import GD\n",
    "from kudzu.data import Data, Sampler,Dataloader\n",
    "\n",
    "from kudzu.callbacks import AccCallback\n",
    "from kudzu.callbacks import ClfCallback\n",
    "\n",
    "from kudzu.loss import MSE\n",
    "\n",
    "from kudzu.layer import Sigmoid,Relu\n",
    "from kudzu.layer import Affine"
   ]
  },
  {
   "cell_type": "markdown",
   "id": "bc01172a",
   "metadata": {
    "papermill": {
     "duration": 0.026776,
     "end_time": "2022-06-25T10:09:06.844448",
     "exception": false,
     "start_time": "2022-06-25T10:09:06.817672",
     "status": "completed"
    },
    "tags": []
   },
   "source": [
    "### Let us create a `Config` class, to store important parameters. \n",
    "This class essentially plays the role of a dictionary."
   ]
  },
  {
   "cell_type": "code",
   "execution_count": 16,
   "id": "978281aa",
   "metadata": {
    "execution": {
     "iopub.execute_input": "2022-06-25T10:09:06.901777Z",
     "iopub.status.busy": "2022-06-25T10:09:06.901217Z",
     "iopub.status.idle": "2022-06-25T10:09:06.912839Z",
     "shell.execute_reply": "2022-06-25T10:09:06.912276Z"
    },
    "papermill": {
     "duration": 0.041752,
     "end_time": "2022-06-25T10:09:06.912940",
     "exception": false,
     "start_time": "2022-06-25T10:09:06.871188",
     "status": "completed"
    },
    "tags": []
   },
   "outputs": [],
   "source": [
    "class Config:\n",
    "    pass\n",
    "config = Config()\n",
    "config.lr = 0.001\n",
    "config.num_epochs = 250\n",
    "config.bs = 50"
   ]
  },
  {
   "cell_type": "markdown",
   "id": "1385fa59",
   "metadata": {
    "papermill": {
     "duration": 0.026701,
     "end_time": "2022-06-25T10:09:06.966413",
     "exception": false,
     "start_time": "2022-06-25T10:09:06.939712",
     "status": "completed"
    },
    "tags": []
   },
   "source": [
    "### Running Models with the Training data\n",
    "Details about the network layers:\n",
    "- A first affine layer has 784 inputs and does 100 affine transforms. These are followed by a Relu\n",
    "- A second affine layer has 100 inputs from the 100 activations of the past layer, and does 100 affine transforms. These are followed by a Relu\n",
    "- A third affine layer has 100 activations and does 2 affine transformations to create an embedding for visualization. There is no non-linearity here.\n",
    "- A final \"logistic regression\" which has an affine transform from 2 inputs to 1 output, which is squeezed through a sigmoid.\n"
   ]
  },
  {
   "cell_type": "code",
   "execution_count": 17,
   "id": "2b9c66db",
   "metadata": {
    "execution": {
     "iopub.execute_input": "2022-06-25T10:09:07.023755Z",
     "iopub.status.busy": "2022-06-25T10:09:07.023203Z",
     "iopub.status.idle": "2022-06-25T10:09:07.035415Z",
     "shell.execute_reply": "2022-06-25T10:09:07.034965Z"
    },
    "papermill": {
     "duration": 0.04226,
     "end_time": "2022-06-25T10:09:07.035510",
     "exception": false,
     "start_time": "2022-06-25T10:09:06.993250",
     "status": "completed"
    },
    "tags": []
   },
   "outputs": [],
   "source": [
    "data = Data(X_train, y_train.reshape(-1,1))\n",
    "sampler = Sampler(data, config.bs, shuffle=True)\n",
    "\n",
    "dl = Dataloader(data, sampler)\n",
    "\n",
    "opt = GD(config.lr)\n",
    "loss = MSE()"
   ]
  },
  {
   "cell_type": "code",
   "execution_count": 18,
   "id": "b275e4c2",
   "metadata": {
    "execution": {
     "iopub.execute_input": "2022-06-25T10:09:07.093113Z",
     "iopub.status.busy": "2022-06-25T10:09:07.092545Z",
     "iopub.status.idle": "2022-06-25T10:09:07.104088Z",
     "shell.execute_reply": "2022-06-25T10:09:07.104544Z"
    },
    "papermill": {
     "duration": 0.042354,
     "end_time": "2022-06-25T10:09:07.104666",
     "exception": false,
     "start_time": "2022-06-25T10:09:07.062312",
     "status": "completed"
    },
    "tags": []
   },
   "outputs": [],
   "source": [
    "training_data_x = X_train\n",
    "testing_data_x = X_test\n",
    "training_data_y = y_train.reshape(-1,1)\n",
    "testing_data_y = y_test.reshape(-1,1)"
   ]
  },
  {
   "cell_type": "code",
   "execution_count": 19,
   "id": "76951160",
   "metadata": {
    "execution": {
     "iopub.execute_input": "2022-06-25T10:09:07.162742Z",
     "iopub.status.busy": "2022-06-25T10:09:07.162177Z",
     "iopub.status.idle": "2022-06-25T10:09:07.178891Z",
     "shell.execute_reply": "2022-06-25T10:09:07.178334Z"
    },
    "papermill": {
     "duration": 0.047444,
     "end_time": "2022-06-25T10:09:07.178996",
     "exception": false,
     "start_time": "2022-06-25T10:09:07.131552",
     "status": "completed"
    },
    "tags": []
   },
   "outputs": [
    {
     "name": "stdout",
     "output_type": "stream",
     "text": [
      "xavier\n",
      "xavier\n",
      "xavier\n",
      "xavier\n",
      "xavier\n"
     ]
    }
   ],
   "source": [
    "layers = [Affine(\"first\", 784, 100), Relu(\"first\"), Affine(\"second\", 100, 100), Relu(\"second\"), Affine(\"third\", 100, 2), Affine(\"last\", 2, 1), Sigmoid(\"last\")]\n",
    "model_nn = Model(layers)\n",
    "model_lr = Model([Affine(\"logits\", 784, 1), Sigmoid(\"sigmoid\")])"
   ]
  },
  {
   "cell_type": "code",
   "execution_count": 20,
   "id": "6eede77a",
   "metadata": {
    "execution": {
     "iopub.execute_input": "2022-06-25T10:09:07.237898Z",
     "iopub.status.busy": "2022-06-25T10:09:07.237349Z",
     "iopub.status.idle": "2022-06-25T10:09:07.249653Z",
     "shell.execute_reply": "2022-06-25T10:09:07.249193Z"
    },
    "papermill": {
     "duration": 0.043154,
     "end_time": "2022-06-25T10:09:07.249753",
     "exception": false,
     "start_time": "2022-06-25T10:09:07.206599",
     "status": "completed"
    },
    "tags": []
   },
   "outputs": [],
   "source": [
    "nn_learner = Learner(loss, model_nn, opt, config.num_epochs)\n",
    "acc_nn = ClfCallback(nn_learner, config.bs, training_data_x , testing_data_x, training_data_y, testing_data_y)\n",
    "nn_learner.set_callbacks([acc_nn])"
   ]
  },
  {
   "cell_type": "code",
   "execution_count": 21,
   "id": "877b6cc7",
   "metadata": {
    "execution": {
     "iopub.execute_input": "2022-06-25T10:09:07.308830Z",
     "iopub.status.busy": "2022-06-25T10:09:07.308242Z",
     "iopub.status.idle": "2022-06-25T10:09:07.319797Z",
     "shell.execute_reply": "2022-06-25T10:09:07.319251Z"
    },
    "papermill": {
     "duration": 0.04281,
     "end_time": "2022-06-25T10:09:07.319898",
     "exception": false,
     "start_time": "2022-06-25T10:09:07.277088",
     "status": "completed"
    },
    "tags": []
   },
   "outputs": [],
   "source": [
    "lr_learner = Learner(loss, model_lr, opt, config.num_epochs)\n",
    "acc_lr = ClfCallback(lr_learner, config.bs, training_data_x , testing_data_x, training_data_y, testing_data_y)\n",
    "lr_learner.set_callbacks([acc_lr])"
   ]
  },
  {
   "cell_type": "code",
   "execution_count": 22,
   "id": "d9b133c3",
   "metadata": {
    "execution": {
     "iopub.execute_input": "2022-06-25T10:09:07.377867Z",
     "iopub.status.busy": "2022-06-25T10:09:07.377313Z",
     "iopub.status.idle": "2022-06-25T10:12:04.647629Z",
     "shell.execute_reply": "2022-06-25T10:12:04.648080Z"
    },
    "papermill": {
     "duration": 177.301012,
     "end_time": "2022-06-25T10:12:04.648208",
     "exception": false,
     "start_time": "2022-06-25T10:09:07.347196",
     "status": "completed"
    },
    "tags": []
   },
   "outputs": [
    {
     "name": "stdout",
     "output_type": "stream",
     "text": [
      "Epoch 0, Loss 0.2384\n",
      "Training Accuracy: 0.7484, Testing Accuracy: 0.7500\n",
      "\n"
     ]
    },
    {
     "name": "stdout",
     "output_type": "stream",
     "text": [
      "Epoch 10, Loss 0.0655\n",
      "Training Accuracy: 0.9362, Testing Accuracy: 0.9420\n",
      "\n"
     ]
    },
    {
     "name": "stdout",
     "output_type": "stream",
     "text": [
      "Epoch 20, Loss 0.0448\n",
      "Training Accuracy: 0.9545, Testing Accuracy: 0.9617\n",
      "\n"
     ]
    },
    {
     "name": "stdout",
     "output_type": "stream",
     "text": [
      "Epoch 30, Loss 0.037\n",
      "Training Accuracy: 0.9599, Testing Accuracy: 0.9642\n",
      "\n"
     ]
    },
    {
     "name": "stdout",
     "output_type": "stream",
     "text": [
      "Epoch 40, Loss 0.0328\n",
      "Training Accuracy: 0.9636, Testing Accuracy: 0.9662\n",
      "\n"
     ]
    },
    {
     "name": "stdout",
     "output_type": "stream",
     "text": [
      "Epoch 50, Loss 0.0302\n",
      "Training Accuracy: 0.9661, Testing Accuracy: 0.9677\n",
      "\n"
     ]
    },
    {
     "name": "stdout",
     "output_type": "stream",
     "text": [
      "Epoch 60, Loss 0.0283\n",
      "Training Accuracy: 0.9682, Testing Accuracy: 0.9677\n",
      "\n"
     ]
    },
    {
     "name": "stdout",
     "output_type": "stream",
     "text": [
      "Epoch 70, Loss 0.0267\n",
      "Training Accuracy: 0.9699, Testing Accuracy: 0.9703\n",
      "\n"
     ]
    },
    {
     "name": "stdout",
     "output_type": "stream",
     "text": [
      "Epoch 80, Loss 0.0255\n",
      "Training Accuracy: 0.9719, Testing Accuracy: 0.9708\n",
      "\n"
     ]
    },
    {
     "name": "stdout",
     "output_type": "stream",
     "text": [
      "Epoch 90, Loss 0.0245\n",
      "Training Accuracy: 0.9725, Testing Accuracy: 0.9708\n",
      "\n"
     ]
    },
    {
     "name": "stdout",
     "output_type": "stream",
     "text": [
      "Epoch 100, Loss 0.0235\n",
      "Training Accuracy: 0.9737, Testing Accuracy: 0.9708\n",
      "\n"
     ]
    },
    {
     "name": "stdout",
     "output_type": "stream",
     "text": [
      "Epoch 110, Loss 0.0227\n",
      "Training Accuracy: 0.9744, Testing Accuracy: 0.9718\n",
      "\n"
     ]
    },
    {
     "name": "stdout",
     "output_type": "stream",
     "text": [
      "Epoch 120, Loss 0.0219\n",
      "Training Accuracy: 0.9751, Testing Accuracy: 0.9733\n",
      "\n"
     ]
    },
    {
     "name": "stdout",
     "output_type": "stream",
     "text": [
      "Epoch 130, Loss 0.0212\n",
      "Training Accuracy: 0.9762, Testing Accuracy: 0.9738\n",
      "\n"
     ]
    },
    {
     "name": "stdout",
     "output_type": "stream",
     "text": [
      "Epoch 140, Loss 0.0206\n",
      "Training Accuracy: 0.9766, Testing Accuracy: 0.9738\n",
      "\n"
     ]
    },
    {
     "name": "stdout",
     "output_type": "stream",
     "text": [
      "Epoch 150, Loss 0.02\n",
      "Training Accuracy: 0.9770, Testing Accuracy: 0.9753\n",
      "\n"
     ]
    },
    {
     "name": "stdout",
     "output_type": "stream",
     "text": [
      "Epoch 160, Loss 0.0194\n",
      "Training Accuracy: 0.9777, Testing Accuracy: 0.9748\n",
      "\n"
     ]
    },
    {
     "name": "stdout",
     "output_type": "stream",
     "text": [
      "Epoch 170, Loss 0.0189\n",
      "Training Accuracy: 0.9786, Testing Accuracy: 0.9753\n",
      "\n"
     ]
    },
    {
     "name": "stdout",
     "output_type": "stream",
     "text": [
      "Epoch 180, Loss 0.0184\n",
      "Training Accuracy: 0.9792, Testing Accuracy: 0.9758\n",
      "\n"
     ]
    },
    {
     "name": "stdout",
     "output_type": "stream",
     "text": [
      "Epoch 190, Loss 0.0179\n",
      "Training Accuracy: 0.9799, Testing Accuracy: 0.9753\n",
      "\n"
     ]
    },
    {
     "name": "stdout",
     "output_type": "stream",
     "text": [
      "Epoch 200, Loss 0.0174\n",
      "Training Accuracy: 0.9805, Testing Accuracy: 0.9758\n",
      "\n"
     ]
    },
    {
     "name": "stdout",
     "output_type": "stream",
     "text": [
      "Epoch 210, Loss 0.017\n",
      "Training Accuracy: 0.9809, Testing Accuracy: 0.9758\n",
      "\n"
     ]
    },
    {
     "name": "stdout",
     "output_type": "stream",
     "text": [
      "Epoch 220, Loss 0.0166\n",
      "Training Accuracy: 0.9818, Testing Accuracy: 0.9763\n",
      "\n"
     ]
    },
    {
     "name": "stdout",
     "output_type": "stream",
     "text": [
      "Epoch 230, Loss 0.0162\n",
      "Training Accuracy: 0.9824, Testing Accuracy: 0.9763\n",
      "\n"
     ]
    },
    {
     "name": "stdout",
     "output_type": "stream",
     "text": [
      "Epoch 240, Loss 0.0158\n",
      "Training Accuracy: 0.9829, Testing Accuracy: 0.9778\n",
      "\n"
     ]
    },
    {
     "data": {
      "text/plain": [
       "0.0010818662590946202"
      ]
     },
     "execution_count": 22,
     "metadata": {},
     "output_type": "execute_result"
    }
   ],
   "source": [
    "nn_learner.train_loop(dl)"
   ]
  },
  {
   "cell_type": "code",
   "execution_count": 23,
   "id": "e0163366",
   "metadata": {
    "execution": {
     "iopub.execute_input": "2022-06-25T10:12:04.724370Z",
     "iopub.status.busy": "2022-06-25T10:12:04.723792Z",
     "iopub.status.idle": "2022-06-25T10:12:17.035626Z",
     "shell.execute_reply": "2022-06-25T10:12:17.036443Z"
    },
    "papermill": {
     "duration": 12.353855,
     "end_time": "2022-06-25T10:12:17.036580",
     "exception": false,
     "start_time": "2022-06-25T10:12:04.682725",
     "status": "completed"
    },
    "tags": []
   },
   "outputs": [
    {
     "name": "stdout",
     "output_type": "stream",
     "text": [
      "Epoch 0, Loss 0.2243\n",
      "Training Accuracy: 0.7515, Testing Accuracy: 0.7349\n",
      "\n"
     ]
    },
    {
     "name": "stdout",
     "output_type": "stream",
     "text": [
      "Epoch 10, Loss 0.0988\n",
      "Training Accuracy: 0.9183, Testing Accuracy: 0.9264\n",
      "\n"
     ]
    },
    {
     "name": "stdout",
     "output_type": "stream",
     "text": [
      "Epoch 20, Loss 0.077\n",
      "Training Accuracy: 0.9305, Testing Accuracy: 0.9400\n",
      "\n"
     ]
    },
    {
     "name": "stdout",
     "output_type": "stream",
     "text": [
      "Epoch 30, Loss 0.0669\n",
      "Training Accuracy: 0.9370, Testing Accuracy: 0.9456\n",
      "\n"
     ]
    },
    {
     "name": "stdout",
     "output_type": "stream",
     "text": [
      "Epoch 40, Loss 0.0608\n",
      "Training Accuracy: 0.9415, Testing Accuracy: 0.9486\n",
      "\n"
     ]
    },
    {
     "name": "stdout",
     "output_type": "stream",
     "text": [
      "Epoch 50, Loss 0.0565\n",
      "Training Accuracy: 0.9445, Testing Accuracy: 0.9536\n",
      "\n"
     ]
    },
    {
     "name": "stdout",
     "output_type": "stream",
     "text": [
      "Epoch 60, Loss 0.0534\n",
      "Training Accuracy: 0.9472, Testing Accuracy: 0.9556\n",
      "\n"
     ]
    },
    {
     "name": "stdout",
     "output_type": "stream",
     "text": [
      "Epoch 70, Loss 0.0509\n",
      "Training Accuracy: 0.9493, Testing Accuracy: 0.9587\n",
      "\n"
     ]
    },
    {
     "name": "stdout",
     "output_type": "stream",
     "text": [
      "Epoch 80, Loss 0.0489\n",
      "Training Accuracy: 0.9509, Testing Accuracy: 0.9587\n",
      "\n"
     ]
    },
    {
     "name": "stdout",
     "output_type": "stream",
     "text": [
      "Epoch 90, Loss 0.0473\n",
      "Training Accuracy: 0.9518, Testing Accuracy: 0.9622\n",
      "\n"
     ]
    },
    {
     "name": "stdout",
     "output_type": "stream",
     "text": [
      "Epoch 100, Loss 0.0459\n",
      "Training Accuracy: 0.9528, Testing Accuracy: 0.9617\n",
      "\n"
     ]
    },
    {
     "name": "stdout",
     "output_type": "stream",
     "text": [
      "Epoch 110, Loss 0.0447\n",
      "Training Accuracy: 0.9542, Testing Accuracy: 0.9627\n",
      "\n"
     ]
    },
    {
     "name": "stdout",
     "output_type": "stream",
     "text": [
      "Epoch 120, Loss 0.0437\n",
      "Training Accuracy: 0.9548, Testing Accuracy: 0.9632\n",
      "\n"
     ]
    },
    {
     "name": "stdout",
     "output_type": "stream",
     "text": [
      "Epoch 130, Loss 0.0427\n",
      "Training Accuracy: 0.9559, Testing Accuracy: 0.9632\n",
      "\n"
     ]
    },
    {
     "name": "stdout",
     "output_type": "stream",
     "text": [
      "Epoch 140, Loss 0.0419\n",
      "Training Accuracy: 0.9566, Testing Accuracy: 0.9627\n",
      "\n"
     ]
    },
    {
     "name": "stdout",
     "output_type": "stream",
     "text": [
      "Epoch 150, Loss 0.0412\n",
      "Training Accuracy: 0.9576, Testing Accuracy: 0.9632\n",
      "\n"
     ]
    },
    {
     "name": "stdout",
     "output_type": "stream",
     "text": [
      "Epoch 160, Loss 0.0405\n",
      "Training Accuracy: 0.9584, Testing Accuracy: 0.9642\n",
      "\n"
     ]
    },
    {
     "name": "stdout",
     "output_type": "stream",
     "text": [
      "Epoch 170, Loss 0.0399\n",
      "Training Accuracy: 0.9585, Testing Accuracy: 0.9642\n",
      "\n"
     ]
    },
    {
     "name": "stdout",
     "output_type": "stream",
     "text": [
      "Epoch 180, Loss 0.0393\n",
      "Training Accuracy: 0.9590, Testing Accuracy: 0.9652\n",
      "\n"
     ]
    },
    {
     "name": "stdout",
     "output_type": "stream",
     "text": [
      "Epoch 190, Loss 0.0388\n",
      "Training Accuracy: 0.9594, Testing Accuracy: 0.9652\n",
      "\n"
     ]
    },
    {
     "name": "stdout",
     "output_type": "stream",
     "text": [
      "Epoch 200, Loss 0.0383\n",
      "Training Accuracy: 0.9597, Testing Accuracy: 0.9652\n",
      "\n"
     ]
    },
    {
     "name": "stdout",
     "output_type": "stream",
     "text": [
      "Epoch 210, Loss 0.0379\n",
      "Training Accuracy: 0.9603, Testing Accuracy: 0.9652\n",
      "\n"
     ]
    },
    {
     "name": "stdout",
     "output_type": "stream",
     "text": [
      "Epoch 220, Loss 0.0375\n",
      "Training Accuracy: 0.9605, Testing Accuracy: 0.9657\n",
      "\n"
     ]
    },
    {
     "name": "stdout",
     "output_type": "stream",
     "text": [
      "Epoch 230, Loss 0.0371\n",
      "Training Accuracy: 0.9608, Testing Accuracy: 0.9662\n",
      "\n"
     ]
    },
    {
     "name": "stdout",
     "output_type": "stream",
     "text": [
      "Epoch 240, Loss 0.0367\n",
      "Training Accuracy: 0.9611, Testing Accuracy: 0.9667\n",
      "\n"
     ]
    },
    {
     "data": {
      "text/plain": [
       "0.0636690530028802"
      ]
     },
     "execution_count": 23,
     "metadata": {},
     "output_type": "execute_result"
    }
   ],
   "source": [
    "lr_learner.train_loop(dl)"
   ]
  },
  {
   "cell_type": "code",
   "execution_count": 24,
   "id": "ca410940",
   "metadata": {
    "execution": {
     "iopub.execute_input": "2022-06-25T10:12:17.128545Z",
     "iopub.status.busy": "2022-06-25T10:12:17.127941Z",
     "iopub.status.idle": "2022-06-25T10:12:17.355566Z",
     "shell.execute_reply": "2022-06-25T10:12:17.354992Z"
    },
    "papermill": {
     "duration": 0.277733,
     "end_time": "2022-06-25T10:12:17.355676",
     "exception": false,
     "start_time": "2022-06-25T10:12:17.077943",
     "status": "completed"
    },
    "tags": []
   },
   "outputs": [
    {
     "data": {
      "text/plain": [
       "<matplotlib.legend.Legend at 0x7f6e33130a20>"
      ]
     },
     "execution_count": 24,
     "metadata": {},
     "output_type": "execute_result"
    },
    {
     "data": {
      "image/png": "[encoded data removed]",
      "text/plain": [
       "<Figure size 1080x720 with 1 Axes>"
      ]
     },
     "metadata": {
      "needs_background": "light"
     },
     "output_type": "display_data"
    }
   ],
   "source": [
    "#comparing the results of NN and LR\n",
    "plt.figure(figsize=(15,10))\n",
    "\n",
    "# Neural Network plots\n",
    "plt.plot(acc_nn.accuracies, 'r-', label = \"Training Accuracies - NN\")\n",
    "plt.plot(acc_nn.test_accuracies, 'g-', label = \"Testing Accuracies - NN\")\n",
    "\n",
    "# Logistic Regression plots\n",
    "plt.plot(acc_lr.accuracies, 'k-', label = \"Training Accuracies - LR\")\n",
    "plt.plot(acc_lr.test_accuracies, 'b-', label = \"Testing Accuracies - LR\")\n",
    "plt.legend()"
   ]
  },
  {
   "cell_type": "markdown",
   "id": "80dfb35c",
   "metadata": {
    "papermill": {
     "duration": 0.042165,
     "end_time": "2022-06-25T10:12:17.440511",
     "exception": false,
     "start_time": "2022-06-25T10:12:17.398346",
     "status": "completed"
    },
    "tags": []
   },
   "source": [
    "#### Plotting the outputs of this layer of the NN.\n"
   ]
  },
  {
   "cell_type": "code",
   "execution_count": 25,
   "id": "45eb2ff5",
   "metadata": {
    "execution": {
     "iopub.execute_input": "2022-06-25T10:12:17.532129Z",
     "iopub.status.busy": "2022-06-25T10:12:17.529673Z",
     "iopub.status.idle": "2022-06-25T10:12:17.566409Z",
     "shell.execute_reply": "2022-06-25T10:12:17.565936Z"
    },
    "papermill": {
     "duration": 0.083796,
     "end_time": "2022-06-25T10:12:17.566523",
     "exception": false,
     "start_time": "2022-06-25T10:12:17.482727",
     "status": "completed"
    },
    "tags": []
   },
   "outputs": [],
   "source": [
    "new_model = Model(layers[:-2])\n",
    "testing_plot = new_model(testing_data_x)"
   ]
  },
  {
   "cell_type": "code",
   "execution_count": 26,
   "id": "4c0a5485",
   "metadata": {
    "execution": {
     "iopub.execute_input": "2022-06-25T10:12:17.659726Z",
     "iopub.status.busy": "2022-06-25T10:12:17.657724Z",
     "iopub.status.idle": "2022-06-25T10:12:17.855772Z",
     "shell.execute_reply": "2022-06-25T10:12:17.854868Z"
    },
    "papermill": {
     "duration": 0.247055,
     "end_time": "2022-06-25T10:12:17.855893",
     "exception": false,
     "start_time": "2022-06-25T10:12:17.608838",
     "status": "completed"
    },
    "tags": []
   },
   "outputs": [
    {
     "data": {
      "text/plain": [
       "Text(0.5, 1.0, 'Outputs')"
      ]
     },
     "execution_count": 26,
     "metadata": {},
     "output_type": "execute_result"
    },
    {
     "data": {
      "image/png": "[encoded data removed]",
      "text/plain": [
       "<Figure size 576x504 with 1 Axes>"
      ]
     },
     "metadata": {
      "needs_background": "light"
     },
     "output_type": "display_data"
    }
   ],
   "source": [
    "# Plotting the scatter plot of points and color coding by class\n",
    "plt.figure(figsize=(8,7))\n",
    "plt.scatter(testing_plot[:,0], testing_plot[:,1], alpha = 0.1, c = y_test.ravel());\n",
    "plt.title('Outputs')"
   ]
  },
  {
   "cell_type": "markdown",
   "id": "a74fcf8f",
   "metadata": {
    "papermill": {
     "duration": 0.044106,
     "end_time": "2022-06-25T10:12:17.966912",
     "exception": false,
     "start_time": "2022-06-25T10:12:17.922806",
     "status": "completed"
    },
    "tags": []
   },
   "source": [
    "Probability contours"
   ]
  },
  {
   "cell_type": "code",
   "execution_count": 27,
   "id": "d0afc8e3",
   "metadata": {
    "execution": {
     "iopub.execute_input": "2022-06-25T10:12:18.065833Z",
     "iopub.status.busy": "2022-06-25T10:12:18.063078Z",
     "iopub.status.idle": "2022-06-25T10:12:18.075221Z",
     "shell.execute_reply": "2022-06-25T10:12:18.074486Z"
    },
    "papermill": {
     "duration": 0.061548,
     "end_time": "2022-06-25T10:12:18.075326",
     "exception": false,
     "start_time": "2022-06-25T10:12:18.013778",
     "status": "completed"
    },
    "tags": []
   },
   "outputs": [],
   "source": [
    "model_prob = Model(layers[-2:]) "
   ]
  },
  {
   "cell_type": "code",
   "execution_count": 28,
   "id": "9b96e238",
   "metadata": {
    "execution": {
     "iopub.execute_input": "2022-06-25T10:12:18.168773Z",
     "iopub.status.busy": "2022-06-25T10:12:18.168185Z",
     "iopub.status.idle": "2022-06-25T10:12:18.180854Z",
     "shell.execute_reply": "2022-06-25T10:12:18.181288Z"
    },
    "papermill": {
     "duration": 0.061579,
     "end_time": "2022-06-25T10:12:18.181411",
     "exception": false,
     "start_time": "2022-06-25T10:12:18.119832",
     "status": "completed"
    },
    "tags": []
   },
   "outputs": [],
   "source": [
    "#creating the x and y ranges according to the above generated plot.\n",
    "x_range = np.linspace(-4, 1, 100) \n",
    "y_range = np.linspace(-6, 6, 100) \n",
    "x_grid, y_grid = np.meshgrid(x_range, y_range) # x_grid and y_grig are of size 100 X 100\n",
    "\n",
    "# converting x_grid and y_grid to continuous arrays\n",
    "x_gridflat = np.ravel(x_grid)\n",
    "y_gridflat = np.ravel(y_grid)\n",
    "\n",
    "# The last layer of the current model takes two columns as input. Hence transpose of np.vstack() is required.\n",
    "X = np.vstack((x_gridflat, y_gridflat)).T\n",
    "\n",
    "prob_contour = model_prob(X).reshape(100,100) "
   ]
  },
  {
   "cell_type": "code",
   "execution_count": 29,
   "id": "da72499a",
   "metadata": {
    "execution": {
     "iopub.execute_input": "2022-06-25T10:12:18.275297Z",
     "iopub.status.busy": "2022-06-25T10:12:18.273400Z",
     "iopub.status.idle": "2022-06-25T10:12:18.517455Z",
     "shell.execute_reply": "2022-06-25T10:12:18.518136Z"
    },
    "papermill": {
     "duration": 0.291516,
     "end_time": "2022-06-25T10:12:18.518268",
     "exception": false,
     "start_time": "2022-06-25T10:12:18.226752",
     "status": "completed"
    },
    "tags": []
   },
   "outputs": [
    {
     "data": {
      "image/png": "[encoded data removed]",
      "text/plain": [
       "<Figure size 720x648 with 1 Axes>"
      ]
     },
     "metadata": {
      "needs_background": "light"
     },
     "output_type": "display_data"
    }
   ],
   "source": [
    "plt.figure(figsize=(10,9))\n",
    "plt.scatter(testing_plot[:,0], testing_plot[:,1], alpha = 0.1, c = y_test.ravel())\n",
    "contours = plt.contour(x_grid,y_grid,prob_contour)\n",
    "plt.title('Probability Contours')\n",
    "plt.clabel(contours, inline = True );"
   ]
  },
  {
   "cell_type": "code",
   "execution_count": null,
   "id": "e81b4ac7",
   "metadata": {
    "papermill": {
     "duration": 0.046805,
     "end_time": "2022-06-25T10:12:18.612415",
     "exception": false,
     "start_time": "2022-06-25T10:12:18.565610",
     "status": "completed"
    },
    "tags": []
   },
   "outputs": [],
   "source": []
  }
 ],
 "metadata": {
  "kernelspec": {
   "display_name": "Python 3",
   "language": "python",
   "name": "python3"
  },
  "language_info": {
   "codemirror_mode": {
    "name": "ipython",
    "version": 3
   },
   "file_extension": ".py",
   "mimetype": "text/x-python",
   "name": "python",
   "nbconvert_exporter": "python",
   "pygments_lexer": "ipython3",
   "version": "3.6.15"
  },
  "papermill": {
   "default_parameters": {},
   "duration": 198.617346,
   "end_time": "2022-06-25T10:12:18.977200",
   "environment_variables": {},
   "exception": null,
   "input_path": "2020-08-11-part2.ipynb",
   "output_path": "2020-08-11-part2.ipynb",
   "parameters": {},
   "start_time": "2022-06-25T10:09:00.359854",
   "version": "2.3.3"
  }
 },
 "nbformat": 4,
 "nbformat_minor": 5
}