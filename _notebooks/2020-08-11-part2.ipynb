{
 "cells": [
  {
   "cell_type": "markdown",
   "id": "98380cd3",
   "metadata": {
    "papermill": {
     "duration": 0.032786,
     "end_time": "2021-09-15T10:13:07.368938",
     "exception": false,
     "start_time": "2021-09-15T10:13:07.336152",
     "status": "completed"
    },
    "tags": []
   },
   "source": [
    "# Distinguish Your Own Digits (DYOD)"
   ]
  },
  {
   "cell_type": "markdown",
   "id": "ef31240d",
   "metadata": {
    "papermill": {
     "duration": 0.029228,
     "end_time": "2021-09-15T10:13:07.428887",
     "exception": false,
     "start_time": "2021-09-15T10:13:07.399659",
     "status": "completed"
    },
    "tags": []
   },
   "source": [
    "You are going to write a classifier that distinguishes between the number 3 and number 8."
   ]
  },
  {
   "cell_type": "code",
   "execution_count": 1,
   "id": "b15c8646",
   "metadata": {
    "execution": {
     "iopub.execute_input": "2021-09-15T10:13:07.497832Z",
     "iopub.status.busy": "2021-09-15T10:13:07.497271Z",
     "iopub.status.idle": "2021-09-15T10:13:07.507680Z",
     "shell.execute_reply": "2021-09-15T10:13:07.507214Z"
    },
    "papermill": {
     "duration": 0.050821,
     "end_time": "2021-09-15T10:13:07.507813",
     "exception": false,
     "start_time": "2021-09-15T10:13:07.456992",
     "status": "completed"
    },
    "tags": []
   },
   "outputs": [],
   "source": [
    "%load_ext autoreload\n",
    "%autoreload 2"
   ]
  },
  {
   "cell_type": "code",
   "execution_count": 2,
   "id": "22ef38dc",
   "metadata": {
    "execution": {
     "iopub.execute_input": "2021-09-15T10:13:07.568974Z",
     "iopub.status.busy": "2021-09-15T10:13:07.568423Z",
     "iopub.status.idle": "2021-09-15T10:13:08.211130Z",
     "shell.execute_reply": "2021-09-15T10:13:08.210539Z"
    },
    "papermill": {
     "duration": 0.67686,
     "end_time": "2021-09-15T10:13:08.211294",
     "exception": false,
     "start_time": "2021-09-15T10:13:07.534434",
     "status": "completed"
    },
    "tags": []
   },
   "outputs": [],
   "source": [
    "%matplotlib inline\n",
    "import numpy as np\n",
    "import matplotlib.pyplot as plt\n",
    "import pandas as pd"
   ]
  },
  {
   "cell_type": "markdown",
   "id": "ba036198",
   "metadata": {
    "papermill": {
     "duration": 0.033157,
     "end_time": "2021-09-15T10:13:08.279010",
     "exception": false,
     "start_time": "2021-09-15T10:13:08.245853",
     "status": "completed"
    },
    "tags": []
   },
   "source": [
    "From the command line run `pip install mnist`. This is a library that will help you bring down the mnist dataset. If you run this from a notebook, you need to put  `!pip install mnist` in a cell by itself."
   ]
  },
  {
   "cell_type": "code",
   "execution_count": 3,
   "id": "bb6ad8a1",
   "metadata": {
    "execution": {
     "iopub.execute_input": "2021-09-15T10:13:08.349903Z",
     "iopub.status.busy": "2021-09-15T10:13:08.349229Z",
     "iopub.status.idle": "2021-09-15T10:13:10.291939Z",
     "shell.execute_reply": "2021-09-15T10:13:10.292459Z"
    },
    "papermill": {
     "duration": 1.979721,
     "end_time": "2021-09-15T10:13:10.292701",
     "exception": false,
     "start_time": "2021-09-15T10:13:08.312980",
     "status": "completed"
    },
    "tags": []
   },
   "outputs": [
    {
     "name": "stdout",
     "output_type": "stream",
     "text": [
      "Collecting mnist\r\n"
     ]
    },
    {
     "name": "stdout",
     "output_type": "stream",
     "text": [
      "  Downloading mnist-0.2.2-py2.py3-none-any.whl (3.5 kB)\r\n",
      "Requirement already satisfied: numpy in /opt/hostedtoolcache/Python/3.6.14/x64/lib/python3.6/site-packages (from mnist) (1.19.5)\r\n"
     ]
    },
    {
     "name": "stdout",
     "output_type": "stream",
     "text": [
      "Installing collected packages: mnist\r\n"
     ]
    },
    {
     "name": "stdout",
     "output_type": "stream",
     "text": [
      "Successfully installed mnist-0.2.2\r\n"
     ]
    }
   ],
   "source": [
    "!pip install mnist"
   ]
  },
  {
   "cell_type": "markdown",
   "id": "69df9c9a",
   "metadata": {
    "papermill": {
     "duration": 0.032489,
     "end_time": "2021-09-15T10:13:10.357234",
     "exception": false,
     "start_time": "2021-09-15T10:13:10.324745",
     "status": "completed"
    },
    "tags": []
   },
   "source": [
    "## Preparing the Data"
   ]
  },
  {
   "cell_type": "code",
   "execution_count": 4,
   "id": "7f69d806",
   "metadata": {
    "execution": {
     "iopub.execute_input": "2021-09-15T10:13:10.437059Z",
     "iopub.status.busy": "2021-09-15T10:13:10.430911Z",
     "iopub.status.idle": "2021-09-15T10:13:10.444606Z",
     "shell.execute_reply": "2021-09-15T10:13:10.444102Z"
    },
    "papermill": {
     "duration": 0.055033,
     "end_time": "2021-09-15T10:13:10.444755",
     "exception": false,
     "start_time": "2021-09-15T10:13:10.389722",
     "status": "completed"
    },
    "tags": []
   },
   "outputs": [],
   "source": [
    "import mnist"
   ]
  },
  {
   "cell_type": "code",
   "execution_count": 5,
   "id": "a411e44f",
   "metadata": {
    "execution": {
     "iopub.execute_input": "2021-09-15T10:13:10.519308Z",
     "iopub.status.busy": "2021-09-15T10:13:10.518609Z",
     "iopub.status.idle": "2021-09-15T10:13:11.035223Z",
     "shell.execute_reply": "2021-09-15T10:13:11.035687Z"
    },
    "papermill": {
     "duration": 0.557014,
     "end_time": "2021-09-15T10:13:11.035849",
     "exception": false,
     "start_time": "2021-09-15T10:13:10.478835",
     "status": "completed"
    },
    "tags": []
   },
   "outputs": [],
   "source": [
    "train_images = mnist.train_images()\n",
    "train_labels = mnist.train_labels()"
   ]
  },
  {
   "cell_type": "code",
   "execution_count": 6,
   "id": "dceab3a5",
   "metadata": {
    "execution": {
     "iopub.execute_input": "2021-09-15T10:13:11.109404Z",
     "iopub.status.busy": "2021-09-15T10:13:11.108790Z",
     "iopub.status.idle": "2021-09-15T10:13:11.126005Z",
     "shell.execute_reply": "2021-09-15T10:13:11.126608Z"
    },
    "papermill": {
     "duration": 0.05521,
     "end_time": "2021-09-15T10:13:11.126763",
     "exception": false,
     "start_time": "2021-09-15T10:13:11.071553",
     "status": "completed"
    },
    "tags": []
   },
   "outputs": [
    {
     "data": {
      "text/plain": [
       "((60000, 28, 28), (60000,))"
      ]
     },
     "execution_count": 6,
     "metadata": {},
     "output_type": "execute_result"
    }
   ],
   "source": [
    "train_images.shape, train_labels.shape"
   ]
  },
  {
   "cell_type": "code",
   "execution_count": 7,
   "id": "f50dc2bb",
   "metadata": {
    "execution": {
     "iopub.execute_input": "2021-09-15T10:13:11.199287Z",
     "iopub.status.busy": "2021-09-15T10:13:11.198575Z",
     "iopub.status.idle": "2021-09-15T10:13:11.327105Z",
     "shell.execute_reply": "2021-09-15T10:13:11.327657Z"
    },
    "papermill": {
     "duration": 0.164181,
     "end_time": "2021-09-15T10:13:11.327839",
     "exception": false,
     "start_time": "2021-09-15T10:13:11.163658",
     "status": "completed"
    },
    "tags": []
   },
   "outputs": [],
   "source": [
    "test_images = mnist.test_images()\n",
    "test_labels = mnist.test_labels()"
   ]
  },
  {
   "cell_type": "code",
   "execution_count": 8,
   "id": "fc38cf1b",
   "metadata": {
    "execution": {
     "iopub.execute_input": "2021-09-15T10:13:11.398429Z",
     "iopub.status.busy": "2021-09-15T10:13:11.394577Z",
     "iopub.status.idle": "2021-09-15T10:13:11.409231Z",
     "shell.execute_reply": "2021-09-15T10:13:11.408729Z"
    },
    "papermill": {
     "duration": 0.048838,
     "end_time": "2021-09-15T10:13:11.409351",
     "exception": false,
     "start_time": "2021-09-15T10:13:11.360513",
     "status": "completed"
    },
    "tags": []
   },
   "outputs": [
    {
     "data": {
      "text/plain": [
       "((10000, 28, 28), (10000,))"
      ]
     },
     "execution_count": 8,
     "metadata": {},
     "output_type": "execute_result"
    }
   ],
   "source": [
    "test_images.shape, test_labels.shape"
   ]
  },
  {
   "cell_type": "code",
   "execution_count": 9,
   "id": "f9ed8fe0",
   "metadata": {
    "execution": {
     "iopub.execute_input": "2021-09-15T10:13:11.481785Z",
     "iopub.status.busy": "2021-09-15T10:13:11.481129Z",
     "iopub.status.idle": "2021-09-15T10:13:11.674558Z",
     "shell.execute_reply": "2021-09-15T10:13:11.675080Z"
    },
    "papermill": {
     "duration": 0.236051,
     "end_time": "2021-09-15T10:13:11.675235",
     "exception": false,
     "start_time": "2021-09-15T10:13:11.439184",
     "status": "completed"
    },
    "tags": []
   },
   "outputs": [
    {
     "name": "stdout",
     "output_type": "stream",
     "text": [
      "2\n"
     ]
    },
    {
     "data": {
      "text/plain": [
       "<matplotlib.image.AxesImage at 0x7f9e45cf5e80>"
      ]
     },
     "execution_count": 9,
     "metadata": {},
     "output_type": "execute_result"
    },
    {
     "data": {
      "image/png": "[encoded data removed]",
      "text/plain": [
       "<Figure size 432x288 with 1 Axes>"
      ]
     },
     "metadata": {
      "needs_background": "light"
     },
     "output_type": "display_data"
    }
   ],
   "source": [
    "image_index = 7776 # You may select anything up to 60,000\n",
    "print(train_labels[image_index]) \n",
    "plt.imshow(train_images[image_index], cmap='Greys')"
   ]
  },
  {
   "cell_type": "markdown",
   "id": "a8d2388d",
   "metadata": {
    "papermill": {
     "duration": 0.036404,
     "end_time": "2021-09-15T10:13:11.744598",
     "exception": false,
     "start_time": "2021-09-15T10:13:11.708194",
     "status": "completed"
    },
    "tags": []
   },
   "source": [
    "## Filter data to get 3 and 8 out"
   ]
  },
  {
   "cell_type": "code",
   "execution_count": 10,
   "id": "776f7fc7",
   "metadata": {
    "execution": {
     "iopub.execute_input": "2021-09-15T10:13:11.819603Z",
     "iopub.status.busy": "2021-09-15T10:13:11.818954Z",
     "iopub.status.idle": "2021-09-15T10:13:11.841398Z",
     "shell.execute_reply": "2021-09-15T10:13:11.841858Z"
    },
    "papermill": {
     "duration": 0.062976,
     "end_time": "2021-09-15T10:13:11.842016",
     "exception": false,
     "start_time": "2021-09-15T10:13:11.779040",
     "status": "completed"
    },
    "tags": []
   },
   "outputs": [],
   "source": [
    "train_filter = np.where((train_labels == 3 ) | (train_labels == 8))\n",
    "test_filter = np.where((test_labels == 3) | (test_labels == 8))\n",
    "X_train, y_train = train_images[train_filter], train_labels[train_filter]\n",
    "X_test, y_test = test_images[test_filter], test_labels[test_filter]"
   ]
  },
  {
   "cell_type": "markdown",
   "id": "948f0b7e",
   "metadata": {
    "papermill": {
     "duration": 0.035381,
     "end_time": "2021-09-15T10:13:11.908836",
     "exception": false,
     "start_time": "2021-09-15T10:13:11.873455",
     "status": "completed"
    },
    "tags": []
   },
   "source": [
    "We normalize the pizel values in the 0 to 1 range"
   ]
  },
  {
   "cell_type": "code",
   "execution_count": 11,
   "id": "ee4c2166",
   "metadata": {
    "execution": {
     "iopub.execute_input": "2021-09-15T10:13:11.983917Z",
     "iopub.status.busy": "2021-09-15T10:13:11.983141Z",
     "iopub.status.idle": "2021-09-15T10:13:12.042523Z",
     "shell.execute_reply": "2021-09-15T10:13:12.041985Z"
    },
    "papermill": {
     "duration": 0.101794,
     "end_time": "2021-09-15T10:13:12.042654",
     "exception": false,
     "start_time": "2021-09-15T10:13:11.940860",
     "status": "completed"
    },
    "tags": []
   },
   "outputs": [],
   "source": [
    "X_train = X_train/255.\n",
    "X_test = X_test/255."
   ]
  },
  {
   "cell_type": "markdown",
   "id": "ddcf4fab",
   "metadata": {
    "papermill": {
     "duration": 0.033902,
     "end_time": "2021-09-15T10:13:12.113323",
     "exception": false,
     "start_time": "2021-09-15T10:13:12.079421",
     "status": "completed"
    },
    "tags": []
   },
   "source": [
    "And setup the labels as 1 (when the digit is 3) and 0 (when the digit is 8)"
   ]
  },
  {
   "cell_type": "code",
   "execution_count": 12,
   "id": "7dc908f2",
   "metadata": {
    "execution": {
     "iopub.execute_input": "2021-09-15T10:13:12.182219Z",
     "iopub.status.busy": "2021-09-15T10:13:12.181442Z",
     "iopub.status.idle": "2021-09-15T10:13:12.194889Z",
     "shell.execute_reply": "2021-09-15T10:13:12.194311Z"
    },
    "papermill": {
     "duration": 0.050755,
     "end_time": "2021-09-15T10:13:12.195019",
     "exception": false,
     "start_time": "2021-09-15T10:13:12.144264",
     "status": "completed"
    },
    "tags": []
   },
   "outputs": [],
   "source": [
    "y_train = 1*(y_train==3)\n",
    "y_test = 1*(y_test==3)"
   ]
  },
  {
   "cell_type": "code",
   "execution_count": 13,
   "id": "01e4e969",
   "metadata": {
    "execution": {
     "iopub.execute_input": "2021-09-15T10:13:12.266546Z",
     "iopub.status.busy": "2021-09-15T10:13:12.265785Z",
     "iopub.status.idle": "2021-09-15T10:13:12.281526Z",
     "shell.execute_reply": "2021-09-15T10:13:12.280990Z"
    },
    "papermill": {
     "duration": 0.055283,
     "end_time": "2021-09-15T10:13:12.281661",
     "exception": false,
     "start_time": "2021-09-15T10:13:12.226378",
     "status": "completed"
    },
    "tags": []
   },
   "outputs": [
    {
     "data": {
      "text/plain": [
       "((11982, 28, 28), (1984, 28, 28))"
      ]
     },
     "execution_count": 13,
     "metadata": {},
     "output_type": "execute_result"
    }
   ],
   "source": [
    "X_train.shape, X_test.shape"
   ]
  },
  {
   "cell_type": "markdown",
   "id": "5ccf3f85",
   "metadata": {
    "papermill": {
     "duration": 0.034556,
     "end_time": "2021-09-15T10:13:12.351481",
     "exception": false,
     "start_time": "2021-09-15T10:13:12.316925",
     "status": "completed"
    },
    "tags": []
   },
   "source": [
    "We reshape the data to flatten the image pixels into a set of features or co-variates:"
   ]
  },
  {
   "cell_type": "code",
   "execution_count": 14,
   "id": "5286a4a3",
   "metadata": {
    "execution": {
     "iopub.execute_input": "2021-09-15T10:13:12.424901Z",
     "iopub.status.busy": "2021-09-15T10:13:12.424226Z",
     "iopub.status.idle": "2021-09-15T10:13:12.439131Z",
     "shell.execute_reply": "2021-09-15T10:13:12.438604Z"
    },
    "papermill": {
     "duration": 0.054926,
     "end_time": "2021-09-15T10:13:12.439260",
     "exception": false,
     "start_time": "2021-09-15T10:13:12.384334",
     "status": "completed"
    },
    "tags": []
   },
   "outputs": [
    {
     "data": {
      "text/plain": [
       "((11982, 784), (1984, 784))"
      ]
     },
     "execution_count": 14,
     "metadata": {},
     "output_type": "execute_result"
    }
   ],
   "source": [
    "X_train = X_train.reshape(X_train.shape[0], -1)\n",
    "X_test = X_test.reshape(X_test.shape[0], -1)\n",
    "X_train.shape, X_test.shape"
   ]
  },
  {
   "cell_type": "code",
   "execution_count": 15,
   "id": "73c5f88a",
   "metadata": {
    "execution": {
     "iopub.execute_input": "2021-09-15T10:13:12.523413Z",
     "iopub.status.busy": "2021-09-15T10:13:12.522682Z",
     "iopub.status.idle": "2021-09-15T10:13:12.543739Z",
     "shell.execute_reply": "2021-09-15T10:13:12.544271Z"
    },
    "papermill": {
     "duration": 0.060859,
     "end_time": "2021-09-15T10:13:12.544434",
     "exception": false,
     "start_time": "2021-09-15T10:13:12.483575",
     "status": "completed"
    },
    "tags": []
   },
   "outputs": [],
   "source": [
    "#Impoting functions from 'Kudzu'\n",
    "from kudzu.model import Model\n",
    "from kudzu.train import Learner\n",
    "from kudzu.optim import GD\n",
    "from kudzu.data import Data, Sampler,Dataloader\n",
    "\n",
    "from kudzu.callbacks import AccCallback\n",
    "from kudzu.callbacks import ClfCallback\n",
    "\n",
    "from kudzu.loss import MSE\n",
    "\n",
    "from kudzu.layer import Sigmoid,Relu\n",
    "from kudzu.layer import Affine"
   ]
  },
  {
   "cell_type": "markdown",
   "id": "bc01172a",
   "metadata": {
    "papermill": {
     "duration": 0.03363,
     "end_time": "2021-09-15T10:13:12.615068",
     "exception": false,
     "start_time": "2021-09-15T10:13:12.581438",
     "status": "completed"
    },
    "tags": []
   },
   "source": [
    "### Let us create a `Config` class, to store important parameters. \n",
    "This class essentially plays the role of a dictionary."
   ]
  },
  {
   "cell_type": "code",
   "execution_count": 16,
   "id": "978281aa",
   "metadata": {
    "execution": {
     "iopub.execute_input": "2021-09-15T10:13:12.686634Z",
     "iopub.status.busy": "2021-09-15T10:13:12.686003Z",
     "iopub.status.idle": "2021-09-15T10:13:12.698237Z",
     "shell.execute_reply": "2021-09-15T10:13:12.697682Z"
    },
    "papermill": {
     "duration": 0.051249,
     "end_time": "2021-09-15T10:13:12.698381",
     "exception": false,
     "start_time": "2021-09-15T10:13:12.647132",
     "status": "completed"
    },
    "tags": []
   },
   "outputs": [],
   "source": [
    "class Config:\n",
    "    pass\n",
    "config = Config()\n",
    "config.lr = 0.001\n",
    "config.num_epochs = 250\n",
    "config.bs = 50"
   ]
  },
  {
   "cell_type": "markdown",
   "id": "1385fa59",
   "metadata": {
    "papermill": {
     "duration": 0.039677,
     "end_time": "2021-09-15T10:13:12.776366",
     "exception": false,
     "start_time": "2021-09-15T10:13:12.736689",
     "status": "completed"
    },
    "tags": []
   },
   "source": [
    "### Running Models with the Training data\n",
    "Details about the network layers:\n",
    "- A first affine layer has 784 inputs and does 100 affine transforms. These are followed by a Relu\n",
    "- A second affine layer has 100 inputs from the 100 activations of the past layer, and does 100 affine transforms. These are followed by a Relu\n",
    "- A third affine layer has 100 activations and does 2 affine transformations to create an embedding for visualization. There is no non-linearity here.\n",
    "- A final \"logistic regression\" which has an affine transform from 2 inputs to 1 output, which is squeezed through a sigmoid.\n"
   ]
  },
  {
   "cell_type": "code",
   "execution_count": 17,
   "id": "2b9c66db",
   "metadata": {
    "execution": {
     "iopub.execute_input": "2021-09-15T10:13:12.857955Z",
     "iopub.status.busy": "2021-09-15T10:13:12.857348Z",
     "iopub.status.idle": "2021-09-15T10:13:12.869902Z",
     "shell.execute_reply": "2021-09-15T10:13:12.870388Z"
    },
    "papermill": {
     "duration": 0.057004,
     "end_time": "2021-09-15T10:13:12.870543",
     "exception": false,
     "start_time": "2021-09-15T10:13:12.813539",
     "status": "completed"
    },
    "tags": []
   },
   "outputs": [],
   "source": [
    "data = Data(X_train, y_train.reshape(-1,1))\n",
    "sampler = Sampler(data, config.bs, shuffle=True)\n",
    "\n",
    "dl = Dataloader(data, sampler)\n",
    "\n",
    "opt = GD(config.lr)\n",
    "loss = MSE()"
   ]
  },
  {
   "cell_type": "code",
   "execution_count": 18,
   "id": "b275e4c2",
   "metadata": {
    "execution": {
     "iopub.execute_input": "2021-09-15T10:13:12.946340Z",
     "iopub.status.busy": "2021-09-15T10:13:12.945530Z",
     "iopub.status.idle": "2021-09-15T10:13:12.959738Z",
     "shell.execute_reply": "2021-09-15T10:13:12.960495Z"
    },
    "papermill": {
     "duration": 0.055325,
     "end_time": "2021-09-15T10:13:12.960661",
     "exception": false,
     "start_time": "2021-09-15T10:13:12.905336",
     "status": "completed"
    },
    "tags": []
   },
   "outputs": [],
   "source": [
    "training_data_x = X_train\n",
    "testing_data_x = X_test\n",
    "training_data_y = y_train.reshape(-1,1)\n",
    "testing_data_y = y_test.reshape(-1,1)"
   ]
  },
  {
   "cell_type": "code",
   "execution_count": 19,
   "id": "76951160",
   "metadata": {
    "execution": {
     "iopub.execute_input": "2021-09-15T10:13:13.035401Z",
     "iopub.status.busy": "2021-09-15T10:13:13.034773Z",
     "iopub.status.idle": "2021-09-15T10:13:13.053169Z",
     "shell.execute_reply": "2021-09-15T10:13:13.053696Z"
    },
    "papermill": {
     "duration": 0.057423,
     "end_time": "2021-09-15T10:13:13.053930",
     "exception": false,
     "start_time": "2021-09-15T10:13:12.996507",
     "status": "completed"
    },
    "tags": []
   },
   "outputs": [
    {
     "name": "stdout",
     "output_type": "stream",
     "text": [
      "xavier\n",
      "xavier\n",
      "xavier\n",
      "xavier\n",
      "xavier\n"
     ]
    }
   ],
   "source": [
    "layers = [Affine(\"first\", 784, 100), Relu(\"first\"), Affine(\"second\", 100, 100), Relu(\"second\"), Affine(\"third\", 100, 2), Affine(\"last\", 2, 1), Sigmoid(\"last\")]\n",
    "model_nn = Model(layers)\n",
    "model_lr = Model([Affine(\"logits\", 784, 1), Sigmoid(\"sigmoid\")])"
   ]
  },
  {
   "cell_type": "code",
   "execution_count": 20,
   "id": "6eede77a",
   "metadata": {
    "execution": {
     "iopub.execute_input": "2021-09-15T10:13:13.127137Z",
     "iopub.status.busy": "2021-09-15T10:13:13.126409Z",
     "iopub.status.idle": "2021-09-15T10:13:13.139891Z",
     "shell.execute_reply": "2021-09-15T10:13:13.140518Z"
    },
    "papermill": {
     "duration": 0.052108,
     "end_time": "2021-09-15T10:13:13.140684",
     "exception": false,
     "start_time": "2021-09-15T10:13:13.088576",
     "status": "completed"
    },
    "tags": []
   },
   "outputs": [],
   "source": [
    "nn_learner = Learner(loss, model_nn, opt, config.num_epochs)\n",
    "acc_nn = ClfCallback(nn_learner, config.bs, training_data_x , testing_data_x, training_data_y, testing_data_y)\n",
    "nn_learner.set_callbacks([acc_nn])"
   ]
  },
  {
   "cell_type": "code",
   "execution_count": 21,
   "id": "877b6cc7",
   "metadata": {
    "execution": {
     "iopub.execute_input": "2021-09-15T10:13:13.222638Z",
     "iopub.status.busy": "2021-09-15T10:13:13.221567Z",
     "iopub.status.idle": "2021-09-15T10:13:13.237216Z",
     "shell.execute_reply": "2021-09-15T10:13:13.236600Z"
    },
    "papermill": {
     "duration": 0.058411,
     "end_time": "2021-09-15T10:13:13.237363",
     "exception": false,
     "start_time": "2021-09-15T10:13:13.178952",
     "status": "completed"
    },
    "tags": []
   },
   "outputs": [],
   "source": [
    "lr_learner = Learner(loss, model_lr, opt, config.num_epochs)\n",
    "acc_lr = ClfCallback(lr_learner, config.bs, training_data_x , testing_data_x, training_data_y, testing_data_y)\n",
    "lr_learner.set_callbacks([acc_lr])"
   ]
  },
  {
   "cell_type": "code",
   "execution_count": 22,
   "id": "d9b133c3",
   "metadata": {
    "execution": {
     "iopub.execute_input": "2021-09-15T10:13:13.317657Z",
     "iopub.status.busy": "2021-09-15T10:13:13.317021Z",
     "iopub.status.idle": "2021-09-15T10:15:35.619780Z",
     "shell.execute_reply": "2021-09-15T10:15:35.620522Z"
    },
    "papermill": {
     "duration": 142.346357,
     "end_time": "2021-09-15T10:15:35.620669",
     "exception": false,
     "start_time": "2021-09-15T10:13:13.274312",
     "status": "completed"
    },
    "tags": []
   },
   "outputs": [
    {
     "name": "stdout",
     "output_type": "stream",
     "text": [
      "Epoch 0, Loss 0.2466\n",
      "Training Accuracy: 0.6102, Testing Accuracy: 0.6396\n",
      "\n"
     ]
    },
    {
     "name": "stdout",
     "output_type": "stream",
     "text": [
      "Epoch 10, Loss 0.1307\n",
      "Training Accuracy: 0.8931, Testing Accuracy: 0.9042\n",
      "\n"
     ]
    },
    {
     "name": "stdout",
     "output_type": "stream",
     "text": [
      "Epoch 20, Loss 0.068\n",
      "Training Accuracy: 0.9326, Testing Accuracy: 0.9491\n",
      "\n"
     ]
    },
    {
     "name": "stdout",
     "output_type": "stream",
     "text": [
      "Epoch 30, Loss 0.0483\n",
      "Training Accuracy: 0.9483, Testing Accuracy: 0.9602\n",
      "\n"
     ]
    },
    {
     "name": "stdout",
     "output_type": "stream",
     "text": [
      "Epoch 40, Loss 0.0399\n",
      "Training Accuracy: 0.9579, Testing Accuracy: 0.9657\n",
      "\n"
     ]
    },
    {
     "name": "stdout",
     "output_type": "stream",
     "text": [
      "Epoch 50, Loss 0.0353\n",
      "Training Accuracy: 0.9621, Testing Accuracy: 0.9672\n",
      "\n"
     ]
    },
    {
     "name": "stdout",
     "output_type": "stream",
     "text": [
      "Epoch 60, Loss 0.0324\n",
      "Training Accuracy: 0.9645, Testing Accuracy: 0.9677\n",
      "\n"
     ]
    },
    {
     "name": "stdout",
     "output_type": "stream",
     "text": [
      "Epoch 70, Loss 0.0304\n",
      "Training Accuracy: 0.9664, Testing Accuracy: 0.9682\n",
      "\n"
     ]
    },
    {
     "name": "stdout",
     "output_type": "stream",
     "text": [
      "Epoch 80, Loss 0.0288\n",
      "Training Accuracy: 0.9677, Testing Accuracy: 0.9698\n",
      "\n"
     ]
    },
    {
     "name": "stdout",
     "output_type": "stream",
     "text": [
      "Epoch 90, Loss 0.0275\n",
      "Training Accuracy: 0.9688, Testing Accuracy: 0.9703\n",
      "\n"
     ]
    },
    {
     "name": "stdout",
     "output_type": "stream",
     "text": [
      "Epoch 100, Loss 0.0265\n",
      "Training Accuracy: 0.9697, Testing Accuracy: 0.9698\n",
      "\n"
     ]
    },
    {
     "name": "stdout",
     "output_type": "stream",
     "text": [
      "Epoch 110, Loss 0.0255\n",
      "Training Accuracy: 0.9705, Testing Accuracy: 0.9698\n",
      "\n"
     ]
    },
    {
     "name": "stdout",
     "output_type": "stream",
     "text": [
      "Epoch 120, Loss 0.0248\n",
      "Training Accuracy: 0.9715, Testing Accuracy: 0.9718\n",
      "\n"
     ]
    },
    {
     "name": "stdout",
     "output_type": "stream",
     "text": [
      "Epoch 130, Loss 0.0241\n",
      "Training Accuracy: 0.9720, Testing Accuracy: 0.9708\n",
      "\n"
     ]
    },
    {
     "name": "stdout",
     "output_type": "stream",
     "text": [
      "Epoch 140, Loss 0.0234\n",
      "Training Accuracy: 0.9730, Testing Accuracy: 0.9713\n",
      "\n"
     ]
    },
    {
     "name": "stdout",
     "output_type": "stream",
     "text": [
      "Epoch 150, Loss 0.0228\n",
      "Training Accuracy: 0.9735, Testing Accuracy: 0.9718\n",
      "\n"
     ]
    },
    {
     "name": "stdout",
     "output_type": "stream",
     "text": [
      "Epoch 160, Loss 0.0223\n",
      "Training Accuracy: 0.9740, Testing Accuracy: 0.9723\n",
      "\n"
     ]
    },
    {
     "name": "stdout",
     "output_type": "stream",
     "text": [
      "Epoch 170, Loss 0.0218\n",
      "Training Accuracy: 0.9748, Testing Accuracy: 0.9733\n",
      "\n"
     ]
    },
    {
     "name": "stdout",
     "output_type": "stream",
     "text": [
      "Epoch 180, Loss 0.0213\n",
      "Training Accuracy: 0.9757, Testing Accuracy: 0.9738\n",
      "\n"
     ]
    },
    {
     "name": "stdout",
     "output_type": "stream",
     "text": [
      "Epoch 190, Loss 0.0209\n",
      "Training Accuracy: 0.9760, Testing Accuracy: 0.9743\n",
      "\n"
     ]
    },
    {
     "name": "stdout",
     "output_type": "stream",
     "text": [
      "Epoch 200, Loss 0.0205\n",
      "Training Accuracy: 0.9764, Testing Accuracy: 0.9743\n",
      "\n"
     ]
    },
    {
     "name": "stdout",
     "output_type": "stream",
     "text": [
      "Epoch 210, Loss 0.02\n",
      "Training Accuracy: 0.9776, Testing Accuracy: 0.9733\n",
      "\n"
     ]
    },
    {
     "name": "stdout",
     "output_type": "stream",
     "text": [
      "Epoch 220, Loss 0.0197\n",
      "Training Accuracy: 0.9781, Testing Accuracy: 0.9738\n",
      "\n"
     ]
    },
    {
     "name": "stdout",
     "output_type": "stream",
     "text": [
      "Epoch 230, Loss 0.0193\n",
      "Training Accuracy: 0.9786, Testing Accuracy: 0.9738\n",
      "\n"
     ]
    },
    {
     "name": "stdout",
     "output_type": "stream",
     "text": [
      "Epoch 240, Loss 0.0189\n",
      "Training Accuracy: 0.9794, Testing Accuracy: 0.9738\n",
      "\n"
     ]
    },
    {
     "data": {
      "text/plain": [
       "0.012658406027621007"
      ]
     },
     "execution_count": 22,
     "metadata": {},
     "output_type": "execute_result"
    }
   ],
   "source": [
    "nn_learner.train_loop(dl)"
   ]
  },
  {
   "cell_type": "code",
   "execution_count": 23,
   "id": "e0163366",
   "metadata": {
    "execution": {
     "iopub.execute_input": "2021-09-15T10:15:35.721201Z",
     "iopub.status.busy": "2021-09-15T10:15:35.720530Z",
     "iopub.status.idle": "2021-09-15T10:15:56.019431Z",
     "shell.execute_reply": "2021-09-15T10:15:56.020178Z"
    },
    "papermill": {
     "duration": 20.354641,
     "end_time": "2021-09-15T10:15:56.020349",
     "exception": false,
     "start_time": "2021-09-15T10:15:35.665708",
     "status": "completed"
    },
    "tags": []
   },
   "outputs": [
    {
     "name": "stdout",
     "output_type": "stream",
     "text": [
      "Epoch 0, Loss 0.2417\n",
      "Training Accuracy: 0.6988, Testing Accuracy: 0.7041\n",
      "\n"
     ]
    },
    {
     "name": "stdout",
     "output_type": "stream",
     "text": [
      "Epoch 10, Loss 0.1019\n",
      "Training Accuracy: 0.9097, Testing Accuracy: 0.9224\n",
      "\n"
     ]
    },
    {
     "name": "stdout",
     "output_type": "stream",
     "text": [
      "Epoch 20, Loss 0.0795\n",
      "Training Accuracy: 0.9249, Testing Accuracy: 0.9370\n",
      "\n"
     ]
    },
    {
     "name": "stdout",
     "output_type": "stream",
     "text": [
      "Epoch 30, Loss 0.069\n",
      "Training Accuracy: 0.9332, Testing Accuracy: 0.9466\n",
      "\n"
     ]
    },
    {
     "name": "stdout",
     "output_type": "stream",
     "text": [
      "Epoch 40, Loss 0.0626\n",
      "Training Accuracy: 0.9378, Testing Accuracy: 0.9521\n",
      "\n"
     ]
    },
    {
     "name": "stdout",
     "output_type": "stream",
     "text": [
      "Epoch 50, Loss 0.0582\n",
      "Training Accuracy: 0.9411, Testing Accuracy: 0.9561\n",
      "\n"
     ]
    },
    {
     "name": "stdout",
     "output_type": "stream",
     "text": [
      "Epoch 60, Loss 0.0549\n",
      "Training Accuracy: 0.9434, Testing Accuracy: 0.9582\n",
      "\n"
     ]
    },
    {
     "name": "stdout",
     "output_type": "stream",
     "text": [
      "Epoch 70, Loss 0.0523\n",
      "Training Accuracy: 0.9462, Testing Accuracy: 0.9577\n",
      "\n"
     ]
    },
    {
     "name": "stdout",
     "output_type": "stream",
     "text": [
      "Epoch 80, Loss 0.0502\n",
      "Training Accuracy: 0.9481, Testing Accuracy: 0.9587\n",
      "\n"
     ]
    },
    {
     "name": "stdout",
     "output_type": "stream",
     "text": [
      "Epoch 90, Loss 0.0485\n",
      "Training Accuracy: 0.9498, Testing Accuracy: 0.9597\n",
      "\n"
     ]
    },
    {
     "name": "stdout",
     "output_type": "stream",
     "text": [
      "Epoch 100, Loss 0.047\n",
      "Training Accuracy: 0.9511, Testing Accuracy: 0.9607\n",
      "\n"
     ]
    },
    {
     "name": "stdout",
     "output_type": "stream",
     "text": [
      "Epoch 110, Loss 0.0458\n",
      "Training Accuracy: 0.9517, Testing Accuracy: 0.9627\n",
      "\n"
     ]
    },
    {
     "name": "stdout",
     "output_type": "stream",
     "text": [
      "Epoch 120, Loss 0.0447\n",
      "Training Accuracy: 0.9533, Testing Accuracy: 0.9642\n",
      "\n"
     ]
    },
    {
     "name": "stdout",
     "output_type": "stream",
     "text": [
      "Epoch 130, Loss 0.0437\n",
      "Training Accuracy: 0.9539, Testing Accuracy: 0.9652\n",
      "\n"
     ]
    },
    {
     "name": "stdout",
     "output_type": "stream",
     "text": [
      "Epoch 140, Loss 0.0428\n",
      "Training Accuracy: 0.9543, Testing Accuracy: 0.9647\n",
      "\n"
     ]
    },
    {
     "name": "stdout",
     "output_type": "stream",
     "text": [
      "Epoch 150, Loss 0.0421\n",
      "Training Accuracy: 0.9549, Testing Accuracy: 0.9652\n",
      "\n"
     ]
    },
    {
     "name": "stdout",
     "output_type": "stream",
     "text": [
      "Epoch 160, Loss 0.0414\n",
      "Training Accuracy: 0.9555, Testing Accuracy: 0.9657\n",
      "\n"
     ]
    },
    {
     "name": "stdout",
     "output_type": "stream",
     "text": [
      "Epoch 170, Loss 0.0407\n",
      "Training Accuracy: 0.9564, Testing Accuracy: 0.9657\n",
      "\n"
     ]
    },
    {
     "name": "stdout",
     "output_type": "stream",
     "text": [
      "Epoch 180, Loss 0.0401\n",
      "Training Accuracy: 0.9572, Testing Accuracy: 0.9657\n",
      "\n"
     ]
    },
    {
     "name": "stdout",
     "output_type": "stream",
     "text": [
      "Epoch 190, Loss 0.0396\n",
      "Training Accuracy: 0.9578, Testing Accuracy: 0.9657\n",
      "\n"
     ]
    },
    {
     "name": "stdout",
     "output_type": "stream",
     "text": [
      "Epoch 200, Loss 0.0391\n",
      "Training Accuracy: 0.9583, Testing Accuracy: 0.9657\n",
      "\n"
     ]
    },
    {
     "name": "stdout",
     "output_type": "stream",
     "text": [
      "Epoch 210, Loss 0.0386\n",
      "Training Accuracy: 0.9587, Testing Accuracy: 0.9667\n",
      "\n"
     ]
    },
    {
     "name": "stdout",
     "output_type": "stream",
     "text": [
      "Epoch 220, Loss 0.0382\n",
      "Training Accuracy: 0.9589, Testing Accuracy: 0.9662\n",
      "\n"
     ]
    },
    {
     "name": "stdout",
     "output_type": "stream",
     "text": [
      "Epoch 230, Loss 0.0378\n",
      "Training Accuracy: 0.9594, Testing Accuracy: 0.9672\n",
      "\n"
     ]
    },
    {
     "name": "stdout",
     "output_type": "stream",
     "text": [
      "Epoch 240, Loss 0.0374\n",
      "Training Accuracy: 0.9595, Testing Accuracy: 0.9672\n",
      "\n"
     ]
    },
    {
     "data": {
      "text/plain": [
       "0.04322836874164265"
      ]
     },
     "execution_count": 23,
     "metadata": {},
     "output_type": "execute_result"
    }
   ],
   "source": [
    "lr_learner.train_loop(dl)"
   ]
  },
  {
   "cell_type": "code",
   "execution_count": 24,
   "id": "ca410940",
   "metadata": {
    "execution": {
     "iopub.execute_input": "2021-09-15T10:15:56.136802Z",
     "iopub.status.busy": "2021-09-15T10:15:56.135865Z",
     "iopub.status.idle": "2021-09-15T10:15:56.441932Z",
     "shell.execute_reply": "2021-09-15T10:15:56.442496Z"
    },
    "papermill": {
     "duration": 0.371481,
     "end_time": "2021-09-15T10:15:56.442650",
     "exception": false,
     "start_time": "2021-09-15T10:15:56.071169",
     "status": "completed"
    },
    "tags": []
   },
   "outputs": [
    {
     "data": {
      "text/plain": [
       "<matplotlib.legend.Legend at 0x7f9e458d3f60>"
      ]
     },
     "execution_count": 24,
     "metadata": {},
     "output_type": "execute_result"
    },
    {
     "data": {
      "image/png": "[encoded data removed]",
      "text/plain": [
       "<Figure size 1080x720 with 1 Axes>"
      ]
     },
     "metadata": {
      "needs_background": "light"
     },
     "output_type": "display_data"
    }
   ],
   "source": [
    "#comparing the results of NN and LR\n",
    "plt.figure(figsize=(15,10))\n",
    "\n",
    "# Neural Network plots\n",
    "plt.plot(acc_nn.accuracies, 'r-', label = \"Training Accuracies - NN\")\n",
    "plt.plot(acc_nn.test_accuracies, 'g-', label = \"Testing Accuracies - NN\")\n",
    "\n",
    "# Logistic Regression plots\n",
    "plt.plot(acc_lr.accuracies, 'k-', label = \"Training Accuracies - LR\")\n",
    "plt.plot(acc_lr.test_accuracies, 'b-', label = \"Testing Accuracies - LR\")\n",
    "plt.legend()"
   ]
  },
  {
   "cell_type": "markdown",
   "id": "80dfb35c",
   "metadata": {
    "papermill": {
     "duration": 0.051595,
     "end_time": "2021-09-15T10:15:56.547287",
     "exception": false,
     "start_time": "2021-09-15T10:15:56.495692",
     "status": "completed"
    },
    "tags": []
   },
   "source": [
    "#### Plotting the outputs of this layer of the NN.\n"
   ]
  },
  {
   "cell_type": "code",
   "execution_count": 25,
   "id": "45eb2ff5",
   "metadata": {
    "execution": {
     "iopub.execute_input": "2021-09-15T10:15:56.659628Z",
     "iopub.status.busy": "2021-09-15T10:15:56.659040Z",
     "iopub.status.idle": "2021-09-15T10:15:56.686641Z",
     "shell.execute_reply": "2021-09-15T10:15:56.687202Z"
    },
    "papermill": {
     "duration": 0.08678,
     "end_time": "2021-09-15T10:15:56.687391",
     "exception": false,
     "start_time": "2021-09-15T10:15:56.600611",
     "status": "completed"
    },
    "tags": []
   },
   "outputs": [],
   "source": [
    "new_model = Model(layers[:-2])\n",
    "testing_plot = new_model(testing_data_x)"
   ]
  },
  {
   "cell_type": "code",
   "execution_count": 26,
   "id": "4c0a5485",
   "metadata": {
    "execution": {
     "iopub.execute_input": "2021-09-15T10:15:56.801693Z",
     "iopub.status.busy": "2021-09-15T10:15:56.801108Z",
     "iopub.status.idle": "2021-09-15T10:15:57.061020Z",
     "shell.execute_reply": "2021-09-15T10:15:57.060509Z"
    },
    "papermill": {
     "duration": 0.314558,
     "end_time": "2021-09-15T10:15:57.061159",
     "exception": false,
     "start_time": "2021-09-15T10:15:56.746601",
     "status": "completed"
    },
    "tags": []
   },
   "outputs": [
    {
     "data": {
      "text/plain": [
       "Text(0.5, 1.0, 'Outputs')"
      ]
     },
     "execution_count": 26,
     "metadata": {},
     "output_type": "execute_result"
    },
    {
     "data": {
      "image/png": "[encoded data removed]",
      "text/plain": [
       "<Figure size 576x504 with 1 Axes>"
      ]
     },
     "metadata": {
      "needs_background": "light"
     },
     "output_type": "display_data"
    }
   ],
   "source": [
    "# Plotting the scatter plot of points and color coding by class\n",
    "plt.figure(figsize=(8,7))\n",
    "plt.scatter(testing_plot[:,0], testing_plot[:,1], alpha = 0.1, c = y_test.ravel());\n",
    "plt.title('Outputs')"
   ]
  },
  {
   "cell_type": "markdown",
   "id": "a74fcf8f",
   "metadata": {
    "papermill": {
     "duration": 0.056858,
     "end_time": "2021-09-15T10:15:57.174566",
     "exception": false,
     "start_time": "2021-09-15T10:15:57.117708",
     "status": "completed"
    },
    "tags": []
   },
   "source": [
    "Probability contours"
   ]
  },
  {
   "cell_type": "code",
   "execution_count": 27,
   "id": "d0afc8e3",
   "metadata": {
    "execution": {
     "iopub.execute_input": "2021-09-15T10:15:57.292730Z",
     "iopub.status.busy": "2021-09-15T10:15:57.292094Z",
     "iopub.status.idle": "2021-09-15T10:15:57.303918Z",
     "shell.execute_reply": "2021-09-15T10:15:57.303418Z"
    },
    "papermill": {
     "duration": 0.07648,
     "end_time": "2021-09-15T10:15:57.304084",
     "exception": false,
     "start_time": "2021-09-15T10:15:57.227604",
     "status": "completed"
    },
    "tags": []
   },
   "outputs": [],
   "source": [
    "model_prob = Model(layers[-2:]) "
   ]
  },
  {
   "cell_type": "code",
   "execution_count": 28,
   "id": "9b96e238",
   "metadata": {
    "execution": {
     "iopub.execute_input": "2021-09-15T10:15:57.451278Z",
     "iopub.status.busy": "2021-09-15T10:15:57.449166Z",
     "iopub.status.idle": "2021-09-15T10:15:57.468239Z",
     "shell.execute_reply": "2021-09-15T10:15:57.468839Z"
    },
    "papermill": {
     "duration": 0.106575,
     "end_time": "2021-09-15T10:15:57.468993",
     "exception": false,
     "start_time": "2021-09-15T10:15:57.362418",
     "status": "completed"
    },
    "tags": []
   },
   "outputs": [],
   "source": [
    "#creating the x and y ranges according to the above generated plot.\n",
    "x_range = np.linspace(-4, 1, 100) \n",
    "y_range = np.linspace(-6, 6, 100) \n",
    "x_grid, y_grid = np.meshgrid(x_range, y_range) # x_grid and y_grig are of size 100 X 100\n",
    "\n",
    "# converting x_grid and y_grid to continuous arrays\n",
    "x_gridflat = np.ravel(x_grid)\n",
    "y_gridflat = np.ravel(y_grid)\n",
    "\n",
    "# The last layer of the current model takes two columns as input. Hence transpose of np.vstack() is required.\n",
    "X = np.vstack((x_gridflat, y_gridflat)).T\n",
    "\n",
    "prob_contour = model_prob(X).reshape(100,100) "
   ]
  },
  {
   "cell_type": "code",
   "execution_count": 29,
   "id": "da72499a",
   "metadata": {
    "execution": {
     "iopub.execute_input": "2021-09-15T10:15:57.587087Z",
     "iopub.status.busy": "2021-09-15T10:15:57.586373Z",
     "iopub.status.idle": "2021-09-15T10:15:57.903433Z",
     "shell.execute_reply": "2021-09-15T10:15:57.903890Z"
    },
    "papermill": {
     "duration": 0.376589,
     "end_time": "2021-09-15T10:15:57.904037",
     "exception": false,
     "start_time": "2021-09-15T10:15:57.527448",
     "status": "completed"
    },
    "tags": []
   },
   "outputs": [
    {
     "data": {
      "image/png": "[encoded data removed]",
      "text/plain": [
       "<Figure size 720x648 with 1 Axes>"
      ]
     },
     "metadata": {
      "needs_background": "light"
     },
     "output_type": "display_data"
    }
   ],
   "source": [
    "plt.figure(figsize=(10,9))\n",
    "plt.scatter(testing_plot[:,0], testing_plot[:,1], alpha = 0.1, c = y_test.ravel())\n",
    "contours = plt.contour(x_grid,y_grid,prob_contour)\n",
    "plt.title('Probability Contours')\n",
    "plt.clabel(contours, inline = True );"
   ]
  },
  {
   "cell_type": "code",
   "execution_count": null,
   "id": "e81b4ac7",
   "metadata": {
    "papermill": {
     "duration": 0.06006,
     "end_time": "2021-09-15T10:15:58.022083",
     "exception": false,
     "start_time": "2021-09-15T10:15:57.962023",
     "status": "completed"
    },
    "tags": []
   },
   "outputs": [],
   "source": []
  }
 ],
 "metadata": {
  "kernelspec": {
   "display_name": "Python 3",
   "language": "python",
   "name": "python3"
  },
  "language_info": {
   "codemirror_mode": {
    "name": "ipython",
    "version": 3
   },
   "file_extension": ".py",
   "mimetype": "text/x-python",
   "name": "python",
   "nbconvert_exporter": "python",
   "pygments_lexer": "ipython3",
   "version": "3.6.14"
  },
  "papermill": {
   "default_parameters": {},
   "duration": 172.2746,
   "end_time": "2021-09-15T10:15:58.493294",
   "environment_variables": {},
   "exception": null,
   "input_path": "2020-08-11-part2.ipynb",
   "output_path": "2020-08-11-part2.ipynb",
   "parameters": {},
   "start_time": "2021-09-15T10:13:06.218694",
   "version": "2.3.3"
  }
 },
 "nbformat": 4,
 "nbformat_minor": 5
}