{
 "cells": [
  {
   "cell_type": "markdown",
   "id": "98380cd3",
   "metadata": {
    "papermill": {
     "duration": 0.033864,
     "end_time": "2021-08-22T10:06:48.433405",
     "exception": false,
     "start_time": "2021-08-22T10:06:48.399541",
     "status": "completed"
    },
    "tags": []
   },
   "source": [
    "# Distinguish Your Own Digits (DYOD)"
   ]
  },
  {
   "cell_type": "markdown",
   "id": "ef31240d",
   "metadata": {
    "papermill": {
     "duration": 0.027358,
     "end_time": "2021-08-22T10:06:48.488554",
     "exception": false,
     "start_time": "2021-08-22T10:06:48.461196",
     "status": "completed"
    },
    "tags": []
   },
   "source": [
    "You are going to write a classifier that distinguishes between the number 3 and number 8."
   ]
  },
  {
   "cell_type": "code",
   "execution_count": 1,
   "id": "b15c8646",
   "metadata": {
    "execution": {
     "iopub.execute_input": "2021-08-22T10:06:48.552972Z",
     "iopub.status.busy": "2021-08-22T10:06:48.552288Z",
     "iopub.status.idle": "2021-08-22T10:06:48.564038Z",
     "shell.execute_reply": "2021-08-22T10:06:48.562845Z"
    },
    "papermill": {
     "duration": 0.048449,
     "end_time": "2021-08-22T10:06:48.564216",
     "exception": false,
     "start_time": "2021-08-22T10:06:48.515767",
     "status": "completed"
    },
    "tags": []
   },
   "outputs": [],
   "source": [
    "%load_ext autoreload\n",
    "%autoreload 2"
   ]
  },
  {
   "cell_type": "code",
   "execution_count": 2,
   "id": "22ef38dc",
   "metadata": {
    "execution": {
     "iopub.execute_input": "2021-08-22T10:06:48.621895Z",
     "iopub.status.busy": "2021-08-22T10:06:48.621319Z",
     "iopub.status.idle": "2021-08-22T10:06:49.186349Z",
     "shell.execute_reply": "2021-08-22T10:06:49.185818Z"
    },
    "papermill": {
     "duration": 0.594642,
     "end_time": "2021-08-22T10:06:49.186491",
     "exception": false,
     "start_time": "2021-08-22T10:06:48.591849",
     "status": "completed"
    },
    "tags": []
   },
   "outputs": [],
   "source": [
    "%matplotlib inline\n",
    "import numpy as np\n",
    "import matplotlib.pyplot as plt\n",
    "import pandas as pd"
   ]
  },
  {
   "cell_type": "markdown",
   "id": "ba036198",
   "metadata": {
    "papermill": {
     "duration": 0.027271,
     "end_time": "2021-08-22T10:06:49.244034",
     "exception": false,
     "start_time": "2021-08-22T10:06:49.216763",
     "status": "completed"
    },
    "tags": []
   },
   "source": [
    "From the command line run `pip install mnist`. This is a library that will help you bring down the mnist dataset. If you run this from a notebook, you need to put  `!pip install mnist` in a cell by itself."
   ]
  },
  {
   "cell_type": "code",
   "execution_count": 3,
   "id": "bb6ad8a1",
   "metadata": {
    "execution": {
     "iopub.execute_input": "2021-08-22T10:06:49.309942Z",
     "iopub.status.busy": "2021-08-22T10:06:49.309308Z",
     "iopub.status.idle": "2021-08-22T10:06:51.139145Z",
     "shell.execute_reply": "2021-08-22T10:06:51.138479Z"
    },
    "papermill": {
     "duration": 1.864717,
     "end_time": "2021-08-22T10:06:51.139381",
     "exception": false,
     "start_time": "2021-08-22T10:06:49.274664",
     "status": "completed"
    },
    "tags": []
   },
   "outputs": [
    {
     "name": "stdout",
     "output_type": "stream",
     "text": [
      "Collecting mnist\r\n"
     ]
    },
    {
     "name": "stdout",
     "output_type": "stream",
     "text": [
      "  Downloading mnist-0.2.2-py2.py3-none-any.whl (3.5 kB)\r\n",
      "Requirement already satisfied: numpy in /opt/hostedtoolcache/Python/3.6.14/x64/lib/python3.6/site-packages (from mnist) (1.19.5)\r\n"
     ]
    },
    {
     "name": "stdout",
     "output_type": "stream",
     "text": [
      "Installing collected packages: mnist\r\n",
      "Successfully installed mnist-0.2.2\r\n"
     ]
    }
   ],
   "source": [
    "!pip install mnist"
   ]
  },
  {
   "cell_type": "markdown",
   "id": "69df9c9a",
   "metadata": {
    "papermill": {
     "duration": 0.027775,
     "end_time": "2021-08-22T10:06:51.195163",
     "exception": false,
     "start_time": "2021-08-22T10:06:51.167388",
     "status": "completed"
    },
    "tags": []
   },
   "source": [
    "## Preparing the Data"
   ]
  },
  {
   "cell_type": "code",
   "execution_count": 4,
   "id": "7f69d806",
   "metadata": {
    "execution": {
     "iopub.execute_input": "2021-08-22T10:06:51.256108Z",
     "iopub.status.busy": "2021-08-22T10:06:51.255443Z",
     "iopub.status.idle": "2021-08-22T10:06:51.269534Z",
     "shell.execute_reply": "2021-08-22T10:06:51.270250Z"
    },
    "papermill": {
     "duration": 0.047266,
     "end_time": "2021-08-22T10:06:51.270391",
     "exception": false,
     "start_time": "2021-08-22T10:06:51.223125",
     "status": "completed"
    },
    "tags": []
   },
   "outputs": [],
   "source": [
    "import mnist"
   ]
  },
  {
   "cell_type": "code",
   "execution_count": 5,
   "id": "a411e44f",
   "metadata": {
    "execution": {
     "iopub.execute_input": "2021-08-22T10:06:51.327844Z",
     "iopub.status.busy": "2021-08-22T10:06:51.327213Z",
     "iopub.status.idle": "2021-08-22T10:11:05.009919Z",
     "shell.execute_reply": "2021-08-22T10:11:05.009295Z"
    },
    "papermill": {
     "duration": 253.712621,
     "end_time": "2021-08-22T10:11:05.010066",
     "exception": false,
     "start_time": "2021-08-22T10:06:51.297445",
     "status": "completed"
    },
    "tags": []
   },
   "outputs": [],
   "source": [
    "train_images = mnist.train_images()\n",
    "train_labels = mnist.train_labels()"
   ]
  },
  {
   "cell_type": "code",
   "execution_count": 6,
   "id": "dceab3a5",
   "metadata": {
    "execution": {
     "iopub.execute_input": "2021-08-22T10:11:05.077347Z",
     "iopub.status.busy": "2021-08-22T10:11:05.076717Z",
     "iopub.status.idle": "2021-08-22T10:11:05.092013Z",
     "shell.execute_reply": "2021-08-22T10:11:05.092575Z"
    },
    "papermill": {
     "duration": 0.053828,
     "end_time": "2021-08-22T10:11:05.092725",
     "exception": false,
     "start_time": "2021-08-22T10:11:05.038897",
     "status": "completed"
    },
    "tags": []
   },
   "outputs": [
    {
     "data": {
      "text/plain": [
       "((60000, 28, 28), (60000,))"
      ]
     },
     "execution_count": 6,
     "metadata": {},
     "output_type": "execute_result"
    }
   ],
   "source": [
    "train_images.shape, train_labels.shape"
   ]
  },
  {
   "cell_type": "code",
   "execution_count": 7,
   "id": "f50dc2bb",
   "metadata": {
    "execution": {
     "iopub.execute_input": "2021-08-22T10:11:05.161473Z",
     "iopub.status.busy": "2021-08-22T10:11:05.156533Z",
     "iopub.status.idle": "2021-08-22T10:11:37.594052Z",
     "shell.execute_reply": "2021-08-22T10:11:37.594602Z"
    },
    "papermill": {
     "duration": 32.472436,
     "end_time": "2021-08-22T10:11:37.594808",
     "exception": false,
     "start_time": "2021-08-22T10:11:05.122372",
     "status": "completed"
    },
    "tags": []
   },
   "outputs": [],
   "source": [
    "test_images = mnist.test_images()\n",
    "test_labels = mnist.test_labels()"
   ]
  },
  {
   "cell_type": "code",
   "execution_count": 8,
   "id": "fc38cf1b",
   "metadata": {
    "execution": {
     "iopub.execute_input": "2021-08-22T10:11:37.660373Z",
     "iopub.status.busy": "2021-08-22T10:11:37.659624Z",
     "iopub.status.idle": "2021-08-22T10:11:37.674187Z",
     "shell.execute_reply": "2021-08-22T10:11:37.673676Z"
    },
    "papermill": {
     "duration": 0.048597,
     "end_time": "2021-08-22T10:11:37.674324",
     "exception": false,
     "start_time": "2021-08-22T10:11:37.625727",
     "status": "completed"
    },
    "tags": []
   },
   "outputs": [
    {
     "data": {
      "text/plain": [
       "((10000, 28, 28), (10000,))"
      ]
     },
     "execution_count": 8,
     "metadata": {},
     "output_type": "execute_result"
    }
   ],
   "source": [
    "test_images.shape, test_labels.shape"
   ]
  },
  {
   "cell_type": "code",
   "execution_count": 9,
   "id": "f9ed8fe0",
   "metadata": {
    "execution": {
     "iopub.execute_input": "2021-08-22T10:11:37.735125Z",
     "iopub.status.busy": "2021-08-22T10:11:37.734552Z",
     "iopub.status.idle": "2021-08-22T10:11:37.914415Z",
     "shell.execute_reply": "2021-08-22T10:11:37.914891Z"
    },
    "papermill": {
     "duration": 0.212093,
     "end_time": "2021-08-22T10:11:37.915042",
     "exception": false,
     "start_time": "2021-08-22T10:11:37.702949",
     "status": "completed"
    },
    "tags": []
   },
   "outputs": [
    {
     "name": "stdout",
     "output_type": "stream",
     "text": [
      "2\n"
     ]
    },
    {
     "data": {
      "text/plain": [
       "<matplotlib.image.AxesImage at 0x7f4b82db3908>"
      ]
     },
     "execution_count": 9,
     "metadata": {},
     "output_type": "execute_result"
    },
    {
     "data": {
      "image/png": "[encoded data removed]",
      "text/plain": [
       "<Figure size 432x288 with 1 Axes>"
      ]
     },
     "metadata": {
      "needs_background": "light"
     },
     "output_type": "display_data"
    }
   ],
   "source": [
    "image_index = 7776 # You may select anything up to 60,000\n",
    "print(train_labels[image_index]) \n",
    "plt.imshow(train_images[image_index], cmap='Greys')"
   ]
  },
  {
   "cell_type": "markdown",
   "id": "a8d2388d",
   "metadata": {
    "papermill": {
     "duration": 0.029784,
     "end_time": "2021-08-22T10:11:37.974172",
     "exception": false,
     "start_time": "2021-08-22T10:11:37.944388",
     "status": "completed"
    },
    "tags": []
   },
   "source": [
    "## Filter data to get 3 and 8 out"
   ]
  },
  {
   "cell_type": "code",
   "execution_count": 10,
   "id": "776f7fc7",
   "metadata": {
    "execution": {
     "iopub.execute_input": "2021-08-22T10:11:38.042381Z",
     "iopub.status.busy": "2021-08-22T10:11:38.036343Z",
     "iopub.status.idle": "2021-08-22T10:11:38.054370Z",
     "shell.execute_reply": "2021-08-22T10:11:38.053737Z"
    },
    "papermill": {
     "duration": 0.051002,
     "end_time": "2021-08-22T10:11:38.054501",
     "exception": false,
     "start_time": "2021-08-22T10:11:38.003499",
     "status": "completed"
    },
    "tags": []
   },
   "outputs": [],
   "source": [
    "train_filter = np.where((train_labels == 3 ) | (train_labels == 8))\n",
    "test_filter = np.where((test_labels == 3) | (test_labels == 8))\n",
    "X_train, y_train = train_images[train_filter], train_labels[train_filter]\n",
    "X_test, y_test = test_images[test_filter], test_labels[test_filter]"
   ]
  },
  {
   "cell_type": "markdown",
   "id": "948f0b7e",
   "metadata": {
    "papermill": {
     "duration": 0.029148,
     "end_time": "2021-08-22T10:11:38.113821",
     "exception": false,
     "start_time": "2021-08-22T10:11:38.084673",
     "status": "completed"
    },
    "tags": []
   },
   "source": [
    "We normalize the pizel values in the 0 to 1 range"
   ]
  },
  {
   "cell_type": "code",
   "execution_count": 11,
   "id": "ee4c2166",
   "metadata": {
    "execution": {
     "iopub.execute_input": "2021-08-22T10:11:38.192345Z",
     "iopub.status.busy": "2021-08-22T10:11:38.191659Z",
     "iopub.status.idle": "2021-08-22T10:11:38.240419Z",
     "shell.execute_reply": "2021-08-22T10:11:38.239886Z"
    },
    "papermill": {
     "duration": 0.096952,
     "end_time": "2021-08-22T10:11:38.240567",
     "exception": false,
     "start_time": "2021-08-22T10:11:38.143615",
     "status": "completed"
    },
    "tags": []
   },
   "outputs": [],
   "source": [
    "X_train = X_train/255.\n",
    "X_test = X_test/255."
   ]
  },
  {
   "cell_type": "markdown",
   "id": "ddcf4fab",
   "metadata": {
    "papermill": {
     "duration": 0.029056,
     "end_time": "2021-08-22T10:11:38.302352",
     "exception": false,
     "start_time": "2021-08-22T10:11:38.273296",
     "status": "completed"
    },
    "tags": []
   },
   "source": [
    "And setup the labels as 1 (when the digit is 3) and 0 (when the digit is 8)"
   ]
  },
  {
   "cell_type": "code",
   "execution_count": 12,
   "id": "7dc908f2",
   "metadata": {
    "execution": {
     "iopub.execute_input": "2021-08-22T10:11:38.365983Z",
     "iopub.status.busy": "2021-08-22T10:11:38.365369Z",
     "iopub.status.idle": "2021-08-22T10:11:38.378060Z",
     "shell.execute_reply": "2021-08-22T10:11:38.378584Z"
    },
    "papermill": {
     "duration": 0.047179,
     "end_time": "2021-08-22T10:11:38.378723",
     "exception": false,
     "start_time": "2021-08-22T10:11:38.331544",
     "status": "completed"
    },
    "tags": []
   },
   "outputs": [],
   "source": [
    "y_train = 1*(y_train==3)\n",
    "y_test = 1*(y_test==3)"
   ]
  },
  {
   "cell_type": "code",
   "execution_count": 13,
   "id": "01e4e969",
   "metadata": {
    "execution": {
     "iopub.execute_input": "2021-08-22T10:11:38.440845Z",
     "iopub.status.busy": "2021-08-22T10:11:38.440240Z",
     "iopub.status.idle": "2021-08-22T10:11:38.452560Z",
     "shell.execute_reply": "2021-08-22T10:11:38.453121Z"
    },
    "papermill": {
     "duration": 0.045101,
     "end_time": "2021-08-22T10:11:38.453239",
     "exception": false,
     "start_time": "2021-08-22T10:11:38.408138",
     "status": "completed"
    },
    "tags": []
   },
   "outputs": [
    {
     "data": {
      "text/plain": [
       "((11982, 28, 28), (1984, 28, 28))"
      ]
     },
     "execution_count": 13,
     "metadata": {},
     "output_type": "execute_result"
    }
   ],
   "source": [
    "X_train.shape, X_test.shape"
   ]
  },
  {
   "cell_type": "markdown",
   "id": "5ccf3f85",
   "metadata": {
    "papermill": {
     "duration": 0.029308,
     "end_time": "2021-08-22T10:11:38.512179",
     "exception": false,
     "start_time": "2021-08-22T10:11:38.482871",
     "status": "completed"
    },
    "tags": []
   },
   "source": [
    "We reshape the data to flatten the image pixels into a set of features or co-variates:"
   ]
  },
  {
   "cell_type": "code",
   "execution_count": 14,
   "id": "5286a4a3",
   "metadata": {
    "execution": {
     "iopub.execute_input": "2021-08-22T10:11:38.580620Z",
     "iopub.status.busy": "2021-08-22T10:11:38.579954Z",
     "iopub.status.idle": "2021-08-22T10:11:38.593502Z",
     "shell.execute_reply": "2021-08-22T10:11:38.593005Z"
    },
    "papermill": {
     "duration": 0.051581,
     "end_time": "2021-08-22T10:11:38.593621",
     "exception": false,
     "start_time": "2021-08-22T10:11:38.542040",
     "status": "completed"
    },
    "tags": []
   },
   "outputs": [
    {
     "data": {
      "text/plain": [
       "((11982, 784), (1984, 784))"
      ]
     },
     "execution_count": 14,
     "metadata": {},
     "output_type": "execute_result"
    }
   ],
   "source": [
    "X_train = X_train.reshape(X_train.shape[0], -1)\n",
    "X_test = X_test.reshape(X_test.shape[0], -1)\n",
    "X_train.shape, X_test.shape"
   ]
  },
  {
   "cell_type": "code",
   "execution_count": 15,
   "id": "73c5f88a",
   "metadata": {
    "execution": {
     "iopub.execute_input": "2021-08-22T10:11:38.659556Z",
     "iopub.status.busy": "2021-08-22T10:11:38.658724Z",
     "iopub.status.idle": "2021-08-22T10:11:38.676300Z",
     "shell.execute_reply": "2021-08-22T10:11:38.675803Z"
    },
    "papermill": {
     "duration": 0.052285,
     "end_time": "2021-08-22T10:11:38.676410",
     "exception": false,
     "start_time": "2021-08-22T10:11:38.624125",
     "status": "completed"
    },
    "tags": []
   },
   "outputs": [],
   "source": [
    "#Impoting functions from 'Kudzu'\n",
    "from kudzu.model import Model\n",
    "from kudzu.train import Learner\n",
    "from kudzu.optim import GD\n",
    "from kudzu.data import Data, Sampler,Dataloader\n",
    "\n",
    "from kudzu.callbacks import AccCallback\n",
    "from kudzu.callbacks import ClfCallback\n",
    "\n",
    "from kudzu.loss import MSE\n",
    "\n",
    "from kudzu.layer import Sigmoid,Relu\n",
    "from kudzu.layer import Affine"
   ]
  },
  {
   "cell_type": "markdown",
   "id": "bc01172a",
   "metadata": {
    "papermill": {
     "duration": 0.030382,
     "end_time": "2021-08-22T10:11:38.739041",
     "exception": false,
     "start_time": "2021-08-22T10:11:38.708659",
     "status": "completed"
    },
    "tags": []
   },
   "source": [
    "### Let us create a `Config` class, to store important parameters. \n",
    "This class essentially plays the role of a dictionary."
   ]
  },
  {
   "cell_type": "code",
   "execution_count": 16,
   "id": "978281aa",
   "metadata": {
    "execution": {
     "iopub.execute_input": "2021-08-22T10:11:38.816726Z",
     "iopub.status.busy": "2021-08-22T10:11:38.809136Z",
     "iopub.status.idle": "2021-08-22T10:11:38.819375Z",
     "shell.execute_reply": "2021-08-22T10:11:38.818896Z"
    },
    "papermill": {
     "duration": 0.049982,
     "end_time": "2021-08-22T10:11:38.819490",
     "exception": false,
     "start_time": "2021-08-22T10:11:38.769508",
     "status": "completed"
    },
    "tags": []
   },
   "outputs": [],
   "source": [
    "class Config:\n",
    "    pass\n",
    "config = Config()\n",
    "config.lr = 0.001\n",
    "config.num_epochs = 250\n",
    "config.bs = 50"
   ]
  },
  {
   "cell_type": "markdown",
   "id": "1385fa59",
   "metadata": {
    "papermill": {
     "duration": 0.03531,
     "end_time": "2021-08-22T10:11:38.884467",
     "exception": false,
     "start_time": "2021-08-22T10:11:38.849157",
     "status": "completed"
    },
    "tags": []
   },
   "source": [
    "### Running Models with the Training data\n",
    "Details about the network layers:\n",
    "- A first affine layer has 784 inputs and does 100 affine transforms. These are followed by a Relu\n",
    "- A second affine layer has 100 inputs from the 100 activations of the past layer, and does 100 affine transforms. These are followed by a Relu\n",
    "- A third affine layer has 100 activations and does 2 affine transformations to create an embedding for visualization. There is no non-linearity here.\n",
    "- A final \"logistic regression\" which has an affine transform from 2 inputs to 1 output, which is squeezed through a sigmoid.\n"
   ]
  },
  {
   "cell_type": "code",
   "execution_count": 17,
   "id": "2b9c66db",
   "metadata": {
    "execution": {
     "iopub.execute_input": "2021-08-22T10:11:38.964694Z",
     "iopub.status.busy": "2021-08-22T10:11:38.964065Z",
     "iopub.status.idle": "2021-08-22T10:11:38.966153Z",
     "shell.execute_reply": "2021-08-22T10:11:38.966646Z"
    },
    "papermill": {
     "duration": 0.050786,
     "end_time": "2021-08-22T10:11:38.966781",
     "exception": false,
     "start_time": "2021-08-22T10:11:38.915995",
     "status": "completed"
    },
    "tags": []
   },
   "outputs": [],
   "source": [
    "data = Data(X_train, y_train.reshape(-1,1))\n",
    "sampler = Sampler(data, config.bs, shuffle=True)\n",
    "\n",
    "dl = Dataloader(data, sampler)\n",
    "\n",
    "opt = GD(config.lr)\n",
    "loss = MSE()"
   ]
  },
  {
   "cell_type": "code",
   "execution_count": 18,
   "id": "b275e4c2",
   "metadata": {
    "execution": {
     "iopub.execute_input": "2021-08-22T10:11:39.032023Z",
     "iopub.status.busy": "2021-08-22T10:11:39.031427Z",
     "iopub.status.idle": "2021-08-22T10:11:39.041924Z",
     "shell.execute_reply": "2021-08-22T10:11:39.042369Z"
    },
    "papermill": {
     "duration": 0.045628,
     "end_time": "2021-08-22T10:11:39.042496",
     "exception": false,
     "start_time": "2021-08-22T10:11:38.996868",
     "status": "completed"
    },
    "tags": []
   },
   "outputs": [],
   "source": [
    "training_data_x = X_train\n",
    "testing_data_x = X_test\n",
    "training_data_y = y_train.reshape(-1,1)\n",
    "testing_data_y = y_test.reshape(-1,1)"
   ]
  },
  {
   "cell_type": "code",
   "execution_count": 19,
   "id": "76951160",
   "metadata": {
    "execution": {
     "iopub.execute_input": "2021-08-22T10:11:39.108199Z",
     "iopub.status.busy": "2021-08-22T10:11:39.107596Z",
     "iopub.status.idle": "2021-08-22T10:11:39.123698Z",
     "shell.execute_reply": "2021-08-22T10:11:39.123213Z"
    },
    "papermill": {
     "duration": 0.049145,
     "end_time": "2021-08-22T10:11:39.123840",
     "exception": false,
     "start_time": "2021-08-22T10:11:39.074695",
     "status": "completed"
    },
    "tags": []
   },
   "outputs": [
    {
     "name": "stdout",
     "output_type": "stream",
     "text": [
      "xavier\n",
      "xavier\n",
      "xavier\n",
      "xavier\n",
      "xavier\n"
     ]
    }
   ],
   "source": [
    "layers = [Affine(\"first\", 784, 100), Relu(\"first\"), Affine(\"second\", 100, 100), Relu(\"second\"), Affine(\"third\", 100, 2), Affine(\"last\", 2, 1), Sigmoid(\"last\")]\n",
    "model_nn = Model(layers)\n",
    "model_lr = Model([Affine(\"logits\", 784, 1), Sigmoid(\"sigmoid\")])"
   ]
  },
  {
   "cell_type": "code",
   "execution_count": 20,
   "id": "6eede77a",
   "metadata": {
    "execution": {
     "iopub.execute_input": "2021-08-22T10:11:39.187510Z",
     "iopub.status.busy": "2021-08-22T10:11:39.186937Z",
     "iopub.status.idle": "2021-08-22T10:11:39.198730Z",
     "shell.execute_reply": "2021-08-22T10:11:39.199228Z"
    },
    "papermill": {
     "duration": 0.045696,
     "end_time": "2021-08-22T10:11:39.199352",
     "exception": false,
     "start_time": "2021-08-22T10:11:39.153656",
     "status": "completed"
    },
    "tags": []
   },
   "outputs": [],
   "source": [
    "nn_learner = Learner(loss, model_nn, opt, config.num_epochs)\n",
    "acc_nn = ClfCallback(nn_learner, config.bs, training_data_x , testing_data_x, training_data_y, testing_data_y)\n",
    "nn_learner.set_callbacks([acc_nn])"
   ]
  },
  {
   "cell_type": "code",
   "execution_count": 21,
   "id": "877b6cc7",
   "metadata": {
    "execution": {
     "iopub.execute_input": "2021-08-22T10:11:39.263618Z",
     "iopub.status.busy": "2021-08-22T10:11:39.263046Z",
     "iopub.status.idle": "2021-08-22T10:11:39.274119Z",
     "shell.execute_reply": "2021-08-22T10:11:39.273637Z"
    },
    "papermill": {
     "duration": 0.044827,
     "end_time": "2021-08-22T10:11:39.274226",
     "exception": false,
     "start_time": "2021-08-22T10:11:39.229399",
     "status": "completed"
    },
    "tags": []
   },
   "outputs": [],
   "source": [
    "lr_learner = Learner(loss, model_lr, opt, config.num_epochs)\n",
    "acc_lr = ClfCallback(lr_learner, config.bs, training_data_x , testing_data_x, training_data_y, testing_data_y)\n",
    "lr_learner.set_callbacks([acc_lr])"
   ]
  },
  {
   "cell_type": "code",
   "execution_count": 22,
   "id": "d9b133c3",
   "metadata": {
    "execution": {
     "iopub.execute_input": "2021-08-22T10:11:39.341674Z",
     "iopub.status.busy": "2021-08-22T10:11:39.341037Z",
     "iopub.status.idle": "2021-08-22T10:13:44.082580Z",
     "shell.execute_reply": "2021-08-22T10:13:44.083389Z"
    },
    "papermill": {
     "duration": 124.779143,
     "end_time": "2021-08-22T10:13:44.083552",
     "exception": false,
     "start_time": "2021-08-22T10:11:39.304409",
     "status": "completed"
    },
    "tags": []
   },
   "outputs": [
    {
     "name": "stdout",
     "output_type": "stream",
     "text": [
      "Epoch 0, Loss 0.2518\n",
      "Training Accuracy: 0.6774, Testing Accuracy: 0.6804\n",
      "\n"
     ]
    },
    {
     "name": "stdout",
     "output_type": "stream",
     "text": [
      "Epoch 10, Loss 0.0795\n",
      "Training Accuracy: 0.9242, Testing Accuracy: 0.9360\n",
      "\n"
     ]
    },
    {
     "name": "stdout",
     "output_type": "stream",
     "text": [
      "Epoch 20, Loss 0.0523\n",
      "Training Accuracy: 0.9443, Testing Accuracy: 0.9577\n",
      "\n"
     ]
    },
    {
     "name": "stdout",
     "output_type": "stream",
     "text": [
      "Epoch 30, Loss 0.0424\n",
      "Training Accuracy: 0.9520, Testing Accuracy: 0.9632\n",
      "\n"
     ]
    },
    {
     "name": "stdout",
     "output_type": "stream",
     "text": [
      "Epoch 40, Loss 0.0371\n",
      "Training Accuracy: 0.9581, Testing Accuracy: 0.9688\n",
      "\n"
     ]
    },
    {
     "name": "stdout",
     "output_type": "stream",
     "text": [
      "Epoch 50, Loss 0.0337\n",
      "Training Accuracy: 0.9612, Testing Accuracy: 0.9693\n",
      "\n"
     ]
    },
    {
     "name": "stdout",
     "output_type": "stream",
     "text": [
      "Epoch 60, Loss 0.0313\n",
      "Training Accuracy: 0.9636, Testing Accuracy: 0.9708\n",
      "\n"
     ]
    },
    {
     "name": "stdout",
     "output_type": "stream",
     "text": [
      "Epoch 70, Loss 0.0294\n",
      "Training Accuracy: 0.9654, Testing Accuracy: 0.9708\n",
      "\n"
     ]
    },
    {
     "name": "stdout",
     "output_type": "stream",
     "text": [
      "Epoch 80, Loss 0.028\n",
      "Training Accuracy: 0.9669, Testing Accuracy: 0.9713\n",
      "\n"
     ]
    },
    {
     "name": "stdout",
     "output_type": "stream",
     "text": [
      "Epoch 90, Loss 0.0268\n",
      "Training Accuracy: 0.9687, Testing Accuracy: 0.9708\n",
      "\n"
     ]
    },
    {
     "name": "stdout",
     "output_type": "stream",
     "text": [
      "Epoch 100, Loss 0.0257\n",
      "Training Accuracy: 0.9706, Testing Accuracy: 0.9723\n",
      "\n"
     ]
    },
    {
     "name": "stdout",
     "output_type": "stream",
     "text": [
      "Epoch 110, Loss 0.0248\n",
      "Training Accuracy: 0.9718, Testing Accuracy: 0.9708\n",
      "\n"
     ]
    },
    {
     "name": "stdout",
     "output_type": "stream",
     "text": [
      "Epoch 120, Loss 0.024\n",
      "Training Accuracy: 0.9730, Testing Accuracy: 0.9703\n",
      "\n"
     ]
    },
    {
     "name": "stdout",
     "output_type": "stream",
     "text": [
      "Epoch 130, Loss 0.0233\n",
      "Training Accuracy: 0.9732, Testing Accuracy: 0.9713\n",
      "\n"
     ]
    },
    {
     "name": "stdout",
     "output_type": "stream",
     "text": [
      "Epoch 140, Loss 0.0226\n",
      "Training Accuracy: 0.9743, Testing Accuracy: 0.9723\n",
      "\n"
     ]
    },
    {
     "name": "stdout",
     "output_type": "stream",
     "text": [
      "Epoch 150, Loss 0.022\n",
      "Training Accuracy: 0.9751, Testing Accuracy: 0.9723\n",
      "\n"
     ]
    },
    {
     "name": "stdout",
     "output_type": "stream",
     "text": [
      "Epoch 160, Loss 0.0214\n",
      "Training Accuracy: 0.9758, Testing Accuracy: 0.9723\n",
      "\n"
     ]
    },
    {
     "name": "stdout",
     "output_type": "stream",
     "text": [
      "Epoch 170, Loss 0.0209\n",
      "Training Accuracy: 0.9762, Testing Accuracy: 0.9718\n",
      "\n"
     ]
    },
    {
     "name": "stdout",
     "output_type": "stream",
     "text": [
      "Epoch 180, Loss 0.0204\n",
      "Training Accuracy: 0.9768, Testing Accuracy: 0.9723\n",
      "\n"
     ]
    },
    {
     "name": "stdout",
     "output_type": "stream",
     "text": [
      "Epoch 190, Loss 0.0199\n",
      "Training Accuracy: 0.9775, Testing Accuracy: 0.9723\n",
      "\n"
     ]
    },
    {
     "name": "stdout",
     "output_type": "stream",
     "text": [
      "Epoch 200, Loss 0.0195\n",
      "Training Accuracy: 0.9781, Testing Accuracy: 0.9723\n",
      "\n"
     ]
    },
    {
     "name": "stdout",
     "output_type": "stream",
     "text": [
      "Epoch 210, Loss 0.019\n",
      "Training Accuracy: 0.9786, Testing Accuracy: 0.9728\n",
      "\n"
     ]
    },
    {
     "name": "stdout",
     "output_type": "stream",
     "text": [
      "Epoch 220, Loss 0.0186\n",
      "Training Accuracy: 0.9791, Testing Accuracy: 0.9733\n",
      "\n"
     ]
    },
    {
     "name": "stdout",
     "output_type": "stream",
     "text": [
      "Epoch 230, Loss 0.0182\n",
      "Training Accuracy: 0.9794, Testing Accuracy: 0.9733\n",
      "\n"
     ]
    },
    {
     "name": "stdout",
     "output_type": "stream",
     "text": [
      "Epoch 240, Loss 0.0178\n",
      "Training Accuracy: 0.9801, Testing Accuracy: 0.9733\n",
      "\n"
     ]
    },
    {
     "data": {
      "text/plain": [
       "0.001846423718159327"
      ]
     },
     "execution_count": 22,
     "metadata": {},
     "output_type": "execute_result"
    }
   ],
   "source": [
    "nn_learner.train_loop(dl)"
   ]
  },
  {
   "cell_type": "code",
   "execution_count": 23,
   "id": "e0163366",
   "metadata": {
    "execution": {
     "iopub.execute_input": "2021-08-22T10:13:44.173113Z",
     "iopub.status.busy": "2021-08-22T10:13:44.172545Z",
     "iopub.status.idle": "2021-08-22T10:14:02.461700Z",
     "shell.execute_reply": "2021-08-22T10:14:02.462491Z"
    },
    "papermill": {
     "duration": 18.337696,
     "end_time": "2021-08-22T10:14:02.462658",
     "exception": false,
     "start_time": "2021-08-22T10:13:44.124962",
     "status": "completed"
    },
    "tags": []
   },
   "outputs": [
    {
     "name": "stdout",
     "output_type": "stream",
     "text": [
      "Epoch 0, Loss 0.2594\n",
      "Training Accuracy: 0.5934, Testing Accuracy: 0.5806\n",
      "\n"
     ]
    },
    {
     "name": "stdout",
     "output_type": "stream",
     "text": [
      "Epoch 10, Loss 0.1099\n",
      "Training Accuracy: 0.8946, Testing Accuracy: 0.8987\n",
      "\n"
     ]
    },
    {
     "name": "stdout",
     "output_type": "stream",
     "text": [
      "Epoch 20, Loss 0.0826\n",
      "Training Accuracy: 0.9222, Testing Accuracy: 0.9299\n",
      "\n"
     ]
    },
    {
     "name": "stdout",
     "output_type": "stream",
     "text": [
      "Epoch 30, Loss 0.0704\n",
      "Training Accuracy: 0.9332, Testing Accuracy: 0.9435\n",
      "\n"
     ]
    },
    {
     "name": "stdout",
     "output_type": "stream",
     "text": [
      "Epoch 40, Loss 0.0632\n",
      "Training Accuracy: 0.9400, Testing Accuracy: 0.9501\n",
      "\n"
     ]
    },
    {
     "name": "stdout",
     "output_type": "stream",
     "text": [
      "Epoch 50, Loss 0.0584\n",
      "Training Accuracy: 0.9427, Testing Accuracy: 0.9516\n",
      "\n"
     ]
    },
    {
     "name": "stdout",
     "output_type": "stream",
     "text": [
      "Epoch 60, Loss 0.0548\n",
      "Training Accuracy: 0.9456, Testing Accuracy: 0.9556\n",
      "\n"
     ]
    },
    {
     "name": "stdout",
     "output_type": "stream",
     "text": [
      "Epoch 70, Loss 0.0521\n",
      "Training Accuracy: 0.9478, Testing Accuracy: 0.9572\n",
      "\n"
     ]
    },
    {
     "name": "stdout",
     "output_type": "stream",
     "text": [
      "Epoch 80, Loss 0.05\n",
      "Training Accuracy: 0.9494, Testing Accuracy: 0.9582\n",
      "\n"
     ]
    },
    {
     "name": "stdout",
     "output_type": "stream",
     "text": [
      "Epoch 90, Loss 0.0482\n",
      "Training Accuracy: 0.9512, Testing Accuracy: 0.9592\n",
      "\n"
     ]
    },
    {
     "name": "stdout",
     "output_type": "stream",
     "text": [
      "Epoch 100, Loss 0.0467\n",
      "Training Accuracy: 0.9520, Testing Accuracy: 0.9622\n",
      "\n"
     ]
    },
    {
     "name": "stdout",
     "output_type": "stream",
     "text": [
      "Epoch 110, Loss 0.0454\n",
      "Training Accuracy: 0.9524, Testing Accuracy: 0.9632\n",
      "\n"
     ]
    },
    {
     "name": "stdout",
     "output_type": "stream",
     "text": [
      "Epoch 120, Loss 0.0443\n",
      "Training Accuracy: 0.9540, Testing Accuracy: 0.9637\n",
      "\n"
     ]
    },
    {
     "name": "stdout",
     "output_type": "stream",
     "text": [
      "Epoch 130, Loss 0.0433\n",
      "Training Accuracy: 0.9553, Testing Accuracy: 0.9637\n",
      "\n"
     ]
    },
    {
     "name": "stdout",
     "output_type": "stream",
     "text": [
      "Epoch 140, Loss 0.0424\n",
      "Training Accuracy: 0.9564, Testing Accuracy: 0.9637\n",
      "\n"
     ]
    },
    {
     "name": "stdout",
     "output_type": "stream",
     "text": [
      "Epoch 150, Loss 0.0417\n",
      "Training Accuracy: 0.9576, Testing Accuracy: 0.9647\n",
      "\n"
     ]
    },
    {
     "name": "stdout",
     "output_type": "stream",
     "text": [
      "Epoch 160, Loss 0.0409\n",
      "Training Accuracy: 0.9580, Testing Accuracy: 0.9647\n",
      "\n"
     ]
    },
    {
     "name": "stdout",
     "output_type": "stream",
     "text": [
      "Epoch 170, Loss 0.0403\n",
      "Training Accuracy: 0.9586, Testing Accuracy: 0.9647\n",
      "\n"
     ]
    },
    {
     "name": "stdout",
     "output_type": "stream",
     "text": [
      "Epoch 180, Loss 0.0397\n",
      "Training Accuracy: 0.9594, Testing Accuracy: 0.9652\n",
      "\n"
     ]
    },
    {
     "name": "stdout",
     "output_type": "stream",
     "text": [
      "Epoch 190, Loss 0.0392\n",
      "Training Accuracy: 0.9595, Testing Accuracy: 0.9657\n",
      "\n"
     ]
    },
    {
     "name": "stdout",
     "output_type": "stream",
     "text": [
      "Epoch 200, Loss 0.0387\n",
      "Training Accuracy: 0.9599, Testing Accuracy: 0.9662\n",
      "\n"
     ]
    },
    {
     "name": "stdout",
     "output_type": "stream",
     "text": [
      "Epoch 210, Loss 0.0382\n",
      "Training Accuracy: 0.9604, Testing Accuracy: 0.9662\n",
      "\n"
     ]
    },
    {
     "name": "stdout",
     "output_type": "stream",
     "text": [
      "Epoch 220, Loss 0.0378\n",
      "Training Accuracy: 0.9605, Testing Accuracy: 0.9672\n",
      "\n"
     ]
    },
    {
     "name": "stdout",
     "output_type": "stream",
     "text": [
      "Epoch 230, Loss 0.0374\n",
      "Training Accuracy: 0.9607, Testing Accuracy: 0.9672\n",
      "\n"
     ]
    },
    {
     "name": "stdout",
     "output_type": "stream",
     "text": [
      "Epoch 240, Loss 0.037\n",
      "Training Accuracy: 0.9610, Testing Accuracy: 0.9677\n",
      "\n"
     ]
    },
    {
     "data": {
      "text/plain": [
       "0.02331667842281529"
      ]
     },
     "execution_count": 23,
     "metadata": {},
     "output_type": "execute_result"
    }
   ],
   "source": [
    "lr_learner.train_loop(dl)"
   ]
  },
  {
   "cell_type": "code",
   "execution_count": 24,
   "id": "ca410940",
   "metadata": {
    "execution": {
     "iopub.execute_input": "2021-08-22T10:14:02.569091Z",
     "iopub.status.busy": "2021-08-22T10:14:02.568518Z",
     "iopub.status.idle": "2021-08-22T10:14:02.857929Z",
     "shell.execute_reply": "2021-08-22T10:14:02.858373Z"
    },
    "papermill": {
     "duration": 0.34559,
     "end_time": "2021-08-22T10:14:02.858524",
     "exception": false,
     "start_time": "2021-08-22T10:14:02.512934",
     "status": "completed"
    },
    "tags": []
   },
   "outputs": [
    {
     "data": {
      "text/plain": [
       "<matplotlib.legend.Legend at 0x7f4b7616b9e8>"
      ]
     },
     "execution_count": 24,
     "metadata": {},
     "output_type": "execute_result"
    },
    {
     "data": {
      "image/png": "[encoded data removed]",
      "text/plain": [
       "<Figure size 1080x720 with 1 Axes>"
      ]
     },
     "metadata": {
      "needs_background": "light"
     },
     "output_type": "display_data"
    }
   ],
   "source": [
    "#comparing the results of NN and LR\n",
    "plt.figure(figsize=(15,10))\n",
    "\n",
    "# Neural Network plots\n",
    "plt.plot(acc_nn.accuracies, 'r-', label = \"Training Accuracies - NN\")\n",
    "plt.plot(acc_nn.test_accuracies, 'g-', label = \"Testing Accuracies - NN\")\n",
    "\n",
    "# Logistic Regression plots\n",
    "plt.plot(acc_lr.accuracies, 'k-', label = \"Training Accuracies - LR\")\n",
    "plt.plot(acc_lr.test_accuracies, 'b-', label = \"Testing Accuracies - LR\")\n",
    "plt.legend()"
   ]
  },
  {
   "cell_type": "markdown",
   "id": "80dfb35c",
   "metadata": {
    "papermill": {
     "duration": 0.049498,
     "end_time": "2021-08-22T10:14:02.955088",
     "exception": false,
     "start_time": "2021-08-22T10:14:02.905590",
     "status": "completed"
    },
    "tags": []
   },
   "source": [
    "#### Plotting the outputs of this layer of the NN.\n"
   ]
  },
  {
   "cell_type": "code",
   "execution_count": 25,
   "id": "45eb2ff5",
   "metadata": {
    "execution": {
     "iopub.execute_input": "2021-08-22T10:14:03.077827Z",
     "iopub.status.busy": "2021-08-22T10:14:03.072718Z",
     "iopub.status.idle": "2021-08-22T10:14:03.102632Z",
     "shell.execute_reply": "2021-08-22T10:14:03.103423Z"
    },
    "papermill": {
     "duration": 0.096694,
     "end_time": "2021-08-22T10:14:03.103582",
     "exception": false,
     "start_time": "2021-08-22T10:14:03.006888",
     "status": "completed"
    },
    "tags": []
   },
   "outputs": [],
   "source": [
    "new_model = Model(layers[:-2])\n",
    "testing_plot = new_model(testing_data_x)"
   ]
  },
  {
   "cell_type": "code",
   "execution_count": 26,
   "id": "4c0a5485",
   "metadata": {
    "execution": {
     "iopub.execute_input": "2021-08-22T10:14:03.213860Z",
     "iopub.status.busy": "2021-08-22T10:14:03.213247Z",
     "iopub.status.idle": "2021-08-22T10:14:03.437673Z",
     "shell.execute_reply": "2021-08-22T10:14:03.438171Z"
    },
    "papermill": {
     "duration": 0.282088,
     "end_time": "2021-08-22T10:14:03.438352",
     "exception": false,
     "start_time": "2021-08-22T10:14:03.156264",
     "status": "completed"
    },
    "tags": []
   },
   "outputs": [
    {
     "data": {
      "text/plain": [
       "Text(0.5, 1.0, 'Outputs')"
      ]
     },
     "execution_count": 26,
     "metadata": {},
     "output_type": "execute_result"
    },
    {
     "data": {
      "image/png": "[encoded data removed]",
      "text/plain": [
       "<Figure size 576x504 with 1 Axes>"
      ]
     },
     "metadata": {
      "needs_background": "light"
     },
     "output_type": "display_data"
    }
   ],
   "source": [
    "# Plotting the scatter plot of points and color coding by class\n",
    "plt.figure(figsize=(8,7))\n",
    "plt.scatter(testing_plot[:,0], testing_plot[:,1], alpha = 0.1, c = y_test.ravel());\n",
    "plt.title('Outputs')"
   ]
  },
  {
   "cell_type": "markdown",
   "id": "a74fcf8f",
   "metadata": {
    "papermill": {
     "duration": 0.050784,
     "end_time": "2021-08-22T10:14:03.538727",
     "exception": false,
     "start_time": "2021-08-22T10:14:03.487943",
     "status": "completed"
    },
    "tags": []
   },
   "source": [
    "Probability contours"
   ]
  },
  {
   "cell_type": "code",
   "execution_count": 27,
   "id": "d0afc8e3",
   "metadata": {
    "execution": {
     "iopub.execute_input": "2021-08-22T10:14:03.647657Z",
     "iopub.status.busy": "2021-08-22T10:14:03.646655Z",
     "iopub.status.idle": "2021-08-22T10:14:03.657032Z",
     "shell.execute_reply": "2021-08-22T10:14:03.655774Z"
    },
    "papermill": {
     "duration": 0.070183,
     "end_time": "2021-08-22T10:14:03.657159",
     "exception": false,
     "start_time": "2021-08-22T10:14:03.586976",
     "status": "completed"
    },
    "tags": []
   },
   "outputs": [],
   "source": [
    "model_prob = Model(layers[-2:]) "
   ]
  },
  {
   "cell_type": "code",
   "execution_count": 28,
   "id": "9b96e238",
   "metadata": {
    "execution": {
     "iopub.execute_input": "2021-08-22T10:14:03.802705Z",
     "iopub.status.busy": "2021-08-22T10:14:03.802078Z",
     "iopub.status.idle": "2021-08-22T10:14:03.817034Z",
     "shell.execute_reply": "2021-08-22T10:14:03.817889Z"
    },
    "papermill": {
     "duration": 0.104823,
     "end_time": "2021-08-22T10:14:03.818025",
     "exception": false,
     "start_time": "2021-08-22T10:14:03.713202",
     "status": "completed"
    },
    "tags": []
   },
   "outputs": [],
   "source": [
    "#creating the x and y ranges according to the above generated plot.\n",
    "x_range = np.linspace(-4, 1, 100) \n",
    "y_range = np.linspace(-6, 6, 100) \n",
    "x_grid, y_grid = np.meshgrid(x_range, y_range) # x_grid and y_grig are of size 100 X 100\n",
    "\n",
    "# converting x_grid and y_grid to continuous arrays\n",
    "x_gridflat = np.ravel(x_grid)\n",
    "y_gridflat = np.ravel(y_grid)\n",
    "\n",
    "# The last layer of the current model takes two columns as input. Hence transpose of np.vstack() is required.\n",
    "X = np.vstack((x_gridflat, y_gridflat)).T\n",
    "\n",
    "prob_contour = model_prob(X).reshape(100,100) "
   ]
  },
  {
   "cell_type": "code",
   "execution_count": 29,
   "id": "da72499a",
   "metadata": {
    "execution": {
     "iopub.execute_input": "2021-08-22T10:14:03.933018Z",
     "iopub.status.busy": "2021-08-22T10:14:03.932429Z",
     "iopub.status.idle": "2021-08-22T10:14:04.222889Z",
     "shell.execute_reply": "2021-08-22T10:14:04.223506Z"
    },
    "papermill": {
     "duration": 0.351895,
     "end_time": "2021-08-22T10:14:04.223668",
     "exception": false,
     "start_time": "2021-08-22T10:14:03.871773",
     "status": "completed"
    },
    "tags": []
   },
   "outputs": [
    {
     "data": {
      "image/png": "[encoded data removed]",
      "text/plain": [
       "<Figure size 720x648 with 1 Axes>"
      ]
     },
     "metadata": {
      "needs_background": "light"
     },
     "output_type": "display_data"
    }
   ],
   "source": [
    "plt.figure(figsize=(10,9))\n",
    "plt.scatter(testing_plot[:,0], testing_plot[:,1], alpha = 0.1, c = y_test.ravel())\n",
    "contours = plt.contour(x_grid,y_grid,prob_contour)\n",
    "plt.title('Probability Contours')\n",
    "plt.clabel(contours, inline = True );"
   ]
  },
  {
   "cell_type": "code",
   "execution_count": null,
   "id": "e81b4ac7",
   "metadata": {
    "papermill": {
     "duration": 0.051404,
     "end_time": "2021-08-22T10:14:04.333031",
     "exception": false,
     "start_time": "2021-08-22T10:14:04.281627",
     "status": "completed"
    },
    "tags": []
   },
   "outputs": [],
   "source": []
  }
 ],
 "metadata": {
  "kernelspec": {
   "display_name": "Python 3",
   "language": "python",
   "name": "python3"
  },
  "language_info": {
   "codemirror_mode": {
    "name": "ipython",
    "version": 3
   },
   "file_extension": ".py",
   "mimetype": "text/x-python",
   "name": "python",
   "nbconvert_exporter": "python",
   "pygments_lexer": "ipython3",
   "version": "3.6.14"
  },
  "papermill": {
   "default_parameters": {},
   "duration": 437.369825,
   "end_time": "2021-08-22T10:14:04.697123",
   "environment_variables": {},
   "exception": null,
   "input_path": "2020-08-11-part2.ipynb",
   "output_path": "2020-08-11-part2.ipynb",
   "parameters": {},
   "start_time": "2021-08-22T10:06:47.327298",
   "version": "2.3.3"
  }
 },
 "nbformat": 4,
 "nbformat_minor": 5
}