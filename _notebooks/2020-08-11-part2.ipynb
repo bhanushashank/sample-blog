{
 "cells": [
  {
   "cell_type": "markdown",
   "id": "98380cd3",
   "metadata": {
    "papermill": {
     "duration": 0.029567,
     "end_time": "2022-08-29T10:10:12.206773",
     "exception": false,
     "start_time": "2022-08-29T10:10:12.177206",
     "status": "completed"
    },
    "tags": []
   },
   "source": [
    "# Distinguish Your Own Digits (DYOD)"
   ]
  },
  {
   "cell_type": "markdown",
   "id": "ef31240d",
   "metadata": {
    "papermill": {
     "duration": 0.024062,
     "end_time": "2022-08-29T10:10:12.255376",
     "exception": false,
     "start_time": "2022-08-29T10:10:12.231314",
     "status": "completed"
    },
    "tags": []
   },
   "source": [
    "You are going to write a classifier that distinguishes between the number 3 and number 8."
   ]
  },
  {
   "cell_type": "code",
   "execution_count": 1,
   "id": "b15c8646",
   "metadata": {
    "execution": {
     "iopub.execute_input": "2022-08-29T10:10:12.314980Z",
     "iopub.status.busy": "2022-08-29T10:10:12.314382Z",
     "iopub.status.idle": "2022-08-29T10:10:12.325623Z",
     "shell.execute_reply": "2022-08-29T10:10:12.325109Z"
    },
    "papermill": {
     "duration": 0.046359,
     "end_time": "2022-08-29T10:10:12.325750",
     "exception": false,
     "start_time": "2022-08-29T10:10:12.279391",
     "status": "completed"
    },
    "tags": []
   },
   "outputs": [],
   "source": [
    "%load_ext autoreload\n",
    "%autoreload 2"
   ]
  },
  {
   "cell_type": "code",
   "execution_count": 2,
   "id": "22ef38dc",
   "metadata": {
    "execution": {
     "iopub.execute_input": "2022-08-29T10:10:12.377734Z",
     "iopub.status.busy": "2022-08-29T10:10:12.377151Z",
     "iopub.status.idle": "2022-08-29T10:10:12.935260Z",
     "shell.execute_reply": "2022-08-29T10:10:12.934754Z"
    },
    "papermill": {
     "duration": 0.5857,
     "end_time": "2022-08-29T10:10:12.935392",
     "exception": false,
     "start_time": "2022-08-29T10:10:12.349692",
     "status": "completed"
    },
    "tags": []
   },
   "outputs": [],
   "source": [
    "%matplotlib inline\n",
    "import numpy as np\n",
    "import matplotlib.pyplot as plt\n",
    "import pandas as pd"
   ]
  },
  {
   "cell_type": "markdown",
   "id": "ba036198",
   "metadata": {
    "papermill": {
     "duration": 0.024083,
     "end_time": "2022-08-29T10:10:12.983537",
     "exception": false,
     "start_time": "2022-08-29T10:10:12.959454",
     "status": "completed"
    },
    "tags": []
   },
   "source": [
    "From the command line run `pip install mnist`. This is a library that will help you bring down the mnist dataset. If you run this from a notebook, you need to put  `!pip install mnist` in a cell by itself."
   ]
  },
  {
   "cell_type": "code",
   "execution_count": 3,
   "id": "bb6ad8a1",
   "metadata": {
    "execution": {
     "iopub.execute_input": "2022-08-29T10:10:13.037164Z",
     "iopub.status.busy": "2022-08-29T10:10:13.036530Z",
     "iopub.status.idle": "2022-08-29T10:10:14.670818Z",
     "shell.execute_reply": "2022-08-29T10:10:14.670273Z"
    },
    "papermill": {
     "duration": 1.663292,
     "end_time": "2022-08-29T10:10:14.670949",
     "exception": false,
     "start_time": "2022-08-29T10:10:13.007657",
     "status": "completed"
    },
    "tags": []
   },
   "outputs": [
    {
     "name": "stdout",
     "output_type": "stream",
     "text": [
      "Collecting mnist\r\n"
     ]
    },
    {
     "name": "stdout",
     "output_type": "stream",
     "text": [
      "  Downloading mnist-0.2.2-py2.py3-none-any.whl (3.5 kB)\r\n",
      "Requirement already satisfied: numpy in /opt/hostedtoolcache/Python/3.6.15/x64/lib/python3.6/site-packages (from mnist) (1.19.5)\r\n"
     ]
    },
    {
     "name": "stdout",
     "output_type": "stream",
     "text": [
      "Installing collected packages: mnist\r\n"
     ]
    },
    {
     "name": "stdout",
     "output_type": "stream",
     "text": [
      "Successfully installed mnist-0.2.2\r\n"
     ]
    }
   ],
   "source": [
    "!pip install mnist"
   ]
  },
  {
   "cell_type": "markdown",
   "id": "69df9c9a",
   "metadata": {
    "papermill": {
     "duration": 0.025191,
     "end_time": "2022-08-29T10:10:14.721609",
     "exception": false,
     "start_time": "2022-08-29T10:10:14.696418",
     "status": "completed"
    },
    "tags": []
   },
   "source": [
    "## Preparing the Data"
   ]
  },
  {
   "cell_type": "code",
   "execution_count": 4,
   "id": "7f69d806",
   "metadata": {
    "execution": {
     "iopub.execute_input": "2022-08-29T10:10:14.779414Z",
     "iopub.status.busy": "2022-08-29T10:10:14.778838Z",
     "iopub.status.idle": "2022-08-29T10:10:14.792190Z",
     "shell.execute_reply": "2022-08-29T10:10:14.791710Z"
    },
    "papermill": {
     "duration": 0.045828,
     "end_time": "2022-08-29T10:10:14.792307",
     "exception": false,
     "start_time": "2022-08-29T10:10:14.746479",
     "status": "completed"
    },
    "tags": []
   },
   "outputs": [],
   "source": [
    "import mnist"
   ]
  },
  {
   "cell_type": "code",
   "execution_count": 5,
   "id": "a411e44f",
   "metadata": {
    "execution": {
     "iopub.execute_input": "2022-08-29T10:10:14.847246Z",
     "iopub.status.busy": "2022-08-29T10:10:14.846653Z",
     "iopub.status.idle": "2022-08-29T10:10:15.411682Z",
     "shell.execute_reply": "2022-08-29T10:10:15.411083Z"
    },
    "papermill": {
     "duration": 0.594366,
     "end_time": "2022-08-29T10:10:15.411821",
     "exception": false,
     "start_time": "2022-08-29T10:10:14.817455",
     "status": "completed"
    },
    "tags": []
   },
   "outputs": [],
   "source": [
    "train_images = mnist.train_images()\n",
    "train_labels = mnist.train_labels()"
   ]
  },
  {
   "cell_type": "code",
   "execution_count": 6,
   "id": "dceab3a5",
   "metadata": {
    "execution": {
     "iopub.execute_input": "2022-08-29T10:10:15.469728Z",
     "iopub.status.busy": "2022-08-29T10:10:15.469089Z",
     "iopub.status.idle": "2022-08-29T10:10:15.484557Z",
     "shell.execute_reply": "2022-08-29T10:10:15.485093Z"
    },
    "papermill": {
     "duration": 0.046801,
     "end_time": "2022-08-29T10:10:15.485242",
     "exception": false,
     "start_time": "2022-08-29T10:10:15.438441",
     "status": "completed"
    },
    "tags": []
   },
   "outputs": [
    {
     "data": {
      "text/plain": [
       "((60000, 28, 28), (60000,))"
      ]
     },
     "execution_count": 6,
     "metadata": {},
     "output_type": "execute_result"
    }
   ],
   "source": [
    "train_images.shape, train_labels.shape"
   ]
  },
  {
   "cell_type": "code",
   "execution_count": 7,
   "id": "f50dc2bb",
   "metadata": {
    "execution": {
     "iopub.execute_input": "2022-08-29T10:10:15.540602Z",
     "iopub.status.busy": "2022-08-29T10:10:15.540011Z",
     "iopub.status.idle": "2022-08-29T10:10:15.695793Z",
     "shell.execute_reply": "2022-08-29T10:10:15.696769Z"
    },
    "papermill": {
     "duration": 0.186048,
     "end_time": "2022-08-29T10:10:15.696926",
     "exception": false,
     "start_time": "2022-08-29T10:10:15.510878",
     "status": "completed"
    },
    "tags": []
   },
   "outputs": [],
   "source": [
    "test_images = mnist.test_images()\n",
    "test_labels = mnist.test_labels()"
   ]
  },
  {
   "cell_type": "code",
   "execution_count": 8,
   "id": "fc38cf1b",
   "metadata": {
    "execution": {
     "iopub.execute_input": "2022-08-29T10:10:15.763441Z",
     "iopub.status.busy": "2022-08-29T10:10:15.762841Z",
     "iopub.status.idle": "2022-08-29T10:10:15.768153Z",
     "shell.execute_reply": "2022-08-29T10:10:15.768596Z"
    },
    "papermill": {
     "duration": 0.046322,
     "end_time": "2022-08-29T10:10:15.768731",
     "exception": false,
     "start_time": "2022-08-29T10:10:15.722409",
     "status": "completed"
    },
    "tags": []
   },
   "outputs": [
    {
     "data": {
      "text/plain": [
       "((10000, 28, 28), (10000,))"
      ]
     },
     "execution_count": 8,
     "metadata": {},
     "output_type": "execute_result"
    }
   ],
   "source": [
    "test_images.shape, test_labels.shape"
   ]
  },
  {
   "cell_type": "code",
   "execution_count": 9,
   "id": "f9ed8fe0",
   "metadata": {
    "execution": {
     "iopub.execute_input": "2022-08-29T10:10:15.827597Z",
     "iopub.status.busy": "2022-08-29T10:10:15.827030Z",
     "iopub.status.idle": "2022-08-29T10:10:15.967029Z",
     "shell.execute_reply": "2022-08-29T10:10:15.966539Z"
    },
    "papermill": {
     "duration": 0.172835,
     "end_time": "2022-08-29T10:10:15.967162",
     "exception": false,
     "start_time": "2022-08-29T10:10:15.794327",
     "status": "completed"
    },
    "tags": []
   },
   "outputs": [
    {
     "name": "stdout",
     "output_type": "stream",
     "text": [
      "2\n"
     ]
    },
    {
     "data": {
      "text/plain": [
       "<matplotlib.image.AxesImage at 0x7f8b52b45940>"
      ]
     },
     "execution_count": 9,
     "metadata": {},
     "output_type": "execute_result"
    },
    {
     "data": {
      "image/png": "[encoded data removed]",
      "text/plain": [
       "<Figure size 432x288 with 1 Axes>"
      ]
     },
     "metadata": {
      "needs_background": "light"
     },
     "output_type": "display_data"
    }
   ],
   "source": [
    "image_index = 7776 # You may select anything up to 60,000\n",
    "print(train_labels[image_index]) \n",
    "plt.imshow(train_images[image_index], cmap='Greys')"
   ]
  },
  {
   "cell_type": "markdown",
   "id": "a8d2388d",
   "metadata": {
    "papermill": {
     "duration": 0.026859,
     "end_time": "2022-08-29T10:10:16.021022",
     "exception": false,
     "start_time": "2022-08-29T10:10:15.994163",
     "status": "completed"
    },
    "tags": []
   },
   "source": [
    "## Filter data to get 3 and 8 out"
   ]
  },
  {
   "cell_type": "code",
   "execution_count": 10,
   "id": "776f7fc7",
   "metadata": {
    "execution": {
     "iopub.execute_input": "2022-08-29T10:10:16.095859Z",
     "iopub.status.busy": "2022-08-29T10:10:16.095203Z",
     "iopub.status.idle": "2022-08-29T10:10:16.104407Z",
     "shell.execute_reply": "2022-08-29T10:10:16.103938Z"
    },
    "papermill": {
     "duration": 0.056683,
     "end_time": "2022-08-29T10:10:16.104531",
     "exception": false,
     "start_time": "2022-08-29T10:10:16.047848",
     "status": "completed"
    },
    "tags": []
   },
   "outputs": [],
   "source": [
    "train_filter = np.where((train_labels == 3 ) | (train_labels == 8))\n",
    "test_filter = np.where((test_labels == 3) | (test_labels == 8))\n",
    "X_train, y_train = train_images[train_filter], train_labels[train_filter]\n",
    "X_test, y_test = test_images[test_filter], test_labels[test_filter]"
   ]
  },
  {
   "cell_type": "markdown",
   "id": "948f0b7e",
   "metadata": {
    "papermill": {
     "duration": 0.026831,
     "end_time": "2022-08-29T10:10:16.158347",
     "exception": false,
     "start_time": "2022-08-29T10:10:16.131516",
     "status": "completed"
    },
    "tags": []
   },
   "source": [
    "We normalize the pizel values in the 0 to 1 range"
   ]
  },
  {
   "cell_type": "code",
   "execution_count": 11,
   "id": "ee4c2166",
   "metadata": {
    "execution": {
     "iopub.execute_input": "2022-08-29T10:10:16.217248Z",
     "iopub.status.busy": "2022-08-29T10:10:16.216670Z",
     "iopub.status.idle": "2022-08-29T10:10:16.261919Z",
     "shell.execute_reply": "2022-08-29T10:10:16.261309Z"
    },
    "papermill": {
     "duration": 0.07698,
     "end_time": "2022-08-29T10:10:16.262059",
     "exception": false,
     "start_time": "2022-08-29T10:10:16.185079",
     "status": "completed"
    },
    "tags": []
   },
   "outputs": [],
   "source": [
    "X_train = X_train/255.\n",
    "X_test = X_test/255."
   ]
  },
  {
   "cell_type": "markdown",
   "id": "ddcf4fab",
   "metadata": {
    "papermill": {
     "duration": 0.026726,
     "end_time": "2022-08-29T10:10:16.316462",
     "exception": false,
     "start_time": "2022-08-29T10:10:16.289736",
     "status": "completed"
    },
    "tags": []
   },
   "source": [
    "And setup the labels as 1 (when the digit is 3) and 0 (when the digit is 8)"
   ]
  },
  {
   "cell_type": "code",
   "execution_count": 12,
   "id": "7dc908f2",
   "metadata": {
    "execution": {
     "iopub.execute_input": "2022-08-29T10:10:16.378909Z",
     "iopub.status.busy": "2022-08-29T10:10:16.378339Z",
     "iopub.status.idle": "2022-08-29T10:10:16.388209Z",
     "shell.execute_reply": "2022-08-29T10:10:16.388680Z"
    },
    "papermill": {
     "duration": 0.045643,
     "end_time": "2022-08-29T10:10:16.388814",
     "exception": false,
     "start_time": "2022-08-29T10:10:16.343171",
     "status": "completed"
    },
    "tags": []
   },
   "outputs": [],
   "source": [
    "y_train = 1*(y_train==3)\n",
    "y_test = 1*(y_test==3)"
   ]
  },
  {
   "cell_type": "code",
   "execution_count": 13,
   "id": "01e4e969",
   "metadata": {
    "execution": {
     "iopub.execute_input": "2022-08-29T10:10:16.458710Z",
     "iopub.status.busy": "2022-08-29T10:10:16.450379Z",
     "iopub.status.idle": "2022-08-29T10:10:16.464312Z",
     "shell.execute_reply": "2022-08-29T10:10:16.463584Z"
    },
    "papermill": {
     "duration": 0.048728,
     "end_time": "2022-08-29T10:10:16.464430",
     "exception": false,
     "start_time": "2022-08-29T10:10:16.415702",
     "status": "completed"
    },
    "tags": []
   },
   "outputs": [
    {
     "data": {
      "text/plain": [
       "((11982, 28, 28), (1984, 28, 28))"
      ]
     },
     "execution_count": 13,
     "metadata": {},
     "output_type": "execute_result"
    }
   ],
   "source": [
    "X_train.shape, X_test.shape"
   ]
  },
  {
   "cell_type": "markdown",
   "id": "5ccf3f85",
   "metadata": {
    "papermill": {
     "duration": 0.026682,
     "end_time": "2022-08-29T10:10:16.517937",
     "exception": false,
     "start_time": "2022-08-29T10:10:16.491255",
     "status": "completed"
    },
    "tags": []
   },
   "source": [
    "We reshape the data to flatten the image pixels into a set of features or co-variates:"
   ]
  },
  {
   "cell_type": "code",
   "execution_count": 14,
   "id": "5286a4a3",
   "metadata": {
    "execution": {
     "iopub.execute_input": "2022-08-29T10:10:16.589913Z",
     "iopub.status.busy": "2022-08-29T10:10:16.586375Z",
     "iopub.status.idle": "2022-08-29T10:10:16.593136Z",
     "shell.execute_reply": "2022-08-29T10:10:16.593579Z"
    },
    "papermill": {
     "duration": 0.049001,
     "end_time": "2022-08-29T10:10:16.593714",
     "exception": false,
     "start_time": "2022-08-29T10:10:16.544713",
     "status": "completed"
    },
    "tags": []
   },
   "outputs": [
    {
     "data": {
      "text/plain": [
       "((11982, 784), (1984, 784))"
      ]
     },
     "execution_count": 14,
     "metadata": {},
     "output_type": "execute_result"
    }
   ],
   "source": [
    "X_train = X_train.reshape(X_train.shape[0], -1)\n",
    "X_test = X_test.reshape(X_test.shape[0], -1)\n",
    "X_train.shape, X_test.shape"
   ]
  },
  {
   "cell_type": "code",
   "execution_count": 15,
   "id": "73c5f88a",
   "metadata": {
    "execution": {
     "iopub.execute_input": "2022-08-29T10:10:16.657265Z",
     "iopub.status.busy": "2022-08-29T10:10:16.656659Z",
     "iopub.status.idle": "2022-08-29T10:10:16.673550Z",
     "shell.execute_reply": "2022-08-29T10:10:16.673033Z"
    },
    "papermill": {
     "duration": 0.052854,
     "end_time": "2022-08-29T10:10:16.673670",
     "exception": false,
     "start_time": "2022-08-29T10:10:16.620816",
     "status": "completed"
    },
    "tags": []
   },
   "outputs": [],
   "source": [
    "#Impoting functions from 'Kudzu'\n",
    "from kudzu.model import Model\n",
    "from kudzu.train import Learner\n",
    "from kudzu.optim import GD\n",
    "from kudzu.data import Data, Sampler,Dataloader\n",
    "\n",
    "from kudzu.callbacks import AccCallback\n",
    "from kudzu.callbacks import ClfCallback\n",
    "\n",
    "from kudzu.loss import MSE\n",
    "\n",
    "from kudzu.layer import Sigmoid,Relu\n",
    "from kudzu.layer import Affine"
   ]
  },
  {
   "cell_type": "markdown",
   "id": "bc01172a",
   "metadata": {
    "papermill": {
     "duration": 0.027424,
     "end_time": "2022-08-29T10:10:16.728919",
     "exception": false,
     "start_time": "2022-08-29T10:10:16.701495",
     "status": "completed"
    },
    "tags": []
   },
   "source": [
    "### Let us create a `Config` class, to store important parameters. \n",
    "This class essentially plays the role of a dictionary."
   ]
  },
  {
   "cell_type": "code",
   "execution_count": 16,
   "id": "978281aa",
   "metadata": {
    "execution": {
     "iopub.execute_input": "2022-08-29T10:10:16.791975Z",
     "iopub.status.busy": "2022-08-29T10:10:16.791353Z",
     "iopub.status.idle": "2022-08-29T10:10:16.801675Z",
     "shell.execute_reply": "2022-08-29T10:10:16.801159Z"
    },
    "papermill": {
     "duration": 0.045806,
     "end_time": "2022-08-29T10:10:16.801795",
     "exception": false,
     "start_time": "2022-08-29T10:10:16.755989",
     "status": "completed"
    },
    "tags": []
   },
   "outputs": [],
   "source": [
    "class Config:\n",
    "    pass\n",
    "config = Config()\n",
    "config.lr = 0.001\n",
    "config.num_epochs = 250\n",
    "config.bs = 50"
   ]
  },
  {
   "cell_type": "markdown",
   "id": "1385fa59",
   "metadata": {
    "papermill": {
     "duration": 0.027138,
     "end_time": "2022-08-29T10:10:16.856085",
     "exception": false,
     "start_time": "2022-08-29T10:10:16.828947",
     "status": "completed"
    },
    "tags": []
   },
   "source": [
    "### Running Models with the Training data\n",
    "Details about the network layers:\n",
    "- A first affine layer has 784 inputs and does 100 affine transforms. These are followed by a Relu\n",
    "- A second affine layer has 100 inputs from the 100 activations of the past layer, and does 100 affine transforms. These are followed by a Relu\n",
    "- A third affine layer has 100 activations and does 2 affine transformations to create an embedding for visualization. There is no non-linearity here.\n",
    "- A final \"logistic regression\" which has an affine transform from 2 inputs to 1 output, which is squeezed through a sigmoid.\n"
   ]
  },
  {
   "cell_type": "code",
   "execution_count": 17,
   "id": "2b9c66db",
   "metadata": {
    "execution": {
     "iopub.execute_input": "2022-08-29T10:10:16.929796Z",
     "iopub.status.busy": "2022-08-29T10:10:16.926581Z",
     "iopub.status.idle": "2022-08-29T10:10:16.932046Z",
     "shell.execute_reply": "2022-08-29T10:10:16.932467Z"
    },
    "papermill": {
     "duration": 0.049388,
     "end_time": "2022-08-29T10:10:16.932604",
     "exception": false,
     "start_time": "2022-08-29T10:10:16.883216",
     "status": "completed"
    },
    "tags": []
   },
   "outputs": [],
   "source": [
    "data = Data(X_train, y_train.reshape(-1,1))\n",
    "sampler = Sampler(data, config.bs, shuffle=True)\n",
    "\n",
    "dl = Dataloader(data, sampler)\n",
    "\n",
    "opt = GD(config.lr)\n",
    "loss = MSE()"
   ]
  },
  {
   "cell_type": "code",
   "execution_count": 18,
   "id": "b275e4c2",
   "metadata": {
    "execution": {
     "iopub.execute_input": "2022-08-29T10:10:17.005087Z",
     "iopub.status.busy": "2022-08-29T10:10:17.002413Z",
     "iopub.status.idle": "2022-08-29T10:10:17.007954Z",
     "shell.execute_reply": "2022-08-29T10:10:17.007181Z"
    },
    "papermill": {
     "duration": 0.048265,
     "end_time": "2022-08-29T10:10:17.008072",
     "exception": false,
     "start_time": "2022-08-29T10:10:16.959807",
     "status": "completed"
    },
    "tags": []
   },
   "outputs": [],
   "source": [
    "training_data_x = X_train\n",
    "testing_data_x = X_test\n",
    "training_data_y = y_train.reshape(-1,1)\n",
    "testing_data_y = y_test.reshape(-1,1)"
   ]
  },
  {
   "cell_type": "code",
   "execution_count": 19,
   "id": "76951160",
   "metadata": {
    "execution": {
     "iopub.execute_input": "2022-08-29T10:10:17.070246Z",
     "iopub.status.busy": "2022-08-29T10:10:17.069647Z",
     "iopub.status.idle": "2022-08-29T10:10:17.085055Z",
     "shell.execute_reply": "2022-08-29T10:10:17.084583Z"
    },
    "papermill": {
     "duration": 0.050111,
     "end_time": "2022-08-29T10:10:17.085169",
     "exception": false,
     "start_time": "2022-08-29T10:10:17.035058",
     "status": "completed"
    },
    "tags": []
   },
   "outputs": [
    {
     "name": "stdout",
     "output_type": "stream",
     "text": [
      "xavier\n",
      "xavier\n",
      "xavier\n",
      "xavier\n",
      "xavier\n"
     ]
    }
   ],
   "source": [
    "layers = [Affine(\"first\", 784, 100), Relu(\"first\"), Affine(\"second\", 100, 100), Relu(\"second\"), Affine(\"third\", 100, 2), Affine(\"last\", 2, 1), Sigmoid(\"last\")]\n",
    "model_nn = Model(layers)\n",
    "model_lr = Model([Affine(\"logits\", 784, 1), Sigmoid(\"sigmoid\")])"
   ]
  },
  {
   "cell_type": "code",
   "execution_count": 20,
   "id": "6eede77a",
   "metadata": {
    "execution": {
     "iopub.execute_input": "2022-08-29T10:10:17.148538Z",
     "iopub.status.busy": "2022-08-29T10:10:17.147956Z",
     "iopub.status.idle": "2022-08-29T10:10:17.158017Z",
     "shell.execute_reply": "2022-08-29T10:10:17.158465Z"
    },
    "papermill": {
     "duration": 0.04587,
     "end_time": "2022-08-29T10:10:17.158595",
     "exception": false,
     "start_time": "2022-08-29T10:10:17.112725",
     "status": "completed"
    },
    "tags": []
   },
   "outputs": [],
   "source": [
    "nn_learner = Learner(loss, model_nn, opt, config.num_epochs)\n",
    "acc_nn = ClfCallback(nn_learner, config.bs, training_data_x , testing_data_x, training_data_y, testing_data_y)\n",
    "nn_learner.set_callbacks([acc_nn])"
   ]
  },
  {
   "cell_type": "code",
   "execution_count": 21,
   "id": "877b6cc7",
   "metadata": {
    "execution": {
     "iopub.execute_input": "2022-08-29T10:10:17.230136Z",
     "iopub.status.busy": "2022-08-29T10:10:17.217421Z",
     "iopub.status.idle": "2022-08-29T10:10:17.233274Z",
     "shell.execute_reply": "2022-08-29T10:10:17.233744Z"
    },
    "papermill": {
     "duration": 0.047851,
     "end_time": "2022-08-29T10:10:17.233882",
     "exception": false,
     "start_time": "2022-08-29T10:10:17.186031",
     "status": "completed"
    },
    "tags": []
   },
   "outputs": [],
   "source": [
    "lr_learner = Learner(loss, model_lr, opt, config.num_epochs)\n",
    "acc_lr = ClfCallback(lr_learner, config.bs, training_data_x , testing_data_x, training_data_y, testing_data_y)\n",
    "lr_learner.set_callbacks([acc_lr])"
   ]
  },
  {
   "cell_type": "code",
   "execution_count": 22,
   "id": "d9b133c3",
   "metadata": {
    "execution": {
     "iopub.execute_input": "2022-08-29T10:10:17.301388Z",
     "iopub.status.busy": "2022-08-29T10:10:17.300789Z",
     "iopub.status.idle": "2022-08-29T10:11:35.060338Z",
     "shell.execute_reply": "2022-08-29T10:11:35.060899Z"
    },
    "papermill": {
     "duration": 77.799678,
     "end_time": "2022-08-29T10:11:35.061050",
     "exception": false,
     "start_time": "2022-08-29T10:10:17.261372",
     "status": "completed"
    },
    "tags": []
   },
   "outputs": [
    {
     "name": "stdout",
     "output_type": "stream",
     "text": [
      "Epoch 0, Loss 0.2533\n",
      "Training Accuracy: 0.5216, Testing Accuracy: 0.5161\n",
      "\n"
     ]
    },
    {
     "name": "stdout",
     "output_type": "stream",
     "text": [
      "Epoch 10, Loss 0.1299\n",
      "Training Accuracy: 0.8712, Testing Accuracy: 0.8805\n",
      "\n"
     ]
    },
    {
     "name": "stdout",
     "output_type": "stream",
     "text": [
      "Epoch 20, Loss 0.0714\n",
      "Training Accuracy: 0.9261, Testing Accuracy: 0.9365\n",
      "\n"
     ]
    },
    {
     "name": "stdout",
     "output_type": "stream",
     "text": [
      "Epoch 30, Loss 0.0506\n",
      "Training Accuracy: 0.9465, Testing Accuracy: 0.9556\n",
      "\n"
     ]
    },
    {
     "name": "stdout",
     "output_type": "stream",
     "text": [
      "Epoch 40, Loss 0.0414\n",
      "Training Accuracy: 0.9561, Testing Accuracy: 0.9602\n",
      "\n"
     ]
    },
    {
     "name": "stdout",
     "output_type": "stream",
     "text": [
      "Epoch 50, Loss 0.0363\n",
      "Training Accuracy: 0.9614, Testing Accuracy: 0.9652\n",
      "\n"
     ]
    },
    {
     "name": "stdout",
     "output_type": "stream",
     "text": [
      "Epoch 60, Loss 0.033\n",
      "Training Accuracy: 0.9632, Testing Accuracy: 0.9677\n",
      "\n"
     ]
    },
    {
     "name": "stdout",
     "output_type": "stream",
     "text": [
      "Epoch 70, Loss 0.0307\n",
      "Training Accuracy: 0.9654, Testing Accuracy: 0.9693\n",
      "\n"
     ]
    },
    {
     "name": "stdout",
     "output_type": "stream",
     "text": [
      "Epoch 80, Loss 0.0289\n",
      "Training Accuracy: 0.9676, Testing Accuracy: 0.9708\n",
      "\n"
     ]
    },
    {
     "name": "stdout",
     "output_type": "stream",
     "text": [
      "Epoch 90, Loss 0.0274\n",
      "Training Accuracy: 0.9692, Testing Accuracy: 0.9718\n",
      "\n"
     ]
    },
    {
     "name": "stdout",
     "output_type": "stream",
     "text": [
      "Epoch 100, Loss 0.0262\n",
      "Training Accuracy: 0.9703, Testing Accuracy: 0.9723\n",
      "\n"
     ]
    },
    {
     "name": "stdout",
     "output_type": "stream",
     "text": [
      "Epoch 110, Loss 0.0252\n",
      "Training Accuracy: 0.9713, Testing Accuracy: 0.9733\n",
      "\n"
     ]
    },
    {
     "name": "stdout",
     "output_type": "stream",
     "text": [
      "Epoch 120, Loss 0.0243\n",
      "Training Accuracy: 0.9729, Testing Accuracy: 0.9733\n",
      "\n"
     ]
    },
    {
     "name": "stdout",
     "output_type": "stream",
     "text": [
      "Epoch 130, Loss 0.0235\n",
      "Training Accuracy: 0.9740, Testing Accuracy: 0.9738\n",
      "\n"
     ]
    },
    {
     "name": "stdout",
     "output_type": "stream",
     "text": [
      "Epoch 140, Loss 0.0227\n",
      "Training Accuracy: 0.9745, Testing Accuracy: 0.9753\n",
      "\n"
     ]
    },
    {
     "name": "stdout",
     "output_type": "stream",
     "text": [
      "Epoch 150, Loss 0.0221\n",
      "Training Accuracy: 0.9755, Testing Accuracy: 0.9748\n",
      "\n"
     ]
    },
    {
     "name": "stdout",
     "output_type": "stream",
     "text": [
      "Epoch 160, Loss 0.0214\n",
      "Training Accuracy: 0.9759, Testing Accuracy: 0.9748\n",
      "\n"
     ]
    },
    {
     "name": "stdout",
     "output_type": "stream",
     "text": [
      "Epoch 170, Loss 0.0208\n",
      "Training Accuracy: 0.9769, Testing Accuracy: 0.9743\n",
      "\n"
     ]
    },
    {
     "name": "stdout",
     "output_type": "stream",
     "text": [
      "Epoch 180, Loss 0.0203\n",
      "Training Accuracy: 0.9773, Testing Accuracy: 0.9748\n",
      "\n"
     ]
    },
    {
     "name": "stdout",
     "output_type": "stream",
     "text": [
      "Epoch 190, Loss 0.0198\n",
      "Training Accuracy: 0.9781, Testing Accuracy: 0.9753\n",
      "\n"
     ]
    },
    {
     "name": "stdout",
     "output_type": "stream",
     "text": [
      "Epoch 200, Loss 0.0193\n",
      "Training Accuracy: 0.9788, Testing Accuracy: 0.9753\n",
      "\n"
     ]
    },
    {
     "name": "stdout",
     "output_type": "stream",
     "text": [
      "Epoch 210, Loss 0.0188\n",
      "Training Accuracy: 0.9800, Testing Accuracy: 0.9753\n",
      "\n"
     ]
    },
    {
     "name": "stdout",
     "output_type": "stream",
     "text": [
      "Epoch 220, Loss 0.0184\n",
      "Training Accuracy: 0.9804, Testing Accuracy: 0.9753\n",
      "\n"
     ]
    },
    {
     "name": "stdout",
     "output_type": "stream",
     "text": [
      "Epoch 230, Loss 0.0179\n",
      "Training Accuracy: 0.9805, Testing Accuracy: 0.9758\n",
      "\n"
     ]
    },
    {
     "name": "stdout",
     "output_type": "stream",
     "text": [
      "Epoch 240, Loss 0.0175\n",
      "Training Accuracy: 0.9808, Testing Accuracy: 0.9758\n",
      "\n"
     ]
    },
    {
     "data": {
      "text/plain": [
       "0.04189550722736879"
      ]
     },
     "execution_count": 22,
     "metadata": {},
     "output_type": "execute_result"
    }
   ],
   "source": [
    "nn_learner.train_loop(dl)"
   ]
  },
  {
   "cell_type": "code",
   "execution_count": 23,
   "id": "e0163366",
   "metadata": {
    "execution": {
     "iopub.execute_input": "2022-08-29T10:11:35.142774Z",
     "iopub.status.busy": "2022-08-29T10:11:35.142185Z",
     "iopub.status.idle": "2022-08-29T10:11:49.365491Z",
     "shell.execute_reply": "2022-08-29T10:11:49.366303Z"
    },
    "papermill": {
     "duration": 14.270572,
     "end_time": "2022-08-29T10:11:49.366450",
     "exception": false,
     "start_time": "2022-08-29T10:11:35.095878",
     "status": "completed"
    },
    "tags": []
   },
   "outputs": [
    {
     "name": "stdout",
     "output_type": "stream",
     "text": [
      "Epoch 0, Loss 0.2297\n",
      "Training Accuracy: 0.7137, Testing Accuracy: 0.7182\n",
      "\n"
     ]
    },
    {
     "name": "stdout",
     "output_type": "stream",
     "text": [
      "Epoch 10, Loss 0.104\n",
      "Training Accuracy: 0.9068, Testing Accuracy: 0.9163\n",
      "\n"
     ]
    },
    {
     "name": "stdout",
     "output_type": "stream",
     "text": [
      "Epoch 20, Loss 0.0793\n",
      "Training Accuracy: 0.9260, Testing Accuracy: 0.9390\n",
      "\n"
     ]
    },
    {
     "name": "stdout",
     "output_type": "stream",
     "text": [
      "Epoch 30, Loss 0.068\n",
      "Training Accuracy: 0.9356, Testing Accuracy: 0.9456\n",
      "\n"
     ]
    },
    {
     "name": "stdout",
     "output_type": "stream",
     "text": [
      "Epoch 40, Loss 0.0613\n",
      "Training Accuracy: 0.9414, Testing Accuracy: 0.9501\n",
      "\n"
     ]
    },
    {
     "name": "stdout",
     "output_type": "stream",
     "text": [
      "Epoch 50, Loss 0.0567\n",
      "Training Accuracy: 0.9454, Testing Accuracy: 0.9551\n",
      "\n"
     ]
    },
    {
     "name": "stdout",
     "output_type": "stream",
     "text": [
      "Epoch 60, Loss 0.0534\n",
      "Training Accuracy: 0.9479, Testing Accuracy: 0.9572\n",
      "\n"
     ]
    },
    {
     "name": "stdout",
     "output_type": "stream",
     "text": [
      "Epoch 70, Loss 0.0509\n",
      "Training Accuracy: 0.9498, Testing Accuracy: 0.9587\n",
      "\n"
     ]
    },
    {
     "name": "stdout",
     "output_type": "stream",
     "text": [
      "Epoch 80, Loss 0.0489\n",
      "Training Accuracy: 0.9509, Testing Accuracy: 0.9607\n",
      "\n"
     ]
    },
    {
     "name": "stdout",
     "output_type": "stream",
     "text": [
      "Epoch 90, Loss 0.0472\n",
      "Training Accuracy: 0.9526, Testing Accuracy: 0.9637\n",
      "\n"
     ]
    },
    {
     "name": "stdout",
     "output_type": "stream",
     "text": [
      "Epoch 100, Loss 0.0458\n",
      "Training Accuracy: 0.9538, Testing Accuracy: 0.9657\n",
      "\n"
     ]
    },
    {
     "name": "stdout",
     "output_type": "stream",
     "text": [
      "Epoch 110, Loss 0.0446\n",
      "Training Accuracy: 0.9544, Testing Accuracy: 0.9652\n",
      "\n"
     ]
    },
    {
     "name": "stdout",
     "output_type": "stream",
     "text": [
      "Epoch 120, Loss 0.0436\n",
      "Training Accuracy: 0.9548, Testing Accuracy: 0.9652\n",
      "\n"
     ]
    },
    {
     "name": "stdout",
     "output_type": "stream",
     "text": [
      "Epoch 130, Loss 0.0426\n",
      "Training Accuracy: 0.9556, Testing Accuracy: 0.9652\n",
      "\n"
     ]
    },
    {
     "name": "stdout",
     "output_type": "stream",
     "text": [
      "Epoch 140, Loss 0.0418\n",
      "Training Accuracy: 0.9564, Testing Accuracy: 0.9657\n",
      "\n"
     ]
    },
    {
     "name": "stdout",
     "output_type": "stream",
     "text": [
      "Epoch 150, Loss 0.0411\n",
      "Training Accuracy: 0.9572, Testing Accuracy: 0.9662\n",
      "\n"
     ]
    },
    {
     "name": "stdout",
     "output_type": "stream",
     "text": [
      "Epoch 160, Loss 0.0404\n",
      "Training Accuracy: 0.9576, Testing Accuracy: 0.9672\n",
      "\n"
     ]
    },
    {
     "name": "stdout",
     "output_type": "stream",
     "text": [
      "Epoch 170, Loss 0.0398\n",
      "Training Accuracy: 0.9580, Testing Accuracy: 0.9667\n",
      "\n"
     ]
    },
    {
     "name": "stdout",
     "output_type": "stream",
     "text": [
      "Epoch 180, Loss 0.0393\n",
      "Training Accuracy: 0.9584, Testing Accuracy: 0.9667\n",
      "\n"
     ]
    },
    {
     "name": "stdout",
     "output_type": "stream",
     "text": [
      "Epoch 190, Loss 0.0388\n",
      "Training Accuracy: 0.9590, Testing Accuracy: 0.9667\n",
      "\n"
     ]
    },
    {
     "name": "stdout",
     "output_type": "stream",
     "text": [
      "Epoch 200, Loss 0.0383\n",
      "Training Accuracy: 0.9595, Testing Accuracy: 0.9672\n",
      "\n"
     ]
    },
    {
     "name": "stdout",
     "output_type": "stream",
     "text": [
      "Epoch 210, Loss 0.0379\n",
      "Training Accuracy: 0.9601, Testing Accuracy: 0.9672\n",
      "\n"
     ]
    },
    {
     "name": "stdout",
     "output_type": "stream",
     "text": [
      "Epoch 220, Loss 0.0375\n",
      "Training Accuracy: 0.9604, Testing Accuracy: 0.9677\n",
      "\n"
     ]
    },
    {
     "name": "stdout",
     "output_type": "stream",
     "text": [
      "Epoch 230, Loss 0.0371\n",
      "Training Accuracy: 0.9607, Testing Accuracy: 0.9677\n",
      "\n"
     ]
    },
    {
     "name": "stdout",
     "output_type": "stream",
     "text": [
      "Epoch 240, Loss 0.0367\n",
      "Training Accuracy: 0.9613, Testing Accuracy: 0.9677\n",
      "\n"
     ]
    },
    {
     "data": {
      "text/plain": [
       "0.018382709563349357"
      ]
     },
     "execution_count": 23,
     "metadata": {},
     "output_type": "execute_result"
    }
   ],
   "source": [
    "lr_learner.train_loop(dl)"
   ]
  },
  {
   "cell_type": "code",
   "execution_count": 24,
   "id": "ca410940",
   "metadata": {
    "execution": {
     "iopub.execute_input": "2022-08-29T10:11:49.463045Z",
     "iopub.status.busy": "2022-08-29T10:11:49.462441Z",
     "iopub.status.idle": "2022-08-29T10:11:49.685409Z",
     "shell.execute_reply": "2022-08-29T10:11:49.684916Z"
    },
    "papermill": {
     "duration": 0.277062,
     "end_time": "2022-08-29T10:11:49.685565",
     "exception": false,
     "start_time": "2022-08-29T10:11:49.408503",
     "status": "completed"
    },
    "tags": []
   },
   "outputs": [
    {
     "data": {
      "text/plain": [
       "<matplotlib.legend.Legend at 0x7f8b45ef9f98>"
      ]
     },
     "execution_count": 24,
     "metadata": {},
     "output_type": "execute_result"
    },
    {
     "data": {
      "image/png": "[encoded data removed]",
      "text/plain": [
       "<Figure size 1080x720 with 1 Axes>"
      ]
     },
     "metadata": {
      "needs_background": "light"
     },
     "output_type": "display_data"
    }
   ],
   "source": [
    "#comparing the results of NN and LR\n",
    "plt.figure(figsize=(15,10))\n",
    "\n",
    "# Neural Network plots\n",
    "plt.plot(acc_nn.accuracies, 'r-', label = \"Training Accuracies - NN\")\n",
    "plt.plot(acc_nn.test_accuracies, 'g-', label = \"Testing Accuracies - NN\")\n",
    "\n",
    "# Logistic Regression plots\n",
    "plt.plot(acc_lr.accuracies, 'k-', label = \"Training Accuracies - LR\")\n",
    "plt.plot(acc_lr.test_accuracies, 'b-', label = \"Testing Accuracies - LR\")\n",
    "plt.legend()"
   ]
  },
  {
   "cell_type": "markdown",
   "id": "80dfb35c",
   "metadata": {
    "papermill": {
     "duration": 0.041946,
     "end_time": "2022-08-29T10:11:49.770102",
     "exception": false,
     "start_time": "2022-08-29T10:11:49.728156",
     "status": "completed"
    },
    "tags": []
   },
   "source": [
    "#### Plotting the outputs of this layer of the NN.\n"
   ]
  },
  {
   "cell_type": "code",
   "execution_count": 25,
   "id": "45eb2ff5",
   "metadata": {
    "execution": {
     "iopub.execute_input": "2022-08-29T10:11:49.859908Z",
     "iopub.status.busy": "2022-08-29T10:11:49.859280Z",
     "iopub.status.idle": "2022-08-29T10:11:49.880812Z",
     "shell.execute_reply": "2022-08-29T10:11:49.881298Z"
    },
    "papermill": {
     "duration": 0.069386,
     "end_time": "2022-08-29T10:11:49.881447",
     "exception": false,
     "start_time": "2022-08-29T10:11:49.812061",
     "status": "completed"
    },
    "tags": []
   },
   "outputs": [],
   "source": [
    "new_model = Model(layers[:-2])\n",
    "testing_plot = new_model(testing_data_x)"
   ]
  },
  {
   "cell_type": "code",
   "execution_count": 26,
   "id": "4c0a5485",
   "metadata": {
    "execution": {
     "iopub.execute_input": "2022-08-29T10:11:49.972852Z",
     "iopub.status.busy": "2022-08-29T10:11:49.972233Z",
     "iopub.status.idle": "2022-08-29T10:11:50.179786Z",
     "shell.execute_reply": "2022-08-29T10:11:50.179278Z"
    },
    "papermill": {
     "duration": 0.255855,
     "end_time": "2022-08-29T10:11:50.179907",
     "exception": false,
     "start_time": "2022-08-29T10:11:49.924052",
     "status": "completed"
    },
    "tags": []
   },
   "outputs": [
    {
     "data": {
      "text/plain": [
       "Text(0.5, 1.0, 'Outputs')"
      ]
     },
     "execution_count": 26,
     "metadata": {},
     "output_type": "execute_result"
    },
    {
     "data": {
      "image/png": "[encoded data removed]",
      "text/plain": [
       "<Figure size 576x504 with 1 Axes>"
      ]
     },
     "metadata": {
      "needs_background": "light"
     },
     "output_type": "display_data"
    }
   ],
   "source": [
    "# Plotting the scatter plot of points and color coding by class\n",
    "plt.figure(figsize=(8,7))\n",
    "plt.scatter(testing_plot[:,0], testing_plot[:,1], alpha = 0.1, c = y_test.ravel());\n",
    "plt.title('Outputs')"
   ]
  },
  {
   "cell_type": "markdown",
   "id": "a74fcf8f",
   "metadata": {
    "papermill": {
     "duration": 0.050316,
     "end_time": "2022-08-29T10:11:50.277159",
     "exception": false,
     "start_time": "2022-08-29T10:11:50.226843",
     "status": "completed"
    },
    "tags": []
   },
   "source": [
    "Probability contours"
   ]
  },
  {
   "cell_type": "code",
   "execution_count": 27,
   "id": "d0afc8e3",
   "metadata": {
    "execution": {
     "iopub.execute_input": "2022-08-29T10:11:50.409310Z",
     "iopub.status.busy": "2022-08-29T10:11:50.408722Z",
     "iopub.status.idle": "2022-08-29T10:11:50.422283Z",
     "shell.execute_reply": "2022-08-29T10:11:50.422713Z"
    },
    "papermill": {
     "duration": 0.096343,
     "end_time": "2022-08-29T10:11:50.422855",
     "exception": false,
     "start_time": "2022-08-29T10:11:50.326512",
     "status": "completed"
    },
    "tags": []
   },
   "outputs": [],
   "source": [
    "model_prob = Model(layers[-2:]) "
   ]
  },
  {
   "cell_type": "code",
   "execution_count": 28,
   "id": "9b96e238",
   "metadata": {
    "execution": {
     "iopub.execute_input": "2022-08-29T10:11:50.518883Z",
     "iopub.status.busy": "2022-08-29T10:11:50.518276Z",
     "iopub.status.idle": "2022-08-29T10:11:50.533967Z",
     "shell.execute_reply": "2022-08-29T10:11:50.534418Z"
    },
    "papermill": {
     "duration": 0.066824,
     "end_time": "2022-08-29T10:11:50.534566",
     "exception": false,
     "start_time": "2022-08-29T10:11:50.467742",
     "status": "completed"
    },
    "tags": []
   },
   "outputs": [],
   "source": [
    "#creating the x and y ranges according to the above generated plot.\n",
    "x_range = np.linspace(-4, 1, 100) \n",
    "y_range = np.linspace(-6, 6, 100) \n",
    "x_grid, y_grid = np.meshgrid(x_range, y_range) # x_grid and y_grig are of size 100 X 100\n",
    "\n",
    "# converting x_grid and y_grid to continuous arrays\n",
    "x_gridflat = np.ravel(x_grid)\n",
    "y_gridflat = np.ravel(y_grid)\n",
    "\n",
    "# The last layer of the current model takes two columns as input. Hence transpose of np.vstack() is required.\n",
    "X = np.vstack((x_gridflat, y_gridflat)).T\n",
    "\n",
    "prob_contour = model_prob(X).reshape(100,100) "
   ]
  },
  {
   "cell_type": "code",
   "execution_count": 29,
   "id": "da72499a",
   "metadata": {
    "execution": {
     "iopub.execute_input": "2022-08-29T10:11:50.634480Z",
     "iopub.status.busy": "2022-08-29T10:11:50.633879Z",
     "iopub.status.idle": "2022-08-29T10:11:50.887035Z",
     "shell.execute_reply": "2022-08-29T10:11:50.885624Z"
    },
    "papermill": {
     "duration": 0.302486,
     "end_time": "2022-08-29T10:11:50.887174",
     "exception": false,
     "start_time": "2022-08-29T10:11:50.584688",
     "status": "completed"
    },
    "tags": []
   },
   "outputs": [
    {
     "data": {
      "image/png": "[encoded data removed]",
      "text/plain": [
       "<Figure size 720x648 with 1 Axes>"
      ]
     },
     "metadata": {
      "needs_background": "light"
     },
     "output_type": "display_data"
    }
   ],
   "source": [
    "plt.figure(figsize=(10,9))\n",
    "plt.scatter(testing_plot[:,0], testing_plot[:,1], alpha = 0.1, c = y_test.ravel())\n",
    "contours = plt.contour(x_grid,y_grid,prob_contour)\n",
    "plt.title('Probability Contours')\n",
    "plt.clabel(contours, inline = True );"
   ]
  },
  {
   "cell_type": "code",
   "execution_count": null,
   "id": "e81b4ac7",
   "metadata": {
    "papermill": {
     "duration": 0.046995,
     "end_time": "2022-08-29T10:11:50.982037",
     "exception": false,
     "start_time": "2022-08-29T10:11:50.935042",
     "status": "completed"
    },
    "tags": []
   },
   "outputs": [],
   "source": []
  }
 ],
 "metadata": {
  "kernelspec": {
   "display_name": "Python 3",
   "language": "python",
   "name": "python3"
  },
  "language_info": {
   "codemirror_mode": {
    "name": "ipython",
    "version": 3
   },
   "file_extension": ".py",
   "mimetype": "text/x-python",
   "name": "python",
   "nbconvert_exporter": "python",
   "pygments_lexer": "ipython3",
   "version": "3.6.15"
  },
  "papermill": {
   "default_parameters": {},
   "duration": 100.416592,
   "end_time": "2022-08-29T10:11:51.550633",
   "environment_variables": {},
   "exception": null,
   "input_path": "2020-08-11-part2.ipynb",
   "output_path": "2020-08-11-part2.ipynb",
   "parameters": {},
   "start_time": "2022-08-29T10:10:11.134041",
   "version": "2.3.3"
  }
 },
 "nbformat": 4,
 "nbformat_minor": 5
}