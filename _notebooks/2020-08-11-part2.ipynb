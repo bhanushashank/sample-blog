{
 "cells": [
  {
   "cell_type": "markdown",
   "id": "98380cd3",
   "metadata": {
    "papermill": {
     "duration": 0.036348,
     "end_time": "2021-09-24T00:20:42.914559",
     "exception": false,
     "start_time": "2021-09-24T00:20:42.878211",
     "status": "completed"
    },
    "tags": []
   },
   "source": [
    "# Distinguish Your Own Digits (DYOD)"
   ]
  },
  {
   "cell_type": "markdown",
   "id": "ef31240d",
   "metadata": {
    "papermill": {
     "duration": 0.030345,
     "end_time": "2021-09-24T00:20:42.976485",
     "exception": false,
     "start_time": "2021-09-24T00:20:42.946140",
     "status": "completed"
    },
    "tags": []
   },
   "source": [
    "You are going to write a classifier that distinguishes between the number 3 and number 8."
   ]
  },
  {
   "cell_type": "code",
   "execution_count": 1,
   "id": "b15c8646",
   "metadata": {
    "execution": {
     "iopub.execute_input": "2021-09-24T00:20:43.051254Z",
     "iopub.status.busy": "2021-09-24T00:20:43.050546Z",
     "iopub.status.idle": "2021-09-24T00:20:43.063586Z",
     "shell.execute_reply": "2021-09-24T00:20:43.062994Z"
    },
    "papermill": {
     "duration": 0.05772,
     "end_time": "2021-09-24T00:20:43.063745",
     "exception": false,
     "start_time": "2021-09-24T00:20:43.006025",
     "status": "completed"
    },
    "tags": []
   },
   "outputs": [],
   "source": [
    "%load_ext autoreload\n",
    "%autoreload 2"
   ]
  },
  {
   "cell_type": "code",
   "execution_count": 2,
   "id": "22ef38dc",
   "metadata": {
    "execution": {
     "iopub.execute_input": "2021-09-24T00:20:43.129425Z",
     "iopub.status.busy": "2021-09-24T00:20:43.128716Z",
     "iopub.status.idle": "2021-09-24T00:20:43.781466Z",
     "shell.execute_reply": "2021-09-24T00:20:43.782023Z"
    },
    "papermill": {
     "duration": 0.686712,
     "end_time": "2021-09-24T00:20:43.782238",
     "exception": false,
     "start_time": "2021-09-24T00:20:43.095526",
     "status": "completed"
    },
    "tags": []
   },
   "outputs": [],
   "source": [
    "%matplotlib inline\n",
    "import numpy as np\n",
    "import matplotlib.pyplot as plt\n",
    "import pandas as pd"
   ]
  },
  {
   "cell_type": "markdown",
   "id": "ba036198",
   "metadata": {
    "papermill": {
     "duration": 0.031673,
     "end_time": "2021-09-24T00:20:43.845178",
     "exception": false,
     "start_time": "2021-09-24T00:20:43.813505",
     "status": "completed"
    },
    "tags": []
   },
   "source": [
    "From the command line run `pip install mnist`. This is a library that will help you bring down the mnist dataset. If you run this from a notebook, you need to put  `!pip install mnist` in a cell by itself."
   ]
  },
  {
   "cell_type": "code",
   "execution_count": 3,
   "id": "bb6ad8a1",
   "metadata": {
    "execution": {
     "iopub.execute_input": "2021-09-24T00:20:43.929807Z",
     "iopub.status.busy": "2021-09-24T00:20:43.928353Z",
     "iopub.status.idle": "2021-09-24T00:20:45.999798Z",
     "shell.execute_reply": "2021-09-24T00:20:45.999142Z"
    },
    "papermill": {
     "duration": 2.123075,
     "end_time": "2021-09-24T00:20:45.999975",
     "exception": false,
     "start_time": "2021-09-24T00:20:43.876900",
     "status": "completed"
    },
    "tags": []
   },
   "outputs": [
    {
     "name": "stdout",
     "output_type": "stream",
     "text": [
      "Collecting mnist\r\n"
     ]
    },
    {
     "name": "stdout",
     "output_type": "stream",
     "text": [
      "  Downloading mnist-0.2.2-py2.py3-none-any.whl (3.5 kB)\r\n",
      "Requirement already satisfied: numpy in /opt/hostedtoolcache/Python/3.6.15/x64/lib/python3.6/site-packages (from mnist) (1.19.5)\r\n"
     ]
    },
    {
     "name": "stdout",
     "output_type": "stream",
     "text": [
      "Installing collected packages: mnist\r\n"
     ]
    },
    {
     "name": "stdout",
     "output_type": "stream",
     "text": [
      "Successfully installed mnist-0.2.2\r\n"
     ]
    }
   ],
   "source": [
    "!pip install mnist"
   ]
  },
  {
   "cell_type": "markdown",
   "id": "69df9c9a",
   "metadata": {
    "papermill": {
     "duration": 0.031985,
     "end_time": "2021-09-24T00:20:46.073532",
     "exception": false,
     "start_time": "2021-09-24T00:20:46.041547",
     "status": "completed"
    },
    "tags": []
   },
   "source": [
    "## Preparing the Data"
   ]
  },
  {
   "cell_type": "code",
   "execution_count": 4,
   "id": "7f69d806",
   "metadata": {
    "execution": {
     "iopub.execute_input": "2021-09-24T00:20:46.160629Z",
     "iopub.status.busy": "2021-09-24T00:20:46.150424Z",
     "iopub.status.idle": "2021-09-24T00:20:46.165646Z",
     "shell.execute_reply": "2021-09-24T00:20:46.165052Z"
    },
    "papermill": {
     "duration": 0.060806,
     "end_time": "2021-09-24T00:20:46.165830",
     "exception": false,
     "start_time": "2021-09-24T00:20:46.105024",
     "status": "completed"
    },
    "tags": []
   },
   "outputs": [],
   "source": [
    "import mnist"
   ]
  },
  {
   "cell_type": "code",
   "execution_count": 5,
   "id": "a411e44f",
   "metadata": {
    "execution": {
     "iopub.execute_input": "2021-09-24T00:20:46.240320Z",
     "iopub.status.busy": "2021-09-24T00:20:46.239663Z",
     "iopub.status.idle": "2021-09-24T00:20:46.915906Z",
     "shell.execute_reply": "2021-09-24T00:20:46.917591Z"
    },
    "papermill": {
     "duration": 0.717462,
     "end_time": "2021-09-24T00:20:46.917812",
     "exception": false,
     "start_time": "2021-09-24T00:20:46.200350",
     "status": "completed"
    },
    "tags": []
   },
   "outputs": [],
   "source": [
    "train_images = mnist.train_images()\n",
    "train_labels = mnist.train_labels()"
   ]
  },
  {
   "cell_type": "code",
   "execution_count": 6,
   "id": "dceab3a5",
   "metadata": {
    "execution": {
     "iopub.execute_input": "2021-09-24T00:20:46.985583Z",
     "iopub.status.busy": "2021-09-24T00:20:46.984889Z",
     "iopub.status.idle": "2021-09-24T00:20:47.003311Z",
     "shell.execute_reply": "2021-09-24T00:20:47.003955Z"
    },
    "papermill": {
     "duration": 0.054199,
     "end_time": "2021-09-24T00:20:47.004120",
     "exception": false,
     "start_time": "2021-09-24T00:20:46.949921",
     "status": "completed"
    },
    "tags": []
   },
   "outputs": [
    {
     "data": {
      "text/plain": [
       "((60000, 28, 28), (60000,))"
      ]
     },
     "execution_count": 6,
     "metadata": {},
     "output_type": "execute_result"
    }
   ],
   "source": [
    "train_images.shape, train_labels.shape"
   ]
  },
  {
   "cell_type": "code",
   "execution_count": 7,
   "id": "f50dc2bb",
   "metadata": {
    "execution": {
     "iopub.execute_input": "2021-09-24T00:20:47.077401Z",
     "iopub.status.busy": "2021-09-24T00:20:47.076713Z",
     "iopub.status.idle": "2021-09-24T00:20:47.292438Z",
     "shell.execute_reply": "2021-09-24T00:20:47.293000Z"
    },
    "papermill": {
     "duration": 0.255882,
     "end_time": "2021-09-24T00:20:47.293206",
     "exception": false,
     "start_time": "2021-09-24T00:20:47.037324",
     "status": "completed"
    },
    "tags": []
   },
   "outputs": [],
   "source": [
    "test_images = mnist.test_images()\n",
    "test_labels = mnist.test_labels()"
   ]
  },
  {
   "cell_type": "code",
   "execution_count": 8,
   "id": "fc38cf1b",
   "metadata": {
    "execution": {
     "iopub.execute_input": "2021-09-24T00:20:47.384574Z",
     "iopub.status.busy": "2021-09-24T00:20:47.383891Z",
     "iopub.status.idle": "2021-09-24T00:20:47.391080Z",
     "shell.execute_reply": "2021-09-24T00:20:47.390509Z"
    },
    "papermill": {
     "duration": 0.064118,
     "end_time": "2021-09-24T00:20:47.391224",
     "exception": false,
     "start_time": "2021-09-24T00:20:47.327106",
     "status": "completed"
    },
    "tags": []
   },
   "outputs": [
    {
     "data": {
      "text/plain": [
       "((10000, 28, 28), (10000,))"
      ]
     },
     "execution_count": 8,
     "metadata": {},
     "output_type": "execute_result"
    }
   ],
   "source": [
    "test_images.shape, test_labels.shape"
   ]
  },
  {
   "cell_type": "code",
   "execution_count": 9,
   "id": "f9ed8fe0",
   "metadata": {
    "execution": {
     "iopub.execute_input": "2021-09-24T00:20:47.485591Z",
     "iopub.status.busy": "2021-09-24T00:20:47.473730Z",
     "iopub.status.idle": "2021-09-24T00:20:47.651473Z",
     "shell.execute_reply": "2021-09-24T00:20:47.650555Z"
    },
    "papermill": {
     "duration": 0.22693,
     "end_time": "2021-09-24T00:20:47.651643",
     "exception": false,
     "start_time": "2021-09-24T00:20:47.424713",
     "status": "completed"
    },
    "tags": []
   },
   "outputs": [
    {
     "name": "stdout",
     "output_type": "stream",
     "text": [
      "2\n"
     ]
    },
    {
     "data": {
      "text/plain": [
       "<matplotlib.image.AxesImage at 0x7f9fb7b009e8>"
      ]
     },
     "execution_count": 9,
     "metadata": {},
     "output_type": "execute_result"
    },
    {
     "data": {
      "image/png": "[encoded data removed]",
      "text/plain": [
       "<Figure size 432x288 with 1 Axes>"
      ]
     },
     "metadata": {
      "needs_background": "light"
     },
     "output_type": "display_data"
    }
   ],
   "source": [
    "image_index = 7776 # You may select anything up to 60,000\n",
    "print(train_labels[image_index]) \n",
    "plt.imshow(train_images[image_index], cmap='Greys')"
   ]
  },
  {
   "cell_type": "markdown",
   "id": "a8d2388d",
   "metadata": {
    "papermill": {
     "duration": 0.034319,
     "end_time": "2021-09-24T00:20:47.721325",
     "exception": false,
     "start_time": "2021-09-24T00:20:47.687006",
     "status": "completed"
    },
    "tags": []
   },
   "source": [
    "## Filter data to get 3 and 8 out"
   ]
  },
  {
   "cell_type": "code",
   "execution_count": 10,
   "id": "776f7fc7",
   "metadata": {
    "execution": {
     "iopub.execute_input": "2021-09-24T00:20:47.798856Z",
     "iopub.status.busy": "2021-09-24T00:20:47.798024Z",
     "iopub.status.idle": "2021-09-24T00:20:47.819001Z",
     "shell.execute_reply": "2021-09-24T00:20:47.818394Z"
    },
    "papermill": {
     "duration": 0.064049,
     "end_time": "2021-09-24T00:20:47.819170",
     "exception": false,
     "start_time": "2021-09-24T00:20:47.755121",
     "status": "completed"
    },
    "tags": []
   },
   "outputs": [],
   "source": [
    "train_filter = np.where((train_labels == 3 ) | (train_labels == 8))\n",
    "test_filter = np.where((test_labels == 3) | (test_labels == 8))\n",
    "X_train, y_train = train_images[train_filter], train_labels[train_filter]\n",
    "X_test, y_test = test_images[test_filter], test_labels[test_filter]"
   ]
  },
  {
   "cell_type": "markdown",
   "id": "948f0b7e",
   "metadata": {
    "papermill": {
     "duration": 0.039886,
     "end_time": "2021-09-24T00:20:47.893084",
     "exception": false,
     "start_time": "2021-09-24T00:20:47.853198",
     "status": "completed"
    },
    "tags": []
   },
   "source": [
    "We normalize the pizel values in the 0 to 1 range"
   ]
  },
  {
   "cell_type": "code",
   "execution_count": 11,
   "id": "ee4c2166",
   "metadata": {
    "execution": {
     "iopub.execute_input": "2021-09-24T00:20:47.980159Z",
     "iopub.status.busy": "2021-09-24T00:20:47.971704Z",
     "iopub.status.idle": "2021-09-24T00:20:48.045360Z",
     "shell.execute_reply": "2021-09-24T00:20:48.044693Z"
    },
    "papermill": {
     "duration": 0.118607,
     "end_time": "2021-09-24T00:20:48.045540",
     "exception": false,
     "start_time": "2021-09-24T00:20:47.926933",
     "status": "completed"
    },
    "tags": []
   },
   "outputs": [],
   "source": [
    "X_train = X_train/255.\n",
    "X_test = X_test/255."
   ]
  },
  {
   "cell_type": "markdown",
   "id": "ddcf4fab",
   "metadata": {
    "papermill": {
     "duration": 0.033143,
     "end_time": "2021-09-24T00:20:48.113646",
     "exception": false,
     "start_time": "2021-09-24T00:20:48.080503",
     "status": "completed"
    },
    "tags": []
   },
   "source": [
    "And setup the labels as 1 (when the digit is 3) and 0 (when the digit is 8)"
   ]
  },
  {
   "cell_type": "code",
   "execution_count": 12,
   "id": "7dc908f2",
   "metadata": {
    "execution": {
     "iopub.execute_input": "2021-09-24T00:20:48.192123Z",
     "iopub.status.busy": "2021-09-24T00:20:48.191452Z",
     "iopub.status.idle": "2021-09-24T00:20:48.203142Z",
     "shell.execute_reply": "2021-09-24T00:20:48.203702Z"
    },
    "papermill": {
     "duration": 0.055963,
     "end_time": "2021-09-24T00:20:48.203875",
     "exception": false,
     "start_time": "2021-09-24T00:20:48.147912",
     "status": "completed"
    },
    "tags": []
   },
   "outputs": [],
   "source": [
    "y_train = 1*(y_train==3)\n",
    "y_test = 1*(y_test==3)"
   ]
  },
  {
   "cell_type": "code",
   "execution_count": 13,
   "id": "01e4e969",
   "metadata": {
    "execution": {
     "iopub.execute_input": "2021-09-24T00:20:48.277570Z",
     "iopub.status.busy": "2021-09-24T00:20:48.276877Z",
     "iopub.status.idle": "2021-09-24T00:20:48.292712Z",
     "shell.execute_reply": "2021-09-24T00:20:48.292038Z"
    },
    "papermill": {
     "duration": 0.054101,
     "end_time": "2021-09-24T00:20:48.292885",
     "exception": false,
     "start_time": "2021-09-24T00:20:48.238784",
     "status": "completed"
    },
    "tags": []
   },
   "outputs": [
    {
     "data": {
      "text/plain": [
       "((11982, 28, 28), (1984, 28, 28))"
      ]
     },
     "execution_count": 13,
     "metadata": {},
     "output_type": "execute_result"
    }
   ],
   "source": [
    "X_train.shape, X_test.shape"
   ]
  },
  {
   "cell_type": "markdown",
   "id": "5ccf3f85",
   "metadata": {
    "papermill": {
     "duration": 0.032827,
     "end_time": "2021-09-24T00:20:48.359012",
     "exception": false,
     "start_time": "2021-09-24T00:20:48.326185",
     "status": "completed"
    },
    "tags": []
   },
   "source": [
    "We reshape the data to flatten the image pixels into a set of features or co-variates:"
   ]
  },
  {
   "cell_type": "code",
   "execution_count": 14,
   "id": "5286a4a3",
   "metadata": {
    "execution": {
     "iopub.execute_input": "2021-09-24T00:20:48.443803Z",
     "iopub.status.busy": "2021-09-24T00:20:48.443113Z",
     "iopub.status.idle": "2021-09-24T00:20:48.456272Z",
     "shell.execute_reply": "2021-09-24T00:20:48.455704Z"
    },
    "papermill": {
     "duration": 0.061385,
     "end_time": "2021-09-24T00:20:48.456416",
     "exception": false,
     "start_time": "2021-09-24T00:20:48.395031",
     "status": "completed"
    },
    "tags": []
   },
   "outputs": [
    {
     "data": {
      "text/plain": [
       "((11982, 784), (1984, 784))"
      ]
     },
     "execution_count": 14,
     "metadata": {},
     "output_type": "execute_result"
    }
   ],
   "source": [
    "X_train = X_train.reshape(X_train.shape[0], -1)\n",
    "X_test = X_test.reshape(X_test.shape[0], -1)\n",
    "X_train.shape, X_test.shape"
   ]
  },
  {
   "cell_type": "code",
   "execution_count": 15,
   "id": "73c5f88a",
   "metadata": {
    "execution": {
     "iopub.execute_input": "2021-09-24T00:20:48.541819Z",
     "iopub.status.busy": "2021-09-24T00:20:48.533841Z",
     "iopub.status.idle": "2021-09-24T00:20:48.556480Z",
     "shell.execute_reply": "2021-09-24T00:20:48.557077Z"
    },
    "papermill": {
     "duration": 0.064975,
     "end_time": "2021-09-24T00:20:48.557241",
     "exception": false,
     "start_time": "2021-09-24T00:20:48.492266",
     "status": "completed"
    },
    "tags": []
   },
   "outputs": [],
   "source": [
    "#Impoting functions from 'Kudzu'\n",
    "from kudzu.model import Model\n",
    "from kudzu.train import Learner\n",
    "from kudzu.optim import GD\n",
    "from kudzu.data import Data, Sampler,Dataloader\n",
    "\n",
    "from kudzu.callbacks import AccCallback\n",
    "from kudzu.callbacks import ClfCallback\n",
    "\n",
    "from kudzu.loss import MSE\n",
    "\n",
    "from kudzu.layer import Sigmoid,Relu\n",
    "from kudzu.layer import Affine"
   ]
  },
  {
   "cell_type": "markdown",
   "id": "bc01172a",
   "metadata": {
    "papermill": {
     "duration": 0.034962,
     "end_time": "2021-09-24T00:20:48.627573",
     "exception": false,
     "start_time": "2021-09-24T00:20:48.592611",
     "status": "completed"
    },
    "tags": []
   },
   "source": [
    "### Let us create a `Config` class, to store important parameters. \n",
    "This class essentially plays the role of a dictionary."
   ]
  },
  {
   "cell_type": "code",
   "execution_count": 16,
   "id": "978281aa",
   "metadata": {
    "execution": {
     "iopub.execute_input": "2021-09-24T00:20:48.719187Z",
     "iopub.status.busy": "2021-09-24T00:20:48.718504Z",
     "iopub.status.idle": "2021-09-24T00:20:48.721496Z",
     "shell.execute_reply": "2021-09-24T00:20:48.720829Z"
    },
    "papermill": {
     "duration": 0.059871,
     "end_time": "2021-09-24T00:20:48.721652",
     "exception": false,
     "start_time": "2021-09-24T00:20:48.661781",
     "status": "completed"
    },
    "tags": []
   },
   "outputs": [],
   "source": [
    "class Config:\n",
    "    pass\n",
    "config = Config()\n",
    "config.lr = 0.001\n",
    "config.num_epochs = 250\n",
    "config.bs = 50"
   ]
  },
  {
   "cell_type": "markdown",
   "id": "1385fa59",
   "metadata": {
    "papermill": {
     "duration": 0.034666,
     "end_time": "2021-09-24T00:20:48.789722",
     "exception": false,
     "start_time": "2021-09-24T00:20:48.755056",
     "status": "completed"
    },
    "tags": []
   },
   "source": [
    "### Running Models with the Training data\n",
    "Details about the network layers:\n",
    "- A first affine layer has 784 inputs and does 100 affine transforms. These are followed by a Relu\n",
    "- A second affine layer has 100 inputs from the 100 activations of the past layer, and does 100 affine transforms. These are followed by a Relu\n",
    "- A third affine layer has 100 activations and does 2 affine transformations to create an embedding for visualization. There is no non-linearity here.\n",
    "- A final \"logistic regression\" which has an affine transform from 2 inputs to 1 output, which is squeezed through a sigmoid.\n"
   ]
  },
  {
   "cell_type": "code",
   "execution_count": 17,
   "id": "2b9c66db",
   "metadata": {
    "execution": {
     "iopub.execute_input": "2021-09-24T00:20:48.863140Z",
     "iopub.status.busy": "2021-09-24T00:20:48.862477Z",
     "iopub.status.idle": "2021-09-24T00:20:48.883837Z",
     "shell.execute_reply": "2021-09-24T00:20:48.883214Z"
    },
    "papermill": {
     "duration": 0.058709,
     "end_time": "2021-09-24T00:20:48.884001",
     "exception": false,
     "start_time": "2021-09-24T00:20:48.825292",
     "status": "completed"
    },
    "tags": []
   },
   "outputs": [],
   "source": [
    "data = Data(X_train, y_train.reshape(-1,1))\n",
    "sampler = Sampler(data, config.bs, shuffle=True)\n",
    "\n",
    "dl = Dataloader(data, sampler)\n",
    "\n",
    "opt = GD(config.lr)\n",
    "loss = MSE()"
   ]
  },
  {
   "cell_type": "code",
   "execution_count": 18,
   "id": "b275e4c2",
   "metadata": {
    "execution": {
     "iopub.execute_input": "2021-09-24T00:20:48.971379Z",
     "iopub.status.busy": "2021-09-24T00:20:48.965727Z",
     "iopub.status.idle": "2021-09-24T00:20:48.976372Z",
     "shell.execute_reply": "2021-09-24T00:20:48.975715Z"
    },
    "papermill": {
     "duration": 0.058744,
     "end_time": "2021-09-24T00:20:48.976490",
     "exception": false,
     "start_time": "2021-09-24T00:20:48.917746",
     "status": "completed"
    },
    "tags": []
   },
   "outputs": [],
   "source": [
    "training_data_x = X_train\n",
    "testing_data_x = X_test\n",
    "training_data_y = y_train.reshape(-1,1)\n",
    "testing_data_y = y_test.reshape(-1,1)"
   ]
  },
  {
   "cell_type": "code",
   "execution_count": 19,
   "id": "76951160",
   "metadata": {
    "execution": {
     "iopub.execute_input": "2021-09-24T00:20:49.053831Z",
     "iopub.status.busy": "2021-09-24T00:20:49.049428Z",
     "iopub.status.idle": "2021-09-24T00:20:49.073853Z",
     "shell.execute_reply": "2021-09-24T00:20:49.073299Z"
    },
    "papermill": {
     "duration": 0.064604,
     "end_time": "2021-09-24T00:20:49.074009",
     "exception": false,
     "start_time": "2021-09-24T00:20:49.009405",
     "status": "completed"
    },
    "tags": []
   },
   "outputs": [
    {
     "name": "stdout",
     "output_type": "stream",
     "text": [
      "xavier\n",
      "xavier\n",
      "xavier\n",
      "xavier\n",
      "xavier\n"
     ]
    }
   ],
   "source": [
    "layers = [Affine(\"first\", 784, 100), Relu(\"first\"), Affine(\"second\", 100, 100), Relu(\"second\"), Affine(\"third\", 100, 2), Affine(\"last\", 2, 1), Sigmoid(\"last\")]\n",
    "model_nn = Model(layers)\n",
    "model_lr = Model([Affine(\"logits\", 784, 1), Sigmoid(\"sigmoid\")])"
   ]
  },
  {
   "cell_type": "code",
   "execution_count": 20,
   "id": "6eede77a",
   "metadata": {
    "execution": {
     "iopub.execute_input": "2021-09-24T00:20:49.148503Z",
     "iopub.status.busy": "2021-09-24T00:20:49.147838Z",
     "iopub.status.idle": "2021-09-24T00:20:49.163338Z",
     "shell.execute_reply": "2021-09-24T00:20:49.162051Z"
    },
    "papermill": {
     "duration": 0.055142,
     "end_time": "2021-09-24T00:20:49.163473",
     "exception": false,
     "start_time": "2021-09-24T00:20:49.108331",
     "status": "completed"
    },
    "tags": []
   },
   "outputs": [],
   "source": [
    "nn_learner = Learner(loss, model_nn, opt, config.num_epochs)\n",
    "acc_nn = ClfCallback(nn_learner, config.bs, training_data_x , testing_data_x, training_data_y, testing_data_y)\n",
    "nn_learner.set_callbacks([acc_nn])"
   ]
  },
  {
   "cell_type": "code",
   "execution_count": 21,
   "id": "877b6cc7",
   "metadata": {
    "execution": {
     "iopub.execute_input": "2021-09-24T00:20:49.245808Z",
     "iopub.status.busy": "2021-09-24T00:20:49.241819Z",
     "iopub.status.idle": "2021-09-24T00:20:49.251533Z",
     "shell.execute_reply": "2021-09-24T00:20:49.252027Z"
    },
    "papermill": {
     "duration": 0.055396,
     "end_time": "2021-09-24T00:20:49.252182",
     "exception": false,
     "start_time": "2021-09-24T00:20:49.196786",
     "status": "completed"
    },
    "tags": []
   },
   "outputs": [],
   "source": [
    "lr_learner = Learner(loss, model_lr, opt, config.num_epochs)\n",
    "acc_lr = ClfCallback(lr_learner, config.bs, training_data_x , testing_data_x, training_data_y, testing_data_y)\n",
    "lr_learner.set_callbacks([acc_lr])"
   ]
  },
  {
   "cell_type": "code",
   "execution_count": 22,
   "id": "d9b133c3",
   "metadata": {
    "execution": {
     "iopub.execute_input": "2021-09-24T00:20:49.322656Z",
     "iopub.status.busy": "2021-09-24T00:20:49.322027Z",
     "iopub.status.idle": "2021-09-24T00:23:00.406883Z",
     "shell.execute_reply": "2021-09-24T00:23:00.408161Z"
    },
    "papermill": {
     "duration": 131.121849,
     "end_time": "2021-09-24T00:23:00.408457",
     "exception": false,
     "start_time": "2021-09-24T00:20:49.286608",
     "status": "completed"
    },
    "tags": []
   },
   "outputs": [
    {
     "name": "stdout",
     "output_type": "stream",
     "text": [
      "Epoch 0, Loss 0.2467\n",
      "Training Accuracy: 0.6050, Testing Accuracy: 0.6124\n",
      "\n"
     ]
    },
    {
     "name": "stdout",
     "output_type": "stream",
     "text": [
      "Epoch 10, Loss 0.1628\n",
      "Training Accuracy: 0.8743, Testing Accuracy: 0.8836\n",
      "\n"
     ]
    },
    {
     "name": "stdout",
     "output_type": "stream",
     "text": [
      "Epoch 20, Loss 0.0786\n",
      "Training Accuracy: 0.9245, Testing Accuracy: 0.9309\n",
      "\n"
     ]
    },
    {
     "name": "stdout",
     "output_type": "stream",
     "text": [
      "Epoch 30, Loss 0.0532\n",
      "Training Accuracy: 0.9452, Testing Accuracy: 0.9531\n",
      "\n"
     ]
    },
    {
     "name": "stdout",
     "output_type": "stream",
     "text": [
      "Epoch 40, Loss 0.0431\n",
      "Training Accuracy: 0.9550, Testing Accuracy: 0.9597\n",
      "\n"
     ]
    },
    {
     "name": "stdout",
     "output_type": "stream",
     "text": [
      "Epoch 50, Loss 0.0379\n",
      "Training Accuracy: 0.9584, Testing Accuracy: 0.9622\n",
      "\n"
     ]
    },
    {
     "name": "stdout",
     "output_type": "stream",
     "text": [
      "Epoch 60, Loss 0.0347\n",
      "Training Accuracy: 0.9605, Testing Accuracy: 0.9652\n",
      "\n"
     ]
    },
    {
     "name": "stdout",
     "output_type": "stream",
     "text": [
      "Epoch 70, Loss 0.0326\n",
      "Training Accuracy: 0.9625, Testing Accuracy: 0.9652\n",
      "\n"
     ]
    },
    {
     "name": "stdout",
     "output_type": "stream",
     "text": [
      "Epoch 80, Loss 0.0309\n",
      "Training Accuracy: 0.9648, Testing Accuracy: 0.9652\n",
      "\n"
     ]
    },
    {
     "name": "stdout",
     "output_type": "stream",
     "text": [
      "Epoch 90, Loss 0.0296\n",
      "Training Accuracy: 0.9659, Testing Accuracy: 0.9677\n",
      "\n"
     ]
    },
    {
     "name": "stdout",
     "output_type": "stream",
     "text": [
      "Epoch 100, Loss 0.0286\n",
      "Training Accuracy: 0.9675, Testing Accuracy: 0.9688\n",
      "\n"
     ]
    },
    {
     "name": "stdout",
     "output_type": "stream",
     "text": [
      "Epoch 110, Loss 0.0277\n",
      "Training Accuracy: 0.9680, Testing Accuracy: 0.9677\n",
      "\n"
     ]
    },
    {
     "name": "stdout",
     "output_type": "stream",
     "text": [
      "Epoch 120, Loss 0.0269\n",
      "Training Accuracy: 0.9687, Testing Accuracy: 0.9688\n",
      "\n"
     ]
    },
    {
     "name": "stdout",
     "output_type": "stream",
     "text": [
      "Epoch 130, Loss 0.0262\n",
      "Training Accuracy: 0.9699, Testing Accuracy: 0.9672\n",
      "\n"
     ]
    },
    {
     "name": "stdout",
     "output_type": "stream",
     "text": [
      "Epoch 140, Loss 0.0255\n",
      "Training Accuracy: 0.9707, Testing Accuracy: 0.9657\n",
      "\n"
     ]
    },
    {
     "name": "stdout",
     "output_type": "stream",
     "text": [
      "Epoch 150, Loss 0.025\n",
      "Training Accuracy: 0.9717, Testing Accuracy: 0.9657\n",
      "\n"
     ]
    },
    {
     "name": "stdout",
     "output_type": "stream",
     "text": [
      "Epoch 160, Loss 0.0244\n",
      "Training Accuracy: 0.9721, Testing Accuracy: 0.9667\n",
      "\n"
     ]
    },
    {
     "name": "stdout",
     "output_type": "stream",
     "text": [
      "Epoch 170, Loss 0.024\n",
      "Training Accuracy: 0.9727, Testing Accuracy: 0.9672\n",
      "\n"
     ]
    },
    {
     "name": "stdout",
     "output_type": "stream",
     "text": [
      "Epoch 180, Loss 0.0235\n",
      "Training Accuracy: 0.9735, Testing Accuracy: 0.9672\n",
      "\n"
     ]
    },
    {
     "name": "stdout",
     "output_type": "stream",
     "text": [
      "Epoch 190, Loss 0.0231\n",
      "Training Accuracy: 0.9740, Testing Accuracy: 0.9672\n",
      "\n"
     ]
    },
    {
     "name": "stdout",
     "output_type": "stream",
     "text": [
      "Epoch 200, Loss 0.0227\n",
      "Training Accuracy: 0.9747, Testing Accuracy: 0.9682\n",
      "\n"
     ]
    },
    {
     "name": "stdout",
     "output_type": "stream",
     "text": [
      "Epoch 210, Loss 0.0223\n",
      "Training Accuracy: 0.9750, Testing Accuracy: 0.9693\n",
      "\n"
     ]
    },
    {
     "name": "stdout",
     "output_type": "stream",
     "text": [
      "Epoch 220, Loss 0.022\n",
      "Training Accuracy: 0.9755, Testing Accuracy: 0.9688\n",
      "\n"
     ]
    },
    {
     "name": "stdout",
     "output_type": "stream",
     "text": [
      "Epoch 230, Loss 0.0216\n",
      "Training Accuracy: 0.9759, Testing Accuracy: 0.9688\n",
      "\n"
     ]
    },
    {
     "name": "stdout",
     "output_type": "stream",
     "text": [
      "Epoch 240, Loss 0.0213\n",
      "Training Accuracy: 0.9765, Testing Accuracy: 0.9693\n",
      "\n"
     ]
    },
    {
     "data": {
      "text/plain": [
       "0.024969766877040916"
      ]
     },
     "execution_count": 22,
     "metadata": {},
     "output_type": "execute_result"
    }
   ],
   "source": [
    "nn_learner.train_loop(dl)"
   ]
  },
  {
   "cell_type": "code",
   "execution_count": 23,
   "id": "e0163366",
   "metadata": {
    "execution": {
     "iopub.execute_input": "2021-09-24T00:23:00.525602Z",
     "iopub.status.busy": "2021-09-24T00:23:00.524867Z",
     "iopub.status.idle": "2021-09-24T00:23:20.352544Z",
     "shell.execute_reply": "2021-09-24T00:23:20.353437Z"
    },
    "papermill": {
     "duration": 19.880358,
     "end_time": "2021-09-24T00:23:20.353616",
     "exception": false,
     "start_time": "2021-09-24T00:23:00.473258",
     "status": "completed"
    },
    "tags": []
   },
   "outputs": [
    {
     "name": "stdout",
     "output_type": "stream",
     "text": [
      "Epoch 0, Loss 0.244\n",
      "Training Accuracy: 0.7102, Testing Accuracy: 0.7082\n",
      "\n"
     ]
    },
    {
     "name": "stdout",
     "output_type": "stream",
     "text": [
      "Epoch 10, Loss 0.1012\n",
      "Training Accuracy: 0.9170, Testing Accuracy: 0.9284\n",
      "\n"
     ]
    },
    {
     "name": "stdout",
     "output_type": "stream",
     "text": [
      "Epoch 20, Loss 0.078\n",
      "Training Accuracy: 0.9313, Testing Accuracy: 0.9430\n",
      "\n"
     ]
    },
    {
     "name": "stdout",
     "output_type": "stream",
     "text": [
      "Epoch 30, Loss 0.0673\n",
      "Training Accuracy: 0.9391, Testing Accuracy: 0.9491\n",
      "\n"
     ]
    },
    {
     "name": "stdout",
     "output_type": "stream",
     "text": [
      "Epoch 40, Loss 0.0608\n",
      "Training Accuracy: 0.9442, Testing Accuracy: 0.9531\n",
      "\n"
     ]
    },
    {
     "name": "stdout",
     "output_type": "stream",
     "text": [
      "Epoch 50, Loss 0.0565\n",
      "Training Accuracy: 0.9468, Testing Accuracy: 0.9556\n",
      "\n"
     ]
    },
    {
     "name": "stdout",
     "output_type": "stream",
     "text": [
      "Epoch 60, Loss 0.0532\n",
      "Training Accuracy: 0.9497, Testing Accuracy: 0.9572\n",
      "\n"
     ]
    },
    {
     "name": "stdout",
     "output_type": "stream",
     "text": [
      "Epoch 70, Loss 0.0507\n",
      "Training Accuracy: 0.9517, Testing Accuracy: 0.9592\n",
      "\n"
     ]
    },
    {
     "name": "stdout",
     "output_type": "stream",
     "text": [
      "Epoch 80, Loss 0.0487\n",
      "Training Accuracy: 0.9532, Testing Accuracy: 0.9592\n",
      "\n"
     ]
    },
    {
     "name": "stdout",
     "output_type": "stream",
     "text": [
      "Epoch 90, Loss 0.0471\n",
      "Training Accuracy: 0.9548, Testing Accuracy: 0.9597\n",
      "\n"
     ]
    },
    {
     "name": "stdout",
     "output_type": "stream",
     "text": [
      "Epoch 100, Loss 0.0457\n",
      "Training Accuracy: 0.9558, Testing Accuracy: 0.9627\n",
      "\n"
     ]
    },
    {
     "name": "stdout",
     "output_type": "stream",
     "text": [
      "Epoch 110, Loss 0.0445\n",
      "Training Accuracy: 0.9568, Testing Accuracy: 0.9642\n",
      "\n"
     ]
    },
    {
     "name": "stdout",
     "output_type": "stream",
     "text": [
      "Epoch 120, Loss 0.0434\n",
      "Training Accuracy: 0.9569, Testing Accuracy: 0.9652\n",
      "\n"
     ]
    },
    {
     "name": "stdout",
     "output_type": "stream",
     "text": [
      "Epoch 130, Loss 0.0425\n",
      "Training Accuracy: 0.9568, Testing Accuracy: 0.9652\n",
      "\n"
     ]
    },
    {
     "name": "stdout",
     "output_type": "stream",
     "text": [
      "Epoch 140, Loss 0.0417\n",
      "Training Accuracy: 0.9577, Testing Accuracy: 0.9657\n",
      "\n"
     ]
    },
    {
     "name": "stdout",
     "output_type": "stream",
     "text": [
      "Epoch 150, Loss 0.041\n",
      "Training Accuracy: 0.9579, Testing Accuracy: 0.9662\n",
      "\n"
     ]
    },
    {
     "name": "stdout",
     "output_type": "stream",
     "text": [
      "Epoch 160, Loss 0.0403\n",
      "Training Accuracy: 0.9581, Testing Accuracy: 0.9667\n",
      "\n"
     ]
    },
    {
     "name": "stdout",
     "output_type": "stream",
     "text": [
      "Epoch 170, Loss 0.0397\n",
      "Training Accuracy: 0.9584, Testing Accuracy: 0.9667\n",
      "\n"
     ]
    },
    {
     "name": "stdout",
     "output_type": "stream",
     "text": [
      "Epoch 180, Loss 0.0392\n",
      "Training Accuracy: 0.9587, Testing Accuracy: 0.9662\n",
      "\n"
     ]
    },
    {
     "name": "stdout",
     "output_type": "stream",
     "text": [
      "Epoch 190, Loss 0.0386\n",
      "Training Accuracy: 0.9590, Testing Accuracy: 0.9667\n",
      "\n"
     ]
    },
    {
     "name": "stdout",
     "output_type": "stream",
     "text": [
      "Epoch 200, Loss 0.0382\n",
      "Training Accuracy: 0.9594, Testing Accuracy: 0.9667\n",
      "\n"
     ]
    },
    {
     "name": "stdout",
     "output_type": "stream",
     "text": [
      "Epoch 210, Loss 0.0377\n",
      "Training Accuracy: 0.9597, Testing Accuracy: 0.9672\n",
      "\n"
     ]
    },
    {
     "name": "stdout",
     "output_type": "stream",
     "text": [
      "Epoch 220, Loss 0.0373\n",
      "Training Accuracy: 0.9602, Testing Accuracy: 0.9677\n",
      "\n"
     ]
    },
    {
     "name": "stdout",
     "output_type": "stream",
     "text": [
      "Epoch 230, Loss 0.037\n",
      "Training Accuracy: 0.9602, Testing Accuracy: 0.9677\n",
      "\n"
     ]
    },
    {
     "name": "stdout",
     "output_type": "stream",
     "text": [
      "Epoch 240, Loss 0.0366\n",
      "Training Accuracy: 0.9603, Testing Accuracy: 0.9682\n",
      "\n"
     ]
    },
    {
     "data": {
      "text/plain": [
       "0.027888791164844627"
      ]
     },
     "execution_count": 23,
     "metadata": {},
     "output_type": "execute_result"
    }
   ],
   "source": [
    "lr_learner.train_loop(dl)"
   ]
  },
  {
   "cell_type": "code",
   "execution_count": 24,
   "id": "ca410940",
   "metadata": {
    "execution": {
     "iopub.execute_input": "2021-09-24T00:23:20.465396Z",
     "iopub.status.busy": "2021-09-24T00:23:20.464692Z",
     "iopub.status.idle": "2021-09-24T00:23:20.789124Z",
     "shell.execute_reply": "2021-09-24T00:23:20.789795Z"
    },
    "papermill": {
     "duration": 0.382512,
     "end_time": "2021-09-24T00:23:20.789985",
     "exception": false,
     "start_time": "2021-09-24T00:23:20.407473",
     "status": "completed"
    },
    "tags": []
   },
   "outputs": [
    {
     "data": {
      "text/plain": [
       "<matplotlib.legend.Legend at 0x7f9faa2d8a20>"
      ]
     },
     "execution_count": 24,
     "metadata": {},
     "output_type": "execute_result"
    },
    {
     "data": {
      "image/png": "[encoded data removed]",
      "text/plain": [
       "<Figure size 1080x720 with 1 Axes>"
      ]
     },
     "metadata": {
      "needs_background": "light"
     },
     "output_type": "display_data"
    }
   ],
   "source": [
    "#comparing the results of NN and LR\n",
    "plt.figure(figsize=(15,10))\n",
    "\n",
    "# Neural Network plots\n",
    "plt.plot(acc_nn.accuracies, 'r-', label = \"Training Accuracies - NN\")\n",
    "plt.plot(acc_nn.test_accuracies, 'g-', label = \"Testing Accuracies - NN\")\n",
    "\n",
    "# Logistic Regression plots\n",
    "plt.plot(acc_lr.accuracies, 'k-', label = \"Training Accuracies - LR\")\n",
    "plt.plot(acc_lr.test_accuracies, 'b-', label = \"Testing Accuracies - LR\")\n",
    "plt.legend()"
   ]
  },
  {
   "cell_type": "markdown",
   "id": "80dfb35c",
   "metadata": {
    "papermill": {
     "duration": 0.055899,
     "end_time": "2021-09-24T00:23:20.906328",
     "exception": false,
     "start_time": "2021-09-24T00:23:20.850429",
     "status": "completed"
    },
    "tags": []
   },
   "source": [
    "#### Plotting the outputs of this layer of the NN.\n"
   ]
  },
  {
   "cell_type": "code",
   "execution_count": 25,
   "id": "45eb2ff5",
   "metadata": {
    "execution": {
     "iopub.execute_input": "2021-09-24T00:23:21.020288Z",
     "iopub.status.busy": "2021-09-24T00:23:21.019617Z",
     "iopub.status.idle": "2021-09-24T00:23:21.047515Z",
     "shell.execute_reply": "2021-09-24T00:23:21.046908Z"
    },
    "papermill": {
     "duration": 0.088078,
     "end_time": "2021-09-24T00:23:21.047669",
     "exception": false,
     "start_time": "2021-09-24T00:23:20.959591",
     "status": "completed"
    },
    "tags": []
   },
   "outputs": [],
   "source": [
    "new_model = Model(layers[:-2])\n",
    "testing_plot = new_model(testing_data_x)"
   ]
  },
  {
   "cell_type": "code",
   "execution_count": 26,
   "id": "4c0a5485",
   "metadata": {
    "execution": {
     "iopub.execute_input": "2021-09-24T00:23:21.169425Z",
     "iopub.status.busy": "2021-09-24T00:23:21.168702Z",
     "iopub.status.idle": "2021-09-24T00:23:21.471311Z",
     "shell.execute_reply": "2021-09-24T00:23:21.471833Z"
    },
    "papermill": {
     "duration": 0.36211,
     "end_time": "2021-09-24T00:23:21.472029",
     "exception": false,
     "start_time": "2021-09-24T00:23:21.109919",
     "status": "completed"
    },
    "tags": []
   },
   "outputs": [
    {
     "data": {
      "text/plain": [
       "Text(0.5, 1.0, 'Outputs')"
      ]
     },
     "execution_count": 26,
     "metadata": {},
     "output_type": "execute_result"
    },
    {
     "data": {
      "image/png": "[encoded data removed]",
      "text/plain": [
       "<Figure size 576x504 with 1 Axes>"
      ]
     },
     "metadata": {
      "needs_background": "light"
     },
     "output_type": "display_data"
    }
   ],
   "source": [
    "# Plotting the scatter plot of points and color coding by class\n",
    "plt.figure(figsize=(8,7))\n",
    "plt.scatter(testing_plot[:,0], testing_plot[:,1], alpha = 0.1, c = y_test.ravel());\n",
    "plt.title('Outputs')"
   ]
  },
  {
   "cell_type": "markdown",
   "id": "a74fcf8f",
   "metadata": {
    "papermill": {
     "duration": 0.057351,
     "end_time": "2021-09-24T00:23:21.588950",
     "exception": false,
     "start_time": "2021-09-24T00:23:21.531599",
     "status": "completed"
    },
    "tags": []
   },
   "source": [
    "Probability contours"
   ]
  },
  {
   "cell_type": "code",
   "execution_count": 27,
   "id": "d0afc8e3",
   "metadata": {
    "execution": {
     "iopub.execute_input": "2021-09-24T00:23:21.756818Z",
     "iopub.status.busy": "2021-09-24T00:23:21.749661Z",
     "iopub.status.idle": "2021-09-24T00:23:21.767093Z",
     "shell.execute_reply": "2021-09-24T00:23:21.767676Z"
    },
    "papermill": {
     "duration": 0.114457,
     "end_time": "2021-09-24T00:23:21.767832",
     "exception": false,
     "start_time": "2021-09-24T00:23:21.653375",
     "status": "completed"
    },
    "tags": []
   },
   "outputs": [],
   "source": [
    "model_prob = Model(layers[-2:]) "
   ]
  },
  {
   "cell_type": "code",
   "execution_count": 28,
   "id": "9b96e238",
   "metadata": {
    "execution": {
     "iopub.execute_input": "2021-09-24T00:23:21.891024Z",
     "iopub.status.busy": "2021-09-24T00:23:21.890355Z",
     "iopub.status.idle": "2021-09-24T00:23:21.908403Z",
     "shell.execute_reply": "2021-09-24T00:23:21.908994Z"
    },
    "papermill": {
     "duration": 0.083301,
     "end_time": "2021-09-24T00:23:21.909185",
     "exception": false,
     "start_time": "2021-09-24T00:23:21.825884",
     "status": "completed"
    },
    "tags": []
   },
   "outputs": [],
   "source": [
    "#creating the x and y ranges according to the above generated plot.\n",
    "x_range = np.linspace(-4, 1, 100) \n",
    "y_range = np.linspace(-6, 6, 100) \n",
    "x_grid, y_grid = np.meshgrid(x_range, y_range) # x_grid and y_grig are of size 100 X 100\n",
    "\n",
    "# converting x_grid and y_grid to continuous arrays\n",
    "x_gridflat = np.ravel(x_grid)\n",
    "y_gridflat = np.ravel(y_grid)\n",
    "\n",
    "# The last layer of the current model takes two columns as input. Hence transpose of np.vstack() is required.\n",
    "X = np.vstack((x_gridflat, y_gridflat)).T\n",
    "\n",
    "prob_contour = model_prob(X).reshape(100,100) "
   ]
  },
  {
   "cell_type": "code",
   "execution_count": 29,
   "id": "da72499a",
   "metadata": {
    "execution": {
     "iopub.execute_input": "2021-09-24T00:23:22.043580Z",
     "iopub.status.busy": "2021-09-24T00:23:22.041984Z",
     "iopub.status.idle": "2021-09-24T00:23:22.389225Z",
     "shell.execute_reply": "2021-09-24T00:23:22.388602Z"
    },
    "papermill": {
     "duration": 0.418081,
     "end_time": "2021-09-24T00:23:22.389394",
     "exception": false,
     "start_time": "2021-09-24T00:23:21.971313",
     "status": "completed"
    },
    "tags": []
   },
   "outputs": [
    {
     "data": {
      "image/png": "[encoded data removed]",
      "text/plain": [
       "<Figure size 720x648 with 1 Axes>"
      ]
     },
     "metadata": {
      "needs_background": "light"
     },
     "output_type": "display_data"
    }
   ],
   "source": [
    "plt.figure(figsize=(10,9))\n",
    "plt.scatter(testing_plot[:,0], testing_plot[:,1], alpha = 0.1, c = y_test.ravel())\n",
    "contours = plt.contour(x_grid,y_grid,prob_contour)\n",
    "plt.title('Probability Contours')\n",
    "plt.clabel(contours, inline = True );"
   ]
  },
  {
   "cell_type": "code",
   "execution_count": null,
   "id": "e81b4ac7",
   "metadata": {
    "papermill": {
     "duration": 0.060491,
     "end_time": "2021-09-24T00:23:22.511081",
     "exception": false,
     "start_time": "2021-09-24T00:23:22.450590",
     "status": "completed"
    },
    "tags": []
   },
   "outputs": [],
   "source": []
  }
 ],
 "metadata": {
  "kernelspec": {
   "display_name": "Python 3",
   "language": "python",
   "name": "python3"
  },
  "language_info": {
   "codemirror_mode": {
    "name": "ipython",
    "version": 3
   },
   "file_extension": ".py",
   "mimetype": "text/x-python",
   "name": "python",
   "nbconvert_exporter": "python",
   "pygments_lexer": "ipython3",
   "version": "3.6.15"
  },
  "papermill": {
   "default_parameters": {},
   "duration": 161.355324,
   "end_time": "2021-09-24T00:23:23.082814",
   "environment_variables": {},
   "exception": null,
   "input_path": "2020-08-11-part2.ipynb",
   "output_path": "2020-08-11-part2.ipynb",
   "parameters": {},
   "start_time": "2021-09-24T00:20:41.727490",
   "version": "2.3.3"
  }
 },
 "nbformat": 4,
 "nbformat_minor": 5
}