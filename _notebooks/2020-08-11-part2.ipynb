{
 "cells": [
  {
   "cell_type": "markdown",
   "id": "98380cd3",
   "metadata": {
    "papermill": {
     "duration": 0.034088,
     "end_time": "2021-10-25T10:08:28.276191",
     "exception": false,
     "start_time": "2021-10-25T10:08:28.242103",
     "status": "completed"
    },
    "tags": []
   },
   "source": [
    "# Distinguish Your Own Digits (DYOD)"
   ]
  },
  {
   "cell_type": "markdown",
   "id": "ef31240d",
   "metadata": {
    "papermill": {
     "duration": 0.03538,
     "end_time": "2021-10-25T10:08:28.342281",
     "exception": false,
     "start_time": "2021-10-25T10:08:28.306901",
     "status": "completed"
    },
    "tags": []
   },
   "source": [
    "You are going to write a classifier that distinguishes between the number 3 and number 8."
   ]
  },
  {
   "cell_type": "code",
   "execution_count": 1,
   "id": "b15c8646",
   "metadata": {
    "execution": {
     "iopub.execute_input": "2021-10-25T10:08:28.426587Z",
     "iopub.status.busy": "2021-10-25T10:08:28.425859Z",
     "iopub.status.idle": "2021-10-25T10:08:28.441512Z",
     "shell.execute_reply": "2021-10-25T10:08:28.440920Z"
    },
    "papermill": {
     "duration": 0.067528,
     "end_time": "2021-10-25T10:08:28.441688",
     "exception": false,
     "start_time": "2021-10-25T10:08:28.374160",
     "status": "completed"
    },
    "tags": []
   },
   "outputs": [],
   "source": [
    "%load_ext autoreload\n",
    "%autoreload 2"
   ]
  },
  {
   "cell_type": "code",
   "execution_count": 2,
   "id": "22ef38dc",
   "metadata": {
    "execution": {
     "iopub.execute_input": "2021-10-25T10:08:28.507498Z",
     "iopub.status.busy": "2021-10-25T10:08:28.506784Z",
     "iopub.status.idle": "2021-10-25T10:08:29.228418Z",
     "shell.execute_reply": "2021-10-25T10:08:29.227816Z"
    },
    "papermill": {
     "duration": 0.756516,
     "end_time": "2021-10-25T10:08:29.228571",
     "exception": false,
     "start_time": "2021-10-25T10:08:28.472055",
     "status": "completed"
    },
    "tags": []
   },
   "outputs": [],
   "source": [
    "%matplotlib inline\n",
    "import numpy as np\n",
    "import matplotlib.pyplot as plt\n",
    "import pandas as pd"
   ]
  },
  {
   "cell_type": "markdown",
   "id": "ba036198",
   "metadata": {
    "papermill": {
     "duration": 0.030097,
     "end_time": "2021-10-25T10:08:29.289904",
     "exception": false,
     "start_time": "2021-10-25T10:08:29.259807",
     "status": "completed"
    },
    "tags": []
   },
   "source": [
    "From the command line run `pip install mnist`. This is a library that will help you bring down the mnist dataset. If you run this from a notebook, you need to put  `!pip install mnist` in a cell by itself."
   ]
  },
  {
   "cell_type": "code",
   "execution_count": 3,
   "id": "bb6ad8a1",
   "metadata": {
    "execution": {
     "iopub.execute_input": "2021-10-25T10:08:29.357589Z",
     "iopub.status.busy": "2021-10-25T10:08:29.356931Z",
     "iopub.status.idle": "2021-10-25T10:08:31.377724Z",
     "shell.execute_reply": "2021-10-25T10:08:31.377151Z"
    },
    "papermill": {
     "duration": 2.057881,
     "end_time": "2021-10-25T10:08:31.377886",
     "exception": false,
     "start_time": "2021-10-25T10:08:29.320005",
     "status": "completed"
    },
    "tags": []
   },
   "outputs": [
    {
     "name": "stdout",
     "output_type": "stream",
     "text": [
      "Collecting mnist\r\n"
     ]
    },
    {
     "name": "stdout",
     "output_type": "stream",
     "text": [
      "  Downloading mnist-0.2.2-py2.py3-none-any.whl (3.5 kB)\r\n",
      "Requirement already satisfied: numpy in /opt/hostedtoolcache/Python/3.6.15/x64/lib/python3.6/site-packages (from mnist) (1.19.5)\r\n"
     ]
    },
    {
     "name": "stdout",
     "output_type": "stream",
     "text": [
      "Installing collected packages: mnist\r\n"
     ]
    },
    {
     "name": "stdout",
     "output_type": "stream",
     "text": [
      "Successfully installed mnist-0.2.2\r\n"
     ]
    },
    {
     "name": "stdout",
     "output_type": "stream",
     "text": [
      "\u001b[33mWARNING: You are using pip version 21.3; however, version 21.3.1 is available.\r\n",
      "You should consider upgrading via the '/opt/hostedtoolcache/Python/3.6.15/x64/bin/python -m pip install --upgrade pip' command.\u001b[0m\r\n"
     ]
    }
   ],
   "source": [
    "!pip install mnist"
   ]
  },
  {
   "cell_type": "markdown",
   "id": "69df9c9a",
   "metadata": {
    "papermill": {
     "duration": 0.031649,
     "end_time": "2021-10-25T10:08:31.441573",
     "exception": false,
     "start_time": "2021-10-25T10:08:31.409924",
     "status": "completed"
    },
    "tags": []
   },
   "source": [
    "## Preparing the Data"
   ]
  },
  {
   "cell_type": "code",
   "execution_count": 4,
   "id": "7f69d806",
   "metadata": {
    "execution": {
     "iopub.execute_input": "2021-10-25T10:08:31.514754Z",
     "iopub.status.busy": "2021-10-25T10:08:31.514104Z",
     "iopub.status.idle": "2021-10-25T10:08:31.526495Z",
     "shell.execute_reply": "2021-10-25T10:08:31.525971Z"
    },
    "papermill": {
     "duration": 0.054147,
     "end_time": "2021-10-25T10:08:31.526631",
     "exception": false,
     "start_time": "2021-10-25T10:08:31.472484",
     "status": "completed"
    },
    "tags": []
   },
   "outputs": [],
   "source": [
    "import mnist"
   ]
  },
  {
   "cell_type": "code",
   "execution_count": 5,
   "id": "a411e44f",
   "metadata": {
    "execution": {
     "iopub.execute_input": "2021-10-25T10:08:31.597818Z",
     "iopub.status.busy": "2021-10-25T10:08:31.597169Z",
     "iopub.status.idle": "2021-10-25T10:08:32.156792Z",
     "shell.execute_reply": "2021-10-25T10:08:32.155756Z"
    },
    "papermill": {
     "duration": 0.598822,
     "end_time": "2021-10-25T10:08:32.156947",
     "exception": false,
     "start_time": "2021-10-25T10:08:31.558125",
     "status": "completed"
    },
    "tags": []
   },
   "outputs": [],
   "source": [
    "train_images = mnist.train_images()\n",
    "train_labels = mnist.train_labels()"
   ]
  },
  {
   "cell_type": "code",
   "execution_count": 6,
   "id": "dceab3a5",
   "metadata": {
    "execution": {
     "iopub.execute_input": "2021-10-25T10:08:32.225315Z",
     "iopub.status.busy": "2021-10-25T10:08:32.224667Z",
     "iopub.status.idle": "2021-10-25T10:08:32.240173Z",
     "shell.execute_reply": "2021-10-25T10:08:32.240900Z"
    },
    "papermill": {
     "duration": 0.051301,
     "end_time": "2021-10-25T10:08:32.241053",
     "exception": false,
     "start_time": "2021-10-25T10:08:32.189752",
     "status": "completed"
    },
    "tags": []
   },
   "outputs": [
    {
     "data": {
      "text/plain": [
       "((60000, 28, 28), (60000,))"
      ]
     },
     "execution_count": 6,
     "metadata": {},
     "output_type": "execute_result"
    }
   ],
   "source": [
    "train_images.shape, train_labels.shape"
   ]
  },
  {
   "cell_type": "code",
   "execution_count": 7,
   "id": "f50dc2bb",
   "metadata": {
    "execution": {
     "iopub.execute_input": "2021-10-25T10:08:32.308381Z",
     "iopub.status.busy": "2021-10-25T10:08:32.307735Z",
     "iopub.status.idle": "2021-10-25T10:08:32.505732Z",
     "shell.execute_reply": "2021-10-25T10:08:32.506297Z"
    },
    "papermill": {
     "duration": 0.233749,
     "end_time": "2021-10-25T10:08:32.506483",
     "exception": false,
     "start_time": "2021-10-25T10:08:32.272734",
     "status": "completed"
    },
    "tags": []
   },
   "outputs": [],
   "source": [
    "test_images = mnist.test_images()\n",
    "test_labels = mnist.test_labels()"
   ]
  },
  {
   "cell_type": "code",
   "execution_count": 8,
   "id": "fc38cf1b",
   "metadata": {
    "execution": {
     "iopub.execute_input": "2021-10-25T10:08:32.580165Z",
     "iopub.status.busy": "2021-10-25T10:08:32.579518Z",
     "iopub.status.idle": "2021-10-25T10:08:32.596898Z",
     "shell.execute_reply": "2021-10-25T10:08:32.596332Z"
    },
    "papermill": {
     "duration": 0.058697,
     "end_time": "2021-10-25T10:08:32.597042",
     "exception": false,
     "start_time": "2021-10-25T10:08:32.538345",
     "status": "completed"
    },
    "tags": []
   },
   "outputs": [
    {
     "data": {
      "text/plain": [
       "((10000, 28, 28), (10000,))"
      ]
     },
     "execution_count": 8,
     "metadata": {},
     "output_type": "execute_result"
    }
   ],
   "source": [
    "test_images.shape, test_labels.shape"
   ]
  },
  {
   "cell_type": "code",
   "execution_count": 9,
   "id": "f9ed8fe0",
   "metadata": {
    "execution": {
     "iopub.execute_input": "2021-10-25T10:08:32.670509Z",
     "iopub.status.busy": "2021-10-25T10:08:32.669856Z",
     "iopub.status.idle": "2021-10-25T10:08:32.845000Z",
     "shell.execute_reply": "2021-10-25T10:08:32.845544Z"
    },
    "papermill": {
     "duration": 0.214243,
     "end_time": "2021-10-25T10:08:32.845720",
     "exception": false,
     "start_time": "2021-10-25T10:08:32.631477",
     "status": "completed"
    },
    "tags": []
   },
   "outputs": [
    {
     "name": "stdout",
     "output_type": "stream",
     "text": [
      "2\n"
     ]
    },
    {
     "data": {
      "text/plain": [
       "<matplotlib.image.AxesImage at 0x7f95bd03cd30>"
      ]
     },
     "execution_count": 9,
     "metadata": {},
     "output_type": "execute_result"
    },
    {
     "data": {
      "image/png": "[encoded data removed]",
      "text/plain": [
       "<Figure size 432x288 with 1 Axes>"
      ]
     },
     "metadata": {
      "needs_background": "light"
     },
     "output_type": "display_data"
    }
   ],
   "source": [
    "image_index = 7776 # You may select anything up to 60,000\n",
    "print(train_labels[image_index]) \n",
    "plt.imshow(train_images[image_index], cmap='Greys')"
   ]
  },
  {
   "cell_type": "markdown",
   "id": "a8d2388d",
   "metadata": {
    "papermill": {
     "duration": 0.03476,
     "end_time": "2021-10-25T10:08:32.915274",
     "exception": false,
     "start_time": "2021-10-25T10:08:32.880514",
     "status": "completed"
    },
    "tags": []
   },
   "source": [
    "## Filter data to get 3 and 8 out"
   ]
  },
  {
   "cell_type": "code",
   "execution_count": 10,
   "id": "776f7fc7",
   "metadata": {
    "execution": {
     "iopub.execute_input": "2021-10-25T10:08:32.992454Z",
     "iopub.status.busy": "2021-10-25T10:08:32.991759Z",
     "iopub.status.idle": "2021-10-25T10:08:33.008160Z",
     "shell.execute_reply": "2021-10-25T10:08:33.007599Z"
    },
    "papermill": {
     "duration": 0.059778,
     "end_time": "2021-10-25T10:08:33.008316",
     "exception": false,
     "start_time": "2021-10-25T10:08:32.948538",
     "status": "completed"
    },
    "tags": []
   },
   "outputs": [],
   "source": [
    "train_filter = np.where((train_labels == 3 ) | (train_labels == 8))\n",
    "test_filter = np.where((test_labels == 3) | (test_labels == 8))\n",
    "X_train, y_train = train_images[train_filter], train_labels[train_filter]\n",
    "X_test, y_test = test_images[test_filter], test_labels[test_filter]"
   ]
  },
  {
   "cell_type": "markdown",
   "id": "948f0b7e",
   "metadata": {
    "papermill": {
     "duration": 0.039139,
     "end_time": "2021-10-25T10:08:33.082134",
     "exception": false,
     "start_time": "2021-10-25T10:08:33.042995",
     "status": "completed"
    },
    "tags": []
   },
   "source": [
    "We normalize the pizel values in the 0 to 1 range"
   ]
  },
  {
   "cell_type": "code",
   "execution_count": 11,
   "id": "ee4c2166",
   "metadata": {
    "execution": {
     "iopub.execute_input": "2021-10-25T10:08:33.189845Z",
     "iopub.status.busy": "2021-10-25T10:08:33.189166Z",
     "iopub.status.idle": "2021-10-25T10:08:33.253667Z",
     "shell.execute_reply": "2021-10-25T10:08:33.253058Z"
    },
    "papermill": {
     "duration": 0.121983,
     "end_time": "2021-10-25T10:08:33.253824",
     "exception": false,
     "start_time": "2021-10-25T10:08:33.131841",
     "status": "completed"
    },
    "tags": []
   },
   "outputs": [],
   "source": [
    "X_train = X_train/255.\n",
    "X_test = X_test/255."
   ]
  },
  {
   "cell_type": "markdown",
   "id": "ddcf4fab",
   "metadata": {
    "papermill": {
     "duration": 0.034503,
     "end_time": "2021-10-25T10:08:33.326257",
     "exception": false,
     "start_time": "2021-10-25T10:08:33.291754",
     "status": "completed"
    },
    "tags": []
   },
   "source": [
    "And setup the labels as 1 (when the digit is 3) and 0 (when the digit is 8)"
   ]
  },
  {
   "cell_type": "code",
   "execution_count": 12,
   "id": "7dc908f2",
   "metadata": {
    "execution": {
     "iopub.execute_input": "2021-10-25T10:08:33.404188Z",
     "iopub.status.busy": "2021-10-25T10:08:33.403533Z",
     "iopub.status.idle": "2021-10-25T10:08:33.415670Z",
     "shell.execute_reply": "2021-10-25T10:08:33.415079Z"
    },
    "papermill": {
     "duration": 0.055024,
     "end_time": "2021-10-25T10:08:33.415815",
     "exception": false,
     "start_time": "2021-10-25T10:08:33.360791",
     "status": "completed"
    },
    "tags": []
   },
   "outputs": [],
   "source": [
    "y_train = 1*(y_train==3)\n",
    "y_test = 1*(y_test==3)"
   ]
  },
  {
   "cell_type": "code",
   "execution_count": 13,
   "id": "01e4e969",
   "metadata": {
    "execution": {
     "iopub.execute_input": "2021-10-25T10:08:33.509082Z",
     "iopub.status.busy": "2021-10-25T10:08:33.503184Z",
     "iopub.status.idle": "2021-10-25T10:08:33.512925Z",
     "shell.execute_reply": "2021-10-25T10:08:33.513460Z"
    },
    "papermill": {
     "duration": 0.062903,
     "end_time": "2021-10-25T10:08:33.513627",
     "exception": false,
     "start_time": "2021-10-25T10:08:33.450724",
     "status": "completed"
    },
    "tags": []
   },
   "outputs": [
    {
     "data": {
      "text/plain": [
       "((11982, 28, 28), (1984, 28, 28))"
      ]
     },
     "execution_count": 13,
     "metadata": {},
     "output_type": "execute_result"
    }
   ],
   "source": [
    "X_train.shape, X_test.shape"
   ]
  },
  {
   "cell_type": "markdown",
   "id": "5ccf3f85",
   "metadata": {
    "papermill": {
     "duration": 0.034664,
     "end_time": "2021-10-25T10:08:33.581810",
     "exception": false,
     "start_time": "2021-10-25T10:08:33.547146",
     "status": "completed"
    },
    "tags": []
   },
   "source": [
    "We reshape the data to flatten the image pixels into a set of features or co-variates:"
   ]
  },
  {
   "cell_type": "code",
   "execution_count": 14,
   "id": "5286a4a3",
   "metadata": {
    "execution": {
     "iopub.execute_input": "2021-10-25T10:08:33.661908Z",
     "iopub.status.busy": "2021-10-25T10:08:33.661262Z",
     "iopub.status.idle": "2021-10-25T10:08:33.671706Z",
     "shell.execute_reply": "2021-10-25T10:08:33.672207Z"
    },
    "papermill": {
     "duration": 0.055323,
     "end_time": "2021-10-25T10:08:33.672364",
     "exception": false,
     "start_time": "2021-10-25T10:08:33.617041",
     "status": "completed"
    },
    "tags": []
   },
   "outputs": [
    {
     "data": {
      "text/plain": [
       "((11982, 784), (1984, 784))"
      ]
     },
     "execution_count": 14,
     "metadata": {},
     "output_type": "execute_result"
    }
   ],
   "source": [
    "X_train = X_train.reshape(X_train.shape[0], -1)\n",
    "X_test = X_test.reshape(X_test.shape[0], -1)\n",
    "X_train.shape, X_test.shape"
   ]
  },
  {
   "cell_type": "code",
   "execution_count": 15,
   "id": "73c5f88a",
   "metadata": {
    "execution": {
     "iopub.execute_input": "2021-10-25T10:08:33.759515Z",
     "iopub.status.busy": "2021-10-25T10:08:33.750678Z",
     "iopub.status.idle": "2021-10-25T10:08:33.769367Z",
     "shell.execute_reply": "2021-10-25T10:08:33.769895Z"
    },
    "papermill": {
     "duration": 0.062342,
     "end_time": "2021-10-25T10:08:33.770051",
     "exception": false,
     "start_time": "2021-10-25T10:08:33.707709",
     "status": "completed"
    },
    "tags": []
   },
   "outputs": [],
   "source": [
    "#Impoting functions from 'Kudzu'\n",
    "from kudzu.model import Model\n",
    "from kudzu.train import Learner\n",
    "from kudzu.optim import GD\n",
    "from kudzu.data import Data, Sampler,Dataloader\n",
    "\n",
    "from kudzu.callbacks import AccCallback\n",
    "from kudzu.callbacks import ClfCallback\n",
    "\n",
    "from kudzu.loss import MSE\n",
    "\n",
    "from kudzu.layer import Sigmoid,Relu\n",
    "from kudzu.layer import Affine"
   ]
  },
  {
   "cell_type": "markdown",
   "id": "bc01172a",
   "metadata": {
    "papermill": {
     "duration": 0.03337,
     "end_time": "2021-10-25T10:08:33.839925",
     "exception": false,
     "start_time": "2021-10-25T10:08:33.806555",
     "status": "completed"
    },
    "tags": []
   },
   "source": [
    "### Let us create a `Config` class, to store important parameters. \n",
    "This class essentially plays the role of a dictionary."
   ]
  },
  {
   "cell_type": "code",
   "execution_count": 16,
   "id": "978281aa",
   "metadata": {
    "execution": {
     "iopub.execute_input": "2021-10-25T10:08:33.915296Z",
     "iopub.status.busy": "2021-10-25T10:08:33.914607Z",
     "iopub.status.idle": "2021-10-25T10:08:33.926992Z",
     "shell.execute_reply": "2021-10-25T10:08:33.926418Z"
    },
    "papermill": {
     "duration": 0.052203,
     "end_time": "2021-10-25T10:08:33.927132",
     "exception": false,
     "start_time": "2021-10-25T10:08:33.874929",
     "status": "completed"
    },
    "tags": []
   },
   "outputs": [],
   "source": [
    "class Config:\n",
    "    pass\n",
    "config = Config()\n",
    "config.lr = 0.001\n",
    "config.num_epochs = 250\n",
    "config.bs = 50"
   ]
  },
  {
   "cell_type": "markdown",
   "id": "1385fa59",
   "metadata": {
    "papermill": {
     "duration": 0.03428,
     "end_time": "2021-10-25T10:08:33.996551",
     "exception": false,
     "start_time": "2021-10-25T10:08:33.962271",
     "status": "completed"
    },
    "tags": []
   },
   "source": [
    "### Running Models with the Training data\n",
    "Details about the network layers:\n",
    "- A first affine layer has 784 inputs and does 100 affine transforms. These are followed by a Relu\n",
    "- A second affine layer has 100 inputs from the 100 activations of the past layer, and does 100 affine transforms. These are followed by a Relu\n",
    "- A third affine layer has 100 activations and does 2 affine transformations to create an embedding for visualization. There is no non-linearity here.\n",
    "- A final \"logistic regression\" which has an affine transform from 2 inputs to 1 output, which is squeezed through a sigmoid.\n"
   ]
  },
  {
   "cell_type": "code",
   "execution_count": 17,
   "id": "2b9c66db",
   "metadata": {
    "execution": {
     "iopub.execute_input": "2021-10-25T10:08:34.085694Z",
     "iopub.status.busy": "2021-10-25T10:08:34.080626Z",
     "iopub.status.idle": "2021-10-25T10:08:34.091780Z",
     "shell.execute_reply": "2021-10-25T10:08:34.091226Z"
    },
    "papermill": {
     "duration": 0.06086,
     "end_time": "2021-10-25T10:08:34.091917",
     "exception": false,
     "start_time": "2021-10-25T10:08:34.031057",
     "status": "completed"
    },
    "tags": []
   },
   "outputs": [],
   "source": [
    "data = Data(X_train, y_train.reshape(-1,1))\n",
    "sampler = Sampler(data, config.bs, shuffle=True)\n",
    "\n",
    "dl = Dataloader(data, sampler)\n",
    "\n",
    "opt = GD(config.lr)\n",
    "loss = MSE()"
   ]
  },
  {
   "cell_type": "code",
   "execution_count": 18,
   "id": "b275e4c2",
   "metadata": {
    "execution": {
     "iopub.execute_input": "2021-10-25T10:08:34.167819Z",
     "iopub.status.busy": "2021-10-25T10:08:34.163629Z",
     "iopub.status.idle": "2021-10-25T10:08:34.176916Z",
     "shell.execute_reply": "2021-10-25T10:08:34.176367Z"
    },
    "papermill": {
     "duration": 0.049943,
     "end_time": "2021-10-25T10:08:34.177048",
     "exception": false,
     "start_time": "2021-10-25T10:08:34.127105",
     "status": "completed"
    },
    "tags": []
   },
   "outputs": [],
   "source": [
    "training_data_x = X_train\n",
    "testing_data_x = X_test\n",
    "training_data_y = y_train.reshape(-1,1)\n",
    "testing_data_y = y_test.reshape(-1,1)"
   ]
  },
  {
   "cell_type": "code",
   "execution_count": 19,
   "id": "76951160",
   "metadata": {
    "execution": {
     "iopub.execute_input": "2021-10-25T10:08:34.249803Z",
     "iopub.status.busy": "2021-10-25T10:08:34.249150Z",
     "iopub.status.idle": "2021-10-25T10:08:34.266277Z",
     "shell.execute_reply": "2021-10-25T10:08:34.266810Z"
    },
    "papermill": {
     "duration": 0.055395,
     "end_time": "2021-10-25T10:08:34.266973",
     "exception": false,
     "start_time": "2021-10-25T10:08:34.211578",
     "status": "completed"
    },
    "tags": []
   },
   "outputs": [
    {
     "name": "stdout",
     "output_type": "stream",
     "text": [
      "xavier\n",
      "xavier\n",
      "xavier\n",
      "xavier\n",
      "xavier\n"
     ]
    }
   ],
   "source": [
    "layers = [Affine(\"first\", 784, 100), Relu(\"first\"), Affine(\"second\", 100, 100), Relu(\"second\"), Affine(\"third\", 100, 2), Affine(\"last\", 2, 1), Sigmoid(\"last\")]\n",
    "model_nn = Model(layers)\n",
    "model_lr = Model([Affine(\"logits\", 784, 1), Sigmoid(\"sigmoid\")])"
   ]
  },
  {
   "cell_type": "code",
   "execution_count": 20,
   "id": "6eede77a",
   "metadata": {
    "execution": {
     "iopub.execute_input": "2021-10-25T10:08:34.343777Z",
     "iopub.status.busy": "2021-10-25T10:08:34.343120Z",
     "iopub.status.idle": "2021-10-25T10:08:34.356125Z",
     "shell.execute_reply": "2021-10-25T10:08:34.356759Z"
    },
    "papermill": {
     "duration": 0.054175,
     "end_time": "2021-10-25T10:08:34.356911",
     "exception": false,
     "start_time": "2021-10-25T10:08:34.302736",
     "status": "completed"
    },
    "tags": []
   },
   "outputs": [],
   "source": [
    "nn_learner = Learner(loss, model_nn, opt, config.num_epochs)\n",
    "acc_nn = ClfCallback(nn_learner, config.bs, training_data_x , testing_data_x, training_data_y, testing_data_y)\n",
    "nn_learner.set_callbacks([acc_nn])"
   ]
  },
  {
   "cell_type": "code",
   "execution_count": 21,
   "id": "877b6cc7",
   "metadata": {
    "execution": {
     "iopub.execute_input": "2021-10-25T10:08:34.434746Z",
     "iopub.status.busy": "2021-10-25T10:08:34.434095Z",
     "iopub.status.idle": "2021-10-25T10:08:34.449072Z",
     "shell.execute_reply": "2021-10-25T10:08:34.449609Z"
    },
    "papermill": {
     "duration": 0.058171,
     "end_time": "2021-10-25T10:08:34.449776",
     "exception": false,
     "start_time": "2021-10-25T10:08:34.391605",
     "status": "completed"
    },
    "tags": []
   },
   "outputs": [],
   "source": [
    "lr_learner = Learner(loss, model_lr, opt, config.num_epochs)\n",
    "acc_lr = ClfCallback(lr_learner, config.bs, training_data_x , testing_data_x, training_data_y, testing_data_y)\n",
    "lr_learner.set_callbacks([acc_lr])"
   ]
  },
  {
   "cell_type": "code",
   "execution_count": 22,
   "id": "d9b133c3",
   "metadata": {
    "execution": {
     "iopub.execute_input": "2021-10-25T10:08:34.529446Z",
     "iopub.status.busy": "2021-10-25T10:08:34.528801Z",
     "iopub.status.idle": "2021-10-25T10:10:41.270455Z",
     "shell.execute_reply": "2021-10-25T10:10:41.271350Z"
    },
    "papermill": {
     "duration": 126.785194,
     "end_time": "2021-10-25T10:10:41.271526",
     "exception": false,
     "start_time": "2021-10-25T10:08:34.486332",
     "status": "completed"
    },
    "tags": []
   },
   "outputs": [
    {
     "name": "stdout",
     "output_type": "stream",
     "text": [
      "Epoch 0, Loss 0.24\n",
      "Training Accuracy: 0.6623, Testing Accuracy: 0.6436\n",
      "\n"
     ]
    },
    {
     "name": "stdout",
     "output_type": "stream",
     "text": [
      "Epoch 10, Loss 0.1386\n",
      "Training Accuracy: 0.8751, Testing Accuracy: 0.8881\n",
      "\n"
     ]
    },
    {
     "name": "stdout",
     "output_type": "stream",
     "text": [
      "Epoch 20, Loss 0.0742\n",
      "Training Accuracy: 0.9262, Testing Accuracy: 0.9375\n",
      "\n"
     ]
    },
    {
     "name": "stdout",
     "output_type": "stream",
     "text": [
      "Epoch 30, Loss 0.0526\n",
      "Training Accuracy: 0.9449, Testing Accuracy: 0.9541\n",
      "\n"
     ]
    },
    {
     "name": "stdout",
     "output_type": "stream",
     "text": [
      "Epoch 40, Loss 0.0433\n",
      "Training Accuracy: 0.9521, Testing Accuracy: 0.9582\n",
      "\n"
     ]
    },
    {
     "name": "stdout",
     "output_type": "stream",
     "text": [
      "Epoch 50, Loss 0.0381\n",
      "Training Accuracy: 0.9569, Testing Accuracy: 0.9612\n",
      "\n"
     ]
    },
    {
     "name": "stdout",
     "output_type": "stream",
     "text": [
      "Epoch 60, Loss 0.0348\n",
      "Training Accuracy: 0.9608, Testing Accuracy: 0.9607\n",
      "\n"
     ]
    },
    {
     "name": "stdout",
     "output_type": "stream",
     "text": [
      "Epoch 70, Loss 0.0324\n",
      "Training Accuracy: 0.9638, Testing Accuracy: 0.9627\n",
      "\n"
     ]
    },
    {
     "name": "stdout",
     "output_type": "stream",
     "text": [
      "Epoch 80, Loss 0.0306\n",
      "Training Accuracy: 0.9653, Testing Accuracy: 0.9642\n",
      "\n"
     ]
    },
    {
     "name": "stdout",
     "output_type": "stream",
     "text": [
      "Epoch 90, Loss 0.0291\n",
      "Training Accuracy: 0.9670, Testing Accuracy: 0.9667\n",
      "\n"
     ]
    },
    {
     "name": "stdout",
     "output_type": "stream",
     "text": [
      "Epoch 100, Loss 0.0279\n",
      "Training Accuracy: 0.9685, Testing Accuracy: 0.9677\n",
      "\n"
     ]
    },
    {
     "name": "stdout",
     "output_type": "stream",
     "text": [
      "Epoch 110, Loss 0.0269\n",
      "Training Accuracy: 0.9697, Testing Accuracy: 0.9688\n",
      "\n"
     ]
    },
    {
     "name": "stdout",
     "output_type": "stream",
     "text": [
      "Epoch 120, Loss 0.0259\n",
      "Training Accuracy: 0.9703, Testing Accuracy: 0.9718\n",
      "\n"
     ]
    },
    {
     "name": "stdout",
     "output_type": "stream",
     "text": [
      "Epoch 130, Loss 0.0251\n",
      "Training Accuracy: 0.9712, Testing Accuracy: 0.9733\n",
      "\n"
     ]
    },
    {
     "name": "stdout",
     "output_type": "stream",
     "text": [
      "Epoch 140, Loss 0.0244\n",
      "Training Accuracy: 0.9723, Testing Accuracy: 0.9733\n",
      "\n"
     ]
    },
    {
     "name": "stdout",
     "output_type": "stream",
     "text": [
      "Epoch 150, Loss 0.0237\n",
      "Training Accuracy: 0.9729, Testing Accuracy: 0.9733\n",
      "\n"
     ]
    },
    {
     "name": "stdout",
     "output_type": "stream",
     "text": [
      "Epoch 160, Loss 0.0231\n",
      "Training Accuracy: 0.9738, Testing Accuracy: 0.9748\n",
      "\n"
     ]
    },
    {
     "name": "stdout",
     "output_type": "stream",
     "text": [
      "Epoch 170, Loss 0.0225\n",
      "Training Accuracy: 0.9744, Testing Accuracy: 0.9743\n",
      "\n"
     ]
    },
    {
     "name": "stdout",
     "output_type": "stream",
     "text": [
      "Epoch 180, Loss 0.022\n",
      "Training Accuracy: 0.9751, Testing Accuracy: 0.9743\n",
      "\n"
     ]
    },
    {
     "name": "stdout",
     "output_type": "stream",
     "text": [
      "Epoch 190, Loss 0.0215\n",
      "Training Accuracy: 0.9755, Testing Accuracy: 0.9758\n",
      "\n"
     ]
    },
    {
     "name": "stdout",
     "output_type": "stream",
     "text": [
      "Epoch 200, Loss 0.021\n",
      "Training Accuracy: 0.9763, Testing Accuracy: 0.9758\n",
      "\n"
     ]
    },
    {
     "name": "stdout",
     "output_type": "stream",
     "text": [
      "Epoch 210, Loss 0.0205\n",
      "Training Accuracy: 0.9769, Testing Accuracy: 0.9753\n",
      "\n"
     ]
    },
    {
     "name": "stdout",
     "output_type": "stream",
     "text": [
      "Epoch 220, Loss 0.0201\n",
      "Training Accuracy: 0.9775, Testing Accuracy: 0.9758\n",
      "\n"
     ]
    },
    {
     "name": "stdout",
     "output_type": "stream",
     "text": [
      "Epoch 230, Loss 0.0197\n",
      "Training Accuracy: 0.9782, Testing Accuracy: 0.9758\n",
      "\n"
     ]
    },
    {
     "name": "stdout",
     "output_type": "stream",
     "text": [
      "Epoch 240, Loss 0.0193\n",
      "Training Accuracy: 0.9790, Testing Accuracy: 0.9753\n",
      "\n"
     ]
    },
    {
     "data": {
      "text/plain": [
       "0.007438555505468275"
      ]
     },
     "execution_count": 22,
     "metadata": {},
     "output_type": "execute_result"
    }
   ],
   "source": [
    "nn_learner.train_loop(dl)"
   ]
  },
  {
   "cell_type": "code",
   "execution_count": 23,
   "id": "e0163366",
   "metadata": {
    "execution": {
     "iopub.execute_input": "2021-10-25T10:10:41.375085Z",
     "iopub.status.busy": "2021-10-25T10:10:41.374385Z",
     "iopub.status.idle": "2021-10-25T10:10:59.593091Z",
     "shell.execute_reply": "2021-10-25T10:10:59.593964Z"
    },
    "papermill": {
     "duration": 18.277955,
     "end_time": "2021-10-25T10:10:59.594284",
     "exception": false,
     "start_time": "2021-10-25T10:10:41.316329",
     "status": "completed"
    },
    "tags": []
   },
   "outputs": [
    {
     "name": "stdout",
     "output_type": "stream",
     "text": [
      "Epoch 0, Loss 0.2272\n",
      "Training Accuracy: 0.7456, Testing Accuracy: 0.7636\n",
      "\n"
     ]
    },
    {
     "name": "stdout",
     "output_type": "stream",
     "text": [
      "Epoch 10, Loss 0.1007\n",
      "Training Accuracy: 0.9160, Testing Accuracy: 0.9294\n",
      "\n"
     ]
    },
    {
     "name": "stdout",
     "output_type": "stream",
     "text": [
      "Epoch 20, Loss 0.078\n",
      "Training Accuracy: 0.9309, Testing Accuracy: 0.9441\n",
      "\n"
     ]
    },
    {
     "name": "stdout",
     "output_type": "stream",
     "text": [
      "Epoch 30, Loss 0.0675\n",
      "Training Accuracy: 0.9377, Testing Accuracy: 0.9496\n",
      "\n"
     ]
    },
    {
     "name": "stdout",
     "output_type": "stream",
     "text": [
      "Epoch 40, Loss 0.0612\n",
      "Training Accuracy: 0.9427, Testing Accuracy: 0.9536\n",
      "\n"
     ]
    },
    {
     "name": "stdout",
     "output_type": "stream",
     "text": [
      "Epoch 50, Loss 0.0568\n",
      "Training Accuracy: 0.9458, Testing Accuracy: 0.9577\n",
      "\n"
     ]
    },
    {
     "name": "stdout",
     "output_type": "stream",
     "text": [
      "Epoch 60, Loss 0.0536\n",
      "Training Accuracy: 0.9483, Testing Accuracy: 0.9577\n",
      "\n"
     ]
    },
    {
     "name": "stdout",
     "output_type": "stream",
     "text": [
      "Epoch 70, Loss 0.0511\n",
      "Training Accuracy: 0.9501, Testing Accuracy: 0.9577\n",
      "\n"
     ]
    },
    {
     "name": "stdout",
     "output_type": "stream",
     "text": [
      "Epoch 80, Loss 0.0491\n",
      "Training Accuracy: 0.9508, Testing Accuracy: 0.9592\n",
      "\n"
     ]
    },
    {
     "name": "stdout",
     "output_type": "stream",
     "text": [
      "Epoch 90, Loss 0.0475\n",
      "Training Accuracy: 0.9519, Testing Accuracy: 0.9602\n",
      "\n"
     ]
    },
    {
     "name": "stdout",
     "output_type": "stream",
     "text": [
      "Epoch 100, Loss 0.0461\n",
      "Training Accuracy: 0.9529, Testing Accuracy: 0.9607\n",
      "\n"
     ]
    },
    {
     "name": "stdout",
     "output_type": "stream",
     "text": [
      "Epoch 110, Loss 0.0449\n",
      "Training Accuracy: 0.9541, Testing Accuracy: 0.9607\n",
      "\n"
     ]
    },
    {
     "name": "stdout",
     "output_type": "stream",
     "text": [
      "Epoch 120, Loss 0.0438\n",
      "Training Accuracy: 0.9548, Testing Accuracy: 0.9607\n",
      "\n"
     ]
    },
    {
     "name": "stdout",
     "output_type": "stream",
     "text": [
      "Epoch 130, Loss 0.0429\n",
      "Training Accuracy: 0.9552, Testing Accuracy: 0.9612\n",
      "\n"
     ]
    },
    {
     "name": "stdout",
     "output_type": "stream",
     "text": [
      "Epoch 140, Loss 0.0421\n",
      "Training Accuracy: 0.9557, Testing Accuracy: 0.9607\n",
      "\n"
     ]
    },
    {
     "name": "stdout",
     "output_type": "stream",
     "text": [
      "Epoch 150, Loss 0.0413\n",
      "Training Accuracy: 0.9566, Testing Accuracy: 0.9612\n",
      "\n"
     ]
    },
    {
     "name": "stdout",
     "output_type": "stream",
     "text": [
      "Epoch 160, Loss 0.0407\n",
      "Training Accuracy: 0.9571, Testing Accuracy: 0.9622\n",
      "\n"
     ]
    },
    {
     "name": "stdout",
     "output_type": "stream",
     "text": [
      "Epoch 170, Loss 0.0401\n",
      "Training Accuracy: 0.9576, Testing Accuracy: 0.9637\n",
      "\n"
     ]
    },
    {
     "name": "stdout",
     "output_type": "stream",
     "text": [
      "Epoch 180, Loss 0.0395\n",
      "Training Accuracy: 0.9579, Testing Accuracy: 0.9657\n",
      "\n"
     ]
    },
    {
     "name": "stdout",
     "output_type": "stream",
     "text": [
      "Epoch 190, Loss 0.039\n",
      "Training Accuracy: 0.9586, Testing Accuracy: 0.9662\n",
      "\n"
     ]
    },
    {
     "name": "stdout",
     "output_type": "stream",
     "text": [
      "Epoch 200, Loss 0.0385\n",
      "Training Accuracy: 0.9591, Testing Accuracy: 0.9662\n",
      "\n"
     ]
    },
    {
     "name": "stdout",
     "output_type": "stream",
     "text": [
      "Epoch 210, Loss 0.0381\n",
      "Training Accuracy: 0.9596, Testing Accuracy: 0.9677\n",
      "\n"
     ]
    },
    {
     "name": "stdout",
     "output_type": "stream",
     "text": [
      "Epoch 220, Loss 0.0377\n",
      "Training Accuracy: 0.9601, Testing Accuracy: 0.9672\n",
      "\n"
     ]
    },
    {
     "name": "stdout",
     "output_type": "stream",
     "text": [
      "Epoch 230, Loss 0.0373\n",
      "Training Accuracy: 0.9604, Testing Accuracy: 0.9672\n",
      "\n"
     ]
    },
    {
     "name": "stdout",
     "output_type": "stream",
     "text": [
      "Epoch 240, Loss 0.0369\n",
      "Training Accuracy: 0.9607, Testing Accuracy: 0.9672\n",
      "\n"
     ]
    },
    {
     "data": {
      "text/plain": [
       "0.0653264138711387"
      ]
     },
     "execution_count": 23,
     "metadata": {},
     "output_type": "execute_result"
    }
   ],
   "source": [
    "lr_learner.train_loop(dl)"
   ]
  },
  {
   "cell_type": "code",
   "execution_count": 24,
   "id": "ca410940",
   "metadata": {
    "execution": {
     "iopub.execute_input": "2021-10-25T10:10:59.707276Z",
     "iopub.status.busy": "2021-10-25T10:10:59.706568Z",
     "iopub.status.idle": "2021-10-25T10:11:00.002526Z",
     "shell.execute_reply": "2021-10-25T10:11:00.001968Z"
    },
    "papermill": {
     "duration": 0.356319,
     "end_time": "2021-10-25T10:11:00.002682",
     "exception": false,
     "start_time": "2021-10-25T10:10:59.646363",
     "status": "completed"
    },
    "tags": []
   },
   "outputs": [
    {
     "data": {
      "text/plain": [
       "<matplotlib.legend.Legend at 0x7f95b047df98>"
      ]
     },
     "execution_count": 24,
     "metadata": {},
     "output_type": "execute_result"
    },
    {
     "data": {
      "image/png": "[encoded data removed]",
      "text/plain": [
       "<Figure size 1080x720 with 1 Axes>"
      ]
     },
     "metadata": {
      "needs_background": "light"
     },
     "output_type": "display_data"
    }
   ],
   "source": [
    "#comparing the results of NN and LR\n",
    "plt.figure(figsize=(15,10))\n",
    "\n",
    "# Neural Network plots\n",
    "plt.plot(acc_nn.accuracies, 'r-', label = \"Training Accuracies - NN\")\n",
    "plt.plot(acc_nn.test_accuracies, 'g-', label = \"Testing Accuracies - NN\")\n",
    "\n",
    "# Logistic Regression plots\n",
    "plt.plot(acc_lr.accuracies, 'k-', label = \"Training Accuracies - LR\")\n",
    "plt.plot(acc_lr.test_accuracies, 'b-', label = \"Testing Accuracies - LR\")\n",
    "plt.legend()"
   ]
  },
  {
   "cell_type": "markdown",
   "id": "80dfb35c",
   "metadata": {
    "papermill": {
     "duration": 0.062385,
     "end_time": "2021-10-25T10:11:00.120285",
     "exception": false,
     "start_time": "2021-10-25T10:11:00.057900",
     "status": "completed"
    },
    "tags": []
   },
   "source": [
    "#### Plotting the outputs of this layer of the NN.\n"
   ]
  },
  {
   "cell_type": "code",
   "execution_count": 25,
   "id": "45eb2ff5",
   "metadata": {
    "execution": {
     "iopub.execute_input": "2021-10-25T10:11:00.249444Z",
     "iopub.status.busy": "2021-10-25T10:11:00.247631Z",
     "iopub.status.idle": "2021-10-25T10:11:00.278989Z",
     "shell.execute_reply": "2021-10-25T10:11:00.278379Z"
    },
    "papermill": {
     "duration": 0.102738,
     "end_time": "2021-10-25T10:11:00.279145",
     "exception": false,
     "start_time": "2021-10-25T10:11:00.176407",
     "status": "completed"
    },
    "tags": []
   },
   "outputs": [],
   "source": [
    "new_model = Model(layers[:-2])\n",
    "testing_plot = new_model(testing_data_x)"
   ]
  },
  {
   "cell_type": "code",
   "execution_count": 26,
   "id": "4c0a5485",
   "metadata": {
    "execution": {
     "iopub.execute_input": "2021-10-25T10:11:00.428935Z",
     "iopub.status.busy": "2021-10-25T10:11:00.428284Z",
     "iopub.status.idle": "2021-10-25T10:11:00.686351Z",
     "shell.execute_reply": "2021-10-25T10:11:00.685641Z"
    },
    "papermill": {
     "duration": 0.337483,
     "end_time": "2021-10-25T10:11:00.686501",
     "exception": false,
     "start_time": "2021-10-25T10:11:00.349018",
     "status": "completed"
    },
    "tags": []
   },
   "outputs": [
    {
     "data": {
      "text/plain": [
       "Text(0.5, 1.0, 'Outputs')"
      ]
     },
     "execution_count": 26,
     "metadata": {},
     "output_type": "execute_result"
    },
    {
     "data": {
      "image/png": "[encoded data removed]",
      "text/plain": [
       "<Figure size 576x504 with 1 Axes>"
      ]
     },
     "metadata": {
      "needs_background": "light"
     },
     "output_type": "display_data"
    }
   ],
   "source": [
    "# Plotting the scatter plot of points and color coding by class\n",
    "plt.figure(figsize=(8,7))\n",
    "plt.scatter(testing_plot[:,0], testing_plot[:,1], alpha = 0.1, c = y_test.ravel());\n",
    "plt.title('Outputs')"
   ]
  },
  {
   "cell_type": "markdown",
   "id": "a74fcf8f",
   "metadata": {
    "papermill": {
     "duration": 0.057094,
     "end_time": "2021-10-25T10:11:00.802748",
     "exception": false,
     "start_time": "2021-10-25T10:11:00.745654",
     "status": "completed"
    },
    "tags": []
   },
   "source": [
    "Probability contours"
   ]
  },
  {
   "cell_type": "code",
   "execution_count": 27,
   "id": "d0afc8e3",
   "metadata": {
    "execution": {
     "iopub.execute_input": "2021-10-25T10:11:00.944162Z",
     "iopub.status.busy": "2021-10-25T10:11:00.943243Z",
     "iopub.status.idle": "2021-10-25T10:11:00.956594Z",
     "shell.execute_reply": "2021-10-25T10:11:00.956041Z"
    },
    "papermill": {
     "duration": 0.097803,
     "end_time": "2021-10-25T10:11:00.956729",
     "exception": false,
     "start_time": "2021-10-25T10:11:00.858926",
     "status": "completed"
    },
    "tags": []
   },
   "outputs": [],
   "source": [
    "model_prob = Model(layers[-2:]) "
   ]
  },
  {
   "cell_type": "code",
   "execution_count": 28,
   "id": "9b96e238",
   "metadata": {
    "execution": {
     "iopub.execute_input": "2021-10-25T10:11:01.096670Z",
     "iopub.status.busy": "2021-10-25T10:11:01.095973Z",
     "iopub.status.idle": "2021-10-25T10:11:01.110226Z",
     "shell.execute_reply": "2021-10-25T10:11:01.110757Z"
    },
    "papermill": {
     "duration": 0.094926,
     "end_time": "2021-10-25T10:11:01.110974",
     "exception": false,
     "start_time": "2021-10-25T10:11:01.016048",
     "status": "completed"
    },
    "tags": []
   },
   "outputs": [],
   "source": [
    "#creating the x and y ranges according to the above generated plot.\n",
    "x_range = np.linspace(-4, 1, 100) \n",
    "y_range = np.linspace(-6, 6, 100) \n",
    "x_grid, y_grid = np.meshgrid(x_range, y_range) # x_grid and y_grig are of size 100 X 100\n",
    "\n",
    "# converting x_grid and y_grid to continuous arrays\n",
    "x_gridflat = np.ravel(x_grid)\n",
    "y_gridflat = np.ravel(y_grid)\n",
    "\n",
    "# The last layer of the current model takes two columns as input. Hence transpose of np.vstack() is required.\n",
    "X = np.vstack((x_gridflat, y_gridflat)).T\n",
    "\n",
    "prob_contour = model_prob(X).reshape(100,100) "
   ]
  },
  {
   "cell_type": "code",
   "execution_count": 29,
   "id": "da72499a",
   "metadata": {
    "execution": {
     "iopub.execute_input": "2021-10-25T10:11:01.244475Z",
     "iopub.status.busy": "2021-10-25T10:11:01.243747Z",
     "iopub.status.idle": "2021-10-25T10:11:01.561517Z",
     "shell.execute_reply": "2021-10-25T10:11:01.562062Z"
    },
    "papermill": {
     "duration": 0.387556,
     "end_time": "2021-10-25T10:11:01.562234",
     "exception": false,
     "start_time": "2021-10-25T10:11:01.174678",
     "status": "completed"
    },
    "tags": []
   },
   "outputs": [
    {
     "data": {
      "image/png": "[encoded data removed]",
      "text/plain": [
       "<Figure size 720x648 with 1 Axes>"
      ]
     },
     "metadata": {
      "needs_background": "light"
     },
     "output_type": "display_data"
    }
   ],
   "source": [
    "plt.figure(figsize=(10,9))\n",
    "plt.scatter(testing_plot[:,0], testing_plot[:,1], alpha = 0.1, c = y_test.ravel())\n",
    "contours = plt.contour(x_grid,y_grid,prob_contour)\n",
    "plt.title('Probability Contours')\n",
    "plt.clabel(contours, inline = True );"
   ]
  },
  {
   "cell_type": "code",
   "execution_count": null,
   "id": "e81b4ac7",
   "metadata": {
    "papermill": {
     "duration": 0.062823,
     "end_time": "2021-10-25T10:11:01.688148",
     "exception": false,
     "start_time": "2021-10-25T10:11:01.625325",
     "status": "completed"
    },
    "tags": []
   },
   "outputs": [],
   "source": []
  }
 ],
 "metadata": {
  "kernelspec": {
   "display_name": "Python 3",
   "language": "python",
   "name": "python3"
  },
  "language_info": {
   "codemirror_mode": {
    "name": "ipython",
    "version": 3
   },
   "file_extension": ".py",
   "mimetype": "text/x-python",
   "name": "python",
   "nbconvert_exporter": "python",
   "pygments_lexer": "ipython3",
   "version": "3.6.15"
  },
  "papermill": {
   "default_parameters": {},
   "duration": 155.094091,
   "end_time": "2021-10-25T10:11:02.168668",
   "environment_variables": {},
   "exception": null,
   "input_path": "2020-08-11-part2.ipynb",
   "output_path": "2020-08-11-part2.ipynb",
   "parameters": {},
   "start_time": "2021-10-25T10:08:27.074577",
   "version": "2.3.3"
  }
 },
 "nbformat": 4,
 "nbformat_minor": 5
}