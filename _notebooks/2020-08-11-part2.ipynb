{
 "cells": [
  {
   "cell_type": "markdown",
   "id": "98380cd3",
   "metadata": {
    "papermill": {
     "duration": 0.030539,
     "end_time": "2022-06-26T00:44:28.129158",
     "exception": false,
     "start_time": "2022-06-26T00:44:28.098619",
     "status": "completed"
    },
    "tags": []
   },
   "source": [
    "# Distinguish Your Own Digits (DYOD)"
   ]
  },
  {
   "cell_type": "markdown",
   "id": "ef31240d",
   "metadata": {
    "papermill": {
     "duration": 0.024146,
     "end_time": "2022-06-26T00:44:28.177826",
     "exception": false,
     "start_time": "2022-06-26T00:44:28.153680",
     "status": "completed"
    },
    "tags": []
   },
   "source": [
    "You are going to write a classifier that distinguishes between the number 3 and number 8."
   ]
  },
  {
   "cell_type": "code",
   "execution_count": 1,
   "id": "b15c8646",
   "metadata": {
    "execution": {
     "iopub.execute_input": "2022-06-26T00:44:28.236664Z",
     "iopub.status.busy": "2022-06-26T00:44:28.236034Z",
     "iopub.status.idle": "2022-06-26T00:44:28.247069Z",
     "shell.execute_reply": "2022-06-26T00:44:28.246537Z"
    },
    "papermill": {
     "duration": 0.04539,
     "end_time": "2022-06-26T00:44:28.247205",
     "exception": false,
     "start_time": "2022-06-26T00:44:28.201815",
     "status": "completed"
    },
    "tags": []
   },
   "outputs": [],
   "source": [
    "%load_ext autoreload\n",
    "%autoreload 2"
   ]
  },
  {
   "cell_type": "code",
   "execution_count": 2,
   "id": "22ef38dc",
   "metadata": {
    "execution": {
     "iopub.execute_input": "2022-06-26T00:44:28.299666Z",
     "iopub.status.busy": "2022-06-26T00:44:28.299066Z",
     "iopub.status.idle": "2022-06-26T00:44:28.840824Z",
     "shell.execute_reply": "2022-06-26T00:44:28.839803Z"
    },
    "papermill": {
     "duration": 0.569842,
     "end_time": "2022-06-26T00:44:28.840968",
     "exception": false,
     "start_time": "2022-06-26T00:44:28.271126",
     "status": "completed"
    },
    "tags": []
   },
   "outputs": [],
   "source": [
    "%matplotlib inline\n",
    "import numpy as np\n",
    "import matplotlib.pyplot as plt\n",
    "import pandas as pd"
   ]
  },
  {
   "cell_type": "markdown",
   "id": "ba036198",
   "metadata": {
    "papermill": {
     "duration": 0.023856,
     "end_time": "2022-06-26T00:44:28.888747",
     "exception": false,
     "start_time": "2022-06-26T00:44:28.864891",
     "status": "completed"
    },
    "tags": []
   },
   "source": [
    "From the command line run `pip install mnist`. This is a library that will help you bring down the mnist dataset. If you run this from a notebook, you need to put  `!pip install mnist` in a cell by itself."
   ]
  },
  {
   "cell_type": "code",
   "execution_count": 3,
   "id": "bb6ad8a1",
   "metadata": {
    "execution": {
     "iopub.execute_input": "2022-06-26T00:44:28.949638Z",
     "iopub.status.busy": "2022-06-26T00:44:28.940196Z",
     "iopub.status.idle": "2022-06-26T00:44:30.609903Z",
     "shell.execute_reply": "2022-06-26T00:44:30.611086Z"
    },
    "papermill": {
     "duration": 1.698584,
     "end_time": "2022-06-26T00:44:30.611273",
     "exception": false,
     "start_time": "2022-06-26T00:44:28.912689",
     "status": "completed"
    },
    "tags": []
   },
   "outputs": [
    {
     "name": "stdout",
     "output_type": "stream",
     "text": [
      "Collecting mnist\r\n"
     ]
    },
    {
     "name": "stdout",
     "output_type": "stream",
     "text": [
      "  Downloading mnist-0.2.2-py2.py3-none-any.whl (3.5 kB)\r\n",
      "Requirement already satisfied: numpy in /opt/hostedtoolcache/Python/3.6.15/x64/lib/python3.6/site-packages (from mnist) (1.19.5)\r\n"
     ]
    },
    {
     "name": "stdout",
     "output_type": "stream",
     "text": [
      "Installing collected packages: mnist\r\n"
     ]
    },
    {
     "name": "stdout",
     "output_type": "stream",
     "text": [
      "Successfully installed mnist-0.2.2\r\n"
     ]
    }
   ],
   "source": [
    "!pip install mnist"
   ]
  },
  {
   "cell_type": "markdown",
   "id": "69df9c9a",
   "metadata": {
    "papermill": {
     "duration": 0.025225,
     "end_time": "2022-06-26T00:44:30.661584",
     "exception": false,
     "start_time": "2022-06-26T00:44:30.636359",
     "status": "completed"
    },
    "tags": []
   },
   "source": [
    "## Preparing the Data"
   ]
  },
  {
   "cell_type": "code",
   "execution_count": 4,
   "id": "7f69d806",
   "metadata": {
    "execution": {
     "iopub.execute_input": "2022-06-26T00:44:30.724493Z",
     "iopub.status.busy": "2022-06-26T00:44:30.723903Z",
     "iopub.status.idle": "2022-06-26T00:44:30.734398Z",
     "shell.execute_reply": "2022-06-26T00:44:30.733314Z"
    },
    "papermill": {
     "duration": 0.048251,
     "end_time": "2022-06-26T00:44:30.734518",
     "exception": false,
     "start_time": "2022-06-26T00:44:30.686267",
     "status": "completed"
    },
    "tags": []
   },
   "outputs": [],
   "source": [
    "import mnist"
   ]
  },
  {
   "cell_type": "code",
   "execution_count": 5,
   "id": "a411e44f",
   "metadata": {
    "execution": {
     "iopub.execute_input": "2022-06-26T00:44:30.787499Z",
     "iopub.status.busy": "2022-06-26T00:44:30.786884Z",
     "iopub.status.idle": "2022-06-26T00:44:31.345118Z",
     "shell.execute_reply": "2022-06-26T00:44:31.345632Z"
    },
    "papermill": {
     "duration": 0.586469,
     "end_time": "2022-06-26T00:44:31.345783",
     "exception": false,
     "start_time": "2022-06-26T00:44:30.759314",
     "status": "completed"
    },
    "tags": []
   },
   "outputs": [],
   "source": [
    "train_images = mnist.train_images()\n",
    "train_labels = mnist.train_labels()"
   ]
  },
  {
   "cell_type": "code",
   "execution_count": 6,
   "id": "dceab3a5",
   "metadata": {
    "execution": {
     "iopub.execute_input": "2022-06-26T00:44:31.400574Z",
     "iopub.status.busy": "2022-06-26T00:44:31.399981Z",
     "iopub.status.idle": "2022-06-26T00:44:31.416538Z",
     "shell.execute_reply": "2022-06-26T00:44:31.417269Z"
    },
    "papermill": {
     "duration": 0.046042,
     "end_time": "2022-06-26T00:44:31.417415",
     "exception": false,
     "start_time": "2022-06-26T00:44:31.371373",
     "status": "completed"
    },
    "tags": []
   },
   "outputs": [
    {
     "data": {
      "text/plain": [
       "((60000, 28, 28), (60000,))"
      ]
     },
     "execution_count": 6,
     "metadata": {},
     "output_type": "execute_result"
    }
   ],
   "source": [
    "train_images.shape, train_labels.shape"
   ]
  },
  {
   "cell_type": "code",
   "execution_count": 7,
   "id": "f50dc2bb",
   "metadata": {
    "execution": {
     "iopub.execute_input": "2022-06-26T00:44:31.471651Z",
     "iopub.status.busy": "2022-06-26T00:44:31.471060Z",
     "iopub.status.idle": "2022-06-26T00:44:31.619161Z",
     "shell.execute_reply": "2022-06-26T00:44:31.618565Z"
    },
    "papermill": {
     "duration": 0.176453,
     "end_time": "2022-06-26T00:44:31.619300",
     "exception": false,
     "start_time": "2022-06-26T00:44:31.442847",
     "status": "completed"
    },
    "tags": []
   },
   "outputs": [],
   "source": [
    "test_images = mnist.test_images()\n",
    "test_labels = mnist.test_labels()"
   ]
  },
  {
   "cell_type": "code",
   "execution_count": 8,
   "id": "fc38cf1b",
   "metadata": {
    "execution": {
     "iopub.execute_input": "2022-06-26T00:44:31.673969Z",
     "iopub.status.busy": "2022-06-26T00:44:31.673389Z",
     "iopub.status.idle": "2022-06-26T00:44:31.687768Z",
     "shell.execute_reply": "2022-06-26T00:44:31.687282Z"
    },
    "papermill": {
     "duration": 0.043221,
     "end_time": "2022-06-26T00:44:31.687882",
     "exception": false,
     "start_time": "2022-06-26T00:44:31.644661",
     "status": "completed"
    },
    "tags": []
   },
   "outputs": [
    {
     "data": {
      "text/plain": [
       "((10000, 28, 28), (10000,))"
      ]
     },
     "execution_count": 8,
     "metadata": {},
     "output_type": "execute_result"
    }
   ],
   "source": [
    "test_images.shape, test_labels.shape"
   ]
  },
  {
   "cell_type": "code",
   "execution_count": 9,
   "id": "f9ed8fe0",
   "metadata": {
    "execution": {
     "iopub.execute_input": "2022-06-26T00:44:31.748597Z",
     "iopub.status.busy": "2022-06-26T00:44:31.747923Z",
     "iopub.status.idle": "2022-06-26T00:44:31.882647Z",
     "shell.execute_reply": "2022-06-26T00:44:31.882156Z"
    },
    "papermill": {
     "duration": 0.168932,
     "end_time": "2022-06-26T00:44:31.882779",
     "exception": false,
     "start_time": "2022-06-26T00:44:31.713847",
     "status": "completed"
    },
    "tags": []
   },
   "outputs": [
    {
     "name": "stdout",
     "output_type": "stream",
     "text": [
      "2\n"
     ]
    },
    {
     "data": {
      "text/plain": [
       "<matplotlib.image.AxesImage at 0x7feefad36390>"
      ]
     },
     "execution_count": 9,
     "metadata": {},
     "output_type": "execute_result"
    },
    {
     "data": {
      "image/png": "[encoded data removed]",
      "text/plain": [
       "<Figure size 432x288 with 1 Axes>"
      ]
     },
     "metadata": {
      "needs_background": "light"
     },
     "output_type": "display_data"
    }
   ],
   "source": [
    "image_index = 7776 # You may select anything up to 60,000\n",
    "print(train_labels[image_index]) \n",
    "plt.imshow(train_images[image_index], cmap='Greys')"
   ]
  },
  {
   "cell_type": "markdown",
   "id": "a8d2388d",
   "metadata": {
    "papermill": {
     "duration": 0.026853,
     "end_time": "2022-06-26T00:44:31.936348",
     "exception": false,
     "start_time": "2022-06-26T00:44:31.909495",
     "status": "completed"
    },
    "tags": []
   },
   "source": [
    "## Filter data to get 3 and 8 out"
   ]
  },
  {
   "cell_type": "code",
   "execution_count": 10,
   "id": "776f7fc7",
   "metadata": {
    "execution": {
     "iopub.execute_input": "2022-06-26T00:44:32.000574Z",
     "iopub.status.busy": "2022-06-26T00:44:31.999945Z",
     "iopub.status.idle": "2022-06-26T00:44:32.014735Z",
     "shell.execute_reply": "2022-06-26T00:44:32.014215Z"
    },
    "papermill": {
     "duration": 0.052006,
     "end_time": "2022-06-26T00:44:32.014850",
     "exception": false,
     "start_time": "2022-06-26T00:44:31.962844",
     "status": "completed"
    },
    "tags": []
   },
   "outputs": [],
   "source": [
    "train_filter = np.where((train_labels == 3 ) | (train_labels == 8))\n",
    "test_filter = np.where((test_labels == 3) | (test_labels == 8))\n",
    "X_train, y_train = train_images[train_filter], train_labels[train_filter]\n",
    "X_test, y_test = test_images[test_filter], test_labels[test_filter]"
   ]
  },
  {
   "cell_type": "markdown",
   "id": "948f0b7e",
   "metadata": {
    "papermill": {
     "duration": 0.026641,
     "end_time": "2022-06-26T00:44:32.068062",
     "exception": false,
     "start_time": "2022-06-26T00:44:32.041421",
     "status": "completed"
    },
    "tags": []
   },
   "source": [
    "We normalize the pizel values in the 0 to 1 range"
   ]
  },
  {
   "cell_type": "code",
   "execution_count": 11,
   "id": "ee4c2166",
   "metadata": {
    "execution": {
     "iopub.execute_input": "2022-06-26T00:44:32.129302Z",
     "iopub.status.busy": "2022-06-26T00:44:32.128702Z",
     "iopub.status.idle": "2022-06-26T00:44:32.174531Z",
     "shell.execute_reply": "2022-06-26T00:44:32.173949Z"
    },
    "papermill": {
     "duration": 0.080298,
     "end_time": "2022-06-26T00:44:32.174666",
     "exception": false,
     "start_time": "2022-06-26T00:44:32.094368",
     "status": "completed"
    },
    "tags": []
   },
   "outputs": [],
   "source": [
    "X_train = X_train/255.\n",
    "X_test = X_test/255."
   ]
  },
  {
   "cell_type": "markdown",
   "id": "ddcf4fab",
   "metadata": {
    "papermill": {
     "duration": 0.026423,
     "end_time": "2022-06-26T00:44:32.228312",
     "exception": false,
     "start_time": "2022-06-26T00:44:32.201889",
     "status": "completed"
    },
    "tags": []
   },
   "source": [
    "And setup the labels as 1 (when the digit is 3) and 0 (when the digit is 8)"
   ]
  },
  {
   "cell_type": "code",
   "execution_count": 12,
   "id": "7dc908f2",
   "metadata": {
    "execution": {
     "iopub.execute_input": "2022-06-26T00:44:32.299499Z",
     "iopub.status.busy": "2022-06-26T00:44:32.298864Z",
     "iopub.status.idle": "2022-06-26T00:44:32.301100Z",
     "shell.execute_reply": "2022-06-26T00:44:32.301551Z"
    },
    "papermill": {
     "duration": 0.047039,
     "end_time": "2022-06-26T00:44:32.301681",
     "exception": false,
     "start_time": "2022-06-26T00:44:32.254642",
     "status": "completed"
    },
    "tags": []
   },
   "outputs": [],
   "source": [
    "y_train = 1*(y_train==3)\n",
    "y_test = 1*(y_test==3)"
   ]
  },
  {
   "cell_type": "code",
   "execution_count": 13,
   "id": "01e4e969",
   "metadata": {
    "execution": {
     "iopub.execute_input": "2022-06-26T00:44:32.369085Z",
     "iopub.status.busy": "2022-06-26T00:44:32.360495Z",
     "iopub.status.idle": "2022-06-26T00:44:32.372258Z",
     "shell.execute_reply": "2022-06-26T00:44:32.372682Z"
    },
    "papermill": {
     "duration": 0.044807,
     "end_time": "2022-06-26T00:44:32.372814",
     "exception": false,
     "start_time": "2022-06-26T00:44:32.328007",
     "status": "completed"
    },
    "tags": []
   },
   "outputs": [
    {
     "data": {
      "text/plain": [
       "((11982, 28, 28), (1984, 28, 28))"
      ]
     },
     "execution_count": 13,
     "metadata": {},
     "output_type": "execute_result"
    }
   ],
   "source": [
    "X_train.shape, X_test.shape"
   ]
  },
  {
   "cell_type": "markdown",
   "id": "5ccf3f85",
   "metadata": {
    "papermill": {
     "duration": 0.026484,
     "end_time": "2022-06-26T00:44:32.425611",
     "exception": false,
     "start_time": "2022-06-26T00:44:32.399127",
     "status": "completed"
    },
    "tags": []
   },
   "source": [
    "We reshape the data to flatten the image pixels into a set of features or co-variates:"
   ]
  },
  {
   "cell_type": "code",
   "execution_count": 14,
   "id": "5286a4a3",
   "metadata": {
    "execution": {
     "iopub.execute_input": "2022-06-26T00:44:32.485118Z",
     "iopub.status.busy": "2022-06-26T00:44:32.484528Z",
     "iopub.status.idle": "2022-06-26T00:44:32.497382Z",
     "shell.execute_reply": "2022-06-26T00:44:32.496907Z"
    },
    "papermill": {
     "duration": 0.044821,
     "end_time": "2022-06-26T00:44:32.497492",
     "exception": false,
     "start_time": "2022-06-26T00:44:32.452671",
     "status": "completed"
    },
    "tags": []
   },
   "outputs": [
    {
     "data": {
      "text/plain": [
       "((11982, 784), (1984, 784))"
      ]
     },
     "execution_count": 14,
     "metadata": {},
     "output_type": "execute_result"
    }
   ],
   "source": [
    "X_train = X_train.reshape(X_train.shape[0], -1)\n",
    "X_test = X_test.reshape(X_test.shape[0], -1)\n",
    "X_train.shape, X_test.shape"
   ]
  },
  {
   "cell_type": "code",
   "execution_count": 15,
   "id": "73c5f88a",
   "metadata": {
    "execution": {
     "iopub.execute_input": "2022-06-26T00:44:32.556342Z",
     "iopub.status.busy": "2022-06-26T00:44:32.555760Z",
     "iopub.status.idle": "2022-06-26T00:44:32.574803Z",
     "shell.execute_reply": "2022-06-26T00:44:32.575398Z"
    },
    "papermill": {
     "duration": 0.050365,
     "end_time": "2022-06-26T00:44:32.575528",
     "exception": false,
     "start_time": "2022-06-26T00:44:32.525163",
     "status": "completed"
    },
    "tags": []
   },
   "outputs": [],
   "source": [
    "#Impoting functions from 'Kudzu'\n",
    "from kudzu.model import Model\n",
    "from kudzu.train import Learner\n",
    "from kudzu.optim import GD\n",
    "from kudzu.data import Data, Sampler,Dataloader\n",
    "\n",
    "from kudzu.callbacks import AccCallback\n",
    "from kudzu.callbacks import ClfCallback\n",
    "\n",
    "from kudzu.loss import MSE\n",
    "\n",
    "from kudzu.layer import Sigmoid,Relu\n",
    "from kudzu.layer import Affine"
   ]
  },
  {
   "cell_type": "markdown",
   "id": "bc01172a",
   "metadata": {
    "papermill": {
     "duration": 0.026722,
     "end_time": "2022-06-26T00:44:32.629026",
     "exception": false,
     "start_time": "2022-06-26T00:44:32.602304",
     "status": "completed"
    },
    "tags": []
   },
   "source": [
    "### Let us create a `Config` class, to store important parameters. \n",
    "This class essentially plays the role of a dictionary."
   ]
  },
  {
   "cell_type": "code",
   "execution_count": 16,
   "id": "978281aa",
   "metadata": {
    "execution": {
     "iopub.execute_input": "2022-06-26T00:44:32.686432Z",
     "iopub.status.busy": "2022-06-26T00:44:32.685850Z",
     "iopub.status.idle": "2022-06-26T00:44:32.698854Z",
     "shell.execute_reply": "2022-06-26T00:44:32.698373Z"
    },
    "papermill": {
     "duration": 0.043306,
     "end_time": "2022-06-26T00:44:32.698962",
     "exception": false,
     "start_time": "2022-06-26T00:44:32.655656",
     "status": "completed"
    },
    "tags": []
   },
   "outputs": [],
   "source": [
    "class Config:\n",
    "    pass\n",
    "config = Config()\n",
    "config.lr = 0.001\n",
    "config.num_epochs = 250\n",
    "config.bs = 50"
   ]
  },
  {
   "cell_type": "markdown",
   "id": "1385fa59",
   "metadata": {
    "papermill": {
     "duration": 0.026689,
     "end_time": "2022-06-26T00:44:32.752593",
     "exception": false,
     "start_time": "2022-06-26T00:44:32.725904",
     "status": "completed"
    },
    "tags": []
   },
   "source": [
    "### Running Models with the Training data\n",
    "Details about the network layers:\n",
    "- A first affine layer has 784 inputs and does 100 affine transforms. These are followed by a Relu\n",
    "- A second affine layer has 100 inputs from the 100 activations of the past layer, and does 100 affine transforms. These are followed by a Relu\n",
    "- A third affine layer has 100 activations and does 2 affine transformations to create an embedding for visualization. There is no non-linearity here.\n",
    "- A final \"logistic regression\" which has an affine transform from 2 inputs to 1 output, which is squeezed through a sigmoid.\n"
   ]
  },
  {
   "cell_type": "code",
   "execution_count": 17,
   "id": "2b9c66db",
   "metadata": {
    "execution": {
     "iopub.execute_input": "2022-06-26T00:44:32.823553Z",
     "iopub.status.busy": "2022-06-26T00:44:32.819875Z",
     "iopub.status.idle": "2022-06-26T00:44:32.825760Z",
     "shell.execute_reply": "2022-06-26T00:44:32.826182Z"
    },
    "papermill": {
     "duration": 0.047057,
     "end_time": "2022-06-26T00:44:32.826313",
     "exception": false,
     "start_time": "2022-06-26T00:44:32.779256",
     "status": "completed"
    },
    "tags": []
   },
   "outputs": [],
   "source": [
    "data = Data(X_train, y_train.reshape(-1,1))\n",
    "sampler = Sampler(data, config.bs, shuffle=True)\n",
    "\n",
    "dl = Dataloader(data, sampler)\n",
    "\n",
    "opt = GD(config.lr)\n",
    "loss = MSE()"
   ]
  },
  {
   "cell_type": "code",
   "execution_count": 18,
   "id": "b275e4c2",
   "metadata": {
    "execution": {
     "iopub.execute_input": "2022-06-26T00:44:32.883957Z",
     "iopub.status.busy": "2022-06-26T00:44:32.883364Z",
     "iopub.status.idle": "2022-06-26T00:44:32.896063Z",
     "shell.execute_reply": "2022-06-26T00:44:32.896719Z"
    },
    "papermill": {
     "duration": 0.043649,
     "end_time": "2022-06-26T00:44:32.896857",
     "exception": false,
     "start_time": "2022-06-26T00:44:32.853208",
     "status": "completed"
    },
    "tags": []
   },
   "outputs": [],
   "source": [
    "training_data_x = X_train\n",
    "testing_data_x = X_test\n",
    "training_data_y = y_train.reshape(-1,1)\n",
    "testing_data_y = y_test.reshape(-1,1)"
   ]
  },
  {
   "cell_type": "code",
   "execution_count": 19,
   "id": "76951160",
   "metadata": {
    "execution": {
     "iopub.execute_input": "2022-06-26T00:44:32.954867Z",
     "iopub.status.busy": "2022-06-26T00:44:32.954281Z",
     "iopub.status.idle": "2022-06-26T00:44:32.971819Z",
     "shell.execute_reply": "2022-06-26T00:44:32.971244Z"
    },
    "papermill": {
     "duration": 0.048468,
     "end_time": "2022-06-26T00:44:32.971927",
     "exception": false,
     "start_time": "2022-06-26T00:44:32.923459",
     "status": "completed"
    },
    "tags": []
   },
   "outputs": [
    {
     "name": "stdout",
     "output_type": "stream",
     "text": [
      "xavier\n",
      "xavier\n",
      "xavier\n",
      "xavier\n",
      "xavier\n"
     ]
    }
   ],
   "source": [
    "layers = [Affine(\"first\", 784, 100), Relu(\"first\"), Affine(\"second\", 100, 100), Relu(\"second\"), Affine(\"third\", 100, 2), Affine(\"last\", 2, 1), Sigmoid(\"last\")]\n",
    "model_nn = Model(layers)\n",
    "model_lr = Model([Affine(\"logits\", 784, 1), Sigmoid(\"sigmoid\")])"
   ]
  },
  {
   "cell_type": "code",
   "execution_count": 20,
   "id": "6eede77a",
   "metadata": {
    "execution": {
     "iopub.execute_input": "2022-06-26T00:44:33.032729Z",
     "iopub.status.busy": "2022-06-26T00:44:33.032147Z",
     "iopub.status.idle": "2022-06-26T00:44:33.042677Z",
     "shell.execute_reply": "2022-06-26T00:44:33.043146Z"
    },
    "papermill": {
     "duration": 0.044113,
     "end_time": "2022-06-26T00:44:33.043274",
     "exception": false,
     "start_time": "2022-06-26T00:44:32.999161",
     "status": "completed"
    },
    "tags": []
   },
   "outputs": [],
   "source": [
    "nn_learner = Learner(loss, model_nn, opt, config.num_epochs)\n",
    "acc_nn = ClfCallback(nn_learner, config.bs, training_data_x , testing_data_x, training_data_y, testing_data_y)\n",
    "nn_learner.set_callbacks([acc_nn])"
   ]
  },
  {
   "cell_type": "code",
   "execution_count": 21,
   "id": "877b6cc7",
   "metadata": {
    "execution": {
     "iopub.execute_input": "2022-06-26T00:44:33.101685Z",
     "iopub.status.busy": "2022-06-26T00:44:33.101010Z",
     "iopub.status.idle": "2022-06-26T00:44:33.113121Z",
     "shell.execute_reply": "2022-06-26T00:44:33.112639Z"
    },
    "papermill": {
     "duration": 0.04281,
     "end_time": "2022-06-26T00:44:33.113230",
     "exception": false,
     "start_time": "2022-06-26T00:44:33.070420",
     "status": "completed"
    },
    "tags": []
   },
   "outputs": [],
   "source": [
    "lr_learner = Learner(loss, model_lr, opt, config.num_epochs)\n",
    "acc_lr = ClfCallback(lr_learner, config.bs, training_data_x , testing_data_x, training_data_y, testing_data_y)\n",
    "lr_learner.set_callbacks([acc_lr])"
   ]
  },
  {
   "cell_type": "code",
   "execution_count": 22,
   "id": "d9b133c3",
   "metadata": {
    "execution": {
     "iopub.execute_input": "2022-06-26T00:44:33.171356Z",
     "iopub.status.busy": "2022-06-26T00:44:33.170720Z",
     "iopub.status.idle": "2022-06-26T00:45:47.665573Z",
     "shell.execute_reply": "2022-06-26T00:45:47.666483Z"
    },
    "papermill": {
     "duration": 74.526208,
     "end_time": "2022-06-26T00:45:47.666648",
     "exception": false,
     "start_time": "2022-06-26T00:44:33.140440",
     "status": "completed"
    },
    "tags": []
   },
   "outputs": [
    {
     "name": "stdout",
     "output_type": "stream",
     "text": [
      "Epoch 0, Loss 0.2467\n",
      "Training Accuracy: 0.6338, Testing Accuracy: 0.6200\n",
      "\n"
     ]
    },
    {
     "name": "stdout",
     "output_type": "stream",
     "text": [
      "Epoch 10, Loss 0.0981\n",
      "Training Accuracy: 0.9097, Testing Accuracy: 0.9239\n",
      "\n"
     ]
    },
    {
     "name": "stdout",
     "output_type": "stream",
     "text": [
      "Epoch 20, Loss 0.0586\n",
      "Training Accuracy: 0.9391, Testing Accuracy: 0.9501\n",
      "\n"
     ]
    },
    {
     "name": "stdout",
     "output_type": "stream",
     "text": [
      "Epoch 30, Loss 0.0448\n",
      "Training Accuracy: 0.9515, Testing Accuracy: 0.9627\n",
      "\n"
     ]
    },
    {
     "name": "stdout",
     "output_type": "stream",
     "text": [
      "Epoch 40, Loss 0.0382\n",
      "Training Accuracy: 0.9573, Testing Accuracy: 0.9698\n",
      "\n"
     ]
    },
    {
     "name": "stdout",
     "output_type": "stream",
     "text": [
      "Epoch 50, Loss 0.0343\n",
      "Training Accuracy: 0.9605, Testing Accuracy: 0.9698\n",
      "\n"
     ]
    },
    {
     "name": "stdout",
     "output_type": "stream",
     "text": [
      "Epoch 60, Loss 0.0317\n",
      "Training Accuracy: 0.9629, Testing Accuracy: 0.9698\n",
      "\n"
     ]
    },
    {
     "name": "stdout",
     "output_type": "stream",
     "text": [
      "Epoch 70, Loss 0.0298\n",
      "Training Accuracy: 0.9656, Testing Accuracy: 0.9713\n",
      "\n"
     ]
    },
    {
     "name": "stdout",
     "output_type": "stream",
     "text": [
      "Epoch 80, Loss 0.0283\n",
      "Training Accuracy: 0.9675, Testing Accuracy: 0.9723\n",
      "\n"
     ]
    },
    {
     "name": "stdout",
     "output_type": "stream",
     "text": [
      "Epoch 90, Loss 0.0271\n",
      "Training Accuracy: 0.9686, Testing Accuracy: 0.9718\n",
      "\n"
     ]
    },
    {
     "name": "stdout",
     "output_type": "stream",
     "text": [
      "Epoch 100, Loss 0.0261\n",
      "Training Accuracy: 0.9698, Testing Accuracy: 0.9723\n",
      "\n"
     ]
    },
    {
     "name": "stdout",
     "output_type": "stream",
     "text": [
      "Epoch 110, Loss 0.0253\n",
      "Training Accuracy: 0.9708, Testing Accuracy: 0.9728\n",
      "\n"
     ]
    },
    {
     "name": "stdout",
     "output_type": "stream",
     "text": [
      "Epoch 120, Loss 0.0245\n",
      "Training Accuracy: 0.9717, Testing Accuracy: 0.9733\n",
      "\n"
     ]
    },
    {
     "name": "stdout",
     "output_type": "stream",
     "text": [
      "Epoch 130, Loss 0.0238\n",
      "Training Accuracy: 0.9727, Testing Accuracy: 0.9723\n",
      "\n"
     ]
    },
    {
     "name": "stdout",
     "output_type": "stream",
     "text": [
      "Epoch 140, Loss 0.0232\n",
      "Training Accuracy: 0.9735, Testing Accuracy: 0.9723\n",
      "\n"
     ]
    },
    {
     "name": "stdout",
     "output_type": "stream",
     "text": [
      "Epoch 150, Loss 0.0226\n",
      "Training Accuracy: 0.9738, Testing Accuracy: 0.9728\n",
      "\n"
     ]
    },
    {
     "name": "stdout",
     "output_type": "stream",
     "text": [
      "Epoch 160, Loss 0.0221\n",
      "Training Accuracy: 0.9744, Testing Accuracy: 0.9723\n",
      "\n"
     ]
    },
    {
     "name": "stdout",
     "output_type": "stream",
     "text": [
      "Epoch 170, Loss 0.0216\n",
      "Training Accuracy: 0.9752, Testing Accuracy: 0.9728\n",
      "\n"
     ]
    },
    {
     "name": "stdout",
     "output_type": "stream",
     "text": [
      "Epoch 180, Loss 0.0212\n",
      "Training Accuracy: 0.9756, Testing Accuracy: 0.9728\n",
      "\n"
     ]
    },
    {
     "name": "stdout",
     "output_type": "stream",
     "text": [
      "Epoch 190, Loss 0.0207\n",
      "Training Accuracy: 0.9764, Testing Accuracy: 0.9728\n",
      "\n"
     ]
    },
    {
     "name": "stdout",
     "output_type": "stream",
     "text": [
      "Epoch 200, Loss 0.0203\n",
      "Training Accuracy: 0.9769, Testing Accuracy: 0.9733\n",
      "\n"
     ]
    },
    {
     "name": "stdout",
     "output_type": "stream",
     "text": [
      "Epoch 210, Loss 0.0199\n",
      "Training Accuracy: 0.9775, Testing Accuracy: 0.9738\n",
      "\n"
     ]
    },
    {
     "name": "stdout",
     "output_type": "stream",
     "text": [
      "Epoch 220, Loss 0.0195\n",
      "Training Accuracy: 0.9783, Testing Accuracy: 0.9738\n",
      "\n"
     ]
    },
    {
     "name": "stdout",
     "output_type": "stream",
     "text": [
      "Epoch 230, Loss 0.0192\n",
      "Training Accuracy: 0.9789, Testing Accuracy: 0.9738\n",
      "\n"
     ]
    },
    {
     "name": "stdout",
     "output_type": "stream",
     "text": [
      "Epoch 240, Loss 0.0188\n",
      "Training Accuracy: 0.9791, Testing Accuracy: 0.9738\n",
      "\n"
     ]
    },
    {
     "data": {
      "text/plain": [
       "0.010375311641894097"
      ]
     },
     "execution_count": 22,
     "metadata": {},
     "output_type": "execute_result"
    }
   ],
   "source": [
    "nn_learner.train_loop(dl)"
   ]
  },
  {
   "cell_type": "code",
   "execution_count": 23,
   "id": "e0163366",
   "metadata": {
    "execution": {
     "iopub.execute_input": "2022-06-26T00:45:47.744943Z",
     "iopub.status.busy": "2022-06-26T00:45:47.744354Z",
     "iopub.status.idle": "2022-06-26T00:46:01.279398Z",
     "shell.execute_reply": "2022-06-26T00:46:01.280248Z"
    },
    "papermill": {
     "duration": 13.578878,
     "end_time": "2022-06-26T00:46:01.280402",
     "exception": false,
     "start_time": "2022-06-26T00:45:47.701524",
     "status": "completed"
    },
    "tags": []
   },
   "outputs": [
    {
     "name": "stdout",
     "output_type": "stream",
     "text": [
      "Epoch 0, Loss 0.2055\n",
      "Training Accuracy: 0.7841, Testing Accuracy: 0.8075\n",
      "\n"
     ]
    },
    {
     "name": "stdout",
     "output_type": "stream",
     "text": [
      "Epoch 10, Loss 0.0992\n",
      "Training Accuracy: 0.9115, Testing Accuracy: 0.9289\n",
      "\n"
     ]
    },
    {
     "name": "stdout",
     "output_type": "stream",
     "text": [
      "Epoch 20, Loss 0.0779\n",
      "Training Accuracy: 0.9268, Testing Accuracy: 0.9395\n",
      "\n"
     ]
    },
    {
     "name": "stdout",
     "output_type": "stream",
     "text": [
      "Epoch 30, Loss 0.0676\n",
      "Training Accuracy: 0.9347, Testing Accuracy: 0.9496\n",
      "\n"
     ]
    },
    {
     "name": "stdout",
     "output_type": "stream",
     "text": [
      "Epoch 40, Loss 0.0613\n",
      "Training Accuracy: 0.9412, Testing Accuracy: 0.9556\n",
      "\n"
     ]
    },
    {
     "name": "stdout",
     "output_type": "stream",
     "text": [
      "Epoch 50, Loss 0.0569\n",
      "Training Accuracy: 0.9452, Testing Accuracy: 0.9561\n",
      "\n"
     ]
    },
    {
     "name": "stdout",
     "output_type": "stream",
     "text": [
      "Epoch 60, Loss 0.0536\n",
      "Training Accuracy: 0.9479, Testing Accuracy: 0.9577\n",
      "\n"
     ]
    },
    {
     "name": "stdout",
     "output_type": "stream",
     "text": [
      "Epoch 70, Loss 0.051\n",
      "Training Accuracy: 0.9495, Testing Accuracy: 0.9607\n",
      "\n"
     ]
    },
    {
     "name": "stdout",
     "output_type": "stream",
     "text": [
      "Epoch 80, Loss 0.049\n",
      "Training Accuracy: 0.9509, Testing Accuracy: 0.9627\n",
      "\n"
     ]
    },
    {
     "name": "stdout",
     "output_type": "stream",
     "text": [
      "Epoch 90, Loss 0.0473\n",
      "Training Accuracy: 0.9529, Testing Accuracy: 0.9632\n",
      "\n"
     ]
    },
    {
     "name": "stdout",
     "output_type": "stream",
     "text": [
      "Epoch 100, Loss 0.0459\n",
      "Training Accuracy: 0.9543, Testing Accuracy: 0.9632\n",
      "\n"
     ]
    },
    {
     "name": "stdout",
     "output_type": "stream",
     "text": [
      "Epoch 110, Loss 0.0446\n",
      "Training Accuracy: 0.9551, Testing Accuracy: 0.9637\n",
      "\n"
     ]
    },
    {
     "name": "stdout",
     "output_type": "stream",
     "text": [
      "Epoch 120, Loss 0.0436\n",
      "Training Accuracy: 0.9559, Testing Accuracy: 0.9642\n",
      "\n"
     ]
    },
    {
     "name": "stdout",
     "output_type": "stream",
     "text": [
      "Epoch 130, Loss 0.0426\n",
      "Training Accuracy: 0.9563, Testing Accuracy: 0.9652\n",
      "\n"
     ]
    },
    {
     "name": "stdout",
     "output_type": "stream",
     "text": [
      "Epoch 140, Loss 0.0418\n",
      "Training Accuracy: 0.9568, Testing Accuracy: 0.9652\n",
      "\n"
     ]
    },
    {
     "name": "stdout",
     "output_type": "stream",
     "text": [
      "Epoch 150, Loss 0.0411\n",
      "Training Accuracy: 0.9573, Testing Accuracy: 0.9652\n",
      "\n"
     ]
    },
    {
     "name": "stdout",
     "output_type": "stream",
     "text": [
      "Epoch 160, Loss 0.0404\n",
      "Training Accuracy: 0.9577, Testing Accuracy: 0.9652\n",
      "\n"
     ]
    },
    {
     "name": "stdout",
     "output_type": "stream",
     "text": [
      "Epoch 170, Loss 0.0398\n",
      "Training Accuracy: 0.9584, Testing Accuracy: 0.9647\n",
      "\n"
     ]
    },
    {
     "name": "stdout",
     "output_type": "stream",
     "text": [
      "Epoch 180, Loss 0.0392\n",
      "Training Accuracy: 0.9587, Testing Accuracy: 0.9647\n",
      "\n"
     ]
    },
    {
     "name": "stdout",
     "output_type": "stream",
     "text": [
      "Epoch 190, Loss 0.0387\n",
      "Training Accuracy: 0.9589, Testing Accuracy: 0.9647\n",
      "\n"
     ]
    },
    {
     "name": "stdout",
     "output_type": "stream",
     "text": [
      "Epoch 200, Loss 0.0382\n",
      "Training Accuracy: 0.9594, Testing Accuracy: 0.9647\n",
      "\n"
     ]
    },
    {
     "name": "stdout",
     "output_type": "stream",
     "text": [
      "Epoch 210, Loss 0.0378\n",
      "Training Accuracy: 0.9595, Testing Accuracy: 0.9647\n",
      "\n"
     ]
    },
    {
     "name": "stdout",
     "output_type": "stream",
     "text": [
      "Epoch 220, Loss 0.0374\n",
      "Training Accuracy: 0.9601, Testing Accuracy: 0.9657\n",
      "\n"
     ]
    },
    {
     "name": "stdout",
     "output_type": "stream",
     "text": [
      "Epoch 230, Loss 0.037\n",
      "Training Accuracy: 0.9604, Testing Accuracy: 0.9662\n",
      "\n"
     ]
    },
    {
     "name": "stdout",
     "output_type": "stream",
     "text": [
      "Epoch 240, Loss 0.0366\n",
      "Training Accuracy: 0.9608, Testing Accuracy: 0.9662\n",
      "\n"
     ]
    },
    {
     "data": {
      "text/plain": [
       "0.024013000257977226"
      ]
     },
     "execution_count": 23,
     "metadata": {},
     "output_type": "execute_result"
    }
   ],
   "source": [
    "lr_learner.train_loop(dl)"
   ]
  },
  {
   "cell_type": "code",
   "execution_count": 24,
   "id": "ca410940",
   "metadata": {
    "execution": {
     "iopub.execute_input": "2022-06-26T00:46:01.372566Z",
     "iopub.status.busy": "2022-06-26T00:46:01.371967Z",
     "iopub.status.idle": "2022-06-26T00:46:01.599534Z",
     "shell.execute_reply": "2022-06-26T00:46:01.600302Z"
    },
    "papermill": {
     "duration": 0.2789,
     "end_time": "2022-06-26T00:46:01.600455",
     "exception": false,
     "start_time": "2022-06-26T00:46:01.321555",
     "status": "completed"
    },
    "tags": []
   },
   "outputs": [
    {
     "data": {
      "text/plain": [
       "<matplotlib.legend.Legend at 0x7feefa8949e8>"
      ]
     },
     "execution_count": 24,
     "metadata": {},
     "output_type": "execute_result"
    },
    {
     "data": {
      "image/png": "[encoded data removed]",
      "text/plain": [
       "<Figure size 1080x720 with 1 Axes>"
      ]
     },
     "metadata": {
      "needs_background": "light"
     },
     "output_type": "display_data"
    }
   ],
   "source": [
    "#comparing the results of NN and LR\n",
    "plt.figure(figsize=(15,10))\n",
    "\n",
    "# Neural Network plots\n",
    "plt.plot(acc_nn.accuracies, 'r-', label = \"Training Accuracies - NN\")\n",
    "plt.plot(acc_nn.test_accuracies, 'g-', label = \"Testing Accuracies - NN\")\n",
    "\n",
    "# Logistic Regression plots\n",
    "plt.plot(acc_lr.accuracies, 'k-', label = \"Training Accuracies - LR\")\n",
    "plt.plot(acc_lr.test_accuracies, 'b-', label = \"Testing Accuracies - LR\")\n",
    "plt.legend()"
   ]
  },
  {
   "cell_type": "markdown",
   "id": "80dfb35c",
   "metadata": {
    "papermill": {
     "duration": 0.041928,
     "end_time": "2022-06-26T00:46:01.684427",
     "exception": false,
     "start_time": "2022-06-26T00:46:01.642499",
     "status": "completed"
    },
    "tags": []
   },
   "source": [
    "#### Plotting the outputs of this layer of the NN.\n"
   ]
  },
  {
   "cell_type": "code",
   "execution_count": 25,
   "id": "45eb2ff5",
   "metadata": {
    "execution": {
     "iopub.execute_input": "2022-06-26T00:46:01.773257Z",
     "iopub.status.busy": "2022-06-26T00:46:01.772639Z",
     "iopub.status.idle": "2022-06-26T00:46:01.793011Z",
     "shell.execute_reply": "2022-06-26T00:46:01.793473Z"
    },
    "papermill": {
     "duration": 0.067512,
     "end_time": "2022-06-26T00:46:01.793615",
     "exception": false,
     "start_time": "2022-06-26T00:46:01.726103",
     "status": "completed"
    },
    "tags": []
   },
   "outputs": [],
   "source": [
    "new_model = Model(layers[:-2])\n",
    "testing_plot = new_model(testing_data_x)"
   ]
  },
  {
   "cell_type": "code",
   "execution_count": 26,
   "id": "4c0a5485",
   "metadata": {
    "execution": {
     "iopub.execute_input": "2022-06-26T00:46:01.892204Z",
     "iopub.status.busy": "2022-06-26T00:46:01.891595Z",
     "iopub.status.idle": "2022-06-26T00:46:02.077709Z",
     "shell.execute_reply": "2022-06-26T00:46:02.078143Z"
    },
    "papermill": {
     "duration": 0.241296,
     "end_time": "2022-06-26T00:46:02.078291",
     "exception": false,
     "start_time": "2022-06-26T00:46:01.836995",
     "status": "completed"
    },
    "tags": []
   },
   "outputs": [
    {
     "data": {
      "text/plain": [
       "Text(0.5, 1.0, 'Outputs')"
      ]
     },
     "execution_count": 26,
     "metadata": {},
     "output_type": "execute_result"
    },
    {
     "data": {
      "image/png": "[encoded data removed]",
      "text/plain": [
       "<Figure size 576x504 with 1 Axes>"
      ]
     },
     "metadata": {
      "needs_background": "light"
     },
     "output_type": "display_data"
    }
   ],
   "source": [
    "# Plotting the scatter plot of points and color coding by class\n",
    "plt.figure(figsize=(8,7))\n",
    "plt.scatter(testing_plot[:,0], testing_plot[:,1], alpha = 0.1, c = y_test.ravel());\n",
    "plt.title('Outputs')"
   ]
  },
  {
   "cell_type": "markdown",
   "id": "a74fcf8f",
   "metadata": {
    "papermill": {
     "duration": 0.043581,
     "end_time": "2022-06-26T00:46:02.165872",
     "exception": false,
     "start_time": "2022-06-26T00:46:02.122291",
     "status": "completed"
    },
    "tags": []
   },
   "source": [
    "Probability contours"
   ]
  },
  {
   "cell_type": "code",
   "execution_count": 27,
   "id": "d0afc8e3",
   "metadata": {
    "execution": {
     "iopub.execute_input": "2022-06-26T00:46:02.287497Z",
     "iopub.status.busy": "2022-06-26T00:46:02.286863Z",
     "iopub.status.idle": "2022-06-26T00:46:02.298821Z",
     "shell.execute_reply": "2022-06-26T00:46:02.299295Z"
    },
    "papermill": {
     "duration": 0.089725,
     "end_time": "2022-06-26T00:46:02.299422",
     "exception": false,
     "start_time": "2022-06-26T00:46:02.209697",
     "status": "completed"
    },
    "tags": []
   },
   "outputs": [],
   "source": [
    "model_prob = Model(layers[-2:]) "
   ]
  },
  {
   "cell_type": "code",
   "execution_count": 28,
   "id": "9b96e238",
   "metadata": {
    "execution": {
     "iopub.execute_input": "2022-06-26T00:46:02.392301Z",
     "iopub.status.busy": "2022-06-26T00:46:02.391714Z",
     "iopub.status.idle": "2022-06-26T00:46:02.405764Z",
     "shell.execute_reply": "2022-06-26T00:46:02.406183Z"
    },
    "papermill": {
     "duration": 0.063069,
     "end_time": "2022-06-26T00:46:02.406312",
     "exception": false,
     "start_time": "2022-06-26T00:46:02.343243",
     "status": "completed"
    },
    "tags": []
   },
   "outputs": [],
   "source": [
    "#creating the x and y ranges according to the above generated plot.\n",
    "x_range = np.linspace(-4, 1, 100) \n",
    "y_range = np.linspace(-6, 6, 100) \n",
    "x_grid, y_grid = np.meshgrid(x_range, y_range) # x_grid and y_grig are of size 100 X 100\n",
    "\n",
    "# converting x_grid and y_grid to continuous arrays\n",
    "x_gridflat = np.ravel(x_grid)\n",
    "y_gridflat = np.ravel(y_grid)\n",
    "\n",
    "# The last layer of the current model takes two columns as input. Hence transpose of np.vstack() is required.\n",
    "X = np.vstack((x_gridflat, y_gridflat)).T\n",
    "\n",
    "prob_contour = model_prob(X).reshape(100,100) "
   ]
  },
  {
   "cell_type": "code",
   "execution_count": 29,
   "id": "da72499a",
   "metadata": {
    "execution": {
     "iopub.execute_input": "2022-06-26T00:46:02.500699Z",
     "iopub.status.busy": "2022-06-26T00:46:02.500121Z",
     "iopub.status.idle": "2022-06-26T00:46:02.740178Z",
     "shell.execute_reply": "2022-06-26T00:46:02.740635Z"
    },
    "papermill": {
     "duration": 0.290495,
     "end_time": "2022-06-26T00:46:02.740779",
     "exception": false,
     "start_time": "2022-06-26T00:46:02.450284",
     "status": "completed"
    },
    "tags": []
   },
   "outputs": [
    {
     "data": {
      "image/png": "[encoded data removed]",
      "text/plain": [
       "<Figure size 720x648 with 1 Axes>"
      ]
     },
     "metadata": {
      "needs_background": "light"
     },
     "output_type": "display_data"
    }
   ],
   "source": [
    "plt.figure(figsize=(10,9))\n",
    "plt.scatter(testing_plot[:,0], testing_plot[:,1], alpha = 0.1, c = y_test.ravel())\n",
    "contours = plt.contour(x_grid,y_grid,prob_contour)\n",
    "plt.title('Probability Contours')\n",
    "plt.clabel(contours, inline = True );"
   ]
  },
  {
   "cell_type": "code",
   "execution_count": null,
   "id": "e81b4ac7",
   "metadata": {
    "papermill": {
     "duration": 0.046426,
     "end_time": "2022-06-26T00:46:02.834219",
     "exception": false,
     "start_time": "2022-06-26T00:46:02.787793",
     "status": "completed"
    },
    "tags": []
   },
   "outputs": [],
   "source": []
  }
 ],
 "metadata": {
  "kernelspec": {
   "display_name": "Python 3",
   "language": "python",
   "name": "python3"
  },
  "language_info": {
   "codemirror_mode": {
    "name": "ipython",
    "version": 3
   },
   "file_extension": ".py",
   "mimetype": "text/x-python",
   "name": "python",
   "nbconvert_exporter": "python",
   "pygments_lexer": "ipython3",
   "version": "3.6.15"
  },
  "papermill": {
   "default_parameters": {},
   "duration": 96.151122,
   "end_time": "2022-06-26T00:46:03.300505",
   "environment_variables": {},
   "exception": null,
   "input_path": "2020-08-11-part2.ipynb",
   "output_path": "2020-08-11-part2.ipynb",
   "parameters": {},
   "start_time": "2022-06-26T00:44:27.149383",
   "version": "2.3.3"
  }
 },
 "nbformat": 4,
 "nbformat_minor": 5
}