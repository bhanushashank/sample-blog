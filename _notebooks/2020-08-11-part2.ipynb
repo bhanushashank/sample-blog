{
 "cells": [
  {
   "cell_type": "markdown",
   "id": "98380cd3",
   "metadata": {
    "papermill": {
     "duration": 0.025618,
     "end_time": "2022-04-17T20:09:19.275755",
     "exception": false,
     "start_time": "2022-04-17T20:09:19.250137",
     "status": "completed"
    },
    "tags": []
   },
   "source": [
    "# Distinguish Your Own Digits (DYOD)"
   ]
  },
  {
   "cell_type": "markdown",
   "id": "ef31240d",
   "metadata": {
    "papermill": {
     "duration": 0.022322,
     "end_time": "2022-04-17T20:09:19.319651",
     "exception": false,
     "start_time": "2022-04-17T20:09:19.297329",
     "status": "completed"
    },
    "tags": []
   },
   "source": [
    "You are going to write a classifier that distinguishes between the number 3 and number 8."
   ]
  },
  {
   "cell_type": "code",
   "execution_count": 1,
   "id": "b15c8646",
   "metadata": {
    "execution": {
     "iopub.execute_input": "2022-04-17T20:09:19.371822Z",
     "iopub.status.busy": "2022-04-17T20:09:19.371309Z",
     "iopub.status.idle": "2022-04-17T20:09:19.380972Z",
     "shell.execute_reply": "2022-04-17T20:09:19.381402Z"
    },
    "papermill": {
     "duration": 0.041195,
     "end_time": "2022-04-17T20:09:19.381546",
     "exception": false,
     "start_time": "2022-04-17T20:09:19.340351",
     "status": "completed"
    },
    "tags": []
   },
   "outputs": [],
   "source": [
    "%load_ext autoreload\n",
    "%autoreload 2"
   ]
  },
  {
   "cell_type": "code",
   "execution_count": 2,
   "id": "22ef38dc",
   "metadata": {
    "execution": {
     "iopub.execute_input": "2022-04-17T20:09:19.426586Z",
     "iopub.status.busy": "2022-04-17T20:09:19.426131Z",
     "iopub.status.idle": "2022-04-17T20:09:19.963965Z",
     "shell.execute_reply": "2022-04-17T20:09:19.964488Z"
    },
    "papermill": {
     "duration": 0.562501,
     "end_time": "2022-04-17T20:09:19.964640",
     "exception": false,
     "start_time": "2022-04-17T20:09:19.402139",
     "status": "completed"
    },
    "tags": []
   },
   "outputs": [],
   "source": [
    "%matplotlib inline\n",
    "import numpy as np\n",
    "import matplotlib.pyplot as plt\n",
    "import pandas as pd"
   ]
  },
  {
   "cell_type": "markdown",
   "id": "ba036198",
   "metadata": {
    "papermill": {
     "duration": 0.02068,
     "end_time": "2022-04-17T20:09:20.006016",
     "exception": false,
     "start_time": "2022-04-17T20:09:19.985336",
     "status": "completed"
    },
    "tags": []
   },
   "source": [
    "From the command line run `pip install mnist`. This is a library that will help you bring down the mnist dataset. If you run this from a notebook, you need to put  `!pip install mnist` in a cell by itself."
   ]
  },
  {
   "cell_type": "code",
   "execution_count": 3,
   "id": "bb6ad8a1",
   "metadata": {
    "execution": {
     "iopub.execute_input": "2022-04-17T20:09:20.051279Z",
     "iopub.status.busy": "2022-04-17T20:09:20.050773Z",
     "iopub.status.idle": "2022-04-17T20:09:22.531496Z",
     "shell.execute_reply": "2022-04-17T20:09:22.531010Z"
    },
    "papermill": {
     "duration": 2.504874,
     "end_time": "2022-04-17T20:09:22.531616",
     "exception": false,
     "start_time": "2022-04-17T20:09:20.026742",
     "status": "completed"
    },
    "tags": []
   },
   "outputs": [
    {
     "name": "stdout",
     "output_type": "stream",
     "text": [
      "Collecting mnist\r\n"
     ]
    },
    {
     "name": "stdout",
     "output_type": "stream",
     "text": [
      "  Downloading mnist-0.2.2-py2.py3-none-any.whl (3.5 kB)\r\n",
      "Requirement already satisfied: numpy in /opt/hostedtoolcache/Python/3.6.15/x64/lib/python3.6/site-packages (from mnist) (1.19.5)\r\n"
     ]
    },
    {
     "name": "stdout",
     "output_type": "stream",
     "text": [
      "Installing collected packages: mnist\r\n"
     ]
    },
    {
     "name": "stdout",
     "output_type": "stream",
     "text": [
      "Successfully installed mnist-0.2.2\r\n"
     ]
    }
   ],
   "source": [
    "!pip install mnist"
   ]
  },
  {
   "cell_type": "markdown",
   "id": "69df9c9a",
   "metadata": {
    "papermill": {
     "duration": 0.022166,
     "end_time": "2022-04-17T20:09:22.575920",
     "exception": false,
     "start_time": "2022-04-17T20:09:22.553754",
     "status": "completed"
    },
    "tags": []
   },
   "source": [
    "## Preparing the Data"
   ]
  },
  {
   "cell_type": "code",
   "execution_count": 4,
   "id": "7f69d806",
   "metadata": {
    "execution": {
     "iopub.execute_input": "2022-04-17T20:09:22.623551Z",
     "iopub.status.busy": "2022-04-17T20:09:22.623043Z",
     "iopub.status.idle": "2022-04-17T20:09:22.637394Z",
     "shell.execute_reply": "2022-04-17T20:09:22.636998Z"
    },
    "papermill": {
     "duration": 0.040007,
     "end_time": "2022-04-17T20:09:22.637502",
     "exception": false,
     "start_time": "2022-04-17T20:09:22.597495",
     "status": "completed"
    },
    "tags": []
   },
   "outputs": [],
   "source": [
    "import mnist"
   ]
  },
  {
   "cell_type": "code",
   "execution_count": 5,
   "id": "a411e44f",
   "metadata": {
    "execution": {
     "iopub.execute_input": "2022-04-17T20:09:22.685104Z",
     "iopub.status.busy": "2022-04-17T20:09:22.684640Z",
     "iopub.status.idle": "2022-04-17T20:09:23.230107Z",
     "shell.execute_reply": "2022-04-17T20:09:23.229572Z"
    },
    "papermill": {
     "duration": 0.570804,
     "end_time": "2022-04-17T20:09:23.230256",
     "exception": false,
     "start_time": "2022-04-17T20:09:22.659452",
     "status": "completed"
    },
    "tags": []
   },
   "outputs": [],
   "source": [
    "train_images = mnist.train_images()\n",
    "train_labels = mnist.train_labels()"
   ]
  },
  {
   "cell_type": "code",
   "execution_count": 6,
   "id": "dceab3a5",
   "metadata": {
    "execution": {
     "iopub.execute_input": "2022-04-17T20:09:23.279129Z",
     "iopub.status.busy": "2022-04-17T20:09:23.278611Z",
     "iopub.status.idle": "2022-04-17T20:09:23.293288Z",
     "shell.execute_reply": "2022-04-17T20:09:23.292919Z"
    },
    "papermill": {
     "duration": 0.04059,
     "end_time": "2022-04-17T20:09:23.293397",
     "exception": false,
     "start_time": "2022-04-17T20:09:23.252807",
     "status": "completed"
    },
    "tags": []
   },
   "outputs": [
    {
     "data": {
      "text/plain": [
       "((60000, 28, 28), (60000,))"
      ]
     },
     "execution_count": 6,
     "metadata": {},
     "output_type": "execute_result"
    }
   ],
   "source": [
    "train_images.shape, train_labels.shape"
   ]
  },
  {
   "cell_type": "code",
   "execution_count": 7,
   "id": "f50dc2bb",
   "metadata": {
    "execution": {
     "iopub.execute_input": "2022-04-17T20:09:23.343107Z",
     "iopub.status.busy": "2022-04-17T20:09:23.342642Z",
     "iopub.status.idle": "2022-04-17T20:09:23.503532Z",
     "shell.execute_reply": "2022-04-17T20:09:23.502950Z"
    },
    "papermill": {
     "duration": 0.188448,
     "end_time": "2022-04-17T20:09:23.503683",
     "exception": false,
     "start_time": "2022-04-17T20:09:23.315235",
     "status": "completed"
    },
    "tags": []
   },
   "outputs": [],
   "source": [
    "test_images = mnist.test_images()\n",
    "test_labels = mnist.test_labels()"
   ]
  },
  {
   "cell_type": "code",
   "execution_count": 8,
   "id": "fc38cf1b",
   "metadata": {
    "execution": {
     "iopub.execute_input": "2022-04-17T20:09:23.553914Z",
     "iopub.status.busy": "2022-04-17T20:09:23.553450Z",
     "iopub.status.idle": "2022-04-17T20:09:23.566694Z",
     "shell.execute_reply": "2022-04-17T20:09:23.566328Z"
    },
    "papermill": {
     "duration": 0.039841,
     "end_time": "2022-04-17T20:09:23.566799",
     "exception": false,
     "start_time": "2022-04-17T20:09:23.526958",
     "status": "completed"
    },
    "tags": []
   },
   "outputs": [
    {
     "data": {
      "text/plain": [
       "((10000, 28, 28), (10000,))"
      ]
     },
     "execution_count": 8,
     "metadata": {},
     "output_type": "execute_result"
    }
   ],
   "source": [
    "test_images.shape, test_labels.shape"
   ]
  },
  {
   "cell_type": "code",
   "execution_count": 9,
   "id": "f9ed8fe0",
   "metadata": {
    "execution": {
     "iopub.execute_input": "2022-04-17T20:09:23.614300Z",
     "iopub.status.busy": "2022-04-17T20:09:23.613851Z",
     "iopub.status.idle": "2022-04-17T20:09:23.751626Z",
     "shell.execute_reply": "2022-04-17T20:09:23.752096Z"
    },
    "papermill": {
     "duration": 0.163424,
     "end_time": "2022-04-17T20:09:23.752243",
     "exception": false,
     "start_time": "2022-04-17T20:09:23.588819",
     "status": "completed"
    },
    "tags": []
   },
   "outputs": [
    {
     "name": "stdout",
     "output_type": "stream",
     "text": [
      "2\n"
     ]
    },
    {
     "data": {
      "text/plain": [
       "<matplotlib.image.AxesImage at 0x7f93d9874320>"
      ]
     },
     "execution_count": 9,
     "metadata": {},
     "output_type": "execute_result"
    },
    {
     "data": {
      "image/png": "[encoded data removed]",
      "text/plain": [
       "<Figure size 432x288 with 1 Axes>"
      ]
     },
     "metadata": {
      "needs_background": "light"
     },
     "output_type": "display_data"
    }
   ],
   "source": [
    "image_index = 7776 # You may select anything up to 60,000\n",
    "print(train_labels[image_index]) \n",
    "plt.imshow(train_images[image_index], cmap='Greys')"
   ]
  },
  {
   "cell_type": "markdown",
   "id": "a8d2388d",
   "metadata": {
    "papermill": {
     "duration": 0.023221,
     "end_time": "2022-04-17T20:09:23.799605",
     "exception": false,
     "start_time": "2022-04-17T20:09:23.776384",
     "status": "completed"
    },
    "tags": []
   },
   "source": [
    "## Filter data to get 3 and 8 out"
   ]
  },
  {
   "cell_type": "code",
   "execution_count": 10,
   "id": "776f7fc7",
   "metadata": {
    "execution": {
     "iopub.execute_input": "2022-04-17T20:09:23.849202Z",
     "iopub.status.busy": "2022-04-17T20:09:23.848734Z",
     "iopub.status.idle": "2022-04-17T20:09:23.868224Z",
     "shell.execute_reply": "2022-04-17T20:09:23.867805Z"
    },
    "papermill": {
     "duration": 0.045885,
     "end_time": "2022-04-17T20:09:23.868334",
     "exception": false,
     "start_time": "2022-04-17T20:09:23.822449",
     "status": "completed"
    },
    "tags": []
   },
   "outputs": [],
   "source": [
    "train_filter = np.where((train_labels == 3 ) | (train_labels == 8))\n",
    "test_filter = np.where((test_labels == 3) | (test_labels == 8))\n",
    "X_train, y_train = train_images[train_filter], train_labels[train_filter]\n",
    "X_test, y_test = test_images[test_filter], test_labels[test_filter]"
   ]
  },
  {
   "cell_type": "markdown",
   "id": "948f0b7e",
   "metadata": {
    "papermill": {
     "duration": 0.023328,
     "end_time": "2022-04-17T20:09:23.915081",
     "exception": false,
     "start_time": "2022-04-17T20:09:23.891753",
     "status": "completed"
    },
    "tags": []
   },
   "source": [
    "We normalize the pizel values in the 0 to 1 range"
   ]
  },
  {
   "cell_type": "code",
   "execution_count": 11,
   "id": "ee4c2166",
   "metadata": {
    "execution": {
     "iopub.execute_input": "2022-04-17T20:09:23.965420Z",
     "iopub.status.busy": "2022-04-17T20:09:23.964920Z",
     "iopub.status.idle": "2022-04-17T20:09:24.014197Z",
     "shell.execute_reply": "2022-04-17T20:09:24.013669Z"
    },
    "papermill": {
     "duration": 0.07604,
     "end_time": "2022-04-17T20:09:24.014353",
     "exception": false,
     "start_time": "2022-04-17T20:09:23.938313",
     "status": "completed"
    },
    "tags": []
   },
   "outputs": [],
   "source": [
    "X_train = X_train/255.\n",
    "X_test = X_test/255."
   ]
  },
  {
   "cell_type": "markdown",
   "id": "ddcf4fab",
   "metadata": {
    "papermill": {
     "duration": 0.023258,
     "end_time": "2022-04-17T20:09:24.061480",
     "exception": false,
     "start_time": "2022-04-17T20:09:24.038222",
     "status": "completed"
    },
    "tags": []
   },
   "source": [
    "And setup the labels as 1 (when the digit is 3) and 0 (when the digit is 8)"
   ]
  },
  {
   "cell_type": "code",
   "execution_count": 12,
   "id": "7dc908f2",
   "metadata": {
    "execution": {
     "iopub.execute_input": "2022-04-17T20:09:24.111742Z",
     "iopub.status.busy": "2022-04-17T20:09:24.111226Z",
     "iopub.status.idle": "2022-04-17T20:09:24.124335Z",
     "shell.execute_reply": "2022-04-17T20:09:24.123948Z"
    },
    "papermill": {
     "duration": 0.039693,
     "end_time": "2022-04-17T20:09:24.124447",
     "exception": false,
     "start_time": "2022-04-17T20:09:24.084754",
     "status": "completed"
    },
    "tags": []
   },
   "outputs": [],
   "source": [
    "y_train = 1*(y_train==3)\n",
    "y_test = 1*(y_test==3)"
   ]
  },
  {
   "cell_type": "code",
   "execution_count": 13,
   "id": "01e4e969",
   "metadata": {
    "execution": {
     "iopub.execute_input": "2022-04-17T20:09:24.174451Z",
     "iopub.status.busy": "2022-04-17T20:09:24.173976Z",
     "iopub.status.idle": "2022-04-17T20:09:24.187727Z",
     "shell.execute_reply": "2022-04-17T20:09:24.188121Z"
    },
    "papermill": {
     "duration": 0.040546,
     "end_time": "2022-04-17T20:09:24.188252",
     "exception": false,
     "start_time": "2022-04-17T20:09:24.147706",
     "status": "completed"
    },
    "tags": []
   },
   "outputs": [
    {
     "data": {
      "text/plain": [
       "((11982, 28, 28), (1984, 28, 28))"
      ]
     },
     "execution_count": 13,
     "metadata": {},
     "output_type": "execute_result"
    }
   ],
   "source": [
    "X_train.shape, X_test.shape"
   ]
  },
  {
   "cell_type": "markdown",
   "id": "5ccf3f85",
   "metadata": {
    "papermill": {
     "duration": 0.023446,
     "end_time": "2022-04-17T20:09:24.235041",
     "exception": false,
     "start_time": "2022-04-17T20:09:24.211595",
     "status": "completed"
    },
    "tags": []
   },
   "source": [
    "We reshape the data to flatten the image pixels into a set of features or co-variates:"
   ]
  },
  {
   "cell_type": "code",
   "execution_count": 14,
   "id": "5286a4a3",
   "metadata": {
    "execution": {
     "iopub.execute_input": "2022-04-17T20:09:24.287884Z",
     "iopub.status.busy": "2022-04-17T20:09:24.287397Z",
     "iopub.status.idle": "2022-04-17T20:09:24.300287Z",
     "shell.execute_reply": "2022-04-17T20:09:24.300679Z"
    },
    "papermill": {
     "duration": 0.042203,
     "end_time": "2022-04-17T20:09:24.300811",
     "exception": false,
     "start_time": "2022-04-17T20:09:24.258608",
     "status": "completed"
    },
    "tags": []
   },
   "outputs": [
    {
     "data": {
      "text/plain": [
       "((11982, 784), (1984, 784))"
      ]
     },
     "execution_count": 14,
     "metadata": {},
     "output_type": "execute_result"
    }
   ],
   "source": [
    "X_train = X_train.reshape(X_train.shape[0], -1)\n",
    "X_test = X_test.reshape(X_test.shape[0], -1)\n",
    "X_train.shape, X_test.shape"
   ]
  },
  {
   "cell_type": "code",
   "execution_count": 15,
   "id": "73c5f88a",
   "metadata": {
    "execution": {
     "iopub.execute_input": "2022-04-17T20:09:24.368077Z",
     "iopub.status.busy": "2022-04-17T20:09:24.366684Z",
     "iopub.status.idle": "2022-04-17T20:09:24.376004Z",
     "shell.execute_reply": "2022-04-17T20:09:24.375544Z"
    },
    "papermill": {
     "duration": 0.051639,
     "end_time": "2022-04-17T20:09:24.376115",
     "exception": false,
     "start_time": "2022-04-17T20:09:24.324476",
     "status": "completed"
    },
    "tags": []
   },
   "outputs": [],
   "source": [
    "#Impoting functions from 'Kudzu'\n",
    "from kudzu.model import Model\n",
    "from kudzu.train import Learner\n",
    "from kudzu.optim import GD\n",
    "from kudzu.data import Data, Sampler,Dataloader\n",
    "\n",
    "from kudzu.callbacks import AccCallback\n",
    "from kudzu.callbacks import ClfCallback\n",
    "\n",
    "from kudzu.loss import MSE\n",
    "\n",
    "from kudzu.layer import Sigmoid,Relu\n",
    "from kudzu.layer import Affine"
   ]
  },
  {
   "cell_type": "markdown",
   "id": "bc01172a",
   "metadata": {
    "papermill": {
     "duration": 0.02367,
     "end_time": "2022-04-17T20:09:24.423626",
     "exception": false,
     "start_time": "2022-04-17T20:09:24.399956",
     "status": "completed"
    },
    "tags": []
   },
   "source": [
    "### Let us create a `Config` class, to store important parameters. \n",
    "This class essentially plays the role of a dictionary."
   ]
  },
  {
   "cell_type": "code",
   "execution_count": 16,
   "id": "978281aa",
   "metadata": {
    "execution": {
     "iopub.execute_input": "2022-04-17T20:09:24.488170Z",
     "iopub.status.busy": "2022-04-17T20:09:24.475166Z",
     "iopub.status.idle": "2022-04-17T20:09:24.491235Z",
     "shell.execute_reply": "2022-04-17T20:09:24.490837Z"
    },
    "papermill": {
     "duration": 0.043497,
     "end_time": "2022-04-17T20:09:24.491351",
     "exception": false,
     "start_time": "2022-04-17T20:09:24.447854",
     "status": "completed"
    },
    "tags": []
   },
   "outputs": [],
   "source": [
    "class Config:\n",
    "    pass\n",
    "config = Config()\n",
    "config.lr = 0.001\n",
    "config.num_epochs = 250\n",
    "config.bs = 50"
   ]
  },
  {
   "cell_type": "markdown",
   "id": "1385fa59",
   "metadata": {
    "papermill": {
     "duration": 0.023626,
     "end_time": "2022-04-17T20:09:24.538811",
     "exception": false,
     "start_time": "2022-04-17T20:09:24.515185",
     "status": "completed"
    },
    "tags": []
   },
   "source": [
    "### Running Models with the Training data\n",
    "Details about the network layers:\n",
    "- A first affine layer has 784 inputs and does 100 affine transforms. These are followed by a Relu\n",
    "- A second affine layer has 100 inputs from the 100 activations of the past layer, and does 100 affine transforms. These are followed by a Relu\n",
    "- A third affine layer has 100 activations and does 2 affine transformations to create an embedding for visualization. There is no non-linearity here.\n",
    "- A final \"logistic regression\" which has an affine transform from 2 inputs to 1 output, which is squeezed through a sigmoid.\n"
   ]
  },
  {
   "cell_type": "code",
   "execution_count": 17,
   "id": "2b9c66db",
   "metadata": {
    "execution": {
     "iopub.execute_input": "2022-04-17T20:09:24.606488Z",
     "iopub.status.busy": "2022-04-17T20:09:24.604913Z",
     "iopub.status.idle": "2022-04-17T20:09:24.608822Z",
     "shell.execute_reply": "2022-04-17T20:09:24.608425Z"
    },
    "papermill": {
     "duration": 0.046461,
     "end_time": "2022-04-17T20:09:24.608934",
     "exception": false,
     "start_time": "2022-04-17T20:09:24.562473",
     "status": "completed"
    },
    "tags": []
   },
   "outputs": [],
   "source": [
    "data = Data(X_train, y_train.reshape(-1,1))\n",
    "sampler = Sampler(data, config.bs, shuffle=True)\n",
    "\n",
    "dl = Dataloader(data, sampler)\n",
    "\n",
    "opt = GD(config.lr)\n",
    "loss = MSE()"
   ]
  },
  {
   "cell_type": "code",
   "execution_count": 18,
   "id": "b275e4c2",
   "metadata": {
    "execution": {
     "iopub.execute_input": "2022-04-17T20:09:24.669596Z",
     "iopub.status.busy": "2022-04-17T20:09:24.660595Z",
     "iopub.status.idle": "2022-04-17T20:09:24.676372Z",
     "shell.execute_reply": "2022-04-17T20:09:24.675987Z"
    },
    "papermill": {
     "duration": 0.043688,
     "end_time": "2022-04-17T20:09:24.676487",
     "exception": false,
     "start_time": "2022-04-17T20:09:24.632799",
     "status": "completed"
    },
    "tags": []
   },
   "outputs": [],
   "source": [
    "training_data_x = X_train\n",
    "testing_data_x = X_test\n",
    "training_data_y = y_train.reshape(-1,1)\n",
    "testing_data_y = y_test.reshape(-1,1)"
   ]
  },
  {
   "cell_type": "code",
   "execution_count": 19,
   "id": "76951160",
   "metadata": {
    "execution": {
     "iopub.execute_input": "2022-04-17T20:09:24.743755Z",
     "iopub.status.busy": "2022-04-17T20:09:24.742553Z",
     "iopub.status.idle": "2022-04-17T20:09:24.750551Z",
     "shell.execute_reply": "2022-04-17T20:09:24.750897Z"
    },
    "papermill": {
     "duration": 0.050849,
     "end_time": "2022-04-17T20:09:24.751056",
     "exception": false,
     "start_time": "2022-04-17T20:09:24.700207",
     "status": "completed"
    },
    "tags": []
   },
   "outputs": [
    {
     "name": "stdout",
     "output_type": "stream",
     "text": [
      "xavier\n",
      "xavier\n",
      "xavier\n",
      "xavier\n",
      "xavier\n"
     ]
    }
   ],
   "source": [
    "layers = [Affine(\"first\", 784, 100), Relu(\"first\"), Affine(\"second\", 100, 100), Relu(\"second\"), Affine(\"third\", 100, 2), Affine(\"last\", 2, 1), Sigmoid(\"last\")]\n",
    "model_nn = Model(layers)\n",
    "model_lr = Model([Affine(\"logits\", 784, 1), Sigmoid(\"sigmoid\")])"
   ]
  },
  {
   "cell_type": "code",
   "execution_count": 20,
   "id": "6eede77a",
   "metadata": {
    "execution": {
     "iopub.execute_input": "2022-04-17T20:09:24.805736Z",
     "iopub.status.busy": "2022-04-17T20:09:24.802518Z",
     "iopub.status.idle": "2022-04-17T20:09:24.816386Z",
     "shell.execute_reply": "2022-04-17T20:09:24.816735Z"
    },
    "papermill": {
     "duration": 0.041736,
     "end_time": "2022-04-17T20:09:24.816868",
     "exception": false,
     "start_time": "2022-04-17T20:09:24.775132",
     "status": "completed"
    },
    "tags": []
   },
   "outputs": [],
   "source": [
    "nn_learner = Learner(loss, model_nn, opt, config.num_epochs)\n",
    "acc_nn = ClfCallback(nn_learner, config.bs, training_data_x , testing_data_x, training_data_y, testing_data_y)\n",
    "nn_learner.set_callbacks([acc_nn])"
   ]
  },
  {
   "cell_type": "code",
   "execution_count": 21,
   "id": "877b6cc7",
   "metadata": {
    "execution": {
     "iopub.execute_input": "2022-04-17T20:09:24.869190Z",
     "iopub.status.busy": "2022-04-17T20:09:24.868178Z",
     "iopub.status.idle": "2022-04-17T20:09:24.881613Z",
     "shell.execute_reply": "2022-04-17T20:09:24.881235Z"
    },
    "papermill": {
     "duration": 0.04093,
     "end_time": "2022-04-17T20:09:24.881725",
     "exception": false,
     "start_time": "2022-04-17T20:09:24.840795",
     "status": "completed"
    },
    "tags": []
   },
   "outputs": [],
   "source": [
    "lr_learner = Learner(loss, model_lr, opt, config.num_epochs)\n",
    "acc_lr = ClfCallback(lr_learner, config.bs, training_data_x , testing_data_x, training_data_y, testing_data_y)\n",
    "lr_learner.set_callbacks([acc_lr])"
   ]
  },
  {
   "cell_type": "code",
   "execution_count": 22,
   "id": "d9b133c3",
   "metadata": {
    "execution": {
     "iopub.execute_input": "2022-04-17T20:09:24.938371Z",
     "iopub.status.busy": "2022-04-17T20:09:24.937754Z",
     "iopub.status.idle": "2022-04-17T20:10:43.140085Z",
     "shell.execute_reply": "2022-04-17T20:10:43.140536Z"
    },
    "papermill": {
     "duration": 78.235035,
     "end_time": "2022-04-17T20:10:43.140676",
     "exception": false,
     "start_time": "2022-04-17T20:09:24.905641",
     "status": "completed"
    },
    "tags": []
   },
   "outputs": [
    {
     "name": "stdout",
     "output_type": "stream",
     "text": [
      "Epoch 0, Loss 0.2356\n",
      "Training Accuracy: 0.7426, Testing Accuracy: 0.7243\n",
      "\n"
     ]
    },
    {
     "name": "stdout",
     "output_type": "stream",
     "text": [
      "Epoch 10, Loss 0.0982\n",
      "Training Accuracy: 0.9133, Testing Accuracy: 0.9264\n",
      "\n"
     ]
    },
    {
     "name": "stdout",
     "output_type": "stream",
     "text": [
      "Epoch 20, Loss 0.0602\n",
      "Training Accuracy: 0.9378, Testing Accuracy: 0.9486\n",
      "\n"
     ]
    },
    {
     "name": "stdout",
     "output_type": "stream",
     "text": [
      "Epoch 30, Loss 0.0468\n",
      "Training Accuracy: 0.9488, Testing Accuracy: 0.9592\n",
      "\n"
     ]
    },
    {
     "name": "stdout",
     "output_type": "stream",
     "text": [
      "Epoch 40, Loss 0.0401\n",
      "Training Accuracy: 0.9552, Testing Accuracy: 0.9622\n",
      "\n"
     ]
    },
    {
     "name": "stdout",
     "output_type": "stream",
     "text": [
      "Epoch 50, Loss 0.036\n",
      "Training Accuracy: 0.9585, Testing Accuracy: 0.9647\n",
      "\n"
     ]
    },
    {
     "name": "stdout",
     "output_type": "stream",
     "text": [
      "Epoch 60, Loss 0.0333\n",
      "Training Accuracy: 0.9606, Testing Accuracy: 0.9672\n",
      "\n"
     ]
    },
    {
     "name": "stdout",
     "output_type": "stream",
     "text": [
      "Epoch 70, Loss 0.0313\n",
      "Training Accuracy: 0.9631, Testing Accuracy: 0.9682\n",
      "\n"
     ]
    },
    {
     "name": "stdout",
     "output_type": "stream",
     "text": [
      "Epoch 80, Loss 0.0297\n",
      "Training Accuracy: 0.9641, Testing Accuracy: 0.9698\n",
      "\n"
     ]
    },
    {
     "name": "stdout",
     "output_type": "stream",
     "text": [
      "Epoch 90, Loss 0.0285\n",
      "Training Accuracy: 0.9660, Testing Accuracy: 0.9708\n",
      "\n"
     ]
    },
    {
     "name": "stdout",
     "output_type": "stream",
     "text": [
      "Epoch 100, Loss 0.0274\n",
      "Training Accuracy: 0.9673, Testing Accuracy: 0.9723\n",
      "\n"
     ]
    },
    {
     "name": "stdout",
     "output_type": "stream",
     "text": [
      "Epoch 110, Loss 0.0264\n",
      "Training Accuracy: 0.9682, Testing Accuracy: 0.9723\n",
      "\n"
     ]
    },
    {
     "name": "stdout",
     "output_type": "stream",
     "text": [
      "Epoch 120, Loss 0.0256\n",
      "Training Accuracy: 0.9693, Testing Accuracy: 0.9723\n",
      "\n"
     ]
    },
    {
     "name": "stdout",
     "output_type": "stream",
     "text": [
      "Epoch 130, Loss 0.0249\n",
      "Training Accuracy: 0.9700, Testing Accuracy: 0.9718\n",
      "\n"
     ]
    },
    {
     "name": "stdout",
     "output_type": "stream",
     "text": [
      "Epoch 140, Loss 0.0242\n",
      "Training Accuracy: 0.9707, Testing Accuracy: 0.9718\n",
      "\n"
     ]
    },
    {
     "name": "stdout",
     "output_type": "stream",
     "text": [
      "Epoch 150, Loss 0.0236\n",
      "Training Accuracy: 0.9717, Testing Accuracy: 0.9723\n",
      "\n"
     ]
    },
    {
     "name": "stdout",
     "output_type": "stream",
     "text": [
      "Epoch 160, Loss 0.023\n",
      "Training Accuracy: 0.9720, Testing Accuracy: 0.9728\n",
      "\n"
     ]
    },
    {
     "name": "stdout",
     "output_type": "stream",
     "text": [
      "Epoch 170, Loss 0.0225\n",
      "Training Accuracy: 0.9729, Testing Accuracy: 0.9738\n",
      "\n"
     ]
    },
    {
     "name": "stdout",
     "output_type": "stream",
     "text": [
      "Epoch 180, Loss 0.022\n",
      "Training Accuracy: 0.9738, Testing Accuracy: 0.9743\n",
      "\n"
     ]
    },
    {
     "name": "stdout",
     "output_type": "stream",
     "text": [
      "Epoch 190, Loss 0.0215\n",
      "Training Accuracy: 0.9745, Testing Accuracy: 0.9738\n",
      "\n"
     ]
    },
    {
     "name": "stdout",
     "output_type": "stream",
     "text": [
      "Epoch 200, Loss 0.021\n",
      "Training Accuracy: 0.9749, Testing Accuracy: 0.9743\n",
      "\n"
     ]
    },
    {
     "name": "stdout",
     "output_type": "stream",
     "text": [
      "Epoch 210, Loss 0.0206\n",
      "Training Accuracy: 0.9759, Testing Accuracy: 0.9743\n",
      "\n"
     ]
    },
    {
     "name": "stdout",
     "output_type": "stream",
     "text": [
      "Epoch 220, Loss 0.0202\n",
      "Training Accuracy: 0.9763, Testing Accuracy: 0.9743\n",
      "\n"
     ]
    },
    {
     "name": "stdout",
     "output_type": "stream",
     "text": [
      "Epoch 230, Loss 0.0198\n",
      "Training Accuracy: 0.9767, Testing Accuracy: 0.9743\n",
      "\n"
     ]
    },
    {
     "name": "stdout",
     "output_type": "stream",
     "text": [
      "Epoch 240, Loss 0.0194\n",
      "Training Accuracy: 0.9774, Testing Accuracy: 0.9743\n",
      "\n"
     ]
    },
    {
     "data": {
      "text/plain": [
       "0.0025846173399967413"
      ]
     },
     "execution_count": 22,
     "metadata": {},
     "output_type": "execute_result"
    }
   ],
   "source": [
    "nn_learner.train_loop(dl)"
   ]
  },
  {
   "cell_type": "code",
   "execution_count": 23,
   "id": "e0163366",
   "metadata": {
    "execution": {
     "iopub.execute_input": "2022-04-17T20:10:43.208464Z",
     "iopub.status.busy": "2022-04-17T20:10:43.207987Z",
     "iopub.status.idle": "2022-04-17T20:10:57.501269Z",
     "shell.execute_reply": "2022-04-17T20:10:57.501937Z"
    },
    "papermill": {
     "duration": 14.331218,
     "end_time": "2022-04-17T20:10:57.502083",
     "exception": false,
     "start_time": "2022-04-17T20:10:43.170865",
     "status": "completed"
    },
    "tags": []
   },
   "outputs": [
    {
     "name": "stdout",
     "output_type": "stream",
     "text": [
      "Epoch 0, Loss 0.2531\n",
      "Training Accuracy: 0.6664, Testing Accuracy: 0.6502\n",
      "\n"
     ]
    },
    {
     "name": "stdout",
     "output_type": "stream",
     "text": [
      "Epoch 10, Loss 0.1023\n",
      "Training Accuracy: 0.9139, Testing Accuracy: 0.9209\n",
      "\n"
     ]
    },
    {
     "name": "stdout",
     "output_type": "stream",
     "text": [
      "Epoch 20, Loss 0.0782\n",
      "Training Accuracy: 0.9315, Testing Accuracy: 0.9446\n",
      "\n"
     ]
    },
    {
     "name": "stdout",
     "output_type": "stream",
     "text": [
      "Epoch 30, Loss 0.0673\n",
      "Training Accuracy: 0.9382, Testing Accuracy: 0.9526\n",
      "\n"
     ]
    },
    {
     "name": "stdout",
     "output_type": "stream",
     "text": [
      "Epoch 40, Loss 0.0609\n",
      "Training Accuracy: 0.9437, Testing Accuracy: 0.9572\n",
      "\n"
     ]
    },
    {
     "name": "stdout",
     "output_type": "stream",
     "text": [
      "Epoch 50, Loss 0.0565\n",
      "Training Accuracy: 0.9456, Testing Accuracy: 0.9597\n",
      "\n"
     ]
    },
    {
     "name": "stdout",
     "output_type": "stream",
     "text": [
      "Epoch 60, Loss 0.0533\n",
      "Training Accuracy: 0.9482, Testing Accuracy: 0.9617\n",
      "\n"
     ]
    },
    {
     "name": "stdout",
     "output_type": "stream",
     "text": [
      "Epoch 70, Loss 0.0508\n",
      "Training Accuracy: 0.9498, Testing Accuracy: 0.9627\n",
      "\n"
     ]
    },
    {
     "name": "stdout",
     "output_type": "stream",
     "text": [
      "Epoch 80, Loss 0.0488\n",
      "Training Accuracy: 0.9513, Testing Accuracy: 0.9632\n",
      "\n"
     ]
    },
    {
     "name": "stdout",
     "output_type": "stream",
     "text": [
      "Epoch 90, Loss 0.0472\n",
      "Training Accuracy: 0.9522, Testing Accuracy: 0.9647\n",
      "\n"
     ]
    },
    {
     "name": "stdout",
     "output_type": "stream",
     "text": [
      "Epoch 100, Loss 0.0458\n",
      "Training Accuracy: 0.9532, Testing Accuracy: 0.9647\n",
      "\n"
     ]
    },
    {
     "name": "stdout",
     "output_type": "stream",
     "text": [
      "Epoch 110, Loss 0.0446\n",
      "Training Accuracy: 0.9543, Testing Accuracy: 0.9647\n",
      "\n"
     ]
    },
    {
     "name": "stdout",
     "output_type": "stream",
     "text": [
      "Epoch 120, Loss 0.0436\n",
      "Training Accuracy: 0.9551, Testing Accuracy: 0.9642\n",
      "\n"
     ]
    },
    {
     "name": "stdout",
     "output_type": "stream",
     "text": [
      "Epoch 130, Loss 0.0426\n",
      "Training Accuracy: 0.9557, Testing Accuracy: 0.9637\n",
      "\n"
     ]
    },
    {
     "name": "stdout",
     "output_type": "stream",
     "text": [
      "Epoch 140, Loss 0.0418\n",
      "Training Accuracy: 0.9567, Testing Accuracy: 0.9637\n",
      "\n"
     ]
    },
    {
     "name": "stdout",
     "output_type": "stream",
     "text": [
      "Epoch 150, Loss 0.0411\n",
      "Training Accuracy: 0.9570, Testing Accuracy: 0.9642\n",
      "\n"
     ]
    },
    {
     "name": "stdout",
     "output_type": "stream",
     "text": [
      "Epoch 160, Loss 0.0404\n",
      "Training Accuracy: 0.9583, Testing Accuracy: 0.9652\n",
      "\n"
     ]
    },
    {
     "name": "stdout",
     "output_type": "stream",
     "text": [
      "Epoch 170, Loss 0.0398\n",
      "Training Accuracy: 0.9589, Testing Accuracy: 0.9662\n",
      "\n"
     ]
    },
    {
     "name": "stdout",
     "output_type": "stream",
     "text": [
      "Epoch 180, Loss 0.0393\n",
      "Training Accuracy: 0.9594, Testing Accuracy: 0.9662\n",
      "\n"
     ]
    },
    {
     "name": "stdout",
     "output_type": "stream",
     "text": [
      "Epoch 190, Loss 0.0388\n",
      "Training Accuracy: 0.9599, Testing Accuracy: 0.9662\n",
      "\n"
     ]
    },
    {
     "name": "stdout",
     "output_type": "stream",
     "text": [
      "Epoch 200, Loss 0.0383\n",
      "Training Accuracy: 0.9603, Testing Accuracy: 0.9662\n",
      "\n"
     ]
    },
    {
     "name": "stdout",
     "output_type": "stream",
     "text": [
      "Epoch 210, Loss 0.0379\n",
      "Training Accuracy: 0.9606, Testing Accuracy: 0.9657\n",
      "\n"
     ]
    },
    {
     "name": "stdout",
     "output_type": "stream",
     "text": [
      "Epoch 220, Loss 0.0375\n",
      "Training Accuracy: 0.9609, Testing Accuracy: 0.9657\n",
      "\n"
     ]
    },
    {
     "name": "stdout",
     "output_type": "stream",
     "text": [
      "Epoch 230, Loss 0.0371\n",
      "Training Accuracy: 0.9613, Testing Accuracy: 0.9657\n",
      "\n"
     ]
    },
    {
     "name": "stdout",
     "output_type": "stream",
     "text": [
      "Epoch 240, Loss 0.0367\n",
      "Training Accuracy: 0.9615, Testing Accuracy: 0.9657\n",
      "\n"
     ]
    },
    {
     "data": {
      "text/plain": [
       "0.03392849632471509"
      ]
     },
     "execution_count": 23,
     "metadata": {},
     "output_type": "execute_result"
    }
   ],
   "source": [
    "lr_learner.train_loop(dl)"
   ]
  },
  {
   "cell_type": "code",
   "execution_count": 24,
   "id": "ca410940",
   "metadata": {
    "execution": {
     "iopub.execute_input": "2022-04-17T20:10:57.588353Z",
     "iopub.status.busy": "2022-04-17T20:10:57.587860Z",
     "iopub.status.idle": "2022-04-17T20:10:57.792960Z",
     "shell.execute_reply": "2022-04-17T20:10:57.792466Z"
    },
    "papermill": {
     "duration": 0.255024,
     "end_time": "2022-04-17T20:10:57.793105",
     "exception": false,
     "start_time": "2022-04-17T20:10:57.538081",
     "status": "completed"
    },
    "tags": []
   },
   "outputs": [
    {
     "data": {
      "text/plain": [
       "<matplotlib.legend.Legend at 0x7f93d9451b00>"
      ]
     },
     "execution_count": 24,
     "metadata": {},
     "output_type": "execute_result"
    },
    {
     "data": {
      "image/png": "[encoded data removed]",
      "text/plain": [
       "<Figure size 1080x720 with 1 Axes>"
      ]
     },
     "metadata": {
      "needs_background": "light"
     },
     "output_type": "display_data"
    }
   ],
   "source": [
    "#comparing the results of NN and LR\n",
    "plt.figure(figsize=(15,10))\n",
    "\n",
    "# Neural Network plots\n",
    "plt.plot(acc_nn.accuracies, 'r-', label = \"Training Accuracies - NN\")\n",
    "plt.plot(acc_nn.test_accuracies, 'g-', label = \"Testing Accuracies - NN\")\n",
    "\n",
    "# Logistic Regression plots\n",
    "plt.plot(acc_lr.accuracies, 'k-', label = \"Training Accuracies - LR\")\n",
    "plt.plot(acc_lr.test_accuracies, 'b-', label = \"Testing Accuracies - LR\")\n",
    "plt.legend()"
   ]
  },
  {
   "cell_type": "markdown",
   "id": "80dfb35c",
   "metadata": {
    "papermill": {
     "duration": 0.041615,
     "end_time": "2022-04-17T20:10:57.876529",
     "exception": false,
     "start_time": "2022-04-17T20:10:57.834914",
     "status": "completed"
    },
    "tags": []
   },
   "source": [
    "#### Plotting the outputs of this layer of the NN.\n"
   ]
  },
  {
   "cell_type": "code",
   "execution_count": 25,
   "id": "45eb2ff5",
   "metadata": {
    "execution": {
     "iopub.execute_input": "2022-04-17T20:10:57.963693Z",
     "iopub.status.busy": "2022-04-17T20:10:57.963160Z",
     "iopub.status.idle": "2022-04-17T20:10:57.983261Z",
     "shell.execute_reply": "2022-04-17T20:10:57.982811Z"
    },
    "papermill": {
     "duration": 0.065541,
     "end_time": "2022-04-17T20:10:57.983389",
     "exception": false,
     "start_time": "2022-04-17T20:10:57.917848",
     "status": "completed"
    },
    "tags": []
   },
   "outputs": [],
   "source": [
    "new_model = Model(layers[:-2])\n",
    "testing_plot = new_model(testing_data_x)"
   ]
  },
  {
   "cell_type": "code",
   "execution_count": 26,
   "id": "4c0a5485",
   "metadata": {
    "execution": {
     "iopub.execute_input": "2022-04-17T20:10:58.071438Z",
     "iopub.status.busy": "2022-04-17T20:10:58.070875Z",
     "iopub.status.idle": "2022-04-17T20:10:58.256108Z",
     "shell.execute_reply": "2022-04-17T20:10:58.255671Z"
    },
    "papermill": {
     "duration": 0.23121,
     "end_time": "2022-04-17T20:10:58.256221",
     "exception": false,
     "start_time": "2022-04-17T20:10:58.025011",
     "status": "completed"
    },
    "tags": []
   },
   "outputs": [
    {
     "data": {
      "text/plain": [
       "Text(0.5, 1.0, 'Outputs')"
      ]
     },
     "execution_count": 26,
     "metadata": {},
     "output_type": "execute_result"
    },
    {
     "data": {
      "image/png": "[encoded data removed]",
      "text/plain": [
       "<Figure size 576x504 with 1 Axes>"
      ]
     },
     "metadata": {
      "needs_background": "light"
     },
     "output_type": "display_data"
    }
   ],
   "source": [
    "# Plotting the scatter plot of points and color coding by class\n",
    "plt.figure(figsize=(8,7))\n",
    "plt.scatter(testing_plot[:,0], testing_plot[:,1], alpha = 0.1, c = y_test.ravel());\n",
    "plt.title('Outputs')"
   ]
  },
  {
   "cell_type": "markdown",
   "id": "a74fcf8f",
   "metadata": {
    "papermill": {
     "duration": 0.038745,
     "end_time": "2022-04-17T20:10:58.333622",
     "exception": false,
     "start_time": "2022-04-17T20:10:58.294877",
     "status": "completed"
    },
    "tags": []
   },
   "source": [
    "Probability contours"
   ]
  },
  {
   "cell_type": "code",
   "execution_count": 27,
   "id": "d0afc8e3",
   "metadata": {
    "execution": {
     "iopub.execute_input": "2022-04-17T20:10:58.419161Z",
     "iopub.status.busy": "2022-04-17T20:10:58.416946Z",
     "iopub.status.idle": "2022-04-17T20:10:58.427662Z",
     "shell.execute_reply": "2022-04-17T20:10:58.427224Z"
    },
    "papermill": {
     "duration": 0.055373,
     "end_time": "2022-04-17T20:10:58.427775",
     "exception": false,
     "start_time": "2022-04-17T20:10:58.372402",
     "status": "completed"
    },
    "tags": []
   },
   "outputs": [],
   "source": [
    "model_prob = Model(layers[-2:]) "
   ]
  },
  {
   "cell_type": "code",
   "execution_count": 28,
   "id": "9b96e238",
   "metadata": {
    "execution": {
     "iopub.execute_input": "2022-04-17T20:10:58.553708Z",
     "iopub.status.busy": "2022-04-17T20:10:58.553170Z",
     "iopub.status.idle": "2022-04-17T20:10:58.567690Z",
     "shell.execute_reply": "2022-04-17T20:10:58.568041Z"
    },
    "papermill": {
     "duration": 0.064278,
     "end_time": "2022-04-17T20:10:58.568167",
     "exception": false,
     "start_time": "2022-04-17T20:10:58.503889",
     "status": "completed"
    },
    "tags": []
   },
   "outputs": [],
   "source": [
    "#creating the x and y ranges according to the above generated plot.\n",
    "x_range = np.linspace(-4, 1, 100) \n",
    "y_range = np.linspace(-6, 6, 100) \n",
    "x_grid, y_grid = np.meshgrid(x_range, y_range) # x_grid and y_grig are of size 100 X 100\n",
    "\n",
    "# converting x_grid and y_grid to continuous arrays\n",
    "x_gridflat = np.ravel(x_grid)\n",
    "y_gridflat = np.ravel(y_grid)\n",
    "\n",
    "# The last layer of the current model takes two columns as input. Hence transpose of np.vstack() is required.\n",
    "X = np.vstack((x_gridflat, y_gridflat)).T\n",
    "\n",
    "prob_contour = model_prob(X).reshape(100,100) "
   ]
  },
  {
   "cell_type": "code",
   "execution_count": 29,
   "id": "da72499a",
   "metadata": {
    "execution": {
     "iopub.execute_input": "2022-04-17T20:10:58.660199Z",
     "iopub.status.busy": "2022-04-17T20:10:58.659721Z",
     "iopub.status.idle": "2022-04-17T20:10:58.873298Z",
     "shell.execute_reply": "2022-04-17T20:10:58.873665Z"
    },
    "papermill": {
     "duration": 0.26592,
     "end_time": "2022-04-17T20:10:58.873802",
     "exception": false,
     "start_time": "2022-04-17T20:10:58.607882",
     "status": "completed"
    },
    "tags": []
   },
   "outputs": [
    {
     "data": {
      "image/png": "[encoded data removed]",
      "text/plain": [
       "<Figure size 720x648 with 1 Axes>"
      ]
     },
     "metadata": {
      "needs_background": "light"
     },
     "output_type": "display_data"
    }
   ],
   "source": [
    "plt.figure(figsize=(10,9))\n",
    "plt.scatter(testing_plot[:,0], testing_plot[:,1], alpha = 0.1, c = y_test.ravel())\n",
    "contours = plt.contour(x_grid,y_grid,prob_contour)\n",
    "plt.title('Probability Contours')\n",
    "plt.clabel(contours, inline = True );"
   ]
  },
  {
   "cell_type": "code",
   "execution_count": null,
   "id": "e81b4ac7",
   "metadata": {
    "papermill": {
     "duration": 0.041113,
     "end_time": "2022-04-17T20:10:58.956633",
     "exception": false,
     "start_time": "2022-04-17T20:10:58.915520",
     "status": "completed"
    },
    "tags": []
   },
   "outputs": [],
   "source": []
  }
 ],
 "metadata": {
  "kernelspec": {
   "display_name": "Python 3",
   "language": "python",
   "name": "python3"
  },
  "language_info": {
   "codemirror_mode": {
    "name": "ipython",
    "version": 3
   },
   "file_extension": ".py",
   "mimetype": "text/x-python",
   "name": "python",
   "nbconvert_exporter": "python",
   "pygments_lexer": "ipython3",
   "version": "3.6.15"
  },
  "papermill": {
   "default_parameters": {},
   "duration": 101.282225,
   "end_time": "2022-04-17T20:10:59.416997",
   "environment_variables": {},
   "exception": null,
   "input_path": "2020-08-11-part2.ipynb",
   "output_path": "2020-08-11-part2.ipynb",
   "parameters": {},
   "start_time": "2022-04-17T20:09:18.134772",
   "version": "2.3.3"
  }
 },
 "nbformat": 4,
 "nbformat_minor": 5
}