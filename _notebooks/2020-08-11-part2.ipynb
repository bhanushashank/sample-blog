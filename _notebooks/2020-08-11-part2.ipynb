{
 "cells": [
  {
   "cell_type": "markdown",
   "id": "98380cd3",
   "metadata": {
    "papermill": {
     "duration": 0.027969,
     "end_time": "2021-11-28T00:23:41.228721",
     "exception": false,
     "start_time": "2021-11-28T00:23:41.200752",
     "status": "completed"
    },
    "tags": []
   },
   "source": [
    "# Distinguish Your Own Digits (DYOD)"
   ]
  },
  {
   "cell_type": "markdown",
   "id": "ef31240d",
   "metadata": {
    "papermill": {
     "duration": 0.023701,
     "end_time": "2021-11-28T00:23:41.276868",
     "exception": false,
     "start_time": "2021-11-28T00:23:41.253167",
     "status": "completed"
    },
    "tags": []
   },
   "source": [
    "You are going to write a classifier that distinguishes between the number 3 and number 8."
   ]
  },
  {
   "cell_type": "code",
   "execution_count": 1,
   "id": "b15c8646",
   "metadata": {
    "execution": {
     "iopub.execute_input": "2021-11-28T00:23:41.335682Z",
     "iopub.status.busy": "2021-11-28T00:23:41.335146Z",
     "iopub.status.idle": "2021-11-28T00:23:41.344984Z",
     "shell.execute_reply": "2021-11-28T00:23:41.345464Z"
    },
    "papermill": {
     "duration": 0.04497,
     "end_time": "2021-11-28T00:23:41.345610",
     "exception": false,
     "start_time": "2021-11-28T00:23:41.300640",
     "status": "completed"
    },
    "tags": []
   },
   "outputs": [],
   "source": [
    "%load_ext autoreload\n",
    "%autoreload 2"
   ]
  },
  {
   "cell_type": "code",
   "execution_count": 2,
   "id": "22ef38dc",
   "metadata": {
    "execution": {
     "iopub.execute_input": "2021-11-28T00:23:41.398456Z",
     "iopub.status.busy": "2021-11-28T00:23:41.397602Z",
     "iopub.status.idle": "2021-11-28T00:23:41.972143Z",
     "shell.execute_reply": "2021-11-28T00:23:41.971600Z"
    },
    "papermill": {
     "duration": 0.602675,
     "end_time": "2021-11-28T00:23:41.972268",
     "exception": false,
     "start_time": "2021-11-28T00:23:41.369593",
     "status": "completed"
    },
    "tags": []
   },
   "outputs": [],
   "source": [
    "%matplotlib inline\n",
    "import numpy as np\n",
    "import matplotlib.pyplot as plt\n",
    "import pandas as pd"
   ]
  },
  {
   "cell_type": "markdown",
   "id": "ba036198",
   "metadata": {
    "papermill": {
     "duration": 0.023868,
     "end_time": "2021-11-28T00:23:42.020341",
     "exception": false,
     "start_time": "2021-11-28T00:23:41.996473",
     "status": "completed"
    },
    "tags": []
   },
   "source": [
    "From the command line run `pip install mnist`. This is a library that will help you bring down the mnist dataset. If you run this from a notebook, you need to put  `!pip install mnist` in a cell by itself."
   ]
  },
  {
   "cell_type": "code",
   "execution_count": 3,
   "id": "bb6ad8a1",
   "metadata": {
    "execution": {
     "iopub.execute_input": "2021-11-28T00:23:42.072949Z",
     "iopub.status.busy": "2021-11-28T00:23:42.072425Z",
     "iopub.status.idle": "2021-11-28T00:23:43.812407Z",
     "shell.execute_reply": "2021-11-28T00:23:43.811848Z"
    },
    "papermill": {
     "duration": 1.768265,
     "end_time": "2021-11-28T00:23:43.812546",
     "exception": false,
     "start_time": "2021-11-28T00:23:42.044281",
     "status": "completed"
    },
    "tags": []
   },
   "outputs": [
    {
     "name": "stdout",
     "output_type": "stream",
     "text": [
      "Collecting mnist\r\n"
     ]
    },
    {
     "name": "stdout",
     "output_type": "stream",
     "text": [
      "  Downloading mnist-0.2.2-py2.py3-none-any.whl (3.5 kB)\r\n",
      "Requirement already satisfied: numpy in /opt/hostedtoolcache/Python/3.6.15/x64/lib/python3.6/site-packages (from mnist) (1.19.5)\r\n"
     ]
    },
    {
     "name": "stdout",
     "output_type": "stream",
     "text": [
      "Installing collected packages: mnist\r\n"
     ]
    },
    {
     "name": "stdout",
     "output_type": "stream",
     "text": [
      "Successfully installed mnist-0.2.2\r\n"
     ]
    }
   ],
   "source": [
    "!pip install mnist"
   ]
  },
  {
   "cell_type": "markdown",
   "id": "69df9c9a",
   "metadata": {
    "papermill": {
     "duration": 0.024916,
     "end_time": "2021-11-28T00:23:43.862811",
     "exception": false,
     "start_time": "2021-11-28T00:23:43.837895",
     "status": "completed"
    },
    "tags": []
   },
   "source": [
    "## Preparing the Data"
   ]
  },
  {
   "cell_type": "code",
   "execution_count": 4,
   "id": "7f69d806",
   "metadata": {
    "execution": {
     "iopub.execute_input": "2021-11-28T00:23:43.922529Z",
     "iopub.status.busy": "2021-11-28T00:23:43.921717Z",
     "iopub.status.idle": "2021-11-28T00:23:43.932576Z",
     "shell.execute_reply": "2021-11-28T00:23:43.932165Z"
    },
    "papermill": {
     "duration": 0.045043,
     "end_time": "2021-11-28T00:23:43.932686",
     "exception": false,
     "start_time": "2021-11-28T00:23:43.887643",
     "status": "completed"
    },
    "tags": []
   },
   "outputs": [],
   "source": [
    "import mnist"
   ]
  },
  {
   "cell_type": "code",
   "execution_count": 5,
   "id": "a411e44f",
   "metadata": {
    "execution": {
     "iopub.execute_input": "2021-11-28T00:23:43.986563Z",
     "iopub.status.busy": "2021-11-28T00:23:43.986045Z",
     "iopub.status.idle": "2021-11-28T00:23:44.623189Z",
     "shell.execute_reply": "2021-11-28T00:23:44.622621Z"
    },
    "papermill": {
     "duration": 0.665471,
     "end_time": "2021-11-28T00:23:44.623323",
     "exception": false,
     "start_time": "2021-11-28T00:23:43.957852",
     "status": "completed"
    },
    "tags": []
   },
   "outputs": [],
   "source": [
    "train_images = mnist.train_images()\n",
    "train_labels = mnist.train_labels()"
   ]
  },
  {
   "cell_type": "code",
   "execution_count": 6,
   "id": "dceab3a5",
   "metadata": {
    "execution": {
     "iopub.execute_input": "2021-11-28T00:23:44.687354Z",
     "iopub.status.busy": "2021-11-28T00:23:44.686827Z",
     "iopub.status.idle": "2021-11-28T00:23:44.695555Z",
     "shell.execute_reply": "2021-11-28T00:23:44.695124Z"
    },
    "papermill": {
     "duration": 0.046961,
     "end_time": "2021-11-28T00:23:44.695668",
     "exception": false,
     "start_time": "2021-11-28T00:23:44.648707",
     "status": "completed"
    },
    "tags": []
   },
   "outputs": [
    {
     "data": {
      "text/plain": [
       "((60000, 28, 28), (60000,))"
      ]
     },
     "execution_count": 6,
     "metadata": {},
     "output_type": "execute_result"
    }
   ],
   "source": [
    "train_images.shape, train_labels.shape"
   ]
  },
  {
   "cell_type": "code",
   "execution_count": 7,
   "id": "f50dc2bb",
   "metadata": {
    "execution": {
     "iopub.execute_input": "2021-11-28T00:23:44.751882Z",
     "iopub.status.busy": "2021-11-28T00:23:44.751380Z",
     "iopub.status.idle": "2021-11-28T00:23:44.925217Z",
     "shell.execute_reply": "2021-11-28T00:23:44.925718Z"
    },
    "papermill": {
     "duration": 0.205013,
     "end_time": "2021-11-28T00:23:44.925886",
     "exception": false,
     "start_time": "2021-11-28T00:23:44.720873",
     "status": "completed"
    },
    "tags": []
   },
   "outputs": [],
   "source": [
    "test_images = mnist.test_images()\n",
    "test_labels = mnist.test_labels()"
   ]
  },
  {
   "cell_type": "code",
   "execution_count": 8,
   "id": "fc38cf1b",
   "metadata": {
    "execution": {
     "iopub.execute_input": "2021-11-28T00:23:44.980633Z",
     "iopub.status.busy": "2021-11-28T00:23:44.980115Z",
     "iopub.status.idle": "2021-11-28T00:23:44.992847Z",
     "shell.execute_reply": "2021-11-28T00:23:44.992442Z"
    },
    "papermill": {
     "duration": 0.041097,
     "end_time": "2021-11-28T00:23:44.992957",
     "exception": false,
     "start_time": "2021-11-28T00:23:44.951860",
     "status": "completed"
    },
    "tags": []
   },
   "outputs": [
    {
     "data": {
      "text/plain": [
       "((10000, 28, 28), (10000,))"
      ]
     },
     "execution_count": 8,
     "metadata": {},
     "output_type": "execute_result"
    }
   ],
   "source": [
    "test_images.shape, test_labels.shape"
   ]
  },
  {
   "cell_type": "code",
   "execution_count": 9,
   "id": "f9ed8fe0",
   "metadata": {
    "execution": {
     "iopub.execute_input": "2021-11-28T00:23:45.051106Z",
     "iopub.status.busy": "2021-11-28T00:23:45.050592Z",
     "iopub.status.idle": "2021-11-28T00:23:45.184569Z",
     "shell.execute_reply": "2021-11-28T00:23:45.185047Z"
    },
    "papermill": {
     "duration": 0.166803,
     "end_time": "2021-11-28T00:23:45.185202",
     "exception": false,
     "start_time": "2021-11-28T00:23:45.018399",
     "status": "completed"
    },
    "tags": []
   },
   "outputs": [
    {
     "name": "stdout",
     "output_type": "stream",
     "text": [
      "2\n"
     ]
    },
    {
     "data": {
      "text/plain": [
       "<matplotlib.image.AxesImage at 0x7f927b146518>"
      ]
     },
     "execution_count": 9,
     "metadata": {},
     "output_type": "execute_result"
    },
    {
     "data": {
      "image/png": "[encoded data removed]",
      "text/plain": [
       "<Figure size 432x288 with 1 Axes>"
      ]
     },
     "metadata": {
      "needs_background": "light"
     },
     "output_type": "display_data"
    }
   ],
   "source": [
    "image_index = 7776 # You may select anything up to 60,000\n",
    "print(train_labels[image_index]) \n",
    "plt.imshow(train_images[image_index], cmap='Greys')"
   ]
  },
  {
   "cell_type": "markdown",
   "id": "a8d2388d",
   "metadata": {
    "papermill": {
     "duration": 0.027091,
     "end_time": "2021-11-28T00:23:45.240048",
     "exception": false,
     "start_time": "2021-11-28T00:23:45.212957",
     "status": "completed"
    },
    "tags": []
   },
   "source": [
    "## Filter data to get 3 and 8 out"
   ]
  },
  {
   "cell_type": "code",
   "execution_count": 10,
   "id": "776f7fc7",
   "metadata": {
    "execution": {
     "iopub.execute_input": "2021-11-28T00:23:45.297468Z",
     "iopub.status.busy": "2021-11-28T00:23:45.296941Z",
     "iopub.status.idle": "2021-11-28T00:23:45.313427Z",
     "shell.execute_reply": "2021-11-28T00:23:45.313016Z"
    },
    "papermill": {
     "duration": 0.046817,
     "end_time": "2021-11-28T00:23:45.313537",
     "exception": false,
     "start_time": "2021-11-28T00:23:45.266720",
     "status": "completed"
    },
    "tags": []
   },
   "outputs": [],
   "source": [
    "train_filter = np.where((train_labels == 3 ) | (train_labels == 8))\n",
    "test_filter = np.where((test_labels == 3) | (test_labels == 8))\n",
    "X_train, y_train = train_images[train_filter], train_labels[train_filter]\n",
    "X_test, y_test = test_images[test_filter], test_labels[test_filter]"
   ]
  },
  {
   "cell_type": "markdown",
   "id": "948f0b7e",
   "metadata": {
    "papermill": {
     "duration": 0.026368,
     "end_time": "2021-11-28T00:23:45.366425",
     "exception": false,
     "start_time": "2021-11-28T00:23:45.340057",
     "status": "completed"
    },
    "tags": []
   },
   "source": [
    "We normalize the pizel values in the 0 to 1 range"
   ]
  },
  {
   "cell_type": "code",
   "execution_count": 11,
   "id": "ee4c2166",
   "metadata": {
    "execution": {
     "iopub.execute_input": "2021-11-28T00:23:45.422707Z",
     "iopub.status.busy": "2021-11-28T00:23:45.422183Z",
     "iopub.status.idle": "2021-11-28T00:23:45.467577Z",
     "shell.execute_reply": "2021-11-28T00:23:45.467048Z"
    },
    "papermill": {
     "duration": 0.074878,
     "end_time": "2021-11-28T00:23:45.467719",
     "exception": false,
     "start_time": "2021-11-28T00:23:45.392841",
     "status": "completed"
    },
    "tags": []
   },
   "outputs": [],
   "source": [
    "X_train = X_train/255.\n",
    "X_test = X_test/255."
   ]
  },
  {
   "cell_type": "markdown",
   "id": "ddcf4fab",
   "metadata": {
    "papermill": {
     "duration": 0.026643,
     "end_time": "2021-11-28T00:23:45.522513",
     "exception": false,
     "start_time": "2021-11-28T00:23:45.495870",
     "status": "completed"
    },
    "tags": []
   },
   "source": [
    "And setup the labels as 1 (when the digit is 3) and 0 (when the digit is 8)"
   ]
  },
  {
   "cell_type": "code",
   "execution_count": 12,
   "id": "7dc908f2",
   "metadata": {
    "execution": {
     "iopub.execute_input": "2021-11-28T00:23:45.583608Z",
     "iopub.status.busy": "2021-11-28T00:23:45.583083Z",
     "iopub.status.idle": "2021-11-28T00:23:45.594043Z",
     "shell.execute_reply": "2021-11-28T00:23:45.593587Z"
    },
    "papermill": {
     "duration": 0.044956,
     "end_time": "2021-11-28T00:23:45.594158",
     "exception": false,
     "start_time": "2021-11-28T00:23:45.549202",
     "status": "completed"
    },
    "tags": []
   },
   "outputs": [],
   "source": [
    "y_train = 1*(y_train==3)\n",
    "y_test = 1*(y_test==3)"
   ]
  },
  {
   "cell_type": "code",
   "execution_count": 13,
   "id": "01e4e969",
   "metadata": {
    "execution": {
     "iopub.execute_input": "2021-11-28T00:23:45.652039Z",
     "iopub.status.busy": "2021-11-28T00:23:45.651529Z",
     "iopub.status.idle": "2021-11-28T00:23:45.664280Z",
     "shell.execute_reply": "2021-11-28T00:23:45.664688Z"
    },
    "papermill": {
     "duration": 0.043997,
     "end_time": "2021-11-28T00:23:45.664820",
     "exception": false,
     "start_time": "2021-11-28T00:23:45.620823",
     "status": "completed"
    },
    "tags": []
   },
   "outputs": [
    {
     "data": {
      "text/plain": [
       "((11982, 28, 28), (1984, 28, 28))"
      ]
     },
     "execution_count": 13,
     "metadata": {},
     "output_type": "execute_result"
    }
   ],
   "source": [
    "X_train.shape, X_test.shape"
   ]
  },
  {
   "cell_type": "markdown",
   "id": "5ccf3f85",
   "metadata": {
    "papermill": {
     "duration": 0.026643,
     "end_time": "2021-11-28T00:23:45.718324",
     "exception": false,
     "start_time": "2021-11-28T00:23:45.691681",
     "status": "completed"
    },
    "tags": []
   },
   "source": [
    "We reshape the data to flatten the image pixels into a set of features or co-variates:"
   ]
  },
  {
   "cell_type": "code",
   "execution_count": 14,
   "id": "5286a4a3",
   "metadata": {
    "execution": {
     "iopub.execute_input": "2021-11-28T00:23:45.776370Z",
     "iopub.status.busy": "2021-11-28T00:23:45.775827Z",
     "iopub.status.idle": "2021-11-28T00:23:45.790221Z",
     "shell.execute_reply": "2021-11-28T00:23:45.789540Z"
    },
    "papermill": {
     "duration": 0.045253,
     "end_time": "2021-11-28T00:23:45.790340",
     "exception": false,
     "start_time": "2021-11-28T00:23:45.745087",
     "status": "completed"
    },
    "tags": []
   },
   "outputs": [
    {
     "data": {
      "text/plain": [
       "((11982, 784), (1984, 784))"
      ]
     },
     "execution_count": 14,
     "metadata": {},
     "output_type": "execute_result"
    }
   ],
   "source": [
    "X_train = X_train.reshape(X_train.shape[0], -1)\n",
    "X_test = X_test.reshape(X_test.shape[0], -1)\n",
    "X_train.shape, X_test.shape"
   ]
  },
  {
   "cell_type": "code",
   "execution_count": 15,
   "id": "73c5f88a",
   "metadata": {
    "execution": {
     "iopub.execute_input": "2021-11-28T00:23:45.848891Z",
     "iopub.status.busy": "2021-11-28T00:23:45.848370Z",
     "iopub.status.idle": "2021-11-28T00:23:45.866271Z",
     "shell.execute_reply": "2021-11-28T00:23:45.865830Z"
    },
    "papermill": {
     "duration": 0.049026,
     "end_time": "2021-11-28T00:23:45.866387",
     "exception": false,
     "start_time": "2021-11-28T00:23:45.817361",
     "status": "completed"
    },
    "tags": []
   },
   "outputs": [],
   "source": [
    "#Impoting functions from 'Kudzu'\n",
    "from kudzu.model import Model\n",
    "from kudzu.train import Learner\n",
    "from kudzu.optim import GD\n",
    "from kudzu.data import Data, Sampler,Dataloader\n",
    "\n",
    "from kudzu.callbacks import AccCallback\n",
    "from kudzu.callbacks import ClfCallback\n",
    "\n",
    "from kudzu.loss import MSE\n",
    "\n",
    "from kudzu.layer import Sigmoid,Relu\n",
    "from kudzu.layer import Affine"
   ]
  },
  {
   "cell_type": "markdown",
   "id": "bc01172a",
   "metadata": {
    "papermill": {
     "duration": 0.02725,
     "end_time": "2021-11-28T00:23:45.920744",
     "exception": false,
     "start_time": "2021-11-28T00:23:45.893494",
     "status": "completed"
    },
    "tags": []
   },
   "source": [
    "### Let us create a `Config` class, to store important parameters. \n",
    "This class essentially plays the role of a dictionary."
   ]
  },
  {
   "cell_type": "code",
   "execution_count": 16,
   "id": "978281aa",
   "metadata": {
    "execution": {
     "iopub.execute_input": "2021-11-28T00:23:45.978844Z",
     "iopub.status.busy": "2021-11-28T00:23:45.978296Z",
     "iopub.status.idle": "2021-11-28T00:23:45.990884Z",
     "shell.execute_reply": "2021-11-28T00:23:45.990470Z"
    },
    "papermill": {
     "duration": 0.043271,
     "end_time": "2021-11-28T00:23:45.990998",
     "exception": false,
     "start_time": "2021-11-28T00:23:45.947727",
     "status": "completed"
    },
    "tags": []
   },
   "outputs": [],
   "source": [
    "class Config:\n",
    "    pass\n",
    "config = Config()\n",
    "config.lr = 0.001\n",
    "config.num_epochs = 250\n",
    "config.bs = 50"
   ]
  },
  {
   "cell_type": "markdown",
   "id": "1385fa59",
   "metadata": {
    "papermill": {
     "duration": 0.027181,
     "end_time": "2021-11-28T00:23:46.045559",
     "exception": false,
     "start_time": "2021-11-28T00:23:46.018378",
     "status": "completed"
    },
    "tags": []
   },
   "source": [
    "### Running Models with the Training data\n",
    "Details about the network layers:\n",
    "- A first affine layer has 784 inputs and does 100 affine transforms. These are followed by a Relu\n",
    "- A second affine layer has 100 inputs from the 100 activations of the past layer, and does 100 affine transforms. These are followed by a Relu\n",
    "- A third affine layer has 100 activations and does 2 affine transformations to create an embedding for visualization. There is no non-linearity here.\n",
    "- A final \"logistic regression\" which has an affine transform from 2 inputs to 1 output, which is squeezed through a sigmoid.\n"
   ]
  },
  {
   "cell_type": "code",
   "execution_count": 17,
   "id": "2b9c66db",
   "metadata": {
    "execution": {
     "iopub.execute_input": "2021-11-28T00:23:46.106532Z",
     "iopub.status.busy": "2021-11-28T00:23:46.105927Z",
     "iopub.status.idle": "2021-11-28T00:23:46.117521Z",
     "shell.execute_reply": "2021-11-28T00:23:46.117092Z"
    },
    "papermill": {
     "duration": 0.044864,
     "end_time": "2021-11-28T00:23:46.117642",
     "exception": false,
     "start_time": "2021-11-28T00:23:46.072778",
     "status": "completed"
    },
    "tags": []
   },
   "outputs": [],
   "source": [
    "data = Data(X_train, y_train.reshape(-1,1))\n",
    "sampler = Sampler(data, config.bs, shuffle=True)\n",
    "\n",
    "dl = Dataloader(data, sampler)\n",
    "\n",
    "opt = GD(config.lr)\n",
    "loss = MSE()"
   ]
  },
  {
   "cell_type": "code",
   "execution_count": 18,
   "id": "b275e4c2",
   "metadata": {
    "execution": {
     "iopub.execute_input": "2021-11-28T00:23:46.177991Z",
     "iopub.status.busy": "2021-11-28T00:23:46.177434Z",
     "iopub.status.idle": "2021-11-28T00:23:46.188209Z",
     "shell.execute_reply": "2021-11-28T00:23:46.187777Z"
    },
    "papermill": {
     "duration": 0.043226,
     "end_time": "2021-11-28T00:23:46.188320",
     "exception": false,
     "start_time": "2021-11-28T00:23:46.145094",
     "status": "completed"
    },
    "tags": []
   },
   "outputs": [],
   "source": [
    "training_data_x = X_train\n",
    "testing_data_x = X_test\n",
    "training_data_y = y_train.reshape(-1,1)\n",
    "testing_data_y = y_test.reshape(-1,1)"
   ]
  },
  {
   "cell_type": "code",
   "execution_count": 19,
   "id": "76951160",
   "metadata": {
    "execution": {
     "iopub.execute_input": "2021-11-28T00:23:46.246838Z",
     "iopub.status.busy": "2021-11-28T00:23:46.246310Z",
     "iopub.status.idle": "2021-11-28T00:23:46.262138Z",
     "shell.execute_reply": "2021-11-28T00:23:46.261679Z"
    },
    "papermill": {
     "duration": 0.046817,
     "end_time": "2021-11-28T00:23:46.262256",
     "exception": false,
     "start_time": "2021-11-28T00:23:46.215439",
     "status": "completed"
    },
    "tags": []
   },
   "outputs": [
    {
     "name": "stdout",
     "output_type": "stream",
     "text": [
      "xavier\n",
      "xavier\n",
      "xavier\n",
      "xavier\n",
      "xavier\n"
     ]
    }
   ],
   "source": [
    "layers = [Affine(\"first\", 784, 100), Relu(\"first\"), Affine(\"second\", 100, 100), Relu(\"second\"), Affine(\"third\", 100, 2), Affine(\"last\", 2, 1), Sigmoid(\"last\")]\n",
    "model_nn = Model(layers)\n",
    "model_lr = Model([Affine(\"logits\", 784, 1), Sigmoid(\"sigmoid\")])"
   ]
  },
  {
   "cell_type": "code",
   "execution_count": 20,
   "id": "6eede77a",
   "metadata": {
    "execution": {
     "iopub.execute_input": "2021-11-28T00:23:46.334325Z",
     "iopub.status.busy": "2021-11-28T00:23:46.329195Z",
     "iopub.status.idle": "2021-11-28T00:23:46.336593Z",
     "shell.execute_reply": "2021-11-28T00:23:46.336180Z"
    },
    "papermill": {
     "duration": 0.046726,
     "end_time": "2021-11-28T00:23:46.336710",
     "exception": false,
     "start_time": "2021-11-28T00:23:46.289984",
     "status": "completed"
    },
    "tags": []
   },
   "outputs": [],
   "source": [
    "nn_learner = Learner(loss, model_nn, opt, config.num_epochs)\n",
    "acc_nn = ClfCallback(nn_learner, config.bs, training_data_x , testing_data_x, training_data_y, testing_data_y)\n",
    "nn_learner.set_callbacks([acc_nn])"
   ]
  },
  {
   "cell_type": "code",
   "execution_count": 21,
   "id": "877b6cc7",
   "metadata": {
    "execution": {
     "iopub.execute_input": "2021-11-28T00:23:46.401012Z",
     "iopub.status.busy": "2021-11-28T00:23:46.400492Z",
     "iopub.status.idle": "2021-11-28T00:23:46.409777Z",
     "shell.execute_reply": "2021-11-28T00:23:46.409367Z"
    },
    "papermill": {
     "duration": 0.045654,
     "end_time": "2021-11-28T00:23:46.409889",
     "exception": false,
     "start_time": "2021-11-28T00:23:46.364235",
     "status": "completed"
    },
    "tags": []
   },
   "outputs": [],
   "source": [
    "lr_learner = Learner(loss, model_lr, opt, config.num_epochs)\n",
    "acc_lr = ClfCallback(lr_learner, config.bs, training_data_x , testing_data_x, training_data_y, testing_data_y)\n",
    "lr_learner.set_callbacks([acc_lr])"
   ]
  },
  {
   "cell_type": "code",
   "execution_count": 22,
   "id": "d9b133c3",
   "metadata": {
    "execution": {
     "iopub.execute_input": "2021-11-28T00:23:46.469055Z",
     "iopub.status.busy": "2021-11-28T00:23:46.468532Z",
     "iopub.status.idle": "2021-11-28T00:25:00.982812Z",
     "shell.execute_reply": "2021-11-28T00:25:00.983607Z"
    },
    "papermill": {
     "duration": 74.546283,
     "end_time": "2021-11-28T00:25:00.983762",
     "exception": false,
     "start_time": "2021-11-28T00:23:46.437479",
     "status": "completed"
    },
    "tags": []
   },
   "outputs": [
    {
     "name": "stdout",
     "output_type": "stream",
     "text": [
      "Epoch 0, Loss 0.2412\n",
      "Training Accuracy: 0.7083, Testing Accuracy: 0.7172\n",
      "\n"
     ]
    },
    {
     "name": "stdout",
     "output_type": "stream",
     "text": [
      "Epoch 10, Loss 0.1317\n",
      "Training Accuracy: 0.9014, Testing Accuracy: 0.9128\n",
      "\n"
     ]
    },
    {
     "name": "stdout",
     "output_type": "stream",
     "text": [
      "Epoch 20, Loss 0.0712\n",
      "Training Accuracy: 0.9286, Testing Accuracy: 0.9390\n",
      "\n"
     ]
    },
    {
     "name": "stdout",
     "output_type": "stream",
     "text": [
      "Epoch 30, Loss 0.0517\n",
      "Training Accuracy: 0.9439, Testing Accuracy: 0.9526\n",
      "\n"
     ]
    },
    {
     "name": "stdout",
     "output_type": "stream",
     "text": [
      "Epoch 40, Loss 0.0429\n",
      "Training Accuracy: 0.9525, Testing Accuracy: 0.9602\n",
      "\n"
     ]
    },
    {
     "name": "stdout",
     "output_type": "stream",
     "text": [
      "Epoch 50, Loss 0.0379\n",
      "Training Accuracy: 0.9574, Testing Accuracy: 0.9647\n",
      "\n"
     ]
    },
    {
     "name": "stdout",
     "output_type": "stream",
     "text": [
      "Epoch 60, Loss 0.0347\n",
      "Training Accuracy: 0.9600, Testing Accuracy: 0.9688\n",
      "\n"
     ]
    },
    {
     "name": "stdout",
     "output_type": "stream",
     "text": [
      "Epoch 70, Loss 0.0324\n",
      "Training Accuracy: 0.9626, Testing Accuracy: 0.9703\n",
      "\n"
     ]
    },
    {
     "name": "stdout",
     "output_type": "stream",
     "text": [
      "Epoch 80, Loss 0.0306\n",
      "Training Accuracy: 0.9644, Testing Accuracy: 0.9693\n",
      "\n"
     ]
    },
    {
     "name": "stdout",
     "output_type": "stream",
     "text": [
      "Epoch 90, Loss 0.0292\n",
      "Training Accuracy: 0.9661, Testing Accuracy: 0.9713\n",
      "\n"
     ]
    },
    {
     "name": "stdout",
     "output_type": "stream",
     "text": [
      "Epoch 100, Loss 0.028\n",
      "Training Accuracy: 0.9680, Testing Accuracy: 0.9713\n",
      "\n"
     ]
    },
    {
     "name": "stdout",
     "output_type": "stream",
     "text": [
      "Epoch 110, Loss 0.027\n",
      "Training Accuracy: 0.9694, Testing Accuracy: 0.9728\n",
      "\n"
     ]
    },
    {
     "name": "stdout",
     "output_type": "stream",
     "text": [
      "Epoch 120, Loss 0.0261\n",
      "Training Accuracy: 0.9704, Testing Accuracy: 0.9733\n",
      "\n"
     ]
    },
    {
     "name": "stdout",
     "output_type": "stream",
     "text": [
      "Epoch 130, Loss 0.0253\n",
      "Training Accuracy: 0.9712, Testing Accuracy: 0.9738\n",
      "\n"
     ]
    },
    {
     "name": "stdout",
     "output_type": "stream",
     "text": [
      "Epoch 140, Loss 0.0246\n",
      "Training Accuracy: 0.9716, Testing Accuracy: 0.9748\n",
      "\n"
     ]
    },
    {
     "name": "stdout",
     "output_type": "stream",
     "text": [
      "Epoch 150, Loss 0.0239\n",
      "Training Accuracy: 0.9725, Testing Accuracy: 0.9748\n",
      "\n"
     ]
    },
    {
     "name": "stdout",
     "output_type": "stream",
     "text": [
      "Epoch 160, Loss 0.0233\n",
      "Training Accuracy: 0.9734, Testing Accuracy: 0.9743\n",
      "\n"
     ]
    },
    {
     "name": "stdout",
     "output_type": "stream",
     "text": [
      "Epoch 170, Loss 0.0227\n",
      "Training Accuracy: 0.9739, Testing Accuracy: 0.9738\n",
      "\n"
     ]
    },
    {
     "name": "stdout",
     "output_type": "stream",
     "text": [
      "Epoch 180, Loss 0.0222\n",
      "Training Accuracy: 0.9742, Testing Accuracy: 0.9743\n",
      "\n"
     ]
    },
    {
     "name": "stdout",
     "output_type": "stream",
     "text": [
      "Epoch 190, Loss 0.0217\n",
      "Training Accuracy: 0.9745, Testing Accuracy: 0.9733\n",
      "\n"
     ]
    },
    {
     "name": "stdout",
     "output_type": "stream",
     "text": [
      "Epoch 200, Loss 0.0212\n",
      "Training Accuracy: 0.9750, Testing Accuracy: 0.9733\n",
      "\n"
     ]
    },
    {
     "name": "stdout",
     "output_type": "stream",
     "text": [
      "Epoch 210, Loss 0.0207\n",
      "Training Accuracy: 0.9752, Testing Accuracy: 0.9733\n",
      "\n"
     ]
    },
    {
     "name": "stdout",
     "output_type": "stream",
     "text": [
      "Epoch 220, Loss 0.0203\n",
      "Training Accuracy: 0.9760, Testing Accuracy: 0.9733\n",
      "\n"
     ]
    },
    {
     "name": "stdout",
     "output_type": "stream",
     "text": [
      "Epoch 230, Loss 0.0198\n",
      "Training Accuracy: 0.9768, Testing Accuracy: 0.9733\n",
      "\n"
     ]
    },
    {
     "name": "stdout",
     "output_type": "stream",
     "text": [
      "Epoch 240, Loss 0.0194\n",
      "Training Accuracy: 0.9768, Testing Accuracy: 0.9733\n",
      "\n"
     ]
    },
    {
     "data": {
      "text/plain": [
       "0.03466390607345197"
      ]
     },
     "execution_count": 22,
     "metadata": {},
     "output_type": "execute_result"
    }
   ],
   "source": [
    "nn_learner.train_loop(dl)"
   ]
  },
  {
   "cell_type": "code",
   "execution_count": 23,
   "id": "e0163366",
   "metadata": {
    "execution": {
     "iopub.execute_input": "2021-11-28T00:25:01.063404Z",
     "iopub.status.busy": "2021-11-28T00:25:01.062869Z",
     "iopub.status.idle": "2021-11-28T00:25:14.498922Z",
     "shell.execute_reply": "2021-11-28T00:25:14.499682Z"
    },
    "papermill": {
     "duration": 13.480715,
     "end_time": "2021-11-28T00:25:14.499835",
     "exception": false,
     "start_time": "2021-11-28T00:25:01.019120",
     "status": "completed"
    },
    "tags": []
   },
   "outputs": [
    {
     "name": "stdout",
     "output_type": "stream",
     "text": [
      "Epoch 0, Loss 0.2445\n",
      "Training Accuracy: 0.6726, Testing Accuracy: 0.6946\n",
      "\n"
     ]
    },
    {
     "name": "stdout",
     "output_type": "stream",
     "text": [
      "Epoch 10, Loss 0.1035\n",
      "Training Accuracy: 0.9093, Testing Accuracy: 0.9194\n",
      "\n"
     ]
    },
    {
     "name": "stdout",
     "output_type": "stream",
     "text": [
      "Epoch 20, Loss 0.079\n",
      "Training Accuracy: 0.9283, Testing Accuracy: 0.9395\n",
      "\n"
     ]
    },
    {
     "name": "stdout",
     "output_type": "stream",
     "text": [
      "Epoch 30, Loss 0.0679\n",
      "Training Accuracy: 0.9361, Testing Accuracy: 0.9476\n",
      "\n"
     ]
    },
    {
     "name": "stdout",
     "output_type": "stream",
     "text": [
      "Epoch 40, Loss 0.0613\n",
      "Training Accuracy: 0.9418, Testing Accuracy: 0.9516\n",
      "\n"
     ]
    },
    {
     "name": "stdout",
     "output_type": "stream",
     "text": [
      "Epoch 50, Loss 0.0569\n",
      "Training Accuracy: 0.9449, Testing Accuracy: 0.9556\n",
      "\n"
     ]
    },
    {
     "name": "stdout",
     "output_type": "stream",
     "text": [
      "Epoch 60, Loss 0.0536\n",
      "Training Accuracy: 0.9473, Testing Accuracy: 0.9561\n",
      "\n"
     ]
    },
    {
     "name": "stdout",
     "output_type": "stream",
     "text": [
      "Epoch 70, Loss 0.0511\n",
      "Training Accuracy: 0.9493, Testing Accuracy: 0.9567\n",
      "\n"
     ]
    },
    {
     "name": "stdout",
     "output_type": "stream",
     "text": [
      "Epoch 80, Loss 0.0491\n",
      "Training Accuracy: 0.9505, Testing Accuracy: 0.9577\n",
      "\n"
     ]
    },
    {
     "name": "stdout",
     "output_type": "stream",
     "text": [
      "Epoch 90, Loss 0.0474\n",
      "Training Accuracy: 0.9518, Testing Accuracy: 0.9587\n",
      "\n"
     ]
    },
    {
     "name": "stdout",
     "output_type": "stream",
     "text": [
      "Epoch 100, Loss 0.046\n",
      "Training Accuracy: 0.9528, Testing Accuracy: 0.9587\n",
      "\n"
     ]
    },
    {
     "name": "stdout",
     "output_type": "stream",
     "text": [
      "Epoch 110, Loss 0.0448\n",
      "Training Accuracy: 0.9535, Testing Accuracy: 0.9602\n",
      "\n"
     ]
    },
    {
     "name": "stdout",
     "output_type": "stream",
     "text": [
      "Epoch 120, Loss 0.0438\n",
      "Training Accuracy: 0.9542, Testing Accuracy: 0.9612\n",
      "\n"
     ]
    },
    {
     "name": "stdout",
     "output_type": "stream",
     "text": [
      "Epoch 130, Loss 0.0428\n",
      "Training Accuracy: 0.9557, Testing Accuracy: 0.9622\n",
      "\n"
     ]
    },
    {
     "name": "stdout",
     "output_type": "stream",
     "text": [
      "Epoch 140, Loss 0.042\n",
      "Training Accuracy: 0.9563, Testing Accuracy: 0.9627\n",
      "\n"
     ]
    },
    {
     "name": "stdout",
     "output_type": "stream",
     "text": [
      "Epoch 150, Loss 0.0413\n",
      "Training Accuracy: 0.9569, Testing Accuracy: 0.9637\n",
      "\n"
     ]
    },
    {
     "name": "stdout",
     "output_type": "stream",
     "text": [
      "Epoch 160, Loss 0.0406\n",
      "Training Accuracy: 0.9574, Testing Accuracy: 0.9637\n",
      "\n"
     ]
    },
    {
     "name": "stdout",
     "output_type": "stream",
     "text": [
      "Epoch 170, Loss 0.04\n",
      "Training Accuracy: 0.9578, Testing Accuracy: 0.9642\n",
      "\n"
     ]
    },
    {
     "name": "stdout",
     "output_type": "stream",
     "text": [
      "Epoch 180, Loss 0.0395\n",
      "Training Accuracy: 0.9585, Testing Accuracy: 0.9647\n",
      "\n"
     ]
    },
    {
     "name": "stdout",
     "output_type": "stream",
     "text": [
      "Epoch 190, Loss 0.039\n",
      "Training Accuracy: 0.9588, Testing Accuracy: 0.9652\n",
      "\n"
     ]
    },
    {
     "name": "stdout",
     "output_type": "stream",
     "text": [
      "Epoch 200, Loss 0.0385\n",
      "Training Accuracy: 0.9593, Testing Accuracy: 0.9652\n",
      "\n"
     ]
    },
    {
     "name": "stdout",
     "output_type": "stream",
     "text": [
      "Epoch 210, Loss 0.038\n",
      "Training Accuracy: 0.9595, Testing Accuracy: 0.9652\n",
      "\n"
     ]
    },
    {
     "name": "stdout",
     "output_type": "stream",
     "text": [
      "Epoch 220, Loss 0.0376\n",
      "Training Accuracy: 0.9598, Testing Accuracy: 0.9652\n",
      "\n"
     ]
    },
    {
     "name": "stdout",
     "output_type": "stream",
     "text": [
      "Epoch 230, Loss 0.0373\n",
      "Training Accuracy: 0.9601, Testing Accuracy: 0.9657\n",
      "\n"
     ]
    },
    {
     "name": "stdout",
     "output_type": "stream",
     "text": [
      "Epoch 240, Loss 0.0369\n",
      "Training Accuracy: 0.9604, Testing Accuracy: 0.9662\n",
      "\n"
     ]
    },
    {
     "data": {
      "text/plain": [
       "0.00722422712261514"
      ]
     },
     "execution_count": 23,
     "metadata": {},
     "output_type": "execute_result"
    }
   ],
   "source": [
    "lr_learner.train_loop(dl)"
   ]
  },
  {
   "cell_type": "code",
   "execution_count": 24,
   "id": "ca410940",
   "metadata": {
    "execution": {
     "iopub.execute_input": "2021-11-28T00:25:14.597606Z",
     "iopub.status.busy": "2021-11-28T00:25:14.597030Z",
     "iopub.status.idle": "2021-11-28T00:25:14.814131Z",
     "shell.execute_reply": "2021-11-28T00:25:14.814545Z"
    },
    "papermill": {
     "duration": 0.273458,
     "end_time": "2021-11-28T00:25:14.814700",
     "exception": false,
     "start_time": "2021-11-28T00:25:14.541242",
     "status": "completed"
    },
    "tags": []
   },
   "outputs": [
    {
     "data": {
      "text/plain": [
       "<matplotlib.legend.Legend at 0x7f926e575c88>"
      ]
     },
     "execution_count": 24,
     "metadata": {},
     "output_type": "execute_result"
    },
    {
     "data": {
      "image/png": "[encoded data removed]",
      "text/plain": [
       "<Figure size 1080x720 with 1 Axes>"
      ]
     },
     "metadata": {
      "needs_background": "light"
     },
     "output_type": "display_data"
    }
   ],
   "source": [
    "#comparing the results of NN and LR\n",
    "plt.figure(figsize=(15,10))\n",
    "\n",
    "# Neural Network plots\n",
    "plt.plot(acc_nn.accuracies, 'r-', label = \"Training Accuracies - NN\")\n",
    "plt.plot(acc_nn.test_accuracies, 'g-', label = \"Testing Accuracies - NN\")\n",
    "\n",
    "# Logistic Regression plots\n",
    "plt.plot(acc_lr.accuracies, 'k-', label = \"Training Accuracies - LR\")\n",
    "plt.plot(acc_lr.test_accuracies, 'b-', label = \"Testing Accuracies - LR\")\n",
    "plt.legend()"
   ]
  },
  {
   "cell_type": "markdown",
   "id": "80dfb35c",
   "metadata": {
    "papermill": {
     "duration": 0.042442,
     "end_time": "2021-11-28T00:25:14.901887",
     "exception": false,
     "start_time": "2021-11-28T00:25:14.859445",
     "status": "completed"
    },
    "tags": []
   },
   "source": [
    "#### Plotting the outputs of this layer of the NN.\n"
   ]
  },
  {
   "cell_type": "code",
   "execution_count": 25,
   "id": "45eb2ff5",
   "metadata": {
    "execution": {
     "iopub.execute_input": "2021-11-28T00:25:15.007737Z",
     "iopub.status.busy": "2021-11-28T00:25:15.006864Z",
     "iopub.status.idle": "2021-11-28T00:25:15.019571Z",
     "shell.execute_reply": "2021-11-28T00:25:15.019996Z"
    },
    "papermill": {
     "duration": 0.076032,
     "end_time": "2021-11-28T00:25:15.020137",
     "exception": false,
     "start_time": "2021-11-28T00:25:14.944105",
     "status": "completed"
    },
    "tags": []
   },
   "outputs": [],
   "source": [
    "new_model = Model(layers[:-2])\n",
    "testing_plot = new_model(testing_data_x)"
   ]
  },
  {
   "cell_type": "code",
   "execution_count": 26,
   "id": "4c0a5485",
   "metadata": {
    "execution": {
     "iopub.execute_input": "2021-11-28T00:25:15.109150Z",
     "iopub.status.busy": "2021-11-28T00:25:15.108615Z",
     "iopub.status.idle": "2021-11-28T00:25:15.316974Z",
     "shell.execute_reply": "2021-11-28T00:25:15.316471Z"
    },
    "papermill": {
     "duration": 0.254332,
     "end_time": "2021-11-28T00:25:15.317111",
     "exception": false,
     "start_time": "2021-11-28T00:25:15.062779",
     "status": "completed"
    },
    "tags": []
   },
   "outputs": [
    {
     "data": {
      "text/plain": [
       "Text(0.5, 1.0, 'Outputs')"
      ]
     },
     "execution_count": 26,
     "metadata": {},
     "output_type": "execute_result"
    },
    {
     "data": {
      "image/png": "[encoded data removed]",
      "text/plain": [
       "<Figure size 576x504 with 1 Axes>"
      ]
     },
     "metadata": {
      "needs_background": "light"
     },
     "output_type": "display_data"
    }
   ],
   "source": [
    "# Plotting the scatter plot of points and color coding by class\n",
    "plt.figure(figsize=(8,7))\n",
    "plt.scatter(testing_plot[:,0], testing_plot[:,1], alpha = 0.1, c = y_test.ravel());\n",
    "plt.title('Outputs')"
   ]
  },
  {
   "cell_type": "markdown",
   "id": "a74fcf8f",
   "metadata": {
    "papermill": {
     "duration": 0.044526,
     "end_time": "2021-11-28T00:25:15.406830",
     "exception": false,
     "start_time": "2021-11-28T00:25:15.362304",
     "status": "completed"
    },
    "tags": []
   },
   "source": [
    "Probability contours"
   ]
  },
  {
   "cell_type": "code",
   "execution_count": 27,
   "id": "d0afc8e3",
   "metadata": {
    "execution": {
     "iopub.execute_input": "2021-11-28T00:25:15.502945Z",
     "iopub.status.busy": "2021-11-28T00:25:15.500445Z",
     "iopub.status.idle": "2021-11-28T00:25:15.512614Z",
     "shell.execute_reply": "2021-11-28T00:25:15.512202Z"
    },
    "papermill": {
     "duration": 0.061267,
     "end_time": "2021-11-28T00:25:15.512732",
     "exception": false,
     "start_time": "2021-11-28T00:25:15.451465",
     "status": "completed"
    },
    "tags": []
   },
   "outputs": [],
   "source": [
    "model_prob = Model(layers[-2:]) "
   ]
  },
  {
   "cell_type": "code",
   "execution_count": 28,
   "id": "9b96e238",
   "metadata": {
    "execution": {
     "iopub.execute_input": "2021-11-28T00:25:15.638936Z",
     "iopub.status.busy": "2021-11-28T00:25:15.638410Z",
     "iopub.status.idle": "2021-11-28T00:25:15.650591Z",
     "shell.execute_reply": "2021-11-28T00:25:15.650984Z"
    },
    "papermill": {
     "duration": 0.093552,
     "end_time": "2021-11-28T00:25:15.651116",
     "exception": false,
     "start_time": "2021-11-28T00:25:15.557564",
     "status": "completed"
    },
    "tags": []
   },
   "outputs": [],
   "source": [
    "#creating the x and y ranges according to the above generated plot.\n",
    "x_range = np.linspace(-4, 1, 100) \n",
    "y_range = np.linspace(-6, 6, 100) \n",
    "x_grid, y_grid = np.meshgrid(x_range, y_range) # x_grid and y_grig are of size 100 X 100\n",
    "\n",
    "# converting x_grid and y_grid to continuous arrays\n",
    "x_gridflat = np.ravel(x_grid)\n",
    "y_gridflat = np.ravel(y_grid)\n",
    "\n",
    "# The last layer of the current model takes two columns as input. Hence transpose of np.vstack() is required.\n",
    "X = np.vstack((x_gridflat, y_gridflat)).T\n",
    "\n",
    "prob_contour = model_prob(X).reshape(100,100) "
   ]
  },
  {
   "cell_type": "code",
   "execution_count": 29,
   "id": "da72499a",
   "metadata": {
    "execution": {
     "iopub.execute_input": "2021-11-28T00:25:15.752058Z",
     "iopub.status.busy": "2021-11-28T00:25:15.751541Z",
     "iopub.status.idle": "2021-11-28T00:25:15.984339Z",
     "shell.execute_reply": "2021-11-28T00:25:15.983851Z"
    },
    "papermill": {
     "duration": 0.287861,
     "end_time": "2021-11-28T00:25:15.984477",
     "exception": false,
     "start_time": "2021-11-28T00:25:15.696616",
     "status": "completed"
    },
    "tags": []
   },
   "outputs": [
    {
     "data": {
      "image/png": "[encoded data removed]",
      "text/plain": [
       "<Figure size 720x648 with 1 Axes>"
      ]
     },
     "metadata": {
      "needs_background": "light"
     },
     "output_type": "display_data"
    }
   ],
   "source": [
    "plt.figure(figsize=(10,9))\n",
    "plt.scatter(testing_plot[:,0], testing_plot[:,1], alpha = 0.1, c = y_test.ravel())\n",
    "contours = plt.contour(x_grid,y_grid,prob_contour)\n",
    "plt.title('Probability Contours')\n",
    "plt.clabel(contours, inline = True );"
   ]
  },
  {
   "cell_type": "code",
   "execution_count": null,
   "id": "e81b4ac7",
   "metadata": {
    "papermill": {
     "duration": 0.046728,
     "end_time": "2021-11-28T00:25:16.078968",
     "exception": false,
     "start_time": "2021-11-28T00:25:16.032240",
     "status": "completed"
    },
    "tags": []
   },
   "outputs": [],
   "source": []
  }
 ],
 "metadata": {
  "kernelspec": {
   "display_name": "Python 3",
   "language": "python",
   "name": "python3"
  },
  "language_info": {
   "codemirror_mode": {
    "name": "ipython",
    "version": 3
   },
   "file_extension": ".py",
   "mimetype": "text/x-python",
   "name": "python",
   "nbconvert_exporter": "python",
   "pygments_lexer": "ipython3",
   "version": "3.6.15"
  },
  "papermill": {
   "default_parameters": {},
   "duration": 96.25315,
   "end_time": "2021-11-28T00:25:16.534211",
   "environment_variables": {},
   "exception": null,
   "input_path": "2020-08-11-part2.ipynb",
   "output_path": "2020-08-11-part2.ipynb",
   "parameters": {},
   "start_time": "2021-11-28T00:23:40.281061",
   "version": "2.3.3"
  }
 },
 "nbformat": 4,
 "nbformat_minor": 5
}