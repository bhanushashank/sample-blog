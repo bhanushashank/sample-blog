{
 "cells": [
  {
   "cell_type": "markdown",
   "id": "98380cd3",
   "metadata": {
    "papermill": {
     "duration": 0.036956,
     "end_time": "2022-09-24T20:11:28.704716",
     "exception": false,
     "start_time": "2022-09-24T20:11:28.667760",
     "status": "completed"
    },
    "tags": []
   },
   "source": [
    "# Distinguish Your Own Digits (DYOD)"
   ]
  },
  {
   "cell_type": "markdown",
   "id": "ef31240d",
   "metadata": {
    "papermill": {
     "duration": 0.038998,
     "end_time": "2022-09-24T20:11:28.778857",
     "exception": false,
     "start_time": "2022-09-24T20:11:28.739859",
     "status": "completed"
    },
    "tags": []
   },
   "source": [
    "You are going to write a classifier that distinguishes between the number 3 and number 8."
   ]
  },
  {
   "cell_type": "code",
   "execution_count": 1,
   "id": "b15c8646",
   "metadata": {
    "execution": {
     "iopub.execute_input": "2022-09-24T20:11:28.857909Z",
     "iopub.status.busy": "2022-09-24T20:11:28.857134Z",
     "iopub.status.idle": "2022-09-24T20:11:28.870497Z",
     "shell.execute_reply": "2022-09-24T20:11:28.871066Z"
    },
    "papermill": {
     "duration": 0.059328,
     "end_time": "2022-09-24T20:11:28.871259",
     "exception": false,
     "start_time": "2022-09-24T20:11:28.811931",
     "status": "completed"
    },
    "tags": []
   },
   "outputs": [],
   "source": [
    "%load_ext autoreload\n",
    "%autoreload 2"
   ]
  },
  {
   "cell_type": "code",
   "execution_count": 2,
   "id": "22ef38dc",
   "metadata": {
    "execution": {
     "iopub.execute_input": "2022-09-24T20:11:28.937767Z",
     "iopub.status.busy": "2022-09-24T20:11:28.936984Z",
     "iopub.status.idle": "2022-09-24T20:11:29.627899Z",
     "shell.execute_reply": "2022-09-24T20:11:29.628609Z"
    },
    "papermill": {
     "duration": 0.726925,
     "end_time": "2022-09-24T20:11:29.628790",
     "exception": false,
     "start_time": "2022-09-24T20:11:28.901865",
     "status": "completed"
    },
    "tags": []
   },
   "outputs": [],
   "source": [
    "%matplotlib inline\n",
    "import numpy as np\n",
    "import matplotlib.pyplot as plt\n",
    "import pandas as pd"
   ]
  },
  {
   "cell_type": "markdown",
   "id": "ba036198",
   "metadata": {
    "papermill": {
     "duration": 0.029888,
     "end_time": "2022-09-24T20:11:29.689530",
     "exception": false,
     "start_time": "2022-09-24T20:11:29.659642",
     "status": "completed"
    },
    "tags": []
   },
   "source": [
    "From the command line run `pip install mnist`. This is a library that will help you bring down the mnist dataset. If you run this from a notebook, you need to put  `!pip install mnist` in a cell by itself."
   ]
  },
  {
   "cell_type": "code",
   "execution_count": 3,
   "id": "bb6ad8a1",
   "metadata": {
    "execution": {
     "iopub.execute_input": "2022-09-24T20:11:29.754816Z",
     "iopub.status.busy": "2022-09-24T20:11:29.754079Z",
     "iopub.status.idle": "2022-09-24T20:11:31.794844Z",
     "shell.execute_reply": "2022-09-24T20:11:31.794048Z"
    },
    "papermill": {
     "duration": 2.075298,
     "end_time": "2022-09-24T20:11:31.795002",
     "exception": false,
     "start_time": "2022-09-24T20:11:29.719704",
     "status": "completed"
    },
    "tags": []
   },
   "outputs": [
    {
     "name": "stdout",
     "output_type": "stream",
     "text": [
      "Collecting mnist\r\n"
     ]
    },
    {
     "name": "stdout",
     "output_type": "stream",
     "text": [
      "  Downloading mnist-0.2.2-py2.py3-none-any.whl (3.5 kB)\r\n",
      "Requirement already satisfied: numpy in /opt/hostedtoolcache/Python/3.6.15/x64/lib/python3.6/site-packages (from mnist) (1.19.5)\r\n"
     ]
    },
    {
     "name": "stdout",
     "output_type": "stream",
     "text": [
      "Installing collected packages: mnist\r\n"
     ]
    },
    {
     "name": "stdout",
     "output_type": "stream",
     "text": [
      "Successfully installed mnist-0.2.2\r\n"
     ]
    }
   ],
   "source": [
    "!pip install mnist"
   ]
  },
  {
   "cell_type": "markdown",
   "id": "69df9c9a",
   "metadata": {
    "papermill": {
     "duration": 0.031076,
     "end_time": "2022-09-24T20:11:31.857668",
     "exception": false,
     "start_time": "2022-09-24T20:11:31.826592",
     "status": "completed"
    },
    "tags": []
   },
   "source": [
    "## Preparing the Data"
   ]
  },
  {
   "cell_type": "code",
   "execution_count": 4,
   "id": "7f69d806",
   "metadata": {
    "execution": {
     "iopub.execute_input": "2022-09-24T20:11:31.941603Z",
     "iopub.status.busy": "2022-09-24T20:11:31.937029Z",
     "iopub.status.idle": "2022-09-24T20:11:31.958680Z",
     "shell.execute_reply": "2022-09-24T20:11:31.958117Z"
    },
    "papermill": {
     "duration": 0.063001,
     "end_time": "2022-09-24T20:11:31.958802",
     "exception": false,
     "start_time": "2022-09-24T20:11:31.895801",
     "status": "completed"
    },
    "tags": []
   },
   "outputs": [],
   "source": [
    "import mnist"
   ]
  },
  {
   "cell_type": "code",
   "execution_count": 5,
   "id": "a411e44f",
   "metadata": {
    "execution": {
     "iopub.execute_input": "2022-09-24T20:11:32.027576Z",
     "iopub.status.busy": "2022-09-24T20:11:32.026828Z",
     "iopub.status.idle": "2022-09-24T20:11:32.855469Z",
     "shell.execute_reply": "2022-09-24T20:11:32.854101Z"
    },
    "papermill": {
     "duration": 0.865808,
     "end_time": "2022-09-24T20:11:32.855619",
     "exception": false,
     "start_time": "2022-09-24T20:11:31.989811",
     "status": "completed"
    },
    "tags": []
   },
   "outputs": [],
   "source": [
    "train_images = mnist.train_images()\n",
    "train_labels = mnist.train_labels()"
   ]
  },
  {
   "cell_type": "code",
   "execution_count": 6,
   "id": "dceab3a5",
   "metadata": {
    "execution": {
     "iopub.execute_input": "2022-09-24T20:11:32.930092Z",
     "iopub.status.busy": "2022-09-24T20:11:32.928931Z",
     "iopub.status.idle": "2022-09-24T20:11:32.945328Z",
     "shell.execute_reply": "2022-09-24T20:11:32.944675Z"
    },
    "papermill": {
     "duration": 0.059108,
     "end_time": "2022-09-24T20:11:32.945459",
     "exception": false,
     "start_time": "2022-09-24T20:11:32.886351",
     "status": "completed"
    },
    "tags": []
   },
   "outputs": [
    {
     "data": {
      "text/plain": [
       "((60000, 28, 28), (60000,))"
      ]
     },
     "execution_count": 6,
     "metadata": {},
     "output_type": "execute_result"
    }
   ],
   "source": [
    "train_images.shape, train_labels.shape"
   ]
  },
  {
   "cell_type": "code",
   "execution_count": 7,
   "id": "f50dc2bb",
   "metadata": {
    "execution": {
     "iopub.execute_input": "2022-09-24T20:11:33.014122Z",
     "iopub.status.busy": "2022-09-24T20:11:33.013353Z",
     "iopub.status.idle": "2022-09-24T20:11:33.146678Z",
     "shell.execute_reply": "2022-09-24T20:11:33.146028Z"
    },
    "papermill": {
     "duration": 0.169457,
     "end_time": "2022-09-24T20:11:33.146933",
     "exception": false,
     "start_time": "2022-09-24T20:11:32.977476",
     "status": "completed"
    },
    "tags": []
   },
   "outputs": [],
   "source": [
    "test_images = mnist.test_images()\n",
    "test_labels = mnist.test_labels()"
   ]
  },
  {
   "cell_type": "code",
   "execution_count": 8,
   "id": "fc38cf1b",
   "metadata": {
    "execution": {
     "iopub.execute_input": "2022-09-24T20:11:33.215706Z",
     "iopub.status.busy": "2022-09-24T20:11:33.214869Z",
     "iopub.status.idle": "2022-09-24T20:11:33.233138Z",
     "shell.execute_reply": "2022-09-24T20:11:33.232483Z"
    },
    "papermill": {
     "duration": 0.053704,
     "end_time": "2022-09-24T20:11:33.233268",
     "exception": false,
     "start_time": "2022-09-24T20:11:33.179564",
     "status": "completed"
    },
    "tags": []
   },
   "outputs": [
    {
     "data": {
      "text/plain": [
       "((10000, 28, 28), (10000,))"
      ]
     },
     "execution_count": 8,
     "metadata": {},
     "output_type": "execute_result"
    }
   ],
   "source": [
    "test_images.shape, test_labels.shape"
   ]
  },
  {
   "cell_type": "code",
   "execution_count": 9,
   "id": "f9ed8fe0",
   "metadata": {
    "execution": {
     "iopub.execute_input": "2022-09-24T20:11:33.310586Z",
     "iopub.status.busy": "2022-09-24T20:11:33.309852Z",
     "iopub.status.idle": "2022-09-24T20:11:33.491356Z",
     "shell.execute_reply": "2022-09-24T20:11:33.491917Z"
    },
    "papermill": {
     "duration": 0.225876,
     "end_time": "2022-09-24T20:11:33.492095",
     "exception": false,
     "start_time": "2022-09-24T20:11:33.266219",
     "status": "completed"
    },
    "tags": []
   },
   "outputs": [
    {
     "name": "stdout",
     "output_type": "stream",
     "text": [
      "2\n"
     ]
    },
    {
     "data": {
      "text/plain": [
       "<matplotlib.image.AxesImage at 0x7f87757c7c88>"
      ]
     },
     "execution_count": 9,
     "metadata": {},
     "output_type": "execute_result"
    },
    {
     "data": {
      "image/png": "[encoded data removed]",
      "text/plain": [
       "<Figure size 432x288 with 1 Axes>"
      ]
     },
     "metadata": {
      "needs_background": "light"
     },
     "output_type": "display_data"
    }
   ],
   "source": [
    "image_index = 7776 # You may select anything up to 60,000\n",
    "print(train_labels[image_index]) \n",
    "plt.imshow(train_images[image_index], cmap='Greys')"
   ]
  },
  {
   "cell_type": "markdown",
   "id": "a8d2388d",
   "metadata": {
    "papermill": {
     "duration": 0.033629,
     "end_time": "2022-09-24T20:11:33.559163",
     "exception": false,
     "start_time": "2022-09-24T20:11:33.525534",
     "status": "completed"
    },
    "tags": []
   },
   "source": [
    "## Filter data to get 3 and 8 out"
   ]
  },
  {
   "cell_type": "code",
   "execution_count": 10,
   "id": "776f7fc7",
   "metadata": {
    "execution": {
     "iopub.execute_input": "2022-09-24T20:11:33.644079Z",
     "iopub.status.busy": "2022-09-24T20:11:33.639296Z",
     "iopub.status.idle": "2022-09-24T20:11:33.656308Z",
     "shell.execute_reply": "2022-09-24T20:11:33.655569Z"
    },
    "papermill": {
     "duration": 0.063933,
     "end_time": "2022-09-24T20:11:33.656471",
     "exception": false,
     "start_time": "2022-09-24T20:11:33.592538",
     "status": "completed"
    },
    "tags": []
   },
   "outputs": [],
   "source": [
    "train_filter = np.where((train_labels == 3 ) | (train_labels == 8))\n",
    "test_filter = np.where((test_labels == 3) | (test_labels == 8))\n",
    "X_train, y_train = train_images[train_filter], train_labels[train_filter]\n",
    "X_test, y_test = test_images[test_filter], test_labels[test_filter]"
   ]
  },
  {
   "cell_type": "markdown",
   "id": "948f0b7e",
   "metadata": {
    "papermill": {
     "duration": 0.032397,
     "end_time": "2022-09-24T20:11:33.722251",
     "exception": false,
     "start_time": "2022-09-24T20:11:33.689854",
     "status": "completed"
    },
    "tags": []
   },
   "source": [
    "We normalize the pizel values in the 0 to 1 range"
   ]
  },
  {
   "cell_type": "code",
   "execution_count": 11,
   "id": "ee4c2166",
   "metadata": {
    "execution": {
     "iopub.execute_input": "2022-09-24T20:11:33.797732Z",
     "iopub.status.busy": "2022-09-24T20:11:33.792128Z",
     "iopub.status.idle": "2022-09-24T20:11:33.861164Z",
     "shell.execute_reply": "2022-09-24T20:11:33.860506Z"
    },
    "papermill": {
     "duration": 0.106226,
     "end_time": "2022-09-24T20:11:33.861324",
     "exception": false,
     "start_time": "2022-09-24T20:11:33.755098",
     "status": "completed"
    },
    "tags": []
   },
   "outputs": [],
   "source": [
    "X_train = X_train/255.\n",
    "X_test = X_test/255."
   ]
  },
  {
   "cell_type": "markdown",
   "id": "ddcf4fab",
   "metadata": {
    "papermill": {
     "duration": 0.03243,
     "end_time": "2022-09-24T20:11:33.927287",
     "exception": false,
     "start_time": "2022-09-24T20:11:33.894857",
     "status": "completed"
    },
    "tags": []
   },
   "source": [
    "And setup the labels as 1 (when the digit is 3) and 0 (when the digit is 8)"
   ]
  },
  {
   "cell_type": "code",
   "execution_count": 12,
   "id": "7dc908f2",
   "metadata": {
    "execution": {
     "iopub.execute_input": "2022-09-24T20:11:34.004730Z",
     "iopub.status.busy": "2022-09-24T20:11:34.003984Z",
     "iopub.status.idle": "2022-09-24T20:11:34.015892Z",
     "shell.execute_reply": "2022-09-24T20:11:34.015244Z"
    },
    "papermill": {
     "duration": 0.055844,
     "end_time": "2022-09-24T20:11:34.016026",
     "exception": false,
     "start_time": "2022-09-24T20:11:33.960182",
     "status": "completed"
    },
    "tags": []
   },
   "outputs": [],
   "source": [
    "y_train = 1*(y_train==3)\n",
    "y_test = 1*(y_test==3)"
   ]
  },
  {
   "cell_type": "code",
   "execution_count": 13,
   "id": "01e4e969",
   "metadata": {
    "execution": {
     "iopub.execute_input": "2022-09-24T20:11:34.115502Z",
     "iopub.status.busy": "2022-09-24T20:11:34.114785Z",
     "iopub.status.idle": "2022-09-24T20:11:34.119220Z",
     "shell.execute_reply": "2022-09-24T20:11:34.118624Z"
    },
    "papermill": {
     "duration": 0.068126,
     "end_time": "2022-09-24T20:11:34.119353",
     "exception": false,
     "start_time": "2022-09-24T20:11:34.051227",
     "status": "completed"
    },
    "tags": []
   },
   "outputs": [
    {
     "data": {
      "text/plain": [
       "((11982, 28, 28), (1984, 28, 28))"
      ]
     },
     "execution_count": 13,
     "metadata": {},
     "output_type": "execute_result"
    }
   ],
   "source": [
    "X_train.shape, X_test.shape"
   ]
  },
  {
   "cell_type": "markdown",
   "id": "5ccf3f85",
   "metadata": {
    "papermill": {
     "duration": 0.03364,
     "end_time": "2022-09-24T20:11:34.186398",
     "exception": false,
     "start_time": "2022-09-24T20:11:34.152758",
     "status": "completed"
    },
    "tags": []
   },
   "source": [
    "We reshape the data to flatten the image pixels into a set of features or co-variates:"
   ]
  },
  {
   "cell_type": "code",
   "execution_count": 14,
   "id": "5286a4a3",
   "metadata": {
    "execution": {
     "iopub.execute_input": "2022-09-24T20:11:34.259049Z",
     "iopub.status.busy": "2022-09-24T20:11:34.258288Z",
     "iopub.status.idle": "2022-09-24T20:11:34.273915Z",
     "shell.execute_reply": "2022-09-24T20:11:34.274546Z"
    },
    "papermill": {
     "duration": 0.055392,
     "end_time": "2022-09-24T20:11:34.274689",
     "exception": false,
     "start_time": "2022-09-24T20:11:34.219297",
     "status": "completed"
    },
    "tags": []
   },
   "outputs": [
    {
     "data": {
      "text/plain": [
       "((11982, 784), (1984, 784))"
      ]
     },
     "execution_count": 14,
     "metadata": {},
     "output_type": "execute_result"
    }
   ],
   "source": [
    "X_train = X_train.reshape(X_train.shape[0], -1)\n",
    "X_test = X_test.reshape(X_test.shape[0], -1)\n",
    "X_train.shape, X_test.shape"
   ]
  },
  {
   "cell_type": "code",
   "execution_count": 15,
   "id": "73c5f88a",
   "metadata": {
    "execution": {
     "iopub.execute_input": "2022-09-24T20:11:34.350869Z",
     "iopub.status.busy": "2022-09-24T20:11:34.350113Z",
     "iopub.status.idle": "2022-09-24T20:11:34.371325Z",
     "shell.execute_reply": "2022-09-24T20:11:34.371914Z"
    },
    "papermill": {
     "duration": 0.062617,
     "end_time": "2022-09-24T20:11:34.372064",
     "exception": false,
     "start_time": "2022-09-24T20:11:34.309447",
     "status": "completed"
    },
    "tags": []
   },
   "outputs": [],
   "source": [
    "#Impoting functions from 'Kudzu'\n",
    "from kudzu.model import Model\n",
    "from kudzu.train import Learner\n",
    "from kudzu.optim import GD\n",
    "from kudzu.data import Data, Sampler,Dataloader\n",
    "\n",
    "from kudzu.callbacks import AccCallback\n",
    "from kudzu.callbacks import ClfCallback\n",
    "\n",
    "from kudzu.loss import MSE\n",
    "\n",
    "from kudzu.layer import Sigmoid,Relu\n",
    "from kudzu.layer import Affine"
   ]
  },
  {
   "cell_type": "markdown",
   "id": "bc01172a",
   "metadata": {
    "papermill": {
     "duration": 0.032946,
     "end_time": "2022-09-24T20:11:34.438463",
     "exception": false,
     "start_time": "2022-09-24T20:11:34.405517",
     "status": "completed"
    },
    "tags": []
   },
   "source": [
    "### Let us create a `Config` class, to store important parameters. \n",
    "This class essentially plays the role of a dictionary."
   ]
  },
  {
   "cell_type": "code",
   "execution_count": 16,
   "id": "978281aa",
   "metadata": {
    "execution": {
     "iopub.execute_input": "2022-09-24T20:11:34.510607Z",
     "iopub.status.busy": "2022-09-24T20:11:34.509824Z",
     "iopub.status.idle": "2022-09-24T20:11:34.522768Z",
     "shell.execute_reply": "2022-09-24T20:11:34.522199Z"
    },
    "papermill": {
     "duration": 0.051532,
     "end_time": "2022-09-24T20:11:34.522883",
     "exception": false,
     "start_time": "2022-09-24T20:11:34.471351",
     "status": "completed"
    },
    "tags": []
   },
   "outputs": [],
   "source": [
    "class Config:\n",
    "    pass\n",
    "config = Config()\n",
    "config.lr = 0.001\n",
    "config.num_epochs = 250\n",
    "config.bs = 50"
   ]
  },
  {
   "cell_type": "markdown",
   "id": "1385fa59",
   "metadata": {
    "papermill": {
     "duration": 0.032505,
     "end_time": "2022-09-24T20:11:34.591888",
     "exception": false,
     "start_time": "2022-09-24T20:11:34.559383",
     "status": "completed"
    },
    "tags": []
   },
   "source": [
    "### Running Models with the Training data\n",
    "Details about the network layers:\n",
    "- A first affine layer has 784 inputs and does 100 affine transforms. These are followed by a Relu\n",
    "- A second affine layer has 100 inputs from the 100 activations of the past layer, and does 100 affine transforms. These are followed by a Relu\n",
    "- A third affine layer has 100 activations and does 2 affine transformations to create an embedding for visualization. There is no non-linearity here.\n",
    "- A final \"logistic regression\" which has an affine transform from 2 inputs to 1 output, which is squeezed through a sigmoid.\n"
   ]
  },
  {
   "cell_type": "code",
   "execution_count": 17,
   "id": "2b9c66db",
   "metadata": {
    "execution": {
     "iopub.execute_input": "2022-09-24T20:11:34.665555Z",
     "iopub.status.busy": "2022-09-24T20:11:34.664777Z",
     "iopub.status.idle": "2022-09-24T20:11:34.676548Z",
     "shell.execute_reply": "2022-09-24T20:11:34.677298Z"
    },
    "papermill": {
     "duration": 0.052809,
     "end_time": "2022-09-24T20:11:34.677450",
     "exception": false,
     "start_time": "2022-09-24T20:11:34.624641",
     "status": "completed"
    },
    "tags": []
   },
   "outputs": [],
   "source": [
    "data = Data(X_train, y_train.reshape(-1,1))\n",
    "sampler = Sampler(data, config.bs, shuffle=True)\n",
    "\n",
    "dl = Dataloader(data, sampler)\n",
    "\n",
    "opt = GD(config.lr)\n",
    "loss = MSE()"
   ]
  },
  {
   "cell_type": "code",
   "execution_count": 18,
   "id": "b275e4c2",
   "metadata": {
    "execution": {
     "iopub.execute_input": "2022-09-24T20:11:34.747675Z",
     "iopub.status.busy": "2022-09-24T20:11:34.746945Z",
     "iopub.status.idle": "2022-09-24T20:11:34.760325Z",
     "shell.execute_reply": "2022-09-24T20:11:34.759733Z"
    },
    "papermill": {
     "duration": 0.049548,
     "end_time": "2022-09-24T20:11:34.760451",
     "exception": false,
     "start_time": "2022-09-24T20:11:34.710903",
     "status": "completed"
    },
    "tags": []
   },
   "outputs": [],
   "source": [
    "training_data_x = X_train\n",
    "testing_data_x = X_test\n",
    "training_data_y = y_train.reshape(-1,1)\n",
    "testing_data_y = y_test.reshape(-1,1)"
   ]
  },
  {
   "cell_type": "code",
   "execution_count": 19,
   "id": "76951160",
   "metadata": {
    "execution": {
     "iopub.execute_input": "2022-09-24T20:11:34.834924Z",
     "iopub.status.busy": "2022-09-24T20:11:34.834173Z",
     "iopub.status.idle": "2022-09-24T20:11:34.850591Z",
     "shell.execute_reply": "2022-09-24T20:11:34.851263Z"
    },
    "papermill": {
     "duration": 0.056564,
     "end_time": "2022-09-24T20:11:34.851411",
     "exception": false,
     "start_time": "2022-09-24T20:11:34.794847",
     "status": "completed"
    },
    "tags": []
   },
   "outputs": [
    {
     "name": "stdout",
     "output_type": "stream",
     "text": [
      "xavier\n",
      "xavier\n",
      "xavier\n",
      "xavier\n",
      "xavier\n"
     ]
    }
   ],
   "source": [
    "layers = [Affine(\"first\", 784, 100), Relu(\"first\"), Affine(\"second\", 100, 100), Relu(\"second\"), Affine(\"third\", 100, 2), Affine(\"last\", 2, 1), Sigmoid(\"last\")]\n",
    "model_nn = Model(layers)\n",
    "model_lr = Model([Affine(\"logits\", 784, 1), Sigmoid(\"sigmoid\")])"
   ]
  },
  {
   "cell_type": "code",
   "execution_count": 20,
   "id": "6eede77a",
   "metadata": {
    "execution": {
     "iopub.execute_input": "2022-09-24T20:11:34.935723Z",
     "iopub.status.busy": "2022-09-24T20:11:34.925437Z",
     "iopub.status.idle": "2022-09-24T20:11:34.941421Z",
     "shell.execute_reply": "2022-09-24T20:11:34.942117Z"
    },
    "papermill": {
     "duration": 0.057896,
     "end_time": "2022-09-24T20:11:34.942259",
     "exception": false,
     "start_time": "2022-09-24T20:11:34.884363",
     "status": "completed"
    },
    "tags": []
   },
   "outputs": [],
   "source": [
    "nn_learner = Learner(loss, model_nn, opt, config.num_epochs)\n",
    "acc_nn = ClfCallback(nn_learner, config.bs, training_data_x , testing_data_x, training_data_y, testing_data_y)\n",
    "nn_learner.set_callbacks([acc_nn])"
   ]
  },
  {
   "cell_type": "code",
   "execution_count": 21,
   "id": "877b6cc7",
   "metadata": {
    "execution": {
     "iopub.execute_input": "2022-09-24T20:11:35.021234Z",
     "iopub.status.busy": "2022-09-24T20:11:35.016051Z",
     "iopub.status.idle": "2022-09-24T20:11:35.027160Z",
     "shell.execute_reply": "2022-09-24T20:11:35.026622Z"
    },
    "papermill": {
     "duration": 0.050921,
     "end_time": "2022-09-24T20:11:35.027271",
     "exception": false,
     "start_time": "2022-09-24T20:11:34.976350",
     "status": "completed"
    },
    "tags": []
   },
   "outputs": [],
   "source": [
    "lr_learner = Learner(loss, model_lr, opt, config.num_epochs)\n",
    "acc_lr = ClfCallback(lr_learner, config.bs, training_data_x , testing_data_x, training_data_y, testing_data_y)\n",
    "lr_learner.set_callbacks([acc_lr])"
   ]
  },
  {
   "cell_type": "code",
   "execution_count": 22,
   "id": "d9b133c3",
   "metadata": {
    "execution": {
     "iopub.execute_input": "2022-09-24T20:11:35.103144Z",
     "iopub.status.busy": "2022-09-24T20:11:35.097633Z",
     "iopub.status.idle": "2022-09-24T20:13:42.833326Z",
     "shell.execute_reply": "2022-09-24T20:13:42.834407Z"
    },
    "papermill": {
     "duration": 127.774921,
     "end_time": "2022-09-24T20:13:42.834584",
     "exception": false,
     "start_time": "2022-09-24T20:11:35.059663",
     "status": "completed"
    },
    "tags": []
   },
   "outputs": [
    {
     "name": "stdout",
     "output_type": "stream",
     "text": [
      "Epoch 0, Loss 0.2471\n",
      "Training Accuracy: 0.5083, Testing Accuracy: 0.5146\n",
      "\n"
     ]
    },
    {
     "name": "stdout",
     "output_type": "stream",
     "text": [
      "Epoch 10, Loss 0.1263\n",
      "Training Accuracy: 0.8924, Testing Accuracy: 0.9017\n",
      "\n"
     ]
    },
    {
     "name": "stdout",
     "output_type": "stream",
     "text": [
      "Epoch 20, Loss 0.071\n",
      "Training Accuracy: 0.9247, Testing Accuracy: 0.9375\n",
      "\n"
     ]
    },
    {
     "name": "stdout",
     "output_type": "stream",
     "text": [
      "Epoch 30, Loss 0.052\n",
      "Training Accuracy: 0.9419, Testing Accuracy: 0.9531\n",
      "\n"
     ]
    },
    {
     "name": "stdout",
     "output_type": "stream",
     "text": [
      "Epoch 40, Loss 0.0431\n",
      "Training Accuracy: 0.9513, Testing Accuracy: 0.9592\n",
      "\n"
     ]
    },
    {
     "name": "stdout",
     "output_type": "stream",
     "text": [
      "Epoch 50, Loss 0.0381\n",
      "Training Accuracy: 0.9560, Testing Accuracy: 0.9637\n",
      "\n"
     ]
    },
    {
     "name": "stdout",
     "output_type": "stream",
     "text": [
      "Epoch 60, Loss 0.0349\n",
      "Training Accuracy: 0.9590, Testing Accuracy: 0.9662\n",
      "\n"
     ]
    },
    {
     "name": "stdout",
     "output_type": "stream",
     "text": [
      "Epoch 70, Loss 0.0326\n",
      "Training Accuracy: 0.9619, Testing Accuracy: 0.9688\n",
      "\n"
     ]
    },
    {
     "name": "stdout",
     "output_type": "stream",
     "text": [
      "Epoch 80, Loss 0.0309\n",
      "Training Accuracy: 0.9639, Testing Accuracy: 0.9693\n",
      "\n"
     ]
    },
    {
     "name": "stdout",
     "output_type": "stream",
     "text": [
      "Epoch 90, Loss 0.0295\n",
      "Training Accuracy: 0.9658, Testing Accuracy: 0.9693\n",
      "\n"
     ]
    },
    {
     "name": "stdout",
     "output_type": "stream",
     "text": [
      "Epoch 100, Loss 0.0283\n",
      "Training Accuracy: 0.9665, Testing Accuracy: 0.9693\n",
      "\n"
     ]
    },
    {
     "name": "stdout",
     "output_type": "stream",
     "text": [
      "Epoch 110, Loss 0.0274\n",
      "Training Accuracy: 0.9679, Testing Accuracy: 0.9703\n",
      "\n"
     ]
    },
    {
     "name": "stdout",
     "output_type": "stream",
     "text": [
      "Epoch 120, Loss 0.0265\n",
      "Training Accuracy: 0.9688, Testing Accuracy: 0.9688\n",
      "\n"
     ]
    },
    {
     "name": "stdout",
     "output_type": "stream",
     "text": [
      "Epoch 130, Loss 0.0258\n",
      "Training Accuracy: 0.9698, Testing Accuracy: 0.9703\n",
      "\n"
     ]
    },
    {
     "name": "stdout",
     "output_type": "stream",
     "text": [
      "Epoch 140, Loss 0.0251\n",
      "Training Accuracy: 0.9703, Testing Accuracy: 0.9713\n",
      "\n"
     ]
    },
    {
     "name": "stdout",
     "output_type": "stream",
     "text": [
      "Epoch 150, Loss 0.0245\n",
      "Training Accuracy: 0.9710, Testing Accuracy: 0.9708\n",
      "\n"
     ]
    },
    {
     "name": "stdout",
     "output_type": "stream",
     "text": [
      "Epoch 160, Loss 0.0239\n",
      "Training Accuracy: 0.9720, Testing Accuracy: 0.9723\n",
      "\n"
     ]
    },
    {
     "name": "stdout",
     "output_type": "stream",
     "text": [
      "Epoch 170, Loss 0.0234\n",
      "Training Accuracy: 0.9721, Testing Accuracy: 0.9713\n",
      "\n"
     ]
    },
    {
     "name": "stdout",
     "output_type": "stream",
     "text": [
      "Epoch 180, Loss 0.0229\n",
      "Training Accuracy: 0.9729, Testing Accuracy: 0.9723\n",
      "\n"
     ]
    },
    {
     "name": "stdout",
     "output_type": "stream",
     "text": [
      "Epoch 190, Loss 0.0224\n",
      "Training Accuracy: 0.9738, Testing Accuracy: 0.9728\n",
      "\n"
     ]
    },
    {
     "name": "stdout",
     "output_type": "stream",
     "text": [
      "Epoch 200, Loss 0.022\n",
      "Training Accuracy: 0.9744, Testing Accuracy: 0.9728\n",
      "\n"
     ]
    },
    {
     "name": "stdout",
     "output_type": "stream",
     "text": [
      "Epoch 210, Loss 0.0216\n",
      "Training Accuracy: 0.9748, Testing Accuracy: 0.9733\n",
      "\n"
     ]
    },
    {
     "name": "stdout",
     "output_type": "stream",
     "text": [
      "Epoch 220, Loss 0.0212\n",
      "Training Accuracy: 0.9757, Testing Accuracy: 0.9733\n",
      "\n"
     ]
    },
    {
     "name": "stdout",
     "output_type": "stream",
     "text": [
      "Epoch 230, Loss 0.0208\n",
      "Training Accuracy: 0.9762, Testing Accuracy: 0.9738\n",
      "\n"
     ]
    },
    {
     "name": "stdout",
     "output_type": "stream",
     "text": [
      "Epoch 240, Loss 0.0204\n",
      "Training Accuracy: 0.9767, Testing Accuracy: 0.9738\n",
      "\n"
     ]
    },
    {
     "data": {
      "text/plain": [
       "0.02527880890642353"
      ]
     },
     "execution_count": 22,
     "metadata": {},
     "output_type": "execute_result"
    }
   ],
   "source": [
    "nn_learner.train_loop(dl)"
   ]
  },
  {
   "cell_type": "code",
   "execution_count": 23,
   "id": "e0163366",
   "metadata": {
    "execution": {
     "iopub.execute_input": "2022-09-24T20:13:42.935043Z",
     "iopub.status.busy": "2022-09-24T20:13:42.934267Z",
     "iopub.status.idle": "2022-09-24T20:14:01.437897Z",
     "shell.execute_reply": "2022-09-24T20:14:01.438935Z"
    },
    "papermill": {
     "duration": 18.562068,
     "end_time": "2022-09-24T20:14:01.439100",
     "exception": false,
     "start_time": "2022-09-24T20:13:42.877032",
     "status": "completed"
    },
    "tags": []
   },
   "outputs": [
    {
     "name": "stdout",
     "output_type": "stream",
     "text": [
      "Epoch 0, Loss 0.2617\n",
      "Training Accuracy: 0.5946, Testing Accuracy: 0.5953\n",
      "\n"
     ]
    },
    {
     "name": "stdout",
     "output_type": "stream",
     "text": [
      "Epoch 10, Loss 0.1043\n",
      "Training Accuracy: 0.9074, Testing Accuracy: 0.9133\n",
      "\n"
     ]
    },
    {
     "name": "stdout",
     "output_type": "stream",
     "text": [
      "Epoch 20, Loss 0.0795\n",
      "Training Accuracy: 0.9273, Testing Accuracy: 0.9360\n",
      "\n"
     ]
    },
    {
     "name": "stdout",
     "output_type": "stream",
     "text": [
      "Epoch 30, Loss 0.0682\n",
      "Training Accuracy: 0.9368, Testing Accuracy: 0.9471\n",
      "\n"
     ]
    },
    {
     "name": "stdout",
     "output_type": "stream",
     "text": [
      "Epoch 40, Loss 0.0615\n",
      "Training Accuracy: 0.9426, Testing Accuracy: 0.9511\n",
      "\n"
     ]
    },
    {
     "name": "stdout",
     "output_type": "stream",
     "text": [
      "Epoch 50, Loss 0.0569\n",
      "Training Accuracy: 0.9461, Testing Accuracy: 0.9546\n",
      "\n"
     ]
    },
    {
     "name": "stdout",
     "output_type": "stream",
     "text": [
      "Epoch 60, Loss 0.0536\n",
      "Training Accuracy: 0.9479, Testing Accuracy: 0.9556\n",
      "\n"
     ]
    },
    {
     "name": "stdout",
     "output_type": "stream",
     "text": [
      "Epoch 70, Loss 0.0511\n",
      "Training Accuracy: 0.9494, Testing Accuracy: 0.9582\n",
      "\n"
     ]
    },
    {
     "name": "stdout",
     "output_type": "stream",
     "text": [
      "Epoch 80, Loss 0.049\n",
      "Training Accuracy: 0.9501, Testing Accuracy: 0.9592\n",
      "\n"
     ]
    },
    {
     "name": "stdout",
     "output_type": "stream",
     "text": [
      "Epoch 90, Loss 0.0473\n",
      "Training Accuracy: 0.9509, Testing Accuracy: 0.9612\n",
      "\n"
     ]
    },
    {
     "name": "stdout",
     "output_type": "stream",
     "text": [
      "Epoch 100, Loss 0.0459\n",
      "Training Accuracy: 0.9523, Testing Accuracy: 0.9607\n",
      "\n"
     ]
    },
    {
     "name": "stdout",
     "output_type": "stream",
     "text": [
      "Epoch 110, Loss 0.0447\n",
      "Training Accuracy: 0.9534, Testing Accuracy: 0.9622\n",
      "\n"
     ]
    },
    {
     "name": "stdout",
     "output_type": "stream",
     "text": [
      "Epoch 120, Loss 0.0437\n",
      "Training Accuracy: 0.9543, Testing Accuracy: 0.9632\n",
      "\n"
     ]
    },
    {
     "name": "stdout",
     "output_type": "stream",
     "text": [
      "Epoch 130, Loss 0.0427\n",
      "Training Accuracy: 0.9551, Testing Accuracy: 0.9637\n",
      "\n"
     ]
    },
    {
     "name": "stdout",
     "output_type": "stream",
     "text": [
      "Epoch 140, Loss 0.0419\n",
      "Training Accuracy: 0.9562, Testing Accuracy: 0.9642\n",
      "\n"
     ]
    },
    {
     "name": "stdout",
     "output_type": "stream",
     "text": [
      "Epoch 150, Loss 0.0412\n",
      "Training Accuracy: 0.9565, Testing Accuracy: 0.9647\n",
      "\n"
     ]
    },
    {
     "name": "stdout",
     "output_type": "stream",
     "text": [
      "Epoch 160, Loss 0.0405\n",
      "Training Accuracy: 0.9572, Testing Accuracy: 0.9647\n",
      "\n"
     ]
    },
    {
     "name": "stdout",
     "output_type": "stream",
     "text": [
      "Epoch 170, Loss 0.0399\n",
      "Training Accuracy: 0.9574, Testing Accuracy: 0.9657\n",
      "\n"
     ]
    },
    {
     "name": "stdout",
     "output_type": "stream",
     "text": [
      "Epoch 180, Loss 0.0394\n",
      "Training Accuracy: 0.9577, Testing Accuracy: 0.9657\n",
      "\n"
     ]
    },
    {
     "name": "stdout",
     "output_type": "stream",
     "text": [
      "Epoch 190, Loss 0.0389\n",
      "Training Accuracy: 0.9579, Testing Accuracy: 0.9657\n",
      "\n"
     ]
    },
    {
     "name": "stdout",
     "output_type": "stream",
     "text": [
      "Epoch 200, Loss 0.0384\n",
      "Training Accuracy: 0.9583, Testing Accuracy: 0.9657\n",
      "\n"
     ]
    },
    {
     "name": "stdout",
     "output_type": "stream",
     "text": [
      "Epoch 210, Loss 0.0379\n",
      "Training Accuracy: 0.9588, Testing Accuracy: 0.9657\n",
      "\n"
     ]
    },
    {
     "name": "stdout",
     "output_type": "stream",
     "text": [
      "Epoch 220, Loss 0.0375\n",
      "Training Accuracy: 0.9589, Testing Accuracy: 0.9662\n",
      "\n"
     ]
    },
    {
     "name": "stdout",
     "output_type": "stream",
     "text": [
      "Epoch 230, Loss 0.0372\n",
      "Training Accuracy: 0.9594, Testing Accuracy: 0.9657\n",
      "\n"
     ]
    },
    {
     "name": "stdout",
     "output_type": "stream",
     "text": [
      "Epoch 240, Loss 0.0368\n",
      "Training Accuracy: 0.9598, Testing Accuracy: 0.9652\n",
      "\n"
     ]
    },
    {
     "data": {
      "text/plain": [
       "0.039730899549551786"
      ]
     },
     "execution_count": 23,
     "metadata": {},
     "output_type": "execute_result"
    }
   ],
   "source": [
    "lr_learner.train_loop(dl)"
   ]
  },
  {
   "cell_type": "code",
   "execution_count": 24,
   "id": "ca410940",
   "metadata": {
    "execution": {
     "iopub.execute_input": "2022-09-24T20:14:01.553622Z",
     "iopub.status.busy": "2022-09-24T20:14:01.552841Z",
     "iopub.status.idle": "2022-09-24T20:14:01.857714Z",
     "shell.execute_reply": "2022-09-24T20:14:01.856617Z"
    },
    "papermill": {
     "duration": 0.36583,
     "end_time": "2022-09-24T20:14:01.857865",
     "exception": false,
     "start_time": "2022-09-24T20:14:01.492035",
     "status": "completed"
    },
    "tags": []
   },
   "outputs": [
    {
     "data": {
      "text/plain": [
       "<matplotlib.legend.Legend at 0x7f8775334400>"
      ]
     },
     "execution_count": 24,
     "metadata": {},
     "output_type": "execute_result"
    },
    {
     "data": {
      "image/png": "[encoded data removed]",
      "text/plain": [
       "<Figure size 1080x720 with 1 Axes>"
      ]
     },
     "metadata": {
      "needs_background": "light"
     },
     "output_type": "display_data"
    }
   ],
   "source": [
    "#comparing the results of NN and LR\n",
    "plt.figure(figsize=(15,10))\n",
    "\n",
    "# Neural Network plots\n",
    "plt.plot(acc_nn.accuracies, 'r-', label = \"Training Accuracies - NN\")\n",
    "plt.plot(acc_nn.test_accuracies, 'g-', label = \"Testing Accuracies - NN\")\n",
    "\n",
    "# Logistic Regression plots\n",
    "plt.plot(acc_lr.accuracies, 'k-', label = \"Training Accuracies - LR\")\n",
    "plt.plot(acc_lr.test_accuracies, 'b-', label = \"Testing Accuracies - LR\")\n",
    "plt.legend()"
   ]
  },
  {
   "cell_type": "markdown",
   "id": "80dfb35c",
   "metadata": {
    "papermill": {
     "duration": 0.051213,
     "end_time": "2022-09-24T20:14:01.962426",
     "exception": false,
     "start_time": "2022-09-24T20:14:01.911213",
     "status": "completed"
    },
    "tags": []
   },
   "source": [
    "#### Plotting the outputs of this layer of the NN.\n"
   ]
  },
  {
   "cell_type": "code",
   "execution_count": 25,
   "id": "45eb2ff5",
   "metadata": {
    "execution": {
     "iopub.execute_input": "2022-09-24T20:14:02.087973Z",
     "iopub.status.busy": "2022-09-24T20:14:02.086236Z",
     "iopub.status.idle": "2022-09-24T20:14:02.111878Z",
     "shell.execute_reply": "2022-09-24T20:14:02.112471Z"
    },
    "papermill": {
     "duration": 0.087402,
     "end_time": "2022-09-24T20:14:02.112631",
     "exception": false,
     "start_time": "2022-09-24T20:14:02.025229",
     "status": "completed"
    },
    "tags": []
   },
   "outputs": [],
   "source": [
    "new_model = Model(layers[:-2])\n",
    "testing_plot = new_model(testing_data_x)"
   ]
  },
  {
   "cell_type": "code",
   "execution_count": 26,
   "id": "4c0a5485",
   "metadata": {
    "execution": {
     "iopub.execute_input": "2022-09-24T20:14:02.233686Z",
     "iopub.status.busy": "2022-09-24T20:14:02.232425Z",
     "iopub.status.idle": "2022-09-24T20:14:02.481513Z",
     "shell.execute_reply": "2022-09-24T20:14:02.482072Z"
    },
    "papermill": {
     "duration": 0.316988,
     "end_time": "2022-09-24T20:14:02.482235",
     "exception": false,
     "start_time": "2022-09-24T20:14:02.165247",
     "status": "completed"
    },
    "tags": []
   },
   "outputs": [
    {
     "data": {
      "text/plain": [
       "Text(0.5, 1.0, 'Outputs')"
      ]
     },
     "execution_count": 26,
     "metadata": {},
     "output_type": "execute_result"
    },
    {
     "data": {
      "image/png": "[encoded data removed]",
      "text/plain": [
       "<Figure size 576x504 with 1 Axes>"
      ]
     },
     "metadata": {
      "needs_background": "light"
     },
     "output_type": "display_data"
    }
   ],
   "source": [
    "# Plotting the scatter plot of points and color coding by class\n",
    "plt.figure(figsize=(8,7))\n",
    "plt.scatter(testing_plot[:,0], testing_plot[:,1], alpha = 0.1, c = y_test.ravel());\n",
    "plt.title('Outputs')"
   ]
  },
  {
   "cell_type": "markdown",
   "id": "a74fcf8f",
   "metadata": {
    "papermill": {
     "duration": 0.072702,
     "end_time": "2022-09-24T20:14:02.611125",
     "exception": false,
     "start_time": "2022-09-24T20:14:02.538423",
     "status": "completed"
    },
    "tags": []
   },
   "source": [
    "Probability contours"
   ]
  },
  {
   "cell_type": "code",
   "execution_count": 27,
   "id": "d0afc8e3",
   "metadata": {
    "execution": {
     "iopub.execute_input": "2022-09-24T20:14:02.722949Z",
     "iopub.status.busy": "2022-09-24T20:14:02.722254Z",
     "iopub.status.idle": "2022-09-24T20:14:02.734476Z",
     "shell.execute_reply": "2022-09-24T20:14:02.735123Z"
    },
    "papermill": {
     "duration": 0.073061,
     "end_time": "2022-09-24T20:14:02.735259",
     "exception": false,
     "start_time": "2022-09-24T20:14:02.662198",
     "status": "completed"
    },
    "tags": []
   },
   "outputs": [],
   "source": [
    "model_prob = Model(layers[-2:]) "
   ]
  },
  {
   "cell_type": "code",
   "execution_count": 28,
   "id": "9b96e238",
   "metadata": {
    "execution": {
     "iopub.execute_input": "2022-09-24T20:14:02.841496Z",
     "iopub.status.busy": "2022-09-24T20:14:02.840722Z",
     "iopub.status.idle": "2022-09-24T20:14:02.854501Z",
     "shell.execute_reply": "2022-09-24T20:14:02.855031Z"
    },
    "papermill": {
     "duration": 0.070367,
     "end_time": "2022-09-24T20:14:02.855160",
     "exception": false,
     "start_time": "2022-09-24T20:14:02.784793",
     "status": "completed"
    },
    "tags": []
   },
   "outputs": [],
   "source": [
    "#creating the x and y ranges according to the above generated plot.\n",
    "x_range = np.linspace(-4, 1, 100) \n",
    "y_range = np.linspace(-6, 6, 100) \n",
    "x_grid, y_grid = np.meshgrid(x_range, y_range) # x_grid and y_grig are of size 100 X 100\n",
    "\n",
    "# converting x_grid and y_grid to continuous arrays\n",
    "x_gridflat = np.ravel(x_grid)\n",
    "y_gridflat = np.ravel(y_grid)\n",
    "\n",
    "# The last layer of the current model takes two columns as input. Hence transpose of np.vstack() is required.\n",
    "X = np.vstack((x_gridflat, y_gridflat)).T\n",
    "\n",
    "prob_contour = model_prob(X).reshape(100,100) "
   ]
  },
  {
   "cell_type": "code",
   "execution_count": 29,
   "id": "da72499a",
   "metadata": {
    "execution": {
     "iopub.execute_input": "2022-09-24T20:14:02.986587Z",
     "iopub.status.busy": "2022-09-24T20:14:02.983856Z",
     "iopub.status.idle": "2022-09-24T20:14:03.332185Z",
     "shell.execute_reply": "2022-09-24T20:14:03.332761Z"
    },
    "papermill": {
     "duration": 0.413228,
     "end_time": "2022-09-24T20:14:03.332918",
     "exception": false,
     "start_time": "2022-09-24T20:14:02.919690",
     "status": "completed"
    },
    "tags": []
   },
   "outputs": [
    {
     "data": {
      "image/png": "[encoded data removed]",
      "text/plain": [
       "<Figure size 720x648 with 1 Axes>"
      ]
     },
     "metadata": {
      "needs_background": "light"
     },
     "output_type": "display_data"
    }
   ],
   "source": [
    "plt.figure(figsize=(10,9))\n",
    "plt.scatter(testing_plot[:,0], testing_plot[:,1], alpha = 0.1, c = y_test.ravel())\n",
    "contours = plt.contour(x_grid,y_grid,prob_contour)\n",
    "plt.title('Probability Contours')\n",
    "plt.clabel(contours, inline = True );"
   ]
  },
  {
   "cell_type": "code",
   "execution_count": null,
   "id": "e81b4ac7",
   "metadata": {
    "papermill": {
     "duration": 0.056063,
     "end_time": "2022-09-24T20:14:03.445195",
     "exception": false,
     "start_time": "2022-09-24T20:14:03.389132",
     "status": "completed"
    },
    "tags": []
   },
   "outputs": [],
   "source": []
  }
 ],
 "metadata": {
  "kernelspec": {
   "display_name": "Python 3",
   "language": "python",
   "name": "python3"
  },
  "language_info": {
   "codemirror_mode": {
    "name": "ipython",
    "version": 3
   },
   "file_extension": ".py",
   "mimetype": "text/x-python",
   "name": "python",
   "nbconvert_exporter": "python",
   "pygments_lexer": "ipython3",
   "version": "3.6.15"
  },
  "papermill": {
   "default_parameters": {},
   "duration": 156.605958,
   "end_time": "2022-09-24T20:14:03.922552",
   "environment_variables": {},
   "exception": null,
   "input_path": "2020-08-11-part2.ipynb",
   "output_path": "2020-08-11-part2.ipynb",
   "parameters": {},
   "start_time": "2022-09-24T20:11:27.316594",
   "version": "2.3.3"
  }
 },
 "nbformat": 4,
 "nbformat_minor": 5
}