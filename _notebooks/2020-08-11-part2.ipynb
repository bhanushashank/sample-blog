{
 "cells": [
  {
   "cell_type": "markdown",
   "id": "98380cd3",
   "metadata": {
    "papermill": {
     "duration": 0.032004,
     "end_time": "2021-12-23T20:08:36.598513",
     "exception": false,
     "start_time": "2021-12-23T20:08:36.566509",
     "status": "completed"
    },
    "tags": []
   },
   "source": [
    "# Distinguish Your Own Digits (DYOD)"
   ]
  },
  {
   "cell_type": "markdown",
   "id": "ef31240d",
   "metadata": {
    "papermill": {
     "duration": 0.026559,
     "end_time": "2021-12-23T20:08:36.653990",
     "exception": false,
     "start_time": "2021-12-23T20:08:36.627431",
     "status": "completed"
    },
    "tags": []
   },
   "source": [
    "You are going to write a classifier that distinguishes between the number 3 and number 8."
   ]
  },
  {
   "cell_type": "code",
   "execution_count": 1,
   "id": "b15c8646",
   "metadata": {
    "execution": {
     "iopub.execute_input": "2021-12-23T20:08:36.716314Z",
     "iopub.status.busy": "2021-12-23T20:08:36.715740Z",
     "iopub.status.idle": "2021-12-23T20:08:36.727178Z",
     "shell.execute_reply": "2021-12-23T20:08:36.726657Z"
    },
    "papermill": {
     "duration": 0.048544,
     "end_time": "2021-12-23T20:08:36.727314",
     "exception": false,
     "start_time": "2021-12-23T20:08:36.678770",
     "status": "completed"
    },
    "tags": []
   },
   "outputs": [],
   "source": [
    "%load_ext autoreload\n",
    "%autoreload 2"
   ]
  },
  {
   "cell_type": "code",
   "execution_count": 2,
   "id": "22ef38dc",
   "metadata": {
    "execution": {
     "iopub.execute_input": "2021-12-23T20:08:36.784453Z",
     "iopub.status.busy": "2021-12-23T20:08:36.783343Z",
     "iopub.status.idle": "2021-12-23T20:08:37.415508Z",
     "shell.execute_reply": "2021-12-23T20:08:37.416039Z"
    },
    "papermill": {
     "duration": 0.663187,
     "end_time": "2021-12-23T20:08:37.416198",
     "exception": false,
     "start_time": "2021-12-23T20:08:36.753011",
     "status": "completed"
    },
    "tags": []
   },
   "outputs": [],
   "source": [
    "%matplotlib inline\n",
    "import numpy as np\n",
    "import matplotlib.pyplot as plt\n",
    "import pandas as pd"
   ]
  },
  {
   "cell_type": "markdown",
   "id": "ba036198",
   "metadata": {
    "papermill": {
     "duration": 0.025268,
     "end_time": "2021-12-23T20:08:37.466241",
     "exception": false,
     "start_time": "2021-12-23T20:08:37.440973",
     "status": "completed"
    },
    "tags": []
   },
   "source": [
    "From the command line run `pip install mnist`. This is a library that will help you bring down the mnist dataset. If you run this from a notebook, you need to put  `!pip install mnist` in a cell by itself."
   ]
  },
  {
   "cell_type": "code",
   "execution_count": 3,
   "id": "bb6ad8a1",
   "metadata": {
    "execution": {
     "iopub.execute_input": "2021-12-23T20:08:37.524432Z",
     "iopub.status.busy": "2021-12-23T20:08:37.523829Z",
     "iopub.status.idle": "2021-12-23T20:08:39.408479Z",
     "shell.execute_reply": "2021-12-23T20:08:39.409350Z"
    },
    "papermill": {
     "duration": 1.916769,
     "end_time": "2021-12-23T20:08:39.409616",
     "exception": false,
     "start_time": "2021-12-23T20:08:37.492847",
     "status": "completed"
    },
    "tags": []
   },
   "outputs": [
    {
     "name": "stdout",
     "output_type": "stream",
     "text": [
      "Collecting mnist\r\n",
      "  Downloading mnist-0.2.2-py2.py3-none-any.whl (3.5 kB)\r\n"
     ]
    },
    {
     "name": "stdout",
     "output_type": "stream",
     "text": [
      "Requirement already satisfied: numpy in /opt/hostedtoolcache/Python/3.6.15/x64/lib/python3.6/site-packages (from mnist) (1.19.5)\r\n"
     ]
    },
    {
     "name": "stdout",
     "output_type": "stream",
     "text": [
      "Installing collected packages: mnist\r\n",
      "Successfully installed mnist-0.2.2\r\n"
     ]
    }
   ],
   "source": [
    "!pip install mnist"
   ]
  },
  {
   "cell_type": "markdown",
   "id": "69df9c9a",
   "metadata": {
    "papermill": {
     "duration": 0.022835,
     "end_time": "2021-12-23T20:08:39.457153",
     "exception": false,
     "start_time": "2021-12-23T20:08:39.434318",
     "status": "completed"
    },
    "tags": []
   },
   "source": [
    "## Preparing the Data"
   ]
  },
  {
   "cell_type": "code",
   "execution_count": 4,
   "id": "7f69d806",
   "metadata": {
    "execution": {
     "iopub.execute_input": "2021-12-23T20:08:39.510470Z",
     "iopub.status.busy": "2021-12-23T20:08:39.509972Z",
     "iopub.status.idle": "2021-12-23T20:08:39.525472Z",
     "shell.execute_reply": "2021-12-23T20:08:39.525001Z"
    },
    "papermill": {
     "duration": 0.043916,
     "end_time": "2021-12-23T20:08:39.525617",
     "exception": false,
     "start_time": "2021-12-23T20:08:39.481701",
     "status": "completed"
    },
    "tags": []
   },
   "outputs": [],
   "source": [
    "import mnist"
   ]
  },
  {
   "cell_type": "code",
   "execution_count": 5,
   "id": "a411e44f",
   "metadata": {
    "execution": {
     "iopub.execute_input": "2021-12-23T20:08:39.580564Z",
     "iopub.status.busy": "2021-12-23T20:08:39.579973Z",
     "iopub.status.idle": "2021-12-23T20:08:40.257942Z",
     "shell.execute_reply": "2021-12-23T20:08:40.256986Z"
    },
    "papermill": {
     "duration": 0.707144,
     "end_time": "2021-12-23T20:08:40.258164",
     "exception": false,
     "start_time": "2021-12-23T20:08:39.551020",
     "status": "completed"
    },
    "tags": []
   },
   "outputs": [],
   "source": [
    "train_images = mnist.train_images()\n",
    "train_labels = mnist.train_labels()"
   ]
  },
  {
   "cell_type": "code",
   "execution_count": 6,
   "id": "dceab3a5",
   "metadata": {
    "execution": {
     "iopub.execute_input": "2021-12-23T20:08:40.312567Z",
     "iopub.status.busy": "2021-12-23T20:08:40.311621Z",
     "iopub.status.idle": "2021-12-23T20:08:40.328812Z",
     "shell.execute_reply": "2021-12-23T20:08:40.329365Z"
    },
    "papermill": {
     "duration": 0.04575,
     "end_time": "2021-12-23T20:08:40.329496",
     "exception": false,
     "start_time": "2021-12-23T20:08:40.283746",
     "status": "completed"
    },
    "tags": []
   },
   "outputs": [
    {
     "data": {
      "text/plain": [
       "((60000, 28, 28), (60000,))"
      ]
     },
     "execution_count": 6,
     "metadata": {},
     "output_type": "execute_result"
    }
   ],
   "source": [
    "train_images.shape, train_labels.shape"
   ]
  },
  {
   "cell_type": "code",
   "execution_count": 7,
   "id": "f50dc2bb",
   "metadata": {
    "execution": {
     "iopub.execute_input": "2021-12-23T20:08:40.385183Z",
     "iopub.status.busy": "2021-12-23T20:08:40.384106Z",
     "iopub.status.idle": "2021-12-23T20:08:40.558129Z",
     "shell.execute_reply": "2021-12-23T20:08:40.557369Z"
    },
    "papermill": {
     "duration": 0.204644,
     "end_time": "2021-12-23T20:08:40.558311",
     "exception": false,
     "start_time": "2021-12-23T20:08:40.353667",
     "status": "completed"
    },
    "tags": []
   },
   "outputs": [],
   "source": [
    "test_images = mnist.test_images()\n",
    "test_labels = mnist.test_labels()"
   ]
  },
  {
   "cell_type": "code",
   "execution_count": 8,
   "id": "fc38cf1b",
   "metadata": {
    "execution": {
     "iopub.execute_input": "2021-12-23T20:08:40.620448Z",
     "iopub.status.busy": "2021-12-23T20:08:40.619827Z",
     "iopub.status.idle": "2021-12-23T20:08:40.635996Z",
     "shell.execute_reply": "2021-12-23T20:08:40.635523Z"
    },
    "papermill": {
     "duration": 0.048677,
     "end_time": "2021-12-23T20:08:40.636111",
     "exception": false,
     "start_time": "2021-12-23T20:08:40.587434",
     "status": "completed"
    },
    "tags": []
   },
   "outputs": [
    {
     "data": {
      "text/plain": [
       "((10000, 28, 28), (10000,))"
      ]
     },
     "execution_count": 8,
     "metadata": {},
     "output_type": "execute_result"
    }
   ],
   "source": [
    "test_images.shape, test_labels.shape"
   ]
  },
  {
   "cell_type": "code",
   "execution_count": 9,
   "id": "f9ed8fe0",
   "metadata": {
    "execution": {
     "iopub.execute_input": "2021-12-23T20:08:40.692450Z",
     "iopub.status.busy": "2021-12-23T20:08:40.691247Z",
     "iopub.status.idle": "2021-12-23T20:08:40.855993Z",
     "shell.execute_reply": "2021-12-23T20:08:40.854907Z"
    },
    "papermill": {
     "duration": 0.194148,
     "end_time": "2021-12-23T20:08:40.856109",
     "exception": false,
     "start_time": "2021-12-23T20:08:40.661961",
     "status": "completed"
    },
    "tags": []
   },
   "outputs": [
    {
     "name": "stdout",
     "output_type": "stream",
     "text": [
      "2\n"
     ]
    },
    {
     "data": {
      "text/plain": [
       "<matplotlib.image.AxesImage at 0x7efe0297b518>"
      ]
     },
     "execution_count": 9,
     "metadata": {},
     "output_type": "execute_result"
    },
    {
     "data": {
      "image/png": "[encoded data removed]",
      "text/plain": [
       "<Figure size 432x288 with 1 Axes>"
      ]
     },
     "metadata": {
      "needs_background": "light"
     },
     "output_type": "display_data"
    }
   ],
   "source": [
    "image_index = 7776 # You may select anything up to 60,000\n",
    "print(train_labels[image_index]) \n",
    "plt.imshow(train_images[image_index], cmap='Greys')"
   ]
  },
  {
   "cell_type": "markdown",
   "id": "a8d2388d",
   "metadata": {
    "papermill": {
     "duration": 0.028085,
     "end_time": "2021-12-23T20:08:40.911407",
     "exception": false,
     "start_time": "2021-12-23T20:08:40.883322",
     "status": "completed"
    },
    "tags": []
   },
   "source": [
    "## Filter data to get 3 and 8 out"
   ]
  },
  {
   "cell_type": "code",
   "execution_count": 10,
   "id": "776f7fc7",
   "metadata": {
    "execution": {
     "iopub.execute_input": "2021-12-23T20:08:40.971182Z",
     "iopub.status.busy": "2021-12-23T20:08:40.969338Z",
     "iopub.status.idle": "2021-12-23T20:08:40.987006Z",
     "shell.execute_reply": "2021-12-23T20:08:40.985927Z"
    },
    "papermill": {
     "duration": 0.049889,
     "end_time": "2021-12-23T20:08:40.987210",
     "exception": false,
     "start_time": "2021-12-23T20:08:40.937321",
     "status": "completed"
    },
    "tags": []
   },
   "outputs": [],
   "source": [
    "train_filter = np.where((train_labels == 3 ) | (train_labels == 8))\n",
    "test_filter = np.where((test_labels == 3) | (test_labels == 8))\n",
    "X_train, y_train = train_images[train_filter], train_labels[train_filter]\n",
    "X_test, y_test = test_images[test_filter], test_labels[test_filter]"
   ]
  },
  {
   "cell_type": "markdown",
   "id": "948f0b7e",
   "metadata": {
    "papermill": {
     "duration": 0.029581,
     "end_time": "2021-12-23T20:08:41.048675",
     "exception": false,
     "start_time": "2021-12-23T20:08:41.019094",
     "status": "completed"
    },
    "tags": []
   },
   "source": [
    "We normalize the pizel values in the 0 to 1 range"
   ]
  },
  {
   "cell_type": "code",
   "execution_count": 11,
   "id": "ee4c2166",
   "metadata": {
    "execution": {
     "iopub.execute_input": "2021-12-23T20:08:41.118414Z",
     "iopub.status.busy": "2021-12-23T20:08:41.113505Z",
     "iopub.status.idle": "2021-12-23T20:08:41.164548Z",
     "shell.execute_reply": "2021-12-23T20:08:41.163672Z"
    },
    "papermill": {
     "duration": 0.08694,
     "end_time": "2021-12-23T20:08:41.164765",
     "exception": false,
     "start_time": "2021-12-23T20:08:41.077825",
     "status": "completed"
    },
    "tags": []
   },
   "outputs": [],
   "source": [
    "X_train = X_train/255.\n",
    "X_test = X_test/255."
   ]
  },
  {
   "cell_type": "markdown",
   "id": "ddcf4fab",
   "metadata": {
    "papermill": {
     "duration": 0.028535,
     "end_time": "2021-12-23T20:08:41.222715",
     "exception": false,
     "start_time": "2021-12-23T20:08:41.194180",
     "status": "completed"
    },
    "tags": []
   },
   "source": [
    "And setup the labels as 1 (when the digit is 3) and 0 (when the digit is 8)"
   ]
  },
  {
   "cell_type": "code",
   "execution_count": 12,
   "id": "7dc908f2",
   "metadata": {
    "execution": {
     "iopub.execute_input": "2021-12-23T20:08:41.283928Z",
     "iopub.status.busy": "2021-12-23T20:08:41.283418Z",
     "iopub.status.idle": "2021-12-23T20:08:41.296914Z",
     "shell.execute_reply": "2021-12-23T20:08:41.296472Z"
    },
    "papermill": {
     "duration": 0.045331,
     "end_time": "2021-12-23T20:08:41.297026",
     "exception": false,
     "start_time": "2021-12-23T20:08:41.251695",
     "status": "completed"
    },
    "tags": []
   },
   "outputs": [],
   "source": [
    "y_train = 1*(y_train==3)\n",
    "y_test = 1*(y_test==3)"
   ]
  },
  {
   "cell_type": "code",
   "execution_count": 13,
   "id": "01e4e969",
   "metadata": {
    "execution": {
     "iopub.execute_input": "2021-12-23T20:08:41.355296Z",
     "iopub.status.busy": "2021-12-23T20:08:41.354682Z",
     "iopub.status.idle": "2021-12-23T20:08:41.371371Z",
     "shell.execute_reply": "2021-12-23T20:08:41.370888Z"
    },
    "papermill": {
     "duration": 0.04756,
     "end_time": "2021-12-23T20:08:41.371495",
     "exception": false,
     "start_time": "2021-12-23T20:08:41.323935",
     "status": "completed"
    },
    "tags": []
   },
   "outputs": [
    {
     "data": {
      "text/plain": [
       "((11982, 28, 28), (1984, 28, 28))"
      ]
     },
     "execution_count": 13,
     "metadata": {},
     "output_type": "execute_result"
    }
   ],
   "source": [
    "X_train.shape, X_test.shape"
   ]
  },
  {
   "cell_type": "markdown",
   "id": "5ccf3f85",
   "metadata": {
    "papermill": {
     "duration": 0.027272,
     "end_time": "2021-12-23T20:08:41.425722",
     "exception": false,
     "start_time": "2021-12-23T20:08:41.398450",
     "status": "completed"
    },
    "tags": []
   },
   "source": [
    "We reshape the data to flatten the image pixels into a set of features or co-variates:"
   ]
  },
  {
   "cell_type": "code",
   "execution_count": 14,
   "id": "5286a4a3",
   "metadata": {
    "execution": {
     "iopub.execute_input": "2021-12-23T20:08:41.490394Z",
     "iopub.status.busy": "2021-12-23T20:08:41.489776Z",
     "iopub.status.idle": "2021-12-23T20:08:41.502915Z",
     "shell.execute_reply": "2021-12-23T20:08:41.503332Z"
    },
    "papermill": {
     "duration": 0.050241,
     "end_time": "2021-12-23T20:08:41.503474",
     "exception": false,
     "start_time": "2021-12-23T20:08:41.453233",
     "status": "completed"
    },
    "tags": []
   },
   "outputs": [
    {
     "data": {
      "text/plain": [
       "((11982, 784), (1984, 784))"
      ]
     },
     "execution_count": 14,
     "metadata": {},
     "output_type": "execute_result"
    }
   ],
   "source": [
    "X_train = X_train.reshape(X_train.shape[0], -1)\n",
    "X_test = X_test.reshape(X_test.shape[0], -1)\n",
    "X_train.shape, X_test.shape"
   ]
  },
  {
   "cell_type": "code",
   "execution_count": 15,
   "id": "73c5f88a",
   "metadata": {
    "execution": {
     "iopub.execute_input": "2021-12-23T20:08:41.572663Z",
     "iopub.status.busy": "2021-12-23T20:08:41.571971Z",
     "iopub.status.idle": "2021-12-23T20:08:41.591702Z",
     "shell.execute_reply": "2021-12-23T20:08:41.591191Z"
    },
    "papermill": {
     "duration": 0.058205,
     "end_time": "2021-12-23T20:08:41.591936",
     "exception": false,
     "start_time": "2021-12-23T20:08:41.533731",
     "status": "completed"
    },
    "tags": []
   },
   "outputs": [],
   "source": [
    "#Impoting functions from 'Kudzu'\n",
    "from kudzu.model import Model\n",
    "from kudzu.train import Learner\n",
    "from kudzu.optim import GD\n",
    "from kudzu.data import Data, Sampler,Dataloader\n",
    "\n",
    "from kudzu.callbacks import AccCallback\n",
    "from kudzu.callbacks import ClfCallback\n",
    "\n",
    "from kudzu.loss import MSE\n",
    "\n",
    "from kudzu.layer import Sigmoid,Relu\n",
    "from kudzu.layer import Affine"
   ]
  },
  {
   "cell_type": "markdown",
   "id": "bc01172a",
   "metadata": {
    "papermill": {
     "duration": 0.02763,
     "end_time": "2021-12-23T20:08:41.650842",
     "exception": false,
     "start_time": "2021-12-23T20:08:41.623212",
     "status": "completed"
    },
    "tags": []
   },
   "source": [
    "### Let us create a `Config` class, to store important parameters. \n",
    "This class essentially plays the role of a dictionary."
   ]
  },
  {
   "cell_type": "code",
   "execution_count": 16,
   "id": "978281aa",
   "metadata": {
    "execution": {
     "iopub.execute_input": "2021-12-23T20:08:41.715664Z",
     "iopub.status.busy": "2021-12-23T20:08:41.715054Z",
     "iopub.status.idle": "2021-12-23T20:08:41.727536Z",
     "shell.execute_reply": "2021-12-23T20:08:41.727953Z"
    },
    "papermill": {
     "duration": 0.049974,
     "end_time": "2021-12-23T20:08:41.728079",
     "exception": false,
     "start_time": "2021-12-23T20:08:41.678105",
     "status": "completed"
    },
    "tags": []
   },
   "outputs": [],
   "source": [
    "class Config:\n",
    "    pass\n",
    "config = Config()\n",
    "config.lr = 0.001\n",
    "config.num_epochs = 250\n",
    "config.bs = 50"
   ]
  },
  {
   "cell_type": "markdown",
   "id": "1385fa59",
   "metadata": {
    "papermill": {
     "duration": 0.031399,
     "end_time": "2021-12-23T20:08:41.787717",
     "exception": false,
     "start_time": "2021-12-23T20:08:41.756318",
     "status": "completed"
    },
    "tags": []
   },
   "source": [
    "### Running Models with the Training data\n",
    "Details about the network layers:\n",
    "- A first affine layer has 784 inputs and does 100 affine transforms. These are followed by a Relu\n",
    "- A second affine layer has 100 inputs from the 100 activations of the past layer, and does 100 affine transforms. These are followed by a Relu\n",
    "- A third affine layer has 100 activations and does 2 affine transformations to create an embedding for visualization. There is no non-linearity here.\n",
    "- A final \"logistic regression\" which has an affine transform from 2 inputs to 1 output, which is squeezed through a sigmoid.\n"
   ]
  },
  {
   "cell_type": "code",
   "execution_count": 17,
   "id": "2b9c66db",
   "metadata": {
    "execution": {
     "iopub.execute_input": "2021-12-23T20:08:41.852917Z",
     "iopub.status.busy": "2021-12-23T20:08:41.852273Z",
     "iopub.status.idle": "2021-12-23T20:08:41.866885Z",
     "shell.execute_reply": "2021-12-23T20:08:41.866384Z"
    },
    "papermill": {
     "duration": 0.048819,
     "end_time": "2021-12-23T20:08:41.867040",
     "exception": false,
     "start_time": "2021-12-23T20:08:41.818221",
     "status": "completed"
    },
    "tags": []
   },
   "outputs": [],
   "source": [
    "data = Data(X_train, y_train.reshape(-1,1))\n",
    "sampler = Sampler(data, config.bs, shuffle=True)\n",
    "\n",
    "dl = Dataloader(data, sampler)\n",
    "\n",
    "opt = GD(config.lr)\n",
    "loss = MSE()"
   ]
  },
  {
   "cell_type": "code",
   "execution_count": 18,
   "id": "b275e4c2",
   "metadata": {
    "execution": {
     "iopub.execute_input": "2021-12-23T20:08:41.934233Z",
     "iopub.status.busy": "2021-12-23T20:08:41.933615Z",
     "iopub.status.idle": "2021-12-23T20:08:41.947637Z",
     "shell.execute_reply": "2021-12-23T20:08:41.946954Z"
    },
    "papermill": {
     "duration": 0.048898,
     "end_time": "2021-12-23T20:08:41.947767",
     "exception": false,
     "start_time": "2021-12-23T20:08:41.898869",
     "status": "completed"
    },
    "tags": []
   },
   "outputs": [],
   "source": [
    "training_data_x = X_train\n",
    "testing_data_x = X_test\n",
    "training_data_y = y_train.reshape(-1,1)\n",
    "testing_data_y = y_test.reshape(-1,1)"
   ]
  },
  {
   "cell_type": "code",
   "execution_count": 19,
   "id": "76951160",
   "metadata": {
    "execution": {
     "iopub.execute_input": "2021-12-23T20:08:42.013499Z",
     "iopub.status.busy": "2021-12-23T20:08:42.012870Z",
     "iopub.status.idle": "2021-12-23T20:08:42.031826Z",
     "shell.execute_reply": "2021-12-23T20:08:42.032334Z"
    },
    "papermill": {
     "duration": 0.054727,
     "end_time": "2021-12-23T20:08:42.032468",
     "exception": false,
     "start_time": "2021-12-23T20:08:41.977741",
     "status": "completed"
    },
    "tags": []
   },
   "outputs": [
    {
     "name": "stdout",
     "output_type": "stream",
     "text": [
      "xavier\n",
      "xavier\n",
      "xavier\n",
      "xavier\n",
      "xavier\n"
     ]
    }
   ],
   "source": [
    "layers = [Affine(\"first\", 784, 100), Relu(\"first\"), Affine(\"second\", 100, 100), Relu(\"second\"), Affine(\"third\", 100, 2), Affine(\"last\", 2, 1), Sigmoid(\"last\")]\n",
    "model_nn = Model(layers)\n",
    "model_lr = Model([Affine(\"logits\", 784, 1), Sigmoid(\"sigmoid\")])"
   ]
  },
  {
   "cell_type": "code",
   "execution_count": 20,
   "id": "6eede77a",
   "metadata": {
    "execution": {
     "iopub.execute_input": "2021-12-23T20:08:42.093934Z",
     "iopub.status.busy": "2021-12-23T20:08:42.092901Z",
     "iopub.status.idle": "2021-12-23T20:08:42.109717Z",
     "shell.execute_reply": "2021-12-23T20:08:42.109208Z"
    },
    "papermill": {
     "duration": 0.050495,
     "end_time": "2021-12-23T20:08:42.109845",
     "exception": false,
     "start_time": "2021-12-23T20:08:42.059350",
     "status": "completed"
    },
    "tags": []
   },
   "outputs": [],
   "source": [
    "nn_learner = Learner(loss, model_nn, opt, config.num_epochs)\n",
    "acc_nn = ClfCallback(nn_learner, config.bs, training_data_x , testing_data_x, training_data_y, testing_data_y)\n",
    "nn_learner.set_callbacks([acc_nn])"
   ]
  },
  {
   "cell_type": "code",
   "execution_count": 21,
   "id": "877b6cc7",
   "metadata": {
    "execution": {
     "iopub.execute_input": "2021-12-23T20:08:42.171593Z",
     "iopub.status.busy": "2021-12-23T20:08:42.171170Z",
     "iopub.status.idle": "2021-12-23T20:08:42.181302Z",
     "shell.execute_reply": "2021-12-23T20:08:42.181822Z"
    },
    "papermill": {
     "duration": 0.045104,
     "end_time": "2021-12-23T20:08:42.181950",
     "exception": false,
     "start_time": "2021-12-23T20:08:42.136846",
     "status": "completed"
    },
    "tags": []
   },
   "outputs": [],
   "source": [
    "lr_learner = Learner(loss, model_lr, opt, config.num_epochs)\n",
    "acc_lr = ClfCallback(lr_learner, config.bs, training_data_x , testing_data_x, training_data_y, testing_data_y)\n",
    "lr_learner.set_callbacks([acc_lr])"
   ]
  },
  {
   "cell_type": "code",
   "execution_count": 22,
   "id": "d9b133c3",
   "metadata": {
    "execution": {
     "iopub.execute_input": "2021-12-23T20:08:42.240529Z",
     "iopub.status.busy": "2021-12-23T20:08:42.240047Z",
     "iopub.status.idle": "2021-12-23T20:10:09.144629Z",
     "shell.execute_reply": "2021-12-23T20:10:09.145479Z"
    },
    "papermill": {
     "duration": 86.936836,
     "end_time": "2021-12-23T20:10:09.145664",
     "exception": false,
     "start_time": "2021-12-23T20:08:42.208828",
     "status": "completed"
    },
    "tags": []
   },
   "outputs": [
    {
     "name": "stdout",
     "output_type": "stream",
     "text": [
      "Epoch 0, Loss 0.2466\n",
      "Training Accuracy: 0.5744, Testing Accuracy: 0.5706\n",
      "\n"
     ]
    },
    {
     "name": "stdout",
     "output_type": "stream",
     "text": [
      "Epoch 10, Loss 0.1165\n",
      "Training Accuracy: 0.9057, Testing Accuracy: 0.9194\n",
      "\n"
     ]
    },
    {
     "name": "stdout",
     "output_type": "stream",
     "text": [
      "Epoch 20, Loss 0.0615\n",
      "Training Accuracy: 0.9406, Testing Accuracy: 0.9531\n",
      "\n"
     ]
    },
    {
     "name": "stdout",
     "output_type": "stream",
     "text": [
      "Epoch 30, Loss 0.0455\n",
      "Training Accuracy: 0.9515, Testing Accuracy: 0.9642\n",
      "\n"
     ]
    },
    {
     "name": "stdout",
     "output_type": "stream",
     "text": [
      "Epoch 40, Loss 0.0385\n",
      "Training Accuracy: 0.9578, Testing Accuracy: 0.9688\n",
      "\n"
     ]
    },
    {
     "name": "stdout",
     "output_type": "stream",
     "text": [
      "Epoch 50, Loss 0.0345\n",
      "Training Accuracy: 0.9620, Testing Accuracy: 0.9708\n",
      "\n"
     ]
    },
    {
     "name": "stdout",
     "output_type": "stream",
     "text": [
      "Epoch 60, Loss 0.0318\n",
      "Training Accuracy: 0.9639, Testing Accuracy: 0.9723\n",
      "\n"
     ]
    },
    {
     "name": "stdout",
     "output_type": "stream",
     "text": [
      "Epoch 70, Loss 0.0299\n",
      "Training Accuracy: 0.9672, Testing Accuracy: 0.9733\n",
      "\n"
     ]
    },
    {
     "name": "stdout",
     "output_type": "stream",
     "text": [
      "Epoch 80, Loss 0.0284\n",
      "Training Accuracy: 0.9680, Testing Accuracy: 0.9728\n",
      "\n"
     ]
    },
    {
     "name": "stdout",
     "output_type": "stream",
     "text": [
      "Epoch 90, Loss 0.0272\n",
      "Training Accuracy: 0.9695, Testing Accuracy: 0.9733\n",
      "\n"
     ]
    },
    {
     "name": "stdout",
     "output_type": "stream",
     "text": [
      "Epoch 100, Loss 0.0261\n",
      "Training Accuracy: 0.9714, Testing Accuracy: 0.9733\n",
      "\n"
     ]
    },
    {
     "name": "stdout",
     "output_type": "stream",
     "text": [
      "Epoch 110, Loss 0.0253\n",
      "Training Accuracy: 0.9724, Testing Accuracy: 0.9738\n",
      "\n"
     ]
    },
    {
     "name": "stdout",
     "output_type": "stream",
     "text": [
      "Epoch 120, Loss 0.0245\n",
      "Training Accuracy: 0.9730, Testing Accuracy: 0.9733\n",
      "\n"
     ]
    },
    {
     "name": "stdout",
     "output_type": "stream",
     "text": [
      "Epoch 130, Loss 0.0238\n",
      "Training Accuracy: 0.9738, Testing Accuracy: 0.9728\n",
      "\n"
     ]
    },
    {
     "name": "stdout",
     "output_type": "stream",
     "text": [
      "Epoch 140, Loss 0.0231\n",
      "Training Accuracy: 0.9744, Testing Accuracy: 0.9743\n",
      "\n"
     ]
    },
    {
     "name": "stdout",
     "output_type": "stream",
     "text": [
      "Epoch 150, Loss 0.0225\n",
      "Training Accuracy: 0.9755, Testing Accuracy: 0.9743\n",
      "\n"
     ]
    },
    {
     "name": "stdout",
     "output_type": "stream",
     "text": [
      "Epoch 160, Loss 0.022\n",
      "Training Accuracy: 0.9762, Testing Accuracy: 0.9743\n",
      "\n"
     ]
    },
    {
     "name": "stdout",
     "output_type": "stream",
     "text": [
      "Epoch 170, Loss 0.0215\n",
      "Training Accuracy: 0.9768, Testing Accuracy: 0.9748\n",
      "\n"
     ]
    },
    {
     "name": "stdout",
     "output_type": "stream",
     "text": [
      "Epoch 180, Loss 0.021\n",
      "Training Accuracy: 0.9776, Testing Accuracy: 0.9743\n",
      "\n"
     ]
    },
    {
     "name": "stdout",
     "output_type": "stream",
     "text": [
      "Epoch 190, Loss 0.0206\n",
      "Training Accuracy: 0.9780, Testing Accuracy: 0.9743\n",
      "\n"
     ]
    },
    {
     "name": "stdout",
     "output_type": "stream",
     "text": [
      "Epoch 200, Loss 0.0201\n",
      "Training Accuracy: 0.9781, Testing Accuracy: 0.9748\n",
      "\n"
     ]
    },
    {
     "name": "stdout",
     "output_type": "stream",
     "text": [
      "Epoch 210, Loss 0.0197\n",
      "Training Accuracy: 0.9785, Testing Accuracy: 0.9748\n",
      "\n"
     ]
    },
    {
     "name": "stdout",
     "output_type": "stream",
     "text": [
      "Epoch 220, Loss 0.0194\n",
      "Training Accuracy: 0.9788, Testing Accuracy: 0.9753\n",
      "\n"
     ]
    },
    {
     "name": "stdout",
     "output_type": "stream",
     "text": [
      "Epoch 230, Loss 0.019\n",
      "Training Accuracy: 0.9795, Testing Accuracy: 0.9753\n",
      "\n"
     ]
    },
    {
     "name": "stdout",
     "output_type": "stream",
     "text": [
      "Epoch 240, Loss 0.0186\n",
      "Training Accuracy: 0.9801, Testing Accuracy: 0.9753\n",
      "\n"
     ]
    },
    {
     "data": {
      "text/plain": [
       "0.005961622042927236"
      ]
     },
     "execution_count": 22,
     "metadata": {},
     "output_type": "execute_result"
    }
   ],
   "source": [
    "nn_learner.train_loop(dl)"
   ]
  },
  {
   "cell_type": "code",
   "execution_count": 23,
   "id": "e0163366",
   "metadata": {
    "execution": {
     "iopub.execute_input": "2021-12-23T20:10:09.231658Z",
     "iopub.status.busy": "2021-12-23T20:10:09.231041Z",
     "iopub.status.idle": "2021-12-23T20:10:25.141860Z",
     "shell.execute_reply": "2021-12-23T20:10:25.142725Z"
    },
    "papermill": {
     "duration": 15.958344,
     "end_time": "2021-12-23T20:10:25.142890",
     "exception": false,
     "start_time": "2021-12-23T20:10:09.184546",
     "status": "completed"
    },
    "tags": []
   },
   "outputs": [
    {
     "name": "stdout",
     "output_type": "stream",
     "text": [
      "Epoch 0, Loss 0.2294\n",
      "Training Accuracy: 0.7374, Testing Accuracy: 0.7535\n",
      "\n"
     ]
    },
    {
     "name": "stdout",
     "output_type": "stream",
     "text": [
      "Epoch 10, Loss 0.1028\n",
      "Training Accuracy: 0.9053, Testing Accuracy: 0.9189\n",
      "\n"
     ]
    },
    {
     "name": "stdout",
     "output_type": "stream",
     "text": [
      "Epoch 20, Loss 0.0797\n",
      "Training Accuracy: 0.9235, Testing Accuracy: 0.9380\n",
      "\n"
     ]
    },
    {
     "name": "stdout",
     "output_type": "stream",
     "text": [
      "Epoch 30, Loss 0.0688\n",
      "Training Accuracy: 0.9339, Testing Accuracy: 0.9446\n",
      "\n"
     ]
    },
    {
     "name": "stdout",
     "output_type": "stream",
     "text": [
      "Epoch 40, Loss 0.0621\n",
      "Training Accuracy: 0.9398, Testing Accuracy: 0.9516\n",
      "\n"
     ]
    },
    {
     "name": "stdout",
     "output_type": "stream",
     "text": [
      "Epoch 50, Loss 0.0575\n",
      "Training Accuracy: 0.9428, Testing Accuracy: 0.9551\n",
      "\n"
     ]
    },
    {
     "name": "stdout",
     "output_type": "stream",
     "text": [
      "Epoch 60, Loss 0.0542\n",
      "Training Accuracy: 0.9464, Testing Accuracy: 0.9572\n",
      "\n"
     ]
    },
    {
     "name": "stdout",
     "output_type": "stream",
     "text": [
      "Epoch 70, Loss 0.0516\n",
      "Training Accuracy: 0.9481, Testing Accuracy: 0.9592\n",
      "\n"
     ]
    },
    {
     "name": "stdout",
     "output_type": "stream",
     "text": [
      "Epoch 80, Loss 0.0495\n",
      "Training Accuracy: 0.9501, Testing Accuracy: 0.9607\n",
      "\n"
     ]
    },
    {
     "name": "stdout",
     "output_type": "stream",
     "text": [
      "Epoch 90, Loss 0.0477\n",
      "Training Accuracy: 0.9520, Testing Accuracy: 0.9612\n",
      "\n"
     ]
    },
    {
     "name": "stdout",
     "output_type": "stream",
     "text": [
      "Epoch 100, Loss 0.0463\n",
      "Training Accuracy: 0.9527, Testing Accuracy: 0.9622\n",
      "\n"
     ]
    },
    {
     "name": "stdout",
     "output_type": "stream",
     "text": [
      "Epoch 110, Loss 0.0451\n",
      "Training Accuracy: 0.9541, Testing Accuracy: 0.9637\n",
      "\n"
     ]
    },
    {
     "name": "stdout",
     "output_type": "stream",
     "text": [
      "Epoch 120, Loss 0.044\n",
      "Training Accuracy: 0.9550, Testing Accuracy: 0.9637\n",
      "\n"
     ]
    },
    {
     "name": "stdout",
     "output_type": "stream",
     "text": [
      "Epoch 130, Loss 0.043\n",
      "Training Accuracy: 0.9556, Testing Accuracy: 0.9642\n",
      "\n"
     ]
    },
    {
     "name": "stdout",
     "output_type": "stream",
     "text": [
      "Epoch 140, Loss 0.0422\n",
      "Training Accuracy: 0.9562, Testing Accuracy: 0.9652\n",
      "\n"
     ]
    },
    {
     "name": "stdout",
     "output_type": "stream",
     "text": [
      "Epoch 150, Loss 0.0414\n",
      "Training Accuracy: 0.9566, Testing Accuracy: 0.9657\n",
      "\n"
     ]
    },
    {
     "name": "stdout",
     "output_type": "stream",
     "text": [
      "Epoch 160, Loss 0.0407\n",
      "Training Accuracy: 0.9578, Testing Accuracy: 0.9657\n",
      "\n"
     ]
    },
    {
     "name": "stdout",
     "output_type": "stream",
     "text": [
      "Epoch 170, Loss 0.0401\n",
      "Training Accuracy: 0.9582, Testing Accuracy: 0.9667\n",
      "\n"
     ]
    },
    {
     "name": "stdout",
     "output_type": "stream",
     "text": [
      "Epoch 180, Loss 0.0396\n",
      "Training Accuracy: 0.9584, Testing Accuracy: 0.9672\n",
      "\n"
     ]
    },
    {
     "name": "stdout",
     "output_type": "stream",
     "text": [
      "Epoch 190, Loss 0.039\n",
      "Training Accuracy: 0.9591, Testing Accuracy: 0.9672\n",
      "\n"
     ]
    },
    {
     "name": "stdout",
     "output_type": "stream",
     "text": [
      "Epoch 200, Loss 0.0385\n",
      "Training Accuracy: 0.9591, Testing Accuracy: 0.9677\n",
      "\n"
     ]
    },
    {
     "name": "stdout",
     "output_type": "stream",
     "text": [
      "Epoch 210, Loss 0.0381\n",
      "Training Accuracy: 0.9595, Testing Accuracy: 0.9682\n",
      "\n"
     ]
    },
    {
     "name": "stdout",
     "output_type": "stream",
     "text": [
      "Epoch 220, Loss 0.0377\n",
      "Training Accuracy: 0.9598, Testing Accuracy: 0.9682\n",
      "\n"
     ]
    },
    {
     "name": "stdout",
     "output_type": "stream",
     "text": [
      "Epoch 230, Loss 0.0373\n",
      "Training Accuracy: 0.9603, Testing Accuracy: 0.9682\n",
      "\n"
     ]
    },
    {
     "name": "stdout",
     "output_type": "stream",
     "text": [
      "Epoch 240, Loss 0.0369\n",
      "Training Accuracy: 0.9604, Testing Accuracy: 0.9677\n",
      "\n"
     ]
    },
    {
     "data": {
      "text/plain": [
       "0.030579621646629876"
      ]
     },
     "execution_count": 23,
     "metadata": {},
     "output_type": "execute_result"
    }
   ],
   "source": [
    "lr_learner.train_loop(dl)"
   ]
  },
  {
   "cell_type": "code",
   "execution_count": 24,
   "id": "ca410940",
   "metadata": {
    "execution": {
     "iopub.execute_input": "2021-12-23T20:10:25.251167Z",
     "iopub.status.busy": "2021-12-23T20:10:25.250540Z",
     "iopub.status.idle": "2021-12-23T20:10:25.500367Z",
     "shell.execute_reply": "2021-12-23T20:10:25.499858Z"
    },
    "papermill": {
     "duration": 0.310605,
     "end_time": "2021-12-23T20:10:25.500488",
     "exception": false,
     "start_time": "2021-12-23T20:10:25.189883",
     "status": "completed"
    },
    "tags": []
   },
   "outputs": [
    {
     "data": {
      "text/plain": [
       "<matplotlib.legend.Legend at 0x7efdf51c9be0>"
      ]
     },
     "execution_count": 24,
     "metadata": {},
     "output_type": "execute_result"
    },
    {
     "data": {
      "image/png": "[encoded data removed]",
      "text/plain": [
       "<Figure size 1080x720 with 1 Axes>"
      ]
     },
     "metadata": {
      "needs_background": "light"
     },
     "output_type": "display_data"
    }
   ],
   "source": [
    "#comparing the results of NN and LR\n",
    "plt.figure(figsize=(15,10))\n",
    "\n",
    "# Neural Network plots\n",
    "plt.plot(acc_nn.accuracies, 'r-', label = \"Training Accuracies - NN\")\n",
    "plt.plot(acc_nn.test_accuracies, 'g-', label = \"Testing Accuracies - NN\")\n",
    "\n",
    "# Logistic Regression plots\n",
    "plt.plot(acc_lr.accuracies, 'k-', label = \"Training Accuracies - LR\")\n",
    "plt.plot(acc_lr.test_accuracies, 'b-', label = \"Testing Accuracies - LR\")\n",
    "plt.legend()"
   ]
  },
  {
   "cell_type": "markdown",
   "id": "80dfb35c",
   "metadata": {
    "papermill": {
     "duration": 0.046835,
     "end_time": "2021-12-23T20:10:25.595729",
     "exception": false,
     "start_time": "2021-12-23T20:10:25.548894",
     "status": "completed"
    },
    "tags": []
   },
   "source": [
    "#### Plotting the outputs of this layer of the NN.\n"
   ]
  },
  {
   "cell_type": "code",
   "execution_count": 25,
   "id": "45eb2ff5",
   "metadata": {
    "execution": {
     "iopub.execute_input": "2021-12-23T20:10:25.697719Z",
     "iopub.status.busy": "2021-12-23T20:10:25.696645Z",
     "iopub.status.idle": "2021-12-23T20:10:25.719212Z",
     "shell.execute_reply": "2021-12-23T20:10:25.720118Z"
    },
    "papermill": {
     "duration": 0.077225,
     "end_time": "2021-12-23T20:10:25.720293",
     "exception": false,
     "start_time": "2021-12-23T20:10:25.643068",
     "status": "completed"
    },
    "tags": []
   },
   "outputs": [],
   "source": [
    "new_model = Model(layers[:-2])\n",
    "testing_plot = new_model(testing_data_x)"
   ]
  },
  {
   "cell_type": "code",
   "execution_count": 26,
   "id": "4c0a5485",
   "metadata": {
    "execution": {
     "iopub.execute_input": "2021-12-23T20:10:25.830552Z",
     "iopub.status.busy": "2021-12-23T20:10:25.829923Z",
     "iopub.status.idle": "2021-12-23T20:10:26.072738Z",
     "shell.execute_reply": "2021-12-23T20:10:26.072239Z"
    },
    "papermill": {
     "duration": 0.299856,
     "end_time": "2021-12-23T20:10:26.072872",
     "exception": false,
     "start_time": "2021-12-23T20:10:25.773016",
     "status": "completed"
    },
    "tags": []
   },
   "outputs": [
    {
     "data": {
      "text/plain": [
       "Text(0.5, 1.0, 'Outputs')"
      ]
     },
     "execution_count": 26,
     "metadata": {},
     "output_type": "execute_result"
    },
    {
     "data": {
      "image/png": "[encoded data removed]",
      "text/plain": [
       "<Figure size 576x504 with 1 Axes>"
      ]
     },
     "metadata": {
      "needs_background": "light"
     },
     "output_type": "display_data"
    }
   ],
   "source": [
    "# Plotting the scatter plot of points and color coding by class\n",
    "plt.figure(figsize=(8,7))\n",
    "plt.scatter(testing_plot[:,0], testing_plot[:,1], alpha = 0.1, c = y_test.ravel());\n",
    "plt.title('Outputs')"
   ]
  },
  {
   "cell_type": "markdown",
   "id": "a74fcf8f",
   "metadata": {
    "papermill": {
     "duration": 0.049544,
     "end_time": "2021-12-23T20:10:26.173011",
     "exception": false,
     "start_time": "2021-12-23T20:10:26.123467",
     "status": "completed"
    },
    "tags": []
   },
   "source": [
    "Probability contours"
   ]
  },
  {
   "cell_type": "code",
   "execution_count": 27,
   "id": "d0afc8e3",
   "metadata": {
    "execution": {
     "iopub.execute_input": "2021-12-23T20:10:26.277326Z",
     "iopub.status.busy": "2021-12-23T20:10:26.276707Z",
     "iopub.status.idle": "2021-12-23T20:10:26.291395Z",
     "shell.execute_reply": "2021-12-23T20:10:26.290906Z"
    },
    "papermill": {
     "duration": 0.068805,
     "end_time": "2021-12-23T20:10:26.291524",
     "exception": false,
     "start_time": "2021-12-23T20:10:26.222719",
     "status": "completed"
    },
    "tags": []
   },
   "outputs": [],
   "source": [
    "model_prob = Model(layers[-2:]) "
   ]
  },
  {
   "cell_type": "code",
   "execution_count": 28,
   "id": "9b96e238",
   "metadata": {
    "execution": {
     "iopub.execute_input": "2021-12-23T20:10:26.394693Z",
     "iopub.status.busy": "2021-12-23T20:10:26.394070Z",
     "iopub.status.idle": "2021-12-23T20:10:26.412857Z",
     "shell.execute_reply": "2021-12-23T20:10:26.413278Z"
    },
    "papermill": {
     "duration": 0.073282,
     "end_time": "2021-12-23T20:10:26.413419",
     "exception": false,
     "start_time": "2021-12-23T20:10:26.340137",
     "status": "completed"
    },
    "tags": []
   },
   "outputs": [],
   "source": [
    "#creating the x and y ranges according to the above generated plot.\n",
    "x_range = np.linspace(-4, 1, 100) \n",
    "y_range = np.linspace(-6, 6, 100) \n",
    "x_grid, y_grid = np.meshgrid(x_range, y_range) # x_grid and y_grig are of size 100 X 100\n",
    "\n",
    "# converting x_grid and y_grid to continuous arrays\n",
    "x_gridflat = np.ravel(x_grid)\n",
    "y_gridflat = np.ravel(y_grid)\n",
    "\n",
    "# The last layer of the current model takes two columns as input. Hence transpose of np.vstack() is required.\n",
    "X = np.vstack((x_gridflat, y_gridflat)).T\n",
    "\n",
    "prob_contour = model_prob(X).reshape(100,100) "
   ]
  },
  {
   "cell_type": "code",
   "execution_count": 29,
   "id": "da72499a",
   "metadata": {
    "execution": {
     "iopub.execute_input": "2021-12-23T20:10:26.547430Z",
     "iopub.status.busy": "2021-12-23T20:10:26.546822Z",
     "iopub.status.idle": "2021-12-23T20:10:26.845251Z",
     "shell.execute_reply": "2021-12-23T20:10:26.844538Z"
    },
    "papermill": {
     "duration": 0.352483,
     "end_time": "2021-12-23T20:10:26.845419",
     "exception": false,
     "start_time": "2021-12-23T20:10:26.492936",
     "status": "completed"
    },
    "tags": []
   },
   "outputs": [
    {
     "data": {
      "image/png": "[encoded data removed]",
      "text/plain": [
       "<Figure size 720x648 with 1 Axes>"
      ]
     },
     "metadata": {
      "needs_background": "light"
     },
     "output_type": "display_data"
    }
   ],
   "source": [
    "plt.figure(figsize=(10,9))\n",
    "plt.scatter(testing_plot[:,0], testing_plot[:,1], alpha = 0.1, c = y_test.ravel())\n",
    "contours = plt.contour(x_grid,y_grid,prob_contour)\n",
    "plt.title('Probability Contours')\n",
    "plt.clabel(contours, inline = True );"
   ]
  },
  {
   "cell_type": "code",
   "execution_count": null,
   "id": "e81b4ac7",
   "metadata": {
    "papermill": {
     "duration": 0.051276,
     "end_time": "2021-12-23T20:10:26.951419",
     "exception": false,
     "start_time": "2021-12-23T20:10:26.900143",
     "status": "completed"
    },
    "tags": []
   },
   "outputs": [],
   "source": []
  }
 ],
 "metadata": {
  "kernelspec": {
   "display_name": "Python 3",
   "language": "python",
   "name": "python3"
  },
  "language_info": {
   "codemirror_mode": {
    "name": "ipython",
    "version": 3
   },
   "file_extension": ".py",
   "mimetype": "text/x-python",
   "name": "python",
   "nbconvert_exporter": "python",
   "pygments_lexer": "ipython3",
   "version": "3.6.15"
  },
  "papermill": {
   "default_parameters": {},
   "duration": 112.112098,
   "end_time": "2021-12-23T20:10:27.411049",
   "environment_variables": {},
   "exception": null,
   "input_path": "2020-08-11-part2.ipynb",
   "output_path": "2020-08-11-part2.ipynb",
   "parameters": {},
   "start_time": "2021-12-23T20:08:35.298951",
   "version": "2.3.3"
  }
 },
 "nbformat": 4,
 "nbformat_minor": 5
}