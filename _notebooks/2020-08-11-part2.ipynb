{
 "cells": [
  {
   "cell_type": "markdown",
   "id": "98380cd3",
   "metadata": {
    "papermill": {
     "duration": 0.033795,
     "end_time": "2022-05-09T20:10:32.158520",
     "exception": false,
     "start_time": "2022-05-09T20:10:32.124725",
     "status": "completed"
    },
    "tags": []
   },
   "source": [
    "# Distinguish Your Own Digits (DYOD)"
   ]
  },
  {
   "cell_type": "markdown",
   "id": "ef31240d",
   "metadata": {
    "papermill": {
     "duration": 0.027031,
     "end_time": "2022-05-09T20:10:32.211018",
     "exception": false,
     "start_time": "2022-05-09T20:10:32.183987",
     "status": "completed"
    },
    "tags": []
   },
   "source": [
    "You are going to write a classifier that distinguishes between the number 3 and number 8."
   ]
  },
  {
   "cell_type": "code",
   "execution_count": 1,
   "id": "b15c8646",
   "metadata": {
    "execution": {
     "iopub.execute_input": "2022-05-09T20:10:32.272917Z",
     "iopub.status.busy": "2022-05-09T20:10:32.272257Z",
     "iopub.status.idle": "2022-05-09T20:10:32.283838Z",
     "shell.execute_reply": "2022-05-09T20:10:32.283341Z"
    },
    "papermill": {
     "duration": 0.047975,
     "end_time": "2022-05-09T20:10:32.283977",
     "exception": false,
     "start_time": "2022-05-09T20:10:32.236002",
     "status": "completed"
    },
    "tags": []
   },
   "outputs": [],
   "source": [
    "%load_ext autoreload\n",
    "%autoreload 2"
   ]
  },
  {
   "cell_type": "code",
   "execution_count": 2,
   "id": "22ef38dc",
   "metadata": {
    "execution": {
     "iopub.execute_input": "2022-05-09T20:10:32.338160Z",
     "iopub.status.busy": "2022-05-09T20:10:32.337561Z",
     "iopub.status.idle": "2022-05-09T20:10:32.917456Z",
     "shell.execute_reply": "2022-05-09T20:10:32.916909Z"
    },
    "papermill": {
     "duration": 0.60934,
     "end_time": "2022-05-09T20:10:32.917599",
     "exception": false,
     "start_time": "2022-05-09T20:10:32.308259",
     "status": "completed"
    },
    "tags": []
   },
   "outputs": [],
   "source": [
    "%matplotlib inline\n",
    "import numpy as np\n",
    "import matplotlib.pyplot as plt\n",
    "import pandas as pd"
   ]
  },
  {
   "cell_type": "markdown",
   "id": "ba036198",
   "metadata": {
    "papermill": {
     "duration": 0.027007,
     "end_time": "2022-05-09T20:10:32.970895",
     "exception": false,
     "start_time": "2022-05-09T20:10:32.943888",
     "status": "completed"
    },
    "tags": []
   },
   "source": [
    "From the command line run `pip install mnist`. This is a library that will help you bring down the mnist dataset. If you run this from a notebook, you need to put  `!pip install mnist` in a cell by itself."
   ]
  },
  {
   "cell_type": "code",
   "execution_count": 3,
   "id": "bb6ad8a1",
   "metadata": {
    "execution": {
     "iopub.execute_input": "2022-05-09T20:10:33.027531Z",
     "iopub.status.busy": "2022-05-09T20:10:33.026953Z",
     "iopub.status.idle": "2022-05-09T20:10:34.823579Z",
     "shell.execute_reply": "2022-05-09T20:10:34.822962Z"
    },
    "papermill": {
     "duration": 1.827906,
     "end_time": "2022-05-09T20:10:34.823733",
     "exception": false,
     "start_time": "2022-05-09T20:10:32.995827",
     "status": "completed"
    },
    "tags": []
   },
   "outputs": [
    {
     "name": "stdout",
     "output_type": "stream",
     "text": [
      "Collecting mnist\r\n",
      "  Downloading mnist-0.2.2-py2.py3-none-any.whl (3.5 kB)\r\n",
      "Requirement already satisfied: numpy in /opt/hostedtoolcache/Python/3.6.15/x64/lib/python3.6/site-packages (from mnist) (1.19.5)\r\n"
     ]
    },
    {
     "name": "stdout",
     "output_type": "stream",
     "text": [
      "Installing collected packages: mnist\r\n"
     ]
    },
    {
     "name": "stdout",
     "output_type": "stream",
     "text": [
      "Successfully installed mnist-0.2.2\r\n"
     ]
    }
   ],
   "source": [
    "!pip install mnist"
   ]
  },
  {
   "cell_type": "markdown",
   "id": "69df9c9a",
   "metadata": {
    "papermill": {
     "duration": 0.025066,
     "end_time": "2022-05-09T20:10:34.876215",
     "exception": false,
     "start_time": "2022-05-09T20:10:34.851149",
     "status": "completed"
    },
    "tags": []
   },
   "source": [
    "## Preparing the Data"
   ]
  },
  {
   "cell_type": "code",
   "execution_count": 4,
   "id": "7f69d806",
   "metadata": {
    "execution": {
     "iopub.execute_input": "2022-05-09T20:10:34.927282Z",
     "iopub.status.busy": "2022-05-09T20:10:34.926125Z",
     "iopub.status.idle": "2022-05-09T20:10:34.943951Z",
     "shell.execute_reply": "2022-05-09T20:10:34.943434Z"
    },
    "papermill": {
     "duration": 0.045248,
     "end_time": "2022-05-09T20:10:34.944088",
     "exception": false,
     "start_time": "2022-05-09T20:10:34.898840",
     "status": "completed"
    },
    "tags": []
   },
   "outputs": [],
   "source": [
    "import mnist"
   ]
  },
  {
   "cell_type": "code",
   "execution_count": 5,
   "id": "a411e44f",
   "metadata": {
    "execution": {
     "iopub.execute_input": "2022-05-09T20:10:35.002297Z",
     "iopub.status.busy": "2022-05-09T20:10:35.001736Z",
     "iopub.status.idle": "2022-05-09T20:10:35.552561Z",
     "shell.execute_reply": "2022-05-09T20:10:35.553148Z"
    },
    "papermill": {
     "duration": 0.584674,
     "end_time": "2022-05-09T20:10:35.553309",
     "exception": false,
     "start_time": "2022-05-09T20:10:34.968635",
     "status": "completed"
    },
    "tags": []
   },
   "outputs": [],
   "source": [
    "train_images = mnist.train_images()\n",
    "train_labels = mnist.train_labels()"
   ]
  },
  {
   "cell_type": "code",
   "execution_count": 6,
   "id": "dceab3a5",
   "metadata": {
    "execution": {
     "iopub.execute_input": "2022-05-09T20:10:35.608149Z",
     "iopub.status.busy": "2022-05-09T20:10:35.607543Z",
     "iopub.status.idle": "2022-05-09T20:10:35.624237Z",
     "shell.execute_reply": "2022-05-09T20:10:35.623467Z"
    },
    "papermill": {
     "duration": 0.045969,
     "end_time": "2022-05-09T20:10:35.624367",
     "exception": false,
     "start_time": "2022-05-09T20:10:35.578398",
     "status": "completed"
    },
    "tags": []
   },
   "outputs": [
    {
     "data": {
      "text/plain": [
       "((60000, 28, 28), (60000,))"
      ]
     },
     "execution_count": 6,
     "metadata": {},
     "output_type": "execute_result"
    }
   ],
   "source": [
    "train_images.shape, train_labels.shape"
   ]
  },
  {
   "cell_type": "code",
   "execution_count": 7,
   "id": "f50dc2bb",
   "metadata": {
    "execution": {
     "iopub.execute_input": "2022-05-09T20:10:35.680066Z",
     "iopub.status.busy": "2022-05-09T20:10:35.679490Z",
     "iopub.status.idle": "2022-05-09T20:10:35.822838Z",
     "shell.execute_reply": "2022-05-09T20:10:35.821937Z"
    },
    "papermill": {
     "duration": 0.173038,
     "end_time": "2022-05-09T20:10:35.823059",
     "exception": false,
     "start_time": "2022-05-09T20:10:35.650021",
     "status": "completed"
    },
    "tags": []
   },
   "outputs": [],
   "source": [
    "test_images = mnist.test_images()\n",
    "test_labels = mnist.test_labels()"
   ]
  },
  {
   "cell_type": "code",
   "execution_count": 8,
   "id": "fc38cf1b",
   "metadata": {
    "execution": {
     "iopub.execute_input": "2022-05-09T20:10:35.886942Z",
     "iopub.status.busy": "2022-05-09T20:10:35.886335Z",
     "iopub.status.idle": "2022-05-09T20:10:35.899221Z",
     "shell.execute_reply": "2022-05-09T20:10:35.898731Z"
    },
    "papermill": {
     "duration": 0.048416,
     "end_time": "2022-05-09T20:10:35.899356",
     "exception": false,
     "start_time": "2022-05-09T20:10:35.850940",
     "status": "completed"
    },
    "tags": []
   },
   "outputs": [
    {
     "data": {
      "text/plain": [
       "((10000, 28, 28), (10000,))"
      ]
     },
     "execution_count": 8,
     "metadata": {},
     "output_type": "execute_result"
    }
   ],
   "source": [
    "test_images.shape, test_labels.shape"
   ]
  },
  {
   "cell_type": "code",
   "execution_count": 9,
   "id": "f9ed8fe0",
   "metadata": {
    "execution": {
     "iopub.execute_input": "2022-05-09T20:10:35.957712Z",
     "iopub.status.busy": "2022-05-09T20:10:35.957135Z",
     "iopub.status.idle": "2022-05-09T20:10:36.107537Z",
     "shell.execute_reply": "2022-05-09T20:10:36.107103Z"
    },
    "papermill": {
     "duration": 0.181057,
     "end_time": "2022-05-09T20:10:36.107649",
     "exception": false,
     "start_time": "2022-05-09T20:10:35.926592",
     "status": "completed"
    },
    "tags": []
   },
   "outputs": [
    {
     "name": "stdout",
     "output_type": "stream",
     "text": [
      "2\n"
     ]
    },
    {
     "data": {
      "text/plain": [
       "<matplotlib.image.AxesImage at 0x7fab667c2390>"
      ]
     },
     "execution_count": 9,
     "metadata": {},
     "output_type": "execute_result"
    },
    {
     "data": {
      "image/png": "[encoded data removed]",
      "text/plain": [
       "<Figure size 432x288 with 1 Axes>"
      ]
     },
     "metadata": {
      "needs_background": "light"
     },
     "output_type": "display_data"
    }
   ],
   "source": [
    "image_index = 7776 # You may select anything up to 60,000\n",
    "print(train_labels[image_index]) \n",
    "plt.imshow(train_images[image_index], cmap='Greys')"
   ]
  },
  {
   "cell_type": "markdown",
   "id": "a8d2388d",
   "metadata": {
    "papermill": {
     "duration": 0.026453,
     "end_time": "2022-05-09T20:10:36.160480",
     "exception": false,
     "start_time": "2022-05-09T20:10:36.134027",
     "status": "completed"
    },
    "tags": []
   },
   "source": [
    "## Filter data to get 3 and 8 out"
   ]
  },
  {
   "cell_type": "code",
   "execution_count": 10,
   "id": "776f7fc7",
   "metadata": {
    "execution": {
     "iopub.execute_input": "2022-05-09T20:10:36.225569Z",
     "iopub.status.busy": "2022-05-09T20:10:36.221001Z",
     "iopub.status.idle": "2022-05-09T20:10:36.239986Z",
     "shell.execute_reply": "2022-05-09T20:10:36.240440Z"
    },
    "papermill": {
     "duration": 0.052866,
     "end_time": "2022-05-09T20:10:36.240595",
     "exception": false,
     "start_time": "2022-05-09T20:10:36.187729",
     "status": "completed"
    },
    "tags": []
   },
   "outputs": [],
   "source": [
    "train_filter = np.where((train_labels == 3 ) | (train_labels == 8))\n",
    "test_filter = np.where((test_labels == 3) | (test_labels == 8))\n",
    "X_train, y_train = train_images[train_filter], train_labels[train_filter]\n",
    "X_test, y_test = test_images[test_filter], test_labels[test_filter]"
   ]
  },
  {
   "cell_type": "markdown",
   "id": "948f0b7e",
   "metadata": {
    "papermill": {
     "duration": 0.027624,
     "end_time": "2022-05-09T20:10:36.293813",
     "exception": false,
     "start_time": "2022-05-09T20:10:36.266189",
     "status": "completed"
    },
    "tags": []
   },
   "source": [
    "We normalize the pizel values in the 0 to 1 range"
   ]
  },
  {
   "cell_type": "code",
   "execution_count": 11,
   "id": "ee4c2166",
   "metadata": {
    "execution": {
     "iopub.execute_input": "2022-05-09T20:10:36.353590Z",
     "iopub.status.busy": "2022-05-09T20:10:36.351194Z",
     "iopub.status.idle": "2022-05-09T20:10:36.404721Z",
     "shell.execute_reply": "2022-05-09T20:10:36.403799Z"
    },
    "papermill": {
     "duration": 0.083953,
     "end_time": "2022-05-09T20:10:36.404952",
     "exception": false,
     "start_time": "2022-05-09T20:10:36.320999",
     "status": "completed"
    },
    "tags": []
   },
   "outputs": [],
   "source": [
    "X_train = X_train/255.\n",
    "X_test = X_test/255."
   ]
  },
  {
   "cell_type": "markdown",
   "id": "ddcf4fab",
   "metadata": {
    "papermill": {
     "duration": 0.026554,
     "end_time": "2022-05-09T20:10:36.462282",
     "exception": false,
     "start_time": "2022-05-09T20:10:36.435728",
     "status": "completed"
    },
    "tags": []
   },
   "source": [
    "And setup the labels as 1 (when the digit is 3) and 0 (when the digit is 8)"
   ]
  },
  {
   "cell_type": "code",
   "execution_count": 12,
   "id": "7dc908f2",
   "metadata": {
    "execution": {
     "iopub.execute_input": "2022-05-09T20:10:36.518231Z",
     "iopub.status.busy": "2022-05-09T20:10:36.517663Z",
     "iopub.status.idle": "2022-05-09T20:10:36.531428Z",
     "shell.execute_reply": "2022-05-09T20:10:36.530950Z"
    },
    "papermill": {
     "duration": 0.043137,
     "end_time": "2022-05-09T20:10:36.531529",
     "exception": false,
     "start_time": "2022-05-09T20:10:36.488392",
     "status": "completed"
    },
    "tags": []
   },
   "outputs": [],
   "source": [
    "y_train = 1*(y_train==3)\n",
    "y_test = 1*(y_test==3)"
   ]
  },
  {
   "cell_type": "code",
   "execution_count": 13,
   "id": "01e4e969",
   "metadata": {
    "execution": {
     "iopub.execute_input": "2022-05-09T20:10:36.588785Z",
     "iopub.status.busy": "2022-05-09T20:10:36.588206Z",
     "iopub.status.idle": "2022-05-09T20:10:36.604979Z",
     "shell.execute_reply": "2022-05-09T20:10:36.604453Z"
    },
    "papermill": {
     "duration": 0.046627,
     "end_time": "2022-05-09T20:10:36.605093",
     "exception": false,
     "start_time": "2022-05-09T20:10:36.558466",
     "status": "completed"
    },
    "tags": []
   },
   "outputs": [
    {
     "data": {
      "text/plain": [
       "((11982, 28, 28), (1984, 28, 28))"
      ]
     },
     "execution_count": 13,
     "metadata": {},
     "output_type": "execute_result"
    }
   ],
   "source": [
    "X_train.shape, X_test.shape"
   ]
  },
  {
   "cell_type": "markdown",
   "id": "5ccf3f85",
   "metadata": {
    "papermill": {
     "duration": 0.027808,
     "end_time": "2022-05-09T20:10:36.658687",
     "exception": false,
     "start_time": "2022-05-09T20:10:36.630879",
     "status": "completed"
    },
    "tags": []
   },
   "source": [
    "We reshape the data to flatten the image pixels into a set of features or co-variates:"
   ]
  },
  {
   "cell_type": "code",
   "execution_count": 14,
   "id": "5286a4a3",
   "metadata": {
    "execution": {
     "iopub.execute_input": "2022-05-09T20:10:36.720039Z",
     "iopub.status.busy": "2022-05-09T20:10:36.719483Z",
     "iopub.status.idle": "2022-05-09T20:10:36.736436Z",
     "shell.execute_reply": "2022-05-09T20:10:36.735961Z"
    },
    "papermill": {
     "duration": 0.049526,
     "end_time": "2022-05-09T20:10:36.736557",
     "exception": false,
     "start_time": "2022-05-09T20:10:36.687031",
     "status": "completed"
    },
    "tags": []
   },
   "outputs": [
    {
     "data": {
      "text/plain": [
       "((11982, 784), (1984, 784))"
      ]
     },
     "execution_count": 14,
     "metadata": {},
     "output_type": "execute_result"
    }
   ],
   "source": [
    "X_train = X_train.reshape(X_train.shape[0], -1)\n",
    "X_test = X_test.reshape(X_test.shape[0], -1)\n",
    "X_train.shape, X_test.shape"
   ]
  },
  {
   "cell_type": "code",
   "execution_count": 15,
   "id": "73c5f88a",
   "metadata": {
    "execution": {
     "iopub.execute_input": "2022-05-09T20:10:36.797241Z",
     "iopub.status.busy": "2022-05-09T20:10:36.796648Z",
     "iopub.status.idle": "2022-05-09T20:10:36.816293Z",
     "shell.execute_reply": "2022-05-09T20:10:36.815826Z"
    },
    "papermill": {
     "duration": 0.052228,
     "end_time": "2022-05-09T20:10:36.816402",
     "exception": false,
     "start_time": "2022-05-09T20:10:36.764174",
     "status": "completed"
    },
    "tags": []
   },
   "outputs": [],
   "source": [
    "#Impoting functions from 'Kudzu'\n",
    "from kudzu.model import Model\n",
    "from kudzu.train import Learner\n",
    "from kudzu.optim import GD\n",
    "from kudzu.data import Data, Sampler,Dataloader\n",
    "\n",
    "from kudzu.callbacks import AccCallback\n",
    "from kudzu.callbacks import ClfCallback\n",
    "\n",
    "from kudzu.loss import MSE\n",
    "\n",
    "from kudzu.layer import Sigmoid,Relu\n",
    "from kudzu.layer import Affine"
   ]
  },
  {
   "cell_type": "markdown",
   "id": "bc01172a",
   "metadata": {
    "papermill": {
     "duration": 0.027533,
     "end_time": "2022-05-09T20:10:36.871387",
     "exception": false,
     "start_time": "2022-05-09T20:10:36.843854",
     "status": "completed"
    },
    "tags": []
   },
   "source": [
    "### Let us create a `Config` class, to store important parameters. \n",
    "This class essentially plays the role of a dictionary."
   ]
  },
  {
   "cell_type": "code",
   "execution_count": 16,
   "id": "978281aa",
   "metadata": {
    "execution": {
     "iopub.execute_input": "2022-05-09T20:10:36.929437Z",
     "iopub.status.busy": "2022-05-09T20:10:36.928833Z",
     "iopub.status.idle": "2022-05-09T20:10:36.941494Z",
     "shell.execute_reply": "2022-05-09T20:10:36.940984Z"
    },
    "papermill": {
     "duration": 0.043685,
     "end_time": "2022-05-09T20:10:36.941611",
     "exception": false,
     "start_time": "2022-05-09T20:10:36.897926",
     "status": "completed"
    },
    "tags": []
   },
   "outputs": [],
   "source": [
    "class Config:\n",
    "    pass\n",
    "config = Config()\n",
    "config.lr = 0.001\n",
    "config.num_epochs = 250\n",
    "config.bs = 50"
   ]
  },
  {
   "cell_type": "markdown",
   "id": "1385fa59",
   "metadata": {
    "papermill": {
     "duration": 0.028044,
     "end_time": "2022-05-09T20:10:36.996257",
     "exception": false,
     "start_time": "2022-05-09T20:10:36.968213",
     "status": "completed"
    },
    "tags": []
   },
   "source": [
    "### Running Models with the Training data\n",
    "Details about the network layers:\n",
    "- A first affine layer has 784 inputs and does 100 affine transforms. These are followed by a Relu\n",
    "- A second affine layer has 100 inputs from the 100 activations of the past layer, and does 100 affine transforms. These are followed by a Relu\n",
    "- A third affine layer has 100 activations and does 2 affine transformations to create an embedding for visualization. There is no non-linearity here.\n",
    "- A final \"logistic regression\" which has an affine transform from 2 inputs to 1 output, which is squeezed through a sigmoid.\n"
   ]
  },
  {
   "cell_type": "code",
   "execution_count": 17,
   "id": "2b9c66db",
   "metadata": {
    "execution": {
     "iopub.execute_input": "2022-05-09T20:10:37.055138Z",
     "iopub.status.busy": "2022-05-09T20:10:37.054583Z",
     "iopub.status.idle": "2022-05-09T20:10:37.069319Z",
     "shell.execute_reply": "2022-05-09T20:10:37.069831Z"
    },
    "papermill": {
     "duration": 0.047625,
     "end_time": "2022-05-09T20:10:37.069967",
     "exception": false,
     "start_time": "2022-05-09T20:10:37.022342",
     "status": "completed"
    },
    "tags": []
   },
   "outputs": [],
   "source": [
    "data = Data(X_train, y_train.reshape(-1,1))\n",
    "sampler = Sampler(data, config.bs, shuffle=True)\n",
    "\n",
    "dl = Dataloader(data, sampler)\n",
    "\n",
    "opt = GD(config.lr)\n",
    "loss = MSE()"
   ]
  },
  {
   "cell_type": "code",
   "execution_count": 18,
   "id": "b275e4c2",
   "metadata": {
    "execution": {
     "iopub.execute_input": "2022-05-09T20:10:37.133557Z",
     "iopub.status.busy": "2022-05-09T20:10:37.132966Z",
     "iopub.status.idle": "2022-05-09T20:10:37.145889Z",
     "shell.execute_reply": "2022-05-09T20:10:37.145355Z"
    },
    "papermill": {
     "duration": 0.046979,
     "end_time": "2022-05-09T20:10:37.146013",
     "exception": false,
     "start_time": "2022-05-09T20:10:37.099034",
     "status": "completed"
    },
    "tags": []
   },
   "outputs": [],
   "source": [
    "training_data_x = X_train\n",
    "testing_data_x = X_test\n",
    "training_data_y = y_train.reshape(-1,1)\n",
    "testing_data_y = y_test.reshape(-1,1)"
   ]
  },
  {
   "cell_type": "code",
   "execution_count": 19,
   "id": "76951160",
   "metadata": {
    "execution": {
     "iopub.execute_input": "2022-05-09T20:10:37.206072Z",
     "iopub.status.busy": "2022-05-09T20:10:37.205507Z",
     "iopub.status.idle": "2022-05-09T20:10:37.222620Z",
     "shell.execute_reply": "2022-05-09T20:10:37.223038Z"
    },
    "papermill": {
     "duration": 0.049841,
     "end_time": "2022-05-09T20:10:37.223167",
     "exception": false,
     "start_time": "2022-05-09T20:10:37.173326",
     "status": "completed"
    },
    "tags": []
   },
   "outputs": [
    {
     "name": "stdout",
     "output_type": "stream",
     "text": [
      "xavier\n",
      "xavier\n",
      "xavier\n",
      "xavier\n",
      "xavier\n"
     ]
    }
   ],
   "source": [
    "layers = [Affine(\"first\", 784, 100), Relu(\"first\"), Affine(\"second\", 100, 100), Relu(\"second\"), Affine(\"third\", 100, 2), Affine(\"last\", 2, 1), Sigmoid(\"last\")]\n",
    "model_nn = Model(layers)\n",
    "model_lr = Model([Affine(\"logits\", 784, 1), Sigmoid(\"sigmoid\")])"
   ]
  },
  {
   "cell_type": "code",
   "execution_count": 20,
   "id": "6eede77a",
   "metadata": {
    "execution": {
     "iopub.execute_input": "2022-05-09T20:10:37.283844Z",
     "iopub.status.busy": "2022-05-09T20:10:37.283350Z",
     "iopub.status.idle": "2022-05-09T20:10:37.294581Z",
     "shell.execute_reply": "2022-05-09T20:10:37.294191Z"
    },
    "papermill": {
     "duration": 0.043087,
     "end_time": "2022-05-09T20:10:37.294680",
     "exception": false,
     "start_time": "2022-05-09T20:10:37.251593",
     "status": "completed"
    },
    "tags": []
   },
   "outputs": [],
   "source": [
    "nn_learner = Learner(loss, model_nn, opt, config.num_epochs)\n",
    "acc_nn = ClfCallback(nn_learner, config.bs, training_data_x , testing_data_x, training_data_y, testing_data_y)\n",
    "nn_learner.set_callbacks([acc_nn])"
   ]
  },
  {
   "cell_type": "code",
   "execution_count": 21,
   "id": "877b6cc7",
   "metadata": {
    "execution": {
     "iopub.execute_input": "2022-05-09T20:10:37.355179Z",
     "iopub.status.busy": "2022-05-09T20:10:37.354619Z",
     "iopub.status.idle": "2022-05-09T20:10:37.366302Z",
     "shell.execute_reply": "2022-05-09T20:10:37.366755Z"
    },
    "papermill": {
     "duration": 0.044957,
     "end_time": "2022-05-09T20:10:37.366890",
     "exception": false,
     "start_time": "2022-05-09T20:10:37.321933",
     "status": "completed"
    },
    "tags": []
   },
   "outputs": [],
   "source": [
    "lr_learner = Learner(loss, model_lr, opt, config.num_epochs)\n",
    "acc_lr = ClfCallback(lr_learner, config.bs, training_data_x , testing_data_x, training_data_y, testing_data_y)\n",
    "lr_learner.set_callbacks([acc_lr])"
   ]
  },
  {
   "cell_type": "code",
   "execution_count": 22,
   "id": "d9b133c3",
   "metadata": {
    "execution": {
     "iopub.execute_input": "2022-05-09T20:10:37.431124Z",
     "iopub.status.busy": "2022-05-09T20:10:37.430516Z",
     "iopub.status.idle": "2022-05-09T20:11:59.670941Z",
     "shell.execute_reply": "2022-05-09T20:11:59.671800Z"
    },
    "papermill": {
     "duration": 82.275931,
     "end_time": "2022-05-09T20:11:59.671973",
     "exception": false,
     "start_time": "2022-05-09T20:10:37.396042",
     "status": "completed"
    },
    "tags": []
   },
   "outputs": [
    {
     "name": "stdout",
     "output_type": "stream",
     "text": [
      "Epoch 0, Loss 0.2299\n",
      "Training Accuracy: 0.7288, Testing Accuracy: 0.7510\n",
      "\n"
     ]
    },
    {
     "name": "stdout",
     "output_type": "stream",
     "text": [
      "Epoch 10, Loss 0.0737\n",
      "Training Accuracy: 0.9280, Testing Accuracy: 0.9461\n",
      "\n"
     ]
    },
    {
     "name": "stdout",
     "output_type": "stream",
     "text": [
      "Epoch 20, Loss 0.0491\n",
      "Training Accuracy: 0.9470, Testing Accuracy: 0.9592\n",
      "\n"
     ]
    },
    {
     "name": "stdout",
     "output_type": "stream",
     "text": [
      "Epoch 30, Loss 0.0405\n",
      "Training Accuracy: 0.9552, Testing Accuracy: 0.9652\n",
      "\n"
     ]
    },
    {
     "name": "stdout",
     "output_type": "stream",
     "text": [
      "Epoch 40, Loss 0.036\n",
      "Training Accuracy: 0.9588, Testing Accuracy: 0.9662\n",
      "\n"
     ]
    },
    {
     "name": "stdout",
     "output_type": "stream",
     "text": [
      "Epoch 50, Loss 0.0331\n",
      "Training Accuracy: 0.9615, Testing Accuracy: 0.9682\n",
      "\n"
     ]
    },
    {
     "name": "stdout",
     "output_type": "stream",
     "text": [
      "Epoch 60, Loss 0.0311\n",
      "Training Accuracy: 0.9631, Testing Accuracy: 0.9688\n",
      "\n"
     ]
    },
    {
     "name": "stdout",
     "output_type": "stream",
     "text": [
      "Epoch 70, Loss 0.0294\n",
      "Training Accuracy: 0.9646, Testing Accuracy: 0.9688\n",
      "\n"
     ]
    },
    {
     "name": "stdout",
     "output_type": "stream",
     "text": [
      "Epoch 80, Loss 0.0281\n",
      "Training Accuracy: 0.9661, Testing Accuracy: 0.9693\n",
      "\n"
     ]
    },
    {
     "name": "stdout",
     "output_type": "stream",
     "text": [
      "Epoch 90, Loss 0.027\n",
      "Training Accuracy: 0.9680, Testing Accuracy: 0.9713\n",
      "\n"
     ]
    },
    {
     "name": "stdout",
     "output_type": "stream",
     "text": [
      "Epoch 100, Loss 0.0261\n",
      "Training Accuracy: 0.9691, Testing Accuracy: 0.9713\n",
      "\n"
     ]
    },
    {
     "name": "stdout",
     "output_type": "stream",
     "text": [
      "Epoch 110, Loss 0.0252\n",
      "Training Accuracy: 0.9699, Testing Accuracy: 0.9723\n",
      "\n"
     ]
    },
    {
     "name": "stdout",
     "output_type": "stream",
     "text": [
      "Epoch 120, Loss 0.0244\n",
      "Training Accuracy: 0.9710, Testing Accuracy: 0.9718\n",
      "\n"
     ]
    },
    {
     "name": "stdout",
     "output_type": "stream",
     "text": [
      "Epoch 130, Loss 0.0238\n",
      "Training Accuracy: 0.9719, Testing Accuracy: 0.9718\n",
      "\n"
     ]
    },
    {
     "name": "stdout",
     "output_type": "stream",
     "text": [
      "Epoch 140, Loss 0.0231\n",
      "Training Accuracy: 0.9724, Testing Accuracy: 0.9718\n",
      "\n"
     ]
    },
    {
     "name": "stdout",
     "output_type": "stream",
     "text": [
      "Epoch 150, Loss 0.0225\n",
      "Training Accuracy: 0.9730, Testing Accuracy: 0.9718\n",
      "\n"
     ]
    },
    {
     "name": "stdout",
     "output_type": "stream",
     "text": [
      "Epoch 160, Loss 0.022\n",
      "Training Accuracy: 0.9737, Testing Accuracy: 0.9738\n",
      "\n"
     ]
    },
    {
     "name": "stdout",
     "output_type": "stream",
     "text": [
      "Epoch 170, Loss 0.0215\n",
      "Training Accuracy: 0.9749, Testing Accuracy: 0.9738\n",
      "\n"
     ]
    },
    {
     "name": "stdout",
     "output_type": "stream",
     "text": [
      "Epoch 180, Loss 0.021\n",
      "Training Accuracy: 0.9756, Testing Accuracy: 0.9738\n",
      "\n"
     ]
    },
    {
     "name": "stdout",
     "output_type": "stream",
     "text": [
      "Epoch 190, Loss 0.0206\n",
      "Training Accuracy: 0.9764, Testing Accuracy: 0.9743\n",
      "\n"
     ]
    },
    {
     "name": "stdout",
     "output_type": "stream",
     "text": [
      "Epoch 200, Loss 0.0201\n",
      "Training Accuracy: 0.9767, Testing Accuracy: 0.9738\n",
      "\n"
     ]
    },
    {
     "name": "stdout",
     "output_type": "stream",
     "text": [
      "Epoch 210, Loss 0.0197\n",
      "Training Accuracy: 0.9774, Testing Accuracy: 0.9743\n",
      "\n"
     ]
    },
    {
     "name": "stdout",
     "output_type": "stream",
     "text": [
      "Epoch 220, Loss 0.0193\n",
      "Training Accuracy: 0.9775, Testing Accuracy: 0.9743\n",
      "\n"
     ]
    },
    {
     "name": "stdout",
     "output_type": "stream",
     "text": [
      "Epoch 230, Loss 0.0189\n",
      "Training Accuracy: 0.9781, Testing Accuracy: 0.9743\n",
      "\n"
     ]
    },
    {
     "name": "stdout",
     "output_type": "stream",
     "text": [
      "Epoch 240, Loss 0.0185\n",
      "Training Accuracy: 0.9788, Testing Accuracy: 0.9753\n",
      "\n"
     ]
    },
    {
     "data": {
      "text/plain": [
       "0.025792058442808546"
      ]
     },
     "execution_count": 22,
     "metadata": {},
     "output_type": "execute_result"
    }
   ],
   "source": [
    "nn_learner.train_loop(dl)"
   ]
  },
  {
   "cell_type": "code",
   "execution_count": 23,
   "id": "e0163366",
   "metadata": {
    "execution": {
     "iopub.execute_input": "2022-05-09T20:11:59.753911Z",
     "iopub.status.busy": "2022-05-09T20:11:59.753417Z",
     "iopub.status.idle": "2022-05-09T20:12:14.646699Z",
     "shell.execute_reply": "2022-05-09T20:12:14.647556Z"
    },
    "papermill": {
     "duration": 14.939189,
     "end_time": "2022-05-09T20:12:14.647726",
     "exception": false,
     "start_time": "2022-05-09T20:11:59.708537",
     "status": "completed"
    },
    "tags": []
   },
   "outputs": [
    {
     "name": "stdout",
     "output_type": "stream",
     "text": [
      "Epoch 0, Loss 0.2655\n",
      "Training Accuracy: 0.5973, Testing Accuracy: 0.5806\n",
      "\n"
     ]
    },
    {
     "name": "stdout",
     "output_type": "stream",
     "text": [
      "Epoch 10, Loss 0.1048\n",
      "Training Accuracy: 0.9086, Testing Accuracy: 0.9178\n",
      "\n"
     ]
    },
    {
     "name": "stdout",
     "output_type": "stream",
     "text": [
      "Epoch 20, Loss 0.08\n",
      "Training Accuracy: 0.9256, Testing Accuracy: 0.9360\n",
      "\n"
     ]
    },
    {
     "name": "stdout",
     "output_type": "stream",
     "text": [
      "Epoch 30, Loss 0.0687\n",
      "Training Accuracy: 0.9342, Testing Accuracy: 0.9476\n",
      "\n"
     ]
    },
    {
     "name": "stdout",
     "output_type": "stream",
     "text": [
      "Epoch 40, Loss 0.062\n",
      "Training Accuracy: 0.9400, Testing Accuracy: 0.9536\n",
      "\n"
     ]
    },
    {
     "name": "stdout",
     "output_type": "stream",
     "text": [
      "Epoch 50, Loss 0.0574\n",
      "Training Accuracy: 0.9437, Testing Accuracy: 0.9567\n",
      "\n"
     ]
    },
    {
     "name": "stdout",
     "output_type": "stream",
     "text": [
      "Epoch 60, Loss 0.054\n",
      "Training Accuracy: 0.9471, Testing Accuracy: 0.9607\n",
      "\n"
     ]
    },
    {
     "name": "stdout",
     "output_type": "stream",
     "text": [
      "Epoch 70, Loss 0.0514\n",
      "Training Accuracy: 0.9491, Testing Accuracy: 0.9602\n",
      "\n"
     ]
    },
    {
     "name": "stdout",
     "output_type": "stream",
     "text": [
      "Epoch 80, Loss 0.0493\n",
      "Training Accuracy: 0.9504, Testing Accuracy: 0.9627\n",
      "\n"
     ]
    },
    {
     "name": "stdout",
     "output_type": "stream",
     "text": [
      "Epoch 90, Loss 0.0476\n",
      "Training Accuracy: 0.9516, Testing Accuracy: 0.9622\n",
      "\n"
     ]
    },
    {
     "name": "stdout",
     "output_type": "stream",
     "text": [
      "Epoch 100, Loss 0.0462\n",
      "Training Accuracy: 0.9534, Testing Accuracy: 0.9642\n",
      "\n"
     ]
    },
    {
     "name": "stdout",
     "output_type": "stream",
     "text": [
      "Epoch 110, Loss 0.0449\n",
      "Training Accuracy: 0.9548, Testing Accuracy: 0.9657\n",
      "\n"
     ]
    },
    {
     "name": "stdout",
     "output_type": "stream",
     "text": [
      "Epoch 120, Loss 0.0438\n",
      "Training Accuracy: 0.9559, Testing Accuracy: 0.9657\n",
      "\n"
     ]
    },
    {
     "name": "stdout",
     "output_type": "stream",
     "text": [
      "Epoch 130, Loss 0.0429\n",
      "Training Accuracy: 0.9564, Testing Accuracy: 0.9652\n",
      "\n"
     ]
    },
    {
     "name": "stdout",
     "output_type": "stream",
     "text": [
      "Epoch 140, Loss 0.042\n",
      "Training Accuracy: 0.9574, Testing Accuracy: 0.9652\n",
      "\n"
     ]
    },
    {
     "name": "stdout",
     "output_type": "stream",
     "text": [
      "Epoch 150, Loss 0.0413\n",
      "Training Accuracy: 0.9579, Testing Accuracy: 0.9657\n",
      "\n"
     ]
    },
    {
     "name": "stdout",
     "output_type": "stream",
     "text": [
      "Epoch 160, Loss 0.0406\n",
      "Training Accuracy: 0.9582, Testing Accuracy: 0.9657\n",
      "\n"
     ]
    },
    {
     "name": "stdout",
     "output_type": "stream",
     "text": [
      "Epoch 170, Loss 0.04\n",
      "Training Accuracy: 0.9586, Testing Accuracy: 0.9667\n",
      "\n"
     ]
    },
    {
     "name": "stdout",
     "output_type": "stream",
     "text": [
      "Epoch 180, Loss 0.0394\n",
      "Training Accuracy: 0.9589, Testing Accuracy: 0.9667\n",
      "\n"
     ]
    },
    {
     "name": "stdout",
     "output_type": "stream",
     "text": [
      "Epoch 190, Loss 0.0389\n",
      "Training Accuracy: 0.9595, Testing Accuracy: 0.9672\n",
      "\n"
     ]
    },
    {
     "name": "stdout",
     "output_type": "stream",
     "text": [
      "Epoch 200, Loss 0.0384\n",
      "Training Accuracy: 0.9599, Testing Accuracy: 0.9677\n",
      "\n"
     ]
    },
    {
     "name": "stdout",
     "output_type": "stream",
     "text": [
      "Epoch 210, Loss 0.038\n",
      "Training Accuracy: 0.9599, Testing Accuracy: 0.9677\n",
      "\n"
     ]
    },
    {
     "name": "stdout",
     "output_type": "stream",
     "text": [
      "Epoch 220, Loss 0.0376\n",
      "Training Accuracy: 0.9603, Testing Accuracy: 0.9677\n",
      "\n"
     ]
    },
    {
     "name": "stdout",
     "output_type": "stream",
     "text": [
      "Epoch 230, Loss 0.0372\n",
      "Training Accuracy: 0.9602, Testing Accuracy: 0.9682\n",
      "\n"
     ]
    },
    {
     "name": "stdout",
     "output_type": "stream",
     "text": [
      "Epoch 240, Loss 0.0368\n",
      "Training Accuracy: 0.9605, Testing Accuracy: 0.9682\n",
      "\n"
     ]
    },
    {
     "data": {
      "text/plain": [
       "0.03768680400967865"
      ]
     },
     "execution_count": 23,
     "metadata": {},
     "output_type": "execute_result"
    }
   ],
   "source": [
    "lr_learner.train_loop(dl)"
   ]
  },
  {
   "cell_type": "code",
   "execution_count": 24,
   "id": "ca410940",
   "metadata": {
    "execution": {
     "iopub.execute_input": "2022-05-09T20:12:14.754397Z",
     "iopub.status.busy": "2022-05-09T20:12:14.753752Z",
     "iopub.status.idle": "2022-05-09T20:12:15.023857Z",
     "shell.execute_reply": "2022-05-09T20:12:15.023352Z"
    },
    "papermill": {
     "duration": 0.329844,
     "end_time": "2022-05-09T20:12:15.023994",
     "exception": false,
     "start_time": "2022-05-09T20:12:14.694150",
     "status": "completed"
    },
    "tags": []
   },
   "outputs": [
    {
     "data": {
      "text/plain": [
       "<matplotlib.legend.Legend at 0x7fab663a3b00>"
      ]
     },
     "execution_count": 24,
     "metadata": {},
     "output_type": "execute_result"
    },
    {
     "data": {
      "image/png": "[encoded data removed]",
      "text/plain": [
       "<Figure size 1080x720 with 1 Axes>"
      ]
     },
     "metadata": {
      "needs_background": "light"
     },
     "output_type": "display_data"
    }
   ],
   "source": [
    "#comparing the results of NN and LR\n",
    "plt.figure(figsize=(15,10))\n",
    "\n",
    "# Neural Network plots\n",
    "plt.plot(acc_nn.accuracies, 'r-', label = \"Training Accuracies - NN\")\n",
    "plt.plot(acc_nn.test_accuracies, 'g-', label = \"Testing Accuracies - NN\")\n",
    "\n",
    "# Logistic Regression plots\n",
    "plt.plot(acc_lr.accuracies, 'k-', label = \"Training Accuracies - LR\")\n",
    "plt.plot(acc_lr.test_accuracies, 'b-', label = \"Testing Accuracies - LR\")\n",
    "plt.legend()"
   ]
  },
  {
   "cell_type": "markdown",
   "id": "80dfb35c",
   "metadata": {
    "papermill": {
     "duration": 0.047381,
     "end_time": "2022-05-09T20:12:15.119143",
     "exception": false,
     "start_time": "2022-05-09T20:12:15.071762",
     "status": "completed"
    },
    "tags": []
   },
   "source": [
    "#### Plotting the outputs of this layer of the NN.\n"
   ]
  },
  {
   "cell_type": "code",
   "execution_count": 25,
   "id": "45eb2ff5",
   "metadata": {
    "execution": {
     "iopub.execute_input": "2022-05-09T20:12:15.216924Z",
     "iopub.status.busy": "2022-05-09T20:12:15.216292Z",
     "iopub.status.idle": "2022-05-09T20:12:15.239030Z",
     "shell.execute_reply": "2022-05-09T20:12:15.239513Z"
    },
    "papermill": {
     "duration": 0.073918,
     "end_time": "2022-05-09T20:12:15.239664",
     "exception": false,
     "start_time": "2022-05-09T20:12:15.165746",
     "status": "completed"
    },
    "tags": []
   },
   "outputs": [],
   "source": [
    "new_model = Model(layers[:-2])\n",
    "testing_plot = new_model(testing_data_x)"
   ]
  },
  {
   "cell_type": "code",
   "execution_count": 26,
   "id": "4c0a5485",
   "metadata": {
    "execution": {
     "iopub.execute_input": "2022-05-09T20:12:15.341519Z",
     "iopub.status.busy": "2022-05-09T20:12:15.339887Z",
     "iopub.status.idle": "2022-05-09T20:12:15.591622Z",
     "shell.execute_reply": "2022-05-09T20:12:15.592108Z"
    },
    "papermill": {
     "duration": 0.304756,
     "end_time": "2022-05-09T20:12:15.592265",
     "exception": false,
     "start_time": "2022-05-09T20:12:15.287509",
     "status": "completed"
    },
    "tags": []
   },
   "outputs": [
    {
     "data": {
      "text/plain": [
       "Text(0.5, 1.0, 'Outputs')"
      ]
     },
     "execution_count": 26,
     "metadata": {},
     "output_type": "execute_result"
    },
    {
     "data": {
      "image/png": "[encoded data removed]",
      "text/plain": [
       "<Figure size 576x504 with 1 Axes>"
      ]
     },
     "metadata": {
      "needs_background": "light"
     },
     "output_type": "display_data"
    }
   ],
   "source": [
    "# Plotting the scatter plot of points and color coding by class\n",
    "plt.figure(figsize=(8,7))\n",
    "plt.scatter(testing_plot[:,0], testing_plot[:,1], alpha = 0.1, c = y_test.ravel());\n",
    "plt.title('Outputs')"
   ]
  },
  {
   "cell_type": "markdown",
   "id": "a74fcf8f",
   "metadata": {
    "papermill": {
     "duration": 0.050385,
     "end_time": "2022-05-09T20:12:15.693871",
     "exception": false,
     "start_time": "2022-05-09T20:12:15.643486",
     "status": "completed"
    },
    "tags": []
   },
   "source": [
    "Probability contours"
   ]
  },
  {
   "cell_type": "code",
   "execution_count": 27,
   "id": "d0afc8e3",
   "metadata": {
    "execution": {
     "iopub.execute_input": "2022-05-09T20:12:15.805053Z",
     "iopub.status.busy": "2022-05-09T20:12:15.803933Z",
     "iopub.status.idle": "2022-05-09T20:12:15.816964Z",
     "shell.execute_reply": "2022-05-09T20:12:15.816425Z"
    },
    "papermill": {
     "duration": 0.072219,
     "end_time": "2022-05-09T20:12:15.817093",
     "exception": false,
     "start_time": "2022-05-09T20:12:15.744874",
     "status": "completed"
    },
    "tags": []
   },
   "outputs": [],
   "source": [
    "model_prob = Model(layers[-2:]) "
   ]
  },
  {
   "cell_type": "code",
   "execution_count": 28,
   "id": "9b96e238",
   "metadata": {
    "execution": {
     "iopub.execute_input": "2022-05-09T20:12:15.924609Z",
     "iopub.status.busy": "2022-05-09T20:12:15.923992Z",
     "iopub.status.idle": "2022-05-09T20:12:15.939898Z",
     "shell.execute_reply": "2022-05-09T20:12:15.940351Z"
    },
    "papermill": {
     "duration": 0.073236,
     "end_time": "2022-05-09T20:12:15.940502",
     "exception": false,
     "start_time": "2022-05-09T20:12:15.867266",
     "status": "completed"
    },
    "tags": []
   },
   "outputs": [],
   "source": [
    "#creating the x and y ranges according to the above generated plot.\n",
    "x_range = np.linspace(-4, 1, 100) \n",
    "y_range = np.linspace(-6, 6, 100) \n",
    "x_grid, y_grid = np.meshgrid(x_range, y_range) # x_grid and y_grig are of size 100 X 100\n",
    "\n",
    "# converting x_grid and y_grid to continuous arrays\n",
    "x_gridflat = np.ravel(x_grid)\n",
    "y_gridflat = np.ravel(y_grid)\n",
    "\n",
    "# The last layer of the current model takes two columns as input. Hence transpose of np.vstack() is required.\n",
    "X = np.vstack((x_gridflat, y_gridflat)).T\n",
    "\n",
    "prob_contour = model_prob(X).reshape(100,100) "
   ]
  },
  {
   "cell_type": "code",
   "execution_count": 29,
   "id": "da72499a",
   "metadata": {
    "execution": {
     "iopub.execute_input": "2022-05-09T20:12:16.086686Z",
     "iopub.status.busy": "2022-05-09T20:12:16.085717Z",
     "iopub.status.idle": "2022-05-09T20:12:16.371959Z",
     "shell.execute_reply": "2022-05-09T20:12:16.371446Z"
    },
    "papermill": {
     "duration": 0.380744,
     "end_time": "2022-05-09T20:12:16.372090",
     "exception": false,
     "start_time": "2022-05-09T20:12:15.991346",
     "status": "completed"
    },
    "tags": []
   },
   "outputs": [
    {
     "data": {
      "image/png": "[encoded data removed]",
      "text/plain": [
       "<Figure size 720x648 with 1 Axes>"
      ]
     },
     "metadata": {
      "needs_background": "light"
     },
     "output_type": "display_data"
    }
   ],
   "source": [
    "plt.figure(figsize=(10,9))\n",
    "plt.scatter(testing_plot[:,0], testing_plot[:,1], alpha = 0.1, c = y_test.ravel())\n",
    "contours = plt.contour(x_grid,y_grid,prob_contour)\n",
    "plt.title('Probability Contours')\n",
    "plt.clabel(contours, inline = True );"
   ]
  },
  {
   "cell_type": "code",
   "execution_count": null,
   "id": "e81b4ac7",
   "metadata": {
    "papermill": {
     "duration": 0.053555,
     "end_time": "2022-05-09T20:12:16.479978",
     "exception": false,
     "start_time": "2022-05-09T20:12:16.426423",
     "status": "completed"
    },
    "tags": []
   },
   "outputs": [],
   "source": []
  }
 ],
 "metadata": {
  "kernelspec": {
   "display_name": "Python 3",
   "language": "python",
   "name": "python3"
  },
  "language_info": {
   "codemirror_mode": {
    "name": "ipython",
    "version": 3
   },
   "file_extension": ".py",
   "mimetype": "text/x-python",
   "name": "python",
   "nbconvert_exporter": "python",
   "pygments_lexer": "ipython3",
   "version": "3.6.15"
  },
  "papermill": {
   "default_parameters": {},
   "duration": 106.105373,
   "end_time": "2022-05-09T20:12:16.955251",
   "environment_variables": {},
   "exception": null,
   "input_path": "2020-08-11-part2.ipynb",
   "output_path": "2020-08-11-part2.ipynb",
   "parameters": {},
   "start_time": "2022-05-09T20:10:30.849878",
   "version": "2.3.3"
  }
 },
 "nbformat": 4,
 "nbformat_minor": 5
}