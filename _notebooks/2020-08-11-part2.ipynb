{
 "cells": [
  {
   "cell_type": "markdown",
   "id": "98380cd3",
   "metadata": {
    "papermill": {
     "duration": 0.030426,
     "end_time": "2022-07-22T10:10:21.716469",
     "exception": false,
     "start_time": "2022-07-22T10:10:21.686043",
     "status": "completed"
    },
    "tags": []
   },
   "source": [
    "# Distinguish Your Own Digits (DYOD)"
   ]
  },
  {
   "cell_type": "markdown",
   "id": "ef31240d",
   "metadata": {
    "papermill": {
     "duration": 0.023832,
     "end_time": "2022-07-22T10:10:21.764592",
     "exception": false,
     "start_time": "2022-07-22T10:10:21.740760",
     "status": "completed"
    },
    "tags": []
   },
   "source": [
    "You are going to write a classifier that distinguishes between the number 3 and number 8."
   ]
  },
  {
   "cell_type": "code",
   "execution_count": 1,
   "id": "b15c8646",
   "metadata": {
    "execution": {
     "iopub.execute_input": "2022-07-22T10:10:21.815719Z",
     "iopub.status.busy": "2022-07-22T10:10:21.815091Z",
     "iopub.status.idle": "2022-07-22T10:10:21.832166Z",
     "shell.execute_reply": "2022-07-22T10:10:21.832669Z"
    },
    "papermill": {
     "duration": 0.044289,
     "end_time": "2022-07-22T10:10:21.832838",
     "exception": false,
     "start_time": "2022-07-22T10:10:21.788549",
     "status": "completed"
    },
    "tags": []
   },
   "outputs": [],
   "source": [
    "%load_ext autoreload\n",
    "%autoreload 2"
   ]
  },
  {
   "cell_type": "code",
   "execution_count": 2,
   "id": "22ef38dc",
   "metadata": {
    "execution": {
     "iopub.execute_input": "2022-07-22T10:10:21.885779Z",
     "iopub.status.busy": "2022-07-22T10:10:21.885144Z",
     "iopub.status.idle": "2022-07-22T10:10:22.415212Z",
     "shell.execute_reply": "2022-07-22T10:10:22.415743Z"
    },
    "papermill": {
     "duration": 0.559137,
     "end_time": "2022-07-22T10:10:22.415905",
     "exception": false,
     "start_time": "2022-07-22T10:10:21.856768",
     "status": "completed"
    },
    "tags": []
   },
   "outputs": [],
   "source": [
    "%matplotlib inline\n",
    "import numpy as np\n",
    "import matplotlib.pyplot as plt\n",
    "import pandas as pd"
   ]
  },
  {
   "cell_type": "markdown",
   "id": "ba036198",
   "metadata": {
    "papermill": {
     "duration": 0.023714,
     "end_time": "2022-07-22T10:10:22.463361",
     "exception": false,
     "start_time": "2022-07-22T10:10:22.439647",
     "status": "completed"
    },
    "tags": []
   },
   "source": [
    "From the command line run `pip install mnist`. This is a library that will help you bring down the mnist dataset. If you run this from a notebook, you need to put  `!pip install mnist` in a cell by itself."
   ]
  },
  {
   "cell_type": "code",
   "execution_count": 3,
   "id": "bb6ad8a1",
   "metadata": {
    "execution": {
     "iopub.execute_input": "2022-07-22T10:10:22.516299Z",
     "iopub.status.busy": "2022-07-22T10:10:22.515693Z",
     "iopub.status.idle": "2022-07-22T10:10:25.082829Z",
     "shell.execute_reply": "2022-07-22T10:10:25.083371Z"
    },
    "papermill": {
     "duration": 2.595967,
     "end_time": "2022-07-22T10:10:25.083537",
     "exception": false,
     "start_time": "2022-07-22T10:10:22.487570",
     "status": "completed"
    },
    "tags": []
   },
   "outputs": [
    {
     "name": "stdout",
     "output_type": "stream",
     "text": [
      "Collecting mnist\r\n"
     ]
    },
    {
     "name": "stdout",
     "output_type": "stream",
     "text": [
      "  Downloading mnist-0.2.2-py2.py3-none-any.whl (3.5 kB)\r\n"
     ]
    },
    {
     "name": "stdout",
     "output_type": "stream",
     "text": [
      "Requirement already satisfied: numpy in /opt/hostedtoolcache/Python/3.6.15/x64/lib/python3.6/site-packages (from mnist) (1.19.5)\r\n"
     ]
    },
    {
     "name": "stdout",
     "output_type": "stream",
     "text": [
      "Installing collected packages: mnist\r\n",
      "Successfully installed mnist-0.2.2\r\n"
     ]
    }
   ],
   "source": [
    "!pip install mnist"
   ]
  },
  {
   "cell_type": "markdown",
   "id": "69df9c9a",
   "metadata": {
    "papermill": {
     "duration": 0.021928,
     "end_time": "2022-07-22T10:10:25.128372",
     "exception": false,
     "start_time": "2022-07-22T10:10:25.106444",
     "status": "completed"
    },
    "tags": []
   },
   "source": [
    "## Preparing the Data"
   ]
  },
  {
   "cell_type": "code",
   "execution_count": 4,
   "id": "7f69d806",
   "metadata": {
    "execution": {
     "iopub.execute_input": "2022-07-22T10:10:25.177251Z",
     "iopub.status.busy": "2022-07-22T10:10:25.176550Z",
     "iopub.status.idle": "2022-07-22T10:10:25.192494Z",
     "shell.execute_reply": "2022-07-22T10:10:25.192907Z"
    },
    "papermill": {
     "duration": 0.042616,
     "end_time": "2022-07-22T10:10:25.193060",
     "exception": false,
     "start_time": "2022-07-22T10:10:25.150444",
     "status": "completed"
    },
    "tags": []
   },
   "outputs": [],
   "source": [
    "import mnist"
   ]
  },
  {
   "cell_type": "code",
   "execution_count": 5,
   "id": "a411e44f",
   "metadata": {
    "execution": {
     "iopub.execute_input": "2022-07-22T10:10:25.241152Z",
     "iopub.status.busy": "2022-07-22T10:10:25.240508Z",
     "iopub.status.idle": "2022-07-22T10:10:27.314045Z",
     "shell.execute_reply": "2022-07-22T10:10:27.314820Z"
    },
    "papermill": {
     "duration": 2.100038,
     "end_time": "2022-07-22T10:10:27.314969",
     "exception": false,
     "start_time": "2022-07-22T10:10:25.214931",
     "status": "completed"
    },
    "tags": []
   },
   "outputs": [],
   "source": [
    "train_images = mnist.train_images()\n",
    "train_labels = mnist.train_labels()"
   ]
  },
  {
   "cell_type": "code",
   "execution_count": 6,
   "id": "dceab3a5",
   "metadata": {
    "execution": {
     "iopub.execute_input": "2022-07-22T10:10:27.363212Z",
     "iopub.status.busy": "2022-07-22T10:10:27.362667Z",
     "iopub.status.idle": "2022-07-22T10:10:27.378264Z",
     "shell.execute_reply": "2022-07-22T10:10:27.378671Z"
    },
    "papermill": {
     "duration": 0.041767,
     "end_time": "2022-07-22T10:10:27.378798",
     "exception": false,
     "start_time": "2022-07-22T10:10:27.337031",
     "status": "completed"
    },
    "tags": []
   },
   "outputs": [
    {
     "data": {
      "text/plain": [
       "((60000, 28, 28), (60000,))"
      ]
     },
     "execution_count": 6,
     "metadata": {},
     "output_type": "execute_result"
    }
   ],
   "source": [
    "train_images.shape, train_labels.shape"
   ]
  },
  {
   "cell_type": "code",
   "execution_count": 7,
   "id": "f50dc2bb",
   "metadata": {
    "execution": {
     "iopub.execute_input": "2022-07-22T10:10:27.427023Z",
     "iopub.status.busy": "2022-07-22T10:10:27.426465Z",
     "iopub.status.idle": "2022-07-22T10:10:27.621352Z",
     "shell.execute_reply": "2022-07-22T10:10:27.621831Z"
    },
    "papermill": {
     "duration": 0.220843,
     "end_time": "2022-07-22T10:10:27.621980",
     "exception": false,
     "start_time": "2022-07-22T10:10:27.401137",
     "status": "completed"
    },
    "tags": []
   },
   "outputs": [],
   "source": [
    "test_images = mnist.test_images()\n",
    "test_labels = mnist.test_labels()"
   ]
  },
  {
   "cell_type": "code",
   "execution_count": 8,
   "id": "fc38cf1b",
   "metadata": {
    "execution": {
     "iopub.execute_input": "2022-07-22T10:10:27.671159Z",
     "iopub.status.busy": "2022-07-22T10:10:27.670615Z",
     "iopub.status.idle": "2022-07-22T10:10:27.685186Z",
     "shell.execute_reply": "2022-07-22T10:10:27.685599Z"
    },
    "papermill": {
     "duration": 0.041231,
     "end_time": "2022-07-22T10:10:27.685726",
     "exception": false,
     "start_time": "2022-07-22T10:10:27.644495",
     "status": "completed"
    },
    "tags": []
   },
   "outputs": [
    {
     "data": {
      "text/plain": [
       "((10000, 28, 28), (10000,))"
      ]
     },
     "execution_count": 8,
     "metadata": {},
     "output_type": "execute_result"
    }
   ],
   "source": [
    "test_images.shape, test_labels.shape"
   ]
  },
  {
   "cell_type": "code",
   "execution_count": 9,
   "id": "f9ed8fe0",
   "metadata": {
    "execution": {
     "iopub.execute_input": "2022-07-22T10:10:27.733809Z",
     "iopub.status.busy": "2022-07-22T10:10:27.733270Z",
     "iopub.status.idle": "2022-07-22T10:10:27.882914Z",
     "shell.execute_reply": "2022-07-22T10:10:27.882397Z"
    },
    "papermill": {
     "duration": 0.175264,
     "end_time": "2022-07-22T10:10:27.883044",
     "exception": false,
     "start_time": "2022-07-22T10:10:27.707780",
     "status": "completed"
    },
    "tags": []
   },
   "outputs": [
    {
     "name": "stdout",
     "output_type": "stream",
     "text": [
      "2\n"
     ]
    },
    {
     "data": {
      "text/plain": [
       "<matplotlib.image.AxesImage at 0x7f7bd4cd9518>"
      ]
     },
     "execution_count": 9,
     "metadata": {},
     "output_type": "execute_result"
    },
    {
     "data": {
      "image/png": "[encoded data removed]",
      "text/plain": [
       "<Figure size 432x288 with 1 Axes>"
      ]
     },
     "metadata": {
      "needs_background": "light"
     },
     "output_type": "display_data"
    }
   ],
   "source": [
    "image_index = 7776 # You may select anything up to 60,000\n",
    "print(train_labels[image_index]) \n",
    "plt.imshow(train_images[image_index], cmap='Greys')"
   ]
  },
  {
   "cell_type": "markdown",
   "id": "a8d2388d",
   "metadata": {
    "papermill": {
     "duration": 0.026777,
     "end_time": "2022-07-22T10:10:27.936837",
     "exception": false,
     "start_time": "2022-07-22T10:10:27.910060",
     "status": "completed"
    },
    "tags": []
   },
   "source": [
    "## Filter data to get 3 and 8 out"
   ]
  },
  {
   "cell_type": "code",
   "execution_count": 10,
   "id": "776f7fc7",
   "metadata": {
    "execution": {
     "iopub.execute_input": "2022-07-22T10:10:27.995085Z",
     "iopub.status.busy": "2022-07-22T10:10:27.994429Z",
     "iopub.status.idle": "2022-07-22T10:10:28.014623Z",
     "shell.execute_reply": "2022-07-22T10:10:28.015104Z"
    },
    "papermill": {
     "duration": 0.052091,
     "end_time": "2022-07-22T10:10:28.015247",
     "exception": false,
     "start_time": "2022-07-22T10:10:27.963156",
     "status": "completed"
    },
    "tags": []
   },
   "outputs": [],
   "source": [
    "train_filter = np.where((train_labels == 3 ) | (train_labels == 8))\n",
    "test_filter = np.where((test_labels == 3) | (test_labels == 8))\n",
    "X_train, y_train = train_images[train_filter], train_labels[train_filter]\n",
    "X_test, y_test = test_images[test_filter], test_labels[test_filter]"
   ]
  },
  {
   "cell_type": "markdown",
   "id": "948f0b7e",
   "metadata": {
    "papermill": {
     "duration": 0.026433,
     "end_time": "2022-07-22T10:10:28.068304",
     "exception": false,
     "start_time": "2022-07-22T10:10:28.041871",
     "status": "completed"
    },
    "tags": []
   },
   "source": [
    "We normalize the pizel values in the 0 to 1 range"
   ]
  },
  {
   "cell_type": "code",
   "execution_count": 11,
   "id": "ee4c2166",
   "metadata": {
    "execution": {
     "iopub.execute_input": "2022-07-22T10:10:28.123911Z",
     "iopub.status.busy": "2022-07-22T10:10:28.123287Z",
     "iopub.status.idle": "2022-07-22T10:10:28.171908Z",
     "shell.execute_reply": "2022-07-22T10:10:28.171292Z"
    },
    "papermill": {
     "duration": 0.077529,
     "end_time": "2022-07-22T10:10:28.172052",
     "exception": false,
     "start_time": "2022-07-22T10:10:28.094523",
     "status": "completed"
    },
    "tags": []
   },
   "outputs": [],
   "source": [
    "X_train = X_train/255.\n",
    "X_test = X_test/255."
   ]
  },
  {
   "cell_type": "markdown",
   "id": "ddcf4fab",
   "metadata": {
    "papermill": {
     "duration": 0.030222,
     "end_time": "2022-07-22T10:10:28.230222",
     "exception": false,
     "start_time": "2022-07-22T10:10:28.200000",
     "status": "completed"
    },
    "tags": []
   },
   "source": [
    "And setup the labels as 1 (when the digit is 3) and 0 (when the digit is 8)"
   ]
  },
  {
   "cell_type": "code",
   "execution_count": 12,
   "id": "7dc908f2",
   "metadata": {
    "execution": {
     "iopub.execute_input": "2022-07-22T10:10:28.284854Z",
     "iopub.status.busy": "2022-07-22T10:10:28.281398Z",
     "iopub.status.idle": "2022-07-22T10:10:28.294117Z",
     "shell.execute_reply": "2022-07-22T10:10:28.294574Z"
    },
    "papermill": {
     "duration": 0.040035,
     "end_time": "2022-07-22T10:10:28.294713",
     "exception": false,
     "start_time": "2022-07-22T10:10:28.254678",
     "status": "completed"
    },
    "tags": []
   },
   "outputs": [],
   "source": [
    "y_train = 1*(y_train==3)\n",
    "y_test = 1*(y_test==3)"
   ]
  },
  {
   "cell_type": "code",
   "execution_count": 13,
   "id": "01e4e969",
   "metadata": {
    "execution": {
     "iopub.execute_input": "2022-07-22T10:10:28.354051Z",
     "iopub.status.busy": "2022-07-22T10:10:28.351288Z",
     "iopub.status.idle": "2022-07-22T10:10:28.365190Z",
     "shell.execute_reply": "2022-07-22T10:10:28.365681Z"
    },
    "papermill": {
     "duration": 0.040415,
     "end_time": "2022-07-22T10:10:28.365812",
     "exception": false,
     "start_time": "2022-07-22T10:10:28.325397",
     "status": "completed"
    },
    "tags": []
   },
   "outputs": [
    {
     "data": {
      "text/plain": [
       "((11982, 28, 28), (1984, 28, 28))"
      ]
     },
     "execution_count": 13,
     "metadata": {},
     "output_type": "execute_result"
    }
   ],
   "source": [
    "X_train.shape, X_test.shape"
   ]
  },
  {
   "cell_type": "markdown",
   "id": "5ccf3f85",
   "metadata": {
    "papermill": {
     "duration": 0.030385,
     "end_time": "2022-07-22T10:10:28.422484",
     "exception": false,
     "start_time": "2022-07-22T10:10:28.392099",
     "status": "completed"
    },
    "tags": []
   },
   "source": [
    "We reshape the data to flatten the image pixels into a set of features or co-variates:"
   ]
  },
  {
   "cell_type": "code",
   "execution_count": 14,
   "id": "5286a4a3",
   "metadata": {
    "execution": {
     "iopub.execute_input": "2022-07-22T10:10:28.480781Z",
     "iopub.status.busy": "2022-07-22T10:10:28.480174Z",
     "iopub.status.idle": "2022-07-22T10:10:28.494900Z",
     "shell.execute_reply": "2022-07-22T10:10:28.494412Z"
    },
    "papermill": {
     "duration": 0.045687,
     "end_time": "2022-07-22T10:10:28.495019",
     "exception": false,
     "start_time": "2022-07-22T10:10:28.449332",
     "status": "completed"
    },
    "tags": []
   },
   "outputs": [
    {
     "data": {
      "text/plain": [
       "((11982, 784), (1984, 784))"
      ]
     },
     "execution_count": 14,
     "metadata": {},
     "output_type": "execute_result"
    }
   ],
   "source": [
    "X_train = X_train.reshape(X_train.shape[0], -1)\n",
    "X_test = X_test.reshape(X_test.shape[0], -1)\n",
    "X_train.shape, X_test.shape"
   ]
  },
  {
   "cell_type": "code",
   "execution_count": 15,
   "id": "73c5f88a",
   "metadata": {
    "execution": {
     "iopub.execute_input": "2022-07-22T10:10:28.552485Z",
     "iopub.status.busy": "2022-07-22T10:10:28.551933Z",
     "iopub.status.idle": "2022-07-22T10:10:28.573603Z",
     "shell.execute_reply": "2022-07-22T10:10:28.572978Z"
    },
    "papermill": {
     "duration": 0.052031,
     "end_time": "2022-07-22T10:10:28.573750",
     "exception": false,
     "start_time": "2022-07-22T10:10:28.521719",
     "status": "completed"
    },
    "tags": []
   },
   "outputs": [],
   "source": [
    "#Impoting functions from 'Kudzu'\n",
    "from kudzu.model import Model\n",
    "from kudzu.train import Learner\n",
    "from kudzu.optim import GD\n",
    "from kudzu.data import Data, Sampler,Dataloader\n",
    "\n",
    "from kudzu.callbacks import AccCallback\n",
    "from kudzu.callbacks import ClfCallback\n",
    "\n",
    "from kudzu.loss import MSE\n",
    "\n",
    "from kudzu.layer import Sigmoid,Relu\n",
    "from kudzu.layer import Affine"
   ]
  },
  {
   "cell_type": "markdown",
   "id": "bc01172a",
   "metadata": {
    "papermill": {
     "duration": 0.027545,
     "end_time": "2022-07-22T10:10:28.625809",
     "exception": false,
     "start_time": "2022-07-22T10:10:28.598264",
     "status": "completed"
    },
    "tags": []
   },
   "source": [
    "### Let us create a `Config` class, to store important parameters. \n",
    "This class essentially plays the role of a dictionary."
   ]
  },
  {
   "cell_type": "code",
   "execution_count": 16,
   "id": "978281aa",
   "metadata": {
    "execution": {
     "iopub.execute_input": "2022-07-22T10:10:28.685445Z",
     "iopub.status.busy": "2022-07-22T10:10:28.684666Z",
     "iopub.status.idle": "2022-07-22T10:10:28.699010Z",
     "shell.execute_reply": "2022-07-22T10:10:28.699497Z"
    },
    "papermill": {
     "duration": 0.046756,
     "end_time": "2022-07-22T10:10:28.699652",
     "exception": false,
     "start_time": "2022-07-22T10:10:28.652896",
     "status": "completed"
    },
    "tags": []
   },
   "outputs": [],
   "source": [
    "class Config:\n",
    "    pass\n",
    "config = Config()\n",
    "config.lr = 0.001\n",
    "config.num_epochs = 250\n",
    "config.bs = 50"
   ]
  },
  {
   "cell_type": "markdown",
   "id": "1385fa59",
   "metadata": {
    "papermill": {
     "duration": 0.024535,
     "end_time": "2022-07-22T10:10:28.748526",
     "exception": false,
     "start_time": "2022-07-22T10:10:28.723991",
     "status": "completed"
    },
    "tags": []
   },
   "source": [
    "### Running Models with the Training data\n",
    "Details about the network layers:\n",
    "- A first affine layer has 784 inputs and does 100 affine transforms. These are followed by a Relu\n",
    "- A second affine layer has 100 inputs from the 100 activations of the past layer, and does 100 affine transforms. These are followed by a Relu\n",
    "- A third affine layer has 100 activations and does 2 affine transformations to create an embedding for visualization. There is no non-linearity here.\n",
    "- A final \"logistic regression\" which has an affine transform from 2 inputs to 1 output, which is squeezed through a sigmoid.\n"
   ]
  },
  {
   "cell_type": "code",
   "execution_count": 17,
   "id": "2b9c66db",
   "metadata": {
    "execution": {
     "iopub.execute_input": "2022-07-22T10:10:28.801579Z",
     "iopub.status.busy": "2022-07-22T10:10:28.801010Z",
     "iopub.status.idle": "2022-07-22T10:10:28.815525Z",
     "shell.execute_reply": "2022-07-22T10:10:28.816042Z"
    },
    "papermill": {
     "duration": 0.043693,
     "end_time": "2022-07-22T10:10:28.816176",
     "exception": false,
     "start_time": "2022-07-22T10:10:28.772483",
     "status": "completed"
    },
    "tags": []
   },
   "outputs": [],
   "source": [
    "data = Data(X_train, y_train.reshape(-1,1))\n",
    "sampler = Sampler(data, config.bs, shuffle=True)\n",
    "\n",
    "dl = Dataloader(data, sampler)\n",
    "\n",
    "opt = GD(config.lr)\n",
    "loss = MSE()"
   ]
  },
  {
   "cell_type": "code",
   "execution_count": 18,
   "id": "b275e4c2",
   "metadata": {
    "execution": {
     "iopub.execute_input": "2022-07-22T10:10:28.869268Z",
     "iopub.status.busy": "2022-07-22T10:10:28.868697Z",
     "iopub.status.idle": "2022-07-22T10:10:28.882252Z",
     "shell.execute_reply": "2022-07-22T10:10:28.882662Z"
    },
    "papermill": {
     "duration": 0.042899,
     "end_time": "2022-07-22T10:10:28.882780",
     "exception": false,
     "start_time": "2022-07-22T10:10:28.839881",
     "status": "completed"
    },
    "tags": []
   },
   "outputs": [],
   "source": [
    "training_data_x = X_train\n",
    "testing_data_x = X_test\n",
    "training_data_y = y_train.reshape(-1,1)\n",
    "testing_data_y = y_test.reshape(-1,1)"
   ]
  },
  {
   "cell_type": "code",
   "execution_count": 19,
   "id": "76951160",
   "metadata": {
    "execution": {
     "iopub.execute_input": "2022-07-22T10:10:28.934241Z",
     "iopub.status.busy": "2022-07-22T10:10:28.933698Z",
     "iopub.status.idle": "2022-07-22T10:10:28.951129Z",
     "shell.execute_reply": "2022-07-22T10:10:28.951625Z"
    },
    "papermill": {
     "duration": 0.045748,
     "end_time": "2022-07-22T10:10:28.951748",
     "exception": false,
     "start_time": "2022-07-22T10:10:28.906000",
     "status": "completed"
    },
    "tags": []
   },
   "outputs": [
    {
     "name": "stdout",
     "output_type": "stream",
     "text": [
      "xavier\n",
      "xavier\n",
      "xavier\n",
      "xavier\n",
      "xavier\n"
     ]
    }
   ],
   "source": [
    "layers = [Affine(\"first\", 784, 100), Relu(\"first\"), Affine(\"second\", 100, 100), Relu(\"second\"), Affine(\"third\", 100, 2), Affine(\"last\", 2, 1), Sigmoid(\"last\")]\n",
    "model_nn = Model(layers)\n",
    "model_lr = Model([Affine(\"logits\", 784, 1), Sigmoid(\"sigmoid\")])"
   ]
  },
  {
   "cell_type": "code",
   "execution_count": 20,
   "id": "6eede77a",
   "metadata": {
    "execution": {
     "iopub.execute_input": "2022-07-22T10:10:29.002938Z",
     "iopub.status.busy": "2022-07-22T10:10:29.002422Z",
     "iopub.status.idle": "2022-07-22T10:10:29.015528Z",
     "shell.execute_reply": "2022-07-22T10:10:29.016036Z"
    },
    "papermill": {
     "duration": 0.040479,
     "end_time": "2022-07-22T10:10:29.016150",
     "exception": false,
     "start_time": "2022-07-22T10:10:28.975671",
     "status": "completed"
    },
    "tags": []
   },
   "outputs": [],
   "source": [
    "nn_learner = Learner(loss, model_nn, opt, config.num_epochs)\n",
    "acc_nn = ClfCallback(nn_learner, config.bs, training_data_x , testing_data_x, training_data_y, testing_data_y)\n",
    "nn_learner.set_callbacks([acc_nn])"
   ]
  },
  {
   "cell_type": "code",
   "execution_count": 21,
   "id": "877b6cc7",
   "metadata": {
    "execution": {
     "iopub.execute_input": "2022-07-22T10:10:29.068588Z",
     "iopub.status.busy": "2022-07-22T10:10:29.068045Z",
     "iopub.status.idle": "2022-07-22T10:10:29.081781Z",
     "shell.execute_reply": "2022-07-22T10:10:29.082307Z"
    },
    "papermill": {
     "duration": 0.042482,
     "end_time": "2022-07-22T10:10:29.082434",
     "exception": false,
     "start_time": "2022-07-22T10:10:29.039952",
     "status": "completed"
    },
    "tags": []
   },
   "outputs": [],
   "source": [
    "lr_learner = Learner(loss, model_lr, opt, config.num_epochs)\n",
    "acc_lr = ClfCallback(lr_learner, config.bs, training_data_x , testing_data_x, training_data_y, testing_data_y)\n",
    "lr_learner.set_callbacks([acc_lr])"
   ]
  },
  {
   "cell_type": "code",
   "execution_count": 22,
   "id": "d9b133c3",
   "metadata": {
    "execution": {
     "iopub.execute_input": "2022-07-22T10:10:29.135121Z",
     "iopub.status.busy": "2022-07-22T10:10:29.134584Z",
     "iopub.status.idle": "2022-07-22T10:11:49.611959Z",
     "shell.execute_reply": "2022-07-22T10:11:49.612861Z"
    },
    "papermill": {
     "duration": 80.5066,
     "end_time": "2022-07-22T10:11:49.613056",
     "exception": false,
     "start_time": "2022-07-22T10:10:29.106456",
     "status": "completed"
    },
    "tags": []
   },
   "outputs": [
    {
     "name": "stdout",
     "output_type": "stream",
     "text": [
      "Epoch 0, Loss 0.2414\n",
      "Training Accuracy: 0.7295, Testing Accuracy: 0.7389\n",
      "\n"
     ]
    },
    {
     "name": "stdout",
     "output_type": "stream",
     "text": [
      "Epoch 10, Loss 0.0628\n",
      "Training Accuracy: 0.9398, Testing Accuracy: 0.9456\n",
      "\n"
     ]
    },
    {
     "name": "stdout",
     "output_type": "stream",
     "text": [
      "Epoch 20, Loss 0.0433\n",
      "Training Accuracy: 0.9557, Testing Accuracy: 0.9572\n",
      "\n"
     ]
    },
    {
     "name": "stdout",
     "output_type": "stream",
     "text": [
      "Epoch 30, Loss 0.0364\n",
      "Training Accuracy: 0.9593, Testing Accuracy: 0.9632\n",
      "\n"
     ]
    },
    {
     "name": "stdout",
     "output_type": "stream",
     "text": [
      "Epoch 40, Loss 0.0328\n",
      "Training Accuracy: 0.9626, Testing Accuracy: 0.9667\n",
      "\n"
     ]
    },
    {
     "name": "stdout",
     "output_type": "stream",
     "text": [
      "Epoch 50, Loss 0.0303\n",
      "Training Accuracy: 0.9647, Testing Accuracy: 0.9688\n",
      "\n"
     ]
    },
    {
     "name": "stdout",
     "output_type": "stream",
     "text": [
      "Epoch 60, Loss 0.0286\n",
      "Training Accuracy: 0.9667, Testing Accuracy: 0.9693\n",
      "\n"
     ]
    },
    {
     "name": "stdout",
     "output_type": "stream",
     "text": [
      "Epoch 70, Loss 0.0272\n",
      "Training Accuracy: 0.9687, Testing Accuracy: 0.9698\n",
      "\n"
     ]
    },
    {
     "name": "stdout",
     "output_type": "stream",
     "text": [
      "Epoch 80, Loss 0.026\n",
      "Training Accuracy: 0.9703, Testing Accuracy: 0.9688\n",
      "\n"
     ]
    },
    {
     "name": "stdout",
     "output_type": "stream",
     "text": [
      "Epoch 90, Loss 0.025\n",
      "Training Accuracy: 0.9720, Testing Accuracy: 0.9718\n",
      "\n"
     ]
    },
    {
     "name": "stdout",
     "output_type": "stream",
     "text": [
      "Epoch 100, Loss 0.0241\n",
      "Training Accuracy: 0.9727, Testing Accuracy: 0.9723\n",
      "\n"
     ]
    },
    {
     "name": "stdout",
     "output_type": "stream",
     "text": [
      "Epoch 110, Loss 0.0233\n",
      "Training Accuracy: 0.9735, Testing Accuracy: 0.9728\n",
      "\n"
     ]
    },
    {
     "name": "stdout",
     "output_type": "stream",
     "text": [
      "Epoch 120, Loss 0.0226\n",
      "Training Accuracy: 0.9742, Testing Accuracy: 0.9728\n",
      "\n"
     ]
    },
    {
     "name": "stdout",
     "output_type": "stream",
     "text": [
      "Epoch 130, Loss 0.022\n",
      "Training Accuracy: 0.9747, Testing Accuracy: 0.9733\n",
      "\n"
     ]
    },
    {
     "name": "stdout",
     "output_type": "stream",
     "text": [
      "Epoch 140, Loss 0.0214\n",
      "Training Accuracy: 0.9753, Testing Accuracy: 0.9733\n",
      "\n"
     ]
    },
    {
     "name": "stdout",
     "output_type": "stream",
     "text": [
      "Epoch 150, Loss 0.0208\n",
      "Training Accuracy: 0.9759, Testing Accuracy: 0.9738\n",
      "\n"
     ]
    },
    {
     "name": "stdout",
     "output_type": "stream",
     "text": [
      "Epoch 160, Loss 0.0203\n",
      "Training Accuracy: 0.9768, Testing Accuracy: 0.9733\n",
      "\n"
     ]
    },
    {
     "name": "stdout",
     "output_type": "stream",
     "text": [
      "Epoch 170, Loss 0.0198\n",
      "Training Accuracy: 0.9776, Testing Accuracy: 0.9733\n",
      "\n"
     ]
    },
    {
     "name": "stdout",
     "output_type": "stream",
     "text": [
      "Epoch 180, Loss 0.0193\n",
      "Training Accuracy: 0.9781, Testing Accuracy: 0.9738\n",
      "\n"
     ]
    },
    {
     "name": "stdout",
     "output_type": "stream",
     "text": [
      "Epoch 190, Loss 0.0188\n",
      "Training Accuracy: 0.9789, Testing Accuracy: 0.9743\n",
      "\n"
     ]
    },
    {
     "name": "stdout",
     "output_type": "stream",
     "text": [
      "Epoch 200, Loss 0.0184\n",
      "Training Accuracy: 0.9791, Testing Accuracy: 0.9743\n",
      "\n"
     ]
    },
    {
     "name": "stdout",
     "output_type": "stream",
     "text": [
      "Epoch 210, Loss 0.018\n",
      "Training Accuracy: 0.9799, Testing Accuracy: 0.9743\n",
      "\n"
     ]
    },
    {
     "name": "stdout",
     "output_type": "stream",
     "text": [
      "Epoch 220, Loss 0.0176\n",
      "Training Accuracy: 0.9806, Testing Accuracy: 0.9753\n",
      "\n"
     ]
    },
    {
     "name": "stdout",
     "output_type": "stream",
     "text": [
      "Epoch 230, Loss 0.0172\n",
      "Training Accuracy: 0.9812, Testing Accuracy: 0.9753\n",
      "\n"
     ]
    },
    {
     "name": "stdout",
     "output_type": "stream",
     "text": [
      "Epoch 240, Loss 0.0168\n",
      "Training Accuracy: 0.9817, Testing Accuracy: 0.9758\n",
      "\n"
     ]
    },
    {
     "data": {
      "text/plain": [
       "0.017550688269462565"
      ]
     },
     "execution_count": 22,
     "metadata": {},
     "output_type": "execute_result"
    }
   ],
   "source": [
    "nn_learner.train_loop(dl)"
   ]
  },
  {
   "cell_type": "code",
   "execution_count": 23,
   "id": "e0163366",
   "metadata": {
    "execution": {
     "iopub.execute_input": "2022-07-22T10:11:49.691045Z",
     "iopub.status.busy": "2022-07-22T10:11:49.690436Z",
     "iopub.status.idle": "2022-07-22T10:12:04.610645Z",
     "shell.execute_reply": "2022-07-22T10:12:04.611512Z"
    },
    "papermill": {
     "duration": 14.963837,
     "end_time": "2022-07-22T10:12:04.611675",
     "exception": false,
     "start_time": "2022-07-22T10:11:49.647838",
     "status": "completed"
    },
    "tags": []
   },
   "outputs": [
    {
     "name": "stdout",
     "output_type": "stream",
     "text": [
      "Epoch 0, Loss 0.2363\n",
      "Training Accuracy: 0.7208, Testing Accuracy: 0.7167\n",
      "\n"
     ]
    },
    {
     "name": "stdout",
     "output_type": "stream",
     "text": [
      "Epoch 10, Loss 0.1033\n",
      "Training Accuracy: 0.9069, Testing Accuracy: 0.9189\n",
      "\n"
     ]
    },
    {
     "name": "stdout",
     "output_type": "stream",
     "text": [
      "Epoch 20, Loss 0.0797\n",
      "Training Accuracy: 0.9257, Testing Accuracy: 0.9375\n",
      "\n"
     ]
    },
    {
     "name": "stdout",
     "output_type": "stream",
     "text": [
      "Epoch 30, Loss 0.0686\n",
      "Training Accuracy: 0.9342, Testing Accuracy: 0.9481\n",
      "\n"
     ]
    },
    {
     "name": "stdout",
     "output_type": "stream",
     "text": [
      "Epoch 40, Loss 0.0619\n",
      "Training Accuracy: 0.9395, Testing Accuracy: 0.9526\n",
      "\n"
     ]
    },
    {
     "name": "stdout",
     "output_type": "stream",
     "text": [
      "Epoch 50, Loss 0.0573\n",
      "Training Accuracy: 0.9431, Testing Accuracy: 0.9567\n",
      "\n"
     ]
    },
    {
     "name": "stdout",
     "output_type": "stream",
     "text": [
      "Epoch 60, Loss 0.054\n",
      "Training Accuracy: 0.9459, Testing Accuracy: 0.9567\n",
      "\n"
     ]
    },
    {
     "name": "stdout",
     "output_type": "stream",
     "text": [
      "Epoch 70, Loss 0.0514\n",
      "Training Accuracy: 0.9480, Testing Accuracy: 0.9577\n",
      "\n"
     ]
    },
    {
     "name": "stdout",
     "output_type": "stream",
     "text": [
      "Epoch 80, Loss 0.0493\n",
      "Training Accuracy: 0.9499, Testing Accuracy: 0.9592\n",
      "\n"
     ]
    },
    {
     "name": "stdout",
     "output_type": "stream",
     "text": [
      "Epoch 90, Loss 0.0476\n",
      "Training Accuracy: 0.9509, Testing Accuracy: 0.9602\n",
      "\n"
     ]
    },
    {
     "name": "stdout",
     "output_type": "stream",
     "text": [
      "Epoch 100, Loss 0.0462\n",
      "Training Accuracy: 0.9523, Testing Accuracy: 0.9612\n",
      "\n"
     ]
    },
    {
     "name": "stdout",
     "output_type": "stream",
     "text": [
      "Epoch 110, Loss 0.0449\n",
      "Training Accuracy: 0.9542, Testing Accuracy: 0.9637\n",
      "\n"
     ]
    },
    {
     "name": "stdout",
     "output_type": "stream",
     "text": [
      "Epoch 120, Loss 0.0439\n",
      "Training Accuracy: 0.9553, Testing Accuracy: 0.9652\n",
      "\n"
     ]
    },
    {
     "name": "stdout",
     "output_type": "stream",
     "text": [
      "Epoch 130, Loss 0.0429\n",
      "Training Accuracy: 0.9564, Testing Accuracy: 0.9657\n",
      "\n"
     ]
    },
    {
     "name": "stdout",
     "output_type": "stream",
     "text": [
      "Epoch 140, Loss 0.0421\n",
      "Training Accuracy: 0.9564, Testing Accuracy: 0.9657\n",
      "\n"
     ]
    },
    {
     "name": "stdout",
     "output_type": "stream",
     "text": [
      "Epoch 150, Loss 0.0414\n",
      "Training Accuracy: 0.9569, Testing Accuracy: 0.9667\n",
      "\n"
     ]
    },
    {
     "name": "stdout",
     "output_type": "stream",
     "text": [
      "Epoch 160, Loss 0.0407\n",
      "Training Accuracy: 0.9572, Testing Accuracy: 0.9677\n",
      "\n"
     ]
    },
    {
     "name": "stdout",
     "output_type": "stream",
     "text": [
      "Epoch 170, Loss 0.0401\n",
      "Training Accuracy: 0.9576, Testing Accuracy: 0.9677\n",
      "\n"
     ]
    },
    {
     "name": "stdout",
     "output_type": "stream",
     "text": [
      "Epoch 180, Loss 0.0395\n",
      "Training Accuracy: 0.9583, Testing Accuracy: 0.9677\n",
      "\n"
     ]
    },
    {
     "name": "stdout",
     "output_type": "stream",
     "text": [
      "Epoch 190, Loss 0.039\n",
      "Training Accuracy: 0.9589, Testing Accuracy: 0.9677\n",
      "\n"
     ]
    },
    {
     "name": "stdout",
     "output_type": "stream",
     "text": [
      "Epoch 200, Loss 0.0385\n",
      "Training Accuracy: 0.9594, Testing Accuracy: 0.9677\n",
      "\n"
     ]
    },
    {
     "name": "stdout",
     "output_type": "stream",
     "text": [
      "Epoch 210, Loss 0.0381\n",
      "Training Accuracy: 0.9598, Testing Accuracy: 0.9677\n",
      "\n"
     ]
    },
    {
     "name": "stdout",
     "output_type": "stream",
     "text": [
      "Epoch 220, Loss 0.0377\n",
      "Training Accuracy: 0.9600, Testing Accuracy: 0.9677\n",
      "\n"
     ]
    },
    {
     "name": "stdout",
     "output_type": "stream",
     "text": [
      "Epoch 230, Loss 0.0373\n",
      "Training Accuracy: 0.9604, Testing Accuracy: 0.9677\n",
      "\n"
     ]
    },
    {
     "name": "stdout",
     "output_type": "stream",
     "text": [
      "Epoch 240, Loss 0.0369\n",
      "Training Accuracy: 0.9605, Testing Accuracy: 0.9682\n",
      "\n"
     ]
    },
    {
     "data": {
      "text/plain": [
       "0.019106446374223457"
      ]
     },
     "execution_count": 23,
     "metadata": {},
     "output_type": "execute_result"
    }
   ],
   "source": [
    "lr_learner.train_loop(dl)"
   ]
  },
  {
   "cell_type": "code",
   "execution_count": 24,
   "id": "ca410940",
   "metadata": {
    "execution": {
     "iopub.execute_input": "2022-07-22T10:12:04.708790Z",
     "iopub.status.busy": "2022-07-22T10:12:04.708181Z",
     "iopub.status.idle": "2022-07-22T10:12:04.940056Z",
     "shell.execute_reply": "2022-07-22T10:12:04.940532Z"
    },
    "papermill": {
     "duration": 0.283545,
     "end_time": "2022-07-22T10:12:04.940686",
     "exception": false,
     "start_time": "2022-07-22T10:12:04.657141",
     "status": "completed"
    },
    "tags": []
   },
   "outputs": [
    {
     "data": {
      "text/plain": [
       "<matplotlib.legend.Legend at 0x7f7bd4839c50>"
      ]
     },
     "execution_count": 24,
     "metadata": {},
     "output_type": "execute_result"
    },
    {
     "data": {
      "image/png": "[encoded data removed]",
      "text/plain": [
       "<Figure size 1080x720 with 1 Axes>"
      ]
     },
     "metadata": {
      "needs_background": "light"
     },
     "output_type": "display_data"
    }
   ],
   "source": [
    "#comparing the results of NN and LR\n",
    "plt.figure(figsize=(15,10))\n",
    "\n",
    "# Neural Network plots\n",
    "plt.plot(acc_nn.accuracies, 'r-', label = \"Training Accuracies - NN\")\n",
    "plt.plot(acc_nn.test_accuracies, 'g-', label = \"Testing Accuracies - NN\")\n",
    "\n",
    "# Logistic Regression plots\n",
    "plt.plot(acc_lr.accuracies, 'k-', label = \"Training Accuracies - LR\")\n",
    "plt.plot(acc_lr.test_accuracies, 'b-', label = \"Testing Accuracies - LR\")\n",
    "plt.legend()"
   ]
  },
  {
   "cell_type": "markdown",
   "id": "80dfb35c",
   "metadata": {
    "papermill": {
     "duration": 0.042027,
     "end_time": "2022-07-22T10:12:05.025198",
     "exception": false,
     "start_time": "2022-07-22T10:12:04.983171",
     "status": "completed"
    },
    "tags": []
   },
   "source": [
    "#### Plotting the outputs of this layer of the NN.\n"
   ]
  },
  {
   "cell_type": "code",
   "execution_count": 25,
   "id": "45eb2ff5",
   "metadata": {
    "execution": {
     "iopub.execute_input": "2022-07-22T10:12:05.114103Z",
     "iopub.status.busy": "2022-07-22T10:12:05.113484Z",
     "iopub.status.idle": "2022-07-22T10:12:05.142600Z",
     "shell.execute_reply": "2022-07-22T10:12:05.143517Z"
    },
    "papermill": {
     "duration": 0.076671,
     "end_time": "2022-07-22T10:12:05.143679",
     "exception": false,
     "start_time": "2022-07-22T10:12:05.067008",
     "status": "completed"
    },
    "tags": []
   },
   "outputs": [],
   "source": [
    "new_model = Model(layers[:-2])\n",
    "testing_plot = new_model(testing_data_x)"
   ]
  },
  {
   "cell_type": "code",
   "execution_count": 26,
   "id": "4c0a5485",
   "metadata": {
    "execution": {
     "iopub.execute_input": "2022-07-22T10:12:05.250443Z",
     "iopub.status.busy": "2022-07-22T10:12:05.249837Z",
     "iopub.status.idle": "2022-07-22T10:12:05.447324Z",
     "shell.execute_reply": "2022-07-22T10:12:05.446815Z"
    },
    "papermill": {
     "duration": 0.257483,
     "end_time": "2022-07-22T10:12:05.447457",
     "exception": false,
     "start_time": "2022-07-22T10:12:05.189974",
     "status": "completed"
    },
    "tags": []
   },
   "outputs": [
    {
     "data": {
      "text/plain": [
       "Text(0.5, 1.0, 'Outputs')"
      ]
     },
     "execution_count": 26,
     "metadata": {},
     "output_type": "execute_result"
    },
    {
     "data": {
      "image/png": "[encoded data removed]",
      "text/plain": [
       "<Figure size 576x504 with 1 Axes>"
      ]
     },
     "metadata": {
      "needs_background": "light"
     },
     "output_type": "display_data"
    }
   ],
   "source": [
    "# Plotting the scatter plot of points and color coding by class\n",
    "plt.figure(figsize=(8,7))\n",
    "plt.scatter(testing_plot[:,0], testing_plot[:,1], alpha = 0.1, c = y_test.ravel());\n",
    "plt.title('Outputs')"
   ]
  },
  {
   "cell_type": "markdown",
   "id": "a74fcf8f",
   "metadata": {
    "papermill": {
     "duration": 0.044633,
     "end_time": "2022-07-22T10:12:05.536653",
     "exception": false,
     "start_time": "2022-07-22T10:12:05.492020",
     "status": "completed"
    },
    "tags": []
   },
   "source": [
    "Probability contours"
   ]
  },
  {
   "cell_type": "code",
   "execution_count": 27,
   "id": "d0afc8e3",
   "metadata": {
    "execution": {
     "iopub.execute_input": "2022-07-22T10:12:05.661723Z",
     "iopub.status.busy": "2022-07-22T10:12:05.660992Z",
     "iopub.status.idle": "2022-07-22T10:12:05.676515Z",
     "shell.execute_reply": "2022-07-22T10:12:05.676021Z"
    },
    "papermill": {
     "duration": 0.095408,
     "end_time": "2022-07-22T10:12:05.676633",
     "exception": false,
     "start_time": "2022-07-22T10:12:05.581225",
     "status": "completed"
    },
    "tags": []
   },
   "outputs": [],
   "source": [
    "model_prob = Model(layers[-2:]) "
   ]
  },
  {
   "cell_type": "code",
   "execution_count": 28,
   "id": "9b96e238",
   "metadata": {
    "execution": {
     "iopub.execute_input": "2022-07-22T10:12:05.772411Z",
     "iopub.status.busy": "2022-07-22T10:12:05.771799Z",
     "iopub.status.idle": "2022-07-22T10:12:05.785582Z",
     "shell.execute_reply": "2022-07-22T10:12:05.785971Z"
    },
    "papermill": {
     "duration": 0.064828,
     "end_time": "2022-07-22T10:12:05.786104",
     "exception": false,
     "start_time": "2022-07-22T10:12:05.721276",
     "status": "completed"
    },
    "tags": []
   },
   "outputs": [],
   "source": [
    "#creating the x and y ranges according to the above generated plot.\n",
    "x_range = np.linspace(-4, 1, 100) \n",
    "y_range = np.linspace(-6, 6, 100) \n",
    "x_grid, y_grid = np.meshgrid(x_range, y_range) # x_grid and y_grig are of size 100 X 100\n",
    "\n",
    "# converting x_grid and y_grid to continuous arrays\n",
    "x_gridflat = np.ravel(x_grid)\n",
    "y_gridflat = np.ravel(y_grid)\n",
    "\n",
    "# The last layer of the current model takes two columns as input. Hence transpose of np.vstack() is required.\n",
    "X = np.vstack((x_gridflat, y_gridflat)).T\n",
    "\n",
    "prob_contour = model_prob(X).reshape(100,100) "
   ]
  },
  {
   "cell_type": "code",
   "execution_count": 29,
   "id": "da72499a",
   "metadata": {
    "execution": {
     "iopub.execute_input": "2022-07-22T10:12:05.882200Z",
     "iopub.status.busy": "2022-07-22T10:12:05.881645Z",
     "iopub.status.idle": "2022-07-22T10:12:06.122070Z",
     "shell.execute_reply": "2022-07-22T10:12:06.122470Z"
    },
    "papermill": {
     "duration": 0.290536,
     "end_time": "2022-07-22T10:12:06.122620",
     "exception": false,
     "start_time": "2022-07-22T10:12:05.832084",
     "status": "completed"
    },
    "tags": []
   },
   "outputs": [
    {
     "data": {
      "image/png": "[encoded data removed]",
      "text/plain": [
       "<Figure size 720x648 with 1 Axes>"
      ]
     },
     "metadata": {
      "needs_background": "light"
     },
     "output_type": "display_data"
    }
   ],
   "source": [
    "plt.figure(figsize=(10,9))\n",
    "plt.scatter(testing_plot[:,0], testing_plot[:,1], alpha = 0.1, c = y_test.ravel())\n",
    "contours = plt.contour(x_grid,y_grid,prob_contour)\n",
    "plt.title('Probability Contours')\n",
    "plt.clabel(contours, inline = True );"
   ]
  },
  {
   "cell_type": "code",
   "execution_count": null,
   "id": "e81b4ac7",
   "metadata": {
    "papermill": {
     "duration": 0.04222,
     "end_time": "2022-07-22T10:12:06.208227",
     "exception": false,
     "start_time": "2022-07-22T10:12:06.166007",
     "status": "completed"
    },
    "tags": []
   },
   "outputs": [],
   "source": []
  }
 ],
 "metadata": {
  "kernelspec": {
   "display_name": "Python 3",
   "language": "python",
   "name": "python3"
  },
  "language_info": {
   "codemirror_mode": {
    "name": "ipython",
    "version": 3
   },
   "file_extension": ".py",
   "mimetype": "text/x-python",
   "name": "python",
   "nbconvert_exporter": "python",
   "pygments_lexer": "ipython3",
   "version": "3.6.15"
  },
  "papermill": {
   "default_parameters": {},
   "duration": 106.236035,
   "end_time": "2022-07-22T10:12:06.670423",
   "environment_variables": {},
   "exception": null,
   "input_path": "2020-08-11-part2.ipynb",
   "output_path": "2020-08-11-part2.ipynb",
   "parameters": {},
   "start_time": "2022-07-22T10:10:20.434388",
   "version": "2.3.3"
  }
 },
 "nbformat": 4,
 "nbformat_minor": 5
}