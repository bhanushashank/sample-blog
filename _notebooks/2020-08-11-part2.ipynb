{
 "cells": [
  {
   "cell_type": "markdown",
   "id": "98380cd3",
   "metadata": {
    "papermill": {
     "duration": 0.039425,
     "end_time": "2021-10-19T10:08:40.903609",
     "exception": false,
     "start_time": "2021-10-19T10:08:40.864184",
     "status": "completed"
    },
    "tags": []
   },
   "source": [
    "# Distinguish Your Own Digits (DYOD)"
   ]
  },
  {
   "cell_type": "markdown",
   "id": "ef31240d",
   "metadata": {
    "papermill": {
     "duration": 0.032475,
     "end_time": "2021-10-19T10:08:40.970779",
     "exception": false,
     "start_time": "2021-10-19T10:08:40.938304",
     "status": "completed"
    },
    "tags": []
   },
   "source": [
    "You are going to write a classifier that distinguishes between the number 3 and number 8."
   ]
  },
  {
   "cell_type": "code",
   "execution_count": 1,
   "id": "b15c8646",
   "metadata": {
    "execution": {
     "iopub.execute_input": "2021-10-19T10:08:41.041029Z",
     "iopub.status.busy": "2021-10-19T10:08:41.040258Z",
     "iopub.status.idle": "2021-10-19T10:08:41.061875Z",
     "shell.execute_reply": "2021-10-19T10:08:41.062431Z"
    },
    "papermill": {
     "duration": 0.058961,
     "end_time": "2021-10-19T10:08:41.062642",
     "exception": false,
     "start_time": "2021-10-19T10:08:41.003681",
     "status": "completed"
    },
    "tags": []
   },
   "outputs": [],
   "source": [
    "%load_ext autoreload\n",
    "%autoreload 2"
   ]
  },
  {
   "cell_type": "code",
   "execution_count": 2,
   "id": "22ef38dc",
   "metadata": {
    "execution": {
     "iopub.execute_input": "2021-10-19T10:08:41.139159Z",
     "iopub.status.busy": "2021-10-19T10:08:41.138175Z",
     "iopub.status.idle": "2021-10-19T10:08:41.902381Z",
     "shell.execute_reply": "2021-10-19T10:08:41.902974Z"
    },
    "papermill": {
     "duration": 0.806051,
     "end_time": "2021-10-19T10:08:41.903164",
     "exception": false,
     "start_time": "2021-10-19T10:08:41.097113",
     "status": "completed"
    },
    "tags": []
   },
   "outputs": [],
   "source": [
    "%matplotlib inline\n",
    "import numpy as np\n",
    "import matplotlib.pyplot as plt\n",
    "import pandas as pd"
   ]
  },
  {
   "cell_type": "markdown",
   "id": "ba036198",
   "metadata": {
    "papermill": {
     "duration": 0.035921,
     "end_time": "2021-10-19T10:08:41.977640",
     "exception": false,
     "start_time": "2021-10-19T10:08:41.941719",
     "status": "completed"
    },
    "tags": []
   },
   "source": [
    "From the command line run `pip install mnist`. This is a library that will help you bring down the mnist dataset. If you run this from a notebook, you need to put  `!pip install mnist` in a cell by itself."
   ]
  },
  {
   "cell_type": "code",
   "execution_count": 3,
   "id": "bb6ad8a1",
   "metadata": {
    "execution": {
     "iopub.execute_input": "2021-10-19T10:08:42.054614Z",
     "iopub.status.busy": "2021-10-19T10:08:42.053951Z",
     "iopub.status.idle": "2021-10-19T10:08:44.352978Z",
     "shell.execute_reply": "2021-10-19T10:08:44.351739Z"
    },
    "papermill": {
     "duration": 2.34012,
     "end_time": "2021-10-19T10:08:44.353180",
     "exception": false,
     "start_time": "2021-10-19T10:08:42.013060",
     "status": "completed"
    },
    "tags": []
   },
   "outputs": [
    {
     "name": "stdout",
     "output_type": "stream",
     "text": [
      "Collecting mnist\r\n"
     ]
    },
    {
     "name": "stdout",
     "output_type": "stream",
     "text": [
      "  Downloading mnist-0.2.2-py2.py3-none-any.whl (3.5 kB)\r\n",
      "Requirement already satisfied: numpy in /opt/hostedtoolcache/Python/3.6.15/x64/lib/python3.6/site-packages (from mnist) (1.19.5)\r\n"
     ]
    },
    {
     "name": "stdout",
     "output_type": "stream",
     "text": [
      "Installing collected packages: mnist\r\n"
     ]
    },
    {
     "name": "stdout",
     "output_type": "stream",
     "text": [
      "Successfully installed mnist-0.2.2\r\n"
     ]
    },
    {
     "name": "stdout",
     "output_type": "stream",
     "text": [
      "\u001b[33mWARNING: You are using pip version 21.2.4; however, version 21.3 is available.\r\n",
      "You should consider upgrading via the '/opt/hostedtoolcache/Python/3.6.15/x64/bin/python -m pip install --upgrade pip' command.\u001b[0m\r\n"
     ]
    }
   ],
   "source": [
    "!pip install mnist"
   ]
  },
  {
   "cell_type": "markdown",
   "id": "69df9c9a",
   "metadata": {
    "papermill": {
     "duration": 0.03888,
     "end_time": "2021-10-19T10:08:44.431040",
     "exception": false,
     "start_time": "2021-10-19T10:08:44.392160",
     "status": "completed"
    },
    "tags": []
   },
   "source": [
    "## Preparing the Data"
   ]
  },
  {
   "cell_type": "code",
   "execution_count": 4,
   "id": "7f69d806",
   "metadata": {
    "execution": {
     "iopub.execute_input": "2021-10-19T10:08:44.509393Z",
     "iopub.status.busy": "2021-10-19T10:08:44.508406Z",
     "iopub.status.idle": "2021-10-19T10:08:44.535176Z",
     "shell.execute_reply": "2021-10-19T10:08:44.534428Z"
    },
    "papermill": {
     "duration": 0.068736,
     "end_time": "2021-10-19T10:08:44.535418",
     "exception": false,
     "start_time": "2021-10-19T10:08:44.466682",
     "status": "completed"
    },
    "tags": []
   },
   "outputs": [],
   "source": [
    "import mnist"
   ]
  },
  {
   "cell_type": "code",
   "execution_count": 5,
   "id": "a411e44f",
   "metadata": {
    "execution": {
     "iopub.execute_input": "2021-10-19T10:08:44.614893Z",
     "iopub.status.busy": "2021-10-19T10:08:44.614204Z",
     "iopub.status.idle": "2021-10-19T10:08:45.202205Z",
     "shell.execute_reply": "2021-10-19T10:08:45.201592Z"
    },
    "papermill": {
     "duration": 0.62919,
     "end_time": "2021-10-19T10:08:45.202364",
     "exception": false,
     "start_time": "2021-10-19T10:08:44.573174",
     "status": "completed"
    },
    "tags": []
   },
   "outputs": [],
   "source": [
    "train_images = mnist.train_images()\n",
    "train_labels = mnist.train_labels()"
   ]
  },
  {
   "cell_type": "code",
   "execution_count": 6,
   "id": "dceab3a5",
   "metadata": {
    "execution": {
     "iopub.execute_input": "2021-10-19T10:08:45.282481Z",
     "iopub.status.busy": "2021-10-19T10:08:45.281684Z",
     "iopub.status.idle": "2021-10-19T10:08:45.301289Z",
     "shell.execute_reply": "2021-10-19T10:08:45.300434Z"
    },
    "papermill": {
     "duration": 0.06127,
     "end_time": "2021-10-19T10:08:45.301455",
     "exception": false,
     "start_time": "2021-10-19T10:08:45.240185",
     "status": "completed"
    },
    "tags": []
   },
   "outputs": [
    {
     "data": {
      "text/plain": [
       "((60000, 28, 28), (60000,))"
      ]
     },
     "execution_count": 6,
     "metadata": {},
     "output_type": "execute_result"
    }
   ],
   "source": [
    "train_images.shape, train_labels.shape"
   ]
  },
  {
   "cell_type": "code",
   "execution_count": 7,
   "id": "f50dc2bb",
   "metadata": {
    "execution": {
     "iopub.execute_input": "2021-10-19T10:08:45.384179Z",
     "iopub.status.busy": "2021-10-19T10:08:45.383377Z",
     "iopub.status.idle": "2021-10-19T10:08:45.540890Z",
     "shell.execute_reply": "2021-10-19T10:08:45.540232Z"
    },
    "papermill": {
     "duration": 0.199015,
     "end_time": "2021-10-19T10:08:45.541047",
     "exception": false,
     "start_time": "2021-10-19T10:08:45.342032",
     "status": "completed"
    },
    "tags": []
   },
   "outputs": [],
   "source": [
    "test_images = mnist.test_images()\n",
    "test_labels = mnist.test_labels()"
   ]
  },
  {
   "cell_type": "code",
   "execution_count": 8,
   "id": "fc38cf1b",
   "metadata": {
    "execution": {
     "iopub.execute_input": "2021-10-19T10:08:45.626277Z",
     "iopub.status.busy": "2021-10-19T10:08:45.625610Z",
     "iopub.status.idle": "2021-10-19T10:08:45.643371Z",
     "shell.execute_reply": "2021-10-19T10:08:45.642548Z"
    },
    "papermill": {
     "duration": 0.059334,
     "end_time": "2021-10-19T10:08:45.643521",
     "exception": false,
     "start_time": "2021-10-19T10:08:45.584187",
     "status": "completed"
    },
    "tags": []
   },
   "outputs": [
    {
     "data": {
      "text/plain": [
       "((10000, 28, 28), (10000,))"
      ]
     },
     "execution_count": 8,
     "metadata": {},
     "output_type": "execute_result"
    }
   ],
   "source": [
    "test_images.shape, test_labels.shape"
   ]
  },
  {
   "cell_type": "code",
   "execution_count": 9,
   "id": "f9ed8fe0",
   "metadata": {
    "execution": {
     "iopub.execute_input": "2021-10-19T10:08:45.725247Z",
     "iopub.status.busy": "2021-10-19T10:08:45.724335Z",
     "iopub.status.idle": "2021-10-19T10:08:45.939406Z",
     "shell.execute_reply": "2021-10-19T10:08:45.938818Z"
    },
    "papermill": {
     "duration": 0.259156,
     "end_time": "2021-10-19T10:08:45.939552",
     "exception": false,
     "start_time": "2021-10-19T10:08:45.680396",
     "status": "completed"
    },
    "tags": []
   },
   "outputs": [
    {
     "name": "stdout",
     "output_type": "stream",
     "text": [
      "2\n"
     ]
    },
    {
     "data": {
      "text/plain": [
       "<matplotlib.image.AxesImage at 0x7ff3cce289b0>"
      ]
     },
     "execution_count": 9,
     "metadata": {},
     "output_type": "execute_result"
    },
    {
     "data": {
      "image/png": "[encoded data removed]",
      "text/plain": [
       "<Figure size 432x288 with 1 Axes>"
      ]
     },
     "metadata": {
      "needs_background": "light"
     },
     "output_type": "display_data"
    }
   ],
   "source": [
    "image_index = 7776 # You may select anything up to 60,000\n",
    "print(train_labels[image_index]) \n",
    "plt.imshow(train_images[image_index], cmap='Greys')"
   ]
  },
  {
   "cell_type": "markdown",
   "id": "a8d2388d",
   "metadata": {
    "papermill": {
     "duration": 0.038366,
     "end_time": "2021-10-19T10:08:46.017587",
     "exception": false,
     "start_time": "2021-10-19T10:08:45.979221",
     "status": "completed"
    },
    "tags": []
   },
   "source": [
    "## Filter data to get 3 and 8 out"
   ]
  },
  {
   "cell_type": "code",
   "execution_count": 10,
   "id": "776f7fc7",
   "metadata": {
    "execution": {
     "iopub.execute_input": "2021-10-19T10:08:46.107653Z",
     "iopub.status.busy": "2021-10-19T10:08:46.106724Z",
     "iopub.status.idle": "2021-10-19T10:08:46.131078Z",
     "shell.execute_reply": "2021-10-19T10:08:46.130474Z"
    },
    "papermill": {
     "duration": 0.071618,
     "end_time": "2021-10-19T10:08:46.131237",
     "exception": false,
     "start_time": "2021-10-19T10:08:46.059619",
     "status": "completed"
    },
    "tags": []
   },
   "outputs": [],
   "source": [
    "train_filter = np.where((train_labels == 3 ) | (train_labels == 8))\n",
    "test_filter = np.where((test_labels == 3) | (test_labels == 8))\n",
    "X_train, y_train = train_images[train_filter], train_labels[train_filter]\n",
    "X_test, y_test = test_images[test_filter], test_labels[test_filter]"
   ]
  },
  {
   "cell_type": "markdown",
   "id": "948f0b7e",
   "metadata": {
    "papermill": {
     "duration": 0.045444,
     "end_time": "2021-10-19T10:08:46.215962",
     "exception": false,
     "start_time": "2021-10-19T10:08:46.170518",
     "status": "completed"
    },
    "tags": []
   },
   "source": [
    "We normalize the pizel values in the 0 to 1 range"
   ]
  },
  {
   "cell_type": "code",
   "execution_count": 11,
   "id": "ee4c2166",
   "metadata": {
    "execution": {
     "iopub.execute_input": "2021-10-19T10:08:46.297982Z",
     "iopub.status.busy": "2021-10-19T10:08:46.297308Z",
     "iopub.status.idle": "2021-10-19T10:08:46.366131Z",
     "shell.execute_reply": "2021-10-19T10:08:46.365489Z"
    },
    "papermill": {
     "duration": 0.111348,
     "end_time": "2021-10-19T10:08:46.366363",
     "exception": false,
     "start_time": "2021-10-19T10:08:46.255015",
     "status": "completed"
    },
    "tags": []
   },
   "outputs": [],
   "source": [
    "X_train = X_train/255.\n",
    "X_test = X_test/255."
   ]
  },
  {
   "cell_type": "markdown",
   "id": "ddcf4fab",
   "metadata": {
    "papermill": {
     "duration": 0.041494,
     "end_time": "2021-10-19T10:08:46.448822",
     "exception": false,
     "start_time": "2021-10-19T10:08:46.407328",
     "status": "completed"
    },
    "tags": []
   },
   "source": [
    "And setup the labels as 1 (when the digit is 3) and 0 (when the digit is 8)"
   ]
  },
  {
   "cell_type": "code",
   "execution_count": 12,
   "id": "7dc908f2",
   "metadata": {
    "execution": {
     "iopub.execute_input": "2021-10-19T10:08:46.526171Z",
     "iopub.status.busy": "2021-10-19T10:08:46.525483Z",
     "iopub.status.idle": "2021-10-19T10:08:46.540674Z",
     "shell.execute_reply": "2021-10-19T10:08:46.539980Z"
    },
    "papermill": {
     "duration": 0.056152,
     "end_time": "2021-10-19T10:08:46.540836",
     "exception": false,
     "start_time": "2021-10-19T10:08:46.484684",
     "status": "completed"
    },
    "tags": []
   },
   "outputs": [],
   "source": [
    "y_train = 1*(y_train==3)\n",
    "y_test = 1*(y_test==3)"
   ]
  },
  {
   "cell_type": "code",
   "execution_count": 13,
   "id": "01e4e969",
   "metadata": {
    "execution": {
     "iopub.execute_input": "2021-10-19T10:08:46.634578Z",
     "iopub.status.busy": "2021-10-19T10:08:46.632640Z",
     "iopub.status.idle": "2021-10-19T10:08:46.645925Z",
     "shell.execute_reply": "2021-10-19T10:08:46.645349Z"
    },
    "papermill": {
     "duration": 0.066395,
     "end_time": "2021-10-19T10:08:46.646138",
     "exception": false,
     "start_time": "2021-10-19T10:08:46.579743",
     "status": "completed"
    },
    "tags": []
   },
   "outputs": [
    {
     "data": {
      "text/plain": [
       "((11982, 28, 28), (1984, 28, 28))"
      ]
     },
     "execution_count": 13,
     "metadata": {},
     "output_type": "execute_result"
    }
   ],
   "source": [
    "X_train.shape, X_test.shape"
   ]
  },
  {
   "cell_type": "markdown",
   "id": "5ccf3f85",
   "metadata": {
    "papermill": {
     "duration": 0.042882,
     "end_time": "2021-10-19T10:08:46.728284",
     "exception": false,
     "start_time": "2021-10-19T10:08:46.685402",
     "status": "completed"
    },
    "tags": []
   },
   "source": [
    "We reshape the data to flatten the image pixels into a set of features or co-variates:"
   ]
  },
  {
   "cell_type": "code",
   "execution_count": 14,
   "id": "5286a4a3",
   "metadata": {
    "execution": {
     "iopub.execute_input": "2021-10-19T10:08:46.813652Z",
     "iopub.status.busy": "2021-10-19T10:08:46.812880Z",
     "iopub.status.idle": "2021-10-19T10:08:46.829883Z",
     "shell.execute_reply": "2021-10-19T10:08:46.830468Z"
    },
    "papermill": {
     "duration": 0.063305,
     "end_time": "2021-10-19T10:08:46.830648",
     "exception": false,
     "start_time": "2021-10-19T10:08:46.767343",
     "status": "completed"
    },
    "tags": []
   },
   "outputs": [
    {
     "data": {
      "text/plain": [
       "((11982, 784), (1984, 784))"
      ]
     },
     "execution_count": 14,
     "metadata": {},
     "output_type": "execute_result"
    }
   ],
   "source": [
    "X_train = X_train.reshape(X_train.shape[0], -1)\n",
    "X_test = X_test.reshape(X_test.shape[0], -1)\n",
    "X_train.shape, X_test.shape"
   ]
  },
  {
   "cell_type": "code",
   "execution_count": 15,
   "id": "73c5f88a",
   "metadata": {
    "execution": {
     "iopub.execute_input": "2021-10-19T10:08:46.919380Z",
     "iopub.status.busy": "2021-10-19T10:08:46.918507Z",
     "iopub.status.idle": "2021-10-19T10:08:46.943383Z",
     "shell.execute_reply": "2021-10-19T10:08:46.942688Z"
    },
    "papermill": {
     "duration": 0.071618,
     "end_time": "2021-10-19T10:08:46.943544",
     "exception": false,
     "start_time": "2021-10-19T10:08:46.871926",
     "status": "completed"
    },
    "tags": []
   },
   "outputs": [],
   "source": [
    "#Impoting functions from 'Kudzu'\n",
    "from kudzu.model import Model\n",
    "from kudzu.train import Learner\n",
    "from kudzu.optim import GD\n",
    "from kudzu.data import Data, Sampler,Dataloader\n",
    "\n",
    "from kudzu.callbacks import AccCallback\n",
    "from kudzu.callbacks import ClfCallback\n",
    "\n",
    "from kudzu.loss import MSE\n",
    "\n",
    "from kudzu.layer import Sigmoid,Relu\n",
    "from kudzu.layer import Affine"
   ]
  },
  {
   "cell_type": "markdown",
   "id": "bc01172a",
   "metadata": {
    "papermill": {
     "duration": 0.04485,
     "end_time": "2021-10-19T10:08:47.026706",
     "exception": false,
     "start_time": "2021-10-19T10:08:46.981856",
     "status": "completed"
    },
    "tags": []
   },
   "source": [
    "### Let us create a `Config` class, to store important parameters. \n",
    "This class essentially plays the role of a dictionary."
   ]
  },
  {
   "cell_type": "code",
   "execution_count": 16,
   "id": "978281aa",
   "metadata": {
    "execution": {
     "iopub.execute_input": "2021-10-19T10:08:47.113487Z",
     "iopub.status.busy": "2021-10-19T10:08:47.112758Z",
     "iopub.status.idle": "2021-10-19T10:08:47.128464Z",
     "shell.execute_reply": "2021-10-19T10:08:47.127643Z"
    },
    "papermill": {
     "duration": 0.059905,
     "end_time": "2021-10-19T10:08:47.128626",
     "exception": false,
     "start_time": "2021-10-19T10:08:47.068721",
     "status": "completed"
    },
    "tags": []
   },
   "outputs": [],
   "source": [
    "class Config:\n",
    "    pass\n",
    "config = Config()\n",
    "config.lr = 0.001\n",
    "config.num_epochs = 250\n",
    "config.bs = 50"
   ]
  },
  {
   "cell_type": "markdown",
   "id": "1385fa59",
   "metadata": {
    "papermill": {
     "duration": 0.041392,
     "end_time": "2021-10-19T10:08:47.210511",
     "exception": false,
     "start_time": "2021-10-19T10:08:47.169119",
     "status": "completed"
    },
    "tags": []
   },
   "source": [
    "### Running Models with the Training data\n",
    "Details about the network layers:\n",
    "- A first affine layer has 784 inputs and does 100 affine transforms. These are followed by a Relu\n",
    "- A second affine layer has 100 inputs from the 100 activations of the past layer, and does 100 affine transforms. These are followed by a Relu\n",
    "- A third affine layer has 100 activations and does 2 affine transformations to create an embedding for visualization. There is no non-linearity here.\n",
    "- A final \"logistic regression\" which has an affine transform from 2 inputs to 1 output, which is squeezed through a sigmoid.\n"
   ]
  },
  {
   "cell_type": "code",
   "execution_count": 17,
   "id": "2b9c66db",
   "metadata": {
    "execution": {
     "iopub.execute_input": "2021-10-19T10:08:47.299338Z",
     "iopub.status.busy": "2021-10-19T10:08:47.298658Z",
     "iopub.status.idle": "2021-10-19T10:08:47.316150Z",
     "shell.execute_reply": "2021-10-19T10:08:47.315424Z"
    },
    "papermill": {
     "duration": 0.064706,
     "end_time": "2021-10-19T10:08:47.316308",
     "exception": false,
     "start_time": "2021-10-19T10:08:47.251602",
     "status": "completed"
    },
    "tags": []
   },
   "outputs": [],
   "source": [
    "data = Data(X_train, y_train.reshape(-1,1))\n",
    "sampler = Sampler(data, config.bs, shuffle=True)\n",
    "\n",
    "dl = Dataloader(data, sampler)\n",
    "\n",
    "opt = GD(config.lr)\n",
    "loss = MSE()"
   ]
  },
  {
   "cell_type": "code",
   "execution_count": 18,
   "id": "b275e4c2",
   "metadata": {
    "execution": {
     "iopub.execute_input": "2021-10-19T10:08:47.407672Z",
     "iopub.status.busy": "2021-10-19T10:08:47.406971Z",
     "iopub.status.idle": "2021-10-19T10:08:47.423518Z",
     "shell.execute_reply": "2021-10-19T10:08:47.422919Z"
    },
    "papermill": {
     "duration": 0.065033,
     "end_time": "2021-10-19T10:08:47.423740",
     "exception": false,
     "start_time": "2021-10-19T10:08:47.358707",
     "status": "completed"
    },
    "tags": []
   },
   "outputs": [],
   "source": [
    "training_data_x = X_train\n",
    "testing_data_x = X_test\n",
    "training_data_y = y_train.reshape(-1,1)\n",
    "testing_data_y = y_test.reshape(-1,1)"
   ]
  },
  {
   "cell_type": "code",
   "execution_count": 19,
   "id": "76951160",
   "metadata": {
    "execution": {
     "iopub.execute_input": "2021-10-19T10:08:47.513600Z",
     "iopub.status.busy": "2021-10-19T10:08:47.512878Z",
     "iopub.status.idle": "2021-10-19T10:08:47.538449Z",
     "shell.execute_reply": "2021-10-19T10:08:47.539013Z"
    },
    "papermill": {
     "duration": 0.075118,
     "end_time": "2021-10-19T10:08:47.539191",
     "exception": false,
     "start_time": "2021-10-19T10:08:47.464073",
     "status": "completed"
    },
    "tags": []
   },
   "outputs": [
    {
     "name": "stdout",
     "output_type": "stream",
     "text": [
      "xavier\n",
      "xavier\n",
      "xavier\n",
      "xavier\n",
      "xavier\n"
     ]
    }
   ],
   "source": [
    "layers = [Affine(\"first\", 784, 100), Relu(\"first\"), Affine(\"second\", 100, 100), Relu(\"second\"), Affine(\"third\", 100, 2), Affine(\"last\", 2, 1), Sigmoid(\"last\")]\n",
    "model_nn = Model(layers)\n",
    "model_lr = Model([Affine(\"logits\", 784, 1), Sigmoid(\"sigmoid\")])"
   ]
  },
  {
   "cell_type": "code",
   "execution_count": 20,
   "id": "6eede77a",
   "metadata": {
    "execution": {
     "iopub.execute_input": "2021-10-19T10:08:47.618794Z",
     "iopub.status.busy": "2021-10-19T10:08:47.618077Z",
     "iopub.status.idle": "2021-10-19T10:08:47.634471Z",
     "shell.execute_reply": "2021-10-19T10:08:47.633871Z"
    },
    "papermill": {
     "duration": 0.058331,
     "end_time": "2021-10-19T10:08:47.634628",
     "exception": false,
     "start_time": "2021-10-19T10:08:47.576297",
     "status": "completed"
    },
    "tags": []
   },
   "outputs": [],
   "source": [
    "nn_learner = Learner(loss, model_nn, opt, config.num_epochs)\n",
    "acc_nn = ClfCallback(nn_learner, config.bs, training_data_x , testing_data_x, training_data_y, testing_data_y)\n",
    "nn_learner.set_callbacks([acc_nn])"
   ]
  },
  {
   "cell_type": "code",
   "execution_count": 21,
   "id": "877b6cc7",
   "metadata": {
    "execution": {
     "iopub.execute_input": "2021-10-19T10:08:47.715392Z",
     "iopub.status.busy": "2021-10-19T10:08:47.714711Z",
     "iopub.status.idle": "2021-10-19T10:08:47.735546Z",
     "shell.execute_reply": "2021-10-19T10:08:47.734942Z"
    },
    "papermill": {
     "duration": 0.063544,
     "end_time": "2021-10-19T10:08:47.735704",
     "exception": false,
     "start_time": "2021-10-19T10:08:47.672160",
     "status": "completed"
    },
    "tags": []
   },
   "outputs": [],
   "source": [
    "lr_learner = Learner(loss, model_lr, opt, config.num_epochs)\n",
    "acc_lr = ClfCallback(lr_learner, config.bs, training_data_x , testing_data_x, training_data_y, testing_data_y)\n",
    "lr_learner.set_callbacks([acc_lr])"
   ]
  },
  {
   "cell_type": "code",
   "execution_count": 22,
   "id": "d9b133c3",
   "metadata": {
    "execution": {
     "iopub.execute_input": "2021-10-19T10:08:47.824286Z",
     "iopub.status.busy": "2021-10-19T10:08:47.823561Z",
     "iopub.status.idle": "2021-10-19T10:11:22.697972Z",
     "shell.execute_reply": "2021-10-19T10:11:22.698732Z"
    },
    "papermill": {
     "duration": 154.925557,
     "end_time": "2021-10-19T10:11:22.698911",
     "exception": false,
     "start_time": "2021-10-19T10:08:47.773354",
     "status": "completed"
    },
    "tags": []
   },
   "outputs": [
    {
     "name": "stdout",
     "output_type": "stream",
     "text": [
      "Epoch 0, Loss 0.2577\n",
      "Training Accuracy: 0.5448, Testing Accuracy: 0.5348\n",
      "\n"
     ]
    },
    {
     "name": "stdout",
     "output_type": "stream",
     "text": [
      "Epoch 10, Loss 0.084\n",
      "Training Accuracy: 0.9251, Testing Accuracy: 0.9355\n",
      "\n"
     ]
    },
    {
     "name": "stdout",
     "output_type": "stream",
     "text": [
      "Epoch 20, Loss 0.0515\n",
      "Training Accuracy: 0.9475, Testing Accuracy: 0.9561\n",
      "\n"
     ]
    },
    {
     "name": "stdout",
     "output_type": "stream",
     "text": [
      "Epoch 30, Loss 0.041\n",
      "Training Accuracy: 0.9549, Testing Accuracy: 0.9647\n",
      "\n"
     ]
    },
    {
     "name": "stdout",
     "output_type": "stream",
     "text": [
      "Epoch 40, Loss 0.0358\n",
      "Training Accuracy: 0.9603, Testing Accuracy: 0.9657\n",
      "\n"
     ]
    },
    {
     "name": "stdout",
     "output_type": "stream",
     "text": [
      "Epoch 50, Loss 0.0326\n",
      "Training Accuracy: 0.9630, Testing Accuracy: 0.9672\n",
      "\n"
     ]
    },
    {
     "name": "stdout",
     "output_type": "stream",
     "text": [
      "Epoch 60, Loss 0.0304\n",
      "Training Accuracy: 0.9657, Testing Accuracy: 0.9708\n",
      "\n"
     ]
    },
    {
     "name": "stdout",
     "output_type": "stream",
     "text": [
      "Epoch 70, Loss 0.0287\n",
      "Training Accuracy: 0.9672, Testing Accuracy: 0.9718\n",
      "\n"
     ]
    },
    {
     "name": "stdout",
     "output_type": "stream",
     "text": [
      "Epoch 80, Loss 0.0273\n",
      "Training Accuracy: 0.9689, Testing Accuracy: 0.9723\n",
      "\n"
     ]
    },
    {
     "name": "stdout",
     "output_type": "stream",
     "text": [
      "Epoch 90, Loss 0.0262\n",
      "Training Accuracy: 0.9695, Testing Accuracy: 0.9728\n",
      "\n"
     ]
    },
    {
     "name": "stdout",
     "output_type": "stream",
     "text": [
      "Epoch 100, Loss 0.0252\n",
      "Training Accuracy: 0.9705, Testing Accuracy: 0.9723\n",
      "\n"
     ]
    },
    {
     "name": "stdout",
     "output_type": "stream",
     "text": [
      "Epoch 110, Loss 0.0244\n",
      "Training Accuracy: 0.9711, Testing Accuracy: 0.9738\n",
      "\n"
     ]
    },
    {
     "name": "stdout",
     "output_type": "stream",
     "text": [
      "Epoch 120, Loss 0.0236\n",
      "Training Accuracy: 0.9721, Testing Accuracy: 0.9738\n",
      "\n"
     ]
    },
    {
     "name": "stdout",
     "output_type": "stream",
     "text": [
      "Epoch 130, Loss 0.023\n",
      "Training Accuracy: 0.9733, Testing Accuracy: 0.9738\n",
      "\n"
     ]
    },
    {
     "name": "stdout",
     "output_type": "stream",
     "text": [
      "Epoch 140, Loss 0.0223\n",
      "Training Accuracy: 0.9745, Testing Accuracy: 0.9733\n",
      "\n"
     ]
    },
    {
     "name": "stdout",
     "output_type": "stream",
     "text": [
      "Epoch 150, Loss 0.0218\n",
      "Training Accuracy: 0.9752, Testing Accuracy: 0.9743\n",
      "\n"
     ]
    },
    {
     "name": "stdout",
     "output_type": "stream",
     "text": [
      "Epoch 160, Loss 0.0212\n",
      "Training Accuracy: 0.9757, Testing Accuracy: 0.9738\n",
      "\n"
     ]
    },
    {
     "name": "stdout",
     "output_type": "stream",
     "text": [
      "Epoch 170, Loss 0.0207\n",
      "Training Accuracy: 0.9761, Testing Accuracy: 0.9738\n",
      "\n"
     ]
    },
    {
     "name": "stdout",
     "output_type": "stream",
     "text": [
      "Epoch 180, Loss 0.0203\n",
      "Training Accuracy: 0.9767, Testing Accuracy: 0.9738\n",
      "\n"
     ]
    },
    {
     "name": "stdout",
     "output_type": "stream",
     "text": [
      "Epoch 190, Loss 0.0198\n",
      "Training Accuracy: 0.9775, Testing Accuracy: 0.9738\n",
      "\n"
     ]
    },
    {
     "name": "stdout",
     "output_type": "stream",
     "text": [
      "Epoch 200, Loss 0.0194\n",
      "Training Accuracy: 0.9781, Testing Accuracy: 0.9748\n",
      "\n"
     ]
    },
    {
     "name": "stdout",
     "output_type": "stream",
     "text": [
      "Epoch 210, Loss 0.019\n",
      "Training Accuracy: 0.9789, Testing Accuracy: 0.9753\n",
      "\n"
     ]
    },
    {
     "name": "stdout",
     "output_type": "stream",
     "text": [
      "Epoch 220, Loss 0.0186\n",
      "Training Accuracy: 0.9792, Testing Accuracy: 0.9753\n",
      "\n"
     ]
    },
    {
     "name": "stdout",
     "output_type": "stream",
     "text": [
      "Epoch 230, Loss 0.0182\n",
      "Training Accuracy: 0.9800, Testing Accuracy: 0.9758\n",
      "\n"
     ]
    },
    {
     "name": "stdout",
     "output_type": "stream",
     "text": [
      "Epoch 240, Loss 0.0178\n",
      "Training Accuracy: 0.9803, Testing Accuracy: 0.9758\n",
      "\n"
     ]
    },
    {
     "data": {
      "text/plain": [
       "0.007062827600271656"
      ]
     },
     "execution_count": 22,
     "metadata": {},
     "output_type": "execute_result"
    }
   ],
   "source": [
    "nn_learner.train_loop(dl)"
   ]
  },
  {
   "cell_type": "code",
   "execution_count": 23,
   "id": "e0163366",
   "metadata": {
    "execution": {
     "iopub.execute_input": "2021-10-19T10:11:22.813984Z",
     "iopub.status.busy": "2021-10-19T10:11:22.813224Z",
     "iopub.status.idle": "2021-10-19T10:11:44.729041Z",
     "shell.execute_reply": "2021-10-19T10:11:44.730055Z"
    },
    "papermill": {
     "duration": 21.982044,
     "end_time": "2021-10-19T10:11:44.730234",
     "exception": false,
     "start_time": "2021-10-19T10:11:22.748190",
     "status": "completed"
    },
    "tags": []
   },
   "outputs": [
    {
     "name": "stdout",
     "output_type": "stream",
     "text": [
      "Epoch 0, Loss 0.2445\n",
      "Training Accuracy: 0.6762, Testing Accuracy: 0.6562\n",
      "\n"
     ]
    },
    {
     "name": "stdout",
     "output_type": "stream",
     "text": [
      "Epoch 10, Loss 0.1067\n",
      "Training Accuracy: 0.8981, Testing Accuracy: 0.9108\n",
      "\n"
     ]
    },
    {
     "name": "stdout",
     "output_type": "stream",
     "text": [
      "Epoch 20, Loss 0.0814\n",
      "Training Accuracy: 0.9236, Testing Accuracy: 0.9325\n",
      "\n"
     ]
    },
    {
     "name": "stdout",
     "output_type": "stream",
     "text": [
      "Epoch 30, Loss 0.0697\n",
      "Training Accuracy: 0.9334, Testing Accuracy: 0.9435\n",
      "\n"
     ]
    },
    {
     "name": "stdout",
     "output_type": "stream",
     "text": [
      "Epoch 40, Loss 0.0626\n",
      "Training Accuracy: 0.9391, Testing Accuracy: 0.9486\n",
      "\n"
     ]
    },
    {
     "name": "stdout",
     "output_type": "stream",
     "text": [
      "Epoch 50, Loss 0.0579\n",
      "Training Accuracy: 0.9443, Testing Accuracy: 0.9511\n",
      "\n"
     ]
    },
    {
     "name": "stdout",
     "output_type": "stream",
     "text": [
      "Epoch 60, Loss 0.0543\n",
      "Training Accuracy: 0.9467, Testing Accuracy: 0.9541\n",
      "\n"
     ]
    },
    {
     "name": "stdout",
     "output_type": "stream",
     "text": [
      "Epoch 70, Loss 0.0516\n",
      "Training Accuracy: 0.9495, Testing Accuracy: 0.9572\n",
      "\n"
     ]
    },
    {
     "name": "stdout",
     "output_type": "stream",
     "text": [
      "Epoch 80, Loss 0.0495\n",
      "Training Accuracy: 0.9511, Testing Accuracy: 0.9577\n",
      "\n"
     ]
    },
    {
     "name": "stdout",
     "output_type": "stream",
     "text": [
      "Epoch 90, Loss 0.0477\n",
      "Training Accuracy: 0.9528, Testing Accuracy: 0.9587\n",
      "\n"
     ]
    },
    {
     "name": "stdout",
     "output_type": "stream",
     "text": [
      "Epoch 100, Loss 0.0462\n",
      "Training Accuracy: 0.9532, Testing Accuracy: 0.9587\n",
      "\n"
     ]
    },
    {
     "name": "stdout",
     "output_type": "stream",
     "text": [
      "Epoch 110, Loss 0.0449\n",
      "Training Accuracy: 0.9540, Testing Accuracy: 0.9602\n",
      "\n"
     ]
    },
    {
     "name": "stdout",
     "output_type": "stream",
     "text": [
      "Epoch 120, Loss 0.0438\n",
      "Training Accuracy: 0.9548, Testing Accuracy: 0.9617\n",
      "\n"
     ]
    },
    {
     "name": "stdout",
     "output_type": "stream",
     "text": [
      "Epoch 130, Loss 0.0429\n",
      "Training Accuracy: 0.9559, Testing Accuracy: 0.9622\n",
      "\n"
     ]
    },
    {
     "name": "stdout",
     "output_type": "stream",
     "text": [
      "Epoch 140, Loss 0.042\n",
      "Training Accuracy: 0.9565, Testing Accuracy: 0.9627\n",
      "\n"
     ]
    },
    {
     "name": "stdout",
     "output_type": "stream",
     "text": [
      "Epoch 150, Loss 0.0412\n",
      "Training Accuracy: 0.9571, Testing Accuracy: 0.9627\n",
      "\n"
     ]
    },
    {
     "name": "stdout",
     "output_type": "stream",
     "text": [
      "Epoch 160, Loss 0.0405\n",
      "Training Accuracy: 0.9578, Testing Accuracy: 0.9637\n",
      "\n"
     ]
    },
    {
     "name": "stdout",
     "output_type": "stream",
     "text": [
      "Epoch 170, Loss 0.0399\n",
      "Training Accuracy: 0.9580, Testing Accuracy: 0.9642\n",
      "\n"
     ]
    },
    {
     "name": "stdout",
     "output_type": "stream",
     "text": [
      "Epoch 180, Loss 0.0393\n",
      "Training Accuracy: 0.9587, Testing Accuracy: 0.9642\n",
      "\n"
     ]
    },
    {
     "name": "stdout",
     "output_type": "stream",
     "text": [
      "Epoch 190, Loss 0.0388\n",
      "Training Accuracy: 0.9592, Testing Accuracy: 0.9642\n",
      "\n"
     ]
    },
    {
     "name": "stdout",
     "output_type": "stream",
     "text": [
      "Epoch 200, Loss 0.0383\n",
      "Training Accuracy: 0.9593, Testing Accuracy: 0.9642\n",
      "\n"
     ]
    },
    {
     "name": "stdout",
     "output_type": "stream",
     "text": [
      "Epoch 210, Loss 0.0379\n",
      "Training Accuracy: 0.9596, Testing Accuracy: 0.9642\n",
      "\n"
     ]
    },
    {
     "name": "stdout",
     "output_type": "stream",
     "text": [
      "Epoch 220, Loss 0.0375\n",
      "Training Accuracy: 0.9599, Testing Accuracy: 0.9642\n",
      "\n"
     ]
    },
    {
     "name": "stdout",
     "output_type": "stream",
     "text": [
      "Epoch 230, Loss 0.0371\n",
      "Training Accuracy: 0.9604, Testing Accuracy: 0.9647\n",
      "\n"
     ]
    },
    {
     "name": "stdout",
     "output_type": "stream",
     "text": [
      "Epoch 240, Loss 0.0367\n",
      "Training Accuracy: 0.9608, Testing Accuracy: 0.9647\n",
      "\n"
     ]
    },
    {
     "data": {
      "text/plain": [
       "0.008700352394905917"
      ]
     },
     "execution_count": 23,
     "metadata": {},
     "output_type": "execute_result"
    }
   ],
   "source": [
    "lr_learner.train_loop(dl)"
   ]
  },
  {
   "cell_type": "code",
   "execution_count": 24,
   "id": "ca410940",
   "metadata": {
    "execution": {
     "iopub.execute_input": "2021-10-19T10:11:44.870108Z",
     "iopub.status.busy": "2021-10-19T10:11:44.869389Z",
     "iopub.status.idle": "2021-10-19T10:11:45.222777Z",
     "shell.execute_reply": "2021-10-19T10:11:45.221770Z"
    },
    "papermill": {
     "duration": 0.426842,
     "end_time": "2021-10-19T10:11:45.222987",
     "exception": false,
     "start_time": "2021-10-19T10:11:44.796145",
     "status": "completed"
    },
    "tags": []
   },
   "outputs": [
    {
     "data": {
      "text/plain": [
       "<matplotlib.legend.Legend at 0x7ff3cc988eb8>"
      ]
     },
     "execution_count": 24,
     "metadata": {},
     "output_type": "execute_result"
    },
    {
     "data": {
      "image/png": "[encoded data removed]",
      "text/plain": [
       "<Figure size 1080x720 with 1 Axes>"
      ]
     },
     "metadata": {
      "needs_background": "light"
     },
     "output_type": "display_data"
    }
   ],
   "source": [
    "#comparing the results of NN and LR\n",
    "plt.figure(figsize=(15,10))\n",
    "\n",
    "# Neural Network plots\n",
    "plt.plot(acc_nn.accuracies, 'r-', label = \"Training Accuracies - NN\")\n",
    "plt.plot(acc_nn.test_accuracies, 'g-', label = \"Testing Accuracies - NN\")\n",
    "\n",
    "# Logistic Regression plots\n",
    "plt.plot(acc_lr.accuracies, 'k-', label = \"Training Accuracies - LR\")\n",
    "plt.plot(acc_lr.test_accuracies, 'b-', label = \"Testing Accuracies - LR\")\n",
    "plt.legend()"
   ]
  },
  {
   "cell_type": "markdown",
   "id": "80dfb35c",
   "metadata": {
    "papermill": {
     "duration": 0.066717,
     "end_time": "2021-10-19T10:11:45.351199",
     "exception": false,
     "start_time": "2021-10-19T10:11:45.284482",
     "status": "completed"
    },
    "tags": []
   },
   "source": [
    "#### Plotting the outputs of this layer of the NN.\n"
   ]
  },
  {
   "cell_type": "code",
   "execution_count": 25,
   "id": "45eb2ff5",
   "metadata": {
    "execution": {
     "iopub.execute_input": "2021-10-19T10:11:45.493586Z",
     "iopub.status.busy": "2021-10-19T10:11:45.491405Z",
     "iopub.status.idle": "2021-10-19T10:11:45.526346Z",
     "shell.execute_reply": "2021-10-19T10:11:45.527038Z"
    },
    "papermill": {
     "duration": 0.110682,
     "end_time": "2021-10-19T10:11:45.527297",
     "exception": false,
     "start_time": "2021-10-19T10:11:45.416615",
     "status": "completed"
    },
    "tags": []
   },
   "outputs": [],
   "source": [
    "new_model = Model(layers[:-2])\n",
    "testing_plot = new_model(testing_data_x)"
   ]
  },
  {
   "cell_type": "code",
   "execution_count": 26,
   "id": "4c0a5485",
   "metadata": {
    "execution": {
     "iopub.execute_input": "2021-10-19T10:11:45.678273Z",
     "iopub.status.busy": "2021-10-19T10:11:45.677396Z",
     "iopub.status.idle": "2021-10-19T10:11:45.958595Z",
     "shell.execute_reply": "2021-10-19T10:11:45.959205Z"
    },
    "papermill": {
     "duration": 0.360837,
     "end_time": "2021-10-19T10:11:45.959377",
     "exception": false,
     "start_time": "2021-10-19T10:11:45.598540",
     "status": "completed"
    },
    "tags": []
   },
   "outputs": [
    {
     "data": {
      "text/plain": [
       "Text(0.5, 1.0, 'Outputs')"
      ]
     },
     "execution_count": 26,
     "metadata": {},
     "output_type": "execute_result"
    },
    {
     "data": {
      "image/png": "[encoded data removed]",
      "text/plain": [
       "<Figure size 576x504 with 1 Axes>"
      ]
     },
     "metadata": {
      "needs_background": "light"
     },
     "output_type": "display_data"
    }
   ],
   "source": [
    "# Plotting the scatter plot of points and color coding by class\n",
    "plt.figure(figsize=(8,7))\n",
    "plt.scatter(testing_plot[:,0], testing_plot[:,1], alpha = 0.1, c = y_test.ravel());\n",
    "plt.title('Outputs')"
   ]
  },
  {
   "cell_type": "markdown",
   "id": "a74fcf8f",
   "metadata": {
    "papermill": {
     "duration": 0.065443,
     "end_time": "2021-10-19T10:11:46.090675",
     "exception": false,
     "start_time": "2021-10-19T10:11:46.025232",
     "status": "completed"
    },
    "tags": []
   },
   "source": [
    "Probability contours"
   ]
  },
  {
   "cell_type": "code",
   "execution_count": 27,
   "id": "d0afc8e3",
   "metadata": {
    "execution": {
     "iopub.execute_input": "2021-10-19T10:11:46.253066Z",
     "iopub.status.busy": "2021-10-19T10:11:46.252338Z",
     "iopub.status.idle": "2021-10-19T10:11:46.272002Z",
     "shell.execute_reply": "2021-10-19T10:11:46.271272Z"
    },
    "papermill": {
     "duration": 0.085506,
     "end_time": "2021-10-19T10:11:46.272156",
     "exception": false,
     "start_time": "2021-10-19T10:11:46.186650",
     "status": "completed"
    },
    "tags": []
   },
   "outputs": [],
   "source": [
    "model_prob = Model(layers[-2:]) "
   ]
  },
  {
   "cell_type": "code",
   "execution_count": 28,
   "id": "9b96e238",
   "metadata": {
    "execution": {
     "iopub.execute_input": "2021-10-19T10:11:46.408276Z",
     "iopub.status.busy": "2021-10-19T10:11:46.407611Z",
     "iopub.status.idle": "2021-10-19T10:11:46.424854Z",
     "shell.execute_reply": "2021-10-19T10:11:46.425376Z"
    },
    "papermill": {
     "duration": 0.094331,
     "end_time": "2021-10-19T10:11:46.425546",
     "exception": false,
     "start_time": "2021-10-19T10:11:46.331215",
     "status": "completed"
    },
    "tags": []
   },
   "outputs": [],
   "source": [
    "#creating the x and y ranges according to the above generated plot.\n",
    "x_range = np.linspace(-4, 1, 100) \n",
    "y_range = np.linspace(-6, 6, 100) \n",
    "x_grid, y_grid = np.meshgrid(x_range, y_range) # x_grid and y_grig are of size 100 X 100\n",
    "\n",
    "# converting x_grid and y_grid to continuous arrays\n",
    "x_gridflat = np.ravel(x_grid)\n",
    "y_gridflat = np.ravel(y_grid)\n",
    "\n",
    "# The last layer of the current model takes two columns as input. Hence transpose of np.vstack() is required.\n",
    "X = np.vstack((x_gridflat, y_gridflat)).T\n",
    "\n",
    "prob_contour = model_prob(X).reshape(100,100) "
   ]
  },
  {
   "cell_type": "code",
   "execution_count": 29,
   "id": "da72499a",
   "metadata": {
    "execution": {
     "iopub.execute_input": "2021-10-19T10:11:46.573130Z",
     "iopub.status.busy": "2021-10-19T10:11:46.572371Z",
     "iopub.status.idle": "2021-10-19T10:11:46.962661Z",
     "shell.execute_reply": "2021-10-19T10:11:46.961912Z"
    },
    "papermill": {
     "duration": 0.457932,
     "end_time": "2021-10-19T10:11:46.962910",
     "exception": false,
     "start_time": "2021-10-19T10:11:46.504978",
     "status": "completed"
    },
    "tags": []
   },
   "outputs": [
    {
     "data": {
      "image/png": "[encoded data removed]",
      "text/plain": [
       "<Figure size 720x648 with 1 Axes>"
      ]
     },
     "metadata": {
      "needs_background": "light"
     },
     "output_type": "display_data"
    }
   ],
   "source": [
    "plt.figure(figsize=(10,9))\n",
    "plt.scatter(testing_plot[:,0], testing_plot[:,1], alpha = 0.1, c = y_test.ravel())\n",
    "contours = plt.contour(x_grid,y_grid,prob_contour)\n",
    "plt.title('Probability Contours')\n",
    "plt.clabel(contours, inline = True );"
   ]
  },
  {
   "cell_type": "code",
   "execution_count": null,
   "id": "e81b4ac7",
   "metadata": {
    "papermill": {
     "duration": 0.06776,
     "end_time": "2021-10-19T10:11:47.102298",
     "exception": false,
     "start_time": "2021-10-19T10:11:47.034538",
     "status": "completed"
    },
    "tags": []
   },
   "outputs": [],
   "source": []
  }
 ],
 "metadata": {
  "kernelspec": {
   "display_name": "Python 3",
   "language": "python",
   "name": "python3"
  },
  "language_info": {
   "codemirror_mode": {
    "name": "ipython",
    "version": 3
   },
   "file_extension": ".py",
   "mimetype": "text/x-python",
   "name": "python",
   "nbconvert_exporter": "python",
   "pygments_lexer": "ipython3",
   "version": "3.6.15"
  },
  "papermill": {
   "default_parameters": {},
   "duration": 188.182944,
   "end_time": "2021-10-19T10:11:47.683675",
   "environment_variables": {},
   "exception": null,
   "input_path": "2020-08-11-part2.ipynb",
   "output_path": "2020-08-11-part2.ipynb",
   "parameters": {},
   "start_time": "2021-10-19T10:08:39.500731",
   "version": "2.3.3"
  }
 },
 "nbformat": 4,
 "nbformat_minor": 5
}