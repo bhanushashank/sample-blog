{
 "cells": [
  {
   "cell_type": "markdown",
   "id": "98380cd3",
   "metadata": {
    "papermill": {
     "duration": 0.031766,
     "end_time": "2021-12-27T10:10:23.539051",
     "exception": false,
     "start_time": "2021-12-27T10:10:23.507285",
     "status": "completed"
    },
    "tags": []
   },
   "source": [
    "# Distinguish Your Own Digits (DYOD)"
   ]
  },
  {
   "cell_type": "markdown",
   "id": "ef31240d",
   "metadata": {
    "papermill": {
     "duration": 0.025408,
     "end_time": "2021-12-27T10:10:23.589601",
     "exception": false,
     "start_time": "2021-12-27T10:10:23.564193",
     "status": "completed"
    },
    "tags": []
   },
   "source": [
    "You are going to write a classifier that distinguishes between the number 3 and number 8."
   ]
  },
  {
   "cell_type": "code",
   "execution_count": 1,
   "id": "b15c8646",
   "metadata": {
    "execution": {
     "iopub.execute_input": "2021-12-27T10:10:23.650784Z",
     "iopub.status.busy": "2021-12-27T10:10:23.650213Z",
     "iopub.status.idle": "2021-12-27T10:10:23.661275Z",
     "shell.execute_reply": "2021-12-27T10:10:23.660819Z"
    },
    "papermill": {
     "duration": 0.047109,
     "end_time": "2021-12-27T10:10:23.661402",
     "exception": false,
     "start_time": "2021-12-27T10:10:23.614293",
     "status": "completed"
    },
    "tags": []
   },
   "outputs": [],
   "source": [
    "%load_ext autoreload\n",
    "%autoreload 2"
   ]
  },
  {
   "cell_type": "code",
   "execution_count": 2,
   "id": "22ef38dc",
   "metadata": {
    "execution": {
     "iopub.execute_input": "2021-12-27T10:10:23.717229Z",
     "iopub.status.busy": "2021-12-27T10:10:23.716574Z",
     "iopub.status.idle": "2021-12-27T10:10:24.326273Z",
     "shell.execute_reply": "2021-12-27T10:10:24.325395Z"
    },
    "papermill": {
     "duration": 0.64147,
     "end_time": "2021-12-27T10:10:24.326496",
     "exception": false,
     "start_time": "2021-12-27T10:10:23.685026",
     "status": "completed"
    },
    "tags": []
   },
   "outputs": [],
   "source": [
    "%matplotlib inline\n",
    "import numpy as np\n",
    "import matplotlib.pyplot as plt\n",
    "import pandas as pd"
   ]
  },
  {
   "cell_type": "markdown",
   "id": "ba036198",
   "metadata": {
    "papermill": {
     "duration": 0.02564,
     "end_time": "2021-12-27T10:10:24.378048",
     "exception": false,
     "start_time": "2021-12-27T10:10:24.352408",
     "status": "completed"
    },
    "tags": []
   },
   "source": [
    "From the command line run `pip install mnist`. This is a library that will help you bring down the mnist dataset. If you run this from a notebook, you need to put  `!pip install mnist` in a cell by itself."
   ]
  },
  {
   "cell_type": "code",
   "execution_count": 3,
   "id": "bb6ad8a1",
   "metadata": {
    "execution": {
     "iopub.execute_input": "2021-12-27T10:10:24.435093Z",
     "iopub.status.busy": "2021-12-27T10:10:24.434532Z",
     "iopub.status.idle": "2021-12-27T10:10:27.066129Z",
     "shell.execute_reply": "2021-12-27T10:10:27.065516Z"
    },
    "papermill": {
     "duration": 2.662468,
     "end_time": "2021-12-27T10:10:27.066257",
     "exception": false,
     "start_time": "2021-12-27T10:10:24.403789",
     "status": "completed"
    },
    "tags": []
   },
   "outputs": [
    {
     "name": "stdout",
     "output_type": "stream",
     "text": [
      "Collecting mnist\r\n"
     ]
    },
    {
     "name": "stdout",
     "output_type": "stream",
     "text": [
      "  Downloading mnist-0.2.2-py2.py3-none-any.whl (3.5 kB)\r\n",
      "Requirement already satisfied: numpy in /opt/hostedtoolcache/Python/3.6.15/x64/lib/python3.6/site-packages (from mnist) (1.19.5)\r\n"
     ]
    },
    {
     "name": "stdout",
     "output_type": "stream",
     "text": [
      "Installing collected packages: mnist\r\n",
      "Successfully installed mnist-0.2.2\r\n"
     ]
    }
   ],
   "source": [
    "!pip install mnist"
   ]
  },
  {
   "cell_type": "markdown",
   "id": "69df9c9a",
   "metadata": {
    "papermill": {
     "duration": 0.026288,
     "end_time": "2021-12-27T10:10:27.119917",
     "exception": false,
     "start_time": "2021-12-27T10:10:27.093629",
     "status": "completed"
    },
    "tags": []
   },
   "source": [
    "## Preparing the Data"
   ]
  },
  {
   "cell_type": "code",
   "execution_count": 4,
   "id": "7f69d806",
   "metadata": {
    "execution": {
     "iopub.execute_input": "2021-12-27T10:10:27.176978Z",
     "iopub.status.busy": "2021-12-27T10:10:27.175586Z",
     "iopub.status.idle": "2021-12-27T10:10:27.192178Z",
     "shell.execute_reply": "2021-12-27T10:10:27.191693Z"
    },
    "papermill": {
     "duration": 0.046411,
     "end_time": "2021-12-27T10:10:27.192303",
     "exception": false,
     "start_time": "2021-12-27T10:10:27.145892",
     "status": "completed"
    },
    "tags": []
   },
   "outputs": [],
   "source": [
    "import mnist"
   ]
  },
  {
   "cell_type": "code",
   "execution_count": 5,
   "id": "a411e44f",
   "metadata": {
    "execution": {
     "iopub.execute_input": "2021-12-27T10:10:27.251767Z",
     "iopub.status.busy": "2021-12-27T10:10:27.251160Z",
     "iopub.status.idle": "2021-12-27T10:10:27.781417Z",
     "shell.execute_reply": "2021-12-27T10:10:27.780781Z"
    },
    "papermill": {
     "duration": 0.562993,
     "end_time": "2021-12-27T10:10:27.781550",
     "exception": false,
     "start_time": "2021-12-27T10:10:27.218557",
     "status": "completed"
    },
    "tags": []
   },
   "outputs": [],
   "source": [
    "train_images = mnist.train_images()\n",
    "train_labels = mnist.train_labels()"
   ]
  },
  {
   "cell_type": "code",
   "execution_count": 6,
   "id": "dceab3a5",
   "metadata": {
    "execution": {
     "iopub.execute_input": "2021-12-27T10:10:27.841333Z",
     "iopub.status.busy": "2021-12-27T10:10:27.840746Z",
     "iopub.status.idle": "2021-12-27T10:10:27.856375Z",
     "shell.execute_reply": "2021-12-27T10:10:27.855890Z"
    },
    "papermill": {
     "duration": 0.048415,
     "end_time": "2021-12-27T10:10:27.856491",
     "exception": false,
     "start_time": "2021-12-27T10:10:27.808076",
     "status": "completed"
    },
    "tags": []
   },
   "outputs": [
    {
     "data": {
      "text/plain": [
       "((60000, 28, 28), (60000,))"
      ]
     },
     "execution_count": 6,
     "metadata": {},
     "output_type": "execute_result"
    }
   ],
   "source": [
    "train_images.shape, train_labels.shape"
   ]
  },
  {
   "cell_type": "code",
   "execution_count": 7,
   "id": "f50dc2bb",
   "metadata": {
    "execution": {
     "iopub.execute_input": "2021-12-27T10:10:27.912569Z",
     "iopub.status.busy": "2021-12-27T10:10:27.911994Z",
     "iopub.status.idle": "2021-12-27T10:10:28.091844Z",
     "shell.execute_reply": "2021-12-27T10:10:28.090929Z"
    },
    "papermill": {
     "duration": 0.209004,
     "end_time": "2021-12-27T10:10:28.092071",
     "exception": false,
     "start_time": "2021-12-27T10:10:27.883067",
     "status": "completed"
    },
    "tags": []
   },
   "outputs": [],
   "source": [
    "test_images = mnist.test_images()\n",
    "test_labels = mnist.test_labels()"
   ]
  },
  {
   "cell_type": "code",
   "execution_count": 8,
   "id": "fc38cf1b",
   "metadata": {
    "execution": {
     "iopub.execute_input": "2021-12-27T10:10:28.150467Z",
     "iopub.status.busy": "2021-12-27T10:10:28.149909Z",
     "iopub.status.idle": "2021-12-27T10:10:28.164757Z",
     "shell.execute_reply": "2021-12-27T10:10:28.164042Z"
    },
    "papermill": {
     "duration": 0.043325,
     "end_time": "2021-12-27T10:10:28.164877",
     "exception": false,
     "start_time": "2021-12-27T10:10:28.121552",
     "status": "completed"
    },
    "tags": []
   },
   "outputs": [
    {
     "data": {
      "text/plain": [
       "((10000, 28, 28), (10000,))"
      ]
     },
     "execution_count": 8,
     "metadata": {},
     "output_type": "execute_result"
    }
   ],
   "source": [
    "test_images.shape, test_labels.shape"
   ]
  },
  {
   "cell_type": "code",
   "execution_count": 9,
   "id": "f9ed8fe0",
   "metadata": {
    "execution": {
     "iopub.execute_input": "2021-12-27T10:10:28.220889Z",
     "iopub.status.busy": "2021-12-27T10:10:28.220349Z",
     "iopub.status.idle": "2021-12-27T10:10:28.368846Z",
     "shell.execute_reply": "2021-12-27T10:10:28.368298Z"
    },
    "papermill": {
     "duration": 0.178847,
     "end_time": "2021-12-27T10:10:28.368975",
     "exception": false,
     "start_time": "2021-12-27T10:10:28.190128",
     "status": "completed"
    },
    "tags": []
   },
   "outputs": [
    {
     "name": "stdout",
     "output_type": "stream",
     "text": [
      "2\n"
     ]
    },
    {
     "data": {
      "text/plain": [
       "<matplotlib.image.AxesImage at 0x7f3135724550>"
      ]
     },
     "execution_count": 9,
     "metadata": {},
     "output_type": "execute_result"
    },
    {
     "data": {
      "image/png": "[encoded data removed]",
      "text/plain": [
       "<Figure size 432x288 with 1 Axes>"
      ]
     },
     "metadata": {
      "needs_background": "light"
     },
     "output_type": "display_data"
    }
   ],
   "source": [
    "image_index = 7776 # You may select anything up to 60,000\n",
    "print(train_labels[image_index]) \n",
    "plt.imshow(train_images[image_index], cmap='Greys')"
   ]
  },
  {
   "cell_type": "markdown",
   "id": "a8d2388d",
   "metadata": {
    "papermill": {
     "duration": 0.027825,
     "end_time": "2021-12-27T10:10:28.425115",
     "exception": false,
     "start_time": "2021-12-27T10:10:28.397290",
     "status": "completed"
    },
    "tags": []
   },
   "source": [
    "## Filter data to get 3 and 8 out"
   ]
  },
  {
   "cell_type": "code",
   "execution_count": 10,
   "id": "776f7fc7",
   "metadata": {
    "execution": {
     "iopub.execute_input": "2021-12-27T10:10:28.487762Z",
     "iopub.status.busy": "2021-12-27T10:10:28.486689Z",
     "iopub.status.idle": "2021-12-27T10:10:28.502230Z",
     "shell.execute_reply": "2021-12-27T10:10:28.501775Z"
    },
    "papermill": {
     "duration": 0.04872,
     "end_time": "2021-12-27T10:10:28.502346",
     "exception": false,
     "start_time": "2021-12-27T10:10:28.453626",
     "status": "completed"
    },
    "tags": []
   },
   "outputs": [],
   "source": [
    "train_filter = np.where((train_labels == 3 ) | (train_labels == 8))\n",
    "test_filter = np.where((test_labels == 3) | (test_labels == 8))\n",
    "X_train, y_train = train_images[train_filter], train_labels[train_filter]\n",
    "X_test, y_test = test_images[test_filter], test_labels[test_filter]"
   ]
  },
  {
   "cell_type": "markdown",
   "id": "948f0b7e",
   "metadata": {
    "papermill": {
     "duration": 0.028201,
     "end_time": "2021-12-27T10:10:28.559243",
     "exception": false,
     "start_time": "2021-12-27T10:10:28.531042",
     "status": "completed"
    },
    "tags": []
   },
   "source": [
    "We normalize the pizel values in the 0 to 1 range"
   ]
  },
  {
   "cell_type": "code",
   "execution_count": 11,
   "id": "ee4c2166",
   "metadata": {
    "execution": {
     "iopub.execute_input": "2021-12-27T10:10:28.619160Z",
     "iopub.status.busy": "2021-12-27T10:10:28.618602Z",
     "iopub.status.idle": "2021-12-27T10:10:28.673819Z",
     "shell.execute_reply": "2021-12-27T10:10:28.672914Z"
    },
    "papermill": {
     "duration": 0.08665,
     "end_time": "2021-12-27T10:10:28.674031",
     "exception": false,
     "start_time": "2021-12-27T10:10:28.587381",
     "status": "completed"
    },
    "tags": []
   },
   "outputs": [],
   "source": [
    "X_train = X_train/255.\n",
    "X_test = X_test/255."
   ]
  },
  {
   "cell_type": "markdown",
   "id": "ddcf4fab",
   "metadata": {
    "papermill": {
     "duration": 0.027873,
     "end_time": "2021-12-27T10:10:28.730374",
     "exception": false,
     "start_time": "2021-12-27T10:10:28.702501",
     "status": "completed"
    },
    "tags": []
   },
   "source": [
    "And setup the labels as 1 (when the digit is 3) and 0 (when the digit is 8)"
   ]
  },
  {
   "cell_type": "code",
   "execution_count": 12,
   "id": "7dc908f2",
   "metadata": {
    "execution": {
     "iopub.execute_input": "2021-12-27T10:10:28.791271Z",
     "iopub.status.busy": "2021-12-27T10:10:28.790705Z",
     "iopub.status.idle": "2021-12-27T10:10:28.803900Z",
     "shell.execute_reply": "2021-12-27T10:10:28.803432Z"
    },
    "papermill": {
     "duration": 0.044569,
     "end_time": "2021-12-27T10:10:28.804022",
     "exception": false,
     "start_time": "2021-12-27T10:10:28.759453",
     "status": "completed"
    },
    "tags": []
   },
   "outputs": [],
   "source": [
    "y_train = 1*(y_train==3)\n",
    "y_test = 1*(y_test==3)"
   ]
  },
  {
   "cell_type": "code",
   "execution_count": 13,
   "id": "01e4e969",
   "metadata": {
    "execution": {
     "iopub.execute_input": "2021-12-27T10:10:28.862017Z",
     "iopub.status.busy": "2021-12-27T10:10:28.861439Z",
     "iopub.status.idle": "2021-12-27T10:10:28.876739Z",
     "shell.execute_reply": "2021-12-27T10:10:28.876267Z"
    },
    "papermill": {
     "duration": 0.04503,
     "end_time": "2021-12-27T10:10:28.876859",
     "exception": false,
     "start_time": "2021-12-27T10:10:28.831829",
     "status": "completed"
    },
    "tags": []
   },
   "outputs": [
    {
     "data": {
      "text/plain": [
       "((11982, 28, 28), (1984, 28, 28))"
      ]
     },
     "execution_count": 13,
     "metadata": {},
     "output_type": "execute_result"
    }
   ],
   "source": [
    "X_train.shape, X_test.shape"
   ]
  },
  {
   "cell_type": "markdown",
   "id": "5ccf3f85",
   "metadata": {
    "papermill": {
     "duration": 0.028056,
     "end_time": "2021-12-27T10:10:28.933042",
     "exception": false,
     "start_time": "2021-12-27T10:10:28.904986",
     "status": "completed"
    },
    "tags": []
   },
   "source": [
    "We reshape the data to flatten the image pixels into a set of features or co-variates:"
   ]
  },
  {
   "cell_type": "code",
   "execution_count": 14,
   "id": "5286a4a3",
   "metadata": {
    "execution": {
     "iopub.execute_input": "2021-12-27T10:10:28.995469Z",
     "iopub.status.busy": "2021-12-27T10:10:28.994922Z",
     "iopub.status.idle": "2021-12-27T10:10:29.010768Z",
     "shell.execute_reply": "2021-12-27T10:10:29.010300Z"
    },
    "papermill": {
     "duration": 0.049569,
     "end_time": "2021-12-27T10:10:29.010889",
     "exception": false,
     "start_time": "2021-12-27T10:10:28.961320",
     "status": "completed"
    },
    "tags": []
   },
   "outputs": [
    {
     "data": {
      "text/plain": [
       "((11982, 784), (1984, 784))"
      ]
     },
     "execution_count": 14,
     "metadata": {},
     "output_type": "execute_result"
    }
   ],
   "source": [
    "X_train = X_train.reshape(X_train.shape[0], -1)\n",
    "X_test = X_test.reshape(X_test.shape[0], -1)\n",
    "X_train.shape, X_test.shape"
   ]
  },
  {
   "cell_type": "code",
   "execution_count": 15,
   "id": "73c5f88a",
   "metadata": {
    "execution": {
     "iopub.execute_input": "2021-12-27T10:10:29.073504Z",
     "iopub.status.busy": "2021-12-27T10:10:29.072932Z",
     "iopub.status.idle": "2021-12-27T10:10:29.092477Z",
     "shell.execute_reply": "2021-12-27T10:10:29.092002Z"
    },
    "papermill": {
     "duration": 0.053074,
     "end_time": "2021-12-27T10:10:29.092597",
     "exception": false,
     "start_time": "2021-12-27T10:10:29.039523",
     "status": "completed"
    },
    "tags": []
   },
   "outputs": [],
   "source": [
    "#Impoting functions from 'Kudzu'\n",
    "from kudzu.model import Model\n",
    "from kudzu.train import Learner\n",
    "from kudzu.optim import GD\n",
    "from kudzu.data import Data, Sampler,Dataloader\n",
    "\n",
    "from kudzu.callbacks import AccCallback\n",
    "from kudzu.callbacks import ClfCallback\n",
    "\n",
    "from kudzu.loss import MSE\n",
    "\n",
    "from kudzu.layer import Sigmoid,Relu\n",
    "from kudzu.layer import Affine"
   ]
  },
  {
   "cell_type": "markdown",
   "id": "bc01172a",
   "metadata": {
    "papermill": {
     "duration": 0.028345,
     "end_time": "2021-12-27T10:10:29.150178",
     "exception": false,
     "start_time": "2021-12-27T10:10:29.121833",
     "status": "completed"
    },
    "tags": []
   },
   "source": [
    "### Let us create a `Config` class, to store important parameters. \n",
    "This class essentially plays the role of a dictionary."
   ]
  },
  {
   "cell_type": "code",
   "execution_count": 16,
   "id": "978281aa",
   "metadata": {
    "execution": {
     "iopub.execute_input": "2021-12-27T10:10:29.210555Z",
     "iopub.status.busy": "2021-12-27T10:10:29.210010Z",
     "iopub.status.idle": "2021-12-27T10:10:29.223467Z",
     "shell.execute_reply": "2021-12-27T10:10:29.222998Z"
    },
    "papermill": {
     "duration": 0.045078,
     "end_time": "2021-12-27T10:10:29.223594",
     "exception": false,
     "start_time": "2021-12-27T10:10:29.178516",
     "status": "completed"
    },
    "tags": []
   },
   "outputs": [],
   "source": [
    "class Config:\n",
    "    pass\n",
    "config = Config()\n",
    "config.lr = 0.001\n",
    "config.num_epochs = 250\n",
    "config.bs = 50"
   ]
  },
  {
   "cell_type": "markdown",
   "id": "1385fa59",
   "metadata": {
    "papermill": {
     "duration": 0.027301,
     "end_time": "2021-12-27T10:10:29.278504",
     "exception": false,
     "start_time": "2021-12-27T10:10:29.251203",
     "status": "completed"
    },
    "tags": []
   },
   "source": [
    "### Running Models with the Training data\n",
    "Details about the network layers:\n",
    "- A first affine layer has 784 inputs and does 100 affine transforms. These are followed by a Relu\n",
    "- A second affine layer has 100 inputs from the 100 activations of the past layer, and does 100 affine transforms. These are followed by a Relu\n",
    "- A third affine layer has 100 activations and does 2 affine transformations to create an embedding for visualization. There is no non-linearity here.\n",
    "- A final \"logistic regression\" which has an affine transform from 2 inputs to 1 output, which is squeezed through a sigmoid.\n"
   ]
  },
  {
   "cell_type": "code",
   "execution_count": 17,
   "id": "2b9c66db",
   "metadata": {
    "execution": {
     "iopub.execute_input": "2021-12-27T10:10:29.336746Z",
     "iopub.status.busy": "2021-12-27T10:10:29.336146Z",
     "iopub.status.idle": "2021-12-27T10:10:29.350190Z",
     "shell.execute_reply": "2021-12-27T10:10:29.350670Z"
    },
    "papermill": {
     "duration": 0.045539,
     "end_time": "2021-12-27T10:10:29.350795",
     "exception": false,
     "start_time": "2021-12-27T10:10:29.305256",
     "status": "completed"
    },
    "tags": []
   },
   "outputs": [],
   "source": [
    "data = Data(X_train, y_train.reshape(-1,1))\n",
    "sampler = Sampler(data, config.bs, shuffle=True)\n",
    "\n",
    "dl = Dataloader(data, sampler)\n",
    "\n",
    "opt = GD(config.lr)\n",
    "loss = MSE()"
   ]
  },
  {
   "cell_type": "code",
   "execution_count": 18,
   "id": "b275e4c2",
   "metadata": {
    "execution": {
     "iopub.execute_input": "2021-12-27T10:10:29.412089Z",
     "iopub.status.busy": "2021-12-27T10:10:29.411519Z",
     "iopub.status.idle": "2021-12-27T10:10:29.424915Z",
     "shell.execute_reply": "2021-12-27T10:10:29.424436Z"
    },
    "papermill": {
     "duration": 0.046558,
     "end_time": "2021-12-27T10:10:29.425034",
     "exception": false,
     "start_time": "2021-12-27T10:10:29.378476",
     "status": "completed"
    },
    "tags": []
   },
   "outputs": [],
   "source": [
    "training_data_x = X_train\n",
    "testing_data_x = X_test\n",
    "training_data_y = y_train.reshape(-1,1)\n",
    "testing_data_y = y_test.reshape(-1,1)"
   ]
  },
  {
   "cell_type": "code",
   "execution_count": 19,
   "id": "76951160",
   "metadata": {
    "execution": {
     "iopub.execute_input": "2021-12-27T10:10:29.488866Z",
     "iopub.status.busy": "2021-12-27T10:10:29.488276Z",
     "iopub.status.idle": "2021-12-27T10:10:29.503300Z",
     "shell.execute_reply": "2021-12-27T10:10:29.502841Z"
    },
    "papermill": {
     "duration": 0.051354,
     "end_time": "2021-12-27T10:10:29.503407",
     "exception": false,
     "start_time": "2021-12-27T10:10:29.452053",
     "status": "completed"
    },
    "tags": []
   },
   "outputs": [
    {
     "name": "stdout",
     "output_type": "stream",
     "text": [
      "xavier\n",
      "xavier\n",
      "xavier\n",
      "xavier\n",
      "xavier\n"
     ]
    }
   ],
   "source": [
    "layers = [Affine(\"first\", 784, 100), Relu(\"first\"), Affine(\"second\", 100, 100), Relu(\"second\"), Affine(\"third\", 100, 2), Affine(\"last\", 2, 1), Sigmoid(\"last\")]\n",
    "model_nn = Model(layers)\n",
    "model_lr = Model([Affine(\"logits\", 784, 1), Sigmoid(\"sigmoid\")])"
   ]
  },
  {
   "cell_type": "code",
   "execution_count": 20,
   "id": "6eede77a",
   "metadata": {
    "execution": {
     "iopub.execute_input": "2021-12-27T10:10:29.570260Z",
     "iopub.status.busy": "2021-12-27T10:10:29.569682Z",
     "iopub.status.idle": "2021-12-27T10:10:29.580377Z",
     "shell.execute_reply": "2021-12-27T10:10:29.580877Z"
    },
    "papermill": {
     "duration": 0.047894,
     "end_time": "2021-12-27T10:10:29.581006",
     "exception": false,
     "start_time": "2021-12-27T10:10:29.533112",
     "status": "completed"
    },
    "tags": []
   },
   "outputs": [],
   "source": [
    "nn_learner = Learner(loss, model_nn, opt, config.num_epochs)\n",
    "acc_nn = ClfCallback(nn_learner, config.bs, training_data_x , testing_data_x, training_data_y, testing_data_y)\n",
    "nn_learner.set_callbacks([acc_nn])"
   ]
  },
  {
   "cell_type": "code",
   "execution_count": 21,
   "id": "877b6cc7",
   "metadata": {
    "execution": {
     "iopub.execute_input": "2021-12-27T10:10:29.646396Z",
     "iopub.status.busy": "2021-12-27T10:10:29.645362Z",
     "iopub.status.idle": "2021-12-27T10:10:29.657084Z",
     "shell.execute_reply": "2021-12-27T10:10:29.656622Z"
    },
    "papermill": {
     "duration": 0.043435,
     "end_time": "2021-12-27T10:10:29.657214",
     "exception": false,
     "start_time": "2021-12-27T10:10:29.613779",
     "status": "completed"
    },
    "tags": []
   },
   "outputs": [],
   "source": [
    "lr_learner = Learner(loss, model_lr, opt, config.num_epochs)\n",
    "acc_lr = ClfCallback(lr_learner, config.bs, training_data_x , testing_data_x, training_data_y, testing_data_y)\n",
    "lr_learner.set_callbacks([acc_lr])"
   ]
  },
  {
   "cell_type": "code",
   "execution_count": 22,
   "id": "d9b133c3",
   "metadata": {
    "execution": {
     "iopub.execute_input": "2021-12-27T10:10:29.718762Z",
     "iopub.status.busy": "2021-12-27T10:10:29.718188Z",
     "iopub.status.idle": "2021-12-27T10:11:53.002039Z",
     "shell.execute_reply": "2021-12-27T10:11:53.002881Z"
    },
    "papermill": {
     "duration": 83.31685,
     "end_time": "2021-12-27T10:11:53.003040",
     "exception": false,
     "start_time": "2021-12-27T10:10:29.686190",
     "status": "completed"
    },
    "tags": []
   },
   "outputs": [
    {
     "name": "stdout",
     "output_type": "stream",
     "text": [
      "Epoch 0, Loss 0.2526\n",
      "Training Accuracy: 0.5498, Testing Accuracy: 0.5680\n",
      "\n"
     ]
    },
    {
     "name": "stdout",
     "output_type": "stream",
     "text": [
      "Epoch 10, Loss 0.1055\n",
      "Training Accuracy: 0.9114, Testing Accuracy: 0.9214\n",
      "\n"
     ]
    },
    {
     "name": "stdout",
     "output_type": "stream",
     "text": [
      "Epoch 20, Loss 0.0597\n",
      "Training Accuracy: 0.9403, Testing Accuracy: 0.9476\n",
      "\n"
     ]
    },
    {
     "name": "stdout",
     "output_type": "stream",
     "text": [
      "Epoch 30, Loss 0.0452\n",
      "Training Accuracy: 0.9518, Testing Accuracy: 0.9577\n",
      "\n"
     ]
    },
    {
     "name": "stdout",
     "output_type": "stream",
     "text": [
      "Epoch 40, Loss 0.0385\n",
      "Training Accuracy: 0.9582, Testing Accuracy: 0.9632\n",
      "\n"
     ]
    },
    {
     "name": "stdout",
     "output_type": "stream",
     "text": [
      "Epoch 50, Loss 0.0346\n",
      "Training Accuracy: 0.9617, Testing Accuracy: 0.9662\n",
      "\n"
     ]
    },
    {
     "name": "stdout",
     "output_type": "stream",
     "text": [
      "Epoch 60, Loss 0.0319\n",
      "Training Accuracy: 0.9642, Testing Accuracy: 0.9662\n",
      "\n"
     ]
    },
    {
     "name": "stdout",
     "output_type": "stream",
     "text": [
      "Epoch 70, Loss 0.03\n",
      "Training Accuracy: 0.9660, Testing Accuracy: 0.9672\n",
      "\n"
     ]
    },
    {
     "name": "stdout",
     "output_type": "stream",
     "text": [
      "Epoch 80, Loss 0.0285\n",
      "Training Accuracy: 0.9673, Testing Accuracy: 0.9688\n",
      "\n"
     ]
    },
    {
     "name": "stdout",
     "output_type": "stream",
     "text": [
      "Epoch 90, Loss 0.0273\n",
      "Training Accuracy: 0.9692, Testing Accuracy: 0.9693\n",
      "\n"
     ]
    },
    {
     "name": "stdout",
     "output_type": "stream",
     "text": [
      "Epoch 100, Loss 0.0263\n",
      "Training Accuracy: 0.9705, Testing Accuracy: 0.9703\n",
      "\n"
     ]
    },
    {
     "name": "stdout",
     "output_type": "stream",
     "text": [
      "Epoch 110, Loss 0.0254\n",
      "Training Accuracy: 0.9715, Testing Accuracy: 0.9718\n",
      "\n"
     ]
    },
    {
     "name": "stdout",
     "output_type": "stream",
     "text": [
      "Epoch 120, Loss 0.0246\n",
      "Training Accuracy: 0.9725, Testing Accuracy: 0.9733\n",
      "\n"
     ]
    },
    {
     "name": "stdout",
     "output_type": "stream",
     "text": [
      "Epoch 130, Loss 0.0239\n",
      "Training Accuracy: 0.9728, Testing Accuracy: 0.9738\n",
      "\n"
     ]
    },
    {
     "name": "stdout",
     "output_type": "stream",
     "text": [
      "Epoch 140, Loss 0.0233\n",
      "Training Accuracy: 0.9735, Testing Accuracy: 0.9738\n",
      "\n"
     ]
    },
    {
     "name": "stdout",
     "output_type": "stream",
     "text": [
      "Epoch 150, Loss 0.0227\n",
      "Training Accuracy: 0.9742, Testing Accuracy: 0.9738\n",
      "\n"
     ]
    },
    {
     "name": "stdout",
     "output_type": "stream",
     "text": [
      "Epoch 160, Loss 0.0221\n",
      "Training Accuracy: 0.9745, Testing Accuracy: 0.9728\n",
      "\n"
     ]
    },
    {
     "name": "stdout",
     "output_type": "stream",
     "text": [
      "Epoch 170, Loss 0.0216\n",
      "Training Accuracy: 0.9754, Testing Accuracy: 0.9738\n",
      "\n"
     ]
    },
    {
     "name": "stdout",
     "output_type": "stream",
     "text": [
      "Epoch 180, Loss 0.0212\n",
      "Training Accuracy: 0.9762, Testing Accuracy: 0.9738\n",
      "\n"
     ]
    },
    {
     "name": "stdout",
     "output_type": "stream",
     "text": [
      "Epoch 190, Loss 0.0207\n",
      "Training Accuracy: 0.9768, Testing Accuracy: 0.9733\n",
      "\n"
     ]
    },
    {
     "name": "stdout",
     "output_type": "stream",
     "text": [
      "Epoch 200, Loss 0.0203\n",
      "Training Accuracy: 0.9770, Testing Accuracy: 0.9733\n",
      "\n"
     ]
    },
    {
     "name": "stdout",
     "output_type": "stream",
     "text": [
      "Epoch 210, Loss 0.0198\n",
      "Training Accuracy: 0.9777, Testing Accuracy: 0.9738\n",
      "\n"
     ]
    },
    {
     "name": "stdout",
     "output_type": "stream",
     "text": [
      "Epoch 220, Loss 0.0194\n",
      "Training Accuracy: 0.9782, Testing Accuracy: 0.9738\n",
      "\n"
     ]
    },
    {
     "name": "stdout",
     "output_type": "stream",
     "text": [
      "Epoch 230, Loss 0.0191\n",
      "Training Accuracy: 0.9789, Testing Accuracy: 0.9738\n",
      "\n"
     ]
    },
    {
     "name": "stdout",
     "output_type": "stream",
     "text": [
      "Epoch 240, Loss 0.0187\n",
      "Training Accuracy: 0.9796, Testing Accuracy: 0.9728\n",
      "\n"
     ]
    },
    {
     "data": {
      "text/plain": [
       "0.004016910026052183"
      ]
     },
     "execution_count": 22,
     "metadata": {},
     "output_type": "execute_result"
    }
   ],
   "source": [
    "nn_learner.train_loop(dl)"
   ]
  },
  {
   "cell_type": "code",
   "execution_count": 23,
   "id": "e0163366",
   "metadata": {
    "execution": {
     "iopub.execute_input": "2021-12-27T10:11:53.085461Z",
     "iopub.status.busy": "2021-12-27T10:11:53.084852Z",
     "iopub.status.idle": "2021-12-27T10:12:07.536770Z",
     "shell.execute_reply": "2021-12-27T10:12:07.537614Z"
    },
    "papermill": {
     "duration": 14.49768,
     "end_time": "2021-12-27T10:12:07.537780",
     "exception": false,
     "start_time": "2021-12-27T10:11:53.040100",
     "status": "completed"
    },
    "tags": []
   },
   "outputs": [
    {
     "name": "stdout",
     "output_type": "stream",
     "text": [
      "Epoch 0, Loss 0.241\n",
      "Training Accuracy: 0.6874, Testing Accuracy: 0.6815\n",
      "\n"
     ]
    },
    {
     "name": "stdout",
     "output_type": "stream",
     "text": [
      "Epoch 10, Loss 0.1013\n",
      "Training Accuracy: 0.9187, Testing Accuracy: 0.9284\n",
      "\n"
     ]
    },
    {
     "name": "stdout",
     "output_type": "stream",
     "text": [
      "Epoch 20, Loss 0.0773\n",
      "Training Accuracy: 0.9325, Testing Accuracy: 0.9435\n",
      "\n"
     ]
    },
    {
     "name": "stdout",
     "output_type": "stream",
     "text": [
      "Epoch 30, Loss 0.0665\n",
      "Training Accuracy: 0.9410, Testing Accuracy: 0.9521\n",
      "\n"
     ]
    },
    {
     "name": "stdout",
     "output_type": "stream",
     "text": [
      "Epoch 40, Loss 0.06\n",
      "Training Accuracy: 0.9463, Testing Accuracy: 0.9577\n",
      "\n"
     ]
    },
    {
     "name": "stdout",
     "output_type": "stream",
     "text": [
      "Epoch 50, Loss 0.0556\n",
      "Training Accuracy: 0.9490, Testing Accuracy: 0.9607\n",
      "\n"
     ]
    },
    {
     "name": "stdout",
     "output_type": "stream",
     "text": [
      "Epoch 60, Loss 0.0525\n",
      "Training Accuracy: 0.9499, Testing Accuracy: 0.9597\n",
      "\n"
     ]
    },
    {
     "name": "stdout",
     "output_type": "stream",
     "text": [
      "Epoch 70, Loss 0.05\n",
      "Training Accuracy: 0.9518, Testing Accuracy: 0.9612\n",
      "\n"
     ]
    },
    {
     "name": "stdout",
     "output_type": "stream",
     "text": [
      "Epoch 80, Loss 0.0481\n",
      "Training Accuracy: 0.9530, Testing Accuracy: 0.9612\n",
      "\n"
     ]
    },
    {
     "name": "stdout",
     "output_type": "stream",
     "text": [
      "Epoch 90, Loss 0.0464\n",
      "Training Accuracy: 0.9540, Testing Accuracy: 0.9632\n",
      "\n"
     ]
    },
    {
     "name": "stdout",
     "output_type": "stream",
     "text": [
      "Epoch 100, Loss 0.0451\n",
      "Training Accuracy: 0.9550, Testing Accuracy: 0.9652\n",
      "\n"
     ]
    },
    {
     "name": "stdout",
     "output_type": "stream",
     "text": [
      "Epoch 110, Loss 0.0439\n",
      "Training Accuracy: 0.9564, Testing Accuracy: 0.9652\n",
      "\n"
     ]
    },
    {
     "name": "stdout",
     "output_type": "stream",
     "text": [
      "Epoch 120, Loss 0.0429\n",
      "Training Accuracy: 0.9573, Testing Accuracy: 0.9657\n",
      "\n"
     ]
    },
    {
     "name": "stdout",
     "output_type": "stream",
     "text": [
      "Epoch 130, Loss 0.042\n",
      "Training Accuracy: 0.9578, Testing Accuracy: 0.9657\n",
      "\n"
     ]
    },
    {
     "name": "stdout",
     "output_type": "stream",
     "text": [
      "Epoch 140, Loss 0.0412\n",
      "Training Accuracy: 0.9583, Testing Accuracy: 0.9657\n",
      "\n"
     ]
    },
    {
     "name": "stdout",
     "output_type": "stream",
     "text": [
      "Epoch 150, Loss 0.0405\n",
      "Training Accuracy: 0.9590, Testing Accuracy: 0.9657\n",
      "\n"
     ]
    },
    {
     "name": "stdout",
     "output_type": "stream",
     "text": [
      "Epoch 160, Loss 0.0399\n",
      "Training Accuracy: 0.9589, Testing Accuracy: 0.9657\n",
      "\n"
     ]
    },
    {
     "name": "stdout",
     "output_type": "stream",
     "text": [
      "Epoch 170, Loss 0.0393\n",
      "Training Accuracy: 0.9593, Testing Accuracy: 0.9662\n",
      "\n"
     ]
    },
    {
     "name": "stdout",
     "output_type": "stream",
     "text": [
      "Epoch 180, Loss 0.0388\n",
      "Training Accuracy: 0.9597, Testing Accuracy: 0.9662\n",
      "\n"
     ]
    },
    {
     "name": "stdout",
     "output_type": "stream",
     "text": [
      "Epoch 190, Loss 0.0383\n",
      "Training Accuracy: 0.9599, Testing Accuracy: 0.9662\n",
      "\n"
     ]
    },
    {
     "name": "stdout",
     "output_type": "stream",
     "text": [
      "Epoch 200, Loss 0.0378\n",
      "Training Accuracy: 0.9602, Testing Accuracy: 0.9662\n",
      "\n"
     ]
    },
    {
     "name": "stdout",
     "output_type": "stream",
     "text": [
      "Epoch 210, Loss 0.0374\n",
      "Training Accuracy: 0.9605, Testing Accuracy: 0.9657\n",
      "\n"
     ]
    },
    {
     "name": "stdout",
     "output_type": "stream",
     "text": [
      "Epoch 220, Loss 0.037\n",
      "Training Accuracy: 0.9611, Testing Accuracy: 0.9662\n",
      "\n"
     ]
    },
    {
     "name": "stdout",
     "output_type": "stream",
     "text": [
      "Epoch 230, Loss 0.0366\n",
      "Training Accuracy: 0.9611, Testing Accuracy: 0.9657\n",
      "\n"
     ]
    },
    {
     "name": "stdout",
     "output_type": "stream",
     "text": [
      "Epoch 240, Loss 0.0363\n",
      "Training Accuracy: 0.9613, Testing Accuracy: 0.9657\n",
      "\n"
     ]
    },
    {
     "data": {
      "text/plain": [
       "0.051187858793871686"
      ]
     },
     "execution_count": 23,
     "metadata": {},
     "output_type": "execute_result"
    }
   ],
   "source": [
    "lr_learner.train_loop(dl)"
   ]
  },
  {
   "cell_type": "code",
   "execution_count": 24,
   "id": "ca410940",
   "metadata": {
    "execution": {
     "iopub.execute_input": "2021-12-27T10:12:07.633369Z",
     "iopub.status.busy": "2021-12-27T10:12:07.632803Z",
     "iopub.status.idle": "2021-12-27T10:12:07.872081Z",
     "shell.execute_reply": "2021-12-27T10:12:07.871178Z"
    },
    "papermill": {
     "duration": 0.290607,
     "end_time": "2021-12-27T10:12:07.872287",
     "exception": false,
     "start_time": "2021-12-27T10:12:07.581680",
     "status": "completed"
    },
    "tags": []
   },
   "outputs": [
    {
     "data": {
      "text/plain": [
       "<matplotlib.legend.Legend at 0x7f3127f74c50>"
      ]
     },
     "execution_count": 24,
     "metadata": {},
     "output_type": "execute_result"
    },
    {
     "data": {
      "image/png": "[encoded data removed]",
      "text/plain": [
       "<Figure size 1080x720 with 1 Axes>"
      ]
     },
     "metadata": {
      "needs_background": "light"
     },
     "output_type": "display_data"
    }
   ],
   "source": [
    "#comparing the results of NN and LR\n",
    "plt.figure(figsize=(15,10))\n",
    "\n",
    "# Neural Network plots\n",
    "plt.plot(acc_nn.accuracies, 'r-', label = \"Training Accuracies - NN\")\n",
    "plt.plot(acc_nn.test_accuracies, 'g-', label = \"Testing Accuracies - NN\")\n",
    "\n",
    "# Logistic Regression plots\n",
    "plt.plot(acc_lr.accuracies, 'k-', label = \"Training Accuracies - LR\")\n",
    "plt.plot(acc_lr.test_accuracies, 'b-', label = \"Testing Accuracies - LR\")\n",
    "plt.legend()"
   ]
  },
  {
   "cell_type": "markdown",
   "id": "80dfb35c",
   "metadata": {
    "papermill": {
     "duration": 0.042745,
     "end_time": "2021-12-27T10:12:07.959972",
     "exception": false,
     "start_time": "2021-12-27T10:12:07.917227",
     "status": "completed"
    },
    "tags": []
   },
   "source": [
    "#### Plotting the outputs of this layer of the NN.\n"
   ]
  },
  {
   "cell_type": "code",
   "execution_count": 25,
   "id": "45eb2ff5",
   "metadata": {
    "execution": {
     "iopub.execute_input": "2021-12-27T10:12:08.060867Z",
     "iopub.status.busy": "2021-12-27T10:12:08.056912Z",
     "iopub.status.idle": "2021-12-27T10:12:08.079304Z",
     "shell.execute_reply": "2021-12-27T10:12:08.079844Z"
    },
    "papermill": {
     "duration": 0.073435,
     "end_time": "2021-12-27T10:12:08.080020",
     "exception": false,
     "start_time": "2021-12-27T10:12:08.006585",
     "status": "completed"
    },
    "tags": []
   },
   "outputs": [],
   "source": [
    "new_model = Model(layers[:-2])\n",
    "testing_plot = new_model(testing_data_x)"
   ]
  },
  {
   "cell_type": "code",
   "execution_count": 26,
   "id": "4c0a5485",
   "metadata": {
    "execution": {
     "iopub.execute_input": "2021-12-27T10:12:08.190828Z",
     "iopub.status.busy": "2021-12-27T10:12:08.187966Z",
     "iopub.status.idle": "2021-12-27T10:12:08.454460Z",
     "shell.execute_reply": "2021-12-27T10:12:08.454942Z"
    },
    "papermill": {
     "duration": 0.326859,
     "end_time": "2021-12-27T10:12:08.455095",
     "exception": false,
     "start_time": "2021-12-27T10:12:08.128236",
     "status": "completed"
    },
    "tags": []
   },
   "outputs": [
    {
     "data": {
      "text/plain": [
       "Text(0.5, 1.0, 'Outputs')"
      ]
     },
     "execution_count": 26,
     "metadata": {},
     "output_type": "execute_result"
    },
    {
     "data": {
      "image/png": "[encoded data removed]",
      "text/plain": [
       "<Figure size 576x504 with 1 Axes>"
      ]
     },
     "metadata": {
      "needs_background": "light"
     },
     "output_type": "display_data"
    }
   ],
   "source": [
    "# Plotting the scatter plot of points and color coding by class\n",
    "plt.figure(figsize=(8,7))\n",
    "plt.scatter(testing_plot[:,0], testing_plot[:,1], alpha = 0.1, c = y_test.ravel());\n",
    "plt.title('Outputs')"
   ]
  },
  {
   "cell_type": "markdown",
   "id": "a74fcf8f",
   "metadata": {
    "papermill": {
     "duration": 0.050784,
     "end_time": "2021-12-27T10:12:08.557045",
     "exception": false,
     "start_time": "2021-12-27T10:12:08.506261",
     "status": "completed"
    },
    "tags": []
   },
   "source": [
    "Probability contours"
   ]
  },
  {
   "cell_type": "code",
   "execution_count": 27,
   "id": "d0afc8e3",
   "metadata": {
    "execution": {
     "iopub.execute_input": "2021-12-27T10:12:08.661321Z",
     "iopub.status.busy": "2021-12-27T10:12:08.660730Z",
     "iopub.status.idle": "2021-12-27T10:12:08.672757Z",
     "shell.execute_reply": "2021-12-27T10:12:08.673174Z"
    },
    "papermill": {
     "duration": 0.067443,
     "end_time": "2021-12-27T10:12:08.673315",
     "exception": false,
     "start_time": "2021-12-27T10:12:08.605872",
     "status": "completed"
    },
    "tags": []
   },
   "outputs": [],
   "source": [
    "model_prob = Model(layers[-2:]) "
   ]
  },
  {
   "cell_type": "code",
   "execution_count": 28,
   "id": "9b96e238",
   "metadata": {
    "execution": {
     "iopub.execute_input": "2021-12-27T10:12:08.774342Z",
     "iopub.status.busy": "2021-12-27T10:12:08.772996Z",
     "iopub.status.idle": "2021-12-27T10:12:08.788421Z",
     "shell.execute_reply": "2021-12-27T10:12:08.788868Z"
    },
    "papermill": {
     "duration": 0.068517,
     "end_time": "2021-12-27T10:12:08.789012",
     "exception": false,
     "start_time": "2021-12-27T10:12:08.720495",
     "status": "completed"
    },
    "tags": []
   },
   "outputs": [],
   "source": [
    "#creating the x and y ranges according to the above generated plot.\n",
    "x_range = np.linspace(-4, 1, 100) \n",
    "y_range = np.linspace(-6, 6, 100) \n",
    "x_grid, y_grid = np.meshgrid(x_range, y_range) # x_grid and y_grig are of size 100 X 100\n",
    "\n",
    "# converting x_grid and y_grid to continuous arrays\n",
    "x_gridflat = np.ravel(x_grid)\n",
    "y_gridflat = np.ravel(y_grid)\n",
    "\n",
    "# The last layer of the current model takes two columns as input. Hence transpose of np.vstack() is required.\n",
    "X = np.vstack((x_gridflat, y_gridflat)).T\n",
    "\n",
    "prob_contour = model_prob(X).reshape(100,100) "
   ]
  },
  {
   "cell_type": "code",
   "execution_count": 29,
   "id": "da72499a",
   "metadata": {
    "execution": {
     "iopub.execute_input": "2021-12-27T10:12:08.917918Z",
     "iopub.status.busy": "2021-12-27T10:12:08.917363Z",
     "iopub.status.idle": "2021-12-27T10:12:09.194724Z",
     "shell.execute_reply": "2021-12-27T10:12:09.195181Z"
    },
    "papermill": {
     "duration": 0.357699,
     "end_time": "2021-12-27T10:12:09.195327",
     "exception": false,
     "start_time": "2021-12-27T10:12:08.837628",
     "status": "completed"
    },
    "tags": []
   },
   "outputs": [
    {
     "data": {
      "image/png": "[encoded data removed]",
      "text/plain": [
       "<Figure size 720x648 with 1 Axes>"
      ]
     },
     "metadata": {
      "needs_background": "light"
     },
     "output_type": "display_data"
    }
   ],
   "source": [
    "plt.figure(figsize=(10,9))\n",
    "plt.scatter(testing_plot[:,0], testing_plot[:,1], alpha = 0.1, c = y_test.ravel())\n",
    "contours = plt.contour(x_grid,y_grid,prob_contour)\n",
    "plt.title('Probability Contours')\n",
    "plt.clabel(contours, inline = True );"
   ]
  },
  {
   "cell_type": "code",
   "execution_count": null,
   "id": "e81b4ac7",
   "metadata": {
    "papermill": {
     "duration": 0.050919,
     "end_time": "2021-12-27T10:12:09.297883",
     "exception": false,
     "start_time": "2021-12-27T10:12:09.246964",
     "status": "completed"
    },
    "tags": []
   },
   "outputs": [],
   "source": []
  }
 ],
 "metadata": {
  "kernelspec": {
   "display_name": "Python 3",
   "language": "python",
   "name": "python3"
  },
  "language_info": {
   "codemirror_mode": {
    "name": "ipython",
    "version": 3
   },
   "file_extension": ".py",
   "mimetype": "text/x-python",
   "name": "python",
   "nbconvert_exporter": "python",
   "pygments_lexer": "ipython3",
   "version": "3.6.15"
  },
  "papermill": {
   "default_parameters": {},
   "duration": 107.523362,
   "end_time": "2021-12-27T10:12:09.760517",
   "environment_variables": {},
   "exception": null,
   "input_path": "2020-08-11-part2.ipynb",
   "output_path": "2020-08-11-part2.ipynb",
   "parameters": {},
   "start_time": "2021-12-27T10:10:22.237155",
   "version": "2.3.3"
  }
 },
 "nbformat": 4,
 "nbformat_minor": 5
}