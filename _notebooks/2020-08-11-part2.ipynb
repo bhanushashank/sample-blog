{
 "cells": [
  {
   "cell_type": "markdown",
   "id": "98380cd3",
   "metadata": {
    "papermill": {
     "duration": 0.029904,
     "end_time": "2022-11-05T20:12:58.979782",
     "exception": false,
     "start_time": "2022-11-05T20:12:58.949878",
     "status": "completed"
    },
    "tags": []
   },
   "source": [
    "# Distinguish Your Own Digits (DYOD)"
   ]
  },
  {
   "cell_type": "markdown",
   "id": "ef31240d",
   "metadata": {
    "papermill": {
     "duration": 0.023544,
     "end_time": "2022-11-05T20:12:59.028084",
     "exception": false,
     "start_time": "2022-11-05T20:12:59.004540",
     "status": "completed"
    },
    "tags": []
   },
   "source": [
    "You are going to write a classifier that distinguishes between the number 3 and number 8."
   ]
  },
  {
   "cell_type": "code",
   "execution_count": 1,
   "id": "b15c8646",
   "metadata": {
    "execution": {
     "iopub.execute_input": "2022-11-05T20:12:59.086138Z",
     "iopub.status.busy": "2022-11-05T20:12:59.085523Z",
     "iopub.status.idle": "2022-11-05T20:12:59.096002Z",
     "shell.execute_reply": "2022-11-05T20:12:59.096487Z"
    },
    "papermill": {
     "duration": 0.045004,
     "end_time": "2022-11-05T20:12:59.096662",
     "exception": false,
     "start_time": "2022-11-05T20:12:59.051658",
     "status": "completed"
    },
    "tags": []
   },
   "outputs": [],
   "source": [
    "%load_ext autoreload\n",
    "%autoreload 2"
   ]
  },
  {
   "cell_type": "code",
   "execution_count": 2,
   "id": "22ef38dc",
   "metadata": {
    "execution": {
     "iopub.execute_input": "2022-11-05T20:12:59.152974Z",
     "iopub.status.busy": "2022-11-05T20:12:59.152332Z",
     "iopub.status.idle": "2022-11-05T20:12:59.697118Z",
     "shell.execute_reply": "2022-11-05T20:12:59.696064Z"
    },
    "papermill": {
     "duration": 0.576815,
     "end_time": "2022-11-05T20:12:59.697269",
     "exception": false,
     "start_time": "2022-11-05T20:12:59.120454",
     "status": "completed"
    },
    "tags": []
   },
   "outputs": [],
   "source": [
    "%matplotlib inline\n",
    "import numpy as np\n",
    "import matplotlib.pyplot as plt\n",
    "import pandas as pd"
   ]
  },
  {
   "cell_type": "markdown",
   "id": "ba036198",
   "metadata": {
    "papermill": {
     "duration": 0.023857,
     "end_time": "2022-11-05T20:12:59.745180",
     "exception": false,
     "start_time": "2022-11-05T20:12:59.721323",
     "status": "completed"
    },
    "tags": []
   },
   "source": [
    "From the command line run `pip install mnist`. This is a library that will help you bring down the mnist dataset. If you run this from a notebook, you need to put  `!pip install mnist` in a cell by itself."
   ]
  },
  {
   "cell_type": "code",
   "execution_count": 3,
   "id": "bb6ad8a1",
   "metadata": {
    "execution": {
     "iopub.execute_input": "2022-11-05T20:12:59.797420Z",
     "iopub.status.busy": "2022-11-05T20:12:59.796705Z",
     "iopub.status.idle": "2022-11-05T20:13:01.349617Z",
     "shell.execute_reply": "2022-11-05T20:13:01.349061Z"
    },
    "papermill": {
     "duration": 1.58068,
     "end_time": "2022-11-05T20:13:01.349744",
     "exception": false,
     "start_time": "2022-11-05T20:12:59.769064",
     "status": "completed"
    },
    "tags": []
   },
   "outputs": [
    {
     "name": "stdout",
     "output_type": "stream",
     "text": [
      "Collecting mnist\r\n"
     ]
    },
    {
     "name": "stdout",
     "output_type": "stream",
     "text": [
      "  Downloading mnist-0.2.2-py2.py3-none-any.whl (3.5 kB)\r\n",
      "Requirement already satisfied: numpy in /opt/hostedtoolcache/Python/3.6.15/x64/lib/python3.6/site-packages (from mnist) (1.19.5)\r\n"
     ]
    },
    {
     "name": "stdout",
     "output_type": "stream",
     "text": [
      "Installing collected packages: mnist\r\n",
      "Successfully installed mnist-0.2.2\r\n"
     ]
    }
   ],
   "source": [
    "!pip install mnist"
   ]
  },
  {
   "cell_type": "markdown",
   "id": "69df9c9a",
   "metadata": {
    "papermill": {
     "duration": 0.024934,
     "end_time": "2022-11-05T20:13:01.399731",
     "exception": false,
     "start_time": "2022-11-05T20:13:01.374797",
     "status": "completed"
    },
    "tags": []
   },
   "source": [
    "## Preparing the Data"
   ]
  },
  {
   "cell_type": "code",
   "execution_count": 4,
   "id": "7f69d806",
   "metadata": {
    "execution": {
     "iopub.execute_input": "2022-11-05T20:13:01.467666Z",
     "iopub.status.busy": "2022-11-05T20:13:01.460625Z",
     "iopub.status.idle": "2022-11-05T20:13:01.472077Z",
     "shell.execute_reply": "2022-11-05T20:13:01.471593Z"
    },
    "papermill": {
     "duration": 0.047956,
     "end_time": "2022-11-05T20:13:01.472189",
     "exception": false,
     "start_time": "2022-11-05T20:13:01.424233",
     "status": "completed"
    },
    "tags": []
   },
   "outputs": [],
   "source": [
    "import mnist"
   ]
  },
  {
   "cell_type": "code",
   "execution_count": 5,
   "id": "a411e44f",
   "metadata": {
    "execution": {
     "iopub.execute_input": "2022-11-05T20:13:01.533328Z",
     "iopub.status.busy": "2022-11-05T20:13:01.531767Z",
     "iopub.status.idle": "2022-11-05T20:13:02.135097Z",
     "shell.execute_reply": "2022-11-05T20:13:02.134555Z"
    },
    "papermill": {
     "duration": 0.63844,
     "end_time": "2022-11-05T20:13:02.135234",
     "exception": false,
     "start_time": "2022-11-05T20:13:01.496794",
     "status": "completed"
    },
    "tags": []
   },
   "outputs": [],
   "source": [
    "train_images = mnist.train_images()\n",
    "train_labels = mnist.train_labels()"
   ]
  },
  {
   "cell_type": "code",
   "execution_count": 6,
   "id": "dceab3a5",
   "metadata": {
    "execution": {
     "iopub.execute_input": "2022-11-05T20:13:02.194317Z",
     "iopub.status.busy": "2022-11-05T20:13:02.193600Z",
     "iopub.status.idle": "2022-11-05T20:13:02.208015Z",
     "shell.execute_reply": "2022-11-05T20:13:02.207137Z"
    },
    "papermill": {
     "duration": 0.047866,
     "end_time": "2022-11-05T20:13:02.208138",
     "exception": false,
     "start_time": "2022-11-05T20:13:02.160272",
     "status": "completed"
    },
    "tags": []
   },
   "outputs": [
    {
     "data": {
      "text/plain": [
       "((60000, 28, 28), (60000,))"
      ]
     },
     "execution_count": 6,
     "metadata": {},
     "output_type": "execute_result"
    }
   ],
   "source": [
    "train_images.shape, train_labels.shape"
   ]
  },
  {
   "cell_type": "code",
   "execution_count": 7,
   "id": "f50dc2bb",
   "metadata": {
    "execution": {
     "iopub.execute_input": "2022-11-05T20:13:02.265947Z",
     "iopub.status.busy": "2022-11-05T20:13:02.262863Z",
     "iopub.status.idle": "2022-11-05T20:13:02.428129Z",
     "shell.execute_reply": "2022-11-05T20:13:02.427529Z"
    },
    "papermill": {
     "duration": 0.195108,
     "end_time": "2022-11-05T20:13:02.428268",
     "exception": false,
     "start_time": "2022-11-05T20:13:02.233160",
     "status": "completed"
    },
    "tags": []
   },
   "outputs": [],
   "source": [
    "test_images = mnist.test_images()\n",
    "test_labels = mnist.test_labels()"
   ]
  },
  {
   "cell_type": "code",
   "execution_count": 8,
   "id": "fc38cf1b",
   "metadata": {
    "execution": {
     "iopub.execute_input": "2022-11-05T20:13:02.486697Z",
     "iopub.status.busy": "2022-11-05T20:13:02.486006Z",
     "iopub.status.idle": "2022-11-05T20:13:02.499917Z",
     "shell.execute_reply": "2022-11-05T20:13:02.500479Z"
    },
    "papermill": {
     "duration": 0.045627,
     "end_time": "2022-11-05T20:13:02.500643",
     "exception": false,
     "start_time": "2022-11-05T20:13:02.455016",
     "status": "completed"
    },
    "tags": []
   },
   "outputs": [
    {
     "data": {
      "text/plain": [
       "((10000, 28, 28), (10000,))"
      ]
     },
     "execution_count": 8,
     "metadata": {},
     "output_type": "execute_result"
    }
   ],
   "source": [
    "test_images.shape, test_labels.shape"
   ]
  },
  {
   "cell_type": "code",
   "execution_count": 9,
   "id": "f9ed8fe0",
   "metadata": {
    "execution": {
     "iopub.execute_input": "2022-11-05T20:13:02.555526Z",
     "iopub.status.busy": "2022-11-05T20:13:02.554928Z",
     "iopub.status.idle": "2022-11-05T20:13:02.695327Z",
     "shell.execute_reply": "2022-11-05T20:13:02.695784Z"
    },
    "papermill": {
     "duration": 0.170151,
     "end_time": "2022-11-05T20:13:02.695939",
     "exception": false,
     "start_time": "2022-11-05T20:13:02.525788",
     "status": "completed"
    },
    "tags": []
   },
   "outputs": [
    {
     "name": "stdout",
     "output_type": "stream",
     "text": [
      "2\n"
     ]
    },
    {
     "data": {
      "text/plain": [
       "<matplotlib.image.AxesImage at 0x7f3467bbee10>"
      ]
     },
     "execution_count": 9,
     "metadata": {},
     "output_type": "execute_result"
    },
    {
     "data": {
      "image/png": "[encoded data removed]",
      "text/plain": [
       "<Figure size 432x288 with 1 Axes>"
      ]
     },
     "metadata": {
      "needs_background": "light"
     },
     "output_type": "display_data"
    }
   ],
   "source": [
    "image_index = 7776 # You may select anything up to 60,000\n",
    "print(train_labels[image_index]) \n",
    "plt.imshow(train_images[image_index], cmap='Greys')"
   ]
  },
  {
   "cell_type": "markdown",
   "id": "a8d2388d",
   "metadata": {
    "papermill": {
     "duration": 0.02632,
     "end_time": "2022-11-05T20:13:02.748882",
     "exception": false,
     "start_time": "2022-11-05T20:13:02.722562",
     "status": "completed"
    },
    "tags": []
   },
   "source": [
    "## Filter data to get 3 and 8 out"
   ]
  },
  {
   "cell_type": "code",
   "execution_count": 10,
   "id": "776f7fc7",
   "metadata": {
    "execution": {
     "iopub.execute_input": "2022-11-05T20:13:02.806246Z",
     "iopub.status.busy": "2022-11-05T20:13:02.805625Z",
     "iopub.status.idle": "2022-11-05T20:13:02.824878Z",
     "shell.execute_reply": "2022-11-05T20:13:02.824376Z"
    },
    "papermill": {
     "duration": 0.049899,
     "end_time": "2022-11-05T20:13:02.825005",
     "exception": false,
     "start_time": "2022-11-05T20:13:02.775106",
     "status": "completed"
    },
    "tags": []
   },
   "outputs": [],
   "source": [
    "train_filter = np.where((train_labels == 3 ) | (train_labels == 8))\n",
    "test_filter = np.where((test_labels == 3) | (test_labels == 8))\n",
    "X_train, y_train = train_images[train_filter], train_labels[train_filter]\n",
    "X_test, y_test = test_images[test_filter], test_labels[test_filter]"
   ]
  },
  {
   "cell_type": "markdown",
   "id": "948f0b7e",
   "metadata": {
    "papermill": {
     "duration": 0.026289,
     "end_time": "2022-11-05T20:13:02.877879",
     "exception": false,
     "start_time": "2022-11-05T20:13:02.851590",
     "status": "completed"
    },
    "tags": []
   },
   "source": [
    "We normalize the pizel values in the 0 to 1 range"
   ]
  },
  {
   "cell_type": "code",
   "execution_count": 11,
   "id": "ee4c2166",
   "metadata": {
    "execution": {
     "iopub.execute_input": "2022-11-05T20:13:02.938365Z",
     "iopub.status.busy": "2022-11-05T20:13:02.937729Z",
     "iopub.status.idle": "2022-11-05T20:13:02.985214Z",
     "shell.execute_reply": "2022-11-05T20:13:02.984592Z"
    },
    "papermill": {
     "duration": 0.081183,
     "end_time": "2022-11-05T20:13:02.985353",
     "exception": false,
     "start_time": "2022-11-05T20:13:02.904170",
     "status": "completed"
    },
    "tags": []
   },
   "outputs": [],
   "source": [
    "X_train = X_train/255.\n",
    "X_test = X_test/255."
   ]
  },
  {
   "cell_type": "markdown",
   "id": "ddcf4fab",
   "metadata": {
    "papermill": {
     "duration": 0.026294,
     "end_time": "2022-11-05T20:13:03.038676",
     "exception": false,
     "start_time": "2022-11-05T20:13:03.012382",
     "status": "completed"
    },
    "tags": []
   },
   "source": [
    "And setup the labels as 1 (when the digit is 3) and 0 (when the digit is 8)"
   ]
  },
  {
   "cell_type": "code",
   "execution_count": 12,
   "id": "7dc908f2",
   "metadata": {
    "execution": {
     "iopub.execute_input": "2022-11-05T20:13:03.098916Z",
     "iopub.status.busy": "2022-11-05T20:13:03.098306Z",
     "iopub.status.idle": "2022-11-05T20:13:03.109343Z",
     "shell.execute_reply": "2022-11-05T20:13:03.109805Z"
    },
    "papermill": {
     "duration": 0.044943,
     "end_time": "2022-11-05T20:13:03.109947",
     "exception": false,
     "start_time": "2022-11-05T20:13:03.065004",
     "status": "completed"
    },
    "tags": []
   },
   "outputs": [],
   "source": [
    "y_train = 1*(y_train==3)\n",
    "y_test = 1*(y_test==3)"
   ]
  },
  {
   "cell_type": "code",
   "execution_count": 13,
   "id": "01e4e969",
   "metadata": {
    "execution": {
     "iopub.execute_input": "2022-11-05T20:13:03.172002Z",
     "iopub.status.busy": "2022-11-05T20:13:03.171377Z",
     "iopub.status.idle": "2022-11-05T20:13:03.182835Z",
     "shell.execute_reply": "2022-11-05T20:13:03.182349Z"
    },
    "papermill": {
     "duration": 0.046255,
     "end_time": "2022-11-05T20:13:03.182956",
     "exception": false,
     "start_time": "2022-11-05T20:13:03.136701",
     "status": "completed"
    },
    "tags": []
   },
   "outputs": [
    {
     "data": {
      "text/plain": [
       "((11982, 28, 28), (1984, 28, 28))"
      ]
     },
     "execution_count": 13,
     "metadata": {},
     "output_type": "execute_result"
    }
   ],
   "source": [
    "X_train.shape, X_test.shape"
   ]
  },
  {
   "cell_type": "markdown",
   "id": "5ccf3f85",
   "metadata": {
    "papermill": {
     "duration": 0.02686,
     "end_time": "2022-11-05T20:13:03.236641",
     "exception": false,
     "start_time": "2022-11-05T20:13:03.209781",
     "status": "completed"
    },
    "tags": []
   },
   "source": [
    "We reshape the data to flatten the image pixels into a set of features or co-variates:"
   ]
  },
  {
   "cell_type": "code",
   "execution_count": 14,
   "id": "5286a4a3",
   "metadata": {
    "execution": {
     "iopub.execute_input": "2022-11-05T20:13:03.302268Z",
     "iopub.status.busy": "2022-11-05T20:13:03.301641Z",
     "iopub.status.idle": "2022-11-05T20:13:03.311053Z",
     "shell.execute_reply": "2022-11-05T20:13:03.311507Z"
    },
    "papermill": {
     "duration": 0.048237,
     "end_time": "2022-11-05T20:13:03.311645",
     "exception": false,
     "start_time": "2022-11-05T20:13:03.263408",
     "status": "completed"
    },
    "tags": []
   },
   "outputs": [
    {
     "data": {
      "text/plain": [
       "((11982, 784), (1984, 784))"
      ]
     },
     "execution_count": 14,
     "metadata": {},
     "output_type": "execute_result"
    }
   ],
   "source": [
    "X_train = X_train.reshape(X_train.shape[0], -1)\n",
    "X_test = X_test.reshape(X_test.shape[0], -1)\n",
    "X_train.shape, X_test.shape"
   ]
  },
  {
   "cell_type": "code",
   "execution_count": 15,
   "id": "73c5f88a",
   "metadata": {
    "execution": {
     "iopub.execute_input": "2022-11-05T20:13:03.389659Z",
     "iopub.status.busy": "2022-11-05T20:13:03.381481Z",
     "iopub.status.idle": "2022-11-05T20:13:03.394637Z",
     "shell.execute_reply": "2022-11-05T20:13:03.394041Z"
    },
    "papermill": {
     "duration": 0.056079,
     "end_time": "2022-11-05T20:13:03.394756",
     "exception": false,
     "start_time": "2022-11-05T20:13:03.338677",
     "status": "completed"
    },
    "tags": []
   },
   "outputs": [],
   "source": [
    "#Impoting functions from 'Kudzu'\n",
    "from kudzu.model import Model\n",
    "from kudzu.train import Learner\n",
    "from kudzu.optim import GD\n",
    "from kudzu.data import Data, Sampler,Dataloader\n",
    "\n",
    "from kudzu.callbacks import AccCallback\n",
    "from kudzu.callbacks import ClfCallback\n",
    "\n",
    "from kudzu.loss import MSE\n",
    "\n",
    "from kudzu.layer import Sigmoid,Relu\n",
    "from kudzu.layer import Affine"
   ]
  },
  {
   "cell_type": "markdown",
   "id": "bc01172a",
   "metadata": {
    "papermill": {
     "duration": 0.026887,
     "end_time": "2022-11-05T20:13:03.448691",
     "exception": false,
     "start_time": "2022-11-05T20:13:03.421804",
     "status": "completed"
    },
    "tags": []
   },
   "source": [
    "### Let us create a `Config` class, to store important parameters. \n",
    "This class essentially plays the role of a dictionary."
   ]
  },
  {
   "cell_type": "code",
   "execution_count": 16,
   "id": "978281aa",
   "metadata": {
    "execution": {
     "iopub.execute_input": "2022-11-05T20:13:03.506886Z",
     "iopub.status.busy": "2022-11-05T20:13:03.506181Z",
     "iopub.status.idle": "2022-11-05T20:13:03.519444Z",
     "shell.execute_reply": "2022-11-05T20:13:03.518954Z"
    },
    "papermill": {
     "duration": 0.044231,
     "end_time": "2022-11-05T20:13:03.519564",
     "exception": false,
     "start_time": "2022-11-05T20:13:03.475333",
     "status": "completed"
    },
    "tags": []
   },
   "outputs": [],
   "source": [
    "class Config:\n",
    "    pass\n",
    "config = Config()\n",
    "config.lr = 0.001\n",
    "config.num_epochs = 250\n",
    "config.bs = 50"
   ]
  },
  {
   "cell_type": "markdown",
   "id": "1385fa59",
   "metadata": {
    "papermill": {
     "duration": 0.0271,
     "end_time": "2022-11-05T20:13:03.573672",
     "exception": false,
     "start_time": "2022-11-05T20:13:03.546572",
     "status": "completed"
    },
    "tags": []
   },
   "source": [
    "### Running Models with the Training data\n",
    "Details about the network layers:\n",
    "- A first affine layer has 784 inputs and does 100 affine transforms. These are followed by a Relu\n",
    "- A second affine layer has 100 inputs from the 100 activations of the past layer, and does 100 affine transforms. These are followed by a Relu\n",
    "- A third affine layer has 100 activations and does 2 affine transformations to create an embedding for visualization. There is no non-linearity here.\n",
    "- A final \"logistic regression\" which has an affine transform from 2 inputs to 1 output, which is squeezed through a sigmoid.\n"
   ]
  },
  {
   "cell_type": "code",
   "execution_count": 17,
   "id": "2b9c66db",
   "metadata": {
    "execution": {
     "iopub.execute_input": "2022-11-05T20:13:03.649255Z",
     "iopub.status.busy": "2022-11-05T20:13:03.645704Z",
     "iopub.status.idle": "2022-11-05T20:13:03.652104Z",
     "shell.execute_reply": "2022-11-05T20:13:03.651519Z"
    },
    "papermill": {
     "duration": 0.051739,
     "end_time": "2022-11-05T20:13:03.652218",
     "exception": false,
     "start_time": "2022-11-05T20:13:03.600479",
     "status": "completed"
    },
    "tags": []
   },
   "outputs": [],
   "source": [
    "data = Data(X_train, y_train.reshape(-1,1))\n",
    "sampler = Sampler(data, config.bs, shuffle=True)\n",
    "\n",
    "dl = Dataloader(data, sampler)\n",
    "\n",
    "opt = GD(config.lr)\n",
    "loss = MSE()"
   ]
  },
  {
   "cell_type": "code",
   "execution_count": 18,
   "id": "b275e4c2",
   "metadata": {
    "execution": {
     "iopub.execute_input": "2022-11-05T20:13:03.716326Z",
     "iopub.status.busy": "2022-11-05T20:13:03.715671Z",
     "iopub.status.idle": "2022-11-05T20:13:03.726006Z",
     "shell.execute_reply": "2022-11-05T20:13:03.725499Z"
    },
    "papermill": {
     "duration": 0.047005,
     "end_time": "2022-11-05T20:13:03.726133",
     "exception": false,
     "start_time": "2022-11-05T20:13:03.679128",
     "status": "completed"
    },
    "tags": []
   },
   "outputs": [],
   "source": [
    "training_data_x = X_train\n",
    "testing_data_x = X_test\n",
    "training_data_y = y_train.reshape(-1,1)\n",
    "testing_data_y = y_test.reshape(-1,1)"
   ]
  },
  {
   "cell_type": "code",
   "execution_count": 19,
   "id": "76951160",
   "metadata": {
    "execution": {
     "iopub.execute_input": "2022-11-05T20:13:03.785704Z",
     "iopub.status.busy": "2022-11-05T20:13:03.785096Z",
     "iopub.status.idle": "2022-11-05T20:13:03.801817Z",
     "shell.execute_reply": "2022-11-05T20:13:03.802295Z"
    },
    "papermill": {
     "duration": 0.049155,
     "end_time": "2022-11-05T20:13:03.802436",
     "exception": false,
     "start_time": "2022-11-05T20:13:03.753281",
     "status": "completed"
    },
    "tags": []
   },
   "outputs": [
    {
     "name": "stdout",
     "output_type": "stream",
     "text": [
      "xavier\n",
      "xavier\n",
      "xavier\n",
      "xavier\n",
      "xavier\n"
     ]
    }
   ],
   "source": [
    "layers = [Affine(\"first\", 784, 100), Relu(\"first\"), Affine(\"second\", 100, 100), Relu(\"second\"), Affine(\"third\", 100, 2), Affine(\"last\", 2, 1), Sigmoid(\"last\")]\n",
    "model_nn = Model(layers)\n",
    "model_lr = Model([Affine(\"logits\", 784, 1), Sigmoid(\"sigmoid\")])"
   ]
  },
  {
   "cell_type": "code",
   "execution_count": 20,
   "id": "6eede77a",
   "metadata": {
    "execution": {
     "iopub.execute_input": "2022-11-05T20:13:03.870560Z",
     "iopub.status.busy": "2022-11-05T20:13:03.869630Z",
     "iopub.status.idle": "2022-11-05T20:13:03.876395Z",
     "shell.execute_reply": "2022-11-05T20:13:03.876921Z"
    },
    "papermill": {
     "duration": 0.047431,
     "end_time": "2022-11-05T20:13:03.877054",
     "exception": false,
     "start_time": "2022-11-05T20:13:03.829623",
     "status": "completed"
    },
    "tags": []
   },
   "outputs": [],
   "source": [
    "nn_learner = Learner(loss, model_nn, opt, config.num_epochs)\n",
    "acc_nn = ClfCallback(nn_learner, config.bs, training_data_x , testing_data_x, training_data_y, testing_data_y)\n",
    "nn_learner.set_callbacks([acc_nn])"
   ]
  },
  {
   "cell_type": "code",
   "execution_count": 21,
   "id": "877b6cc7",
   "metadata": {
    "execution": {
     "iopub.execute_input": "2022-11-05T20:13:03.950090Z",
     "iopub.status.busy": "2022-11-05T20:13:03.934791Z",
     "iopub.status.idle": "2022-11-05T20:13:03.953268Z",
     "shell.execute_reply": "2022-11-05T20:13:03.953716Z"
    },
    "papermill": {
     "duration": 0.049979,
     "end_time": "2022-11-05T20:13:03.953849",
     "exception": false,
     "start_time": "2022-11-05T20:13:03.903870",
     "status": "completed"
    },
    "tags": []
   },
   "outputs": [],
   "source": [
    "lr_learner = Learner(loss, model_lr, opt, config.num_epochs)\n",
    "acc_lr = ClfCallback(lr_learner, config.bs, training_data_x , testing_data_x, training_data_y, testing_data_y)\n",
    "lr_learner.set_callbacks([acc_lr])"
   ]
  },
  {
   "cell_type": "code",
   "execution_count": 22,
   "id": "d9b133c3",
   "metadata": {
    "execution": {
     "iopub.execute_input": "2022-11-05T20:13:04.023078Z",
     "iopub.status.busy": "2022-11-05T20:13:04.022086Z",
     "iopub.status.idle": "2022-11-05T20:14:25.567848Z",
     "shell.execute_reply": "2022-11-05T20:14:25.568744Z"
    },
    "papermill": {
     "duration": 81.587909,
     "end_time": "2022-11-05T20:14:25.568903",
     "exception": false,
     "start_time": "2022-11-05T20:13:03.980994",
     "status": "completed"
    },
    "tags": []
   },
   "outputs": [
    {
     "name": "stdout",
     "output_type": "stream",
     "text": [
      "Epoch 0, Loss 0.2514\n",
      "Training Accuracy: 0.4878, Testing Accuracy: 0.4919\n",
      "\n"
     ]
    },
    {
     "name": "stdout",
     "output_type": "stream",
     "text": [
      "Epoch 10, Loss 0.2396\n",
      "Training Accuracy: 0.6874, Testing Accuracy: 0.7102\n",
      "\n"
     ]
    },
    {
     "name": "stdout",
     "output_type": "stream",
     "text": [
      "Epoch 20, Loss 0.1904\n",
      "Training Accuracy: 0.8741, Testing Accuracy: 0.8972\n",
      "\n"
     ]
    },
    {
     "name": "stdout",
     "output_type": "stream",
     "text": [
      "Epoch 30, Loss 0.096\n",
      "Training Accuracy: 0.9109, Testing Accuracy: 0.9254\n",
      "\n"
     ]
    },
    {
     "name": "stdout",
     "output_type": "stream",
     "text": [
      "Epoch 40, Loss 0.0625\n",
      "Training Accuracy: 0.9328, Testing Accuracy: 0.9461\n",
      "\n"
     ]
    },
    {
     "name": "stdout",
     "output_type": "stream",
     "text": [
      "Epoch 50, Loss 0.0492\n",
      "Training Accuracy: 0.9444, Testing Accuracy: 0.9577\n",
      "\n"
     ]
    },
    {
     "name": "stdout",
     "output_type": "stream",
     "text": [
      "Epoch 60, Loss 0.0422\n",
      "Training Accuracy: 0.9514, Testing Accuracy: 0.9632\n",
      "\n"
     ]
    },
    {
     "name": "stdout",
     "output_type": "stream",
     "text": [
      "Epoch 70, Loss 0.0379\n",
      "Training Accuracy: 0.9553, Testing Accuracy: 0.9662\n",
      "\n"
     ]
    },
    {
     "name": "stdout",
     "output_type": "stream",
     "text": [
      "Epoch 80, Loss 0.0349\n",
      "Training Accuracy: 0.9591, Testing Accuracy: 0.9688\n",
      "\n"
     ]
    },
    {
     "name": "stdout",
     "output_type": "stream",
     "text": [
      "Epoch 90, Loss 0.0328\n",
      "Training Accuracy: 0.9621, Testing Accuracy: 0.9698\n",
      "\n"
     ]
    },
    {
     "name": "stdout",
     "output_type": "stream",
     "text": [
      "Epoch 100, Loss 0.0311\n",
      "Training Accuracy: 0.9633, Testing Accuracy: 0.9693\n",
      "\n"
     ]
    },
    {
     "name": "stdout",
     "output_type": "stream",
     "text": [
      "Epoch 110, Loss 0.0297\n",
      "Training Accuracy: 0.9648, Testing Accuracy: 0.9713\n",
      "\n"
     ]
    },
    {
     "name": "stdout",
     "output_type": "stream",
     "text": [
      "Epoch 120, Loss 0.0285\n",
      "Training Accuracy: 0.9663, Testing Accuracy: 0.9718\n",
      "\n"
     ]
    },
    {
     "name": "stdout",
     "output_type": "stream",
     "text": [
      "Epoch 130, Loss 0.0275\n",
      "Training Accuracy: 0.9670, Testing Accuracy: 0.9723\n",
      "\n"
     ]
    },
    {
     "name": "stdout",
     "output_type": "stream",
     "text": [
      "Epoch 140, Loss 0.0266\n",
      "Training Accuracy: 0.9684, Testing Accuracy: 0.9733\n",
      "\n"
     ]
    },
    {
     "name": "stdout",
     "output_type": "stream",
     "text": [
      "Epoch 150, Loss 0.0258\n",
      "Training Accuracy: 0.9690, Testing Accuracy: 0.9748\n",
      "\n"
     ]
    },
    {
     "name": "stdout",
     "output_type": "stream",
     "text": [
      "Epoch 160, Loss 0.0251\n",
      "Training Accuracy: 0.9699, Testing Accuracy: 0.9748\n",
      "\n"
     ]
    },
    {
     "name": "stdout",
     "output_type": "stream",
     "text": [
      "Epoch 170, Loss 0.0245\n",
      "Training Accuracy: 0.9709, Testing Accuracy: 0.9748\n",
      "\n"
     ]
    },
    {
     "name": "stdout",
     "output_type": "stream",
     "text": [
      "Epoch 180, Loss 0.0239\n",
      "Training Accuracy: 0.9719, Testing Accuracy: 0.9748\n",
      "\n"
     ]
    },
    {
     "name": "stdout",
     "output_type": "stream",
     "text": [
      "Epoch 190, Loss 0.0233\n",
      "Training Accuracy: 0.9728, Testing Accuracy: 0.9748\n",
      "\n"
     ]
    },
    {
     "name": "stdout",
     "output_type": "stream",
     "text": [
      "Epoch 200, Loss 0.0228\n",
      "Training Accuracy: 0.9737, Testing Accuracy: 0.9733\n",
      "\n"
     ]
    },
    {
     "name": "stdout",
     "output_type": "stream",
     "text": [
      "Epoch 210, Loss 0.0223\n",
      "Training Accuracy: 0.9745, Testing Accuracy: 0.9733\n",
      "\n"
     ]
    },
    {
     "name": "stdout",
     "output_type": "stream",
     "text": [
      "Epoch 220, Loss 0.0218\n",
      "Training Accuracy: 0.9749, Testing Accuracy: 0.9738\n",
      "\n"
     ]
    },
    {
     "name": "stdout",
     "output_type": "stream",
     "text": [
      "Epoch 230, Loss 0.0213\n",
      "Training Accuracy: 0.9758, Testing Accuracy: 0.9743\n",
      "\n"
     ]
    },
    {
     "name": "stdout",
     "output_type": "stream",
     "text": [
      "Epoch 240, Loss 0.0209\n",
      "Training Accuracy: 0.9761, Testing Accuracy: 0.9748\n",
      "\n"
     ]
    },
    {
     "data": {
      "text/plain": [
       "0.040652321060107556"
      ]
     },
     "execution_count": 22,
     "metadata": {},
     "output_type": "execute_result"
    }
   ],
   "source": [
    "nn_learner.train_loop(dl)"
   ]
  },
  {
   "cell_type": "code",
   "execution_count": 23,
   "id": "e0163366",
   "metadata": {
    "execution": {
     "iopub.execute_input": "2022-11-05T20:14:25.656085Z",
     "iopub.status.busy": "2022-11-05T20:14:25.655457Z",
     "iopub.status.idle": "2022-11-05T20:14:40.312604Z",
     "shell.execute_reply": "2022-11-05T20:14:40.313446Z"
    },
    "papermill": {
     "duration": 14.705763,
     "end_time": "2022-11-05T20:14:40.313605",
     "exception": false,
     "start_time": "2022-11-05T20:14:25.607842",
     "status": "completed"
    },
    "tags": []
   },
   "outputs": [
    {
     "name": "stdout",
     "output_type": "stream",
     "text": [
      "Epoch 0, Loss 0.2116\n",
      "Training Accuracy: 0.7731, Testing Accuracy: 0.7666\n",
      "\n"
     ]
    },
    {
     "name": "stdout",
     "output_type": "stream",
     "text": [
      "Epoch 10, Loss 0.1001\n",
      "Training Accuracy: 0.9122, Testing Accuracy: 0.9224\n",
      "\n"
     ]
    },
    {
     "name": "stdout",
     "output_type": "stream",
     "text": [
      "Epoch 20, Loss 0.0776\n",
      "Training Accuracy: 0.9314, Testing Accuracy: 0.9385\n",
      "\n"
     ]
    },
    {
     "name": "stdout",
     "output_type": "stream",
     "text": [
      "Epoch 30, Loss 0.067\n",
      "Training Accuracy: 0.9387, Testing Accuracy: 0.9486\n",
      "\n"
     ]
    },
    {
     "name": "stdout",
     "output_type": "stream",
     "text": [
      "Epoch 40, Loss 0.0606\n",
      "Training Accuracy: 0.9431, Testing Accuracy: 0.9531\n",
      "\n"
     ]
    },
    {
     "name": "stdout",
     "output_type": "stream",
     "text": [
      "Epoch 50, Loss 0.0562\n",
      "Training Accuracy: 0.9461, Testing Accuracy: 0.9546\n",
      "\n"
     ]
    },
    {
     "name": "stdout",
     "output_type": "stream",
     "text": [
      "Epoch 60, Loss 0.053\n",
      "Training Accuracy: 0.9483, Testing Accuracy: 0.9567\n",
      "\n"
     ]
    },
    {
     "name": "stdout",
     "output_type": "stream",
     "text": [
      "Epoch 70, Loss 0.0506\n",
      "Training Accuracy: 0.9500, Testing Accuracy: 0.9572\n",
      "\n"
     ]
    },
    {
     "name": "stdout",
     "output_type": "stream",
     "text": [
      "Epoch 80, Loss 0.0486\n",
      "Training Accuracy: 0.9517, Testing Accuracy: 0.9587\n",
      "\n"
     ]
    },
    {
     "name": "stdout",
     "output_type": "stream",
     "text": [
      "Epoch 90, Loss 0.047\n",
      "Training Accuracy: 0.9528, Testing Accuracy: 0.9612\n",
      "\n"
     ]
    },
    {
     "name": "stdout",
     "output_type": "stream",
     "text": [
      "Epoch 100, Loss 0.0456\n",
      "Training Accuracy: 0.9539, Testing Accuracy: 0.9642\n",
      "\n"
     ]
    },
    {
     "name": "stdout",
     "output_type": "stream",
     "text": [
      "Epoch 110, Loss 0.0445\n",
      "Training Accuracy: 0.9546, Testing Accuracy: 0.9647\n",
      "\n"
     ]
    },
    {
     "name": "stdout",
     "output_type": "stream",
     "text": [
      "Epoch 120, Loss 0.0434\n",
      "Training Accuracy: 0.9553, Testing Accuracy: 0.9652\n",
      "\n"
     ]
    },
    {
     "name": "stdout",
     "output_type": "stream",
     "text": [
      "Epoch 130, Loss 0.0425\n",
      "Training Accuracy: 0.9559, Testing Accuracy: 0.9652\n",
      "\n"
     ]
    },
    {
     "name": "stdout",
     "output_type": "stream",
     "text": [
      "Epoch 140, Loss 0.0417\n",
      "Training Accuracy: 0.9569, Testing Accuracy: 0.9662\n",
      "\n"
     ]
    },
    {
     "name": "stdout",
     "output_type": "stream",
     "text": [
      "Epoch 150, Loss 0.041\n",
      "Training Accuracy: 0.9576, Testing Accuracy: 0.9662\n",
      "\n"
     ]
    },
    {
     "name": "stdout",
     "output_type": "stream",
     "text": [
      "Epoch 160, Loss 0.0404\n",
      "Training Accuracy: 0.9580, Testing Accuracy: 0.9662\n",
      "\n"
     ]
    },
    {
     "name": "stdout",
     "output_type": "stream",
     "text": [
      "Epoch 170, Loss 0.0398\n",
      "Training Accuracy: 0.9588, Testing Accuracy: 0.9657\n",
      "\n"
     ]
    },
    {
     "name": "stdout",
     "output_type": "stream",
     "text": [
      "Epoch 180, Loss 0.0392\n",
      "Training Accuracy: 0.9592, Testing Accuracy: 0.9662\n",
      "\n"
     ]
    },
    {
     "name": "stdout",
     "output_type": "stream",
     "text": [
      "Epoch 190, Loss 0.0387\n",
      "Training Accuracy: 0.9598, Testing Accuracy: 0.9667\n",
      "\n"
     ]
    },
    {
     "name": "stdout",
     "output_type": "stream",
     "text": [
      "Epoch 200, Loss 0.0383\n",
      "Training Accuracy: 0.9602, Testing Accuracy: 0.9667\n",
      "\n"
     ]
    },
    {
     "name": "stdout",
     "output_type": "stream",
     "text": [
      "Epoch 210, Loss 0.0379\n",
      "Training Accuracy: 0.9604, Testing Accuracy: 0.9672\n",
      "\n"
     ]
    },
    {
     "name": "stdout",
     "output_type": "stream",
     "text": [
      "Epoch 220, Loss 0.0374\n",
      "Training Accuracy: 0.9604, Testing Accuracy: 0.9667\n",
      "\n"
     ]
    },
    {
     "name": "stdout",
     "output_type": "stream",
     "text": [
      "Epoch 230, Loss 0.0371\n",
      "Training Accuracy: 0.9609, Testing Accuracy: 0.9667\n",
      "\n"
     ]
    },
    {
     "name": "stdout",
     "output_type": "stream",
     "text": [
      "Epoch 240, Loss 0.0367\n",
      "Training Accuracy: 0.9613, Testing Accuracy: 0.9667\n",
      "\n"
     ]
    },
    {
     "data": {
      "text/plain": [
       "0.032764685320637796"
      ]
     },
     "execution_count": 23,
     "metadata": {},
     "output_type": "execute_result"
    }
   ],
   "source": [
    "lr_learner.train_loop(dl)"
   ]
  },
  {
   "cell_type": "code",
   "execution_count": 24,
   "id": "ca410940",
   "metadata": {
    "execution": {
     "iopub.execute_input": "2022-11-05T20:14:40.409975Z",
     "iopub.status.busy": "2022-11-05T20:14:40.409384Z",
     "iopub.status.idle": "2022-11-05T20:14:40.627734Z",
     "shell.execute_reply": "2022-11-05T20:14:40.628224Z"
    },
    "papermill": {
     "duration": 0.272725,
     "end_time": "2022-11-05T20:14:40.628373",
     "exception": false,
     "start_time": "2022-11-05T20:14:40.355648",
     "status": "completed"
    },
    "tags": []
   },
   "outputs": [
    {
     "data": {
      "text/plain": [
       "<matplotlib.legend.Legend at 0x7f346772c5c0>"
      ]
     },
     "execution_count": 24,
     "metadata": {},
     "output_type": "execute_result"
    },
    {
     "data": {
      "image/png": "[encoded data removed]",
      "text/plain": [
       "<Figure size 1080x720 with 1 Axes>"
      ]
     },
     "metadata": {
      "needs_background": "light"
     },
     "output_type": "display_data"
    }
   ],
   "source": [
    "#comparing the results of NN and LR\n",
    "plt.figure(figsize=(15,10))\n",
    "\n",
    "# Neural Network plots\n",
    "plt.plot(acc_nn.accuracies, 'r-', label = \"Training Accuracies - NN\")\n",
    "plt.plot(acc_nn.test_accuracies, 'g-', label = \"Testing Accuracies - NN\")\n",
    "\n",
    "# Logistic Regression plots\n",
    "plt.plot(acc_lr.accuracies, 'k-', label = \"Training Accuracies - LR\")\n",
    "plt.plot(acc_lr.test_accuracies, 'b-', label = \"Testing Accuracies - LR\")\n",
    "plt.legend()"
   ]
  },
  {
   "cell_type": "markdown",
   "id": "80dfb35c",
   "metadata": {
    "papermill": {
     "duration": 0.041835,
     "end_time": "2022-11-05T20:14:40.712247",
     "exception": false,
     "start_time": "2022-11-05T20:14:40.670412",
     "status": "completed"
    },
    "tags": []
   },
   "source": [
    "#### Plotting the outputs of this layer of the NN.\n"
   ]
  },
  {
   "cell_type": "code",
   "execution_count": 25,
   "id": "45eb2ff5",
   "metadata": {
    "execution": {
     "iopub.execute_input": "2022-11-05T20:14:40.802107Z",
     "iopub.status.busy": "2022-11-05T20:14:40.800951Z",
     "iopub.status.idle": "2022-11-05T20:14:40.821899Z",
     "shell.execute_reply": "2022-11-05T20:14:40.821390Z"
    },
    "papermill": {
     "duration": 0.068011,
     "end_time": "2022-11-05T20:14:40.822021",
     "exception": false,
     "start_time": "2022-11-05T20:14:40.754010",
     "status": "completed"
    },
    "tags": []
   },
   "outputs": [],
   "source": [
    "new_model = Model(layers[:-2])\n",
    "testing_plot = new_model(testing_data_x)"
   ]
  },
  {
   "cell_type": "code",
   "execution_count": 26,
   "id": "4c0a5485",
   "metadata": {
    "execution": {
     "iopub.execute_input": "2022-11-05T20:14:40.911938Z",
     "iopub.status.busy": "2022-11-05T20:14:40.911310Z",
     "iopub.status.idle": "2022-11-05T20:14:41.114913Z",
     "shell.execute_reply": "2022-11-05T20:14:41.114395Z"
    },
    "papermill": {
     "duration": 0.249419,
     "end_time": "2022-11-05T20:14:41.115041",
     "exception": false,
     "start_time": "2022-11-05T20:14:40.865622",
     "status": "completed"
    },
    "tags": []
   },
   "outputs": [
    {
     "data": {
      "text/plain": [
       "Text(0.5, 1.0, 'Outputs')"
      ]
     },
     "execution_count": 26,
     "metadata": {},
     "output_type": "execute_result"
    },
    {
     "data": {
      "image/png": "[encoded data removed]",
      "text/plain": [
       "<Figure size 576x504 with 1 Axes>"
      ]
     },
     "metadata": {
      "needs_background": "light"
     },
     "output_type": "display_data"
    }
   ],
   "source": [
    "# Plotting the scatter plot of points and color coding by class\n",
    "plt.figure(figsize=(8,7))\n",
    "plt.scatter(testing_plot[:,0], testing_plot[:,1], alpha = 0.1, c = y_test.ravel());\n",
    "plt.title('Outputs')"
   ]
  },
  {
   "cell_type": "markdown",
   "id": "a74fcf8f",
   "metadata": {
    "papermill": {
     "duration": 0.044039,
     "end_time": "2022-11-05T20:14:41.203375",
     "exception": false,
     "start_time": "2022-11-05T20:14:41.159336",
     "status": "completed"
    },
    "tags": []
   },
   "source": [
    "Probability contours"
   ]
  },
  {
   "cell_type": "code",
   "execution_count": 27,
   "id": "d0afc8e3",
   "metadata": {
    "execution": {
     "iopub.execute_input": "2022-11-05T20:14:41.299283Z",
     "iopub.status.busy": "2022-11-05T20:14:41.298681Z",
     "iopub.status.idle": "2022-11-05T20:14:41.310718Z",
     "shell.execute_reply": "2022-11-05T20:14:41.310240Z"
    },
    "papermill": {
     "duration": 0.060333,
     "end_time": "2022-11-05T20:14:41.310830",
     "exception": false,
     "start_time": "2022-11-05T20:14:41.250497",
     "status": "completed"
    },
    "tags": []
   },
   "outputs": [],
   "source": [
    "model_prob = Model(layers[-2:]) "
   ]
  },
  {
   "cell_type": "code",
   "execution_count": 28,
   "id": "9b96e238",
   "metadata": {
    "execution": {
     "iopub.execute_input": "2022-11-05T20:14:41.419853Z",
     "iopub.status.busy": "2022-11-05T20:14:41.417744Z",
     "iopub.status.idle": "2022-11-05T20:14:41.427244Z",
     "shell.execute_reply": "2022-11-05T20:14:41.427798Z"
    },
    "papermill": {
     "duration": 0.072453,
     "end_time": "2022-11-05T20:14:41.427936",
     "exception": false,
     "start_time": "2022-11-05T20:14:41.355483",
     "status": "completed"
    },
    "tags": []
   },
   "outputs": [],
   "source": [
    "#creating the x and y ranges according to the above generated plot.\n",
    "x_range = np.linspace(-4, 1, 100) \n",
    "y_range = np.linspace(-6, 6, 100) \n",
    "x_grid, y_grid = np.meshgrid(x_range, y_range) # x_grid and y_grig are of size 100 X 100\n",
    "\n",
    "# converting x_grid and y_grid to continuous arrays\n",
    "x_gridflat = np.ravel(x_grid)\n",
    "y_gridflat = np.ravel(y_grid)\n",
    "\n",
    "# The last layer of the current model takes two columns as input. Hence transpose of np.vstack() is required.\n",
    "X = np.vstack((x_gridflat, y_gridflat)).T\n",
    "\n",
    "prob_contour = model_prob(X).reshape(100,100) "
   ]
  },
  {
   "cell_type": "code",
   "execution_count": 29,
   "id": "da72499a",
   "metadata": {
    "execution": {
     "iopub.execute_input": "2022-11-05T20:14:41.557052Z",
     "iopub.status.busy": "2022-11-05T20:14:41.555072Z",
     "iopub.status.idle": "2022-11-05T20:14:41.802990Z",
     "shell.execute_reply": "2022-11-05T20:14:41.803545Z"
    },
    "papermill": {
     "duration": 0.301378,
     "end_time": "2022-11-05T20:14:41.803696",
     "exception": false,
     "start_time": "2022-11-05T20:14:41.502318",
     "status": "completed"
    },
    "tags": []
   },
   "outputs": [
    {
     "data": {
      "image/png": "[encoded data removed]",
      "text/plain": [
       "<Figure size 720x648 with 1 Axes>"
      ]
     },
     "metadata": {
      "needs_background": "light"
     },
     "output_type": "display_data"
    }
   ],
   "source": [
    "plt.figure(figsize=(10,9))\n",
    "plt.scatter(testing_plot[:,0], testing_plot[:,1], alpha = 0.1, c = y_test.ravel())\n",
    "contours = plt.contour(x_grid,y_grid,prob_contour)\n",
    "plt.title('Probability Contours')\n",
    "plt.clabel(contours, inline = True );"
   ]
  },
  {
   "cell_type": "code",
   "execution_count": null,
   "id": "e81b4ac7",
   "metadata": {
    "papermill": {
     "duration": 0.046951,
     "end_time": "2022-11-05T20:14:41.897837",
     "exception": false,
     "start_time": "2022-11-05T20:14:41.850886",
     "status": "completed"
    },
    "tags": []
   },
   "outputs": [],
   "source": []
  }
 ],
 "metadata": {
  "kernelspec": {
   "display_name": "Python 3",
   "language": "python",
   "name": "python3"
  },
  "language_info": {
   "codemirror_mode": {
    "name": "ipython",
    "version": 3
   },
   "file_extension": ".py",
   "mimetype": "text/x-python",
   "name": "python",
   "nbconvert_exporter": "python",
   "pygments_lexer": "ipython3",
   "version": "3.6.15"
  },
  "papermill": {
   "default_parameters": {},
   "duration": 104.361798,
   "end_time": "2022-11-05T20:14:42.364152",
   "environment_variables": {},
   "exception": null,
   "input_path": "2020-08-11-part2.ipynb",
   "output_path": "2020-08-11-part2.ipynb",
   "parameters": {},
   "start_time": "2022-11-05T20:12:58.002354",
   "version": "2.3.3"
  }
 },
 "nbformat": 4,
 "nbformat_minor": 5
}