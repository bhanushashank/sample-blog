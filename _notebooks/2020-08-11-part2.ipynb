{
 "cells": [
  {
   "cell_type": "markdown",
   "id": "98380cd3",
   "metadata": {
    "papermill": {
     "duration": 0.030993,
     "end_time": "2021-09-09T20:07:10.925276",
     "exception": false,
     "start_time": "2021-09-09T20:07:10.894283",
     "status": "completed"
    },
    "tags": []
   },
   "source": [
    "# Distinguish Your Own Digits (DYOD)"
   ]
  },
  {
   "cell_type": "markdown",
   "id": "ef31240d",
   "metadata": {
    "papermill": {
     "duration": 0.027085,
     "end_time": "2021-09-09T20:07:10.979615",
     "exception": false,
     "start_time": "2021-09-09T20:07:10.952530",
     "status": "completed"
    },
    "tags": []
   },
   "source": [
    "You are going to write a classifier that distinguishes between the number 3 and number 8."
   ]
  },
  {
   "cell_type": "code",
   "execution_count": 1,
   "id": "b15c8646",
   "metadata": {
    "execution": {
     "iopub.execute_input": "2021-09-09T20:07:11.043374Z",
     "iopub.status.busy": "2021-09-09T20:07:11.042760Z",
     "iopub.status.idle": "2021-09-09T20:07:11.057337Z",
     "shell.execute_reply": "2021-09-09T20:07:11.056833Z"
    },
    "papermill": {
     "duration": 0.050284,
     "end_time": "2021-09-09T20:07:11.057465",
     "exception": false,
     "start_time": "2021-09-09T20:07:11.007181",
     "status": "completed"
    },
    "tags": []
   },
   "outputs": [],
   "source": [
    "%load_ext autoreload\n",
    "%autoreload 2"
   ]
  },
  {
   "cell_type": "code",
   "execution_count": 2,
   "id": "22ef38dc",
   "metadata": {
    "execution": {
     "iopub.execute_input": "2021-09-09T20:07:11.134201Z",
     "iopub.status.busy": "2021-09-09T20:07:11.133569Z",
     "iopub.status.idle": "2021-09-09T20:07:11.673161Z",
     "shell.execute_reply": "2021-09-09T20:07:11.672624Z"
    },
    "papermill": {
     "duration": 0.588174,
     "end_time": "2021-09-09T20:07:11.673331",
     "exception": false,
     "start_time": "2021-09-09T20:07:11.085157",
     "status": "completed"
    },
    "tags": []
   },
   "outputs": [],
   "source": [
    "%matplotlib inline\n",
    "import numpy as np\n",
    "import matplotlib.pyplot as plt\n",
    "import pandas as pd"
   ]
  },
  {
   "cell_type": "markdown",
   "id": "ba036198",
   "metadata": {
    "papermill": {
     "duration": 0.030413,
     "end_time": "2021-09-09T20:07:11.733756",
     "exception": false,
     "start_time": "2021-09-09T20:07:11.703343",
     "status": "completed"
    },
    "tags": []
   },
   "source": [
    "From the command line run `pip install mnist`. This is a library that will help you bring down the mnist dataset. If you run this from a notebook, you need to put  `!pip install mnist` in a cell by itself."
   ]
  },
  {
   "cell_type": "code",
   "execution_count": 3,
   "id": "bb6ad8a1",
   "metadata": {
    "execution": {
     "iopub.execute_input": "2021-09-09T20:07:11.796905Z",
     "iopub.status.busy": "2021-09-09T20:07:11.796195Z",
     "iopub.status.idle": "2021-09-09T20:07:13.666546Z",
     "shell.execute_reply": "2021-09-09T20:07:13.666016Z"
    },
    "papermill": {
     "duration": 1.904794,
     "end_time": "2021-09-09T20:07:13.666678",
     "exception": false,
     "start_time": "2021-09-09T20:07:11.761884",
     "status": "completed"
    },
    "tags": []
   },
   "outputs": [
    {
     "name": "stdout",
     "output_type": "stream",
     "text": [
      "Collecting mnist\r\n"
     ]
    },
    {
     "name": "stdout",
     "output_type": "stream",
     "text": [
      "  Downloading mnist-0.2.2-py2.py3-none-any.whl (3.5 kB)\r\n",
      "Requirement already satisfied: numpy in /opt/hostedtoolcache/Python/3.6.14/x64/lib/python3.6/site-packages (from mnist) (1.19.5)\r\n"
     ]
    },
    {
     "name": "stdout",
     "output_type": "stream",
     "text": [
      "Installing collected packages: mnist\r\n"
     ]
    },
    {
     "name": "stdout",
     "output_type": "stream",
     "text": [
      "Successfully installed mnist-0.2.2\r\n"
     ]
    }
   ],
   "source": [
    "!pip install mnist"
   ]
  },
  {
   "cell_type": "markdown",
   "id": "69df9c9a",
   "metadata": {
    "papermill": {
     "duration": 0.028527,
     "end_time": "2021-09-09T20:07:13.724367",
     "exception": false,
     "start_time": "2021-09-09T20:07:13.695840",
     "status": "completed"
    },
    "tags": []
   },
   "source": [
    "## Preparing the Data"
   ]
  },
  {
   "cell_type": "code",
   "execution_count": 4,
   "id": "7f69d806",
   "metadata": {
    "execution": {
     "iopub.execute_input": "2021-09-09T20:07:13.789610Z",
     "iopub.status.busy": "2021-09-09T20:07:13.788924Z",
     "iopub.status.idle": "2021-09-09T20:07:13.802849Z",
     "shell.execute_reply": "2021-09-09T20:07:13.802301Z"
    },
    "papermill": {
     "duration": 0.049175,
     "end_time": "2021-09-09T20:07:13.802974",
     "exception": false,
     "start_time": "2021-09-09T20:07:13.753799",
     "status": "completed"
    },
    "tags": []
   },
   "outputs": [],
   "source": [
    "import mnist"
   ]
  },
  {
   "cell_type": "code",
   "execution_count": 5,
   "id": "a411e44f",
   "metadata": {
    "execution": {
     "iopub.execute_input": "2021-09-09T20:07:13.873127Z",
     "iopub.status.busy": "2021-09-09T20:07:13.872476Z",
     "iopub.status.idle": "2021-09-09T20:07:14.621669Z",
     "shell.execute_reply": "2021-09-09T20:07:14.621122Z"
    },
    "papermill": {
     "duration": 0.787562,
     "end_time": "2021-09-09T20:07:14.621810",
     "exception": false,
     "start_time": "2021-09-09T20:07:13.834248",
     "status": "completed"
    },
    "tags": []
   },
   "outputs": [],
   "source": [
    "train_images = mnist.train_images()\n",
    "train_labels = mnist.train_labels()"
   ]
  },
  {
   "cell_type": "code",
   "execution_count": 6,
   "id": "dceab3a5",
   "metadata": {
    "execution": {
     "iopub.execute_input": "2021-09-09T20:07:14.689322Z",
     "iopub.status.busy": "2021-09-09T20:07:14.688663Z",
     "iopub.status.idle": "2021-09-09T20:07:14.704037Z",
     "shell.execute_reply": "2021-09-09T20:07:14.703511Z"
    },
    "papermill": {
     "duration": 0.052531,
     "end_time": "2021-09-09T20:07:14.704183",
     "exception": false,
     "start_time": "2021-09-09T20:07:14.651652",
     "status": "completed"
    },
    "tags": []
   },
   "outputs": [
    {
     "data": {
      "text/plain": [
       "((60000, 28, 28), (60000,))"
      ]
     },
     "execution_count": 6,
     "metadata": {},
     "output_type": "execute_result"
    }
   ],
   "source": [
    "train_images.shape, train_labels.shape"
   ]
  },
  {
   "cell_type": "code",
   "execution_count": 7,
   "id": "f50dc2bb",
   "metadata": {
    "execution": {
     "iopub.execute_input": "2021-09-09T20:07:14.768345Z",
     "iopub.status.busy": "2021-09-09T20:07:14.767228Z",
     "iopub.status.idle": "2021-09-09T20:07:15.150583Z",
     "shell.execute_reply": "2021-09-09T20:07:15.149345Z"
    },
    "papermill": {
     "duration": 0.414329,
     "end_time": "2021-09-09T20:07:15.150728",
     "exception": false,
     "start_time": "2021-09-09T20:07:14.736399",
     "status": "completed"
    },
    "tags": []
   },
   "outputs": [],
   "source": [
    "test_images = mnist.test_images()\n",
    "test_labels = mnist.test_labels()"
   ]
  },
  {
   "cell_type": "code",
   "execution_count": 8,
   "id": "fc38cf1b",
   "metadata": {
    "execution": {
     "iopub.execute_input": "2021-09-09T20:07:15.213105Z",
     "iopub.status.busy": "2021-09-09T20:07:15.210685Z",
     "iopub.status.idle": "2021-09-09T20:07:15.224560Z",
     "shell.execute_reply": "2021-09-09T20:07:15.224018Z"
    },
    "papermill": {
     "duration": 0.045043,
     "end_time": "2021-09-09T20:07:15.224675",
     "exception": false,
     "start_time": "2021-09-09T20:07:15.179632",
     "status": "completed"
    },
    "tags": []
   },
   "outputs": [
    {
     "data": {
      "text/plain": [
       "((10000, 28, 28), (10000,))"
      ]
     },
     "execution_count": 8,
     "metadata": {},
     "output_type": "execute_result"
    }
   ],
   "source": [
    "test_images.shape, test_labels.shape"
   ]
  },
  {
   "cell_type": "code",
   "execution_count": 9,
   "id": "f9ed8fe0",
   "metadata": {
    "execution": {
     "iopub.execute_input": "2021-09-09T20:07:15.287967Z",
     "iopub.status.busy": "2021-09-09T20:07:15.287373Z",
     "iopub.status.idle": "2021-09-09T20:07:15.448235Z",
     "shell.execute_reply": "2021-09-09T20:07:15.448744Z"
    },
    "papermill": {
     "duration": 0.194315,
     "end_time": "2021-09-09T20:07:15.448904",
     "exception": false,
     "start_time": "2021-09-09T20:07:15.254589",
     "status": "completed"
    },
    "tags": []
   },
   "outputs": [
    {
     "name": "stdout",
     "output_type": "stream",
     "text": [
      "2\n"
     ]
    },
    {
     "data": {
      "text/plain": [
       "<matplotlib.image.AxesImage at 0x7f86c5c30da0>"
      ]
     },
     "execution_count": 9,
     "metadata": {},
     "output_type": "execute_result"
    },
    {
     "data": {
      "image/png": "[encoded data removed]",
      "text/plain": [
       "<Figure size 432x288 with 1 Axes>"
      ]
     },
     "metadata": {
      "needs_background": "light"
     },
     "output_type": "display_data"
    }
   ],
   "source": [
    "image_index = 7776 # You may select anything up to 60,000\n",
    "print(train_labels[image_index]) \n",
    "plt.imshow(train_images[image_index], cmap='Greys')"
   ]
  },
  {
   "cell_type": "markdown",
   "id": "a8d2388d",
   "metadata": {
    "papermill": {
     "duration": 0.032775,
     "end_time": "2021-09-09T20:07:15.514239",
     "exception": false,
     "start_time": "2021-09-09T20:07:15.481464",
     "status": "completed"
    },
    "tags": []
   },
   "source": [
    "## Filter data to get 3 and 8 out"
   ]
  },
  {
   "cell_type": "code",
   "execution_count": 10,
   "id": "776f7fc7",
   "metadata": {
    "execution": {
     "iopub.execute_input": "2021-09-09T20:07:15.585409Z",
     "iopub.status.busy": "2021-09-09T20:07:15.584720Z",
     "iopub.status.idle": "2021-09-09T20:07:15.599375Z",
     "shell.execute_reply": "2021-09-09T20:07:15.598873Z"
    },
    "papermill": {
     "duration": 0.053971,
     "end_time": "2021-09-09T20:07:15.599507",
     "exception": false,
     "start_time": "2021-09-09T20:07:15.545536",
     "status": "completed"
    },
    "tags": []
   },
   "outputs": [],
   "source": [
    "train_filter = np.where((train_labels == 3 ) | (train_labels == 8))\n",
    "test_filter = np.where((test_labels == 3) | (test_labels == 8))\n",
    "X_train, y_train = train_images[train_filter], train_labels[train_filter]\n",
    "X_test, y_test = test_images[test_filter], test_labels[test_filter]"
   ]
  },
  {
   "cell_type": "markdown",
   "id": "948f0b7e",
   "metadata": {
    "papermill": {
     "duration": 0.034436,
     "end_time": "2021-09-09T20:07:15.666199",
     "exception": false,
     "start_time": "2021-09-09T20:07:15.631763",
     "status": "completed"
    },
    "tags": []
   },
   "source": [
    "We normalize the pizel values in the 0 to 1 range"
   ]
  },
  {
   "cell_type": "code",
   "execution_count": 11,
   "id": "ee4c2166",
   "metadata": {
    "execution": {
     "iopub.execute_input": "2021-09-09T20:07:15.735838Z",
     "iopub.status.busy": "2021-09-09T20:07:15.735227Z",
     "iopub.status.idle": "2021-09-09T20:07:15.803257Z",
     "shell.execute_reply": "2021-09-09T20:07:15.802741Z"
    },
    "papermill": {
     "duration": 0.10474,
     "end_time": "2021-09-09T20:07:15.803392",
     "exception": false,
     "start_time": "2021-09-09T20:07:15.698652",
     "status": "completed"
    },
    "tags": []
   },
   "outputs": [],
   "source": [
    "X_train = X_train/255.\n",
    "X_test = X_test/255."
   ]
  },
  {
   "cell_type": "markdown",
   "id": "ddcf4fab",
   "metadata": {
    "papermill": {
     "duration": 0.034336,
     "end_time": "2021-09-09T20:07:15.871541",
     "exception": false,
     "start_time": "2021-09-09T20:07:15.837205",
     "status": "completed"
    },
    "tags": []
   },
   "source": [
    "And setup the labels as 1 (when the digit is 3) and 0 (when the digit is 8)"
   ]
  },
  {
   "cell_type": "code",
   "execution_count": 12,
   "id": "7dc908f2",
   "metadata": {
    "execution": {
     "iopub.execute_input": "2021-09-09T20:07:15.942380Z",
     "iopub.status.busy": "2021-09-09T20:07:15.941751Z",
     "iopub.status.idle": "2021-09-09T20:07:15.953941Z",
     "shell.execute_reply": "2021-09-09T20:07:15.953416Z"
    },
    "papermill": {
     "duration": 0.050571,
     "end_time": "2021-09-09T20:07:15.954064",
     "exception": false,
     "start_time": "2021-09-09T20:07:15.903493",
     "status": "completed"
    },
    "tags": []
   },
   "outputs": [],
   "source": [
    "y_train = 1*(y_train==3)\n",
    "y_test = 1*(y_test==3)"
   ]
  },
  {
   "cell_type": "code",
   "execution_count": 13,
   "id": "01e4e969",
   "metadata": {
    "execution": {
     "iopub.execute_input": "2021-09-09T20:07:16.023476Z",
     "iopub.status.busy": "2021-09-09T20:07:16.022873Z",
     "iopub.status.idle": "2021-09-09T20:07:16.035170Z",
     "shell.execute_reply": "2021-09-09T20:07:16.035903Z"
    },
    "papermill": {
     "duration": 0.048607,
     "end_time": "2021-09-09T20:07:16.036044",
     "exception": false,
     "start_time": "2021-09-09T20:07:15.987437",
     "status": "completed"
    },
    "tags": []
   },
   "outputs": [
    {
     "data": {
      "text/plain": [
       "((11982, 28, 28), (1984, 28, 28))"
      ]
     },
     "execution_count": 13,
     "metadata": {},
     "output_type": "execute_result"
    }
   ],
   "source": [
    "X_train.shape, X_test.shape"
   ]
  },
  {
   "cell_type": "markdown",
   "id": "5ccf3f85",
   "metadata": {
    "papermill": {
     "duration": 0.030327,
     "end_time": "2021-09-09T20:07:16.096923",
     "exception": false,
     "start_time": "2021-09-09T20:07:16.066596",
     "status": "completed"
    },
    "tags": []
   },
   "source": [
    "We reshape the data to flatten the image pixels into a set of features or co-variates:"
   ]
  },
  {
   "cell_type": "code",
   "execution_count": 14,
   "id": "5286a4a3",
   "metadata": {
    "execution": {
     "iopub.execute_input": "2021-09-09T20:07:16.161528Z",
     "iopub.status.busy": "2021-09-09T20:07:16.160917Z",
     "iopub.status.idle": "2021-09-09T20:07:16.174340Z",
     "shell.execute_reply": "2021-09-09T20:07:16.174907Z"
    },
    "papermill": {
     "duration": 0.047913,
     "end_time": "2021-09-09T20:07:16.175034",
     "exception": false,
     "start_time": "2021-09-09T20:07:16.127121",
     "status": "completed"
    },
    "tags": []
   },
   "outputs": [
    {
     "data": {
      "text/plain": [
       "((11982, 784), (1984, 784))"
      ]
     },
     "execution_count": 14,
     "metadata": {},
     "output_type": "execute_result"
    }
   ],
   "source": [
    "X_train = X_train.reshape(X_train.shape[0], -1)\n",
    "X_test = X_test.reshape(X_test.shape[0], -1)\n",
    "X_train.shape, X_test.shape"
   ]
  },
  {
   "cell_type": "code",
   "execution_count": 15,
   "id": "73c5f88a",
   "metadata": {
    "execution": {
     "iopub.execute_input": "2021-09-09T20:07:16.240009Z",
     "iopub.status.busy": "2021-09-09T20:07:16.239395Z",
     "iopub.status.idle": "2021-09-09T20:07:16.257132Z",
     "shell.execute_reply": "2021-09-09T20:07:16.257671Z"
    },
    "papermill": {
     "duration": 0.052558,
     "end_time": "2021-09-09T20:07:16.257792",
     "exception": false,
     "start_time": "2021-09-09T20:07:16.205234",
     "status": "completed"
    },
    "tags": []
   },
   "outputs": [],
   "source": [
    "#Impoting functions from 'Kudzu'\n",
    "from kudzu.model import Model\n",
    "from kudzu.train import Learner\n",
    "from kudzu.optim import GD\n",
    "from kudzu.data import Data, Sampler,Dataloader\n",
    "\n",
    "from kudzu.callbacks import AccCallback\n",
    "from kudzu.callbacks import ClfCallback\n",
    "\n",
    "from kudzu.loss import MSE\n",
    "\n",
    "from kudzu.layer import Sigmoid,Relu\n",
    "from kudzu.layer import Affine"
   ]
  },
  {
   "cell_type": "markdown",
   "id": "bc01172a",
   "metadata": {
    "papermill": {
     "duration": 0.031457,
     "end_time": "2021-09-09T20:07:16.320450",
     "exception": false,
     "start_time": "2021-09-09T20:07:16.288993",
     "status": "completed"
    },
    "tags": []
   },
   "source": [
    "### Let us create a `Config` class, to store important parameters. \n",
    "This class essentially plays the role of a dictionary."
   ]
  },
  {
   "cell_type": "code",
   "execution_count": 16,
   "id": "978281aa",
   "metadata": {
    "execution": {
     "iopub.execute_input": "2021-09-09T20:07:16.400546Z",
     "iopub.status.busy": "2021-09-09T20:07:16.399731Z",
     "iopub.status.idle": "2021-09-09T20:07:16.401921Z",
     "shell.execute_reply": "2021-09-09T20:07:16.402397Z"
    },
    "papermill": {
     "duration": 0.051762,
     "end_time": "2021-09-09T20:07:16.402522",
     "exception": false,
     "start_time": "2021-09-09T20:07:16.350760",
     "status": "completed"
    },
    "tags": []
   },
   "outputs": [],
   "source": [
    "class Config:\n",
    "    pass\n",
    "config = Config()\n",
    "config.lr = 0.001\n",
    "config.num_epochs = 250\n",
    "config.bs = 50"
   ]
  },
  {
   "cell_type": "markdown",
   "id": "1385fa59",
   "metadata": {
    "papermill": {
     "duration": 0.030288,
     "end_time": "2021-09-09T20:07:16.463716",
     "exception": false,
     "start_time": "2021-09-09T20:07:16.433428",
     "status": "completed"
    },
    "tags": []
   },
   "source": [
    "### Running Models with the Training data\n",
    "Details about the network layers:\n",
    "- A first affine layer has 784 inputs and does 100 affine transforms. These are followed by a Relu\n",
    "- A second affine layer has 100 inputs from the 100 activations of the past layer, and does 100 affine transforms. These are followed by a Relu\n",
    "- A third affine layer has 100 activations and does 2 affine transformations to create an embedding for visualization. There is no non-linearity here.\n",
    "- A final \"logistic regression\" which has an affine transform from 2 inputs to 1 output, which is squeezed through a sigmoid.\n"
   ]
  },
  {
   "cell_type": "code",
   "execution_count": 17,
   "id": "2b9c66db",
   "metadata": {
    "execution": {
     "iopub.execute_input": "2021-09-09T20:07:16.539599Z",
     "iopub.status.busy": "2021-09-09T20:07:16.538993Z",
     "iopub.status.idle": "2021-09-09T20:07:16.549855Z",
     "shell.execute_reply": "2021-09-09T20:07:16.549339Z"
    },
    "papermill": {
     "duration": 0.051095,
     "end_time": "2021-09-09T20:07:16.549973",
     "exception": false,
     "start_time": "2021-09-09T20:07:16.498878",
     "status": "completed"
    },
    "tags": []
   },
   "outputs": [],
   "source": [
    "data = Data(X_train, y_train.reshape(-1,1))\n",
    "sampler = Sampler(data, config.bs, shuffle=True)\n",
    "\n",
    "dl = Dataloader(data, sampler)\n",
    "\n",
    "opt = GD(config.lr)\n",
    "loss = MSE()"
   ]
  },
  {
   "cell_type": "code",
   "execution_count": 18,
   "id": "b275e4c2",
   "metadata": {
    "execution": {
     "iopub.execute_input": "2021-09-09T20:07:16.629186Z",
     "iopub.status.busy": "2021-09-09T20:07:16.622718Z",
     "iopub.status.idle": "2021-09-09T20:07:16.631065Z",
     "shell.execute_reply": "2021-09-09T20:07:16.631571Z"
    },
    "papermill": {
     "duration": 0.047459,
     "end_time": "2021-09-09T20:07:16.631762",
     "exception": false,
     "start_time": "2021-09-09T20:07:16.584303",
     "status": "completed"
    },
    "tags": []
   },
   "outputs": [],
   "source": [
    "training_data_x = X_train\n",
    "testing_data_x = X_test\n",
    "training_data_y = y_train.reshape(-1,1)\n",
    "testing_data_y = y_test.reshape(-1,1)"
   ]
  },
  {
   "cell_type": "code",
   "execution_count": 19,
   "id": "76951160",
   "metadata": {
    "execution": {
     "iopub.execute_input": "2021-09-09T20:07:16.705055Z",
     "iopub.status.busy": "2021-09-09T20:07:16.695818Z",
     "iopub.status.idle": "2021-09-09T20:07:16.715342Z",
     "shell.execute_reply": "2021-09-09T20:07:16.715817Z"
    },
    "papermill": {
     "duration": 0.054524,
     "end_time": "2021-09-09T20:07:16.715953",
     "exception": false,
     "start_time": "2021-09-09T20:07:16.661429",
     "status": "completed"
    },
    "tags": []
   },
   "outputs": [
    {
     "name": "stdout",
     "output_type": "stream",
     "text": [
      "xavier\n",
      "xavier\n",
      "xavier\n",
      "xavier\n",
      "xavier\n"
     ]
    }
   ],
   "source": [
    "layers = [Affine(\"first\", 784, 100), Relu(\"first\"), Affine(\"second\", 100, 100), Relu(\"second\"), Affine(\"third\", 100, 2), Affine(\"last\", 2, 1), Sigmoid(\"last\")]\n",
    "model_nn = Model(layers)\n",
    "model_lr = Model([Affine(\"logits\", 784, 1), Sigmoid(\"sigmoid\")])"
   ]
  },
  {
   "cell_type": "code",
   "execution_count": 20,
   "id": "6eede77a",
   "metadata": {
    "execution": {
     "iopub.execute_input": "2021-09-09T20:07:16.788845Z",
     "iopub.status.busy": "2021-09-09T20:07:16.786931Z",
     "iopub.status.idle": "2021-09-09T20:07:16.799547Z",
     "shell.execute_reply": "2021-09-09T20:07:16.799049Z"
    },
    "papermill": {
     "duration": 0.049736,
     "end_time": "2021-09-09T20:07:16.799659",
     "exception": false,
     "start_time": "2021-09-09T20:07:16.749923",
     "status": "completed"
    },
    "tags": []
   },
   "outputs": [],
   "source": [
    "nn_learner = Learner(loss, model_nn, opt, config.num_epochs)\n",
    "acc_nn = ClfCallback(nn_learner, config.bs, training_data_x , testing_data_x, training_data_y, testing_data_y)\n",
    "nn_learner.set_callbacks([acc_nn])"
   ]
  },
  {
   "cell_type": "code",
   "execution_count": 21,
   "id": "877b6cc7",
   "metadata": {
    "execution": {
     "iopub.execute_input": "2021-09-09T20:07:16.870202Z",
     "iopub.status.busy": "2021-09-09T20:07:16.865060Z",
     "iopub.status.idle": "2021-09-09T20:07:16.877597Z",
     "shell.execute_reply": "2021-09-09T20:07:16.878071Z"
    },
    "papermill": {
     "duration": 0.047674,
     "end_time": "2021-09-09T20:07:16.878194",
     "exception": false,
     "start_time": "2021-09-09T20:07:16.830520",
     "status": "completed"
    },
    "tags": []
   },
   "outputs": [],
   "source": [
    "lr_learner = Learner(loss, model_lr, opt, config.num_epochs)\n",
    "acc_lr = ClfCallback(lr_learner, config.bs, training_data_x , testing_data_x, training_data_y, testing_data_y)\n",
    "lr_learner.set_callbacks([acc_lr])"
   ]
  },
  {
   "cell_type": "code",
   "execution_count": 22,
   "id": "d9b133c3",
   "metadata": {
    "execution": {
     "iopub.execute_input": "2021-09-09T20:07:16.958910Z",
     "iopub.status.busy": "2021-09-09T20:07:16.948249Z",
     "iopub.status.idle": "2021-09-09T20:09:21.502650Z",
     "shell.execute_reply": "2021-09-09T20:09:21.503491Z"
    },
    "papermill": {
     "duration": 124.589402,
     "end_time": "2021-09-09T20:09:21.503656",
     "exception": false,
     "start_time": "2021-09-09T20:07:16.914254",
     "status": "completed"
    },
    "tags": []
   },
   "outputs": [
    {
     "name": "stdout",
     "output_type": "stream",
     "text": [
      "Epoch 0, Loss 0.2288\n",
      "Training Accuracy: 0.7591, Testing Accuracy: 0.7576\n",
      "\n"
     ]
    },
    {
     "name": "stdout",
     "output_type": "stream",
     "text": [
      "Epoch 10, Loss 0.0675\n",
      "Training Accuracy: 0.9353, Testing Accuracy: 0.9466\n",
      "\n"
     ]
    },
    {
     "name": "stdout",
     "output_type": "stream",
     "text": [
      "Epoch 20, Loss 0.0454\n",
      "Training Accuracy: 0.9518, Testing Accuracy: 0.9602\n",
      "\n"
     ]
    },
    {
     "name": "stdout",
     "output_type": "stream",
     "text": [
      "Epoch 30, Loss 0.0375\n",
      "Training Accuracy: 0.9604, Testing Accuracy: 0.9652\n",
      "\n"
     ]
    },
    {
     "name": "stdout",
     "output_type": "stream",
     "text": [
      "Epoch 40, Loss 0.0332\n",
      "Training Accuracy: 0.9646, Testing Accuracy: 0.9677\n",
      "\n"
     ]
    },
    {
     "name": "stdout",
     "output_type": "stream",
     "text": [
      "Epoch 50, Loss 0.0304\n",
      "Training Accuracy: 0.9672, Testing Accuracy: 0.9708\n",
      "\n"
     ]
    },
    {
     "name": "stdout",
     "output_type": "stream",
     "text": [
      "Epoch 60, Loss 0.0284\n",
      "Training Accuracy: 0.9688, Testing Accuracy: 0.9718\n",
      "\n"
     ]
    },
    {
     "name": "stdout",
     "output_type": "stream",
     "text": [
      "Epoch 70, Loss 0.0268\n",
      "Training Accuracy: 0.9705, Testing Accuracy: 0.9713\n",
      "\n"
     ]
    },
    {
     "name": "stdout",
     "output_type": "stream",
     "text": [
      "Epoch 80, Loss 0.0256\n",
      "Training Accuracy: 0.9717, Testing Accuracy: 0.9713\n",
      "\n"
     ]
    },
    {
     "name": "stdout",
     "output_type": "stream",
     "text": [
      "Epoch 90, Loss 0.0245\n",
      "Training Accuracy: 0.9731, Testing Accuracy: 0.9728\n",
      "\n"
     ]
    },
    {
     "name": "stdout",
     "output_type": "stream",
     "text": [
      "Epoch 100, Loss 0.0236\n",
      "Training Accuracy: 0.9740, Testing Accuracy: 0.9728\n",
      "\n"
     ]
    },
    {
     "name": "stdout",
     "output_type": "stream",
     "text": [
      "Epoch 110, Loss 0.0227\n",
      "Training Accuracy: 0.9747, Testing Accuracy: 0.9728\n",
      "\n"
     ]
    },
    {
     "name": "stdout",
     "output_type": "stream",
     "text": [
      "Epoch 120, Loss 0.022\n",
      "Training Accuracy: 0.9755, Testing Accuracy: 0.9728\n",
      "\n"
     ]
    },
    {
     "name": "stdout",
     "output_type": "stream",
     "text": [
      "Epoch 130, Loss 0.0213\n",
      "Training Accuracy: 0.9762, Testing Accuracy: 0.9733\n",
      "\n"
     ]
    },
    {
     "name": "stdout",
     "output_type": "stream",
     "text": [
      "Epoch 140, Loss 0.0207\n",
      "Training Accuracy: 0.9770, Testing Accuracy: 0.9733\n",
      "\n"
     ]
    },
    {
     "name": "stdout",
     "output_type": "stream",
     "text": [
      "Epoch 150, Loss 0.0201\n",
      "Training Accuracy: 0.9776, Testing Accuracy: 0.9738\n",
      "\n"
     ]
    },
    {
     "name": "stdout",
     "output_type": "stream",
     "text": [
      "Epoch 160, Loss 0.0195\n",
      "Training Accuracy: 0.9781, Testing Accuracy: 0.9738\n",
      "\n"
     ]
    },
    {
     "name": "stdout",
     "output_type": "stream",
     "text": [
      "Epoch 170, Loss 0.019\n",
      "Training Accuracy: 0.9786, Testing Accuracy: 0.9743\n",
      "\n"
     ]
    },
    {
     "name": "stdout",
     "output_type": "stream",
     "text": [
      "Epoch 180, Loss 0.0185\n",
      "Training Accuracy: 0.9791, Testing Accuracy: 0.9743\n",
      "\n"
     ]
    },
    {
     "name": "stdout",
     "output_type": "stream",
     "text": [
      "Epoch 190, Loss 0.018\n",
      "Training Accuracy: 0.9796, Testing Accuracy: 0.9748\n",
      "\n"
     ]
    },
    {
     "name": "stdout",
     "output_type": "stream",
     "text": [
      "Epoch 200, Loss 0.0176\n",
      "Training Accuracy: 0.9803, Testing Accuracy: 0.9758\n",
      "\n"
     ]
    },
    {
     "name": "stdout",
     "output_type": "stream",
     "text": [
      "Epoch 210, Loss 0.0172\n",
      "Training Accuracy: 0.9807, Testing Accuracy: 0.9758\n",
      "\n"
     ]
    },
    {
     "name": "stdout",
     "output_type": "stream",
     "text": [
      "Epoch 220, Loss 0.0168\n",
      "Training Accuracy: 0.9810, Testing Accuracy: 0.9758\n",
      "\n"
     ]
    },
    {
     "name": "stdout",
     "output_type": "stream",
     "text": [
      "Epoch 230, Loss 0.0164\n",
      "Training Accuracy: 0.9816, Testing Accuracy: 0.9768\n",
      "\n"
     ]
    },
    {
     "name": "stdout",
     "output_type": "stream",
     "text": [
      "Epoch 240, Loss 0.016\n",
      "Training Accuracy: 0.9824, Testing Accuracy: 0.9763\n",
      "\n"
     ]
    },
    {
     "data": {
      "text/plain": [
       "0.002923517483104908"
      ]
     },
     "execution_count": 22,
     "metadata": {},
     "output_type": "execute_result"
    }
   ],
   "source": [
    "nn_learner.train_loop(dl)"
   ]
  },
  {
   "cell_type": "code",
   "execution_count": 23,
   "id": "e0163366",
   "metadata": {
    "execution": {
     "iopub.execute_input": "2021-09-09T20:09:21.605617Z",
     "iopub.status.busy": "2021-09-09T20:09:21.604982Z",
     "iopub.status.idle": "2021-09-09T20:09:39.724108Z",
     "shell.execute_reply": "2021-09-09T20:09:39.724913Z"
    },
    "papermill": {
     "duration": 18.176744,
     "end_time": "2021-09-09T20:09:39.725092",
     "exception": false,
     "start_time": "2021-09-09T20:09:21.548348",
     "status": "completed"
    },
    "tags": []
   },
   "outputs": [
    {
     "name": "stdout",
     "output_type": "stream",
     "text": [
      "Epoch 0, Loss 0.2043\n",
      "Training Accuracy: 0.7994, Testing Accuracy: 0.8080\n",
      "\n"
     ]
    },
    {
     "name": "stdout",
     "output_type": "stream",
     "text": [
      "Epoch 10, Loss 0.1003\n",
      "Training Accuracy: 0.9094, Testing Accuracy: 0.9163\n",
      "\n"
     ]
    },
    {
     "name": "stdout",
     "output_type": "stream",
     "text": [
      "Epoch 20, Loss 0.0782\n",
      "Training Accuracy: 0.9285, Testing Accuracy: 0.9370\n",
      "\n"
     ]
    },
    {
     "name": "stdout",
     "output_type": "stream",
     "text": [
      "Epoch 30, Loss 0.0676\n",
      "Training Accuracy: 0.9364, Testing Accuracy: 0.9451\n",
      "\n"
     ]
    },
    {
     "name": "stdout",
     "output_type": "stream",
     "text": [
      "Epoch 40, Loss 0.0611\n",
      "Training Accuracy: 0.9416, Testing Accuracy: 0.9491\n",
      "\n"
     ]
    },
    {
     "name": "stdout",
     "output_type": "stream",
     "text": [
      "Epoch 50, Loss 0.0567\n",
      "Training Accuracy: 0.9453, Testing Accuracy: 0.9521\n",
      "\n"
     ]
    },
    {
     "name": "stdout",
     "output_type": "stream",
     "text": [
      "Epoch 60, Loss 0.0535\n",
      "Training Accuracy: 0.9474, Testing Accuracy: 0.9536\n",
      "\n"
     ]
    },
    {
     "name": "stdout",
     "output_type": "stream",
     "text": [
      "Epoch 70, Loss 0.051\n",
      "Training Accuracy: 0.9493, Testing Accuracy: 0.9561\n",
      "\n"
     ]
    },
    {
     "name": "stdout",
     "output_type": "stream",
     "text": [
      "Epoch 80, Loss 0.049\n",
      "Training Accuracy: 0.9503, Testing Accuracy: 0.9577\n",
      "\n"
     ]
    },
    {
     "name": "stdout",
     "output_type": "stream",
     "text": [
      "Epoch 90, Loss 0.0474\n",
      "Training Accuracy: 0.9521, Testing Accuracy: 0.9597\n",
      "\n"
     ]
    },
    {
     "name": "stdout",
     "output_type": "stream",
     "text": [
      "Epoch 100, Loss 0.046\n",
      "Training Accuracy: 0.9534, Testing Accuracy: 0.9597\n",
      "\n"
     ]
    },
    {
     "name": "stdout",
     "output_type": "stream",
     "text": [
      "Epoch 110, Loss 0.0448\n",
      "Training Accuracy: 0.9547, Testing Accuracy: 0.9627\n",
      "\n"
     ]
    },
    {
     "name": "stdout",
     "output_type": "stream",
     "text": [
      "Epoch 120, Loss 0.0437\n",
      "Training Accuracy: 0.9558, Testing Accuracy: 0.9647\n",
      "\n"
     ]
    },
    {
     "name": "stdout",
     "output_type": "stream",
     "text": [
      "Epoch 130, Loss 0.0428\n",
      "Training Accuracy: 0.9563, Testing Accuracy: 0.9657\n",
      "\n"
     ]
    },
    {
     "name": "stdout",
     "output_type": "stream",
     "text": [
      "Epoch 140, Loss 0.042\n",
      "Training Accuracy: 0.9565, Testing Accuracy: 0.9657\n",
      "\n"
     ]
    },
    {
     "name": "stdout",
     "output_type": "stream",
     "text": [
      "Epoch 150, Loss 0.0413\n",
      "Training Accuracy: 0.9572, Testing Accuracy: 0.9657\n",
      "\n"
     ]
    },
    {
     "name": "stdout",
     "output_type": "stream",
     "text": [
      "Epoch 160, Loss 0.0406\n",
      "Training Accuracy: 0.9584, Testing Accuracy: 0.9657\n",
      "\n"
     ]
    },
    {
     "name": "stdout",
     "output_type": "stream",
     "text": [
      "Epoch 170, Loss 0.04\n",
      "Training Accuracy: 0.9586, Testing Accuracy: 0.9657\n",
      "\n"
     ]
    },
    {
     "name": "stdout",
     "output_type": "stream",
     "text": [
      "Epoch 180, Loss 0.0395\n",
      "Training Accuracy: 0.9591, Testing Accuracy: 0.9657\n",
      "\n"
     ]
    },
    {
     "name": "stdout",
     "output_type": "stream",
     "text": [
      "Epoch 190, Loss 0.0389\n",
      "Training Accuracy: 0.9596, Testing Accuracy: 0.9657\n",
      "\n"
     ]
    },
    {
     "name": "stdout",
     "output_type": "stream",
     "text": [
      "Epoch 200, Loss 0.0385\n",
      "Training Accuracy: 0.9599, Testing Accuracy: 0.9657\n",
      "\n"
     ]
    },
    {
     "name": "stdout",
     "output_type": "stream",
     "text": [
      "Epoch 210, Loss 0.038\n",
      "Training Accuracy: 0.9600, Testing Accuracy: 0.9667\n",
      "\n"
     ]
    },
    {
     "name": "stdout",
     "output_type": "stream",
     "text": [
      "Epoch 220, Loss 0.0376\n",
      "Training Accuracy: 0.9604, Testing Accuracy: 0.9672\n",
      "\n"
     ]
    },
    {
     "name": "stdout",
     "output_type": "stream",
     "text": [
      "Epoch 230, Loss 0.0372\n",
      "Training Accuracy: 0.9609, Testing Accuracy: 0.9677\n",
      "\n"
     ]
    },
    {
     "name": "stdout",
     "output_type": "stream",
     "text": [
      "Epoch 240, Loss 0.0369\n",
      "Training Accuracy: 0.9612, Testing Accuracy: 0.9682\n",
      "\n"
     ]
    },
    {
     "data": {
      "text/plain": [
       "0.032265865273220826"
      ]
     },
     "execution_count": 23,
     "metadata": {},
     "output_type": "execute_result"
    }
   ],
   "source": [
    "lr_learner.train_loop(dl)"
   ]
  },
  {
   "cell_type": "code",
   "execution_count": 24,
   "id": "ca410940",
   "metadata": {
    "execution": {
     "iopub.execute_input": "2021-09-09T20:09:39.841646Z",
     "iopub.status.busy": "2021-09-09T20:09:39.840995Z",
     "iopub.status.idle": "2021-09-09T20:09:40.113967Z",
     "shell.execute_reply": "2021-09-09T20:09:40.113418Z"
    },
    "papermill": {
     "duration": 0.337807,
     "end_time": "2021-09-09T20:09:40.114100",
     "exception": false,
     "start_time": "2021-09-09T20:09:39.776293",
     "status": "completed"
    },
    "tags": []
   },
   "outputs": [
    {
     "data": {
      "text/plain": [
       "<matplotlib.legend.Legend at 0x7f86b8483eb8>"
      ]
     },
     "execution_count": 24,
     "metadata": {},
     "output_type": "execute_result"
    },
    {
     "data": {
      "image/png": "[encoded data removed]",
      "text/plain": [
       "<Figure size 1080x720 with 1 Axes>"
      ]
     },
     "metadata": {
      "needs_background": "light"
     },
     "output_type": "display_data"
    }
   ],
   "source": [
    "#comparing the results of NN and LR\n",
    "plt.figure(figsize=(15,10))\n",
    "\n",
    "# Neural Network plots\n",
    "plt.plot(acc_nn.accuracies, 'r-', label = \"Training Accuracies - NN\")\n",
    "plt.plot(acc_nn.test_accuracies, 'g-', label = \"Testing Accuracies - NN\")\n",
    "\n",
    "# Logistic Regression plots\n",
    "plt.plot(acc_lr.accuracies, 'k-', label = \"Training Accuracies - LR\")\n",
    "plt.plot(acc_lr.test_accuracies, 'b-', label = \"Testing Accuracies - LR\")\n",
    "plt.legend()"
   ]
  },
  {
   "cell_type": "markdown",
   "id": "80dfb35c",
   "metadata": {
    "papermill": {
     "duration": 0.047892,
     "end_time": "2021-09-09T20:09:40.209737",
     "exception": false,
     "start_time": "2021-09-09T20:09:40.161845",
     "status": "completed"
    },
    "tags": []
   },
   "source": [
    "#### Plotting the outputs of this layer of the NN.\n"
   ]
  },
  {
   "cell_type": "code",
   "execution_count": 25,
   "id": "45eb2ff5",
   "metadata": {
    "execution": {
     "iopub.execute_input": "2021-09-09T20:09:40.318624Z",
     "iopub.status.busy": "2021-09-09T20:09:40.317049Z",
     "iopub.status.idle": "2021-09-09T20:09:40.340467Z",
     "shell.execute_reply": "2021-09-09T20:09:40.340984Z"
    },
    "papermill": {
     "duration": 0.082839,
     "end_time": "2021-09-09T20:09:40.341145",
     "exception": false,
     "start_time": "2021-09-09T20:09:40.258306",
     "status": "completed"
    },
    "tags": []
   },
   "outputs": [],
   "source": [
    "new_model = Model(layers[:-2])\n",
    "testing_plot = new_model(testing_data_x)"
   ]
  },
  {
   "cell_type": "code",
   "execution_count": 26,
   "id": "4c0a5485",
   "metadata": {
    "execution": {
     "iopub.execute_input": "2021-09-09T20:09:40.461231Z",
     "iopub.status.busy": "2021-09-09T20:09:40.459484Z",
     "iopub.status.idle": "2021-09-09T20:09:40.716083Z",
     "shell.execute_reply": "2021-09-09T20:09:40.716663Z"
    },
    "papermill": {
     "duration": 0.313629,
     "end_time": "2021-09-09T20:09:40.716829",
     "exception": false,
     "start_time": "2021-09-09T20:09:40.403200",
     "status": "completed"
    },
    "tags": []
   },
   "outputs": [
    {
     "data": {
      "text/plain": [
       "Text(0.5, 1.0, 'Outputs')"
      ]
     },
     "execution_count": 26,
     "metadata": {},
     "output_type": "execute_result"
    },
    {
     "data": {
      "image/png": "[encoded data removed]",
      "text/plain": [
       "<Figure size 576x504 with 1 Axes>"
      ]
     },
     "metadata": {
      "needs_background": "light"
     },
     "output_type": "display_data"
    }
   ],
   "source": [
    "# Plotting the scatter plot of points and color coding by class\n",
    "plt.figure(figsize=(8,7))\n",
    "plt.scatter(testing_plot[:,0], testing_plot[:,1], alpha = 0.1, c = y_test.ravel());\n",
    "plt.title('Outputs')"
   ]
  },
  {
   "cell_type": "markdown",
   "id": "a74fcf8f",
   "metadata": {
    "papermill": {
     "duration": 0.05183,
     "end_time": "2021-09-09T20:09:40.821139",
     "exception": false,
     "start_time": "2021-09-09T20:09:40.769309",
     "status": "completed"
    },
    "tags": []
   },
   "source": [
    "Probability contours"
   ]
  },
  {
   "cell_type": "code",
   "execution_count": 27,
   "id": "d0afc8e3",
   "metadata": {
    "execution": {
     "iopub.execute_input": "2021-09-09T20:09:40.929759Z",
     "iopub.status.busy": "2021-09-09T20:09:40.929152Z",
     "iopub.status.idle": "2021-09-09T20:09:40.941561Z",
     "shell.execute_reply": "2021-09-09T20:09:40.941078Z"
    },
    "papermill": {
     "duration": 0.067528,
     "end_time": "2021-09-09T20:09:40.941675",
     "exception": false,
     "start_time": "2021-09-09T20:09:40.874147",
     "status": "completed"
    },
    "tags": []
   },
   "outputs": [],
   "source": [
    "model_prob = Model(layers[-2:]) "
   ]
  },
  {
   "cell_type": "code",
   "execution_count": 28,
   "id": "9b96e238",
   "metadata": {
    "execution": {
     "iopub.execute_input": "2021-09-09T20:09:41.069445Z",
     "iopub.status.busy": "2021-09-09T20:09:41.068799Z",
     "iopub.status.idle": "2021-09-09T20:09:41.084512Z",
     "shell.execute_reply": "2021-09-09T20:09:41.085032Z"
    },
    "papermill": {
     "duration": 0.093391,
     "end_time": "2021-09-09T20:09:41.085161",
     "exception": false,
     "start_time": "2021-09-09T20:09:40.991770",
     "status": "completed"
    },
    "tags": []
   },
   "outputs": [],
   "source": [
    "#creating the x and y ranges according to the above generated plot.\n",
    "x_range = np.linspace(-4, 1, 100) \n",
    "y_range = np.linspace(-6, 6, 100) \n",
    "x_grid, y_grid = np.meshgrid(x_range, y_range) # x_grid and y_grig are of size 100 X 100\n",
    "\n",
    "# converting x_grid and y_grid to continuous arrays\n",
    "x_gridflat = np.ravel(x_grid)\n",
    "y_gridflat = np.ravel(y_grid)\n",
    "\n",
    "# The last layer of the current model takes two columns as input. Hence transpose of np.vstack() is required.\n",
    "X = np.vstack((x_gridflat, y_gridflat)).T\n",
    "\n",
    "prob_contour = model_prob(X).reshape(100,100) "
   ]
  },
  {
   "cell_type": "code",
   "execution_count": 29,
   "id": "da72499a",
   "metadata": {
    "execution": {
     "iopub.execute_input": "2021-09-09T20:09:41.209401Z",
     "iopub.status.busy": "2021-09-09T20:09:41.208765Z",
     "iopub.status.idle": "2021-09-09T20:09:41.497493Z",
     "shell.execute_reply": "2021-09-09T20:09:41.497975Z"
    },
    "papermill": {
     "duration": 0.353688,
     "end_time": "2021-09-09T20:09:41.498133",
     "exception": false,
     "start_time": "2021-09-09T20:09:41.144445",
     "status": "completed"
    },
    "tags": []
   },
   "outputs": [
    {
     "data": {
      "image/png": "[encoded data removed]",
      "text/plain": [
       "<Figure size 720x648 with 1 Axes>"
      ]
     },
     "metadata": {
      "needs_background": "light"
     },
     "output_type": "display_data"
    }
   ],
   "source": [
    "plt.figure(figsize=(10,9))\n",
    "plt.scatter(testing_plot[:,0], testing_plot[:,1], alpha = 0.1, c = y_test.ravel())\n",
    "contours = plt.contour(x_grid,y_grid,prob_contour)\n",
    "plt.title('Probability Contours')\n",
    "plt.clabel(contours, inline = True );"
   ]
  },
  {
   "cell_type": "code",
   "execution_count": null,
   "id": "e81b4ac7",
   "metadata": {
    "papermill": {
     "duration": 0.054716,
     "end_time": "2021-09-09T20:09:41.610404",
     "exception": false,
     "start_time": "2021-09-09T20:09:41.555688",
     "status": "completed"
    },
    "tags": []
   },
   "outputs": [],
   "source": []
  }
 ],
 "metadata": {
  "kernelspec": {
   "display_name": "Python 3",
   "language": "python",
   "name": "python3"
  },
  "language_info": {
   "codemirror_mode": {
    "name": "ipython",
    "version": 3
   },
   "file_extension": ".py",
   "mimetype": "text/x-python",
   "name": "python",
   "nbconvert_exporter": "python",
   "pygments_lexer": "ipython3",
   "version": "3.6.14"
  },
  "papermill": {
   "default_parameters": {},
   "duration": 152.249331,
   "end_time": "2021-09-09T20:09:42.071896",
   "environment_variables": {},
   "exception": null,
   "input_path": "2020-08-11-part2.ipynb",
   "output_path": "2020-08-11-part2.ipynb",
   "parameters": {},
   "start_time": "2021-09-09T20:07:09.822565",
   "version": "2.3.3"
  }
 },
 "nbformat": 4,
 "nbformat_minor": 5
}