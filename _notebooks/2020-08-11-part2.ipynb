{
 "cells": [
  {
   "cell_type": "markdown",
   "id": "98380cd3",
   "metadata": {
    "papermill": {
     "duration": 0.035807,
     "end_time": "2021-11-22T00:23:11.300778",
     "exception": false,
     "start_time": "2021-11-22T00:23:11.264971",
     "status": "completed"
    },
    "tags": []
   },
   "source": [
    "# Distinguish Your Own Digits (DYOD)"
   ]
  },
  {
   "cell_type": "markdown",
   "id": "ef31240d",
   "metadata": {
    "papermill": {
     "duration": 0.031884,
     "end_time": "2021-11-22T00:23:11.371354",
     "exception": false,
     "start_time": "2021-11-22T00:23:11.339470",
     "status": "completed"
    },
    "tags": []
   },
   "source": [
    "You are going to write a classifier that distinguishes between the number 3 and number 8."
   ]
  },
  {
   "cell_type": "code",
   "execution_count": 1,
   "id": "b15c8646",
   "metadata": {
    "execution": {
     "iopub.execute_input": "2021-11-22T00:23:11.449372Z",
     "iopub.status.busy": "2021-11-22T00:23:11.448663Z",
     "iopub.status.idle": "2021-11-22T00:23:11.462433Z",
     "shell.execute_reply": "2021-11-22T00:23:11.461854Z"
    },
    "papermill": {
     "duration": 0.061363,
     "end_time": "2021-11-22T00:23:11.462592",
     "exception": false,
     "start_time": "2021-11-22T00:23:11.401229",
     "status": "completed"
    },
    "tags": []
   },
   "outputs": [],
   "source": [
    "%load_ext autoreload\n",
    "%autoreload 2"
   ]
  },
  {
   "cell_type": "code",
   "execution_count": 2,
   "id": "22ef38dc",
   "metadata": {
    "execution": {
     "iopub.execute_input": "2021-11-22T00:23:11.530461Z",
     "iopub.status.busy": "2021-11-22T00:23:11.529774Z",
     "iopub.status.idle": "2021-11-22T00:23:12.208167Z",
     "shell.execute_reply": "2021-11-22T00:23:12.208716Z"
    },
    "papermill": {
     "duration": 0.714424,
     "end_time": "2021-11-22T00:23:12.208893",
     "exception": false,
     "start_time": "2021-11-22T00:23:11.494469",
     "status": "completed"
    },
    "tags": []
   },
   "outputs": [],
   "source": [
    "%matplotlib inline\n",
    "import numpy as np\n",
    "import matplotlib.pyplot as plt\n",
    "import pandas as pd"
   ]
  },
  {
   "cell_type": "markdown",
   "id": "ba036198",
   "metadata": {
    "papermill": {
     "duration": 0.027131,
     "end_time": "2021-11-22T00:23:12.264505",
     "exception": false,
     "start_time": "2021-11-22T00:23:12.237374",
     "status": "completed"
    },
    "tags": []
   },
   "source": [
    "From the command line run `pip install mnist`. This is a library that will help you bring down the mnist dataset. If you run this from a notebook, you need to put  `!pip install mnist` in a cell by itself."
   ]
  },
  {
   "cell_type": "code",
   "execution_count": 3,
   "id": "bb6ad8a1",
   "metadata": {
    "execution": {
     "iopub.execute_input": "2021-11-22T00:23:12.328971Z",
     "iopub.status.busy": "2021-11-22T00:23:12.328384Z",
     "iopub.status.idle": "2021-11-22T00:23:14.342608Z",
     "shell.execute_reply": "2021-11-22T00:23:14.341456Z"
    },
    "papermill": {
     "duration": 2.048159,
     "end_time": "2021-11-22T00:23:14.342755",
     "exception": false,
     "start_time": "2021-11-22T00:23:12.294596",
     "status": "completed"
    },
    "tags": []
   },
   "outputs": [
    {
     "name": "stdout",
     "output_type": "stream",
     "text": [
      "Collecting mnist\r\n"
     ]
    },
    {
     "name": "stdout",
     "output_type": "stream",
     "text": [
      "  Downloading mnist-0.2.2-py2.py3-none-any.whl (3.5 kB)\r\n",
      "Requirement already satisfied: numpy in /opt/hostedtoolcache/Python/3.6.15/x64/lib/python3.6/site-packages (from mnist) (1.19.5)\r\n"
     ]
    },
    {
     "name": "stdout",
     "output_type": "stream",
     "text": [
      "Installing collected packages: mnist\r\n"
     ]
    },
    {
     "name": "stdout",
     "output_type": "stream",
     "text": [
      "Successfully installed mnist-0.2.2\r\n"
     ]
    }
   ],
   "source": [
    "!pip install mnist"
   ]
  },
  {
   "cell_type": "markdown",
   "id": "69df9c9a",
   "metadata": {
    "papermill": {
     "duration": 0.028434,
     "end_time": "2021-11-22T00:23:14.402681",
     "exception": false,
     "start_time": "2021-11-22T00:23:14.374247",
     "status": "completed"
    },
    "tags": []
   },
   "source": [
    "## Preparing the Data"
   ]
  },
  {
   "cell_type": "code",
   "execution_count": 4,
   "id": "7f69d806",
   "metadata": {
    "execution": {
     "iopub.execute_input": "2021-11-22T00:23:14.472363Z",
     "iopub.status.busy": "2021-11-22T00:23:14.463698Z",
     "iopub.status.idle": "2021-11-22T00:23:14.480609Z",
     "shell.execute_reply": "2021-11-22T00:23:14.481065Z"
    },
    "papermill": {
     "duration": 0.050206,
     "end_time": "2021-11-22T00:23:14.481204",
     "exception": false,
     "start_time": "2021-11-22T00:23:14.430998",
     "status": "completed"
    },
    "tags": []
   },
   "outputs": [],
   "source": [
    "import mnist"
   ]
  },
  {
   "cell_type": "code",
   "execution_count": 5,
   "id": "a411e44f",
   "metadata": {
    "execution": {
     "iopub.execute_input": "2021-11-22T00:23:14.542613Z",
     "iopub.status.busy": "2021-11-22T00:23:14.542028Z",
     "iopub.status.idle": "2021-11-22T00:23:15.261581Z",
     "shell.execute_reply": "2021-11-22T00:23:15.262091Z"
    },
    "papermill": {
     "duration": 0.751749,
     "end_time": "2021-11-22T00:23:15.262273",
     "exception": false,
     "start_time": "2021-11-22T00:23:14.510524",
     "status": "completed"
    },
    "tags": []
   },
   "outputs": [],
   "source": [
    "train_images = mnist.train_images()\n",
    "train_labels = mnist.train_labels()"
   ]
  },
  {
   "cell_type": "code",
   "execution_count": 6,
   "id": "dceab3a5",
   "metadata": {
    "execution": {
     "iopub.execute_input": "2021-11-22T00:23:15.327396Z",
     "iopub.status.busy": "2021-11-22T00:23:15.326768Z",
     "iopub.status.idle": "2021-11-22T00:23:15.343554Z",
     "shell.execute_reply": "2021-11-22T00:23:15.342991Z"
    },
    "papermill": {
     "duration": 0.051431,
     "end_time": "2021-11-22T00:23:15.343714",
     "exception": false,
     "start_time": "2021-11-22T00:23:15.292283",
     "status": "completed"
    },
    "tags": []
   },
   "outputs": [
    {
     "data": {
      "text/plain": [
       "((60000, 28, 28), (60000,))"
      ]
     },
     "execution_count": 6,
     "metadata": {},
     "output_type": "execute_result"
    }
   ],
   "source": [
    "train_images.shape, train_labels.shape"
   ]
  },
  {
   "cell_type": "code",
   "execution_count": 7,
   "id": "f50dc2bb",
   "metadata": {
    "execution": {
     "iopub.execute_input": "2021-11-22T00:23:15.406569Z",
     "iopub.status.busy": "2021-11-22T00:23:15.405961Z",
     "iopub.status.idle": "2021-11-22T00:23:15.630170Z",
     "shell.execute_reply": "2021-11-22T00:23:15.630670Z"
    },
    "papermill": {
     "duration": 0.258284,
     "end_time": "2021-11-22T00:23:15.630833",
     "exception": false,
     "start_time": "2021-11-22T00:23:15.372549",
     "status": "completed"
    },
    "tags": []
   },
   "outputs": [],
   "source": [
    "test_images = mnist.test_images()\n",
    "test_labels = mnist.test_labels()"
   ]
  },
  {
   "cell_type": "code",
   "execution_count": 8,
   "id": "fc38cf1b",
   "metadata": {
    "execution": {
     "iopub.execute_input": "2021-11-22T00:23:15.709215Z",
     "iopub.status.busy": "2021-11-22T00:23:15.707253Z",
     "iopub.status.idle": "2021-11-22T00:23:15.714742Z",
     "shell.execute_reply": "2021-11-22T00:23:15.713918Z"
    },
    "papermill": {
     "duration": 0.053991,
     "end_time": "2021-11-22T00:23:15.714860",
     "exception": false,
     "start_time": "2021-11-22T00:23:15.660869",
     "status": "completed"
    },
    "tags": []
   },
   "outputs": [
    {
     "data": {
      "text/plain": [
       "((10000, 28, 28), (10000,))"
      ]
     },
     "execution_count": 8,
     "metadata": {},
     "output_type": "execute_result"
    }
   ],
   "source": [
    "test_images.shape, test_labels.shape"
   ]
  },
  {
   "cell_type": "code",
   "execution_count": 9,
   "id": "f9ed8fe0",
   "metadata": {
    "execution": {
     "iopub.execute_input": "2021-11-22T00:23:15.778379Z",
     "iopub.status.busy": "2021-11-22T00:23:15.776424Z",
     "iopub.status.idle": "2021-11-22T00:23:15.952689Z",
     "shell.execute_reply": "2021-11-22T00:23:15.952153Z"
    },
    "papermill": {
     "duration": 0.208521,
     "end_time": "2021-11-22T00:23:15.952818",
     "exception": false,
     "start_time": "2021-11-22T00:23:15.744297",
     "status": "completed"
    },
    "tags": []
   },
   "outputs": [
    {
     "name": "stdout",
     "output_type": "stream",
     "text": [
      "2\n"
     ]
    },
    {
     "data": {
      "text/plain": [
       "<matplotlib.image.AxesImage at 0x7f03afe5a128>"
      ]
     },
     "execution_count": 9,
     "metadata": {},
     "output_type": "execute_result"
    },
    {
     "data": {
      "image/png": "[encoded data removed]",
      "text/plain": [
       "<Figure size 432x288 with 1 Axes>"
      ]
     },
     "metadata": {
      "needs_background": "light"
     },
     "output_type": "display_data"
    }
   ],
   "source": [
    "image_index = 7776 # You may select anything up to 60,000\n",
    "print(train_labels[image_index]) \n",
    "plt.imshow(train_images[image_index], cmap='Greys')"
   ]
  },
  {
   "cell_type": "markdown",
   "id": "a8d2388d",
   "metadata": {
    "papermill": {
     "duration": 0.031261,
     "end_time": "2021-11-22T00:23:16.016111",
     "exception": false,
     "start_time": "2021-11-22T00:23:15.984850",
     "status": "completed"
    },
    "tags": []
   },
   "source": [
    "## Filter data to get 3 and 8 out"
   ]
  },
  {
   "cell_type": "code",
   "execution_count": 10,
   "id": "776f7fc7",
   "metadata": {
    "execution": {
     "iopub.execute_input": "2021-11-22T00:23:16.100534Z",
     "iopub.status.busy": "2021-11-22T00:23:16.096936Z",
     "iopub.status.idle": "2021-11-22T00:23:16.106136Z",
     "shell.execute_reply": "2021-11-22T00:23:16.106643Z"
    },
    "papermill": {
     "duration": 0.057449,
     "end_time": "2021-11-22T00:23:16.106791",
     "exception": false,
     "start_time": "2021-11-22T00:23:16.049342",
     "status": "completed"
    },
    "tags": []
   },
   "outputs": [],
   "source": [
    "train_filter = np.where((train_labels == 3 ) | (train_labels == 8))\n",
    "test_filter = np.where((test_labels == 3) | (test_labels == 8))\n",
    "X_train, y_train = train_images[train_filter], train_labels[train_filter]\n",
    "X_test, y_test = test_images[test_filter], test_labels[test_filter]"
   ]
  },
  {
   "cell_type": "markdown",
   "id": "948f0b7e",
   "metadata": {
    "papermill": {
     "duration": 0.030544,
     "end_time": "2021-11-22T00:23:16.169187",
     "exception": false,
     "start_time": "2021-11-22T00:23:16.138643",
     "status": "completed"
    },
    "tags": []
   },
   "source": [
    "We normalize the pizel values in the 0 to 1 range"
   ]
  },
  {
   "cell_type": "code",
   "execution_count": 11,
   "id": "ee4c2166",
   "metadata": {
    "execution": {
     "iopub.execute_input": "2021-11-22T00:23:16.249588Z",
     "iopub.status.busy": "2021-11-22T00:23:16.248999Z",
     "iopub.status.idle": "2021-11-22T00:23:16.300591Z",
     "shell.execute_reply": "2021-11-22T00:23:16.301060Z"
    },
    "papermill": {
     "duration": 0.100678,
     "end_time": "2021-11-22T00:23:16.301329",
     "exception": false,
     "start_time": "2021-11-22T00:23:16.200651",
     "status": "completed"
    },
    "tags": []
   },
   "outputs": [],
   "source": [
    "X_train = X_train/255.\n",
    "X_test = X_test/255."
   ]
  },
  {
   "cell_type": "markdown",
   "id": "ddcf4fab",
   "metadata": {
    "papermill": {
     "duration": 0.029048,
     "end_time": "2021-11-22T00:23:16.361059",
     "exception": false,
     "start_time": "2021-11-22T00:23:16.332011",
     "status": "completed"
    },
    "tags": []
   },
   "source": [
    "And setup the labels as 1 (when the digit is 3) and 0 (when the digit is 8)"
   ]
  },
  {
   "cell_type": "code",
   "execution_count": 12,
   "id": "7dc908f2",
   "metadata": {
    "execution": {
     "iopub.execute_input": "2021-11-22T00:23:16.440840Z",
     "iopub.status.busy": "2021-11-22T00:23:16.440257Z",
     "iopub.status.idle": "2021-11-22T00:23:16.447567Z",
     "shell.execute_reply": "2021-11-22T00:23:16.447076Z"
    },
    "papermill": {
     "duration": 0.05332,
     "end_time": "2021-11-22T00:23:16.447728",
     "exception": false,
     "start_time": "2021-11-22T00:23:16.394408",
     "status": "completed"
    },
    "tags": []
   },
   "outputs": [],
   "source": [
    "y_train = 1*(y_train==3)\n",
    "y_test = 1*(y_test==3)"
   ]
  },
  {
   "cell_type": "code",
   "execution_count": 13,
   "id": "01e4e969",
   "metadata": {
    "execution": {
     "iopub.execute_input": "2021-11-22T00:23:16.548585Z",
     "iopub.status.busy": "2021-11-22T00:23:16.547971Z",
     "iopub.status.idle": "2021-11-22T00:23:16.551758Z",
     "shell.execute_reply": "2021-11-22T00:23:16.551212Z"
    },
    "papermill": {
     "duration": 0.065056,
     "end_time": "2021-11-22T00:23:16.551881",
     "exception": false,
     "start_time": "2021-11-22T00:23:16.486825",
     "status": "completed"
    },
    "tags": []
   },
   "outputs": [
    {
     "data": {
      "text/plain": [
       "((11982, 28, 28), (1984, 28, 28))"
      ]
     },
     "execution_count": 13,
     "metadata": {},
     "output_type": "execute_result"
    }
   ],
   "source": [
    "X_train.shape, X_test.shape"
   ]
  },
  {
   "cell_type": "markdown",
   "id": "5ccf3f85",
   "metadata": {
    "papermill": {
     "duration": 0.03273,
     "end_time": "2021-11-22T00:23:16.619226",
     "exception": false,
     "start_time": "2021-11-22T00:23:16.586496",
     "status": "completed"
    },
    "tags": []
   },
   "source": [
    "We reshape the data to flatten the image pixels into a set of features or co-variates:"
   ]
  },
  {
   "cell_type": "code",
   "execution_count": 14,
   "id": "5286a4a3",
   "metadata": {
    "execution": {
     "iopub.execute_input": "2021-11-22T00:23:16.712891Z",
     "iopub.status.busy": "2021-11-22T00:23:16.712231Z",
     "iopub.status.idle": "2021-11-22T00:23:16.727769Z",
     "shell.execute_reply": "2021-11-22T00:23:16.728235Z"
    },
    "papermill": {
     "duration": 0.065273,
     "end_time": "2021-11-22T00:23:16.728370",
     "exception": false,
     "start_time": "2021-11-22T00:23:16.663097",
     "status": "completed"
    },
    "tags": []
   },
   "outputs": [
    {
     "data": {
      "text/plain": [
       "((11982, 784), (1984, 784))"
      ]
     },
     "execution_count": 14,
     "metadata": {},
     "output_type": "execute_result"
    }
   ],
   "source": [
    "X_train = X_train.reshape(X_train.shape[0], -1)\n",
    "X_test = X_test.reshape(X_test.shape[0], -1)\n",
    "X_train.shape, X_test.shape"
   ]
  },
  {
   "cell_type": "code",
   "execution_count": 15,
   "id": "73c5f88a",
   "metadata": {
    "execution": {
     "iopub.execute_input": "2021-11-22T00:23:16.809307Z",
     "iopub.status.busy": "2021-11-22T00:23:16.808640Z",
     "iopub.status.idle": "2021-11-22T00:23:16.830451Z",
     "shell.execute_reply": "2021-11-22T00:23:16.829628Z"
    },
    "papermill": {
     "duration": 0.069615,
     "end_time": "2021-11-22T00:23:16.830578",
     "exception": false,
     "start_time": "2021-11-22T00:23:16.760963",
     "status": "completed"
    },
    "tags": []
   },
   "outputs": [],
   "source": [
    "#Impoting functions from 'Kudzu'\n",
    "from kudzu.model import Model\n",
    "from kudzu.train import Learner\n",
    "from kudzu.optim import GD\n",
    "from kudzu.data import Data, Sampler,Dataloader\n",
    "\n",
    "from kudzu.callbacks import AccCallback\n",
    "from kudzu.callbacks import ClfCallback\n",
    "\n",
    "from kudzu.loss import MSE\n",
    "\n",
    "from kudzu.layer import Sigmoid,Relu\n",
    "from kudzu.layer import Affine"
   ]
  },
  {
   "cell_type": "markdown",
   "id": "bc01172a",
   "metadata": {
    "papermill": {
     "duration": 0.036426,
     "end_time": "2021-11-22T00:23:16.898653",
     "exception": false,
     "start_time": "2021-11-22T00:23:16.862227",
     "status": "completed"
    },
    "tags": []
   },
   "source": [
    "### Let us create a `Config` class, to store important parameters. \n",
    "This class essentially plays the role of a dictionary."
   ]
  },
  {
   "cell_type": "code",
   "execution_count": 16,
   "id": "978281aa",
   "metadata": {
    "execution": {
     "iopub.execute_input": "2021-11-22T00:23:16.984697Z",
     "iopub.status.busy": "2021-11-22T00:23:16.984092Z",
     "iopub.status.idle": "2021-11-22T00:23:16.987406Z",
     "shell.execute_reply": "2021-11-22T00:23:16.986340Z"
    },
    "papermill": {
     "duration": 0.053857,
     "end_time": "2021-11-22T00:23:16.987547",
     "exception": false,
     "start_time": "2021-11-22T00:23:16.933690",
     "status": "completed"
    },
    "tags": []
   },
   "outputs": [],
   "source": [
    "class Config:\n",
    "    pass\n",
    "config = Config()\n",
    "config.lr = 0.001\n",
    "config.num_epochs = 250\n",
    "config.bs = 50"
   ]
  },
  {
   "cell_type": "markdown",
   "id": "1385fa59",
   "metadata": {
    "papermill": {
     "duration": 0.031586,
     "end_time": "2021-11-22T00:23:17.052333",
     "exception": false,
     "start_time": "2021-11-22T00:23:17.020747",
     "status": "completed"
    },
    "tags": []
   },
   "source": [
    "### Running Models with the Training data\n",
    "Details about the network layers:\n",
    "- A first affine layer has 784 inputs and does 100 affine transforms. These are followed by a Relu\n",
    "- A second affine layer has 100 inputs from the 100 activations of the past layer, and does 100 affine transforms. These are followed by a Relu\n",
    "- A third affine layer has 100 activations and does 2 affine transformations to create an embedding for visualization. There is no non-linearity here.\n",
    "- A final \"logistic regression\" which has an affine transform from 2 inputs to 1 output, which is squeezed through a sigmoid.\n"
   ]
  },
  {
   "cell_type": "code",
   "execution_count": 17,
   "id": "2b9c66db",
   "metadata": {
    "execution": {
     "iopub.execute_input": "2021-11-22T00:23:17.128626Z",
     "iopub.status.busy": "2021-11-22T00:23:17.125354Z",
     "iopub.status.idle": "2021-11-22T00:23:17.139906Z",
     "shell.execute_reply": "2021-11-22T00:23:17.140368Z"
    },
    "papermill": {
     "duration": 0.054794,
     "end_time": "2021-11-22T00:23:17.140510",
     "exception": false,
     "start_time": "2021-11-22T00:23:17.085716",
     "status": "completed"
    },
    "tags": []
   },
   "outputs": [],
   "source": [
    "data = Data(X_train, y_train.reshape(-1,1))\n",
    "sampler = Sampler(data, config.bs, shuffle=True)\n",
    "\n",
    "dl = Dataloader(data, sampler)\n",
    "\n",
    "opt = GD(config.lr)\n",
    "loss = MSE()"
   ]
  },
  {
   "cell_type": "code",
   "execution_count": 18,
   "id": "b275e4c2",
   "metadata": {
    "execution": {
     "iopub.execute_input": "2021-11-22T00:23:17.221928Z",
     "iopub.status.busy": "2021-11-22T00:23:17.216772Z",
     "iopub.status.idle": "2021-11-22T00:23:17.224714Z",
     "shell.execute_reply": "2021-11-22T00:23:17.224218Z"
    },
    "papermill": {
     "duration": 0.053528,
     "end_time": "2021-11-22T00:23:17.224842",
     "exception": false,
     "start_time": "2021-11-22T00:23:17.171314",
     "status": "completed"
    },
    "tags": []
   },
   "outputs": [],
   "source": [
    "training_data_x = X_train\n",
    "testing_data_x = X_test\n",
    "training_data_y = y_train.reshape(-1,1)\n",
    "testing_data_y = y_test.reshape(-1,1)"
   ]
  },
  {
   "cell_type": "code",
   "execution_count": 19,
   "id": "76951160",
   "metadata": {
    "execution": {
     "iopub.execute_input": "2021-11-22T00:23:17.291972Z",
     "iopub.status.busy": "2021-11-22T00:23:17.291276Z",
     "iopub.status.idle": "2021-11-22T00:23:17.307684Z",
     "shell.execute_reply": "2021-11-22T00:23:17.307107Z"
    },
    "papermill": {
     "duration": 0.051779,
     "end_time": "2021-11-22T00:23:17.307800",
     "exception": false,
     "start_time": "2021-11-22T00:23:17.256021",
     "status": "completed"
    },
    "tags": []
   },
   "outputs": [
    {
     "name": "stdout",
     "output_type": "stream",
     "text": [
      "xavier\n",
      "xavier\n",
      "xavier\n",
      "xavier\n",
      "xavier\n"
     ]
    }
   ],
   "source": [
    "layers = [Affine(\"first\", 784, 100), Relu(\"first\"), Affine(\"second\", 100, 100), Relu(\"second\"), Affine(\"third\", 100, 2), Affine(\"last\", 2, 1), Sigmoid(\"last\")]\n",
    "model_nn = Model(layers)\n",
    "model_lr = Model([Affine(\"logits\", 784, 1), Sigmoid(\"sigmoid\")])"
   ]
  },
  {
   "cell_type": "code",
   "execution_count": 20,
   "id": "6eede77a",
   "metadata": {
    "execution": {
     "iopub.execute_input": "2021-11-22T00:23:17.379245Z",
     "iopub.status.busy": "2021-11-22T00:23:17.378663Z",
     "iopub.status.idle": "2021-11-22T00:23:17.391111Z",
     "shell.execute_reply": "2021-11-22T00:23:17.390608Z"
    },
    "papermill": {
     "duration": 0.049512,
     "end_time": "2021-11-22T00:23:17.391227",
     "exception": false,
     "start_time": "2021-11-22T00:23:17.341715",
     "status": "completed"
    },
    "tags": []
   },
   "outputs": [],
   "source": [
    "nn_learner = Learner(loss, model_nn, opt, config.num_epochs)\n",
    "acc_nn = ClfCallback(nn_learner, config.bs, training_data_x , testing_data_x, training_data_y, testing_data_y)\n",
    "nn_learner.set_callbacks([acc_nn])"
   ]
  },
  {
   "cell_type": "code",
   "execution_count": 21,
   "id": "877b6cc7",
   "metadata": {
    "execution": {
     "iopub.execute_input": "2021-11-22T00:23:17.482038Z",
     "iopub.status.busy": "2021-11-22T00:23:17.481394Z",
     "iopub.status.idle": "2021-11-22T00:23:17.491009Z",
     "shell.execute_reply": "2021-11-22T00:23:17.489910Z"
    },
    "papermill": {
     "duration": 0.05625,
     "end_time": "2021-11-22T00:23:17.491144",
     "exception": false,
     "start_time": "2021-11-22T00:23:17.434894",
     "status": "completed"
    },
    "tags": []
   },
   "outputs": [],
   "source": [
    "lr_learner = Learner(loss, model_lr, opt, config.num_epochs)\n",
    "acc_lr = ClfCallback(lr_learner, config.bs, training_data_x , testing_data_x, training_data_y, testing_data_y)\n",
    "lr_learner.set_callbacks([acc_lr])"
   ]
  },
  {
   "cell_type": "code",
   "execution_count": 22,
   "id": "d9b133c3",
   "metadata": {
    "execution": {
     "iopub.execute_input": "2021-11-22T00:23:17.570791Z",
     "iopub.status.busy": "2021-11-22T00:23:17.563432Z",
     "iopub.status.idle": "2021-11-22T00:25:25.603001Z",
     "shell.execute_reply": "2021-11-22T00:25:25.603769Z"
    },
    "papermill": {
     "duration": 128.076879,
     "end_time": "2021-11-22T00:25:25.603931",
     "exception": false,
     "start_time": "2021-11-22T00:23:17.527052",
     "status": "completed"
    },
    "tags": []
   },
   "outputs": [
    {
     "name": "stdout",
     "output_type": "stream",
     "text": [
      "Epoch 0, Loss 0.2508\n",
      "Training Accuracy: 0.4816, Testing Accuracy: 0.5020\n",
      "\n"
     ]
    },
    {
     "name": "stdout",
     "output_type": "stream",
     "text": [
      "Epoch 10, Loss 0.216\n",
      "Training Accuracy: 0.8835, Testing Accuracy: 0.9093\n",
      "\n"
     ]
    },
    {
     "name": "stdout",
     "output_type": "stream",
     "text": [
      "Epoch 20, Loss 0.1135\n",
      "Training Accuracy: 0.9211, Testing Accuracy: 0.9380\n",
      "\n"
     ]
    },
    {
     "name": "stdout",
     "output_type": "stream",
     "text": [
      "Epoch 30, Loss 0.0639\n",
      "Training Accuracy: 0.9372, Testing Accuracy: 0.9521\n",
      "\n"
     ]
    },
    {
     "name": "stdout",
     "output_type": "stream",
     "text": [
      "Epoch 40, Loss 0.049\n",
      "Training Accuracy: 0.9466, Testing Accuracy: 0.9607\n",
      "\n"
     ]
    },
    {
     "name": "stdout",
     "output_type": "stream",
     "text": [
      "Epoch 50, Loss 0.0421\n",
      "Training Accuracy: 0.9528, Testing Accuracy: 0.9627\n",
      "\n"
     ]
    },
    {
     "name": "stdout",
     "output_type": "stream",
     "text": [
      "Epoch 60, Loss 0.0381\n",
      "Training Accuracy: 0.9560, Testing Accuracy: 0.9642\n",
      "\n"
     ]
    },
    {
     "name": "stdout",
     "output_type": "stream",
     "text": [
      "Epoch 70, Loss 0.0355\n",
      "Training Accuracy: 0.9590, Testing Accuracy: 0.9667\n",
      "\n"
     ]
    },
    {
     "name": "stdout",
     "output_type": "stream",
     "text": [
      "Epoch 80, Loss 0.0336\n",
      "Training Accuracy: 0.9611, Testing Accuracy: 0.9693\n",
      "\n"
     ]
    },
    {
     "name": "stdout",
     "output_type": "stream",
     "text": [
      "Epoch 90, Loss 0.0321\n",
      "Training Accuracy: 0.9626, Testing Accuracy: 0.9693\n",
      "\n"
     ]
    },
    {
     "name": "stdout",
     "output_type": "stream",
     "text": [
      "Epoch 100, Loss 0.0308\n",
      "Training Accuracy: 0.9641, Testing Accuracy: 0.9708\n",
      "\n"
     ]
    },
    {
     "name": "stdout",
     "output_type": "stream",
     "text": [
      "Epoch 110, Loss 0.0298\n",
      "Training Accuracy: 0.9656, Testing Accuracy: 0.9708\n",
      "\n"
     ]
    },
    {
     "name": "stdout",
     "output_type": "stream",
     "text": [
      "Epoch 120, Loss 0.0289\n",
      "Training Accuracy: 0.9664, Testing Accuracy: 0.9708\n",
      "\n"
     ]
    },
    {
     "name": "stdout",
     "output_type": "stream",
     "text": [
      "Epoch 130, Loss 0.0282\n",
      "Training Accuracy: 0.9676, Testing Accuracy: 0.9708\n",
      "\n"
     ]
    },
    {
     "name": "stdout",
     "output_type": "stream",
     "text": [
      "Epoch 140, Loss 0.0275\n",
      "Training Accuracy: 0.9682, Testing Accuracy: 0.9703\n",
      "\n"
     ]
    },
    {
     "name": "stdout",
     "output_type": "stream",
     "text": [
      "Epoch 150, Loss 0.0268\n",
      "Training Accuracy: 0.9685, Testing Accuracy: 0.9703\n",
      "\n"
     ]
    },
    {
     "name": "stdout",
     "output_type": "stream",
     "text": [
      "Epoch 160, Loss 0.0263\n",
      "Training Accuracy: 0.9688, Testing Accuracy: 0.9708\n",
      "\n"
     ]
    },
    {
     "name": "stdout",
     "output_type": "stream",
     "text": [
      "Epoch 170, Loss 0.0257\n",
      "Training Accuracy: 0.9695, Testing Accuracy: 0.9708\n",
      "\n"
     ]
    },
    {
     "name": "stdout",
     "output_type": "stream",
     "text": [
      "Epoch 180, Loss 0.0253\n",
      "Training Accuracy: 0.9699, Testing Accuracy: 0.9708\n",
      "\n"
     ]
    },
    {
     "name": "stdout",
     "output_type": "stream",
     "text": [
      "Epoch 190, Loss 0.0248\n",
      "Training Accuracy: 0.9705, Testing Accuracy: 0.9703\n",
      "\n"
     ]
    },
    {
     "name": "stdout",
     "output_type": "stream",
     "text": [
      "Epoch 200, Loss 0.0244\n",
      "Training Accuracy: 0.9712, Testing Accuracy: 0.9703\n",
      "\n"
     ]
    },
    {
     "name": "stdout",
     "output_type": "stream",
     "text": [
      "Epoch 210, Loss 0.0239\n",
      "Training Accuracy: 0.9718, Testing Accuracy: 0.9698\n",
      "\n"
     ]
    },
    {
     "name": "stdout",
     "output_type": "stream",
     "text": [
      "Epoch 220, Loss 0.0236\n",
      "Training Accuracy: 0.9725, Testing Accuracy: 0.9703\n",
      "\n"
     ]
    },
    {
     "name": "stdout",
     "output_type": "stream",
     "text": [
      "Epoch 230, Loss 0.0232\n",
      "Training Accuracy: 0.9734, Testing Accuracy: 0.9703\n",
      "\n"
     ]
    },
    {
     "name": "stdout",
     "output_type": "stream",
     "text": [
      "Epoch 240, Loss 0.0229\n",
      "Training Accuracy: 0.9739, Testing Accuracy: 0.9698\n",
      "\n"
     ]
    },
    {
     "data": {
      "text/plain": [
       "0.021753452206265907"
      ]
     },
     "execution_count": 22,
     "metadata": {},
     "output_type": "execute_result"
    }
   ],
   "source": [
    "nn_learner.train_loop(dl)"
   ]
  },
  {
   "cell_type": "code",
   "execution_count": 23,
   "id": "e0163366",
   "metadata": {
    "execution": {
     "iopub.execute_input": "2021-11-22T00:25:25.697290Z",
     "iopub.status.busy": "2021-11-22T00:25:25.696663Z",
     "iopub.status.idle": "2021-11-22T00:25:44.228423Z",
     "shell.execute_reply": "2021-11-22T00:25:44.230585Z"
    },
    "papermill": {
     "duration": 18.584213,
     "end_time": "2021-11-22T00:25:44.230761",
     "exception": false,
     "start_time": "2021-11-22T00:25:25.646548",
     "status": "completed"
    },
    "tags": []
   },
   "outputs": [
    {
     "name": "stdout",
     "output_type": "stream",
     "text": [
      "Epoch 0, Loss 0.2409\n",
      "Training Accuracy: 0.6629, Testing Accuracy: 0.6830\n",
      "\n"
     ]
    },
    {
     "name": "stdout",
     "output_type": "stream",
     "text": [
      "Epoch 10, Loss 0.1085\n",
      "Training Accuracy: 0.8927, Testing Accuracy: 0.9047\n",
      "\n"
     ]
    },
    {
     "name": "stdout",
     "output_type": "stream",
     "text": [
      "Epoch 20, Loss 0.0825\n",
      "Training Accuracy: 0.9207, Testing Accuracy: 0.9335\n",
      "\n"
     ]
    },
    {
     "name": "stdout",
     "output_type": "stream",
     "text": [
      "Epoch 30, Loss 0.0704\n",
      "Training Accuracy: 0.9320, Testing Accuracy: 0.9466\n",
      "\n"
     ]
    },
    {
     "name": "stdout",
     "output_type": "stream",
     "text": [
      "Epoch 40, Loss 0.0632\n",
      "Training Accuracy: 0.9395, Testing Accuracy: 0.9536\n",
      "\n"
     ]
    },
    {
     "name": "stdout",
     "output_type": "stream",
     "text": [
      "Epoch 50, Loss 0.0583\n",
      "Training Accuracy: 0.9442, Testing Accuracy: 0.9572\n",
      "\n"
     ]
    },
    {
     "name": "stdout",
     "output_type": "stream",
     "text": [
      "Epoch 60, Loss 0.0548\n",
      "Training Accuracy: 0.9461, Testing Accuracy: 0.9587\n",
      "\n"
     ]
    },
    {
     "name": "stdout",
     "output_type": "stream",
     "text": [
      "Epoch 70, Loss 0.0521\n",
      "Training Accuracy: 0.9485, Testing Accuracy: 0.9607\n",
      "\n"
     ]
    },
    {
     "name": "stdout",
     "output_type": "stream",
     "text": [
      "Epoch 80, Loss 0.0499\n",
      "Training Accuracy: 0.9505, Testing Accuracy: 0.9612\n",
      "\n"
     ]
    },
    {
     "name": "stdout",
     "output_type": "stream",
     "text": [
      "Epoch 90, Loss 0.0482\n",
      "Training Accuracy: 0.9514, Testing Accuracy: 0.9632\n",
      "\n"
     ]
    },
    {
     "name": "stdout",
     "output_type": "stream",
     "text": [
      "Epoch 100, Loss 0.0467\n",
      "Training Accuracy: 0.9526, Testing Accuracy: 0.9642\n",
      "\n"
     ]
    },
    {
     "name": "stdout",
     "output_type": "stream",
     "text": [
      "Epoch 110, Loss 0.0454\n",
      "Training Accuracy: 0.9535, Testing Accuracy: 0.9657\n",
      "\n"
     ]
    },
    {
     "name": "stdout",
     "output_type": "stream",
     "text": [
      "Epoch 120, Loss 0.0443\n",
      "Training Accuracy: 0.9540, Testing Accuracy: 0.9657\n",
      "\n"
     ]
    },
    {
     "name": "stdout",
     "output_type": "stream",
     "text": [
      "Epoch 130, Loss 0.0433\n",
      "Training Accuracy: 0.9549, Testing Accuracy: 0.9662\n",
      "\n"
     ]
    },
    {
     "name": "stdout",
     "output_type": "stream",
     "text": [
      "Epoch 140, Loss 0.0425\n",
      "Training Accuracy: 0.9553, Testing Accuracy: 0.9672\n",
      "\n"
     ]
    },
    {
     "name": "stdout",
     "output_type": "stream",
     "text": [
      "Epoch 150, Loss 0.0417\n",
      "Training Accuracy: 0.9555, Testing Accuracy: 0.9672\n",
      "\n"
     ]
    },
    {
     "name": "stdout",
     "output_type": "stream",
     "text": [
      "Epoch 160, Loss 0.041\n",
      "Training Accuracy: 0.9563, Testing Accuracy: 0.9677\n",
      "\n"
     ]
    },
    {
     "name": "stdout",
     "output_type": "stream",
     "text": [
      "Epoch 170, Loss 0.0404\n",
      "Training Accuracy: 0.9565, Testing Accuracy: 0.9682\n",
      "\n"
     ]
    },
    {
     "name": "stdout",
     "output_type": "stream",
     "text": [
      "Epoch 180, Loss 0.0398\n",
      "Training Accuracy: 0.9569, Testing Accuracy: 0.9693\n",
      "\n"
     ]
    },
    {
     "name": "stdout",
     "output_type": "stream",
     "text": [
      "Epoch 190, Loss 0.0393\n",
      "Training Accuracy: 0.9569, Testing Accuracy: 0.9693\n",
      "\n"
     ]
    },
    {
     "name": "stdout",
     "output_type": "stream",
     "text": [
      "Epoch 200, Loss 0.0388\n",
      "Training Accuracy: 0.9576, Testing Accuracy: 0.9693\n",
      "\n"
     ]
    },
    {
     "name": "stdout",
     "output_type": "stream",
     "text": [
      "Epoch 210, Loss 0.0383\n",
      "Training Accuracy: 0.9587, Testing Accuracy: 0.9693\n",
      "\n"
     ]
    },
    {
     "name": "stdout",
     "output_type": "stream",
     "text": [
      "Epoch 220, Loss 0.0379\n",
      "Training Accuracy: 0.9592, Testing Accuracy: 0.9698\n",
      "\n"
     ]
    },
    {
     "name": "stdout",
     "output_type": "stream",
     "text": [
      "Epoch 230, Loss 0.0375\n",
      "Training Accuracy: 0.9597, Testing Accuracy: 0.9698\n",
      "\n"
     ]
    },
    {
     "name": "stdout",
     "output_type": "stream",
     "text": [
      "Epoch 240, Loss 0.0372\n",
      "Training Accuracy: 0.9601, Testing Accuracy: 0.9698\n",
      "\n"
     ]
    },
    {
     "data": {
      "text/plain": [
       "0.05106412973639526"
      ]
     },
     "execution_count": 23,
     "metadata": {},
     "output_type": "execute_result"
    }
   ],
   "source": [
    "lr_learner.train_loop(dl)"
   ]
  },
  {
   "cell_type": "code",
   "execution_count": 24,
   "id": "ca410940",
   "metadata": {
    "execution": {
     "iopub.execute_input": "2021-11-22T00:25:44.341276Z",
     "iopub.status.busy": "2021-11-22T00:25:44.340626Z",
     "iopub.status.idle": "2021-11-22T00:25:44.608909Z",
     "shell.execute_reply": "2021-11-22T00:25:44.609362Z"
    },
    "papermill": {
     "duration": 0.327597,
     "end_time": "2021-11-22T00:25:44.609517",
     "exception": false,
     "start_time": "2021-11-22T00:25:44.281920",
     "status": "completed"
    },
    "tags": []
   },
   "outputs": [
    {
     "data": {
      "text/plain": [
       "<matplotlib.legend.Legend at 0x7f03a26347f0>"
      ]
     },
     "execution_count": 24,
     "metadata": {},
     "output_type": "execute_result"
    },
    {
     "data": {
      "image/png": "[encoded data removed]",
      "text/plain": [
       "<Figure size 1080x720 with 1 Axes>"
      ]
     },
     "metadata": {
      "needs_background": "light"
     },
     "output_type": "display_data"
    }
   ],
   "source": [
    "#comparing the results of NN and LR\n",
    "plt.figure(figsize=(15,10))\n",
    "\n",
    "# Neural Network plots\n",
    "plt.plot(acc_nn.accuracies, 'r-', label = \"Training Accuracies - NN\")\n",
    "plt.plot(acc_nn.test_accuracies, 'g-', label = \"Testing Accuracies - NN\")\n",
    "\n",
    "# Logistic Regression plots\n",
    "plt.plot(acc_lr.accuracies, 'k-', label = \"Training Accuracies - LR\")\n",
    "plt.plot(acc_lr.test_accuracies, 'b-', label = \"Testing Accuracies - LR\")\n",
    "plt.legend()"
   ]
  },
  {
   "cell_type": "markdown",
   "id": "80dfb35c",
   "metadata": {
    "papermill": {
     "duration": 0.047306,
     "end_time": "2021-11-22T00:25:44.707380",
     "exception": false,
     "start_time": "2021-11-22T00:25:44.660074",
     "status": "completed"
    },
    "tags": []
   },
   "source": [
    "#### Plotting the outputs of this layer of the NN.\n"
   ]
  },
  {
   "cell_type": "code",
   "execution_count": 25,
   "id": "45eb2ff5",
   "metadata": {
    "execution": {
     "iopub.execute_input": "2021-11-22T00:25:44.817450Z",
     "iopub.status.busy": "2021-11-22T00:25:44.816455Z",
     "iopub.status.idle": "2021-11-22T00:25:44.839337Z",
     "shell.execute_reply": "2021-11-22T00:25:44.839870Z"
    },
    "papermill": {
     "duration": 0.082809,
     "end_time": "2021-11-22T00:25:44.840027",
     "exception": false,
     "start_time": "2021-11-22T00:25:44.757218",
     "status": "completed"
    },
    "tags": []
   },
   "outputs": [],
   "source": [
    "new_model = Model(layers[:-2])\n",
    "testing_plot = new_model(testing_data_x)"
   ]
  },
  {
   "cell_type": "code",
   "execution_count": 26,
   "id": "4c0a5485",
   "metadata": {
    "execution": {
     "iopub.execute_input": "2021-11-22T00:25:44.954828Z",
     "iopub.status.busy": "2021-11-22T00:25:44.948520Z",
     "iopub.status.idle": "2021-11-22T00:25:45.198495Z",
     "shell.execute_reply": "2021-11-22T00:25:45.198006Z"
    },
    "papermill": {
     "duration": 0.305779,
     "end_time": "2021-11-22T00:25:45.198625",
     "exception": false,
     "start_time": "2021-11-22T00:25:44.892846",
     "status": "completed"
    },
    "tags": []
   },
   "outputs": [
    {
     "data": {
      "text/plain": [
       "Text(0.5, 1.0, 'Outputs')"
      ]
     },
     "execution_count": 26,
     "metadata": {},
     "output_type": "execute_result"
    },
    {
     "data": {
      "image/png": "[encoded data removed]",
      "text/plain": [
       "<Figure size 576x504 with 1 Axes>"
      ]
     },
     "metadata": {
      "needs_background": "light"
     },
     "output_type": "display_data"
    }
   ],
   "source": [
    "# Plotting the scatter plot of points and color coding by class\n",
    "plt.figure(figsize=(8,7))\n",
    "plt.scatter(testing_plot[:,0], testing_plot[:,1], alpha = 0.1, c = y_test.ravel());\n",
    "plt.title('Outputs')"
   ]
  },
  {
   "cell_type": "markdown",
   "id": "a74fcf8f",
   "metadata": {
    "papermill": {
     "duration": 0.051035,
     "end_time": "2021-11-22T00:25:45.301150",
     "exception": false,
     "start_time": "2021-11-22T00:25:45.250115",
     "status": "completed"
    },
    "tags": []
   },
   "source": [
    "Probability contours"
   ]
  },
  {
   "cell_type": "code",
   "execution_count": 27,
   "id": "d0afc8e3",
   "metadata": {
    "execution": {
     "iopub.execute_input": "2021-11-22T00:25:45.434742Z",
     "iopub.status.busy": "2021-11-22T00:25:45.431538Z",
     "iopub.status.idle": "2021-11-22T00:25:45.444624Z",
     "shell.execute_reply": "2021-11-22T00:25:45.444059Z"
    },
    "papermill": {
     "duration": 0.069993,
     "end_time": "2021-11-22T00:25:45.444751",
     "exception": false,
     "start_time": "2021-11-22T00:25:45.374758",
     "status": "completed"
    },
    "tags": []
   },
   "outputs": [],
   "source": [
    "model_prob = Model(layers[-2:]) "
   ]
  },
  {
   "cell_type": "code",
   "execution_count": 28,
   "id": "9b96e238",
   "metadata": {
    "execution": {
     "iopub.execute_input": "2021-11-22T00:25:45.559777Z",
     "iopub.status.busy": "2021-11-22T00:25:45.559132Z",
     "iopub.status.idle": "2021-11-22T00:25:45.573156Z",
     "shell.execute_reply": "2021-11-22T00:25:45.573615Z"
    },
    "papermill": {
     "duration": 0.073395,
     "end_time": "2021-11-22T00:25:45.573760",
     "exception": false,
     "start_time": "2021-11-22T00:25:45.500365",
     "status": "completed"
    },
    "tags": []
   },
   "outputs": [],
   "source": [
    "#creating the x and y ranges according to the above generated plot.\n",
    "x_range = np.linspace(-4, 1, 100) \n",
    "y_range = np.linspace(-6, 6, 100) \n",
    "x_grid, y_grid = np.meshgrid(x_range, y_range) # x_grid and y_grig are of size 100 X 100\n",
    "\n",
    "# converting x_grid and y_grid to continuous arrays\n",
    "x_gridflat = np.ravel(x_grid)\n",
    "y_gridflat = np.ravel(y_grid)\n",
    "\n",
    "# The last layer of the current model takes two columns as input. Hence transpose of np.vstack() is required.\n",
    "X = np.vstack((x_gridflat, y_gridflat)).T\n",
    "\n",
    "prob_contour = model_prob(X).reshape(100,100) "
   ]
  },
  {
   "cell_type": "code",
   "execution_count": 29,
   "id": "da72499a",
   "metadata": {
    "execution": {
     "iopub.execute_input": "2021-11-22T00:25:45.688459Z",
     "iopub.status.busy": "2021-11-22T00:25:45.687831Z",
     "iopub.status.idle": "2021-11-22T00:25:46.034726Z",
     "shell.execute_reply": "2021-11-22T00:25:46.034210Z"
    },
    "papermill": {
     "duration": 0.409511,
     "end_time": "2021-11-22T00:25:46.034857",
     "exception": false,
     "start_time": "2021-11-22T00:25:45.625346",
     "status": "completed"
    },
    "tags": []
   },
   "outputs": [
    {
     "data": {
      "image/png": "[encoded data removed]",
      "text/plain": [
       "<Figure size 720x648 with 1 Axes>"
      ]
     },
     "metadata": {
      "needs_background": "light"
     },
     "output_type": "display_data"
    }
   ],
   "source": [
    "plt.figure(figsize=(10,9))\n",
    "plt.scatter(testing_plot[:,0], testing_plot[:,1], alpha = 0.1, c = y_test.ravel())\n",
    "contours = plt.contour(x_grid,y_grid,prob_contour)\n",
    "plt.title('Probability Contours')\n",
    "plt.clabel(contours, inline = True );"
   ]
  },
  {
   "cell_type": "code",
   "execution_count": null,
   "id": "e81b4ac7",
   "metadata": {
    "papermill": {
     "duration": 0.055444,
     "end_time": "2021-11-22T00:25:46.149879",
     "exception": false,
     "start_time": "2021-11-22T00:25:46.094435",
     "status": "completed"
    },
    "tags": []
   },
   "outputs": [],
   "source": []
  }
 ],
 "metadata": {
  "kernelspec": {
   "display_name": "Python 3",
   "language": "python",
   "name": "python3"
  },
  "language_info": {
   "codemirror_mode": {
    "name": "ipython",
    "version": 3
   },
   "file_extension": ".py",
   "mimetype": "text/x-python",
   "name": "python",
   "nbconvert_exporter": "python",
   "pygments_lexer": "ipython3",
   "version": "3.6.15"
  },
  "papermill": {
   "default_parameters": {},
   "duration": 156.456856,
   "end_time": "2021-11-22T00:25:46.622669",
   "environment_variables": {},
   "exception": null,
   "input_path": "2020-08-11-part2.ipynb",
   "output_path": "2020-08-11-part2.ipynb",
   "parameters": {},
   "start_time": "2021-11-22T00:23:10.165813",
   "version": "2.3.3"
  }
 },
 "nbformat": 4,
 "nbformat_minor": 5
}