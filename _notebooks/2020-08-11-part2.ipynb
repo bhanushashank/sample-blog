{
 "cells": [
  {
   "cell_type": "markdown",
   "id": "98380cd3",
   "metadata": {
    "papermill": {
     "duration": 0.032762,
     "end_time": "2021-12-18T20:08:29.843670",
     "exception": false,
     "start_time": "2021-12-18T20:08:29.810908",
     "status": "completed"
    },
    "tags": []
   },
   "source": [
    "# Distinguish Your Own Digits (DYOD)"
   ]
  },
  {
   "cell_type": "markdown",
   "id": "ef31240d",
   "metadata": {
    "papermill": {
     "duration": 0.026039,
     "end_time": "2021-12-18T20:08:29.896226",
     "exception": false,
     "start_time": "2021-12-18T20:08:29.870187",
     "status": "completed"
    },
    "tags": []
   },
   "source": [
    "You are going to write a classifier that distinguishes between the number 3 and number 8."
   ]
  },
  {
   "cell_type": "code",
   "execution_count": 1,
   "id": "b15c8646",
   "metadata": {
    "execution": {
     "iopub.execute_input": "2021-12-18T20:08:29.962982Z",
     "iopub.status.busy": "2021-12-18T20:08:29.962407Z",
     "iopub.status.idle": "2021-12-18T20:08:29.973688Z",
     "shell.execute_reply": "2021-12-18T20:08:29.973188Z"
    },
    "papermill": {
     "duration": 0.051656,
     "end_time": "2021-12-18T20:08:29.973830",
     "exception": false,
     "start_time": "2021-12-18T20:08:29.922174",
     "status": "completed"
    },
    "tags": []
   },
   "outputs": [],
   "source": [
    "%load_ext autoreload\n",
    "%autoreload 2"
   ]
  },
  {
   "cell_type": "code",
   "execution_count": 2,
   "id": "22ef38dc",
   "metadata": {
    "execution": {
     "iopub.execute_input": "2021-12-18T20:08:30.030779Z",
     "iopub.status.busy": "2021-12-18T20:08:30.030070Z",
     "iopub.status.idle": "2021-12-18T20:08:30.696610Z",
     "shell.execute_reply": "2021-12-18T20:08:30.695443Z"
    },
    "papermill": {
     "duration": 0.696791,
     "end_time": "2021-12-18T20:08:30.696780",
     "exception": false,
     "start_time": "2021-12-18T20:08:29.999989",
     "status": "completed"
    },
    "tags": []
   },
   "outputs": [],
   "source": [
    "%matplotlib inline\n",
    "import numpy as np\n",
    "import matplotlib.pyplot as plt\n",
    "import pandas as pd"
   ]
  },
  {
   "cell_type": "markdown",
   "id": "ba036198",
   "metadata": {
    "papermill": {
     "duration": 0.026445,
     "end_time": "2021-12-18T20:08:30.750226",
     "exception": false,
     "start_time": "2021-12-18T20:08:30.723781",
     "status": "completed"
    },
    "tags": []
   },
   "source": [
    "From the command line run `pip install mnist`. This is a library that will help you bring down the mnist dataset. If you run this from a notebook, you need to put  `!pip install mnist` in a cell by itself."
   ]
  },
  {
   "cell_type": "code",
   "execution_count": 3,
   "id": "bb6ad8a1",
   "metadata": {
    "execution": {
     "iopub.execute_input": "2021-12-18T20:08:30.808639Z",
     "iopub.status.busy": "2021-12-18T20:08:30.807582Z",
     "iopub.status.idle": "2021-12-18T20:08:32.872279Z",
     "shell.execute_reply": "2021-12-18T20:08:32.871609Z"
    },
    "papermill": {
     "duration": 2.096252,
     "end_time": "2021-12-18T20:08:32.872426",
     "exception": false,
     "start_time": "2021-12-18T20:08:30.776174",
     "status": "completed"
    },
    "tags": []
   },
   "outputs": [
    {
     "name": "stdout",
     "output_type": "stream",
     "text": [
      "Collecting mnist\r\n"
     ]
    },
    {
     "name": "stdout",
     "output_type": "stream",
     "text": [
      "  Downloading mnist-0.2.2-py2.py3-none-any.whl (3.5 kB)\r\n",
      "Requirement already satisfied: numpy in /opt/hostedtoolcache/Python/3.6.15/x64/lib/python3.6/site-packages (from mnist) (1.19.5)\r\n"
     ]
    },
    {
     "name": "stdout",
     "output_type": "stream",
     "text": [
      "Installing collected packages: mnist\r\n",
      "Successfully installed mnist-0.2.2\r\n"
     ]
    }
   ],
   "source": [
    "!pip install mnist"
   ]
  },
  {
   "cell_type": "markdown",
   "id": "69df9c9a",
   "metadata": {
    "papermill": {
     "duration": 0.026567,
     "end_time": "2021-12-18T20:08:32.926485",
     "exception": false,
     "start_time": "2021-12-18T20:08:32.899918",
     "status": "completed"
    },
    "tags": []
   },
   "source": [
    "## Preparing the Data"
   ]
  },
  {
   "cell_type": "code",
   "execution_count": 4,
   "id": "7f69d806",
   "metadata": {
    "execution": {
     "iopub.execute_input": "2021-12-18T20:08:32.991285Z",
     "iopub.status.busy": "2021-12-18T20:08:32.986575Z",
     "iopub.status.idle": "2021-12-18T20:08:33.003647Z",
     "shell.execute_reply": "2021-12-18T20:08:33.004098Z"
    },
    "papermill": {
     "duration": 0.050856,
     "end_time": "2021-12-18T20:08:33.004232",
     "exception": false,
     "start_time": "2021-12-18T20:08:32.953376",
     "status": "completed"
    },
    "tags": []
   },
   "outputs": [],
   "source": [
    "import mnist"
   ]
  },
  {
   "cell_type": "code",
   "execution_count": 5,
   "id": "a411e44f",
   "metadata": {
    "execution": {
     "iopub.execute_input": "2021-12-18T20:08:33.065728Z",
     "iopub.status.busy": "2021-12-18T20:08:33.063165Z",
     "iopub.status.idle": "2021-12-18T20:08:33.708277Z",
     "shell.execute_reply": "2021-12-18T20:08:33.707383Z"
    },
    "papermill": {
     "duration": 0.677081,
     "end_time": "2021-12-18T20:08:33.708501",
     "exception": false,
     "start_time": "2021-12-18T20:08:33.031420",
     "status": "completed"
    },
    "tags": []
   },
   "outputs": [],
   "source": [
    "train_images = mnist.train_images()\n",
    "train_labels = mnist.train_labels()"
   ]
  },
  {
   "cell_type": "code",
   "execution_count": 6,
   "id": "dceab3a5",
   "metadata": {
    "execution": {
     "iopub.execute_input": "2021-12-18T20:08:33.771466Z",
     "iopub.status.busy": "2021-12-18T20:08:33.770813Z",
     "iopub.status.idle": "2021-12-18T20:08:33.787854Z",
     "shell.execute_reply": "2021-12-18T20:08:33.787346Z"
    },
    "papermill": {
     "duration": 0.049687,
     "end_time": "2021-12-18T20:08:33.787978",
     "exception": false,
     "start_time": "2021-12-18T20:08:33.738291",
     "status": "completed"
    },
    "tags": []
   },
   "outputs": [
    {
     "data": {
      "text/plain": [
       "((60000, 28, 28), (60000,))"
      ]
     },
     "execution_count": 6,
     "metadata": {},
     "output_type": "execute_result"
    }
   ],
   "source": [
    "train_images.shape, train_labels.shape"
   ]
  },
  {
   "cell_type": "code",
   "execution_count": 7,
   "id": "f50dc2bb",
   "metadata": {
    "execution": {
     "iopub.execute_input": "2021-12-18T20:08:33.854542Z",
     "iopub.status.busy": "2021-12-18T20:08:33.853943Z",
     "iopub.status.idle": "2021-12-18T20:08:34.098825Z",
     "shell.execute_reply": "2021-12-18T20:08:34.098292Z"
    },
    "papermill": {
     "duration": 0.282622,
     "end_time": "2021-12-18T20:08:34.098973",
     "exception": false,
     "start_time": "2021-12-18T20:08:33.816351",
     "status": "completed"
    },
    "tags": []
   },
   "outputs": [],
   "source": [
    "test_images = mnist.test_images()\n",
    "test_labels = mnist.test_labels()"
   ]
  },
  {
   "cell_type": "code",
   "execution_count": 8,
   "id": "fc38cf1b",
   "metadata": {
    "execution": {
     "iopub.execute_input": "2021-12-18T20:08:34.162588Z",
     "iopub.status.busy": "2021-12-18T20:08:34.161943Z",
     "iopub.status.idle": "2021-12-18T20:08:34.174324Z",
     "shell.execute_reply": "2021-12-18T20:08:34.174911Z"
    },
    "papermill": {
     "duration": 0.048171,
     "end_time": "2021-12-18T20:08:34.175050",
     "exception": false,
     "start_time": "2021-12-18T20:08:34.126879",
     "status": "completed"
    },
    "tags": []
   },
   "outputs": [
    {
     "data": {
      "text/plain": [
       "((10000, 28, 28), (10000,))"
      ]
     },
     "execution_count": 8,
     "metadata": {},
     "output_type": "execute_result"
    }
   ],
   "source": [
    "test_images.shape, test_labels.shape"
   ]
  },
  {
   "cell_type": "code",
   "execution_count": 9,
   "id": "f9ed8fe0",
   "metadata": {
    "execution": {
     "iopub.execute_input": "2021-12-18T20:08:34.235356Z",
     "iopub.status.busy": "2021-12-18T20:08:34.234797Z",
     "iopub.status.idle": "2021-12-18T20:08:34.399074Z",
     "shell.execute_reply": "2021-12-18T20:08:34.398480Z"
    },
    "papermill": {
     "duration": 0.195802,
     "end_time": "2021-12-18T20:08:34.399231",
     "exception": false,
     "start_time": "2021-12-18T20:08:34.203429",
     "status": "completed"
    },
    "tags": []
   },
   "outputs": [
    {
     "name": "stdout",
     "output_type": "stream",
     "text": [
      "2\n"
     ]
    },
    {
     "data": {
      "text/plain": [
       "<matplotlib.image.AxesImage at 0x7fd8d8f9a550>"
      ]
     },
     "execution_count": 9,
     "metadata": {},
     "output_type": "execute_result"
    },
    {
     "data": {
      "image/png": "[encoded data removed]",
      "text/plain": [
       "<Figure size 432x288 with 1 Axes>"
      ]
     },
     "metadata": {
      "needs_background": "light"
     },
     "output_type": "display_data"
    }
   ],
   "source": [
    "image_index = 7776 # You may select anything up to 60,000\n",
    "print(train_labels[image_index]) \n",
    "plt.imshow(train_images[image_index], cmap='Greys')"
   ]
  },
  {
   "cell_type": "markdown",
   "id": "a8d2388d",
   "metadata": {
    "papermill": {
     "duration": 0.029889,
     "end_time": "2021-12-18T20:08:34.461019",
     "exception": false,
     "start_time": "2021-12-18T20:08:34.431130",
     "status": "completed"
    },
    "tags": []
   },
   "source": [
    "## Filter data to get 3 and 8 out"
   ]
  },
  {
   "cell_type": "code",
   "execution_count": 10,
   "id": "776f7fc7",
   "metadata": {
    "execution": {
     "iopub.execute_input": "2021-12-18T20:08:34.530370Z",
     "iopub.status.busy": "2021-12-18T20:08:34.529739Z",
     "iopub.status.idle": "2021-12-18T20:08:34.550807Z",
     "shell.execute_reply": "2021-12-18T20:08:34.550166Z"
    },
    "papermill": {
     "duration": 0.054953,
     "end_time": "2021-12-18T20:08:34.550982",
     "exception": false,
     "start_time": "2021-12-18T20:08:34.496029",
     "status": "completed"
    },
    "tags": []
   },
   "outputs": [],
   "source": [
    "train_filter = np.where((train_labels == 3 ) | (train_labels == 8))\n",
    "test_filter = np.where((test_labels == 3) | (test_labels == 8))\n",
    "X_train, y_train = train_images[train_filter], train_labels[train_filter]\n",
    "X_test, y_test = test_images[test_filter], test_labels[test_filter]"
   ]
  },
  {
   "cell_type": "markdown",
   "id": "948f0b7e",
   "metadata": {
    "papermill": {
     "duration": 0.028598,
     "end_time": "2021-12-18T20:08:34.609089",
     "exception": false,
     "start_time": "2021-12-18T20:08:34.580491",
     "status": "completed"
    },
    "tags": []
   },
   "source": [
    "We normalize the pizel values in the 0 to 1 range"
   ]
  },
  {
   "cell_type": "code",
   "execution_count": 11,
   "id": "ee4c2166",
   "metadata": {
    "execution": {
     "iopub.execute_input": "2021-12-18T20:08:34.672771Z",
     "iopub.status.busy": "2021-12-18T20:08:34.672145Z",
     "iopub.status.idle": "2021-12-18T20:08:34.728241Z",
     "shell.execute_reply": "2021-12-18T20:08:34.727536Z"
    },
    "papermill": {
     "duration": 0.089903,
     "end_time": "2021-12-18T20:08:34.728369",
     "exception": false,
     "start_time": "2021-12-18T20:08:34.638466",
     "status": "completed"
    },
    "tags": []
   },
   "outputs": [],
   "source": [
    "X_train = X_train/255.\n",
    "X_test = X_test/255."
   ]
  },
  {
   "cell_type": "markdown",
   "id": "ddcf4fab",
   "metadata": {
    "papermill": {
     "duration": 0.028671,
     "end_time": "2021-12-18T20:08:34.785819",
     "exception": false,
     "start_time": "2021-12-18T20:08:34.757148",
     "status": "completed"
    },
    "tags": []
   },
   "source": [
    "And setup the labels as 1 (when the digit is 3) and 0 (when the digit is 8)"
   ]
  },
  {
   "cell_type": "code",
   "execution_count": 12,
   "id": "7dc908f2",
   "metadata": {
    "execution": {
     "iopub.execute_input": "2021-12-18T20:08:34.853328Z",
     "iopub.status.busy": "2021-12-18T20:08:34.852718Z",
     "iopub.status.idle": "2021-12-18T20:08:34.863305Z",
     "shell.execute_reply": "2021-12-18T20:08:34.862821Z"
    },
    "papermill": {
     "duration": 0.049051,
     "end_time": "2021-12-18T20:08:34.863427",
     "exception": false,
     "start_time": "2021-12-18T20:08:34.814376",
     "status": "completed"
    },
    "tags": []
   },
   "outputs": [],
   "source": [
    "y_train = 1*(y_train==3)\n",
    "y_test = 1*(y_test==3)"
   ]
  },
  {
   "cell_type": "code",
   "execution_count": 13,
   "id": "01e4e969",
   "metadata": {
    "execution": {
     "iopub.execute_input": "2021-12-18T20:08:34.924021Z",
     "iopub.status.busy": "2021-12-18T20:08:34.923419Z",
     "iopub.status.idle": "2021-12-18T20:08:34.939776Z",
     "shell.execute_reply": "2021-12-18T20:08:34.939276Z"
    },
    "papermill": {
     "duration": 0.047975,
     "end_time": "2021-12-18T20:08:34.939907",
     "exception": false,
     "start_time": "2021-12-18T20:08:34.891932",
     "status": "completed"
    },
    "tags": []
   },
   "outputs": [
    {
     "data": {
      "text/plain": [
       "((11982, 28, 28), (1984, 28, 28))"
      ]
     },
     "execution_count": 13,
     "metadata": {},
     "output_type": "execute_result"
    }
   ],
   "source": [
    "X_train.shape, X_test.shape"
   ]
  },
  {
   "cell_type": "markdown",
   "id": "5ccf3f85",
   "metadata": {
    "papermill": {
     "duration": 0.028653,
     "end_time": "2021-12-18T20:08:34.996988",
     "exception": false,
     "start_time": "2021-12-18T20:08:34.968335",
     "status": "completed"
    },
    "tags": []
   },
   "source": [
    "We reshape the data to flatten the image pixels into a set of features or co-variates:"
   ]
  },
  {
   "cell_type": "code",
   "execution_count": 14,
   "id": "5286a4a3",
   "metadata": {
    "execution": {
     "iopub.execute_input": "2021-12-18T20:08:35.061042Z",
     "iopub.status.busy": "2021-12-18T20:08:35.059881Z",
     "iopub.status.idle": "2021-12-18T20:08:35.077003Z",
     "shell.execute_reply": "2021-12-18T20:08:35.076486Z"
    },
    "papermill": {
     "duration": 0.050772,
     "end_time": "2021-12-18T20:08:35.077134",
     "exception": false,
     "start_time": "2021-12-18T20:08:35.026362",
     "status": "completed"
    },
    "tags": []
   },
   "outputs": [
    {
     "data": {
      "text/plain": [
       "((11982, 784), (1984, 784))"
      ]
     },
     "execution_count": 14,
     "metadata": {},
     "output_type": "execute_result"
    }
   ],
   "source": [
    "X_train = X_train.reshape(X_train.shape[0], -1)\n",
    "X_test = X_test.reshape(X_test.shape[0], -1)\n",
    "X_train.shape, X_test.shape"
   ]
  },
  {
   "cell_type": "code",
   "execution_count": 15,
   "id": "73c5f88a",
   "metadata": {
    "execution": {
     "iopub.execute_input": "2021-12-18T20:08:35.140803Z",
     "iopub.status.busy": "2021-12-18T20:08:35.140154Z",
     "iopub.status.idle": "2021-12-18T20:08:35.162961Z",
     "shell.execute_reply": "2021-12-18T20:08:35.162272Z"
    },
    "papermill": {
     "duration": 0.057081,
     "end_time": "2021-12-18T20:08:35.163120",
     "exception": false,
     "start_time": "2021-12-18T20:08:35.106039",
     "status": "completed"
    },
    "tags": []
   },
   "outputs": [],
   "source": [
    "#Impoting functions from 'Kudzu'\n",
    "from kudzu.model import Model\n",
    "from kudzu.train import Learner\n",
    "from kudzu.optim import GD\n",
    "from kudzu.data import Data, Sampler,Dataloader\n",
    "\n",
    "from kudzu.callbacks import AccCallback\n",
    "from kudzu.callbacks import ClfCallback\n",
    "\n",
    "from kudzu.loss import MSE\n",
    "\n",
    "from kudzu.layer import Sigmoid,Relu\n",
    "from kudzu.layer import Affine"
   ]
  },
  {
   "cell_type": "markdown",
   "id": "bc01172a",
   "metadata": {
    "papermill": {
     "duration": 0.028577,
     "end_time": "2021-12-18T20:08:35.221957",
     "exception": false,
     "start_time": "2021-12-18T20:08:35.193380",
     "status": "completed"
    },
    "tags": []
   },
   "source": [
    "### Let us create a `Config` class, to store important parameters. \n",
    "This class essentially plays the role of a dictionary."
   ]
  },
  {
   "cell_type": "code",
   "execution_count": 16,
   "id": "978281aa",
   "metadata": {
    "execution": {
     "iopub.execute_input": "2021-12-18T20:08:35.285983Z",
     "iopub.status.busy": "2021-12-18T20:08:35.285414Z",
     "iopub.status.idle": "2021-12-18T20:08:35.298716Z",
     "shell.execute_reply": "2021-12-18T20:08:35.298240Z"
    },
    "papermill": {
     "duration": 0.047893,
     "end_time": "2021-12-18T20:08:35.298828",
     "exception": false,
     "start_time": "2021-12-18T20:08:35.250935",
     "status": "completed"
    },
    "tags": []
   },
   "outputs": [],
   "source": [
    "class Config:\n",
    "    pass\n",
    "config = Config()\n",
    "config.lr = 0.001\n",
    "config.num_epochs = 250\n",
    "config.bs = 50"
   ]
  },
  {
   "cell_type": "markdown",
   "id": "1385fa59",
   "metadata": {
    "papermill": {
     "duration": 0.028593,
     "end_time": "2021-12-18T20:08:35.355898",
     "exception": false,
     "start_time": "2021-12-18T20:08:35.327305",
     "status": "completed"
    },
    "tags": []
   },
   "source": [
    "### Running Models with the Training data\n",
    "Details about the network layers:\n",
    "- A first affine layer has 784 inputs and does 100 affine transforms. These are followed by a Relu\n",
    "- A second affine layer has 100 inputs from the 100 activations of the past layer, and does 100 affine transforms. These are followed by a Relu\n",
    "- A third affine layer has 100 activations and does 2 affine transformations to create an embedding for visualization. There is no non-linearity here.\n",
    "- A final \"logistic regression\" which has an affine transform from 2 inputs to 1 output, which is squeezed through a sigmoid.\n"
   ]
  },
  {
   "cell_type": "code",
   "execution_count": 17,
   "id": "2b9c66db",
   "metadata": {
    "execution": {
     "iopub.execute_input": "2021-12-18T20:08:35.418557Z",
     "iopub.status.busy": "2021-12-18T20:08:35.417951Z",
     "iopub.status.idle": "2021-12-18T20:08:35.431920Z",
     "shell.execute_reply": "2021-12-18T20:08:35.431439Z"
    },
    "papermill": {
     "duration": 0.047256,
     "end_time": "2021-12-18T20:08:35.432043",
     "exception": false,
     "start_time": "2021-12-18T20:08:35.384787",
     "status": "completed"
    },
    "tags": []
   },
   "outputs": [],
   "source": [
    "data = Data(X_train, y_train.reshape(-1,1))\n",
    "sampler = Sampler(data, config.bs, shuffle=True)\n",
    "\n",
    "dl = Dataloader(data, sampler)\n",
    "\n",
    "opt = GD(config.lr)\n",
    "loss = MSE()"
   ]
  },
  {
   "cell_type": "code",
   "execution_count": 18,
   "id": "b275e4c2",
   "metadata": {
    "execution": {
     "iopub.execute_input": "2021-12-18T20:08:35.494662Z",
     "iopub.status.busy": "2021-12-18T20:08:35.494093Z",
     "iopub.status.idle": "2021-12-18T20:08:35.507201Z",
     "shell.execute_reply": "2021-12-18T20:08:35.506690Z"
    },
    "papermill": {
     "duration": 0.045857,
     "end_time": "2021-12-18T20:08:35.507322",
     "exception": false,
     "start_time": "2021-12-18T20:08:35.461465",
     "status": "completed"
    },
    "tags": []
   },
   "outputs": [],
   "source": [
    "training_data_x = X_train\n",
    "testing_data_x = X_test\n",
    "training_data_y = y_train.reshape(-1,1)\n",
    "testing_data_y = y_test.reshape(-1,1)"
   ]
  },
  {
   "cell_type": "code",
   "execution_count": 19,
   "id": "76951160",
   "metadata": {
    "execution": {
     "iopub.execute_input": "2021-12-18T20:08:35.570566Z",
     "iopub.status.busy": "2021-12-18T20:08:35.569872Z",
     "iopub.status.idle": "2021-12-18T20:08:35.587798Z",
     "shell.execute_reply": "2021-12-18T20:08:35.587326Z"
    },
    "papermill": {
     "duration": 0.051224,
     "end_time": "2021-12-18T20:08:35.587910",
     "exception": false,
     "start_time": "2021-12-18T20:08:35.536686",
     "status": "completed"
    },
    "tags": []
   },
   "outputs": [
    {
     "name": "stdout",
     "output_type": "stream",
     "text": [
      "xavier\n",
      "xavier\n",
      "xavier\n",
      "xavier\n",
      "xavier\n"
     ]
    }
   ],
   "source": [
    "layers = [Affine(\"first\", 784, 100), Relu(\"first\"), Affine(\"second\", 100, 100), Relu(\"second\"), Affine(\"third\", 100, 2), Affine(\"last\", 2, 1), Sigmoid(\"last\")]\n",
    "model_nn = Model(layers)\n",
    "model_lr = Model([Affine(\"logits\", 784, 1), Sigmoid(\"sigmoid\")])"
   ]
  },
  {
   "cell_type": "code",
   "execution_count": 20,
   "id": "6eede77a",
   "metadata": {
    "execution": {
     "iopub.execute_input": "2021-12-18T20:08:35.650913Z",
     "iopub.status.busy": "2021-12-18T20:08:35.650353Z",
     "iopub.status.idle": "2021-12-18T20:08:35.664251Z",
     "shell.execute_reply": "2021-12-18T20:08:35.663741Z"
    },
    "papermill": {
     "duration": 0.047408,
     "end_time": "2021-12-18T20:08:35.664369",
     "exception": false,
     "start_time": "2021-12-18T20:08:35.616961",
     "status": "completed"
    },
    "tags": []
   },
   "outputs": [],
   "source": [
    "nn_learner = Learner(loss, model_nn, opt, config.num_epochs)\n",
    "acc_nn = ClfCallback(nn_learner, config.bs, training_data_x , testing_data_x, training_data_y, testing_data_y)\n",
    "nn_learner.set_callbacks([acc_nn])"
   ]
  },
  {
   "cell_type": "code",
   "execution_count": 21,
   "id": "877b6cc7",
   "metadata": {
    "execution": {
     "iopub.execute_input": "2021-12-18T20:08:35.728361Z",
     "iopub.status.busy": "2021-12-18T20:08:35.727798Z",
     "iopub.status.idle": "2021-12-18T20:08:35.742175Z",
     "shell.execute_reply": "2021-12-18T20:08:35.741146Z"
    },
    "papermill": {
     "duration": 0.048085,
     "end_time": "2021-12-18T20:08:35.742302",
     "exception": false,
     "start_time": "2021-12-18T20:08:35.694217",
     "status": "completed"
    },
    "tags": []
   },
   "outputs": [],
   "source": [
    "lr_learner = Learner(loss, model_lr, opt, config.num_epochs)\n",
    "acc_lr = ClfCallback(lr_learner, config.bs, training_data_x , testing_data_x, training_data_y, testing_data_y)\n",
    "lr_learner.set_callbacks([acc_lr])"
   ]
  },
  {
   "cell_type": "code",
   "execution_count": 22,
   "id": "d9b133c3",
   "metadata": {
    "execution": {
     "iopub.execute_input": "2021-12-18T20:08:35.810094Z",
     "iopub.status.busy": "2021-12-18T20:08:35.805488Z",
     "iopub.status.idle": "2021-12-18T20:10:02.488295Z",
     "shell.execute_reply": "2021-12-18T20:10:02.489143Z"
    },
    "papermill": {
     "duration": 86.71784,
     "end_time": "2021-12-18T20:10:02.489299",
     "exception": false,
     "start_time": "2021-12-18T20:08:35.771459",
     "status": "completed"
    },
    "tags": []
   },
   "outputs": [
    {
     "name": "stdout",
     "output_type": "stream",
     "text": [
      "Epoch 0, Loss 0.2269\n",
      "Training Accuracy: 0.7611, Testing Accuracy: 0.7888\n",
      "\n"
     ]
    },
    {
     "name": "stdout",
     "output_type": "stream",
     "text": [
      "Epoch 10, Loss 0.0804\n",
      "Training Accuracy: 0.9230, Testing Accuracy: 0.9330\n",
      "\n"
     ]
    },
    {
     "name": "stdout",
     "output_type": "stream",
     "text": [
      "Epoch 20, Loss 0.0528\n",
      "Training Accuracy: 0.9440, Testing Accuracy: 0.9531\n",
      "\n"
     ]
    },
    {
     "name": "stdout",
     "output_type": "stream",
     "text": [
      "Epoch 30, Loss 0.0424\n",
      "Training Accuracy: 0.9524, Testing Accuracy: 0.9637\n",
      "\n"
     ]
    },
    {
     "name": "stdout",
     "output_type": "stream",
     "text": [
      "Epoch 40, Loss 0.0371\n",
      "Training Accuracy: 0.9574, Testing Accuracy: 0.9667\n",
      "\n"
     ]
    },
    {
     "name": "stdout",
     "output_type": "stream",
     "text": [
      "Epoch 50, Loss 0.0338\n",
      "Training Accuracy: 0.9604, Testing Accuracy: 0.9688\n",
      "\n"
     ]
    },
    {
     "name": "stdout",
     "output_type": "stream",
     "text": [
      "Epoch 60, Loss 0.0314\n",
      "Training Accuracy: 0.9629, Testing Accuracy: 0.9708\n",
      "\n"
     ]
    },
    {
     "name": "stdout",
     "output_type": "stream",
     "text": [
      "Epoch 70, Loss 0.0296\n",
      "Training Accuracy: 0.9651, Testing Accuracy: 0.9708\n",
      "\n"
     ]
    },
    {
     "name": "stdout",
     "output_type": "stream",
     "text": [
      "Epoch 80, Loss 0.0282\n",
      "Training Accuracy: 0.9669, Testing Accuracy: 0.9728\n",
      "\n"
     ]
    },
    {
     "name": "stdout",
     "output_type": "stream",
     "text": [
      "Epoch 90, Loss 0.027\n",
      "Training Accuracy: 0.9690, Testing Accuracy: 0.9733\n",
      "\n"
     ]
    },
    {
     "name": "stdout",
     "output_type": "stream",
     "text": [
      "Epoch 100, Loss 0.026\n",
      "Training Accuracy: 0.9705, Testing Accuracy: 0.9738\n",
      "\n"
     ]
    },
    {
     "name": "stdout",
     "output_type": "stream",
     "text": [
      "Epoch 110, Loss 0.0251\n",
      "Training Accuracy: 0.9712, Testing Accuracy: 0.9738\n",
      "\n"
     ]
    },
    {
     "name": "stdout",
     "output_type": "stream",
     "text": [
      "Epoch 120, Loss 0.0243\n",
      "Training Accuracy: 0.9722, Testing Accuracy: 0.9743\n",
      "\n"
     ]
    },
    {
     "name": "stdout",
     "output_type": "stream",
     "text": [
      "Epoch 130, Loss 0.0236\n",
      "Training Accuracy: 0.9728, Testing Accuracy: 0.9743\n",
      "\n"
     ]
    },
    {
     "name": "stdout",
     "output_type": "stream",
     "text": [
      "Epoch 140, Loss 0.0229\n",
      "Training Accuracy: 0.9736, Testing Accuracy: 0.9743\n",
      "\n"
     ]
    },
    {
     "name": "stdout",
     "output_type": "stream",
     "text": [
      "Epoch 150, Loss 0.0224\n",
      "Training Accuracy: 0.9748, Testing Accuracy: 0.9738\n",
      "\n"
     ]
    },
    {
     "name": "stdout",
     "output_type": "stream",
     "text": [
      "Epoch 160, Loss 0.0218\n",
      "Training Accuracy: 0.9751, Testing Accuracy: 0.9738\n",
      "\n"
     ]
    },
    {
     "name": "stdout",
     "output_type": "stream",
     "text": [
      "Epoch 170, Loss 0.0213\n",
      "Training Accuracy: 0.9763, Testing Accuracy: 0.9733\n",
      "\n"
     ]
    },
    {
     "name": "stdout",
     "output_type": "stream",
     "text": [
      "Epoch 180, Loss 0.0208\n",
      "Training Accuracy: 0.9765, Testing Accuracy: 0.9738\n",
      "\n"
     ]
    },
    {
     "name": "stdout",
     "output_type": "stream",
     "text": [
      "Epoch 190, Loss 0.0204\n",
      "Training Accuracy: 0.9773, Testing Accuracy: 0.9738\n",
      "\n"
     ]
    },
    {
     "name": "stdout",
     "output_type": "stream",
     "text": [
      "Epoch 200, Loss 0.0199\n",
      "Training Accuracy: 0.9781, Testing Accuracy: 0.9753\n",
      "\n"
     ]
    },
    {
     "name": "stdout",
     "output_type": "stream",
     "text": [
      "Epoch 210, Loss 0.0195\n",
      "Training Accuracy: 0.9784, Testing Accuracy: 0.9743\n",
      "\n"
     ]
    },
    {
     "name": "stdout",
     "output_type": "stream",
     "text": [
      "Epoch 220, Loss 0.0191\n",
      "Training Accuracy: 0.9788, Testing Accuracy: 0.9753\n",
      "\n"
     ]
    },
    {
     "name": "stdout",
     "output_type": "stream",
     "text": [
      "Epoch 230, Loss 0.0187\n",
      "Training Accuracy: 0.9795, Testing Accuracy: 0.9758\n",
      "\n"
     ]
    },
    {
     "name": "stdout",
     "output_type": "stream",
     "text": [
      "Epoch 240, Loss 0.0183\n",
      "Training Accuracy: 0.9796, Testing Accuracy: 0.9758\n",
      "\n"
     ]
    },
    {
     "data": {
      "text/plain": [
       "0.0547346733898703"
      ]
     },
     "execution_count": 22,
     "metadata": {},
     "output_type": "execute_result"
    }
   ],
   "source": [
    "nn_learner.train_loop(dl)"
   ]
  },
  {
   "cell_type": "code",
   "execution_count": 23,
   "id": "e0163366",
   "metadata": {
    "execution": {
     "iopub.execute_input": "2021-12-18T20:10:02.582203Z",
     "iopub.status.busy": "2021-12-18T20:10:02.581591Z",
     "iopub.status.idle": "2021-12-18T20:10:17.878606Z",
     "shell.execute_reply": "2021-12-18T20:10:17.879474Z"
    },
    "papermill": {
     "duration": 15.348872,
     "end_time": "2021-12-18T20:10:17.879643",
     "exception": false,
     "start_time": "2021-12-18T20:10:02.530771",
     "status": "completed"
    },
    "tags": []
   },
   "outputs": [
    {
     "name": "stdout",
     "output_type": "stream",
     "text": [
      "Epoch 0, Loss 0.2379\n",
      "Training Accuracy: 0.6839, Testing Accuracy: 0.6648\n",
      "\n"
     ]
    },
    {
     "name": "stdout",
     "output_type": "stream",
     "text": [
      "Epoch 10, Loss 0.105\n",
      "Training Accuracy: 0.9051, Testing Accuracy: 0.9153\n",
      "\n"
     ]
    },
    {
     "name": "stdout",
     "output_type": "stream",
     "text": [
      "Epoch 20, Loss 0.08\n",
      "Training Accuracy: 0.9275, Testing Accuracy: 0.9370\n",
      "\n"
     ]
    },
    {
     "name": "stdout",
     "output_type": "stream",
     "text": [
      "Epoch 30, Loss 0.0686\n",
      "Training Accuracy: 0.9362, Testing Accuracy: 0.9471\n",
      "\n"
     ]
    },
    {
     "name": "stdout",
     "output_type": "stream",
     "text": [
      "Epoch 40, Loss 0.0617\n",
      "Training Accuracy: 0.9404, Testing Accuracy: 0.9501\n",
      "\n"
     ]
    },
    {
     "name": "stdout",
     "output_type": "stream",
     "text": [
      "Epoch 50, Loss 0.0571\n",
      "Training Accuracy: 0.9444, Testing Accuracy: 0.9551\n",
      "\n"
     ]
    },
    {
     "name": "stdout",
     "output_type": "stream",
     "text": [
      "Epoch 60, Loss 0.0537\n",
      "Training Accuracy: 0.9471, Testing Accuracy: 0.9567\n",
      "\n"
     ]
    },
    {
     "name": "stdout",
     "output_type": "stream",
     "text": [
      "Epoch 70, Loss 0.0511\n",
      "Training Accuracy: 0.9489, Testing Accuracy: 0.9587\n",
      "\n"
     ]
    },
    {
     "name": "stdout",
     "output_type": "stream",
     "text": [
      "Epoch 80, Loss 0.0491\n",
      "Training Accuracy: 0.9508, Testing Accuracy: 0.9602\n",
      "\n"
     ]
    },
    {
     "name": "stdout",
     "output_type": "stream",
     "text": [
      "Epoch 90, Loss 0.0474\n",
      "Training Accuracy: 0.9518, Testing Accuracy: 0.9597\n",
      "\n"
     ]
    },
    {
     "name": "stdout",
     "output_type": "stream",
     "text": [
      "Epoch 100, Loss 0.046\n",
      "Training Accuracy: 0.9526, Testing Accuracy: 0.9617\n",
      "\n"
     ]
    },
    {
     "name": "stdout",
     "output_type": "stream",
     "text": [
      "Epoch 110, Loss 0.0447\n",
      "Training Accuracy: 0.9537, Testing Accuracy: 0.9617\n",
      "\n"
     ]
    },
    {
     "name": "stdout",
     "output_type": "stream",
     "text": [
      "Epoch 120, Loss 0.0437\n",
      "Training Accuracy: 0.9541, Testing Accuracy: 0.9627\n",
      "\n"
     ]
    },
    {
     "name": "stdout",
     "output_type": "stream",
     "text": [
      "Epoch 130, Loss 0.0427\n",
      "Training Accuracy: 0.9548, Testing Accuracy: 0.9632\n",
      "\n"
     ]
    },
    {
     "name": "stdout",
     "output_type": "stream",
     "text": [
      "Epoch 140, Loss 0.0419\n",
      "Training Accuracy: 0.9559, Testing Accuracy: 0.9632\n",
      "\n"
     ]
    },
    {
     "name": "stdout",
     "output_type": "stream",
     "text": [
      "Epoch 150, Loss 0.0412\n",
      "Training Accuracy: 0.9565, Testing Accuracy: 0.9637\n",
      "\n"
     ]
    },
    {
     "name": "stdout",
     "output_type": "stream",
     "text": [
      "Epoch 160, Loss 0.0405\n",
      "Training Accuracy: 0.9572, Testing Accuracy: 0.9642\n",
      "\n"
     ]
    },
    {
     "name": "stdout",
     "output_type": "stream",
     "text": [
      "Epoch 170, Loss 0.0399\n",
      "Training Accuracy: 0.9577, Testing Accuracy: 0.9637\n",
      "\n"
     ]
    },
    {
     "name": "stdout",
     "output_type": "stream",
     "text": [
      "Epoch 180, Loss 0.0393\n",
      "Training Accuracy: 0.9577, Testing Accuracy: 0.9637\n",
      "\n"
     ]
    },
    {
     "name": "stdout",
     "output_type": "stream",
     "text": [
      "Epoch 190, Loss 0.0388\n",
      "Training Accuracy: 0.9582, Testing Accuracy: 0.9642\n",
      "\n"
     ]
    },
    {
     "name": "stdout",
     "output_type": "stream",
     "text": [
      "Epoch 200, Loss 0.0384\n",
      "Training Accuracy: 0.9588, Testing Accuracy: 0.9652\n",
      "\n"
     ]
    },
    {
     "name": "stdout",
     "output_type": "stream",
     "text": [
      "Epoch 210, Loss 0.0379\n",
      "Training Accuracy: 0.9592, Testing Accuracy: 0.9652\n",
      "\n"
     ]
    },
    {
     "name": "stdout",
     "output_type": "stream",
     "text": [
      "Epoch 220, Loss 0.0375\n",
      "Training Accuracy: 0.9598, Testing Accuracy: 0.9657\n",
      "\n"
     ]
    },
    {
     "name": "stdout",
     "output_type": "stream",
     "text": [
      "Epoch 230, Loss 0.0371\n",
      "Training Accuracy: 0.9603, Testing Accuracy: 0.9662\n",
      "\n"
     ]
    },
    {
     "name": "stdout",
     "output_type": "stream",
     "text": [
      "Epoch 240, Loss 0.0368\n",
      "Training Accuracy: 0.9607, Testing Accuracy: 0.9662\n",
      "\n"
     ]
    },
    {
     "data": {
      "text/plain": [
       "0.02274212962320847"
      ]
     },
     "execution_count": 23,
     "metadata": {},
     "output_type": "execute_result"
    }
   ],
   "source": [
    "lr_learner.train_loop(dl)"
   ]
  },
  {
   "cell_type": "code",
   "execution_count": 24,
   "id": "ca410940",
   "metadata": {
    "execution": {
     "iopub.execute_input": "2021-12-18T20:10:17.986395Z",
     "iopub.status.busy": "2021-12-18T20:10:17.985746Z",
     "iopub.status.idle": "2021-12-18T20:10:18.246443Z",
     "shell.execute_reply": "2021-12-18T20:10:18.245925Z"
    },
    "papermill": {
     "duration": 0.320047,
     "end_time": "2021-12-18T20:10:18.246583",
     "exception": false,
     "start_time": "2021-12-18T20:10:17.926536",
     "status": "completed"
    },
    "tags": []
   },
   "outputs": [
    {
     "data": {
      "text/plain": [
       "<matplotlib.legend.Legend at 0x7fd8d8b76c50>"
      ]
     },
     "execution_count": 24,
     "metadata": {},
     "output_type": "execute_result"
    },
    {
     "data": {
      "image/png": "[encoded data removed]",
      "text/plain": [
       "<Figure size 1080x720 with 1 Axes>"
      ]
     },
     "metadata": {
      "needs_background": "light"
     },
     "output_type": "display_data"
    }
   ],
   "source": [
    "#comparing the results of NN and LR\n",
    "plt.figure(figsize=(15,10))\n",
    "\n",
    "# Neural Network plots\n",
    "plt.plot(acc_nn.accuracies, 'r-', label = \"Training Accuracies - NN\")\n",
    "plt.plot(acc_nn.test_accuracies, 'g-', label = \"Testing Accuracies - NN\")\n",
    "\n",
    "# Logistic Regression plots\n",
    "plt.plot(acc_lr.accuracies, 'k-', label = \"Training Accuracies - LR\")\n",
    "plt.plot(acc_lr.test_accuracies, 'b-', label = \"Testing Accuracies - LR\")\n",
    "plt.legend()"
   ]
  },
  {
   "cell_type": "markdown",
   "id": "80dfb35c",
   "metadata": {
    "papermill": {
     "duration": 0.047351,
     "end_time": "2021-12-18T20:10:18.341604",
     "exception": false,
     "start_time": "2021-12-18T20:10:18.294253",
     "status": "completed"
    },
    "tags": []
   },
   "source": [
    "#### Plotting the outputs of this layer of the NN.\n"
   ]
  },
  {
   "cell_type": "code",
   "execution_count": 25,
   "id": "45eb2ff5",
   "metadata": {
    "execution": {
     "iopub.execute_input": "2021-12-18T20:10:18.438899Z",
     "iopub.status.busy": "2021-12-18T20:10:18.438282Z",
     "iopub.status.idle": "2021-12-18T20:10:18.460804Z",
     "shell.execute_reply": "2021-12-18T20:10:18.461295Z"
    },
    "papermill": {
     "duration": 0.073247,
     "end_time": "2021-12-18T20:10:18.461468",
     "exception": false,
     "start_time": "2021-12-18T20:10:18.388221",
     "status": "completed"
    },
    "tags": []
   },
   "outputs": [],
   "source": [
    "new_model = Model(layers[:-2])\n",
    "testing_plot = new_model(testing_data_x)"
   ]
  },
  {
   "cell_type": "code",
   "execution_count": 26,
   "id": "4c0a5485",
   "metadata": {
    "execution": {
     "iopub.execute_input": "2021-12-18T20:10:18.570040Z",
     "iopub.status.busy": "2021-12-18T20:10:18.569424Z",
     "iopub.status.idle": "2021-12-18T20:10:18.767424Z",
     "shell.execute_reply": "2021-12-18T20:10:18.767881Z"
    },
    "papermill": {
     "duration": 0.259838,
     "end_time": "2021-12-18T20:10:18.768027",
     "exception": false,
     "start_time": "2021-12-18T20:10:18.508189",
     "status": "completed"
    },
    "tags": []
   },
   "outputs": [
    {
     "data": {
      "text/plain": [
       "Text(0.5, 1.0, 'Outputs')"
      ]
     },
     "execution_count": 26,
     "metadata": {},
     "output_type": "execute_result"
    },
    {
     "data": {
      "image/png": "[encoded data removed]",
      "text/plain": [
       "<Figure size 576x504 with 1 Axes>"
      ]
     },
     "metadata": {
      "needs_background": "light"
     },
     "output_type": "display_data"
    }
   ],
   "source": [
    "# Plotting the scatter plot of points and color coding by class\n",
    "plt.figure(figsize=(8,7))\n",
    "plt.scatter(testing_plot[:,0], testing_plot[:,1], alpha = 0.1, c = y_test.ravel());\n",
    "plt.title('Outputs')"
   ]
  },
  {
   "cell_type": "markdown",
   "id": "a74fcf8f",
   "metadata": {
    "papermill": {
     "duration": 0.047578,
     "end_time": "2021-12-18T20:10:18.862766",
     "exception": false,
     "start_time": "2021-12-18T20:10:18.815188",
     "status": "completed"
    },
    "tags": []
   },
   "source": [
    "Probability contours"
   ]
  },
  {
   "cell_type": "code",
   "execution_count": 27,
   "id": "d0afc8e3",
   "metadata": {
    "execution": {
     "iopub.execute_input": "2021-12-18T20:10:18.966992Z",
     "iopub.status.busy": "2021-12-18T20:10:18.965850Z",
     "iopub.status.idle": "2021-12-18T20:10:18.976181Z",
     "shell.execute_reply": "2021-12-18T20:10:18.975700Z"
    },
    "papermill": {
     "duration": 0.064272,
     "end_time": "2021-12-18T20:10:18.976295",
     "exception": false,
     "start_time": "2021-12-18T20:10:18.912023",
     "status": "completed"
    },
    "tags": []
   },
   "outputs": [],
   "source": [
    "model_prob = Model(layers[-2:]) "
   ]
  },
  {
   "cell_type": "code",
   "execution_count": 28,
   "id": "9b96e238",
   "metadata": {
    "execution": {
     "iopub.execute_input": "2021-12-18T20:10:19.080833Z",
     "iopub.status.busy": "2021-12-18T20:10:19.079764Z",
     "iopub.status.idle": "2021-12-18T20:10:19.097287Z",
     "shell.execute_reply": "2021-12-18T20:10:19.097846Z"
    },
    "papermill": {
     "duration": 0.072052,
     "end_time": "2021-12-18T20:10:19.097986",
     "exception": false,
     "start_time": "2021-12-18T20:10:19.025934",
     "status": "completed"
    },
    "tags": []
   },
   "outputs": [],
   "source": [
    "#creating the x and y ranges according to the above generated plot.\n",
    "x_range = np.linspace(-4, 1, 100) \n",
    "y_range = np.linspace(-6, 6, 100) \n",
    "x_grid, y_grid = np.meshgrid(x_range, y_range) # x_grid and y_grig are of size 100 X 100\n",
    "\n",
    "# converting x_grid and y_grid to continuous arrays\n",
    "x_gridflat = np.ravel(x_grid)\n",
    "y_gridflat = np.ravel(y_grid)\n",
    "\n",
    "# The last layer of the current model takes two columns as input. Hence transpose of np.vstack() is required.\n",
    "X = np.vstack((x_gridflat, y_gridflat)).T\n",
    "\n",
    "prob_contour = model_prob(X).reshape(100,100) "
   ]
  },
  {
   "cell_type": "code",
   "execution_count": 29,
   "id": "da72499a",
   "metadata": {
    "execution": {
     "iopub.execute_input": "2021-12-18T20:10:19.233969Z",
     "iopub.status.busy": "2021-12-18T20:10:19.233402Z",
     "iopub.status.idle": "2021-12-18T20:10:19.496067Z",
     "shell.execute_reply": "2021-12-18T20:10:19.495593Z"
    },
    "papermill": {
     "duration": 0.348584,
     "end_time": "2021-12-18T20:10:19.496197",
     "exception": false,
     "start_time": "2021-12-18T20:10:19.147613",
     "status": "completed"
    },
    "tags": []
   },
   "outputs": [
    {
     "data": {
      "image/png": "[encoded data removed]",
      "text/plain": [
       "<Figure size 720x648 with 1 Axes>"
      ]
     },
     "metadata": {
      "needs_background": "light"
     },
     "output_type": "display_data"
    }
   ],
   "source": [
    "plt.figure(figsize=(10,9))\n",
    "plt.scatter(testing_plot[:,0], testing_plot[:,1], alpha = 0.1, c = y_test.ravel())\n",
    "contours = plt.contour(x_grid,y_grid,prob_contour)\n",
    "plt.title('Probability Contours')\n",
    "plt.clabel(contours, inline = True );"
   ]
  },
  {
   "cell_type": "code",
   "execution_count": null,
   "id": "e81b4ac7",
   "metadata": {
    "papermill": {
     "duration": 0.05182,
     "end_time": "2021-12-18T20:10:19.601708",
     "exception": false,
     "start_time": "2021-12-18T20:10:19.549888",
     "status": "completed"
    },
    "tags": []
   },
   "outputs": [],
   "source": []
  }
 ],
 "metadata": {
  "kernelspec": {
   "display_name": "Python 3",
   "language": "python",
   "name": "python3"
  },
  "language_info": {
   "codemirror_mode": {
    "name": "ipython",
    "version": 3
   },
   "file_extension": ".py",
   "mimetype": "text/x-python",
   "name": "python",
   "nbconvert_exporter": "python",
   "pygments_lexer": "ipython3",
   "version": "3.6.15"
  },
  "papermill": {
   "default_parameters": {},
   "duration": 111.547769,
   "end_time": "2021-12-18T20:10:20.067025",
   "environment_variables": {},
   "exception": null,
   "input_path": "2020-08-11-part2.ipynb",
   "output_path": "2020-08-11-part2.ipynb",
   "parameters": {},
   "start_time": "2021-12-18T20:08:28.519256",
   "version": "2.3.3"
  }
 },
 "nbformat": 4,
 "nbformat_minor": 5
}