{
 "cells": [
  {
   "cell_type": "markdown",
   "id": "98380cd3",
   "metadata": {
    "papermill": {
     "duration": 0.028998,
     "end_time": "2022-01-24T00:23:27.164530",
     "exception": false,
     "start_time": "2022-01-24T00:23:27.135532",
     "status": "completed"
    },
    "tags": []
   },
   "source": [
    "# Distinguish Your Own Digits (DYOD)"
   ]
  },
  {
   "cell_type": "markdown",
   "id": "ef31240d",
   "metadata": {
    "papermill": {
     "duration": 0.023989,
     "end_time": "2022-01-24T00:23:27.213312",
     "exception": false,
     "start_time": "2022-01-24T00:23:27.189323",
     "status": "completed"
    },
    "tags": []
   },
   "source": [
    "You are going to write a classifier that distinguishes between the number 3 and number 8."
   ]
  },
  {
   "cell_type": "code",
   "execution_count": 1,
   "id": "b15c8646",
   "metadata": {
    "execution": {
     "iopub.execute_input": "2022-01-24T00:23:27.272927Z",
     "iopub.status.busy": "2022-01-24T00:23:27.272393Z",
     "iopub.status.idle": "2022-01-24T00:23:27.282789Z",
     "shell.execute_reply": "2022-01-24T00:23:27.282331Z"
    },
    "papermill": {
     "duration": 0.045716,
     "end_time": "2022-01-24T00:23:27.282918",
     "exception": false,
     "start_time": "2022-01-24T00:23:27.237202",
     "status": "completed"
    },
    "tags": []
   },
   "outputs": [],
   "source": [
    "%load_ext autoreload\n",
    "%autoreload 2"
   ]
  },
  {
   "cell_type": "code",
   "execution_count": 2,
   "id": "22ef38dc",
   "metadata": {
    "execution": {
     "iopub.execute_input": "2022-01-24T00:23:27.336079Z",
     "iopub.status.busy": "2022-01-24T00:23:27.335477Z",
     "iopub.status.idle": "2022-01-24T00:23:27.934414Z",
     "shell.execute_reply": "2022-01-24T00:23:27.934893Z"
    },
    "papermill": {
     "duration": 0.628026,
     "end_time": "2022-01-24T00:23:27.935090",
     "exception": false,
     "start_time": "2022-01-24T00:23:27.307064",
     "status": "completed"
    },
    "tags": []
   },
   "outputs": [],
   "source": [
    "%matplotlib inline\n",
    "import numpy as np\n",
    "import matplotlib.pyplot as plt\n",
    "import pandas as pd"
   ]
  },
  {
   "cell_type": "markdown",
   "id": "ba036198",
   "metadata": {
    "papermill": {
     "duration": 0.023991,
     "end_time": "2022-01-24T00:23:27.983945",
     "exception": false,
     "start_time": "2022-01-24T00:23:27.959954",
     "status": "completed"
    },
    "tags": []
   },
   "source": [
    "From the command line run `pip install mnist`. This is a library that will help you bring down the mnist dataset. If you run this from a notebook, you need to put  `!pip install mnist` in a cell by itself."
   ]
  },
  {
   "cell_type": "code",
   "execution_count": 3,
   "id": "bb6ad8a1",
   "metadata": {
    "execution": {
     "iopub.execute_input": "2022-01-24T00:23:28.038511Z",
     "iopub.status.busy": "2022-01-24T00:23:28.037969Z",
     "iopub.status.idle": "2022-01-24T00:23:31.154601Z",
     "shell.execute_reply": "2022-01-24T00:23:31.153574Z"
    },
    "papermill": {
     "duration": 3.146766,
     "end_time": "2022-01-24T00:23:31.154755",
     "exception": false,
     "start_time": "2022-01-24T00:23:28.007989",
     "status": "completed"
    },
    "tags": []
   },
   "outputs": [
    {
     "name": "stdout",
     "output_type": "stream",
     "text": [
      "Collecting mnist\r\n"
     ]
    },
    {
     "name": "stdout",
     "output_type": "stream",
     "text": [
      "  Downloading mnist-0.2.2-py2.py3-none-any.whl (3.5 kB)\r\n",
      "Requirement already satisfied: numpy in /opt/hostedtoolcache/Python/3.6.15/x64/lib/python3.6/site-packages (from mnist) (1.19.5)\r\n"
     ]
    },
    {
     "name": "stdout",
     "output_type": "stream",
     "text": [
      "Installing collected packages: mnist\r\n",
      "Successfully installed mnist-0.2.2\r\n"
     ]
    }
   ],
   "source": [
    "!pip install mnist"
   ]
  },
  {
   "cell_type": "markdown",
   "id": "69df9c9a",
   "metadata": {
    "papermill": {
     "duration": 0.024724,
     "end_time": "2022-01-24T00:23:31.204852",
     "exception": false,
     "start_time": "2022-01-24T00:23:31.180128",
     "status": "completed"
    },
    "tags": []
   },
   "source": [
    "## Preparing the Data"
   ]
  },
  {
   "cell_type": "code",
   "execution_count": 4,
   "id": "7f69d806",
   "metadata": {
    "execution": {
     "iopub.execute_input": "2022-01-24T00:23:31.269323Z",
     "iopub.status.busy": "2022-01-24T00:23:31.268752Z",
     "iopub.status.idle": "2022-01-24T00:23:31.274317Z",
     "shell.execute_reply": "2022-01-24T00:23:31.273897Z"
    },
    "papermill": {
     "duration": 0.045108,
     "end_time": "2022-01-24T00:23:31.274436",
     "exception": false,
     "start_time": "2022-01-24T00:23:31.229328",
     "status": "completed"
    },
    "tags": []
   },
   "outputs": [],
   "source": [
    "import mnist"
   ]
  },
  {
   "cell_type": "code",
   "execution_count": 5,
   "id": "a411e44f",
   "metadata": {
    "execution": {
     "iopub.execute_input": "2022-01-24T00:23:31.329571Z",
     "iopub.status.busy": "2022-01-24T00:23:31.329042Z",
     "iopub.status.idle": "2022-01-24T00:23:31.959546Z",
     "shell.execute_reply": "2022-01-24T00:23:31.959004Z"
    },
    "papermill": {
     "duration": 0.660413,
     "end_time": "2022-01-24T00:23:31.959689",
     "exception": false,
     "start_time": "2022-01-24T00:23:31.299276",
     "status": "completed"
    },
    "tags": []
   },
   "outputs": [],
   "source": [
    "train_images = mnist.train_images()\n",
    "train_labels = mnist.train_labels()"
   ]
  },
  {
   "cell_type": "code",
   "execution_count": 6,
   "id": "dceab3a5",
   "metadata": {
    "execution": {
     "iopub.execute_input": "2022-01-24T00:23:32.020519Z",
     "iopub.status.busy": "2022-01-24T00:23:32.019876Z",
     "iopub.status.idle": "2022-01-24T00:23:32.032047Z",
     "shell.execute_reply": "2022-01-24T00:23:32.032468Z"
    },
    "papermill": {
     "duration": 0.047875,
     "end_time": "2022-01-24T00:23:32.032604",
     "exception": false,
     "start_time": "2022-01-24T00:23:31.984729",
     "status": "completed"
    },
    "tags": []
   },
   "outputs": [
    {
     "data": {
      "text/plain": [
       "((60000, 28, 28), (60000,))"
      ]
     },
     "execution_count": 6,
     "metadata": {},
     "output_type": "execute_result"
    }
   ],
   "source": [
    "train_images.shape, train_labels.shape"
   ]
  },
  {
   "cell_type": "code",
   "execution_count": 7,
   "id": "f50dc2bb",
   "metadata": {
    "execution": {
     "iopub.execute_input": "2022-01-24T00:23:32.100279Z",
     "iopub.status.busy": "2022-01-24T00:23:32.096653Z",
     "iopub.status.idle": "2022-01-24T00:23:32.411978Z",
     "shell.execute_reply": "2022-01-24T00:23:32.411418Z"
    },
    "papermill": {
     "duration": 0.354591,
     "end_time": "2022-01-24T00:23:32.412124",
     "exception": false,
     "start_time": "2022-01-24T00:23:32.057533",
     "status": "completed"
    },
    "tags": []
   },
   "outputs": [],
   "source": [
    "test_images = mnist.test_images()\n",
    "test_labels = mnist.test_labels()"
   ]
  },
  {
   "cell_type": "code",
   "execution_count": 8,
   "id": "fc38cf1b",
   "metadata": {
    "execution": {
     "iopub.execute_input": "2022-01-24T00:23:32.480849Z",
     "iopub.status.busy": "2022-01-24T00:23:32.474387Z",
     "iopub.status.idle": "2022-01-24T00:23:32.484831Z",
     "shell.execute_reply": "2022-01-24T00:23:32.484294Z"
    },
    "papermill": {
     "duration": 0.046938,
     "end_time": "2022-01-24T00:23:32.484950",
     "exception": false,
     "start_time": "2022-01-24T00:23:32.438012",
     "status": "completed"
    },
    "tags": []
   },
   "outputs": [
    {
     "data": {
      "text/plain": [
       "((10000, 28, 28), (10000,))"
      ]
     },
     "execution_count": 8,
     "metadata": {},
     "output_type": "execute_result"
    }
   ],
   "source": [
    "test_images.shape, test_labels.shape"
   ]
  },
  {
   "cell_type": "code",
   "execution_count": 9,
   "id": "f9ed8fe0",
   "metadata": {
    "execution": {
     "iopub.execute_input": "2022-01-24T00:23:32.548779Z",
     "iopub.status.busy": "2022-01-24T00:23:32.541316Z",
     "iopub.status.idle": "2022-01-24T00:23:32.684923Z",
     "shell.execute_reply": "2022-01-24T00:23:32.684465Z"
    },
    "papermill": {
     "duration": 0.174867,
     "end_time": "2022-01-24T00:23:32.685049",
     "exception": false,
     "start_time": "2022-01-24T00:23:32.510182",
     "status": "completed"
    },
    "tags": []
   },
   "outputs": [
    {
     "name": "stdout",
     "output_type": "stream",
     "text": [
      "2\n"
     ]
    },
    {
     "data": {
      "text/plain": [
       "<matplotlib.image.AxesImage at 0x7f367bc46a90>"
      ]
     },
     "execution_count": 9,
     "metadata": {},
     "output_type": "execute_result"
    },
    {
     "data": {
      "image/png": "[encoded data removed]",
      "text/plain": [
       "<Figure size 432x288 with 1 Axes>"
      ]
     },
     "metadata": {
      "needs_background": "light"
     },
     "output_type": "display_data"
    }
   ],
   "source": [
    "image_index = 7776 # You may select anything up to 60,000\n",
    "print(train_labels[image_index]) \n",
    "plt.imshow(train_images[image_index], cmap='Greys')"
   ]
  },
  {
   "cell_type": "markdown",
   "id": "a8d2388d",
   "metadata": {
    "papermill": {
     "duration": 0.026634,
     "end_time": "2022-01-24T00:23:32.738379",
     "exception": false,
     "start_time": "2022-01-24T00:23:32.711745",
     "status": "completed"
    },
    "tags": []
   },
   "source": [
    "## Filter data to get 3 and 8 out"
   ]
  },
  {
   "cell_type": "code",
   "execution_count": 10,
   "id": "776f7fc7",
   "metadata": {
    "execution": {
     "iopub.execute_input": "2022-01-24T00:23:32.803133Z",
     "iopub.status.busy": "2022-01-24T00:23:32.802572Z",
     "iopub.status.idle": "2022-01-24T00:23:32.819383Z",
     "shell.execute_reply": "2022-01-24T00:23:32.818904Z"
    },
    "papermill": {
     "duration": 0.054807,
     "end_time": "2022-01-24T00:23:32.819507",
     "exception": false,
     "start_time": "2022-01-24T00:23:32.764700",
     "status": "completed"
    },
    "tags": []
   },
   "outputs": [],
   "source": [
    "train_filter = np.where((train_labels == 3 ) | (train_labels == 8))\n",
    "test_filter = np.where((test_labels == 3) | (test_labels == 8))\n",
    "X_train, y_train = train_images[train_filter], train_labels[train_filter]\n",
    "X_test, y_test = test_images[test_filter], test_labels[test_filter]"
   ]
  },
  {
   "cell_type": "markdown",
   "id": "948f0b7e",
   "metadata": {
    "papermill": {
     "duration": 0.026046,
     "end_time": "2022-01-24T00:23:32.871995",
     "exception": false,
     "start_time": "2022-01-24T00:23:32.845949",
     "status": "completed"
    },
    "tags": []
   },
   "source": [
    "We normalize the pizel values in the 0 to 1 range"
   ]
  },
  {
   "cell_type": "code",
   "execution_count": 11,
   "id": "ee4c2166",
   "metadata": {
    "execution": {
     "iopub.execute_input": "2022-01-24T00:23:32.928678Z",
     "iopub.status.busy": "2022-01-24T00:23:32.928143Z",
     "iopub.status.idle": "2022-01-24T00:23:32.976199Z",
     "shell.execute_reply": "2022-01-24T00:23:32.975657Z"
    },
    "papermill": {
     "duration": 0.078106,
     "end_time": "2022-01-24T00:23:32.976341",
     "exception": false,
     "start_time": "2022-01-24T00:23:32.898235",
     "status": "completed"
    },
    "tags": []
   },
   "outputs": [],
   "source": [
    "X_train = X_train/255.\n",
    "X_test = X_test/255."
   ]
  },
  {
   "cell_type": "markdown",
   "id": "ddcf4fab",
   "metadata": {
    "papermill": {
     "duration": 0.026112,
     "end_time": "2022-01-24T00:23:33.029232",
     "exception": false,
     "start_time": "2022-01-24T00:23:33.003120",
     "status": "completed"
    },
    "tags": []
   },
   "source": [
    "And setup the labels as 1 (when the digit is 3) and 0 (when the digit is 8)"
   ]
  },
  {
   "cell_type": "code",
   "execution_count": 12,
   "id": "7dc908f2",
   "metadata": {
    "execution": {
     "iopub.execute_input": "2022-01-24T00:23:33.099904Z",
     "iopub.status.busy": "2022-01-24T00:23:33.096944Z",
     "iopub.status.idle": "2022-01-24T00:23:33.102182Z",
     "shell.execute_reply": "2022-01-24T00:23:33.102613Z"
    },
    "papermill": {
     "duration": 0.047302,
     "end_time": "2022-01-24T00:23:33.102765",
     "exception": false,
     "start_time": "2022-01-24T00:23:33.055463",
     "status": "completed"
    },
    "tags": []
   },
   "outputs": [],
   "source": [
    "y_train = 1*(y_train==3)\n",
    "y_test = 1*(y_test==3)"
   ]
  },
  {
   "cell_type": "code",
   "execution_count": 13,
   "id": "01e4e969",
   "metadata": {
    "execution": {
     "iopub.execute_input": "2022-01-24T00:23:33.169252Z",
     "iopub.status.busy": "2022-01-24T00:23:33.168741Z",
     "iopub.status.idle": "2022-01-24T00:23:33.177144Z",
     "shell.execute_reply": "2022-01-24T00:23:33.176703Z"
    },
    "papermill": {
     "duration": 0.048036,
     "end_time": "2022-01-24T00:23:33.177259",
     "exception": false,
     "start_time": "2022-01-24T00:23:33.129223",
     "status": "completed"
    },
    "tags": []
   },
   "outputs": [
    {
     "data": {
      "text/plain": [
       "((11982, 28, 28), (1984, 28, 28))"
      ]
     },
     "execution_count": 13,
     "metadata": {},
     "output_type": "execute_result"
    }
   ],
   "source": [
    "X_train.shape, X_test.shape"
   ]
  },
  {
   "cell_type": "markdown",
   "id": "5ccf3f85",
   "metadata": {
    "papermill": {
     "duration": 0.02649,
     "end_time": "2022-01-24T00:23:33.230375",
     "exception": false,
     "start_time": "2022-01-24T00:23:33.203885",
     "status": "completed"
    },
    "tags": []
   },
   "source": [
    "We reshape the data to flatten the image pixels into a set of features or co-variates:"
   ]
  },
  {
   "cell_type": "code",
   "execution_count": 14,
   "id": "5286a4a3",
   "metadata": {
    "execution": {
     "iopub.execute_input": "2022-01-24T00:23:33.296650Z",
     "iopub.status.busy": "2022-01-24T00:23:33.288598Z",
     "iopub.status.idle": "2022-01-24T00:23:33.305267Z",
     "shell.execute_reply": "2022-01-24T00:23:33.304833Z"
    },
    "papermill": {
     "duration": 0.048367,
     "end_time": "2022-01-24T00:23:33.305383",
     "exception": false,
     "start_time": "2022-01-24T00:23:33.257016",
     "status": "completed"
    },
    "tags": []
   },
   "outputs": [
    {
     "data": {
      "text/plain": [
       "((11982, 784), (1984, 784))"
      ]
     },
     "execution_count": 14,
     "metadata": {},
     "output_type": "execute_result"
    }
   ],
   "source": [
    "X_train = X_train.reshape(X_train.shape[0], -1)\n",
    "X_test = X_test.reshape(X_test.shape[0], -1)\n",
    "X_train.shape, X_test.shape"
   ]
  },
  {
   "cell_type": "code",
   "execution_count": 15,
   "id": "73c5f88a",
   "metadata": {
    "execution": {
     "iopub.execute_input": "2022-01-24T00:23:33.373183Z",
     "iopub.status.busy": "2022-01-24T00:23:33.372658Z",
     "iopub.status.idle": "2022-01-24T00:23:33.386874Z",
     "shell.execute_reply": "2022-01-24T00:23:33.386447Z"
    },
    "papermill": {
     "duration": 0.054778,
     "end_time": "2022-01-24T00:23:33.386989",
     "exception": false,
     "start_time": "2022-01-24T00:23:33.332211",
     "status": "completed"
    },
    "tags": []
   },
   "outputs": [],
   "source": [
    "#Impoting functions from 'Kudzu'\n",
    "from kudzu.model import Model\n",
    "from kudzu.train import Learner\n",
    "from kudzu.optim import GD\n",
    "from kudzu.data import Data, Sampler,Dataloader\n",
    "\n",
    "from kudzu.callbacks import AccCallback\n",
    "from kudzu.callbacks import ClfCallback\n",
    "\n",
    "from kudzu.loss import MSE\n",
    "\n",
    "from kudzu.layer import Sigmoid,Relu\n",
    "from kudzu.layer import Affine"
   ]
  },
  {
   "cell_type": "markdown",
   "id": "bc01172a",
   "metadata": {
    "papermill": {
     "duration": 0.0268,
     "end_time": "2022-01-24T00:23:33.440834",
     "exception": false,
     "start_time": "2022-01-24T00:23:33.414034",
     "status": "completed"
    },
    "tags": []
   },
   "source": [
    "### Let us create a `Config` class, to store important parameters. \n",
    "This class essentially plays the role of a dictionary."
   ]
  },
  {
   "cell_type": "code",
   "execution_count": 16,
   "id": "978281aa",
   "metadata": {
    "execution": {
     "iopub.execute_input": "2022-01-24T00:23:33.501201Z",
     "iopub.status.busy": "2022-01-24T00:23:33.500658Z",
     "iopub.status.idle": "2022-01-24T00:23:33.513230Z",
     "shell.execute_reply": "2022-01-24T00:23:33.512762Z"
    },
    "papermill": {
     "duration": 0.045781,
     "end_time": "2022-01-24T00:23:33.513353",
     "exception": false,
     "start_time": "2022-01-24T00:23:33.467572",
     "status": "completed"
    },
    "tags": []
   },
   "outputs": [],
   "source": [
    "class Config:\n",
    "    pass\n",
    "config = Config()\n",
    "config.lr = 0.001\n",
    "config.num_epochs = 250\n",
    "config.bs = 50"
   ]
  },
  {
   "cell_type": "markdown",
   "id": "1385fa59",
   "metadata": {
    "papermill": {
     "duration": 0.02678,
     "end_time": "2022-01-24T00:23:33.567239",
     "exception": false,
     "start_time": "2022-01-24T00:23:33.540459",
     "status": "completed"
    },
    "tags": []
   },
   "source": [
    "### Running Models with the Training data\n",
    "Details about the network layers:\n",
    "- A first affine layer has 784 inputs and does 100 affine transforms. These are followed by a Relu\n",
    "- A second affine layer has 100 inputs from the 100 activations of the past layer, and does 100 affine transforms. These are followed by a Relu\n",
    "- A third affine layer has 100 activations and does 2 affine transformations to create an embedding for visualization. There is no non-linearity here.\n",
    "- A final \"logistic regression\" which has an affine transform from 2 inputs to 1 output, which is squeezed through a sigmoid.\n"
   ]
  },
  {
   "cell_type": "code",
   "execution_count": 17,
   "id": "2b9c66db",
   "metadata": {
    "execution": {
     "iopub.execute_input": "2022-01-24T00:23:33.637010Z",
     "iopub.status.busy": "2022-01-24T00:23:33.630839Z",
     "iopub.status.idle": "2022-01-24T00:23:33.640031Z",
     "shell.execute_reply": "2022-01-24T00:23:33.639585Z"
    },
    "papermill": {
     "duration": 0.046025,
     "end_time": "2022-01-24T00:23:33.640156",
     "exception": false,
     "start_time": "2022-01-24T00:23:33.594131",
     "status": "completed"
    },
    "tags": []
   },
   "outputs": [],
   "source": [
    "data = Data(X_train, y_train.reshape(-1,1))\n",
    "sampler = Sampler(data, config.bs, shuffle=True)\n",
    "\n",
    "dl = Dataloader(data, sampler)\n",
    "\n",
    "opt = GD(config.lr)\n",
    "loss = MSE()"
   ]
  },
  {
   "cell_type": "code",
   "execution_count": 18,
   "id": "b275e4c2",
   "metadata": {
    "execution": {
     "iopub.execute_input": "2022-01-24T00:23:33.709365Z",
     "iopub.status.busy": "2022-01-24T00:23:33.702677Z",
     "iopub.status.idle": "2022-01-24T00:23:33.711328Z",
     "shell.execute_reply": "2022-01-24T00:23:33.711742Z"
    },
    "papermill": {
     "duration": 0.044751,
     "end_time": "2022-01-24T00:23:33.711906",
     "exception": false,
     "start_time": "2022-01-24T00:23:33.667155",
     "status": "completed"
    },
    "tags": []
   },
   "outputs": [],
   "source": [
    "training_data_x = X_train\n",
    "testing_data_x = X_test\n",
    "training_data_y = y_train.reshape(-1,1)\n",
    "testing_data_y = y_test.reshape(-1,1)"
   ]
  },
  {
   "cell_type": "code",
   "execution_count": 19,
   "id": "76951160",
   "metadata": {
    "execution": {
     "iopub.execute_input": "2022-01-24T00:23:33.788906Z",
     "iopub.status.busy": "2022-01-24T00:23:33.785471Z",
     "iopub.status.idle": "2022-01-24T00:23:33.792557Z",
     "shell.execute_reply": "2022-01-24T00:23:33.792109Z"
    },
    "papermill": {
     "duration": 0.053808,
     "end_time": "2022-01-24T00:23:33.792677",
     "exception": false,
     "start_time": "2022-01-24T00:23:33.738869",
     "status": "completed"
    },
    "tags": []
   },
   "outputs": [
    {
     "name": "stdout",
     "output_type": "stream",
     "text": [
      "xavier\n",
      "xavier\n",
      "xavier\n",
      "xavier\n",
      "xavier\n"
     ]
    }
   ],
   "source": [
    "layers = [Affine(\"first\", 784, 100), Relu(\"first\"), Affine(\"second\", 100, 100), Relu(\"second\"), Affine(\"third\", 100, 2), Affine(\"last\", 2, 1), Sigmoid(\"last\")]\n",
    "model_nn = Model(layers)\n",
    "model_lr = Model([Affine(\"logits\", 784, 1), Sigmoid(\"sigmoid\")])"
   ]
  },
  {
   "cell_type": "code",
   "execution_count": 20,
   "id": "6eede77a",
   "metadata": {
    "execution": {
     "iopub.execute_input": "2022-01-24T00:23:33.861272Z",
     "iopub.status.busy": "2022-01-24T00:23:33.859309Z",
     "iopub.status.idle": "2022-01-24T00:23:33.867996Z",
     "shell.execute_reply": "2022-01-24T00:23:33.867546Z"
    },
    "papermill": {
     "duration": 0.048129,
     "end_time": "2022-01-24T00:23:33.868116",
     "exception": false,
     "start_time": "2022-01-24T00:23:33.819987",
     "status": "completed"
    },
    "tags": []
   },
   "outputs": [],
   "source": [
    "nn_learner = Learner(loss, model_nn, opt, config.num_epochs)\n",
    "acc_nn = ClfCallback(nn_learner, config.bs, training_data_x , testing_data_x, training_data_y, testing_data_y)\n",
    "nn_learner.set_callbacks([acc_nn])"
   ]
  },
  {
   "cell_type": "code",
   "execution_count": 21,
   "id": "877b6cc7",
   "metadata": {
    "execution": {
     "iopub.execute_input": "2022-01-24T00:23:33.927094Z",
     "iopub.status.busy": "2022-01-24T00:23:33.926570Z",
     "iopub.status.idle": "2022-01-24T00:23:33.938695Z",
     "shell.execute_reply": "2022-01-24T00:23:33.938275Z"
    },
    "papermill": {
     "duration": 0.043524,
     "end_time": "2022-01-24T00:23:33.938812",
     "exception": false,
     "start_time": "2022-01-24T00:23:33.895288",
     "status": "completed"
    },
    "tags": []
   },
   "outputs": [],
   "source": [
    "lr_learner = Learner(loss, model_lr, opt, config.num_epochs)\n",
    "acc_lr = ClfCallback(lr_learner, config.bs, training_data_x , testing_data_x, training_data_y, testing_data_y)\n",
    "lr_learner.set_callbacks([acc_lr])"
   ]
  },
  {
   "cell_type": "code",
   "execution_count": 22,
   "id": "d9b133c3",
   "metadata": {
    "execution": {
     "iopub.execute_input": "2022-01-24T00:23:34.009372Z",
     "iopub.status.busy": "2022-01-24T00:23:34.008802Z",
     "iopub.status.idle": "2022-01-24T00:24:50.488456Z",
     "shell.execute_reply": "2022-01-24T00:24:50.488957Z"
    },
    "papermill": {
     "duration": 76.522824,
     "end_time": "2022-01-24T00:24:50.489102",
     "exception": false,
     "start_time": "2022-01-24T00:23:33.966278",
     "status": "completed"
    },
    "tags": []
   },
   "outputs": [
    {
     "name": "stdout",
     "output_type": "stream",
     "text": [
      "Epoch 0, Loss 0.2381\n",
      "Training Accuracy: 0.7208, Testing Accuracy: 0.7429\n",
      "\n"
     ]
    },
    {
     "name": "stdout",
     "output_type": "stream",
     "text": [
      "Epoch 10, Loss 0.1167\n",
      "Training Accuracy: 0.9177, Testing Accuracy: 0.9269\n",
      "\n"
     ]
    },
    {
     "name": "stdout",
     "output_type": "stream",
     "text": [
      "Epoch 20, Loss 0.0626\n",
      "Training Accuracy: 0.9407, Testing Accuracy: 0.9491\n",
      "\n"
     ]
    },
    {
     "name": "stdout",
     "output_type": "stream",
     "text": [
      "Epoch 30, Loss 0.0466\n",
      "Training Accuracy: 0.9512, Testing Accuracy: 0.9567\n",
      "\n"
     ]
    },
    {
     "name": "stdout",
     "output_type": "stream",
     "text": [
      "Epoch 40, Loss 0.0395\n",
      "Training Accuracy: 0.9549, Testing Accuracy: 0.9657\n",
      "\n"
     ]
    },
    {
     "name": "stdout",
     "output_type": "stream",
     "text": [
      "Epoch 50, Loss 0.0355\n",
      "Training Accuracy: 0.9584, Testing Accuracy: 0.9662\n",
      "\n"
     ]
    },
    {
     "name": "stdout",
     "output_type": "stream",
     "text": [
      "Epoch 60, Loss 0.0329\n",
      "Training Accuracy: 0.9605, Testing Accuracy: 0.9682\n",
      "\n"
     ]
    },
    {
     "name": "stdout",
     "output_type": "stream",
     "text": [
      "Epoch 70, Loss 0.031\n",
      "Training Accuracy: 0.9622, Testing Accuracy: 0.9688\n",
      "\n"
     ]
    },
    {
     "name": "stdout",
     "output_type": "stream",
     "text": [
      "Epoch 80, Loss 0.0295\n",
      "Training Accuracy: 0.9644, Testing Accuracy: 0.9688\n",
      "\n"
     ]
    },
    {
     "name": "stdout",
     "output_type": "stream",
     "text": [
      "Epoch 90, Loss 0.0283\n",
      "Training Accuracy: 0.9659, Testing Accuracy: 0.9693\n",
      "\n"
     ]
    },
    {
     "name": "stdout",
     "output_type": "stream",
     "text": [
      "Epoch 100, Loss 0.0274\n",
      "Training Accuracy: 0.9675, Testing Accuracy: 0.9723\n",
      "\n"
     ]
    },
    {
     "name": "stdout",
     "output_type": "stream",
     "text": [
      "Epoch 110, Loss 0.0265\n",
      "Training Accuracy: 0.9689, Testing Accuracy: 0.9708\n",
      "\n"
     ]
    },
    {
     "name": "stdout",
     "output_type": "stream",
     "text": [
      "Epoch 120, Loss 0.0258\n",
      "Training Accuracy: 0.9695, Testing Accuracy: 0.9718\n",
      "\n"
     ]
    },
    {
     "name": "stdout",
     "output_type": "stream",
     "text": [
      "Epoch 130, Loss 0.0251\n",
      "Training Accuracy: 0.9709, Testing Accuracy: 0.9708\n",
      "\n"
     ]
    },
    {
     "name": "stdout",
     "output_type": "stream",
     "text": [
      "Epoch 140, Loss 0.0245\n",
      "Training Accuracy: 0.9716, Testing Accuracy: 0.9703\n",
      "\n"
     ]
    },
    {
     "name": "stdout",
     "output_type": "stream",
     "text": [
      "Epoch 150, Loss 0.024\n",
      "Training Accuracy: 0.9718, Testing Accuracy: 0.9703\n",
      "\n"
     ]
    },
    {
     "name": "stdout",
     "output_type": "stream",
     "text": [
      "Epoch 160, Loss 0.0234\n",
      "Training Accuracy: 0.9728, Testing Accuracy: 0.9698\n",
      "\n"
     ]
    },
    {
     "name": "stdout",
     "output_type": "stream",
     "text": [
      "Epoch 170, Loss 0.023\n",
      "Training Accuracy: 0.9734, Testing Accuracy: 0.9703\n",
      "\n"
     ]
    },
    {
     "name": "stdout",
     "output_type": "stream",
     "text": [
      "Epoch 180, Loss 0.0225\n",
      "Training Accuracy: 0.9740, Testing Accuracy: 0.9713\n",
      "\n"
     ]
    },
    {
     "name": "stdout",
     "output_type": "stream",
     "text": [
      "Epoch 190, Loss 0.0221\n",
      "Training Accuracy: 0.9748, Testing Accuracy: 0.9718\n",
      "\n"
     ]
    },
    {
     "name": "stdout",
     "output_type": "stream",
     "text": [
      "Epoch 200, Loss 0.0217\n",
      "Training Accuracy: 0.9759, Testing Accuracy: 0.9728\n",
      "\n"
     ]
    },
    {
     "name": "stdout",
     "output_type": "stream",
     "text": [
      "Epoch 210, Loss 0.0213\n",
      "Training Accuracy: 0.9760, Testing Accuracy: 0.9733\n",
      "\n"
     ]
    },
    {
     "name": "stdout",
     "output_type": "stream",
     "text": [
      "Epoch 220, Loss 0.0209\n",
      "Training Accuracy: 0.9766, Testing Accuracy: 0.9728\n",
      "\n"
     ]
    },
    {
     "name": "stdout",
     "output_type": "stream",
     "text": [
      "Epoch 230, Loss 0.0206\n",
      "Training Accuracy: 0.9771, Testing Accuracy: 0.9723\n",
      "\n"
     ]
    },
    {
     "name": "stdout",
     "output_type": "stream",
     "text": [
      "Epoch 240, Loss 0.0202\n",
      "Training Accuracy: 0.9776, Testing Accuracy: 0.9728\n",
      "\n"
     ]
    },
    {
     "data": {
      "text/plain": [
       "0.008520747706612758"
      ]
     },
     "execution_count": 22,
     "metadata": {},
     "output_type": "execute_result"
    }
   ],
   "source": [
    "nn_learner.train_loop(dl)"
   ]
  },
  {
   "cell_type": "code",
   "execution_count": 23,
   "id": "e0163366",
   "metadata": {
    "execution": {
     "iopub.execute_input": "2022-01-24T00:24:50.569415Z",
     "iopub.status.busy": "2022-01-24T00:24:50.568875Z",
     "iopub.status.idle": "2022-01-24T00:25:04.533213Z",
     "shell.execute_reply": "2022-01-24T00:25:04.533960Z"
    },
    "papermill": {
     "duration": 14.010032,
     "end_time": "2022-01-24T00:25:04.534119",
     "exception": false,
     "start_time": "2022-01-24T00:24:50.524087",
     "status": "completed"
    },
    "tags": []
   },
   "outputs": [
    {
     "name": "stdout",
     "output_type": "stream",
     "text": [
      "Epoch 0, Loss 0.227\n",
      "Training Accuracy: 0.7314, Testing Accuracy: 0.7465\n",
      "\n"
     ]
    },
    {
     "name": "stdout",
     "output_type": "stream",
     "text": [
      "Epoch 10, Loss 0.1013\n",
      "Training Accuracy: 0.9128, Testing Accuracy: 0.9284\n",
      "\n"
     ]
    },
    {
     "name": "stdout",
     "output_type": "stream",
     "text": [
      "Epoch 20, Loss 0.0779\n",
      "Training Accuracy: 0.9302, Testing Accuracy: 0.9405\n",
      "\n"
     ]
    },
    {
     "name": "stdout",
     "output_type": "stream",
     "text": [
      "Epoch 30, Loss 0.0672\n",
      "Training Accuracy: 0.9372, Testing Accuracy: 0.9481\n",
      "\n"
     ]
    },
    {
     "name": "stdout",
     "output_type": "stream",
     "text": [
      "Epoch 40, Loss 0.0608\n",
      "Training Accuracy: 0.9412, Testing Accuracy: 0.9541\n",
      "\n"
     ]
    },
    {
     "name": "stdout",
     "output_type": "stream",
     "text": [
      "Epoch 50, Loss 0.0564\n",
      "Training Accuracy: 0.9448, Testing Accuracy: 0.9546\n",
      "\n"
     ]
    },
    {
     "name": "stdout",
     "output_type": "stream",
     "text": [
      "Epoch 60, Loss 0.0533\n",
      "Training Accuracy: 0.9478, Testing Accuracy: 0.9592\n",
      "\n"
     ]
    },
    {
     "name": "stdout",
     "output_type": "stream",
     "text": [
      "Epoch 70, Loss 0.0508\n",
      "Training Accuracy: 0.9500, Testing Accuracy: 0.9602\n",
      "\n"
     ]
    },
    {
     "name": "stdout",
     "output_type": "stream",
     "text": [
      "Epoch 80, Loss 0.0488\n",
      "Training Accuracy: 0.9510, Testing Accuracy: 0.9627\n",
      "\n"
     ]
    },
    {
     "name": "stdout",
     "output_type": "stream",
     "text": [
      "Epoch 90, Loss 0.0472\n",
      "Training Accuracy: 0.9526, Testing Accuracy: 0.9632\n",
      "\n"
     ]
    },
    {
     "name": "stdout",
     "output_type": "stream",
     "text": [
      "Epoch 100, Loss 0.0458\n",
      "Training Accuracy: 0.9538, Testing Accuracy: 0.9632\n",
      "\n"
     ]
    },
    {
     "name": "stdout",
     "output_type": "stream",
     "text": [
      "Epoch 110, Loss 0.0446\n",
      "Training Accuracy: 0.9546, Testing Accuracy: 0.9627\n",
      "\n"
     ]
    },
    {
     "name": "stdout",
     "output_type": "stream",
     "text": [
      "Epoch 120, Loss 0.0436\n",
      "Training Accuracy: 0.9551, Testing Accuracy: 0.9632\n",
      "\n"
     ]
    },
    {
     "name": "stdout",
     "output_type": "stream",
     "text": [
      "Epoch 130, Loss 0.0427\n",
      "Training Accuracy: 0.9554, Testing Accuracy: 0.9637\n",
      "\n"
     ]
    },
    {
     "name": "stdout",
     "output_type": "stream",
     "text": [
      "Epoch 140, Loss 0.0419\n",
      "Training Accuracy: 0.9561, Testing Accuracy: 0.9637\n",
      "\n"
     ]
    },
    {
     "name": "stdout",
     "output_type": "stream",
     "text": [
      "Epoch 150, Loss 0.0411\n",
      "Training Accuracy: 0.9569, Testing Accuracy: 0.9637\n",
      "\n"
     ]
    },
    {
     "name": "stdout",
     "output_type": "stream",
     "text": [
      "Epoch 160, Loss 0.0405\n",
      "Training Accuracy: 0.9579, Testing Accuracy: 0.9642\n",
      "\n"
     ]
    },
    {
     "name": "stdout",
     "output_type": "stream",
     "text": [
      "Epoch 170, Loss 0.0399\n",
      "Training Accuracy: 0.9582, Testing Accuracy: 0.9647\n",
      "\n"
     ]
    },
    {
     "name": "stdout",
     "output_type": "stream",
     "text": [
      "Epoch 180, Loss 0.0393\n",
      "Training Accuracy: 0.9589, Testing Accuracy: 0.9642\n",
      "\n"
     ]
    },
    {
     "name": "stdout",
     "output_type": "stream",
     "text": [
      "Epoch 190, Loss 0.0388\n",
      "Training Accuracy: 0.9594, Testing Accuracy: 0.9642\n",
      "\n"
     ]
    },
    {
     "name": "stdout",
     "output_type": "stream",
     "text": [
      "Epoch 200, Loss 0.0384\n",
      "Training Accuracy: 0.9595, Testing Accuracy: 0.9642\n",
      "\n"
     ]
    },
    {
     "name": "stdout",
     "output_type": "stream",
     "text": [
      "Epoch 210, Loss 0.0379\n",
      "Training Accuracy: 0.9600, Testing Accuracy: 0.9647\n",
      "\n"
     ]
    },
    {
     "name": "stdout",
     "output_type": "stream",
     "text": [
      "Epoch 220, Loss 0.0375\n",
      "Training Accuracy: 0.9602, Testing Accuracy: 0.9642\n",
      "\n"
     ]
    },
    {
     "name": "stdout",
     "output_type": "stream",
     "text": [
      "Epoch 230, Loss 0.0371\n",
      "Training Accuracy: 0.9604, Testing Accuracy: 0.9642\n",
      "\n"
     ]
    },
    {
     "name": "stdout",
     "output_type": "stream",
     "text": [
      "Epoch 240, Loss 0.0368\n",
      "Training Accuracy: 0.9609, Testing Accuracy: 0.9642\n",
      "\n"
     ]
    },
    {
     "data": {
      "text/plain": [
       "0.04727310371764343"
      ]
     },
     "execution_count": 23,
     "metadata": {},
     "output_type": "execute_result"
    }
   ],
   "source": [
    "lr_learner.train_loop(dl)"
   ]
  },
  {
   "cell_type": "code",
   "execution_count": 24,
   "id": "ca410940",
   "metadata": {
    "execution": {
     "iopub.execute_input": "2022-01-24T00:25:04.625723Z",
     "iopub.status.busy": "2022-01-24T00:25:04.625195Z",
     "iopub.status.idle": "2022-01-24T00:25:04.848982Z",
     "shell.execute_reply": "2022-01-24T00:25:04.849382Z"
    },
    "papermill": {
     "duration": 0.274154,
     "end_time": "2022-01-24T00:25:04.849539",
     "exception": false,
     "start_time": "2022-01-24T00:25:04.575385",
     "status": "completed"
    },
    "tags": []
   },
   "outputs": [
    {
     "data": {
      "text/plain": [
       "<matplotlib.legend.Legend at 0x7f367b7a1f28>"
      ]
     },
     "execution_count": 24,
     "metadata": {},
     "output_type": "execute_result"
    },
    {
     "data": {
      "image/png": "[encoded data removed]",
      "text/plain": [
       "<Figure size 1080x720 with 1 Axes>"
      ]
     },
     "metadata": {
      "needs_background": "light"
     },
     "output_type": "display_data"
    }
   ],
   "source": [
    "#comparing the results of NN and LR\n",
    "plt.figure(figsize=(15,10))\n",
    "\n",
    "# Neural Network plots\n",
    "plt.plot(acc_nn.accuracies, 'r-', label = \"Training Accuracies - NN\")\n",
    "plt.plot(acc_nn.test_accuracies, 'g-', label = \"Testing Accuracies - NN\")\n",
    "\n",
    "# Logistic Regression plots\n",
    "plt.plot(acc_lr.accuracies, 'k-', label = \"Training Accuracies - LR\")\n",
    "plt.plot(acc_lr.test_accuracies, 'b-', label = \"Testing Accuracies - LR\")\n",
    "plt.legend()"
   ]
  },
  {
   "cell_type": "markdown",
   "id": "80dfb35c",
   "metadata": {
    "papermill": {
     "duration": 0.042225,
     "end_time": "2022-01-24T00:25:04.934970",
     "exception": false,
     "start_time": "2022-01-24T00:25:04.892745",
     "status": "completed"
    },
    "tags": []
   },
   "source": [
    "#### Plotting the outputs of this layer of the NN.\n"
   ]
  },
  {
   "cell_type": "code",
   "execution_count": 25,
   "id": "45eb2ff5",
   "metadata": {
    "execution": {
     "iopub.execute_input": "2022-01-24T00:25:05.027190Z",
     "iopub.status.busy": "2022-01-24T00:25:05.026647Z",
     "iopub.status.idle": "2022-01-24T00:25:05.044541Z",
     "shell.execute_reply": "2022-01-24T00:25:05.044960Z"
    },
    "papermill": {
     "duration": 0.068001,
     "end_time": "2022-01-24T00:25:05.045107",
     "exception": false,
     "start_time": "2022-01-24T00:25:04.977106",
     "status": "completed"
    },
    "tags": []
   },
   "outputs": [],
   "source": [
    "new_model = Model(layers[:-2])\n",
    "testing_plot = new_model(testing_data_x)"
   ]
  },
  {
   "cell_type": "code",
   "execution_count": 26,
   "id": "4c0a5485",
   "metadata": {
    "execution": {
     "iopub.execute_input": "2022-01-24T00:25:05.134386Z",
     "iopub.status.busy": "2022-01-24T00:25:05.133870Z",
     "iopub.status.idle": "2022-01-24T00:25:05.323236Z",
     "shell.execute_reply": "2022-01-24T00:25:05.322329Z"
    },
    "papermill": {
     "duration": 0.235352,
     "end_time": "2022-01-24T00:25:05.323382",
     "exception": false,
     "start_time": "2022-01-24T00:25:05.088030",
     "status": "completed"
    },
    "tags": []
   },
   "outputs": [
    {
     "data": {
      "text/plain": [
       "Text(0.5, 1.0, 'Outputs')"
      ]
     },
     "execution_count": 26,
     "metadata": {},
     "output_type": "execute_result"
    },
    {
     "data": {
      "image/png": "[encoded data removed]",
      "text/plain": [
       "<Figure size 576x504 with 1 Axes>"
      ]
     },
     "metadata": {
      "needs_background": "light"
     },
     "output_type": "display_data"
    }
   ],
   "source": [
    "# Plotting the scatter plot of points and color coding by class\n",
    "plt.figure(figsize=(8,7))\n",
    "plt.scatter(testing_plot[:,0], testing_plot[:,1], alpha = 0.1, c = y_test.ravel());\n",
    "plt.title('Outputs')"
   ]
  },
  {
   "cell_type": "markdown",
   "id": "a74fcf8f",
   "metadata": {
    "papermill": {
     "duration": 0.043889,
     "end_time": "2022-01-24T00:25:05.412533",
     "exception": false,
     "start_time": "2022-01-24T00:25:05.368644",
     "status": "completed"
    },
    "tags": []
   },
   "source": [
    "Probability contours"
   ]
  },
  {
   "cell_type": "code",
   "execution_count": 27,
   "id": "d0afc8e3",
   "metadata": {
    "execution": {
     "iopub.execute_input": "2022-01-24T00:25:05.517801Z",
     "iopub.status.busy": "2022-01-24T00:25:05.516876Z",
     "iopub.status.idle": "2022-01-24T00:25:05.523712Z",
     "shell.execute_reply": "2022-01-24T00:25:05.523263Z"
    },
    "papermill": {
     "duration": 0.067453,
     "end_time": "2022-01-24T00:25:05.523856",
     "exception": false,
     "start_time": "2022-01-24T00:25:05.456403",
     "status": "completed"
    },
    "tags": []
   },
   "outputs": [],
   "source": [
    "model_prob = Model(layers[-2:]) "
   ]
  },
  {
   "cell_type": "code",
   "execution_count": 28,
   "id": "9b96e238",
   "metadata": {
    "execution": {
     "iopub.execute_input": "2022-01-24T00:25:05.620199Z",
     "iopub.status.busy": "2022-01-24T00:25:05.619628Z",
     "iopub.status.idle": "2022-01-24T00:25:05.631391Z",
     "shell.execute_reply": "2022-01-24T00:25:05.631799Z"
    },
    "papermill": {
     "duration": 0.06372,
     "end_time": "2022-01-24T00:25:05.631944",
     "exception": false,
     "start_time": "2022-01-24T00:25:05.568224",
     "status": "completed"
    },
    "tags": []
   },
   "outputs": [],
   "source": [
    "#creating the x and y ranges according to the above generated plot.\n",
    "x_range = np.linspace(-4, 1, 100) \n",
    "y_range = np.linspace(-6, 6, 100) \n",
    "x_grid, y_grid = np.meshgrid(x_range, y_range) # x_grid and y_grig are of size 100 X 100\n",
    "\n",
    "# converting x_grid and y_grid to continuous arrays\n",
    "x_gridflat = np.ravel(x_grid)\n",
    "y_gridflat = np.ravel(y_grid)\n",
    "\n",
    "# The last layer of the current model takes two columns as input. Hence transpose of np.vstack() is required.\n",
    "X = np.vstack((x_gridflat, y_gridflat)).T\n",
    "\n",
    "prob_contour = model_prob(X).reshape(100,100) "
   ]
  },
  {
   "cell_type": "code",
   "execution_count": 29,
   "id": "da72499a",
   "metadata": {
    "execution": {
     "iopub.execute_input": "2022-01-24T00:25:05.729600Z",
     "iopub.status.busy": "2022-01-24T00:25:05.729076Z",
     "iopub.status.idle": "2022-01-24T00:25:05.969235Z",
     "shell.execute_reply": "2022-01-24T00:25:05.969669Z"
    },
    "papermill": {
     "duration": 0.29344,
     "end_time": "2022-01-24T00:25:05.969816",
     "exception": false,
     "start_time": "2022-01-24T00:25:05.676376",
     "status": "completed"
    },
    "tags": []
   },
   "outputs": [
    {
     "data": {
      "image/png": "[encoded data removed]",
      "text/plain": [
       "<Figure size 720x648 with 1 Axes>"
      ]
     },
     "metadata": {
      "needs_background": "light"
     },
     "output_type": "display_data"
    }
   ],
   "source": [
    "plt.figure(figsize=(10,9))\n",
    "plt.scatter(testing_plot[:,0], testing_plot[:,1], alpha = 0.1, c = y_test.ravel())\n",
    "contours = plt.contour(x_grid,y_grid,prob_contour)\n",
    "plt.title('Probability Contours')\n",
    "plt.clabel(contours, inline = True );"
   ]
  },
  {
   "cell_type": "code",
   "execution_count": null,
   "id": "e81b4ac7",
   "metadata": {
    "papermill": {
     "duration": 0.046568,
     "end_time": "2022-01-24T00:25:06.094562",
     "exception": false,
     "start_time": "2022-01-24T00:25:06.047994",
     "status": "completed"
    },
    "tags": []
   },
   "outputs": [],
   "source": []
  }
 ],
 "metadata": {
  "kernelspec": {
   "display_name": "Python 3",
   "language": "python",
   "name": "python3"
  },
  "language_info": {
   "codemirror_mode": {
    "name": "ipython",
    "version": 3
   },
   "file_extension": ".py",
   "mimetype": "text/x-python",
   "name": "python",
   "nbconvert_exporter": "python",
   "pygments_lexer": "ipython3",
   "version": "3.6.15"
  },
  "papermill": {
   "default_parameters": {},
   "duration": 100.361104,
   "end_time": "2022-01-24T00:25:06.560237",
   "environment_variables": {},
   "exception": null,
   "input_path": "2020-08-11-part2.ipynb",
   "output_path": "2020-08-11-part2.ipynb",
   "parameters": {},
   "start_time": "2022-01-24T00:23:26.199133",
   "version": "2.3.3"
  }
 },
 "nbformat": 4,
 "nbformat_minor": 5
}