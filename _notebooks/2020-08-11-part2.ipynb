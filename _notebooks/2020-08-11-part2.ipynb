{
 "cells": [
  {
   "cell_type": "markdown",
   "id": "98380cd3",
   "metadata": {
    "papermill": {
     "duration": 0.028336,
     "end_time": "2022-02-02T10:08:28.799217",
     "exception": false,
     "start_time": "2022-02-02T10:08:28.770881",
     "status": "completed"
    },
    "tags": []
   },
   "source": [
    "# Distinguish Your Own Digits (DYOD)"
   ]
  },
  {
   "cell_type": "markdown",
   "id": "ef31240d",
   "metadata": {
    "papermill": {
     "duration": 0.023888,
     "end_time": "2022-02-02T10:08:28.847567",
     "exception": false,
     "start_time": "2022-02-02T10:08:28.823679",
     "status": "completed"
    },
    "tags": []
   },
   "source": [
    "You are going to write a classifier that distinguishes between the number 3 and number 8."
   ]
  },
  {
   "cell_type": "code",
   "execution_count": 1,
   "id": "b15c8646",
   "metadata": {
    "execution": {
     "iopub.execute_input": "2022-02-02T10:08:28.907797Z",
     "iopub.status.busy": "2022-02-02T10:08:28.907198Z",
     "iopub.status.idle": "2022-02-02T10:08:28.918310Z",
     "shell.execute_reply": "2022-02-02T10:08:28.917837Z"
    },
    "papermill": {
     "duration": 0.04702,
     "end_time": "2022-02-02T10:08:28.918462",
     "exception": false,
     "start_time": "2022-02-02T10:08:28.871442",
     "status": "completed"
    },
    "tags": []
   },
   "outputs": [],
   "source": [
    "%load_ext autoreload\n",
    "%autoreload 2"
   ]
  },
  {
   "cell_type": "code",
   "execution_count": 2,
   "id": "22ef38dc",
   "metadata": {
    "execution": {
     "iopub.execute_input": "2022-02-02T10:08:28.984082Z",
     "iopub.status.busy": "2022-02-02T10:08:28.980617Z",
     "iopub.status.idle": "2022-02-02T10:08:29.615204Z",
     "shell.execute_reply": "2022-02-02T10:08:29.614628Z"
    },
    "papermill": {
     "duration": 0.672733,
     "end_time": "2022-02-02T10:08:29.615363",
     "exception": false,
     "start_time": "2022-02-02T10:08:28.942630",
     "status": "completed"
    },
    "tags": []
   },
   "outputs": [],
   "source": [
    "%matplotlib inline\n",
    "import numpy as np\n",
    "import matplotlib.pyplot as plt\n",
    "import pandas as pd"
   ]
  },
  {
   "cell_type": "markdown",
   "id": "ba036198",
   "metadata": {
    "papermill": {
     "duration": 0.023828,
     "end_time": "2022-02-02T10:08:29.664336",
     "exception": false,
     "start_time": "2022-02-02T10:08:29.640508",
     "status": "completed"
    },
    "tags": []
   },
   "source": [
    "From the command line run `pip install mnist`. This is a library that will help you bring down the mnist dataset. If you run this from a notebook, you need to put  `!pip install mnist` in a cell by itself."
   ]
  },
  {
   "cell_type": "code",
   "execution_count": 3,
   "id": "bb6ad8a1",
   "metadata": {
    "execution": {
     "iopub.execute_input": "2022-02-02T10:08:29.717372Z",
     "iopub.status.busy": "2022-02-02T10:08:29.716825Z",
     "iopub.status.idle": "2022-02-02T10:08:32.245499Z",
     "shell.execute_reply": "2022-02-02T10:08:32.244330Z"
    },
    "papermill": {
     "duration": 2.557342,
     "end_time": "2022-02-02T10:08:32.245639",
     "exception": false,
     "start_time": "2022-02-02T10:08:29.688297",
     "status": "completed"
    },
    "tags": []
   },
   "outputs": [
    {
     "name": "stdout",
     "output_type": "stream",
     "text": [
      "Collecting mnist\r\n"
     ]
    },
    {
     "name": "stdout",
     "output_type": "stream",
     "text": [
      "  Downloading mnist-0.2.2-py2.py3-none-any.whl (3.5 kB)\r\n",
      "Requirement already satisfied: numpy in /opt/hostedtoolcache/Python/3.6.15/x64/lib/python3.6/site-packages (from mnist) (1.19.5)\r\n"
     ]
    },
    {
     "name": "stdout",
     "output_type": "stream",
     "text": [
      "Installing collected packages: mnist\r\n"
     ]
    },
    {
     "name": "stdout",
     "output_type": "stream",
     "text": [
      "Successfully installed mnist-0.2.2\r\n"
     ]
    }
   ],
   "source": [
    "!pip install mnist"
   ]
  },
  {
   "cell_type": "markdown",
   "id": "69df9c9a",
   "metadata": {
    "papermill": {
     "duration": 0.025023,
     "end_time": "2022-02-02T10:08:32.295900",
     "exception": false,
     "start_time": "2022-02-02T10:08:32.270877",
     "status": "completed"
    },
    "tags": []
   },
   "source": [
    "## Preparing the Data"
   ]
  },
  {
   "cell_type": "code",
   "execution_count": 4,
   "id": "7f69d806",
   "metadata": {
    "execution": {
     "iopub.execute_input": "2022-02-02T10:08:32.356399Z",
     "iopub.status.busy": "2022-02-02T10:08:32.355856Z",
     "iopub.status.idle": "2022-02-02T10:08:32.366801Z",
     "shell.execute_reply": "2022-02-02T10:08:32.366333Z"
    },
    "papermill": {
     "duration": 0.046517,
     "end_time": "2022-02-02T10:08:32.366915",
     "exception": false,
     "start_time": "2022-02-02T10:08:32.320398",
     "status": "completed"
    },
    "tags": []
   },
   "outputs": [],
   "source": [
    "import mnist"
   ]
  },
  {
   "cell_type": "code",
   "execution_count": 5,
   "id": "a411e44f",
   "metadata": {
    "execution": {
     "iopub.execute_input": "2022-02-02T10:08:32.419909Z",
     "iopub.status.busy": "2022-02-02T10:08:32.419388Z",
     "iopub.status.idle": "2022-02-02T10:08:32.986120Z",
     "shell.execute_reply": "2022-02-02T10:08:32.986627Z"
    },
    "papermill": {
     "duration": 0.595192,
     "end_time": "2022-02-02T10:08:32.986786",
     "exception": false,
     "start_time": "2022-02-02T10:08:32.391594",
     "status": "completed"
    },
    "tags": []
   },
   "outputs": [],
   "source": [
    "train_images = mnist.train_images()\n",
    "train_labels = mnist.train_labels()"
   ]
  },
  {
   "cell_type": "code",
   "execution_count": 6,
   "id": "dceab3a5",
   "metadata": {
    "execution": {
     "iopub.execute_input": "2022-02-02T10:08:33.040557Z",
     "iopub.status.busy": "2022-02-02T10:08:33.040039Z",
     "iopub.status.idle": "2022-02-02T10:08:33.054452Z",
     "shell.execute_reply": "2022-02-02T10:08:33.054007Z"
    },
    "papermill": {
     "duration": 0.042818,
     "end_time": "2022-02-02T10:08:33.054570",
     "exception": false,
     "start_time": "2022-02-02T10:08:33.011752",
     "status": "completed"
    },
    "tags": []
   },
   "outputs": [
    {
     "data": {
      "text/plain": [
       "((60000, 28, 28), (60000,))"
      ]
     },
     "execution_count": 6,
     "metadata": {},
     "output_type": "execute_result"
    }
   ],
   "source": [
    "train_images.shape, train_labels.shape"
   ]
  },
  {
   "cell_type": "code",
   "execution_count": 7,
   "id": "f50dc2bb",
   "metadata": {
    "execution": {
     "iopub.execute_input": "2022-02-02T10:08:33.112069Z",
     "iopub.status.busy": "2022-02-02T10:08:33.111539Z",
     "iopub.status.idle": "2022-02-02T10:08:33.298941Z",
     "shell.execute_reply": "2022-02-02T10:08:33.298360Z"
    },
    "papermill": {
     "duration": 0.21961,
     "end_time": "2022-02-02T10:08:33.299101",
     "exception": false,
     "start_time": "2022-02-02T10:08:33.079491",
     "status": "completed"
    },
    "tags": []
   },
   "outputs": [],
   "source": [
    "test_images = mnist.test_images()\n",
    "test_labels = mnist.test_labels()"
   ]
  },
  {
   "cell_type": "code",
   "execution_count": 8,
   "id": "fc38cf1b",
   "metadata": {
    "execution": {
     "iopub.execute_input": "2022-02-02T10:08:33.355640Z",
     "iopub.status.busy": "2022-02-02T10:08:33.354351Z",
     "iopub.status.idle": "2022-02-02T10:08:33.368517Z",
     "shell.execute_reply": "2022-02-02T10:08:33.368076Z"
    },
    "papermill": {
     "duration": 0.043796,
     "end_time": "2022-02-02T10:08:33.368631",
     "exception": false,
     "start_time": "2022-02-02T10:08:33.324835",
     "status": "completed"
    },
    "tags": []
   },
   "outputs": [
    {
     "data": {
      "text/plain": [
       "((10000, 28, 28), (10000,))"
      ]
     },
     "execution_count": 8,
     "metadata": {},
     "output_type": "execute_result"
    }
   ],
   "source": [
    "test_images.shape, test_labels.shape"
   ]
  },
  {
   "cell_type": "code",
   "execution_count": 9,
   "id": "f9ed8fe0",
   "metadata": {
    "execution": {
     "iopub.execute_input": "2022-02-02T10:08:33.422780Z",
     "iopub.status.busy": "2022-02-02T10:08:33.422276Z",
     "iopub.status.idle": "2022-02-02T10:08:33.558702Z",
     "shell.execute_reply": "2022-02-02T10:08:33.559101Z"
    },
    "papermill": {
     "duration": 0.165507,
     "end_time": "2022-02-02T10:08:33.559241",
     "exception": false,
     "start_time": "2022-02-02T10:08:33.393734",
     "status": "completed"
    },
    "tags": []
   },
   "outputs": [
    {
     "name": "stdout",
     "output_type": "stream",
     "text": [
      "2\n"
     ]
    },
    {
     "data": {
      "text/plain": [
       "<matplotlib.image.AxesImage at 0x7f7f513e0c18>"
      ]
     },
     "execution_count": 9,
     "metadata": {},
     "output_type": "execute_result"
    },
    {
     "data": {
      "image/png": "[encoded data removed]",
      "text/plain": [
       "<Figure size 432x288 with 1 Axes>"
      ]
     },
     "metadata": {
      "needs_background": "light"
     },
     "output_type": "display_data"
    }
   ],
   "source": [
    "image_index = 7776 # You may select anything up to 60,000\n",
    "print(train_labels[image_index]) \n",
    "plt.imshow(train_images[image_index], cmap='Greys')"
   ]
  },
  {
   "cell_type": "markdown",
   "id": "a8d2388d",
   "metadata": {
    "papermill": {
     "duration": 0.023471,
     "end_time": "2022-02-02T10:08:33.605996",
     "exception": false,
     "start_time": "2022-02-02T10:08:33.582525",
     "status": "completed"
    },
    "tags": []
   },
   "source": [
    "## Filter data to get 3 and 8 out"
   ]
  },
  {
   "cell_type": "code",
   "execution_count": 10,
   "id": "776f7fc7",
   "metadata": {
    "execution": {
     "iopub.execute_input": "2022-02-02T10:08:33.656715Z",
     "iopub.status.busy": "2022-02-02T10:08:33.656241Z",
     "iopub.status.idle": "2022-02-02T10:08:33.674882Z",
     "shell.execute_reply": "2022-02-02T10:08:33.674477Z"
    },
    "papermill": {
     "duration": 0.045891,
     "end_time": "2022-02-02T10:08:33.675004",
     "exception": false,
     "start_time": "2022-02-02T10:08:33.629113",
     "status": "completed"
    },
    "tags": []
   },
   "outputs": [],
   "source": [
    "train_filter = np.where((train_labels == 3 ) | (train_labels == 8))\n",
    "test_filter = np.where((test_labels == 3) | (test_labels == 8))\n",
    "X_train, y_train = train_images[train_filter], train_labels[train_filter]\n",
    "X_test, y_test = test_images[test_filter], test_labels[test_filter]"
   ]
  },
  {
   "cell_type": "markdown",
   "id": "948f0b7e",
   "metadata": {
    "papermill": {
     "duration": 0.023464,
     "end_time": "2022-02-02T10:08:33.721799",
     "exception": false,
     "start_time": "2022-02-02T10:08:33.698335",
     "status": "completed"
    },
    "tags": []
   },
   "source": [
    "We normalize the pizel values in the 0 to 1 range"
   ]
  },
  {
   "cell_type": "code",
   "execution_count": 11,
   "id": "ee4c2166",
   "metadata": {
    "execution": {
     "iopub.execute_input": "2022-02-02T10:08:33.771611Z",
     "iopub.status.busy": "2022-02-02T10:08:33.771128Z",
     "iopub.status.idle": "2022-02-02T10:08:33.820362Z",
     "shell.execute_reply": "2022-02-02T10:08:33.819794Z"
    },
    "papermill": {
     "duration": 0.075698,
     "end_time": "2022-02-02T10:08:33.820501",
     "exception": false,
     "start_time": "2022-02-02T10:08:33.744803",
     "status": "completed"
    },
    "tags": []
   },
   "outputs": [],
   "source": [
    "X_train = X_train/255.\n",
    "X_test = X_test/255."
   ]
  },
  {
   "cell_type": "markdown",
   "id": "ddcf4fab",
   "metadata": {
    "papermill": {
     "duration": 0.026684,
     "end_time": "2022-02-02T10:08:33.874333",
     "exception": false,
     "start_time": "2022-02-02T10:08:33.847649",
     "status": "completed"
    },
    "tags": []
   },
   "source": [
    "And setup the labels as 1 (when the digit is 3) and 0 (when the digit is 8)"
   ]
  },
  {
   "cell_type": "code",
   "execution_count": 12,
   "id": "7dc908f2",
   "metadata": {
    "execution": {
     "iopub.execute_input": "2022-02-02T10:08:33.944701Z",
     "iopub.status.busy": "2022-02-02T10:08:33.937470Z",
     "iopub.status.idle": "2022-02-02T10:08:33.947526Z",
     "shell.execute_reply": "2022-02-02T10:08:33.947094Z"
    },
    "papermill": {
     "duration": 0.046485,
     "end_time": "2022-02-02T10:08:33.947646",
     "exception": false,
     "start_time": "2022-02-02T10:08:33.901161",
     "status": "completed"
    },
    "tags": []
   },
   "outputs": [],
   "source": [
    "y_train = 1*(y_train==3)\n",
    "y_test = 1*(y_test==3)"
   ]
  },
  {
   "cell_type": "code",
   "execution_count": 13,
   "id": "01e4e969",
   "metadata": {
    "execution": {
     "iopub.execute_input": "2022-02-02T10:08:34.004082Z",
     "iopub.status.busy": "2022-02-02T10:08:34.003552Z",
     "iopub.status.idle": "2022-02-02T10:08:34.017264Z",
     "shell.execute_reply": "2022-02-02T10:08:34.016854Z"
    },
    "papermill": {
     "duration": 0.043539,
     "end_time": "2022-02-02T10:08:34.017382",
     "exception": false,
     "start_time": "2022-02-02T10:08:33.973843",
     "status": "completed"
    },
    "tags": []
   },
   "outputs": [
    {
     "data": {
      "text/plain": [
       "((11982, 28, 28), (1984, 28, 28))"
      ]
     },
     "execution_count": 13,
     "metadata": {},
     "output_type": "execute_result"
    }
   ],
   "source": [
    "X_train.shape, X_test.shape"
   ]
  },
  {
   "cell_type": "markdown",
   "id": "5ccf3f85",
   "metadata": {
    "papermill": {
     "duration": 0.026525,
     "end_time": "2022-02-02T10:08:34.070482",
     "exception": false,
     "start_time": "2022-02-02T10:08:34.043957",
     "status": "completed"
    },
    "tags": []
   },
   "source": [
    "We reshape the data to flatten the image pixels into a set of features or co-variates:"
   ]
  },
  {
   "cell_type": "code",
   "execution_count": 14,
   "id": "5286a4a3",
   "metadata": {
    "execution": {
     "iopub.execute_input": "2022-02-02T10:08:34.129903Z",
     "iopub.status.busy": "2022-02-02T10:08:34.129389Z",
     "iopub.status.idle": "2022-02-02T10:08:34.141663Z",
     "shell.execute_reply": "2022-02-02T10:08:34.142092Z"
    },
    "papermill": {
     "duration": 0.04517,
     "end_time": "2022-02-02T10:08:34.142224",
     "exception": false,
     "start_time": "2022-02-02T10:08:34.097054",
     "status": "completed"
    },
    "tags": []
   },
   "outputs": [
    {
     "data": {
      "text/plain": [
       "((11982, 784), (1984, 784))"
      ]
     },
     "execution_count": 14,
     "metadata": {},
     "output_type": "execute_result"
    }
   ],
   "source": [
    "X_train = X_train.reshape(X_train.shape[0], -1)\n",
    "X_test = X_test.reshape(X_test.shape[0], -1)\n",
    "X_train.shape, X_test.shape"
   ]
  },
  {
   "cell_type": "code",
   "execution_count": 15,
   "id": "73c5f88a",
   "metadata": {
    "execution": {
     "iopub.execute_input": "2022-02-02T10:08:34.200921Z",
     "iopub.status.busy": "2022-02-02T10:08:34.200398Z",
     "iopub.status.idle": "2022-02-02T10:08:34.218424Z",
     "shell.execute_reply": "2022-02-02T10:08:34.218810Z"
    },
    "papermill": {
     "duration": 0.05002,
     "end_time": "2022-02-02T10:08:34.218948",
     "exception": false,
     "start_time": "2022-02-02T10:08:34.168928",
     "status": "completed"
    },
    "tags": []
   },
   "outputs": [],
   "source": [
    "#Impoting functions from 'Kudzu'\n",
    "from kudzu.model import Model\n",
    "from kudzu.train import Learner\n",
    "from kudzu.optim import GD\n",
    "from kudzu.data import Data, Sampler,Dataloader\n",
    "\n",
    "from kudzu.callbacks import AccCallback\n",
    "from kudzu.callbacks import ClfCallback\n",
    "\n",
    "from kudzu.loss import MSE\n",
    "\n",
    "from kudzu.layer import Sigmoid,Relu\n",
    "from kudzu.layer import Affine"
   ]
  },
  {
   "cell_type": "markdown",
   "id": "bc01172a",
   "metadata": {
    "papermill": {
     "duration": 0.026776,
     "end_time": "2022-02-02T10:08:34.272915",
     "exception": false,
     "start_time": "2022-02-02T10:08:34.246139",
     "status": "completed"
    },
    "tags": []
   },
   "source": [
    "### Let us create a `Config` class, to store important parameters. \n",
    "This class essentially plays the role of a dictionary."
   ]
  },
  {
   "cell_type": "code",
   "execution_count": 16,
   "id": "978281aa",
   "metadata": {
    "execution": {
     "iopub.execute_input": "2022-02-02T10:08:34.330545Z",
     "iopub.status.busy": "2022-02-02T10:08:34.330025Z",
     "iopub.status.idle": "2022-02-02T10:08:34.342254Z",
     "shell.execute_reply": "2022-02-02T10:08:34.341840Z"
    },
    "papermill": {
     "duration": 0.042738,
     "end_time": "2022-02-02T10:08:34.342370",
     "exception": false,
     "start_time": "2022-02-02T10:08:34.299632",
     "status": "completed"
    },
    "tags": []
   },
   "outputs": [],
   "source": [
    "class Config:\n",
    "    pass\n",
    "config = Config()\n",
    "config.lr = 0.001\n",
    "config.num_epochs = 250\n",
    "config.bs = 50"
   ]
  },
  {
   "cell_type": "markdown",
   "id": "1385fa59",
   "metadata": {
    "papermill": {
     "duration": 0.026916,
     "end_time": "2022-02-02T10:08:34.396362",
     "exception": false,
     "start_time": "2022-02-02T10:08:34.369446",
     "status": "completed"
    },
    "tags": []
   },
   "source": [
    "### Running Models with the Training data\n",
    "Details about the network layers:\n",
    "- A first affine layer has 784 inputs and does 100 affine transforms. These are followed by a Relu\n",
    "- A second affine layer has 100 inputs from the 100 activations of the past layer, and does 100 affine transforms. These are followed by a Relu\n",
    "- A third affine layer has 100 activations and does 2 affine transformations to create an embedding for visualization. There is no non-linearity here.\n",
    "- A final \"logistic regression\" which has an affine transform from 2 inputs to 1 output, which is squeezed through a sigmoid.\n"
   ]
  },
  {
   "cell_type": "code",
   "execution_count": 17,
   "id": "2b9c66db",
   "metadata": {
    "execution": {
     "iopub.execute_input": "2022-02-02T10:08:34.463772Z",
     "iopub.status.busy": "2022-02-02T10:08:34.461396Z",
     "iopub.status.idle": "2022-02-02T10:08:34.469481Z",
     "shell.execute_reply": "2022-02-02T10:08:34.469015Z"
    },
    "papermill": {
     "duration": 0.04638,
     "end_time": "2022-02-02T10:08:34.469598",
     "exception": false,
     "start_time": "2022-02-02T10:08:34.423218",
     "status": "completed"
    },
    "tags": []
   },
   "outputs": [],
   "source": [
    "data = Data(X_train, y_train.reshape(-1,1))\n",
    "sampler = Sampler(data, config.bs, shuffle=True)\n",
    "\n",
    "dl = Dataloader(data, sampler)\n",
    "\n",
    "opt = GD(config.lr)\n",
    "loss = MSE()"
   ]
  },
  {
   "cell_type": "code",
   "execution_count": 18,
   "id": "b275e4c2",
   "metadata": {
    "execution": {
     "iopub.execute_input": "2022-02-02T10:08:34.540912Z",
     "iopub.status.busy": "2022-02-02T10:08:34.540370Z",
     "iopub.status.idle": "2022-02-02T10:08:34.542428Z",
     "shell.execute_reply": "2022-02-02T10:08:34.542841Z"
    },
    "papermill": {
     "duration": 0.046352,
     "end_time": "2022-02-02T10:08:34.542979",
     "exception": false,
     "start_time": "2022-02-02T10:08:34.496627",
     "status": "completed"
    },
    "tags": []
   },
   "outputs": [],
   "source": [
    "training_data_x = X_train\n",
    "testing_data_x = X_test\n",
    "training_data_y = y_train.reshape(-1,1)\n",
    "testing_data_y = y_test.reshape(-1,1)"
   ]
  },
  {
   "cell_type": "code",
   "execution_count": 19,
   "id": "76951160",
   "metadata": {
    "execution": {
     "iopub.execute_input": "2022-02-02T10:08:34.604951Z",
     "iopub.status.busy": "2022-02-02T10:08:34.601030Z",
     "iopub.status.idle": "2022-02-02T10:08:34.617402Z",
     "shell.execute_reply": "2022-02-02T10:08:34.617785Z"
    },
    "papermill": {
     "duration": 0.048047,
     "end_time": "2022-02-02T10:08:34.617927",
     "exception": false,
     "start_time": "2022-02-02T10:08:34.569880",
     "status": "completed"
    },
    "tags": []
   },
   "outputs": [
    {
     "name": "stdout",
     "output_type": "stream",
     "text": [
      "xavier\n",
      "xavier\n",
      "xavier\n",
      "xavier\n",
      "xavier\n"
     ]
    }
   ],
   "source": [
    "layers = [Affine(\"first\", 784, 100), Relu(\"first\"), Affine(\"second\", 100, 100), Relu(\"second\"), Affine(\"third\", 100, 2), Affine(\"last\", 2, 1), Sigmoid(\"last\")]\n",
    "model_nn = Model(layers)\n",
    "model_lr = Model([Affine(\"logits\", 784, 1), Sigmoid(\"sigmoid\")])"
   ]
  },
  {
   "cell_type": "code",
   "execution_count": 20,
   "id": "6eede77a",
   "metadata": {
    "execution": {
     "iopub.execute_input": "2022-02-02T10:08:34.685586Z",
     "iopub.status.busy": "2022-02-02T10:08:34.679374Z",
     "iopub.status.idle": "2022-02-02T10:08:34.690914Z",
     "shell.execute_reply": "2022-02-02T10:08:34.690478Z"
    },
    "papermill": {
     "duration": 0.045712,
     "end_time": "2022-02-02T10:08:34.691052",
     "exception": false,
     "start_time": "2022-02-02T10:08:34.645340",
     "status": "completed"
    },
    "tags": []
   },
   "outputs": [],
   "source": [
    "nn_learner = Learner(loss, model_nn, opt, config.num_epochs)\n",
    "acc_nn = ClfCallback(nn_learner, config.bs, training_data_x , testing_data_x, training_data_y, testing_data_y)\n",
    "nn_learner.set_callbacks([acc_nn])"
   ]
  },
  {
   "cell_type": "code",
   "execution_count": 21,
   "id": "877b6cc7",
   "metadata": {
    "execution": {
     "iopub.execute_input": "2022-02-02T10:08:34.752329Z",
     "iopub.status.busy": "2022-02-02T10:08:34.751800Z",
     "iopub.status.idle": "2022-02-02T10:08:34.762775Z",
     "shell.execute_reply": "2022-02-02T10:08:34.762356Z"
    },
    "papermill": {
     "duration": 0.043669,
     "end_time": "2022-02-02T10:08:34.762895",
     "exception": false,
     "start_time": "2022-02-02T10:08:34.719226",
     "status": "completed"
    },
    "tags": []
   },
   "outputs": [],
   "source": [
    "lr_learner = Learner(loss, model_lr, opt, config.num_epochs)\n",
    "acc_lr = ClfCallback(lr_learner, config.bs, training_data_x , testing_data_x, training_data_y, testing_data_y)\n",
    "lr_learner.set_callbacks([acc_lr])"
   ]
  },
  {
   "cell_type": "code",
   "execution_count": 22,
   "id": "d9b133c3",
   "metadata": {
    "execution": {
     "iopub.execute_input": "2022-02-02T10:08:34.826431Z",
     "iopub.status.busy": "2022-02-02T10:08:34.825897Z",
     "iopub.status.idle": "2022-02-02T10:09:53.250648Z",
     "shell.execute_reply": "2022-02-02T10:09:53.251419Z"
    },
    "papermill": {
     "duration": 78.46133,
     "end_time": "2022-02-02T10:09:53.251568",
     "exception": false,
     "start_time": "2022-02-02T10:08:34.790238",
     "status": "completed"
    },
    "tags": []
   },
   "outputs": [
    {
     "name": "stdout",
     "output_type": "stream",
     "text": [
      "Epoch 0, Loss 0.2361\n",
      "Training Accuracy: 0.7330, Testing Accuracy: 0.7515\n",
      "\n"
     ]
    },
    {
     "name": "stdout",
     "output_type": "stream",
     "text": [
      "Epoch 10, Loss 0.0641\n",
      "Training Accuracy: 0.9391, Testing Accuracy: 0.9516\n",
      "\n"
     ]
    },
    {
     "name": "stdout",
     "output_type": "stream",
     "text": [
      "Epoch 20, Loss 0.0434\n",
      "Training Accuracy: 0.9563, Testing Accuracy: 0.9602\n",
      "\n"
     ]
    },
    {
     "name": "stdout",
     "output_type": "stream",
     "text": [
      "Epoch 30, Loss 0.0359\n",
      "Training Accuracy: 0.9623, Testing Accuracy: 0.9677\n",
      "\n"
     ]
    },
    {
     "name": "stdout",
     "output_type": "stream",
     "text": [
      "Epoch 40, Loss 0.0319\n",
      "Training Accuracy: 0.9656, Testing Accuracy: 0.9718\n",
      "\n"
     ]
    },
    {
     "name": "stdout",
     "output_type": "stream",
     "text": [
      "Epoch 50, Loss 0.0292\n",
      "Training Accuracy: 0.9671, Testing Accuracy: 0.9743\n",
      "\n"
     ]
    },
    {
     "name": "stdout",
     "output_type": "stream",
     "text": [
      "Epoch 60, Loss 0.0273\n",
      "Training Accuracy: 0.9693, Testing Accuracy: 0.9743\n",
      "\n"
     ]
    },
    {
     "name": "stdout",
     "output_type": "stream",
     "text": [
      "Epoch 70, Loss 0.0258\n",
      "Training Accuracy: 0.9708, Testing Accuracy: 0.9758\n",
      "\n"
     ]
    },
    {
     "name": "stdout",
     "output_type": "stream",
     "text": [
      "Epoch 80, Loss 0.0245\n",
      "Training Accuracy: 0.9725, Testing Accuracy: 0.9748\n",
      "\n"
     ]
    },
    {
     "name": "stdout",
     "output_type": "stream",
     "text": [
      "Epoch 90, Loss 0.0235\n",
      "Training Accuracy: 0.9732, Testing Accuracy: 0.9758\n",
      "\n"
     ]
    },
    {
     "name": "stdout",
     "output_type": "stream",
     "text": [
      "Epoch 100, Loss 0.0226\n",
      "Training Accuracy: 0.9745, Testing Accuracy: 0.9753\n",
      "\n"
     ]
    },
    {
     "name": "stdout",
     "output_type": "stream",
     "text": [
      "Epoch 110, Loss 0.0218\n",
      "Training Accuracy: 0.9754, Testing Accuracy: 0.9758\n",
      "\n"
     ]
    },
    {
     "name": "stdout",
     "output_type": "stream",
     "text": [
      "Epoch 120, Loss 0.021\n",
      "Training Accuracy: 0.9757, Testing Accuracy: 0.9763\n",
      "\n"
     ]
    },
    {
     "name": "stdout",
     "output_type": "stream",
     "text": [
      "Epoch 130, Loss 0.0204\n",
      "Training Accuracy: 0.9765, Testing Accuracy: 0.9763\n",
      "\n"
     ]
    },
    {
     "name": "stdout",
     "output_type": "stream",
     "text": [
      "Epoch 140, Loss 0.0198\n",
      "Training Accuracy: 0.9773, Testing Accuracy: 0.9758\n",
      "\n"
     ]
    },
    {
     "name": "stdout",
     "output_type": "stream",
     "text": [
      "Epoch 150, Loss 0.0192\n",
      "Training Accuracy: 0.9783, Testing Accuracy: 0.9758\n",
      "\n"
     ]
    },
    {
     "name": "stdout",
     "output_type": "stream",
     "text": [
      "Epoch 160, Loss 0.0187\n",
      "Training Accuracy: 0.9786, Testing Accuracy: 0.9763\n",
      "\n"
     ]
    },
    {
     "name": "stdout",
     "output_type": "stream",
     "text": [
      "Epoch 170, Loss 0.0181\n",
      "Training Accuracy: 0.9795, Testing Accuracy: 0.9768\n",
      "\n"
     ]
    },
    {
     "name": "stdout",
     "output_type": "stream",
     "text": [
      "Epoch 180, Loss 0.0176\n",
      "Training Accuracy: 0.9799, Testing Accuracy: 0.9778\n",
      "\n"
     ]
    },
    {
     "name": "stdout",
     "output_type": "stream",
     "text": [
      "Epoch 190, Loss 0.0172\n",
      "Training Accuracy: 0.9808, Testing Accuracy: 0.9783\n",
      "\n"
     ]
    },
    {
     "name": "stdout",
     "output_type": "stream",
     "text": [
      "Epoch 200, Loss 0.0167\n",
      "Training Accuracy: 0.9814, Testing Accuracy: 0.9788\n",
      "\n"
     ]
    },
    {
     "name": "stdout",
     "output_type": "stream",
     "text": [
      "Epoch 210, Loss 0.0163\n",
      "Training Accuracy: 0.9817, Testing Accuracy: 0.9798\n",
      "\n"
     ]
    },
    {
     "name": "stdout",
     "output_type": "stream",
     "text": [
      "Epoch 220, Loss 0.0159\n",
      "Training Accuracy: 0.9827, Testing Accuracy: 0.9793\n",
      "\n"
     ]
    },
    {
     "name": "stdout",
     "output_type": "stream",
     "text": [
      "Epoch 230, Loss 0.0155\n",
      "Training Accuracy: 0.9832, Testing Accuracy: 0.9798\n",
      "\n"
     ]
    },
    {
     "name": "stdout",
     "output_type": "stream",
     "text": [
      "Epoch 240, Loss 0.0151\n",
      "Training Accuracy: 0.9836, Testing Accuracy: 0.9798\n",
      "\n"
     ]
    },
    {
     "data": {
      "text/plain": [
       "0.0031387923127579064"
      ]
     },
     "execution_count": 22,
     "metadata": {},
     "output_type": "execute_result"
    }
   ],
   "source": [
    "nn_learner.train_loop(dl)"
   ]
  },
  {
   "cell_type": "code",
   "execution_count": 23,
   "id": "e0163366",
   "metadata": {
    "execution": {
     "iopub.execute_input": "2022-02-02T10:09:53.317881Z",
     "iopub.status.busy": "2022-02-02T10:09:53.317414Z",
     "iopub.status.idle": "2022-02-02T10:10:06.949320Z",
     "shell.execute_reply": "2022-02-02T10:10:06.948927Z"
    },
    "papermill": {
     "duration": 13.666966,
     "end_time": "2022-02-02T10:10:06.949432",
     "exception": false,
     "start_time": "2022-02-02T10:09:53.282466",
     "status": "completed"
    },
    "tags": []
   },
   "outputs": [
    {
     "name": "stdout",
     "output_type": "stream",
     "text": [
      "Epoch 0, Loss 0.2198\n",
      "Training Accuracy: 0.7128, Testing Accuracy: 0.6880\n",
      "\n"
     ]
    },
    {
     "name": "stdout",
     "output_type": "stream",
     "text": [
      "Epoch 10, Loss 0.1019\n",
      "Training Accuracy: 0.9130, Testing Accuracy: 0.9204\n",
      "\n"
     ]
    },
    {
     "name": "stdout",
     "output_type": "stream",
     "text": [
      "Epoch 20, Loss 0.078\n",
      "Training Accuracy: 0.9321, Testing Accuracy: 0.9415\n",
      "\n"
     ]
    },
    {
     "name": "stdout",
     "output_type": "stream",
     "text": [
      "Epoch 30, Loss 0.0672\n",
      "Training Accuracy: 0.9403, Testing Accuracy: 0.9506\n",
      "\n"
     ]
    },
    {
     "name": "stdout",
     "output_type": "stream",
     "text": [
      "Epoch 40, Loss 0.0608\n",
      "Training Accuracy: 0.9458, Testing Accuracy: 0.9546\n",
      "\n"
     ]
    },
    {
     "name": "stdout",
     "output_type": "stream",
     "text": [
      "Epoch 50, Loss 0.0564\n",
      "Training Accuracy: 0.9474, Testing Accuracy: 0.9556\n",
      "\n"
     ]
    },
    {
     "name": "stdout",
     "output_type": "stream",
     "text": [
      "Epoch 60, Loss 0.0533\n",
      "Training Accuracy: 0.9494, Testing Accuracy: 0.9551\n",
      "\n"
     ]
    },
    {
     "name": "stdout",
     "output_type": "stream",
     "text": [
      "Epoch 70, Loss 0.0508\n",
      "Training Accuracy: 0.9506, Testing Accuracy: 0.9556\n",
      "\n"
     ]
    },
    {
     "name": "stdout",
     "output_type": "stream",
     "text": [
      "Epoch 80, Loss 0.0488\n",
      "Training Accuracy: 0.9517, Testing Accuracy: 0.9561\n",
      "\n"
     ]
    },
    {
     "name": "stdout",
     "output_type": "stream",
     "text": [
      "Epoch 90, Loss 0.0472\n",
      "Training Accuracy: 0.9529, Testing Accuracy: 0.9592\n",
      "\n"
     ]
    },
    {
     "name": "stdout",
     "output_type": "stream",
     "text": [
      "Epoch 100, Loss 0.0458\n",
      "Training Accuracy: 0.9541, Testing Accuracy: 0.9592\n",
      "\n"
     ]
    },
    {
     "name": "stdout",
     "output_type": "stream",
     "text": [
      "Epoch 110, Loss 0.0447\n",
      "Training Accuracy: 0.9549, Testing Accuracy: 0.9607\n",
      "\n"
     ]
    },
    {
     "name": "stdout",
     "output_type": "stream",
     "text": [
      "Epoch 120, Loss 0.0436\n",
      "Training Accuracy: 0.9559, Testing Accuracy: 0.9612\n",
      "\n"
     ]
    },
    {
     "name": "stdout",
     "output_type": "stream",
     "text": [
      "Epoch 130, Loss 0.0427\n",
      "Training Accuracy: 0.9564, Testing Accuracy: 0.9622\n",
      "\n"
     ]
    },
    {
     "name": "stdout",
     "output_type": "stream",
     "text": [
      "Epoch 140, Loss 0.0419\n",
      "Training Accuracy: 0.9569, Testing Accuracy: 0.9632\n",
      "\n"
     ]
    },
    {
     "name": "stdout",
     "output_type": "stream",
     "text": [
      "Epoch 150, Loss 0.0412\n",
      "Training Accuracy: 0.9575, Testing Accuracy: 0.9637\n",
      "\n"
     ]
    },
    {
     "name": "stdout",
     "output_type": "stream",
     "text": [
      "Epoch 160, Loss 0.0406\n",
      "Training Accuracy: 0.9580, Testing Accuracy: 0.9637\n",
      "\n"
     ]
    },
    {
     "name": "stdout",
     "output_type": "stream",
     "text": [
      "Epoch 170, Loss 0.04\n",
      "Training Accuracy: 0.9587, Testing Accuracy: 0.9642\n",
      "\n"
     ]
    },
    {
     "name": "stdout",
     "output_type": "stream",
     "text": [
      "Epoch 180, Loss 0.0394\n",
      "Training Accuracy: 0.9591, Testing Accuracy: 0.9652\n",
      "\n"
     ]
    },
    {
     "name": "stdout",
     "output_type": "stream",
     "text": [
      "Epoch 190, Loss 0.0389\n",
      "Training Accuracy: 0.9595, Testing Accuracy: 0.9657\n",
      "\n"
     ]
    },
    {
     "name": "stdout",
     "output_type": "stream",
     "text": [
      "Epoch 200, Loss 0.0384\n",
      "Training Accuracy: 0.9598, Testing Accuracy: 0.9662\n",
      "\n"
     ]
    },
    {
     "name": "stdout",
     "output_type": "stream",
     "text": [
      "Epoch 210, Loss 0.038\n",
      "Training Accuracy: 0.9600, Testing Accuracy: 0.9667\n",
      "\n"
     ]
    },
    {
     "name": "stdout",
     "output_type": "stream",
     "text": [
      "Epoch 220, Loss 0.0376\n",
      "Training Accuracy: 0.9601, Testing Accuracy: 0.9677\n",
      "\n"
     ]
    },
    {
     "name": "stdout",
     "output_type": "stream",
     "text": [
      "Epoch 230, Loss 0.0372\n",
      "Training Accuracy: 0.9605, Testing Accuracy: 0.9672\n",
      "\n"
     ]
    },
    {
     "name": "stdout",
     "output_type": "stream",
     "text": [
      "Epoch 240, Loss 0.0369\n",
      "Training Accuracy: 0.9606, Testing Accuracy: 0.9672\n",
      "\n"
     ]
    },
    {
     "data": {
      "text/plain": [
       "0.02774751321442607"
      ]
     },
     "execution_count": 23,
     "metadata": {},
     "output_type": "execute_result"
    }
   ],
   "source": [
    "lr_learner.train_loop(dl)"
   ]
  },
  {
   "cell_type": "code",
   "execution_count": 24,
   "id": "ca410940",
   "metadata": {
    "execution": {
     "iopub.execute_input": "2022-02-02T10:10:07.036114Z",
     "iopub.status.busy": "2022-02-02T10:10:07.035639Z",
     "iopub.status.idle": "2022-02-02T10:10:07.236572Z",
     "shell.execute_reply": "2022-02-02T10:10:07.236121Z"
    },
    "papermill": {
     "duration": 0.250517,
     "end_time": "2022-02-02T10:10:07.236701",
     "exception": false,
     "start_time": "2022-02-02T10:10:06.986184",
     "status": "completed"
    },
    "tags": []
   },
   "outputs": [
    {
     "data": {
      "text/plain": [
       "<matplotlib.legend.Legend at 0x7f7f50f4e438>"
      ]
     },
     "execution_count": 24,
     "metadata": {},
     "output_type": "execute_result"
    },
    {
     "data": {
      "image/png": "[encoded data removed]",
      "text/plain": [
       "<Figure size 1080x720 with 1 Axes>"
      ]
     },
     "metadata": {
      "needs_background": "light"
     },
     "output_type": "display_data"
    }
   ],
   "source": [
    "#comparing the results of NN and LR\n",
    "plt.figure(figsize=(15,10))\n",
    "\n",
    "# Neural Network plots\n",
    "plt.plot(acc_nn.accuracies, 'r-', label = \"Training Accuracies - NN\")\n",
    "plt.plot(acc_nn.test_accuracies, 'g-', label = \"Testing Accuracies - NN\")\n",
    "\n",
    "# Logistic Regression plots\n",
    "plt.plot(acc_lr.accuracies, 'k-', label = \"Training Accuracies - LR\")\n",
    "plt.plot(acc_lr.test_accuracies, 'b-', label = \"Testing Accuracies - LR\")\n",
    "plt.legend()"
   ]
  },
  {
   "cell_type": "markdown",
   "id": "80dfb35c",
   "metadata": {
    "papermill": {
     "duration": 0.041592,
     "end_time": "2022-02-02T10:10:07.320617",
     "exception": false,
     "start_time": "2022-02-02T10:10:07.279025",
     "status": "completed"
    },
    "tags": []
   },
   "source": [
    "#### Plotting the outputs of this layer of the NN.\n"
   ]
  },
  {
   "cell_type": "code",
   "execution_count": 25,
   "id": "45eb2ff5",
   "metadata": {
    "execution": {
     "iopub.execute_input": "2022-02-02T10:10:07.408172Z",
     "iopub.status.busy": "2022-02-02T10:10:07.407660Z",
     "iopub.status.idle": "2022-02-02T10:10:07.427620Z",
     "shell.execute_reply": "2022-02-02T10:10:07.428587Z"
    },
    "papermill": {
     "duration": 0.066456,
     "end_time": "2022-02-02T10:10:07.428727",
     "exception": false,
     "start_time": "2022-02-02T10:10:07.362271",
     "status": "completed"
    },
    "tags": []
   },
   "outputs": [],
   "source": [
    "new_model = Model(layers[:-2])\n",
    "testing_plot = new_model(testing_data_x)"
   ]
  },
  {
   "cell_type": "code",
   "execution_count": 26,
   "id": "4c0a5485",
   "metadata": {
    "execution": {
     "iopub.execute_input": "2022-02-02T10:10:07.516217Z",
     "iopub.status.busy": "2022-02-02T10:10:07.515735Z",
     "iopub.status.idle": "2022-02-02T10:10:07.673282Z",
     "shell.execute_reply": "2022-02-02T10:10:07.673655Z"
    },
    "papermill": {
     "duration": 0.207229,
     "end_time": "2022-02-02T10:10:07.673789",
     "exception": false,
     "start_time": "2022-02-02T10:10:07.466560",
     "status": "completed"
    },
    "tags": []
   },
   "outputs": [
    {
     "data": {
      "text/plain": [
       "Text(0.5, 1.0, 'Outputs')"
      ]
     },
     "execution_count": 26,
     "metadata": {},
     "output_type": "execute_result"
    },
    {
     "data": {
      "image/png": "[encoded data removed]",
      "text/plain": [
       "<Figure size 576x504 with 1 Axes>"
      ]
     },
     "metadata": {
      "needs_background": "light"
     },
     "output_type": "display_data"
    }
   ],
   "source": [
    "# Plotting the scatter plot of points and color coding by class\n",
    "plt.figure(figsize=(8,7))\n",
    "plt.scatter(testing_plot[:,0], testing_plot[:,1], alpha = 0.1, c = y_test.ravel());\n",
    "plt.title('Outputs')"
   ]
  },
  {
   "cell_type": "markdown",
   "id": "a74fcf8f",
   "metadata": {
    "papermill": {
     "duration": 0.03822,
     "end_time": "2022-02-02T10:10:07.750459",
     "exception": false,
     "start_time": "2022-02-02T10:10:07.712239",
     "status": "completed"
    },
    "tags": []
   },
   "source": [
    "Probability contours"
   ]
  },
  {
   "cell_type": "code",
   "execution_count": 27,
   "id": "d0afc8e3",
   "metadata": {
    "execution": {
     "iopub.execute_input": "2022-02-02T10:10:07.845958Z",
     "iopub.status.busy": "2022-02-02T10:10:07.845223Z",
     "iopub.status.idle": "2022-02-02T10:10:07.848550Z",
     "shell.execute_reply": "2022-02-02T10:10:07.848910Z"
    },
    "papermill": {
     "duration": 0.060212,
     "end_time": "2022-02-02T10:10:07.849033",
     "exception": false,
     "start_time": "2022-02-02T10:10:07.788821",
     "status": "completed"
    },
    "tags": []
   },
   "outputs": [],
   "source": [
    "model_prob = Model(layers[-2:]) "
   ]
  },
  {
   "cell_type": "code",
   "execution_count": 28,
   "id": "9b96e238",
   "metadata": {
    "execution": {
     "iopub.execute_input": "2022-02-02T10:10:07.967799Z",
     "iopub.status.busy": "2022-02-02T10:10:07.967319Z",
     "iopub.status.idle": "2022-02-02T10:10:07.977690Z",
     "shell.execute_reply": "2022-02-02T10:10:07.977320Z"
    },
    "papermill": {
     "duration": 0.090539,
     "end_time": "2022-02-02T10:10:07.977798",
     "exception": false,
     "start_time": "2022-02-02T10:10:07.887259",
     "status": "completed"
    },
    "tags": []
   },
   "outputs": [],
   "source": [
    "#creating the x and y ranges according to the above generated plot.\n",
    "x_range = np.linspace(-4, 1, 100) \n",
    "y_range = np.linspace(-6, 6, 100) \n",
    "x_grid, y_grid = np.meshgrid(x_range, y_range) # x_grid and y_grig are of size 100 X 100\n",
    "\n",
    "# converting x_grid and y_grid to continuous arrays\n",
    "x_gridflat = np.ravel(x_grid)\n",
    "y_gridflat = np.ravel(y_grid)\n",
    "\n",
    "# The last layer of the current model takes two columns as input. Hence transpose of np.vstack() is required.\n",
    "X = np.vstack((x_gridflat, y_gridflat)).T\n",
    "\n",
    "prob_contour = model_prob(X).reshape(100,100) "
   ]
  },
  {
   "cell_type": "code",
   "execution_count": 29,
   "id": "da72499a",
   "metadata": {
    "execution": {
     "iopub.execute_input": "2022-02-02T10:10:08.064443Z",
     "iopub.status.busy": "2022-02-02T10:10:08.063958Z",
     "iopub.status.idle": "2022-02-02T10:10:08.299783Z",
     "shell.execute_reply": "2022-02-02T10:10:08.300281Z"
    },
    "papermill": {
     "duration": 0.283956,
     "end_time": "2022-02-02T10:10:08.300446",
     "exception": false,
     "start_time": "2022-02-02T10:10:08.016490",
     "status": "completed"
    },
    "tags": []
   },
   "outputs": [
    {
     "data": {
      "image/png": "[encoded data removed]",
      "text/plain": [
       "<Figure size 720x648 with 1 Axes>"
      ]
     },
     "metadata": {
      "needs_background": "light"
     },
     "output_type": "display_data"
    }
   ],
   "source": [
    "plt.figure(figsize=(10,9))\n",
    "plt.scatter(testing_plot[:,0], testing_plot[:,1], alpha = 0.1, c = y_test.ravel())\n",
    "contours = plt.contour(x_grid,y_grid,prob_contour)\n",
    "plt.title('Probability Contours')\n",
    "plt.clabel(contours, inline = True );"
   ]
  },
  {
   "cell_type": "code",
   "execution_count": null,
   "id": "e81b4ac7",
   "metadata": {
    "papermill": {
     "duration": 0.040532,
     "end_time": "2022-02-02T10:10:08.382212",
     "exception": false,
     "start_time": "2022-02-02T10:10:08.341680",
     "status": "completed"
    },
    "tags": []
   },
   "outputs": [],
   "source": []
  }
 ],
 "metadata": {
  "kernelspec": {
   "display_name": "Python 3",
   "language": "python",
   "name": "python3"
  },
  "language_info": {
   "codemirror_mode": {
    "name": "ipython",
    "version": 3
   },
   "file_extension": ".py",
   "mimetype": "text/x-python",
   "name": "python",
   "nbconvert_exporter": "python",
   "pygments_lexer": "ipython3",
   "version": "3.6.15"
  },
  "papermill": {
   "default_parameters": {},
   "duration": 101.0036,
   "end_time": "2022-02-02T10:10:08.841369",
   "environment_variables": {},
   "exception": null,
   "input_path": "2020-08-11-part2.ipynb",
   "output_path": "2020-08-11-part2.ipynb",
   "parameters": {},
   "start_time": "2022-02-02T10:08:27.837769",
   "version": "2.3.3"
  }
 },
 "nbformat": 4,
 "nbformat_minor": 5
}