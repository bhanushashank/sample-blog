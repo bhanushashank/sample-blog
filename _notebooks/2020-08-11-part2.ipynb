{
 "cells": [
  {
   "cell_type": "markdown",
   "id": "98380cd3",
   "metadata": {
    "papermill": {
     "duration": 0.039013,
     "end_time": "2021-08-21T00:18:45.813171",
     "exception": false,
     "start_time": "2021-08-21T00:18:45.774158",
     "status": "completed"
    },
    "tags": []
   },
   "source": [
    "# Distinguish Your Own Digits (DYOD)"
   ]
  },
  {
   "cell_type": "markdown",
   "id": "ef31240d",
   "metadata": {
    "papermill": {
     "duration": 0.032264,
     "end_time": "2021-08-21T00:18:45.877907",
     "exception": false,
     "start_time": "2021-08-21T00:18:45.845643",
     "status": "completed"
    },
    "tags": []
   },
   "source": [
    "You are going to write a classifier that distinguishes between the number 3 and number 8."
   ]
  },
  {
   "cell_type": "code",
   "execution_count": 1,
   "id": "b15c8646",
   "metadata": {
    "execution": {
     "iopub.execute_input": "2021-08-21T00:18:45.956055Z",
     "iopub.status.busy": "2021-08-21T00:18:45.955129Z",
     "iopub.status.idle": "2021-08-21T00:18:45.966475Z",
     "shell.execute_reply": "2021-08-21T00:18:45.965908Z"
    },
    "papermill": {
     "duration": 0.056392,
     "end_time": "2021-08-21T00:18:45.966638",
     "exception": false,
     "start_time": "2021-08-21T00:18:45.910246",
     "status": "completed"
    },
    "tags": []
   },
   "outputs": [],
   "source": [
    "%load_ext autoreload\n",
    "%autoreload 2"
   ]
  },
  {
   "cell_type": "code",
   "execution_count": 2,
   "id": "22ef38dc",
   "metadata": {
    "execution": {
     "iopub.execute_input": "2021-08-21T00:18:46.036824Z",
     "iopub.status.busy": "2021-08-21T00:18:46.036131Z",
     "iopub.status.idle": "2021-08-21T00:18:46.689310Z",
     "shell.execute_reply": "2021-08-21T00:18:46.688555Z"
    },
    "papermill": {
     "duration": 0.690471,
     "end_time": "2021-08-21T00:18:46.689475",
     "exception": false,
     "start_time": "2021-08-21T00:18:45.999004",
     "status": "completed"
    },
    "tags": []
   },
   "outputs": [],
   "source": [
    "%matplotlib inline\n",
    "import numpy as np\n",
    "import matplotlib.pyplot as plt\n",
    "import pandas as pd"
   ]
  },
  {
   "cell_type": "markdown",
   "id": "ba036198",
   "metadata": {
    "papermill": {
     "duration": 0.034621,
     "end_time": "2021-08-21T00:18:46.756763",
     "exception": false,
     "start_time": "2021-08-21T00:18:46.722142",
     "status": "completed"
    },
    "tags": []
   },
   "source": [
    "From the command line run `pip install mnist`. This is a library that will help you bring down the mnist dataset. If you run this from a notebook, you need to put  `!pip install mnist` in a cell by itself."
   ]
  },
  {
   "cell_type": "code",
   "execution_count": 3,
   "id": "bb6ad8a1",
   "metadata": {
    "execution": {
     "iopub.execute_input": "2021-08-21T00:18:46.830422Z",
     "iopub.status.busy": "2021-08-21T00:18:46.829750Z",
     "iopub.status.idle": "2021-08-21T00:18:49.606739Z",
     "shell.execute_reply": "2021-08-21T00:18:49.607278Z"
    },
    "papermill": {
     "duration": 2.817503,
     "end_time": "2021-08-21T00:18:49.607459",
     "exception": false,
     "start_time": "2021-08-21T00:18:46.789956",
     "status": "completed"
    },
    "tags": []
   },
   "outputs": [
    {
     "name": "stdout",
     "output_type": "stream",
     "text": [
      "Collecting mnist\r\n",
      "  Downloading mnist-0.2.2-py2.py3-none-any.whl (3.5 kB)\r\n",
      "Requirement already satisfied: numpy in /opt/hostedtoolcache/Python/3.6.14/x64/lib/python3.6/site-packages (from mnist) (1.19.5)\r\n"
     ]
    },
    {
     "name": "stdout",
     "output_type": "stream",
     "text": [
      "Installing collected packages: mnist\r\n"
     ]
    },
    {
     "name": "stdout",
     "output_type": "stream",
     "text": [
      "Successfully installed mnist-0.2.2\r\n"
     ]
    }
   ],
   "source": [
    "!pip install mnist"
   ]
  },
  {
   "cell_type": "markdown",
   "id": "69df9c9a",
   "metadata": {
    "papermill": {
     "duration": 0.035119,
     "end_time": "2021-08-21T00:18:49.677280",
     "exception": false,
     "start_time": "2021-08-21T00:18:49.642161",
     "status": "completed"
    },
    "tags": []
   },
   "source": [
    "## Preparing the Data"
   ]
  },
  {
   "cell_type": "code",
   "execution_count": 4,
   "id": "7f69d806",
   "metadata": {
    "execution": {
     "iopub.execute_input": "2021-08-21T00:18:49.749999Z",
     "iopub.status.busy": "2021-08-21T00:18:49.749318Z",
     "iopub.status.idle": "2021-08-21T00:18:49.768045Z",
     "shell.execute_reply": "2021-08-21T00:18:49.767360Z"
    },
    "papermill": {
     "duration": 0.056714,
     "end_time": "2021-08-21T00:18:49.768235",
     "exception": false,
     "start_time": "2021-08-21T00:18:49.711521",
     "status": "completed"
    },
    "tags": []
   },
   "outputs": [],
   "source": [
    "import mnist"
   ]
  },
  {
   "cell_type": "code",
   "execution_count": 5,
   "id": "a411e44f",
   "metadata": {
    "execution": {
     "iopub.execute_input": "2021-08-21T00:18:49.841372Z",
     "iopub.status.busy": "2021-08-21T00:18:49.840625Z",
     "iopub.status.idle": "2021-08-21T00:23:36.575288Z",
     "shell.execute_reply": "2021-08-21T00:23:36.574651Z"
    },
    "papermill": {
     "duration": 286.773747,
     "end_time": "2021-08-21T00:23:36.575446",
     "exception": false,
     "start_time": "2021-08-21T00:18:49.801699",
     "status": "completed"
    },
    "tags": []
   },
   "outputs": [],
   "source": [
    "train_images = mnist.train_images()\n",
    "train_labels = mnist.train_labels()"
   ]
  },
  {
   "cell_type": "code",
   "execution_count": 6,
   "id": "dceab3a5",
   "metadata": {
    "execution": {
     "iopub.execute_input": "2021-08-21T00:23:36.663651Z",
     "iopub.status.busy": "2021-08-21T00:23:36.662952Z",
     "iopub.status.idle": "2021-08-21T00:23:36.678710Z",
     "shell.execute_reply": "2021-08-21T00:23:36.678164Z"
    },
    "papermill": {
     "duration": 0.056788,
     "end_time": "2021-08-21T00:23:36.678854",
     "exception": false,
     "start_time": "2021-08-21T00:23:36.622066",
     "status": "completed"
    },
    "tags": []
   },
   "outputs": [
    {
     "data": {
      "text/plain": [
       "((60000, 28, 28), (60000,))"
      ]
     },
     "execution_count": 6,
     "metadata": {},
     "output_type": "execute_result"
    }
   ],
   "source": [
    "train_images.shape, train_labels.shape"
   ]
  },
  {
   "cell_type": "code",
   "execution_count": 7,
   "id": "f50dc2bb",
   "metadata": {
    "execution": {
     "iopub.execute_input": "2021-08-21T00:23:36.753841Z",
     "iopub.status.busy": "2021-08-21T00:23:36.752995Z",
     "iopub.status.idle": "2021-08-21T00:24:26.353521Z",
     "shell.execute_reply": "2021-08-21T00:24:26.352886Z"
    },
    "papermill": {
     "duration": 49.639838,
     "end_time": "2021-08-21T00:24:26.353731",
     "exception": false,
     "start_time": "2021-08-21T00:23:36.713893",
     "status": "completed"
    },
    "tags": []
   },
   "outputs": [],
   "source": [
    "test_images = mnist.test_images()\n",
    "test_labels = mnist.test_labels()"
   ]
  },
  {
   "cell_type": "code",
   "execution_count": 8,
   "id": "fc38cf1b",
   "metadata": {
    "execution": {
     "iopub.execute_input": "2021-08-21T00:24:26.429269Z",
     "iopub.status.busy": "2021-08-21T00:24:26.428670Z",
     "iopub.status.idle": "2021-08-21T00:24:26.442093Z",
     "shell.execute_reply": "2021-08-21T00:24:26.441471Z"
    },
    "papermill": {
     "duration": 0.053937,
     "end_time": "2021-08-21T00:24:26.442250",
     "exception": false,
     "start_time": "2021-08-21T00:24:26.388313",
     "status": "completed"
    },
    "tags": []
   },
   "outputs": [
    {
     "data": {
      "text/plain": [
       "((10000, 28, 28), (10000,))"
      ]
     },
     "execution_count": 8,
     "metadata": {},
     "output_type": "execute_result"
    }
   ],
   "source": [
    "test_images.shape, test_labels.shape"
   ]
  },
  {
   "cell_type": "code",
   "execution_count": 9,
   "id": "f9ed8fe0",
   "metadata": {
    "execution": {
     "iopub.execute_input": "2021-08-21T00:24:26.518110Z",
     "iopub.status.busy": "2021-08-21T00:24:26.517439Z",
     "iopub.status.idle": "2021-08-21T00:24:26.711005Z",
     "shell.execute_reply": "2021-08-21T00:24:26.711560Z"
    },
    "papermill": {
     "duration": 0.233154,
     "end_time": "2021-08-21T00:24:26.711729",
     "exception": false,
     "start_time": "2021-08-21T00:24:26.478575",
     "status": "completed"
    },
    "tags": []
   },
   "outputs": [
    {
     "name": "stdout",
     "output_type": "stream",
     "text": [
      "2\n"
     ]
    },
    {
     "data": {
      "text/plain": [
       "<matplotlib.image.AxesImage at 0x7f194855d908>"
      ]
     },
     "execution_count": 9,
     "metadata": {},
     "output_type": "execute_result"
    },
    {
     "data": {
      "image/png": "[encoded data removed]",
      "text/plain": [
       "<Figure size 432x288 with 1 Axes>"
      ]
     },
     "metadata": {
      "needs_background": "light"
     },
     "output_type": "display_data"
    }
   ],
   "source": [
    "image_index = 7776 # You may select anything up to 60,000\n",
    "print(train_labels[image_index]) \n",
    "plt.imshow(train_images[image_index], cmap='Greys')"
   ]
  },
  {
   "cell_type": "markdown",
   "id": "a8d2388d",
   "metadata": {
    "papermill": {
     "duration": 0.036153,
     "end_time": "2021-08-21T00:24:26.783051",
     "exception": false,
     "start_time": "2021-08-21T00:24:26.746898",
     "status": "completed"
    },
    "tags": []
   },
   "source": [
    "## Filter data to get 3 and 8 out"
   ]
  },
  {
   "cell_type": "code",
   "execution_count": 10,
   "id": "776f7fc7",
   "metadata": {
    "execution": {
     "iopub.execute_input": "2021-08-21T00:24:26.859749Z",
     "iopub.status.busy": "2021-08-21T00:24:26.859065Z",
     "iopub.status.idle": "2021-08-21T00:24:26.880038Z",
     "shell.execute_reply": "2021-08-21T00:24:26.880605Z"
    },
    "papermill": {
     "duration": 0.061261,
     "end_time": "2021-08-21T00:24:26.880776",
     "exception": false,
     "start_time": "2021-08-21T00:24:26.819515",
     "status": "completed"
    },
    "tags": []
   },
   "outputs": [],
   "source": [
    "train_filter = np.where((train_labels == 3 ) | (train_labels == 8))\n",
    "test_filter = np.where((test_labels == 3) | (test_labels == 8))\n",
    "X_train, y_train = train_images[train_filter], train_labels[train_filter]\n",
    "X_test, y_test = test_images[test_filter], test_labels[test_filter]"
   ]
  },
  {
   "cell_type": "markdown",
   "id": "948f0b7e",
   "metadata": {
    "papermill": {
     "duration": 0.036006,
     "end_time": "2021-08-21T00:24:26.953325",
     "exception": false,
     "start_time": "2021-08-21T00:24:26.917319",
     "status": "completed"
    },
    "tags": []
   },
   "source": [
    "We normalize the pizel values in the 0 to 1 range"
   ]
  },
  {
   "cell_type": "code",
   "execution_count": 11,
   "id": "ee4c2166",
   "metadata": {
    "execution": {
     "iopub.execute_input": "2021-08-21T00:24:27.032393Z",
     "iopub.status.busy": "2021-08-21T00:24:27.031466Z",
     "iopub.status.idle": "2021-08-21T00:24:27.097419Z",
     "shell.execute_reply": "2021-08-21T00:24:27.096757Z"
    },
    "papermill": {
     "duration": 0.106361,
     "end_time": "2021-08-21T00:24:27.097574",
     "exception": false,
     "start_time": "2021-08-21T00:24:26.991213",
     "status": "completed"
    },
    "tags": []
   },
   "outputs": [],
   "source": [
    "X_train = X_train/255.\n",
    "X_test = X_test/255."
   ]
  },
  {
   "cell_type": "markdown",
   "id": "ddcf4fab",
   "metadata": {
    "papermill": {
     "duration": 0.035004,
     "end_time": "2021-08-21T00:24:27.169596",
     "exception": false,
     "start_time": "2021-08-21T00:24:27.134592",
     "status": "completed"
    },
    "tags": []
   },
   "source": [
    "And setup the labels as 1 (when the digit is 3) and 0 (when the digit is 8)"
   ]
  },
  {
   "cell_type": "code",
   "execution_count": 12,
   "id": "7dc908f2",
   "metadata": {
    "execution": {
     "iopub.execute_input": "2021-08-21T00:24:27.248782Z",
     "iopub.status.busy": "2021-08-21T00:24:27.248022Z",
     "iopub.status.idle": "2021-08-21T00:24:27.264144Z",
     "shell.execute_reply": "2021-08-21T00:24:27.263525Z"
    },
    "papermill": {
     "duration": 0.057652,
     "end_time": "2021-08-21T00:24:27.264297",
     "exception": false,
     "start_time": "2021-08-21T00:24:27.206645",
     "status": "completed"
    },
    "tags": []
   },
   "outputs": [],
   "source": [
    "y_train = 1*(y_train==3)\n",
    "y_test = 1*(y_test==3)"
   ]
  },
  {
   "cell_type": "code",
   "execution_count": 13,
   "id": "01e4e969",
   "metadata": {
    "execution": {
     "iopub.execute_input": "2021-08-21T00:24:27.343521Z",
     "iopub.status.busy": "2021-08-21T00:24:27.342837Z",
     "iopub.status.idle": "2021-08-21T00:24:27.357262Z",
     "shell.execute_reply": "2021-08-21T00:24:27.357895Z"
    },
    "papermill": {
     "duration": 0.056882,
     "end_time": "2021-08-21T00:24:27.358125",
     "exception": false,
     "start_time": "2021-08-21T00:24:27.301243",
     "status": "completed"
    },
    "tags": []
   },
   "outputs": [
    {
     "data": {
      "text/plain": [
       "((11982, 28, 28), (1984, 28, 28))"
      ]
     },
     "execution_count": 13,
     "metadata": {},
     "output_type": "execute_result"
    }
   ],
   "source": [
    "X_train.shape, X_test.shape"
   ]
  },
  {
   "cell_type": "markdown",
   "id": "5ccf3f85",
   "metadata": {
    "papermill": {
     "duration": 0.036544,
     "end_time": "2021-08-21T00:24:27.433725",
     "exception": false,
     "start_time": "2021-08-21T00:24:27.397181",
     "status": "completed"
    },
    "tags": []
   },
   "source": [
    "We reshape the data to flatten the image pixels into a set of features or co-variates:"
   ]
  },
  {
   "cell_type": "code",
   "execution_count": 14,
   "id": "5286a4a3",
   "metadata": {
    "execution": {
     "iopub.execute_input": "2021-08-21T00:24:27.512670Z",
     "iopub.status.busy": "2021-08-21T00:24:27.511920Z",
     "iopub.status.idle": "2021-08-21T00:24:27.527132Z",
     "shell.execute_reply": "2021-08-21T00:24:27.527823Z"
    },
    "papermill": {
     "duration": 0.05708,
     "end_time": "2021-08-21T00:24:27.528019",
     "exception": false,
     "start_time": "2021-08-21T00:24:27.470939",
     "status": "completed"
    },
    "tags": []
   },
   "outputs": [
    {
     "data": {
      "text/plain": [
       "((11982, 784), (1984, 784))"
      ]
     },
     "execution_count": 14,
     "metadata": {},
     "output_type": "execute_result"
    }
   ],
   "source": [
    "X_train = X_train.reshape(X_train.shape[0], -1)\n",
    "X_test = X_test.reshape(X_test.shape[0], -1)\n",
    "X_train.shape, X_test.shape"
   ]
  },
  {
   "cell_type": "code",
   "execution_count": 15,
   "id": "73c5f88a",
   "metadata": {
    "execution": {
     "iopub.execute_input": "2021-08-21T00:24:27.611168Z",
     "iopub.status.busy": "2021-08-21T00:24:27.610430Z",
     "iopub.status.idle": "2021-08-21T00:24:27.633378Z",
     "shell.execute_reply": "2021-08-21T00:24:27.633914Z"
    },
    "papermill": {
     "duration": 0.067606,
     "end_time": "2021-08-21T00:24:27.634087",
     "exception": false,
     "start_time": "2021-08-21T00:24:27.566481",
     "status": "completed"
    },
    "tags": []
   },
   "outputs": [],
   "source": [
    "#Impoting functions from 'Kudzu'\n",
    "from kudzu.model import Model\n",
    "from kudzu.train import Learner\n",
    "from kudzu.optim import GD\n",
    "from kudzu.data import Data, Sampler,Dataloader\n",
    "\n",
    "from kudzu.callbacks import AccCallback\n",
    "from kudzu.callbacks import ClfCallback\n",
    "\n",
    "from kudzu.loss import MSE\n",
    "\n",
    "from kudzu.layer import Sigmoid,Relu\n",
    "from kudzu.layer import Affine"
   ]
  },
  {
   "cell_type": "markdown",
   "id": "bc01172a",
   "metadata": {
    "papermill": {
     "duration": 0.035759,
     "end_time": "2021-08-21T00:24:27.707050",
     "exception": false,
     "start_time": "2021-08-21T00:24:27.671291",
     "status": "completed"
    },
    "tags": []
   },
   "source": [
    "### Let us create a `Config` class, to store important parameters. \n",
    "This class essentially plays the role of a dictionary."
   ]
  },
  {
   "cell_type": "code",
   "execution_count": 16,
   "id": "978281aa",
   "metadata": {
    "execution": {
     "iopub.execute_input": "2021-08-21T00:24:27.786919Z",
     "iopub.status.busy": "2021-08-21T00:24:27.786291Z",
     "iopub.status.idle": "2021-08-21T00:24:27.799701Z",
     "shell.execute_reply": "2021-08-21T00:24:27.802629Z"
    },
    "papermill": {
     "duration": 0.060021,
     "end_time": "2021-08-21T00:24:27.802796",
     "exception": false,
     "start_time": "2021-08-21T00:24:27.742775",
     "status": "completed"
    },
    "tags": []
   },
   "outputs": [],
   "source": [
    "class Config:\n",
    "    pass\n",
    "config = Config()\n",
    "config.lr = 0.001\n",
    "config.num_epochs = 250\n",
    "config.bs = 50"
   ]
  },
  {
   "cell_type": "markdown",
   "id": "1385fa59",
   "metadata": {
    "papermill": {
     "duration": 0.034192,
     "end_time": "2021-08-21T00:24:27.871993",
     "exception": false,
     "start_time": "2021-08-21T00:24:27.837801",
     "status": "completed"
    },
    "tags": []
   },
   "source": [
    "### Running Models with the Training data\n",
    "Details about the network layers:\n",
    "- A first affine layer has 784 inputs and does 100 affine transforms. These are followed by a Relu\n",
    "- A second affine layer has 100 inputs from the 100 activations of the past layer, and does 100 affine transforms. These are followed by a Relu\n",
    "- A third affine layer has 100 activations and does 2 affine transformations to create an embedding for visualization. There is no non-linearity here.\n",
    "- A final \"logistic regression\" which has an affine transform from 2 inputs to 1 output, which is squeezed through a sigmoid.\n"
   ]
  },
  {
   "cell_type": "code",
   "execution_count": 17,
   "id": "2b9c66db",
   "metadata": {
    "execution": {
     "iopub.execute_input": "2021-08-21T00:24:27.949252Z",
     "iopub.status.busy": "2021-08-21T00:24:27.948596Z",
     "iopub.status.idle": "2021-08-21T00:24:27.962734Z",
     "shell.execute_reply": "2021-08-21T00:24:27.963294Z"
    },
    "papermill": {
     "duration": 0.055548,
     "end_time": "2021-08-21T00:24:27.963439",
     "exception": false,
     "start_time": "2021-08-21T00:24:27.907891",
     "status": "completed"
    },
    "tags": []
   },
   "outputs": [],
   "source": [
    "data = Data(X_train, y_train.reshape(-1,1))\n",
    "sampler = Sampler(data, config.bs, shuffle=True)\n",
    "\n",
    "dl = Dataloader(data, sampler)\n",
    "\n",
    "opt = GD(config.lr)\n",
    "loss = MSE()"
   ]
  },
  {
   "cell_type": "code",
   "execution_count": 18,
   "id": "b275e4c2",
   "metadata": {
    "execution": {
     "iopub.execute_input": "2021-08-21T00:24:28.045938Z",
     "iopub.status.busy": "2021-08-21T00:24:28.045250Z",
     "iopub.status.idle": "2021-08-21T00:24:28.058518Z",
     "shell.execute_reply": "2021-08-21T00:24:28.059123Z"
    },
    "papermill": {
     "duration": 0.05788,
     "end_time": "2021-08-21T00:24:28.059293",
     "exception": false,
     "start_time": "2021-08-21T00:24:28.001413",
     "status": "completed"
    },
    "tags": []
   },
   "outputs": [],
   "source": [
    "training_data_x = X_train\n",
    "testing_data_x = X_test\n",
    "training_data_y = y_train.reshape(-1,1)\n",
    "testing_data_y = y_test.reshape(-1,1)"
   ]
  },
  {
   "cell_type": "code",
   "execution_count": 19,
   "id": "76951160",
   "metadata": {
    "execution": {
     "iopub.execute_input": "2021-08-21T00:24:28.139731Z",
     "iopub.status.busy": "2021-08-21T00:24:28.138888Z",
     "iopub.status.idle": "2021-08-21T00:24:28.158189Z",
     "shell.execute_reply": "2021-08-21T00:24:28.157511Z"
    },
    "papermill": {
     "duration": 0.061766,
     "end_time": "2021-08-21T00:24:28.158335",
     "exception": false,
     "start_time": "2021-08-21T00:24:28.096569",
     "status": "completed"
    },
    "tags": []
   },
   "outputs": [
    {
     "name": "stdout",
     "output_type": "stream",
     "text": [
      "xavier\n",
      "xavier\n",
      "xavier\n",
      "xavier\n",
      "xavier\n"
     ]
    }
   ],
   "source": [
    "layers = [Affine(\"first\", 784, 100), Relu(\"first\"), Affine(\"second\", 100, 100), Relu(\"second\"), Affine(\"third\", 100, 2), Affine(\"last\", 2, 1), Sigmoid(\"last\")]\n",
    "model_nn = Model(layers)\n",
    "model_lr = Model([Affine(\"logits\", 784, 1), Sigmoid(\"sigmoid\")])"
   ]
  },
  {
   "cell_type": "code",
   "execution_count": 20,
   "id": "6eede77a",
   "metadata": {
    "execution": {
     "iopub.execute_input": "2021-08-21T00:24:28.239385Z",
     "iopub.status.busy": "2021-08-21T00:24:28.238711Z",
     "iopub.status.idle": "2021-08-21T00:24:28.252282Z",
     "shell.execute_reply": "2021-08-21T00:24:28.252777Z"
    },
    "papermill": {
     "duration": 0.056056,
     "end_time": "2021-08-21T00:24:28.252940",
     "exception": false,
     "start_time": "2021-08-21T00:24:28.196884",
     "status": "completed"
    },
    "tags": []
   },
   "outputs": [],
   "source": [
    "nn_learner = Learner(loss, model_nn, opt, config.num_epochs)\n",
    "acc_nn = ClfCallback(nn_learner, config.bs, training_data_x , testing_data_x, training_data_y, testing_data_y)\n",
    "nn_learner.set_callbacks([acc_nn])"
   ]
  },
  {
   "cell_type": "code",
   "execution_count": 21,
   "id": "877b6cc7",
   "metadata": {
    "execution": {
     "iopub.execute_input": "2021-08-21T00:24:28.336525Z",
     "iopub.status.busy": "2021-08-21T00:24:28.335629Z",
     "iopub.status.idle": "2021-08-21T00:24:28.348540Z",
     "shell.execute_reply": "2021-08-21T00:24:28.349035Z"
    },
    "papermill": {
     "duration": 0.056918,
     "end_time": "2021-08-21T00:24:28.349210",
     "exception": false,
     "start_time": "2021-08-21T00:24:28.292292",
     "status": "completed"
    },
    "tags": []
   },
   "outputs": [],
   "source": [
    "lr_learner = Learner(loss, model_lr, opt, config.num_epochs)\n",
    "acc_lr = ClfCallback(lr_learner, config.bs, training_data_x , testing_data_x, training_data_y, testing_data_y)\n",
    "lr_learner.set_callbacks([acc_lr])"
   ]
  },
  {
   "cell_type": "code",
   "execution_count": 22,
   "id": "d9b133c3",
   "metadata": {
    "execution": {
     "iopub.execute_input": "2021-08-21T00:24:28.426265Z",
     "iopub.status.busy": "2021-08-21T00:24:28.425446Z",
     "iopub.status.idle": "2021-08-21T00:26:48.927935Z",
     "shell.execute_reply": "2021-08-21T00:26:48.928841Z"
    },
    "papermill": {
     "duration": 140.543335,
     "end_time": "2021-08-21T00:26:48.929004",
     "exception": false,
     "start_time": "2021-08-21T00:24:28.385669",
     "status": "completed"
    },
    "tags": []
   },
   "outputs": [
    {
     "name": "stdout",
     "output_type": "stream",
     "text": [
      "Epoch 0, Loss 0.2255\n",
      "Training Accuracy: 0.6964, Testing Accuracy: 0.6663\n",
      "\n"
     ]
    },
    {
     "name": "stdout",
     "output_type": "stream",
     "text": [
      "Epoch 10, Loss 0.0943\n",
      "Training Accuracy: 0.9155, Testing Accuracy: 0.9254\n",
      "\n"
     ]
    },
    {
     "name": "stdout",
     "output_type": "stream",
     "text": [
      "Epoch 20, Loss 0.0562\n",
      "Training Accuracy: 0.9432, Testing Accuracy: 0.9561\n",
      "\n"
     ]
    },
    {
     "name": "stdout",
     "output_type": "stream",
     "text": [
      "Epoch 30, Loss 0.0438\n",
      "Training Accuracy: 0.9520, Testing Accuracy: 0.9637\n",
      "\n"
     ]
    },
    {
     "name": "stdout",
     "output_type": "stream",
     "text": [
      "Epoch 40, Loss 0.0379\n",
      "Training Accuracy: 0.9579, Testing Accuracy: 0.9662\n",
      "\n"
     ]
    },
    {
     "name": "stdout",
     "output_type": "stream",
     "text": [
      "Epoch 50, Loss 0.0343\n",
      "Training Accuracy: 0.9610, Testing Accuracy: 0.9688\n",
      "\n"
     ]
    },
    {
     "name": "stdout",
     "output_type": "stream",
     "text": [
      "Epoch 60, Loss 0.0319\n",
      "Training Accuracy: 0.9626, Testing Accuracy: 0.9698\n",
      "\n"
     ]
    },
    {
     "name": "stdout",
     "output_type": "stream",
     "text": [
      "Epoch 70, Loss 0.03\n",
      "Training Accuracy: 0.9654, Testing Accuracy: 0.9708\n",
      "\n"
     ]
    },
    {
     "name": "stdout",
     "output_type": "stream",
     "text": [
      "Epoch 80, Loss 0.0285\n",
      "Training Accuracy: 0.9670, Testing Accuracy: 0.9713\n",
      "\n"
     ]
    },
    {
     "name": "stdout",
     "output_type": "stream",
     "text": [
      "Epoch 90, Loss 0.0273\n",
      "Training Accuracy: 0.9686, Testing Accuracy: 0.9718\n",
      "\n"
     ]
    },
    {
     "name": "stdout",
     "output_type": "stream",
     "text": [
      "Epoch 100, Loss 0.0262\n",
      "Training Accuracy: 0.9700, Testing Accuracy: 0.9723\n",
      "\n"
     ]
    },
    {
     "name": "stdout",
     "output_type": "stream",
     "text": [
      "Epoch 110, Loss 0.0253\n",
      "Training Accuracy: 0.9710, Testing Accuracy: 0.9723\n",
      "\n"
     ]
    },
    {
     "name": "stdout",
     "output_type": "stream",
     "text": [
      "Epoch 120, Loss 0.0245\n",
      "Training Accuracy: 0.9720, Testing Accuracy: 0.9713\n",
      "\n"
     ]
    },
    {
     "name": "stdout",
     "output_type": "stream",
     "text": [
      "Epoch 130, Loss 0.0238\n",
      "Training Accuracy: 0.9732, Testing Accuracy: 0.9728\n",
      "\n"
     ]
    },
    {
     "name": "stdout",
     "output_type": "stream",
     "text": [
      "Epoch 140, Loss 0.0232\n",
      "Training Accuracy: 0.9739, Testing Accuracy: 0.9738\n",
      "\n"
     ]
    },
    {
     "name": "stdout",
     "output_type": "stream",
     "text": [
      "Epoch 150, Loss 0.0225\n",
      "Training Accuracy: 0.9749, Testing Accuracy: 0.9738\n",
      "\n"
     ]
    },
    {
     "name": "stdout",
     "output_type": "stream",
     "text": [
      "Epoch 160, Loss 0.022\n",
      "Training Accuracy: 0.9750, Testing Accuracy: 0.9748\n",
      "\n"
     ]
    },
    {
     "name": "stdout",
     "output_type": "stream",
     "text": [
      "Epoch 170, Loss 0.0215\n",
      "Training Accuracy: 0.9755, Testing Accuracy: 0.9743\n",
      "\n"
     ]
    },
    {
     "name": "stdout",
     "output_type": "stream",
     "text": [
      "Epoch 180, Loss 0.021\n",
      "Training Accuracy: 0.9764, Testing Accuracy: 0.9738\n",
      "\n"
     ]
    },
    {
     "name": "stdout",
     "output_type": "stream",
     "text": [
      "Epoch 190, Loss 0.0205\n",
      "Training Accuracy: 0.9767, Testing Accuracy: 0.9733\n",
      "\n"
     ]
    },
    {
     "name": "stdout",
     "output_type": "stream",
     "text": [
      "Epoch 200, Loss 0.0201\n",
      "Training Accuracy: 0.9773, Testing Accuracy: 0.9733\n",
      "\n"
     ]
    },
    {
     "name": "stdout",
     "output_type": "stream",
     "text": [
      "Epoch 210, Loss 0.0197\n",
      "Training Accuracy: 0.9776, Testing Accuracy: 0.9738\n",
      "\n"
     ]
    },
    {
     "name": "stdout",
     "output_type": "stream",
     "text": [
      "Epoch 220, Loss 0.0193\n",
      "Training Accuracy: 0.9778, Testing Accuracy: 0.9738\n",
      "\n"
     ]
    },
    {
     "name": "stdout",
     "output_type": "stream",
     "text": [
      "Epoch 230, Loss 0.0189\n",
      "Training Accuracy: 0.9784, Testing Accuracy: 0.9743\n",
      "\n"
     ]
    },
    {
     "name": "stdout",
     "output_type": "stream",
     "text": [
      "Epoch 240, Loss 0.0185\n",
      "Training Accuracy: 0.9791, Testing Accuracy: 0.9743\n",
      "\n"
     ]
    },
    {
     "data": {
      "text/plain": [
       "0.012737380242756594"
      ]
     },
     "execution_count": 22,
     "metadata": {},
     "output_type": "execute_result"
    }
   ],
   "source": [
    "nn_learner.train_loop(dl)"
   ]
  },
  {
   "cell_type": "code",
   "execution_count": 23,
   "id": "e0163366",
   "metadata": {
    "execution": {
     "iopub.execute_input": "2021-08-21T00:26:49.033664Z",
     "iopub.status.busy": "2021-08-21T00:26:49.032979Z",
     "iopub.status.idle": "2021-08-21T00:27:08.959529Z",
     "shell.execute_reply": "2021-08-21T00:27:08.960439Z"
    },
    "papermill": {
     "duration": 19.98608,
     "end_time": "2021-08-21T00:27:08.960609",
     "exception": false,
     "start_time": "2021-08-21T00:26:48.974529",
     "status": "completed"
    },
    "tags": []
   },
   "outputs": [
    {
     "name": "stdout",
     "output_type": "stream",
     "text": [
      "Epoch 0, Loss 0.205\n",
      "Training Accuracy: 0.8366, Testing Accuracy: 0.8367\n",
      "\n"
     ]
    },
    {
     "name": "stdout",
     "output_type": "stream",
     "text": [
      "Epoch 10, Loss 0.0971\n",
      "Training Accuracy: 0.9198, Testing Accuracy: 0.9325\n",
      "\n"
     ]
    },
    {
     "name": "stdout",
     "output_type": "stream",
     "text": [
      "Epoch 20, Loss 0.0765\n",
      "Training Accuracy: 0.9303, Testing Accuracy: 0.9435\n",
      "\n"
     ]
    },
    {
     "name": "stdout",
     "output_type": "stream",
     "text": [
      "Epoch 30, Loss 0.0667\n",
      "Training Accuracy: 0.9374, Testing Accuracy: 0.9476\n",
      "\n"
     ]
    },
    {
     "name": "stdout",
     "output_type": "stream",
     "text": [
      "Epoch 40, Loss 0.0606\n",
      "Training Accuracy: 0.9426, Testing Accuracy: 0.9536\n",
      "\n"
     ]
    },
    {
     "name": "stdout",
     "output_type": "stream",
     "text": [
      "Epoch 50, Loss 0.0565\n",
      "Training Accuracy: 0.9463, Testing Accuracy: 0.9546\n",
      "\n"
     ]
    },
    {
     "name": "stdout",
     "output_type": "stream",
     "text": [
      "Epoch 60, Loss 0.0534\n",
      "Training Accuracy: 0.9484, Testing Accuracy: 0.9556\n",
      "\n"
     ]
    },
    {
     "name": "stdout",
     "output_type": "stream",
     "text": [
      "Epoch 70, Loss 0.051\n",
      "Training Accuracy: 0.9498, Testing Accuracy: 0.9572\n",
      "\n"
     ]
    },
    {
     "name": "stdout",
     "output_type": "stream",
     "text": [
      "Epoch 80, Loss 0.049\n",
      "Training Accuracy: 0.9509, Testing Accuracy: 0.9592\n",
      "\n"
     ]
    },
    {
     "name": "stdout",
     "output_type": "stream",
     "text": [
      "Epoch 90, Loss 0.0474\n",
      "Training Accuracy: 0.9523, Testing Accuracy: 0.9607\n",
      "\n"
     ]
    },
    {
     "name": "stdout",
     "output_type": "stream",
     "text": [
      "Epoch 100, Loss 0.046\n",
      "Training Accuracy: 0.9528, Testing Accuracy: 0.9622\n",
      "\n"
     ]
    },
    {
     "name": "stdout",
     "output_type": "stream",
     "text": [
      "Epoch 110, Loss 0.0449\n",
      "Training Accuracy: 0.9538, Testing Accuracy: 0.9642\n",
      "\n"
     ]
    },
    {
     "name": "stdout",
     "output_type": "stream",
     "text": [
      "Epoch 120, Loss 0.0438\n",
      "Training Accuracy: 0.9542, Testing Accuracy: 0.9647\n",
      "\n"
     ]
    },
    {
     "name": "stdout",
     "output_type": "stream",
     "text": [
      "Epoch 130, Loss 0.0429\n",
      "Training Accuracy: 0.9550, Testing Accuracy: 0.9657\n",
      "\n"
     ]
    },
    {
     "name": "stdout",
     "output_type": "stream",
     "text": [
      "Epoch 140, Loss 0.0421\n",
      "Training Accuracy: 0.9556, Testing Accuracy: 0.9667\n",
      "\n"
     ]
    },
    {
     "name": "stdout",
     "output_type": "stream",
     "text": [
      "Epoch 150, Loss 0.0414\n",
      "Training Accuracy: 0.9559, Testing Accuracy: 0.9677\n",
      "\n"
     ]
    },
    {
     "name": "stdout",
     "output_type": "stream",
     "text": [
      "Epoch 160, Loss 0.0407\n",
      "Training Accuracy: 0.9565, Testing Accuracy: 0.9672\n",
      "\n"
     ]
    },
    {
     "name": "stdout",
     "output_type": "stream",
     "text": [
      "Epoch 170, Loss 0.0401\n",
      "Training Accuracy: 0.9572, Testing Accuracy: 0.9667\n",
      "\n"
     ]
    },
    {
     "name": "stdout",
     "output_type": "stream",
     "text": [
      "Epoch 180, Loss 0.0396\n",
      "Training Accuracy: 0.9578, Testing Accuracy: 0.9667\n",
      "\n"
     ]
    },
    {
     "name": "stdout",
     "output_type": "stream",
     "text": [
      "Epoch 190, Loss 0.0391\n",
      "Training Accuracy: 0.9584, Testing Accuracy: 0.9677\n",
      "\n"
     ]
    },
    {
     "name": "stdout",
     "output_type": "stream",
     "text": [
      "Epoch 200, Loss 0.0386\n",
      "Training Accuracy: 0.9590, Testing Accuracy: 0.9672\n",
      "\n"
     ]
    },
    {
     "name": "stdout",
     "output_type": "stream",
     "text": [
      "Epoch 210, Loss 0.0382\n",
      "Training Accuracy: 0.9594, Testing Accuracy: 0.9672\n",
      "\n"
     ]
    },
    {
     "name": "stdout",
     "output_type": "stream",
     "text": [
      "Epoch 220, Loss 0.0378\n",
      "Training Accuracy: 0.9598, Testing Accuracy: 0.9677\n",
      "\n"
     ]
    },
    {
     "name": "stdout",
     "output_type": "stream",
     "text": [
      "Epoch 230, Loss 0.0374\n",
      "Training Accuracy: 0.9596, Testing Accuracy: 0.9677\n",
      "\n"
     ]
    },
    {
     "name": "stdout",
     "output_type": "stream",
     "text": [
      "Epoch 240, Loss 0.037\n",
      "Training Accuracy: 0.9601, Testing Accuracy: 0.9672\n",
      "\n"
     ]
    },
    {
     "data": {
      "text/plain": [
       "0.08469280301350775"
      ]
     },
     "execution_count": 23,
     "metadata": {},
     "output_type": "execute_result"
    }
   ],
   "source": [
    "lr_learner.train_loop(dl)"
   ]
  },
  {
   "cell_type": "code",
   "execution_count": 24,
   "id": "ca410940",
   "metadata": {
    "execution": {
     "iopub.execute_input": "2021-08-21T00:27:09.081409Z",
     "iopub.status.busy": "2021-08-21T00:27:09.080713Z",
     "iopub.status.idle": "2021-08-21T00:27:09.402566Z",
     "shell.execute_reply": "2021-08-21T00:27:09.403095Z"
    },
    "papermill": {
     "duration": 0.38926,
     "end_time": "2021-08-21T00:27:09.403267",
     "exception": false,
     "start_time": "2021-08-21T00:27:09.014007",
     "status": "completed"
    },
    "tags": []
   },
   "outputs": [
    {
     "data": {
      "text/plain": [
       "<matplotlib.legend.Legend at 0x7f19480c19e8>"
      ]
     },
     "execution_count": 24,
     "metadata": {},
     "output_type": "execute_result"
    },
    {
     "data": {
      "image/png": "[encoded data removed]",
      "text/plain": [
       "<Figure size 1080x720 with 1 Axes>"
      ]
     },
     "metadata": {
      "needs_background": "light"
     },
     "output_type": "display_data"
    }
   ],
   "source": [
    "#comparing the results of NN and LR\n",
    "plt.figure(figsize=(15,10))\n",
    "\n",
    "# Neural Network plots\n",
    "plt.plot(acc_nn.accuracies, 'r-', label = \"Training Accuracies - NN\")\n",
    "plt.plot(acc_nn.test_accuracies, 'g-', label = \"Testing Accuracies - NN\")\n",
    "\n",
    "# Logistic Regression plots\n",
    "plt.plot(acc_lr.accuracies, 'k-', label = \"Training Accuracies - LR\")\n",
    "plt.plot(acc_lr.test_accuracies, 'b-', label = \"Testing Accuracies - LR\")\n",
    "plt.legend()"
   ]
  },
  {
   "cell_type": "markdown",
   "id": "80dfb35c",
   "metadata": {
    "papermill": {
     "duration": 0.055799,
     "end_time": "2021-08-21T00:27:09.517123",
     "exception": false,
     "start_time": "2021-08-21T00:27:09.461324",
     "status": "completed"
    },
    "tags": []
   },
   "source": [
    "#### Plotting the outputs of this layer of the NN.\n"
   ]
  },
  {
   "cell_type": "code",
   "execution_count": 25,
   "id": "45eb2ff5",
   "metadata": {
    "execution": {
     "iopub.execute_input": "2021-08-21T00:27:09.636395Z",
     "iopub.status.busy": "2021-08-21T00:27:09.634542Z",
     "iopub.status.idle": "2021-08-21T00:27:09.663233Z",
     "shell.execute_reply": "2021-08-21T00:27:09.662226Z"
    },
    "papermill": {
     "duration": 0.089254,
     "end_time": "2021-08-21T00:27:09.663386",
     "exception": false,
     "start_time": "2021-08-21T00:27:09.574132",
     "status": "completed"
    },
    "tags": []
   },
   "outputs": [],
   "source": [
    "new_model = Model(layers[:-2])\n",
    "testing_plot = new_model(testing_data_x)"
   ]
  },
  {
   "cell_type": "code",
   "execution_count": 26,
   "id": "4c0a5485",
   "metadata": {
    "execution": {
     "iopub.execute_input": "2021-08-21T00:27:09.798675Z",
     "iopub.status.busy": "2021-08-21T00:27:09.796915Z",
     "iopub.status.idle": "2021-08-21T00:27:10.059371Z",
     "shell.execute_reply": "2021-08-21T00:27:10.058783Z"
    },
    "papermill": {
     "duration": 0.328775,
     "end_time": "2021-08-21T00:27:10.059517",
     "exception": false,
     "start_time": "2021-08-21T00:27:09.730742",
     "status": "completed"
    },
    "tags": []
   },
   "outputs": [
    {
     "data": {
      "text/plain": [
       "Text(0.5, 1.0, 'Outputs')"
      ]
     },
     "execution_count": 26,
     "metadata": {},
     "output_type": "execute_result"
    },
    {
     "data": {
      "image/png": "[encoded data removed]",
      "text/plain": [
       "<Figure size 576x504 with 1 Axes>"
      ]
     },
     "metadata": {
      "needs_background": "light"
     },
     "output_type": "display_data"
    }
   ],
   "source": [
    "# Plotting the scatter plot of points and color coding by class\n",
    "plt.figure(figsize=(8,7))\n",
    "plt.scatter(testing_plot[:,0], testing_plot[:,1], alpha = 0.1, c = y_test.ravel());\n",
    "plt.title('Outputs')"
   ]
  },
  {
   "cell_type": "markdown",
   "id": "a74fcf8f",
   "metadata": {
    "papermill": {
     "duration": 0.059686,
     "end_time": "2021-08-21T00:27:10.178377",
     "exception": false,
     "start_time": "2021-08-21T00:27:10.118691",
     "status": "completed"
    },
    "tags": []
   },
   "source": [
    "Probability contours"
   ]
  },
  {
   "cell_type": "code",
   "execution_count": 27,
   "id": "d0afc8e3",
   "metadata": {
    "execution": {
     "iopub.execute_input": "2021-08-21T00:27:10.301362Z",
     "iopub.status.busy": "2021-08-21T00:27:10.300679Z",
     "iopub.status.idle": "2021-08-21T00:27:10.314458Z",
     "shell.execute_reply": "2021-08-21T00:27:10.313736Z"
    },
    "papermill": {
     "duration": 0.077442,
     "end_time": "2021-08-21T00:27:10.314656",
     "exception": false,
     "start_time": "2021-08-21T00:27:10.237214",
     "status": "completed"
    },
    "tags": []
   },
   "outputs": [],
   "source": [
    "model_prob = Model(layers[-2:]) "
   ]
  },
  {
   "cell_type": "code",
   "execution_count": 28,
   "id": "9b96e238",
   "metadata": {
    "execution": {
     "iopub.execute_input": "2021-08-21T00:27:10.468798Z",
     "iopub.status.busy": "2021-08-21T00:27:10.467996Z",
     "iopub.status.idle": "2021-08-21T00:27:10.483236Z",
     "shell.execute_reply": "2021-08-21T00:27:10.483752Z"
    },
    "papermill": {
     "duration": 0.081424,
     "end_time": "2021-08-21T00:27:10.483959",
     "exception": false,
     "start_time": "2021-08-21T00:27:10.402535",
     "status": "completed"
    },
    "tags": []
   },
   "outputs": [],
   "source": [
    "#creating the x and y ranges according to the above generated plot.\n",
    "x_range = np.linspace(-4, 1, 100) \n",
    "y_range = np.linspace(-6, 6, 100) \n",
    "x_grid, y_grid = np.meshgrid(x_range, y_range) # x_grid and y_grig are of size 100 X 100\n",
    "\n",
    "# converting x_grid and y_grid to continuous arrays\n",
    "x_gridflat = np.ravel(x_grid)\n",
    "y_gridflat = np.ravel(y_grid)\n",
    "\n",
    "# The last layer of the current model takes two columns as input. Hence transpose of np.vstack() is required.\n",
    "X = np.vstack((x_gridflat, y_gridflat)).T\n",
    "\n",
    "prob_contour = model_prob(X).reshape(100,100) "
   ]
  },
  {
   "cell_type": "code",
   "execution_count": 29,
   "id": "da72499a",
   "metadata": {
    "execution": {
     "iopub.execute_input": "2021-08-21T00:27:10.614053Z",
     "iopub.status.busy": "2021-08-21T00:27:10.613375Z",
     "iopub.status.idle": "2021-08-21T00:27:10.937174Z",
     "shell.execute_reply": "2021-08-21T00:27:10.937763Z"
    },
    "papermill": {
     "duration": 0.386462,
     "end_time": "2021-08-21T00:27:10.937950",
     "exception": false,
     "start_time": "2021-08-21T00:27:10.551488",
     "status": "completed"
    },
    "tags": []
   },
   "outputs": [
    {
     "data": {
      "image/png": "[encoded data removed]",
      "text/plain": [
       "<Figure size 720x648 with 1 Axes>"
      ]
     },
     "metadata": {
      "needs_background": "light"
     },
     "output_type": "display_data"
    }
   ],
   "source": [
    "plt.figure(figsize=(10,9))\n",
    "plt.scatter(testing_plot[:,0], testing_plot[:,1], alpha = 0.1, c = y_test.ravel())\n",
    "contours = plt.contour(x_grid,y_grid,prob_contour)\n",
    "plt.title('Probability Contours')\n",
    "plt.clabel(contours, inline = True );"
   ]
  },
  {
   "cell_type": "code",
   "execution_count": null,
   "id": "e81b4ac7",
   "metadata": {
    "papermill": {
     "duration": 0.060826,
     "end_time": "2021-08-21T00:27:11.060809",
     "exception": false,
     "start_time": "2021-08-21T00:27:10.999983",
     "status": "completed"
    },
    "tags": []
   },
   "outputs": [],
   "source": []
  }
 ],
 "metadata": {
  "kernelspec": {
   "display_name": "Python 3",
   "language": "python",
   "name": "python3"
  },
  "language_info": {
   "codemirror_mode": {
    "name": "ipython",
    "version": 3
   },
   "file_extension": ".py",
   "mimetype": "text/x-python",
   "name": "python",
   "nbconvert_exporter": "python",
   "pygments_lexer": "ipython3",
   "version": "3.6.14"
  },
  "papermill": {
   "default_parameters": {},
   "duration": 506.942341,
   "end_time": "2021-08-21T00:27:11.532907",
   "environment_variables": {},
   "exception": null,
   "input_path": "2020-08-11-part2.ipynb",
   "output_path": "2020-08-11-part2.ipynb",
   "parameters": {},
   "start_time": "2021-08-21T00:18:44.590566",
   "version": "2.3.3"
  }
 },
 "nbformat": 4,
 "nbformat_minor": 5
}