{
 "cells": [
  {
   "cell_type": "markdown",
   "id": "98380cd3",
   "metadata": {
    "papermill": {
     "duration": 0.032218,
     "end_time": "2022-05-07T20:10:37.288068",
     "exception": false,
     "start_time": "2022-05-07T20:10:37.255850",
     "status": "completed"
    },
    "tags": []
   },
   "source": [
    "# Distinguish Your Own Digits (DYOD)"
   ]
  },
  {
   "cell_type": "markdown",
   "id": "ef31240d",
   "metadata": {
    "papermill": {
     "duration": 0.028516,
     "end_time": "2022-05-07T20:10:37.343240",
     "exception": false,
     "start_time": "2022-05-07T20:10:37.314724",
     "status": "completed"
    },
    "tags": []
   },
   "source": [
    "You are going to write a classifier that distinguishes between the number 3 and number 8."
   ]
  },
  {
   "cell_type": "code",
   "execution_count": 1,
   "id": "b15c8646",
   "metadata": {
    "execution": {
     "iopub.execute_input": "2022-05-07T20:10:37.412549Z",
     "iopub.status.busy": "2022-05-07T20:10:37.411847Z",
     "iopub.status.idle": "2022-05-07T20:10:37.424606Z",
     "shell.execute_reply": "2022-05-07T20:10:37.424079Z"
    },
    "papermill": {
     "duration": 0.053971,
     "end_time": "2022-05-07T20:10:37.424766",
     "exception": false,
     "start_time": "2022-05-07T20:10:37.370795",
     "status": "completed"
    },
    "tags": []
   },
   "outputs": [],
   "source": [
    "%load_ext autoreload\n",
    "%autoreload 2"
   ]
  },
  {
   "cell_type": "code",
   "execution_count": 2,
   "id": "22ef38dc",
   "metadata": {
    "execution": {
     "iopub.execute_input": "2022-05-07T20:10:37.485076Z",
     "iopub.status.busy": "2022-05-07T20:10:37.484450Z",
     "iopub.status.idle": "2022-05-07T20:10:38.100207Z",
     "shell.execute_reply": "2022-05-07T20:10:38.099645Z"
    },
    "papermill": {
     "duration": 0.648019,
     "end_time": "2022-05-07T20:10:38.100368",
     "exception": false,
     "start_time": "2022-05-07T20:10:37.452349",
     "status": "completed"
    },
    "tags": []
   },
   "outputs": [],
   "source": [
    "%matplotlib inline\n",
    "import numpy as np\n",
    "import matplotlib.pyplot as plt\n",
    "import pandas as pd"
   ]
  },
  {
   "cell_type": "markdown",
   "id": "ba036198",
   "metadata": {
    "papermill": {
     "duration": 0.03367,
     "end_time": "2022-05-07T20:10:38.162246",
     "exception": false,
     "start_time": "2022-05-07T20:10:38.128576",
     "status": "completed"
    },
    "tags": []
   },
   "source": [
    "From the command line run `pip install mnist`. This is a library that will help you bring down the mnist dataset. If you run this from a notebook, you need to put  `!pip install mnist` in a cell by itself."
   ]
  },
  {
   "cell_type": "code",
   "execution_count": 3,
   "id": "bb6ad8a1",
   "metadata": {
    "execution": {
     "iopub.execute_input": "2022-05-07T20:10:38.219884Z",
     "iopub.status.busy": "2022-05-07T20:10:38.219237Z",
     "iopub.status.idle": "2022-05-07T20:10:40.158449Z",
     "shell.execute_reply": "2022-05-07T20:10:40.157769Z"
    },
    "papermill": {
     "duration": 1.970358,
     "end_time": "2022-05-07T20:10:40.158591",
     "exception": false,
     "start_time": "2022-05-07T20:10:38.188233",
     "status": "completed"
    },
    "tags": []
   },
   "outputs": [
    {
     "name": "stdout",
     "output_type": "stream",
     "text": [
      "Collecting mnist\r\n"
     ]
    },
    {
     "name": "stdout",
     "output_type": "stream",
     "text": [
      "  Downloading mnist-0.2.2-py2.py3-none-any.whl (3.5 kB)\r\n",
      "Requirement already satisfied: numpy in /opt/hostedtoolcache/Python/3.6.15/x64/lib/python3.6/site-packages (from mnist) (1.19.5)\r\n"
     ]
    },
    {
     "name": "stdout",
     "output_type": "stream",
     "text": [
      "Installing collected packages: mnist\r\n"
     ]
    },
    {
     "name": "stdout",
     "output_type": "stream",
     "text": [
      "Successfully installed mnist-0.2.2\r\n"
     ]
    }
   ],
   "source": [
    "!pip install mnist"
   ]
  },
  {
   "cell_type": "markdown",
   "id": "69df9c9a",
   "metadata": {
    "papermill": {
     "duration": 0.029206,
     "end_time": "2022-05-07T20:10:40.216967",
     "exception": false,
     "start_time": "2022-05-07T20:10:40.187761",
     "status": "completed"
    },
    "tags": []
   },
   "source": [
    "## Preparing the Data"
   ]
  },
  {
   "cell_type": "code",
   "execution_count": 4,
   "id": "7f69d806",
   "metadata": {
    "execution": {
     "iopub.execute_input": "2022-05-07T20:10:40.283035Z",
     "iopub.status.busy": "2022-05-07T20:10:40.280352Z",
     "iopub.status.idle": "2022-05-07T20:10:40.299075Z",
     "shell.execute_reply": "2022-05-07T20:10:40.298415Z"
    },
    "papermill": {
     "duration": 0.053395,
     "end_time": "2022-05-07T20:10:40.299211",
     "exception": false,
     "start_time": "2022-05-07T20:10:40.245816",
     "status": "completed"
    },
    "tags": []
   },
   "outputs": [],
   "source": [
    "import mnist"
   ]
  },
  {
   "cell_type": "code",
   "execution_count": 5,
   "id": "a411e44f",
   "metadata": {
    "execution": {
     "iopub.execute_input": "2022-05-07T20:10:40.366850Z",
     "iopub.status.busy": "2022-05-07T20:10:40.362214Z",
     "iopub.status.idle": "2022-05-07T20:10:40.948152Z",
     "shell.execute_reply": "2022-05-07T20:10:40.947610Z"
    },
    "papermill": {
     "duration": 0.619509,
     "end_time": "2022-05-07T20:10:40.948298",
     "exception": false,
     "start_time": "2022-05-07T20:10:40.328789",
     "status": "completed"
    },
    "tags": []
   },
   "outputs": [],
   "source": [
    "train_images = mnist.train_images()\n",
    "train_labels = mnist.train_labels()"
   ]
  },
  {
   "cell_type": "code",
   "execution_count": 6,
   "id": "dceab3a5",
   "metadata": {
    "execution": {
     "iopub.execute_input": "2022-05-07T20:10:41.010635Z",
     "iopub.status.busy": "2022-05-07T20:10:41.009856Z",
     "iopub.status.idle": "2022-05-07T20:10:41.028649Z",
     "shell.execute_reply": "2022-05-07T20:10:41.028155Z"
    },
    "papermill": {
     "duration": 0.0516,
     "end_time": "2022-05-07T20:10:41.028782",
     "exception": false,
     "start_time": "2022-05-07T20:10:40.977182",
     "status": "completed"
    },
    "tags": []
   },
   "outputs": [
    {
     "data": {
      "text/plain": [
       "((60000, 28, 28), (60000,))"
      ]
     },
     "execution_count": 6,
     "metadata": {},
     "output_type": "execute_result"
    }
   ],
   "source": [
    "train_images.shape, train_labels.shape"
   ]
  },
  {
   "cell_type": "code",
   "execution_count": 7,
   "id": "f50dc2bb",
   "metadata": {
    "execution": {
     "iopub.execute_input": "2022-05-07T20:10:41.092896Z",
     "iopub.status.busy": "2022-05-07T20:10:41.092210Z",
     "iopub.status.idle": "2022-05-07T20:10:41.261193Z",
     "shell.execute_reply": "2022-05-07T20:10:41.261687Z"
    },
    "papermill": {
     "duration": 0.204162,
     "end_time": "2022-05-07T20:10:41.261858",
     "exception": false,
     "start_time": "2022-05-07T20:10:41.057696",
     "status": "completed"
    },
    "tags": []
   },
   "outputs": [],
   "source": [
    "test_images = mnist.test_images()\n",
    "test_labels = mnist.test_labels()"
   ]
  },
  {
   "cell_type": "code",
   "execution_count": 8,
   "id": "fc38cf1b",
   "metadata": {
    "execution": {
     "iopub.execute_input": "2022-05-07T20:10:41.323147Z",
     "iopub.status.busy": "2022-05-07T20:10:41.322552Z",
     "iopub.status.idle": "2022-05-07T20:10:41.338926Z",
     "shell.execute_reply": "2022-05-07T20:10:41.338215Z"
    },
    "papermill": {
     "duration": 0.047973,
     "end_time": "2022-05-07T20:10:41.339071",
     "exception": false,
     "start_time": "2022-05-07T20:10:41.291098",
     "status": "completed"
    },
    "tags": []
   },
   "outputs": [
    {
     "data": {
      "text/plain": [
       "((10000, 28, 28), (10000,))"
      ]
     },
     "execution_count": 8,
     "metadata": {},
     "output_type": "execute_result"
    }
   ],
   "source": [
    "test_images.shape, test_labels.shape"
   ]
  },
  {
   "cell_type": "code",
   "execution_count": 9,
   "id": "f9ed8fe0",
   "metadata": {
    "execution": {
     "iopub.execute_input": "2022-05-07T20:10:41.401530Z",
     "iopub.status.busy": "2022-05-07T20:10:41.400902Z",
     "iopub.status.idle": "2022-05-07T20:10:41.575068Z",
     "shell.execute_reply": "2022-05-07T20:10:41.574603Z"
    },
    "papermill": {
     "duration": 0.206828,
     "end_time": "2022-05-07T20:10:41.575185",
     "exception": false,
     "start_time": "2022-05-07T20:10:41.368357",
     "status": "completed"
    },
    "tags": []
   },
   "outputs": [
    {
     "name": "stdout",
     "output_type": "stream",
     "text": [
      "2\n"
     ]
    },
    {
     "data": {
      "text/plain": [
       "<matplotlib.image.AxesImage at 0x7f967d4e2390>"
      ]
     },
     "execution_count": 9,
     "metadata": {},
     "output_type": "execute_result"
    },
    {
     "data": {
      "image/png": "[encoded data removed]",
      "text/plain": [
       "<Figure size 432x288 with 1 Axes>"
      ]
     },
     "metadata": {
      "needs_background": "light"
     },
     "output_type": "display_data"
    }
   ],
   "source": [
    "image_index = 7776 # You may select anything up to 60,000\n",
    "print(train_labels[image_index]) \n",
    "plt.imshow(train_images[image_index], cmap='Greys')"
   ]
  },
  {
   "cell_type": "markdown",
   "id": "a8d2388d",
   "metadata": {
    "papermill": {
     "duration": 0.030808,
     "end_time": "2022-05-07T20:10:41.635990",
     "exception": false,
     "start_time": "2022-05-07T20:10:41.605182",
     "status": "completed"
    },
    "tags": []
   },
   "source": [
    "## Filter data to get 3 and 8 out"
   ]
  },
  {
   "cell_type": "code",
   "execution_count": 10,
   "id": "776f7fc7",
   "metadata": {
    "execution": {
     "iopub.execute_input": "2022-05-07T20:10:41.707285Z",
     "iopub.status.busy": "2022-05-07T20:10:41.701933Z",
     "iopub.status.idle": "2022-05-07T20:10:41.723509Z",
     "shell.execute_reply": "2022-05-07T20:10:41.722996Z"
    },
    "papermill": {
     "duration": 0.056446,
     "end_time": "2022-05-07T20:10:41.723647",
     "exception": false,
     "start_time": "2022-05-07T20:10:41.667201",
     "status": "completed"
    },
    "tags": []
   },
   "outputs": [],
   "source": [
    "train_filter = np.where((train_labels == 3 ) | (train_labels == 8))\n",
    "test_filter = np.where((test_labels == 3) | (test_labels == 8))\n",
    "X_train, y_train = train_images[train_filter], train_labels[train_filter]\n",
    "X_test, y_test = test_images[test_filter], test_labels[test_filter]"
   ]
  },
  {
   "cell_type": "markdown",
   "id": "948f0b7e",
   "metadata": {
    "papermill": {
     "duration": 0.030462,
     "end_time": "2022-05-07T20:10:41.784546",
     "exception": false,
     "start_time": "2022-05-07T20:10:41.754084",
     "status": "completed"
    },
    "tags": []
   },
   "source": [
    "We normalize the pizel values in the 0 to 1 range"
   ]
  },
  {
   "cell_type": "code",
   "execution_count": 11,
   "id": "ee4c2166",
   "metadata": {
    "execution": {
     "iopub.execute_input": "2022-05-07T20:10:41.846869Z",
     "iopub.status.busy": "2022-05-07T20:10:41.846244Z",
     "iopub.status.idle": "2022-05-07T20:10:41.902016Z",
     "shell.execute_reply": "2022-05-07T20:10:41.902490Z"
    },
    "papermill": {
     "duration": 0.089314,
     "end_time": "2022-05-07T20:10:41.902653",
     "exception": false,
     "start_time": "2022-05-07T20:10:41.813339",
     "status": "completed"
    },
    "tags": []
   },
   "outputs": [],
   "source": [
    "X_train = X_train/255.\n",
    "X_test = X_test/255."
   ]
  },
  {
   "cell_type": "markdown",
   "id": "ddcf4fab",
   "metadata": {
    "papermill": {
     "duration": 0.031237,
     "end_time": "2022-05-07T20:10:41.964909",
     "exception": false,
     "start_time": "2022-05-07T20:10:41.933672",
     "status": "completed"
    },
    "tags": []
   },
   "source": [
    "And setup the labels as 1 (when the digit is 3) and 0 (when the digit is 8)"
   ]
  },
  {
   "cell_type": "code",
   "execution_count": 12,
   "id": "7dc908f2",
   "metadata": {
    "execution": {
     "iopub.execute_input": "2022-05-07T20:10:42.031459Z",
     "iopub.status.busy": "2022-05-07T20:10:42.030868Z",
     "iopub.status.idle": "2022-05-07T20:10:42.046801Z",
     "shell.execute_reply": "2022-05-07T20:10:42.046223Z"
    },
    "papermill": {
     "duration": 0.050932,
     "end_time": "2022-05-07T20:10:42.046951",
     "exception": false,
     "start_time": "2022-05-07T20:10:41.996019",
     "status": "completed"
    },
    "tags": []
   },
   "outputs": [],
   "source": [
    "y_train = 1*(y_train==3)\n",
    "y_test = 1*(y_test==3)"
   ]
  },
  {
   "cell_type": "code",
   "execution_count": 13,
   "id": "01e4e969",
   "metadata": {
    "execution": {
     "iopub.execute_input": "2022-05-07T20:10:42.114703Z",
     "iopub.status.busy": "2022-05-07T20:10:42.114075Z",
     "iopub.status.idle": "2022-05-07T20:10:42.131495Z",
     "shell.execute_reply": "2022-05-07T20:10:42.131961Z"
    },
    "papermill": {
     "duration": 0.052593,
     "end_time": "2022-05-07T20:10:42.132112",
     "exception": false,
     "start_time": "2022-05-07T20:10:42.079519",
     "status": "completed"
    },
    "tags": []
   },
   "outputs": [
    {
     "data": {
      "text/plain": [
       "((11982, 28, 28), (1984, 28, 28))"
      ]
     },
     "execution_count": 13,
     "metadata": {},
     "output_type": "execute_result"
    }
   ],
   "source": [
    "X_train.shape, X_test.shape"
   ]
  },
  {
   "cell_type": "markdown",
   "id": "5ccf3f85",
   "metadata": {
    "papermill": {
     "duration": 0.031884,
     "end_time": "2022-05-07T20:10:42.195622",
     "exception": false,
     "start_time": "2022-05-07T20:10:42.163738",
     "status": "completed"
    },
    "tags": []
   },
   "source": [
    "We reshape the data to flatten the image pixels into a set of features or co-variates:"
   ]
  },
  {
   "cell_type": "code",
   "execution_count": 14,
   "id": "5286a4a3",
   "metadata": {
    "execution": {
     "iopub.execute_input": "2022-05-07T20:10:42.266714Z",
     "iopub.status.busy": "2022-05-07T20:10:42.265955Z",
     "iopub.status.idle": "2022-05-07T20:10:42.280300Z",
     "shell.execute_reply": "2022-05-07T20:10:42.279757Z"
    },
    "papermill": {
     "duration": 0.052529,
     "end_time": "2022-05-07T20:10:42.280457",
     "exception": false,
     "start_time": "2022-05-07T20:10:42.227928",
     "status": "completed"
    },
    "tags": []
   },
   "outputs": [
    {
     "data": {
      "text/plain": [
       "((11982, 784), (1984, 784))"
      ]
     },
     "execution_count": 14,
     "metadata": {},
     "output_type": "execute_result"
    }
   ],
   "source": [
    "X_train = X_train.reshape(X_train.shape[0], -1)\n",
    "X_test = X_test.reshape(X_test.shape[0], -1)\n",
    "X_train.shape, X_test.shape"
   ]
  },
  {
   "cell_type": "code",
   "execution_count": 15,
   "id": "73c5f88a",
   "metadata": {
    "execution": {
     "iopub.execute_input": "2022-05-07T20:10:42.351863Z",
     "iopub.status.busy": "2022-05-07T20:10:42.351191Z",
     "iopub.status.idle": "2022-05-07T20:10:42.372385Z",
     "shell.execute_reply": "2022-05-07T20:10:42.371907Z"
    },
    "papermill": {
     "duration": 0.06023,
     "end_time": "2022-05-07T20:10:42.372509",
     "exception": false,
     "start_time": "2022-05-07T20:10:42.312279",
     "status": "completed"
    },
    "tags": []
   },
   "outputs": [],
   "source": [
    "#Impoting functions from 'Kudzu'\n",
    "from kudzu.model import Model\n",
    "from kudzu.train import Learner\n",
    "from kudzu.optim import GD\n",
    "from kudzu.data import Data, Sampler,Dataloader\n",
    "\n",
    "from kudzu.callbacks import AccCallback\n",
    "from kudzu.callbacks import ClfCallback\n",
    "\n",
    "from kudzu.loss import MSE\n",
    "\n",
    "from kudzu.layer import Sigmoid,Relu\n",
    "from kudzu.layer import Affine"
   ]
  },
  {
   "cell_type": "markdown",
   "id": "bc01172a",
   "metadata": {
    "papermill": {
     "duration": 0.032204,
     "end_time": "2022-05-07T20:10:42.435680",
     "exception": false,
     "start_time": "2022-05-07T20:10:42.403476",
     "status": "completed"
    },
    "tags": []
   },
   "source": [
    "### Let us create a `Config` class, to store important parameters. \n",
    "This class essentially plays the role of a dictionary."
   ]
  },
  {
   "cell_type": "code",
   "execution_count": 16,
   "id": "978281aa",
   "metadata": {
    "execution": {
     "iopub.execute_input": "2022-05-07T20:10:42.508875Z",
     "iopub.status.busy": "2022-05-07T20:10:42.508267Z",
     "iopub.status.idle": "2022-05-07T20:10:42.523672Z",
     "shell.execute_reply": "2022-05-07T20:10:42.523173Z"
    },
    "papermill": {
     "duration": 0.057365,
     "end_time": "2022-05-07T20:10:42.523794",
     "exception": false,
     "start_time": "2022-05-07T20:10:42.466429",
     "status": "completed"
    },
    "tags": []
   },
   "outputs": [],
   "source": [
    "class Config:\n",
    "    pass\n",
    "config = Config()\n",
    "config.lr = 0.001\n",
    "config.num_epochs = 250\n",
    "config.bs = 50"
   ]
  },
  {
   "cell_type": "markdown",
   "id": "1385fa59",
   "metadata": {
    "papermill": {
     "duration": 0.030653,
     "end_time": "2022-05-07T20:10:42.585526",
     "exception": false,
     "start_time": "2022-05-07T20:10:42.554873",
     "status": "completed"
    },
    "tags": []
   },
   "source": [
    "### Running Models with the Training data\n",
    "Details about the network layers:\n",
    "- A first affine layer has 784 inputs and does 100 affine transforms. These are followed by a Relu\n",
    "- A second affine layer has 100 inputs from the 100 activations of the past layer, and does 100 affine transforms. These are followed by a Relu\n",
    "- A third affine layer has 100 activations and does 2 affine transformations to create an embedding for visualization. There is no non-linearity here.\n",
    "- A final \"logistic regression\" which has an affine transform from 2 inputs to 1 output, which is squeezed through a sigmoid.\n"
   ]
  },
  {
   "cell_type": "code",
   "execution_count": 17,
   "id": "2b9c66db",
   "metadata": {
    "execution": {
     "iopub.execute_input": "2022-05-07T20:10:42.654593Z",
     "iopub.status.busy": "2022-05-07T20:10:42.653924Z",
     "iopub.status.idle": "2022-05-07T20:10:42.675206Z",
     "shell.execute_reply": "2022-05-07T20:10:42.674706Z"
    },
    "papermill": {
     "duration": 0.057828,
     "end_time": "2022-05-07T20:10:42.675337",
     "exception": false,
     "start_time": "2022-05-07T20:10:42.617509",
     "status": "completed"
    },
    "tags": []
   },
   "outputs": [],
   "source": [
    "data = Data(X_train, y_train.reshape(-1,1))\n",
    "sampler = Sampler(data, config.bs, shuffle=True)\n",
    "\n",
    "dl = Dataloader(data, sampler)\n",
    "\n",
    "opt = GD(config.lr)\n",
    "loss = MSE()"
   ]
  },
  {
   "cell_type": "code",
   "execution_count": 18,
   "id": "b275e4c2",
   "metadata": {
    "execution": {
     "iopub.execute_input": "2022-05-07T20:10:42.746087Z",
     "iopub.status.busy": "2022-05-07T20:10:42.745320Z",
     "iopub.status.idle": "2022-05-07T20:10:42.759840Z",
     "shell.execute_reply": "2022-05-07T20:10:42.760433Z"
    },
    "papermill": {
     "duration": 0.052357,
     "end_time": "2022-05-07T20:10:42.760587",
     "exception": false,
     "start_time": "2022-05-07T20:10:42.708230",
     "status": "completed"
    },
    "tags": []
   },
   "outputs": [],
   "source": [
    "training_data_x = X_train\n",
    "testing_data_x = X_test\n",
    "training_data_y = y_train.reshape(-1,1)\n",
    "testing_data_y = y_test.reshape(-1,1)"
   ]
  },
  {
   "cell_type": "code",
   "execution_count": 19,
   "id": "76951160",
   "metadata": {
    "execution": {
     "iopub.execute_input": "2022-05-07T20:10:42.828878Z",
     "iopub.status.busy": "2022-05-07T20:10:42.828247Z",
     "iopub.status.idle": "2022-05-07T20:10:42.847788Z",
     "shell.execute_reply": "2022-05-07T20:10:42.847197Z"
    },
    "papermill": {
     "duration": 0.055521,
     "end_time": "2022-05-07T20:10:42.847945",
     "exception": false,
     "start_time": "2022-05-07T20:10:42.792424",
     "status": "completed"
    },
    "tags": []
   },
   "outputs": [
    {
     "name": "stdout",
     "output_type": "stream",
     "text": [
      "xavier\n",
      "xavier\n",
      "xavier\n",
      "xavier\n",
      "xavier\n"
     ]
    }
   ],
   "source": [
    "layers = [Affine(\"first\", 784, 100), Relu(\"first\"), Affine(\"second\", 100, 100), Relu(\"second\"), Affine(\"third\", 100, 2), Affine(\"last\", 2, 1), Sigmoid(\"last\")]\n",
    "model_nn = Model(layers)\n",
    "model_lr = Model([Affine(\"logits\", 784, 1), Sigmoid(\"sigmoid\")])"
   ]
  },
  {
   "cell_type": "code",
   "execution_count": 20,
   "id": "6eede77a",
   "metadata": {
    "execution": {
     "iopub.execute_input": "2022-05-07T20:10:42.917639Z",
     "iopub.status.busy": "2022-05-07T20:10:42.916920Z",
     "iopub.status.idle": "2022-05-07T20:10:42.932618Z",
     "shell.execute_reply": "2022-05-07T20:10:42.932116Z"
    },
    "papermill": {
     "duration": 0.05267,
     "end_time": "2022-05-07T20:10:42.932750",
     "exception": false,
     "start_time": "2022-05-07T20:10:42.880080",
     "status": "completed"
    },
    "tags": []
   },
   "outputs": [],
   "source": [
    "nn_learner = Learner(loss, model_nn, opt, config.num_epochs)\n",
    "acc_nn = ClfCallback(nn_learner, config.bs, training_data_x , testing_data_x, training_data_y, testing_data_y)\n",
    "nn_learner.set_callbacks([acc_nn])"
   ]
  },
  {
   "cell_type": "code",
   "execution_count": 21,
   "id": "877b6cc7",
   "metadata": {
    "execution": {
     "iopub.execute_input": "2022-05-07T20:10:43.001434Z",
     "iopub.status.busy": "2022-05-07T20:10:43.000829Z",
     "iopub.status.idle": "2022-05-07T20:10:43.015927Z",
     "shell.execute_reply": "2022-05-07T20:10:43.015544Z"
    },
    "papermill": {
     "duration": 0.050934,
     "end_time": "2022-05-07T20:10:43.016039",
     "exception": false,
     "start_time": "2022-05-07T20:10:42.965105",
     "status": "completed"
    },
    "tags": []
   },
   "outputs": [],
   "source": [
    "lr_learner = Learner(loss, model_lr, opt, config.num_epochs)\n",
    "acc_lr = ClfCallback(lr_learner, config.bs, training_data_x , testing_data_x, training_data_y, testing_data_y)\n",
    "lr_learner.set_callbacks([acc_lr])"
   ]
  },
  {
   "cell_type": "code",
   "execution_count": 22,
   "id": "d9b133c3",
   "metadata": {
    "execution": {
     "iopub.execute_input": "2022-05-07T20:10:43.084511Z",
     "iopub.status.busy": "2022-05-07T20:10:43.083889Z",
     "iopub.status.idle": "2022-05-07T20:12:15.590642Z",
     "shell.execute_reply": "2022-05-07T20:12:15.591443Z"
    },
    "papermill": {
     "duration": 92.543966,
     "end_time": "2022-05-07T20:12:15.591599",
     "exception": false,
     "start_time": "2022-05-07T20:10:43.047633",
     "status": "completed"
    },
    "tags": []
   },
   "outputs": [
    {
     "name": "stdout",
     "output_type": "stream",
     "text": [
      "Epoch 0, Loss 0.2455\n",
      "Training Accuracy: 0.6813, Testing Accuracy: 0.6825\n",
      "\n"
     ]
    },
    {
     "name": "stdout",
     "output_type": "stream",
     "text": [
      "Epoch 10, Loss 0.0817\n",
      "Training Accuracy: 0.9193, Testing Accuracy: 0.9335\n",
      "\n"
     ]
    },
    {
     "name": "stdout",
     "output_type": "stream",
     "text": [
      "Epoch 20, Loss 0.0523\n",
      "Training Accuracy: 0.9441, Testing Accuracy: 0.9582\n",
      "\n"
     ]
    },
    {
     "name": "stdout",
     "output_type": "stream",
     "text": [
      "Epoch 30, Loss 0.0417\n",
      "Training Accuracy: 0.9547, Testing Accuracy: 0.9637\n",
      "\n"
     ]
    },
    {
     "name": "stdout",
     "output_type": "stream",
     "text": [
      "Epoch 40, Loss 0.0364\n",
      "Training Accuracy: 0.9589, Testing Accuracy: 0.9657\n",
      "\n"
     ]
    },
    {
     "name": "stdout",
     "output_type": "stream",
     "text": [
      "Epoch 50, Loss 0.0332\n",
      "Training Accuracy: 0.9621, Testing Accuracy: 0.9698\n",
      "\n"
     ]
    },
    {
     "name": "stdout",
     "output_type": "stream",
     "text": [
      "Epoch 60, Loss 0.0309\n",
      "Training Accuracy: 0.9649, Testing Accuracy: 0.9682\n",
      "\n"
     ]
    },
    {
     "name": "stdout",
     "output_type": "stream",
     "text": [
      "Epoch 70, Loss 0.0292\n",
      "Training Accuracy: 0.9669, Testing Accuracy: 0.9682\n",
      "\n"
     ]
    },
    {
     "name": "stdout",
     "output_type": "stream",
     "text": [
      "Epoch 80, Loss 0.0278\n",
      "Training Accuracy: 0.9683, Testing Accuracy: 0.9672\n",
      "\n"
     ]
    },
    {
     "name": "stdout",
     "output_type": "stream",
     "text": [
      "Epoch 90, Loss 0.0267\n",
      "Training Accuracy: 0.9693, Testing Accuracy: 0.9672\n",
      "\n"
     ]
    },
    {
     "name": "stdout",
     "output_type": "stream",
     "text": [
      "Epoch 100, Loss 0.0257\n",
      "Training Accuracy: 0.9699, Testing Accuracy: 0.9688\n",
      "\n"
     ]
    },
    {
     "name": "stdout",
     "output_type": "stream",
     "text": [
      "Epoch 110, Loss 0.0249\n",
      "Training Accuracy: 0.9710, Testing Accuracy: 0.9698\n",
      "\n"
     ]
    },
    {
     "name": "stdout",
     "output_type": "stream",
     "text": [
      "Epoch 120, Loss 0.0241\n",
      "Training Accuracy: 0.9720, Testing Accuracy: 0.9708\n",
      "\n"
     ]
    },
    {
     "name": "stdout",
     "output_type": "stream",
     "text": [
      "Epoch 130, Loss 0.0234\n",
      "Training Accuracy: 0.9730, Testing Accuracy: 0.9718\n",
      "\n"
     ]
    },
    {
     "name": "stdout",
     "output_type": "stream",
     "text": [
      "Epoch 140, Loss 0.0228\n",
      "Training Accuracy: 0.9737, Testing Accuracy: 0.9718\n",
      "\n"
     ]
    },
    {
     "name": "stdout",
     "output_type": "stream",
     "text": [
      "Epoch 150, Loss 0.0223\n",
      "Training Accuracy: 0.9747, Testing Accuracy: 0.9723\n",
      "\n"
     ]
    },
    {
     "name": "stdout",
     "output_type": "stream",
     "text": [
      "Epoch 160, Loss 0.0217\n",
      "Training Accuracy: 0.9755, Testing Accuracy: 0.9723\n",
      "\n"
     ]
    },
    {
     "name": "stdout",
     "output_type": "stream",
     "text": [
      "Epoch 170, Loss 0.0212\n",
      "Training Accuracy: 0.9762, Testing Accuracy: 0.9723\n",
      "\n"
     ]
    },
    {
     "name": "stdout",
     "output_type": "stream",
     "text": [
      "Epoch 180, Loss 0.0207\n",
      "Training Accuracy: 0.9767, Testing Accuracy: 0.9723\n",
      "\n"
     ]
    },
    {
     "name": "stdout",
     "output_type": "stream",
     "text": [
      "Epoch 190, Loss 0.0203\n",
      "Training Accuracy: 0.9774, Testing Accuracy: 0.9728\n",
      "\n"
     ]
    },
    {
     "name": "stdout",
     "output_type": "stream",
     "text": [
      "Epoch 200, Loss 0.0198\n",
      "Training Accuracy: 0.9777, Testing Accuracy: 0.9738\n",
      "\n"
     ]
    },
    {
     "name": "stdout",
     "output_type": "stream",
     "text": [
      "Epoch 210, Loss 0.0194\n",
      "Training Accuracy: 0.9786, Testing Accuracy: 0.9743\n",
      "\n"
     ]
    },
    {
     "name": "stdout",
     "output_type": "stream",
     "text": [
      "Epoch 220, Loss 0.019\n",
      "Training Accuracy: 0.9793, Testing Accuracy: 0.9748\n",
      "\n"
     ]
    },
    {
     "name": "stdout",
     "output_type": "stream",
     "text": [
      "Epoch 230, Loss 0.0186\n",
      "Training Accuracy: 0.9801, Testing Accuracy: 0.9753\n",
      "\n"
     ]
    },
    {
     "name": "stdout",
     "output_type": "stream",
     "text": [
      "Epoch 240, Loss 0.0182\n",
      "Training Accuracy: 0.9806, Testing Accuracy: 0.9753\n",
      "\n"
     ]
    },
    {
     "data": {
      "text/plain": [
       "0.0004791741269504733"
      ]
     },
     "execution_count": 22,
     "metadata": {},
     "output_type": "execute_result"
    }
   ],
   "source": [
    "nn_learner.train_loop(dl)"
   ]
  },
  {
   "cell_type": "code",
   "execution_count": 23,
   "id": "e0163366",
   "metadata": {
    "execution": {
     "iopub.execute_input": "2022-05-07T20:12:15.683248Z",
     "iopub.status.busy": "2022-05-07T20:12:15.682646Z",
     "iopub.status.idle": "2022-05-07T20:12:32.195180Z",
     "shell.execute_reply": "2022-05-07T20:12:32.196001Z"
    },
    "papermill": {
     "duration": 16.56498,
     "end_time": "2022-05-07T20:12:32.196171",
     "exception": false,
     "start_time": "2022-05-07T20:12:15.631191",
     "status": "completed"
    },
    "tags": []
   },
   "outputs": [
    {
     "name": "stdout",
     "output_type": "stream",
     "text": [
      "Epoch 0, Loss 0.2533\n",
      "Training Accuracy: 0.6507, Testing Accuracy: 0.6396\n",
      "\n"
     ]
    },
    {
     "name": "stdout",
     "output_type": "stream",
     "text": [
      "Epoch 10, Loss 0.1019\n",
      "Training Accuracy: 0.9180, Testing Accuracy: 0.9284\n",
      "\n"
     ]
    },
    {
     "name": "stdout",
     "output_type": "stream",
     "text": [
      "Epoch 20, Loss 0.0783\n",
      "Training Accuracy: 0.9320, Testing Accuracy: 0.9430\n",
      "\n"
     ]
    },
    {
     "name": "stdout",
     "output_type": "stream",
     "text": [
      "Epoch 30, Loss 0.0676\n",
      "Training Accuracy: 0.9382, Testing Accuracy: 0.9476\n",
      "\n"
     ]
    },
    {
     "name": "stdout",
     "output_type": "stream",
     "text": [
      "Epoch 40, Loss 0.0612\n",
      "Training Accuracy: 0.9424, Testing Accuracy: 0.9536\n",
      "\n"
     ]
    },
    {
     "name": "stdout",
     "output_type": "stream",
     "text": [
      "Epoch 50, Loss 0.0568\n",
      "Training Accuracy: 0.9455, Testing Accuracy: 0.9551\n",
      "\n"
     ]
    },
    {
     "name": "stdout",
     "output_type": "stream",
     "text": [
      "Epoch 60, Loss 0.0536\n",
      "Training Accuracy: 0.9481, Testing Accuracy: 0.9577\n",
      "\n"
     ]
    },
    {
     "name": "stdout",
     "output_type": "stream",
     "text": [
      "Epoch 70, Loss 0.0511\n",
      "Training Accuracy: 0.9500, Testing Accuracy: 0.9592\n",
      "\n"
     ]
    },
    {
     "name": "stdout",
     "output_type": "stream",
     "text": [
      "Epoch 80, Loss 0.0491\n",
      "Training Accuracy: 0.9513, Testing Accuracy: 0.9617\n",
      "\n"
     ]
    },
    {
     "name": "stdout",
     "output_type": "stream",
     "text": [
      "Epoch 90, Loss 0.0474\n",
      "Training Accuracy: 0.9528, Testing Accuracy: 0.9632\n",
      "\n"
     ]
    },
    {
     "name": "stdout",
     "output_type": "stream",
     "text": [
      "Epoch 100, Loss 0.046\n",
      "Training Accuracy: 0.9538, Testing Accuracy: 0.9637\n",
      "\n"
     ]
    },
    {
     "name": "stdout",
     "output_type": "stream",
     "text": [
      "Epoch 110, Loss 0.0448\n",
      "Training Accuracy: 0.9545, Testing Accuracy: 0.9637\n",
      "\n"
     ]
    },
    {
     "name": "stdout",
     "output_type": "stream",
     "text": [
      "Epoch 120, Loss 0.0438\n",
      "Training Accuracy: 0.9559, Testing Accuracy: 0.9627\n",
      "\n"
     ]
    },
    {
     "name": "stdout",
     "output_type": "stream",
     "text": [
      "Epoch 130, Loss 0.0428\n",
      "Training Accuracy: 0.9570, Testing Accuracy: 0.9637\n",
      "\n"
     ]
    },
    {
     "name": "stdout",
     "output_type": "stream",
     "text": [
      "Epoch 140, Loss 0.042\n",
      "Training Accuracy: 0.9579, Testing Accuracy: 0.9642\n",
      "\n"
     ]
    },
    {
     "name": "stdout",
     "output_type": "stream",
     "text": [
      "Epoch 150, Loss 0.0413\n",
      "Training Accuracy: 0.9589, Testing Accuracy: 0.9652\n",
      "\n"
     ]
    },
    {
     "name": "stdout",
     "output_type": "stream",
     "text": [
      "Epoch 160, Loss 0.0406\n",
      "Training Accuracy: 0.9594, Testing Accuracy: 0.9657\n",
      "\n"
     ]
    },
    {
     "name": "stdout",
     "output_type": "stream",
     "text": [
      "Epoch 170, Loss 0.04\n",
      "Training Accuracy: 0.9597, Testing Accuracy: 0.9667\n",
      "\n"
     ]
    },
    {
     "name": "stdout",
     "output_type": "stream",
     "text": [
      "Epoch 180, Loss 0.0394\n",
      "Training Accuracy: 0.9599, Testing Accuracy: 0.9672\n",
      "\n"
     ]
    },
    {
     "name": "stdout",
     "output_type": "stream",
     "text": [
      "Epoch 190, Loss 0.0389\n",
      "Training Accuracy: 0.9604, Testing Accuracy: 0.9672\n",
      "\n"
     ]
    },
    {
     "name": "stdout",
     "output_type": "stream",
     "text": [
      "Epoch 200, Loss 0.0385\n",
      "Training Accuracy: 0.9609, Testing Accuracy: 0.9677\n",
      "\n"
     ]
    },
    {
     "name": "stdout",
     "output_type": "stream",
     "text": [
      "Epoch 210, Loss 0.038\n",
      "Training Accuracy: 0.9609, Testing Accuracy: 0.9682\n",
      "\n"
     ]
    },
    {
     "name": "stdout",
     "output_type": "stream",
     "text": [
      "Epoch 220, Loss 0.0376\n",
      "Training Accuracy: 0.9609, Testing Accuracy: 0.9682\n",
      "\n"
     ]
    },
    {
     "name": "stdout",
     "output_type": "stream",
     "text": [
      "Epoch 230, Loss 0.0372\n",
      "Training Accuracy: 0.9615, Testing Accuracy: 0.9682\n",
      "\n"
     ]
    },
    {
     "name": "stdout",
     "output_type": "stream",
     "text": [
      "Epoch 240, Loss 0.0369\n",
      "Training Accuracy: 0.9617, Testing Accuracy: 0.9682\n",
      "\n"
     ]
    },
    {
     "data": {
      "text/plain": [
       "0.07863255610736702"
      ]
     },
     "execution_count": 23,
     "metadata": {},
     "output_type": "execute_result"
    }
   ],
   "source": [
    "lr_learner.train_loop(dl)"
   ]
  },
  {
   "cell_type": "code",
   "execution_count": 24,
   "id": "ca410940",
   "metadata": {
    "execution": {
     "iopub.execute_input": "2022-05-07T20:12:32.318252Z",
     "iopub.status.busy": "2022-05-07T20:12:32.317492Z",
     "iopub.status.idle": "2022-05-07T20:12:32.613496Z",
     "shell.execute_reply": "2022-05-07T20:12:32.612625Z"
    },
    "papermill": {
     "duration": 0.368766,
     "end_time": "2022-05-07T20:12:32.613664",
     "exception": false,
     "start_time": "2022-05-07T20:12:32.244898",
     "status": "completed"
    },
    "tags": []
   },
   "outputs": [
    {
     "data": {
      "text/plain": [
       "<matplotlib.legend.Legend at 0x7f967d0c1b00>"
      ]
     },
     "execution_count": 24,
     "metadata": {},
     "output_type": "execute_result"
    },
    {
     "data": {
      "image/png": "[encoded data removed]",
      "text/plain": [
       "<Figure size 1080x720 with 1 Axes>"
      ]
     },
     "metadata": {
      "needs_background": "light"
     },
     "output_type": "display_data"
    }
   ],
   "source": [
    "#comparing the results of NN and LR\n",
    "plt.figure(figsize=(15,10))\n",
    "\n",
    "# Neural Network plots\n",
    "plt.plot(acc_nn.accuracies, 'r-', label = \"Training Accuracies - NN\")\n",
    "plt.plot(acc_nn.test_accuracies, 'g-', label = \"Testing Accuracies - NN\")\n",
    "\n",
    "# Logistic Regression plots\n",
    "plt.plot(acc_lr.accuracies, 'k-', label = \"Training Accuracies - LR\")\n",
    "plt.plot(acc_lr.test_accuracies, 'b-', label = \"Testing Accuracies - LR\")\n",
    "plt.legend()"
   ]
  },
  {
   "cell_type": "markdown",
   "id": "80dfb35c",
   "metadata": {
    "papermill": {
     "duration": 0.048746,
     "end_time": "2022-05-07T20:12:32.714135",
     "exception": false,
     "start_time": "2022-05-07T20:12:32.665389",
     "status": "completed"
    },
    "tags": []
   },
   "source": [
    "#### Plotting the outputs of this layer of the NN.\n"
   ]
  },
  {
   "cell_type": "code",
   "execution_count": 25,
   "id": "45eb2ff5",
   "metadata": {
    "execution": {
     "iopub.execute_input": "2022-05-07T20:12:32.818163Z",
     "iopub.status.busy": "2022-05-07T20:12:32.817373Z",
     "iopub.status.idle": "2022-05-07T20:12:32.840538Z",
     "shell.execute_reply": "2022-05-07T20:12:32.841068Z"
    },
    "papermill": {
     "duration": 0.07713,
     "end_time": "2022-05-07T20:12:32.841235",
     "exception": false,
     "start_time": "2022-05-07T20:12:32.764105",
     "status": "completed"
    },
    "tags": []
   },
   "outputs": [],
   "source": [
    "new_model = Model(layers[:-2])\n",
    "testing_plot = new_model(testing_data_x)"
   ]
  },
  {
   "cell_type": "code",
   "execution_count": 26,
   "id": "4c0a5485",
   "metadata": {
    "execution": {
     "iopub.execute_input": "2022-05-07T20:12:32.945639Z",
     "iopub.status.busy": "2022-05-07T20:12:32.945003Z",
     "iopub.status.idle": "2022-05-07T20:12:33.186841Z",
     "shell.execute_reply": "2022-05-07T20:12:33.187379Z"
    },
    "papermill": {
     "duration": 0.298855,
     "end_time": "2022-05-07T20:12:33.187542",
     "exception": false,
     "start_time": "2022-05-07T20:12:32.888687",
     "status": "completed"
    },
    "tags": []
   },
   "outputs": [
    {
     "data": {
      "text/plain": [
       "Text(0.5, 1.0, 'Outputs')"
      ]
     },
     "execution_count": 26,
     "metadata": {},
     "output_type": "execute_result"
    },
    {
     "data": {
      "image/png": "[encoded data removed]",
      "text/plain": [
       "<Figure size 576x504 with 1 Axes>"
      ]
     },
     "metadata": {
      "needs_background": "light"
     },
     "output_type": "display_data"
    }
   ],
   "source": [
    "# Plotting the scatter plot of points and color coding by class\n",
    "plt.figure(figsize=(8,7))\n",
    "plt.scatter(testing_plot[:,0], testing_plot[:,1], alpha = 0.1, c = y_test.ravel());\n",
    "plt.title('Outputs')"
   ]
  },
  {
   "cell_type": "markdown",
   "id": "a74fcf8f",
   "metadata": {
    "papermill": {
     "duration": 0.053912,
     "end_time": "2022-05-07T20:12:33.295291",
     "exception": false,
     "start_time": "2022-05-07T20:12:33.241379",
     "status": "completed"
    },
    "tags": []
   },
   "source": [
    "Probability contours"
   ]
  },
  {
   "cell_type": "code",
   "execution_count": 27,
   "id": "d0afc8e3",
   "metadata": {
    "execution": {
     "iopub.execute_input": "2022-05-07T20:12:33.433607Z",
     "iopub.status.busy": "2022-05-07T20:12:33.432979Z",
     "iopub.status.idle": "2022-05-07T20:12:33.447423Z",
     "shell.execute_reply": "2022-05-07T20:12:33.447879Z"
    },
    "papermill": {
     "duration": 0.100226,
     "end_time": "2022-05-07T20:12:33.448022",
     "exception": false,
     "start_time": "2022-05-07T20:12:33.347796",
     "status": "completed"
    },
    "tags": []
   },
   "outputs": [],
   "source": [
    "model_prob = Model(layers[-2:]) "
   ]
  },
  {
   "cell_type": "code",
   "execution_count": 28,
   "id": "9b96e238",
   "metadata": {
    "execution": {
     "iopub.execute_input": "2022-05-07T20:12:33.555511Z",
     "iopub.status.busy": "2022-05-07T20:12:33.554932Z",
     "iopub.status.idle": "2022-05-07T20:12:33.570593Z",
     "shell.execute_reply": "2022-05-07T20:12:33.571058Z"
    },
    "papermill": {
     "duration": 0.072063,
     "end_time": "2022-05-07T20:12:33.571212",
     "exception": false,
     "start_time": "2022-05-07T20:12:33.499149",
     "status": "completed"
    },
    "tags": []
   },
   "outputs": [],
   "source": [
    "#creating the x and y ranges according to the above generated plot.\n",
    "x_range = np.linspace(-4, 1, 100) \n",
    "y_range = np.linspace(-6, 6, 100) \n",
    "x_grid, y_grid = np.meshgrid(x_range, y_range) # x_grid and y_grig are of size 100 X 100\n",
    "\n",
    "# converting x_grid and y_grid to continuous arrays\n",
    "x_gridflat = np.ravel(x_grid)\n",
    "y_gridflat = np.ravel(y_grid)\n",
    "\n",
    "# The last layer of the current model takes two columns as input. Hence transpose of np.vstack() is required.\n",
    "X = np.vstack((x_gridflat, y_gridflat)).T\n",
    "\n",
    "prob_contour = model_prob(X).reshape(100,100) "
   ]
  },
  {
   "cell_type": "code",
   "execution_count": 29,
   "id": "da72499a",
   "metadata": {
    "execution": {
     "iopub.execute_input": "2022-05-07T20:12:33.687560Z",
     "iopub.status.busy": "2022-05-07T20:12:33.686936Z",
     "iopub.status.idle": "2022-05-07T20:12:33.991983Z",
     "shell.execute_reply": "2022-05-07T20:12:33.991387Z"
    },
    "papermill": {
     "duration": 0.369622,
     "end_time": "2022-05-07T20:12:33.992139",
     "exception": false,
     "start_time": "2022-05-07T20:12:33.622517",
     "status": "completed"
    },
    "tags": []
   },
   "outputs": [
    {
     "data": {
      "image/png": "[encoded data removed]",
      "text/plain": [
       "<Figure size 720x648 with 1 Axes>"
      ]
     },
     "metadata": {
      "needs_background": "light"
     },
     "output_type": "display_data"
    }
   ],
   "source": [
    "plt.figure(figsize=(10,9))\n",
    "plt.scatter(testing_plot[:,0], testing_plot[:,1], alpha = 0.1, c = y_test.ravel())\n",
    "contours = plt.contour(x_grid,y_grid,prob_contour)\n",
    "plt.title('Probability Contours')\n",
    "plt.clabel(contours, inline = True );"
   ]
  },
  {
   "cell_type": "code",
   "execution_count": null,
   "id": "e81b4ac7",
   "metadata": {
    "papermill": {
     "duration": 0.055335,
     "end_time": "2022-05-07T20:12:34.106534",
     "exception": false,
     "start_time": "2022-05-07T20:12:34.051199",
     "status": "completed"
    },
    "tags": []
   },
   "outputs": [],
   "source": []
  }
 ],
 "metadata": {
  "kernelspec": {
   "display_name": "Python 3",
   "language": "python",
   "name": "python3"
  },
  "language_info": {
   "codemirror_mode": {
    "name": "ipython",
    "version": 3
   },
   "file_extension": ".py",
   "mimetype": "text/x-python",
   "name": "python",
   "nbconvert_exporter": "python",
   "pygments_lexer": "ipython3",
   "version": "3.6.15"
  },
  "papermill": {
   "default_parameters": {},
   "duration": 118.641344,
   "end_time": "2022-05-07T20:12:34.580084",
   "environment_variables": {},
   "exception": null,
   "input_path": "2020-08-11-part2.ipynb",
   "output_path": "2020-08-11-part2.ipynb",
   "parameters": {},
   "start_time": "2022-05-07T20:10:35.938740",
   "version": "2.3.3"
  }
 },
 "nbformat": 4,
 "nbformat_minor": 5
}