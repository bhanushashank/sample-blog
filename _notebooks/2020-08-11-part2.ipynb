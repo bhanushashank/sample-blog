{
 "cells": [
  {
   "cell_type": "markdown",
   "id": "98380cd3",
   "metadata": {
    "papermill": {
     "duration": 0.028006,
     "end_time": "2022-04-09T10:09:16.446758",
     "exception": false,
     "start_time": "2022-04-09T10:09:16.418752",
     "status": "completed"
    },
    "tags": []
   },
   "source": [
    "# Distinguish Your Own Digits (DYOD)"
   ]
  },
  {
   "cell_type": "markdown",
   "id": "ef31240d",
   "metadata": {
    "papermill": {
     "duration": 0.025448,
     "end_time": "2022-04-09T10:09:16.497200",
     "exception": false,
     "start_time": "2022-04-09T10:09:16.471752",
     "status": "completed"
    },
    "tags": []
   },
   "source": [
    "You are going to write a classifier that distinguishes between the number 3 and number 8."
   ]
  },
  {
   "cell_type": "code",
   "execution_count": 1,
   "id": "b15c8646",
   "metadata": {
    "execution": {
     "iopub.execute_input": "2022-04-09T10:09:16.555111Z",
     "iopub.status.busy": "2022-04-09T10:09:16.552907Z",
     "iopub.status.idle": "2022-04-09T10:09:16.564333Z",
     "shell.execute_reply": "2022-04-09T10:09:16.564785Z"
    },
    "papermill": {
     "duration": 0.043483,
     "end_time": "2022-04-09T10:09:16.564916",
     "exception": false,
     "start_time": "2022-04-09T10:09:16.521433",
     "status": "completed"
    },
    "tags": []
   },
   "outputs": [],
   "source": [
    "%load_ext autoreload\n",
    "%autoreload 2"
   ]
  },
  {
   "cell_type": "code",
   "execution_count": 2,
   "id": "22ef38dc",
   "metadata": {
    "execution": {
     "iopub.execute_input": "2022-04-09T10:09:16.617159Z",
     "iopub.status.busy": "2022-04-09T10:09:16.616648Z",
     "iopub.status.idle": "2022-04-09T10:09:17.167288Z",
     "shell.execute_reply": "2022-04-09T10:09:17.166827Z"
    },
    "papermill": {
     "duration": 0.577973,
     "end_time": "2022-04-09T10:09:17.167403",
     "exception": false,
     "start_time": "2022-04-09T10:09:16.589430",
     "status": "completed"
    },
    "tags": []
   },
   "outputs": [],
   "source": [
    "%matplotlib inline\n",
    "import numpy as np\n",
    "import matplotlib.pyplot as plt\n",
    "import pandas as pd"
   ]
  },
  {
   "cell_type": "markdown",
   "id": "ba036198",
   "metadata": {
    "papermill": {
     "duration": 0.024429,
     "end_time": "2022-04-09T10:09:17.216304",
     "exception": false,
     "start_time": "2022-04-09T10:09:17.191875",
     "status": "completed"
    },
    "tags": []
   },
   "source": [
    "From the command line run `pip install mnist`. This is a library that will help you bring down the mnist dataset. If you run this from a notebook, you need to put  `!pip install mnist` in a cell by itself."
   ]
  },
  {
   "cell_type": "code",
   "execution_count": 3,
   "id": "bb6ad8a1",
   "metadata": {
    "execution": {
     "iopub.execute_input": "2022-04-09T10:09:17.269228Z",
     "iopub.status.busy": "2022-04-09T10:09:17.268719Z",
     "iopub.status.idle": "2022-04-09T10:09:18.881887Z",
     "shell.execute_reply": "2022-04-09T10:09:18.882291Z"
    },
    "papermill": {
     "duration": 1.64162,
     "end_time": "2022-04-09T10:09:18.882425",
     "exception": false,
     "start_time": "2022-04-09T10:09:17.240805",
     "status": "completed"
    },
    "tags": []
   },
   "outputs": [
    {
     "name": "stdout",
     "output_type": "stream",
     "text": [
      "Collecting mnist\r\n"
     ]
    },
    {
     "name": "stdout",
     "output_type": "stream",
     "text": [
      "  Downloading mnist-0.2.2-py2.py3-none-any.whl (3.5 kB)\r\n",
      "Requirement already satisfied: numpy in /opt/hostedtoolcache/Python/3.6.15/x64/lib/python3.6/site-packages (from mnist) (1.19.5)\r\n"
     ]
    },
    {
     "name": "stdout",
     "output_type": "stream",
     "text": [
      "Installing collected packages: mnist\r\n"
     ]
    },
    {
     "name": "stdout",
     "output_type": "stream",
     "text": [
      "Successfully installed mnist-0.2.2\r\n"
     ]
    }
   ],
   "source": [
    "!pip install mnist"
   ]
  },
  {
   "cell_type": "markdown",
   "id": "69df9c9a",
   "metadata": {
    "papermill": {
     "duration": 0.025971,
     "end_time": "2022-04-09T10:09:18.934320",
     "exception": false,
     "start_time": "2022-04-09T10:09:18.908349",
     "status": "completed"
    },
    "tags": []
   },
   "source": [
    "## Preparing the Data"
   ]
  },
  {
   "cell_type": "code",
   "execution_count": 4,
   "id": "7f69d806",
   "metadata": {
    "execution": {
     "iopub.execute_input": "2022-04-09T10:09:18.988812Z",
     "iopub.status.busy": "2022-04-09T10:09:18.988331Z",
     "iopub.status.idle": "2022-04-09T10:09:19.001382Z",
     "shell.execute_reply": "2022-04-09T10:09:19.001758Z"
    },
    "papermill": {
     "duration": 0.042081,
     "end_time": "2022-04-09T10:09:19.001877",
     "exception": false,
     "start_time": "2022-04-09T10:09:18.959796",
     "status": "completed"
    },
    "tags": []
   },
   "outputs": [],
   "source": [
    "import mnist"
   ]
  },
  {
   "cell_type": "code",
   "execution_count": 5,
   "id": "a411e44f",
   "metadata": {
    "execution": {
     "iopub.execute_input": "2022-04-09T10:09:19.055913Z",
     "iopub.status.busy": "2022-04-09T10:09:19.055433Z",
     "iopub.status.idle": "2022-04-09T10:09:19.528925Z",
     "shell.execute_reply": "2022-04-09T10:09:19.528480Z"
    },
    "papermill": {
     "duration": 0.501588,
     "end_time": "2022-04-09T10:09:19.529054",
     "exception": false,
     "start_time": "2022-04-09T10:09:19.027466",
     "status": "completed"
    },
    "tags": []
   },
   "outputs": [],
   "source": [
    "train_images = mnist.train_images()\n",
    "train_labels = mnist.train_labels()"
   ]
  },
  {
   "cell_type": "code",
   "execution_count": 6,
   "id": "dceab3a5",
   "metadata": {
    "execution": {
     "iopub.execute_input": "2022-04-09T10:09:19.584211Z",
     "iopub.status.busy": "2022-04-09T10:09:19.583714Z",
     "iopub.status.idle": "2022-04-09T10:09:19.596887Z",
     "shell.execute_reply": "2022-04-09T10:09:19.597313Z"
    },
    "papermill": {
     "duration": 0.042457,
     "end_time": "2022-04-09T10:09:19.597425",
     "exception": false,
     "start_time": "2022-04-09T10:09:19.554968",
     "status": "completed"
    },
    "tags": []
   },
   "outputs": [
    {
     "data": {
      "text/plain": [
       "((60000, 28, 28), (60000,))"
      ]
     },
     "execution_count": 6,
     "metadata": {},
     "output_type": "execute_result"
    }
   ],
   "source": [
    "train_images.shape, train_labels.shape"
   ]
  },
  {
   "cell_type": "code",
   "execution_count": 7,
   "id": "f50dc2bb",
   "metadata": {
    "execution": {
     "iopub.execute_input": "2022-04-09T10:09:19.652415Z",
     "iopub.status.busy": "2022-04-09T10:09:19.651937Z",
     "iopub.status.idle": "2022-04-09T10:09:19.797781Z",
     "shell.execute_reply": "2022-04-09T10:09:19.797343Z"
    },
    "papermill": {
     "duration": 0.174706,
     "end_time": "2022-04-09T10:09:19.797894",
     "exception": false,
     "start_time": "2022-04-09T10:09:19.623188",
     "status": "completed"
    },
    "tags": []
   },
   "outputs": [],
   "source": [
    "test_images = mnist.test_images()\n",
    "test_labels = mnist.test_labels()"
   ]
  },
  {
   "cell_type": "code",
   "execution_count": 8,
   "id": "fc38cf1b",
   "metadata": {
    "execution": {
     "iopub.execute_input": "2022-04-09T10:09:19.853874Z",
     "iopub.status.busy": "2022-04-09T10:09:19.853379Z",
     "iopub.status.idle": "2022-04-09T10:09:19.865211Z",
     "shell.execute_reply": "2022-04-09T10:09:19.865673Z"
    },
    "papermill": {
     "duration": 0.041533,
     "end_time": "2022-04-09T10:09:19.865789",
     "exception": false,
     "start_time": "2022-04-09T10:09:19.824256",
     "status": "completed"
    },
    "tags": []
   },
   "outputs": [
    {
     "data": {
      "text/plain": [
       "((10000, 28, 28), (10000,))"
      ]
     },
     "execution_count": 8,
     "metadata": {},
     "output_type": "execute_result"
    }
   ],
   "source": [
    "test_images.shape, test_labels.shape"
   ]
  },
  {
   "cell_type": "code",
   "execution_count": 9,
   "id": "f9ed8fe0",
   "metadata": {
    "execution": {
     "iopub.execute_input": "2022-04-09T10:09:19.921450Z",
     "iopub.status.busy": "2022-04-09T10:09:19.920924Z",
     "iopub.status.idle": "2022-04-09T10:09:20.052284Z",
     "shell.execute_reply": "2022-04-09T10:09:20.052695Z"
    },
    "papermill": {
     "duration": 0.160885,
     "end_time": "2022-04-09T10:09:20.052821",
     "exception": false,
     "start_time": "2022-04-09T10:09:19.891936",
     "status": "completed"
    },
    "tags": []
   },
   "outputs": [
    {
     "name": "stdout",
     "output_type": "stream",
     "text": [
      "2\n"
     ]
    },
    {
     "data": {
      "text/plain": [
       "<matplotlib.image.AxesImage at 0x7fea422d0400>"
      ]
     },
     "execution_count": 9,
     "metadata": {},
     "output_type": "execute_result"
    },
    {
     "data": {
      "image/png": "[encoded data removed]",
      "text/plain": [
       "<Figure size 432x288 with 1 Axes>"
      ]
     },
     "metadata": {
      "needs_background": "light"
     },
     "output_type": "display_data"
    }
   ],
   "source": [
    "image_index = 7776 # You may select anything up to 60,000\n",
    "print(train_labels[image_index]) \n",
    "plt.imshow(train_images[image_index], cmap='Greys')"
   ]
  },
  {
   "cell_type": "markdown",
   "id": "a8d2388d",
   "metadata": {
    "papermill": {
     "duration": 0.027401,
     "end_time": "2022-04-09T10:09:20.107555",
     "exception": false,
     "start_time": "2022-04-09T10:09:20.080154",
     "status": "completed"
    },
    "tags": []
   },
   "source": [
    "## Filter data to get 3 and 8 out"
   ]
  },
  {
   "cell_type": "code",
   "execution_count": 10,
   "id": "776f7fc7",
   "metadata": {
    "execution": {
     "iopub.execute_input": "2022-04-09T10:09:20.165918Z",
     "iopub.status.busy": "2022-04-09T10:09:20.165404Z",
     "iopub.status.idle": "2022-04-09T10:09:20.182400Z",
     "shell.execute_reply": "2022-04-09T10:09:20.181957Z"
    },
    "papermill": {
     "duration": 0.047667,
     "end_time": "2022-04-09T10:09:20.182504",
     "exception": false,
     "start_time": "2022-04-09T10:09:20.134837",
     "status": "completed"
    },
    "tags": []
   },
   "outputs": [],
   "source": [
    "train_filter = np.where((train_labels == 3 ) | (train_labels == 8))\n",
    "test_filter = np.where((test_labels == 3) | (test_labels == 8))\n",
    "X_train, y_train = train_images[train_filter], train_labels[train_filter]\n",
    "X_test, y_test = test_images[test_filter], test_labels[test_filter]"
   ]
  },
  {
   "cell_type": "markdown",
   "id": "948f0b7e",
   "metadata": {
    "papermill": {
     "duration": 0.027145,
     "end_time": "2022-04-09T10:09:20.237077",
     "exception": false,
     "start_time": "2022-04-09T10:09:20.209932",
     "status": "completed"
    },
    "tags": []
   },
   "source": [
    "We normalize the pizel values in the 0 to 1 range"
   ]
  },
  {
   "cell_type": "code",
   "execution_count": 11,
   "id": "ee4c2166",
   "metadata": {
    "execution": {
     "iopub.execute_input": "2022-04-09T10:09:20.294273Z",
     "iopub.status.busy": "2022-04-09T10:09:20.293781Z",
     "iopub.status.idle": "2022-04-09T10:09:20.332409Z",
     "shell.execute_reply": "2022-04-09T10:09:20.332001Z"
    },
    "papermill": {
     "duration": 0.068461,
     "end_time": "2022-04-09T10:09:20.332518",
     "exception": false,
     "start_time": "2022-04-09T10:09:20.264057",
     "status": "completed"
    },
    "tags": []
   },
   "outputs": [],
   "source": [
    "X_train = X_train/255.\n",
    "X_test = X_test/255."
   ]
  },
  {
   "cell_type": "markdown",
   "id": "ddcf4fab",
   "metadata": {
    "papermill": {
     "duration": 0.027067,
     "end_time": "2022-04-09T10:09:20.387420",
     "exception": false,
     "start_time": "2022-04-09T10:09:20.360353",
     "status": "completed"
    },
    "tags": []
   },
   "source": [
    "And setup the labels as 1 (when the digit is 3) and 0 (when the digit is 8)"
   ]
  },
  {
   "cell_type": "code",
   "execution_count": 12,
   "id": "7dc908f2",
   "metadata": {
    "execution": {
     "iopub.execute_input": "2022-04-09T10:09:20.444882Z",
     "iopub.status.busy": "2022-04-09T10:09:20.444381Z",
     "iopub.status.idle": "2022-04-09T10:09:20.456316Z",
     "shell.execute_reply": "2022-04-09T10:09:20.455896Z"
    },
    "papermill": {
     "duration": 0.041812,
     "end_time": "2022-04-09T10:09:20.456413",
     "exception": false,
     "start_time": "2022-04-09T10:09:20.414601",
     "status": "completed"
    },
    "tags": []
   },
   "outputs": [],
   "source": [
    "y_train = 1*(y_train==3)\n",
    "y_test = 1*(y_test==3)"
   ]
  },
  {
   "cell_type": "code",
   "execution_count": 13,
   "id": "01e4e969",
   "metadata": {
    "execution": {
     "iopub.execute_input": "2022-04-09T10:09:20.513896Z",
     "iopub.status.busy": "2022-04-09T10:09:20.513405Z",
     "iopub.status.idle": "2022-04-09T10:09:20.525104Z",
     "shell.execute_reply": "2022-04-09T10:09:20.525472Z"
    },
    "papermill": {
     "duration": 0.041914,
     "end_time": "2022-04-09T10:09:20.525584",
     "exception": false,
     "start_time": "2022-04-09T10:09:20.483670",
     "status": "completed"
    },
    "tags": []
   },
   "outputs": [
    {
     "data": {
      "text/plain": [
       "((11982, 28, 28), (1984, 28, 28))"
      ]
     },
     "execution_count": 13,
     "metadata": {},
     "output_type": "execute_result"
    }
   ],
   "source": [
    "X_train.shape, X_test.shape"
   ]
  },
  {
   "cell_type": "markdown",
   "id": "5ccf3f85",
   "metadata": {
    "papermill": {
     "duration": 0.027186,
     "end_time": "2022-04-09T10:09:20.580125",
     "exception": false,
     "start_time": "2022-04-09T10:09:20.552939",
     "status": "completed"
    },
    "tags": []
   },
   "source": [
    "We reshape the data to flatten the image pixels into a set of features or co-variates:"
   ]
  },
  {
   "cell_type": "code",
   "execution_count": 14,
   "id": "5286a4a3",
   "metadata": {
    "execution": {
     "iopub.execute_input": "2022-04-09T10:09:20.638473Z",
     "iopub.status.busy": "2022-04-09T10:09:20.637976Z",
     "iopub.status.idle": "2022-04-09T10:09:20.650593Z",
     "shell.execute_reply": "2022-04-09T10:09:20.650196Z"
    },
    "papermill": {
     "duration": 0.043107,
     "end_time": "2022-04-09T10:09:20.650692",
     "exception": false,
     "start_time": "2022-04-09T10:09:20.607585",
     "status": "completed"
    },
    "tags": []
   },
   "outputs": [
    {
     "data": {
      "text/plain": [
       "((11982, 784), (1984, 784))"
      ]
     },
     "execution_count": 14,
     "metadata": {},
     "output_type": "execute_result"
    }
   ],
   "source": [
    "X_train = X_train.reshape(X_train.shape[0], -1)\n",
    "X_test = X_test.reshape(X_test.shape[0], -1)\n",
    "X_train.shape, X_test.shape"
   ]
  },
  {
   "cell_type": "code",
   "execution_count": 15,
   "id": "73c5f88a",
   "metadata": {
    "execution": {
     "iopub.execute_input": "2022-04-09T10:09:20.709273Z",
     "iopub.status.busy": "2022-04-09T10:09:20.708767Z",
     "iopub.status.idle": "2022-04-09T10:09:20.725850Z",
     "shell.execute_reply": "2022-04-09T10:09:20.726218Z"
    },
    "papermill": {
     "duration": 0.047936,
     "end_time": "2022-04-09T10:09:20.726332",
     "exception": false,
     "start_time": "2022-04-09T10:09:20.678396",
     "status": "completed"
    },
    "tags": []
   },
   "outputs": [],
   "source": [
    "#Impoting functions from 'Kudzu'\n",
    "from kudzu.model import Model\n",
    "from kudzu.train import Learner\n",
    "from kudzu.optim import GD\n",
    "from kudzu.data import Data, Sampler,Dataloader\n",
    "\n",
    "from kudzu.callbacks import AccCallback\n",
    "from kudzu.callbacks import ClfCallback\n",
    "\n",
    "from kudzu.loss import MSE\n",
    "\n",
    "from kudzu.layer import Sigmoid,Relu\n",
    "from kudzu.layer import Affine"
   ]
  },
  {
   "cell_type": "markdown",
   "id": "bc01172a",
   "metadata": {
    "papermill": {
     "duration": 0.028154,
     "end_time": "2022-04-09T10:09:20.782248",
     "exception": false,
     "start_time": "2022-04-09T10:09:20.754094",
     "status": "completed"
    },
    "tags": []
   },
   "source": [
    "### Let us create a `Config` class, to store important parameters. \n",
    "This class essentially plays the role of a dictionary."
   ]
  },
  {
   "cell_type": "code",
   "execution_count": 16,
   "id": "978281aa",
   "metadata": {
    "execution": {
     "iopub.execute_input": "2022-04-09T10:09:20.840922Z",
     "iopub.status.busy": "2022-04-09T10:09:20.840429Z",
     "iopub.status.idle": "2022-04-09T10:09:20.851286Z",
     "shell.execute_reply": "2022-04-09T10:09:20.851693Z"
    },
    "papermill": {
     "duration": 0.041969,
     "end_time": "2022-04-09T10:09:20.851801",
     "exception": false,
     "start_time": "2022-04-09T10:09:20.809832",
     "status": "completed"
    },
    "tags": []
   },
   "outputs": [],
   "source": [
    "class Config:\n",
    "    pass\n",
    "config = Config()\n",
    "config.lr = 0.001\n",
    "config.num_epochs = 250\n",
    "config.bs = 50"
   ]
  },
  {
   "cell_type": "markdown",
   "id": "1385fa59",
   "metadata": {
    "papermill": {
     "duration": 0.027623,
     "end_time": "2022-04-09T10:09:20.907235",
     "exception": false,
     "start_time": "2022-04-09T10:09:20.879612",
     "status": "completed"
    },
    "tags": []
   },
   "source": [
    "### Running Models with the Training data\n",
    "Details about the network layers:\n",
    "- A first affine layer has 784 inputs and does 100 affine transforms. These are followed by a Relu\n",
    "- A second affine layer has 100 inputs from the 100 activations of the past layer, and does 100 affine transforms. These are followed by a Relu\n",
    "- A third affine layer has 100 activations and does 2 affine transformations to create an embedding for visualization. There is no non-linearity here.\n",
    "- A final \"logistic regression\" which has an affine transform from 2 inputs to 1 output, which is squeezed through a sigmoid.\n"
   ]
  },
  {
   "cell_type": "code",
   "execution_count": 17,
   "id": "2b9c66db",
   "metadata": {
    "execution": {
     "iopub.execute_input": "2022-04-09T10:09:20.966347Z",
     "iopub.status.busy": "2022-04-09T10:09:20.965844Z",
     "iopub.status.idle": "2022-04-09T10:09:20.978669Z",
     "shell.execute_reply": "2022-04-09T10:09:20.978030Z"
    },
    "papermill": {
     "duration": 0.043847,
     "end_time": "2022-04-09T10:09:20.978771",
     "exception": false,
     "start_time": "2022-04-09T10:09:20.934924",
     "status": "completed"
    },
    "tags": []
   },
   "outputs": [],
   "source": [
    "data = Data(X_train, y_train.reshape(-1,1))\n",
    "sampler = Sampler(data, config.bs, shuffle=True)\n",
    "\n",
    "dl = Dataloader(data, sampler)\n",
    "\n",
    "opt = GD(config.lr)\n",
    "loss = MSE()"
   ]
  },
  {
   "cell_type": "code",
   "execution_count": 18,
   "id": "b275e4c2",
   "metadata": {
    "execution": {
     "iopub.execute_input": "2022-04-09T10:09:21.038079Z",
     "iopub.status.busy": "2022-04-09T10:09:21.037582Z",
     "iopub.status.idle": "2022-04-09T10:09:21.048503Z",
     "shell.execute_reply": "2022-04-09T10:09:21.048962Z"
    },
    "papermill": {
     "duration": 0.042424,
     "end_time": "2022-04-09T10:09:21.049088",
     "exception": false,
     "start_time": "2022-04-09T10:09:21.006664",
     "status": "completed"
    },
    "tags": []
   },
   "outputs": [],
   "source": [
    "training_data_x = X_train\n",
    "testing_data_x = X_test\n",
    "training_data_y = y_train.reshape(-1,1)\n",
    "testing_data_y = y_test.reshape(-1,1)"
   ]
  },
  {
   "cell_type": "code",
   "execution_count": 19,
   "id": "76951160",
   "metadata": {
    "execution": {
     "iopub.execute_input": "2022-04-09T10:09:21.107866Z",
     "iopub.status.busy": "2022-04-09T10:09:21.107364Z",
     "iopub.status.idle": "2022-04-09T10:09:21.123463Z",
     "shell.execute_reply": "2022-04-09T10:09:21.123845Z"
    },
    "papermill": {
     "duration": 0.047344,
     "end_time": "2022-04-09T10:09:21.123961",
     "exception": false,
     "start_time": "2022-04-09T10:09:21.076617",
     "status": "completed"
    },
    "tags": []
   },
   "outputs": [
    {
     "name": "stdout",
     "output_type": "stream",
     "text": [
      "xavier\n",
      "xavier\n",
      "xavier\n",
      "xavier\n",
      "xavier\n"
     ]
    }
   ],
   "source": [
    "layers = [Affine(\"first\", 784, 100), Relu(\"first\"), Affine(\"second\", 100, 100), Relu(\"second\"), Affine(\"third\", 100, 2), Affine(\"last\", 2, 1), Sigmoid(\"last\")]\n",
    "model_nn = Model(layers)\n",
    "model_lr = Model([Affine(\"logits\", 784, 1), Sigmoid(\"sigmoid\")])"
   ]
  },
  {
   "cell_type": "code",
   "execution_count": 20,
   "id": "6eede77a",
   "metadata": {
    "execution": {
     "iopub.execute_input": "2022-04-09T10:09:21.185815Z",
     "iopub.status.busy": "2022-04-09T10:09:21.183324Z",
     "iopub.status.idle": "2022-04-09T10:09:21.195056Z",
     "shell.execute_reply": "2022-04-09T10:09:21.194639Z"
    },
    "papermill": {
     "duration": 0.043297,
     "end_time": "2022-04-09T10:09:21.195153",
     "exception": false,
     "start_time": "2022-04-09T10:09:21.151856",
     "status": "completed"
    },
    "tags": []
   },
   "outputs": [],
   "source": [
    "nn_learner = Learner(loss, model_nn, opt, config.num_epochs)\n",
    "acc_nn = ClfCallback(nn_learner, config.bs, training_data_x , testing_data_x, training_data_y, testing_data_y)\n",
    "nn_learner.set_callbacks([acc_nn])"
   ]
  },
  {
   "cell_type": "code",
   "execution_count": 21,
   "id": "877b6cc7",
   "metadata": {
    "execution": {
     "iopub.execute_input": "2022-04-09T10:09:21.254105Z",
     "iopub.status.busy": "2022-04-09T10:09:21.253613Z",
     "iopub.status.idle": "2022-04-09T10:09:21.265551Z",
     "shell.execute_reply": "2022-04-09T10:09:21.265958Z"
    },
    "papermill": {
     "duration": 0.042956,
     "end_time": "2022-04-09T10:09:21.266069",
     "exception": false,
     "start_time": "2022-04-09T10:09:21.223113",
     "status": "completed"
    },
    "tags": []
   },
   "outputs": [],
   "source": [
    "lr_learner = Learner(loss, model_lr, opt, config.num_epochs)\n",
    "acc_lr = ClfCallback(lr_learner, config.bs, training_data_x , testing_data_x, training_data_y, testing_data_y)\n",
    "lr_learner.set_callbacks([acc_lr])"
   ]
  },
  {
   "cell_type": "code",
   "execution_count": 22,
   "id": "d9b133c3",
   "metadata": {
    "execution": {
     "iopub.execute_input": "2022-04-09T10:09:21.327622Z",
     "iopub.status.busy": "2022-04-09T10:09:21.325410Z",
     "iopub.status.idle": "2022-04-09T10:12:21.233617Z",
     "shell.execute_reply": "2022-04-09T10:12:21.234039Z"
    },
    "papermill": {
     "duration": 179.940092,
     "end_time": "2022-04-09T10:12:21.234167",
     "exception": false,
     "start_time": "2022-04-09T10:09:21.294075",
     "status": "completed"
    },
    "tags": []
   },
   "outputs": [
    {
     "name": "stdout",
     "output_type": "stream",
     "text": [
      "Epoch 0, Loss 0.2506\n",
      "Training Accuracy: 0.5325, Testing Accuracy: 0.5519\n",
      "\n"
     ]
    },
    {
     "name": "stdout",
     "output_type": "stream",
     "text": [
      "Epoch 10, Loss 0.1716\n",
      "Training Accuracy: 0.8774, Testing Accuracy: 0.8871\n",
      "\n"
     ]
    },
    {
     "name": "stdout",
     "output_type": "stream",
     "text": [
      "Epoch 20, Loss 0.0881\n",
      "Training Accuracy: 0.9135, Testing Accuracy: 0.9224\n",
      "\n"
     ]
    },
    {
     "name": "stdout",
     "output_type": "stream",
     "text": [
      "Epoch 30, Loss 0.0596\n",
      "Training Accuracy: 0.9366, Testing Accuracy: 0.9476\n",
      "\n"
     ]
    },
    {
     "name": "stdout",
     "output_type": "stream",
     "text": [
      "Epoch 40, Loss 0.0473\n",
      "Training Accuracy: 0.9469, Testing Accuracy: 0.9587\n",
      "\n"
     ]
    },
    {
     "name": "stdout",
     "output_type": "stream",
     "text": [
      "Epoch 50, Loss 0.0408\n",
      "Training Accuracy: 0.9541, Testing Accuracy: 0.9632\n",
      "\n"
     ]
    },
    {
     "name": "stdout",
     "output_type": "stream",
     "text": [
      "Epoch 60, Loss 0.0368\n",
      "Training Accuracy: 0.9575, Testing Accuracy: 0.9667\n",
      "\n"
     ]
    },
    {
     "name": "stdout",
     "output_type": "stream",
     "text": [
      "Epoch 70, Loss 0.0341\n",
      "Training Accuracy: 0.9604, Testing Accuracy: 0.9693\n",
      "\n"
     ]
    },
    {
     "name": "stdout",
     "output_type": "stream",
     "text": [
      "Epoch 80, Loss 0.032\n",
      "Training Accuracy: 0.9626, Testing Accuracy: 0.9708\n",
      "\n"
     ]
    },
    {
     "name": "stdout",
     "output_type": "stream",
     "text": [
      "Epoch 90, Loss 0.0304\n",
      "Training Accuracy: 0.9649, Testing Accuracy: 0.9723\n",
      "\n"
     ]
    },
    {
     "name": "stdout",
     "output_type": "stream",
     "text": [
      "Epoch 100, Loss 0.0292\n",
      "Training Accuracy: 0.9666, Testing Accuracy: 0.9708\n",
      "\n"
     ]
    },
    {
     "name": "stdout",
     "output_type": "stream",
     "text": [
      "Epoch 110, Loss 0.0281\n",
      "Training Accuracy: 0.9677, Testing Accuracy: 0.9713\n",
      "\n"
     ]
    },
    {
     "name": "stdout",
     "output_type": "stream",
     "text": [
      "Epoch 120, Loss 0.0272\n",
      "Training Accuracy: 0.9694, Testing Accuracy: 0.9713\n",
      "\n"
     ]
    },
    {
     "name": "stdout",
     "output_type": "stream",
     "text": [
      "Epoch 130, Loss 0.0264\n",
      "Training Accuracy: 0.9699, Testing Accuracy: 0.9718\n",
      "\n"
     ]
    },
    {
     "name": "stdout",
     "output_type": "stream",
     "text": [
      "Epoch 140, Loss 0.0256\n",
      "Training Accuracy: 0.9707, Testing Accuracy: 0.9728\n",
      "\n"
     ]
    },
    {
     "name": "stdout",
     "output_type": "stream",
     "text": [
      "Epoch 150, Loss 0.025\n",
      "Training Accuracy: 0.9715, Testing Accuracy: 0.9733\n",
      "\n"
     ]
    },
    {
     "name": "stdout",
     "output_type": "stream",
     "text": [
      "Epoch 160, Loss 0.0244\n",
      "Training Accuracy: 0.9721, Testing Accuracy: 0.9743\n",
      "\n"
     ]
    },
    {
     "name": "stdout",
     "output_type": "stream",
     "text": [
      "Epoch 170, Loss 0.0238\n",
      "Training Accuracy: 0.9727, Testing Accuracy: 0.9743\n",
      "\n"
     ]
    },
    {
     "name": "stdout",
     "output_type": "stream",
     "text": [
      "Epoch 180, Loss 0.0233\n",
      "Training Accuracy: 0.9735, Testing Accuracy: 0.9733\n",
      "\n"
     ]
    },
    {
     "name": "stdout",
     "output_type": "stream",
     "text": [
      "Epoch 190, Loss 0.0228\n",
      "Training Accuracy: 0.9736, Testing Accuracy: 0.9728\n",
      "\n"
     ]
    },
    {
     "name": "stdout",
     "output_type": "stream",
     "text": [
      "Epoch 200, Loss 0.0223\n",
      "Training Accuracy: 0.9742, Testing Accuracy: 0.9728\n",
      "\n"
     ]
    },
    {
     "name": "stdout",
     "output_type": "stream",
     "text": [
      "Epoch 210, Loss 0.0219\n",
      "Training Accuracy: 0.9750, Testing Accuracy: 0.9723\n",
      "\n"
     ]
    },
    {
     "name": "stdout",
     "output_type": "stream",
     "text": [
      "Epoch 220, Loss 0.0215\n",
      "Training Accuracy: 0.9754, Testing Accuracy: 0.9713\n",
      "\n"
     ]
    },
    {
     "name": "stdout",
     "output_type": "stream",
     "text": [
      "Epoch 230, Loss 0.0211\n",
      "Training Accuracy: 0.9753, Testing Accuracy: 0.9713\n",
      "\n"
     ]
    },
    {
     "name": "stdout",
     "output_type": "stream",
     "text": [
      "Epoch 240, Loss 0.0207\n",
      "Training Accuracy: 0.9759, Testing Accuracy: 0.9718\n",
      "\n"
     ]
    },
    {
     "data": {
      "text/plain": [
       "0.04831220517601303"
      ]
     },
     "execution_count": 22,
     "metadata": {},
     "output_type": "execute_result"
    }
   ],
   "source": [
    "nn_learner.train_loop(dl)"
   ]
  },
  {
   "cell_type": "code",
   "execution_count": 23,
   "id": "e0163366",
   "metadata": {
    "execution": {
     "iopub.execute_input": "2022-04-09T10:12:21.309579Z",
     "iopub.status.busy": "2022-04-09T10:12:21.307891Z",
     "iopub.status.idle": "2022-04-09T10:12:33.940843Z",
     "shell.execute_reply": "2022-04-09T10:12:33.941342Z"
    },
    "papermill": {
     "duration": 12.67158,
     "end_time": "2022-04-09T10:12:33.941475",
     "exception": false,
     "start_time": "2022-04-09T10:12:21.269895",
     "status": "completed"
    },
    "tags": []
   },
   "outputs": [
    {
     "name": "stdout",
     "output_type": "stream",
     "text": [
      "Epoch 0, Loss 0.2335\n",
      "Training Accuracy: 0.7178, Testing Accuracy: 0.7389\n",
      "\n"
     ]
    },
    {
     "name": "stdout",
     "output_type": "stream",
     "text": [
      "Epoch 10, Loss 0.1037\n",
      "Training Accuracy: 0.9076, Testing Accuracy: 0.9219\n",
      "\n"
     ]
    },
    {
     "name": "stdout",
     "output_type": "stream",
     "text": [
      "Epoch 20, Loss 0.0794\n",
      "Training Accuracy: 0.9276, Testing Accuracy: 0.9400\n",
      "\n"
     ]
    },
    {
     "name": "stdout",
     "output_type": "stream",
     "text": [
      "Epoch 30, Loss 0.0682\n",
      "Training Accuracy: 0.9352, Testing Accuracy: 0.9491\n",
      "\n"
     ]
    },
    {
     "name": "stdout",
     "output_type": "stream",
     "text": [
      "Epoch 40, Loss 0.0615\n",
      "Training Accuracy: 0.9407, Testing Accuracy: 0.9516\n",
      "\n"
     ]
    },
    {
     "name": "stdout",
     "output_type": "stream",
     "text": [
      "Epoch 50, Loss 0.057\n",
      "Training Accuracy: 0.9437, Testing Accuracy: 0.9546\n",
      "\n"
     ]
    },
    {
     "name": "stdout",
     "output_type": "stream",
     "text": [
      "Epoch 60, Loss 0.0537\n",
      "Training Accuracy: 0.9472, Testing Accuracy: 0.9572\n",
      "\n"
     ]
    },
    {
     "name": "stdout",
     "output_type": "stream",
     "text": [
      "Epoch 70, Loss 0.0512\n",
      "Training Accuracy: 0.9487, Testing Accuracy: 0.9597\n",
      "\n"
     ]
    },
    {
     "name": "stdout",
     "output_type": "stream",
     "text": [
      "Epoch 80, Loss 0.0491\n",
      "Training Accuracy: 0.9504, Testing Accuracy: 0.9597\n",
      "\n"
     ]
    },
    {
     "name": "stdout",
     "output_type": "stream",
     "text": [
      "Epoch 90, Loss 0.0474\n",
      "Training Accuracy: 0.9513, Testing Accuracy: 0.9607\n",
      "\n"
     ]
    },
    {
     "name": "stdout",
     "output_type": "stream",
     "text": [
      "Epoch 100, Loss 0.046\n",
      "Training Accuracy: 0.9531, Testing Accuracy: 0.9612\n",
      "\n"
     ]
    },
    {
     "name": "stdout",
     "output_type": "stream",
     "text": [
      "Epoch 110, Loss 0.0448\n",
      "Training Accuracy: 0.9544, Testing Accuracy: 0.9622\n",
      "\n"
     ]
    },
    {
     "name": "stdout",
     "output_type": "stream",
     "text": [
      "Epoch 120, Loss 0.0438\n",
      "Training Accuracy: 0.9555, Testing Accuracy: 0.9637\n",
      "\n"
     ]
    },
    {
     "name": "stdout",
     "output_type": "stream",
     "text": [
      "Epoch 130, Loss 0.0429\n",
      "Training Accuracy: 0.9568, Testing Accuracy: 0.9637\n",
      "\n"
     ]
    },
    {
     "name": "stdout",
     "output_type": "stream",
     "text": [
      "Epoch 140, Loss 0.042\n",
      "Training Accuracy: 0.9569, Testing Accuracy: 0.9642\n",
      "\n"
     ]
    },
    {
     "name": "stdout",
     "output_type": "stream",
     "text": [
      "Epoch 150, Loss 0.0413\n",
      "Training Accuracy: 0.9576, Testing Accuracy: 0.9647\n",
      "\n"
     ]
    },
    {
     "name": "stdout",
     "output_type": "stream",
     "text": [
      "Epoch 160, Loss 0.0406\n",
      "Training Accuracy: 0.9582, Testing Accuracy: 0.9657\n",
      "\n"
     ]
    },
    {
     "name": "stdout",
     "output_type": "stream",
     "text": [
      "Epoch 170, Loss 0.04\n",
      "Training Accuracy: 0.9589, Testing Accuracy: 0.9652\n",
      "\n"
     ]
    },
    {
     "name": "stdout",
     "output_type": "stream",
     "text": [
      "Epoch 180, Loss 0.0395\n",
      "Training Accuracy: 0.9592, Testing Accuracy: 0.9647\n",
      "\n"
     ]
    },
    {
     "name": "stdout",
     "output_type": "stream",
     "text": [
      "Epoch 190, Loss 0.039\n",
      "Training Accuracy: 0.9600, Testing Accuracy: 0.9652\n",
      "\n"
     ]
    },
    {
     "name": "stdout",
     "output_type": "stream",
     "text": [
      "Epoch 200, Loss 0.0385\n",
      "Training Accuracy: 0.9604, Testing Accuracy: 0.9652\n",
      "\n"
     ]
    },
    {
     "name": "stdout",
     "output_type": "stream",
     "text": [
      "Epoch 210, Loss 0.038\n",
      "Training Accuracy: 0.9606, Testing Accuracy: 0.9652\n",
      "\n"
     ]
    },
    {
     "name": "stdout",
     "output_type": "stream",
     "text": [
      "Epoch 220, Loss 0.0376\n",
      "Training Accuracy: 0.9609, Testing Accuracy: 0.9652\n",
      "\n"
     ]
    },
    {
     "name": "stdout",
     "output_type": "stream",
     "text": [
      "Epoch 230, Loss 0.0372\n",
      "Training Accuracy: 0.9610, Testing Accuracy: 0.9667\n",
      "\n"
     ]
    },
    {
     "name": "stdout",
     "output_type": "stream",
     "text": [
      "Epoch 240, Loss 0.0369\n",
      "Training Accuracy: 0.9610, Testing Accuracy: 0.9667\n",
      "\n"
     ]
    },
    {
     "data": {
      "text/plain": [
       "0.03825843999462126"
      ]
     },
     "execution_count": 23,
     "metadata": {},
     "output_type": "execute_result"
    }
   ],
   "source": [
    "lr_learner.train_loop(dl)"
   ]
  },
  {
   "cell_type": "code",
   "execution_count": 24,
   "id": "ca410940",
   "metadata": {
    "execution": {
     "iopub.execute_input": "2022-04-09T10:12:34.033839Z",
     "iopub.status.busy": "2022-04-09T10:12:34.033307Z",
     "iopub.status.idle": "2022-04-09T10:12:34.255801Z",
     "shell.execute_reply": "2022-04-09T10:12:34.255360Z"
    },
    "papermill": {
     "duration": 0.271754,
     "end_time": "2022-04-09T10:12:34.255920",
     "exception": false,
     "start_time": "2022-04-09T10:12:33.984166",
     "status": "completed"
    },
    "tags": []
   },
   "outputs": [
    {
     "data": {
      "text/plain": [
       "<matplotlib.legend.Legend at 0x7fea41eadbe0>"
      ]
     },
     "execution_count": 24,
     "metadata": {},
     "output_type": "execute_result"
    },
    {
     "data": {
      "image/png": "[encoded data removed]",
      "text/plain": [
       "<Figure size 1080x720 with 1 Axes>"
      ]
     },
     "metadata": {
      "needs_background": "light"
     },
     "output_type": "display_data"
    }
   ],
   "source": [
    "#comparing the results of NN and LR\n",
    "plt.figure(figsize=(15,10))\n",
    "\n",
    "# Neural Network plots\n",
    "plt.plot(acc_nn.accuracies, 'r-', label = \"Training Accuracies - NN\")\n",
    "plt.plot(acc_nn.test_accuracies, 'g-', label = \"Testing Accuracies - NN\")\n",
    "\n",
    "# Logistic Regression plots\n",
    "plt.plot(acc_lr.accuracies, 'k-', label = \"Training Accuracies - LR\")\n",
    "plt.plot(acc_lr.test_accuracies, 'b-', label = \"Testing Accuracies - LR\")\n",
    "plt.legend()"
   ]
  },
  {
   "cell_type": "markdown",
   "id": "80dfb35c",
   "metadata": {
    "papermill": {
     "duration": 0.043641,
     "end_time": "2022-04-09T10:12:34.343496",
     "exception": false,
     "start_time": "2022-04-09T10:12:34.299855",
     "status": "completed"
    },
    "tags": []
   },
   "source": [
    "#### Plotting the outputs of this layer of the NN.\n"
   ]
  },
  {
   "cell_type": "code",
   "execution_count": 25,
   "id": "45eb2ff5",
   "metadata": {
    "execution": {
     "iopub.execute_input": "2022-04-09T10:12:34.438319Z",
     "iopub.status.busy": "2022-04-09T10:12:34.437771Z",
     "iopub.status.idle": "2022-04-09T10:12:34.470091Z",
     "shell.execute_reply": "2022-04-09T10:12:34.470502Z"
    },
    "papermill": {
     "duration": 0.08351,
     "end_time": "2022-04-09T10:12:34.470641",
     "exception": false,
     "start_time": "2022-04-09T10:12:34.387131",
     "status": "completed"
    },
    "tags": []
   },
   "outputs": [],
   "source": [
    "new_model = Model(layers[:-2])\n",
    "testing_plot = new_model(testing_data_x)"
   ]
  },
  {
   "cell_type": "code",
   "execution_count": 26,
   "id": "4c0a5485",
   "metadata": {
    "execution": {
     "iopub.execute_input": "2022-04-09T10:12:34.565819Z",
     "iopub.status.busy": "2022-04-09T10:12:34.565239Z",
     "iopub.status.idle": "2022-04-09T10:12:34.761481Z",
     "shell.execute_reply": "2022-04-09T10:12:34.761883Z"
    },
    "papermill": {
     "duration": 0.247055,
     "end_time": "2022-04-09T10:12:34.762022",
     "exception": false,
     "start_time": "2022-04-09T10:12:34.514967",
     "status": "completed"
    },
    "tags": []
   },
   "outputs": [
    {
     "data": {
      "text/plain": [
       "Text(0.5, 1.0, 'Outputs')"
      ]
     },
     "execution_count": 26,
     "metadata": {},
     "output_type": "execute_result"
    },
    {
     "data": {
      "image/png": "[encoded data removed]",
      "text/plain": [
       "<Figure size 576x504 with 1 Axes>"
      ]
     },
     "metadata": {
      "needs_background": "light"
     },
     "output_type": "display_data"
    }
   ],
   "source": [
    "# Plotting the scatter plot of points and color coding by class\n",
    "plt.figure(figsize=(8,7))\n",
    "plt.scatter(testing_plot[:,0], testing_plot[:,1], alpha = 0.1, c = y_test.ravel());\n",
    "plt.title('Outputs')"
   ]
  },
  {
   "cell_type": "markdown",
   "id": "a74fcf8f",
   "metadata": {
    "papermill": {
     "duration": 0.073565,
     "end_time": "2022-04-09T10:12:34.881266",
     "exception": false,
     "start_time": "2022-04-09T10:12:34.807701",
     "status": "completed"
    },
    "tags": []
   },
   "source": [
    "Probability contours"
   ]
  },
  {
   "cell_type": "code",
   "execution_count": 27,
   "id": "d0afc8e3",
   "metadata": {
    "execution": {
     "iopub.execute_input": "2022-04-09T10:12:34.976504Z",
     "iopub.status.busy": "2022-04-09T10:12:34.975982Z",
     "iopub.status.idle": "2022-04-09T10:12:34.987519Z",
     "shell.execute_reply": "2022-04-09T10:12:34.987071Z"
    },
    "papermill": {
     "duration": 0.060479,
     "end_time": "2022-04-09T10:12:34.987634",
     "exception": false,
     "start_time": "2022-04-09T10:12:34.927155",
     "status": "completed"
    },
    "tags": []
   },
   "outputs": [],
   "source": [
    "model_prob = Model(layers[-2:]) "
   ]
  },
  {
   "cell_type": "code",
   "execution_count": 28,
   "id": "9b96e238",
   "metadata": {
    "execution": {
     "iopub.execute_input": "2022-04-09T10:12:35.083197Z",
     "iopub.status.busy": "2022-04-09T10:12:35.082658Z",
     "iopub.status.idle": "2022-04-09T10:12:35.095276Z",
     "shell.execute_reply": "2022-04-09T10:12:35.095687Z"
    },
    "papermill": {
     "duration": 0.062621,
     "end_time": "2022-04-09T10:12:35.095826",
     "exception": false,
     "start_time": "2022-04-09T10:12:35.033205",
     "status": "completed"
    },
    "tags": []
   },
   "outputs": [],
   "source": [
    "#creating the x and y ranges according to the above generated plot.\n",
    "x_range = np.linspace(-4, 1, 100) \n",
    "y_range = np.linspace(-6, 6, 100) \n",
    "x_grid, y_grid = np.meshgrid(x_range, y_range) # x_grid and y_grig are of size 100 X 100\n",
    "\n",
    "# converting x_grid and y_grid to continuous arrays\n",
    "x_gridflat = np.ravel(x_grid)\n",
    "y_gridflat = np.ravel(y_grid)\n",
    "\n",
    "# The last layer of the current model takes two columns as input. Hence transpose of np.vstack() is required.\n",
    "X = np.vstack((x_gridflat, y_gridflat)).T\n",
    "\n",
    "prob_contour = model_prob(X).reshape(100,100) "
   ]
  },
  {
   "cell_type": "code",
   "execution_count": 29,
   "id": "da72499a",
   "metadata": {
    "execution": {
     "iopub.execute_input": "2022-04-09T10:12:35.191905Z",
     "iopub.status.busy": "2022-04-09T10:12:35.191409Z",
     "iopub.status.idle": "2022-04-09T10:12:35.443683Z",
     "shell.execute_reply": "2022-04-09T10:12:35.443244Z"
    },
    "papermill": {
     "duration": 0.301641,
     "end_time": "2022-04-09T10:12:35.443802",
     "exception": false,
     "start_time": "2022-04-09T10:12:35.142161",
     "status": "completed"
    },
    "tags": []
   },
   "outputs": [
    {
     "data": {
      "image/png": "[encoded data removed]",
      "text/plain": [
       "<Figure size 720x648 with 1 Axes>"
      ]
     },
     "metadata": {
      "needs_background": "light"
     },
     "output_type": "display_data"
    }
   ],
   "source": [
    "plt.figure(figsize=(10,9))\n",
    "plt.scatter(testing_plot[:,0], testing_plot[:,1], alpha = 0.1, c = y_test.ravel())\n",
    "contours = plt.contour(x_grid,y_grid,prob_contour)\n",
    "plt.title('Probability Contours')\n",
    "plt.clabel(contours, inline = True );"
   ]
  },
  {
   "cell_type": "code",
   "execution_count": null,
   "id": "e81b4ac7",
   "metadata": {
    "papermill": {
     "duration": 0.048247,
     "end_time": "2022-04-09T10:12:35.540382",
     "exception": false,
     "start_time": "2022-04-09T10:12:35.492135",
     "status": "completed"
    },
    "tags": []
   },
   "outputs": [],
   "source": []
  }
 ],
 "metadata": {
  "kernelspec": {
   "display_name": "Python 3",
   "language": "python",
   "name": "python3"
  },
  "language_info": {
   "codemirror_mode": {
    "name": "ipython",
    "version": 3
   },
   "file_extension": ".py",
   "mimetype": "text/x-python",
   "name": "python",
   "nbconvert_exporter": "python",
   "pygments_lexer": "ipython3",
   "version": "3.6.15"
  },
  "papermill": {
   "default_parameters": {},
   "duration": 200.499817,
   "end_time": "2022-04-09T10:12:36.006342",
   "environment_variables": {},
   "exception": null,
   "input_path": "2020-08-11-part2.ipynb",
   "output_path": "2020-08-11-part2.ipynb",
   "parameters": {},
   "start_time": "2022-04-09T10:09:15.506525",
   "version": "2.3.3"
  }
 },
 "nbformat": 4,
 "nbformat_minor": 5
}