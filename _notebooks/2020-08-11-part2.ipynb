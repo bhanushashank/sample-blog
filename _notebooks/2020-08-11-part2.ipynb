{
 "cells": [
  {
   "cell_type": "markdown",
   "id": "98380cd3",
   "metadata": {
    "papermill": {
     "duration": 0.034966,
     "end_time": "2022-11-28T00:37:00.302873",
     "exception": false,
     "start_time": "2022-11-28T00:37:00.267907",
     "status": "completed"
    },
    "tags": []
   },
   "source": [
    "# Distinguish Your Own Digits (DYOD)"
   ]
  },
  {
   "cell_type": "markdown",
   "id": "ef31240d",
   "metadata": {
    "papermill": {
     "duration": 0.029776,
     "end_time": "2022-11-28T00:37:00.362685",
     "exception": false,
     "start_time": "2022-11-28T00:37:00.332909",
     "status": "completed"
    },
    "tags": []
   },
   "source": [
    "You are going to write a classifier that distinguishes between the number 3 and number 8."
   ]
  },
  {
   "cell_type": "code",
   "execution_count": 1,
   "id": "b15c8646",
   "metadata": {
    "execution": {
     "iopub.execute_input": "2022-11-28T00:37:00.434610Z",
     "iopub.status.busy": "2022-11-28T00:37:00.433808Z",
     "iopub.status.idle": "2022-11-28T00:37:00.446395Z",
     "shell.execute_reply": "2022-11-28T00:37:00.445789Z"
    },
    "papermill": {
     "duration": 0.054021,
     "end_time": "2022-11-28T00:37:00.446550",
     "exception": false,
     "start_time": "2022-11-28T00:37:00.392529",
     "status": "completed"
    },
    "tags": []
   },
   "outputs": [],
   "source": [
    "%load_ext autoreload\n",
    "%autoreload 2"
   ]
  },
  {
   "cell_type": "code",
   "execution_count": 2,
   "id": "22ef38dc",
   "metadata": {
    "execution": {
     "iopub.execute_input": "2022-11-28T00:37:00.512628Z",
     "iopub.status.busy": "2022-11-28T00:37:00.511874Z",
     "iopub.status.idle": "2022-11-28T00:37:01.182262Z",
     "shell.execute_reply": "2022-11-28T00:37:01.181575Z"
    },
    "papermill": {
     "duration": 0.706678,
     "end_time": "2022-11-28T00:37:01.182404",
     "exception": false,
     "start_time": "2022-11-28T00:37:00.475726",
     "status": "completed"
    },
    "tags": []
   },
   "outputs": [],
   "source": [
    "%matplotlib inline\n",
    "import numpy as np\n",
    "import matplotlib.pyplot as plt\n",
    "import pandas as pd"
   ]
  },
  {
   "cell_type": "markdown",
   "id": "ba036198",
   "metadata": {
    "papermill": {
     "duration": 0.030962,
     "end_time": "2022-11-28T00:37:01.241720",
     "exception": false,
     "start_time": "2022-11-28T00:37:01.210758",
     "status": "completed"
    },
    "tags": []
   },
   "source": [
    "From the command line run `pip install mnist`. This is a library that will help you bring down the mnist dataset. If you run this from a notebook, you need to put  `!pip install mnist` in a cell by itself."
   ]
  },
  {
   "cell_type": "code",
   "execution_count": 3,
   "id": "bb6ad8a1",
   "metadata": {
    "execution": {
     "iopub.execute_input": "2022-11-28T00:37:01.307284Z",
     "iopub.status.busy": "2022-11-28T00:37:01.306545Z",
     "iopub.status.idle": "2022-11-28T00:37:03.308690Z",
     "shell.execute_reply": "2022-11-28T00:37:03.308023Z"
    },
    "papermill": {
     "duration": 2.038268,
     "end_time": "2022-11-28T00:37:03.308949",
     "exception": false,
     "start_time": "2022-11-28T00:37:01.270681",
     "status": "completed"
    },
    "tags": []
   },
   "outputs": [
    {
     "name": "stdout",
     "output_type": "stream",
     "text": [
      "Collecting mnist\r\n"
     ]
    },
    {
     "name": "stdout",
     "output_type": "stream",
     "text": [
      "  Downloading mnist-0.2.2-py2.py3-none-any.whl (3.5 kB)\r\n",
      "Requirement already satisfied: numpy in /opt/hostedtoolcache/Python/3.6.15/x64/lib/python3.6/site-packages (from mnist) (1.19.5)\r\n"
     ]
    },
    {
     "name": "stdout",
     "output_type": "stream",
     "text": [
      "Installing collected packages: mnist\r\n"
     ]
    },
    {
     "name": "stdout",
     "output_type": "stream",
     "text": [
      "Successfully installed mnist-0.2.2\r\n"
     ]
    }
   ],
   "source": [
    "!pip install mnist"
   ]
  },
  {
   "cell_type": "markdown",
   "id": "69df9c9a",
   "metadata": {
    "papermill": {
     "duration": 0.033564,
     "end_time": "2022-11-28T00:37:03.374247",
     "exception": false,
     "start_time": "2022-11-28T00:37:03.340683",
     "status": "completed"
    },
    "tags": []
   },
   "source": [
    "## Preparing the Data"
   ]
  },
  {
   "cell_type": "code",
   "execution_count": 4,
   "id": "7f69d806",
   "metadata": {
    "execution": {
     "iopub.execute_input": "2022-11-28T00:37:03.449087Z",
     "iopub.status.busy": "2022-11-28T00:37:03.448270Z",
     "iopub.status.idle": "2022-11-28T00:37:03.462218Z",
     "shell.execute_reply": "2022-11-28T00:37:03.461420Z"
    },
    "papermill": {
     "duration": 0.056486,
     "end_time": "2022-11-28T00:37:03.462376",
     "exception": false,
     "start_time": "2022-11-28T00:37:03.405890",
     "status": "completed"
    },
    "tags": []
   },
   "outputs": [],
   "source": [
    "import mnist"
   ]
  },
  {
   "cell_type": "code",
   "execution_count": 5,
   "id": "a411e44f",
   "metadata": {
    "execution": {
     "iopub.execute_input": "2022-11-28T00:37:03.533053Z",
     "iopub.status.busy": "2022-11-28T00:37:03.532316Z",
     "iopub.status.idle": "2022-11-28T00:37:04.121380Z",
     "shell.execute_reply": "2022-11-28T00:37:04.120722Z"
    },
    "papermill": {
     "duration": 0.628261,
     "end_time": "2022-11-28T00:37:04.121521",
     "exception": false,
     "start_time": "2022-11-28T00:37:03.493260",
     "status": "completed"
    },
    "tags": []
   },
   "outputs": [],
   "source": [
    "train_images = mnist.train_images()\n",
    "train_labels = mnist.train_labels()"
   ]
  },
  {
   "cell_type": "code",
   "execution_count": 6,
   "id": "dceab3a5",
   "metadata": {
    "execution": {
     "iopub.execute_input": "2022-11-28T00:37:04.189641Z",
     "iopub.status.busy": "2022-11-28T00:37:04.188743Z",
     "iopub.status.idle": "2022-11-28T00:37:04.205583Z",
     "shell.execute_reply": "2022-11-28T00:37:04.206249Z"
    },
    "papermill": {
     "duration": 0.053582,
     "end_time": "2022-11-28T00:37:04.206424",
     "exception": false,
     "start_time": "2022-11-28T00:37:04.152842",
     "status": "completed"
    },
    "tags": []
   },
   "outputs": [
    {
     "data": {
      "text/plain": [
       "((60000, 28, 28), (60000,))"
      ]
     },
     "execution_count": 6,
     "metadata": {},
     "output_type": "execute_result"
    }
   ],
   "source": [
    "train_images.shape, train_labels.shape"
   ]
  },
  {
   "cell_type": "code",
   "execution_count": 7,
   "id": "f50dc2bb",
   "metadata": {
    "execution": {
     "iopub.execute_input": "2022-11-28T00:37:04.276660Z",
     "iopub.status.busy": "2022-11-28T00:37:04.275897Z",
     "iopub.status.idle": "2022-11-28T00:37:04.403055Z",
     "shell.execute_reply": "2022-11-28T00:37:04.403616Z"
    },
    "papermill": {
     "duration": 0.163944,
     "end_time": "2022-11-28T00:37:04.403783",
     "exception": false,
     "start_time": "2022-11-28T00:37:04.239839",
     "status": "completed"
    },
    "tags": []
   },
   "outputs": [],
   "source": [
    "test_images = mnist.test_images()\n",
    "test_labels = mnist.test_labels()"
   ]
  },
  {
   "cell_type": "code",
   "execution_count": 8,
   "id": "fc38cf1b",
   "metadata": {
    "execution": {
     "iopub.execute_input": "2022-11-28T00:37:04.478382Z",
     "iopub.status.busy": "2022-11-28T00:37:04.477394Z",
     "iopub.status.idle": "2022-11-28T00:37:04.491135Z",
     "shell.execute_reply": "2022-11-28T00:37:04.491680Z"
    },
    "papermill": {
     "duration": 0.054831,
     "end_time": "2022-11-28T00:37:04.491843",
     "exception": false,
     "start_time": "2022-11-28T00:37:04.437012",
     "status": "completed"
    },
    "tags": []
   },
   "outputs": [
    {
     "data": {
      "text/plain": [
       "((10000, 28, 28), (10000,))"
      ]
     },
     "execution_count": 8,
     "metadata": {},
     "output_type": "execute_result"
    }
   ],
   "source": [
    "test_images.shape, test_labels.shape"
   ]
  },
  {
   "cell_type": "code",
   "execution_count": 9,
   "id": "f9ed8fe0",
   "metadata": {
    "execution": {
     "iopub.execute_input": "2022-11-28T00:37:04.564571Z",
     "iopub.status.busy": "2022-11-28T00:37:04.563785Z",
     "iopub.status.idle": "2022-11-28T00:37:04.755431Z",
     "shell.execute_reply": "2022-11-28T00:37:04.756006Z"
    },
    "papermill": {
     "duration": 0.229444,
     "end_time": "2022-11-28T00:37:04.756176",
     "exception": false,
     "start_time": "2022-11-28T00:37:04.526732",
     "status": "completed"
    },
    "tags": []
   },
   "outputs": [
    {
     "name": "stdout",
     "output_type": "stream",
     "text": [
      "2\n"
     ]
    },
    {
     "data": {
      "text/plain": [
       "<matplotlib.image.AxesImage at 0x7f039e1e1d30>"
      ]
     },
     "execution_count": 9,
     "metadata": {},
     "output_type": "execute_result"
    },
    {
     "data": {
      "image/png": "[encoded data removed]",
      "text/plain": [
       "<Figure size 432x288 with 1 Axes>"
      ]
     },
     "metadata": {
      "needs_background": "light"
     },
     "output_type": "display_data"
    }
   ],
   "source": [
    "image_index = 7776 # You may select anything up to 60,000\n",
    "print(train_labels[image_index]) \n",
    "plt.imshow(train_images[image_index], cmap='Greys')"
   ]
  },
  {
   "cell_type": "markdown",
   "id": "a8d2388d",
   "metadata": {
    "papermill": {
     "duration": 0.034512,
     "end_time": "2022-11-28T00:37:04.824395",
     "exception": false,
     "start_time": "2022-11-28T00:37:04.789883",
     "status": "completed"
    },
    "tags": []
   },
   "source": [
    "## Filter data to get 3 and 8 out"
   ]
  },
  {
   "cell_type": "code",
   "execution_count": 10,
   "id": "776f7fc7",
   "metadata": {
    "execution": {
     "iopub.execute_input": "2022-11-28T00:37:04.910568Z",
     "iopub.status.busy": "2022-11-28T00:37:04.906554Z",
     "iopub.status.idle": "2022-11-28T00:37:04.929495Z",
     "shell.execute_reply": "2022-11-28T00:37:04.930089Z"
    },
    "papermill": {
     "duration": 0.071915,
     "end_time": "2022-11-28T00:37:04.930275",
     "exception": false,
     "start_time": "2022-11-28T00:37:04.858360",
     "status": "completed"
    },
    "tags": []
   },
   "outputs": [],
   "source": [
    "train_filter = np.where((train_labels == 3 ) | (train_labels == 8))\n",
    "test_filter = np.where((test_labels == 3) | (test_labels == 8))\n",
    "X_train, y_train = train_images[train_filter], train_labels[train_filter]\n",
    "X_test, y_test = test_images[test_filter], test_labels[test_filter]"
   ]
  },
  {
   "cell_type": "markdown",
   "id": "948f0b7e",
   "metadata": {
    "papermill": {
     "duration": 0.043709,
     "end_time": "2022-11-28T00:37:05.007986",
     "exception": false,
     "start_time": "2022-11-28T00:37:04.964277",
     "status": "completed"
    },
    "tags": []
   },
   "source": [
    "We normalize the pizel values in the 0 to 1 range"
   ]
  },
  {
   "cell_type": "code",
   "execution_count": 11,
   "id": "ee4c2166",
   "metadata": {
    "execution": {
     "iopub.execute_input": "2022-11-28T00:37:05.087440Z",
     "iopub.status.busy": "2022-11-28T00:37:05.086520Z",
     "iopub.status.idle": "2022-11-28T00:37:05.147811Z",
     "shell.execute_reply": "2022-11-28T00:37:05.148384Z"
    },
    "papermill": {
     "duration": 0.104527,
     "end_time": "2022-11-28T00:37:05.148733",
     "exception": false,
     "start_time": "2022-11-28T00:37:05.044206",
     "status": "completed"
    },
    "tags": []
   },
   "outputs": [],
   "source": [
    "X_train = X_train/255.\n",
    "X_test = X_test/255."
   ]
  },
  {
   "cell_type": "markdown",
   "id": "ddcf4fab",
   "metadata": {
    "papermill": {
     "duration": 0.033759,
     "end_time": "2022-11-28T00:37:05.215137",
     "exception": false,
     "start_time": "2022-11-28T00:37:05.181378",
     "status": "completed"
    },
    "tags": []
   },
   "source": [
    "And setup the labels as 1 (when the digit is 3) and 0 (when the digit is 8)"
   ]
  },
  {
   "cell_type": "code",
   "execution_count": 12,
   "id": "7dc908f2",
   "metadata": {
    "execution": {
     "iopub.execute_input": "2022-11-28T00:37:05.291948Z",
     "iopub.status.busy": "2022-11-28T00:37:05.291281Z",
     "iopub.status.idle": "2022-11-28T00:37:05.301769Z",
     "shell.execute_reply": "2022-11-28T00:37:05.302397Z"
    },
    "papermill": {
     "duration": 0.053287,
     "end_time": "2022-11-28T00:37:05.302561",
     "exception": false,
     "start_time": "2022-11-28T00:37:05.249274",
     "status": "completed"
    },
    "tags": []
   },
   "outputs": [],
   "source": [
    "y_train = 1*(y_train==3)\n",
    "y_test = 1*(y_test==3)"
   ]
  },
  {
   "cell_type": "code",
   "execution_count": 13,
   "id": "01e4e969",
   "metadata": {
    "execution": {
     "iopub.execute_input": "2022-11-28T00:37:05.385874Z",
     "iopub.status.busy": "2022-11-28T00:37:05.385101Z",
     "iopub.status.idle": "2022-11-28T00:37:05.395556Z",
     "shell.execute_reply": "2022-11-28T00:37:05.394920Z"
    },
    "papermill": {
     "duration": 0.059021,
     "end_time": "2022-11-28T00:37:05.395697",
     "exception": false,
     "start_time": "2022-11-28T00:37:05.336676",
     "status": "completed"
    },
    "tags": []
   },
   "outputs": [
    {
     "data": {
      "text/plain": [
       "((11982, 28, 28), (1984, 28, 28))"
      ]
     },
     "execution_count": 13,
     "metadata": {},
     "output_type": "execute_result"
    }
   ],
   "source": [
    "X_train.shape, X_test.shape"
   ]
  },
  {
   "cell_type": "markdown",
   "id": "5ccf3f85",
   "metadata": {
    "papermill": {
     "duration": 0.042892,
     "end_time": "2022-11-28T00:37:05.483887",
     "exception": false,
     "start_time": "2022-11-28T00:37:05.440995",
     "status": "completed"
    },
    "tags": []
   },
   "source": [
    "We reshape the data to flatten the image pixels into a set of features or co-variates:"
   ]
  },
  {
   "cell_type": "code",
   "execution_count": 14,
   "id": "5286a4a3",
   "metadata": {
    "execution": {
     "iopub.execute_input": "2022-11-28T00:37:05.566445Z",
     "iopub.status.busy": "2022-11-28T00:37:05.565623Z",
     "iopub.status.idle": "2022-11-28T00:37:05.581359Z",
     "shell.execute_reply": "2022-11-28T00:37:05.580758Z"
    },
    "papermill": {
     "duration": 0.06288,
     "end_time": "2022-11-28T00:37:05.581511",
     "exception": false,
     "start_time": "2022-11-28T00:37:05.518631",
     "status": "completed"
    },
    "tags": []
   },
   "outputs": [
    {
     "data": {
      "text/plain": [
       "((11982, 784), (1984, 784))"
      ]
     },
     "execution_count": 14,
     "metadata": {},
     "output_type": "execute_result"
    }
   ],
   "source": [
    "X_train = X_train.reshape(X_train.shape[0], -1)\n",
    "X_test = X_test.reshape(X_test.shape[0], -1)\n",
    "X_train.shape, X_test.shape"
   ]
  },
  {
   "cell_type": "code",
   "execution_count": 15,
   "id": "73c5f88a",
   "metadata": {
    "execution": {
     "iopub.execute_input": "2022-11-28T00:37:05.656535Z",
     "iopub.status.busy": "2022-11-28T00:37:05.655816Z",
     "iopub.status.idle": "2022-11-28T00:37:05.677440Z",
     "shell.execute_reply": "2022-11-28T00:37:05.677977Z"
    },
    "papermill": {
     "duration": 0.062987,
     "end_time": "2022-11-28T00:37:05.678134",
     "exception": false,
     "start_time": "2022-11-28T00:37:05.615147",
     "status": "completed"
    },
    "tags": []
   },
   "outputs": [],
   "source": [
    "#Impoting functions from 'Kudzu'\n",
    "from kudzu.model import Model\n",
    "from kudzu.train import Learner\n",
    "from kudzu.optim import GD\n",
    "from kudzu.data import Data, Sampler,Dataloader\n",
    "\n",
    "from kudzu.callbacks import AccCallback\n",
    "from kudzu.callbacks import ClfCallback\n",
    "\n",
    "from kudzu.loss import MSE\n",
    "\n",
    "from kudzu.layer import Sigmoid,Relu\n",
    "from kudzu.layer import Affine"
   ]
  },
  {
   "cell_type": "markdown",
   "id": "bc01172a",
   "metadata": {
    "papermill": {
     "duration": 0.031813,
     "end_time": "2022-11-28T00:37:05.742690",
     "exception": false,
     "start_time": "2022-11-28T00:37:05.710877",
     "status": "completed"
    },
    "tags": []
   },
   "source": [
    "### Let us create a `Config` class, to store important parameters. \n",
    "This class essentially plays the role of a dictionary."
   ]
  },
  {
   "cell_type": "code",
   "execution_count": 16,
   "id": "978281aa",
   "metadata": {
    "execution": {
     "iopub.execute_input": "2022-11-28T00:37:05.812961Z",
     "iopub.status.busy": "2022-11-28T00:37:05.812183Z",
     "iopub.status.idle": "2022-11-28T00:37:05.826626Z",
     "shell.execute_reply": "2022-11-28T00:37:05.827216Z"
    },
    "papermill": {
     "duration": 0.051983,
     "end_time": "2022-11-28T00:37:05.827363",
     "exception": false,
     "start_time": "2022-11-28T00:37:05.775380",
     "status": "completed"
    },
    "tags": []
   },
   "outputs": [],
   "source": [
    "class Config:\n",
    "    pass\n",
    "config = Config()\n",
    "config.lr = 0.001\n",
    "config.num_epochs = 250\n",
    "config.bs = 50"
   ]
  },
  {
   "cell_type": "markdown",
   "id": "1385fa59",
   "metadata": {
    "papermill": {
     "duration": 0.032668,
     "end_time": "2022-11-28T00:37:05.893390",
     "exception": false,
     "start_time": "2022-11-28T00:37:05.860722",
     "status": "completed"
    },
    "tags": []
   },
   "source": [
    "### Running Models with the Training data\n",
    "Details about the network layers:\n",
    "- A first affine layer has 784 inputs and does 100 affine transforms. These are followed by a Relu\n",
    "- A second affine layer has 100 inputs from the 100 activations of the past layer, and does 100 affine transforms. These are followed by a Relu\n",
    "- A third affine layer has 100 activations and does 2 affine transformations to create an embedding for visualization. There is no non-linearity here.\n",
    "- A final \"logistic regression\" which has an affine transform from 2 inputs to 1 output, which is squeezed through a sigmoid.\n"
   ]
  },
  {
   "cell_type": "code",
   "execution_count": 17,
   "id": "2b9c66db",
   "metadata": {
    "execution": {
     "iopub.execute_input": "2022-11-28T00:37:05.971226Z",
     "iopub.status.busy": "2022-11-28T00:37:05.968302Z",
     "iopub.status.idle": "2022-11-28T00:37:05.983988Z",
     "shell.execute_reply": "2022-11-28T00:37:05.983279Z"
    },
    "papermill": {
     "duration": 0.056478,
     "end_time": "2022-11-28T00:37:05.984140",
     "exception": false,
     "start_time": "2022-11-28T00:37:05.927662",
     "status": "completed"
    },
    "tags": []
   },
   "outputs": [],
   "source": [
    "data = Data(X_train, y_train.reshape(-1,1))\n",
    "sampler = Sampler(data, config.bs, shuffle=True)\n",
    "\n",
    "dl = Dataloader(data, sampler)\n",
    "\n",
    "opt = GD(config.lr)\n",
    "loss = MSE()"
   ]
  },
  {
   "cell_type": "code",
   "execution_count": 18,
   "id": "b275e4c2",
   "metadata": {
    "execution": {
     "iopub.execute_input": "2022-11-28T00:37:06.064604Z",
     "iopub.status.busy": "2022-11-28T00:37:06.063815Z",
     "iopub.status.idle": "2022-11-28T00:37:06.076853Z",
     "shell.execute_reply": "2022-11-28T00:37:06.077386Z"
    },
    "papermill": {
     "duration": 0.056847,
     "end_time": "2022-11-28T00:37:06.077561",
     "exception": false,
     "start_time": "2022-11-28T00:37:06.020714",
     "status": "completed"
    },
    "tags": []
   },
   "outputs": [],
   "source": [
    "training_data_x = X_train\n",
    "testing_data_x = X_test\n",
    "training_data_y = y_train.reshape(-1,1)\n",
    "testing_data_y = y_test.reshape(-1,1)"
   ]
  },
  {
   "cell_type": "code",
   "execution_count": 19,
   "id": "76951160",
   "metadata": {
    "execution": {
     "iopub.execute_input": "2022-11-28T00:37:06.149456Z",
     "iopub.status.busy": "2022-11-28T00:37:06.148690Z",
     "iopub.status.idle": "2022-11-28T00:37:06.170638Z",
     "shell.execute_reply": "2022-11-28T00:37:06.171417Z"
    },
    "papermill": {
     "duration": 0.058678,
     "end_time": "2022-11-28T00:37:06.171583",
     "exception": false,
     "start_time": "2022-11-28T00:37:06.112905",
     "status": "completed"
    },
    "tags": []
   },
   "outputs": [
    {
     "name": "stdout",
     "output_type": "stream",
     "text": [
      "xavier\n",
      "xavier\n",
      "xavier\n",
      "xavier\n",
      "xavier\n"
     ]
    }
   ],
   "source": [
    "layers = [Affine(\"first\", 784, 100), Relu(\"first\"), Affine(\"second\", 100, 100), Relu(\"second\"), Affine(\"third\", 100, 2), Affine(\"last\", 2, 1), Sigmoid(\"last\")]\n",
    "model_nn = Model(layers)\n",
    "model_lr = Model([Affine(\"logits\", 784, 1), Sigmoid(\"sigmoid\")])"
   ]
  },
  {
   "cell_type": "code",
   "execution_count": 20,
   "id": "6eede77a",
   "metadata": {
    "execution": {
     "iopub.execute_input": "2022-11-28T00:37:06.252556Z",
     "iopub.status.busy": "2022-11-28T00:37:06.251807Z",
     "iopub.status.idle": "2022-11-28T00:37:06.267434Z",
     "shell.execute_reply": "2022-11-28T00:37:06.266777Z"
    },
    "papermill": {
     "duration": 0.057644,
     "end_time": "2022-11-28T00:37:06.268217",
     "exception": false,
     "start_time": "2022-11-28T00:37:06.210573",
     "status": "completed"
    },
    "tags": []
   },
   "outputs": [],
   "source": [
    "nn_learner = Learner(loss, model_nn, opt, config.num_epochs)\n",
    "acc_nn = ClfCallback(nn_learner, config.bs, training_data_x , testing_data_x, training_data_y, testing_data_y)\n",
    "nn_learner.set_callbacks([acc_nn])"
   ]
  },
  {
   "cell_type": "code",
   "execution_count": 21,
   "id": "877b6cc7",
   "metadata": {
    "execution": {
     "iopub.execute_input": "2022-11-28T00:37:06.354641Z",
     "iopub.status.busy": "2022-11-28T00:37:06.353866Z",
     "iopub.status.idle": "2022-11-28T00:37:06.362312Z",
     "shell.execute_reply": "2022-11-28T00:37:06.361571Z"
    },
    "papermill": {
     "duration": 0.058898,
     "end_time": "2022-11-28T00:37:06.362452",
     "exception": false,
     "start_time": "2022-11-28T00:37:06.303554",
     "status": "completed"
    },
    "tags": []
   },
   "outputs": [],
   "source": [
    "lr_learner = Learner(loss, model_lr, opt, config.num_epochs)\n",
    "acc_lr = ClfCallback(lr_learner, config.bs, training_data_x , testing_data_x, training_data_y, testing_data_y)\n",
    "lr_learner.set_callbacks([acc_lr])"
   ]
  },
  {
   "cell_type": "code",
   "execution_count": 22,
   "id": "d9b133c3",
   "metadata": {
    "execution": {
     "iopub.execute_input": "2022-11-28T00:37:06.441052Z",
     "iopub.status.busy": "2022-11-28T00:37:06.435234Z",
     "iopub.status.idle": "2022-11-28T00:39:17.507643Z",
     "shell.execute_reply": "2022-11-28T00:39:17.508521Z"
    },
    "papermill": {
     "duration": 131.113219,
     "end_time": "2022-11-28T00:39:17.508712",
     "exception": false,
     "start_time": "2022-11-28T00:37:06.395493",
     "status": "completed"
    },
    "tags": []
   },
   "outputs": [
    {
     "name": "stdout",
     "output_type": "stream",
     "text": [
      "Epoch 0, Loss 0.2443\n",
      "Training Accuracy: 0.6391, Testing Accuracy: 0.6532\n",
      "\n"
     ]
    },
    {
     "name": "stdout",
     "output_type": "stream",
     "text": [
      "Epoch 10, Loss 0.1059\n",
      "Training Accuracy: 0.9113, Testing Accuracy: 0.9219\n",
      "\n"
     ]
    },
    {
     "name": "stdout",
     "output_type": "stream",
     "text": [
      "Epoch 20, Loss 0.0612\n",
      "Training Accuracy: 0.9402, Testing Accuracy: 0.9461\n",
      "\n"
     ]
    },
    {
     "name": "stdout",
     "output_type": "stream",
     "text": [
      "Epoch 30, Loss 0.0464\n",
      "Training Accuracy: 0.9514, Testing Accuracy: 0.9592\n",
      "\n"
     ]
    },
    {
     "name": "stdout",
     "output_type": "stream",
     "text": [
      "Epoch 40, Loss 0.0394\n",
      "Training Accuracy: 0.9570, Testing Accuracy: 0.9637\n",
      "\n"
     ]
    },
    {
     "name": "stdout",
     "output_type": "stream",
     "text": [
      "Epoch 50, Loss 0.0354\n",
      "Training Accuracy: 0.9601, Testing Accuracy: 0.9667\n",
      "\n"
     ]
    },
    {
     "name": "stdout",
     "output_type": "stream",
     "text": [
      "Epoch 60, Loss 0.0328\n",
      "Training Accuracy: 0.9629, Testing Accuracy: 0.9693\n",
      "\n"
     ]
    },
    {
     "name": "stdout",
     "output_type": "stream",
     "text": [
      "Epoch 70, Loss 0.031\n",
      "Training Accuracy: 0.9641, Testing Accuracy: 0.9708\n",
      "\n"
     ]
    },
    {
     "name": "stdout",
     "output_type": "stream",
     "text": [
      "Epoch 80, Loss 0.0295\n",
      "Training Accuracy: 0.9654, Testing Accuracy: 0.9708\n",
      "\n"
     ]
    },
    {
     "name": "stdout",
     "output_type": "stream",
     "text": [
      "Epoch 90, Loss 0.0283\n",
      "Training Accuracy: 0.9666, Testing Accuracy: 0.9713\n",
      "\n"
     ]
    },
    {
     "name": "stdout",
     "output_type": "stream",
     "text": [
      "Epoch 100, Loss 0.0273\n",
      "Training Accuracy: 0.9678, Testing Accuracy: 0.9718\n",
      "\n"
     ]
    },
    {
     "name": "stdout",
     "output_type": "stream",
     "text": [
      "Epoch 110, Loss 0.0264\n",
      "Training Accuracy: 0.9692, Testing Accuracy: 0.9718\n",
      "\n"
     ]
    },
    {
     "name": "stdout",
     "output_type": "stream",
     "text": [
      "Epoch 120, Loss 0.0256\n",
      "Training Accuracy: 0.9705, Testing Accuracy: 0.9728\n",
      "\n"
     ]
    },
    {
     "name": "stdout",
     "output_type": "stream",
     "text": [
      "Epoch 130, Loss 0.0249\n",
      "Training Accuracy: 0.9714, Testing Accuracy: 0.9733\n",
      "\n"
     ]
    },
    {
     "name": "stdout",
     "output_type": "stream",
     "text": [
      "Epoch 140, Loss 0.0243\n",
      "Training Accuracy: 0.9722, Testing Accuracy: 0.9738\n",
      "\n"
     ]
    },
    {
     "name": "stdout",
     "output_type": "stream",
     "text": [
      "Epoch 150, Loss 0.0237\n",
      "Training Accuracy: 0.9731, Testing Accuracy: 0.9738\n",
      "\n"
     ]
    },
    {
     "name": "stdout",
     "output_type": "stream",
     "text": [
      "Epoch 160, Loss 0.0232\n",
      "Training Accuracy: 0.9735, Testing Accuracy: 0.9728\n",
      "\n"
     ]
    },
    {
     "name": "stdout",
     "output_type": "stream",
     "text": [
      "Epoch 170, Loss 0.0227\n",
      "Training Accuracy: 0.9740, Testing Accuracy: 0.9738\n",
      "\n"
     ]
    },
    {
     "name": "stdout",
     "output_type": "stream",
     "text": [
      "Epoch 180, Loss 0.0222\n",
      "Training Accuracy: 0.9746, Testing Accuracy: 0.9738\n",
      "\n"
     ]
    },
    {
     "name": "stdout",
     "output_type": "stream",
     "text": [
      "Epoch 190, Loss 0.0217\n",
      "Training Accuracy: 0.9750, Testing Accuracy: 0.9738\n",
      "\n"
     ]
    },
    {
     "name": "stdout",
     "output_type": "stream",
     "text": [
      "Epoch 200, Loss 0.0213\n",
      "Training Accuracy: 0.9757, Testing Accuracy: 0.9743\n",
      "\n"
     ]
    },
    {
     "name": "stdout",
     "output_type": "stream",
     "text": [
      "Epoch 210, Loss 0.0209\n",
      "Training Accuracy: 0.9761, Testing Accuracy: 0.9743\n",
      "\n"
     ]
    },
    {
     "name": "stdout",
     "output_type": "stream",
     "text": [
      "Epoch 220, Loss 0.0205\n",
      "Training Accuracy: 0.9767, Testing Accuracy: 0.9748\n",
      "\n"
     ]
    },
    {
     "name": "stdout",
     "output_type": "stream",
     "text": [
      "Epoch 230, Loss 0.0202\n",
      "Training Accuracy: 0.9773, Testing Accuracy: 0.9758\n",
      "\n"
     ]
    },
    {
     "name": "stdout",
     "output_type": "stream",
     "text": [
      "Epoch 240, Loss 0.0198\n",
      "Training Accuracy: 0.9777, Testing Accuracy: 0.9758\n",
      "\n"
     ]
    },
    {
     "data": {
      "text/plain": [
       "0.0044758205731195815"
      ]
     },
     "execution_count": 22,
     "metadata": {},
     "output_type": "execute_result"
    }
   ],
   "source": [
    "nn_learner.train_loop(dl)"
   ]
  },
  {
   "cell_type": "code",
   "execution_count": 23,
   "id": "e0163366",
   "metadata": {
    "execution": {
     "iopub.execute_input": "2022-11-28T00:39:17.605315Z",
     "iopub.status.busy": "2022-11-28T00:39:17.604406Z",
     "iopub.status.idle": "2022-11-28T00:39:36.449683Z",
     "shell.execute_reply": "2022-11-28T00:39:36.450677Z"
    },
    "papermill": {
     "duration": 18.894983,
     "end_time": "2022-11-28T00:39:36.451080",
     "exception": false,
     "start_time": "2022-11-28T00:39:17.556097",
     "status": "completed"
    },
    "tags": []
   },
   "outputs": [
    {
     "name": "stdout",
     "output_type": "stream",
     "text": [
      "Epoch 0, Loss 0.2114\n",
      "Training Accuracy: 0.7883, Testing Accuracy: 0.8160\n",
      "\n"
     ]
    },
    {
     "name": "stdout",
     "output_type": "stream",
     "text": [
      "Epoch 10, Loss 0.0998\n",
      "Training Accuracy: 0.9155, Testing Accuracy: 0.9274\n",
      "\n"
     ]
    },
    {
     "name": "stdout",
     "output_type": "stream",
     "text": [
      "Epoch 20, Loss 0.0784\n",
      "Training Accuracy: 0.9281, Testing Accuracy: 0.9405\n",
      "\n"
     ]
    },
    {
     "name": "stdout",
     "output_type": "stream",
     "text": [
      "Epoch 30, Loss 0.068\n",
      "Training Accuracy: 0.9368, Testing Accuracy: 0.9471\n",
      "\n"
     ]
    },
    {
     "name": "stdout",
     "output_type": "stream",
     "text": [
      "Epoch 40, Loss 0.0616\n",
      "Training Accuracy: 0.9417, Testing Accuracy: 0.9501\n",
      "\n"
     ]
    },
    {
     "name": "stdout",
     "output_type": "stream",
     "text": [
      "Epoch 50, Loss 0.0572\n",
      "Training Accuracy: 0.9462, Testing Accuracy: 0.9551\n",
      "\n"
     ]
    },
    {
     "name": "stdout",
     "output_type": "stream",
     "text": [
      "Epoch 60, Loss 0.0539\n",
      "Training Accuracy: 0.9482, Testing Accuracy: 0.9577\n",
      "\n"
     ]
    },
    {
     "name": "stdout",
     "output_type": "stream",
     "text": [
      "Epoch 70, Loss 0.0514\n",
      "Training Accuracy: 0.9496, Testing Accuracy: 0.9587\n",
      "\n"
     ]
    },
    {
     "name": "stdout",
     "output_type": "stream",
     "text": [
      "Epoch 80, Loss 0.0494\n",
      "Training Accuracy: 0.9513, Testing Accuracy: 0.9592\n",
      "\n"
     ]
    },
    {
     "name": "stdout",
     "output_type": "stream",
     "text": [
      "Epoch 90, Loss 0.0477\n",
      "Training Accuracy: 0.9518, Testing Accuracy: 0.9612\n",
      "\n"
     ]
    },
    {
     "name": "stdout",
     "output_type": "stream",
     "text": [
      "Epoch 100, Loss 0.0462\n",
      "Training Accuracy: 0.9533, Testing Accuracy: 0.9622\n",
      "\n"
     ]
    },
    {
     "name": "stdout",
     "output_type": "stream",
     "text": [
      "Epoch 110, Loss 0.045\n",
      "Training Accuracy: 0.9541, Testing Accuracy: 0.9637\n",
      "\n"
     ]
    },
    {
     "name": "stdout",
     "output_type": "stream",
     "text": [
      "Epoch 120, Loss 0.044\n",
      "Training Accuracy: 0.9548, Testing Accuracy: 0.9637\n",
      "\n"
     ]
    },
    {
     "name": "stdout",
     "output_type": "stream",
     "text": [
      "Epoch 130, Loss 0.043\n",
      "Training Accuracy: 0.9553, Testing Accuracy: 0.9642\n",
      "\n"
     ]
    },
    {
     "name": "stdout",
     "output_type": "stream",
     "text": [
      "Epoch 140, Loss 0.0422\n",
      "Training Accuracy: 0.9557, Testing Accuracy: 0.9652\n",
      "\n"
     ]
    },
    {
     "name": "stdout",
     "output_type": "stream",
     "text": [
      "Epoch 150, Loss 0.0415\n",
      "Training Accuracy: 0.9564, Testing Accuracy: 0.9647\n",
      "\n"
     ]
    },
    {
     "name": "stdout",
     "output_type": "stream",
     "text": [
      "Epoch 160, Loss 0.0408\n",
      "Training Accuracy: 0.9567, Testing Accuracy: 0.9657\n",
      "\n"
     ]
    },
    {
     "name": "stdout",
     "output_type": "stream",
     "text": [
      "Epoch 170, Loss 0.0402\n",
      "Training Accuracy: 0.9572, Testing Accuracy: 0.9662\n",
      "\n"
     ]
    },
    {
     "name": "stdout",
     "output_type": "stream",
     "text": [
      "Epoch 180, Loss 0.0396\n",
      "Training Accuracy: 0.9579, Testing Accuracy: 0.9657\n",
      "\n"
     ]
    },
    {
     "name": "stdout",
     "output_type": "stream",
     "text": [
      "Epoch 190, Loss 0.0391\n",
      "Training Accuracy: 0.9584, Testing Accuracy: 0.9662\n",
      "\n"
     ]
    },
    {
     "name": "stdout",
     "output_type": "stream",
     "text": [
      "Epoch 200, Loss 0.0386\n",
      "Training Accuracy: 0.9588, Testing Accuracy: 0.9662\n",
      "\n"
     ]
    },
    {
     "name": "stdout",
     "output_type": "stream",
     "text": [
      "Epoch 210, Loss 0.0382\n",
      "Training Accuracy: 0.9591, Testing Accuracy: 0.9662\n",
      "\n"
     ]
    },
    {
     "name": "stdout",
     "output_type": "stream",
     "text": [
      "Epoch 220, Loss 0.0378\n",
      "Training Accuracy: 0.9596, Testing Accuracy: 0.9662\n",
      "\n"
     ]
    },
    {
     "name": "stdout",
     "output_type": "stream",
     "text": [
      "Epoch 230, Loss 0.0374\n",
      "Training Accuracy: 0.9599, Testing Accuracy: 0.9672\n",
      "\n"
     ]
    },
    {
     "name": "stdout",
     "output_type": "stream",
     "text": [
      "Epoch 240, Loss 0.037\n",
      "Training Accuracy: 0.9603, Testing Accuracy: 0.9677\n",
      "\n"
     ]
    },
    {
     "data": {
      "text/plain": [
       "0.00426717623659085"
      ]
     },
     "execution_count": 23,
     "metadata": {},
     "output_type": "execute_result"
    }
   ],
   "source": [
    "lr_learner.train_loop(dl)"
   ]
  },
  {
   "cell_type": "code",
   "execution_count": 24,
   "id": "ca410940",
   "metadata": {
    "execution": {
     "iopub.execute_input": "2022-11-28T00:39:36.567047Z",
     "iopub.status.busy": "2022-11-28T00:39:36.565048Z",
     "iopub.status.idle": "2022-11-28T00:39:36.885562Z",
     "shell.execute_reply": "2022-11-28T00:39:36.884878Z"
    },
    "papermill": {
     "duration": 0.38076,
     "end_time": "2022-11-28T00:39:36.885736",
     "exception": false,
     "start_time": "2022-11-28T00:39:36.504976",
     "status": "completed"
    },
    "tags": []
   },
   "outputs": [
    {
     "data": {
      "text/plain": [
       "<matplotlib.legend.Legend at 0x7f039dd4e588>"
      ]
     },
     "execution_count": 24,
     "metadata": {},
     "output_type": "execute_result"
    },
    {
     "data": {
      "image/png": "[encoded data removed]",
      "text/plain": [
       "<Figure size 1080x720 with 1 Axes>"
      ]
     },
     "metadata": {
      "needs_background": "light"
     },
     "output_type": "display_data"
    }
   ],
   "source": [
    "#comparing the results of NN and LR\n",
    "plt.figure(figsize=(15,10))\n",
    "\n",
    "# Neural Network plots\n",
    "plt.plot(acc_nn.accuracies, 'r-', label = \"Training Accuracies - NN\")\n",
    "plt.plot(acc_nn.test_accuracies, 'g-', label = \"Testing Accuracies - NN\")\n",
    "\n",
    "# Logistic Regression plots\n",
    "plt.plot(acc_lr.accuracies, 'k-', label = \"Training Accuracies - LR\")\n",
    "plt.plot(acc_lr.test_accuracies, 'b-', label = \"Testing Accuracies - LR\")\n",
    "plt.legend()"
   ]
  },
  {
   "cell_type": "markdown",
   "id": "80dfb35c",
   "metadata": {
    "papermill": {
     "duration": 0.053202,
     "end_time": "2022-11-28T00:39:36.993093",
     "exception": false,
     "start_time": "2022-11-28T00:39:36.939891",
     "status": "completed"
    },
    "tags": []
   },
   "source": [
    "#### Plotting the outputs of this layer of the NN.\n"
   ]
  },
  {
   "cell_type": "code",
   "execution_count": 25,
   "id": "45eb2ff5",
   "metadata": {
    "execution": {
     "iopub.execute_input": "2022-11-28T00:39:37.110593Z",
     "iopub.status.busy": "2022-11-28T00:39:37.109814Z",
     "iopub.status.idle": "2022-11-28T00:39:37.135560Z",
     "shell.execute_reply": "2022-11-28T00:39:37.134918Z"
    },
    "papermill": {
     "duration": 0.09172,
     "end_time": "2022-11-28T00:39:37.135723",
     "exception": false,
     "start_time": "2022-11-28T00:39:37.044003",
     "status": "completed"
    },
    "tags": []
   },
   "outputs": [],
   "source": [
    "new_model = Model(layers[:-2])\n",
    "testing_plot = new_model(testing_data_x)"
   ]
  },
  {
   "cell_type": "code",
   "execution_count": 26,
   "id": "4c0a5485",
   "metadata": {
    "execution": {
     "iopub.execute_input": "2022-11-28T00:39:37.256831Z",
     "iopub.status.busy": "2022-11-28T00:39:37.256056Z",
     "iopub.status.idle": "2022-11-28T00:39:37.493864Z",
     "shell.execute_reply": "2022-11-28T00:39:37.494598Z"
    },
    "papermill": {
     "duration": 0.303311,
     "end_time": "2022-11-28T00:39:37.494763",
     "exception": false,
     "start_time": "2022-11-28T00:39:37.191452",
     "status": "completed"
    },
    "tags": []
   },
   "outputs": [
    {
     "data": {
      "text/plain": [
       "Text(0.5, 1.0, 'Outputs')"
      ]
     },
     "execution_count": 26,
     "metadata": {},
     "output_type": "execute_result"
    },
    {
     "data": {
      "image/png": "[encoded data removed]",
      "text/plain": [
       "<Figure size 576x504 with 1 Axes>"
      ]
     },
     "metadata": {
      "needs_background": "light"
     },
     "output_type": "display_data"
    }
   ],
   "source": [
    "# Plotting the scatter plot of points and color coding by class\n",
    "plt.figure(figsize=(8,7))\n",
    "plt.scatter(testing_plot[:,0], testing_plot[:,1], alpha = 0.1, c = y_test.ravel());\n",
    "plt.title('Outputs')"
   ]
  },
  {
   "cell_type": "markdown",
   "id": "a74fcf8f",
   "metadata": {
    "papermill": {
     "duration": 0.078679,
     "end_time": "2022-11-28T00:39:37.629339",
     "exception": false,
     "start_time": "2022-11-28T00:39:37.550660",
     "status": "completed"
    },
    "tags": []
   },
   "source": [
    "Probability contours"
   ]
  },
  {
   "cell_type": "code",
   "execution_count": 27,
   "id": "d0afc8e3",
   "metadata": {
    "execution": {
     "iopub.execute_input": "2022-11-28T00:39:37.743058Z",
     "iopub.status.busy": "2022-11-28T00:39:37.742243Z",
     "iopub.status.idle": "2022-11-28T00:39:37.756466Z",
     "shell.execute_reply": "2022-11-28T00:39:37.755721Z"
    },
    "papermill": {
     "duration": 0.073181,
     "end_time": "2022-11-28T00:39:37.756614",
     "exception": false,
     "start_time": "2022-11-28T00:39:37.683433",
     "status": "completed"
    },
    "tags": []
   },
   "outputs": [],
   "source": [
    "model_prob = Model(layers[-2:]) "
   ]
  },
  {
   "cell_type": "code",
   "execution_count": 28,
   "id": "9b96e238",
   "metadata": {
    "execution": {
     "iopub.execute_input": "2022-11-28T00:39:37.876874Z",
     "iopub.status.busy": "2022-11-28T00:39:37.876166Z",
     "iopub.status.idle": "2022-11-28T00:39:37.889332Z",
     "shell.execute_reply": "2022-11-28T00:39:37.889973Z"
    },
    "papermill": {
     "duration": 0.080916,
     "end_time": "2022-11-28T00:39:37.890156",
     "exception": false,
     "start_time": "2022-11-28T00:39:37.809240",
     "status": "completed"
    },
    "tags": []
   },
   "outputs": [],
   "source": [
    "#creating the x and y ranges according to the above generated plot.\n",
    "x_range = np.linspace(-4, 1, 100) \n",
    "y_range = np.linspace(-6, 6, 100) \n",
    "x_grid, y_grid = np.meshgrid(x_range, y_range) # x_grid and y_grig are of size 100 X 100\n",
    "\n",
    "# converting x_grid and y_grid to continuous arrays\n",
    "x_gridflat = np.ravel(x_grid)\n",
    "y_gridflat = np.ravel(y_grid)\n",
    "\n",
    "# The last layer of the current model takes two columns as input. Hence transpose of np.vstack() is required.\n",
    "X = np.vstack((x_gridflat, y_gridflat)).T\n",
    "\n",
    "prob_contour = model_prob(X).reshape(100,100) "
   ]
  },
  {
   "cell_type": "code",
   "execution_count": 29,
   "id": "da72499a",
   "metadata": {
    "execution": {
     "iopub.execute_input": "2022-11-28T00:39:38.013019Z",
     "iopub.status.busy": "2022-11-28T00:39:38.012265Z",
     "iopub.status.idle": "2022-11-28T00:39:38.326973Z",
     "shell.execute_reply": "2022-11-28T00:39:38.326162Z"
    },
    "papermill": {
     "duration": 0.378427,
     "end_time": "2022-11-28T00:39:38.327127",
     "exception": false,
     "start_time": "2022-11-28T00:39:37.948700",
     "status": "completed"
    },
    "tags": []
   },
   "outputs": [
    {
     "data": {
      "image/png": "[encoded data removed]",
      "text/plain": [
       "<Figure size 720x648 with 1 Axes>"
      ]
     },
     "metadata": {
      "needs_background": "light"
     },
     "output_type": "display_data"
    }
   ],
   "source": [
    "plt.figure(figsize=(10,9))\n",
    "plt.scatter(testing_plot[:,0], testing_plot[:,1], alpha = 0.1, c = y_test.ravel())\n",
    "contours = plt.contour(x_grid,y_grid,prob_contour)\n",
    "plt.title('Probability Contours')\n",
    "plt.clabel(contours, inline = True );"
   ]
  },
  {
   "cell_type": "code",
   "execution_count": null,
   "id": "e81b4ac7",
   "metadata": {
    "papermill": {
     "duration": 0.056546,
     "end_time": "2022-11-28T00:39:38.440379",
     "exception": false,
     "start_time": "2022-11-28T00:39:38.383833",
     "status": "completed"
    },
    "tags": []
   },
   "outputs": [],
   "source": []
  }
 ],
 "metadata": {
  "kernelspec": {
   "display_name": "Python 3",
   "language": "python",
   "name": "python3"
  },
  "language_info": {
   "codemirror_mode": {
    "name": "ipython",
    "version": 3
   },
   "file_extension": ".py",
   "mimetype": "text/x-python",
   "name": "python",
   "nbconvert_exporter": "python",
   "pygments_lexer": "ipython3",
   "version": "3.6.15"
  },
  "papermill": {
   "default_parameters": {},
   "duration": 160.017405,
   "end_time": "2022-11-28T00:39:38.918803",
   "environment_variables": {},
   "exception": null,
   "input_path": "2020-08-11-part2.ipynb",
   "output_path": "2020-08-11-part2.ipynb",
   "parameters": {},
   "start_time": "2022-11-28T00:36:58.901398",
   "version": "2.3.3"
  }
 },
 "nbformat": 4,
 "nbformat_minor": 5
}