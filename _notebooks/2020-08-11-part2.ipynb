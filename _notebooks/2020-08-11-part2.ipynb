{
 "cells": [
  {
   "cell_type": "markdown",
   "id": "98380cd3",
   "metadata": {
    "papermill": {
     "duration": 0.034503,
     "end_time": "2022-04-25T20:10:25.277025",
     "exception": false,
     "start_time": "2022-04-25T20:10:25.242522",
     "status": "completed"
    },
    "tags": []
   },
   "source": [
    "# Distinguish Your Own Digits (DYOD)"
   ]
  },
  {
   "cell_type": "markdown",
   "id": "ef31240d",
   "metadata": {
    "papermill": {
     "duration": 0.029138,
     "end_time": "2022-04-25T20:10:25.335194",
     "exception": false,
     "start_time": "2022-04-25T20:10:25.306056",
     "status": "completed"
    },
    "tags": []
   },
   "source": [
    "You are going to write a classifier that distinguishes between the number 3 and number 8."
   ]
  },
  {
   "cell_type": "code",
   "execution_count": 1,
   "id": "b15c8646",
   "metadata": {
    "execution": {
     "iopub.execute_input": "2022-04-25T20:10:25.405413Z",
     "iopub.status.busy": "2022-04-25T20:10:25.404360Z",
     "iopub.status.idle": "2022-04-25T20:10:25.416791Z",
     "shell.execute_reply": "2022-04-25T20:10:25.416251Z"
    },
    "papermill": {
     "duration": 0.054326,
     "end_time": "2022-04-25T20:10:25.416946",
     "exception": false,
     "start_time": "2022-04-25T20:10:25.362620",
     "status": "completed"
    },
    "tags": []
   },
   "outputs": [],
   "source": [
    "%load_ext autoreload\n",
    "%autoreload 2"
   ]
  },
  {
   "cell_type": "code",
   "execution_count": 2,
   "id": "22ef38dc",
   "metadata": {
    "execution": {
     "iopub.execute_input": "2022-04-25T20:10:25.480351Z",
     "iopub.status.busy": "2022-04-25T20:10:25.479734Z",
     "iopub.status.idle": "2022-04-25T20:10:26.115221Z",
     "shell.execute_reply": "2022-04-25T20:10:26.115781Z"
    },
    "papermill": {
     "duration": 0.671483,
     "end_time": "2022-04-25T20:10:26.115963",
     "exception": false,
     "start_time": "2022-04-25T20:10:25.444480",
     "status": "completed"
    },
    "tags": []
   },
   "outputs": [],
   "source": [
    "%matplotlib inline\n",
    "import numpy as np\n",
    "import matplotlib.pyplot as plt\n",
    "import pandas as pd"
   ]
  },
  {
   "cell_type": "markdown",
   "id": "ba036198",
   "metadata": {
    "papermill": {
     "duration": 0.028597,
     "end_time": "2022-04-25T20:10:26.176247",
     "exception": false,
     "start_time": "2022-04-25T20:10:26.147650",
     "status": "completed"
    },
    "tags": []
   },
   "source": [
    "From the command line run `pip install mnist`. This is a library that will help you bring down the mnist dataset. If you run this from a notebook, you need to put  `!pip install mnist` in a cell by itself."
   ]
  },
  {
   "cell_type": "code",
   "execution_count": 3,
   "id": "bb6ad8a1",
   "metadata": {
    "execution": {
     "iopub.execute_input": "2022-04-25T20:10:26.242647Z",
     "iopub.status.busy": "2022-04-25T20:10:26.242029Z",
     "iopub.status.idle": "2022-04-25T20:10:28.940048Z",
     "shell.execute_reply": "2022-04-25T20:10:28.939473Z"
    },
    "papermill": {
     "duration": 2.735999,
     "end_time": "2022-04-25T20:10:28.940181",
     "exception": false,
     "start_time": "2022-04-25T20:10:26.204182",
     "status": "completed"
    },
    "tags": []
   },
   "outputs": [
    {
     "name": "stdout",
     "output_type": "stream",
     "text": [
      "Collecting mnist\r\n",
      "  Downloading mnist-0.2.2-py2.py3-none-any.whl (3.5 kB)\r\n"
     ]
    },
    {
     "name": "stdout",
     "output_type": "stream",
     "text": [
      "Requirement already satisfied: numpy in /opt/hostedtoolcache/Python/3.6.15/x64/lib/python3.6/site-packages (from mnist) (1.19.5)\r\n"
     ]
    },
    {
     "name": "stdout",
     "output_type": "stream",
     "text": [
      "Installing collected packages: mnist\r\n"
     ]
    },
    {
     "name": "stdout",
     "output_type": "stream",
     "text": [
      "Successfully installed mnist-0.2.2\r\n"
     ]
    }
   ],
   "source": [
    "!pip install mnist"
   ]
  },
  {
   "cell_type": "markdown",
   "id": "69df9c9a",
   "metadata": {
    "papermill": {
     "duration": 0.02859,
     "end_time": "2022-04-25T20:10:28.999532",
     "exception": false,
     "start_time": "2022-04-25T20:10:28.970942",
     "status": "completed"
    },
    "tags": []
   },
   "source": [
    "## Preparing the Data"
   ]
  },
  {
   "cell_type": "code",
   "execution_count": 4,
   "id": "7f69d806",
   "metadata": {
    "execution": {
     "iopub.execute_input": "2022-04-25T20:10:29.064212Z",
     "iopub.status.busy": "2022-04-25T20:10:29.060778Z",
     "iopub.status.idle": "2022-04-25T20:10:29.083094Z",
     "shell.execute_reply": "2022-04-25T20:10:29.083932Z"
    },
    "papermill": {
     "duration": 0.056383,
     "end_time": "2022-04-25T20:10:29.084105",
     "exception": false,
     "start_time": "2022-04-25T20:10:29.027722",
     "status": "completed"
    },
    "tags": []
   },
   "outputs": [],
   "source": [
    "import mnist"
   ]
  },
  {
   "cell_type": "code",
   "execution_count": 5,
   "id": "a411e44f",
   "metadata": {
    "execution": {
     "iopub.execute_input": "2022-04-25T20:10:29.154640Z",
     "iopub.status.busy": "2022-04-25T20:10:29.154030Z",
     "iopub.status.idle": "2022-04-25T20:10:29.799537Z",
     "shell.execute_reply": "2022-04-25T20:10:29.798848Z"
    },
    "papermill": {
     "duration": 0.678285,
     "end_time": "2022-04-25T20:10:29.799670",
     "exception": false,
     "start_time": "2022-04-25T20:10:29.121385",
     "status": "completed"
    },
    "tags": []
   },
   "outputs": [],
   "source": [
    "train_images = mnist.train_images()\n",
    "train_labels = mnist.train_labels()"
   ]
  },
  {
   "cell_type": "code",
   "execution_count": 6,
   "id": "dceab3a5",
   "metadata": {
    "execution": {
     "iopub.execute_input": "2022-04-25T20:10:29.865310Z",
     "iopub.status.busy": "2022-04-25T20:10:29.862519Z",
     "iopub.status.idle": "2022-04-25T20:10:29.879636Z",
     "shell.execute_reply": "2022-04-25T20:10:29.879111Z"
    },
    "papermill": {
     "duration": 0.051788,
     "end_time": "2022-04-25T20:10:29.879767",
     "exception": false,
     "start_time": "2022-04-25T20:10:29.827979",
     "status": "completed"
    },
    "tags": []
   },
   "outputs": [
    {
     "data": {
      "text/plain": [
       "((60000, 28, 28), (60000,))"
      ]
     },
     "execution_count": 6,
     "metadata": {},
     "output_type": "execute_result"
    }
   ],
   "source": [
    "train_images.shape, train_labels.shape"
   ]
  },
  {
   "cell_type": "code",
   "execution_count": 7,
   "id": "f50dc2bb",
   "metadata": {
    "execution": {
     "iopub.execute_input": "2022-04-25T20:10:29.942429Z",
     "iopub.status.busy": "2022-04-25T20:10:29.941821Z",
     "iopub.status.idle": "2022-04-25T20:10:30.108531Z",
     "shell.execute_reply": "2022-04-25T20:10:30.107531Z"
    },
    "papermill": {
     "duration": 0.200485,
     "end_time": "2022-04-25T20:10:30.108743",
     "exception": false,
     "start_time": "2022-04-25T20:10:29.908258",
     "status": "completed"
    },
    "tags": []
   },
   "outputs": [],
   "source": [
    "test_images = mnist.test_images()\n",
    "test_labels = mnist.test_labels()"
   ]
  },
  {
   "cell_type": "code",
   "execution_count": 8,
   "id": "fc38cf1b",
   "metadata": {
    "execution": {
     "iopub.execute_input": "2022-04-25T20:10:30.172939Z",
     "iopub.status.busy": "2022-04-25T20:10:30.172339Z",
     "iopub.status.idle": "2022-04-25T20:10:30.187655Z",
     "shell.execute_reply": "2022-04-25T20:10:30.187126Z"
    },
    "papermill": {
     "duration": 0.048243,
     "end_time": "2022-04-25T20:10:30.187783",
     "exception": false,
     "start_time": "2022-04-25T20:10:30.139540",
     "status": "completed"
    },
    "tags": []
   },
   "outputs": [
    {
     "data": {
      "text/plain": [
       "((10000, 28, 28), (10000,))"
      ]
     },
     "execution_count": 8,
     "metadata": {},
     "output_type": "execute_result"
    }
   ],
   "source": [
    "test_images.shape, test_labels.shape"
   ]
  },
  {
   "cell_type": "code",
   "execution_count": 9,
   "id": "f9ed8fe0",
   "metadata": {
    "execution": {
     "iopub.execute_input": "2022-04-25T20:10:30.256337Z",
     "iopub.status.busy": "2022-04-25T20:10:30.255732Z",
     "iopub.status.idle": "2022-04-25T20:10:30.414199Z",
     "shell.execute_reply": "2022-04-25T20:10:30.413693Z"
    },
    "papermill": {
     "duration": 0.197738,
     "end_time": "2022-04-25T20:10:30.414334",
     "exception": false,
     "start_time": "2022-04-25T20:10:30.216596",
     "status": "completed"
    },
    "tags": []
   },
   "outputs": [
    {
     "name": "stdout",
     "output_type": "stream",
     "text": [
      "2\n"
     ]
    },
    {
     "data": {
      "text/plain": [
       "<matplotlib.image.AxesImage at 0x7f3523b8e390>"
      ]
     },
     "execution_count": 9,
     "metadata": {},
     "output_type": "execute_result"
    },
    {
     "data": {
      "image/png": "[encoded data removed]",
      "text/plain": [
       "<Figure size 432x288 with 1 Axes>"
      ]
     },
     "metadata": {
      "needs_background": "light"
     },
     "output_type": "display_data"
    }
   ],
   "source": [
    "image_index = 7776 # You may select anything up to 60,000\n",
    "print(train_labels[image_index]) \n",
    "plt.imshow(train_images[image_index], cmap='Greys')"
   ]
  },
  {
   "cell_type": "markdown",
   "id": "a8d2388d",
   "metadata": {
    "papermill": {
     "duration": 0.029988,
     "end_time": "2022-04-25T20:10:30.474271",
     "exception": false,
     "start_time": "2022-04-25T20:10:30.444283",
     "status": "completed"
    },
    "tags": []
   },
   "source": [
    "## Filter data to get 3 and 8 out"
   ]
  },
  {
   "cell_type": "code",
   "execution_count": 10,
   "id": "776f7fc7",
   "metadata": {
    "execution": {
     "iopub.execute_input": "2022-04-25T20:10:30.547757Z",
     "iopub.status.busy": "2022-04-25T20:10:30.540935Z",
     "iopub.status.idle": "2022-04-25T20:10:30.557289Z",
     "shell.execute_reply": "2022-04-25T20:10:30.556802Z"
    },
    "papermill": {
     "duration": 0.053445,
     "end_time": "2022-04-25T20:10:30.557416",
     "exception": false,
     "start_time": "2022-04-25T20:10:30.503971",
     "status": "completed"
    },
    "tags": []
   },
   "outputs": [],
   "source": [
    "train_filter = np.where((train_labels == 3 ) | (train_labels == 8))\n",
    "test_filter = np.where((test_labels == 3) | (test_labels == 8))\n",
    "X_train, y_train = train_images[train_filter], train_labels[train_filter]\n",
    "X_test, y_test = test_images[test_filter], test_labels[test_filter]"
   ]
  },
  {
   "cell_type": "markdown",
   "id": "948f0b7e",
   "metadata": {
    "papermill": {
     "duration": 0.029597,
     "end_time": "2022-04-25T20:10:30.616889",
     "exception": false,
     "start_time": "2022-04-25T20:10:30.587292",
     "status": "completed"
    },
    "tags": []
   },
   "source": [
    "We normalize the pizel values in the 0 to 1 range"
   ]
  },
  {
   "cell_type": "code",
   "execution_count": 11,
   "id": "ee4c2166",
   "metadata": {
    "execution": {
     "iopub.execute_input": "2022-04-25T20:10:30.682409Z",
     "iopub.status.busy": "2022-04-25T20:10:30.681791Z",
     "iopub.status.idle": "2022-04-25T20:10:30.731740Z",
     "shell.execute_reply": "2022-04-25T20:10:30.730769Z"
    },
    "papermill": {
     "duration": 0.085807,
     "end_time": "2022-04-25T20:10:30.731874",
     "exception": false,
     "start_time": "2022-04-25T20:10:30.646067",
     "status": "completed"
    },
    "tags": []
   },
   "outputs": [],
   "source": [
    "X_train = X_train/255.\n",
    "X_test = X_test/255."
   ]
  },
  {
   "cell_type": "markdown",
   "id": "ddcf4fab",
   "metadata": {
    "papermill": {
     "duration": 0.029667,
     "end_time": "2022-04-25T20:10:30.791547",
     "exception": false,
     "start_time": "2022-04-25T20:10:30.761880",
     "status": "completed"
    },
    "tags": []
   },
   "source": [
    "And setup the labels as 1 (when the digit is 3) and 0 (when the digit is 8)"
   ]
  },
  {
   "cell_type": "code",
   "execution_count": 12,
   "id": "7dc908f2",
   "metadata": {
    "execution": {
     "iopub.execute_input": "2022-04-25T20:10:30.856087Z",
     "iopub.status.busy": "2022-04-25T20:10:30.855461Z",
     "iopub.status.idle": "2022-04-25T20:10:30.870074Z",
     "shell.execute_reply": "2022-04-25T20:10:30.869562Z"
    },
    "papermill": {
     "duration": 0.048913,
     "end_time": "2022-04-25T20:10:30.870196",
     "exception": false,
     "start_time": "2022-04-25T20:10:30.821283",
     "status": "completed"
    },
    "tags": []
   },
   "outputs": [],
   "source": [
    "y_train = 1*(y_train==3)\n",
    "y_test = 1*(y_test==3)"
   ]
  },
  {
   "cell_type": "code",
   "execution_count": 13,
   "id": "01e4e969",
   "metadata": {
    "execution": {
     "iopub.execute_input": "2022-04-25T20:10:30.933239Z",
     "iopub.status.busy": "2022-04-25T20:10:30.932610Z",
     "iopub.status.idle": "2022-04-25T20:10:30.947642Z",
     "shell.execute_reply": "2022-04-25T20:10:30.948152Z"
    },
    "papermill": {
     "duration": 0.048539,
     "end_time": "2022-04-25T20:10:30.948298",
     "exception": false,
     "start_time": "2022-04-25T20:10:30.899759",
     "status": "completed"
    },
    "tags": []
   },
   "outputs": [
    {
     "data": {
      "text/plain": [
       "((11982, 28, 28), (1984, 28, 28))"
      ]
     },
     "execution_count": 13,
     "metadata": {},
     "output_type": "execute_result"
    }
   ],
   "source": [
    "X_train.shape, X_test.shape"
   ]
  },
  {
   "cell_type": "markdown",
   "id": "5ccf3f85",
   "metadata": {
    "papermill": {
     "duration": 0.029756,
     "end_time": "2022-04-25T20:10:31.008219",
     "exception": false,
     "start_time": "2022-04-25T20:10:30.978463",
     "status": "completed"
    },
    "tags": []
   },
   "source": [
    "We reshape the data to flatten the image pixels into a set of features or co-variates:"
   ]
  },
  {
   "cell_type": "code",
   "execution_count": 14,
   "id": "5286a4a3",
   "metadata": {
    "execution": {
     "iopub.execute_input": "2022-04-25T20:10:31.074065Z",
     "iopub.status.busy": "2022-04-25T20:10:31.073458Z",
     "iopub.status.idle": "2022-04-25T20:10:31.091401Z",
     "shell.execute_reply": "2022-04-25T20:10:31.090786Z"
    },
    "papermill": {
     "duration": 0.05324,
     "end_time": "2022-04-25T20:10:31.091543",
     "exception": false,
     "start_time": "2022-04-25T20:10:31.038303",
     "status": "completed"
    },
    "tags": []
   },
   "outputs": [
    {
     "data": {
      "text/plain": [
       "((11982, 784), (1984, 784))"
      ]
     },
     "execution_count": 14,
     "metadata": {},
     "output_type": "execute_result"
    }
   ],
   "source": [
    "X_train = X_train.reshape(X_train.shape[0], -1)\n",
    "X_test = X_test.reshape(X_test.shape[0], -1)\n",
    "X_train.shape, X_test.shape"
   ]
  },
  {
   "cell_type": "code",
   "execution_count": 15,
   "id": "73c5f88a",
   "metadata": {
    "execution": {
     "iopub.execute_input": "2022-04-25T20:10:31.160184Z",
     "iopub.status.busy": "2022-04-25T20:10:31.159576Z",
     "iopub.status.idle": "2022-04-25T20:10:31.179487Z",
     "shell.execute_reply": "2022-04-25T20:10:31.179921Z"
    },
    "papermill": {
     "duration": 0.057273,
     "end_time": "2022-04-25T20:10:31.180068",
     "exception": false,
     "start_time": "2022-04-25T20:10:31.122795",
     "status": "completed"
    },
    "tags": []
   },
   "outputs": [],
   "source": [
    "#Impoting functions from 'Kudzu'\n",
    "from kudzu.model import Model\n",
    "from kudzu.train import Learner\n",
    "from kudzu.optim import GD\n",
    "from kudzu.data import Data, Sampler,Dataloader\n",
    "\n",
    "from kudzu.callbacks import AccCallback\n",
    "from kudzu.callbacks import ClfCallback\n",
    "\n",
    "from kudzu.loss import MSE\n",
    "\n",
    "from kudzu.layer import Sigmoid,Relu\n",
    "from kudzu.layer import Affine"
   ]
  },
  {
   "cell_type": "markdown",
   "id": "bc01172a",
   "metadata": {
    "papermill": {
     "duration": 0.030169,
     "end_time": "2022-04-25T20:10:31.240242",
     "exception": false,
     "start_time": "2022-04-25T20:10:31.210073",
     "status": "completed"
    },
    "tags": []
   },
   "source": [
    "### Let us create a `Config` class, to store important parameters. \n",
    "This class essentially plays the role of a dictionary."
   ]
  },
  {
   "cell_type": "code",
   "execution_count": 16,
   "id": "978281aa",
   "metadata": {
    "execution": {
     "iopub.execute_input": "2022-04-25T20:10:31.306174Z",
     "iopub.status.busy": "2022-04-25T20:10:31.305572Z",
     "iopub.status.idle": "2022-04-25T20:10:31.319227Z",
     "shell.execute_reply": "2022-04-25T20:10:31.318682Z"
    },
    "papermill": {
     "duration": 0.04867,
     "end_time": "2022-04-25T20:10:31.319356",
     "exception": false,
     "start_time": "2022-04-25T20:10:31.270686",
     "status": "completed"
    },
    "tags": []
   },
   "outputs": [],
   "source": [
    "class Config:\n",
    "    pass\n",
    "config = Config()\n",
    "config.lr = 0.001\n",
    "config.num_epochs = 250\n",
    "config.bs = 50"
   ]
  },
  {
   "cell_type": "markdown",
   "id": "1385fa59",
   "metadata": {
    "papermill": {
     "duration": 0.030027,
     "end_time": "2022-04-25T20:10:31.379823",
     "exception": false,
     "start_time": "2022-04-25T20:10:31.349796",
     "status": "completed"
    },
    "tags": []
   },
   "source": [
    "### Running Models with the Training data\n",
    "Details about the network layers:\n",
    "- A first affine layer has 784 inputs and does 100 affine transforms. These are followed by a Relu\n",
    "- A second affine layer has 100 inputs from the 100 activations of the past layer, and does 100 affine transforms. These are followed by a Relu\n",
    "- A third affine layer has 100 activations and does 2 affine transformations to create an embedding for visualization. There is no non-linearity here.\n",
    "- A final \"logistic regression\" which has an affine transform from 2 inputs to 1 output, which is squeezed through a sigmoid.\n"
   ]
  },
  {
   "cell_type": "code",
   "execution_count": 17,
   "id": "2b9c66db",
   "metadata": {
    "execution": {
     "iopub.execute_input": "2022-04-25T20:10:31.446711Z",
     "iopub.status.busy": "2022-04-25T20:10:31.446104Z",
     "iopub.status.idle": "2022-04-25T20:10:31.461443Z",
     "shell.execute_reply": "2022-04-25T20:10:31.460967Z"
    },
    "papermill": {
     "duration": 0.051377,
     "end_time": "2022-04-25T20:10:31.461561",
     "exception": false,
     "start_time": "2022-04-25T20:10:31.410184",
     "status": "completed"
    },
    "tags": []
   },
   "outputs": [],
   "source": [
    "data = Data(X_train, y_train.reshape(-1,1))\n",
    "sampler = Sampler(data, config.bs, shuffle=True)\n",
    "\n",
    "dl = Dataloader(data, sampler)\n",
    "\n",
    "opt = GD(config.lr)\n",
    "loss = MSE()"
   ]
  },
  {
   "cell_type": "code",
   "execution_count": 18,
   "id": "b275e4c2",
   "metadata": {
    "execution": {
     "iopub.execute_input": "2022-04-25T20:10:31.525908Z",
     "iopub.status.busy": "2022-04-25T20:10:31.525311Z",
     "iopub.status.idle": "2022-04-25T20:10:31.538893Z",
     "shell.execute_reply": "2022-04-25T20:10:31.538388Z"
    },
    "papermill": {
     "duration": 0.048367,
     "end_time": "2022-04-25T20:10:31.539022",
     "exception": false,
     "start_time": "2022-04-25T20:10:31.490655",
     "status": "completed"
    },
    "tags": []
   },
   "outputs": [],
   "source": [
    "training_data_x = X_train\n",
    "testing_data_x = X_test\n",
    "training_data_y = y_train.reshape(-1,1)\n",
    "testing_data_y = y_test.reshape(-1,1)"
   ]
  },
  {
   "cell_type": "code",
   "execution_count": 19,
   "id": "76951160",
   "metadata": {
    "execution": {
     "iopub.execute_input": "2022-04-25T20:10:31.606384Z",
     "iopub.status.busy": "2022-04-25T20:10:31.605737Z",
     "iopub.status.idle": "2022-04-25T20:10:31.623682Z",
     "shell.execute_reply": "2022-04-25T20:10:31.623161Z"
    },
    "papermill": {
     "duration": 0.055283,
     "end_time": "2022-04-25T20:10:31.623809",
     "exception": false,
     "start_time": "2022-04-25T20:10:31.568526",
     "status": "completed"
    },
    "tags": []
   },
   "outputs": [
    {
     "name": "stdout",
     "output_type": "stream",
     "text": [
      "xavier\n",
      "xavier\n",
      "xavier\n",
      "xavier\n",
      "xavier\n"
     ]
    }
   ],
   "source": [
    "layers = [Affine(\"first\", 784, 100), Relu(\"first\"), Affine(\"second\", 100, 100), Relu(\"second\"), Affine(\"third\", 100, 2), Affine(\"last\", 2, 1), Sigmoid(\"last\")]\n",
    "model_nn = Model(layers)\n",
    "model_lr = Model([Affine(\"logits\", 784, 1), Sigmoid(\"sigmoid\")])"
   ]
  },
  {
   "cell_type": "code",
   "execution_count": 20,
   "id": "6eede77a",
   "metadata": {
    "execution": {
     "iopub.execute_input": "2022-04-25T20:10:31.689002Z",
     "iopub.status.busy": "2022-04-25T20:10:31.687938Z",
     "iopub.status.idle": "2022-04-25T20:10:31.704995Z",
     "shell.execute_reply": "2022-04-25T20:10:31.704493Z"
    },
    "papermill": {
     "duration": 0.050734,
     "end_time": "2022-04-25T20:10:31.705115",
     "exception": false,
     "start_time": "2022-04-25T20:10:31.654381",
     "status": "completed"
    },
    "tags": []
   },
   "outputs": [],
   "source": [
    "nn_learner = Learner(loss, model_nn, opt, config.num_epochs)\n",
    "acc_nn = ClfCallback(nn_learner, config.bs, training_data_x , testing_data_x, training_data_y, testing_data_y)\n",
    "nn_learner.set_callbacks([acc_nn])"
   ]
  },
  {
   "cell_type": "code",
   "execution_count": 21,
   "id": "877b6cc7",
   "metadata": {
    "execution": {
     "iopub.execute_input": "2022-04-25T20:10:31.770368Z",
     "iopub.status.busy": "2022-04-25T20:10:31.769814Z",
     "iopub.status.idle": "2022-04-25T20:10:31.783562Z",
     "shell.execute_reply": "2022-04-25T20:10:31.783109Z"
    },
    "papermill": {
     "duration": 0.048671,
     "end_time": "2022-04-25T20:10:31.783678",
     "exception": false,
     "start_time": "2022-04-25T20:10:31.735007",
     "status": "completed"
    },
    "tags": []
   },
   "outputs": [],
   "source": [
    "lr_learner = Learner(loss, model_lr, opt, config.num_epochs)\n",
    "acc_lr = ClfCallback(lr_learner, config.bs, training_data_x , testing_data_x, training_data_y, testing_data_y)\n",
    "lr_learner.set_callbacks([acc_lr])"
   ]
  },
  {
   "cell_type": "code",
   "execution_count": 22,
   "id": "d9b133c3",
   "metadata": {
    "execution": {
     "iopub.execute_input": "2022-04-25T20:10:31.849439Z",
     "iopub.status.busy": "2022-04-25T20:10:31.848880Z",
     "iopub.status.idle": "2022-04-25T20:11:59.321207Z",
     "shell.execute_reply": "2022-04-25T20:11:59.322059Z"
    },
    "papermill": {
     "duration": 87.508133,
     "end_time": "2022-04-25T20:11:59.322222",
     "exception": false,
     "start_time": "2022-04-25T20:10:31.814089",
     "status": "completed"
    },
    "tags": []
   },
   "outputs": [
    {
     "name": "stdout",
     "output_type": "stream",
     "text": [
      "Epoch 0, Loss 0.2378\n",
      "Training Accuracy: 0.6994, Testing Accuracy: 0.6976\n",
      "\n"
     ]
    },
    {
     "name": "stdout",
     "output_type": "stream",
     "text": [
      "Epoch 10, Loss 0.0869\n",
      "Training Accuracy: 0.9238, Testing Accuracy: 0.9274\n",
      "\n"
     ]
    },
    {
     "name": "stdout",
     "output_type": "stream",
     "text": [
      "Epoch 20, Loss 0.0539\n",
      "Training Accuracy: 0.9434, Testing Accuracy: 0.9486\n",
      "\n"
     ]
    },
    {
     "name": "stdout",
     "output_type": "stream",
     "text": [
      "Epoch 30, Loss 0.0428\n",
      "Training Accuracy: 0.9528, Testing Accuracy: 0.9582\n",
      "\n"
     ]
    },
    {
     "name": "stdout",
     "output_type": "stream",
     "text": [
      "Epoch 40, Loss 0.0371\n",
      "Training Accuracy: 0.9587, Testing Accuracy: 0.9637\n",
      "\n"
     ]
    },
    {
     "name": "stdout",
     "output_type": "stream",
     "text": [
      "Epoch 50, Loss 0.0336\n",
      "Training Accuracy: 0.9625, Testing Accuracy: 0.9657\n",
      "\n"
     ]
    },
    {
     "name": "stdout",
     "output_type": "stream",
     "text": [
      "Epoch 60, Loss 0.0312\n",
      "Training Accuracy: 0.9649, Testing Accuracy: 0.9662\n",
      "\n"
     ]
    },
    {
     "name": "stdout",
     "output_type": "stream",
     "text": [
      "Epoch 70, Loss 0.0294\n",
      "Training Accuracy: 0.9660, Testing Accuracy: 0.9672\n",
      "\n"
     ]
    },
    {
     "name": "stdout",
     "output_type": "stream",
     "text": [
      "Epoch 80, Loss 0.0279\n",
      "Training Accuracy: 0.9678, Testing Accuracy: 0.9688\n",
      "\n"
     ]
    },
    {
     "name": "stdout",
     "output_type": "stream",
     "text": [
      "Epoch 90, Loss 0.0267\n",
      "Training Accuracy: 0.9690, Testing Accuracy: 0.9693\n",
      "\n"
     ]
    },
    {
     "name": "stdout",
     "output_type": "stream",
     "text": [
      "Epoch 100, Loss 0.0258\n",
      "Training Accuracy: 0.9697, Testing Accuracy: 0.9682\n",
      "\n"
     ]
    },
    {
     "name": "stdout",
     "output_type": "stream",
     "text": [
      "Epoch 110, Loss 0.0249\n",
      "Training Accuracy: 0.9709, Testing Accuracy: 0.9693\n",
      "\n"
     ]
    },
    {
     "name": "stdout",
     "output_type": "stream",
     "text": [
      "Epoch 120, Loss 0.0241\n",
      "Training Accuracy: 0.9720, Testing Accuracy: 0.9698\n",
      "\n"
     ]
    },
    {
     "name": "stdout",
     "output_type": "stream",
     "text": [
      "Epoch 130, Loss 0.0235\n",
      "Training Accuracy: 0.9727, Testing Accuracy: 0.9713\n",
      "\n"
     ]
    },
    {
     "name": "stdout",
     "output_type": "stream",
     "text": [
      "Epoch 140, Loss 0.0228\n",
      "Training Accuracy: 0.9736, Testing Accuracy: 0.9718\n",
      "\n"
     ]
    },
    {
     "name": "stdout",
     "output_type": "stream",
     "text": [
      "Epoch 150, Loss 0.0223\n",
      "Training Accuracy: 0.9744, Testing Accuracy: 0.9718\n",
      "\n"
     ]
    },
    {
     "name": "stdout",
     "output_type": "stream",
     "text": [
      "Epoch 160, Loss 0.0217\n",
      "Training Accuracy: 0.9755, Testing Accuracy: 0.9718\n",
      "\n"
     ]
    },
    {
     "name": "stdout",
     "output_type": "stream",
     "text": [
      "Epoch 170, Loss 0.0212\n",
      "Training Accuracy: 0.9759, Testing Accuracy: 0.9728\n",
      "\n"
     ]
    },
    {
     "name": "stdout",
     "output_type": "stream",
     "text": [
      "Epoch 180, Loss 0.0208\n",
      "Training Accuracy: 0.9765, Testing Accuracy: 0.9728\n",
      "\n"
     ]
    },
    {
     "name": "stdout",
     "output_type": "stream",
     "text": [
      "Epoch 190, Loss 0.0203\n",
      "Training Accuracy: 0.9770, Testing Accuracy: 0.9733\n",
      "\n"
     ]
    },
    {
     "name": "stdout",
     "output_type": "stream",
     "text": [
      "Epoch 200, Loss 0.0199\n",
      "Training Accuracy: 0.9774, Testing Accuracy: 0.9738\n",
      "\n"
     ]
    },
    {
     "name": "stdout",
     "output_type": "stream",
     "text": [
      "Epoch 210, Loss 0.0195\n",
      "Training Accuracy: 0.9777, Testing Accuracy: 0.9738\n",
      "\n"
     ]
    },
    {
     "name": "stdout",
     "output_type": "stream",
     "text": [
      "Epoch 220, Loss 0.0191\n",
      "Training Accuracy: 0.9781, Testing Accuracy: 0.9743\n",
      "\n"
     ]
    },
    {
     "name": "stdout",
     "output_type": "stream",
     "text": [
      "Epoch 230, Loss 0.0188\n",
      "Training Accuracy: 0.9787, Testing Accuracy: 0.9743\n",
      "\n"
     ]
    },
    {
     "name": "stdout",
     "output_type": "stream",
     "text": [
      "Epoch 240, Loss 0.0184\n",
      "Training Accuracy: 0.9794, Testing Accuracy: 0.9748\n",
      "\n"
     ]
    },
    {
     "data": {
      "text/plain": [
       "0.005421084211888122"
      ]
     },
     "execution_count": 22,
     "metadata": {},
     "output_type": "execute_result"
    }
   ],
   "source": [
    "nn_learner.train_loop(dl)"
   ]
  },
  {
   "cell_type": "code",
   "execution_count": 23,
   "id": "e0163366",
   "metadata": {
    "execution": {
     "iopub.execute_input": "2022-04-25T20:11:59.412426Z",
     "iopub.status.busy": "2022-04-25T20:11:59.411817Z",
     "iopub.status.idle": "2022-04-25T20:12:15.332819Z",
     "shell.execute_reply": "2022-04-25T20:12:15.333673Z"
    },
    "papermill": {
     "duration": 15.971768,
     "end_time": "2022-04-25T20:12:15.333832",
     "exception": false,
     "start_time": "2022-04-25T20:11:59.362064",
     "status": "completed"
    },
    "tags": []
   },
   "outputs": [
    {
     "name": "stdout",
     "output_type": "stream",
     "text": [
      "Epoch 0, Loss 0.2402\n",
      "Training Accuracy: 0.7137, Testing Accuracy: 0.7339\n",
      "\n"
     ]
    },
    {
     "name": "stdout",
     "output_type": "stream",
     "text": [
      "Epoch 10, Loss 0.1009\n",
      "Training Accuracy: 0.9144, Testing Accuracy: 0.9219\n",
      "\n"
     ]
    },
    {
     "name": "stdout",
     "output_type": "stream",
     "text": [
      "Epoch 20, Loss 0.0778\n",
      "Training Accuracy: 0.9304, Testing Accuracy: 0.9400\n",
      "\n"
     ]
    },
    {
     "name": "stdout",
     "output_type": "stream",
     "text": [
      "Epoch 30, Loss 0.0672\n",
      "Training Accuracy: 0.9379, Testing Accuracy: 0.9466\n",
      "\n"
     ]
    },
    {
     "name": "stdout",
     "output_type": "stream",
     "text": [
      "Epoch 40, Loss 0.0608\n",
      "Training Accuracy: 0.9432, Testing Accuracy: 0.9511\n",
      "\n"
     ]
    },
    {
     "name": "stdout",
     "output_type": "stream",
     "text": [
      "Epoch 50, Loss 0.0564\n",
      "Training Accuracy: 0.9458, Testing Accuracy: 0.9551\n",
      "\n"
     ]
    },
    {
     "name": "stdout",
     "output_type": "stream",
     "text": [
      "Epoch 60, Loss 0.0532\n",
      "Training Accuracy: 0.9483, Testing Accuracy: 0.9587\n",
      "\n"
     ]
    },
    {
     "name": "stdout",
     "output_type": "stream",
     "text": [
      "Epoch 70, Loss 0.0507\n",
      "Training Accuracy: 0.9493, Testing Accuracy: 0.9612\n",
      "\n"
     ]
    },
    {
     "name": "stdout",
     "output_type": "stream",
     "text": [
      "Epoch 80, Loss 0.0487\n",
      "Training Accuracy: 0.9516, Testing Accuracy: 0.9612\n",
      "\n"
     ]
    },
    {
     "name": "stdout",
     "output_type": "stream",
     "text": [
      "Epoch 90, Loss 0.047\n",
      "Training Accuracy: 0.9522, Testing Accuracy: 0.9622\n",
      "\n"
     ]
    },
    {
     "name": "stdout",
     "output_type": "stream",
     "text": [
      "Epoch 100, Loss 0.0457\n",
      "Training Accuracy: 0.9533, Testing Accuracy: 0.9632\n",
      "\n"
     ]
    },
    {
     "name": "stdout",
     "output_type": "stream",
     "text": [
      "Epoch 110, Loss 0.0445\n",
      "Training Accuracy: 0.9544, Testing Accuracy: 0.9647\n",
      "\n"
     ]
    },
    {
     "name": "stdout",
     "output_type": "stream",
     "text": [
      "Epoch 120, Loss 0.0434\n",
      "Training Accuracy: 0.9551, Testing Accuracy: 0.9647\n",
      "\n"
     ]
    },
    {
     "name": "stdout",
     "output_type": "stream",
     "text": [
      "Epoch 130, Loss 0.0425\n",
      "Training Accuracy: 0.9559, Testing Accuracy: 0.9652\n",
      "\n"
     ]
    },
    {
     "name": "stdout",
     "output_type": "stream",
     "text": [
      "Epoch 140, Loss 0.0417\n",
      "Training Accuracy: 0.9565, Testing Accuracy: 0.9647\n",
      "\n"
     ]
    },
    {
     "name": "stdout",
     "output_type": "stream",
     "text": [
      "Epoch 150, Loss 0.041\n",
      "Training Accuracy: 0.9570, Testing Accuracy: 0.9642\n",
      "\n"
     ]
    },
    {
     "name": "stdout",
     "output_type": "stream",
     "text": [
      "Epoch 160, Loss 0.0403\n",
      "Training Accuracy: 0.9579, Testing Accuracy: 0.9652\n",
      "\n"
     ]
    },
    {
     "name": "stdout",
     "output_type": "stream",
     "text": [
      "Epoch 170, Loss 0.0397\n",
      "Training Accuracy: 0.9589, Testing Accuracy: 0.9652\n",
      "\n"
     ]
    },
    {
     "name": "stdout",
     "output_type": "stream",
     "text": [
      "Epoch 180, Loss 0.0392\n",
      "Training Accuracy: 0.9594, Testing Accuracy: 0.9657\n",
      "\n"
     ]
    },
    {
     "name": "stdout",
     "output_type": "stream",
     "text": [
      "Epoch 190, Loss 0.0387\n",
      "Training Accuracy: 0.9599, Testing Accuracy: 0.9662\n",
      "\n"
     ]
    },
    {
     "name": "stdout",
     "output_type": "stream",
     "text": [
      "Epoch 200, Loss 0.0382\n",
      "Training Accuracy: 0.9604, Testing Accuracy: 0.9662\n",
      "\n"
     ]
    },
    {
     "name": "stdout",
     "output_type": "stream",
     "text": [
      "Epoch 210, Loss 0.0378\n",
      "Training Accuracy: 0.9609, Testing Accuracy: 0.9662\n",
      "\n"
     ]
    },
    {
     "name": "stdout",
     "output_type": "stream",
     "text": [
      "Epoch 220, Loss 0.0374\n",
      "Training Accuracy: 0.9611, Testing Accuracy: 0.9662\n",
      "\n"
     ]
    },
    {
     "name": "stdout",
     "output_type": "stream",
     "text": [
      "Epoch 230, Loss 0.037\n",
      "Training Accuracy: 0.9614, Testing Accuracy: 0.9662\n",
      "\n"
     ]
    },
    {
     "name": "stdout",
     "output_type": "stream",
     "text": [
      "Epoch 240, Loss 0.0366\n",
      "Training Accuracy: 0.9619, Testing Accuracy: 0.9662\n",
      "\n"
     ]
    },
    {
     "data": {
      "text/plain": [
       "0.011617309111031447"
      ]
     },
     "execution_count": 23,
     "metadata": {},
     "output_type": "execute_result"
    }
   ],
   "source": [
    "lr_learner.train_loop(dl)"
   ]
  },
  {
   "cell_type": "code",
   "execution_count": 24,
   "id": "ca410940",
   "metadata": {
    "execution": {
     "iopub.execute_input": "2022-04-25T20:12:15.436882Z",
     "iopub.status.busy": "2022-04-25T20:12:15.436288Z",
     "iopub.status.idle": "2022-04-25T20:12:15.702284Z",
     "shell.execute_reply": "2022-04-25T20:12:15.701424Z"
    },
    "papermill": {
     "duration": 0.321066,
     "end_time": "2022-04-25T20:12:15.702500",
     "exception": false,
     "start_time": "2022-04-25T20:12:15.381434",
     "status": "completed"
    },
    "tags": []
   },
   "outputs": [
    {
     "data": {
      "text/plain": [
       "<matplotlib.legend.Legend at 0x7f3516fbfb00>"
      ]
     },
     "execution_count": 24,
     "metadata": {},
     "output_type": "execute_result"
    },
    {
     "data": {
      "image/png": "[encoded data removed]",
      "text/plain": [
       "<Figure size 1080x720 with 1 Axes>"
      ]
     },
     "metadata": {
      "needs_background": "light"
     },
     "output_type": "display_data"
    }
   ],
   "source": [
    "#comparing the results of NN and LR\n",
    "plt.figure(figsize=(15,10))\n",
    "\n",
    "# Neural Network plots\n",
    "plt.plot(acc_nn.accuracies, 'r-', label = \"Training Accuracies - NN\")\n",
    "plt.plot(acc_nn.test_accuracies, 'g-', label = \"Testing Accuracies - NN\")\n",
    "\n",
    "# Logistic Regression plots\n",
    "plt.plot(acc_lr.accuracies, 'k-', label = \"Training Accuracies - LR\")\n",
    "plt.plot(acc_lr.test_accuracies, 'b-', label = \"Testing Accuracies - LR\")\n",
    "plt.legend()"
   ]
  },
  {
   "cell_type": "markdown",
   "id": "80dfb35c",
   "metadata": {
    "papermill": {
     "duration": 0.047565,
     "end_time": "2022-04-25T20:12:15.801314",
     "exception": false,
     "start_time": "2022-04-25T20:12:15.753749",
     "status": "completed"
    },
    "tags": []
   },
   "source": [
    "#### Plotting the outputs of this layer of the NN.\n"
   ]
  },
  {
   "cell_type": "code",
   "execution_count": 25,
   "id": "45eb2ff5",
   "metadata": {
    "execution": {
     "iopub.execute_input": "2022-04-25T20:12:15.911622Z",
     "iopub.status.busy": "2022-04-25T20:12:15.910986Z",
     "iopub.status.idle": "2022-04-25T20:12:15.931082Z",
     "shell.execute_reply": "2022-04-25T20:12:15.931594Z"
    },
    "papermill": {
     "duration": 0.073334,
     "end_time": "2022-04-25T20:12:15.931744",
     "exception": false,
     "start_time": "2022-04-25T20:12:15.858410",
     "status": "completed"
    },
    "tags": []
   },
   "outputs": [],
   "source": [
    "new_model = Model(layers[:-2])\n",
    "testing_plot = new_model(testing_data_x)"
   ]
  },
  {
   "cell_type": "code",
   "execution_count": 26,
   "id": "4c0a5485",
   "metadata": {
    "execution": {
     "iopub.execute_input": "2022-04-25T20:12:16.032365Z",
     "iopub.status.busy": "2022-04-25T20:12:16.031714Z",
     "iopub.status.idle": "2022-04-25T20:12:16.249474Z",
     "shell.execute_reply": "2022-04-25T20:12:16.249904Z"
    },
    "papermill": {
     "duration": 0.271286,
     "end_time": "2022-04-25T20:12:16.250052",
     "exception": false,
     "start_time": "2022-04-25T20:12:15.978766",
     "status": "completed"
    },
    "tags": []
   },
   "outputs": [
    {
     "data": {
      "text/plain": [
       "Text(0.5, 1.0, 'Outputs')"
      ]
     },
     "execution_count": 26,
     "metadata": {},
     "output_type": "execute_result"
    },
    {
     "data": {
      "image/png": "[encoded data removed]",
      "text/plain": [
       "<Figure size 576x504 with 1 Axes>"
      ]
     },
     "metadata": {
      "needs_background": "light"
     },
     "output_type": "display_data"
    }
   ],
   "source": [
    "# Plotting the scatter plot of points and color coding by class\n",
    "plt.figure(figsize=(8,7))\n",
    "plt.scatter(testing_plot[:,0], testing_plot[:,1], alpha = 0.1, c = y_test.ravel());\n",
    "plt.title('Outputs')"
   ]
  },
  {
   "cell_type": "markdown",
   "id": "a74fcf8f",
   "metadata": {
    "papermill": {
     "duration": 0.047763,
     "end_time": "2022-04-25T20:12:16.347341",
     "exception": false,
     "start_time": "2022-04-25T20:12:16.299578",
     "status": "completed"
    },
    "tags": []
   },
   "source": [
    "Probability contours"
   ]
  },
  {
   "cell_type": "code",
   "execution_count": 27,
   "id": "d0afc8e3",
   "metadata": {
    "execution": {
     "iopub.execute_input": "2022-04-25T20:12:16.476187Z",
     "iopub.status.busy": "2022-04-25T20:12:16.475150Z",
     "iopub.status.idle": "2022-04-25T20:12:16.489251Z",
     "shell.execute_reply": "2022-04-25T20:12:16.489749Z"
    },
    "papermill": {
     "duration": 0.095159,
     "end_time": "2022-04-25T20:12:16.489884",
     "exception": false,
     "start_time": "2022-04-25T20:12:16.394725",
     "status": "completed"
    },
    "tags": []
   },
   "outputs": [],
   "source": [
    "model_prob = Model(layers[-2:]) "
   ]
  },
  {
   "cell_type": "code",
   "execution_count": 28,
   "id": "9b96e238",
   "metadata": {
    "execution": {
     "iopub.execute_input": "2022-04-25T20:12:16.594641Z",
     "iopub.status.busy": "2022-04-25T20:12:16.594048Z",
     "iopub.status.idle": "2022-04-25T20:12:16.608741Z",
     "shell.execute_reply": "2022-04-25T20:12:16.609220Z"
    },
    "papermill": {
     "duration": 0.071428,
     "end_time": "2022-04-25T20:12:16.609364",
     "exception": false,
     "start_time": "2022-04-25T20:12:16.537936",
     "status": "completed"
    },
    "tags": []
   },
   "outputs": [],
   "source": [
    "#creating the x and y ranges according to the above generated plot.\n",
    "x_range = np.linspace(-4, 1, 100) \n",
    "y_range = np.linspace(-6, 6, 100) \n",
    "x_grid, y_grid = np.meshgrid(x_range, y_range) # x_grid and y_grig are of size 100 X 100\n",
    "\n",
    "# converting x_grid and y_grid to continuous arrays\n",
    "x_gridflat = np.ravel(x_grid)\n",
    "y_gridflat = np.ravel(y_grid)\n",
    "\n",
    "# The last layer of the current model takes two columns as input. Hence transpose of np.vstack() is required.\n",
    "X = np.vstack((x_gridflat, y_gridflat)).T\n",
    "\n",
    "prob_contour = model_prob(X).reshape(100,100) "
   ]
  },
  {
   "cell_type": "code",
   "execution_count": 29,
   "id": "da72499a",
   "metadata": {
    "execution": {
     "iopub.execute_input": "2022-04-25T20:12:16.720420Z",
     "iopub.status.busy": "2022-04-25T20:12:16.719821Z",
     "iopub.status.idle": "2022-04-25T20:12:16.994315Z",
     "shell.execute_reply": "2022-04-25T20:12:16.994795Z"
    },
    "papermill": {
     "duration": 0.335932,
     "end_time": "2022-04-25T20:12:16.994976",
     "exception": false,
     "start_time": "2022-04-25T20:12:16.659044",
     "status": "completed"
    },
    "tags": []
   },
   "outputs": [
    {
     "data": {
      "image/png": "[encoded data removed]",
      "text/plain": [
       "<Figure size 720x648 with 1 Axes>"
      ]
     },
     "metadata": {
      "needs_background": "light"
     },
     "output_type": "display_data"
    }
   ],
   "source": [
    "plt.figure(figsize=(10,9))\n",
    "plt.scatter(testing_plot[:,0], testing_plot[:,1], alpha = 0.1, c = y_test.ravel())\n",
    "contours = plt.contour(x_grid,y_grid,prob_contour)\n",
    "plt.title('Probability Contours')\n",
    "plt.clabel(contours, inline = True );"
   ]
  },
  {
   "cell_type": "code",
   "execution_count": null,
   "id": "e81b4ac7",
   "metadata": {
    "papermill": {
     "duration": 0.051149,
     "end_time": "2022-04-25T20:12:17.097191",
     "exception": false,
     "start_time": "2022-04-25T20:12:17.046042",
     "status": "completed"
    },
    "tags": []
   },
   "outputs": [],
   "source": []
  }
 ],
 "metadata": {
  "kernelspec": {
   "display_name": "Python 3",
   "language": "python",
   "name": "python3"
  },
  "language_info": {
   "codemirror_mode": {
    "name": "ipython",
    "version": 3
   },
   "file_extension": ".py",
   "mimetype": "text/x-python",
   "name": "python",
   "nbconvert_exporter": "python",
   "pygments_lexer": "ipython3",
   "version": "3.6.15"
  },
  "papermill": {
   "default_parameters": {},
   "duration": 113.633211,
   "end_time": "2022-04-25T20:12:17.569327",
   "environment_variables": {},
   "exception": null,
   "input_path": "2020-08-11-part2.ipynb",
   "output_path": "2020-08-11-part2.ipynb",
   "parameters": {},
   "start_time": "2022-04-25T20:10:23.936116",
   "version": "2.3.3"
  }
 },
 "nbformat": 4,
 "nbformat_minor": 5
}