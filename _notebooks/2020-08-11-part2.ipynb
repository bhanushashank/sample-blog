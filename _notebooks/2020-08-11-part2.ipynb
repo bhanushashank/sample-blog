{
 "cells": [
  {
   "cell_type": "markdown",
   "id": "98380cd3",
   "metadata": {
    "papermill": {
     "duration": 0.029239,
     "end_time": "2022-01-09T10:08:19.506215",
     "exception": false,
     "start_time": "2022-01-09T10:08:19.476976",
     "status": "completed"
    },
    "tags": []
   },
   "source": [
    "# Distinguish Your Own Digits (DYOD)"
   ]
  },
  {
   "cell_type": "markdown",
   "id": "ef31240d",
   "metadata": {
    "papermill": {
     "duration": 0.023971,
     "end_time": "2022-01-09T10:08:19.554802",
     "exception": false,
     "start_time": "2022-01-09T10:08:19.530831",
     "status": "completed"
    },
    "tags": []
   },
   "source": [
    "You are going to write a classifier that distinguishes between the number 3 and number 8."
   ]
  },
  {
   "cell_type": "code",
   "execution_count": 1,
   "id": "b15c8646",
   "metadata": {
    "execution": {
     "iopub.execute_input": "2022-01-09T10:08:19.614645Z",
     "iopub.status.busy": "2022-01-09T10:08:19.614105Z",
     "iopub.status.idle": "2022-01-09T10:08:19.624056Z",
     "shell.execute_reply": "2022-01-09T10:08:19.623613Z"
    },
    "papermill": {
     "duration": 0.045397,
     "end_time": "2022-01-09T10:08:19.624192",
     "exception": false,
     "start_time": "2022-01-09T10:08:19.578795",
     "status": "completed"
    },
    "tags": []
   },
   "outputs": [],
   "source": [
    "%load_ext autoreload\n",
    "%autoreload 2"
   ]
  },
  {
   "cell_type": "code",
   "execution_count": 2,
   "id": "22ef38dc",
   "metadata": {
    "execution": {
     "iopub.execute_input": "2022-01-09T10:08:19.676696Z",
     "iopub.status.busy": "2022-01-09T10:08:19.676140Z",
     "iopub.status.idle": "2022-01-09T10:08:20.249395Z",
     "shell.execute_reply": "2022-01-09T10:08:20.249871Z"
    },
    "papermill": {
     "duration": 0.601513,
     "end_time": "2022-01-09T10:08:20.250031",
     "exception": false,
     "start_time": "2022-01-09T10:08:19.648518",
     "status": "completed"
    },
    "tags": []
   },
   "outputs": [],
   "source": [
    "%matplotlib inline\n",
    "import numpy as np\n",
    "import matplotlib.pyplot as plt\n",
    "import pandas as pd"
   ]
  },
  {
   "cell_type": "markdown",
   "id": "ba036198",
   "metadata": {
    "papermill": {
     "duration": 0.02421,
     "end_time": "2022-01-09T10:08:20.299893",
     "exception": false,
     "start_time": "2022-01-09T10:08:20.275683",
     "status": "completed"
    },
    "tags": []
   },
   "source": [
    "From the command line run `pip install mnist`. This is a library that will help you bring down the mnist dataset. If you run this from a notebook, you need to put  `!pip install mnist` in a cell by itself."
   ]
  },
  {
   "cell_type": "code",
   "execution_count": 3,
   "id": "bb6ad8a1",
   "metadata": {
    "execution": {
     "iopub.execute_input": "2022-01-09T10:08:20.352194Z",
     "iopub.status.busy": "2022-01-09T10:08:20.351688Z",
     "iopub.status.idle": "2022-01-09T10:08:22.104728Z",
     "shell.execute_reply": "2022-01-09T10:08:22.103921Z"
    },
    "papermill": {
     "duration": 1.780718,
     "end_time": "2022-01-09T10:08:22.104848",
     "exception": false,
     "start_time": "2022-01-09T10:08:20.324130",
     "status": "completed"
    },
    "tags": []
   },
   "outputs": [
    {
     "name": "stdout",
     "output_type": "stream",
     "text": [
      "Collecting mnist\r\n"
     ]
    },
    {
     "name": "stdout",
     "output_type": "stream",
     "text": [
      "  Downloading mnist-0.2.2-py2.py3-none-any.whl (3.5 kB)\r\n",
      "Requirement already satisfied: numpy in /opt/hostedtoolcache/Python/3.6.15/x64/lib/python3.6/site-packages (from mnist) (1.19.5)\r\n"
     ]
    },
    {
     "name": "stdout",
     "output_type": "stream",
     "text": [
      "Installing collected packages: mnist\r\n"
     ]
    },
    {
     "name": "stdout",
     "output_type": "stream",
     "text": [
      "Successfully installed mnist-0.2.2\r\n"
     ]
    }
   ],
   "source": [
    "!pip install mnist"
   ]
  },
  {
   "cell_type": "markdown",
   "id": "69df9c9a",
   "metadata": {
    "papermill": {
     "duration": 0.025092,
     "end_time": "2022-01-09T10:08:22.155369",
     "exception": false,
     "start_time": "2022-01-09T10:08:22.130277",
     "status": "completed"
    },
    "tags": []
   },
   "source": [
    "## Preparing the Data"
   ]
  },
  {
   "cell_type": "code",
   "execution_count": 4,
   "id": "7f69d806",
   "metadata": {
    "execution": {
     "iopub.execute_input": "2022-01-09T10:08:22.209774Z",
     "iopub.status.busy": "2022-01-09T10:08:22.209251Z",
     "iopub.status.idle": "2022-01-09T10:08:22.223794Z",
     "shell.execute_reply": "2022-01-09T10:08:22.223386Z"
    },
    "papermill": {
     "duration": 0.043489,
     "end_time": "2022-01-09T10:08:22.223906",
     "exception": false,
     "start_time": "2022-01-09T10:08:22.180417",
     "status": "completed"
    },
    "tags": []
   },
   "outputs": [],
   "source": [
    "import mnist"
   ]
  },
  {
   "cell_type": "code",
   "execution_count": 5,
   "id": "a411e44f",
   "metadata": {
    "execution": {
     "iopub.execute_input": "2022-01-09T10:08:22.277314Z",
     "iopub.status.busy": "2022-01-09T10:08:22.276816Z",
     "iopub.status.idle": "2022-01-09T10:08:22.865586Z",
     "shell.execute_reply": "2022-01-09T10:08:22.865075Z"
    },
    "papermill": {
     "duration": 0.616684,
     "end_time": "2022-01-09T10:08:22.865719",
     "exception": false,
     "start_time": "2022-01-09T10:08:22.249035",
     "status": "completed"
    },
    "tags": []
   },
   "outputs": [],
   "source": [
    "train_images = mnist.train_images()\n",
    "train_labels = mnist.train_labels()"
   ]
  },
  {
   "cell_type": "code",
   "execution_count": 6,
   "id": "dceab3a5",
   "metadata": {
    "execution": {
     "iopub.execute_input": "2022-01-09T10:08:22.923565Z",
     "iopub.status.busy": "2022-01-09T10:08:22.923050Z",
     "iopub.status.idle": "2022-01-09T10:08:22.935663Z",
     "shell.execute_reply": "2022-01-09T10:08:22.935223Z"
    },
    "papermill": {
     "duration": 0.044715,
     "end_time": "2022-01-09T10:08:22.935777",
     "exception": false,
     "start_time": "2022-01-09T10:08:22.891062",
     "status": "completed"
    },
    "tags": []
   },
   "outputs": [
    {
     "data": {
      "text/plain": [
       "((60000, 28, 28), (60000,))"
      ]
     },
     "execution_count": 6,
     "metadata": {},
     "output_type": "execute_result"
    }
   ],
   "source": [
    "train_images.shape, train_labels.shape"
   ]
  },
  {
   "cell_type": "code",
   "execution_count": 7,
   "id": "f50dc2bb",
   "metadata": {
    "execution": {
     "iopub.execute_input": "2022-01-09T10:08:22.990098Z",
     "iopub.status.busy": "2022-01-09T10:08:22.989599Z",
     "iopub.status.idle": "2022-01-09T10:08:23.227196Z",
     "shell.execute_reply": "2022-01-09T10:08:23.226098Z"
    },
    "papermill": {
     "duration": 0.266251,
     "end_time": "2022-01-09T10:08:23.227334",
     "exception": false,
     "start_time": "2022-01-09T10:08:22.961083",
     "status": "completed"
    },
    "tags": []
   },
   "outputs": [],
   "source": [
    "test_images = mnist.test_images()\n",
    "test_labels = mnist.test_labels()"
   ]
  },
  {
   "cell_type": "code",
   "execution_count": 8,
   "id": "fc38cf1b",
   "metadata": {
    "execution": {
     "iopub.execute_input": "2022-01-09T10:08:23.285423Z",
     "iopub.status.busy": "2022-01-09T10:08:23.281846Z",
     "iopub.status.idle": "2022-01-09T10:08:23.294380Z",
     "shell.execute_reply": "2022-01-09T10:08:23.293973Z"
    },
    "papermill": {
     "duration": 0.041245,
     "end_time": "2022-01-09T10:08:23.294491",
     "exception": false,
     "start_time": "2022-01-09T10:08:23.253246",
     "status": "completed"
    },
    "tags": []
   },
   "outputs": [
    {
     "data": {
      "text/plain": [
       "((10000, 28, 28), (10000,))"
      ]
     },
     "execution_count": 8,
     "metadata": {},
     "output_type": "execute_result"
    }
   ],
   "source": [
    "test_images.shape, test_labels.shape"
   ]
  },
  {
   "cell_type": "code",
   "execution_count": 9,
   "id": "f9ed8fe0",
   "metadata": {
    "execution": {
     "iopub.execute_input": "2022-01-09T10:08:23.349303Z",
     "iopub.status.busy": "2022-01-09T10:08:23.348798Z",
     "iopub.status.idle": "2022-01-09T10:08:23.483865Z",
     "shell.execute_reply": "2022-01-09T10:08:23.484309Z"
    },
    "papermill": {
     "duration": 0.164504,
     "end_time": "2022-01-09T10:08:23.484447",
     "exception": false,
     "start_time": "2022-01-09T10:08:23.319943",
     "status": "completed"
    },
    "tags": []
   },
   "outputs": [
    {
     "name": "stdout",
     "output_type": "stream",
     "text": [
      "2\n"
     ]
    },
    {
     "data": {
      "text/plain": [
       "<matplotlib.image.AxesImage at 0x7fd0a64d73c8>"
      ]
     },
     "execution_count": 9,
     "metadata": {},
     "output_type": "execute_result"
    },
    {
     "data": {
      "image/png": "[encoded data removed]",
      "text/plain": [
       "<Figure size 432x288 with 1 Axes>"
      ]
     },
     "metadata": {
      "needs_background": "light"
     },
     "output_type": "display_data"
    }
   ],
   "source": [
    "image_index = 7776 # You may select anything up to 60,000\n",
    "print(train_labels[image_index]) \n",
    "plt.imshow(train_images[image_index], cmap='Greys')"
   ]
  },
  {
   "cell_type": "markdown",
   "id": "a8d2388d",
   "metadata": {
    "papermill": {
     "duration": 0.026494,
     "end_time": "2022-01-09T10:08:23.537509",
     "exception": false,
     "start_time": "2022-01-09T10:08:23.511015",
     "status": "completed"
    },
    "tags": []
   },
   "source": [
    "## Filter data to get 3 and 8 out"
   ]
  },
  {
   "cell_type": "code",
   "execution_count": 10,
   "id": "776f7fc7",
   "metadata": {
    "execution": {
     "iopub.execute_input": "2022-01-09T10:08:23.596346Z",
     "iopub.status.busy": "2022-01-09T10:08:23.595801Z",
     "iopub.status.idle": "2022-01-09T10:08:23.612138Z",
     "shell.execute_reply": "2022-01-09T10:08:23.612577Z"
    },
    "papermill": {
     "duration": 0.048856,
     "end_time": "2022-01-09T10:08:23.612711",
     "exception": false,
     "start_time": "2022-01-09T10:08:23.563855",
     "status": "completed"
    },
    "tags": []
   },
   "outputs": [],
   "source": [
    "train_filter = np.where((train_labels == 3 ) | (train_labels == 8))\n",
    "test_filter = np.where((test_labels == 3) | (test_labels == 8))\n",
    "X_train, y_train = train_images[train_filter], train_labels[train_filter]\n",
    "X_test, y_test = test_images[test_filter], test_labels[test_filter]"
   ]
  },
  {
   "cell_type": "markdown",
   "id": "948f0b7e",
   "metadata": {
    "papermill": {
     "duration": 0.026421,
     "end_time": "2022-01-09T10:08:23.665828",
     "exception": false,
     "start_time": "2022-01-09T10:08:23.639407",
     "status": "completed"
    },
    "tags": []
   },
   "source": [
    "We normalize the pizel values in the 0 to 1 range"
   ]
  },
  {
   "cell_type": "code",
   "execution_count": 11,
   "id": "ee4c2166",
   "metadata": {
    "execution": {
     "iopub.execute_input": "2022-01-09T10:08:23.721979Z",
     "iopub.status.busy": "2022-01-09T10:08:23.721465Z",
     "iopub.status.idle": "2022-01-09T10:08:23.768097Z",
     "shell.execute_reply": "2022-01-09T10:08:23.768550Z"
    },
    "papermill": {
     "duration": 0.076577,
     "end_time": "2022-01-09T10:08:23.768701",
     "exception": false,
     "start_time": "2022-01-09T10:08:23.692124",
     "status": "completed"
    },
    "tags": []
   },
   "outputs": [],
   "source": [
    "X_train = X_train/255.\n",
    "X_test = X_test/255."
   ]
  },
  {
   "cell_type": "markdown",
   "id": "ddcf4fab",
   "metadata": {
    "papermill": {
     "duration": 0.026414,
     "end_time": "2022-01-09T10:08:23.822385",
     "exception": false,
     "start_time": "2022-01-09T10:08:23.795971",
     "status": "completed"
    },
    "tags": []
   },
   "source": [
    "And setup the labels as 1 (when the digit is 3) and 0 (when the digit is 8)"
   ]
  },
  {
   "cell_type": "code",
   "execution_count": 12,
   "id": "7dc908f2",
   "metadata": {
    "execution": {
     "iopub.execute_input": "2022-01-09T10:08:23.879810Z",
     "iopub.status.busy": "2022-01-09T10:08:23.879295Z",
     "iopub.status.idle": "2022-01-09T10:08:23.891015Z",
     "shell.execute_reply": "2022-01-09T10:08:23.890604Z"
    },
    "papermill": {
     "duration": 0.041316,
     "end_time": "2022-01-09T10:08:23.891124",
     "exception": false,
     "start_time": "2022-01-09T10:08:23.849808",
     "status": "completed"
    },
    "tags": []
   },
   "outputs": [],
   "source": [
    "y_train = 1*(y_train==3)\n",
    "y_test = 1*(y_test==3)"
   ]
  },
  {
   "cell_type": "code",
   "execution_count": 13,
   "id": "01e4e969",
   "metadata": {
    "execution": {
     "iopub.execute_input": "2022-01-09T10:08:23.951672Z",
     "iopub.status.busy": "2022-01-09T10:08:23.951159Z",
     "iopub.status.idle": "2022-01-09T10:08:23.961700Z",
     "shell.execute_reply": "2022-01-09T10:08:23.961271Z"
    },
    "papermill": {
     "duration": 0.043688,
     "end_time": "2022-01-09T10:08:23.961805",
     "exception": false,
     "start_time": "2022-01-09T10:08:23.918117",
     "status": "completed"
    },
    "tags": []
   },
   "outputs": [
    {
     "data": {
      "text/plain": [
       "((11982, 28, 28), (1984, 28, 28))"
      ]
     },
     "execution_count": 13,
     "metadata": {},
     "output_type": "execute_result"
    }
   ],
   "source": [
    "X_train.shape, X_test.shape"
   ]
  },
  {
   "cell_type": "markdown",
   "id": "5ccf3f85",
   "metadata": {
    "papermill": {
     "duration": 0.026635,
     "end_time": "2022-01-09T10:08:24.015105",
     "exception": false,
     "start_time": "2022-01-09T10:08:23.988470",
     "status": "completed"
    },
    "tags": []
   },
   "source": [
    "We reshape the data to flatten the image pixels into a set of features or co-variates:"
   ]
  },
  {
   "cell_type": "code",
   "execution_count": 14,
   "id": "5286a4a3",
   "metadata": {
    "execution": {
     "iopub.execute_input": "2022-01-09T10:08:24.088297Z",
     "iopub.status.busy": "2022-01-09T10:08:24.078883Z",
     "iopub.status.idle": "2022-01-09T10:08:24.092329Z",
     "shell.execute_reply": "2022-01-09T10:08:24.091886Z"
    },
    "papermill": {
     "duration": 0.050314,
     "end_time": "2022-01-09T10:08:24.092452",
     "exception": false,
     "start_time": "2022-01-09T10:08:24.042138",
     "status": "completed"
    },
    "tags": []
   },
   "outputs": [
    {
     "data": {
      "text/plain": [
       "((11982, 784), (1984, 784))"
      ]
     },
     "execution_count": 14,
     "metadata": {},
     "output_type": "execute_result"
    }
   ],
   "source": [
    "X_train = X_train.reshape(X_train.shape[0], -1)\n",
    "X_test = X_test.reshape(X_test.shape[0], -1)\n",
    "X_train.shape, X_test.shape"
   ]
  },
  {
   "cell_type": "code",
   "execution_count": 15,
   "id": "73c5f88a",
   "metadata": {
    "execution": {
     "iopub.execute_input": "2022-01-09T10:08:24.155421Z",
     "iopub.status.busy": "2022-01-09T10:08:24.154856Z",
     "iopub.status.idle": "2022-01-09T10:08:24.171207Z",
     "shell.execute_reply": "2022-01-09T10:08:24.171610Z"
    },
    "papermill": {
     "duration": 0.052161,
     "end_time": "2022-01-09T10:08:24.171754",
     "exception": false,
     "start_time": "2022-01-09T10:08:24.119593",
     "status": "completed"
    },
    "tags": []
   },
   "outputs": [],
   "source": [
    "#Impoting functions from 'Kudzu'\n",
    "from kudzu.model import Model\n",
    "from kudzu.train import Learner\n",
    "from kudzu.optim import GD\n",
    "from kudzu.data import Data, Sampler,Dataloader\n",
    "\n",
    "from kudzu.callbacks import AccCallback\n",
    "from kudzu.callbacks import ClfCallback\n",
    "\n",
    "from kudzu.loss import MSE\n",
    "\n",
    "from kudzu.layer import Sigmoid,Relu\n",
    "from kudzu.layer import Affine"
   ]
  },
  {
   "cell_type": "markdown",
   "id": "bc01172a",
   "metadata": {
    "papermill": {
     "duration": 0.02708,
     "end_time": "2022-01-09T10:08:24.226253",
     "exception": false,
     "start_time": "2022-01-09T10:08:24.199173",
     "status": "completed"
    },
    "tags": []
   },
   "source": [
    "### Let us create a `Config` class, to store important parameters. \n",
    "This class essentially plays the role of a dictionary."
   ]
  },
  {
   "cell_type": "code",
   "execution_count": 16,
   "id": "978281aa",
   "metadata": {
    "execution": {
     "iopub.execute_input": "2022-01-09T10:08:24.297901Z",
     "iopub.status.busy": "2022-01-09T10:08:24.297326Z",
     "iopub.status.idle": "2022-01-09T10:08:24.303204Z",
     "shell.execute_reply": "2022-01-09T10:08:24.302772Z"
    },
    "papermill": {
     "duration": 0.049929,
     "end_time": "2022-01-09T10:08:24.303321",
     "exception": false,
     "start_time": "2022-01-09T10:08:24.253392",
     "status": "completed"
    },
    "tags": []
   },
   "outputs": [],
   "source": [
    "class Config:\n",
    "    pass\n",
    "config = Config()\n",
    "config.lr = 0.001\n",
    "config.num_epochs = 250\n",
    "config.bs = 50"
   ]
  },
  {
   "cell_type": "markdown",
   "id": "1385fa59",
   "metadata": {
    "papermill": {
     "duration": 0.027091,
     "end_time": "2022-01-09T10:08:24.357878",
     "exception": false,
     "start_time": "2022-01-09T10:08:24.330787",
     "status": "completed"
    },
    "tags": []
   },
   "source": [
    "### Running Models with the Training data\n",
    "Details about the network layers:\n",
    "- A first affine layer has 784 inputs and does 100 affine transforms. These are followed by a Relu\n",
    "- A second affine layer has 100 inputs from the 100 activations of the past layer, and does 100 affine transforms. These are followed by a Relu\n",
    "- A third affine layer has 100 activations and does 2 affine transformations to create an embedding for visualization. There is no non-linearity here.\n",
    "- A final \"logistic regression\" which has an affine transform from 2 inputs to 1 output, which is squeezed through a sigmoid.\n"
   ]
  },
  {
   "cell_type": "code",
   "execution_count": 17,
   "id": "2b9c66db",
   "metadata": {
    "execution": {
     "iopub.execute_input": "2022-01-09T10:08:24.417923Z",
     "iopub.status.busy": "2022-01-09T10:08:24.417381Z",
     "iopub.status.idle": "2022-01-09T10:08:24.429937Z",
     "shell.execute_reply": "2022-01-09T10:08:24.429480Z"
    },
    "papermill": {
     "duration": 0.04502,
     "end_time": "2022-01-09T10:08:24.430053",
     "exception": false,
     "start_time": "2022-01-09T10:08:24.385033",
     "status": "completed"
    },
    "tags": []
   },
   "outputs": [],
   "source": [
    "data = Data(X_train, y_train.reshape(-1,1))\n",
    "sampler = Sampler(data, config.bs, shuffle=True)\n",
    "\n",
    "dl = Dataloader(data, sampler)\n",
    "\n",
    "opt = GD(config.lr)\n",
    "loss = MSE()"
   ]
  },
  {
   "cell_type": "code",
   "execution_count": 18,
   "id": "b275e4c2",
   "metadata": {
    "execution": {
     "iopub.execute_input": "2022-01-09T10:08:24.501295Z",
     "iopub.status.busy": "2022-01-09T10:08:24.497093Z",
     "iopub.status.idle": "2022-01-09T10:08:24.503618Z",
     "shell.execute_reply": "2022-01-09T10:08:24.503178Z"
    },
    "papermill": {
     "duration": 0.046266,
     "end_time": "2022-01-09T10:08:24.503733",
     "exception": false,
     "start_time": "2022-01-09T10:08:24.457467",
     "status": "completed"
    },
    "tags": []
   },
   "outputs": [],
   "source": [
    "training_data_x = X_train\n",
    "testing_data_x = X_test\n",
    "training_data_y = y_train.reshape(-1,1)\n",
    "testing_data_y = y_test.reshape(-1,1)"
   ]
  },
  {
   "cell_type": "code",
   "execution_count": 19,
   "id": "76951160",
   "metadata": {
    "execution": {
     "iopub.execute_input": "2022-01-09T10:08:24.561146Z",
     "iopub.status.busy": "2022-01-09T10:08:24.560618Z",
     "iopub.status.idle": "2022-01-09T10:08:24.578142Z",
     "shell.execute_reply": "2022-01-09T10:08:24.578571Z"
    },
    "papermill": {
     "duration": 0.04775,
     "end_time": "2022-01-09T10:08:24.578699",
     "exception": false,
     "start_time": "2022-01-09T10:08:24.530949",
     "status": "completed"
    },
    "tags": []
   },
   "outputs": [
    {
     "name": "stdout",
     "output_type": "stream",
     "text": [
      "xavier\n",
      "xavier\n",
      "xavier\n",
      "xavier\n",
      "xavier\n"
     ]
    }
   ],
   "source": [
    "layers = [Affine(\"first\", 784, 100), Relu(\"first\"), Affine(\"second\", 100, 100), Relu(\"second\"), Affine(\"third\", 100, 2), Affine(\"last\", 2, 1), Sigmoid(\"last\")]\n",
    "model_nn = Model(layers)\n",
    "model_lr = Model([Affine(\"logits\", 784, 1), Sigmoid(\"sigmoid\")])"
   ]
  },
  {
   "cell_type": "code",
   "execution_count": 20,
   "id": "6eede77a",
   "metadata": {
    "execution": {
     "iopub.execute_input": "2022-01-09T10:08:24.636724Z",
     "iopub.status.busy": "2022-01-09T10:08:24.636180Z",
     "iopub.status.idle": "2022-01-09T10:08:24.648001Z",
     "shell.execute_reply": "2022-01-09T10:08:24.647575Z"
    },
    "papermill": {
     "duration": 0.042045,
     "end_time": "2022-01-09T10:08:24.648107",
     "exception": false,
     "start_time": "2022-01-09T10:08:24.606062",
     "status": "completed"
    },
    "tags": []
   },
   "outputs": [],
   "source": [
    "nn_learner = Learner(loss, model_nn, opt, config.num_epochs)\n",
    "acc_nn = ClfCallback(nn_learner, config.bs, training_data_x , testing_data_x, training_data_y, testing_data_y)\n",
    "nn_learner.set_callbacks([acc_nn])"
   ]
  },
  {
   "cell_type": "code",
   "execution_count": 21,
   "id": "877b6cc7",
   "metadata": {
    "execution": {
     "iopub.execute_input": "2022-01-09T10:08:24.710917Z",
     "iopub.status.busy": "2022-01-09T10:08:24.710394Z",
     "iopub.status.idle": "2022-01-09T10:08:24.719847Z",
     "shell.execute_reply": "2022-01-09T10:08:24.719411Z"
    },
    "papermill": {
     "duration": 0.044615,
     "end_time": "2022-01-09T10:08:24.719955",
     "exception": false,
     "start_time": "2022-01-09T10:08:24.675340",
     "status": "completed"
    },
    "tags": []
   },
   "outputs": [],
   "source": [
    "lr_learner = Learner(loss, model_lr, opt, config.num_epochs)\n",
    "acc_lr = ClfCallback(lr_learner, config.bs, training_data_x , testing_data_x, training_data_y, testing_data_y)\n",
    "lr_learner.set_callbacks([acc_lr])"
   ]
  },
  {
   "cell_type": "code",
   "execution_count": 22,
   "id": "d9b133c3",
   "metadata": {
    "execution": {
     "iopub.execute_input": "2022-01-09T10:08:24.777980Z",
     "iopub.status.busy": "2022-01-09T10:08:24.777471Z",
     "iopub.status.idle": "2022-01-09T10:09:38.616824Z",
     "shell.execute_reply": "2022-01-09T10:09:38.617573Z"
    },
    "papermill": {
     "duration": 73.870447,
     "end_time": "2022-01-09T10:09:38.617722",
     "exception": false,
     "start_time": "2022-01-09T10:08:24.747275",
     "status": "completed"
    },
    "tags": []
   },
   "outputs": [
    {
     "name": "stdout",
     "output_type": "stream",
     "text": [
      "Epoch 0, Loss 0.2372\n",
      "Training Accuracy: 0.7488, Testing Accuracy: 0.7485\n",
      "\n"
     ]
    },
    {
     "name": "stdout",
     "output_type": "stream",
     "text": [
      "Epoch 10, Loss 0.0641\n",
      "Training Accuracy: 0.9378, Testing Accuracy: 0.9511\n",
      "\n"
     ]
    },
    {
     "name": "stdout",
     "output_type": "stream",
     "text": [
      "Epoch 20, Loss 0.0443\n",
      "Training Accuracy: 0.9536, Testing Accuracy: 0.9642\n",
      "\n"
     ]
    },
    {
     "name": "stdout",
     "output_type": "stream",
     "text": [
      "Epoch 30, Loss 0.0371\n",
      "Training Accuracy: 0.9592, Testing Accuracy: 0.9667\n",
      "\n"
     ]
    },
    {
     "name": "stdout",
     "output_type": "stream",
     "text": [
      "Epoch 40, Loss 0.0332\n",
      "Training Accuracy: 0.9627, Testing Accuracy: 0.9688\n",
      "\n"
     ]
    },
    {
     "name": "stdout",
     "output_type": "stream",
     "text": [
      "Epoch 50, Loss 0.0306\n",
      "Training Accuracy: 0.9653, Testing Accuracy: 0.9713\n",
      "\n"
     ]
    },
    {
     "name": "stdout",
     "output_type": "stream",
     "text": [
      "Epoch 60, Loss 0.0287\n",
      "Training Accuracy: 0.9670, Testing Accuracy: 0.9708\n",
      "\n"
     ]
    },
    {
     "name": "stdout",
     "output_type": "stream",
     "text": [
      "Epoch 70, Loss 0.0272\n",
      "Training Accuracy: 0.9690, Testing Accuracy: 0.9698\n",
      "\n"
     ]
    },
    {
     "name": "stdout",
     "output_type": "stream",
     "text": [
      "Epoch 80, Loss 0.0259\n",
      "Training Accuracy: 0.9705, Testing Accuracy: 0.9703\n",
      "\n"
     ]
    },
    {
     "name": "stdout",
     "output_type": "stream",
     "text": [
      "Epoch 90, Loss 0.0248\n",
      "Training Accuracy: 0.9717, Testing Accuracy: 0.9708\n",
      "\n"
     ]
    },
    {
     "name": "stdout",
     "output_type": "stream",
     "text": [
      "Epoch 100, Loss 0.0238\n",
      "Training Accuracy: 0.9728, Testing Accuracy: 0.9713\n",
      "\n"
     ]
    },
    {
     "name": "stdout",
     "output_type": "stream",
     "text": [
      "Epoch 110, Loss 0.023\n",
      "Training Accuracy: 0.9737, Testing Accuracy: 0.9713\n",
      "\n"
     ]
    },
    {
     "name": "stdout",
     "output_type": "stream",
     "text": [
      "Epoch 120, Loss 0.0222\n",
      "Training Accuracy: 0.9748, Testing Accuracy: 0.9723\n",
      "\n"
     ]
    },
    {
     "name": "stdout",
     "output_type": "stream",
     "text": [
      "Epoch 130, Loss 0.0214\n",
      "Training Accuracy: 0.9759, Testing Accuracy: 0.9728\n",
      "\n"
     ]
    },
    {
     "name": "stdout",
     "output_type": "stream",
     "text": [
      "Epoch 140, Loss 0.0208\n",
      "Training Accuracy: 0.9771, Testing Accuracy: 0.9718\n",
      "\n"
     ]
    },
    {
     "name": "stdout",
     "output_type": "stream",
     "text": [
      "Epoch 150, Loss 0.0201\n",
      "Training Accuracy: 0.9778, Testing Accuracy: 0.9718\n",
      "\n"
     ]
    },
    {
     "name": "stdout",
     "output_type": "stream",
     "text": [
      "Epoch 160, Loss 0.0195\n",
      "Training Accuracy: 0.9782, Testing Accuracy: 0.9728\n",
      "\n"
     ]
    },
    {
     "name": "stdout",
     "output_type": "stream",
     "text": [
      "Epoch 170, Loss 0.019\n",
      "Training Accuracy: 0.9791, Testing Accuracy: 0.9738\n",
      "\n"
     ]
    },
    {
     "name": "stdout",
     "output_type": "stream",
     "text": [
      "Epoch 180, Loss 0.0184\n",
      "Training Accuracy: 0.9795, Testing Accuracy: 0.9748\n",
      "\n"
     ]
    },
    {
     "name": "stdout",
     "output_type": "stream",
     "text": [
      "Epoch 190, Loss 0.0179\n",
      "Training Accuracy: 0.9799, Testing Accuracy: 0.9748\n",
      "\n"
     ]
    },
    {
     "name": "stdout",
     "output_type": "stream",
     "text": [
      "Epoch 200, Loss 0.0174\n",
      "Training Accuracy: 0.9807, Testing Accuracy: 0.9753\n",
      "\n"
     ]
    },
    {
     "name": "stdout",
     "output_type": "stream",
     "text": [
      "Epoch 210, Loss 0.017\n",
      "Training Accuracy: 0.9810, Testing Accuracy: 0.9758\n",
      "\n"
     ]
    },
    {
     "name": "stdout",
     "output_type": "stream",
     "text": [
      "Epoch 220, Loss 0.0165\n",
      "Training Accuracy: 0.9816, Testing Accuracy: 0.9758\n",
      "\n"
     ]
    },
    {
     "name": "stdout",
     "output_type": "stream",
     "text": [
      "Epoch 230, Loss 0.0161\n",
      "Training Accuracy: 0.9821, Testing Accuracy: 0.9768\n",
      "\n"
     ]
    },
    {
     "name": "stdout",
     "output_type": "stream",
     "text": [
      "Epoch 240, Loss 0.0157\n",
      "Training Accuracy: 0.9827, Testing Accuracy: 0.9763\n",
      "\n"
     ]
    },
    {
     "data": {
      "text/plain": [
       "0.029735938119115693"
      ]
     },
     "execution_count": 22,
     "metadata": {},
     "output_type": "execute_result"
    }
   ],
   "source": [
    "nn_learner.train_loop(dl)"
   ]
  },
  {
   "cell_type": "code",
   "execution_count": 23,
   "id": "e0163366",
   "metadata": {
    "execution": {
     "iopub.execute_input": "2022-01-09T10:09:38.699496Z",
     "iopub.status.busy": "2022-01-09T10:09:38.698975Z",
     "iopub.status.idle": "2022-01-09T10:09:51.993987Z",
     "shell.execute_reply": "2022-01-09T10:09:51.994731Z"
    },
    "papermill": {
     "duration": 13.342486,
     "end_time": "2022-01-09T10:09:51.994874",
     "exception": false,
     "start_time": "2022-01-09T10:09:38.652388",
     "status": "completed"
    },
    "tags": []
   },
   "outputs": [
    {
     "name": "stdout",
     "output_type": "stream",
     "text": [
      "Epoch 0, Loss 0.2535\n",
      "Training Accuracy: 0.6389, Testing Accuracy: 0.6260\n",
      "\n"
     ]
    },
    {
     "name": "stdout",
     "output_type": "stream",
     "text": [
      "Epoch 10, Loss 0.1058\n",
      "Training Accuracy: 0.9038, Testing Accuracy: 0.9189\n",
      "\n"
     ]
    },
    {
     "name": "stdout",
     "output_type": "stream",
     "text": [
      "Epoch 20, Loss 0.0804\n",
      "Training Accuracy: 0.9241, Testing Accuracy: 0.9395\n",
      "\n"
     ]
    },
    {
     "name": "stdout",
     "output_type": "stream",
     "text": [
      "Epoch 30, Loss 0.0688\n",
      "Training Accuracy: 0.9348, Testing Accuracy: 0.9451\n",
      "\n"
     ]
    },
    {
     "name": "stdout",
     "output_type": "stream",
     "text": [
      "Epoch 40, Loss 0.0619\n",
      "Training Accuracy: 0.9417, Testing Accuracy: 0.9501\n",
      "\n"
     ]
    },
    {
     "name": "stdout",
     "output_type": "stream",
     "text": [
      "Epoch 50, Loss 0.0573\n",
      "Training Accuracy: 0.9456, Testing Accuracy: 0.9551\n",
      "\n"
     ]
    },
    {
     "name": "stdout",
     "output_type": "stream",
     "text": [
      "Epoch 60, Loss 0.0539\n",
      "Training Accuracy: 0.9476, Testing Accuracy: 0.9572\n",
      "\n"
     ]
    },
    {
     "name": "stdout",
     "output_type": "stream",
     "text": [
      "Epoch 70, Loss 0.0513\n",
      "Training Accuracy: 0.9488, Testing Accuracy: 0.9587\n",
      "\n"
     ]
    },
    {
     "name": "stdout",
     "output_type": "stream",
     "text": [
      "Epoch 80, Loss 0.0492\n",
      "Training Accuracy: 0.9508, Testing Accuracy: 0.9582\n",
      "\n"
     ]
    },
    {
     "name": "stdout",
     "output_type": "stream",
     "text": [
      "Epoch 90, Loss 0.0475\n",
      "Training Accuracy: 0.9518, Testing Accuracy: 0.9597\n",
      "\n"
     ]
    },
    {
     "name": "stdout",
     "output_type": "stream",
     "text": [
      "Epoch 100, Loss 0.0461\n",
      "Training Accuracy: 0.9524, Testing Accuracy: 0.9607\n",
      "\n"
     ]
    },
    {
     "name": "stdout",
     "output_type": "stream",
     "text": [
      "Epoch 110, Loss 0.0449\n",
      "Training Accuracy: 0.9538, Testing Accuracy: 0.9607\n",
      "\n"
     ]
    },
    {
     "name": "stdout",
     "output_type": "stream",
     "text": [
      "Epoch 120, Loss 0.0438\n",
      "Training Accuracy: 0.9545, Testing Accuracy: 0.9617\n",
      "\n"
     ]
    },
    {
     "name": "stdout",
     "output_type": "stream",
     "text": [
      "Epoch 130, Loss 0.0428\n",
      "Training Accuracy: 0.9553, Testing Accuracy: 0.9617\n",
      "\n"
     ]
    },
    {
     "name": "stdout",
     "output_type": "stream",
     "text": [
      "Epoch 140, Loss 0.042\n",
      "Training Accuracy: 0.9559, Testing Accuracy: 0.9627\n",
      "\n"
     ]
    },
    {
     "name": "stdout",
     "output_type": "stream",
     "text": [
      "Epoch 150, Loss 0.0413\n",
      "Training Accuracy: 0.9565, Testing Accuracy: 0.9637\n",
      "\n"
     ]
    },
    {
     "name": "stdout",
     "output_type": "stream",
     "text": [
      "Epoch 160, Loss 0.0406\n",
      "Training Accuracy: 0.9569, Testing Accuracy: 0.9647\n",
      "\n"
     ]
    },
    {
     "name": "stdout",
     "output_type": "stream",
     "text": [
      "Epoch 170, Loss 0.04\n",
      "Training Accuracy: 0.9573, Testing Accuracy: 0.9647\n",
      "\n"
     ]
    },
    {
     "name": "stdout",
     "output_type": "stream",
     "text": [
      "Epoch 180, Loss 0.0394\n",
      "Training Accuracy: 0.9580, Testing Accuracy: 0.9647\n",
      "\n"
     ]
    },
    {
     "name": "stdout",
     "output_type": "stream",
     "text": [
      "Epoch 190, Loss 0.0389\n",
      "Training Accuracy: 0.9583, Testing Accuracy: 0.9637\n",
      "\n"
     ]
    },
    {
     "name": "stdout",
     "output_type": "stream",
     "text": [
      "Epoch 200, Loss 0.0384\n",
      "Training Accuracy: 0.9589, Testing Accuracy: 0.9642\n",
      "\n"
     ]
    },
    {
     "name": "stdout",
     "output_type": "stream",
     "text": [
      "Epoch 210, Loss 0.038\n",
      "Training Accuracy: 0.9594, Testing Accuracy: 0.9642\n",
      "\n"
     ]
    },
    {
     "name": "stdout",
     "output_type": "stream",
     "text": [
      "Epoch 220, Loss 0.0376\n",
      "Training Accuracy: 0.9599, Testing Accuracy: 0.9652\n",
      "\n"
     ]
    },
    {
     "name": "stdout",
     "output_type": "stream",
     "text": [
      "Epoch 230, Loss 0.0372\n",
      "Training Accuracy: 0.9603, Testing Accuracy: 0.9657\n",
      "\n"
     ]
    },
    {
     "name": "stdout",
     "output_type": "stream",
     "text": [
      "Epoch 240, Loss 0.0368\n",
      "Training Accuracy: 0.9608, Testing Accuracy: 0.9657\n",
      "\n"
     ]
    },
    {
     "data": {
      "text/plain": [
       "0.05739916586460417"
      ]
     },
     "execution_count": 23,
     "metadata": {},
     "output_type": "execute_result"
    }
   ],
   "source": [
    "lr_learner.train_loop(dl)"
   ]
  },
  {
   "cell_type": "code",
   "execution_count": 24,
   "id": "ca410940",
   "metadata": {
    "execution": {
     "iopub.execute_input": "2022-01-09T10:09:52.093518Z",
     "iopub.status.busy": "2022-01-09T10:09:52.092976Z",
     "iopub.status.idle": "2022-01-09T10:09:52.323208Z",
     "shell.execute_reply": "2022-01-09T10:09:52.322785Z"
    },
    "papermill": {
     "duration": 0.286225,
     "end_time": "2022-01-09T10:09:52.323325",
     "exception": false,
     "start_time": "2022-01-09T10:09:52.037100",
     "status": "completed"
    },
    "tags": []
   },
   "outputs": [
    {
     "data": {
      "text/plain": [
       "<matplotlib.legend.Legend at 0x7fd0a60b3a90>"
      ]
     },
     "execution_count": 24,
     "metadata": {},
     "output_type": "execute_result"
    },
    {
     "data": {
      "image/png": "[encoded data removed]",
      "text/plain": [
       "<Figure size 1080x720 with 1 Axes>"
      ]
     },
     "metadata": {
      "needs_background": "light"
     },
     "output_type": "display_data"
    }
   ],
   "source": [
    "#comparing the results of NN and LR\n",
    "plt.figure(figsize=(15,10))\n",
    "\n",
    "# Neural Network plots\n",
    "plt.plot(acc_nn.accuracies, 'r-', label = \"Training Accuracies - NN\")\n",
    "plt.plot(acc_nn.test_accuracies, 'g-', label = \"Testing Accuracies - NN\")\n",
    "\n",
    "# Logistic Regression plots\n",
    "plt.plot(acc_lr.accuracies, 'k-', label = \"Training Accuracies - LR\")\n",
    "plt.plot(acc_lr.test_accuracies, 'b-', label = \"Testing Accuracies - LR\")\n",
    "plt.legend()"
   ]
  },
  {
   "cell_type": "markdown",
   "id": "80dfb35c",
   "metadata": {
    "papermill": {
     "duration": 0.042562,
     "end_time": "2022-01-09T10:09:52.408917",
     "exception": false,
     "start_time": "2022-01-09T10:09:52.366355",
     "status": "completed"
    },
    "tags": []
   },
   "source": [
    "#### Plotting the outputs of this layer of the NN.\n"
   ]
  },
  {
   "cell_type": "code",
   "execution_count": 25,
   "id": "45eb2ff5",
   "metadata": {
    "execution": {
     "iopub.execute_input": "2022-01-09T10:09:52.506970Z",
     "iopub.status.busy": "2022-01-09T10:09:52.506424Z",
     "iopub.status.idle": "2022-01-09T10:09:52.520989Z",
     "shell.execute_reply": "2022-01-09T10:09:52.521419Z"
    },
    "papermill": {
     "duration": 0.070075,
     "end_time": "2022-01-09T10:09:52.521561",
     "exception": false,
     "start_time": "2022-01-09T10:09:52.451486",
     "status": "completed"
    },
    "tags": []
   },
   "outputs": [],
   "source": [
    "new_model = Model(layers[:-2])\n",
    "testing_plot = new_model(testing_data_x)"
   ]
  },
  {
   "cell_type": "code",
   "execution_count": 26,
   "id": "4c0a5485",
   "metadata": {
    "execution": {
     "iopub.execute_input": "2022-01-09T10:09:52.621694Z",
     "iopub.status.busy": "2022-01-09T10:09:52.618207Z",
     "iopub.status.idle": "2022-01-09T10:09:52.806817Z",
     "shell.execute_reply": "2022-01-09T10:09:52.807209Z"
    },
    "papermill": {
     "duration": 0.24284,
     "end_time": "2022-01-09T10:09:52.807346",
     "exception": false,
     "start_time": "2022-01-09T10:09:52.564506",
     "status": "completed"
    },
    "tags": []
   },
   "outputs": [
    {
     "data": {
      "text/plain": [
       "Text(0.5, 1.0, 'Outputs')"
      ]
     },
     "execution_count": 26,
     "metadata": {},
     "output_type": "execute_result"
    },
    {
     "data": {
      "image/png": "[encoded data removed]",
      "text/plain": [
       "<Figure size 576x504 with 1 Axes>"
      ]
     },
     "metadata": {
      "needs_background": "light"
     },
     "output_type": "display_data"
    }
   ],
   "source": [
    "# Plotting the scatter plot of points and color coding by class\n",
    "plt.figure(figsize=(8,7))\n",
    "plt.scatter(testing_plot[:,0], testing_plot[:,1], alpha = 0.1, c = y_test.ravel());\n",
    "plt.title('Outputs')"
   ]
  },
  {
   "cell_type": "markdown",
   "id": "a74fcf8f",
   "metadata": {
    "papermill": {
     "duration": 0.045258,
     "end_time": "2022-01-09T10:09:52.897242",
     "exception": false,
     "start_time": "2022-01-09T10:09:52.851984",
     "status": "completed"
    },
    "tags": []
   },
   "source": [
    "Probability contours"
   ]
  },
  {
   "cell_type": "code",
   "execution_count": 27,
   "id": "d0afc8e3",
   "metadata": {
    "execution": {
     "iopub.execute_input": "2022-01-09T10:09:52.990203Z",
     "iopub.status.busy": "2022-01-09T10:09:52.989684Z",
     "iopub.status.idle": "2022-01-09T10:09:53.002081Z",
     "shell.execute_reply": "2022-01-09T10:09:53.001659Z"
    },
    "papermill": {
     "duration": 0.060237,
     "end_time": "2022-01-09T10:09:53.002197",
     "exception": false,
     "start_time": "2022-01-09T10:09:52.941960",
     "status": "completed"
    },
    "tags": []
   },
   "outputs": [],
   "source": [
    "model_prob = Model(layers[-2:]) "
   ]
  },
  {
   "cell_type": "code",
   "execution_count": 28,
   "id": "9b96e238",
   "metadata": {
    "execution": {
     "iopub.execute_input": "2022-01-09T10:09:53.133621Z",
     "iopub.status.busy": "2022-01-09T10:09:53.133083Z",
     "iopub.status.idle": "2022-01-09T10:09:53.142859Z",
     "shell.execute_reply": "2022-01-09T10:09:53.143245Z"
    },
    "papermill": {
     "duration": 0.096434,
     "end_time": "2022-01-09T10:09:53.143377",
     "exception": false,
     "start_time": "2022-01-09T10:09:53.046943",
     "status": "completed"
    },
    "tags": []
   },
   "outputs": [],
   "source": [
    "#creating the x and y ranges according to the above generated plot.\n",
    "x_range = np.linspace(-4, 1, 100) \n",
    "y_range = np.linspace(-6, 6, 100) \n",
    "x_grid, y_grid = np.meshgrid(x_range, y_range) # x_grid and y_grig are of size 100 X 100\n",
    "\n",
    "# converting x_grid and y_grid to continuous arrays\n",
    "x_gridflat = np.ravel(x_grid)\n",
    "y_gridflat = np.ravel(y_grid)\n",
    "\n",
    "# The last layer of the current model takes two columns as input. Hence transpose of np.vstack() is required.\n",
    "X = np.vstack((x_gridflat, y_gridflat)).T\n",
    "\n",
    "prob_contour = model_prob(X).reshape(100,100) "
   ]
  },
  {
   "cell_type": "code",
   "execution_count": 29,
   "id": "da72499a",
   "metadata": {
    "execution": {
     "iopub.execute_input": "2022-01-09T10:09:53.237668Z",
     "iopub.status.busy": "2022-01-09T10:09:53.237156Z",
     "iopub.status.idle": "2022-01-09T10:09:53.470408Z",
     "shell.execute_reply": "2022-01-09T10:09:53.469956Z"
    },
    "papermill": {
     "duration": 0.28185,
     "end_time": "2022-01-09T10:09:53.470523",
     "exception": false,
     "start_time": "2022-01-09T10:09:53.188673",
     "status": "completed"
    },
    "tags": []
   },
   "outputs": [
    {
     "data": {
      "image/png": "[encoded data removed]",
      "text/plain": [
       "<Figure size 720x648 with 1 Axes>"
      ]
     },
     "metadata": {
      "needs_background": "light"
     },
     "output_type": "display_data"
    }
   ],
   "source": [
    "plt.figure(figsize=(10,9))\n",
    "plt.scatter(testing_plot[:,0], testing_plot[:,1], alpha = 0.1, c = y_test.ravel())\n",
    "contours = plt.contour(x_grid,y_grid,prob_contour)\n",
    "plt.title('Probability Contours')\n",
    "plt.clabel(contours, inline = True );"
   ]
  },
  {
   "cell_type": "code",
   "execution_count": null,
   "id": "e81b4ac7",
   "metadata": {
    "papermill": {
     "duration": 0.047249,
     "end_time": "2022-01-09T10:09:53.565526",
     "exception": false,
     "start_time": "2022-01-09T10:09:53.518277",
     "status": "completed"
    },
    "tags": []
   },
   "outputs": [],
   "source": []
  }
 ],
 "metadata": {
  "kernelspec": {
   "display_name": "Python 3",
   "language": "python",
   "name": "python3"
  },
  "language_info": {
   "codemirror_mode": {
    "name": "ipython",
    "version": 3
   },
   "file_extension": ".py",
   "mimetype": "text/x-python",
   "name": "python",
   "nbconvert_exporter": "python",
   "pygments_lexer": "ipython3",
   "version": "3.6.15"
  },
  "papermill": {
   "default_parameters": {},
   "duration": 95.474087,
   "end_time": "2022-01-09T10:09:54.021183",
   "environment_variables": {},
   "exception": null,
   "input_path": "2020-08-11-part2.ipynb",
   "output_path": "2020-08-11-part2.ipynb",
   "parameters": {},
   "start_time": "2022-01-09T10:08:18.547096",
   "version": "2.3.3"
  }
 },
 "nbformat": 4,
 "nbformat_minor": 5
}