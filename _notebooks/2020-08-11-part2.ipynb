{
 "cells": [
  {
   "cell_type": "markdown",
   "id": "98380cd3",
   "metadata": {
    "papermill": {
     "duration": 0.028383,
     "end_time": "2021-10-28T10:07:28.532665",
     "exception": false,
     "start_time": "2021-10-28T10:07:28.504282",
     "status": "completed"
    },
    "tags": []
   },
   "source": [
    "# Distinguish Your Own Digits (DYOD)"
   ]
  },
  {
   "cell_type": "markdown",
   "id": "ef31240d",
   "metadata": {
    "papermill": {
     "duration": 0.023572,
     "end_time": "2021-10-28T10:07:28.580753",
     "exception": false,
     "start_time": "2021-10-28T10:07:28.557181",
     "status": "completed"
    },
    "tags": []
   },
   "source": [
    "You are going to write a classifier that distinguishes between the number 3 and number 8."
   ]
  },
  {
   "cell_type": "code",
   "execution_count": 1,
   "id": "b15c8646",
   "metadata": {
    "execution": {
     "iopub.execute_input": "2021-10-28T10:07:28.637904Z",
     "iopub.status.busy": "2021-10-28T10:07:28.637380Z",
     "iopub.status.idle": "2021-10-28T10:07:28.647718Z",
     "shell.execute_reply": "2021-10-28T10:07:28.647294Z"
    },
    "papermill": {
     "duration": 0.043469,
     "end_time": "2021-10-28T10:07:28.647843",
     "exception": false,
     "start_time": "2021-10-28T10:07:28.604374",
     "status": "completed"
    },
    "tags": []
   },
   "outputs": [],
   "source": [
    "%load_ext autoreload\n",
    "%autoreload 2"
   ]
  },
  {
   "cell_type": "code",
   "execution_count": 2,
   "id": "22ef38dc",
   "metadata": {
    "execution": {
     "iopub.execute_input": "2021-10-28T10:07:28.704329Z",
     "iopub.status.busy": "2021-10-28T10:07:28.703805Z",
     "iopub.status.idle": "2021-10-28T10:07:29.275809Z",
     "shell.execute_reply": "2021-10-28T10:07:29.275259Z"
    },
    "papermill": {
     "duration": 0.604188,
     "end_time": "2021-10-28T10:07:29.275959",
     "exception": false,
     "start_time": "2021-10-28T10:07:28.671771",
     "status": "completed"
    },
    "tags": []
   },
   "outputs": [],
   "source": [
    "%matplotlib inline\n",
    "import numpy as np\n",
    "import matplotlib.pyplot as plt\n",
    "import pandas as pd"
   ]
  },
  {
   "cell_type": "markdown",
   "id": "ba036198",
   "metadata": {
    "papermill": {
     "duration": 0.02389,
     "end_time": "2021-10-28T10:07:29.326285",
     "exception": false,
     "start_time": "2021-10-28T10:07:29.302395",
     "status": "completed"
    },
    "tags": []
   },
   "source": [
    "From the command line run `pip install mnist`. This is a library that will help you bring down the mnist dataset. If you run this from a notebook, you need to put  `!pip install mnist` in a cell by itself."
   ]
  },
  {
   "cell_type": "code",
   "execution_count": 3,
   "id": "bb6ad8a1",
   "metadata": {
    "execution": {
     "iopub.execute_input": "2021-10-28T10:07:29.380799Z",
     "iopub.status.busy": "2021-10-28T10:07:29.380263Z",
     "iopub.status.idle": "2021-10-28T10:07:31.030799Z",
     "shell.execute_reply": "2021-10-28T10:07:31.029756Z"
    },
    "papermill": {
     "duration": 1.68061,
     "end_time": "2021-10-28T10:07:31.030958",
     "exception": false,
     "start_time": "2021-10-28T10:07:29.350348",
     "status": "completed"
    },
    "tags": []
   },
   "outputs": [
    {
     "name": "stdout",
     "output_type": "stream",
     "text": [
      "Collecting mnist\r\n"
     ]
    },
    {
     "name": "stdout",
     "output_type": "stream",
     "text": [
      "  Downloading mnist-0.2.2-py2.py3-none-any.whl (3.5 kB)\r\n",
      "Requirement already satisfied: numpy in /opt/hostedtoolcache/Python/3.6.15/x64/lib/python3.6/site-packages (from mnist) (1.19.5)\r\n"
     ]
    },
    {
     "name": "stdout",
     "output_type": "stream",
     "text": [
      "Installing collected packages: mnist\r\n"
     ]
    },
    {
     "name": "stdout",
     "output_type": "stream",
     "text": [
      "Successfully installed mnist-0.2.2\r\n"
     ]
    },
    {
     "name": "stdout",
     "output_type": "stream",
     "text": [
      "\u001b[33mWARNING: You are using pip version 21.3; however, version 21.3.1 is available.\r\n",
      "You should consider upgrading via the '/opt/hostedtoolcache/Python/3.6.15/x64/bin/python -m pip install --upgrade pip' command.\u001b[0m\r\n"
     ]
    }
   ],
   "source": [
    "!pip install mnist"
   ]
  },
  {
   "cell_type": "markdown",
   "id": "69df9c9a",
   "metadata": {
    "papermill": {
     "duration": 0.027424,
     "end_time": "2021-10-28T10:07:31.084053",
     "exception": false,
     "start_time": "2021-10-28T10:07:31.056629",
     "status": "completed"
    },
    "tags": []
   },
   "source": [
    "## Preparing the Data"
   ]
  },
  {
   "cell_type": "code",
   "execution_count": 4,
   "id": "7f69d806",
   "metadata": {
    "execution": {
     "iopub.execute_input": "2021-10-28T10:07:31.142167Z",
     "iopub.status.busy": "2021-10-28T10:07:31.137786Z",
     "iopub.status.idle": "2021-10-28T10:07:31.151884Z",
     "shell.execute_reply": "2021-10-28T10:07:31.151435Z"
    },
    "papermill": {
     "duration": 0.04291,
     "end_time": "2021-10-28T10:07:31.151998",
     "exception": false,
     "start_time": "2021-10-28T10:07:31.109088",
     "status": "completed"
    },
    "tags": []
   },
   "outputs": [],
   "source": [
    "import mnist"
   ]
  },
  {
   "cell_type": "code",
   "execution_count": 5,
   "id": "a411e44f",
   "metadata": {
    "execution": {
     "iopub.execute_input": "2021-10-28T10:07:31.205794Z",
     "iopub.status.busy": "2021-10-28T10:07:31.205284Z",
     "iopub.status.idle": "2021-10-28T10:07:31.731235Z",
     "shell.execute_reply": "2021-10-28T10:07:31.731721Z"
    },
    "papermill": {
     "duration": 0.554639,
     "end_time": "2021-10-28T10:07:31.731891",
     "exception": false,
     "start_time": "2021-10-28T10:07:31.177252",
     "status": "completed"
    },
    "tags": []
   },
   "outputs": [],
   "source": [
    "train_images = mnist.train_images()\n",
    "train_labels = mnist.train_labels()"
   ]
  },
  {
   "cell_type": "code",
   "execution_count": 6,
   "id": "dceab3a5",
   "metadata": {
    "execution": {
     "iopub.execute_input": "2021-10-28T10:07:31.792257Z",
     "iopub.status.busy": "2021-10-28T10:07:31.791713Z",
     "iopub.status.idle": "2021-10-28T10:07:31.803648Z",
     "shell.execute_reply": "2021-10-28T10:07:31.803194Z"
    },
    "papermill": {
     "duration": 0.045431,
     "end_time": "2021-10-28T10:07:31.803771",
     "exception": false,
     "start_time": "2021-10-28T10:07:31.758340",
     "status": "completed"
    },
    "tags": []
   },
   "outputs": [
    {
     "data": {
      "text/plain": [
       "((60000, 28, 28), (60000,))"
      ]
     },
     "execution_count": 6,
     "metadata": {},
     "output_type": "execute_result"
    }
   ],
   "source": [
    "train_images.shape, train_labels.shape"
   ]
  },
  {
   "cell_type": "code",
   "execution_count": 7,
   "id": "f50dc2bb",
   "metadata": {
    "execution": {
     "iopub.execute_input": "2021-10-28T10:07:31.858725Z",
     "iopub.status.busy": "2021-10-28T10:07:31.858213Z",
     "iopub.status.idle": "2021-10-28T10:07:32.016212Z",
     "shell.execute_reply": "2021-10-28T10:07:32.015668Z"
    },
    "papermill": {
     "duration": 0.186875,
     "end_time": "2021-10-28T10:07:32.016357",
     "exception": false,
     "start_time": "2021-10-28T10:07:31.829482",
     "status": "completed"
    },
    "tags": []
   },
   "outputs": [],
   "source": [
    "test_images = mnist.test_images()\n",
    "test_labels = mnist.test_labels()"
   ]
  },
  {
   "cell_type": "code",
   "execution_count": 8,
   "id": "fc38cf1b",
   "metadata": {
    "execution": {
     "iopub.execute_input": "2021-10-28T10:07:32.086804Z",
     "iopub.status.busy": "2021-10-28T10:07:32.083989Z",
     "iopub.status.idle": "2021-10-28T10:07:32.089907Z",
     "shell.execute_reply": "2021-10-28T10:07:32.089402Z"
    },
    "papermill": {
     "duration": 0.047671,
     "end_time": "2021-10-28T10:07:32.090026",
     "exception": false,
     "start_time": "2021-10-28T10:07:32.042355",
     "status": "completed"
    },
    "tags": []
   },
   "outputs": [
    {
     "data": {
      "text/plain": [
       "((10000, 28, 28), (10000,))"
      ]
     },
     "execution_count": 8,
     "metadata": {},
     "output_type": "execute_result"
    }
   ],
   "source": [
    "test_images.shape, test_labels.shape"
   ]
  },
  {
   "cell_type": "code",
   "execution_count": 9,
   "id": "f9ed8fe0",
   "metadata": {
    "execution": {
     "iopub.execute_input": "2021-10-28T10:07:32.145777Z",
     "iopub.status.busy": "2021-10-28T10:07:32.144825Z",
     "iopub.status.idle": "2021-10-28T10:07:32.285870Z",
     "shell.execute_reply": "2021-10-28T10:07:32.285355Z"
    },
    "papermill": {
     "duration": 0.170222,
     "end_time": "2021-10-28T10:07:32.286013",
     "exception": false,
     "start_time": "2021-10-28T10:07:32.115791",
     "status": "completed"
    },
    "tags": []
   },
   "outputs": [
    {
     "name": "stdout",
     "output_type": "stream",
     "text": [
      "2\n"
     ]
    },
    {
     "data": {
      "text/plain": [
       "<matplotlib.image.AxesImage at 0x7f4a7685c240>"
      ]
     },
     "execution_count": 9,
     "metadata": {},
     "output_type": "execute_result"
    },
    {
     "data": {
      "image/png": "[encoded data removed]",
      "text/plain": [
       "<Figure size 432x288 with 1 Axes>"
      ]
     },
     "metadata": {
      "needs_background": "light"
     },
     "output_type": "display_data"
    }
   ],
   "source": [
    "image_index = 7776 # You may select anything up to 60,000\n",
    "print(train_labels[image_index]) \n",
    "plt.imshow(train_images[image_index], cmap='Greys')"
   ]
  },
  {
   "cell_type": "markdown",
   "id": "a8d2388d",
   "metadata": {
    "papermill": {
     "duration": 0.02722,
     "end_time": "2021-10-28T10:07:32.343281",
     "exception": false,
     "start_time": "2021-10-28T10:07:32.316061",
     "status": "completed"
    },
    "tags": []
   },
   "source": [
    "## Filter data to get 3 and 8 out"
   ]
  },
  {
   "cell_type": "code",
   "execution_count": 10,
   "id": "776f7fc7",
   "metadata": {
    "execution": {
     "iopub.execute_input": "2021-10-28T10:07:32.403444Z",
     "iopub.status.busy": "2021-10-28T10:07:32.402904Z",
     "iopub.status.idle": "2021-10-28T10:07:32.420322Z",
     "shell.execute_reply": "2021-10-28T10:07:32.420748Z"
    },
    "papermill": {
     "duration": 0.050769,
     "end_time": "2021-10-28T10:07:32.420901",
     "exception": false,
     "start_time": "2021-10-28T10:07:32.370132",
     "status": "completed"
    },
    "tags": []
   },
   "outputs": [],
   "source": [
    "train_filter = np.where((train_labels == 3 ) | (train_labels == 8))\n",
    "test_filter = np.where((test_labels == 3) | (test_labels == 8))\n",
    "X_train, y_train = train_images[train_filter], train_labels[train_filter]\n",
    "X_test, y_test = test_images[test_filter], test_labels[test_filter]"
   ]
  },
  {
   "cell_type": "markdown",
   "id": "948f0b7e",
   "metadata": {
    "papermill": {
     "duration": 0.026726,
     "end_time": "2021-10-28T10:07:32.474865",
     "exception": false,
     "start_time": "2021-10-28T10:07:32.448139",
     "status": "completed"
    },
    "tags": []
   },
   "source": [
    "We normalize the pizel values in the 0 to 1 range"
   ]
  },
  {
   "cell_type": "code",
   "execution_count": 11,
   "id": "ee4c2166",
   "metadata": {
    "execution": {
     "iopub.execute_input": "2021-10-28T10:07:32.549406Z",
     "iopub.status.busy": "2021-10-28T10:07:32.541662Z",
     "iopub.status.idle": "2021-10-28T10:07:32.583671Z",
     "shell.execute_reply": "2021-10-28T10:07:32.583124Z"
    },
    "papermill": {
     "duration": 0.082246,
     "end_time": "2021-10-28T10:07:32.583809",
     "exception": false,
     "start_time": "2021-10-28T10:07:32.501563",
     "status": "completed"
    },
    "tags": []
   },
   "outputs": [],
   "source": [
    "X_train = X_train/255.\n",
    "X_test = X_test/255."
   ]
  },
  {
   "cell_type": "markdown",
   "id": "ddcf4fab",
   "metadata": {
    "papermill": {
     "duration": 0.026619,
     "end_time": "2021-10-28T10:07:32.637598",
     "exception": false,
     "start_time": "2021-10-28T10:07:32.610979",
     "status": "completed"
    },
    "tags": []
   },
   "source": [
    "And setup the labels as 1 (when the digit is 3) and 0 (when the digit is 8)"
   ]
  },
  {
   "cell_type": "code",
   "execution_count": 12,
   "id": "7dc908f2",
   "metadata": {
    "execution": {
     "iopub.execute_input": "2021-10-28T10:07:32.700573Z",
     "iopub.status.busy": "2021-10-28T10:07:32.700051Z",
     "iopub.status.idle": "2021-10-28T10:07:32.708528Z",
     "shell.execute_reply": "2021-10-28T10:07:32.708119Z"
    },
    "papermill": {
     "duration": 0.044635,
     "end_time": "2021-10-28T10:07:32.708666",
     "exception": false,
     "start_time": "2021-10-28T10:07:32.664031",
     "status": "completed"
    },
    "tags": []
   },
   "outputs": [],
   "source": [
    "y_train = 1*(y_train==3)\n",
    "y_test = 1*(y_test==3)"
   ]
  },
  {
   "cell_type": "code",
   "execution_count": 13,
   "id": "01e4e969",
   "metadata": {
    "execution": {
     "iopub.execute_input": "2021-10-28T10:07:32.779794Z",
     "iopub.status.busy": "2021-10-28T10:07:32.777524Z",
     "iopub.status.idle": "2021-10-28T10:07:32.783644Z",
     "shell.execute_reply": "2021-10-28T10:07:32.783156Z"
    },
    "papermill": {
     "duration": 0.048481,
     "end_time": "2021-10-28T10:07:32.783763",
     "exception": false,
     "start_time": "2021-10-28T10:07:32.735282",
     "status": "completed"
    },
    "tags": []
   },
   "outputs": [
    {
     "data": {
      "text/plain": [
       "((11982, 28, 28), (1984, 28, 28))"
      ]
     },
     "execution_count": 13,
     "metadata": {},
     "output_type": "execute_result"
    }
   ],
   "source": [
    "X_train.shape, X_test.shape"
   ]
  },
  {
   "cell_type": "markdown",
   "id": "5ccf3f85",
   "metadata": {
    "papermill": {
     "duration": 0.026757,
     "end_time": "2021-10-28T10:07:32.837646",
     "exception": false,
     "start_time": "2021-10-28T10:07:32.810889",
     "status": "completed"
    },
    "tags": []
   },
   "source": [
    "We reshape the data to flatten the image pixels into a set of features or co-variates:"
   ]
  },
  {
   "cell_type": "code",
   "execution_count": 14,
   "id": "5286a4a3",
   "metadata": {
    "execution": {
     "iopub.execute_input": "2021-10-28T10:07:32.896325Z",
     "iopub.status.busy": "2021-10-28T10:07:32.895808Z",
     "iopub.status.idle": "2021-10-28T10:07:32.911498Z",
     "shell.execute_reply": "2021-10-28T10:07:32.912188Z"
    },
    "papermill": {
     "duration": 0.047582,
     "end_time": "2021-10-28T10:07:32.912350",
     "exception": false,
     "start_time": "2021-10-28T10:07:32.864768",
     "status": "completed"
    },
    "tags": []
   },
   "outputs": [
    {
     "data": {
      "text/plain": [
       "((11982, 784), (1984, 784))"
      ]
     },
     "execution_count": 14,
     "metadata": {},
     "output_type": "execute_result"
    }
   ],
   "source": [
    "X_train = X_train.reshape(X_train.shape[0], -1)\n",
    "X_test = X_test.reshape(X_test.shape[0], -1)\n",
    "X_train.shape, X_test.shape"
   ]
  },
  {
   "cell_type": "code",
   "execution_count": 15,
   "id": "73c5f88a",
   "metadata": {
    "execution": {
     "iopub.execute_input": "2021-10-28T10:07:32.970662Z",
     "iopub.status.busy": "2021-10-28T10:07:32.970148Z",
     "iopub.status.idle": "2021-10-28T10:07:32.988234Z",
     "shell.execute_reply": "2021-10-28T10:07:32.987812Z"
    },
    "papermill": {
     "duration": 0.048882,
     "end_time": "2021-10-28T10:07:32.988352",
     "exception": false,
     "start_time": "2021-10-28T10:07:32.939470",
     "status": "completed"
    },
    "tags": []
   },
   "outputs": [],
   "source": [
    "#Impoting functions from 'Kudzu'\n",
    "from kudzu.model import Model\n",
    "from kudzu.train import Learner\n",
    "from kudzu.optim import GD\n",
    "from kudzu.data import Data, Sampler,Dataloader\n",
    "\n",
    "from kudzu.callbacks import AccCallback\n",
    "from kudzu.callbacks import ClfCallback\n",
    "\n",
    "from kudzu.loss import MSE\n",
    "\n",
    "from kudzu.layer import Sigmoid,Relu\n",
    "from kudzu.layer import Affine"
   ]
  },
  {
   "cell_type": "markdown",
   "id": "bc01172a",
   "metadata": {
    "papermill": {
     "duration": 0.027151,
     "end_time": "2021-10-28T10:07:33.042885",
     "exception": false,
     "start_time": "2021-10-28T10:07:33.015734",
     "status": "completed"
    },
    "tags": []
   },
   "source": [
    "### Let us create a `Config` class, to store important parameters. \n",
    "This class essentially plays the role of a dictionary."
   ]
  },
  {
   "cell_type": "code",
   "execution_count": 16,
   "id": "978281aa",
   "metadata": {
    "execution": {
     "iopub.execute_input": "2021-10-28T10:07:33.101930Z",
     "iopub.status.busy": "2021-10-28T10:07:33.101400Z",
     "iopub.status.idle": "2021-10-28T10:07:33.113754Z",
     "shell.execute_reply": "2021-10-28T10:07:33.113329Z"
    },
    "papermill": {
     "duration": 0.043791,
     "end_time": "2021-10-28T10:07:33.113873",
     "exception": false,
     "start_time": "2021-10-28T10:07:33.070082",
     "status": "completed"
    },
    "tags": []
   },
   "outputs": [],
   "source": [
    "class Config:\n",
    "    pass\n",
    "config = Config()\n",
    "config.lr = 0.001\n",
    "config.num_epochs = 250\n",
    "config.bs = 50"
   ]
  },
  {
   "cell_type": "markdown",
   "id": "1385fa59",
   "metadata": {
    "papermill": {
     "duration": 0.027227,
     "end_time": "2021-10-28T10:07:33.168566",
     "exception": false,
     "start_time": "2021-10-28T10:07:33.141339",
     "status": "completed"
    },
    "tags": []
   },
   "source": [
    "### Running Models with the Training data\n",
    "Details about the network layers:\n",
    "- A first affine layer has 784 inputs and does 100 affine transforms. These are followed by a Relu\n",
    "- A second affine layer has 100 inputs from the 100 activations of the past layer, and does 100 affine transforms. These are followed by a Relu\n",
    "- A third affine layer has 100 activations and does 2 affine transformations to create an embedding for visualization. There is no non-linearity here.\n",
    "- A final \"logistic regression\" which has an affine transform from 2 inputs to 1 output, which is squeezed through a sigmoid.\n"
   ]
  },
  {
   "cell_type": "code",
   "execution_count": 17,
   "id": "2b9c66db",
   "metadata": {
    "execution": {
     "iopub.execute_input": "2021-10-28T10:07:33.227143Z",
     "iopub.status.busy": "2021-10-28T10:07:33.226618Z",
     "iopub.status.idle": "2021-10-28T10:07:33.238276Z",
     "shell.execute_reply": "2021-10-28T10:07:33.238712Z"
    },
    "papermill": {
     "duration": 0.043124,
     "end_time": "2021-10-28T10:07:33.238841",
     "exception": false,
     "start_time": "2021-10-28T10:07:33.195717",
     "status": "completed"
    },
    "tags": []
   },
   "outputs": [],
   "source": [
    "data = Data(X_train, y_train.reshape(-1,1))\n",
    "sampler = Sampler(data, config.bs, shuffle=True)\n",
    "\n",
    "dl = Dataloader(data, sampler)\n",
    "\n",
    "opt = GD(config.lr)\n",
    "loss = MSE()"
   ]
  },
  {
   "cell_type": "code",
   "execution_count": 18,
   "id": "b275e4c2",
   "metadata": {
    "execution": {
     "iopub.execute_input": "2021-10-28T10:07:33.297304Z",
     "iopub.status.busy": "2021-10-28T10:07:33.296768Z",
     "iopub.status.idle": "2021-10-28T10:07:33.309412Z",
     "shell.execute_reply": "2021-10-28T10:07:33.309827Z"
    },
    "papermill": {
     "duration": 0.043995,
     "end_time": "2021-10-28T10:07:33.309966",
     "exception": false,
     "start_time": "2021-10-28T10:07:33.265971",
     "status": "completed"
    },
    "tags": []
   },
   "outputs": [],
   "source": [
    "training_data_x = X_train\n",
    "testing_data_x = X_test\n",
    "training_data_y = y_train.reshape(-1,1)\n",
    "testing_data_y = y_test.reshape(-1,1)"
   ]
  },
  {
   "cell_type": "code",
   "execution_count": 19,
   "id": "76951160",
   "metadata": {
    "execution": {
     "iopub.execute_input": "2021-10-28T10:07:33.368147Z",
     "iopub.status.busy": "2021-10-28T10:07:33.367627Z",
     "iopub.status.idle": "2021-10-28T10:07:33.383101Z",
     "shell.execute_reply": "2021-10-28T10:07:33.383533Z"
    },
    "papermill": {
     "duration": 0.046636,
     "end_time": "2021-10-28T10:07:33.383662",
     "exception": false,
     "start_time": "2021-10-28T10:07:33.337026",
     "status": "completed"
    },
    "tags": []
   },
   "outputs": [
    {
     "name": "stdout",
     "output_type": "stream",
     "text": [
      "xavier\n",
      "xavier\n",
      "xavier\n",
      "xavier\n",
      "xavier\n"
     ]
    }
   ],
   "source": [
    "layers = [Affine(\"first\", 784, 100), Relu(\"first\"), Affine(\"second\", 100, 100), Relu(\"second\"), Affine(\"third\", 100, 2), Affine(\"last\", 2, 1), Sigmoid(\"last\")]\n",
    "model_nn = Model(layers)\n",
    "model_lr = Model([Affine(\"logits\", 784, 1), Sigmoid(\"sigmoid\")])"
   ]
  },
  {
   "cell_type": "code",
   "execution_count": 20,
   "id": "6eede77a",
   "metadata": {
    "execution": {
     "iopub.execute_input": "2021-10-28T10:07:33.454717Z",
     "iopub.status.busy": "2021-10-28T10:07:33.448697Z",
     "iopub.status.idle": "2021-10-28T10:07:33.456884Z",
     "shell.execute_reply": "2021-10-28T10:07:33.456456Z"
    },
    "papermill": {
     "duration": 0.046028,
     "end_time": "2021-10-28T10:07:33.456999",
     "exception": false,
     "start_time": "2021-10-28T10:07:33.410971",
     "status": "completed"
    },
    "tags": []
   },
   "outputs": [],
   "source": [
    "nn_learner = Learner(loss, model_nn, opt, config.num_epochs)\n",
    "acc_nn = ClfCallback(nn_learner, config.bs, training_data_x , testing_data_x, training_data_y, testing_data_y)\n",
    "nn_learner.set_callbacks([acc_nn])"
   ]
  },
  {
   "cell_type": "code",
   "execution_count": 21,
   "id": "877b6cc7",
   "metadata": {
    "execution": {
     "iopub.execute_input": "2021-10-28T10:07:33.523398Z",
     "iopub.status.busy": "2021-10-28T10:07:33.522893Z",
     "iopub.status.idle": "2021-10-28T10:07:33.529538Z",
     "shell.execute_reply": "2021-10-28T10:07:33.529128Z"
    },
    "papermill": {
     "duration": 0.045551,
     "end_time": "2021-10-28T10:07:33.529644",
     "exception": false,
     "start_time": "2021-10-28T10:07:33.484093",
     "status": "completed"
    },
    "tags": []
   },
   "outputs": [],
   "source": [
    "lr_learner = Learner(loss, model_lr, opt, config.num_epochs)\n",
    "acc_lr = ClfCallback(lr_learner, config.bs, training_data_x , testing_data_x, training_data_y, testing_data_y)\n",
    "lr_learner.set_callbacks([acc_lr])"
   ]
  },
  {
   "cell_type": "code",
   "execution_count": 22,
   "id": "d9b133c3",
   "metadata": {
    "execution": {
     "iopub.execute_input": "2021-10-28T10:07:33.587067Z",
     "iopub.status.busy": "2021-10-28T10:07:33.586565Z",
     "iopub.status.idle": "2021-10-28T10:08:49.227672Z",
     "shell.execute_reply": "2021-10-28T10:08:49.227230Z"
    },
    "papermill": {
     "duration": 75.67084,
     "end_time": "2021-10-28T10:08:49.227798",
     "exception": false,
     "start_time": "2021-10-28T10:07:33.556958",
     "status": "completed"
    },
    "tags": []
   },
   "outputs": [
    {
     "name": "stdout",
     "output_type": "stream",
     "text": [
      "Epoch 0, Loss 0.2313\n",
      "Training Accuracy: 0.7170, Testing Accuracy: 0.7162\n",
      "\n"
     ]
    },
    {
     "name": "stdout",
     "output_type": "stream",
     "text": [
      "Epoch 10, Loss 0.0768\n",
      "Training Accuracy: 0.9312, Testing Accuracy: 0.9390\n",
      "\n"
     ]
    },
    {
     "name": "stdout",
     "output_type": "stream",
     "text": [
      "Epoch 20, Loss 0.0481\n",
      "Training Accuracy: 0.9519, Testing Accuracy: 0.9582\n",
      "\n"
     ]
    },
    {
     "name": "stdout",
     "output_type": "stream",
     "text": [
      "Epoch 30, Loss 0.0387\n",
      "Training Accuracy: 0.9575, Testing Accuracy: 0.9637\n",
      "\n"
     ]
    },
    {
     "name": "stdout",
     "output_type": "stream",
     "text": [
      "Epoch 40, Loss 0.0341\n",
      "Training Accuracy: 0.9621, Testing Accuracy: 0.9662\n",
      "\n"
     ]
    },
    {
     "name": "stdout",
     "output_type": "stream",
     "text": [
      "Epoch 50, Loss 0.0311\n",
      "Training Accuracy: 0.9650, Testing Accuracy: 0.9703\n",
      "\n"
     ]
    },
    {
     "name": "stdout",
     "output_type": "stream",
     "text": [
      "Epoch 60, Loss 0.0291\n",
      "Training Accuracy: 0.9672, Testing Accuracy: 0.9713\n",
      "\n"
     ]
    },
    {
     "name": "stdout",
     "output_type": "stream",
     "text": [
      "Epoch 70, Loss 0.0275\n",
      "Training Accuracy: 0.9687, Testing Accuracy: 0.9708\n",
      "\n"
     ]
    },
    {
     "name": "stdout",
     "output_type": "stream",
     "text": [
      "Epoch 80, Loss 0.0262\n",
      "Training Accuracy: 0.9703, Testing Accuracy: 0.9713\n",
      "\n"
     ]
    },
    {
     "name": "stdout",
     "output_type": "stream",
     "text": [
      "Epoch 90, Loss 0.0252\n",
      "Training Accuracy: 0.9716, Testing Accuracy: 0.9718\n",
      "\n"
     ]
    },
    {
     "name": "stdout",
     "output_type": "stream",
     "text": [
      "Epoch 100, Loss 0.0242\n",
      "Training Accuracy: 0.9729, Testing Accuracy: 0.9728\n",
      "\n"
     ]
    },
    {
     "name": "stdout",
     "output_type": "stream",
     "text": [
      "Epoch 110, Loss 0.0234\n",
      "Training Accuracy: 0.9735, Testing Accuracy: 0.9728\n",
      "\n"
     ]
    },
    {
     "name": "stdout",
     "output_type": "stream",
     "text": [
      "Epoch 120, Loss 0.0227\n",
      "Training Accuracy: 0.9740, Testing Accuracy: 0.9733\n",
      "\n"
     ]
    },
    {
     "name": "stdout",
     "output_type": "stream",
     "text": [
      "Epoch 130, Loss 0.022\n",
      "Training Accuracy: 0.9750, Testing Accuracy: 0.9743\n",
      "\n"
     ]
    },
    {
     "name": "stdout",
     "output_type": "stream",
     "text": [
      "Epoch 140, Loss 0.0214\n",
      "Training Accuracy: 0.9760, Testing Accuracy: 0.9748\n",
      "\n"
     ]
    },
    {
     "name": "stdout",
     "output_type": "stream",
     "text": [
      "Epoch 150, Loss 0.0209\n",
      "Training Accuracy: 0.9767, Testing Accuracy: 0.9743\n",
      "\n"
     ]
    },
    {
     "name": "stdout",
     "output_type": "stream",
     "text": [
      "Epoch 160, Loss 0.0204\n",
      "Training Accuracy: 0.9780, Testing Accuracy: 0.9743\n",
      "\n"
     ]
    },
    {
     "name": "stdout",
     "output_type": "stream",
     "text": [
      "Epoch 170, Loss 0.0199\n",
      "Training Accuracy: 0.9786, Testing Accuracy: 0.9748\n",
      "\n"
     ]
    },
    {
     "name": "stdout",
     "output_type": "stream",
     "text": [
      "Epoch 180, Loss 0.0194\n",
      "Training Accuracy: 0.9792, Testing Accuracy: 0.9748\n",
      "\n"
     ]
    },
    {
     "name": "stdout",
     "output_type": "stream",
     "text": [
      "Epoch 190, Loss 0.0189\n",
      "Training Accuracy: 0.9796, Testing Accuracy: 0.9743\n",
      "\n"
     ]
    },
    {
     "name": "stdout",
     "output_type": "stream",
     "text": [
      "Epoch 200, Loss 0.0185\n",
      "Training Accuracy: 0.9804, Testing Accuracy: 0.9748\n",
      "\n"
     ]
    },
    {
     "name": "stdout",
     "output_type": "stream",
     "text": [
      "Epoch 210, Loss 0.0181\n",
      "Training Accuracy: 0.9807, Testing Accuracy: 0.9748\n",
      "\n"
     ]
    },
    {
     "name": "stdout",
     "output_type": "stream",
     "text": [
      "Epoch 220, Loss 0.0177\n",
      "Training Accuracy: 0.9818, Testing Accuracy: 0.9753\n",
      "\n"
     ]
    },
    {
     "name": "stdout",
     "output_type": "stream",
     "text": [
      "Epoch 230, Loss 0.0173\n",
      "Training Accuracy: 0.9820, Testing Accuracy: 0.9753\n",
      "\n"
     ]
    },
    {
     "name": "stdout",
     "output_type": "stream",
     "text": [
      "Epoch 240, Loss 0.0169\n",
      "Training Accuracy: 0.9821, Testing Accuracy: 0.9753\n",
      "\n"
     ]
    },
    {
     "data": {
      "text/plain": [
       "0.03146925148984283"
      ]
     },
     "execution_count": 22,
     "metadata": {},
     "output_type": "execute_result"
    }
   ],
   "source": [
    "nn_learner.train_loop(dl)"
   ]
  },
  {
   "cell_type": "code",
   "execution_count": 23,
   "id": "e0163366",
   "metadata": {
    "execution": {
     "iopub.execute_input": "2021-10-28T10:08:49.304239Z",
     "iopub.status.busy": "2021-10-28T10:08:49.303700Z",
     "iopub.status.idle": "2021-10-28T10:09:03.253142Z",
     "shell.execute_reply": "2021-10-28T10:09:03.253540Z"
    },
    "papermill": {
     "duration": 13.990904,
     "end_time": "2021-10-28T10:09:03.253694",
     "exception": false,
     "start_time": "2021-10-28T10:08:49.262790",
     "status": "completed"
    },
    "tags": []
   },
   "outputs": [
    {
     "name": "stdout",
     "output_type": "stream",
     "text": [
      "Epoch 0, Loss 0.2391\n",
      "Training Accuracy: 0.7054, Testing Accuracy: 0.6804\n",
      "\n"
     ]
    },
    {
     "name": "stdout",
     "output_type": "stream",
     "text": [
      "Epoch 10, Loss 0.102\n",
      "Training Accuracy: 0.9106, Testing Accuracy: 0.9143\n",
      "\n"
     ]
    },
    {
     "name": "stdout",
     "output_type": "stream",
     "text": [
      "Epoch 20, Loss 0.0785\n",
      "Training Accuracy: 0.9291, Testing Accuracy: 0.9360\n",
      "\n"
     ]
    },
    {
     "name": "stdout",
     "output_type": "stream",
     "text": [
      "Epoch 30, Loss 0.0676\n",
      "Training Accuracy: 0.9370, Testing Accuracy: 0.9461\n",
      "\n"
     ]
    },
    {
     "name": "stdout",
     "output_type": "stream",
     "text": [
      "Epoch 40, Loss 0.0611\n",
      "Training Accuracy: 0.9424, Testing Accuracy: 0.9526\n",
      "\n"
     ]
    },
    {
     "name": "stdout",
     "output_type": "stream",
     "text": [
      "Epoch 50, Loss 0.0566\n",
      "Training Accuracy: 0.9455, Testing Accuracy: 0.9551\n",
      "\n"
     ]
    },
    {
     "name": "stdout",
     "output_type": "stream",
     "text": [
      "Epoch 60, Loss 0.0534\n",
      "Training Accuracy: 0.9480, Testing Accuracy: 0.9587\n",
      "\n"
     ]
    },
    {
     "name": "stdout",
     "output_type": "stream",
     "text": [
      "Epoch 70, Loss 0.0508\n",
      "Training Accuracy: 0.9498, Testing Accuracy: 0.9602\n",
      "\n"
     ]
    },
    {
     "name": "stdout",
     "output_type": "stream",
     "text": [
      "Epoch 80, Loss 0.0488\n",
      "Training Accuracy: 0.9512, Testing Accuracy: 0.9622\n",
      "\n"
     ]
    },
    {
     "name": "stdout",
     "output_type": "stream",
     "text": [
      "Epoch 90, Loss 0.0472\n",
      "Training Accuracy: 0.9522, Testing Accuracy: 0.9627\n",
      "\n"
     ]
    },
    {
     "name": "stdout",
     "output_type": "stream",
     "text": [
      "Epoch 100, Loss 0.0458\n",
      "Training Accuracy: 0.9538, Testing Accuracy: 0.9647\n",
      "\n"
     ]
    },
    {
     "name": "stdout",
     "output_type": "stream",
     "text": [
      "Epoch 110, Loss 0.0446\n",
      "Training Accuracy: 0.9550, Testing Accuracy: 0.9647\n",
      "\n"
     ]
    },
    {
     "name": "stdout",
     "output_type": "stream",
     "text": [
      "Epoch 120, Loss 0.0435\n",
      "Training Accuracy: 0.9560, Testing Accuracy: 0.9652\n",
      "\n"
     ]
    },
    {
     "name": "stdout",
     "output_type": "stream",
     "text": [
      "Epoch 130, Loss 0.0426\n",
      "Training Accuracy: 0.9567, Testing Accuracy: 0.9652\n",
      "\n"
     ]
    },
    {
     "name": "stdout",
     "output_type": "stream",
     "text": [
      "Epoch 140, Loss 0.0418\n",
      "Training Accuracy: 0.9566, Testing Accuracy: 0.9652\n",
      "\n"
     ]
    },
    {
     "name": "stdout",
     "output_type": "stream",
     "text": [
      "Epoch 150, Loss 0.041\n",
      "Training Accuracy: 0.9572, Testing Accuracy: 0.9652\n",
      "\n"
     ]
    },
    {
     "name": "stdout",
     "output_type": "stream",
     "text": [
      "Epoch 160, Loss 0.0404\n",
      "Training Accuracy: 0.9575, Testing Accuracy: 0.9652\n",
      "\n"
     ]
    },
    {
     "name": "stdout",
     "output_type": "stream",
     "text": [
      "Epoch 170, Loss 0.0398\n",
      "Training Accuracy: 0.9580, Testing Accuracy: 0.9662\n",
      "\n"
     ]
    },
    {
     "name": "stdout",
     "output_type": "stream",
     "text": [
      "Epoch 180, Loss 0.0392\n",
      "Training Accuracy: 0.9582, Testing Accuracy: 0.9667\n",
      "\n"
     ]
    },
    {
     "name": "stdout",
     "output_type": "stream",
     "text": [
      "Epoch 190, Loss 0.0387\n",
      "Training Accuracy: 0.9586, Testing Accuracy: 0.9662\n",
      "\n"
     ]
    },
    {
     "name": "stdout",
     "output_type": "stream",
     "text": [
      "Epoch 200, Loss 0.0383\n",
      "Training Accuracy: 0.9592, Testing Accuracy: 0.9667\n",
      "\n"
     ]
    },
    {
     "name": "stdout",
     "output_type": "stream",
     "text": [
      "Epoch 210, Loss 0.0378\n",
      "Training Accuracy: 0.9596, Testing Accuracy: 0.9662\n",
      "\n"
     ]
    },
    {
     "name": "stdout",
     "output_type": "stream",
     "text": [
      "Epoch 220, Loss 0.0374\n",
      "Training Accuracy: 0.9598, Testing Accuracy: 0.9667\n",
      "\n"
     ]
    },
    {
     "name": "stdout",
     "output_type": "stream",
     "text": [
      "Epoch 230, Loss 0.037\n",
      "Training Accuracy: 0.9603, Testing Accuracy: 0.9662\n",
      "\n"
     ]
    },
    {
     "name": "stdout",
     "output_type": "stream",
     "text": [
      "Epoch 240, Loss 0.0367\n",
      "Training Accuracy: 0.9607, Testing Accuracy: 0.9677\n",
      "\n"
     ]
    },
    {
     "data": {
      "text/plain": [
       "0.05449838041444684"
      ]
     },
     "execution_count": 23,
     "metadata": {},
     "output_type": "execute_result"
    }
   ],
   "source": [
    "lr_learner.train_loop(dl)"
   ]
  },
  {
   "cell_type": "code",
   "execution_count": 24,
   "id": "ca410940",
   "metadata": {
    "execution": {
     "iopub.execute_input": "2021-10-28T10:09:03.341895Z",
     "iopub.status.busy": "2021-10-28T10:09:03.341364Z",
     "iopub.status.idle": "2021-10-28T10:09:03.569886Z",
     "shell.execute_reply": "2021-10-28T10:09:03.569422Z"
    },
    "papermill": {
     "duration": 0.274779,
     "end_time": "2021-10-28T10:09:03.570013",
     "exception": false,
     "start_time": "2021-10-28T10:09:03.295234",
     "status": "completed"
    },
    "tags": []
   },
   "outputs": [
    {
     "data": {
      "text/plain": [
       "<matplotlib.legend.Legend at 0x7f4a76441a20>"
      ]
     },
     "execution_count": 24,
     "metadata": {},
     "output_type": "execute_result"
    },
    {
     "data": {
      "image/png": "[encoded data removed]",
      "text/plain": [
       "<Figure size 1080x720 with 1 Axes>"
      ]
     },
     "metadata": {
      "needs_background": "light"
     },
     "output_type": "display_data"
    }
   ],
   "source": [
    "#comparing the results of NN and LR\n",
    "plt.figure(figsize=(15,10))\n",
    "\n",
    "# Neural Network plots\n",
    "plt.plot(acc_nn.accuracies, 'r-', label = \"Training Accuracies - NN\")\n",
    "plt.plot(acc_nn.test_accuracies, 'g-', label = \"Testing Accuracies - NN\")\n",
    "\n",
    "# Logistic Regression plots\n",
    "plt.plot(acc_lr.accuracies, 'k-', label = \"Training Accuracies - LR\")\n",
    "plt.plot(acc_lr.test_accuracies, 'b-', label = \"Testing Accuracies - LR\")\n",
    "plt.legend()"
   ]
  },
  {
   "cell_type": "markdown",
   "id": "80dfb35c",
   "metadata": {
    "papermill": {
     "duration": 0.042627,
     "end_time": "2021-10-28T10:09:03.655580",
     "exception": false,
     "start_time": "2021-10-28T10:09:03.612953",
     "status": "completed"
    },
    "tags": []
   },
   "source": [
    "#### Plotting the outputs of this layer of the NN.\n"
   ]
  },
  {
   "cell_type": "code",
   "execution_count": 25,
   "id": "45eb2ff5",
   "metadata": {
    "execution": {
     "iopub.execute_input": "2021-10-28T10:09:03.745825Z",
     "iopub.status.busy": "2021-10-28T10:09:03.745257Z",
     "iopub.status.idle": "2021-10-28T10:09:03.765377Z",
     "shell.execute_reply": "2021-10-28T10:09:03.764885Z"
    },
    "papermill": {
     "duration": 0.067626,
     "end_time": "2021-10-28T10:09:03.765503",
     "exception": false,
     "start_time": "2021-10-28T10:09:03.697877",
     "status": "completed"
    },
    "tags": []
   },
   "outputs": [],
   "source": [
    "new_model = Model(layers[:-2])\n",
    "testing_plot = new_model(testing_data_x)"
   ]
  },
  {
   "cell_type": "code",
   "execution_count": 26,
   "id": "4c0a5485",
   "metadata": {
    "execution": {
     "iopub.execute_input": "2021-10-28T10:09:03.874050Z",
     "iopub.status.busy": "2021-10-28T10:09:03.873489Z",
     "iopub.status.idle": "2021-10-28T10:09:04.067763Z",
     "shell.execute_reply": "2021-10-28T10:09:04.067302Z"
    },
    "papermill": {
     "duration": 0.249904,
     "end_time": "2021-10-28T10:09:04.067886",
     "exception": false,
     "start_time": "2021-10-28T10:09:03.817982",
     "status": "completed"
    },
    "tags": []
   },
   "outputs": [
    {
     "data": {
      "text/plain": [
       "Text(0.5, 1.0, 'Outputs')"
      ]
     },
     "execution_count": 26,
     "metadata": {},
     "output_type": "execute_result"
    },
    {
     "data": {
      "image/png": "[encoded data removed]",
      "text/plain": [
       "<Figure size 576x504 with 1 Axes>"
      ]
     },
     "metadata": {
      "needs_background": "light"
     },
     "output_type": "display_data"
    }
   ],
   "source": [
    "# Plotting the scatter plot of points and color coding by class\n",
    "plt.figure(figsize=(8,7))\n",
    "plt.scatter(testing_plot[:,0], testing_plot[:,1], alpha = 0.1, c = y_test.ravel());\n",
    "plt.title('Outputs')"
   ]
  },
  {
   "cell_type": "markdown",
   "id": "a74fcf8f",
   "metadata": {
    "papermill": {
     "duration": 0.04462,
     "end_time": "2021-10-28T10:09:04.157648",
     "exception": false,
     "start_time": "2021-10-28T10:09:04.113028",
     "status": "completed"
    },
    "tags": []
   },
   "source": [
    "Probability contours"
   ]
  },
  {
   "cell_type": "code",
   "execution_count": 27,
   "id": "d0afc8e3",
   "metadata": {
    "execution": {
     "iopub.execute_input": "2021-10-28T10:09:04.251641Z",
     "iopub.status.busy": "2021-10-28T10:09:04.251100Z",
     "iopub.status.idle": "2021-10-28T10:09:04.263693Z",
     "shell.execute_reply": "2021-10-28T10:09:04.263263Z"
    },
    "papermill": {
     "duration": 0.061152,
     "end_time": "2021-10-28T10:09:04.263815",
     "exception": false,
     "start_time": "2021-10-28T10:09:04.202663",
     "status": "completed"
    },
    "tags": []
   },
   "outputs": [],
   "source": [
    "model_prob = Model(layers[-2:]) "
   ]
  },
  {
   "cell_type": "code",
   "execution_count": 28,
   "id": "9b96e238",
   "metadata": {
    "execution": {
     "iopub.execute_input": "2021-10-28T10:09:04.366100Z",
     "iopub.status.busy": "2021-10-28T10:09:04.365562Z",
     "iopub.status.idle": "2021-10-28T10:09:04.375865Z",
     "shell.execute_reply": "2021-10-28T10:09:04.375448Z"
    },
    "papermill": {
     "duration": 0.067129,
     "end_time": "2021-10-28T10:09:04.375985",
     "exception": false,
     "start_time": "2021-10-28T10:09:04.308856",
     "status": "completed"
    },
    "tags": []
   },
   "outputs": [],
   "source": [
    "#creating the x and y ranges according to the above generated plot.\n",
    "x_range = np.linspace(-4, 1, 100) \n",
    "y_range = np.linspace(-6, 6, 100) \n",
    "x_grid, y_grid = np.meshgrid(x_range, y_range) # x_grid and y_grig are of size 100 X 100\n",
    "\n",
    "# converting x_grid and y_grid to continuous arrays\n",
    "x_gridflat = np.ravel(x_grid)\n",
    "y_gridflat = np.ravel(y_grid)\n",
    "\n",
    "# The last layer of the current model takes two columns as input. Hence transpose of np.vstack() is required.\n",
    "X = np.vstack((x_gridflat, y_gridflat)).T\n",
    "\n",
    "prob_contour = model_prob(X).reshape(100,100) "
   ]
  },
  {
   "cell_type": "code",
   "execution_count": 29,
   "id": "da72499a",
   "metadata": {
    "execution": {
     "iopub.execute_input": "2021-10-28T10:09:04.529961Z",
     "iopub.status.busy": "2021-10-28T10:09:04.519479Z",
     "iopub.status.idle": "2021-10-28T10:09:04.759446Z",
     "shell.execute_reply": "2021-10-28T10:09:04.758982Z"
    },
    "papermill": {
     "duration": 0.332663,
     "end_time": "2021-10-28T10:09:04.759573",
     "exception": false,
     "start_time": "2021-10-28T10:09:04.426910",
     "status": "completed"
    },
    "tags": []
   },
   "outputs": [
    {
     "data": {
      "image/png": "[encoded data removed]",
      "text/plain": [
       "<Figure size 720x648 with 1 Axes>"
      ]
     },
     "metadata": {
      "needs_background": "light"
     },
     "output_type": "display_data"
    }
   ],
   "source": [
    "plt.figure(figsize=(10,9))\n",
    "plt.scatter(testing_plot[:,0], testing_plot[:,1], alpha = 0.1, c = y_test.ravel())\n",
    "contours = plt.contour(x_grid,y_grid,prob_contour)\n",
    "plt.title('Probability Contours')\n",
    "plt.clabel(contours, inline = True );"
   ]
  },
  {
   "cell_type": "code",
   "execution_count": null,
   "id": "e81b4ac7",
   "metadata": {
    "papermill": {
     "duration": 0.047448,
     "end_time": "2021-10-28T10:09:04.855271",
     "exception": false,
     "start_time": "2021-10-28T10:09:04.807823",
     "status": "completed"
    },
    "tags": []
   },
   "outputs": [],
   "source": []
  }
 ],
 "metadata": {
  "kernelspec": {
   "display_name": "Python 3",
   "language": "python",
   "name": "python3"
  },
  "language_info": {
   "codemirror_mode": {
    "name": "ipython",
    "version": 3
   },
   "file_extension": ".py",
   "mimetype": "text/x-python",
   "name": "python",
   "nbconvert_exporter": "python",
   "pygments_lexer": "ipython3",
   "version": "3.6.15"
  },
  "papermill": {
   "default_parameters": {},
   "duration": 97.83939,
   "end_time": "2021-10-28T10:09:05.311037",
   "environment_variables": {},
   "exception": null,
   "input_path": "2020-08-11-part2.ipynb",
   "output_path": "2020-08-11-part2.ipynb",
   "parameters": {},
   "start_time": "2021-10-28T10:07:27.471647",
   "version": "2.3.3"
  }
 },
 "nbformat": 4,
 "nbformat_minor": 5
}