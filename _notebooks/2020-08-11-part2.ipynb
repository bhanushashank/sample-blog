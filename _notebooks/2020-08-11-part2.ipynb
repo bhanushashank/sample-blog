{
 "cells": [
  {
   "cell_type": "markdown",
   "id": "98380cd3",
   "metadata": {
    "papermill": {
     "duration": 0.0297,
     "end_time": "2022-05-06T20:10:35.447580",
     "exception": false,
     "start_time": "2022-05-06T20:10:35.417880",
     "status": "completed"
    },
    "tags": []
   },
   "source": [
    "# Distinguish Your Own Digits (DYOD)"
   ]
  },
  {
   "cell_type": "markdown",
   "id": "ef31240d",
   "metadata": {
    "papermill": {
     "duration": 0.025981,
     "end_time": "2022-05-06T20:10:35.498561",
     "exception": false,
     "start_time": "2022-05-06T20:10:35.472580",
     "status": "completed"
    },
    "tags": []
   },
   "source": [
    "You are going to write a classifier that distinguishes between the number 3 and number 8."
   ]
  },
  {
   "cell_type": "code",
   "execution_count": 1,
   "id": "b15c8646",
   "metadata": {
    "execution": {
     "iopub.execute_input": "2022-05-06T20:10:35.557614Z",
     "iopub.status.busy": "2022-05-06T20:10:35.557057Z",
     "iopub.status.idle": "2022-05-06T20:10:35.568234Z",
     "shell.execute_reply": "2022-05-06T20:10:35.567776Z"
    },
    "papermill": {
     "duration": 0.045523,
     "end_time": "2022-05-06T20:10:35.568376",
     "exception": false,
     "start_time": "2022-05-06T20:10:35.522853",
     "status": "completed"
    },
    "tags": []
   },
   "outputs": [],
   "source": [
    "%load_ext autoreload\n",
    "%autoreload 2"
   ]
  },
  {
   "cell_type": "code",
   "execution_count": 2,
   "id": "22ef38dc",
   "metadata": {
    "execution": {
     "iopub.execute_input": "2022-05-06T20:10:35.632219Z",
     "iopub.status.busy": "2022-05-06T20:10:35.628261Z",
     "iopub.status.idle": "2022-05-06T20:10:36.190279Z",
     "shell.execute_reply": "2022-05-06T20:10:36.189754Z"
    },
    "papermill": {
     "duration": 0.597735,
     "end_time": "2022-05-06T20:10:36.190424",
     "exception": false,
     "start_time": "2022-05-06T20:10:35.592689",
     "status": "completed"
    },
    "tags": []
   },
   "outputs": [],
   "source": [
    "%matplotlib inline\n",
    "import numpy as np\n",
    "import matplotlib.pyplot as plt\n",
    "import pandas as pd"
   ]
  },
  {
   "cell_type": "markdown",
   "id": "ba036198",
   "metadata": {
    "papermill": {
     "duration": 0.024024,
     "end_time": "2022-05-06T20:10:36.238603",
     "exception": false,
     "start_time": "2022-05-06T20:10:36.214579",
     "status": "completed"
    },
    "tags": []
   },
   "source": [
    "From the command line run `pip install mnist`. This is a library that will help you bring down the mnist dataset. If you run this from a notebook, you need to put  `!pip install mnist` in a cell by itself."
   ]
  },
  {
   "cell_type": "code",
   "execution_count": 3,
   "id": "bb6ad8a1",
   "metadata": {
    "execution": {
     "iopub.execute_input": "2022-05-06T20:10:36.293906Z",
     "iopub.status.busy": "2022-05-06T20:10:36.293388Z",
     "iopub.status.idle": "2022-05-06T20:10:38.047874Z",
     "shell.execute_reply": "2022-05-06T20:10:38.047292Z"
    },
    "papermill": {
     "duration": 1.785204,
     "end_time": "2022-05-06T20:10:38.048022",
     "exception": false,
     "start_time": "2022-05-06T20:10:36.262818",
     "status": "completed"
    },
    "tags": []
   },
   "outputs": [
    {
     "name": "stdout",
     "output_type": "stream",
     "text": [
      "Collecting mnist\r\n"
     ]
    },
    {
     "name": "stdout",
     "output_type": "stream",
     "text": [
      "  Downloading mnist-0.2.2-py2.py3-none-any.whl (3.5 kB)\r\n",
      "Requirement already satisfied: numpy in /opt/hostedtoolcache/Python/3.6.15/x64/lib/python3.6/site-packages (from mnist) (1.19.5)\r\n"
     ]
    },
    {
     "name": "stdout",
     "output_type": "stream",
     "text": [
      "Installing collected packages: mnist\r\n"
     ]
    },
    {
     "name": "stdout",
     "output_type": "stream",
     "text": [
      "Successfully installed mnist-0.2.2\r\n"
     ]
    }
   ],
   "source": [
    "!pip install mnist"
   ]
  },
  {
   "cell_type": "markdown",
   "id": "69df9c9a",
   "metadata": {
    "papermill": {
     "duration": 0.025159,
     "end_time": "2022-05-06T20:10:38.099262",
     "exception": false,
     "start_time": "2022-05-06T20:10:38.074103",
     "status": "completed"
    },
    "tags": []
   },
   "source": [
    "## Preparing the Data"
   ]
  },
  {
   "cell_type": "code",
   "execution_count": 4,
   "id": "7f69d806",
   "metadata": {
    "execution": {
     "iopub.execute_input": "2022-05-06T20:10:38.162699Z",
     "iopub.status.busy": "2022-05-06T20:10:38.162161Z",
     "iopub.status.idle": "2022-05-06T20:10:38.171567Z",
     "shell.execute_reply": "2022-05-06T20:10:38.171121Z"
    },
    "papermill": {
     "duration": 0.047299,
     "end_time": "2022-05-06T20:10:38.171694",
     "exception": false,
     "start_time": "2022-05-06T20:10:38.124395",
     "status": "completed"
    },
    "tags": []
   },
   "outputs": [],
   "source": [
    "import mnist"
   ]
  },
  {
   "cell_type": "code",
   "execution_count": 5,
   "id": "a411e44f",
   "metadata": {
    "execution": {
     "iopub.execute_input": "2022-05-06T20:10:38.226695Z",
     "iopub.status.busy": "2022-05-06T20:10:38.225838Z",
     "iopub.status.idle": "2022-05-06T20:10:38.946610Z",
     "shell.execute_reply": "2022-05-06T20:10:38.947093Z"
    },
    "papermill": {
     "duration": 0.750154,
     "end_time": "2022-05-06T20:10:38.947272",
     "exception": false,
     "start_time": "2022-05-06T20:10:38.197118",
     "status": "completed"
    },
    "tags": []
   },
   "outputs": [],
   "source": [
    "train_images = mnist.train_images()\n",
    "train_labels = mnist.train_labels()"
   ]
  },
  {
   "cell_type": "code",
   "execution_count": 6,
   "id": "dceab3a5",
   "metadata": {
    "execution": {
     "iopub.execute_input": "2022-05-06T20:10:39.003656Z",
     "iopub.status.busy": "2022-05-06T20:10:39.002421Z",
     "iopub.status.idle": "2022-05-06T20:10:39.018468Z",
     "shell.execute_reply": "2022-05-06T20:10:39.018017Z"
    },
    "papermill": {
     "duration": 0.044991,
     "end_time": "2022-05-06T20:10:39.018589",
     "exception": false,
     "start_time": "2022-05-06T20:10:38.973598",
     "status": "completed"
    },
    "tags": []
   },
   "outputs": [
    {
     "data": {
      "text/plain": [
       "((60000, 28, 28), (60000,))"
      ]
     },
     "execution_count": 6,
     "metadata": {},
     "output_type": "execute_result"
    }
   ],
   "source": [
    "train_images.shape, train_labels.shape"
   ]
  },
  {
   "cell_type": "code",
   "execution_count": 7,
   "id": "f50dc2bb",
   "metadata": {
    "execution": {
     "iopub.execute_input": "2022-05-06T20:10:39.073784Z",
     "iopub.status.busy": "2022-05-06T20:10:39.073275Z",
     "iopub.status.idle": "2022-05-06T20:10:39.219752Z",
     "shell.execute_reply": "2022-05-06T20:10:39.220246Z"
    },
    "papermill": {
     "duration": 0.17642,
     "end_time": "2022-05-06T20:10:39.220426",
     "exception": false,
     "start_time": "2022-05-06T20:10:39.044006",
     "status": "completed"
    },
    "tags": []
   },
   "outputs": [],
   "source": [
    "test_images = mnist.test_images()\n",
    "test_labels = mnist.test_labels()"
   ]
  },
  {
   "cell_type": "code",
   "execution_count": 8,
   "id": "fc38cf1b",
   "metadata": {
    "execution": {
     "iopub.execute_input": "2022-05-06T20:10:39.276907Z",
     "iopub.status.busy": "2022-05-06T20:10:39.276395Z",
     "iopub.status.idle": "2022-05-06T20:10:39.290345Z",
     "shell.execute_reply": "2022-05-06T20:10:39.289892Z"
    },
    "papermill": {
     "duration": 0.043332,
     "end_time": "2022-05-06T20:10:39.290464",
     "exception": false,
     "start_time": "2022-05-06T20:10:39.247132",
     "status": "completed"
    },
    "tags": []
   },
   "outputs": [
    {
     "data": {
      "text/plain": [
       "((10000, 28, 28), (10000,))"
      ]
     },
     "execution_count": 8,
     "metadata": {},
     "output_type": "execute_result"
    }
   ],
   "source": [
    "test_images.shape, test_labels.shape"
   ]
  },
  {
   "cell_type": "code",
   "execution_count": 9,
   "id": "f9ed8fe0",
   "metadata": {
    "execution": {
     "iopub.execute_input": "2022-05-06T20:10:39.374168Z",
     "iopub.status.busy": "2022-05-06T20:10:39.356606Z",
     "iopub.status.idle": "2022-05-06T20:10:39.490729Z",
     "shell.execute_reply": "2022-05-06T20:10:39.490208Z"
    },
    "papermill": {
     "duration": 0.174816,
     "end_time": "2022-05-06T20:10:39.490872",
     "exception": false,
     "start_time": "2022-05-06T20:10:39.316056",
     "status": "completed"
    },
    "tags": []
   },
   "outputs": [
    {
     "name": "stdout",
     "output_type": "stream",
     "text": [
      "2\n"
     ]
    },
    {
     "data": {
      "text/plain": [
       "<matplotlib.image.AxesImage at 0x7fccc068c4a8>"
      ]
     },
     "execution_count": 9,
     "metadata": {},
     "output_type": "execute_result"
    },
    {
     "data": {
      "image/png": "[encoded data removed]",
      "text/plain": [
       "<Figure size 432x288 with 1 Axes>"
      ]
     },
     "metadata": {
      "needs_background": "light"
     },
     "output_type": "display_data"
    }
   ],
   "source": [
    "image_index = 7776 # You may select anything up to 60,000\n",
    "print(train_labels[image_index]) \n",
    "plt.imshow(train_images[image_index], cmap='Greys')"
   ]
  },
  {
   "cell_type": "markdown",
   "id": "a8d2388d",
   "metadata": {
    "papermill": {
     "duration": 0.027202,
     "end_time": "2022-05-06T20:10:39.545399",
     "exception": false,
     "start_time": "2022-05-06T20:10:39.518197",
     "status": "completed"
    },
    "tags": []
   },
   "source": [
    "## Filter data to get 3 and 8 out"
   ]
  },
  {
   "cell_type": "code",
   "execution_count": 10,
   "id": "776f7fc7",
   "metadata": {
    "execution": {
     "iopub.execute_input": "2022-05-06T20:10:39.605510Z",
     "iopub.status.busy": "2022-05-06T20:10:39.604952Z",
     "iopub.status.idle": "2022-05-06T20:10:39.623123Z",
     "shell.execute_reply": "2022-05-06T20:10:39.622686Z"
    },
    "papermill": {
     "duration": 0.050965,
     "end_time": "2022-05-06T20:10:39.623249",
     "exception": false,
     "start_time": "2022-05-06T20:10:39.572284",
     "status": "completed"
    },
    "tags": []
   },
   "outputs": [],
   "source": [
    "train_filter = np.where((train_labels == 3 ) | (train_labels == 8))\n",
    "test_filter = np.where((test_labels == 3) | (test_labels == 8))\n",
    "X_train, y_train = train_images[train_filter], train_labels[train_filter]\n",
    "X_test, y_test = test_images[test_filter], test_labels[test_filter]"
   ]
  },
  {
   "cell_type": "markdown",
   "id": "948f0b7e",
   "metadata": {
    "papermill": {
     "duration": 0.027003,
     "end_time": "2022-05-06T20:10:39.677191",
     "exception": false,
     "start_time": "2022-05-06T20:10:39.650188",
     "status": "completed"
    },
    "tags": []
   },
   "source": [
    "We normalize the pizel values in the 0 to 1 range"
   ]
  },
  {
   "cell_type": "code",
   "execution_count": 11,
   "id": "ee4c2166",
   "metadata": {
    "execution": {
     "iopub.execute_input": "2022-05-06T20:10:39.736901Z",
     "iopub.status.busy": "2022-05-06T20:10:39.736364Z",
     "iopub.status.idle": "2022-05-06T20:10:39.783877Z",
     "shell.execute_reply": "2022-05-06T20:10:39.783253Z"
    },
    "papermill": {
     "duration": 0.080049,
     "end_time": "2022-05-06T20:10:39.784021",
     "exception": false,
     "start_time": "2022-05-06T20:10:39.703972",
     "status": "completed"
    },
    "tags": []
   },
   "outputs": [],
   "source": [
    "X_train = X_train/255.\n",
    "X_test = X_test/255."
   ]
  },
  {
   "cell_type": "markdown",
   "id": "ddcf4fab",
   "metadata": {
    "papermill": {
     "duration": 0.027643,
     "end_time": "2022-05-06T20:10:39.839159",
     "exception": false,
     "start_time": "2022-05-06T20:10:39.811516",
     "status": "completed"
    },
    "tags": []
   },
   "source": [
    "And setup the labels as 1 (when the digit is 3) and 0 (when the digit is 8)"
   ]
  },
  {
   "cell_type": "code",
   "execution_count": 12,
   "id": "7dc908f2",
   "metadata": {
    "execution": {
     "iopub.execute_input": "2022-05-06T20:10:39.901889Z",
     "iopub.status.busy": "2022-05-06T20:10:39.901326Z",
     "iopub.status.idle": "2022-05-06T20:10:39.911464Z",
     "shell.execute_reply": "2022-05-06T20:10:39.910977Z"
    },
    "papermill": {
     "duration": 0.045608,
     "end_time": "2022-05-06T20:10:39.911590",
     "exception": false,
     "start_time": "2022-05-06T20:10:39.865982",
     "status": "completed"
    },
    "tags": []
   },
   "outputs": [],
   "source": [
    "y_train = 1*(y_train==3)\n",
    "y_test = 1*(y_test==3)"
   ]
  },
  {
   "cell_type": "code",
   "execution_count": 13,
   "id": "01e4e969",
   "metadata": {
    "execution": {
     "iopub.execute_input": "2022-05-06T20:10:39.986063Z",
     "iopub.status.busy": "2022-05-06T20:10:39.985512Z",
     "iopub.status.idle": "2022-05-06T20:10:39.991084Z",
     "shell.execute_reply": "2022-05-06T20:10:39.990640Z"
    },
    "papermill": {
     "duration": 0.052589,
     "end_time": "2022-05-06T20:10:39.991202",
     "exception": false,
     "start_time": "2022-05-06T20:10:39.938613",
     "status": "completed"
    },
    "tags": []
   },
   "outputs": [
    {
     "data": {
      "text/plain": [
       "((11982, 28, 28), (1984, 28, 28))"
      ]
     },
     "execution_count": 13,
     "metadata": {},
     "output_type": "execute_result"
    }
   ],
   "source": [
    "X_train.shape, X_test.shape"
   ]
  },
  {
   "cell_type": "markdown",
   "id": "5ccf3f85",
   "metadata": {
    "papermill": {
     "duration": 0.027085,
     "end_time": "2022-05-06T20:10:40.045258",
     "exception": false,
     "start_time": "2022-05-06T20:10:40.018173",
     "status": "completed"
    },
    "tags": []
   },
   "source": [
    "We reshape the data to flatten the image pixels into a set of features or co-variates:"
   ]
  },
  {
   "cell_type": "code",
   "execution_count": 14,
   "id": "5286a4a3",
   "metadata": {
    "execution": {
     "iopub.execute_input": "2022-05-06T20:10:40.120330Z",
     "iopub.status.busy": "2022-05-06T20:10:40.119771Z",
     "iopub.status.idle": "2022-05-06T20:10:40.122695Z",
     "shell.execute_reply": "2022-05-06T20:10:40.123103Z"
    },
    "papermill": {
     "duration": 0.050724,
     "end_time": "2022-05-06T20:10:40.123249",
     "exception": false,
     "start_time": "2022-05-06T20:10:40.072525",
     "status": "completed"
    },
    "tags": []
   },
   "outputs": [
    {
     "data": {
      "text/plain": [
       "((11982, 784), (1984, 784))"
      ]
     },
     "execution_count": 14,
     "metadata": {},
     "output_type": "execute_result"
    }
   ],
   "source": [
    "X_train = X_train.reshape(X_train.shape[0], -1)\n",
    "X_test = X_test.reshape(X_test.shape[0], -1)\n",
    "X_train.shape, X_test.shape"
   ]
  },
  {
   "cell_type": "code",
   "execution_count": 15,
   "id": "73c5f88a",
   "metadata": {
    "execution": {
     "iopub.execute_input": "2022-05-06T20:10:40.192227Z",
     "iopub.status.busy": "2022-05-06T20:10:40.181951Z",
     "iopub.status.idle": "2022-05-06T20:10:40.204259Z",
     "shell.execute_reply": "2022-05-06T20:10:40.204654Z"
    },
    "papermill": {
     "duration": 0.054328,
     "end_time": "2022-05-06T20:10:40.204803",
     "exception": false,
     "start_time": "2022-05-06T20:10:40.150475",
     "status": "completed"
    },
    "tags": []
   },
   "outputs": [],
   "source": [
    "#Impoting functions from 'Kudzu'\n",
    "from kudzu.model import Model\n",
    "from kudzu.train import Learner\n",
    "from kudzu.optim import GD\n",
    "from kudzu.data import Data, Sampler,Dataloader\n",
    "\n",
    "from kudzu.callbacks import AccCallback\n",
    "from kudzu.callbacks import ClfCallback\n",
    "\n",
    "from kudzu.loss import MSE\n",
    "\n",
    "from kudzu.layer import Sigmoid,Relu\n",
    "from kudzu.layer import Affine"
   ]
  },
  {
   "cell_type": "markdown",
   "id": "bc01172a",
   "metadata": {
    "papermill": {
     "duration": 0.027513,
     "end_time": "2022-05-06T20:10:40.260036",
     "exception": false,
     "start_time": "2022-05-06T20:10:40.232523",
     "status": "completed"
    },
    "tags": []
   },
   "source": [
    "### Let us create a `Config` class, to store important parameters. \n",
    "This class essentially plays the role of a dictionary."
   ]
  },
  {
   "cell_type": "code",
   "execution_count": 16,
   "id": "978281aa",
   "metadata": {
    "execution": {
     "iopub.execute_input": "2022-05-06T20:10:40.327302Z",
     "iopub.status.busy": "2022-05-06T20:10:40.326746Z",
     "iopub.status.idle": "2022-05-06T20:10:40.334501Z",
     "shell.execute_reply": "2022-05-06T20:10:40.334920Z"
    },
    "papermill": {
     "duration": 0.047766,
     "end_time": "2022-05-06T20:10:40.335067",
     "exception": false,
     "start_time": "2022-05-06T20:10:40.287301",
     "status": "completed"
    },
    "tags": []
   },
   "outputs": [],
   "source": [
    "class Config:\n",
    "    pass\n",
    "config = Config()\n",
    "config.lr = 0.001\n",
    "config.num_epochs = 250\n",
    "config.bs = 50"
   ]
  },
  {
   "cell_type": "markdown",
   "id": "1385fa59",
   "metadata": {
    "papermill": {
     "duration": 0.027625,
     "end_time": "2022-05-06T20:10:40.390394",
     "exception": false,
     "start_time": "2022-05-06T20:10:40.362769",
     "status": "completed"
    },
    "tags": []
   },
   "source": [
    "### Running Models with the Training data\n",
    "Details about the network layers:\n",
    "- A first affine layer has 784 inputs and does 100 affine transforms. These are followed by a Relu\n",
    "- A second affine layer has 100 inputs from the 100 activations of the past layer, and does 100 affine transforms. These are followed by a Relu\n",
    "- A third affine layer has 100 activations and does 2 affine transformations to create an embedding for visualization. There is no non-linearity here.\n",
    "- A final \"logistic regression\" which has an affine transform from 2 inputs to 1 output, which is squeezed through a sigmoid.\n"
   ]
  },
  {
   "cell_type": "code",
   "execution_count": 17,
   "id": "2b9c66db",
   "metadata": {
    "execution": {
     "iopub.execute_input": "2022-05-06T20:10:40.452757Z",
     "iopub.status.busy": "2022-05-06T20:10:40.452214Z",
     "iopub.status.idle": "2022-05-06T20:10:40.463297Z",
     "shell.execute_reply": "2022-05-06T20:10:40.462873Z"
    },
    "papermill": {
     "duration": 0.045456,
     "end_time": "2022-05-06T20:10:40.463443",
     "exception": false,
     "start_time": "2022-05-06T20:10:40.417987",
     "status": "completed"
    },
    "tags": []
   },
   "outputs": [],
   "source": [
    "data = Data(X_train, y_train.reshape(-1,1))\n",
    "sampler = Sampler(data, config.bs, shuffle=True)\n",
    "\n",
    "dl = Dataloader(data, sampler)\n",
    "\n",
    "opt = GD(config.lr)\n",
    "loss = MSE()"
   ]
  },
  {
   "cell_type": "code",
   "execution_count": 18,
   "id": "b275e4c2",
   "metadata": {
    "execution": {
     "iopub.execute_input": "2022-05-06T20:10:40.522642Z",
     "iopub.status.busy": "2022-05-06T20:10:40.522124Z",
     "iopub.status.idle": "2022-05-06T20:10:40.534448Z",
     "shell.execute_reply": "2022-05-06T20:10:40.534019Z"
    },
    "papermill": {
     "duration": 0.043624,
     "end_time": "2022-05-06T20:10:40.534573",
     "exception": false,
     "start_time": "2022-05-06T20:10:40.490949",
     "status": "completed"
    },
    "tags": []
   },
   "outputs": [],
   "source": [
    "training_data_x = X_train\n",
    "testing_data_x = X_test\n",
    "training_data_y = y_train.reshape(-1,1)\n",
    "testing_data_y = y_test.reshape(-1,1)"
   ]
  },
  {
   "cell_type": "code",
   "execution_count": 19,
   "id": "76951160",
   "metadata": {
    "execution": {
     "iopub.execute_input": "2022-05-06T20:10:40.596728Z",
     "iopub.status.busy": "2022-05-06T20:10:40.596193Z",
     "iopub.status.idle": "2022-05-06T20:10:40.610865Z",
     "shell.execute_reply": "2022-05-06T20:10:40.610441Z"
    },
    "papermill": {
     "duration": 0.049014,
     "end_time": "2022-05-06T20:10:40.610988",
     "exception": false,
     "start_time": "2022-05-06T20:10:40.561974",
     "status": "completed"
    },
    "tags": []
   },
   "outputs": [
    {
     "name": "stdout",
     "output_type": "stream",
     "text": [
      "xavier\n",
      "xavier\n",
      "xavier\n",
      "xavier\n",
      "xavier\n"
     ]
    }
   ],
   "source": [
    "layers = [Affine(\"first\", 784, 100), Relu(\"first\"), Affine(\"second\", 100, 100), Relu(\"second\"), Affine(\"third\", 100, 2), Affine(\"last\", 2, 1), Sigmoid(\"last\")]\n",
    "model_nn = Model(layers)\n",
    "model_lr = Model([Affine(\"logits\", 784, 1), Sigmoid(\"sigmoid\")])"
   ]
  },
  {
   "cell_type": "code",
   "execution_count": 20,
   "id": "6eede77a",
   "metadata": {
    "execution": {
     "iopub.execute_input": "2022-05-06T20:10:40.672763Z",
     "iopub.status.busy": "2022-05-06T20:10:40.672237Z",
     "iopub.status.idle": "2022-05-06T20:10:40.684031Z",
     "shell.execute_reply": "2022-05-06T20:10:40.683602Z"
    },
    "papermill": {
     "duration": 0.045474,
     "end_time": "2022-05-06T20:10:40.684154",
     "exception": false,
     "start_time": "2022-05-06T20:10:40.638680",
     "status": "completed"
    },
    "tags": []
   },
   "outputs": [],
   "source": [
    "nn_learner = Learner(loss, model_nn, opt, config.num_epochs)\n",
    "acc_nn = ClfCallback(nn_learner, config.bs, training_data_x , testing_data_x, training_data_y, testing_data_y)\n",
    "nn_learner.set_callbacks([acc_nn])"
   ]
  },
  {
   "cell_type": "code",
   "execution_count": 21,
   "id": "877b6cc7",
   "metadata": {
    "execution": {
     "iopub.execute_input": "2022-05-06T20:10:40.760230Z",
     "iopub.status.busy": "2022-05-06T20:10:40.759647Z",
     "iopub.status.idle": "2022-05-06T20:10:40.762080Z",
     "shell.execute_reply": "2022-05-06T20:10:40.761622Z"
    },
    "papermill": {
     "duration": 0.050334,
     "end_time": "2022-05-06T20:10:40.762201",
     "exception": false,
     "start_time": "2022-05-06T20:10:40.711867",
     "status": "completed"
    },
    "tags": []
   },
   "outputs": [],
   "source": [
    "lr_learner = Learner(loss, model_lr, opt, config.num_epochs)\n",
    "acc_lr = ClfCallback(lr_learner, config.bs, training_data_x , testing_data_x, training_data_y, testing_data_y)\n",
    "lr_learner.set_callbacks([acc_lr])"
   ]
  },
  {
   "cell_type": "code",
   "execution_count": 22,
   "id": "d9b133c3",
   "metadata": {
    "execution": {
     "iopub.execute_input": "2022-05-06T20:10:40.824192Z",
     "iopub.status.busy": "2022-05-06T20:10:40.821362Z",
     "iopub.status.idle": "2022-05-06T20:12:00.029604Z",
     "shell.execute_reply": "2022-05-06T20:12:00.030332Z"
    },
    "papermill": {
     "duration": 79.240356,
     "end_time": "2022-05-06T20:12:00.030497",
     "exception": false,
     "start_time": "2022-05-06T20:10:40.790141",
     "status": "completed"
    },
    "tags": []
   },
   "outputs": [
    {
     "name": "stdout",
     "output_type": "stream",
     "text": [
      "Epoch 0, Loss 0.2357\n",
      "Training Accuracy: 0.7236, Testing Accuracy: 0.7248\n",
      "\n"
     ]
    },
    {
     "name": "stdout",
     "output_type": "stream",
     "text": [
      "Epoch 10, Loss 0.0781\n",
      "Training Accuracy: 0.9266, Testing Accuracy: 0.9350\n",
      "\n"
     ]
    },
    {
     "name": "stdout",
     "output_type": "stream",
     "text": [
      "Epoch 20, Loss 0.0507\n",
      "Training Accuracy: 0.9457, Testing Accuracy: 0.9582\n",
      "\n"
     ]
    },
    {
     "name": "stdout",
     "output_type": "stream",
     "text": [
      "Epoch 30, Loss 0.0408\n",
      "Training Accuracy: 0.9548, Testing Accuracy: 0.9597\n",
      "\n"
     ]
    },
    {
     "name": "stdout",
     "output_type": "stream",
     "text": [
      "Epoch 40, Loss 0.0356\n",
      "Training Accuracy: 0.9597, Testing Accuracy: 0.9617\n",
      "\n"
     ]
    },
    {
     "name": "stdout",
     "output_type": "stream",
     "text": [
      "Epoch 50, Loss 0.0324\n",
      "Training Accuracy: 0.9631, Testing Accuracy: 0.9657\n",
      "\n"
     ]
    },
    {
     "name": "stdout",
     "output_type": "stream",
     "text": [
      "Epoch 60, Loss 0.0301\n",
      "Training Accuracy: 0.9649, Testing Accuracy: 0.9688\n",
      "\n"
     ]
    },
    {
     "name": "stdout",
     "output_type": "stream",
     "text": [
      "Epoch 70, Loss 0.0284\n",
      "Training Accuracy: 0.9670, Testing Accuracy: 0.9688\n",
      "\n"
     ]
    },
    {
     "name": "stdout",
     "output_type": "stream",
     "text": [
      "Epoch 80, Loss 0.027\n",
      "Training Accuracy: 0.9684, Testing Accuracy: 0.9693\n",
      "\n"
     ]
    },
    {
     "name": "stdout",
     "output_type": "stream",
     "text": [
      "Epoch 90, Loss 0.0259\n",
      "Training Accuracy: 0.9700, Testing Accuracy: 0.9703\n",
      "\n"
     ]
    },
    {
     "name": "stdout",
     "output_type": "stream",
     "text": [
      "Epoch 100, Loss 0.0249\n",
      "Training Accuracy: 0.9711, Testing Accuracy: 0.9698\n",
      "\n"
     ]
    },
    {
     "name": "stdout",
     "output_type": "stream",
     "text": [
      "Epoch 110, Loss 0.0241\n",
      "Training Accuracy: 0.9721, Testing Accuracy: 0.9713\n",
      "\n"
     ]
    },
    {
     "name": "stdout",
     "output_type": "stream",
     "text": [
      "Epoch 120, Loss 0.0233\n",
      "Training Accuracy: 0.9731, Testing Accuracy: 0.9718\n",
      "\n"
     ]
    },
    {
     "name": "stdout",
     "output_type": "stream",
     "text": [
      "Epoch 130, Loss 0.0226\n",
      "Training Accuracy: 0.9734, Testing Accuracy: 0.9718\n",
      "\n"
     ]
    },
    {
     "name": "stdout",
     "output_type": "stream",
     "text": [
      "Epoch 140, Loss 0.022\n",
      "Training Accuracy: 0.9741, Testing Accuracy: 0.9723\n",
      "\n"
     ]
    },
    {
     "name": "stdout",
     "output_type": "stream",
     "text": [
      "Epoch 150, Loss 0.0214\n",
      "Training Accuracy: 0.9751, Testing Accuracy: 0.9728\n",
      "\n"
     ]
    },
    {
     "name": "stdout",
     "output_type": "stream",
     "text": [
      "Epoch 160, Loss 0.0209\n",
      "Training Accuracy: 0.9757, Testing Accuracy: 0.9728\n",
      "\n"
     ]
    },
    {
     "name": "stdout",
     "output_type": "stream",
     "text": [
      "Epoch 170, Loss 0.0204\n",
      "Training Accuracy: 0.9763, Testing Accuracy: 0.9728\n",
      "\n"
     ]
    },
    {
     "name": "stdout",
     "output_type": "stream",
     "text": [
      "Epoch 180, Loss 0.0199\n",
      "Training Accuracy: 0.9766, Testing Accuracy: 0.9728\n",
      "\n"
     ]
    },
    {
     "name": "stdout",
     "output_type": "stream",
     "text": [
      "Epoch 190, Loss 0.0194\n",
      "Training Accuracy: 0.9770, Testing Accuracy: 0.9728\n",
      "\n"
     ]
    },
    {
     "name": "stdout",
     "output_type": "stream",
     "text": [
      "Epoch 200, Loss 0.019\n",
      "Training Accuracy: 0.9781, Testing Accuracy: 0.9733\n",
      "\n"
     ]
    },
    {
     "name": "stdout",
     "output_type": "stream",
     "text": [
      "Epoch 210, Loss 0.0186\n",
      "Training Accuracy: 0.9784, Testing Accuracy: 0.9733\n",
      "\n"
     ]
    },
    {
     "name": "stdout",
     "output_type": "stream",
     "text": [
      "Epoch 220, Loss 0.0182\n",
      "Training Accuracy: 0.9793, Testing Accuracy: 0.9738\n",
      "\n"
     ]
    },
    {
     "name": "stdout",
     "output_type": "stream",
     "text": [
      "Epoch 230, Loss 0.0178\n",
      "Training Accuracy: 0.9799, Testing Accuracy: 0.9738\n",
      "\n"
     ]
    },
    {
     "name": "stdout",
     "output_type": "stream",
     "text": [
      "Epoch 240, Loss 0.0174\n",
      "Training Accuracy: 0.9803, Testing Accuracy: 0.9743\n",
      "\n"
     ]
    },
    {
     "data": {
      "text/plain": [
       "0.010085731478588135"
      ]
     },
     "execution_count": 22,
     "metadata": {},
     "output_type": "execute_result"
    }
   ],
   "source": [
    "nn_learner.train_loop(dl)"
   ]
  },
  {
   "cell_type": "code",
   "execution_count": 23,
   "id": "e0163366",
   "metadata": {
    "execution": {
     "iopub.execute_input": "2022-05-06T20:12:00.109448Z",
     "iopub.status.busy": "2022-05-06T20:12:00.108894Z",
     "iopub.status.idle": "2022-05-06T20:12:14.281726Z",
     "shell.execute_reply": "2022-05-06T20:12:14.282524Z"
    },
    "papermill": {
     "duration": 14.217333,
     "end_time": "2022-05-06T20:12:14.282687",
     "exception": false,
     "start_time": "2022-05-06T20:12:00.065354",
     "status": "completed"
    },
    "tags": []
   },
   "outputs": [
    {
     "name": "stdout",
     "output_type": "stream",
     "text": [
      "Epoch 0, Loss 0.1958\n",
      "Training Accuracy: 0.8423, Testing Accuracy: 0.8639\n",
      "\n"
     ]
    },
    {
     "name": "stdout",
     "output_type": "stream",
     "text": [
      "Epoch 10, Loss 0.0938\n",
      "Training Accuracy: 0.9238, Testing Accuracy: 0.9340\n",
      "\n"
     ]
    },
    {
     "name": "stdout",
     "output_type": "stream",
     "text": [
      "Epoch 20, Loss 0.0743\n",
      "Training Accuracy: 0.9348, Testing Accuracy: 0.9435\n",
      "\n"
     ]
    },
    {
     "name": "stdout",
     "output_type": "stream",
     "text": [
      "Epoch 30, Loss 0.065\n",
      "Training Accuracy: 0.9411, Testing Accuracy: 0.9471\n",
      "\n"
     ]
    },
    {
     "name": "stdout",
     "output_type": "stream",
     "text": [
      "Epoch 40, Loss 0.0593\n",
      "Training Accuracy: 0.9443, Testing Accuracy: 0.9521\n",
      "\n"
     ]
    },
    {
     "name": "stdout",
     "output_type": "stream",
     "text": [
      "Epoch 50, Loss 0.0554\n",
      "Training Accuracy: 0.9468, Testing Accuracy: 0.9546\n",
      "\n"
     ]
    },
    {
     "name": "stdout",
     "output_type": "stream",
     "text": [
      "Epoch 60, Loss 0.0525\n",
      "Training Accuracy: 0.9484, Testing Accuracy: 0.9577\n",
      "\n"
     ]
    },
    {
     "name": "stdout",
     "output_type": "stream",
     "text": [
      "Epoch 70, Loss 0.0502\n",
      "Training Accuracy: 0.9503, Testing Accuracy: 0.9602\n",
      "\n"
     ]
    },
    {
     "name": "stdout",
     "output_type": "stream",
     "text": [
      "Epoch 80, Loss 0.0483\n",
      "Training Accuracy: 0.9522, Testing Accuracy: 0.9607\n",
      "\n"
     ]
    },
    {
     "name": "stdout",
     "output_type": "stream",
     "text": [
      "Epoch 90, Loss 0.0467\n",
      "Training Accuracy: 0.9528, Testing Accuracy: 0.9612\n",
      "\n"
     ]
    },
    {
     "name": "stdout",
     "output_type": "stream",
     "text": [
      "Epoch 100, Loss 0.0454\n",
      "Training Accuracy: 0.9534, Testing Accuracy: 0.9627\n",
      "\n"
     ]
    },
    {
     "name": "stdout",
     "output_type": "stream",
     "text": [
      "Epoch 110, Loss 0.0443\n",
      "Training Accuracy: 0.9542, Testing Accuracy: 0.9632\n",
      "\n"
     ]
    },
    {
     "name": "stdout",
     "output_type": "stream",
     "text": [
      "Epoch 120, Loss 0.0433\n",
      "Training Accuracy: 0.9548, Testing Accuracy: 0.9652\n",
      "\n"
     ]
    },
    {
     "name": "stdout",
     "output_type": "stream",
     "text": [
      "Epoch 130, Loss 0.0424\n",
      "Training Accuracy: 0.9551, Testing Accuracy: 0.9647\n",
      "\n"
     ]
    },
    {
     "name": "stdout",
     "output_type": "stream",
     "text": [
      "Epoch 140, Loss 0.0416\n",
      "Training Accuracy: 0.9557, Testing Accuracy: 0.9652\n",
      "\n"
     ]
    },
    {
     "name": "stdout",
     "output_type": "stream",
     "text": [
      "Epoch 150, Loss 0.0409\n",
      "Training Accuracy: 0.9562, Testing Accuracy: 0.9652\n",
      "\n"
     ]
    },
    {
     "name": "stdout",
     "output_type": "stream",
     "text": [
      "Epoch 160, Loss 0.0403\n",
      "Training Accuracy: 0.9569, Testing Accuracy: 0.9652\n",
      "\n"
     ]
    },
    {
     "name": "stdout",
     "output_type": "stream",
     "text": [
      "Epoch 170, Loss 0.0397\n",
      "Training Accuracy: 0.9579, Testing Accuracy: 0.9652\n",
      "\n"
     ]
    },
    {
     "name": "stdout",
     "output_type": "stream",
     "text": [
      "Epoch 180, Loss 0.0392\n",
      "Training Accuracy: 0.9585, Testing Accuracy: 0.9652\n",
      "\n"
     ]
    },
    {
     "name": "stdout",
     "output_type": "stream",
     "text": [
      "Epoch 190, Loss 0.0387\n",
      "Training Accuracy: 0.9590, Testing Accuracy: 0.9657\n",
      "\n"
     ]
    },
    {
     "name": "stdout",
     "output_type": "stream",
     "text": [
      "Epoch 200, Loss 0.0383\n",
      "Training Accuracy: 0.9593, Testing Accuracy: 0.9657\n",
      "\n"
     ]
    },
    {
     "name": "stdout",
     "output_type": "stream",
     "text": [
      "Epoch 210, Loss 0.0378\n",
      "Training Accuracy: 0.9598, Testing Accuracy: 0.9652\n",
      "\n"
     ]
    },
    {
     "name": "stdout",
     "output_type": "stream",
     "text": [
      "Epoch 220, Loss 0.0374\n",
      "Training Accuracy: 0.9602, Testing Accuracy: 0.9652\n",
      "\n"
     ]
    },
    {
     "name": "stdout",
     "output_type": "stream",
     "text": [
      "Epoch 230, Loss 0.0371\n",
      "Training Accuracy: 0.9603, Testing Accuracy: 0.9662\n",
      "\n"
     ]
    },
    {
     "name": "stdout",
     "output_type": "stream",
     "text": [
      "Epoch 240, Loss 0.0367\n",
      "Training Accuracy: 0.9605, Testing Accuracy: 0.9657\n",
      "\n"
     ]
    },
    {
     "data": {
      "text/plain": [
       "0.028538559528917457"
      ]
     },
     "execution_count": 23,
     "metadata": {},
     "output_type": "execute_result"
    }
   ],
   "source": [
    "lr_learner.train_loop(dl)"
   ]
  },
  {
   "cell_type": "code",
   "execution_count": 24,
   "id": "ca410940",
   "metadata": {
    "execution": {
     "iopub.execute_input": "2022-05-06T20:12:14.379343Z",
     "iopub.status.busy": "2022-05-06T20:12:14.377537Z",
     "iopub.status.idle": "2022-05-06T20:12:14.604650Z",
     "shell.execute_reply": "2022-05-06T20:12:14.604205Z"
    },
    "papermill": {
     "duration": 0.279118,
     "end_time": "2022-05-06T20:12:14.604776",
     "exception": false,
     "start_time": "2022-05-06T20:12:14.325658",
     "status": "completed"
    },
    "tags": []
   },
   "outputs": [
    {
     "data": {
      "text/plain": [
       "<matplotlib.legend.Legend at 0x7fccc026db38>"
      ]
     },
     "execution_count": 24,
     "metadata": {},
     "output_type": "execute_result"
    },
    {
     "data": {
      "image/png": "[encoded data removed]",
      "text/plain": [
       "<Figure size 1080x720 with 1 Axes>"
      ]
     },
     "metadata": {
      "needs_background": "light"
     },
     "output_type": "display_data"
    }
   ],
   "source": [
    "#comparing the results of NN and LR\n",
    "plt.figure(figsize=(15,10))\n",
    "\n",
    "# Neural Network plots\n",
    "plt.plot(acc_nn.accuracies, 'r-', label = \"Training Accuracies - NN\")\n",
    "plt.plot(acc_nn.test_accuracies, 'g-', label = \"Testing Accuracies - NN\")\n",
    "\n",
    "# Logistic Regression plots\n",
    "plt.plot(acc_lr.accuracies, 'k-', label = \"Training Accuracies - LR\")\n",
    "plt.plot(acc_lr.test_accuracies, 'b-', label = \"Testing Accuracies - LR\")\n",
    "plt.legend()"
   ]
  },
  {
   "cell_type": "markdown",
   "id": "80dfb35c",
   "metadata": {
    "papermill": {
     "duration": 0.042575,
     "end_time": "2022-05-06T20:12:14.690118",
     "exception": false,
     "start_time": "2022-05-06T20:12:14.647543",
     "status": "completed"
    },
    "tags": []
   },
   "source": [
    "#### Plotting the outputs of this layer of the NN.\n"
   ]
  },
  {
   "cell_type": "code",
   "execution_count": 25,
   "id": "45eb2ff5",
   "metadata": {
    "execution": {
     "iopub.execute_input": "2022-05-06T20:12:14.783588Z",
     "iopub.status.busy": "2022-05-06T20:12:14.782982Z",
     "iopub.status.idle": "2022-05-06T20:12:14.803623Z",
     "shell.execute_reply": "2022-05-06T20:12:14.804103Z"
    },
    "papermill": {
     "duration": 0.071761,
     "end_time": "2022-05-06T20:12:14.804259",
     "exception": false,
     "start_time": "2022-05-06T20:12:14.732498",
     "status": "completed"
    },
    "tags": []
   },
   "outputs": [],
   "source": [
    "new_model = Model(layers[:-2])\n",
    "testing_plot = new_model(testing_data_x)"
   ]
  },
  {
   "cell_type": "code",
   "execution_count": 26,
   "id": "4c0a5485",
   "metadata": {
    "execution": {
     "iopub.execute_input": "2022-05-06T20:12:14.896548Z",
     "iopub.status.busy": "2022-05-06T20:12:14.895781Z",
     "iopub.status.idle": "2022-05-06T20:12:15.118380Z",
     "shell.execute_reply": "2022-05-06T20:12:15.117918Z"
    },
    "papermill": {
     "duration": 0.270928,
     "end_time": "2022-05-06T20:12:15.118499",
     "exception": false,
     "start_time": "2022-05-06T20:12:14.847571",
     "status": "completed"
    },
    "tags": []
   },
   "outputs": [
    {
     "data": {
      "text/plain": [
       "Text(0.5, 1.0, 'Outputs')"
      ]
     },
     "execution_count": 26,
     "metadata": {},
     "output_type": "execute_result"
    },
    {
     "data": {
      "image/png": "[encoded data removed]",
      "text/plain": [
       "<Figure size 576x504 with 1 Axes>"
      ]
     },
     "metadata": {
      "needs_background": "light"
     },
     "output_type": "display_data"
    }
   ],
   "source": [
    "# Plotting the scatter plot of points and color coding by class\n",
    "plt.figure(figsize=(8,7))\n",
    "plt.scatter(testing_plot[:,0], testing_plot[:,1], alpha = 0.1, c = y_test.ravel());\n",
    "plt.title('Outputs')"
   ]
  },
  {
   "cell_type": "markdown",
   "id": "a74fcf8f",
   "metadata": {
    "papermill": {
     "duration": 0.044609,
     "end_time": "2022-05-06T20:12:15.207835",
     "exception": false,
     "start_time": "2022-05-06T20:12:15.163226",
     "status": "completed"
    },
    "tags": []
   },
   "source": [
    "Probability contours"
   ]
  },
  {
   "cell_type": "code",
   "execution_count": 27,
   "id": "d0afc8e3",
   "metadata": {
    "execution": {
     "iopub.execute_input": "2022-05-06T20:12:15.301654Z",
     "iopub.status.busy": "2022-05-06T20:12:15.301111Z",
     "iopub.status.idle": "2022-05-06T20:12:15.313221Z",
     "shell.execute_reply": "2022-05-06T20:12:15.313636Z"
    },
    "papermill": {
     "duration": 0.061206,
     "end_time": "2022-05-06T20:12:15.313784",
     "exception": false,
     "start_time": "2022-05-06T20:12:15.252578",
     "status": "completed"
    },
    "tags": []
   },
   "outputs": [],
   "source": [
    "model_prob = Model(layers[-2:]) "
   ]
  },
  {
   "cell_type": "code",
   "execution_count": 28,
   "id": "9b96e238",
   "metadata": {
    "execution": {
     "iopub.execute_input": "2022-05-06T20:12:15.445059Z",
     "iopub.status.busy": "2022-05-06T20:12:15.444533Z",
     "iopub.status.idle": "2022-05-06T20:12:15.458442Z",
     "shell.execute_reply": "2022-05-06T20:12:15.458854Z"
    },
    "papermill": {
     "duration": 0.064129,
     "end_time": "2022-05-06T20:12:15.459014",
     "exception": false,
     "start_time": "2022-05-06T20:12:15.394885",
     "status": "completed"
    },
    "tags": []
   },
   "outputs": [],
   "source": [
    "#creating the x and y ranges according to the above generated plot.\n",
    "x_range = np.linspace(-4, 1, 100) \n",
    "y_range = np.linspace(-6, 6, 100) \n",
    "x_grid, y_grid = np.meshgrid(x_range, y_range) # x_grid and y_grig are of size 100 X 100\n",
    "\n",
    "# converting x_grid and y_grid to continuous arrays\n",
    "x_gridflat = np.ravel(x_grid)\n",
    "y_gridflat = np.ravel(y_grid)\n",
    "\n",
    "# The last layer of the current model takes two columns as input. Hence transpose of np.vstack() is required.\n",
    "X = np.vstack((x_gridflat, y_gridflat)).T\n",
    "\n",
    "prob_contour = model_prob(X).reshape(100,100) "
   ]
  },
  {
   "cell_type": "code",
   "execution_count": 29,
   "id": "da72499a",
   "metadata": {
    "execution": {
     "iopub.execute_input": "2022-05-06T20:12:15.559890Z",
     "iopub.status.busy": "2022-05-06T20:12:15.559300Z",
     "iopub.status.idle": "2022-05-06T20:12:15.805262Z",
     "shell.execute_reply": "2022-05-06T20:12:15.804790Z"
    },
    "papermill": {
     "duration": 0.300526,
     "end_time": "2022-05-06T20:12:15.805385",
     "exception": false,
     "start_time": "2022-05-06T20:12:15.504859",
     "status": "completed"
    },
    "tags": []
   },
   "outputs": [
    {
     "data": {
      "image/png": "[encoded data removed]",
      "text/plain": [
       "<Figure size 720x648 with 1 Axes>"
      ]
     },
     "metadata": {
      "needs_background": "light"
     },
     "output_type": "display_data"
    }
   ],
   "source": [
    "plt.figure(figsize=(10,9))\n",
    "plt.scatter(testing_plot[:,0], testing_plot[:,1], alpha = 0.1, c = y_test.ravel())\n",
    "contours = plt.contour(x_grid,y_grid,prob_contour)\n",
    "plt.title('Probability Contours')\n",
    "plt.clabel(contours, inline = True );"
   ]
  },
  {
   "cell_type": "code",
   "execution_count": null,
   "id": "e81b4ac7",
   "metadata": {
    "papermill": {
     "duration": 0.047004,
     "end_time": "2022-05-06T20:12:15.899950",
     "exception": false,
     "start_time": "2022-05-06T20:12:15.852946",
     "status": "completed"
    },
    "tags": []
   },
   "outputs": [],
   "source": []
  }
 ],
 "metadata": {
  "kernelspec": {
   "display_name": "Python 3",
   "language": "python",
   "name": "python3"
  },
  "language_info": {
   "codemirror_mode": {
    "name": "ipython",
    "version": 3
   },
   "file_extension": ".py",
   "mimetype": "text/x-python",
   "name": "python",
   "nbconvert_exporter": "python",
   "pygments_lexer": "ipython3",
   "version": "3.6.15"
  },
  "papermill": {
   "default_parameters": {},
   "duration": 101.899907,
   "end_time": "2022-05-06T20:12:16.369310",
   "environment_variables": {},
   "exception": null,
   "input_path": "2020-08-11-part2.ipynb",
   "output_path": "2020-08-11-part2.ipynb",
   "parameters": {},
   "start_time": "2022-05-06T20:10:34.469403",
   "version": "2.3.3"
  }
 },
 "nbformat": 4,
 "nbformat_minor": 5
}