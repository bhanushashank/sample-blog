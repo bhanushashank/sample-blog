{
 "cells": [
  {
   "cell_type": "markdown",
   "id": "98380cd3",
   "metadata": {
    "papermill": {
     "duration": 0.028365,
     "end_time": "2022-03-26T00:30:36.959668",
     "exception": false,
     "start_time": "2022-03-26T00:30:36.931303",
     "status": "completed"
    },
    "tags": []
   },
   "source": [
    "# Distinguish Your Own Digits (DYOD)"
   ]
  },
  {
   "cell_type": "markdown",
   "id": "ef31240d",
   "metadata": {
    "papermill": {
     "duration": 0.02569,
     "end_time": "2022-03-26T00:30:37.010468",
     "exception": false,
     "start_time": "2022-03-26T00:30:36.984778",
     "status": "completed"
    },
    "tags": []
   },
   "source": [
    "You are going to write a classifier that distinguishes between the number 3 and number 8."
   ]
  },
  {
   "cell_type": "code",
   "execution_count": 1,
   "id": "b15c8646",
   "metadata": {
    "execution": {
     "iopub.execute_input": "2022-03-26T00:30:37.069381Z",
     "iopub.status.busy": "2022-03-26T00:30:37.068823Z",
     "iopub.status.idle": "2022-03-26T00:30:37.078948Z",
     "shell.execute_reply": "2022-03-26T00:30:37.078523Z"
    },
    "papermill": {
     "duration": 0.04424,
     "end_time": "2022-03-26T00:30:37.079067",
     "exception": false,
     "start_time": "2022-03-26T00:30:37.034827",
     "status": "completed"
    },
    "tags": []
   },
   "outputs": [],
   "source": [
    "%load_ext autoreload\n",
    "%autoreload 2"
   ]
  },
  {
   "cell_type": "code",
   "execution_count": 2,
   "id": "22ef38dc",
   "metadata": {
    "execution": {
     "iopub.execute_input": "2022-03-26T00:30:37.132161Z",
     "iopub.status.busy": "2022-03-26T00:30:37.131655Z",
     "iopub.status.idle": "2022-03-26T00:30:37.683332Z",
     "shell.execute_reply": "2022-03-26T00:30:37.682889Z"
    },
    "papermill": {
     "duration": 0.579659,
     "end_time": "2022-03-26T00:30:37.683450",
     "exception": false,
     "start_time": "2022-03-26T00:30:37.103791",
     "status": "completed"
    },
    "tags": []
   },
   "outputs": [],
   "source": [
    "%matplotlib inline\n",
    "import numpy as np\n",
    "import matplotlib.pyplot as plt\n",
    "import pandas as pd"
   ]
  },
  {
   "cell_type": "markdown",
   "id": "ba036198",
   "metadata": {
    "papermill": {
     "duration": 0.024598,
     "end_time": "2022-03-26T00:30:37.732741",
     "exception": false,
     "start_time": "2022-03-26T00:30:37.708143",
     "status": "completed"
    },
    "tags": []
   },
   "source": [
    "From the command line run `pip install mnist`. This is a library that will help you bring down the mnist dataset. If you run this from a notebook, you need to put  `!pip install mnist` in a cell by itself."
   ]
  },
  {
   "cell_type": "code",
   "execution_count": 3,
   "id": "bb6ad8a1",
   "metadata": {
    "execution": {
     "iopub.execute_input": "2022-03-26T00:30:37.788198Z",
     "iopub.status.busy": "2022-03-26T00:30:37.787700Z",
     "iopub.status.idle": "2022-03-26T00:30:39.602531Z",
     "shell.execute_reply": "2022-03-26T00:30:39.602060Z"
    },
    "papermill": {
     "duration": 1.845316,
     "end_time": "2022-03-26T00:30:39.602644",
     "exception": false,
     "start_time": "2022-03-26T00:30:37.757328",
     "status": "completed"
    },
    "tags": []
   },
   "outputs": [
    {
     "name": "stdout",
     "output_type": "stream",
     "text": [
      "Collecting mnist\r\n"
     ]
    },
    {
     "name": "stdout",
     "output_type": "stream",
     "text": [
      "  Downloading mnist-0.2.2-py2.py3-none-any.whl (3.5 kB)\r\n",
      "Requirement already satisfied: numpy in /opt/hostedtoolcache/Python/3.6.15/x64/lib/python3.6/site-packages (from mnist) (1.19.5)\r\n"
     ]
    },
    {
     "name": "stdout",
     "output_type": "stream",
     "text": [
      "Installing collected packages: mnist\r\n",
      "Successfully installed mnist-0.2.2\r\n"
     ]
    }
   ],
   "source": [
    "!pip install mnist"
   ]
  },
  {
   "cell_type": "markdown",
   "id": "69df9c9a",
   "metadata": {
    "papermill": {
     "duration": 0.025758,
     "end_time": "2022-03-26T00:30:39.654012",
     "exception": false,
     "start_time": "2022-03-26T00:30:39.628254",
     "status": "completed"
    },
    "tags": []
   },
   "source": [
    "## Preparing the Data"
   ]
  },
  {
   "cell_type": "code",
   "execution_count": 4,
   "id": "7f69d806",
   "metadata": {
    "execution": {
     "iopub.execute_input": "2022-03-26T00:30:39.708683Z",
     "iopub.status.busy": "2022-03-26T00:30:39.708169Z",
     "iopub.status.idle": "2022-03-26T00:30:39.721807Z",
     "shell.execute_reply": "2022-03-26T00:30:39.721379Z"
    },
    "papermill": {
     "duration": 0.042534,
     "end_time": "2022-03-26T00:30:39.721913",
     "exception": false,
     "start_time": "2022-03-26T00:30:39.679379",
     "status": "completed"
    },
    "tags": []
   },
   "outputs": [],
   "source": [
    "import mnist"
   ]
  },
  {
   "cell_type": "code",
   "execution_count": 5,
   "id": "a411e44f",
   "metadata": {
    "execution": {
     "iopub.execute_input": "2022-03-26T00:30:39.777227Z",
     "iopub.status.busy": "2022-03-26T00:30:39.776703Z",
     "iopub.status.idle": "2022-03-26T00:30:40.387795Z",
     "shell.execute_reply": "2022-03-26T00:30:40.387352Z"
    },
    "papermill": {
     "duration": 0.640427,
     "end_time": "2022-03-26T00:30:40.387913",
     "exception": false,
     "start_time": "2022-03-26T00:30:39.747486",
     "status": "completed"
    },
    "tags": []
   },
   "outputs": [],
   "source": [
    "train_images = mnist.train_images()\n",
    "train_labels = mnist.train_labels()"
   ]
  },
  {
   "cell_type": "code",
   "execution_count": 6,
   "id": "dceab3a5",
   "metadata": {
    "execution": {
     "iopub.execute_input": "2022-03-26T00:30:40.442596Z",
     "iopub.status.busy": "2022-03-26T00:30:40.442083Z",
     "iopub.status.idle": "2022-03-26T00:30:40.456775Z",
     "shell.execute_reply": "2022-03-26T00:30:40.456354Z"
    },
    "papermill": {
     "duration": 0.043301,
     "end_time": "2022-03-26T00:30:40.456882",
     "exception": false,
     "start_time": "2022-03-26T00:30:40.413581",
     "status": "completed"
    },
    "tags": []
   },
   "outputs": [
    {
     "data": {
      "text/plain": [
       "((60000, 28, 28), (60000,))"
      ]
     },
     "execution_count": 6,
     "metadata": {},
     "output_type": "execute_result"
    }
   ],
   "source": [
    "train_images.shape, train_labels.shape"
   ]
  },
  {
   "cell_type": "code",
   "execution_count": 7,
   "id": "f50dc2bb",
   "metadata": {
    "execution": {
     "iopub.execute_input": "2022-03-26T00:30:40.511997Z",
     "iopub.status.busy": "2022-03-26T00:30:40.511503Z",
     "iopub.status.idle": "2022-03-26T00:30:40.764426Z",
     "shell.execute_reply": "2022-03-26T00:30:40.764840Z"
    },
    "papermill": {
     "duration": 0.282413,
     "end_time": "2022-03-26T00:30:40.764978",
     "exception": false,
     "start_time": "2022-03-26T00:30:40.482565",
     "status": "completed"
    },
    "tags": []
   },
   "outputs": [],
   "source": [
    "test_images = mnist.test_images()\n",
    "test_labels = mnist.test_labels()"
   ]
  },
  {
   "cell_type": "code",
   "execution_count": 8,
   "id": "fc38cf1b",
   "metadata": {
    "execution": {
     "iopub.execute_input": "2022-03-26T00:30:40.820792Z",
     "iopub.status.busy": "2022-03-26T00:30:40.820288Z",
     "iopub.status.idle": "2022-03-26T00:30:40.832014Z",
     "shell.execute_reply": "2022-03-26T00:30:40.831594Z"
    },
    "papermill": {
     "duration": 0.041101,
     "end_time": "2022-03-26T00:30:40.832120",
     "exception": false,
     "start_time": "2022-03-26T00:30:40.791019",
     "status": "completed"
    },
    "tags": []
   },
   "outputs": [
    {
     "data": {
      "text/plain": [
       "((10000, 28, 28), (10000,))"
      ]
     },
     "execution_count": 8,
     "metadata": {},
     "output_type": "execute_result"
    }
   ],
   "source": [
    "test_images.shape, test_labels.shape"
   ]
  },
  {
   "cell_type": "code",
   "execution_count": 9,
   "id": "f9ed8fe0",
   "metadata": {
    "execution": {
     "iopub.execute_input": "2022-03-26T00:30:40.888015Z",
     "iopub.status.busy": "2022-03-26T00:30:40.887502Z",
     "iopub.status.idle": "2022-03-26T00:30:41.020014Z",
     "shell.execute_reply": "2022-03-26T00:30:41.019592Z"
    },
    "papermill": {
     "duration": 0.161792,
     "end_time": "2022-03-26T00:30:41.020127",
     "exception": false,
     "start_time": "2022-03-26T00:30:40.858335",
     "status": "completed"
    },
    "tags": []
   },
   "outputs": [
    {
     "name": "stdout",
     "output_type": "stream",
     "text": [
      "2\n"
     ]
    },
    {
     "data": {
      "text/plain": [
       "<matplotlib.image.AxesImage at 0x7f0a6a2cf550>"
      ]
     },
     "execution_count": 9,
     "metadata": {},
     "output_type": "execute_result"
    },
    {
     "data": {
      "image/png": "[encoded data removed]",
      "text/plain": [
       "<Figure size 432x288 with 1 Axes>"
      ]
     },
     "metadata": {
      "needs_background": "light"
     },
     "output_type": "display_data"
    }
   ],
   "source": [
    "image_index = 7776 # You may select anything up to 60,000\n",
    "print(train_labels[image_index]) \n",
    "plt.imshow(train_images[image_index], cmap='Greys')"
   ]
  },
  {
   "cell_type": "markdown",
   "id": "a8d2388d",
   "metadata": {
    "papermill": {
     "duration": 0.027115,
     "end_time": "2022-03-26T00:30:41.074655",
     "exception": false,
     "start_time": "2022-03-26T00:30:41.047540",
     "status": "completed"
    },
    "tags": []
   },
   "source": [
    "## Filter data to get 3 and 8 out"
   ]
  },
  {
   "cell_type": "code",
   "execution_count": 10,
   "id": "776f7fc7",
   "metadata": {
    "execution": {
     "iopub.execute_input": "2022-03-26T00:30:41.133288Z",
     "iopub.status.busy": "2022-03-26T00:30:41.132757Z",
     "iopub.status.idle": "2022-03-26T00:30:41.149570Z",
     "shell.execute_reply": "2022-03-26T00:30:41.149094Z"
    },
    "papermill": {
     "duration": 0.047705,
     "end_time": "2022-03-26T00:30:41.149682",
     "exception": false,
     "start_time": "2022-03-26T00:30:41.101977",
     "status": "completed"
    },
    "tags": []
   },
   "outputs": [],
   "source": [
    "train_filter = np.where((train_labels == 3 ) | (train_labels == 8))\n",
    "test_filter = np.where((test_labels == 3) | (test_labels == 8))\n",
    "X_train, y_train = train_images[train_filter], train_labels[train_filter]\n",
    "X_test, y_test = test_images[test_filter], test_labels[test_filter]"
   ]
  },
  {
   "cell_type": "markdown",
   "id": "948f0b7e",
   "metadata": {
    "papermill": {
     "duration": 0.027032,
     "end_time": "2022-03-26T00:30:41.203995",
     "exception": false,
     "start_time": "2022-03-26T00:30:41.176963",
     "status": "completed"
    },
    "tags": []
   },
   "source": [
    "We normalize the pizel values in the 0 to 1 range"
   ]
  },
  {
   "cell_type": "code",
   "execution_count": 11,
   "id": "ee4c2166",
   "metadata": {
    "execution": {
     "iopub.execute_input": "2022-03-26T00:30:41.261588Z",
     "iopub.status.busy": "2022-03-26T00:30:41.261045Z",
     "iopub.status.idle": "2022-03-26T00:30:41.299614Z",
     "shell.execute_reply": "2022-03-26T00:30:41.299125Z"
    },
    "papermill": {
     "duration": 0.068624,
     "end_time": "2022-03-26T00:30:41.299727",
     "exception": false,
     "start_time": "2022-03-26T00:30:41.231103",
     "status": "completed"
    },
    "tags": []
   },
   "outputs": [],
   "source": [
    "X_train = X_train/255.\n",
    "X_test = X_test/255."
   ]
  },
  {
   "cell_type": "markdown",
   "id": "ddcf4fab",
   "metadata": {
    "papermill": {
     "duration": 0.02743,
     "end_time": "2022-03-26T00:30:41.354490",
     "exception": false,
     "start_time": "2022-03-26T00:30:41.327060",
     "status": "completed"
    },
    "tags": []
   },
   "source": [
    "And setup the labels as 1 (when the digit is 3) and 0 (when the digit is 8)"
   ]
  },
  {
   "cell_type": "code",
   "execution_count": 12,
   "id": "7dc908f2",
   "metadata": {
    "execution": {
     "iopub.execute_input": "2022-03-26T00:30:41.411921Z",
     "iopub.status.busy": "2022-03-26T00:30:41.411418Z",
     "iopub.status.idle": "2022-03-26T00:30:41.422251Z",
     "shell.execute_reply": "2022-03-26T00:30:41.422672Z"
    },
    "papermill": {
     "duration": 0.041313,
     "end_time": "2022-03-26T00:30:41.422791",
     "exception": false,
     "start_time": "2022-03-26T00:30:41.381478",
     "status": "completed"
    },
    "tags": []
   },
   "outputs": [],
   "source": [
    "y_train = 1*(y_train==3)\n",
    "y_test = 1*(y_test==3)"
   ]
  },
  {
   "cell_type": "code",
   "execution_count": 13,
   "id": "01e4e969",
   "metadata": {
    "execution": {
     "iopub.execute_input": "2022-03-26T00:30:41.480737Z",
     "iopub.status.busy": "2022-03-26T00:30:41.480211Z",
     "iopub.status.idle": "2022-03-26T00:30:41.492924Z",
     "shell.execute_reply": "2022-03-26T00:30:41.492521Z"
    },
    "papermill": {
     "duration": 0.043113,
     "end_time": "2022-03-26T00:30:41.493031",
     "exception": false,
     "start_time": "2022-03-26T00:30:41.449918",
     "status": "completed"
    },
    "tags": []
   },
   "outputs": [
    {
     "data": {
      "text/plain": [
       "((11982, 28, 28), (1984, 28, 28))"
      ]
     },
     "execution_count": 13,
     "metadata": {},
     "output_type": "execute_result"
    }
   ],
   "source": [
    "X_train.shape, X_test.shape"
   ]
  },
  {
   "cell_type": "markdown",
   "id": "5ccf3f85",
   "metadata": {
    "papermill": {
     "duration": 0.027287,
     "end_time": "2022-03-26T00:30:41.547579",
     "exception": false,
     "start_time": "2022-03-26T00:30:41.520292",
     "status": "completed"
    },
    "tags": []
   },
   "source": [
    "We reshape the data to flatten the image pixels into a set of features or co-variates:"
   ]
  },
  {
   "cell_type": "code",
   "execution_count": 14,
   "id": "5286a4a3",
   "metadata": {
    "execution": {
     "iopub.execute_input": "2022-03-26T00:30:41.606251Z",
     "iopub.status.busy": "2022-03-26T00:30:41.605754Z",
     "iopub.status.idle": "2022-03-26T00:30:41.618263Z",
     "shell.execute_reply": "2022-03-26T00:30:41.617862Z"
    },
    "papermill": {
     "duration": 0.043286,
     "end_time": "2022-03-26T00:30:41.618372",
     "exception": false,
     "start_time": "2022-03-26T00:30:41.575086",
     "status": "completed"
    },
    "tags": []
   },
   "outputs": [
    {
     "data": {
      "text/plain": [
       "((11982, 784), (1984, 784))"
      ]
     },
     "execution_count": 14,
     "metadata": {},
     "output_type": "execute_result"
    }
   ],
   "source": [
    "X_train = X_train.reshape(X_train.shape[0], -1)\n",
    "X_test = X_test.reshape(X_test.shape[0], -1)\n",
    "X_train.shape, X_test.shape"
   ]
  },
  {
   "cell_type": "code",
   "execution_count": 15,
   "id": "73c5f88a",
   "metadata": {
    "execution": {
     "iopub.execute_input": "2022-03-26T00:30:41.677462Z",
     "iopub.status.busy": "2022-03-26T00:30:41.676935Z",
     "iopub.status.idle": "2022-03-26T00:30:41.694703Z",
     "shell.execute_reply": "2022-03-26T00:30:41.695077Z"
    },
    "papermill": {
     "duration": 0.04918,
     "end_time": "2022-03-26T00:30:41.695200",
     "exception": false,
     "start_time": "2022-03-26T00:30:41.646020",
     "status": "completed"
    },
    "tags": []
   },
   "outputs": [],
   "source": [
    "#Impoting functions from 'Kudzu'\n",
    "from kudzu.model import Model\n",
    "from kudzu.train import Learner\n",
    "from kudzu.optim import GD\n",
    "from kudzu.data import Data, Sampler,Dataloader\n",
    "\n",
    "from kudzu.callbacks import AccCallback\n",
    "from kudzu.callbacks import ClfCallback\n",
    "\n",
    "from kudzu.loss import MSE\n",
    "\n",
    "from kudzu.layer import Sigmoid,Relu\n",
    "from kudzu.layer import Affine"
   ]
  },
  {
   "cell_type": "markdown",
   "id": "bc01172a",
   "metadata": {
    "papermill": {
     "duration": 0.027807,
     "end_time": "2022-03-26T00:30:41.750809",
     "exception": false,
     "start_time": "2022-03-26T00:30:41.723002",
     "status": "completed"
    },
    "tags": []
   },
   "source": [
    "### Let us create a `Config` class, to store important parameters. \n",
    "This class essentially plays the role of a dictionary."
   ]
  },
  {
   "cell_type": "code",
   "execution_count": 16,
   "id": "978281aa",
   "metadata": {
    "execution": {
     "iopub.execute_input": "2022-03-26T00:30:41.809440Z",
     "iopub.status.busy": "2022-03-26T00:30:41.808909Z",
     "iopub.status.idle": "2022-03-26T00:30:41.820788Z",
     "shell.execute_reply": "2022-03-26T00:30:41.820378Z"
    },
    "papermill": {
     "duration": 0.042502,
     "end_time": "2022-03-26T00:30:41.820898",
     "exception": false,
     "start_time": "2022-03-26T00:30:41.778396",
     "status": "completed"
    },
    "tags": []
   },
   "outputs": [],
   "source": [
    "class Config:\n",
    "    pass\n",
    "config = Config()\n",
    "config.lr = 0.001\n",
    "config.num_epochs = 250\n",
    "config.bs = 50"
   ]
  },
  {
   "cell_type": "markdown",
   "id": "1385fa59",
   "metadata": {
    "papermill": {
     "duration": 0.027522,
     "end_time": "2022-03-26T00:30:41.876065",
     "exception": false,
     "start_time": "2022-03-26T00:30:41.848543",
     "status": "completed"
    },
    "tags": []
   },
   "source": [
    "### Running Models with the Training data\n",
    "Details about the network layers:\n",
    "- A first affine layer has 784 inputs and does 100 affine transforms. These are followed by a Relu\n",
    "- A second affine layer has 100 inputs from the 100 activations of the past layer, and does 100 affine transforms. These are followed by a Relu\n",
    "- A third affine layer has 100 activations and does 2 affine transformations to create an embedding for visualization. There is no non-linearity here.\n",
    "- A final \"logistic regression\" which has an affine transform from 2 inputs to 1 output, which is squeezed through a sigmoid.\n"
   ]
  },
  {
   "cell_type": "code",
   "execution_count": 17,
   "id": "2b9c66db",
   "metadata": {
    "execution": {
     "iopub.execute_input": "2022-03-26T00:30:41.935139Z",
     "iopub.status.busy": "2022-03-26T00:30:41.934617Z",
     "iopub.status.idle": "2022-03-26T00:30:41.946910Z",
     "shell.execute_reply": "2022-03-26T00:30:41.947331Z"
    },
    "papermill": {
     "duration": 0.043824,
     "end_time": "2022-03-26T00:30:41.947461",
     "exception": false,
     "start_time": "2022-03-26T00:30:41.903637",
     "status": "completed"
    },
    "tags": []
   },
   "outputs": [],
   "source": [
    "data = Data(X_train, y_train.reshape(-1,1))\n",
    "sampler = Sampler(data, config.bs, shuffle=True)\n",
    "\n",
    "dl = Dataloader(data, sampler)\n",
    "\n",
    "opt = GD(config.lr)\n",
    "loss = MSE()"
   ]
  },
  {
   "cell_type": "code",
   "execution_count": 18,
   "id": "b275e4c2",
   "metadata": {
    "execution": {
     "iopub.execute_input": "2022-03-26T00:30:42.006519Z",
     "iopub.status.busy": "2022-03-26T00:30:42.006002Z",
     "iopub.status.idle": "2022-03-26T00:30:42.019577Z",
     "shell.execute_reply": "2022-03-26T00:30:42.018935Z"
    },
    "papermill": {
     "duration": 0.044406,
     "end_time": "2022-03-26T00:30:42.019685",
     "exception": false,
     "start_time": "2022-03-26T00:30:41.975279",
     "status": "completed"
    },
    "tags": []
   },
   "outputs": [],
   "source": [
    "training_data_x = X_train\n",
    "testing_data_x = X_test\n",
    "training_data_y = y_train.reshape(-1,1)\n",
    "testing_data_y = y_test.reshape(-1,1)"
   ]
  },
  {
   "cell_type": "code",
   "execution_count": 19,
   "id": "76951160",
   "metadata": {
    "execution": {
     "iopub.execute_input": "2022-03-26T00:30:42.079136Z",
     "iopub.status.busy": "2022-03-26T00:30:42.078611Z",
     "iopub.status.idle": "2022-03-26T00:30:42.095422Z",
     "shell.execute_reply": "2022-03-26T00:30:42.094506Z"
    },
    "papermill": {
     "duration": 0.04827,
     "end_time": "2022-03-26T00:30:42.095533",
     "exception": false,
     "start_time": "2022-03-26T00:30:42.047263",
     "status": "completed"
    },
    "tags": []
   },
   "outputs": [
    {
     "name": "stdout",
     "output_type": "stream",
     "text": [
      "xavier\n",
      "xavier\n",
      "xavier\n",
      "xavier\n",
      "xavier\n"
     ]
    }
   ],
   "source": [
    "layers = [Affine(\"first\", 784, 100), Relu(\"first\"), Affine(\"second\", 100, 100), Relu(\"second\"), Affine(\"third\", 100, 2), Affine(\"last\", 2, 1), Sigmoid(\"last\")]\n",
    "model_nn = Model(layers)\n",
    "model_lr = Model([Affine(\"logits\", 784, 1), Sigmoid(\"sigmoid\")])"
   ]
  },
  {
   "cell_type": "code",
   "execution_count": 20,
   "id": "6eede77a",
   "metadata": {
    "execution": {
     "iopub.execute_input": "2022-03-26T00:30:42.155101Z",
     "iopub.status.busy": "2022-03-26T00:30:42.154594Z",
     "iopub.status.idle": "2022-03-26T00:30:42.165851Z",
     "shell.execute_reply": "2022-03-26T00:30:42.165442Z"
    },
    "papermill": {
     "duration": 0.042288,
     "end_time": "2022-03-26T00:30:42.165958",
     "exception": false,
     "start_time": "2022-03-26T00:30:42.123670",
     "status": "completed"
    },
    "tags": []
   },
   "outputs": [],
   "source": [
    "nn_learner = Learner(loss, model_nn, opt, config.num_epochs)\n",
    "acc_nn = ClfCallback(nn_learner, config.bs, training_data_x , testing_data_x, training_data_y, testing_data_y)\n",
    "nn_learner.set_callbacks([acc_nn])"
   ]
  },
  {
   "cell_type": "code",
   "execution_count": 21,
   "id": "877b6cc7",
   "metadata": {
    "execution": {
     "iopub.execute_input": "2022-03-26T00:30:42.225809Z",
     "iopub.status.busy": "2022-03-26T00:30:42.225301Z",
     "iopub.status.idle": "2022-03-26T00:30:42.236710Z",
     "shell.execute_reply": "2022-03-26T00:30:42.236276Z"
    },
    "papermill": {
     "duration": 0.042876,
     "end_time": "2022-03-26T00:30:42.236814",
     "exception": false,
     "start_time": "2022-03-26T00:30:42.193938",
     "status": "completed"
    },
    "tags": []
   },
   "outputs": [],
   "source": [
    "lr_learner = Learner(loss, model_lr, opt, config.num_epochs)\n",
    "acc_lr = ClfCallback(lr_learner, config.bs, training_data_x , testing_data_x, training_data_y, testing_data_y)\n",
    "lr_learner.set_callbacks([acc_lr])"
   ]
  },
  {
   "cell_type": "code",
   "execution_count": 22,
   "id": "d9b133c3",
   "metadata": {
    "execution": {
     "iopub.execute_input": "2022-03-26T00:30:42.295978Z",
     "iopub.status.busy": "2022-03-26T00:30:42.295267Z",
     "iopub.status.idle": "2022-03-26T00:33:38.159380Z",
     "shell.execute_reply": "2022-03-26T00:33:38.159797Z"
    },
    "papermill": {
     "duration": 175.895139,
     "end_time": "2022-03-26T00:33:38.159926",
     "exception": false,
     "start_time": "2022-03-26T00:30:42.264787",
     "status": "completed"
    },
    "tags": []
   },
   "outputs": [
    {
     "name": "stdout",
     "output_type": "stream",
     "text": [
      "Epoch 0, Loss 0.2294\n",
      "Training Accuracy: 0.7358, Testing Accuracy: 0.7636\n",
      "\n"
     ]
    },
    {
     "name": "stdout",
     "output_type": "stream",
     "text": [
      "Epoch 10, Loss 0.0809\n",
      "Training Accuracy: 0.9205, Testing Accuracy: 0.9330\n",
      "\n"
     ]
    },
    {
     "name": "stdout",
     "output_type": "stream",
     "text": [
      "Epoch 20, Loss 0.0526\n",
      "Training Accuracy: 0.9433, Testing Accuracy: 0.9531\n",
      "\n"
     ]
    },
    {
     "name": "stdout",
     "output_type": "stream",
     "text": [
      "Epoch 30, Loss 0.0423\n",
      "Training Accuracy: 0.9526, Testing Accuracy: 0.9627\n",
      "\n"
     ]
    },
    {
     "name": "stdout",
     "output_type": "stream",
     "text": [
      "Epoch 40, Loss 0.037\n",
      "Training Accuracy: 0.9575, Testing Accuracy: 0.9657\n",
      "\n"
     ]
    },
    {
     "name": "stdout",
     "output_type": "stream",
     "text": [
      "Epoch 50, Loss 0.0337\n",
      "Training Accuracy: 0.9611, Testing Accuracy: 0.9688\n",
      "\n"
     ]
    },
    {
     "name": "stdout",
     "output_type": "stream",
     "text": [
      "Epoch 60, Loss 0.0313\n",
      "Training Accuracy: 0.9632, Testing Accuracy: 0.9688\n",
      "\n"
     ]
    },
    {
     "name": "stdout",
     "output_type": "stream",
     "text": [
      "Epoch 70, Loss 0.0295\n",
      "Training Accuracy: 0.9660, Testing Accuracy: 0.9693\n",
      "\n"
     ]
    },
    {
     "name": "stdout",
     "output_type": "stream",
     "text": [
      "Epoch 80, Loss 0.028\n",
      "Training Accuracy: 0.9675, Testing Accuracy: 0.9698\n",
      "\n"
     ]
    },
    {
     "name": "stdout",
     "output_type": "stream",
     "text": [
      "Epoch 90, Loss 0.0268\n",
      "Training Accuracy: 0.9691, Testing Accuracy: 0.9698\n",
      "\n"
     ]
    },
    {
     "name": "stdout",
     "output_type": "stream",
     "text": [
      "Epoch 100, Loss 0.0257\n",
      "Training Accuracy: 0.9701, Testing Accuracy: 0.9713\n",
      "\n"
     ]
    },
    {
     "name": "stdout",
     "output_type": "stream",
     "text": [
      "Epoch 110, Loss 0.0248\n",
      "Training Accuracy: 0.9711, Testing Accuracy: 0.9718\n",
      "\n"
     ]
    },
    {
     "name": "stdout",
     "output_type": "stream",
     "text": [
      "Epoch 120, Loss 0.0239\n",
      "Training Accuracy: 0.9720, Testing Accuracy: 0.9728\n",
      "\n"
     ]
    },
    {
     "name": "stdout",
     "output_type": "stream",
     "text": [
      "Epoch 130, Loss 0.0232\n",
      "Training Accuracy: 0.9732, Testing Accuracy: 0.9733\n",
      "\n"
     ]
    },
    {
     "name": "stdout",
     "output_type": "stream",
     "text": [
      "Epoch 140, Loss 0.0225\n",
      "Training Accuracy: 0.9742, Testing Accuracy: 0.9738\n",
      "\n"
     ]
    },
    {
     "name": "stdout",
     "output_type": "stream",
     "text": [
      "Epoch 150, Loss 0.0219\n",
      "Training Accuracy: 0.9746, Testing Accuracy: 0.9733\n",
      "\n"
     ]
    },
    {
     "name": "stdout",
     "output_type": "stream",
     "text": [
      "Epoch 160, Loss 0.0213\n",
      "Training Accuracy: 0.9755, Testing Accuracy: 0.9728\n",
      "\n"
     ]
    },
    {
     "name": "stdout",
     "output_type": "stream",
     "text": [
      "Epoch 170, Loss 0.0207\n",
      "Training Accuracy: 0.9760, Testing Accuracy: 0.9748\n",
      "\n"
     ]
    },
    {
     "name": "stdout",
     "output_type": "stream",
     "text": [
      "Epoch 180, Loss 0.0202\n",
      "Training Accuracy: 0.9768, Testing Accuracy: 0.9758\n",
      "\n"
     ]
    },
    {
     "name": "stdout",
     "output_type": "stream",
     "text": [
      "Epoch 190, Loss 0.0197\n",
      "Training Accuracy: 0.9775, Testing Accuracy: 0.9748\n",
      "\n"
     ]
    },
    {
     "name": "stdout",
     "output_type": "stream",
     "text": [
      "Epoch 200, Loss 0.0192\n",
      "Training Accuracy: 0.9781, Testing Accuracy: 0.9758\n",
      "\n"
     ]
    },
    {
     "name": "stdout",
     "output_type": "stream",
     "text": [
      "Epoch 210, Loss 0.0188\n",
      "Training Accuracy: 0.9788, Testing Accuracy: 0.9753\n",
      "\n"
     ]
    },
    {
     "name": "stdout",
     "output_type": "stream",
     "text": [
      "Epoch 220, Loss 0.0183\n",
      "Training Accuracy: 0.9797, Testing Accuracy: 0.9763\n",
      "\n"
     ]
    },
    {
     "name": "stdout",
     "output_type": "stream",
     "text": [
      "Epoch 230, Loss 0.0179\n",
      "Training Accuracy: 0.9804, Testing Accuracy: 0.9763\n",
      "\n"
     ]
    },
    {
     "name": "stdout",
     "output_type": "stream",
     "text": [
      "Epoch 240, Loss 0.0175\n",
      "Training Accuracy: 0.9810, Testing Accuracy: 0.9768\n",
      "\n"
     ]
    },
    {
     "data": {
      "text/plain": [
       "0.01286035307102536"
      ]
     },
     "execution_count": 22,
     "metadata": {},
     "output_type": "execute_result"
    }
   ],
   "source": [
    "nn_learner.train_loop(dl)"
   ]
  },
  {
   "cell_type": "code",
   "execution_count": 23,
   "id": "e0163366",
   "metadata": {
    "execution": {
     "iopub.execute_input": "2022-03-26T00:33:38.233322Z",
     "iopub.status.busy": "2022-03-26T00:33:38.232748Z",
     "iopub.status.idle": "2022-03-26T00:33:50.389356Z",
     "shell.execute_reply": "2022-03-26T00:33:50.390047Z"
    },
    "papermill": {
     "duration": 12.195089,
     "end_time": "2022-03-26T00:33:50.390180",
     "exception": false,
     "start_time": "2022-03-26T00:33:38.195091",
     "status": "completed"
    },
    "tags": []
   },
   "outputs": [
    {
     "name": "stdout",
     "output_type": "stream",
     "text": [
      "Epoch 0, Loss 0.2424\n",
      "Training Accuracy: 0.6763, Testing Accuracy: 0.6699\n",
      "\n"
     ]
    },
    {
     "name": "stdout",
     "output_type": "stream",
     "text": [
      "Epoch 10, Loss 0.1062\n",
      "Training Accuracy: 0.9010, Testing Accuracy: 0.9133\n",
      "\n"
     ]
    },
    {
     "name": "stdout",
     "output_type": "stream",
     "text": [
      "Epoch 20, Loss 0.0806\n",
      "Training Accuracy: 0.9261, Testing Accuracy: 0.9370\n",
      "\n"
     ]
    },
    {
     "name": "stdout",
     "output_type": "stream",
     "text": [
      "Epoch 30, Loss 0.0689\n",
      "Training Accuracy: 0.9359, Testing Accuracy: 0.9471\n",
      "\n"
     ]
    },
    {
     "name": "stdout",
     "output_type": "stream",
     "text": [
      "Epoch 40, Loss 0.0619\n",
      "Training Accuracy: 0.9416, Testing Accuracy: 0.9511\n",
      "\n"
     ]
    },
    {
     "name": "stdout",
     "output_type": "stream",
     "text": [
      "Epoch 50, Loss 0.0572\n",
      "Training Accuracy: 0.9447, Testing Accuracy: 0.9536\n",
      "\n"
     ]
    },
    {
     "name": "stdout",
     "output_type": "stream",
     "text": [
      "Epoch 60, Loss 0.0538\n",
      "Training Accuracy: 0.9471, Testing Accuracy: 0.9551\n",
      "\n"
     ]
    },
    {
     "name": "stdout",
     "output_type": "stream",
     "text": [
      "Epoch 70, Loss 0.0512\n",
      "Training Accuracy: 0.9489, Testing Accuracy: 0.9582\n",
      "\n"
     ]
    },
    {
     "name": "stdout",
     "output_type": "stream",
     "text": [
      "Epoch 80, Loss 0.0492\n",
      "Training Accuracy: 0.9510, Testing Accuracy: 0.9617\n",
      "\n"
     ]
    },
    {
     "name": "stdout",
     "output_type": "stream",
     "text": [
      "Epoch 90, Loss 0.0475\n",
      "Training Accuracy: 0.9523, Testing Accuracy: 0.9622\n",
      "\n"
     ]
    },
    {
     "name": "stdout",
     "output_type": "stream",
     "text": [
      "Epoch 100, Loss 0.046\n",
      "Training Accuracy: 0.9531, Testing Accuracy: 0.9637\n",
      "\n"
     ]
    },
    {
     "name": "stdout",
     "output_type": "stream",
     "text": [
      "Epoch 110, Loss 0.0448\n",
      "Training Accuracy: 0.9538, Testing Accuracy: 0.9642\n",
      "\n"
     ]
    },
    {
     "name": "stdout",
     "output_type": "stream",
     "text": [
      "Epoch 120, Loss 0.0438\n",
      "Training Accuracy: 0.9546, Testing Accuracy: 0.9647\n",
      "\n"
     ]
    },
    {
     "name": "stdout",
     "output_type": "stream",
     "text": [
      "Epoch 130, Loss 0.0428\n",
      "Training Accuracy: 0.9550, Testing Accuracy: 0.9647\n",
      "\n"
     ]
    },
    {
     "name": "stdout",
     "output_type": "stream",
     "text": [
      "Epoch 140, Loss 0.042\n",
      "Training Accuracy: 0.9558, Testing Accuracy: 0.9642\n",
      "\n"
     ]
    },
    {
     "name": "stdout",
     "output_type": "stream",
     "text": [
      "Epoch 150, Loss 0.0413\n",
      "Training Accuracy: 0.9564, Testing Accuracy: 0.9642\n",
      "\n"
     ]
    },
    {
     "name": "stdout",
     "output_type": "stream",
     "text": [
      "Epoch 160, Loss 0.0406\n",
      "Training Accuracy: 0.9567, Testing Accuracy: 0.9652\n",
      "\n"
     ]
    },
    {
     "name": "stdout",
     "output_type": "stream",
     "text": [
      "Epoch 170, Loss 0.04\n",
      "Training Accuracy: 0.9572, Testing Accuracy: 0.9647\n",
      "\n"
     ]
    },
    {
     "name": "stdout",
     "output_type": "stream",
     "text": [
      "Epoch 180, Loss 0.0395\n",
      "Training Accuracy: 0.9576, Testing Accuracy: 0.9647\n",
      "\n"
     ]
    },
    {
     "name": "stdout",
     "output_type": "stream",
     "text": [
      "Epoch 190, Loss 0.0389\n",
      "Training Accuracy: 0.9579, Testing Accuracy: 0.9642\n",
      "\n"
     ]
    },
    {
     "name": "stdout",
     "output_type": "stream",
     "text": [
      "Epoch 200, Loss 0.0385\n",
      "Training Accuracy: 0.9581, Testing Accuracy: 0.9647\n",
      "\n"
     ]
    },
    {
     "name": "stdout",
     "output_type": "stream",
     "text": [
      "Epoch 210, Loss 0.038\n",
      "Training Accuracy: 0.9586, Testing Accuracy: 0.9647\n",
      "\n"
     ]
    },
    {
     "name": "stdout",
     "output_type": "stream",
     "text": [
      "Epoch 220, Loss 0.0376\n",
      "Training Accuracy: 0.9588, Testing Accuracy: 0.9647\n",
      "\n"
     ]
    },
    {
     "name": "stdout",
     "output_type": "stream",
     "text": [
      "Epoch 230, Loss 0.0373\n",
      "Training Accuracy: 0.9589, Testing Accuracy: 0.9647\n",
      "\n"
     ]
    },
    {
     "name": "stdout",
     "output_type": "stream",
     "text": [
      "Epoch 240, Loss 0.0369\n",
      "Training Accuracy: 0.9592, Testing Accuracy: 0.9657\n",
      "\n"
     ]
    },
    {
     "data": {
      "text/plain": [
       "0.07804238534209851"
      ]
     },
     "execution_count": 23,
     "metadata": {},
     "output_type": "execute_result"
    }
   ],
   "source": [
    "lr_learner.train_loop(dl)"
   ]
  },
  {
   "cell_type": "code",
   "execution_count": 24,
   "id": "ca410940",
   "metadata": {
    "execution": {
     "iopub.execute_input": "2022-03-26T00:33:50.481445Z",
     "iopub.status.busy": "2022-03-26T00:33:50.480912Z",
     "iopub.status.idle": "2022-03-26T00:33:50.704135Z",
     "shell.execute_reply": "2022-03-26T00:33:50.703303Z"
    },
    "papermill": {
     "duration": 0.272048,
     "end_time": "2022-03-26T00:33:50.704260",
     "exception": false,
     "start_time": "2022-03-26T00:33:50.432212",
     "status": "completed"
    },
    "tags": []
   },
   "outputs": [
    {
     "data": {
      "text/plain": [
       "<matplotlib.legend.Legend at 0x7f0a69eaac88>"
      ]
     },
     "execution_count": 24,
     "metadata": {},
     "output_type": "execute_result"
    },
    {
     "data": {
      "image/png": "[encoded data removed]",
      "text/plain": [
       "<Figure size 1080x720 with 1 Axes>"
      ]
     },
     "metadata": {
      "needs_background": "light"
     },
     "output_type": "display_data"
    }
   ],
   "source": [
    "#comparing the results of NN and LR\n",
    "plt.figure(figsize=(15,10))\n",
    "\n",
    "# Neural Network plots\n",
    "plt.plot(acc_nn.accuracies, 'r-', label = \"Training Accuracies - NN\")\n",
    "plt.plot(acc_nn.test_accuracies, 'g-', label = \"Testing Accuracies - NN\")\n",
    "\n",
    "# Logistic Regression plots\n",
    "plt.plot(acc_lr.accuracies, 'k-', label = \"Training Accuracies - LR\")\n",
    "plt.plot(acc_lr.test_accuracies, 'b-', label = \"Testing Accuracies - LR\")\n",
    "plt.legend()"
   ]
  },
  {
   "cell_type": "markdown",
   "id": "80dfb35c",
   "metadata": {
    "papermill": {
     "duration": 0.043214,
     "end_time": "2022-03-26T00:33:50.791273",
     "exception": false,
     "start_time": "2022-03-26T00:33:50.748059",
     "status": "completed"
    },
    "tags": []
   },
   "source": [
    "#### Plotting the outputs of this layer of the NN.\n"
   ]
  },
  {
   "cell_type": "code",
   "execution_count": 25,
   "id": "45eb2ff5",
   "metadata": {
    "execution": {
     "iopub.execute_input": "2022-03-26T00:33:50.881706Z",
     "iopub.status.busy": "2022-03-26T00:33:50.881180Z",
     "iopub.status.idle": "2022-03-26T00:33:50.916111Z",
     "shell.execute_reply": "2022-03-26T00:33:50.916513Z"
    },
    "papermill": {
     "duration": 0.08193,
     "end_time": "2022-03-26T00:33:50.916649",
     "exception": false,
     "start_time": "2022-03-26T00:33:50.834719",
     "status": "completed"
    },
    "tags": []
   },
   "outputs": [],
   "source": [
    "new_model = Model(layers[:-2])\n",
    "testing_plot = new_model(testing_data_x)"
   ]
  },
  {
   "cell_type": "code",
   "execution_count": 26,
   "id": "4c0a5485",
   "metadata": {
    "execution": {
     "iopub.execute_input": "2022-03-26T00:33:51.014582Z",
     "iopub.status.busy": "2022-03-26T00:33:51.012583Z",
     "iopub.status.idle": "2022-03-26T00:33:51.191183Z",
     "shell.execute_reply": "2022-03-26T00:33:51.190762Z"
    },
    "papermill": {
     "duration": 0.226448,
     "end_time": "2022-03-26T00:33:51.191298",
     "exception": false,
     "start_time": "2022-03-26T00:33:50.964850",
     "status": "completed"
    },
    "tags": []
   },
   "outputs": [
    {
     "data": {
      "text/plain": [
       "Text(0.5, 1.0, 'Outputs')"
      ]
     },
     "execution_count": 26,
     "metadata": {},
     "output_type": "execute_result"
    },
    {
     "data": {
      "image/png": "[encoded data removed]",
      "text/plain": [
       "<Figure size 576x504 with 1 Axes>"
      ]
     },
     "metadata": {
      "needs_background": "light"
     },
     "output_type": "display_data"
    }
   ],
   "source": [
    "# Plotting the scatter plot of points and color coding by class\n",
    "plt.figure(figsize=(8,7))\n",
    "plt.scatter(testing_plot[:,0], testing_plot[:,1], alpha = 0.1, c = y_test.ravel());\n",
    "plt.title('Outputs')"
   ]
  },
  {
   "cell_type": "markdown",
   "id": "a74fcf8f",
   "metadata": {
    "papermill": {
     "duration": 0.045314,
     "end_time": "2022-03-26T00:33:51.281833",
     "exception": false,
     "start_time": "2022-03-26T00:33:51.236519",
     "status": "completed"
    },
    "tags": []
   },
   "source": [
    "Probability contours"
   ]
  },
  {
   "cell_type": "code",
   "execution_count": 27,
   "id": "d0afc8e3",
   "metadata": {
    "execution": {
     "iopub.execute_input": "2022-03-26T00:33:51.376445Z",
     "iopub.status.busy": "2022-03-26T00:33:51.375595Z",
     "iopub.status.idle": "2022-03-26T00:33:51.386394Z",
     "shell.execute_reply": "2022-03-26T00:33:51.386775Z"
    },
    "papermill": {
     "duration": 0.059444,
     "end_time": "2022-03-26T00:33:51.386897",
     "exception": false,
     "start_time": "2022-03-26T00:33:51.327453",
     "status": "completed"
    },
    "tags": []
   },
   "outputs": [],
   "source": [
    "model_prob = Model(layers[-2:]) "
   ]
  },
  {
   "cell_type": "code",
   "execution_count": 28,
   "id": "9b96e238",
   "metadata": {
    "execution": {
     "iopub.execute_input": "2022-03-26T00:33:51.506032Z",
     "iopub.status.busy": "2022-03-26T00:33:51.501893Z",
     "iopub.status.idle": "2022-03-26T00:33:51.515880Z",
     "shell.execute_reply": "2022-03-26T00:33:51.515500Z"
    },
    "papermill": {
     "duration": 0.063153,
     "end_time": "2022-03-26T00:33:51.516000",
     "exception": false,
     "start_time": "2022-03-26T00:33:51.452847",
     "status": "completed"
    },
    "tags": []
   },
   "outputs": [],
   "source": [
    "#creating the x and y ranges according to the above generated plot.\n",
    "x_range = np.linspace(-4, 1, 100) \n",
    "y_range = np.linspace(-6, 6, 100) \n",
    "x_grid, y_grid = np.meshgrid(x_range, y_range) # x_grid and y_grig are of size 100 X 100\n",
    "\n",
    "# converting x_grid and y_grid to continuous arrays\n",
    "x_gridflat = np.ravel(x_grid)\n",
    "y_gridflat = np.ravel(y_grid)\n",
    "\n",
    "# The last layer of the current model takes two columns as input. Hence transpose of np.vstack() is required.\n",
    "X = np.vstack((x_gridflat, y_gridflat)).T\n",
    "\n",
    "prob_contour = model_prob(X).reshape(100,100) "
   ]
  },
  {
   "cell_type": "code",
   "execution_count": 29,
   "id": "da72499a",
   "metadata": {
    "execution": {
     "iopub.execute_input": "2022-03-26T00:33:51.610261Z",
     "iopub.status.busy": "2022-03-26T00:33:51.609768Z",
     "iopub.status.idle": "2022-03-26T00:33:51.843999Z",
     "shell.execute_reply": "2022-03-26T00:33:51.843570Z"
    },
    "papermill": {
     "duration": 0.282954,
     "end_time": "2022-03-26T00:33:51.844107",
     "exception": false,
     "start_time": "2022-03-26T00:33:51.561153",
     "status": "completed"
    },
    "tags": []
   },
   "outputs": [
    {
     "data": {
      "image/png": "[encoded data removed]",
      "text/plain": [
       "<Figure size 720x648 with 1 Axes>"
      ]
     },
     "metadata": {
      "needs_background": "light"
     },
     "output_type": "display_data"
    }
   ],
   "source": [
    "plt.figure(figsize=(10,9))\n",
    "plt.scatter(testing_plot[:,0], testing_plot[:,1], alpha = 0.1, c = y_test.ravel())\n",
    "contours = plt.contour(x_grid,y_grid,prob_contour)\n",
    "plt.title('Probability Contours')\n",
    "plt.clabel(contours, inline = True );"
   ]
  },
  {
   "cell_type": "code",
   "execution_count": null,
   "id": "e81b4ac7",
   "metadata": {
    "papermill": {
     "duration": 0.04776,
     "end_time": "2022-03-26T00:33:51.940006",
     "exception": false,
     "start_time": "2022-03-26T00:33:51.892246",
     "status": "completed"
    },
    "tags": []
   },
   "outputs": [],
   "source": []
  }
 ],
 "metadata": {
  "kernelspec": {
   "display_name": "Python 3",
   "language": "python",
   "name": "python3"
  },
  "language_info": {
   "codemirror_mode": {
    "name": "ipython",
    "version": 3
   },
   "file_extension": ".py",
   "mimetype": "text/x-python",
   "name": "python",
   "nbconvert_exporter": "python",
   "pygments_lexer": "ipython3",
   "version": "3.6.15"
  },
  "papermill": {
   "default_parameters": {},
   "duration": 196.282852,
   "end_time": "2022-03-26T00:33:52.305397",
   "environment_variables": {},
   "exception": null,
   "input_path": "2020-08-11-part2.ipynb",
   "output_path": "2020-08-11-part2.ipynb",
   "parameters": {},
   "start_time": "2022-03-26T00:30:36.022545",
   "version": "2.3.3"
  }
 },
 "nbformat": 4,
 "nbformat_minor": 5
}