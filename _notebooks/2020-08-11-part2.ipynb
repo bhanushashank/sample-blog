{
 "cells": [
  {
   "cell_type": "markdown",
   "id": "98380cd3",
   "metadata": {
    "papermill": {
     "duration": 0.028754,
     "end_time": "2022-04-06T10:11:02.503755",
     "exception": false,
     "start_time": "2022-04-06T10:11:02.475001",
     "status": "completed"
    },
    "tags": []
   },
   "source": [
    "# Distinguish Your Own Digits (DYOD)"
   ]
  },
  {
   "cell_type": "markdown",
   "id": "ef31240d",
   "metadata": {
    "papermill": {
     "duration": 0.025368,
     "end_time": "2022-04-06T10:11:02.553635",
     "exception": false,
     "start_time": "2022-04-06T10:11:02.528267",
     "status": "completed"
    },
    "tags": []
   },
   "source": [
    "You are going to write a classifier that distinguishes between the number 3 and number 8."
   ]
  },
  {
   "cell_type": "code",
   "execution_count": 1,
   "id": "b15c8646",
   "metadata": {
    "execution": {
     "iopub.execute_input": "2022-04-06T10:11:02.611562Z",
     "iopub.status.busy": "2022-04-06T10:11:02.611028Z",
     "iopub.status.idle": "2022-04-06T10:11:02.621844Z",
     "shell.execute_reply": "2022-04-06T10:11:02.622287Z"
    },
    "papermill": {
     "duration": 0.045134,
     "end_time": "2022-04-06T10:11:02.622436",
     "exception": false,
     "start_time": "2022-04-06T10:11:02.577302",
     "status": "completed"
    },
    "tags": []
   },
   "outputs": [],
   "source": [
    "%load_ext autoreload\n",
    "%autoreload 2"
   ]
  },
  {
   "cell_type": "code",
   "execution_count": 2,
   "id": "22ef38dc",
   "metadata": {
    "execution": {
     "iopub.execute_input": "2022-04-06T10:11:02.684783Z",
     "iopub.status.busy": "2022-04-06T10:11:02.681047Z",
     "iopub.status.idle": "2022-04-06T10:11:03.251680Z",
     "shell.execute_reply": "2022-04-06T10:11:03.251143Z"
    },
    "papermill": {
     "duration": 0.605547,
     "end_time": "2022-04-06T10:11:03.251822",
     "exception": false,
     "start_time": "2022-04-06T10:11:02.646275",
     "status": "completed"
    },
    "tags": []
   },
   "outputs": [],
   "source": [
    "%matplotlib inline\n",
    "import numpy as np\n",
    "import matplotlib.pyplot as plt\n",
    "import pandas as pd"
   ]
  },
  {
   "cell_type": "markdown",
   "id": "ba036198",
   "metadata": {
    "papermill": {
     "duration": 0.02394,
     "end_time": "2022-04-06T10:11:03.300162",
     "exception": false,
     "start_time": "2022-04-06T10:11:03.276222",
     "status": "completed"
    },
    "tags": []
   },
   "source": [
    "From the command line run `pip install mnist`. This is a library that will help you bring down the mnist dataset. If you run this from a notebook, you need to put  `!pip install mnist` in a cell by itself."
   ]
  },
  {
   "cell_type": "code",
   "execution_count": 3,
   "id": "bb6ad8a1",
   "metadata": {
    "execution": {
     "iopub.execute_input": "2022-04-06T10:11:03.360958Z",
     "iopub.status.busy": "2022-04-06T10:11:03.358044Z",
     "iopub.status.idle": "2022-04-06T10:11:05.150005Z",
     "shell.execute_reply": "2022-04-06T10:11:05.149020Z"
    },
    "papermill": {
     "duration": 1.826064,
     "end_time": "2022-04-06T10:11:05.150143",
     "exception": false,
     "start_time": "2022-04-06T10:11:03.324079",
     "status": "completed"
    },
    "tags": []
   },
   "outputs": [
    {
     "name": "stdout",
     "output_type": "stream",
     "text": [
      "Collecting mnist\r\n"
     ]
    },
    {
     "name": "stdout",
     "output_type": "stream",
     "text": [
      "  Downloading mnist-0.2.2-py2.py3-none-any.whl (3.5 kB)\r\n",
      "Requirement already satisfied: numpy in /opt/hostedtoolcache/Python/3.6.15/x64/lib/python3.6/site-packages (from mnist) (1.19.5)\r\n"
     ]
    },
    {
     "name": "stdout",
     "output_type": "stream",
     "text": [
      "Installing collected packages: mnist\r\n",
      "Successfully installed mnist-0.2.2\r\n"
     ]
    }
   ],
   "source": [
    "!pip install mnist"
   ]
  },
  {
   "cell_type": "markdown",
   "id": "69df9c9a",
   "metadata": {
    "papermill": {
     "duration": 0.024897,
     "end_time": "2022-04-06T10:11:05.200223",
     "exception": false,
     "start_time": "2022-04-06T10:11:05.175326",
     "status": "completed"
    },
    "tags": []
   },
   "source": [
    "## Preparing the Data"
   ]
  },
  {
   "cell_type": "code",
   "execution_count": 4,
   "id": "7f69d806",
   "metadata": {
    "execution": {
     "iopub.execute_input": "2022-04-06T10:11:05.253903Z",
     "iopub.status.busy": "2022-04-06T10:11:05.253294Z",
     "iopub.status.idle": "2022-04-06T10:11:05.267733Z",
     "shell.execute_reply": "2022-04-06T10:11:05.267315Z"
    },
    "papermill": {
     "duration": 0.042967,
     "end_time": "2022-04-06T10:11:05.267847",
     "exception": false,
     "start_time": "2022-04-06T10:11:05.224880",
     "status": "completed"
    },
    "tags": []
   },
   "outputs": [],
   "source": [
    "import mnist"
   ]
  },
  {
   "cell_type": "code",
   "execution_count": 5,
   "id": "a411e44f",
   "metadata": {
    "execution": {
     "iopub.execute_input": "2022-04-06T10:11:05.321397Z",
     "iopub.status.busy": "2022-04-06T10:11:05.320879Z",
     "iopub.status.idle": "2022-04-06T10:11:05.953444Z",
     "shell.execute_reply": "2022-04-06T10:11:05.952956Z"
    },
    "papermill": {
     "duration": 0.660909,
     "end_time": "2022-04-06T10:11:05.953577",
     "exception": false,
     "start_time": "2022-04-06T10:11:05.292668",
     "status": "completed"
    },
    "tags": []
   },
   "outputs": [],
   "source": [
    "train_images = mnist.train_images()\n",
    "train_labels = mnist.train_labels()"
   ]
  },
  {
   "cell_type": "code",
   "execution_count": 6,
   "id": "dceab3a5",
   "metadata": {
    "execution": {
     "iopub.execute_input": "2022-04-06T10:11:06.010219Z",
     "iopub.status.busy": "2022-04-06T10:11:06.009714Z",
     "iopub.status.idle": "2022-04-06T10:11:06.022384Z",
     "shell.execute_reply": "2022-04-06T10:11:06.021950Z"
    },
    "papermill": {
     "duration": 0.043825,
     "end_time": "2022-04-06T10:11:06.022493",
     "exception": false,
     "start_time": "2022-04-06T10:11:05.978668",
     "status": "completed"
    },
    "tags": []
   },
   "outputs": [
    {
     "data": {
      "text/plain": [
       "((60000, 28, 28), (60000,))"
      ]
     },
     "execution_count": 6,
     "metadata": {},
     "output_type": "execute_result"
    }
   ],
   "source": [
    "train_images.shape, train_labels.shape"
   ]
  },
  {
   "cell_type": "code",
   "execution_count": 7,
   "id": "f50dc2bb",
   "metadata": {
    "execution": {
     "iopub.execute_input": "2022-04-06T10:11:06.078779Z",
     "iopub.status.busy": "2022-04-06T10:11:06.078276Z",
     "iopub.status.idle": "2022-04-06T10:11:06.339651Z",
     "shell.execute_reply": "2022-04-06T10:11:06.339084Z"
    },
    "papermill": {
     "duration": 0.292407,
     "end_time": "2022-04-06T10:11:06.339802",
     "exception": false,
     "start_time": "2022-04-06T10:11:06.047395",
     "status": "completed"
    },
    "tags": []
   },
   "outputs": [],
   "source": [
    "test_images = mnist.test_images()\n",
    "test_labels = mnist.test_labels()"
   ]
  },
  {
   "cell_type": "code",
   "execution_count": 8,
   "id": "fc38cf1b",
   "metadata": {
    "execution": {
     "iopub.execute_input": "2022-04-06T10:11:06.394788Z",
     "iopub.status.busy": "2022-04-06T10:11:06.394274Z",
     "iopub.status.idle": "2022-04-06T10:11:06.407461Z",
     "shell.execute_reply": "2022-04-06T10:11:06.407048Z"
    },
    "papermill": {
     "duration": 0.041771,
     "end_time": "2022-04-06T10:11:06.407571",
     "exception": false,
     "start_time": "2022-04-06T10:11:06.365800",
     "status": "completed"
    },
    "tags": []
   },
   "outputs": [
    {
     "data": {
      "text/plain": [
       "((10000, 28, 28), (10000,))"
      ]
     },
     "execution_count": 8,
     "metadata": {},
     "output_type": "execute_result"
    }
   ],
   "source": [
    "test_images.shape, test_labels.shape"
   ]
  },
  {
   "cell_type": "code",
   "execution_count": 9,
   "id": "f9ed8fe0",
   "metadata": {
    "execution": {
     "iopub.execute_input": "2022-04-06T10:11:06.461633Z",
     "iopub.status.busy": "2022-04-06T10:11:06.461134Z",
     "iopub.status.idle": "2022-04-06T10:11:06.597069Z",
     "shell.execute_reply": "2022-04-06T10:11:06.597541Z"
    },
    "papermill": {
     "duration": 0.164634,
     "end_time": "2022-04-06T10:11:06.597677",
     "exception": false,
     "start_time": "2022-04-06T10:11:06.433043",
     "status": "completed"
    },
    "tags": []
   },
   "outputs": [
    {
     "name": "stdout",
     "output_type": "stream",
     "text": [
      "2\n"
     ]
    },
    {
     "data": {
      "text/plain": [
       "<matplotlib.image.AxesImage at 0x7fde04b904a8>"
      ]
     },
     "execution_count": 9,
     "metadata": {},
     "output_type": "execute_result"
    },
    {
     "data": {
      "image/png": "[encoded data removed]",
      "text/plain": [
       "<Figure size 432x288 with 1 Axes>"
      ]
     },
     "metadata": {
      "needs_background": "light"
     },
     "output_type": "display_data"
    }
   ],
   "source": [
    "image_index = 7776 # You may select anything up to 60,000\n",
    "print(train_labels[image_index]) \n",
    "plt.imshow(train_images[image_index], cmap='Greys')"
   ]
  },
  {
   "cell_type": "markdown",
   "id": "a8d2388d",
   "metadata": {
    "papermill": {
     "duration": 0.026289,
     "end_time": "2022-04-06T10:11:06.650492",
     "exception": false,
     "start_time": "2022-04-06T10:11:06.624203",
     "status": "completed"
    },
    "tags": []
   },
   "source": [
    "## Filter data to get 3 and 8 out"
   ]
  },
  {
   "cell_type": "code",
   "execution_count": 10,
   "id": "776f7fc7",
   "metadata": {
    "execution": {
     "iopub.execute_input": "2022-04-06T10:11:06.716799Z",
     "iopub.status.busy": "2022-04-06T10:11:06.712689Z",
     "iopub.status.idle": "2022-04-06T10:11:06.727577Z",
     "shell.execute_reply": "2022-04-06T10:11:06.727165Z"
    },
    "papermill": {
     "duration": 0.050978,
     "end_time": "2022-04-06T10:11:06.727683",
     "exception": false,
     "start_time": "2022-04-06T10:11:06.676705",
     "status": "completed"
    },
    "tags": []
   },
   "outputs": [],
   "source": [
    "train_filter = np.where((train_labels == 3 ) | (train_labels == 8))\n",
    "test_filter = np.where((test_labels == 3) | (test_labels == 8))\n",
    "X_train, y_train = train_images[train_filter], train_labels[train_filter]\n",
    "X_test, y_test = test_images[test_filter], test_labels[test_filter]"
   ]
  },
  {
   "cell_type": "markdown",
   "id": "948f0b7e",
   "metadata": {
    "papermill": {
     "duration": 0.026186,
     "end_time": "2022-04-06T10:11:06.780385",
     "exception": false,
     "start_time": "2022-04-06T10:11:06.754199",
     "status": "completed"
    },
    "tags": []
   },
   "source": [
    "We normalize the pizel values in the 0 to 1 range"
   ]
  },
  {
   "cell_type": "code",
   "execution_count": 11,
   "id": "ee4c2166",
   "metadata": {
    "execution": {
     "iopub.execute_input": "2022-04-06T10:11:06.853453Z",
     "iopub.status.busy": "2022-04-06T10:11:06.852920Z",
     "iopub.status.idle": "2022-04-06T10:11:06.889711Z",
     "shell.execute_reply": "2022-04-06T10:11:06.889200Z"
    },
    "papermill": {
     "duration": 0.083317,
     "end_time": "2022-04-06T10:11:06.889852",
     "exception": false,
     "start_time": "2022-04-06T10:11:06.806535",
     "status": "completed"
    },
    "tags": []
   },
   "outputs": [],
   "source": [
    "X_train = X_train/255.\n",
    "X_test = X_test/255."
   ]
  },
  {
   "cell_type": "markdown",
   "id": "ddcf4fab",
   "metadata": {
    "papermill": {
     "duration": 0.026543,
     "end_time": "2022-04-06T10:11:06.943614",
     "exception": false,
     "start_time": "2022-04-06T10:11:06.917071",
     "status": "completed"
    },
    "tags": []
   },
   "source": [
    "And setup the labels as 1 (when the digit is 3) and 0 (when the digit is 8)"
   ]
  },
  {
   "cell_type": "code",
   "execution_count": 12,
   "id": "7dc908f2",
   "metadata": {
    "execution": {
     "iopub.execute_input": "2022-04-06T10:11:07.000781Z",
     "iopub.status.busy": "2022-04-06T10:11:07.000250Z",
     "iopub.status.idle": "2022-04-06T10:11:07.013156Z",
     "shell.execute_reply": "2022-04-06T10:11:07.012738Z"
    },
    "papermill": {
     "duration": 0.042957,
     "end_time": "2022-04-06T10:11:07.013272",
     "exception": false,
     "start_time": "2022-04-06T10:11:06.970315",
     "status": "completed"
    },
    "tags": []
   },
   "outputs": [],
   "source": [
    "y_train = 1*(y_train==3)\n",
    "y_test = 1*(y_test==3)"
   ]
  },
  {
   "cell_type": "code",
   "execution_count": 13,
   "id": "01e4e969",
   "metadata": {
    "execution": {
     "iopub.execute_input": "2022-04-06T10:11:07.069310Z",
     "iopub.status.busy": "2022-04-06T10:11:07.068802Z",
     "iopub.status.idle": "2022-04-06T10:11:07.083009Z",
     "shell.execute_reply": "2022-04-06T10:11:07.082599Z"
    },
    "papermill": {
     "duration": 0.043447,
     "end_time": "2022-04-06T10:11:07.083119",
     "exception": false,
     "start_time": "2022-04-06T10:11:07.039672",
     "status": "completed"
    },
    "tags": []
   },
   "outputs": [
    {
     "data": {
      "text/plain": [
       "((11982, 28, 28), (1984, 28, 28))"
      ]
     },
     "execution_count": 13,
     "metadata": {},
     "output_type": "execute_result"
    }
   ],
   "source": [
    "X_train.shape, X_test.shape"
   ]
  },
  {
   "cell_type": "markdown",
   "id": "5ccf3f85",
   "metadata": {
    "papermill": {
     "duration": 0.0264,
     "end_time": "2022-04-06T10:11:07.136014",
     "exception": false,
     "start_time": "2022-04-06T10:11:07.109614",
     "status": "completed"
    },
    "tags": []
   },
   "source": [
    "We reshape the data to flatten the image pixels into a set of features or co-variates:"
   ]
  },
  {
   "cell_type": "code",
   "execution_count": 14,
   "id": "5286a4a3",
   "metadata": {
    "execution": {
     "iopub.execute_input": "2022-04-06T10:11:07.192874Z",
     "iopub.status.busy": "2022-04-06T10:11:07.192350Z",
     "iopub.status.idle": "2022-04-06T10:11:07.210367Z",
     "shell.execute_reply": "2022-04-06T10:11:07.210798Z"
    },
    "papermill": {
     "duration": 0.048346,
     "end_time": "2022-04-06T10:11:07.210922",
     "exception": false,
     "start_time": "2022-04-06T10:11:07.162576",
     "status": "completed"
    },
    "tags": []
   },
   "outputs": [
    {
     "data": {
      "text/plain": [
       "((11982, 784), (1984, 784))"
      ]
     },
     "execution_count": 14,
     "metadata": {},
     "output_type": "execute_result"
    }
   ],
   "source": [
    "X_train = X_train.reshape(X_train.shape[0], -1)\n",
    "X_test = X_test.reshape(X_test.shape[0], -1)\n",
    "X_train.shape, X_test.shape"
   ]
  },
  {
   "cell_type": "code",
   "execution_count": 15,
   "id": "73c5f88a",
   "metadata": {
    "execution": {
     "iopub.execute_input": "2022-04-06T10:11:07.269109Z",
     "iopub.status.busy": "2022-04-06T10:11:07.268589Z",
     "iopub.status.idle": "2022-04-06T10:11:07.287440Z",
     "shell.execute_reply": "2022-04-06T10:11:07.287025Z"
    },
    "papermill": {
     "duration": 0.049871,
     "end_time": "2022-04-06T10:11:07.287550",
     "exception": false,
     "start_time": "2022-04-06T10:11:07.237679",
     "status": "completed"
    },
    "tags": []
   },
   "outputs": [],
   "source": [
    "#Impoting functions from 'Kudzu'\n",
    "from kudzu.model import Model\n",
    "from kudzu.train import Learner\n",
    "from kudzu.optim import GD\n",
    "from kudzu.data import Data, Sampler,Dataloader\n",
    "\n",
    "from kudzu.callbacks import AccCallback\n",
    "from kudzu.callbacks import ClfCallback\n",
    "\n",
    "from kudzu.loss import MSE\n",
    "\n",
    "from kudzu.layer import Sigmoid,Relu\n",
    "from kudzu.layer import Affine"
   ]
  },
  {
   "cell_type": "markdown",
   "id": "bc01172a",
   "metadata": {
    "papermill": {
     "duration": 0.026701,
     "end_time": "2022-04-06T10:11:07.341205",
     "exception": false,
     "start_time": "2022-04-06T10:11:07.314504",
     "status": "completed"
    },
    "tags": []
   },
   "source": [
    "### Let us create a `Config` class, to store important parameters. \n",
    "This class essentially plays the role of a dictionary."
   ]
  },
  {
   "cell_type": "code",
   "execution_count": 16,
   "id": "978281aa",
   "metadata": {
    "execution": {
     "iopub.execute_input": "2022-04-06T10:11:07.403723Z",
     "iopub.status.busy": "2022-04-06T10:11:07.403183Z",
     "iopub.status.idle": "2022-04-06T10:11:07.412895Z",
     "shell.execute_reply": "2022-04-06T10:11:07.413311Z"
    },
    "papermill": {
     "duration": 0.045601,
     "end_time": "2022-04-06T10:11:07.413434",
     "exception": false,
     "start_time": "2022-04-06T10:11:07.367833",
     "status": "completed"
    },
    "tags": []
   },
   "outputs": [],
   "source": [
    "class Config:\n",
    "    pass\n",
    "config = Config()\n",
    "config.lr = 0.001\n",
    "config.num_epochs = 250\n",
    "config.bs = 50"
   ]
  },
  {
   "cell_type": "markdown",
   "id": "1385fa59",
   "metadata": {
    "papermill": {
     "duration": 0.027793,
     "end_time": "2022-04-06T10:11:07.468093",
     "exception": false,
     "start_time": "2022-04-06T10:11:07.440300",
     "status": "completed"
    },
    "tags": []
   },
   "source": [
    "### Running Models with the Training data\n",
    "Details about the network layers:\n",
    "- A first affine layer has 784 inputs and does 100 affine transforms. These are followed by a Relu\n",
    "- A second affine layer has 100 inputs from the 100 activations of the past layer, and does 100 affine transforms. These are followed by a Relu\n",
    "- A third affine layer has 100 activations and does 2 affine transformations to create an embedding for visualization. There is no non-linearity here.\n",
    "- A final \"logistic regression\" which has an affine transform from 2 inputs to 1 output, which is squeezed through a sigmoid.\n"
   ]
  },
  {
   "cell_type": "code",
   "execution_count": 17,
   "id": "2b9c66db",
   "metadata": {
    "execution": {
     "iopub.execute_input": "2022-04-06T10:11:07.541585Z",
     "iopub.status.busy": "2022-04-06T10:11:07.539813Z",
     "iopub.status.idle": "2022-04-06T10:11:07.544009Z",
     "shell.execute_reply": "2022-04-06T10:11:07.543565Z"
    },
    "papermill": {
     "duration": 0.049138,
     "end_time": "2022-04-06T10:11:07.544149",
     "exception": false,
     "start_time": "2022-04-06T10:11:07.495011",
     "status": "completed"
    },
    "tags": []
   },
   "outputs": [],
   "source": [
    "data = Data(X_train, y_train.reshape(-1,1))\n",
    "sampler = Sampler(data, config.bs, shuffle=True)\n",
    "\n",
    "dl = Dataloader(data, sampler)\n",
    "\n",
    "opt = GD(config.lr)\n",
    "loss = MSE()"
   ]
  },
  {
   "cell_type": "code",
   "execution_count": 18,
   "id": "b275e4c2",
   "metadata": {
    "execution": {
     "iopub.execute_input": "2022-04-06T10:11:07.609419Z",
     "iopub.status.busy": "2022-04-06T10:11:07.608878Z",
     "iopub.status.idle": "2022-04-06T10:11:07.617013Z",
     "shell.execute_reply": "2022-04-06T10:11:07.617417Z"
    },
    "papermill": {
     "duration": 0.045924,
     "end_time": "2022-04-06T10:11:07.617555",
     "exception": false,
     "start_time": "2022-04-06T10:11:07.571631",
     "status": "completed"
    },
    "tags": []
   },
   "outputs": [],
   "source": [
    "training_data_x = X_train\n",
    "testing_data_x = X_test\n",
    "training_data_y = y_train.reshape(-1,1)\n",
    "testing_data_y = y_test.reshape(-1,1)"
   ]
  },
  {
   "cell_type": "code",
   "execution_count": 19,
   "id": "76951160",
   "metadata": {
    "execution": {
     "iopub.execute_input": "2022-04-06T10:11:07.676191Z",
     "iopub.status.busy": "2022-04-06T10:11:07.675627Z",
     "iopub.status.idle": "2022-04-06T10:11:07.693566Z",
     "shell.execute_reply": "2022-04-06T10:11:07.693147Z"
    },
    "papermill": {
     "duration": 0.049183,
     "end_time": "2022-04-06T10:11:07.693683",
     "exception": false,
     "start_time": "2022-04-06T10:11:07.644500",
     "status": "completed"
    },
    "tags": []
   },
   "outputs": [
    {
     "name": "stdout",
     "output_type": "stream",
     "text": [
      "xavier\n",
      "xavier\n",
      "xavier\n",
      "xavier\n",
      "xavier\n"
     ]
    }
   ],
   "source": [
    "layers = [Affine(\"first\", 784, 100), Relu(\"first\"), Affine(\"second\", 100, 100), Relu(\"second\"), Affine(\"third\", 100, 2), Affine(\"last\", 2, 1), Sigmoid(\"last\")]\n",
    "model_nn = Model(layers)\n",
    "model_lr = Model([Affine(\"logits\", 784, 1), Sigmoid(\"sigmoid\")])"
   ]
  },
  {
   "cell_type": "code",
   "execution_count": 20,
   "id": "6eede77a",
   "metadata": {
    "execution": {
     "iopub.execute_input": "2022-04-06T10:11:07.752334Z",
     "iopub.status.busy": "2022-04-06T10:11:07.751792Z",
     "iopub.status.idle": "2022-04-06T10:11:07.764844Z",
     "shell.execute_reply": "2022-04-06T10:11:07.765282Z"
    },
    "papermill": {
     "duration": 0.044351,
     "end_time": "2022-04-06T10:11:07.765414",
     "exception": false,
     "start_time": "2022-04-06T10:11:07.721063",
     "status": "completed"
    },
    "tags": []
   },
   "outputs": [],
   "source": [
    "nn_learner = Learner(loss, model_nn, opt, config.num_epochs)\n",
    "acc_nn = ClfCallback(nn_learner, config.bs, training_data_x , testing_data_x, training_data_y, testing_data_y)\n",
    "nn_learner.set_callbacks([acc_nn])"
   ]
  },
  {
   "cell_type": "code",
   "execution_count": 21,
   "id": "877b6cc7",
   "metadata": {
    "execution": {
     "iopub.execute_input": "2022-04-06T10:11:07.824402Z",
     "iopub.status.busy": "2022-04-06T10:11:07.823789Z",
     "iopub.status.idle": "2022-04-06T10:11:07.836341Z",
     "shell.execute_reply": "2022-04-06T10:11:07.835900Z"
    },
    "papermill": {
     "duration": 0.043792,
     "end_time": "2022-04-06T10:11:07.836451",
     "exception": false,
     "start_time": "2022-04-06T10:11:07.792659",
     "status": "completed"
    },
    "tags": []
   },
   "outputs": [],
   "source": [
    "lr_learner = Learner(loss, model_lr, opt, config.num_epochs)\n",
    "acc_lr = ClfCallback(lr_learner, config.bs, training_data_x , testing_data_x, training_data_y, testing_data_y)\n",
    "lr_learner.set_callbacks([acc_lr])"
   ]
  },
  {
   "cell_type": "code",
   "execution_count": 22,
   "id": "d9b133c3",
   "metadata": {
    "execution": {
     "iopub.execute_input": "2022-04-06T10:11:07.904995Z",
     "iopub.status.busy": "2022-04-06T10:11:07.899550Z",
     "iopub.status.idle": "2022-04-06T10:12:23.951679Z",
     "shell.execute_reply": "2022-04-06T10:12:23.952453Z"
    },
    "papermill": {
     "duration": 76.089027,
     "end_time": "2022-04-06T10:12:23.952601",
     "exception": false,
     "start_time": "2022-04-06T10:11:07.863574",
     "status": "completed"
    },
    "tags": []
   },
   "outputs": [
    {
     "name": "stdout",
     "output_type": "stream",
     "text": [
      "Epoch 0, Loss 0.2466\n",
      "Training Accuracy: 0.5328, Testing Accuracy: 0.5237\n",
      "\n"
     ]
    },
    {
     "name": "stdout",
     "output_type": "stream",
     "text": [
      "Epoch 10, Loss 0.1883\n",
      "Training Accuracy: 0.8702, Testing Accuracy: 0.8700\n",
      "\n"
     ]
    },
    {
     "name": "stdout",
     "output_type": "stream",
     "text": [
      "Epoch 20, Loss 0.0962\n",
      "Training Accuracy: 0.9094, Testing Accuracy: 0.9098\n",
      "\n"
     ]
    },
    {
     "name": "stdout",
     "output_type": "stream",
     "text": [
      "Epoch 30, Loss 0.0625\n",
      "Training Accuracy: 0.9317, Testing Accuracy: 0.9425\n",
      "\n"
     ]
    },
    {
     "name": "stdout",
     "output_type": "stream",
     "text": [
      "Epoch 40, Loss 0.0487\n",
      "Training Accuracy: 0.9462, Testing Accuracy: 0.9531\n",
      "\n"
     ]
    },
    {
     "name": "stdout",
     "output_type": "stream",
     "text": [
      "Epoch 50, Loss 0.0415\n",
      "Training Accuracy: 0.9537, Testing Accuracy: 0.9597\n",
      "\n"
     ]
    },
    {
     "name": "stdout",
     "output_type": "stream",
     "text": [
      "Epoch 60, Loss 0.0371\n",
      "Training Accuracy: 0.9570, Testing Accuracy: 0.9637\n",
      "\n"
     ]
    },
    {
     "name": "stdout",
     "output_type": "stream",
     "text": [
      "Epoch 70, Loss 0.0341\n",
      "Training Accuracy: 0.9602, Testing Accuracy: 0.9642\n",
      "\n"
     ]
    },
    {
     "name": "stdout",
     "output_type": "stream",
     "text": [
      "Epoch 80, Loss 0.032\n",
      "Training Accuracy: 0.9631, Testing Accuracy: 0.9662\n",
      "\n"
     ]
    },
    {
     "name": "stdout",
     "output_type": "stream",
     "text": [
      "Epoch 90, Loss 0.0303\n",
      "Training Accuracy: 0.9649, Testing Accuracy: 0.9657\n",
      "\n"
     ]
    },
    {
     "name": "stdout",
     "output_type": "stream",
     "text": [
      "Epoch 100, Loss 0.029\n",
      "Training Accuracy: 0.9664, Testing Accuracy: 0.9682\n",
      "\n"
     ]
    },
    {
     "name": "stdout",
     "output_type": "stream",
     "text": [
      "Epoch 110, Loss 0.0279\n",
      "Training Accuracy: 0.9675, Testing Accuracy: 0.9693\n",
      "\n"
     ]
    },
    {
     "name": "stdout",
     "output_type": "stream",
     "text": [
      "Epoch 120, Loss 0.027\n",
      "Training Accuracy: 0.9685, Testing Accuracy: 0.9698\n",
      "\n"
     ]
    },
    {
     "name": "stdout",
     "output_type": "stream",
     "text": [
      "Epoch 130, Loss 0.0261\n",
      "Training Accuracy: 0.9693, Testing Accuracy: 0.9693\n",
      "\n"
     ]
    },
    {
     "name": "stdout",
     "output_type": "stream",
     "text": [
      "Epoch 140, Loss 0.0254\n",
      "Training Accuracy: 0.9705, Testing Accuracy: 0.9703\n",
      "\n"
     ]
    },
    {
     "name": "stdout",
     "output_type": "stream",
     "text": [
      "Epoch 150, Loss 0.0248\n",
      "Training Accuracy: 0.9717, Testing Accuracy: 0.9708\n",
      "\n"
     ]
    },
    {
     "name": "stdout",
     "output_type": "stream",
     "text": [
      "Epoch 160, Loss 0.0242\n",
      "Training Accuracy: 0.9721, Testing Accuracy: 0.9708\n",
      "\n"
     ]
    },
    {
     "name": "stdout",
     "output_type": "stream",
     "text": [
      "Epoch 170, Loss 0.0237\n",
      "Training Accuracy: 0.9730, Testing Accuracy: 0.9708\n",
      "\n"
     ]
    },
    {
     "name": "stdout",
     "output_type": "stream",
     "text": [
      "Epoch 180, Loss 0.0232\n",
      "Training Accuracy: 0.9735, Testing Accuracy: 0.9708\n",
      "\n"
     ]
    },
    {
     "name": "stdout",
     "output_type": "stream",
     "text": [
      "Epoch 190, Loss 0.0228\n",
      "Training Accuracy: 0.9740, Testing Accuracy: 0.9713\n",
      "\n"
     ]
    },
    {
     "name": "stdout",
     "output_type": "stream",
     "text": [
      "Epoch 200, Loss 0.0223\n",
      "Training Accuracy: 0.9745, Testing Accuracy: 0.9718\n",
      "\n"
     ]
    },
    {
     "name": "stdout",
     "output_type": "stream",
     "text": [
      "Epoch 210, Loss 0.0219\n",
      "Training Accuracy: 0.9746, Testing Accuracy: 0.9713\n",
      "\n"
     ]
    },
    {
     "name": "stdout",
     "output_type": "stream",
     "text": [
      "Epoch 220, Loss 0.0215\n",
      "Training Accuracy: 0.9751, Testing Accuracy: 0.9718\n",
      "\n"
     ]
    },
    {
     "name": "stdout",
     "output_type": "stream",
     "text": [
      "Epoch 230, Loss 0.0212\n",
      "Training Accuracy: 0.9756, Testing Accuracy: 0.9718\n",
      "\n"
     ]
    },
    {
     "name": "stdout",
     "output_type": "stream",
     "text": [
      "Epoch 240, Loss 0.0208\n",
      "Training Accuracy: 0.9764, Testing Accuracy: 0.9723\n",
      "\n"
     ]
    },
    {
     "data": {
      "text/plain": [
       "0.0021680835876195306"
      ]
     },
     "execution_count": 22,
     "metadata": {},
     "output_type": "execute_result"
    }
   ],
   "source": [
    "nn_learner.train_loop(dl)"
   ]
  },
  {
   "cell_type": "code",
   "execution_count": 23,
   "id": "e0163366",
   "metadata": {
    "execution": {
     "iopub.execute_input": "2022-04-06T10:12:24.029520Z",
     "iopub.status.busy": "2022-04-06T10:12:24.029012Z",
     "iopub.status.idle": "2022-04-06T10:12:37.878886Z",
     "shell.execute_reply": "2022-04-06T10:12:37.879667Z"
    },
    "papermill": {
     "duration": 13.891916,
     "end_time": "2022-04-06T10:12:37.879818",
     "exception": false,
     "start_time": "2022-04-06T10:12:23.987902",
     "status": "completed"
    },
    "tags": []
   },
   "outputs": [
    {
     "name": "stdout",
     "output_type": "stream",
     "text": [
      "Epoch 0, Loss 0.2267\n",
      "Training Accuracy: 0.7087, Testing Accuracy: 0.6815\n",
      "\n"
     ]
    },
    {
     "name": "stdout",
     "output_type": "stream",
     "text": [
      "Epoch 10, Loss 0.1043\n",
      "Training Accuracy: 0.9027, Testing Accuracy: 0.9047\n",
      "\n"
     ]
    },
    {
     "name": "stdout",
     "output_type": "stream",
     "text": [
      "Epoch 20, Loss 0.0804\n",
      "Training Accuracy: 0.9246, Testing Accuracy: 0.9254\n",
      "\n"
     ]
    },
    {
     "name": "stdout",
     "output_type": "stream",
     "text": [
      "Epoch 30, Loss 0.0692\n",
      "Training Accuracy: 0.9347, Testing Accuracy: 0.9390\n",
      "\n"
     ]
    },
    {
     "name": "stdout",
     "output_type": "stream",
     "text": [
      "Epoch 40, Loss 0.0624\n",
      "Training Accuracy: 0.9404, Testing Accuracy: 0.9435\n",
      "\n"
     ]
    },
    {
     "name": "stdout",
     "output_type": "stream",
     "text": [
      "Epoch 50, Loss 0.0578\n",
      "Training Accuracy: 0.9448, Testing Accuracy: 0.9486\n",
      "\n"
     ]
    },
    {
     "name": "stdout",
     "output_type": "stream",
     "text": [
      "Epoch 60, Loss 0.0544\n",
      "Training Accuracy: 0.9468, Testing Accuracy: 0.9506\n",
      "\n"
     ]
    },
    {
     "name": "stdout",
     "output_type": "stream",
     "text": [
      "Epoch 70, Loss 0.0518\n",
      "Training Accuracy: 0.9488, Testing Accuracy: 0.9516\n",
      "\n"
     ]
    },
    {
     "name": "stdout",
     "output_type": "stream",
     "text": [
      "Epoch 80, Loss 0.0497\n",
      "Training Accuracy: 0.9496, Testing Accuracy: 0.9531\n",
      "\n"
     ]
    },
    {
     "name": "stdout",
     "output_type": "stream",
     "text": [
      "Epoch 90, Loss 0.0479\n",
      "Training Accuracy: 0.9514, Testing Accuracy: 0.9577\n",
      "\n"
     ]
    },
    {
     "name": "stdout",
     "output_type": "stream",
     "text": [
      "Epoch 100, Loss 0.0465\n",
      "Training Accuracy: 0.9526, Testing Accuracy: 0.9587\n",
      "\n"
     ]
    },
    {
     "name": "stdout",
     "output_type": "stream",
     "text": [
      "Epoch 110, Loss 0.0452\n",
      "Training Accuracy: 0.9538, Testing Accuracy: 0.9592\n",
      "\n"
     ]
    },
    {
     "name": "stdout",
     "output_type": "stream",
     "text": [
      "Epoch 120, Loss 0.0441\n",
      "Training Accuracy: 0.9549, Testing Accuracy: 0.9612\n",
      "\n"
     ]
    },
    {
     "name": "stdout",
     "output_type": "stream",
     "text": [
      "Epoch 130, Loss 0.0432\n",
      "Training Accuracy: 0.9551, Testing Accuracy: 0.9632\n",
      "\n"
     ]
    },
    {
     "name": "stdout",
     "output_type": "stream",
     "text": [
      "Epoch 140, Loss 0.0424\n",
      "Training Accuracy: 0.9558, Testing Accuracy: 0.9632\n",
      "\n"
     ]
    },
    {
     "name": "stdout",
     "output_type": "stream",
     "text": [
      "Epoch 150, Loss 0.0416\n",
      "Training Accuracy: 0.9563, Testing Accuracy: 0.9627\n",
      "\n"
     ]
    },
    {
     "name": "stdout",
     "output_type": "stream",
     "text": [
      "Epoch 160, Loss 0.0409\n",
      "Training Accuracy: 0.9579, Testing Accuracy: 0.9627\n",
      "\n"
     ]
    },
    {
     "name": "stdout",
     "output_type": "stream",
     "text": [
      "Epoch 170, Loss 0.0403\n",
      "Training Accuracy: 0.9583, Testing Accuracy: 0.9632\n",
      "\n"
     ]
    },
    {
     "name": "stdout",
     "output_type": "stream",
     "text": [
      "Epoch 180, Loss 0.0397\n",
      "Training Accuracy: 0.9585, Testing Accuracy: 0.9642\n",
      "\n"
     ]
    },
    {
     "name": "stdout",
     "output_type": "stream",
     "text": [
      "Epoch 190, Loss 0.0392\n",
      "Training Accuracy: 0.9590, Testing Accuracy: 0.9657\n",
      "\n"
     ]
    },
    {
     "name": "stdout",
     "output_type": "stream",
     "text": [
      "Epoch 200, Loss 0.0387\n",
      "Training Accuracy: 0.9594, Testing Accuracy: 0.9657\n",
      "\n"
     ]
    },
    {
     "name": "stdout",
     "output_type": "stream",
     "text": [
      "Epoch 210, Loss 0.0383\n",
      "Training Accuracy: 0.9596, Testing Accuracy: 0.9657\n",
      "\n"
     ]
    },
    {
     "name": "stdout",
     "output_type": "stream",
     "text": [
      "Epoch 220, Loss 0.0378\n",
      "Training Accuracy: 0.9599, Testing Accuracy: 0.9647\n",
      "\n"
     ]
    },
    {
     "name": "stdout",
     "output_type": "stream",
     "text": [
      "Epoch 230, Loss 0.0374\n",
      "Training Accuracy: 0.9601, Testing Accuracy: 0.9647\n",
      "\n"
     ]
    },
    {
     "name": "stdout",
     "output_type": "stream",
     "text": [
      "Epoch 240, Loss 0.0371\n",
      "Training Accuracy: 0.9602, Testing Accuracy: 0.9647\n",
      "\n"
     ]
    },
    {
     "data": {
      "text/plain": [
       "0.059081560013643106"
      ]
     },
     "execution_count": 23,
     "metadata": {},
     "output_type": "execute_result"
    }
   ],
   "source": [
    "lr_learner.train_loop(dl)"
   ]
  },
  {
   "cell_type": "code",
   "execution_count": 24,
   "id": "ca410940",
   "metadata": {
    "execution": {
     "iopub.execute_input": "2022-04-06T10:12:37.971043Z",
     "iopub.status.busy": "2022-04-06T10:12:37.970518Z",
     "iopub.status.idle": "2022-04-06T10:12:38.188550Z",
     "shell.execute_reply": "2022-04-06T10:12:38.188974Z"
    },
    "papermill": {
     "duration": 0.267441,
     "end_time": "2022-04-06T10:12:38.189119",
     "exception": false,
     "start_time": "2022-04-06T10:12:37.921678",
     "status": "completed"
    },
    "tags": []
   },
   "outputs": [
    {
     "data": {
      "text/plain": [
       "<matplotlib.legend.Legend at 0x7fde0476cc18>"
      ]
     },
     "execution_count": 24,
     "metadata": {},
     "output_type": "execute_result"
    },
    {
     "data": {
      "image/png": "[encoded data removed]",
      "text/plain": [
       "<Figure size 1080x720 with 1 Axes>"
      ]
     },
     "metadata": {
      "needs_background": "light"
     },
     "output_type": "display_data"
    }
   ],
   "source": [
    "#comparing the results of NN and LR\n",
    "plt.figure(figsize=(15,10))\n",
    "\n",
    "# Neural Network plots\n",
    "plt.plot(acc_nn.accuracies, 'r-', label = \"Training Accuracies - NN\")\n",
    "plt.plot(acc_nn.test_accuracies, 'g-', label = \"Testing Accuracies - NN\")\n",
    "\n",
    "# Logistic Regression plots\n",
    "plt.plot(acc_lr.accuracies, 'k-', label = \"Training Accuracies - LR\")\n",
    "plt.plot(acc_lr.test_accuracies, 'b-', label = \"Testing Accuracies - LR\")\n",
    "plt.legend()"
   ]
  },
  {
   "cell_type": "markdown",
   "id": "80dfb35c",
   "metadata": {
    "papermill": {
     "duration": 0.041879,
     "end_time": "2022-04-06T10:12:38.273346",
     "exception": false,
     "start_time": "2022-04-06T10:12:38.231467",
     "status": "completed"
    },
    "tags": []
   },
   "source": [
    "#### Plotting the outputs of this layer of the NN.\n"
   ]
  },
  {
   "cell_type": "code",
   "execution_count": 25,
   "id": "45eb2ff5",
   "metadata": {
    "execution": {
     "iopub.execute_input": "2022-04-06T10:12:38.361672Z",
     "iopub.status.busy": "2022-04-06T10:12:38.361116Z",
     "iopub.status.idle": "2022-04-06T10:12:38.384296Z",
     "shell.execute_reply": "2022-04-06T10:12:38.384718Z"
    },
    "papermill": {
     "duration": 0.069717,
     "end_time": "2022-04-06T10:12:38.384850",
     "exception": false,
     "start_time": "2022-04-06T10:12:38.315133",
     "status": "completed"
    },
    "tags": []
   },
   "outputs": [],
   "source": [
    "new_model = Model(layers[:-2])\n",
    "testing_plot = new_model(testing_data_x)"
   ]
  },
  {
   "cell_type": "code",
   "execution_count": 26,
   "id": "4c0a5485",
   "metadata": {
    "execution": {
     "iopub.execute_input": "2022-04-06T10:12:38.474812Z",
     "iopub.status.busy": "2022-04-06T10:12:38.474270Z",
     "iopub.status.idle": "2022-04-06T10:12:38.662585Z",
     "shell.execute_reply": "2022-04-06T10:12:38.663008Z"
    },
    "papermill": {
     "duration": 0.236032,
     "end_time": "2022-04-06T10:12:38.663157",
     "exception": false,
     "start_time": "2022-04-06T10:12:38.427125",
     "status": "completed"
    },
    "tags": []
   },
   "outputs": [
    {
     "data": {
      "text/plain": [
       "Text(0.5, 1.0, 'Outputs')"
      ]
     },
     "execution_count": 26,
     "metadata": {},
     "output_type": "execute_result"
    },
    {
     "data": {
      "image/png": "[encoded data removed]",
      "text/plain": [
       "<Figure size 576x504 with 1 Axes>"
      ]
     },
     "metadata": {
      "needs_background": "light"
     },
     "output_type": "display_data"
    }
   ],
   "source": [
    "# Plotting the scatter plot of points and color coding by class\n",
    "plt.figure(figsize=(8,7))\n",
    "plt.scatter(testing_plot[:,0], testing_plot[:,1], alpha = 0.1, c = y_test.ravel());\n",
    "plt.title('Outputs')"
   ]
  },
  {
   "cell_type": "markdown",
   "id": "a74fcf8f",
   "metadata": {
    "papermill": {
     "duration": 0.044123,
     "end_time": "2022-04-06T10:12:38.751685",
     "exception": false,
     "start_time": "2022-04-06T10:12:38.707562",
     "status": "completed"
    },
    "tags": []
   },
   "source": [
    "Probability contours"
   ]
  },
  {
   "cell_type": "code",
   "execution_count": 27,
   "id": "d0afc8e3",
   "metadata": {
    "execution": {
     "iopub.execute_input": "2022-04-06T10:12:38.845574Z",
     "iopub.status.busy": "2022-04-06T10:12:38.845043Z",
     "iopub.status.idle": "2022-04-06T10:12:38.855899Z",
     "shell.execute_reply": "2022-04-06T10:12:38.855463Z"
    },
    "papermill": {
     "duration": 0.060282,
     "end_time": "2022-04-06T10:12:38.856007",
     "exception": false,
     "start_time": "2022-04-06T10:12:38.795725",
     "status": "completed"
    },
    "tags": []
   },
   "outputs": [],
   "source": [
    "model_prob = Model(layers[-2:]) "
   ]
  },
  {
   "cell_type": "code",
   "execution_count": 28,
   "id": "9b96e238",
   "metadata": {
    "execution": {
     "iopub.execute_input": "2022-04-06T10:12:38.953306Z",
     "iopub.status.busy": "2022-04-06T10:12:38.952786Z",
     "iopub.status.idle": "2022-04-06T10:12:38.964735Z",
     "shell.execute_reply": "2022-04-06T10:12:38.965116Z"
    },
    "papermill": {
     "duration": 0.064782,
     "end_time": "2022-04-06T10:12:38.965245",
     "exception": false,
     "start_time": "2022-04-06T10:12:38.900463",
     "status": "completed"
    },
    "tags": []
   },
   "outputs": [],
   "source": [
    "#creating the x and y ranges according to the above generated plot.\n",
    "x_range = np.linspace(-4, 1, 100) \n",
    "y_range = np.linspace(-6, 6, 100) \n",
    "x_grid, y_grid = np.meshgrid(x_range, y_range) # x_grid and y_grig are of size 100 X 100\n",
    "\n",
    "# converting x_grid and y_grid to continuous arrays\n",
    "x_gridflat = np.ravel(x_grid)\n",
    "y_gridflat = np.ravel(y_grid)\n",
    "\n",
    "# The last layer of the current model takes two columns as input. Hence transpose of np.vstack() is required.\n",
    "X = np.vstack((x_gridflat, y_gridflat)).T\n",
    "\n",
    "prob_contour = model_prob(X).reshape(100,100) "
   ]
  },
  {
   "cell_type": "code",
   "execution_count": 29,
   "id": "da72499a",
   "metadata": {
    "execution": {
     "iopub.execute_input": "2022-04-06T10:12:39.089934Z",
     "iopub.status.busy": "2022-04-06T10:12:39.088717Z",
     "iopub.status.idle": "2022-04-06T10:12:39.336851Z",
     "shell.execute_reply": "2022-04-06T10:12:39.337265Z"
    },
    "papermill": {
     "duration": 0.326974,
     "end_time": "2022-04-06T10:12:39.337413",
     "exception": false,
     "start_time": "2022-04-06T10:12:39.010439",
     "status": "completed"
    },
    "tags": []
   },
   "outputs": [
    {
     "data": {
      "image/png": "[encoded data removed]",
      "text/plain": [
       "<Figure size 720x648 with 1 Axes>"
      ]
     },
     "metadata": {
      "needs_background": "light"
     },
     "output_type": "display_data"
    }
   ],
   "source": [
    "plt.figure(figsize=(10,9))\n",
    "plt.scatter(testing_plot[:,0], testing_plot[:,1], alpha = 0.1, c = y_test.ravel())\n",
    "contours = plt.contour(x_grid,y_grid,prob_contour)\n",
    "plt.title('Probability Contours')\n",
    "plt.clabel(contours, inline = True );"
   ]
  },
  {
   "cell_type": "code",
   "execution_count": null,
   "id": "e81b4ac7",
   "metadata": {
    "papermill": {
     "duration": 0.046586,
     "end_time": "2022-04-06T10:12:39.431376",
     "exception": false,
     "start_time": "2022-04-06T10:12:39.384790",
     "status": "completed"
    },
    "tags": []
   },
   "outputs": [],
   "source": []
  }
 ],
 "metadata": {
  "kernelspec": {
   "display_name": "Python 3",
   "language": "python",
   "name": "python3"
  },
  "language_info": {
   "codemirror_mode": {
    "name": "ipython",
    "version": 3
   },
   "file_extension": ".py",
   "mimetype": "text/x-python",
   "name": "python",
   "nbconvert_exporter": "python",
   "pygments_lexer": "ipython3",
   "version": "3.6.15"
  },
  "papermill": {
   "default_parameters": {},
   "duration": 98.343477,
   "end_time": "2022-04-06T10:12:39.896616",
   "environment_variables": {},
   "exception": null,
   "input_path": "2020-08-11-part2.ipynb",
   "output_path": "2020-08-11-part2.ipynb",
   "parameters": {},
   "start_time": "2022-04-06T10:11:01.553139",
   "version": "2.3.3"
  }
 },
 "nbformat": 4,
 "nbformat_minor": 5
}