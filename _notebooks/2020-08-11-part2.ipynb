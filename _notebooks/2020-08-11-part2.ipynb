{
 "cells": [
  {
   "cell_type": "markdown",
   "id": "98380cd3",
   "metadata": {
    "papermill": {
     "duration": 0.040316,
     "end_time": "2021-09-04T10:07:13.541662",
     "exception": false,
     "start_time": "2021-09-04T10:07:13.501346",
     "status": "completed"
    },
    "tags": []
   },
   "source": [
    "# Distinguish Your Own Digits (DYOD)"
   ]
  },
  {
   "cell_type": "markdown",
   "id": "ef31240d",
   "metadata": {
    "papermill": {
     "duration": 0.033827,
     "end_time": "2021-09-04T10:07:13.611521",
     "exception": false,
     "start_time": "2021-09-04T10:07:13.577694",
     "status": "completed"
    },
    "tags": []
   },
   "source": [
    "You are going to write a classifier that distinguishes between the number 3 and number 8."
   ]
  },
  {
   "cell_type": "code",
   "execution_count": 1,
   "id": "b15c8646",
   "metadata": {
    "execution": {
     "iopub.execute_input": "2021-09-04T10:07:13.691660Z",
     "iopub.status.busy": "2021-09-04T10:07:13.690893Z",
     "iopub.status.idle": "2021-09-04T10:07:13.706049Z",
     "shell.execute_reply": "2021-09-04T10:07:13.705372Z"
    },
    "papermill": {
     "duration": 0.059565,
     "end_time": "2021-09-04T10:07:13.706198",
     "exception": false,
     "start_time": "2021-09-04T10:07:13.646633",
     "status": "completed"
    },
    "tags": []
   },
   "outputs": [],
   "source": [
    "%load_ext autoreload\n",
    "%autoreload 2"
   ]
  },
  {
   "cell_type": "code",
   "execution_count": 2,
   "id": "22ef38dc",
   "metadata": {
    "execution": {
     "iopub.execute_input": "2021-09-04T10:07:13.774112Z",
     "iopub.status.busy": "2021-09-04T10:07:13.773435Z",
     "iopub.status.idle": "2021-09-04T10:07:14.463104Z",
     "shell.execute_reply": "2021-09-04T10:07:14.462512Z"
    },
    "papermill": {
     "duration": 0.726254,
     "end_time": "2021-09-04T10:07:14.463249",
     "exception": false,
     "start_time": "2021-09-04T10:07:13.736995",
     "status": "completed"
    },
    "tags": []
   },
   "outputs": [],
   "source": [
    "%matplotlib inline\n",
    "import numpy as np\n",
    "import matplotlib.pyplot as plt\n",
    "import pandas as pd"
   ]
  },
  {
   "cell_type": "markdown",
   "id": "ba036198",
   "metadata": {
    "papermill": {
     "duration": 0.033275,
     "end_time": "2021-09-04T10:07:14.531025",
     "exception": false,
     "start_time": "2021-09-04T10:07:14.497750",
     "status": "completed"
    },
    "tags": []
   },
   "source": [
    "From the command line run `pip install mnist`. This is a library that will help you bring down the mnist dataset. If you run this from a notebook, you need to put  `!pip install mnist` in a cell by itself."
   ]
  },
  {
   "cell_type": "code",
   "execution_count": 3,
   "id": "bb6ad8a1",
   "metadata": {
    "execution": {
     "iopub.execute_input": "2021-09-04T10:07:14.603788Z",
     "iopub.status.busy": "2021-09-04T10:07:14.602613Z",
     "iopub.status.idle": "2021-09-04T10:07:16.751972Z",
     "shell.execute_reply": "2021-09-04T10:07:16.751066Z"
    },
    "papermill": {
     "duration": 2.188997,
     "end_time": "2021-09-04T10:07:16.752109",
     "exception": false,
     "start_time": "2021-09-04T10:07:14.563112",
     "status": "completed"
    },
    "tags": []
   },
   "outputs": [
    {
     "name": "stdout",
     "output_type": "stream",
     "text": [
      "Collecting mnist\r\n"
     ]
    },
    {
     "name": "stdout",
     "output_type": "stream",
     "text": [
      "  Downloading mnist-0.2.2-py2.py3-none-any.whl (3.5 kB)\r\n",
      "Requirement already satisfied: numpy in /opt/hostedtoolcache/Python/3.6.14/x64/lib/python3.6/site-packages (from mnist) (1.19.5)\r\n"
     ]
    },
    {
     "name": "stdout",
     "output_type": "stream",
     "text": [
      "Installing collected packages: mnist\r\n"
     ]
    },
    {
     "name": "stdout",
     "output_type": "stream",
     "text": [
      "Successfully installed mnist-0.2.2\r\n"
     ]
    }
   ],
   "source": [
    "!pip install mnist"
   ]
  },
  {
   "cell_type": "markdown",
   "id": "69df9c9a",
   "metadata": {
    "papermill": {
     "duration": 0.033631,
     "end_time": "2021-09-04T10:07:16.821169",
     "exception": false,
     "start_time": "2021-09-04T10:07:16.787538",
     "status": "completed"
    },
    "tags": []
   },
   "source": [
    "## Preparing the Data"
   ]
  },
  {
   "cell_type": "code",
   "execution_count": 4,
   "id": "7f69d806",
   "metadata": {
    "execution": {
     "iopub.execute_input": "2021-09-04T10:07:16.909146Z",
     "iopub.status.busy": "2021-09-04T10:07:16.895299Z",
     "iopub.status.idle": "2021-09-04T10:07:16.913714Z",
     "shell.execute_reply": "2021-09-04T10:07:16.914376Z"
    },
    "papermill": {
     "duration": 0.060591,
     "end_time": "2021-09-04T10:07:16.914594",
     "exception": false,
     "start_time": "2021-09-04T10:07:16.854003",
     "status": "completed"
    },
    "tags": []
   },
   "outputs": [],
   "source": [
    "import mnist"
   ]
  },
  {
   "cell_type": "code",
   "execution_count": 5,
   "id": "a411e44f",
   "metadata": {
    "execution": {
     "iopub.execute_input": "2021-09-04T10:07:16.993976Z",
     "iopub.status.busy": "2021-09-04T10:07:16.986995Z",
     "iopub.status.idle": "2021-09-04T10:07:17.600887Z",
     "shell.execute_reply": "2021-09-04T10:07:17.600238Z"
    },
    "papermill": {
     "duration": 0.652627,
     "end_time": "2021-09-04T10:07:17.601032",
     "exception": false,
     "start_time": "2021-09-04T10:07:16.948405",
     "status": "completed"
    },
    "tags": []
   },
   "outputs": [],
   "source": [
    "train_images = mnist.train_images()\n",
    "train_labels = mnist.train_labels()"
   ]
  },
  {
   "cell_type": "code",
   "execution_count": 6,
   "id": "dceab3a5",
   "metadata": {
    "execution": {
     "iopub.execute_input": "2021-09-04T10:07:17.673872Z",
     "iopub.status.busy": "2021-09-04T10:07:17.673214Z",
     "iopub.status.idle": "2021-09-04T10:07:17.690863Z",
     "shell.execute_reply": "2021-09-04T10:07:17.691479Z"
    },
    "papermill": {
     "duration": 0.057719,
     "end_time": "2021-09-04T10:07:17.691661",
     "exception": false,
     "start_time": "2021-09-04T10:07:17.633942",
     "status": "completed"
    },
    "tags": []
   },
   "outputs": [
    {
     "data": {
      "text/plain": [
       "((60000, 28, 28), (60000,))"
      ]
     },
     "execution_count": 6,
     "metadata": {},
     "output_type": "execute_result"
    }
   ],
   "source": [
    "train_images.shape, train_labels.shape"
   ]
  },
  {
   "cell_type": "code",
   "execution_count": 7,
   "id": "f50dc2bb",
   "metadata": {
    "execution": {
     "iopub.execute_input": "2021-09-04T10:07:17.766775Z",
     "iopub.status.busy": "2021-09-04T10:07:17.765905Z",
     "iopub.status.idle": "2021-09-04T10:07:17.939304Z",
     "shell.execute_reply": "2021-09-04T10:07:17.938696Z"
    },
    "papermill": {
     "duration": 0.213702,
     "end_time": "2021-09-04T10:07:17.939445",
     "exception": false,
     "start_time": "2021-09-04T10:07:17.725743",
     "status": "completed"
    },
    "tags": []
   },
   "outputs": [],
   "source": [
    "test_images = mnist.test_images()\n",
    "test_labels = mnist.test_labels()"
   ]
  },
  {
   "cell_type": "code",
   "execution_count": 8,
   "id": "fc38cf1b",
   "metadata": {
    "execution": {
     "iopub.execute_input": "2021-09-04T10:07:18.011791Z",
     "iopub.status.busy": "2021-09-04T10:07:18.011046Z",
     "iopub.status.idle": "2021-09-04T10:07:18.026931Z",
     "shell.execute_reply": "2021-09-04T10:07:18.027529Z"
    },
    "papermill": {
     "duration": 0.054857,
     "end_time": "2021-09-04T10:07:18.027668",
     "exception": false,
     "start_time": "2021-09-04T10:07:17.972811",
     "status": "completed"
    },
    "tags": []
   },
   "outputs": [
    {
     "data": {
      "text/plain": [
       "((10000, 28, 28), (10000,))"
      ]
     },
     "execution_count": 8,
     "metadata": {},
     "output_type": "execute_result"
    }
   ],
   "source": [
    "test_images.shape, test_labels.shape"
   ]
  },
  {
   "cell_type": "code",
   "execution_count": 9,
   "id": "f9ed8fe0",
   "metadata": {
    "execution": {
     "iopub.execute_input": "2021-09-04T10:07:18.097527Z",
     "iopub.status.busy": "2021-09-04T10:07:18.096959Z",
     "iopub.status.idle": "2021-09-04T10:07:18.298178Z",
     "shell.execute_reply": "2021-09-04T10:07:18.297616Z"
    },
    "papermill": {
     "duration": 0.238138,
     "end_time": "2021-09-04T10:07:18.298316",
     "exception": false,
     "start_time": "2021-09-04T10:07:18.060178",
     "status": "completed"
    },
    "tags": []
   },
   "outputs": [
    {
     "name": "stdout",
     "output_type": "stream",
     "text": [
      "2\n"
     ]
    },
    {
     "data": {
      "text/plain": [
       "<matplotlib.image.AxesImage at 0x7fd5cbfddd68>"
      ]
     },
     "execution_count": 9,
     "metadata": {},
     "output_type": "execute_result"
    },
    {
     "data": {
      "image/png": "[encoded data removed]",
      "text/plain": [
       "<Figure size 432x288 with 1 Axes>"
      ]
     },
     "metadata": {
      "needs_background": "light"
     },
     "output_type": "display_data"
    }
   ],
   "source": [
    "image_index = 7776 # You may select anything up to 60,000\n",
    "print(train_labels[image_index]) \n",
    "plt.imshow(train_images[image_index], cmap='Greys')"
   ]
  },
  {
   "cell_type": "markdown",
   "id": "a8d2388d",
   "metadata": {
    "papermill": {
     "duration": 0.040329,
     "end_time": "2021-09-04T10:07:18.375423",
     "exception": false,
     "start_time": "2021-09-04T10:07:18.335094",
     "status": "completed"
    },
    "tags": []
   },
   "source": [
    "## Filter data to get 3 and 8 out"
   ]
  },
  {
   "cell_type": "code",
   "execution_count": 10,
   "id": "776f7fc7",
   "metadata": {
    "execution": {
     "iopub.execute_input": "2021-09-04T10:07:18.455871Z",
     "iopub.status.busy": "2021-09-04T10:07:18.455172Z",
     "iopub.status.idle": "2021-09-04T10:07:18.474797Z",
     "shell.execute_reply": "2021-09-04T10:07:18.474150Z"
    },
    "papermill": {
     "duration": 0.062711,
     "end_time": "2021-09-04T10:07:18.474933",
     "exception": false,
     "start_time": "2021-09-04T10:07:18.412222",
     "status": "completed"
    },
    "tags": []
   },
   "outputs": [],
   "source": [
    "train_filter = np.where((train_labels == 3 ) | (train_labels == 8))\n",
    "test_filter = np.where((test_labels == 3) | (test_labels == 8))\n",
    "X_train, y_train = train_images[train_filter], train_labels[train_filter]\n",
    "X_test, y_test = test_images[test_filter], test_labels[test_filter]"
   ]
  },
  {
   "cell_type": "markdown",
   "id": "948f0b7e",
   "metadata": {
    "papermill": {
     "duration": 0.037281,
     "end_time": "2021-09-04T10:07:18.549172",
     "exception": false,
     "start_time": "2021-09-04T10:07:18.511891",
     "status": "completed"
    },
    "tags": []
   },
   "source": [
    "We normalize the pizel values in the 0 to 1 range"
   ]
  },
  {
   "cell_type": "code",
   "execution_count": 11,
   "id": "ee4c2166",
   "metadata": {
    "execution": {
     "iopub.execute_input": "2021-09-04T10:07:18.637170Z",
     "iopub.status.busy": "2021-09-04T10:07:18.636481Z",
     "iopub.status.idle": "2021-09-04T10:07:18.705161Z",
     "shell.execute_reply": "2021-09-04T10:07:18.704470Z"
    },
    "papermill": {
     "duration": 0.112282,
     "end_time": "2021-09-04T10:07:18.705326",
     "exception": false,
     "start_time": "2021-09-04T10:07:18.593044",
     "status": "completed"
    },
    "tags": []
   },
   "outputs": [],
   "source": [
    "X_train = X_train/255.\n",
    "X_test = X_test/255."
   ]
  },
  {
   "cell_type": "markdown",
   "id": "ddcf4fab",
   "metadata": {
    "papermill": {
     "duration": 0.035103,
     "end_time": "2021-09-04T10:07:18.776868",
     "exception": false,
     "start_time": "2021-09-04T10:07:18.741765",
     "status": "completed"
    },
    "tags": []
   },
   "source": [
    "And setup the labels as 1 (when the digit is 3) and 0 (when the digit is 8)"
   ]
  },
  {
   "cell_type": "code",
   "execution_count": 12,
   "id": "7dc908f2",
   "metadata": {
    "execution": {
     "iopub.execute_input": "2021-09-04T10:07:18.853136Z",
     "iopub.status.busy": "2021-09-04T10:07:18.852414Z",
     "iopub.status.idle": "2021-09-04T10:07:18.866786Z",
     "shell.execute_reply": "2021-09-04T10:07:18.866150Z"
    },
    "papermill": {
     "duration": 0.055112,
     "end_time": "2021-09-04T10:07:18.866923",
     "exception": false,
     "start_time": "2021-09-04T10:07:18.811811",
     "status": "completed"
    },
    "tags": []
   },
   "outputs": [],
   "source": [
    "y_train = 1*(y_train==3)\n",
    "y_test = 1*(y_test==3)"
   ]
  },
  {
   "cell_type": "code",
   "execution_count": 13,
   "id": "01e4e969",
   "metadata": {
    "execution": {
     "iopub.execute_input": "2021-09-04T10:07:18.943319Z",
     "iopub.status.busy": "2021-09-04T10:07:18.942541Z",
     "iopub.status.idle": "2021-09-04T10:07:18.958051Z",
     "shell.execute_reply": "2021-09-04T10:07:18.958551Z"
    },
    "papermill": {
     "duration": 0.055931,
     "end_time": "2021-09-04T10:07:18.958712",
     "exception": false,
     "start_time": "2021-09-04T10:07:18.902781",
     "status": "completed"
    },
    "tags": []
   },
   "outputs": [
    {
     "data": {
      "text/plain": [
       "((11982, 28, 28), (1984, 28, 28))"
      ]
     },
     "execution_count": 13,
     "metadata": {},
     "output_type": "execute_result"
    }
   ],
   "source": [
    "X_train.shape, X_test.shape"
   ]
  },
  {
   "cell_type": "markdown",
   "id": "5ccf3f85",
   "metadata": {
    "papermill": {
     "duration": 0.038213,
     "end_time": "2021-09-04T10:07:19.032764",
     "exception": false,
     "start_time": "2021-09-04T10:07:18.994551",
     "status": "completed"
    },
    "tags": []
   },
   "source": [
    "We reshape the data to flatten the image pixels into a set of features or co-variates:"
   ]
  },
  {
   "cell_type": "code",
   "execution_count": 14,
   "id": "5286a4a3",
   "metadata": {
    "execution": {
     "iopub.execute_input": "2021-09-04T10:07:19.109015Z",
     "iopub.status.busy": "2021-09-04T10:07:19.108298Z",
     "iopub.status.idle": "2021-09-04T10:07:19.123855Z",
     "shell.execute_reply": "2021-09-04T10:07:19.124449Z"
    },
    "papermill": {
     "duration": 0.055372,
     "end_time": "2021-09-04T10:07:19.124614",
     "exception": false,
     "start_time": "2021-09-04T10:07:19.069242",
     "status": "completed"
    },
    "tags": []
   },
   "outputs": [
    {
     "data": {
      "text/plain": [
       "((11982, 784), (1984, 784))"
      ]
     },
     "execution_count": 14,
     "metadata": {},
     "output_type": "execute_result"
    }
   ],
   "source": [
    "X_train = X_train.reshape(X_train.shape[0], -1)\n",
    "X_test = X_test.reshape(X_test.shape[0], -1)\n",
    "X_train.shape, X_test.shape"
   ]
  },
  {
   "cell_type": "code",
   "execution_count": 15,
   "id": "73c5f88a",
   "metadata": {
    "execution": {
     "iopub.execute_input": "2021-09-04T10:07:19.201819Z",
     "iopub.status.busy": "2021-09-04T10:07:19.200925Z",
     "iopub.status.idle": "2021-09-04T10:07:19.224422Z",
     "shell.execute_reply": "2021-09-04T10:07:19.223834Z"
    },
    "papermill": {
     "duration": 0.064462,
     "end_time": "2021-09-04T10:07:19.224572",
     "exception": false,
     "start_time": "2021-09-04T10:07:19.160110",
     "status": "completed"
    },
    "tags": []
   },
   "outputs": [],
   "source": [
    "#Impoting functions from 'Kudzu'\n",
    "from kudzu.model import Model\n",
    "from kudzu.train import Learner\n",
    "from kudzu.optim import GD\n",
    "from kudzu.data import Data, Sampler,Dataloader\n",
    "\n",
    "from kudzu.callbacks import AccCallback\n",
    "from kudzu.callbacks import ClfCallback\n",
    "\n",
    "from kudzu.loss import MSE\n",
    "\n",
    "from kudzu.layer import Sigmoid,Relu\n",
    "from kudzu.layer import Affine"
   ]
  },
  {
   "cell_type": "markdown",
   "id": "bc01172a",
   "metadata": {
    "papermill": {
     "duration": 0.036741,
     "end_time": "2021-09-04T10:07:19.298552",
     "exception": false,
     "start_time": "2021-09-04T10:07:19.261811",
     "status": "completed"
    },
    "tags": []
   },
   "source": [
    "### Let us create a `Config` class, to store important parameters. \n",
    "This class essentially plays the role of a dictionary."
   ]
  },
  {
   "cell_type": "code",
   "execution_count": 16,
   "id": "978281aa",
   "metadata": {
    "execution": {
     "iopub.execute_input": "2021-09-04T10:07:19.375401Z",
     "iopub.status.busy": "2021-09-04T10:07:19.374666Z",
     "iopub.status.idle": "2021-09-04T10:07:19.389264Z",
     "shell.execute_reply": "2021-09-04T10:07:19.388679Z"
    },
    "papermill": {
     "duration": 0.054993,
     "end_time": "2021-09-04T10:07:19.389414",
     "exception": false,
     "start_time": "2021-09-04T10:07:19.334421",
     "status": "completed"
    },
    "tags": []
   },
   "outputs": [],
   "source": [
    "class Config:\n",
    "    pass\n",
    "config = Config()\n",
    "config.lr = 0.001\n",
    "config.num_epochs = 250\n",
    "config.bs = 50"
   ]
  },
  {
   "cell_type": "markdown",
   "id": "1385fa59",
   "metadata": {
    "papermill": {
     "duration": 0.035696,
     "end_time": "2021-09-04T10:07:19.461306",
     "exception": false,
     "start_time": "2021-09-04T10:07:19.425610",
     "status": "completed"
    },
    "tags": []
   },
   "source": [
    "### Running Models with the Training data\n",
    "Details about the network layers:\n",
    "- A first affine layer has 784 inputs and does 100 affine transforms. These are followed by a Relu\n",
    "- A second affine layer has 100 inputs from the 100 activations of the past layer, and does 100 affine transforms. These are followed by a Relu\n",
    "- A third affine layer has 100 activations and does 2 affine transformations to create an embedding for visualization. There is no non-linearity here.\n",
    "- A final \"logistic regression\" which has an affine transform from 2 inputs to 1 output, which is squeezed through a sigmoid.\n"
   ]
  },
  {
   "cell_type": "code",
   "execution_count": 17,
   "id": "2b9c66db",
   "metadata": {
    "execution": {
     "iopub.execute_input": "2021-09-04T10:07:19.540096Z",
     "iopub.status.busy": "2021-09-04T10:07:19.539282Z",
     "iopub.status.idle": "2021-09-04T10:07:19.553964Z",
     "shell.execute_reply": "2021-09-04T10:07:19.553399Z"
    },
    "papermill": {
     "duration": 0.057024,
     "end_time": "2021-09-04T10:07:19.554108",
     "exception": false,
     "start_time": "2021-09-04T10:07:19.497084",
     "status": "completed"
    },
    "tags": []
   },
   "outputs": [],
   "source": [
    "data = Data(X_train, y_train.reshape(-1,1))\n",
    "sampler = Sampler(data, config.bs, shuffle=True)\n",
    "\n",
    "dl = Dataloader(data, sampler)\n",
    "\n",
    "opt = GD(config.lr)\n",
    "loss = MSE()"
   ]
  },
  {
   "cell_type": "code",
   "execution_count": 18,
   "id": "b275e4c2",
   "metadata": {
    "execution": {
     "iopub.execute_input": "2021-09-04T10:07:19.633751Z",
     "iopub.status.busy": "2021-09-04T10:07:19.632975Z",
     "iopub.status.idle": "2021-09-04T10:07:19.647912Z",
     "shell.execute_reply": "2021-09-04T10:07:19.647247Z"
    },
    "papermill": {
     "duration": 0.057471,
     "end_time": "2021-09-04T10:07:19.648056",
     "exception": false,
     "start_time": "2021-09-04T10:07:19.590585",
     "status": "completed"
    },
    "tags": []
   },
   "outputs": [],
   "source": [
    "training_data_x = X_train\n",
    "testing_data_x = X_test\n",
    "training_data_y = y_train.reshape(-1,1)\n",
    "testing_data_y = y_test.reshape(-1,1)"
   ]
  },
  {
   "cell_type": "code",
   "execution_count": 19,
   "id": "76951160",
   "metadata": {
    "execution": {
     "iopub.execute_input": "2021-09-04T10:07:19.729002Z",
     "iopub.status.busy": "2021-09-04T10:07:19.728214Z",
     "iopub.status.idle": "2021-09-04T10:07:19.748630Z",
     "shell.execute_reply": "2021-09-04T10:07:19.747922Z"
    },
    "papermill": {
     "duration": 0.064018,
     "end_time": "2021-09-04T10:07:19.748808",
     "exception": false,
     "start_time": "2021-09-04T10:07:19.684790",
     "status": "completed"
    },
    "tags": []
   },
   "outputs": [
    {
     "name": "stdout",
     "output_type": "stream",
     "text": [
      "xavier\n",
      "xavier\n",
      "xavier\n",
      "xavier\n",
      "xavier\n"
     ]
    }
   ],
   "source": [
    "layers = [Affine(\"first\", 784, 100), Relu(\"first\"), Affine(\"second\", 100, 100), Relu(\"second\"), Affine(\"third\", 100, 2), Affine(\"last\", 2, 1), Sigmoid(\"last\")]\n",
    "model_nn = Model(layers)\n",
    "model_lr = Model([Affine(\"logits\", 784, 1), Sigmoid(\"sigmoid\")])"
   ]
  },
  {
   "cell_type": "code",
   "execution_count": 20,
   "id": "6eede77a",
   "metadata": {
    "execution": {
     "iopub.execute_input": "2021-09-04T10:07:19.833292Z",
     "iopub.status.busy": "2021-09-04T10:07:19.832494Z",
     "iopub.status.idle": "2021-09-04T10:07:19.847231Z",
     "shell.execute_reply": "2021-09-04T10:07:19.847810Z"
    },
    "papermill": {
     "duration": 0.060242,
     "end_time": "2021-09-04T10:07:19.847986",
     "exception": false,
     "start_time": "2021-09-04T10:07:19.787744",
     "status": "completed"
    },
    "tags": []
   },
   "outputs": [],
   "source": [
    "nn_learner = Learner(loss, model_nn, opt, config.num_epochs)\n",
    "acc_nn = ClfCallback(nn_learner, config.bs, training_data_x , testing_data_x, training_data_y, testing_data_y)\n",
    "nn_learner.set_callbacks([acc_nn])"
   ]
  },
  {
   "cell_type": "code",
   "execution_count": 21,
   "id": "877b6cc7",
   "metadata": {
    "execution": {
     "iopub.execute_input": "2021-09-04T10:07:19.932119Z",
     "iopub.status.busy": "2021-09-04T10:07:19.931387Z",
     "iopub.status.idle": "2021-09-04T10:07:19.946133Z",
     "shell.execute_reply": "2021-09-04T10:07:19.946822Z"
    },
    "papermill": {
     "duration": 0.058598,
     "end_time": "2021-09-04T10:07:19.947082",
     "exception": false,
     "start_time": "2021-09-04T10:07:19.888484",
     "status": "completed"
    },
    "tags": []
   },
   "outputs": [],
   "source": [
    "lr_learner = Learner(loss, model_lr, opt, config.num_epochs)\n",
    "acc_lr = ClfCallback(lr_learner, config.bs, training_data_x , testing_data_x, training_data_y, testing_data_y)\n",
    "lr_learner.set_callbacks([acc_lr])"
   ]
  },
  {
   "cell_type": "code",
   "execution_count": 22,
   "id": "d9b133c3",
   "metadata": {
    "execution": {
     "iopub.execute_input": "2021-09-04T10:07:20.026847Z",
     "iopub.status.busy": "2021-09-04T10:07:20.026021Z",
     "iopub.status.idle": "2021-09-04T10:09:50.748475Z",
     "shell.execute_reply": "2021-09-04T10:09:50.749428Z"
    },
    "papermill": {
     "duration": 150.76388,
     "end_time": "2021-09-04T10:09:50.749593",
     "exception": false,
     "start_time": "2021-09-04T10:07:19.985713",
     "status": "completed"
    },
    "tags": []
   },
   "outputs": [
    {
     "name": "stdout",
     "output_type": "stream",
     "text": [
      "Epoch 0, Loss 0.2103\n",
      "Training Accuracy: 0.7798, Testing Accuracy: 0.7787\n",
      "\n"
     ]
    },
    {
     "name": "stdout",
     "output_type": "stream",
     "text": [
      "Epoch 10, Loss 0.0785\n",
      "Training Accuracy: 0.9196, Testing Accuracy: 0.9294\n",
      "\n"
     ]
    },
    {
     "name": "stdout",
     "output_type": "stream",
     "text": [
      "Epoch 20, Loss 0.0506\n",
      "Training Accuracy: 0.9463, Testing Accuracy: 0.9546\n",
      "\n"
     ]
    },
    {
     "name": "stdout",
     "output_type": "stream",
     "text": [
      "Epoch 30, Loss 0.0404\n",
      "Training Accuracy: 0.9550, Testing Accuracy: 0.9607\n",
      "\n"
     ]
    },
    {
     "name": "stdout",
     "output_type": "stream",
     "text": [
      "Epoch 40, Loss 0.0351\n",
      "Training Accuracy: 0.9602, Testing Accuracy: 0.9637\n",
      "\n"
     ]
    },
    {
     "name": "stdout",
     "output_type": "stream",
     "text": [
      "Epoch 50, Loss 0.0318\n",
      "Training Accuracy: 0.9640, Testing Accuracy: 0.9662\n",
      "\n"
     ]
    },
    {
     "name": "stdout",
     "output_type": "stream",
     "text": [
      "Epoch 60, Loss 0.0294\n",
      "Training Accuracy: 0.9664, Testing Accuracy: 0.9677\n",
      "\n"
     ]
    },
    {
     "name": "stdout",
     "output_type": "stream",
     "text": [
      "Epoch 70, Loss 0.0276\n",
      "Training Accuracy: 0.9690, Testing Accuracy: 0.9688\n",
      "\n"
     ]
    },
    {
     "name": "stdout",
     "output_type": "stream",
     "text": [
      "Epoch 80, Loss 0.0262\n",
      "Training Accuracy: 0.9706, Testing Accuracy: 0.9703\n",
      "\n"
     ]
    },
    {
     "name": "stdout",
     "output_type": "stream",
     "text": [
      "Epoch 90, Loss 0.025\n",
      "Training Accuracy: 0.9710, Testing Accuracy: 0.9703\n",
      "\n"
     ]
    },
    {
     "name": "stdout",
     "output_type": "stream",
     "text": [
      "Epoch 100, Loss 0.024\n",
      "Training Accuracy: 0.9721, Testing Accuracy: 0.9718\n",
      "\n"
     ]
    },
    {
     "name": "stdout",
     "output_type": "stream",
     "text": [
      "Epoch 110, Loss 0.0231\n",
      "Training Accuracy: 0.9735, Testing Accuracy: 0.9718\n",
      "\n"
     ]
    },
    {
     "name": "stdout",
     "output_type": "stream",
     "text": [
      "Epoch 120, Loss 0.0223\n",
      "Training Accuracy: 0.9743, Testing Accuracy: 0.9723\n",
      "\n"
     ]
    },
    {
     "name": "stdout",
     "output_type": "stream",
     "text": [
      "Epoch 130, Loss 0.0216\n",
      "Training Accuracy: 0.9753, Testing Accuracy: 0.9733\n",
      "\n"
     ]
    },
    {
     "name": "stdout",
     "output_type": "stream",
     "text": [
      "Epoch 140, Loss 0.021\n",
      "Training Accuracy: 0.9759, Testing Accuracy: 0.9733\n",
      "\n"
     ]
    },
    {
     "name": "stdout",
     "output_type": "stream",
     "text": [
      "Epoch 150, Loss 0.0204\n",
      "Training Accuracy: 0.9764, Testing Accuracy: 0.9733\n",
      "\n"
     ]
    },
    {
     "name": "stdout",
     "output_type": "stream",
     "text": [
      "Epoch 160, Loss 0.0198\n",
      "Training Accuracy: 0.9770, Testing Accuracy: 0.9738\n",
      "\n"
     ]
    },
    {
     "name": "stdout",
     "output_type": "stream",
     "text": [
      "Epoch 170, Loss 0.0193\n",
      "Training Accuracy: 0.9780, Testing Accuracy: 0.9738\n",
      "\n"
     ]
    },
    {
     "name": "stdout",
     "output_type": "stream",
     "text": [
      "Epoch 180, Loss 0.0189\n",
      "Training Accuracy: 0.9785, Testing Accuracy: 0.9753\n",
      "\n"
     ]
    },
    {
     "name": "stdout",
     "output_type": "stream",
     "text": [
      "Epoch 190, Loss 0.0184\n",
      "Training Accuracy: 0.9792, Testing Accuracy: 0.9758\n",
      "\n"
     ]
    },
    {
     "name": "stdout",
     "output_type": "stream",
     "text": [
      "Epoch 200, Loss 0.018\n",
      "Training Accuracy: 0.9799, Testing Accuracy: 0.9758\n",
      "\n"
     ]
    },
    {
     "name": "stdout",
     "output_type": "stream",
     "text": [
      "Epoch 210, Loss 0.0176\n",
      "Training Accuracy: 0.9806, Testing Accuracy: 0.9763\n",
      "\n"
     ]
    },
    {
     "name": "stdout",
     "output_type": "stream",
     "text": [
      "Epoch 220, Loss 0.0172\n",
      "Training Accuracy: 0.9811, Testing Accuracy: 0.9773\n",
      "\n"
     ]
    },
    {
     "name": "stdout",
     "output_type": "stream",
     "text": [
      "Epoch 230, Loss 0.0168\n",
      "Training Accuracy: 0.9816, Testing Accuracy: 0.9778\n",
      "\n"
     ]
    },
    {
     "name": "stdout",
     "output_type": "stream",
     "text": [
      "Epoch 240, Loss 0.0165\n",
      "Training Accuracy: 0.9818, Testing Accuracy: 0.9778\n",
      "\n"
     ]
    },
    {
     "data": {
      "text/plain": [
       "0.001856306356154681"
      ]
     },
     "execution_count": 22,
     "metadata": {},
     "output_type": "execute_result"
    }
   ],
   "source": [
    "nn_learner.train_loop(dl)"
   ]
  },
  {
   "cell_type": "code",
   "execution_count": 23,
   "id": "e0163366",
   "metadata": {
    "execution": {
     "iopub.execute_input": "2021-09-04T10:09:50.856936Z",
     "iopub.status.busy": "2021-09-04T10:09:50.856214Z",
     "iopub.status.idle": "2021-09-04T10:10:11.847091Z",
     "shell.execute_reply": "2021-09-04T10:10:11.847966Z"
    },
    "papermill": {
     "duration": 21.051138,
     "end_time": "2021-09-04T10:10:11.848140",
     "exception": false,
     "start_time": "2021-09-04T10:09:50.797002",
     "status": "completed"
    },
    "tags": []
   },
   "outputs": [
    {
     "name": "stdout",
     "output_type": "stream",
     "text": [
      "Epoch 0, Loss 0.2207\n",
      "Training Accuracy: 0.7799, Testing Accuracy: 0.8039\n",
      "\n"
     ]
    },
    {
     "name": "stdout",
     "output_type": "stream",
     "text": [
      "Epoch 10, Loss 0.0993\n",
      "Training Accuracy: 0.9157, Testing Accuracy: 0.9244\n",
      "\n"
     ]
    },
    {
     "name": "stdout",
     "output_type": "stream",
     "text": [
      "Epoch 20, Loss 0.0773\n",
      "Training Accuracy: 0.9308, Testing Accuracy: 0.9385\n",
      "\n"
     ]
    },
    {
     "name": "stdout",
     "output_type": "stream",
     "text": [
      "Epoch 30, Loss 0.067\n",
      "Training Accuracy: 0.9382, Testing Accuracy: 0.9461\n",
      "\n"
     ]
    },
    {
     "name": "stdout",
     "output_type": "stream",
     "text": [
      "Epoch 40, Loss 0.0608\n",
      "Training Accuracy: 0.9425, Testing Accuracy: 0.9501\n",
      "\n"
     ]
    },
    {
     "name": "stdout",
     "output_type": "stream",
     "text": [
      "Epoch 50, Loss 0.0565\n",
      "Training Accuracy: 0.9461, Testing Accuracy: 0.9521\n",
      "\n"
     ]
    },
    {
     "name": "stdout",
     "output_type": "stream",
     "text": [
      "Epoch 60, Loss 0.0533\n",
      "Training Accuracy: 0.9480, Testing Accuracy: 0.9546\n",
      "\n"
     ]
    },
    {
     "name": "stdout",
     "output_type": "stream",
     "text": [
      "Epoch 70, Loss 0.0509\n",
      "Training Accuracy: 0.9495, Testing Accuracy: 0.9546\n",
      "\n"
     ]
    },
    {
     "name": "stdout",
     "output_type": "stream",
     "text": [
      "Epoch 80, Loss 0.0489\n",
      "Training Accuracy: 0.9509, Testing Accuracy: 0.9582\n",
      "\n"
     ]
    },
    {
     "name": "stdout",
     "output_type": "stream",
     "text": [
      "Epoch 90, Loss 0.0473\n",
      "Training Accuracy: 0.9522, Testing Accuracy: 0.9607\n",
      "\n"
     ]
    },
    {
     "name": "stdout",
     "output_type": "stream",
     "text": [
      "Epoch 100, Loss 0.0459\n",
      "Training Accuracy: 0.9528, Testing Accuracy: 0.9607\n",
      "\n"
     ]
    },
    {
     "name": "stdout",
     "output_type": "stream",
     "text": [
      "Epoch 110, Loss 0.0447\n",
      "Training Accuracy: 0.9541, Testing Accuracy: 0.9612\n",
      "\n"
     ]
    },
    {
     "name": "stdout",
     "output_type": "stream",
     "text": [
      "Epoch 120, Loss 0.0437\n",
      "Training Accuracy: 0.9550, Testing Accuracy: 0.9612\n",
      "\n"
     ]
    },
    {
     "name": "stdout",
     "output_type": "stream",
     "text": [
      "Epoch 130, Loss 0.0428\n",
      "Training Accuracy: 0.9562, Testing Accuracy: 0.9622\n",
      "\n"
     ]
    },
    {
     "name": "stdout",
     "output_type": "stream",
     "text": [
      "Epoch 140, Loss 0.042\n",
      "Training Accuracy: 0.9565, Testing Accuracy: 0.9632\n",
      "\n"
     ]
    },
    {
     "name": "stdout",
     "output_type": "stream",
     "text": [
      "Epoch 150, Loss 0.0413\n",
      "Training Accuracy: 0.9568, Testing Accuracy: 0.9637\n",
      "\n"
     ]
    },
    {
     "name": "stdout",
     "output_type": "stream",
     "text": [
      "Epoch 160, Loss 0.0406\n",
      "Training Accuracy: 0.9569, Testing Accuracy: 0.9637\n",
      "\n"
     ]
    },
    {
     "name": "stdout",
     "output_type": "stream",
     "text": [
      "Epoch 170, Loss 0.04\n",
      "Training Accuracy: 0.9572, Testing Accuracy: 0.9642\n",
      "\n"
     ]
    },
    {
     "name": "stdout",
     "output_type": "stream",
     "text": [
      "Epoch 180, Loss 0.0395\n",
      "Training Accuracy: 0.9576, Testing Accuracy: 0.9637\n",
      "\n"
     ]
    },
    {
     "name": "stdout",
     "output_type": "stream",
     "text": [
      "Epoch 190, Loss 0.0389\n",
      "Training Accuracy: 0.9580, Testing Accuracy: 0.9642\n",
      "\n"
     ]
    },
    {
     "name": "stdout",
     "output_type": "stream",
     "text": [
      "Epoch 200, Loss 0.0385\n",
      "Training Accuracy: 0.9585, Testing Accuracy: 0.9637\n",
      "\n"
     ]
    },
    {
     "name": "stdout",
     "output_type": "stream",
     "text": [
      "Epoch 210, Loss 0.038\n",
      "Training Accuracy: 0.9590, Testing Accuracy: 0.9637\n",
      "\n"
     ]
    },
    {
     "name": "stdout",
     "output_type": "stream",
     "text": [
      "Epoch 220, Loss 0.0376\n",
      "Training Accuracy: 0.9594, Testing Accuracy: 0.9637\n",
      "\n"
     ]
    },
    {
     "name": "stdout",
     "output_type": "stream",
     "text": [
      "Epoch 230, Loss 0.0373\n",
      "Training Accuracy: 0.9597, Testing Accuracy: 0.9642\n",
      "\n"
     ]
    },
    {
     "name": "stdout",
     "output_type": "stream",
     "text": [
      "Epoch 240, Loss 0.0369\n",
      "Training Accuracy: 0.9598, Testing Accuracy: 0.9642\n",
      "\n"
     ]
    },
    {
     "data": {
      "text/plain": [
       "0.026165251548970984"
      ]
     },
     "execution_count": 23,
     "metadata": {},
     "output_type": "execute_result"
    }
   ],
   "source": [
    "lr_learner.train_loop(dl)"
   ]
  },
  {
   "cell_type": "code",
   "execution_count": 24,
   "id": "ca410940",
   "metadata": {
    "execution": {
     "iopub.execute_input": "2021-09-04T10:10:11.969706Z",
     "iopub.status.busy": "2021-09-04T10:10:11.968910Z",
     "iopub.status.idle": "2021-09-04T10:10:12.320114Z",
     "shell.execute_reply": "2021-09-04T10:10:12.320703Z"
    },
    "papermill": {
     "duration": 0.415156,
     "end_time": "2021-09-04T10:10:12.320872",
     "exception": false,
     "start_time": "2021-09-04T10:10:11.905716",
     "status": "completed"
    },
    "tags": []
   },
   "outputs": [
    {
     "data": {
      "text/plain": [
       "<matplotlib.legend.Legend at 0x7fd5be831e48>"
      ]
     },
     "execution_count": 24,
     "metadata": {},
     "output_type": "execute_result"
    },
    {
     "data": {
      "image/png": "[encoded data removed]",
      "text/plain": [
       "<Figure size 1080x720 with 1 Axes>"
      ]
     },
     "metadata": {
      "needs_background": "light"
     },
     "output_type": "display_data"
    }
   ],
   "source": [
    "#comparing the results of NN and LR\n",
    "plt.figure(figsize=(15,10))\n",
    "\n",
    "# Neural Network plots\n",
    "plt.plot(acc_nn.accuracies, 'r-', label = \"Training Accuracies - NN\")\n",
    "plt.plot(acc_nn.test_accuracies, 'g-', label = \"Testing Accuracies - NN\")\n",
    "\n",
    "# Logistic Regression plots\n",
    "plt.plot(acc_lr.accuracies, 'k-', label = \"Training Accuracies - LR\")\n",
    "plt.plot(acc_lr.test_accuracies, 'b-', label = \"Testing Accuracies - LR\")\n",
    "plt.legend()"
   ]
  },
  {
   "cell_type": "markdown",
   "id": "80dfb35c",
   "metadata": {
    "papermill": {
     "duration": 0.060921,
     "end_time": "2021-09-04T10:10:12.442053",
     "exception": false,
     "start_time": "2021-09-04T10:10:12.381132",
     "status": "completed"
    },
    "tags": []
   },
   "source": [
    "#### Plotting the outputs of this layer of the NN.\n"
   ]
  },
  {
   "cell_type": "code",
   "execution_count": 25,
   "id": "45eb2ff5",
   "metadata": {
    "execution": {
     "iopub.execute_input": "2021-09-04T10:10:12.567426Z",
     "iopub.status.busy": "2021-09-04T10:10:12.564345Z",
     "iopub.status.idle": "2021-09-04T10:10:12.595716Z",
     "shell.execute_reply": "2021-09-04T10:10:12.596684Z"
    },
    "papermill": {
     "duration": 0.096951,
     "end_time": "2021-09-04T10:10:12.596862",
     "exception": false,
     "start_time": "2021-09-04T10:10:12.499911",
     "status": "completed"
    },
    "tags": []
   },
   "outputs": [],
   "source": [
    "new_model = Model(layers[:-2])\n",
    "testing_plot = new_model(testing_data_x)"
   ]
  },
  {
   "cell_type": "code",
   "execution_count": 26,
   "id": "4c0a5485",
   "metadata": {
    "execution": {
     "iopub.execute_input": "2021-09-04T10:10:12.725087Z",
     "iopub.status.busy": "2021-09-04T10:10:12.724366Z",
     "iopub.status.idle": "2021-09-04T10:10:13.010302Z",
     "shell.execute_reply": "2021-09-04T10:10:13.009710Z"
    },
    "papermill": {
     "duration": 0.354162,
     "end_time": "2021-09-04T10:10:13.010496",
     "exception": false,
     "start_time": "2021-09-04T10:10:12.656334",
     "status": "completed"
    },
    "tags": []
   },
   "outputs": [
    {
     "data": {
      "text/plain": [
       "Text(0.5, 1.0, 'Outputs')"
      ]
     },
     "execution_count": 26,
     "metadata": {},
     "output_type": "execute_result"
    },
    {
     "data": {
      "image/png": "[encoded data removed]",
      "text/plain": [
       "<Figure size 576x504 with 1 Axes>"
      ]
     },
     "metadata": {
      "needs_background": "light"
     },
     "output_type": "display_data"
    }
   ],
   "source": [
    "# Plotting the scatter plot of points and color coding by class\n",
    "plt.figure(figsize=(8,7))\n",
    "plt.scatter(testing_plot[:,0], testing_plot[:,1], alpha = 0.1, c = y_test.ravel());\n",
    "plt.title('Outputs')"
   ]
  },
  {
   "cell_type": "markdown",
   "id": "a74fcf8f",
   "metadata": {
    "papermill": {
     "duration": 0.066449,
     "end_time": "2021-09-04T10:10:13.136780",
     "exception": false,
     "start_time": "2021-09-04T10:10:13.070331",
     "status": "completed"
    },
    "tags": []
   },
   "source": [
    "Probability contours"
   ]
  },
  {
   "cell_type": "code",
   "execution_count": 27,
   "id": "d0afc8e3",
   "metadata": {
    "execution": {
     "iopub.execute_input": "2021-09-04T10:10:13.272245Z",
     "iopub.status.busy": "2021-09-04T10:10:13.271492Z",
     "iopub.status.idle": "2021-09-04T10:10:13.284667Z",
     "shell.execute_reply": "2021-09-04T10:10:13.285313Z"
    },
    "papermill": {
     "duration": 0.089493,
     "end_time": "2021-09-04T10:10:13.285462",
     "exception": false,
     "start_time": "2021-09-04T10:10:13.195969",
     "status": "completed"
    },
    "tags": []
   },
   "outputs": [],
   "source": [
    "model_prob = Model(layers[-2:]) "
   ]
  },
  {
   "cell_type": "code",
   "execution_count": 28,
   "id": "9b96e238",
   "metadata": {
    "execution": {
     "iopub.execute_input": "2021-09-04T10:10:13.447469Z",
     "iopub.status.busy": "2021-09-04T10:10:13.438152Z",
     "iopub.status.idle": "2021-09-04T10:10:13.455002Z",
     "shell.execute_reply": "2021-09-04T10:10:13.455557Z"
    },
    "papermill": {
     "duration": 0.08415,
     "end_time": "2021-09-04T10:10:13.455728",
     "exception": false,
     "start_time": "2021-09-04T10:10:13.371578",
     "status": "completed"
    },
    "tags": []
   },
   "outputs": [],
   "source": [
    "#creating the x and y ranges according to the above generated plot.\n",
    "x_range = np.linspace(-4, 1, 100) \n",
    "y_range = np.linspace(-6, 6, 100) \n",
    "x_grid, y_grid = np.meshgrid(x_range, y_range) # x_grid and y_grig are of size 100 X 100\n",
    "\n",
    "# converting x_grid and y_grid to continuous arrays\n",
    "x_gridflat = np.ravel(x_grid)\n",
    "y_gridflat = np.ravel(y_grid)\n",
    "\n",
    "# The last layer of the current model takes two columns as input. Hence transpose of np.vstack() is required.\n",
    "X = np.vstack((x_gridflat, y_gridflat)).T\n",
    "\n",
    "prob_contour = model_prob(X).reshape(100,100) "
   ]
  },
  {
   "cell_type": "code",
   "execution_count": 29,
   "id": "da72499a",
   "metadata": {
    "execution": {
     "iopub.execute_input": "2021-09-04T10:10:13.601777Z",
     "iopub.status.busy": "2021-09-04T10:10:13.598417Z",
     "iopub.status.idle": "2021-09-04T10:10:13.964678Z",
     "shell.execute_reply": "2021-09-04T10:10:13.965615Z"
    },
    "papermill": {
     "duration": 0.436698,
     "end_time": "2021-09-04T10:10:13.965788",
     "exception": false,
     "start_time": "2021-09-04T10:10:13.529090",
     "status": "completed"
    },
    "tags": []
   },
   "outputs": [
    {
     "data": {
      "image/png": "[encoded data removed]",
      "text/plain": [
       "<Figure size 720x648 with 1 Axes>"
      ]
     },
     "metadata": {
      "needs_background": "light"
     },
     "output_type": "display_data"
    }
   ],
   "source": [
    "plt.figure(figsize=(10,9))\n",
    "plt.scatter(testing_plot[:,0], testing_plot[:,1], alpha = 0.1, c = y_test.ravel())\n",
    "contours = plt.contour(x_grid,y_grid,prob_contour)\n",
    "plt.title('Probability Contours')\n",
    "plt.clabel(contours, inline = True );"
   ]
  },
  {
   "cell_type": "code",
   "execution_count": null,
   "id": "e81b4ac7",
   "metadata": {
    "papermill": {
     "duration": 0.069496,
     "end_time": "2021-09-04T10:10:14.099643",
     "exception": false,
     "start_time": "2021-09-04T10:10:14.030147",
     "status": "completed"
    },
    "tags": []
   },
   "outputs": [],
   "source": []
  }
 ],
 "metadata": {
  "kernelspec": {
   "display_name": "Python 3",
   "language": "python",
   "name": "python3"
  },
  "language_info": {
   "codemirror_mode": {
    "name": "ipython",
    "version": 3
   },
   "file_extension": ".py",
   "mimetype": "text/x-python",
   "name": "python",
   "nbconvert_exporter": "python",
   "pygments_lexer": "ipython3",
   "version": "3.6.14"
  },
  "papermill": {
   "default_parameters": {},
   "duration": 182.406378,
   "end_time": "2021-09-04T10:10:14.575523",
   "environment_variables": {},
   "exception": null,
   "input_path": "2020-08-11-part2.ipynb",
   "output_path": "2020-08-11-part2.ipynb",
   "parameters": {},
   "start_time": "2021-09-04T10:07:12.169145",
   "version": "2.3.3"
  }
 },
 "nbformat": 4,
 "nbformat_minor": 5
}