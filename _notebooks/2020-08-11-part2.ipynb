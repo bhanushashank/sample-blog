{
 "cells": [
  {
   "cell_type": "markdown",
   "id": "98380cd3",
   "metadata": {
    "papermill": {
     "duration": 0.028678,
     "end_time": "2022-04-10T00:33:19.969816",
     "exception": false,
     "start_time": "2022-04-10T00:33:19.941138",
     "status": "completed"
    },
    "tags": []
   },
   "source": [
    "# Distinguish Your Own Digits (DYOD)"
   ]
  },
  {
   "cell_type": "markdown",
   "id": "ef31240d",
   "metadata": {
    "papermill": {
     "duration": 0.025719,
     "end_time": "2022-04-10T00:33:20.023278",
     "exception": false,
     "start_time": "2022-04-10T00:33:19.997559",
     "status": "completed"
    },
    "tags": []
   },
   "source": [
    "You are going to write a classifier that distinguishes between the number 3 and number 8."
   ]
  },
  {
   "cell_type": "code",
   "execution_count": 1,
   "id": "b15c8646",
   "metadata": {
    "execution": {
     "iopub.execute_input": "2022-04-10T00:33:20.082141Z",
     "iopub.status.busy": "2022-04-10T00:33:20.081631Z",
     "iopub.status.idle": "2022-04-10T00:33:20.091228Z",
     "shell.execute_reply": "2022-04-10T00:33:20.091605Z"
    },
    "papermill": {
     "duration": 0.044055,
     "end_time": "2022-04-10T00:33:20.091741",
     "exception": false,
     "start_time": "2022-04-10T00:33:20.047686",
     "status": "completed"
    },
    "tags": []
   },
   "outputs": [],
   "source": [
    "%load_ext autoreload\n",
    "%autoreload 2"
   ]
  },
  {
   "cell_type": "code",
   "execution_count": 2,
   "id": "22ef38dc",
   "metadata": {
    "execution": {
     "iopub.execute_input": "2022-04-10T00:33:20.144463Z",
     "iopub.status.busy": "2022-04-10T00:33:20.143932Z",
     "iopub.status.idle": "2022-04-10T00:33:20.691044Z",
     "shell.execute_reply": "2022-04-10T00:33:20.690600Z"
    },
    "papermill": {
     "duration": 0.574834,
     "end_time": "2022-04-10T00:33:20.691156",
     "exception": false,
     "start_time": "2022-04-10T00:33:20.116322",
     "status": "completed"
    },
    "tags": []
   },
   "outputs": [],
   "source": [
    "%matplotlib inline\n",
    "import numpy as np\n",
    "import matplotlib.pyplot as plt\n",
    "import pandas as pd"
   ]
  },
  {
   "cell_type": "markdown",
   "id": "ba036198",
   "metadata": {
    "papermill": {
     "duration": 0.024726,
     "end_time": "2022-04-10T00:33:20.740527",
     "exception": false,
     "start_time": "2022-04-10T00:33:20.715801",
     "status": "completed"
    },
    "tags": []
   },
   "source": [
    "From the command line run `pip install mnist`. This is a library that will help you bring down the mnist dataset. If you run this from a notebook, you need to put  `!pip install mnist` in a cell by itself."
   ]
  },
  {
   "cell_type": "code",
   "execution_count": 3,
   "id": "bb6ad8a1",
   "metadata": {
    "execution": {
     "iopub.execute_input": "2022-04-10T00:33:20.793809Z",
     "iopub.status.busy": "2022-04-10T00:33:20.793303Z",
     "iopub.status.idle": "2022-04-10T00:33:22.530442Z",
     "shell.execute_reply": "2022-04-10T00:33:22.529964Z"
    },
    "papermill": {
     "duration": 1.765217,
     "end_time": "2022-04-10T00:33:22.530553",
     "exception": false,
     "start_time": "2022-04-10T00:33:20.765336",
     "status": "completed"
    },
    "tags": []
   },
   "outputs": [
    {
     "name": "stdout",
     "output_type": "stream",
     "text": [
      "Collecting mnist\r\n"
     ]
    },
    {
     "name": "stdout",
     "output_type": "stream",
     "text": [
      "  Downloading mnist-0.2.2-py2.py3-none-any.whl (3.5 kB)\r\n",
      "Requirement already satisfied: numpy in /opt/hostedtoolcache/Python/3.6.15/x64/lib/python3.6/site-packages (from mnist) (1.19.5)\r\n"
     ]
    },
    {
     "name": "stdout",
     "output_type": "stream",
     "text": [
      "Installing collected packages: mnist\r\n"
     ]
    },
    {
     "name": "stdout",
     "output_type": "stream",
     "text": [
      "Successfully installed mnist-0.2.2\r\n"
     ]
    }
   ],
   "source": [
    "!pip install mnist"
   ]
  },
  {
   "cell_type": "markdown",
   "id": "69df9c9a",
   "metadata": {
    "papermill": {
     "duration": 0.02593,
     "end_time": "2022-04-10T00:33:22.582592",
     "exception": false,
     "start_time": "2022-04-10T00:33:22.556662",
     "status": "completed"
    },
    "tags": []
   },
   "source": [
    "## Preparing the Data"
   ]
  },
  {
   "cell_type": "code",
   "execution_count": 4,
   "id": "7f69d806",
   "metadata": {
    "execution": {
     "iopub.execute_input": "2022-04-10T00:33:22.637651Z",
     "iopub.status.busy": "2022-04-10T00:33:22.637142Z",
     "iopub.status.idle": "2022-04-10T00:33:22.650239Z",
     "shell.execute_reply": "2022-04-10T00:33:22.649845Z"
    },
    "papermill": {
     "duration": 0.042167,
     "end_time": "2022-04-10T00:33:22.650340",
     "exception": false,
     "start_time": "2022-04-10T00:33:22.608173",
     "status": "completed"
    },
    "tags": []
   },
   "outputs": [],
   "source": [
    "import mnist"
   ]
  },
  {
   "cell_type": "code",
   "execution_count": 5,
   "id": "a411e44f",
   "metadata": {
    "execution": {
     "iopub.execute_input": "2022-04-10T00:33:22.705466Z",
     "iopub.status.busy": "2022-04-10T00:33:22.704974Z",
     "iopub.status.idle": "2022-04-10T00:33:23.345665Z",
     "shell.execute_reply": "2022-04-10T00:33:23.346096Z"
    },
    "papermill": {
     "duration": 0.669973,
     "end_time": "2022-04-10T00:33:23.346228",
     "exception": false,
     "start_time": "2022-04-10T00:33:22.676255",
     "status": "completed"
    },
    "tags": []
   },
   "outputs": [],
   "source": [
    "train_images = mnist.train_images()\n",
    "train_labels = mnist.train_labels()"
   ]
  },
  {
   "cell_type": "code",
   "execution_count": 6,
   "id": "dceab3a5",
   "metadata": {
    "execution": {
     "iopub.execute_input": "2022-04-10T00:33:23.402031Z",
     "iopub.status.busy": "2022-04-10T00:33:23.401517Z",
     "iopub.status.idle": "2022-04-10T00:33:23.415284Z",
     "shell.execute_reply": "2022-04-10T00:33:23.414886Z"
    },
    "papermill": {
     "duration": 0.043079,
     "end_time": "2022-04-10T00:33:23.415387",
     "exception": false,
     "start_time": "2022-04-10T00:33:23.372308",
     "status": "completed"
    },
    "tags": []
   },
   "outputs": [
    {
     "data": {
      "text/plain": [
       "((60000, 28, 28), (60000,))"
      ]
     },
     "execution_count": 6,
     "metadata": {},
     "output_type": "execute_result"
    }
   ],
   "source": [
    "train_images.shape, train_labels.shape"
   ]
  },
  {
   "cell_type": "code",
   "execution_count": 7,
   "id": "f50dc2bb",
   "metadata": {
    "execution": {
     "iopub.execute_input": "2022-04-10T00:33:23.470819Z",
     "iopub.status.busy": "2022-04-10T00:33:23.470336Z",
     "iopub.status.idle": "2022-04-10T00:33:23.714741Z",
     "shell.execute_reply": "2022-04-10T00:33:23.714301Z"
    },
    "papermill": {
     "duration": 0.273357,
     "end_time": "2022-04-10T00:33:23.714854",
     "exception": false,
     "start_time": "2022-04-10T00:33:23.441497",
     "status": "completed"
    },
    "tags": []
   },
   "outputs": [],
   "source": [
    "test_images = mnist.test_images()\n",
    "test_labels = mnist.test_labels()"
   ]
  },
  {
   "cell_type": "code",
   "execution_count": 8,
   "id": "fc38cf1b",
   "metadata": {
    "execution": {
     "iopub.execute_input": "2022-04-10T00:33:23.770821Z",
     "iopub.status.busy": "2022-04-10T00:33:23.770335Z",
     "iopub.status.idle": "2022-04-10T00:33:23.782306Z",
     "shell.execute_reply": "2022-04-10T00:33:23.782763Z"
    },
    "papermill": {
     "duration": 0.041587,
     "end_time": "2022-04-10T00:33:23.782876",
     "exception": false,
     "start_time": "2022-04-10T00:33:23.741289",
     "status": "completed"
    },
    "tags": []
   },
   "outputs": [
    {
     "data": {
      "text/plain": [
       "((10000, 28, 28), (10000,))"
      ]
     },
     "execution_count": 8,
     "metadata": {},
     "output_type": "execute_result"
    }
   ],
   "source": [
    "test_images.shape, test_labels.shape"
   ]
  },
  {
   "cell_type": "code",
   "execution_count": 9,
   "id": "f9ed8fe0",
   "metadata": {
    "execution": {
     "iopub.execute_input": "2022-04-10T00:33:23.839378Z",
     "iopub.status.busy": "2022-04-10T00:33:23.838890Z",
     "iopub.status.idle": "2022-04-10T00:33:23.971121Z",
     "shell.execute_reply": "2022-04-10T00:33:23.971525Z"
    },
    "papermill": {
     "duration": 0.162223,
     "end_time": "2022-04-10T00:33:23.971644",
     "exception": false,
     "start_time": "2022-04-10T00:33:23.809421",
     "status": "completed"
    },
    "tags": []
   },
   "outputs": [
    {
     "name": "stdout",
     "output_type": "stream",
     "text": [
      "2\n"
     ]
    },
    {
     "data": {
      "text/plain": [
       "<matplotlib.image.AxesImage at 0x7f487c8db4a8>"
      ]
     },
     "execution_count": 9,
     "metadata": {},
     "output_type": "execute_result"
    },
    {
     "data": {
      "image/png": "[encoded data removed]",
      "text/plain": [
       "<Figure size 432x288 with 1 Axes>"
      ]
     },
     "metadata": {
      "needs_background": "light"
     },
     "output_type": "display_data"
    }
   ],
   "source": [
    "image_index = 7776 # You may select anything up to 60,000\n",
    "print(train_labels[image_index]) \n",
    "plt.imshow(train_images[image_index], cmap='Greys')"
   ]
  },
  {
   "cell_type": "markdown",
   "id": "a8d2388d",
   "metadata": {
    "papermill": {
     "duration": 0.027456,
     "end_time": "2022-04-10T00:33:24.026745",
     "exception": false,
     "start_time": "2022-04-10T00:33:23.999289",
     "status": "completed"
    },
    "tags": []
   },
   "source": [
    "## Filter data to get 3 and 8 out"
   ]
  },
  {
   "cell_type": "code",
   "execution_count": 10,
   "id": "776f7fc7",
   "metadata": {
    "execution": {
     "iopub.execute_input": "2022-04-10T00:33:24.085504Z",
     "iopub.status.busy": "2022-04-10T00:33:24.085008Z",
     "iopub.status.idle": "2022-04-10T00:33:24.101475Z",
     "shell.execute_reply": "2022-04-10T00:33:24.101067Z"
    },
    "papermill": {
     "duration": 0.047451,
     "end_time": "2022-04-10T00:33:24.101579",
     "exception": false,
     "start_time": "2022-04-10T00:33:24.054128",
     "status": "completed"
    },
    "tags": []
   },
   "outputs": [],
   "source": [
    "train_filter = np.where((train_labels == 3 ) | (train_labels == 8))\n",
    "test_filter = np.where((test_labels == 3) | (test_labels == 8))\n",
    "X_train, y_train = train_images[train_filter], train_labels[train_filter]\n",
    "X_test, y_test = test_images[test_filter], test_labels[test_filter]"
   ]
  },
  {
   "cell_type": "markdown",
   "id": "948f0b7e",
   "metadata": {
    "papermill": {
     "duration": 0.027367,
     "end_time": "2022-04-10T00:33:24.156608",
     "exception": false,
     "start_time": "2022-04-10T00:33:24.129241",
     "status": "completed"
    },
    "tags": []
   },
   "source": [
    "We normalize the pizel values in the 0 to 1 range"
   ]
  },
  {
   "cell_type": "code",
   "execution_count": 11,
   "id": "ee4c2166",
   "metadata": {
    "execution": {
     "iopub.execute_input": "2022-04-10T00:33:24.214287Z",
     "iopub.status.busy": "2022-04-10T00:33:24.213802Z",
     "iopub.status.idle": "2022-04-10T00:33:24.253981Z",
     "shell.execute_reply": "2022-04-10T00:33:24.253561Z"
    },
    "papermill": {
     "duration": 0.070085,
     "end_time": "2022-04-10T00:33:24.254090",
     "exception": false,
     "start_time": "2022-04-10T00:33:24.184005",
     "status": "completed"
    },
    "tags": []
   },
   "outputs": [],
   "source": [
    "X_train = X_train/255.\n",
    "X_test = X_test/255."
   ]
  },
  {
   "cell_type": "markdown",
   "id": "ddcf4fab",
   "metadata": {
    "papermill": {
     "duration": 0.027695,
     "end_time": "2022-04-10T00:33:24.309614",
     "exception": false,
     "start_time": "2022-04-10T00:33:24.281919",
     "status": "completed"
    },
    "tags": []
   },
   "source": [
    "And setup the labels as 1 (when the digit is 3) and 0 (when the digit is 8)"
   ]
  },
  {
   "cell_type": "code",
   "execution_count": 12,
   "id": "7dc908f2",
   "metadata": {
    "execution": {
     "iopub.execute_input": "2022-04-10T00:33:24.367728Z",
     "iopub.status.busy": "2022-04-10T00:33:24.367241Z",
     "iopub.status.idle": "2022-04-10T00:33:24.378788Z",
     "shell.execute_reply": "2022-04-10T00:33:24.378386Z"
    },
    "papermill": {
     "duration": 0.041863,
     "end_time": "2022-04-10T00:33:24.378889",
     "exception": false,
     "start_time": "2022-04-10T00:33:24.337026",
     "status": "completed"
    },
    "tags": []
   },
   "outputs": [],
   "source": [
    "y_train = 1*(y_train==3)\n",
    "y_test = 1*(y_test==3)"
   ]
  },
  {
   "cell_type": "code",
   "execution_count": 13,
   "id": "01e4e969",
   "metadata": {
    "execution": {
     "iopub.execute_input": "2022-04-10T00:33:24.437089Z",
     "iopub.status.busy": "2022-04-10T00:33:24.436577Z",
     "iopub.status.idle": "2022-04-10T00:33:24.450308Z",
     "shell.execute_reply": "2022-04-10T00:33:24.449639Z"
    },
    "papermill": {
     "duration": 0.044026,
     "end_time": "2022-04-10T00:33:24.450412",
     "exception": false,
     "start_time": "2022-04-10T00:33:24.406386",
     "status": "completed"
    },
    "tags": []
   },
   "outputs": [
    {
     "data": {
      "text/plain": [
       "((11982, 28, 28), (1984, 28, 28))"
      ]
     },
     "execution_count": 13,
     "metadata": {},
     "output_type": "execute_result"
    }
   ],
   "source": [
    "X_train.shape, X_test.shape"
   ]
  },
  {
   "cell_type": "markdown",
   "id": "5ccf3f85",
   "metadata": {
    "papermill": {
     "duration": 0.02753,
     "end_time": "2022-04-10T00:33:24.505556",
     "exception": false,
     "start_time": "2022-04-10T00:33:24.478026",
     "status": "completed"
    },
    "tags": []
   },
   "source": [
    "We reshape the data to flatten the image pixels into a set of features or co-variates:"
   ]
  },
  {
   "cell_type": "code",
   "execution_count": 14,
   "id": "5286a4a3",
   "metadata": {
    "execution": {
     "iopub.execute_input": "2022-04-10T00:33:24.564714Z",
     "iopub.status.busy": "2022-04-10T00:33:24.564203Z",
     "iopub.status.idle": "2022-04-10T00:33:24.577124Z",
     "shell.execute_reply": "2022-04-10T00:33:24.576724Z"
    },
    "papermill": {
     "duration": 0.043859,
     "end_time": "2022-04-10T00:33:24.577225",
     "exception": false,
     "start_time": "2022-04-10T00:33:24.533366",
     "status": "completed"
    },
    "tags": []
   },
   "outputs": [
    {
     "data": {
      "text/plain": [
       "((11982, 784), (1984, 784))"
      ]
     },
     "execution_count": 14,
     "metadata": {},
     "output_type": "execute_result"
    }
   ],
   "source": [
    "X_train = X_train.reshape(X_train.shape[0], -1)\n",
    "X_test = X_test.reshape(X_test.shape[0], -1)\n",
    "X_train.shape, X_test.shape"
   ]
  },
  {
   "cell_type": "code",
   "execution_count": 15,
   "id": "73c5f88a",
   "metadata": {
    "execution": {
     "iopub.execute_input": "2022-04-10T00:33:24.636911Z",
     "iopub.status.busy": "2022-04-10T00:33:24.636383Z",
     "iopub.status.idle": "2022-04-10T00:33:24.653801Z",
     "shell.execute_reply": "2022-04-10T00:33:24.653398Z"
    },
    "papermill": {
     "duration": 0.04868,
     "end_time": "2022-04-10T00:33:24.653902",
     "exception": false,
     "start_time": "2022-04-10T00:33:24.605222",
     "status": "completed"
    },
    "tags": []
   },
   "outputs": [],
   "source": [
    "#Impoting functions from 'Kudzu'\n",
    "from kudzu.model import Model\n",
    "from kudzu.train import Learner\n",
    "from kudzu.optim import GD\n",
    "from kudzu.data import Data, Sampler,Dataloader\n",
    "\n",
    "from kudzu.callbacks import AccCallback\n",
    "from kudzu.callbacks import ClfCallback\n",
    "\n",
    "from kudzu.loss import MSE\n",
    "\n",
    "from kudzu.layer import Sigmoid,Relu\n",
    "from kudzu.layer import Affine"
   ]
  },
  {
   "cell_type": "markdown",
   "id": "bc01172a",
   "metadata": {
    "papermill": {
     "duration": 0.028244,
     "end_time": "2022-04-10T00:33:24.710048",
     "exception": false,
     "start_time": "2022-04-10T00:33:24.681804",
     "status": "completed"
    },
    "tags": []
   },
   "source": [
    "### Let us create a `Config` class, to store important parameters. \n",
    "This class essentially plays the role of a dictionary."
   ]
  },
  {
   "cell_type": "code",
   "execution_count": 16,
   "id": "978281aa",
   "metadata": {
    "execution": {
     "iopub.execute_input": "2022-04-10T00:33:24.769240Z",
     "iopub.status.busy": "2022-04-10T00:33:24.768737Z",
     "iopub.status.idle": "2022-04-10T00:33:24.780276Z",
     "shell.execute_reply": "2022-04-10T00:33:24.779882Z"
    },
    "papermill": {
     "duration": 0.04239,
     "end_time": "2022-04-10T00:33:24.780374",
     "exception": false,
     "start_time": "2022-04-10T00:33:24.737984",
     "status": "completed"
    },
    "tags": []
   },
   "outputs": [],
   "source": [
    "class Config:\n",
    "    pass\n",
    "config = Config()\n",
    "config.lr = 0.001\n",
    "config.num_epochs = 250\n",
    "config.bs = 50"
   ]
  },
  {
   "cell_type": "markdown",
   "id": "1385fa59",
   "metadata": {
    "papermill": {
     "duration": 0.028149,
     "end_time": "2022-04-10T00:33:24.836495",
     "exception": false,
     "start_time": "2022-04-10T00:33:24.808346",
     "status": "completed"
    },
    "tags": []
   },
   "source": [
    "### Running Models with the Training data\n",
    "Details about the network layers:\n",
    "- A first affine layer has 784 inputs and does 100 affine transforms. These are followed by a Relu\n",
    "- A second affine layer has 100 inputs from the 100 activations of the past layer, and does 100 affine transforms. These are followed by a Relu\n",
    "- A third affine layer has 100 activations and does 2 affine transformations to create an embedding for visualization. There is no non-linearity here.\n",
    "- A final \"logistic regression\" which has an affine transform from 2 inputs to 1 output, which is squeezed through a sigmoid.\n"
   ]
  },
  {
   "cell_type": "code",
   "execution_count": 17,
   "id": "2b9c66db",
   "metadata": {
    "execution": {
     "iopub.execute_input": "2022-04-10T00:33:24.896118Z",
     "iopub.status.busy": "2022-04-10T00:33:24.895619Z",
     "iopub.status.idle": "2022-04-10T00:33:24.907180Z",
     "shell.execute_reply": "2022-04-10T00:33:24.906786Z"
    },
    "papermill": {
     "duration": 0.042686,
     "end_time": "2022-04-10T00:33:24.907277",
     "exception": false,
     "start_time": "2022-04-10T00:33:24.864591",
     "status": "completed"
    },
    "tags": []
   },
   "outputs": [],
   "source": [
    "data = Data(X_train, y_train.reshape(-1,1))\n",
    "sampler = Sampler(data, config.bs, shuffle=True)\n",
    "\n",
    "dl = Dataloader(data, sampler)\n",
    "\n",
    "opt = GD(config.lr)\n",
    "loss = MSE()"
   ]
  },
  {
   "cell_type": "code",
   "execution_count": 18,
   "id": "b275e4c2",
   "metadata": {
    "execution": {
     "iopub.execute_input": "2022-04-10T00:33:24.966807Z",
     "iopub.status.busy": "2022-04-10T00:33:24.966310Z",
     "iopub.status.idle": "2022-04-10T00:33:24.977888Z",
     "shell.execute_reply": "2022-04-10T00:33:24.977484Z"
    },
    "papermill": {
     "duration": 0.042744,
     "end_time": "2022-04-10T00:33:24.977991",
     "exception": false,
     "start_time": "2022-04-10T00:33:24.935247",
     "status": "completed"
    },
    "tags": []
   },
   "outputs": [],
   "source": [
    "training_data_x = X_train\n",
    "testing_data_x = X_test\n",
    "training_data_y = y_train.reshape(-1,1)\n",
    "testing_data_y = y_test.reshape(-1,1)"
   ]
  },
  {
   "cell_type": "code",
   "execution_count": 19,
   "id": "76951160",
   "metadata": {
    "execution": {
     "iopub.execute_input": "2022-04-10T00:33:25.038018Z",
     "iopub.status.busy": "2022-04-10T00:33:25.037513Z",
     "iopub.status.idle": "2022-04-10T00:33:25.054573Z",
     "shell.execute_reply": "2022-04-10T00:33:25.054974Z"
    },
    "papermill": {
     "duration": 0.049003,
     "end_time": "2022-04-10T00:33:25.055091",
     "exception": false,
     "start_time": "2022-04-10T00:33:25.006088",
     "status": "completed"
    },
    "tags": []
   },
   "outputs": [
    {
     "name": "stdout",
     "output_type": "stream",
     "text": [
      "xavier\n",
      "xavier\n",
      "xavier\n",
      "xavier\n",
      "xavier\n"
     ]
    }
   ],
   "source": [
    "layers = [Affine(\"first\", 784, 100), Relu(\"first\"), Affine(\"second\", 100, 100), Relu(\"second\"), Affine(\"third\", 100, 2), Affine(\"last\", 2, 1), Sigmoid(\"last\")]\n",
    "model_nn = Model(layers)\n",
    "model_lr = Model([Affine(\"logits\", 784, 1), Sigmoid(\"sigmoid\")])"
   ]
  },
  {
   "cell_type": "code",
   "execution_count": 20,
   "id": "6eede77a",
   "metadata": {
    "execution": {
     "iopub.execute_input": "2022-04-10T00:33:25.115678Z",
     "iopub.status.busy": "2022-04-10T00:33:25.115164Z",
     "iopub.status.idle": "2022-04-10T00:33:25.126496Z",
     "shell.execute_reply": "2022-04-10T00:33:25.126102Z"
    },
    "papermill": {
     "duration": 0.043173,
     "end_time": "2022-04-10T00:33:25.126597",
     "exception": false,
     "start_time": "2022-04-10T00:33:25.083424",
     "status": "completed"
    },
    "tags": []
   },
   "outputs": [],
   "source": [
    "nn_learner = Learner(loss, model_nn, opt, config.num_epochs)\n",
    "acc_nn = ClfCallback(nn_learner, config.bs, training_data_x , testing_data_x, training_data_y, testing_data_y)\n",
    "nn_learner.set_callbacks([acc_nn])"
   ]
  },
  {
   "cell_type": "code",
   "execution_count": 21,
   "id": "877b6cc7",
   "metadata": {
    "execution": {
     "iopub.execute_input": "2022-04-10T00:33:25.186385Z",
     "iopub.status.busy": "2022-04-10T00:33:25.185882Z",
     "iopub.status.idle": "2022-04-10T00:33:25.197177Z",
     "shell.execute_reply": "2022-04-10T00:33:25.196770Z"
    },
    "papermill": {
     "duration": 0.042444,
     "end_time": "2022-04-10T00:33:25.197272",
     "exception": false,
     "start_time": "2022-04-10T00:33:25.154828",
     "status": "completed"
    },
    "tags": []
   },
   "outputs": [],
   "source": [
    "lr_learner = Learner(loss, model_lr, opt, config.num_epochs)\n",
    "acc_lr = ClfCallback(lr_learner, config.bs, training_data_x , testing_data_x, training_data_y, testing_data_y)\n",
    "lr_learner.set_callbacks([acc_lr])"
   ]
  },
  {
   "cell_type": "code",
   "execution_count": 22,
   "id": "d9b133c3",
   "metadata": {
    "execution": {
     "iopub.execute_input": "2022-04-10T00:33:25.256811Z",
     "iopub.status.busy": "2022-04-10T00:33:25.256300Z",
     "iopub.status.idle": "2022-04-10T00:36:21.503567Z",
     "shell.execute_reply": "2022-04-10T00:36:21.503980Z"
    },
    "papermill": {
     "duration": 176.278639,
     "end_time": "2022-04-10T00:36:21.504104",
     "exception": false,
     "start_time": "2022-04-10T00:33:25.225465",
     "status": "completed"
    },
    "tags": []
   },
   "outputs": [
    {
     "name": "stdout",
     "output_type": "stream",
     "text": [
      "Epoch 0, Loss 0.2019\n",
      "Training Accuracy: 0.8003, Testing Accuracy: 0.8185\n",
      "\n"
     ]
    },
    {
     "name": "stdout",
     "output_type": "stream",
     "text": [
      "Epoch 10, Loss 0.0635\n",
      "Training Accuracy: 0.9336, Testing Accuracy: 0.9466\n",
      "\n"
     ]
    },
    {
     "name": "stdout",
     "output_type": "stream",
     "text": [
      "Epoch 20, Loss 0.0439\n",
      "Training Accuracy: 0.9525, Testing Accuracy: 0.9607\n",
      "\n"
     ]
    },
    {
     "name": "stdout",
     "output_type": "stream",
     "text": [
      "Epoch 30, Loss 0.0366\n",
      "Training Accuracy: 0.9596, Testing Accuracy: 0.9652\n",
      "\n"
     ]
    },
    {
     "name": "stdout",
     "output_type": "stream",
     "text": [
      "Epoch 40, Loss 0.0325\n",
      "Training Accuracy: 0.9636, Testing Accuracy: 0.9672\n",
      "\n"
     ]
    },
    {
     "name": "stdout",
     "output_type": "stream",
     "text": [
      "Epoch 50, Loss 0.0298\n",
      "Training Accuracy: 0.9661, Testing Accuracy: 0.9718\n",
      "\n"
     ]
    },
    {
     "name": "stdout",
     "output_type": "stream",
     "text": [
      "Epoch 60, Loss 0.0278\n",
      "Training Accuracy: 0.9684, Testing Accuracy: 0.9723\n",
      "\n"
     ]
    },
    {
     "name": "stdout",
     "output_type": "stream",
     "text": [
      "Epoch 70, Loss 0.0263\n",
      "Training Accuracy: 0.9700, Testing Accuracy: 0.9743\n",
      "\n"
     ]
    },
    {
     "name": "stdout",
     "output_type": "stream",
     "text": [
      "Epoch 80, Loss 0.0249\n",
      "Training Accuracy: 0.9712, Testing Accuracy: 0.9753\n",
      "\n"
     ]
    },
    {
     "name": "stdout",
     "output_type": "stream",
     "text": [
      "Epoch 90, Loss 0.0238\n",
      "Training Accuracy: 0.9716, Testing Accuracy: 0.9753\n",
      "\n"
     ]
    },
    {
     "name": "stdout",
     "output_type": "stream",
     "text": [
      "Epoch 100, Loss 0.0229\n",
      "Training Accuracy: 0.9732, Testing Accuracy: 0.9758\n",
      "\n"
     ]
    },
    {
     "name": "stdout",
     "output_type": "stream",
     "text": [
      "Epoch 110, Loss 0.022\n",
      "Training Accuracy: 0.9749, Testing Accuracy: 0.9768\n",
      "\n"
     ]
    },
    {
     "name": "stdout",
     "output_type": "stream",
     "text": [
      "Epoch 120, Loss 0.0212\n",
      "Training Accuracy: 0.9758, Testing Accuracy: 0.9778\n",
      "\n"
     ]
    },
    {
     "name": "stdout",
     "output_type": "stream",
     "text": [
      "Epoch 130, Loss 0.0205\n",
      "Training Accuracy: 0.9764, Testing Accuracy: 0.9773\n",
      "\n"
     ]
    },
    {
     "name": "stdout",
     "output_type": "stream",
     "text": [
      "Epoch 140, Loss 0.0198\n",
      "Training Accuracy: 0.9777, Testing Accuracy: 0.9783\n",
      "\n"
     ]
    },
    {
     "name": "stdout",
     "output_type": "stream",
     "text": [
      "Epoch 150, Loss 0.0192\n",
      "Training Accuracy: 0.9789, Testing Accuracy: 0.9783\n",
      "\n"
     ]
    },
    {
     "name": "stdout",
     "output_type": "stream",
     "text": [
      "Epoch 160, Loss 0.0186\n",
      "Training Accuracy: 0.9798, Testing Accuracy: 0.9783\n",
      "\n"
     ]
    },
    {
     "name": "stdout",
     "output_type": "stream",
     "text": [
      "Epoch 170, Loss 0.018\n",
      "Training Accuracy: 0.9810, Testing Accuracy: 0.9778\n",
      "\n"
     ]
    },
    {
     "name": "stdout",
     "output_type": "stream",
     "text": [
      "Epoch 180, Loss 0.0175\n",
      "Training Accuracy: 0.9813, Testing Accuracy: 0.9778\n",
      "\n"
     ]
    },
    {
     "name": "stdout",
     "output_type": "stream",
     "text": [
      "Epoch 190, Loss 0.017\n",
      "Training Accuracy: 0.9818, Testing Accuracy: 0.9768\n",
      "\n"
     ]
    },
    {
     "name": "stdout",
     "output_type": "stream",
     "text": [
      "Epoch 200, Loss 0.0165\n",
      "Training Accuracy: 0.9825, Testing Accuracy: 0.9773\n",
      "\n"
     ]
    },
    {
     "name": "stdout",
     "output_type": "stream",
     "text": [
      "Epoch 210, Loss 0.0161\n",
      "Training Accuracy: 0.9833, Testing Accuracy: 0.9783\n",
      "\n"
     ]
    },
    {
     "name": "stdout",
     "output_type": "stream",
     "text": [
      "Epoch 220, Loss 0.0157\n",
      "Training Accuracy: 0.9839, Testing Accuracy: 0.9783\n",
      "\n"
     ]
    },
    {
     "name": "stdout",
     "output_type": "stream",
     "text": [
      "Epoch 230, Loss 0.0153\n",
      "Training Accuracy: 0.9841, Testing Accuracy: 0.9778\n",
      "\n"
     ]
    },
    {
     "name": "stdout",
     "output_type": "stream",
     "text": [
      "Epoch 240, Loss 0.0148\n",
      "Training Accuracy: 0.9846, Testing Accuracy: 0.9783\n",
      "\n"
     ]
    },
    {
     "data": {
      "text/plain": [
       "0.0028242844160057657"
      ]
     },
     "execution_count": 22,
     "metadata": {},
     "output_type": "execute_result"
    }
   ],
   "source": [
    "nn_learner.train_loop(dl)"
   ]
  },
  {
   "cell_type": "code",
   "execution_count": 23,
   "id": "e0163366",
   "metadata": {
    "execution": {
     "iopub.execute_input": "2022-04-10T00:36:21.578898Z",
     "iopub.status.busy": "2022-04-10T00:36:21.578392Z",
     "iopub.status.idle": "2022-04-10T00:36:34.006680Z",
     "shell.execute_reply": "2022-04-10T00:36:34.007304Z"
    },
    "papermill": {
     "duration": 12.46748,
     "end_time": "2022-04-10T00:36:34.007434",
     "exception": false,
     "start_time": "2022-04-10T00:36:21.539954",
     "status": "completed"
    },
    "tags": []
   },
   "outputs": [
    {
     "name": "stdout",
     "output_type": "stream",
     "text": [
      "Epoch 0, Loss 0.2307\n",
      "Training Accuracy: 0.7138, Testing Accuracy: 0.7006\n",
      "\n"
     ]
    },
    {
     "name": "stdout",
     "output_type": "stream",
     "text": [
      "Epoch 10, Loss 0.1047\n",
      "Training Accuracy: 0.9021, Testing Accuracy: 0.9138\n",
      "\n"
     ]
    },
    {
     "name": "stdout",
     "output_type": "stream",
     "text": [
      "Epoch 20, Loss 0.0805\n",
      "Training Accuracy: 0.9239, Testing Accuracy: 0.9370\n",
      "\n"
     ]
    },
    {
     "name": "stdout",
     "output_type": "stream",
     "text": [
      "Epoch 30, Loss 0.0693\n",
      "Training Accuracy: 0.9351, Testing Accuracy: 0.9466\n",
      "\n"
     ]
    },
    {
     "name": "stdout",
     "output_type": "stream",
     "text": [
      "Epoch 40, Loss 0.0624\n",
      "Training Accuracy: 0.9408, Testing Accuracy: 0.9526\n",
      "\n"
     ]
    },
    {
     "name": "stdout",
     "output_type": "stream",
     "text": [
      "Epoch 50, Loss 0.0578\n",
      "Training Accuracy: 0.9451, Testing Accuracy: 0.9546\n",
      "\n"
     ]
    },
    {
     "name": "stdout",
     "output_type": "stream",
     "text": [
      "Epoch 60, Loss 0.0544\n",
      "Training Accuracy: 0.9476, Testing Accuracy: 0.9572\n",
      "\n"
     ]
    },
    {
     "name": "stdout",
     "output_type": "stream",
     "text": [
      "Epoch 70, Loss 0.0518\n",
      "Training Accuracy: 0.9488, Testing Accuracy: 0.9592\n",
      "\n"
     ]
    },
    {
     "name": "stdout",
     "output_type": "stream",
     "text": [
      "Epoch 80, Loss 0.0496\n",
      "Training Accuracy: 0.9505, Testing Accuracy: 0.9607\n",
      "\n"
     ]
    },
    {
     "name": "stdout",
     "output_type": "stream",
     "text": [
      "Epoch 90, Loss 0.0479\n",
      "Training Accuracy: 0.9521, Testing Accuracy: 0.9617\n",
      "\n"
     ]
    },
    {
     "name": "stdout",
     "output_type": "stream",
     "text": [
      "Epoch 100, Loss 0.0465\n",
      "Training Accuracy: 0.9529, Testing Accuracy: 0.9617\n",
      "\n"
     ]
    },
    {
     "name": "stdout",
     "output_type": "stream",
     "text": [
      "Epoch 110, Loss 0.0452\n",
      "Training Accuracy: 0.9536, Testing Accuracy: 0.9627\n",
      "\n"
     ]
    },
    {
     "name": "stdout",
     "output_type": "stream",
     "text": [
      "Epoch 120, Loss 0.0441\n",
      "Training Accuracy: 0.9549, Testing Accuracy: 0.9642\n",
      "\n"
     ]
    },
    {
     "name": "stdout",
     "output_type": "stream",
     "text": [
      "Epoch 130, Loss 0.0432\n",
      "Training Accuracy: 0.9558, Testing Accuracy: 0.9647\n",
      "\n"
     ]
    },
    {
     "name": "stdout",
     "output_type": "stream",
     "text": [
      "Epoch 140, Loss 0.0423\n",
      "Training Accuracy: 0.9568, Testing Accuracy: 0.9642\n",
      "\n"
     ]
    },
    {
     "name": "stdout",
     "output_type": "stream",
     "text": [
      "Epoch 150, Loss 0.0416\n",
      "Training Accuracy: 0.9572, Testing Accuracy: 0.9642\n",
      "\n"
     ]
    },
    {
     "name": "stdout",
     "output_type": "stream",
     "text": [
      "Epoch 160, Loss 0.0409\n",
      "Training Accuracy: 0.9576, Testing Accuracy: 0.9647\n",
      "\n"
     ]
    },
    {
     "name": "stdout",
     "output_type": "stream",
     "text": [
      "Epoch 170, Loss 0.0403\n",
      "Training Accuracy: 0.9579, Testing Accuracy: 0.9647\n",
      "\n"
     ]
    },
    {
     "name": "stdout",
     "output_type": "stream",
     "text": [
      "Epoch 180, Loss 0.0397\n",
      "Training Accuracy: 0.9584, Testing Accuracy: 0.9657\n",
      "\n"
     ]
    },
    {
     "name": "stdout",
     "output_type": "stream",
     "text": [
      "Epoch 190, Loss 0.0392\n",
      "Training Accuracy: 0.9590, Testing Accuracy: 0.9657\n",
      "\n"
     ]
    },
    {
     "name": "stdout",
     "output_type": "stream",
     "text": [
      "Epoch 200, Loss 0.0387\n",
      "Training Accuracy: 0.9594, Testing Accuracy: 0.9657\n",
      "\n"
     ]
    },
    {
     "name": "stdout",
     "output_type": "stream",
     "text": [
      "Epoch 210, Loss 0.0382\n",
      "Training Accuracy: 0.9599, Testing Accuracy: 0.9652\n",
      "\n"
     ]
    },
    {
     "name": "stdout",
     "output_type": "stream",
     "text": [
      "Epoch 220, Loss 0.0378\n",
      "Training Accuracy: 0.9603, Testing Accuracy: 0.9652\n",
      "\n"
     ]
    },
    {
     "name": "stdout",
     "output_type": "stream",
     "text": [
      "Epoch 230, Loss 0.0374\n",
      "Training Accuracy: 0.9607, Testing Accuracy: 0.9657\n",
      "\n"
     ]
    },
    {
     "name": "stdout",
     "output_type": "stream",
     "text": [
      "Epoch 240, Loss 0.037\n",
      "Training Accuracy: 0.9614, Testing Accuracy: 0.9662\n",
      "\n"
     ]
    },
    {
     "data": {
      "text/plain": [
       "0.07607041791424565"
      ]
     },
     "execution_count": 23,
     "metadata": {},
     "output_type": "execute_result"
    }
   ],
   "source": [
    "lr_learner.train_loop(dl)"
   ]
  },
  {
   "cell_type": "code",
   "execution_count": 24,
   "id": "ca410940",
   "metadata": {
    "execution": {
     "iopub.execute_input": "2022-04-10T00:36:34.109916Z",
     "iopub.status.busy": "2022-04-10T00:36:34.109173Z",
     "iopub.status.idle": "2022-04-10T00:36:34.333086Z",
     "shell.execute_reply": "2022-04-10T00:36:34.332661Z"
    },
    "papermill": {
     "duration": 0.282442,
     "end_time": "2022-04-10T00:36:34.333195",
     "exception": false,
     "start_time": "2022-04-10T00:36:34.050753",
     "status": "completed"
    },
    "tags": []
   },
   "outputs": [
    {
     "data": {
      "text/plain": [
       "<matplotlib.legend.Legend at 0x7f487c4b8c88>"
      ]
     },
     "execution_count": 24,
     "metadata": {},
     "output_type": "execute_result"
    },
    {
     "data": {
      "image/png": "[encoded data removed]",
      "text/plain": [
       "<Figure size 1080x720 with 1 Axes>"
      ]
     },
     "metadata": {
      "needs_background": "light"
     },
     "output_type": "display_data"
    }
   ],
   "source": [
    "#comparing the results of NN and LR\n",
    "plt.figure(figsize=(15,10))\n",
    "\n",
    "# Neural Network plots\n",
    "plt.plot(acc_nn.accuracies, 'r-', label = \"Training Accuracies - NN\")\n",
    "plt.plot(acc_nn.test_accuracies, 'g-', label = \"Testing Accuracies - NN\")\n",
    "\n",
    "# Logistic Regression plots\n",
    "plt.plot(acc_lr.accuracies, 'k-', label = \"Training Accuracies - LR\")\n",
    "plt.plot(acc_lr.test_accuracies, 'b-', label = \"Testing Accuracies - LR\")\n",
    "plt.legend()"
   ]
  },
  {
   "cell_type": "markdown",
   "id": "80dfb35c",
   "metadata": {
    "papermill": {
     "duration": 0.043856,
     "end_time": "2022-04-10T00:36:34.421273",
     "exception": false,
     "start_time": "2022-04-10T00:36:34.377417",
     "status": "completed"
    },
    "tags": []
   },
   "source": [
    "#### Plotting the outputs of this layer of the NN.\n"
   ]
  },
  {
   "cell_type": "code",
   "execution_count": 25,
   "id": "45eb2ff5",
   "metadata": {
    "execution": {
     "iopub.execute_input": "2022-04-10T00:36:34.515354Z",
     "iopub.status.busy": "2022-04-10T00:36:34.513164Z",
     "iopub.status.idle": "2022-04-10T00:36:34.548769Z",
     "shell.execute_reply": "2022-04-10T00:36:34.549474Z"
    },
    "papermill": {
     "duration": 0.084585,
     "end_time": "2022-04-10T00:36:34.549608",
     "exception": false,
     "start_time": "2022-04-10T00:36:34.465023",
     "status": "completed"
    },
    "tags": []
   },
   "outputs": [],
   "source": [
    "new_model = Model(layers[:-2])\n",
    "testing_plot = new_model(testing_data_x)"
   ]
  },
  {
   "cell_type": "code",
   "execution_count": 26,
   "id": "4c0a5485",
   "metadata": {
    "execution": {
     "iopub.execute_input": "2022-04-10T00:36:34.646644Z",
     "iopub.status.busy": "2022-04-10T00:36:34.644521Z",
     "iopub.status.idle": "2022-04-10T00:36:34.826696Z",
     "shell.execute_reply": "2022-04-10T00:36:34.827084Z"
    },
    "papermill": {
     "duration": 0.23342,
     "end_time": "2022-04-10T00:36:34.827212",
     "exception": false,
     "start_time": "2022-04-10T00:36:34.593792",
     "status": "completed"
    },
    "tags": []
   },
   "outputs": [
    {
     "data": {
      "text/plain": [
       "Text(0.5, 1.0, 'Outputs')"
      ]
     },
     "execution_count": 26,
     "metadata": {},
     "output_type": "execute_result"
    },
    {
     "data": {
      "image/png": "[encoded data removed]",
      "text/plain": [
       "<Figure size 576x504 with 1 Axes>"
      ]
     },
     "metadata": {
      "needs_background": "light"
     },
     "output_type": "display_data"
    }
   ],
   "source": [
    "# Plotting the scatter plot of points and color coding by class\n",
    "plt.figure(figsize=(8,7))\n",
    "plt.scatter(testing_plot[:,0], testing_plot[:,1], alpha = 0.1, c = y_test.ravel());\n",
    "plt.title('Outputs')"
   ]
  },
  {
   "cell_type": "markdown",
   "id": "a74fcf8f",
   "metadata": {
    "papermill": {
     "duration": 0.066567,
     "end_time": "2022-04-10T00:36:34.939663",
     "exception": false,
     "start_time": "2022-04-10T00:36:34.873096",
     "status": "completed"
    },
    "tags": []
   },
   "source": [
    "Probability contours"
   ]
  },
  {
   "cell_type": "code",
   "execution_count": 27,
   "id": "d0afc8e3",
   "metadata": {
    "execution": {
     "iopub.execute_input": "2022-04-10T00:36:35.035179Z",
     "iopub.status.busy": "2022-04-10T00:36:35.034667Z",
     "iopub.status.idle": "2022-04-10T00:36:35.045924Z",
     "shell.execute_reply": "2022-04-10T00:36:35.045530Z"
    },
    "papermill": {
     "duration": 0.060246,
     "end_time": "2022-04-10T00:36:35.046026",
     "exception": false,
     "start_time": "2022-04-10T00:36:34.985780",
     "status": "completed"
    },
    "tags": []
   },
   "outputs": [],
   "source": [
    "model_prob = Model(layers[-2:]) "
   ]
  },
  {
   "cell_type": "code",
   "execution_count": 28,
   "id": "9b96e238",
   "metadata": {
    "execution": {
     "iopub.execute_input": "2022-04-10T00:36:35.141489Z",
     "iopub.status.busy": "2022-04-10T00:36:35.140994Z",
     "iopub.status.idle": "2022-04-10T00:36:35.153361Z",
     "shell.execute_reply": "2022-04-10T00:36:35.153761Z"
    },
    "papermill": {
     "duration": 0.062118,
     "end_time": "2022-04-10T00:36:35.153884",
     "exception": false,
     "start_time": "2022-04-10T00:36:35.091766",
     "status": "completed"
    },
    "tags": []
   },
   "outputs": [],
   "source": [
    "#creating the x and y ranges according to the above generated plot.\n",
    "x_range = np.linspace(-4, 1, 100) \n",
    "y_range = np.linspace(-6, 6, 100) \n",
    "x_grid, y_grid = np.meshgrid(x_range, y_range) # x_grid and y_grig are of size 100 X 100\n",
    "\n",
    "# converting x_grid and y_grid to continuous arrays\n",
    "x_gridflat = np.ravel(x_grid)\n",
    "y_gridflat = np.ravel(y_grid)\n",
    "\n",
    "# The last layer of the current model takes two columns as input. Hence transpose of np.vstack() is required.\n",
    "X = np.vstack((x_gridflat, y_gridflat)).T\n",
    "\n",
    "prob_contour = model_prob(X).reshape(100,100) "
   ]
  },
  {
   "cell_type": "code",
   "execution_count": 29,
   "id": "da72499a",
   "metadata": {
    "execution": {
     "iopub.execute_input": "2022-04-10T00:36:35.249709Z",
     "iopub.status.busy": "2022-04-10T00:36:35.249228Z",
     "iopub.status.idle": "2022-04-10T00:36:35.493434Z",
     "shell.execute_reply": "2022-04-10T00:36:35.492995Z"
    },
    "papermill": {
     "duration": 0.293566,
     "end_time": "2022-04-10T00:36:35.493542",
     "exception": false,
     "start_time": "2022-04-10T00:36:35.199976",
     "status": "completed"
    },
    "tags": []
   },
   "outputs": [
    {
     "data": {
      "image/png": "[encoded data removed]",
      "text/plain": [
       "<Figure size 720x648 with 1 Axes>"
      ]
     },
     "metadata": {
      "needs_background": "light"
     },
     "output_type": "display_data"
    }
   ],
   "source": [
    "plt.figure(figsize=(10,9))\n",
    "plt.scatter(testing_plot[:,0], testing_plot[:,1], alpha = 0.1, c = y_test.ravel())\n",
    "contours = plt.contour(x_grid,y_grid,prob_contour)\n",
    "plt.title('Probability Contours')\n",
    "plt.clabel(contours, inline = True );"
   ]
  },
  {
   "cell_type": "code",
   "execution_count": null,
   "id": "e81b4ac7",
   "metadata": {
    "papermill": {
     "duration": 0.048432,
     "end_time": "2022-04-10T00:36:35.590944",
     "exception": false,
     "start_time": "2022-04-10T00:36:35.542512",
     "status": "completed"
    },
    "tags": []
   },
   "outputs": [],
   "source": []
  }
 ],
 "metadata": {
  "kernelspec": {
   "display_name": "Python 3",
   "language": "python",
   "name": "python3"
  },
  "language_info": {
   "codemirror_mode": {
    "name": "ipython",
    "version": 3
   },
   "file_extension": ".py",
   "mimetype": "text/x-python",
   "name": "python",
   "nbconvert_exporter": "python",
   "pygments_lexer": "ipython3",
   "version": "3.6.15"
  },
  "papermill": {
   "default_parameters": {},
   "duration": 196.926373,
   "end_time": "2022-04-10T00:36:35.956028",
   "environment_variables": {},
   "exception": null,
   "input_path": "2020-08-11-part2.ipynb",
   "output_path": "2020-08-11-part2.ipynb",
   "parameters": {},
   "start_time": "2022-04-10T00:33:19.029655",
   "version": "2.3.3"
  }
 },
 "nbformat": 4,
 "nbformat_minor": 5
}