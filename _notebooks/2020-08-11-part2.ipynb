{
 "cells": [
  {
   "cell_type": "markdown",
   "id": "98380cd3",
   "metadata": {
    "papermill": {
     "duration": 0.035214,
     "end_time": "2022-02-20T00:32:21.102880",
     "exception": false,
     "start_time": "2022-02-20T00:32:21.067666",
     "status": "completed"
    },
    "tags": []
   },
   "source": [
    "# Distinguish Your Own Digits (DYOD)"
   ]
  },
  {
   "cell_type": "markdown",
   "id": "ef31240d",
   "metadata": {
    "papermill": {
     "duration": 0.028791,
     "end_time": "2022-02-20T00:32:21.159679",
     "exception": false,
     "start_time": "2022-02-20T00:32:21.130888",
     "status": "completed"
    },
    "tags": []
   },
   "source": [
    "You are going to write a classifier that distinguishes between the number 3 and number 8."
   ]
  },
  {
   "cell_type": "code",
   "execution_count": 1,
   "id": "b15c8646",
   "metadata": {
    "execution": {
     "iopub.execute_input": "2022-02-20T00:32:21.226724Z",
     "iopub.status.busy": "2022-02-20T00:32:21.226094Z",
     "iopub.status.idle": "2022-02-20T00:32:21.238326Z",
     "shell.execute_reply": "2022-02-20T00:32:21.238832Z"
    },
    "papermill": {
     "duration": 0.052232,
     "end_time": "2022-02-20T00:32:21.239007",
     "exception": false,
     "start_time": "2022-02-20T00:32:21.186775",
     "status": "completed"
    },
    "tags": []
   },
   "outputs": [],
   "source": [
    "%load_ext autoreload\n",
    "%autoreload 2"
   ]
  },
  {
   "cell_type": "code",
   "execution_count": 2,
   "id": "22ef38dc",
   "metadata": {
    "execution": {
     "iopub.execute_input": "2022-02-20T00:32:21.299341Z",
     "iopub.status.busy": "2022-02-20T00:32:21.298717Z",
     "iopub.status.idle": "2022-02-20T00:32:21.984611Z",
     "shell.execute_reply": "2022-02-20T00:32:21.983643Z"
    },
    "papermill": {
     "duration": 0.718563,
     "end_time": "2022-02-20T00:32:21.984758",
     "exception": false,
     "start_time": "2022-02-20T00:32:21.266195",
     "status": "completed"
    },
    "tags": []
   },
   "outputs": [],
   "source": [
    "%matplotlib inline\n",
    "import numpy as np\n",
    "import matplotlib.pyplot as plt\n",
    "import pandas as pd"
   ]
  },
  {
   "cell_type": "markdown",
   "id": "ba036198",
   "metadata": {
    "papermill": {
     "duration": 0.02799,
     "end_time": "2022-02-20T00:32:22.041198",
     "exception": false,
     "start_time": "2022-02-20T00:32:22.013208",
     "status": "completed"
    },
    "tags": []
   },
   "source": [
    "From the command line run `pip install mnist`. This is a library that will help you bring down the mnist dataset. If you run this from a notebook, you need to put  `!pip install mnist` in a cell by itself."
   ]
  },
  {
   "cell_type": "code",
   "execution_count": 3,
   "id": "bb6ad8a1",
   "metadata": {
    "execution": {
     "iopub.execute_input": "2022-02-20T00:32:22.103988Z",
     "iopub.status.busy": "2022-02-20T00:32:22.103162Z",
     "iopub.status.idle": "2022-02-20T00:32:24.247656Z",
     "shell.execute_reply": "2022-02-20T00:32:24.246040Z"
    },
    "papermill": {
     "duration": 2.177861,
     "end_time": "2022-02-20T00:32:24.247886",
     "exception": false,
     "start_time": "2022-02-20T00:32:22.070025",
     "status": "completed"
    },
    "tags": []
   },
   "outputs": [
    {
     "name": "stdout",
     "output_type": "stream",
     "text": [
      "Collecting mnist\r\n"
     ]
    },
    {
     "name": "stdout",
     "output_type": "stream",
     "text": [
      "  Downloading mnist-0.2.2-py2.py3-none-any.whl (3.5 kB)\r\n",
      "Requirement already satisfied: numpy in /opt/hostedtoolcache/Python/3.6.15/x64/lib/python3.6/site-packages (from mnist) (1.19.5)\r\n"
     ]
    },
    {
     "name": "stdout",
     "output_type": "stream",
     "text": [
      "Installing collected packages: mnist\r\n"
     ]
    },
    {
     "name": "stdout",
     "output_type": "stream",
     "text": [
      "Successfully installed mnist-0.2.2\r\n"
     ]
    }
   ],
   "source": [
    "!pip install mnist"
   ]
  },
  {
   "cell_type": "markdown",
   "id": "69df9c9a",
   "metadata": {
    "papermill": {
     "duration": 0.028283,
     "end_time": "2022-02-20T00:32:24.304918",
     "exception": false,
     "start_time": "2022-02-20T00:32:24.276635",
     "status": "completed"
    },
    "tags": []
   },
   "source": [
    "## Preparing the Data"
   ]
  },
  {
   "cell_type": "code",
   "execution_count": 4,
   "id": "7f69d806",
   "metadata": {
    "execution": {
     "iopub.execute_input": "2022-02-20T00:32:24.366954Z",
     "iopub.status.busy": "2022-02-20T00:32:24.365578Z",
     "iopub.status.idle": "2022-02-20T00:32:24.381609Z",
     "shell.execute_reply": "2022-02-20T00:32:24.381113Z"
    },
    "papermill": {
     "duration": 0.048604,
     "end_time": "2022-02-20T00:32:24.381739",
     "exception": false,
     "start_time": "2022-02-20T00:32:24.333135",
     "status": "completed"
    },
    "tags": []
   },
   "outputs": [],
   "source": [
    "import mnist"
   ]
  },
  {
   "cell_type": "code",
   "execution_count": 5,
   "id": "a411e44f",
   "metadata": {
    "execution": {
     "iopub.execute_input": "2022-02-20T00:32:24.452240Z",
     "iopub.status.busy": "2022-02-20T00:32:24.451623Z",
     "iopub.status.idle": "2022-02-20T00:32:25.056417Z",
     "shell.execute_reply": "2022-02-20T00:32:25.055806Z"
    },
    "papermill": {
     "duration": 0.642556,
     "end_time": "2022-02-20T00:32:25.056568",
     "exception": false,
     "start_time": "2022-02-20T00:32:24.414012",
     "status": "completed"
    },
    "tags": []
   },
   "outputs": [],
   "source": [
    "train_images = mnist.train_images()\n",
    "train_labels = mnist.train_labels()"
   ]
  },
  {
   "cell_type": "code",
   "execution_count": 6,
   "id": "dceab3a5",
   "metadata": {
    "execution": {
     "iopub.execute_input": "2022-02-20T00:32:25.120561Z",
     "iopub.status.busy": "2022-02-20T00:32:25.119077Z",
     "iopub.status.idle": "2022-02-20T00:32:25.134396Z",
     "shell.execute_reply": "2022-02-20T00:32:25.133887Z"
    },
    "papermill": {
     "duration": 0.04925,
     "end_time": "2022-02-20T00:32:25.134521",
     "exception": false,
     "start_time": "2022-02-20T00:32:25.085271",
     "status": "completed"
    },
    "tags": []
   },
   "outputs": [
    {
     "data": {
      "text/plain": [
       "((60000, 28, 28), (60000,))"
      ]
     },
     "execution_count": 6,
     "metadata": {},
     "output_type": "execute_result"
    }
   ],
   "source": [
    "train_images.shape, train_labels.shape"
   ]
  },
  {
   "cell_type": "code",
   "execution_count": 7,
   "id": "f50dc2bb",
   "metadata": {
    "execution": {
     "iopub.execute_input": "2022-02-20T00:32:25.196382Z",
     "iopub.status.busy": "2022-02-20T00:32:25.195785Z",
     "iopub.status.idle": "2022-02-20T00:32:25.342960Z",
     "shell.execute_reply": "2022-02-20T00:32:25.341824Z"
    },
    "papermill": {
     "duration": 0.180024,
     "end_time": "2022-02-20T00:32:25.343185",
     "exception": false,
     "start_time": "2022-02-20T00:32:25.163161",
     "status": "completed"
    },
    "tags": []
   },
   "outputs": [],
   "source": [
    "test_images = mnist.test_images()\n",
    "test_labels = mnist.test_labels()"
   ]
  },
  {
   "cell_type": "code",
   "execution_count": 8,
   "id": "fc38cf1b",
   "metadata": {
    "execution": {
     "iopub.execute_input": "2022-02-20T00:32:25.406674Z",
     "iopub.status.busy": "2022-02-20T00:32:25.406069Z",
     "iopub.status.idle": "2022-02-20T00:32:25.423665Z",
     "shell.execute_reply": "2022-02-20T00:32:25.423157Z"
    },
    "papermill": {
     "duration": 0.050329,
     "end_time": "2022-02-20T00:32:25.423790",
     "exception": false,
     "start_time": "2022-02-20T00:32:25.373461",
     "status": "completed"
    },
    "tags": []
   },
   "outputs": [
    {
     "data": {
      "text/plain": [
       "((10000, 28, 28), (10000,))"
      ]
     },
     "execution_count": 8,
     "metadata": {},
     "output_type": "execute_result"
    }
   ],
   "source": [
    "test_images.shape, test_labels.shape"
   ]
  },
  {
   "cell_type": "code",
   "execution_count": 9,
   "id": "f9ed8fe0",
   "metadata": {
    "execution": {
     "iopub.execute_input": "2022-02-20T00:32:25.486857Z",
     "iopub.status.busy": "2022-02-20T00:32:25.486255Z",
     "iopub.status.idle": "2022-02-20T00:32:25.650752Z",
     "shell.execute_reply": "2022-02-20T00:32:25.651236Z"
    },
    "papermill": {
     "duration": 0.198513,
     "end_time": "2022-02-20T00:32:25.651389",
     "exception": false,
     "start_time": "2022-02-20T00:32:25.452876",
     "status": "completed"
    },
    "tags": []
   },
   "outputs": [
    {
     "name": "stdout",
     "output_type": "stream",
     "text": [
      "2\n"
     ]
    },
    {
     "data": {
      "text/plain": [
       "<matplotlib.image.AxesImage at 0x7f45e19f6550>"
      ]
     },
     "execution_count": 9,
     "metadata": {},
     "output_type": "execute_result"
    },
    {
     "data": {
      "image/png": "[encoded data removed]",
      "text/plain": [
       "<Figure size 432x288 with 1 Axes>"
      ]
     },
     "metadata": {
      "needs_background": "light"
     },
     "output_type": "display_data"
    }
   ],
   "source": [
    "image_index = 7776 # You may select anything up to 60,000\n",
    "print(train_labels[image_index]) \n",
    "plt.imshow(train_images[image_index], cmap='Greys')"
   ]
  },
  {
   "cell_type": "markdown",
   "id": "a8d2388d",
   "metadata": {
    "papermill": {
     "duration": 0.030535,
     "end_time": "2022-02-20T00:32:25.712251",
     "exception": false,
     "start_time": "2022-02-20T00:32:25.681716",
     "status": "completed"
    },
    "tags": []
   },
   "source": [
    "## Filter data to get 3 and 8 out"
   ]
  },
  {
   "cell_type": "code",
   "execution_count": 10,
   "id": "776f7fc7",
   "metadata": {
    "execution": {
     "iopub.execute_input": "2022-02-20T00:32:25.778148Z",
     "iopub.status.busy": "2022-02-20T00:32:25.777531Z",
     "iopub.status.idle": "2022-02-20T00:32:25.798033Z",
     "shell.execute_reply": "2022-02-20T00:32:25.797356Z"
    },
    "papermill": {
     "duration": 0.055618,
     "end_time": "2022-02-20T00:32:25.798209",
     "exception": false,
     "start_time": "2022-02-20T00:32:25.742591",
     "status": "completed"
    },
    "tags": []
   },
   "outputs": [],
   "source": [
    "train_filter = np.where((train_labels == 3 ) | (train_labels == 8))\n",
    "test_filter = np.where((test_labels == 3) | (test_labels == 8))\n",
    "X_train, y_train = train_images[train_filter], train_labels[train_filter]\n",
    "X_test, y_test = test_images[test_filter], test_labels[test_filter]"
   ]
  },
  {
   "cell_type": "markdown",
   "id": "948f0b7e",
   "metadata": {
    "papermill": {
     "duration": 0.030096,
     "end_time": "2022-02-20T00:32:25.860458",
     "exception": false,
     "start_time": "2022-02-20T00:32:25.830362",
     "status": "completed"
    },
    "tags": []
   },
   "source": [
    "We normalize the pizel values in the 0 to 1 range"
   ]
  },
  {
   "cell_type": "code",
   "execution_count": 11,
   "id": "ee4c2166",
   "metadata": {
    "execution": {
     "iopub.execute_input": "2022-02-20T00:32:25.926060Z",
     "iopub.status.busy": "2022-02-20T00:32:25.925463Z",
     "iopub.status.idle": "2022-02-20T00:32:25.977498Z",
     "shell.execute_reply": "2022-02-20T00:32:25.976940Z"
    },
    "papermill": {
     "duration": 0.087189,
     "end_time": "2022-02-20T00:32:25.977645",
     "exception": false,
     "start_time": "2022-02-20T00:32:25.890456",
     "status": "completed"
    },
    "tags": []
   },
   "outputs": [],
   "source": [
    "X_train = X_train/255.\n",
    "X_test = X_test/255."
   ]
  },
  {
   "cell_type": "markdown",
   "id": "ddcf4fab",
   "metadata": {
    "papermill": {
     "duration": 0.030512,
     "end_time": "2022-02-20T00:32:26.038534",
     "exception": false,
     "start_time": "2022-02-20T00:32:26.008022",
     "status": "completed"
    },
    "tags": []
   },
   "source": [
    "And setup the labels as 1 (when the digit is 3) and 0 (when the digit is 8)"
   ]
  },
  {
   "cell_type": "code",
   "execution_count": 12,
   "id": "7dc908f2",
   "metadata": {
    "execution": {
     "iopub.execute_input": "2022-02-20T00:32:26.105712Z",
     "iopub.status.busy": "2022-02-20T00:32:26.105102Z",
     "iopub.status.idle": "2022-02-20T00:32:26.119480Z",
     "shell.execute_reply": "2022-02-20T00:32:26.118959Z"
    },
    "papermill": {
     "duration": 0.049953,
     "end_time": "2022-02-20T00:32:26.119610",
     "exception": false,
     "start_time": "2022-02-20T00:32:26.069657",
     "status": "completed"
    },
    "tags": []
   },
   "outputs": [],
   "source": [
    "y_train = 1*(y_train==3)\n",
    "y_test = 1*(y_test==3)"
   ]
  },
  {
   "cell_type": "code",
   "execution_count": 13,
   "id": "01e4e969",
   "metadata": {
    "execution": {
     "iopub.execute_input": "2022-02-20T00:32:26.184773Z",
     "iopub.status.busy": "2022-02-20T00:32:26.184150Z",
     "iopub.status.idle": "2022-02-20T00:32:26.199804Z",
     "shell.execute_reply": "2022-02-20T00:32:26.199317Z"
    },
    "papermill": {
     "duration": 0.049693,
     "end_time": "2022-02-20T00:32:26.199934",
     "exception": false,
     "start_time": "2022-02-20T00:32:26.150241",
     "status": "completed"
    },
    "tags": []
   },
   "outputs": [
    {
     "data": {
      "text/plain": [
       "((11982, 28, 28), (1984, 28, 28))"
      ]
     },
     "execution_count": 13,
     "metadata": {},
     "output_type": "execute_result"
    }
   ],
   "source": [
    "X_train.shape, X_test.shape"
   ]
  },
  {
   "cell_type": "markdown",
   "id": "5ccf3f85",
   "metadata": {
    "papermill": {
     "duration": 0.030351,
     "end_time": "2022-02-20T00:32:26.260715",
     "exception": false,
     "start_time": "2022-02-20T00:32:26.230364",
     "status": "completed"
    },
    "tags": []
   },
   "source": [
    "We reshape the data to flatten the image pixels into a set of features or co-variates:"
   ]
  },
  {
   "cell_type": "code",
   "execution_count": 14,
   "id": "5286a4a3",
   "metadata": {
    "execution": {
     "iopub.execute_input": "2022-02-20T00:32:26.326108Z",
     "iopub.status.busy": "2022-02-20T00:32:26.325517Z",
     "iopub.status.idle": "2022-02-20T00:32:26.346552Z",
     "shell.execute_reply": "2022-02-20T00:32:26.346039Z"
    },
    "papermill": {
     "duration": 0.055525,
     "end_time": "2022-02-20T00:32:26.346681",
     "exception": false,
     "start_time": "2022-02-20T00:32:26.291156",
     "status": "completed"
    },
    "tags": []
   },
   "outputs": [
    {
     "data": {
      "text/plain": [
       "((11982, 784), (1984, 784))"
      ]
     },
     "execution_count": 14,
     "metadata": {},
     "output_type": "execute_result"
    }
   ],
   "source": [
    "X_train = X_train.reshape(X_train.shape[0], -1)\n",
    "X_test = X_test.reshape(X_test.shape[0], -1)\n",
    "X_train.shape, X_test.shape"
   ]
  },
  {
   "cell_type": "code",
   "execution_count": 15,
   "id": "73c5f88a",
   "metadata": {
    "execution": {
     "iopub.execute_input": "2022-02-20T00:32:26.413446Z",
     "iopub.status.busy": "2022-02-20T00:32:26.412841Z",
     "iopub.status.idle": "2022-02-20T00:32:26.433376Z",
     "shell.execute_reply": "2022-02-20T00:32:26.432868Z"
    },
    "papermill": {
     "duration": 0.055963,
     "end_time": "2022-02-20T00:32:26.433511",
     "exception": false,
     "start_time": "2022-02-20T00:32:26.377548",
     "status": "completed"
    },
    "tags": []
   },
   "outputs": [],
   "source": [
    "#Impoting functions from 'Kudzu'\n",
    "from kudzu.model import Model\n",
    "from kudzu.train import Learner\n",
    "from kudzu.optim import GD\n",
    "from kudzu.data import Data, Sampler,Dataloader\n",
    "\n",
    "from kudzu.callbacks import AccCallback\n",
    "from kudzu.callbacks import ClfCallback\n",
    "\n",
    "from kudzu.loss import MSE\n",
    "\n",
    "from kudzu.layer import Sigmoid,Relu\n",
    "from kudzu.layer import Affine"
   ]
  },
  {
   "cell_type": "markdown",
   "id": "bc01172a",
   "metadata": {
    "papermill": {
     "duration": 0.031178,
     "end_time": "2022-02-20T00:32:26.495603",
     "exception": false,
     "start_time": "2022-02-20T00:32:26.464425",
     "status": "completed"
    },
    "tags": []
   },
   "source": [
    "### Let us create a `Config` class, to store important parameters. \n",
    "This class essentially plays the role of a dictionary."
   ]
  },
  {
   "cell_type": "code",
   "execution_count": 16,
   "id": "978281aa",
   "metadata": {
    "execution": {
     "iopub.execute_input": "2022-02-20T00:32:26.564900Z",
     "iopub.status.busy": "2022-02-20T00:32:26.564225Z",
     "iopub.status.idle": "2022-02-20T00:32:26.577704Z",
     "shell.execute_reply": "2022-02-20T00:32:26.578192Z"
    },
    "papermill": {
     "duration": 0.052147,
     "end_time": "2022-02-20T00:32:26.578344",
     "exception": false,
     "start_time": "2022-02-20T00:32:26.526197",
     "status": "completed"
    },
    "tags": []
   },
   "outputs": [],
   "source": [
    "class Config:\n",
    "    pass\n",
    "config = Config()\n",
    "config.lr = 0.001\n",
    "config.num_epochs = 250\n",
    "config.bs = 50"
   ]
  },
  {
   "cell_type": "markdown",
   "id": "1385fa59",
   "metadata": {
    "papermill": {
     "duration": 0.030757,
     "end_time": "2022-02-20T00:32:26.640035",
     "exception": false,
     "start_time": "2022-02-20T00:32:26.609278",
     "status": "completed"
    },
    "tags": []
   },
   "source": [
    "### Running Models with the Training data\n",
    "Details about the network layers:\n",
    "- A first affine layer has 784 inputs and does 100 affine transforms. These are followed by a Relu\n",
    "- A second affine layer has 100 inputs from the 100 activations of the past layer, and does 100 affine transforms. These are followed by a Relu\n",
    "- A third affine layer has 100 activations and does 2 affine transformations to create an embedding for visualization. There is no non-linearity here.\n",
    "- A final \"logistic regression\" which has an affine transform from 2 inputs to 1 output, which is squeezed through a sigmoid.\n"
   ]
  },
  {
   "cell_type": "code",
   "execution_count": 17,
   "id": "2b9c66db",
   "metadata": {
    "execution": {
     "iopub.execute_input": "2022-02-20T00:32:26.709316Z",
     "iopub.status.busy": "2022-02-20T00:32:26.708691Z",
     "iopub.status.idle": "2022-02-20T00:32:26.722104Z",
     "shell.execute_reply": "2022-02-20T00:32:26.721581Z"
    },
    "papermill": {
     "duration": 0.051274,
     "end_time": "2022-02-20T00:32:26.722232",
     "exception": false,
     "start_time": "2022-02-20T00:32:26.670958",
     "status": "completed"
    },
    "tags": []
   },
   "outputs": [],
   "source": [
    "data = Data(X_train, y_train.reshape(-1,1))\n",
    "sampler = Sampler(data, config.bs, shuffle=True)\n",
    "\n",
    "dl = Dataloader(data, sampler)\n",
    "\n",
    "opt = GD(config.lr)\n",
    "loss = MSE()"
   ]
  },
  {
   "cell_type": "code",
   "execution_count": 18,
   "id": "b275e4c2",
   "metadata": {
    "execution": {
     "iopub.execute_input": "2022-02-20T00:32:26.789494Z",
     "iopub.status.busy": "2022-02-20T00:32:26.788877Z",
     "iopub.status.idle": "2022-02-20T00:32:26.802265Z",
     "shell.execute_reply": "2022-02-20T00:32:26.802750Z"
    },
    "papermill": {
     "duration": 0.049735,
     "end_time": "2022-02-20T00:32:26.802901",
     "exception": false,
     "start_time": "2022-02-20T00:32:26.753166",
     "status": "completed"
    },
    "tags": []
   },
   "outputs": [],
   "source": [
    "training_data_x = X_train\n",
    "testing_data_x = X_test\n",
    "training_data_y = y_train.reshape(-1,1)\n",
    "testing_data_y = y_test.reshape(-1,1)"
   ]
  },
  {
   "cell_type": "code",
   "execution_count": 19,
   "id": "76951160",
   "metadata": {
    "execution": {
     "iopub.execute_input": "2022-02-20T00:32:26.868905Z",
     "iopub.status.busy": "2022-02-20T00:32:26.868263Z",
     "iopub.status.idle": "2022-02-20T00:32:26.887369Z",
     "shell.execute_reply": "2022-02-20T00:32:26.886887Z"
    },
    "papermill": {
     "duration": 0.053959,
     "end_time": "2022-02-20T00:32:26.887498",
     "exception": false,
     "start_time": "2022-02-20T00:32:26.833539",
     "status": "completed"
    },
    "tags": []
   },
   "outputs": [
    {
     "name": "stdout",
     "output_type": "stream",
     "text": [
      "xavier\n",
      "xavier\n",
      "xavier\n",
      "xavier\n",
      "xavier\n"
     ]
    }
   ],
   "source": [
    "layers = [Affine(\"first\", 784, 100), Relu(\"first\"), Affine(\"second\", 100, 100), Relu(\"second\"), Affine(\"third\", 100, 2), Affine(\"last\", 2, 1), Sigmoid(\"last\")]\n",
    "model_nn = Model(layers)\n",
    "model_lr = Model([Affine(\"logits\", 784, 1), Sigmoid(\"sigmoid\")])"
   ]
  },
  {
   "cell_type": "code",
   "execution_count": 20,
   "id": "6eede77a",
   "metadata": {
    "execution": {
     "iopub.execute_input": "2022-02-20T00:32:26.956072Z",
     "iopub.status.busy": "2022-02-20T00:32:26.955473Z",
     "iopub.status.idle": "2022-02-20T00:32:26.971389Z",
     "shell.execute_reply": "2022-02-20T00:32:26.971869Z"
    },
    "papermill": {
     "duration": 0.053281,
     "end_time": "2022-02-20T00:32:26.972023",
     "exception": false,
     "start_time": "2022-02-20T00:32:26.918742",
     "status": "completed"
    },
    "tags": []
   },
   "outputs": [],
   "source": [
    "nn_learner = Learner(loss, model_nn, opt, config.num_epochs)\n",
    "acc_nn = ClfCallback(nn_learner, config.bs, training_data_x , testing_data_x, training_data_y, testing_data_y)\n",
    "nn_learner.set_callbacks([acc_nn])"
   ]
  },
  {
   "cell_type": "code",
   "execution_count": 21,
   "id": "877b6cc7",
   "metadata": {
    "execution": {
     "iopub.execute_input": "2022-02-20T00:32:27.038887Z",
     "iopub.status.busy": "2022-02-20T00:32:27.038285Z",
     "iopub.status.idle": "2022-02-20T00:32:27.051927Z",
     "shell.execute_reply": "2022-02-20T00:32:27.051306Z"
    },
    "papermill": {
     "duration": 0.048826,
     "end_time": "2022-02-20T00:32:27.052059",
     "exception": false,
     "start_time": "2022-02-20T00:32:27.003233",
     "status": "completed"
    },
    "tags": []
   },
   "outputs": [],
   "source": [
    "lr_learner = Learner(loss, model_lr, opt, config.num_epochs)\n",
    "acc_lr = ClfCallback(lr_learner, config.bs, training_data_x , testing_data_x, training_data_y, testing_data_y)\n",
    "lr_learner.set_callbacks([acc_lr])"
   ]
  },
  {
   "cell_type": "code",
   "execution_count": 22,
   "id": "d9b133c3",
   "metadata": {
    "execution": {
     "iopub.execute_input": "2022-02-20T00:32:27.120563Z",
     "iopub.status.busy": "2022-02-20T00:32:27.119940Z",
     "iopub.status.idle": "2022-02-20T00:33:58.018196Z",
     "shell.execute_reply": "2022-02-20T00:33:58.019070Z"
    },
    "papermill": {
     "duration": 90.935709,
     "end_time": "2022-02-20T00:33:58.019235",
     "exception": false,
     "start_time": "2022-02-20T00:32:27.083526",
     "status": "completed"
    },
    "tags": []
   },
   "outputs": [
    {
     "name": "stdout",
     "output_type": "stream",
     "text": [
      "Epoch 0, Loss 0.2375\n",
      "Training Accuracy: 0.7045, Testing Accuracy: 0.7097\n",
      "\n"
     ]
    },
    {
     "name": "stdout",
     "output_type": "stream",
     "text": [
      "Epoch 10, Loss 0.1118\n",
      "Training Accuracy: 0.9085, Testing Accuracy: 0.9234\n",
      "\n"
     ]
    },
    {
     "name": "stdout",
     "output_type": "stream",
     "text": [
      "Epoch 20, Loss 0.0634\n",
      "Training Accuracy: 0.9326, Testing Accuracy: 0.9496\n",
      "\n"
     ]
    },
    {
     "name": "stdout",
     "output_type": "stream",
     "text": [
      "Epoch 30, Loss 0.0481\n",
      "Training Accuracy: 0.9475, Testing Accuracy: 0.9572\n",
      "\n"
     ]
    },
    {
     "name": "stdout",
     "output_type": "stream",
     "text": [
      "Epoch 40, Loss 0.0408\n",
      "Training Accuracy: 0.9543, Testing Accuracy: 0.9622\n",
      "\n"
     ]
    },
    {
     "name": "stdout",
     "output_type": "stream",
     "text": [
      "Epoch 50, Loss 0.0366\n",
      "Training Accuracy: 0.9587, Testing Accuracy: 0.9647\n",
      "\n"
     ]
    },
    {
     "name": "stdout",
     "output_type": "stream",
     "text": [
      "Epoch 60, Loss 0.0337\n",
      "Training Accuracy: 0.9614, Testing Accuracy: 0.9672\n",
      "\n"
     ]
    },
    {
     "name": "stdout",
     "output_type": "stream",
     "text": [
      "Epoch 70, Loss 0.0316\n",
      "Training Accuracy: 0.9636, Testing Accuracy: 0.9688\n",
      "\n"
     ]
    },
    {
     "name": "stdout",
     "output_type": "stream",
     "text": [
      "Epoch 80, Loss 0.03\n",
      "Training Accuracy: 0.9661, Testing Accuracy: 0.9708\n",
      "\n"
     ]
    },
    {
     "name": "stdout",
     "output_type": "stream",
     "text": [
      "Epoch 90, Loss 0.0286\n",
      "Training Accuracy: 0.9669, Testing Accuracy: 0.9723\n",
      "\n"
     ]
    },
    {
     "name": "stdout",
     "output_type": "stream",
     "text": [
      "Epoch 100, Loss 0.0274\n",
      "Training Accuracy: 0.9679, Testing Accuracy: 0.9723\n",
      "\n"
     ]
    },
    {
     "name": "stdout",
     "output_type": "stream",
     "text": [
      "Epoch 110, Loss 0.0264\n",
      "Training Accuracy: 0.9689, Testing Accuracy: 0.9718\n",
      "\n"
     ]
    },
    {
     "name": "stdout",
     "output_type": "stream",
     "text": [
      "Epoch 120, Loss 0.0256\n",
      "Training Accuracy: 0.9699, Testing Accuracy: 0.9718\n",
      "\n"
     ]
    },
    {
     "name": "stdout",
     "output_type": "stream",
     "text": [
      "Epoch 130, Loss 0.0247\n",
      "Training Accuracy: 0.9709, Testing Accuracy: 0.9718\n",
      "\n"
     ]
    },
    {
     "name": "stdout",
     "output_type": "stream",
     "text": [
      "Epoch 140, Loss 0.024\n",
      "Training Accuracy: 0.9720, Testing Accuracy: 0.9728\n",
      "\n"
     ]
    },
    {
     "name": "stdout",
     "output_type": "stream",
     "text": [
      "Epoch 150, Loss 0.0233\n",
      "Training Accuracy: 0.9724, Testing Accuracy: 0.9723\n",
      "\n"
     ]
    },
    {
     "name": "stdout",
     "output_type": "stream",
     "text": [
      "Epoch 160, Loss 0.0227\n",
      "Training Accuracy: 0.9733, Testing Accuracy: 0.9723\n",
      "\n"
     ]
    },
    {
     "name": "stdout",
     "output_type": "stream",
     "text": [
      "Epoch 170, Loss 0.0221\n",
      "Training Accuracy: 0.9737, Testing Accuracy: 0.9738\n",
      "\n"
     ]
    },
    {
     "name": "stdout",
     "output_type": "stream",
     "text": [
      "Epoch 180, Loss 0.0216\n",
      "Training Accuracy: 0.9745, Testing Accuracy: 0.9738\n",
      "\n"
     ]
    },
    {
     "name": "stdout",
     "output_type": "stream",
     "text": [
      "Epoch 190, Loss 0.0211\n",
      "Training Accuracy: 0.9760, Testing Accuracy: 0.9738\n",
      "\n"
     ]
    },
    {
     "name": "stdout",
     "output_type": "stream",
     "text": [
      "Epoch 200, Loss 0.0206\n",
      "Training Accuracy: 0.9767, Testing Accuracy: 0.9743\n",
      "\n"
     ]
    },
    {
     "name": "stdout",
     "output_type": "stream",
     "text": [
      "Epoch 210, Loss 0.0201\n",
      "Training Accuracy: 0.9775, Testing Accuracy: 0.9748\n",
      "\n"
     ]
    },
    {
     "name": "stdout",
     "output_type": "stream",
     "text": [
      "Epoch 220, Loss 0.0197\n",
      "Training Accuracy: 0.9781, Testing Accuracy: 0.9758\n",
      "\n"
     ]
    },
    {
     "name": "stdout",
     "output_type": "stream",
     "text": [
      "Epoch 230, Loss 0.0192\n",
      "Training Accuracy: 0.9784, Testing Accuracy: 0.9753\n",
      "\n"
     ]
    },
    {
     "name": "stdout",
     "output_type": "stream",
     "text": [
      "Epoch 240, Loss 0.0188\n",
      "Training Accuracy: 0.9789, Testing Accuracy: 0.9753\n",
      "\n"
     ]
    },
    {
     "data": {
      "text/plain": [
       "0.02490311434945687"
      ]
     },
     "execution_count": 22,
     "metadata": {},
     "output_type": "execute_result"
    }
   ],
   "source": [
    "nn_learner.train_loop(dl)"
   ]
  },
  {
   "cell_type": "code",
   "execution_count": 23,
   "id": "e0163366",
   "metadata": {
    "execution": {
     "iopub.execute_input": "2022-02-20T00:33:58.106413Z",
     "iopub.status.busy": "2022-02-20T00:33:58.105798Z",
     "iopub.status.idle": "2022-02-20T00:34:14.470889Z",
     "shell.execute_reply": "2022-02-20T00:34:14.471765Z"
    },
    "papermill": {
     "duration": 16.413216,
     "end_time": "2022-02-20T00:34:14.471932",
     "exception": false,
     "start_time": "2022-02-20T00:33:58.058716",
     "status": "completed"
    },
    "tags": []
   },
   "outputs": [
    {
     "name": "stdout",
     "output_type": "stream",
     "text": [
      "Epoch 0, Loss 0.2757\n",
      "Training Accuracy: 0.5292, Testing Accuracy: 0.5055\n",
      "\n"
     ]
    },
    {
     "name": "stdout",
     "output_type": "stream",
     "text": [
      "Epoch 10, Loss 0.1092\n",
      "Training Accuracy: 0.8988, Testing Accuracy: 0.9022\n",
      "\n"
     ]
    },
    {
     "name": "stdout",
     "output_type": "stream",
     "text": [
      "Epoch 20, Loss 0.082\n",
      "Training Accuracy: 0.9226, Testing Accuracy: 0.9335\n",
      "\n"
     ]
    },
    {
     "name": "stdout",
     "output_type": "stream",
     "text": [
      "Epoch 30, Loss 0.0699\n",
      "Training Accuracy: 0.9352, Testing Accuracy: 0.9451\n",
      "\n"
     ]
    },
    {
     "name": "stdout",
     "output_type": "stream",
     "text": [
      "Epoch 40, Loss 0.0627\n",
      "Training Accuracy: 0.9397, Testing Accuracy: 0.9521\n",
      "\n"
     ]
    },
    {
     "name": "stdout",
     "output_type": "stream",
     "text": [
      "Epoch 50, Loss 0.0579\n",
      "Training Accuracy: 0.9441, Testing Accuracy: 0.9536\n",
      "\n"
     ]
    },
    {
     "name": "stdout",
     "output_type": "stream",
     "text": [
      "Epoch 60, Loss 0.0544\n",
      "Training Accuracy: 0.9457, Testing Accuracy: 0.9561\n",
      "\n"
     ]
    },
    {
     "name": "stdout",
     "output_type": "stream",
     "text": [
      "Epoch 70, Loss 0.0517\n",
      "Training Accuracy: 0.9479, Testing Accuracy: 0.9587\n",
      "\n"
     ]
    },
    {
     "name": "stdout",
     "output_type": "stream",
     "text": [
      "Epoch 80, Loss 0.0496\n",
      "Training Accuracy: 0.9491, Testing Accuracy: 0.9587\n",
      "\n"
     ]
    },
    {
     "name": "stdout",
     "output_type": "stream",
     "text": [
      "Epoch 90, Loss 0.0478\n",
      "Training Accuracy: 0.9505, Testing Accuracy: 0.9607\n",
      "\n"
     ]
    },
    {
     "name": "stdout",
     "output_type": "stream",
     "text": [
      "Epoch 100, Loss 0.0464\n",
      "Training Accuracy: 0.9520, Testing Accuracy: 0.9637\n",
      "\n"
     ]
    },
    {
     "name": "stdout",
     "output_type": "stream",
     "text": [
      "Epoch 110, Loss 0.0451\n",
      "Training Accuracy: 0.9530, Testing Accuracy: 0.9657\n",
      "\n"
     ]
    },
    {
     "name": "stdout",
     "output_type": "stream",
     "text": [
      "Epoch 120, Loss 0.044\n",
      "Training Accuracy: 0.9539, Testing Accuracy: 0.9672\n",
      "\n"
     ]
    },
    {
     "name": "stdout",
     "output_type": "stream",
     "text": [
      "Epoch 130, Loss 0.0431\n",
      "Training Accuracy: 0.9548, Testing Accuracy: 0.9667\n",
      "\n"
     ]
    },
    {
     "name": "stdout",
     "output_type": "stream",
     "text": [
      "Epoch 140, Loss 0.0422\n",
      "Training Accuracy: 0.9559, Testing Accuracy: 0.9662\n",
      "\n"
     ]
    },
    {
     "name": "stdout",
     "output_type": "stream",
     "text": [
      "Epoch 150, Loss 0.0415\n",
      "Training Accuracy: 0.9564, Testing Accuracy: 0.9667\n",
      "\n"
     ]
    },
    {
     "name": "stdout",
     "output_type": "stream",
     "text": [
      "Epoch 160, Loss 0.0408\n",
      "Training Accuracy: 0.9574, Testing Accuracy: 0.9667\n",
      "\n"
     ]
    },
    {
     "name": "stdout",
     "output_type": "stream",
     "text": [
      "Epoch 170, Loss 0.0402\n",
      "Training Accuracy: 0.9580, Testing Accuracy: 0.9662\n",
      "\n"
     ]
    },
    {
     "name": "stdout",
     "output_type": "stream",
     "text": [
      "Epoch 180, Loss 0.0396\n",
      "Training Accuracy: 0.9586, Testing Accuracy: 0.9662\n",
      "\n"
     ]
    },
    {
     "name": "stdout",
     "output_type": "stream",
     "text": [
      "Epoch 190, Loss 0.0391\n",
      "Training Accuracy: 0.9589, Testing Accuracy: 0.9662\n",
      "\n"
     ]
    },
    {
     "name": "stdout",
     "output_type": "stream",
     "text": [
      "Epoch 200, Loss 0.0386\n",
      "Training Accuracy: 0.9590, Testing Accuracy: 0.9657\n",
      "\n"
     ]
    },
    {
     "name": "stdout",
     "output_type": "stream",
     "text": [
      "Epoch 210, Loss 0.0382\n",
      "Training Accuracy: 0.9594, Testing Accuracy: 0.9657\n",
      "\n"
     ]
    },
    {
     "name": "stdout",
     "output_type": "stream",
     "text": [
      "Epoch 220, Loss 0.0377\n",
      "Training Accuracy: 0.9598, Testing Accuracy: 0.9662\n",
      "\n"
     ]
    },
    {
     "name": "stdout",
     "output_type": "stream",
     "text": [
      "Epoch 230, Loss 0.0373\n",
      "Training Accuracy: 0.9604, Testing Accuracy: 0.9662\n",
      "\n"
     ]
    },
    {
     "name": "stdout",
     "output_type": "stream",
     "text": [
      "Epoch 240, Loss 0.037\n",
      "Training Accuracy: 0.9606, Testing Accuracy: 0.9662\n",
      "\n"
     ]
    },
    {
     "data": {
      "text/plain": [
       "0.023504915000289"
      ]
     },
     "execution_count": 23,
     "metadata": {},
     "output_type": "execute_result"
    }
   ],
   "source": [
    "lr_learner.train_loop(dl)"
   ]
  },
  {
   "cell_type": "code",
   "execution_count": 24,
   "id": "ca410940",
   "metadata": {
    "execution": {
     "iopub.execute_input": "2022-02-20T00:34:14.574105Z",
     "iopub.status.busy": "2022-02-20T00:34:14.573489Z",
     "iopub.status.idle": "2022-02-20T00:34:14.834019Z",
     "shell.execute_reply": "2022-02-20T00:34:14.834623Z"
    },
    "papermill": {
     "duration": 0.316059,
     "end_time": "2022-02-20T00:34:14.834819",
     "exception": false,
     "start_time": "2022-02-20T00:34:14.518760",
     "status": "completed"
    },
    "tags": []
   },
   "outputs": [
    {
     "data": {
      "text/plain": [
       "<matplotlib.legend.Legend at 0x7f45e15d2cf8>"
      ]
     },
     "execution_count": 24,
     "metadata": {},
     "output_type": "execute_result"
    },
    {
     "data": {
      "image/png": "[encoded data removed]",
      "text/plain": [
       "<Figure size 1080x720 with 1 Axes>"
      ]
     },
     "metadata": {
      "needs_background": "light"
     },
     "output_type": "display_data"
    }
   ],
   "source": [
    "#comparing the results of NN and LR\n",
    "plt.figure(figsize=(15,10))\n",
    "\n",
    "# Neural Network plots\n",
    "plt.plot(acc_nn.accuracies, 'r-', label = \"Training Accuracies - NN\")\n",
    "plt.plot(acc_nn.test_accuracies, 'g-', label = \"Testing Accuracies - NN\")\n",
    "\n",
    "# Logistic Regression plots\n",
    "plt.plot(acc_lr.accuracies, 'k-', label = \"Training Accuracies - LR\")\n",
    "plt.plot(acc_lr.test_accuracies, 'b-', label = \"Testing Accuracies - LR\")\n",
    "plt.legend()"
   ]
  },
  {
   "cell_type": "markdown",
   "id": "80dfb35c",
   "metadata": {
    "papermill": {
     "duration": 0.048354,
     "end_time": "2022-02-20T00:34:14.931319",
     "exception": false,
     "start_time": "2022-02-20T00:34:14.882965",
     "status": "completed"
    },
    "tags": []
   },
   "source": [
    "#### Plotting the outputs of this layer of the NN.\n"
   ]
  },
  {
   "cell_type": "code",
   "execution_count": 25,
   "id": "45eb2ff5",
   "metadata": {
    "execution": {
     "iopub.execute_input": "2022-02-20T00:34:15.031668Z",
     "iopub.status.busy": "2022-02-20T00:34:15.031045Z",
     "iopub.status.idle": "2022-02-20T00:34:15.063397Z",
     "shell.execute_reply": "2022-02-20T00:34:15.062333Z"
    },
    "papermill": {
     "duration": 0.084306,
     "end_time": "2022-02-20T00:34:15.063549",
     "exception": false,
     "start_time": "2022-02-20T00:34:14.979243",
     "status": "completed"
    },
    "tags": []
   },
   "outputs": [],
   "source": [
    "new_model = Model(layers[:-2])\n",
    "testing_plot = new_model(testing_data_x)"
   ]
  },
  {
   "cell_type": "code",
   "execution_count": 26,
   "id": "4c0a5485",
   "metadata": {
    "execution": {
     "iopub.execute_input": "2022-02-20T00:34:15.168724Z",
     "iopub.status.busy": "2022-02-20T00:34:15.168088Z",
     "iopub.status.idle": "2022-02-20T00:34:15.396272Z",
     "shell.execute_reply": "2022-02-20T00:34:15.395319Z"
    },
    "papermill": {
     "duration": 0.284276,
     "end_time": "2022-02-20T00:34:15.396443",
     "exception": false,
     "start_time": "2022-02-20T00:34:15.112167",
     "status": "completed"
    },
    "tags": []
   },
   "outputs": [
    {
     "data": {
      "text/plain": [
       "Text(0.5, 1.0, 'Outputs')"
      ]
     },
     "execution_count": 26,
     "metadata": {},
     "output_type": "execute_result"
    },
    {
     "data": {
      "image/png": "[encoded data removed]",
      "text/plain": [
       "<Figure size 576x504 with 1 Axes>"
      ]
     },
     "metadata": {
      "needs_background": "light"
     },
     "output_type": "display_data"
    }
   ],
   "source": [
    "# Plotting the scatter plot of points and color coding by class\n",
    "plt.figure(figsize=(8,7))\n",
    "plt.scatter(testing_plot[:,0], testing_plot[:,1], alpha = 0.1, c = y_test.ravel());\n",
    "plt.title('Outputs')"
   ]
  },
  {
   "cell_type": "markdown",
   "id": "a74fcf8f",
   "metadata": {
    "papermill": {
     "duration": 0.05132,
     "end_time": "2022-02-20T00:34:15.499188",
     "exception": false,
     "start_time": "2022-02-20T00:34:15.447868",
     "status": "completed"
    },
    "tags": []
   },
   "source": [
    "Probability contours"
   ]
  },
  {
   "cell_type": "code",
   "execution_count": 27,
   "id": "d0afc8e3",
   "metadata": {
    "execution": {
     "iopub.execute_input": "2022-02-20T00:34:15.638804Z",
     "iopub.status.busy": "2022-02-20T00:34:15.637763Z",
     "iopub.status.idle": "2022-02-20T00:34:15.650859Z",
     "shell.execute_reply": "2022-02-20T00:34:15.650352Z"
    },
    "papermill": {
     "duration": 0.100823,
     "end_time": "2022-02-20T00:34:15.650995",
     "exception": false,
     "start_time": "2022-02-20T00:34:15.550172",
     "status": "completed"
    },
    "tags": []
   },
   "outputs": [],
   "source": [
    "model_prob = Model(layers[-2:]) "
   ]
  },
  {
   "cell_type": "code",
   "execution_count": 28,
   "id": "9b96e238",
   "metadata": {
    "execution": {
     "iopub.execute_input": "2022-02-20T00:34:15.757599Z",
     "iopub.status.busy": "2022-02-20T00:34:15.756985Z",
     "iopub.status.idle": "2022-02-20T00:34:15.775717Z",
     "shell.execute_reply": "2022-02-20T00:34:15.776172Z"
    },
    "papermill": {
     "duration": 0.074624,
     "end_time": "2022-02-20T00:34:15.776330",
     "exception": false,
     "start_time": "2022-02-20T00:34:15.701706",
     "status": "completed"
    },
    "tags": []
   },
   "outputs": [],
   "source": [
    "#creating the x and y ranges according to the above generated plot.\n",
    "x_range = np.linspace(-4, 1, 100) \n",
    "y_range = np.linspace(-6, 6, 100) \n",
    "x_grid, y_grid = np.meshgrid(x_range, y_range) # x_grid and y_grig are of size 100 X 100\n",
    "\n",
    "# converting x_grid and y_grid to continuous arrays\n",
    "x_gridflat = np.ravel(x_grid)\n",
    "y_gridflat = np.ravel(y_grid)\n",
    "\n",
    "# The last layer of the current model takes two columns as input. Hence transpose of np.vstack() is required.\n",
    "X = np.vstack((x_gridflat, y_gridflat)).T\n",
    "\n",
    "prob_contour = model_prob(X).reshape(100,100) "
   ]
  },
  {
   "cell_type": "code",
   "execution_count": 29,
   "id": "da72499a",
   "metadata": {
    "execution": {
     "iopub.execute_input": "2022-02-20T00:34:15.886803Z",
     "iopub.status.busy": "2022-02-20T00:34:15.884854Z",
     "iopub.status.idle": "2022-02-20T00:34:16.175564Z",
     "shell.execute_reply": "2022-02-20T00:34:16.175030Z"
    },
    "papermill": {
     "duration": 0.348493,
     "end_time": "2022-02-20T00:34:16.175695",
     "exception": false,
     "start_time": "2022-02-20T00:34:15.827202",
     "status": "completed"
    },
    "tags": []
   },
   "outputs": [
    {
     "data": {
      "image/png": "[encoded data removed]",
      "text/plain": [
       "<Figure size 720x648 with 1 Axes>"
      ]
     },
     "metadata": {
      "needs_background": "light"
     },
     "output_type": "display_data"
    }
   ],
   "source": [
    "plt.figure(figsize=(10,9))\n",
    "plt.scatter(testing_plot[:,0], testing_plot[:,1], alpha = 0.1, c = y_test.ravel())\n",
    "contours = plt.contour(x_grid,y_grid,prob_contour)\n",
    "plt.title('Probability Contours')\n",
    "plt.clabel(contours, inline = True );"
   ]
  },
  {
   "cell_type": "code",
   "execution_count": null,
   "id": "e81b4ac7",
   "metadata": {
    "papermill": {
     "duration": 0.053683,
     "end_time": "2022-02-20T00:34:16.283802",
     "exception": false,
     "start_time": "2022-02-20T00:34:16.230119",
     "status": "completed"
    },
    "tags": []
   },
   "outputs": [],
   "source": []
  }
 ],
 "metadata": {
  "kernelspec": {
   "display_name": "Python 3",
   "language": "python",
   "name": "python3"
  },
  "language_info": {
   "codemirror_mode": {
    "name": "ipython",
    "version": 3
   },
   "file_extension": ".py",
   "mimetype": "text/x-python",
   "name": "python",
   "nbconvert_exporter": "python",
   "pygments_lexer": "ipython3",
   "version": "3.6.15"
  },
  "papermill": {
   "default_parameters": {},
   "duration": 116.984208,
   "end_time": "2022-02-20T00:34:16.758447",
   "environment_variables": {},
   "exception": null,
   "input_path": "2020-08-11-part2.ipynb",
   "output_path": "2020-08-11-part2.ipynb",
   "parameters": {},
   "start_time": "2022-02-20T00:32:19.774239",
   "version": "2.3.3"
  }
 },
 "nbformat": 4,
 "nbformat_minor": 5
}