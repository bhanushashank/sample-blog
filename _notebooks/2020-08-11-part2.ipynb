{
 "cells": [
  {
   "cell_type": "markdown",
   "id": "98380cd3",
   "metadata": {
    "papermill": {
     "duration": 0.030547,
     "end_time": "2022-02-06T20:08:24.163303",
     "exception": false,
     "start_time": "2022-02-06T20:08:24.132756",
     "status": "completed"
    },
    "tags": []
   },
   "source": [
    "# Distinguish Your Own Digits (DYOD)"
   ]
  },
  {
   "cell_type": "markdown",
   "id": "ef31240d",
   "metadata": {
    "papermill": {
     "duration": 0.024637,
     "end_time": "2022-02-06T20:08:24.214292",
     "exception": false,
     "start_time": "2022-02-06T20:08:24.189655",
     "status": "completed"
    },
    "tags": []
   },
   "source": [
    "You are going to write a classifier that distinguishes between the number 3 and number 8."
   ]
  },
  {
   "cell_type": "code",
   "execution_count": 1,
   "id": "b15c8646",
   "metadata": {
    "execution": {
     "iopub.execute_input": "2022-02-06T20:08:24.280730Z",
     "iopub.status.busy": "2022-02-06T20:08:24.280165Z",
     "iopub.status.idle": "2022-02-06T20:08:24.290589Z",
     "shell.execute_reply": "2022-02-06T20:08:24.290989Z"
    },
    "papermill": {
     "duration": 0.050117,
     "end_time": "2022-02-06T20:08:24.291136",
     "exception": false,
     "start_time": "2022-02-06T20:08:24.241019",
     "status": "completed"
    },
    "tags": []
   },
   "outputs": [],
   "source": [
    "%load_ext autoreload\n",
    "%autoreload 2"
   ]
  },
  {
   "cell_type": "code",
   "execution_count": 2,
   "id": "22ef38dc",
   "metadata": {
    "execution": {
     "iopub.execute_input": "2022-02-06T20:08:24.348762Z",
     "iopub.status.busy": "2022-02-06T20:08:24.348195Z",
     "iopub.status.idle": "2022-02-06T20:08:24.986462Z",
     "shell.execute_reply": "2022-02-06T20:08:24.985498Z"
    },
    "papermill": {
     "duration": 0.669472,
     "end_time": "2022-02-06T20:08:24.986690",
     "exception": false,
     "start_time": "2022-02-06T20:08:24.317218",
     "status": "completed"
    },
    "tags": []
   },
   "outputs": [],
   "source": [
    "%matplotlib inline\n",
    "import numpy as np\n",
    "import matplotlib.pyplot as plt\n",
    "import pandas as pd"
   ]
  },
  {
   "cell_type": "markdown",
   "id": "ba036198",
   "metadata": {
    "papermill": {
     "duration": 0.030211,
     "end_time": "2022-02-06T20:08:25.043321",
     "exception": false,
     "start_time": "2022-02-06T20:08:25.013110",
     "status": "completed"
    },
    "tags": []
   },
   "source": [
    "From the command line run `pip install mnist`. This is a library that will help you bring down the mnist dataset. If you run this from a notebook, you need to put  `!pip install mnist` in a cell by itself."
   ]
  },
  {
   "cell_type": "code",
   "execution_count": 3,
   "id": "bb6ad8a1",
   "metadata": {
    "execution": {
     "iopub.execute_input": "2022-02-06T20:08:25.101009Z",
     "iopub.status.busy": "2022-02-06T20:08:25.100430Z",
     "iopub.status.idle": "2022-02-06T20:08:27.480666Z",
     "shell.execute_reply": "2022-02-06T20:08:27.480081Z"
    },
    "papermill": {
     "duration": 2.412556,
     "end_time": "2022-02-06T20:08:27.480805",
     "exception": false,
     "start_time": "2022-02-06T20:08:25.068249",
     "status": "completed"
    },
    "tags": []
   },
   "outputs": [
    {
     "name": "stdout",
     "output_type": "stream",
     "text": [
      "Collecting mnist\r\n"
     ]
    },
    {
     "name": "stdout",
     "output_type": "stream",
     "text": [
      "  Downloading mnist-0.2.2-py2.py3-none-any.whl (3.5 kB)\r\n"
     ]
    },
    {
     "name": "stdout",
     "output_type": "stream",
     "text": [
      "Requirement already satisfied: numpy in /opt/hostedtoolcache/Python/3.6.15/x64/lib/python3.6/site-packages (from mnist) (1.19.5)\r\n"
     ]
    },
    {
     "name": "stdout",
     "output_type": "stream",
     "text": [
      "Installing collected packages: mnist\r\n"
     ]
    },
    {
     "name": "stdout",
     "output_type": "stream",
     "text": [
      "Successfully installed mnist-0.2.2\r\n"
     ]
    }
   ],
   "source": [
    "!pip install mnist"
   ]
  },
  {
   "cell_type": "markdown",
   "id": "69df9c9a",
   "metadata": {
    "papermill": {
     "duration": 0.024764,
     "end_time": "2022-02-06T20:08:27.531541",
     "exception": false,
     "start_time": "2022-02-06T20:08:27.506777",
     "status": "completed"
    },
    "tags": []
   },
   "source": [
    "## Preparing the Data"
   ]
  },
  {
   "cell_type": "code",
   "execution_count": 4,
   "id": "7f69d806",
   "metadata": {
    "execution": {
     "iopub.execute_input": "2022-02-06T20:08:27.590085Z",
     "iopub.status.busy": "2022-02-06T20:08:27.584928Z",
     "iopub.status.idle": "2022-02-06T20:08:27.599448Z",
     "shell.execute_reply": "2022-02-06T20:08:27.598974Z"
    },
    "papermill": {
     "duration": 0.04413,
     "end_time": "2022-02-06T20:08:27.599562",
     "exception": false,
     "start_time": "2022-02-06T20:08:27.555432",
     "status": "completed"
    },
    "tags": []
   },
   "outputs": [],
   "source": [
    "import mnist"
   ]
  },
  {
   "cell_type": "code",
   "execution_count": 5,
   "id": "a411e44f",
   "metadata": {
    "execution": {
     "iopub.execute_input": "2022-02-06T20:08:27.656915Z",
     "iopub.status.busy": "2022-02-06T20:08:27.656380Z",
     "iopub.status.idle": "2022-02-06T20:08:28.157571Z",
     "shell.execute_reply": "2022-02-06T20:08:28.157012Z"
    },
    "papermill": {
     "duration": 0.531988,
     "end_time": "2022-02-06T20:08:28.157712",
     "exception": false,
     "start_time": "2022-02-06T20:08:27.625724",
     "status": "completed"
    },
    "tags": []
   },
   "outputs": [],
   "source": [
    "train_images = mnist.train_images()\n",
    "train_labels = mnist.train_labels()"
   ]
  },
  {
   "cell_type": "code",
   "execution_count": 6,
   "id": "dceab3a5",
   "metadata": {
    "execution": {
     "iopub.execute_input": "2022-02-06T20:08:28.215159Z",
     "iopub.status.busy": "2022-02-06T20:08:28.214562Z",
     "iopub.status.idle": "2022-02-06T20:08:28.231432Z",
     "shell.execute_reply": "2022-02-06T20:08:28.231012Z"
    },
    "papermill": {
     "duration": 0.047065,
     "end_time": "2022-02-06T20:08:28.231552",
     "exception": false,
     "start_time": "2022-02-06T20:08:28.184487",
     "status": "completed"
    },
    "tags": []
   },
   "outputs": [
    {
     "data": {
      "text/plain": [
       "((60000, 28, 28), (60000,))"
      ]
     },
     "execution_count": 6,
     "metadata": {},
     "output_type": "execute_result"
    }
   ],
   "source": [
    "train_images.shape, train_labels.shape"
   ]
  },
  {
   "cell_type": "code",
   "execution_count": 7,
   "id": "f50dc2bb",
   "metadata": {
    "execution": {
     "iopub.execute_input": "2022-02-06T20:08:28.287785Z",
     "iopub.status.busy": "2022-02-06T20:08:28.287213Z",
     "iopub.status.idle": "2022-02-06T20:08:28.423719Z",
     "shell.execute_reply": "2022-02-06T20:08:28.422778Z"
    },
    "papermill": {
     "duration": 0.166374,
     "end_time": "2022-02-06T20:08:28.423933",
     "exception": false,
     "start_time": "2022-02-06T20:08:28.257559",
     "status": "completed"
    },
    "tags": []
   },
   "outputs": [],
   "source": [
    "test_images = mnist.test_images()\n",
    "test_labels = mnist.test_labels()"
   ]
  },
  {
   "cell_type": "code",
   "execution_count": 8,
   "id": "fc38cf1b",
   "metadata": {
    "execution": {
     "iopub.execute_input": "2022-02-06T20:08:28.486528Z",
     "iopub.status.busy": "2022-02-06T20:08:28.485934Z",
     "iopub.status.idle": "2022-02-06T20:08:28.505236Z",
     "shell.execute_reply": "2022-02-06T20:08:28.504727Z"
    },
    "papermill": {
     "duration": 0.050892,
     "end_time": "2022-02-06T20:08:28.505357",
     "exception": false,
     "start_time": "2022-02-06T20:08:28.454465",
     "status": "completed"
    },
    "tags": []
   },
   "outputs": [
    {
     "data": {
      "text/plain": [
       "((10000, 28, 28), (10000,))"
      ]
     },
     "execution_count": 8,
     "metadata": {},
     "output_type": "execute_result"
    }
   ],
   "source": [
    "test_images.shape, test_labels.shape"
   ]
  },
  {
   "cell_type": "code",
   "execution_count": 9,
   "id": "f9ed8fe0",
   "metadata": {
    "execution": {
     "iopub.execute_input": "2022-02-06T20:08:28.568366Z",
     "iopub.status.busy": "2022-02-06T20:08:28.567828Z",
     "iopub.status.idle": "2022-02-06T20:08:28.714842Z",
     "shell.execute_reply": "2022-02-06T20:08:28.714325Z"
    },
    "papermill": {
     "duration": 0.181524,
     "end_time": "2022-02-06T20:08:28.714982",
     "exception": false,
     "start_time": "2022-02-06T20:08:28.533458",
     "status": "completed"
    },
    "tags": []
   },
   "outputs": [
    {
     "name": "stdout",
     "output_type": "stream",
     "text": [
      "2\n"
     ]
    },
    {
     "data": {
      "text/plain": [
       "<matplotlib.image.AxesImage at 0x7fda9c7e4c88>"
      ]
     },
     "execution_count": 9,
     "metadata": {},
     "output_type": "execute_result"
    },
    {
     "data": {
      "image/png": "[encoded data removed]",
      "text/plain": [
       "<Figure size 432x288 with 1 Axes>"
      ]
     },
     "metadata": {
      "needs_background": "light"
     },
     "output_type": "display_data"
    }
   ],
   "source": [
    "image_index = 7776 # You may select anything up to 60,000\n",
    "print(train_labels[image_index]) \n",
    "plt.imshow(train_images[image_index], cmap='Greys')"
   ]
  },
  {
   "cell_type": "markdown",
   "id": "a8d2388d",
   "metadata": {
    "papermill": {
     "duration": 0.02755,
     "end_time": "2022-02-06T20:08:28.774808",
     "exception": false,
     "start_time": "2022-02-06T20:08:28.747258",
     "status": "completed"
    },
    "tags": []
   },
   "source": [
    "## Filter data to get 3 and 8 out"
   ]
  },
  {
   "cell_type": "code",
   "execution_count": 10,
   "id": "776f7fc7",
   "metadata": {
    "execution": {
     "iopub.execute_input": "2022-02-06T20:08:28.832437Z",
     "iopub.status.busy": "2022-02-06T20:08:28.831868Z",
     "iopub.status.idle": "2022-02-06T20:08:28.852230Z",
     "shell.execute_reply": "2022-02-06T20:08:28.852780Z"
    },
    "papermill": {
     "duration": 0.053521,
     "end_time": "2022-02-06T20:08:28.852979",
     "exception": false,
     "start_time": "2022-02-06T20:08:28.799458",
     "status": "completed"
    },
    "tags": []
   },
   "outputs": [],
   "source": [
    "train_filter = np.where((train_labels == 3 ) | (train_labels == 8))\n",
    "test_filter = np.where((test_labels == 3) | (test_labels == 8))\n",
    "X_train, y_train = train_images[train_filter], train_labels[train_filter]\n",
    "X_test, y_test = test_images[test_filter], test_labels[test_filter]"
   ]
  },
  {
   "cell_type": "markdown",
   "id": "948f0b7e",
   "metadata": {
    "papermill": {
     "duration": 0.027761,
     "end_time": "2022-02-06T20:08:28.909778",
     "exception": false,
     "start_time": "2022-02-06T20:08:28.882017",
     "status": "completed"
    },
    "tags": []
   },
   "source": [
    "We normalize the pizel values in the 0 to 1 range"
   ]
  },
  {
   "cell_type": "code",
   "execution_count": 11,
   "id": "ee4c2166",
   "metadata": {
    "execution": {
     "iopub.execute_input": "2022-02-06T20:08:28.971615Z",
     "iopub.status.busy": "2022-02-06T20:08:28.971020Z",
     "iopub.status.idle": "2022-02-06T20:08:29.026282Z",
     "shell.execute_reply": "2022-02-06T20:08:29.025596Z"
    },
    "papermill": {
     "duration": 0.088279,
     "end_time": "2022-02-06T20:08:29.026456",
     "exception": false,
     "start_time": "2022-02-06T20:08:28.938177",
     "status": "completed"
    },
    "tags": []
   },
   "outputs": [],
   "source": [
    "X_train = X_train/255.\n",
    "X_test = X_test/255."
   ]
  },
  {
   "cell_type": "markdown",
   "id": "ddcf4fab",
   "metadata": {
    "papermill": {
     "duration": 0.029821,
     "end_time": "2022-02-06T20:08:29.086055",
     "exception": false,
     "start_time": "2022-02-06T20:08:29.056234",
     "status": "completed"
    },
    "tags": []
   },
   "source": [
    "And setup the labels as 1 (when the digit is 3) and 0 (when the digit is 8)"
   ]
  },
  {
   "cell_type": "code",
   "execution_count": 12,
   "id": "7dc908f2",
   "metadata": {
    "execution": {
     "iopub.execute_input": "2022-02-06T20:08:29.149610Z",
     "iopub.status.busy": "2022-02-06T20:08:29.149041Z",
     "iopub.status.idle": "2022-02-06T20:08:29.163418Z",
     "shell.execute_reply": "2022-02-06T20:08:29.162920Z"
    },
    "papermill": {
     "duration": 0.047831,
     "end_time": "2022-02-06T20:08:29.163528",
     "exception": false,
     "start_time": "2022-02-06T20:08:29.115697",
     "status": "completed"
    },
    "tags": []
   },
   "outputs": [],
   "source": [
    "y_train = 1*(y_train==3)\n",
    "y_test = 1*(y_test==3)"
   ]
  },
  {
   "cell_type": "code",
   "execution_count": 13,
   "id": "01e4e969",
   "metadata": {
    "execution": {
     "iopub.execute_input": "2022-02-06T20:08:29.230214Z",
     "iopub.status.busy": "2022-02-06T20:08:29.229719Z",
     "iopub.status.idle": "2022-02-06T20:08:29.246169Z",
     "shell.execute_reply": "2022-02-06T20:08:29.245710Z"
    },
    "papermill": {
     "duration": 0.051373,
     "end_time": "2022-02-06T20:08:29.246287",
     "exception": false,
     "start_time": "2022-02-06T20:08:29.194914",
     "status": "completed"
    },
    "tags": []
   },
   "outputs": [
    {
     "data": {
      "text/plain": [
       "((11982, 28, 28), (1984, 28, 28))"
      ]
     },
     "execution_count": 13,
     "metadata": {},
     "output_type": "execute_result"
    }
   ],
   "source": [
    "X_train.shape, X_test.shape"
   ]
  },
  {
   "cell_type": "markdown",
   "id": "5ccf3f85",
   "metadata": {
    "papermill": {
     "duration": 0.027644,
     "end_time": "2022-02-06T20:08:29.303359",
     "exception": false,
     "start_time": "2022-02-06T20:08:29.275715",
     "status": "completed"
    },
    "tags": []
   },
   "source": [
    "We reshape the data to flatten the image pixels into a set of features or co-variates:"
   ]
  },
  {
   "cell_type": "code",
   "execution_count": 14,
   "id": "5286a4a3",
   "metadata": {
    "execution": {
     "iopub.execute_input": "2022-02-06T20:08:29.367407Z",
     "iopub.status.busy": "2022-02-06T20:08:29.366879Z",
     "iopub.status.idle": "2022-02-06T20:08:29.380489Z",
     "shell.execute_reply": "2022-02-06T20:08:29.380044Z"
    },
    "papermill": {
     "duration": 0.047228,
     "end_time": "2022-02-06T20:08:29.380607",
     "exception": false,
     "start_time": "2022-02-06T20:08:29.333379",
     "status": "completed"
    },
    "tags": []
   },
   "outputs": [
    {
     "data": {
      "text/plain": [
       "((11982, 784), (1984, 784))"
      ]
     },
     "execution_count": 14,
     "metadata": {},
     "output_type": "execute_result"
    }
   ],
   "source": [
    "X_train = X_train.reshape(X_train.shape[0], -1)\n",
    "X_test = X_test.reshape(X_test.shape[0], -1)\n",
    "X_train.shape, X_test.shape"
   ]
  },
  {
   "cell_type": "code",
   "execution_count": 15,
   "id": "73c5f88a",
   "metadata": {
    "execution": {
     "iopub.execute_input": "2022-02-06T20:08:29.443362Z",
     "iopub.status.busy": "2022-02-06T20:08:29.442822Z",
     "iopub.status.idle": "2022-02-06T20:08:29.464504Z",
     "shell.execute_reply": "2022-02-06T20:08:29.463928Z"
    },
    "papermill": {
     "duration": 0.055242,
     "end_time": "2022-02-06T20:08:29.464647",
     "exception": false,
     "start_time": "2022-02-06T20:08:29.409405",
     "status": "completed"
    },
    "tags": []
   },
   "outputs": [],
   "source": [
    "#Impoting functions from 'Kudzu'\n",
    "from kudzu.model import Model\n",
    "from kudzu.train import Learner\n",
    "from kudzu.optim import GD\n",
    "from kudzu.data import Data, Sampler,Dataloader\n",
    "\n",
    "from kudzu.callbacks import AccCallback\n",
    "from kudzu.callbacks import ClfCallback\n",
    "\n",
    "from kudzu.loss import MSE\n",
    "\n",
    "from kudzu.layer import Sigmoid,Relu\n",
    "from kudzu.layer import Affine"
   ]
  },
  {
   "cell_type": "markdown",
   "id": "bc01172a",
   "metadata": {
    "papermill": {
     "duration": 0.027456,
     "end_time": "2022-02-06T20:08:29.522058",
     "exception": false,
     "start_time": "2022-02-06T20:08:29.494602",
     "status": "completed"
    },
    "tags": []
   },
   "source": [
    "### Let us create a `Config` class, to store important parameters. \n",
    "This class essentially plays the role of a dictionary."
   ]
  },
  {
   "cell_type": "code",
   "execution_count": 16,
   "id": "978281aa",
   "metadata": {
    "execution": {
     "iopub.execute_input": "2022-02-06T20:08:29.590990Z",
     "iopub.status.busy": "2022-02-06T20:08:29.590364Z",
     "iopub.status.idle": "2022-02-06T20:08:29.602960Z",
     "shell.execute_reply": "2022-02-06T20:08:29.602399Z"
    },
    "papermill": {
     "duration": 0.053976,
     "end_time": "2022-02-06T20:08:29.603082",
     "exception": false,
     "start_time": "2022-02-06T20:08:29.549106",
     "status": "completed"
    },
    "tags": []
   },
   "outputs": [],
   "source": [
    "class Config:\n",
    "    pass\n",
    "config = Config()\n",
    "config.lr = 0.001\n",
    "config.num_epochs = 250\n",
    "config.bs = 50"
   ]
  },
  {
   "cell_type": "markdown",
   "id": "1385fa59",
   "metadata": {
    "papermill": {
     "duration": 0.027858,
     "end_time": "2022-02-06T20:08:29.659776",
     "exception": false,
     "start_time": "2022-02-06T20:08:29.631918",
     "status": "completed"
    },
    "tags": []
   },
   "source": [
    "### Running Models with the Training data\n",
    "Details about the network layers:\n",
    "- A first affine layer has 784 inputs and does 100 affine transforms. These are followed by a Relu\n",
    "- A second affine layer has 100 inputs from the 100 activations of the past layer, and does 100 affine transforms. These are followed by a Relu\n",
    "- A third affine layer has 100 activations and does 2 affine transformations to create an embedding for visualization. There is no non-linearity here.\n",
    "- A final \"logistic regression\" which has an affine transform from 2 inputs to 1 output, which is squeezed through a sigmoid.\n"
   ]
  },
  {
   "cell_type": "code",
   "execution_count": 17,
   "id": "2b9c66db",
   "metadata": {
    "execution": {
     "iopub.execute_input": "2022-02-06T20:08:29.727399Z",
     "iopub.status.busy": "2022-02-06T20:08:29.726802Z",
     "iopub.status.idle": "2022-02-06T20:08:29.748588Z",
     "shell.execute_reply": "2022-02-06T20:08:29.748033Z"
    },
    "papermill": {
     "duration": 0.058002,
     "end_time": "2022-02-06T20:08:29.748721",
     "exception": false,
     "start_time": "2022-02-06T20:08:29.690719",
     "status": "completed"
    },
    "tags": []
   },
   "outputs": [],
   "source": [
    "data = Data(X_train, y_train.reshape(-1,1))\n",
    "sampler = Sampler(data, config.bs, shuffle=True)\n",
    "\n",
    "dl = Dataloader(data, sampler)\n",
    "\n",
    "opt = GD(config.lr)\n",
    "loss = MSE()"
   ]
  },
  {
   "cell_type": "code",
   "execution_count": 18,
   "id": "b275e4c2",
   "metadata": {
    "execution": {
     "iopub.execute_input": "2022-02-06T20:08:29.813751Z",
     "iopub.status.busy": "2022-02-06T20:08:29.813154Z",
     "iopub.status.idle": "2022-02-06T20:08:29.825881Z",
     "shell.execute_reply": "2022-02-06T20:08:29.825371Z"
    },
    "papermill": {
     "duration": 0.046839,
     "end_time": "2022-02-06T20:08:29.826004",
     "exception": false,
     "start_time": "2022-02-06T20:08:29.779165",
     "status": "completed"
    },
    "tags": []
   },
   "outputs": [],
   "source": [
    "training_data_x = X_train\n",
    "testing_data_x = X_test\n",
    "training_data_y = y_train.reshape(-1,1)\n",
    "testing_data_y = y_test.reshape(-1,1)"
   ]
  },
  {
   "cell_type": "code",
   "execution_count": 19,
   "id": "76951160",
   "metadata": {
    "execution": {
     "iopub.execute_input": "2022-02-06T20:08:29.886374Z",
     "iopub.status.busy": "2022-02-06T20:08:29.885770Z",
     "iopub.status.idle": "2022-02-06T20:08:29.904110Z",
     "shell.execute_reply": "2022-02-06T20:08:29.903496Z"
    },
    "papermill": {
     "duration": 0.0501,
     "end_time": "2022-02-06T20:08:29.904230",
     "exception": false,
     "start_time": "2022-02-06T20:08:29.854130",
     "status": "completed"
    },
    "tags": []
   },
   "outputs": [
    {
     "name": "stdout",
     "output_type": "stream",
     "text": [
      "xavier\n",
      "xavier\n",
      "xavier\n",
      "xavier\n",
      "xavier\n"
     ]
    }
   ],
   "source": [
    "layers = [Affine(\"first\", 784, 100), Relu(\"first\"), Affine(\"second\", 100, 100), Relu(\"second\"), Affine(\"third\", 100, 2), Affine(\"last\", 2, 1), Sigmoid(\"last\")]\n",
    "model_nn = Model(layers)\n",
    "model_lr = Model([Affine(\"logits\", 784, 1), Sigmoid(\"sigmoid\")])"
   ]
  },
  {
   "cell_type": "code",
   "execution_count": 20,
   "id": "6eede77a",
   "metadata": {
    "execution": {
     "iopub.execute_input": "2022-02-06T20:08:29.968610Z",
     "iopub.status.busy": "2022-02-06T20:08:29.967977Z",
     "iopub.status.idle": "2022-02-06T20:08:29.979283Z",
     "shell.execute_reply": "2022-02-06T20:08:29.978867Z"
    },
    "papermill": {
     "duration": 0.045891,
     "end_time": "2022-02-06T20:08:29.979385",
     "exception": false,
     "start_time": "2022-02-06T20:08:29.933494",
     "status": "completed"
    },
    "tags": []
   },
   "outputs": [],
   "source": [
    "nn_learner = Learner(loss, model_nn, opt, config.num_epochs)\n",
    "acc_nn = ClfCallback(nn_learner, config.bs, training_data_x , testing_data_x, training_data_y, testing_data_y)\n",
    "nn_learner.set_callbacks([acc_nn])"
   ]
  },
  {
   "cell_type": "code",
   "execution_count": 21,
   "id": "877b6cc7",
   "metadata": {
    "execution": {
     "iopub.execute_input": "2022-02-06T20:08:30.038043Z",
     "iopub.status.busy": "2022-02-06T20:08:30.037422Z",
     "iopub.status.idle": "2022-02-06T20:08:30.049880Z",
     "shell.execute_reply": "2022-02-06T20:08:30.049437Z"
    },
    "papermill": {
     "duration": 0.043728,
     "end_time": "2022-02-06T20:08:30.049992",
     "exception": false,
     "start_time": "2022-02-06T20:08:30.006264",
     "status": "completed"
    },
    "tags": []
   },
   "outputs": [],
   "source": [
    "lr_learner = Learner(loss, model_lr, opt, config.num_epochs)\n",
    "acc_lr = ClfCallback(lr_learner, config.bs, training_data_x , testing_data_x, training_data_y, testing_data_y)\n",
    "lr_learner.set_callbacks([acc_lr])"
   ]
  },
  {
   "cell_type": "code",
   "execution_count": 22,
   "id": "d9b133c3",
   "metadata": {
    "execution": {
     "iopub.execute_input": "2022-02-06T20:08:30.111499Z",
     "iopub.status.busy": "2022-02-06T20:08:30.110926Z",
     "iopub.status.idle": "2022-02-06T20:09:54.153620Z",
     "shell.execute_reply": "2022-02-06T20:09:54.154493Z"
    },
    "papermill": {
     "duration": 84.075174,
     "end_time": "2022-02-06T20:09:54.154641",
     "exception": false,
     "start_time": "2022-02-06T20:08:30.079467",
     "status": "completed"
    },
    "tags": []
   },
   "outputs": [
    {
     "name": "stdout",
     "output_type": "stream",
     "text": [
      "Epoch 0, Loss 0.2385\n",
      "Training Accuracy: 0.6694, Testing Accuracy: 0.6447\n",
      "\n"
     ]
    },
    {
     "name": "stdout",
     "output_type": "stream",
     "text": [
      "Epoch 10, Loss 0.1216\n",
      "Training Accuracy: 0.8731, Testing Accuracy: 0.8790\n",
      "\n"
     ]
    },
    {
     "name": "stdout",
     "output_type": "stream",
     "text": [
      "Epoch 20, Loss 0.0696\n",
      "Training Accuracy: 0.9251, Testing Accuracy: 0.9294\n",
      "\n"
     ]
    },
    {
     "name": "stdout",
     "output_type": "stream",
     "text": [
      "Epoch 30, Loss 0.0507\n",
      "Training Accuracy: 0.9443, Testing Accuracy: 0.9496\n",
      "\n"
     ]
    },
    {
     "name": "stdout",
     "output_type": "stream",
     "text": [
      "Epoch 40, Loss 0.0422\n",
      "Training Accuracy: 0.9524, Testing Accuracy: 0.9592\n",
      "\n"
     ]
    },
    {
     "name": "stdout",
     "output_type": "stream",
     "text": [
      "Epoch 50, Loss 0.0375\n",
      "Training Accuracy: 0.9569, Testing Accuracy: 0.9642\n",
      "\n"
     ]
    },
    {
     "name": "stdout",
     "output_type": "stream",
     "text": [
      "Epoch 60, Loss 0.0344\n",
      "Training Accuracy: 0.9595, Testing Accuracy: 0.9657\n",
      "\n"
     ]
    },
    {
     "name": "stdout",
     "output_type": "stream",
     "text": [
      "Epoch 70, Loss 0.0323\n",
      "Training Accuracy: 0.9613, Testing Accuracy: 0.9667\n",
      "\n"
     ]
    },
    {
     "name": "stdout",
     "output_type": "stream",
     "text": [
      "Epoch 80, Loss 0.0306\n",
      "Training Accuracy: 0.9636, Testing Accuracy: 0.9677\n",
      "\n"
     ]
    },
    {
     "name": "stdout",
     "output_type": "stream",
     "text": [
      "Epoch 90, Loss 0.0293\n",
      "Training Accuracy: 0.9654, Testing Accuracy: 0.9682\n",
      "\n"
     ]
    },
    {
     "name": "stdout",
     "output_type": "stream",
     "text": [
      "Epoch 100, Loss 0.0282\n",
      "Training Accuracy: 0.9664, Testing Accuracy: 0.9672\n",
      "\n"
     ]
    },
    {
     "name": "stdout",
     "output_type": "stream",
     "text": [
      "Epoch 110, Loss 0.0272\n",
      "Training Accuracy: 0.9683, Testing Accuracy: 0.9682\n",
      "\n"
     ]
    },
    {
     "name": "stdout",
     "output_type": "stream",
     "text": [
      "Epoch 120, Loss 0.0264\n",
      "Training Accuracy: 0.9692, Testing Accuracy: 0.9677\n",
      "\n"
     ]
    },
    {
     "name": "stdout",
     "output_type": "stream",
     "text": [
      "Epoch 130, Loss 0.0256\n",
      "Training Accuracy: 0.9707, Testing Accuracy: 0.9677\n",
      "\n"
     ]
    },
    {
     "name": "stdout",
     "output_type": "stream",
     "text": [
      "Epoch 140, Loss 0.025\n",
      "Training Accuracy: 0.9719, Testing Accuracy: 0.9682\n",
      "\n"
     ]
    },
    {
     "name": "stdout",
     "output_type": "stream",
     "text": [
      "Epoch 150, Loss 0.0244\n",
      "Training Accuracy: 0.9721, Testing Accuracy: 0.9677\n",
      "\n"
     ]
    },
    {
     "name": "stdout",
     "output_type": "stream",
     "text": [
      "Epoch 160, Loss 0.0238\n",
      "Training Accuracy: 0.9730, Testing Accuracy: 0.9688\n",
      "\n"
     ]
    },
    {
     "name": "stdout",
     "output_type": "stream",
     "text": [
      "Epoch 170, Loss 0.0233\n",
      "Training Accuracy: 0.9735, Testing Accuracy: 0.9703\n",
      "\n"
     ]
    },
    {
     "name": "stdout",
     "output_type": "stream",
     "text": [
      "Epoch 180, Loss 0.0228\n",
      "Training Accuracy: 0.9743, Testing Accuracy: 0.9708\n",
      "\n"
     ]
    },
    {
     "name": "stdout",
     "output_type": "stream",
     "text": [
      "Epoch 190, Loss 0.0223\n",
      "Training Accuracy: 0.9749, Testing Accuracy: 0.9708\n",
      "\n"
     ]
    },
    {
     "name": "stdout",
     "output_type": "stream",
     "text": [
      "Epoch 200, Loss 0.0219\n",
      "Training Accuracy: 0.9754, Testing Accuracy: 0.9718\n",
      "\n"
     ]
    },
    {
     "name": "stdout",
     "output_type": "stream",
     "text": [
      "Epoch 210, Loss 0.0215\n",
      "Training Accuracy: 0.9758, Testing Accuracy: 0.9723\n",
      "\n"
     ]
    },
    {
     "name": "stdout",
     "output_type": "stream",
     "text": [
      "Epoch 220, Loss 0.0211\n",
      "Training Accuracy: 0.9761, Testing Accuracy: 0.9723\n",
      "\n"
     ]
    },
    {
     "name": "stdout",
     "output_type": "stream",
     "text": [
      "Epoch 230, Loss 0.0207\n",
      "Training Accuracy: 0.9765, Testing Accuracy: 0.9723\n",
      "\n"
     ]
    },
    {
     "name": "stdout",
     "output_type": "stream",
     "text": [
      "Epoch 240, Loss 0.0203\n",
      "Training Accuracy: 0.9767, Testing Accuracy: 0.9723\n",
      "\n"
     ]
    },
    {
     "data": {
      "text/plain": [
       "0.04636014453392752"
      ]
     },
     "execution_count": 22,
     "metadata": {},
     "output_type": "execute_result"
    }
   ],
   "source": [
    "nn_learner.train_loop(dl)"
   ]
  },
  {
   "cell_type": "code",
   "execution_count": 23,
   "id": "e0163366",
   "metadata": {
    "execution": {
     "iopub.execute_input": "2022-02-06T20:09:54.238790Z",
     "iopub.status.busy": "2022-02-06T20:09:54.238185Z",
     "iopub.status.idle": "2022-02-06T20:10:08.904173Z",
     "shell.execute_reply": "2022-02-06T20:10:08.905084Z"
    },
    "papermill": {
     "duration": 14.713235,
     "end_time": "2022-02-06T20:10:08.905245",
     "exception": false,
     "start_time": "2022-02-06T20:09:54.192010",
     "status": "completed"
    },
    "tags": []
   },
   "outputs": [
    {
     "name": "stdout",
     "output_type": "stream",
     "text": [
      "Epoch 0, Loss 0.2268\n",
      "Training Accuracy: 0.7246, Testing Accuracy: 0.7278\n",
      "\n"
     ]
    },
    {
     "name": "stdout",
     "output_type": "stream",
     "text": [
      "Epoch 10, Loss 0.1049\n",
      "Training Accuracy: 0.9018, Testing Accuracy: 0.9098\n",
      "\n"
     ]
    },
    {
     "name": "stdout",
     "output_type": "stream",
     "text": [
      "Epoch 20, Loss 0.0806\n",
      "Training Accuracy: 0.9241, Testing Accuracy: 0.9360\n",
      "\n"
     ]
    },
    {
     "name": "stdout",
     "output_type": "stream",
     "text": [
      "Epoch 30, Loss 0.0691\n",
      "Training Accuracy: 0.9357, Testing Accuracy: 0.9435\n",
      "\n"
     ]
    },
    {
     "name": "stdout",
     "output_type": "stream",
     "text": [
      "Epoch 40, Loss 0.0622\n",
      "Training Accuracy: 0.9408, Testing Accuracy: 0.9511\n",
      "\n"
     ]
    },
    {
     "name": "stdout",
     "output_type": "stream",
     "text": [
      "Epoch 50, Loss 0.0575\n",
      "Training Accuracy: 0.9442, Testing Accuracy: 0.9551\n",
      "\n"
     ]
    },
    {
     "name": "stdout",
     "output_type": "stream",
     "text": [
      "Epoch 60, Loss 0.0541\n",
      "Training Accuracy: 0.9471, Testing Accuracy: 0.9572\n",
      "\n"
     ]
    },
    {
     "name": "stdout",
     "output_type": "stream",
     "text": [
      "Epoch 70, Loss 0.0515\n",
      "Training Accuracy: 0.9486, Testing Accuracy: 0.9592\n",
      "\n"
     ]
    },
    {
     "name": "stdout",
     "output_type": "stream",
     "text": [
      "Epoch 80, Loss 0.0494\n",
      "Training Accuracy: 0.9506, Testing Accuracy: 0.9592\n",
      "\n"
     ]
    },
    {
     "name": "stdout",
     "output_type": "stream",
     "text": [
      "Epoch 90, Loss 0.0477\n",
      "Training Accuracy: 0.9519, Testing Accuracy: 0.9607\n",
      "\n"
     ]
    },
    {
     "name": "stdout",
     "output_type": "stream",
     "text": [
      "Epoch 100, Loss 0.0462\n",
      "Training Accuracy: 0.9531, Testing Accuracy: 0.9622\n",
      "\n"
     ]
    },
    {
     "name": "stdout",
     "output_type": "stream",
     "text": [
      "Epoch 110, Loss 0.045\n",
      "Training Accuracy: 0.9547, Testing Accuracy: 0.9632\n",
      "\n"
     ]
    },
    {
     "name": "stdout",
     "output_type": "stream",
     "text": [
      "Epoch 120, Loss 0.0439\n",
      "Training Accuracy: 0.9557, Testing Accuracy: 0.9627\n",
      "\n"
     ]
    },
    {
     "name": "stdout",
     "output_type": "stream",
     "text": [
      "Epoch 130, Loss 0.043\n",
      "Training Accuracy: 0.9568, Testing Accuracy: 0.9627\n",
      "\n"
     ]
    },
    {
     "name": "stdout",
     "output_type": "stream",
     "text": [
      "Epoch 140, Loss 0.0421\n",
      "Training Accuracy: 0.9573, Testing Accuracy: 0.9637\n",
      "\n"
     ]
    },
    {
     "name": "stdout",
     "output_type": "stream",
     "text": [
      "Epoch 150, Loss 0.0414\n",
      "Training Accuracy: 0.9578, Testing Accuracy: 0.9642\n",
      "\n"
     ]
    },
    {
     "name": "stdout",
     "output_type": "stream",
     "text": [
      "Epoch 160, Loss 0.0407\n",
      "Training Accuracy: 0.9583, Testing Accuracy: 0.9647\n",
      "\n"
     ]
    },
    {
     "name": "stdout",
     "output_type": "stream",
     "text": [
      "Epoch 170, Loss 0.0401\n",
      "Training Accuracy: 0.9591, Testing Accuracy: 0.9647\n",
      "\n"
     ]
    },
    {
     "name": "stdout",
     "output_type": "stream",
     "text": [
      "Epoch 180, Loss 0.0395\n",
      "Training Accuracy: 0.9592, Testing Accuracy: 0.9647\n",
      "\n"
     ]
    },
    {
     "name": "stdout",
     "output_type": "stream",
     "text": [
      "Epoch 190, Loss 0.039\n",
      "Training Accuracy: 0.9599, Testing Accuracy: 0.9652\n",
      "\n"
     ]
    },
    {
     "name": "stdout",
     "output_type": "stream",
     "text": [
      "Epoch 200, Loss 0.0385\n",
      "Training Accuracy: 0.9604, Testing Accuracy: 0.9652\n",
      "\n"
     ]
    },
    {
     "name": "stdout",
     "output_type": "stream",
     "text": [
      "Epoch 210, Loss 0.0381\n",
      "Training Accuracy: 0.9604, Testing Accuracy: 0.9657\n",
      "\n"
     ]
    },
    {
     "name": "stdout",
     "output_type": "stream",
     "text": [
      "Epoch 220, Loss 0.0377\n",
      "Training Accuracy: 0.9609, Testing Accuracy: 0.9667\n",
      "\n"
     ]
    },
    {
     "name": "stdout",
     "output_type": "stream",
     "text": [
      "Epoch 230, Loss 0.0373\n",
      "Training Accuracy: 0.9612, Testing Accuracy: 0.9672\n",
      "\n"
     ]
    },
    {
     "name": "stdout",
     "output_type": "stream",
     "text": [
      "Epoch 240, Loss 0.0369\n",
      "Training Accuracy: 0.9615, Testing Accuracy: 0.9672\n",
      "\n"
     ]
    },
    {
     "data": {
      "text/plain": [
       "0.05047357144508461"
      ]
     },
     "execution_count": 23,
     "metadata": {},
     "output_type": "execute_result"
    }
   ],
   "source": [
    "lr_learner.train_loop(dl)"
   ]
  },
  {
   "cell_type": "code",
   "execution_count": 24,
   "id": "ca410940",
   "metadata": {
    "execution": {
     "iopub.execute_input": "2022-02-06T20:10:09.010246Z",
     "iopub.status.busy": "2022-02-06T20:10:09.009304Z",
     "iopub.status.idle": "2022-02-06T20:10:09.255483Z",
     "shell.execute_reply": "2022-02-06T20:10:09.255937Z"
    },
    "papermill": {
     "duration": 0.306599,
     "end_time": "2022-02-06T20:10:09.256081",
     "exception": false,
     "start_time": "2022-02-06T20:10:08.949482",
     "status": "completed"
    },
    "tags": []
   },
   "outputs": [
    {
     "data": {
      "text/plain": [
       "<matplotlib.legend.Legend at 0x7fda9c351470>"
      ]
     },
     "execution_count": 24,
     "metadata": {},
     "output_type": "execute_result"
    },
    {
     "data": {
      "image/png": "[encoded data removed]",
      "text/plain": [
       "<Figure size 1080x720 with 1 Axes>"
      ]
     },
     "metadata": {
      "needs_background": "light"
     },
     "output_type": "display_data"
    }
   ],
   "source": [
    "#comparing the results of NN and LR\n",
    "plt.figure(figsize=(15,10))\n",
    "\n",
    "# Neural Network plots\n",
    "plt.plot(acc_nn.accuracies, 'r-', label = \"Training Accuracies - NN\")\n",
    "plt.plot(acc_nn.test_accuracies, 'g-', label = \"Testing Accuracies - NN\")\n",
    "\n",
    "# Logistic Regression plots\n",
    "plt.plot(acc_lr.accuracies, 'k-', label = \"Training Accuracies - LR\")\n",
    "plt.plot(acc_lr.test_accuracies, 'b-', label = \"Testing Accuracies - LR\")\n",
    "plt.legend()"
   ]
  },
  {
   "cell_type": "markdown",
   "id": "80dfb35c",
   "metadata": {
    "papermill": {
     "duration": 0.045509,
     "end_time": "2022-02-06T20:10:09.352406",
     "exception": false,
     "start_time": "2022-02-06T20:10:09.306897",
     "status": "completed"
    },
    "tags": []
   },
   "source": [
    "#### Plotting the outputs of this layer of the NN.\n"
   ]
  },
  {
   "cell_type": "code",
   "execution_count": 25,
   "id": "45eb2ff5",
   "metadata": {
    "execution": {
     "iopub.execute_input": "2022-02-06T20:10:09.453505Z",
     "iopub.status.busy": "2022-02-06T20:10:09.449655Z",
     "iopub.status.idle": "2022-02-06T20:10:09.472580Z",
     "shell.execute_reply": "2022-02-06T20:10:09.473104Z"
    },
    "papermill": {
     "duration": 0.073855,
     "end_time": "2022-02-06T20:10:09.473267",
     "exception": false,
     "start_time": "2022-02-06T20:10:09.399412",
     "status": "completed"
    },
    "tags": []
   },
   "outputs": [],
   "source": [
    "new_model = Model(layers[:-2])\n",
    "testing_plot = new_model(testing_data_x)"
   ]
  },
  {
   "cell_type": "code",
   "execution_count": 26,
   "id": "4c0a5485",
   "metadata": {
    "execution": {
     "iopub.execute_input": "2022-02-06T20:10:09.600583Z",
     "iopub.status.busy": "2022-02-06T20:10:09.580089Z",
     "iopub.status.idle": "2022-02-06T20:10:09.775683Z",
     "shell.execute_reply": "2022-02-06T20:10:09.775242Z"
    },
    "papermill": {
     "duration": 0.255831,
     "end_time": "2022-02-06T20:10:09.775805",
     "exception": false,
     "start_time": "2022-02-06T20:10:09.519974",
     "status": "completed"
    },
    "tags": []
   },
   "outputs": [
    {
     "data": {
      "text/plain": [
       "Text(0.5, 1.0, 'Outputs')"
      ]
     },
     "execution_count": 26,
     "metadata": {},
     "output_type": "execute_result"
    },
    {
     "data": {
      "image/png": "[encoded data removed]",
      "text/plain": [
       "<Figure size 576x504 with 1 Axes>"
      ]
     },
     "metadata": {
      "needs_background": "light"
     },
     "output_type": "display_data"
    }
   ],
   "source": [
    "# Plotting the scatter plot of points and color coding by class\n",
    "plt.figure(figsize=(8,7))\n",
    "plt.scatter(testing_plot[:,0], testing_plot[:,1], alpha = 0.1, c = y_test.ravel());\n",
    "plt.title('Outputs')"
   ]
  },
  {
   "cell_type": "markdown",
   "id": "a74fcf8f",
   "metadata": {
    "papermill": {
     "duration": 0.04447,
     "end_time": "2022-02-06T20:10:09.863226",
     "exception": false,
     "start_time": "2022-02-06T20:10:09.818756",
     "status": "completed"
    },
    "tags": []
   },
   "source": [
    "Probability contours"
   ]
  },
  {
   "cell_type": "code",
   "execution_count": 27,
   "id": "d0afc8e3",
   "metadata": {
    "execution": {
     "iopub.execute_input": "2022-02-06T20:10:09.959607Z",
     "iopub.status.busy": "2022-02-06T20:10:09.959043Z",
     "iopub.status.idle": "2022-02-06T20:10:09.971440Z",
     "shell.execute_reply": "2022-02-06T20:10:09.971901Z"
    },
    "papermill": {
     "duration": 0.063625,
     "end_time": "2022-02-06T20:10:09.972051",
     "exception": false,
     "start_time": "2022-02-06T20:10:09.908426",
     "status": "completed"
    },
    "tags": []
   },
   "outputs": [],
   "source": [
    "model_prob = Model(layers[-2:]) "
   ]
  },
  {
   "cell_type": "code",
   "execution_count": 28,
   "id": "9b96e238",
   "metadata": {
    "execution": {
     "iopub.execute_input": "2022-02-06T20:10:10.102354Z",
     "iopub.status.busy": "2022-02-06T20:10:10.101764Z",
     "iopub.status.idle": "2022-02-06T20:10:10.115823Z",
     "shell.execute_reply": "2022-02-06T20:10:10.116256Z"
    },
    "papermill": {
     "duration": 0.066761,
     "end_time": "2022-02-06T20:10:10.116399",
     "exception": false,
     "start_time": "2022-02-06T20:10:10.049638",
     "status": "completed"
    },
    "tags": []
   },
   "outputs": [],
   "source": [
    "#creating the x and y ranges according to the above generated plot.\n",
    "x_range = np.linspace(-4, 1, 100) \n",
    "y_range = np.linspace(-6, 6, 100) \n",
    "x_grid, y_grid = np.meshgrid(x_range, y_range) # x_grid and y_grig are of size 100 X 100\n",
    "\n",
    "# converting x_grid and y_grid to continuous arrays\n",
    "x_gridflat = np.ravel(x_grid)\n",
    "y_gridflat = np.ravel(y_grid)\n",
    "\n",
    "# The last layer of the current model takes two columns as input. Hence transpose of np.vstack() is required.\n",
    "X = np.vstack((x_gridflat, y_gridflat)).T\n",
    "\n",
    "prob_contour = model_prob(X).reshape(100,100) "
   ]
  },
  {
   "cell_type": "code",
   "execution_count": 29,
   "id": "da72499a",
   "metadata": {
    "execution": {
     "iopub.execute_input": "2022-02-06T20:10:10.239093Z",
     "iopub.status.busy": "2022-02-06T20:10:10.238518Z",
     "iopub.status.idle": "2022-02-06T20:10:10.512015Z",
     "shell.execute_reply": "2022-02-06T20:10:10.511512Z"
    },
    "papermill": {
     "duration": 0.337729,
     "end_time": "2022-02-06T20:10:10.512151",
     "exception": false,
     "start_time": "2022-02-06T20:10:10.174422",
     "status": "completed"
    },
    "tags": []
   },
   "outputs": [
    {
     "data": {
      "image/png": "[encoded data removed]",
      "text/plain": [
       "<Figure size 720x648 with 1 Axes>"
      ]
     },
     "metadata": {
      "needs_background": "light"
     },
     "output_type": "display_data"
    }
   ],
   "source": [
    "plt.figure(figsize=(10,9))\n",
    "plt.scatter(testing_plot[:,0], testing_plot[:,1], alpha = 0.1, c = y_test.ravel())\n",
    "contours = plt.contour(x_grid,y_grid,prob_contour)\n",
    "plt.title('Probability Contours')\n",
    "plt.clabel(contours, inline = True );"
   ]
  },
  {
   "cell_type": "code",
   "execution_count": null,
   "id": "e81b4ac7",
   "metadata": {
    "papermill": {
     "duration": 0.049632,
     "end_time": "2022-02-06T20:10:10.612173",
     "exception": false,
     "start_time": "2022-02-06T20:10:10.562541",
     "status": "completed"
    },
    "tags": []
   },
   "outputs": [],
   "source": []
  }
 ],
 "metadata": {
  "kernelspec": {
   "display_name": "Python 3",
   "language": "python",
   "name": "python3"
  },
  "language_info": {
   "codemirror_mode": {
    "name": "ipython",
    "version": 3
   },
   "file_extension": ".py",
   "mimetype": "text/x-python",
   "name": "python",
   "nbconvert_exporter": "python",
   "pygments_lexer": "ipython3",
   "version": "3.6.15"
  },
  "papermill": {
   "default_parameters": {},
   "duration": 108.000082,
   "end_time": "2022-02-06T20:10:11.081839",
   "environment_variables": {},
   "exception": null,
   "input_path": "2020-08-11-part2.ipynb",
   "output_path": "2020-08-11-part2.ipynb",
   "parameters": {},
   "start_time": "2022-02-06T20:08:23.081757",
   "version": "2.3.3"
  }
 },
 "nbformat": 4,
 "nbformat_minor": 5
}