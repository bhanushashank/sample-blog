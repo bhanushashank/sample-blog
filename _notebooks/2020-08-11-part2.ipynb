{
 "cells": [
  {
   "cell_type": "markdown",
   "id": "98380cd3",
   "metadata": {
    "papermill": {
     "duration": 0.029003,
     "end_time": "2022-01-21T10:07:59.689931",
     "exception": false,
     "start_time": "2022-01-21T10:07:59.660928",
     "status": "completed"
    },
    "tags": []
   },
   "source": [
    "# Distinguish Your Own Digits (DYOD)"
   ]
  },
  {
   "cell_type": "markdown",
   "id": "ef31240d",
   "metadata": {
    "papermill": {
     "duration": 0.024461,
     "end_time": "2022-01-21T10:07:59.739522",
     "exception": false,
     "start_time": "2022-01-21T10:07:59.715061",
     "status": "completed"
    },
    "tags": []
   },
   "source": [
    "You are going to write a classifier that distinguishes between the number 3 and number 8."
   ]
  },
  {
   "cell_type": "code",
   "execution_count": 1,
   "id": "b15c8646",
   "metadata": {
    "execution": {
     "iopub.execute_input": "2022-01-21T10:07:59.801371Z",
     "iopub.status.busy": "2022-01-21T10:07:59.800797Z",
     "iopub.status.idle": "2022-01-21T10:07:59.810620Z",
     "shell.execute_reply": "2022-01-21T10:07:59.810174Z"
    },
    "papermill": {
     "duration": 0.04686,
     "end_time": "2022-01-21T10:07:59.810766",
     "exception": false,
     "start_time": "2022-01-21T10:07:59.763906",
     "status": "completed"
    },
    "tags": []
   },
   "outputs": [],
   "source": [
    "%load_ext autoreload\n",
    "%autoreload 2"
   ]
  },
  {
   "cell_type": "code",
   "execution_count": 2,
   "id": "22ef38dc",
   "metadata": {
    "execution": {
     "iopub.execute_input": "2022-01-21T10:07:59.870234Z",
     "iopub.status.busy": "2022-01-21T10:07:59.869682Z",
     "iopub.status.idle": "2022-01-21T10:08:00.422582Z",
     "shell.execute_reply": "2022-01-21T10:08:00.421810Z"
    },
    "papermill": {
     "duration": 0.587489,
     "end_time": "2022-01-21T10:08:00.422753",
     "exception": false,
     "start_time": "2022-01-21T10:07:59.835264",
     "status": "completed"
    },
    "tags": []
   },
   "outputs": [],
   "source": [
    "%matplotlib inline\n",
    "import numpy as np\n",
    "import matplotlib.pyplot as plt\n",
    "import pandas as pd"
   ]
  },
  {
   "cell_type": "markdown",
   "id": "ba036198",
   "metadata": {
    "papermill": {
     "duration": 0.024958,
     "end_time": "2022-01-21T10:08:00.474400",
     "exception": false,
     "start_time": "2022-01-21T10:08:00.449442",
     "status": "completed"
    },
    "tags": []
   },
   "source": [
    "From the command line run `pip install mnist`. This is a library that will help you bring down the mnist dataset. If you run this from a notebook, you need to put  `!pip install mnist` in a cell by itself."
   ]
  },
  {
   "cell_type": "code",
   "execution_count": 3,
   "id": "bb6ad8a1",
   "metadata": {
    "execution": {
     "iopub.execute_input": "2022-01-21T10:08:00.528829Z",
     "iopub.status.busy": "2022-01-21T10:08:00.528290Z",
     "iopub.status.idle": "2022-01-21T10:08:02.366082Z",
     "shell.execute_reply": "2022-01-21T10:08:02.365628Z"
    },
    "papermill": {
     "duration": 1.867476,
     "end_time": "2022-01-21T10:08:02.366204",
     "exception": false,
     "start_time": "2022-01-21T10:08:00.498728",
     "status": "completed"
    },
    "tags": []
   },
   "outputs": [
    {
     "name": "stdout",
     "output_type": "stream",
     "text": [
      "Collecting mnist\r\n"
     ]
    },
    {
     "name": "stdout",
     "output_type": "stream",
     "text": [
      "  Downloading mnist-0.2.2-py2.py3-none-any.whl (3.5 kB)\r\n"
     ]
    },
    {
     "name": "stdout",
     "output_type": "stream",
     "text": [
      "Requirement already satisfied: numpy in /opt/hostedtoolcache/Python/3.6.15/x64/lib/python3.6/site-packages (from mnist) (1.19.5)\r\n"
     ]
    },
    {
     "name": "stdout",
     "output_type": "stream",
     "text": [
      "Installing collected packages: mnist\r\n"
     ]
    },
    {
     "name": "stdout",
     "output_type": "stream",
     "text": [
      "Successfully installed mnist-0.2.2\r\n"
     ]
    }
   ],
   "source": [
    "!pip install mnist"
   ]
  },
  {
   "cell_type": "markdown",
   "id": "69df9c9a",
   "metadata": {
    "papermill": {
     "duration": 0.022785,
     "end_time": "2022-01-21T10:08:02.411718",
     "exception": false,
     "start_time": "2022-01-21T10:08:02.388933",
     "status": "completed"
    },
    "tags": []
   },
   "source": [
    "## Preparing the Data"
   ]
  },
  {
   "cell_type": "code",
   "execution_count": 4,
   "id": "7f69d806",
   "metadata": {
    "execution": {
     "iopub.execute_input": "2022-01-21T10:08:02.459494Z",
     "iopub.status.busy": "2022-01-21T10:08:02.459018Z",
     "iopub.status.idle": "2022-01-21T10:08:02.474419Z",
     "shell.execute_reply": "2022-01-21T10:08:02.474778Z"
    },
    "papermill": {
     "duration": 0.040812,
     "end_time": "2022-01-21T10:08:02.474920",
     "exception": false,
     "start_time": "2022-01-21T10:08:02.434108",
     "status": "completed"
    },
    "tags": []
   },
   "outputs": [],
   "source": [
    "import mnist"
   ]
  },
  {
   "cell_type": "code",
   "execution_count": 5,
   "id": "a411e44f",
   "metadata": {
    "execution": {
     "iopub.execute_input": "2022-01-21T10:08:02.532740Z",
     "iopub.status.busy": "2022-01-21T10:08:02.528545Z",
     "iopub.status.idle": "2022-01-21T10:08:03.150388Z",
     "shell.execute_reply": "2022-01-21T10:08:03.149572Z"
    },
    "papermill": {
     "duration": 0.65286,
     "end_time": "2022-01-21T10:08:03.150516",
     "exception": false,
     "start_time": "2022-01-21T10:08:02.497656",
     "status": "completed"
    },
    "tags": []
   },
   "outputs": [],
   "source": [
    "train_images = mnist.train_images()\n",
    "train_labels = mnist.train_labels()"
   ]
  },
  {
   "cell_type": "code",
   "execution_count": 6,
   "id": "dceab3a5",
   "metadata": {
    "execution": {
     "iopub.execute_input": "2022-01-21T10:08:03.199998Z",
     "iopub.status.busy": "2022-01-21T10:08:03.199489Z",
     "iopub.status.idle": "2022-01-21T10:08:03.214297Z",
     "shell.execute_reply": "2022-01-21T10:08:03.214749Z"
    },
    "papermill": {
     "duration": 0.041637,
     "end_time": "2022-01-21T10:08:03.214883",
     "exception": false,
     "start_time": "2022-01-21T10:08:03.173246",
     "status": "completed"
    },
    "tags": []
   },
   "outputs": [
    {
     "data": {
      "text/plain": [
       "((60000, 28, 28), (60000,))"
      ]
     },
     "execution_count": 6,
     "metadata": {},
     "output_type": "execute_result"
    }
   ],
   "source": [
    "train_images.shape, train_labels.shape"
   ]
  },
  {
   "cell_type": "code",
   "execution_count": 7,
   "id": "f50dc2bb",
   "metadata": {
    "execution": {
     "iopub.execute_input": "2022-01-21T10:08:03.264488Z",
     "iopub.status.busy": "2022-01-21T10:08:03.263991Z",
     "iopub.status.idle": "2022-01-21T10:08:03.581361Z",
     "shell.execute_reply": "2022-01-21T10:08:03.580801Z"
    },
    "papermill": {
     "duration": 0.343879,
     "end_time": "2022-01-21T10:08:03.581505",
     "exception": false,
     "start_time": "2022-01-21T10:08:03.237626",
     "status": "completed"
    },
    "tags": []
   },
   "outputs": [],
   "source": [
    "test_images = mnist.test_images()\n",
    "test_labels = mnist.test_labels()"
   ]
  },
  {
   "cell_type": "code",
   "execution_count": 8,
   "id": "fc38cf1b",
   "metadata": {
    "execution": {
     "iopub.execute_input": "2022-01-21T10:08:03.634773Z",
     "iopub.status.busy": "2022-01-21T10:08:03.634178Z",
     "iopub.status.idle": "2022-01-21T10:08:03.647590Z",
     "shell.execute_reply": "2022-01-21T10:08:03.647182Z"
    },
    "papermill": {
     "duration": 0.039515,
     "end_time": "2022-01-21T10:08:03.647708",
     "exception": false,
     "start_time": "2022-01-21T10:08:03.608193",
     "status": "completed"
    },
    "tags": []
   },
   "outputs": [
    {
     "data": {
      "text/plain": [
       "((10000, 28, 28), (10000,))"
      ]
     },
     "execution_count": 8,
     "metadata": {},
     "output_type": "execute_result"
    }
   ],
   "source": [
    "test_images.shape, test_labels.shape"
   ]
  },
  {
   "cell_type": "code",
   "execution_count": 9,
   "id": "f9ed8fe0",
   "metadata": {
    "execution": {
     "iopub.execute_input": "2022-01-21T10:08:03.702131Z",
     "iopub.status.busy": "2022-01-21T10:08:03.701650Z",
     "iopub.status.idle": "2022-01-21T10:08:03.841586Z",
     "shell.execute_reply": "2022-01-21T10:08:03.841141Z"
    },
    "papermill": {
     "duration": 0.171079,
     "end_time": "2022-01-21T10:08:03.841713",
     "exception": false,
     "start_time": "2022-01-21T10:08:03.670634",
     "status": "completed"
    },
    "tags": []
   },
   "outputs": [
    {
     "name": "stdout",
     "output_type": "stream",
     "text": [
      "2\n"
     ]
    },
    {
     "data": {
      "text/plain": [
       "<matplotlib.image.AxesImage at 0x7f12633e1b38>"
      ]
     },
     "execution_count": 9,
     "metadata": {},
     "output_type": "execute_result"
    },
    {
     "data": {
      "image/png": "[encoded data removed]",
      "text/plain": [
       "<Figure size 432x288 with 1 Axes>"
      ]
     },
     "metadata": {
      "needs_background": "light"
     },
     "output_type": "display_data"
    }
   ],
   "source": [
    "image_index = 7776 # You may select anything up to 60,000\n",
    "print(train_labels[image_index]) \n",
    "plt.imshow(train_images[image_index], cmap='Greys')"
   ]
  },
  {
   "cell_type": "markdown",
   "id": "a8d2388d",
   "metadata": {
    "papermill": {
     "duration": 0.026979,
     "end_time": "2022-01-21T10:08:03.895844",
     "exception": false,
     "start_time": "2022-01-21T10:08:03.868865",
     "status": "completed"
    },
    "tags": []
   },
   "source": [
    "## Filter data to get 3 and 8 out"
   ]
  },
  {
   "cell_type": "code",
   "execution_count": 10,
   "id": "776f7fc7",
   "metadata": {
    "execution": {
     "iopub.execute_input": "2022-01-21T10:08:03.955623Z",
     "iopub.status.busy": "2022-01-21T10:08:03.954994Z",
     "iopub.status.idle": "2022-01-21T10:08:03.974002Z",
     "shell.execute_reply": "2022-01-21T10:08:03.973519Z"
    },
    "papermill": {
     "duration": 0.050602,
     "end_time": "2022-01-21T10:08:03.974135",
     "exception": false,
     "start_time": "2022-01-21T10:08:03.923533",
     "status": "completed"
    },
    "tags": []
   },
   "outputs": [],
   "source": [
    "train_filter = np.where((train_labels == 3 ) | (train_labels == 8))\n",
    "test_filter = np.where((test_labels == 3) | (test_labels == 8))\n",
    "X_train, y_train = train_images[train_filter], train_labels[train_filter]\n",
    "X_test, y_test = test_images[test_filter], test_labels[test_filter]"
   ]
  },
  {
   "cell_type": "markdown",
   "id": "948f0b7e",
   "metadata": {
    "papermill": {
     "duration": 0.029839,
     "end_time": "2022-01-21T10:08:04.032319",
     "exception": false,
     "start_time": "2022-01-21T10:08:04.002480",
     "status": "completed"
    },
    "tags": []
   },
   "source": [
    "We normalize the pizel values in the 0 to 1 range"
   ]
  },
  {
   "cell_type": "code",
   "execution_count": 11,
   "id": "ee4c2166",
   "metadata": {
    "execution": {
     "iopub.execute_input": "2022-01-21T10:08:04.083705Z",
     "iopub.status.busy": "2022-01-21T10:08:04.083233Z",
     "iopub.status.idle": "2022-01-21T10:08:04.132460Z",
     "shell.execute_reply": "2022-01-21T10:08:04.131890Z"
    },
    "papermill": {
     "duration": 0.076362,
     "end_time": "2022-01-21T10:08:04.132614",
     "exception": false,
     "start_time": "2022-01-21T10:08:04.056252",
     "status": "completed"
    },
    "tags": []
   },
   "outputs": [],
   "source": [
    "X_train = X_train/255.\n",
    "X_test = X_test/255."
   ]
  },
  {
   "cell_type": "markdown",
   "id": "ddcf4fab",
   "metadata": {
    "papermill": {
     "duration": 0.023815,
     "end_time": "2022-01-21T10:08:04.180954",
     "exception": false,
     "start_time": "2022-01-21T10:08:04.157139",
     "status": "completed"
    },
    "tags": []
   },
   "source": [
    "And setup the labels as 1 (when the digit is 3) and 0 (when the digit is 8)"
   ]
  },
  {
   "cell_type": "code",
   "execution_count": 12,
   "id": "7dc908f2",
   "metadata": {
    "execution": {
     "iopub.execute_input": "2022-01-21T10:08:04.236632Z",
     "iopub.status.busy": "2022-01-21T10:08:04.236123Z",
     "iopub.status.idle": "2022-01-21T10:08:04.248752Z",
     "shell.execute_reply": "2022-01-21T10:08:04.248328Z"
    },
    "papermill": {
     "duration": 0.043961,
     "end_time": "2022-01-21T10:08:04.248878",
     "exception": false,
     "start_time": "2022-01-21T10:08:04.204917",
     "status": "completed"
    },
    "tags": []
   },
   "outputs": [],
   "source": [
    "y_train = 1*(y_train==3)\n",
    "y_test = 1*(y_test==3)"
   ]
  },
  {
   "cell_type": "code",
   "execution_count": 13,
   "id": "01e4e969",
   "metadata": {
    "execution": {
     "iopub.execute_input": "2022-01-21T10:08:04.300771Z",
     "iopub.status.busy": "2022-01-21T10:08:04.300272Z",
     "iopub.status.idle": "2022-01-21T10:08:04.313958Z",
     "shell.execute_reply": "2022-01-21T10:08:04.314357Z"
    },
    "papermill": {
     "duration": 0.041438,
     "end_time": "2022-01-21T10:08:04.314502",
     "exception": false,
     "start_time": "2022-01-21T10:08:04.273064",
     "status": "completed"
    },
    "tags": []
   },
   "outputs": [
    {
     "data": {
      "text/plain": [
       "((11982, 28, 28), (1984, 28, 28))"
      ]
     },
     "execution_count": 13,
     "metadata": {},
     "output_type": "execute_result"
    }
   ],
   "source": [
    "X_train.shape, X_test.shape"
   ]
  },
  {
   "cell_type": "markdown",
   "id": "5ccf3f85",
   "metadata": {
    "papermill": {
     "duration": 0.024107,
     "end_time": "2022-01-21T10:08:04.362797",
     "exception": false,
     "start_time": "2022-01-21T10:08:04.338690",
     "status": "completed"
    },
    "tags": []
   },
   "source": [
    "We reshape the data to flatten the image pixels into a set of features or co-variates:"
   ]
  },
  {
   "cell_type": "code",
   "execution_count": 14,
   "id": "5286a4a3",
   "metadata": {
    "execution": {
     "iopub.execute_input": "2022-01-21T10:08:04.419396Z",
     "iopub.status.busy": "2022-01-21T10:08:04.418893Z",
     "iopub.status.idle": "2022-01-21T10:08:04.430282Z",
     "shell.execute_reply": "2022-01-21T10:08:04.430634Z"
    },
    "papermill": {
     "duration": 0.043632,
     "end_time": "2022-01-21T10:08:04.430770",
     "exception": false,
     "start_time": "2022-01-21T10:08:04.387138",
     "status": "completed"
    },
    "tags": []
   },
   "outputs": [
    {
     "data": {
      "text/plain": [
       "((11982, 784), (1984, 784))"
      ]
     },
     "execution_count": 14,
     "metadata": {},
     "output_type": "execute_result"
    }
   ],
   "source": [
    "X_train = X_train.reshape(X_train.shape[0], -1)\n",
    "X_test = X_test.reshape(X_test.shape[0], -1)\n",
    "X_train.shape, X_test.shape"
   ]
  },
  {
   "cell_type": "code",
   "execution_count": 15,
   "id": "73c5f88a",
   "metadata": {
    "execution": {
     "iopub.execute_input": "2022-01-21T10:08:04.484808Z",
     "iopub.status.busy": "2022-01-21T10:08:04.484319Z",
     "iopub.status.idle": "2022-01-21T10:08:04.504557Z",
     "shell.execute_reply": "2022-01-21T10:08:04.504034Z"
    },
    "papermill": {
     "duration": 0.049542,
     "end_time": "2022-01-21T10:08:04.504701",
     "exception": false,
     "start_time": "2022-01-21T10:08:04.455159",
     "status": "completed"
    },
    "tags": []
   },
   "outputs": [],
   "source": [
    "#Impoting functions from 'Kudzu'\n",
    "from kudzu.model import Model\n",
    "from kudzu.train import Learner\n",
    "from kudzu.optim import GD\n",
    "from kudzu.data import Data, Sampler,Dataloader\n",
    "\n",
    "from kudzu.callbacks import AccCallback\n",
    "from kudzu.callbacks import ClfCallback\n",
    "\n",
    "from kudzu.loss import MSE\n",
    "\n",
    "from kudzu.layer import Sigmoid,Relu\n",
    "from kudzu.layer import Affine"
   ]
  },
  {
   "cell_type": "markdown",
   "id": "bc01172a",
   "metadata": {
    "papermill": {
     "duration": 0.024136,
     "end_time": "2022-01-21T10:08:04.554750",
     "exception": false,
     "start_time": "2022-01-21T10:08:04.530614",
     "status": "completed"
    },
    "tags": []
   },
   "source": [
    "### Let us create a `Config` class, to store important parameters. \n",
    "This class essentially plays the role of a dictionary."
   ]
  },
  {
   "cell_type": "code",
   "execution_count": 16,
   "id": "978281aa",
   "metadata": {
    "execution": {
     "iopub.execute_input": "2022-01-21T10:08:04.607512Z",
     "iopub.status.busy": "2022-01-21T10:08:04.607015Z",
     "iopub.status.idle": "2022-01-21T10:08:04.621124Z",
     "shell.execute_reply": "2022-01-21T10:08:04.620663Z"
    },
    "papermill": {
     "duration": 0.04226,
     "end_time": "2022-01-21T10:08:04.621262",
     "exception": false,
     "start_time": "2022-01-21T10:08:04.579002",
     "status": "completed"
    },
    "tags": []
   },
   "outputs": [],
   "source": [
    "class Config:\n",
    "    pass\n",
    "config = Config()\n",
    "config.lr = 0.001\n",
    "config.num_epochs = 250\n",
    "config.bs = 50"
   ]
  },
  {
   "cell_type": "markdown",
   "id": "1385fa59",
   "metadata": {
    "papermill": {
     "duration": 0.024292,
     "end_time": "2022-01-21T10:08:04.674599",
     "exception": false,
     "start_time": "2022-01-21T10:08:04.650307",
     "status": "completed"
    },
    "tags": []
   },
   "source": [
    "### Running Models with the Training data\n",
    "Details about the network layers:\n",
    "- A first affine layer has 784 inputs and does 100 affine transforms. These are followed by a Relu\n",
    "- A second affine layer has 100 inputs from the 100 activations of the past layer, and does 100 affine transforms. These are followed by a Relu\n",
    "- A third affine layer has 100 activations and does 2 affine transformations to create an embedding for visualization. There is no non-linearity here.\n",
    "- A final \"logistic regression\" which has an affine transform from 2 inputs to 1 output, which is squeezed through a sigmoid.\n"
   ]
  },
  {
   "cell_type": "code",
   "execution_count": 17,
   "id": "2b9c66db",
   "metadata": {
    "execution": {
     "iopub.execute_input": "2022-01-21T10:08:04.727330Z",
     "iopub.status.busy": "2022-01-21T10:08:04.726840Z",
     "iopub.status.idle": "2022-01-21T10:08:04.738594Z",
     "shell.execute_reply": "2022-01-21T10:08:04.738200Z"
    },
    "papermill": {
     "duration": 0.03976,
     "end_time": "2022-01-21T10:08:04.738710",
     "exception": false,
     "start_time": "2022-01-21T10:08:04.698950",
     "status": "completed"
    },
    "tags": []
   },
   "outputs": [],
   "source": [
    "data = Data(X_train, y_train.reshape(-1,1))\n",
    "sampler = Sampler(data, config.bs, shuffle=True)\n",
    "\n",
    "dl = Dataloader(data, sampler)\n",
    "\n",
    "opt = GD(config.lr)\n",
    "loss = MSE()"
   ]
  },
  {
   "cell_type": "code",
   "execution_count": 18,
   "id": "b275e4c2",
   "metadata": {
    "execution": {
     "iopub.execute_input": "2022-01-21T10:08:04.793266Z",
     "iopub.status.busy": "2022-01-21T10:08:04.792715Z",
     "iopub.status.idle": "2022-01-21T10:08:04.804540Z",
     "shell.execute_reply": "2022-01-21T10:08:04.804020Z"
    },
    "papermill": {
     "duration": 0.041437,
     "end_time": "2022-01-21T10:08:04.804666",
     "exception": false,
     "start_time": "2022-01-21T10:08:04.763229",
     "status": "completed"
    },
    "tags": []
   },
   "outputs": [],
   "source": [
    "training_data_x = X_train\n",
    "testing_data_x = X_test\n",
    "training_data_y = y_train.reshape(-1,1)\n",
    "testing_data_y = y_test.reshape(-1,1)"
   ]
  },
  {
   "cell_type": "code",
   "execution_count": 19,
   "id": "76951160",
   "metadata": {
    "execution": {
     "iopub.execute_input": "2022-01-21T10:08:04.864548Z",
     "iopub.status.busy": "2022-01-21T10:08:04.863991Z",
     "iopub.status.idle": "2022-01-21T10:08:04.881117Z",
     "shell.execute_reply": "2022-01-21T10:08:04.880663Z"
    },
    "papermill": {
     "duration": 0.049029,
     "end_time": "2022-01-21T10:08:04.881237",
     "exception": false,
     "start_time": "2022-01-21T10:08:04.832208",
     "status": "completed"
    },
    "tags": []
   },
   "outputs": [
    {
     "name": "stdout",
     "output_type": "stream",
     "text": [
      "xavier\n",
      "xavier\n",
      "xavier\n",
      "xavier\n",
      "xavier\n"
     ]
    }
   ],
   "source": [
    "layers = [Affine(\"first\", 784, 100), Relu(\"first\"), Affine(\"second\", 100, 100), Relu(\"second\"), Affine(\"third\", 100, 2), Affine(\"last\", 2, 1), Sigmoid(\"last\")]\n",
    "model_nn = Model(layers)\n",
    "model_lr = Model([Affine(\"logits\", 784, 1), Sigmoid(\"sigmoid\")])"
   ]
  },
  {
   "cell_type": "code",
   "execution_count": 20,
   "id": "6eede77a",
   "metadata": {
    "execution": {
     "iopub.execute_input": "2022-01-21T10:08:04.942386Z",
     "iopub.status.busy": "2022-01-21T10:08:04.941839Z",
     "iopub.status.idle": "2022-01-21T10:08:04.953489Z",
     "shell.execute_reply": "2022-01-21T10:08:04.953067Z"
    },
    "papermill": {
     "duration": 0.044347,
     "end_time": "2022-01-21T10:08:04.953609",
     "exception": false,
     "start_time": "2022-01-21T10:08:04.909262",
     "status": "completed"
    },
    "tags": []
   },
   "outputs": [],
   "source": [
    "nn_learner = Learner(loss, model_nn, opt, config.num_epochs)\n",
    "acc_nn = ClfCallback(nn_learner, config.bs, training_data_x , testing_data_x, training_data_y, testing_data_y)\n",
    "nn_learner.set_callbacks([acc_nn])"
   ]
  },
  {
   "cell_type": "code",
   "execution_count": 21,
   "id": "877b6cc7",
   "metadata": {
    "execution": {
     "iopub.execute_input": "2022-01-21T10:08:05.007807Z",
     "iopub.status.busy": "2022-01-21T10:08:05.007311Z",
     "iopub.status.idle": "2022-01-21T10:08:05.020053Z",
     "shell.execute_reply": "2022-01-21T10:08:05.019620Z"
    },
    "papermill": {
     "duration": 0.041949,
     "end_time": "2022-01-21T10:08:05.020180",
     "exception": false,
     "start_time": "2022-01-21T10:08:04.978231",
     "status": "completed"
    },
    "tags": []
   },
   "outputs": [],
   "source": [
    "lr_learner = Learner(loss, model_lr, opt, config.num_epochs)\n",
    "acc_lr = ClfCallback(lr_learner, config.bs, training_data_x , testing_data_x, training_data_y, testing_data_y)\n",
    "lr_learner.set_callbacks([acc_lr])"
   ]
  },
  {
   "cell_type": "code",
   "execution_count": 22,
   "id": "d9b133c3",
   "metadata": {
    "execution": {
     "iopub.execute_input": "2022-01-21T10:08:05.073522Z",
     "iopub.status.busy": "2022-01-21T10:08:05.073033Z",
     "iopub.status.idle": "2022-01-21T10:09:26.626876Z",
     "shell.execute_reply": "2022-01-21T10:09:26.627680Z"
    },
    "papermill": {
     "duration": 81.582842,
     "end_time": "2022-01-21T10:09:26.627838",
     "exception": false,
     "start_time": "2022-01-21T10:08:05.044996",
     "status": "completed"
    },
    "tags": []
   },
   "outputs": [
    {
     "name": "stdout",
     "output_type": "stream",
     "text": [
      "Epoch 0, Loss 0.2502\n",
      "Training Accuracy: 0.5522, Testing Accuracy: 0.5615\n",
      "\n"
     ]
    },
    {
     "name": "stdout",
     "output_type": "stream",
     "text": [
      "Epoch 10, Loss 0.1961\n",
      "Training Accuracy: 0.8538, Testing Accuracy: 0.8574\n",
      "\n"
     ]
    },
    {
     "name": "stdout",
     "output_type": "stream",
     "text": [
      "Epoch 20, Loss 0.1036\n",
      "Training Accuracy: 0.8976, Testing Accuracy: 0.9078\n",
      "\n"
     ]
    },
    {
     "name": "stdout",
     "output_type": "stream",
     "text": [
      "Epoch 30, Loss 0.0649\n",
      "Training Accuracy: 0.9306, Testing Accuracy: 0.9355\n",
      "\n"
     ]
    },
    {
     "name": "stdout",
     "output_type": "stream",
     "text": [
      "Epoch 40, Loss 0.0494\n",
      "Training Accuracy: 0.9451, Testing Accuracy: 0.9536\n",
      "\n"
     ]
    },
    {
     "name": "stdout",
     "output_type": "stream",
     "text": [
      "Epoch 50, Loss 0.0418\n",
      "Training Accuracy: 0.9512, Testing Accuracy: 0.9612\n",
      "\n"
     ]
    },
    {
     "name": "stdout",
     "output_type": "stream",
     "text": [
      "Epoch 60, Loss 0.0373\n",
      "Training Accuracy: 0.9567, Testing Accuracy: 0.9662\n",
      "\n"
     ]
    },
    {
     "name": "stdout",
     "output_type": "stream",
     "text": [
      "Epoch 70, Loss 0.0343\n",
      "Training Accuracy: 0.9604, Testing Accuracy: 0.9677\n",
      "\n"
     ]
    },
    {
     "name": "stdout",
     "output_type": "stream",
     "text": [
      "Epoch 80, Loss 0.0322\n",
      "Training Accuracy: 0.9627, Testing Accuracy: 0.9703\n",
      "\n"
     ]
    },
    {
     "name": "stdout",
     "output_type": "stream",
     "text": [
      "Epoch 90, Loss 0.0305\n",
      "Training Accuracy: 0.9651, Testing Accuracy: 0.9703\n",
      "\n"
     ]
    },
    {
     "name": "stdout",
     "output_type": "stream",
     "text": [
      "Epoch 100, Loss 0.0292\n",
      "Training Accuracy: 0.9664, Testing Accuracy: 0.9698\n",
      "\n"
     ]
    },
    {
     "name": "stdout",
     "output_type": "stream",
     "text": [
      "Epoch 110, Loss 0.0281\n",
      "Training Accuracy: 0.9670, Testing Accuracy: 0.9708\n",
      "\n"
     ]
    },
    {
     "name": "stdout",
     "output_type": "stream",
     "text": [
      "Epoch 120, Loss 0.0271\n",
      "Training Accuracy: 0.9675, Testing Accuracy: 0.9718\n",
      "\n"
     ]
    },
    {
     "name": "stdout",
     "output_type": "stream",
     "text": [
      "Epoch 130, Loss 0.0262\n",
      "Training Accuracy: 0.9685, Testing Accuracy: 0.9723\n",
      "\n"
     ]
    },
    {
     "name": "stdout",
     "output_type": "stream",
     "text": [
      "Epoch 140, Loss 0.0255\n",
      "Training Accuracy: 0.9692, Testing Accuracy: 0.9728\n",
      "\n"
     ]
    },
    {
     "name": "stdout",
     "output_type": "stream",
     "text": [
      "Epoch 150, Loss 0.0248\n",
      "Training Accuracy: 0.9709, Testing Accuracy: 0.9733\n",
      "\n"
     ]
    },
    {
     "name": "stdout",
     "output_type": "stream",
     "text": [
      "Epoch 160, Loss 0.0242\n",
      "Training Accuracy: 0.9713, Testing Accuracy: 0.9733\n",
      "\n"
     ]
    },
    {
     "name": "stdout",
     "output_type": "stream",
     "text": [
      "Epoch 170, Loss 0.0236\n",
      "Training Accuracy: 0.9722, Testing Accuracy: 0.9733\n",
      "\n"
     ]
    },
    {
     "name": "stdout",
     "output_type": "stream",
     "text": [
      "Epoch 180, Loss 0.0231\n",
      "Training Accuracy: 0.9729, Testing Accuracy: 0.9738\n",
      "\n"
     ]
    },
    {
     "name": "stdout",
     "output_type": "stream",
     "text": [
      "Epoch 190, Loss 0.0226\n",
      "Training Accuracy: 0.9742, Testing Accuracy: 0.9748\n",
      "\n"
     ]
    },
    {
     "name": "stdout",
     "output_type": "stream",
     "text": [
      "Epoch 200, Loss 0.0221\n",
      "Training Accuracy: 0.9750, Testing Accuracy: 0.9753\n",
      "\n"
     ]
    },
    {
     "name": "stdout",
     "output_type": "stream",
     "text": [
      "Epoch 210, Loss 0.0217\n",
      "Training Accuracy: 0.9756, Testing Accuracy: 0.9758\n",
      "\n"
     ]
    },
    {
     "name": "stdout",
     "output_type": "stream",
     "text": [
      "Epoch 220, Loss 0.0212\n",
      "Training Accuracy: 0.9760, Testing Accuracy: 0.9758\n",
      "\n"
     ]
    },
    {
     "name": "stdout",
     "output_type": "stream",
     "text": [
      "Epoch 230, Loss 0.0208\n",
      "Training Accuracy: 0.9765, Testing Accuracy: 0.9758\n",
      "\n"
     ]
    },
    {
     "name": "stdout",
     "output_type": "stream",
     "text": [
      "Epoch 240, Loss 0.0205\n",
      "Training Accuracy: 0.9768, Testing Accuracy: 0.9763\n",
      "\n"
     ]
    },
    {
     "data": {
      "text/plain": [
       "0.029272536109284614"
      ]
     },
     "execution_count": 22,
     "metadata": {},
     "output_type": "execute_result"
    }
   ],
   "source": [
    "nn_learner.train_loop(dl)"
   ]
  },
  {
   "cell_type": "code",
   "execution_count": 23,
   "id": "e0163366",
   "metadata": {
    "execution": {
     "iopub.execute_input": "2022-01-21T10:09:26.710894Z",
     "iopub.status.busy": "2022-01-21T10:09:26.710353Z",
     "iopub.status.idle": "2022-01-21T10:09:40.855630Z",
     "shell.execute_reply": "2022-01-21T10:09:40.856378Z"
    },
    "papermill": {
     "duration": 14.193547,
     "end_time": "2022-01-21T10:09:40.856532",
     "exception": false,
     "start_time": "2022-01-21T10:09:26.662985",
     "status": "completed"
    },
    "tags": []
   },
   "outputs": [
    {
     "name": "stdout",
     "output_type": "stream",
     "text": [
      "Epoch 0, Loss 0.2551\n",
      "Training Accuracy: 0.6494, Testing Accuracy: 0.6381\n",
      "\n"
     ]
    },
    {
     "name": "stdout",
     "output_type": "stream",
     "text": [
      "Epoch 10, Loss 0.1051\n",
      "Training Accuracy: 0.9018, Testing Accuracy: 0.9168\n",
      "\n"
     ]
    },
    {
     "name": "stdout",
     "output_type": "stream",
     "text": [
      "Epoch 20, Loss 0.0809\n",
      "Training Accuracy: 0.9215, Testing Accuracy: 0.9365\n",
      "\n"
     ]
    },
    {
     "name": "stdout",
     "output_type": "stream",
     "text": [
      "Epoch 30, Loss 0.0697\n",
      "Training Accuracy: 0.9325, Testing Accuracy: 0.9476\n",
      "\n"
     ]
    },
    {
     "name": "stdout",
     "output_type": "stream",
     "text": [
      "Epoch 40, Loss 0.0629\n",
      "Training Accuracy: 0.9386, Testing Accuracy: 0.9506\n",
      "\n"
     ]
    },
    {
     "name": "stdout",
     "output_type": "stream",
     "text": [
      "Epoch 50, Loss 0.0582\n",
      "Training Accuracy: 0.9432, Testing Accuracy: 0.9526\n",
      "\n"
     ]
    },
    {
     "name": "stdout",
     "output_type": "stream",
     "text": [
      "Epoch 60, Loss 0.0548\n",
      "Training Accuracy: 0.9462, Testing Accuracy: 0.9551\n",
      "\n"
     ]
    },
    {
     "name": "stdout",
     "output_type": "stream",
     "text": [
      "Epoch 70, Loss 0.0521\n",
      "Training Accuracy: 0.9480, Testing Accuracy: 0.9567\n",
      "\n"
     ]
    },
    {
     "name": "stdout",
     "output_type": "stream",
     "text": [
      "Epoch 80, Loss 0.05\n",
      "Training Accuracy: 0.9508, Testing Accuracy: 0.9597\n",
      "\n"
     ]
    },
    {
     "name": "stdout",
     "output_type": "stream",
     "text": [
      "Epoch 90, Loss 0.0482\n",
      "Training Accuracy: 0.9519, Testing Accuracy: 0.9597\n",
      "\n"
     ]
    },
    {
     "name": "stdout",
     "output_type": "stream",
     "text": [
      "Epoch 100, Loss 0.0468\n",
      "Training Accuracy: 0.9528, Testing Accuracy: 0.9622\n",
      "\n"
     ]
    },
    {
     "name": "stdout",
     "output_type": "stream",
     "text": [
      "Epoch 110, Loss 0.0455\n",
      "Training Accuracy: 0.9538, Testing Accuracy: 0.9632\n",
      "\n"
     ]
    },
    {
     "name": "stdout",
     "output_type": "stream",
     "text": [
      "Epoch 120, Loss 0.0444\n",
      "Training Accuracy: 0.9548, Testing Accuracy: 0.9632\n",
      "\n"
     ]
    },
    {
     "name": "stdout",
     "output_type": "stream",
     "text": [
      "Epoch 130, Loss 0.0434\n",
      "Training Accuracy: 0.9558, Testing Accuracy: 0.9632\n",
      "\n"
     ]
    },
    {
     "name": "stdout",
     "output_type": "stream",
     "text": [
      "Epoch 140, Loss 0.0426\n",
      "Training Accuracy: 0.9563, Testing Accuracy: 0.9652\n",
      "\n"
     ]
    },
    {
     "name": "stdout",
     "output_type": "stream",
     "text": [
      "Epoch 150, Loss 0.0418\n",
      "Training Accuracy: 0.9573, Testing Accuracy: 0.9652\n",
      "\n"
     ]
    },
    {
     "name": "stdout",
     "output_type": "stream",
     "text": [
      "Epoch 160, Loss 0.0411\n",
      "Training Accuracy: 0.9579, Testing Accuracy: 0.9642\n",
      "\n"
     ]
    },
    {
     "name": "stdout",
     "output_type": "stream",
     "text": [
      "Epoch 170, Loss 0.0405\n",
      "Training Accuracy: 0.9585, Testing Accuracy: 0.9642\n",
      "\n"
     ]
    },
    {
     "name": "stdout",
     "output_type": "stream",
     "text": [
      "Epoch 180, Loss 0.0399\n",
      "Training Accuracy: 0.9589, Testing Accuracy: 0.9652\n",
      "\n"
     ]
    },
    {
     "name": "stdout",
     "output_type": "stream",
     "text": [
      "Epoch 190, Loss 0.0393\n",
      "Training Accuracy: 0.9593, Testing Accuracy: 0.9657\n",
      "\n"
     ]
    },
    {
     "name": "stdout",
     "output_type": "stream",
     "text": [
      "Epoch 200, Loss 0.0388\n",
      "Training Accuracy: 0.9597, Testing Accuracy: 0.9657\n",
      "\n"
     ]
    },
    {
     "name": "stdout",
     "output_type": "stream",
     "text": [
      "Epoch 210, Loss 0.0384\n",
      "Training Accuracy: 0.9602, Testing Accuracy: 0.9662\n",
      "\n"
     ]
    },
    {
     "name": "stdout",
     "output_type": "stream",
     "text": [
      "Epoch 220, Loss 0.038\n",
      "Training Accuracy: 0.9604, Testing Accuracy: 0.9677\n",
      "\n"
     ]
    },
    {
     "name": "stdout",
     "output_type": "stream",
     "text": [
      "Epoch 230, Loss 0.0376\n",
      "Training Accuracy: 0.9602, Testing Accuracy: 0.9677\n",
      "\n"
     ]
    },
    {
     "name": "stdout",
     "output_type": "stream",
     "text": [
      "Epoch 240, Loss 0.0372\n",
      "Training Accuracy: 0.9604, Testing Accuracy: 0.9677\n",
      "\n"
     ]
    },
    {
     "data": {
      "text/plain": [
       "0.0204683434759674"
      ]
     },
     "execution_count": 23,
     "metadata": {},
     "output_type": "execute_result"
    }
   ],
   "source": [
    "lr_learner.train_loop(dl)"
   ]
  },
  {
   "cell_type": "code",
   "execution_count": 24,
   "id": "ca410940",
   "metadata": {
    "execution": {
     "iopub.execute_input": "2022-01-21T10:09:40.949918Z",
     "iopub.status.busy": "2022-01-21T10:09:40.949364Z",
     "iopub.status.idle": "2022-01-21T10:09:41.166716Z",
     "shell.execute_reply": "2022-01-21T10:09:41.167141Z"
    },
    "papermill": {
     "duration": 0.268356,
     "end_time": "2022-01-21T10:09:41.167287",
     "exception": false,
     "start_time": "2022-01-21T10:09:40.898931",
     "status": "completed"
    },
    "tags": []
   },
   "outputs": [
    {
     "data": {
      "text/plain": [
       "<matplotlib.legend.Legend at 0x7f1262f3df60>"
      ]
     },
     "execution_count": 24,
     "metadata": {},
     "output_type": "execute_result"
    },
    {
     "data": {
      "image/png": "[encoded data removed]",
      "text/plain": [
       "<Figure size 1080x720 with 1 Axes>"
      ]
     },
     "metadata": {
      "needs_background": "light"
     },
     "output_type": "display_data"
    }
   ],
   "source": [
    "#comparing the results of NN and LR\n",
    "plt.figure(figsize=(15,10))\n",
    "\n",
    "# Neural Network plots\n",
    "plt.plot(acc_nn.accuracies, 'r-', label = \"Training Accuracies - NN\")\n",
    "plt.plot(acc_nn.test_accuracies, 'g-', label = \"Testing Accuracies - NN\")\n",
    "\n",
    "# Logistic Regression plots\n",
    "plt.plot(acc_lr.accuracies, 'k-', label = \"Training Accuracies - LR\")\n",
    "plt.plot(acc_lr.test_accuracies, 'b-', label = \"Testing Accuracies - LR\")\n",
    "plt.legend()"
   ]
  },
  {
   "cell_type": "markdown",
   "id": "80dfb35c",
   "metadata": {
    "papermill": {
     "duration": 0.042711,
     "end_time": "2022-01-21T10:09:41.252962",
     "exception": false,
     "start_time": "2022-01-21T10:09:41.210251",
     "status": "completed"
    },
    "tags": []
   },
   "source": [
    "#### Plotting the outputs of this layer of the NN.\n"
   ]
  },
  {
   "cell_type": "code",
   "execution_count": 25,
   "id": "45eb2ff5",
   "metadata": {
    "execution": {
     "iopub.execute_input": "2022-01-21T10:09:41.342914Z",
     "iopub.status.busy": "2022-01-21T10:09:41.342367Z",
     "iopub.status.idle": "2022-01-21T10:09:41.364070Z",
     "shell.execute_reply": "2022-01-21T10:09:41.364544Z"
    },
    "papermill": {
     "duration": 0.068891,
     "end_time": "2022-01-21T10:09:41.364697",
     "exception": false,
     "start_time": "2022-01-21T10:09:41.295806",
     "status": "completed"
    },
    "tags": []
   },
   "outputs": [],
   "source": [
    "new_model = Model(layers[:-2])\n",
    "testing_plot = new_model(testing_data_x)"
   ]
  },
  {
   "cell_type": "code",
   "execution_count": 26,
   "id": "4c0a5485",
   "metadata": {
    "execution": {
     "iopub.execute_input": "2022-01-21T10:09:41.457709Z",
     "iopub.status.busy": "2022-01-21T10:09:41.456204Z",
     "iopub.status.idle": "2022-01-21T10:09:41.700661Z",
     "shell.execute_reply": "2022-01-21T10:09:41.700164Z"
    },
    "papermill": {
     "duration": 0.292479,
     "end_time": "2022-01-21T10:09:41.700790",
     "exception": false,
     "start_time": "2022-01-21T10:09:41.408311",
     "status": "completed"
    },
    "tags": []
   },
   "outputs": [
    {
     "data": {
      "text/plain": [
       "Text(0.5, 1.0, 'Outputs')"
      ]
     },
     "execution_count": 26,
     "metadata": {},
     "output_type": "execute_result"
    },
    {
     "data": {
      "image/png": "[encoded data removed]",
      "text/plain": [
       "<Figure size 576x504 with 1 Axes>"
      ]
     },
     "metadata": {
      "needs_background": "light"
     },
     "output_type": "display_data"
    }
   ],
   "source": [
    "# Plotting the scatter plot of points and color coding by class\n",
    "plt.figure(figsize=(8,7))\n",
    "plt.scatter(testing_plot[:,0], testing_plot[:,1], alpha = 0.1, c = y_test.ravel());\n",
    "plt.title('Outputs')"
   ]
  },
  {
   "cell_type": "markdown",
   "id": "a74fcf8f",
   "metadata": {
    "papermill": {
     "duration": 0.046186,
     "end_time": "2022-01-21T10:09:41.793574",
     "exception": false,
     "start_time": "2022-01-21T10:09:41.747388",
     "status": "completed"
    },
    "tags": []
   },
   "source": [
    "Probability contours"
   ]
  },
  {
   "cell_type": "code",
   "execution_count": 27,
   "id": "d0afc8e3",
   "metadata": {
    "execution": {
     "iopub.execute_input": "2022-01-21T10:09:41.891324Z",
     "iopub.status.busy": "2022-01-21T10:09:41.890751Z",
     "iopub.status.idle": "2022-01-21T10:09:41.902852Z",
     "shell.execute_reply": "2022-01-21T10:09:41.902294Z"
    },
    "papermill": {
     "duration": 0.062608,
     "end_time": "2022-01-21T10:09:41.902985",
     "exception": false,
     "start_time": "2022-01-21T10:09:41.840377",
     "status": "completed"
    },
    "tags": []
   },
   "outputs": [],
   "source": [
    "model_prob = Model(layers[-2:]) "
   ]
  },
  {
   "cell_type": "code",
   "execution_count": 28,
   "id": "9b96e238",
   "metadata": {
    "execution": {
     "iopub.execute_input": "2022-01-21T10:09:42.045019Z",
     "iopub.status.busy": "2022-01-21T10:09:42.044467Z",
     "iopub.status.idle": "2022-01-21T10:09:42.056675Z",
     "shell.execute_reply": "2022-01-21T10:09:42.057092Z"
    },
    "papermill": {
     "duration": 0.106324,
     "end_time": "2022-01-21T10:09:42.057246",
     "exception": false,
     "start_time": "2022-01-21T10:09:41.950922",
     "status": "completed"
    },
    "tags": []
   },
   "outputs": [],
   "source": [
    "#creating the x and y ranges according to the above generated plot.\n",
    "x_range = np.linspace(-4, 1, 100) \n",
    "y_range = np.linspace(-6, 6, 100) \n",
    "x_grid, y_grid = np.meshgrid(x_range, y_range) # x_grid and y_grig are of size 100 X 100\n",
    "\n",
    "# converting x_grid and y_grid to continuous arrays\n",
    "x_gridflat = np.ravel(x_grid)\n",
    "y_gridflat = np.ravel(y_grid)\n",
    "\n",
    "# The last layer of the current model takes two columns as input. Hence transpose of np.vstack() is required.\n",
    "X = np.vstack((x_gridflat, y_gridflat)).T\n",
    "\n",
    "prob_contour = model_prob(X).reshape(100,100) "
   ]
  },
  {
   "cell_type": "code",
   "execution_count": 29,
   "id": "da72499a",
   "metadata": {
    "execution": {
     "iopub.execute_input": "2022-01-21T10:09:42.154579Z",
     "iopub.status.busy": "2022-01-21T10:09:42.154032Z",
     "iopub.status.idle": "2022-01-21T10:09:42.402008Z",
     "shell.execute_reply": "2022-01-21T10:09:42.401544Z"
    },
    "papermill": {
     "duration": 0.298558,
     "end_time": "2022-01-21T10:09:42.402128",
     "exception": false,
     "start_time": "2022-01-21T10:09:42.103570",
     "status": "completed"
    },
    "tags": []
   },
   "outputs": [
    {
     "data": {
      "image/png": "[encoded data removed]",
      "text/plain": [
       "<Figure size 720x648 with 1 Axes>"
      ]
     },
     "metadata": {
      "needs_background": "light"
     },
     "output_type": "display_data"
    }
   ],
   "source": [
    "plt.figure(figsize=(10,9))\n",
    "plt.scatter(testing_plot[:,0], testing_plot[:,1], alpha = 0.1, c = y_test.ravel())\n",
    "contours = plt.contour(x_grid,y_grid,prob_contour)\n",
    "plt.title('Probability Contours')\n",
    "plt.clabel(contours, inline = True );"
   ]
  },
  {
   "cell_type": "code",
   "execution_count": null,
   "id": "e81b4ac7",
   "metadata": {
    "papermill": {
     "duration": 0.048615,
     "end_time": "2022-01-21T10:09:42.499627",
     "exception": false,
     "start_time": "2022-01-21T10:09:42.451012",
     "status": "completed"
    },
    "tags": []
   },
   "outputs": [],
   "source": []
  }
 ],
 "metadata": {
  "kernelspec": {
   "display_name": "Python 3",
   "language": "python",
   "name": "python3"
  },
  "language_info": {
   "codemirror_mode": {
    "name": "ipython",
    "version": 3
   },
   "file_extension": ".py",
   "mimetype": "text/x-python",
   "name": "python",
   "nbconvert_exporter": "python",
   "pygments_lexer": "ipython3",
   "version": "3.6.15"
  },
  "papermill": {
   "default_parameters": {},
   "duration": 104.357588,
   "end_time": "2022-01-21T10:09:42.967820",
   "environment_variables": {},
   "exception": null,
   "input_path": "2020-08-11-part2.ipynb",
   "output_path": "2020-08-11-part2.ipynb",
   "parameters": {},
   "start_time": "2022-01-21T10:07:58.610232",
   "version": "2.3.3"
  }
 },
 "nbformat": 4,
 "nbformat_minor": 5
}