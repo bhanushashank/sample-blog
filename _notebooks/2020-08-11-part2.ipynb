{
 "cells": [
  {
   "cell_type": "markdown",
   "id": "98380cd3",
   "metadata": {
    "papermill": {
     "duration": 0.029281,
     "end_time": "2021-12-13T20:08:35.131175",
     "exception": false,
     "start_time": "2021-12-13T20:08:35.101894",
     "status": "completed"
    },
    "tags": []
   },
   "source": [
    "# Distinguish Your Own Digits (DYOD)"
   ]
  },
  {
   "cell_type": "markdown",
   "id": "ef31240d",
   "metadata": {
    "papermill": {
     "duration": 0.023821,
     "end_time": "2021-12-13T20:08:35.179594",
     "exception": false,
     "start_time": "2021-12-13T20:08:35.155773",
     "status": "completed"
    },
    "tags": []
   },
   "source": [
    "You are going to write a classifier that distinguishes between the number 3 and number 8."
   ]
  },
  {
   "cell_type": "code",
   "execution_count": 1,
   "id": "b15c8646",
   "metadata": {
    "execution": {
     "iopub.execute_input": "2021-12-13T20:08:35.239633Z",
     "iopub.status.busy": "2021-12-13T20:08:35.239053Z",
     "iopub.status.idle": "2021-12-13T20:08:35.249803Z",
     "shell.execute_reply": "2021-12-13T20:08:35.249358Z"
    },
    "papermill": {
     "duration": 0.046452,
     "end_time": "2021-12-13T20:08:35.249940",
     "exception": false,
     "start_time": "2021-12-13T20:08:35.203488",
     "status": "completed"
    },
    "tags": []
   },
   "outputs": [],
   "source": [
    "%load_ext autoreload\n",
    "%autoreload 2"
   ]
  },
  {
   "cell_type": "code",
   "execution_count": 2,
   "id": "22ef38dc",
   "metadata": {
    "execution": {
     "iopub.execute_input": "2021-12-13T20:08:35.313258Z",
     "iopub.status.busy": "2021-12-13T20:08:35.312642Z",
     "iopub.status.idle": "2021-12-13T20:08:35.921574Z",
     "shell.execute_reply": "2021-12-13T20:08:35.920956Z"
    },
    "papermill": {
     "duration": 0.647537,
     "end_time": "2021-12-13T20:08:35.921719",
     "exception": false,
     "start_time": "2021-12-13T20:08:35.274182",
     "status": "completed"
    },
    "tags": []
   },
   "outputs": [],
   "source": [
    "%matplotlib inline\n",
    "import numpy as np\n",
    "import matplotlib.pyplot as plt\n",
    "import pandas as pd"
   ]
  },
  {
   "cell_type": "markdown",
   "id": "ba036198",
   "metadata": {
    "papermill": {
     "duration": 0.02414,
     "end_time": "2021-12-13T20:08:35.971300",
     "exception": false,
     "start_time": "2021-12-13T20:08:35.947160",
     "status": "completed"
    },
    "tags": []
   },
   "source": [
    "From the command line run `pip install mnist`. This is a library that will help you bring down the mnist dataset. If you run this from a notebook, you need to put  `!pip install mnist` in a cell by itself."
   ]
  },
  {
   "cell_type": "code",
   "execution_count": 3,
   "id": "bb6ad8a1",
   "metadata": {
    "execution": {
     "iopub.execute_input": "2021-12-13T20:08:36.035535Z",
     "iopub.status.busy": "2021-12-13T20:08:36.034619Z",
     "iopub.status.idle": "2021-12-13T20:08:38.529808Z",
     "shell.execute_reply": "2021-12-13T20:08:38.529229Z"
    },
    "papermill": {
     "duration": 2.534448,
     "end_time": "2021-12-13T20:08:38.529943",
     "exception": false,
     "start_time": "2021-12-13T20:08:35.995495",
     "status": "completed"
    },
    "tags": []
   },
   "outputs": [
    {
     "name": "stdout",
     "output_type": "stream",
     "text": [
      "Collecting mnist\r\n"
     ]
    },
    {
     "name": "stdout",
     "output_type": "stream",
     "text": [
      "  Downloading mnist-0.2.2-py2.py3-none-any.whl (3.5 kB)\r\n",
      "Requirement already satisfied: numpy in /opt/hostedtoolcache/Python/3.6.15/x64/lib/python3.6/site-packages (from mnist) (1.19.5)\r\n"
     ]
    },
    {
     "name": "stdout",
     "output_type": "stream",
     "text": [
      "Installing collected packages: mnist\r\n"
     ]
    },
    {
     "name": "stdout",
     "output_type": "stream",
     "text": [
      "Successfully installed mnist-0.2.2\r\n"
     ]
    }
   ],
   "source": [
    "!pip install mnist"
   ]
  },
  {
   "cell_type": "markdown",
   "id": "69df9c9a",
   "metadata": {
    "papermill": {
     "duration": 0.025232,
     "end_time": "2021-12-13T20:08:38.581098",
     "exception": false,
     "start_time": "2021-12-13T20:08:38.555866",
     "status": "completed"
    },
    "tags": []
   },
   "source": [
    "## Preparing the Data"
   ]
  },
  {
   "cell_type": "code",
   "execution_count": 4,
   "id": "7f69d806",
   "metadata": {
    "execution": {
     "iopub.execute_input": "2021-12-13T20:08:38.652861Z",
     "iopub.status.busy": "2021-12-13T20:08:38.649968Z",
     "iopub.status.idle": "2021-12-13T20:08:38.655220Z",
     "shell.execute_reply": "2021-12-13T20:08:38.654776Z"
    },
    "papermill": {
     "duration": 0.049154,
     "end_time": "2021-12-13T20:08:38.655340",
     "exception": false,
     "start_time": "2021-12-13T20:08:38.606186",
     "status": "completed"
    },
    "tags": []
   },
   "outputs": [],
   "source": [
    "import mnist"
   ]
  },
  {
   "cell_type": "code",
   "execution_count": 5,
   "id": "a411e44f",
   "metadata": {
    "execution": {
     "iopub.execute_input": "2021-12-13T20:08:38.726103Z",
     "iopub.status.busy": "2021-12-13T20:08:38.722018Z",
     "iopub.status.idle": "2021-12-13T20:08:39.356029Z",
     "shell.execute_reply": "2021-12-13T20:08:39.355467Z"
    },
    "papermill": {
     "duration": 0.675361,
     "end_time": "2021-12-13T20:08:39.356171",
     "exception": false,
     "start_time": "2021-12-13T20:08:38.680810",
     "status": "completed"
    },
    "tags": []
   },
   "outputs": [],
   "source": [
    "train_images = mnist.train_images()\n",
    "train_labels = mnist.train_labels()"
   ]
  },
  {
   "cell_type": "code",
   "execution_count": 6,
   "id": "dceab3a5",
   "metadata": {
    "execution": {
     "iopub.execute_input": "2021-12-13T20:08:39.421773Z",
     "iopub.status.busy": "2021-12-13T20:08:39.421188Z",
     "iopub.status.idle": "2021-12-13T20:08:39.430907Z",
     "shell.execute_reply": "2021-12-13T20:08:39.430481Z"
    },
    "papermill": {
     "duration": 0.048907,
     "end_time": "2021-12-13T20:08:39.431027",
     "exception": false,
     "start_time": "2021-12-13T20:08:39.382120",
     "status": "completed"
    },
    "tags": []
   },
   "outputs": [
    {
     "data": {
      "text/plain": [
       "((60000, 28, 28), (60000,))"
      ]
     },
     "execution_count": 6,
     "metadata": {},
     "output_type": "execute_result"
    }
   ],
   "source": [
    "train_images.shape, train_labels.shape"
   ]
  },
  {
   "cell_type": "code",
   "execution_count": 7,
   "id": "f50dc2bb",
   "metadata": {
    "execution": {
     "iopub.execute_input": "2021-12-13T20:08:39.490496Z",
     "iopub.status.busy": "2021-12-13T20:08:39.489959Z",
     "iopub.status.idle": "2021-12-13T20:08:39.641918Z",
     "shell.execute_reply": "2021-12-13T20:08:39.641384Z"
    },
    "papermill": {
     "duration": 0.185596,
     "end_time": "2021-12-13T20:08:39.642067",
     "exception": false,
     "start_time": "2021-12-13T20:08:39.456471",
     "status": "completed"
    },
    "tags": []
   },
   "outputs": [],
   "source": [
    "test_images = mnist.test_images()\n",
    "test_labels = mnist.test_labels()"
   ]
  },
  {
   "cell_type": "code",
   "execution_count": 8,
   "id": "fc38cf1b",
   "metadata": {
    "execution": {
     "iopub.execute_input": "2021-12-13T20:08:39.702321Z",
     "iopub.status.busy": "2021-12-13T20:08:39.701768Z",
     "iopub.status.idle": "2021-12-13T20:08:39.713664Z",
     "shell.execute_reply": "2021-12-13T20:08:39.713208Z"
    },
    "papermill": {
     "duration": 0.04561,
     "end_time": "2021-12-13T20:08:39.713786",
     "exception": false,
     "start_time": "2021-12-13T20:08:39.668176",
     "status": "completed"
    },
    "tags": []
   },
   "outputs": [
    {
     "data": {
      "text/plain": [
       "((10000, 28, 28), (10000,))"
      ]
     },
     "execution_count": 8,
     "metadata": {},
     "output_type": "execute_result"
    }
   ],
   "source": [
    "test_images.shape, test_labels.shape"
   ]
  },
  {
   "cell_type": "code",
   "execution_count": 9,
   "id": "f9ed8fe0",
   "metadata": {
    "execution": {
     "iopub.execute_input": "2021-12-13T20:08:39.773841Z",
     "iopub.status.busy": "2021-12-13T20:08:39.770617Z",
     "iopub.status.idle": "2021-12-13T20:08:39.912637Z",
     "shell.execute_reply": "2021-12-13T20:08:39.912065Z"
    },
    "papermill": {
     "duration": 0.173112,
     "end_time": "2021-12-13T20:08:39.912764",
     "exception": false,
     "start_time": "2021-12-13T20:08:39.739652",
     "status": "completed"
    },
    "tags": []
   },
   "outputs": [
    {
     "name": "stdout",
     "output_type": "stream",
     "text": [
      "2\n"
     ]
    },
    {
     "data": {
      "text/plain": [
       "<matplotlib.image.AxesImage at 0x7f19747fe978>"
      ]
     },
     "execution_count": 9,
     "metadata": {},
     "output_type": "execute_result"
    },
    {
     "data": {
      "image/png": "[encoded data removed]",
      "text/plain": [
       "<Figure size 432x288 with 1 Axes>"
      ]
     },
     "metadata": {
      "needs_background": "light"
     },
     "output_type": "display_data"
    }
   ],
   "source": [
    "image_index = 7776 # You may select anything up to 60,000\n",
    "print(train_labels[image_index]) \n",
    "plt.imshow(train_images[image_index], cmap='Greys')"
   ]
  },
  {
   "cell_type": "markdown",
   "id": "a8d2388d",
   "metadata": {
    "papermill": {
     "duration": 0.026893,
     "end_time": "2021-12-13T20:08:39.966935",
     "exception": false,
     "start_time": "2021-12-13T20:08:39.940042",
     "status": "completed"
    },
    "tags": []
   },
   "source": [
    "## Filter data to get 3 and 8 out"
   ]
  },
  {
   "cell_type": "code",
   "execution_count": 10,
   "id": "776f7fc7",
   "metadata": {
    "execution": {
     "iopub.execute_input": "2021-12-13T20:08:40.038726Z",
     "iopub.status.busy": "2021-12-13T20:08:40.034202Z",
     "iopub.status.idle": "2021-12-13T20:08:40.045410Z",
     "shell.execute_reply": "2021-12-13T20:08:40.045809Z"
    },
    "papermill": {
     "duration": 0.052046,
     "end_time": "2021-12-13T20:08:40.045953",
     "exception": false,
     "start_time": "2021-12-13T20:08:39.993907",
     "status": "completed"
    },
    "tags": []
   },
   "outputs": [],
   "source": [
    "train_filter = np.where((train_labels == 3 ) | (train_labels == 8))\n",
    "test_filter = np.where((test_labels == 3) | (test_labels == 8))\n",
    "X_train, y_train = train_images[train_filter], train_labels[train_filter]\n",
    "X_test, y_test = test_images[test_filter], test_labels[test_filter]"
   ]
  },
  {
   "cell_type": "markdown",
   "id": "948f0b7e",
   "metadata": {
    "papermill": {
     "duration": 0.02664,
     "end_time": "2021-12-13T20:08:40.099362",
     "exception": false,
     "start_time": "2021-12-13T20:08:40.072722",
     "status": "completed"
    },
    "tags": []
   },
   "source": [
    "We normalize the pizel values in the 0 to 1 range"
   ]
  },
  {
   "cell_type": "code",
   "execution_count": 11,
   "id": "ee4c2166",
   "metadata": {
    "execution": {
     "iopub.execute_input": "2021-12-13T20:08:40.170296Z",
     "iopub.status.busy": "2021-12-13T20:08:40.169722Z",
     "iopub.status.idle": "2021-12-13T20:08:40.207681Z",
     "shell.execute_reply": "2021-12-13T20:08:40.208145Z"
    },
    "papermill": {
     "duration": 0.082141,
     "end_time": "2021-12-13T20:08:40.208307",
     "exception": false,
     "start_time": "2021-12-13T20:08:40.126166",
     "status": "completed"
    },
    "tags": []
   },
   "outputs": [],
   "source": [
    "X_train = X_train/255.\n",
    "X_test = X_test/255."
   ]
  },
  {
   "cell_type": "markdown",
   "id": "ddcf4fab",
   "metadata": {
    "papermill": {
     "duration": 0.026925,
     "end_time": "2021-12-13T20:08:40.263261",
     "exception": false,
     "start_time": "2021-12-13T20:08:40.236336",
     "status": "completed"
    },
    "tags": []
   },
   "source": [
    "And setup the labels as 1 (when the digit is 3) and 0 (when the digit is 8)"
   ]
  },
  {
   "cell_type": "code",
   "execution_count": 12,
   "id": "7dc908f2",
   "metadata": {
    "execution": {
     "iopub.execute_input": "2021-12-13T20:08:40.330646Z",
     "iopub.status.busy": "2021-12-13T20:08:40.320029Z",
     "iopub.status.idle": "2021-12-13T20:08:40.336460Z",
     "shell.execute_reply": "2021-12-13T20:08:40.336030Z"
    },
    "papermill": {
     "duration": 0.046597,
     "end_time": "2021-12-13T20:08:40.336580",
     "exception": false,
     "start_time": "2021-12-13T20:08:40.289983",
     "status": "completed"
    },
    "tags": []
   },
   "outputs": [],
   "source": [
    "y_train = 1*(y_train==3)\n",
    "y_test = 1*(y_test==3)"
   ]
  },
  {
   "cell_type": "code",
   "execution_count": 13,
   "id": "01e4e969",
   "metadata": {
    "execution": {
     "iopub.execute_input": "2021-12-13T20:08:40.407380Z",
     "iopub.status.busy": "2021-12-13T20:08:40.406431Z",
     "iopub.status.idle": "2021-12-13T20:08:40.413635Z",
     "shell.execute_reply": "2021-12-13T20:08:40.413209Z"
    },
    "papermill": {
     "duration": 0.049641,
     "end_time": "2021-12-13T20:08:40.413755",
     "exception": false,
     "start_time": "2021-12-13T20:08:40.364114",
     "status": "completed"
    },
    "tags": []
   },
   "outputs": [
    {
     "data": {
      "text/plain": [
       "((11982, 28, 28), (1984, 28, 28))"
      ]
     },
     "execution_count": 13,
     "metadata": {},
     "output_type": "execute_result"
    }
   ],
   "source": [
    "X_train.shape, X_test.shape"
   ]
  },
  {
   "cell_type": "markdown",
   "id": "5ccf3f85",
   "metadata": {
    "papermill": {
     "duration": 0.026872,
     "end_time": "2021-12-13T20:08:40.467535",
     "exception": false,
     "start_time": "2021-12-13T20:08:40.440663",
     "status": "completed"
    },
    "tags": []
   },
   "source": [
    "We reshape the data to flatten the image pixels into a set of features or co-variates:"
   ]
  },
  {
   "cell_type": "code",
   "execution_count": 14,
   "id": "5286a4a3",
   "metadata": {
    "execution": {
     "iopub.execute_input": "2021-12-13T20:08:40.531210Z",
     "iopub.status.busy": "2021-12-13T20:08:40.530630Z",
     "iopub.status.idle": "2021-12-13T20:08:40.543155Z",
     "shell.execute_reply": "2021-12-13T20:08:40.542436Z"
    },
    "papermill": {
     "duration": 0.048598,
     "end_time": "2021-12-13T20:08:40.543283",
     "exception": false,
     "start_time": "2021-12-13T20:08:40.494685",
     "status": "completed"
    },
    "tags": []
   },
   "outputs": [
    {
     "data": {
      "text/plain": [
       "((11982, 784), (1984, 784))"
      ]
     },
     "execution_count": 14,
     "metadata": {},
     "output_type": "execute_result"
    }
   ],
   "source": [
    "X_train = X_train.reshape(X_train.shape[0], -1)\n",
    "X_test = X_test.reshape(X_test.shape[0], -1)\n",
    "X_train.shape, X_test.shape"
   ]
  },
  {
   "cell_type": "code",
   "execution_count": 15,
   "id": "73c5f88a",
   "metadata": {
    "execution": {
     "iopub.execute_input": "2021-12-13T20:08:40.622248Z",
     "iopub.status.busy": "2021-12-13T20:08:40.613984Z",
     "iopub.status.idle": "2021-12-13T20:08:40.625168Z",
     "shell.execute_reply": "2021-12-13T20:08:40.625594Z"
    },
    "papermill": {
     "duration": 0.054993,
     "end_time": "2021-12-13T20:08:40.625735",
     "exception": false,
     "start_time": "2021-12-13T20:08:40.570742",
     "status": "completed"
    },
    "tags": []
   },
   "outputs": [],
   "source": [
    "#Impoting functions from 'Kudzu'\n",
    "from kudzu.model import Model\n",
    "from kudzu.train import Learner\n",
    "from kudzu.optim import GD\n",
    "from kudzu.data import Data, Sampler,Dataloader\n",
    "\n",
    "from kudzu.callbacks import AccCallback\n",
    "from kudzu.callbacks import ClfCallback\n",
    "\n",
    "from kudzu.loss import MSE\n",
    "\n",
    "from kudzu.layer import Sigmoid,Relu\n",
    "from kudzu.layer import Affine"
   ]
  },
  {
   "cell_type": "markdown",
   "id": "bc01172a",
   "metadata": {
    "papermill": {
     "duration": 0.027201,
     "end_time": "2021-12-13T20:08:40.680609",
     "exception": false,
     "start_time": "2021-12-13T20:08:40.653408",
     "status": "completed"
    },
    "tags": []
   },
   "source": [
    "### Let us create a `Config` class, to store important parameters. \n",
    "This class essentially plays the role of a dictionary."
   ]
  },
  {
   "cell_type": "code",
   "execution_count": 16,
   "id": "978281aa",
   "metadata": {
    "execution": {
     "iopub.execute_input": "2021-12-13T20:08:40.742547Z",
     "iopub.status.busy": "2021-12-13T20:08:40.741991Z",
     "iopub.status.idle": "2021-12-13T20:08:40.752748Z",
     "shell.execute_reply": "2021-12-13T20:08:40.752315Z"
    },
    "papermill": {
     "duration": 0.045119,
     "end_time": "2021-12-13T20:08:40.752867",
     "exception": false,
     "start_time": "2021-12-13T20:08:40.707748",
     "status": "completed"
    },
    "tags": []
   },
   "outputs": [],
   "source": [
    "class Config:\n",
    "    pass\n",
    "config = Config()\n",
    "config.lr = 0.001\n",
    "config.num_epochs = 250\n",
    "config.bs = 50"
   ]
  },
  {
   "cell_type": "markdown",
   "id": "1385fa59",
   "metadata": {
    "papermill": {
     "duration": 0.027249,
     "end_time": "2021-12-13T20:08:40.807650",
     "exception": false,
     "start_time": "2021-12-13T20:08:40.780401",
     "status": "completed"
    },
    "tags": []
   },
   "source": [
    "### Running Models with the Training data\n",
    "Details about the network layers:\n",
    "- A first affine layer has 784 inputs and does 100 affine transforms. These are followed by a Relu\n",
    "- A second affine layer has 100 inputs from the 100 activations of the past layer, and does 100 affine transforms. These are followed by a Relu\n",
    "- A third affine layer has 100 activations and does 2 affine transformations to create an embedding for visualization. There is no non-linearity here.\n",
    "- A final \"logistic regression\" which has an affine transform from 2 inputs to 1 output, which is squeezed through a sigmoid.\n"
   ]
  },
  {
   "cell_type": "code",
   "execution_count": 17,
   "id": "2b9c66db",
   "metadata": {
    "execution": {
     "iopub.execute_input": "2021-12-13T20:08:40.868804Z",
     "iopub.status.busy": "2021-12-13T20:08:40.868269Z",
     "iopub.status.idle": "2021-12-13T20:08:40.879917Z",
     "shell.execute_reply": "2021-12-13T20:08:40.879457Z"
    },
    "papermill": {
     "duration": 0.045106,
     "end_time": "2021-12-13T20:08:40.880038",
     "exception": false,
     "start_time": "2021-12-13T20:08:40.834932",
     "status": "completed"
    },
    "tags": []
   },
   "outputs": [],
   "source": [
    "data = Data(X_train, y_train.reshape(-1,1))\n",
    "sampler = Sampler(data, config.bs, shuffle=True)\n",
    "\n",
    "dl = Dataloader(data, sampler)\n",
    "\n",
    "opt = GD(config.lr)\n",
    "loss = MSE()"
   ]
  },
  {
   "cell_type": "code",
   "execution_count": 18,
   "id": "b275e4c2",
   "metadata": {
    "execution": {
     "iopub.execute_input": "2021-12-13T20:08:40.953781Z",
     "iopub.status.busy": "2021-12-13T20:08:40.950375Z",
     "iopub.status.idle": "2021-12-13T20:08:40.955712Z",
     "shell.execute_reply": "2021-12-13T20:08:40.956102Z"
    },
    "papermill": {
     "duration": 0.048693,
     "end_time": "2021-12-13T20:08:40.956256",
     "exception": false,
     "start_time": "2021-12-13T20:08:40.907563",
     "status": "completed"
    },
    "tags": []
   },
   "outputs": [],
   "source": [
    "training_data_x = X_train\n",
    "testing_data_x = X_test\n",
    "training_data_y = y_train.reshape(-1,1)\n",
    "testing_data_y = y_test.reshape(-1,1)"
   ]
  },
  {
   "cell_type": "code",
   "execution_count": 19,
   "id": "76951160",
   "metadata": {
    "execution": {
     "iopub.execute_input": "2021-12-13T20:08:41.025895Z",
     "iopub.status.busy": "2021-12-13T20:08:41.024297Z",
     "iopub.status.idle": "2021-12-13T20:08:41.035370Z",
     "shell.execute_reply": "2021-12-13T20:08:41.034942Z"
    },
    "papermill": {
     "duration": 0.051968,
     "end_time": "2021-12-13T20:08:41.035494",
     "exception": false,
     "start_time": "2021-12-13T20:08:40.983526",
     "status": "completed"
    },
    "tags": []
   },
   "outputs": [
    {
     "name": "stdout",
     "output_type": "stream",
     "text": [
      "xavier\n",
      "xavier\n",
      "xavier\n",
      "xavier\n",
      "xavier\n"
     ]
    }
   ],
   "source": [
    "layers = [Affine(\"first\", 784, 100), Relu(\"first\"), Affine(\"second\", 100, 100), Relu(\"second\"), Affine(\"third\", 100, 2), Affine(\"last\", 2, 1), Sigmoid(\"last\")]\n",
    "model_nn = Model(layers)\n",
    "model_lr = Model([Affine(\"logits\", 784, 1), Sigmoid(\"sigmoid\")])"
   ]
  },
  {
   "cell_type": "code",
   "execution_count": 20,
   "id": "6eede77a",
   "metadata": {
    "execution": {
     "iopub.execute_input": "2021-12-13T20:08:41.112056Z",
     "iopub.status.busy": "2021-12-13T20:08:41.111136Z",
     "iopub.status.idle": "2021-12-13T20:08:41.113778Z",
     "shell.execute_reply": "2021-12-13T20:08:41.112968Z"
    },
    "papermill": {
     "duration": 0.050665,
     "end_time": "2021-12-13T20:08:41.113906",
     "exception": false,
     "start_time": "2021-12-13T20:08:41.063241",
     "status": "completed"
    },
    "tags": []
   },
   "outputs": [],
   "source": [
    "nn_learner = Learner(loss, model_nn, opt, config.num_epochs)\n",
    "acc_nn = ClfCallback(nn_learner, config.bs, training_data_x , testing_data_x, training_data_y, testing_data_y)\n",
    "nn_learner.set_callbacks([acc_nn])"
   ]
  },
  {
   "cell_type": "code",
   "execution_count": 21,
   "id": "877b6cc7",
   "metadata": {
    "execution": {
     "iopub.execute_input": "2021-12-13T20:08:41.175797Z",
     "iopub.status.busy": "2021-12-13T20:08:41.175233Z",
     "iopub.status.idle": "2021-12-13T20:08:41.186422Z",
     "shell.execute_reply": "2021-12-13T20:08:41.185981Z"
    },
    "papermill": {
     "duration": 0.044844,
     "end_time": "2021-12-13T20:08:41.186548",
     "exception": false,
     "start_time": "2021-12-13T20:08:41.141704",
     "status": "completed"
    },
    "tags": []
   },
   "outputs": [],
   "source": [
    "lr_learner = Learner(loss, model_lr, opt, config.num_epochs)\n",
    "acc_lr = ClfCallback(lr_learner, config.bs, training_data_x , testing_data_x, training_data_y, testing_data_y)\n",
    "lr_learner.set_callbacks([acc_lr])"
   ]
  },
  {
   "cell_type": "code",
   "execution_count": 22,
   "id": "d9b133c3",
   "metadata": {
    "execution": {
     "iopub.execute_input": "2021-12-13T20:08:41.245974Z",
     "iopub.status.busy": "2021-12-13T20:08:41.245434Z",
     "iopub.status.idle": "2021-12-13T20:09:59.291377Z",
     "shell.execute_reply": "2021-12-13T20:09:59.291878Z"
    },
    "papermill": {
     "duration": 78.077625,
     "end_time": "2021-12-13T20:09:59.292025",
     "exception": false,
     "start_time": "2021-12-13T20:08:41.214400",
     "status": "completed"
    },
    "tags": []
   },
   "outputs": [
    {
     "name": "stdout",
     "output_type": "stream",
     "text": [
      "Epoch 0, Loss 0.2533\n",
      "Training Accuracy: 0.5629, Testing Accuracy: 0.5953\n",
      "\n"
     ]
    },
    {
     "name": "stdout",
     "output_type": "stream",
     "text": [
      "Epoch 10, Loss 0.1221\n",
      "Training Accuracy: 0.8933, Testing Accuracy: 0.9148\n",
      "\n"
     ]
    },
    {
     "name": "stdout",
     "output_type": "stream",
     "text": [
      "Epoch 20, Loss 0.0678\n",
      "Training Accuracy: 0.9306, Testing Accuracy: 0.9466\n",
      "\n"
     ]
    },
    {
     "name": "stdout",
     "output_type": "stream",
     "text": [
      "Epoch 30, Loss 0.0504\n",
      "Training Accuracy: 0.9461, Testing Accuracy: 0.9572\n",
      "\n"
     ]
    },
    {
     "name": "stdout",
     "output_type": "stream",
     "text": [
      "Epoch 40, Loss 0.0423\n",
      "Training Accuracy: 0.9535, Testing Accuracy: 0.9642\n",
      "\n"
     ]
    },
    {
     "name": "stdout",
     "output_type": "stream",
     "text": [
      "Epoch 50, Loss 0.0377\n",
      "Training Accuracy: 0.9569, Testing Accuracy: 0.9667\n",
      "\n"
     ]
    },
    {
     "name": "stdout",
     "output_type": "stream",
     "text": [
      "Epoch 60, Loss 0.0346\n",
      "Training Accuracy: 0.9594, Testing Accuracy: 0.9693\n",
      "\n"
     ]
    },
    {
     "name": "stdout",
     "output_type": "stream",
     "text": [
      "Epoch 70, Loss 0.0323\n",
      "Training Accuracy: 0.9630, Testing Accuracy: 0.9698\n",
      "\n"
     ]
    },
    {
     "name": "stdout",
     "output_type": "stream",
     "text": [
      "Epoch 80, Loss 0.0305\n",
      "Training Accuracy: 0.9648, Testing Accuracy: 0.9698\n",
      "\n"
     ]
    },
    {
     "name": "stdout",
     "output_type": "stream",
     "text": [
      "Epoch 90, Loss 0.0291\n",
      "Training Accuracy: 0.9665, Testing Accuracy: 0.9708\n",
      "\n"
     ]
    },
    {
     "name": "stdout",
     "output_type": "stream",
     "text": [
      "Epoch 100, Loss 0.0279\n",
      "Training Accuracy: 0.9676, Testing Accuracy: 0.9728\n",
      "\n"
     ]
    },
    {
     "name": "stdout",
     "output_type": "stream",
     "text": [
      "Epoch 110, Loss 0.0269\n",
      "Training Accuracy: 0.9684, Testing Accuracy: 0.9733\n",
      "\n"
     ]
    },
    {
     "name": "stdout",
     "output_type": "stream",
     "text": [
      "Epoch 120, Loss 0.026\n",
      "Training Accuracy: 0.9699, Testing Accuracy: 0.9733\n",
      "\n"
     ]
    },
    {
     "name": "stdout",
     "output_type": "stream",
     "text": [
      "Epoch 130, Loss 0.0252\n",
      "Training Accuracy: 0.9709, Testing Accuracy: 0.9743\n",
      "\n"
     ]
    },
    {
     "name": "stdout",
     "output_type": "stream",
     "text": [
      "Epoch 140, Loss 0.0245\n",
      "Training Accuracy: 0.9717, Testing Accuracy: 0.9743\n",
      "\n"
     ]
    },
    {
     "name": "stdout",
     "output_type": "stream",
     "text": [
      "Epoch 150, Loss 0.0238\n",
      "Training Accuracy: 0.9726, Testing Accuracy: 0.9753\n",
      "\n"
     ]
    },
    {
     "name": "stdout",
     "output_type": "stream",
     "text": [
      "Epoch 160, Loss 0.0232\n",
      "Training Accuracy: 0.9735, Testing Accuracy: 0.9758\n",
      "\n"
     ]
    },
    {
     "name": "stdout",
     "output_type": "stream",
     "text": [
      "Epoch 170, Loss 0.0227\n",
      "Training Accuracy: 0.9744, Testing Accuracy: 0.9763\n",
      "\n"
     ]
    },
    {
     "name": "stdout",
     "output_type": "stream",
     "text": [
      "Epoch 180, Loss 0.0222\n",
      "Training Accuracy: 0.9750, Testing Accuracy: 0.9763\n",
      "\n"
     ]
    },
    {
     "name": "stdout",
     "output_type": "stream",
     "text": [
      "Epoch 190, Loss 0.0217\n",
      "Training Accuracy: 0.9758, Testing Accuracy: 0.9773\n",
      "\n"
     ]
    },
    {
     "name": "stdout",
     "output_type": "stream",
     "text": [
      "Epoch 200, Loss 0.0212\n",
      "Training Accuracy: 0.9760, Testing Accuracy: 0.9768\n",
      "\n"
     ]
    },
    {
     "name": "stdout",
     "output_type": "stream",
     "text": [
      "Epoch 210, Loss 0.0208\n",
      "Training Accuracy: 0.9770, Testing Accuracy: 0.9768\n",
      "\n"
     ]
    },
    {
     "name": "stdout",
     "output_type": "stream",
     "text": [
      "Epoch 220, Loss 0.0203\n",
      "Training Accuracy: 0.9775, Testing Accuracy: 0.9763\n",
      "\n"
     ]
    },
    {
     "name": "stdout",
     "output_type": "stream",
     "text": [
      "Epoch 230, Loss 0.02\n",
      "Training Accuracy: 0.9786, Testing Accuracy: 0.9763\n",
      "\n"
     ]
    },
    {
     "name": "stdout",
     "output_type": "stream",
     "text": [
      "Epoch 240, Loss 0.0196\n",
      "Training Accuracy: 0.9788, Testing Accuracy: 0.9763\n",
      "\n"
     ]
    },
    {
     "data": {
      "text/plain": [
       "0.02156172201195608"
      ]
     },
     "execution_count": 22,
     "metadata": {},
     "output_type": "execute_result"
    }
   ],
   "source": [
    "nn_learner.train_loop(dl)"
   ]
  },
  {
   "cell_type": "code",
   "execution_count": 23,
   "id": "e0163366",
   "metadata": {
    "execution": {
     "iopub.execute_input": "2021-12-13T20:09:59.370768Z",
     "iopub.status.busy": "2021-12-13T20:09:59.370202Z",
     "iopub.status.idle": "2021-12-13T20:10:13.421888Z",
     "shell.execute_reply": "2021-12-13T20:10:13.422639Z"
    },
    "papermill": {
     "duration": 14.095931,
     "end_time": "2021-12-13T20:10:13.422800",
     "exception": false,
     "start_time": "2021-12-13T20:09:59.326869",
     "status": "completed"
    },
    "tags": []
   },
   "outputs": [
    {
     "name": "stdout",
     "output_type": "stream",
     "text": [
      "Epoch 0, Loss 0.2581\n",
      "Training Accuracy: 0.6132, Testing Accuracy: 0.6285\n",
      "\n"
     ]
    },
    {
     "name": "stdout",
     "output_type": "stream",
     "text": [
      "Epoch 10, Loss 0.104\n",
      "Training Accuracy: 0.9084, Testing Accuracy: 0.9224\n",
      "\n"
     ]
    },
    {
     "name": "stdout",
     "output_type": "stream",
     "text": [
      "Epoch 20, Loss 0.0788\n",
      "Training Accuracy: 0.9296, Testing Accuracy: 0.9430\n",
      "\n"
     ]
    },
    {
     "name": "stdout",
     "output_type": "stream",
     "text": [
      "Epoch 30, Loss 0.0675\n",
      "Training Accuracy: 0.9382, Testing Accuracy: 0.9486\n",
      "\n"
     ]
    },
    {
     "name": "stdout",
     "output_type": "stream",
     "text": [
      "Epoch 40, Loss 0.0608\n",
      "Training Accuracy: 0.9432, Testing Accuracy: 0.9536\n",
      "\n"
     ]
    },
    {
     "name": "stdout",
     "output_type": "stream",
     "text": [
      "Epoch 50, Loss 0.0563\n",
      "Training Accuracy: 0.9471, Testing Accuracy: 0.9572\n",
      "\n"
     ]
    },
    {
     "name": "stdout",
     "output_type": "stream",
     "text": [
      "Epoch 60, Loss 0.053\n",
      "Training Accuracy: 0.9489, Testing Accuracy: 0.9602\n",
      "\n"
     ]
    },
    {
     "name": "stdout",
     "output_type": "stream",
     "text": [
      "Epoch 70, Loss 0.0505\n",
      "Training Accuracy: 0.9509, Testing Accuracy: 0.9627\n",
      "\n"
     ]
    },
    {
     "name": "stdout",
     "output_type": "stream",
     "text": [
      "Epoch 80, Loss 0.0485\n",
      "Training Accuracy: 0.9527, Testing Accuracy: 0.9632\n",
      "\n"
     ]
    },
    {
     "name": "stdout",
     "output_type": "stream",
     "text": [
      "Epoch 90, Loss 0.0468\n",
      "Training Accuracy: 0.9539, Testing Accuracy: 0.9637\n",
      "\n"
     ]
    },
    {
     "name": "stdout",
     "output_type": "stream",
     "text": [
      "Epoch 100, Loss 0.0454\n",
      "Training Accuracy: 0.9545, Testing Accuracy: 0.9647\n",
      "\n"
     ]
    },
    {
     "name": "stdout",
     "output_type": "stream",
     "text": [
      "Epoch 110, Loss 0.0442\n",
      "Training Accuracy: 0.9559, Testing Accuracy: 0.9647\n",
      "\n"
     ]
    },
    {
     "name": "stdout",
     "output_type": "stream",
     "text": [
      "Epoch 120, Loss 0.0432\n",
      "Training Accuracy: 0.9569, Testing Accuracy: 0.9667\n",
      "\n"
     ]
    },
    {
     "name": "stdout",
     "output_type": "stream",
     "text": [
      "Epoch 130, Loss 0.0423\n",
      "Training Accuracy: 0.9571, Testing Accuracy: 0.9667\n",
      "\n"
     ]
    },
    {
     "name": "stdout",
     "output_type": "stream",
     "text": [
      "Epoch 140, Loss 0.0415\n",
      "Training Accuracy: 0.9577, Testing Accuracy: 0.9662\n",
      "\n"
     ]
    },
    {
     "name": "stdout",
     "output_type": "stream",
     "text": [
      "Epoch 150, Loss 0.0408\n",
      "Training Accuracy: 0.9582, Testing Accuracy: 0.9667\n",
      "\n"
     ]
    },
    {
     "name": "stdout",
     "output_type": "stream",
     "text": [
      "Epoch 160, Loss 0.0401\n",
      "Training Accuracy: 0.9585, Testing Accuracy: 0.9677\n",
      "\n"
     ]
    },
    {
     "name": "stdout",
     "output_type": "stream",
     "text": [
      "Epoch 170, Loss 0.0395\n",
      "Training Accuracy: 0.9593, Testing Accuracy: 0.9677\n",
      "\n"
     ]
    },
    {
     "name": "stdout",
     "output_type": "stream",
     "text": [
      "Epoch 180, Loss 0.039\n",
      "Training Accuracy: 0.9595, Testing Accuracy: 0.9682\n",
      "\n"
     ]
    },
    {
     "name": "stdout",
     "output_type": "stream",
     "text": [
      "Epoch 190, Loss 0.0385\n",
      "Training Accuracy: 0.9597, Testing Accuracy: 0.9677\n",
      "\n"
     ]
    },
    {
     "name": "stdout",
     "output_type": "stream",
     "text": [
      "Epoch 200, Loss 0.038\n",
      "Training Accuracy: 0.9600, Testing Accuracy: 0.9688\n",
      "\n"
     ]
    },
    {
     "name": "stdout",
     "output_type": "stream",
     "text": [
      "Epoch 210, Loss 0.0376\n",
      "Training Accuracy: 0.9606, Testing Accuracy: 0.9688\n",
      "\n"
     ]
    },
    {
     "name": "stdout",
     "output_type": "stream",
     "text": [
      "Epoch 220, Loss 0.0372\n",
      "Training Accuracy: 0.9608, Testing Accuracy: 0.9688\n",
      "\n"
     ]
    },
    {
     "name": "stdout",
     "output_type": "stream",
     "text": [
      "Epoch 230, Loss 0.0368\n",
      "Training Accuracy: 0.9612, Testing Accuracy: 0.9688\n",
      "\n"
     ]
    },
    {
     "name": "stdout",
     "output_type": "stream",
     "text": [
      "Epoch 240, Loss 0.0365\n",
      "Training Accuracy: 0.9611, Testing Accuracy: 0.9688\n",
      "\n"
     ]
    },
    {
     "data": {
      "text/plain": [
       "0.03805493718920373"
      ]
     },
     "execution_count": 23,
     "metadata": {},
     "output_type": "execute_result"
    }
   ],
   "source": [
    "lr_learner.train_loop(dl)"
   ]
  },
  {
   "cell_type": "code",
   "execution_count": 24,
   "id": "ca410940",
   "metadata": {
    "execution": {
     "iopub.execute_input": "2021-12-13T20:10:13.515123Z",
     "iopub.status.busy": "2021-12-13T20:10:13.514570Z",
     "iopub.status.idle": "2021-12-13T20:10:13.737822Z",
     "shell.execute_reply": "2021-12-13T20:10:13.738241Z"
    },
    "papermill": {
     "duration": 0.273889,
     "end_time": "2021-12-13T20:10:13.738384",
     "exception": false,
     "start_time": "2021-12-13T20:10:13.464495",
     "status": "completed"
    },
    "tags": []
   },
   "outputs": [
    {
     "data": {
      "text/plain": [
       "<matplotlib.legend.Legend at 0x7f1967068c88>"
      ]
     },
     "execution_count": 24,
     "metadata": {},
     "output_type": "execute_result"
    },
    {
     "data": {
      "image/png": "[encoded data removed]",
      "text/plain": [
       "<Figure size 1080x720 with 1 Axes>"
      ]
     },
     "metadata": {
      "needs_background": "light"
     },
     "output_type": "display_data"
    }
   ],
   "source": [
    "#comparing the results of NN and LR\n",
    "plt.figure(figsize=(15,10))\n",
    "\n",
    "# Neural Network plots\n",
    "plt.plot(acc_nn.accuracies, 'r-', label = \"Training Accuracies - NN\")\n",
    "plt.plot(acc_nn.test_accuracies, 'g-', label = \"Testing Accuracies - NN\")\n",
    "\n",
    "# Logistic Regression plots\n",
    "plt.plot(acc_lr.accuracies, 'k-', label = \"Training Accuracies - LR\")\n",
    "plt.plot(acc_lr.test_accuracies, 'b-', label = \"Testing Accuracies - LR\")\n",
    "plt.legend()"
   ]
  },
  {
   "cell_type": "markdown",
   "id": "80dfb35c",
   "metadata": {
    "papermill": {
     "duration": 0.0424,
     "end_time": "2021-12-13T20:10:13.823364",
     "exception": false,
     "start_time": "2021-12-13T20:10:13.780964",
     "status": "completed"
    },
    "tags": []
   },
   "source": [
    "#### Plotting the outputs of this layer of the NN.\n"
   ]
  },
  {
   "cell_type": "code",
   "execution_count": 25,
   "id": "45eb2ff5",
   "metadata": {
    "execution": {
     "iopub.execute_input": "2021-12-13T20:10:13.921805Z",
     "iopub.status.busy": "2021-12-13T20:10:13.918258Z",
     "iopub.status.idle": "2021-12-13T20:10:13.936031Z",
     "shell.execute_reply": "2021-12-13T20:10:13.936471Z"
    },
    "papermill": {
     "duration": 0.070895,
     "end_time": "2021-12-13T20:10:13.936621",
     "exception": false,
     "start_time": "2021-12-13T20:10:13.865726",
     "status": "completed"
    },
    "tags": []
   },
   "outputs": [],
   "source": [
    "new_model = Model(layers[:-2])\n",
    "testing_plot = new_model(testing_data_x)"
   ]
  },
  {
   "cell_type": "code",
   "execution_count": 26,
   "id": "4c0a5485",
   "metadata": {
    "execution": {
     "iopub.execute_input": "2021-12-13T20:10:14.057907Z",
     "iopub.status.busy": "2021-12-13T20:10:14.038303Z",
     "iopub.status.idle": "2021-12-13T20:10:14.219758Z",
     "shell.execute_reply": "2021-12-13T20:10:14.220154Z"
    },
    "papermill": {
     "duration": 0.240799,
     "end_time": "2021-12-13T20:10:14.220306",
     "exception": false,
     "start_time": "2021-12-13T20:10:13.979507",
     "status": "completed"
    },
    "tags": []
   },
   "outputs": [
    {
     "data": {
      "text/plain": [
       "Text(0.5, 1.0, 'Outputs')"
      ]
     },
     "execution_count": 26,
     "metadata": {},
     "output_type": "execute_result"
    },
    {
     "data": {
      "image/png": "[encoded data removed]",
      "text/plain": [
       "<Figure size 576x504 with 1 Axes>"
      ]
     },
     "metadata": {
      "needs_background": "light"
     },
     "output_type": "display_data"
    }
   ],
   "source": [
    "# Plotting the scatter plot of points and color coding by class\n",
    "plt.figure(figsize=(8,7))\n",
    "plt.scatter(testing_plot[:,0], testing_plot[:,1], alpha = 0.1, c = y_test.ravel());\n",
    "plt.title('Outputs')"
   ]
  },
  {
   "cell_type": "markdown",
   "id": "a74fcf8f",
   "metadata": {
    "papermill": {
     "duration": 0.044257,
     "end_time": "2021-12-13T20:10:14.308976",
     "exception": false,
     "start_time": "2021-12-13T20:10:14.264719",
     "status": "completed"
    },
    "tags": []
   },
   "source": [
    "Probability contours"
   ]
  },
  {
   "cell_type": "code",
   "execution_count": 27,
   "id": "d0afc8e3",
   "metadata": {
    "execution": {
     "iopub.execute_input": "2021-12-13T20:10:14.414272Z",
     "iopub.status.busy": "2021-12-13T20:10:14.405874Z",
     "iopub.status.idle": "2021-12-13T20:10:14.418097Z",
     "shell.execute_reply": "2021-12-13T20:10:14.418509Z"
    },
    "papermill": {
     "duration": 0.065317,
     "end_time": "2021-12-13T20:10:14.418648",
     "exception": false,
     "start_time": "2021-12-13T20:10:14.353331",
     "status": "completed"
    },
    "tags": []
   },
   "outputs": [],
   "source": [
    "model_prob = Model(layers[-2:]) "
   ]
  },
  {
   "cell_type": "code",
   "execution_count": 28,
   "id": "9b96e238",
   "metadata": {
    "execution": {
     "iopub.execute_input": "2021-12-13T20:10:14.557888Z",
     "iopub.status.busy": "2021-12-13T20:10:14.551721Z",
     "iopub.status.idle": "2021-12-13T20:10:14.568038Z",
     "shell.execute_reply": "2021-12-13T20:10:14.567527Z"
    },
    "papermill": {
     "duration": 0.104989,
     "end_time": "2021-12-13T20:10:14.568161",
     "exception": false,
     "start_time": "2021-12-13T20:10:14.463172",
     "status": "completed"
    },
    "tags": []
   },
   "outputs": [],
   "source": [
    "#creating the x and y ranges according to the above generated plot.\n",
    "x_range = np.linspace(-4, 1, 100) \n",
    "y_range = np.linspace(-6, 6, 100) \n",
    "x_grid, y_grid = np.meshgrid(x_range, y_range) # x_grid and y_grig are of size 100 X 100\n",
    "\n",
    "# converting x_grid and y_grid to continuous arrays\n",
    "x_gridflat = np.ravel(x_grid)\n",
    "y_gridflat = np.ravel(y_grid)\n",
    "\n",
    "# The last layer of the current model takes two columns as input. Hence transpose of np.vstack() is required.\n",
    "X = np.vstack((x_gridflat, y_gridflat)).T\n",
    "\n",
    "prob_contour = model_prob(X).reshape(100,100) "
   ]
  },
  {
   "cell_type": "code",
   "execution_count": 29,
   "id": "da72499a",
   "metadata": {
    "execution": {
     "iopub.execute_input": "2021-12-13T20:10:14.663555Z",
     "iopub.status.busy": "2021-12-13T20:10:14.662901Z",
     "iopub.status.idle": "2021-12-13T20:10:14.907845Z",
     "shell.execute_reply": "2021-12-13T20:10:14.908257Z"
    },
    "papermill": {
     "duration": 0.295611,
     "end_time": "2021-12-13T20:10:14.908400",
     "exception": false,
     "start_time": "2021-12-13T20:10:14.612789",
     "status": "completed"
    },
    "tags": []
   },
   "outputs": [
    {
     "data": {
      "image/png": "[encoded data removed]",
      "text/plain": [
       "<Figure size 720x648 with 1 Axes>"
      ]
     },
     "metadata": {
      "needs_background": "light"
     },
     "output_type": "display_data"
    }
   ],
   "source": [
    "plt.figure(figsize=(10,9))\n",
    "plt.scatter(testing_plot[:,0], testing_plot[:,1], alpha = 0.1, c = y_test.ravel())\n",
    "contours = plt.contour(x_grid,y_grid,prob_contour)\n",
    "plt.title('Probability Contours')\n",
    "plt.clabel(contours, inline = True );"
   ]
  },
  {
   "cell_type": "code",
   "execution_count": null,
   "id": "e81b4ac7",
   "metadata": {
    "papermill": {
     "duration": 0.0468,
     "end_time": "2021-12-13T20:10:15.002374",
     "exception": false,
     "start_time": "2021-12-13T20:10:14.955574",
     "status": "completed"
    },
    "tags": []
   },
   "outputs": [],
   "source": []
  }
 ],
 "metadata": {
  "kernelspec": {
   "display_name": "Python 3",
   "language": "python",
   "name": "python3"
  },
  "language_info": {
   "codemirror_mode": {
    "name": "ipython",
    "version": 3
   },
   "file_extension": ".py",
   "mimetype": "text/x-python",
   "name": "python",
   "nbconvert_exporter": "python",
   "pygments_lexer": "ipython3",
   "version": "3.6.15"
  },
  "papermill": {
   "default_parameters": {},
   "duration": 101.405847,
   "end_time": "2021-12-13T20:10:15.457707",
   "environment_variables": {},
   "exception": null,
   "input_path": "2020-08-11-part2.ipynb",
   "output_path": "2020-08-11-part2.ipynb",
   "parameters": {},
   "start_time": "2021-12-13T20:08:34.051860",
   "version": "2.3.3"
  }
 },
 "nbformat": 4,
 "nbformat_minor": 5
}