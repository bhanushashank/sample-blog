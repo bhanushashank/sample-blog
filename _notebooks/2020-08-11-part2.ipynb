{
 "cells": [
  {
   "cell_type": "markdown",
   "id": "98380cd3",
   "metadata": {
    "papermill": {
     "duration": 0.027387,
     "end_time": "2021-11-25T00:22:35.284220",
     "exception": false,
     "start_time": "2021-11-25T00:22:35.256833",
     "status": "completed"
    },
    "tags": []
   },
   "source": [
    "# Distinguish Your Own Digits (DYOD)"
   ]
  },
  {
   "cell_type": "markdown",
   "id": "ef31240d",
   "metadata": {
    "papermill": {
     "duration": 0.025064,
     "end_time": "2021-11-25T00:22:35.333577",
     "exception": false,
     "start_time": "2021-11-25T00:22:35.308513",
     "status": "completed"
    },
    "tags": []
   },
   "source": [
    "You are going to write a classifier that distinguishes between the number 3 and number 8."
   ]
  },
  {
   "cell_type": "code",
   "execution_count": 1,
   "id": "b15c8646",
   "metadata": {
    "execution": {
     "iopub.execute_input": "2021-11-25T00:22:35.391502Z",
     "iopub.status.busy": "2021-11-25T00:22:35.390969Z",
     "iopub.status.idle": "2021-11-25T00:22:35.401383Z",
     "shell.execute_reply": "2021-11-25T00:22:35.401818Z"
    },
    "papermill": {
     "duration": 0.044846,
     "end_time": "2021-11-25T00:22:35.401970",
     "exception": false,
     "start_time": "2021-11-25T00:22:35.357124",
     "status": "completed"
    },
    "tags": []
   },
   "outputs": [],
   "source": [
    "%load_ext autoreload\n",
    "%autoreload 2"
   ]
  },
  {
   "cell_type": "code",
   "execution_count": 2,
   "id": "22ef38dc",
   "metadata": {
    "execution": {
     "iopub.execute_input": "2021-11-25T00:22:35.471301Z",
     "iopub.status.busy": "2021-11-25T00:22:35.462863Z",
     "iopub.status.idle": "2021-11-25T00:22:36.037561Z",
     "shell.execute_reply": "2021-11-25T00:22:36.037031Z"
    },
    "papermill": {
     "duration": 0.612211,
     "end_time": "2021-11-25T00:22:36.037705",
     "exception": false,
     "start_time": "2021-11-25T00:22:35.425494",
     "status": "completed"
    },
    "tags": []
   },
   "outputs": [],
   "source": [
    "%matplotlib inline\n",
    "import numpy as np\n",
    "import matplotlib.pyplot as plt\n",
    "import pandas as pd"
   ]
  },
  {
   "cell_type": "markdown",
   "id": "ba036198",
   "metadata": {
    "papermill": {
     "duration": 0.023701,
     "end_time": "2021-11-25T00:22:36.085542",
     "exception": false,
     "start_time": "2021-11-25T00:22:36.061841",
     "status": "completed"
    },
    "tags": []
   },
   "source": [
    "From the command line run `pip install mnist`. This is a library that will help you bring down the mnist dataset. If you run this from a notebook, you need to put  `!pip install mnist` in a cell by itself."
   ]
  },
  {
   "cell_type": "code",
   "execution_count": 3,
   "id": "bb6ad8a1",
   "metadata": {
    "execution": {
     "iopub.execute_input": "2021-11-25T00:22:36.137298Z",
     "iopub.status.busy": "2021-11-25T00:22:36.136778Z",
     "iopub.status.idle": "2021-11-25T00:22:38.643918Z",
     "shell.execute_reply": "2021-11-25T00:22:38.643415Z"
    },
    "papermill": {
     "duration": 2.534796,
     "end_time": "2021-11-25T00:22:38.644042",
     "exception": false,
     "start_time": "2021-11-25T00:22:36.109246",
     "status": "completed"
    },
    "tags": []
   },
   "outputs": [
    {
     "name": "stdout",
     "output_type": "stream",
     "text": [
      "Collecting mnist\r\n"
     ]
    },
    {
     "name": "stdout",
     "output_type": "stream",
     "text": [
      "  Downloading mnist-0.2.2-py2.py3-none-any.whl (3.5 kB)\r\n",
      "Requirement already satisfied: numpy in /opt/hostedtoolcache/Python/3.6.15/x64/lib/python3.6/site-packages (from mnist) (1.19.5)\r\n"
     ]
    },
    {
     "name": "stdout",
     "output_type": "stream",
     "text": [
      "Installing collected packages: mnist\r\n",
      "Successfully installed mnist-0.2.2\r\n"
     ]
    }
   ],
   "source": [
    "!pip install mnist"
   ]
  },
  {
   "cell_type": "markdown",
   "id": "69df9c9a",
   "metadata": {
    "papermill": {
     "duration": 0.024611,
     "end_time": "2021-11-25T00:22:38.693443",
     "exception": false,
     "start_time": "2021-11-25T00:22:38.668832",
     "status": "completed"
    },
    "tags": []
   },
   "source": [
    "## Preparing the Data"
   ]
  },
  {
   "cell_type": "code",
   "execution_count": 4,
   "id": "7f69d806",
   "metadata": {
    "execution": {
     "iopub.execute_input": "2021-11-25T00:22:38.748057Z",
     "iopub.status.busy": "2021-11-25T00:22:38.747531Z",
     "iopub.status.idle": "2021-11-25T00:22:38.761346Z",
     "shell.execute_reply": "2021-11-25T00:22:38.761755Z"
    },
    "papermill": {
     "duration": 0.044005,
     "end_time": "2021-11-25T00:22:38.761890",
     "exception": false,
     "start_time": "2021-11-25T00:22:38.717885",
     "status": "completed"
    },
    "tags": []
   },
   "outputs": [],
   "source": [
    "import mnist"
   ]
  },
  {
   "cell_type": "code",
   "execution_count": 5,
   "id": "a411e44f",
   "metadata": {
    "execution": {
     "iopub.execute_input": "2021-11-25T00:22:38.814013Z",
     "iopub.status.busy": "2021-11-25T00:22:38.813503Z",
     "iopub.status.idle": "2021-11-25T00:22:39.415827Z",
     "shell.execute_reply": "2021-11-25T00:22:39.415345Z"
    },
    "papermill": {
     "duration": 0.629609,
     "end_time": "2021-11-25T00:22:39.415956",
     "exception": false,
     "start_time": "2021-11-25T00:22:38.786347",
     "status": "completed"
    },
    "tags": []
   },
   "outputs": [],
   "source": [
    "train_images = mnist.train_images()\n",
    "train_labels = mnist.train_labels()"
   ]
  },
  {
   "cell_type": "code",
   "execution_count": 6,
   "id": "dceab3a5",
   "metadata": {
    "execution": {
     "iopub.execute_input": "2021-11-25T00:22:39.472249Z",
     "iopub.status.busy": "2021-11-25T00:22:39.471728Z",
     "iopub.status.idle": "2021-11-25T00:22:39.484622Z",
     "shell.execute_reply": "2021-11-25T00:22:39.485008Z"
    },
    "papermill": {
     "duration": 0.044388,
     "end_time": "2021-11-25T00:22:39.485145",
     "exception": false,
     "start_time": "2021-11-25T00:22:39.440757",
     "status": "completed"
    },
    "tags": []
   },
   "outputs": [
    {
     "data": {
      "text/plain": [
       "((60000, 28, 28), (60000,))"
      ]
     },
     "execution_count": 6,
     "metadata": {},
     "output_type": "execute_result"
    }
   ],
   "source": [
    "train_images.shape, train_labels.shape"
   ]
  },
  {
   "cell_type": "code",
   "execution_count": 7,
   "id": "f50dc2bb",
   "metadata": {
    "execution": {
     "iopub.execute_input": "2021-11-25T00:22:39.537588Z",
     "iopub.status.busy": "2021-11-25T00:22:39.537087Z",
     "iopub.status.idle": "2021-11-25T00:22:39.760465Z",
     "shell.execute_reply": "2021-11-25T00:22:39.759900Z"
    },
    "papermill": {
     "duration": 0.250877,
     "end_time": "2021-11-25T00:22:39.760604",
     "exception": false,
     "start_time": "2021-11-25T00:22:39.509727",
     "status": "completed"
    },
    "tags": []
   },
   "outputs": [],
   "source": [
    "test_images = mnist.test_images()\n",
    "test_labels = mnist.test_labels()"
   ]
  },
  {
   "cell_type": "code",
   "execution_count": 8,
   "id": "fc38cf1b",
   "metadata": {
    "execution": {
     "iopub.execute_input": "2021-11-25T00:22:39.814201Z",
     "iopub.status.busy": "2021-11-25T00:22:39.813694Z",
     "iopub.status.idle": "2021-11-25T00:22:39.826697Z",
     "shell.execute_reply": "2021-11-25T00:22:39.826263Z"
    },
    "papermill": {
     "duration": 0.04088,
     "end_time": "2021-11-25T00:22:39.826816",
     "exception": false,
     "start_time": "2021-11-25T00:22:39.785936",
     "status": "completed"
    },
    "tags": []
   },
   "outputs": [
    {
     "data": {
      "text/plain": [
       "((10000, 28, 28), (10000,))"
      ]
     },
     "execution_count": 8,
     "metadata": {},
     "output_type": "execute_result"
    }
   ],
   "source": [
    "test_images.shape, test_labels.shape"
   ]
  },
  {
   "cell_type": "code",
   "execution_count": 9,
   "id": "f9ed8fe0",
   "metadata": {
    "execution": {
     "iopub.execute_input": "2021-11-25T00:22:39.890217Z",
     "iopub.status.busy": "2021-11-25T00:22:39.889697Z",
     "iopub.status.idle": "2021-11-25T00:22:40.021532Z",
     "shell.execute_reply": "2021-11-25T00:22:40.021997Z"
    },
    "papermill": {
     "duration": 0.170553,
     "end_time": "2021-11-25T00:22:40.022163",
     "exception": false,
     "start_time": "2021-11-25T00:22:39.851610",
     "status": "completed"
    },
    "tags": []
   },
   "outputs": [
    {
     "name": "stdout",
     "output_type": "stream",
     "text": [
      "2\n"
     ]
    },
    {
     "data": {
      "text/plain": [
       "<matplotlib.image.AxesImage at 0x7f07580d1198>"
      ]
     },
     "execution_count": 9,
     "metadata": {},
     "output_type": "execute_result"
    },
    {
     "data": {
      "image/png": "[encoded data removed]",
      "text/plain": [
       "<Figure size 432x288 with 1 Axes>"
      ]
     },
     "metadata": {
      "needs_background": "light"
     },
     "output_type": "display_data"
    }
   ],
   "source": [
    "image_index = 7776 # You may select anything up to 60,000\n",
    "print(train_labels[image_index]) \n",
    "plt.imshow(train_images[image_index], cmap='Greys')"
   ]
  },
  {
   "cell_type": "markdown",
   "id": "a8d2388d",
   "metadata": {
    "papermill": {
     "duration": 0.026021,
     "end_time": "2021-11-25T00:22:40.074973",
     "exception": false,
     "start_time": "2021-11-25T00:22:40.048952",
     "status": "completed"
    },
    "tags": []
   },
   "source": [
    "## Filter data to get 3 and 8 out"
   ]
  },
  {
   "cell_type": "code",
   "execution_count": 10,
   "id": "776f7fc7",
   "metadata": {
    "execution": {
     "iopub.execute_input": "2021-11-25T00:22:40.139590Z",
     "iopub.status.busy": "2021-11-25T00:22:40.130714Z",
     "iopub.status.idle": "2021-11-25T00:22:40.153571Z",
     "shell.execute_reply": "2021-11-25T00:22:40.153979Z"
    },
    "papermill": {
     "duration": 0.053123,
     "end_time": "2021-11-25T00:22:40.154118",
     "exception": false,
     "start_time": "2021-11-25T00:22:40.100995",
     "status": "completed"
    },
    "tags": []
   },
   "outputs": [],
   "source": [
    "train_filter = np.where((train_labels == 3 ) | (train_labels == 8))\n",
    "test_filter = np.where((test_labels == 3) | (test_labels == 8))\n",
    "X_train, y_train = train_images[train_filter], train_labels[train_filter]\n",
    "X_test, y_test = test_images[test_filter], test_labels[test_filter]"
   ]
  },
  {
   "cell_type": "markdown",
   "id": "948f0b7e",
   "metadata": {
    "papermill": {
     "duration": 0.025838,
     "end_time": "2021-11-25T00:22:40.206076",
     "exception": false,
     "start_time": "2021-11-25T00:22:40.180238",
     "status": "completed"
    },
    "tags": []
   },
   "source": [
    "We normalize the pizel values in the 0 to 1 range"
   ]
  },
  {
   "cell_type": "code",
   "execution_count": 11,
   "id": "ee4c2166",
   "metadata": {
    "execution": {
     "iopub.execute_input": "2021-11-25T00:22:40.263902Z",
     "iopub.status.busy": "2021-11-25T00:22:40.260798Z",
     "iopub.status.idle": "2021-11-25T00:22:40.311220Z",
     "shell.execute_reply": "2021-11-25T00:22:40.310109Z"
    },
    "papermill": {
     "duration": 0.079503,
     "end_time": "2021-11-25T00:22:40.311374",
     "exception": false,
     "start_time": "2021-11-25T00:22:40.231871",
     "status": "completed"
    },
    "tags": []
   },
   "outputs": [],
   "source": [
    "X_train = X_train/255.\n",
    "X_test = X_test/255."
   ]
  },
  {
   "cell_type": "markdown",
   "id": "ddcf4fab",
   "metadata": {
    "papermill": {
     "duration": 0.025965,
     "end_time": "2021-11-25T00:22:40.363775",
     "exception": false,
     "start_time": "2021-11-25T00:22:40.337810",
     "status": "completed"
    },
    "tags": []
   },
   "source": [
    "And setup the labels as 1 (when the digit is 3) and 0 (when the digit is 8)"
   ]
  },
  {
   "cell_type": "code",
   "execution_count": 12,
   "id": "7dc908f2",
   "metadata": {
    "execution": {
     "iopub.execute_input": "2021-11-25T00:22:40.420176Z",
     "iopub.status.busy": "2021-11-25T00:22:40.418947Z",
     "iopub.status.idle": "2021-11-25T00:22:40.430833Z",
     "shell.execute_reply": "2021-11-25T00:22:40.430376Z"
    },
    "papermill": {
     "duration": 0.041246,
     "end_time": "2021-11-25T00:22:40.430971",
     "exception": false,
     "start_time": "2021-11-25T00:22:40.389725",
     "status": "completed"
    },
    "tags": []
   },
   "outputs": [],
   "source": [
    "y_train = 1*(y_train==3)\n",
    "y_test = 1*(y_test==3)"
   ]
  },
  {
   "cell_type": "code",
   "execution_count": 13,
   "id": "01e4e969",
   "metadata": {
    "execution": {
     "iopub.execute_input": "2021-11-25T00:22:40.495811Z",
     "iopub.status.busy": "2021-11-25T00:22:40.491573Z",
     "iopub.status.idle": "2021-11-25T00:22:40.502503Z",
     "shell.execute_reply": "2021-11-25T00:22:40.501794Z"
    },
    "papermill": {
     "duration": 0.04564,
     "end_time": "2021-11-25T00:22:40.502623",
     "exception": false,
     "start_time": "2021-11-25T00:22:40.456983",
     "status": "completed"
    },
    "tags": []
   },
   "outputs": [
    {
     "data": {
      "text/plain": [
       "((11982, 28, 28), (1984, 28, 28))"
      ]
     },
     "execution_count": 13,
     "metadata": {},
     "output_type": "execute_result"
    }
   ],
   "source": [
    "X_train.shape, X_test.shape"
   ]
  },
  {
   "cell_type": "markdown",
   "id": "5ccf3f85",
   "metadata": {
    "papermill": {
     "duration": 0.026049,
     "end_time": "2021-11-25T00:22:40.555011",
     "exception": false,
     "start_time": "2021-11-25T00:22:40.528962",
     "status": "completed"
    },
    "tags": []
   },
   "source": [
    "We reshape the data to flatten the image pixels into a set of features or co-variates:"
   ]
  },
  {
   "cell_type": "code",
   "execution_count": 14,
   "id": "5286a4a3",
   "metadata": {
    "execution": {
     "iopub.execute_input": "2021-11-25T00:22:40.621190Z",
     "iopub.status.busy": "2021-11-25T00:22:40.615651Z",
     "iopub.status.idle": "2021-11-25T00:22:40.628024Z",
     "shell.execute_reply": "2021-11-25T00:22:40.628409Z"
    },
    "papermill": {
     "duration": 0.047221,
     "end_time": "2021-11-25T00:22:40.628541",
     "exception": false,
     "start_time": "2021-11-25T00:22:40.581320",
     "status": "completed"
    },
    "tags": []
   },
   "outputs": [
    {
     "data": {
      "text/plain": [
       "((11982, 784), (1984, 784))"
      ]
     },
     "execution_count": 14,
     "metadata": {},
     "output_type": "execute_result"
    }
   ],
   "source": [
    "X_train = X_train.reshape(X_train.shape[0], -1)\n",
    "X_test = X_test.reshape(X_test.shape[0], -1)\n",
    "X_train.shape, X_test.shape"
   ]
  },
  {
   "cell_type": "code",
   "execution_count": 15,
   "id": "73c5f88a",
   "metadata": {
    "execution": {
     "iopub.execute_input": "2021-11-25T00:22:40.693741Z",
     "iopub.status.busy": "2021-11-25T00:22:40.687648Z",
     "iopub.status.idle": "2021-11-25T00:22:40.703832Z",
     "shell.execute_reply": "2021-11-25T00:22:40.704217Z"
    },
    "papermill": {
     "duration": 0.049435,
     "end_time": "2021-11-25T00:22:40.704348",
     "exception": false,
     "start_time": "2021-11-25T00:22:40.654913",
     "status": "completed"
    },
    "tags": []
   },
   "outputs": [],
   "source": [
    "#Impoting functions from 'Kudzu'\n",
    "from kudzu.model import Model\n",
    "from kudzu.train import Learner\n",
    "from kudzu.optim import GD\n",
    "from kudzu.data import Data, Sampler,Dataloader\n",
    "\n",
    "from kudzu.callbacks import AccCallback\n",
    "from kudzu.callbacks import ClfCallback\n",
    "\n",
    "from kudzu.loss import MSE\n",
    "\n",
    "from kudzu.layer import Sigmoid,Relu\n",
    "from kudzu.layer import Affine"
   ]
  },
  {
   "cell_type": "markdown",
   "id": "bc01172a",
   "metadata": {
    "papermill": {
     "duration": 0.026195,
     "end_time": "2021-11-25T00:22:40.757088",
     "exception": false,
     "start_time": "2021-11-25T00:22:40.730893",
     "status": "completed"
    },
    "tags": []
   },
   "source": [
    "### Let us create a `Config` class, to store important parameters. \n",
    "This class essentially plays the role of a dictionary."
   ]
  },
  {
   "cell_type": "code",
   "execution_count": 16,
   "id": "978281aa",
   "metadata": {
    "execution": {
     "iopub.execute_input": "2021-11-25T00:22:40.814708Z",
     "iopub.status.busy": "2021-11-25T00:22:40.814182Z",
     "iopub.status.idle": "2021-11-25T00:22:40.827370Z",
     "shell.execute_reply": "2021-11-25T00:22:40.826921Z"
    },
    "papermill": {
     "duration": 0.044106,
     "end_time": "2021-11-25T00:22:40.827486",
     "exception": false,
     "start_time": "2021-11-25T00:22:40.783380",
     "status": "completed"
    },
    "tags": []
   },
   "outputs": [],
   "source": [
    "class Config:\n",
    "    pass\n",
    "config = Config()\n",
    "config.lr = 0.001\n",
    "config.num_epochs = 250\n",
    "config.bs = 50"
   ]
  },
  {
   "cell_type": "markdown",
   "id": "1385fa59",
   "metadata": {
    "papermill": {
     "duration": 0.026278,
     "end_time": "2021-11-25T00:22:40.880491",
     "exception": false,
     "start_time": "2021-11-25T00:22:40.854213",
     "status": "completed"
    },
    "tags": []
   },
   "source": [
    "### Running Models with the Training data\n",
    "Details about the network layers:\n",
    "- A first affine layer has 784 inputs and does 100 affine transforms. These are followed by a Relu\n",
    "- A second affine layer has 100 inputs from the 100 activations of the past layer, and does 100 affine transforms. These are followed by a Relu\n",
    "- A third affine layer has 100 activations and does 2 affine transformations to create an embedding for visualization. There is no non-linearity here.\n",
    "- A final \"logistic regression\" which has an affine transform from 2 inputs to 1 output, which is squeezed through a sigmoid.\n"
   ]
  },
  {
   "cell_type": "code",
   "execution_count": 17,
   "id": "2b9c66db",
   "metadata": {
    "execution": {
     "iopub.execute_input": "2021-11-25T00:22:40.947609Z",
     "iopub.status.busy": "2021-11-25T00:22:40.942347Z",
     "iopub.status.idle": "2021-11-25T00:22:40.951661Z",
     "shell.execute_reply": "2021-11-25T00:22:40.951197Z"
    },
    "papermill": {
     "duration": 0.044806,
     "end_time": "2021-11-25T00:22:40.951773",
     "exception": false,
     "start_time": "2021-11-25T00:22:40.906967",
     "status": "completed"
    },
    "tags": []
   },
   "outputs": [],
   "source": [
    "data = Data(X_train, y_train.reshape(-1,1))\n",
    "sampler = Sampler(data, config.bs, shuffle=True)\n",
    "\n",
    "dl = Dataloader(data, sampler)\n",
    "\n",
    "opt = GD(config.lr)\n",
    "loss = MSE()"
   ]
  },
  {
   "cell_type": "code",
   "execution_count": 18,
   "id": "b275e4c2",
   "metadata": {
    "execution": {
     "iopub.execute_input": "2021-11-25T00:22:41.019603Z",
     "iopub.status.busy": "2021-11-25T00:22:41.015543Z",
     "iopub.status.idle": "2021-11-25T00:22:41.024004Z",
     "shell.execute_reply": "2021-11-25T00:22:41.024422Z"
    },
    "papermill": {
     "duration": 0.046434,
     "end_time": "2021-11-25T00:22:41.024554",
     "exception": false,
     "start_time": "2021-11-25T00:22:40.978120",
     "status": "completed"
    },
    "tags": []
   },
   "outputs": [],
   "source": [
    "training_data_x = X_train\n",
    "testing_data_x = X_test\n",
    "training_data_y = y_train.reshape(-1,1)\n",
    "testing_data_y = y_test.reshape(-1,1)"
   ]
  },
  {
   "cell_type": "code",
   "execution_count": 19,
   "id": "76951160",
   "metadata": {
    "execution": {
     "iopub.execute_input": "2021-11-25T00:22:41.085390Z",
     "iopub.status.busy": "2021-11-25T00:22:41.084861Z",
     "iopub.status.idle": "2021-11-25T00:22:41.100329Z",
     "shell.execute_reply": "2021-11-25T00:22:41.099891Z"
    },
    "papermill": {
     "duration": 0.049532,
     "end_time": "2021-11-25T00:22:41.100441",
     "exception": false,
     "start_time": "2021-11-25T00:22:41.050909",
     "status": "completed"
    },
    "tags": []
   },
   "outputs": [
    {
     "name": "stdout",
     "output_type": "stream",
     "text": [
      "xavier\n",
      "xavier\n",
      "xavier\n",
      "xavier\n",
      "xavier\n"
     ]
    }
   ],
   "source": [
    "layers = [Affine(\"first\", 784, 100), Relu(\"first\"), Affine(\"second\", 100, 100), Relu(\"second\"), Affine(\"third\", 100, 2), Affine(\"last\", 2, 1), Sigmoid(\"last\")]\n",
    "model_nn = Model(layers)\n",
    "model_lr = Model([Affine(\"logits\", 784, 1), Sigmoid(\"sigmoid\")])"
   ]
  },
  {
   "cell_type": "code",
   "execution_count": 20,
   "id": "6eede77a",
   "metadata": {
    "execution": {
     "iopub.execute_input": "2021-11-25T00:22:41.158015Z",
     "iopub.status.busy": "2021-11-25T00:22:41.157506Z",
     "iopub.status.idle": "2021-11-25T00:22:41.170159Z",
     "shell.execute_reply": "2021-11-25T00:22:41.169727Z"
    },
    "papermill": {
     "duration": 0.042887,
     "end_time": "2021-11-25T00:22:41.170271",
     "exception": false,
     "start_time": "2021-11-25T00:22:41.127384",
     "status": "completed"
    },
    "tags": []
   },
   "outputs": [],
   "source": [
    "nn_learner = Learner(loss, model_nn, opt, config.num_epochs)\n",
    "acc_nn = ClfCallback(nn_learner, config.bs, training_data_x , testing_data_x, training_data_y, testing_data_y)\n",
    "nn_learner.set_callbacks([acc_nn])"
   ]
  },
  {
   "cell_type": "code",
   "execution_count": 21,
   "id": "877b6cc7",
   "metadata": {
    "execution": {
     "iopub.execute_input": "2021-11-25T00:22:41.227828Z",
     "iopub.status.busy": "2021-11-25T00:22:41.227320Z",
     "iopub.status.idle": "2021-11-25T00:22:41.240089Z",
     "shell.execute_reply": "2021-11-25T00:22:41.240473Z"
    },
    "papermill": {
     "duration": 0.043637,
     "end_time": "2021-11-25T00:22:41.240607",
     "exception": false,
     "start_time": "2021-11-25T00:22:41.196970",
     "status": "completed"
    },
    "tags": []
   },
   "outputs": [],
   "source": [
    "lr_learner = Learner(loss, model_lr, opt, config.num_epochs)\n",
    "acc_lr = ClfCallback(lr_learner, config.bs, training_data_x , testing_data_x, training_data_y, testing_data_y)\n",
    "lr_learner.set_callbacks([acc_lr])"
   ]
  },
  {
   "cell_type": "code",
   "execution_count": 22,
   "id": "d9b133c3",
   "metadata": {
    "execution": {
     "iopub.execute_input": "2021-11-25T00:22:41.299918Z",
     "iopub.status.busy": "2021-11-25T00:22:41.298016Z",
     "iopub.status.idle": "2021-11-25T00:23:59.951316Z",
     "shell.execute_reply": "2021-11-25T00:23:59.952058Z"
    },
    "papermill": {
     "duration": 78.684809,
     "end_time": "2021-11-25T00:23:59.952205",
     "exception": false,
     "start_time": "2021-11-25T00:22:41.267396",
     "status": "completed"
    },
    "tags": []
   },
   "outputs": [
    {
     "name": "stdout",
     "output_type": "stream",
     "text": [
      "Epoch 0, Loss 0.2679\n",
      "Training Accuracy: 0.4831, Testing Accuracy: 0.4642\n",
      "\n"
     ]
    },
    {
     "name": "stdout",
     "output_type": "stream",
     "text": [
      "Epoch 10, Loss 0.1469\n",
      "Training Accuracy: 0.8885, Testing Accuracy: 0.8982\n",
      "\n"
     ]
    },
    {
     "name": "stdout",
     "output_type": "stream",
     "text": [
      "Epoch 20, Loss 0.0721\n",
      "Training Accuracy: 0.9301, Testing Accuracy: 0.9375\n",
      "\n"
     ]
    },
    {
     "name": "stdout",
     "output_type": "stream",
     "text": [
      "Epoch 30, Loss 0.0505\n",
      "Training Accuracy: 0.9484, Testing Accuracy: 0.9572\n",
      "\n"
     ]
    },
    {
     "name": "stdout",
     "output_type": "stream",
     "text": [
      "Epoch 40, Loss 0.0416\n",
      "Training Accuracy: 0.9559, Testing Accuracy: 0.9632\n",
      "\n"
     ]
    },
    {
     "name": "stdout",
     "output_type": "stream",
     "text": [
      "Epoch 50, Loss 0.0368\n",
      "Training Accuracy: 0.9594, Testing Accuracy: 0.9652\n",
      "\n"
     ]
    },
    {
     "name": "stdout",
     "output_type": "stream",
     "text": [
      "Epoch 60, Loss 0.0337\n",
      "Training Accuracy: 0.9616, Testing Accuracy: 0.9677\n",
      "\n"
     ]
    },
    {
     "name": "stdout",
     "output_type": "stream",
     "text": [
      "Epoch 70, Loss 0.0316\n",
      "Training Accuracy: 0.9639, Testing Accuracy: 0.9682\n",
      "\n"
     ]
    },
    {
     "name": "stdout",
     "output_type": "stream",
     "text": [
      "Epoch 80, Loss 0.03\n",
      "Training Accuracy: 0.9664, Testing Accuracy: 0.9677\n",
      "\n"
     ]
    },
    {
     "name": "stdout",
     "output_type": "stream",
     "text": [
      "Epoch 90, Loss 0.0287\n",
      "Training Accuracy: 0.9677, Testing Accuracy: 0.9677\n",
      "\n"
     ]
    },
    {
     "name": "stdout",
     "output_type": "stream",
     "text": [
      "Epoch 100, Loss 0.0277\n",
      "Training Accuracy: 0.9689, Testing Accuracy: 0.9698\n",
      "\n"
     ]
    },
    {
     "name": "stdout",
     "output_type": "stream",
     "text": [
      "Epoch 110, Loss 0.0268\n",
      "Training Accuracy: 0.9696, Testing Accuracy: 0.9698\n",
      "\n"
     ]
    },
    {
     "name": "stdout",
     "output_type": "stream",
     "text": [
      "Epoch 120, Loss 0.0261\n",
      "Training Accuracy: 0.9701, Testing Accuracy: 0.9693\n",
      "\n"
     ]
    },
    {
     "name": "stdout",
     "output_type": "stream",
     "text": [
      "Epoch 130, Loss 0.0254\n",
      "Training Accuracy: 0.9710, Testing Accuracy: 0.9698\n",
      "\n"
     ]
    },
    {
     "name": "stdout",
     "output_type": "stream",
     "text": [
      "Epoch 140, Loss 0.0248\n",
      "Training Accuracy: 0.9712, Testing Accuracy: 0.9693\n",
      "\n"
     ]
    },
    {
     "name": "stdout",
     "output_type": "stream",
     "text": [
      "Epoch 150, Loss 0.0242\n",
      "Training Accuracy: 0.9715, Testing Accuracy: 0.9688\n",
      "\n"
     ]
    },
    {
     "name": "stdout",
     "output_type": "stream",
     "text": [
      "Epoch 160, Loss 0.0237\n",
      "Training Accuracy: 0.9718, Testing Accuracy: 0.9688\n",
      "\n"
     ]
    },
    {
     "name": "stdout",
     "output_type": "stream",
     "text": [
      "Epoch 170, Loss 0.0232\n",
      "Training Accuracy: 0.9725, Testing Accuracy: 0.9693\n",
      "\n"
     ]
    },
    {
     "name": "stdout",
     "output_type": "stream",
     "text": [
      "Epoch 180, Loss 0.0228\n",
      "Training Accuracy: 0.9729, Testing Accuracy: 0.9703\n",
      "\n"
     ]
    },
    {
     "name": "stdout",
     "output_type": "stream",
     "text": [
      "Epoch 190, Loss 0.0223\n",
      "Training Accuracy: 0.9735, Testing Accuracy: 0.9708\n",
      "\n"
     ]
    },
    {
     "name": "stdout",
     "output_type": "stream",
     "text": [
      "Epoch 200, Loss 0.0219\n",
      "Training Accuracy: 0.9744, Testing Accuracy: 0.9713\n",
      "\n"
     ]
    },
    {
     "name": "stdout",
     "output_type": "stream",
     "text": [
      "Epoch 210, Loss 0.0215\n",
      "Training Accuracy: 0.9746, Testing Accuracy: 0.9713\n",
      "\n"
     ]
    },
    {
     "name": "stdout",
     "output_type": "stream",
     "text": [
      "Epoch 220, Loss 0.0212\n",
      "Training Accuracy: 0.9750, Testing Accuracy: 0.9723\n",
      "\n"
     ]
    },
    {
     "name": "stdout",
     "output_type": "stream",
     "text": [
      "Epoch 230, Loss 0.0208\n",
      "Training Accuracy: 0.9755, Testing Accuracy: 0.9728\n",
      "\n"
     ]
    },
    {
     "name": "stdout",
     "output_type": "stream",
     "text": [
      "Epoch 240, Loss 0.0205\n",
      "Training Accuracy: 0.9760, Testing Accuracy: 0.9723\n",
      "\n"
     ]
    },
    {
     "data": {
      "text/plain": [
       "0.03579976411944588"
      ]
     },
     "execution_count": 22,
     "metadata": {},
     "output_type": "execute_result"
    }
   ],
   "source": [
    "nn_learner.train_loop(dl)"
   ]
  },
  {
   "cell_type": "code",
   "execution_count": 23,
   "id": "e0163366",
   "metadata": {
    "execution": {
     "iopub.execute_input": "2021-11-25T00:24:00.028661Z",
     "iopub.status.busy": "2021-11-25T00:24:00.028144Z",
     "iopub.status.idle": "2021-11-25T00:24:14.108088Z",
     "shell.execute_reply": "2021-11-25T00:24:14.108828Z"
    },
    "papermill": {
     "duration": 14.122814,
     "end_time": "2021-11-25T00:24:14.108980",
     "exception": false,
     "start_time": "2021-11-25T00:23:59.986166",
     "status": "completed"
    },
    "tags": []
   },
   "outputs": [
    {
     "name": "stdout",
     "output_type": "stream",
     "text": [
      "Epoch 0, Loss 0.2591\n",
      "Training Accuracy: 0.6108, Testing Accuracy: 0.6048\n",
      "\n"
     ]
    },
    {
     "name": "stdout",
     "output_type": "stream",
     "text": [
      "Epoch 10, Loss 0.1093\n",
      "Training Accuracy: 0.8923, Testing Accuracy: 0.9088\n",
      "\n"
     ]
    },
    {
     "name": "stdout",
     "output_type": "stream",
     "text": [
      "Epoch 20, Loss 0.0827\n",
      "Training Accuracy: 0.9186, Testing Accuracy: 0.9315\n",
      "\n"
     ]
    },
    {
     "name": "stdout",
     "output_type": "stream",
     "text": [
      "Epoch 30, Loss 0.0705\n",
      "Training Accuracy: 0.9310, Testing Accuracy: 0.9435\n",
      "\n"
     ]
    },
    {
     "name": "stdout",
     "output_type": "stream",
     "text": [
      "Epoch 40, Loss 0.0633\n",
      "Training Accuracy: 0.9380, Testing Accuracy: 0.9471\n",
      "\n"
     ]
    },
    {
     "name": "stdout",
     "output_type": "stream",
     "text": [
      "Epoch 50, Loss 0.0584\n",
      "Training Accuracy: 0.9418, Testing Accuracy: 0.9511\n",
      "\n"
     ]
    },
    {
     "name": "stdout",
     "output_type": "stream",
     "text": [
      "Epoch 60, Loss 0.0548\n",
      "Training Accuracy: 0.9442, Testing Accuracy: 0.9551\n",
      "\n"
     ]
    },
    {
     "name": "stdout",
     "output_type": "stream",
     "text": [
      "Epoch 70, Loss 0.0521\n",
      "Training Accuracy: 0.9470, Testing Accuracy: 0.9556\n",
      "\n"
     ]
    },
    {
     "name": "stdout",
     "output_type": "stream",
     "text": [
      "Epoch 80, Loss 0.05\n",
      "Training Accuracy: 0.9483, Testing Accuracy: 0.9582\n",
      "\n"
     ]
    },
    {
     "name": "stdout",
     "output_type": "stream",
     "text": [
      "Epoch 90, Loss 0.0482\n",
      "Training Accuracy: 0.9500, Testing Accuracy: 0.9602\n",
      "\n"
     ]
    },
    {
     "name": "stdout",
     "output_type": "stream",
     "text": [
      "Epoch 100, Loss 0.0467\n",
      "Training Accuracy: 0.9512, Testing Accuracy: 0.9617\n",
      "\n"
     ]
    },
    {
     "name": "stdout",
     "output_type": "stream",
     "text": [
      "Epoch 110, Loss 0.0454\n",
      "Training Accuracy: 0.9516, Testing Accuracy: 0.9617\n",
      "\n"
     ]
    },
    {
     "name": "stdout",
     "output_type": "stream",
     "text": [
      "Epoch 120, Loss 0.0443\n",
      "Training Accuracy: 0.9523, Testing Accuracy: 0.9622\n",
      "\n"
     ]
    },
    {
     "name": "stdout",
     "output_type": "stream",
     "text": [
      "Epoch 130, Loss 0.0434\n",
      "Training Accuracy: 0.9533, Testing Accuracy: 0.9642\n",
      "\n"
     ]
    },
    {
     "name": "stdout",
     "output_type": "stream",
     "text": [
      "Epoch 140, Loss 0.0425\n",
      "Training Accuracy: 0.9539, Testing Accuracy: 0.9652\n",
      "\n"
     ]
    },
    {
     "name": "stdout",
     "output_type": "stream",
     "text": [
      "Epoch 150, Loss 0.0417\n",
      "Training Accuracy: 0.9543, Testing Accuracy: 0.9652\n",
      "\n"
     ]
    },
    {
     "name": "stdout",
     "output_type": "stream",
     "text": [
      "Epoch 160, Loss 0.041\n",
      "Training Accuracy: 0.9550, Testing Accuracy: 0.9652\n",
      "\n"
     ]
    },
    {
     "name": "stdout",
     "output_type": "stream",
     "text": [
      "Epoch 170, Loss 0.0404\n",
      "Training Accuracy: 0.9559, Testing Accuracy: 0.9652\n",
      "\n"
     ]
    },
    {
     "name": "stdout",
     "output_type": "stream",
     "text": [
      "Epoch 180, Loss 0.0398\n",
      "Training Accuracy: 0.9569, Testing Accuracy: 0.9657\n",
      "\n"
     ]
    },
    {
     "name": "stdout",
     "output_type": "stream",
     "text": [
      "Epoch 190, Loss 0.0393\n",
      "Training Accuracy: 0.9574, Testing Accuracy: 0.9657\n",
      "\n"
     ]
    },
    {
     "name": "stdout",
     "output_type": "stream",
     "text": [
      "Epoch 200, Loss 0.0388\n",
      "Training Accuracy: 0.9579, Testing Accuracy: 0.9657\n",
      "\n"
     ]
    },
    {
     "name": "stdout",
     "output_type": "stream",
     "text": [
      "Epoch 210, Loss 0.0384\n",
      "Training Accuracy: 0.9582, Testing Accuracy: 0.9662\n",
      "\n"
     ]
    },
    {
     "name": "stdout",
     "output_type": "stream",
     "text": [
      "Epoch 220, Loss 0.0379\n",
      "Training Accuracy: 0.9588, Testing Accuracy: 0.9662\n",
      "\n"
     ]
    },
    {
     "name": "stdout",
     "output_type": "stream",
     "text": [
      "Epoch 230, Loss 0.0375\n",
      "Training Accuracy: 0.9594, Testing Accuracy: 0.9662\n",
      "\n"
     ]
    },
    {
     "name": "stdout",
     "output_type": "stream",
     "text": [
      "Epoch 240, Loss 0.0372\n",
      "Training Accuracy: 0.9598, Testing Accuracy: 0.9662\n",
      "\n"
     ]
    },
    {
     "data": {
      "text/plain": [
       "0.036191928482393707"
      ]
     },
     "execution_count": 23,
     "metadata": {},
     "output_type": "execute_result"
    }
   ],
   "source": [
    "lr_learner.train_loop(dl)"
   ]
  },
  {
   "cell_type": "code",
   "execution_count": 24,
   "id": "ca410940",
   "metadata": {
    "execution": {
     "iopub.execute_input": "2021-11-25T00:24:14.204392Z",
     "iopub.status.busy": "2021-11-25T00:24:14.203830Z",
     "iopub.status.idle": "2021-11-25T00:24:14.424938Z",
     "shell.execute_reply": "2021-11-25T00:24:14.425335Z"
    },
    "papermill": {
     "duration": 0.27507,
     "end_time": "2021-11-25T00:24:14.425485",
     "exception": false,
     "start_time": "2021-11-25T00:24:14.150415",
     "status": "completed"
    },
    "tags": []
   },
   "outputs": [
    {
     "data": {
      "text/plain": [
       "<matplotlib.legend.Legend at 0x7f0757c30940>"
      ]
     },
     "execution_count": 24,
     "metadata": {},
     "output_type": "execute_result"
    },
    {
     "data": {
      "image/png": "[encoded data removed]",
      "text/plain": [
       "<Figure size 1080x720 with 1 Axes>"
      ]
     },
     "metadata": {
      "needs_background": "light"
     },
     "output_type": "display_data"
    }
   ],
   "source": [
    "#comparing the results of NN and LR\n",
    "plt.figure(figsize=(15,10))\n",
    "\n",
    "# Neural Network plots\n",
    "plt.plot(acc_nn.accuracies, 'r-', label = \"Training Accuracies - NN\")\n",
    "plt.plot(acc_nn.test_accuracies, 'g-', label = \"Testing Accuracies - NN\")\n",
    "\n",
    "# Logistic Regression plots\n",
    "plt.plot(acc_lr.accuracies, 'k-', label = \"Training Accuracies - LR\")\n",
    "plt.plot(acc_lr.test_accuracies, 'b-', label = \"Testing Accuracies - LR\")\n",
    "plt.legend()"
   ]
  },
  {
   "cell_type": "markdown",
   "id": "80dfb35c",
   "metadata": {
    "papermill": {
     "duration": 0.041611,
     "end_time": "2021-11-25T00:24:14.508895",
     "exception": false,
     "start_time": "2021-11-25T00:24:14.467284",
     "status": "completed"
    },
    "tags": []
   },
   "source": [
    "#### Plotting the outputs of this layer of the NN.\n"
   ]
  },
  {
   "cell_type": "code",
   "execution_count": 25,
   "id": "45eb2ff5",
   "metadata": {
    "execution": {
     "iopub.execute_input": "2021-11-25T00:24:14.599617Z",
     "iopub.status.busy": "2021-11-25T00:24:14.595508Z",
     "iopub.status.idle": "2021-11-25T00:24:14.616610Z",
     "shell.execute_reply": "2021-11-25T00:24:14.617028Z"
    },
    "papermill": {
     "duration": 0.066687,
     "end_time": "2021-11-25T00:24:14.617186",
     "exception": false,
     "start_time": "2021-11-25T00:24:14.550499",
     "status": "completed"
    },
    "tags": []
   },
   "outputs": [],
   "source": [
    "new_model = Model(layers[:-2])\n",
    "testing_plot = new_model(testing_data_x)"
   ]
  },
  {
   "cell_type": "code",
   "execution_count": 26,
   "id": "4c0a5485",
   "metadata": {
    "execution": {
     "iopub.execute_input": "2021-11-25T00:24:14.709982Z",
     "iopub.status.busy": "2021-11-25T00:24:14.708739Z",
     "iopub.status.idle": "2021-11-25T00:24:14.921891Z",
     "shell.execute_reply": "2021-11-25T00:24:14.921457Z"
    },
    "papermill": {
     "duration": 0.261703,
     "end_time": "2021-11-25T00:24:14.922018",
     "exception": false,
     "start_time": "2021-11-25T00:24:14.660315",
     "status": "completed"
    },
    "tags": []
   },
   "outputs": [
    {
     "data": {
      "text/plain": [
       "Text(0.5, 1.0, 'Outputs')"
      ]
     },
     "execution_count": 26,
     "metadata": {},
     "output_type": "execute_result"
    },
    {
     "data": {
      "image/png": "[encoded data removed]",
      "text/plain": [
       "<Figure size 576x504 with 1 Axes>"
      ]
     },
     "metadata": {
      "needs_background": "light"
     },
     "output_type": "display_data"
    }
   ],
   "source": [
    "# Plotting the scatter plot of points and color coding by class\n",
    "plt.figure(figsize=(8,7))\n",
    "plt.scatter(testing_plot[:,0], testing_plot[:,1], alpha = 0.1, c = y_test.ravel());\n",
    "plt.title('Outputs')"
   ]
  },
  {
   "cell_type": "markdown",
   "id": "a74fcf8f",
   "metadata": {
    "papermill": {
     "duration": 0.044681,
     "end_time": "2021-11-25T00:24:15.011323",
     "exception": false,
     "start_time": "2021-11-25T00:24:14.966642",
     "status": "completed"
    },
    "tags": []
   },
   "source": [
    "Probability contours"
   ]
  },
  {
   "cell_type": "code",
   "execution_count": 27,
   "id": "d0afc8e3",
   "metadata": {
    "execution": {
     "iopub.execute_input": "2021-11-25T00:24:15.108283Z",
     "iopub.status.busy": "2021-11-25T00:24:15.107686Z",
     "iopub.status.idle": "2021-11-25T00:24:15.116630Z",
     "shell.execute_reply": "2021-11-25T00:24:15.116187Z"
    },
    "papermill": {
     "duration": 0.060764,
     "end_time": "2021-11-25T00:24:15.116746",
     "exception": false,
     "start_time": "2021-11-25T00:24:15.055982",
     "status": "completed"
    },
    "tags": []
   },
   "outputs": [],
   "source": [
    "model_prob = Model(layers[-2:]) "
   ]
  },
  {
   "cell_type": "code",
   "execution_count": 28,
   "id": "9b96e238",
   "metadata": {
    "execution": {
     "iopub.execute_input": "2021-11-25T00:24:15.211284Z",
     "iopub.status.busy": "2021-11-25T00:24:15.210691Z",
     "iopub.status.idle": "2021-11-25T00:24:15.223741Z",
     "shell.execute_reply": "2021-11-25T00:24:15.224132Z"
    },
    "papermill": {
     "duration": 0.062975,
     "end_time": "2021-11-25T00:24:15.224270",
     "exception": false,
     "start_time": "2021-11-25T00:24:15.161295",
     "status": "completed"
    },
    "tags": []
   },
   "outputs": [],
   "source": [
    "#creating the x and y ranges according to the above generated plot.\n",
    "x_range = np.linspace(-4, 1, 100) \n",
    "y_range = np.linspace(-6, 6, 100) \n",
    "x_grid, y_grid = np.meshgrid(x_range, y_range) # x_grid and y_grig are of size 100 X 100\n",
    "\n",
    "# converting x_grid and y_grid to continuous arrays\n",
    "x_gridflat = np.ravel(x_grid)\n",
    "y_gridflat = np.ravel(y_grid)\n",
    "\n",
    "# The last layer of the current model takes two columns as input. Hence transpose of np.vstack() is required.\n",
    "X = np.vstack((x_gridflat, y_gridflat)).T\n",
    "\n",
    "prob_contour = model_prob(X).reshape(100,100) "
   ]
  },
  {
   "cell_type": "code",
   "execution_count": 29,
   "id": "da72499a",
   "metadata": {
    "execution": {
     "iopub.execute_input": "2021-11-25T00:24:15.347986Z",
     "iopub.status.busy": "2021-11-25T00:24:15.347386Z",
     "iopub.status.idle": "2021-11-25T00:24:15.597719Z",
     "shell.execute_reply": "2021-11-25T00:24:15.597258Z"
    },
    "papermill": {
     "duration": 0.328966,
     "end_time": "2021-11-25T00:24:15.597843",
     "exception": false,
     "start_time": "2021-11-25T00:24:15.268877",
     "status": "completed"
    },
    "tags": []
   },
   "outputs": [
    {
     "data": {
      "image/png": "[encoded data removed]",
      "text/plain": [
       "<Figure size 720x648 with 1 Axes>"
      ]
     },
     "metadata": {
      "needs_background": "light"
     },
     "output_type": "display_data"
    }
   ],
   "source": [
    "plt.figure(figsize=(10,9))\n",
    "plt.scatter(testing_plot[:,0], testing_plot[:,1], alpha = 0.1, c = y_test.ravel())\n",
    "contours = plt.contour(x_grid,y_grid,prob_contour)\n",
    "plt.title('Probability Contours')\n",
    "plt.clabel(contours, inline = True );"
   ]
  },
  {
   "cell_type": "code",
   "execution_count": null,
   "id": "e81b4ac7",
   "metadata": {
    "papermill": {
     "duration": 0.047122,
     "end_time": "2021-11-25T00:24:15.693079",
     "exception": false,
     "start_time": "2021-11-25T00:24:15.645957",
     "status": "completed"
    },
    "tags": []
   },
   "outputs": [],
   "source": []
  }
 ],
 "metadata": {
  "kernelspec": {
   "display_name": "Python 3",
   "language": "python",
   "name": "python3"
  },
  "language_info": {
   "codemirror_mode": {
    "name": "ipython",
    "version": 3
   },
   "file_extension": ".py",
   "mimetype": "text/x-python",
   "name": "python",
   "nbconvert_exporter": "python",
   "pygments_lexer": "ipython3",
   "version": "3.6.15"
  },
  "papermill": {
   "default_parameters": {},
   "duration": 101.832709,
   "end_time": "2021-11-25T00:24:16.149467",
   "environment_variables": {},
   "exception": null,
   "input_path": "2020-08-11-part2.ipynb",
   "output_path": "2020-08-11-part2.ipynb",
   "parameters": {},
   "start_time": "2021-11-25T00:22:34.316758",
   "version": "2.3.3"
  }
 },
 "nbformat": 4,
 "nbformat_minor": 5
}