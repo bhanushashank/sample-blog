{
 "cells": [
  {
   "cell_type": "markdown",
   "id": "98380cd3",
   "metadata": {
    "papermill": {
     "duration": 0.028353,
     "end_time": "2022-04-18T20:10:55.680202",
     "exception": false,
     "start_time": "2022-04-18T20:10:55.651849",
     "status": "completed"
    },
    "tags": []
   },
   "source": [
    "# Distinguish Your Own Digits (DYOD)"
   ]
  },
  {
   "cell_type": "markdown",
   "id": "ef31240d",
   "metadata": {
    "papermill": {
     "duration": 0.02514,
     "end_time": "2022-04-18T20:10:55.729532",
     "exception": false,
     "start_time": "2022-04-18T20:10:55.704392",
     "status": "completed"
    },
    "tags": []
   },
   "source": [
    "You are going to write a classifier that distinguishes between the number 3 and number 8."
   ]
  },
  {
   "cell_type": "code",
   "execution_count": 1,
   "id": "b15c8646",
   "metadata": {
    "execution": {
     "iopub.execute_input": "2022-04-18T20:10:55.786309Z",
     "iopub.status.busy": "2022-04-18T20:10:55.785770Z",
     "iopub.status.idle": "2022-04-18T20:10:55.795920Z",
     "shell.execute_reply": "2022-04-18T20:10:55.796312Z"
    },
    "papermill": {
     "duration": 0.043492,
     "end_time": "2022-04-18T20:10:55.796457",
     "exception": false,
     "start_time": "2022-04-18T20:10:55.752965",
     "status": "completed"
    },
    "tags": []
   },
   "outputs": [],
   "source": [
    "%load_ext autoreload\n",
    "%autoreload 2"
   ]
  },
  {
   "cell_type": "code",
   "execution_count": 2,
   "id": "22ef38dc",
   "metadata": {
    "execution": {
     "iopub.execute_input": "2022-04-18T20:10:55.856356Z",
     "iopub.status.busy": "2022-04-18T20:10:55.855850Z",
     "iopub.status.idle": "2022-04-18T20:10:56.363411Z",
     "shell.execute_reply": "2022-04-18T20:10:56.363894Z"
    },
    "papermill": {
     "duration": 0.544005,
     "end_time": "2022-04-18T20:10:56.364058",
     "exception": false,
     "start_time": "2022-04-18T20:10:55.820053",
     "status": "completed"
    },
    "tags": []
   },
   "outputs": [],
   "source": [
    "%matplotlib inline\n",
    "import numpy as np\n",
    "import matplotlib.pyplot as plt\n",
    "import pandas as pd"
   ]
  },
  {
   "cell_type": "markdown",
   "id": "ba036198",
   "metadata": {
    "papermill": {
     "duration": 0.023608,
     "end_time": "2022-04-18T20:10:56.411788",
     "exception": false,
     "start_time": "2022-04-18T20:10:56.388180",
     "status": "completed"
    },
    "tags": []
   },
   "source": [
    "From the command line run `pip install mnist`. This is a library that will help you bring down the mnist dataset. If you run this from a notebook, you need to put  `!pip install mnist` in a cell by itself."
   ]
  },
  {
   "cell_type": "code",
   "execution_count": 3,
   "id": "bb6ad8a1",
   "metadata": {
    "execution": {
     "iopub.execute_input": "2022-04-18T20:10:56.473374Z",
     "iopub.status.busy": "2022-04-18T20:10:56.472841Z",
     "iopub.status.idle": "2022-04-18T20:10:59.012063Z",
     "shell.execute_reply": "2022-04-18T20:10:59.012561Z"
    },
    "papermill": {
     "duration": 2.577326,
     "end_time": "2022-04-18T20:10:59.012751",
     "exception": false,
     "start_time": "2022-04-18T20:10:56.435425",
     "status": "completed"
    },
    "tags": []
   },
   "outputs": [
    {
     "name": "stdout",
     "output_type": "stream",
     "text": [
      "Collecting mnist\r\n"
     ]
    },
    {
     "name": "stdout",
     "output_type": "stream",
     "text": [
      "  Downloading mnist-0.2.2-py2.py3-none-any.whl (3.5 kB)\r\n",
      "Requirement already satisfied: numpy in /opt/hostedtoolcache/Python/3.6.15/x64/lib/python3.6/site-packages (from mnist) (1.19.5)\r\n"
     ]
    },
    {
     "name": "stdout",
     "output_type": "stream",
     "text": [
      "Installing collected packages: mnist\r\n",
      "Successfully installed mnist-0.2.2\r\n"
     ]
    }
   ],
   "source": [
    "!pip install mnist"
   ]
  },
  {
   "cell_type": "markdown",
   "id": "69df9c9a",
   "metadata": {
    "papermill": {
     "duration": 0.024544,
     "end_time": "2022-04-18T20:10:59.062568",
     "exception": false,
     "start_time": "2022-04-18T20:10:59.038024",
     "status": "completed"
    },
    "tags": []
   },
   "source": [
    "## Preparing the Data"
   ]
  },
  {
   "cell_type": "code",
   "execution_count": 4,
   "id": "7f69d806",
   "metadata": {
    "execution": {
     "iopub.execute_input": "2022-04-18T20:10:59.146456Z",
     "iopub.status.busy": "2022-04-18T20:10:59.145943Z",
     "iopub.status.idle": "2022-04-18T20:10:59.150452Z",
     "shell.execute_reply": "2022-04-18T20:10:59.150041Z"
    },
    "papermill": {
     "duration": 0.063634,
     "end_time": "2022-04-18T20:10:59.150558",
     "exception": false,
     "start_time": "2022-04-18T20:10:59.086924",
     "status": "completed"
    },
    "tags": []
   },
   "outputs": [],
   "source": [
    "import mnist"
   ]
  },
  {
   "cell_type": "code",
   "execution_count": 5,
   "id": "a411e44f",
   "metadata": {
    "execution": {
     "iopub.execute_input": "2022-04-18T20:10:59.202772Z",
     "iopub.status.busy": "2022-04-18T20:10:59.202263Z",
     "iopub.status.idle": "2022-04-18T20:10:59.843062Z",
     "shell.execute_reply": "2022-04-18T20:10:59.842540Z"
    },
    "papermill": {
     "duration": 0.668171,
     "end_time": "2022-04-18T20:10:59.843200",
     "exception": false,
     "start_time": "2022-04-18T20:10:59.175029",
     "status": "completed"
    },
    "tags": []
   },
   "outputs": [],
   "source": [
    "train_images = mnist.train_images()\n",
    "train_labels = mnist.train_labels()"
   ]
  },
  {
   "cell_type": "code",
   "execution_count": 6,
   "id": "dceab3a5",
   "metadata": {
    "execution": {
     "iopub.execute_input": "2022-04-18T20:10:59.897828Z",
     "iopub.status.busy": "2022-04-18T20:10:59.897305Z",
     "iopub.status.idle": "2022-04-18T20:10:59.911693Z",
     "shell.execute_reply": "2022-04-18T20:10:59.911187Z"
    },
    "papermill": {
     "duration": 0.043425,
     "end_time": "2022-04-18T20:10:59.911794",
     "exception": false,
     "start_time": "2022-04-18T20:10:59.868369",
     "status": "completed"
    },
    "tags": []
   },
   "outputs": [
    {
     "data": {
      "text/plain": [
       "((60000, 28, 28), (60000,))"
      ]
     },
     "execution_count": 6,
     "metadata": {},
     "output_type": "execute_result"
    }
   ],
   "source": [
    "train_images.shape, train_labels.shape"
   ]
  },
  {
   "cell_type": "code",
   "execution_count": 7,
   "id": "f50dc2bb",
   "metadata": {
    "execution": {
     "iopub.execute_input": "2022-04-18T20:10:59.976073Z",
     "iopub.status.busy": "2022-04-18T20:10:59.966200Z",
     "iopub.status.idle": "2022-04-18T20:11:00.207834Z",
     "shell.execute_reply": "2022-04-18T20:11:00.208343Z"
    },
    "papermill": {
     "duration": 0.27225,
     "end_time": "2022-04-18T20:11:00.208498",
     "exception": false,
     "start_time": "2022-04-18T20:10:59.936248",
     "status": "completed"
    },
    "tags": []
   },
   "outputs": [],
   "source": [
    "test_images = mnist.test_images()\n",
    "test_labels = mnist.test_labels()"
   ]
  },
  {
   "cell_type": "code",
   "execution_count": 8,
   "id": "fc38cf1b",
   "metadata": {
    "execution": {
     "iopub.execute_input": "2022-04-18T20:11:00.265822Z",
     "iopub.status.busy": "2022-04-18T20:11:00.265303Z",
     "iopub.status.idle": "2022-04-18T20:11:00.276063Z",
     "shell.execute_reply": "2022-04-18T20:11:00.275649Z"
    },
    "papermill": {
     "duration": 0.042388,
     "end_time": "2022-04-18T20:11:00.276173",
     "exception": false,
     "start_time": "2022-04-18T20:11:00.233785",
     "status": "completed"
    },
    "tags": []
   },
   "outputs": [
    {
     "data": {
      "text/plain": [
       "((10000, 28, 28), (10000,))"
      ]
     },
     "execution_count": 8,
     "metadata": {},
     "output_type": "execute_result"
    }
   ],
   "source": [
    "test_images.shape, test_labels.shape"
   ]
  },
  {
   "cell_type": "code",
   "execution_count": 9,
   "id": "f9ed8fe0",
   "metadata": {
    "execution": {
     "iopub.execute_input": "2022-04-18T20:11:00.329973Z",
     "iopub.status.busy": "2022-04-18T20:11:00.329467Z",
     "iopub.status.idle": "2022-04-18T20:11:00.463698Z",
     "shell.execute_reply": "2022-04-18T20:11:00.464114Z"
    },
    "papermill": {
     "duration": 0.163017,
     "end_time": "2022-04-18T20:11:00.464246",
     "exception": false,
     "start_time": "2022-04-18T20:11:00.301229",
     "status": "completed"
    },
    "tags": []
   },
   "outputs": [
    {
     "name": "stdout",
     "output_type": "stream",
     "text": [
      "2\n"
     ]
    },
    {
     "data": {
      "text/plain": [
       "<matplotlib.image.AxesImage at 0x7f918859d390>"
      ]
     },
     "execution_count": 9,
     "metadata": {},
     "output_type": "execute_result"
    },
    {
     "data": {
      "image/png": "[encoded data removed]",
      "text/plain": [
       "<Figure size 432x288 with 1 Axes>"
      ]
     },
     "metadata": {
      "needs_background": "light"
     },
     "output_type": "display_data"
    }
   ],
   "source": [
    "image_index = 7776 # You may select anything up to 60,000\n",
    "print(train_labels[image_index]) \n",
    "plt.imshow(train_images[image_index], cmap='Greys')"
   ]
  },
  {
   "cell_type": "markdown",
   "id": "a8d2388d",
   "metadata": {
    "papermill": {
     "duration": 0.026289,
     "end_time": "2022-04-18T20:11:00.516669",
     "exception": false,
     "start_time": "2022-04-18T20:11:00.490380",
     "status": "completed"
    },
    "tags": []
   },
   "source": [
    "## Filter data to get 3 and 8 out"
   ]
  },
  {
   "cell_type": "code",
   "execution_count": 10,
   "id": "776f7fc7",
   "metadata": {
    "execution": {
     "iopub.execute_input": "2022-04-18T20:11:00.576919Z",
     "iopub.status.busy": "2022-04-18T20:11:00.576373Z",
     "iopub.status.idle": "2022-04-18T20:11:00.591059Z",
     "shell.execute_reply": "2022-04-18T20:11:00.591489Z"
    },
    "papermill": {
     "duration": 0.048702,
     "end_time": "2022-04-18T20:11:00.591610",
     "exception": false,
     "start_time": "2022-04-18T20:11:00.542908",
     "status": "completed"
    },
    "tags": []
   },
   "outputs": [],
   "source": [
    "train_filter = np.where((train_labels == 3 ) | (train_labels == 8))\n",
    "test_filter = np.where((test_labels == 3) | (test_labels == 8))\n",
    "X_train, y_train = train_images[train_filter], train_labels[train_filter]\n",
    "X_test, y_test = test_images[test_filter], test_labels[test_filter]"
   ]
  },
  {
   "cell_type": "markdown",
   "id": "948f0b7e",
   "metadata": {
    "papermill": {
     "duration": 0.025811,
     "end_time": "2022-04-18T20:11:00.643360",
     "exception": false,
     "start_time": "2022-04-18T20:11:00.617549",
     "status": "completed"
    },
    "tags": []
   },
   "source": [
    "We normalize the pizel values in the 0 to 1 range"
   ]
  },
  {
   "cell_type": "code",
   "execution_count": 11,
   "id": "ee4c2166",
   "metadata": {
    "execution": {
     "iopub.execute_input": "2022-04-18T20:11:00.701722Z",
     "iopub.status.busy": "2022-04-18T20:11:00.701215Z",
     "iopub.status.idle": "2022-04-18T20:11:00.747191Z",
     "shell.execute_reply": "2022-04-18T20:11:00.746690Z"
    },
    "papermill": {
     "duration": 0.078152,
     "end_time": "2022-04-18T20:11:00.747328",
     "exception": false,
     "start_time": "2022-04-18T20:11:00.669176",
     "status": "completed"
    },
    "tags": []
   },
   "outputs": [],
   "source": [
    "X_train = X_train/255.\n",
    "X_test = X_test/255."
   ]
  },
  {
   "cell_type": "markdown",
   "id": "ddcf4fab",
   "metadata": {
    "papermill": {
     "duration": 0.026164,
     "end_time": "2022-04-18T20:11:00.799886",
     "exception": false,
     "start_time": "2022-04-18T20:11:00.773722",
     "status": "completed"
    },
    "tags": []
   },
   "source": [
    "And setup the labels as 1 (when the digit is 3) and 0 (when the digit is 8)"
   ]
  },
  {
   "cell_type": "code",
   "execution_count": 12,
   "id": "7dc908f2",
   "metadata": {
    "execution": {
     "iopub.execute_input": "2022-04-18T20:11:00.863279Z",
     "iopub.status.busy": "2022-04-18T20:11:00.862765Z",
     "iopub.status.idle": "2022-04-18T20:11:00.870285Z",
     "shell.execute_reply": "2022-04-18T20:11:00.869777Z"
    },
    "papermill": {
     "duration": 0.044582,
     "end_time": "2022-04-18T20:11:00.870389",
     "exception": false,
     "start_time": "2022-04-18T20:11:00.825807",
     "status": "completed"
    },
    "tags": []
   },
   "outputs": [],
   "source": [
    "y_train = 1*(y_train==3)\n",
    "y_test = 1*(y_test==3)"
   ]
  },
  {
   "cell_type": "code",
   "execution_count": 13,
   "id": "01e4e969",
   "metadata": {
    "execution": {
     "iopub.execute_input": "2022-04-18T20:11:00.925179Z",
     "iopub.status.busy": "2022-04-18T20:11:00.924629Z",
     "iopub.status.idle": "2022-04-18T20:11:00.937682Z",
     "shell.execute_reply": "2022-04-18T20:11:00.937278Z"
    },
    "papermill": {
     "duration": 0.041473,
     "end_time": "2022-04-18T20:11:00.937787",
     "exception": false,
     "start_time": "2022-04-18T20:11:00.896314",
     "status": "completed"
    },
    "tags": []
   },
   "outputs": [
    {
     "data": {
      "text/plain": [
       "((11982, 28, 28), (1984, 28, 28))"
      ]
     },
     "execution_count": 13,
     "metadata": {},
     "output_type": "execute_result"
    }
   ],
   "source": [
    "X_train.shape, X_test.shape"
   ]
  },
  {
   "cell_type": "markdown",
   "id": "5ccf3f85",
   "metadata": {
    "papermill": {
     "duration": 0.026142,
     "end_time": "2022-04-18T20:11:00.989942",
     "exception": false,
     "start_time": "2022-04-18T20:11:00.963800",
     "status": "completed"
    },
    "tags": []
   },
   "source": [
    "We reshape the data to flatten the image pixels into a set of features or co-variates:"
   ]
  },
  {
   "cell_type": "code",
   "execution_count": 14,
   "id": "5286a4a3",
   "metadata": {
    "execution": {
     "iopub.execute_input": "2022-04-18T20:11:01.046162Z",
     "iopub.status.busy": "2022-04-18T20:11:01.045662Z",
     "iopub.status.idle": "2022-04-18T20:11:01.058682Z",
     "shell.execute_reply": "2022-04-18T20:11:01.059109Z"
    },
    "papermill": {
     "duration": 0.042706,
     "end_time": "2022-04-18T20:11:01.059223",
     "exception": false,
     "start_time": "2022-04-18T20:11:01.016517",
     "status": "completed"
    },
    "tags": []
   },
   "outputs": [
    {
     "data": {
      "text/plain": [
       "((11982, 784), (1984, 784))"
      ]
     },
     "execution_count": 14,
     "metadata": {},
     "output_type": "execute_result"
    }
   ],
   "source": [
    "X_train = X_train.reshape(X_train.shape[0], -1)\n",
    "X_test = X_test.reshape(X_test.shape[0], -1)\n",
    "X_train.shape, X_test.shape"
   ]
  },
  {
   "cell_type": "code",
   "execution_count": 15,
   "id": "73c5f88a",
   "metadata": {
    "execution": {
     "iopub.execute_input": "2022-04-18T20:11:01.133424Z",
     "iopub.status.busy": "2022-04-18T20:11:01.125241Z",
     "iopub.status.idle": "2022-04-18T20:11:01.137211Z",
     "shell.execute_reply": "2022-04-18T20:11:01.137591Z"
    },
    "papermill": {
     "duration": 0.052075,
     "end_time": "2022-04-18T20:11:01.137707",
     "exception": false,
     "start_time": "2022-04-18T20:11:01.085632",
     "status": "completed"
    },
    "tags": []
   },
   "outputs": [],
   "source": [
    "#Impoting functions from 'Kudzu'\n",
    "from kudzu.model import Model\n",
    "from kudzu.train import Learner\n",
    "from kudzu.optim import GD\n",
    "from kudzu.data import Data, Sampler,Dataloader\n",
    "\n",
    "from kudzu.callbacks import AccCallback\n",
    "from kudzu.callbacks import ClfCallback\n",
    "\n",
    "from kudzu.loss import MSE\n",
    "\n",
    "from kudzu.layer import Sigmoid,Relu\n",
    "from kudzu.layer import Affine"
   ]
  },
  {
   "cell_type": "markdown",
   "id": "bc01172a",
   "metadata": {
    "papermill": {
     "duration": 0.02674,
     "end_time": "2022-04-18T20:11:01.190998",
     "exception": false,
     "start_time": "2022-04-18T20:11:01.164258",
     "status": "completed"
    },
    "tags": []
   },
   "source": [
    "### Let us create a `Config` class, to store important parameters. \n",
    "This class essentially plays the role of a dictionary."
   ]
  },
  {
   "cell_type": "code",
   "execution_count": 16,
   "id": "978281aa",
   "metadata": {
    "execution": {
     "iopub.execute_input": "2022-04-18T20:11:01.253066Z",
     "iopub.status.busy": "2022-04-18T20:11:01.252514Z",
     "iopub.status.idle": "2022-04-18T20:11:01.260637Z",
     "shell.execute_reply": "2022-04-18T20:11:01.261049Z"
    },
    "papermill": {
     "duration": 0.043828,
     "end_time": "2022-04-18T20:11:01.261163",
     "exception": false,
     "start_time": "2022-04-18T20:11:01.217335",
     "status": "completed"
    },
    "tags": []
   },
   "outputs": [],
   "source": [
    "class Config:\n",
    "    pass\n",
    "config = Config()\n",
    "config.lr = 0.001\n",
    "config.num_epochs = 250\n",
    "config.bs = 50"
   ]
  },
  {
   "cell_type": "markdown",
   "id": "1385fa59",
   "metadata": {
    "papermill": {
     "duration": 0.026732,
     "end_time": "2022-04-18T20:11:01.314472",
     "exception": false,
     "start_time": "2022-04-18T20:11:01.287740",
     "status": "completed"
    },
    "tags": []
   },
   "source": [
    "### Running Models with the Training data\n",
    "Details about the network layers:\n",
    "- A first affine layer has 784 inputs and does 100 affine transforms. These are followed by a Relu\n",
    "- A second affine layer has 100 inputs from the 100 activations of the past layer, and does 100 affine transforms. These are followed by a Relu\n",
    "- A third affine layer has 100 activations and does 2 affine transformations to create an embedding for visualization. There is no non-linearity here.\n",
    "- A final \"logistic regression\" which has an affine transform from 2 inputs to 1 output, which is squeezed through a sigmoid.\n"
   ]
  },
  {
   "cell_type": "code",
   "execution_count": 17,
   "id": "2b9c66db",
   "metadata": {
    "execution": {
     "iopub.execute_input": "2022-04-18T20:11:01.384294Z",
     "iopub.status.busy": "2022-04-18T20:11:01.381227Z",
     "iopub.status.idle": "2022-04-18T20:11:01.386543Z",
     "shell.execute_reply": "2022-04-18T20:11:01.386117Z"
    },
    "papermill": {
     "duration": 0.045695,
     "end_time": "2022-04-18T20:11:01.386642",
     "exception": false,
     "start_time": "2022-04-18T20:11:01.340947",
     "status": "completed"
    },
    "tags": []
   },
   "outputs": [],
   "source": [
    "data = Data(X_train, y_train.reshape(-1,1))\n",
    "sampler = Sampler(data, config.bs, shuffle=True)\n",
    "\n",
    "dl = Dataloader(data, sampler)\n",
    "\n",
    "opt = GD(config.lr)\n",
    "loss = MSE()"
   ]
  },
  {
   "cell_type": "code",
   "execution_count": 18,
   "id": "b275e4c2",
   "metadata": {
    "execution": {
     "iopub.execute_input": "2022-04-18T20:11:01.445739Z",
     "iopub.status.busy": "2022-04-18T20:11:01.445243Z",
     "iopub.status.idle": "2022-04-18T20:11:01.454795Z",
     "shell.execute_reply": "2022-04-18T20:11:01.455174Z"
    },
    "papermill": {
     "duration": 0.042086,
     "end_time": "2022-04-18T20:11:01.455287",
     "exception": false,
     "start_time": "2022-04-18T20:11:01.413201",
     "status": "completed"
    },
    "tags": []
   },
   "outputs": [],
   "source": [
    "training_data_x = X_train\n",
    "testing_data_x = X_test\n",
    "training_data_y = y_train.reshape(-1,1)\n",
    "testing_data_y = y_test.reshape(-1,1)"
   ]
  },
  {
   "cell_type": "code",
   "execution_count": 19,
   "id": "76951160",
   "metadata": {
    "execution": {
     "iopub.execute_input": "2022-04-18T20:11:01.521811Z",
     "iopub.status.busy": "2022-04-18T20:11:01.521293Z",
     "iopub.status.idle": "2022-04-18T20:11:01.530714Z",
     "shell.execute_reply": "2022-04-18T20:11:01.530287Z"
    },
    "papermill": {
     "duration": 0.049214,
     "end_time": "2022-04-18T20:11:01.530813",
     "exception": false,
     "start_time": "2022-04-18T20:11:01.481599",
     "status": "completed"
    },
    "tags": []
   },
   "outputs": [
    {
     "name": "stdout",
     "output_type": "stream",
     "text": [
      "xavier\n",
      "xavier\n",
      "xavier\n",
      "xavier\n",
      "xavier\n"
     ]
    }
   ],
   "source": [
    "layers = [Affine(\"first\", 784, 100), Relu(\"first\"), Affine(\"second\", 100, 100), Relu(\"second\"), Affine(\"third\", 100, 2), Affine(\"last\", 2, 1), Sigmoid(\"last\")]\n",
    "model_nn = Model(layers)\n",
    "model_lr = Model([Affine(\"logits\", 784, 1), Sigmoid(\"sigmoid\")])"
   ]
  },
  {
   "cell_type": "code",
   "execution_count": 20,
   "id": "6eede77a",
   "metadata": {
    "execution": {
     "iopub.execute_input": "2022-04-18T20:11:01.590426Z",
     "iopub.status.busy": "2022-04-18T20:11:01.589922Z",
     "iopub.status.idle": "2022-04-18T20:11:01.599797Z",
     "shell.execute_reply": "2022-04-18T20:11:01.599366Z"
    },
    "papermill": {
     "duration": 0.042284,
     "end_time": "2022-04-18T20:11:01.599897",
     "exception": false,
     "start_time": "2022-04-18T20:11:01.557613",
     "status": "completed"
    },
    "tags": []
   },
   "outputs": [],
   "source": [
    "nn_learner = Learner(loss, model_nn, opt, config.num_epochs)\n",
    "acc_nn = ClfCallback(nn_learner, config.bs, training_data_x , testing_data_x, training_data_y, testing_data_y)\n",
    "nn_learner.set_callbacks([acc_nn])"
   ]
  },
  {
   "cell_type": "code",
   "execution_count": 21,
   "id": "877b6cc7",
   "metadata": {
    "execution": {
     "iopub.execute_input": "2022-04-18T20:11:01.656686Z",
     "iopub.status.busy": "2022-04-18T20:11:01.656150Z",
     "iopub.status.idle": "2022-04-18T20:11:01.667667Z",
     "shell.execute_reply": "2022-04-18T20:11:01.668071Z"
    },
    "papermill": {
     "duration": 0.041546,
     "end_time": "2022-04-18T20:11:01.668182",
     "exception": false,
     "start_time": "2022-04-18T20:11:01.626636",
     "status": "completed"
    },
    "tags": []
   },
   "outputs": [],
   "source": [
    "lr_learner = Learner(loss, model_lr, opt, config.num_epochs)\n",
    "acc_lr = ClfCallback(lr_learner, config.bs, training_data_x , testing_data_x, training_data_y, testing_data_y)\n",
    "lr_learner.set_callbacks([acc_lr])"
   ]
  },
  {
   "cell_type": "code",
   "execution_count": 22,
   "id": "d9b133c3",
   "metadata": {
    "execution": {
     "iopub.execute_input": "2022-04-18T20:11:01.737283Z",
     "iopub.status.busy": "2022-04-18T20:11:01.734329Z",
     "iopub.status.idle": "2022-04-18T20:12:15.517322Z",
     "shell.execute_reply": "2022-04-18T20:12:15.518079Z"
    },
    "papermill": {
     "duration": 73.823348,
     "end_time": "2022-04-18T20:12:15.518231",
     "exception": false,
     "start_time": "2022-04-18T20:11:01.694883",
     "status": "completed"
    },
    "tags": []
   },
   "outputs": [
    {
     "name": "stdout",
     "output_type": "stream",
     "text": [
      "Epoch 0, Loss 0.238\n",
      "Training Accuracy: 0.7067, Testing Accuracy: 0.7011\n",
      "\n"
     ]
    },
    {
     "name": "stdout",
     "output_type": "stream",
     "text": [
      "Epoch 10, Loss 0.0729\n",
      "Training Accuracy: 0.9274, Testing Accuracy: 0.9375\n",
      "\n"
     ]
    },
    {
     "name": "stdout",
     "output_type": "stream",
     "text": [
      "Epoch 20, Loss 0.0473\n",
      "Training Accuracy: 0.9490, Testing Accuracy: 0.9612\n",
      "\n"
     ]
    },
    {
     "name": "stdout",
     "output_type": "stream",
     "text": [
      "Epoch 30, Loss 0.0383\n",
      "Training Accuracy: 0.9578, Testing Accuracy: 0.9657\n",
      "\n"
     ]
    },
    {
     "name": "stdout",
     "output_type": "stream",
     "text": [
      "Epoch 40, Loss 0.0337\n",
      "Training Accuracy: 0.9617, Testing Accuracy: 0.9682\n",
      "\n"
     ]
    },
    {
     "name": "stdout",
     "output_type": "stream",
     "text": [
      "Epoch 50, Loss 0.0307\n",
      "Training Accuracy: 0.9657, Testing Accuracy: 0.9693\n",
      "\n"
     ]
    },
    {
     "name": "stdout",
     "output_type": "stream",
     "text": [
      "Epoch 60, Loss 0.0286\n",
      "Training Accuracy: 0.9672, Testing Accuracy: 0.9693\n",
      "\n"
     ]
    },
    {
     "name": "stdout",
     "output_type": "stream",
     "text": [
      "Epoch 70, Loss 0.027\n",
      "Training Accuracy: 0.9682, Testing Accuracy: 0.9708\n",
      "\n"
     ]
    },
    {
     "name": "stdout",
     "output_type": "stream",
     "text": [
      "Epoch 80, Loss 0.0257\n",
      "Training Accuracy: 0.9704, Testing Accuracy: 0.9723\n",
      "\n"
     ]
    },
    {
     "name": "stdout",
     "output_type": "stream",
     "text": [
      "Epoch 90, Loss 0.0246\n",
      "Training Accuracy: 0.9719, Testing Accuracy: 0.9733\n",
      "\n"
     ]
    },
    {
     "name": "stdout",
     "output_type": "stream",
     "text": [
      "Epoch 100, Loss 0.0236\n",
      "Training Accuracy: 0.9729, Testing Accuracy: 0.9738\n",
      "\n"
     ]
    },
    {
     "name": "stdout",
     "output_type": "stream",
     "text": [
      "Epoch 110, Loss 0.0228\n",
      "Training Accuracy: 0.9740, Testing Accuracy: 0.9748\n",
      "\n"
     ]
    },
    {
     "name": "stdout",
     "output_type": "stream",
     "text": [
      "Epoch 120, Loss 0.0221\n",
      "Training Accuracy: 0.9750, Testing Accuracy: 0.9748\n",
      "\n"
     ]
    },
    {
     "name": "stdout",
     "output_type": "stream",
     "text": [
      "Epoch 130, Loss 0.0214\n",
      "Training Accuracy: 0.9758, Testing Accuracy: 0.9748\n",
      "\n"
     ]
    },
    {
     "name": "stdout",
     "output_type": "stream",
     "text": [
      "Epoch 140, Loss 0.0208\n",
      "Training Accuracy: 0.9765, Testing Accuracy: 0.9748\n",
      "\n"
     ]
    },
    {
     "name": "stdout",
     "output_type": "stream",
     "text": [
      "Epoch 150, Loss 0.0202\n",
      "Training Accuracy: 0.9777, Testing Accuracy: 0.9753\n",
      "\n"
     ]
    },
    {
     "name": "stdout",
     "output_type": "stream",
     "text": [
      "Epoch 160, Loss 0.0197\n",
      "Training Accuracy: 0.9785, Testing Accuracy: 0.9758\n",
      "\n"
     ]
    },
    {
     "name": "stdout",
     "output_type": "stream",
     "text": [
      "Epoch 170, Loss 0.0192\n",
      "Training Accuracy: 0.9792, Testing Accuracy: 0.9763\n",
      "\n"
     ]
    },
    {
     "name": "stdout",
     "output_type": "stream",
     "text": [
      "Epoch 180, Loss 0.0187\n",
      "Training Accuracy: 0.9796, Testing Accuracy: 0.9763\n",
      "\n"
     ]
    },
    {
     "name": "stdout",
     "output_type": "stream",
     "text": [
      "Epoch 190, Loss 0.0183\n",
      "Training Accuracy: 0.9796, Testing Accuracy: 0.9763\n",
      "\n"
     ]
    },
    {
     "name": "stdout",
     "output_type": "stream",
     "text": [
      "Epoch 200, Loss 0.0179\n",
      "Training Accuracy: 0.9804, Testing Accuracy: 0.9768\n",
      "\n"
     ]
    },
    {
     "name": "stdout",
     "output_type": "stream",
     "text": [
      "Epoch 210, Loss 0.0175\n",
      "Training Accuracy: 0.9807, Testing Accuracy: 0.9783\n",
      "\n"
     ]
    },
    {
     "name": "stdout",
     "output_type": "stream",
     "text": [
      "Epoch 220, Loss 0.0171\n",
      "Training Accuracy: 0.9814, Testing Accuracy: 0.9778\n",
      "\n"
     ]
    },
    {
     "name": "stdout",
     "output_type": "stream",
     "text": [
      "Epoch 230, Loss 0.0168\n",
      "Training Accuracy: 0.9817, Testing Accuracy: 0.9778\n",
      "\n"
     ]
    },
    {
     "name": "stdout",
     "output_type": "stream",
     "text": [
      "Epoch 240, Loss 0.0164\n",
      "Training Accuracy: 0.9823, Testing Accuracy: 0.9778\n",
      "\n"
     ]
    },
    {
     "data": {
      "text/plain": [
       "0.011800044370081038"
      ]
     },
     "execution_count": 22,
     "metadata": {},
     "output_type": "execute_result"
    }
   ],
   "source": [
    "nn_learner.train_loop(dl)"
   ]
  },
  {
   "cell_type": "code",
   "execution_count": 23,
   "id": "e0163366",
   "metadata": {
    "execution": {
     "iopub.execute_input": "2022-04-18T20:12:15.597839Z",
     "iopub.status.busy": "2022-04-18T20:12:15.597332Z",
     "iopub.status.idle": "2022-04-18T20:12:28.851646Z",
     "shell.execute_reply": "2022-04-18T20:12:28.852043Z"
    },
    "papermill": {
     "duration": 13.29987,
     "end_time": "2022-04-18T20:12:28.852189",
     "exception": false,
     "start_time": "2022-04-18T20:12:15.552319",
     "status": "completed"
    },
    "tags": []
   },
   "outputs": [
    {
     "name": "stdout",
     "output_type": "stream",
     "text": [
      "Epoch 0, Loss 0.2134\n",
      "Training Accuracy: 0.8105, Testing Accuracy: 0.8120\n",
      "\n"
     ]
    },
    {
     "name": "stdout",
     "output_type": "stream",
     "text": [
      "Epoch 10, Loss 0.0974\n",
      "Training Accuracy: 0.9186, Testing Accuracy: 0.9320\n",
      "\n"
     ]
    },
    {
     "name": "stdout",
     "output_type": "stream",
     "text": [
      "Epoch 20, Loss 0.0765\n",
      "Training Accuracy: 0.9315, Testing Accuracy: 0.9451\n",
      "\n"
     ]
    },
    {
     "name": "stdout",
     "output_type": "stream",
     "text": [
      "Epoch 30, Loss 0.0667\n",
      "Training Accuracy: 0.9380, Testing Accuracy: 0.9491\n",
      "\n"
     ]
    },
    {
     "name": "stdout",
     "output_type": "stream",
     "text": [
      "Epoch 40, Loss 0.0606\n",
      "Training Accuracy: 0.9422, Testing Accuracy: 0.9526\n",
      "\n"
     ]
    },
    {
     "name": "stdout",
     "output_type": "stream",
     "text": [
      "Epoch 50, Loss 0.0564\n",
      "Training Accuracy: 0.9448, Testing Accuracy: 0.9572\n",
      "\n"
     ]
    },
    {
     "name": "stdout",
     "output_type": "stream",
     "text": [
      "Epoch 60, Loss 0.0533\n",
      "Training Accuracy: 0.9467, Testing Accuracy: 0.9582\n",
      "\n"
     ]
    },
    {
     "name": "stdout",
     "output_type": "stream",
     "text": [
      "Epoch 70, Loss 0.0509\n",
      "Training Accuracy: 0.9498, Testing Accuracy: 0.9592\n",
      "\n"
     ]
    },
    {
     "name": "stdout",
     "output_type": "stream",
     "text": [
      "Epoch 80, Loss 0.0489\n",
      "Training Accuracy: 0.9514, Testing Accuracy: 0.9617\n",
      "\n"
     ]
    },
    {
     "name": "stdout",
     "output_type": "stream",
     "text": [
      "Epoch 90, Loss 0.0473\n",
      "Training Accuracy: 0.9523, Testing Accuracy: 0.9627\n",
      "\n"
     ]
    },
    {
     "name": "stdout",
     "output_type": "stream",
     "text": [
      "Epoch 100, Loss 0.0459\n",
      "Training Accuracy: 0.9533, Testing Accuracy: 0.9642\n",
      "\n"
     ]
    },
    {
     "name": "stdout",
     "output_type": "stream",
     "text": [
      "Epoch 110, Loss 0.0447\n",
      "Training Accuracy: 0.9541, Testing Accuracy: 0.9652\n",
      "\n"
     ]
    },
    {
     "name": "stdout",
     "output_type": "stream",
     "text": [
      "Epoch 120, Loss 0.0437\n",
      "Training Accuracy: 0.9552, Testing Accuracy: 0.9657\n",
      "\n"
     ]
    },
    {
     "name": "stdout",
     "output_type": "stream",
     "text": [
      "Epoch 130, Loss 0.0427\n",
      "Training Accuracy: 0.9559, Testing Accuracy: 0.9667\n",
      "\n"
     ]
    },
    {
     "name": "stdout",
     "output_type": "stream",
     "text": [
      "Epoch 140, Loss 0.0419\n",
      "Training Accuracy: 0.9564, Testing Accuracy: 0.9667\n",
      "\n"
     ]
    },
    {
     "name": "stdout",
     "output_type": "stream",
     "text": [
      "Epoch 150, Loss 0.0412\n",
      "Training Accuracy: 0.9574, Testing Accuracy: 0.9672\n",
      "\n"
     ]
    },
    {
     "name": "stdout",
     "output_type": "stream",
     "text": [
      "Epoch 160, Loss 0.0405\n",
      "Training Accuracy: 0.9579, Testing Accuracy: 0.9667\n",
      "\n"
     ]
    },
    {
     "name": "stdout",
     "output_type": "stream",
     "text": [
      "Epoch 170, Loss 0.0399\n",
      "Training Accuracy: 0.9583, Testing Accuracy: 0.9672\n",
      "\n"
     ]
    },
    {
     "name": "stdout",
     "output_type": "stream",
     "text": [
      "Epoch 180, Loss 0.0394\n",
      "Training Accuracy: 0.9588, Testing Accuracy: 0.9672\n",
      "\n"
     ]
    },
    {
     "name": "stdout",
     "output_type": "stream",
     "text": [
      "Epoch 190, Loss 0.0388\n",
      "Training Accuracy: 0.9590, Testing Accuracy: 0.9672\n",
      "\n"
     ]
    },
    {
     "name": "stdout",
     "output_type": "stream",
     "text": [
      "Epoch 200, Loss 0.0384\n",
      "Training Accuracy: 0.9593, Testing Accuracy: 0.9667\n",
      "\n"
     ]
    },
    {
     "name": "stdout",
     "output_type": "stream",
     "text": [
      "Epoch 210, Loss 0.0379\n",
      "Training Accuracy: 0.9599, Testing Accuracy: 0.9667\n",
      "\n"
     ]
    },
    {
     "name": "stdout",
     "output_type": "stream",
     "text": [
      "Epoch 220, Loss 0.0375\n",
      "Training Accuracy: 0.9604, Testing Accuracy: 0.9667\n",
      "\n"
     ]
    },
    {
     "name": "stdout",
     "output_type": "stream",
     "text": [
      "Epoch 230, Loss 0.0371\n",
      "Training Accuracy: 0.9605, Testing Accuracy: 0.9667\n",
      "\n"
     ]
    },
    {
     "name": "stdout",
     "output_type": "stream",
     "text": [
      "Epoch 240, Loss 0.0368\n",
      "Training Accuracy: 0.9609, Testing Accuracy: 0.9682\n",
      "\n"
     ]
    },
    {
     "data": {
      "text/plain": [
       "0.1060122679023009"
      ]
     },
     "execution_count": 23,
     "metadata": {},
     "output_type": "execute_result"
    }
   ],
   "source": [
    "lr_learner.train_loop(dl)"
   ]
  },
  {
   "cell_type": "code",
   "execution_count": 24,
   "id": "ca410940",
   "metadata": {
    "execution": {
     "iopub.execute_input": "2022-04-18T20:12:28.939241Z",
     "iopub.status.busy": "2022-04-18T20:12:28.938698Z",
     "iopub.status.idle": "2022-04-18T20:12:29.167871Z",
     "shell.execute_reply": "2022-04-18T20:12:29.168301Z"
    },
    "papermill": {
     "duration": 0.273784,
     "end_time": "2022-04-18T20:12:29.168440",
     "exception": false,
     "start_time": "2022-04-18T20:12:28.894656",
     "status": "completed"
    },
    "tags": []
   },
   "outputs": [
    {
     "data": {
      "text/plain": [
       "<matplotlib.legend.Legend at 0x7f918817dac8>"
      ]
     },
     "execution_count": 24,
     "metadata": {},
     "output_type": "execute_result"
    },
    {
     "data": {
      "image/png": "[encoded data removed]",
      "text/plain": [
       "<Figure size 1080x720 with 1 Axes>"
      ]
     },
     "metadata": {
      "needs_background": "light"
     },
     "output_type": "display_data"
    }
   ],
   "source": [
    "#comparing the results of NN and LR\n",
    "plt.figure(figsize=(15,10))\n",
    "\n",
    "# Neural Network plots\n",
    "plt.plot(acc_nn.accuracies, 'r-', label = \"Training Accuracies - NN\")\n",
    "plt.plot(acc_nn.test_accuracies, 'g-', label = \"Testing Accuracies - NN\")\n",
    "\n",
    "# Logistic Regression plots\n",
    "plt.plot(acc_lr.accuracies, 'k-', label = \"Training Accuracies - LR\")\n",
    "plt.plot(acc_lr.test_accuracies, 'b-', label = \"Testing Accuracies - LR\")\n",
    "plt.legend()"
   ]
  },
  {
   "cell_type": "markdown",
   "id": "80dfb35c",
   "metadata": {
    "papermill": {
     "duration": 0.04157,
     "end_time": "2022-04-18T20:12:29.252062",
     "exception": false,
     "start_time": "2022-04-18T20:12:29.210492",
     "status": "completed"
    },
    "tags": []
   },
   "source": [
    "#### Plotting the outputs of this layer of the NN.\n"
   ]
  },
  {
   "cell_type": "code",
   "execution_count": 25,
   "id": "45eb2ff5",
   "metadata": {
    "execution": {
     "iopub.execute_input": "2022-04-18T20:12:29.354583Z",
     "iopub.status.busy": "2022-04-18T20:12:29.344258Z",
     "iopub.status.idle": "2022-04-18T20:12:29.370519Z",
     "shell.execute_reply": "2022-04-18T20:12:29.370928Z"
    },
    "papermill": {
     "duration": 0.077353,
     "end_time": "2022-04-18T20:12:29.371057",
     "exception": false,
     "start_time": "2022-04-18T20:12:29.293704",
     "status": "completed"
    },
    "tags": []
   },
   "outputs": [],
   "source": [
    "new_model = Model(layers[:-2])\n",
    "testing_plot = new_model(testing_data_x)"
   ]
  },
  {
   "cell_type": "code",
   "execution_count": 26,
   "id": "4c0a5485",
   "metadata": {
    "execution": {
     "iopub.execute_input": "2022-04-18T20:12:29.465650Z",
     "iopub.status.busy": "2022-04-18T20:12:29.465134Z",
     "iopub.status.idle": "2022-04-18T20:12:29.650866Z",
     "shell.execute_reply": "2022-04-18T20:12:29.650415Z"
    },
    "papermill": {
     "duration": 0.237903,
     "end_time": "2022-04-18T20:12:29.650981",
     "exception": false,
     "start_time": "2022-04-18T20:12:29.413078",
     "status": "completed"
    },
    "tags": []
   },
   "outputs": [
    {
     "data": {
      "text/plain": [
       "Text(0.5, 1.0, 'Outputs')"
      ]
     },
     "execution_count": 26,
     "metadata": {},
     "output_type": "execute_result"
    },
    {
     "data": {
      "image/png": "[encoded data removed]",
      "text/plain": [
       "<Figure size 576x504 with 1 Axes>"
      ]
     },
     "metadata": {
      "needs_background": "light"
     },
     "output_type": "display_data"
    }
   ],
   "source": [
    "# Plotting the scatter plot of points and color coding by class\n",
    "plt.figure(figsize=(8,7))\n",
    "plt.scatter(testing_plot[:,0], testing_plot[:,1], alpha = 0.1, c = y_test.ravel());\n",
    "plt.title('Outputs')"
   ]
  },
  {
   "cell_type": "markdown",
   "id": "a74fcf8f",
   "metadata": {
    "papermill": {
     "duration": 0.043751,
     "end_time": "2022-04-18T20:12:29.738788",
     "exception": false,
     "start_time": "2022-04-18T20:12:29.695037",
     "status": "completed"
    },
    "tags": []
   },
   "source": [
    "Probability contours"
   ]
  },
  {
   "cell_type": "code",
   "execution_count": 27,
   "id": "d0afc8e3",
   "metadata": {
    "execution": {
     "iopub.execute_input": "2022-04-18T20:12:29.832510Z",
     "iopub.status.busy": "2022-04-18T20:12:29.830421Z",
     "iopub.status.idle": "2022-04-18T20:12:29.842106Z",
     "shell.execute_reply": "2022-04-18T20:12:29.842513Z"
    },
    "papermill": {
     "duration": 0.060082,
     "end_time": "2022-04-18T20:12:29.842633",
     "exception": false,
     "start_time": "2022-04-18T20:12:29.782551",
     "status": "completed"
    },
    "tags": []
   },
   "outputs": [],
   "source": [
    "model_prob = Model(layers[-2:]) "
   ]
  },
  {
   "cell_type": "code",
   "execution_count": 28,
   "id": "9b96e238",
   "metadata": {
    "execution": {
     "iopub.execute_input": "2022-04-18T20:12:29.950032Z",
     "iopub.status.busy": "2022-04-18T20:12:29.949275Z",
     "iopub.status.idle": "2022-04-18T20:12:29.956034Z",
     "shell.execute_reply": "2022-04-18T20:12:29.955128Z"
    },
    "papermill": {
     "duration": 0.069677,
     "end_time": "2022-04-18T20:12:29.956142",
     "exception": false,
     "start_time": "2022-04-18T20:12:29.886465",
     "status": "completed"
    },
    "tags": []
   },
   "outputs": [],
   "source": [
    "#creating the x and y ranges according to the above generated plot.\n",
    "x_range = np.linspace(-4, 1, 100) \n",
    "y_range = np.linspace(-6, 6, 100) \n",
    "x_grid, y_grid = np.meshgrid(x_range, y_range) # x_grid and y_grig are of size 100 X 100\n",
    "\n",
    "# converting x_grid and y_grid to continuous arrays\n",
    "x_gridflat = np.ravel(x_grid)\n",
    "y_gridflat = np.ravel(y_grid)\n",
    "\n",
    "# The last layer of the current model takes two columns as input. Hence transpose of np.vstack() is required.\n",
    "X = np.vstack((x_gridflat, y_gridflat)).T\n",
    "\n",
    "prob_contour = model_prob(X).reshape(100,100) "
   ]
  },
  {
   "cell_type": "code",
   "execution_count": 29,
   "id": "da72499a",
   "metadata": {
    "execution": {
     "iopub.execute_input": "2022-04-18T20:12:30.074861Z",
     "iopub.status.busy": "2022-04-18T20:12:30.074337Z",
     "iopub.status.idle": "2022-04-18T20:12:30.318911Z",
     "shell.execute_reply": "2022-04-18T20:12:30.318461Z"
    },
    "papermill": {
     "duration": 0.31897,
     "end_time": "2022-04-18T20:12:30.319030",
     "exception": false,
     "start_time": "2022-04-18T20:12:30.000060",
     "status": "completed"
    },
    "tags": []
   },
   "outputs": [
    {
     "data": {
      "image/png": "[encoded data removed]",
      "text/plain": [
       "<Figure size 720x648 with 1 Axes>"
      ]
     },
     "metadata": {
      "needs_background": "light"
     },
     "output_type": "display_data"
    }
   ],
   "source": [
    "plt.figure(figsize=(10,9))\n",
    "plt.scatter(testing_plot[:,0], testing_plot[:,1], alpha = 0.1, c = y_test.ravel())\n",
    "contours = plt.contour(x_grid,y_grid,prob_contour)\n",
    "plt.title('Probability Contours')\n",
    "plt.clabel(contours, inline = True );"
   ]
  },
  {
   "cell_type": "code",
   "execution_count": null,
   "id": "e81b4ac7",
   "metadata": {
    "papermill": {
     "duration": 0.046408,
     "end_time": "2022-04-18T20:12:30.412663",
     "exception": false,
     "start_time": "2022-04-18T20:12:30.366255",
     "status": "completed"
    },
    "tags": []
   },
   "outputs": [],
   "source": []
  }
 ],
 "metadata": {
  "kernelspec": {
   "display_name": "Python 3",
   "language": "python",
   "name": "python3"
  },
  "language_info": {
   "codemirror_mode": {
    "name": "ipython",
    "version": 3
   },
   "file_extension": ".py",
   "mimetype": "text/x-python",
   "name": "python",
   "nbconvert_exporter": "python",
   "pygments_lexer": "ipython3",
   "version": "3.6.15"
  },
  "papermill": {
   "default_parameters": {},
   "duration": 96.043557,
   "end_time": "2022-04-18T20:12:30.776499",
   "environment_variables": {},
   "exception": null,
   "input_path": "2020-08-11-part2.ipynb",
   "output_path": "2020-08-11-part2.ipynb",
   "parameters": {},
   "start_time": "2022-04-18T20:10:54.732942",
   "version": "2.3.3"
  }
 },
 "nbformat": 4,
 "nbformat_minor": 5
}