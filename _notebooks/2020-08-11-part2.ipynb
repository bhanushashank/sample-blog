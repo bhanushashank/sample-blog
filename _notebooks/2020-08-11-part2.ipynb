{
 "cells": [
  {
   "cell_type": "markdown",
   "id": "98380cd3",
   "metadata": {
    "papermill": {
     "duration": 0.030449,
     "end_time": "2022-08-24T00:44:22.264480",
     "exception": false,
     "start_time": "2022-08-24T00:44:22.234031",
     "status": "completed"
    },
    "tags": []
   },
   "source": [
    "# Distinguish Your Own Digits (DYOD)"
   ]
  },
  {
   "cell_type": "markdown",
   "id": "ef31240d",
   "metadata": {
    "papermill": {
     "duration": 0.023735,
     "end_time": "2022-08-24T00:44:22.312642",
     "exception": false,
     "start_time": "2022-08-24T00:44:22.288907",
     "status": "completed"
    },
    "tags": []
   },
   "source": [
    "You are going to write a classifier that distinguishes between the number 3 and number 8."
   ]
  },
  {
   "cell_type": "code",
   "execution_count": 1,
   "id": "b15c8646",
   "metadata": {
    "execution": {
     "iopub.execute_input": "2022-08-24T00:44:22.371057Z",
     "iopub.status.busy": "2022-08-24T00:44:22.370476Z",
     "iopub.status.idle": "2022-08-24T00:44:22.380622Z",
     "shell.execute_reply": "2022-08-24T00:44:22.381104Z"
    },
    "papermill": {
     "duration": 0.04493,
     "end_time": "2022-08-24T00:44:22.381243",
     "exception": false,
     "start_time": "2022-08-24T00:44:22.336313",
     "status": "completed"
    },
    "tags": []
   },
   "outputs": [],
   "source": [
    "%load_ext autoreload\n",
    "%autoreload 2"
   ]
  },
  {
   "cell_type": "code",
   "execution_count": 2,
   "id": "22ef38dc",
   "metadata": {
    "execution": {
     "iopub.execute_input": "2022-08-24T00:44:22.432201Z",
     "iopub.status.busy": "2022-08-24T00:44:22.431635Z",
     "iopub.status.idle": "2022-08-24T00:44:22.945852Z",
     "shell.execute_reply": "2022-08-24T00:44:22.945286Z"
    },
    "papermill": {
     "duration": 0.541066,
     "end_time": "2022-08-24T00:44:22.945987",
     "exception": false,
     "start_time": "2022-08-24T00:44:22.404921",
     "status": "completed"
    },
    "tags": []
   },
   "outputs": [],
   "source": [
    "%matplotlib inline\n",
    "import numpy as np\n",
    "import matplotlib.pyplot as plt\n",
    "import pandas as pd"
   ]
  },
  {
   "cell_type": "markdown",
   "id": "ba036198",
   "metadata": {
    "papermill": {
     "duration": 0.023751,
     "end_time": "2022-08-24T00:44:22.993717",
     "exception": false,
     "start_time": "2022-08-24T00:44:22.969966",
     "status": "completed"
    },
    "tags": []
   },
   "source": [
    "From the command line run `pip install mnist`. This is a library that will help you bring down the mnist dataset. If you run this from a notebook, you need to put  `!pip install mnist` in a cell by itself."
   ]
  },
  {
   "cell_type": "code",
   "execution_count": 3,
   "id": "bb6ad8a1",
   "metadata": {
    "execution": {
     "iopub.execute_input": "2022-08-24T00:44:23.048640Z",
     "iopub.status.busy": "2022-08-24T00:44:23.048038Z",
     "iopub.status.idle": "2022-08-24T00:44:24.692915Z",
     "shell.execute_reply": "2022-08-24T00:44:24.691450Z"
    },
    "papermill": {
     "duration": 1.675512,
     "end_time": "2022-08-24T00:44:24.693054",
     "exception": false,
     "start_time": "2022-08-24T00:44:23.017542",
     "status": "completed"
    },
    "tags": []
   },
   "outputs": [
    {
     "name": "stdout",
     "output_type": "stream",
     "text": [
      "Collecting mnist\r\n"
     ]
    },
    {
     "name": "stdout",
     "output_type": "stream",
     "text": [
      "  Downloading mnist-0.2.2-py2.py3-none-any.whl (3.5 kB)\r\n",
      "Requirement already satisfied: numpy in /opt/hostedtoolcache/Python/3.6.15/x64/lib/python3.6/site-packages (from mnist) (1.19.5)\r\n"
     ]
    },
    {
     "name": "stdout",
     "output_type": "stream",
     "text": [
      "Installing collected packages: mnist\r\n",
      "Successfully installed mnist-0.2.2\r\n"
     ]
    }
   ],
   "source": [
    "!pip install mnist"
   ]
  },
  {
   "cell_type": "markdown",
   "id": "69df9c9a",
   "metadata": {
    "papermill": {
     "duration": 0.024923,
     "end_time": "2022-08-24T00:44:24.743083",
     "exception": false,
     "start_time": "2022-08-24T00:44:24.718160",
     "status": "completed"
    },
    "tags": []
   },
   "source": [
    "## Preparing the Data"
   ]
  },
  {
   "cell_type": "code",
   "execution_count": 4,
   "id": "7f69d806",
   "metadata": {
    "execution": {
     "iopub.execute_input": "2022-08-24T00:44:24.795658Z",
     "iopub.status.busy": "2022-08-24T00:44:24.795085Z",
     "iopub.status.idle": "2022-08-24T00:44:24.810508Z",
     "shell.execute_reply": "2022-08-24T00:44:24.810041Z"
    },
    "papermill": {
     "duration": 0.043165,
     "end_time": "2022-08-24T00:44:24.810610",
     "exception": false,
     "start_time": "2022-08-24T00:44:24.767445",
     "status": "completed"
    },
    "tags": []
   },
   "outputs": [],
   "source": [
    "import mnist"
   ]
  },
  {
   "cell_type": "code",
   "execution_count": 5,
   "id": "a411e44f",
   "metadata": {
    "execution": {
     "iopub.execute_input": "2022-08-24T00:44:24.863012Z",
     "iopub.status.busy": "2022-08-24T00:44:24.862442Z",
     "iopub.status.idle": "2022-08-24T00:44:25.976208Z",
     "shell.execute_reply": "2022-08-24T00:44:25.975206Z"
    },
    "papermill": {
     "duration": 1.141265,
     "end_time": "2022-08-24T00:44:25.976345",
     "exception": false,
     "start_time": "2022-08-24T00:44:24.835080",
     "status": "completed"
    },
    "tags": []
   },
   "outputs": [],
   "source": [
    "train_images = mnist.train_images()\n",
    "train_labels = mnist.train_labels()"
   ]
  },
  {
   "cell_type": "code",
   "execution_count": 6,
   "id": "dceab3a5",
   "metadata": {
    "execution": {
     "iopub.execute_input": "2022-08-24T00:44:26.039533Z",
     "iopub.status.busy": "2022-08-24T00:44:26.037347Z",
     "iopub.status.idle": "2022-08-24T00:44:26.050517Z",
     "shell.execute_reply": "2022-08-24T00:44:26.049663Z"
    },
    "papermill": {
     "duration": 0.049401,
     "end_time": "2022-08-24T00:44:26.050629",
     "exception": false,
     "start_time": "2022-08-24T00:44:26.001228",
     "status": "completed"
    },
    "tags": []
   },
   "outputs": [
    {
     "data": {
      "text/plain": [
       "((60000, 28, 28), (60000,))"
      ]
     },
     "execution_count": 6,
     "metadata": {},
     "output_type": "execute_result"
    }
   ],
   "source": [
    "train_images.shape, train_labels.shape"
   ]
  },
  {
   "cell_type": "code",
   "execution_count": 7,
   "id": "f50dc2bb",
   "metadata": {
    "execution": {
     "iopub.execute_input": "2022-08-24T00:44:26.113345Z",
     "iopub.status.busy": "2022-08-24T00:44:26.103215Z",
     "iopub.status.idle": "2022-08-24T00:44:26.346074Z",
     "shell.execute_reply": "2022-08-24T00:44:26.345483Z"
    },
    "papermill": {
     "duration": 0.270805,
     "end_time": "2022-08-24T00:44:26.346207",
     "exception": false,
     "start_time": "2022-08-24T00:44:26.075402",
     "status": "completed"
    },
    "tags": []
   },
   "outputs": [],
   "source": [
    "test_images = mnist.test_images()\n",
    "test_labels = mnist.test_labels()"
   ]
  },
  {
   "cell_type": "code",
   "execution_count": 8,
   "id": "fc38cf1b",
   "metadata": {
    "execution": {
     "iopub.execute_input": "2022-08-24T00:44:26.400329Z",
     "iopub.status.busy": "2022-08-24T00:44:26.399766Z",
     "iopub.status.idle": "2022-08-24T00:44:26.412987Z",
     "shell.execute_reply": "2022-08-24T00:44:26.412397Z"
    },
    "papermill": {
     "duration": 0.041382,
     "end_time": "2022-08-24T00:44:26.413093",
     "exception": false,
     "start_time": "2022-08-24T00:44:26.371711",
     "status": "completed"
    },
    "tags": []
   },
   "outputs": [
    {
     "data": {
      "text/plain": [
       "((10000, 28, 28), (10000,))"
      ]
     },
     "execution_count": 8,
     "metadata": {},
     "output_type": "execute_result"
    }
   ],
   "source": [
    "test_images.shape, test_labels.shape"
   ]
  },
  {
   "cell_type": "code",
   "execution_count": 9,
   "id": "f9ed8fe0",
   "metadata": {
    "execution": {
     "iopub.execute_input": "2022-08-24T00:44:26.466344Z",
     "iopub.status.busy": "2022-08-24T00:44:26.465785Z",
     "iopub.status.idle": "2022-08-24T00:44:26.600657Z",
     "shell.execute_reply": "2022-08-24T00:44:26.601178Z"
    },
    "papermill": {
     "duration": 0.16332,
     "end_time": "2022-08-24T00:44:26.601319",
     "exception": false,
     "start_time": "2022-08-24T00:44:26.437999",
     "status": "completed"
    },
    "tags": []
   },
   "outputs": [
    {
     "name": "stdout",
     "output_type": "stream",
     "text": [
      "2\n"
     ]
    },
    {
     "data": {
      "text/plain": [
       "<matplotlib.image.AxesImage at 0x7fb4b2f1d9e8>"
      ]
     },
     "execution_count": 9,
     "metadata": {},
     "output_type": "execute_result"
    },
    {
     "data": {
      "image/png": "[encoded data removed]",
      "text/plain": [
       "<Figure size 432x288 with 1 Axes>"
      ]
     },
     "metadata": {
      "needs_background": "light"
     },
     "output_type": "display_data"
    }
   ],
   "source": [
    "image_index = 7776 # You may select anything up to 60,000\n",
    "print(train_labels[image_index]) \n",
    "plt.imshow(train_images[image_index], cmap='Greys')"
   ]
  },
  {
   "cell_type": "markdown",
   "id": "a8d2388d",
   "metadata": {
    "papermill": {
     "duration": 0.026296,
     "end_time": "2022-08-24T00:44:26.654077",
     "exception": false,
     "start_time": "2022-08-24T00:44:26.627781",
     "status": "completed"
    },
    "tags": []
   },
   "source": [
    "## Filter data to get 3 and 8 out"
   ]
  },
  {
   "cell_type": "code",
   "execution_count": 10,
   "id": "776f7fc7",
   "metadata": {
    "execution": {
     "iopub.execute_input": "2022-08-24T00:44:26.714380Z",
     "iopub.status.busy": "2022-08-24T00:44:26.713794Z",
     "iopub.status.idle": "2022-08-24T00:44:26.730142Z",
     "shell.execute_reply": "2022-08-24T00:44:26.729680Z"
    },
    "papermill": {
     "duration": 0.049267,
     "end_time": "2022-08-24T00:44:26.730246",
     "exception": false,
     "start_time": "2022-08-24T00:44:26.680979",
     "status": "completed"
    },
    "tags": []
   },
   "outputs": [],
   "source": [
    "train_filter = np.where((train_labels == 3 ) | (train_labels == 8))\n",
    "test_filter = np.where((test_labels == 3) | (test_labels == 8))\n",
    "X_train, y_train = train_images[train_filter], train_labels[train_filter]\n",
    "X_test, y_test = test_images[test_filter], test_labels[test_filter]"
   ]
  },
  {
   "cell_type": "markdown",
   "id": "948f0b7e",
   "metadata": {
    "papermill": {
     "duration": 0.02626,
     "end_time": "2022-08-24T00:44:26.782658",
     "exception": false,
     "start_time": "2022-08-24T00:44:26.756398",
     "status": "completed"
    },
    "tags": []
   },
   "source": [
    "We normalize the pizel values in the 0 to 1 range"
   ]
  },
  {
   "cell_type": "code",
   "execution_count": 11,
   "id": "ee4c2166",
   "metadata": {
    "execution": {
     "iopub.execute_input": "2022-08-24T00:44:26.838160Z",
     "iopub.status.busy": "2022-08-24T00:44:26.837594Z",
     "iopub.status.idle": "2022-08-24T00:44:26.884664Z",
     "shell.execute_reply": "2022-08-24T00:44:26.884072Z"
    },
    "papermill": {
     "duration": 0.076075,
     "end_time": "2022-08-24T00:44:26.884799",
     "exception": false,
     "start_time": "2022-08-24T00:44:26.808724",
     "status": "completed"
    },
    "tags": []
   },
   "outputs": [],
   "source": [
    "X_train = X_train/255.\n",
    "X_test = X_test/255."
   ]
  },
  {
   "cell_type": "markdown",
   "id": "ddcf4fab",
   "metadata": {
    "papermill": {
     "duration": 0.026459,
     "end_time": "2022-08-24T00:44:26.938539",
     "exception": false,
     "start_time": "2022-08-24T00:44:26.912080",
     "status": "completed"
    },
    "tags": []
   },
   "source": [
    "And setup the labels as 1 (when the digit is 3) and 0 (when the digit is 8)"
   ]
  },
  {
   "cell_type": "code",
   "execution_count": 12,
   "id": "7dc908f2",
   "metadata": {
    "execution": {
     "iopub.execute_input": "2022-08-24T00:44:26.994305Z",
     "iopub.status.busy": "2022-08-24T00:44:26.993723Z",
     "iopub.status.idle": "2022-08-24T00:44:27.006637Z",
     "shell.execute_reply": "2022-08-24T00:44:27.007105Z"
    },
    "papermill": {
     "duration": 0.042593,
     "end_time": "2022-08-24T00:44:27.007227",
     "exception": false,
     "start_time": "2022-08-24T00:44:26.964634",
     "status": "completed"
    },
    "tags": []
   },
   "outputs": [],
   "source": [
    "y_train = 1*(y_train==3)\n",
    "y_test = 1*(y_test==3)"
   ]
  },
  {
   "cell_type": "code",
   "execution_count": 13,
   "id": "01e4e969",
   "metadata": {
    "execution": {
     "iopub.execute_input": "2022-08-24T00:44:27.069734Z",
     "iopub.status.busy": "2022-08-24T00:44:27.069171Z",
     "iopub.status.idle": "2022-08-24T00:44:27.078758Z",
     "shell.execute_reply": "2022-08-24T00:44:27.078293Z"
    },
    "papermill": {
     "duration": 0.045395,
     "end_time": "2022-08-24T00:44:27.078863",
     "exception": false,
     "start_time": "2022-08-24T00:44:27.033468",
     "status": "completed"
    },
    "tags": []
   },
   "outputs": [
    {
     "data": {
      "text/plain": [
       "((11982, 28, 28), (1984, 28, 28))"
      ]
     },
     "execution_count": 13,
     "metadata": {},
     "output_type": "execute_result"
    }
   ],
   "source": [
    "X_train.shape, X_test.shape"
   ]
  },
  {
   "cell_type": "markdown",
   "id": "5ccf3f85",
   "metadata": {
    "papermill": {
     "duration": 0.026247,
     "end_time": "2022-08-24T00:44:27.131408",
     "exception": false,
     "start_time": "2022-08-24T00:44:27.105161",
     "status": "completed"
    },
    "tags": []
   },
   "source": [
    "We reshape the data to flatten the image pixels into a set of features or co-variates:"
   ]
  },
  {
   "cell_type": "code",
   "execution_count": 14,
   "id": "5286a4a3",
   "metadata": {
    "execution": {
     "iopub.execute_input": "2022-08-24T00:44:27.197945Z",
     "iopub.status.busy": "2022-08-24T00:44:27.187245Z",
     "iopub.status.idle": "2022-08-24T00:44:27.204785Z",
     "shell.execute_reply": "2022-08-24T00:44:27.204002Z"
    },
    "papermill": {
     "duration": 0.047119,
     "end_time": "2022-08-24T00:44:27.204895",
     "exception": false,
     "start_time": "2022-08-24T00:44:27.157776",
     "status": "completed"
    },
    "tags": []
   },
   "outputs": [
    {
     "data": {
      "text/plain": [
       "((11982, 784), (1984, 784))"
      ]
     },
     "execution_count": 14,
     "metadata": {},
     "output_type": "execute_result"
    }
   ],
   "source": [
    "X_train = X_train.reshape(X_train.shape[0], -1)\n",
    "X_test = X_test.reshape(X_test.shape[0], -1)\n",
    "X_train.shape, X_test.shape"
   ]
  },
  {
   "cell_type": "code",
   "execution_count": 15,
   "id": "73c5f88a",
   "metadata": {
    "execution": {
     "iopub.execute_input": "2022-08-24T00:44:27.265557Z",
     "iopub.status.busy": "2022-08-24T00:44:27.261504Z",
     "iopub.status.idle": "2022-08-24T00:44:27.279369Z",
     "shell.execute_reply": "2022-08-24T00:44:27.279787Z"
    },
    "papermill": {
     "duration": 0.048393,
     "end_time": "2022-08-24T00:44:27.279907",
     "exception": false,
     "start_time": "2022-08-24T00:44:27.231514",
     "status": "completed"
    },
    "tags": []
   },
   "outputs": [],
   "source": [
    "#Impoting functions from 'Kudzu'\n",
    "from kudzu.model import Model\n",
    "from kudzu.train import Learner\n",
    "from kudzu.optim import GD\n",
    "from kudzu.data import Data, Sampler,Dataloader\n",
    "\n",
    "from kudzu.callbacks import AccCallback\n",
    "from kudzu.callbacks import ClfCallback\n",
    "\n",
    "from kudzu.loss import MSE\n",
    "\n",
    "from kudzu.layer import Sigmoid,Relu\n",
    "from kudzu.layer import Affine"
   ]
  },
  {
   "cell_type": "markdown",
   "id": "bc01172a",
   "metadata": {
    "papermill": {
     "duration": 0.026459,
     "end_time": "2022-08-24T00:44:27.333069",
     "exception": false,
     "start_time": "2022-08-24T00:44:27.306610",
     "status": "completed"
    },
    "tags": []
   },
   "source": [
    "### Let us create a `Config` class, to store important parameters. \n",
    "This class essentially plays the role of a dictionary."
   ]
  },
  {
   "cell_type": "code",
   "execution_count": 16,
   "id": "978281aa",
   "metadata": {
    "execution": {
     "iopub.execute_input": "2022-08-24T00:44:27.403339Z",
     "iopub.status.busy": "2022-08-24T00:44:27.401260Z",
     "iopub.status.idle": "2022-08-24T00:44:27.405493Z",
     "shell.execute_reply": "2022-08-24T00:44:27.405912Z"
    },
    "papermill": {
     "duration": 0.046545,
     "end_time": "2022-08-24T00:44:27.406029",
     "exception": false,
     "start_time": "2022-08-24T00:44:27.359484",
     "status": "completed"
    },
    "tags": []
   },
   "outputs": [],
   "source": [
    "class Config:\n",
    "    pass\n",
    "config = Config()\n",
    "config.lr = 0.001\n",
    "config.num_epochs = 250\n",
    "config.bs = 50"
   ]
  },
  {
   "cell_type": "markdown",
   "id": "1385fa59",
   "metadata": {
    "papermill": {
     "duration": 0.026481,
     "end_time": "2022-08-24T00:44:27.459176",
     "exception": false,
     "start_time": "2022-08-24T00:44:27.432695",
     "status": "completed"
    },
    "tags": []
   },
   "source": [
    "### Running Models with the Training data\n",
    "Details about the network layers:\n",
    "- A first affine layer has 784 inputs and does 100 affine transforms. These are followed by a Relu\n",
    "- A second affine layer has 100 inputs from the 100 activations of the past layer, and does 100 affine transforms. These are followed by a Relu\n",
    "- A third affine layer has 100 activations and does 2 affine transformations to create an embedding for visualization. There is no non-linearity here.\n",
    "- A final \"logistic regression\" which has an affine transform from 2 inputs to 1 output, which is squeezed through a sigmoid.\n"
   ]
  },
  {
   "cell_type": "code",
   "execution_count": 17,
   "id": "2b9c66db",
   "metadata": {
    "execution": {
     "iopub.execute_input": "2022-08-24T00:44:27.525420Z",
     "iopub.status.busy": "2022-08-24T00:44:27.516154Z",
     "iopub.status.idle": "2022-08-24T00:44:27.531786Z",
     "shell.execute_reply": "2022-08-24T00:44:27.531242Z"
    },
    "papermill": {
     "duration": 0.046134,
     "end_time": "2022-08-24T00:44:27.531892",
     "exception": false,
     "start_time": "2022-08-24T00:44:27.485758",
     "status": "completed"
    },
    "tags": []
   },
   "outputs": [],
   "source": [
    "data = Data(X_train, y_train.reshape(-1,1))\n",
    "sampler = Sampler(data, config.bs, shuffle=True)\n",
    "\n",
    "dl = Dataloader(data, sampler)\n",
    "\n",
    "opt = GD(config.lr)\n",
    "loss = MSE()"
   ]
  },
  {
   "cell_type": "code",
   "execution_count": 18,
   "id": "b275e4c2",
   "metadata": {
    "execution": {
     "iopub.execute_input": "2022-08-24T00:44:27.592205Z",
     "iopub.status.busy": "2022-08-24T00:44:27.591315Z",
     "iopub.status.idle": "2022-08-24T00:44:27.601097Z",
     "shell.execute_reply": "2022-08-24T00:44:27.601535Z"
    },
    "papermill": {
     "duration": 0.043063,
     "end_time": "2022-08-24T00:44:27.601650",
     "exception": false,
     "start_time": "2022-08-24T00:44:27.558587",
     "status": "completed"
    },
    "tags": []
   },
   "outputs": [],
   "source": [
    "training_data_x = X_train\n",
    "testing_data_x = X_test\n",
    "training_data_y = y_train.reshape(-1,1)\n",
    "testing_data_y = y_test.reshape(-1,1)"
   ]
  },
  {
   "cell_type": "code",
   "execution_count": 19,
   "id": "76951160",
   "metadata": {
    "execution": {
     "iopub.execute_input": "2022-08-24T00:44:27.659730Z",
     "iopub.status.busy": "2022-08-24T00:44:27.657879Z",
     "iopub.status.idle": "2022-08-24T00:44:27.675283Z",
     "shell.execute_reply": "2022-08-24T00:44:27.674827Z"
    },
    "papermill": {
     "duration": 0.047338,
     "end_time": "2022-08-24T00:44:27.675382",
     "exception": false,
     "start_time": "2022-08-24T00:44:27.628044",
     "status": "completed"
    },
    "tags": []
   },
   "outputs": [
    {
     "name": "stdout",
     "output_type": "stream",
     "text": [
      "xavier\n",
      "xavier\n",
      "xavier\n",
      "xavier\n",
      "xavier\n"
     ]
    }
   ],
   "source": [
    "layers = [Affine(\"first\", 784, 100), Relu(\"first\"), Affine(\"second\", 100, 100), Relu(\"second\"), Affine(\"third\", 100, 2), Affine(\"last\", 2, 1), Sigmoid(\"last\")]\n",
    "model_nn = Model(layers)\n",
    "model_lr = Model([Affine(\"logits\", 784, 1), Sigmoid(\"sigmoid\")])"
   ]
  },
  {
   "cell_type": "code",
   "execution_count": 20,
   "id": "6eede77a",
   "metadata": {
    "execution": {
     "iopub.execute_input": "2022-08-24T00:44:27.734917Z",
     "iopub.status.busy": "2022-08-24T00:44:27.733795Z",
     "iopub.status.idle": "2022-08-24T00:44:27.744177Z",
     "shell.execute_reply": "2022-08-24T00:44:27.744637Z"
    },
    "papermill": {
     "duration": 0.042452,
     "end_time": "2022-08-24T00:44:27.744752",
     "exception": false,
     "start_time": "2022-08-24T00:44:27.702300",
     "status": "completed"
    },
    "tags": []
   },
   "outputs": [],
   "source": [
    "nn_learner = Learner(loss, model_nn, opt, config.num_epochs)\n",
    "acc_nn = ClfCallback(nn_learner, config.bs, training_data_x , testing_data_x, training_data_y, testing_data_y)\n",
    "nn_learner.set_callbacks([acc_nn])"
   ]
  },
  {
   "cell_type": "code",
   "execution_count": 21,
   "id": "877b6cc7",
   "metadata": {
    "execution": {
     "iopub.execute_input": "2022-08-24T00:44:27.802074Z",
     "iopub.status.busy": "2022-08-24T00:44:27.801510Z",
     "iopub.status.idle": "2022-08-24T00:44:27.813406Z",
     "shell.execute_reply": "2022-08-24T00:44:27.813820Z"
    },
    "papermill": {
     "duration": 0.042542,
     "end_time": "2022-08-24T00:44:27.813944",
     "exception": false,
     "start_time": "2022-08-24T00:44:27.771402",
     "status": "completed"
    },
    "tags": []
   },
   "outputs": [],
   "source": [
    "lr_learner = Learner(loss, model_lr, opt, config.num_epochs)\n",
    "acc_lr = ClfCallback(lr_learner, config.bs, training_data_x , testing_data_x, training_data_y, testing_data_y)\n",
    "lr_learner.set_callbacks([acc_lr])"
   ]
  },
  {
   "cell_type": "code",
   "execution_count": 22,
   "id": "d9b133c3",
   "metadata": {
    "execution": {
     "iopub.execute_input": "2022-08-24T00:44:27.881387Z",
     "iopub.status.busy": "2022-08-24T00:44:27.871845Z",
     "iopub.status.idle": "2022-08-24T00:45:40.595961Z",
     "shell.execute_reply": "2022-08-24T00:45:40.596514Z"
    },
    "papermill": {
     "duration": 72.755704,
     "end_time": "2022-08-24T00:45:40.596675",
     "exception": false,
     "start_time": "2022-08-24T00:44:27.840971",
     "status": "completed"
    },
    "tags": []
   },
   "outputs": [
    {
     "name": "stdout",
     "output_type": "stream",
     "text": [
      "Epoch 0, Loss 0.2401\n",
      "Training Accuracy: 0.6984, Testing Accuracy: 0.6809\n",
      "\n"
     ]
    },
    {
     "name": "stdout",
     "output_type": "stream",
     "text": [
      "Epoch 10, Loss 0.0776\n",
      "Training Accuracy: 0.9285, Testing Accuracy: 0.9420\n",
      "\n"
     ]
    },
    {
     "name": "stdout",
     "output_type": "stream",
     "text": [
      "Epoch 20, Loss 0.0483\n",
      "Training Accuracy: 0.9505, Testing Accuracy: 0.9602\n",
      "\n"
     ]
    },
    {
     "name": "stdout",
     "output_type": "stream",
     "text": [
      "Epoch 30, Loss 0.0389\n",
      "Training Accuracy: 0.9592, Testing Accuracy: 0.9642\n",
      "\n"
     ]
    },
    {
     "name": "stdout",
     "output_type": "stream",
     "text": [
      "Epoch 40, Loss 0.0341\n",
      "Training Accuracy: 0.9629, Testing Accuracy: 0.9677\n",
      "\n"
     ]
    },
    {
     "name": "stdout",
     "output_type": "stream",
     "text": [
      "Epoch 50, Loss 0.0311\n",
      "Training Accuracy: 0.9647, Testing Accuracy: 0.9703\n",
      "\n"
     ]
    },
    {
     "name": "stdout",
     "output_type": "stream",
     "text": [
      "Epoch 60, Loss 0.029\n",
      "Training Accuracy: 0.9661, Testing Accuracy: 0.9708\n",
      "\n"
     ]
    },
    {
     "name": "stdout",
     "output_type": "stream",
     "text": [
      "Epoch 70, Loss 0.0274\n",
      "Training Accuracy: 0.9682, Testing Accuracy: 0.9713\n",
      "\n"
     ]
    },
    {
     "name": "stdout",
     "output_type": "stream",
     "text": [
      "Epoch 80, Loss 0.026\n",
      "Training Accuracy: 0.9693, Testing Accuracy: 0.9723\n",
      "\n"
     ]
    },
    {
     "name": "stdout",
     "output_type": "stream",
     "text": [
      "Epoch 90, Loss 0.0249\n",
      "Training Accuracy: 0.9710, Testing Accuracy: 0.9723\n",
      "\n"
     ]
    },
    {
     "name": "stdout",
     "output_type": "stream",
     "text": [
      "Epoch 100, Loss 0.024\n",
      "Training Accuracy: 0.9724, Testing Accuracy: 0.9718\n",
      "\n"
     ]
    },
    {
     "name": "stdout",
     "output_type": "stream",
     "text": [
      "Epoch 110, Loss 0.0231\n",
      "Training Accuracy: 0.9734, Testing Accuracy: 0.9723\n",
      "\n"
     ]
    },
    {
     "name": "stdout",
     "output_type": "stream",
     "text": [
      "Epoch 120, Loss 0.0223\n",
      "Training Accuracy: 0.9743, Testing Accuracy: 0.9733\n",
      "\n"
     ]
    },
    {
     "name": "stdout",
     "output_type": "stream",
     "text": [
      "Epoch 130, Loss 0.0216\n",
      "Training Accuracy: 0.9749, Testing Accuracy: 0.9738\n",
      "\n"
     ]
    },
    {
     "name": "stdout",
     "output_type": "stream",
     "text": [
      "Epoch 140, Loss 0.0209\n",
      "Training Accuracy: 0.9758, Testing Accuracy: 0.9748\n",
      "\n"
     ]
    },
    {
     "name": "stdout",
     "output_type": "stream",
     "text": [
      "Epoch 150, Loss 0.0202\n",
      "Training Accuracy: 0.9766, Testing Accuracy: 0.9753\n",
      "\n"
     ]
    },
    {
     "name": "stdout",
     "output_type": "stream",
     "text": [
      "Epoch 160, Loss 0.0196\n",
      "Training Accuracy: 0.9775, Testing Accuracy: 0.9748\n",
      "\n"
     ]
    },
    {
     "name": "stdout",
     "output_type": "stream",
     "text": [
      "Epoch 170, Loss 0.019\n",
      "Training Accuracy: 0.9786, Testing Accuracy: 0.9753\n",
      "\n"
     ]
    },
    {
     "name": "stdout",
     "output_type": "stream",
     "text": [
      "Epoch 180, Loss 0.0185\n",
      "Training Accuracy: 0.9793, Testing Accuracy: 0.9753\n",
      "\n"
     ]
    },
    {
     "name": "stdout",
     "output_type": "stream",
     "text": [
      "Epoch 190, Loss 0.018\n",
      "Training Accuracy: 0.9798, Testing Accuracy: 0.9758\n",
      "\n"
     ]
    },
    {
     "name": "stdout",
     "output_type": "stream",
     "text": [
      "Epoch 200, Loss 0.0175\n",
      "Training Accuracy: 0.9803, Testing Accuracy: 0.9763\n",
      "\n"
     ]
    },
    {
     "name": "stdout",
     "output_type": "stream",
     "text": [
      "Epoch 210, Loss 0.017\n",
      "Training Accuracy: 0.9809, Testing Accuracy: 0.9768\n",
      "\n"
     ]
    },
    {
     "name": "stdout",
     "output_type": "stream",
     "text": [
      "Epoch 220, Loss 0.0166\n",
      "Training Accuracy: 0.9815, Testing Accuracy: 0.9763\n",
      "\n"
     ]
    },
    {
     "name": "stdout",
     "output_type": "stream",
     "text": [
      "Epoch 230, Loss 0.0161\n",
      "Training Accuracy: 0.9817, Testing Accuracy: 0.9763\n",
      "\n"
     ]
    },
    {
     "name": "stdout",
     "output_type": "stream",
     "text": [
      "Epoch 240, Loss 0.0157\n",
      "Training Accuracy: 0.9826, Testing Accuracy: 0.9768\n",
      "\n"
     ]
    },
    {
     "data": {
      "text/plain": [
       "0.006145592632834852"
      ]
     },
     "execution_count": 22,
     "metadata": {},
     "output_type": "execute_result"
    }
   ],
   "source": [
    "nn_learner.train_loop(dl)"
   ]
  },
  {
   "cell_type": "code",
   "execution_count": 23,
   "id": "e0163366",
   "metadata": {
    "execution": {
     "iopub.execute_input": "2022-08-24T00:45:40.674119Z",
     "iopub.status.busy": "2022-08-24T00:45:40.673539Z",
     "iopub.status.idle": "2022-08-24T00:45:53.557259Z",
     "shell.execute_reply": "2022-08-24T00:45:53.558095Z"
    },
    "papermill": {
     "duration": 12.926772,
     "end_time": "2022-08-24T00:45:53.558245",
     "exception": false,
     "start_time": "2022-08-24T00:45:40.631473",
     "status": "completed"
    },
    "tags": []
   },
   "outputs": [
    {
     "name": "stdout",
     "output_type": "stream",
     "text": [
      "Epoch 0, Loss 0.2508\n",
      "Training Accuracy: 0.6601, Testing Accuracy: 0.6663\n",
      "\n"
     ]
    },
    {
     "name": "stdout",
     "output_type": "stream",
     "text": [
      "Epoch 10, Loss 0.1022\n",
      "Training Accuracy: 0.9127, Testing Accuracy: 0.9183\n",
      "\n"
     ]
    },
    {
     "name": "stdout",
     "output_type": "stream",
     "text": [
      "Epoch 20, Loss 0.0789\n",
      "Training Accuracy: 0.9284, Testing Accuracy: 0.9410\n",
      "\n"
     ]
    },
    {
     "name": "stdout",
     "output_type": "stream",
     "text": [
      "Epoch 30, Loss 0.0682\n",
      "Training Accuracy: 0.9362, Testing Accuracy: 0.9471\n",
      "\n"
     ]
    },
    {
     "name": "stdout",
     "output_type": "stream",
     "text": [
      "Epoch 40, Loss 0.0617\n",
      "Training Accuracy: 0.9413, Testing Accuracy: 0.9536\n",
      "\n"
     ]
    },
    {
     "name": "stdout",
     "output_type": "stream",
     "text": [
      "Epoch 50, Loss 0.0573\n",
      "Training Accuracy: 0.9454, Testing Accuracy: 0.9556\n",
      "\n"
     ]
    },
    {
     "name": "stdout",
     "output_type": "stream",
     "text": [
      "Epoch 60, Loss 0.054\n",
      "Training Accuracy: 0.9493, Testing Accuracy: 0.9561\n",
      "\n"
     ]
    },
    {
     "name": "stdout",
     "output_type": "stream",
     "text": [
      "Epoch 70, Loss 0.0515\n",
      "Training Accuracy: 0.9505, Testing Accuracy: 0.9592\n",
      "\n"
     ]
    },
    {
     "name": "stdout",
     "output_type": "stream",
     "text": [
      "Epoch 80, Loss 0.0494\n",
      "Training Accuracy: 0.9518, Testing Accuracy: 0.9597\n",
      "\n"
     ]
    },
    {
     "name": "stdout",
     "output_type": "stream",
     "text": [
      "Epoch 90, Loss 0.0477\n",
      "Training Accuracy: 0.9528, Testing Accuracy: 0.9607\n",
      "\n"
     ]
    },
    {
     "name": "stdout",
     "output_type": "stream",
     "text": [
      "Epoch 100, Loss 0.0463\n",
      "Training Accuracy: 0.9538, Testing Accuracy: 0.9617\n",
      "\n"
     ]
    },
    {
     "name": "stdout",
     "output_type": "stream",
     "text": [
      "Epoch 110, Loss 0.0451\n",
      "Training Accuracy: 0.9545, Testing Accuracy: 0.9627\n",
      "\n"
     ]
    },
    {
     "name": "stdout",
     "output_type": "stream",
     "text": [
      "Epoch 120, Loss 0.044\n",
      "Training Accuracy: 0.9555, Testing Accuracy: 0.9642\n",
      "\n"
     ]
    },
    {
     "name": "stdout",
     "output_type": "stream",
     "text": [
      "Epoch 130, Loss 0.0431\n",
      "Training Accuracy: 0.9562, Testing Accuracy: 0.9637\n",
      "\n"
     ]
    },
    {
     "name": "stdout",
     "output_type": "stream",
     "text": [
      "Epoch 140, Loss 0.0422\n",
      "Training Accuracy: 0.9563, Testing Accuracy: 0.9637\n",
      "\n"
     ]
    },
    {
     "name": "stdout",
     "output_type": "stream",
     "text": [
      "Epoch 150, Loss 0.0415\n",
      "Training Accuracy: 0.9569, Testing Accuracy: 0.9642\n",
      "\n"
     ]
    },
    {
     "name": "stdout",
     "output_type": "stream",
     "text": [
      "Epoch 160, Loss 0.0408\n",
      "Training Accuracy: 0.9578, Testing Accuracy: 0.9657\n",
      "\n"
     ]
    },
    {
     "name": "stdout",
     "output_type": "stream",
     "text": [
      "Epoch 170, Loss 0.0402\n",
      "Training Accuracy: 0.9582, Testing Accuracy: 0.9657\n",
      "\n"
     ]
    },
    {
     "name": "stdout",
     "output_type": "stream",
     "text": [
      "Epoch 180, Loss 0.0396\n",
      "Training Accuracy: 0.9587, Testing Accuracy: 0.9662\n",
      "\n"
     ]
    },
    {
     "name": "stdout",
     "output_type": "stream",
     "text": [
      "Epoch 190, Loss 0.0391\n",
      "Training Accuracy: 0.9587, Testing Accuracy: 0.9662\n",
      "\n"
     ]
    },
    {
     "name": "stdout",
     "output_type": "stream",
     "text": [
      "Epoch 200, Loss 0.0386\n",
      "Training Accuracy: 0.9589, Testing Accuracy: 0.9662\n",
      "\n"
     ]
    },
    {
     "name": "stdout",
     "output_type": "stream",
     "text": [
      "Epoch 210, Loss 0.0382\n",
      "Training Accuracy: 0.9599, Testing Accuracy: 0.9672\n",
      "\n"
     ]
    },
    {
     "name": "stdout",
     "output_type": "stream",
     "text": [
      "Epoch 220, Loss 0.0377\n",
      "Training Accuracy: 0.9604, Testing Accuracy: 0.9672\n",
      "\n"
     ]
    },
    {
     "name": "stdout",
     "output_type": "stream",
     "text": [
      "Epoch 230, Loss 0.0374\n",
      "Training Accuracy: 0.9607, Testing Accuracy: 0.9677\n",
      "\n"
     ]
    },
    {
     "name": "stdout",
     "output_type": "stream",
     "text": [
      "Epoch 240, Loss 0.037\n",
      "Training Accuracy: 0.9607, Testing Accuracy: 0.9677\n",
      "\n"
     ]
    },
    {
     "data": {
      "text/plain": [
       "0.0182071192974503"
      ]
     },
     "execution_count": 23,
     "metadata": {},
     "output_type": "execute_result"
    }
   ],
   "source": [
    "lr_learner.train_loop(dl)"
   ]
  },
  {
   "cell_type": "code",
   "execution_count": 24,
   "id": "ca410940",
   "metadata": {
    "execution": {
     "iopub.execute_input": "2022-08-24T00:45:53.650088Z",
     "iopub.status.busy": "2022-08-24T00:45:53.649498Z",
     "iopub.status.idle": "2022-08-24T00:45:53.876046Z",
     "shell.execute_reply": "2022-08-24T00:45:53.875488Z"
    },
    "papermill": {
     "duration": 0.276681,
     "end_time": "2022-08-24T00:45:53.876173",
     "exception": false,
     "start_time": "2022-08-24T00:45:53.599492",
     "status": "completed"
    },
    "tags": []
   },
   "outputs": [
    {
     "data": {
      "text/plain": [
       "<matplotlib.legend.Legend at 0x7fb4b2a7cef0>"
      ]
     },
     "execution_count": 24,
     "metadata": {},
     "output_type": "execute_result"
    },
    {
     "data": {
      "image/png": "[encoded data removed]",
      "text/plain": [
       "<Figure size 1080x720 with 1 Axes>"
      ]
     },
     "metadata": {
      "needs_background": "light"
     },
     "output_type": "display_data"
    }
   ],
   "source": [
    "#comparing the results of NN and LR\n",
    "plt.figure(figsize=(15,10))\n",
    "\n",
    "# Neural Network plots\n",
    "plt.plot(acc_nn.accuracies, 'r-', label = \"Training Accuracies - NN\")\n",
    "plt.plot(acc_nn.test_accuracies, 'g-', label = \"Testing Accuracies - NN\")\n",
    "\n",
    "# Logistic Regression plots\n",
    "plt.plot(acc_lr.accuracies, 'k-', label = \"Training Accuracies - LR\")\n",
    "plt.plot(acc_lr.test_accuracies, 'b-', label = \"Testing Accuracies - LR\")\n",
    "plt.legend()"
   ]
  },
  {
   "cell_type": "markdown",
   "id": "80dfb35c",
   "metadata": {
    "papermill": {
     "duration": 0.041643,
     "end_time": "2022-08-24T00:45:53.960515",
     "exception": false,
     "start_time": "2022-08-24T00:45:53.918872",
     "status": "completed"
    },
    "tags": []
   },
   "source": [
    "#### Plotting the outputs of this layer of the NN.\n"
   ]
  },
  {
   "cell_type": "code",
   "execution_count": 25,
   "id": "45eb2ff5",
   "metadata": {
    "execution": {
     "iopub.execute_input": "2022-08-24T00:45:54.049035Z",
     "iopub.status.busy": "2022-08-24T00:45:54.048335Z",
     "iopub.status.idle": "2022-08-24T00:45:54.067647Z",
     "shell.execute_reply": "2022-08-24T00:45:54.068098Z"
    },
    "papermill": {
     "duration": 0.066083,
     "end_time": "2022-08-24T00:45:54.068231",
     "exception": false,
     "start_time": "2022-08-24T00:45:54.002148",
     "status": "completed"
    },
    "tags": []
   },
   "outputs": [],
   "source": [
    "new_model = Model(layers[:-2])\n",
    "testing_plot = new_model(testing_data_x)"
   ]
  },
  {
   "cell_type": "code",
   "execution_count": 26,
   "id": "4c0a5485",
   "metadata": {
    "execution": {
     "iopub.execute_input": "2022-08-24T00:45:54.162272Z",
     "iopub.status.busy": "2022-08-24T00:45:54.161308Z",
     "iopub.status.idle": "2022-08-24T00:45:54.347357Z",
     "shell.execute_reply": "2022-08-24T00:45:54.347781Z"
    },
    "papermill": {
     "duration": 0.237885,
     "end_time": "2022-08-24T00:45:54.347922",
     "exception": false,
     "start_time": "2022-08-24T00:45:54.110037",
     "status": "completed"
    },
    "tags": []
   },
   "outputs": [
    {
     "data": {
      "text/plain": [
       "Text(0.5, 1.0, 'Outputs')"
      ]
     },
     "execution_count": 26,
     "metadata": {},
     "output_type": "execute_result"
    },
    {
     "data": {
      "image/png": "[encoded data removed]",
      "text/plain": [
       "<Figure size 576x504 with 1 Axes>"
      ]
     },
     "metadata": {
      "needs_background": "light"
     },
     "output_type": "display_data"
    }
   ],
   "source": [
    "# Plotting the scatter plot of points and color coding by class\n",
    "plt.figure(figsize=(8,7))\n",
    "plt.scatter(testing_plot[:,0], testing_plot[:,1], alpha = 0.1, c = y_test.ravel());\n",
    "plt.title('Outputs')"
   ]
  },
  {
   "cell_type": "markdown",
   "id": "a74fcf8f",
   "metadata": {
    "papermill": {
     "duration": 0.043704,
     "end_time": "2022-08-24T00:45:54.435752",
     "exception": false,
     "start_time": "2022-08-24T00:45:54.392048",
     "status": "completed"
    },
    "tags": []
   },
   "source": [
    "Probability contours"
   ]
  },
  {
   "cell_type": "code",
   "execution_count": 27,
   "id": "d0afc8e3",
   "metadata": {
    "execution": {
     "iopub.execute_input": "2022-08-24T00:45:54.529361Z",
     "iopub.status.busy": "2022-08-24T00:45:54.526553Z",
     "iopub.status.idle": "2022-08-24T00:45:54.539898Z",
     "shell.execute_reply": "2022-08-24T00:45:54.539342Z"
    },
    "papermill": {
     "duration": 0.060323,
     "end_time": "2022-08-24T00:45:54.540004",
     "exception": false,
     "start_time": "2022-08-24T00:45:54.479681",
     "status": "completed"
    },
    "tags": []
   },
   "outputs": [],
   "source": [
    "model_prob = Model(layers[-2:]) "
   ]
  },
  {
   "cell_type": "code",
   "execution_count": 28,
   "id": "9b96e238",
   "metadata": {
    "execution": {
     "iopub.execute_input": "2022-08-24T00:45:54.632317Z",
     "iopub.status.busy": "2022-08-24T00:45:54.631748Z",
     "iopub.status.idle": "2022-08-24T00:45:54.645289Z",
     "shell.execute_reply": "2022-08-24T00:45:54.645707Z"
    },
    "papermill": {
     "duration": 0.061756,
     "end_time": "2022-08-24T00:45:54.645830",
     "exception": false,
     "start_time": "2022-08-24T00:45:54.584074",
     "status": "completed"
    },
    "tags": []
   },
   "outputs": [],
   "source": [
    "#creating the x and y ranges according to the above generated plot.\n",
    "x_range = np.linspace(-4, 1, 100) \n",
    "y_range = np.linspace(-6, 6, 100) \n",
    "x_grid, y_grid = np.meshgrid(x_range, y_range) # x_grid and y_grig are of size 100 X 100\n",
    "\n",
    "# converting x_grid and y_grid to continuous arrays\n",
    "x_gridflat = np.ravel(x_grid)\n",
    "y_gridflat = np.ravel(y_grid)\n",
    "\n",
    "# The last layer of the current model takes two columns as input. Hence transpose of np.vstack() is required.\n",
    "X = np.vstack((x_gridflat, y_gridflat)).T\n",
    "\n",
    "prob_contour = model_prob(X).reshape(100,100) "
   ]
  },
  {
   "cell_type": "code",
   "execution_count": 29,
   "id": "da72499a",
   "metadata": {
    "execution": {
     "iopub.execute_input": "2022-08-24T00:45:54.765830Z",
     "iopub.status.busy": "2022-08-24T00:45:54.765253Z",
     "iopub.status.idle": "2022-08-24T00:45:55.002784Z",
     "shell.execute_reply": "2022-08-24T00:45:55.001685Z"
    },
    "papermill": {
     "duration": 0.28687,
     "end_time": "2022-08-24T00:45:55.002910",
     "exception": false,
     "start_time": "2022-08-24T00:45:54.716040",
     "status": "completed"
    },
    "tags": []
   },
   "outputs": [
    {
     "data": {
      "image/png": "[encoded data removed]",
      "text/plain": [
       "<Figure size 720x648 with 1 Axes>"
      ]
     },
     "metadata": {
      "needs_background": "light"
     },
     "output_type": "display_data"
    }
   ],
   "source": [
    "plt.figure(figsize=(10,9))\n",
    "plt.scatter(testing_plot[:,0], testing_plot[:,1], alpha = 0.1, c = y_test.ravel())\n",
    "contours = plt.contour(x_grid,y_grid,prob_contour)\n",
    "plt.title('Probability Contours')\n",
    "plt.clabel(contours, inline = True );"
   ]
  },
  {
   "cell_type": "code",
   "execution_count": null,
   "id": "e81b4ac7",
   "metadata": {
    "papermill": {
     "duration": 0.046379,
     "end_time": "2022-08-24T00:45:55.096871",
     "exception": false,
     "start_time": "2022-08-24T00:45:55.050492",
     "status": "completed"
    },
    "tags": []
   },
   "outputs": [],
   "source": []
  }
 ],
 "metadata": {
  "kernelspec": {
   "display_name": "Python 3",
   "language": "python",
   "name": "python3"
  },
  "language_info": {
   "codemirror_mode": {
    "name": "ipython",
    "version": 3
   },
   "file_extension": ".py",
   "mimetype": "text/x-python",
   "name": "python",
   "nbconvert_exporter": "python",
   "pygments_lexer": "ipython3",
   "version": "3.6.15"
  },
  "papermill": {
   "default_parameters": {},
   "duration": 94.253773,
   "end_time": "2022-08-24T00:45:55.561258",
   "environment_variables": {},
   "exception": null,
   "input_path": "2020-08-11-part2.ipynb",
   "output_path": "2020-08-11-part2.ipynb",
   "parameters": {},
   "start_time": "2022-08-24T00:44:21.307485",
   "version": "2.3.3"
  }
 },
 "nbformat": 4,
 "nbformat_minor": 5
}