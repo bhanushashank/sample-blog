{
 "cells": [
  {
   "cell_type": "markdown",
   "id": "98380cd3",
   "metadata": {
    "papermill": {
     "duration": 0.038085,
     "end_time": "2022-08-23T20:11:21.863255",
     "exception": false,
     "start_time": "2022-08-23T20:11:21.825170",
     "status": "completed"
    },
    "tags": []
   },
   "source": [
    "# Distinguish Your Own Digits (DYOD)"
   ]
  },
  {
   "cell_type": "markdown",
   "id": "ef31240d",
   "metadata": {
    "papermill": {
     "duration": 0.032342,
     "end_time": "2022-08-23T20:11:21.929113",
     "exception": false,
     "start_time": "2022-08-23T20:11:21.896771",
     "status": "completed"
    },
    "tags": []
   },
   "source": [
    "You are going to write a classifier that distinguishes between the number 3 and number 8."
   ]
  },
  {
   "cell_type": "code",
   "execution_count": 1,
   "id": "b15c8646",
   "metadata": {
    "execution": {
     "iopub.execute_input": "2022-08-23T20:11:22.008801Z",
     "iopub.status.busy": "2022-08-23T20:11:22.007983Z",
     "iopub.status.idle": "2022-08-23T20:11:22.019778Z",
     "shell.execute_reply": "2022-08-23T20:11:22.019028Z"
    },
    "papermill": {
     "duration": 0.05857,
     "end_time": "2022-08-23T20:11:22.019961",
     "exception": false,
     "start_time": "2022-08-23T20:11:21.961391",
     "status": "completed"
    },
    "tags": []
   },
   "outputs": [],
   "source": [
    "%load_ext autoreload\n",
    "%autoreload 2"
   ]
  },
  {
   "cell_type": "code",
   "execution_count": 2,
   "id": "22ef38dc",
   "metadata": {
    "execution": {
     "iopub.execute_input": "2022-08-23T20:11:22.093116Z",
     "iopub.status.busy": "2022-08-23T20:11:22.092322Z",
     "iopub.status.idle": "2022-08-23T20:11:22.820092Z",
     "shell.execute_reply": "2022-08-23T20:11:22.819435Z"
    },
    "papermill": {
     "duration": 0.768133,
     "end_time": "2022-08-23T20:11:22.820251",
     "exception": false,
     "start_time": "2022-08-23T20:11:22.052118",
     "status": "completed"
    },
    "tags": []
   },
   "outputs": [],
   "source": [
    "%matplotlib inline\n",
    "import numpy as np\n",
    "import matplotlib.pyplot as plt\n",
    "import pandas as pd"
   ]
  },
  {
   "cell_type": "markdown",
   "id": "ba036198",
   "metadata": {
    "papermill": {
     "duration": 0.031385,
     "end_time": "2022-08-23T20:11:22.886938",
     "exception": false,
     "start_time": "2022-08-23T20:11:22.855553",
     "status": "completed"
    },
    "tags": []
   },
   "source": [
    "From the command line run `pip install mnist`. This is a library that will help you bring down the mnist dataset. If you run this from a notebook, you need to put  `!pip install mnist` in a cell by itself."
   ]
  },
  {
   "cell_type": "code",
   "execution_count": 3,
   "id": "bb6ad8a1",
   "metadata": {
    "execution": {
     "iopub.execute_input": "2022-08-23T20:11:22.958172Z",
     "iopub.status.busy": "2022-08-23T20:11:22.957352Z",
     "iopub.status.idle": "2022-08-23T20:11:25.153301Z",
     "shell.execute_reply": "2022-08-23T20:11:25.151735Z"
    },
    "papermill": {
     "duration": 2.234944,
     "end_time": "2022-08-23T20:11:25.153468",
     "exception": false,
     "start_time": "2022-08-23T20:11:22.918524",
     "status": "completed"
    },
    "tags": []
   },
   "outputs": [
    {
     "name": "stdout",
     "output_type": "stream",
     "text": [
      "Collecting mnist\r\n"
     ]
    },
    {
     "name": "stdout",
     "output_type": "stream",
     "text": [
      "  Downloading mnist-0.2.2-py2.py3-none-any.whl (3.5 kB)\r\n",
      "Requirement already satisfied: numpy in /opt/hostedtoolcache/Python/3.6.15/x64/lib/python3.6/site-packages (from mnist) (1.19.5)\r\n"
     ]
    },
    {
     "name": "stdout",
     "output_type": "stream",
     "text": [
      "Installing collected packages: mnist\r\n"
     ]
    },
    {
     "name": "stdout",
     "output_type": "stream",
     "text": [
      "Successfully installed mnist-0.2.2\r\n"
     ]
    }
   ],
   "source": [
    "!pip install mnist"
   ]
  },
  {
   "cell_type": "markdown",
   "id": "69df9c9a",
   "metadata": {
    "papermill": {
     "duration": 0.03321,
     "end_time": "2022-08-23T20:11:25.220106",
     "exception": false,
     "start_time": "2022-08-23T20:11:25.186896",
     "status": "completed"
    },
    "tags": []
   },
   "source": [
    "## Preparing the Data"
   ]
  },
  {
   "cell_type": "code",
   "execution_count": 4,
   "id": "7f69d806",
   "metadata": {
    "execution": {
     "iopub.execute_input": "2022-08-23T20:11:25.296675Z",
     "iopub.status.busy": "2022-08-23T20:11:25.293149Z",
     "iopub.status.idle": "2022-08-23T20:11:25.311988Z",
     "shell.execute_reply": "2022-08-23T20:11:25.311299Z"
    },
    "papermill": {
     "duration": 0.05859,
     "end_time": "2022-08-23T20:11:25.312185",
     "exception": false,
     "start_time": "2022-08-23T20:11:25.253595",
     "status": "completed"
    },
    "tags": []
   },
   "outputs": [],
   "source": [
    "import mnist"
   ]
  },
  {
   "cell_type": "code",
   "execution_count": 5,
   "id": "a411e44f",
   "metadata": {
    "execution": {
     "iopub.execute_input": "2022-08-23T20:11:25.384402Z",
     "iopub.status.busy": "2022-08-23T20:11:25.383608Z",
     "iopub.status.idle": "2022-08-23T20:11:26.536377Z",
     "shell.execute_reply": "2022-08-23T20:11:26.535694Z"
    },
    "papermill": {
     "duration": 1.190806,
     "end_time": "2022-08-23T20:11:26.536565",
     "exception": false,
     "start_time": "2022-08-23T20:11:25.345759",
     "status": "completed"
    },
    "tags": []
   },
   "outputs": [],
   "source": [
    "train_images = mnist.train_images()\n",
    "train_labels = mnist.train_labels()"
   ]
  },
  {
   "cell_type": "code",
   "execution_count": 6,
   "id": "dceab3a5",
   "metadata": {
    "execution": {
     "iopub.execute_input": "2022-08-23T20:11:26.611529Z",
     "iopub.status.busy": "2022-08-23T20:11:26.610561Z",
     "iopub.status.idle": "2022-08-23T20:11:26.628401Z",
     "shell.execute_reply": "2022-08-23T20:11:26.627750Z"
    },
    "papermill": {
     "duration": 0.058703,
     "end_time": "2022-08-23T20:11:26.628556",
     "exception": false,
     "start_time": "2022-08-23T20:11:26.569853",
     "status": "completed"
    },
    "tags": []
   },
   "outputs": [
    {
     "data": {
      "text/plain": [
       "((60000, 28, 28), (60000,))"
      ]
     },
     "execution_count": 6,
     "metadata": {},
     "output_type": "execute_result"
    }
   ],
   "source": [
    "train_images.shape, train_labels.shape"
   ]
  },
  {
   "cell_type": "code",
   "execution_count": 7,
   "id": "f50dc2bb",
   "metadata": {
    "execution": {
     "iopub.execute_input": "2022-08-23T20:11:26.702039Z",
     "iopub.status.busy": "2022-08-23T20:11:26.701250Z",
     "iopub.status.idle": "2022-08-23T20:11:26.931530Z",
     "shell.execute_reply": "2022-08-23T20:11:26.930137Z"
    },
    "papermill": {
     "duration": 0.26952,
     "end_time": "2022-08-23T20:11:26.931695",
     "exception": false,
     "start_time": "2022-08-23T20:11:26.662175",
     "status": "completed"
    },
    "tags": []
   },
   "outputs": [],
   "source": [
    "test_images = mnist.test_images()\n",
    "test_labels = mnist.test_labels()"
   ]
  },
  {
   "cell_type": "code",
   "execution_count": 8,
   "id": "fc38cf1b",
   "metadata": {
    "execution": {
     "iopub.execute_input": "2022-08-23T20:11:27.009070Z",
     "iopub.status.busy": "2022-08-23T20:11:27.008262Z",
     "iopub.status.idle": "2022-08-23T20:11:27.026080Z",
     "shell.execute_reply": "2022-08-23T20:11:27.025221Z"
    },
    "papermill": {
     "duration": 0.05613,
     "end_time": "2022-08-23T20:11:27.026256",
     "exception": false,
     "start_time": "2022-08-23T20:11:26.970126",
     "status": "completed"
    },
    "tags": []
   },
   "outputs": [
    {
     "data": {
      "text/plain": [
       "((10000, 28, 28), (10000,))"
      ]
     },
     "execution_count": 8,
     "metadata": {},
     "output_type": "execute_result"
    }
   ],
   "source": [
    "test_images.shape, test_labels.shape"
   ]
  },
  {
   "cell_type": "code",
   "execution_count": 9,
   "id": "f9ed8fe0",
   "metadata": {
    "execution": {
     "iopub.execute_input": "2022-08-23T20:11:27.100726Z",
     "iopub.status.busy": "2022-08-23T20:11:27.099942Z",
     "iopub.status.idle": "2022-08-23T20:11:27.303696Z",
     "shell.execute_reply": "2022-08-23T20:11:27.302914Z"
    },
    "papermill": {
     "duration": 0.243636,
     "end_time": "2022-08-23T20:11:27.303849",
     "exception": false,
     "start_time": "2022-08-23T20:11:27.060213",
     "status": "completed"
    },
    "tags": []
   },
   "outputs": [
    {
     "name": "stdout",
     "output_type": "stream",
     "text": [
      "2\n"
     ]
    },
    {
     "data": {
      "text/plain": [
       "<matplotlib.image.AxesImage at 0x7f855047f9b0>"
      ]
     },
     "execution_count": 9,
     "metadata": {},
     "output_type": "execute_result"
    },
    {
     "data": {
      "image/png": "[encoded data removed]",
      "text/plain": [
       "<Figure size 432x288 with 1 Axes>"
      ]
     },
     "metadata": {
      "needs_background": "light"
     },
     "output_type": "display_data"
    }
   ],
   "source": [
    "image_index = 7776 # You may select anything up to 60,000\n",
    "print(train_labels[image_index]) \n",
    "plt.imshow(train_images[image_index], cmap='Greys')"
   ]
  },
  {
   "cell_type": "markdown",
   "id": "a8d2388d",
   "metadata": {
    "papermill": {
     "duration": 0.035408,
     "end_time": "2022-08-23T20:11:27.375307",
     "exception": false,
     "start_time": "2022-08-23T20:11:27.339899",
     "status": "completed"
    },
    "tags": []
   },
   "source": [
    "## Filter data to get 3 and 8 out"
   ]
  },
  {
   "cell_type": "code",
   "execution_count": 10,
   "id": "776f7fc7",
   "metadata": {
    "execution": {
     "iopub.execute_input": "2022-08-23T20:11:27.457032Z",
     "iopub.status.busy": "2022-08-23T20:11:27.451749Z",
     "iopub.status.idle": "2022-08-23T20:11:27.477755Z",
     "shell.execute_reply": "2022-08-23T20:11:27.477062Z"
    },
    "papermill": {
     "duration": 0.067313,
     "end_time": "2022-08-23T20:11:27.477911",
     "exception": false,
     "start_time": "2022-08-23T20:11:27.410598",
     "status": "completed"
    },
    "tags": []
   },
   "outputs": [],
   "source": [
    "train_filter = np.where((train_labels == 3 ) | (train_labels == 8))\n",
    "test_filter = np.where((test_labels == 3) | (test_labels == 8))\n",
    "X_train, y_train = train_images[train_filter], train_labels[train_filter]\n",
    "X_test, y_test = test_images[test_filter], test_labels[test_filter]"
   ]
  },
  {
   "cell_type": "markdown",
   "id": "948f0b7e",
   "metadata": {
    "papermill": {
     "duration": 0.03595,
     "end_time": "2022-08-23T20:11:27.549108",
     "exception": false,
     "start_time": "2022-08-23T20:11:27.513158",
     "status": "completed"
    },
    "tags": []
   },
   "source": [
    "We normalize the pizel values in the 0 to 1 range"
   ]
  },
  {
   "cell_type": "code",
   "execution_count": 11,
   "id": "ee4c2166",
   "metadata": {
    "execution": {
     "iopub.execute_input": "2022-08-23T20:11:27.626621Z",
     "iopub.status.busy": "2022-08-23T20:11:27.625796Z",
     "iopub.status.idle": "2022-08-23T20:11:27.693372Z",
     "shell.execute_reply": "2022-08-23T20:11:27.692667Z"
    },
    "papermill": {
     "duration": 0.108955,
     "end_time": "2022-08-23T20:11:27.693533",
     "exception": false,
     "start_time": "2022-08-23T20:11:27.584578",
     "status": "completed"
    },
    "tags": []
   },
   "outputs": [],
   "source": [
    "X_train = X_train/255.\n",
    "X_test = X_test/255."
   ]
  },
  {
   "cell_type": "markdown",
   "id": "ddcf4fab",
   "metadata": {
    "papermill": {
     "duration": 0.035786,
     "end_time": "2022-08-23T20:11:27.765497",
     "exception": false,
     "start_time": "2022-08-23T20:11:27.729711",
     "status": "completed"
    },
    "tags": []
   },
   "source": [
    "And setup the labels as 1 (when the digit is 3) and 0 (when the digit is 8)"
   ]
  },
  {
   "cell_type": "code",
   "execution_count": 12,
   "id": "7dc908f2",
   "metadata": {
    "execution": {
     "iopub.execute_input": "2022-08-23T20:11:27.842673Z",
     "iopub.status.busy": "2022-08-23T20:11:27.841888Z",
     "iopub.status.idle": "2022-08-23T20:11:27.857729Z",
     "shell.execute_reply": "2022-08-23T20:11:27.858362Z"
    },
    "papermill": {
     "duration": 0.056332,
     "end_time": "2022-08-23T20:11:27.858552",
     "exception": false,
     "start_time": "2022-08-23T20:11:27.802220",
     "status": "completed"
    },
    "tags": []
   },
   "outputs": [],
   "source": [
    "y_train = 1*(y_train==3)\n",
    "y_test = 1*(y_test==3)"
   ]
  },
  {
   "cell_type": "code",
   "execution_count": 13,
   "id": "01e4e969",
   "metadata": {
    "execution": {
     "iopub.execute_input": "2022-08-23T20:11:27.935423Z",
     "iopub.status.busy": "2022-08-23T20:11:27.934609Z",
     "iopub.status.idle": "2022-08-23T20:11:27.952776Z",
     "shell.execute_reply": "2022-08-23T20:11:27.952114Z"
    },
    "papermill": {
     "duration": 0.058978,
     "end_time": "2022-08-23T20:11:27.952930",
     "exception": false,
     "start_time": "2022-08-23T20:11:27.893952",
     "status": "completed"
    },
    "tags": []
   },
   "outputs": [
    {
     "data": {
      "text/plain": [
       "((11982, 28, 28), (1984, 28, 28))"
      ]
     },
     "execution_count": 13,
     "metadata": {},
     "output_type": "execute_result"
    }
   ],
   "source": [
    "X_train.shape, X_test.shape"
   ]
  },
  {
   "cell_type": "markdown",
   "id": "5ccf3f85",
   "metadata": {
    "papermill": {
     "duration": 0.035999,
     "end_time": "2022-08-23T20:11:28.024818",
     "exception": false,
     "start_time": "2022-08-23T20:11:27.988819",
     "status": "completed"
    },
    "tags": []
   },
   "source": [
    "We reshape the data to flatten the image pixels into a set of features or co-variates:"
   ]
  },
  {
   "cell_type": "code",
   "execution_count": 14,
   "id": "5286a4a3",
   "metadata": {
    "execution": {
     "iopub.execute_input": "2022-08-23T20:11:28.106790Z",
     "iopub.status.busy": "2022-08-23T20:11:28.105840Z",
     "iopub.status.idle": "2022-08-23T20:11:28.121596Z",
     "shell.execute_reply": "2022-08-23T20:11:28.120945Z"
    },
    "papermill": {
     "duration": 0.060945,
     "end_time": "2022-08-23T20:11:28.121749",
     "exception": false,
     "start_time": "2022-08-23T20:11:28.060804",
     "status": "completed"
    },
    "tags": []
   },
   "outputs": [
    {
     "data": {
      "text/plain": [
       "((11982, 784), (1984, 784))"
      ]
     },
     "execution_count": 14,
     "metadata": {},
     "output_type": "execute_result"
    }
   ],
   "source": [
    "X_train = X_train.reshape(X_train.shape[0], -1)\n",
    "X_test = X_test.reshape(X_test.shape[0], -1)\n",
    "X_train.shape, X_test.shape"
   ]
  },
  {
   "cell_type": "code",
   "execution_count": 15,
   "id": "73c5f88a",
   "metadata": {
    "execution": {
     "iopub.execute_input": "2022-08-23T20:11:28.202054Z",
     "iopub.status.busy": "2022-08-23T20:11:28.201245Z",
     "iopub.status.idle": "2022-08-23T20:11:28.224573Z",
     "shell.execute_reply": "2022-08-23T20:11:28.225176Z"
    },
    "papermill": {
     "duration": 0.066138,
     "end_time": "2022-08-23T20:11:28.225372",
     "exception": false,
     "start_time": "2022-08-23T20:11:28.159234",
     "status": "completed"
    },
    "tags": []
   },
   "outputs": [],
   "source": [
    "#Impoting functions from 'Kudzu'\n",
    "from kudzu.model import Model\n",
    "from kudzu.train import Learner\n",
    "from kudzu.optim import GD\n",
    "from kudzu.data import Data, Sampler,Dataloader\n",
    "\n",
    "from kudzu.callbacks import AccCallback\n",
    "from kudzu.callbacks import ClfCallback\n",
    "\n",
    "from kudzu.loss import MSE\n",
    "\n",
    "from kudzu.layer import Sigmoid,Relu\n",
    "from kudzu.layer import Affine"
   ]
  },
  {
   "cell_type": "markdown",
   "id": "bc01172a",
   "metadata": {
    "papermill": {
     "duration": 0.036417,
     "end_time": "2022-08-23T20:11:28.298276",
     "exception": false,
     "start_time": "2022-08-23T20:11:28.261859",
     "status": "completed"
    },
    "tags": []
   },
   "source": [
    "### Let us create a `Config` class, to store important parameters. \n",
    "This class essentially plays the role of a dictionary."
   ]
  },
  {
   "cell_type": "code",
   "execution_count": 16,
   "id": "978281aa",
   "metadata": {
    "execution": {
     "iopub.execute_input": "2022-08-23T20:11:28.378843Z",
     "iopub.status.busy": "2022-08-23T20:11:28.378026Z",
     "iopub.status.idle": "2022-08-23T20:11:28.395318Z",
     "shell.execute_reply": "2022-08-23T20:11:28.394653Z"
    },
    "papermill": {
     "duration": 0.058475,
     "end_time": "2022-08-23T20:11:28.395476",
     "exception": false,
     "start_time": "2022-08-23T20:11:28.337001",
     "status": "completed"
    },
    "tags": []
   },
   "outputs": [],
   "source": [
    "class Config:\n",
    "    pass\n",
    "config = Config()\n",
    "config.lr = 0.001\n",
    "config.num_epochs = 250\n",
    "config.bs = 50"
   ]
  },
  {
   "cell_type": "markdown",
   "id": "1385fa59",
   "metadata": {
    "papermill": {
     "duration": 0.035504,
     "end_time": "2022-08-23T20:11:28.467829",
     "exception": false,
     "start_time": "2022-08-23T20:11:28.432325",
     "status": "completed"
    },
    "tags": []
   },
   "source": [
    "### Running Models with the Training data\n",
    "Details about the network layers:\n",
    "- A first affine layer has 784 inputs and does 100 affine transforms. These are followed by a Relu\n",
    "- A second affine layer has 100 inputs from the 100 activations of the past layer, and does 100 affine transforms. These are followed by a Relu\n",
    "- A third affine layer has 100 activations and does 2 affine transformations to create an embedding for visualization. There is no non-linearity here.\n",
    "- A final \"logistic regression\" which has an affine transform from 2 inputs to 1 output, which is squeezed through a sigmoid.\n"
   ]
  },
  {
   "cell_type": "code",
   "execution_count": 17,
   "id": "2b9c66db",
   "metadata": {
    "execution": {
     "iopub.execute_input": "2022-08-23T20:11:28.546362Z",
     "iopub.status.busy": "2022-08-23T20:11:28.545584Z",
     "iopub.status.idle": "2022-08-23T20:11:28.560725Z",
     "shell.execute_reply": "2022-08-23T20:11:28.561347Z"
    },
    "papermill": {
     "duration": 0.058466,
     "end_time": "2022-08-23T20:11:28.561541",
     "exception": false,
     "start_time": "2022-08-23T20:11:28.503075",
     "status": "completed"
    },
    "tags": []
   },
   "outputs": [],
   "source": [
    "data = Data(X_train, y_train.reshape(-1,1))\n",
    "sampler = Sampler(data, config.bs, shuffle=True)\n",
    "\n",
    "dl = Dataloader(data, sampler)\n",
    "\n",
    "opt = GD(config.lr)\n",
    "loss = MSE()"
   ]
  },
  {
   "cell_type": "code",
   "execution_count": 18,
   "id": "b275e4c2",
   "metadata": {
    "execution": {
     "iopub.execute_input": "2022-08-23T20:11:28.639364Z",
     "iopub.status.busy": "2022-08-23T20:11:28.638538Z",
     "iopub.status.idle": "2022-08-23T20:11:28.654649Z",
     "shell.execute_reply": "2022-08-23T20:11:28.653985Z"
    },
    "papermill": {
     "duration": 0.05715,
     "end_time": "2022-08-23T20:11:28.654838",
     "exception": false,
     "start_time": "2022-08-23T20:11:28.597688",
     "status": "completed"
    },
    "tags": []
   },
   "outputs": [],
   "source": [
    "training_data_x = X_train\n",
    "testing_data_x = X_test\n",
    "training_data_y = y_train.reshape(-1,1)\n",
    "testing_data_y = y_test.reshape(-1,1)"
   ]
  },
  {
   "cell_type": "code",
   "execution_count": 19,
   "id": "76951160",
   "metadata": {
    "execution": {
     "iopub.execute_input": "2022-08-23T20:11:28.734015Z",
     "iopub.status.busy": "2022-08-23T20:11:28.733236Z",
     "iopub.status.idle": "2022-08-23T20:11:28.753220Z",
     "shell.execute_reply": "2022-08-23T20:11:28.753946Z"
    },
    "papermill": {
     "duration": 0.062396,
     "end_time": "2022-08-23T20:11:28.754120",
     "exception": false,
     "start_time": "2022-08-23T20:11:28.691724",
     "status": "completed"
    },
    "tags": []
   },
   "outputs": [
    {
     "name": "stdout",
     "output_type": "stream",
     "text": [
      "xavier\n",
      "xavier\n",
      "xavier\n",
      "xavier\n",
      "xavier\n"
     ]
    }
   ],
   "source": [
    "layers = [Affine(\"first\", 784, 100), Relu(\"first\"), Affine(\"second\", 100, 100), Relu(\"second\"), Affine(\"third\", 100, 2), Affine(\"last\", 2, 1), Sigmoid(\"last\")]\n",
    "model_nn = Model(layers)\n",
    "model_lr = Model([Affine(\"logits\", 784, 1), Sigmoid(\"sigmoid\")])"
   ]
  },
  {
   "cell_type": "code",
   "execution_count": 20,
   "id": "6eede77a",
   "metadata": {
    "execution": {
     "iopub.execute_input": "2022-08-23T20:11:28.833956Z",
     "iopub.status.busy": "2022-08-23T20:11:28.833098Z",
     "iopub.status.idle": "2022-08-23T20:11:28.849681Z",
     "shell.execute_reply": "2022-08-23T20:11:28.850273Z"
    },
    "papermill": {
     "duration": 0.060223,
     "end_time": "2022-08-23T20:11:28.850458",
     "exception": false,
     "start_time": "2022-08-23T20:11:28.790235",
     "status": "completed"
    },
    "tags": []
   },
   "outputs": [],
   "source": [
    "nn_learner = Learner(loss, model_nn, opt, config.num_epochs)\n",
    "acc_nn = ClfCallback(nn_learner, config.bs, training_data_x , testing_data_x, training_data_y, testing_data_y)\n",
    "nn_learner.set_callbacks([acc_nn])"
   ]
  },
  {
   "cell_type": "code",
   "execution_count": 21,
   "id": "877b6cc7",
   "metadata": {
    "execution": {
     "iopub.execute_input": "2022-08-23T20:11:28.928998Z",
     "iopub.status.busy": "2022-08-23T20:11:28.928147Z",
     "iopub.status.idle": "2022-08-23T20:11:28.946344Z",
     "shell.execute_reply": "2022-08-23T20:11:28.945672Z"
    },
    "papermill": {
     "duration": 0.05834,
     "end_time": "2022-08-23T20:11:28.946504",
     "exception": false,
     "start_time": "2022-08-23T20:11:28.888164",
     "status": "completed"
    },
    "tags": []
   },
   "outputs": [],
   "source": [
    "lr_learner = Learner(loss, model_lr, opt, config.num_epochs)\n",
    "acc_lr = ClfCallback(lr_learner, config.bs, training_data_x , testing_data_x, training_data_y, testing_data_y)\n",
    "lr_learner.set_callbacks([acc_lr])"
   ]
  },
  {
   "cell_type": "code",
   "execution_count": 22,
   "id": "d9b133c3",
   "metadata": {
    "execution": {
     "iopub.execute_input": "2022-08-23T20:11:29.035154Z",
     "iopub.status.busy": "2022-08-23T20:11:29.034318Z",
     "iopub.status.idle": "2022-08-23T20:13:53.604578Z",
     "shell.execute_reply": "2022-08-23T20:13:53.610162Z"
    },
    "papermill": {
     "duration": 144.617907,
     "end_time": "2022-08-23T20:13:53.610484",
     "exception": false,
     "start_time": "2022-08-23T20:11:28.992577",
     "status": "completed"
    },
    "tags": []
   },
   "outputs": [
    {
     "name": "stdout",
     "output_type": "stream",
     "text": [
      "Epoch 0, Loss 0.2481\n",
      "Training Accuracy: 0.5840, Testing Accuracy: 0.5680\n",
      "\n"
     ]
    },
    {
     "name": "stdout",
     "output_type": "stream",
     "text": [
      "Epoch 10, Loss 0.1379\n",
      "Training Accuracy: 0.8970, Testing Accuracy: 0.9093\n",
      "\n"
     ]
    },
    {
     "name": "stdout",
     "output_type": "stream",
     "text": [
      "Epoch 20, Loss 0.0731\n",
      "Training Accuracy: 0.9279, Testing Accuracy: 0.9415\n",
      "\n"
     ]
    },
    {
     "name": "stdout",
     "output_type": "stream",
     "text": [
      "Epoch 30, Loss 0.0526\n",
      "Training Accuracy: 0.9431, Testing Accuracy: 0.9546\n",
      "\n"
     ]
    },
    {
     "name": "stdout",
     "output_type": "stream",
     "text": [
      "Epoch 40, Loss 0.0435\n",
      "Training Accuracy: 0.9513, Testing Accuracy: 0.9602\n",
      "\n"
     ]
    },
    {
     "name": "stdout",
     "output_type": "stream",
     "text": [
      "Epoch 50, Loss 0.0385\n",
      "Training Accuracy: 0.9549, Testing Accuracy: 0.9637\n",
      "\n"
     ]
    },
    {
     "name": "stdout",
     "output_type": "stream",
     "text": [
      "Epoch 60, Loss 0.0353\n",
      "Training Accuracy: 0.9580, Testing Accuracy: 0.9637\n",
      "\n"
     ]
    },
    {
     "name": "stdout",
     "output_type": "stream",
     "text": [
      "Epoch 70, Loss 0.0329\n",
      "Training Accuracy: 0.9610, Testing Accuracy: 0.9672\n",
      "\n"
     ]
    },
    {
     "name": "stdout",
     "output_type": "stream",
     "text": [
      "Epoch 80, Loss 0.0312\n",
      "Training Accuracy: 0.9632, Testing Accuracy: 0.9667\n",
      "\n"
     ]
    },
    {
     "name": "stdout",
     "output_type": "stream",
     "text": [
      "Epoch 90, Loss 0.0297\n",
      "Training Accuracy: 0.9655, Testing Accuracy: 0.9682\n",
      "\n"
     ]
    },
    {
     "name": "stdout",
     "output_type": "stream",
     "text": [
      "Epoch 100, Loss 0.0285\n",
      "Training Accuracy: 0.9664, Testing Accuracy: 0.9693\n",
      "\n"
     ]
    },
    {
     "name": "stdout",
     "output_type": "stream",
     "text": [
      "Epoch 110, Loss 0.0274\n",
      "Training Accuracy: 0.9680, Testing Accuracy: 0.9688\n",
      "\n"
     ]
    },
    {
     "name": "stdout",
     "output_type": "stream",
     "text": [
      "Epoch 120, Loss 0.0265\n",
      "Training Accuracy: 0.9690, Testing Accuracy: 0.9693\n",
      "\n"
     ]
    },
    {
     "name": "stdout",
     "output_type": "stream",
     "text": [
      "Epoch 130, Loss 0.0257\n",
      "Training Accuracy: 0.9696, Testing Accuracy: 0.9713\n",
      "\n"
     ]
    },
    {
     "name": "stdout",
     "output_type": "stream",
     "text": [
      "Epoch 140, Loss 0.025\n",
      "Training Accuracy: 0.9699, Testing Accuracy: 0.9708\n",
      "\n"
     ]
    },
    {
     "name": "stdout",
     "output_type": "stream",
     "text": [
      "Epoch 150, Loss 0.0244\n",
      "Training Accuracy: 0.9706, Testing Accuracy: 0.9708\n",
      "\n"
     ]
    },
    {
     "name": "stdout",
     "output_type": "stream",
     "text": [
      "Epoch 160, Loss 0.0238\n",
      "Training Accuracy: 0.9715, Testing Accuracy: 0.9713\n",
      "\n"
     ]
    },
    {
     "name": "stdout",
     "output_type": "stream",
     "text": [
      "Epoch 170, Loss 0.0232\n",
      "Training Accuracy: 0.9720, Testing Accuracy: 0.9713\n",
      "\n"
     ]
    },
    {
     "name": "stdout",
     "output_type": "stream",
     "text": [
      "Epoch 180, Loss 0.0227\n",
      "Training Accuracy: 0.9730, Testing Accuracy: 0.9718\n",
      "\n"
     ]
    },
    {
     "name": "stdout",
     "output_type": "stream",
     "text": [
      "Epoch 190, Loss 0.0222\n",
      "Training Accuracy: 0.9736, Testing Accuracy: 0.9723\n",
      "\n"
     ]
    },
    {
     "name": "stdout",
     "output_type": "stream",
     "text": [
      "Epoch 200, Loss 0.0217\n",
      "Training Accuracy: 0.9740, Testing Accuracy: 0.9728\n",
      "\n"
     ]
    },
    {
     "name": "stdout",
     "output_type": "stream",
     "text": [
      "Epoch 210, Loss 0.0213\n",
      "Training Accuracy: 0.9747, Testing Accuracy: 0.9728\n",
      "\n"
     ]
    },
    {
     "name": "stdout",
     "output_type": "stream",
     "text": [
      "Epoch 220, Loss 0.0209\n",
      "Training Accuracy: 0.9754, Testing Accuracy: 0.9728\n",
      "\n"
     ]
    },
    {
     "name": "stdout",
     "output_type": "stream",
     "text": [
      "Epoch 230, Loss 0.0205\n",
      "Training Accuracy: 0.9757, Testing Accuracy: 0.9728\n",
      "\n"
     ]
    },
    {
     "name": "stdout",
     "output_type": "stream",
     "text": [
      "Epoch 240, Loss 0.0201\n",
      "Training Accuracy: 0.9761, Testing Accuracy: 0.9728\n",
      "\n"
     ]
    },
    {
     "data": {
      "text/plain": [
       "0.040126621212659794"
      ]
     },
     "execution_count": 22,
     "metadata": {},
     "output_type": "execute_result"
    }
   ],
   "source": [
    "nn_learner.train_loop(dl)"
   ]
  },
  {
   "cell_type": "code",
   "execution_count": 23,
   "id": "e0163366",
   "metadata": {
    "execution": {
     "iopub.execute_input": "2022-08-23T20:13:53.732652Z",
     "iopub.status.busy": "2022-08-23T20:13:53.731836Z",
     "iopub.status.idle": "2022-08-23T20:14:15.555231Z",
     "shell.execute_reply": "2022-08-23T20:14:15.556313Z"
    },
    "papermill": {
     "duration": 21.888683,
     "end_time": "2022-08-23T20:14:15.556500",
     "exception": false,
     "start_time": "2022-08-23T20:13:53.667817",
     "status": "completed"
    },
    "tags": []
   },
   "outputs": [
    {
     "name": "stdout",
     "output_type": "stream",
     "text": [
      "Epoch 0, Loss 0.2229\n",
      "Training Accuracy: 0.7587, Testing Accuracy: 0.7732\n",
      "\n"
     ]
    },
    {
     "name": "stdout",
     "output_type": "stream",
     "text": [
      "Epoch 10, Loss 0.0973\n",
      "Training Accuracy: 0.9213, Testing Accuracy: 0.9309\n",
      "\n"
     ]
    },
    {
     "name": "stdout",
     "output_type": "stream",
     "text": [
      "Epoch 20, Loss 0.0756\n",
      "Training Accuracy: 0.9357, Testing Accuracy: 0.9425\n",
      "\n"
     ]
    },
    {
     "name": "stdout",
     "output_type": "stream",
     "text": [
      "Epoch 30, Loss 0.0656\n",
      "Training Accuracy: 0.9415, Testing Accuracy: 0.9521\n",
      "\n"
     ]
    },
    {
     "name": "stdout",
     "output_type": "stream",
     "text": [
      "Epoch 40, Loss 0.0595\n",
      "Training Accuracy: 0.9454, Testing Accuracy: 0.9561\n",
      "\n"
     ]
    },
    {
     "name": "stdout",
     "output_type": "stream",
     "text": [
      "Epoch 50, Loss 0.0554\n",
      "Training Accuracy: 0.9483, Testing Accuracy: 0.9597\n",
      "\n"
     ]
    },
    {
     "name": "stdout",
     "output_type": "stream",
     "text": [
      "Epoch 60, Loss 0.0524\n",
      "Training Accuracy: 0.9508, Testing Accuracy: 0.9602\n",
      "\n"
     ]
    },
    {
     "name": "stdout",
     "output_type": "stream",
     "text": [
      "Epoch 70, Loss 0.05\n",
      "Training Accuracy: 0.9523, Testing Accuracy: 0.9612\n",
      "\n"
     ]
    },
    {
     "name": "stdout",
     "output_type": "stream",
     "text": [
      "Epoch 80, Loss 0.0481\n",
      "Training Accuracy: 0.9528, Testing Accuracy: 0.9622\n",
      "\n"
     ]
    },
    {
     "name": "stdout",
     "output_type": "stream",
     "text": [
      "Epoch 90, Loss 0.0465\n",
      "Training Accuracy: 0.9541, Testing Accuracy: 0.9637\n",
      "\n"
     ]
    },
    {
     "name": "stdout",
     "output_type": "stream",
     "text": [
      "Epoch 100, Loss 0.0452\n",
      "Training Accuracy: 0.9556, Testing Accuracy: 0.9637\n",
      "\n"
     ]
    },
    {
     "name": "stdout",
     "output_type": "stream",
     "text": [
      "Epoch 110, Loss 0.0441\n",
      "Training Accuracy: 0.9564, Testing Accuracy: 0.9642\n",
      "\n"
     ]
    },
    {
     "name": "stdout",
     "output_type": "stream",
     "text": [
      "Epoch 120, Loss 0.0431\n",
      "Training Accuracy: 0.9568, Testing Accuracy: 0.9647\n",
      "\n"
     ]
    },
    {
     "name": "stdout",
     "output_type": "stream",
     "text": [
      "Epoch 130, Loss 0.0422\n",
      "Training Accuracy: 0.9573, Testing Accuracy: 0.9652\n",
      "\n"
     ]
    },
    {
     "name": "stdout",
     "output_type": "stream",
     "text": [
      "Epoch 140, Loss 0.0414\n",
      "Training Accuracy: 0.9583, Testing Accuracy: 0.9662\n",
      "\n"
     ]
    },
    {
     "name": "stdout",
     "output_type": "stream",
     "text": [
      "Epoch 150, Loss 0.0407\n",
      "Training Accuracy: 0.9584, Testing Accuracy: 0.9667\n",
      "\n"
     ]
    },
    {
     "name": "stdout",
     "output_type": "stream",
     "text": [
      "Epoch 160, Loss 0.0401\n",
      "Training Accuracy: 0.9585, Testing Accuracy: 0.9677\n",
      "\n"
     ]
    },
    {
     "name": "stdout",
     "output_type": "stream",
     "text": [
      "Epoch 170, Loss 0.0395\n",
      "Training Accuracy: 0.9589, Testing Accuracy: 0.9682\n",
      "\n"
     ]
    },
    {
     "name": "stdout",
     "output_type": "stream",
     "text": [
      "Epoch 180, Loss 0.039\n",
      "Training Accuracy: 0.9589, Testing Accuracy: 0.9682\n",
      "\n"
     ]
    },
    {
     "name": "stdout",
     "output_type": "stream",
     "text": [
      "Epoch 190, Loss 0.0385\n",
      "Training Accuracy: 0.9594, Testing Accuracy: 0.9688\n",
      "\n"
     ]
    },
    {
     "name": "stdout",
     "output_type": "stream",
     "text": [
      "Epoch 200, Loss 0.0381\n",
      "Training Accuracy: 0.9598, Testing Accuracy: 0.9693\n",
      "\n"
     ]
    },
    {
     "name": "stdout",
     "output_type": "stream",
     "text": [
      "Epoch 210, Loss 0.0377\n",
      "Training Accuracy: 0.9604, Testing Accuracy: 0.9688\n",
      "\n"
     ]
    },
    {
     "name": "stdout",
     "output_type": "stream",
     "text": [
      "Epoch 220, Loss 0.0373\n",
      "Training Accuracy: 0.9607, Testing Accuracy: 0.9682\n",
      "\n"
     ]
    },
    {
     "name": "stdout",
     "output_type": "stream",
     "text": [
      "Epoch 230, Loss 0.0369\n",
      "Training Accuracy: 0.9608, Testing Accuracy: 0.9682\n",
      "\n"
     ]
    },
    {
     "name": "stdout",
     "output_type": "stream",
     "text": [
      "Epoch 240, Loss 0.0366\n",
      "Training Accuracy: 0.9607, Testing Accuracy: 0.9688\n",
      "\n"
     ]
    },
    {
     "data": {
      "text/plain": [
       "0.024131075721024336"
      ]
     },
     "execution_count": 23,
     "metadata": {},
     "output_type": "execute_result"
    }
   ],
   "source": [
    "lr_learner.train_loop(dl)"
   ]
  },
  {
   "cell_type": "code",
   "execution_count": 24,
   "id": "ca410940",
   "metadata": {
    "execution": {
     "iopub.execute_input": "2022-08-23T20:14:15.676681Z",
     "iopub.status.busy": "2022-08-23T20:14:15.675350Z",
     "iopub.status.idle": "2022-08-23T20:14:16.022029Z",
     "shell.execute_reply": "2022-08-23T20:14:16.022637Z"
    },
    "papermill": {
     "duration": 0.410468,
     "end_time": "2022-08-23T20:14:16.022856",
     "exception": false,
     "start_time": "2022-08-23T20:14:15.612388",
     "status": "completed"
    },
    "tags": []
   },
   "outputs": [
    {
     "data": {
      "text/plain": [
       "<matplotlib.legend.Legend at 0x7f854ffdee10>"
      ]
     },
     "execution_count": 24,
     "metadata": {},
     "output_type": "execute_result"
    },
    {
     "data": {
      "image/png": "[encoded data removed]",
      "text/plain": [
       "<Figure size 1080x720 with 1 Axes>"
      ]
     },
     "metadata": {
      "needs_background": "light"
     },
     "output_type": "display_data"
    }
   ],
   "source": [
    "#comparing the results of NN and LR\n",
    "plt.figure(figsize=(15,10))\n",
    "\n",
    "# Neural Network plots\n",
    "plt.plot(acc_nn.accuracies, 'r-', label = \"Training Accuracies - NN\")\n",
    "plt.plot(acc_nn.test_accuracies, 'g-', label = \"Testing Accuracies - NN\")\n",
    "\n",
    "# Logistic Regression plots\n",
    "plt.plot(acc_lr.accuracies, 'k-', label = \"Training Accuracies - LR\")\n",
    "plt.plot(acc_lr.test_accuracies, 'b-', label = \"Testing Accuracies - LR\")\n",
    "plt.legend()"
   ]
  },
  {
   "cell_type": "markdown",
   "id": "80dfb35c",
   "metadata": {
    "papermill": {
     "duration": 0.057161,
     "end_time": "2022-08-23T20:14:16.140142",
     "exception": false,
     "start_time": "2022-08-23T20:14:16.082981",
     "status": "completed"
    },
    "tags": []
   },
   "source": [
    "#### Plotting the outputs of this layer of the NN.\n"
   ]
  },
  {
   "cell_type": "code",
   "execution_count": 25,
   "id": "45eb2ff5",
   "metadata": {
    "execution": {
     "iopub.execute_input": "2022-08-23T20:14:16.264621Z",
     "iopub.status.busy": "2022-08-23T20:14:16.260306Z",
     "iopub.status.idle": "2022-08-23T20:14:16.296219Z",
     "shell.execute_reply": "2022-08-23T20:14:16.295041Z"
    },
    "papermill": {
     "duration": 0.100837,
     "end_time": "2022-08-23T20:14:16.296453",
     "exception": false,
     "start_time": "2022-08-23T20:14:16.195616",
     "status": "completed"
    },
    "tags": []
   },
   "outputs": [],
   "source": [
    "new_model = Model(layers[:-2])\n",
    "testing_plot = new_model(testing_data_x)"
   ]
  },
  {
   "cell_type": "code",
   "execution_count": 26,
   "id": "4c0a5485",
   "metadata": {
    "execution": {
     "iopub.execute_input": "2022-08-23T20:14:16.422061Z",
     "iopub.status.busy": "2022-08-23T20:14:16.420491Z",
     "iopub.status.idle": "2022-08-23T20:14:16.686817Z",
     "shell.execute_reply": "2022-08-23T20:14:16.686120Z"
    },
    "papermill": {
     "duration": 0.331376,
     "end_time": "2022-08-23T20:14:16.686976",
     "exception": false,
     "start_time": "2022-08-23T20:14:16.355600",
     "status": "completed"
    },
    "tags": []
   },
   "outputs": [
    {
     "data": {
      "text/plain": [
       "Text(0.5, 1.0, 'Outputs')"
      ]
     },
     "execution_count": 26,
     "metadata": {},
     "output_type": "execute_result"
    },
    {
     "data": {
      "image/png": "[encoded data removed]",
      "text/plain": [
       "<Figure size 576x504 with 1 Axes>"
      ]
     },
     "metadata": {
      "needs_background": "light"
     },
     "output_type": "display_data"
    }
   ],
   "source": [
    "# Plotting the scatter plot of points and color coding by class\n",
    "plt.figure(figsize=(8,7))\n",
    "plt.scatter(testing_plot[:,0], testing_plot[:,1], alpha = 0.1, c = y_test.ravel());\n",
    "plt.title('Outputs')"
   ]
  },
  {
   "cell_type": "markdown",
   "id": "a74fcf8f",
   "metadata": {
    "papermill": {
     "duration": 0.094828,
     "end_time": "2022-08-23T20:14:16.840498",
     "exception": false,
     "start_time": "2022-08-23T20:14:16.745670",
     "status": "completed"
    },
    "tags": []
   },
   "source": [
    "Probability contours"
   ]
  },
  {
   "cell_type": "code",
   "execution_count": 27,
   "id": "d0afc8e3",
   "metadata": {
    "execution": {
     "iopub.execute_input": "2022-08-23T20:14:16.964460Z",
     "iopub.status.busy": "2022-08-23T20:14:16.963270Z",
     "iopub.status.idle": "2022-08-23T20:14:16.978584Z",
     "shell.execute_reply": "2022-08-23T20:14:16.979247Z"
    },
    "papermill": {
     "duration": 0.079462,
     "end_time": "2022-08-23T20:14:16.979435",
     "exception": false,
     "start_time": "2022-08-23T20:14:16.899973",
     "status": "completed"
    },
    "tags": []
   },
   "outputs": [],
   "source": [
    "model_prob = Model(layers[-2:]) "
   ]
  },
  {
   "cell_type": "code",
   "execution_count": 28,
   "id": "9b96e238",
   "metadata": {
    "execution": {
     "iopub.execute_input": "2022-08-23T20:14:17.103017Z",
     "iopub.status.busy": "2022-08-23T20:14:17.101716Z",
     "iopub.status.idle": "2022-08-23T20:14:17.122870Z",
     "shell.execute_reply": "2022-08-23T20:14:17.123505Z"
    },
    "papermill": {
     "duration": 0.086671,
     "end_time": "2022-08-23T20:14:17.123706",
     "exception": false,
     "start_time": "2022-08-23T20:14:17.037035",
     "status": "completed"
    },
    "tags": []
   },
   "outputs": [],
   "source": [
    "#creating the x and y ranges according to the above generated plot.\n",
    "x_range = np.linspace(-4, 1, 100) \n",
    "y_range = np.linspace(-6, 6, 100) \n",
    "x_grid, y_grid = np.meshgrid(x_range, y_range) # x_grid and y_grig are of size 100 X 100\n",
    "\n",
    "# converting x_grid and y_grid to continuous arrays\n",
    "x_gridflat = np.ravel(x_grid)\n",
    "y_gridflat = np.ravel(y_grid)\n",
    "\n",
    "# The last layer of the current model takes two columns as input. Hence transpose of np.vstack() is required.\n",
    "X = np.vstack((x_gridflat, y_gridflat)).T\n",
    "\n",
    "prob_contour = model_prob(X).reshape(100,100) "
   ]
  },
  {
   "cell_type": "code",
   "execution_count": 29,
   "id": "da72499a",
   "metadata": {
    "execution": {
     "iopub.execute_input": "2022-08-23T20:14:17.254377Z",
     "iopub.status.busy": "2022-08-23T20:14:17.253563Z",
     "iopub.status.idle": "2022-08-23T20:14:17.597451Z",
     "shell.execute_reply": "2022-08-23T20:14:17.596766Z"
    },
    "papermill": {
     "duration": 0.416008,
     "end_time": "2022-08-23T20:14:17.597604",
     "exception": false,
     "start_time": "2022-08-23T20:14:17.181596",
     "status": "completed"
    },
    "tags": []
   },
   "outputs": [
    {
     "data": {
      "image/png": "[encoded data removed]",
      "text/plain": [
       "<Figure size 720x648 with 1 Axes>"
      ]
     },
     "metadata": {
      "needs_background": "light"
     },
     "output_type": "display_data"
    }
   ],
   "source": [
    "plt.figure(figsize=(10,9))\n",
    "plt.scatter(testing_plot[:,0], testing_plot[:,1], alpha = 0.1, c = y_test.ravel())\n",
    "contours = plt.contour(x_grid,y_grid,prob_contour)\n",
    "plt.title('Probability Contours')\n",
    "plt.clabel(contours, inline = True );"
   ]
  },
  {
   "cell_type": "code",
   "execution_count": null,
   "id": "e81b4ac7",
   "metadata": {
    "papermill": {
     "duration": 0.060974,
     "end_time": "2022-08-23T20:14:17.718948",
     "exception": false,
     "start_time": "2022-08-23T20:14:17.657974",
     "status": "completed"
    },
    "tags": []
   },
   "outputs": [],
   "source": []
  }
 ],
 "metadata": {
  "kernelspec": {
   "display_name": "Python 3",
   "language": "python",
   "name": "python3"
  },
  "language_info": {
   "codemirror_mode": {
    "name": "ipython",
    "version": 3
   },
   "file_extension": ".py",
   "mimetype": "text/x-python",
   "name": "python",
   "nbconvert_exporter": "python",
   "pygments_lexer": "ipython3",
   "version": "3.6.15"
  },
  "papermill": {
   "default_parameters": {},
   "duration": 177.733696,
   "end_time": "2022-08-23T20:14:18.301417",
   "environment_variables": {},
   "exception": null,
   "input_path": "2020-08-11-part2.ipynb",
   "output_path": "2020-08-11-part2.ipynb",
   "parameters": {},
   "start_time": "2022-08-23T20:11:20.567721",
   "version": "2.3.3"
  }
 },
 "nbformat": 4,
 "nbformat_minor": 5
}