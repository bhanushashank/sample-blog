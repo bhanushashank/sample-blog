{
 "cells": [
  {
   "cell_type": "markdown",
   "id": "98380cd3",
   "metadata": {
    "papermill": {
     "duration": 0.028641,
     "end_time": "2022-05-14T00:43:13.501092",
     "exception": false,
     "start_time": "2022-05-14T00:43:13.472451",
     "status": "completed"
    },
    "tags": []
   },
   "source": [
    "# Distinguish Your Own Digits (DYOD)"
   ]
  },
  {
   "cell_type": "markdown",
   "id": "ef31240d",
   "metadata": {
    "papermill": {
     "duration": 0.025231,
     "end_time": "2022-05-14T00:43:13.550878",
     "exception": false,
     "start_time": "2022-05-14T00:43:13.525647",
     "status": "completed"
    },
    "tags": []
   },
   "source": [
    "You are going to write a classifier that distinguishes between the number 3 and number 8."
   ]
  },
  {
   "cell_type": "code",
   "execution_count": 1,
   "id": "b15c8646",
   "metadata": {
    "execution": {
     "iopub.execute_input": "2022-05-14T00:43:13.608718Z",
     "iopub.status.busy": "2022-05-14T00:43:13.608200Z",
     "iopub.status.idle": "2022-05-14T00:43:13.618764Z",
     "shell.execute_reply": "2022-05-14T00:43:13.618337Z"
    },
    "papermill": {
     "duration": 0.04404,
     "end_time": "2022-05-14T00:43:13.618887",
     "exception": false,
     "start_time": "2022-05-14T00:43:13.574847",
     "status": "completed"
    },
    "tags": []
   },
   "outputs": [],
   "source": [
    "%load_ext autoreload\n",
    "%autoreload 2"
   ]
  },
  {
   "cell_type": "code",
   "execution_count": 2,
   "id": "22ef38dc",
   "metadata": {
    "execution": {
     "iopub.execute_input": "2022-05-14T00:43:13.673928Z",
     "iopub.status.busy": "2022-05-14T00:43:13.673420Z",
     "iopub.status.idle": "2022-05-14T00:43:14.203858Z",
     "shell.execute_reply": "2022-05-14T00:43:14.203331Z"
    },
    "papermill": {
     "duration": 0.561266,
     "end_time": "2022-05-14T00:43:14.203999",
     "exception": false,
     "start_time": "2022-05-14T00:43:13.642733",
     "status": "completed"
    },
    "tags": []
   },
   "outputs": [],
   "source": [
    "%matplotlib inline\n",
    "import numpy as np\n",
    "import matplotlib.pyplot as plt\n",
    "import pandas as pd"
   ]
  },
  {
   "cell_type": "markdown",
   "id": "ba036198",
   "metadata": {
    "papermill": {
     "duration": 0.023821,
     "end_time": "2022-05-14T00:43:14.252244",
     "exception": false,
     "start_time": "2022-05-14T00:43:14.228423",
     "status": "completed"
    },
    "tags": []
   },
   "source": [
    "From the command line run `pip install mnist`. This is a library that will help you bring down the mnist dataset. If you run this from a notebook, you need to put  `!pip install mnist` in a cell by itself."
   ]
  },
  {
   "cell_type": "code",
   "execution_count": 3,
   "id": "bb6ad8a1",
   "metadata": {
    "execution": {
     "iopub.execute_input": "2022-05-14T00:43:14.308283Z",
     "iopub.status.busy": "2022-05-14T00:43:14.307778Z",
     "iopub.status.idle": "2022-05-14T00:43:16.030221Z",
     "shell.execute_reply": "2022-05-14T00:43:16.029691Z"
    },
    "papermill": {
     "duration": 1.754204,
     "end_time": "2022-05-14T00:43:16.030367",
     "exception": false,
     "start_time": "2022-05-14T00:43:14.276163",
     "status": "completed"
    },
    "tags": []
   },
   "outputs": [
    {
     "name": "stdout",
     "output_type": "stream",
     "text": [
      "Collecting mnist\r\n"
     ]
    },
    {
     "name": "stdout",
     "output_type": "stream",
     "text": [
      "  Downloading mnist-0.2.2-py2.py3-none-any.whl (3.5 kB)\r\n"
     ]
    },
    {
     "name": "stdout",
     "output_type": "stream",
     "text": [
      "Requirement already satisfied: numpy in /opt/hostedtoolcache/Python/3.6.15/x64/lib/python3.6/site-packages (from mnist) (1.19.5)\r\n"
     ]
    },
    {
     "name": "stdout",
     "output_type": "stream",
     "text": [
      "Installing collected packages: mnist\r\n",
      "Successfully installed mnist-0.2.2\r\n"
     ]
    }
   ],
   "source": [
    "!pip install mnist"
   ]
  },
  {
   "cell_type": "markdown",
   "id": "69df9c9a",
   "metadata": {
    "papermill": {
     "duration": 0.02493,
     "end_time": "2022-05-14T00:43:16.080701",
     "exception": false,
     "start_time": "2022-05-14T00:43:16.055771",
     "status": "completed"
    },
    "tags": []
   },
   "source": [
    "## Preparing the Data"
   ]
  },
  {
   "cell_type": "code",
   "execution_count": 4,
   "id": "7f69d806",
   "metadata": {
    "execution": {
     "iopub.execute_input": "2022-05-14T00:43:16.133931Z",
     "iopub.status.busy": "2022-05-14T00:43:16.133421Z",
     "iopub.status.idle": "2022-05-14T00:43:16.147559Z",
     "shell.execute_reply": "2022-05-14T00:43:16.147941Z"
    },
    "papermill": {
     "duration": 0.042622,
     "end_time": "2022-05-14T00:43:16.148068",
     "exception": false,
     "start_time": "2022-05-14T00:43:16.105446",
     "status": "completed"
    },
    "tags": []
   },
   "outputs": [],
   "source": [
    "import mnist"
   ]
  },
  {
   "cell_type": "code",
   "execution_count": 5,
   "id": "a411e44f",
   "metadata": {
    "execution": {
     "iopub.execute_input": "2022-05-14T00:43:16.200883Z",
     "iopub.status.busy": "2022-05-14T00:43:16.200338Z",
     "iopub.status.idle": "2022-05-14T00:43:16.720433Z",
     "shell.execute_reply": "2022-05-14T00:43:16.719946Z"
    },
    "papermill": {
     "duration": 0.547593,
     "end_time": "2022-05-14T00:43:16.720565",
     "exception": false,
     "start_time": "2022-05-14T00:43:16.172972",
     "status": "completed"
    },
    "tags": []
   },
   "outputs": [],
   "source": [
    "train_images = mnist.train_images()\n",
    "train_labels = mnist.train_labels()"
   ]
  },
  {
   "cell_type": "code",
   "execution_count": 6,
   "id": "dceab3a5",
   "metadata": {
    "execution": {
     "iopub.execute_input": "2022-05-14T00:43:16.789622Z",
     "iopub.status.busy": "2022-05-14T00:43:16.788965Z",
     "iopub.status.idle": "2022-05-14T00:43:16.792018Z",
     "shell.execute_reply": "2022-05-14T00:43:16.791329Z"
    },
    "papermill": {
     "duration": 0.046332,
     "end_time": "2022-05-14T00:43:16.792127",
     "exception": false,
     "start_time": "2022-05-14T00:43:16.745795",
     "status": "completed"
    },
    "tags": []
   },
   "outputs": [
    {
     "data": {
      "text/plain": [
       "((60000, 28, 28), (60000,))"
      ]
     },
     "execution_count": 6,
     "metadata": {},
     "output_type": "execute_result"
    }
   ],
   "source": [
    "train_images.shape, train_labels.shape"
   ]
  },
  {
   "cell_type": "code",
   "execution_count": 7,
   "id": "f50dc2bb",
   "metadata": {
    "execution": {
     "iopub.execute_input": "2022-05-14T00:43:16.845553Z",
     "iopub.status.busy": "2022-05-14T00:43:16.845046Z",
     "iopub.status.idle": "2022-05-14T00:43:16.992183Z",
     "shell.execute_reply": "2022-05-14T00:43:16.991664Z"
    },
    "papermill": {
     "duration": 0.175276,
     "end_time": "2022-05-14T00:43:16.992318",
     "exception": false,
     "start_time": "2022-05-14T00:43:16.817042",
     "status": "completed"
    },
    "tags": []
   },
   "outputs": [],
   "source": [
    "test_images = mnist.test_images()\n",
    "test_labels = mnist.test_labels()"
   ]
  },
  {
   "cell_type": "code",
   "execution_count": 8,
   "id": "fc38cf1b",
   "metadata": {
    "execution": {
     "iopub.execute_input": "2022-05-14T00:43:17.046725Z",
     "iopub.status.busy": "2022-05-14T00:43:17.046220Z",
     "iopub.status.idle": "2022-05-14T00:43:17.060604Z",
     "shell.execute_reply": "2022-05-14T00:43:17.060176Z"
    },
    "papermill": {
     "duration": 0.042863,
     "end_time": "2022-05-14T00:43:17.060711",
     "exception": false,
     "start_time": "2022-05-14T00:43:17.017848",
     "status": "completed"
    },
    "tags": []
   },
   "outputs": [
    {
     "data": {
      "text/plain": [
       "((10000, 28, 28), (10000,))"
      ]
     },
     "execution_count": 8,
     "metadata": {},
     "output_type": "execute_result"
    }
   ],
   "source": [
    "test_images.shape, test_labels.shape"
   ]
  },
  {
   "cell_type": "code",
   "execution_count": 9,
   "id": "f9ed8fe0",
   "metadata": {
    "execution": {
     "iopub.execute_input": "2022-05-14T00:43:17.116929Z",
     "iopub.status.busy": "2022-05-14T00:43:17.116400Z",
     "iopub.status.idle": "2022-05-14T00:43:17.249833Z",
     "shell.execute_reply": "2022-05-14T00:43:17.250247Z"
    },
    "papermill": {
     "duration": 0.16435,
     "end_time": "2022-05-14T00:43:17.250385",
     "exception": false,
     "start_time": "2022-05-14T00:43:17.086035",
     "status": "completed"
    },
    "tags": []
   },
   "outputs": [
    {
     "name": "stdout",
     "output_type": "stream",
     "text": [
      "2\n"
     ]
    },
    {
     "data": {
      "text/plain": [
       "<matplotlib.image.AxesImage at 0x7f0f01e4e518>"
      ]
     },
     "execution_count": 9,
     "metadata": {},
     "output_type": "execute_result"
    },
    {
     "data": {
      "image/png": "[encoded data removed]",
      "text/plain": [
       "<Figure size 432x288 with 1 Axes>"
      ]
     },
     "metadata": {
      "needs_background": "light"
     },
     "output_type": "display_data"
    }
   ],
   "source": [
    "image_index = 7776 # You may select anything up to 60,000\n",
    "print(train_labels[image_index]) \n",
    "plt.imshow(train_images[image_index], cmap='Greys')"
   ]
  },
  {
   "cell_type": "markdown",
   "id": "a8d2388d",
   "metadata": {
    "papermill": {
     "duration": 0.02669,
     "end_time": "2022-05-14T00:43:17.303892",
     "exception": false,
     "start_time": "2022-05-14T00:43:17.277202",
     "status": "completed"
    },
    "tags": []
   },
   "source": [
    "## Filter data to get 3 and 8 out"
   ]
  },
  {
   "cell_type": "code",
   "execution_count": 10,
   "id": "776f7fc7",
   "metadata": {
    "execution": {
     "iopub.execute_input": "2022-05-14T00:43:17.373547Z",
     "iopub.status.busy": "2022-05-14T00:43:17.369786Z",
     "iopub.status.idle": "2022-05-14T00:43:17.381918Z",
     "shell.execute_reply": "2022-05-14T00:43:17.382301Z"
    },
    "papermill": {
     "duration": 0.052147,
     "end_time": "2022-05-14T00:43:17.382427",
     "exception": false,
     "start_time": "2022-05-14T00:43:17.330280",
     "status": "completed"
    },
    "tags": []
   },
   "outputs": [],
   "source": [
    "train_filter = np.where((train_labels == 3 ) | (train_labels == 8))\n",
    "test_filter = np.where((test_labels == 3) | (test_labels == 8))\n",
    "X_train, y_train = train_images[train_filter], train_labels[train_filter]\n",
    "X_test, y_test = test_images[test_filter], test_labels[test_filter]"
   ]
  },
  {
   "cell_type": "markdown",
   "id": "948f0b7e",
   "metadata": {
    "papermill": {
     "duration": 0.026204,
     "end_time": "2022-05-14T00:43:17.435137",
     "exception": false,
     "start_time": "2022-05-14T00:43:17.408933",
     "status": "completed"
    },
    "tags": []
   },
   "source": [
    "We normalize the pizel values in the 0 to 1 range"
   ]
  },
  {
   "cell_type": "code",
   "execution_count": 11,
   "id": "ee4c2166",
   "metadata": {
    "execution": {
     "iopub.execute_input": "2022-05-14T00:43:17.501450Z",
     "iopub.status.busy": "2022-05-14T00:43:17.496286Z",
     "iopub.status.idle": "2022-05-14T00:43:17.540423Z",
     "shell.execute_reply": "2022-05-14T00:43:17.539877Z"
    },
    "papermill": {
     "duration": 0.079154,
     "end_time": "2022-05-14T00:43:17.540564",
     "exception": false,
     "start_time": "2022-05-14T00:43:17.461410",
     "status": "completed"
    },
    "tags": []
   },
   "outputs": [],
   "source": [
    "X_train = X_train/255.\n",
    "X_test = X_test/255."
   ]
  },
  {
   "cell_type": "markdown",
   "id": "ddcf4fab",
   "metadata": {
    "papermill": {
     "duration": 0.026447,
     "end_time": "2022-05-14T00:43:17.594051",
     "exception": false,
     "start_time": "2022-05-14T00:43:17.567604",
     "status": "completed"
    },
    "tags": []
   },
   "source": [
    "And setup the labels as 1 (when the digit is 3) and 0 (when the digit is 8)"
   ]
  },
  {
   "cell_type": "code",
   "execution_count": 12,
   "id": "7dc908f2",
   "metadata": {
    "execution": {
     "iopub.execute_input": "2022-05-14T00:43:17.655149Z",
     "iopub.status.busy": "2022-05-14T00:43:17.654619Z",
     "iopub.status.idle": "2022-05-14T00:43:17.665394Z",
     "shell.execute_reply": "2022-05-14T00:43:17.664958Z"
    },
    "papermill": {
     "duration": 0.045156,
     "end_time": "2022-05-14T00:43:17.665505",
     "exception": false,
     "start_time": "2022-05-14T00:43:17.620349",
     "status": "completed"
    },
    "tags": []
   },
   "outputs": [],
   "source": [
    "y_train = 1*(y_train==3)\n",
    "y_test = 1*(y_test==3)"
   ]
  },
  {
   "cell_type": "code",
   "execution_count": 13,
   "id": "01e4e969",
   "metadata": {
    "execution": {
     "iopub.execute_input": "2022-05-14T00:43:17.725791Z",
     "iopub.status.busy": "2022-05-14T00:43:17.721517Z",
     "iopub.status.idle": "2022-05-14T00:43:17.735409Z",
     "shell.execute_reply": "2022-05-14T00:43:17.734903Z"
    },
    "papermill": {
     "duration": 0.043602,
     "end_time": "2022-05-14T00:43:17.735525",
     "exception": false,
     "start_time": "2022-05-14T00:43:17.691923",
     "status": "completed"
    },
    "tags": []
   },
   "outputs": [
    {
     "data": {
      "text/plain": [
       "((11982, 28, 28), (1984, 28, 28))"
      ]
     },
     "execution_count": 13,
     "metadata": {},
     "output_type": "execute_result"
    }
   ],
   "source": [
    "X_train.shape, X_test.shape"
   ]
  },
  {
   "cell_type": "markdown",
   "id": "5ccf3f85",
   "metadata": {
    "papermill": {
     "duration": 0.026649,
     "end_time": "2022-05-14T00:43:17.788988",
     "exception": false,
     "start_time": "2022-05-14T00:43:17.762339",
     "status": "completed"
    },
    "tags": []
   },
   "source": [
    "We reshape the data to flatten the image pixels into a set of features or co-variates:"
   ]
  },
  {
   "cell_type": "code",
   "execution_count": 14,
   "id": "5286a4a3",
   "metadata": {
    "execution": {
     "iopub.execute_input": "2022-05-14T00:43:17.847951Z",
     "iopub.status.busy": "2022-05-14T00:43:17.847438Z",
     "iopub.status.idle": "2022-05-14T00:43:17.859961Z",
     "shell.execute_reply": "2022-05-14T00:43:17.859532Z"
    },
    "papermill": {
     "duration": 0.044297,
     "end_time": "2022-05-14T00:43:17.860068",
     "exception": false,
     "start_time": "2022-05-14T00:43:17.815771",
     "status": "completed"
    },
    "tags": []
   },
   "outputs": [
    {
     "data": {
      "text/plain": [
       "((11982, 784), (1984, 784))"
      ]
     },
     "execution_count": 14,
     "metadata": {},
     "output_type": "execute_result"
    }
   ],
   "source": [
    "X_train = X_train.reshape(X_train.shape[0], -1)\n",
    "X_test = X_test.reshape(X_test.shape[0], -1)\n",
    "X_train.shape, X_test.shape"
   ]
  },
  {
   "cell_type": "code",
   "execution_count": 15,
   "id": "73c5f88a",
   "metadata": {
    "execution": {
     "iopub.execute_input": "2022-05-14T00:43:17.919648Z",
     "iopub.status.busy": "2022-05-14T00:43:17.919146Z",
     "iopub.status.idle": "2022-05-14T00:43:17.936019Z",
     "shell.execute_reply": "2022-05-14T00:43:17.935615Z"
    },
    "papermill": {
     "duration": 0.049197,
     "end_time": "2022-05-14T00:43:17.936126",
     "exception": false,
     "start_time": "2022-05-14T00:43:17.886929",
     "status": "completed"
    },
    "tags": []
   },
   "outputs": [],
   "source": [
    "#Impoting functions from 'Kudzu'\n",
    "from kudzu.model import Model\n",
    "from kudzu.train import Learner\n",
    "from kudzu.optim import GD\n",
    "from kudzu.data import Data, Sampler,Dataloader\n",
    "\n",
    "from kudzu.callbacks import AccCallback\n",
    "from kudzu.callbacks import ClfCallback\n",
    "\n",
    "from kudzu.loss import MSE\n",
    "\n",
    "from kudzu.layer import Sigmoid,Relu\n",
    "from kudzu.layer import Affine"
   ]
  },
  {
   "cell_type": "markdown",
   "id": "bc01172a",
   "metadata": {
    "papermill": {
     "duration": 0.026735,
     "end_time": "2022-05-14T00:43:17.989803",
     "exception": false,
     "start_time": "2022-05-14T00:43:17.963068",
     "status": "completed"
    },
    "tags": []
   },
   "source": [
    "### Let us create a `Config` class, to store important parameters. \n",
    "This class essentially plays the role of a dictionary."
   ]
  },
  {
   "cell_type": "code",
   "execution_count": 16,
   "id": "978281aa",
   "metadata": {
    "execution": {
     "iopub.execute_input": "2022-05-14T00:43:18.046976Z",
     "iopub.status.busy": "2022-05-14T00:43:18.046467Z",
     "iopub.status.idle": "2022-05-14T00:43:18.059436Z",
     "shell.execute_reply": "2022-05-14T00:43:18.059007Z"
    },
    "papermill": {
     "duration": 0.042998,
     "end_time": "2022-05-14T00:43:18.059542",
     "exception": false,
     "start_time": "2022-05-14T00:43:18.016544",
     "status": "completed"
    },
    "tags": []
   },
   "outputs": [],
   "source": [
    "class Config:\n",
    "    pass\n",
    "config = Config()\n",
    "config.lr = 0.001\n",
    "config.num_epochs = 250\n",
    "config.bs = 50"
   ]
  },
  {
   "cell_type": "markdown",
   "id": "1385fa59",
   "metadata": {
    "papermill": {
     "duration": 0.026901,
     "end_time": "2022-05-14T00:43:18.113484",
     "exception": false,
     "start_time": "2022-05-14T00:43:18.086583",
     "status": "completed"
    },
    "tags": []
   },
   "source": [
    "### Running Models with the Training data\n",
    "Details about the network layers:\n",
    "- A first affine layer has 784 inputs and does 100 affine transforms. These are followed by a Relu\n",
    "- A second affine layer has 100 inputs from the 100 activations of the past layer, and does 100 affine transforms. These are followed by a Relu\n",
    "- A third affine layer has 100 activations and does 2 affine transformations to create an embedding for visualization. There is no non-linearity here.\n",
    "- A final \"logistic regression\" which has an affine transform from 2 inputs to 1 output, which is squeezed through a sigmoid.\n"
   ]
  },
  {
   "cell_type": "code",
   "execution_count": 17,
   "id": "2b9c66db",
   "metadata": {
    "execution": {
     "iopub.execute_input": "2022-05-14T00:43:18.172993Z",
     "iopub.status.busy": "2022-05-14T00:43:18.172439Z",
     "iopub.status.idle": "2022-05-14T00:43:18.183581Z",
     "shell.execute_reply": "2022-05-14T00:43:18.183150Z"
    },
    "papermill": {
     "duration": 0.043299,
     "end_time": "2022-05-14T00:43:18.183685",
     "exception": false,
     "start_time": "2022-05-14T00:43:18.140386",
     "status": "completed"
    },
    "tags": []
   },
   "outputs": [],
   "source": [
    "data = Data(X_train, y_train.reshape(-1,1))\n",
    "sampler = Sampler(data, config.bs, shuffle=True)\n",
    "\n",
    "dl = Dataloader(data, sampler)\n",
    "\n",
    "opt = GD(config.lr)\n",
    "loss = MSE()"
   ]
  },
  {
   "cell_type": "code",
   "execution_count": 18,
   "id": "b275e4c2",
   "metadata": {
    "execution": {
     "iopub.execute_input": "2022-05-14T00:43:18.254924Z",
     "iopub.status.busy": "2022-05-14T00:43:18.245790Z",
     "iopub.status.idle": "2022-05-14T00:43:18.257866Z",
     "shell.execute_reply": "2022-05-14T00:43:18.257461Z"
    },
    "papermill": {
     "duration": 0.047334,
     "end_time": "2022-05-14T00:43:18.257973",
     "exception": false,
     "start_time": "2022-05-14T00:43:18.210639",
     "status": "completed"
    },
    "tags": []
   },
   "outputs": [],
   "source": [
    "training_data_x = X_train\n",
    "testing_data_x = X_test\n",
    "training_data_y = y_train.reshape(-1,1)\n",
    "testing_data_y = y_test.reshape(-1,1)"
   ]
  },
  {
   "cell_type": "code",
   "execution_count": 19,
   "id": "76951160",
   "metadata": {
    "execution": {
     "iopub.execute_input": "2022-05-14T00:43:18.319605Z",
     "iopub.status.busy": "2022-05-14T00:43:18.319087Z",
     "iopub.status.idle": "2022-05-14T00:43:18.333992Z",
     "shell.execute_reply": "2022-05-14T00:43:18.333351Z"
    },
    "papermill": {
     "duration": 0.049303,
     "end_time": "2022-05-14T00:43:18.334099",
     "exception": false,
     "start_time": "2022-05-14T00:43:18.284796",
     "status": "completed"
    },
    "tags": []
   },
   "outputs": [
    {
     "name": "stdout",
     "output_type": "stream",
     "text": [
      "xavier\n",
      "xavier\n",
      "xavier\n",
      "xavier\n",
      "xavier\n"
     ]
    }
   ],
   "source": [
    "layers = [Affine(\"first\", 784, 100), Relu(\"first\"), Affine(\"second\", 100, 100), Relu(\"second\"), Affine(\"third\", 100, 2), Affine(\"last\", 2, 1), Sigmoid(\"last\")]\n",
    "model_nn = Model(layers)\n",
    "model_lr = Model([Affine(\"logits\", 784, 1), Sigmoid(\"sigmoid\")])"
   ]
  },
  {
   "cell_type": "code",
   "execution_count": 20,
   "id": "6eede77a",
   "metadata": {
    "execution": {
     "iopub.execute_input": "2022-05-14T00:43:18.391767Z",
     "iopub.status.busy": "2022-05-14T00:43:18.391006Z",
     "iopub.status.idle": "2022-05-14T00:43:18.402969Z",
     "shell.execute_reply": "2022-05-14T00:43:18.402545Z"
    },
    "papermill": {
     "duration": 0.041811,
     "end_time": "2022-05-14T00:43:18.403070",
     "exception": false,
     "start_time": "2022-05-14T00:43:18.361259",
     "status": "completed"
    },
    "tags": []
   },
   "outputs": [],
   "source": [
    "nn_learner = Learner(loss, model_nn, opt, config.num_epochs)\n",
    "acc_nn = ClfCallback(nn_learner, config.bs, training_data_x , testing_data_x, training_data_y, testing_data_y)\n",
    "nn_learner.set_callbacks([acc_nn])"
   ]
  },
  {
   "cell_type": "code",
   "execution_count": 21,
   "id": "877b6cc7",
   "metadata": {
    "execution": {
     "iopub.execute_input": "2022-05-14T00:43:18.466105Z",
     "iopub.status.busy": "2022-05-14T00:43:18.465502Z",
     "iopub.status.idle": "2022-05-14T00:43:18.475198Z",
     "shell.execute_reply": "2022-05-14T00:43:18.475602Z"
    },
    "papermill": {
     "duration": 0.045604,
     "end_time": "2022-05-14T00:43:18.475715",
     "exception": false,
     "start_time": "2022-05-14T00:43:18.430111",
     "status": "completed"
    },
    "tags": []
   },
   "outputs": [],
   "source": [
    "lr_learner = Learner(loss, model_lr, opt, config.num_epochs)\n",
    "acc_lr = ClfCallback(lr_learner, config.bs, training_data_x , testing_data_x, training_data_y, testing_data_y)\n",
    "lr_learner.set_callbacks([acc_lr])"
   ]
  },
  {
   "cell_type": "code",
   "execution_count": 22,
   "id": "d9b133c3",
   "metadata": {
    "execution": {
     "iopub.execute_input": "2022-05-14T00:43:18.551697Z",
     "iopub.status.busy": "2022-05-14T00:43:18.551155Z",
     "iopub.status.idle": "2022-05-14T00:44:33.889926Z",
     "shell.execute_reply": "2022-05-14T00:44:33.890672Z"
    },
    "papermill": {
     "duration": 75.37798,
     "end_time": "2022-05-14T00:44:33.890830",
     "exception": false,
     "start_time": "2022-05-14T00:43:18.512850",
     "status": "completed"
    },
    "tags": []
   },
   "outputs": [
    {
     "name": "stdout",
     "output_type": "stream",
     "text": [
      "Epoch 0, Loss 0.2498\n",
      "Training Accuracy: 0.5073, Testing Accuracy: 0.5030\n",
      "\n"
     ]
    },
    {
     "name": "stdout",
     "output_type": "stream",
     "text": [
      "Epoch 10, Loss 0.2472\n",
      "Training Accuracy: 0.6859, Testing Accuracy: 0.6830\n",
      "\n"
     ]
    },
    {
     "name": "stdout",
     "output_type": "stream",
     "text": [
      "Epoch 20, Loss 0.2391\n",
      "Training Accuracy: 0.7828, Testing Accuracy: 0.8014\n",
      "\n"
     ]
    },
    {
     "name": "stdout",
     "output_type": "stream",
     "text": [
      "Epoch 30, Loss 0.2032\n",
      "Training Accuracy: 0.8403, Testing Accuracy: 0.8659\n",
      "\n"
     ]
    },
    {
     "name": "stdout",
     "output_type": "stream",
     "text": [
      "Epoch 40, Loss 0.1148\n",
      "Training Accuracy: 0.8896, Testing Accuracy: 0.9027\n",
      "\n"
     ]
    },
    {
     "name": "stdout",
     "output_type": "stream",
     "text": [
      "Epoch 50, Loss 0.0706\n",
      "Training Accuracy: 0.9253, Testing Accuracy: 0.9340\n",
      "\n"
     ]
    },
    {
     "name": "stdout",
     "output_type": "stream",
     "text": [
      "Epoch 60, Loss 0.0523\n",
      "Training Accuracy: 0.9432, Testing Accuracy: 0.9536\n",
      "\n"
     ]
    },
    {
     "name": "stdout",
     "output_type": "stream",
     "text": [
      "Epoch 70, Loss 0.0432\n",
      "Training Accuracy: 0.9528, Testing Accuracy: 0.9592\n",
      "\n"
     ]
    },
    {
     "name": "stdout",
     "output_type": "stream",
     "text": [
      "Epoch 80, Loss 0.0381\n",
      "Training Accuracy: 0.9578, Testing Accuracy: 0.9597\n",
      "\n"
     ]
    },
    {
     "name": "stdout",
     "output_type": "stream",
     "text": [
      "Epoch 90, Loss 0.0348\n",
      "Training Accuracy: 0.9609, Testing Accuracy: 0.9637\n",
      "\n"
     ]
    },
    {
     "name": "stdout",
     "output_type": "stream",
     "text": [
      "Epoch 100, Loss 0.0325\n",
      "Training Accuracy: 0.9629, Testing Accuracy: 0.9632\n",
      "\n"
     ]
    },
    {
     "name": "stdout",
     "output_type": "stream",
     "text": [
      "Epoch 110, Loss 0.0307\n",
      "Training Accuracy: 0.9648, Testing Accuracy: 0.9642\n",
      "\n"
     ]
    },
    {
     "name": "stdout",
     "output_type": "stream",
     "text": [
      "Epoch 120, Loss 0.0292\n",
      "Training Accuracy: 0.9664, Testing Accuracy: 0.9672\n",
      "\n"
     ]
    },
    {
     "name": "stdout",
     "output_type": "stream",
     "text": [
      "Epoch 130, Loss 0.028\n",
      "Training Accuracy: 0.9680, Testing Accuracy: 0.9703\n",
      "\n"
     ]
    },
    {
     "name": "stdout",
     "output_type": "stream",
     "text": [
      "Epoch 140, Loss 0.027\n",
      "Training Accuracy: 0.9694, Testing Accuracy: 0.9708\n",
      "\n"
     ]
    },
    {
     "name": "stdout",
     "output_type": "stream",
     "text": [
      "Epoch 150, Loss 0.0261\n",
      "Training Accuracy: 0.9705, Testing Accuracy: 0.9713\n",
      "\n"
     ]
    },
    {
     "name": "stdout",
     "output_type": "stream",
     "text": [
      "Epoch 160, Loss 0.0253\n",
      "Training Accuracy: 0.9712, Testing Accuracy: 0.9728\n",
      "\n"
     ]
    },
    {
     "name": "stdout",
     "output_type": "stream",
     "text": [
      "Epoch 170, Loss 0.0246\n",
      "Training Accuracy: 0.9722, Testing Accuracy: 0.9733\n",
      "\n"
     ]
    },
    {
     "name": "stdout",
     "output_type": "stream",
     "text": [
      "Epoch 180, Loss 0.0239\n",
      "Training Accuracy: 0.9728, Testing Accuracy: 0.9728\n",
      "\n"
     ]
    },
    {
     "name": "stdout",
     "output_type": "stream",
     "text": [
      "Epoch 190, Loss 0.0233\n",
      "Training Accuracy: 0.9736, Testing Accuracy: 0.9733\n",
      "\n"
     ]
    },
    {
     "name": "stdout",
     "output_type": "stream",
     "text": [
      "Epoch 200, Loss 0.0227\n",
      "Training Accuracy: 0.9738, Testing Accuracy: 0.9738\n",
      "\n"
     ]
    },
    {
     "name": "stdout",
     "output_type": "stream",
     "text": [
      "Epoch 210, Loss 0.0222\n",
      "Training Accuracy: 0.9747, Testing Accuracy: 0.9743\n",
      "\n"
     ]
    },
    {
     "name": "stdout",
     "output_type": "stream",
     "text": [
      "Epoch 220, Loss 0.0217\n",
      "Training Accuracy: 0.9750, Testing Accuracy: 0.9743\n",
      "\n"
     ]
    },
    {
     "name": "stdout",
     "output_type": "stream",
     "text": [
      "Epoch 230, Loss 0.0212\n",
      "Training Accuracy: 0.9759, Testing Accuracy: 0.9743\n",
      "\n"
     ]
    },
    {
     "name": "stdout",
     "output_type": "stream",
     "text": [
      "Epoch 240, Loss 0.0208\n",
      "Training Accuracy: 0.9764, Testing Accuracy: 0.9748\n",
      "\n"
     ]
    },
    {
     "data": {
      "text/plain": [
       "0.0066770855030687006"
      ]
     },
     "execution_count": 22,
     "metadata": {},
     "output_type": "execute_result"
    }
   ],
   "source": [
    "nn_learner.train_loop(dl)"
   ]
  },
  {
   "cell_type": "code",
   "execution_count": 23,
   "id": "e0163366",
   "metadata": {
    "execution": {
     "iopub.execute_input": "2022-05-14T00:44:33.970503Z",
     "iopub.status.busy": "2022-05-14T00:44:33.969536Z",
     "iopub.status.idle": "2022-05-14T00:44:47.465390Z",
     "shell.execute_reply": "2022-05-14T00:44:47.466214Z"
    },
    "papermill": {
     "duration": 13.54061,
     "end_time": "2022-05-14T00:44:47.466376",
     "exception": false,
     "start_time": "2022-05-14T00:44:33.925766",
     "status": "completed"
    },
    "tags": []
   },
   "outputs": [
    {
     "name": "stdout",
     "output_type": "stream",
     "text": [
      "Epoch 0, Loss 0.2786\n",
      "Training Accuracy: 0.5176, Testing Accuracy: 0.4970\n",
      "\n"
     ]
    },
    {
     "name": "stdout",
     "output_type": "stream",
     "text": [
      "Epoch 10, Loss 0.1108\n",
      "Training Accuracy: 0.8937, Testing Accuracy: 0.9007\n",
      "\n"
     ]
    },
    {
     "name": "stdout",
     "output_type": "stream",
     "text": [
      "Epoch 20, Loss 0.0836\n",
      "Training Accuracy: 0.9199, Testing Accuracy: 0.9309\n",
      "\n"
     ]
    },
    {
     "name": "stdout",
     "output_type": "stream",
     "text": [
      "Epoch 30, Loss 0.0713\n",
      "Training Accuracy: 0.9321, Testing Accuracy: 0.9420\n",
      "\n"
     ]
    },
    {
     "name": "stdout",
     "output_type": "stream",
     "text": [
      "Epoch 40, Loss 0.064\n",
      "Training Accuracy: 0.9379, Testing Accuracy: 0.9511\n",
      "\n"
     ]
    },
    {
     "name": "stdout",
     "output_type": "stream",
     "text": [
      "Epoch 50, Loss 0.059\n",
      "Training Accuracy: 0.9417, Testing Accuracy: 0.9541\n",
      "\n"
     ]
    },
    {
     "name": "stdout",
     "output_type": "stream",
     "text": [
      "Epoch 60, Loss 0.0554\n",
      "Training Accuracy: 0.9437, Testing Accuracy: 0.9551\n",
      "\n"
     ]
    },
    {
     "name": "stdout",
     "output_type": "stream",
     "text": [
      "Epoch 70, Loss 0.0526\n",
      "Training Accuracy: 0.9461, Testing Accuracy: 0.9577\n",
      "\n"
     ]
    },
    {
     "name": "stdout",
     "output_type": "stream",
     "text": [
      "Epoch 80, Loss 0.0504\n",
      "Training Accuracy: 0.9489, Testing Accuracy: 0.9582\n",
      "\n"
     ]
    },
    {
     "name": "stdout",
     "output_type": "stream",
     "text": [
      "Epoch 90, Loss 0.0486\n",
      "Training Accuracy: 0.9501, Testing Accuracy: 0.9587\n",
      "\n"
     ]
    },
    {
     "name": "stdout",
     "output_type": "stream",
     "text": [
      "Epoch 100, Loss 0.0471\n",
      "Training Accuracy: 0.9513, Testing Accuracy: 0.9592\n",
      "\n"
     ]
    },
    {
     "name": "stdout",
     "output_type": "stream",
     "text": [
      "Epoch 110, Loss 0.0458\n",
      "Training Accuracy: 0.9526, Testing Accuracy: 0.9612\n",
      "\n"
     ]
    },
    {
     "name": "stdout",
     "output_type": "stream",
     "text": [
      "Epoch 120, Loss 0.0447\n",
      "Training Accuracy: 0.9534, Testing Accuracy: 0.9612\n",
      "\n"
     ]
    },
    {
     "name": "stdout",
     "output_type": "stream",
     "text": [
      "Epoch 130, Loss 0.0437\n",
      "Training Accuracy: 0.9539, Testing Accuracy: 0.9627\n",
      "\n"
     ]
    },
    {
     "name": "stdout",
     "output_type": "stream",
     "text": [
      "Epoch 140, Loss 0.0428\n",
      "Training Accuracy: 0.9544, Testing Accuracy: 0.9627\n",
      "\n"
     ]
    },
    {
     "name": "stdout",
     "output_type": "stream",
     "text": [
      "Epoch 150, Loss 0.042\n",
      "Training Accuracy: 0.9548, Testing Accuracy: 0.9632\n",
      "\n"
     ]
    },
    {
     "name": "stdout",
     "output_type": "stream",
     "text": [
      "Epoch 160, Loss 0.0413\n",
      "Training Accuracy: 0.9558, Testing Accuracy: 0.9632\n",
      "\n"
     ]
    },
    {
     "name": "stdout",
     "output_type": "stream",
     "text": [
      "Epoch 170, Loss 0.0406\n",
      "Training Accuracy: 0.9561, Testing Accuracy: 0.9637\n",
      "\n"
     ]
    },
    {
     "name": "stdout",
     "output_type": "stream",
     "text": [
      "Epoch 180, Loss 0.04\n",
      "Training Accuracy: 0.9567, Testing Accuracy: 0.9637\n",
      "\n"
     ]
    },
    {
     "name": "stdout",
     "output_type": "stream",
     "text": [
      "Epoch 190, Loss 0.0395\n",
      "Training Accuracy: 0.9575, Testing Accuracy: 0.9637\n",
      "\n"
     ]
    },
    {
     "name": "stdout",
     "output_type": "stream",
     "text": [
      "Epoch 200, Loss 0.039\n",
      "Training Accuracy: 0.9581, Testing Accuracy: 0.9637\n",
      "\n"
     ]
    },
    {
     "name": "stdout",
     "output_type": "stream",
     "text": [
      "Epoch 210, Loss 0.0385\n",
      "Training Accuracy: 0.9583, Testing Accuracy: 0.9642\n",
      "\n"
     ]
    },
    {
     "name": "stdout",
     "output_type": "stream",
     "text": [
      "Epoch 220, Loss 0.0381\n",
      "Training Accuracy: 0.9589, Testing Accuracy: 0.9647\n",
      "\n"
     ]
    },
    {
     "name": "stdout",
     "output_type": "stream",
     "text": [
      "Epoch 230, Loss 0.0377\n",
      "Training Accuracy: 0.9592, Testing Accuracy: 0.9647\n",
      "\n"
     ]
    },
    {
     "name": "stdout",
     "output_type": "stream",
     "text": [
      "Epoch 240, Loss 0.0373\n",
      "Training Accuracy: 0.9596, Testing Accuracy: 0.9657\n",
      "\n"
     ]
    },
    {
     "data": {
      "text/plain": [
       "0.02344038735652242"
      ]
     },
     "execution_count": 23,
     "metadata": {},
     "output_type": "execute_result"
    }
   ],
   "source": [
    "lr_learner.train_loop(dl)"
   ]
  },
  {
   "cell_type": "code",
   "execution_count": 24,
   "id": "ca410940",
   "metadata": {
    "execution": {
     "iopub.execute_input": "2022-05-14T00:44:47.558340Z",
     "iopub.status.busy": "2022-05-14T00:44:47.557818Z",
     "iopub.status.idle": "2022-05-14T00:44:47.781087Z",
     "shell.execute_reply": "2022-05-14T00:44:47.781506Z"
    },
    "papermill": {
     "duration": 0.273533,
     "end_time": "2022-05-14T00:44:47.781651",
     "exception": false,
     "start_time": "2022-05-14T00:44:47.508118",
     "status": "completed"
    },
    "tags": []
   },
   "outputs": [
    {
     "data": {
      "text/plain": [
       "<matplotlib.legend.Legend at 0x7f0f01a2cc50>"
      ]
     },
     "execution_count": 24,
     "metadata": {},
     "output_type": "execute_result"
    },
    {
     "data": {
      "image/png": "[encoded data removed]",
      "text/plain": [
       "<Figure size 1080x720 with 1 Axes>"
      ]
     },
     "metadata": {
      "needs_background": "light"
     },
     "output_type": "display_data"
    }
   ],
   "source": [
    "#comparing the results of NN and LR\n",
    "plt.figure(figsize=(15,10))\n",
    "\n",
    "# Neural Network plots\n",
    "plt.plot(acc_nn.accuracies, 'r-', label = \"Training Accuracies - NN\")\n",
    "plt.plot(acc_nn.test_accuracies, 'g-', label = \"Testing Accuracies - NN\")\n",
    "\n",
    "# Logistic Regression plots\n",
    "plt.plot(acc_lr.accuracies, 'k-', label = \"Training Accuracies - LR\")\n",
    "plt.plot(acc_lr.test_accuracies, 'b-', label = \"Testing Accuracies - LR\")\n",
    "plt.legend()"
   ]
  },
  {
   "cell_type": "markdown",
   "id": "80dfb35c",
   "metadata": {
    "papermill": {
     "duration": 0.042694,
     "end_time": "2022-05-14T00:44:47.867839",
     "exception": false,
     "start_time": "2022-05-14T00:44:47.825145",
     "status": "completed"
    },
    "tags": []
   },
   "source": [
    "#### Plotting the outputs of this layer of the NN.\n"
   ]
  },
  {
   "cell_type": "code",
   "execution_count": 25,
   "id": "45eb2ff5",
   "metadata": {
    "execution": {
     "iopub.execute_input": "2022-05-14T00:44:47.965727Z",
     "iopub.status.busy": "2022-05-14T00:44:47.963473Z",
     "iopub.status.idle": "2022-05-14T00:44:47.980832Z",
     "shell.execute_reply": "2022-05-14T00:44:47.981478Z"
    },
    "papermill": {
     "duration": 0.071154,
     "end_time": "2022-05-14T00:44:47.981622",
     "exception": false,
     "start_time": "2022-05-14T00:44:47.910468",
     "status": "completed"
    },
    "tags": []
   },
   "outputs": [],
   "source": [
    "new_model = Model(layers[:-2])\n",
    "testing_plot = new_model(testing_data_x)"
   ]
  },
  {
   "cell_type": "code",
   "execution_count": 26,
   "id": "4c0a5485",
   "metadata": {
    "execution": {
     "iopub.execute_input": "2022-05-14T00:44:48.077920Z",
     "iopub.status.busy": "2022-05-14T00:44:48.077412Z",
     "iopub.status.idle": "2022-05-14T00:44:48.261082Z",
     "shell.execute_reply": "2022-05-14T00:44:48.261505Z"
    },
    "papermill": {
     "duration": 0.236868,
     "end_time": "2022-05-14T00:44:48.261651",
     "exception": false,
     "start_time": "2022-05-14T00:44:48.024783",
     "status": "completed"
    },
    "tags": []
   },
   "outputs": [
    {
     "data": {
      "text/plain": [
       "Text(0.5, 1.0, 'Outputs')"
      ]
     },
     "execution_count": 26,
     "metadata": {},
     "output_type": "execute_result"
    },
    {
     "data": {
      "image/png": "[encoded data removed]",
      "text/plain": [
       "<Figure size 576x504 with 1 Axes>"
      ]
     },
     "metadata": {
      "needs_background": "light"
     },
     "output_type": "display_data"
    }
   ],
   "source": [
    "# Plotting the scatter plot of points and color coding by class\n",
    "plt.figure(figsize=(8,7))\n",
    "plt.scatter(testing_plot[:,0], testing_plot[:,1], alpha = 0.1, c = y_test.ravel());\n",
    "plt.title('Outputs')"
   ]
  },
  {
   "cell_type": "markdown",
   "id": "a74fcf8f",
   "metadata": {
    "papermill": {
     "duration": 0.043972,
     "end_time": "2022-05-14T00:44:48.350266",
     "exception": false,
     "start_time": "2022-05-14T00:44:48.306294",
     "status": "completed"
    },
    "tags": []
   },
   "source": [
    "Probability contours"
   ]
  },
  {
   "cell_type": "code",
   "execution_count": 27,
   "id": "d0afc8e3",
   "metadata": {
    "execution": {
     "iopub.execute_input": "2022-05-14T00:44:48.442282Z",
     "iopub.status.busy": "2022-05-14T00:44:48.441769Z",
     "iopub.status.idle": "2022-05-14T00:44:48.453902Z",
     "shell.execute_reply": "2022-05-14T00:44:48.454309Z"
    },
    "papermill": {
     "duration": 0.060207,
     "end_time": "2022-05-14T00:44:48.454434",
     "exception": false,
     "start_time": "2022-05-14T00:44:48.394227",
     "status": "completed"
    },
    "tags": []
   },
   "outputs": [],
   "source": [
    "model_prob = Model(layers[-2:]) "
   ]
  },
  {
   "cell_type": "code",
   "execution_count": 28,
   "id": "9b96e238",
   "metadata": {
    "execution": {
     "iopub.execute_input": "2022-05-14T00:44:48.575270Z",
     "iopub.status.busy": "2022-05-14T00:44:48.574321Z",
     "iopub.status.idle": "2022-05-14T00:44:48.588669Z",
     "shell.execute_reply": "2022-05-14T00:44:48.589099Z"
    },
    "papermill": {
     "duration": 0.06309,
     "end_time": "2022-05-14T00:44:48.589218",
     "exception": false,
     "start_time": "2022-05-14T00:44:48.526128",
     "status": "completed"
    },
    "tags": []
   },
   "outputs": [],
   "source": [
    "#creating the x and y ranges according to the above generated plot.\n",
    "x_range = np.linspace(-4, 1, 100) \n",
    "y_range = np.linspace(-6, 6, 100) \n",
    "x_grid, y_grid = np.meshgrid(x_range, y_range) # x_grid and y_grig are of size 100 X 100\n",
    "\n",
    "# converting x_grid and y_grid to continuous arrays\n",
    "x_gridflat = np.ravel(x_grid)\n",
    "y_gridflat = np.ravel(y_grid)\n",
    "\n",
    "# The last layer of the current model takes two columns as input. Hence transpose of np.vstack() is required.\n",
    "X = np.vstack((x_gridflat, y_gridflat)).T\n",
    "\n",
    "prob_contour = model_prob(X).reshape(100,100) "
   ]
  },
  {
   "cell_type": "code",
   "execution_count": 29,
   "id": "da72499a",
   "metadata": {
    "execution": {
     "iopub.execute_input": "2022-05-14T00:44:48.680882Z",
     "iopub.status.busy": "2022-05-14T00:44:48.680358Z",
     "iopub.status.idle": "2022-05-14T00:44:48.927430Z",
     "shell.execute_reply": "2022-05-14T00:44:48.926914Z"
    },
    "papermill": {
     "duration": 0.294185,
     "end_time": "2022-05-14T00:44:48.927551",
     "exception": false,
     "start_time": "2022-05-14T00:44:48.633366",
     "status": "completed"
    },
    "tags": []
   },
   "outputs": [
    {
     "data": {
      "image/png": "[encoded data removed]",
      "text/plain": [
       "<Figure size 720x648 with 1 Axes>"
      ]
     },
     "metadata": {
      "needs_background": "light"
     },
     "output_type": "display_data"
    }
   ],
   "source": [
    "plt.figure(figsize=(10,9))\n",
    "plt.scatter(testing_plot[:,0], testing_plot[:,1], alpha = 0.1, c = y_test.ravel())\n",
    "contours = plt.contour(x_grid,y_grid,prob_contour)\n",
    "plt.title('Probability Contours')\n",
    "plt.clabel(contours, inline = True );"
   ]
  },
  {
   "cell_type": "code",
   "execution_count": null,
   "id": "e81b4ac7",
   "metadata": {
    "papermill": {
     "duration": 0.046486,
     "end_time": "2022-05-14T00:44:49.021070",
     "exception": false,
     "start_time": "2022-05-14T00:44:48.974584",
     "status": "completed"
    },
    "tags": []
   },
   "outputs": [],
   "source": []
  }
 ],
 "metadata": {
  "kernelspec": {
   "display_name": "Python 3",
   "language": "python",
   "name": "python3"
  },
  "language_info": {
   "codemirror_mode": {
    "name": "ipython",
    "version": 3
   },
   "file_extension": ".py",
   "mimetype": "text/x-python",
   "name": "python",
   "nbconvert_exporter": "python",
   "pygments_lexer": "ipython3",
   "version": "3.6.15"
  },
  "papermill": {
   "default_parameters": {},
   "duration": 96.941818,
   "end_time": "2022-05-14T00:44:49.486505",
   "environment_variables": {},
   "exception": null,
   "input_path": "2020-08-11-part2.ipynb",
   "output_path": "2020-08-11-part2.ipynb",
   "parameters": {},
   "start_time": "2022-05-14T00:43:12.544687",
   "version": "2.3.3"
  }
 },
 "nbformat": 4,
 "nbformat_minor": 5
}