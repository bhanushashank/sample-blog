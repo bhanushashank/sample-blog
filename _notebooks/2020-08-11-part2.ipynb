{
 "cells": [
  {
   "cell_type": "markdown",
   "id": "98380cd3",
   "metadata": {
    "papermill": {
     "duration": 0.036123,
     "end_time": "2022-02-11T10:09:48.501880",
     "exception": false,
     "start_time": "2022-02-11T10:09:48.465757",
     "status": "completed"
    },
    "tags": []
   },
   "source": [
    "# Distinguish Your Own Digits (DYOD)"
   ]
  },
  {
   "cell_type": "markdown",
   "id": "ef31240d",
   "metadata": {
    "papermill": {
     "duration": 0.031198,
     "end_time": "2022-02-11T10:09:48.563546",
     "exception": false,
     "start_time": "2022-02-11T10:09:48.532348",
     "status": "completed"
    },
    "tags": []
   },
   "source": [
    "You are going to write a classifier that distinguishes between the number 3 and number 8."
   ]
  },
  {
   "cell_type": "code",
   "execution_count": 1,
   "id": "b15c8646",
   "metadata": {
    "execution": {
     "iopub.execute_input": "2022-02-11T10:09:48.635939Z",
     "iopub.status.busy": "2022-02-11T10:09:48.635225Z",
     "iopub.status.idle": "2022-02-11T10:09:48.648320Z",
     "shell.execute_reply": "2022-02-11T10:09:48.647719Z"
    },
    "papermill": {
     "duration": 0.055246,
     "end_time": "2022-02-11T10:09:48.648481",
     "exception": false,
     "start_time": "2022-02-11T10:09:48.593235",
     "status": "completed"
    },
    "tags": []
   },
   "outputs": [],
   "source": [
    "%load_ext autoreload\n",
    "%autoreload 2"
   ]
  },
  {
   "cell_type": "code",
   "execution_count": 2,
   "id": "22ef38dc",
   "metadata": {
    "execution": {
     "iopub.execute_input": "2022-02-11T10:09:48.713202Z",
     "iopub.status.busy": "2022-02-11T10:09:48.712088Z",
     "iopub.status.idle": "2022-02-11T10:09:49.469380Z",
     "shell.execute_reply": "2022-02-11T10:09:49.467981Z"
    },
    "papermill": {
     "duration": 0.791717,
     "end_time": "2022-02-11T10:09:49.469616",
     "exception": false,
     "start_time": "2022-02-11T10:09:48.677899",
     "status": "completed"
    },
    "tags": []
   },
   "outputs": [],
   "source": [
    "%matplotlib inline\n",
    "import numpy as np\n",
    "import matplotlib.pyplot as plt\n",
    "import pandas as pd"
   ]
  },
  {
   "cell_type": "markdown",
   "id": "ba036198",
   "metadata": {
    "papermill": {
     "duration": 0.029738,
     "end_time": "2022-02-11T10:09:49.530844",
     "exception": false,
     "start_time": "2022-02-11T10:09:49.501106",
     "status": "completed"
    },
    "tags": []
   },
   "source": [
    "From the command line run `pip install mnist`. This is a library that will help you bring down the mnist dataset. If you run this from a notebook, you need to put  `!pip install mnist` in a cell by itself."
   ]
  },
  {
   "cell_type": "code",
   "execution_count": 3,
   "id": "bb6ad8a1",
   "metadata": {
    "execution": {
     "iopub.execute_input": "2022-02-11T10:09:49.596922Z",
     "iopub.status.busy": "2022-02-11T10:09:49.596259Z",
     "iopub.status.idle": "2022-02-11T10:09:51.649613Z",
     "shell.execute_reply": "2022-02-11T10:09:51.648766Z"
    },
    "papermill": {
     "duration": 2.089974,
     "end_time": "2022-02-11T10:09:51.649813",
     "exception": false,
     "start_time": "2022-02-11T10:09:49.559839",
     "status": "completed"
    },
    "tags": []
   },
   "outputs": [
    {
     "name": "stdout",
     "output_type": "stream",
     "text": [
      "Collecting mnist\r\n"
     ]
    },
    {
     "name": "stdout",
     "output_type": "stream",
     "text": [
      "  Downloading mnist-0.2.2-py2.py3-none-any.whl (3.5 kB)\r\n",
      "Requirement already satisfied: numpy in /opt/hostedtoolcache/Python/3.6.15/x64/lib/python3.6/site-packages (from mnist) (1.19.5)\r\n"
     ]
    },
    {
     "name": "stdout",
     "output_type": "stream",
     "text": [
      "Installing collected packages: mnist\r\n",
      "Successfully installed mnist-0.2.2\r\n"
     ]
    }
   ],
   "source": [
    "!pip install mnist"
   ]
  },
  {
   "cell_type": "markdown",
   "id": "69df9c9a",
   "metadata": {
    "papermill": {
     "duration": 0.030061,
     "end_time": "2022-02-11T10:09:51.711244",
     "exception": false,
     "start_time": "2022-02-11T10:09:51.681183",
     "status": "completed"
    },
    "tags": []
   },
   "source": [
    "## Preparing the Data"
   ]
  },
  {
   "cell_type": "code",
   "execution_count": 4,
   "id": "7f69d806",
   "metadata": {
    "execution": {
     "iopub.execute_input": "2022-02-11T10:09:51.776936Z",
     "iopub.status.busy": "2022-02-11T10:09:51.776275Z",
     "iopub.status.idle": "2022-02-11T10:09:51.794977Z",
     "shell.execute_reply": "2022-02-11T10:09:51.794414Z"
    },
    "papermill": {
     "duration": 0.053903,
     "end_time": "2022-02-11T10:09:51.795147",
     "exception": false,
     "start_time": "2022-02-11T10:09:51.741244",
     "status": "completed"
    },
    "tags": []
   },
   "outputs": [],
   "source": [
    "import mnist"
   ]
  },
  {
   "cell_type": "code",
   "execution_count": 5,
   "id": "a411e44f",
   "metadata": {
    "execution": {
     "iopub.execute_input": "2022-02-11T10:09:51.859795Z",
     "iopub.status.busy": "2022-02-11T10:09:51.859148Z",
     "iopub.status.idle": "2022-02-11T10:09:52.487522Z",
     "shell.execute_reply": "2022-02-11T10:09:52.486628Z"
    },
    "papermill": {
     "duration": 0.66255,
     "end_time": "2022-02-11T10:09:52.487691",
     "exception": false,
     "start_time": "2022-02-11T10:09:51.825141",
     "status": "completed"
    },
    "tags": []
   },
   "outputs": [],
   "source": [
    "train_images = mnist.train_images()\n",
    "train_labels = mnist.train_labels()"
   ]
  },
  {
   "cell_type": "code",
   "execution_count": 6,
   "id": "dceab3a5",
   "metadata": {
    "execution": {
     "iopub.execute_input": "2022-02-11T10:09:52.557275Z",
     "iopub.status.busy": "2022-02-11T10:09:52.555299Z",
     "iopub.status.idle": "2022-02-11T10:09:52.571529Z",
     "shell.execute_reply": "2022-02-11T10:09:52.572503Z"
    },
    "papermill": {
     "duration": 0.054213,
     "end_time": "2022-02-11T10:09:52.572751",
     "exception": false,
     "start_time": "2022-02-11T10:09:52.518538",
     "status": "completed"
    },
    "tags": []
   },
   "outputs": [
    {
     "data": {
      "text/plain": [
       "((60000, 28, 28), (60000,))"
      ]
     },
     "execution_count": 6,
     "metadata": {},
     "output_type": "execute_result"
    }
   ],
   "source": [
    "train_images.shape, train_labels.shape"
   ]
  },
  {
   "cell_type": "code",
   "execution_count": 7,
   "id": "f50dc2bb",
   "metadata": {
    "execution": {
     "iopub.execute_input": "2022-02-11T10:09:52.638354Z",
     "iopub.status.busy": "2022-02-11T10:09:52.637709Z",
     "iopub.status.idle": "2022-02-11T10:09:52.805659Z",
     "shell.execute_reply": "2022-02-11T10:09:52.804998Z"
    },
    "papermill": {
     "duration": 0.202152,
     "end_time": "2022-02-11T10:09:52.805808",
     "exception": false,
     "start_time": "2022-02-11T10:09:52.603656",
     "status": "completed"
    },
    "tags": []
   },
   "outputs": [],
   "source": [
    "test_images = mnist.test_images()\n",
    "test_labels = mnist.test_labels()"
   ]
  },
  {
   "cell_type": "code",
   "execution_count": 8,
   "id": "fc38cf1b",
   "metadata": {
    "execution": {
     "iopub.execute_input": "2022-02-11T10:09:52.872307Z",
     "iopub.status.busy": "2022-02-11T10:09:52.871658Z",
     "iopub.status.idle": "2022-02-11T10:09:52.888834Z",
     "shell.execute_reply": "2022-02-11T10:09:52.889319Z"
    },
    "papermill": {
     "duration": 0.052861,
     "end_time": "2022-02-11T10:09:52.889485",
     "exception": false,
     "start_time": "2022-02-11T10:09:52.836624",
     "status": "completed"
    },
    "tags": []
   },
   "outputs": [
    {
     "data": {
      "text/plain": [
       "((10000, 28, 28), (10000,))"
      ]
     },
     "execution_count": 8,
     "metadata": {},
     "output_type": "execute_result"
    }
   ],
   "source": [
    "test_images.shape, test_labels.shape"
   ]
  },
  {
   "cell_type": "code",
   "execution_count": 9,
   "id": "f9ed8fe0",
   "metadata": {
    "execution": {
     "iopub.execute_input": "2022-02-11T10:09:52.959417Z",
     "iopub.status.busy": "2022-02-11T10:09:52.957694Z",
     "iopub.status.idle": "2022-02-11T10:09:53.129621Z",
     "shell.execute_reply": "2022-02-11T10:09:53.130127Z"
    },
    "papermill": {
     "duration": 0.207541,
     "end_time": "2022-02-11T10:09:53.130288",
     "exception": false,
     "start_time": "2022-02-11T10:09:52.922747",
     "status": "completed"
    },
    "tags": []
   },
   "outputs": [
    {
     "name": "stdout",
     "output_type": "stream",
     "text": [
      "2\n"
     ]
    },
    {
     "data": {
      "text/plain": [
       "<matplotlib.image.AxesImage at 0x7f3d3f744550>"
      ]
     },
     "execution_count": 9,
     "metadata": {},
     "output_type": "execute_result"
    },
    {
     "data": {
      "image/png": "[encoded data removed]",
      "text/plain": [
       "<Figure size 432x288 with 1 Axes>"
      ]
     },
     "metadata": {
      "needs_background": "light"
     },
     "output_type": "display_data"
    }
   ],
   "source": [
    "image_index = 7776 # You may select anything up to 60,000\n",
    "print(train_labels[image_index]) \n",
    "plt.imshow(train_images[image_index], cmap='Greys')"
   ]
  },
  {
   "cell_type": "markdown",
   "id": "a8d2388d",
   "metadata": {
    "papermill": {
     "duration": 0.032396,
     "end_time": "2022-02-11T10:09:53.196099",
     "exception": false,
     "start_time": "2022-02-11T10:09:53.163703",
     "status": "completed"
    },
    "tags": []
   },
   "source": [
    "## Filter data to get 3 and 8 out"
   ]
  },
  {
   "cell_type": "code",
   "execution_count": 10,
   "id": "776f7fc7",
   "metadata": {
    "execution": {
     "iopub.execute_input": "2022-02-11T10:09:53.265309Z",
     "iopub.status.busy": "2022-02-11T10:09:53.264668Z",
     "iopub.status.idle": "2022-02-11T10:09:53.287067Z",
     "shell.execute_reply": "2022-02-11T10:09:53.286254Z"
    },
    "papermill": {
     "duration": 0.059074,
     "end_time": "2022-02-11T10:09:53.287281",
     "exception": false,
     "start_time": "2022-02-11T10:09:53.228207",
     "status": "completed"
    },
    "tags": []
   },
   "outputs": [],
   "source": [
    "train_filter = np.where((train_labels == 3 ) | (train_labels == 8))\n",
    "test_filter = np.where((test_labels == 3) | (test_labels == 8))\n",
    "X_train, y_train = train_images[train_filter], train_labels[train_filter]\n",
    "X_test, y_test = test_images[test_filter], test_labels[test_filter]"
   ]
  },
  {
   "cell_type": "markdown",
   "id": "948f0b7e",
   "metadata": {
    "papermill": {
     "duration": 0.031915,
     "end_time": "2022-02-11T10:09:53.352102",
     "exception": false,
     "start_time": "2022-02-11T10:09:53.320187",
     "status": "completed"
    },
    "tags": []
   },
   "source": [
    "We normalize the pizel values in the 0 to 1 range"
   ]
  },
  {
   "cell_type": "code",
   "execution_count": 11,
   "id": "ee4c2166",
   "metadata": {
    "execution": {
     "iopub.execute_input": "2022-02-11T10:09:53.421861Z",
     "iopub.status.busy": "2022-02-11T10:09:53.421224Z",
     "iopub.status.idle": "2022-02-11T10:09:53.477738Z",
     "shell.execute_reply": "2022-02-11T10:09:53.476777Z"
    },
    "papermill": {
     "duration": 0.093087,
     "end_time": "2022-02-11T10:09:53.477959",
     "exception": false,
     "start_time": "2022-02-11T10:09:53.384872",
     "status": "completed"
    },
    "tags": []
   },
   "outputs": [],
   "source": [
    "X_train = X_train/255.\n",
    "X_test = X_test/255."
   ]
  },
  {
   "cell_type": "markdown",
   "id": "ddcf4fab",
   "metadata": {
    "papermill": {
     "duration": 0.033255,
     "end_time": "2022-02-11T10:09:53.544611",
     "exception": false,
     "start_time": "2022-02-11T10:09:53.511356",
     "status": "completed"
    },
    "tags": []
   },
   "source": [
    "And setup the labels as 1 (when the digit is 3) and 0 (when the digit is 8)"
   ]
  },
  {
   "cell_type": "code",
   "execution_count": 12,
   "id": "7dc908f2",
   "metadata": {
    "execution": {
     "iopub.execute_input": "2022-02-11T10:09:53.614613Z",
     "iopub.status.busy": "2022-02-11T10:09:53.613948Z",
     "iopub.status.idle": "2022-02-11T10:09:53.629394Z",
     "shell.execute_reply": "2022-02-11T10:09:53.628808Z"
    },
    "papermill": {
     "duration": 0.0521,
     "end_time": "2022-02-11T10:09:53.629530",
     "exception": false,
     "start_time": "2022-02-11T10:09:53.577430",
     "status": "completed"
    },
    "tags": []
   },
   "outputs": [],
   "source": [
    "y_train = 1*(y_train==3)\n",
    "y_test = 1*(y_test==3)"
   ]
  },
  {
   "cell_type": "code",
   "execution_count": 13,
   "id": "01e4e969",
   "metadata": {
    "execution": {
     "iopub.execute_input": "2022-02-11T10:09:53.696979Z",
     "iopub.status.busy": "2022-02-11T10:09:53.696342Z",
     "iopub.status.idle": "2022-02-11T10:09:53.713302Z",
     "shell.execute_reply": "2022-02-11T10:09:53.712762Z"
    },
    "papermill": {
     "duration": 0.05234,
     "end_time": "2022-02-11T10:09:53.713441",
     "exception": false,
     "start_time": "2022-02-11T10:09:53.661101",
     "status": "completed"
    },
    "tags": []
   },
   "outputs": [
    {
     "data": {
      "text/plain": [
       "((11982, 28, 28), (1984, 28, 28))"
      ]
     },
     "execution_count": 13,
     "metadata": {},
     "output_type": "execute_result"
    }
   ],
   "source": [
    "X_train.shape, X_test.shape"
   ]
  },
  {
   "cell_type": "markdown",
   "id": "5ccf3f85",
   "metadata": {
    "papermill": {
     "duration": 0.031602,
     "end_time": "2022-02-11T10:09:53.776705",
     "exception": false,
     "start_time": "2022-02-11T10:09:53.745103",
     "status": "completed"
    },
    "tags": []
   },
   "source": [
    "We reshape the data to flatten the image pixels into a set of features or co-variates:"
   ]
  },
  {
   "cell_type": "code",
   "execution_count": 14,
   "id": "5286a4a3",
   "metadata": {
    "execution": {
     "iopub.execute_input": "2022-02-11T10:09:53.853279Z",
     "iopub.status.busy": "2022-02-11T10:09:53.852614Z",
     "iopub.status.idle": "2022-02-11T10:09:53.864761Z",
     "shell.execute_reply": "2022-02-11T10:09:53.864221Z"
    },
    "papermill": {
     "duration": 0.056364,
     "end_time": "2022-02-11T10:09:53.864897",
     "exception": false,
     "start_time": "2022-02-11T10:09:53.808533",
     "status": "completed"
    },
    "tags": []
   },
   "outputs": [
    {
     "data": {
      "text/plain": [
       "((11982, 784), (1984, 784))"
      ]
     },
     "execution_count": 14,
     "metadata": {},
     "output_type": "execute_result"
    }
   ],
   "source": [
    "X_train = X_train.reshape(X_train.shape[0], -1)\n",
    "X_test = X_test.reshape(X_test.shape[0], -1)\n",
    "X_train.shape, X_test.shape"
   ]
  },
  {
   "cell_type": "code",
   "execution_count": 15,
   "id": "73c5f88a",
   "metadata": {
    "execution": {
     "iopub.execute_input": "2022-02-11T10:09:53.952069Z",
     "iopub.status.busy": "2022-02-11T10:09:53.939409Z",
     "iopub.status.idle": "2022-02-11T10:09:53.963046Z",
     "shell.execute_reply": "2022-02-11T10:09:53.963877Z"
    },
    "papermill": {
     "duration": 0.067084,
     "end_time": "2022-02-11T10:09:53.964045",
     "exception": false,
     "start_time": "2022-02-11T10:09:53.896961",
     "status": "completed"
    },
    "tags": []
   },
   "outputs": [],
   "source": [
    "#Impoting functions from 'Kudzu'\n",
    "from kudzu.model import Model\n",
    "from kudzu.train import Learner\n",
    "from kudzu.optim import GD\n",
    "from kudzu.data import Data, Sampler,Dataloader\n",
    "\n",
    "from kudzu.callbacks import AccCallback\n",
    "from kudzu.callbacks import ClfCallback\n",
    "\n",
    "from kudzu.loss import MSE\n",
    "\n",
    "from kudzu.layer import Sigmoid,Relu\n",
    "from kudzu.layer import Affine"
   ]
  },
  {
   "cell_type": "markdown",
   "id": "bc01172a",
   "metadata": {
    "papermill": {
     "duration": 0.031722,
     "end_time": "2022-02-11T10:09:54.028169",
     "exception": false,
     "start_time": "2022-02-11T10:09:53.996447",
     "status": "completed"
    },
    "tags": []
   },
   "source": [
    "### Let us create a `Config` class, to store important parameters. \n",
    "This class essentially plays the role of a dictionary."
   ]
  },
  {
   "cell_type": "code",
   "execution_count": 16,
   "id": "978281aa",
   "metadata": {
    "execution": {
     "iopub.execute_input": "2022-02-11T10:09:54.097617Z",
     "iopub.status.busy": "2022-02-11T10:09:54.096947Z",
     "iopub.status.idle": "2022-02-11T10:09:54.113039Z",
     "shell.execute_reply": "2022-02-11T10:09:54.112477Z"
    },
    "papermill": {
     "duration": 0.052973,
     "end_time": "2022-02-11T10:09:54.113179",
     "exception": false,
     "start_time": "2022-02-11T10:09:54.060206",
     "status": "completed"
    },
    "tags": []
   },
   "outputs": [],
   "source": [
    "class Config:\n",
    "    pass\n",
    "config = Config()\n",
    "config.lr = 0.001\n",
    "config.num_epochs = 250\n",
    "config.bs = 50"
   ]
  },
  {
   "cell_type": "markdown",
   "id": "1385fa59",
   "metadata": {
    "papermill": {
     "duration": 0.039016,
     "end_time": "2022-02-11T10:09:54.185217",
     "exception": false,
     "start_time": "2022-02-11T10:09:54.146201",
     "status": "completed"
    },
    "tags": []
   },
   "source": [
    "### Running Models with the Training data\n",
    "Details about the network layers:\n",
    "- A first affine layer has 784 inputs and does 100 affine transforms. These are followed by a Relu\n",
    "- A second affine layer has 100 inputs from the 100 activations of the past layer, and does 100 affine transforms. These are followed by a Relu\n",
    "- A third affine layer has 100 activations and does 2 affine transformations to create an embedding for visualization. There is no non-linearity here.\n",
    "- A final \"logistic regression\" which has an affine transform from 2 inputs to 1 output, which is squeezed through a sigmoid.\n"
   ]
  },
  {
   "cell_type": "code",
   "execution_count": 17,
   "id": "2b9c66db",
   "metadata": {
    "execution": {
     "iopub.execute_input": "2022-02-11T10:09:54.260487Z",
     "iopub.status.busy": "2022-02-11T10:09:54.259826Z",
     "iopub.status.idle": "2022-02-11T10:09:54.276321Z",
     "shell.execute_reply": "2022-02-11T10:09:54.276809Z"
    },
    "papermill": {
     "duration": 0.05819,
     "end_time": "2022-02-11T10:09:54.276976",
     "exception": false,
     "start_time": "2022-02-11T10:09:54.218786",
     "status": "completed"
    },
    "tags": []
   },
   "outputs": [],
   "source": [
    "data = Data(X_train, y_train.reshape(-1,1))\n",
    "sampler = Sampler(data, config.bs, shuffle=True)\n",
    "\n",
    "dl = Dataloader(data, sampler)\n",
    "\n",
    "opt = GD(config.lr)\n",
    "loss = MSE()"
   ]
  },
  {
   "cell_type": "code",
   "execution_count": 18,
   "id": "b275e4c2",
   "metadata": {
    "execution": {
     "iopub.execute_input": "2022-02-11T10:09:54.348885Z",
     "iopub.status.busy": "2022-02-11T10:09:54.348152Z",
     "iopub.status.idle": "2022-02-11T10:09:54.363411Z",
     "shell.execute_reply": "2022-02-11T10:09:54.362787Z"
    },
    "papermill": {
     "duration": 0.052794,
     "end_time": "2022-02-11T10:09:54.363567",
     "exception": false,
     "start_time": "2022-02-11T10:09:54.310773",
     "status": "completed"
    },
    "tags": []
   },
   "outputs": [],
   "source": [
    "training_data_x = X_train\n",
    "testing_data_x = X_test\n",
    "training_data_y = y_train.reshape(-1,1)\n",
    "testing_data_y = y_test.reshape(-1,1)"
   ]
  },
  {
   "cell_type": "code",
   "execution_count": 19,
   "id": "76951160",
   "metadata": {
    "execution": {
     "iopub.execute_input": "2022-02-11T10:09:54.435131Z",
     "iopub.status.busy": "2022-02-11T10:09:54.434441Z",
     "iopub.status.idle": "2022-02-11T10:09:54.453706Z",
     "shell.execute_reply": "2022-02-11T10:09:54.453190Z"
    },
    "papermill": {
     "duration": 0.057423,
     "end_time": "2022-02-11T10:09:54.453848",
     "exception": false,
     "start_time": "2022-02-11T10:09:54.396425",
     "status": "completed"
    },
    "tags": []
   },
   "outputs": [
    {
     "name": "stdout",
     "output_type": "stream",
     "text": [
      "xavier\n",
      "xavier\n",
      "xavier\n",
      "xavier\n",
      "xavier\n"
     ]
    }
   ],
   "source": [
    "layers = [Affine(\"first\", 784, 100), Relu(\"first\"), Affine(\"second\", 100, 100), Relu(\"second\"), Affine(\"third\", 100, 2), Affine(\"last\", 2, 1), Sigmoid(\"last\")]\n",
    "model_nn = Model(layers)\n",
    "model_lr = Model([Affine(\"logits\", 784, 1), Sigmoid(\"sigmoid\")])"
   ]
  },
  {
   "cell_type": "code",
   "execution_count": 20,
   "id": "6eede77a",
   "metadata": {
    "execution": {
     "iopub.execute_input": "2022-02-11T10:09:54.526200Z",
     "iopub.status.busy": "2022-02-11T10:09:54.524802Z",
     "iopub.status.idle": "2022-02-11T10:09:54.548561Z",
     "shell.execute_reply": "2022-02-11T10:09:54.547355Z"
    },
    "papermill": {
     "duration": 0.06135,
     "end_time": "2022-02-11T10:09:54.548873",
     "exception": false,
     "start_time": "2022-02-11T10:09:54.487523",
     "status": "completed"
    },
    "tags": []
   },
   "outputs": [],
   "source": [
    "nn_learner = Learner(loss, model_nn, opt, config.num_epochs)\n",
    "acc_nn = ClfCallback(nn_learner, config.bs, training_data_x , testing_data_x, training_data_y, testing_data_y)\n",
    "nn_learner.set_callbacks([acc_nn])"
   ]
  },
  {
   "cell_type": "code",
   "execution_count": 21,
   "id": "877b6cc7",
   "metadata": {
    "execution": {
     "iopub.execute_input": "2022-02-11T10:09:54.622180Z",
     "iopub.status.busy": "2022-02-11T10:09:54.621554Z",
     "iopub.status.idle": "2022-02-11T10:09:54.638775Z",
     "shell.execute_reply": "2022-02-11T10:09:54.638235Z"
    },
    "papermill": {
     "duration": 0.055649,
     "end_time": "2022-02-11T10:09:54.638912",
     "exception": false,
     "start_time": "2022-02-11T10:09:54.583263",
     "status": "completed"
    },
    "tags": []
   },
   "outputs": [],
   "source": [
    "lr_learner = Learner(loss, model_lr, opt, config.num_epochs)\n",
    "acc_lr = ClfCallback(lr_learner, config.bs, training_data_x , testing_data_x, training_data_y, testing_data_y)\n",
    "lr_learner.set_callbacks([acc_lr])"
   ]
  },
  {
   "cell_type": "code",
   "execution_count": 22,
   "id": "d9b133c3",
   "metadata": {
    "execution": {
     "iopub.execute_input": "2022-02-11T10:09:54.710241Z",
     "iopub.status.busy": "2022-02-11T10:09:54.709619Z",
     "iopub.status.idle": "2022-02-11T10:11:24.128935Z",
     "shell.execute_reply": "2022-02-11T10:11:24.129847Z"
    },
    "papermill": {
     "duration": 89.458345,
     "end_time": "2022-02-11T10:11:24.130024",
     "exception": false,
     "start_time": "2022-02-11T10:09:54.671679",
     "status": "completed"
    },
    "tags": []
   },
   "outputs": [
    {
     "name": "stdout",
     "output_type": "stream",
     "text": [
      "Epoch 0, Loss 0.2434\n",
      "Training Accuracy: 0.5457, Testing Accuracy: 0.5534\n",
      "\n"
     ]
    },
    {
     "name": "stdout",
     "output_type": "stream",
     "text": [
      "Epoch 10, Loss 0.1259\n",
      "Training Accuracy: 0.8944, Testing Accuracy: 0.9123\n",
      "\n"
     ]
    },
    {
     "name": "stdout",
     "output_type": "stream",
     "text": [
      "Epoch 20, Loss 0.0687\n",
      "Training Accuracy: 0.9327, Testing Accuracy: 0.9435\n",
      "\n"
     ]
    },
    {
     "name": "stdout",
     "output_type": "stream",
     "text": [
      "Epoch 30, Loss 0.0497\n",
      "Training Accuracy: 0.9480, Testing Accuracy: 0.9592\n",
      "\n"
     ]
    },
    {
     "name": "stdout",
     "output_type": "stream",
     "text": [
      "Epoch 40, Loss 0.0413\n",
      "Training Accuracy: 0.9556, Testing Accuracy: 0.9652\n",
      "\n"
     ]
    },
    {
     "name": "stdout",
     "output_type": "stream",
     "text": [
      "Epoch 50, Loss 0.0367\n",
      "Training Accuracy: 0.9591, Testing Accuracy: 0.9693\n",
      "\n"
     ]
    },
    {
     "name": "stdout",
     "output_type": "stream",
     "text": [
      "Epoch 60, Loss 0.0338\n",
      "Training Accuracy: 0.9622, Testing Accuracy: 0.9703\n",
      "\n"
     ]
    },
    {
     "name": "stdout",
     "output_type": "stream",
     "text": [
      "Epoch 70, Loss 0.0317\n",
      "Training Accuracy: 0.9640, Testing Accuracy: 0.9708\n",
      "\n"
     ]
    },
    {
     "name": "stdout",
     "output_type": "stream",
     "text": [
      "Epoch 80, Loss 0.0301\n",
      "Training Accuracy: 0.9653, Testing Accuracy: 0.9718\n",
      "\n"
     ]
    },
    {
     "name": "stdout",
     "output_type": "stream",
     "text": [
      "Epoch 90, Loss 0.0288\n",
      "Training Accuracy: 0.9666, Testing Accuracy: 0.9743\n",
      "\n"
     ]
    },
    {
     "name": "stdout",
     "output_type": "stream",
     "text": [
      "Epoch 100, Loss 0.0277\n",
      "Training Accuracy: 0.9680, Testing Accuracy: 0.9728\n",
      "\n"
     ]
    },
    {
     "name": "stdout",
     "output_type": "stream",
     "text": [
      "Epoch 110, Loss 0.0268\n",
      "Training Accuracy: 0.9690, Testing Accuracy: 0.9723\n",
      "\n"
     ]
    },
    {
     "name": "stdout",
     "output_type": "stream",
     "text": [
      "Epoch 120, Loss 0.026\n",
      "Training Accuracy: 0.9701, Testing Accuracy: 0.9743\n",
      "\n"
     ]
    },
    {
     "name": "stdout",
     "output_type": "stream",
     "text": [
      "Epoch 130, Loss 0.0253\n",
      "Training Accuracy: 0.9713, Testing Accuracy: 0.9743\n",
      "\n"
     ]
    },
    {
     "name": "stdout",
     "output_type": "stream",
     "text": [
      "Epoch 140, Loss 0.0247\n",
      "Training Accuracy: 0.9716, Testing Accuracy: 0.9733\n",
      "\n"
     ]
    },
    {
     "name": "stdout",
     "output_type": "stream",
     "text": [
      "Epoch 150, Loss 0.0241\n",
      "Training Accuracy: 0.9723, Testing Accuracy: 0.9733\n",
      "\n"
     ]
    },
    {
     "name": "stdout",
     "output_type": "stream",
     "text": [
      "Epoch 160, Loss 0.0236\n",
      "Training Accuracy: 0.9729, Testing Accuracy: 0.9728\n",
      "\n"
     ]
    },
    {
     "name": "stdout",
     "output_type": "stream",
     "text": [
      "Epoch 170, Loss 0.0232\n",
      "Training Accuracy: 0.9736, Testing Accuracy: 0.9738\n",
      "\n"
     ]
    },
    {
     "name": "stdout",
     "output_type": "stream",
     "text": [
      "Epoch 180, Loss 0.0227\n",
      "Training Accuracy: 0.9742, Testing Accuracy: 0.9733\n",
      "\n"
     ]
    },
    {
     "name": "stdout",
     "output_type": "stream",
     "text": [
      "Epoch 190, Loss 0.0223\n",
      "Training Accuracy: 0.9750, Testing Accuracy: 0.9738\n",
      "\n"
     ]
    },
    {
     "name": "stdout",
     "output_type": "stream",
     "text": [
      "Epoch 200, Loss 0.0219\n",
      "Training Accuracy: 0.9758, Testing Accuracy: 0.9738\n",
      "\n"
     ]
    },
    {
     "name": "stdout",
     "output_type": "stream",
     "text": [
      "Epoch 210, Loss 0.0215\n",
      "Training Accuracy: 0.9761, Testing Accuracy: 0.9738\n",
      "\n"
     ]
    },
    {
     "name": "stdout",
     "output_type": "stream",
     "text": [
      "Epoch 220, Loss 0.0212\n",
      "Training Accuracy: 0.9763, Testing Accuracy: 0.9733\n",
      "\n"
     ]
    },
    {
     "name": "stdout",
     "output_type": "stream",
     "text": [
      "Epoch 230, Loss 0.0209\n",
      "Training Accuracy: 0.9765, Testing Accuracy: 0.9733\n",
      "\n"
     ]
    },
    {
     "name": "stdout",
     "output_type": "stream",
     "text": [
      "Epoch 240, Loss 0.0205\n",
      "Training Accuracy: 0.9768, Testing Accuracy: 0.9733\n",
      "\n"
     ]
    },
    {
     "data": {
      "text/plain": [
       "0.011265991472945141"
      ]
     },
     "execution_count": 22,
     "metadata": {},
     "output_type": "execute_result"
    }
   ],
   "source": [
    "nn_learner.train_loop(dl)"
   ]
  },
  {
   "cell_type": "code",
   "execution_count": 23,
   "id": "e0163366",
   "metadata": {
    "execution": {
     "iopub.execute_input": "2022-02-11T10:11:24.224828Z",
     "iopub.status.busy": "2022-02-11T10:11:24.224190Z",
     "iopub.status.idle": "2022-02-11T10:11:40.446611Z",
     "shell.execute_reply": "2022-02-11T10:11:40.447513Z"
    },
    "papermill": {
     "duration": 16.276005,
     "end_time": "2022-02-11T10:11:40.447688",
     "exception": false,
     "start_time": "2022-02-11T10:11:24.171683",
     "status": "completed"
    },
    "tags": []
   },
   "outputs": [
    {
     "name": "stdout",
     "output_type": "stream",
     "text": [
      "Epoch 0, Loss 0.2305\n",
      "Training Accuracy: 0.7389, Testing Accuracy: 0.7263\n",
      "\n"
     ]
    },
    {
     "name": "stdout",
     "output_type": "stream",
     "text": [
      "Epoch 10, Loss 0.1026\n",
      "Training Accuracy: 0.9122, Testing Accuracy: 0.9234\n",
      "\n"
     ]
    },
    {
     "name": "stdout",
     "output_type": "stream",
     "text": [
      "Epoch 20, Loss 0.0789\n",
      "Training Accuracy: 0.9304, Testing Accuracy: 0.9425\n",
      "\n"
     ]
    },
    {
     "name": "stdout",
     "output_type": "stream",
     "text": [
      "Epoch 30, Loss 0.0681\n",
      "Training Accuracy: 0.9377, Testing Accuracy: 0.9501\n",
      "\n"
     ]
    },
    {
     "name": "stdout",
     "output_type": "stream",
     "text": [
      "Epoch 40, Loss 0.0616\n",
      "Training Accuracy: 0.9419, Testing Accuracy: 0.9521\n",
      "\n"
     ]
    },
    {
     "name": "stdout",
     "output_type": "stream",
     "text": [
      "Epoch 50, Loss 0.0571\n",
      "Training Accuracy: 0.9454, Testing Accuracy: 0.9546\n",
      "\n"
     ]
    },
    {
     "name": "stdout",
     "output_type": "stream",
     "text": [
      "Epoch 60, Loss 0.0539\n",
      "Training Accuracy: 0.9476, Testing Accuracy: 0.9577\n",
      "\n"
     ]
    },
    {
     "name": "stdout",
     "output_type": "stream",
     "text": [
      "Epoch 70, Loss 0.0513\n",
      "Training Accuracy: 0.9485, Testing Accuracy: 0.9582\n",
      "\n"
     ]
    },
    {
     "name": "stdout",
     "output_type": "stream",
     "text": [
      "Epoch 80, Loss 0.0493\n",
      "Training Accuracy: 0.9504, Testing Accuracy: 0.9572\n",
      "\n"
     ]
    },
    {
     "name": "stdout",
     "output_type": "stream",
     "text": [
      "Epoch 90, Loss 0.0476\n",
      "Training Accuracy: 0.9525, Testing Accuracy: 0.9592\n",
      "\n"
     ]
    },
    {
     "name": "stdout",
     "output_type": "stream",
     "text": [
      "Epoch 100, Loss 0.0462\n",
      "Training Accuracy: 0.9538, Testing Accuracy: 0.9607\n",
      "\n"
     ]
    },
    {
     "name": "stdout",
     "output_type": "stream",
     "text": [
      "Epoch 110, Loss 0.0449\n",
      "Training Accuracy: 0.9545, Testing Accuracy: 0.9627\n",
      "\n"
     ]
    },
    {
     "name": "stdout",
     "output_type": "stream",
     "text": [
      "Epoch 120, Loss 0.0439\n",
      "Training Accuracy: 0.9554, Testing Accuracy: 0.9647\n",
      "\n"
     ]
    },
    {
     "name": "stdout",
     "output_type": "stream",
     "text": [
      "Epoch 130, Loss 0.0429\n",
      "Training Accuracy: 0.9561, Testing Accuracy: 0.9642\n",
      "\n"
     ]
    },
    {
     "name": "stdout",
     "output_type": "stream",
     "text": [
      "Epoch 140, Loss 0.0421\n",
      "Training Accuracy: 0.9567, Testing Accuracy: 0.9657\n",
      "\n"
     ]
    },
    {
     "name": "stdout",
     "output_type": "stream",
     "text": [
      "Epoch 150, Loss 0.0414\n",
      "Training Accuracy: 0.9571, Testing Accuracy: 0.9657\n",
      "\n"
     ]
    },
    {
     "name": "stdout",
     "output_type": "stream",
     "text": [
      "Epoch 160, Loss 0.0407\n",
      "Training Accuracy: 0.9574, Testing Accuracy: 0.9657\n",
      "\n"
     ]
    },
    {
     "name": "stdout",
     "output_type": "stream",
     "text": [
      "Epoch 170, Loss 0.0401\n",
      "Training Accuracy: 0.9583, Testing Accuracy: 0.9662\n",
      "\n"
     ]
    },
    {
     "name": "stdout",
     "output_type": "stream",
     "text": [
      "Epoch 180, Loss 0.0395\n",
      "Training Accuracy: 0.9587, Testing Accuracy: 0.9667\n",
      "\n"
     ]
    },
    {
     "name": "stdout",
     "output_type": "stream",
     "text": [
      "Epoch 190, Loss 0.039\n",
      "Training Accuracy: 0.9592, Testing Accuracy: 0.9657\n",
      "\n"
     ]
    },
    {
     "name": "stdout",
     "output_type": "stream",
     "text": [
      "Epoch 200, Loss 0.0385\n",
      "Training Accuracy: 0.9593, Testing Accuracy: 0.9657\n",
      "\n"
     ]
    },
    {
     "name": "stdout",
     "output_type": "stream",
     "text": [
      "Epoch 210, Loss 0.0381\n",
      "Training Accuracy: 0.9596, Testing Accuracy: 0.9662\n",
      "\n"
     ]
    },
    {
     "name": "stdout",
     "output_type": "stream",
     "text": [
      "Epoch 220, Loss 0.0376\n",
      "Training Accuracy: 0.9601, Testing Accuracy: 0.9662\n",
      "\n"
     ]
    },
    {
     "name": "stdout",
     "output_type": "stream",
     "text": [
      "Epoch 230, Loss 0.0373\n",
      "Training Accuracy: 0.9603, Testing Accuracy: 0.9662\n",
      "\n"
     ]
    },
    {
     "name": "stdout",
     "output_type": "stream",
     "text": [
      "Epoch 240, Loss 0.0369\n",
      "Training Accuracy: 0.9604, Testing Accuracy: 0.9662\n",
      "\n"
     ]
    },
    {
     "data": {
      "text/plain": [
       "0.025856320117537822"
      ]
     },
     "execution_count": 23,
     "metadata": {},
     "output_type": "execute_result"
    }
   ],
   "source": [
    "lr_learner.train_loop(dl)"
   ]
  },
  {
   "cell_type": "code",
   "execution_count": 24,
   "id": "ca410940",
   "metadata": {
    "execution": {
     "iopub.execute_input": "2022-02-11T10:11:40.560753Z",
     "iopub.status.busy": "2022-02-11T10:11:40.560119Z",
     "iopub.status.idle": "2022-02-11T10:11:40.817808Z",
     "shell.execute_reply": "2022-02-11T10:11:40.816590Z"
    },
    "papermill": {
     "duration": 0.321199,
     "end_time": "2022-02-11T10:11:40.817959",
     "exception": false,
     "start_time": "2022-02-11T10:11:40.496760",
     "status": "completed"
    },
    "tags": []
   },
   "outputs": [
    {
     "data": {
      "text/plain": [
       "<matplotlib.legend.Legend at 0x7f3d3f323c88>"
      ]
     },
     "execution_count": 24,
     "metadata": {},
     "output_type": "execute_result"
    },
    {
     "data": {
      "image/png": "[encoded data removed]",
      "text/plain": [
       "<Figure size 1080x720 with 1 Axes>"
      ]
     },
     "metadata": {
      "needs_background": "light"
     },
     "output_type": "display_data"
    }
   ],
   "source": [
    "#comparing the results of NN and LR\n",
    "plt.figure(figsize=(15,10))\n",
    "\n",
    "# Neural Network plots\n",
    "plt.plot(acc_nn.accuracies, 'r-', label = \"Training Accuracies - NN\")\n",
    "plt.plot(acc_nn.test_accuracies, 'g-', label = \"Testing Accuracies - NN\")\n",
    "\n",
    "# Logistic Regression plots\n",
    "plt.plot(acc_lr.accuracies, 'k-', label = \"Training Accuracies - LR\")\n",
    "plt.plot(acc_lr.test_accuracies, 'b-', label = \"Testing Accuracies - LR\")\n",
    "plt.legend()"
   ]
  },
  {
   "cell_type": "markdown",
   "id": "80dfb35c",
   "metadata": {
    "papermill": {
     "duration": 0.049762,
     "end_time": "2022-02-11T10:11:40.917845",
     "exception": false,
     "start_time": "2022-02-11T10:11:40.868083",
     "status": "completed"
    },
    "tags": []
   },
   "source": [
    "#### Plotting the outputs of this layer of the NN.\n"
   ]
  },
  {
   "cell_type": "code",
   "execution_count": 25,
   "id": "45eb2ff5",
   "metadata": {
    "execution": {
     "iopub.execute_input": "2022-02-11T10:11:41.022852Z",
     "iopub.status.busy": "2022-02-11T10:11:41.021471Z",
     "iopub.status.idle": "2022-02-11T10:11:41.044076Z",
     "shell.execute_reply": "2022-02-11T10:11:41.044569Z"
    },
    "papermill": {
     "duration": 0.076966,
     "end_time": "2022-02-11T10:11:41.044742",
     "exception": false,
     "start_time": "2022-02-11T10:11:40.967776",
     "status": "completed"
    },
    "tags": []
   },
   "outputs": [],
   "source": [
    "new_model = Model(layers[:-2])\n",
    "testing_plot = new_model(testing_data_x)"
   ]
  },
  {
   "cell_type": "code",
   "execution_count": 26,
   "id": "4c0a5485",
   "metadata": {
    "execution": {
     "iopub.execute_input": "2022-02-11T10:11:41.164681Z",
     "iopub.status.busy": "2022-02-11T10:11:41.163541Z",
     "iopub.status.idle": "2022-02-11T10:11:41.411596Z",
     "shell.execute_reply": "2022-02-11T10:11:41.412106Z"
    },
    "papermill": {
     "duration": 0.311406,
     "end_time": "2022-02-11T10:11:41.412271",
     "exception": false,
     "start_time": "2022-02-11T10:11:41.100865",
     "status": "completed"
    },
    "tags": []
   },
   "outputs": [
    {
     "data": {
      "text/plain": [
       "Text(0.5, 1.0, 'Outputs')"
      ]
     },
     "execution_count": 26,
     "metadata": {},
     "output_type": "execute_result"
    },
    {
     "data": {
      "image/png": "[encoded data removed]",
      "text/plain": [
       "<Figure size 576x504 with 1 Axes>"
      ]
     },
     "metadata": {
      "needs_background": "light"
     },
     "output_type": "display_data"
    }
   ],
   "source": [
    "# Plotting the scatter plot of points and color coding by class\n",
    "plt.figure(figsize=(8,7))\n",
    "plt.scatter(testing_plot[:,0], testing_plot[:,1], alpha = 0.1, c = y_test.ravel());\n",
    "plt.title('Outputs')"
   ]
  },
  {
   "cell_type": "markdown",
   "id": "a74fcf8f",
   "metadata": {
    "papermill": {
     "duration": 0.05297,
     "end_time": "2022-02-11T10:11:41.518495",
     "exception": false,
     "start_time": "2022-02-11T10:11:41.465525",
     "status": "completed"
    },
    "tags": []
   },
   "source": [
    "Probability contours"
   ]
  },
  {
   "cell_type": "code",
   "execution_count": 27,
   "id": "d0afc8e3",
   "metadata": {
    "execution": {
     "iopub.execute_input": "2022-02-11T10:11:41.630132Z",
     "iopub.status.busy": "2022-02-11T10:11:41.629465Z",
     "iopub.status.idle": "2022-02-11T10:11:41.643345Z",
     "shell.execute_reply": "2022-02-11T10:11:41.642787Z"
    },
    "papermill": {
     "duration": 0.071125,
     "end_time": "2022-02-11T10:11:41.643495",
     "exception": false,
     "start_time": "2022-02-11T10:11:41.572370",
     "status": "completed"
    },
    "tags": []
   },
   "outputs": [],
   "source": [
    "model_prob = Model(layers[-2:]) "
   ]
  },
  {
   "cell_type": "code",
   "execution_count": 28,
   "id": "9b96e238",
   "metadata": {
    "execution": {
     "iopub.execute_input": "2022-02-11T10:11:41.759369Z",
     "iopub.status.busy": "2022-02-11T10:11:41.754962Z",
     "iopub.status.idle": "2022-02-11T10:11:41.773475Z",
     "shell.execute_reply": "2022-02-11T10:11:41.773987Z"
    },
    "papermill": {
     "duration": 0.077256,
     "end_time": "2022-02-11T10:11:41.774151",
     "exception": false,
     "start_time": "2022-02-11T10:11:41.696895",
     "status": "completed"
    },
    "tags": []
   },
   "outputs": [],
   "source": [
    "#creating the x and y ranges according to the above generated plot.\n",
    "x_range = np.linspace(-4, 1, 100) \n",
    "y_range = np.linspace(-6, 6, 100) \n",
    "x_grid, y_grid = np.meshgrid(x_range, y_range) # x_grid and y_grig are of size 100 X 100\n",
    "\n",
    "# converting x_grid and y_grid to continuous arrays\n",
    "x_gridflat = np.ravel(x_grid)\n",
    "y_gridflat = np.ravel(y_grid)\n",
    "\n",
    "# The last layer of the current model takes two columns as input. Hence transpose of np.vstack() is required.\n",
    "X = np.vstack((x_gridflat, y_gridflat)).T\n",
    "\n",
    "prob_contour = model_prob(X).reshape(100,100) "
   ]
  },
  {
   "cell_type": "code",
   "execution_count": 29,
   "id": "da72499a",
   "metadata": {
    "execution": {
     "iopub.execute_input": "2022-02-11T10:11:41.920364Z",
     "iopub.status.busy": "2022-02-11T10:11:41.918843Z",
     "iopub.status.idle": "2022-02-11T10:11:42.228665Z",
     "shell.execute_reply": "2022-02-11T10:11:42.229142Z"
    },
    "papermill": {
     "duration": 0.369827,
     "end_time": "2022-02-11T10:11:42.229312",
     "exception": false,
     "start_time": "2022-02-11T10:11:41.859485",
     "status": "completed"
    },
    "tags": []
   },
   "outputs": [
    {
     "data": {
      "image/png": "[encoded data removed]",
      "text/plain": [
       "<Figure size 720x648 with 1 Axes>"
      ]
     },
     "metadata": {
      "needs_background": "light"
     },
     "output_type": "display_data"
    }
   ],
   "source": [
    "plt.figure(figsize=(10,9))\n",
    "plt.scatter(testing_plot[:,0], testing_plot[:,1], alpha = 0.1, c = y_test.ravel())\n",
    "contours = plt.contour(x_grid,y_grid,prob_contour)\n",
    "plt.title('Probability Contours')\n",
    "plt.clabel(contours, inline = True );"
   ]
  },
  {
   "cell_type": "code",
   "execution_count": null,
   "id": "e81b4ac7",
   "metadata": {
    "papermill": {
     "duration": 0.060735,
     "end_time": "2022-02-11T10:11:42.353342",
     "exception": false,
     "start_time": "2022-02-11T10:11:42.292607",
     "status": "completed"
    },
    "tags": []
   },
   "outputs": [],
   "source": []
  }
 ],
 "metadata": {
  "kernelspec": {
   "display_name": "Python 3",
   "language": "python",
   "name": "python3"
  },
  "language_info": {
   "codemirror_mode": {
    "name": "ipython",
    "version": 3
   },
   "file_extension": ".py",
   "mimetype": "text/x-python",
   "name": "python",
   "nbconvert_exporter": "python",
   "pygments_lexer": "ipython3",
   "version": "3.6.15"
  },
  "papermill": {
   "default_parameters": {},
   "duration": 115.702482,
   "end_time": "2022-02-11T10:11:42.832216",
   "environment_variables": {},
   "exception": null,
   "input_path": "2020-08-11-part2.ipynb",
   "output_path": "2020-08-11-part2.ipynb",
   "parameters": {},
   "start_time": "2022-02-11T10:09:47.129734",
   "version": "2.3.3"
  }
 },
 "nbformat": 4,
 "nbformat_minor": 5
}