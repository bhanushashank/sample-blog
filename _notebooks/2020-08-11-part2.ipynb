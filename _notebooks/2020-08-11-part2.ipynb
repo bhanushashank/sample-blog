{
 "cells": [
  {
   "cell_type": "markdown",
   "id": "98380cd3",
   "metadata": {
    "papermill": {
     "duration": 0.02945,
     "end_time": "2022-08-08T10:10:41.348475",
     "exception": false,
     "start_time": "2022-08-08T10:10:41.319025",
     "status": "completed"
    },
    "tags": []
   },
   "source": [
    "# Distinguish Your Own Digits (DYOD)"
   ]
  },
  {
   "cell_type": "markdown",
   "id": "ef31240d",
   "metadata": {
    "papermill": {
     "duration": 0.024253,
     "end_time": "2022-08-08T10:10:41.397379",
     "exception": false,
     "start_time": "2022-08-08T10:10:41.373126",
     "status": "completed"
    },
    "tags": []
   },
   "source": [
    "You are going to write a classifier that distinguishes between the number 3 and number 8."
   ]
  },
  {
   "cell_type": "code",
   "execution_count": 1,
   "id": "b15c8646",
   "metadata": {
    "execution": {
     "iopub.execute_input": "2022-08-08T10:10:41.455739Z",
     "iopub.status.busy": "2022-08-08T10:10:41.453139Z",
     "iopub.status.idle": "2022-08-08T10:10:41.466442Z",
     "shell.execute_reply": "2022-08-08T10:10:41.465959Z"
    },
    "papermill": {
     "duration": 0.045141,
     "end_time": "2022-08-08T10:10:41.466560",
     "exception": false,
     "start_time": "2022-08-08T10:10:41.421419",
     "status": "completed"
    },
    "tags": []
   },
   "outputs": [],
   "source": [
    "%load_ext autoreload\n",
    "%autoreload 2"
   ]
  },
  {
   "cell_type": "code",
   "execution_count": 2,
   "id": "22ef38dc",
   "metadata": {
    "execution": {
     "iopub.execute_input": "2022-08-08T10:10:41.520869Z",
     "iopub.status.busy": "2022-08-08T10:10:41.520270Z",
     "iopub.status.idle": "2022-08-08T10:10:42.040478Z",
     "shell.execute_reply": "2022-08-08T10:10:42.041048Z"
    },
    "papermill": {
     "duration": 0.550756,
     "end_time": "2022-08-08T10:10:42.041219",
     "exception": false,
     "start_time": "2022-08-08T10:10:41.490463",
     "status": "completed"
    },
    "tags": []
   },
   "outputs": [],
   "source": [
    "%matplotlib inline\n",
    "import numpy as np\n",
    "import matplotlib.pyplot as plt\n",
    "import pandas as pd"
   ]
  },
  {
   "cell_type": "markdown",
   "id": "ba036198",
   "metadata": {
    "papermill": {
     "duration": 0.024075,
     "end_time": "2022-08-08T10:10:42.089741",
     "exception": false,
     "start_time": "2022-08-08T10:10:42.065666",
     "status": "completed"
    },
    "tags": []
   },
   "source": [
    "From the command line run `pip install mnist`. This is a library that will help you bring down the mnist dataset. If you run this from a notebook, you need to put  `!pip install mnist` in a cell by itself."
   ]
  },
  {
   "cell_type": "code",
   "execution_count": 3,
   "id": "bb6ad8a1",
   "metadata": {
    "execution": {
     "iopub.execute_input": "2022-08-08T10:10:42.142212Z",
     "iopub.status.busy": "2022-08-08T10:10:42.141642Z",
     "iopub.status.idle": "2022-08-08T10:10:43.773828Z",
     "shell.execute_reply": "2022-08-08T10:10:43.772253Z"
    },
    "papermill": {
     "duration": 1.660129,
     "end_time": "2022-08-08T10:10:43.773974",
     "exception": false,
     "start_time": "2022-08-08T10:10:42.113845",
     "status": "completed"
    },
    "tags": []
   },
   "outputs": [
    {
     "name": "stdout",
     "output_type": "stream",
     "text": [
      "Collecting mnist\r\n"
     ]
    },
    {
     "name": "stdout",
     "output_type": "stream",
     "text": [
      "  Downloading mnist-0.2.2-py2.py3-none-any.whl (3.5 kB)\r\n",
      "Requirement already satisfied: numpy in /opt/hostedtoolcache/Python/3.6.15/x64/lib/python3.6/site-packages (from mnist) (1.19.5)\r\n"
     ]
    },
    {
     "name": "stdout",
     "output_type": "stream",
     "text": [
      "Installing collected packages: mnist\r\n"
     ]
    },
    {
     "name": "stdout",
     "output_type": "stream",
     "text": [
      "Successfully installed mnist-0.2.2\r\n"
     ]
    }
   ],
   "source": [
    "!pip install mnist"
   ]
  },
  {
   "cell_type": "markdown",
   "id": "69df9c9a",
   "metadata": {
    "papermill": {
     "duration": 0.025112,
     "end_time": "2022-08-08T10:10:43.824873",
     "exception": false,
     "start_time": "2022-08-08T10:10:43.799761",
     "status": "completed"
    },
    "tags": []
   },
   "source": [
    "## Preparing the Data"
   ]
  },
  {
   "cell_type": "code",
   "execution_count": 4,
   "id": "7f69d806",
   "metadata": {
    "execution": {
     "iopub.execute_input": "2022-08-08T10:10:43.878908Z",
     "iopub.status.busy": "2022-08-08T10:10:43.878333Z",
     "iopub.status.idle": "2022-08-08T10:10:43.892964Z",
     "shell.execute_reply": "2022-08-08T10:10:43.893434Z"
    },
    "papermill": {
     "duration": 0.043747,
     "end_time": "2022-08-08T10:10:43.893559",
     "exception": false,
     "start_time": "2022-08-08T10:10:43.849812",
     "status": "completed"
    },
    "tags": []
   },
   "outputs": [],
   "source": [
    "import mnist"
   ]
  },
  {
   "cell_type": "code",
   "execution_count": 5,
   "id": "a411e44f",
   "metadata": {
    "execution": {
     "iopub.execute_input": "2022-08-08T10:10:43.946934Z",
     "iopub.status.busy": "2022-08-08T10:10:43.946369Z",
     "iopub.status.idle": "2022-08-08T10:10:44.534342Z",
     "shell.execute_reply": "2022-08-08T10:10:44.533753Z"
    },
    "papermill": {
     "duration": 0.615915,
     "end_time": "2022-08-08T10:10:44.534471",
     "exception": false,
     "start_time": "2022-08-08T10:10:43.918556",
     "status": "completed"
    },
    "tags": []
   },
   "outputs": [],
   "source": [
    "train_images = mnist.train_images()\n",
    "train_labels = mnist.train_labels()"
   ]
  },
  {
   "cell_type": "code",
   "execution_count": 6,
   "id": "dceab3a5",
   "metadata": {
    "execution": {
     "iopub.execute_input": "2022-08-08T10:10:44.589106Z",
     "iopub.status.busy": "2022-08-08T10:10:44.588491Z",
     "iopub.status.idle": "2022-08-08T10:10:44.602681Z",
     "shell.execute_reply": "2022-08-08T10:10:44.603231Z"
    },
    "papermill": {
     "duration": 0.043189,
     "end_time": "2022-08-08T10:10:44.603352",
     "exception": false,
     "start_time": "2022-08-08T10:10:44.560163",
     "status": "completed"
    },
    "tags": []
   },
   "outputs": [
    {
     "data": {
      "text/plain": [
       "((60000, 28, 28), (60000,))"
      ]
     },
     "execution_count": 6,
     "metadata": {},
     "output_type": "execute_result"
    }
   ],
   "source": [
    "train_images.shape, train_labels.shape"
   ]
  },
  {
   "cell_type": "code",
   "execution_count": 7,
   "id": "f50dc2bb",
   "metadata": {
    "execution": {
     "iopub.execute_input": "2022-08-08T10:10:44.656962Z",
     "iopub.status.busy": "2022-08-08T10:10:44.656339Z",
     "iopub.status.idle": "2022-08-08T10:10:44.774209Z",
     "shell.execute_reply": "2022-08-08T10:10:44.773627Z"
    },
    "papermill": {
     "duration": 0.145887,
     "end_time": "2022-08-08T10:10:44.774339",
     "exception": false,
     "start_time": "2022-08-08T10:10:44.628452",
     "status": "completed"
    },
    "tags": []
   },
   "outputs": [],
   "source": [
    "test_images = mnist.test_images()\n",
    "test_labels = mnist.test_labels()"
   ]
  },
  {
   "cell_type": "code",
   "execution_count": 8,
   "id": "fc38cf1b",
   "metadata": {
    "execution": {
     "iopub.execute_input": "2022-08-08T10:10:44.830894Z",
     "iopub.status.busy": "2022-08-08T10:10:44.830317Z",
     "iopub.status.idle": "2022-08-08T10:10:44.843501Z",
     "shell.execute_reply": "2022-08-08T10:10:44.844034Z"
    },
    "papermill": {
     "duration": 0.042463,
     "end_time": "2022-08-08T10:10:44.844156",
     "exception": false,
     "start_time": "2022-08-08T10:10:44.801693",
     "status": "completed"
    },
    "tags": []
   },
   "outputs": [
    {
     "data": {
      "text/plain": [
       "((10000, 28, 28), (10000,))"
      ]
     },
     "execution_count": 8,
     "metadata": {},
     "output_type": "execute_result"
    }
   ],
   "source": [
    "test_images.shape, test_labels.shape"
   ]
  },
  {
   "cell_type": "code",
   "execution_count": 9,
   "id": "f9ed8fe0",
   "metadata": {
    "execution": {
     "iopub.execute_input": "2022-08-08T10:10:44.899841Z",
     "iopub.status.busy": "2022-08-08T10:10:44.899273Z",
     "iopub.status.idle": "2022-08-08T10:10:45.039311Z",
     "shell.execute_reply": "2022-08-08T10:10:45.038831Z"
    },
    "papermill": {
     "duration": 0.169007,
     "end_time": "2022-08-08T10:10:45.039432",
     "exception": false,
     "start_time": "2022-08-08T10:10:44.870425",
     "status": "completed"
    },
    "tags": []
   },
   "outputs": [
    {
     "name": "stdout",
     "output_type": "stream",
     "text": [
      "2\n"
     ]
    },
    {
     "data": {
      "text/plain": [
       "<matplotlib.image.AxesImage at 0x7f39c41444a8>"
      ]
     },
     "execution_count": 9,
     "metadata": {},
     "output_type": "execute_result"
    },
    {
     "data": {
      "image/png": "[encoded data removed]",
      "text/plain": [
       "<Figure size 432x288 with 1 Axes>"
      ]
     },
     "metadata": {
      "needs_background": "light"
     },
     "output_type": "display_data"
    }
   ],
   "source": [
    "image_index = 7776 # You may select anything up to 60,000\n",
    "print(train_labels[image_index]) \n",
    "plt.imshow(train_images[image_index], cmap='Greys')"
   ]
  },
  {
   "cell_type": "markdown",
   "id": "a8d2388d",
   "metadata": {
    "papermill": {
     "duration": 0.026627,
     "end_time": "2022-08-08T10:10:45.093133",
     "exception": false,
     "start_time": "2022-08-08T10:10:45.066506",
     "status": "completed"
    },
    "tags": []
   },
   "source": [
    "## Filter data to get 3 and 8 out"
   ]
  },
  {
   "cell_type": "code",
   "execution_count": 10,
   "id": "776f7fc7",
   "metadata": {
    "execution": {
     "iopub.execute_input": "2022-08-08T10:10:45.153447Z",
     "iopub.status.busy": "2022-08-08T10:10:45.152844Z",
     "iopub.status.idle": "2022-08-08T10:10:45.168640Z",
     "shell.execute_reply": "2022-08-08T10:10:45.169120Z"
    },
    "papermill": {
     "duration": 0.049344,
     "end_time": "2022-08-08T10:10:45.169243",
     "exception": false,
     "start_time": "2022-08-08T10:10:45.119899",
     "status": "completed"
    },
    "tags": []
   },
   "outputs": [],
   "source": [
    "train_filter = np.where((train_labels == 3 ) | (train_labels == 8))\n",
    "test_filter = np.where((test_labels == 3) | (test_labels == 8))\n",
    "X_train, y_train = train_images[train_filter], train_labels[train_filter]\n",
    "X_test, y_test = test_images[test_filter], test_labels[test_filter]"
   ]
  },
  {
   "cell_type": "markdown",
   "id": "948f0b7e",
   "metadata": {
    "papermill": {
     "duration": 0.026612,
     "end_time": "2022-08-08T10:10:45.222687",
     "exception": false,
     "start_time": "2022-08-08T10:10:45.196075",
     "status": "completed"
    },
    "tags": []
   },
   "source": [
    "We normalize the pizel values in the 0 to 1 range"
   ]
  },
  {
   "cell_type": "code",
   "execution_count": 11,
   "id": "ee4c2166",
   "metadata": {
    "execution": {
     "iopub.execute_input": "2022-08-08T10:10:45.279835Z",
     "iopub.status.busy": "2022-08-08T10:10:45.279260Z",
     "iopub.status.idle": "2022-08-08T10:10:45.327522Z",
     "shell.execute_reply": "2022-08-08T10:10:45.326960Z"
    },
    "papermill": {
     "duration": 0.078336,
     "end_time": "2022-08-08T10:10:45.327657",
     "exception": false,
     "start_time": "2022-08-08T10:10:45.249321",
     "status": "completed"
    },
    "tags": []
   },
   "outputs": [],
   "source": [
    "X_train = X_train/255.\n",
    "X_test = X_test/255."
   ]
  },
  {
   "cell_type": "markdown",
   "id": "ddcf4fab",
   "metadata": {
    "papermill": {
     "duration": 0.026756,
     "end_time": "2022-08-08T10:10:45.382023",
     "exception": false,
     "start_time": "2022-08-08T10:10:45.355267",
     "status": "completed"
    },
    "tags": []
   },
   "source": [
    "And setup the labels as 1 (when the digit is 3) and 0 (when the digit is 8)"
   ]
  },
  {
   "cell_type": "code",
   "execution_count": 12,
   "id": "7dc908f2",
   "metadata": {
    "execution": {
     "iopub.execute_input": "2022-08-08T10:10:45.442710Z",
     "iopub.status.busy": "2022-08-08T10:10:45.442134Z",
     "iopub.status.idle": "2022-08-08T10:10:45.453666Z",
     "shell.execute_reply": "2022-08-08T10:10:45.453194Z"
    },
    "papermill": {
     "duration": 0.044991,
     "end_time": "2022-08-08T10:10:45.453773",
     "exception": false,
     "start_time": "2022-08-08T10:10:45.408782",
     "status": "completed"
    },
    "tags": []
   },
   "outputs": [],
   "source": [
    "y_train = 1*(y_train==3)\n",
    "y_test = 1*(y_test==3)"
   ]
  },
  {
   "cell_type": "code",
   "execution_count": 13,
   "id": "01e4e969",
   "metadata": {
    "execution": {
     "iopub.execute_input": "2022-08-08T10:10:45.510860Z",
     "iopub.status.busy": "2022-08-08T10:10:45.510292Z",
     "iopub.status.idle": "2022-08-08T10:10:45.524453Z",
     "shell.execute_reply": "2022-08-08T10:10:45.523898Z"
    },
    "papermill": {
     "duration": 0.043934,
     "end_time": "2022-08-08T10:10:45.524579",
     "exception": false,
     "start_time": "2022-08-08T10:10:45.480645",
     "status": "completed"
    },
    "tags": []
   },
   "outputs": [
    {
     "data": {
      "text/plain": [
       "((11982, 28, 28), (1984, 28, 28))"
      ]
     },
     "execution_count": 13,
     "metadata": {},
     "output_type": "execute_result"
    }
   ],
   "source": [
    "X_train.shape, X_test.shape"
   ]
  },
  {
   "cell_type": "markdown",
   "id": "5ccf3f85",
   "metadata": {
    "papermill": {
     "duration": 0.026827,
     "end_time": "2022-08-08T10:10:45.578141",
     "exception": false,
     "start_time": "2022-08-08T10:10:45.551314",
     "status": "completed"
    },
    "tags": []
   },
   "source": [
    "We reshape the data to flatten the image pixels into a set of features or co-variates:"
   ]
  },
  {
   "cell_type": "code",
   "execution_count": 14,
   "id": "5286a4a3",
   "metadata": {
    "execution": {
     "iopub.execute_input": "2022-08-08T10:10:45.635553Z",
     "iopub.status.busy": "2022-08-08T10:10:45.634981Z",
     "iopub.status.idle": "2022-08-08T10:10:45.648628Z",
     "shell.execute_reply": "2022-08-08T10:10:45.649044Z"
    },
    "papermill": {
     "duration": 0.044161,
     "end_time": "2022-08-08T10:10:45.649165",
     "exception": false,
     "start_time": "2022-08-08T10:10:45.605004",
     "status": "completed"
    },
    "tags": []
   },
   "outputs": [
    {
     "data": {
      "text/plain": [
       "((11982, 784), (1984, 784))"
      ]
     },
     "execution_count": 14,
     "metadata": {},
     "output_type": "execute_result"
    }
   ],
   "source": [
    "X_train = X_train.reshape(X_train.shape[0], -1)\n",
    "X_test = X_test.reshape(X_test.shape[0], -1)\n",
    "X_train.shape, X_test.shape"
   ]
  },
  {
   "cell_type": "code",
   "execution_count": 15,
   "id": "73c5f88a",
   "metadata": {
    "execution": {
     "iopub.execute_input": "2022-08-08T10:10:45.707994Z",
     "iopub.status.busy": "2022-08-08T10:10:45.707420Z",
     "iopub.status.idle": "2022-08-08T10:10:45.726043Z",
     "shell.execute_reply": "2022-08-08T10:10:45.725576Z"
    },
    "papermill": {
     "duration": 0.049418,
     "end_time": "2022-08-08T10:10:45.726146",
     "exception": false,
     "start_time": "2022-08-08T10:10:45.676728",
     "status": "completed"
    },
    "tags": []
   },
   "outputs": [],
   "source": [
    "#Impoting functions from 'Kudzu'\n",
    "from kudzu.model import Model\n",
    "from kudzu.train import Learner\n",
    "from kudzu.optim import GD\n",
    "from kudzu.data import Data, Sampler,Dataloader\n",
    "\n",
    "from kudzu.callbacks import AccCallback\n",
    "from kudzu.callbacks import ClfCallback\n",
    "\n",
    "from kudzu.loss import MSE\n",
    "\n",
    "from kudzu.layer import Sigmoid,Relu\n",
    "from kudzu.layer import Affine"
   ]
  },
  {
   "cell_type": "markdown",
   "id": "bc01172a",
   "metadata": {
    "papermill": {
     "duration": 0.027125,
     "end_time": "2022-08-08T10:10:45.780431",
     "exception": false,
     "start_time": "2022-08-08T10:10:45.753306",
     "status": "completed"
    },
    "tags": []
   },
   "source": [
    "### Let us create a `Config` class, to store important parameters. \n",
    "This class essentially plays the role of a dictionary."
   ]
  },
  {
   "cell_type": "code",
   "execution_count": 16,
   "id": "978281aa",
   "metadata": {
    "execution": {
     "iopub.execute_input": "2022-08-08T10:10:45.838530Z",
     "iopub.status.busy": "2022-08-08T10:10:45.837953Z",
     "iopub.status.idle": "2022-08-08T10:10:45.850868Z",
     "shell.execute_reply": "2022-08-08T10:10:45.850405Z"
    },
    "papermill": {
     "duration": 0.043443,
     "end_time": "2022-08-08T10:10:45.850971",
     "exception": false,
     "start_time": "2022-08-08T10:10:45.807528",
     "status": "completed"
    },
    "tags": []
   },
   "outputs": [],
   "source": [
    "class Config:\n",
    "    pass\n",
    "config = Config()\n",
    "config.lr = 0.001\n",
    "config.num_epochs = 250\n",
    "config.bs = 50"
   ]
  },
  {
   "cell_type": "markdown",
   "id": "1385fa59",
   "metadata": {
    "papermill": {
     "duration": 0.026989,
     "end_time": "2022-08-08T10:10:45.905123",
     "exception": false,
     "start_time": "2022-08-08T10:10:45.878134",
     "status": "completed"
    },
    "tags": []
   },
   "source": [
    "### Running Models with the Training data\n",
    "Details about the network layers:\n",
    "- A first affine layer has 784 inputs and does 100 affine transforms. These are followed by a Relu\n",
    "- A second affine layer has 100 inputs from the 100 activations of the past layer, and does 100 affine transforms. These are followed by a Relu\n",
    "- A third affine layer has 100 activations and does 2 affine transformations to create an embedding for visualization. There is no non-linearity here.\n",
    "- A final \"logistic regression\" which has an affine transform from 2 inputs to 1 output, which is squeezed through a sigmoid.\n"
   ]
  },
  {
   "cell_type": "code",
   "execution_count": 17,
   "id": "2b9c66db",
   "metadata": {
    "execution": {
     "iopub.execute_input": "2022-08-08T10:10:45.963298Z",
     "iopub.status.busy": "2022-08-08T10:10:45.962728Z",
     "iopub.status.idle": "2022-08-08T10:10:45.975474Z",
     "shell.execute_reply": "2022-08-08T10:10:45.974915Z"
    },
    "papermill": {
     "duration": 0.043393,
     "end_time": "2022-08-08T10:10:45.975578",
     "exception": false,
     "start_time": "2022-08-08T10:10:45.932185",
     "status": "completed"
    },
    "tags": []
   },
   "outputs": [],
   "source": [
    "data = Data(X_train, y_train.reshape(-1,1))\n",
    "sampler = Sampler(data, config.bs, shuffle=True)\n",
    "\n",
    "dl = Dataloader(data, sampler)\n",
    "\n",
    "opt = GD(config.lr)\n",
    "loss = MSE()"
   ]
  },
  {
   "cell_type": "code",
   "execution_count": 18,
   "id": "b275e4c2",
   "metadata": {
    "execution": {
     "iopub.execute_input": "2022-08-08T10:10:46.033504Z",
     "iopub.status.busy": "2022-08-08T10:10:46.032935Z",
     "iopub.status.idle": "2022-08-08T10:10:46.044798Z",
     "shell.execute_reply": "2022-08-08T10:10:46.045347Z"
    },
    "papermill": {
     "duration": 0.042597,
     "end_time": "2022-08-08T10:10:46.045467",
     "exception": false,
     "start_time": "2022-08-08T10:10:46.002870",
     "status": "completed"
    },
    "tags": []
   },
   "outputs": [],
   "source": [
    "training_data_x = X_train\n",
    "testing_data_x = X_test\n",
    "training_data_y = y_train.reshape(-1,1)\n",
    "testing_data_y = y_test.reshape(-1,1)"
   ]
  },
  {
   "cell_type": "code",
   "execution_count": 19,
   "id": "76951160",
   "metadata": {
    "execution": {
     "iopub.execute_input": "2022-08-08T10:10:46.104276Z",
     "iopub.status.busy": "2022-08-08T10:10:46.103695Z",
     "iopub.status.idle": "2022-08-08T10:10:46.120325Z",
     "shell.execute_reply": "2022-08-08T10:10:46.120816Z"
    },
    "papermill": {
     "duration": 0.048227,
     "end_time": "2022-08-08T10:10:46.120940",
     "exception": false,
     "start_time": "2022-08-08T10:10:46.072713",
     "status": "completed"
    },
    "tags": []
   },
   "outputs": [
    {
     "name": "stdout",
     "output_type": "stream",
     "text": [
      "xavier\n",
      "xavier\n",
      "xavier\n",
      "xavier\n",
      "xavier\n"
     ]
    }
   ],
   "source": [
    "layers = [Affine(\"first\", 784, 100), Relu(\"first\"), Affine(\"second\", 100, 100), Relu(\"second\"), Affine(\"third\", 100, 2), Affine(\"last\", 2, 1), Sigmoid(\"last\")]\n",
    "model_nn = Model(layers)\n",
    "model_lr = Model([Affine(\"logits\", 784, 1), Sigmoid(\"sigmoid\")])"
   ]
  },
  {
   "cell_type": "code",
   "execution_count": 20,
   "id": "6eede77a",
   "metadata": {
    "execution": {
     "iopub.execute_input": "2022-08-08T10:10:46.179820Z",
     "iopub.status.busy": "2022-08-08T10:10:46.179246Z",
     "iopub.status.idle": "2022-08-08T10:10:46.190896Z",
     "shell.execute_reply": "2022-08-08T10:10:46.191363Z"
    },
    "papermill": {
     "duration": 0.043126,
     "end_time": "2022-08-08T10:10:46.191484",
     "exception": false,
     "start_time": "2022-08-08T10:10:46.148358",
     "status": "completed"
    },
    "tags": []
   },
   "outputs": [],
   "source": [
    "nn_learner = Learner(loss, model_nn, opt, config.num_epochs)\n",
    "acc_nn = ClfCallback(nn_learner, config.bs, training_data_x , testing_data_x, training_data_y, testing_data_y)\n",
    "nn_learner.set_callbacks([acc_nn])"
   ]
  },
  {
   "cell_type": "code",
   "execution_count": 21,
   "id": "877b6cc7",
   "metadata": {
    "execution": {
     "iopub.execute_input": "2022-08-08T10:10:46.250328Z",
     "iopub.status.busy": "2022-08-08T10:10:46.249762Z",
     "iopub.status.idle": "2022-08-08T10:10:46.262316Z",
     "shell.execute_reply": "2022-08-08T10:10:46.261850Z"
    },
    "papermill": {
     "duration": 0.043505,
     "end_time": "2022-08-08T10:10:46.262424",
     "exception": false,
     "start_time": "2022-08-08T10:10:46.218919",
     "status": "completed"
    },
    "tags": []
   },
   "outputs": [],
   "source": [
    "lr_learner = Learner(loss, model_lr, opt, config.num_epochs)\n",
    "acc_lr = ClfCallback(lr_learner, config.bs, training_data_x , testing_data_x, training_data_y, testing_data_y)\n",
    "lr_learner.set_callbacks([acc_lr])"
   ]
  },
  {
   "cell_type": "code",
   "execution_count": 22,
   "id": "d9b133c3",
   "metadata": {
    "execution": {
     "iopub.execute_input": "2022-08-08T10:10:46.321276Z",
     "iopub.status.busy": "2022-08-08T10:10:46.320699Z",
     "iopub.status.idle": "2022-08-08T10:11:59.665890Z",
     "shell.execute_reply": "2022-08-08T10:11:59.666445Z"
    },
    "papermill": {
     "duration": 73.376267,
     "end_time": "2022-08-08T10:11:59.666583",
     "exception": false,
     "start_time": "2022-08-08T10:10:46.290316",
     "status": "completed"
    },
    "tags": []
   },
   "outputs": [
    {
     "name": "stdout",
     "output_type": "stream",
     "text": [
      "Epoch 0, Loss 0.2266\n",
      "Training Accuracy: 0.7281, Testing Accuracy: 0.7324\n",
      "\n"
     ]
    },
    {
     "name": "stdout",
     "output_type": "stream",
     "text": [
      "Epoch 10, Loss 0.0649\n",
      "Training Accuracy: 0.9333, Testing Accuracy: 0.9456\n",
      "\n"
     ]
    },
    {
     "name": "stdout",
     "output_type": "stream",
     "text": [
      "Epoch 20, Loss 0.0459\n",
      "Training Accuracy: 0.9492, Testing Accuracy: 0.9597\n",
      "\n"
     ]
    },
    {
     "name": "stdout",
     "output_type": "stream",
     "text": [
      "Epoch 30, Loss 0.0385\n",
      "Training Accuracy: 0.9562, Testing Accuracy: 0.9647\n",
      "\n"
     ]
    },
    {
     "name": "stdout",
     "output_type": "stream",
     "text": [
      "Epoch 40, Loss 0.0342\n",
      "Training Accuracy: 0.9616, Testing Accuracy: 0.9677\n",
      "\n"
     ]
    },
    {
     "name": "stdout",
     "output_type": "stream",
     "text": [
      "Epoch 50, Loss 0.0313\n",
      "Training Accuracy: 0.9648, Testing Accuracy: 0.9693\n",
      "\n"
     ]
    },
    {
     "name": "stdout",
     "output_type": "stream",
     "text": [
      "Epoch 60, Loss 0.0291\n",
      "Training Accuracy: 0.9668, Testing Accuracy: 0.9693\n",
      "\n"
     ]
    },
    {
     "name": "stdout",
     "output_type": "stream",
     "text": [
      "Epoch 70, Loss 0.0275\n",
      "Training Accuracy: 0.9681, Testing Accuracy: 0.9713\n",
      "\n"
     ]
    },
    {
     "name": "stdout",
     "output_type": "stream",
     "text": [
      "Epoch 80, Loss 0.0261\n",
      "Training Accuracy: 0.9700, Testing Accuracy: 0.9708\n",
      "\n"
     ]
    },
    {
     "name": "stdout",
     "output_type": "stream",
     "text": [
      "Epoch 90, Loss 0.0249\n",
      "Training Accuracy: 0.9714, Testing Accuracy: 0.9708\n",
      "\n"
     ]
    },
    {
     "name": "stdout",
     "output_type": "stream",
     "text": [
      "Epoch 100, Loss 0.0238\n",
      "Training Accuracy: 0.9730, Testing Accuracy: 0.9718\n",
      "\n"
     ]
    },
    {
     "name": "stdout",
     "output_type": "stream",
     "text": [
      "Epoch 110, Loss 0.0229\n",
      "Training Accuracy: 0.9743, Testing Accuracy: 0.9728\n",
      "\n"
     ]
    },
    {
     "name": "stdout",
     "output_type": "stream",
     "text": [
      "Epoch 120, Loss 0.022\n",
      "Training Accuracy: 0.9757, Testing Accuracy: 0.9743\n",
      "\n"
     ]
    },
    {
     "name": "stdout",
     "output_type": "stream",
     "text": [
      "Epoch 130, Loss 0.0213\n",
      "Training Accuracy: 0.9767, Testing Accuracy: 0.9738\n",
      "\n"
     ]
    },
    {
     "name": "stdout",
     "output_type": "stream",
     "text": [
      "Epoch 140, Loss 0.0206\n",
      "Training Accuracy: 0.9775, Testing Accuracy: 0.9738\n",
      "\n"
     ]
    },
    {
     "name": "stdout",
     "output_type": "stream",
     "text": [
      "Epoch 150, Loss 0.0199\n",
      "Training Accuracy: 0.9782, Testing Accuracy: 0.9743\n",
      "\n"
     ]
    },
    {
     "name": "stdout",
     "output_type": "stream",
     "text": [
      "Epoch 160, Loss 0.0193\n",
      "Training Accuracy: 0.9788, Testing Accuracy: 0.9743\n",
      "\n"
     ]
    },
    {
     "name": "stdout",
     "output_type": "stream",
     "text": [
      "Epoch 170, Loss 0.0187\n",
      "Training Accuracy: 0.9796, Testing Accuracy: 0.9743\n",
      "\n"
     ]
    },
    {
     "name": "stdout",
     "output_type": "stream",
     "text": [
      "Epoch 180, Loss 0.0182\n",
      "Training Accuracy: 0.9802, Testing Accuracy: 0.9743\n",
      "\n"
     ]
    },
    {
     "name": "stdout",
     "output_type": "stream",
     "text": [
      "Epoch 190, Loss 0.0177\n",
      "Training Accuracy: 0.9812, Testing Accuracy: 0.9748\n",
      "\n"
     ]
    },
    {
     "name": "stdout",
     "output_type": "stream",
     "text": [
      "Epoch 200, Loss 0.0172\n",
      "Training Accuracy: 0.9819, Testing Accuracy: 0.9753\n",
      "\n"
     ]
    },
    {
     "name": "stdout",
     "output_type": "stream",
     "text": [
      "Epoch 210, Loss 0.0167\n",
      "Training Accuracy: 0.9822, Testing Accuracy: 0.9758\n",
      "\n"
     ]
    },
    {
     "name": "stdout",
     "output_type": "stream",
     "text": [
      "Epoch 220, Loss 0.0163\n",
      "Training Accuracy: 0.9827, Testing Accuracy: 0.9758\n",
      "\n"
     ]
    },
    {
     "name": "stdout",
     "output_type": "stream",
     "text": [
      "Epoch 230, Loss 0.0158\n",
      "Training Accuracy: 0.9830, Testing Accuracy: 0.9768\n",
      "\n"
     ]
    },
    {
     "name": "stdout",
     "output_type": "stream",
     "text": [
      "Epoch 240, Loss 0.0154\n",
      "Training Accuracy: 0.9833, Testing Accuracy: 0.9768\n",
      "\n"
     ]
    },
    {
     "data": {
      "text/plain": [
       "0.0029878698607695865"
      ]
     },
     "execution_count": 22,
     "metadata": {},
     "output_type": "execute_result"
    }
   ],
   "source": [
    "nn_learner.train_loop(dl)"
   ]
  },
  {
   "cell_type": "code",
   "execution_count": 23,
   "id": "e0163366",
   "metadata": {
    "execution": {
     "iopub.execute_input": "2022-08-08T10:11:59.746156Z",
     "iopub.status.busy": "2022-08-08T10:11:59.745569Z",
     "iopub.status.idle": "2022-08-08T10:12:12.913226Z",
     "shell.execute_reply": "2022-08-08T10:12:12.914084Z"
    },
    "papermill": {
     "duration": 13.212444,
     "end_time": "2022-08-08T10:12:12.914232",
     "exception": false,
     "start_time": "2022-08-08T10:11:59.701788",
     "status": "completed"
    },
    "tags": []
   },
   "outputs": [
    {
     "name": "stdout",
     "output_type": "stream",
     "text": [
      "Epoch 0, Loss 0.238\n",
      "Training Accuracy: 0.6922, Testing Accuracy: 0.7233\n",
      "\n"
     ]
    },
    {
     "name": "stdout",
     "output_type": "stream",
     "text": [
      "Epoch 10, Loss 0.1045\n",
      "Training Accuracy: 0.9027, Testing Accuracy: 0.9128\n",
      "\n"
     ]
    },
    {
     "name": "stdout",
     "output_type": "stream",
     "text": [
      "Epoch 20, Loss 0.0804\n",
      "Training Accuracy: 0.9253, Testing Accuracy: 0.9325\n",
      "\n"
     ]
    },
    {
     "name": "stdout",
     "output_type": "stream",
     "text": [
      "Epoch 30, Loss 0.0691\n",
      "Training Accuracy: 0.9347, Testing Accuracy: 0.9471\n",
      "\n"
     ]
    },
    {
     "name": "stdout",
     "output_type": "stream",
     "text": [
      "Epoch 40, Loss 0.0622\n",
      "Training Accuracy: 0.9409, Testing Accuracy: 0.9501\n",
      "\n"
     ]
    },
    {
     "name": "stdout",
     "output_type": "stream",
     "text": [
      "Epoch 50, Loss 0.0576\n",
      "Training Accuracy: 0.9444, Testing Accuracy: 0.9531\n",
      "\n"
     ]
    },
    {
     "name": "stdout",
     "output_type": "stream",
     "text": [
      "Epoch 60, Loss 0.0541\n",
      "Training Accuracy: 0.9466, Testing Accuracy: 0.9536\n",
      "\n"
     ]
    },
    {
     "name": "stdout",
     "output_type": "stream",
     "text": [
      "Epoch 70, Loss 0.0515\n",
      "Training Accuracy: 0.9490, Testing Accuracy: 0.9567\n",
      "\n"
     ]
    },
    {
     "name": "stdout",
     "output_type": "stream",
     "text": [
      "Epoch 80, Loss 0.0494\n",
      "Training Accuracy: 0.9512, Testing Accuracy: 0.9577\n",
      "\n"
     ]
    },
    {
     "name": "stdout",
     "output_type": "stream",
     "text": [
      "Epoch 90, Loss 0.0476\n",
      "Training Accuracy: 0.9522, Testing Accuracy: 0.9597\n",
      "\n"
     ]
    },
    {
     "name": "stdout",
     "output_type": "stream",
     "text": [
      "Epoch 100, Loss 0.0462\n",
      "Training Accuracy: 0.9535, Testing Accuracy: 0.9612\n",
      "\n"
     ]
    },
    {
     "name": "stdout",
     "output_type": "stream",
     "text": [
      "Epoch 110, Loss 0.0449\n",
      "Training Accuracy: 0.9545, Testing Accuracy: 0.9617\n",
      "\n"
     ]
    },
    {
     "name": "stdout",
     "output_type": "stream",
     "text": [
      "Epoch 120, Loss 0.0438\n",
      "Training Accuracy: 0.9554, Testing Accuracy: 0.9642\n",
      "\n"
     ]
    },
    {
     "name": "stdout",
     "output_type": "stream",
     "text": [
      "Epoch 130, Loss 0.0429\n",
      "Training Accuracy: 0.9560, Testing Accuracy: 0.9647\n",
      "\n"
     ]
    },
    {
     "name": "stdout",
     "output_type": "stream",
     "text": [
      "Epoch 140, Loss 0.042\n",
      "Training Accuracy: 0.9565, Testing Accuracy: 0.9647\n",
      "\n"
     ]
    },
    {
     "name": "stdout",
     "output_type": "stream",
     "text": [
      "Epoch 150, Loss 0.0413\n",
      "Training Accuracy: 0.9577, Testing Accuracy: 0.9647\n",
      "\n"
     ]
    },
    {
     "name": "stdout",
     "output_type": "stream",
     "text": [
      "Epoch 160, Loss 0.0406\n",
      "Training Accuracy: 0.9581, Testing Accuracy: 0.9652\n",
      "\n"
     ]
    },
    {
     "name": "stdout",
     "output_type": "stream",
     "text": [
      "Epoch 170, Loss 0.0399\n",
      "Training Accuracy: 0.9584, Testing Accuracy: 0.9652\n",
      "\n"
     ]
    },
    {
     "name": "stdout",
     "output_type": "stream",
     "text": [
      "Epoch 180, Loss 0.0394\n",
      "Training Accuracy: 0.9587, Testing Accuracy: 0.9652\n",
      "\n"
     ]
    },
    {
     "name": "stdout",
     "output_type": "stream",
     "text": [
      "Epoch 190, Loss 0.0388\n",
      "Training Accuracy: 0.9594, Testing Accuracy: 0.9657\n",
      "\n"
     ]
    },
    {
     "name": "stdout",
     "output_type": "stream",
     "text": [
      "Epoch 200, Loss 0.0384\n",
      "Training Accuracy: 0.9598, Testing Accuracy: 0.9657\n",
      "\n"
     ]
    },
    {
     "name": "stdout",
     "output_type": "stream",
     "text": [
      "Epoch 210, Loss 0.0379\n",
      "Training Accuracy: 0.9601, Testing Accuracy: 0.9662\n",
      "\n"
     ]
    },
    {
     "name": "stdout",
     "output_type": "stream",
     "text": [
      "Epoch 220, Loss 0.0375\n",
      "Training Accuracy: 0.9604, Testing Accuracy: 0.9662\n",
      "\n"
     ]
    },
    {
     "name": "stdout",
     "output_type": "stream",
     "text": [
      "Epoch 230, Loss 0.0371\n",
      "Training Accuracy: 0.9607, Testing Accuracy: 0.9667\n",
      "\n"
     ]
    },
    {
     "name": "stdout",
     "output_type": "stream",
     "text": [
      "Epoch 240, Loss 0.0367\n",
      "Training Accuracy: 0.9610, Testing Accuracy: 0.9667\n",
      "\n"
     ]
    },
    {
     "data": {
      "text/plain": [
       "0.07160940318785136"
      ]
     },
     "execution_count": 23,
     "metadata": {},
     "output_type": "execute_result"
    }
   ],
   "source": [
    "lr_learner.train_loop(dl)"
   ]
  },
  {
   "cell_type": "code",
   "execution_count": 24,
   "id": "ca410940",
   "metadata": {
    "execution": {
     "iopub.execute_input": "2022-08-08T10:12:13.006506Z",
     "iopub.status.busy": "2022-08-08T10:12:13.005914Z",
     "iopub.status.idle": "2022-08-08T10:12:13.231356Z",
     "shell.execute_reply": "2022-08-08T10:12:13.230873Z"
    },
    "papermill": {
     "duration": 0.27559,
     "end_time": "2022-08-08T10:12:13.231478",
     "exception": false,
     "start_time": "2022-08-08T10:12:12.955888",
     "status": "completed"
    },
    "tags": []
   },
   "outputs": [
    {
     "data": {
      "text/plain": [
       "<matplotlib.legend.Legend at 0x7f39c3ca4b00>"
      ]
     },
     "execution_count": 24,
     "metadata": {},
     "output_type": "execute_result"
    },
    {
     "data": {
      "image/png": "[encoded data removed]",
      "text/plain": [
       "<Figure size 1080x720 with 1 Axes>"
      ]
     },
     "metadata": {
      "needs_background": "light"
     },
     "output_type": "display_data"
    }
   ],
   "source": [
    "#comparing the results of NN and LR\n",
    "plt.figure(figsize=(15,10))\n",
    "\n",
    "# Neural Network plots\n",
    "plt.plot(acc_nn.accuracies, 'r-', label = \"Training Accuracies - NN\")\n",
    "plt.plot(acc_nn.test_accuracies, 'g-', label = \"Testing Accuracies - NN\")\n",
    "\n",
    "# Logistic Regression plots\n",
    "plt.plot(acc_lr.accuracies, 'k-', label = \"Training Accuracies - LR\")\n",
    "plt.plot(acc_lr.test_accuracies, 'b-', label = \"Testing Accuracies - LR\")\n",
    "plt.legend()"
   ]
  },
  {
   "cell_type": "markdown",
   "id": "80dfb35c",
   "metadata": {
    "papermill": {
     "duration": 0.043229,
     "end_time": "2022-08-08T10:12:13.317532",
     "exception": false,
     "start_time": "2022-08-08T10:12:13.274303",
     "status": "completed"
    },
    "tags": []
   },
   "source": [
    "#### Plotting the outputs of this layer of the NN.\n"
   ]
  },
  {
   "cell_type": "code",
   "execution_count": 25,
   "id": "45eb2ff5",
   "metadata": {
    "execution": {
     "iopub.execute_input": "2022-08-08T10:12:13.407124Z",
     "iopub.status.busy": "2022-08-08T10:12:13.405891Z",
     "iopub.status.idle": "2022-08-08T10:12:13.427532Z",
     "shell.execute_reply": "2022-08-08T10:12:13.427023Z"
    },
    "papermill": {
     "duration": 0.067563,
     "end_time": "2022-08-08T10:12:13.427652",
     "exception": false,
     "start_time": "2022-08-08T10:12:13.360089",
     "status": "completed"
    },
    "tags": []
   },
   "outputs": [],
   "source": [
    "new_model = Model(layers[:-2])\n",
    "testing_plot = new_model(testing_data_x)"
   ]
  },
  {
   "cell_type": "code",
   "execution_count": 26,
   "id": "4c0a5485",
   "metadata": {
    "execution": {
     "iopub.execute_input": "2022-08-08T10:12:13.521736Z",
     "iopub.status.busy": "2022-08-08T10:12:13.521160Z",
     "iopub.status.idle": "2022-08-08T10:12:13.727450Z",
     "shell.execute_reply": "2022-08-08T10:12:13.727905Z"
    },
    "papermill": {
     "duration": 0.255678,
     "end_time": "2022-08-08T10:12:13.728044",
     "exception": false,
     "start_time": "2022-08-08T10:12:13.472366",
     "status": "completed"
    },
    "tags": []
   },
   "outputs": [
    {
     "data": {
      "text/plain": [
       "Text(0.5, 1.0, 'Outputs')"
      ]
     },
     "execution_count": 26,
     "metadata": {},
     "output_type": "execute_result"
    },
    {
     "data": {
      "image/png": "[encoded data removed]",
      "text/plain": [
       "<Figure size 576x504 with 1 Axes>"
      ]
     },
     "metadata": {
      "needs_background": "light"
     },
     "output_type": "display_data"
    }
   ],
   "source": [
    "# Plotting the scatter plot of points and color coding by class\n",
    "plt.figure(figsize=(8,7))\n",
    "plt.scatter(testing_plot[:,0], testing_plot[:,1], alpha = 0.1, c = y_test.ravel());\n",
    "plt.title('Outputs')"
   ]
  },
  {
   "cell_type": "markdown",
   "id": "a74fcf8f",
   "metadata": {
    "papermill": {
     "duration": 0.046018,
     "end_time": "2022-08-08T10:12:13.823142",
     "exception": false,
     "start_time": "2022-08-08T10:12:13.777124",
     "status": "completed"
    },
    "tags": []
   },
   "source": [
    "Probability contours"
   ]
  },
  {
   "cell_type": "code",
   "execution_count": 27,
   "id": "d0afc8e3",
   "metadata": {
    "execution": {
     "iopub.execute_input": "2022-08-08T10:12:13.947744Z",
     "iopub.status.busy": "2022-08-08T10:12:13.947073Z",
     "iopub.status.idle": "2022-08-08T10:12:13.958949Z",
     "shell.execute_reply": "2022-08-08T10:12:13.958499Z"
    },
    "papermill": {
     "duration": 0.090401,
     "end_time": "2022-08-08T10:12:13.959061",
     "exception": false,
     "start_time": "2022-08-08T10:12:13.868660",
     "status": "completed"
    },
    "tags": []
   },
   "outputs": [],
   "source": [
    "model_prob = Model(layers[-2:]) "
   ]
  },
  {
   "cell_type": "code",
   "execution_count": 28,
   "id": "9b96e238",
   "metadata": {
    "execution": {
     "iopub.execute_input": "2022-08-08T10:12:14.055949Z",
     "iopub.status.busy": "2022-08-08T10:12:14.055322Z",
     "iopub.status.idle": "2022-08-08T10:12:14.069118Z",
     "shell.execute_reply": "2022-08-08T10:12:14.069977Z"
    },
    "papermill": {
     "duration": 0.065394,
     "end_time": "2022-08-08T10:12:14.070117",
     "exception": false,
     "start_time": "2022-08-08T10:12:14.004723",
     "status": "completed"
    },
    "tags": []
   },
   "outputs": [],
   "source": [
    "#creating the x and y ranges according to the above generated plot.\n",
    "x_range = np.linspace(-4, 1, 100) \n",
    "y_range = np.linspace(-6, 6, 100) \n",
    "x_grid, y_grid = np.meshgrid(x_range, y_range) # x_grid and y_grig are of size 100 X 100\n",
    "\n",
    "# converting x_grid and y_grid to continuous arrays\n",
    "x_gridflat = np.ravel(x_grid)\n",
    "y_gridflat = np.ravel(y_grid)\n",
    "\n",
    "# The last layer of the current model takes two columns as input. Hence transpose of np.vstack() is required.\n",
    "X = np.vstack((x_gridflat, y_gridflat)).T\n",
    "\n",
    "prob_contour = model_prob(X).reshape(100,100) "
   ]
  },
  {
   "cell_type": "code",
   "execution_count": 29,
   "id": "da72499a",
   "metadata": {
    "execution": {
     "iopub.execute_input": "2022-08-08T10:12:14.170812Z",
     "iopub.status.busy": "2022-08-08T10:12:14.170221Z",
     "iopub.status.idle": "2022-08-08T10:12:14.403931Z",
     "shell.execute_reply": "2022-08-08T10:12:14.403134Z"
    },
    "papermill": {
     "duration": 0.287549,
     "end_time": "2022-08-08T10:12:14.404053",
     "exception": false,
     "start_time": "2022-08-08T10:12:14.116504",
     "status": "completed"
    },
    "tags": []
   },
   "outputs": [
    {
     "data": {
      "image/png": "[encoded data removed]",
      "text/plain": [
       "<Figure size 720x648 with 1 Axes>"
      ]
     },
     "metadata": {
      "needs_background": "light"
     },
     "output_type": "display_data"
    }
   ],
   "source": [
    "plt.figure(figsize=(10,9))\n",
    "plt.scatter(testing_plot[:,0], testing_plot[:,1], alpha = 0.1, c = y_test.ravel())\n",
    "contours = plt.contour(x_grid,y_grid,prob_contour)\n",
    "plt.title('Probability Contours')\n",
    "plt.clabel(contours, inline = True );"
   ]
  },
  {
   "cell_type": "code",
   "execution_count": null,
   "id": "e81b4ac7",
   "metadata": {
    "papermill": {
     "duration": 0.048031,
     "end_time": "2022-08-08T10:12:14.501109",
     "exception": false,
     "start_time": "2022-08-08T10:12:14.453078",
     "status": "completed"
    },
    "tags": []
   },
   "outputs": [],
   "source": []
  }
 ],
 "metadata": {
  "kernelspec": {
   "display_name": "Python 3",
   "language": "python",
   "name": "python3"
  },
  "language_info": {
   "codemirror_mode": {
    "name": "ipython",
    "version": 3
   },
   "file_extension": ".py",
   "mimetype": "text/x-python",
   "name": "python",
   "nbconvert_exporter": "python",
   "pygments_lexer": "ipython3",
   "version": "3.6.15"
  },
  "papermill": {
   "default_parameters": {},
   "duration": 94.579911,
   "end_time": "2022-08-08T10:12:14.967652",
   "environment_variables": {},
   "exception": null,
   "input_path": "2020-08-11-part2.ipynb",
   "output_path": "2020-08-11-part2.ipynb",
   "parameters": {},
   "start_time": "2022-08-08T10:10:40.387741",
   "version": "2.3.3"
  }
 },
 "nbformat": 4,
 "nbformat_minor": 5
}