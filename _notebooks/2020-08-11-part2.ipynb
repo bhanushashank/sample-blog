{
 "cells": [
  {
   "cell_type": "markdown",
   "id": "98380cd3",
   "metadata": {
    "papermill": {
     "duration": 0.028061,
     "end_time": "2022-01-10T20:07:41.936771",
     "exception": false,
     "start_time": "2022-01-10T20:07:41.908710",
     "status": "completed"
    },
    "tags": []
   },
   "source": [
    "# Distinguish Your Own Digits (DYOD)"
   ]
  },
  {
   "cell_type": "markdown",
   "id": "ef31240d",
   "metadata": {
    "papermill": {
     "duration": 0.024067,
     "end_time": "2022-01-10T20:07:41.985616",
     "exception": false,
     "start_time": "2022-01-10T20:07:41.961549",
     "status": "completed"
    },
    "tags": []
   },
   "source": [
    "You are going to write a classifier that distinguishes between the number 3 and number 8."
   ]
  },
  {
   "cell_type": "code",
   "execution_count": 1,
   "id": "b15c8646",
   "metadata": {
    "execution": {
     "iopub.execute_input": "2022-01-10T20:07:42.046364Z",
     "iopub.status.busy": "2022-01-10T20:07:42.045818Z",
     "iopub.status.idle": "2022-01-10T20:07:42.055892Z",
     "shell.execute_reply": "2022-01-10T20:07:42.055442Z"
    },
    "papermill": {
     "duration": 0.046255,
     "end_time": "2022-01-10T20:07:42.056036",
     "exception": false,
     "start_time": "2022-01-10T20:07:42.009781",
     "status": "completed"
    },
    "tags": []
   },
   "outputs": [],
   "source": [
    "%load_ext autoreload\n",
    "%autoreload 2"
   ]
  },
  {
   "cell_type": "code",
   "execution_count": 2,
   "id": "22ef38dc",
   "metadata": {
    "execution": {
     "iopub.execute_input": "2022-01-10T20:07:42.112521Z",
     "iopub.status.busy": "2022-01-10T20:07:42.111969Z",
     "iopub.status.idle": "2022-01-10T20:07:42.663877Z",
     "shell.execute_reply": "2022-01-10T20:07:42.663327Z"
    },
    "papermill": {
     "duration": 0.583657,
     "end_time": "2022-01-10T20:07:42.664025",
     "exception": false,
     "start_time": "2022-01-10T20:07:42.080368",
     "status": "completed"
    },
    "tags": []
   },
   "outputs": [],
   "source": [
    "%matplotlib inline\n",
    "import numpy as np\n",
    "import matplotlib.pyplot as plt\n",
    "import pandas as pd"
   ]
  },
  {
   "cell_type": "markdown",
   "id": "ba036198",
   "metadata": {
    "papermill": {
     "duration": 0.024264,
     "end_time": "2022-01-10T20:07:42.713040",
     "exception": false,
     "start_time": "2022-01-10T20:07:42.688776",
     "status": "completed"
    },
    "tags": []
   },
   "source": [
    "From the command line run `pip install mnist`. This is a library that will help you bring down the mnist dataset. If you run this from a notebook, you need to put  `!pip install mnist` in a cell by itself."
   ]
  },
  {
   "cell_type": "code",
   "execution_count": 3,
   "id": "bb6ad8a1",
   "metadata": {
    "execution": {
     "iopub.execute_input": "2022-01-10T20:07:42.766488Z",
     "iopub.status.busy": "2022-01-10T20:07:42.765948Z",
     "iopub.status.idle": "2022-01-10T20:07:45.223382Z",
     "shell.execute_reply": "2022-01-10T20:07:45.222439Z"
    },
    "papermill": {
     "duration": 2.486148,
     "end_time": "2022-01-10T20:07:45.223527",
     "exception": false,
     "start_time": "2022-01-10T20:07:42.737379",
     "status": "completed"
    },
    "tags": []
   },
   "outputs": [
    {
     "name": "stdout",
     "output_type": "stream",
     "text": [
      "Collecting mnist\r\n"
     ]
    },
    {
     "name": "stdout",
     "output_type": "stream",
     "text": [
      "  Downloading mnist-0.2.2-py2.py3-none-any.whl (3.5 kB)\r\n",
      "Requirement already satisfied: numpy in /opt/hostedtoolcache/Python/3.6.15/x64/lib/python3.6/site-packages (from mnist) (1.19.5)\r\n"
     ]
    },
    {
     "name": "stdout",
     "output_type": "stream",
     "text": [
      "Installing collected packages: mnist\r\n",
      "Successfully installed mnist-0.2.2\r\n"
     ]
    }
   ],
   "source": [
    "!pip install mnist"
   ]
  },
  {
   "cell_type": "markdown",
   "id": "69df9c9a",
   "metadata": {
    "papermill": {
     "duration": 0.025015,
     "end_time": "2022-01-10T20:07:45.274631",
     "exception": false,
     "start_time": "2022-01-10T20:07:45.249616",
     "status": "completed"
    },
    "tags": []
   },
   "source": [
    "## Preparing the Data"
   ]
  },
  {
   "cell_type": "code",
   "execution_count": 4,
   "id": "7f69d806",
   "metadata": {
    "execution": {
     "iopub.execute_input": "2022-01-10T20:07:45.332084Z",
     "iopub.status.busy": "2022-01-10T20:07:45.330810Z",
     "iopub.status.idle": "2022-01-10T20:07:45.343474Z",
     "shell.execute_reply": "2022-01-10T20:07:45.342978Z"
    },
    "papermill": {
     "duration": 0.044109,
     "end_time": "2022-01-10T20:07:45.343601",
     "exception": false,
     "start_time": "2022-01-10T20:07:45.299492",
     "status": "completed"
    },
    "tags": []
   },
   "outputs": [],
   "source": [
    "import mnist"
   ]
  },
  {
   "cell_type": "code",
   "execution_count": 5,
   "id": "a411e44f",
   "metadata": {
    "execution": {
     "iopub.execute_input": "2022-01-10T20:07:45.400515Z",
     "iopub.status.busy": "2022-01-10T20:07:45.399981Z",
     "iopub.status.idle": "2022-01-10T20:07:45.963848Z",
     "shell.execute_reply": "2022-01-10T20:07:45.963285Z"
    },
    "papermill": {
     "duration": 0.595327,
     "end_time": "2022-01-10T20:07:45.963995",
     "exception": false,
     "start_time": "2022-01-10T20:07:45.368668",
     "status": "completed"
    },
    "tags": []
   },
   "outputs": [],
   "source": [
    "train_images = mnist.train_images()\n",
    "train_labels = mnist.train_labels()"
   ]
  },
  {
   "cell_type": "code",
   "execution_count": 6,
   "id": "dceab3a5",
   "metadata": {
    "execution": {
     "iopub.execute_input": "2022-01-10T20:07:46.018754Z",
     "iopub.status.busy": "2022-01-10T20:07:46.018228Z",
     "iopub.status.idle": "2022-01-10T20:07:46.031063Z",
     "shell.execute_reply": "2022-01-10T20:07:46.031557Z"
    },
    "papermill": {
     "duration": 0.04235,
     "end_time": "2022-01-10T20:07:46.031700",
     "exception": false,
     "start_time": "2022-01-10T20:07:45.989350",
     "status": "completed"
    },
    "tags": []
   },
   "outputs": [
    {
     "data": {
      "text/plain": [
       "((60000, 28, 28), (60000,))"
      ]
     },
     "execution_count": 6,
     "metadata": {},
     "output_type": "execute_result"
    }
   ],
   "source": [
    "train_images.shape, train_labels.shape"
   ]
  },
  {
   "cell_type": "code",
   "execution_count": 7,
   "id": "f50dc2bb",
   "metadata": {
    "execution": {
     "iopub.execute_input": "2022-01-10T20:07:46.091006Z",
     "iopub.status.busy": "2022-01-10T20:07:46.090467Z",
     "iopub.status.idle": "2022-01-10T20:07:46.300909Z",
     "shell.execute_reply": "2022-01-10T20:07:46.299682Z"
    },
    "papermill": {
     "duration": 0.244317,
     "end_time": "2022-01-10T20:07:46.301060",
     "exception": false,
     "start_time": "2022-01-10T20:07:46.056743",
     "status": "completed"
    },
    "tags": []
   },
   "outputs": [],
   "source": [
    "test_images = mnist.test_images()\n",
    "test_labels = mnist.test_labels()"
   ]
  },
  {
   "cell_type": "code",
   "execution_count": 8,
   "id": "fc38cf1b",
   "metadata": {
    "execution": {
     "iopub.execute_input": "2022-01-10T20:07:46.356329Z",
     "iopub.status.busy": "2022-01-10T20:07:46.355715Z",
     "iopub.status.idle": "2022-01-10T20:07:46.368264Z",
     "shell.execute_reply": "2022-01-10T20:07:46.368714Z"
    },
    "papermill": {
     "duration": 0.041814,
     "end_time": "2022-01-10T20:07:46.368843",
     "exception": false,
     "start_time": "2022-01-10T20:07:46.327029",
     "status": "completed"
    },
    "tags": []
   },
   "outputs": [
    {
     "data": {
      "text/plain": [
       "((10000, 28, 28), (10000,))"
      ]
     },
     "execution_count": 8,
     "metadata": {},
     "output_type": "execute_result"
    }
   ],
   "source": [
    "test_images.shape, test_labels.shape"
   ]
  },
  {
   "cell_type": "code",
   "execution_count": 9,
   "id": "f9ed8fe0",
   "metadata": {
    "execution": {
     "iopub.execute_input": "2022-01-10T20:07:46.417830Z",
     "iopub.status.busy": "2022-01-10T20:07:46.417349Z",
     "iopub.status.idle": "2022-01-10T20:07:46.556319Z",
     "shell.execute_reply": "2022-01-10T20:07:46.555802Z"
    },
    "papermill": {
     "duration": 0.165146,
     "end_time": "2022-01-10T20:07:46.556455",
     "exception": false,
     "start_time": "2022-01-10T20:07:46.391309",
     "status": "completed"
    },
    "tags": []
   },
   "outputs": [
    {
     "name": "stdout",
     "output_type": "stream",
     "text": [
      "2\n"
     ]
    },
    {
     "data": {
      "text/plain": [
       "<matplotlib.image.AxesImage at 0x7faf770e3358>"
      ]
     },
     "execution_count": 9,
     "metadata": {},
     "output_type": "execute_result"
    },
    {
     "data": {
      "image/png": "[encoded data removed]",
      "text/plain": [
       "<Figure size 432x288 with 1 Axes>"
      ]
     },
     "metadata": {
      "needs_background": "light"
     },
     "output_type": "display_data"
    }
   ],
   "source": [
    "image_index = 7776 # You may select anything up to 60,000\n",
    "print(train_labels[image_index]) \n",
    "plt.imshow(train_images[image_index], cmap='Greys')"
   ]
  },
  {
   "cell_type": "markdown",
   "id": "a8d2388d",
   "metadata": {
    "papermill": {
     "duration": 0.023771,
     "end_time": "2022-01-10T20:07:46.605017",
     "exception": false,
     "start_time": "2022-01-10T20:07:46.581246",
     "status": "completed"
    },
    "tags": []
   },
   "source": [
    "## Filter data to get 3 and 8 out"
   ]
  },
  {
   "cell_type": "code",
   "execution_count": 10,
   "id": "776f7fc7",
   "metadata": {
    "execution": {
     "iopub.execute_input": "2022-01-10T20:07:46.656794Z",
     "iopub.status.busy": "2022-01-10T20:07:46.655684Z",
     "iopub.status.idle": "2022-01-10T20:07:46.674554Z",
     "shell.execute_reply": "2022-01-10T20:07:46.674109Z"
    },
    "papermill": {
     "duration": 0.046257,
     "end_time": "2022-01-10T20:07:46.674669",
     "exception": false,
     "start_time": "2022-01-10T20:07:46.628412",
     "status": "completed"
    },
    "tags": []
   },
   "outputs": [],
   "source": [
    "train_filter = np.where((train_labels == 3 ) | (train_labels == 8))\n",
    "test_filter = np.where((test_labels == 3) | (test_labels == 8))\n",
    "X_train, y_train = train_images[train_filter], train_labels[train_filter]\n",
    "X_test, y_test = test_images[test_filter], test_labels[test_filter]"
   ]
  },
  {
   "cell_type": "markdown",
   "id": "948f0b7e",
   "metadata": {
    "papermill": {
     "duration": 0.023154,
     "end_time": "2022-01-10T20:07:46.721261",
     "exception": false,
     "start_time": "2022-01-10T20:07:46.698107",
     "status": "completed"
    },
    "tags": []
   },
   "source": [
    "We normalize the pizel values in the 0 to 1 range"
   ]
  },
  {
   "cell_type": "code",
   "execution_count": 11,
   "id": "ee4c2166",
   "metadata": {
    "execution": {
     "iopub.execute_input": "2022-01-10T20:07:46.771533Z",
     "iopub.status.busy": "2022-01-10T20:07:46.771011Z",
     "iopub.status.idle": "2022-01-10T20:07:46.819725Z",
     "shell.execute_reply": "2022-01-10T20:07:46.820103Z"
    },
    "papermill": {
     "duration": 0.07572,
     "end_time": "2022-01-10T20:07:46.820245",
     "exception": false,
     "start_time": "2022-01-10T20:07:46.744525",
     "status": "completed"
    },
    "tags": []
   },
   "outputs": [],
   "source": [
    "X_train = X_train/255.\n",
    "X_test = X_test/255."
   ]
  },
  {
   "cell_type": "markdown",
   "id": "ddcf4fab",
   "metadata": {
    "papermill": {
     "duration": 0.023405,
     "end_time": "2022-01-10T20:07:46.867397",
     "exception": false,
     "start_time": "2022-01-10T20:07:46.843992",
     "status": "completed"
    },
    "tags": []
   },
   "source": [
    "And setup the labels as 1 (when the digit is 3) and 0 (when the digit is 8)"
   ]
  },
  {
   "cell_type": "code",
   "execution_count": 12,
   "id": "7dc908f2",
   "metadata": {
    "execution": {
     "iopub.execute_input": "2022-01-10T20:07:46.917677Z",
     "iopub.status.busy": "2022-01-10T20:07:46.917185Z",
     "iopub.status.idle": "2022-01-10T20:07:46.930100Z",
     "shell.execute_reply": "2022-01-10T20:07:46.929334Z"
    },
    "papermill": {
     "duration": 0.03962,
     "end_time": "2022-01-10T20:07:46.930219",
     "exception": false,
     "start_time": "2022-01-10T20:07:46.890599",
     "status": "completed"
    },
    "tags": []
   },
   "outputs": [],
   "source": [
    "y_train = 1*(y_train==3)\n",
    "y_test = 1*(y_test==3)"
   ]
  },
  {
   "cell_type": "code",
   "execution_count": 13,
   "id": "01e4e969",
   "metadata": {
    "execution": {
     "iopub.execute_input": "2022-01-10T20:07:46.980910Z",
     "iopub.status.busy": "2022-01-10T20:07:46.980442Z",
     "iopub.status.idle": "2022-01-10T20:07:46.993808Z",
     "shell.execute_reply": "2022-01-10T20:07:46.994206Z"
    },
    "papermill": {
     "duration": 0.04056,
     "end_time": "2022-01-10T20:07:46.994344",
     "exception": false,
     "start_time": "2022-01-10T20:07:46.953784",
     "status": "completed"
    },
    "tags": []
   },
   "outputs": [
    {
     "data": {
      "text/plain": [
       "((11982, 28, 28), (1984, 28, 28))"
      ]
     },
     "execution_count": 13,
     "metadata": {},
     "output_type": "execute_result"
    }
   ],
   "source": [
    "X_train.shape, X_test.shape"
   ]
  },
  {
   "cell_type": "markdown",
   "id": "5ccf3f85",
   "metadata": {
    "papermill": {
     "duration": 0.023625,
     "end_time": "2022-01-10T20:07:47.041652",
     "exception": false,
     "start_time": "2022-01-10T20:07:47.018027",
     "status": "completed"
    },
    "tags": []
   },
   "source": [
    "We reshape the data to flatten the image pixels into a set of features or co-variates:"
   ]
  },
  {
   "cell_type": "code",
   "execution_count": 14,
   "id": "5286a4a3",
   "metadata": {
    "execution": {
     "iopub.execute_input": "2022-01-10T20:07:47.093185Z",
     "iopub.status.busy": "2022-01-10T20:07:47.092693Z",
     "iopub.status.idle": "2022-01-10T20:07:47.106429Z",
     "shell.execute_reply": "2022-01-10T20:07:47.106778Z"
    },
    "papermill": {
     "duration": 0.041473,
     "end_time": "2022-01-10T20:07:47.106931",
     "exception": false,
     "start_time": "2022-01-10T20:07:47.065458",
     "status": "completed"
    },
    "tags": []
   },
   "outputs": [
    {
     "data": {
      "text/plain": [
       "((11982, 784), (1984, 784))"
      ]
     },
     "execution_count": 14,
     "metadata": {},
     "output_type": "execute_result"
    }
   ],
   "source": [
    "X_train = X_train.reshape(X_train.shape[0], -1)\n",
    "X_test = X_test.reshape(X_test.shape[0], -1)\n",
    "X_train.shape, X_test.shape"
   ]
  },
  {
   "cell_type": "code",
   "execution_count": 15,
   "id": "73c5f88a",
   "metadata": {
    "execution": {
     "iopub.execute_input": "2022-01-10T20:07:47.160220Z",
     "iopub.status.busy": "2022-01-10T20:07:47.159738Z",
     "iopub.status.idle": "2022-01-10T20:07:47.179958Z",
     "shell.execute_reply": "2022-01-10T20:07:47.179448Z"
    },
    "papermill": {
     "duration": 0.049133,
     "end_time": "2022-01-10T20:07:47.180099",
     "exception": false,
     "start_time": "2022-01-10T20:07:47.130966",
     "status": "completed"
    },
    "tags": []
   },
   "outputs": [],
   "source": [
    "#Impoting functions from 'Kudzu'\n",
    "from kudzu.model import Model\n",
    "from kudzu.train import Learner\n",
    "from kudzu.optim import GD\n",
    "from kudzu.data import Data, Sampler,Dataloader\n",
    "\n",
    "from kudzu.callbacks import AccCallback\n",
    "from kudzu.callbacks import ClfCallback\n",
    "\n",
    "from kudzu.loss import MSE\n",
    "\n",
    "from kudzu.layer import Sigmoid,Relu\n",
    "from kudzu.layer import Affine"
   ]
  },
  {
   "cell_type": "markdown",
   "id": "bc01172a",
   "metadata": {
    "papermill": {
     "duration": 0.023757,
     "end_time": "2022-01-10T20:07:47.229135",
     "exception": false,
     "start_time": "2022-01-10T20:07:47.205378",
     "status": "completed"
    },
    "tags": []
   },
   "source": [
    "### Let us create a `Config` class, to store important parameters. \n",
    "This class essentially plays the role of a dictionary."
   ]
  },
  {
   "cell_type": "code",
   "execution_count": 16,
   "id": "978281aa",
   "metadata": {
    "execution": {
     "iopub.execute_input": "2022-01-10T20:07:47.280818Z",
     "iopub.status.busy": "2022-01-10T20:07:47.280339Z",
     "iopub.status.idle": "2022-01-10T20:07:47.293454Z",
     "shell.execute_reply": "2022-01-10T20:07:47.293817Z"
    },
    "papermill": {
     "duration": 0.041018,
     "end_time": "2022-01-10T20:07:47.293958",
     "exception": false,
     "start_time": "2022-01-10T20:07:47.252940",
     "status": "completed"
    },
    "tags": []
   },
   "outputs": [],
   "source": [
    "class Config:\n",
    "    pass\n",
    "config = Config()\n",
    "config.lr = 0.001\n",
    "config.num_epochs = 250\n",
    "config.bs = 50"
   ]
  },
  {
   "cell_type": "markdown",
   "id": "1385fa59",
   "metadata": {
    "papermill": {
     "duration": 0.023852,
     "end_time": "2022-01-10T20:07:47.342257",
     "exception": false,
     "start_time": "2022-01-10T20:07:47.318405",
     "status": "completed"
    },
    "tags": []
   },
   "source": [
    "### Running Models with the Training data\n",
    "Details about the network layers:\n",
    "- A first affine layer has 784 inputs and does 100 affine transforms. These are followed by a Relu\n",
    "- A second affine layer has 100 inputs from the 100 activations of the past layer, and does 100 affine transforms. These are followed by a Relu\n",
    "- A third affine layer has 100 activations and does 2 affine transformations to create an embedding for visualization. There is no non-linearity here.\n",
    "- A final \"logistic regression\" which has an affine transform from 2 inputs to 1 output, which is squeezed through a sigmoid.\n"
   ]
  },
  {
   "cell_type": "code",
   "execution_count": 17,
   "id": "2b9c66db",
   "metadata": {
    "execution": {
     "iopub.execute_input": "2022-01-10T20:07:47.394433Z",
     "iopub.status.busy": "2022-01-10T20:07:47.393904Z",
     "iopub.status.idle": "2022-01-10T20:07:47.407037Z",
     "shell.execute_reply": "2022-01-10T20:07:47.406145Z"
    },
    "papermill": {
     "duration": 0.04097,
     "end_time": "2022-01-10T20:07:47.407172",
     "exception": false,
     "start_time": "2022-01-10T20:07:47.366202",
     "status": "completed"
    },
    "tags": []
   },
   "outputs": [],
   "source": [
    "data = Data(X_train, y_train.reshape(-1,1))\n",
    "sampler = Sampler(data, config.bs, shuffle=True)\n",
    "\n",
    "dl = Dataloader(data, sampler)\n",
    "\n",
    "opt = GD(config.lr)\n",
    "loss = MSE()"
   ]
  },
  {
   "cell_type": "code",
   "execution_count": 18,
   "id": "b275e4c2",
   "metadata": {
    "execution": {
     "iopub.execute_input": "2022-01-10T20:07:47.459412Z",
     "iopub.status.busy": "2022-01-10T20:07:47.458729Z",
     "iopub.status.idle": "2022-01-10T20:07:47.469985Z",
     "shell.execute_reply": "2022-01-10T20:07:47.469497Z"
    },
    "papermill": {
     "duration": 0.038878,
     "end_time": "2022-01-10T20:07:47.470108",
     "exception": false,
     "start_time": "2022-01-10T20:07:47.431230",
     "status": "completed"
    },
    "tags": []
   },
   "outputs": [],
   "source": [
    "training_data_x = X_train\n",
    "testing_data_x = X_test\n",
    "training_data_y = y_train.reshape(-1,1)\n",
    "testing_data_y = y_test.reshape(-1,1)"
   ]
  },
  {
   "cell_type": "code",
   "execution_count": 19,
   "id": "76951160",
   "metadata": {
    "execution": {
     "iopub.execute_input": "2022-01-10T20:07:47.535008Z",
     "iopub.status.busy": "2022-01-10T20:07:47.534463Z",
     "iopub.status.idle": "2022-01-10T20:07:47.546162Z",
     "shell.execute_reply": "2022-01-10T20:07:47.545741Z"
    },
    "papermill": {
     "duration": 0.049226,
     "end_time": "2022-01-10T20:07:47.546281",
     "exception": false,
     "start_time": "2022-01-10T20:07:47.497055",
     "status": "completed"
    },
    "tags": []
   },
   "outputs": [
    {
     "name": "stdout",
     "output_type": "stream",
     "text": [
      "xavier\n",
      "xavier\n",
      "xavier\n",
      "xavier\n",
      "xavier\n"
     ]
    }
   ],
   "source": [
    "layers = [Affine(\"first\", 784, 100), Relu(\"first\"), Affine(\"second\", 100, 100), Relu(\"second\"), Affine(\"third\", 100, 2), Affine(\"last\", 2, 1), Sigmoid(\"last\")]\n",
    "model_nn = Model(layers)\n",
    "model_lr = Model([Affine(\"logits\", 784, 1), Sigmoid(\"sigmoid\")])"
   ]
  },
  {
   "cell_type": "code",
   "execution_count": 20,
   "id": "6eede77a",
   "metadata": {
    "execution": {
     "iopub.execute_input": "2022-01-10T20:07:47.606835Z",
     "iopub.status.busy": "2022-01-10T20:07:47.606295Z",
     "iopub.status.idle": "2022-01-10T20:07:47.617160Z",
     "shell.execute_reply": "2022-01-10T20:07:47.616728Z"
    },
    "papermill": {
     "duration": 0.043295,
     "end_time": "2022-01-10T20:07:47.617281",
     "exception": false,
     "start_time": "2022-01-10T20:07:47.573986",
     "status": "completed"
    },
    "tags": []
   },
   "outputs": [],
   "source": [
    "nn_learner = Learner(loss, model_nn, opt, config.num_epochs)\n",
    "acc_nn = ClfCallback(nn_learner, config.bs, training_data_x , testing_data_x, training_data_y, testing_data_y)\n",
    "nn_learner.set_callbacks([acc_nn])"
   ]
  },
  {
   "cell_type": "code",
   "execution_count": 21,
   "id": "877b6cc7",
   "metadata": {
    "execution": {
     "iopub.execute_input": "2022-01-10T20:07:47.680528Z",
     "iopub.status.busy": "2022-01-10T20:07:47.679931Z",
     "iopub.status.idle": "2022-01-10T20:07:47.689230Z",
     "shell.execute_reply": "2022-01-10T20:07:47.689673Z"
    },
    "papermill": {
     "duration": 0.045109,
     "end_time": "2022-01-10T20:07:47.689817",
     "exception": false,
     "start_time": "2022-01-10T20:07:47.644708",
     "status": "completed"
    },
    "tags": []
   },
   "outputs": [],
   "source": [
    "lr_learner = Learner(loss, model_lr, opt, config.num_epochs)\n",
    "acc_lr = ClfCallback(lr_learner, config.bs, training_data_x , testing_data_x, training_data_y, testing_data_y)\n",
    "lr_learner.set_callbacks([acc_lr])"
   ]
  },
  {
   "cell_type": "code",
   "execution_count": 22,
   "id": "d9b133c3",
   "metadata": {
    "execution": {
     "iopub.execute_input": "2022-01-10T20:07:47.748498Z",
     "iopub.status.busy": "2022-01-10T20:07:47.747971Z",
     "iopub.status.idle": "2022-01-10T20:09:11.089758Z",
     "shell.execute_reply": "2022-01-10T20:09:11.090569Z"
    },
    "papermill": {
     "duration": 83.373481,
     "end_time": "2022-01-10T20:09:11.090734",
     "exception": false,
     "start_time": "2022-01-10T20:07:47.717253",
     "status": "completed"
    },
    "tags": []
   },
   "outputs": [
    {
     "name": "stdout",
     "output_type": "stream",
     "text": [
      "Epoch 0, Loss 0.2504\n",
      "Training Accuracy: 0.6738, Testing Accuracy: 0.6986\n",
      "\n"
     ]
    },
    {
     "name": "stdout",
     "output_type": "stream",
     "text": [
      "Epoch 10, Loss 0.0761\n",
      "Training Accuracy: 0.9284, Testing Accuracy: 0.9294\n",
      "\n"
     ]
    },
    {
     "name": "stdout",
     "output_type": "stream",
     "text": [
      "Epoch 20, Loss 0.0504\n",
      "Training Accuracy: 0.9478, Testing Accuracy: 0.9541\n",
      "\n"
     ]
    },
    {
     "name": "stdout",
     "output_type": "stream",
     "text": [
      "Epoch 30, Loss 0.0409\n",
      "Training Accuracy: 0.9550, Testing Accuracy: 0.9637\n",
      "\n"
     ]
    },
    {
     "name": "stdout",
     "output_type": "stream",
     "text": [
      "Epoch 40, Loss 0.036\n",
      "Training Accuracy: 0.9592, Testing Accuracy: 0.9637\n",
      "\n"
     ]
    },
    {
     "name": "stdout",
     "output_type": "stream",
     "text": [
      "Epoch 50, Loss 0.0329\n",
      "Training Accuracy: 0.9635, Testing Accuracy: 0.9657\n",
      "\n"
     ]
    },
    {
     "name": "stdout",
     "output_type": "stream",
     "text": [
      "Epoch 60, Loss 0.0308\n",
      "Training Accuracy: 0.9654, Testing Accuracy: 0.9677\n",
      "\n"
     ]
    },
    {
     "name": "stdout",
     "output_type": "stream",
     "text": [
      "Epoch 70, Loss 0.0291\n",
      "Training Accuracy: 0.9671, Testing Accuracy: 0.9698\n",
      "\n"
     ]
    },
    {
     "name": "stdout",
     "output_type": "stream",
     "text": [
      "Epoch 80, Loss 0.0277\n",
      "Training Accuracy: 0.9689, Testing Accuracy: 0.9698\n",
      "\n"
     ]
    },
    {
     "name": "stdout",
     "output_type": "stream",
     "text": [
      "Epoch 90, Loss 0.0266\n",
      "Training Accuracy: 0.9695, Testing Accuracy: 0.9703\n",
      "\n"
     ]
    },
    {
     "name": "stdout",
     "output_type": "stream",
     "text": [
      "Epoch 100, Loss 0.0256\n",
      "Training Accuracy: 0.9705, Testing Accuracy: 0.9708\n",
      "\n"
     ]
    },
    {
     "name": "stdout",
     "output_type": "stream",
     "text": [
      "Epoch 110, Loss 0.0247\n",
      "Training Accuracy: 0.9718, Testing Accuracy: 0.9708\n",
      "\n"
     ]
    },
    {
     "name": "stdout",
     "output_type": "stream",
     "text": [
      "Epoch 120, Loss 0.0239\n",
      "Training Accuracy: 0.9724, Testing Accuracy: 0.9713\n",
      "\n"
     ]
    },
    {
     "name": "stdout",
     "output_type": "stream",
     "text": [
      "Epoch 130, Loss 0.0232\n",
      "Training Accuracy: 0.9735, Testing Accuracy: 0.9708\n",
      "\n"
     ]
    },
    {
     "name": "stdout",
     "output_type": "stream",
     "text": [
      "Epoch 140, Loss 0.0226\n",
      "Training Accuracy: 0.9742, Testing Accuracy: 0.9713\n",
      "\n"
     ]
    },
    {
     "name": "stdout",
     "output_type": "stream",
     "text": [
      "Epoch 150, Loss 0.0219\n",
      "Training Accuracy: 0.9752, Testing Accuracy: 0.9708\n",
      "\n"
     ]
    },
    {
     "name": "stdout",
     "output_type": "stream",
     "text": [
      "Epoch 160, Loss 0.0213\n",
      "Training Accuracy: 0.9764, Testing Accuracy: 0.9708\n",
      "\n"
     ]
    },
    {
     "name": "stdout",
     "output_type": "stream",
     "text": [
      "Epoch 170, Loss 0.0208\n",
      "Training Accuracy: 0.9770, Testing Accuracy: 0.9713\n",
      "\n"
     ]
    },
    {
     "name": "stdout",
     "output_type": "stream",
     "text": [
      "Epoch 180, Loss 0.0203\n",
      "Training Accuracy: 0.9774, Testing Accuracy: 0.9723\n",
      "\n"
     ]
    },
    {
     "name": "stdout",
     "output_type": "stream",
     "text": [
      "Epoch 190, Loss 0.0198\n",
      "Training Accuracy: 0.9784, Testing Accuracy: 0.9723\n",
      "\n"
     ]
    },
    {
     "name": "stdout",
     "output_type": "stream",
     "text": [
      "Epoch 200, Loss 0.0193\n",
      "Training Accuracy: 0.9792, Testing Accuracy: 0.9728\n",
      "\n"
     ]
    },
    {
     "name": "stdout",
     "output_type": "stream",
     "text": [
      "Epoch 210, Loss 0.0188\n",
      "Training Accuracy: 0.9799, Testing Accuracy: 0.9733\n",
      "\n"
     ]
    },
    {
     "name": "stdout",
     "output_type": "stream",
     "text": [
      "Epoch 220, Loss 0.0183\n",
      "Training Accuracy: 0.9804, Testing Accuracy: 0.9738\n",
      "\n"
     ]
    },
    {
     "name": "stdout",
     "output_type": "stream",
     "text": [
      "Epoch 230, Loss 0.0179\n",
      "Training Accuracy: 0.9809, Testing Accuracy: 0.9738\n",
      "\n"
     ]
    },
    {
     "name": "stdout",
     "output_type": "stream",
     "text": [
      "Epoch 240, Loss 0.0175\n",
      "Training Accuracy: 0.9816, Testing Accuracy: 0.9743\n",
      "\n"
     ]
    },
    {
     "data": {
      "text/plain": [
       "0.0013935071404660626"
      ]
     },
     "execution_count": 22,
     "metadata": {},
     "output_type": "execute_result"
    }
   ],
   "source": [
    "nn_learner.train_loop(dl)"
   ]
  },
  {
   "cell_type": "code",
   "execution_count": 23,
   "id": "e0163366",
   "metadata": {
    "execution": {
     "iopub.execute_input": "2022-01-10T20:09:11.168811Z",
     "iopub.status.busy": "2022-01-10T20:09:11.168243Z",
     "iopub.status.idle": "2022-01-10T20:09:26.138405Z",
     "shell.execute_reply": "2022-01-10T20:09:26.139220Z"
    },
    "papermill": {
     "duration": 15.013668,
     "end_time": "2022-01-10T20:09:26.139383",
     "exception": false,
     "start_time": "2022-01-10T20:09:11.125715",
     "status": "completed"
    },
    "tags": []
   },
   "outputs": [
    {
     "name": "stdout",
     "output_type": "stream",
     "text": [
      "Epoch 0, Loss 0.217\n",
      "Training Accuracy: 0.7713, Testing Accuracy: 0.7686\n",
      "\n"
     ]
    },
    {
     "name": "stdout",
     "output_type": "stream",
     "text": [
      "Epoch 10, Loss 0.0997\n",
      "Training Accuracy: 0.9131, Testing Accuracy: 0.9199\n",
      "\n"
     ]
    },
    {
     "name": "stdout",
     "output_type": "stream",
     "text": [
      "Epoch 20, Loss 0.0775\n",
      "Training Accuracy: 0.9292, Testing Accuracy: 0.9370\n",
      "\n"
     ]
    },
    {
     "name": "stdout",
     "output_type": "stream",
     "text": [
      "Epoch 30, Loss 0.0671\n",
      "Training Accuracy: 0.9390, Testing Accuracy: 0.9476\n",
      "\n"
     ]
    },
    {
     "name": "stdout",
     "output_type": "stream",
     "text": [
      "Epoch 40, Loss 0.0607\n",
      "Training Accuracy: 0.9437, Testing Accuracy: 0.9516\n",
      "\n"
     ]
    },
    {
     "name": "stdout",
     "output_type": "stream",
     "text": [
      "Epoch 50, Loss 0.0564\n",
      "Training Accuracy: 0.9465, Testing Accuracy: 0.9567\n",
      "\n"
     ]
    },
    {
     "name": "stdout",
     "output_type": "stream",
     "text": [
      "Epoch 60, Loss 0.0532\n",
      "Training Accuracy: 0.9490, Testing Accuracy: 0.9602\n",
      "\n"
     ]
    },
    {
     "name": "stdout",
     "output_type": "stream",
     "text": [
      "Epoch 70, Loss 0.0507\n",
      "Training Accuracy: 0.9509, Testing Accuracy: 0.9617\n",
      "\n"
     ]
    },
    {
     "name": "stdout",
     "output_type": "stream",
     "text": [
      "Epoch 80, Loss 0.0487\n",
      "Training Accuracy: 0.9523, Testing Accuracy: 0.9632\n",
      "\n"
     ]
    },
    {
     "name": "stdout",
     "output_type": "stream",
     "text": [
      "Epoch 90, Loss 0.047\n",
      "Training Accuracy: 0.9533, Testing Accuracy: 0.9662\n",
      "\n"
     ]
    },
    {
     "name": "stdout",
     "output_type": "stream",
     "text": [
      "Epoch 100, Loss 0.0457\n",
      "Training Accuracy: 0.9541, Testing Accuracy: 0.9662\n",
      "\n"
     ]
    },
    {
     "name": "stdout",
     "output_type": "stream",
     "text": [
      "Epoch 110, Loss 0.0445\n",
      "Training Accuracy: 0.9552, Testing Accuracy: 0.9667\n",
      "\n"
     ]
    },
    {
     "name": "stdout",
     "output_type": "stream",
     "text": [
      "Epoch 120, Loss 0.0434\n",
      "Training Accuracy: 0.9557, Testing Accuracy: 0.9667\n",
      "\n"
     ]
    },
    {
     "name": "stdout",
     "output_type": "stream",
     "text": [
      "Epoch 130, Loss 0.0425\n",
      "Training Accuracy: 0.9564, Testing Accuracy: 0.9667\n",
      "\n"
     ]
    },
    {
     "name": "stdout",
     "output_type": "stream",
     "text": [
      "Epoch 140, Loss 0.0417\n",
      "Training Accuracy: 0.9574, Testing Accuracy: 0.9667\n",
      "\n"
     ]
    },
    {
     "name": "stdout",
     "output_type": "stream",
     "text": [
      "Epoch 150, Loss 0.041\n",
      "Training Accuracy: 0.9576, Testing Accuracy: 0.9672\n",
      "\n"
     ]
    },
    {
     "name": "stdout",
     "output_type": "stream",
     "text": [
      "Epoch 160, Loss 0.0403\n",
      "Training Accuracy: 0.9579, Testing Accuracy: 0.9667\n",
      "\n"
     ]
    },
    {
     "name": "stdout",
     "output_type": "stream",
     "text": [
      "Epoch 170, Loss 0.0397\n",
      "Training Accuracy: 0.9588, Testing Accuracy: 0.9672\n",
      "\n"
     ]
    },
    {
     "name": "stdout",
     "output_type": "stream",
     "text": [
      "Epoch 180, Loss 0.0392\n",
      "Training Accuracy: 0.9590, Testing Accuracy: 0.9672\n",
      "\n"
     ]
    },
    {
     "name": "stdout",
     "output_type": "stream",
     "text": [
      "Epoch 190, Loss 0.0387\n",
      "Training Accuracy: 0.9594, Testing Accuracy: 0.9682\n",
      "\n"
     ]
    },
    {
     "name": "stdout",
     "output_type": "stream",
     "text": [
      "Epoch 200, Loss 0.0382\n",
      "Training Accuracy: 0.9599, Testing Accuracy: 0.9682\n",
      "\n"
     ]
    },
    {
     "name": "stdout",
     "output_type": "stream",
     "text": [
      "Epoch 210, Loss 0.0378\n",
      "Training Accuracy: 0.9604, Testing Accuracy: 0.9688\n",
      "\n"
     ]
    },
    {
     "name": "stdout",
     "output_type": "stream",
     "text": [
      "Epoch 220, Loss 0.0374\n",
      "Training Accuracy: 0.9609, Testing Accuracy: 0.9688\n",
      "\n"
     ]
    },
    {
     "name": "stdout",
     "output_type": "stream",
     "text": [
      "Epoch 230, Loss 0.037\n",
      "Training Accuracy: 0.9614, Testing Accuracy: 0.9682\n",
      "\n"
     ]
    },
    {
     "name": "stdout",
     "output_type": "stream",
     "text": [
      "Epoch 240, Loss 0.0366\n",
      "Training Accuracy: 0.9615, Testing Accuracy: 0.9677\n",
      "\n"
     ]
    },
    {
     "data": {
      "text/plain": [
       "0.012516543105269685"
      ]
     },
     "execution_count": 23,
     "metadata": {},
     "output_type": "execute_result"
    }
   ],
   "source": [
    "lr_learner.train_loop(dl)"
   ]
  },
  {
   "cell_type": "code",
   "execution_count": 24,
   "id": "ca410940",
   "metadata": {
    "execution": {
     "iopub.execute_input": "2022-01-10T20:09:26.233200Z",
     "iopub.status.busy": "2022-01-10T20:09:26.232643Z",
     "iopub.status.idle": "2022-01-10T20:09:26.461786Z",
     "shell.execute_reply": "2022-01-10T20:09:26.462497Z"
    },
    "papermill": {
     "duration": 0.281341,
     "end_time": "2022-01-10T20:09:26.462658",
     "exception": false,
     "start_time": "2022-01-10T20:09:26.181317",
     "status": "completed"
    },
    "tags": []
   },
   "outputs": [
    {
     "data": {
      "text/plain": [
       "<matplotlib.legend.Legend at 0x7faf76c42ac8>"
      ]
     },
     "execution_count": 24,
     "metadata": {},
     "output_type": "execute_result"
    },
    {
     "data": {
      "image/png": "[encoded data removed]",
      "text/plain": [
       "<Figure size 1080x720 with 1 Axes>"
      ]
     },
     "metadata": {
      "needs_background": "light"
     },
     "output_type": "display_data"
    }
   ],
   "source": [
    "#comparing the results of NN and LR\n",
    "plt.figure(figsize=(15,10))\n",
    "\n",
    "# Neural Network plots\n",
    "plt.plot(acc_nn.accuracies, 'r-', label = \"Training Accuracies - NN\")\n",
    "plt.plot(acc_nn.test_accuracies, 'g-', label = \"Testing Accuracies - NN\")\n",
    "\n",
    "# Logistic Regression plots\n",
    "plt.plot(acc_lr.accuracies, 'k-', label = \"Training Accuracies - LR\")\n",
    "plt.plot(acc_lr.test_accuracies, 'b-', label = \"Testing Accuracies - LR\")\n",
    "plt.legend()"
   ]
  },
  {
   "cell_type": "markdown",
   "id": "80dfb35c",
   "metadata": {
    "papermill": {
     "duration": 0.042119,
     "end_time": "2022-01-10T20:09:26.547429",
     "exception": false,
     "start_time": "2022-01-10T20:09:26.505310",
     "status": "completed"
    },
    "tags": []
   },
   "source": [
    "#### Plotting the outputs of this layer of the NN.\n"
   ]
  },
  {
   "cell_type": "code",
   "execution_count": 25,
   "id": "45eb2ff5",
   "metadata": {
    "execution": {
     "iopub.execute_input": "2022-01-10T20:09:26.639143Z",
     "iopub.status.busy": "2022-01-10T20:09:26.638563Z",
     "iopub.status.idle": "2022-01-10T20:09:26.657329Z",
     "shell.execute_reply": "2022-01-10T20:09:26.657776Z"
    },
    "papermill": {
     "duration": 0.068192,
     "end_time": "2022-01-10T20:09:26.657924",
     "exception": false,
     "start_time": "2022-01-10T20:09:26.589732",
     "status": "completed"
    },
    "tags": []
   },
   "outputs": [],
   "source": [
    "new_model = Model(layers[:-2])\n",
    "testing_plot = new_model(testing_data_x)"
   ]
  },
  {
   "cell_type": "code",
   "execution_count": 26,
   "id": "4c0a5485",
   "metadata": {
    "execution": {
     "iopub.execute_input": "2022-01-10T20:09:26.748383Z",
     "iopub.status.busy": "2022-01-10T20:09:26.747843Z",
     "iopub.status.idle": "2022-01-10T20:09:26.945666Z",
     "shell.execute_reply": "2022-01-10T20:09:26.945256Z"
    },
    "papermill": {
     "duration": 0.245115,
     "end_time": "2022-01-10T20:09:26.945786",
     "exception": false,
     "start_time": "2022-01-10T20:09:26.700671",
     "status": "completed"
    },
    "tags": []
   },
   "outputs": [
    {
     "data": {
      "text/plain": [
       "Text(0.5, 1.0, 'Outputs')"
      ]
     },
     "execution_count": 26,
     "metadata": {},
     "output_type": "execute_result"
    },
    {
     "data": {
      "image/png": "[encoded data removed]",
      "text/plain": [
       "<Figure size 576x504 with 1 Axes>"
      ]
     },
     "metadata": {
      "needs_background": "light"
     },
     "output_type": "display_data"
    }
   ],
   "source": [
    "# Plotting the scatter plot of points and color coding by class\n",
    "plt.figure(figsize=(8,7))\n",
    "plt.scatter(testing_plot[:,0], testing_plot[:,1], alpha = 0.1, c = y_test.ravel());\n",
    "plt.title('Outputs')"
   ]
  },
  {
   "cell_type": "markdown",
   "id": "a74fcf8f",
   "metadata": {
    "papermill": {
     "duration": 0.039872,
     "end_time": "2022-01-10T20:09:27.025782",
     "exception": false,
     "start_time": "2022-01-10T20:09:26.985910",
     "status": "completed"
    },
    "tags": []
   },
   "source": [
    "Probability contours"
   ]
  },
  {
   "cell_type": "code",
   "execution_count": 27,
   "id": "d0afc8e3",
   "metadata": {
    "execution": {
     "iopub.execute_input": "2022-01-10T20:09:27.112268Z",
     "iopub.status.busy": "2022-01-10T20:09:27.111775Z",
     "iopub.status.idle": "2022-01-10T20:09:27.123715Z",
     "shell.execute_reply": "2022-01-10T20:09:27.123216Z"
    },
    "papermill": {
     "duration": 0.058202,
     "end_time": "2022-01-10T20:09:27.123827",
     "exception": false,
     "start_time": "2022-01-10T20:09:27.065625",
     "status": "completed"
    },
    "tags": []
   },
   "outputs": [],
   "source": [
    "model_prob = Model(layers[-2:]) "
   ]
  },
  {
   "cell_type": "code",
   "execution_count": 28,
   "id": "9b96e238",
   "metadata": {
    "execution": {
     "iopub.execute_input": "2022-01-10T20:09:27.209236Z",
     "iopub.status.busy": "2022-01-10T20:09:27.208728Z",
     "iopub.status.idle": "2022-01-10T20:09:27.223951Z",
     "shell.execute_reply": "2022-01-10T20:09:27.223555Z"
    },
    "papermill": {
     "duration": 0.060466,
     "end_time": "2022-01-10T20:09:27.224066",
     "exception": false,
     "start_time": "2022-01-10T20:09:27.163600",
     "status": "completed"
    },
    "tags": []
   },
   "outputs": [],
   "source": [
    "#creating the x and y ranges according to the above generated plot.\n",
    "x_range = np.linspace(-4, 1, 100) \n",
    "y_range = np.linspace(-6, 6, 100) \n",
    "x_grid, y_grid = np.meshgrid(x_range, y_range) # x_grid and y_grig are of size 100 X 100\n",
    "\n",
    "# converting x_grid and y_grid to continuous arrays\n",
    "x_gridflat = np.ravel(x_grid)\n",
    "y_gridflat = np.ravel(y_grid)\n",
    "\n",
    "# The last layer of the current model takes two columns as input. Hence transpose of np.vstack() is required.\n",
    "X = np.vstack((x_gridflat, y_gridflat)).T\n",
    "\n",
    "prob_contour = model_prob(X).reshape(100,100) "
   ]
  },
  {
   "cell_type": "code",
   "execution_count": 29,
   "id": "da72499a",
   "metadata": {
    "execution": {
     "iopub.execute_input": "2022-01-10T20:09:27.368492Z",
     "iopub.status.busy": "2022-01-10T20:09:27.367876Z",
     "iopub.status.idle": "2022-01-10T20:09:27.613203Z",
     "shell.execute_reply": "2022-01-10T20:09:27.613627Z"
    },
    "papermill": {
     "duration": 0.334092,
     "end_time": "2022-01-10T20:09:27.613778",
     "exception": false,
     "start_time": "2022-01-10T20:09:27.279686",
     "status": "completed"
    },
    "tags": []
   },
   "outputs": [
    {
     "data": {
      "image/png": "[encoded data removed]",
      "text/plain": [
       "<Figure size 720x648 with 1 Axes>"
      ]
     },
     "metadata": {
      "needs_background": "light"
     },
     "output_type": "display_data"
    }
   ],
   "source": [
    "plt.figure(figsize=(10,9))\n",
    "plt.scatter(testing_plot[:,0], testing_plot[:,1], alpha = 0.1, c = y_test.ravel())\n",
    "contours = plt.contour(x_grid,y_grid,prob_contour)\n",
    "plt.title('Probability Contours')\n",
    "plt.clabel(contours, inline = True );"
   ]
  },
  {
   "cell_type": "code",
   "execution_count": null,
   "id": "e81b4ac7",
   "metadata": {
    "papermill": {
     "duration": 0.047775,
     "end_time": "2022-01-10T20:09:27.709791",
     "exception": false,
     "start_time": "2022-01-10T20:09:27.662016",
     "status": "completed"
    },
    "tags": []
   },
   "outputs": [],
   "source": []
  }
 ],
 "metadata": {
  "kernelspec": {
   "display_name": "Python 3",
   "language": "python",
   "name": "python3"
  },
  "language_info": {
   "codemirror_mode": {
    "name": "ipython",
    "version": 3
   },
   "file_extension": ".py",
   "mimetype": "text/x-python",
   "name": "python",
   "nbconvert_exporter": "python",
   "pygments_lexer": "ipython3",
   "version": "3.6.15"
  },
  "papermill": {
   "default_parameters": {},
   "duration": 107.278673,
   "end_time": "2022-01-10T20:09:28.166219",
   "environment_variables": {},
   "exception": null,
   "input_path": "2020-08-11-part2.ipynb",
   "output_path": "2020-08-11-part2.ipynb",
   "parameters": {},
   "start_time": "2022-01-10T20:07:40.887546",
   "version": "2.3.3"
  }
 },
 "nbformat": 4,
 "nbformat_minor": 5
}