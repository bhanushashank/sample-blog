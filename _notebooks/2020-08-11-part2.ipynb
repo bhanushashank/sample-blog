{
 "cells": [
  {
   "cell_type": "markdown",
   "id": "98380cd3",
   "metadata": {
    "papermill": {
     "duration": 0.028668,
     "end_time": "2022-04-12T20:09:51.465627",
     "exception": false,
     "start_time": "2022-04-12T20:09:51.436959",
     "status": "completed"
    },
    "tags": []
   },
   "source": [
    "# Distinguish Your Own Digits (DYOD)"
   ]
  },
  {
   "cell_type": "markdown",
   "id": "ef31240d",
   "metadata": {
    "papermill": {
     "duration": 0.025564,
     "end_time": "2022-04-12T20:09:51.515802",
     "exception": false,
     "start_time": "2022-04-12T20:09:51.490238",
     "status": "completed"
    },
    "tags": []
   },
   "source": [
    "You are going to write a classifier that distinguishes between the number 3 and number 8."
   ]
  },
  {
   "cell_type": "code",
   "execution_count": 1,
   "id": "b15c8646",
   "metadata": {
    "execution": {
     "iopub.execute_input": "2022-04-12T20:09:51.573845Z",
     "iopub.status.busy": "2022-04-12T20:09:51.573267Z",
     "iopub.status.idle": "2022-04-12T20:09:51.585471Z",
     "shell.execute_reply": "2022-04-12T20:09:51.584970Z"
    },
    "papermill": {
     "duration": 0.046028,
     "end_time": "2022-04-12T20:09:51.585606",
     "exception": false,
     "start_time": "2022-04-12T20:09:51.539578",
     "status": "completed"
    },
    "tags": []
   },
   "outputs": [],
   "source": [
    "%load_ext autoreload\n",
    "%autoreload 2"
   ]
  },
  {
   "cell_type": "code",
   "execution_count": 2,
   "id": "22ef38dc",
   "metadata": {
    "execution": {
     "iopub.execute_input": "2022-04-12T20:09:51.639002Z",
     "iopub.status.busy": "2022-04-12T20:09:51.638425Z",
     "iopub.status.idle": "2022-04-12T20:09:52.183441Z",
     "shell.execute_reply": "2022-04-12T20:09:52.183938Z"
    },
    "papermill": {
     "duration": 0.574356,
     "end_time": "2022-04-12T20:09:52.184106",
     "exception": false,
     "start_time": "2022-04-12T20:09:51.609750",
     "status": "completed"
    },
    "tags": []
   },
   "outputs": [],
   "source": [
    "%matplotlib inline\n",
    "import numpy as np\n",
    "import matplotlib.pyplot as plt\n",
    "import pandas as pd"
   ]
  },
  {
   "cell_type": "markdown",
   "id": "ba036198",
   "metadata": {
    "papermill": {
     "duration": 0.023869,
     "end_time": "2022-04-12T20:09:52.232664",
     "exception": false,
     "start_time": "2022-04-12T20:09:52.208795",
     "status": "completed"
    },
    "tags": []
   },
   "source": [
    "From the command line run `pip install mnist`. This is a library that will help you bring down the mnist dataset. If you run this from a notebook, you need to put  `!pip install mnist` in a cell by itself."
   ]
  },
  {
   "cell_type": "code",
   "execution_count": 3,
   "id": "bb6ad8a1",
   "metadata": {
    "execution": {
     "iopub.execute_input": "2022-04-12T20:09:52.285086Z",
     "iopub.status.busy": "2022-04-12T20:09:52.284558Z",
     "iopub.status.idle": "2022-04-12T20:09:54.068440Z",
     "shell.execute_reply": "2022-04-12T20:09:54.067942Z"
    },
    "papermill": {
     "duration": 1.811968,
     "end_time": "2022-04-12T20:09:54.068561",
     "exception": false,
     "start_time": "2022-04-12T20:09:52.256593",
     "status": "completed"
    },
    "tags": []
   },
   "outputs": [
    {
     "name": "stdout",
     "output_type": "stream",
     "text": [
      "Collecting mnist\r\n"
     ]
    },
    {
     "name": "stdout",
     "output_type": "stream",
     "text": [
      "  Downloading mnist-0.2.2-py2.py3-none-any.whl (3.5 kB)\r\n",
      "Requirement already satisfied: numpy in /opt/hostedtoolcache/Python/3.6.15/x64/lib/python3.6/site-packages (from mnist) (1.19.5)\r\n"
     ]
    },
    {
     "name": "stdout",
     "output_type": "stream",
     "text": [
      "Installing collected packages: mnist\r\n"
     ]
    },
    {
     "name": "stdout",
     "output_type": "stream",
     "text": [
      "Successfully installed mnist-0.2.2\r\n"
     ]
    }
   ],
   "source": [
    "!pip install mnist"
   ]
  },
  {
   "cell_type": "markdown",
   "id": "69df9c9a",
   "metadata": {
    "papermill": {
     "duration": 0.025186,
     "end_time": "2022-04-12T20:09:54.119058",
     "exception": false,
     "start_time": "2022-04-12T20:09:54.093872",
     "status": "completed"
    },
    "tags": []
   },
   "source": [
    "## Preparing the Data"
   ]
  },
  {
   "cell_type": "code",
   "execution_count": 4,
   "id": "7f69d806",
   "metadata": {
    "execution": {
     "iopub.execute_input": "2022-04-12T20:09:54.206099Z",
     "iopub.status.busy": "2022-04-12T20:09:54.195893Z",
     "iopub.status.idle": "2022-04-12T20:09:54.210574Z",
     "shell.execute_reply": "2022-04-12T20:09:54.210101Z"
    },
    "papermill": {
     "duration": 0.066637,
     "end_time": "2022-04-12T20:09:54.210693",
     "exception": false,
     "start_time": "2022-04-12T20:09:54.144056",
     "status": "completed"
    },
    "tags": []
   },
   "outputs": [],
   "source": [
    "import mnist"
   ]
  },
  {
   "cell_type": "code",
   "execution_count": 5,
   "id": "a411e44f",
   "metadata": {
    "execution": {
     "iopub.execute_input": "2022-04-12T20:09:54.271185Z",
     "iopub.status.busy": "2022-04-12T20:09:54.264282Z",
     "iopub.status.idle": "2022-04-12T20:09:54.774704Z",
     "shell.execute_reply": "2022-04-12T20:09:54.775352Z"
    },
    "papermill": {
     "duration": 0.539616,
     "end_time": "2022-04-12T20:09:54.775554",
     "exception": false,
     "start_time": "2022-04-12T20:09:54.235938",
     "status": "completed"
    },
    "tags": []
   },
   "outputs": [],
   "source": [
    "train_images = mnist.train_images()\n",
    "train_labels = mnist.train_labels()"
   ]
  },
  {
   "cell_type": "code",
   "execution_count": 6,
   "id": "dceab3a5",
   "metadata": {
    "execution": {
     "iopub.execute_input": "2022-04-12T20:09:54.840592Z",
     "iopub.status.busy": "2022-04-12T20:09:54.837816Z",
     "iopub.status.idle": "2022-04-12T20:09:54.849645Z",
     "shell.execute_reply": "2022-04-12T20:09:54.849196Z"
    },
    "papermill": {
     "duration": 0.048242,
     "end_time": "2022-04-12T20:09:54.849756",
     "exception": false,
     "start_time": "2022-04-12T20:09:54.801514",
     "status": "completed"
    },
    "tags": []
   },
   "outputs": [
    {
     "data": {
      "text/plain": [
       "((60000, 28, 28), (60000,))"
      ]
     },
     "execution_count": 6,
     "metadata": {},
     "output_type": "execute_result"
    }
   ],
   "source": [
    "train_images.shape, train_labels.shape"
   ]
  },
  {
   "cell_type": "code",
   "execution_count": 7,
   "id": "f50dc2bb",
   "metadata": {
    "execution": {
     "iopub.execute_input": "2022-04-12T20:09:54.904808Z",
     "iopub.status.busy": "2022-04-12T20:09:54.904278Z",
     "iopub.status.idle": "2022-04-12T20:09:55.032078Z",
     "shell.execute_reply": "2022-04-12T20:09:55.032495Z"
    },
    "papermill": {
     "duration": 0.157628,
     "end_time": "2022-04-12T20:09:55.032642",
     "exception": false,
     "start_time": "2022-04-12T20:09:54.875014",
     "status": "completed"
    },
    "tags": []
   },
   "outputs": [],
   "source": [
    "test_images = mnist.test_images()\n",
    "test_labels = mnist.test_labels()"
   ]
  },
  {
   "cell_type": "code",
   "execution_count": 8,
   "id": "fc38cf1b",
   "metadata": {
    "execution": {
     "iopub.execute_input": "2022-04-12T20:09:55.087156Z",
     "iopub.status.busy": "2022-04-12T20:09:55.086594Z",
     "iopub.status.idle": "2022-04-12T20:09:55.100470Z",
     "shell.execute_reply": "2022-04-12T20:09:55.100045Z"
    },
    "papermill": {
     "duration": 0.042491,
     "end_time": "2022-04-12T20:09:55.100585",
     "exception": false,
     "start_time": "2022-04-12T20:09:55.058094",
     "status": "completed"
    },
    "tags": []
   },
   "outputs": [
    {
     "data": {
      "text/plain": [
       "((10000, 28, 28), (10000,))"
      ]
     },
     "execution_count": 8,
     "metadata": {},
     "output_type": "execute_result"
    }
   ],
   "source": [
    "test_images.shape, test_labels.shape"
   ]
  },
  {
   "cell_type": "code",
   "execution_count": 9,
   "id": "f9ed8fe0",
   "metadata": {
    "execution": {
     "iopub.execute_input": "2022-04-12T20:09:55.159477Z",
     "iopub.status.busy": "2022-04-12T20:09:55.158912Z",
     "iopub.status.idle": "2022-04-12T20:09:55.294984Z",
     "shell.execute_reply": "2022-04-12T20:09:55.295478Z"
    },
    "papermill": {
     "duration": 0.169512,
     "end_time": "2022-04-12T20:09:55.295632",
     "exception": false,
     "start_time": "2022-04-12T20:09:55.126120",
     "status": "completed"
    },
    "tags": []
   },
   "outputs": [
    {
     "name": "stdout",
     "output_type": "stream",
     "text": [
      "2\n"
     ]
    },
    {
     "data": {
      "text/plain": [
       "<matplotlib.image.AxesImage at 0x7fb20cbda390>"
      ]
     },
     "execution_count": 9,
     "metadata": {},
     "output_type": "execute_result"
    },
    {
     "data": {
      "image/png": "[encoded data removed]",
      "text/plain": [
       "<Figure size 432x288 with 1 Axes>"
      ]
     },
     "metadata": {
      "needs_background": "light"
     },
     "output_type": "display_data"
    }
   ],
   "source": [
    "image_index = 7776 # You may select anything up to 60,000\n",
    "print(train_labels[image_index]) \n",
    "plt.imshow(train_images[image_index], cmap='Greys')"
   ]
  },
  {
   "cell_type": "markdown",
   "id": "a8d2388d",
   "metadata": {
    "papermill": {
     "duration": 0.026658,
     "end_time": "2022-04-12T20:09:55.349498",
     "exception": false,
     "start_time": "2022-04-12T20:09:55.322840",
     "status": "completed"
    },
    "tags": []
   },
   "source": [
    "## Filter data to get 3 and 8 out"
   ]
  },
  {
   "cell_type": "code",
   "execution_count": 10,
   "id": "776f7fc7",
   "metadata": {
    "execution": {
     "iopub.execute_input": "2022-04-12T20:09:55.420197Z",
     "iopub.status.busy": "2022-04-12T20:09:55.415840Z",
     "iopub.status.idle": "2022-04-12T20:09:55.429733Z",
     "shell.execute_reply": "2022-04-12T20:09:55.429289Z"
    },
    "papermill": {
     "duration": 0.053532,
     "end_time": "2022-04-12T20:09:55.429851",
     "exception": false,
     "start_time": "2022-04-12T20:09:55.376319",
     "status": "completed"
    },
    "tags": []
   },
   "outputs": [],
   "source": [
    "train_filter = np.where((train_labels == 3 ) | (train_labels == 8))\n",
    "test_filter = np.where((test_labels == 3) | (test_labels == 8))\n",
    "X_train, y_train = train_images[train_filter], train_labels[train_filter]\n",
    "X_test, y_test = test_images[test_filter], test_labels[test_filter]"
   ]
  },
  {
   "cell_type": "markdown",
   "id": "948f0b7e",
   "metadata": {
    "papermill": {
     "duration": 0.026815,
     "end_time": "2022-04-12T20:09:55.483623",
     "exception": false,
     "start_time": "2022-04-12T20:09:55.456808",
     "status": "completed"
    },
    "tags": []
   },
   "source": [
    "We normalize the pizel values in the 0 to 1 range"
   ]
  },
  {
   "cell_type": "code",
   "execution_count": 11,
   "id": "ee4c2166",
   "metadata": {
    "execution": {
     "iopub.execute_input": "2022-04-12T20:09:55.542552Z",
     "iopub.status.busy": "2022-04-12T20:09:55.542012Z",
     "iopub.status.idle": "2022-04-12T20:09:55.588359Z",
     "shell.execute_reply": "2022-04-12T20:09:55.587848Z"
    },
    "papermill": {
     "duration": 0.078145,
     "end_time": "2022-04-12T20:09:55.588498",
     "exception": false,
     "start_time": "2022-04-12T20:09:55.510353",
     "status": "completed"
    },
    "tags": []
   },
   "outputs": [],
   "source": [
    "X_train = X_train/255.\n",
    "X_test = X_test/255."
   ]
  },
  {
   "cell_type": "markdown",
   "id": "ddcf4fab",
   "metadata": {
    "papermill": {
     "duration": 0.026665,
     "end_time": "2022-04-12T20:09:55.642247",
     "exception": false,
     "start_time": "2022-04-12T20:09:55.615582",
     "status": "completed"
    },
    "tags": []
   },
   "source": [
    "And setup the labels as 1 (when the digit is 3) and 0 (when the digit is 8)"
   ]
  },
  {
   "cell_type": "code",
   "execution_count": 12,
   "id": "7dc908f2",
   "metadata": {
    "execution": {
     "iopub.execute_input": "2022-04-12T20:09:55.701609Z",
     "iopub.status.busy": "2022-04-12T20:09:55.700965Z",
     "iopub.status.idle": "2022-04-12T20:09:55.713545Z",
     "shell.execute_reply": "2022-04-12T20:09:55.713073Z"
    },
    "papermill": {
     "duration": 0.044681,
     "end_time": "2022-04-12T20:09:55.713660",
     "exception": false,
     "start_time": "2022-04-12T20:09:55.668979",
     "status": "completed"
    },
    "tags": []
   },
   "outputs": [],
   "source": [
    "y_train = 1*(y_train==3)\n",
    "y_test = 1*(y_test==3)"
   ]
  },
  {
   "cell_type": "code",
   "execution_count": 13,
   "id": "01e4e969",
   "metadata": {
    "execution": {
     "iopub.execute_input": "2022-04-12T20:09:55.775170Z",
     "iopub.status.busy": "2022-04-12T20:09:55.774580Z",
     "iopub.status.idle": "2022-04-12T20:09:55.785811Z",
     "shell.execute_reply": "2022-04-12T20:09:55.786231Z"
    },
    "papermill": {
     "duration": 0.045959,
     "end_time": "2022-04-12T20:09:55.786395",
     "exception": false,
     "start_time": "2022-04-12T20:09:55.740436",
     "status": "completed"
    },
    "tags": []
   },
   "outputs": [
    {
     "data": {
      "text/plain": [
       "((11982, 28, 28), (1984, 28, 28))"
      ]
     },
     "execution_count": 13,
     "metadata": {},
     "output_type": "execute_result"
    }
   ],
   "source": [
    "X_train.shape, X_test.shape"
   ]
  },
  {
   "cell_type": "markdown",
   "id": "5ccf3f85",
   "metadata": {
    "papermill": {
     "duration": 0.026622,
     "end_time": "2022-04-12T20:09:55.840143",
     "exception": false,
     "start_time": "2022-04-12T20:09:55.813521",
     "status": "completed"
    },
    "tags": []
   },
   "source": [
    "We reshape the data to flatten the image pixels into a set of features or co-variates:"
   ]
  },
  {
   "cell_type": "code",
   "execution_count": 14,
   "id": "5286a4a3",
   "metadata": {
    "execution": {
     "iopub.execute_input": "2022-04-12T20:09:55.900748Z",
     "iopub.status.busy": "2022-04-12T20:09:55.900217Z",
     "iopub.status.idle": "2022-04-12T20:09:55.911869Z",
     "shell.execute_reply": "2022-04-12T20:09:55.911445Z"
    },
    "papermill": {
     "duration": 0.045084,
     "end_time": "2022-04-12T20:09:55.911985",
     "exception": false,
     "start_time": "2022-04-12T20:09:55.866901",
     "status": "completed"
    },
    "tags": []
   },
   "outputs": [
    {
     "data": {
      "text/plain": [
       "((11982, 784), (1984, 784))"
      ]
     },
     "execution_count": 14,
     "metadata": {},
     "output_type": "execute_result"
    }
   ],
   "source": [
    "X_train = X_train.reshape(X_train.shape[0], -1)\n",
    "X_test = X_test.reshape(X_test.shape[0], -1)\n",
    "X_train.shape, X_test.shape"
   ]
  },
  {
   "cell_type": "code",
   "execution_count": 15,
   "id": "73c5f88a",
   "metadata": {
    "execution": {
     "iopub.execute_input": "2022-04-12T20:09:55.975210Z",
     "iopub.status.busy": "2022-04-12T20:09:55.974607Z",
     "iopub.status.idle": "2022-04-12T20:09:55.991330Z",
     "shell.execute_reply": "2022-04-12T20:09:55.991739Z"
    },
    "papermill": {
     "duration": 0.052746,
     "end_time": "2022-04-12T20:09:55.991887",
     "exception": false,
     "start_time": "2022-04-12T20:09:55.939141",
     "status": "completed"
    },
    "tags": []
   },
   "outputs": [],
   "source": [
    "#Impoting functions from 'Kudzu'\n",
    "from kudzu.model import Model\n",
    "from kudzu.train import Learner\n",
    "from kudzu.optim import GD\n",
    "from kudzu.data import Data, Sampler,Dataloader\n",
    "\n",
    "from kudzu.callbacks import AccCallback\n",
    "from kudzu.callbacks import ClfCallback\n",
    "\n",
    "from kudzu.loss import MSE\n",
    "\n",
    "from kudzu.layer import Sigmoid,Relu\n",
    "from kudzu.layer import Affine"
   ]
  },
  {
   "cell_type": "markdown",
   "id": "bc01172a",
   "metadata": {
    "papermill": {
     "duration": 0.027124,
     "end_time": "2022-04-12T20:09:56.046382",
     "exception": false,
     "start_time": "2022-04-12T20:09:56.019258",
     "status": "completed"
    },
    "tags": []
   },
   "source": [
    "### Let us create a `Config` class, to store important parameters. \n",
    "This class essentially plays the role of a dictionary."
   ]
  },
  {
   "cell_type": "code",
   "execution_count": 16,
   "id": "978281aa",
   "metadata": {
    "execution": {
     "iopub.execute_input": "2022-04-12T20:09:56.104839Z",
     "iopub.status.busy": "2022-04-12T20:09:56.104289Z",
     "iopub.status.idle": "2022-04-12T20:09:56.117187Z",
     "shell.execute_reply": "2022-04-12T20:09:56.116760Z"
    },
    "papermill": {
     "duration": 0.043752,
     "end_time": "2022-04-12T20:09:56.117308",
     "exception": false,
     "start_time": "2022-04-12T20:09:56.073556",
     "status": "completed"
    },
    "tags": []
   },
   "outputs": [],
   "source": [
    "class Config:\n",
    "    pass\n",
    "config = Config()\n",
    "config.lr = 0.001\n",
    "config.num_epochs = 250\n",
    "config.bs = 50"
   ]
  },
  {
   "cell_type": "markdown",
   "id": "1385fa59",
   "metadata": {
    "papermill": {
     "duration": 0.027243,
     "end_time": "2022-04-12T20:09:56.171952",
     "exception": false,
     "start_time": "2022-04-12T20:09:56.144709",
     "status": "completed"
    },
    "tags": []
   },
   "source": [
    "### Running Models with the Training data\n",
    "Details about the network layers:\n",
    "- A first affine layer has 784 inputs and does 100 affine transforms. These are followed by a Relu\n",
    "- A second affine layer has 100 inputs from the 100 activations of the past layer, and does 100 affine transforms. These are followed by a Relu\n",
    "- A third affine layer has 100 activations and does 2 affine transformations to create an embedding for visualization. There is no non-linearity here.\n",
    "- A final \"logistic regression\" which has an affine transform from 2 inputs to 1 output, which is squeezed through a sigmoid.\n"
   ]
  },
  {
   "cell_type": "code",
   "execution_count": 17,
   "id": "2b9c66db",
   "metadata": {
    "execution": {
     "iopub.execute_input": "2022-04-12T20:09:56.232315Z",
     "iopub.status.busy": "2022-04-12T20:09:56.231768Z",
     "iopub.status.idle": "2022-04-12T20:09:56.243269Z",
     "shell.execute_reply": "2022-04-12T20:09:56.242821Z"
    },
    "papermill": {
     "duration": 0.04421,
     "end_time": "2022-04-12T20:09:56.243387",
     "exception": false,
     "start_time": "2022-04-12T20:09:56.199177",
     "status": "completed"
    },
    "tags": []
   },
   "outputs": [],
   "source": [
    "data = Data(X_train, y_train.reshape(-1,1))\n",
    "sampler = Sampler(data, config.bs, shuffle=True)\n",
    "\n",
    "dl = Dataloader(data, sampler)\n",
    "\n",
    "opt = GD(config.lr)\n",
    "loss = MSE()"
   ]
  },
  {
   "cell_type": "code",
   "execution_count": 18,
   "id": "b275e4c2",
   "metadata": {
    "execution": {
     "iopub.execute_input": "2022-04-12T20:09:56.303497Z",
     "iopub.status.busy": "2022-04-12T20:09:56.302910Z",
     "iopub.status.idle": "2022-04-12T20:09:56.314619Z",
     "shell.execute_reply": "2022-04-12T20:09:56.314180Z"
    },
    "papermill": {
     "duration": 0.044148,
     "end_time": "2022-04-12T20:09:56.314736",
     "exception": false,
     "start_time": "2022-04-12T20:09:56.270588",
     "status": "completed"
    },
    "tags": []
   },
   "outputs": [],
   "source": [
    "training_data_x = X_train\n",
    "testing_data_x = X_test\n",
    "training_data_y = y_train.reshape(-1,1)\n",
    "testing_data_y = y_test.reshape(-1,1)"
   ]
  },
  {
   "cell_type": "code",
   "execution_count": 19,
   "id": "76951160",
   "metadata": {
    "execution": {
     "iopub.execute_input": "2022-04-12T20:09:56.372949Z",
     "iopub.status.busy": "2022-04-12T20:09:56.372420Z",
     "iopub.status.idle": "2022-04-12T20:09:56.388604Z",
     "shell.execute_reply": "2022-04-12T20:09:56.389025Z"
    },
    "papermill": {
     "duration": 0.047521,
     "end_time": "2022-04-12T20:09:56.389162",
     "exception": false,
     "start_time": "2022-04-12T20:09:56.341641",
     "status": "completed"
    },
    "tags": []
   },
   "outputs": [
    {
     "name": "stdout",
     "output_type": "stream",
     "text": [
      "xavier\n",
      "xavier\n",
      "xavier\n",
      "xavier\n",
      "xavier\n"
     ]
    }
   ],
   "source": [
    "layers = [Affine(\"first\", 784, 100), Relu(\"first\"), Affine(\"second\", 100, 100), Relu(\"second\"), Affine(\"third\", 100, 2), Affine(\"last\", 2, 1), Sigmoid(\"last\")]\n",
    "model_nn = Model(layers)\n",
    "model_lr = Model([Affine(\"logits\", 784, 1), Sigmoid(\"sigmoid\")])"
   ]
  },
  {
   "cell_type": "code",
   "execution_count": 20,
   "id": "6eede77a",
   "metadata": {
    "execution": {
     "iopub.execute_input": "2022-04-12T20:09:56.449061Z",
     "iopub.status.busy": "2022-04-12T20:09:56.448191Z",
     "iopub.status.idle": "2022-04-12T20:09:56.462087Z",
     "shell.execute_reply": "2022-04-12T20:09:56.461657Z"
    },
    "papermill": {
     "duration": 0.045469,
     "end_time": "2022-04-12T20:09:56.462203",
     "exception": false,
     "start_time": "2022-04-12T20:09:56.416734",
     "status": "completed"
    },
    "tags": []
   },
   "outputs": [],
   "source": [
    "nn_learner = Learner(loss, model_nn, opt, config.num_epochs)\n",
    "acc_nn = ClfCallback(nn_learner, config.bs, training_data_x , testing_data_x, training_data_y, testing_data_y)\n",
    "nn_learner.set_callbacks([acc_nn])"
   ]
  },
  {
   "cell_type": "code",
   "execution_count": 21,
   "id": "877b6cc7",
   "metadata": {
    "execution": {
     "iopub.execute_input": "2022-04-12T20:09:56.521941Z",
     "iopub.status.busy": "2022-04-12T20:09:56.521024Z",
     "iopub.status.idle": "2022-04-12T20:09:56.534966Z",
     "shell.execute_reply": "2022-04-12T20:09:56.534509Z"
    },
    "papermill": {
     "duration": 0.045149,
     "end_time": "2022-04-12T20:09:56.535091",
     "exception": false,
     "start_time": "2022-04-12T20:09:56.489942",
     "status": "completed"
    },
    "tags": []
   },
   "outputs": [],
   "source": [
    "lr_learner = Learner(loss, model_lr, opt, config.num_epochs)\n",
    "acc_lr = ClfCallback(lr_learner, config.bs, training_data_x , testing_data_x, training_data_y, testing_data_y)\n",
    "lr_learner.set_callbacks([acc_lr])"
   ]
  },
  {
   "cell_type": "code",
   "execution_count": 22,
   "id": "d9b133c3",
   "metadata": {
    "execution": {
     "iopub.execute_input": "2022-04-12T20:09:56.606181Z",
     "iopub.status.busy": "2022-04-12T20:09:56.603986Z",
     "iopub.status.idle": "2022-04-12T20:11:14.191975Z",
     "shell.execute_reply": "2022-04-12T20:11:14.192728Z"
    },
    "papermill": {
     "duration": 77.630213,
     "end_time": "2022-04-12T20:11:14.192880",
     "exception": false,
     "start_time": "2022-04-12T20:09:56.562667",
     "status": "completed"
    },
    "tags": []
   },
   "outputs": [
    {
     "name": "stdout",
     "output_type": "stream",
     "text": [
      "Epoch 0, Loss 0.2451\n",
      "Training Accuracy: 0.6489, Testing Accuracy: 0.6608\n",
      "\n"
     ]
    },
    {
     "name": "stdout",
     "output_type": "stream",
     "text": [
      "Epoch 10, Loss 0.1334\n",
      "Training Accuracy: 0.9045, Testing Accuracy: 0.9148\n",
      "\n"
     ]
    },
    {
     "name": "stdout",
     "output_type": "stream",
     "text": [
      "Epoch 20, Loss 0.0721\n",
      "Training Accuracy: 0.9285, Testing Accuracy: 0.9395\n",
      "\n"
     ]
    },
    {
     "name": "stdout",
     "output_type": "stream",
     "text": [
      "Epoch 30, Loss 0.0521\n",
      "Training Accuracy: 0.9443, Testing Accuracy: 0.9531\n",
      "\n"
     ]
    },
    {
     "name": "stdout",
     "output_type": "stream",
     "text": [
      "Epoch 40, Loss 0.0428\n",
      "Training Accuracy: 0.9539, Testing Accuracy: 0.9622\n",
      "\n"
     ]
    },
    {
     "name": "stdout",
     "output_type": "stream",
     "text": [
      "Epoch 50, Loss 0.0376\n",
      "Training Accuracy: 0.9574, Testing Accuracy: 0.9662\n",
      "\n"
     ]
    },
    {
     "name": "stdout",
     "output_type": "stream",
     "text": [
      "Epoch 60, Loss 0.0344\n",
      "Training Accuracy: 0.9606, Testing Accuracy: 0.9688\n",
      "\n"
     ]
    },
    {
     "name": "stdout",
     "output_type": "stream",
     "text": [
      "Epoch 70, Loss 0.0321\n",
      "Training Accuracy: 0.9629, Testing Accuracy: 0.9677\n",
      "\n"
     ]
    },
    {
     "name": "stdout",
     "output_type": "stream",
     "text": [
      "Epoch 80, Loss 0.0303\n",
      "Training Accuracy: 0.9642, Testing Accuracy: 0.9693\n",
      "\n"
     ]
    },
    {
     "name": "stdout",
     "output_type": "stream",
     "text": [
      "Epoch 90, Loss 0.0289\n",
      "Training Accuracy: 0.9666, Testing Accuracy: 0.9693\n",
      "\n"
     ]
    },
    {
     "name": "stdout",
     "output_type": "stream",
     "text": [
      "Epoch 100, Loss 0.0278\n",
      "Training Accuracy: 0.9680, Testing Accuracy: 0.9698\n",
      "\n"
     ]
    },
    {
     "name": "stdout",
     "output_type": "stream",
     "text": [
      "Epoch 110, Loss 0.0268\n",
      "Training Accuracy: 0.9693, Testing Accuracy: 0.9708\n",
      "\n"
     ]
    },
    {
     "name": "stdout",
     "output_type": "stream",
     "text": [
      "Epoch 120, Loss 0.026\n",
      "Training Accuracy: 0.9701, Testing Accuracy: 0.9713\n",
      "\n"
     ]
    },
    {
     "name": "stdout",
     "output_type": "stream",
     "text": [
      "Epoch 130, Loss 0.0252\n",
      "Training Accuracy: 0.9703, Testing Accuracy: 0.9708\n",
      "\n"
     ]
    },
    {
     "name": "stdout",
     "output_type": "stream",
     "text": [
      "Epoch 140, Loss 0.0246\n",
      "Training Accuracy: 0.9712, Testing Accuracy: 0.9713\n",
      "\n"
     ]
    },
    {
     "name": "stdout",
     "output_type": "stream",
     "text": [
      "Epoch 150, Loss 0.0239\n",
      "Training Accuracy: 0.9720, Testing Accuracy: 0.9713\n",
      "\n"
     ]
    },
    {
     "name": "stdout",
     "output_type": "stream",
     "text": [
      "Epoch 160, Loss 0.0234\n",
      "Training Accuracy: 0.9731, Testing Accuracy: 0.9718\n",
      "\n"
     ]
    },
    {
     "name": "stdout",
     "output_type": "stream",
     "text": [
      "Epoch 170, Loss 0.0228\n",
      "Training Accuracy: 0.9743, Testing Accuracy: 0.9723\n",
      "\n"
     ]
    },
    {
     "name": "stdout",
     "output_type": "stream",
     "text": [
      "Epoch 180, Loss 0.0224\n",
      "Training Accuracy: 0.9749, Testing Accuracy: 0.9728\n",
      "\n"
     ]
    },
    {
     "name": "stdout",
     "output_type": "stream",
     "text": [
      "Epoch 190, Loss 0.0219\n",
      "Training Accuracy: 0.9756, Testing Accuracy: 0.9733\n",
      "\n"
     ]
    },
    {
     "name": "stdout",
     "output_type": "stream",
     "text": [
      "Epoch 200, Loss 0.0215\n",
      "Training Accuracy: 0.9760, Testing Accuracy: 0.9728\n",
      "\n"
     ]
    },
    {
     "name": "stdout",
     "output_type": "stream",
     "text": [
      "Epoch 210, Loss 0.0211\n",
      "Training Accuracy: 0.9760, Testing Accuracy: 0.9728\n",
      "\n"
     ]
    },
    {
     "name": "stdout",
     "output_type": "stream",
     "text": [
      "Epoch 220, Loss 0.0207\n",
      "Training Accuracy: 0.9765, Testing Accuracy: 0.9723\n",
      "\n"
     ]
    },
    {
     "name": "stdout",
     "output_type": "stream",
     "text": [
      "Epoch 230, Loss 0.0203\n",
      "Training Accuracy: 0.9772, Testing Accuracy: 0.9723\n",
      "\n"
     ]
    },
    {
     "name": "stdout",
     "output_type": "stream",
     "text": [
      "Epoch 240, Loss 0.0199\n",
      "Training Accuracy: 0.9775, Testing Accuracy: 0.9728\n",
      "\n"
     ]
    },
    {
     "data": {
      "text/plain": [
       "0.0016023246085660452"
      ]
     },
     "execution_count": 22,
     "metadata": {},
     "output_type": "execute_result"
    }
   ],
   "source": [
    "nn_learner.train_loop(dl)"
   ]
  },
  {
   "cell_type": "code",
   "execution_count": 23,
   "id": "e0163366",
   "metadata": {
    "execution": {
     "iopub.execute_input": "2022-04-12T20:11:14.272406Z",
     "iopub.status.busy": "2022-04-12T20:11:14.271863Z",
     "iopub.status.idle": "2022-04-12T20:11:28.014978Z",
     "shell.execute_reply": "2022-04-12T20:11:28.015732Z"
    },
    "papermill": {
     "duration": 13.787849,
     "end_time": "2022-04-12T20:11:28.015881",
     "exception": false,
     "start_time": "2022-04-12T20:11:14.228032",
     "status": "completed"
    },
    "tags": []
   },
   "outputs": [
    {
     "name": "stdout",
     "output_type": "stream",
     "text": [
      "Epoch 0, Loss 0.2612\n",
      "Training Accuracy: 0.5797, Testing Accuracy: 0.6069\n",
      "\n"
     ]
    },
    {
     "name": "stdout",
     "output_type": "stream",
     "text": [
      "Epoch 10, Loss 0.1061\n",
      "Training Accuracy: 0.9004, Testing Accuracy: 0.9108\n",
      "\n"
     ]
    },
    {
     "name": "stdout",
     "output_type": "stream",
     "text": [
      "Epoch 20, Loss 0.0816\n",
      "Training Accuracy: 0.9212, Testing Accuracy: 0.9350\n",
      "\n"
     ]
    },
    {
     "name": "stdout",
     "output_type": "stream",
     "text": [
      "Epoch 30, Loss 0.0702\n",
      "Training Accuracy: 0.9326, Testing Accuracy: 0.9425\n",
      "\n"
     ]
    },
    {
     "name": "stdout",
     "output_type": "stream",
     "text": [
      "Epoch 40, Loss 0.0632\n",
      "Training Accuracy: 0.9377, Testing Accuracy: 0.9476\n",
      "\n"
     ]
    },
    {
     "name": "stdout",
     "output_type": "stream",
     "text": [
      "Epoch 50, Loss 0.0585\n",
      "Training Accuracy: 0.9418, Testing Accuracy: 0.9526\n",
      "\n"
     ]
    },
    {
     "name": "stdout",
     "output_type": "stream",
     "text": [
      "Epoch 60, Loss 0.055\n",
      "Training Accuracy: 0.9442, Testing Accuracy: 0.9556\n",
      "\n"
     ]
    },
    {
     "name": "stdout",
     "output_type": "stream",
     "text": [
      "Epoch 70, Loss 0.0523\n",
      "Training Accuracy: 0.9471, Testing Accuracy: 0.9556\n",
      "\n"
     ]
    },
    {
     "name": "stdout",
     "output_type": "stream",
     "text": [
      "Epoch 80, Loss 0.0501\n",
      "Training Accuracy: 0.9498, Testing Accuracy: 0.9572\n",
      "\n"
     ]
    },
    {
     "name": "stdout",
     "output_type": "stream",
     "text": [
      "Epoch 90, Loss 0.0483\n",
      "Training Accuracy: 0.9518, Testing Accuracy: 0.9582\n",
      "\n"
     ]
    },
    {
     "name": "stdout",
     "output_type": "stream",
     "text": [
      "Epoch 100, Loss 0.0468\n",
      "Training Accuracy: 0.9529, Testing Accuracy: 0.9602\n",
      "\n"
     ]
    },
    {
     "name": "stdout",
     "output_type": "stream",
     "text": [
      "Epoch 110, Loss 0.0455\n",
      "Training Accuracy: 0.9537, Testing Accuracy: 0.9602\n",
      "\n"
     ]
    },
    {
     "name": "stdout",
     "output_type": "stream",
     "text": [
      "Epoch 120, Loss 0.0444\n",
      "Training Accuracy: 0.9546, Testing Accuracy: 0.9607\n",
      "\n"
     ]
    },
    {
     "name": "stdout",
     "output_type": "stream",
     "text": [
      "Epoch 130, Loss 0.0434\n",
      "Training Accuracy: 0.9552, Testing Accuracy: 0.9612\n",
      "\n"
     ]
    },
    {
     "name": "stdout",
     "output_type": "stream",
     "text": [
      "Epoch 140, Loss 0.0426\n",
      "Training Accuracy: 0.9560, Testing Accuracy: 0.9632\n",
      "\n"
     ]
    },
    {
     "name": "stdout",
     "output_type": "stream",
     "text": [
      "Epoch 150, Loss 0.0418\n",
      "Training Accuracy: 0.9568, Testing Accuracy: 0.9642\n",
      "\n"
     ]
    },
    {
     "name": "stdout",
     "output_type": "stream",
     "text": [
      "Epoch 160, Loss 0.0411\n",
      "Training Accuracy: 0.9573, Testing Accuracy: 0.9642\n",
      "\n"
     ]
    },
    {
     "name": "stdout",
     "output_type": "stream",
     "text": [
      "Epoch 170, Loss 0.0405\n",
      "Training Accuracy: 0.9576, Testing Accuracy: 0.9642\n",
      "\n"
     ]
    },
    {
     "name": "stdout",
     "output_type": "stream",
     "text": [
      "Epoch 180, Loss 0.0399\n",
      "Training Accuracy: 0.9583, Testing Accuracy: 0.9652\n",
      "\n"
     ]
    },
    {
     "name": "stdout",
     "output_type": "stream",
     "text": [
      "Epoch 190, Loss 0.0393\n",
      "Training Accuracy: 0.9588, Testing Accuracy: 0.9657\n",
      "\n"
     ]
    },
    {
     "name": "stdout",
     "output_type": "stream",
     "text": [
      "Epoch 200, Loss 0.0388\n",
      "Training Accuracy: 0.9590, Testing Accuracy: 0.9657\n",
      "\n"
     ]
    },
    {
     "name": "stdout",
     "output_type": "stream",
     "text": [
      "Epoch 210, Loss 0.0384\n",
      "Training Accuracy: 0.9592, Testing Accuracy: 0.9662\n",
      "\n"
     ]
    },
    {
     "name": "stdout",
     "output_type": "stream",
     "text": [
      "Epoch 220, Loss 0.038\n",
      "Training Accuracy: 0.9595, Testing Accuracy: 0.9662\n",
      "\n"
     ]
    },
    {
     "name": "stdout",
     "output_type": "stream",
     "text": [
      "Epoch 230, Loss 0.0376\n",
      "Training Accuracy: 0.9599, Testing Accuracy: 0.9662\n",
      "\n"
     ]
    },
    {
     "name": "stdout",
     "output_type": "stream",
     "text": [
      "Epoch 240, Loss 0.0372\n",
      "Training Accuracy: 0.9602, Testing Accuracy: 0.9662\n",
      "\n"
     ]
    },
    {
     "data": {
      "text/plain": [
       "0.03532408033906394"
      ]
     },
     "execution_count": 23,
     "metadata": {},
     "output_type": "execute_result"
    }
   ],
   "source": [
    "lr_learner.train_loop(dl)"
   ]
  },
  {
   "cell_type": "code",
   "execution_count": 24,
   "id": "ca410940",
   "metadata": {
    "execution": {
     "iopub.execute_input": "2022-04-12T20:11:28.112467Z",
     "iopub.status.busy": "2022-04-12T20:11:28.111916Z",
     "iopub.status.idle": "2022-04-12T20:11:28.344969Z",
     "shell.execute_reply": "2022-04-12T20:11:28.344524Z"
    },
    "papermill": {
     "duration": 0.287965,
     "end_time": "2022-04-12T20:11:28.345090",
     "exception": false,
     "start_time": "2022-04-12T20:11:28.057125",
     "status": "completed"
    },
    "tags": []
   },
   "outputs": [
    {
     "data": {
      "text/plain": [
       "<matplotlib.legend.Legend at 0x7fb20c7b9ac8>"
      ]
     },
     "execution_count": 24,
     "metadata": {},
     "output_type": "execute_result"
    },
    {
     "data": {
      "image/png": "[encoded data removed]",
      "text/plain": [
       "<Figure size 1080x720 with 1 Axes>"
      ]
     },
     "metadata": {
      "needs_background": "light"
     },
     "output_type": "display_data"
    }
   ],
   "source": [
    "#comparing the results of NN and LR\n",
    "plt.figure(figsize=(15,10))\n",
    "\n",
    "# Neural Network plots\n",
    "plt.plot(acc_nn.accuracies, 'r-', label = \"Training Accuracies - NN\")\n",
    "plt.plot(acc_nn.test_accuracies, 'g-', label = \"Testing Accuracies - NN\")\n",
    "\n",
    "# Logistic Regression plots\n",
    "plt.plot(acc_lr.accuracies, 'k-', label = \"Training Accuracies - LR\")\n",
    "plt.plot(acc_lr.test_accuracies, 'b-', label = \"Testing Accuracies - LR\")\n",
    "plt.legend()"
   ]
  },
  {
   "cell_type": "markdown",
   "id": "80dfb35c",
   "metadata": {
    "papermill": {
     "duration": 0.04262,
     "end_time": "2022-04-12T20:11:28.430246",
     "exception": false,
     "start_time": "2022-04-12T20:11:28.387626",
     "status": "completed"
    },
    "tags": []
   },
   "source": [
    "#### Plotting the outputs of this layer of the NN.\n"
   ]
  },
  {
   "cell_type": "code",
   "execution_count": 25,
   "id": "45eb2ff5",
   "metadata": {
    "execution": {
     "iopub.execute_input": "2022-04-12T20:11:28.519812Z",
     "iopub.status.busy": "2022-04-12T20:11:28.519245Z",
     "iopub.status.idle": "2022-04-12T20:11:28.539790Z",
     "shell.execute_reply": "2022-04-12T20:11:28.540233Z"
    },
    "papermill": {
     "duration": 0.068017,
     "end_time": "2022-04-12T20:11:28.540375",
     "exception": false,
     "start_time": "2022-04-12T20:11:28.472358",
     "status": "completed"
    },
    "tags": []
   },
   "outputs": [],
   "source": [
    "new_model = Model(layers[:-2])\n",
    "testing_plot = new_model(testing_data_x)"
   ]
  },
  {
   "cell_type": "code",
   "execution_count": 26,
   "id": "4c0a5485",
   "metadata": {
    "execution": {
     "iopub.execute_input": "2022-04-12T20:11:28.636198Z",
     "iopub.status.busy": "2022-04-12T20:11:28.635654Z",
     "iopub.status.idle": "2022-04-12T20:11:28.826697Z",
     "shell.execute_reply": "2022-04-12T20:11:28.827149Z"
    },
    "papermill": {
     "duration": 0.243935,
     "end_time": "2022-04-12T20:11:28.827295",
     "exception": false,
     "start_time": "2022-04-12T20:11:28.583360",
     "status": "completed"
    },
    "tags": []
   },
   "outputs": [
    {
     "data": {
      "text/plain": [
       "Text(0.5, 1.0, 'Outputs')"
      ]
     },
     "execution_count": 26,
     "metadata": {},
     "output_type": "execute_result"
    },
    {
     "data": {
      "image/png": "[encoded data removed]",
      "text/plain": [
       "<Figure size 576x504 with 1 Axes>"
      ]
     },
     "metadata": {
      "needs_background": "light"
     },
     "output_type": "display_data"
    }
   ],
   "source": [
    "# Plotting the scatter plot of points and color coding by class\n",
    "plt.figure(figsize=(8,7))\n",
    "plt.scatter(testing_plot[:,0], testing_plot[:,1], alpha = 0.1, c = y_test.ravel());\n",
    "plt.title('Outputs')"
   ]
  },
  {
   "cell_type": "markdown",
   "id": "a74fcf8f",
   "metadata": {
    "papermill": {
     "duration": 0.044159,
     "end_time": "2022-04-12T20:11:28.916245",
     "exception": false,
     "start_time": "2022-04-12T20:11:28.872086",
     "status": "completed"
    },
    "tags": []
   },
   "source": [
    "Probability contours"
   ]
  },
  {
   "cell_type": "code",
   "execution_count": 27,
   "id": "d0afc8e3",
   "metadata": {
    "execution": {
     "iopub.execute_input": "2022-04-12T20:11:29.008991Z",
     "iopub.status.busy": "2022-04-12T20:11:29.008449Z",
     "iopub.status.idle": "2022-04-12T20:11:29.021248Z",
     "shell.execute_reply": "2022-04-12T20:11:29.020795Z"
    },
    "papermill": {
     "duration": 0.060936,
     "end_time": "2022-04-12T20:11:29.021363",
     "exception": false,
     "start_time": "2022-04-12T20:11:28.960427",
     "status": "completed"
    },
    "tags": []
   },
   "outputs": [],
   "source": [
    "model_prob = Model(layers[-2:]) "
   ]
  },
  {
   "cell_type": "code",
   "execution_count": 28,
   "id": "9b96e238",
   "metadata": {
    "execution": {
     "iopub.execute_input": "2022-04-12T20:11:29.146510Z",
     "iopub.status.busy": "2022-04-12T20:11:29.145983Z",
     "iopub.status.idle": "2022-04-12T20:11:29.158967Z",
     "shell.execute_reply": "2022-04-12T20:11:29.159377Z"
    },
    "papermill": {
     "duration": 0.062295,
     "end_time": "2022-04-12T20:11:29.159516",
     "exception": false,
     "start_time": "2022-04-12T20:11:29.097221",
     "status": "completed"
    },
    "tags": []
   },
   "outputs": [],
   "source": [
    "#creating the x and y ranges according to the above generated plot.\n",
    "x_range = np.linspace(-4, 1, 100) \n",
    "y_range = np.linspace(-6, 6, 100) \n",
    "x_grid, y_grid = np.meshgrid(x_range, y_range) # x_grid and y_grig are of size 100 X 100\n",
    "\n",
    "# converting x_grid and y_grid to continuous arrays\n",
    "x_gridflat = np.ravel(x_grid)\n",
    "y_gridflat = np.ravel(y_grid)\n",
    "\n",
    "# The last layer of the current model takes two columns as input. Hence transpose of np.vstack() is required.\n",
    "X = np.vstack((x_gridflat, y_gridflat)).T\n",
    "\n",
    "prob_contour = model_prob(X).reshape(100,100) "
   ]
  },
  {
   "cell_type": "code",
   "execution_count": 29,
   "id": "da72499a",
   "metadata": {
    "execution": {
     "iopub.execute_input": "2022-04-12T20:11:29.259303Z",
     "iopub.status.busy": "2022-04-12T20:11:29.258735Z",
     "iopub.status.idle": "2022-04-12T20:11:29.502027Z",
     "shell.execute_reply": "2022-04-12T20:11:29.502503Z"
    },
    "papermill": {
     "duration": 0.298319,
     "end_time": "2022-04-12T20:11:29.502657",
     "exception": false,
     "start_time": "2022-04-12T20:11:29.204338",
     "status": "completed"
    },
    "tags": []
   },
   "outputs": [
    {
     "data": {
      "image/png": "[encoded data removed]",
      "text/plain": [
       "<Figure size 720x648 with 1 Axes>"
      ]
     },
     "metadata": {
      "needs_background": "light"
     },
     "output_type": "display_data"
    }
   ],
   "source": [
    "plt.figure(figsize=(10,9))\n",
    "plt.scatter(testing_plot[:,0], testing_plot[:,1], alpha = 0.1, c = y_test.ravel())\n",
    "contours = plt.contour(x_grid,y_grid,prob_contour)\n",
    "plt.title('Probability Contours')\n",
    "plt.clabel(contours, inline = True );"
   ]
  },
  {
   "cell_type": "code",
   "execution_count": null,
   "id": "e81b4ac7",
   "metadata": {
    "papermill": {
     "duration": 0.04706,
     "end_time": "2022-04-12T20:11:29.597544",
     "exception": false,
     "start_time": "2022-04-12T20:11:29.550484",
     "status": "completed"
    },
    "tags": []
   },
   "outputs": [],
   "source": []
  }
 ],
 "metadata": {
  "kernelspec": {
   "display_name": "Python 3",
   "language": "python",
   "name": "python3"
  },
  "language_info": {
   "codemirror_mode": {
    "name": "ipython",
    "version": 3
   },
   "file_extension": ".py",
   "mimetype": "text/x-python",
   "name": "python",
   "nbconvert_exporter": "python",
   "pygments_lexer": "ipython3",
   "version": "3.6.15"
  },
  "papermill": {
   "default_parameters": {},
   "duration": 99.572656,
   "end_time": "2022-04-12T20:11:30.063739",
   "environment_variables": {},
   "exception": null,
   "input_path": "2020-08-11-part2.ipynb",
   "output_path": "2020-08-11-part2.ipynb",
   "parameters": {},
   "start_time": "2022-04-12T20:09:50.491083",
   "version": "2.3.3"
  }
 },
 "nbformat": 4,
 "nbformat_minor": 5
}