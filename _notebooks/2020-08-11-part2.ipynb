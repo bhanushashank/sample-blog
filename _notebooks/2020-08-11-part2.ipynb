{
 "cells": [
  {
   "cell_type": "markdown",
   "id": "98380cd3",
   "metadata": {
    "papermill": {
     "duration": 0.0294,
     "end_time": "2022-09-18T00:47:11.201097",
     "exception": false,
     "start_time": "2022-09-18T00:47:11.171697",
     "status": "completed"
    },
    "tags": []
   },
   "source": [
    "# Distinguish Your Own Digits (DYOD)"
   ]
  },
  {
   "cell_type": "markdown",
   "id": "ef31240d",
   "metadata": {
    "papermill": {
     "duration": 0.02372,
     "end_time": "2022-09-18T00:47:11.249161",
     "exception": false,
     "start_time": "2022-09-18T00:47:11.225441",
     "status": "completed"
    },
    "tags": []
   },
   "source": [
    "You are going to write a classifier that distinguishes between the number 3 and number 8."
   ]
  },
  {
   "cell_type": "code",
   "execution_count": 1,
   "id": "b15c8646",
   "metadata": {
    "execution": {
     "iopub.execute_input": "2022-09-18T00:47:11.306681Z",
     "iopub.status.busy": "2022-09-18T00:47:11.306096Z",
     "iopub.status.idle": "2022-09-18T00:47:11.316404Z",
     "shell.execute_reply": "2022-09-18T00:47:11.316833Z"
    },
    "papermill": {
     "duration": 0.044245,
     "end_time": "2022-09-18T00:47:11.316985",
     "exception": false,
     "start_time": "2022-09-18T00:47:11.272740",
     "status": "completed"
    },
    "tags": []
   },
   "outputs": [],
   "source": [
    "%load_ext autoreload\n",
    "%autoreload 2"
   ]
  },
  {
   "cell_type": "code",
   "execution_count": 2,
   "id": "22ef38dc",
   "metadata": {
    "execution": {
     "iopub.execute_input": "2022-09-18T00:47:11.368920Z",
     "iopub.status.busy": "2022-09-18T00:47:11.368344Z",
     "iopub.status.idle": "2022-09-18T00:47:11.889545Z",
     "shell.execute_reply": "2022-09-18T00:47:11.890001Z"
    },
    "papermill": {
     "duration": 0.549241,
     "end_time": "2022-09-18T00:47:11.890146",
     "exception": false,
     "start_time": "2022-09-18T00:47:11.340905",
     "status": "completed"
    },
    "tags": []
   },
   "outputs": [],
   "source": [
    "%matplotlib inline\n",
    "import numpy as np\n",
    "import matplotlib.pyplot as plt\n",
    "import pandas as pd"
   ]
  },
  {
   "cell_type": "markdown",
   "id": "ba036198",
   "metadata": {
    "papermill": {
     "duration": 0.023765,
     "end_time": "2022-09-18T00:47:11.937754",
     "exception": false,
     "start_time": "2022-09-18T00:47:11.913989",
     "status": "completed"
    },
    "tags": []
   },
   "source": [
    "From the command line run `pip install mnist`. This is a library that will help you bring down the mnist dataset. If you run this from a notebook, you need to put  `!pip install mnist` in a cell by itself."
   ]
  },
  {
   "cell_type": "code",
   "execution_count": 3,
   "id": "bb6ad8a1",
   "metadata": {
    "execution": {
     "iopub.execute_input": "2022-09-18T00:47:11.989179Z",
     "iopub.status.busy": "2022-09-18T00:47:11.988616Z",
     "iopub.status.idle": "2022-09-18T00:47:13.511216Z",
     "shell.execute_reply": "2022-09-18T00:47:13.510678Z"
    },
    "papermill": {
     "duration": 1.549957,
     "end_time": "2022-09-18T00:47:13.511674",
     "exception": false,
     "start_time": "2022-09-18T00:47:11.961717",
     "status": "completed"
    },
    "tags": []
   },
   "outputs": [
    {
     "name": "stdout",
     "output_type": "stream",
     "text": [
      "Collecting mnist\r\n",
      "  Downloading mnist-0.2.2-py2.py3-none-any.whl (3.5 kB)\r\n",
      "Requirement already satisfied: numpy in /opt/hostedtoolcache/Python/3.6.15/x64/lib/python3.6/site-packages (from mnist) (1.19.5)\r\n"
     ]
    },
    {
     "name": "stdout",
     "output_type": "stream",
     "text": [
      "Installing collected packages: mnist\r\n"
     ]
    },
    {
     "name": "stdout",
     "output_type": "stream",
     "text": [
      "Successfully installed mnist-0.2.2\r\n"
     ]
    }
   ],
   "source": [
    "!pip install mnist"
   ]
  },
  {
   "cell_type": "markdown",
   "id": "69df9c9a",
   "metadata": {
    "papermill": {
     "duration": 0.024593,
     "end_time": "2022-09-18T00:47:13.561470",
     "exception": false,
     "start_time": "2022-09-18T00:47:13.536877",
     "status": "completed"
    },
    "tags": []
   },
   "source": [
    "## Preparing the Data"
   ]
  },
  {
   "cell_type": "code",
   "execution_count": 4,
   "id": "7f69d806",
   "metadata": {
    "execution": {
     "iopub.execute_input": "2022-09-18T00:47:13.615185Z",
     "iopub.status.busy": "2022-09-18T00:47:13.614618Z",
     "iopub.status.idle": "2022-09-18T00:47:13.627954Z",
     "shell.execute_reply": "2022-09-18T00:47:13.628426Z"
    },
    "papermill": {
     "duration": 0.042734,
     "end_time": "2022-09-18T00:47:13.628549",
     "exception": false,
     "start_time": "2022-09-18T00:47:13.585815",
     "status": "completed"
    },
    "tags": []
   },
   "outputs": [],
   "source": [
    "import mnist"
   ]
  },
  {
   "cell_type": "code",
   "execution_count": 5,
   "id": "a411e44f",
   "metadata": {
    "execution": {
     "iopub.execute_input": "2022-09-18T00:47:13.680492Z",
     "iopub.status.busy": "2022-09-18T00:47:13.679928Z",
     "iopub.status.idle": "2022-09-18T00:47:14.220352Z",
     "shell.execute_reply": "2022-09-18T00:47:14.219799Z"
    },
    "papermill": {
     "duration": 0.567522,
     "end_time": "2022-09-18T00:47:14.220473",
     "exception": false,
     "start_time": "2022-09-18T00:47:13.652951",
     "status": "completed"
    },
    "tags": []
   },
   "outputs": [],
   "source": [
    "train_images = mnist.train_images()\n",
    "train_labels = mnist.train_labels()"
   ]
  },
  {
   "cell_type": "code",
   "execution_count": 6,
   "id": "dceab3a5",
   "metadata": {
    "execution": {
     "iopub.execute_input": "2022-09-18T00:47:14.273471Z",
     "iopub.status.busy": "2022-09-18T00:47:14.272902Z",
     "iopub.status.idle": "2022-09-18T00:47:14.288076Z",
     "shell.execute_reply": "2022-09-18T00:47:14.288621Z"
    },
    "papermill": {
     "duration": 0.043594,
     "end_time": "2022-09-18T00:47:14.288749",
     "exception": false,
     "start_time": "2022-09-18T00:47:14.245155",
     "status": "completed"
    },
    "tags": []
   },
   "outputs": [
    {
     "data": {
      "text/plain": [
       "((60000, 28, 28), (60000,))"
      ]
     },
     "execution_count": 6,
     "metadata": {},
     "output_type": "execute_result"
    }
   ],
   "source": [
    "train_images.shape, train_labels.shape"
   ]
  },
  {
   "cell_type": "code",
   "execution_count": 7,
   "id": "f50dc2bb",
   "metadata": {
    "execution": {
     "iopub.execute_input": "2022-09-18T00:47:14.341620Z",
     "iopub.status.busy": "2022-09-18T00:47:14.341058Z",
     "iopub.status.idle": "2022-09-18T00:47:14.445816Z",
     "shell.execute_reply": "2022-09-18T00:47:14.445189Z"
    },
    "papermill": {
     "duration": 0.132591,
     "end_time": "2022-09-18T00:47:14.445948",
     "exception": false,
     "start_time": "2022-09-18T00:47:14.313357",
     "status": "completed"
    },
    "tags": []
   },
   "outputs": [],
   "source": [
    "test_images = mnist.test_images()\n",
    "test_labels = mnist.test_labels()"
   ]
  },
  {
   "cell_type": "code",
   "execution_count": 8,
   "id": "fc38cf1b",
   "metadata": {
    "execution": {
     "iopub.execute_input": "2022-09-18T00:47:14.500518Z",
     "iopub.status.busy": "2022-09-18T00:47:14.499940Z",
     "iopub.status.idle": "2022-09-18T00:47:14.513174Z",
     "shell.execute_reply": "2022-09-18T00:47:14.513718Z"
    },
    "papermill": {
     "duration": 0.041805,
     "end_time": "2022-09-18T00:47:14.513837",
     "exception": false,
     "start_time": "2022-09-18T00:47:14.472032",
     "status": "completed"
    },
    "tags": []
   },
   "outputs": [
    {
     "data": {
      "text/plain": [
       "((10000, 28, 28), (10000,))"
      ]
     },
     "execution_count": 8,
     "metadata": {},
     "output_type": "execute_result"
    }
   ],
   "source": [
    "test_images.shape, test_labels.shape"
   ]
  },
  {
   "cell_type": "code",
   "execution_count": 9,
   "id": "f9ed8fe0",
   "metadata": {
    "execution": {
     "iopub.execute_input": "2022-09-18T00:47:14.567246Z",
     "iopub.status.busy": "2022-09-18T00:47:14.566690Z",
     "iopub.status.idle": "2022-09-18T00:47:14.701685Z",
     "shell.execute_reply": "2022-09-18T00:47:14.702194Z"
    },
    "papermill": {
     "duration": 0.163457,
     "end_time": "2022-09-18T00:47:14.702340",
     "exception": false,
     "start_time": "2022-09-18T00:47:14.538883",
     "status": "completed"
    },
    "tags": []
   },
   "outputs": [
    {
     "name": "stdout",
     "output_type": "stream",
     "text": [
      "2\n"
     ]
    },
    {
     "data": {
      "text/plain": [
       "<matplotlib.image.AxesImage at 0x7f78e43eac50>"
      ]
     },
     "execution_count": 9,
     "metadata": {},
     "output_type": "execute_result"
    },
    {
     "data": {
      "image/png": "[encoded data removed]",
      "text/plain": [
       "<Figure size 432x288 with 1 Axes>"
      ]
     },
     "metadata": {
      "needs_background": "light"
     },
     "output_type": "display_data"
    }
   ],
   "source": [
    "image_index = 7776 # You may select anything up to 60,000\n",
    "print(train_labels[image_index]) \n",
    "plt.imshow(train_images[image_index], cmap='Greys')"
   ]
  },
  {
   "cell_type": "markdown",
   "id": "a8d2388d",
   "metadata": {
    "papermill": {
     "duration": 0.026371,
     "end_time": "2022-09-18T00:47:14.755713",
     "exception": false,
     "start_time": "2022-09-18T00:47:14.729342",
     "status": "completed"
    },
    "tags": []
   },
   "source": [
    "## Filter data to get 3 and 8 out"
   ]
  },
  {
   "cell_type": "code",
   "execution_count": 10,
   "id": "776f7fc7",
   "metadata": {
    "execution": {
     "iopub.execute_input": "2022-09-18T00:47:14.816015Z",
     "iopub.status.busy": "2022-09-18T00:47:14.815408Z",
     "iopub.status.idle": "2022-09-18T00:47:14.829420Z",
     "shell.execute_reply": "2022-09-18T00:47:14.829889Z"
    },
    "papermill": {
     "duration": 0.048399,
     "end_time": "2022-09-18T00:47:14.830011",
     "exception": false,
     "start_time": "2022-09-18T00:47:14.781612",
     "status": "completed"
    },
    "tags": []
   },
   "outputs": [],
   "source": [
    "train_filter = np.where((train_labels == 3 ) | (train_labels == 8))\n",
    "test_filter = np.where((test_labels == 3) | (test_labels == 8))\n",
    "X_train, y_train = train_images[train_filter], train_labels[train_filter]\n",
    "X_test, y_test = test_images[test_filter], test_labels[test_filter]"
   ]
  },
  {
   "cell_type": "markdown",
   "id": "948f0b7e",
   "metadata": {
    "papermill": {
     "duration": 0.026108,
     "end_time": "2022-09-18T00:47:14.882142",
     "exception": false,
     "start_time": "2022-09-18T00:47:14.856034",
     "status": "completed"
    },
    "tags": []
   },
   "source": [
    "We normalize the pizel values in the 0 to 1 range"
   ]
  },
  {
   "cell_type": "code",
   "execution_count": 11,
   "id": "ee4c2166",
   "metadata": {
    "execution": {
     "iopub.execute_input": "2022-09-18T00:47:14.937255Z",
     "iopub.status.busy": "2022-09-18T00:47:14.936692Z",
     "iopub.status.idle": "2022-09-18T00:47:14.981145Z",
     "shell.execute_reply": "2022-09-18T00:47:14.980576Z"
    },
    "papermill": {
     "duration": 0.073319,
     "end_time": "2022-09-18T00:47:14.981265",
     "exception": false,
     "start_time": "2022-09-18T00:47:14.907946",
     "status": "completed"
    },
    "tags": []
   },
   "outputs": [],
   "source": [
    "X_train = X_train/255.\n",
    "X_test = X_test/255."
   ]
  },
  {
   "cell_type": "markdown",
   "id": "ddcf4fab",
   "metadata": {
    "papermill": {
     "duration": 0.02636,
     "end_time": "2022-09-18T00:47:15.034028",
     "exception": false,
     "start_time": "2022-09-18T00:47:15.007668",
     "status": "completed"
    },
    "tags": []
   },
   "source": [
    "And setup the labels as 1 (when the digit is 3) and 0 (when the digit is 8)"
   ]
  },
  {
   "cell_type": "code",
   "execution_count": 12,
   "id": "7dc908f2",
   "metadata": {
    "execution": {
     "iopub.execute_input": "2022-09-18T00:47:15.092099Z",
     "iopub.status.busy": "2022-09-18T00:47:15.091483Z",
     "iopub.status.idle": "2022-09-18T00:47:15.103011Z",
     "shell.execute_reply": "2022-09-18T00:47:15.102543Z"
    },
    "papermill": {
     "duration": 0.042999,
     "end_time": "2022-09-18T00:47:15.103119",
     "exception": false,
     "start_time": "2022-09-18T00:47:15.060120",
     "status": "completed"
    },
    "tags": []
   },
   "outputs": [],
   "source": [
    "y_train = 1*(y_train==3)\n",
    "y_test = 1*(y_test==3)"
   ]
  },
  {
   "cell_type": "code",
   "execution_count": 13,
   "id": "01e4e969",
   "metadata": {
    "execution": {
     "iopub.execute_input": "2022-09-18T00:47:15.158341Z",
     "iopub.status.busy": "2022-09-18T00:47:15.157786Z",
     "iopub.status.idle": "2022-09-18T00:47:15.171585Z",
     "shell.execute_reply": "2022-09-18T00:47:15.172085Z"
    },
    "papermill": {
     "duration": 0.042769,
     "end_time": "2022-09-18T00:47:15.172210",
     "exception": false,
     "start_time": "2022-09-18T00:47:15.129441",
     "status": "completed"
    },
    "tags": []
   },
   "outputs": [
    {
     "data": {
      "text/plain": [
       "((11982, 28, 28), (1984, 28, 28))"
      ]
     },
     "execution_count": 13,
     "metadata": {},
     "output_type": "execute_result"
    }
   ],
   "source": [
    "X_train.shape, X_test.shape"
   ]
  },
  {
   "cell_type": "markdown",
   "id": "5ccf3f85",
   "metadata": {
    "papermill": {
     "duration": 0.026245,
     "end_time": "2022-09-18T00:47:15.224595",
     "exception": false,
     "start_time": "2022-09-18T00:47:15.198350",
     "status": "completed"
    },
    "tags": []
   },
   "source": [
    "We reshape the data to flatten the image pixels into a set of features or co-variates:"
   ]
  },
  {
   "cell_type": "code",
   "execution_count": 14,
   "id": "5286a4a3",
   "metadata": {
    "execution": {
     "iopub.execute_input": "2022-09-18T00:47:15.281121Z",
     "iopub.status.busy": "2022-09-18T00:47:15.280556Z",
     "iopub.status.idle": "2022-09-18T00:47:15.294628Z",
     "shell.execute_reply": "2022-09-18T00:47:15.294072Z"
    },
    "papermill": {
     "duration": 0.043761,
     "end_time": "2022-09-18T00:47:15.294730",
     "exception": false,
     "start_time": "2022-09-18T00:47:15.250969",
     "status": "completed"
    },
    "tags": []
   },
   "outputs": [
    {
     "data": {
      "text/plain": [
       "((11982, 784), (1984, 784))"
      ]
     },
     "execution_count": 14,
     "metadata": {},
     "output_type": "execute_result"
    }
   ],
   "source": [
    "X_train = X_train.reshape(X_train.shape[0], -1)\n",
    "X_test = X_test.reshape(X_test.shape[0], -1)\n",
    "X_train.shape, X_test.shape"
   ]
  },
  {
   "cell_type": "code",
   "execution_count": 15,
   "id": "73c5f88a",
   "metadata": {
    "execution": {
     "iopub.execute_input": "2022-09-18T00:47:15.352991Z",
     "iopub.status.busy": "2022-09-18T00:47:15.352428Z",
     "iopub.status.idle": "2022-09-18T00:47:15.370348Z",
     "shell.execute_reply": "2022-09-18T00:47:15.369860Z"
    },
    "papermill": {
     "duration": 0.04925,
     "end_time": "2022-09-18T00:47:15.370452",
     "exception": false,
     "start_time": "2022-09-18T00:47:15.321202",
     "status": "completed"
    },
    "tags": []
   },
   "outputs": [],
   "source": [
    "#Impoting functions from 'Kudzu'\n",
    "from kudzu.model import Model\n",
    "from kudzu.train import Learner\n",
    "from kudzu.optim import GD\n",
    "from kudzu.data import Data, Sampler,Dataloader\n",
    "\n",
    "from kudzu.callbacks import AccCallback\n",
    "from kudzu.callbacks import ClfCallback\n",
    "\n",
    "from kudzu.loss import MSE\n",
    "\n",
    "from kudzu.layer import Sigmoid,Relu\n",
    "from kudzu.layer import Affine"
   ]
  },
  {
   "cell_type": "markdown",
   "id": "bc01172a",
   "metadata": {
    "papermill": {
     "duration": 0.026508,
     "end_time": "2022-09-18T00:47:15.423966",
     "exception": false,
     "start_time": "2022-09-18T00:47:15.397458",
     "status": "completed"
    },
    "tags": []
   },
   "source": [
    "### Let us create a `Config` class, to store important parameters. \n",
    "This class essentially plays the role of a dictionary."
   ]
  },
  {
   "cell_type": "code",
   "execution_count": 16,
   "id": "978281aa",
   "metadata": {
    "execution": {
     "iopub.execute_input": "2022-09-18T00:47:15.480329Z",
     "iopub.status.busy": "2022-09-18T00:47:15.479724Z",
     "iopub.status.idle": "2022-09-18T00:47:15.492694Z",
     "shell.execute_reply": "2022-09-18T00:47:15.492238Z"
    },
    "papermill": {
     "duration": 0.042374,
     "end_time": "2022-09-18T00:47:15.492793",
     "exception": false,
     "start_time": "2022-09-18T00:47:15.450419",
     "status": "completed"
    },
    "tags": []
   },
   "outputs": [],
   "source": [
    "class Config:\n",
    "    pass\n",
    "config = Config()\n",
    "config.lr = 0.001\n",
    "config.num_epochs = 250\n",
    "config.bs = 50"
   ]
  },
  {
   "cell_type": "markdown",
   "id": "1385fa59",
   "metadata": {
    "papermill": {
     "duration": 0.026705,
     "end_time": "2022-09-18T00:47:15.545896",
     "exception": false,
     "start_time": "2022-09-18T00:47:15.519191",
     "status": "completed"
    },
    "tags": []
   },
   "source": [
    "### Running Models with the Training data\n",
    "Details about the network layers:\n",
    "- A first affine layer has 784 inputs and does 100 affine transforms. These are followed by a Relu\n",
    "- A second affine layer has 100 inputs from the 100 activations of the past layer, and does 100 affine transforms. These are followed by a Relu\n",
    "- A third affine layer has 100 activations and does 2 affine transformations to create an embedding for visualization. There is no non-linearity here.\n",
    "- A final \"logistic regression\" which has an affine transform from 2 inputs to 1 output, which is squeezed through a sigmoid.\n"
   ]
  },
  {
   "cell_type": "code",
   "execution_count": 17,
   "id": "2b9c66db",
   "metadata": {
    "execution": {
     "iopub.execute_input": "2022-09-18T00:47:15.602621Z",
     "iopub.status.busy": "2022-09-18T00:47:15.602061Z",
     "iopub.status.idle": "2022-09-18T00:47:15.615761Z",
     "shell.execute_reply": "2022-09-18T00:47:15.615286Z"
    },
    "papermill": {
     "duration": 0.043447,
     "end_time": "2022-09-18T00:47:15.615863",
     "exception": false,
     "start_time": "2022-09-18T00:47:15.572416",
     "status": "completed"
    },
    "tags": []
   },
   "outputs": [],
   "source": [
    "data = Data(X_train, y_train.reshape(-1,1))\n",
    "sampler = Sampler(data, config.bs, shuffle=True)\n",
    "\n",
    "dl = Dataloader(data, sampler)\n",
    "\n",
    "opt = GD(config.lr)\n",
    "loss = MSE()"
   ]
  },
  {
   "cell_type": "code",
   "execution_count": 18,
   "id": "b275e4c2",
   "metadata": {
    "execution": {
     "iopub.execute_input": "2022-09-18T00:47:15.672595Z",
     "iopub.status.busy": "2022-09-18T00:47:15.672024Z",
     "iopub.status.idle": "2022-09-18T00:47:15.684780Z",
     "shell.execute_reply": "2022-09-18T00:47:15.684321Z"
    },
    "papermill": {
     "duration": 0.042402,
     "end_time": "2022-09-18T00:47:15.684883",
     "exception": false,
     "start_time": "2022-09-18T00:47:15.642481",
     "status": "completed"
    },
    "tags": []
   },
   "outputs": [],
   "source": [
    "training_data_x = X_train\n",
    "testing_data_x = X_test\n",
    "training_data_y = y_train.reshape(-1,1)\n",
    "testing_data_y = y_test.reshape(-1,1)"
   ]
  },
  {
   "cell_type": "code",
   "execution_count": 19,
   "id": "76951160",
   "metadata": {
    "execution": {
     "iopub.execute_input": "2022-09-18T00:47:15.742025Z",
     "iopub.status.busy": "2022-09-18T00:47:15.741456Z",
     "iopub.status.idle": "2022-09-18T00:47:15.756995Z",
     "shell.execute_reply": "2022-09-18T00:47:15.757534Z"
    },
    "papermill": {
     "duration": 0.046309,
     "end_time": "2022-09-18T00:47:15.757653",
     "exception": false,
     "start_time": "2022-09-18T00:47:15.711344",
     "status": "completed"
    },
    "tags": []
   },
   "outputs": [
    {
     "name": "stdout",
     "output_type": "stream",
     "text": [
      "xavier\n",
      "xavier\n",
      "xavier\n",
      "xavier\n",
      "xavier\n"
     ]
    }
   ],
   "source": [
    "layers = [Affine(\"first\", 784, 100), Relu(\"first\"), Affine(\"second\", 100, 100), Relu(\"second\"), Affine(\"third\", 100, 2), Affine(\"last\", 2, 1), Sigmoid(\"last\")]\n",
    "model_nn = Model(layers)\n",
    "model_lr = Model([Affine(\"logits\", 784, 1), Sigmoid(\"sigmoid\")])"
   ]
  },
  {
   "cell_type": "code",
   "execution_count": 20,
   "id": "6eede77a",
   "metadata": {
    "execution": {
     "iopub.execute_input": "2022-09-18T00:47:15.815033Z",
     "iopub.status.busy": "2022-09-18T00:47:15.814473Z",
     "iopub.status.idle": "2022-09-18T00:47:15.827133Z",
     "shell.execute_reply": "2022-09-18T00:47:15.826672Z"
    },
    "papermill": {
     "duration": 0.042813,
     "end_time": "2022-09-18T00:47:15.827234",
     "exception": false,
     "start_time": "2022-09-18T00:47:15.784421",
     "status": "completed"
    },
    "tags": []
   },
   "outputs": [],
   "source": [
    "nn_learner = Learner(loss, model_nn, opt, config.num_epochs)\n",
    "acc_nn = ClfCallback(nn_learner, config.bs, training_data_x , testing_data_x, training_data_y, testing_data_y)\n",
    "nn_learner.set_callbacks([acc_nn])"
   ]
  },
  {
   "cell_type": "code",
   "execution_count": 21,
   "id": "877b6cc7",
   "metadata": {
    "execution": {
     "iopub.execute_input": "2022-09-18T00:47:15.884408Z",
     "iopub.status.busy": "2022-09-18T00:47:15.883839Z",
     "iopub.status.idle": "2022-09-18T00:47:15.895447Z",
     "shell.execute_reply": "2022-09-18T00:47:15.894989Z"
    },
    "papermill": {
     "duration": 0.041578,
     "end_time": "2022-09-18T00:47:15.895544",
     "exception": false,
     "start_time": "2022-09-18T00:47:15.853966",
     "status": "completed"
    },
    "tags": []
   },
   "outputs": [],
   "source": [
    "lr_learner = Learner(loss, model_lr, opt, config.num_epochs)\n",
    "acc_lr = ClfCallback(lr_learner, config.bs, training_data_x , testing_data_x, training_data_y, testing_data_y)\n",
    "lr_learner.set_callbacks([acc_lr])"
   ]
  },
  {
   "cell_type": "code",
   "execution_count": 22,
   "id": "d9b133c3",
   "metadata": {
    "execution": {
     "iopub.execute_input": "2022-09-18T00:47:15.953001Z",
     "iopub.status.busy": "2022-09-18T00:47:15.952449Z",
     "iopub.status.idle": "2022-09-18T00:48:28.923869Z",
     "shell.execute_reply": "2022-09-18T00:48:28.924724Z"
    },
    "papermill": {
     "duration": 73.002548,
     "end_time": "2022-09-18T00:48:28.924871",
     "exception": false,
     "start_time": "2022-09-18T00:47:15.922323",
     "status": "completed"
    },
    "tags": []
   },
   "outputs": [
    {
     "name": "stdout",
     "output_type": "stream",
     "text": [
      "Epoch 0, Loss 0.2475\n",
      "Training Accuracy: 0.5680, Testing Accuracy: 0.5655\n",
      "\n"
     ]
    },
    {
     "name": "stdout",
     "output_type": "stream",
     "text": [
      "Epoch 10, Loss 0.1619\n",
      "Training Accuracy: 0.8841, Testing Accuracy: 0.8952\n",
      "\n"
     ]
    },
    {
     "name": "stdout",
     "output_type": "stream",
     "text": [
      "Epoch 20, Loss 0.0819\n",
      "Training Accuracy: 0.9175, Testing Accuracy: 0.9269\n",
      "\n"
     ]
    },
    {
     "name": "stdout",
     "output_type": "stream",
     "text": [
      "Epoch 30, Loss 0.057\n",
      "Training Accuracy: 0.9367, Testing Accuracy: 0.9511\n",
      "\n"
     ]
    },
    {
     "name": "stdout",
     "output_type": "stream",
     "text": [
      "Epoch 40, Loss 0.0462\n",
      "Training Accuracy: 0.9476, Testing Accuracy: 0.9551\n",
      "\n"
     ]
    },
    {
     "name": "stdout",
     "output_type": "stream",
     "text": [
      "Epoch 50, Loss 0.0403\n",
      "Training Accuracy: 0.9539, Testing Accuracy: 0.9592\n",
      "\n"
     ]
    },
    {
     "name": "stdout",
     "output_type": "stream",
     "text": [
      "Epoch 60, Loss 0.0367\n",
      "Training Accuracy: 0.9575, Testing Accuracy: 0.9632\n",
      "\n"
     ]
    },
    {
     "name": "stdout",
     "output_type": "stream",
     "text": [
      "Epoch 70, Loss 0.0342\n",
      "Training Accuracy: 0.9603, Testing Accuracy: 0.9652\n",
      "\n"
     ]
    },
    {
     "name": "stdout",
     "output_type": "stream",
     "text": [
      "Epoch 80, Loss 0.0324\n",
      "Training Accuracy: 0.9625, Testing Accuracy: 0.9682\n",
      "\n"
     ]
    },
    {
     "name": "stdout",
     "output_type": "stream",
     "text": [
      "Epoch 90, Loss 0.0309\n",
      "Training Accuracy: 0.9635, Testing Accuracy: 0.9677\n",
      "\n"
     ]
    },
    {
     "name": "stdout",
     "output_type": "stream",
     "text": [
      "Epoch 100, Loss 0.0297\n",
      "Training Accuracy: 0.9644, Testing Accuracy: 0.9693\n",
      "\n"
     ]
    },
    {
     "name": "stdout",
     "output_type": "stream",
     "text": [
      "Epoch 110, Loss 0.0287\n",
      "Training Accuracy: 0.9652, Testing Accuracy: 0.9703\n",
      "\n"
     ]
    },
    {
     "name": "stdout",
     "output_type": "stream",
     "text": [
      "Epoch 120, Loss 0.0279\n",
      "Training Accuracy: 0.9664, Testing Accuracy: 0.9718\n",
      "\n"
     ]
    },
    {
     "name": "stdout",
     "output_type": "stream",
     "text": [
      "Epoch 130, Loss 0.0272\n",
      "Training Accuracy: 0.9674, Testing Accuracy: 0.9708\n",
      "\n"
     ]
    },
    {
     "name": "stdout",
     "output_type": "stream",
     "text": [
      "Epoch 140, Loss 0.0265\n",
      "Training Accuracy: 0.9684, Testing Accuracy: 0.9713\n",
      "\n"
     ]
    },
    {
     "name": "stdout",
     "output_type": "stream",
     "text": [
      "Epoch 150, Loss 0.0259\n",
      "Training Accuracy: 0.9690, Testing Accuracy: 0.9708\n",
      "\n"
     ]
    },
    {
     "name": "stdout",
     "output_type": "stream",
     "text": [
      "Epoch 160, Loss 0.0254\n",
      "Training Accuracy: 0.9696, Testing Accuracy: 0.9728\n",
      "\n"
     ]
    },
    {
     "name": "stdout",
     "output_type": "stream",
     "text": [
      "Epoch 170, Loss 0.0249\n",
      "Training Accuracy: 0.9700, Testing Accuracy: 0.9723\n",
      "\n"
     ]
    },
    {
     "name": "stdout",
     "output_type": "stream",
     "text": [
      "Epoch 180, Loss 0.0244\n",
      "Training Accuracy: 0.9710, Testing Accuracy: 0.9718\n",
      "\n"
     ]
    },
    {
     "name": "stdout",
     "output_type": "stream",
     "text": [
      "Epoch 190, Loss 0.024\n",
      "Training Accuracy: 0.9716, Testing Accuracy: 0.9713\n",
      "\n"
     ]
    },
    {
     "name": "stdout",
     "output_type": "stream",
     "text": [
      "Epoch 200, Loss 0.0236\n",
      "Training Accuracy: 0.9720, Testing Accuracy: 0.9703\n",
      "\n"
     ]
    },
    {
     "name": "stdout",
     "output_type": "stream",
     "text": [
      "Epoch 210, Loss 0.0232\n",
      "Training Accuracy: 0.9725, Testing Accuracy: 0.9708\n",
      "\n"
     ]
    },
    {
     "name": "stdout",
     "output_type": "stream",
     "text": [
      "Epoch 220, Loss 0.0228\n",
      "Training Accuracy: 0.9730, Testing Accuracy: 0.9708\n",
      "\n"
     ]
    },
    {
     "name": "stdout",
     "output_type": "stream",
     "text": [
      "Epoch 230, Loss 0.0225\n",
      "Training Accuracy: 0.9735, Testing Accuracy: 0.9703\n",
      "\n"
     ]
    },
    {
     "name": "stdout",
     "output_type": "stream",
     "text": [
      "Epoch 240, Loss 0.0221\n",
      "Training Accuracy: 0.9740, Testing Accuracy: 0.9708\n",
      "\n"
     ]
    },
    {
     "data": {
      "text/plain": [
       "0.0006809470819396405"
      ]
     },
     "execution_count": 22,
     "metadata": {},
     "output_type": "execute_result"
    }
   ],
   "source": [
    "nn_learner.train_loop(dl)"
   ]
  },
  {
   "cell_type": "code",
   "execution_count": 23,
   "id": "e0163366",
   "metadata": {
    "execution": {
     "iopub.execute_input": "2022-09-18T00:48:29.005156Z",
     "iopub.status.busy": "2022-09-18T00:48:29.004593Z",
     "iopub.status.idle": "2022-09-18T00:48:41.841768Z",
     "shell.execute_reply": "2022-09-18T00:48:41.842588Z"
    },
    "papermill": {
     "duration": 12.883478,
     "end_time": "2022-09-18T00:48:41.842735",
     "exception": false,
     "start_time": "2022-09-18T00:48:28.959257",
     "status": "completed"
    },
    "tags": []
   },
   "outputs": [
    {
     "name": "stdout",
     "output_type": "stream",
     "text": [
      "Epoch 0, Loss 0.212\n",
      "Training Accuracy: 0.7688, Testing Accuracy: 0.7873\n",
      "\n"
     ]
    },
    {
     "name": "stdout",
     "output_type": "stream",
     "text": [
      "Epoch 10, Loss 0.1008\n",
      "Training Accuracy: 0.9109, Testing Accuracy: 0.9158\n",
      "\n"
     ]
    },
    {
     "name": "stdout",
     "output_type": "stream",
     "text": [
      "Epoch 20, Loss 0.0785\n",
      "Training Accuracy: 0.9294, Testing Accuracy: 0.9385\n",
      "\n"
     ]
    },
    {
     "name": "stdout",
     "output_type": "stream",
     "text": [
      "Epoch 30, Loss 0.0678\n",
      "Training Accuracy: 0.9369, Testing Accuracy: 0.9496\n",
      "\n"
     ]
    },
    {
     "name": "stdout",
     "output_type": "stream",
     "text": [
      "Epoch 40, Loss 0.0613\n",
      "Training Accuracy: 0.9407, Testing Accuracy: 0.9526\n",
      "\n"
     ]
    },
    {
     "name": "stdout",
     "output_type": "stream",
     "text": [
      "Epoch 50, Loss 0.0569\n",
      "Training Accuracy: 0.9439, Testing Accuracy: 0.9556\n",
      "\n"
     ]
    },
    {
     "name": "stdout",
     "output_type": "stream",
     "text": [
      "Epoch 60, Loss 0.0536\n",
      "Training Accuracy: 0.9466, Testing Accuracy: 0.9567\n",
      "\n"
     ]
    },
    {
     "name": "stdout",
     "output_type": "stream",
     "text": [
      "Epoch 70, Loss 0.0511\n",
      "Training Accuracy: 0.9491, Testing Accuracy: 0.9582\n",
      "\n"
     ]
    },
    {
     "name": "stdout",
     "output_type": "stream",
     "text": [
      "Epoch 80, Loss 0.0491\n",
      "Training Accuracy: 0.9508, Testing Accuracy: 0.9607\n",
      "\n"
     ]
    },
    {
     "name": "stdout",
     "output_type": "stream",
     "text": [
      "Epoch 90, Loss 0.0474\n",
      "Training Accuracy: 0.9522, Testing Accuracy: 0.9602\n",
      "\n"
     ]
    },
    {
     "name": "stdout",
     "output_type": "stream",
     "text": [
      "Epoch 100, Loss 0.046\n",
      "Training Accuracy: 0.9532, Testing Accuracy: 0.9602\n",
      "\n"
     ]
    },
    {
     "name": "stdout",
     "output_type": "stream",
     "text": [
      "Epoch 110, Loss 0.0448\n",
      "Training Accuracy: 0.9538, Testing Accuracy: 0.9607\n",
      "\n"
     ]
    },
    {
     "name": "stdout",
     "output_type": "stream",
     "text": [
      "Epoch 120, Loss 0.0437\n",
      "Training Accuracy: 0.9545, Testing Accuracy: 0.9617\n",
      "\n"
     ]
    },
    {
     "name": "stdout",
     "output_type": "stream",
     "text": [
      "Epoch 130, Loss 0.0428\n",
      "Training Accuracy: 0.9552, Testing Accuracy: 0.9627\n",
      "\n"
     ]
    },
    {
     "name": "stdout",
     "output_type": "stream",
     "text": [
      "Epoch 140, Loss 0.042\n",
      "Training Accuracy: 0.9556, Testing Accuracy: 0.9647\n",
      "\n"
     ]
    },
    {
     "name": "stdout",
     "output_type": "stream",
     "text": [
      "Epoch 150, Loss 0.0412\n",
      "Training Accuracy: 0.9564, Testing Accuracy: 0.9642\n",
      "\n"
     ]
    },
    {
     "name": "stdout",
     "output_type": "stream",
     "text": [
      "Epoch 160, Loss 0.0406\n",
      "Training Accuracy: 0.9573, Testing Accuracy: 0.9642\n",
      "\n"
     ]
    },
    {
     "name": "stdout",
     "output_type": "stream",
     "text": [
      "Epoch 170, Loss 0.04\n",
      "Training Accuracy: 0.9579, Testing Accuracy: 0.9642\n",
      "\n"
     ]
    },
    {
     "name": "stdout",
     "output_type": "stream",
     "text": [
      "Epoch 180, Loss 0.0394\n",
      "Training Accuracy: 0.9580, Testing Accuracy: 0.9662\n",
      "\n"
     ]
    },
    {
     "name": "stdout",
     "output_type": "stream",
     "text": [
      "Epoch 190, Loss 0.0389\n",
      "Training Accuracy: 0.9584, Testing Accuracy: 0.9662\n",
      "\n"
     ]
    },
    {
     "name": "stdout",
     "output_type": "stream",
     "text": [
      "Epoch 200, Loss 0.0384\n",
      "Training Accuracy: 0.9586, Testing Accuracy: 0.9672\n",
      "\n"
     ]
    },
    {
     "name": "stdout",
     "output_type": "stream",
     "text": [
      "Epoch 210, Loss 0.038\n",
      "Training Accuracy: 0.9591, Testing Accuracy: 0.9677\n",
      "\n"
     ]
    },
    {
     "name": "stdout",
     "output_type": "stream",
     "text": [
      "Epoch 220, Loss 0.0376\n",
      "Training Accuracy: 0.9594, Testing Accuracy: 0.9677\n",
      "\n"
     ]
    },
    {
     "name": "stdout",
     "output_type": "stream",
     "text": [
      "Epoch 230, Loss 0.0372\n",
      "Training Accuracy: 0.9599, Testing Accuracy: 0.9677\n",
      "\n"
     ]
    },
    {
     "name": "stdout",
     "output_type": "stream",
     "text": [
      "Epoch 240, Loss 0.0368\n",
      "Training Accuracy: 0.9603, Testing Accuracy: 0.9682\n",
      "\n"
     ]
    },
    {
     "data": {
      "text/plain": [
       "0.01085306452854482"
      ]
     },
     "execution_count": 23,
     "metadata": {},
     "output_type": "execute_result"
    }
   ],
   "source": [
    "lr_learner.train_loop(dl)"
   ]
  },
  {
   "cell_type": "code",
   "execution_count": 24,
   "id": "ca410940",
   "metadata": {
    "execution": {
     "iopub.execute_input": "2022-09-18T00:48:41.933075Z",
     "iopub.status.busy": "2022-09-18T00:48:41.932501Z",
     "iopub.status.idle": "2022-09-18T00:48:42.145777Z",
     "shell.execute_reply": "2022-09-18T00:48:42.145014Z"
    },
    "papermill": {
     "duration": 0.261996,
     "end_time": "2022-09-18T00:48:42.145897",
     "exception": false,
     "start_time": "2022-09-18T00:48:41.883901",
     "status": "completed"
    },
    "tags": []
   },
   "outputs": [
    {
     "data": {
      "text/plain": [
       "<matplotlib.legend.Legend at 0x7f78d77ac2e8>"
      ]
     },
     "execution_count": 24,
     "metadata": {},
     "output_type": "execute_result"
    },
    {
     "data": {
      "image/png": "[encoded data removed]",
      "text/plain": [
       "<Figure size 1080x720 with 1 Axes>"
      ]
     },
     "metadata": {
      "needs_background": "light"
     },
     "output_type": "display_data"
    }
   ],
   "source": [
    "#comparing the results of NN and LR\n",
    "plt.figure(figsize=(15,10))\n",
    "\n",
    "# Neural Network plots\n",
    "plt.plot(acc_nn.accuracies, 'r-', label = \"Training Accuracies - NN\")\n",
    "plt.plot(acc_nn.test_accuracies, 'g-', label = \"Testing Accuracies - NN\")\n",
    "\n",
    "# Logistic Regression plots\n",
    "plt.plot(acc_lr.accuracies, 'k-', label = \"Training Accuracies - LR\")\n",
    "plt.plot(acc_lr.test_accuracies, 'b-', label = \"Testing Accuracies - LR\")\n",
    "plt.legend()"
   ]
  },
  {
   "cell_type": "markdown",
   "id": "80dfb35c",
   "metadata": {
    "papermill": {
     "duration": 0.041609,
     "end_time": "2022-09-18T00:48:42.230253",
     "exception": false,
     "start_time": "2022-09-18T00:48:42.188644",
     "status": "completed"
    },
    "tags": []
   },
   "source": [
    "#### Plotting the outputs of this layer of the NN.\n"
   ]
  },
  {
   "cell_type": "code",
   "execution_count": 25,
   "id": "45eb2ff5",
   "metadata": {
    "execution": {
     "iopub.execute_input": "2022-09-18T00:48:42.319832Z",
     "iopub.status.busy": "2022-09-18T00:48:42.317454Z",
     "iopub.status.idle": "2022-09-18T00:48:42.337729Z",
     "shell.execute_reply": "2022-09-18T00:48:42.337281Z"
    },
    "papermill": {
     "duration": 0.066035,
     "end_time": "2022-09-18T00:48:42.337840",
     "exception": false,
     "start_time": "2022-09-18T00:48:42.271805",
     "status": "completed"
    },
    "tags": []
   },
   "outputs": [],
   "source": [
    "new_model = Model(layers[:-2])\n",
    "testing_plot = new_model(testing_data_x)"
   ]
  },
  {
   "cell_type": "code",
   "execution_count": 26,
   "id": "4c0a5485",
   "metadata": {
    "execution": {
     "iopub.execute_input": "2022-09-18T00:48:42.429719Z",
     "iopub.status.busy": "2022-09-18T00:48:42.428782Z",
     "iopub.status.idle": "2022-09-18T00:48:42.626880Z",
     "shell.execute_reply": "2022-09-18T00:48:42.626427Z"
    },
    "papermill": {
     "duration": 0.24504,
     "end_time": "2022-09-18T00:48:42.626996",
     "exception": false,
     "start_time": "2022-09-18T00:48:42.381956",
     "status": "completed"
    },
    "tags": []
   },
   "outputs": [
    {
     "data": {
      "text/plain": [
       "Text(0.5, 1.0, 'Outputs')"
      ]
     },
     "execution_count": 26,
     "metadata": {},
     "output_type": "execute_result"
    },
    {
     "data": {
      "image/png": "[encoded data removed]",
      "text/plain": [
       "<Figure size 576x504 with 1 Axes>"
      ]
     },
     "metadata": {
      "needs_background": "light"
     },
     "output_type": "display_data"
    }
   ],
   "source": [
    "# Plotting the scatter plot of points and color coding by class\n",
    "plt.figure(figsize=(8,7))\n",
    "plt.scatter(testing_plot[:,0], testing_plot[:,1], alpha = 0.1, c = y_test.ravel());\n",
    "plt.title('Outputs')"
   ]
  },
  {
   "cell_type": "markdown",
   "id": "a74fcf8f",
   "metadata": {
    "papermill": {
     "duration": 0.043938,
     "end_time": "2022-09-18T00:48:42.715340",
     "exception": false,
     "start_time": "2022-09-18T00:48:42.671402",
     "status": "completed"
    },
    "tags": []
   },
   "source": [
    "Probability contours"
   ]
  },
  {
   "cell_type": "code",
   "execution_count": 27,
   "id": "d0afc8e3",
   "metadata": {
    "execution": {
     "iopub.execute_input": "2022-09-18T00:48:42.808096Z",
     "iopub.status.busy": "2022-09-18T00:48:42.807485Z",
     "iopub.status.idle": "2022-09-18T00:48:42.820147Z",
     "shell.execute_reply": "2022-09-18T00:48:42.819655Z"
    },
    "papermill": {
     "duration": 0.060946,
     "end_time": "2022-09-18T00:48:42.820253",
     "exception": false,
     "start_time": "2022-09-18T00:48:42.759307",
     "status": "completed"
    },
    "tags": []
   },
   "outputs": [],
   "source": [
    "model_prob = Model(layers[-2:]) "
   ]
  },
  {
   "cell_type": "code",
   "execution_count": 28,
   "id": "9b96e238",
   "metadata": {
    "execution": {
     "iopub.execute_input": "2022-09-18T00:48:42.918148Z",
     "iopub.status.busy": "2022-09-18T00:48:42.917545Z",
     "iopub.status.idle": "2022-09-18T00:48:42.928415Z",
     "shell.execute_reply": "2022-09-18T00:48:42.928833Z"
    },
    "papermill": {
     "duration": 0.064877,
     "end_time": "2022-09-18T00:48:42.929008",
     "exception": false,
     "start_time": "2022-09-18T00:48:42.864131",
     "status": "completed"
    },
    "tags": []
   },
   "outputs": [],
   "source": [
    "#creating the x and y ranges according to the above generated plot.\n",
    "x_range = np.linspace(-4, 1, 100) \n",
    "y_range = np.linspace(-6, 6, 100) \n",
    "x_grid, y_grid = np.meshgrid(x_range, y_range) # x_grid and y_grig are of size 100 X 100\n",
    "\n",
    "# converting x_grid and y_grid to continuous arrays\n",
    "x_gridflat = np.ravel(x_grid)\n",
    "y_gridflat = np.ravel(y_grid)\n",
    "\n",
    "# The last layer of the current model takes two columns as input. Hence transpose of np.vstack() is required.\n",
    "X = np.vstack((x_gridflat, y_gridflat)).T\n",
    "\n",
    "prob_contour = model_prob(X).reshape(100,100) "
   ]
  },
  {
   "cell_type": "code",
   "execution_count": 29,
   "id": "da72499a",
   "metadata": {
    "execution": {
     "iopub.execute_input": "2022-09-18T00:48:43.046859Z",
     "iopub.status.busy": "2022-09-18T00:48:43.046291Z",
     "iopub.status.idle": "2022-09-18T00:48:43.302950Z",
     "shell.execute_reply": "2022-09-18T00:48:43.302485Z"
    },
    "papermill": {
     "duration": 0.30466,
     "end_time": "2022-09-18T00:48:43.303070",
     "exception": false,
     "start_time": "2022-09-18T00:48:42.998410",
     "status": "completed"
    },
    "tags": []
   },
   "outputs": [
    {
     "data": {
      "image/png": "[encoded data removed]",
      "text/plain": [
       "<Figure size 720x648 with 1 Axes>"
      ]
     },
     "metadata": {
      "needs_background": "light"
     },
     "output_type": "display_data"
    }
   ],
   "source": [
    "plt.figure(figsize=(10,9))\n",
    "plt.scatter(testing_plot[:,0], testing_plot[:,1], alpha = 0.1, c = y_test.ravel())\n",
    "contours = plt.contour(x_grid,y_grid,prob_contour)\n",
    "plt.title('Probability Contours')\n",
    "plt.clabel(contours, inline = True );"
   ]
  },
  {
   "cell_type": "code",
   "execution_count": null,
   "id": "e81b4ac7",
   "metadata": {
    "papermill": {
     "duration": 0.046732,
     "end_time": "2022-09-18T00:48:43.397026",
     "exception": false,
     "start_time": "2022-09-18T00:48:43.350294",
     "status": "completed"
    },
    "tags": []
   },
   "outputs": [],
   "source": []
  }
 ],
 "metadata": {
  "kernelspec": {
   "display_name": "Python 3",
   "language": "python",
   "name": "python3"
  },
  "language_info": {
   "codemirror_mode": {
    "name": "ipython",
    "version": 3
   },
   "file_extension": ".py",
   "mimetype": "text/x-python",
   "name": "python",
   "nbconvert_exporter": "python",
   "pygments_lexer": "ipython3",
   "version": "3.6.15"
  },
  "papermill": {
   "default_parameters": {},
   "duration": 93.515611,
   "end_time": "2022-09-18T00:48:43.761809",
   "environment_variables": {},
   "exception": null,
   "input_path": "2020-08-11-part2.ipynb",
   "output_path": "2020-08-11-part2.ipynb",
   "parameters": {},
   "start_time": "2022-09-18T00:47:10.246198",
   "version": "2.3.3"
  }
 },
 "nbformat": 4,
 "nbformat_minor": 5
}