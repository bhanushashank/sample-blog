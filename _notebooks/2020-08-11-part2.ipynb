{
 "cells": [
  {
   "cell_type": "markdown",
   "id": "98380cd3",
   "metadata": {
    "papermill": {
     "duration": 0.041506,
     "end_time": "2021-10-05T10:07:59.455170",
     "exception": false,
     "start_time": "2021-10-05T10:07:59.413664",
     "status": "completed"
    },
    "tags": []
   },
   "source": [
    "# Distinguish Your Own Digits (DYOD)"
   ]
  },
  {
   "cell_type": "markdown",
   "id": "ef31240d",
   "metadata": {
    "papermill": {
     "duration": 0.034926,
     "end_time": "2021-10-05T10:07:59.524127",
     "exception": false,
     "start_time": "2021-10-05T10:07:59.489201",
     "status": "completed"
    },
    "tags": []
   },
   "source": [
    "You are going to write a classifier that distinguishes between the number 3 and number 8."
   ]
  },
  {
   "cell_type": "code",
   "execution_count": 1,
   "id": "b15c8646",
   "metadata": {
    "execution": {
     "iopub.execute_input": "2021-10-05T10:07:59.612416Z",
     "iopub.status.busy": "2021-10-05T10:07:59.611631Z",
     "iopub.status.idle": "2021-10-05T10:07:59.624360Z",
     "shell.execute_reply": "2021-10-05T10:07:59.623745Z"
    },
    "papermill": {
     "duration": 0.059595,
     "end_time": "2021-10-05T10:07:59.624512",
     "exception": false,
     "start_time": "2021-10-05T10:07:59.564917",
     "status": "completed"
    },
    "tags": []
   },
   "outputs": [],
   "source": [
    "%load_ext autoreload\n",
    "%autoreload 2"
   ]
  },
  {
   "cell_type": "code",
   "execution_count": 2,
   "id": "22ef38dc",
   "metadata": {
    "execution": {
     "iopub.execute_input": "2021-10-05T10:07:59.696475Z",
     "iopub.status.busy": "2021-10-05T10:07:59.695776Z",
     "iopub.status.idle": "2021-10-05T10:08:00.364642Z",
     "shell.execute_reply": "2021-10-05T10:08:00.365190Z"
    },
    "papermill": {
     "duration": 0.707402,
     "end_time": "2021-10-05T10:08:00.365360",
     "exception": false,
     "start_time": "2021-10-05T10:07:59.657958",
     "status": "completed"
    },
    "tags": []
   },
   "outputs": [],
   "source": [
    "%matplotlib inline\n",
    "import numpy as np\n",
    "import matplotlib.pyplot as plt\n",
    "import pandas as pd"
   ]
  },
  {
   "cell_type": "markdown",
   "id": "ba036198",
   "metadata": {
    "papermill": {
     "duration": 0.029498,
     "end_time": "2021-10-05T10:08:00.426513",
     "exception": false,
     "start_time": "2021-10-05T10:08:00.397015",
     "status": "completed"
    },
    "tags": []
   },
   "source": [
    "From the command line run `pip install mnist`. This is a library that will help you bring down the mnist dataset. If you run this from a notebook, you need to put  `!pip install mnist` in a cell by itself."
   ]
  },
  {
   "cell_type": "code",
   "execution_count": 3,
   "id": "bb6ad8a1",
   "metadata": {
    "execution": {
     "iopub.execute_input": "2021-10-05T10:08:00.492468Z",
     "iopub.status.busy": "2021-10-05T10:08:00.491829Z",
     "iopub.status.idle": "2021-10-05T10:08:02.524724Z",
     "shell.execute_reply": "2021-10-05T10:08:02.524068Z"
    },
    "papermill": {
     "duration": 2.069727,
     "end_time": "2021-10-05T10:08:02.524865",
     "exception": false,
     "start_time": "2021-10-05T10:08:00.455138",
     "status": "completed"
    },
    "tags": []
   },
   "outputs": [
    {
     "name": "stdout",
     "output_type": "stream",
     "text": [
      "Collecting mnist\r\n"
     ]
    },
    {
     "name": "stdout",
     "output_type": "stream",
     "text": [
      "  Downloading mnist-0.2.2-py2.py3-none-any.whl (3.5 kB)\r\n",
      "Requirement already satisfied: numpy in /opt/hostedtoolcache/Python/3.6.15/x64/lib/python3.6/site-packages (from mnist) (1.19.5)\r\n"
     ]
    },
    {
     "name": "stdout",
     "output_type": "stream",
     "text": [
      "Installing collected packages: mnist\r\n"
     ]
    },
    {
     "name": "stdout",
     "output_type": "stream",
     "text": [
      "Successfully installed mnist-0.2.2\r\n"
     ]
    }
   ],
   "source": [
    "!pip install mnist"
   ]
  },
  {
   "cell_type": "markdown",
   "id": "69df9c9a",
   "metadata": {
    "papermill": {
     "duration": 0.032406,
     "end_time": "2021-10-05T10:08:02.589600",
     "exception": false,
     "start_time": "2021-10-05T10:08:02.557194",
     "status": "completed"
    },
    "tags": []
   },
   "source": [
    "## Preparing the Data"
   ]
  },
  {
   "cell_type": "code",
   "execution_count": 4,
   "id": "7f69d806",
   "metadata": {
    "execution": {
     "iopub.execute_input": "2021-10-05T10:08:02.655607Z",
     "iopub.status.busy": "2021-10-05T10:08:02.655017Z",
     "iopub.status.idle": "2021-10-05T10:08:02.670620Z",
     "shell.execute_reply": "2021-10-05T10:08:02.671223Z"
    },
    "papermill": {
     "duration": 0.051957,
     "end_time": "2021-10-05T10:08:02.671365",
     "exception": false,
     "start_time": "2021-10-05T10:08:02.619408",
     "status": "completed"
    },
    "tags": []
   },
   "outputs": [],
   "source": [
    "import mnist"
   ]
  },
  {
   "cell_type": "code",
   "execution_count": 5,
   "id": "a411e44f",
   "metadata": {
    "execution": {
     "iopub.execute_input": "2021-10-05T10:08:02.751054Z",
     "iopub.status.busy": "2021-10-05T10:08:02.750393Z",
     "iopub.status.idle": "2021-10-05T10:08:03.396199Z",
     "shell.execute_reply": "2021-10-05T10:08:03.395601Z"
    },
    "papermill": {
     "duration": 0.686231,
     "end_time": "2021-10-05T10:08:03.396354",
     "exception": false,
     "start_time": "2021-10-05T10:08:02.710123",
     "status": "completed"
    },
    "tags": []
   },
   "outputs": [],
   "source": [
    "train_images = mnist.train_images()\n",
    "train_labels = mnist.train_labels()"
   ]
  },
  {
   "cell_type": "code",
   "execution_count": 6,
   "id": "dceab3a5",
   "metadata": {
    "execution": {
     "iopub.execute_input": "2021-10-05T10:08:03.464883Z",
     "iopub.status.busy": "2021-10-05T10:08:03.464179Z",
     "iopub.status.idle": "2021-10-05T10:08:03.480556Z",
     "shell.execute_reply": "2021-10-05T10:08:03.480061Z"
    },
    "papermill": {
     "duration": 0.052889,
     "end_time": "2021-10-05T10:08:03.480850",
     "exception": false,
     "start_time": "2021-10-05T10:08:03.427961",
     "status": "completed"
    },
    "tags": []
   },
   "outputs": [
    {
     "data": {
      "text/plain": [
       "((60000, 28, 28), (60000,))"
      ]
     },
     "execution_count": 6,
     "metadata": {},
     "output_type": "execute_result"
    }
   ],
   "source": [
    "train_images.shape, train_labels.shape"
   ]
  },
  {
   "cell_type": "code",
   "execution_count": 7,
   "id": "f50dc2bb",
   "metadata": {
    "execution": {
     "iopub.execute_input": "2021-10-05T10:08:03.554699Z",
     "iopub.status.busy": "2021-10-05T10:08:03.554044Z",
     "iopub.status.idle": "2021-10-05T10:08:03.756989Z",
     "shell.execute_reply": "2021-10-05T10:08:03.757527Z"
    },
    "papermill": {
     "duration": 0.241317,
     "end_time": "2021-10-05T10:08:03.757749",
     "exception": false,
     "start_time": "2021-10-05T10:08:03.516432",
     "status": "completed"
    },
    "tags": []
   },
   "outputs": [],
   "source": [
    "test_images = mnist.test_images()\n",
    "test_labels = mnist.test_labels()"
   ]
  },
  {
   "cell_type": "code",
   "execution_count": 8,
   "id": "fc38cf1b",
   "metadata": {
    "execution": {
     "iopub.execute_input": "2021-10-05T10:08:03.828059Z",
     "iopub.status.busy": "2021-10-05T10:08:03.827187Z",
     "iopub.status.idle": "2021-10-05T10:08:03.842203Z",
     "shell.execute_reply": "2021-10-05T10:08:03.842858Z"
    },
    "papermill": {
     "duration": 0.052939,
     "end_time": "2021-10-05T10:08:03.843003",
     "exception": false,
     "start_time": "2021-10-05T10:08:03.790064",
     "status": "completed"
    },
    "tags": []
   },
   "outputs": [
    {
     "data": {
      "text/plain": [
       "((10000, 28, 28), (10000,))"
      ]
     },
     "execution_count": 8,
     "metadata": {},
     "output_type": "execute_result"
    }
   ],
   "source": [
    "test_images.shape, test_labels.shape"
   ]
  },
  {
   "cell_type": "code",
   "execution_count": 9,
   "id": "f9ed8fe0",
   "metadata": {
    "execution": {
     "iopub.execute_input": "2021-10-05T10:08:03.917061Z",
     "iopub.status.busy": "2021-10-05T10:08:03.916389Z",
     "iopub.status.idle": "2021-10-05T10:08:04.109011Z",
     "shell.execute_reply": "2021-10-05T10:08:04.109555Z"
    },
    "papermill": {
     "duration": 0.233856,
     "end_time": "2021-10-05T10:08:04.109717",
     "exception": false,
     "start_time": "2021-10-05T10:08:03.875861",
     "status": "completed"
    },
    "tags": []
   },
   "outputs": [
    {
     "name": "stdout",
     "output_type": "stream",
     "text": [
      "2\n"
     ]
    },
    {
     "data": {
      "text/plain": [
       "<matplotlib.image.AxesImage at 0x7f7e2b2c0780>"
      ]
     },
     "execution_count": 9,
     "metadata": {},
     "output_type": "execute_result"
    },
    {
     "data": {
      "image/png": "[encoded data removed]",
      "text/plain": [
       "<Figure size 432x288 with 1 Axes>"
      ]
     },
     "metadata": {
      "needs_background": "light"
     },
     "output_type": "display_data"
    }
   ],
   "source": [
    "image_index = 7776 # You may select anything up to 60,000\n",
    "print(train_labels[image_index]) \n",
    "plt.imshow(train_images[image_index], cmap='Greys')"
   ]
  },
  {
   "cell_type": "markdown",
   "id": "a8d2388d",
   "metadata": {
    "papermill": {
     "duration": 0.033775,
     "end_time": "2021-10-05T10:08:04.178305",
     "exception": false,
     "start_time": "2021-10-05T10:08:04.144530",
     "status": "completed"
    },
    "tags": []
   },
   "source": [
    "## Filter data to get 3 and 8 out"
   ]
  },
  {
   "cell_type": "code",
   "execution_count": 10,
   "id": "776f7fc7",
   "metadata": {
    "execution": {
     "iopub.execute_input": "2021-10-05T10:08:04.252999Z",
     "iopub.status.busy": "2021-10-05T10:08:04.252310Z",
     "iopub.status.idle": "2021-10-05T10:08:04.273189Z",
     "shell.execute_reply": "2021-10-05T10:08:04.273731Z"
    },
    "papermill": {
     "duration": 0.061158,
     "end_time": "2021-10-05T10:08:04.273881",
     "exception": false,
     "start_time": "2021-10-05T10:08:04.212723",
     "status": "completed"
    },
    "tags": []
   },
   "outputs": [],
   "source": [
    "train_filter = np.where((train_labels == 3 ) | (train_labels == 8))\n",
    "test_filter = np.where((test_labels == 3) | (test_labels == 8))\n",
    "X_train, y_train = train_images[train_filter], train_labels[train_filter]\n",
    "X_test, y_test = test_images[test_filter], test_labels[test_filter]"
   ]
  },
  {
   "cell_type": "markdown",
   "id": "948f0b7e",
   "metadata": {
    "papermill": {
     "duration": 0.032342,
     "end_time": "2021-10-05T10:08:04.341403",
     "exception": false,
     "start_time": "2021-10-05T10:08:04.309061",
     "status": "completed"
    },
    "tags": []
   },
   "source": [
    "We normalize the pizel values in the 0 to 1 range"
   ]
  },
  {
   "cell_type": "code",
   "execution_count": 11,
   "id": "ee4c2166",
   "metadata": {
    "execution": {
     "iopub.execute_input": "2021-10-05T10:08:04.415454Z",
     "iopub.status.busy": "2021-10-05T10:08:04.414787Z",
     "iopub.status.idle": "2021-10-05T10:08:04.477085Z",
     "shell.execute_reply": "2021-10-05T10:08:04.476512Z"
    },
    "papermill": {
     "duration": 0.101375,
     "end_time": "2021-10-05T10:08:04.477225",
     "exception": false,
     "start_time": "2021-10-05T10:08:04.375850",
     "status": "completed"
    },
    "tags": []
   },
   "outputs": [],
   "source": [
    "X_train = X_train/255.\n",
    "X_test = X_test/255."
   ]
  },
  {
   "cell_type": "markdown",
   "id": "ddcf4fab",
   "metadata": {
    "papermill": {
     "duration": 0.034427,
     "end_time": "2021-10-05T10:08:04.547220",
     "exception": false,
     "start_time": "2021-10-05T10:08:04.512793",
     "status": "completed"
    },
    "tags": []
   },
   "source": [
    "And setup the labels as 1 (when the digit is 3) and 0 (when the digit is 8)"
   ]
  },
  {
   "cell_type": "code",
   "execution_count": 12,
   "id": "7dc908f2",
   "metadata": {
    "execution": {
     "iopub.execute_input": "2021-10-05T10:08:04.620227Z",
     "iopub.status.busy": "2021-10-05T10:08:04.619561Z",
     "iopub.status.idle": "2021-10-05T10:08:04.633300Z",
     "shell.execute_reply": "2021-10-05T10:08:04.633948Z"
    },
    "papermill": {
     "duration": 0.053022,
     "end_time": "2021-10-05T10:08:04.634098",
     "exception": false,
     "start_time": "2021-10-05T10:08:04.581076",
     "status": "completed"
    },
    "tags": []
   },
   "outputs": [],
   "source": [
    "y_train = 1*(y_train==3)\n",
    "y_test = 1*(y_test==3)"
   ]
  },
  {
   "cell_type": "code",
   "execution_count": 13,
   "id": "01e4e969",
   "metadata": {
    "execution": {
     "iopub.execute_input": "2021-10-05T10:08:04.710394Z",
     "iopub.status.busy": "2021-10-05T10:08:04.709625Z",
     "iopub.status.idle": "2021-10-05T10:08:04.727809Z",
     "shell.execute_reply": "2021-10-05T10:08:04.728523Z"
    },
    "papermill": {
     "duration": 0.060503,
     "end_time": "2021-10-05T10:08:04.728792",
     "exception": false,
     "start_time": "2021-10-05T10:08:04.668289",
     "status": "completed"
    },
    "tags": []
   },
   "outputs": [
    {
     "data": {
      "text/plain": [
       "((11982, 28, 28), (1984, 28, 28))"
      ]
     },
     "execution_count": 13,
     "metadata": {},
     "output_type": "execute_result"
    }
   ],
   "source": [
    "X_train.shape, X_test.shape"
   ]
  },
  {
   "cell_type": "markdown",
   "id": "5ccf3f85",
   "metadata": {
    "papermill": {
     "duration": 0.036026,
     "end_time": "2021-10-05T10:08:04.800941",
     "exception": false,
     "start_time": "2021-10-05T10:08:04.764915",
     "status": "completed"
    },
    "tags": []
   },
   "source": [
    "We reshape the data to flatten the image pixels into a set of features or co-variates:"
   ]
  },
  {
   "cell_type": "code",
   "execution_count": 14,
   "id": "5286a4a3",
   "metadata": {
    "execution": {
     "iopub.execute_input": "2021-10-05T10:08:04.879790Z",
     "iopub.status.busy": "2021-10-05T10:08:04.879097Z",
     "iopub.status.idle": "2021-10-05T10:08:04.894238Z",
     "shell.execute_reply": "2021-10-05T10:08:04.894906Z"
    },
    "papermill": {
     "duration": 0.056395,
     "end_time": "2021-10-05T10:08:04.895079",
     "exception": false,
     "start_time": "2021-10-05T10:08:04.838684",
     "status": "completed"
    },
    "tags": []
   },
   "outputs": [
    {
     "data": {
      "text/plain": [
       "((11982, 784), (1984, 784))"
      ]
     },
     "execution_count": 14,
     "metadata": {},
     "output_type": "execute_result"
    }
   ],
   "source": [
    "X_train = X_train.reshape(X_train.shape[0], -1)\n",
    "X_test = X_test.reshape(X_test.shape[0], -1)\n",
    "X_train.shape, X_test.shape"
   ]
  },
  {
   "cell_type": "code",
   "execution_count": 15,
   "id": "73c5f88a",
   "metadata": {
    "execution": {
     "iopub.execute_input": "2021-10-05T10:08:04.980236Z",
     "iopub.status.busy": "2021-10-05T10:08:04.979538Z",
     "iopub.status.idle": "2021-10-05T10:08:05.002607Z",
     "shell.execute_reply": "2021-10-05T10:08:05.001968Z"
    },
    "papermill": {
     "duration": 0.067639,
     "end_time": "2021-10-05T10:08:05.002770",
     "exception": false,
     "start_time": "2021-10-05T10:08:04.935131",
     "status": "completed"
    },
    "tags": []
   },
   "outputs": [],
   "source": [
    "#Impoting functions from 'Kudzu'\n",
    "from kudzu.model import Model\n",
    "from kudzu.train import Learner\n",
    "from kudzu.optim import GD\n",
    "from kudzu.data import Data, Sampler,Dataloader\n",
    "\n",
    "from kudzu.callbacks import AccCallback\n",
    "from kudzu.callbacks import ClfCallback\n",
    "\n",
    "from kudzu.loss import MSE\n",
    "\n",
    "from kudzu.layer import Sigmoid,Relu\n",
    "from kudzu.layer import Affine"
   ]
  },
  {
   "cell_type": "markdown",
   "id": "bc01172a",
   "metadata": {
    "papermill": {
     "duration": 0.035017,
     "end_time": "2021-10-05T10:08:05.076000",
     "exception": false,
     "start_time": "2021-10-05T10:08:05.040983",
     "status": "completed"
    },
    "tags": []
   },
   "source": [
    "### Let us create a `Config` class, to store important parameters. \n",
    "This class essentially plays the role of a dictionary."
   ]
  },
  {
   "cell_type": "code",
   "execution_count": 16,
   "id": "978281aa",
   "metadata": {
    "execution": {
     "iopub.execute_input": "2021-10-05T10:08:05.157412Z",
     "iopub.status.busy": "2021-10-05T10:08:05.156671Z",
     "iopub.status.idle": "2021-10-05T10:08:05.169464Z",
     "shell.execute_reply": "2021-10-05T10:08:05.168853Z"
    },
    "papermill": {
     "duration": 0.05599,
     "end_time": "2021-10-05T10:08:05.169605",
     "exception": false,
     "start_time": "2021-10-05T10:08:05.113615",
     "status": "completed"
    },
    "tags": []
   },
   "outputs": [],
   "source": [
    "class Config:\n",
    "    pass\n",
    "config = Config()\n",
    "config.lr = 0.001\n",
    "config.num_epochs = 250\n",
    "config.bs = 50"
   ]
  },
  {
   "cell_type": "markdown",
   "id": "1385fa59",
   "metadata": {
    "papermill": {
     "duration": 0.043667,
     "end_time": "2021-10-05T10:08:05.249018",
     "exception": false,
     "start_time": "2021-10-05T10:08:05.205351",
     "status": "completed"
    },
    "tags": []
   },
   "source": [
    "### Running Models with the Training data\n",
    "Details about the network layers:\n",
    "- A first affine layer has 784 inputs and does 100 affine transforms. These are followed by a Relu\n",
    "- A second affine layer has 100 inputs from the 100 activations of the past layer, and does 100 affine transforms. These are followed by a Relu\n",
    "- A third affine layer has 100 activations and does 2 affine transformations to create an embedding for visualization. There is no non-linearity here.\n",
    "- A final \"logistic regression\" which has an affine transform from 2 inputs to 1 output, which is squeezed through a sigmoid.\n"
   ]
  },
  {
   "cell_type": "code",
   "execution_count": 17,
   "id": "2b9c66db",
   "metadata": {
    "execution": {
     "iopub.execute_input": "2021-10-05T10:08:05.332709Z",
     "iopub.status.busy": "2021-10-05T10:08:05.332023Z",
     "iopub.status.idle": "2021-10-05T10:08:05.345395Z",
     "shell.execute_reply": "2021-10-05T10:08:05.345930Z"
    },
    "papermill": {
     "duration": 0.059421,
     "end_time": "2021-10-05T10:08:05.346071",
     "exception": false,
     "start_time": "2021-10-05T10:08:05.286650",
     "status": "completed"
    },
    "tags": []
   },
   "outputs": [],
   "source": [
    "data = Data(X_train, y_train.reshape(-1,1))\n",
    "sampler = Sampler(data, config.bs, shuffle=True)\n",
    "\n",
    "dl = Dataloader(data, sampler)\n",
    "\n",
    "opt = GD(config.lr)\n",
    "loss = MSE()"
   ]
  },
  {
   "cell_type": "code",
   "execution_count": 18,
   "id": "b275e4c2",
   "metadata": {
    "execution": {
     "iopub.execute_input": "2021-10-05T10:08:05.424077Z",
     "iopub.status.busy": "2021-10-05T10:08:05.423450Z",
     "iopub.status.idle": "2021-10-05T10:08:05.437162Z",
     "shell.execute_reply": "2021-10-05T10:08:05.436385Z"
    },
    "papermill": {
     "duration": 0.056488,
     "end_time": "2021-10-05T10:08:05.437289",
     "exception": false,
     "start_time": "2021-10-05T10:08:05.380801",
     "status": "completed"
    },
    "tags": []
   },
   "outputs": [],
   "source": [
    "training_data_x = X_train\n",
    "testing_data_x = X_test\n",
    "training_data_y = y_train.reshape(-1,1)\n",
    "testing_data_y = y_test.reshape(-1,1)"
   ]
  },
  {
   "cell_type": "code",
   "execution_count": 19,
   "id": "76951160",
   "metadata": {
    "execution": {
     "iopub.execute_input": "2021-10-05T10:08:05.514064Z",
     "iopub.status.busy": "2021-10-05T10:08:05.512236Z",
     "iopub.status.idle": "2021-10-05T10:08:05.531966Z",
     "shell.execute_reply": "2021-10-05T10:08:05.532767Z"
    },
    "papermill": {
     "duration": 0.060852,
     "end_time": "2021-10-05T10:08:05.532948",
     "exception": false,
     "start_time": "2021-10-05T10:08:05.472096",
     "status": "completed"
    },
    "tags": []
   },
   "outputs": [
    {
     "name": "stdout",
     "output_type": "stream",
     "text": [
      "xavier\n",
      "xavier\n",
      "xavier\n",
      "xavier\n",
      "xavier\n"
     ]
    }
   ],
   "source": [
    "layers = [Affine(\"first\", 784, 100), Relu(\"first\"), Affine(\"second\", 100, 100), Relu(\"second\"), Affine(\"third\", 100, 2), Affine(\"last\", 2, 1), Sigmoid(\"last\")]\n",
    "model_nn = Model(layers)\n",
    "model_lr = Model([Affine(\"logits\", 784, 1), Sigmoid(\"sigmoid\")])"
   ]
  },
  {
   "cell_type": "code",
   "execution_count": 20,
   "id": "6eede77a",
   "metadata": {
    "execution": {
     "iopub.execute_input": "2021-10-05T10:08:05.607102Z",
     "iopub.status.busy": "2021-10-05T10:08:05.606301Z",
     "iopub.status.idle": "2021-10-05T10:08:05.622095Z",
     "shell.execute_reply": "2021-10-05T10:08:05.621561Z"
    },
    "papermill": {
     "duration": 0.054227,
     "end_time": "2021-10-05T10:08:05.622235",
     "exception": false,
     "start_time": "2021-10-05T10:08:05.568008",
     "status": "completed"
    },
    "tags": []
   },
   "outputs": [],
   "source": [
    "nn_learner = Learner(loss, model_nn, opt, config.num_epochs)\n",
    "acc_nn = ClfCallback(nn_learner, config.bs, training_data_x , testing_data_x, training_data_y, testing_data_y)\n",
    "nn_learner.set_callbacks([acc_nn])"
   ]
  },
  {
   "cell_type": "code",
   "execution_count": 21,
   "id": "877b6cc7",
   "metadata": {
    "execution": {
     "iopub.execute_input": "2021-10-05T10:08:05.694260Z",
     "iopub.status.busy": "2021-10-05T10:08:05.693367Z",
     "iopub.status.idle": "2021-10-05T10:08:05.707561Z",
     "shell.execute_reply": "2021-10-05T10:08:05.708230Z"
    },
    "papermill": {
     "duration": 0.052255,
     "end_time": "2021-10-05T10:08:05.708396",
     "exception": false,
     "start_time": "2021-10-05T10:08:05.656141",
     "status": "completed"
    },
    "tags": []
   },
   "outputs": [],
   "source": [
    "lr_learner = Learner(loss, model_lr, opt, config.num_epochs)\n",
    "acc_lr = ClfCallback(lr_learner, config.bs, training_data_x , testing_data_x, training_data_y, testing_data_y)\n",
    "lr_learner.set_callbacks([acc_lr])"
   ]
  },
  {
   "cell_type": "code",
   "execution_count": 22,
   "id": "d9b133c3",
   "metadata": {
    "execution": {
     "iopub.execute_input": "2021-10-05T10:08:05.791032Z",
     "iopub.status.busy": "2021-10-05T10:08:05.790409Z",
     "iopub.status.idle": "2021-10-05T10:10:31.587516Z",
     "shell.execute_reply": "2021-10-05T10:10:31.588451Z"
    },
    "papermill": {
     "duration": 145.841258,
     "end_time": "2021-10-05T10:10:31.588690",
     "exception": false,
     "start_time": "2021-10-05T10:08:05.747432",
     "status": "completed"
    },
    "tags": []
   },
   "outputs": [
    {
     "name": "stdout",
     "output_type": "stream",
     "text": [
      "Epoch 0, Loss 0.2507\n",
      "Training Accuracy: 0.6361, Testing Accuracy: 0.6240\n",
      "\n"
     ]
    },
    {
     "name": "stdout",
     "output_type": "stream",
     "text": [
      "Epoch 10, Loss 0.0976\n",
      "Training Accuracy: 0.9107, Testing Accuracy: 0.9148\n",
      "\n"
     ]
    },
    {
     "name": "stdout",
     "output_type": "stream",
     "text": [
      "Epoch 20, Loss 0.0575\n",
      "Training Accuracy: 0.9403, Testing Accuracy: 0.9456\n",
      "\n"
     ]
    },
    {
     "name": "stdout",
     "output_type": "stream",
     "text": [
      "Epoch 30, Loss 0.0445\n",
      "Training Accuracy: 0.9510, Testing Accuracy: 0.9617\n",
      "\n"
     ]
    },
    {
     "name": "stdout",
     "output_type": "stream",
     "text": [
      "Epoch 40, Loss 0.0382\n",
      "Training Accuracy: 0.9562, Testing Accuracy: 0.9657\n",
      "\n"
     ]
    },
    {
     "name": "stdout",
     "output_type": "stream",
     "text": [
      "Epoch 50, Loss 0.0344\n",
      "Training Accuracy: 0.9603, Testing Accuracy: 0.9693\n",
      "\n"
     ]
    },
    {
     "name": "stdout",
     "output_type": "stream",
     "text": [
      "Epoch 60, Loss 0.0317\n",
      "Training Accuracy: 0.9626, Testing Accuracy: 0.9703\n",
      "\n"
     ]
    },
    {
     "name": "stdout",
     "output_type": "stream",
     "text": [
      "Epoch 70, Loss 0.0298\n",
      "Training Accuracy: 0.9649, Testing Accuracy: 0.9708\n",
      "\n"
     ]
    },
    {
     "name": "stdout",
     "output_type": "stream",
     "text": [
      "Epoch 80, Loss 0.0282\n",
      "Training Accuracy: 0.9670, Testing Accuracy: 0.9713\n",
      "\n"
     ]
    },
    {
     "name": "stdout",
     "output_type": "stream",
     "text": [
      "Epoch 90, Loss 0.0269\n",
      "Training Accuracy: 0.9686, Testing Accuracy: 0.9723\n",
      "\n"
     ]
    },
    {
     "name": "stdout",
     "output_type": "stream",
     "text": [
      "Epoch 100, Loss 0.0257\n",
      "Training Accuracy: 0.9703, Testing Accuracy: 0.9708\n",
      "\n"
     ]
    },
    {
     "name": "stdout",
     "output_type": "stream",
     "text": [
      "Epoch 110, Loss 0.0247\n",
      "Training Accuracy: 0.9718, Testing Accuracy: 0.9708\n",
      "\n"
     ]
    },
    {
     "name": "stdout",
     "output_type": "stream",
     "text": [
      "Epoch 120, Loss 0.0238\n",
      "Training Accuracy: 0.9729, Testing Accuracy: 0.9713\n",
      "\n"
     ]
    },
    {
     "name": "stdout",
     "output_type": "stream",
     "text": [
      "Epoch 130, Loss 0.023\n",
      "Training Accuracy: 0.9740, Testing Accuracy: 0.9713\n",
      "\n"
     ]
    },
    {
     "name": "stdout",
     "output_type": "stream",
     "text": [
      "Epoch 140, Loss 0.0223\n",
      "Training Accuracy: 0.9750, Testing Accuracy: 0.9708\n",
      "\n"
     ]
    },
    {
     "name": "stdout",
     "output_type": "stream",
     "text": [
      "Epoch 150, Loss 0.0216\n",
      "Training Accuracy: 0.9757, Testing Accuracy: 0.9718\n",
      "\n"
     ]
    },
    {
     "name": "stdout",
     "output_type": "stream",
     "text": [
      "Epoch 160, Loss 0.0209\n",
      "Training Accuracy: 0.9769, Testing Accuracy: 0.9723\n",
      "\n"
     ]
    },
    {
     "name": "stdout",
     "output_type": "stream",
     "text": [
      "Epoch 170, Loss 0.0203\n",
      "Training Accuracy: 0.9778, Testing Accuracy: 0.9723\n",
      "\n"
     ]
    },
    {
     "name": "stdout",
     "output_type": "stream",
     "text": [
      "Epoch 180, Loss 0.0198\n",
      "Training Accuracy: 0.9784, Testing Accuracy: 0.9723\n",
      "\n"
     ]
    },
    {
     "name": "stdout",
     "output_type": "stream",
     "text": [
      "Epoch 190, Loss 0.0192\n",
      "Training Accuracy: 0.9790, Testing Accuracy: 0.9723\n",
      "\n"
     ]
    },
    {
     "name": "stdout",
     "output_type": "stream",
     "text": [
      "Epoch 200, Loss 0.0187\n",
      "Training Accuracy: 0.9796, Testing Accuracy: 0.9733\n",
      "\n"
     ]
    },
    {
     "name": "stdout",
     "output_type": "stream",
     "text": [
      "Epoch 210, Loss 0.0182\n",
      "Training Accuracy: 0.9802, Testing Accuracy: 0.9748\n",
      "\n"
     ]
    },
    {
     "name": "stdout",
     "output_type": "stream",
     "text": [
      "Epoch 220, Loss 0.0177\n",
      "Training Accuracy: 0.9807, Testing Accuracy: 0.9748\n",
      "\n"
     ]
    },
    {
     "name": "stdout",
     "output_type": "stream",
     "text": [
      "Epoch 230, Loss 0.0172\n",
      "Training Accuracy: 0.9811, Testing Accuracy: 0.9748\n",
      "\n"
     ]
    },
    {
     "name": "stdout",
     "output_type": "stream",
     "text": [
      "Epoch 240, Loss 0.0168\n",
      "Training Accuracy: 0.9814, Testing Accuracy: 0.9748\n",
      "\n"
     ]
    },
    {
     "data": {
      "text/plain": [
       "0.0021096328598957984"
      ]
     },
     "execution_count": 22,
     "metadata": {},
     "output_type": "execute_result"
    }
   ],
   "source": [
    "nn_learner.train_loop(dl)"
   ]
  },
  {
   "cell_type": "code",
   "execution_count": 23,
   "id": "e0163366",
   "metadata": {
    "execution": {
     "iopub.execute_input": "2021-10-05T10:10:31.698493Z",
     "iopub.status.busy": "2021-10-05T10:10:31.697769Z",
     "iopub.status.idle": "2021-10-05T10:10:52.053699Z",
     "shell.execute_reply": "2021-10-05T10:10:52.054272Z"
    },
    "papermill": {
     "duration": 20.418651,
     "end_time": "2021-10-05T10:10:52.054466",
     "exception": false,
     "start_time": "2021-10-05T10:10:31.635815",
     "status": "completed"
    },
    "tags": []
   },
   "outputs": [
    {
     "name": "stdout",
     "output_type": "stream",
     "text": [
      "Epoch 0, Loss 0.2305\n",
      "Training Accuracy: 0.7302, Testing Accuracy: 0.7288\n",
      "\n"
     ]
    },
    {
     "name": "stdout",
     "output_type": "stream",
     "text": [
      "Epoch 10, Loss 0.1023\n",
      "Training Accuracy: 0.9106, Testing Accuracy: 0.9254\n",
      "\n"
     ]
    },
    {
     "name": "stdout",
     "output_type": "stream",
     "text": [
      "Epoch 20, Loss 0.0789\n",
      "Training Accuracy: 0.9291, Testing Accuracy: 0.9425\n",
      "\n"
     ]
    },
    {
     "name": "stdout",
     "output_type": "stream",
     "text": [
      "Epoch 30, Loss 0.0681\n",
      "Training Accuracy: 0.9371, Testing Accuracy: 0.9506\n",
      "\n"
     ]
    },
    {
     "name": "stdout",
     "output_type": "stream",
     "text": [
      "Epoch 40, Loss 0.0616\n",
      "Training Accuracy: 0.9413, Testing Accuracy: 0.9536\n",
      "\n"
     ]
    },
    {
     "name": "stdout",
     "output_type": "stream",
     "text": [
      "Epoch 50, Loss 0.0571\n",
      "Training Accuracy: 0.9449, Testing Accuracy: 0.9551\n",
      "\n"
     ]
    },
    {
     "name": "stdout",
     "output_type": "stream",
     "text": [
      "Epoch 60, Loss 0.0539\n",
      "Training Accuracy: 0.9474, Testing Accuracy: 0.9587\n",
      "\n"
     ]
    },
    {
     "name": "stdout",
     "output_type": "stream",
     "text": [
      "Epoch 70, Loss 0.0514\n",
      "Training Accuracy: 0.9497, Testing Accuracy: 0.9602\n",
      "\n"
     ]
    },
    {
     "name": "stdout",
     "output_type": "stream",
     "text": [
      "Epoch 80, Loss 0.0493\n",
      "Training Accuracy: 0.9510, Testing Accuracy: 0.9597\n",
      "\n"
     ]
    },
    {
     "name": "stdout",
     "output_type": "stream",
     "text": [
      "Epoch 90, Loss 0.0477\n",
      "Training Accuracy: 0.9526, Testing Accuracy: 0.9612\n",
      "\n"
     ]
    },
    {
     "name": "stdout",
     "output_type": "stream",
     "text": [
      "Epoch 100, Loss 0.0462\n",
      "Training Accuracy: 0.9538, Testing Accuracy: 0.9622\n",
      "\n"
     ]
    },
    {
     "name": "stdout",
     "output_type": "stream",
     "text": [
      "Epoch 110, Loss 0.045\n",
      "Training Accuracy: 0.9545, Testing Accuracy: 0.9632\n",
      "\n"
     ]
    },
    {
     "name": "stdout",
     "output_type": "stream",
     "text": [
      "Epoch 120, Loss 0.044\n",
      "Training Accuracy: 0.9553, Testing Accuracy: 0.9632\n",
      "\n"
     ]
    },
    {
     "name": "stdout",
     "output_type": "stream",
     "text": [
      "Epoch 130, Loss 0.0431\n",
      "Training Accuracy: 0.9561, Testing Accuracy: 0.9637\n",
      "\n"
     ]
    },
    {
     "name": "stdout",
     "output_type": "stream",
     "text": [
      "Epoch 140, Loss 0.0422\n",
      "Training Accuracy: 0.9568, Testing Accuracy: 0.9647\n",
      "\n"
     ]
    },
    {
     "name": "stdout",
     "output_type": "stream",
     "text": [
      "Epoch 150, Loss 0.0415\n",
      "Training Accuracy: 0.9566, Testing Accuracy: 0.9647\n",
      "\n"
     ]
    },
    {
     "name": "stdout",
     "output_type": "stream",
     "text": [
      "Epoch 160, Loss 0.0408\n",
      "Training Accuracy: 0.9574, Testing Accuracy: 0.9652\n",
      "\n"
     ]
    },
    {
     "name": "stdout",
     "output_type": "stream",
     "text": [
      "Epoch 170, Loss 0.0402\n",
      "Training Accuracy: 0.9578, Testing Accuracy: 0.9657\n",
      "\n"
     ]
    },
    {
     "name": "stdout",
     "output_type": "stream",
     "text": [
      "Epoch 180, Loss 0.0396\n",
      "Training Accuracy: 0.9580, Testing Accuracy: 0.9662\n",
      "\n"
     ]
    },
    {
     "name": "stdout",
     "output_type": "stream",
     "text": [
      "Epoch 190, Loss 0.0391\n",
      "Training Accuracy: 0.9584, Testing Accuracy: 0.9662\n",
      "\n"
     ]
    },
    {
     "name": "stdout",
     "output_type": "stream",
     "text": [
      "Epoch 200, Loss 0.0387\n",
      "Training Accuracy: 0.9589, Testing Accuracy: 0.9662\n",
      "\n"
     ]
    },
    {
     "name": "stdout",
     "output_type": "stream",
     "text": [
      "Epoch 210, Loss 0.0382\n",
      "Training Accuracy: 0.9595, Testing Accuracy: 0.9667\n",
      "\n"
     ]
    },
    {
     "name": "stdout",
     "output_type": "stream",
     "text": [
      "Epoch 220, Loss 0.0378\n",
      "Training Accuracy: 0.9598, Testing Accuracy: 0.9662\n",
      "\n"
     ]
    },
    {
     "name": "stdout",
     "output_type": "stream",
     "text": [
      "Epoch 230, Loss 0.0374\n",
      "Training Accuracy: 0.9600, Testing Accuracy: 0.9662\n",
      "\n"
     ]
    },
    {
     "name": "stdout",
     "output_type": "stream",
     "text": [
      "Epoch 240, Loss 0.0371\n",
      "Training Accuracy: 0.9604, Testing Accuracy: 0.9662\n",
      "\n"
     ]
    },
    {
     "data": {
      "text/plain": [
       "0.018290391551045535"
      ]
     },
     "execution_count": 23,
     "metadata": {},
     "output_type": "execute_result"
    }
   ],
   "source": [
    "lr_learner.train_loop(dl)"
   ]
  },
  {
   "cell_type": "code",
   "execution_count": 24,
   "id": "ca410940",
   "metadata": {
    "execution": {
     "iopub.execute_input": "2021-10-05T10:10:52.173858Z",
     "iopub.status.busy": "2021-10-05T10:10:52.173140Z",
     "iopub.status.idle": "2021-10-05T10:10:52.507470Z",
     "shell.execute_reply": "2021-10-05T10:10:52.508111Z"
    },
    "papermill": {
     "duration": 0.396242,
     "end_time": "2021-10-05T10:10:52.508303",
     "exception": false,
     "start_time": "2021-10-05T10:10:52.112061",
     "status": "completed"
    },
    "tags": []
   },
   "outputs": [
    {
     "data": {
      "text/plain": [
       "<matplotlib.legend.Legend at 0x7f7e2ae257b8>"
      ]
     },
     "execution_count": 24,
     "metadata": {},
     "output_type": "execute_result"
    },
    {
     "data": {
      "image/png": "[encoded data removed]",
      "text/plain": [
       "<Figure size 1080x720 with 1 Axes>"
      ]
     },
     "metadata": {
      "needs_background": "light"
     },
     "output_type": "display_data"
    }
   ],
   "source": [
    "#comparing the results of NN and LR\n",
    "plt.figure(figsize=(15,10))\n",
    "\n",
    "# Neural Network plots\n",
    "plt.plot(acc_nn.accuracies, 'r-', label = \"Training Accuracies - NN\")\n",
    "plt.plot(acc_nn.test_accuracies, 'g-', label = \"Testing Accuracies - NN\")\n",
    "\n",
    "# Logistic Regression plots\n",
    "plt.plot(acc_lr.accuracies, 'k-', label = \"Training Accuracies - LR\")\n",
    "plt.plot(acc_lr.test_accuracies, 'b-', label = \"Testing Accuracies - LR\")\n",
    "plt.legend()"
   ]
  },
  {
   "cell_type": "markdown",
   "id": "80dfb35c",
   "metadata": {
    "papermill": {
     "duration": 0.056757,
     "end_time": "2021-10-05T10:10:52.619868",
     "exception": false,
     "start_time": "2021-10-05T10:10:52.563111",
     "status": "completed"
    },
    "tags": []
   },
   "source": [
    "#### Plotting the outputs of this layer of the NN.\n"
   ]
  },
  {
   "cell_type": "code",
   "execution_count": 25,
   "id": "45eb2ff5",
   "metadata": {
    "execution": {
     "iopub.execute_input": "2021-10-05T10:10:52.737694Z",
     "iopub.status.busy": "2021-10-05T10:10:52.736781Z",
     "iopub.status.idle": "2021-10-05T10:10:52.765826Z",
     "shell.execute_reply": "2021-10-05T10:10:52.766405Z"
    },
    "papermill": {
     "duration": 0.089408,
     "end_time": "2021-10-05T10:10:52.766611",
     "exception": false,
     "start_time": "2021-10-05T10:10:52.677203",
     "status": "completed"
    },
    "tags": []
   },
   "outputs": [],
   "source": [
    "new_model = Model(layers[:-2])\n",
    "testing_plot = new_model(testing_data_x)"
   ]
  },
  {
   "cell_type": "code",
   "execution_count": 26,
   "id": "4c0a5485",
   "metadata": {
    "execution": {
     "iopub.execute_input": "2021-10-05T10:10:52.891974Z",
     "iopub.status.busy": "2021-10-05T10:10:52.891289Z",
     "iopub.status.idle": "2021-10-05T10:10:53.147986Z",
     "shell.execute_reply": "2021-10-05T10:10:53.148505Z"
    },
    "papermill": {
     "duration": 0.318404,
     "end_time": "2021-10-05T10:10:53.148732",
     "exception": false,
     "start_time": "2021-10-05T10:10:52.830328",
     "status": "completed"
    },
    "tags": []
   },
   "outputs": [
    {
     "data": {
      "text/plain": [
       "Text(0.5, 1.0, 'Outputs')"
      ]
     },
     "execution_count": 26,
     "metadata": {},
     "output_type": "execute_result"
    },
    {
     "data": {
      "image/png": "[encoded data removed]",
      "text/plain": [
       "<Figure size 576x504 with 1 Axes>"
      ]
     },
     "metadata": {
      "needs_background": "light"
     },
     "output_type": "display_data"
    }
   ],
   "source": [
    "# Plotting the scatter plot of points and color coding by class\n",
    "plt.figure(figsize=(8,7))\n",
    "plt.scatter(testing_plot[:,0], testing_plot[:,1], alpha = 0.1, c = y_test.ravel());\n",
    "plt.title('Outputs')"
   ]
  },
  {
   "cell_type": "markdown",
   "id": "a74fcf8f",
   "metadata": {
    "papermill": {
     "duration": 0.055993,
     "end_time": "2021-10-05T10:10:53.264316",
     "exception": false,
     "start_time": "2021-10-05T10:10:53.208323",
     "status": "completed"
    },
    "tags": []
   },
   "source": [
    "Probability contours"
   ]
  },
  {
   "cell_type": "code",
   "execution_count": 27,
   "id": "d0afc8e3",
   "metadata": {
    "execution": {
     "iopub.execute_input": "2021-10-05T10:10:53.418906Z",
     "iopub.status.busy": "2021-10-05T10:10:53.418124Z",
     "iopub.status.idle": "2021-10-05T10:10:53.432092Z",
     "shell.execute_reply": "2021-10-05T10:10:53.432654Z"
    },
    "papermill": {
     "duration": 0.109485,
     "end_time": "2021-10-05T10:10:53.432850",
     "exception": false,
     "start_time": "2021-10-05T10:10:53.323365",
     "status": "completed"
    },
    "tags": []
   },
   "outputs": [],
   "source": [
    "model_prob = Model(layers[-2:]) "
   ]
  },
  {
   "cell_type": "code",
   "execution_count": 28,
   "id": "9b96e238",
   "metadata": {
    "execution": {
     "iopub.execute_input": "2021-10-05T10:10:53.557211Z",
     "iopub.status.busy": "2021-10-05T10:10:53.554724Z",
     "iopub.status.idle": "2021-10-05T10:10:53.571128Z",
     "shell.execute_reply": "2021-10-05T10:10:53.571649Z"
    },
    "papermill": {
     "duration": 0.0823,
     "end_time": "2021-10-05T10:10:53.571813",
     "exception": false,
     "start_time": "2021-10-05T10:10:53.489513",
     "status": "completed"
    },
    "tags": []
   },
   "outputs": [],
   "source": [
    "#creating the x and y ranges according to the above generated plot.\n",
    "x_range = np.linspace(-4, 1, 100) \n",
    "y_range = np.linspace(-6, 6, 100) \n",
    "x_grid, y_grid = np.meshgrid(x_range, y_range) # x_grid and y_grig are of size 100 X 100\n",
    "\n",
    "# converting x_grid and y_grid to continuous arrays\n",
    "x_gridflat = np.ravel(x_grid)\n",
    "y_gridflat = np.ravel(y_grid)\n",
    "\n",
    "# The last layer of the current model takes two columns as input. Hence transpose of np.vstack() is required.\n",
    "X = np.vstack((x_gridflat, y_gridflat)).T\n",
    "\n",
    "prob_contour = model_prob(X).reshape(100,100) "
   ]
  },
  {
   "cell_type": "code",
   "execution_count": 29,
   "id": "da72499a",
   "metadata": {
    "execution": {
     "iopub.execute_input": "2021-10-05T10:10:53.705358Z",
     "iopub.status.busy": "2021-10-05T10:10:53.704630Z",
     "iopub.status.idle": "2021-10-05T10:10:54.038430Z",
     "shell.execute_reply": "2021-10-05T10:10:54.037186Z"
    },
    "papermill": {
     "duration": 0.400057,
     "end_time": "2021-10-05T10:10:54.038571",
     "exception": false,
     "start_time": "2021-10-05T10:10:53.638514",
     "status": "completed"
    },
    "tags": []
   },
   "outputs": [
    {
     "data": {
      "image/png": "[encoded data removed]",
      "text/plain": [
       "<Figure size 720x648 with 1 Axes>"
      ]
     },
     "metadata": {
      "needs_background": "light"
     },
     "output_type": "display_data"
    }
   ],
   "source": [
    "plt.figure(figsize=(10,9))\n",
    "plt.scatter(testing_plot[:,0], testing_plot[:,1], alpha = 0.1, c = y_test.ravel())\n",
    "contours = plt.contour(x_grid,y_grid,prob_contour)\n",
    "plt.title('Probability Contours')\n",
    "plt.clabel(contours, inline = True );"
   ]
  },
  {
   "cell_type": "code",
   "execution_count": null,
   "id": "e81b4ac7",
   "metadata": {
    "papermill": {
     "duration": 0.060894,
     "end_time": "2021-10-05T10:10:54.166715",
     "exception": false,
     "start_time": "2021-10-05T10:10:54.105821",
     "status": "completed"
    },
    "tags": []
   },
   "outputs": [],
   "source": []
  }
 ],
 "metadata": {
  "kernelspec": {
   "display_name": "Python 3",
   "language": "python",
   "name": "python3"
  },
  "language_info": {
   "codemirror_mode": {
    "name": "ipython",
    "version": 3
   },
   "file_extension": ".py",
   "mimetype": "text/x-python",
   "name": "python",
   "nbconvert_exporter": "python",
   "pygments_lexer": "ipython3",
   "version": "3.6.15"
  },
  "papermill": {
   "default_parameters": {},
   "duration": 176.455757,
   "end_time": "2021-10-05T10:10:54.638458",
   "environment_variables": {},
   "exception": null,
   "input_path": "2020-08-11-part2.ipynb",
   "output_path": "2020-08-11-part2.ipynb",
   "parameters": {},
   "start_time": "2021-10-05T10:07:58.182701",
   "version": "2.3.3"
  }
 },
 "nbformat": 4,
 "nbformat_minor": 5
}