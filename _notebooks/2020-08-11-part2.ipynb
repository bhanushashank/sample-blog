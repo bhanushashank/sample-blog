{
 "cells": [
  {
   "cell_type": "markdown",
   "id": "98380cd3",
   "metadata": {
    "papermill": {
     "duration": 0.030202,
     "end_time": "2022-10-24T01:01:18.164059",
     "exception": false,
     "start_time": "2022-10-24T01:01:18.133857",
     "status": "completed"
    },
    "tags": []
   },
   "source": [
    "# Distinguish Your Own Digits (DYOD)"
   ]
  },
  {
   "cell_type": "markdown",
   "id": "ef31240d",
   "metadata": {
    "papermill": {
     "duration": 0.023537,
     "end_time": "2022-10-24T01:01:18.212008",
     "exception": false,
     "start_time": "2022-10-24T01:01:18.188471",
     "status": "completed"
    },
    "tags": []
   },
   "source": [
    "You are going to write a classifier that distinguishes between the number 3 and number 8."
   ]
  },
  {
   "cell_type": "code",
   "execution_count": 1,
   "id": "b15c8646",
   "metadata": {
    "execution": {
     "iopub.execute_input": "2022-10-24T01:01:18.269869Z",
     "iopub.status.busy": "2022-10-24T01:01:18.269269Z",
     "iopub.status.idle": "2022-10-24T01:01:18.280246Z",
     "shell.execute_reply": "2022-10-24T01:01:18.279761Z"
    },
    "papermill": {
     "duration": 0.044805,
     "end_time": "2022-10-24T01:01:18.280368",
     "exception": false,
     "start_time": "2022-10-24T01:01:18.235563",
     "status": "completed"
    },
    "tags": []
   },
   "outputs": [],
   "source": [
    "%load_ext autoreload\n",
    "%autoreload 2"
   ]
  },
  {
   "cell_type": "code",
   "execution_count": 2,
   "id": "22ef38dc",
   "metadata": {
    "execution": {
     "iopub.execute_input": "2022-10-24T01:01:18.336241Z",
     "iopub.status.busy": "2022-10-24T01:01:18.335669Z",
     "iopub.status.idle": "2022-10-24T01:01:18.854101Z",
     "shell.execute_reply": "2022-10-24T01:01:18.854658Z"
    },
    "papermill": {
     "duration": 0.550762,
     "end_time": "2022-10-24T01:01:18.854833",
     "exception": false,
     "start_time": "2022-10-24T01:01:18.304071",
     "status": "completed"
    },
    "tags": []
   },
   "outputs": [],
   "source": [
    "%matplotlib inline\n",
    "import numpy as np\n",
    "import matplotlib.pyplot as plt\n",
    "import pandas as pd"
   ]
  },
  {
   "cell_type": "markdown",
   "id": "ba036198",
   "metadata": {
    "papermill": {
     "duration": 0.023736,
     "end_time": "2022-10-24T01:01:18.902824",
     "exception": false,
     "start_time": "2022-10-24T01:01:18.879088",
     "status": "completed"
    },
    "tags": []
   },
   "source": [
    "From the command line run `pip install mnist`. This is a library that will help you bring down the mnist dataset. If you run this from a notebook, you need to put  `!pip install mnist` in a cell by itself."
   ]
  },
  {
   "cell_type": "code",
   "execution_count": 3,
   "id": "bb6ad8a1",
   "metadata": {
    "execution": {
     "iopub.execute_input": "2022-10-24T01:01:18.964561Z",
     "iopub.status.busy": "2022-10-24T01:01:18.963303Z",
     "iopub.status.idle": "2022-10-24T01:01:21.377816Z",
     "shell.execute_reply": "2022-10-24T01:01:21.376930Z"
    },
    "papermill": {
     "duration": 2.451303,
     "end_time": "2022-10-24T01:01:21.377957",
     "exception": false,
     "start_time": "2022-10-24T01:01:18.926654",
     "status": "completed"
    },
    "tags": []
   },
   "outputs": [
    {
     "name": "stdout",
     "output_type": "stream",
     "text": [
      "Collecting mnist\r\n",
      "  Downloading mnist-0.2.2-py2.py3-none-any.whl (3.5 kB)\r\n",
      "Requirement already satisfied: numpy in /opt/hostedtoolcache/Python/3.6.15/x64/lib/python3.6/site-packages (from mnist) (1.19.5)\r\n"
     ]
    },
    {
     "name": "stdout",
     "output_type": "stream",
     "text": [
      "Installing collected packages: mnist\r\n"
     ]
    },
    {
     "name": "stdout",
     "output_type": "stream",
     "text": [
      "Successfully installed mnist-0.2.2\r\n"
     ]
    }
   ],
   "source": [
    "!pip install mnist"
   ]
  },
  {
   "cell_type": "markdown",
   "id": "69df9c9a",
   "metadata": {
    "papermill": {
     "duration": 0.024558,
     "end_time": "2022-10-24T01:01:21.427442",
     "exception": false,
     "start_time": "2022-10-24T01:01:21.402884",
     "status": "completed"
    },
    "tags": []
   },
   "source": [
    "## Preparing the Data"
   ]
  },
  {
   "cell_type": "code",
   "execution_count": 4,
   "id": "7f69d806",
   "metadata": {
    "execution": {
     "iopub.execute_input": "2022-10-24T01:01:21.480320Z",
     "iopub.status.busy": "2022-10-24T01:01:21.479745Z",
     "iopub.status.idle": "2022-10-24T01:01:21.494718Z",
     "shell.execute_reply": "2022-10-24T01:01:21.494222Z"
    },
    "papermill": {
     "duration": 0.042933,
     "end_time": "2022-10-24T01:01:21.494827",
     "exception": false,
     "start_time": "2022-10-24T01:01:21.451894",
     "status": "completed"
    },
    "tags": []
   },
   "outputs": [],
   "source": [
    "import mnist"
   ]
  },
  {
   "cell_type": "code",
   "execution_count": 5,
   "id": "a411e44f",
   "metadata": {
    "execution": {
     "iopub.execute_input": "2022-10-24T01:01:21.546902Z",
     "iopub.status.busy": "2022-10-24T01:01:21.546296Z",
     "iopub.status.idle": "2022-10-24T01:01:22.123178Z",
     "shell.execute_reply": "2022-10-24T01:01:22.122566Z"
    },
    "papermill": {
     "duration": 0.604064,
     "end_time": "2022-10-24T01:01:22.123315",
     "exception": false,
     "start_time": "2022-10-24T01:01:21.519251",
     "status": "completed"
    },
    "tags": []
   },
   "outputs": [],
   "source": [
    "train_images = mnist.train_images()\n",
    "train_labels = mnist.train_labels()"
   ]
  },
  {
   "cell_type": "code",
   "execution_count": 6,
   "id": "dceab3a5",
   "metadata": {
    "execution": {
     "iopub.execute_input": "2022-10-24T01:01:22.177588Z",
     "iopub.status.busy": "2022-10-24T01:01:22.177010Z",
     "iopub.status.idle": "2022-10-24T01:01:22.191859Z",
     "shell.execute_reply": "2022-10-24T01:01:22.192329Z"
    },
    "papermill": {
     "duration": 0.04332,
     "end_time": "2022-10-24T01:01:22.192450",
     "exception": false,
     "start_time": "2022-10-24T01:01:22.149130",
     "status": "completed"
    },
    "tags": []
   },
   "outputs": [
    {
     "data": {
      "text/plain": [
       "((60000, 28, 28), (60000,))"
      ]
     },
     "execution_count": 6,
     "metadata": {},
     "output_type": "execute_result"
    }
   ],
   "source": [
    "train_images.shape, train_labels.shape"
   ]
  },
  {
   "cell_type": "code",
   "execution_count": 7,
   "id": "f50dc2bb",
   "metadata": {
    "execution": {
     "iopub.execute_input": "2022-10-24T01:01:22.245174Z",
     "iopub.status.busy": "2022-10-24T01:01:22.244613Z",
     "iopub.status.idle": "2022-10-24T01:01:22.361809Z",
     "shell.execute_reply": "2022-10-24T01:01:22.361225Z"
    },
    "papermill": {
     "duration": 0.14485,
     "end_time": "2022-10-24T01:01:22.361939",
     "exception": false,
     "start_time": "2022-10-24T01:01:22.217089",
     "status": "completed"
    },
    "tags": []
   },
   "outputs": [],
   "source": [
    "test_images = mnist.test_images()\n",
    "test_labels = mnist.test_labels()"
   ]
  },
  {
   "cell_type": "code",
   "execution_count": 8,
   "id": "fc38cf1b",
   "metadata": {
    "execution": {
     "iopub.execute_input": "2022-10-24T01:01:22.415659Z",
     "iopub.status.busy": "2022-10-24T01:01:22.415090Z",
     "iopub.status.idle": "2022-10-24T01:01:22.427860Z",
     "shell.execute_reply": "2022-10-24T01:01:22.428403Z"
    },
    "papermill": {
     "duration": 0.041115,
     "end_time": "2022-10-24T01:01:22.428524",
     "exception": false,
     "start_time": "2022-10-24T01:01:22.387409",
     "status": "completed"
    },
    "tags": []
   },
   "outputs": [
    {
     "data": {
      "text/plain": [
       "((10000, 28, 28), (10000,))"
      ]
     },
     "execution_count": 8,
     "metadata": {},
     "output_type": "execute_result"
    }
   ],
   "source": [
    "test_images.shape, test_labels.shape"
   ]
  },
  {
   "cell_type": "code",
   "execution_count": 9,
   "id": "f9ed8fe0",
   "metadata": {
    "execution": {
     "iopub.execute_input": "2022-10-24T01:01:22.481981Z",
     "iopub.status.busy": "2022-10-24T01:01:22.481406Z",
     "iopub.status.idle": "2022-10-24T01:01:22.619123Z",
     "shell.execute_reply": "2022-10-24T01:01:22.618626Z"
    },
    "papermill": {
     "duration": 0.165728,
     "end_time": "2022-10-24T01:01:22.619243",
     "exception": false,
     "start_time": "2022-10-24T01:01:22.453515",
     "status": "completed"
    },
    "tags": []
   },
   "outputs": [
    {
     "name": "stdout",
     "output_type": "stream",
     "text": [
      "2\n"
     ]
    },
    {
     "data": {
      "text/plain": [
       "<matplotlib.image.AxesImage at 0x7fc2d454ecc0>"
      ]
     },
     "execution_count": 9,
     "metadata": {},
     "output_type": "execute_result"
    },
    {
     "data": {
      "image/png": "[encoded data removed]",
      "text/plain": [
       "<Figure size 432x288 with 1 Axes>"
      ]
     },
     "metadata": {
      "needs_background": "light"
     },
     "output_type": "display_data"
    }
   ],
   "source": [
    "image_index = 7776 # You may select anything up to 60,000\n",
    "print(train_labels[image_index]) \n",
    "plt.imshow(train_images[image_index], cmap='Greys')"
   ]
  },
  {
   "cell_type": "markdown",
   "id": "a8d2388d",
   "metadata": {
    "papermill": {
     "duration": 0.026253,
     "end_time": "2022-10-24T01:01:22.671990",
     "exception": false,
     "start_time": "2022-10-24T01:01:22.645737",
     "status": "completed"
    },
    "tags": []
   },
   "source": [
    "## Filter data to get 3 and 8 out"
   ]
  },
  {
   "cell_type": "code",
   "execution_count": 10,
   "id": "776f7fc7",
   "metadata": {
    "execution": {
     "iopub.execute_input": "2022-10-24T01:01:22.728602Z",
     "iopub.status.busy": "2022-10-24T01:01:22.728008Z",
     "iopub.status.idle": "2022-10-24T01:01:22.746448Z",
     "shell.execute_reply": "2022-10-24T01:01:22.745982Z"
    },
    "papermill": {
     "duration": 0.048352,
     "end_time": "2022-10-24T01:01:22.746579",
     "exception": false,
     "start_time": "2022-10-24T01:01:22.698227",
     "status": "completed"
    },
    "tags": []
   },
   "outputs": [],
   "source": [
    "train_filter = np.where((train_labels == 3 ) | (train_labels == 8))\n",
    "test_filter = np.where((test_labels == 3) | (test_labels == 8))\n",
    "X_train, y_train = train_images[train_filter], train_labels[train_filter]\n",
    "X_test, y_test = test_images[test_filter], test_labels[test_filter]"
   ]
  },
  {
   "cell_type": "markdown",
   "id": "948f0b7e",
   "metadata": {
    "papermill": {
     "duration": 0.025948,
     "end_time": "2022-10-24T01:01:22.798524",
     "exception": false,
     "start_time": "2022-10-24T01:01:22.772576",
     "status": "completed"
    },
    "tags": []
   },
   "source": [
    "We normalize the pizel values in the 0 to 1 range"
   ]
  },
  {
   "cell_type": "code",
   "execution_count": 11,
   "id": "ee4c2166",
   "metadata": {
    "execution": {
     "iopub.execute_input": "2022-10-24T01:01:22.853767Z",
     "iopub.status.busy": "2022-10-24T01:01:22.853189Z",
     "iopub.status.idle": "2022-10-24T01:01:22.902150Z",
     "shell.execute_reply": "2022-10-24T01:01:22.901575Z"
    },
    "papermill": {
     "duration": 0.077914,
     "end_time": "2022-10-24T01:01:22.902272",
     "exception": false,
     "start_time": "2022-10-24T01:01:22.824358",
     "status": "completed"
    },
    "tags": []
   },
   "outputs": [],
   "source": [
    "X_train = X_train/255.\n",
    "X_test = X_test/255."
   ]
  },
  {
   "cell_type": "markdown",
   "id": "ddcf4fab",
   "metadata": {
    "papermill": {
     "duration": 0.026504,
     "end_time": "2022-10-24T01:01:22.955344",
     "exception": false,
     "start_time": "2022-10-24T01:01:22.928840",
     "status": "completed"
    },
    "tags": []
   },
   "source": [
    "And setup the labels as 1 (when the digit is 3) and 0 (when the digit is 8)"
   ]
  },
  {
   "cell_type": "code",
   "execution_count": 12,
   "id": "7dc908f2",
   "metadata": {
    "execution": {
     "iopub.execute_input": "2022-10-24T01:01:23.011160Z",
     "iopub.status.busy": "2022-10-24T01:01:23.010570Z",
     "iopub.status.idle": "2022-10-24T01:01:23.023517Z",
     "shell.execute_reply": "2022-10-24T01:01:23.023045Z"
    },
    "papermill": {
     "duration": 0.042178,
     "end_time": "2022-10-24T01:01:23.023624",
     "exception": false,
     "start_time": "2022-10-24T01:01:22.981446",
     "status": "completed"
    },
    "tags": []
   },
   "outputs": [],
   "source": [
    "y_train = 1*(y_train==3)\n",
    "y_test = 1*(y_test==3)"
   ]
  },
  {
   "cell_type": "code",
   "execution_count": 13,
   "id": "01e4e969",
   "metadata": {
    "execution": {
     "iopub.execute_input": "2022-10-24T01:01:23.079185Z",
     "iopub.status.busy": "2022-10-24T01:01:23.078602Z",
     "iopub.status.idle": "2022-10-24T01:01:23.092788Z",
     "shell.execute_reply": "2022-10-24T01:01:23.092318Z"
    },
    "papermill": {
     "duration": 0.043178,
     "end_time": "2022-10-24T01:01:23.092897",
     "exception": false,
     "start_time": "2022-10-24T01:01:23.049719",
     "status": "completed"
    },
    "tags": []
   },
   "outputs": [
    {
     "data": {
      "text/plain": [
       "((11982, 28, 28), (1984, 28, 28))"
      ]
     },
     "execution_count": 13,
     "metadata": {},
     "output_type": "execute_result"
    }
   ],
   "source": [
    "X_train.shape, X_test.shape"
   ]
  },
  {
   "cell_type": "markdown",
   "id": "5ccf3f85",
   "metadata": {
    "papermill": {
     "duration": 0.026639,
     "end_time": "2022-10-24T01:01:23.146073",
     "exception": false,
     "start_time": "2022-10-24T01:01:23.119434",
     "status": "completed"
    },
    "tags": []
   },
   "source": [
    "We reshape the data to flatten the image pixels into a set of features or co-variates:"
   ]
  },
  {
   "cell_type": "code",
   "execution_count": 14,
   "id": "5286a4a3",
   "metadata": {
    "execution": {
     "iopub.execute_input": "2022-10-24T01:01:23.209009Z",
     "iopub.status.busy": "2022-10-24T01:01:23.208389Z",
     "iopub.status.idle": "2022-10-24T01:01:23.218837Z",
     "shell.execute_reply": "2022-10-24T01:01:23.219314Z"
    },
    "papermill": {
     "duration": 0.04659,
     "end_time": "2022-10-24T01:01:23.219443",
     "exception": false,
     "start_time": "2022-10-24T01:01:23.172853",
     "status": "completed"
    },
    "tags": []
   },
   "outputs": [
    {
     "data": {
      "text/plain": [
       "((11982, 784), (1984, 784))"
      ]
     },
     "execution_count": 14,
     "metadata": {},
     "output_type": "execute_result"
    }
   ],
   "source": [
    "X_train = X_train.reshape(X_train.shape[0], -1)\n",
    "X_test = X_test.reshape(X_test.shape[0], -1)\n",
    "X_train.shape, X_test.shape"
   ]
  },
  {
   "cell_type": "code",
   "execution_count": 15,
   "id": "73c5f88a",
   "metadata": {
    "execution": {
     "iopub.execute_input": "2022-10-24T01:01:23.276693Z",
     "iopub.status.busy": "2022-10-24T01:01:23.276124Z",
     "iopub.status.idle": "2022-10-24T01:01:23.294197Z",
     "shell.execute_reply": "2022-10-24T01:01:23.294695Z"
    },
    "papermill": {
     "duration": 0.04871,
     "end_time": "2022-10-24T01:01:23.294820",
     "exception": false,
     "start_time": "2022-10-24T01:01:23.246110",
     "status": "completed"
    },
    "tags": []
   },
   "outputs": [],
   "source": [
    "#Impoting functions from 'Kudzu'\n",
    "from kudzu.model import Model\n",
    "from kudzu.train import Learner\n",
    "from kudzu.optim import GD\n",
    "from kudzu.data import Data, Sampler,Dataloader\n",
    "\n",
    "from kudzu.callbacks import AccCallback\n",
    "from kudzu.callbacks import ClfCallback\n",
    "\n",
    "from kudzu.loss import MSE\n",
    "\n",
    "from kudzu.layer import Sigmoid,Relu\n",
    "from kudzu.layer import Affine"
   ]
  },
  {
   "cell_type": "markdown",
   "id": "bc01172a",
   "metadata": {
    "papermill": {
     "duration": 0.026809,
     "end_time": "2022-10-24T01:01:23.348217",
     "exception": false,
     "start_time": "2022-10-24T01:01:23.321408",
     "status": "completed"
    },
    "tags": []
   },
   "source": [
    "### Let us create a `Config` class, to store important parameters. \n",
    "This class essentially plays the role of a dictionary."
   ]
  },
  {
   "cell_type": "code",
   "execution_count": 16,
   "id": "978281aa",
   "metadata": {
    "execution": {
     "iopub.execute_input": "2022-10-24T01:01:23.416072Z",
     "iopub.status.busy": "2022-10-24T01:01:23.409128Z",
     "iopub.status.idle": "2022-10-24T01:01:23.418842Z",
     "shell.execute_reply": "2022-10-24T01:01:23.418245Z"
    },
    "papermill": {
     "duration": 0.04429,
     "end_time": "2022-10-24T01:01:23.418952",
     "exception": false,
     "start_time": "2022-10-24T01:01:23.374662",
     "status": "completed"
    },
    "tags": []
   },
   "outputs": [],
   "source": [
    "class Config:\n",
    "    pass\n",
    "config = Config()\n",
    "config.lr = 0.001\n",
    "config.num_epochs = 250\n",
    "config.bs = 50"
   ]
  },
  {
   "cell_type": "markdown",
   "id": "1385fa59",
   "metadata": {
    "papermill": {
     "duration": 0.026566,
     "end_time": "2022-10-24T01:01:23.472046",
     "exception": false,
     "start_time": "2022-10-24T01:01:23.445480",
     "status": "completed"
    },
    "tags": []
   },
   "source": [
    "### Running Models with the Training data\n",
    "Details about the network layers:\n",
    "- A first affine layer has 784 inputs and does 100 affine transforms. These are followed by a Relu\n",
    "- A second affine layer has 100 inputs from the 100 activations of the past layer, and does 100 affine transforms. These are followed by a Relu\n",
    "- A third affine layer has 100 activations and does 2 affine transformations to create an embedding for visualization. There is no non-linearity here.\n",
    "- A final \"logistic regression\" which has an affine transform from 2 inputs to 1 output, which is squeezed through a sigmoid.\n"
   ]
  },
  {
   "cell_type": "code",
   "execution_count": 17,
   "id": "2b9c66db",
   "metadata": {
    "execution": {
     "iopub.execute_input": "2022-10-24T01:01:23.531246Z",
     "iopub.status.busy": "2022-10-24T01:01:23.528625Z",
     "iopub.status.idle": "2022-10-24T01:01:23.542276Z",
     "shell.execute_reply": "2022-10-24T01:01:23.541806Z"
    },
    "papermill": {
     "duration": 0.04349,
     "end_time": "2022-10-24T01:01:23.542379",
     "exception": false,
     "start_time": "2022-10-24T01:01:23.498889",
     "status": "completed"
    },
    "tags": []
   },
   "outputs": [],
   "source": [
    "data = Data(X_train, y_train.reshape(-1,1))\n",
    "sampler = Sampler(data, config.bs, shuffle=True)\n",
    "\n",
    "dl = Dataloader(data, sampler)\n",
    "\n",
    "opt = GD(config.lr)\n",
    "loss = MSE()"
   ]
  },
  {
   "cell_type": "code",
   "execution_count": 18,
   "id": "b275e4c2",
   "metadata": {
    "execution": {
     "iopub.execute_input": "2022-10-24T01:01:23.598995Z",
     "iopub.status.busy": "2022-10-24T01:01:23.598386Z",
     "iopub.status.idle": "2022-10-24T01:01:23.610186Z",
     "shell.execute_reply": "2022-10-24T01:01:23.610756Z"
    },
    "papermill": {
     "duration": 0.041846,
     "end_time": "2022-10-24T01:01:23.610878",
     "exception": false,
     "start_time": "2022-10-24T01:01:23.569032",
     "status": "completed"
    },
    "tags": []
   },
   "outputs": [],
   "source": [
    "training_data_x = X_train\n",
    "testing_data_x = X_test\n",
    "training_data_y = y_train.reshape(-1,1)\n",
    "testing_data_y = y_test.reshape(-1,1)"
   ]
  },
  {
   "cell_type": "code",
   "execution_count": 19,
   "id": "76951160",
   "metadata": {
    "execution": {
     "iopub.execute_input": "2022-10-24T01:01:23.669428Z",
     "iopub.status.busy": "2022-10-24T01:01:23.668857Z",
     "iopub.status.idle": "2022-10-24T01:01:23.685273Z",
     "shell.execute_reply": "2022-10-24T01:01:23.684720Z"
    },
    "papermill": {
     "duration": 0.048054,
     "end_time": "2022-10-24T01:01:23.685374",
     "exception": false,
     "start_time": "2022-10-24T01:01:23.637320",
     "status": "completed"
    },
    "tags": []
   },
   "outputs": [
    {
     "name": "stdout",
     "output_type": "stream",
     "text": [
      "xavier\n",
      "xavier\n",
      "xavier\n",
      "xavier\n",
      "xavier\n"
     ]
    }
   ],
   "source": [
    "layers = [Affine(\"first\", 784, 100), Relu(\"first\"), Affine(\"second\", 100, 100), Relu(\"second\"), Affine(\"third\", 100, 2), Affine(\"last\", 2, 1), Sigmoid(\"last\")]\n",
    "model_nn = Model(layers)\n",
    "model_lr = Model([Affine(\"logits\", 784, 1), Sigmoid(\"sigmoid\")])"
   ]
  },
  {
   "cell_type": "code",
   "execution_count": 20,
   "id": "6eede77a",
   "metadata": {
    "execution": {
     "iopub.execute_input": "2022-10-24T01:01:23.742960Z",
     "iopub.status.busy": "2022-10-24T01:01:23.742352Z",
     "iopub.status.idle": "2022-10-24T01:01:23.755116Z",
     "shell.execute_reply": "2022-10-24T01:01:23.754644Z"
    },
    "papermill": {
     "duration": 0.042868,
     "end_time": "2022-10-24T01:01:23.755217",
     "exception": false,
     "start_time": "2022-10-24T01:01:23.712349",
     "status": "completed"
    },
    "tags": []
   },
   "outputs": [],
   "source": [
    "nn_learner = Learner(loss, model_nn, opt, config.num_epochs)\n",
    "acc_nn = ClfCallback(nn_learner, config.bs, training_data_x , testing_data_x, training_data_y, testing_data_y)\n",
    "nn_learner.set_callbacks([acc_nn])"
   ]
  },
  {
   "cell_type": "code",
   "execution_count": 21,
   "id": "877b6cc7",
   "metadata": {
    "execution": {
     "iopub.execute_input": "2022-10-24T01:01:23.813188Z",
     "iopub.status.busy": "2022-10-24T01:01:23.812617Z",
     "iopub.status.idle": "2022-10-24T01:01:23.825067Z",
     "shell.execute_reply": "2022-10-24T01:01:23.824606Z"
    },
    "papermill": {
     "duration": 0.042569,
     "end_time": "2022-10-24T01:01:23.825167",
     "exception": false,
     "start_time": "2022-10-24T01:01:23.782598",
     "status": "completed"
    },
    "tags": []
   },
   "outputs": [],
   "source": [
    "lr_learner = Learner(loss, model_lr, opt, config.num_epochs)\n",
    "acc_lr = ClfCallback(lr_learner, config.bs, training_data_x , testing_data_x, training_data_y, testing_data_y)\n",
    "lr_learner.set_callbacks([acc_lr])"
   ]
  },
  {
   "cell_type": "code",
   "execution_count": 22,
   "id": "d9b133c3",
   "metadata": {
    "execution": {
     "iopub.execute_input": "2022-10-24T01:01:23.882136Z",
     "iopub.status.busy": "2022-10-24T01:01:23.881567Z",
     "iopub.status.idle": "2022-10-24T01:02:37.009114Z",
     "shell.execute_reply": "2022-10-24T01:02:37.009933Z"
    },
    "papermill": {
     "duration": 73.158128,
     "end_time": "2022-10-24T01:02:37.010079",
     "exception": false,
     "start_time": "2022-10-24T01:01:23.851951",
     "status": "completed"
    },
    "tags": []
   },
   "outputs": [
    {
     "name": "stdout",
     "output_type": "stream",
     "text": [
      "Epoch 0, Loss 0.253\n",
      "Training Accuracy: 0.5377, Testing Accuracy: 0.5393\n",
      "\n"
     ]
    },
    {
     "name": "stdout",
     "output_type": "stream",
     "text": [
      "Epoch 10, Loss 0.1163\n",
      "Training Accuracy: 0.8997, Testing Accuracy: 0.9093\n",
      "\n"
     ]
    },
    {
     "name": "stdout",
     "output_type": "stream",
     "text": [
      "Epoch 20, Loss 0.0625\n",
      "Training Accuracy: 0.9380, Testing Accuracy: 0.9516\n",
      "\n"
     ]
    },
    {
     "name": "stdout",
     "output_type": "stream",
     "text": [
      "Epoch 30, Loss 0.0462\n",
      "Training Accuracy: 0.9529, Testing Accuracy: 0.9582\n",
      "\n"
     ]
    },
    {
     "name": "stdout",
     "output_type": "stream",
     "text": [
      "Epoch 40, Loss 0.039\n",
      "Training Accuracy: 0.9579, Testing Accuracy: 0.9622\n",
      "\n"
     ]
    },
    {
     "name": "stdout",
     "output_type": "stream",
     "text": [
      "Epoch 50, Loss 0.035\n",
      "Training Accuracy: 0.9614, Testing Accuracy: 0.9677\n",
      "\n"
     ]
    },
    {
     "name": "stdout",
     "output_type": "stream",
     "text": [
      "Epoch 60, Loss 0.0323\n",
      "Training Accuracy: 0.9633, Testing Accuracy: 0.9693\n",
      "\n"
     ]
    },
    {
     "name": "stdout",
     "output_type": "stream",
     "text": [
      "Epoch 70, Loss 0.0304\n",
      "Training Accuracy: 0.9650, Testing Accuracy: 0.9698\n",
      "\n"
     ]
    },
    {
     "name": "stdout",
     "output_type": "stream",
     "text": [
      "Epoch 80, Loss 0.0289\n",
      "Training Accuracy: 0.9668, Testing Accuracy: 0.9718\n",
      "\n"
     ]
    },
    {
     "name": "stdout",
     "output_type": "stream",
     "text": [
      "Epoch 90, Loss 0.0277\n",
      "Training Accuracy: 0.9685, Testing Accuracy: 0.9718\n",
      "\n"
     ]
    },
    {
     "name": "stdout",
     "output_type": "stream",
     "text": [
      "Epoch 100, Loss 0.0266\n",
      "Training Accuracy: 0.9690, Testing Accuracy: 0.9718\n",
      "\n"
     ]
    },
    {
     "name": "stdout",
     "output_type": "stream",
     "text": [
      "Epoch 110, Loss 0.0257\n",
      "Training Accuracy: 0.9700, Testing Accuracy: 0.9728\n",
      "\n"
     ]
    },
    {
     "name": "stdout",
     "output_type": "stream",
     "text": [
      "Epoch 120, Loss 0.0249\n",
      "Training Accuracy: 0.9703, Testing Accuracy: 0.9743\n",
      "\n"
     ]
    },
    {
     "name": "stdout",
     "output_type": "stream",
     "text": [
      "Epoch 130, Loss 0.0242\n",
      "Training Accuracy: 0.9710, Testing Accuracy: 0.9748\n",
      "\n"
     ]
    },
    {
     "name": "stdout",
     "output_type": "stream",
     "text": [
      "Epoch 140, Loss 0.0235\n",
      "Training Accuracy: 0.9720, Testing Accuracy: 0.9748\n",
      "\n"
     ]
    },
    {
     "name": "stdout",
     "output_type": "stream",
     "text": [
      "Epoch 150, Loss 0.0229\n",
      "Training Accuracy: 0.9726, Testing Accuracy: 0.9743\n",
      "\n"
     ]
    },
    {
     "name": "stdout",
     "output_type": "stream",
     "text": [
      "Epoch 160, Loss 0.0223\n",
      "Training Accuracy: 0.9737, Testing Accuracy: 0.9743\n",
      "\n"
     ]
    },
    {
     "name": "stdout",
     "output_type": "stream",
     "text": [
      "Epoch 170, Loss 0.0217\n",
      "Training Accuracy: 0.9744, Testing Accuracy: 0.9743\n",
      "\n"
     ]
    },
    {
     "name": "stdout",
     "output_type": "stream",
     "text": [
      "Epoch 180, Loss 0.0212\n",
      "Training Accuracy: 0.9760, Testing Accuracy: 0.9748\n",
      "\n"
     ]
    },
    {
     "name": "stdout",
     "output_type": "stream",
     "text": [
      "Epoch 190, Loss 0.0207\n",
      "Training Accuracy: 0.9769, Testing Accuracy: 0.9753\n",
      "\n"
     ]
    },
    {
     "name": "stdout",
     "output_type": "stream",
     "text": [
      "Epoch 200, Loss 0.0202\n",
      "Training Accuracy: 0.9776, Testing Accuracy: 0.9748\n",
      "\n"
     ]
    },
    {
     "name": "stdout",
     "output_type": "stream",
     "text": [
      "Epoch 210, Loss 0.0197\n",
      "Training Accuracy: 0.9786, Testing Accuracy: 0.9748\n",
      "\n"
     ]
    },
    {
     "name": "stdout",
     "output_type": "stream",
     "text": [
      "Epoch 220, Loss 0.0193\n",
      "Training Accuracy: 0.9791, Testing Accuracy: 0.9753\n",
      "\n"
     ]
    },
    {
     "name": "stdout",
     "output_type": "stream",
     "text": [
      "Epoch 230, Loss 0.0188\n",
      "Training Accuracy: 0.9797, Testing Accuracy: 0.9753\n",
      "\n"
     ]
    },
    {
     "name": "stdout",
     "output_type": "stream",
     "text": [
      "Epoch 240, Loss 0.0184\n",
      "Training Accuracy: 0.9800, Testing Accuracy: 0.9758\n",
      "\n"
     ]
    },
    {
     "data": {
      "text/plain": [
       "0.03832080290038402"
      ]
     },
     "execution_count": 22,
     "metadata": {},
     "output_type": "execute_result"
    }
   ],
   "source": [
    "nn_learner.train_loop(dl)"
   ]
  },
  {
   "cell_type": "code",
   "execution_count": 23,
   "id": "e0163366",
   "metadata": {
    "execution": {
     "iopub.execute_input": "2022-10-24T01:02:37.099964Z",
     "iopub.status.busy": "2022-10-24T01:02:37.099372Z",
     "iopub.status.idle": "2022-10-24T01:02:49.952110Z",
     "shell.execute_reply": "2022-10-24T01:02:49.952942Z"
    },
    "papermill": {
     "duration": 12.908126,
     "end_time": "2022-10-24T01:02:49.953093",
     "exception": false,
     "start_time": "2022-10-24T01:02:37.044967",
     "status": "completed"
    },
    "tags": []
   },
   "outputs": [
    {
     "name": "stdout",
     "output_type": "stream",
     "text": [
      "Epoch 0, Loss 0.2065\n",
      "Training Accuracy: 0.7989, Testing Accuracy: 0.7797\n",
      "\n"
     ]
    },
    {
     "name": "stdout",
     "output_type": "stream",
     "text": [
      "Epoch 10, Loss 0.0969\n",
      "Training Accuracy: 0.9190, Testing Accuracy: 0.9284\n",
      "\n"
     ]
    },
    {
     "name": "stdout",
     "output_type": "stream",
     "text": [
      "Epoch 20, Loss 0.076\n",
      "Training Accuracy: 0.9323, Testing Accuracy: 0.9405\n",
      "\n"
     ]
    },
    {
     "name": "stdout",
     "output_type": "stream",
     "text": [
      "Epoch 30, Loss 0.066\n",
      "Training Accuracy: 0.9392, Testing Accuracy: 0.9491\n",
      "\n"
     ]
    },
    {
     "name": "stdout",
     "output_type": "stream",
     "text": [
      "Epoch 40, Loss 0.06\n",
      "Training Accuracy: 0.9433, Testing Accuracy: 0.9546\n",
      "\n"
     ]
    },
    {
     "name": "stdout",
     "output_type": "stream",
     "text": [
      "Epoch 50, Loss 0.0558\n",
      "Training Accuracy: 0.9461, Testing Accuracy: 0.9551\n",
      "\n"
     ]
    },
    {
     "name": "stdout",
     "output_type": "stream",
     "text": [
      "Epoch 60, Loss 0.0527\n",
      "Training Accuracy: 0.9484, Testing Accuracy: 0.9582\n",
      "\n"
     ]
    },
    {
     "name": "stdout",
     "output_type": "stream",
     "text": [
      "Epoch 70, Loss 0.0503\n",
      "Training Accuracy: 0.9508, Testing Accuracy: 0.9587\n",
      "\n"
     ]
    },
    {
     "name": "stdout",
     "output_type": "stream",
     "text": [
      "Epoch 80, Loss 0.0484\n",
      "Training Accuracy: 0.9527, Testing Accuracy: 0.9587\n",
      "\n"
     ]
    },
    {
     "name": "stdout",
     "output_type": "stream",
     "text": [
      "Epoch 90, Loss 0.0468\n",
      "Training Accuracy: 0.9538, Testing Accuracy: 0.9597\n",
      "\n"
     ]
    },
    {
     "name": "stdout",
     "output_type": "stream",
     "text": [
      "Epoch 100, Loss 0.0454\n",
      "Training Accuracy: 0.9551, Testing Accuracy: 0.9597\n",
      "\n"
     ]
    },
    {
     "name": "stdout",
     "output_type": "stream",
     "text": [
      "Epoch 110, Loss 0.0442\n",
      "Training Accuracy: 0.9560, Testing Accuracy: 0.9612\n",
      "\n"
     ]
    },
    {
     "name": "stdout",
     "output_type": "stream",
     "text": [
      "Epoch 120, Loss 0.0432\n",
      "Training Accuracy: 0.9569, Testing Accuracy: 0.9622\n",
      "\n"
     ]
    },
    {
     "name": "stdout",
     "output_type": "stream",
     "text": [
      "Epoch 130, Loss 0.0423\n",
      "Training Accuracy: 0.9580, Testing Accuracy: 0.9627\n",
      "\n"
     ]
    },
    {
     "name": "stdout",
     "output_type": "stream",
     "text": [
      "Epoch 140, Loss 0.0415\n",
      "Training Accuracy: 0.9584, Testing Accuracy: 0.9637\n",
      "\n"
     ]
    },
    {
     "name": "stdout",
     "output_type": "stream",
     "text": [
      "Epoch 150, Loss 0.0408\n",
      "Training Accuracy: 0.9594, Testing Accuracy: 0.9637\n",
      "\n"
     ]
    },
    {
     "name": "stdout",
     "output_type": "stream",
     "text": [
      "Epoch 160, Loss 0.0402\n",
      "Training Accuracy: 0.9594, Testing Accuracy: 0.9642\n",
      "\n"
     ]
    },
    {
     "name": "stdout",
     "output_type": "stream",
     "text": [
      "Epoch 170, Loss 0.0396\n",
      "Training Accuracy: 0.9598, Testing Accuracy: 0.9642\n",
      "\n"
     ]
    },
    {
     "name": "stdout",
     "output_type": "stream",
     "text": [
      "Epoch 180, Loss 0.039\n",
      "Training Accuracy: 0.9601, Testing Accuracy: 0.9642\n",
      "\n"
     ]
    },
    {
     "name": "stdout",
     "output_type": "stream",
     "text": [
      "Epoch 190, Loss 0.0385\n",
      "Training Accuracy: 0.9607, Testing Accuracy: 0.9642\n",
      "\n"
     ]
    },
    {
     "name": "stdout",
     "output_type": "stream",
     "text": [
      "Epoch 200, Loss 0.0381\n",
      "Training Accuracy: 0.9606, Testing Accuracy: 0.9647\n",
      "\n"
     ]
    },
    {
     "name": "stdout",
     "output_type": "stream",
     "text": [
      "Epoch 210, Loss 0.0377\n",
      "Training Accuracy: 0.9608, Testing Accuracy: 0.9647\n",
      "\n"
     ]
    },
    {
     "name": "stdout",
     "output_type": "stream",
     "text": [
      "Epoch 220, Loss 0.0373\n",
      "Training Accuracy: 0.9613, Testing Accuracy: 0.9647\n",
      "\n"
     ]
    },
    {
     "name": "stdout",
     "output_type": "stream",
     "text": [
      "Epoch 230, Loss 0.0369\n",
      "Training Accuracy: 0.9614, Testing Accuracy: 0.9657\n",
      "\n"
     ]
    },
    {
     "name": "stdout",
     "output_type": "stream",
     "text": [
      "Epoch 240, Loss 0.0365\n",
      "Training Accuracy: 0.9619, Testing Accuracy: 0.9657\n",
      "\n"
     ]
    },
    {
     "data": {
      "text/plain": [
       "0.06323081940288267"
      ]
     },
     "execution_count": 23,
     "metadata": {},
     "output_type": "execute_result"
    }
   ],
   "source": [
    "lr_learner.train_loop(dl)"
   ]
  },
  {
   "cell_type": "code",
   "execution_count": 24,
   "id": "ca410940",
   "metadata": {
    "execution": {
     "iopub.execute_input": "2022-10-24T01:02:50.047880Z",
     "iopub.status.busy": "2022-10-24T01:02:50.047298Z",
     "iopub.status.idle": "2022-10-24T01:02:50.261890Z",
     "shell.execute_reply": "2022-10-24T01:02:50.262321Z"
    },
    "papermill": {
     "duration": 0.267857,
     "end_time": "2022-10-24T01:02:50.262463",
     "exception": false,
     "start_time": "2022-10-24T01:02:49.994606",
     "status": "completed"
    },
    "tags": []
   },
   "outputs": [
    {
     "data": {
      "text/plain": [
       "<matplotlib.legend.Legend at 0x7fc2d40be320>"
      ]
     },
     "execution_count": 24,
     "metadata": {},
     "output_type": "execute_result"
    },
    {
     "data": {
      "image/png": "[encoded data removed]",
      "text/plain": [
       "<Figure size 1080x720 with 1 Axes>"
      ]
     },
     "metadata": {
      "needs_background": "light"
     },
     "output_type": "display_data"
    }
   ],
   "source": [
    "#comparing the results of NN and LR\n",
    "plt.figure(figsize=(15,10))\n",
    "\n",
    "# Neural Network plots\n",
    "plt.plot(acc_nn.accuracies, 'r-', label = \"Training Accuracies - NN\")\n",
    "plt.plot(acc_nn.test_accuracies, 'g-', label = \"Testing Accuracies - NN\")\n",
    "\n",
    "# Logistic Regression plots\n",
    "plt.plot(acc_lr.accuracies, 'k-', label = \"Training Accuracies - LR\")\n",
    "plt.plot(acc_lr.test_accuracies, 'b-', label = \"Testing Accuracies - LR\")\n",
    "plt.legend()"
   ]
  },
  {
   "cell_type": "markdown",
   "id": "80dfb35c",
   "metadata": {
    "papermill": {
     "duration": 0.041834,
     "end_time": "2022-10-24T01:02:50.346265",
     "exception": false,
     "start_time": "2022-10-24T01:02:50.304431",
     "status": "completed"
    },
    "tags": []
   },
   "source": [
    "#### Plotting the outputs of this layer of the NN.\n"
   ]
  },
  {
   "cell_type": "code",
   "execution_count": 25,
   "id": "45eb2ff5",
   "metadata": {
    "execution": {
     "iopub.execute_input": "2022-10-24T01:02:50.438092Z",
     "iopub.status.busy": "2022-10-24T01:02:50.434060Z",
     "iopub.status.idle": "2022-10-24T01:02:50.454023Z",
     "shell.execute_reply": "2022-10-24T01:02:50.454487Z"
    },
    "papermill": {
     "duration": 0.066784,
     "end_time": "2022-10-24T01:02:50.454622",
     "exception": false,
     "start_time": "2022-10-24T01:02:50.387838",
     "status": "completed"
    },
    "tags": []
   },
   "outputs": [],
   "source": [
    "new_model = Model(layers[:-2])\n",
    "testing_plot = new_model(testing_data_x)"
   ]
  },
  {
   "cell_type": "code",
   "execution_count": 26,
   "id": "4c0a5485",
   "metadata": {
    "execution": {
     "iopub.execute_input": "2022-10-24T01:02:50.552356Z",
     "iopub.status.busy": "2022-10-24T01:02:50.548886Z",
     "iopub.status.idle": "2022-10-24T01:02:50.733308Z",
     "shell.execute_reply": "2022-10-24T01:02:50.733761Z"
    },
    "papermill": {
     "duration": 0.237258,
     "end_time": "2022-10-24T01:02:50.733899",
     "exception": false,
     "start_time": "2022-10-24T01:02:50.496641",
     "status": "completed"
    },
    "tags": []
   },
   "outputs": [
    {
     "data": {
      "text/plain": [
       "Text(0.5, 1.0, 'Outputs')"
      ]
     },
     "execution_count": 26,
     "metadata": {},
     "output_type": "execute_result"
    },
    {
     "data": {
      "image/png": "[encoded data removed]",
      "text/plain": [
       "<Figure size 576x504 with 1 Axes>"
      ]
     },
     "metadata": {
      "needs_background": "light"
     },
     "output_type": "display_data"
    }
   ],
   "source": [
    "# Plotting the scatter plot of points and color coding by class\n",
    "plt.figure(figsize=(8,7))\n",
    "plt.scatter(testing_plot[:,0], testing_plot[:,1], alpha = 0.1, c = y_test.ravel());\n",
    "plt.title('Outputs')"
   ]
  },
  {
   "cell_type": "markdown",
   "id": "a74fcf8f",
   "metadata": {
    "papermill": {
     "duration": 0.043526,
     "end_time": "2022-10-24T01:02:50.822711",
     "exception": false,
     "start_time": "2022-10-24T01:02:50.779185",
     "status": "completed"
    },
    "tags": []
   },
   "source": [
    "Probability contours"
   ]
  },
  {
   "cell_type": "code",
   "execution_count": 27,
   "id": "d0afc8e3",
   "metadata": {
    "execution": {
     "iopub.execute_input": "2022-10-24T01:02:50.915660Z",
     "iopub.status.busy": "2022-10-24T01:02:50.914787Z",
     "iopub.status.idle": "2022-10-24T01:02:50.926369Z",
     "shell.execute_reply": "2022-10-24T01:02:50.926852Z"
    },
    "papermill": {
     "duration": 0.060711,
     "end_time": "2022-10-24T01:02:50.926982",
     "exception": false,
     "start_time": "2022-10-24T01:02:50.866271",
     "status": "completed"
    },
    "tags": []
   },
   "outputs": [],
   "source": [
    "model_prob = Model(layers[-2:]) "
   ]
  },
  {
   "cell_type": "code",
   "execution_count": 28,
   "id": "9b96e238",
   "metadata": {
    "execution": {
     "iopub.execute_input": "2022-10-24T01:02:51.018918Z",
     "iopub.status.busy": "2022-10-24T01:02:51.018286Z",
     "iopub.status.idle": "2022-10-24T01:02:51.033217Z",
     "shell.execute_reply": "2022-10-24T01:02:51.033634Z"
    },
    "papermill": {
     "duration": 0.063163,
     "end_time": "2022-10-24T01:02:51.033758",
     "exception": false,
     "start_time": "2022-10-24T01:02:50.970595",
     "status": "completed"
    },
    "tags": []
   },
   "outputs": [],
   "source": [
    "#creating the x and y ranges according to the above generated plot.\n",
    "x_range = np.linspace(-4, 1, 100) \n",
    "y_range = np.linspace(-6, 6, 100) \n",
    "x_grid, y_grid = np.meshgrid(x_range, y_range) # x_grid and y_grig are of size 100 X 100\n",
    "\n",
    "# converting x_grid and y_grid to continuous arrays\n",
    "x_gridflat = np.ravel(x_grid)\n",
    "y_gridflat = np.ravel(y_grid)\n",
    "\n",
    "# The last layer of the current model takes two columns as input. Hence transpose of np.vstack() is required.\n",
    "X = np.vstack((x_gridflat, y_gridflat)).T\n",
    "\n",
    "prob_contour = model_prob(X).reshape(100,100) "
   ]
  },
  {
   "cell_type": "code",
   "execution_count": 29,
   "id": "da72499a",
   "metadata": {
    "execution": {
     "iopub.execute_input": "2022-10-24T01:02:51.155704Z",
     "iopub.status.busy": "2022-10-24T01:02:51.155112Z",
     "iopub.status.idle": "2022-10-24T01:02:51.392870Z",
     "shell.execute_reply": "2022-10-24T01:02:51.393307Z"
    },
    "papermill": {
     "duration": 0.290426,
     "end_time": "2022-10-24T01:02:51.393452",
     "exception": false,
     "start_time": "2022-10-24T01:02:51.103026",
     "status": "completed"
    },
    "tags": []
   },
   "outputs": [
    {
     "data": {
      "image/png": "[encoded data removed]",
      "text/plain": [
       "<Figure size 720x648 with 1 Axes>"
      ]
     },
     "metadata": {
      "needs_background": "light"
     },
     "output_type": "display_data"
    }
   ],
   "source": [
    "plt.figure(figsize=(10,9))\n",
    "plt.scatter(testing_plot[:,0], testing_plot[:,1], alpha = 0.1, c = y_test.ravel())\n",
    "contours = plt.contour(x_grid,y_grid,prob_contour)\n",
    "plt.title('Probability Contours')\n",
    "plt.clabel(contours, inline = True );"
   ]
  },
  {
   "cell_type": "code",
   "execution_count": null,
   "id": "e81b4ac7",
   "metadata": {
    "papermill": {
     "duration": 0.046847,
     "end_time": "2022-10-24T01:02:51.487689",
     "exception": false,
     "start_time": "2022-10-24T01:02:51.440842",
     "status": "completed"
    },
    "tags": []
   },
   "outputs": [],
   "source": []
  }
 ],
 "metadata": {
  "kernelspec": {
   "display_name": "Python 3",
   "language": "python",
   "name": "python3"
  },
  "language_info": {
   "codemirror_mode": {
    "name": "ipython",
    "version": 3
   },
   "file_extension": ".py",
   "mimetype": "text/x-python",
   "name": "python",
   "nbconvert_exporter": "python",
   "pygments_lexer": "ipython3",
   "version": "3.6.15"
  },
  "papermill": {
   "default_parameters": {},
   "duration": 94.745293,
   "end_time": "2022-10-24T01:02:51.954237",
   "environment_variables": {},
   "exception": null,
   "input_path": "2020-08-11-part2.ipynb",
   "output_path": "2020-08-11-part2.ipynb",
   "parameters": {},
   "start_time": "2022-10-24T01:01:17.208944",
   "version": "2.3.3"
  }
 },
 "nbformat": 4,
 "nbformat_minor": 5
}