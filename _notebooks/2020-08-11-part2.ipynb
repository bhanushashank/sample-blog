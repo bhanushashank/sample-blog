{
 "cells": [
  {
   "cell_type": "markdown",
   "id": "98380cd3",
   "metadata": {
    "papermill": {
     "duration": 0.027714,
     "end_time": "2021-12-28T10:07:39.808604",
     "exception": false,
     "start_time": "2021-12-28T10:07:39.780890",
     "status": "completed"
    },
    "tags": []
   },
   "source": [
    "# Distinguish Your Own Digits (DYOD)"
   ]
  },
  {
   "cell_type": "markdown",
   "id": "ef31240d",
   "metadata": {
    "papermill": {
     "duration": 0.023269,
     "end_time": "2021-12-28T10:07:39.855905",
     "exception": false,
     "start_time": "2021-12-28T10:07:39.832636",
     "status": "completed"
    },
    "tags": []
   },
   "source": [
    "You are going to write a classifier that distinguishes between the number 3 and number 8."
   ]
  },
  {
   "cell_type": "code",
   "execution_count": 1,
   "id": "b15c8646",
   "metadata": {
    "execution": {
     "iopub.execute_input": "2021-12-28T10:07:39.913430Z",
     "iopub.status.busy": "2021-12-28T10:07:39.912908Z",
     "iopub.status.idle": "2021-12-28T10:07:39.923455Z",
     "shell.execute_reply": "2021-12-28T10:07:39.923016Z"
    },
    "papermill": {
     "duration": 0.044397,
     "end_time": "2021-12-28T10:07:39.923573",
     "exception": false,
     "start_time": "2021-12-28T10:07:39.879176",
     "status": "completed"
    },
    "tags": []
   },
   "outputs": [],
   "source": [
    "%load_ext autoreload\n",
    "%autoreload 2"
   ]
  },
  {
   "cell_type": "code",
   "execution_count": 2,
   "id": "22ef38dc",
   "metadata": {
    "execution": {
     "iopub.execute_input": "2021-12-28T10:07:39.973942Z",
     "iopub.status.busy": "2021-12-28T10:07:39.973431Z",
     "iopub.status.idle": "2021-12-28T10:07:40.546356Z",
     "shell.execute_reply": "2021-12-28T10:07:40.545787Z"
    },
    "papermill": {
     "duration": 0.599526,
     "end_time": "2021-12-28T10:07:40.546515",
     "exception": false,
     "start_time": "2021-12-28T10:07:39.946989",
     "status": "completed"
    },
    "tags": []
   },
   "outputs": [],
   "source": [
    "%matplotlib inline\n",
    "import numpy as np\n",
    "import matplotlib.pyplot as plt\n",
    "import pandas as pd"
   ]
  },
  {
   "cell_type": "markdown",
   "id": "ba036198",
   "metadata": {
    "papermill": {
     "duration": 0.023513,
     "end_time": "2021-12-28T10:07:40.594537",
     "exception": false,
     "start_time": "2021-12-28T10:07:40.571024",
     "status": "completed"
    },
    "tags": []
   },
   "source": [
    "From the command line run `pip install mnist`. This is a library that will help you bring down the mnist dataset. If you run this from a notebook, you need to put  `!pip install mnist` in a cell by itself."
   ]
  },
  {
   "cell_type": "code",
   "execution_count": 3,
   "id": "bb6ad8a1",
   "metadata": {
    "execution": {
     "iopub.execute_input": "2021-12-28T10:07:40.645346Z",
     "iopub.status.busy": "2021-12-28T10:07:40.644848Z",
     "iopub.status.idle": "2021-12-28T10:07:43.112329Z",
     "shell.execute_reply": "2021-12-28T10:07:43.112755Z"
    },
    "papermill": {
     "duration": 2.49487,
     "end_time": "2021-12-28T10:07:43.112909",
     "exception": false,
     "start_time": "2021-12-28T10:07:40.618039",
     "status": "completed"
    },
    "tags": []
   },
   "outputs": [
    {
     "name": "stdout",
     "output_type": "stream",
     "text": [
      "Collecting mnist\r\n"
     ]
    },
    {
     "name": "stdout",
     "output_type": "stream",
     "text": [
      "  Downloading mnist-0.2.2-py2.py3-none-any.whl (3.5 kB)\r\n",
      "Requirement already satisfied: numpy in /opt/hostedtoolcache/Python/3.6.15/x64/lib/python3.6/site-packages (from mnist) (1.19.5)\r\n"
     ]
    },
    {
     "name": "stdout",
     "output_type": "stream",
     "text": [
      "Installing collected packages: mnist\r\n"
     ]
    },
    {
     "name": "stdout",
     "output_type": "stream",
     "text": [
      "Successfully installed mnist-0.2.2\r\n"
     ]
    }
   ],
   "source": [
    "!pip install mnist"
   ]
  },
  {
   "cell_type": "markdown",
   "id": "69df9c9a",
   "metadata": {
    "papermill": {
     "duration": 0.026279,
     "end_time": "2021-12-28T10:07:43.165388",
     "exception": false,
     "start_time": "2021-12-28T10:07:43.139109",
     "status": "completed"
    },
    "tags": []
   },
   "source": [
    "## Preparing the Data"
   ]
  },
  {
   "cell_type": "code",
   "execution_count": 4,
   "id": "7f69d806",
   "metadata": {
    "execution": {
     "iopub.execute_input": "2021-12-28T10:07:43.221945Z",
     "iopub.status.busy": "2021-12-28T10:07:43.221388Z",
     "iopub.status.idle": "2021-12-28T10:07:43.236171Z",
     "shell.execute_reply": "2021-12-28T10:07:43.235744Z"
    },
    "papermill": {
     "duration": 0.045729,
     "end_time": "2021-12-28T10:07:43.236280",
     "exception": false,
     "start_time": "2021-12-28T10:07:43.190551",
     "status": "completed"
    },
    "tags": []
   },
   "outputs": [],
   "source": [
    "import mnist"
   ]
  },
  {
   "cell_type": "code",
   "execution_count": 5,
   "id": "a411e44f",
   "metadata": {
    "execution": {
     "iopub.execute_input": "2021-12-28T10:07:43.299294Z",
     "iopub.status.busy": "2021-12-28T10:07:43.293813Z",
     "iopub.status.idle": "2021-12-28T10:07:43.808485Z",
     "shell.execute_reply": "2021-12-28T10:07:43.807101Z"
    },
    "papermill": {
     "duration": 0.54744,
     "end_time": "2021-12-28T10:07:43.808646",
     "exception": false,
     "start_time": "2021-12-28T10:07:43.261206",
     "status": "completed"
    },
    "tags": []
   },
   "outputs": [],
   "source": [
    "train_images = mnist.train_images()\n",
    "train_labels = mnist.train_labels()"
   ]
  },
  {
   "cell_type": "code",
   "execution_count": 6,
   "id": "dceab3a5",
   "metadata": {
    "execution": {
     "iopub.execute_input": "2021-12-28T10:07:43.861952Z",
     "iopub.status.busy": "2021-12-28T10:07:43.860851Z",
     "iopub.status.idle": "2021-12-28T10:07:43.874667Z",
     "shell.execute_reply": "2021-12-28T10:07:43.875065Z"
    },
    "papermill": {
     "duration": 0.041727,
     "end_time": "2021-12-28T10:07:43.875192",
     "exception": false,
     "start_time": "2021-12-28T10:07:43.833465",
     "status": "completed"
    },
    "tags": []
   },
   "outputs": [
    {
     "data": {
      "text/plain": [
       "((60000, 28, 28), (60000,))"
      ]
     },
     "execution_count": 6,
     "metadata": {},
     "output_type": "execute_result"
    }
   ],
   "source": [
    "train_images.shape, train_labels.shape"
   ]
  },
  {
   "cell_type": "code",
   "execution_count": 7,
   "id": "f50dc2bb",
   "metadata": {
    "execution": {
     "iopub.execute_input": "2021-12-28T10:07:43.927437Z",
     "iopub.status.busy": "2021-12-28T10:07:43.926943Z",
     "iopub.status.idle": "2021-12-28T10:07:44.071752Z",
     "shell.execute_reply": "2021-12-28T10:07:44.071208Z"
    },
    "papermill": {
     "duration": 0.172202,
     "end_time": "2021-12-28T10:07:44.071899",
     "exception": false,
     "start_time": "2021-12-28T10:07:43.899697",
     "status": "completed"
    },
    "tags": []
   },
   "outputs": [],
   "source": [
    "test_images = mnist.test_images()\n",
    "test_labels = mnist.test_labels()"
   ]
  },
  {
   "cell_type": "code",
   "execution_count": 8,
   "id": "fc38cf1b",
   "metadata": {
    "execution": {
     "iopub.execute_input": "2021-12-28T10:07:44.125156Z",
     "iopub.status.busy": "2021-12-28T10:07:44.124660Z",
     "iopub.status.idle": "2021-12-28T10:07:44.138404Z",
     "shell.execute_reply": "2021-12-28T10:07:44.137977Z"
    },
    "papermill": {
     "duration": 0.041454,
     "end_time": "2021-12-28T10:07:44.138518",
     "exception": false,
     "start_time": "2021-12-28T10:07:44.097064",
     "status": "completed"
    },
    "tags": []
   },
   "outputs": [
    {
     "data": {
      "text/plain": [
       "((10000, 28, 28), (10000,))"
      ]
     },
     "execution_count": 8,
     "metadata": {},
     "output_type": "execute_result"
    }
   ],
   "source": [
    "test_images.shape, test_labels.shape"
   ]
  },
  {
   "cell_type": "code",
   "execution_count": 9,
   "id": "f9ed8fe0",
   "metadata": {
    "execution": {
     "iopub.execute_input": "2021-12-28T10:07:44.203329Z",
     "iopub.status.busy": "2021-12-28T10:07:44.202835Z",
     "iopub.status.idle": "2021-12-28T10:07:44.335441Z",
     "shell.execute_reply": "2021-12-28T10:07:44.335856Z"
    },
    "papermill": {
     "duration": 0.1724,
     "end_time": "2021-12-28T10:07:44.335997",
     "exception": false,
     "start_time": "2021-12-28T10:07:44.163597",
     "status": "completed"
    },
    "tags": []
   },
   "outputs": [
    {
     "name": "stdout",
     "output_type": "stream",
     "text": [
      "2\n"
     ]
    },
    {
     "data": {
      "text/plain": [
       "<matplotlib.image.AxesImage at 0x7f25463384e0>"
      ]
     },
     "execution_count": 9,
     "metadata": {},
     "output_type": "execute_result"
    },
    {
     "data": {
      "image/png": "[encoded data removed]",
      "text/plain": [
       "<Figure size 432x288 with 1 Axes>"
      ]
     },
     "metadata": {
      "needs_background": "light"
     },
     "output_type": "display_data"
    }
   ],
   "source": [
    "image_index = 7776 # You may select anything up to 60,000\n",
    "print(train_labels[image_index]) \n",
    "plt.imshow(train_images[image_index], cmap='Greys')"
   ]
  },
  {
   "cell_type": "markdown",
   "id": "a8d2388d",
   "metadata": {
    "papermill": {
     "duration": 0.02612,
     "end_time": "2021-12-28T10:07:44.388484",
     "exception": false,
     "start_time": "2021-12-28T10:07:44.362364",
     "status": "completed"
    },
    "tags": []
   },
   "source": [
    "## Filter data to get 3 and 8 out"
   ]
  },
  {
   "cell_type": "code",
   "execution_count": 10,
   "id": "776f7fc7",
   "metadata": {
    "execution": {
     "iopub.execute_input": "2021-12-28T10:07:44.459168Z",
     "iopub.status.busy": "2021-12-28T10:07:44.454920Z",
     "iopub.status.idle": "2021-12-28T10:07:44.466274Z",
     "shell.execute_reply": "2021-12-28T10:07:44.465841Z"
    },
    "papermill": {
     "duration": 0.05188,
     "end_time": "2021-12-28T10:07:44.466393",
     "exception": false,
     "start_time": "2021-12-28T10:07:44.414513",
     "status": "completed"
    },
    "tags": []
   },
   "outputs": [],
   "source": [
    "train_filter = np.where((train_labels == 3 ) | (train_labels == 8))\n",
    "test_filter = np.where((test_labels == 3) | (test_labels == 8))\n",
    "X_train, y_train = train_images[train_filter], train_labels[train_filter]\n",
    "X_test, y_test = test_images[test_filter], test_labels[test_filter]"
   ]
  },
  {
   "cell_type": "markdown",
   "id": "948f0b7e",
   "metadata": {
    "papermill": {
     "duration": 0.026034,
     "end_time": "2021-12-28T10:07:44.518629",
     "exception": false,
     "start_time": "2021-12-28T10:07:44.492595",
     "status": "completed"
    },
    "tags": []
   },
   "source": [
    "We normalize the pizel values in the 0 to 1 range"
   ]
  },
  {
   "cell_type": "code",
   "execution_count": 11,
   "id": "ee4c2166",
   "metadata": {
    "execution": {
     "iopub.execute_input": "2021-12-28T10:07:44.587211Z",
     "iopub.status.busy": "2021-12-28T10:07:44.581900Z",
     "iopub.status.idle": "2021-12-28T10:07:44.627087Z",
     "shell.execute_reply": "2021-12-28T10:07:44.626566Z"
    },
    "papermill": {
     "duration": 0.082715,
     "end_time": "2021-12-28T10:07:44.627229",
     "exception": false,
     "start_time": "2021-12-28T10:07:44.544514",
     "status": "completed"
    },
    "tags": []
   },
   "outputs": [],
   "source": [
    "X_train = X_train/255.\n",
    "X_test = X_test/255."
   ]
  },
  {
   "cell_type": "markdown",
   "id": "ddcf4fab",
   "metadata": {
    "papermill": {
     "duration": 0.028005,
     "end_time": "2021-12-28T10:07:44.681849",
     "exception": false,
     "start_time": "2021-12-28T10:07:44.653844",
     "status": "completed"
    },
    "tags": []
   },
   "source": [
    "And setup the labels as 1 (when the digit is 3) and 0 (when the digit is 8)"
   ]
  },
  {
   "cell_type": "code",
   "execution_count": 12,
   "id": "7dc908f2",
   "metadata": {
    "execution": {
     "iopub.execute_input": "2021-12-28T10:07:44.743382Z",
     "iopub.status.busy": "2021-12-28T10:07:44.742856Z",
     "iopub.status.idle": "2021-12-28T10:07:44.749068Z",
     "shell.execute_reply": "2021-12-28T10:07:44.748621Z"
    },
    "papermill": {
     "duration": 0.041324,
     "end_time": "2021-12-28T10:07:44.749179",
     "exception": false,
     "start_time": "2021-12-28T10:07:44.707855",
     "status": "completed"
    },
    "tags": []
   },
   "outputs": [],
   "source": [
    "y_train = 1*(y_train==3)\n",
    "y_test = 1*(y_test==3)"
   ]
  },
  {
   "cell_type": "code",
   "execution_count": 13,
   "id": "01e4e969",
   "metadata": {
    "execution": {
     "iopub.execute_input": "2021-12-28T10:07:44.807984Z",
     "iopub.status.busy": "2021-12-28T10:07:44.807449Z",
     "iopub.status.idle": "2021-12-28T10:07:44.819908Z",
     "shell.execute_reply": "2021-12-28T10:07:44.819473Z"
    },
    "papermill": {
     "duration": 0.044508,
     "end_time": "2021-12-28T10:07:44.820017",
     "exception": false,
     "start_time": "2021-12-28T10:07:44.775509",
     "status": "completed"
    },
    "tags": []
   },
   "outputs": [
    {
     "data": {
      "text/plain": [
       "((11982, 28, 28), (1984, 28, 28))"
      ]
     },
     "execution_count": 13,
     "metadata": {},
     "output_type": "execute_result"
    }
   ],
   "source": [
    "X_train.shape, X_test.shape"
   ]
  },
  {
   "cell_type": "markdown",
   "id": "5ccf3f85",
   "metadata": {
    "papermill": {
     "duration": 0.026263,
     "end_time": "2021-12-28T10:07:44.872620",
     "exception": false,
     "start_time": "2021-12-28T10:07:44.846357",
     "status": "completed"
    },
    "tags": []
   },
   "source": [
    "We reshape the data to flatten the image pixels into a set of features or co-variates:"
   ]
  },
  {
   "cell_type": "code",
   "execution_count": 14,
   "id": "5286a4a3",
   "metadata": {
    "execution": {
     "iopub.execute_input": "2021-12-28T10:07:44.939748Z",
     "iopub.status.busy": "2021-12-28T10:07:44.938908Z",
     "iopub.status.idle": "2021-12-28T10:07:44.947856Z",
     "shell.execute_reply": "2021-12-28T10:07:44.947433Z"
    },
    "papermill": {
     "duration": 0.048823,
     "end_time": "2021-12-28T10:07:44.947963",
     "exception": false,
     "start_time": "2021-12-28T10:07:44.899140",
     "status": "completed"
    },
    "tags": []
   },
   "outputs": [
    {
     "data": {
      "text/plain": [
       "((11982, 784), (1984, 784))"
      ]
     },
     "execution_count": 14,
     "metadata": {},
     "output_type": "execute_result"
    }
   ],
   "source": [
    "X_train = X_train.reshape(X_train.shape[0], -1)\n",
    "X_test = X_test.reshape(X_test.shape[0], -1)\n",
    "X_train.shape, X_test.shape"
   ]
  },
  {
   "cell_type": "code",
   "execution_count": 15,
   "id": "73c5f88a",
   "metadata": {
    "execution": {
     "iopub.execute_input": "2021-12-28T10:07:45.011914Z",
     "iopub.status.busy": "2021-12-28T10:07:45.011322Z",
     "iopub.status.idle": "2021-12-28T10:07:45.026011Z",
     "shell.execute_reply": "2021-12-28T10:07:45.025603Z"
    },
    "papermill": {
     "duration": 0.051665,
     "end_time": "2021-12-28T10:07:45.026118",
     "exception": false,
     "start_time": "2021-12-28T10:07:44.974453",
     "status": "completed"
    },
    "tags": []
   },
   "outputs": [],
   "source": [
    "#Impoting functions from 'Kudzu'\n",
    "from kudzu.model import Model\n",
    "from kudzu.train import Learner\n",
    "from kudzu.optim import GD\n",
    "from kudzu.data import Data, Sampler,Dataloader\n",
    "\n",
    "from kudzu.callbacks import AccCallback\n",
    "from kudzu.callbacks import ClfCallback\n",
    "\n",
    "from kudzu.loss import MSE\n",
    "\n",
    "from kudzu.layer import Sigmoid,Relu\n",
    "from kudzu.layer import Affine"
   ]
  },
  {
   "cell_type": "markdown",
   "id": "bc01172a",
   "metadata": {
    "papermill": {
     "duration": 0.026358,
     "end_time": "2021-12-28T10:07:45.079049",
     "exception": false,
     "start_time": "2021-12-28T10:07:45.052691",
     "status": "completed"
    },
    "tags": []
   },
   "source": [
    "### Let us create a `Config` class, to store important parameters. \n",
    "This class essentially plays the role of a dictionary."
   ]
  },
  {
   "cell_type": "code",
   "execution_count": 16,
   "id": "978281aa",
   "metadata": {
    "execution": {
     "iopub.execute_input": "2021-12-28T10:07:45.136654Z",
     "iopub.status.busy": "2021-12-28T10:07:45.135915Z",
     "iopub.status.idle": "2021-12-28T10:07:45.147742Z",
     "shell.execute_reply": "2021-12-28T10:07:45.147319Z"
    },
    "papermill": {
     "duration": 0.042429,
     "end_time": "2021-12-28T10:07:45.147846",
     "exception": false,
     "start_time": "2021-12-28T10:07:45.105417",
     "status": "completed"
    },
    "tags": []
   },
   "outputs": [],
   "source": [
    "class Config:\n",
    "    pass\n",
    "config = Config()\n",
    "config.lr = 0.001\n",
    "config.num_epochs = 250\n",
    "config.bs = 50"
   ]
  },
  {
   "cell_type": "markdown",
   "id": "1385fa59",
   "metadata": {
    "papermill": {
     "duration": 0.026234,
     "end_time": "2021-12-28T10:07:45.200905",
     "exception": false,
     "start_time": "2021-12-28T10:07:45.174671",
     "status": "completed"
    },
    "tags": []
   },
   "source": [
    "### Running Models with the Training data\n",
    "Details about the network layers:\n",
    "- A first affine layer has 784 inputs and does 100 affine transforms. These are followed by a Relu\n",
    "- A second affine layer has 100 inputs from the 100 activations of the past layer, and does 100 affine transforms. These are followed by a Relu\n",
    "- A third affine layer has 100 activations and does 2 affine transformations to create an embedding for visualization. There is no non-linearity here.\n",
    "- A final \"logistic regression\" which has an affine transform from 2 inputs to 1 output, which is squeezed through a sigmoid.\n"
   ]
  },
  {
   "cell_type": "code",
   "execution_count": 17,
   "id": "2b9c66db",
   "metadata": {
    "execution": {
     "iopub.execute_input": "2021-12-28T10:07:45.259331Z",
     "iopub.status.busy": "2021-12-28T10:07:45.258835Z",
     "iopub.status.idle": "2021-12-28T10:07:45.269627Z",
     "shell.execute_reply": "2021-12-28T10:07:45.269224Z"
    },
    "papermill": {
     "duration": 0.04236,
     "end_time": "2021-12-28T10:07:45.269729",
     "exception": false,
     "start_time": "2021-12-28T10:07:45.227369",
     "status": "completed"
    },
    "tags": []
   },
   "outputs": [],
   "source": [
    "data = Data(X_train, y_train.reshape(-1,1))\n",
    "sampler = Sampler(data, config.bs, shuffle=True)\n",
    "\n",
    "dl = Dataloader(data, sampler)\n",
    "\n",
    "opt = GD(config.lr)\n",
    "loss = MSE()"
   ]
  },
  {
   "cell_type": "code",
   "execution_count": 18,
   "id": "b275e4c2",
   "metadata": {
    "execution": {
     "iopub.execute_input": "2021-12-28T10:07:45.330676Z",
     "iopub.status.busy": "2021-12-28T10:07:45.330116Z",
     "iopub.status.idle": "2021-12-28T10:07:45.339999Z",
     "shell.execute_reply": "2021-12-28T10:07:45.339595Z"
    },
    "papermill": {
     "duration": 0.043797,
     "end_time": "2021-12-28T10:07:45.340111",
     "exception": false,
     "start_time": "2021-12-28T10:07:45.296314",
     "status": "completed"
    },
    "tags": []
   },
   "outputs": [],
   "source": [
    "training_data_x = X_train\n",
    "testing_data_x = X_test\n",
    "training_data_y = y_train.reshape(-1,1)\n",
    "testing_data_y = y_test.reshape(-1,1)"
   ]
  },
  {
   "cell_type": "code",
   "execution_count": 19,
   "id": "76951160",
   "metadata": {
    "execution": {
     "iopub.execute_input": "2021-12-28T10:07:45.398768Z",
     "iopub.status.busy": "2021-12-28T10:07:45.397702Z",
     "iopub.status.idle": "2021-12-28T10:07:45.412637Z",
     "shell.execute_reply": "2021-12-28T10:07:45.413014Z"
    },
    "papermill": {
     "duration": 0.046432,
     "end_time": "2021-12-28T10:07:45.413140",
     "exception": false,
     "start_time": "2021-12-28T10:07:45.366708",
     "status": "completed"
    },
    "tags": []
   },
   "outputs": [
    {
     "name": "stdout",
     "output_type": "stream",
     "text": [
      "xavier\n",
      "xavier\n",
      "xavier\n",
      "xavier\n",
      "xavier\n"
     ]
    }
   ],
   "source": [
    "layers = [Affine(\"first\", 784, 100), Relu(\"first\"), Affine(\"second\", 100, 100), Relu(\"second\"), Affine(\"third\", 100, 2), Affine(\"last\", 2, 1), Sigmoid(\"last\")]\n",
    "model_nn = Model(layers)\n",
    "model_lr = Model([Affine(\"logits\", 784, 1), Sigmoid(\"sigmoid\")])"
   ]
  },
  {
   "cell_type": "code",
   "execution_count": 20,
   "id": "6eede77a",
   "metadata": {
    "execution": {
     "iopub.execute_input": "2021-12-28T10:07:45.471831Z",
     "iopub.status.busy": "2021-12-28T10:07:45.471299Z",
     "iopub.status.idle": "2021-12-28T10:07:45.483791Z",
     "shell.execute_reply": "2021-12-28T10:07:45.483379Z"
    },
    "papermill": {
     "duration": 0.043718,
     "end_time": "2021-12-28T10:07:45.483906",
     "exception": false,
     "start_time": "2021-12-28T10:07:45.440188",
     "status": "completed"
    },
    "tags": []
   },
   "outputs": [],
   "source": [
    "nn_learner = Learner(loss, model_nn, opt, config.num_epochs)\n",
    "acc_nn = ClfCallback(nn_learner, config.bs, training_data_x , testing_data_x, training_data_y, testing_data_y)\n",
    "nn_learner.set_callbacks([acc_nn])"
   ]
  },
  {
   "cell_type": "code",
   "execution_count": 21,
   "id": "877b6cc7",
   "metadata": {
    "execution": {
     "iopub.execute_input": "2021-12-28T10:07:45.542963Z",
     "iopub.status.busy": "2021-12-28T10:07:45.542440Z",
     "iopub.status.idle": "2021-12-28T10:07:45.554235Z",
     "shell.execute_reply": "2021-12-28T10:07:45.553810Z"
    },
    "papermill": {
     "duration": 0.043614,
     "end_time": "2021-12-28T10:07:45.554352",
     "exception": false,
     "start_time": "2021-12-28T10:07:45.510738",
     "status": "completed"
    },
    "tags": []
   },
   "outputs": [],
   "source": [
    "lr_learner = Learner(loss, model_lr, opt, config.num_epochs)\n",
    "acc_lr = ClfCallback(lr_learner, config.bs, training_data_x , testing_data_x, training_data_y, testing_data_y)\n",
    "lr_learner.set_callbacks([acc_lr])"
   ]
  },
  {
   "cell_type": "code",
   "execution_count": 22,
   "id": "d9b133c3",
   "metadata": {
    "execution": {
     "iopub.execute_input": "2021-12-28T10:07:45.612932Z",
     "iopub.status.busy": "2021-12-28T10:07:45.612409Z",
     "iopub.status.idle": "2021-12-28T10:09:01.110527Z",
     "shell.execute_reply": "2021-12-28T10:09:01.111276Z"
    },
    "papermill": {
     "duration": 75.530155,
     "end_time": "2021-12-28T10:09:01.111425",
     "exception": false,
     "start_time": "2021-12-28T10:07:45.581270",
     "status": "completed"
    },
    "tags": []
   },
   "outputs": [
    {
     "name": "stdout",
     "output_type": "stream",
     "text": [
      "Epoch 0, Loss 0.2479\n",
      "Training Accuracy: 0.7560, Testing Accuracy: 0.7591\n",
      "\n"
     ]
    },
    {
     "name": "stdout",
     "output_type": "stream",
     "text": [
      "Epoch 10, Loss 0.0564\n",
      "Training Accuracy: 0.9392, Testing Accuracy: 0.9481\n",
      "\n"
     ]
    },
    {
     "name": "stdout",
     "output_type": "stream",
     "text": [
      "Epoch 20, Loss 0.0393\n",
      "Training Accuracy: 0.9546, Testing Accuracy: 0.9632\n",
      "\n"
     ]
    },
    {
     "name": "stdout",
     "output_type": "stream",
     "text": [
      "Epoch 30, Loss 0.0328\n",
      "Training Accuracy: 0.9627, Testing Accuracy: 0.9677\n",
      "\n"
     ]
    },
    {
     "name": "stdout",
     "output_type": "stream",
     "text": [
      "Epoch 40, Loss 0.0291\n",
      "Training Accuracy: 0.9663, Testing Accuracy: 0.9723\n",
      "\n"
     ]
    },
    {
     "name": "stdout",
     "output_type": "stream",
     "text": [
      "Epoch 50, Loss 0.0266\n",
      "Training Accuracy: 0.9696, Testing Accuracy: 0.9733\n",
      "\n"
     ]
    },
    {
     "name": "stdout",
     "output_type": "stream",
     "text": [
      "Epoch 60, Loss 0.0248\n",
      "Training Accuracy: 0.9720, Testing Accuracy: 0.9753\n",
      "\n"
     ]
    },
    {
     "name": "stdout",
     "output_type": "stream",
     "text": [
      "Epoch 70, Loss 0.0233\n",
      "Training Accuracy: 0.9740, Testing Accuracy: 0.9763\n",
      "\n"
     ]
    },
    {
     "name": "stdout",
     "output_type": "stream",
     "text": [
      "Epoch 80, Loss 0.0221\n",
      "Training Accuracy: 0.9751, Testing Accuracy: 0.9763\n",
      "\n"
     ]
    },
    {
     "name": "stdout",
     "output_type": "stream",
     "text": [
      "Epoch 90, Loss 0.021\n",
      "Training Accuracy: 0.9765, Testing Accuracy: 0.9763\n",
      "\n"
     ]
    },
    {
     "name": "stdout",
     "output_type": "stream",
     "text": [
      "Epoch 100, Loss 0.02\n",
      "Training Accuracy: 0.9779, Testing Accuracy: 0.9773\n",
      "\n"
     ]
    },
    {
     "name": "stdout",
     "output_type": "stream",
     "text": [
      "Epoch 110, Loss 0.0192\n",
      "Training Accuracy: 0.9788, Testing Accuracy: 0.9773\n",
      "\n"
     ]
    },
    {
     "name": "stdout",
     "output_type": "stream",
     "text": [
      "Epoch 120, Loss 0.0184\n",
      "Training Accuracy: 0.9801, Testing Accuracy: 0.9763\n",
      "\n"
     ]
    },
    {
     "name": "stdout",
     "output_type": "stream",
     "text": [
      "Epoch 130, Loss 0.0177\n",
      "Training Accuracy: 0.9811, Testing Accuracy: 0.9763\n",
      "\n"
     ]
    },
    {
     "name": "stdout",
     "output_type": "stream",
     "text": [
      "Epoch 140, Loss 0.017\n",
      "Training Accuracy: 0.9816, Testing Accuracy: 0.9763\n",
      "\n"
     ]
    },
    {
     "name": "stdout",
     "output_type": "stream",
     "text": [
      "Epoch 150, Loss 0.0164\n",
      "Training Accuracy: 0.9823, Testing Accuracy: 0.9768\n",
      "\n"
     ]
    },
    {
     "name": "stdout",
     "output_type": "stream",
     "text": [
      "Epoch 160, Loss 0.0158\n",
      "Training Accuracy: 0.9831, Testing Accuracy: 0.9773\n",
      "\n"
     ]
    },
    {
     "name": "stdout",
     "output_type": "stream",
     "text": [
      "Epoch 170, Loss 0.0153\n",
      "Training Accuracy: 0.9840, Testing Accuracy: 0.9778\n",
      "\n"
     ]
    },
    {
     "name": "stdout",
     "output_type": "stream",
     "text": [
      "Epoch 180, Loss 0.0148\n",
      "Training Accuracy: 0.9846, Testing Accuracy: 0.9778\n",
      "\n"
     ]
    },
    {
     "name": "stdout",
     "output_type": "stream",
     "text": [
      "Epoch 190, Loss 0.0143\n",
      "Training Accuracy: 0.9855, Testing Accuracy: 0.9783\n",
      "\n"
     ]
    },
    {
     "name": "stdout",
     "output_type": "stream",
     "text": [
      "Epoch 200, Loss 0.0139\n",
      "Training Accuracy: 0.9856, Testing Accuracy: 0.9793\n",
      "\n"
     ]
    },
    {
     "name": "stdout",
     "output_type": "stream",
     "text": [
      "Epoch 210, Loss 0.0135\n",
      "Training Accuracy: 0.9859, Testing Accuracy: 0.9798\n",
      "\n"
     ]
    },
    {
     "name": "stdout",
     "output_type": "stream",
     "text": [
      "Epoch 220, Loss 0.0131\n",
      "Training Accuracy: 0.9865, Testing Accuracy: 0.9803\n",
      "\n"
     ]
    },
    {
     "name": "stdout",
     "output_type": "stream",
     "text": [
      "Epoch 230, Loss 0.0127\n",
      "Training Accuracy: 0.9870, Testing Accuracy: 0.9803\n",
      "\n"
     ]
    },
    {
     "name": "stdout",
     "output_type": "stream",
     "text": [
      "Epoch 240, Loss 0.0123\n",
      "Training Accuracy: 0.9878, Testing Accuracy: 0.9803\n",
      "\n"
     ]
    },
    {
     "data": {
      "text/plain": [
       "0.06354065948510718"
      ]
     },
     "execution_count": 22,
     "metadata": {},
     "output_type": "execute_result"
    }
   ],
   "source": [
    "nn_learner.train_loop(dl)"
   ]
  },
  {
   "cell_type": "code",
   "execution_count": 23,
   "id": "e0163366",
   "metadata": {
    "execution": {
     "iopub.execute_input": "2021-12-28T10:09:01.191505Z",
     "iopub.status.busy": "2021-12-28T10:09:01.190999Z",
     "iopub.status.idle": "2021-12-28T10:09:14.934590Z",
     "shell.execute_reply": "2021-12-28T10:09:14.935332Z"
    },
    "papermill": {
     "duration": 13.788375,
     "end_time": "2021-12-28T10:09:14.935488",
     "exception": false,
     "start_time": "2021-12-28T10:09:01.147113",
     "status": "completed"
    },
    "tags": []
   },
   "outputs": [
    {
     "name": "stdout",
     "output_type": "stream",
     "text": [
      "Epoch 0, Loss 0.2265\n",
      "Training Accuracy: 0.7382, Testing Accuracy: 0.7450\n",
      "\n"
     ]
    },
    {
     "name": "stdout",
     "output_type": "stream",
     "text": [
      "Epoch 10, Loss 0.1032\n",
      "Training Accuracy: 0.9042, Testing Accuracy: 0.9138\n",
      "\n"
     ]
    },
    {
     "name": "stdout",
     "output_type": "stream",
     "text": [
      "Epoch 20, Loss 0.0799\n",
      "Training Accuracy: 0.9252, Testing Accuracy: 0.9335\n",
      "\n"
     ]
    },
    {
     "name": "stdout",
     "output_type": "stream",
     "text": [
      "Epoch 30, Loss 0.0688\n",
      "Training Accuracy: 0.9343, Testing Accuracy: 0.9441\n",
      "\n"
     ]
    },
    {
     "name": "stdout",
     "output_type": "stream",
     "text": [
      "Epoch 40, Loss 0.0621\n",
      "Training Accuracy: 0.9395, Testing Accuracy: 0.9501\n",
      "\n"
     ]
    },
    {
     "name": "stdout",
     "output_type": "stream",
     "text": [
      "Epoch 50, Loss 0.0575\n",
      "Training Accuracy: 0.9436, Testing Accuracy: 0.9541\n",
      "\n"
     ]
    },
    {
     "name": "stdout",
     "output_type": "stream",
     "text": [
      "Epoch 60, Loss 0.0541\n",
      "Training Accuracy: 0.9458, Testing Accuracy: 0.9567\n",
      "\n"
     ]
    },
    {
     "name": "stdout",
     "output_type": "stream",
     "text": [
      "Epoch 70, Loss 0.0515\n",
      "Training Accuracy: 0.9482, Testing Accuracy: 0.9577\n",
      "\n"
     ]
    },
    {
     "name": "stdout",
     "output_type": "stream",
     "text": [
      "Epoch 80, Loss 0.0494\n",
      "Training Accuracy: 0.9492, Testing Accuracy: 0.9592\n",
      "\n"
     ]
    },
    {
     "name": "stdout",
     "output_type": "stream",
     "text": [
      "Epoch 90, Loss 0.0477\n",
      "Training Accuracy: 0.9509, Testing Accuracy: 0.9607\n",
      "\n"
     ]
    },
    {
     "name": "stdout",
     "output_type": "stream",
     "text": [
      "Epoch 100, Loss 0.0462\n",
      "Training Accuracy: 0.9525, Testing Accuracy: 0.9632\n",
      "\n"
     ]
    },
    {
     "name": "stdout",
     "output_type": "stream",
     "text": [
      "Epoch 110, Loss 0.045\n",
      "Training Accuracy: 0.9537, Testing Accuracy: 0.9642\n",
      "\n"
     ]
    },
    {
     "name": "stdout",
     "output_type": "stream",
     "text": [
      "Epoch 120, Loss 0.0439\n",
      "Training Accuracy: 0.9543, Testing Accuracy: 0.9647\n",
      "\n"
     ]
    },
    {
     "name": "stdout",
     "output_type": "stream",
     "text": [
      "Epoch 130, Loss 0.043\n",
      "Training Accuracy: 0.9547, Testing Accuracy: 0.9657\n",
      "\n"
     ]
    },
    {
     "name": "stdout",
     "output_type": "stream",
     "text": [
      "Epoch 140, Loss 0.0421\n",
      "Training Accuracy: 0.9560, Testing Accuracy: 0.9652\n",
      "\n"
     ]
    },
    {
     "name": "stdout",
     "output_type": "stream",
     "text": [
      "Epoch 150, Loss 0.0414\n",
      "Training Accuracy: 0.9572, Testing Accuracy: 0.9652\n",
      "\n"
     ]
    },
    {
     "name": "stdout",
     "output_type": "stream",
     "text": [
      "Epoch 160, Loss 0.0407\n",
      "Training Accuracy: 0.9581, Testing Accuracy: 0.9657\n",
      "\n"
     ]
    },
    {
     "name": "stdout",
     "output_type": "stream",
     "text": [
      "Epoch 170, Loss 0.0401\n",
      "Training Accuracy: 0.9588, Testing Accuracy: 0.9662\n",
      "\n"
     ]
    },
    {
     "name": "stdout",
     "output_type": "stream",
     "text": [
      "Epoch 180, Loss 0.0395\n",
      "Training Accuracy: 0.9590, Testing Accuracy: 0.9667\n",
      "\n"
     ]
    },
    {
     "name": "stdout",
     "output_type": "stream",
     "text": [
      "Epoch 190, Loss 0.039\n",
      "Training Accuracy: 0.9593, Testing Accuracy: 0.9677\n",
      "\n"
     ]
    },
    {
     "name": "stdout",
     "output_type": "stream",
     "text": [
      "Epoch 200, Loss 0.0385\n",
      "Training Accuracy: 0.9599, Testing Accuracy: 0.9677\n",
      "\n"
     ]
    },
    {
     "name": "stdout",
     "output_type": "stream",
     "text": [
      "Epoch 210, Loss 0.038\n",
      "Training Accuracy: 0.9604, Testing Accuracy: 0.9677\n",
      "\n"
     ]
    },
    {
     "name": "stdout",
     "output_type": "stream",
     "text": [
      "Epoch 220, Loss 0.0376\n",
      "Training Accuracy: 0.9606, Testing Accuracy: 0.9677\n",
      "\n"
     ]
    },
    {
     "name": "stdout",
     "output_type": "stream",
     "text": [
      "Epoch 230, Loss 0.0372\n",
      "Training Accuracy: 0.9611, Testing Accuracy: 0.9677\n",
      "\n"
     ]
    },
    {
     "name": "stdout",
     "output_type": "stream",
     "text": [
      "Epoch 240, Loss 0.0369\n",
      "Training Accuracy: 0.9614, Testing Accuracy: 0.9672\n",
      "\n"
     ]
    },
    {
     "data": {
      "text/plain": [
       "0.02627075009976822"
      ]
     },
     "execution_count": 23,
     "metadata": {},
     "output_type": "execute_result"
    }
   ],
   "source": [
    "lr_learner.train_loop(dl)"
   ]
  },
  {
   "cell_type": "code",
   "execution_count": 24,
   "id": "ca410940",
   "metadata": {
    "execution": {
     "iopub.execute_input": "2021-12-28T10:09:15.027446Z",
     "iopub.status.busy": "2021-12-28T10:09:15.026922Z",
     "iopub.status.idle": "2021-12-28T10:09:15.248495Z",
     "shell.execute_reply": "2021-12-28T10:09:15.248908Z"
    },
    "papermill": {
     "duration": 0.272648,
     "end_time": "2021-12-28T10:09:15.249050",
     "exception": false,
     "start_time": "2021-12-28T10:09:14.976402",
     "status": "completed"
    },
    "tags": []
   },
   "outputs": [
    {
     "data": {
      "text/plain": [
       "<matplotlib.legend.Legend at 0x7f2545f13cc0>"
      ]
     },
     "execution_count": 24,
     "metadata": {},
     "output_type": "execute_result"
    },
    {
     "data": {
      "image/png": "[encoded data removed]",
      "text/plain": [
       "<Figure size 1080x720 with 1 Axes>"
      ]
     },
     "metadata": {
      "needs_background": "light"
     },
     "output_type": "display_data"
    }
   ],
   "source": [
    "#comparing the results of NN and LR\n",
    "plt.figure(figsize=(15,10))\n",
    "\n",
    "# Neural Network plots\n",
    "plt.plot(acc_nn.accuracies, 'r-', label = \"Training Accuracies - NN\")\n",
    "plt.plot(acc_nn.test_accuracies, 'g-', label = \"Testing Accuracies - NN\")\n",
    "\n",
    "# Logistic Regression plots\n",
    "plt.plot(acc_lr.accuracies, 'k-', label = \"Training Accuracies - LR\")\n",
    "plt.plot(acc_lr.test_accuracies, 'b-', label = \"Testing Accuracies - LR\")\n",
    "plt.legend()"
   ]
  },
  {
   "cell_type": "markdown",
   "id": "80dfb35c",
   "metadata": {
    "papermill": {
     "duration": 0.041546,
     "end_time": "2021-12-28T10:09:15.332451",
     "exception": false,
     "start_time": "2021-12-28T10:09:15.290905",
     "status": "completed"
    },
    "tags": []
   },
   "source": [
    "#### Plotting the outputs of this layer of the NN.\n"
   ]
  },
  {
   "cell_type": "code",
   "execution_count": 25,
   "id": "45eb2ff5",
   "metadata": {
    "execution": {
     "iopub.execute_input": "2021-12-28T10:09:15.424973Z",
     "iopub.status.busy": "2021-12-28T10:09:15.424089Z",
     "iopub.status.idle": "2021-12-28T10:09:15.440639Z",
     "shell.execute_reply": "2021-12-28T10:09:15.441038Z"
    },
    "papermill": {
     "duration": 0.067292,
     "end_time": "2021-12-28T10:09:15.441166",
     "exception": false,
     "start_time": "2021-12-28T10:09:15.373874",
     "status": "completed"
    },
    "tags": []
   },
   "outputs": [],
   "source": [
    "new_model = Model(layers[:-2])\n",
    "testing_plot = new_model(testing_data_x)"
   ]
  },
  {
   "cell_type": "code",
   "execution_count": 26,
   "id": "4c0a5485",
   "metadata": {
    "execution": {
     "iopub.execute_input": "2021-12-28T10:09:15.528359Z",
     "iopub.status.busy": "2021-12-28T10:09:15.527854Z",
     "iopub.status.idle": "2021-12-28T10:09:15.709161Z",
     "shell.execute_reply": "2021-12-28T10:09:15.708666Z"
    },
    "papermill": {
     "duration": 0.225942,
     "end_time": "2021-12-28T10:09:15.709290",
     "exception": false,
     "start_time": "2021-12-28T10:09:15.483348",
     "status": "completed"
    },
    "tags": []
   },
   "outputs": [
    {
     "data": {
      "text/plain": [
       "Text(0.5, 1.0, 'Outputs')"
      ]
     },
     "execution_count": 26,
     "metadata": {},
     "output_type": "execute_result"
    },
    {
     "data": {
      "image/png": "[encoded data removed]",
      "text/plain": [
       "<Figure size 576x504 with 1 Axes>"
      ]
     },
     "metadata": {
      "needs_background": "light"
     },
     "output_type": "display_data"
    }
   ],
   "source": [
    "# Plotting the scatter plot of points and color coding by class\n",
    "plt.figure(figsize=(8,7))\n",
    "plt.scatter(testing_plot[:,0], testing_plot[:,1], alpha = 0.1, c = y_test.ravel());\n",
    "plt.title('Outputs')"
   ]
  },
  {
   "cell_type": "markdown",
   "id": "a74fcf8f",
   "metadata": {
    "papermill": {
     "duration": 0.044077,
     "end_time": "2021-12-28T10:09:15.797929",
     "exception": false,
     "start_time": "2021-12-28T10:09:15.753852",
     "status": "completed"
    },
    "tags": []
   },
   "source": [
    "Probability contours"
   ]
  },
  {
   "cell_type": "code",
   "execution_count": 27,
   "id": "d0afc8e3",
   "metadata": {
    "execution": {
     "iopub.execute_input": "2021-12-28T10:09:15.899900Z",
     "iopub.status.busy": "2021-12-28T10:09:15.899099Z",
     "iopub.status.idle": "2021-12-28T10:09:15.905564Z",
     "shell.execute_reply": "2021-12-28T10:09:15.905142Z"
    },
    "papermill": {
     "duration": 0.063671,
     "end_time": "2021-12-28T10:09:15.905670",
     "exception": false,
     "start_time": "2021-12-28T10:09:15.841999",
     "status": "completed"
    },
    "tags": []
   },
   "outputs": [],
   "source": [
    "model_prob = Model(layers[-2:]) "
   ]
  },
  {
   "cell_type": "code",
   "execution_count": 28,
   "id": "9b96e238",
   "metadata": {
    "execution": {
     "iopub.execute_input": "2021-12-28T10:09:16.035952Z",
     "iopub.status.busy": "2021-12-28T10:09:16.034911Z",
     "iopub.status.idle": "2021-12-28T10:09:16.044961Z",
     "shell.execute_reply": "2021-12-28T10:09:16.044471Z"
    },
    "papermill": {
     "duration": 0.095256,
     "end_time": "2021-12-28T10:09:16.045068",
     "exception": false,
     "start_time": "2021-12-28T10:09:15.949812",
     "status": "completed"
    },
    "tags": []
   },
   "outputs": [],
   "source": [
    "#creating the x and y ranges according to the above generated plot.\n",
    "x_range = np.linspace(-4, 1, 100) \n",
    "y_range = np.linspace(-6, 6, 100) \n",
    "x_grid, y_grid = np.meshgrid(x_range, y_range) # x_grid and y_grig are of size 100 X 100\n",
    "\n",
    "# converting x_grid and y_grid to continuous arrays\n",
    "x_gridflat = np.ravel(x_grid)\n",
    "y_gridflat = np.ravel(y_grid)\n",
    "\n",
    "# The last layer of the current model takes two columns as input. Hence transpose of np.vstack() is required.\n",
    "X = np.vstack((x_gridflat, y_gridflat)).T\n",
    "\n",
    "prob_contour = model_prob(X).reshape(100,100) "
   ]
  },
  {
   "cell_type": "code",
   "execution_count": 29,
   "id": "da72499a",
   "metadata": {
    "execution": {
     "iopub.execute_input": "2021-12-28T10:09:16.143467Z",
     "iopub.status.busy": "2021-12-28T10:09:16.142943Z",
     "iopub.status.idle": "2021-12-28T10:09:16.368758Z",
     "shell.execute_reply": "2021-12-28T10:09:16.369172Z"
    },
    "papermill": {
     "duration": 0.27993,
     "end_time": "2021-12-28T10:09:16.369314",
     "exception": false,
     "start_time": "2021-12-28T10:09:16.089384",
     "status": "completed"
    },
    "tags": []
   },
   "outputs": [
    {
     "data": {
      "image/png": "[encoded data removed]",
      "text/plain": [
       "<Figure size 720x648 with 1 Axes>"
      ]
     },
     "metadata": {
      "needs_background": "light"
     },
     "output_type": "display_data"
    }
   ],
   "source": [
    "plt.figure(figsize=(10,9))\n",
    "plt.scatter(testing_plot[:,0], testing_plot[:,1], alpha = 0.1, c = y_test.ravel())\n",
    "contours = plt.contour(x_grid,y_grid,prob_contour)\n",
    "plt.title('Probability Contours')\n",
    "plt.clabel(contours, inline = True );"
   ]
  },
  {
   "cell_type": "code",
   "execution_count": null,
   "id": "e81b4ac7",
   "metadata": {
    "papermill": {
     "duration": 0.046595,
     "end_time": "2021-12-28T10:09:16.463385",
     "exception": false,
     "start_time": "2021-12-28T10:09:16.416790",
     "status": "completed"
    },
    "tags": []
   },
   "outputs": [],
   "source": []
  }
 ],
 "metadata": {
  "kernelspec": {
   "display_name": "Python 3",
   "language": "python",
   "name": "python3"
  },
  "language_info": {
   "codemirror_mode": {
    "name": "ipython",
    "version": 3
   },
   "file_extension": ".py",
   "mimetype": "text/x-python",
   "name": "python",
   "nbconvert_exporter": "python",
   "pygments_lexer": "ipython3",
   "version": "3.6.15"
  },
  "papermill": {
   "default_parameters": {},
   "duration": 98.051762,
   "end_time": "2021-12-28T10:09:16.917660",
   "environment_variables": {},
   "exception": null,
   "input_path": "2020-08-11-part2.ipynb",
   "output_path": "2020-08-11-part2.ipynb",
   "parameters": {},
   "start_time": "2021-12-28T10:07:38.865898",
   "version": "2.3.3"
  }
 },
 "nbformat": 4,
 "nbformat_minor": 5
}