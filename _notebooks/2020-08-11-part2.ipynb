{
 "cells": [
  {
   "cell_type": "markdown",
   "id": "98380cd3",
   "metadata": {
    "papermill": {
     "duration": 0.029572,
     "end_time": "2022-07-13T00:39:37.786326",
     "exception": false,
     "start_time": "2022-07-13T00:39:37.756754",
     "status": "completed"
    },
    "tags": []
   },
   "source": [
    "# Distinguish Your Own Digits (DYOD)"
   ]
  },
  {
   "cell_type": "markdown",
   "id": "ef31240d",
   "metadata": {
    "papermill": {
     "duration": 0.023584,
     "end_time": "2022-07-13T00:39:37.834029",
     "exception": false,
     "start_time": "2022-07-13T00:39:37.810445",
     "status": "completed"
    },
    "tags": []
   },
   "source": [
    "You are going to write a classifier that distinguishes between the number 3 and number 8."
   ]
  },
  {
   "cell_type": "code",
   "execution_count": 1,
   "id": "b15c8646",
   "metadata": {
    "execution": {
     "iopub.execute_input": "2022-07-13T00:39:37.891071Z",
     "iopub.status.busy": "2022-07-13T00:39:37.890460Z",
     "iopub.status.idle": "2022-07-13T00:39:37.901682Z",
     "shell.execute_reply": "2022-07-13T00:39:37.901141Z"
    },
    "papermill": {
     "duration": 0.044389,
     "end_time": "2022-07-13T00:39:37.901802",
     "exception": false,
     "start_time": "2022-07-13T00:39:37.857413",
     "status": "completed"
    },
    "tags": []
   },
   "outputs": [],
   "source": [
    "%load_ext autoreload\n",
    "%autoreload 2"
   ]
  },
  {
   "cell_type": "code",
   "execution_count": 2,
   "id": "22ef38dc",
   "metadata": {
    "execution": {
     "iopub.execute_input": "2022-07-13T00:39:37.962449Z",
     "iopub.status.busy": "2022-07-13T00:39:37.961876Z",
     "iopub.status.idle": "2022-07-13T00:39:38.470555Z",
     "shell.execute_reply": "2022-07-13T00:39:38.471081Z"
    },
    "papermill": {
     "duration": 0.545766,
     "end_time": "2022-07-13T00:39:38.471246",
     "exception": false,
     "start_time": "2022-07-13T00:39:37.925480",
     "status": "completed"
    },
    "tags": []
   },
   "outputs": [],
   "source": [
    "%matplotlib inline\n",
    "import numpy as np\n",
    "import matplotlib.pyplot as plt\n",
    "import pandas as pd"
   ]
  },
  {
   "cell_type": "markdown",
   "id": "ba036198",
   "metadata": {
    "papermill": {
     "duration": 0.023459,
     "end_time": "2022-07-13T00:39:38.518565",
     "exception": false,
     "start_time": "2022-07-13T00:39:38.495106",
     "status": "completed"
    },
    "tags": []
   },
   "source": [
    "From the command line run `pip install mnist`. This is a library that will help you bring down the mnist dataset. If you run this from a notebook, you need to put  `!pip install mnist` in a cell by itself."
   ]
  },
  {
   "cell_type": "code",
   "execution_count": 3,
   "id": "bb6ad8a1",
   "metadata": {
    "execution": {
     "iopub.execute_input": "2022-07-13T00:39:38.587217Z",
     "iopub.status.busy": "2022-07-13T00:39:38.582156Z",
     "iopub.status.idle": "2022-07-13T00:39:40.310439Z",
     "shell.execute_reply": "2022-07-13T00:39:40.309480Z"
    },
    "papermill": {
     "duration": 1.768523,
     "end_time": "2022-07-13T00:39:40.310584",
     "exception": false,
     "start_time": "2022-07-13T00:39:38.542061",
     "status": "completed"
    },
    "tags": []
   },
   "outputs": [
    {
     "name": "stdout",
     "output_type": "stream",
     "text": [
      "Collecting mnist\r\n"
     ]
    },
    {
     "name": "stdout",
     "output_type": "stream",
     "text": [
      "  Downloading mnist-0.2.2-py2.py3-none-any.whl (3.5 kB)\r\n",
      "Requirement already satisfied: numpy in /opt/hostedtoolcache/Python/3.6.15/x64/lib/python3.6/site-packages (from mnist) (1.19.5)\r\n"
     ]
    },
    {
     "name": "stdout",
     "output_type": "stream",
     "text": [
      "Installing collected packages: mnist\r\n"
     ]
    },
    {
     "name": "stdout",
     "output_type": "stream",
     "text": [
      "Successfully installed mnist-0.2.2\r\n"
     ]
    }
   ],
   "source": [
    "!pip install mnist"
   ]
  },
  {
   "cell_type": "markdown",
   "id": "69df9c9a",
   "metadata": {
    "papermill": {
     "duration": 0.024642,
     "end_time": "2022-07-13T00:39:40.360876",
     "exception": false,
     "start_time": "2022-07-13T00:39:40.336234",
     "status": "completed"
    },
    "tags": []
   },
   "source": [
    "## Preparing the Data"
   ]
  },
  {
   "cell_type": "code",
   "execution_count": 4,
   "id": "7f69d806",
   "metadata": {
    "execution": {
     "iopub.execute_input": "2022-07-13T00:39:40.414503Z",
     "iopub.status.busy": "2022-07-13T00:39:40.413915Z",
     "iopub.status.idle": "2022-07-13T00:39:40.429476Z",
     "shell.execute_reply": "2022-07-13T00:39:40.428954Z"
    },
    "papermill": {
     "duration": 0.044013,
     "end_time": "2022-07-13T00:39:40.429594",
     "exception": false,
     "start_time": "2022-07-13T00:39:40.385581",
     "status": "completed"
    },
    "tags": []
   },
   "outputs": [],
   "source": [
    "import mnist"
   ]
  },
  {
   "cell_type": "code",
   "execution_count": 5,
   "id": "a411e44f",
   "metadata": {
    "execution": {
     "iopub.execute_input": "2022-07-13T00:39:40.489202Z",
     "iopub.status.busy": "2022-07-13T00:39:40.488564Z",
     "iopub.status.idle": "2022-07-13T00:39:41.054957Z",
     "shell.execute_reply": "2022-07-13T00:39:41.054124Z"
    },
    "papermill": {
     "duration": 0.600704,
     "end_time": "2022-07-13T00:39:41.055131",
     "exception": false,
     "start_time": "2022-07-13T00:39:40.454427",
     "status": "completed"
    },
    "tags": []
   },
   "outputs": [],
   "source": [
    "train_images = mnist.train_images()\n",
    "train_labels = mnist.train_labels()"
   ]
  },
  {
   "cell_type": "code",
   "execution_count": 6,
   "id": "dceab3a5",
   "metadata": {
    "execution": {
     "iopub.execute_input": "2022-07-13T00:39:41.113814Z",
     "iopub.status.busy": "2022-07-13T00:39:41.111913Z",
     "iopub.status.idle": "2022-07-13T00:39:41.126480Z",
     "shell.execute_reply": "2022-07-13T00:39:41.126927Z"
    },
    "papermill": {
     "duration": 0.045225,
     "end_time": "2022-07-13T00:39:41.127057",
     "exception": false,
     "start_time": "2022-07-13T00:39:41.081832",
     "status": "completed"
    },
    "tags": []
   },
   "outputs": [
    {
     "data": {
      "text/plain": [
       "((60000, 28, 28), (60000,))"
      ]
     },
     "execution_count": 6,
     "metadata": {},
     "output_type": "execute_result"
    }
   ],
   "source": [
    "train_images.shape, train_labels.shape"
   ]
  },
  {
   "cell_type": "code",
   "execution_count": 7,
   "id": "f50dc2bb",
   "metadata": {
    "execution": {
     "iopub.execute_input": "2022-07-13T00:39:41.187020Z",
     "iopub.status.busy": "2022-07-13T00:39:41.181050Z",
     "iopub.status.idle": "2022-07-13T00:39:41.383974Z",
     "shell.execute_reply": "2022-07-13T00:39:41.382505Z"
    },
    "papermill": {
     "duration": 0.232046,
     "end_time": "2022-07-13T00:39:41.384128",
     "exception": false,
     "start_time": "2022-07-13T00:39:41.152082",
     "status": "completed"
    },
    "tags": []
   },
   "outputs": [],
   "source": [
    "test_images = mnist.test_images()\n",
    "test_labels = mnist.test_labels()"
   ]
  },
  {
   "cell_type": "code",
   "execution_count": 8,
   "id": "fc38cf1b",
   "metadata": {
    "execution": {
     "iopub.execute_input": "2022-07-13T00:39:41.439568Z",
     "iopub.status.busy": "2022-07-13T00:39:41.438878Z",
     "iopub.status.idle": "2022-07-13T00:39:41.453365Z",
     "shell.execute_reply": "2022-07-13T00:39:41.452849Z"
    },
    "papermill": {
     "duration": 0.042852,
     "end_time": "2022-07-13T00:39:41.453482",
     "exception": false,
     "start_time": "2022-07-13T00:39:41.410630",
     "status": "completed"
    },
    "tags": []
   },
   "outputs": [
    {
     "data": {
      "text/plain": [
       "((10000, 28, 28), (10000,))"
      ]
     },
     "execution_count": 8,
     "metadata": {},
     "output_type": "execute_result"
    }
   ],
   "source": [
    "test_images.shape, test_labels.shape"
   ]
  },
  {
   "cell_type": "code",
   "execution_count": 9,
   "id": "f9ed8fe0",
   "metadata": {
    "execution": {
     "iopub.execute_input": "2022-07-13T00:39:41.507479Z",
     "iopub.status.busy": "2022-07-13T00:39:41.506887Z",
     "iopub.status.idle": "2022-07-13T00:39:41.642807Z",
     "shell.execute_reply": "2022-07-13T00:39:41.643327Z"
    },
    "papermill": {
     "duration": 0.165079,
     "end_time": "2022-07-13T00:39:41.643484",
     "exception": false,
     "start_time": "2022-07-13T00:39:41.478405",
     "status": "completed"
    },
    "tags": []
   },
   "outputs": [
    {
     "name": "stdout",
     "output_type": "stream",
     "text": [
      "2\n"
     ]
    },
    {
     "data": {
      "text/plain": [
       "<matplotlib.image.AxesImage at 0x7f51c671b4a8>"
      ]
     },
     "execution_count": 9,
     "metadata": {},
     "output_type": "execute_result"
    },
    {
     "data": {
      "image/png": "[encoded data removed]",
      "text/plain": [
       "<Figure size 432x288 with 1 Axes>"
      ]
     },
     "metadata": {
      "needs_background": "light"
     },
     "output_type": "display_data"
    }
   ],
   "source": [
    "image_index = 7776 # You may select anything up to 60,000\n",
    "print(train_labels[image_index]) \n",
    "plt.imshow(train_images[image_index], cmap='Greys')"
   ]
  },
  {
   "cell_type": "markdown",
   "id": "a8d2388d",
   "metadata": {
    "papermill": {
     "duration": 0.026617,
     "end_time": "2022-07-13T00:39:41.697796",
     "exception": false,
     "start_time": "2022-07-13T00:39:41.671179",
     "status": "completed"
    },
    "tags": []
   },
   "source": [
    "## Filter data to get 3 and 8 out"
   ]
  },
  {
   "cell_type": "code",
   "execution_count": 10,
   "id": "776f7fc7",
   "metadata": {
    "execution": {
     "iopub.execute_input": "2022-07-13T00:39:41.756065Z",
     "iopub.status.busy": "2022-07-13T00:39:41.755464Z",
     "iopub.status.idle": "2022-07-13T00:39:41.772699Z",
     "shell.execute_reply": "2022-07-13T00:39:41.772067Z"
    },
    "papermill": {
     "duration": 0.049015,
     "end_time": "2022-07-13T00:39:41.772820",
     "exception": false,
     "start_time": "2022-07-13T00:39:41.723805",
     "status": "completed"
    },
    "tags": []
   },
   "outputs": [],
   "source": [
    "train_filter = np.where((train_labels == 3 ) | (train_labels == 8))\n",
    "test_filter = np.where((test_labels == 3) | (test_labels == 8))\n",
    "X_train, y_train = train_images[train_filter], train_labels[train_filter]\n",
    "X_test, y_test = test_images[test_filter], test_labels[test_filter]"
   ]
  },
  {
   "cell_type": "markdown",
   "id": "948f0b7e",
   "metadata": {
    "papermill": {
     "duration": 0.026095,
     "end_time": "2022-07-13T00:39:41.825574",
     "exception": false,
     "start_time": "2022-07-13T00:39:41.799479",
     "status": "completed"
    },
    "tags": []
   },
   "source": [
    "We normalize the pizel values in the 0 to 1 range"
   ]
  },
  {
   "cell_type": "code",
   "execution_count": 11,
   "id": "ee4c2166",
   "metadata": {
    "execution": {
     "iopub.execute_input": "2022-07-13T00:39:41.881326Z",
     "iopub.status.busy": "2022-07-13T00:39:41.880704Z",
     "iopub.status.idle": "2022-07-13T00:39:41.928240Z",
     "shell.execute_reply": "2022-07-13T00:39:41.927515Z"
    },
    "papermill": {
     "duration": 0.076735,
     "end_time": "2022-07-13T00:39:41.928375",
     "exception": false,
     "start_time": "2022-07-13T00:39:41.851640",
     "status": "completed"
    },
    "tags": []
   },
   "outputs": [],
   "source": [
    "X_train = X_train/255.\n",
    "X_test = X_test/255."
   ]
  },
  {
   "cell_type": "markdown",
   "id": "ddcf4fab",
   "metadata": {
    "papermill": {
     "duration": 0.027062,
     "end_time": "2022-07-13T00:39:41.983568",
     "exception": false,
     "start_time": "2022-07-13T00:39:41.956506",
     "status": "completed"
    },
    "tags": []
   },
   "source": [
    "And setup the labels as 1 (when the digit is 3) and 0 (when the digit is 8)"
   ]
  },
  {
   "cell_type": "code",
   "execution_count": 12,
   "id": "7dc908f2",
   "metadata": {
    "execution": {
     "iopub.execute_input": "2022-07-13T00:39:42.055007Z",
     "iopub.status.busy": "2022-07-13T00:39:42.049739Z",
     "iopub.status.idle": "2022-07-13T00:39:42.055740Z",
     "shell.execute_reply": "2022-07-13T00:39:42.056182Z"
    },
    "papermill": {
     "duration": 0.046456,
     "end_time": "2022-07-13T00:39:42.056311",
     "exception": false,
     "start_time": "2022-07-13T00:39:42.009855",
     "status": "completed"
    },
    "tags": []
   },
   "outputs": [],
   "source": [
    "y_train = 1*(y_train==3)\n",
    "y_test = 1*(y_test==3)"
   ]
  },
  {
   "cell_type": "code",
   "execution_count": 13,
   "id": "01e4e969",
   "metadata": {
    "execution": {
     "iopub.execute_input": "2022-07-13T00:39:42.114211Z",
     "iopub.status.busy": "2022-07-13T00:39:42.113639Z",
     "iopub.status.idle": "2022-07-13T00:39:42.127334Z",
     "shell.execute_reply": "2022-07-13T00:39:42.126759Z"
    },
    "papermill": {
     "duration": 0.043662,
     "end_time": "2022-07-13T00:39:42.127448",
     "exception": false,
     "start_time": "2022-07-13T00:39:42.083786",
     "status": "completed"
    },
    "tags": []
   },
   "outputs": [
    {
     "data": {
      "text/plain": [
       "((11982, 28, 28), (1984, 28, 28))"
      ]
     },
     "execution_count": 13,
     "metadata": {},
     "output_type": "execute_result"
    }
   ],
   "source": [
    "X_train.shape, X_test.shape"
   ]
  },
  {
   "cell_type": "markdown",
   "id": "5ccf3f85",
   "metadata": {
    "papermill": {
     "duration": 0.027253,
     "end_time": "2022-07-13T00:39:42.182726",
     "exception": false,
     "start_time": "2022-07-13T00:39:42.155473",
     "status": "completed"
    },
    "tags": []
   },
   "source": [
    "We reshape the data to flatten the image pixels into a set of features or co-variates:"
   ]
  },
  {
   "cell_type": "code",
   "execution_count": 14,
   "id": "5286a4a3",
   "metadata": {
    "execution": {
     "iopub.execute_input": "2022-07-13T00:39:42.254578Z",
     "iopub.status.busy": "2022-07-13T00:39:42.253986Z",
     "iopub.status.idle": "2022-07-13T00:39:42.262715Z",
     "shell.execute_reply": "2022-07-13T00:39:42.263164Z"
    },
    "papermill": {
     "duration": 0.052677,
     "end_time": "2022-07-13T00:39:42.263291",
     "exception": false,
     "start_time": "2022-07-13T00:39:42.210614",
     "status": "completed"
    },
    "tags": []
   },
   "outputs": [
    {
     "data": {
      "text/plain": [
       "((11982, 784), (1984, 784))"
      ]
     },
     "execution_count": 14,
     "metadata": {},
     "output_type": "execute_result"
    }
   ],
   "source": [
    "X_train = X_train.reshape(X_train.shape[0], -1)\n",
    "X_test = X_test.reshape(X_test.shape[0], -1)\n",
    "X_train.shape, X_test.shape"
   ]
  },
  {
   "cell_type": "code",
   "execution_count": 15,
   "id": "73c5f88a",
   "metadata": {
    "execution": {
     "iopub.execute_input": "2022-07-13T00:39:42.322647Z",
     "iopub.status.busy": "2022-07-13T00:39:42.321978Z",
     "iopub.status.idle": "2022-07-13T00:39:42.339305Z",
     "shell.execute_reply": "2022-07-13T00:39:42.339742Z"
    },
    "papermill": {
     "duration": 0.049679,
     "end_time": "2022-07-13T00:39:42.339879",
     "exception": false,
     "start_time": "2022-07-13T00:39:42.290200",
     "status": "completed"
    },
    "tags": []
   },
   "outputs": [],
   "source": [
    "#Impoting functions from 'Kudzu'\n",
    "from kudzu.model import Model\n",
    "from kudzu.train import Learner\n",
    "from kudzu.optim import GD\n",
    "from kudzu.data import Data, Sampler,Dataloader\n",
    "\n",
    "from kudzu.callbacks import AccCallback\n",
    "from kudzu.callbacks import ClfCallback\n",
    "\n",
    "from kudzu.loss import MSE\n",
    "\n",
    "from kudzu.layer import Sigmoid,Relu\n",
    "from kudzu.layer import Affine"
   ]
  },
  {
   "cell_type": "markdown",
   "id": "bc01172a",
   "metadata": {
    "papermill": {
     "duration": 0.0265,
     "end_time": "2022-07-13T00:39:42.393069",
     "exception": false,
     "start_time": "2022-07-13T00:39:42.366569",
     "status": "completed"
    },
    "tags": []
   },
   "source": [
    "### Let us create a `Config` class, to store important parameters. \n",
    "This class essentially plays the role of a dictionary."
   ]
  },
  {
   "cell_type": "code",
   "execution_count": 16,
   "id": "978281aa",
   "metadata": {
    "execution": {
     "iopub.execute_input": "2022-07-13T00:39:42.449960Z",
     "iopub.status.busy": "2022-07-13T00:39:42.449350Z",
     "iopub.status.idle": "2022-07-13T00:39:42.462433Z",
     "shell.execute_reply": "2022-07-13T00:39:42.461855Z"
    },
    "papermill": {
     "duration": 0.043032,
     "end_time": "2022-07-13T00:39:42.462541",
     "exception": false,
     "start_time": "2022-07-13T00:39:42.419509",
     "status": "completed"
    },
    "tags": []
   },
   "outputs": [],
   "source": [
    "class Config:\n",
    "    pass\n",
    "config = Config()\n",
    "config.lr = 0.001\n",
    "config.num_epochs = 250\n",
    "config.bs = 50"
   ]
  },
  {
   "cell_type": "markdown",
   "id": "1385fa59",
   "metadata": {
    "papermill": {
     "duration": 0.026369,
     "end_time": "2022-07-13T00:39:42.515511",
     "exception": false,
     "start_time": "2022-07-13T00:39:42.489142",
     "status": "completed"
    },
    "tags": []
   },
   "source": [
    "### Running Models with the Training data\n",
    "Details about the network layers:\n",
    "- A first affine layer has 784 inputs and does 100 affine transforms. These are followed by a Relu\n",
    "- A second affine layer has 100 inputs from the 100 activations of the past layer, and does 100 affine transforms. These are followed by a Relu\n",
    "- A third affine layer has 100 activations and does 2 affine transformations to create an embedding for visualization. There is no non-linearity here.\n",
    "- A final \"logistic regression\" which has an affine transform from 2 inputs to 1 output, which is squeezed through a sigmoid.\n"
   ]
  },
  {
   "cell_type": "code",
   "execution_count": 17,
   "id": "2b9c66db",
   "metadata": {
    "execution": {
     "iopub.execute_input": "2022-07-13T00:39:42.572752Z",
     "iopub.status.busy": "2022-07-13T00:39:42.572162Z",
     "iopub.status.idle": "2022-07-13T00:39:42.584899Z",
     "shell.execute_reply": "2022-07-13T00:39:42.584415Z"
    },
    "papermill": {
     "duration": 0.042957,
     "end_time": "2022-07-13T00:39:42.585009",
     "exception": false,
     "start_time": "2022-07-13T00:39:42.542052",
     "status": "completed"
    },
    "tags": []
   },
   "outputs": [],
   "source": [
    "data = Data(X_train, y_train.reshape(-1,1))\n",
    "sampler = Sampler(data, config.bs, shuffle=True)\n",
    "\n",
    "dl = Dataloader(data, sampler)\n",
    "\n",
    "opt = GD(config.lr)\n",
    "loss = MSE()"
   ]
  },
  {
   "cell_type": "code",
   "execution_count": 18,
   "id": "b275e4c2",
   "metadata": {
    "execution": {
     "iopub.execute_input": "2022-07-13T00:39:42.641919Z",
     "iopub.status.busy": "2022-07-13T00:39:42.641326Z",
     "iopub.status.idle": "2022-07-13T00:39:42.654552Z",
     "shell.execute_reply": "2022-07-13T00:39:42.654076Z"
    },
    "papermill": {
     "duration": 0.04305,
     "end_time": "2022-07-13T00:39:42.654659",
     "exception": false,
     "start_time": "2022-07-13T00:39:42.611609",
     "status": "completed"
    },
    "tags": []
   },
   "outputs": [],
   "source": [
    "training_data_x = X_train\n",
    "testing_data_x = X_test\n",
    "training_data_y = y_train.reshape(-1,1)\n",
    "testing_data_y = y_test.reshape(-1,1)"
   ]
  },
  {
   "cell_type": "code",
   "execution_count": 19,
   "id": "76951160",
   "metadata": {
    "execution": {
     "iopub.execute_input": "2022-07-13T00:39:42.711569Z",
     "iopub.status.busy": "2022-07-13T00:39:42.710976Z",
     "iopub.status.idle": "2022-07-13T00:39:42.727438Z",
     "shell.execute_reply": "2022-07-13T00:39:42.727886Z"
    },
    "papermill": {
     "duration": 0.046918,
     "end_time": "2022-07-13T00:39:42.728012",
     "exception": false,
     "start_time": "2022-07-13T00:39:42.681094",
     "status": "completed"
    },
    "tags": []
   },
   "outputs": [
    {
     "name": "stdout",
     "output_type": "stream",
     "text": [
      "xavier\n",
      "xavier\n",
      "xavier\n",
      "xavier\n",
      "xavier\n"
     ]
    }
   ],
   "source": [
    "layers = [Affine(\"first\", 784, 100), Relu(\"first\"), Affine(\"second\", 100, 100), Relu(\"second\"), Affine(\"third\", 100, 2), Affine(\"last\", 2, 1), Sigmoid(\"last\")]\n",
    "model_nn = Model(layers)\n",
    "model_lr = Model([Affine(\"logits\", 784, 1), Sigmoid(\"sigmoid\")])"
   ]
  },
  {
   "cell_type": "code",
   "execution_count": 20,
   "id": "6eede77a",
   "metadata": {
    "execution": {
     "iopub.execute_input": "2022-07-13T00:39:42.785492Z",
     "iopub.status.busy": "2022-07-13T00:39:42.784874Z",
     "iopub.status.idle": "2022-07-13T00:39:42.797549Z",
     "shell.execute_reply": "2022-07-13T00:39:42.797068Z"
    },
    "papermill": {
     "duration": 0.042651,
     "end_time": "2022-07-13T00:39:42.797657",
     "exception": false,
     "start_time": "2022-07-13T00:39:42.755006",
     "status": "completed"
    },
    "tags": []
   },
   "outputs": [],
   "source": [
    "nn_learner = Learner(loss, model_nn, opt, config.num_epochs)\n",
    "acc_nn = ClfCallback(nn_learner, config.bs, training_data_x , testing_data_x, training_data_y, testing_data_y)\n",
    "nn_learner.set_callbacks([acc_nn])"
   ]
  },
  {
   "cell_type": "code",
   "execution_count": 21,
   "id": "877b6cc7",
   "metadata": {
    "execution": {
     "iopub.execute_input": "2022-07-13T00:39:42.855304Z",
     "iopub.status.busy": "2022-07-13T00:39:42.854725Z",
     "iopub.status.idle": "2022-07-13T00:39:42.867514Z",
     "shell.execute_reply": "2022-07-13T00:39:42.867040Z"
    },
    "papermill": {
     "duration": 0.043181,
     "end_time": "2022-07-13T00:39:42.867619",
     "exception": false,
     "start_time": "2022-07-13T00:39:42.824438",
     "status": "completed"
    },
    "tags": []
   },
   "outputs": [],
   "source": [
    "lr_learner = Learner(loss, model_lr, opt, config.num_epochs)\n",
    "acc_lr = ClfCallback(lr_learner, config.bs, training_data_x , testing_data_x, training_data_y, testing_data_y)\n",
    "lr_learner.set_callbacks([acc_lr])"
   ]
  },
  {
   "cell_type": "code",
   "execution_count": 22,
   "id": "d9b133c3",
   "metadata": {
    "execution": {
     "iopub.execute_input": "2022-07-13T00:39:42.925049Z",
     "iopub.status.busy": "2022-07-13T00:39:42.924443Z",
     "iopub.status.idle": "2022-07-13T00:40:59.392131Z",
     "shell.execute_reply": "2022-07-13T00:40:59.392995Z"
    },
    "papermill": {
     "duration": 76.498639,
     "end_time": "2022-07-13T00:40:59.393167",
     "exception": false,
     "start_time": "2022-07-13T00:39:42.894528",
     "status": "completed"
    },
    "tags": []
   },
   "outputs": [
    {
     "name": "stdout",
     "output_type": "stream",
     "text": [
      "Epoch 0, Loss 0.2468\n",
      "Training Accuracy: 0.6148, Testing Accuracy: 0.6411\n",
      "\n"
     ]
    },
    {
     "name": "stdout",
     "output_type": "stream",
     "text": [
      "Epoch 10, Loss 0.096\n",
      "Training Accuracy: 0.9171, Testing Accuracy: 0.9274\n",
      "\n"
     ]
    },
    {
     "name": "stdout",
     "output_type": "stream",
     "text": [
      "Epoch 20, Loss 0.0583\n",
      "Training Accuracy: 0.9398, Testing Accuracy: 0.9471\n",
      "\n"
     ]
    },
    {
     "name": "stdout",
     "output_type": "stream",
     "text": [
      "Epoch 30, Loss 0.0455\n",
      "Training Accuracy: 0.9510, Testing Accuracy: 0.9572\n",
      "\n"
     ]
    },
    {
     "name": "stdout",
     "output_type": "stream",
     "text": [
      "Epoch 40, Loss 0.0392\n",
      "Training Accuracy: 0.9575, Testing Accuracy: 0.9602\n",
      "\n"
     ]
    },
    {
     "name": "stdout",
     "output_type": "stream",
     "text": [
      "Epoch 50, Loss 0.0354\n",
      "Training Accuracy: 0.9603, Testing Accuracy: 0.9627\n",
      "\n"
     ]
    },
    {
     "name": "stdout",
     "output_type": "stream",
     "text": [
      "Epoch 60, Loss 0.0329\n",
      "Training Accuracy: 0.9630, Testing Accuracy: 0.9647\n",
      "\n"
     ]
    },
    {
     "name": "stdout",
     "output_type": "stream",
     "text": [
      "Epoch 70, Loss 0.031\n",
      "Training Accuracy: 0.9647, Testing Accuracy: 0.9657\n",
      "\n"
     ]
    },
    {
     "name": "stdout",
     "output_type": "stream",
     "text": [
      "Epoch 80, Loss 0.0295\n",
      "Training Accuracy: 0.9668, Testing Accuracy: 0.9672\n",
      "\n"
     ]
    },
    {
     "name": "stdout",
     "output_type": "stream",
     "text": [
      "Epoch 90, Loss 0.0282\n",
      "Training Accuracy: 0.9680, Testing Accuracy: 0.9698\n",
      "\n"
     ]
    },
    {
     "name": "stdout",
     "output_type": "stream",
     "text": [
      "Epoch 100, Loss 0.0272\n",
      "Training Accuracy: 0.9691, Testing Accuracy: 0.9703\n",
      "\n"
     ]
    },
    {
     "name": "stdout",
     "output_type": "stream",
     "text": [
      "Epoch 110, Loss 0.0263\n",
      "Training Accuracy: 0.9702, Testing Accuracy: 0.9713\n",
      "\n"
     ]
    },
    {
     "name": "stdout",
     "output_type": "stream",
     "text": [
      "Epoch 120, Loss 0.0254\n",
      "Training Accuracy: 0.9714, Testing Accuracy: 0.9713\n",
      "\n"
     ]
    },
    {
     "name": "stdout",
     "output_type": "stream",
     "text": [
      "Epoch 130, Loss 0.0247\n",
      "Training Accuracy: 0.9721, Testing Accuracy: 0.9718\n",
      "\n"
     ]
    },
    {
     "name": "stdout",
     "output_type": "stream",
     "text": [
      "Epoch 140, Loss 0.024\n",
      "Training Accuracy: 0.9730, Testing Accuracy: 0.9723\n",
      "\n"
     ]
    },
    {
     "name": "stdout",
     "output_type": "stream",
     "text": [
      "Epoch 150, Loss 0.0234\n",
      "Training Accuracy: 0.9736, Testing Accuracy: 0.9723\n",
      "\n"
     ]
    },
    {
     "name": "stdout",
     "output_type": "stream",
     "text": [
      "Epoch 160, Loss 0.0228\n",
      "Training Accuracy: 0.9748, Testing Accuracy: 0.9728\n",
      "\n"
     ]
    },
    {
     "name": "stdout",
     "output_type": "stream",
     "text": [
      "Epoch 170, Loss 0.0223\n",
      "Training Accuracy: 0.9751, Testing Accuracy: 0.9728\n",
      "\n"
     ]
    },
    {
     "name": "stdout",
     "output_type": "stream",
     "text": [
      "Epoch 180, Loss 0.0217\n",
      "Training Accuracy: 0.9760, Testing Accuracy: 0.9733\n",
      "\n"
     ]
    },
    {
     "name": "stdout",
     "output_type": "stream",
     "text": [
      "Epoch 190, Loss 0.0213\n",
      "Training Accuracy: 0.9767, Testing Accuracy: 0.9733\n",
      "\n"
     ]
    },
    {
     "name": "stdout",
     "output_type": "stream",
     "text": [
      "Epoch 200, Loss 0.0208\n",
      "Training Accuracy: 0.9772, Testing Accuracy: 0.9738\n",
      "\n"
     ]
    },
    {
     "name": "stdout",
     "output_type": "stream",
     "text": [
      "Epoch 210, Loss 0.0204\n",
      "Training Accuracy: 0.9777, Testing Accuracy: 0.9738\n",
      "\n"
     ]
    },
    {
     "name": "stdout",
     "output_type": "stream",
     "text": [
      "Epoch 220, Loss 0.02\n",
      "Training Accuracy: 0.9784, Testing Accuracy: 0.9738\n",
      "\n"
     ]
    },
    {
     "name": "stdout",
     "output_type": "stream",
     "text": [
      "Epoch 230, Loss 0.0196\n",
      "Training Accuracy: 0.9788, Testing Accuracy: 0.9738\n",
      "\n"
     ]
    },
    {
     "name": "stdout",
     "output_type": "stream",
     "text": [
      "Epoch 240, Loss 0.0192\n",
      "Training Accuracy: 0.9794, Testing Accuracy: 0.9738\n",
      "\n"
     ]
    },
    {
     "data": {
      "text/plain": [
       "0.06425824782384917"
      ]
     },
     "execution_count": 22,
     "metadata": {},
     "output_type": "execute_result"
    }
   ],
   "source": [
    "nn_learner.train_loop(dl)"
   ]
  },
  {
   "cell_type": "code",
   "execution_count": 23,
   "id": "e0163366",
   "metadata": {
    "execution": {
     "iopub.execute_input": "2022-07-13T00:40:59.484217Z",
     "iopub.status.busy": "2022-07-13T00:40:59.476581Z",
     "iopub.status.idle": "2022-07-13T00:41:13.461895Z",
     "shell.execute_reply": "2022-07-13T00:41:13.462763Z"
    },
    "papermill": {
     "duration": 14.035132,
     "end_time": "2022-07-13T00:41:13.462915",
     "exception": false,
     "start_time": "2022-07-13T00:40:59.427783",
     "status": "completed"
    },
    "tags": []
   },
   "outputs": [
    {
     "name": "stdout",
     "output_type": "stream",
     "text": [
      "Epoch 0, Loss 0.2455\n",
      "Training Accuracy: 0.6905, Testing Accuracy: 0.7011\n",
      "\n"
     ]
    },
    {
     "name": "stdout",
     "output_type": "stream",
     "text": [
      "Epoch 10, Loss 0.1055\n",
      "Training Accuracy: 0.9042, Testing Accuracy: 0.9108\n",
      "\n"
     ]
    },
    {
     "name": "stdout",
     "output_type": "stream",
     "text": [
      "Epoch 20, Loss 0.0808\n",
      "Training Accuracy: 0.9255, Testing Accuracy: 0.9315\n",
      "\n"
     ]
    },
    {
     "name": "stdout",
     "output_type": "stream",
     "text": [
      "Epoch 30, Loss 0.0693\n",
      "Training Accuracy: 0.9350, Testing Accuracy: 0.9420\n",
      "\n"
     ]
    },
    {
     "name": "stdout",
     "output_type": "stream",
     "text": [
      "Epoch 40, Loss 0.0624\n",
      "Training Accuracy: 0.9397, Testing Accuracy: 0.9476\n",
      "\n"
     ]
    },
    {
     "name": "stdout",
     "output_type": "stream",
     "text": [
      "Epoch 50, Loss 0.0577\n",
      "Training Accuracy: 0.9438, Testing Accuracy: 0.9531\n",
      "\n"
     ]
    },
    {
     "name": "stdout",
     "output_type": "stream",
     "text": [
      "Epoch 60, Loss 0.0542\n",
      "Training Accuracy: 0.9469, Testing Accuracy: 0.9561\n",
      "\n"
     ]
    },
    {
     "name": "stdout",
     "output_type": "stream",
     "text": [
      "Epoch 70, Loss 0.0516\n",
      "Training Accuracy: 0.9483, Testing Accuracy: 0.9577\n",
      "\n"
     ]
    },
    {
     "name": "stdout",
     "output_type": "stream",
     "text": [
      "Epoch 80, Loss 0.0495\n",
      "Training Accuracy: 0.9500, Testing Accuracy: 0.9592\n",
      "\n"
     ]
    },
    {
     "name": "stdout",
     "output_type": "stream",
     "text": [
      "Epoch 90, Loss 0.0477\n",
      "Training Accuracy: 0.9511, Testing Accuracy: 0.9597\n",
      "\n"
     ]
    },
    {
     "name": "stdout",
     "output_type": "stream",
     "text": [
      "Epoch 100, Loss 0.0463\n",
      "Training Accuracy: 0.9529, Testing Accuracy: 0.9612\n",
      "\n"
     ]
    },
    {
     "name": "stdout",
     "output_type": "stream",
     "text": [
      "Epoch 110, Loss 0.045\n",
      "Training Accuracy: 0.9545, Testing Accuracy: 0.9617\n",
      "\n"
     ]
    },
    {
     "name": "stdout",
     "output_type": "stream",
     "text": [
      "Epoch 120, Loss 0.0439\n",
      "Training Accuracy: 0.9548, Testing Accuracy: 0.9622\n",
      "\n"
     ]
    },
    {
     "name": "stdout",
     "output_type": "stream",
     "text": [
      "Epoch 130, Loss 0.043\n",
      "Training Accuracy: 0.9553, Testing Accuracy: 0.9632\n",
      "\n"
     ]
    },
    {
     "name": "stdout",
     "output_type": "stream",
     "text": [
      "Epoch 140, Loss 0.0422\n",
      "Training Accuracy: 0.9564, Testing Accuracy: 0.9647\n",
      "\n"
     ]
    },
    {
     "name": "stdout",
     "output_type": "stream",
     "text": [
      "Epoch 150, Loss 0.0414\n",
      "Training Accuracy: 0.9565, Testing Accuracy: 0.9657\n",
      "\n"
     ]
    },
    {
     "name": "stdout",
     "output_type": "stream",
     "text": [
      "Epoch 160, Loss 0.0407\n",
      "Training Accuracy: 0.9574, Testing Accuracy: 0.9657\n",
      "\n"
     ]
    },
    {
     "name": "stdout",
     "output_type": "stream",
     "text": [
      "Epoch 170, Loss 0.0401\n",
      "Training Accuracy: 0.9579, Testing Accuracy: 0.9662\n",
      "\n"
     ]
    },
    {
     "name": "stdout",
     "output_type": "stream",
     "text": [
      "Epoch 180, Loss 0.0395\n",
      "Training Accuracy: 0.9584, Testing Accuracy: 0.9662\n",
      "\n"
     ]
    },
    {
     "name": "stdout",
     "output_type": "stream",
     "text": [
      "Epoch 190, Loss 0.039\n",
      "Training Accuracy: 0.9587, Testing Accuracy: 0.9662\n",
      "\n"
     ]
    },
    {
     "name": "stdout",
     "output_type": "stream",
     "text": [
      "Epoch 200, Loss 0.0385\n",
      "Training Accuracy: 0.9589, Testing Accuracy: 0.9657\n",
      "\n"
     ]
    },
    {
     "name": "stdout",
     "output_type": "stream",
     "text": [
      "Epoch 210, Loss 0.0381\n",
      "Training Accuracy: 0.9591, Testing Accuracy: 0.9662\n",
      "\n"
     ]
    },
    {
     "name": "stdout",
     "output_type": "stream",
     "text": [
      "Epoch 220, Loss 0.0377\n",
      "Training Accuracy: 0.9595, Testing Accuracy: 0.9662\n",
      "\n"
     ]
    },
    {
     "name": "stdout",
     "output_type": "stream",
     "text": [
      "Epoch 230, Loss 0.0373\n",
      "Training Accuracy: 0.9599, Testing Accuracy: 0.9662\n",
      "\n"
     ]
    },
    {
     "name": "stdout",
     "output_type": "stream",
     "text": [
      "Epoch 240, Loss 0.0369\n",
      "Training Accuracy: 0.9604, Testing Accuracy: 0.9662\n",
      "\n"
     ]
    },
    {
     "data": {
      "text/plain": [
       "0.038169761548019446"
      ]
     },
     "execution_count": 23,
     "metadata": {},
     "output_type": "execute_result"
    }
   ],
   "source": [
    "lr_learner.train_loop(dl)"
   ]
  },
  {
   "cell_type": "code",
   "execution_count": 24,
   "id": "ca410940",
   "metadata": {
    "execution": {
     "iopub.execute_input": "2022-07-13T00:41:13.558823Z",
     "iopub.status.busy": "2022-07-13T00:41:13.558184Z",
     "iopub.status.idle": "2022-07-13T00:41:13.792521Z",
     "shell.execute_reply": "2022-07-13T00:41:13.792998Z"
    },
    "papermill": {
     "duration": 0.289418,
     "end_time": "2022-07-13T00:41:13.793180",
     "exception": false,
     "start_time": "2022-07-13T00:41:13.503762",
     "status": "completed"
    },
    "tags": []
   },
   "outputs": [
    {
     "data": {
      "text/plain": [
       "<matplotlib.legend.Legend at 0x7f51c627da90>"
      ]
     },
     "execution_count": 24,
     "metadata": {},
     "output_type": "execute_result"
    },
    {
     "data": {
      "image/png": "[encoded data removed]",
      "text/plain": [
       "<Figure size 1080x720 with 1 Axes>"
      ]
     },
     "metadata": {
      "needs_background": "light"
     },
     "output_type": "display_data"
    }
   ],
   "source": [
    "#comparing the results of NN and LR\n",
    "plt.figure(figsize=(15,10))\n",
    "\n",
    "# Neural Network plots\n",
    "plt.plot(acc_nn.accuracies, 'r-', label = \"Training Accuracies - NN\")\n",
    "plt.plot(acc_nn.test_accuracies, 'g-', label = \"Testing Accuracies - NN\")\n",
    "\n",
    "# Logistic Regression plots\n",
    "plt.plot(acc_lr.accuracies, 'k-', label = \"Training Accuracies - LR\")\n",
    "plt.plot(acc_lr.test_accuracies, 'b-', label = \"Testing Accuracies - LR\")\n",
    "plt.legend()"
   ]
  },
  {
   "cell_type": "markdown",
   "id": "80dfb35c",
   "metadata": {
    "papermill": {
     "duration": 0.041545,
     "end_time": "2022-07-13T00:41:13.876641",
     "exception": false,
     "start_time": "2022-07-13T00:41:13.835096",
     "status": "completed"
    },
    "tags": []
   },
   "source": [
    "#### Plotting the outputs of this layer of the NN.\n"
   ]
  },
  {
   "cell_type": "code",
   "execution_count": 25,
   "id": "45eb2ff5",
   "metadata": {
    "execution": {
     "iopub.execute_input": "2022-07-13T00:41:13.966960Z",
     "iopub.status.busy": "2022-07-13T00:41:13.965005Z",
     "iopub.status.idle": "2022-07-13T00:41:13.985690Z",
     "shell.execute_reply": "2022-07-13T00:41:13.985151Z"
    },
    "papermill": {
     "duration": 0.067667,
     "end_time": "2022-07-13T00:41:13.985810",
     "exception": false,
     "start_time": "2022-07-13T00:41:13.918143",
     "status": "completed"
    },
    "tags": []
   },
   "outputs": [],
   "source": [
    "new_model = Model(layers[:-2])\n",
    "testing_plot = new_model(testing_data_x)"
   ]
  },
  {
   "cell_type": "code",
   "execution_count": 26,
   "id": "4c0a5485",
   "metadata": {
    "execution": {
     "iopub.execute_input": "2022-07-13T00:41:14.077346Z",
     "iopub.status.busy": "2022-07-13T00:41:14.075141Z",
     "iopub.status.idle": "2022-07-13T00:41:14.256465Z",
     "shell.execute_reply": "2022-07-13T00:41:14.255955Z"
    },
    "papermill": {
     "duration": 0.228994,
     "end_time": "2022-07-13T00:41:14.256588",
     "exception": false,
     "start_time": "2022-07-13T00:41:14.027594",
     "status": "completed"
    },
    "tags": []
   },
   "outputs": [
    {
     "data": {
      "text/plain": [
       "Text(0.5, 1.0, 'Outputs')"
      ]
     },
     "execution_count": 26,
     "metadata": {},
     "output_type": "execute_result"
    },
    {
     "data": {
      "image/png": "[encoded data removed]",
      "text/plain": [
       "<Figure size 576x504 with 1 Axes>"
      ]
     },
     "metadata": {
      "needs_background": "light"
     },
     "output_type": "display_data"
    }
   ],
   "source": [
    "# Plotting the scatter plot of points and color coding by class\n",
    "plt.figure(figsize=(8,7))\n",
    "plt.scatter(testing_plot[:,0], testing_plot[:,1], alpha = 0.1, c = y_test.ravel());\n",
    "plt.title('Outputs')"
   ]
  },
  {
   "cell_type": "markdown",
   "id": "a74fcf8f",
   "metadata": {
    "papermill": {
     "duration": 0.043374,
     "end_time": "2022-07-13T00:41:14.343333",
     "exception": false,
     "start_time": "2022-07-13T00:41:14.299959",
     "status": "completed"
    },
    "tags": []
   },
   "source": [
    "Probability contours"
   ]
  },
  {
   "cell_type": "code",
   "execution_count": 27,
   "id": "d0afc8e3",
   "metadata": {
    "execution": {
     "iopub.execute_input": "2022-07-13T00:41:14.463859Z",
     "iopub.status.busy": "2022-07-13T00:41:14.463216Z",
     "iopub.status.idle": "2022-07-13T00:41:14.474619Z",
     "shell.execute_reply": "2022-07-13T00:41:14.475075Z"
    },
    "papermill": {
     "duration": 0.088256,
     "end_time": "2022-07-13T00:41:14.475206",
     "exception": false,
     "start_time": "2022-07-13T00:41:14.386950",
     "status": "completed"
    },
    "tags": []
   },
   "outputs": [],
   "source": [
    "model_prob = Model(layers[-2:]) "
   ]
  },
  {
   "cell_type": "code",
   "execution_count": 28,
   "id": "9b96e238",
   "metadata": {
    "execution": {
     "iopub.execute_input": "2022-07-13T00:41:14.576485Z",
     "iopub.status.busy": "2022-07-13T00:41:14.575510Z",
     "iopub.status.idle": "2022-07-13T00:41:14.588954Z",
     "shell.execute_reply": "2022-07-13T00:41:14.588101Z"
    },
    "papermill": {
     "duration": 0.070119,
     "end_time": "2022-07-13T00:41:14.589098",
     "exception": false,
     "start_time": "2022-07-13T00:41:14.518979",
     "status": "completed"
    },
    "tags": []
   },
   "outputs": [],
   "source": [
    "#creating the x and y ranges according to the above generated plot.\n",
    "x_range = np.linspace(-4, 1, 100) \n",
    "y_range = np.linspace(-6, 6, 100) \n",
    "x_grid, y_grid = np.meshgrid(x_range, y_range) # x_grid and y_grig are of size 100 X 100\n",
    "\n",
    "# converting x_grid and y_grid to continuous arrays\n",
    "x_gridflat = np.ravel(x_grid)\n",
    "y_gridflat = np.ravel(y_grid)\n",
    "\n",
    "# The last layer of the current model takes two columns as input. Hence transpose of np.vstack() is required.\n",
    "X = np.vstack((x_gridflat, y_gridflat)).T\n",
    "\n",
    "prob_contour = model_prob(X).reshape(100,100) "
   ]
  },
  {
   "cell_type": "code",
   "execution_count": 29,
   "id": "da72499a",
   "metadata": {
    "execution": {
     "iopub.execute_input": "2022-07-13T00:41:14.686937Z",
     "iopub.status.busy": "2022-07-13T00:41:14.686305Z",
     "iopub.status.idle": "2022-07-13T00:41:14.926416Z",
     "shell.execute_reply": "2022-07-13T00:41:14.925937Z"
    },
    "papermill": {
     "duration": 0.293075,
     "end_time": "2022-07-13T00:41:14.926538",
     "exception": false,
     "start_time": "2022-07-13T00:41:14.633463",
     "status": "completed"
    },
    "tags": []
   },
   "outputs": [
    {
     "data": {
      "image/png": "[encoded data removed]",
      "text/plain": [
       "<Figure size 720x648 with 1 Axes>"
      ]
     },
     "metadata": {
      "needs_background": "light"
     },
     "output_type": "display_data"
    }
   ],
   "source": [
    "plt.figure(figsize=(10,9))\n",
    "plt.scatter(testing_plot[:,0], testing_plot[:,1], alpha = 0.1, c = y_test.ravel())\n",
    "contours = plt.contour(x_grid,y_grid,prob_contour)\n",
    "plt.title('Probability Contours')\n",
    "plt.clabel(contours, inline = True );"
   ]
  },
  {
   "cell_type": "code",
   "execution_count": null,
   "id": "e81b4ac7",
   "metadata": {
    "papermill": {
     "duration": 0.04599,
     "end_time": "2022-07-13T00:41:15.019069",
     "exception": false,
     "start_time": "2022-07-13T00:41:14.973079",
     "status": "completed"
    },
    "tags": []
   },
   "outputs": [],
   "source": []
  }
 ],
 "metadata": {
  "kernelspec": {
   "display_name": "Python 3",
   "language": "python",
   "name": "python3"
  },
  "language_info": {
   "codemirror_mode": {
    "name": "ipython",
    "version": 3
   },
   "file_extension": ".py",
   "mimetype": "text/x-python",
   "name": "python",
   "nbconvert_exporter": "python",
   "pygments_lexer": "ipython3",
   "version": "3.6.15"
  },
  "papermill": {
   "default_parameters": {},
   "duration": 98.656183,
   "end_time": "2022-07-13T00:41:15.484319",
   "environment_variables": {},
   "exception": null,
   "input_path": "2020-08-11-part2.ipynb",
   "output_path": "2020-08-11-part2.ipynb",
   "parameters": {},
   "start_time": "2022-07-13T00:39:36.828136",
   "version": "2.3.3"
  }
 },
 "nbformat": 4,
 "nbformat_minor": 5
}