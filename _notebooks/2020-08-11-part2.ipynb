{
 "cells": [
  {
   "cell_type": "markdown",
   "id": "98380cd3",
   "metadata": {
    "papermill": {
     "duration": 0.029506,
     "end_time": "2022-05-30T00:42:46.080376",
     "exception": false,
     "start_time": "2022-05-30T00:42:46.050870",
     "status": "completed"
    },
    "tags": []
   },
   "source": [
    "# Distinguish Your Own Digits (DYOD)"
   ]
  },
  {
   "cell_type": "markdown",
   "id": "ef31240d",
   "metadata": {
    "papermill": {
     "duration": 0.024765,
     "end_time": "2022-05-30T00:42:46.130480",
     "exception": false,
     "start_time": "2022-05-30T00:42:46.105715",
     "status": "completed"
    },
    "tags": []
   },
   "source": [
    "You are going to write a classifier that distinguishes between the number 3 and number 8."
   ]
  },
  {
   "cell_type": "code",
   "execution_count": 1,
   "id": "b15c8646",
   "metadata": {
    "execution": {
     "iopub.execute_input": "2022-05-30T00:42:46.189475Z",
     "iopub.status.busy": "2022-05-30T00:42:46.187129Z",
     "iopub.status.idle": "2022-05-30T00:42:46.199362Z",
     "shell.execute_reply": "2022-05-30T00:42:46.198823Z"
    },
    "papermill": {
     "duration": 0.044353,
     "end_time": "2022-05-30T00:42:46.199473",
     "exception": false,
     "start_time": "2022-05-30T00:42:46.155120",
     "status": "completed"
    },
    "tags": []
   },
   "outputs": [],
   "source": [
    "%load_ext autoreload\n",
    "%autoreload 2"
   ]
  },
  {
   "cell_type": "code",
   "execution_count": 2,
   "id": "22ef38dc",
   "metadata": {
    "execution": {
     "iopub.execute_input": "2022-05-30T00:42:46.252264Z",
     "iopub.status.busy": "2022-05-30T00:42:46.251718Z",
     "iopub.status.idle": "2022-05-30T00:42:46.748474Z",
     "shell.execute_reply": "2022-05-30T00:42:46.747992Z"
    },
    "papermill": {
     "duration": 0.524371,
     "end_time": "2022-05-30T00:42:46.748597",
     "exception": false,
     "start_time": "2022-05-30T00:42:46.224226",
     "status": "completed"
    },
    "tags": []
   },
   "outputs": [],
   "source": [
    "%matplotlib inline\n",
    "import numpy as np\n",
    "import matplotlib.pyplot as plt\n",
    "import pandas as pd"
   ]
  },
  {
   "cell_type": "markdown",
   "id": "ba036198",
   "metadata": {
    "papermill": {
     "duration": 0.024701,
     "end_time": "2022-05-30T00:42:46.798053",
     "exception": false,
     "start_time": "2022-05-30T00:42:46.773352",
     "status": "completed"
    },
    "tags": []
   },
   "source": [
    "From the command line run `pip install mnist`. This is a library that will help you bring down the mnist dataset. If you run this from a notebook, you need to put  `!pip install mnist` in a cell by itself."
   ]
  },
  {
   "cell_type": "code",
   "execution_count": 3,
   "id": "bb6ad8a1",
   "metadata": {
    "execution": {
     "iopub.execute_input": "2022-05-30T00:42:46.851213Z",
     "iopub.status.busy": "2022-05-30T00:42:46.850665Z",
     "iopub.status.idle": "2022-05-30T00:42:48.533133Z",
     "shell.execute_reply": "2022-05-30T00:42:48.532168Z"
    },
    "papermill": {
     "duration": 1.710475,
     "end_time": "2022-05-30T00:42:48.533256",
     "exception": false,
     "start_time": "2022-05-30T00:42:46.822781",
     "status": "completed"
    },
    "tags": []
   },
   "outputs": [
    {
     "name": "stdout",
     "output_type": "stream",
     "text": [
      "Collecting mnist\r\n"
     ]
    },
    {
     "name": "stdout",
     "output_type": "stream",
     "text": [
      "  Downloading mnist-0.2.2-py2.py3-none-any.whl (3.5 kB)\r\n",
      "Requirement already satisfied: numpy in /opt/hostedtoolcache/Python/3.6.15/x64/lib/python3.6/site-packages (from mnist) (1.19.5)\r\n"
     ]
    },
    {
     "name": "stdout",
     "output_type": "stream",
     "text": [
      "Installing collected packages: mnist\r\n"
     ]
    },
    {
     "name": "stdout",
     "output_type": "stream",
     "text": [
      "Successfully installed mnist-0.2.2\r\n"
     ]
    }
   ],
   "source": [
    "!pip install mnist"
   ]
  },
  {
   "cell_type": "markdown",
   "id": "69df9c9a",
   "metadata": {
    "papermill": {
     "duration": 0.026175,
     "end_time": "2022-05-30T00:42:48.585672",
     "exception": false,
     "start_time": "2022-05-30T00:42:48.559497",
     "status": "completed"
    },
    "tags": []
   },
   "source": [
    "## Preparing the Data"
   ]
  },
  {
   "cell_type": "code",
   "execution_count": 4,
   "id": "7f69d806",
   "metadata": {
    "execution": {
     "iopub.execute_input": "2022-05-30T00:42:48.640406Z",
     "iopub.status.busy": "2022-05-30T00:42:48.639863Z",
     "iopub.status.idle": "2022-05-30T00:42:48.653042Z",
     "shell.execute_reply": "2022-05-30T00:42:48.653484Z"
    },
    "papermill": {
     "duration": 0.042182,
     "end_time": "2022-05-30T00:42:48.653593",
     "exception": false,
     "start_time": "2022-05-30T00:42:48.611411",
     "status": "completed"
    },
    "tags": []
   },
   "outputs": [],
   "source": [
    "import mnist"
   ]
  },
  {
   "cell_type": "code",
   "execution_count": 5,
   "id": "a411e44f",
   "metadata": {
    "execution": {
     "iopub.execute_input": "2022-05-30T00:42:48.707848Z",
     "iopub.status.busy": "2022-05-30T00:42:48.707317Z",
     "iopub.status.idle": "2022-05-30T00:42:49.430616Z",
     "shell.execute_reply": "2022-05-30T00:42:49.430112Z"
    },
    "papermill": {
     "duration": 0.75147,
     "end_time": "2022-05-30T00:42:49.430734",
     "exception": false,
     "start_time": "2022-05-30T00:42:48.679264",
     "status": "completed"
    },
    "tags": []
   },
   "outputs": [],
   "source": [
    "train_images = mnist.train_images()\n",
    "train_labels = mnist.train_labels()"
   ]
  },
  {
   "cell_type": "code",
   "execution_count": 6,
   "id": "dceab3a5",
   "metadata": {
    "execution": {
     "iopub.execute_input": "2022-05-30T00:42:49.486208Z",
     "iopub.status.busy": "2022-05-30T00:42:49.485642Z",
     "iopub.status.idle": "2022-05-30T00:42:49.499389Z",
     "shell.execute_reply": "2022-05-30T00:42:49.499837Z"
    },
    "papermill": {
     "duration": 0.043095,
     "end_time": "2022-05-30T00:42:49.499944",
     "exception": false,
     "start_time": "2022-05-30T00:42:49.456849",
     "status": "completed"
    },
    "tags": []
   },
   "outputs": [
    {
     "data": {
      "text/plain": [
       "((60000, 28, 28), (60000,))"
      ]
     },
     "execution_count": 6,
     "metadata": {},
     "output_type": "execute_result"
    }
   ],
   "source": [
    "train_images.shape, train_labels.shape"
   ]
  },
  {
   "cell_type": "code",
   "execution_count": 7,
   "id": "f50dc2bb",
   "metadata": {
    "execution": {
     "iopub.execute_input": "2022-05-30T00:42:49.559161Z",
     "iopub.status.busy": "2022-05-30T00:42:49.558340Z",
     "iopub.status.idle": "2022-05-30T00:42:49.734821Z",
     "shell.execute_reply": "2022-05-30T00:42:49.734280Z"
    },
    "papermill": {
     "duration": 0.20893,
     "end_time": "2022-05-30T00:42:49.734933",
     "exception": false,
     "start_time": "2022-05-30T00:42:49.526003",
     "status": "completed"
    },
    "tags": []
   },
   "outputs": [],
   "source": [
    "test_images = mnist.test_images()\n",
    "test_labels = mnist.test_labels()"
   ]
  },
  {
   "cell_type": "code",
   "execution_count": 8,
   "id": "fc38cf1b",
   "metadata": {
    "execution": {
     "iopub.execute_input": "2022-05-30T00:42:49.790749Z",
     "iopub.status.busy": "2022-05-30T00:42:49.790205Z",
     "iopub.status.idle": "2022-05-30T00:42:49.802523Z",
     "shell.execute_reply": "2022-05-30T00:42:49.803044Z"
    },
    "papermill": {
     "duration": 0.041781,
     "end_time": "2022-05-30T00:42:49.803158",
     "exception": false,
     "start_time": "2022-05-30T00:42:49.761377",
     "status": "completed"
    },
    "tags": []
   },
   "outputs": [
    {
     "data": {
      "text/plain": [
       "((10000, 28, 28), (10000,))"
      ]
     },
     "execution_count": 8,
     "metadata": {},
     "output_type": "execute_result"
    }
   ],
   "source": [
    "test_images.shape, test_labels.shape"
   ]
  },
  {
   "cell_type": "code",
   "execution_count": 9,
   "id": "f9ed8fe0",
   "metadata": {
    "execution": {
     "iopub.execute_input": "2022-05-30T00:42:49.859138Z",
     "iopub.status.busy": "2022-05-30T00:42:49.858588Z",
     "iopub.status.idle": "2022-05-30T00:42:49.992774Z",
     "shell.execute_reply": "2022-05-30T00:42:49.991657Z"
    },
    "papermill": {
     "duration": 0.163384,
     "end_time": "2022-05-30T00:42:49.992885",
     "exception": false,
     "start_time": "2022-05-30T00:42:49.829501",
     "status": "completed"
    },
    "tags": []
   },
   "outputs": [
    {
     "name": "stdout",
     "output_type": "stream",
     "text": [
      "2\n"
     ]
    },
    {
     "data": {
      "text/plain": [
       "<matplotlib.image.AxesImage at 0x7f07bd575e48>"
      ]
     },
     "execution_count": 9,
     "metadata": {},
     "output_type": "execute_result"
    },
    {
     "data": {
      "image/png": "[encoded data removed]",
      "text/plain": [
       "<Figure size 432x288 with 1 Axes>"
      ]
     },
     "metadata": {
      "needs_background": "light"
     },
     "output_type": "display_data"
    }
   ],
   "source": [
    "image_index = 7776 # You may select anything up to 60,000\n",
    "print(train_labels[image_index]) \n",
    "plt.imshow(train_images[image_index], cmap='Greys')"
   ]
  },
  {
   "cell_type": "markdown",
   "id": "a8d2388d",
   "metadata": {
    "papermill": {
     "duration": 0.027308,
     "end_time": "2022-05-30T00:42:50.047929",
     "exception": false,
     "start_time": "2022-05-30T00:42:50.020621",
     "status": "completed"
    },
    "tags": []
   },
   "source": [
    "## Filter data to get 3 and 8 out"
   ]
  },
  {
   "cell_type": "code",
   "execution_count": 10,
   "id": "776f7fc7",
   "metadata": {
    "execution": {
     "iopub.execute_input": "2022-05-30T00:42:50.110866Z",
     "iopub.status.busy": "2022-05-30T00:42:50.105896Z",
     "iopub.status.idle": "2022-05-30T00:42:50.121860Z",
     "shell.execute_reply": "2022-05-30T00:42:50.121403Z"
    },
    "papermill": {
     "duration": 0.046638,
     "end_time": "2022-05-30T00:42:50.121965",
     "exception": false,
     "start_time": "2022-05-30T00:42:50.075327",
     "status": "completed"
    },
    "tags": []
   },
   "outputs": [],
   "source": [
    "train_filter = np.where((train_labels == 3 ) | (train_labels == 8))\n",
    "test_filter = np.where((test_labels == 3) | (test_labels == 8))\n",
    "X_train, y_train = train_images[train_filter], train_labels[train_filter]\n",
    "X_test, y_test = test_images[test_filter], test_labels[test_filter]"
   ]
  },
  {
   "cell_type": "markdown",
   "id": "948f0b7e",
   "metadata": {
    "papermill": {
     "duration": 0.027371,
     "end_time": "2022-05-30T00:42:50.176847",
     "exception": false,
     "start_time": "2022-05-30T00:42:50.149476",
     "status": "completed"
    },
    "tags": []
   },
   "source": [
    "We normalize the pizel values in the 0 to 1 range"
   ]
  },
  {
   "cell_type": "code",
   "execution_count": 11,
   "id": "ee4c2166",
   "metadata": {
    "execution": {
     "iopub.execute_input": "2022-05-30T00:42:50.234873Z",
     "iopub.status.busy": "2022-05-30T00:42:50.234317Z",
     "iopub.status.idle": "2022-05-30T00:42:50.273929Z",
     "shell.execute_reply": "2022-05-30T00:42:50.273459Z"
    },
    "papermill": {
     "duration": 0.069525,
     "end_time": "2022-05-30T00:42:50.274039",
     "exception": false,
     "start_time": "2022-05-30T00:42:50.204514",
     "status": "completed"
    },
    "tags": []
   },
   "outputs": [],
   "source": [
    "X_train = X_train/255.\n",
    "X_test = X_test/255."
   ]
  },
  {
   "cell_type": "markdown",
   "id": "ddcf4fab",
   "metadata": {
    "papermill": {
     "duration": 0.027347,
     "end_time": "2022-05-30T00:42:50.329275",
     "exception": false,
     "start_time": "2022-05-30T00:42:50.301928",
     "status": "completed"
    },
    "tags": []
   },
   "source": [
    "And setup the labels as 1 (when the digit is 3) and 0 (when the digit is 8)"
   ]
  },
  {
   "cell_type": "code",
   "execution_count": 12,
   "id": "7dc908f2",
   "metadata": {
    "execution": {
     "iopub.execute_input": "2022-05-30T00:42:50.388614Z",
     "iopub.status.busy": "2022-05-30T00:42:50.388037Z",
     "iopub.status.idle": "2022-05-30T00:42:50.400195Z",
     "shell.execute_reply": "2022-05-30T00:42:50.399735Z"
    },
    "papermill": {
     "duration": 0.043621,
     "end_time": "2022-05-30T00:42:50.400295",
     "exception": false,
     "start_time": "2022-05-30T00:42:50.356674",
     "status": "completed"
    },
    "tags": []
   },
   "outputs": [],
   "source": [
    "y_train = 1*(y_train==3)\n",
    "y_test = 1*(y_test==3)"
   ]
  },
  {
   "cell_type": "code",
   "execution_count": 13,
   "id": "01e4e969",
   "metadata": {
    "execution": {
     "iopub.execute_input": "2022-05-30T00:42:50.458830Z",
     "iopub.status.busy": "2022-05-30T00:42:50.458283Z",
     "iopub.status.idle": "2022-05-30T00:42:50.470939Z",
     "shell.execute_reply": "2022-05-30T00:42:50.470493Z"
    },
    "papermill": {
     "duration": 0.042578,
     "end_time": "2022-05-30T00:42:50.471036",
     "exception": false,
     "start_time": "2022-05-30T00:42:50.428458",
     "status": "completed"
    },
    "tags": []
   },
   "outputs": [
    {
     "data": {
      "text/plain": [
       "((11982, 28, 28), (1984, 28, 28))"
      ]
     },
     "execution_count": 13,
     "metadata": {},
     "output_type": "execute_result"
    }
   ],
   "source": [
    "X_train.shape, X_test.shape"
   ]
  },
  {
   "cell_type": "markdown",
   "id": "5ccf3f85",
   "metadata": {
    "papermill": {
     "duration": 0.027509,
     "end_time": "2022-05-30T00:42:50.526111",
     "exception": false,
     "start_time": "2022-05-30T00:42:50.498602",
     "status": "completed"
    },
    "tags": []
   },
   "source": [
    "We reshape the data to flatten the image pixels into a set of features or co-variates:"
   ]
  },
  {
   "cell_type": "code",
   "execution_count": 14,
   "id": "5286a4a3",
   "metadata": {
    "execution": {
     "iopub.execute_input": "2022-05-30T00:42:50.584574Z",
     "iopub.status.busy": "2022-05-30T00:42:50.584040Z",
     "iopub.status.idle": "2022-05-30T00:42:50.596831Z",
     "shell.execute_reply": "2022-05-30T00:42:50.596375Z"
    },
    "papermill": {
     "duration": 0.043102,
     "end_time": "2022-05-30T00:42:50.596926",
     "exception": false,
     "start_time": "2022-05-30T00:42:50.553824",
     "status": "completed"
    },
    "tags": []
   },
   "outputs": [
    {
     "data": {
      "text/plain": [
       "((11982, 784), (1984, 784))"
      ]
     },
     "execution_count": 14,
     "metadata": {},
     "output_type": "execute_result"
    }
   ],
   "source": [
    "X_train = X_train.reshape(X_train.shape[0], -1)\n",
    "X_test = X_test.reshape(X_test.shape[0], -1)\n",
    "X_train.shape, X_test.shape"
   ]
  },
  {
   "cell_type": "code",
   "execution_count": 15,
   "id": "73c5f88a",
   "metadata": {
    "execution": {
     "iopub.execute_input": "2022-05-30T00:42:50.656306Z",
     "iopub.status.busy": "2022-05-30T00:42:50.655756Z",
     "iopub.status.idle": "2022-05-30T00:42:50.672790Z",
     "shell.execute_reply": "2022-05-30T00:42:50.672348Z"
    },
    "papermill": {
     "duration": 0.047993,
     "end_time": "2022-05-30T00:42:50.672883",
     "exception": false,
     "start_time": "2022-05-30T00:42:50.624890",
     "status": "completed"
    },
    "tags": []
   },
   "outputs": [],
   "source": [
    "#Impoting functions from 'Kudzu'\n",
    "from kudzu.model import Model\n",
    "from kudzu.train import Learner\n",
    "from kudzu.optim import GD\n",
    "from kudzu.data import Data, Sampler,Dataloader\n",
    "\n",
    "from kudzu.callbacks import AccCallback\n",
    "from kudzu.callbacks import ClfCallback\n",
    "\n",
    "from kudzu.loss import MSE\n",
    "\n",
    "from kudzu.layer import Sigmoid,Relu\n",
    "from kudzu.layer import Affine"
   ]
  },
  {
   "cell_type": "markdown",
   "id": "bc01172a",
   "metadata": {
    "papermill": {
     "duration": 0.027845,
     "end_time": "2022-05-30T00:42:50.728749",
     "exception": false,
     "start_time": "2022-05-30T00:42:50.700904",
     "status": "completed"
    },
    "tags": []
   },
   "source": [
    "### Let us create a `Config` class, to store important parameters. \n",
    "This class essentially plays the role of a dictionary."
   ]
  },
  {
   "cell_type": "code",
   "execution_count": 16,
   "id": "978281aa",
   "metadata": {
    "execution": {
     "iopub.execute_input": "2022-05-30T00:42:50.787581Z",
     "iopub.status.busy": "2022-05-30T00:42:50.787037Z",
     "iopub.status.idle": "2022-05-30T00:42:50.797898Z",
     "shell.execute_reply": "2022-05-30T00:42:50.798367Z"
    },
    "papermill": {
     "duration": 0.041911,
     "end_time": "2022-05-30T00:42:50.798478",
     "exception": false,
     "start_time": "2022-05-30T00:42:50.756567",
     "status": "completed"
    },
    "tags": []
   },
   "outputs": [],
   "source": [
    "class Config:\n",
    "    pass\n",
    "config = Config()\n",
    "config.lr = 0.001\n",
    "config.num_epochs = 250\n",
    "config.bs = 50"
   ]
  },
  {
   "cell_type": "markdown",
   "id": "1385fa59",
   "metadata": {
    "papermill": {
     "duration": 0.027774,
     "end_time": "2022-05-30T00:42:50.854182",
     "exception": false,
     "start_time": "2022-05-30T00:42:50.826408",
     "status": "completed"
    },
    "tags": []
   },
   "source": [
    "### Running Models with the Training data\n",
    "Details about the network layers:\n",
    "- A first affine layer has 784 inputs and does 100 affine transforms. These are followed by a Relu\n",
    "- A second affine layer has 100 inputs from the 100 activations of the past layer, and does 100 affine transforms. These are followed by a Relu\n",
    "- A third affine layer has 100 activations and does 2 affine transformations to create an embedding for visualization. There is no non-linearity here.\n",
    "- A final \"logistic regression\" which has an affine transform from 2 inputs to 1 output, which is squeezed through a sigmoid.\n"
   ]
  },
  {
   "cell_type": "code",
   "execution_count": 17,
   "id": "2b9c66db",
   "metadata": {
    "execution": {
     "iopub.execute_input": "2022-05-30T00:42:50.913383Z",
     "iopub.status.busy": "2022-05-30T00:42:50.912837Z",
     "iopub.status.idle": "2022-05-30T00:42:50.924300Z",
     "shell.execute_reply": "2022-05-30T00:42:50.923762Z"
    },
    "papermill": {
     "duration": 0.042301,
     "end_time": "2022-05-30T00:42:50.924396",
     "exception": false,
     "start_time": "2022-05-30T00:42:50.882095",
     "status": "completed"
    },
    "tags": []
   },
   "outputs": [],
   "source": [
    "data = Data(X_train, y_train.reshape(-1,1))\n",
    "sampler = Sampler(data, config.bs, shuffle=True)\n",
    "\n",
    "dl = Dataloader(data, sampler)\n",
    "\n",
    "opt = GD(config.lr)\n",
    "loss = MSE()"
   ]
  },
  {
   "cell_type": "code",
   "execution_count": 18,
   "id": "b275e4c2",
   "metadata": {
    "execution": {
     "iopub.execute_input": "2022-05-30T00:42:50.983472Z",
     "iopub.status.busy": "2022-05-30T00:42:50.982920Z",
     "iopub.status.idle": "2022-05-30T00:42:50.993899Z",
     "shell.execute_reply": "2022-05-30T00:42:50.993450Z"
    },
    "papermill": {
     "duration": 0.041528,
     "end_time": "2022-05-30T00:42:50.993993",
     "exception": false,
     "start_time": "2022-05-30T00:42:50.952465",
     "status": "completed"
    },
    "tags": []
   },
   "outputs": [],
   "source": [
    "training_data_x = X_train\n",
    "testing_data_x = X_test\n",
    "training_data_y = y_train.reshape(-1,1)\n",
    "testing_data_y = y_test.reshape(-1,1)"
   ]
  },
  {
   "cell_type": "code",
   "execution_count": 19,
   "id": "76951160",
   "metadata": {
    "execution": {
     "iopub.execute_input": "2022-05-30T00:42:51.053622Z",
     "iopub.status.busy": "2022-05-30T00:42:51.053065Z",
     "iopub.status.idle": "2022-05-30T00:42:51.067657Z",
     "shell.execute_reply": "2022-05-30T00:42:51.068084Z"
    },
    "papermill": {
     "duration": 0.046314,
     "end_time": "2022-05-30T00:42:51.068192",
     "exception": false,
     "start_time": "2022-05-30T00:42:51.021878",
     "status": "completed"
    },
    "tags": []
   },
   "outputs": [
    {
     "name": "stdout",
     "output_type": "stream",
     "text": [
      "xavier\n",
      "xavier\n",
      "xavier\n",
      "xavier\n",
      "xavier\n"
     ]
    }
   ],
   "source": [
    "layers = [Affine(\"first\", 784, 100), Relu(\"first\"), Affine(\"second\", 100, 100), Relu(\"second\"), Affine(\"third\", 100, 2), Affine(\"last\", 2, 1), Sigmoid(\"last\")]\n",
    "model_nn = Model(layers)\n",
    "model_lr = Model([Affine(\"logits\", 784, 1), Sigmoid(\"sigmoid\")])"
   ]
  },
  {
   "cell_type": "code",
   "execution_count": 20,
   "id": "6eede77a",
   "metadata": {
    "execution": {
     "iopub.execute_input": "2022-05-30T00:42:51.128365Z",
     "iopub.status.busy": "2022-05-30T00:42:51.127813Z",
     "iopub.status.idle": "2022-05-30T00:42:51.138482Z",
     "shell.execute_reply": "2022-05-30T00:42:51.137931Z"
    },
    "papermill": {
     "duration": 0.042163,
     "end_time": "2022-05-30T00:42:51.138579",
     "exception": false,
     "start_time": "2022-05-30T00:42:51.096416",
     "status": "completed"
    },
    "tags": []
   },
   "outputs": [],
   "source": [
    "nn_learner = Learner(loss, model_nn, opt, config.num_epochs)\n",
    "acc_nn = ClfCallback(nn_learner, config.bs, training_data_x , testing_data_x, training_data_y, testing_data_y)\n",
    "nn_learner.set_callbacks([acc_nn])"
   ]
  },
  {
   "cell_type": "code",
   "execution_count": 21,
   "id": "877b6cc7",
   "metadata": {
    "execution": {
     "iopub.execute_input": "2022-05-30T00:42:51.197926Z",
     "iopub.status.busy": "2022-05-30T00:42:51.197386Z",
     "iopub.status.idle": "2022-05-30T00:42:51.208049Z",
     "shell.execute_reply": "2022-05-30T00:42:51.208464Z"
    },
    "papermill": {
     "duration": 0.041861,
     "end_time": "2022-05-30T00:42:51.208569",
     "exception": false,
     "start_time": "2022-05-30T00:42:51.166708",
     "status": "completed"
    },
    "tags": []
   },
   "outputs": [],
   "source": [
    "lr_learner = Learner(loss, model_lr, opt, config.num_epochs)\n",
    "acc_lr = ClfCallback(lr_learner, config.bs, training_data_x , testing_data_x, training_data_y, testing_data_y)\n",
    "lr_learner.set_callbacks([acc_lr])"
   ]
  },
  {
   "cell_type": "code",
   "execution_count": 22,
   "id": "d9b133c3",
   "metadata": {
    "execution": {
     "iopub.execute_input": "2022-05-30T00:42:51.267788Z",
     "iopub.status.busy": "2022-05-30T00:42:51.267243Z",
     "iopub.status.idle": "2022-05-30T00:45:46.021575Z",
     "shell.execute_reply": "2022-05-30T00:45:46.022077Z"
    },
    "papermill": {
     "duration": 174.785555,
     "end_time": "2022-05-30T00:45:46.022228",
     "exception": false,
     "start_time": "2022-05-30T00:42:51.236673",
     "status": "completed"
    },
    "tags": []
   },
   "outputs": [
    {
     "name": "stdout",
     "output_type": "stream",
     "text": [
      "Epoch 0, Loss 0.2257\n",
      "Training Accuracy: 0.7333, Testing Accuracy: 0.7162\n",
      "\n"
     ]
    },
    {
     "name": "stdout",
     "output_type": "stream",
     "text": [
      "Epoch 10, Loss 0.0799\n",
      "Training Accuracy: 0.9176, Testing Accuracy: 0.9249\n",
      "\n"
     ]
    },
    {
     "name": "stdout",
     "output_type": "stream",
     "text": [
      "Epoch 20, Loss 0.0515\n",
      "Training Accuracy: 0.9431, Testing Accuracy: 0.9516\n",
      "\n"
     ]
    },
    {
     "name": "stdout",
     "output_type": "stream",
     "text": [
      "Epoch 30, Loss 0.0413\n",
      "Training Accuracy: 0.9526, Testing Accuracy: 0.9617\n",
      "\n"
     ]
    },
    {
     "name": "stdout",
     "output_type": "stream",
     "text": [
      "Epoch 40, Loss 0.0363\n",
      "Training Accuracy: 0.9580, Testing Accuracy: 0.9647\n",
      "\n"
     ]
    },
    {
     "name": "stdout",
     "output_type": "stream",
     "text": [
      "Epoch 50, Loss 0.0332\n",
      "Training Accuracy: 0.9609, Testing Accuracy: 0.9672\n",
      "\n"
     ]
    },
    {
     "name": "stdout",
     "output_type": "stream",
     "text": [
      "Epoch 60, Loss 0.031\n",
      "Training Accuracy: 0.9636, Testing Accuracy: 0.9682\n",
      "\n"
     ]
    },
    {
     "name": "stdout",
     "output_type": "stream",
     "text": [
      "Epoch 70, Loss 0.0294\n",
      "Training Accuracy: 0.9649, Testing Accuracy: 0.9698\n",
      "\n"
     ]
    },
    {
     "name": "stdout",
     "output_type": "stream",
     "text": [
      "Epoch 80, Loss 0.0281\n",
      "Training Accuracy: 0.9664, Testing Accuracy: 0.9708\n",
      "\n"
     ]
    },
    {
     "name": "stdout",
     "output_type": "stream",
     "text": [
      "Epoch 90, Loss 0.0271\n",
      "Training Accuracy: 0.9681, Testing Accuracy: 0.9713\n",
      "\n"
     ]
    },
    {
     "name": "stdout",
     "output_type": "stream",
     "text": [
      "Epoch 100, Loss 0.0262\n",
      "Training Accuracy: 0.9691, Testing Accuracy: 0.9713\n",
      "\n"
     ]
    },
    {
     "name": "stdout",
     "output_type": "stream",
     "text": [
      "Epoch 110, Loss 0.0254\n",
      "Training Accuracy: 0.9702, Testing Accuracy: 0.9713\n",
      "\n"
     ]
    },
    {
     "name": "stdout",
     "output_type": "stream",
     "text": [
      "Epoch 120, Loss 0.0248\n",
      "Training Accuracy: 0.9711, Testing Accuracy: 0.9728\n",
      "\n"
     ]
    },
    {
     "name": "stdout",
     "output_type": "stream",
     "text": [
      "Epoch 130, Loss 0.0241\n",
      "Training Accuracy: 0.9719, Testing Accuracy: 0.9718\n",
      "\n"
     ]
    },
    {
     "name": "stdout",
     "output_type": "stream",
     "text": [
      "Epoch 140, Loss 0.0236\n",
      "Training Accuracy: 0.9728, Testing Accuracy: 0.9733\n",
      "\n"
     ]
    },
    {
     "name": "stdout",
     "output_type": "stream",
     "text": [
      "Epoch 150, Loss 0.023\n",
      "Training Accuracy: 0.9738, Testing Accuracy: 0.9728\n",
      "\n"
     ]
    },
    {
     "name": "stdout",
     "output_type": "stream",
     "text": [
      "Epoch 160, Loss 0.0225\n",
      "Training Accuracy: 0.9743, Testing Accuracy: 0.9723\n",
      "\n"
     ]
    },
    {
     "name": "stdout",
     "output_type": "stream",
     "text": [
      "Epoch 170, Loss 0.0221\n",
      "Training Accuracy: 0.9746, Testing Accuracy: 0.9728\n",
      "\n"
     ]
    },
    {
     "name": "stdout",
     "output_type": "stream",
     "text": [
      "Epoch 180, Loss 0.0216\n",
      "Training Accuracy: 0.9758, Testing Accuracy: 0.9733\n",
      "\n"
     ]
    },
    {
     "name": "stdout",
     "output_type": "stream",
     "text": [
      "Epoch 190, Loss 0.0212\n",
      "Training Accuracy: 0.9765, Testing Accuracy: 0.9733\n",
      "\n"
     ]
    },
    {
     "name": "stdout",
     "output_type": "stream",
     "text": [
      "Epoch 200, Loss 0.0208\n",
      "Training Accuracy: 0.9767, Testing Accuracy: 0.9738\n",
      "\n"
     ]
    },
    {
     "name": "stdout",
     "output_type": "stream",
     "text": [
      "Epoch 210, Loss 0.0203\n",
      "Training Accuracy: 0.9775, Testing Accuracy: 0.9738\n",
      "\n"
     ]
    },
    {
     "name": "stdout",
     "output_type": "stream",
     "text": [
      "Epoch 220, Loss 0.0199\n",
      "Training Accuracy: 0.9780, Testing Accuracy: 0.9748\n",
      "\n"
     ]
    },
    {
     "name": "stdout",
     "output_type": "stream",
     "text": [
      "Epoch 230, Loss 0.0195\n",
      "Training Accuracy: 0.9785, Testing Accuracy: 0.9748\n",
      "\n"
     ]
    },
    {
     "name": "stdout",
     "output_type": "stream",
     "text": [
      "Epoch 240, Loss 0.0191\n",
      "Training Accuracy: 0.9787, Testing Accuracy: 0.9758\n",
      "\n"
     ]
    },
    {
     "data": {
      "text/plain": [
       "0.015554338187475064"
      ]
     },
     "execution_count": 22,
     "metadata": {},
     "output_type": "execute_result"
    }
   ],
   "source": [
    "nn_learner.train_loop(dl)"
   ]
  },
  {
   "cell_type": "code",
   "execution_count": 23,
   "id": "e0163366",
   "metadata": {
    "execution": {
     "iopub.execute_input": "2022-05-30T00:45:46.099816Z",
     "iopub.status.busy": "2022-05-30T00:45:46.099250Z",
     "iopub.status.idle": "2022-05-30T00:45:58.235884Z",
     "shell.execute_reply": "2022-05-30T00:45:58.236675Z"
    },
    "papermill": {
     "duration": 12.178135,
     "end_time": "2022-05-30T00:45:58.236810",
     "exception": false,
     "start_time": "2022-05-30T00:45:46.058675",
     "status": "completed"
    },
    "tags": []
   },
   "outputs": [
    {
     "name": "stdout",
     "output_type": "stream",
     "text": [
      "Epoch 0, Loss 0.2301\n",
      "Training Accuracy: 0.7450, Testing Accuracy: 0.7586\n",
      "\n"
     ]
    },
    {
     "name": "stdout",
     "output_type": "stream",
     "text": [
      "Epoch 10, Loss 0.1004\n",
      "Training Accuracy: 0.9125, Testing Accuracy: 0.9249\n",
      "\n"
     ]
    },
    {
     "name": "stdout",
     "output_type": "stream",
     "text": [
      "Epoch 20, Loss 0.078\n",
      "Training Accuracy: 0.9292, Testing Accuracy: 0.9375\n",
      "\n"
     ]
    },
    {
     "name": "stdout",
     "output_type": "stream",
     "text": [
      "Epoch 30, Loss 0.0676\n",
      "Training Accuracy: 0.9365, Testing Accuracy: 0.9435\n",
      "\n"
     ]
    },
    {
     "name": "stdout",
     "output_type": "stream",
     "text": [
      "Epoch 40, Loss 0.0613\n",
      "Training Accuracy: 0.9410, Testing Accuracy: 0.9511\n",
      "\n"
     ]
    },
    {
     "name": "stdout",
     "output_type": "stream",
     "text": [
      "Epoch 50, Loss 0.057\n",
      "Training Accuracy: 0.9443, Testing Accuracy: 0.9541\n",
      "\n"
     ]
    },
    {
     "name": "stdout",
     "output_type": "stream",
     "text": [
      "Epoch 60, Loss 0.0538\n",
      "Training Accuracy: 0.9468, Testing Accuracy: 0.9561\n",
      "\n"
     ]
    },
    {
     "name": "stdout",
     "output_type": "stream",
     "text": [
      "Epoch 70, Loss 0.0513\n",
      "Training Accuracy: 0.9483, Testing Accuracy: 0.9582\n",
      "\n"
     ]
    },
    {
     "name": "stdout",
     "output_type": "stream",
     "text": [
      "Epoch 80, Loss 0.0493\n",
      "Training Accuracy: 0.9496, Testing Accuracy: 0.9577\n",
      "\n"
     ]
    },
    {
     "name": "stdout",
     "output_type": "stream",
     "text": [
      "Epoch 90, Loss 0.0476\n",
      "Training Accuracy: 0.9513, Testing Accuracy: 0.9597\n",
      "\n"
     ]
    },
    {
     "name": "stdout",
     "output_type": "stream",
     "text": [
      "Epoch 100, Loss 0.0462\n",
      "Training Accuracy: 0.9523, Testing Accuracy: 0.9617\n",
      "\n"
     ]
    },
    {
     "name": "stdout",
     "output_type": "stream",
     "text": [
      "Epoch 110, Loss 0.045\n",
      "Training Accuracy: 0.9538, Testing Accuracy: 0.9622\n",
      "\n"
     ]
    },
    {
     "name": "stdout",
     "output_type": "stream",
     "text": [
      "Epoch 120, Loss 0.0439\n",
      "Training Accuracy: 0.9546, Testing Accuracy: 0.9627\n",
      "\n"
     ]
    },
    {
     "name": "stdout",
     "output_type": "stream",
     "text": [
      "Epoch 130, Loss 0.043\n",
      "Training Accuracy: 0.9551, Testing Accuracy: 0.9632\n",
      "\n"
     ]
    },
    {
     "name": "stdout",
     "output_type": "stream",
     "text": [
      "Epoch 140, Loss 0.0422\n",
      "Training Accuracy: 0.9567, Testing Accuracy: 0.9632\n",
      "\n"
     ]
    },
    {
     "name": "stdout",
     "output_type": "stream",
     "text": [
      "Epoch 150, Loss 0.0414\n",
      "Training Accuracy: 0.9575, Testing Accuracy: 0.9637\n",
      "\n"
     ]
    },
    {
     "name": "stdout",
     "output_type": "stream",
     "text": [
      "Epoch 160, Loss 0.0408\n",
      "Training Accuracy: 0.9584, Testing Accuracy: 0.9637\n",
      "\n"
     ]
    },
    {
     "name": "stdout",
     "output_type": "stream",
     "text": [
      "Epoch 170, Loss 0.0402\n",
      "Training Accuracy: 0.9588, Testing Accuracy: 0.9647\n",
      "\n"
     ]
    },
    {
     "name": "stdout",
     "output_type": "stream",
     "text": [
      "Epoch 180, Loss 0.0396\n",
      "Training Accuracy: 0.9593, Testing Accuracy: 0.9657\n",
      "\n"
     ]
    },
    {
     "name": "stdout",
     "output_type": "stream",
     "text": [
      "Epoch 190, Loss 0.0391\n",
      "Training Accuracy: 0.9596, Testing Accuracy: 0.9662\n",
      "\n"
     ]
    },
    {
     "name": "stdout",
     "output_type": "stream",
     "text": [
      "Epoch 200, Loss 0.0386\n",
      "Training Accuracy: 0.9604, Testing Accuracy: 0.9667\n",
      "\n"
     ]
    },
    {
     "name": "stdout",
     "output_type": "stream",
     "text": [
      "Epoch 210, Loss 0.0381\n",
      "Training Accuracy: 0.9605, Testing Accuracy: 0.9667\n",
      "\n"
     ]
    },
    {
     "name": "stdout",
     "output_type": "stream",
     "text": [
      "Epoch 220, Loss 0.0377\n",
      "Training Accuracy: 0.9611, Testing Accuracy: 0.9667\n",
      "\n"
     ]
    },
    {
     "name": "stdout",
     "output_type": "stream",
     "text": [
      "Epoch 230, Loss 0.0373\n",
      "Training Accuracy: 0.9612, Testing Accuracy: 0.9677\n",
      "\n"
     ]
    },
    {
     "name": "stdout",
     "output_type": "stream",
     "text": [
      "Epoch 240, Loss 0.037\n",
      "Training Accuracy: 0.9615, Testing Accuracy: 0.9672\n",
      "\n"
     ]
    },
    {
     "data": {
      "text/plain": [
       "0.06190453772223546"
      ]
     },
     "execution_count": 23,
     "metadata": {},
     "output_type": "execute_result"
    }
   ],
   "source": [
    "lr_learner.train_loop(dl)"
   ]
  },
  {
   "cell_type": "code",
   "execution_count": 24,
   "id": "ca410940",
   "metadata": {
    "execution": {
     "iopub.execute_input": "2022-05-30T00:45:58.327664Z",
     "iopub.status.busy": "2022-05-30T00:45:58.327092Z",
     "iopub.status.idle": "2022-05-30T00:45:58.551937Z",
     "shell.execute_reply": "2022-05-30T00:45:58.552386Z"
    },
    "papermill": {
     "duration": 0.272107,
     "end_time": "2022-05-30T00:45:58.552517",
     "exception": false,
     "start_time": "2022-05-30T00:45:58.280410",
     "status": "completed"
    },
    "tags": []
   },
   "outputs": [
    {
     "data": {
      "text/plain": [
       "<matplotlib.legend.Legend at 0x7f07bd0e64a8>"
      ]
     },
     "execution_count": 24,
     "metadata": {},
     "output_type": "execute_result"
    },
    {
     "data": {
      "image/png": "[encoded data removed]",
      "text/plain": [
       "<Figure size 1080x720 with 1 Axes>"
      ]
     },
     "metadata": {
      "needs_background": "light"
     },
     "output_type": "display_data"
    }
   ],
   "source": [
    "#comparing the results of NN and LR\n",
    "plt.figure(figsize=(15,10))\n",
    "\n",
    "# Neural Network plots\n",
    "plt.plot(acc_nn.accuracies, 'r-', label = \"Training Accuracies - NN\")\n",
    "plt.plot(acc_nn.test_accuracies, 'g-', label = \"Testing Accuracies - NN\")\n",
    "\n",
    "# Logistic Regression plots\n",
    "plt.plot(acc_lr.accuracies, 'k-', label = \"Training Accuracies - LR\")\n",
    "plt.plot(acc_lr.test_accuracies, 'b-', label = \"Testing Accuracies - LR\")\n",
    "plt.legend()"
   ]
  },
  {
   "cell_type": "markdown",
   "id": "80dfb35c",
   "metadata": {
    "papermill": {
     "duration": 0.044016,
     "end_time": "2022-05-30T00:45:58.641285",
     "exception": false,
     "start_time": "2022-05-30T00:45:58.597269",
     "status": "completed"
    },
    "tags": []
   },
   "source": [
    "#### Plotting the outputs of this layer of the NN.\n"
   ]
  },
  {
   "cell_type": "code",
   "execution_count": 25,
   "id": "45eb2ff5",
   "metadata": {
    "execution": {
     "iopub.execute_input": "2022-05-30T00:45:58.735559Z",
     "iopub.status.busy": "2022-05-30T00:45:58.734275Z",
     "iopub.status.idle": "2022-05-30T00:45:58.770807Z",
     "shell.execute_reply": "2022-05-30T00:45:58.770333Z"
    },
    "papermill": {
     "duration": 0.085054,
     "end_time": "2022-05-30T00:45:58.770917",
     "exception": false,
     "start_time": "2022-05-30T00:45:58.685863",
     "status": "completed"
    },
    "tags": []
   },
   "outputs": [],
   "source": [
    "new_model = Model(layers[:-2])\n",
    "testing_plot = new_model(testing_data_x)"
   ]
  },
  {
   "cell_type": "code",
   "execution_count": 26,
   "id": "4c0a5485",
   "metadata": {
    "execution": {
     "iopub.execute_input": "2022-05-30T00:45:58.865966Z",
     "iopub.status.busy": "2022-05-30T00:45:58.864680Z",
     "iopub.status.idle": "2022-05-30T00:45:59.057442Z",
     "shell.execute_reply": "2022-05-30T00:45:59.056485Z"
    },
    "papermill": {
     "duration": 0.241674,
     "end_time": "2022-05-30T00:45:59.057562",
     "exception": false,
     "start_time": "2022-05-30T00:45:58.815888",
     "status": "completed"
    },
    "tags": []
   },
   "outputs": [
    {
     "data": {
      "text/plain": [
       "Text(0.5, 1.0, 'Outputs')"
      ]
     },
     "execution_count": 26,
     "metadata": {},
     "output_type": "execute_result"
    },
    {
     "data": {
      "image/png": "[encoded data removed]",
      "text/plain": [
       "<Figure size 576x504 with 1 Axes>"
      ]
     },
     "metadata": {
      "needs_background": "light"
     },
     "output_type": "display_data"
    }
   ],
   "source": [
    "# Plotting the scatter plot of points and color coding by class\n",
    "plt.figure(figsize=(8,7))\n",
    "plt.scatter(testing_plot[:,0], testing_plot[:,1], alpha = 0.1, c = y_test.ravel());\n",
    "plt.title('Outputs')"
   ]
  },
  {
   "cell_type": "markdown",
   "id": "a74fcf8f",
   "metadata": {
    "papermill": {
     "duration": 0.04673,
     "end_time": "2022-05-30T00:45:59.172321",
     "exception": false,
     "start_time": "2022-05-30T00:45:59.125591",
     "status": "completed"
    },
    "tags": []
   },
   "source": [
    "Probability contours"
   ]
  },
  {
   "cell_type": "code",
   "execution_count": 27,
   "id": "d0afc8e3",
   "metadata": {
    "execution": {
     "iopub.execute_input": "2022-05-30T00:45:59.272449Z",
     "iopub.status.busy": "2022-05-30T00:45:59.270420Z",
     "iopub.status.idle": "2022-05-30T00:45:59.282296Z",
     "shell.execute_reply": "2022-05-30T00:45:59.281712Z"
    },
    "papermill": {
     "duration": 0.063185,
     "end_time": "2022-05-30T00:45:59.282403",
     "exception": false,
     "start_time": "2022-05-30T00:45:59.219218",
     "status": "completed"
    },
    "tags": []
   },
   "outputs": [],
   "source": [
    "model_prob = Model(layers[-2:]) "
   ]
  },
  {
   "cell_type": "code",
   "execution_count": 28,
   "id": "9b96e238",
   "metadata": {
    "execution": {
     "iopub.execute_input": "2022-05-30T00:45:59.380197Z",
     "iopub.status.busy": "2022-05-30T00:45:59.379633Z",
     "iopub.status.idle": "2022-05-30T00:45:59.393600Z",
     "shell.execute_reply": "2022-05-30T00:45:59.393993Z"
    },
    "papermill": {
     "duration": 0.064904,
     "end_time": "2022-05-30T00:45:59.394116",
     "exception": false,
     "start_time": "2022-05-30T00:45:59.329212",
     "status": "completed"
    },
    "tags": []
   },
   "outputs": [],
   "source": [
    "#creating the x and y ranges according to the above generated plot.\n",
    "x_range = np.linspace(-4, 1, 100) \n",
    "y_range = np.linspace(-6, 6, 100) \n",
    "x_grid, y_grid = np.meshgrid(x_range, y_range) # x_grid and y_grig are of size 100 X 100\n",
    "\n",
    "# converting x_grid and y_grid to continuous arrays\n",
    "x_gridflat = np.ravel(x_grid)\n",
    "y_gridflat = np.ravel(y_grid)\n",
    "\n",
    "# The last layer of the current model takes two columns as input. Hence transpose of np.vstack() is required.\n",
    "X = np.vstack((x_gridflat, y_gridflat)).T\n",
    "\n",
    "prob_contour = model_prob(X).reshape(100,100) "
   ]
  },
  {
   "cell_type": "code",
   "execution_count": 29,
   "id": "da72499a",
   "metadata": {
    "execution": {
     "iopub.execute_input": "2022-05-30T00:45:59.491814Z",
     "iopub.status.busy": "2022-05-30T00:45:59.491266Z",
     "iopub.status.idle": "2022-05-30T00:45:59.736995Z",
     "shell.execute_reply": "2022-05-30T00:45:59.736544Z"
    },
    "papermill": {
     "duration": 0.296049,
     "end_time": "2022-05-30T00:45:59.737108",
     "exception": false,
     "start_time": "2022-05-30T00:45:59.441059",
     "status": "completed"
    },
    "tags": []
   },
   "outputs": [
    {
     "data": {
      "image/png": "[encoded data removed]",
      "text/plain": [
       "<Figure size 720x648 with 1 Axes>"
      ]
     },
     "metadata": {
      "needs_background": "light"
     },
     "output_type": "display_data"
    }
   ],
   "source": [
    "plt.figure(figsize=(10,9))\n",
    "plt.scatter(testing_plot[:,0], testing_plot[:,1], alpha = 0.1, c = y_test.ravel())\n",
    "contours = plt.contour(x_grid,y_grid,prob_contour)\n",
    "plt.title('Probability Contours')\n",
    "plt.clabel(contours, inline = True );"
   ]
  },
  {
   "cell_type": "code",
   "execution_count": null,
   "id": "e81b4ac7",
   "metadata": {
    "papermill": {
     "duration": 0.049128,
     "end_time": "2022-05-30T00:45:59.836214",
     "exception": false,
     "start_time": "2022-05-30T00:45:59.787086",
     "status": "completed"
    },
    "tags": []
   },
   "outputs": [],
   "source": []
  }
 ],
 "metadata": {
  "kernelspec": {
   "display_name": "Python 3",
   "language": "python",
   "name": "python3"
  },
  "language_info": {
   "codemirror_mode": {
    "name": "ipython",
    "version": 3
   },
   "file_extension": ".py",
   "mimetype": "text/x-python",
   "name": "python",
   "nbconvert_exporter": "python",
   "pygments_lexer": "ipython3",
   "version": "3.6.15"
  },
  "papermill": {
   "default_parameters": {},
   "duration": 195.064368,
   "end_time": "2022-05-30T00:46:00.203684",
   "environment_variables": {},
   "exception": null,
   "input_path": "2020-08-11-part2.ipynb",
   "output_path": "2020-08-11-part2.ipynb",
   "parameters": {},
   "start_time": "2022-05-30T00:42:45.139316",
   "version": "2.3.3"
  }
 },
 "nbformat": 4,
 "nbformat_minor": 5
}