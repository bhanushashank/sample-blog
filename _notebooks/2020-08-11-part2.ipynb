{
 "cells": [
  {
   "cell_type": "markdown",
   "id": "98380cd3",
   "metadata": {
    "papermill": {
     "duration": 0.029972,
     "end_time": "2022-05-21T00:35:42.597380",
     "exception": false,
     "start_time": "2022-05-21T00:35:42.567408",
     "status": "completed"
    },
    "tags": []
   },
   "source": [
    "# Distinguish Your Own Digits (DYOD)"
   ]
  },
  {
   "cell_type": "markdown",
   "id": "ef31240d",
   "metadata": {
    "papermill": {
     "duration": 0.024756,
     "end_time": "2022-05-21T00:35:42.647651",
     "exception": false,
     "start_time": "2022-05-21T00:35:42.622895",
     "status": "completed"
    },
    "tags": []
   },
   "source": [
    "You are going to write a classifier that distinguishes between the number 3 and number 8."
   ]
  },
  {
   "cell_type": "code",
   "execution_count": 1,
   "id": "b15c8646",
   "metadata": {
    "execution": {
     "iopub.execute_input": "2022-05-21T00:35:42.707184Z",
     "iopub.status.busy": "2022-05-21T00:35:42.706610Z",
     "iopub.status.idle": "2022-05-21T00:35:42.717155Z",
     "shell.execute_reply": "2022-05-21T00:35:42.716708Z"
    },
    "papermill": {
     "duration": 0.044853,
     "end_time": "2022-05-21T00:35:42.717271",
     "exception": false,
     "start_time": "2022-05-21T00:35:42.672418",
     "status": "completed"
    },
    "tags": []
   },
   "outputs": [],
   "source": [
    "%load_ext autoreload\n",
    "%autoreload 2"
   ]
  },
  {
   "cell_type": "code",
   "execution_count": 2,
   "id": "22ef38dc",
   "metadata": {
    "execution": {
     "iopub.execute_input": "2022-05-21T00:35:42.771088Z",
     "iopub.status.busy": "2022-05-21T00:35:42.770529Z",
     "iopub.status.idle": "2022-05-21T00:35:43.279171Z",
     "shell.execute_reply": "2022-05-21T00:35:43.278680Z"
    },
    "papermill": {
     "duration": 0.537036,
     "end_time": "2022-05-21T00:35:43.279289",
     "exception": false,
     "start_time": "2022-05-21T00:35:42.742253",
     "status": "completed"
    },
    "tags": []
   },
   "outputs": [],
   "source": [
    "%matplotlib inline\n",
    "import numpy as np\n",
    "import matplotlib.pyplot as plt\n",
    "import pandas as pd"
   ]
  },
  {
   "cell_type": "markdown",
   "id": "ba036198",
   "metadata": {
    "papermill": {
     "duration": 0.024775,
     "end_time": "2022-05-21T00:35:43.328865",
     "exception": false,
     "start_time": "2022-05-21T00:35:43.304090",
     "status": "completed"
    },
    "tags": []
   },
   "source": [
    "From the command line run `pip install mnist`. This is a library that will help you bring down the mnist dataset. If you run this from a notebook, you need to put  `!pip install mnist` in a cell by itself."
   ]
  },
  {
   "cell_type": "code",
   "execution_count": 3,
   "id": "bb6ad8a1",
   "metadata": {
    "execution": {
     "iopub.execute_input": "2022-05-21T00:35:43.382880Z",
     "iopub.status.busy": "2022-05-21T00:35:43.382302Z",
     "iopub.status.idle": "2022-05-21T00:35:45.648409Z",
     "shell.execute_reply": "2022-05-21T00:35:45.647624Z"
    },
    "papermill": {
     "duration": 2.294729,
     "end_time": "2022-05-21T00:35:45.648526",
     "exception": false,
     "start_time": "2022-05-21T00:35:43.353797",
     "status": "completed"
    },
    "tags": []
   },
   "outputs": [
    {
     "name": "stdout",
     "output_type": "stream",
     "text": [
      "Collecting mnist\r\n"
     ]
    },
    {
     "name": "stdout",
     "output_type": "stream",
     "text": [
      "  Downloading mnist-0.2.2-py2.py3-none-any.whl (3.5 kB)\r\n"
     ]
    },
    {
     "name": "stdout",
     "output_type": "stream",
     "text": [
      "Requirement already satisfied: numpy in /opt/hostedtoolcache/Python/3.6.15/x64/lib/python3.6/site-packages (from mnist) (1.19.5)\r\n"
     ]
    },
    {
     "name": "stdout",
     "output_type": "stream",
     "text": [
      "Installing collected packages: mnist\r\n",
      "Successfully installed mnist-0.2.2\r\n"
     ]
    }
   ],
   "source": [
    "!pip install mnist"
   ]
  },
  {
   "cell_type": "markdown",
   "id": "69df9c9a",
   "metadata": {
    "papermill": {
     "duration": 0.025941,
     "end_time": "2022-05-21T00:35:45.700651",
     "exception": false,
     "start_time": "2022-05-21T00:35:45.674710",
     "status": "completed"
    },
    "tags": []
   },
   "source": [
    "## Preparing the Data"
   ]
  },
  {
   "cell_type": "code",
   "execution_count": 4,
   "id": "7f69d806",
   "metadata": {
    "execution": {
     "iopub.execute_input": "2022-05-21T00:35:45.755876Z",
     "iopub.status.busy": "2022-05-21T00:35:45.755328Z",
     "iopub.status.idle": "2022-05-21T00:35:45.769412Z",
     "shell.execute_reply": "2022-05-21T00:35:45.768953Z"
    },
    "papermill": {
     "duration": 0.042993,
     "end_time": "2022-05-21T00:35:45.769530",
     "exception": false,
     "start_time": "2022-05-21T00:35:45.726537",
     "status": "completed"
    },
    "tags": []
   },
   "outputs": [],
   "source": [
    "import mnist"
   ]
  },
  {
   "cell_type": "code",
   "execution_count": 5,
   "id": "a411e44f",
   "metadata": {
    "execution": {
     "iopub.execute_input": "2022-05-21T00:35:45.824823Z",
     "iopub.status.busy": "2022-05-21T00:35:45.824263Z",
     "iopub.status.idle": "2022-05-21T00:35:46.484538Z",
     "shell.execute_reply": "2022-05-21T00:35:46.483434Z"
    },
    "papermill": {
     "duration": 0.689129,
     "end_time": "2022-05-21T00:35:46.484659",
     "exception": false,
     "start_time": "2022-05-21T00:35:45.795530",
     "status": "completed"
    },
    "tags": []
   },
   "outputs": [],
   "source": [
    "train_images = mnist.train_images()\n",
    "train_labels = mnist.train_labels()"
   ]
  },
  {
   "cell_type": "code",
   "execution_count": 6,
   "id": "dceab3a5",
   "metadata": {
    "execution": {
     "iopub.execute_input": "2022-05-21T00:35:46.542379Z",
     "iopub.status.busy": "2022-05-21T00:35:46.539590Z",
     "iopub.status.idle": "2022-05-21T00:35:46.553240Z",
     "shell.execute_reply": "2022-05-21T00:35:46.553790Z"
    },
    "papermill": {
     "duration": 0.043234,
     "end_time": "2022-05-21T00:35:46.553910",
     "exception": false,
     "start_time": "2022-05-21T00:35:46.510676",
     "status": "completed"
    },
    "tags": []
   },
   "outputs": [
    {
     "data": {
      "text/plain": [
       "((60000, 28, 28), (60000,))"
      ]
     },
     "execution_count": 6,
     "metadata": {},
     "output_type": "execute_result"
    }
   ],
   "source": [
    "train_images.shape, train_labels.shape"
   ]
  },
  {
   "cell_type": "code",
   "execution_count": 7,
   "id": "f50dc2bb",
   "metadata": {
    "execution": {
     "iopub.execute_input": "2022-05-21T00:35:46.609726Z",
     "iopub.status.busy": "2022-05-21T00:35:46.609117Z",
     "iopub.status.idle": "2022-05-21T00:35:46.830894Z",
     "shell.execute_reply": "2022-05-21T00:35:46.830387Z"
    },
    "papermill": {
     "duration": 0.250861,
     "end_time": "2022-05-21T00:35:46.831003",
     "exception": false,
     "start_time": "2022-05-21T00:35:46.580142",
     "status": "completed"
    },
    "tags": []
   },
   "outputs": [],
   "source": [
    "test_images = mnist.test_images()\n",
    "test_labels = mnist.test_labels()"
   ]
  },
  {
   "cell_type": "code",
   "execution_count": 8,
   "id": "fc38cf1b",
   "metadata": {
    "execution": {
     "iopub.execute_input": "2022-05-21T00:35:46.887387Z",
     "iopub.status.busy": "2022-05-21T00:35:46.886824Z",
     "iopub.status.idle": "2022-05-21T00:35:46.899293Z",
     "shell.execute_reply": "2022-05-21T00:35:46.899698Z"
    },
    "papermill": {
     "duration": 0.042322,
     "end_time": "2022-05-21T00:35:46.899817",
     "exception": false,
     "start_time": "2022-05-21T00:35:46.857495",
     "status": "completed"
    },
    "tags": []
   },
   "outputs": [
    {
     "data": {
      "text/plain": [
       "((10000, 28, 28), (10000,))"
      ]
     },
     "execution_count": 8,
     "metadata": {},
     "output_type": "execute_result"
    }
   ],
   "source": [
    "test_images.shape, test_labels.shape"
   ]
  },
  {
   "cell_type": "code",
   "execution_count": 9,
   "id": "f9ed8fe0",
   "metadata": {
    "execution": {
     "iopub.execute_input": "2022-05-21T00:35:46.956305Z",
     "iopub.status.busy": "2022-05-21T00:35:46.955750Z",
     "iopub.status.idle": "2022-05-21T00:35:47.088639Z",
     "shell.execute_reply": "2022-05-21T00:35:47.089076Z"
    },
    "papermill": {
     "duration": 0.162669,
     "end_time": "2022-05-21T00:35:47.089201",
     "exception": false,
     "start_time": "2022-05-21T00:35:46.926532",
     "status": "completed"
    },
    "tags": []
   },
   "outputs": [
    {
     "name": "stdout",
     "output_type": "stream",
     "text": [
      "2\n"
     ]
    },
    {
     "data": {
      "text/plain": [
       "<matplotlib.image.AxesImage at 0x7f85d41bbef0>"
      ]
     },
     "execution_count": 9,
     "metadata": {},
     "output_type": "execute_result"
    },
    {
     "data": {
      "image/png": "[encoded data removed]",
      "text/plain": [
       "<Figure size 432x288 with 1 Axes>"
      ]
     },
     "metadata": {
      "needs_background": "light"
     },
     "output_type": "display_data"
    }
   ],
   "source": [
    "image_index = 7776 # You may select anything up to 60,000\n",
    "print(train_labels[image_index]) \n",
    "plt.imshow(train_images[image_index], cmap='Greys')"
   ]
  },
  {
   "cell_type": "markdown",
   "id": "a8d2388d",
   "metadata": {
    "papermill": {
     "duration": 0.027824,
     "end_time": "2022-05-21T00:35:47.144923",
     "exception": false,
     "start_time": "2022-05-21T00:35:47.117099",
     "status": "completed"
    },
    "tags": []
   },
   "source": [
    "## Filter data to get 3 and 8 out"
   ]
  },
  {
   "cell_type": "code",
   "execution_count": 10,
   "id": "776f7fc7",
   "metadata": {
    "execution": {
     "iopub.execute_input": "2022-05-21T00:35:47.203924Z",
     "iopub.status.busy": "2022-05-21T00:35:47.203355Z",
     "iopub.status.idle": "2022-05-21T00:35:47.219418Z",
     "shell.execute_reply": "2022-05-21T00:35:47.219872Z"
    },
    "papermill": {
     "duration": 0.047525,
     "end_time": "2022-05-21T00:35:47.219992",
     "exception": false,
     "start_time": "2022-05-21T00:35:47.172467",
     "status": "completed"
    },
    "tags": []
   },
   "outputs": [],
   "source": [
    "train_filter = np.where((train_labels == 3 ) | (train_labels == 8))\n",
    "test_filter = np.where((test_labels == 3) | (test_labels == 8))\n",
    "X_train, y_train = train_images[train_filter], train_labels[train_filter]\n",
    "X_test, y_test = test_images[test_filter], test_labels[test_filter]"
   ]
  },
  {
   "cell_type": "markdown",
   "id": "948f0b7e",
   "metadata": {
    "papermill": {
     "duration": 0.02745,
     "end_time": "2022-05-21T00:35:47.275023",
     "exception": false,
     "start_time": "2022-05-21T00:35:47.247573",
     "status": "completed"
    },
    "tags": []
   },
   "source": [
    "We normalize the pizel values in the 0 to 1 range"
   ]
  },
  {
   "cell_type": "code",
   "execution_count": 11,
   "id": "ee4c2166",
   "metadata": {
    "execution": {
     "iopub.execute_input": "2022-05-21T00:35:47.333481Z",
     "iopub.status.busy": "2022-05-21T00:35:47.332918Z",
     "iopub.status.idle": "2022-05-21T00:35:47.374126Z",
     "shell.execute_reply": "2022-05-21T00:35:47.373640Z"
    },
    "papermill": {
     "duration": 0.071853,
     "end_time": "2022-05-21T00:35:47.374233",
     "exception": false,
     "start_time": "2022-05-21T00:35:47.302380",
     "status": "completed"
    },
    "tags": []
   },
   "outputs": [],
   "source": [
    "X_train = X_train/255.\n",
    "X_test = X_test/255."
   ]
  },
  {
   "cell_type": "markdown",
   "id": "ddcf4fab",
   "metadata": {
    "papermill": {
     "duration": 0.02766,
     "end_time": "2022-05-21T00:35:47.429848",
     "exception": false,
     "start_time": "2022-05-21T00:35:47.402188",
     "status": "completed"
    },
    "tags": []
   },
   "source": [
    "And setup the labels as 1 (when the digit is 3) and 0 (when the digit is 8)"
   ]
  },
  {
   "cell_type": "code",
   "execution_count": 12,
   "id": "7dc908f2",
   "metadata": {
    "execution": {
     "iopub.execute_input": "2022-05-21T00:35:47.488547Z",
     "iopub.status.busy": "2022-05-21T00:35:47.487978Z",
     "iopub.status.idle": "2022-05-21T00:35:47.499738Z",
     "shell.execute_reply": "2022-05-21T00:35:47.499279Z"
    },
    "papermill": {
     "duration": 0.04247,
     "end_time": "2022-05-21T00:35:47.499839",
     "exception": false,
     "start_time": "2022-05-21T00:35:47.457369",
     "status": "completed"
    },
    "tags": []
   },
   "outputs": [],
   "source": [
    "y_train = 1*(y_train==3)\n",
    "y_test = 1*(y_test==3)"
   ]
  },
  {
   "cell_type": "code",
   "execution_count": 13,
   "id": "01e4e969",
   "metadata": {
    "execution": {
     "iopub.execute_input": "2022-05-21T00:35:47.558197Z",
     "iopub.status.busy": "2022-05-21T00:35:47.557639Z",
     "iopub.status.idle": "2022-05-21T00:35:47.570886Z",
     "shell.execute_reply": "2022-05-21T00:35:47.570340Z"
    },
    "papermill": {
     "duration": 0.04353,
     "end_time": "2022-05-21T00:35:47.570986",
     "exception": false,
     "start_time": "2022-05-21T00:35:47.527456",
     "status": "completed"
    },
    "tags": []
   },
   "outputs": [
    {
     "data": {
      "text/plain": [
       "((11982, 28, 28), (1984, 28, 28))"
      ]
     },
     "execution_count": 13,
     "metadata": {},
     "output_type": "execute_result"
    }
   ],
   "source": [
    "X_train.shape, X_test.shape"
   ]
  },
  {
   "cell_type": "markdown",
   "id": "5ccf3f85",
   "metadata": {
    "papermill": {
     "duration": 0.027569,
     "end_time": "2022-05-21T00:35:47.626586",
     "exception": false,
     "start_time": "2022-05-21T00:35:47.599017",
     "status": "completed"
    },
    "tags": []
   },
   "source": [
    "We reshape the data to flatten the image pixels into a set of features or co-variates:"
   ]
  },
  {
   "cell_type": "code",
   "execution_count": 14,
   "id": "5286a4a3",
   "metadata": {
    "execution": {
     "iopub.execute_input": "2022-05-21T00:35:47.685982Z",
     "iopub.status.busy": "2022-05-21T00:35:47.685390Z",
     "iopub.status.idle": "2022-05-21T00:35:47.698768Z",
     "shell.execute_reply": "2022-05-21T00:35:47.698228Z"
    },
    "papermill": {
     "duration": 0.044409,
     "end_time": "2022-05-21T00:35:47.698867",
     "exception": false,
     "start_time": "2022-05-21T00:35:47.654458",
     "status": "completed"
    },
    "tags": []
   },
   "outputs": [
    {
     "data": {
      "text/plain": [
       "((11982, 784), (1984, 784))"
      ]
     },
     "execution_count": 14,
     "metadata": {},
     "output_type": "execute_result"
    }
   ],
   "source": [
    "X_train = X_train.reshape(X_train.shape[0], -1)\n",
    "X_test = X_test.reshape(X_test.shape[0], -1)\n",
    "X_train.shape, X_test.shape"
   ]
  },
  {
   "cell_type": "code",
   "execution_count": 15,
   "id": "73c5f88a",
   "metadata": {
    "execution": {
     "iopub.execute_input": "2022-05-21T00:35:47.759510Z",
     "iopub.status.busy": "2022-05-21T00:35:47.758934Z",
     "iopub.status.idle": "2022-05-21T00:35:47.779236Z",
     "shell.execute_reply": "2022-05-21T00:35:47.778193Z"
    },
    "papermill": {
     "duration": 0.052344,
     "end_time": "2022-05-21T00:35:47.779351",
     "exception": false,
     "start_time": "2022-05-21T00:35:47.727007",
     "status": "completed"
    },
    "tags": []
   },
   "outputs": [],
   "source": [
    "#Impoting functions from 'Kudzu'\n",
    "from kudzu.model import Model\n",
    "from kudzu.train import Learner\n",
    "from kudzu.optim import GD\n",
    "from kudzu.data import Data, Sampler,Dataloader\n",
    "\n",
    "from kudzu.callbacks import AccCallback\n",
    "from kudzu.callbacks import ClfCallback\n",
    "\n",
    "from kudzu.loss import MSE\n",
    "\n",
    "from kudzu.layer import Sigmoid,Relu\n",
    "from kudzu.layer import Affine"
   ]
  },
  {
   "cell_type": "markdown",
   "id": "bc01172a",
   "metadata": {
    "papermill": {
     "duration": 0.028026,
     "end_time": "2022-05-21T00:35:47.837185",
     "exception": false,
     "start_time": "2022-05-21T00:35:47.809159",
     "status": "completed"
    },
    "tags": []
   },
   "source": [
    "### Let us create a `Config` class, to store important parameters. \n",
    "This class essentially plays the role of a dictionary."
   ]
  },
  {
   "cell_type": "code",
   "execution_count": 16,
   "id": "978281aa",
   "metadata": {
    "execution": {
     "iopub.execute_input": "2022-05-21T00:35:47.897121Z",
     "iopub.status.busy": "2022-05-21T00:35:47.896560Z",
     "iopub.status.idle": "2022-05-21T00:35:47.908336Z",
     "shell.execute_reply": "2022-05-21T00:35:47.907878Z"
    },
    "papermill": {
     "duration": 0.043301,
     "end_time": "2022-05-21T00:35:47.908439",
     "exception": false,
     "start_time": "2022-05-21T00:35:47.865138",
     "status": "completed"
    },
    "tags": []
   },
   "outputs": [],
   "source": [
    "class Config:\n",
    "    pass\n",
    "config = Config()\n",
    "config.lr = 0.001\n",
    "config.num_epochs = 250\n",
    "config.bs = 50"
   ]
  },
  {
   "cell_type": "markdown",
   "id": "1385fa59",
   "metadata": {
    "papermill": {
     "duration": 0.027996,
     "end_time": "2022-05-21T00:35:47.964752",
     "exception": false,
     "start_time": "2022-05-21T00:35:47.936756",
     "status": "completed"
    },
    "tags": []
   },
   "source": [
    "### Running Models with the Training data\n",
    "Details about the network layers:\n",
    "- A first affine layer has 784 inputs and does 100 affine transforms. These are followed by a Relu\n",
    "- A second affine layer has 100 inputs from the 100 activations of the past layer, and does 100 affine transforms. These are followed by a Relu\n",
    "- A third affine layer has 100 activations and does 2 affine transformations to create an embedding for visualization. There is no non-linearity here.\n",
    "- A final \"logistic regression\" which has an affine transform from 2 inputs to 1 output, which is squeezed through a sigmoid.\n"
   ]
  },
  {
   "cell_type": "code",
   "execution_count": 17,
   "id": "2b9c66db",
   "metadata": {
    "execution": {
     "iopub.execute_input": "2022-05-21T00:35:48.024906Z",
     "iopub.status.busy": "2022-05-21T00:35:48.024338Z",
     "iopub.status.idle": "2022-05-21T00:35:48.036529Z",
     "shell.execute_reply": "2022-05-21T00:35:48.036065Z"
    },
    "papermill": {
     "duration": 0.043622,
     "end_time": "2022-05-21T00:35:48.036632",
     "exception": false,
     "start_time": "2022-05-21T00:35:47.993010",
     "status": "completed"
    },
    "tags": []
   },
   "outputs": [],
   "source": [
    "data = Data(X_train, y_train.reshape(-1,1))\n",
    "sampler = Sampler(data, config.bs, shuffle=True)\n",
    "\n",
    "dl = Dataloader(data, sampler)\n",
    "\n",
    "opt = GD(config.lr)\n",
    "loss = MSE()"
   ]
  },
  {
   "cell_type": "code",
   "execution_count": 18,
   "id": "b275e4c2",
   "metadata": {
    "execution": {
     "iopub.execute_input": "2022-05-21T00:35:48.096732Z",
     "iopub.status.busy": "2022-05-21T00:35:48.096171Z",
     "iopub.status.idle": "2022-05-21T00:35:48.107879Z",
     "shell.execute_reply": "2022-05-21T00:35:48.108289Z"
    },
    "papermill": {
     "duration": 0.043545,
     "end_time": "2022-05-21T00:35:48.108412",
     "exception": false,
     "start_time": "2022-05-21T00:35:48.064867",
     "status": "completed"
    },
    "tags": []
   },
   "outputs": [],
   "source": [
    "training_data_x = X_train\n",
    "testing_data_x = X_test\n",
    "training_data_y = y_train.reshape(-1,1)\n",
    "testing_data_y = y_test.reshape(-1,1)"
   ]
  },
  {
   "cell_type": "code",
   "execution_count": 19,
   "id": "76951160",
   "metadata": {
    "execution": {
     "iopub.execute_input": "2022-05-21T00:35:48.168618Z",
     "iopub.status.busy": "2022-05-21T00:35:48.168045Z",
     "iopub.status.idle": "2022-05-21T00:35:48.184165Z",
     "shell.execute_reply": "2022-05-21T00:35:48.184616Z"
    },
    "papermill": {
     "duration": 0.048265,
     "end_time": "2022-05-21T00:35:48.184734",
     "exception": false,
     "start_time": "2022-05-21T00:35:48.136469",
     "status": "completed"
    },
    "tags": []
   },
   "outputs": [
    {
     "name": "stdout",
     "output_type": "stream",
     "text": [
      "xavier\n",
      "xavier\n",
      "xavier\n",
      "xavier\n",
      "xavier\n"
     ]
    }
   ],
   "source": [
    "layers = [Affine(\"first\", 784, 100), Relu(\"first\"), Affine(\"second\", 100, 100), Relu(\"second\"), Affine(\"third\", 100, 2), Affine(\"last\", 2, 1), Sigmoid(\"last\")]\n",
    "model_nn = Model(layers)\n",
    "model_lr = Model([Affine(\"logits\", 784, 1), Sigmoid(\"sigmoid\")])"
   ]
  },
  {
   "cell_type": "code",
   "execution_count": 20,
   "id": "6eede77a",
   "metadata": {
    "execution": {
     "iopub.execute_input": "2022-05-21T00:35:48.245180Z",
     "iopub.status.busy": "2022-05-21T00:35:48.244614Z",
     "iopub.status.idle": "2022-05-21T00:35:48.256662Z",
     "shell.execute_reply": "2022-05-21T00:35:48.256215Z"
    },
    "papermill": {
     "duration": 0.043634,
     "end_time": "2022-05-21T00:35:48.256762",
     "exception": false,
     "start_time": "2022-05-21T00:35:48.213128",
     "status": "completed"
    },
    "tags": []
   },
   "outputs": [],
   "source": [
    "nn_learner = Learner(loss, model_nn, opt, config.num_epochs)\n",
    "acc_nn = ClfCallback(nn_learner, config.bs, training_data_x , testing_data_x, training_data_y, testing_data_y)\n",
    "nn_learner.set_callbacks([acc_nn])"
   ]
  },
  {
   "cell_type": "code",
   "execution_count": 21,
   "id": "877b6cc7",
   "metadata": {
    "execution": {
     "iopub.execute_input": "2022-05-21T00:35:48.317101Z",
     "iopub.status.busy": "2022-05-21T00:35:48.316538Z",
     "iopub.status.idle": "2022-05-21T00:35:48.328583Z",
     "shell.execute_reply": "2022-05-21T00:35:48.328133Z"
    },
    "papermill": {
     "duration": 0.043563,
     "end_time": "2022-05-21T00:35:48.328685",
     "exception": false,
     "start_time": "2022-05-21T00:35:48.285122",
     "status": "completed"
    },
    "tags": []
   },
   "outputs": [],
   "source": [
    "lr_learner = Learner(loss, model_lr, opt, config.num_epochs)\n",
    "acc_lr = ClfCallback(lr_learner, config.bs, training_data_x , testing_data_x, training_data_y, testing_data_y)\n",
    "lr_learner.set_callbacks([acc_lr])"
   ]
  },
  {
   "cell_type": "code",
   "execution_count": 22,
   "id": "d9b133c3",
   "metadata": {
    "execution": {
     "iopub.execute_input": "2022-05-21T00:35:48.390531Z",
     "iopub.status.busy": "2022-05-21T00:35:48.389578Z",
     "iopub.status.idle": "2022-05-21T00:38:43.650851Z",
     "shell.execute_reply": "2022-05-21T00:38:43.651325Z"
    },
    "papermill": {
     "duration": 175.294373,
     "end_time": "2022-05-21T00:38:43.651449",
     "exception": false,
     "start_time": "2022-05-21T00:35:48.357076",
     "status": "completed"
    },
    "tags": []
   },
   "outputs": [
    {
     "name": "stdout",
     "output_type": "stream",
     "text": [
      "Epoch 0, Loss 0.2541\n",
      "Training Accuracy: 0.4856, Testing Accuracy: 0.5202\n",
      "\n"
     ]
    },
    {
     "name": "stdout",
     "output_type": "stream",
     "text": [
      "Epoch 10, Loss 0.1322\n",
      "Training Accuracy: 0.9087, Testing Accuracy: 0.9244\n",
      "\n"
     ]
    },
    {
     "name": "stdout",
     "output_type": "stream",
     "text": [
      "Epoch 20, Loss 0.0692\n",
      "Training Accuracy: 0.9337, Testing Accuracy: 0.9405\n",
      "\n"
     ]
    },
    {
     "name": "stdout",
     "output_type": "stream",
     "text": [
      "Epoch 30, Loss 0.0509\n",
      "Training Accuracy: 0.9450, Testing Accuracy: 0.9521\n",
      "\n"
     ]
    },
    {
     "name": "stdout",
     "output_type": "stream",
     "text": [
      "Epoch 40, Loss 0.0427\n",
      "Training Accuracy: 0.9518, Testing Accuracy: 0.9602\n",
      "\n"
     ]
    },
    {
     "name": "stdout",
     "output_type": "stream",
     "text": [
      "Epoch 50, Loss 0.038\n",
      "Training Accuracy: 0.9564, Testing Accuracy: 0.9662\n",
      "\n"
     ]
    },
    {
     "name": "stdout",
     "output_type": "stream",
     "text": [
      "Epoch 60, Loss 0.0348\n",
      "Training Accuracy: 0.9604, Testing Accuracy: 0.9677\n",
      "\n"
     ]
    },
    {
     "name": "stdout",
     "output_type": "stream",
     "text": [
      "Epoch 70, Loss 0.0326\n",
      "Training Accuracy: 0.9628, Testing Accuracy: 0.9688\n",
      "\n"
     ]
    },
    {
     "name": "stdout",
     "output_type": "stream",
     "text": [
      "Epoch 80, Loss 0.0309\n",
      "Training Accuracy: 0.9648, Testing Accuracy: 0.9693\n",
      "\n"
     ]
    },
    {
     "name": "stdout",
     "output_type": "stream",
     "text": [
      "Epoch 90, Loss 0.0295\n",
      "Training Accuracy: 0.9660, Testing Accuracy: 0.9713\n",
      "\n"
     ]
    },
    {
     "name": "stdout",
     "output_type": "stream",
     "text": [
      "Epoch 100, Loss 0.0283\n",
      "Training Accuracy: 0.9675, Testing Accuracy: 0.9718\n",
      "\n"
     ]
    },
    {
     "name": "stdout",
     "output_type": "stream",
     "text": [
      "Epoch 110, Loss 0.0273\n",
      "Training Accuracy: 0.9685, Testing Accuracy: 0.9718\n",
      "\n"
     ]
    },
    {
     "name": "stdout",
     "output_type": "stream",
     "text": [
      "Epoch 120, Loss 0.0265\n",
      "Training Accuracy: 0.9690, Testing Accuracy: 0.9723\n",
      "\n"
     ]
    },
    {
     "name": "stdout",
     "output_type": "stream",
     "text": [
      "Epoch 130, Loss 0.0257\n",
      "Training Accuracy: 0.9700, Testing Accuracy: 0.9723\n",
      "\n"
     ]
    },
    {
     "name": "stdout",
     "output_type": "stream",
     "text": [
      "Epoch 140, Loss 0.0251\n",
      "Training Accuracy: 0.9711, Testing Accuracy: 0.9723\n",
      "\n"
     ]
    },
    {
     "name": "stdout",
     "output_type": "stream",
     "text": [
      "Epoch 150, Loss 0.0245\n",
      "Training Accuracy: 0.9718, Testing Accuracy: 0.9723\n",
      "\n"
     ]
    },
    {
     "name": "stdout",
     "output_type": "stream",
     "text": [
      "Epoch 160, Loss 0.0239\n",
      "Training Accuracy: 0.9725, Testing Accuracy: 0.9728\n",
      "\n"
     ]
    },
    {
     "name": "stdout",
     "output_type": "stream",
     "text": [
      "Epoch 170, Loss 0.0234\n",
      "Training Accuracy: 0.9730, Testing Accuracy: 0.9733\n",
      "\n"
     ]
    },
    {
     "name": "stdout",
     "output_type": "stream",
     "text": [
      "Epoch 180, Loss 0.0229\n",
      "Training Accuracy: 0.9736, Testing Accuracy: 0.9733\n",
      "\n"
     ]
    },
    {
     "name": "stdout",
     "output_type": "stream",
     "text": [
      "Epoch 190, Loss 0.0225\n",
      "Training Accuracy: 0.9736, Testing Accuracy: 0.9723\n",
      "\n"
     ]
    },
    {
     "name": "stdout",
     "output_type": "stream",
     "text": [
      "Epoch 200, Loss 0.0221\n",
      "Training Accuracy: 0.9745, Testing Accuracy: 0.9723\n",
      "\n"
     ]
    },
    {
     "name": "stdout",
     "output_type": "stream",
     "text": [
      "Epoch 210, Loss 0.0217\n",
      "Training Accuracy: 0.9749, Testing Accuracy: 0.9723\n",
      "\n"
     ]
    },
    {
     "name": "stdout",
     "output_type": "stream",
     "text": [
      "Epoch 220, Loss 0.0213\n",
      "Training Accuracy: 0.9754, Testing Accuracy: 0.9723\n",
      "\n"
     ]
    },
    {
     "name": "stdout",
     "output_type": "stream",
     "text": [
      "Epoch 230, Loss 0.0209\n",
      "Training Accuracy: 0.9760, Testing Accuracy: 0.9728\n",
      "\n"
     ]
    },
    {
     "name": "stdout",
     "output_type": "stream",
     "text": [
      "Epoch 240, Loss 0.0206\n",
      "Training Accuracy: 0.9767, Testing Accuracy: 0.9728\n",
      "\n"
     ]
    },
    {
     "data": {
      "text/plain": [
       "0.03554773102686609"
      ]
     },
     "execution_count": 22,
     "metadata": {},
     "output_type": "execute_result"
    }
   ],
   "source": [
    "nn_learner.train_loop(dl)"
   ]
  },
  {
   "cell_type": "code",
   "execution_count": 23,
   "id": "e0163366",
   "metadata": {
    "execution": {
     "iopub.execute_input": "2022-05-21T00:38:43.728516Z",
     "iopub.status.busy": "2022-05-21T00:38:43.727046Z",
     "iopub.status.idle": "2022-05-21T00:38:55.900166Z",
     "shell.execute_reply": "2022-05-21T00:38:55.901003Z"
    },
    "papermill": {
     "duration": 12.214064,
     "end_time": "2022-05-21T00:38:55.901137",
     "exception": false,
     "start_time": "2022-05-21T00:38:43.687073",
     "status": "completed"
    },
    "tags": []
   },
   "outputs": [
    {
     "name": "stdout",
     "output_type": "stream",
     "text": [
      "Epoch 0, Loss 0.2421\n",
      "Training Accuracy: 0.6798, Testing Accuracy: 0.6830\n",
      "\n"
     ]
    },
    {
     "name": "stdout",
     "output_type": "stream",
     "text": [
      "Epoch 10, Loss 0.1048\n",
      "Training Accuracy: 0.9022, Testing Accuracy: 0.9128\n",
      "\n"
     ]
    },
    {
     "name": "stdout",
     "output_type": "stream",
     "text": [
      "Epoch 20, Loss 0.0798\n",
      "Training Accuracy: 0.9261, Testing Accuracy: 0.9375\n",
      "\n"
     ]
    },
    {
     "name": "stdout",
     "output_type": "stream",
     "text": [
      "Epoch 30, Loss 0.0684\n",
      "Training Accuracy: 0.9372, Testing Accuracy: 0.9446\n",
      "\n"
     ]
    },
    {
     "name": "stdout",
     "output_type": "stream",
     "text": [
      "Epoch 40, Loss 0.0616\n",
      "Training Accuracy: 0.9415, Testing Accuracy: 0.9516\n",
      "\n"
     ]
    },
    {
     "name": "stdout",
     "output_type": "stream",
     "text": [
      "Epoch 50, Loss 0.057\n",
      "Training Accuracy: 0.9455, Testing Accuracy: 0.9551\n",
      "\n"
     ]
    },
    {
     "name": "stdout",
     "output_type": "stream",
     "text": [
      "Epoch 60, Loss 0.0537\n",
      "Training Accuracy: 0.9487, Testing Accuracy: 0.9567\n",
      "\n"
     ]
    },
    {
     "name": "stdout",
     "output_type": "stream",
     "text": [
      "Epoch 70, Loss 0.0511\n",
      "Training Accuracy: 0.9498, Testing Accuracy: 0.9587\n",
      "\n"
     ]
    },
    {
     "name": "stdout",
     "output_type": "stream",
     "text": [
      "Epoch 80, Loss 0.049\n",
      "Training Accuracy: 0.9515, Testing Accuracy: 0.9592\n",
      "\n"
     ]
    },
    {
     "name": "stdout",
     "output_type": "stream",
     "text": [
      "Epoch 90, Loss 0.0473\n",
      "Training Accuracy: 0.9528, Testing Accuracy: 0.9602\n",
      "\n"
     ]
    },
    {
     "name": "stdout",
     "output_type": "stream",
     "text": [
      "Epoch 100, Loss 0.0459\n",
      "Training Accuracy: 0.9533, Testing Accuracy: 0.9617\n",
      "\n"
     ]
    },
    {
     "name": "stdout",
     "output_type": "stream",
     "text": [
      "Epoch 110, Loss 0.0447\n",
      "Training Accuracy: 0.9543, Testing Accuracy: 0.9642\n",
      "\n"
     ]
    },
    {
     "name": "stdout",
     "output_type": "stream",
     "text": [
      "Epoch 120, Loss 0.0436\n",
      "Training Accuracy: 0.9561, Testing Accuracy: 0.9657\n",
      "\n"
     ]
    },
    {
     "name": "stdout",
     "output_type": "stream",
     "text": [
      "Epoch 130, Loss 0.0427\n",
      "Training Accuracy: 0.9569, Testing Accuracy: 0.9662\n",
      "\n"
     ]
    },
    {
     "name": "stdout",
     "output_type": "stream",
     "text": [
      "Epoch 140, Loss 0.0419\n",
      "Training Accuracy: 0.9573, Testing Accuracy: 0.9667\n",
      "\n"
     ]
    },
    {
     "name": "stdout",
     "output_type": "stream",
     "text": [
      "Epoch 150, Loss 0.0412\n",
      "Training Accuracy: 0.9574, Testing Accuracy: 0.9677\n",
      "\n"
     ]
    },
    {
     "name": "stdout",
     "output_type": "stream",
     "text": [
      "Epoch 160, Loss 0.0405\n",
      "Training Accuracy: 0.9581, Testing Accuracy: 0.9677\n",
      "\n"
     ]
    },
    {
     "name": "stdout",
     "output_type": "stream",
     "text": [
      "Epoch 170, Loss 0.0399\n",
      "Training Accuracy: 0.9584, Testing Accuracy: 0.9672\n",
      "\n"
     ]
    },
    {
     "name": "stdout",
     "output_type": "stream",
     "text": [
      "Epoch 180, Loss 0.0393\n",
      "Training Accuracy: 0.9589, Testing Accuracy: 0.9672\n",
      "\n"
     ]
    },
    {
     "name": "stdout",
     "output_type": "stream",
     "text": [
      "Epoch 190, Loss 0.0388\n",
      "Training Accuracy: 0.9589, Testing Accuracy: 0.9672\n",
      "\n"
     ]
    },
    {
     "name": "stdout",
     "output_type": "stream",
     "text": [
      "Epoch 200, Loss 0.0383\n",
      "Training Accuracy: 0.9594, Testing Accuracy: 0.9677\n",
      "\n"
     ]
    },
    {
     "name": "stdout",
     "output_type": "stream",
     "text": [
      "Epoch 210, Loss 0.0379\n",
      "Training Accuracy: 0.9597, Testing Accuracy: 0.9682\n",
      "\n"
     ]
    },
    {
     "name": "stdout",
     "output_type": "stream",
     "text": [
      "Epoch 220, Loss 0.0375\n",
      "Training Accuracy: 0.9599, Testing Accuracy: 0.9677\n",
      "\n"
     ]
    },
    {
     "name": "stdout",
     "output_type": "stream",
     "text": [
      "Epoch 230, Loss 0.0371\n",
      "Training Accuracy: 0.9600, Testing Accuracy: 0.9677\n",
      "\n"
     ]
    },
    {
     "name": "stdout",
     "output_type": "stream",
     "text": [
      "Epoch 240, Loss 0.0368\n",
      "Training Accuracy: 0.9603, Testing Accuracy: 0.9677\n",
      "\n"
     ]
    },
    {
     "data": {
      "text/plain": [
       "0.05289659782477817"
      ]
     },
     "execution_count": 23,
     "metadata": {},
     "output_type": "execute_result"
    }
   ],
   "source": [
    "lr_learner.train_loop(dl)"
   ]
  },
  {
   "cell_type": "code",
   "execution_count": 24,
   "id": "ca410940",
   "metadata": {
    "execution": {
     "iopub.execute_input": "2022-05-21T00:38:55.996263Z",
     "iopub.status.busy": "2022-05-21T00:38:55.993527Z",
     "iopub.status.idle": "2022-05-21T00:38:56.219306Z",
     "shell.execute_reply": "2022-05-21T00:38:56.218823Z"
    },
    "papermill": {
     "duration": 0.275079,
     "end_time": "2022-05-21T00:38:56.219416",
     "exception": false,
     "start_time": "2022-05-21T00:38:55.944337",
     "status": "completed"
    },
    "tags": []
   },
   "outputs": [
    {
     "data": {
      "text/plain": [
       "<matplotlib.legend.Legend at 0x7f85d3d2b6a0>"
      ]
     },
     "execution_count": 24,
     "metadata": {},
     "output_type": "execute_result"
    },
    {
     "data": {
      "image/png": "[encoded data removed]",
      "text/plain": [
       "<Figure size 1080x720 with 1 Axes>"
      ]
     },
     "metadata": {
      "needs_background": "light"
     },
     "output_type": "display_data"
    }
   ],
   "source": [
    "#comparing the results of NN and LR\n",
    "plt.figure(figsize=(15,10))\n",
    "\n",
    "# Neural Network plots\n",
    "plt.plot(acc_nn.accuracies, 'r-', label = \"Training Accuracies - NN\")\n",
    "plt.plot(acc_nn.test_accuracies, 'g-', label = \"Testing Accuracies - NN\")\n",
    "\n",
    "# Logistic Regression plots\n",
    "plt.plot(acc_lr.accuracies, 'k-', label = \"Training Accuracies - LR\")\n",
    "plt.plot(acc_lr.test_accuracies, 'b-', label = \"Testing Accuracies - LR\")\n",
    "plt.legend()"
   ]
  },
  {
   "cell_type": "markdown",
   "id": "80dfb35c",
   "metadata": {
    "papermill": {
     "duration": 0.043834,
     "end_time": "2022-05-21T00:38:56.307658",
     "exception": false,
     "start_time": "2022-05-21T00:38:56.263824",
     "status": "completed"
    },
    "tags": []
   },
   "source": [
    "#### Plotting the outputs of this layer of the NN.\n"
   ]
  },
  {
   "cell_type": "code",
   "execution_count": 25,
   "id": "45eb2ff5",
   "metadata": {
    "execution": {
     "iopub.execute_input": "2022-05-21T00:38:56.399816Z",
     "iopub.status.busy": "2022-05-21T00:38:56.399246Z",
     "iopub.status.idle": "2022-05-21T00:38:56.434931Z",
     "shell.execute_reply": "2022-05-21T00:38:56.435739Z"
    },
    "papermill": {
     "duration": 0.084382,
     "end_time": "2022-05-21T00:38:56.435883",
     "exception": false,
     "start_time": "2022-05-21T00:38:56.351501",
     "status": "completed"
    },
    "tags": []
   },
   "outputs": [],
   "source": [
    "new_model = Model(layers[:-2])\n",
    "testing_plot = new_model(testing_data_x)"
   ]
  },
  {
   "cell_type": "code",
   "execution_count": 26,
   "id": "4c0a5485",
   "metadata": {
    "execution": {
     "iopub.execute_input": "2022-05-21T00:38:56.533145Z",
     "iopub.status.busy": "2022-05-21T00:38:56.530488Z",
     "iopub.status.idle": "2022-05-21T00:38:56.727185Z",
     "shell.execute_reply": "2022-05-21T00:38:56.727632Z"
    },
    "papermill": {
     "duration": 0.247132,
     "end_time": "2022-05-21T00:38:56.727757",
     "exception": false,
     "start_time": "2022-05-21T00:38:56.480625",
     "status": "completed"
    },
    "tags": []
   },
   "outputs": [
    {
     "data": {
      "text/plain": [
       "Text(0.5, 1.0, 'Outputs')"
      ]
     },
     "execution_count": 26,
     "metadata": {},
     "output_type": "execute_result"
    },
    {
     "data": {
      "image/png": "[encoded data removed]",
      "text/plain": [
       "<Figure size 576x504 with 1 Axes>"
      ]
     },
     "metadata": {
      "needs_background": "light"
     },
     "output_type": "display_data"
    }
   ],
   "source": [
    "# Plotting the scatter plot of points and color coding by class\n",
    "plt.figure(figsize=(8,7))\n",
    "plt.scatter(testing_plot[:,0], testing_plot[:,1], alpha = 0.1, c = y_test.ravel());\n",
    "plt.title('Outputs')"
   ]
  },
  {
   "cell_type": "markdown",
   "id": "a74fcf8f",
   "metadata": {
    "papermill": {
     "duration": 0.04609,
     "end_time": "2022-05-21T00:38:56.839893",
     "exception": false,
     "start_time": "2022-05-21T00:38:56.793803",
     "status": "completed"
    },
    "tags": []
   },
   "source": [
    "Probability contours"
   ]
  },
  {
   "cell_type": "code",
   "execution_count": 27,
   "id": "d0afc8e3",
   "metadata": {
    "execution": {
     "iopub.execute_input": "2022-05-21T00:38:56.935806Z",
     "iopub.status.busy": "2022-05-21T00:38:56.935243Z",
     "iopub.status.idle": "2022-05-21T00:38:56.946715Z",
     "shell.execute_reply": "2022-05-21T00:38:56.947153Z"
    },
    "papermill": {
     "duration": 0.061269,
     "end_time": "2022-05-21T00:38:56.947269",
     "exception": false,
     "start_time": "2022-05-21T00:38:56.886000",
     "status": "completed"
    },
    "tags": []
   },
   "outputs": [],
   "source": [
    "model_prob = Model(layers[-2:]) "
   ]
  },
  {
   "cell_type": "code",
   "execution_count": 28,
   "id": "9b96e238",
   "metadata": {
    "execution": {
     "iopub.execute_input": "2022-05-21T00:38:57.043495Z",
     "iopub.status.busy": "2022-05-21T00:38:57.042939Z",
     "iopub.status.idle": "2022-05-21T00:38:57.057415Z",
     "shell.execute_reply": "2022-05-21T00:38:57.057852Z"
    },
    "papermill": {
     "duration": 0.064818,
     "end_time": "2022-05-21T00:38:57.057969",
     "exception": false,
     "start_time": "2022-05-21T00:38:56.993151",
     "status": "completed"
    },
    "tags": []
   },
   "outputs": [],
   "source": [
    "#creating the x and y ranges according to the above generated plot.\n",
    "x_range = np.linspace(-4, 1, 100) \n",
    "y_range = np.linspace(-6, 6, 100) \n",
    "x_grid, y_grid = np.meshgrid(x_range, y_range) # x_grid and y_grig are of size 100 X 100\n",
    "\n",
    "# converting x_grid and y_grid to continuous arrays\n",
    "x_gridflat = np.ravel(x_grid)\n",
    "y_gridflat = np.ravel(y_grid)\n",
    "\n",
    "# The last layer of the current model takes two columns as input. Hence transpose of np.vstack() is required.\n",
    "X = np.vstack((x_gridflat, y_gridflat)).T\n",
    "\n",
    "prob_contour = model_prob(X).reshape(100,100) "
   ]
  },
  {
   "cell_type": "code",
   "execution_count": 29,
   "id": "da72499a",
   "metadata": {
    "execution": {
     "iopub.execute_input": "2022-05-21T00:38:57.155602Z",
     "iopub.status.busy": "2022-05-21T00:38:57.154335Z",
     "iopub.status.idle": "2022-05-21T00:38:57.404659Z",
     "shell.execute_reply": "2022-05-21T00:38:57.404184Z"
    },
    "papermill": {
     "duration": 0.300828,
     "end_time": "2022-05-21T00:38:57.404766",
     "exception": false,
     "start_time": "2022-05-21T00:38:57.103938",
     "status": "completed"
    },
    "tags": []
   },
   "outputs": [
    {
     "data": {
      "image/png": "[encoded data removed]",
      "text/plain": [
       "<Figure size 720x648 with 1 Axes>"
      ]
     },
     "metadata": {
      "needs_background": "light"
     },
     "output_type": "display_data"
    }
   ],
   "source": [
    "plt.figure(figsize=(10,9))\n",
    "plt.scatter(testing_plot[:,0], testing_plot[:,1], alpha = 0.1, c = y_test.ravel())\n",
    "contours = plt.contour(x_grid,y_grid,prob_contour)\n",
    "plt.title('Probability Contours')\n",
    "plt.clabel(contours, inline = True );"
   ]
  },
  {
   "cell_type": "code",
   "execution_count": null,
   "id": "e81b4ac7",
   "metadata": {
    "papermill": {
     "duration": 0.048648,
     "end_time": "2022-05-21T00:38:57.502381",
     "exception": false,
     "start_time": "2022-05-21T00:38:57.453733",
     "status": "completed"
    },
    "tags": []
   },
   "outputs": [],
   "source": []
  }
 ],
 "metadata": {
  "kernelspec": {
   "display_name": "Python 3",
   "language": "python",
   "name": "python3"
  },
  "language_info": {
   "codemirror_mode": {
    "name": "ipython",
    "version": 3
   },
   "file_extension": ".py",
   "mimetype": "text/x-python",
   "name": "python",
   "nbconvert_exporter": "python",
   "pygments_lexer": "ipython3",
   "version": "3.6.15"
  },
  "papermill": {
   "default_parameters": {},
   "duration": 196.223501,
   "end_time": "2022-05-21T00:38:57.868949",
   "environment_variables": {},
   "exception": null,
   "input_path": "2020-08-11-part2.ipynb",
   "output_path": "2020-08-11-part2.ipynb",
   "parameters": {},
   "start_time": "2022-05-21T00:35:41.645448",
   "version": "2.3.3"
  }
 },
 "nbformat": 4,
 "nbformat_minor": 5
}