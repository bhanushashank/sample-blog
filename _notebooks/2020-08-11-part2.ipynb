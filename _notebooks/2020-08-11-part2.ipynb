{
 "cells": [
  {
   "cell_type": "markdown",
   "id": "98380cd3",
   "metadata": {
    "papermill": {
     "duration": 0.032397,
     "end_time": "2022-02-09T10:09:17.767830",
     "exception": false,
     "start_time": "2022-02-09T10:09:17.735433",
     "status": "completed"
    },
    "tags": []
   },
   "source": [
    "# Distinguish Your Own Digits (DYOD)"
   ]
  },
  {
   "cell_type": "markdown",
   "id": "ef31240d",
   "metadata": {
    "papermill": {
     "duration": 0.029085,
     "end_time": "2022-02-09T10:09:17.826876",
     "exception": false,
     "start_time": "2022-02-09T10:09:17.797791",
     "status": "completed"
    },
    "tags": []
   },
   "source": [
    "You are going to write a classifier that distinguishes between the number 3 and number 8."
   ]
  },
  {
   "cell_type": "code",
   "execution_count": 1,
   "id": "b15c8646",
   "metadata": {
    "execution": {
     "iopub.execute_input": "2022-02-09T10:09:17.891469Z",
     "iopub.status.busy": "2022-02-09T10:09:17.890799Z",
     "iopub.status.idle": "2022-02-09T10:09:17.901277Z",
     "shell.execute_reply": "2022-02-09T10:09:17.901863Z"
    },
    "papermill": {
     "duration": 0.046875,
     "end_time": "2022-02-09T10:09:17.902008",
     "exception": false,
     "start_time": "2022-02-09T10:09:17.855133",
     "status": "completed"
    },
    "tags": []
   },
   "outputs": [],
   "source": [
    "%load_ext autoreload\n",
    "%autoreload 2"
   ]
  },
  {
   "cell_type": "code",
   "execution_count": 2,
   "id": "22ef38dc",
   "metadata": {
    "execution": {
     "iopub.execute_input": "2022-02-09T10:09:17.966220Z",
     "iopub.status.busy": "2022-02-09T10:09:17.965234Z",
     "iopub.status.idle": "2022-02-09T10:09:18.615835Z",
     "shell.execute_reply": "2022-02-09T10:09:18.616300Z"
    },
    "papermill": {
     "duration": 0.685843,
     "end_time": "2022-02-09T10:09:18.616456",
     "exception": false,
     "start_time": "2022-02-09T10:09:17.930613",
     "status": "completed"
    },
    "tags": []
   },
   "outputs": [],
   "source": [
    "%matplotlib inline\n",
    "import numpy as np\n",
    "import matplotlib.pyplot as plt\n",
    "import pandas as pd"
   ]
  },
  {
   "cell_type": "markdown",
   "id": "ba036198",
   "metadata": {
    "papermill": {
     "duration": 0.029011,
     "end_time": "2022-02-09T10:09:18.673836",
     "exception": false,
     "start_time": "2022-02-09T10:09:18.644825",
     "status": "completed"
    },
    "tags": []
   },
   "source": [
    "From the command line run `pip install mnist`. This is a library that will help you bring down the mnist dataset. If you run this from a notebook, you need to put  `!pip install mnist` in a cell by itself."
   ]
  },
  {
   "cell_type": "code",
   "execution_count": 3,
   "id": "bb6ad8a1",
   "metadata": {
    "execution": {
     "iopub.execute_input": "2022-02-09T10:09:18.734944Z",
     "iopub.status.busy": "2022-02-09T10:09:18.734367Z",
     "iopub.status.idle": "2022-02-09T10:09:20.649841Z",
     "shell.execute_reply": "2022-02-09T10:09:20.648921Z"
    },
    "papermill": {
     "duration": 1.948859,
     "end_time": "2022-02-09T10:09:20.649971",
     "exception": false,
     "start_time": "2022-02-09T10:09:18.701112",
     "status": "completed"
    },
    "tags": []
   },
   "outputs": [
    {
     "name": "stdout",
     "output_type": "stream",
     "text": [
      "Collecting mnist\r\n"
     ]
    },
    {
     "name": "stdout",
     "output_type": "stream",
     "text": [
      "  Downloading mnist-0.2.2-py2.py3-none-any.whl (3.5 kB)\r\n",
      "Requirement already satisfied: numpy in /opt/hostedtoolcache/Python/3.6.15/x64/lib/python3.6/site-packages (from mnist) (1.19.5)\r\n"
     ]
    },
    {
     "name": "stdout",
     "output_type": "stream",
     "text": [
      "Installing collected packages: mnist\r\n"
     ]
    },
    {
     "name": "stdout",
     "output_type": "stream",
     "text": [
      "Successfully installed mnist-0.2.2\r\n"
     ]
    }
   ],
   "source": [
    "!pip install mnist"
   ]
  },
  {
   "cell_type": "markdown",
   "id": "69df9c9a",
   "metadata": {
    "papermill": {
     "duration": 0.027637,
     "end_time": "2022-02-09T10:09:20.705223",
     "exception": false,
     "start_time": "2022-02-09T10:09:20.677586",
     "status": "completed"
    },
    "tags": []
   },
   "source": [
    "## Preparing the Data"
   ]
  },
  {
   "cell_type": "code",
   "execution_count": 4,
   "id": "7f69d806",
   "metadata": {
    "execution": {
     "iopub.execute_input": "2022-02-09T10:09:20.769369Z",
     "iopub.status.busy": "2022-02-09T10:09:20.767537Z",
     "iopub.status.idle": "2022-02-09T10:09:20.782957Z",
     "shell.execute_reply": "2022-02-09T10:09:20.783451Z"
    },
    "papermill": {
     "duration": 0.050391,
     "end_time": "2022-02-09T10:09:20.783624",
     "exception": false,
     "start_time": "2022-02-09T10:09:20.733233",
     "status": "completed"
    },
    "tags": []
   },
   "outputs": [],
   "source": [
    "import mnist"
   ]
  },
  {
   "cell_type": "code",
   "execution_count": 5,
   "id": "a411e44f",
   "metadata": {
    "execution": {
     "iopub.execute_input": "2022-02-09T10:09:20.840993Z",
     "iopub.status.busy": "2022-02-09T10:09:20.840126Z",
     "iopub.status.idle": "2022-02-09T10:09:21.391911Z",
     "shell.execute_reply": "2022-02-09T10:09:21.392386Z"
    },
    "papermill": {
     "duration": 0.581925,
     "end_time": "2022-02-09T10:09:21.392547",
     "exception": false,
     "start_time": "2022-02-09T10:09:20.810622",
     "status": "completed"
    },
    "tags": []
   },
   "outputs": [],
   "source": [
    "train_images = mnist.train_images()\n",
    "train_labels = mnist.train_labels()"
   ]
  },
  {
   "cell_type": "code",
   "execution_count": 6,
   "id": "dceab3a5",
   "metadata": {
    "execution": {
     "iopub.execute_input": "2022-02-09T10:09:21.454141Z",
     "iopub.status.busy": "2022-02-09T10:09:21.453569Z",
     "iopub.status.idle": "2022-02-09T10:09:21.466594Z",
     "shell.execute_reply": "2022-02-09T10:09:21.467123Z"
    },
    "papermill": {
     "duration": 0.04748,
     "end_time": "2022-02-09T10:09:21.467244",
     "exception": false,
     "start_time": "2022-02-09T10:09:21.419764",
     "status": "completed"
    },
    "tags": []
   },
   "outputs": [
    {
     "data": {
      "text/plain": [
       "((60000, 28, 28), (60000,))"
      ]
     },
     "execution_count": 6,
     "metadata": {},
     "output_type": "execute_result"
    }
   ],
   "source": [
    "train_images.shape, train_labels.shape"
   ]
  },
  {
   "cell_type": "code",
   "execution_count": 7,
   "id": "f50dc2bb",
   "metadata": {
    "execution": {
     "iopub.execute_input": "2022-02-09T10:09:21.531039Z",
     "iopub.status.busy": "2022-02-09T10:09:21.530112Z",
     "iopub.status.idle": "2022-02-09T10:09:21.684852Z",
     "shell.execute_reply": "2022-02-09T10:09:21.684382Z"
    },
    "papermill": {
     "duration": 0.187779,
     "end_time": "2022-02-09T10:09:21.684972",
     "exception": false,
     "start_time": "2022-02-09T10:09:21.497193",
     "status": "completed"
    },
    "tags": []
   },
   "outputs": [],
   "source": [
    "test_images = mnist.test_images()\n",
    "test_labels = mnist.test_labels()"
   ]
  },
  {
   "cell_type": "code",
   "execution_count": 8,
   "id": "fc38cf1b",
   "metadata": {
    "execution": {
     "iopub.execute_input": "2022-02-09T10:09:21.753553Z",
     "iopub.status.busy": "2022-02-09T10:09:21.752791Z",
     "iopub.status.idle": "2022-02-09T10:09:21.767243Z",
     "shell.execute_reply": "2022-02-09T10:09:21.766742Z"
    },
    "papermill": {
     "duration": 0.051484,
     "end_time": "2022-02-09T10:09:21.767359",
     "exception": false,
     "start_time": "2022-02-09T10:09:21.715875",
     "status": "completed"
    },
    "tags": []
   },
   "outputs": [
    {
     "data": {
      "text/plain": [
       "((10000, 28, 28), (10000,))"
      ]
     },
     "execution_count": 8,
     "metadata": {},
     "output_type": "execute_result"
    }
   ],
   "source": [
    "test_images.shape, test_labels.shape"
   ]
  },
  {
   "cell_type": "code",
   "execution_count": 9,
   "id": "f9ed8fe0",
   "metadata": {
    "execution": {
     "iopub.execute_input": "2022-02-09T10:09:21.832111Z",
     "iopub.status.busy": "2022-02-09T10:09:21.831564Z",
     "iopub.status.idle": "2022-02-09T10:09:22.021089Z",
     "shell.execute_reply": "2022-02-09T10:09:22.021615Z"
    },
    "papermill": {
     "duration": 0.224201,
     "end_time": "2022-02-09T10:09:22.021761",
     "exception": false,
     "start_time": "2022-02-09T10:09:21.797560",
     "status": "completed"
    },
    "tags": []
   },
   "outputs": [
    {
     "name": "stdout",
     "output_type": "stream",
     "text": [
      "2\n"
     ]
    },
    {
     "data": {
      "text/plain": [
       "<matplotlib.image.AxesImage at 0x7fdcc6ef0eb8>"
      ]
     },
     "execution_count": 9,
     "metadata": {},
     "output_type": "execute_result"
    },
    {
     "data": {
      "image/png": "[encoded data removed]",
      "text/plain": [
       "<Figure size 432x288 with 1 Axes>"
      ]
     },
     "metadata": {
      "needs_background": "light"
     },
     "output_type": "display_data"
    }
   ],
   "source": [
    "image_index = 7776 # You may select anything up to 60,000\n",
    "print(train_labels[image_index]) \n",
    "plt.imshow(train_images[image_index], cmap='Greys')"
   ]
  },
  {
   "cell_type": "markdown",
   "id": "a8d2388d",
   "metadata": {
    "papermill": {
     "duration": 0.030585,
     "end_time": "2022-02-09T10:09:22.083804",
     "exception": false,
     "start_time": "2022-02-09T10:09:22.053219",
     "status": "completed"
    },
    "tags": []
   },
   "source": [
    "## Filter data to get 3 and 8 out"
   ]
  },
  {
   "cell_type": "code",
   "execution_count": 10,
   "id": "776f7fc7",
   "metadata": {
    "execution": {
     "iopub.execute_input": "2022-02-09T10:09:22.154434Z",
     "iopub.status.busy": "2022-02-09T10:09:22.153745Z",
     "iopub.status.idle": "2022-02-09T10:09:22.172077Z",
     "shell.execute_reply": "2022-02-09T10:09:22.172630Z"
    },
    "papermill": {
     "duration": 0.059713,
     "end_time": "2022-02-09T10:09:22.172948",
     "exception": false,
     "start_time": "2022-02-09T10:09:22.113235",
     "status": "completed"
    },
    "tags": []
   },
   "outputs": [],
   "source": [
    "train_filter = np.where((train_labels == 3 ) | (train_labels == 8))\n",
    "test_filter = np.where((test_labels == 3) | (test_labels == 8))\n",
    "X_train, y_train = train_images[train_filter], train_labels[train_filter]\n",
    "X_test, y_test = test_images[test_filter], test_labels[test_filter]"
   ]
  },
  {
   "cell_type": "markdown",
   "id": "948f0b7e",
   "metadata": {
    "papermill": {
     "duration": 0.031294,
     "end_time": "2022-02-09T10:09:22.238527",
     "exception": false,
     "start_time": "2022-02-09T10:09:22.207233",
     "status": "completed"
    },
    "tags": []
   },
   "source": [
    "We normalize the pizel values in the 0 to 1 range"
   ]
  },
  {
   "cell_type": "code",
   "execution_count": 11,
   "id": "ee4c2166",
   "metadata": {
    "execution": {
     "iopub.execute_input": "2022-02-09T10:09:22.302832Z",
     "iopub.status.busy": "2022-02-09T10:09:22.302245Z",
     "iopub.status.idle": "2022-02-09T10:09:22.362092Z",
     "shell.execute_reply": "2022-02-09T10:09:22.361490Z"
    },
    "papermill": {
     "duration": 0.094261,
     "end_time": "2022-02-09T10:09:22.362214",
     "exception": false,
     "start_time": "2022-02-09T10:09:22.267953",
     "status": "completed"
    },
    "tags": []
   },
   "outputs": [],
   "source": [
    "X_train = X_train/255.\n",
    "X_test = X_test/255."
   ]
  },
  {
   "cell_type": "markdown",
   "id": "ddcf4fab",
   "metadata": {
    "papermill": {
     "duration": 0.028978,
     "end_time": "2022-02-09T10:09:22.421201",
     "exception": false,
     "start_time": "2022-02-09T10:09:22.392223",
     "status": "completed"
    },
    "tags": []
   },
   "source": [
    "And setup the labels as 1 (when the digit is 3) and 0 (when the digit is 8)"
   ]
  },
  {
   "cell_type": "code",
   "execution_count": 12,
   "id": "7dc908f2",
   "metadata": {
    "execution": {
     "iopub.execute_input": "2022-02-09T10:09:22.490019Z",
     "iopub.status.busy": "2022-02-09T10:09:22.486989Z",
     "iopub.status.idle": "2022-02-09T10:09:22.497237Z",
     "shell.execute_reply": "2022-02-09T10:09:22.496762Z"
    },
    "papermill": {
     "duration": 0.04759,
     "end_time": "2022-02-09T10:09:22.497383",
     "exception": false,
     "start_time": "2022-02-09T10:09:22.449793",
     "status": "completed"
    },
    "tags": []
   },
   "outputs": [],
   "source": [
    "y_train = 1*(y_train==3)\n",
    "y_test = 1*(y_test==3)"
   ]
  },
  {
   "cell_type": "code",
   "execution_count": 13,
   "id": "01e4e969",
   "metadata": {
    "execution": {
     "iopub.execute_input": "2022-02-09T10:09:22.565252Z",
     "iopub.status.busy": "2022-02-09T10:09:22.564650Z",
     "iopub.status.idle": "2022-02-09T10:09:22.575018Z",
     "shell.execute_reply": "2022-02-09T10:09:22.575537Z"
    },
    "papermill": {
     "duration": 0.049238,
     "end_time": "2022-02-09T10:09:22.575712",
     "exception": false,
     "start_time": "2022-02-09T10:09:22.526474",
     "status": "completed"
    },
    "tags": []
   },
   "outputs": [
    {
     "data": {
      "text/plain": [
       "((11982, 28, 28), (1984, 28, 28))"
      ]
     },
     "execution_count": 13,
     "metadata": {},
     "output_type": "execute_result"
    }
   ],
   "source": [
    "X_train.shape, X_test.shape"
   ]
  },
  {
   "cell_type": "markdown",
   "id": "5ccf3f85",
   "metadata": {
    "papermill": {
     "duration": 0.030474,
     "end_time": "2022-02-09T10:09:22.637940",
     "exception": false,
     "start_time": "2022-02-09T10:09:22.607466",
     "status": "completed"
    },
    "tags": []
   },
   "source": [
    "We reshape the data to flatten the image pixels into a set of features or co-variates:"
   ]
  },
  {
   "cell_type": "code",
   "execution_count": 14,
   "id": "5286a4a3",
   "metadata": {
    "execution": {
     "iopub.execute_input": "2022-02-09T10:09:22.705891Z",
     "iopub.status.busy": "2022-02-09T10:09:22.705134Z",
     "iopub.status.idle": "2022-02-09T10:09:22.720282Z",
     "shell.execute_reply": "2022-02-09T10:09:22.720828Z"
    },
    "papermill": {
     "duration": 0.051701,
     "end_time": "2022-02-09T10:09:22.720956",
     "exception": false,
     "start_time": "2022-02-09T10:09:22.669255",
     "status": "completed"
    },
    "tags": []
   },
   "outputs": [
    {
     "data": {
      "text/plain": [
       "((11982, 784), (1984, 784))"
      ]
     },
     "execution_count": 14,
     "metadata": {},
     "output_type": "execute_result"
    }
   ],
   "source": [
    "X_train = X_train.reshape(X_train.shape[0], -1)\n",
    "X_test = X_test.reshape(X_test.shape[0], -1)\n",
    "X_train.shape, X_test.shape"
   ]
  },
  {
   "cell_type": "code",
   "execution_count": 15,
   "id": "73c5f88a",
   "metadata": {
    "execution": {
     "iopub.execute_input": "2022-02-09T10:09:22.790091Z",
     "iopub.status.busy": "2022-02-09T10:09:22.789330Z",
     "iopub.status.idle": "2022-02-09T10:09:22.808233Z",
     "shell.execute_reply": "2022-02-09T10:09:22.808743Z"
    },
    "papermill": {
     "duration": 0.05722,
     "end_time": "2022-02-09T10:09:22.808870",
     "exception": false,
     "start_time": "2022-02-09T10:09:22.751650",
     "status": "completed"
    },
    "tags": []
   },
   "outputs": [],
   "source": [
    "#Impoting functions from 'Kudzu'\n",
    "from kudzu.model import Model\n",
    "from kudzu.train import Learner\n",
    "from kudzu.optim import GD\n",
    "from kudzu.data import Data, Sampler,Dataloader\n",
    "\n",
    "from kudzu.callbacks import AccCallback\n",
    "from kudzu.callbacks import ClfCallback\n",
    "\n",
    "from kudzu.loss import MSE\n",
    "\n",
    "from kudzu.layer import Sigmoid,Relu\n",
    "from kudzu.layer import Affine"
   ]
  },
  {
   "cell_type": "markdown",
   "id": "bc01172a",
   "metadata": {
    "papermill": {
     "duration": 0.033537,
     "end_time": "2022-02-09T10:09:22.873906",
     "exception": false,
     "start_time": "2022-02-09T10:09:22.840369",
     "status": "completed"
    },
    "tags": []
   },
   "source": [
    "### Let us create a `Config` class, to store important parameters. \n",
    "This class essentially plays the role of a dictionary."
   ]
  },
  {
   "cell_type": "code",
   "execution_count": 16,
   "id": "978281aa",
   "metadata": {
    "execution": {
     "iopub.execute_input": "2022-02-09T10:09:22.942618Z",
     "iopub.status.busy": "2022-02-09T10:09:22.942051Z",
     "iopub.status.idle": "2022-02-09T10:09:22.955590Z",
     "shell.execute_reply": "2022-02-09T10:09:22.955051Z"
    },
    "papermill": {
     "duration": 0.0502,
     "end_time": "2022-02-09T10:09:22.955711",
     "exception": false,
     "start_time": "2022-02-09T10:09:22.905511",
     "status": "completed"
    },
    "tags": []
   },
   "outputs": [],
   "source": [
    "class Config:\n",
    "    pass\n",
    "config = Config()\n",
    "config.lr = 0.001\n",
    "config.num_epochs = 250\n",
    "config.bs = 50"
   ]
  },
  {
   "cell_type": "markdown",
   "id": "1385fa59",
   "metadata": {
    "papermill": {
     "duration": 0.029542,
     "end_time": "2022-02-09T10:09:23.014905",
     "exception": false,
     "start_time": "2022-02-09T10:09:22.985363",
     "status": "completed"
    },
    "tags": []
   },
   "source": [
    "### Running Models with the Training data\n",
    "Details about the network layers:\n",
    "- A first affine layer has 784 inputs and does 100 affine transforms. These are followed by a Relu\n",
    "- A second affine layer has 100 inputs from the 100 activations of the past layer, and does 100 affine transforms. These are followed by a Relu\n",
    "- A third affine layer has 100 activations and does 2 affine transformations to create an embedding for visualization. There is no non-linearity here.\n",
    "- A final \"logistic regression\" which has an affine transform from 2 inputs to 1 output, which is squeezed through a sigmoid.\n"
   ]
  },
  {
   "cell_type": "code",
   "execution_count": 17,
   "id": "2b9c66db",
   "metadata": {
    "execution": {
     "iopub.execute_input": "2022-02-09T10:09:23.081900Z",
     "iopub.status.busy": "2022-02-09T10:09:23.081274Z",
     "iopub.status.idle": "2022-02-09T10:09:23.095405Z",
     "shell.execute_reply": "2022-02-09T10:09:23.094934Z"
    },
    "papermill": {
     "duration": 0.051027,
     "end_time": "2022-02-09T10:09:23.095512",
     "exception": false,
     "start_time": "2022-02-09T10:09:23.044485",
     "status": "completed"
    },
    "tags": []
   },
   "outputs": [],
   "source": [
    "data = Data(X_train, y_train.reshape(-1,1))\n",
    "sampler = Sampler(data, config.bs, shuffle=True)\n",
    "\n",
    "dl = Dataloader(data, sampler)\n",
    "\n",
    "opt = GD(config.lr)\n",
    "loss = MSE()"
   ]
  },
  {
   "cell_type": "code",
   "execution_count": 18,
   "id": "b275e4c2",
   "metadata": {
    "execution": {
     "iopub.execute_input": "2022-02-09T10:09:23.161841Z",
     "iopub.status.busy": "2022-02-09T10:09:23.161245Z",
     "iopub.status.idle": "2022-02-09T10:09:23.174680Z",
     "shell.execute_reply": "2022-02-09T10:09:23.175245Z"
    },
    "papermill": {
     "duration": 0.047516,
     "end_time": "2022-02-09T10:09:23.175435",
     "exception": false,
     "start_time": "2022-02-09T10:09:23.127919",
     "status": "completed"
    },
    "tags": []
   },
   "outputs": [],
   "source": [
    "training_data_x = X_train\n",
    "testing_data_x = X_test\n",
    "training_data_y = y_train.reshape(-1,1)\n",
    "testing_data_y = y_test.reshape(-1,1)"
   ]
  },
  {
   "cell_type": "code",
   "execution_count": 19,
   "id": "76951160",
   "metadata": {
    "execution": {
     "iopub.execute_input": "2022-02-09T10:09:23.246949Z",
     "iopub.status.busy": "2022-02-09T10:09:23.246369Z",
     "iopub.status.idle": "2022-02-09T10:09:23.264377Z",
     "shell.execute_reply": "2022-02-09T10:09:23.264839Z"
    },
    "papermill": {
     "duration": 0.054643,
     "end_time": "2022-02-09T10:09:23.264975",
     "exception": false,
     "start_time": "2022-02-09T10:09:23.210332",
     "status": "completed"
    },
    "tags": []
   },
   "outputs": [
    {
     "name": "stdout",
     "output_type": "stream",
     "text": [
      "xavier\n",
      "xavier\n",
      "xavier\n",
      "xavier\n",
      "xavier\n"
     ]
    }
   ],
   "source": [
    "layers = [Affine(\"first\", 784, 100), Relu(\"first\"), Affine(\"second\", 100, 100), Relu(\"second\"), Affine(\"third\", 100, 2), Affine(\"last\", 2, 1), Sigmoid(\"last\")]\n",
    "model_nn = Model(layers)\n",
    "model_lr = Model([Affine(\"logits\", 784, 1), Sigmoid(\"sigmoid\")])"
   ]
  },
  {
   "cell_type": "code",
   "execution_count": 20,
   "id": "6eede77a",
   "metadata": {
    "execution": {
     "iopub.execute_input": "2022-02-09T10:09:23.342959Z",
     "iopub.status.busy": "2022-02-09T10:09:23.334732Z",
     "iopub.status.idle": "2022-02-09T10:09:23.347553Z",
     "shell.execute_reply": "2022-02-09T10:09:23.347002Z"
    },
    "papermill": {
     "duration": 0.050911,
     "end_time": "2022-02-09T10:09:23.347663",
     "exception": false,
     "start_time": "2022-02-09T10:09:23.296752",
     "status": "completed"
    },
    "tags": []
   },
   "outputs": [],
   "source": [
    "nn_learner = Learner(loss, model_nn, opt, config.num_epochs)\n",
    "acc_nn = ClfCallback(nn_learner, config.bs, training_data_x , testing_data_x, training_data_y, testing_data_y)\n",
    "nn_learner.set_callbacks([acc_nn])"
   ]
  },
  {
   "cell_type": "code",
   "execution_count": 21,
   "id": "877b6cc7",
   "metadata": {
    "execution": {
     "iopub.execute_input": "2022-02-09T10:09:23.418319Z",
     "iopub.status.busy": "2022-02-09T10:09:23.415645Z",
     "iopub.status.idle": "2022-02-09T10:09:23.428557Z",
     "shell.execute_reply": "2022-02-09T10:09:23.429035Z"
    },
    "papermill": {
     "duration": 0.049081,
     "end_time": "2022-02-09T10:09:23.429163",
     "exception": false,
     "start_time": "2022-02-09T10:09:23.380082",
     "status": "completed"
    },
    "tags": []
   },
   "outputs": [],
   "source": [
    "lr_learner = Learner(loss, model_lr, opt, config.num_epochs)\n",
    "acc_lr = ClfCallback(lr_learner, config.bs, training_data_x , testing_data_x, training_data_y, testing_data_y)\n",
    "lr_learner.set_callbacks([acc_lr])"
   ]
  },
  {
   "cell_type": "code",
   "execution_count": 22,
   "id": "d9b133c3",
   "metadata": {
    "execution": {
     "iopub.execute_input": "2022-02-09T10:09:23.497047Z",
     "iopub.status.busy": "2022-02-09T10:09:23.496446Z",
     "iopub.status.idle": "2022-02-09T10:11:43.930392Z",
     "shell.execute_reply": "2022-02-09T10:11:43.931296Z"
    },
    "papermill": {
     "duration": 140.470325,
     "end_time": "2022-02-09T10:11:43.931455",
     "exception": false,
     "start_time": "2022-02-09T10:09:23.461130",
     "status": "completed"
    },
    "tags": []
   },
   "outputs": [
    {
     "name": "stdout",
     "output_type": "stream",
     "text": [
      "Epoch 0, Loss 0.2289\n",
      "Training Accuracy: 0.7473, Testing Accuracy: 0.7636\n",
      "\n"
     ]
    },
    {
     "name": "stdout",
     "output_type": "stream",
     "text": [
      "Epoch 10, Loss 0.0757\n",
      "Training Accuracy: 0.9297, Testing Accuracy: 0.9430\n",
      "\n"
     ]
    },
    {
     "name": "stdout",
     "output_type": "stream",
     "text": [
      "Epoch 20, Loss 0.0493\n",
      "Training Accuracy: 0.9473, Testing Accuracy: 0.9567\n",
      "\n"
     ]
    },
    {
     "name": "stdout",
     "output_type": "stream",
     "text": [
      "Epoch 30, Loss 0.04\n",
      "Training Accuracy: 0.9562, Testing Accuracy: 0.9662\n",
      "\n"
     ]
    },
    {
     "name": "stdout",
     "output_type": "stream",
     "text": [
      "Epoch 40, Loss 0.0352\n",
      "Training Accuracy: 0.9609, Testing Accuracy: 0.9718\n",
      "\n"
     ]
    },
    {
     "name": "stdout",
     "output_type": "stream",
     "text": [
      "Epoch 50, Loss 0.0322\n",
      "Training Accuracy: 0.9634, Testing Accuracy: 0.9738\n",
      "\n"
     ]
    },
    {
     "name": "stdout",
     "output_type": "stream",
     "text": [
      "Epoch 60, Loss 0.0301\n",
      "Training Accuracy: 0.9655, Testing Accuracy: 0.9733\n",
      "\n"
     ]
    },
    {
     "name": "stdout",
     "output_type": "stream",
     "text": [
      "Epoch 70, Loss 0.0284\n",
      "Training Accuracy: 0.9665, Testing Accuracy: 0.9738\n",
      "\n"
     ]
    },
    {
     "name": "stdout",
     "output_type": "stream",
     "text": [
      "Epoch 80, Loss 0.0271\n",
      "Training Accuracy: 0.9680, Testing Accuracy: 0.9748\n",
      "\n"
     ]
    },
    {
     "name": "stdout",
     "output_type": "stream",
     "text": [
      "Epoch 90, Loss 0.026\n",
      "Training Accuracy: 0.9698, Testing Accuracy: 0.9743\n",
      "\n"
     ]
    },
    {
     "name": "stdout",
     "output_type": "stream",
     "text": [
      "Epoch 100, Loss 0.025\n",
      "Training Accuracy: 0.9708, Testing Accuracy: 0.9753\n",
      "\n"
     ]
    },
    {
     "name": "stdout",
     "output_type": "stream",
     "text": [
      "Epoch 110, Loss 0.0241\n",
      "Training Accuracy: 0.9723, Testing Accuracy: 0.9748\n",
      "\n"
     ]
    },
    {
     "name": "stdout",
     "output_type": "stream",
     "text": [
      "Epoch 120, Loss 0.0234\n",
      "Training Accuracy: 0.9732, Testing Accuracy: 0.9748\n",
      "\n"
     ]
    },
    {
     "name": "stdout",
     "output_type": "stream",
     "text": [
      "Epoch 130, Loss 0.0227\n",
      "Training Accuracy: 0.9739, Testing Accuracy: 0.9743\n",
      "\n"
     ]
    },
    {
     "name": "stdout",
     "output_type": "stream",
     "text": [
      "Epoch 140, Loss 0.0221\n",
      "Training Accuracy: 0.9752, Testing Accuracy: 0.9743\n",
      "\n"
     ]
    },
    {
     "name": "stdout",
     "output_type": "stream",
     "text": [
      "Epoch 150, Loss 0.0215\n",
      "Training Accuracy: 0.9761, Testing Accuracy: 0.9743\n",
      "\n"
     ]
    },
    {
     "name": "stdout",
     "output_type": "stream",
     "text": [
      "Epoch 160, Loss 0.021\n",
      "Training Accuracy: 0.9767, Testing Accuracy: 0.9738\n",
      "\n"
     ]
    },
    {
     "name": "stdout",
     "output_type": "stream",
     "text": [
      "Epoch 170, Loss 0.0205\n",
      "Training Accuracy: 0.9775, Testing Accuracy: 0.9753\n",
      "\n"
     ]
    },
    {
     "name": "stdout",
     "output_type": "stream",
     "text": [
      "Epoch 180, Loss 0.02\n",
      "Training Accuracy: 0.9778, Testing Accuracy: 0.9753\n",
      "\n"
     ]
    },
    {
     "name": "stdout",
     "output_type": "stream",
     "text": [
      "Epoch 190, Loss 0.0196\n",
      "Training Accuracy: 0.9787, Testing Accuracy: 0.9758\n",
      "\n"
     ]
    },
    {
     "name": "stdout",
     "output_type": "stream",
     "text": [
      "Epoch 200, Loss 0.0191\n",
      "Training Accuracy: 0.9798, Testing Accuracy: 0.9758\n",
      "\n"
     ]
    },
    {
     "name": "stdout",
     "output_type": "stream",
     "text": [
      "Epoch 210, Loss 0.0187\n",
      "Training Accuracy: 0.9801, Testing Accuracy: 0.9763\n",
      "\n"
     ]
    },
    {
     "name": "stdout",
     "output_type": "stream",
     "text": [
      "Epoch 220, Loss 0.0183\n",
      "Training Accuracy: 0.9807, Testing Accuracy: 0.9758\n",
      "\n"
     ]
    },
    {
     "name": "stdout",
     "output_type": "stream",
     "text": [
      "Epoch 230, Loss 0.018\n",
      "Training Accuracy: 0.9808, Testing Accuracy: 0.9758\n",
      "\n"
     ]
    },
    {
     "name": "stdout",
     "output_type": "stream",
     "text": [
      "Epoch 240, Loss 0.0176\n",
      "Training Accuracy: 0.9812, Testing Accuracy: 0.9753\n",
      "\n"
     ]
    },
    {
     "data": {
      "text/plain": [
       "0.007603471755511112"
      ]
     },
     "execution_count": 22,
     "metadata": {},
     "output_type": "execute_result"
    }
   ],
   "source": [
    "nn_learner.train_loop(dl)"
   ]
  },
  {
   "cell_type": "code",
   "execution_count": 23,
   "id": "e0163366",
   "metadata": {
    "execution": {
     "iopub.execute_input": "2022-02-09T10:11:44.026728Z",
     "iopub.status.busy": "2022-02-09T10:11:44.026130Z",
     "iopub.status.idle": "2022-02-09T10:12:04.672901Z",
     "shell.execute_reply": "2022-02-09T10:12:04.673803Z"
    },
    "papermill": {
     "duration": 20.698875,
     "end_time": "2022-02-09T10:12:04.673947",
     "exception": false,
     "start_time": "2022-02-09T10:11:43.975072",
     "status": "completed"
    },
    "tags": []
   },
   "outputs": [
    {
     "name": "stdout",
     "output_type": "stream",
     "text": [
      "Epoch 0, Loss 0.2253\n",
      "Training Accuracy: 0.7369, Testing Accuracy: 0.7314\n",
      "\n"
     ]
    },
    {
     "name": "stdout",
     "output_type": "stream",
     "text": [
      "Epoch 10, Loss 0.1013\n",
      "Training Accuracy: 0.9125, Testing Accuracy: 0.9224\n",
      "\n"
     ]
    },
    {
     "name": "stdout",
     "output_type": "stream",
     "text": [
      "Epoch 20, Loss 0.078\n",
      "Training Accuracy: 0.9296, Testing Accuracy: 0.9395\n",
      "\n"
     ]
    },
    {
     "name": "stdout",
     "output_type": "stream",
     "text": [
      "Epoch 30, Loss 0.0672\n",
      "Training Accuracy: 0.9361, Testing Accuracy: 0.9446\n",
      "\n"
     ]
    },
    {
     "name": "stdout",
     "output_type": "stream",
     "text": [
      "Epoch 40, Loss 0.0607\n",
      "Training Accuracy: 0.9408, Testing Accuracy: 0.9526\n",
      "\n"
     ]
    },
    {
     "name": "stdout",
     "output_type": "stream",
     "text": [
      "Epoch 50, Loss 0.0564\n",
      "Training Accuracy: 0.9447, Testing Accuracy: 0.9551\n",
      "\n"
     ]
    },
    {
     "name": "stdout",
     "output_type": "stream",
     "text": [
      "Epoch 60, Loss 0.0531\n",
      "Training Accuracy: 0.9480, Testing Accuracy: 0.9582\n",
      "\n"
     ]
    },
    {
     "name": "stdout",
     "output_type": "stream",
     "text": [
      "Epoch 70, Loss 0.0507\n",
      "Training Accuracy: 0.9495, Testing Accuracy: 0.9607\n",
      "\n"
     ]
    },
    {
     "name": "stdout",
     "output_type": "stream",
     "text": [
      "Epoch 80, Loss 0.0487\n",
      "Training Accuracy: 0.9511, Testing Accuracy: 0.9627\n",
      "\n"
     ]
    },
    {
     "name": "stdout",
     "output_type": "stream",
     "text": [
      "Epoch 90, Loss 0.0471\n",
      "Training Accuracy: 0.9523, Testing Accuracy: 0.9632\n",
      "\n"
     ]
    },
    {
     "name": "stdout",
     "output_type": "stream",
     "text": [
      "Epoch 100, Loss 0.0457\n",
      "Training Accuracy: 0.9532, Testing Accuracy: 0.9647\n",
      "\n"
     ]
    },
    {
     "name": "stdout",
     "output_type": "stream",
     "text": [
      "Epoch 110, Loss 0.0445\n",
      "Training Accuracy: 0.9535, Testing Accuracy: 0.9652\n",
      "\n"
     ]
    },
    {
     "name": "stdout",
     "output_type": "stream",
     "text": [
      "Epoch 120, Loss 0.0435\n",
      "Training Accuracy: 0.9548, Testing Accuracy: 0.9662\n",
      "\n"
     ]
    },
    {
     "name": "stdout",
     "output_type": "stream",
     "text": [
      "Epoch 130, Loss 0.0426\n",
      "Training Accuracy: 0.9557, Testing Accuracy: 0.9672\n",
      "\n"
     ]
    },
    {
     "name": "stdout",
     "output_type": "stream",
     "text": [
      "Epoch 140, Loss 0.0418\n",
      "Training Accuracy: 0.9566, Testing Accuracy: 0.9677\n",
      "\n"
     ]
    },
    {
     "name": "stdout",
     "output_type": "stream",
     "text": [
      "Epoch 150, Loss 0.0411\n",
      "Training Accuracy: 0.9569, Testing Accuracy: 0.9677\n",
      "\n"
     ]
    },
    {
     "name": "stdout",
     "output_type": "stream",
     "text": [
      "Epoch 160, Loss 0.0404\n",
      "Training Accuracy: 0.9575, Testing Accuracy: 0.9677\n",
      "\n"
     ]
    },
    {
     "name": "stdout",
     "output_type": "stream",
     "text": [
      "Epoch 170, Loss 0.0398\n",
      "Training Accuracy: 0.9579, Testing Accuracy: 0.9677\n",
      "\n"
     ]
    },
    {
     "name": "stdout",
     "output_type": "stream",
     "text": [
      "Epoch 180, Loss 0.0393\n",
      "Training Accuracy: 0.9584, Testing Accuracy: 0.9677\n",
      "\n"
     ]
    },
    {
     "name": "stdout",
     "output_type": "stream",
     "text": [
      "Epoch 190, Loss 0.0388\n",
      "Training Accuracy: 0.9584, Testing Accuracy: 0.9677\n",
      "\n"
     ]
    },
    {
     "name": "stdout",
     "output_type": "stream",
     "text": [
      "Epoch 200, Loss 0.0383\n",
      "Training Accuracy: 0.9589, Testing Accuracy: 0.9682\n",
      "\n"
     ]
    },
    {
     "name": "stdout",
     "output_type": "stream",
     "text": [
      "Epoch 210, Loss 0.0379\n",
      "Training Accuracy: 0.9593, Testing Accuracy: 0.9682\n",
      "\n"
     ]
    },
    {
     "name": "stdout",
     "output_type": "stream",
     "text": [
      "Epoch 220, Loss 0.0375\n",
      "Training Accuracy: 0.9596, Testing Accuracy: 0.9688\n",
      "\n"
     ]
    },
    {
     "name": "stdout",
     "output_type": "stream",
     "text": [
      "Epoch 230, Loss 0.0371\n",
      "Training Accuracy: 0.9599, Testing Accuracy: 0.9693\n",
      "\n"
     ]
    },
    {
     "name": "stdout",
     "output_type": "stream",
     "text": [
      "Epoch 240, Loss 0.0368\n",
      "Training Accuracy: 0.9604, Testing Accuracy: 0.9698\n",
      "\n"
     ]
    },
    {
     "data": {
      "text/plain": [
       "0.07647437161308057"
      ]
     },
     "execution_count": 23,
     "metadata": {},
     "output_type": "execute_result"
    }
   ],
   "source": [
    "lr_learner.train_loop(dl)"
   ]
  },
  {
   "cell_type": "code",
   "execution_count": 24,
   "id": "ca410940",
   "metadata": {
    "execution": {
     "iopub.execute_input": "2022-02-09T10:12:04.785201Z",
     "iopub.status.busy": "2022-02-09T10:12:04.784391Z",
     "iopub.status.idle": "2022-02-09T10:12:05.060554Z",
     "shell.execute_reply": "2022-02-09T10:12:05.059945Z"
    },
    "papermill": {
     "duration": 0.340118,
     "end_time": "2022-02-09T10:12:05.060686",
     "exception": false,
     "start_time": "2022-02-09T10:12:04.720568",
     "status": "completed"
    },
    "tags": []
   },
   "outputs": [
    {
     "data": {
      "text/plain": [
       "<matplotlib.legend.Legend at 0x7fdcc6a5e668>"
      ]
     },
     "execution_count": 24,
     "metadata": {},
     "output_type": "execute_result"
    },
    {
     "data": {
      "image/png": "[encoded data removed]",
      "text/plain": [
       "<Figure size 1080x720 with 1 Axes>"
      ]
     },
     "metadata": {
      "needs_background": "light"
     },
     "output_type": "display_data"
    }
   ],
   "source": [
    "#comparing the results of NN and LR\n",
    "plt.figure(figsize=(15,10))\n",
    "\n",
    "# Neural Network plots\n",
    "plt.plot(acc_nn.accuracies, 'r-', label = \"Training Accuracies - NN\")\n",
    "plt.plot(acc_nn.test_accuracies, 'g-', label = \"Testing Accuracies - NN\")\n",
    "\n",
    "# Logistic Regression plots\n",
    "plt.plot(acc_lr.accuracies, 'k-', label = \"Training Accuracies - LR\")\n",
    "plt.plot(acc_lr.test_accuracies, 'b-', label = \"Testing Accuracies - LR\")\n",
    "plt.legend()"
   ]
  },
  {
   "cell_type": "markdown",
   "id": "80dfb35c",
   "metadata": {
    "papermill": {
     "duration": 0.053111,
     "end_time": "2022-02-09T10:12:05.166357",
     "exception": false,
     "start_time": "2022-02-09T10:12:05.113246",
     "status": "completed"
    },
    "tags": []
   },
   "source": [
    "#### Plotting the outputs of this layer of the NN.\n"
   ]
  },
  {
   "cell_type": "code",
   "execution_count": 25,
   "id": "45eb2ff5",
   "metadata": {
    "execution": {
     "iopub.execute_input": "2022-02-09T10:12:05.284096Z",
     "iopub.status.busy": "2022-02-09T10:12:05.283455Z",
     "iopub.status.idle": "2022-02-09T10:12:05.311131Z",
     "shell.execute_reply": "2022-02-09T10:12:05.311634Z"
    },
    "papermill": {
     "duration": 0.088912,
     "end_time": "2022-02-09T10:12:05.311782",
     "exception": false,
     "start_time": "2022-02-09T10:12:05.222870",
     "status": "completed"
    },
    "tags": []
   },
   "outputs": [],
   "source": [
    "new_model = Model(layers[:-2])\n",
    "testing_plot = new_model(testing_data_x)"
   ]
  },
  {
   "cell_type": "code",
   "execution_count": 26,
   "id": "4c0a5485",
   "metadata": {
    "execution": {
     "iopub.execute_input": "2022-02-09T10:12:05.416918Z",
     "iopub.status.busy": "2022-02-09T10:12:05.415614Z",
     "iopub.status.idle": "2022-02-09T10:12:05.668422Z",
     "shell.execute_reply": "2022-02-09T10:12:05.668972Z"
    },
    "papermill": {
     "duration": 0.307701,
     "end_time": "2022-02-09T10:12:05.669122",
     "exception": false,
     "start_time": "2022-02-09T10:12:05.361421",
     "status": "completed"
    },
    "tags": []
   },
   "outputs": [
    {
     "data": {
      "text/plain": [
       "Text(0.5, 1.0, 'Outputs')"
      ]
     },
     "execution_count": 26,
     "metadata": {},
     "output_type": "execute_result"
    },
    {
     "data": {
      "image/png": "[encoded data removed]",
      "text/plain": [
       "<Figure size 576x504 with 1 Axes>"
      ]
     },
     "metadata": {
      "needs_background": "light"
     },
     "output_type": "display_data"
    }
   ],
   "source": [
    "# Plotting the scatter plot of points and color coding by class\n",
    "plt.figure(figsize=(8,7))\n",
    "plt.scatter(testing_plot[:,0], testing_plot[:,1], alpha = 0.1, c = y_test.ravel());\n",
    "plt.title('Outputs')"
   ]
  },
  {
   "cell_type": "markdown",
   "id": "a74fcf8f",
   "metadata": {
    "papermill": {
     "duration": 0.055715,
     "end_time": "2022-02-09T10:12:05.776769",
     "exception": false,
     "start_time": "2022-02-09T10:12:05.721054",
     "status": "completed"
    },
    "tags": []
   },
   "source": [
    "Probability contours"
   ]
  },
  {
   "cell_type": "code",
   "execution_count": 27,
   "id": "d0afc8e3",
   "metadata": {
    "execution": {
     "iopub.execute_input": "2022-02-09T10:12:05.900923Z",
     "iopub.status.busy": "2022-02-09T10:12:05.900356Z",
     "iopub.status.idle": "2022-02-09T10:12:05.913288Z",
     "shell.execute_reply": "2022-02-09T10:12:05.912693Z"
    },
    "papermill": {
     "duration": 0.064208,
     "end_time": "2022-02-09T10:12:05.913414",
     "exception": false,
     "start_time": "2022-02-09T10:12:05.849206",
     "status": "completed"
    },
    "tags": []
   },
   "outputs": [],
   "source": [
    "model_prob = Model(layers[-2:]) "
   ]
  },
  {
   "cell_type": "code",
   "execution_count": 28,
   "id": "9b96e238",
   "metadata": {
    "execution": {
     "iopub.execute_input": "2022-02-09T10:12:06.015728Z",
     "iopub.status.busy": "2022-02-09T10:12:06.015160Z",
     "iopub.status.idle": "2022-02-09T10:12:06.029591Z",
     "shell.execute_reply": "2022-02-09T10:12:06.030043Z"
    },
    "papermill": {
     "duration": 0.069025,
     "end_time": "2022-02-09T10:12:06.030182",
     "exception": false,
     "start_time": "2022-02-09T10:12:05.961157",
     "status": "completed"
    },
    "tags": []
   },
   "outputs": [],
   "source": [
    "#creating the x and y ranges according to the above generated plot.\n",
    "x_range = np.linspace(-4, 1, 100) \n",
    "y_range = np.linspace(-6, 6, 100) \n",
    "x_grid, y_grid = np.meshgrid(x_range, y_range) # x_grid and y_grig are of size 100 X 100\n",
    "\n",
    "# converting x_grid and y_grid to continuous arrays\n",
    "x_gridflat = np.ravel(x_grid)\n",
    "y_gridflat = np.ravel(y_grid)\n",
    "\n",
    "# The last layer of the current model takes two columns as input. Hence transpose of np.vstack() is required.\n",
    "X = np.vstack((x_gridflat, y_gridflat)).T\n",
    "\n",
    "prob_contour = model_prob(X).reshape(100,100) "
   ]
  },
  {
   "cell_type": "code",
   "execution_count": 29,
   "id": "da72499a",
   "metadata": {
    "execution": {
     "iopub.execute_input": "2022-02-09T10:12:06.144336Z",
     "iopub.status.busy": "2022-02-09T10:12:06.143767Z",
     "iopub.status.idle": "2022-02-09T10:12:06.438409Z",
     "shell.execute_reply": "2022-02-09T10:12:06.439307Z"
    },
    "papermill": {
     "duration": 0.354636,
     "end_time": "2022-02-09T10:12:06.439513",
     "exception": false,
     "start_time": "2022-02-09T10:12:06.084877",
     "status": "completed"
    },
    "tags": []
   },
   "outputs": [
    {
     "data": {
      "image/png": "[encoded data removed]",
      "text/plain": [
       "<Figure size 720x648 with 1 Axes>"
      ]
     },
     "metadata": {
      "needs_background": "light"
     },
     "output_type": "display_data"
    }
   ],
   "source": [
    "plt.figure(figsize=(10,9))\n",
    "plt.scatter(testing_plot[:,0], testing_plot[:,1], alpha = 0.1, c = y_test.ravel())\n",
    "contours = plt.contour(x_grid,y_grid,prob_contour)\n",
    "plt.title('Probability Contours')\n",
    "plt.clabel(contours, inline = True );"
   ]
  },
  {
   "cell_type": "code",
   "execution_count": null,
   "id": "e81b4ac7",
   "metadata": {
    "papermill": {
     "duration": 0.051287,
     "end_time": "2022-02-09T10:12:06.549222",
     "exception": false,
     "start_time": "2022-02-09T10:12:06.497935",
     "status": "completed"
    },
    "tags": []
   },
   "outputs": [],
   "source": []
  }
 ],
 "metadata": {
  "kernelspec": {
   "display_name": "Python 3",
   "language": "python",
   "name": "python3"
  },
  "language_info": {
   "codemirror_mode": {
    "name": "ipython",
    "version": 3
   },
   "file_extension": ".py",
   "mimetype": "text/x-python",
   "name": "python",
   "nbconvert_exporter": "python",
   "pygments_lexer": "ipython3",
   "version": "3.6.15"
  },
  "papermill": {
   "default_parameters": {},
   "duration": 170.550475,
   "end_time": "2022-02-09T10:12:07.018904",
   "environment_variables": {},
   "exception": null,
   "input_path": "2020-08-11-part2.ipynb",
   "output_path": "2020-08-11-part2.ipynb",
   "parameters": {},
   "start_time": "2022-02-09T10:09:16.468429",
   "version": "2.3.3"
  }
 },
 "nbformat": 4,
 "nbformat_minor": 5
}