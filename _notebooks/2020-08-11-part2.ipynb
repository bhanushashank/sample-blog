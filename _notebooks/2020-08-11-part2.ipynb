{
 "cells": [
  {
   "cell_type": "markdown",
   "id": "98380cd3",
   "metadata": {
    "papermill": {
     "duration": 0.033845,
     "end_time": "2021-10-08T10:07:52.877792",
     "exception": false,
     "start_time": "2021-10-08T10:07:52.843947",
     "status": "completed"
    },
    "tags": []
   },
   "source": [
    "# Distinguish Your Own Digits (DYOD)"
   ]
  },
  {
   "cell_type": "markdown",
   "id": "ef31240d",
   "metadata": {
    "papermill": {
     "duration": 0.034318,
     "end_time": "2021-10-08T10:07:52.944250",
     "exception": false,
     "start_time": "2021-10-08T10:07:52.909932",
     "status": "completed"
    },
    "tags": []
   },
   "source": [
    "You are going to write a classifier that distinguishes between the number 3 and number 8."
   ]
  },
  {
   "cell_type": "code",
   "execution_count": 1,
   "id": "b15c8646",
   "metadata": {
    "execution": {
     "iopub.execute_input": "2021-10-08T10:07:53.013463Z",
     "iopub.status.busy": "2021-10-08T10:07:53.008253Z",
     "iopub.status.idle": "2021-10-08T10:07:53.028435Z",
     "shell.execute_reply": "2021-10-08T10:07:53.029395Z"
    },
    "papermill": {
     "duration": 0.054379,
     "end_time": "2021-10-08T10:07:53.029690",
     "exception": false,
     "start_time": "2021-10-08T10:07:52.975311",
     "status": "completed"
    },
    "tags": []
   },
   "outputs": [],
   "source": [
    "%load_ext autoreload\n",
    "%autoreload 2"
   ]
  },
  {
   "cell_type": "code",
   "execution_count": 2,
   "id": "22ef38dc",
   "metadata": {
    "execution": {
     "iopub.execute_input": "2021-10-08T10:07:53.096326Z",
     "iopub.status.busy": "2021-10-08T10:07:53.095696Z",
     "iopub.status.idle": "2021-10-08T10:07:53.629265Z",
     "shell.execute_reply": "2021-10-08T10:07:53.628372Z"
    },
    "papermill": {
     "duration": 0.567786,
     "end_time": "2021-10-08T10:07:53.629398",
     "exception": false,
     "start_time": "2021-10-08T10:07:53.061612",
     "status": "completed"
    },
    "tags": []
   },
   "outputs": [],
   "source": [
    "%matplotlib inline\n",
    "import numpy as np\n",
    "import matplotlib.pyplot as plt\n",
    "import pandas as pd"
   ]
  },
  {
   "cell_type": "markdown",
   "id": "ba036198",
   "metadata": {
    "papermill": {
     "duration": 0.026714,
     "end_time": "2021-10-08T10:07:53.684928",
     "exception": false,
     "start_time": "2021-10-08T10:07:53.658214",
     "status": "completed"
    },
    "tags": []
   },
   "source": [
    "From the command line run `pip install mnist`. This is a library that will help you bring down the mnist dataset. If you run this from a notebook, you need to put  `!pip install mnist` in a cell by itself."
   ]
  },
  {
   "cell_type": "code",
   "execution_count": 3,
   "id": "bb6ad8a1",
   "metadata": {
    "execution": {
     "iopub.execute_input": "2021-10-08T10:07:53.744240Z",
     "iopub.status.busy": "2021-10-08T10:07:53.743608Z",
     "iopub.status.idle": "2021-10-08T10:07:56.493813Z",
     "shell.execute_reply": "2021-10-08T10:07:56.493309Z"
    },
    "papermill": {
     "duration": 2.781948,
     "end_time": "2021-10-08T10:07:56.493939",
     "exception": false,
     "start_time": "2021-10-08T10:07:53.711991",
     "status": "completed"
    },
    "tags": []
   },
   "outputs": [
    {
     "name": "stdout",
     "output_type": "stream",
     "text": [
      "Collecting mnist\r\n"
     ]
    },
    {
     "name": "stdout",
     "output_type": "stream",
     "text": [
      "  Downloading mnist-0.2.2-py2.py3-none-any.whl (3.5 kB)\r\n",
      "Requirement already satisfied: numpy in /opt/hostedtoolcache/Python/3.6.15/x64/lib/python3.6/site-packages (from mnist) (1.19.5)\r\n"
     ]
    },
    {
     "name": "stdout",
     "output_type": "stream",
     "text": [
      "Installing collected packages: mnist\r\n",
      "Successfully installed mnist-0.2.2\r\n"
     ]
    }
   ],
   "source": [
    "!pip install mnist"
   ]
  },
  {
   "cell_type": "markdown",
   "id": "69df9c9a",
   "metadata": {
    "papermill": {
     "duration": 0.025154,
     "end_time": "2021-10-08T10:07:56.545494",
     "exception": false,
     "start_time": "2021-10-08T10:07:56.520340",
     "status": "completed"
    },
    "tags": []
   },
   "source": [
    "## Preparing the Data"
   ]
  },
  {
   "cell_type": "code",
   "execution_count": 4,
   "id": "7f69d806",
   "metadata": {
    "execution": {
     "iopub.execute_input": "2021-10-08T10:07:56.603573Z",
     "iopub.status.busy": "2021-10-08T10:07:56.602855Z",
     "iopub.status.idle": "2021-10-08T10:07:56.618012Z",
     "shell.execute_reply": "2021-10-08T10:07:56.618683Z"
    },
    "papermill": {
     "duration": 0.048874,
     "end_time": "2021-10-08T10:07:56.618833",
     "exception": false,
     "start_time": "2021-10-08T10:07:56.569959",
     "status": "completed"
    },
    "tags": []
   },
   "outputs": [],
   "source": [
    "import mnist"
   ]
  },
  {
   "cell_type": "code",
   "execution_count": 5,
   "id": "a411e44f",
   "metadata": {
    "execution": {
     "iopub.execute_input": "2021-10-08T10:07:56.680091Z",
     "iopub.status.busy": "2021-10-08T10:07:56.679538Z",
     "iopub.status.idle": "2021-10-08T10:07:57.282798Z",
     "shell.execute_reply": "2021-10-08T10:07:57.281893Z"
    },
    "papermill": {
     "duration": 0.635722,
     "end_time": "2021-10-08T10:07:57.282937",
     "exception": false,
     "start_time": "2021-10-08T10:07:56.647215",
     "status": "completed"
    },
    "tags": []
   },
   "outputs": [],
   "source": [
    "train_images = mnist.train_images()\n",
    "train_labels = mnist.train_labels()"
   ]
  },
  {
   "cell_type": "code",
   "execution_count": 6,
   "id": "dceab3a5",
   "metadata": {
    "execution": {
     "iopub.execute_input": "2021-10-08T10:07:57.347470Z",
     "iopub.status.busy": "2021-10-08T10:07:57.344828Z",
     "iopub.status.idle": "2021-10-08T10:07:57.360514Z",
     "shell.execute_reply": "2021-10-08T10:07:57.361191Z"
    },
    "papermill": {
     "duration": 0.049899,
     "end_time": "2021-10-08T10:07:57.361341",
     "exception": false,
     "start_time": "2021-10-08T10:07:57.311442",
     "status": "completed"
    },
    "tags": []
   },
   "outputs": [
    {
     "data": {
      "text/plain": [
       "((60000, 28, 28), (60000,))"
      ]
     },
     "execution_count": 6,
     "metadata": {},
     "output_type": "execute_result"
    }
   ],
   "source": [
    "train_images.shape, train_labels.shape"
   ]
  },
  {
   "cell_type": "code",
   "execution_count": 7,
   "id": "f50dc2bb",
   "metadata": {
    "execution": {
     "iopub.execute_input": "2021-10-08T10:07:57.425507Z",
     "iopub.status.busy": "2021-10-08T10:07:57.424866Z",
     "iopub.status.idle": "2021-10-08T10:07:57.649718Z",
     "shell.execute_reply": "2021-10-08T10:07:57.649135Z"
    },
    "papermill": {
     "duration": 0.259479,
     "end_time": "2021-10-08T10:07:57.649874",
     "exception": false,
     "start_time": "2021-10-08T10:07:57.390395",
     "status": "completed"
    },
    "tags": []
   },
   "outputs": [],
   "source": [
    "test_images = mnist.test_images()\n",
    "test_labels = mnist.test_labels()"
   ]
  },
  {
   "cell_type": "code",
   "execution_count": 8,
   "id": "fc38cf1b",
   "metadata": {
    "execution": {
     "iopub.execute_input": "2021-10-08T10:07:57.719802Z",
     "iopub.status.busy": "2021-10-08T10:07:57.716208Z",
     "iopub.status.idle": "2021-10-08T10:07:57.732893Z",
     "shell.execute_reply": "2021-10-08T10:07:57.732191Z"
    },
    "papermill": {
     "duration": 0.05286,
     "end_time": "2021-10-08T10:07:57.733054",
     "exception": false,
     "start_time": "2021-10-08T10:07:57.680194",
     "status": "completed"
    },
    "tags": []
   },
   "outputs": [
    {
     "data": {
      "text/plain": [
       "((10000, 28, 28), (10000,))"
      ]
     },
     "execution_count": 8,
     "metadata": {},
     "output_type": "execute_result"
    }
   ],
   "source": [
    "test_images.shape, test_labels.shape"
   ]
  },
  {
   "cell_type": "code",
   "execution_count": 9,
   "id": "f9ed8fe0",
   "metadata": {
    "execution": {
     "iopub.execute_input": "2021-10-08T10:07:57.792825Z",
     "iopub.status.busy": "2021-10-08T10:07:57.792108Z",
     "iopub.status.idle": "2021-10-08T10:07:57.972450Z",
     "shell.execute_reply": "2021-10-08T10:07:57.973008Z"
    },
    "papermill": {
     "duration": 0.21275,
     "end_time": "2021-10-08T10:07:57.973239",
     "exception": false,
     "start_time": "2021-10-08T10:07:57.760489",
     "status": "completed"
    },
    "tags": []
   },
   "outputs": [
    {
     "name": "stdout",
     "output_type": "stream",
     "text": [
      "2\n"
     ]
    },
    {
     "data": {
      "text/plain": [
       "<matplotlib.image.AxesImage at 0x7ff91653e828>"
      ]
     },
     "execution_count": 9,
     "metadata": {},
     "output_type": "execute_result"
    },
    {
     "data": {
      "image/png": "[encoded data removed]",
      "text/plain": [
       "<Figure size 432x288 with 1 Axes>"
      ]
     },
     "metadata": {
      "needs_background": "light"
     },
     "output_type": "display_data"
    }
   ],
   "source": [
    "image_index = 7776 # You may select anything up to 60,000\n",
    "print(train_labels[image_index]) \n",
    "plt.imshow(train_images[image_index], cmap='Greys')"
   ]
  },
  {
   "cell_type": "markdown",
   "id": "a8d2388d",
   "metadata": {
    "papermill": {
     "duration": 0.032007,
     "end_time": "2021-10-08T10:07:58.037964",
     "exception": false,
     "start_time": "2021-10-08T10:07:58.005957",
     "status": "completed"
    },
    "tags": []
   },
   "source": [
    "## Filter data to get 3 and 8 out"
   ]
  },
  {
   "cell_type": "code",
   "execution_count": 10,
   "id": "776f7fc7",
   "metadata": {
    "execution": {
     "iopub.execute_input": "2021-10-08T10:07:58.105451Z",
     "iopub.status.busy": "2021-10-08T10:07:58.104748Z",
     "iopub.status.idle": "2021-10-08T10:07:58.124544Z",
     "shell.execute_reply": "2021-10-08T10:07:58.124097Z"
    },
    "papermill": {
     "duration": 0.055919,
     "end_time": "2021-10-08T10:07:58.124662",
     "exception": false,
     "start_time": "2021-10-08T10:07:58.068743",
     "status": "completed"
    },
    "tags": []
   },
   "outputs": [],
   "source": [
    "train_filter = np.where((train_labels == 3 ) | (train_labels == 8))\n",
    "test_filter = np.where((test_labels == 3) | (test_labels == 8))\n",
    "X_train, y_train = train_images[train_filter], train_labels[train_filter]\n",
    "X_test, y_test = test_images[test_filter], test_labels[test_filter]"
   ]
  },
  {
   "cell_type": "markdown",
   "id": "948f0b7e",
   "metadata": {
    "papermill": {
     "duration": 0.028862,
     "end_time": "2021-10-08T10:07:58.181753",
     "exception": false,
     "start_time": "2021-10-08T10:07:58.152891",
     "status": "completed"
    },
    "tags": []
   },
   "source": [
    "We normalize the pizel values in the 0 to 1 range"
   ]
  },
  {
   "cell_type": "code",
   "execution_count": 11,
   "id": "ee4c2166",
   "metadata": {
    "execution": {
     "iopub.execute_input": "2021-10-08T10:07:58.245324Z",
     "iopub.status.busy": "2021-10-08T10:07:58.244726Z",
     "iopub.status.idle": "2021-10-08T10:07:58.302731Z",
     "shell.execute_reply": "2021-10-08T10:07:58.302195Z"
    },
    "papermill": {
     "duration": 0.089185,
     "end_time": "2021-10-08T10:07:58.302859",
     "exception": false,
     "start_time": "2021-10-08T10:07:58.213674",
     "status": "completed"
    },
    "tags": []
   },
   "outputs": [],
   "source": [
    "X_train = X_train/255.\n",
    "X_test = X_test/255."
   ]
  },
  {
   "cell_type": "markdown",
   "id": "ddcf4fab",
   "metadata": {
    "papermill": {
     "duration": 0.027563,
     "end_time": "2021-10-08T10:07:58.359442",
     "exception": false,
     "start_time": "2021-10-08T10:07:58.331879",
     "status": "completed"
    },
    "tags": []
   },
   "source": [
    "And setup the labels as 1 (when the digit is 3) and 0 (when the digit is 8)"
   ]
  },
  {
   "cell_type": "code",
   "execution_count": 12,
   "id": "7dc908f2",
   "metadata": {
    "execution": {
     "iopub.execute_input": "2021-10-08T10:07:58.419477Z",
     "iopub.status.busy": "2021-10-08T10:07:58.418535Z",
     "iopub.status.idle": "2021-10-08T10:07:58.430617Z",
     "shell.execute_reply": "2021-10-08T10:07:58.431258Z"
    },
    "papermill": {
     "duration": 0.045328,
     "end_time": "2021-10-08T10:07:58.431381",
     "exception": false,
     "start_time": "2021-10-08T10:07:58.386053",
     "status": "completed"
    },
    "tags": []
   },
   "outputs": [],
   "source": [
    "y_train = 1*(y_train==3)\n",
    "y_test = 1*(y_test==3)"
   ]
  },
  {
   "cell_type": "code",
   "execution_count": 13,
   "id": "01e4e969",
   "metadata": {
    "execution": {
     "iopub.execute_input": "2021-10-08T10:07:58.492729Z",
     "iopub.status.busy": "2021-10-08T10:07:58.492155Z",
     "iopub.status.idle": "2021-10-08T10:07:58.505753Z",
     "shell.execute_reply": "2021-10-08T10:07:58.505316Z"
    },
    "papermill": {
     "duration": 0.045796,
     "end_time": "2021-10-08T10:07:58.505864",
     "exception": false,
     "start_time": "2021-10-08T10:07:58.460068",
     "status": "completed"
    },
    "tags": []
   },
   "outputs": [
    {
     "data": {
      "text/plain": [
       "((11982, 28, 28), (1984, 28, 28))"
      ]
     },
     "execution_count": 13,
     "metadata": {},
     "output_type": "execute_result"
    }
   ],
   "source": [
    "X_train.shape, X_test.shape"
   ]
  },
  {
   "cell_type": "markdown",
   "id": "5ccf3f85",
   "metadata": {
    "papermill": {
     "duration": 0.028491,
     "end_time": "2021-10-08T10:07:58.562529",
     "exception": false,
     "start_time": "2021-10-08T10:07:58.534038",
     "status": "completed"
    },
    "tags": []
   },
   "source": [
    "We reshape the data to flatten the image pixels into a set of features or co-variates:"
   ]
  },
  {
   "cell_type": "code",
   "execution_count": 14,
   "id": "5286a4a3",
   "metadata": {
    "execution": {
     "iopub.execute_input": "2021-10-08T10:07:58.625467Z",
     "iopub.status.busy": "2021-10-08T10:07:58.624680Z",
     "iopub.status.idle": "2021-10-08T10:07:58.641702Z",
     "shell.execute_reply": "2021-10-08T10:07:58.641063Z"
    },
    "papermill": {
     "duration": 0.050816,
     "end_time": "2021-10-08T10:07:58.641814",
     "exception": false,
     "start_time": "2021-10-08T10:07:58.590998",
     "status": "completed"
    },
    "tags": []
   },
   "outputs": [
    {
     "data": {
      "text/plain": [
       "((11982, 784), (1984, 784))"
      ]
     },
     "execution_count": 14,
     "metadata": {},
     "output_type": "execute_result"
    }
   ],
   "source": [
    "X_train = X_train.reshape(X_train.shape[0], -1)\n",
    "X_test = X_test.reshape(X_test.shape[0], -1)\n",
    "X_train.shape, X_test.shape"
   ]
  },
  {
   "cell_type": "code",
   "execution_count": 15,
   "id": "73c5f88a",
   "metadata": {
    "execution": {
     "iopub.execute_input": "2021-10-08T10:07:58.707528Z",
     "iopub.status.busy": "2021-10-08T10:07:58.706923Z",
     "iopub.status.idle": "2021-10-08T10:07:58.727531Z",
     "shell.execute_reply": "2021-10-08T10:07:58.727944Z"
    },
    "papermill": {
     "duration": 0.054839,
     "end_time": "2021-10-08T10:07:58.728079",
     "exception": false,
     "start_time": "2021-10-08T10:07:58.673240",
     "status": "completed"
    },
    "tags": []
   },
   "outputs": [],
   "source": [
    "#Impoting functions from 'Kudzu'\n",
    "from kudzu.model import Model\n",
    "from kudzu.train import Learner\n",
    "from kudzu.optim import GD\n",
    "from kudzu.data import Data, Sampler,Dataloader\n",
    "\n",
    "from kudzu.callbacks import AccCallback\n",
    "from kudzu.callbacks import ClfCallback\n",
    "\n",
    "from kudzu.loss import MSE\n",
    "\n",
    "from kudzu.layer import Sigmoid,Relu\n",
    "from kudzu.layer import Affine"
   ]
  },
  {
   "cell_type": "markdown",
   "id": "bc01172a",
   "metadata": {
    "papermill": {
     "duration": 0.029105,
     "end_time": "2021-10-08T10:07:58.786006",
     "exception": false,
     "start_time": "2021-10-08T10:07:58.756901",
     "status": "completed"
    },
    "tags": []
   },
   "source": [
    "### Let us create a `Config` class, to store important parameters. \n",
    "This class essentially plays the role of a dictionary."
   ]
  },
  {
   "cell_type": "code",
   "execution_count": 16,
   "id": "978281aa",
   "metadata": {
    "execution": {
     "iopub.execute_input": "2021-10-08T10:07:58.846111Z",
     "iopub.status.busy": "2021-10-08T10:07:58.845543Z",
     "iopub.status.idle": "2021-10-08T10:07:58.856262Z",
     "shell.execute_reply": "2021-10-08T10:07:58.856804Z"
    },
    "papermill": {
     "duration": 0.043461,
     "end_time": "2021-10-08T10:07:58.856930",
     "exception": false,
     "start_time": "2021-10-08T10:07:58.813469",
     "status": "completed"
    },
    "tags": []
   },
   "outputs": [],
   "source": [
    "class Config:\n",
    "    pass\n",
    "config = Config()\n",
    "config.lr = 0.001\n",
    "config.num_epochs = 250\n",
    "config.bs = 50"
   ]
  },
  {
   "cell_type": "markdown",
   "id": "1385fa59",
   "metadata": {
    "papermill": {
     "duration": 0.028964,
     "end_time": "2021-10-08T10:07:58.914009",
     "exception": false,
     "start_time": "2021-10-08T10:07:58.885045",
     "status": "completed"
    },
    "tags": []
   },
   "source": [
    "### Running Models with the Training data\n",
    "Details about the network layers:\n",
    "- A first affine layer has 784 inputs and does 100 affine transforms. These are followed by a Relu\n",
    "- A second affine layer has 100 inputs from the 100 activations of the past layer, and does 100 affine transforms. These are followed by a Relu\n",
    "- A third affine layer has 100 activations and does 2 affine transformations to create an embedding for visualization. There is no non-linearity here.\n",
    "- A final \"logistic regression\" which has an affine transform from 2 inputs to 1 output, which is squeezed through a sigmoid.\n"
   ]
  },
  {
   "cell_type": "code",
   "execution_count": 17,
   "id": "2b9c66db",
   "metadata": {
    "execution": {
     "iopub.execute_input": "2021-10-08T10:07:58.975155Z",
     "iopub.status.busy": "2021-10-08T10:07:58.974051Z",
     "iopub.status.idle": "2021-10-08T10:07:58.988163Z",
     "shell.execute_reply": "2021-10-08T10:07:58.987635Z"
    },
    "papermill": {
     "duration": 0.046484,
     "end_time": "2021-10-08T10:07:58.988273",
     "exception": false,
     "start_time": "2021-10-08T10:07:58.941789",
     "status": "completed"
    },
    "tags": []
   },
   "outputs": [],
   "source": [
    "data = Data(X_train, y_train.reshape(-1,1))\n",
    "sampler = Sampler(data, config.bs, shuffle=True)\n",
    "\n",
    "dl = Dataloader(data, sampler)\n",
    "\n",
    "opt = GD(config.lr)\n",
    "loss = MSE()"
   ]
  },
  {
   "cell_type": "code",
   "execution_count": 18,
   "id": "b275e4c2",
   "metadata": {
    "execution": {
     "iopub.execute_input": "2021-10-08T10:07:59.050858Z",
     "iopub.status.busy": "2021-10-08T10:07:59.050226Z",
     "iopub.status.idle": "2021-10-08T10:07:59.063304Z",
     "shell.execute_reply": "2021-10-08T10:07:59.062821Z"
    },
    "papermill": {
     "duration": 0.045428,
     "end_time": "2021-10-08T10:07:59.063416",
     "exception": false,
     "start_time": "2021-10-08T10:07:59.017988",
     "status": "completed"
    },
    "tags": []
   },
   "outputs": [],
   "source": [
    "training_data_x = X_train\n",
    "testing_data_x = X_test\n",
    "training_data_y = y_train.reshape(-1,1)\n",
    "testing_data_y = y_test.reshape(-1,1)"
   ]
  },
  {
   "cell_type": "code",
   "execution_count": 19,
   "id": "76951160",
   "metadata": {
    "execution": {
     "iopub.execute_input": "2021-10-08T10:07:59.137338Z",
     "iopub.status.busy": "2021-10-08T10:07:59.136492Z",
     "iopub.status.idle": "2021-10-08T10:07:59.154369Z",
     "shell.execute_reply": "2021-10-08T10:07:59.153842Z"
    },
    "papermill": {
     "duration": 0.059384,
     "end_time": "2021-10-08T10:07:59.154533",
     "exception": false,
     "start_time": "2021-10-08T10:07:59.095149",
     "status": "completed"
    },
    "tags": []
   },
   "outputs": [
    {
     "name": "stdout",
     "output_type": "stream",
     "text": [
      "xavier\n",
      "xavier\n",
      "xavier\n",
      "xavier\n",
      "xavier\n"
     ]
    }
   ],
   "source": [
    "layers = [Affine(\"first\", 784, 100), Relu(\"first\"), Affine(\"second\", 100, 100), Relu(\"second\"), Affine(\"third\", 100, 2), Affine(\"last\", 2, 1), Sigmoid(\"last\")]\n",
    "model_nn = Model(layers)\n",
    "model_lr = Model([Affine(\"logits\", 784, 1), Sigmoid(\"sigmoid\")])"
   ]
  },
  {
   "cell_type": "code",
   "execution_count": 20,
   "id": "6eede77a",
   "metadata": {
    "execution": {
     "iopub.execute_input": "2021-10-08T10:07:59.222779Z",
     "iopub.status.busy": "2021-10-08T10:07:59.222169Z",
     "iopub.status.idle": "2021-10-08T10:07:59.233929Z",
     "shell.execute_reply": "2021-10-08T10:07:59.234507Z"
    },
    "papermill": {
     "duration": 0.049474,
     "end_time": "2021-10-08T10:07:59.234636",
     "exception": false,
     "start_time": "2021-10-08T10:07:59.185162",
     "status": "completed"
    },
    "tags": []
   },
   "outputs": [],
   "source": [
    "nn_learner = Learner(loss, model_nn, opt, config.num_epochs)\n",
    "acc_nn = ClfCallback(nn_learner, config.bs, training_data_x , testing_data_x, training_data_y, testing_data_y)\n",
    "nn_learner.set_callbacks([acc_nn])"
   ]
  },
  {
   "cell_type": "code",
   "execution_count": 21,
   "id": "877b6cc7",
   "metadata": {
    "execution": {
     "iopub.execute_input": "2021-10-08T10:07:59.299631Z",
     "iopub.status.busy": "2021-10-08T10:07:59.298983Z",
     "iopub.status.idle": "2021-10-08T10:07:59.310058Z",
     "shell.execute_reply": "2021-10-08T10:07:59.309606Z"
    },
    "papermill": {
     "duration": 0.044733,
     "end_time": "2021-10-08T10:07:59.310167",
     "exception": false,
     "start_time": "2021-10-08T10:07:59.265434",
     "status": "completed"
    },
    "tags": []
   },
   "outputs": [],
   "source": [
    "lr_learner = Learner(loss, model_lr, opt, config.num_epochs)\n",
    "acc_lr = ClfCallback(lr_learner, config.bs, training_data_x , testing_data_x, training_data_y, testing_data_y)\n",
    "lr_learner.set_callbacks([acc_lr])"
   ]
  },
  {
   "cell_type": "code",
   "execution_count": 22,
   "id": "d9b133c3",
   "metadata": {
    "execution": {
     "iopub.execute_input": "2021-10-08T10:07:59.371992Z",
     "iopub.status.busy": "2021-10-08T10:07:59.371461Z",
     "iopub.status.idle": "2021-10-08T10:10:17.978988Z",
     "shell.execute_reply": "2021-10-08T10:10:17.979462Z"
    },
    "papermill": {
     "duration": 138.639319,
     "end_time": "2021-10-08T10:10:17.979615",
     "exception": false,
     "start_time": "2021-10-08T10:07:59.340296",
     "status": "completed"
    },
    "tags": []
   },
   "outputs": [
    {
     "name": "stdout",
     "output_type": "stream",
     "text": [
      "Epoch 0, Loss 0.2521\n",
      "Training Accuracy: 0.4868, Testing Accuracy: 0.5076\n",
      "\n"
     ]
    },
    {
     "name": "stdout",
     "output_type": "stream",
     "text": [
      "Epoch 10, Loss 0.2049\n",
      "Training Accuracy: 0.8783, Testing Accuracy: 0.8851\n",
      "\n"
     ]
    },
    {
     "name": "stdout",
     "output_type": "stream",
     "text": [
      "Epoch 20, Loss 0.1094\n",
      "Training Accuracy: 0.9128, Testing Accuracy: 0.9244\n",
      "\n"
     ]
    },
    {
     "name": "stdout",
     "output_type": "stream",
     "text": [
      "Epoch 30, Loss 0.0646\n",
      "Training Accuracy: 0.9340, Testing Accuracy: 0.9446\n",
      "\n"
     ]
    },
    {
     "name": "stdout",
     "output_type": "stream",
     "text": [
      "Epoch 40, Loss 0.0495\n",
      "Training Accuracy: 0.9447, Testing Accuracy: 0.9536\n",
      "\n"
     ]
    },
    {
     "name": "stdout",
     "output_type": "stream",
     "text": [
      "Epoch 50, Loss 0.0421\n",
      "Training Accuracy: 0.9522, Testing Accuracy: 0.9587\n",
      "\n"
     ]
    },
    {
     "name": "stdout",
     "output_type": "stream",
     "text": [
      "Epoch 60, Loss 0.0377\n",
      "Training Accuracy: 0.9568, Testing Accuracy: 0.9627\n",
      "\n"
     ]
    },
    {
     "name": "stdout",
     "output_type": "stream",
     "text": [
      "Epoch 70, Loss 0.0347\n",
      "Training Accuracy: 0.9598, Testing Accuracy: 0.9647\n",
      "\n"
     ]
    },
    {
     "name": "stdout",
     "output_type": "stream",
     "text": [
      "Epoch 80, Loss 0.0326\n",
      "Training Accuracy: 0.9623, Testing Accuracy: 0.9688\n",
      "\n"
     ]
    },
    {
     "name": "stdout",
     "output_type": "stream",
     "text": [
      "Epoch 90, Loss 0.0309\n",
      "Training Accuracy: 0.9634, Testing Accuracy: 0.9688\n",
      "\n"
     ]
    },
    {
     "name": "stdout",
     "output_type": "stream",
     "text": [
      "Epoch 100, Loss 0.0296\n",
      "Training Accuracy: 0.9656, Testing Accuracy: 0.9688\n",
      "\n"
     ]
    },
    {
     "name": "stdout",
     "output_type": "stream",
     "text": [
      "Epoch 110, Loss 0.0285\n",
      "Training Accuracy: 0.9669, Testing Accuracy: 0.9682\n",
      "\n"
     ]
    },
    {
     "name": "stdout",
     "output_type": "stream",
     "text": [
      "Epoch 120, Loss 0.0275\n",
      "Training Accuracy: 0.9680, Testing Accuracy: 0.9688\n",
      "\n"
     ]
    },
    {
     "name": "stdout",
     "output_type": "stream",
     "text": [
      "Epoch 130, Loss 0.0267\n",
      "Training Accuracy: 0.9689, Testing Accuracy: 0.9682\n",
      "\n"
     ]
    },
    {
     "name": "stdout",
     "output_type": "stream",
     "text": [
      "Epoch 140, Loss 0.0259\n",
      "Training Accuracy: 0.9694, Testing Accuracy: 0.9688\n",
      "\n"
     ]
    },
    {
     "name": "stdout",
     "output_type": "stream",
     "text": [
      "Epoch 150, Loss 0.0253\n",
      "Training Accuracy: 0.9704, Testing Accuracy: 0.9698\n",
      "\n"
     ]
    },
    {
     "name": "stdout",
     "output_type": "stream",
     "text": [
      "Epoch 160, Loss 0.0247\n",
      "Training Accuracy: 0.9708, Testing Accuracy: 0.9703\n",
      "\n"
     ]
    },
    {
     "name": "stdout",
     "output_type": "stream",
     "text": [
      "Epoch 170, Loss 0.0241\n",
      "Training Accuracy: 0.9712, Testing Accuracy: 0.9708\n",
      "\n"
     ]
    },
    {
     "name": "stdout",
     "output_type": "stream",
     "text": [
      "Epoch 180, Loss 0.0236\n",
      "Training Accuracy: 0.9719, Testing Accuracy: 0.9718\n",
      "\n"
     ]
    },
    {
     "name": "stdout",
     "output_type": "stream",
     "text": [
      "Epoch 190, Loss 0.0231\n",
      "Training Accuracy: 0.9725, Testing Accuracy: 0.9713\n",
      "\n"
     ]
    },
    {
     "name": "stdout",
     "output_type": "stream",
     "text": [
      "Epoch 200, Loss 0.0227\n",
      "Training Accuracy: 0.9730, Testing Accuracy: 0.9713\n",
      "\n"
     ]
    },
    {
     "name": "stdout",
     "output_type": "stream",
     "text": [
      "Epoch 210, Loss 0.0222\n",
      "Training Accuracy: 0.9741, Testing Accuracy: 0.9713\n",
      "\n"
     ]
    },
    {
     "name": "stdout",
     "output_type": "stream",
     "text": [
      "Epoch 220, Loss 0.0218\n",
      "Training Accuracy: 0.9747, Testing Accuracy: 0.9718\n",
      "\n"
     ]
    },
    {
     "name": "stdout",
     "output_type": "stream",
     "text": [
      "Epoch 230, Loss 0.0214\n",
      "Training Accuracy: 0.9754, Testing Accuracy: 0.9708\n",
      "\n"
     ]
    },
    {
     "name": "stdout",
     "output_type": "stream",
     "text": [
      "Epoch 240, Loss 0.0211\n",
      "Training Accuracy: 0.9760, Testing Accuracy: 0.9708\n",
      "\n"
     ]
    },
    {
     "data": {
      "text/plain": [
       "0.033942564487087656"
      ]
     },
     "execution_count": 22,
     "metadata": {},
     "output_type": "execute_result"
    }
   ],
   "source": [
    "nn_learner.train_loop(dl)"
   ]
  },
  {
   "cell_type": "code",
   "execution_count": 23,
   "id": "e0163366",
   "metadata": {
    "execution": {
     "iopub.execute_input": "2021-10-08T10:10:18.068654Z",
     "iopub.status.busy": "2021-10-08T10:10:18.067927Z",
     "iopub.status.idle": "2021-10-08T10:10:38.293588Z",
     "shell.execute_reply": "2021-10-08T10:10:38.294813Z"
    },
    "papermill": {
     "duration": 20.274293,
     "end_time": "2021-10-08T10:10:38.295053",
     "exception": false,
     "start_time": "2021-10-08T10:10:18.020760",
     "status": "completed"
    },
    "tags": []
   },
   "outputs": [
    {
     "name": "stdout",
     "output_type": "stream",
     "text": [
      "Epoch 0, Loss 0.2307\n",
      "Training Accuracy: 0.7207, Testing Accuracy: 0.7445\n",
      "\n"
     ]
    },
    {
     "name": "stdout",
     "output_type": "stream",
     "text": [
      "Epoch 10, Loss 0.1022\n",
      "Training Accuracy: 0.9106, Testing Accuracy: 0.9234\n",
      "\n"
     ]
    },
    {
     "name": "stdout",
     "output_type": "stream",
     "text": [
      "Epoch 20, Loss 0.0789\n",
      "Training Accuracy: 0.9272, Testing Accuracy: 0.9400\n",
      "\n"
     ]
    },
    {
     "name": "stdout",
     "output_type": "stream",
     "text": [
      "Epoch 30, Loss 0.0681\n",
      "Training Accuracy: 0.9372, Testing Accuracy: 0.9466\n",
      "\n"
     ]
    },
    {
     "name": "stdout",
     "output_type": "stream",
     "text": [
      "Epoch 40, Loss 0.0617\n",
      "Training Accuracy: 0.9423, Testing Accuracy: 0.9501\n",
      "\n"
     ]
    },
    {
     "name": "stdout",
     "output_type": "stream",
     "text": [
      "Epoch 50, Loss 0.0572\n",
      "Training Accuracy: 0.9453, Testing Accuracy: 0.9516\n",
      "\n"
     ]
    },
    {
     "name": "stdout",
     "output_type": "stream",
     "text": [
      "Epoch 60, Loss 0.054\n",
      "Training Accuracy: 0.9463, Testing Accuracy: 0.9546\n",
      "\n"
     ]
    },
    {
     "name": "stdout",
     "output_type": "stream",
     "text": [
      "Epoch 70, Loss 0.0515\n",
      "Training Accuracy: 0.9482, Testing Accuracy: 0.9551\n",
      "\n"
     ]
    },
    {
     "name": "stdout",
     "output_type": "stream",
     "text": [
      "Epoch 80, Loss 0.0494\n",
      "Training Accuracy: 0.9506, Testing Accuracy: 0.9582\n",
      "\n"
     ]
    },
    {
     "name": "stdout",
     "output_type": "stream",
     "text": [
      "Epoch 90, Loss 0.0478\n",
      "Training Accuracy: 0.9515, Testing Accuracy: 0.9597\n",
      "\n"
     ]
    },
    {
     "name": "stdout",
     "output_type": "stream",
     "text": [
      "Epoch 100, Loss 0.0463\n",
      "Training Accuracy: 0.9532, Testing Accuracy: 0.9592\n",
      "\n"
     ]
    },
    {
     "name": "stdout",
     "output_type": "stream",
     "text": [
      "Epoch 110, Loss 0.0451\n",
      "Training Accuracy: 0.9543, Testing Accuracy: 0.9612\n",
      "\n"
     ]
    },
    {
     "name": "stdout",
     "output_type": "stream",
     "text": [
      "Epoch 120, Loss 0.0441\n",
      "Training Accuracy: 0.9553, Testing Accuracy: 0.9622\n",
      "\n"
     ]
    },
    {
     "name": "stdout",
     "output_type": "stream",
     "text": [
      "Epoch 130, Loss 0.0431\n",
      "Training Accuracy: 0.9561, Testing Accuracy: 0.9632\n",
      "\n"
     ]
    },
    {
     "name": "stdout",
     "output_type": "stream",
     "text": [
      "Epoch 140, Loss 0.0423\n",
      "Training Accuracy: 0.9568, Testing Accuracy: 0.9632\n",
      "\n"
     ]
    },
    {
     "name": "stdout",
     "output_type": "stream",
     "text": [
      "Epoch 150, Loss 0.0415\n",
      "Training Accuracy: 0.9572, Testing Accuracy: 0.9632\n",
      "\n"
     ]
    },
    {
     "name": "stdout",
     "output_type": "stream",
     "text": [
      "Epoch 160, Loss 0.0409\n",
      "Training Accuracy: 0.9579, Testing Accuracy: 0.9642\n",
      "\n"
     ]
    },
    {
     "name": "stdout",
     "output_type": "stream",
     "text": [
      "Epoch 170, Loss 0.0402\n",
      "Training Accuracy: 0.9586, Testing Accuracy: 0.9642\n",
      "\n"
     ]
    },
    {
     "name": "stdout",
     "output_type": "stream",
     "text": [
      "Epoch 180, Loss 0.0397\n",
      "Training Accuracy: 0.9590, Testing Accuracy: 0.9642\n",
      "\n"
     ]
    },
    {
     "name": "stdout",
     "output_type": "stream",
     "text": [
      "Epoch 190, Loss 0.0392\n",
      "Training Accuracy: 0.9597, Testing Accuracy: 0.9652\n",
      "\n"
     ]
    },
    {
     "name": "stdout",
     "output_type": "stream",
     "text": [
      "Epoch 200, Loss 0.0387\n",
      "Training Accuracy: 0.9599, Testing Accuracy: 0.9657\n",
      "\n"
     ]
    },
    {
     "name": "stdout",
     "output_type": "stream",
     "text": [
      "Epoch 210, Loss 0.0382\n",
      "Training Accuracy: 0.9602, Testing Accuracy: 0.9672\n",
      "\n"
     ]
    },
    {
     "name": "stdout",
     "output_type": "stream",
     "text": [
      "Epoch 220, Loss 0.0378\n",
      "Training Accuracy: 0.9607, Testing Accuracy: 0.9682\n",
      "\n"
     ]
    },
    {
     "name": "stdout",
     "output_type": "stream",
     "text": [
      "Epoch 230, Loss 0.0374\n",
      "Training Accuracy: 0.9609, Testing Accuracy: 0.9688\n",
      "\n"
     ]
    },
    {
     "name": "stdout",
     "output_type": "stream",
     "text": [
      "Epoch 240, Loss 0.0371\n",
      "Training Accuracy: 0.9613, Testing Accuracy: 0.9688\n",
      "\n"
     ]
    },
    {
     "data": {
      "text/plain": [
       "0.043831746408082226"
      ]
     },
     "execution_count": 23,
     "metadata": {},
     "output_type": "execute_result"
    }
   ],
   "source": [
    "lr_learner.train_loop(dl)"
   ]
  },
  {
   "cell_type": "code",
   "execution_count": 24,
   "id": "ca410940",
   "metadata": {
    "execution": {
     "iopub.execute_input": "2021-10-08T10:10:38.413183Z",
     "iopub.status.busy": "2021-10-08T10:10:38.412510Z",
     "iopub.status.idle": "2021-10-08T10:10:38.715957Z",
     "shell.execute_reply": "2021-10-08T10:10:38.716506Z"
    },
    "papermill": {
     "duration": 0.363211,
     "end_time": "2021-10-08T10:10:38.716761",
     "exception": false,
     "start_time": "2021-10-08T10:10:38.353550",
     "status": "completed"
    },
    "tags": []
   },
   "outputs": [
    {
     "data": {
      "text/plain": [
       "<matplotlib.legend.Legend at 0x7ff9160a1940>"
      ]
     },
     "execution_count": 24,
     "metadata": {},
     "output_type": "execute_result"
    },
    {
     "data": {
      "image/png": "[encoded data removed]",
      "text/plain": [
       "<Figure size 1080x720 with 1 Axes>"
      ]
     },
     "metadata": {
      "needs_background": "light"
     },
     "output_type": "display_data"
    }
   ],
   "source": [
    "#comparing the results of NN and LR\n",
    "plt.figure(figsize=(15,10))\n",
    "\n",
    "# Neural Network plots\n",
    "plt.plot(acc_nn.accuracies, 'r-', label = \"Training Accuracies - NN\")\n",
    "plt.plot(acc_nn.test_accuracies, 'g-', label = \"Testing Accuracies - NN\")\n",
    "\n",
    "# Logistic Regression plots\n",
    "plt.plot(acc_lr.accuracies, 'k-', label = \"Training Accuracies - LR\")\n",
    "plt.plot(acc_lr.test_accuracies, 'b-', label = \"Testing Accuracies - LR\")\n",
    "plt.legend()"
   ]
  },
  {
   "cell_type": "markdown",
   "id": "80dfb35c",
   "metadata": {
    "papermill": {
     "duration": 0.043204,
     "end_time": "2021-10-08T10:10:38.807689",
     "exception": false,
     "start_time": "2021-10-08T10:10:38.764485",
     "status": "completed"
    },
    "tags": []
   },
   "source": [
    "#### Plotting the outputs of this layer of the NN.\n"
   ]
  },
  {
   "cell_type": "code",
   "execution_count": 25,
   "id": "45eb2ff5",
   "metadata": {
    "execution": {
     "iopub.execute_input": "2021-10-08T10:10:38.923872Z",
     "iopub.status.busy": "2021-10-08T10:10:38.923318Z",
     "iopub.status.idle": "2021-10-08T10:10:38.949861Z",
     "shell.execute_reply": "2021-10-08T10:10:38.950317Z"
    },
    "papermill": {
     "duration": 0.088219,
     "end_time": "2021-10-08T10:10:38.950499",
     "exception": false,
     "start_time": "2021-10-08T10:10:38.862280",
     "status": "completed"
    },
    "tags": []
   },
   "outputs": [],
   "source": [
    "new_model = Model(layers[:-2])\n",
    "testing_plot = new_model(testing_data_x)"
   ]
  },
  {
   "cell_type": "code",
   "execution_count": 26,
   "id": "4c0a5485",
   "metadata": {
    "execution": {
     "iopub.execute_input": "2021-10-08T10:10:39.055950Z",
     "iopub.status.busy": "2021-10-08T10:10:39.055353Z",
     "iopub.status.idle": "2021-10-08T10:10:39.285407Z",
     "shell.execute_reply": "2021-10-08T10:10:39.284890Z"
    },
    "papermill": {
     "duration": 0.288461,
     "end_time": "2021-10-08T10:10:39.285533",
     "exception": false,
     "start_time": "2021-10-08T10:10:38.997072",
     "status": "completed"
    },
    "tags": []
   },
   "outputs": [
    {
     "data": {
      "text/plain": [
       "Text(0.5, 1.0, 'Outputs')"
      ]
     },
     "execution_count": 26,
     "metadata": {},
     "output_type": "execute_result"
    },
    {
     "data": {
      "image/png": "[encoded data removed]",
      "text/plain": [
       "<Figure size 576x504 with 1 Axes>"
      ]
     },
     "metadata": {
      "needs_background": "light"
     },
     "output_type": "display_data"
    }
   ],
   "source": [
    "# Plotting the scatter plot of points and color coding by class\n",
    "plt.figure(figsize=(8,7))\n",
    "plt.scatter(testing_plot[:,0], testing_plot[:,1], alpha = 0.1, c = y_test.ravel());\n",
    "plt.title('Outputs')"
   ]
  },
  {
   "cell_type": "markdown",
   "id": "a74fcf8f",
   "metadata": {
    "papermill": {
     "duration": 0.047103,
     "end_time": "2021-10-08T10:10:39.379596",
     "exception": false,
     "start_time": "2021-10-08T10:10:39.332493",
     "status": "completed"
    },
    "tags": []
   },
   "source": [
    "Probability contours"
   ]
  },
  {
   "cell_type": "code",
   "execution_count": 27,
   "id": "d0afc8e3",
   "metadata": {
    "execution": {
     "iopub.execute_input": "2021-10-08T10:10:39.483927Z",
     "iopub.status.busy": "2021-10-08T10:10:39.483358Z",
     "iopub.status.idle": "2021-10-08T10:10:39.493326Z",
     "shell.execute_reply": "2021-10-08T10:10:39.492593Z"
    },
    "papermill": {
     "duration": 0.065097,
     "end_time": "2021-10-08T10:10:39.493443",
     "exception": false,
     "start_time": "2021-10-08T10:10:39.428346",
     "status": "completed"
    },
    "tags": []
   },
   "outputs": [],
   "source": [
    "model_prob = Model(layers[-2:]) "
   ]
  },
  {
   "cell_type": "code",
   "execution_count": 28,
   "id": "9b96e238",
   "metadata": {
    "execution": {
     "iopub.execute_input": "2021-10-08T10:10:39.597064Z",
     "iopub.status.busy": "2021-10-08T10:10:39.594563Z",
     "iopub.status.idle": "2021-10-08T10:10:39.609868Z",
     "shell.execute_reply": "2021-10-08T10:10:39.610292Z"
    },
    "papermill": {
     "duration": 0.069618,
     "end_time": "2021-10-08T10:10:39.610418",
     "exception": false,
     "start_time": "2021-10-08T10:10:39.540800",
     "status": "completed"
    },
    "tags": []
   },
   "outputs": [],
   "source": [
    "#creating the x and y ranges according to the above generated plot.\n",
    "x_range = np.linspace(-4, 1, 100) \n",
    "y_range = np.linspace(-6, 6, 100) \n",
    "x_grid, y_grid = np.meshgrid(x_range, y_range) # x_grid and y_grig are of size 100 X 100\n",
    "\n",
    "# converting x_grid and y_grid to continuous arrays\n",
    "x_gridflat = np.ravel(x_grid)\n",
    "y_gridflat = np.ravel(y_grid)\n",
    "\n",
    "# The last layer of the current model takes two columns as input. Hence transpose of np.vstack() is required.\n",
    "X = np.vstack((x_gridflat, y_gridflat)).T\n",
    "\n",
    "prob_contour = model_prob(X).reshape(100,100) "
   ]
  },
  {
   "cell_type": "code",
   "execution_count": 29,
   "id": "da72499a",
   "metadata": {
    "execution": {
     "iopub.execute_input": "2021-10-08T10:10:39.722876Z",
     "iopub.status.busy": "2021-10-08T10:10:39.722223Z",
     "iopub.status.idle": "2021-10-08T10:10:40.021207Z",
     "shell.execute_reply": "2021-10-08T10:10:40.020268Z"
    },
    "papermill": {
     "duration": 0.355415,
     "end_time": "2021-10-08T10:10:40.021354",
     "exception": false,
     "start_time": "2021-10-08T10:10:39.665939",
     "status": "completed"
    },
    "tags": []
   },
   "outputs": [
    {
     "data": {
      "image/png": "[encoded data removed]",
      "text/plain": [
       "<Figure size 720x648 with 1 Axes>"
      ]
     },
     "metadata": {
      "needs_background": "light"
     },
     "output_type": "display_data"
    }
   ],
   "source": [
    "plt.figure(figsize=(10,9))\n",
    "plt.scatter(testing_plot[:,0], testing_plot[:,1], alpha = 0.1, c = y_test.ravel())\n",
    "contours = plt.contour(x_grid,y_grid,prob_contour)\n",
    "plt.title('Probability Contours')\n",
    "plt.clabel(contours, inline = True );"
   ]
  },
  {
   "cell_type": "code",
   "execution_count": null,
   "id": "e81b4ac7",
   "metadata": {
    "papermill": {
     "duration": 0.055841,
     "end_time": "2021-10-08T10:10:40.148911",
     "exception": false,
     "start_time": "2021-10-08T10:10:40.093070",
     "status": "completed"
    },
    "tags": []
   },
   "outputs": [],
   "source": []
  }
 ],
 "metadata": {
  "kernelspec": {
   "display_name": "Python 3",
   "language": "python",
   "name": "python3"
  },
  "language_info": {
   "codemirror_mode": {
    "name": "ipython",
    "version": 3
   },
   "file_extension": ".py",
   "mimetype": "text/x-python",
   "name": "python",
   "nbconvert_exporter": "python",
   "pygments_lexer": "ipython3",
   "version": "3.6.15"
  },
  "papermill": {
   "default_parameters": {},
   "duration": 168.783575,
   "end_time": "2021-10-08T10:10:40.512434",
   "environment_variables": {},
   "exception": null,
   "input_path": "2020-08-11-part2.ipynb",
   "output_path": "2020-08-11-part2.ipynb",
   "parameters": {},
   "start_time": "2021-10-08T10:07:51.728859",
   "version": "2.3.3"
  }
 },
 "nbformat": 4,
 "nbformat_minor": 5
}