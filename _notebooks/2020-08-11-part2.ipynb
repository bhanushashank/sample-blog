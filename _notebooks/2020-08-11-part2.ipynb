{
 "cells": [
  {
   "cell_type": "markdown",
   "id": "98380cd3",
   "metadata": {
    "papermill": {
     "duration": 0.030521,
     "end_time": "2022-07-30T10:09:18.612183",
     "exception": false,
     "start_time": "2022-07-30T10:09:18.581662",
     "status": "completed"
    },
    "tags": []
   },
   "source": [
    "# Distinguish Your Own Digits (DYOD)"
   ]
  },
  {
   "cell_type": "markdown",
   "id": "ef31240d",
   "metadata": {
    "papermill": {
     "duration": 0.02501,
     "end_time": "2022-07-30T10:09:18.665851",
     "exception": false,
     "start_time": "2022-07-30T10:09:18.640841",
     "status": "completed"
    },
    "tags": []
   },
   "source": [
    "You are going to write a classifier that distinguishes between the number 3 and number 8."
   ]
  },
  {
   "cell_type": "code",
   "execution_count": 1,
   "id": "b15c8646",
   "metadata": {
    "execution": {
     "iopub.execute_input": "2022-07-30T10:09:18.724390Z",
     "iopub.status.busy": "2022-07-30T10:09:18.723821Z",
     "iopub.status.idle": "2022-07-30T10:09:18.734442Z",
     "shell.execute_reply": "2022-07-30T10:09:18.733977Z"
    },
    "papermill": {
     "duration": 0.044311,
     "end_time": "2022-07-30T10:09:18.734551",
     "exception": false,
     "start_time": "2022-07-30T10:09:18.690240",
     "status": "completed"
    },
    "tags": []
   },
   "outputs": [],
   "source": [
    "%load_ext autoreload\n",
    "%autoreload 2"
   ]
  },
  {
   "cell_type": "code",
   "execution_count": 2,
   "id": "22ef38dc",
   "metadata": {
    "execution": {
     "iopub.execute_input": "2022-07-30T10:09:18.786852Z",
     "iopub.status.busy": "2022-07-30T10:09:18.786295Z",
     "iopub.status.idle": "2022-07-30T10:09:19.289698Z",
     "shell.execute_reply": "2022-07-30T10:09:19.289228Z"
    },
    "papermill": {
     "duration": 0.530927,
     "end_time": "2022-07-30T10:09:19.289813",
     "exception": false,
     "start_time": "2022-07-30T10:09:18.758886",
     "status": "completed"
    },
    "tags": []
   },
   "outputs": [],
   "source": [
    "%matplotlib inline\n",
    "import numpy as np\n",
    "import matplotlib.pyplot as plt\n",
    "import pandas as pd"
   ]
  },
  {
   "cell_type": "markdown",
   "id": "ba036198",
   "metadata": {
    "papermill": {
     "duration": 0.024303,
     "end_time": "2022-07-30T10:09:19.338558",
     "exception": false,
     "start_time": "2022-07-30T10:09:19.314255",
     "status": "completed"
    },
    "tags": []
   },
   "source": [
    "From the command line run `pip install mnist`. This is a library that will help you bring down the mnist dataset. If you run this from a notebook, you need to put  `!pip install mnist` in a cell by itself."
   ]
  },
  {
   "cell_type": "code",
   "execution_count": 3,
   "id": "bb6ad8a1",
   "metadata": {
    "execution": {
     "iopub.execute_input": "2022-07-30T10:09:19.391317Z",
     "iopub.status.busy": "2022-07-30T10:09:19.390755Z",
     "iopub.status.idle": "2022-07-30T10:09:20.940499Z",
     "shell.execute_reply": "2022-07-30T10:09:20.939743Z"
    },
    "papermill": {
     "duration": 1.577681,
     "end_time": "2022-07-30T10:09:20.940613",
     "exception": false,
     "start_time": "2022-07-30T10:09:19.362932",
     "status": "completed"
    },
    "tags": []
   },
   "outputs": [
    {
     "name": "stdout",
     "output_type": "stream",
     "text": [
      "Collecting mnist\r\n"
     ]
    },
    {
     "name": "stdout",
     "output_type": "stream",
     "text": [
      "  Downloading mnist-0.2.2-py2.py3-none-any.whl (3.5 kB)\r\n",
      "Requirement already satisfied: numpy in /opt/hostedtoolcache/Python/3.6.15/x64/lib/python3.6/site-packages (from mnist) (1.19.5)\r\n"
     ]
    },
    {
     "name": "stdout",
     "output_type": "stream",
     "text": [
      "Installing collected packages: mnist\r\n"
     ]
    },
    {
     "name": "stdout",
     "output_type": "stream",
     "text": [
      "Successfully installed mnist-0.2.2\r\n"
     ]
    }
   ],
   "source": [
    "!pip install mnist"
   ]
  },
  {
   "cell_type": "markdown",
   "id": "69df9c9a",
   "metadata": {
    "papermill": {
     "duration": 0.025706,
     "end_time": "2022-07-30T10:09:20.992018",
     "exception": false,
     "start_time": "2022-07-30T10:09:20.966312",
     "status": "completed"
    },
    "tags": []
   },
   "source": [
    "## Preparing the Data"
   ]
  },
  {
   "cell_type": "code",
   "execution_count": 4,
   "id": "7f69d806",
   "metadata": {
    "execution": {
     "iopub.execute_input": "2022-07-30T10:09:21.045937Z",
     "iopub.status.busy": "2022-07-30T10:09:21.045393Z",
     "iopub.status.idle": "2022-07-30T10:09:21.059569Z",
     "shell.execute_reply": "2022-07-30T10:09:21.059035Z"
    },
    "papermill": {
     "duration": 0.042491,
     "end_time": "2022-07-30T10:09:21.059664",
     "exception": false,
     "start_time": "2022-07-30T10:09:21.017173",
     "status": "completed"
    },
    "tags": []
   },
   "outputs": [],
   "source": [
    "import mnist"
   ]
  },
  {
   "cell_type": "code",
   "execution_count": 5,
   "id": "a411e44f",
   "metadata": {
    "execution": {
     "iopub.execute_input": "2022-07-30T10:09:21.113390Z",
     "iopub.status.busy": "2022-07-30T10:09:21.112837Z",
     "iopub.status.idle": "2022-07-30T10:09:21.631723Z",
     "shell.execute_reply": "2022-07-30T10:09:21.631171Z"
    },
    "papermill": {
     "duration": 0.54682,
     "end_time": "2022-07-30T10:09:21.631842",
     "exception": false,
     "start_time": "2022-07-30T10:09:21.085022",
     "status": "completed"
    },
    "tags": []
   },
   "outputs": [],
   "source": [
    "train_images = mnist.train_images()\n",
    "train_labels = mnist.train_labels()"
   ]
  },
  {
   "cell_type": "code",
   "execution_count": 6,
   "id": "dceab3a5",
   "metadata": {
    "execution": {
     "iopub.execute_input": "2022-07-30T10:09:21.686089Z",
     "iopub.status.busy": "2022-07-30T10:09:21.685549Z",
     "iopub.status.idle": "2022-07-30T10:09:21.699563Z",
     "shell.execute_reply": "2022-07-30T10:09:21.699011Z"
    },
    "papermill": {
     "duration": 0.042212,
     "end_time": "2022-07-30T10:09:21.699659",
     "exception": false,
     "start_time": "2022-07-30T10:09:21.657447",
     "status": "completed"
    },
    "tags": []
   },
   "outputs": [
    {
     "data": {
      "text/plain": [
       "((60000, 28, 28), (60000,))"
      ]
     },
     "execution_count": 6,
     "metadata": {},
     "output_type": "execute_result"
    }
   ],
   "source": [
    "train_images.shape, train_labels.shape"
   ]
  },
  {
   "cell_type": "code",
   "execution_count": 7,
   "id": "f50dc2bb",
   "metadata": {
    "execution": {
     "iopub.execute_input": "2022-07-30T10:09:21.754281Z",
     "iopub.status.busy": "2022-07-30T10:09:21.753736Z",
     "iopub.status.idle": "2022-07-30T10:09:21.896221Z",
     "shell.execute_reply": "2022-07-30T10:09:21.895672Z"
    },
    "papermill": {
     "duration": 0.171109,
     "end_time": "2022-07-30T10:09:21.896330",
     "exception": false,
     "start_time": "2022-07-30T10:09:21.725221",
     "status": "completed"
    },
    "tags": []
   },
   "outputs": [],
   "source": [
    "test_images = mnist.test_images()\n",
    "test_labels = mnist.test_labels()"
   ]
  },
  {
   "cell_type": "code",
   "execution_count": 8,
   "id": "fc38cf1b",
   "metadata": {
    "execution": {
     "iopub.execute_input": "2022-07-30T10:09:21.951649Z",
     "iopub.status.busy": "2022-07-30T10:09:21.951099Z",
     "iopub.status.idle": "2022-07-30T10:09:21.963435Z",
     "shell.execute_reply": "2022-07-30T10:09:21.963994Z"
    },
    "papermill": {
     "duration": 0.042035,
     "end_time": "2022-07-30T10:09:21.964111",
     "exception": false,
     "start_time": "2022-07-30T10:09:21.922076",
     "status": "completed"
    },
    "tags": []
   },
   "outputs": [
    {
     "data": {
      "text/plain": [
       "((10000, 28, 28), (10000,))"
      ]
     },
     "execution_count": 8,
     "metadata": {},
     "output_type": "execute_result"
    }
   ],
   "source": [
    "test_images.shape, test_labels.shape"
   ]
  },
  {
   "cell_type": "code",
   "execution_count": 9,
   "id": "f9ed8fe0",
   "metadata": {
    "execution": {
     "iopub.execute_input": "2022-07-30T10:09:22.019223Z",
     "iopub.status.busy": "2022-07-30T10:09:22.018663Z",
     "iopub.status.idle": "2022-07-30T10:09:22.149789Z",
     "shell.execute_reply": "2022-07-30T10:09:22.150223Z"
    },
    "papermill": {
     "duration": 0.160359,
     "end_time": "2022-07-30T10:09:22.150342",
     "exception": false,
     "start_time": "2022-07-30T10:09:21.989983",
     "status": "completed"
    },
    "tags": []
   },
   "outputs": [
    {
     "name": "stdout",
     "output_type": "stream",
     "text": [
      "2\n"
     ]
    },
    {
     "data": {
      "text/plain": [
       "<matplotlib.image.AxesImage at 0x7f958cf9c4e0>"
      ]
     },
     "execution_count": 9,
     "metadata": {},
     "output_type": "execute_result"
    },
    {
     "data": {
      "image/png": "[encoded data removed]",
      "text/plain": [
       "<Figure size 432x288 with 1 Axes>"
      ]
     },
     "metadata": {
      "needs_background": "light"
     },
     "output_type": "display_data"
    }
   ],
   "source": [
    "image_index = 7776 # You may select anything up to 60,000\n",
    "print(train_labels[image_index]) \n",
    "plt.imshow(train_images[image_index], cmap='Greys')"
   ]
  },
  {
   "cell_type": "markdown",
   "id": "a8d2388d",
   "metadata": {
    "papermill": {
     "duration": 0.027087,
     "end_time": "2022-07-30T10:09:22.204471",
     "exception": false,
     "start_time": "2022-07-30T10:09:22.177384",
     "status": "completed"
    },
    "tags": []
   },
   "source": [
    "## Filter data to get 3 and 8 out"
   ]
  },
  {
   "cell_type": "code",
   "execution_count": 10,
   "id": "776f7fc7",
   "metadata": {
    "execution": {
     "iopub.execute_input": "2022-07-30T10:09:22.262024Z",
     "iopub.status.busy": "2022-07-30T10:09:22.261463Z",
     "iopub.status.idle": "2022-07-30T10:09:22.276059Z",
     "shell.execute_reply": "2022-07-30T10:09:22.275594Z"
    },
    "papermill": {
     "duration": 0.044796,
     "end_time": "2022-07-30T10:09:22.276159",
     "exception": false,
     "start_time": "2022-07-30T10:09:22.231363",
     "status": "completed"
    },
    "tags": []
   },
   "outputs": [],
   "source": [
    "train_filter = np.where((train_labels == 3 ) | (train_labels == 8))\n",
    "test_filter = np.where((test_labels == 3) | (test_labels == 8))\n",
    "X_train, y_train = train_images[train_filter], train_labels[train_filter]\n",
    "X_test, y_test = test_images[test_filter], test_labels[test_filter]"
   ]
  },
  {
   "cell_type": "markdown",
   "id": "948f0b7e",
   "metadata": {
    "papermill": {
     "duration": 0.026958,
     "end_time": "2022-07-30T10:09:22.330098",
     "exception": false,
     "start_time": "2022-07-30T10:09:22.303140",
     "status": "completed"
    },
    "tags": []
   },
   "source": [
    "We normalize the pizel values in the 0 to 1 range"
   ]
  },
  {
   "cell_type": "code",
   "execution_count": 11,
   "id": "ee4c2166",
   "metadata": {
    "execution": {
     "iopub.execute_input": "2022-07-30T10:09:22.386988Z",
     "iopub.status.busy": "2022-07-30T10:09:22.386438Z",
     "iopub.status.idle": "2022-07-30T10:09:22.426359Z",
     "shell.execute_reply": "2022-07-30T10:09:22.426800Z"
    },
    "papermill": {
     "duration": 0.069993,
     "end_time": "2022-07-30T10:09:22.426932",
     "exception": false,
     "start_time": "2022-07-30T10:09:22.356939",
     "status": "completed"
    },
    "tags": []
   },
   "outputs": [],
   "source": [
    "X_train = X_train/255.\n",
    "X_test = X_test/255."
   ]
  },
  {
   "cell_type": "markdown",
   "id": "ddcf4fab",
   "metadata": {
    "papermill": {
     "duration": 0.026969,
     "end_time": "2022-07-30T10:09:22.481106",
     "exception": false,
     "start_time": "2022-07-30T10:09:22.454137",
     "status": "completed"
    },
    "tags": []
   },
   "source": [
    "And setup the labels as 1 (when the digit is 3) and 0 (when the digit is 8)"
   ]
  },
  {
   "cell_type": "code",
   "execution_count": 12,
   "id": "7dc908f2",
   "metadata": {
    "execution": {
     "iopub.execute_input": "2022-07-30T10:09:22.538302Z",
     "iopub.status.busy": "2022-07-30T10:09:22.537756Z",
     "iopub.status.idle": "2022-07-30T10:09:22.549435Z",
     "shell.execute_reply": "2022-07-30T10:09:22.548979Z"
    },
    "papermill": {
     "duration": 0.041505,
     "end_time": "2022-07-30T10:09:22.549530",
     "exception": false,
     "start_time": "2022-07-30T10:09:22.508025",
     "status": "completed"
    },
    "tags": []
   },
   "outputs": [],
   "source": [
    "y_train = 1*(y_train==3)\n",
    "y_test = 1*(y_test==3)"
   ]
  },
  {
   "cell_type": "code",
   "execution_count": 13,
   "id": "01e4e969",
   "metadata": {
    "execution": {
     "iopub.execute_input": "2022-07-30T10:09:22.606862Z",
     "iopub.status.busy": "2022-07-30T10:09:22.606314Z",
     "iopub.status.idle": "2022-07-30T10:09:22.618210Z",
     "shell.execute_reply": "2022-07-30T10:09:22.618635Z"
    },
    "papermill": {
     "duration": 0.042209,
     "end_time": "2022-07-30T10:09:22.618741",
     "exception": false,
     "start_time": "2022-07-30T10:09:22.576532",
     "status": "completed"
    },
    "tags": []
   },
   "outputs": [
    {
     "data": {
      "text/plain": [
       "((11982, 28, 28), (1984, 28, 28))"
      ]
     },
     "execution_count": 13,
     "metadata": {},
     "output_type": "execute_result"
    }
   ],
   "source": [
    "X_train.shape, X_test.shape"
   ]
  },
  {
   "cell_type": "markdown",
   "id": "5ccf3f85",
   "metadata": {
    "papermill": {
     "duration": 0.026985,
     "end_time": "2022-07-30T10:09:22.672809",
     "exception": false,
     "start_time": "2022-07-30T10:09:22.645824",
     "status": "completed"
    },
    "tags": []
   },
   "source": [
    "We reshape the data to flatten the image pixels into a set of features or co-variates:"
   ]
  },
  {
   "cell_type": "code",
   "execution_count": 14,
   "id": "5286a4a3",
   "metadata": {
    "execution": {
     "iopub.execute_input": "2022-07-30T10:09:22.730872Z",
     "iopub.status.busy": "2022-07-30T10:09:22.730314Z",
     "iopub.status.idle": "2022-07-30T10:09:22.742314Z",
     "shell.execute_reply": "2022-07-30T10:09:22.742734Z"
    },
    "papermill": {
     "duration": 0.042853,
     "end_time": "2022-07-30T10:09:22.742840",
     "exception": false,
     "start_time": "2022-07-30T10:09:22.699987",
     "status": "completed"
    },
    "tags": []
   },
   "outputs": [
    {
     "data": {
      "text/plain": [
       "((11982, 784), (1984, 784))"
      ]
     },
     "execution_count": 14,
     "metadata": {},
     "output_type": "execute_result"
    }
   ],
   "source": [
    "X_train = X_train.reshape(X_train.shape[0], -1)\n",
    "X_test = X_test.reshape(X_test.shape[0], -1)\n",
    "X_train.shape, X_test.shape"
   ]
  },
  {
   "cell_type": "code",
   "execution_count": 15,
   "id": "73c5f88a",
   "metadata": {
    "execution": {
     "iopub.execute_input": "2022-07-30T10:09:22.801343Z",
     "iopub.status.busy": "2022-07-30T10:09:22.800781Z",
     "iopub.status.idle": "2022-07-30T10:09:22.818082Z",
     "shell.execute_reply": "2022-07-30T10:09:22.817617Z"
    },
    "papermill": {
     "duration": 0.047868,
     "end_time": "2022-07-30T10:09:22.818177",
     "exception": false,
     "start_time": "2022-07-30T10:09:22.770309",
     "status": "completed"
    },
    "tags": []
   },
   "outputs": [],
   "source": [
    "#Impoting functions from 'Kudzu'\n",
    "from kudzu.model import Model\n",
    "from kudzu.train import Learner\n",
    "from kudzu.optim import GD\n",
    "from kudzu.data import Data, Sampler,Dataloader\n",
    "\n",
    "from kudzu.callbacks import AccCallback\n",
    "from kudzu.callbacks import ClfCallback\n",
    "\n",
    "from kudzu.loss import MSE\n",
    "\n",
    "from kudzu.layer import Sigmoid,Relu\n",
    "from kudzu.layer import Affine"
   ]
  },
  {
   "cell_type": "markdown",
   "id": "bc01172a",
   "metadata": {
    "papermill": {
     "duration": 0.027701,
     "end_time": "2022-07-30T10:09:22.873554",
     "exception": false,
     "start_time": "2022-07-30T10:09:22.845853",
     "status": "completed"
    },
    "tags": []
   },
   "source": [
    "### Let us create a `Config` class, to store important parameters. \n",
    "This class essentially plays the role of a dictionary."
   ]
  },
  {
   "cell_type": "code",
   "execution_count": 16,
   "id": "978281aa",
   "metadata": {
    "execution": {
     "iopub.execute_input": "2022-07-30T10:09:22.931595Z",
     "iopub.status.busy": "2022-07-30T10:09:22.931047Z",
     "iopub.status.idle": "2022-07-30T10:09:22.941967Z",
     "shell.execute_reply": "2022-07-30T10:09:22.942417Z"
    },
    "papermill": {
     "duration": 0.041557,
     "end_time": "2022-07-30T10:09:22.942523",
     "exception": false,
     "start_time": "2022-07-30T10:09:22.900966",
     "status": "completed"
    },
    "tags": []
   },
   "outputs": [],
   "source": [
    "class Config:\n",
    "    pass\n",
    "config = Config()\n",
    "config.lr = 0.001\n",
    "config.num_epochs = 250\n",
    "config.bs = 50"
   ]
  },
  {
   "cell_type": "markdown",
   "id": "1385fa59",
   "metadata": {
    "papermill": {
     "duration": 0.027356,
     "end_time": "2022-07-30T10:09:22.997734",
     "exception": false,
     "start_time": "2022-07-30T10:09:22.970378",
     "status": "completed"
    },
    "tags": []
   },
   "source": [
    "### Running Models with the Training data\n",
    "Details about the network layers:\n",
    "- A first affine layer has 784 inputs and does 100 affine transforms. These are followed by a Relu\n",
    "- A second affine layer has 100 inputs from the 100 activations of the past layer, and does 100 affine transforms. These are followed by a Relu\n",
    "- A third affine layer has 100 activations and does 2 affine transformations to create an embedding for visualization. There is no non-linearity here.\n",
    "- A final \"logistic regression\" which has an affine transform from 2 inputs to 1 output, which is squeezed through a sigmoid.\n"
   ]
  },
  {
   "cell_type": "code",
   "execution_count": 17,
   "id": "2b9c66db",
   "metadata": {
    "execution": {
     "iopub.execute_input": "2022-07-30T10:09:23.056175Z",
     "iopub.status.busy": "2022-07-30T10:09:23.055587Z",
     "iopub.status.idle": "2022-07-30T10:09:23.067560Z",
     "shell.execute_reply": "2022-07-30T10:09:23.067117Z"
    },
    "papermill": {
     "duration": 0.042482,
     "end_time": "2022-07-30T10:09:23.067660",
     "exception": false,
     "start_time": "2022-07-30T10:09:23.025178",
     "status": "completed"
    },
    "tags": []
   },
   "outputs": [],
   "source": [
    "data = Data(X_train, y_train.reshape(-1,1))\n",
    "sampler = Sampler(data, config.bs, shuffle=True)\n",
    "\n",
    "dl = Dataloader(data, sampler)\n",
    "\n",
    "opt = GD(config.lr)\n",
    "loss = MSE()"
   ]
  },
  {
   "cell_type": "code",
   "execution_count": 18,
   "id": "b275e4c2",
   "metadata": {
    "execution": {
     "iopub.execute_input": "2022-07-30T10:09:23.126113Z",
     "iopub.status.busy": "2022-07-30T10:09:23.125559Z",
     "iopub.status.idle": "2022-07-30T10:09:23.136403Z",
     "shell.execute_reply": "2022-07-30T10:09:23.136842Z"
    },
    "papermill": {
     "duration": 0.041732,
     "end_time": "2022-07-30T10:09:23.136949",
     "exception": false,
     "start_time": "2022-07-30T10:09:23.095217",
     "status": "completed"
    },
    "tags": []
   },
   "outputs": [],
   "source": [
    "training_data_x = X_train\n",
    "testing_data_x = X_test\n",
    "training_data_y = y_train.reshape(-1,1)\n",
    "testing_data_y = y_test.reshape(-1,1)"
   ]
  },
  {
   "cell_type": "code",
   "execution_count": 19,
   "id": "76951160",
   "metadata": {
    "execution": {
     "iopub.execute_input": "2022-07-30T10:09:23.195397Z",
     "iopub.status.busy": "2022-07-30T10:09:23.194842Z",
     "iopub.status.idle": "2022-07-30T10:09:23.210274Z",
     "shell.execute_reply": "2022-07-30T10:09:23.210694Z"
    },
    "papermill": {
     "duration": 0.046476,
     "end_time": "2022-07-30T10:09:23.210804",
     "exception": false,
     "start_time": "2022-07-30T10:09:23.164328",
     "status": "completed"
    },
    "tags": []
   },
   "outputs": [
    {
     "name": "stdout",
     "output_type": "stream",
     "text": [
      "xavier\n",
      "xavier\n",
      "xavier\n",
      "xavier\n",
      "xavier\n"
     ]
    }
   ],
   "source": [
    "layers = [Affine(\"first\", 784, 100), Relu(\"first\"), Affine(\"second\", 100, 100), Relu(\"second\"), Affine(\"third\", 100, 2), Affine(\"last\", 2, 1), Sigmoid(\"last\")]\n",
    "model_nn = Model(layers)\n",
    "model_lr = Model([Affine(\"logits\", 784, 1), Sigmoid(\"sigmoid\")])"
   ]
  },
  {
   "cell_type": "code",
   "execution_count": 20,
   "id": "6eede77a",
   "metadata": {
    "execution": {
     "iopub.execute_input": "2022-07-30T10:09:23.269777Z",
     "iopub.status.busy": "2022-07-30T10:09:23.269213Z",
     "iopub.status.idle": "2022-07-30T10:09:23.281052Z",
     "shell.execute_reply": "2022-07-30T10:09:23.280615Z"
    },
    "papermill": {
     "duration": 0.04248,
     "end_time": "2022-07-30T10:09:23.281147",
     "exception": false,
     "start_time": "2022-07-30T10:09:23.238667",
     "status": "completed"
    },
    "tags": []
   },
   "outputs": [],
   "source": [
    "nn_learner = Learner(loss, model_nn, opt, config.num_epochs)\n",
    "acc_nn = ClfCallback(nn_learner, config.bs, training_data_x , testing_data_x, training_data_y, testing_data_y)\n",
    "nn_learner.set_callbacks([acc_nn])"
   ]
  },
  {
   "cell_type": "code",
   "execution_count": 21,
   "id": "877b6cc7",
   "metadata": {
    "execution": {
     "iopub.execute_input": "2022-07-30T10:09:23.340014Z",
     "iopub.status.busy": "2022-07-30T10:09:23.339437Z",
     "iopub.status.idle": "2022-07-30T10:09:23.350836Z",
     "shell.execute_reply": "2022-07-30T10:09:23.350386Z"
    },
    "papermill": {
     "duration": 0.042039,
     "end_time": "2022-07-30T10:09:23.350929",
     "exception": false,
     "start_time": "2022-07-30T10:09:23.308890",
     "status": "completed"
    },
    "tags": []
   },
   "outputs": [],
   "source": [
    "lr_learner = Learner(loss, model_lr, opt, config.num_epochs)\n",
    "acc_lr = ClfCallback(lr_learner, config.bs, training_data_x , testing_data_x, training_data_y, testing_data_y)\n",
    "lr_learner.set_callbacks([acc_lr])"
   ]
  },
  {
   "cell_type": "code",
   "execution_count": 22,
   "id": "d9b133c3",
   "metadata": {
    "execution": {
     "iopub.execute_input": "2022-07-30T10:09:23.409996Z",
     "iopub.status.busy": "2022-07-30T10:09:23.409436Z",
     "iopub.status.idle": "2022-07-30T10:12:19.264217Z",
     "shell.execute_reply": "2022-07-30T10:12:19.264678Z"
    },
    "papermill": {
     "duration": 175.885952,
     "end_time": "2022-07-30T10:12:19.264802",
     "exception": false,
     "start_time": "2022-07-30T10:09:23.378850",
     "status": "completed"
    },
    "tags": []
   },
   "outputs": [
    {
     "name": "stdout",
     "output_type": "stream",
     "text": [
      "Epoch 0, Loss 0.2333\n",
      "Training Accuracy: 0.7385, Testing Accuracy: 0.7419\n",
      "\n"
     ]
    },
    {
     "name": "stdout",
     "output_type": "stream",
     "text": [
      "Epoch 10, Loss 0.0683\n",
      "Training Accuracy: 0.9357, Testing Accuracy: 0.9430\n",
      "\n"
     ]
    },
    {
     "name": "stdout",
     "output_type": "stream",
     "text": [
      "Epoch 20, Loss 0.0454\n",
      "Training Accuracy: 0.9542, Testing Accuracy: 0.9607\n",
      "\n"
     ]
    },
    {
     "name": "stdout",
     "output_type": "stream",
     "text": [
      "Epoch 30, Loss 0.0373\n",
      "Training Accuracy: 0.9598, Testing Accuracy: 0.9662\n",
      "\n"
     ]
    },
    {
     "name": "stdout",
     "output_type": "stream",
     "text": [
      "Epoch 40, Loss 0.0331\n",
      "Training Accuracy: 0.9639, Testing Accuracy: 0.9693\n",
      "\n"
     ]
    },
    {
     "name": "stdout",
     "output_type": "stream",
     "text": [
      "Epoch 50, Loss 0.0304\n",
      "Training Accuracy: 0.9661, Testing Accuracy: 0.9703\n",
      "\n"
     ]
    },
    {
     "name": "stdout",
     "output_type": "stream",
     "text": [
      "Epoch 60, Loss 0.0284\n",
      "Training Accuracy: 0.9673, Testing Accuracy: 0.9713\n",
      "\n"
     ]
    },
    {
     "name": "stdout",
     "output_type": "stream",
     "text": [
      "Epoch 70, Loss 0.0269\n",
      "Training Accuracy: 0.9697, Testing Accuracy: 0.9718\n",
      "\n"
     ]
    },
    {
     "name": "stdout",
     "output_type": "stream",
     "text": [
      "Epoch 80, Loss 0.0257\n",
      "Training Accuracy: 0.9711, Testing Accuracy: 0.9728\n",
      "\n"
     ]
    },
    {
     "name": "stdout",
     "output_type": "stream",
     "text": [
      "Epoch 90, Loss 0.0246\n",
      "Training Accuracy: 0.9720, Testing Accuracy: 0.9738\n",
      "\n"
     ]
    },
    {
     "name": "stdout",
     "output_type": "stream",
     "text": [
      "Epoch 100, Loss 0.0237\n",
      "Training Accuracy: 0.9730, Testing Accuracy: 0.9743\n",
      "\n"
     ]
    },
    {
     "name": "stdout",
     "output_type": "stream",
     "text": [
      "Epoch 110, Loss 0.0229\n",
      "Training Accuracy: 0.9744, Testing Accuracy: 0.9738\n",
      "\n"
     ]
    },
    {
     "name": "stdout",
     "output_type": "stream",
     "text": [
      "Epoch 120, Loss 0.0222\n",
      "Training Accuracy: 0.9750, Testing Accuracy: 0.9743\n",
      "\n"
     ]
    },
    {
     "name": "stdout",
     "output_type": "stream",
     "text": [
      "Epoch 130, Loss 0.0215\n",
      "Training Accuracy: 0.9756, Testing Accuracy: 0.9743\n",
      "\n"
     ]
    },
    {
     "name": "stdout",
     "output_type": "stream",
     "text": [
      "Epoch 140, Loss 0.0209\n",
      "Training Accuracy: 0.9765, Testing Accuracy: 0.9743\n",
      "\n"
     ]
    },
    {
     "name": "stdout",
     "output_type": "stream",
     "text": [
      "Epoch 150, Loss 0.0203\n",
      "Training Accuracy: 0.9770, Testing Accuracy: 0.9748\n",
      "\n"
     ]
    },
    {
     "name": "stdout",
     "output_type": "stream",
     "text": [
      "Epoch 160, Loss 0.0198\n",
      "Training Accuracy: 0.9776, Testing Accuracy: 0.9748\n",
      "\n"
     ]
    },
    {
     "name": "stdout",
     "output_type": "stream",
     "text": [
      "Epoch 170, Loss 0.0193\n",
      "Training Accuracy: 0.9779, Testing Accuracy: 0.9743\n",
      "\n"
     ]
    },
    {
     "name": "stdout",
     "output_type": "stream",
     "text": [
      "Epoch 180, Loss 0.0188\n",
      "Training Accuracy: 0.9790, Testing Accuracy: 0.9743\n",
      "\n"
     ]
    },
    {
     "name": "stdout",
     "output_type": "stream",
     "text": [
      "Epoch 190, Loss 0.0183\n",
      "Training Accuracy: 0.9798, Testing Accuracy: 0.9748\n",
      "\n"
     ]
    },
    {
     "name": "stdout",
     "output_type": "stream",
     "text": [
      "Epoch 200, Loss 0.0178\n",
      "Training Accuracy: 0.9803, Testing Accuracy: 0.9748\n",
      "\n"
     ]
    },
    {
     "name": "stdout",
     "output_type": "stream",
     "text": [
      "Epoch 210, Loss 0.0174\n",
      "Training Accuracy: 0.9811, Testing Accuracy: 0.9753\n",
      "\n"
     ]
    },
    {
     "name": "stdout",
     "output_type": "stream",
     "text": [
      "Epoch 220, Loss 0.017\n",
      "Training Accuracy: 0.9821, Testing Accuracy: 0.9753\n",
      "\n"
     ]
    },
    {
     "name": "stdout",
     "output_type": "stream",
     "text": [
      "Epoch 230, Loss 0.0165\n",
      "Training Accuracy: 0.9824, Testing Accuracy: 0.9753\n",
      "\n"
     ]
    },
    {
     "name": "stdout",
     "output_type": "stream",
     "text": [
      "Epoch 240, Loss 0.0162\n",
      "Training Accuracy: 0.9830, Testing Accuracy: 0.9758\n",
      "\n"
     ]
    },
    {
     "data": {
      "text/plain": [
       "0.052874626865979914"
      ]
     },
     "execution_count": 22,
     "metadata": {},
     "output_type": "execute_result"
    }
   ],
   "source": [
    "nn_learner.train_loop(dl)"
   ]
  },
  {
   "cell_type": "code",
   "execution_count": 23,
   "id": "e0163366",
   "metadata": {
    "execution": {
     "iopub.execute_input": "2022-07-30T10:12:19.340976Z",
     "iopub.status.busy": "2022-07-30T10:12:19.340412Z",
     "iopub.status.idle": "2022-07-30T10:12:31.478632Z",
     "shell.execute_reply": "2022-07-30T10:12:31.479427Z"
    },
    "papermill": {
     "duration": 12.179603,
     "end_time": "2022-07-30T10:12:31.479564",
     "exception": false,
     "start_time": "2022-07-30T10:12:19.299961",
     "status": "completed"
    },
    "tags": []
   },
   "outputs": [
    {
     "name": "stdout",
     "output_type": "stream",
     "text": [
      "Epoch 0, Loss 0.2234\n",
      "Training Accuracy: 0.7314, Testing Accuracy: 0.7359\n",
      "\n"
     ]
    },
    {
     "name": "stdout",
     "output_type": "stream",
     "text": [
      "Epoch 10, Loss 0.1052\n",
      "Training Accuracy: 0.8986, Testing Accuracy: 0.9103\n",
      "\n"
     ]
    },
    {
     "name": "stdout",
     "output_type": "stream",
     "text": [
      "Epoch 20, Loss 0.0813\n",
      "Training Accuracy: 0.9226, Testing Accuracy: 0.9350\n",
      "\n"
     ]
    },
    {
     "name": "stdout",
     "output_type": "stream",
     "text": [
      "Epoch 30, Loss 0.0699\n",
      "Training Accuracy: 0.9325, Testing Accuracy: 0.9435\n",
      "\n"
     ]
    },
    {
     "name": "stdout",
     "output_type": "stream",
     "text": [
      "Epoch 40, Loss 0.0629\n",
      "Training Accuracy: 0.9387, Testing Accuracy: 0.9501\n",
      "\n"
     ]
    },
    {
     "name": "stdout",
     "output_type": "stream",
     "text": [
      "Epoch 50, Loss 0.0582\n",
      "Training Accuracy: 0.9430, Testing Accuracy: 0.9546\n",
      "\n"
     ]
    },
    {
     "name": "stdout",
     "output_type": "stream",
     "text": [
      "Epoch 60, Loss 0.0547\n",
      "Training Accuracy: 0.9458, Testing Accuracy: 0.9561\n",
      "\n"
     ]
    },
    {
     "name": "stdout",
     "output_type": "stream",
     "text": [
      "Epoch 70, Loss 0.052\n",
      "Training Accuracy: 0.9472, Testing Accuracy: 0.9577\n",
      "\n"
     ]
    },
    {
     "name": "stdout",
     "output_type": "stream",
     "text": [
      "Epoch 80, Loss 0.0499\n",
      "Training Accuracy: 0.9493, Testing Accuracy: 0.9582\n",
      "\n"
     ]
    },
    {
     "name": "stdout",
     "output_type": "stream",
     "text": [
      "Epoch 90, Loss 0.0481\n",
      "Training Accuracy: 0.9507, Testing Accuracy: 0.9597\n",
      "\n"
     ]
    },
    {
     "name": "stdout",
     "output_type": "stream",
     "text": [
      "Epoch 100, Loss 0.0466\n",
      "Training Accuracy: 0.9518, Testing Accuracy: 0.9597\n",
      "\n"
     ]
    },
    {
     "name": "stdout",
     "output_type": "stream",
     "text": [
      "Epoch 110, Loss 0.0453\n",
      "Training Accuracy: 0.9526, Testing Accuracy: 0.9622\n",
      "\n"
     ]
    },
    {
     "name": "stdout",
     "output_type": "stream",
     "text": [
      "Epoch 120, Loss 0.0442\n",
      "Training Accuracy: 0.9531, Testing Accuracy: 0.9622\n",
      "\n"
     ]
    },
    {
     "name": "stdout",
     "output_type": "stream",
     "text": [
      "Epoch 130, Loss 0.0432\n",
      "Training Accuracy: 0.9547, Testing Accuracy: 0.9632\n",
      "\n"
     ]
    },
    {
     "name": "stdout",
     "output_type": "stream",
     "text": [
      "Epoch 140, Loss 0.0424\n",
      "Training Accuracy: 0.9551, Testing Accuracy: 0.9647\n",
      "\n"
     ]
    },
    {
     "name": "stdout",
     "output_type": "stream",
     "text": [
      "Epoch 150, Loss 0.0416\n",
      "Training Accuracy: 0.9559, Testing Accuracy: 0.9647\n",
      "\n"
     ]
    },
    {
     "name": "stdout",
     "output_type": "stream",
     "text": [
      "Epoch 160, Loss 0.0409\n",
      "Training Accuracy: 0.9560, Testing Accuracy: 0.9652\n",
      "\n"
     ]
    },
    {
     "name": "stdout",
     "output_type": "stream",
     "text": [
      "Epoch 170, Loss 0.0403\n",
      "Training Accuracy: 0.9567, Testing Accuracy: 0.9662\n",
      "\n"
     ]
    },
    {
     "name": "stdout",
     "output_type": "stream",
     "text": [
      "Epoch 180, Loss 0.0397\n",
      "Training Accuracy: 0.9575, Testing Accuracy: 0.9662\n",
      "\n"
     ]
    },
    {
     "name": "stdout",
     "output_type": "stream",
     "text": [
      "Epoch 190, Loss 0.0392\n",
      "Training Accuracy: 0.9581, Testing Accuracy: 0.9667\n",
      "\n"
     ]
    },
    {
     "name": "stdout",
     "output_type": "stream",
     "text": [
      "Epoch 200, Loss 0.0387\n",
      "Training Accuracy: 0.9585, Testing Accuracy: 0.9667\n",
      "\n"
     ]
    },
    {
     "name": "stdout",
     "output_type": "stream",
     "text": [
      "Epoch 210, Loss 0.0382\n",
      "Training Accuracy: 0.9587, Testing Accuracy: 0.9672\n",
      "\n"
     ]
    },
    {
     "name": "stdout",
     "output_type": "stream",
     "text": [
      "Epoch 220, Loss 0.0378\n",
      "Training Accuracy: 0.9591, Testing Accuracy: 0.9672\n",
      "\n"
     ]
    },
    {
     "name": "stdout",
     "output_type": "stream",
     "text": [
      "Epoch 230, Loss 0.0374\n",
      "Training Accuracy: 0.9595, Testing Accuracy: 0.9677\n",
      "\n"
     ]
    },
    {
     "name": "stdout",
     "output_type": "stream",
     "text": [
      "Epoch 240, Loss 0.037\n",
      "Training Accuracy: 0.9598, Testing Accuracy: 0.9677\n",
      "\n"
     ]
    },
    {
     "data": {
      "text/plain": [
       "0.0087656425777308"
      ]
     },
     "execution_count": 23,
     "metadata": {},
     "output_type": "execute_result"
    }
   ],
   "source": [
    "lr_learner.train_loop(dl)"
   ]
  },
  {
   "cell_type": "code",
   "execution_count": 24,
   "id": "ca410940",
   "metadata": {
    "execution": {
     "iopub.execute_input": "2022-07-30T10:12:31.575441Z",
     "iopub.status.busy": "2022-07-30T10:12:31.573854Z",
     "iopub.status.idle": "2022-07-30T10:12:31.792466Z",
     "shell.execute_reply": "2022-07-30T10:12:31.792893Z"
    },
    "papermill": {
     "duration": 0.270855,
     "end_time": "2022-07-30T10:12:31.793022",
     "exception": false,
     "start_time": "2022-07-30T10:12:31.522167",
     "status": "completed"
    },
    "tags": []
   },
   "outputs": [
    {
     "data": {
      "text/plain": [
       "<matplotlib.legend.Legend at 0x7f957f76fbe0>"
      ]
     },
     "execution_count": 24,
     "metadata": {},
     "output_type": "execute_result"
    },
    {
     "data": {
      "image/png": "[encoded data removed]",
      "text/plain": [
       "<Figure size 1080x720 with 1 Axes>"
      ]
     },
     "metadata": {
      "needs_background": "light"
     },
     "output_type": "display_data"
    }
   ],
   "source": [
    "#comparing the results of NN and LR\n",
    "plt.figure(figsize=(15,10))\n",
    "\n",
    "# Neural Network plots\n",
    "plt.plot(acc_nn.accuracies, 'r-', label = \"Training Accuracies - NN\")\n",
    "plt.plot(acc_nn.test_accuracies, 'g-', label = \"Testing Accuracies - NN\")\n",
    "\n",
    "# Logistic Regression plots\n",
    "plt.plot(acc_lr.accuracies, 'k-', label = \"Training Accuracies - LR\")\n",
    "plt.plot(acc_lr.test_accuracies, 'b-', label = \"Testing Accuracies - LR\")\n",
    "plt.legend()"
   ]
  },
  {
   "cell_type": "markdown",
   "id": "80dfb35c",
   "metadata": {
    "papermill": {
     "duration": 0.04305,
     "end_time": "2022-07-30T10:12:31.879401",
     "exception": false,
     "start_time": "2022-07-30T10:12:31.836351",
     "status": "completed"
    },
    "tags": []
   },
   "source": [
    "#### Plotting the outputs of this layer of the NN.\n"
   ]
  },
  {
   "cell_type": "code",
   "execution_count": 25,
   "id": "45eb2ff5",
   "metadata": {
    "execution": {
     "iopub.execute_input": "2022-07-30T10:12:31.969776Z",
     "iopub.status.busy": "2022-07-30T10:12:31.968781Z",
     "iopub.status.idle": "2022-07-30T10:12:32.005123Z",
     "shell.execute_reply": "2022-07-30T10:12:32.004655Z"
    },
    "papermill": {
     "duration": 0.082836,
     "end_time": "2022-07-30T10:12:32.005226",
     "exception": false,
     "start_time": "2022-07-30T10:12:31.922390",
     "status": "completed"
    },
    "tags": []
   },
   "outputs": [],
   "source": [
    "new_model = Model(layers[:-2])\n",
    "testing_plot = new_model(testing_data_x)"
   ]
  },
  {
   "cell_type": "code",
   "execution_count": 26,
   "id": "4c0a5485",
   "metadata": {
    "execution": {
     "iopub.execute_input": "2022-07-30T10:12:32.100679Z",
     "iopub.status.busy": "2022-07-30T10:12:32.099698Z",
     "iopub.status.idle": "2022-07-30T10:12:32.281858Z",
     "shell.execute_reply": "2022-07-30T10:12:32.282287Z"
    },
    "papermill": {
     "duration": 0.233171,
     "end_time": "2022-07-30T10:12:32.282409",
     "exception": false,
     "start_time": "2022-07-30T10:12:32.049238",
     "status": "completed"
    },
    "tags": []
   },
   "outputs": [
    {
     "data": {
      "text/plain": [
       "Text(0.5, 1.0, 'Outputs')"
      ]
     },
     "execution_count": 26,
     "metadata": {},
     "output_type": "execute_result"
    },
    {
     "data": {
      "image/png": "[encoded data removed]",
      "text/plain": [
       "<Figure size 576x504 with 1 Axes>"
      ]
     },
     "metadata": {
      "needs_background": "light"
     },
     "output_type": "display_data"
    }
   ],
   "source": [
    "# Plotting the scatter plot of points and color coding by class\n",
    "plt.figure(figsize=(8,7))\n",
    "plt.scatter(testing_plot[:,0], testing_plot[:,1], alpha = 0.1, c = y_test.ravel());\n",
    "plt.title('Outputs')"
   ]
  },
  {
   "cell_type": "markdown",
   "id": "a74fcf8f",
   "metadata": {
    "papermill": {
     "duration": 0.046182,
     "end_time": "2022-07-30T10:12:32.395223",
     "exception": false,
     "start_time": "2022-07-30T10:12:32.349041",
     "status": "completed"
    },
    "tags": []
   },
   "source": [
    "Probability contours"
   ]
  },
  {
   "cell_type": "code",
   "execution_count": 27,
   "id": "d0afc8e3",
   "metadata": {
    "execution": {
     "iopub.execute_input": "2022-07-30T10:12:32.492934Z",
     "iopub.status.busy": "2022-07-30T10:12:32.492379Z",
     "iopub.status.idle": "2022-07-30T10:12:32.500829Z",
     "shell.execute_reply": "2022-07-30T10:12:32.501235Z"
    },
    "papermill": {
     "duration": 0.060455,
     "end_time": "2022-07-30T10:12:32.501349",
     "exception": false,
     "start_time": "2022-07-30T10:12:32.440894",
     "status": "completed"
    },
    "tags": []
   },
   "outputs": [],
   "source": [
    "model_prob = Model(layers[-2:]) "
   ]
  },
  {
   "cell_type": "code",
   "execution_count": 28,
   "id": "9b96e238",
   "metadata": {
    "execution": {
     "iopub.execute_input": "2022-07-30T10:12:32.598816Z",
     "iopub.status.busy": "2022-07-30T10:12:32.598229Z",
     "iopub.status.idle": "2022-07-30T10:12:32.611556Z",
     "shell.execute_reply": "2022-07-30T10:12:32.611988Z"
    },
    "papermill": {
     "duration": 0.065125,
     "end_time": "2022-07-30T10:12:32.612108",
     "exception": false,
     "start_time": "2022-07-30T10:12:32.546983",
     "status": "completed"
    },
    "tags": []
   },
   "outputs": [],
   "source": [
    "#creating the x and y ranges according to the above generated plot.\n",
    "x_range = np.linspace(-4, 1, 100) \n",
    "y_range = np.linspace(-6, 6, 100) \n",
    "x_grid, y_grid = np.meshgrid(x_range, y_range) # x_grid and y_grig are of size 100 X 100\n",
    "\n",
    "# converting x_grid and y_grid to continuous arrays\n",
    "x_gridflat = np.ravel(x_grid)\n",
    "y_gridflat = np.ravel(y_grid)\n",
    "\n",
    "# The last layer of the current model takes two columns as input. Hence transpose of np.vstack() is required.\n",
    "X = np.vstack((x_gridflat, y_gridflat)).T\n",
    "\n",
    "prob_contour = model_prob(X).reshape(100,100) "
   ]
  },
  {
   "cell_type": "code",
   "execution_count": 29,
   "id": "da72499a",
   "metadata": {
    "execution": {
     "iopub.execute_input": "2022-07-30T10:12:32.711111Z",
     "iopub.status.busy": "2022-07-30T10:12:32.709468Z",
     "iopub.status.idle": "2022-07-30T10:12:32.954909Z",
     "shell.execute_reply": "2022-07-30T10:12:32.954194Z"
    },
    "papermill": {
     "duration": 0.297216,
     "end_time": "2022-07-30T10:12:32.955016",
     "exception": false,
     "start_time": "2022-07-30T10:12:32.657800",
     "status": "completed"
    },
    "tags": []
   },
   "outputs": [
    {
     "data": {
      "image/png": "[encoded data removed]",
      "text/plain": [
       "<Figure size 720x648 with 1 Axes>"
      ]
     },
     "metadata": {
      "needs_background": "light"
     },
     "output_type": "display_data"
    }
   ],
   "source": [
    "plt.figure(figsize=(10,9))\n",
    "plt.scatter(testing_plot[:,0], testing_plot[:,1], alpha = 0.1, c = y_test.ravel())\n",
    "contours = plt.contour(x_grid,y_grid,prob_contour)\n",
    "plt.title('Probability Contours')\n",
    "plt.clabel(contours, inline = True );"
   ]
  },
  {
   "cell_type": "code",
   "execution_count": null,
   "id": "e81b4ac7",
   "metadata": {
    "papermill": {
     "duration": 0.048414,
     "end_time": "2022-07-30T10:12:33.052876",
     "exception": false,
     "start_time": "2022-07-30T10:12:33.004462",
     "status": "completed"
    },
    "tags": []
   },
   "outputs": [],
   "source": []
  }
 ],
 "metadata": {
  "kernelspec": {
   "display_name": "Python 3",
   "language": "python",
   "name": "python3"
  },
  "language_info": {
   "codemirror_mode": {
    "name": "ipython",
    "version": 3
   },
   "file_extension": ".py",
   "mimetype": "text/x-python",
   "name": "python",
   "nbconvert_exporter": "python",
   "pygments_lexer": "ipython3",
   "version": "3.6.15"
  },
  "papermill": {
   "default_parameters": {},
   "duration": 195.755546,
   "end_time": "2022-07-30T10:12:33.418956",
   "environment_variables": {},
   "exception": null,
   "input_path": "2020-08-11-part2.ipynb",
   "output_path": "2020-08-11-part2.ipynb",
   "parameters": {},
   "start_time": "2022-07-30T10:09:17.663410",
   "version": "2.3.3"
  }
 },
 "nbformat": 4,
 "nbformat_minor": 5
}