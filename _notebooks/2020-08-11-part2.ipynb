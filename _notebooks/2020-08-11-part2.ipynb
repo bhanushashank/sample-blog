{
 "cells": [
  {
   "cell_type": "markdown",
   "id": "98380cd3",
   "metadata": {
    "papermill": {
     "duration": 0.038451,
     "end_time": "2021-10-06T10:07:19.153476",
     "exception": false,
     "start_time": "2021-10-06T10:07:19.115025",
     "status": "completed"
    },
    "tags": []
   },
   "source": [
    "# Distinguish Your Own Digits (DYOD)"
   ]
  },
  {
   "cell_type": "markdown",
   "id": "ef31240d",
   "metadata": {
    "papermill": {
     "duration": 0.026935,
     "end_time": "2021-10-06T10:07:19.209249",
     "exception": false,
     "start_time": "2021-10-06T10:07:19.182314",
     "status": "completed"
    },
    "tags": []
   },
   "source": [
    "You are going to write a classifier that distinguishes between the number 3 and number 8."
   ]
  },
  {
   "cell_type": "code",
   "execution_count": 1,
   "id": "b15c8646",
   "metadata": {
    "execution": {
     "iopub.execute_input": "2021-10-06T10:07:19.278700Z",
     "iopub.status.busy": "2021-10-06T10:07:19.278077Z",
     "iopub.status.idle": "2021-10-06T10:07:19.288927Z",
     "shell.execute_reply": "2021-10-06T10:07:19.289553Z"
    },
    "papermill": {
     "duration": 0.054689,
     "end_time": "2021-10-06T10:07:19.289771",
     "exception": false,
     "start_time": "2021-10-06T10:07:19.235082",
     "status": "completed"
    },
    "tags": []
   },
   "outputs": [],
   "source": [
    "%load_ext autoreload\n",
    "%autoreload 2"
   ]
  },
  {
   "cell_type": "code",
   "execution_count": 2,
   "id": "22ef38dc",
   "metadata": {
    "execution": {
     "iopub.execute_input": "2021-10-06T10:07:19.352431Z",
     "iopub.status.busy": "2021-10-06T10:07:19.351775Z",
     "iopub.status.idle": "2021-10-06T10:07:19.960112Z",
     "shell.execute_reply": "2021-10-06T10:07:19.959468Z"
    },
    "papermill": {
     "duration": 0.640787,
     "end_time": "2021-10-06T10:07:19.960276",
     "exception": false,
     "start_time": "2021-10-06T10:07:19.319489",
     "status": "completed"
    },
    "tags": []
   },
   "outputs": [],
   "source": [
    "%matplotlib inline\n",
    "import numpy as np\n",
    "import matplotlib.pyplot as plt\n",
    "import pandas as pd"
   ]
  },
  {
   "cell_type": "markdown",
   "id": "ba036198",
   "metadata": {
    "papermill": {
     "duration": 0.02934,
     "end_time": "2021-10-06T10:07:20.021258",
     "exception": false,
     "start_time": "2021-10-06T10:07:19.991918",
     "status": "completed"
    },
    "tags": []
   },
   "source": [
    "From the command line run `pip install mnist`. This is a library that will help you bring down the mnist dataset. If you run this from a notebook, you need to put  `!pip install mnist` in a cell by itself."
   ]
  },
  {
   "cell_type": "code",
   "execution_count": 3,
   "id": "bb6ad8a1",
   "metadata": {
    "execution": {
     "iopub.execute_input": "2021-10-06T10:07:20.091720Z",
     "iopub.status.busy": "2021-10-06T10:07:20.091150Z",
     "iopub.status.idle": "2021-10-06T10:07:22.013274Z",
     "shell.execute_reply": "2021-10-06T10:07:22.012646Z"
    },
    "papermill": {
     "duration": 1.96571,
     "end_time": "2021-10-06T10:07:22.013482",
     "exception": false,
     "start_time": "2021-10-06T10:07:20.047772",
     "status": "completed"
    },
    "tags": []
   },
   "outputs": [
    {
     "name": "stdout",
     "output_type": "stream",
     "text": [
      "Collecting mnist\r\n"
     ]
    },
    {
     "name": "stdout",
     "output_type": "stream",
     "text": [
      "  Downloading mnist-0.2.2-py2.py3-none-any.whl (3.5 kB)\r\n",
      "Requirement already satisfied: numpy in /opt/hostedtoolcache/Python/3.6.15/x64/lib/python3.6/site-packages (from mnist) (1.19.5)\r\n"
     ]
    },
    {
     "name": "stdout",
     "output_type": "stream",
     "text": [
      "Installing collected packages: mnist\r\n"
     ]
    },
    {
     "name": "stdout",
     "output_type": "stream",
     "text": [
      "Successfully installed mnist-0.2.2\r\n"
     ]
    }
   ],
   "source": [
    "!pip install mnist"
   ]
  },
  {
   "cell_type": "markdown",
   "id": "69df9c9a",
   "metadata": {
    "papermill": {
     "duration": 0.032985,
     "end_time": "2021-10-06T10:07:22.081236",
     "exception": false,
     "start_time": "2021-10-06T10:07:22.048251",
     "status": "completed"
    },
    "tags": []
   },
   "source": [
    "## Preparing the Data"
   ]
  },
  {
   "cell_type": "code",
   "execution_count": 4,
   "id": "7f69d806",
   "metadata": {
    "execution": {
     "iopub.execute_input": "2021-10-06T10:07:22.157024Z",
     "iopub.status.busy": "2021-10-06T10:07:22.156318Z",
     "iopub.status.idle": "2021-10-06T10:07:22.174445Z",
     "shell.execute_reply": "2021-10-06T10:07:22.173746Z"
    },
    "papermill": {
     "duration": 0.059115,
     "end_time": "2021-10-06T10:07:22.174733",
     "exception": false,
     "start_time": "2021-10-06T10:07:22.115618",
     "status": "completed"
    },
    "tags": []
   },
   "outputs": [],
   "source": [
    "import mnist"
   ]
  },
  {
   "cell_type": "code",
   "execution_count": 5,
   "id": "a411e44f",
   "metadata": {
    "execution": {
     "iopub.execute_input": "2021-10-06T10:07:22.247373Z",
     "iopub.status.busy": "2021-10-06T10:07:22.246700Z",
     "iopub.status.idle": "2021-10-06T10:07:22.847223Z",
     "shell.execute_reply": "2021-10-06T10:07:22.847653Z"
    },
    "papermill": {
     "duration": 0.638003,
     "end_time": "2021-10-06T10:07:22.847814",
     "exception": false,
     "start_time": "2021-10-06T10:07:22.209811",
     "status": "completed"
    },
    "tags": []
   },
   "outputs": [],
   "source": [
    "train_images = mnist.train_images()\n",
    "train_labels = mnist.train_labels()"
   ]
  },
  {
   "cell_type": "code",
   "execution_count": 6,
   "id": "dceab3a5",
   "metadata": {
    "execution": {
     "iopub.execute_input": "2021-10-06T10:07:22.912421Z",
     "iopub.status.busy": "2021-10-06T10:07:22.911508Z",
     "iopub.status.idle": "2021-10-06T10:07:22.929883Z",
     "shell.execute_reply": "2021-10-06T10:07:22.929290Z"
    },
    "papermill": {
     "duration": 0.050037,
     "end_time": "2021-10-06T10:07:22.930002",
     "exception": false,
     "start_time": "2021-10-06T10:07:22.879965",
     "status": "completed"
    },
    "tags": []
   },
   "outputs": [
    {
     "data": {
      "text/plain": [
       "((60000, 28, 28), (60000,))"
      ]
     },
     "execution_count": 6,
     "metadata": {},
     "output_type": "execute_result"
    }
   ],
   "source": [
    "train_images.shape, train_labels.shape"
   ]
  },
  {
   "cell_type": "code",
   "execution_count": 7,
   "id": "f50dc2bb",
   "metadata": {
    "execution": {
     "iopub.execute_input": "2021-10-06T10:07:22.988352Z",
     "iopub.status.busy": "2021-10-06T10:07:22.987806Z",
     "iopub.status.idle": "2021-10-06T10:07:23.139806Z",
     "shell.execute_reply": "2021-10-06T10:07:23.139227Z"
    },
    "papermill": {
     "duration": 0.183371,
     "end_time": "2021-10-06T10:07:23.139971",
     "exception": false,
     "start_time": "2021-10-06T10:07:22.956600",
     "status": "completed"
    },
    "tags": []
   },
   "outputs": [],
   "source": [
    "test_images = mnist.test_images()\n",
    "test_labels = mnist.test_labels()"
   ]
  },
  {
   "cell_type": "code",
   "execution_count": 8,
   "id": "fc38cf1b",
   "metadata": {
    "execution": {
     "iopub.execute_input": "2021-10-06T10:07:23.212985Z",
     "iopub.status.busy": "2021-10-06T10:07:23.212296Z",
     "iopub.status.idle": "2021-10-06T10:07:23.225165Z",
     "shell.execute_reply": "2021-10-06T10:07:23.224654Z"
    },
    "papermill": {
     "duration": 0.053285,
     "end_time": "2021-10-06T10:07:23.225392",
     "exception": false,
     "start_time": "2021-10-06T10:07:23.172107",
     "status": "completed"
    },
    "tags": []
   },
   "outputs": [
    {
     "data": {
      "text/plain": [
       "((10000, 28, 28), (10000,))"
      ]
     },
     "execution_count": 8,
     "metadata": {},
     "output_type": "execute_result"
    }
   ],
   "source": [
    "test_images.shape, test_labels.shape"
   ]
  },
  {
   "cell_type": "code",
   "execution_count": 9,
   "id": "f9ed8fe0",
   "metadata": {
    "execution": {
     "iopub.execute_input": "2021-10-06T10:07:23.292235Z",
     "iopub.status.busy": "2021-10-06T10:07:23.289401Z",
     "iopub.status.idle": "2021-10-06T10:07:23.478878Z",
     "shell.execute_reply": "2021-10-06T10:07:23.478112Z"
    },
    "papermill": {
     "duration": 0.224853,
     "end_time": "2021-10-06T10:07:23.479125",
     "exception": false,
     "start_time": "2021-10-06T10:07:23.254272",
     "status": "completed"
    },
    "tags": []
   },
   "outputs": [
    {
     "name": "stdout",
     "output_type": "stream",
     "text": [
      "2\n"
     ]
    },
    {
     "data": {
      "text/plain": [
       "<matplotlib.image.AxesImage at 0x7fa8c4e967f0>"
      ]
     },
     "execution_count": 9,
     "metadata": {},
     "output_type": "execute_result"
    },
    {
     "data": {
      "image/png": "[encoded data removed]",
      "text/plain": [
       "<Figure size 432x288 with 1 Axes>"
      ]
     },
     "metadata": {
      "needs_background": "light"
     },
     "output_type": "display_data"
    }
   ],
   "source": [
    "image_index = 7776 # You may select anything up to 60,000\n",
    "print(train_labels[image_index]) \n",
    "plt.imshow(train_images[image_index], cmap='Greys')"
   ]
  },
  {
   "cell_type": "markdown",
   "id": "a8d2388d",
   "metadata": {
    "papermill": {
     "duration": 0.03405,
     "end_time": "2021-10-06T10:07:23.543418",
     "exception": false,
     "start_time": "2021-10-06T10:07:23.509368",
     "status": "completed"
    },
    "tags": []
   },
   "source": [
    "## Filter data to get 3 and 8 out"
   ]
  },
  {
   "cell_type": "code",
   "execution_count": 10,
   "id": "776f7fc7",
   "metadata": {
    "execution": {
     "iopub.execute_input": "2021-10-06T10:07:23.605968Z",
     "iopub.status.busy": "2021-10-06T10:07:23.605387Z",
     "iopub.status.idle": "2021-10-06T10:07:23.625154Z",
     "shell.execute_reply": "2021-10-06T10:07:23.624655Z"
    },
    "papermill": {
     "duration": 0.052816,
     "end_time": "2021-10-06T10:07:23.625314",
     "exception": false,
     "start_time": "2021-10-06T10:07:23.572498",
     "status": "completed"
    },
    "tags": []
   },
   "outputs": [],
   "source": [
    "train_filter = np.where((train_labels == 3 ) | (train_labels == 8))\n",
    "test_filter = np.where((test_labels == 3) | (test_labels == 8))\n",
    "X_train, y_train = train_images[train_filter], train_labels[train_filter]\n",
    "X_test, y_test = test_images[test_filter], test_labels[test_filter]"
   ]
  },
  {
   "cell_type": "markdown",
   "id": "948f0b7e",
   "metadata": {
    "papermill": {
     "duration": 0.029979,
     "end_time": "2021-10-06T10:07:23.684545",
     "exception": false,
     "start_time": "2021-10-06T10:07:23.654566",
     "status": "completed"
    },
    "tags": []
   },
   "source": [
    "We normalize the pizel values in the 0 to 1 range"
   ]
  },
  {
   "cell_type": "code",
   "execution_count": 11,
   "id": "ee4c2166",
   "metadata": {
    "execution": {
     "iopub.execute_input": "2021-10-06T10:07:23.753360Z",
     "iopub.status.busy": "2021-10-06T10:07:23.752550Z",
     "iopub.status.idle": "2021-10-06T10:07:23.817939Z",
     "shell.execute_reply": "2021-10-06T10:07:23.817122Z"
    },
    "papermill": {
     "duration": 0.104381,
     "end_time": "2021-10-06T10:07:23.818103",
     "exception": false,
     "start_time": "2021-10-06T10:07:23.713722",
     "status": "completed"
    },
    "tags": []
   },
   "outputs": [],
   "source": [
    "X_train = X_train/255.\n",
    "X_test = X_test/255."
   ]
  },
  {
   "cell_type": "markdown",
   "id": "ddcf4fab",
   "metadata": {
    "papermill": {
     "duration": 0.033761,
     "end_time": "2021-10-06T10:07:23.885736",
     "exception": false,
     "start_time": "2021-10-06T10:07:23.851975",
     "status": "completed"
    },
    "tags": []
   },
   "source": [
    "And setup the labels as 1 (when the digit is 3) and 0 (when the digit is 8)"
   ]
  },
  {
   "cell_type": "code",
   "execution_count": 12,
   "id": "7dc908f2",
   "metadata": {
    "execution": {
     "iopub.execute_input": "2021-10-06T10:07:23.950845Z",
     "iopub.status.busy": "2021-10-06T10:07:23.950262Z",
     "iopub.status.idle": "2021-10-06T10:07:23.963932Z",
     "shell.execute_reply": "2021-10-06T10:07:23.963241Z"
    },
    "papermill": {
     "duration": 0.048389,
     "end_time": "2021-10-06T10:07:23.964077",
     "exception": false,
     "start_time": "2021-10-06T10:07:23.915688",
     "status": "completed"
    },
    "tags": []
   },
   "outputs": [],
   "source": [
    "y_train = 1*(y_train==3)\n",
    "y_test = 1*(y_test==3)"
   ]
  },
  {
   "cell_type": "code",
   "execution_count": 13,
   "id": "01e4e969",
   "metadata": {
    "execution": {
     "iopub.execute_input": "2021-10-06T10:07:24.031765Z",
     "iopub.status.busy": "2021-10-06T10:07:24.031171Z",
     "iopub.status.idle": "2021-10-06T10:07:24.044918Z",
     "shell.execute_reply": "2021-10-06T10:07:24.045472Z"
    },
    "papermill": {
     "duration": 0.04929,
     "end_time": "2021-10-06T10:07:24.045600",
     "exception": false,
     "start_time": "2021-10-06T10:07:23.996310",
     "status": "completed"
    },
    "tags": []
   },
   "outputs": [
    {
     "data": {
      "text/plain": [
       "((11982, 28, 28), (1984, 28, 28))"
      ]
     },
     "execution_count": 13,
     "metadata": {},
     "output_type": "execute_result"
    }
   ],
   "source": [
    "X_train.shape, X_test.shape"
   ]
  },
  {
   "cell_type": "markdown",
   "id": "5ccf3f85",
   "metadata": {
    "papermill": {
     "duration": 0.032257,
     "end_time": "2021-10-06T10:07:24.109801",
     "exception": false,
     "start_time": "2021-10-06T10:07:24.077544",
     "status": "completed"
    },
    "tags": []
   },
   "source": [
    "We reshape the data to flatten the image pixels into a set of features or co-variates:"
   ]
  },
  {
   "cell_type": "code",
   "execution_count": 14,
   "id": "5286a4a3",
   "metadata": {
    "execution": {
     "iopub.execute_input": "2021-10-06T10:07:24.180157Z",
     "iopub.status.busy": "2021-10-06T10:07:24.179580Z",
     "iopub.status.idle": "2021-10-06T10:07:24.194694Z",
     "shell.execute_reply": "2021-10-06T10:07:24.194150Z"
    },
    "papermill": {
     "duration": 0.053688,
     "end_time": "2021-10-06T10:07:24.194863",
     "exception": false,
     "start_time": "2021-10-06T10:07:24.141175",
     "status": "completed"
    },
    "tags": []
   },
   "outputs": [
    {
     "data": {
      "text/plain": [
       "((11982, 784), (1984, 784))"
      ]
     },
     "execution_count": 14,
     "metadata": {},
     "output_type": "execute_result"
    }
   ],
   "source": [
    "X_train = X_train.reshape(X_train.shape[0], -1)\n",
    "X_test = X_test.reshape(X_test.shape[0], -1)\n",
    "X_train.shape, X_test.shape"
   ]
  },
  {
   "cell_type": "code",
   "execution_count": 15,
   "id": "73c5f88a",
   "metadata": {
    "execution": {
     "iopub.execute_input": "2021-10-06T10:07:24.268531Z",
     "iopub.status.busy": "2021-10-06T10:07:24.267827Z",
     "iopub.status.idle": "2021-10-06T10:07:24.290012Z",
     "shell.execute_reply": "2021-10-06T10:07:24.289354Z"
    },
    "papermill": {
     "duration": 0.06062,
     "end_time": "2021-10-06T10:07:24.290242",
     "exception": false,
     "start_time": "2021-10-06T10:07:24.229622",
     "status": "completed"
    },
    "tags": []
   },
   "outputs": [],
   "source": [
    "#Impoting functions from 'Kudzu'\n",
    "from kudzu.model import Model\n",
    "from kudzu.train import Learner\n",
    "from kudzu.optim import GD\n",
    "from kudzu.data import Data, Sampler,Dataloader\n",
    "\n",
    "from kudzu.callbacks import AccCallback\n",
    "from kudzu.callbacks import ClfCallback\n",
    "\n",
    "from kudzu.loss import MSE\n",
    "\n",
    "from kudzu.layer import Sigmoid,Relu\n",
    "from kudzu.layer import Affine"
   ]
  },
  {
   "cell_type": "markdown",
   "id": "bc01172a",
   "metadata": {
    "papermill": {
     "duration": 0.038368,
     "end_time": "2021-10-06T10:07:24.358282",
     "exception": false,
     "start_time": "2021-10-06T10:07:24.319914",
     "status": "completed"
    },
    "tags": []
   },
   "source": [
    "### Let us create a `Config` class, to store important parameters. \n",
    "This class essentially plays the role of a dictionary."
   ]
  },
  {
   "cell_type": "code",
   "execution_count": 16,
   "id": "978281aa",
   "metadata": {
    "execution": {
     "iopub.execute_input": "2021-10-06T10:07:24.429011Z",
     "iopub.status.busy": "2021-10-06T10:07:24.428078Z",
     "iopub.status.idle": "2021-10-06T10:07:24.442882Z",
     "shell.execute_reply": "2021-10-06T10:07:24.442342Z"
    },
    "papermill": {
     "duration": 0.051092,
     "end_time": "2021-10-06T10:07:24.443020",
     "exception": false,
     "start_time": "2021-10-06T10:07:24.391928",
     "status": "completed"
    },
    "tags": []
   },
   "outputs": [],
   "source": [
    "class Config:\n",
    "    pass\n",
    "config = Config()\n",
    "config.lr = 0.001\n",
    "config.num_epochs = 250\n",
    "config.bs = 50"
   ]
  },
  {
   "cell_type": "markdown",
   "id": "1385fa59",
   "metadata": {
    "papermill": {
     "duration": 0.03681,
     "end_time": "2021-10-06T10:07:24.514205",
     "exception": false,
     "start_time": "2021-10-06T10:07:24.477395",
     "status": "completed"
    },
    "tags": []
   },
   "source": [
    "### Running Models with the Training data\n",
    "Details about the network layers:\n",
    "- A first affine layer has 784 inputs and does 100 affine transforms. These are followed by a Relu\n",
    "- A second affine layer has 100 inputs from the 100 activations of the past layer, and does 100 affine transforms. These are followed by a Relu\n",
    "- A third affine layer has 100 activations and does 2 affine transformations to create an embedding for visualization. There is no non-linearity here.\n",
    "- A final \"logistic regression\" which has an affine transform from 2 inputs to 1 output, which is squeezed through a sigmoid.\n"
   ]
  },
  {
   "cell_type": "code",
   "execution_count": 17,
   "id": "2b9c66db",
   "metadata": {
    "execution": {
     "iopub.execute_input": "2021-10-06T10:07:24.586995Z",
     "iopub.status.busy": "2021-10-06T10:07:24.586159Z",
     "iopub.status.idle": "2021-10-06T10:07:24.600158Z",
     "shell.execute_reply": "2021-10-06T10:07:24.600758Z"
    },
    "papermill": {
     "duration": 0.054297,
     "end_time": "2021-10-06T10:07:24.600913",
     "exception": false,
     "start_time": "2021-10-06T10:07:24.546616",
     "status": "completed"
    },
    "tags": []
   },
   "outputs": [],
   "source": [
    "data = Data(X_train, y_train.reshape(-1,1))\n",
    "sampler = Sampler(data, config.bs, shuffle=True)\n",
    "\n",
    "dl = Dataloader(data, sampler)\n",
    "\n",
    "opt = GD(config.lr)\n",
    "loss = MSE()"
   ]
  },
  {
   "cell_type": "code",
   "execution_count": 18,
   "id": "b275e4c2",
   "metadata": {
    "execution": {
     "iopub.execute_input": "2021-10-06T10:07:24.679185Z",
     "iopub.status.busy": "2021-10-06T10:07:24.678557Z",
     "iopub.status.idle": "2021-10-06T10:07:24.689497Z",
     "shell.execute_reply": "2021-10-06T10:07:24.689025Z"
    },
    "papermill": {
     "duration": 0.053639,
     "end_time": "2021-10-06T10:07:24.689616",
     "exception": false,
     "start_time": "2021-10-06T10:07:24.635977",
     "status": "completed"
    },
    "tags": []
   },
   "outputs": [],
   "source": [
    "training_data_x = X_train\n",
    "testing_data_x = X_test\n",
    "training_data_y = y_train.reshape(-1,1)\n",
    "testing_data_y = y_test.reshape(-1,1)"
   ]
  },
  {
   "cell_type": "code",
   "execution_count": 19,
   "id": "76951160",
   "metadata": {
    "execution": {
     "iopub.execute_input": "2021-10-06T10:07:24.764003Z",
     "iopub.status.busy": "2021-10-06T10:07:24.763326Z",
     "iopub.status.idle": "2021-10-06T10:07:24.781027Z",
     "shell.execute_reply": "2021-10-06T10:07:24.780432Z"
    },
    "papermill": {
     "duration": 0.059073,
     "end_time": "2021-10-06T10:07:24.781173",
     "exception": false,
     "start_time": "2021-10-06T10:07:24.722100",
     "status": "completed"
    },
    "tags": []
   },
   "outputs": [
    {
     "name": "stdout",
     "output_type": "stream",
     "text": [
      "xavier\n",
      "xavier\n",
      "xavier\n",
      "xavier\n",
      "xavier\n"
     ]
    }
   ],
   "source": [
    "layers = [Affine(\"first\", 784, 100), Relu(\"first\"), Affine(\"second\", 100, 100), Relu(\"second\"), Affine(\"third\", 100, 2), Affine(\"last\", 2, 1), Sigmoid(\"last\")]\n",
    "model_nn = Model(layers)\n",
    "model_lr = Model([Affine(\"logits\", 784, 1), Sigmoid(\"sigmoid\")])"
   ]
  },
  {
   "cell_type": "code",
   "execution_count": 20,
   "id": "6eede77a",
   "metadata": {
    "execution": {
     "iopub.execute_input": "2021-10-06T10:07:24.856394Z",
     "iopub.status.busy": "2021-10-06T10:07:24.855712Z",
     "iopub.status.idle": "2021-10-06T10:07:24.868935Z",
     "shell.execute_reply": "2021-10-06T10:07:24.868398Z"
    },
    "papermill": {
     "duration": 0.051892,
     "end_time": "2021-10-06T10:07:24.869071",
     "exception": false,
     "start_time": "2021-10-06T10:07:24.817179",
     "status": "completed"
    },
    "tags": []
   },
   "outputs": [],
   "source": [
    "nn_learner = Learner(loss, model_nn, opt, config.num_epochs)\n",
    "acc_nn = ClfCallback(nn_learner, config.bs, training_data_x , testing_data_x, training_data_y, testing_data_y)\n",
    "nn_learner.set_callbacks([acc_nn])"
   ]
  },
  {
   "cell_type": "code",
   "execution_count": 21,
   "id": "877b6cc7",
   "metadata": {
    "execution": {
     "iopub.execute_input": "2021-10-06T10:07:24.946969Z",
     "iopub.status.busy": "2021-10-06T10:07:24.946394Z",
     "iopub.status.idle": "2021-10-06T10:07:24.959702Z",
     "shell.execute_reply": "2021-10-06T10:07:24.960392Z"
    },
    "papermill": {
     "duration": 0.054411,
     "end_time": "2021-10-06T10:07:24.960560",
     "exception": false,
     "start_time": "2021-10-06T10:07:24.906149",
     "status": "completed"
    },
    "tags": []
   },
   "outputs": [],
   "source": [
    "lr_learner = Learner(loss, model_lr, opt, config.num_epochs)\n",
    "acc_lr = ClfCallback(lr_learner, config.bs, training_data_x , testing_data_x, training_data_y, testing_data_y)\n",
    "lr_learner.set_callbacks([acc_lr])"
   ]
  },
  {
   "cell_type": "code",
   "execution_count": 22,
   "id": "d9b133c3",
   "metadata": {
    "execution": {
     "iopub.execute_input": "2021-10-06T10:07:25.030984Z",
     "iopub.status.busy": "2021-10-06T10:07:25.030410Z",
     "iopub.status.idle": "2021-10-06T10:09:50.157341Z",
     "shell.execute_reply": "2021-10-06T10:09:50.157953Z"
    },
    "papermill": {
     "duration": 145.163615,
     "end_time": "2021-10-06T10:09:50.158122",
     "exception": false,
     "start_time": "2021-10-06T10:07:24.994507",
     "status": "completed"
    },
    "tags": []
   },
   "outputs": [
    {
     "name": "stdout",
     "output_type": "stream",
     "text": [
      "Epoch 0, Loss 0.2409\n",
      "Training Accuracy: 0.5856, Testing Accuracy: 0.5781\n",
      "\n"
     ]
    },
    {
     "name": "stdout",
     "output_type": "stream",
     "text": [
      "Epoch 10, Loss 0.0965\n",
      "Training Accuracy: 0.9185, Testing Accuracy: 0.9249\n",
      "\n"
     ]
    },
    {
     "name": "stdout",
     "output_type": "stream",
     "text": [
      "Epoch 20, Loss 0.0578\n",
      "Training Accuracy: 0.9398, Testing Accuracy: 0.9481\n",
      "\n"
     ]
    },
    {
     "name": "stdout",
     "output_type": "stream",
     "text": [
      "Epoch 30, Loss 0.0448\n",
      "Training Accuracy: 0.9501, Testing Accuracy: 0.9602\n",
      "\n"
     ]
    },
    {
     "name": "stdout",
     "output_type": "stream",
     "text": [
      "Epoch 40, Loss 0.0384\n",
      "Training Accuracy: 0.9567, Testing Accuracy: 0.9622\n",
      "\n"
     ]
    },
    {
     "name": "stdout",
     "output_type": "stream",
     "text": [
      "Epoch 50, Loss 0.0345\n",
      "Training Accuracy: 0.9609, Testing Accuracy: 0.9642\n",
      "\n"
     ]
    },
    {
     "name": "stdout",
     "output_type": "stream",
     "text": [
      "Epoch 60, Loss 0.0319\n",
      "Training Accuracy: 0.9627, Testing Accuracy: 0.9652\n",
      "\n"
     ]
    },
    {
     "name": "stdout",
     "output_type": "stream",
     "text": [
      "Epoch 70, Loss 0.0299\n",
      "Training Accuracy: 0.9654, Testing Accuracy: 0.9667\n",
      "\n"
     ]
    },
    {
     "name": "stdout",
     "output_type": "stream",
     "text": [
      "Epoch 80, Loss 0.0283\n",
      "Training Accuracy: 0.9670, Testing Accuracy: 0.9677\n",
      "\n"
     ]
    },
    {
     "name": "stdout",
     "output_type": "stream",
     "text": [
      "Epoch 90, Loss 0.0271\n",
      "Training Accuracy: 0.9681, Testing Accuracy: 0.9693\n",
      "\n"
     ]
    },
    {
     "name": "stdout",
     "output_type": "stream",
     "text": [
      "Epoch 100, Loss 0.026\n",
      "Training Accuracy: 0.9695, Testing Accuracy: 0.9698\n",
      "\n"
     ]
    },
    {
     "name": "stdout",
     "output_type": "stream",
     "text": [
      "Epoch 110, Loss 0.0252\n",
      "Training Accuracy: 0.9705, Testing Accuracy: 0.9698\n",
      "\n"
     ]
    },
    {
     "name": "stdout",
     "output_type": "stream",
     "text": [
      "Epoch 120, Loss 0.0244\n",
      "Training Accuracy: 0.9715, Testing Accuracy: 0.9708\n",
      "\n"
     ]
    },
    {
     "name": "stdout",
     "output_type": "stream",
     "text": [
      "Epoch 130, Loss 0.0237\n",
      "Training Accuracy: 0.9731, Testing Accuracy: 0.9708\n",
      "\n"
     ]
    },
    {
     "name": "stdout",
     "output_type": "stream",
     "text": [
      "Epoch 140, Loss 0.023\n",
      "Training Accuracy: 0.9737, Testing Accuracy: 0.9708\n",
      "\n"
     ]
    },
    {
     "name": "stdout",
     "output_type": "stream",
     "text": [
      "Epoch 150, Loss 0.0225\n",
      "Training Accuracy: 0.9745, Testing Accuracy: 0.9703\n",
      "\n"
     ]
    },
    {
     "name": "stdout",
     "output_type": "stream",
     "text": [
      "Epoch 160, Loss 0.0219\n",
      "Training Accuracy: 0.9753, Testing Accuracy: 0.9708\n",
      "\n"
     ]
    },
    {
     "name": "stdout",
     "output_type": "stream",
     "text": [
      "Epoch 170, Loss 0.0214\n",
      "Training Accuracy: 0.9762, Testing Accuracy: 0.9708\n",
      "\n"
     ]
    },
    {
     "name": "stdout",
     "output_type": "stream",
     "text": [
      "Epoch 180, Loss 0.021\n",
      "Training Accuracy: 0.9770, Testing Accuracy: 0.9708\n",
      "\n"
     ]
    },
    {
     "name": "stdout",
     "output_type": "stream",
     "text": [
      "Epoch 190, Loss 0.0206\n",
      "Training Accuracy: 0.9775, Testing Accuracy: 0.9708\n",
      "\n"
     ]
    },
    {
     "name": "stdout",
     "output_type": "stream",
     "text": [
      "Epoch 200, Loss 0.0201\n",
      "Training Accuracy: 0.9781, Testing Accuracy: 0.9708\n",
      "\n"
     ]
    },
    {
     "name": "stdout",
     "output_type": "stream",
     "text": [
      "Epoch 210, Loss 0.0198\n",
      "Training Accuracy: 0.9787, Testing Accuracy: 0.9713\n",
      "\n"
     ]
    },
    {
     "name": "stdout",
     "output_type": "stream",
     "text": [
      "Epoch 220, Loss 0.0194\n",
      "Training Accuracy: 0.9795, Testing Accuracy: 0.9713\n",
      "\n"
     ]
    },
    {
     "name": "stdout",
     "output_type": "stream",
     "text": [
      "Epoch 230, Loss 0.019\n",
      "Training Accuracy: 0.9799, Testing Accuracy: 0.9708\n",
      "\n"
     ]
    },
    {
     "name": "stdout",
     "output_type": "stream",
     "text": [
      "Epoch 240, Loss 0.0187\n",
      "Training Accuracy: 0.9803, Testing Accuracy: 0.9713\n",
      "\n"
     ]
    },
    {
     "data": {
      "text/plain": [
       "0.009561792562092171"
      ]
     },
     "execution_count": 22,
     "metadata": {},
     "output_type": "execute_result"
    }
   ],
   "source": [
    "nn_learner.train_loop(dl)"
   ]
  },
  {
   "cell_type": "code",
   "execution_count": 23,
   "id": "e0163366",
   "metadata": {
    "execution": {
     "iopub.execute_input": "2021-10-06T10:09:50.265340Z",
     "iopub.status.busy": "2021-10-06T10:09:50.264664Z",
     "iopub.status.idle": "2021-10-06T10:10:10.444113Z",
     "shell.execute_reply": "2021-10-06T10:10:10.444958Z"
    },
    "papermill": {
     "duration": 20.241583,
     "end_time": "2021-10-06T10:10:10.445117",
     "exception": false,
     "start_time": "2021-10-06T10:09:50.203534",
     "status": "completed"
    },
    "tags": []
   },
   "outputs": [
    {
     "name": "stdout",
     "output_type": "stream",
     "text": [
      "Epoch 0, Loss 0.2207\n",
      "Training Accuracy: 0.7508, Testing Accuracy: 0.7928\n",
      "\n"
     ]
    },
    {
     "name": "stdout",
     "output_type": "stream",
     "text": [
      "Epoch 10, Loss 0.1023\n",
      "Training Accuracy: 0.9084, Testing Accuracy: 0.9204\n",
      "\n"
     ]
    },
    {
     "name": "stdout",
     "output_type": "stream",
     "text": [
      "Epoch 20, Loss 0.0792\n",
      "Training Accuracy: 0.9264, Testing Accuracy: 0.9395\n",
      "\n"
     ]
    },
    {
     "name": "stdout",
     "output_type": "stream",
     "text": [
      "Epoch 30, Loss 0.0682\n",
      "Training Accuracy: 0.9366, Testing Accuracy: 0.9496\n",
      "\n"
     ]
    },
    {
     "name": "stdout",
     "output_type": "stream",
     "text": [
      "Epoch 40, Loss 0.0616\n",
      "Training Accuracy: 0.9415, Testing Accuracy: 0.9526\n",
      "\n"
     ]
    },
    {
     "name": "stdout",
     "output_type": "stream",
     "text": [
      "Epoch 50, Loss 0.057\n",
      "Training Accuracy: 0.9453, Testing Accuracy: 0.9536\n",
      "\n"
     ]
    },
    {
     "name": "stdout",
     "output_type": "stream",
     "text": [
      "Epoch 60, Loss 0.0537\n",
      "Training Accuracy: 0.9475, Testing Accuracy: 0.9577\n",
      "\n"
     ]
    },
    {
     "name": "stdout",
     "output_type": "stream",
     "text": [
      "Epoch 70, Loss 0.0511\n",
      "Training Accuracy: 0.9495, Testing Accuracy: 0.9597\n",
      "\n"
     ]
    },
    {
     "name": "stdout",
     "output_type": "stream",
     "text": [
      "Epoch 80, Loss 0.0491\n",
      "Training Accuracy: 0.9513, Testing Accuracy: 0.9622\n",
      "\n"
     ]
    },
    {
     "name": "stdout",
     "output_type": "stream",
     "text": [
      "Epoch 90, Loss 0.0474\n",
      "Training Accuracy: 0.9523, Testing Accuracy: 0.9627\n",
      "\n"
     ]
    },
    {
     "name": "stdout",
     "output_type": "stream",
     "text": [
      "Epoch 100, Loss 0.046\n",
      "Training Accuracy: 0.9538, Testing Accuracy: 0.9637\n",
      "\n"
     ]
    },
    {
     "name": "stdout",
     "output_type": "stream",
     "text": [
      "Epoch 110, Loss 0.0448\n",
      "Training Accuracy: 0.9550, Testing Accuracy: 0.9642\n",
      "\n"
     ]
    },
    {
     "name": "stdout",
     "output_type": "stream",
     "text": [
      "Epoch 120, Loss 0.0437\n",
      "Training Accuracy: 0.9556, Testing Accuracy: 0.9657\n",
      "\n"
     ]
    },
    {
     "name": "stdout",
     "output_type": "stream",
     "text": [
      "Epoch 130, Loss 0.0428\n",
      "Training Accuracy: 0.9561, Testing Accuracy: 0.9662\n",
      "\n"
     ]
    },
    {
     "name": "stdout",
     "output_type": "stream",
     "text": [
      "Epoch 140, Loss 0.0419\n",
      "Training Accuracy: 0.9564, Testing Accuracy: 0.9677\n",
      "\n"
     ]
    },
    {
     "name": "stdout",
     "output_type": "stream",
     "text": [
      "Epoch 150, Loss 0.0412\n",
      "Training Accuracy: 0.9572, Testing Accuracy: 0.9682\n",
      "\n"
     ]
    },
    {
     "name": "stdout",
     "output_type": "stream",
     "text": [
      "Epoch 160, Loss 0.0405\n",
      "Training Accuracy: 0.9579, Testing Accuracy: 0.9677\n",
      "\n"
     ]
    },
    {
     "name": "stdout",
     "output_type": "stream",
     "text": [
      "Epoch 170, Loss 0.0399\n",
      "Training Accuracy: 0.9582, Testing Accuracy: 0.9677\n",
      "\n"
     ]
    },
    {
     "name": "stdout",
     "output_type": "stream",
     "text": [
      "Epoch 180, Loss 0.0394\n",
      "Training Accuracy: 0.9590, Testing Accuracy: 0.9682\n",
      "\n"
     ]
    },
    {
     "name": "stdout",
     "output_type": "stream",
     "text": [
      "Epoch 190, Loss 0.0389\n",
      "Training Accuracy: 0.9593, Testing Accuracy: 0.9677\n",
      "\n"
     ]
    },
    {
     "name": "stdout",
     "output_type": "stream",
     "text": [
      "Epoch 200, Loss 0.0384\n",
      "Training Accuracy: 0.9597, Testing Accuracy: 0.9682\n",
      "\n"
     ]
    },
    {
     "name": "stdout",
     "output_type": "stream",
     "text": [
      "Epoch 210, Loss 0.038\n",
      "Training Accuracy: 0.9600, Testing Accuracy: 0.9682\n",
      "\n"
     ]
    },
    {
     "name": "stdout",
     "output_type": "stream",
     "text": [
      "Epoch 220, Loss 0.0376\n",
      "Training Accuracy: 0.9604, Testing Accuracy: 0.9682\n",
      "\n"
     ]
    },
    {
     "name": "stdout",
     "output_type": "stream",
     "text": [
      "Epoch 230, Loss 0.0372\n",
      "Training Accuracy: 0.9604, Testing Accuracy: 0.9682\n",
      "\n"
     ]
    },
    {
     "name": "stdout",
     "output_type": "stream",
     "text": [
      "Epoch 240, Loss 0.0368\n",
      "Training Accuracy: 0.9606, Testing Accuracy: 0.9682\n",
      "\n"
     ]
    },
    {
     "data": {
      "text/plain": [
       "0.013693664429451004"
      ]
     },
     "execution_count": 23,
     "metadata": {},
     "output_type": "execute_result"
    }
   ],
   "source": [
    "lr_learner.train_loop(dl)"
   ]
  },
  {
   "cell_type": "code",
   "execution_count": 24,
   "id": "ca410940",
   "metadata": {
    "execution": {
     "iopub.execute_input": "2021-10-06T10:10:10.555307Z",
     "iopub.status.busy": "2021-10-06T10:10:10.554687Z",
     "iopub.status.idle": "2021-10-06T10:10:10.870620Z",
     "shell.execute_reply": "2021-10-06T10:10:10.870144Z"
    },
    "papermill": {
     "duration": 0.373723,
     "end_time": "2021-10-06T10:10:10.870750",
     "exception": false,
     "start_time": "2021-10-06T10:10:10.497027",
     "status": "completed"
    },
    "tags": []
   },
   "outputs": [
    {
     "data": {
      "text/plain": [
       "<matplotlib.legend.Legend at 0x7fa8c49f88d0>"
      ]
     },
     "execution_count": 24,
     "metadata": {},
     "output_type": "execute_result"
    },
    {
     "data": {
      "image/png": "[encoded data removed]",
      "text/plain": [
       "<Figure size 1080x720 with 1 Axes>"
      ]
     },
     "metadata": {
      "needs_background": "light"
     },
     "output_type": "display_data"
    }
   ],
   "source": [
    "#comparing the results of NN and LR\n",
    "plt.figure(figsize=(15,10))\n",
    "\n",
    "# Neural Network plots\n",
    "plt.plot(acc_nn.accuracies, 'r-', label = \"Training Accuracies - NN\")\n",
    "plt.plot(acc_nn.test_accuracies, 'g-', label = \"Testing Accuracies - NN\")\n",
    "\n",
    "# Logistic Regression plots\n",
    "plt.plot(acc_lr.accuracies, 'k-', label = \"Training Accuracies - LR\")\n",
    "plt.plot(acc_lr.test_accuracies, 'b-', label = \"Testing Accuracies - LR\")\n",
    "plt.legend()"
   ]
  },
  {
   "cell_type": "markdown",
   "id": "80dfb35c",
   "metadata": {
    "papermill": {
     "duration": 0.052042,
     "end_time": "2021-10-06T10:10:10.973774",
     "exception": false,
     "start_time": "2021-10-06T10:10:10.921732",
     "status": "completed"
    },
    "tags": []
   },
   "source": [
    "#### Plotting the outputs of this layer of the NN.\n"
   ]
  },
  {
   "cell_type": "code",
   "execution_count": 25,
   "id": "45eb2ff5",
   "metadata": {
    "execution": {
     "iopub.execute_input": "2021-10-06T10:10:11.086296Z",
     "iopub.status.busy": "2021-10-06T10:10:11.085680Z",
     "iopub.status.idle": "2021-10-06T10:10:11.113579Z",
     "shell.execute_reply": "2021-10-06T10:10:11.114483Z"
    },
    "papermill": {
     "duration": 0.084182,
     "end_time": "2021-10-06T10:10:11.114661",
     "exception": false,
     "start_time": "2021-10-06T10:10:11.030479",
     "status": "completed"
    },
    "tags": []
   },
   "outputs": [],
   "source": [
    "new_model = Model(layers[:-2])\n",
    "testing_plot = new_model(testing_data_x)"
   ]
  },
  {
   "cell_type": "code",
   "execution_count": 26,
   "id": "4c0a5485",
   "metadata": {
    "execution": {
     "iopub.execute_input": "2021-10-06T10:10:11.235555Z",
     "iopub.status.busy": "2021-10-06T10:10:11.234718Z",
     "iopub.status.idle": "2021-10-06T10:10:11.508667Z",
     "shell.execute_reply": "2021-10-06T10:10:11.509134Z"
    },
    "papermill": {
     "duration": 0.34086,
     "end_time": "2021-10-06T10:10:11.509291",
     "exception": false,
     "start_time": "2021-10-06T10:10:11.168431",
     "status": "completed"
    },
    "tags": []
   },
   "outputs": [
    {
     "data": {
      "text/plain": [
       "Text(0.5, 1.0, 'Outputs')"
      ]
     },
     "execution_count": 26,
     "metadata": {},
     "output_type": "execute_result"
    },
    {
     "data": {
      "image/png": "[encoded data removed]",
      "text/plain": [
       "<Figure size 576x504 with 1 Axes>"
      ]
     },
     "metadata": {
      "needs_background": "light"
     },
     "output_type": "display_data"
    }
   ],
   "source": [
    "# Plotting the scatter plot of points and color coding by class\n",
    "plt.figure(figsize=(8,7))\n",
    "plt.scatter(testing_plot[:,0], testing_plot[:,1], alpha = 0.1, c = y_test.ravel());\n",
    "plt.title('Outputs')"
   ]
  },
  {
   "cell_type": "markdown",
   "id": "a74fcf8f",
   "metadata": {
    "papermill": {
     "duration": 0.056055,
     "end_time": "2021-10-06T10:10:11.617922",
     "exception": false,
     "start_time": "2021-10-06T10:10:11.561867",
     "status": "completed"
    },
    "tags": []
   },
   "source": [
    "Probability contours"
   ]
  },
  {
   "cell_type": "code",
   "execution_count": 27,
   "id": "d0afc8e3",
   "metadata": {
    "execution": {
     "iopub.execute_input": "2021-10-06T10:10:11.784272Z",
     "iopub.status.busy": "2021-10-06T10:10:11.783680Z",
     "iopub.status.idle": "2021-10-06T10:10:11.792304Z",
     "shell.execute_reply": "2021-10-06T10:10:11.791789Z"
    },
    "papermill": {
     "duration": 0.119182,
     "end_time": "2021-10-06T10:10:11.792430",
     "exception": false,
     "start_time": "2021-10-06T10:10:11.673248",
     "status": "completed"
    },
    "tags": []
   },
   "outputs": [],
   "source": [
    "model_prob = Model(layers[-2:]) "
   ]
  },
  {
   "cell_type": "code",
   "execution_count": 28,
   "id": "9b96e238",
   "metadata": {
    "execution": {
     "iopub.execute_input": "2021-10-06T10:10:11.908192Z",
     "iopub.status.busy": "2021-10-06T10:10:11.905771Z",
     "iopub.status.idle": "2021-10-06T10:10:11.920962Z",
     "shell.execute_reply": "2021-10-06T10:10:11.921433Z"
    },
    "papermill": {
     "duration": 0.073336,
     "end_time": "2021-10-06T10:10:11.921574",
     "exception": false,
     "start_time": "2021-10-06T10:10:11.848238",
     "status": "completed"
    },
    "tags": []
   },
   "outputs": [],
   "source": [
    "#creating the x and y ranges according to the above generated plot.\n",
    "x_range = np.linspace(-4, 1, 100) \n",
    "y_range = np.linspace(-6, 6, 100) \n",
    "x_grid, y_grid = np.meshgrid(x_range, y_range) # x_grid and y_grig are of size 100 X 100\n",
    "\n",
    "# converting x_grid and y_grid to continuous arrays\n",
    "x_gridflat = np.ravel(x_grid)\n",
    "y_gridflat = np.ravel(y_grid)\n",
    "\n",
    "# The last layer of the current model takes two columns as input. Hence transpose of np.vstack() is required.\n",
    "X = np.vstack((x_gridflat, y_gridflat)).T\n",
    "\n",
    "prob_contour = model_prob(X).reshape(100,100) "
   ]
  },
  {
   "cell_type": "code",
   "execution_count": 29,
   "id": "da72499a",
   "metadata": {
    "execution": {
     "iopub.execute_input": "2021-10-06T10:10:12.038364Z",
     "iopub.status.busy": "2021-10-06T10:10:12.037688Z",
     "iopub.status.idle": "2021-10-06T10:10:12.349198Z",
     "shell.execute_reply": "2021-10-06T10:10:12.349638Z"
    },
    "papermill": {
     "duration": 0.366631,
     "end_time": "2021-10-06T10:10:12.349788",
     "exception": false,
     "start_time": "2021-10-06T10:10:11.983157",
     "status": "completed"
    },
    "tags": []
   },
   "outputs": [
    {
     "data": {
      "image/png": "[encoded data removed]",
      "text/plain": [
       "<Figure size 720x648 with 1 Axes>"
      ]
     },
     "metadata": {
      "needs_background": "light"
     },
     "output_type": "display_data"
    }
   ],
   "source": [
    "plt.figure(figsize=(10,9))\n",
    "plt.scatter(testing_plot[:,0], testing_plot[:,1], alpha = 0.1, c = y_test.ravel())\n",
    "contours = plt.contour(x_grid,y_grid,prob_contour)\n",
    "plt.title('Probability Contours')\n",
    "plt.clabel(contours, inline = True );"
   ]
  },
  {
   "cell_type": "code",
   "execution_count": null,
   "id": "e81b4ac7",
   "metadata": {
    "papermill": {
     "duration": 0.055641,
     "end_time": "2021-10-06T10:10:12.457889",
     "exception": false,
     "start_time": "2021-10-06T10:10:12.402248",
     "status": "completed"
    },
    "tags": []
   },
   "outputs": [],
   "source": []
  }
 ],
 "metadata": {
  "kernelspec": {
   "display_name": "Python 3",
   "language": "python",
   "name": "python3"
  },
  "language_info": {
   "codemirror_mode": {
    "name": "ipython",
    "version": 3
   },
   "file_extension": ".py",
   "mimetype": "text/x-python",
   "name": "python",
   "nbconvert_exporter": "python",
   "pygments_lexer": "ipython3",
   "version": "3.6.15"
  },
  "papermill": {
   "default_parameters": {},
   "duration": 174.913792,
   "end_time": "2021-10-06T10:10:12.917690",
   "environment_variables": {},
   "exception": null,
   "input_path": "2020-08-11-part2.ipynb",
   "output_path": "2020-08-11-part2.ipynb",
   "parameters": {},
   "start_time": "2021-10-06T10:07:18.003898",
   "version": "2.3.3"
  }
 },
 "nbformat": 4,
 "nbformat_minor": 5
}