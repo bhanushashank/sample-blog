{
 "cells": [
  {
   "cell_type": "markdown",
   "id": "98380cd3",
   "metadata": {
    "papermill": {
     "duration": 0.034315,
     "end_time": "2022-01-23T10:07:32.078239",
     "exception": false,
     "start_time": "2022-01-23T10:07:32.043924",
     "status": "completed"
    },
    "tags": []
   },
   "source": [
    "# Distinguish Your Own Digits (DYOD)"
   ]
  },
  {
   "cell_type": "markdown",
   "id": "ef31240d",
   "metadata": {
    "papermill": {
     "duration": 0.027006,
     "end_time": "2022-01-23T10:07:32.132771",
     "exception": false,
     "start_time": "2022-01-23T10:07:32.105765",
     "status": "completed"
    },
    "tags": []
   },
   "source": [
    "You are going to write a classifier that distinguishes between the number 3 and number 8."
   ]
  },
  {
   "cell_type": "code",
   "execution_count": 1,
   "id": "b15c8646",
   "metadata": {
    "execution": {
     "iopub.execute_input": "2022-01-23T10:07:32.201950Z",
     "iopub.status.busy": "2022-01-23T10:07:32.201044Z",
     "iopub.status.idle": "2022-01-23T10:07:32.212408Z",
     "shell.execute_reply": "2022-01-23T10:07:32.212919Z"
    },
    "papermill": {
     "duration": 0.053966,
     "end_time": "2022-01-23T10:07:32.213171",
     "exception": false,
     "start_time": "2022-01-23T10:07:32.159205",
     "status": "completed"
    },
    "tags": []
   },
   "outputs": [],
   "source": [
    "%load_ext autoreload\n",
    "%autoreload 2"
   ]
  },
  {
   "cell_type": "code",
   "execution_count": 2,
   "id": "22ef38dc",
   "metadata": {
    "execution": {
     "iopub.execute_input": "2022-01-23T10:07:32.286025Z",
     "iopub.status.busy": "2022-01-23T10:07:32.285381Z",
     "iopub.status.idle": "2022-01-23T10:07:32.959354Z",
     "shell.execute_reply": "2022-01-23T10:07:32.958776Z"
    },
    "papermill": {
     "duration": 0.712585,
     "end_time": "2022-01-23T10:07:32.959520",
     "exception": false,
     "start_time": "2022-01-23T10:07:32.246935",
     "status": "completed"
    },
    "tags": []
   },
   "outputs": [],
   "source": [
    "%matplotlib inline\n",
    "import numpy as np\n",
    "import matplotlib.pyplot as plt\n",
    "import pandas as pd"
   ]
  },
  {
   "cell_type": "markdown",
   "id": "ba036198",
   "metadata": {
    "papermill": {
     "duration": 0.032427,
     "end_time": "2022-01-23T10:07:33.022721",
     "exception": false,
     "start_time": "2022-01-23T10:07:32.990294",
     "status": "completed"
    },
    "tags": []
   },
   "source": [
    "From the command line run `pip install mnist`. This is a library that will help you bring down the mnist dataset. If you run this from a notebook, you need to put  `!pip install mnist` in a cell by itself."
   ]
  },
  {
   "cell_type": "code",
   "execution_count": 3,
   "id": "bb6ad8a1",
   "metadata": {
    "execution": {
     "iopub.execute_input": "2022-01-23T10:07:33.082150Z",
     "iopub.status.busy": "2022-01-23T10:07:33.081551Z",
     "iopub.status.idle": "2022-01-23T10:07:35.066183Z",
     "shell.execute_reply": "2022-01-23T10:07:35.065118Z"
    },
    "papermill": {
     "duration": 2.016301,
     "end_time": "2022-01-23T10:07:35.066338",
     "exception": false,
     "start_time": "2022-01-23T10:07:33.050037",
     "status": "completed"
    },
    "tags": []
   },
   "outputs": [
    {
     "name": "stdout",
     "output_type": "stream",
     "text": [
      "Collecting mnist\r\n"
     ]
    },
    {
     "name": "stdout",
     "output_type": "stream",
     "text": [
      "  Downloading mnist-0.2.2-py2.py3-none-any.whl (3.5 kB)\r\n"
     ]
    },
    {
     "name": "stdout",
     "output_type": "stream",
     "text": [
      "Requirement already satisfied: numpy in /opt/hostedtoolcache/Python/3.6.15/x64/lib/python3.6/site-packages (from mnist) (1.19.5)\r\n"
     ]
    },
    {
     "name": "stdout",
     "output_type": "stream",
     "text": [
      "Installing collected packages: mnist\r\n"
     ]
    },
    {
     "name": "stdout",
     "output_type": "stream",
     "text": [
      "Successfully installed mnist-0.2.2\r\n"
     ]
    }
   ],
   "source": [
    "!pip install mnist"
   ]
  },
  {
   "cell_type": "markdown",
   "id": "69df9c9a",
   "metadata": {
    "papermill": {
     "duration": 0.028973,
     "end_time": "2022-01-23T10:07:35.123743",
     "exception": false,
     "start_time": "2022-01-23T10:07:35.094770",
     "status": "completed"
    },
    "tags": []
   },
   "source": [
    "## Preparing the Data"
   ]
  },
  {
   "cell_type": "code",
   "execution_count": 4,
   "id": "7f69d806",
   "metadata": {
    "execution": {
     "iopub.execute_input": "2022-01-23T10:07:35.186003Z",
     "iopub.status.busy": "2022-01-23T10:07:35.185407Z",
     "iopub.status.idle": "2022-01-23T10:07:35.202420Z",
     "shell.execute_reply": "2022-01-23T10:07:35.201899Z"
    },
    "papermill": {
     "duration": 0.050631,
     "end_time": "2022-01-23T10:07:35.202554",
     "exception": false,
     "start_time": "2022-01-23T10:07:35.151923",
     "status": "completed"
    },
    "tags": []
   },
   "outputs": [],
   "source": [
    "import mnist"
   ]
  },
  {
   "cell_type": "code",
   "execution_count": 5,
   "id": "a411e44f",
   "metadata": {
    "execution": {
     "iopub.execute_input": "2022-01-23T10:07:35.269789Z",
     "iopub.status.busy": "2022-01-23T10:07:35.267151Z",
     "iopub.status.idle": "2022-01-23T10:07:35.816248Z",
     "shell.execute_reply": "2022-01-23T10:07:35.815556Z"
    },
    "papermill": {
     "duration": 0.584371,
     "end_time": "2022-01-23T10:07:35.816385",
     "exception": false,
     "start_time": "2022-01-23T10:07:35.232014",
     "status": "completed"
    },
    "tags": []
   },
   "outputs": [],
   "source": [
    "train_images = mnist.train_images()\n",
    "train_labels = mnist.train_labels()"
   ]
  },
  {
   "cell_type": "code",
   "execution_count": 6,
   "id": "dceab3a5",
   "metadata": {
    "execution": {
     "iopub.execute_input": "2022-01-23T10:07:35.878293Z",
     "iopub.status.busy": "2022-01-23T10:07:35.877697Z",
     "iopub.status.idle": "2022-01-23T10:07:35.894496Z",
     "shell.execute_reply": "2022-01-23T10:07:35.893995Z"
    },
    "papermill": {
     "duration": 0.049923,
     "end_time": "2022-01-23T10:07:35.894622",
     "exception": false,
     "start_time": "2022-01-23T10:07:35.844699",
     "status": "completed"
    },
    "tags": []
   },
   "outputs": [
    {
     "data": {
      "text/plain": [
       "((60000, 28, 28), (60000,))"
      ]
     },
     "execution_count": 6,
     "metadata": {},
     "output_type": "execute_result"
    }
   ],
   "source": [
    "train_images.shape, train_labels.shape"
   ]
  },
  {
   "cell_type": "code",
   "execution_count": 7,
   "id": "f50dc2bb",
   "metadata": {
    "execution": {
     "iopub.execute_input": "2022-01-23T10:07:35.956542Z",
     "iopub.status.busy": "2022-01-23T10:07:35.955935Z",
     "iopub.status.idle": "2022-01-23T10:07:36.071619Z",
     "shell.execute_reply": "2022-01-23T10:07:36.071007Z"
    },
    "papermill": {
     "duration": 0.14877,
     "end_time": "2022-01-23T10:07:36.071759",
     "exception": false,
     "start_time": "2022-01-23T10:07:35.922989",
     "status": "completed"
    },
    "tags": []
   },
   "outputs": [],
   "source": [
    "test_images = mnist.test_images()\n",
    "test_labels = mnist.test_labels()"
   ]
  },
  {
   "cell_type": "code",
   "execution_count": 8,
   "id": "fc38cf1b",
   "metadata": {
    "execution": {
     "iopub.execute_input": "2022-01-23T10:07:36.133428Z",
     "iopub.status.busy": "2022-01-23T10:07:36.132832Z",
     "iopub.status.idle": "2022-01-23T10:07:36.148526Z",
     "shell.execute_reply": "2022-01-23T10:07:36.148021Z"
    },
    "papermill": {
     "duration": 0.048118,
     "end_time": "2022-01-23T10:07:36.148653",
     "exception": false,
     "start_time": "2022-01-23T10:07:36.100535",
     "status": "completed"
    },
    "tags": []
   },
   "outputs": [
    {
     "data": {
      "text/plain": [
       "((10000, 28, 28), (10000,))"
      ]
     },
     "execution_count": 8,
     "metadata": {},
     "output_type": "execute_result"
    }
   ],
   "source": [
    "test_images.shape, test_labels.shape"
   ]
  },
  {
   "cell_type": "code",
   "execution_count": 9,
   "id": "f9ed8fe0",
   "metadata": {
    "execution": {
     "iopub.execute_input": "2022-01-23T10:07:36.211265Z",
     "iopub.status.busy": "2022-01-23T10:07:36.210142Z",
     "iopub.status.idle": "2022-01-23T10:07:36.370701Z",
     "shell.execute_reply": "2022-01-23T10:07:36.370182Z"
    },
    "papermill": {
     "duration": 0.193412,
     "end_time": "2022-01-23T10:07:36.370844",
     "exception": false,
     "start_time": "2022-01-23T10:07:36.177432",
     "status": "completed"
    },
    "tags": []
   },
   "outputs": [
    {
     "name": "stdout",
     "output_type": "stream",
     "text": [
      "2\n"
     ]
    },
    {
     "data": {
      "text/plain": [
       "<matplotlib.image.AxesImage at 0x7fe66e268a20>"
      ]
     },
     "execution_count": 9,
     "metadata": {},
     "output_type": "execute_result"
    },
    {
     "data": {
      "image/png": "[encoded data removed]",
      "text/plain": [
       "<Figure size 432x288 with 1 Axes>"
      ]
     },
     "metadata": {
      "needs_background": "light"
     },
     "output_type": "display_data"
    }
   ],
   "source": [
    "image_index = 7776 # You may select anything up to 60,000\n",
    "print(train_labels[image_index]) \n",
    "plt.imshow(train_images[image_index], cmap='Greys')"
   ]
  },
  {
   "cell_type": "markdown",
   "id": "a8d2388d",
   "metadata": {
    "papermill": {
     "duration": 0.029948,
     "end_time": "2022-01-23T10:07:36.431174",
     "exception": false,
     "start_time": "2022-01-23T10:07:36.401226",
     "status": "completed"
    },
    "tags": []
   },
   "source": [
    "## Filter data to get 3 and 8 out"
   ]
  },
  {
   "cell_type": "code",
   "execution_count": 10,
   "id": "776f7fc7",
   "metadata": {
    "execution": {
     "iopub.execute_input": "2022-01-23T10:07:36.497535Z",
     "iopub.status.busy": "2022-01-23T10:07:36.496090Z",
     "iopub.status.idle": "2022-01-23T10:07:36.516474Z",
     "shell.execute_reply": "2022-01-23T10:07:36.515882Z"
    },
    "papermill": {
     "duration": 0.0555,
     "end_time": "2022-01-23T10:07:36.516608",
     "exception": false,
     "start_time": "2022-01-23T10:07:36.461108",
     "status": "completed"
    },
    "tags": []
   },
   "outputs": [],
   "source": [
    "train_filter = np.where((train_labels == 3 ) | (train_labels == 8))\n",
    "test_filter = np.where((test_labels == 3) | (test_labels == 8))\n",
    "X_train, y_train = train_images[train_filter], train_labels[train_filter]\n",
    "X_test, y_test = test_images[test_filter], test_labels[test_filter]"
   ]
  },
  {
   "cell_type": "markdown",
   "id": "948f0b7e",
   "metadata": {
    "papermill": {
     "duration": 0.030367,
     "end_time": "2022-01-23T10:07:36.577255",
     "exception": false,
     "start_time": "2022-01-23T10:07:36.546888",
     "status": "completed"
    },
    "tags": []
   },
   "source": [
    "We normalize the pizel values in the 0 to 1 range"
   ]
  },
  {
   "cell_type": "code",
   "execution_count": 11,
   "id": "ee4c2166",
   "metadata": {
    "execution": {
     "iopub.execute_input": "2022-01-23T10:07:36.644325Z",
     "iopub.status.busy": "2022-01-23T10:07:36.641709Z",
     "iopub.status.idle": "2022-01-23T10:07:36.695210Z",
     "shell.execute_reply": "2022-01-23T10:07:36.694298Z"
    },
    "papermill": {
     "duration": 0.08817,
     "end_time": "2022-01-23T10:07:36.695423",
     "exception": false,
     "start_time": "2022-01-23T10:07:36.607253",
     "status": "completed"
    },
    "tags": []
   },
   "outputs": [],
   "source": [
    "X_train = X_train/255.\n",
    "X_test = X_test/255."
   ]
  },
  {
   "cell_type": "markdown",
   "id": "ddcf4fab",
   "metadata": {
    "papermill": {
     "duration": 0.029952,
     "end_time": "2022-01-23T10:07:36.757885",
     "exception": false,
     "start_time": "2022-01-23T10:07:36.727933",
     "status": "completed"
    },
    "tags": []
   },
   "source": [
    "And setup the labels as 1 (when the digit is 3) and 0 (when the digit is 8)"
   ]
  },
  {
   "cell_type": "code",
   "execution_count": 12,
   "id": "7dc908f2",
   "metadata": {
    "execution": {
     "iopub.execute_input": "2022-01-23T10:07:36.822536Z",
     "iopub.status.busy": "2022-01-23T10:07:36.821899Z",
     "iopub.status.idle": "2022-01-23T10:07:36.836781Z",
     "shell.execute_reply": "2022-01-23T10:07:36.836316Z"
    },
    "papermill": {
     "duration": 0.048858,
     "end_time": "2022-01-23T10:07:36.836877",
     "exception": false,
     "start_time": "2022-01-23T10:07:36.788019",
     "status": "completed"
    },
    "tags": []
   },
   "outputs": [],
   "source": [
    "y_train = 1*(y_train==3)\n",
    "y_test = 1*(y_test==3)"
   ]
  },
  {
   "cell_type": "code",
   "execution_count": 13,
   "id": "01e4e969",
   "metadata": {
    "execution": {
     "iopub.execute_input": "2022-01-23T10:07:36.900513Z",
     "iopub.status.busy": "2022-01-23T10:07:36.899908Z",
     "iopub.status.idle": "2022-01-23T10:07:36.915689Z",
     "shell.execute_reply": "2022-01-23T10:07:36.915158Z"
    },
    "papermill": {
     "duration": 0.049304,
     "end_time": "2022-01-23T10:07:36.915818",
     "exception": false,
     "start_time": "2022-01-23T10:07:36.866514",
     "status": "completed"
    },
    "tags": []
   },
   "outputs": [
    {
     "data": {
      "text/plain": [
       "((11982, 28, 28), (1984, 28, 28))"
      ]
     },
     "execution_count": 13,
     "metadata": {},
     "output_type": "execute_result"
    }
   ],
   "source": [
    "X_train.shape, X_test.shape"
   ]
  },
  {
   "cell_type": "markdown",
   "id": "5ccf3f85",
   "metadata": {
    "papermill": {
     "duration": 0.030202,
     "end_time": "2022-01-23T10:07:36.976053",
     "exception": false,
     "start_time": "2022-01-23T10:07:36.945851",
     "status": "completed"
    },
    "tags": []
   },
   "source": [
    "We reshape the data to flatten the image pixels into a set of features or co-variates:"
   ]
  },
  {
   "cell_type": "code",
   "execution_count": 14,
   "id": "5286a4a3",
   "metadata": {
    "execution": {
     "iopub.execute_input": "2022-01-23T10:07:37.041191Z",
     "iopub.status.busy": "2022-01-23T10:07:37.040600Z",
     "iopub.status.idle": "2022-01-23T10:07:37.058235Z",
     "shell.execute_reply": "2022-01-23T10:07:37.058740Z"
    },
    "papermill": {
     "duration": 0.052463,
     "end_time": "2022-01-23T10:07:37.058890",
     "exception": false,
     "start_time": "2022-01-23T10:07:37.006427",
     "status": "completed"
    },
    "tags": []
   },
   "outputs": [
    {
     "data": {
      "text/plain": [
       "((11982, 784), (1984, 784))"
      ]
     },
     "execution_count": 14,
     "metadata": {},
     "output_type": "execute_result"
    }
   ],
   "source": [
    "X_train = X_train.reshape(X_train.shape[0], -1)\n",
    "X_test = X_test.reshape(X_test.shape[0], -1)\n",
    "X_train.shape, X_test.shape"
   ]
  },
  {
   "cell_type": "code",
   "execution_count": 15,
   "id": "73c5f88a",
   "metadata": {
    "execution": {
     "iopub.execute_input": "2022-01-23T10:07:37.125534Z",
     "iopub.status.busy": "2022-01-23T10:07:37.124931Z",
     "iopub.status.idle": "2022-01-23T10:07:37.151384Z",
     "shell.execute_reply": "2022-01-23T10:07:37.152018Z"
    },
    "papermill": {
     "duration": 0.062451,
     "end_time": "2022-01-23T10:07:37.152211",
     "exception": false,
     "start_time": "2022-01-23T10:07:37.089760",
     "status": "completed"
    },
    "tags": []
   },
   "outputs": [],
   "source": [
    "#Impoting functions from 'Kudzu'\n",
    "from kudzu.model import Model\n",
    "from kudzu.train import Learner\n",
    "from kudzu.optim import GD\n",
    "from kudzu.data import Data, Sampler,Dataloader\n",
    "\n",
    "from kudzu.callbacks import AccCallback\n",
    "from kudzu.callbacks import ClfCallback\n",
    "\n",
    "from kudzu.loss import MSE\n",
    "\n",
    "from kudzu.layer import Sigmoid,Relu\n",
    "from kudzu.layer import Affine"
   ]
  },
  {
   "cell_type": "markdown",
   "id": "bc01172a",
   "metadata": {
    "papermill": {
     "duration": 0.030774,
     "end_time": "2022-01-23T10:07:37.215630",
     "exception": false,
     "start_time": "2022-01-23T10:07:37.184856",
     "status": "completed"
    },
    "tags": []
   },
   "source": [
    "### Let us create a `Config` class, to store important parameters. \n",
    "This class essentially plays the role of a dictionary."
   ]
  },
  {
   "cell_type": "code",
   "execution_count": 16,
   "id": "978281aa",
   "metadata": {
    "execution": {
     "iopub.execute_input": "2022-01-23T10:07:37.285746Z",
     "iopub.status.busy": "2022-01-23T10:07:37.285080Z",
     "iopub.status.idle": "2022-01-23T10:07:37.298022Z",
     "shell.execute_reply": "2022-01-23T10:07:37.297527Z"
    },
    "papermill": {
     "duration": 0.052078,
     "end_time": "2022-01-23T10:07:37.298157",
     "exception": false,
     "start_time": "2022-01-23T10:07:37.246079",
     "status": "completed"
    },
    "tags": []
   },
   "outputs": [],
   "source": [
    "class Config:\n",
    "    pass\n",
    "config = Config()\n",
    "config.lr = 0.001\n",
    "config.num_epochs = 250\n",
    "config.bs = 50"
   ]
  },
  {
   "cell_type": "markdown",
   "id": "1385fa59",
   "metadata": {
    "papermill": {
     "duration": 0.036949,
     "end_time": "2022-01-23T10:07:37.369063",
     "exception": false,
     "start_time": "2022-01-23T10:07:37.332114",
     "status": "completed"
    },
    "tags": []
   },
   "source": [
    "### Running Models with the Training data\n",
    "Details about the network layers:\n",
    "- A first affine layer has 784 inputs and does 100 affine transforms. These are followed by a Relu\n",
    "- A second affine layer has 100 inputs from the 100 activations of the past layer, and does 100 affine transforms. These are followed by a Relu\n",
    "- A third affine layer has 100 activations and does 2 affine transformations to create an embedding for visualization. There is no non-linearity here.\n",
    "- A final \"logistic regression\" which has an affine transform from 2 inputs to 1 output, which is squeezed through a sigmoid.\n"
   ]
  },
  {
   "cell_type": "code",
   "execution_count": 17,
   "id": "2b9c66db",
   "metadata": {
    "execution": {
     "iopub.execute_input": "2022-01-23T10:07:37.443076Z",
     "iopub.status.busy": "2022-01-23T10:07:37.442264Z",
     "iopub.status.idle": "2022-01-23T10:07:37.455762Z",
     "shell.execute_reply": "2022-01-23T10:07:37.455275Z"
    },
    "papermill": {
     "duration": 0.051618,
     "end_time": "2022-01-23T10:07:37.455885",
     "exception": false,
     "start_time": "2022-01-23T10:07:37.404267",
     "status": "completed"
    },
    "tags": []
   },
   "outputs": [],
   "source": [
    "data = Data(X_train, y_train.reshape(-1,1))\n",
    "sampler = Sampler(data, config.bs, shuffle=True)\n",
    "\n",
    "dl = Dataloader(data, sampler)\n",
    "\n",
    "opt = GD(config.lr)\n",
    "loss = MSE()"
   ]
  },
  {
   "cell_type": "code",
   "execution_count": 18,
   "id": "b275e4c2",
   "metadata": {
    "execution": {
     "iopub.execute_input": "2022-01-23T10:07:37.533280Z",
     "iopub.status.busy": "2022-01-23T10:07:37.532641Z",
     "iopub.status.idle": "2022-01-23T10:07:37.547097Z",
     "shell.execute_reply": "2022-01-23T10:07:37.546529Z"
    },
    "papermill": {
     "duration": 0.057206,
     "end_time": "2022-01-23T10:07:37.547229",
     "exception": false,
     "start_time": "2022-01-23T10:07:37.490023",
     "status": "completed"
    },
    "tags": []
   },
   "outputs": [],
   "source": [
    "training_data_x = X_train\n",
    "testing_data_x = X_test\n",
    "training_data_y = y_train.reshape(-1,1)\n",
    "testing_data_y = y_test.reshape(-1,1)"
   ]
  },
  {
   "cell_type": "code",
   "execution_count": 19,
   "id": "76951160",
   "metadata": {
    "execution": {
     "iopub.execute_input": "2022-01-23T10:07:37.624421Z",
     "iopub.status.busy": "2022-01-23T10:07:37.623562Z",
     "iopub.status.idle": "2022-01-23T10:07:37.643367Z",
     "shell.execute_reply": "2022-01-23T10:07:37.642864Z"
    },
    "papermill": {
     "duration": 0.058537,
     "end_time": "2022-01-23T10:07:37.643516",
     "exception": false,
     "start_time": "2022-01-23T10:07:37.584979",
     "status": "completed"
    },
    "tags": []
   },
   "outputs": [
    {
     "name": "stdout",
     "output_type": "stream",
     "text": [
      "xavier\n",
      "xavier\n",
      "xavier\n",
      "xavier\n",
      "xavier\n"
     ]
    }
   ],
   "source": [
    "layers = [Affine(\"first\", 784, 100), Relu(\"first\"), Affine(\"second\", 100, 100), Relu(\"second\"), Affine(\"third\", 100, 2), Affine(\"last\", 2, 1), Sigmoid(\"last\")]\n",
    "model_nn = Model(layers)\n",
    "model_lr = Model([Affine(\"logits\", 784, 1), Sigmoid(\"sigmoid\")])"
   ]
  },
  {
   "cell_type": "code",
   "execution_count": 20,
   "id": "6eede77a",
   "metadata": {
    "execution": {
     "iopub.execute_input": "2022-01-23T10:07:37.714778Z",
     "iopub.status.busy": "2022-01-23T10:07:37.714180Z",
     "iopub.status.idle": "2022-01-23T10:07:37.730774Z",
     "shell.execute_reply": "2022-01-23T10:07:37.730292Z"
    },
    "papermill": {
     "duration": 0.055215,
     "end_time": "2022-01-23T10:07:37.730905",
     "exception": false,
     "start_time": "2022-01-23T10:07:37.675690",
     "status": "completed"
    },
    "tags": []
   },
   "outputs": [],
   "source": [
    "nn_learner = Learner(loss, model_nn, opt, config.num_epochs)\n",
    "acc_nn = ClfCallback(nn_learner, config.bs, training_data_x , testing_data_x, training_data_y, testing_data_y)\n",
    "nn_learner.set_callbacks([acc_nn])"
   ]
  },
  {
   "cell_type": "code",
   "execution_count": 21,
   "id": "877b6cc7",
   "metadata": {
    "execution": {
     "iopub.execute_input": "2022-01-23T10:07:37.802976Z",
     "iopub.status.busy": "2022-01-23T10:07:37.802271Z",
     "iopub.status.idle": "2022-01-23T10:07:37.818124Z",
     "shell.execute_reply": "2022-01-23T10:07:37.817423Z"
    },
    "papermill": {
     "duration": 0.054171,
     "end_time": "2022-01-23T10:07:37.818259",
     "exception": false,
     "start_time": "2022-01-23T10:07:37.764088",
     "status": "completed"
    },
    "tags": []
   },
   "outputs": [],
   "source": [
    "lr_learner = Learner(loss, model_lr, opt, config.num_epochs)\n",
    "acc_lr = ClfCallback(lr_learner, config.bs, training_data_x , testing_data_x, training_data_y, testing_data_y)\n",
    "lr_learner.set_callbacks([acc_lr])"
   ]
  },
  {
   "cell_type": "code",
   "execution_count": 22,
   "id": "d9b133c3",
   "metadata": {
    "execution": {
     "iopub.execute_input": "2022-01-23T10:07:37.896466Z",
     "iopub.status.busy": "2022-01-23T10:07:37.892711Z",
     "iopub.status.idle": "2022-01-23T10:09:06.600174Z",
     "shell.execute_reply": "2022-01-23T10:09:06.601019Z"
    },
    "papermill": {
     "duration": 88.747836,
     "end_time": "2022-01-23T10:09:06.601185",
     "exception": false,
     "start_time": "2022-01-23T10:07:37.853349",
     "status": "completed"
    },
    "tags": []
   },
   "outputs": [
    {
     "name": "stdout",
     "output_type": "stream",
     "text": [
      "Epoch 0, Loss 0.2494\n",
      "Training Accuracy: 0.5317, Testing Accuracy: 0.5262\n",
      "\n"
     ]
    },
    {
     "name": "stdout",
     "output_type": "stream",
     "text": [
      "Epoch 10, Loss 0.2437\n",
      "Training Accuracy: 0.7137, Testing Accuracy: 0.7041\n",
      "\n"
     ]
    },
    {
     "name": "stdout",
     "output_type": "stream",
     "text": [
      "Epoch 20, Loss 0.2163\n",
      "Training Accuracy: 0.8841, Testing Accuracy: 0.8962\n",
      "\n"
     ]
    },
    {
     "name": "stdout",
     "output_type": "stream",
     "text": [
      "Epoch 30, Loss 0.1216\n",
      "Training Accuracy: 0.9130, Testing Accuracy: 0.9229\n",
      "\n"
     ]
    },
    {
     "name": "stdout",
     "output_type": "stream",
     "text": [
      "Epoch 40, Loss 0.0672\n",
      "Training Accuracy: 0.9353, Testing Accuracy: 0.9441\n",
      "\n"
     ]
    },
    {
     "name": "stdout",
     "output_type": "stream",
     "text": [
      "Epoch 50, Loss 0.0501\n",
      "Training Accuracy: 0.9468, Testing Accuracy: 0.9531\n",
      "\n"
     ]
    },
    {
     "name": "stdout",
     "output_type": "stream",
     "text": [
      "Epoch 60, Loss 0.0421\n",
      "Training Accuracy: 0.9538, Testing Accuracy: 0.9582\n",
      "\n"
     ]
    },
    {
     "name": "stdout",
     "output_type": "stream",
     "text": [
      "Epoch 70, Loss 0.0375\n",
      "Training Accuracy: 0.9571, Testing Accuracy: 0.9612\n",
      "\n"
     ]
    },
    {
     "name": "stdout",
     "output_type": "stream",
     "text": [
      "Epoch 80, Loss 0.0345\n",
      "Training Accuracy: 0.9597, Testing Accuracy: 0.9617\n",
      "\n"
     ]
    },
    {
     "name": "stdout",
     "output_type": "stream",
     "text": [
      "Epoch 90, Loss 0.0323\n",
      "Training Accuracy: 0.9629, Testing Accuracy: 0.9622\n",
      "\n"
     ]
    },
    {
     "name": "stdout",
     "output_type": "stream",
     "text": [
      "Epoch 100, Loss 0.0307\n",
      "Training Accuracy: 0.9648, Testing Accuracy: 0.9627\n",
      "\n"
     ]
    },
    {
     "name": "stdout",
     "output_type": "stream",
     "text": [
      "Epoch 110, Loss 0.0293\n",
      "Training Accuracy: 0.9657, Testing Accuracy: 0.9637\n",
      "\n"
     ]
    },
    {
     "name": "stdout",
     "output_type": "stream",
     "text": [
      "Epoch 120, Loss 0.0282\n",
      "Training Accuracy: 0.9674, Testing Accuracy: 0.9652\n",
      "\n"
     ]
    },
    {
     "name": "stdout",
     "output_type": "stream",
     "text": [
      "Epoch 130, Loss 0.0273\n",
      "Training Accuracy: 0.9680, Testing Accuracy: 0.9662\n",
      "\n"
     ]
    },
    {
     "name": "stdout",
     "output_type": "stream",
     "text": [
      "Epoch 140, Loss 0.0264\n",
      "Training Accuracy: 0.9690, Testing Accuracy: 0.9677\n",
      "\n"
     ]
    },
    {
     "name": "stdout",
     "output_type": "stream",
     "text": [
      "Epoch 150, Loss 0.0257\n",
      "Training Accuracy: 0.9699, Testing Accuracy: 0.9682\n",
      "\n"
     ]
    },
    {
     "name": "stdout",
     "output_type": "stream",
     "text": [
      "Epoch 160, Loss 0.025\n",
      "Training Accuracy: 0.9708, Testing Accuracy: 0.9708\n",
      "\n"
     ]
    },
    {
     "name": "stdout",
     "output_type": "stream",
     "text": [
      "Epoch 170, Loss 0.0244\n",
      "Training Accuracy: 0.9717, Testing Accuracy: 0.9718\n",
      "\n"
     ]
    },
    {
     "name": "stdout",
     "output_type": "stream",
     "text": [
      "Epoch 180, Loss 0.0238\n",
      "Training Accuracy: 0.9724, Testing Accuracy: 0.9728\n",
      "\n"
     ]
    },
    {
     "name": "stdout",
     "output_type": "stream",
     "text": [
      "Epoch 190, Loss 0.0233\n",
      "Training Accuracy: 0.9730, Testing Accuracy: 0.9723\n",
      "\n"
     ]
    },
    {
     "name": "stdout",
     "output_type": "stream",
     "text": [
      "Epoch 200, Loss 0.0228\n",
      "Training Accuracy: 0.9735, Testing Accuracy: 0.9728\n",
      "\n"
     ]
    },
    {
     "name": "stdout",
     "output_type": "stream",
     "text": [
      "Epoch 210, Loss 0.0223\n",
      "Training Accuracy: 0.9742, Testing Accuracy: 0.9738\n",
      "\n"
     ]
    },
    {
     "name": "stdout",
     "output_type": "stream",
     "text": [
      "Epoch 220, Loss 0.0219\n",
      "Training Accuracy: 0.9745, Testing Accuracy: 0.9743\n",
      "\n"
     ]
    },
    {
     "name": "stdout",
     "output_type": "stream",
     "text": [
      "Epoch 230, Loss 0.0215\n",
      "Training Accuracy: 0.9752, Testing Accuracy: 0.9743\n",
      "\n"
     ]
    },
    {
     "name": "stdout",
     "output_type": "stream",
     "text": [
      "Epoch 240, Loss 0.0211\n",
      "Training Accuracy: 0.9757, Testing Accuracy: 0.9733\n",
      "\n"
     ]
    },
    {
     "data": {
      "text/plain": [
       "0.007369906839316471"
      ]
     },
     "execution_count": 22,
     "metadata": {},
     "output_type": "execute_result"
    }
   ],
   "source": [
    "nn_learner.train_loop(dl)"
   ]
  },
  {
   "cell_type": "code",
   "execution_count": 23,
   "id": "e0163366",
   "metadata": {
    "execution": {
     "iopub.execute_input": "2022-01-23T10:09:06.693136Z",
     "iopub.status.busy": "2022-01-23T10:09:06.692515Z",
     "iopub.status.idle": "2022-01-23T10:09:22.583393Z",
     "shell.execute_reply": "2022-01-23T10:09:22.584278Z"
    },
    "papermill": {
     "duration": 15.943426,
     "end_time": "2022-01-23T10:09:22.584447",
     "exception": false,
     "start_time": "2022-01-23T10:09:06.641021",
     "status": "completed"
    },
    "tags": []
   },
   "outputs": [
    {
     "name": "stdout",
     "output_type": "stream",
     "text": [
      "Epoch 0, Loss 0.23\n",
      "Training Accuracy: 0.7363, Testing Accuracy: 0.7717\n",
      "\n"
     ]
    },
    {
     "name": "stdout",
     "output_type": "stream",
     "text": [
      "Epoch 10, Loss 0.1016\n",
      "Training Accuracy: 0.9112, Testing Accuracy: 0.9214\n",
      "\n"
     ]
    },
    {
     "name": "stdout",
     "output_type": "stream",
     "text": [
      "Epoch 20, Loss 0.0789\n",
      "Training Accuracy: 0.9277, Testing Accuracy: 0.9390\n",
      "\n"
     ]
    },
    {
     "name": "stdout",
     "output_type": "stream",
     "text": [
      "Epoch 30, Loss 0.0683\n",
      "Training Accuracy: 0.9365, Testing Accuracy: 0.9481\n",
      "\n"
     ]
    },
    {
     "name": "stdout",
     "output_type": "stream",
     "text": [
      "Epoch 40, Loss 0.0618\n",
      "Training Accuracy: 0.9412, Testing Accuracy: 0.9506\n",
      "\n"
     ]
    },
    {
     "name": "stdout",
     "output_type": "stream",
     "text": [
      "Epoch 50, Loss 0.0573\n",
      "Training Accuracy: 0.9439, Testing Accuracy: 0.9516\n",
      "\n"
     ]
    },
    {
     "name": "stdout",
     "output_type": "stream",
     "text": [
      "Epoch 60, Loss 0.0541\n",
      "Training Accuracy: 0.9468, Testing Accuracy: 0.9531\n",
      "\n"
     ]
    },
    {
     "name": "stdout",
     "output_type": "stream",
     "text": [
      "Epoch 70, Loss 0.0515\n",
      "Training Accuracy: 0.9488, Testing Accuracy: 0.9551\n",
      "\n"
     ]
    },
    {
     "name": "stdout",
     "output_type": "stream",
     "text": [
      "Epoch 80, Loss 0.0494\n",
      "Training Accuracy: 0.9497, Testing Accuracy: 0.9582\n",
      "\n"
     ]
    },
    {
     "name": "stdout",
     "output_type": "stream",
     "text": [
      "Epoch 90, Loss 0.0477\n",
      "Training Accuracy: 0.9512, Testing Accuracy: 0.9597\n",
      "\n"
     ]
    },
    {
     "name": "stdout",
     "output_type": "stream",
     "text": [
      "Epoch 100, Loss 0.0463\n",
      "Training Accuracy: 0.9532, Testing Accuracy: 0.9592\n",
      "\n"
     ]
    },
    {
     "name": "stdout",
     "output_type": "stream",
     "text": [
      "Epoch 110, Loss 0.0451\n",
      "Training Accuracy: 0.9543, Testing Accuracy: 0.9617\n",
      "\n"
     ]
    },
    {
     "name": "stdout",
     "output_type": "stream",
     "text": [
      "Epoch 120, Loss 0.044\n",
      "Training Accuracy: 0.9548, Testing Accuracy: 0.9627\n",
      "\n"
     ]
    },
    {
     "name": "stdout",
     "output_type": "stream",
     "text": [
      "Epoch 130, Loss 0.0431\n",
      "Training Accuracy: 0.9557, Testing Accuracy: 0.9637\n",
      "\n"
     ]
    },
    {
     "name": "stdout",
     "output_type": "stream",
     "text": [
      "Epoch 140, Loss 0.0422\n",
      "Training Accuracy: 0.9566, Testing Accuracy: 0.9642\n",
      "\n"
     ]
    },
    {
     "name": "stdout",
     "output_type": "stream",
     "text": [
      "Epoch 150, Loss 0.0415\n",
      "Training Accuracy: 0.9571, Testing Accuracy: 0.9652\n",
      "\n"
     ]
    },
    {
     "name": "stdout",
     "output_type": "stream",
     "text": [
      "Epoch 160, Loss 0.0408\n",
      "Training Accuracy: 0.9575, Testing Accuracy: 0.9667\n",
      "\n"
     ]
    },
    {
     "name": "stdout",
     "output_type": "stream",
     "text": [
      "Epoch 170, Loss 0.0402\n",
      "Training Accuracy: 0.9577, Testing Accuracy: 0.9667\n",
      "\n"
     ]
    },
    {
     "name": "stdout",
     "output_type": "stream",
     "text": [
      "Epoch 180, Loss 0.0396\n",
      "Training Accuracy: 0.9580, Testing Accuracy: 0.9662\n",
      "\n"
     ]
    },
    {
     "name": "stdout",
     "output_type": "stream",
     "text": [
      "Epoch 190, Loss 0.0391\n",
      "Training Accuracy: 0.9580, Testing Accuracy: 0.9662\n",
      "\n"
     ]
    },
    {
     "name": "stdout",
     "output_type": "stream",
     "text": [
      "Epoch 200, Loss 0.0386\n",
      "Training Accuracy: 0.9590, Testing Accuracy: 0.9662\n",
      "\n"
     ]
    },
    {
     "name": "stdout",
     "output_type": "stream",
     "text": [
      "Epoch 210, Loss 0.0382\n",
      "Training Accuracy: 0.9594, Testing Accuracy: 0.9662\n",
      "\n"
     ]
    },
    {
     "name": "stdout",
     "output_type": "stream",
     "text": [
      "Epoch 220, Loss 0.0377\n",
      "Training Accuracy: 0.9597, Testing Accuracy: 0.9662\n",
      "\n"
     ]
    },
    {
     "name": "stdout",
     "output_type": "stream",
     "text": [
      "Epoch 230, Loss 0.0373\n",
      "Training Accuracy: 0.9598, Testing Accuracy: 0.9667\n",
      "\n"
     ]
    },
    {
     "name": "stdout",
     "output_type": "stream",
     "text": [
      "Epoch 240, Loss 0.037\n",
      "Training Accuracy: 0.9600, Testing Accuracy: 0.9667\n",
      "\n"
     ]
    },
    {
     "data": {
      "text/plain": [
       "0.016149890229776823"
      ]
     },
     "execution_count": 23,
     "metadata": {},
     "output_type": "execute_result"
    }
   ],
   "source": [
    "lr_learner.train_loop(dl)"
   ]
  },
  {
   "cell_type": "code",
   "execution_count": 24,
   "id": "ca410940",
   "metadata": {
    "execution": {
     "iopub.execute_input": "2022-01-23T10:09:22.693149Z",
     "iopub.status.busy": "2022-01-23T10:09:22.692494Z",
     "iopub.status.idle": "2022-01-23T10:09:22.939348Z",
     "shell.execute_reply": "2022-01-23T10:09:22.939876Z"
    },
    "papermill": {
     "duration": 0.308326,
     "end_time": "2022-01-23T10:09:22.940040",
     "exception": false,
     "start_time": "2022-01-23T10:09:22.631714",
     "status": "completed"
    },
    "tags": []
   },
   "outputs": [
    {
     "data": {
      "text/plain": [
       "<matplotlib.legend.Legend at 0x7fe66ddc4f60>"
      ]
     },
     "execution_count": 24,
     "metadata": {},
     "output_type": "execute_result"
    },
    {
     "data": {
      "image/png": "[encoded data removed]",
      "text/plain": [
       "<Figure size 1080x720 with 1 Axes>"
      ]
     },
     "metadata": {
      "needs_background": "light"
     },
     "output_type": "display_data"
    }
   ],
   "source": [
    "#comparing the results of NN and LR\n",
    "plt.figure(figsize=(15,10))\n",
    "\n",
    "# Neural Network plots\n",
    "plt.plot(acc_nn.accuracies, 'r-', label = \"Training Accuracies - NN\")\n",
    "plt.plot(acc_nn.test_accuracies, 'g-', label = \"Testing Accuracies - NN\")\n",
    "\n",
    "# Logistic Regression plots\n",
    "plt.plot(acc_lr.accuracies, 'k-', label = \"Training Accuracies - LR\")\n",
    "plt.plot(acc_lr.test_accuracies, 'b-', label = \"Testing Accuracies - LR\")\n",
    "plt.legend()"
   ]
  },
  {
   "cell_type": "markdown",
   "id": "80dfb35c",
   "metadata": {
    "papermill": {
     "duration": 0.047874,
     "end_time": "2022-01-23T10:09:23.035679",
     "exception": false,
     "start_time": "2022-01-23T10:09:22.987805",
     "status": "completed"
    },
    "tags": []
   },
   "source": [
    "#### Plotting the outputs of this layer of the NN.\n"
   ]
  },
  {
   "cell_type": "code",
   "execution_count": 25,
   "id": "45eb2ff5",
   "metadata": {
    "execution": {
     "iopub.execute_input": "2022-01-23T10:09:23.138051Z",
     "iopub.status.busy": "2022-01-23T10:09:23.137418Z",
     "iopub.status.idle": "2022-01-23T10:09:23.158333Z",
     "shell.execute_reply": "2022-01-23T10:09:23.158820Z"
    },
    "papermill": {
     "duration": 0.075568,
     "end_time": "2022-01-23T10:09:23.158975",
     "exception": false,
     "start_time": "2022-01-23T10:09:23.083407",
     "status": "completed"
    },
    "tags": []
   },
   "outputs": [],
   "source": [
    "new_model = Model(layers[:-2])\n",
    "testing_plot = new_model(testing_data_x)"
   ]
  },
  {
   "cell_type": "code",
   "execution_count": 26,
   "id": "4c0a5485",
   "metadata": {
    "execution": {
     "iopub.execute_input": "2022-01-23T10:09:23.268386Z",
     "iopub.status.busy": "2022-01-23T10:09:23.267040Z",
     "iopub.status.idle": "2022-01-23T10:09:23.523604Z",
     "shell.execute_reply": "2022-01-23T10:09:23.524097Z"
    },
    "papermill": {
     "duration": 0.316252,
     "end_time": "2022-01-23T10:09:23.524256",
     "exception": false,
     "start_time": "2022-01-23T10:09:23.208004",
     "status": "completed"
    },
    "tags": []
   },
   "outputs": [
    {
     "data": {
      "text/plain": [
       "Text(0.5, 1.0, 'Outputs')"
      ]
     },
     "execution_count": 26,
     "metadata": {},
     "output_type": "execute_result"
    },
    {
     "data": {
      "image/png": "[encoded data removed]",
      "text/plain": [
       "<Figure size 576x504 with 1 Axes>"
      ]
     },
     "metadata": {
      "needs_background": "light"
     },
     "output_type": "display_data"
    }
   ],
   "source": [
    "# Plotting the scatter plot of points and color coding by class\n",
    "plt.figure(figsize=(8,7))\n",
    "plt.scatter(testing_plot[:,0], testing_plot[:,1], alpha = 0.1, c = y_test.ravel());\n",
    "plt.title('Outputs')"
   ]
  },
  {
   "cell_type": "markdown",
   "id": "a74fcf8f",
   "metadata": {
    "papermill": {
     "duration": 0.050572,
     "end_time": "2022-01-23T10:09:23.625734",
     "exception": false,
     "start_time": "2022-01-23T10:09:23.575162",
     "status": "completed"
    },
    "tags": []
   },
   "source": [
    "Probability contours"
   ]
  },
  {
   "cell_type": "code",
   "execution_count": 27,
   "id": "d0afc8e3",
   "metadata": {
    "execution": {
     "iopub.execute_input": "2022-01-23T10:09:23.732799Z",
     "iopub.status.busy": "2022-01-23T10:09:23.732187Z",
     "iopub.status.idle": "2022-01-23T10:09:23.746823Z",
     "shell.execute_reply": "2022-01-23T10:09:23.747315Z"
    },
    "papermill": {
     "duration": 0.07116,
     "end_time": "2022-01-23T10:09:23.747489",
     "exception": false,
     "start_time": "2022-01-23T10:09:23.676329",
     "status": "completed"
    },
    "tags": []
   },
   "outputs": [],
   "source": [
    "model_prob = Model(layers[-2:]) "
   ]
  },
  {
   "cell_type": "code",
   "execution_count": 28,
   "id": "9b96e238",
   "metadata": {
    "execution": {
     "iopub.execute_input": "2022-01-23T10:09:23.886866Z",
     "iopub.status.busy": "2022-01-23T10:09:23.886258Z",
     "iopub.status.idle": "2022-01-23T10:09:23.901916Z",
     "shell.execute_reply": "2022-01-23T10:09:23.902395Z"
    },
    "papermill": {
     "duration": 0.072913,
     "end_time": "2022-01-23T10:09:23.902545",
     "exception": false,
     "start_time": "2022-01-23T10:09:23.829632",
     "status": "completed"
    },
    "tags": []
   },
   "outputs": [],
   "source": [
    "#creating the x and y ranges according to the above generated plot.\n",
    "x_range = np.linspace(-4, 1, 100) \n",
    "y_range = np.linspace(-6, 6, 100) \n",
    "x_grid, y_grid = np.meshgrid(x_range, y_range) # x_grid and y_grig are of size 100 X 100\n",
    "\n",
    "# converting x_grid and y_grid to continuous arrays\n",
    "x_gridflat = np.ravel(x_grid)\n",
    "y_gridflat = np.ravel(y_grid)\n",
    "\n",
    "# The last layer of the current model takes two columns as input. Hence transpose of np.vstack() is required.\n",
    "X = np.vstack((x_gridflat, y_gridflat)).T\n",
    "\n",
    "prob_contour = model_prob(X).reshape(100,100) "
   ]
  },
  {
   "cell_type": "code",
   "execution_count": 29,
   "id": "da72499a",
   "metadata": {
    "execution": {
     "iopub.execute_input": "2022-01-23T10:09:24.020878Z",
     "iopub.status.busy": "2022-01-23T10:09:24.020266Z",
     "iopub.status.idle": "2022-01-23T10:09:24.314698Z",
     "shell.execute_reply": "2022-01-23T10:09:24.314169Z"
    },
    "papermill": {
     "duration": 0.361173,
     "end_time": "2022-01-23T10:09:24.314830",
     "exception": false,
     "start_time": "2022-01-23T10:09:23.953657",
     "status": "completed"
    },
    "tags": []
   },
   "outputs": [
    {
     "data": {
      "image/png": "[encoded data removed]",
      "text/plain": [
       "<Figure size 720x648 with 1 Axes>"
      ]
     },
     "metadata": {
      "needs_background": "light"
     },
     "output_type": "display_data"
    }
   ],
   "source": [
    "plt.figure(figsize=(10,9))\n",
    "plt.scatter(testing_plot[:,0], testing_plot[:,1], alpha = 0.1, c = y_test.ravel())\n",
    "contours = plt.contour(x_grid,y_grid,prob_contour)\n",
    "plt.title('Probability Contours')\n",
    "plt.clabel(contours, inline = True );"
   ]
  },
  {
   "cell_type": "code",
   "execution_count": null,
   "id": "e81b4ac7",
   "metadata": {
    "papermill": {
     "duration": 0.05403,
     "end_time": "2022-01-23T10:09:24.423384",
     "exception": false,
     "start_time": "2022-01-23T10:09:24.369354",
     "status": "completed"
    },
    "tags": []
   },
   "outputs": [],
   "source": []
  }
 ],
 "metadata": {
  "kernelspec": {
   "display_name": "Python 3",
   "language": "python",
   "name": "python3"
  },
  "language_info": {
   "codemirror_mode": {
    "name": "ipython",
    "version": 3
   },
   "file_extension": ".py",
   "mimetype": "text/x-python",
   "name": "python",
   "nbconvert_exporter": "python",
   "pygments_lexer": "ipython3",
   "version": "3.6.15"
  },
  "papermill": {
   "default_parameters": {},
   "duration": 114.175704,
   "end_time": "2022-01-23T10:09:24.897476",
   "environment_variables": {},
   "exception": null,
   "input_path": "2020-08-11-part2.ipynb",
   "output_path": "2020-08-11-part2.ipynb",
   "parameters": {},
   "start_time": "2022-01-23T10:07:30.721772",
   "version": "2.3.3"
  }
 },
 "nbformat": 4,
 "nbformat_minor": 5
}