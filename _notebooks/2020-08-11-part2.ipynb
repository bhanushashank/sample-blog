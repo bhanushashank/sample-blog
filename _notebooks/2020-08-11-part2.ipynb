{
 "cells": [
  {
   "cell_type": "markdown",
   "id": "98380cd3",
   "metadata": {
    "papermill": {
     "duration": 0.033323,
     "end_time": "2022-01-25T20:07:49.497263",
     "exception": false,
     "start_time": "2022-01-25T20:07:49.463940",
     "status": "completed"
    },
    "tags": []
   },
   "source": [
    "# Distinguish Your Own Digits (DYOD)"
   ]
  },
  {
   "cell_type": "markdown",
   "id": "ef31240d",
   "metadata": {
    "papermill": {
     "duration": 0.027422,
     "end_time": "2022-01-25T20:07:49.553481",
     "exception": false,
     "start_time": "2022-01-25T20:07:49.526059",
     "status": "completed"
    },
    "tags": []
   },
   "source": [
    "You are going to write a classifier that distinguishes between the number 3 and number 8."
   ]
  },
  {
   "cell_type": "code",
   "execution_count": 1,
   "id": "b15c8646",
   "metadata": {
    "execution": {
     "iopub.execute_input": "2022-01-25T20:07:49.620470Z",
     "iopub.status.busy": "2022-01-25T20:07:49.619887Z",
     "iopub.status.idle": "2022-01-25T20:07:49.631147Z",
     "shell.execute_reply": "2022-01-25T20:07:49.631776Z"
    },
    "papermill": {
     "duration": 0.050774,
     "end_time": "2022-01-25T20:07:49.631915",
     "exception": false,
     "start_time": "2022-01-25T20:07:49.581141",
     "status": "completed"
    },
    "tags": []
   },
   "outputs": [],
   "source": [
    "%load_ext autoreload\n",
    "%autoreload 2"
   ]
  },
  {
   "cell_type": "code",
   "execution_count": 2,
   "id": "22ef38dc",
   "metadata": {
    "execution": {
     "iopub.execute_input": "2022-01-25T20:07:49.689918Z",
     "iopub.status.busy": "2022-01-25T20:07:49.689281Z",
     "iopub.status.idle": "2022-01-25T20:07:50.319486Z",
     "shell.execute_reply": "2022-01-25T20:07:50.319939Z"
    },
    "papermill": {
     "duration": 0.661394,
     "end_time": "2022-01-25T20:07:50.320149",
     "exception": false,
     "start_time": "2022-01-25T20:07:49.658755",
     "status": "completed"
    },
    "tags": []
   },
   "outputs": [],
   "source": [
    "%matplotlib inline\n",
    "import numpy as np\n",
    "import matplotlib.pyplot as plt\n",
    "import pandas as pd"
   ]
  },
  {
   "cell_type": "markdown",
   "id": "ba036198",
   "metadata": {
    "papermill": {
     "duration": 0.030098,
     "end_time": "2022-01-25T20:07:50.380183",
     "exception": false,
     "start_time": "2022-01-25T20:07:50.350085",
     "status": "completed"
    },
    "tags": []
   },
   "source": [
    "From the command line run `pip install mnist`. This is a library that will help you bring down the mnist dataset. If you run this from a notebook, you need to put  `!pip install mnist` in a cell by itself."
   ]
  },
  {
   "cell_type": "code",
   "execution_count": 3,
   "id": "bb6ad8a1",
   "metadata": {
    "execution": {
     "iopub.execute_input": "2022-01-25T20:07:50.442946Z",
     "iopub.status.busy": "2022-01-25T20:07:50.441871Z",
     "iopub.status.idle": "2022-01-25T20:07:53.083882Z",
     "shell.execute_reply": "2022-01-25T20:07:53.084338Z"
    },
    "papermill": {
     "duration": 2.675585,
     "end_time": "2022-01-25T20:07:53.084501",
     "exception": false,
     "start_time": "2022-01-25T20:07:50.408916",
     "status": "completed"
    },
    "tags": []
   },
   "outputs": [
    {
     "name": "stdout",
     "output_type": "stream",
     "text": [
      "Collecting mnist\r\n"
     ]
    },
    {
     "name": "stdout",
     "output_type": "stream",
     "text": [
      "  Downloading mnist-0.2.2-py2.py3-none-any.whl (3.5 kB)\r\n",
      "Requirement already satisfied: numpy in /opt/hostedtoolcache/Python/3.6.15/x64/lib/python3.6/site-packages (from mnist) (1.19.5)\r\n"
     ]
    },
    {
     "name": "stdout",
     "output_type": "stream",
     "text": [
      "Installing collected packages: mnist\r\n"
     ]
    },
    {
     "name": "stdout",
     "output_type": "stream",
     "text": [
      "Successfully installed mnist-0.2.2\r\n"
     ]
    }
   ],
   "source": [
    "!pip install mnist"
   ]
  },
  {
   "cell_type": "markdown",
   "id": "69df9c9a",
   "metadata": {
    "papermill": {
     "duration": 0.028045,
     "end_time": "2022-01-25T20:07:53.140029",
     "exception": false,
     "start_time": "2022-01-25T20:07:53.111984",
     "status": "completed"
    },
    "tags": []
   },
   "source": [
    "## Preparing the Data"
   ]
  },
  {
   "cell_type": "code",
   "execution_count": 4,
   "id": "7f69d806",
   "metadata": {
    "execution": {
     "iopub.execute_input": "2022-01-25T20:07:53.198996Z",
     "iopub.status.busy": "2022-01-25T20:07:53.198389Z",
     "iopub.status.idle": "2022-01-25T20:07:53.213015Z",
     "shell.execute_reply": "2022-01-25T20:07:53.212575Z"
    },
    "papermill": {
     "duration": 0.046264,
     "end_time": "2022-01-25T20:07:53.213114",
     "exception": false,
     "start_time": "2022-01-25T20:07:53.166850",
     "status": "completed"
    },
    "tags": []
   },
   "outputs": [],
   "source": [
    "import mnist"
   ]
  },
  {
   "cell_type": "code",
   "execution_count": 5,
   "id": "a411e44f",
   "metadata": {
    "execution": {
     "iopub.execute_input": "2022-01-25T20:07:53.273127Z",
     "iopub.status.busy": "2022-01-25T20:07:53.272440Z",
     "iopub.status.idle": "2022-01-25T20:07:54.264668Z",
     "shell.execute_reply": "2022-01-25T20:07:54.265278Z"
    },
    "papermill": {
     "duration": 1.024732,
     "end_time": "2022-01-25T20:07:54.265476",
     "exception": false,
     "start_time": "2022-01-25T20:07:53.240744",
     "status": "completed"
    },
    "tags": []
   },
   "outputs": [],
   "source": [
    "train_images = mnist.train_images()\n",
    "train_labels = mnist.train_labels()"
   ]
  },
  {
   "cell_type": "code",
   "execution_count": 6,
   "id": "dceab3a5",
   "metadata": {
    "execution": {
     "iopub.execute_input": "2022-01-25T20:07:54.327225Z",
     "iopub.status.busy": "2022-01-25T20:07:54.326591Z",
     "iopub.status.idle": "2022-01-25T20:07:54.343513Z",
     "shell.execute_reply": "2022-01-25T20:07:54.343027Z"
    },
    "papermill": {
     "duration": 0.050113,
     "end_time": "2022-01-25T20:07:54.343638",
     "exception": false,
     "start_time": "2022-01-25T20:07:54.293525",
     "status": "completed"
    },
    "tags": []
   },
   "outputs": [
    {
     "data": {
      "text/plain": [
       "((60000, 28, 28), (60000,))"
      ]
     },
     "execution_count": 6,
     "metadata": {},
     "output_type": "execute_result"
    }
   ],
   "source": [
    "train_images.shape, train_labels.shape"
   ]
  },
  {
   "cell_type": "code",
   "execution_count": 7,
   "id": "f50dc2bb",
   "metadata": {
    "execution": {
     "iopub.execute_input": "2022-01-25T20:07:54.406451Z",
     "iopub.status.busy": "2022-01-25T20:07:54.405622Z",
     "iopub.status.idle": "2022-01-25T20:07:54.849448Z",
     "shell.execute_reply": "2022-01-25T20:07:54.848449Z"
    },
    "papermill": {
     "duration": 0.479111,
     "end_time": "2022-01-25T20:07:54.849597",
     "exception": false,
     "start_time": "2022-01-25T20:07:54.370486",
     "status": "completed"
    },
    "tags": []
   },
   "outputs": [],
   "source": [
    "test_images = mnist.test_images()\n",
    "test_labels = mnist.test_labels()"
   ]
  },
  {
   "cell_type": "code",
   "execution_count": 8,
   "id": "fc38cf1b",
   "metadata": {
    "execution": {
     "iopub.execute_input": "2022-01-25T20:07:54.915087Z",
     "iopub.status.busy": "2022-01-25T20:07:54.911398Z",
     "iopub.status.idle": "2022-01-25T20:07:54.924325Z",
     "shell.execute_reply": "2022-01-25T20:07:54.924993Z"
    },
    "papermill": {
     "duration": 0.046527,
     "end_time": "2022-01-25T20:07:54.925112",
     "exception": false,
     "start_time": "2022-01-25T20:07:54.878585",
     "status": "completed"
    },
    "tags": []
   },
   "outputs": [
    {
     "data": {
      "text/plain": [
       "((10000, 28, 28), (10000,))"
      ]
     },
     "execution_count": 8,
     "metadata": {},
     "output_type": "execute_result"
    }
   ],
   "source": [
    "test_images.shape, test_labels.shape"
   ]
  },
  {
   "cell_type": "code",
   "execution_count": 9,
   "id": "f9ed8fe0",
   "metadata": {
    "execution": {
     "iopub.execute_input": "2022-01-25T20:07:54.986711Z",
     "iopub.status.busy": "2022-01-25T20:07:54.986164Z",
     "iopub.status.idle": "2022-01-25T20:07:55.160525Z",
     "shell.execute_reply": "2022-01-25T20:07:55.159983Z"
    },
    "papermill": {
     "duration": 0.206816,
     "end_time": "2022-01-25T20:07:55.160631",
     "exception": false,
     "start_time": "2022-01-25T20:07:54.953815",
     "status": "completed"
    },
    "tags": []
   },
   "outputs": [
    {
     "name": "stdout",
     "output_type": "stream",
     "text": [
      "2\n"
     ]
    },
    {
     "data": {
      "text/plain": [
       "<matplotlib.image.AxesImage at 0x7f931ccf1ac8>"
      ]
     },
     "execution_count": 9,
     "metadata": {},
     "output_type": "execute_result"
    },
    {
     "data": {
      "image/png": "[encoded data removed]",
      "text/plain": [
       "<Figure size 432x288 with 1 Axes>"
      ]
     },
     "metadata": {
      "needs_background": "light"
     },
     "output_type": "display_data"
    }
   ],
   "source": [
    "image_index = 7776 # You may select anything up to 60,000\n",
    "print(train_labels[image_index]) \n",
    "plt.imshow(train_images[image_index], cmap='Greys')"
   ]
  },
  {
   "cell_type": "markdown",
   "id": "a8d2388d",
   "metadata": {
    "papermill": {
     "duration": 0.030128,
     "end_time": "2022-01-25T20:07:55.219892",
     "exception": false,
     "start_time": "2022-01-25T20:07:55.189764",
     "status": "completed"
    },
    "tags": []
   },
   "source": [
    "## Filter data to get 3 and 8 out"
   ]
  },
  {
   "cell_type": "code",
   "execution_count": 10,
   "id": "776f7fc7",
   "metadata": {
    "execution": {
     "iopub.execute_input": "2022-01-25T20:07:55.284563Z",
     "iopub.status.busy": "2022-01-25T20:07:55.283634Z",
     "iopub.status.idle": "2022-01-25T20:07:55.300246Z",
     "shell.execute_reply": "2022-01-25T20:07:55.299627Z"
    },
    "papermill": {
     "duration": 0.049698,
     "end_time": "2022-01-25T20:07:55.300389",
     "exception": false,
     "start_time": "2022-01-25T20:07:55.250691",
     "status": "completed"
    },
    "tags": []
   },
   "outputs": [],
   "source": [
    "train_filter = np.where((train_labels == 3 ) | (train_labels == 8))\n",
    "test_filter = np.where((test_labels == 3) | (test_labels == 8))\n",
    "X_train, y_train = train_images[train_filter], train_labels[train_filter]\n",
    "X_test, y_test = test_images[test_filter], test_labels[test_filter]"
   ]
  },
  {
   "cell_type": "markdown",
   "id": "948f0b7e",
   "metadata": {
    "papermill": {
     "duration": 0.030906,
     "end_time": "2022-01-25T20:07:55.364760",
     "exception": false,
     "start_time": "2022-01-25T20:07:55.333854",
     "status": "completed"
    },
    "tags": []
   },
   "source": [
    "We normalize the pizel values in the 0 to 1 range"
   ]
  },
  {
   "cell_type": "code",
   "execution_count": 11,
   "id": "ee4c2166",
   "metadata": {
    "execution": {
     "iopub.execute_input": "2022-01-25T20:07:55.434643Z",
     "iopub.status.busy": "2022-01-25T20:07:55.429480Z",
     "iopub.status.idle": "2022-01-25T20:07:55.489948Z",
     "shell.execute_reply": "2022-01-25T20:07:55.489406Z"
    },
    "papermill": {
     "duration": 0.094708,
     "end_time": "2022-01-25T20:07:55.490079",
     "exception": false,
     "start_time": "2022-01-25T20:07:55.395371",
     "status": "completed"
    },
    "tags": []
   },
   "outputs": [],
   "source": [
    "X_train = X_train/255.\n",
    "X_test = X_test/255."
   ]
  },
  {
   "cell_type": "markdown",
   "id": "ddcf4fab",
   "metadata": {
    "papermill": {
     "duration": 0.031005,
     "end_time": "2022-01-25T20:07:55.554082",
     "exception": false,
     "start_time": "2022-01-25T20:07:55.523077",
     "status": "completed"
    },
    "tags": []
   },
   "source": [
    "And setup the labels as 1 (when the digit is 3) and 0 (when the digit is 8)"
   ]
  },
  {
   "cell_type": "code",
   "execution_count": 12,
   "id": "7dc908f2",
   "metadata": {
    "execution": {
     "iopub.execute_input": "2022-01-25T20:07:55.624500Z",
     "iopub.status.busy": "2022-01-25T20:07:55.623909Z",
     "iopub.status.idle": "2022-01-25T20:07:55.637115Z",
     "shell.execute_reply": "2022-01-25T20:07:55.637717Z"
    },
    "papermill": {
     "duration": 0.053174,
     "end_time": "2022-01-25T20:07:55.637835",
     "exception": false,
     "start_time": "2022-01-25T20:07:55.584661",
     "status": "completed"
    },
    "tags": []
   },
   "outputs": [],
   "source": [
    "y_train = 1*(y_train==3)\n",
    "y_test = 1*(y_test==3)"
   ]
  },
  {
   "cell_type": "code",
   "execution_count": 13,
   "id": "01e4e969",
   "metadata": {
    "execution": {
     "iopub.execute_input": "2022-01-25T20:07:55.703899Z",
     "iopub.status.busy": "2022-01-25T20:07:55.703316Z",
     "iopub.status.idle": "2022-01-25T20:07:55.716314Z",
     "shell.execute_reply": "2022-01-25T20:07:55.716935Z"
    },
    "papermill": {
     "duration": 0.046982,
     "end_time": "2022-01-25T20:07:55.717073",
     "exception": false,
     "start_time": "2022-01-25T20:07:55.670091",
     "status": "completed"
    },
    "tags": []
   },
   "outputs": [
    {
     "data": {
      "text/plain": [
       "((11982, 28, 28), (1984, 28, 28))"
      ]
     },
     "execution_count": 13,
     "metadata": {},
     "output_type": "execute_result"
    }
   ],
   "source": [
    "X_train.shape, X_test.shape"
   ]
  },
  {
   "cell_type": "markdown",
   "id": "5ccf3f85",
   "metadata": {
    "papermill": {
     "duration": 0.03294,
     "end_time": "2022-01-25T20:07:55.788314",
     "exception": false,
     "start_time": "2022-01-25T20:07:55.755374",
     "status": "completed"
    },
    "tags": []
   },
   "source": [
    "We reshape the data to flatten the image pixels into a set of features or co-variates:"
   ]
  },
  {
   "cell_type": "code",
   "execution_count": 14,
   "id": "5286a4a3",
   "metadata": {
    "execution": {
     "iopub.execute_input": "2022-01-25T20:07:55.862242Z",
     "iopub.status.busy": "2022-01-25T20:07:55.861587Z",
     "iopub.status.idle": "2022-01-25T20:07:55.876713Z",
     "shell.execute_reply": "2022-01-25T20:07:55.877223Z"
    },
    "papermill": {
     "duration": 0.055636,
     "end_time": "2022-01-25T20:07:55.877343",
     "exception": false,
     "start_time": "2022-01-25T20:07:55.821707",
     "status": "completed"
    },
    "tags": []
   },
   "outputs": [
    {
     "data": {
      "text/plain": [
       "((11982, 784), (1984, 784))"
      ]
     },
     "execution_count": 14,
     "metadata": {},
     "output_type": "execute_result"
    }
   ],
   "source": [
    "X_train = X_train.reshape(X_train.shape[0], -1)\n",
    "X_test = X_test.reshape(X_test.shape[0], -1)\n",
    "X_train.shape, X_test.shape"
   ]
  },
  {
   "cell_type": "code",
   "execution_count": 15,
   "id": "73c5f88a",
   "metadata": {
    "execution": {
     "iopub.execute_input": "2022-01-25T20:07:55.944934Z",
     "iopub.status.busy": "2022-01-25T20:07:55.944374Z",
     "iopub.status.idle": "2022-01-25T20:07:55.964754Z",
     "shell.execute_reply": "2022-01-25T20:07:55.965303Z"
    },
    "papermill": {
     "duration": 0.056891,
     "end_time": "2022-01-25T20:07:55.965429",
     "exception": false,
     "start_time": "2022-01-25T20:07:55.908538",
     "status": "completed"
    },
    "tags": []
   },
   "outputs": [],
   "source": [
    "#Impoting functions from 'Kudzu'\n",
    "from kudzu.model import Model\n",
    "from kudzu.train import Learner\n",
    "from kudzu.optim import GD\n",
    "from kudzu.data import Data, Sampler,Dataloader\n",
    "\n",
    "from kudzu.callbacks import AccCallback\n",
    "from kudzu.callbacks import ClfCallback\n",
    "\n",
    "from kudzu.loss import MSE\n",
    "\n",
    "from kudzu.layer import Sigmoid,Relu\n",
    "from kudzu.layer import Affine"
   ]
  },
  {
   "cell_type": "markdown",
   "id": "bc01172a",
   "metadata": {
    "papermill": {
     "duration": 0.032138,
     "end_time": "2022-01-25T20:07:56.030676",
     "exception": false,
     "start_time": "2022-01-25T20:07:55.998538",
     "status": "completed"
    },
    "tags": []
   },
   "source": [
    "### Let us create a `Config` class, to store important parameters. \n",
    "This class essentially plays the role of a dictionary."
   ]
  },
  {
   "cell_type": "code",
   "execution_count": 16,
   "id": "978281aa",
   "metadata": {
    "execution": {
     "iopub.execute_input": "2022-01-25T20:07:56.096493Z",
     "iopub.status.busy": "2022-01-25T20:07:56.095935Z",
     "iopub.status.idle": "2022-01-25T20:07:56.107745Z",
     "shell.execute_reply": "2022-01-25T20:07:56.107194Z"
    },
    "papermill": {
     "duration": 0.045356,
     "end_time": "2022-01-25T20:07:56.107844",
     "exception": false,
     "start_time": "2022-01-25T20:07:56.062488",
     "status": "completed"
    },
    "tags": []
   },
   "outputs": [],
   "source": [
    "class Config:\n",
    "    pass\n",
    "config = Config()\n",
    "config.lr = 0.001\n",
    "config.num_epochs = 250\n",
    "config.bs = 50"
   ]
  },
  {
   "cell_type": "markdown",
   "id": "1385fa59",
   "metadata": {
    "papermill": {
     "duration": 0.02981,
     "end_time": "2022-01-25T20:07:56.170282",
     "exception": false,
     "start_time": "2022-01-25T20:07:56.140472",
     "status": "completed"
    },
    "tags": []
   },
   "source": [
    "### Running Models with the Training data\n",
    "Details about the network layers:\n",
    "- A first affine layer has 784 inputs and does 100 affine transforms. These are followed by a Relu\n",
    "- A second affine layer has 100 inputs from the 100 activations of the past layer, and does 100 affine transforms. These are followed by a Relu\n",
    "- A third affine layer has 100 activations and does 2 affine transformations to create an embedding for visualization. There is no non-linearity here.\n",
    "- A final \"logistic regression\" which has an affine transform from 2 inputs to 1 output, which is squeezed through a sigmoid.\n"
   ]
  },
  {
   "cell_type": "code",
   "execution_count": 17,
   "id": "2b9c66db",
   "metadata": {
    "execution": {
     "iopub.execute_input": "2022-01-25T20:07:56.235034Z",
     "iopub.status.busy": "2022-01-25T20:07:56.234440Z",
     "iopub.status.idle": "2022-01-25T20:07:56.248341Z",
     "shell.execute_reply": "2022-01-25T20:07:56.249077Z"
    },
    "papermill": {
     "duration": 0.048067,
     "end_time": "2022-01-25T20:07:56.249208",
     "exception": false,
     "start_time": "2022-01-25T20:07:56.201141",
     "status": "completed"
    },
    "tags": []
   },
   "outputs": [],
   "source": [
    "data = Data(X_train, y_train.reshape(-1,1))\n",
    "sampler = Sampler(data, config.bs, shuffle=True)\n",
    "\n",
    "dl = Dataloader(data, sampler)\n",
    "\n",
    "opt = GD(config.lr)\n",
    "loss = MSE()"
   ]
  },
  {
   "cell_type": "code",
   "execution_count": 18,
   "id": "b275e4c2",
   "metadata": {
    "execution": {
     "iopub.execute_input": "2022-01-25T20:07:56.317738Z",
     "iopub.status.busy": "2022-01-25T20:07:56.317098Z",
     "iopub.status.idle": "2022-01-25T20:07:56.328963Z",
     "shell.execute_reply": "2022-01-25T20:07:56.329490Z"
    },
    "papermill": {
     "duration": 0.04738,
     "end_time": "2022-01-25T20:07:56.329614",
     "exception": false,
     "start_time": "2022-01-25T20:07:56.282234",
     "status": "completed"
    },
    "tags": []
   },
   "outputs": [],
   "source": [
    "training_data_x = X_train\n",
    "testing_data_x = X_test\n",
    "training_data_y = y_train.reshape(-1,1)\n",
    "testing_data_y = y_test.reshape(-1,1)"
   ]
  },
  {
   "cell_type": "code",
   "execution_count": 19,
   "id": "76951160",
   "metadata": {
    "execution": {
     "iopub.execute_input": "2022-01-25T20:07:56.398586Z",
     "iopub.status.busy": "2022-01-25T20:07:56.397922Z",
     "iopub.status.idle": "2022-01-25T20:07:56.414049Z",
     "shell.execute_reply": "2022-01-25T20:07:56.414581Z"
    },
    "papermill": {
     "duration": 0.053668,
     "end_time": "2022-01-25T20:07:56.414748",
     "exception": false,
     "start_time": "2022-01-25T20:07:56.361080",
     "status": "completed"
    },
    "tags": []
   },
   "outputs": [
    {
     "name": "stdout",
     "output_type": "stream",
     "text": [
      "xavier\n",
      "xavier\n",
      "xavier\n",
      "xavier\n",
      "xavier\n"
     ]
    }
   ],
   "source": [
    "layers = [Affine(\"first\", 784, 100), Relu(\"first\"), Affine(\"second\", 100, 100), Relu(\"second\"), Affine(\"third\", 100, 2), Affine(\"last\", 2, 1), Sigmoid(\"last\")]\n",
    "model_nn = Model(layers)\n",
    "model_lr = Model([Affine(\"logits\", 784, 1), Sigmoid(\"sigmoid\")])"
   ]
  },
  {
   "cell_type": "code",
   "execution_count": 20,
   "id": "6eede77a",
   "metadata": {
    "execution": {
     "iopub.execute_input": "2022-01-25T20:07:56.479156Z",
     "iopub.status.busy": "2022-01-25T20:07:56.478414Z",
     "iopub.status.idle": "2022-01-25T20:07:56.489925Z",
     "shell.execute_reply": "2022-01-25T20:07:56.490457Z"
    },
    "papermill": {
     "duration": 0.046773,
     "end_time": "2022-01-25T20:07:56.490569",
     "exception": false,
     "start_time": "2022-01-25T20:07:56.443796",
     "status": "completed"
    },
    "tags": []
   },
   "outputs": [],
   "source": [
    "nn_learner = Learner(loss, model_nn, opt, config.num_epochs)\n",
    "acc_nn = ClfCallback(nn_learner, config.bs, training_data_x , testing_data_x, training_data_y, testing_data_y)\n",
    "nn_learner.set_callbacks([acc_nn])"
   ]
  },
  {
   "cell_type": "code",
   "execution_count": 21,
   "id": "877b6cc7",
   "metadata": {
    "execution": {
     "iopub.execute_input": "2022-01-25T20:07:56.554581Z",
     "iopub.status.busy": "2022-01-25T20:07:56.553940Z",
     "iopub.status.idle": "2022-01-25T20:07:56.564626Z",
     "shell.execute_reply": "2022-01-25T20:07:56.565194Z"
    },
    "papermill": {
     "duration": 0.044695,
     "end_time": "2022-01-25T20:07:56.565304",
     "exception": false,
     "start_time": "2022-01-25T20:07:56.520609",
     "status": "completed"
    },
    "tags": []
   },
   "outputs": [],
   "source": [
    "lr_learner = Learner(loss, model_lr, opt, config.num_epochs)\n",
    "acc_lr = ClfCallback(lr_learner, config.bs, training_data_x , testing_data_x, training_data_y, testing_data_y)\n",
    "lr_learner.set_callbacks([acc_lr])"
   ]
  },
  {
   "cell_type": "code",
   "execution_count": 22,
   "id": "d9b133c3",
   "metadata": {
    "execution": {
     "iopub.execute_input": "2022-01-25T20:07:56.628588Z",
     "iopub.status.busy": "2022-01-25T20:07:56.627978Z",
     "iopub.status.idle": "2022-01-25T20:10:16.631006Z",
     "shell.execute_reply": "2022-01-25T20:10:16.631895Z"
    },
    "papermill": {
     "duration": 140.036705,
     "end_time": "2022-01-25T20:10:16.632044",
     "exception": false,
     "start_time": "2022-01-25T20:07:56.595339",
     "status": "completed"
    },
    "tags": []
   },
   "outputs": [
    {
     "name": "stdout",
     "output_type": "stream",
     "text": [
      "Epoch 0, Loss 0.2453\n",
      "Training Accuracy: 0.5451, Testing Accuracy: 0.5368\n",
      "\n"
     ]
    },
    {
     "name": "stdout",
     "output_type": "stream",
     "text": [
      "Epoch 10, Loss 0.1351\n",
      "Training Accuracy: 0.9070, Testing Accuracy: 0.9264\n",
      "\n"
     ]
    },
    {
     "name": "stdout",
     "output_type": "stream",
     "text": [
      "Epoch 20, Loss 0.07\n",
      "Training Accuracy: 0.9319, Testing Accuracy: 0.9446\n",
      "\n"
     ]
    },
    {
     "name": "stdout",
     "output_type": "stream",
     "text": [
      "Epoch 30, Loss 0.0505\n",
      "Training Accuracy: 0.9470, Testing Accuracy: 0.9622\n",
      "\n"
     ]
    },
    {
     "name": "stdout",
     "output_type": "stream",
     "text": [
      "Epoch 40, Loss 0.042\n",
      "Training Accuracy: 0.9533, Testing Accuracy: 0.9667\n",
      "\n"
     ]
    },
    {
     "name": "stdout",
     "output_type": "stream",
     "text": [
      "Epoch 50, Loss 0.0373\n",
      "Training Accuracy: 0.9575, Testing Accuracy: 0.9672\n",
      "\n"
     ]
    },
    {
     "name": "stdout",
     "output_type": "stream",
     "text": [
      "Epoch 60, Loss 0.0342\n",
      "Training Accuracy: 0.9608, Testing Accuracy: 0.9693\n",
      "\n"
     ]
    },
    {
     "name": "stdout",
     "output_type": "stream",
     "text": [
      "Epoch 70, Loss 0.0321\n",
      "Training Accuracy: 0.9627, Testing Accuracy: 0.9693\n",
      "\n"
     ]
    },
    {
     "name": "stdout",
     "output_type": "stream",
     "text": [
      "Epoch 80, Loss 0.0305\n",
      "Training Accuracy: 0.9650, Testing Accuracy: 0.9698\n",
      "\n"
     ]
    },
    {
     "name": "stdout",
     "output_type": "stream",
     "text": [
      "Epoch 90, Loss 0.0292\n",
      "Training Accuracy: 0.9662, Testing Accuracy: 0.9698\n",
      "\n"
     ]
    },
    {
     "name": "stdout",
     "output_type": "stream",
     "text": [
      "Epoch 100, Loss 0.0282\n",
      "Training Accuracy: 0.9680, Testing Accuracy: 0.9703\n",
      "\n"
     ]
    },
    {
     "name": "stdout",
     "output_type": "stream",
     "text": [
      "Epoch 110, Loss 0.0273\n",
      "Training Accuracy: 0.9688, Testing Accuracy: 0.9713\n",
      "\n"
     ]
    },
    {
     "name": "stdout",
     "output_type": "stream",
     "text": [
      "Epoch 120, Loss 0.0265\n",
      "Training Accuracy: 0.9695, Testing Accuracy: 0.9718\n",
      "\n"
     ]
    },
    {
     "name": "stdout",
     "output_type": "stream",
     "text": [
      "Epoch 130, Loss 0.0259\n",
      "Training Accuracy: 0.9704, Testing Accuracy: 0.9713\n",
      "\n"
     ]
    },
    {
     "name": "stdout",
     "output_type": "stream",
     "text": [
      "Epoch 140, Loss 0.0253\n",
      "Training Accuracy: 0.9707, Testing Accuracy: 0.9713\n",
      "\n"
     ]
    },
    {
     "name": "stdout",
     "output_type": "stream",
     "text": [
      "Epoch 150, Loss 0.0247\n",
      "Training Accuracy: 0.9710, Testing Accuracy: 0.9723\n",
      "\n"
     ]
    },
    {
     "name": "stdout",
     "output_type": "stream",
     "text": [
      "Epoch 160, Loss 0.0243\n",
      "Training Accuracy: 0.9714, Testing Accuracy: 0.9728\n",
      "\n"
     ]
    },
    {
     "name": "stdout",
     "output_type": "stream",
     "text": [
      "Epoch 170, Loss 0.0238\n",
      "Training Accuracy: 0.9718, Testing Accuracy: 0.9733\n",
      "\n"
     ]
    },
    {
     "name": "stdout",
     "output_type": "stream",
     "text": [
      "Epoch 180, Loss 0.0234\n",
      "Training Accuracy: 0.9724, Testing Accuracy: 0.9723\n",
      "\n"
     ]
    },
    {
     "name": "stdout",
     "output_type": "stream",
     "text": [
      "Epoch 190, Loss 0.023\n",
      "Training Accuracy: 0.9730, Testing Accuracy: 0.9718\n",
      "\n"
     ]
    },
    {
     "name": "stdout",
     "output_type": "stream",
     "text": [
      "Epoch 200, Loss 0.0226\n",
      "Training Accuracy: 0.9735, Testing Accuracy: 0.9723\n",
      "\n"
     ]
    },
    {
     "name": "stdout",
     "output_type": "stream",
     "text": [
      "Epoch 210, Loss 0.0222\n",
      "Training Accuracy: 0.9739, Testing Accuracy: 0.9723\n",
      "\n"
     ]
    },
    {
     "name": "stdout",
     "output_type": "stream",
     "text": [
      "Epoch 220, Loss 0.0219\n",
      "Training Accuracy: 0.9743, Testing Accuracy: 0.9723\n",
      "\n"
     ]
    },
    {
     "name": "stdout",
     "output_type": "stream",
     "text": [
      "Epoch 230, Loss 0.0215\n",
      "Training Accuracy: 0.9748, Testing Accuracy: 0.9723\n",
      "\n"
     ]
    },
    {
     "name": "stdout",
     "output_type": "stream",
     "text": [
      "Epoch 240, Loss 0.0212\n",
      "Training Accuracy: 0.9755, Testing Accuracy: 0.9723\n",
      "\n"
     ]
    },
    {
     "data": {
      "text/plain": [
       "0.0028572203472037277"
      ]
     },
     "execution_count": 22,
     "metadata": {},
     "output_type": "execute_result"
    }
   ],
   "source": [
    "nn_learner.train_loop(dl)"
   ]
  },
  {
   "cell_type": "code",
   "execution_count": 23,
   "id": "e0163366",
   "metadata": {
    "execution": {
     "iopub.execute_input": "2022-01-25T20:10:16.735200Z",
     "iopub.status.busy": "2022-01-25T20:10:16.734505Z",
     "iopub.status.idle": "2022-01-25T20:10:36.695226Z",
     "shell.execute_reply": "2022-01-25T20:10:36.696120Z"
    },
    "papermill": {
     "duration": 20.018909,
     "end_time": "2022-01-25T20:10:36.696261",
     "exception": false,
     "start_time": "2022-01-25T20:10:16.677352",
     "status": "completed"
    },
    "tags": []
   },
   "outputs": [
    {
     "name": "stdout",
     "output_type": "stream",
     "text": [
      "Epoch 0, Loss 0.2341\n",
      "Training Accuracy: 0.7257, Testing Accuracy: 0.7339\n",
      "\n"
     ]
    },
    {
     "name": "stdout",
     "output_type": "stream",
     "text": [
      "Epoch 10, Loss 0.1003\n",
      "Training Accuracy: 0.9120, Testing Accuracy: 0.9284\n",
      "\n"
     ]
    },
    {
     "name": "stdout",
     "output_type": "stream",
     "text": [
      "Epoch 20, Loss 0.0775\n",
      "Training Accuracy: 0.9306, Testing Accuracy: 0.9420\n",
      "\n"
     ]
    },
    {
     "name": "stdout",
     "output_type": "stream",
     "text": [
      "Epoch 30, Loss 0.0671\n",
      "Training Accuracy: 0.9377, Testing Accuracy: 0.9491\n",
      "\n"
     ]
    },
    {
     "name": "stdout",
     "output_type": "stream",
     "text": [
      "Epoch 40, Loss 0.0607\n",
      "Training Accuracy: 0.9424, Testing Accuracy: 0.9526\n",
      "\n"
     ]
    },
    {
     "name": "stdout",
     "output_type": "stream",
     "text": [
      "Epoch 50, Loss 0.0564\n",
      "Training Accuracy: 0.9449, Testing Accuracy: 0.9561\n",
      "\n"
     ]
    },
    {
     "name": "stdout",
     "output_type": "stream",
     "text": [
      "Epoch 60, Loss 0.0533\n",
      "Training Accuracy: 0.9474, Testing Accuracy: 0.9577\n",
      "\n"
     ]
    },
    {
     "name": "stdout",
     "output_type": "stream",
     "text": [
      "Epoch 70, Loss 0.0508\n",
      "Training Accuracy: 0.9492, Testing Accuracy: 0.9592\n",
      "\n"
     ]
    },
    {
     "name": "stdout",
     "output_type": "stream",
     "text": [
      "Epoch 80, Loss 0.0488\n",
      "Training Accuracy: 0.9512, Testing Accuracy: 0.9612\n",
      "\n"
     ]
    },
    {
     "name": "stdout",
     "output_type": "stream",
     "text": [
      "Epoch 90, Loss 0.0472\n",
      "Training Accuracy: 0.9524, Testing Accuracy: 0.9612\n",
      "\n"
     ]
    },
    {
     "name": "stdout",
     "output_type": "stream",
     "text": [
      "Epoch 100, Loss 0.0458\n",
      "Training Accuracy: 0.9537, Testing Accuracy: 0.9622\n",
      "\n"
     ]
    },
    {
     "name": "stdout",
     "output_type": "stream",
     "text": [
      "Epoch 110, Loss 0.0447\n",
      "Training Accuracy: 0.9546, Testing Accuracy: 0.9622\n",
      "\n"
     ]
    },
    {
     "name": "stdout",
     "output_type": "stream",
     "text": [
      "Epoch 120, Loss 0.0436\n",
      "Training Accuracy: 0.9555, Testing Accuracy: 0.9637\n",
      "\n"
     ]
    },
    {
     "name": "stdout",
     "output_type": "stream",
     "text": [
      "Epoch 130, Loss 0.0427\n",
      "Training Accuracy: 0.9562, Testing Accuracy: 0.9637\n",
      "\n"
     ]
    },
    {
     "name": "stdout",
     "output_type": "stream",
     "text": [
      "Epoch 140, Loss 0.0419\n",
      "Training Accuracy: 0.9571, Testing Accuracy: 0.9652\n",
      "\n"
     ]
    },
    {
     "name": "stdout",
     "output_type": "stream",
     "text": [
      "Epoch 150, Loss 0.0412\n",
      "Training Accuracy: 0.9570, Testing Accuracy: 0.9662\n",
      "\n"
     ]
    },
    {
     "name": "stdout",
     "output_type": "stream",
     "text": [
      "Epoch 160, Loss 0.0405\n",
      "Training Accuracy: 0.9579, Testing Accuracy: 0.9662\n",
      "\n"
     ]
    },
    {
     "name": "stdout",
     "output_type": "stream",
     "text": [
      "Epoch 170, Loss 0.0399\n",
      "Training Accuracy: 0.9585, Testing Accuracy: 0.9662\n",
      "\n"
     ]
    },
    {
     "name": "stdout",
     "output_type": "stream",
     "text": [
      "Epoch 180, Loss 0.0394\n",
      "Training Accuracy: 0.9588, Testing Accuracy: 0.9662\n",
      "\n"
     ]
    },
    {
     "name": "stdout",
     "output_type": "stream",
     "text": [
      "Epoch 190, Loss 0.0389\n",
      "Training Accuracy: 0.9594, Testing Accuracy: 0.9667\n",
      "\n"
     ]
    },
    {
     "name": "stdout",
     "output_type": "stream",
     "text": [
      "Epoch 200, Loss 0.0384\n",
      "Training Accuracy: 0.9597, Testing Accuracy: 0.9662\n",
      "\n"
     ]
    },
    {
     "name": "stdout",
     "output_type": "stream",
     "text": [
      "Epoch 210, Loss 0.038\n",
      "Training Accuracy: 0.9599, Testing Accuracy: 0.9662\n",
      "\n"
     ]
    },
    {
     "name": "stdout",
     "output_type": "stream",
     "text": [
      "Epoch 220, Loss 0.0376\n",
      "Training Accuracy: 0.9602, Testing Accuracy: 0.9662\n",
      "\n"
     ]
    },
    {
     "name": "stdout",
     "output_type": "stream",
     "text": [
      "Epoch 230, Loss 0.0372\n",
      "Training Accuracy: 0.9606, Testing Accuracy: 0.9667\n",
      "\n"
     ]
    },
    {
     "name": "stdout",
     "output_type": "stream",
     "text": [
      "Epoch 240, Loss 0.0368\n",
      "Training Accuracy: 0.9610, Testing Accuracy: 0.9667\n",
      "\n"
     ]
    },
    {
     "data": {
      "text/plain": [
       "0.011898873691699764"
      ]
     },
     "execution_count": 23,
     "metadata": {},
     "output_type": "execute_result"
    }
   ],
   "source": [
    "lr_learner.train_loop(dl)"
   ]
  },
  {
   "cell_type": "code",
   "execution_count": 24,
   "id": "ca410940",
   "metadata": {
    "execution": {
     "iopub.execute_input": "2022-01-25T20:10:36.806890Z",
     "iopub.status.busy": "2022-01-25T20:10:36.806287Z",
     "iopub.status.idle": "2022-01-25T20:10:37.072895Z",
     "shell.execute_reply": "2022-01-25T20:10:37.073337Z"
    },
    "papermill": {
     "duration": 0.328499,
     "end_time": "2022-01-25T20:10:37.073587",
     "exception": false,
     "start_time": "2022-01-25T20:10:36.745088",
     "status": "completed"
    },
    "tags": []
   },
   "outputs": [
    {
     "data": {
      "text/plain": [
       "<matplotlib.legend.Legend at 0x7f931009ef98>"
      ]
     },
     "execution_count": 24,
     "metadata": {},
     "output_type": "execute_result"
    },
    {
     "data": {
      "image/png": "[encoded data removed]",
      "text/plain": [
       "<Figure size 1080x720 with 1 Axes>"
      ]
     },
     "metadata": {
      "needs_background": "light"
     },
     "output_type": "display_data"
    }
   ],
   "source": [
    "#comparing the results of NN and LR\n",
    "plt.figure(figsize=(15,10))\n",
    "\n",
    "# Neural Network plots\n",
    "plt.plot(acc_nn.accuracies, 'r-', label = \"Training Accuracies - NN\")\n",
    "plt.plot(acc_nn.test_accuracies, 'g-', label = \"Testing Accuracies - NN\")\n",
    "\n",
    "# Logistic Regression plots\n",
    "plt.plot(acc_lr.accuracies, 'k-', label = \"Training Accuracies - LR\")\n",
    "plt.plot(acc_lr.test_accuracies, 'b-', label = \"Testing Accuracies - LR\")\n",
    "plt.legend()"
   ]
  },
  {
   "cell_type": "markdown",
   "id": "80dfb35c",
   "metadata": {
    "papermill": {
     "duration": 0.048938,
     "end_time": "2022-01-25T20:10:37.173374",
     "exception": false,
     "start_time": "2022-01-25T20:10:37.124436",
     "status": "completed"
    },
    "tags": []
   },
   "source": [
    "#### Plotting the outputs of this layer of the NN.\n"
   ]
  },
  {
   "cell_type": "code",
   "execution_count": 25,
   "id": "45eb2ff5",
   "metadata": {
    "execution": {
     "iopub.execute_input": "2022-01-25T20:10:37.280315Z",
     "iopub.status.busy": "2022-01-25T20:10:37.279600Z",
     "iopub.status.idle": "2022-01-25T20:10:37.305024Z",
     "shell.execute_reply": "2022-01-25T20:10:37.305848Z"
    },
    "papermill": {
     "duration": 0.080989,
     "end_time": "2022-01-25T20:10:37.306017",
     "exception": false,
     "start_time": "2022-01-25T20:10:37.225028",
     "status": "completed"
    },
    "tags": []
   },
   "outputs": [],
   "source": [
    "new_model = Model(layers[:-2])\n",
    "testing_plot = new_model(testing_data_x)"
   ]
  },
  {
   "cell_type": "code",
   "execution_count": 26,
   "id": "4c0a5485",
   "metadata": {
    "execution": {
     "iopub.execute_input": "2022-01-25T20:10:37.419823Z",
     "iopub.status.busy": "2022-01-25T20:10:37.418653Z",
     "iopub.status.idle": "2022-01-25T20:10:37.675354Z",
     "shell.execute_reply": "2022-01-25T20:10:37.675849Z"
    },
    "papermill": {
     "duration": 0.317849,
     "end_time": "2022-01-25T20:10:37.676015",
     "exception": false,
     "start_time": "2022-01-25T20:10:37.358166",
     "status": "completed"
    },
    "tags": []
   },
   "outputs": [
    {
     "data": {
      "text/plain": [
       "Text(0.5, 1.0, 'Outputs')"
      ]
     },
     "execution_count": 26,
     "metadata": {},
     "output_type": "execute_result"
    },
    {
     "data": {
      "image/png": "[encoded data removed]",
      "text/plain": [
       "<Figure size 576x504 with 1 Axes>"
      ]
     },
     "metadata": {
      "needs_background": "light"
     },
     "output_type": "display_data"
    }
   ],
   "source": [
    "# Plotting the scatter plot of points and color coding by class\n",
    "plt.figure(figsize=(8,7))\n",
    "plt.scatter(testing_plot[:,0], testing_plot[:,1], alpha = 0.1, c = y_test.ravel());\n",
    "plt.title('Outputs')"
   ]
  },
  {
   "cell_type": "markdown",
   "id": "a74fcf8f",
   "metadata": {
    "papermill": {
     "duration": 0.054167,
     "end_time": "2022-01-25T20:10:37.785821",
     "exception": false,
     "start_time": "2022-01-25T20:10:37.731654",
     "status": "completed"
    },
    "tags": []
   },
   "source": [
    "Probability contours"
   ]
  },
  {
   "cell_type": "code",
   "execution_count": 27,
   "id": "d0afc8e3",
   "metadata": {
    "execution": {
     "iopub.execute_input": "2022-01-25T20:10:37.927222Z",
     "iopub.status.busy": "2022-01-25T20:10:37.926471Z",
     "iopub.status.idle": "2022-01-25T20:10:37.938906Z",
     "shell.execute_reply": "2022-01-25T20:10:37.939447Z"
    },
    "papermill": {
     "duration": 0.099637,
     "end_time": "2022-01-25T20:10:37.939627",
     "exception": false,
     "start_time": "2022-01-25T20:10:37.839990",
     "status": "completed"
    },
    "tags": []
   },
   "outputs": [],
   "source": [
    "model_prob = Model(layers[-2:]) "
   ]
  },
  {
   "cell_type": "code",
   "execution_count": 28,
   "id": "9b96e238",
   "metadata": {
    "execution": {
     "iopub.execute_input": "2022-01-25T20:10:38.046041Z",
     "iopub.status.busy": "2022-01-25T20:10:38.045380Z",
     "iopub.status.idle": "2022-01-25T20:10:38.058487Z",
     "shell.execute_reply": "2022-01-25T20:10:38.058913Z"
    },
    "papermill": {
     "duration": 0.068449,
     "end_time": "2022-01-25T20:10:38.059054",
     "exception": false,
     "start_time": "2022-01-25T20:10:37.990605",
     "status": "completed"
    },
    "tags": []
   },
   "outputs": [],
   "source": [
    "#creating the x and y ranges according to the above generated plot.\n",
    "x_range = np.linspace(-4, 1, 100) \n",
    "y_range = np.linspace(-6, 6, 100) \n",
    "x_grid, y_grid = np.meshgrid(x_range, y_range) # x_grid and y_grig are of size 100 X 100\n",
    "\n",
    "# converting x_grid and y_grid to continuous arrays\n",
    "x_gridflat = np.ravel(x_grid)\n",
    "y_gridflat = np.ravel(y_grid)\n",
    "\n",
    "# The last layer of the current model takes two columns as input. Hence transpose of np.vstack() is required.\n",
    "X = np.vstack((x_gridflat, y_gridflat)).T\n",
    "\n",
    "prob_contour = model_prob(X).reshape(100,100) "
   ]
  },
  {
   "cell_type": "code",
   "execution_count": 29,
   "id": "da72499a",
   "metadata": {
    "execution": {
     "iopub.execute_input": "2022-01-25T20:10:38.172916Z",
     "iopub.status.busy": "2022-01-25T20:10:38.172311Z",
     "iopub.status.idle": "2022-01-25T20:10:38.473152Z",
     "shell.execute_reply": "2022-01-25T20:10:38.473686Z"
    },
    "papermill": {
     "duration": 0.361994,
     "end_time": "2022-01-25T20:10:38.473866",
     "exception": false,
     "start_time": "2022-01-25T20:10:38.111872",
     "status": "completed"
    },
    "tags": []
   },
   "outputs": [
    {
     "data": {
      "image/png": "[encoded data removed]",
      "text/plain": [
       "<Figure size 720x648 with 1 Axes>"
      ]
     },
     "metadata": {
      "needs_background": "light"
     },
     "output_type": "display_data"
    }
   ],
   "source": [
    "plt.figure(figsize=(10,9))\n",
    "plt.scatter(testing_plot[:,0], testing_plot[:,1], alpha = 0.1, c = y_test.ravel())\n",
    "contours = plt.contour(x_grid,y_grid,prob_contour)\n",
    "plt.title('Probability Contours')\n",
    "plt.clabel(contours, inline = True );"
   ]
  },
  {
   "cell_type": "code",
   "execution_count": null,
   "id": "e81b4ac7",
   "metadata": {
    "papermill": {
     "duration": 0.051145,
     "end_time": "2022-01-25T20:10:38.579387",
     "exception": false,
     "start_time": "2022-01-25T20:10:38.528242",
     "status": "completed"
    },
    "tags": []
   },
   "outputs": [],
   "source": []
  }
 ],
 "metadata": {
  "kernelspec": {
   "display_name": "Python 3",
   "language": "python",
   "name": "python3"
  },
  "language_info": {
   "codemirror_mode": {
    "name": "ipython",
    "version": 3
   },
   "file_extension": ".py",
   "mimetype": "text/x-python",
   "name": "python",
   "nbconvert_exporter": "python",
   "pygments_lexer": "ipython3",
   "version": "3.6.15"
  },
  "papermill": {
   "default_parameters": {},
   "duration": 170.769503,
   "end_time": "2022-01-25T20:10:38.949636",
   "environment_variables": {},
   "exception": null,
   "input_path": "2020-08-11-part2.ipynb",
   "output_path": "2020-08-11-part2.ipynb",
   "parameters": {},
   "start_time": "2022-01-25T20:07:48.180133",
   "version": "2.3.3"
  }
 },
 "nbformat": 4,
 "nbformat_minor": 5
}