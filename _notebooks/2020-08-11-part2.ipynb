{
 "cells": [
  {
   "cell_type": "markdown",
   "id": "98380cd3",
   "metadata": {
    "papermill": {
     "duration": 0.028382,
     "end_time": "2022-05-02T00:36:01.798239",
     "exception": false,
     "start_time": "2022-05-02T00:36:01.769857",
     "status": "completed"
    },
    "tags": []
   },
   "source": [
    "# Distinguish Your Own Digits (DYOD)"
   ]
  },
  {
   "cell_type": "markdown",
   "id": "ef31240d",
   "metadata": {
    "papermill": {
     "duration": 0.025667,
     "end_time": "2022-05-02T00:36:01.848743",
     "exception": false,
     "start_time": "2022-05-02T00:36:01.823076",
     "status": "completed"
    },
    "tags": []
   },
   "source": [
    "You are going to write a classifier that distinguishes between the number 3 and number 8."
   ]
  },
  {
   "cell_type": "code",
   "execution_count": 1,
   "id": "b15c8646",
   "metadata": {
    "execution": {
     "iopub.execute_input": "2022-05-02T00:36:01.908087Z",
     "iopub.status.busy": "2022-05-02T00:36:01.907515Z",
     "iopub.status.idle": "2022-05-02T00:36:01.918130Z",
     "shell.execute_reply": "2022-05-02T00:36:01.918535Z"
    },
    "papermill": {
     "duration": 0.04595,
     "end_time": "2022-05-02T00:36:01.918707",
     "exception": false,
     "start_time": "2022-05-02T00:36:01.872757",
     "status": "completed"
    },
    "tags": []
   },
   "outputs": [],
   "source": [
    "%load_ext autoreload\n",
    "%autoreload 2"
   ]
  },
  {
   "cell_type": "code",
   "execution_count": 2,
   "id": "22ef38dc",
   "metadata": {
    "execution": {
     "iopub.execute_input": "2022-05-02T00:36:01.972319Z",
     "iopub.status.busy": "2022-05-02T00:36:01.971780Z",
     "iopub.status.idle": "2022-05-02T00:36:02.533992Z",
     "shell.execute_reply": "2022-05-02T00:36:02.534484Z"
    },
    "papermill": {
     "duration": 0.591742,
     "end_time": "2022-05-02T00:36:02.534663",
     "exception": false,
     "start_time": "2022-05-02T00:36:01.942921",
     "status": "completed"
    },
    "tags": []
   },
   "outputs": [],
   "source": [
    "%matplotlib inline\n",
    "import numpy as np\n",
    "import matplotlib.pyplot as plt\n",
    "import pandas as pd"
   ]
  },
  {
   "cell_type": "markdown",
   "id": "ba036198",
   "metadata": {
    "papermill": {
     "duration": 0.02409,
     "end_time": "2022-05-02T00:36:02.583238",
     "exception": false,
     "start_time": "2022-05-02T00:36:02.559148",
     "status": "completed"
    },
    "tags": []
   },
   "source": [
    "From the command line run `pip install mnist`. This is a library that will help you bring down the mnist dataset. If you run this from a notebook, you need to put  `!pip install mnist` in a cell by itself."
   ]
  },
  {
   "cell_type": "code",
   "execution_count": 3,
   "id": "bb6ad8a1",
   "metadata": {
    "execution": {
     "iopub.execute_input": "2022-05-02T00:36:02.640925Z",
     "iopub.status.busy": "2022-05-02T00:36:02.640334Z",
     "iopub.status.idle": "2022-05-02T00:36:04.353093Z",
     "shell.execute_reply": "2022-05-02T00:36:04.353569Z"
    },
    "papermill": {
     "duration": 1.74638,
     "end_time": "2022-05-02T00:36:04.353719",
     "exception": false,
     "start_time": "2022-05-02T00:36:02.607339",
     "status": "completed"
    },
    "tags": []
   },
   "outputs": [
    {
     "name": "stdout",
     "output_type": "stream",
     "text": [
      "Collecting mnist\r\n"
     ]
    },
    {
     "name": "stdout",
     "output_type": "stream",
     "text": [
      "  Downloading mnist-0.2.2-py2.py3-none-any.whl (3.5 kB)\r\n",
      "Requirement already satisfied: numpy in /opt/hostedtoolcache/Python/3.6.15/x64/lib/python3.6/site-packages (from mnist) (1.19.5)\r\n"
     ]
    },
    {
     "name": "stdout",
     "output_type": "stream",
     "text": [
      "Installing collected packages: mnist\r\n"
     ]
    },
    {
     "name": "stdout",
     "output_type": "stream",
     "text": [
      "Successfully installed mnist-0.2.2\r\n"
     ]
    }
   ],
   "source": [
    "!pip install mnist"
   ]
  },
  {
   "cell_type": "markdown",
   "id": "69df9c9a",
   "metadata": {
    "papermill": {
     "duration": 0.025086,
     "end_time": "2022-05-02T00:36:04.404066",
     "exception": false,
     "start_time": "2022-05-02T00:36:04.378980",
     "status": "completed"
    },
    "tags": []
   },
   "source": [
    "## Preparing the Data"
   ]
  },
  {
   "cell_type": "code",
   "execution_count": 4,
   "id": "7f69d806",
   "metadata": {
    "execution": {
     "iopub.execute_input": "2022-05-02T00:36:04.476073Z",
     "iopub.status.busy": "2022-05-02T00:36:04.474910Z",
     "iopub.status.idle": "2022-05-02T00:36:04.478414Z",
     "shell.execute_reply": "2022-05-02T00:36:04.477992Z"
    },
    "papermill": {
     "duration": 0.049539,
     "end_time": "2022-05-02T00:36:04.478539",
     "exception": false,
     "start_time": "2022-05-02T00:36:04.429000",
     "status": "completed"
    },
    "tags": []
   },
   "outputs": [],
   "source": [
    "import mnist"
   ]
  },
  {
   "cell_type": "code",
   "execution_count": 5,
   "id": "a411e44f",
   "metadata": {
    "execution": {
     "iopub.execute_input": "2022-05-02T00:36:04.532603Z",
     "iopub.status.busy": "2022-05-02T00:36:04.532078Z",
     "iopub.status.idle": "2022-05-02T00:36:05.064227Z",
     "shell.execute_reply": "2022-05-02T00:36:05.064704Z"
    },
    "papermill": {
     "duration": 0.561069,
     "end_time": "2022-05-02T00:36:05.064899",
     "exception": false,
     "start_time": "2022-05-02T00:36:04.503830",
     "status": "completed"
    },
    "tags": []
   },
   "outputs": [],
   "source": [
    "train_images = mnist.train_images()\n",
    "train_labels = mnist.train_labels()"
   ]
  },
  {
   "cell_type": "code",
   "execution_count": 6,
   "id": "dceab3a5",
   "metadata": {
    "execution": {
     "iopub.execute_input": "2022-05-02T00:36:05.129719Z",
     "iopub.status.busy": "2022-05-02T00:36:05.128746Z",
     "iopub.status.idle": "2022-05-02T00:36:05.139641Z",
     "shell.execute_reply": "2022-05-02T00:36:05.139214Z"
    },
    "papermill": {
     "duration": 0.048164,
     "end_time": "2022-05-02T00:36:05.139768",
     "exception": false,
     "start_time": "2022-05-02T00:36:05.091604",
     "status": "completed"
    },
    "tags": []
   },
   "outputs": [
    {
     "data": {
      "text/plain": [
       "((60000, 28, 28), (60000,))"
      ]
     },
     "execution_count": 6,
     "metadata": {},
     "output_type": "execute_result"
    }
   ],
   "source": [
    "train_images.shape, train_labels.shape"
   ]
  },
  {
   "cell_type": "code",
   "execution_count": 7,
   "id": "f50dc2bb",
   "metadata": {
    "execution": {
     "iopub.execute_input": "2022-05-02T00:36:05.195108Z",
     "iopub.status.busy": "2022-05-02T00:36:05.194578Z",
     "iopub.status.idle": "2022-05-02T00:36:05.350560Z",
     "shell.execute_reply": "2022-05-02T00:36:05.350024Z"
    },
    "papermill": {
     "duration": 0.185449,
     "end_time": "2022-05-02T00:36:05.350707",
     "exception": false,
     "start_time": "2022-05-02T00:36:05.165258",
     "status": "completed"
    },
    "tags": []
   },
   "outputs": [],
   "source": [
    "test_images = mnist.test_images()\n",
    "test_labels = mnist.test_labels()"
   ]
  },
  {
   "cell_type": "code",
   "execution_count": 8,
   "id": "fc38cf1b",
   "metadata": {
    "execution": {
     "iopub.execute_input": "2022-05-02T00:36:05.414211Z",
     "iopub.status.busy": "2022-05-02T00:36:05.413674Z",
     "iopub.status.idle": "2022-05-02T00:36:05.423313Z",
     "shell.execute_reply": "2022-05-02T00:36:05.424070Z"
    },
    "papermill": {
     "duration": 0.04689,
     "end_time": "2022-05-02T00:36:05.424220",
     "exception": false,
     "start_time": "2022-05-02T00:36:05.377330",
     "status": "completed"
    },
    "tags": []
   },
   "outputs": [
    {
     "data": {
      "text/plain": [
       "((10000, 28, 28), (10000,))"
      ]
     },
     "execution_count": 8,
     "metadata": {},
     "output_type": "execute_result"
    }
   ],
   "source": [
    "test_images.shape, test_labels.shape"
   ]
  },
  {
   "cell_type": "code",
   "execution_count": 9,
   "id": "f9ed8fe0",
   "metadata": {
    "execution": {
     "iopub.execute_input": "2022-05-02T00:36:05.485123Z",
     "iopub.status.busy": "2022-05-02T00:36:05.484543Z",
     "iopub.status.idle": "2022-05-02T00:36:05.622523Z",
     "shell.execute_reply": "2022-05-02T00:36:05.622077Z"
    },
    "papermill": {
     "duration": 0.172708,
     "end_time": "2022-05-02T00:36:05.622653",
     "exception": false,
     "start_time": "2022-05-02T00:36:05.449945",
     "status": "completed"
    },
    "tags": []
   },
   "outputs": [
    {
     "name": "stdout",
     "output_type": "stream",
     "text": [
      "2\n"
     ]
    },
    {
     "data": {
      "text/plain": [
       "<matplotlib.image.AxesImage at 0x7f26d29ad7f0>"
      ]
     },
     "execution_count": 9,
     "metadata": {},
     "output_type": "execute_result"
    },
    {
     "data": {
      "image/png": "[encoded data removed]",
      "text/plain": [
       "<Figure size 432x288 with 1 Axes>"
      ]
     },
     "metadata": {
      "needs_background": "light"
     },
     "output_type": "display_data"
    }
   ],
   "source": [
    "image_index = 7776 # You may select anything up to 60,000\n",
    "print(train_labels[image_index]) \n",
    "plt.imshow(train_images[image_index], cmap='Greys')"
   ]
  },
  {
   "cell_type": "markdown",
   "id": "a8d2388d",
   "metadata": {
    "papermill": {
     "duration": 0.026513,
     "end_time": "2022-05-02T00:36:05.675995",
     "exception": false,
     "start_time": "2022-05-02T00:36:05.649482",
     "status": "completed"
    },
    "tags": []
   },
   "source": [
    "## Filter data to get 3 and 8 out"
   ]
  },
  {
   "cell_type": "code",
   "execution_count": 10,
   "id": "776f7fc7",
   "metadata": {
    "execution": {
     "iopub.execute_input": "2022-05-02T00:36:05.734605Z",
     "iopub.status.busy": "2022-05-02T00:36:05.733436Z",
     "iopub.status.idle": "2022-05-02T00:36:05.752457Z",
     "shell.execute_reply": "2022-05-02T00:36:05.751895Z"
    },
    "papermill": {
     "duration": 0.049898,
     "end_time": "2022-05-02T00:36:05.752593",
     "exception": false,
     "start_time": "2022-05-02T00:36:05.702695",
     "status": "completed"
    },
    "tags": []
   },
   "outputs": [],
   "source": [
    "train_filter = np.where((train_labels == 3 ) | (train_labels == 8))\n",
    "test_filter = np.where((test_labels == 3) | (test_labels == 8))\n",
    "X_train, y_train = train_images[train_filter], train_labels[train_filter]\n",
    "X_test, y_test = test_images[test_filter], test_labels[test_filter]"
   ]
  },
  {
   "cell_type": "markdown",
   "id": "948f0b7e",
   "metadata": {
    "papermill": {
     "duration": 0.027025,
     "end_time": "2022-05-02T00:36:05.807045",
     "exception": false,
     "start_time": "2022-05-02T00:36:05.780020",
     "status": "completed"
    },
    "tags": []
   },
   "source": [
    "We normalize the pizel values in the 0 to 1 range"
   ]
  },
  {
   "cell_type": "code",
   "execution_count": 11,
   "id": "ee4c2166",
   "metadata": {
    "execution": {
     "iopub.execute_input": "2022-05-02T00:36:05.878020Z",
     "iopub.status.busy": "2022-05-02T00:36:05.873824Z",
     "iopub.status.idle": "2022-05-02T00:36:05.917258Z",
     "shell.execute_reply": "2022-05-02T00:36:05.916285Z"
    },
    "papermill": {
     "duration": 0.083792,
     "end_time": "2022-05-02T00:36:05.917406",
     "exception": false,
     "start_time": "2022-05-02T00:36:05.833614",
     "status": "completed"
    },
    "tags": []
   },
   "outputs": [],
   "source": [
    "X_train = X_train/255.\n",
    "X_test = X_test/255."
   ]
  },
  {
   "cell_type": "markdown",
   "id": "ddcf4fab",
   "metadata": {
    "papermill": {
     "duration": 0.026911,
     "end_time": "2022-05-02T00:36:05.971307",
     "exception": false,
     "start_time": "2022-05-02T00:36:05.944396",
     "status": "completed"
    },
    "tags": []
   },
   "source": [
    "And setup the labels as 1 (when the digit is 3) and 0 (when the digit is 8)"
   ]
  },
  {
   "cell_type": "code",
   "execution_count": 12,
   "id": "7dc908f2",
   "metadata": {
    "execution": {
     "iopub.execute_input": "2022-05-02T00:36:06.029494Z",
     "iopub.status.busy": "2022-05-02T00:36:06.028386Z",
     "iopub.status.idle": "2022-05-02T00:36:06.040351Z",
     "shell.execute_reply": "2022-05-02T00:36:06.040752Z"
    },
    "papermill": {
     "duration": 0.04291,
     "end_time": "2022-05-02T00:36:06.040927",
     "exception": false,
     "start_time": "2022-05-02T00:36:05.998017",
     "status": "completed"
    },
    "tags": []
   },
   "outputs": [],
   "source": [
    "y_train = 1*(y_train==3)\n",
    "y_test = 1*(y_test==3)"
   ]
  },
  {
   "cell_type": "code",
   "execution_count": 13,
   "id": "01e4e969",
   "metadata": {
    "execution": {
     "iopub.execute_input": "2022-05-02T00:36:06.099327Z",
     "iopub.status.busy": "2022-05-02T00:36:06.098790Z",
     "iopub.status.idle": "2022-05-02T00:36:06.112714Z",
     "shell.execute_reply": "2022-05-02T00:36:06.113153Z"
    },
    "papermill": {
     "duration": 0.045506,
     "end_time": "2022-05-02T00:36:06.113311",
     "exception": false,
     "start_time": "2022-05-02T00:36:06.067805",
     "status": "completed"
    },
    "tags": []
   },
   "outputs": [
    {
     "data": {
      "text/plain": [
       "((11982, 28, 28), (1984, 28, 28))"
      ]
     },
     "execution_count": 13,
     "metadata": {},
     "output_type": "execute_result"
    }
   ],
   "source": [
    "X_train.shape, X_test.shape"
   ]
  },
  {
   "cell_type": "markdown",
   "id": "5ccf3f85",
   "metadata": {
    "papermill": {
     "duration": 0.026938,
     "end_time": "2022-05-02T00:36:06.167420",
     "exception": false,
     "start_time": "2022-05-02T00:36:06.140482",
     "status": "completed"
    },
    "tags": []
   },
   "source": [
    "We reshape the data to flatten the image pixels into a set of features or co-variates:"
   ]
  },
  {
   "cell_type": "code",
   "execution_count": 14,
   "id": "5286a4a3",
   "metadata": {
    "execution": {
     "iopub.execute_input": "2022-05-02T00:36:06.239619Z",
     "iopub.status.busy": "2022-05-02T00:36:06.231019Z",
     "iopub.status.idle": "2022-05-02T00:36:06.242980Z",
     "shell.execute_reply": "2022-05-02T00:36:06.242291Z"
    },
    "papermill": {
     "duration": 0.048401,
     "end_time": "2022-05-02T00:36:06.243105",
     "exception": false,
     "start_time": "2022-05-02T00:36:06.194704",
     "status": "completed"
    },
    "tags": []
   },
   "outputs": [
    {
     "data": {
      "text/plain": [
       "((11982, 784), (1984, 784))"
      ]
     },
     "execution_count": 14,
     "metadata": {},
     "output_type": "execute_result"
    }
   ],
   "source": [
    "X_train = X_train.reshape(X_train.shape[0], -1)\n",
    "X_test = X_test.reshape(X_test.shape[0], -1)\n",
    "X_train.shape, X_test.shape"
   ]
  },
  {
   "cell_type": "code",
   "execution_count": 15,
   "id": "73c5f88a",
   "metadata": {
    "execution": {
     "iopub.execute_input": "2022-05-02T00:36:06.324269Z",
     "iopub.status.busy": "2022-05-02T00:36:06.317578Z",
     "iopub.status.idle": "2022-05-02T00:36:06.326700Z",
     "shell.execute_reply": "2022-05-02T00:36:06.326270Z"
    },
    "papermill": {
     "duration": 0.056296,
     "end_time": "2022-05-02T00:36:06.326826",
     "exception": false,
     "start_time": "2022-05-02T00:36:06.270530",
     "status": "completed"
    },
    "tags": []
   },
   "outputs": [],
   "source": [
    "#Impoting functions from 'Kudzu'\n",
    "from kudzu.model import Model\n",
    "from kudzu.train import Learner\n",
    "from kudzu.optim import GD\n",
    "from kudzu.data import Data, Sampler,Dataloader\n",
    "\n",
    "from kudzu.callbacks import AccCallback\n",
    "from kudzu.callbacks import ClfCallback\n",
    "\n",
    "from kudzu.loss import MSE\n",
    "\n",
    "from kudzu.layer import Sigmoid,Relu\n",
    "from kudzu.layer import Affine"
   ]
  },
  {
   "cell_type": "markdown",
   "id": "bc01172a",
   "metadata": {
    "papermill": {
     "duration": 0.027453,
     "end_time": "2022-05-02T00:36:06.381909",
     "exception": false,
     "start_time": "2022-05-02T00:36:06.354456",
     "status": "completed"
    },
    "tags": []
   },
   "source": [
    "### Let us create a `Config` class, to store important parameters. \n",
    "This class essentially plays the role of a dictionary."
   ]
  },
  {
   "cell_type": "code",
   "execution_count": 16,
   "id": "978281aa",
   "metadata": {
    "execution": {
     "iopub.execute_input": "2022-05-02T00:36:06.443909Z",
     "iopub.status.busy": "2022-05-02T00:36:06.443361Z",
     "iopub.status.idle": "2022-05-02T00:36:06.453907Z",
     "shell.execute_reply": "2022-05-02T00:36:06.454320Z"
    },
    "papermill": {
     "duration": 0.045339,
     "end_time": "2022-05-02T00:36:06.454460",
     "exception": false,
     "start_time": "2022-05-02T00:36:06.409121",
     "status": "completed"
    },
    "tags": []
   },
   "outputs": [],
   "source": [
    "class Config:\n",
    "    pass\n",
    "config = Config()\n",
    "config.lr = 0.001\n",
    "config.num_epochs = 250\n",
    "config.bs = 50"
   ]
  },
  {
   "cell_type": "markdown",
   "id": "1385fa59",
   "metadata": {
    "papermill": {
     "duration": 0.027293,
     "end_time": "2022-05-02T00:36:06.509032",
     "exception": false,
     "start_time": "2022-05-02T00:36:06.481739",
     "status": "completed"
    },
    "tags": []
   },
   "source": [
    "### Running Models with the Training data\n",
    "Details about the network layers:\n",
    "- A first affine layer has 784 inputs and does 100 affine transforms. These are followed by a Relu\n",
    "- A second affine layer has 100 inputs from the 100 activations of the past layer, and does 100 affine transforms. These are followed by a Relu\n",
    "- A third affine layer has 100 activations and does 2 affine transformations to create an embedding for visualization. There is no non-linearity here.\n",
    "- A final \"logistic regression\" which has an affine transform from 2 inputs to 1 output, which is squeezed through a sigmoid.\n"
   ]
  },
  {
   "cell_type": "code",
   "execution_count": 17,
   "id": "2b9c66db",
   "metadata": {
    "execution": {
     "iopub.execute_input": "2022-05-02T00:36:06.568226Z",
     "iopub.status.busy": "2022-05-02T00:36:06.567675Z",
     "iopub.status.idle": "2022-05-02T00:36:06.581603Z",
     "shell.execute_reply": "2022-05-02T00:36:06.581106Z"
    },
    "papermill": {
     "duration": 0.04546,
     "end_time": "2022-05-02T00:36:06.581740",
     "exception": false,
     "start_time": "2022-05-02T00:36:06.536280",
     "status": "completed"
    },
    "tags": []
   },
   "outputs": [],
   "source": [
    "data = Data(X_train, y_train.reshape(-1,1))\n",
    "sampler = Sampler(data, config.bs, shuffle=True)\n",
    "\n",
    "dl = Dataloader(data, sampler)\n",
    "\n",
    "opt = GD(config.lr)\n",
    "loss = MSE()"
   ]
  },
  {
   "cell_type": "code",
   "execution_count": 18,
   "id": "b275e4c2",
   "metadata": {
    "execution": {
     "iopub.execute_input": "2022-05-02T00:36:06.640887Z",
     "iopub.status.busy": "2022-05-02T00:36:06.640331Z",
     "iopub.status.idle": "2022-05-02T00:36:06.652954Z",
     "shell.execute_reply": "2022-05-02T00:36:06.652504Z"
    },
    "papermill": {
     "duration": 0.043683,
     "end_time": "2022-05-02T00:36:06.653082",
     "exception": false,
     "start_time": "2022-05-02T00:36:06.609399",
     "status": "completed"
    },
    "tags": []
   },
   "outputs": [],
   "source": [
    "training_data_x = X_train\n",
    "testing_data_x = X_test\n",
    "training_data_y = y_train.reshape(-1,1)\n",
    "testing_data_y = y_test.reshape(-1,1)"
   ]
  },
  {
   "cell_type": "code",
   "execution_count": 19,
   "id": "76951160",
   "metadata": {
    "execution": {
     "iopub.execute_input": "2022-05-02T00:36:06.712084Z",
     "iopub.status.busy": "2022-05-02T00:36:06.711550Z",
     "iopub.status.idle": "2022-05-02T00:36:06.727934Z",
     "shell.execute_reply": "2022-05-02T00:36:06.728346Z"
    },
    "papermill": {
     "duration": 0.048235,
     "end_time": "2022-05-02T00:36:06.728491",
     "exception": false,
     "start_time": "2022-05-02T00:36:06.680256",
     "status": "completed"
    },
    "tags": []
   },
   "outputs": [
    {
     "name": "stdout",
     "output_type": "stream",
     "text": [
      "xavier\n",
      "xavier\n",
      "xavier\n",
      "xavier\n",
      "xavier\n"
     ]
    }
   ],
   "source": [
    "layers = [Affine(\"first\", 784, 100), Relu(\"first\"), Affine(\"second\", 100, 100), Relu(\"second\"), Affine(\"third\", 100, 2), Affine(\"last\", 2, 1), Sigmoid(\"last\")]\n",
    "model_nn = Model(layers)\n",
    "model_lr = Model([Affine(\"logits\", 784, 1), Sigmoid(\"sigmoid\")])"
   ]
  },
  {
   "cell_type": "code",
   "execution_count": 20,
   "id": "6eede77a",
   "metadata": {
    "execution": {
     "iopub.execute_input": "2022-05-02T00:36:06.802333Z",
     "iopub.status.busy": "2022-05-02T00:36:06.797692Z",
     "iopub.status.idle": "2022-05-02T00:36:06.804543Z",
     "shell.execute_reply": "2022-05-02T00:36:06.804098Z"
    },
    "papermill": {
     "duration": 0.048414,
     "end_time": "2022-05-02T00:36:06.804665",
     "exception": false,
     "start_time": "2022-05-02T00:36:06.756251",
     "status": "completed"
    },
    "tags": []
   },
   "outputs": [],
   "source": [
    "nn_learner = Learner(loss, model_nn, opt, config.num_epochs)\n",
    "acc_nn = ClfCallback(nn_learner, config.bs, training_data_x , testing_data_x, training_data_y, testing_data_y)\n",
    "nn_learner.set_callbacks([acc_nn])"
   ]
  },
  {
   "cell_type": "code",
   "execution_count": 21,
   "id": "877b6cc7",
   "metadata": {
    "execution": {
     "iopub.execute_input": "2022-05-02T00:36:06.863999Z",
     "iopub.status.busy": "2022-05-02T00:36:06.863478Z",
     "iopub.status.idle": "2022-05-02T00:36:06.876269Z",
     "shell.execute_reply": "2022-05-02T00:36:06.875823Z"
    },
    "papermill": {
     "duration": 0.044071,
     "end_time": "2022-05-02T00:36:06.876389",
     "exception": false,
     "start_time": "2022-05-02T00:36:06.832318",
     "status": "completed"
    },
    "tags": []
   },
   "outputs": [],
   "source": [
    "lr_learner = Learner(loss, model_lr, opt, config.num_epochs)\n",
    "acc_lr = ClfCallback(lr_learner, config.bs, training_data_x , testing_data_x, training_data_y, testing_data_y)\n",
    "lr_learner.set_callbacks([acc_lr])"
   ]
  },
  {
   "cell_type": "code",
   "execution_count": 22,
   "id": "d9b133c3",
   "metadata": {
    "execution": {
     "iopub.execute_input": "2022-05-02T00:36:06.935596Z",
     "iopub.status.busy": "2022-05-02T00:36:06.935084Z",
     "iopub.status.idle": "2022-05-02T00:37:24.990655Z",
     "shell.execute_reply": "2022-05-02T00:37:24.991416Z"
    },
    "papermill": {
     "duration": 78.087313,
     "end_time": "2022-05-02T00:37:24.991578",
     "exception": false,
     "start_time": "2022-05-02T00:36:06.904265",
     "status": "completed"
    },
    "tags": []
   },
   "outputs": [
    {
     "name": "stdout",
     "output_type": "stream",
     "text": [
      "Epoch 0, Loss 0.2532\n",
      "Training Accuracy: 0.4856, Testing Accuracy: 0.4819\n",
      "\n"
     ]
    },
    {
     "name": "stdout",
     "output_type": "stream",
     "text": [
      "Epoch 10, Loss 0.2014\n",
      "Training Accuracy: 0.8757, Testing Accuracy: 0.8936\n",
      "\n"
     ]
    },
    {
     "name": "stdout",
     "output_type": "stream",
     "text": [
      "Epoch 20, Loss 0.1066\n",
      "Training Accuracy: 0.9146, Testing Accuracy: 0.9128\n",
      "\n"
     ]
    },
    {
     "name": "stdout",
     "output_type": "stream",
     "text": [
      "Epoch 30, Loss 0.0643\n",
      "Training Accuracy: 0.9361, Testing Accuracy: 0.9405\n",
      "\n"
     ]
    },
    {
     "name": "stdout",
     "output_type": "stream",
     "text": [
      "Epoch 40, Loss 0.0488\n",
      "Training Accuracy: 0.9477, Testing Accuracy: 0.9572\n",
      "\n"
     ]
    },
    {
     "name": "stdout",
     "output_type": "stream",
     "text": [
      "Epoch 50, Loss 0.0412\n",
      "Training Accuracy: 0.9546, Testing Accuracy: 0.9612\n",
      "\n"
     ]
    },
    {
     "name": "stdout",
     "output_type": "stream",
     "text": [
      "Epoch 60, Loss 0.0367\n",
      "Training Accuracy: 0.9593, Testing Accuracy: 0.9652\n",
      "\n"
     ]
    },
    {
     "name": "stdout",
     "output_type": "stream",
     "text": [
      "Epoch 70, Loss 0.0338\n",
      "Training Accuracy: 0.9621, Testing Accuracy: 0.9657\n",
      "\n"
     ]
    },
    {
     "name": "stdout",
     "output_type": "stream",
     "text": [
      "Epoch 80, Loss 0.0316\n",
      "Training Accuracy: 0.9639, Testing Accuracy: 0.9677\n",
      "\n"
     ]
    },
    {
     "name": "stdout",
     "output_type": "stream",
     "text": [
      "Epoch 90, Loss 0.0299\n",
      "Training Accuracy: 0.9655, Testing Accuracy: 0.9693\n",
      "\n"
     ]
    },
    {
     "name": "stdout",
     "output_type": "stream",
     "text": [
      "Epoch 100, Loss 0.0286\n",
      "Training Accuracy: 0.9671, Testing Accuracy: 0.9693\n",
      "\n"
     ]
    },
    {
     "name": "stdout",
     "output_type": "stream",
     "text": [
      "Epoch 110, Loss 0.0274\n",
      "Training Accuracy: 0.9682, Testing Accuracy: 0.9682\n",
      "\n"
     ]
    },
    {
     "name": "stdout",
     "output_type": "stream",
     "text": [
      "Epoch 120, Loss 0.0264\n",
      "Training Accuracy: 0.9695, Testing Accuracy: 0.9698\n",
      "\n"
     ]
    },
    {
     "name": "stdout",
     "output_type": "stream",
     "text": [
      "Epoch 130, Loss 0.0256\n",
      "Training Accuracy: 0.9705, Testing Accuracy: 0.9708\n",
      "\n"
     ]
    },
    {
     "name": "stdout",
     "output_type": "stream",
     "text": [
      "Epoch 140, Loss 0.0248\n",
      "Training Accuracy: 0.9715, Testing Accuracy: 0.9718\n",
      "\n"
     ]
    },
    {
     "name": "stdout",
     "output_type": "stream",
     "text": [
      "Epoch 150, Loss 0.0241\n",
      "Training Accuracy: 0.9725, Testing Accuracy: 0.9708\n",
      "\n"
     ]
    },
    {
     "name": "stdout",
     "output_type": "stream",
     "text": [
      "Epoch 160, Loss 0.0234\n",
      "Training Accuracy: 0.9734, Testing Accuracy: 0.9728\n",
      "\n"
     ]
    },
    {
     "name": "stdout",
     "output_type": "stream",
     "text": [
      "Epoch 170, Loss 0.0228\n",
      "Training Accuracy: 0.9735, Testing Accuracy: 0.9733\n",
      "\n"
     ]
    },
    {
     "name": "stdout",
     "output_type": "stream",
     "text": [
      "Epoch 180, Loss 0.0223\n",
      "Training Accuracy: 0.9739, Testing Accuracy: 0.9733\n",
      "\n"
     ]
    },
    {
     "name": "stdout",
     "output_type": "stream",
     "text": [
      "Epoch 190, Loss 0.0218\n",
      "Training Accuracy: 0.9749, Testing Accuracy: 0.9738\n",
      "\n"
     ]
    },
    {
     "name": "stdout",
     "output_type": "stream",
     "text": [
      "Epoch 200, Loss 0.0213\n",
      "Training Accuracy: 0.9758, Testing Accuracy: 0.9743\n",
      "\n"
     ]
    },
    {
     "name": "stdout",
     "output_type": "stream",
     "text": [
      "Epoch 210, Loss 0.0208\n",
      "Training Accuracy: 0.9767, Testing Accuracy: 0.9748\n",
      "\n"
     ]
    },
    {
     "name": "stdout",
     "output_type": "stream",
     "text": [
      "Epoch 220, Loss 0.0204\n",
      "Training Accuracy: 0.9775, Testing Accuracy: 0.9758\n",
      "\n"
     ]
    },
    {
     "name": "stdout",
     "output_type": "stream",
     "text": [
      "Epoch 230, Loss 0.02\n",
      "Training Accuracy: 0.9777, Testing Accuracy: 0.9758\n",
      "\n"
     ]
    },
    {
     "name": "stdout",
     "output_type": "stream",
     "text": [
      "Epoch 240, Loss 0.0196\n",
      "Training Accuracy: 0.9781, Testing Accuracy: 0.9763\n",
      "\n"
     ]
    },
    {
     "data": {
      "text/plain": [
       "0.006301278987060971"
      ]
     },
     "execution_count": 22,
     "metadata": {},
     "output_type": "execute_result"
    }
   ],
   "source": [
    "nn_learner.train_loop(dl)"
   ]
  },
  {
   "cell_type": "code",
   "execution_count": 23,
   "id": "e0163366",
   "metadata": {
    "execution": {
     "iopub.execute_input": "2022-05-02T00:37:25.070325Z",
     "iopub.status.busy": "2022-05-02T00:37:25.069777Z",
     "iopub.status.idle": "2022-05-02T00:37:39.210017Z",
     "shell.execute_reply": "2022-05-02T00:37:39.210759Z"
    },
    "papermill": {
     "duration": 14.184651,
     "end_time": "2022-05-02T00:37:39.210913",
     "exception": false,
     "start_time": "2022-05-02T00:37:25.026262",
     "status": "completed"
    },
    "tags": []
   },
   "outputs": [
    {
     "name": "stdout",
     "output_type": "stream",
     "text": [
      "Epoch 0, Loss 0.2321\n",
      "Training Accuracy: 0.7142, Testing Accuracy: 0.7198\n",
      "\n"
     ]
    },
    {
     "name": "stdout",
     "output_type": "stream",
     "text": [
      "Epoch 10, Loss 0.1014\n",
      "Training Accuracy: 0.9135, Testing Accuracy: 0.9279\n",
      "\n"
     ]
    },
    {
     "name": "stdout",
     "output_type": "stream",
     "text": [
      "Epoch 20, Loss 0.078\n",
      "Training Accuracy: 0.9306, Testing Accuracy: 0.9390\n",
      "\n"
     ]
    },
    {
     "name": "stdout",
     "output_type": "stream",
     "text": [
      "Epoch 30, Loss 0.0674\n",
      "Training Accuracy: 0.9375, Testing Accuracy: 0.9466\n",
      "\n"
     ]
    },
    {
     "name": "stdout",
     "output_type": "stream",
     "text": [
      "Epoch 40, Loss 0.061\n",
      "Training Accuracy: 0.9420, Testing Accuracy: 0.9491\n",
      "\n"
     ]
    },
    {
     "name": "stdout",
     "output_type": "stream",
     "text": [
      "Epoch 50, Loss 0.0566\n",
      "Training Accuracy: 0.9457, Testing Accuracy: 0.9536\n",
      "\n"
     ]
    },
    {
     "name": "stdout",
     "output_type": "stream",
     "text": [
      "Epoch 60, Loss 0.0534\n",
      "Training Accuracy: 0.9483, Testing Accuracy: 0.9556\n",
      "\n"
     ]
    },
    {
     "name": "stdout",
     "output_type": "stream",
     "text": [
      "Epoch 70, Loss 0.0509\n",
      "Training Accuracy: 0.9507, Testing Accuracy: 0.9577\n",
      "\n"
     ]
    },
    {
     "name": "stdout",
     "output_type": "stream",
     "text": [
      "Epoch 80, Loss 0.0489\n",
      "Training Accuracy: 0.9524, Testing Accuracy: 0.9592\n",
      "\n"
     ]
    },
    {
     "name": "stdout",
     "output_type": "stream",
     "text": [
      "Epoch 90, Loss 0.0473\n",
      "Training Accuracy: 0.9536, Testing Accuracy: 0.9612\n",
      "\n"
     ]
    },
    {
     "name": "stdout",
     "output_type": "stream",
     "text": [
      "Epoch 100, Loss 0.0459\n",
      "Training Accuracy: 0.9543, Testing Accuracy: 0.9622\n",
      "\n"
     ]
    },
    {
     "name": "stdout",
     "output_type": "stream",
     "text": [
      "Epoch 110, Loss 0.0447\n",
      "Training Accuracy: 0.9548, Testing Accuracy: 0.9637\n",
      "\n"
     ]
    },
    {
     "name": "stdout",
     "output_type": "stream",
     "text": [
      "Epoch 120, Loss 0.0436\n",
      "Training Accuracy: 0.9553, Testing Accuracy: 0.9647\n",
      "\n"
     ]
    },
    {
     "name": "stdout",
     "output_type": "stream",
     "text": [
      "Epoch 130, Loss 0.0427\n",
      "Training Accuracy: 0.9559, Testing Accuracy: 0.9657\n",
      "\n"
     ]
    },
    {
     "name": "stdout",
     "output_type": "stream",
     "text": [
      "Epoch 140, Loss 0.0419\n",
      "Training Accuracy: 0.9568, Testing Accuracy: 0.9662\n",
      "\n"
     ]
    },
    {
     "name": "stdout",
     "output_type": "stream",
     "text": [
      "Epoch 150, Loss 0.0412\n",
      "Training Accuracy: 0.9572, Testing Accuracy: 0.9662\n",
      "\n"
     ]
    },
    {
     "name": "stdout",
     "output_type": "stream",
     "text": [
      "Epoch 160, Loss 0.0405\n",
      "Training Accuracy: 0.9579, Testing Accuracy: 0.9662\n",
      "\n"
     ]
    },
    {
     "name": "stdout",
     "output_type": "stream",
     "text": [
      "Epoch 170, Loss 0.0399\n",
      "Training Accuracy: 0.9579, Testing Accuracy: 0.9667\n",
      "\n"
     ]
    },
    {
     "name": "stdout",
     "output_type": "stream",
     "text": [
      "Epoch 180, Loss 0.0393\n",
      "Training Accuracy: 0.9584, Testing Accuracy: 0.9672\n",
      "\n"
     ]
    },
    {
     "name": "stdout",
     "output_type": "stream",
     "text": [
      "Epoch 190, Loss 0.0388\n",
      "Training Accuracy: 0.9587, Testing Accuracy: 0.9672\n",
      "\n"
     ]
    },
    {
     "name": "stdout",
     "output_type": "stream",
     "text": [
      "Epoch 200, Loss 0.0384\n",
      "Training Accuracy: 0.9591, Testing Accuracy: 0.9677\n",
      "\n"
     ]
    },
    {
     "name": "stdout",
     "output_type": "stream",
     "text": [
      "Epoch 210, Loss 0.0379\n",
      "Training Accuracy: 0.9599, Testing Accuracy: 0.9677\n",
      "\n"
     ]
    },
    {
     "name": "stdout",
     "output_type": "stream",
     "text": [
      "Epoch 220, Loss 0.0375\n",
      "Training Accuracy: 0.9603, Testing Accuracy: 0.9688\n",
      "\n"
     ]
    },
    {
     "name": "stdout",
     "output_type": "stream",
     "text": [
      "Epoch 230, Loss 0.0371\n",
      "Training Accuracy: 0.9602, Testing Accuracy: 0.9688\n",
      "\n"
     ]
    },
    {
     "name": "stdout",
     "output_type": "stream",
     "text": [
      "Epoch 240, Loss 0.0368\n",
      "Training Accuracy: 0.9604, Testing Accuracy: 0.9682\n",
      "\n"
     ]
    },
    {
     "data": {
      "text/plain": [
       "0.07293435156449998"
      ]
     },
     "execution_count": 23,
     "metadata": {},
     "output_type": "execute_result"
    }
   ],
   "source": [
    "lr_learner.train_loop(dl)"
   ]
  },
  {
   "cell_type": "code",
   "execution_count": 24,
   "id": "ca410940",
   "metadata": {
    "execution": {
     "iopub.execute_input": "2022-05-02T00:37:39.306336Z",
     "iopub.status.busy": "2022-05-02T00:37:39.305767Z",
     "iopub.status.idle": "2022-05-02T00:37:39.531804Z",
     "shell.execute_reply": "2022-05-02T00:37:39.531365Z"
    },
    "papermill": {
     "duration": 0.278263,
     "end_time": "2022-05-02T00:37:39.531930",
     "exception": false,
     "start_time": "2022-05-02T00:37:39.253667",
     "status": "completed"
    },
    "tags": []
   },
   "outputs": [
    {
     "data": {
      "text/plain": [
       "<matplotlib.legend.Legend at 0x7f26d2518b00>"
      ]
     },
     "execution_count": 24,
     "metadata": {},
     "output_type": "execute_result"
    },
    {
     "data": {
      "image/png": "[encoded data removed]",
      "text/plain": [
       "<Figure size 1080x720 with 1 Axes>"
      ]
     },
     "metadata": {
      "needs_background": "light"
     },
     "output_type": "display_data"
    }
   ],
   "source": [
    "#comparing the results of NN and LR\n",
    "plt.figure(figsize=(15,10))\n",
    "\n",
    "# Neural Network plots\n",
    "plt.plot(acc_nn.accuracies, 'r-', label = \"Training Accuracies - NN\")\n",
    "plt.plot(acc_nn.test_accuracies, 'g-', label = \"Testing Accuracies - NN\")\n",
    "\n",
    "# Logistic Regression plots\n",
    "plt.plot(acc_lr.accuracies, 'k-', label = \"Training Accuracies - LR\")\n",
    "plt.plot(acc_lr.test_accuracies, 'b-', label = \"Testing Accuracies - LR\")\n",
    "plt.legend()"
   ]
  },
  {
   "cell_type": "markdown",
   "id": "80dfb35c",
   "metadata": {
    "papermill": {
     "duration": 0.042144,
     "end_time": "2022-05-02T00:37:39.616470",
     "exception": false,
     "start_time": "2022-05-02T00:37:39.574326",
     "status": "completed"
    },
    "tags": []
   },
   "source": [
    "#### Plotting the outputs of this layer of the NN.\n"
   ]
  },
  {
   "cell_type": "code",
   "execution_count": 25,
   "id": "45eb2ff5",
   "metadata": {
    "execution": {
     "iopub.execute_input": "2022-05-02T00:37:39.708603Z",
     "iopub.status.busy": "2022-05-02T00:37:39.708021Z",
     "iopub.status.idle": "2022-05-02T00:37:39.726656Z",
     "shell.execute_reply": "2022-05-02T00:37:39.727073Z"
    },
    "papermill": {
     "duration": 0.068668,
     "end_time": "2022-05-02T00:37:39.727228",
     "exception": false,
     "start_time": "2022-05-02T00:37:39.658560",
     "status": "completed"
    },
    "tags": []
   },
   "outputs": [],
   "source": [
    "new_model = Model(layers[:-2])\n",
    "testing_plot = new_model(testing_data_x)"
   ]
  },
  {
   "cell_type": "code",
   "execution_count": 26,
   "id": "4c0a5485",
   "metadata": {
    "execution": {
     "iopub.execute_input": "2022-05-02T00:37:39.819166Z",
     "iopub.status.busy": "2022-05-02T00:37:39.818173Z",
     "iopub.status.idle": "2022-05-02T00:37:40.023336Z",
     "shell.execute_reply": "2022-05-02T00:37:40.023756Z"
    },
    "papermill": {
     "duration": 0.252873,
     "end_time": "2022-05-02T00:37:40.023904",
     "exception": false,
     "start_time": "2022-05-02T00:37:39.771031",
     "status": "completed"
    },
    "tags": []
   },
   "outputs": [
    {
     "data": {
      "text/plain": [
       "Text(0.5, 1.0, 'Outputs')"
      ]
     },
     "execution_count": 26,
     "metadata": {},
     "output_type": "execute_result"
    },
    {
     "data": {
      "image/png": "[encoded data removed]",
      "text/plain": [
       "<Figure size 576x504 with 1 Axes>"
      ]
     },
     "metadata": {
      "needs_background": "light"
     },
     "output_type": "display_data"
    }
   ],
   "source": [
    "# Plotting the scatter plot of points and color coding by class\n",
    "plt.figure(figsize=(8,7))\n",
    "plt.scatter(testing_plot[:,0], testing_plot[:,1], alpha = 0.1, c = y_test.ravel());\n",
    "plt.title('Outputs')"
   ]
  },
  {
   "cell_type": "markdown",
   "id": "a74fcf8f",
   "metadata": {
    "papermill": {
     "duration": 0.044065,
     "end_time": "2022-05-02T00:37:40.112211",
     "exception": false,
     "start_time": "2022-05-02T00:37:40.068146",
     "status": "completed"
    },
    "tags": []
   },
   "source": [
    "Probability contours"
   ]
  },
  {
   "cell_type": "code",
   "execution_count": 27,
   "id": "d0afc8e3",
   "metadata": {
    "execution": {
     "iopub.execute_input": "2022-05-02T00:37:40.213520Z",
     "iopub.status.busy": "2022-05-02T00:37:40.210551Z",
     "iopub.status.idle": "2022-05-02T00:37:40.219510Z",
     "shell.execute_reply": "2022-05-02T00:37:40.219067Z"
    },
    "papermill": {
     "duration": 0.063325,
     "end_time": "2022-05-02T00:37:40.219632",
     "exception": false,
     "start_time": "2022-05-02T00:37:40.156307",
     "status": "completed"
    },
    "tags": []
   },
   "outputs": [],
   "source": [
    "model_prob = Model(layers[-2:]) "
   ]
  },
  {
   "cell_type": "code",
   "execution_count": 28,
   "id": "9b96e238",
   "metadata": {
    "execution": {
     "iopub.execute_input": "2022-05-02T00:37:40.357529Z",
     "iopub.status.busy": "2022-05-02T00:37:40.353703Z",
     "iopub.status.idle": "2022-05-02T00:37:40.367923Z",
     "shell.execute_reply": "2022-05-02T00:37:40.367234Z"
    },
    "papermill": {
     "duration": 0.070296,
     "end_time": "2022-05-02T00:37:40.368052",
     "exception": false,
     "start_time": "2022-05-02T00:37:40.297756",
     "status": "completed"
    },
    "tags": []
   },
   "outputs": [],
   "source": [
    "#creating the x and y ranges according to the above generated plot.\n",
    "x_range = np.linspace(-4, 1, 100) \n",
    "y_range = np.linspace(-6, 6, 100) \n",
    "x_grid, y_grid = np.meshgrid(x_range, y_range) # x_grid and y_grig are of size 100 X 100\n",
    "\n",
    "# converting x_grid and y_grid to continuous arrays\n",
    "x_gridflat = np.ravel(x_grid)\n",
    "y_gridflat = np.ravel(y_grid)\n",
    "\n",
    "# The last layer of the current model takes two columns as input. Hence transpose of np.vstack() is required.\n",
    "X = np.vstack((x_gridflat, y_gridflat)).T\n",
    "\n",
    "prob_contour = model_prob(X).reshape(100,100) "
   ]
  },
  {
   "cell_type": "code",
   "execution_count": 29,
   "id": "da72499a",
   "metadata": {
    "execution": {
     "iopub.execute_input": "2022-05-02T00:37:40.470137Z",
     "iopub.status.busy": "2022-05-02T00:37:40.469608Z",
     "iopub.status.idle": "2022-05-02T00:37:40.722104Z",
     "shell.execute_reply": "2022-05-02T00:37:40.722580Z"
    },
    "papermill": {
     "duration": 0.302305,
     "end_time": "2022-05-02T00:37:40.722735",
     "exception": false,
     "start_time": "2022-05-02T00:37:40.420430",
     "status": "completed"
    },
    "tags": []
   },
   "outputs": [
    {
     "data": {
      "image/png": "[encoded data removed]",
      "text/plain": [
       "<Figure size 720x648 with 1 Axes>"
      ]
     },
     "metadata": {
      "needs_background": "light"
     },
     "output_type": "display_data"
    }
   ],
   "source": [
    "plt.figure(figsize=(10,9))\n",
    "plt.scatter(testing_plot[:,0], testing_plot[:,1], alpha = 0.1, c = y_test.ravel())\n",
    "contours = plt.contour(x_grid,y_grid,prob_contour)\n",
    "plt.title('Probability Contours')\n",
    "plt.clabel(contours, inline = True );"
   ]
  },
  {
   "cell_type": "code",
   "execution_count": null,
   "id": "e81b4ac7",
   "metadata": {
    "papermill": {
     "duration": 0.046358,
     "end_time": "2022-05-02T00:37:40.816754",
     "exception": false,
     "start_time": "2022-05-02T00:37:40.770396",
     "status": "completed"
    },
    "tags": []
   },
   "outputs": [],
   "source": []
  }
 ],
 "metadata": {
  "kernelspec": {
   "display_name": "Python 3",
   "language": "python",
   "name": "python3"
  },
  "language_info": {
   "codemirror_mode": {
    "name": "ipython",
    "version": 3
   },
   "file_extension": ".py",
   "mimetype": "text/x-python",
   "name": "python",
   "nbconvert_exporter": "python",
   "pygments_lexer": "ipython3",
   "version": "3.6.15"
  },
  "papermill": {
   "default_parameters": {},
   "duration": 100.670046,
   "end_time": "2022-05-02T00:37:41.282772",
   "environment_variables": {},
   "exception": null,
   "input_path": "2020-08-11-part2.ipynb",
   "output_path": "2020-08-11-part2.ipynb",
   "parameters": {},
   "start_time": "2022-05-02T00:36:00.612726",
   "version": "2.3.3"
  }
 },
 "nbformat": 4,
 "nbformat_minor": 5
}