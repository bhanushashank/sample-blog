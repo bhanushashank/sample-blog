{
 "cells": [
  {
   "cell_type": "markdown",
   "id": "98380cd3",
   "metadata": {
    "papermill": {
     "duration": 0.027166,
     "end_time": "2022-06-14T10:10:11.635131",
     "exception": false,
     "start_time": "2022-06-14T10:10:11.607965",
     "status": "completed"
    },
    "tags": []
   },
   "source": [
    "# Distinguish Your Own Digits (DYOD)"
   ]
  },
  {
   "cell_type": "markdown",
   "id": "ef31240d",
   "metadata": {
    "papermill": {
     "duration": 0.020937,
     "end_time": "2022-06-14T10:10:11.677462",
     "exception": false,
     "start_time": "2022-06-14T10:10:11.656525",
     "status": "completed"
    },
    "tags": []
   },
   "source": [
    "You are going to write a classifier that distinguishes between the number 3 and number 8."
   ]
  },
  {
   "cell_type": "code",
   "execution_count": 1,
   "id": "b15c8646",
   "metadata": {
    "execution": {
     "iopub.execute_input": "2022-06-14T10:10:11.730119Z",
     "iopub.status.busy": "2022-06-14T10:10:11.729561Z",
     "iopub.status.idle": "2022-06-14T10:10:11.739969Z",
     "shell.execute_reply": "2022-06-14T10:10:11.740349Z"
    },
    "papermill": {
     "duration": 0.042225,
     "end_time": "2022-06-14T10:10:11.740491",
     "exception": false,
     "start_time": "2022-06-14T10:10:11.698266",
     "status": "completed"
    },
    "tags": []
   },
   "outputs": [],
   "source": [
    "%load_ext autoreload\n",
    "%autoreload 2"
   ]
  },
  {
   "cell_type": "code",
   "execution_count": 2,
   "id": "22ef38dc",
   "metadata": {
    "execution": {
     "iopub.execute_input": "2022-06-14T10:10:11.786595Z",
     "iopub.status.busy": "2022-06-14T10:10:11.786048Z",
     "iopub.status.idle": "2022-06-14T10:10:12.327277Z",
     "shell.execute_reply": "2022-06-14T10:10:12.326266Z"
    },
    "papermill": {
     "duration": 0.566012,
     "end_time": "2022-06-14T10:10:12.327422",
     "exception": false,
     "start_time": "2022-06-14T10:10:11.761410",
     "status": "completed"
    },
    "tags": []
   },
   "outputs": [],
   "source": [
    "%matplotlib inline\n",
    "import numpy as np\n",
    "import matplotlib.pyplot as plt\n",
    "import pandas as pd"
   ]
  },
  {
   "cell_type": "markdown",
   "id": "ba036198",
   "metadata": {
    "papermill": {
     "duration": 0.023642,
     "end_time": "2022-06-14T10:10:12.374623",
     "exception": false,
     "start_time": "2022-06-14T10:10:12.350981",
     "status": "completed"
    },
    "tags": []
   },
   "source": [
    "From the command line run `pip install mnist`. This is a library that will help you bring down the mnist dataset. If you run this from a notebook, you need to put  `!pip install mnist` in a cell by itself."
   ]
  },
  {
   "cell_type": "code",
   "execution_count": 3,
   "id": "bb6ad8a1",
   "metadata": {
    "execution": {
     "iopub.execute_input": "2022-06-14T10:10:12.437458Z",
     "iopub.status.busy": "2022-06-14T10:10:12.425437Z",
     "iopub.status.idle": "2022-06-14T10:10:14.048803Z",
     "shell.execute_reply": "2022-06-14T10:10:14.047779Z"
    },
    "papermill": {
     "duration": 1.650632,
     "end_time": "2022-06-14T10:10:14.048946",
     "exception": false,
     "start_time": "2022-06-14T10:10:12.398314",
     "status": "completed"
    },
    "tags": []
   },
   "outputs": [
    {
     "name": "stdout",
     "output_type": "stream",
     "text": [
      "Collecting mnist\r\n"
     ]
    },
    {
     "name": "stdout",
     "output_type": "stream",
     "text": [
      "  Downloading mnist-0.2.2-py2.py3-none-any.whl (3.5 kB)\r\n",
      "Requirement already satisfied: numpy in /opt/hostedtoolcache/Python/3.6.15/x64/lib/python3.6/site-packages (from mnist) (1.19.5)\r\n"
     ]
    },
    {
     "name": "stdout",
     "output_type": "stream",
     "text": [
      "Installing collected packages: mnist\r\n"
     ]
    },
    {
     "name": "stdout",
     "output_type": "stream",
     "text": [
      "Successfully installed mnist-0.2.2\r\n"
     ]
    }
   ],
   "source": [
    "!pip install mnist"
   ]
  },
  {
   "cell_type": "markdown",
   "id": "69df9c9a",
   "metadata": {
    "papermill": {
     "duration": 0.024621,
     "end_time": "2022-06-14T10:10:14.098489",
     "exception": false,
     "start_time": "2022-06-14T10:10:14.073868",
     "status": "completed"
    },
    "tags": []
   },
   "source": [
    "## Preparing the Data"
   ]
  },
  {
   "cell_type": "code",
   "execution_count": 4,
   "id": "7f69d806",
   "metadata": {
    "execution": {
     "iopub.execute_input": "2022-06-14T10:10:14.157947Z",
     "iopub.status.busy": "2022-06-14T10:10:14.151593Z",
     "iopub.status.idle": "2022-06-14T10:10:14.166275Z",
     "shell.execute_reply": "2022-06-14T10:10:14.165819Z"
    },
    "papermill": {
     "duration": 0.043229,
     "end_time": "2022-06-14T10:10:14.166386",
     "exception": false,
     "start_time": "2022-06-14T10:10:14.123157",
     "status": "completed"
    },
    "tags": []
   },
   "outputs": [],
   "source": [
    "import mnist"
   ]
  },
  {
   "cell_type": "code",
   "execution_count": 5,
   "id": "a411e44f",
   "metadata": {
    "execution": {
     "iopub.execute_input": "2022-06-14T10:10:14.214058Z",
     "iopub.status.busy": "2022-06-14T10:10:14.213495Z",
     "iopub.status.idle": "2022-06-14T10:10:14.690547Z",
     "shell.execute_reply": "2022-06-14T10:10:14.690962Z"
    },
    "papermill": {
     "duration": 0.502817,
     "end_time": "2022-06-14T10:10:14.691098",
     "exception": false,
     "start_time": "2022-06-14T10:10:14.188281",
     "status": "completed"
    },
    "tags": []
   },
   "outputs": [],
   "source": [
    "train_images = mnist.train_images()\n",
    "train_labels = mnist.train_labels()"
   ]
  },
  {
   "cell_type": "code",
   "execution_count": 6,
   "id": "dceab3a5",
   "metadata": {
    "execution": {
     "iopub.execute_input": "2022-06-14T10:10:14.739373Z",
     "iopub.status.busy": "2022-06-14T10:10:14.738839Z",
     "iopub.status.idle": "2022-06-14T10:10:14.753868Z",
     "shell.execute_reply": "2022-06-14T10:10:14.753434Z"
    },
    "papermill": {
     "duration": 0.040903,
     "end_time": "2022-06-14T10:10:14.753972",
     "exception": false,
     "start_time": "2022-06-14T10:10:14.713069",
     "status": "completed"
    },
    "tags": []
   },
   "outputs": [
    {
     "data": {
      "text/plain": [
       "((60000, 28, 28), (60000,))"
      ]
     },
     "execution_count": 6,
     "metadata": {},
     "output_type": "execute_result"
    }
   ],
   "source": [
    "train_images.shape, train_labels.shape"
   ]
  },
  {
   "cell_type": "code",
   "execution_count": 7,
   "id": "f50dc2bb",
   "metadata": {
    "execution": {
     "iopub.execute_input": "2022-06-14T10:10:14.801713Z",
     "iopub.status.busy": "2022-06-14T10:10:14.801180Z",
     "iopub.status.idle": "2022-06-14T10:10:14.935166Z",
     "shell.execute_reply": "2022-06-14T10:10:14.934682Z"
    },
    "papermill": {
     "duration": 0.159392,
     "end_time": "2022-06-14T10:10:14.935276",
     "exception": false,
     "start_time": "2022-06-14T10:10:14.775884",
     "status": "completed"
    },
    "tags": []
   },
   "outputs": [],
   "source": [
    "test_images = mnist.test_images()\n",
    "test_labels = mnist.test_labels()"
   ]
  },
  {
   "cell_type": "code",
   "execution_count": 8,
   "id": "fc38cf1b",
   "metadata": {
    "execution": {
     "iopub.execute_input": "2022-06-14T10:10:14.984306Z",
     "iopub.status.busy": "2022-06-14T10:10:14.983766Z",
     "iopub.status.idle": "2022-06-14T10:10:14.997303Z",
     "shell.execute_reply": "2022-06-14T10:10:14.997798Z"
    },
    "papermill": {
     "duration": 0.039947,
     "end_time": "2022-06-14T10:10:14.997930",
     "exception": false,
     "start_time": "2022-06-14T10:10:14.957983",
     "status": "completed"
    },
    "tags": []
   },
   "outputs": [
    {
     "data": {
      "text/plain": [
       "((10000, 28, 28), (10000,))"
      ]
     },
     "execution_count": 8,
     "metadata": {},
     "output_type": "execute_result"
    }
   ],
   "source": [
    "test_images.shape, test_labels.shape"
   ]
  },
  {
   "cell_type": "code",
   "execution_count": 9,
   "id": "f9ed8fe0",
   "metadata": {
    "execution": {
     "iopub.execute_input": "2022-06-14T10:10:15.054033Z",
     "iopub.status.busy": "2022-06-14T10:10:15.053472Z",
     "iopub.status.idle": "2022-06-14T10:10:15.189498Z",
     "shell.execute_reply": "2022-06-14T10:10:15.189063Z"
    },
    "papermill": {
     "duration": 0.169342,
     "end_time": "2022-06-14T10:10:15.189608",
     "exception": false,
     "start_time": "2022-06-14T10:10:15.020266",
     "status": "completed"
    },
    "tags": []
   },
   "outputs": [
    {
     "name": "stdout",
     "output_type": "stream",
     "text": [
      "2\n"
     ]
    },
    {
     "data": {
      "text/plain": [
       "<matplotlib.image.AxesImage at 0x7f0288387390>"
      ]
     },
     "execution_count": 9,
     "metadata": {},
     "output_type": "execute_result"
    },
    {
     "data": {
      "image/png": "[encoded data removed]",
      "text/plain": [
       "<Figure size 432x288 with 1 Axes>"
      ]
     },
     "metadata": {
      "needs_background": "light"
     },
     "output_type": "display_data"
    }
   ],
   "source": [
    "image_index = 7776 # You may select anything up to 60,000\n",
    "print(train_labels[image_index]) \n",
    "plt.imshow(train_images[image_index], cmap='Greys')"
   ]
  },
  {
   "cell_type": "markdown",
   "id": "a8d2388d",
   "metadata": {
    "papermill": {
     "duration": 0.023571,
     "end_time": "2022-06-14T10:10:15.236530",
     "exception": false,
     "start_time": "2022-06-14T10:10:15.212959",
     "status": "completed"
    },
    "tags": []
   },
   "source": [
    "## Filter data to get 3 and 8 out"
   ]
  },
  {
   "cell_type": "code",
   "execution_count": 10,
   "id": "776f7fc7",
   "metadata": {
    "execution": {
     "iopub.execute_input": "2022-06-14T10:10:15.287492Z",
     "iopub.status.busy": "2022-06-14T10:10:15.286951Z",
     "iopub.status.idle": "2022-06-14T10:10:15.305641Z",
     "shell.execute_reply": "2022-06-14T10:10:15.305150Z"
    },
    "papermill": {
     "duration": 0.046063,
     "end_time": "2022-06-14T10:10:15.305756",
     "exception": false,
     "start_time": "2022-06-14T10:10:15.259693",
     "status": "completed"
    },
    "tags": []
   },
   "outputs": [],
   "source": [
    "train_filter = np.where((train_labels == 3 ) | (train_labels == 8))\n",
    "test_filter = np.where((test_labels == 3) | (test_labels == 8))\n",
    "X_train, y_train = train_images[train_filter], train_labels[train_filter]\n",
    "X_test, y_test = test_images[test_filter], test_labels[test_filter]"
   ]
  },
  {
   "cell_type": "markdown",
   "id": "948f0b7e",
   "metadata": {
    "papermill": {
     "duration": 0.023594,
     "end_time": "2022-06-14T10:10:15.353284",
     "exception": false,
     "start_time": "2022-06-14T10:10:15.329690",
     "status": "completed"
    },
    "tags": []
   },
   "source": [
    "We normalize the pizel values in the 0 to 1 range"
   ]
  },
  {
   "cell_type": "code",
   "execution_count": 11,
   "id": "ee4c2166",
   "metadata": {
    "execution": {
     "iopub.execute_input": "2022-06-14T10:10:15.404526Z",
     "iopub.status.busy": "2022-06-14T10:10:15.403922Z",
     "iopub.status.idle": "2022-06-14T10:10:15.451716Z",
     "shell.execute_reply": "2022-06-14T10:10:15.451119Z"
    },
    "papermill": {
     "duration": 0.075301,
     "end_time": "2022-06-14T10:10:15.451847",
     "exception": false,
     "start_time": "2022-06-14T10:10:15.376546",
     "status": "completed"
    },
    "tags": []
   },
   "outputs": [],
   "source": [
    "X_train = X_train/255.\n",
    "X_test = X_test/255."
   ]
  },
  {
   "cell_type": "markdown",
   "id": "ddcf4fab",
   "metadata": {
    "papermill": {
     "duration": 0.023427,
     "end_time": "2022-06-14T10:10:15.498950",
     "exception": false,
     "start_time": "2022-06-14T10:10:15.475523",
     "status": "completed"
    },
    "tags": []
   },
   "source": [
    "And setup the labels as 1 (when the digit is 3) and 0 (when the digit is 8)"
   ]
  },
  {
   "cell_type": "code",
   "execution_count": 12,
   "id": "7dc908f2",
   "metadata": {
    "execution": {
     "iopub.execute_input": "2022-06-14T10:10:15.549126Z",
     "iopub.status.busy": "2022-06-14T10:10:15.548586Z",
     "iopub.status.idle": "2022-06-14T10:10:15.561551Z",
     "shell.execute_reply": "2022-06-14T10:10:15.561121Z"
    },
    "papermill": {
     "duration": 0.039558,
     "end_time": "2022-06-14T10:10:15.561653",
     "exception": false,
     "start_time": "2022-06-14T10:10:15.522095",
     "status": "completed"
    },
    "tags": []
   },
   "outputs": [],
   "source": [
    "y_train = 1*(y_train==3)\n",
    "y_test = 1*(y_test==3)"
   ]
  },
  {
   "cell_type": "code",
   "execution_count": 13,
   "id": "01e4e969",
   "metadata": {
    "execution": {
     "iopub.execute_input": "2022-06-14T10:10:15.612402Z",
     "iopub.status.busy": "2022-06-14T10:10:15.611826Z",
     "iopub.status.idle": "2022-06-14T10:10:15.626416Z",
     "shell.execute_reply": "2022-06-14T10:10:15.625895Z"
    },
    "papermill": {
     "duration": 0.041564,
     "end_time": "2022-06-14T10:10:15.626520",
     "exception": false,
     "start_time": "2022-06-14T10:10:15.584956",
     "status": "completed"
    },
    "tags": []
   },
   "outputs": [
    {
     "data": {
      "text/plain": [
       "((11982, 28, 28), (1984, 28, 28))"
      ]
     },
     "execution_count": 13,
     "metadata": {},
     "output_type": "execute_result"
    }
   ],
   "source": [
    "X_train.shape, X_test.shape"
   ]
  },
  {
   "cell_type": "markdown",
   "id": "5ccf3f85",
   "metadata": {
    "papermill": {
     "duration": 0.023297,
     "end_time": "2022-06-14T10:10:15.673148",
     "exception": false,
     "start_time": "2022-06-14T10:10:15.649851",
     "status": "completed"
    },
    "tags": []
   },
   "source": [
    "We reshape the data to flatten the image pixels into a set of features or co-variates:"
   ]
  },
  {
   "cell_type": "code",
   "execution_count": 14,
   "id": "5286a4a3",
   "metadata": {
    "execution": {
     "iopub.execute_input": "2022-06-14T10:10:15.724337Z",
     "iopub.status.busy": "2022-06-14T10:10:15.723810Z",
     "iopub.status.idle": "2022-06-14T10:10:15.738601Z",
     "shell.execute_reply": "2022-06-14T10:10:15.738158Z"
    },
    "papermill": {
     "duration": 0.042175,
     "end_time": "2022-06-14T10:10:15.738710",
     "exception": false,
     "start_time": "2022-06-14T10:10:15.696535",
     "status": "completed"
    },
    "tags": []
   },
   "outputs": [
    {
     "data": {
      "text/plain": [
       "((11982, 784), (1984, 784))"
      ]
     },
     "execution_count": 14,
     "metadata": {},
     "output_type": "execute_result"
    }
   ],
   "source": [
    "X_train = X_train.reshape(X_train.shape[0], -1)\n",
    "X_test = X_test.reshape(X_test.shape[0], -1)\n",
    "X_train.shape, X_test.shape"
   ]
  },
  {
   "cell_type": "code",
   "execution_count": 15,
   "id": "73c5f88a",
   "metadata": {
    "execution": {
     "iopub.execute_input": "2022-06-14T10:10:15.791035Z",
     "iopub.status.busy": "2022-06-14T10:10:15.790410Z",
     "iopub.status.idle": "2022-06-14T10:10:15.807461Z",
     "shell.execute_reply": "2022-06-14T10:10:15.807901Z"
    },
    "papermill": {
     "duration": 0.045667,
     "end_time": "2022-06-14T10:10:15.808039",
     "exception": false,
     "start_time": "2022-06-14T10:10:15.762372",
     "status": "completed"
    },
    "tags": []
   },
   "outputs": [],
   "source": [
    "#Impoting functions from 'Kudzu'\n",
    "from kudzu.model import Model\n",
    "from kudzu.train import Learner\n",
    "from kudzu.optim import GD\n",
    "from kudzu.data import Data, Sampler,Dataloader\n",
    "\n",
    "from kudzu.callbacks import AccCallback\n",
    "from kudzu.callbacks import ClfCallback\n",
    "\n",
    "from kudzu.loss import MSE\n",
    "\n",
    "from kudzu.layer import Sigmoid,Relu\n",
    "from kudzu.layer import Affine"
   ]
  },
  {
   "cell_type": "markdown",
   "id": "bc01172a",
   "metadata": {
    "papermill": {
     "duration": 0.027093,
     "end_time": "2022-06-14T10:10:15.862019",
     "exception": false,
     "start_time": "2022-06-14T10:10:15.834926",
     "status": "completed"
    },
    "tags": []
   },
   "source": [
    "### Let us create a `Config` class, to store important parameters. \n",
    "This class essentially plays the role of a dictionary."
   ]
  },
  {
   "cell_type": "code",
   "execution_count": 16,
   "id": "978281aa",
   "metadata": {
    "execution": {
     "iopub.execute_input": "2022-06-14T10:10:15.919764Z",
     "iopub.status.busy": "2022-06-14T10:10:15.919166Z",
     "iopub.status.idle": "2022-06-14T10:10:15.931729Z",
     "shell.execute_reply": "2022-06-14T10:10:15.932162Z"
    },
    "papermill": {
     "duration": 0.043621,
     "end_time": "2022-06-14T10:10:15.932307",
     "exception": false,
     "start_time": "2022-06-14T10:10:15.888686",
     "status": "completed"
    },
    "tags": []
   },
   "outputs": [],
   "source": [
    "class Config:\n",
    "    pass\n",
    "config = Config()\n",
    "config.lr = 0.001\n",
    "config.num_epochs = 250\n",
    "config.bs = 50"
   ]
  },
  {
   "cell_type": "markdown",
   "id": "1385fa59",
   "metadata": {
    "papermill": {
     "duration": 0.027027,
     "end_time": "2022-06-14T10:10:15.986672",
     "exception": false,
     "start_time": "2022-06-14T10:10:15.959645",
     "status": "completed"
    },
    "tags": []
   },
   "source": [
    "### Running Models with the Training data\n",
    "Details about the network layers:\n",
    "- A first affine layer has 784 inputs and does 100 affine transforms. These are followed by a Relu\n",
    "- A second affine layer has 100 inputs from the 100 activations of the past layer, and does 100 affine transforms. These are followed by a Relu\n",
    "- A third affine layer has 100 activations and does 2 affine transformations to create an embedding for visualization. There is no non-linearity here.\n",
    "- A final \"logistic regression\" which has an affine transform from 2 inputs to 1 output, which is squeezed through a sigmoid.\n"
   ]
  },
  {
   "cell_type": "code",
   "execution_count": 17,
   "id": "2b9c66db",
   "metadata": {
    "execution": {
     "iopub.execute_input": "2022-06-14T10:10:16.044638Z",
     "iopub.status.busy": "2022-06-14T10:10:16.044021Z",
     "iopub.status.idle": "2022-06-14T10:10:16.056242Z",
     "shell.execute_reply": "2022-06-14T10:10:16.055758Z"
    },
    "papermill": {
     "duration": 0.043058,
     "end_time": "2022-06-14T10:10:16.056357",
     "exception": false,
     "start_time": "2022-06-14T10:10:16.013299",
     "status": "completed"
    },
    "tags": []
   },
   "outputs": [],
   "source": [
    "data = Data(X_train, y_train.reshape(-1,1))\n",
    "sampler = Sampler(data, config.bs, shuffle=True)\n",
    "\n",
    "dl = Dataloader(data, sampler)\n",
    "\n",
    "opt = GD(config.lr)\n",
    "loss = MSE()"
   ]
  },
  {
   "cell_type": "code",
   "execution_count": 18,
   "id": "b275e4c2",
   "metadata": {
    "execution": {
     "iopub.execute_input": "2022-06-14T10:10:16.114317Z",
     "iopub.status.busy": "2022-06-14T10:10:16.113729Z",
     "iopub.status.idle": "2022-06-14T10:10:16.126119Z",
     "shell.execute_reply": "2022-06-14T10:10:16.125532Z"
    },
    "papermill": {
     "duration": 0.042998,
     "end_time": "2022-06-14T10:10:16.126231",
     "exception": false,
     "start_time": "2022-06-14T10:10:16.083233",
     "status": "completed"
    },
    "tags": []
   },
   "outputs": [],
   "source": [
    "training_data_x = X_train\n",
    "testing_data_x = X_test\n",
    "training_data_y = y_train.reshape(-1,1)\n",
    "testing_data_y = y_test.reshape(-1,1)"
   ]
  },
  {
   "cell_type": "code",
   "execution_count": 19,
   "id": "76951160",
   "metadata": {
    "execution": {
     "iopub.execute_input": "2022-06-14T10:10:16.184270Z",
     "iopub.status.busy": "2022-06-14T10:10:16.183660Z",
     "iopub.status.idle": "2022-06-14T10:10:16.199772Z",
     "shell.execute_reply": "2022-06-14T10:10:16.199194Z"
    },
    "papermill": {
     "duration": 0.046952,
     "end_time": "2022-06-14T10:10:16.199884",
     "exception": false,
     "start_time": "2022-06-14T10:10:16.152932",
     "status": "completed"
    },
    "tags": []
   },
   "outputs": [
    {
     "name": "stdout",
     "output_type": "stream",
     "text": [
      "xavier\n",
      "xavier\n",
      "xavier\n",
      "xavier\n",
      "xavier\n"
     ]
    }
   ],
   "source": [
    "layers = [Affine(\"first\", 784, 100), Relu(\"first\"), Affine(\"second\", 100, 100), Relu(\"second\"), Affine(\"third\", 100, 2), Affine(\"last\", 2, 1), Sigmoid(\"last\")]\n",
    "model_nn = Model(layers)\n",
    "model_lr = Model([Affine(\"logits\", 784, 1), Sigmoid(\"sigmoid\")])"
   ]
  },
  {
   "cell_type": "code",
   "execution_count": 20,
   "id": "6eede77a",
   "metadata": {
    "execution": {
     "iopub.execute_input": "2022-06-14T10:10:16.272997Z",
     "iopub.status.busy": "2022-06-14T10:10:16.272041Z",
     "iopub.status.idle": "2022-06-14T10:10:16.276658Z",
     "shell.execute_reply": "2022-06-14T10:10:16.275831Z"
    },
    "papermill": {
     "duration": 0.049691,
     "end_time": "2022-06-14T10:10:16.276776",
     "exception": false,
     "start_time": "2022-06-14T10:10:16.227085",
     "status": "completed"
    },
    "tags": []
   },
   "outputs": [],
   "source": [
    "nn_learner = Learner(loss, model_nn, opt, config.num_epochs)\n",
    "acc_nn = ClfCallback(nn_learner, config.bs, training_data_x , testing_data_x, training_data_y, testing_data_y)\n",
    "nn_learner.set_callbacks([acc_nn])"
   ]
  },
  {
   "cell_type": "code",
   "execution_count": 21,
   "id": "877b6cc7",
   "metadata": {
    "execution": {
     "iopub.execute_input": "2022-06-14T10:10:16.346427Z",
     "iopub.status.busy": "2022-06-14T10:10:16.339058Z",
     "iopub.status.idle": "2022-06-14T10:10:16.349237Z",
     "shell.execute_reply": "2022-06-14T10:10:16.348446Z"
    },
    "papermill": {
     "duration": 0.045629,
     "end_time": "2022-06-14T10:10:16.349357",
     "exception": false,
     "start_time": "2022-06-14T10:10:16.303728",
     "status": "completed"
    },
    "tags": []
   },
   "outputs": [],
   "source": [
    "lr_learner = Learner(loss, model_lr, opt, config.num_epochs)\n",
    "acc_lr = ClfCallback(lr_learner, config.bs, training_data_x , testing_data_x, training_data_y, testing_data_y)\n",
    "lr_learner.set_callbacks([acc_lr])"
   ]
  },
  {
   "cell_type": "code",
   "execution_count": 22,
   "id": "d9b133c3",
   "metadata": {
    "execution": {
     "iopub.execute_input": "2022-06-14T10:10:16.418767Z",
     "iopub.status.busy": "2022-06-14T10:10:16.415224Z",
     "iopub.status.idle": "2022-06-14T10:11:31.991845Z",
     "shell.execute_reply": "2022-06-14T10:11:31.992635Z"
    },
    "papermill": {
     "duration": 75.61638,
     "end_time": "2022-06-14T10:11:31.992775",
     "exception": false,
     "start_time": "2022-06-14T10:10:16.376395",
     "status": "completed"
    },
    "tags": []
   },
   "outputs": [
    {
     "name": "stdout",
     "output_type": "stream",
     "text": [
      "Epoch 0, Loss 0.2325\n",
      "Training Accuracy: 0.7359, Testing Accuracy: 0.7414\n",
      "\n"
     ]
    },
    {
     "name": "stdout",
     "output_type": "stream",
     "text": [
      "Epoch 10, Loss 0.0728\n",
      "Training Accuracy: 0.9271, Testing Accuracy: 0.9395\n",
      "\n"
     ]
    },
    {
     "name": "stdout",
     "output_type": "stream",
     "text": [
      "Epoch 20, Loss 0.0494\n",
      "Training Accuracy: 0.9466, Testing Accuracy: 0.9561\n",
      "\n"
     ]
    },
    {
     "name": "stdout",
     "output_type": "stream",
     "text": [
      "Epoch 30, Loss 0.0405\n",
      "Training Accuracy: 0.9554, Testing Accuracy: 0.9637\n",
      "\n"
     ]
    },
    {
     "name": "stdout",
     "output_type": "stream",
     "text": [
      "Epoch 40, Loss 0.0357\n",
      "Training Accuracy: 0.9601, Testing Accuracy: 0.9672\n",
      "\n"
     ]
    },
    {
     "name": "stdout",
     "output_type": "stream",
     "text": [
      "Epoch 50, Loss 0.0325\n",
      "Training Accuracy: 0.9637, Testing Accuracy: 0.9677\n",
      "\n"
     ]
    },
    {
     "name": "stdout",
     "output_type": "stream",
     "text": [
      "Epoch 60, Loss 0.0302\n",
      "Training Accuracy: 0.9653, Testing Accuracy: 0.9688\n",
      "\n"
     ]
    },
    {
     "name": "stdout",
     "output_type": "stream",
     "text": [
      "Epoch 70, Loss 0.0285\n",
      "Training Accuracy: 0.9674, Testing Accuracy: 0.9698\n",
      "\n"
     ]
    },
    {
     "name": "stdout",
     "output_type": "stream",
     "text": [
      "Epoch 80, Loss 0.027\n",
      "Training Accuracy: 0.9694, Testing Accuracy: 0.9703\n",
      "\n"
     ]
    },
    {
     "name": "stdout",
     "output_type": "stream",
     "text": [
      "Epoch 90, Loss 0.0258\n",
      "Training Accuracy: 0.9703, Testing Accuracy: 0.9718\n",
      "\n"
     ]
    },
    {
     "name": "stdout",
     "output_type": "stream",
     "text": [
      "Epoch 100, Loss 0.0248\n",
      "Training Accuracy: 0.9717, Testing Accuracy: 0.9723\n",
      "\n"
     ]
    },
    {
     "name": "stdout",
     "output_type": "stream",
     "text": [
      "Epoch 110, Loss 0.0239\n",
      "Training Accuracy: 0.9730, Testing Accuracy: 0.9728\n",
      "\n"
     ]
    },
    {
     "name": "stdout",
     "output_type": "stream",
     "text": [
      "Epoch 120, Loss 0.023\n",
      "Training Accuracy: 0.9740, Testing Accuracy: 0.9728\n",
      "\n"
     ]
    },
    {
     "name": "stdout",
     "output_type": "stream",
     "text": [
      "Epoch 130, Loss 0.0223\n",
      "Training Accuracy: 0.9750, Testing Accuracy: 0.9738\n",
      "\n"
     ]
    },
    {
     "name": "stdout",
     "output_type": "stream",
     "text": [
      "Epoch 140, Loss 0.0217\n",
      "Training Accuracy: 0.9762, Testing Accuracy: 0.9738\n",
      "\n"
     ]
    },
    {
     "name": "stdout",
     "output_type": "stream",
     "text": [
      "Epoch 150, Loss 0.0211\n",
      "Training Accuracy: 0.9768, Testing Accuracy: 0.9743\n",
      "\n"
     ]
    },
    {
     "name": "stdout",
     "output_type": "stream",
     "text": [
      "Epoch 160, Loss 0.0205\n",
      "Training Accuracy: 0.9774, Testing Accuracy: 0.9748\n",
      "\n"
     ]
    },
    {
     "name": "stdout",
     "output_type": "stream",
     "text": [
      "Epoch 170, Loss 0.02\n",
      "Training Accuracy: 0.9780, Testing Accuracy: 0.9743\n",
      "\n"
     ]
    },
    {
     "name": "stdout",
     "output_type": "stream",
     "text": [
      "Epoch 180, Loss 0.0196\n",
      "Training Accuracy: 0.9785, Testing Accuracy: 0.9748\n",
      "\n"
     ]
    },
    {
     "name": "stdout",
     "output_type": "stream",
     "text": [
      "Epoch 190, Loss 0.0191\n",
      "Training Accuracy: 0.9789, Testing Accuracy: 0.9748\n",
      "\n"
     ]
    },
    {
     "name": "stdout",
     "output_type": "stream",
     "text": [
      "Epoch 200, Loss 0.0187\n",
      "Training Accuracy: 0.9791, Testing Accuracy: 0.9748\n",
      "\n"
     ]
    },
    {
     "name": "stdout",
     "output_type": "stream",
     "text": [
      "Epoch 210, Loss 0.0184\n",
      "Training Accuracy: 0.9792, Testing Accuracy: 0.9748\n",
      "\n"
     ]
    },
    {
     "name": "stdout",
     "output_type": "stream",
     "text": [
      "Epoch 220, Loss 0.018\n",
      "Training Accuracy: 0.9800, Testing Accuracy: 0.9753\n",
      "\n"
     ]
    },
    {
     "name": "stdout",
     "output_type": "stream",
     "text": [
      "Epoch 230, Loss 0.0176\n",
      "Training Accuracy: 0.9805, Testing Accuracy: 0.9748\n",
      "\n"
     ]
    },
    {
     "name": "stdout",
     "output_type": "stream",
     "text": [
      "Epoch 240, Loss 0.0173\n",
      "Training Accuracy: 0.9809, Testing Accuracy: 0.9753\n",
      "\n"
     ]
    },
    {
     "data": {
      "text/plain": [
       "0.04781368366892362"
      ]
     },
     "execution_count": 22,
     "metadata": {},
     "output_type": "execute_result"
    }
   ],
   "source": [
    "nn_learner.train_loop(dl)"
   ]
  },
  {
   "cell_type": "code",
   "execution_count": 23,
   "id": "e0163366",
   "metadata": {
    "execution": {
     "iopub.execute_input": "2022-06-14T10:11:32.062424Z",
     "iopub.status.busy": "2022-06-14T10:11:32.061881Z",
     "iopub.status.idle": "2022-06-14T10:11:45.307940Z",
     "shell.execute_reply": "2022-06-14T10:11:45.308732Z"
    },
    "papermill": {
     "duration": 13.285853,
     "end_time": "2022-06-14T10:11:45.308877",
     "exception": false,
     "start_time": "2022-06-14T10:11:32.023024",
     "status": "completed"
    },
    "tags": []
   },
   "outputs": [
    {
     "name": "stdout",
     "output_type": "stream",
     "text": [
      "Epoch 0, Loss 0.2142\n",
      "Training Accuracy: 0.7837, Testing Accuracy: 0.8211\n",
      "\n"
     ]
    },
    {
     "name": "stdout",
     "output_type": "stream",
     "text": [
      "Epoch 10, Loss 0.0992\n",
      "Training Accuracy: 0.9140, Testing Accuracy: 0.9269\n",
      "\n"
     ]
    },
    {
     "name": "stdout",
     "output_type": "stream",
     "text": [
      "Epoch 20, Loss 0.0773\n",
      "Training Accuracy: 0.9293, Testing Accuracy: 0.9451\n",
      "\n"
     ]
    },
    {
     "name": "stdout",
     "output_type": "stream",
     "text": [
      "Epoch 30, Loss 0.067\n",
      "Training Accuracy: 0.9360, Testing Accuracy: 0.9511\n",
      "\n"
     ]
    },
    {
     "name": "stdout",
     "output_type": "stream",
     "text": [
      "Epoch 40, Loss 0.0608\n",
      "Training Accuracy: 0.9417, Testing Accuracy: 0.9536\n",
      "\n"
     ]
    },
    {
     "name": "stdout",
     "output_type": "stream",
     "text": [
      "Epoch 50, Loss 0.0564\n",
      "Training Accuracy: 0.9450, Testing Accuracy: 0.9582\n",
      "\n"
     ]
    },
    {
     "name": "stdout",
     "output_type": "stream",
     "text": [
      "Epoch 60, Loss 0.0533\n",
      "Training Accuracy: 0.9471, Testing Accuracy: 0.9587\n",
      "\n"
     ]
    },
    {
     "name": "stdout",
     "output_type": "stream",
     "text": [
      "Epoch 70, Loss 0.0508\n",
      "Training Accuracy: 0.9499, Testing Accuracy: 0.9592\n",
      "\n"
     ]
    },
    {
     "name": "stdout",
     "output_type": "stream",
     "text": [
      "Epoch 80, Loss 0.0488\n",
      "Training Accuracy: 0.9517, Testing Accuracy: 0.9617\n",
      "\n"
     ]
    },
    {
     "name": "stdout",
     "output_type": "stream",
     "text": [
      "Epoch 90, Loss 0.0472\n",
      "Training Accuracy: 0.9533, Testing Accuracy: 0.9627\n",
      "\n"
     ]
    },
    {
     "name": "stdout",
     "output_type": "stream",
     "text": [
      "Epoch 100, Loss 0.0458\n",
      "Training Accuracy: 0.9548, Testing Accuracy: 0.9627\n",
      "\n"
     ]
    },
    {
     "name": "stdout",
     "output_type": "stream",
     "text": [
      "Epoch 110, Loss 0.0446\n",
      "Training Accuracy: 0.9559, Testing Accuracy: 0.9627\n",
      "\n"
     ]
    },
    {
     "name": "stdout",
     "output_type": "stream",
     "text": [
      "Epoch 120, Loss 0.0436\n",
      "Training Accuracy: 0.9566, Testing Accuracy: 0.9627\n",
      "\n"
     ]
    },
    {
     "name": "stdout",
     "output_type": "stream",
     "text": [
      "Epoch 130, Loss 0.0426\n",
      "Training Accuracy: 0.9572, Testing Accuracy: 0.9637\n",
      "\n"
     ]
    },
    {
     "name": "stdout",
     "output_type": "stream",
     "text": [
      "Epoch 140, Loss 0.0418\n",
      "Training Accuracy: 0.9579, Testing Accuracy: 0.9642\n",
      "\n"
     ]
    },
    {
     "name": "stdout",
     "output_type": "stream",
     "text": [
      "Epoch 150, Loss 0.0411\n",
      "Training Accuracy: 0.9584, Testing Accuracy: 0.9647\n",
      "\n"
     ]
    },
    {
     "name": "stdout",
     "output_type": "stream",
     "text": [
      "Epoch 160, Loss 0.0405\n",
      "Training Accuracy: 0.9589, Testing Accuracy: 0.9662\n",
      "\n"
     ]
    },
    {
     "name": "stdout",
     "output_type": "stream",
     "text": [
      "Epoch 170, Loss 0.0399\n",
      "Training Accuracy: 0.9591, Testing Accuracy: 0.9667\n",
      "\n"
     ]
    },
    {
     "name": "stdout",
     "output_type": "stream",
     "text": [
      "Epoch 180, Loss 0.0393\n",
      "Training Accuracy: 0.9589, Testing Accuracy: 0.9667\n",
      "\n"
     ]
    },
    {
     "name": "stdout",
     "output_type": "stream",
     "text": [
      "Epoch 190, Loss 0.0388\n",
      "Training Accuracy: 0.9591, Testing Accuracy: 0.9667\n",
      "\n"
     ]
    },
    {
     "name": "stdout",
     "output_type": "stream",
     "text": [
      "Epoch 200, Loss 0.0383\n",
      "Training Accuracy: 0.9596, Testing Accuracy: 0.9662\n",
      "\n"
     ]
    },
    {
     "name": "stdout",
     "output_type": "stream",
     "text": [
      "Epoch 210, Loss 0.0379\n",
      "Training Accuracy: 0.9601, Testing Accuracy: 0.9667\n",
      "\n"
     ]
    },
    {
     "name": "stdout",
     "output_type": "stream",
     "text": [
      "Epoch 220, Loss 0.0375\n",
      "Training Accuracy: 0.9602, Testing Accuracy: 0.9667\n",
      "\n"
     ]
    },
    {
     "name": "stdout",
     "output_type": "stream",
     "text": [
      "Epoch 230, Loss 0.0371\n",
      "Training Accuracy: 0.9604, Testing Accuracy: 0.9667\n",
      "\n"
     ]
    },
    {
     "name": "stdout",
     "output_type": "stream",
     "text": [
      "Epoch 240, Loss 0.0368\n",
      "Training Accuracy: 0.9607, Testing Accuracy: 0.9667\n",
      "\n"
     ]
    },
    {
     "data": {
      "text/plain": [
       "0.039979426168952434"
      ]
     },
     "execution_count": 23,
     "metadata": {},
     "output_type": "execute_result"
    }
   ],
   "source": [
    "lr_learner.train_loop(dl)"
   ]
  },
  {
   "cell_type": "code",
   "execution_count": 24,
   "id": "ca410940",
   "metadata": {
    "execution": {
     "iopub.execute_input": "2022-06-14T10:11:45.390542Z",
     "iopub.status.busy": "2022-06-14T10:11:45.389992Z",
     "iopub.status.idle": "2022-06-14T10:11:45.590798Z",
     "shell.execute_reply": "2022-06-14T10:11:45.590290Z"
    },
    "papermill": {
     "duration": 0.245885,
     "end_time": "2022-06-14T10:11:45.590914",
     "exception": false,
     "start_time": "2022-06-14T10:11:45.345029",
     "status": "completed"
    },
    "tags": []
   },
   "outputs": [
    {
     "data": {
      "text/plain": [
       "<matplotlib.legend.Legend at 0x7f0287ee6a20>"
      ]
     },
     "execution_count": 24,
     "metadata": {},
     "output_type": "execute_result"
    },
    {
     "data": {
      "image/png": "[encoded data removed]",
      "text/plain": [
       "<Figure size 1080x720 with 1 Axes>"
      ]
     },
     "metadata": {
      "needs_background": "light"
     },
     "output_type": "display_data"
    }
   ],
   "source": [
    "#comparing the results of NN and LR\n",
    "plt.figure(figsize=(15,10))\n",
    "\n",
    "# Neural Network plots\n",
    "plt.plot(acc_nn.accuracies, 'r-', label = \"Training Accuracies - NN\")\n",
    "plt.plot(acc_nn.test_accuracies, 'g-', label = \"Testing Accuracies - NN\")\n",
    "\n",
    "# Logistic Regression plots\n",
    "plt.plot(acc_lr.accuracies, 'k-', label = \"Training Accuracies - LR\")\n",
    "plt.plot(acc_lr.test_accuracies, 'b-', label = \"Testing Accuracies - LR\")\n",
    "plt.legend()"
   ]
  },
  {
   "cell_type": "markdown",
   "id": "80dfb35c",
   "metadata": {
    "papermill": {
     "duration": 0.042033,
     "end_time": "2022-06-14T10:11:45.676304",
     "exception": false,
     "start_time": "2022-06-14T10:11:45.634271",
     "status": "completed"
    },
    "tags": []
   },
   "source": [
    "#### Plotting the outputs of this layer of the NN.\n"
   ]
  },
  {
   "cell_type": "code",
   "execution_count": 25,
   "id": "45eb2ff5",
   "metadata": {
    "execution": {
     "iopub.execute_input": "2022-06-14T10:11:45.764135Z",
     "iopub.status.busy": "2022-06-14T10:11:45.763533Z",
     "iopub.status.idle": "2022-06-14T10:11:45.784398Z",
     "shell.execute_reply": "2022-06-14T10:11:45.784891Z"
    },
    "papermill": {
     "duration": 0.066966,
     "end_time": "2022-06-14T10:11:45.785048",
     "exception": false,
     "start_time": "2022-06-14T10:11:45.718082",
     "status": "completed"
    },
    "tags": []
   },
   "outputs": [],
   "source": [
    "new_model = Model(layers[:-2])\n",
    "testing_plot = new_model(testing_data_x)"
   ]
  },
  {
   "cell_type": "code",
   "execution_count": 26,
   "id": "4c0a5485",
   "metadata": {
    "execution": {
     "iopub.execute_input": "2022-06-14T10:11:45.884801Z",
     "iopub.status.busy": "2022-06-14T10:11:45.881464Z",
     "iopub.status.idle": "2022-06-14T10:11:46.067501Z",
     "shell.execute_reply": "2022-06-14T10:11:46.067976Z"
    },
    "papermill": {
     "duration": 0.241189,
     "end_time": "2022-06-14T10:11:46.068118",
     "exception": false,
     "start_time": "2022-06-14T10:11:45.826929",
     "status": "completed"
    },
    "tags": []
   },
   "outputs": [
    {
     "data": {
      "text/plain": [
       "Text(0.5, 1.0, 'Outputs')"
      ]
     },
     "execution_count": 26,
     "metadata": {},
     "output_type": "execute_result"
    },
    {
     "data": {
      "image/png": "[encoded data removed]",
      "text/plain": [
       "<Figure size 576x504 with 1 Axes>"
      ]
     },
     "metadata": {
      "needs_background": "light"
     },
     "output_type": "display_data"
    }
   ],
   "source": [
    "# Plotting the scatter plot of points and color coding by class\n",
    "plt.figure(figsize=(8,7))\n",
    "plt.scatter(testing_plot[:,0], testing_plot[:,1], alpha = 0.1, c = y_test.ravel());\n",
    "plt.title('Outputs')"
   ]
  },
  {
   "cell_type": "markdown",
   "id": "a74fcf8f",
   "metadata": {
    "papermill": {
     "duration": 0.044353,
     "end_time": "2022-06-14T10:11:46.156799",
     "exception": false,
     "start_time": "2022-06-14T10:11:46.112446",
     "status": "completed"
    },
    "tags": []
   },
   "source": [
    "Probability contours"
   ]
  },
  {
   "cell_type": "code",
   "execution_count": 27,
   "id": "d0afc8e3",
   "metadata": {
    "execution": {
     "iopub.execute_input": "2022-06-14T10:11:46.285956Z",
     "iopub.status.busy": "2022-06-14T10:11:46.285397Z",
     "iopub.status.idle": "2022-06-14T10:11:46.292648Z",
     "shell.execute_reply": "2022-06-14T10:11:46.292145Z"
    },
    "papermill": {
     "duration": 0.091674,
     "end_time": "2022-06-14T10:11:46.292764",
     "exception": false,
     "start_time": "2022-06-14T10:11:46.201090",
     "status": "completed"
    },
    "tags": []
   },
   "outputs": [],
   "source": [
    "model_prob = Model(layers[-2:]) "
   ]
  },
  {
   "cell_type": "code",
   "execution_count": 28,
   "id": "9b96e238",
   "metadata": {
    "execution": {
     "iopub.execute_input": "2022-06-14T10:11:46.397732Z",
     "iopub.status.busy": "2022-06-14T10:11:46.396610Z",
     "iopub.status.idle": "2022-06-14T10:11:46.404780Z",
     "shell.execute_reply": "2022-06-14T10:11:46.404298Z"
    },
    "papermill": {
     "duration": 0.067503,
     "end_time": "2022-06-14T10:11:46.404901",
     "exception": false,
     "start_time": "2022-06-14T10:11:46.337398",
     "status": "completed"
    },
    "tags": []
   },
   "outputs": [],
   "source": [
    "#creating the x and y ranges according to the above generated plot.\n",
    "x_range = np.linspace(-4, 1, 100) \n",
    "y_range = np.linspace(-6, 6, 100) \n",
    "x_grid, y_grid = np.meshgrid(x_range, y_range) # x_grid and y_grig are of size 100 X 100\n",
    "\n",
    "# converting x_grid and y_grid to continuous arrays\n",
    "x_gridflat = np.ravel(x_grid)\n",
    "y_gridflat = np.ravel(y_grid)\n",
    "\n",
    "# The last layer of the current model takes two columns as input. Hence transpose of np.vstack() is required.\n",
    "X = np.vstack((x_gridflat, y_gridflat)).T\n",
    "\n",
    "prob_contour = model_prob(X).reshape(100,100) "
   ]
  },
  {
   "cell_type": "code",
   "execution_count": 29,
   "id": "da72499a",
   "metadata": {
    "execution": {
     "iopub.execute_input": "2022-06-14T10:11:46.505827Z",
     "iopub.status.busy": "2022-06-14T10:11:46.505257Z",
     "iopub.status.idle": "2022-06-14T10:11:46.718996Z",
     "shell.execute_reply": "2022-06-14T10:11:46.718494Z"
    },
    "papermill": {
     "duration": 0.269247,
     "end_time": "2022-06-14T10:11:46.719112",
     "exception": false,
     "start_time": "2022-06-14T10:11:46.449865",
     "status": "completed"
    },
    "tags": []
   },
   "outputs": [
    {
     "data": {
      "image/png": "[encoded data removed]",
      "text/plain": [
       "<Figure size 720x648 with 1 Axes>"
      ]
     },
     "metadata": {
      "needs_background": "light"
     },
     "output_type": "display_data"
    }
   ],
   "source": [
    "plt.figure(figsize=(10,9))\n",
    "plt.scatter(testing_plot[:,0], testing_plot[:,1], alpha = 0.1, c = y_test.ravel())\n",
    "contours = plt.contour(x_grid,y_grid,prob_contour)\n",
    "plt.title('Probability Contours')\n",
    "plt.clabel(contours, inline = True );"
   ]
  },
  {
   "cell_type": "code",
   "execution_count": null,
   "id": "e81b4ac7",
   "metadata": {
    "papermill": {
     "duration": 0.047067,
     "end_time": "2022-06-14T10:11:46.814338",
     "exception": false,
     "start_time": "2022-06-14T10:11:46.767271",
     "status": "completed"
    },
    "tags": []
   },
   "outputs": [],
   "source": []
  }
 ],
 "metadata": {
  "kernelspec": {
   "display_name": "Python 3",
   "language": "python",
   "name": "python3"
  },
  "language_info": {
   "codemirror_mode": {
    "name": "ipython",
    "version": 3
   },
   "file_extension": ".py",
   "mimetype": "text/x-python",
   "name": "python",
   "nbconvert_exporter": "python",
   "pygments_lexer": "ipython3",
   "version": "3.6.15"
  },
  "papermill": {
   "default_parameters": {},
   "duration": 96.592912,
   "end_time": "2022-06-14T10:11:47.279845",
   "environment_variables": {},
   "exception": null,
   "input_path": "2020-08-11-part2.ipynb",
   "output_path": "2020-08-11-part2.ipynb",
   "parameters": {},
   "start_time": "2022-06-14T10:10:10.686933",
   "version": "2.3.3"
  }
 },
 "nbformat": 4,
 "nbformat_minor": 5
}