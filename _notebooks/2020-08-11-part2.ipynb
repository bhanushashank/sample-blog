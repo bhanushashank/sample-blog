{
 "cells": [
  {
   "cell_type": "markdown",
   "id": "98380cd3",
   "metadata": {
    "papermill": {
     "duration": 0.032601,
     "end_time": "2022-03-12T00:28:49.896317",
     "exception": false,
     "start_time": "2022-03-12T00:28:49.863716",
     "status": "completed"
    },
    "tags": []
   },
   "source": [
    "# Distinguish Your Own Digits (DYOD)"
   ]
  },
  {
   "cell_type": "markdown",
   "id": "ef31240d",
   "metadata": {
    "papermill": {
     "duration": 0.028186,
     "end_time": "2022-03-12T00:28:49.951862",
     "exception": false,
     "start_time": "2022-03-12T00:28:49.923676",
     "status": "completed"
    },
    "tags": []
   },
   "source": [
    "You are going to write a classifier that distinguishes between the number 3 and number 8."
   ]
  },
  {
   "cell_type": "code",
   "execution_count": 1,
   "id": "b15c8646",
   "metadata": {
    "execution": {
     "iopub.execute_input": "2022-03-12T00:28:50.017915Z",
     "iopub.status.busy": "2022-03-12T00:28:50.017304Z",
     "iopub.status.idle": "2022-03-12T00:28:50.029736Z",
     "shell.execute_reply": "2022-03-12T00:28:50.029210Z"
    },
    "papermill": {
     "duration": 0.051486,
     "end_time": "2022-03-12T00:28:50.029876",
     "exception": false,
     "start_time": "2022-03-12T00:28:49.978390",
     "status": "completed"
    },
    "tags": []
   },
   "outputs": [],
   "source": [
    "%load_ext autoreload\n",
    "%autoreload 2"
   ]
  },
  {
   "cell_type": "code",
   "execution_count": 2,
   "id": "22ef38dc",
   "metadata": {
    "execution": {
     "iopub.execute_input": "2022-03-12T00:28:50.099050Z",
     "iopub.status.busy": "2022-03-12T00:28:50.096238Z",
     "iopub.status.idle": "2022-03-12T00:28:50.753570Z",
     "shell.execute_reply": "2022-03-12T00:28:50.752945Z"
    },
    "papermill": {
     "duration": 0.69714,
     "end_time": "2022-03-12T00:28:50.753731",
     "exception": false,
     "start_time": "2022-03-12T00:28:50.056591",
     "status": "completed"
    },
    "tags": []
   },
   "outputs": [],
   "source": [
    "%matplotlib inline\n",
    "import numpy as np\n",
    "import matplotlib.pyplot as plt\n",
    "import pandas as pd"
   ]
  },
  {
   "cell_type": "markdown",
   "id": "ba036198",
   "metadata": {
    "papermill": {
     "duration": 0.026465,
     "end_time": "2022-03-12T00:28:50.807046",
     "exception": false,
     "start_time": "2022-03-12T00:28:50.780581",
     "status": "completed"
    },
    "tags": []
   },
   "source": [
    "From the command line run `pip install mnist`. This is a library that will help you bring down the mnist dataset. If you run this from a notebook, you need to put  `!pip install mnist` in a cell by itself."
   ]
  },
  {
   "cell_type": "code",
   "execution_count": 3,
   "id": "bb6ad8a1",
   "metadata": {
    "execution": {
     "iopub.execute_input": "2022-03-12T00:28:50.866188Z",
     "iopub.status.busy": "2022-03-12T00:28:50.865571Z",
     "iopub.status.idle": "2022-03-12T00:28:53.525158Z",
     "shell.execute_reply": "2022-03-12T00:28:53.524621Z"
    },
    "papermill": {
     "duration": 2.692349,
     "end_time": "2022-03-12T00:28:53.525300",
     "exception": false,
     "start_time": "2022-03-12T00:28:50.832951",
     "status": "completed"
    },
    "tags": []
   },
   "outputs": [
    {
     "name": "stdout",
     "output_type": "stream",
     "text": [
      "Collecting mnist\r\n"
     ]
    },
    {
     "name": "stdout",
     "output_type": "stream",
     "text": [
      "  Downloading mnist-0.2.2-py2.py3-none-any.whl (3.5 kB)\r\n",
      "Requirement already satisfied: numpy in /opt/hostedtoolcache/Python/3.6.15/x64/lib/python3.6/site-packages (from mnist) (1.19.5)\r\n"
     ]
    },
    {
     "name": "stdout",
     "output_type": "stream",
     "text": [
      "Installing collected packages: mnist\r\n"
     ]
    },
    {
     "name": "stdout",
     "output_type": "stream",
     "text": [
      "Successfully installed mnist-0.2.2\r\n"
     ]
    }
   ],
   "source": [
    "!pip install mnist"
   ]
  },
  {
   "cell_type": "markdown",
   "id": "69df9c9a",
   "metadata": {
    "papermill": {
     "duration": 0.028019,
     "end_time": "2022-03-12T00:28:53.581757",
     "exception": false,
     "start_time": "2022-03-12T00:28:53.553738",
     "status": "completed"
    },
    "tags": []
   },
   "source": [
    "## Preparing the Data"
   ]
  },
  {
   "cell_type": "code",
   "execution_count": 4,
   "id": "7f69d806",
   "metadata": {
    "execution": {
     "iopub.execute_input": "2022-03-12T00:28:53.641914Z",
     "iopub.status.busy": "2022-03-12T00:28:53.641331Z",
     "iopub.status.idle": "2022-03-12T00:28:53.657807Z",
     "shell.execute_reply": "2022-03-12T00:28:53.657296Z"
    },
    "papermill": {
     "duration": 0.048261,
     "end_time": "2022-03-12T00:28:53.657930",
     "exception": false,
     "start_time": "2022-03-12T00:28:53.609669",
     "status": "completed"
    },
    "tags": []
   },
   "outputs": [],
   "source": [
    "import mnist"
   ]
  },
  {
   "cell_type": "code",
   "execution_count": 5,
   "id": "a411e44f",
   "metadata": {
    "execution": {
     "iopub.execute_input": "2022-03-12T00:28:53.717710Z",
     "iopub.status.busy": "2022-03-12T00:28:53.717118Z",
     "iopub.status.idle": "2022-03-12T00:28:54.340511Z",
     "shell.execute_reply": "2022-03-12T00:28:54.339523Z"
    },
    "papermill": {
     "duration": 0.654361,
     "end_time": "2022-03-12T00:28:54.340724",
     "exception": false,
     "start_time": "2022-03-12T00:28:53.686363",
     "status": "completed"
    },
    "tags": []
   },
   "outputs": [],
   "source": [
    "train_images = mnist.train_images()\n",
    "train_labels = mnist.train_labels()"
   ]
  },
  {
   "cell_type": "code",
   "execution_count": 6,
   "id": "dceab3a5",
   "metadata": {
    "execution": {
     "iopub.execute_input": "2022-03-12T00:28:54.406530Z",
     "iopub.status.busy": "2022-03-12T00:28:54.405900Z",
     "iopub.status.idle": "2022-03-12T00:28:54.419425Z",
     "shell.execute_reply": "2022-03-12T00:28:54.419903Z"
    },
    "papermill": {
     "duration": 0.049398,
     "end_time": "2022-03-12T00:28:54.420048",
     "exception": false,
     "start_time": "2022-03-12T00:28:54.370650",
     "status": "completed"
    },
    "tags": []
   },
   "outputs": [
    {
     "data": {
      "text/plain": [
       "((60000, 28, 28), (60000,))"
      ]
     },
     "execution_count": 6,
     "metadata": {},
     "output_type": "execute_result"
    }
   ],
   "source": [
    "train_images.shape, train_labels.shape"
   ]
  },
  {
   "cell_type": "code",
   "execution_count": 7,
   "id": "f50dc2bb",
   "metadata": {
    "execution": {
     "iopub.execute_input": "2022-03-12T00:28:54.480407Z",
     "iopub.status.busy": "2022-03-12T00:28:54.479827Z",
     "iopub.status.idle": "2022-03-12T00:28:54.658679Z",
     "shell.execute_reply": "2022-03-12T00:28:54.657741Z"
    },
    "papermill": {
     "duration": 0.210793,
     "end_time": "2022-03-12T00:28:54.658824",
     "exception": false,
     "start_time": "2022-03-12T00:28:54.448031",
     "status": "completed"
    },
    "tags": []
   },
   "outputs": [],
   "source": [
    "test_images = mnist.test_images()\n",
    "test_labels = mnist.test_labels()"
   ]
  },
  {
   "cell_type": "code",
   "execution_count": 8,
   "id": "fc38cf1b",
   "metadata": {
    "execution": {
     "iopub.execute_input": "2022-03-12T00:28:54.719697Z",
     "iopub.status.busy": "2022-03-12T00:28:54.719113Z",
     "iopub.status.idle": "2022-03-12T00:28:54.733518Z",
     "shell.execute_reply": "2022-03-12T00:28:54.733006Z"
    },
    "papermill": {
     "duration": 0.046407,
     "end_time": "2022-03-12T00:28:54.733643",
     "exception": false,
     "start_time": "2022-03-12T00:28:54.687236",
     "status": "completed"
    },
    "tags": []
   },
   "outputs": [
    {
     "data": {
      "text/plain": [
       "((10000, 28, 28), (10000,))"
      ]
     },
     "execution_count": 8,
     "metadata": {},
     "output_type": "execute_result"
    }
   ],
   "source": [
    "test_images.shape, test_labels.shape"
   ]
  },
  {
   "cell_type": "code",
   "execution_count": 9,
   "id": "f9ed8fe0",
   "metadata": {
    "execution": {
     "iopub.execute_input": "2022-03-12T00:28:54.806942Z",
     "iopub.status.busy": "2022-03-12T00:28:54.801950Z",
     "iopub.status.idle": "2022-03-12T00:28:54.956095Z",
     "shell.execute_reply": "2022-03-12T00:28:54.955568Z"
    },
    "papermill": {
     "duration": 0.193777,
     "end_time": "2022-03-12T00:28:54.956224",
     "exception": false,
     "start_time": "2022-03-12T00:28:54.762447",
     "status": "completed"
    },
    "tags": []
   },
   "outputs": [
    {
     "name": "stdout",
     "output_type": "stream",
     "text": [
      "2\n"
     ]
    },
    {
     "data": {
      "text/plain": [
       "<matplotlib.image.AxesImage at 0x7fe7924225c0>"
      ]
     },
     "execution_count": 9,
     "metadata": {},
     "output_type": "execute_result"
    },
    {
     "data": {
      "image/png": "[encoded data removed]",
      "text/plain": [
       "<Figure size 432x288 with 1 Axes>"
      ]
     },
     "metadata": {
      "needs_background": "light"
     },
     "output_type": "display_data"
    }
   ],
   "source": [
    "image_index = 7776 # You may select anything up to 60,000\n",
    "print(train_labels[image_index]) \n",
    "plt.imshow(train_images[image_index], cmap='Greys')"
   ]
  },
  {
   "cell_type": "markdown",
   "id": "a8d2388d",
   "metadata": {
    "papermill": {
     "duration": 0.029342,
     "end_time": "2022-03-12T00:28:55.015124",
     "exception": false,
     "start_time": "2022-03-12T00:28:54.985782",
     "status": "completed"
    },
    "tags": []
   },
   "source": [
    "## Filter data to get 3 and 8 out"
   ]
  },
  {
   "cell_type": "code",
   "execution_count": 10,
   "id": "776f7fc7",
   "metadata": {
    "execution": {
     "iopub.execute_input": "2022-03-12T00:28:55.080641Z",
     "iopub.status.busy": "2022-03-12T00:28:55.079271Z",
     "iopub.status.idle": "2022-03-12T00:28:55.099559Z",
     "shell.execute_reply": "2022-03-12T00:28:55.098892Z"
    },
    "papermill": {
     "duration": 0.054873,
     "end_time": "2022-03-12T00:28:55.099715",
     "exception": false,
     "start_time": "2022-03-12T00:28:55.044842",
     "status": "completed"
    },
    "tags": []
   },
   "outputs": [],
   "source": [
    "train_filter = np.where((train_labels == 3 ) | (train_labels == 8))\n",
    "test_filter = np.where((test_labels == 3) | (test_labels == 8))\n",
    "X_train, y_train = train_images[train_filter], train_labels[train_filter]\n",
    "X_test, y_test = test_images[test_filter], test_labels[test_filter]"
   ]
  },
  {
   "cell_type": "markdown",
   "id": "948f0b7e",
   "metadata": {
    "papermill": {
     "duration": 0.029904,
     "end_time": "2022-03-12T00:28:55.160575",
     "exception": false,
     "start_time": "2022-03-12T00:28:55.130671",
     "status": "completed"
    },
    "tags": []
   },
   "source": [
    "We normalize the pizel values in the 0 to 1 range"
   ]
  },
  {
   "cell_type": "code",
   "execution_count": 11,
   "id": "ee4c2166",
   "metadata": {
    "execution": {
     "iopub.execute_input": "2022-03-12T00:28:55.226868Z",
     "iopub.status.busy": "2022-03-12T00:28:55.223680Z",
     "iopub.status.idle": "2022-03-12T00:28:55.277258Z",
     "shell.execute_reply": "2022-03-12T00:28:55.276732Z"
    },
    "papermill": {
     "duration": 0.087216,
     "end_time": "2022-03-12T00:28:55.277397",
     "exception": false,
     "start_time": "2022-03-12T00:28:55.190181",
     "status": "completed"
    },
    "tags": []
   },
   "outputs": [],
   "source": [
    "X_train = X_train/255.\n",
    "X_test = X_test/255."
   ]
  },
  {
   "cell_type": "markdown",
   "id": "ddcf4fab",
   "metadata": {
    "papermill": {
     "duration": 0.029854,
     "end_time": "2022-03-12T00:28:55.337211",
     "exception": false,
     "start_time": "2022-03-12T00:28:55.307357",
     "status": "completed"
    },
    "tags": []
   },
   "source": [
    "And setup the labels as 1 (when the digit is 3) and 0 (when the digit is 8)"
   ]
  },
  {
   "cell_type": "code",
   "execution_count": 12,
   "id": "7dc908f2",
   "metadata": {
    "execution": {
     "iopub.execute_input": "2022-03-12T00:28:55.403435Z",
     "iopub.status.busy": "2022-03-12T00:28:55.401661Z",
     "iopub.status.idle": "2022-03-12T00:28:55.413960Z",
     "shell.execute_reply": "2022-03-12T00:28:55.413477Z"
    },
    "papermill": {
     "duration": 0.04725,
     "end_time": "2022-03-12T00:28:55.414109",
     "exception": false,
     "start_time": "2022-03-12T00:28:55.366859",
     "status": "completed"
    },
    "tags": []
   },
   "outputs": [],
   "source": [
    "y_train = 1*(y_train==3)\n",
    "y_test = 1*(y_test==3)"
   ]
  },
  {
   "cell_type": "code",
   "execution_count": 13,
   "id": "01e4e969",
   "metadata": {
    "execution": {
     "iopub.execute_input": "2022-03-12T00:28:55.479518Z",
     "iopub.status.busy": "2022-03-12T00:28:55.478813Z",
     "iopub.status.idle": "2022-03-12T00:28:55.491575Z",
     "shell.execute_reply": "2022-03-12T00:28:55.491099Z"
    },
    "papermill": {
     "duration": 0.049189,
     "end_time": "2022-03-12T00:28:55.491699",
     "exception": false,
     "start_time": "2022-03-12T00:28:55.442510",
     "status": "completed"
    },
    "tags": []
   },
   "outputs": [
    {
     "data": {
      "text/plain": [
       "((11982, 28, 28), (1984, 28, 28))"
      ]
     },
     "execution_count": 13,
     "metadata": {},
     "output_type": "execute_result"
    }
   ],
   "source": [
    "X_train.shape, X_test.shape"
   ]
  },
  {
   "cell_type": "markdown",
   "id": "5ccf3f85",
   "metadata": {
    "papermill": {
     "duration": 0.028999,
     "end_time": "2022-03-12T00:28:55.550105",
     "exception": false,
     "start_time": "2022-03-12T00:28:55.521106",
     "status": "completed"
    },
    "tags": []
   },
   "source": [
    "We reshape the data to flatten the image pixels into a set of features or co-variates:"
   ]
  },
  {
   "cell_type": "code",
   "execution_count": 14,
   "id": "5286a4a3",
   "metadata": {
    "execution": {
     "iopub.execute_input": "2022-03-12T00:28:55.614955Z",
     "iopub.status.busy": "2022-03-12T00:28:55.614342Z",
     "iopub.status.idle": "2022-03-12T00:28:55.629909Z",
     "shell.execute_reply": "2022-03-12T00:28:55.630409Z"
    },
    "papermill": {
     "duration": 0.050192,
     "end_time": "2022-03-12T00:28:55.630557",
     "exception": false,
     "start_time": "2022-03-12T00:28:55.580365",
     "status": "completed"
    },
    "tags": []
   },
   "outputs": [
    {
     "data": {
      "text/plain": [
       "((11982, 784), (1984, 784))"
      ]
     },
     "execution_count": 14,
     "metadata": {},
     "output_type": "execute_result"
    }
   ],
   "source": [
    "X_train = X_train.reshape(X_train.shape[0], -1)\n",
    "X_test = X_test.reshape(X_test.shape[0], -1)\n",
    "X_train.shape, X_test.shape"
   ]
  },
  {
   "cell_type": "code",
   "execution_count": 15,
   "id": "73c5f88a",
   "metadata": {
    "execution": {
     "iopub.execute_input": "2022-03-12T00:28:55.695073Z",
     "iopub.status.busy": "2022-03-12T00:28:55.694478Z",
     "iopub.status.idle": "2022-03-12T00:28:55.714635Z",
     "shell.execute_reply": "2022-03-12T00:28:55.715152Z"
    },
    "papermill": {
     "duration": 0.054576,
     "end_time": "2022-03-12T00:28:55.715310",
     "exception": false,
     "start_time": "2022-03-12T00:28:55.660734",
     "status": "completed"
    },
    "tags": []
   },
   "outputs": [],
   "source": [
    "#Impoting functions from 'Kudzu'\n",
    "from kudzu.model import Model\n",
    "from kudzu.train import Learner\n",
    "from kudzu.optim import GD\n",
    "from kudzu.data import Data, Sampler,Dataloader\n",
    "\n",
    "from kudzu.callbacks import AccCallback\n",
    "from kudzu.callbacks import ClfCallback\n",
    "\n",
    "from kudzu.loss import MSE\n",
    "\n",
    "from kudzu.layer import Sigmoid,Relu\n",
    "from kudzu.layer import Affine"
   ]
  },
  {
   "cell_type": "markdown",
   "id": "bc01172a",
   "metadata": {
    "papermill": {
     "duration": 0.029991,
     "end_time": "2022-03-12T00:28:55.776066",
     "exception": false,
     "start_time": "2022-03-12T00:28:55.746075",
     "status": "completed"
    },
    "tags": []
   },
   "source": [
    "### Let us create a `Config` class, to store important parameters. \n",
    "This class essentially plays the role of a dictionary."
   ]
  },
  {
   "cell_type": "code",
   "execution_count": 16,
   "id": "978281aa",
   "metadata": {
    "execution": {
     "iopub.execute_input": "2022-03-12T00:28:55.846990Z",
     "iopub.status.busy": "2022-03-12T00:28:55.844220Z",
     "iopub.status.idle": "2022-03-12T00:28:55.854365Z",
     "shell.execute_reply": "2022-03-12T00:28:55.854844Z"
    },
    "papermill": {
     "duration": 0.049146,
     "end_time": "2022-03-12T00:28:55.854991",
     "exception": false,
     "start_time": "2022-03-12T00:28:55.805845",
     "status": "completed"
    },
    "tags": []
   },
   "outputs": [],
   "source": [
    "class Config:\n",
    "    pass\n",
    "config = Config()\n",
    "config.lr = 0.001\n",
    "config.num_epochs = 250\n",
    "config.bs = 50"
   ]
  },
  {
   "cell_type": "markdown",
   "id": "1385fa59",
   "metadata": {
    "papermill": {
     "duration": 0.03031,
     "end_time": "2022-03-12T00:28:55.915435",
     "exception": false,
     "start_time": "2022-03-12T00:28:55.885125",
     "status": "completed"
    },
    "tags": []
   },
   "source": [
    "### Running Models with the Training data\n",
    "Details about the network layers:\n",
    "- A first affine layer has 784 inputs and does 100 affine transforms. These are followed by a Relu\n",
    "- A second affine layer has 100 inputs from the 100 activations of the past layer, and does 100 affine transforms. These are followed by a Relu\n",
    "- A third affine layer has 100 activations and does 2 affine transformations to create an embedding for visualization. There is no non-linearity here.\n",
    "- A final \"logistic regression\" which has an affine transform from 2 inputs to 1 output, which is squeezed through a sigmoid.\n"
   ]
  },
  {
   "cell_type": "code",
   "execution_count": 17,
   "id": "2b9c66db",
   "metadata": {
    "execution": {
     "iopub.execute_input": "2022-03-12T00:28:55.981816Z",
     "iopub.status.busy": "2022-03-12T00:28:55.979968Z",
     "iopub.status.idle": "2022-03-12T00:28:55.994749Z",
     "shell.execute_reply": "2022-03-12T00:28:55.994265Z"
    },
    "papermill": {
     "duration": 0.0492,
     "end_time": "2022-03-12T00:28:55.994879",
     "exception": false,
     "start_time": "2022-03-12T00:28:55.945679",
     "status": "completed"
    },
    "tags": []
   },
   "outputs": [],
   "source": [
    "data = Data(X_train, y_train.reshape(-1,1))\n",
    "sampler = Sampler(data, config.bs, shuffle=True)\n",
    "\n",
    "dl = Dataloader(data, sampler)\n",
    "\n",
    "opt = GD(config.lr)\n",
    "loss = MSE()"
   ]
  },
  {
   "cell_type": "code",
   "execution_count": 18,
   "id": "b275e4c2",
   "metadata": {
    "execution": {
     "iopub.execute_input": "2022-03-12T00:28:56.063155Z",
     "iopub.status.busy": "2022-03-12T00:28:56.062552Z",
     "iopub.status.idle": "2022-03-12T00:28:56.075559Z",
     "shell.execute_reply": "2022-03-12T00:28:56.075075Z"
    },
    "papermill": {
     "duration": 0.050515,
     "end_time": "2022-03-12T00:28:56.075687",
     "exception": false,
     "start_time": "2022-03-12T00:28:56.025172",
     "status": "completed"
    },
    "tags": []
   },
   "outputs": [],
   "source": [
    "training_data_x = X_train\n",
    "testing_data_x = X_test\n",
    "training_data_y = y_train.reshape(-1,1)\n",
    "testing_data_y = y_test.reshape(-1,1)"
   ]
  },
  {
   "cell_type": "code",
   "execution_count": 19,
   "id": "76951160",
   "metadata": {
    "execution": {
     "iopub.execute_input": "2022-03-12T00:28:56.140465Z",
     "iopub.status.busy": "2022-03-12T00:28:56.139879Z",
     "iopub.status.idle": "2022-03-12T00:28:56.157424Z",
     "shell.execute_reply": "2022-03-12T00:28:56.157925Z"
    },
    "papermill": {
     "duration": 0.052447,
     "end_time": "2022-03-12T00:28:56.158087",
     "exception": false,
     "start_time": "2022-03-12T00:28:56.105640",
     "status": "completed"
    },
    "tags": []
   },
   "outputs": [
    {
     "name": "stdout",
     "output_type": "stream",
     "text": [
      "xavier\n",
      "xavier\n",
      "xavier\n",
      "xavier\n",
      "xavier\n"
     ]
    }
   ],
   "source": [
    "layers = [Affine(\"first\", 784, 100), Relu(\"first\"), Affine(\"second\", 100, 100), Relu(\"second\"), Affine(\"third\", 100, 2), Affine(\"last\", 2, 1), Sigmoid(\"last\")]\n",
    "model_nn = Model(layers)\n",
    "model_lr = Model([Affine(\"logits\", 784, 1), Sigmoid(\"sigmoid\")])"
   ]
  },
  {
   "cell_type": "code",
   "execution_count": 20,
   "id": "6eede77a",
   "metadata": {
    "execution": {
     "iopub.execute_input": "2022-03-12T00:28:56.230810Z",
     "iopub.status.busy": "2022-03-12T00:28:56.225965Z",
     "iopub.status.idle": "2022-03-12T00:28:56.237396Z",
     "shell.execute_reply": "2022-03-12T00:28:56.237873Z"
    },
    "papermill": {
     "duration": 0.049402,
     "end_time": "2022-03-12T00:28:56.238036",
     "exception": false,
     "start_time": "2022-03-12T00:28:56.188634",
     "status": "completed"
    },
    "tags": []
   },
   "outputs": [],
   "source": [
    "nn_learner = Learner(loss, model_nn, opt, config.num_epochs)\n",
    "acc_nn = ClfCallback(nn_learner, config.bs, training_data_x , testing_data_x, training_data_y, testing_data_y)\n",
    "nn_learner.set_callbacks([acc_nn])"
   ]
  },
  {
   "cell_type": "code",
   "execution_count": 21,
   "id": "877b6cc7",
   "metadata": {
    "execution": {
     "iopub.execute_input": "2022-03-12T00:28:56.303196Z",
     "iopub.status.busy": "2022-03-12T00:28:56.302643Z",
     "iopub.status.idle": "2022-03-12T00:28:56.316602Z",
     "shell.execute_reply": "2022-03-12T00:28:56.316125Z"
    },
    "papermill": {
     "duration": 0.048554,
     "end_time": "2022-03-12T00:28:56.316728",
     "exception": false,
     "start_time": "2022-03-12T00:28:56.268174",
     "status": "completed"
    },
    "tags": []
   },
   "outputs": [],
   "source": [
    "lr_learner = Learner(loss, model_lr, opt, config.num_epochs)\n",
    "acc_lr = ClfCallback(lr_learner, config.bs, training_data_x , testing_data_x, training_data_y, testing_data_y)\n",
    "lr_learner.set_callbacks([acc_lr])"
   ]
  },
  {
   "cell_type": "code",
   "execution_count": 22,
   "id": "d9b133c3",
   "metadata": {
    "execution": {
     "iopub.execute_input": "2022-03-12T00:28:56.381846Z",
     "iopub.status.busy": "2022-03-12T00:28:56.381252Z",
     "iopub.status.idle": "2022-03-12T00:30:22.079972Z",
     "shell.execute_reply": "2022-03-12T00:30:22.080817Z"
    },
    "papermill": {
     "duration": 85.733605,
     "end_time": "2022-03-12T00:30:22.080983",
     "exception": false,
     "start_time": "2022-03-12T00:28:56.347378",
     "status": "completed"
    },
    "tags": []
   },
   "outputs": [
    {
     "name": "stdout",
     "output_type": "stream",
     "text": [
      "Epoch 0, Loss 0.2431\n",
      "Training Accuracy: 0.6945, Testing Accuracy: 0.6935\n",
      "\n"
     ]
    },
    {
     "name": "stdout",
     "output_type": "stream",
     "text": [
      "Epoch 10, Loss 0.0808\n",
      "Training Accuracy: 0.9150, Testing Accuracy: 0.9320\n",
      "\n"
     ]
    },
    {
     "name": "stdout",
     "output_type": "stream",
     "text": [
      "Epoch 20, Loss 0.0522\n",
      "Training Accuracy: 0.9438, Testing Accuracy: 0.9572\n",
      "\n"
     ]
    },
    {
     "name": "stdout",
     "output_type": "stream",
     "text": [
      "Epoch 30, Loss 0.0417\n",
      "Training Accuracy: 0.9543, Testing Accuracy: 0.9667\n",
      "\n"
     ]
    },
    {
     "name": "stdout",
     "output_type": "stream",
     "text": [
      "Epoch 40, Loss 0.0363\n",
      "Training Accuracy: 0.9597, Testing Accuracy: 0.9677\n",
      "\n"
     ]
    },
    {
     "name": "stdout",
     "output_type": "stream",
     "text": [
      "Epoch 50, Loss 0.033\n",
      "Training Accuracy: 0.9636, Testing Accuracy: 0.9682\n",
      "\n"
     ]
    },
    {
     "name": "stdout",
     "output_type": "stream",
     "text": [
      "Epoch 60, Loss 0.0307\n",
      "Training Accuracy: 0.9658, Testing Accuracy: 0.9688\n",
      "\n"
     ]
    },
    {
     "name": "stdout",
     "output_type": "stream",
     "text": [
      "Epoch 70, Loss 0.0289\n",
      "Training Accuracy: 0.9666, Testing Accuracy: 0.9698\n",
      "\n"
     ]
    },
    {
     "name": "stdout",
     "output_type": "stream",
     "text": [
      "Epoch 80, Loss 0.0275\n",
      "Training Accuracy: 0.9683, Testing Accuracy: 0.9703\n",
      "\n"
     ]
    },
    {
     "name": "stdout",
     "output_type": "stream",
     "text": [
      "Epoch 90, Loss 0.0264\n",
      "Training Accuracy: 0.9695, Testing Accuracy: 0.9698\n",
      "\n"
     ]
    },
    {
     "name": "stdout",
     "output_type": "stream",
     "text": [
      "Epoch 100, Loss 0.0254\n",
      "Training Accuracy: 0.9704, Testing Accuracy: 0.9688\n",
      "\n"
     ]
    },
    {
     "name": "stdout",
     "output_type": "stream",
     "text": [
      "Epoch 110, Loss 0.0246\n",
      "Training Accuracy: 0.9709, Testing Accuracy: 0.9698\n",
      "\n"
     ]
    },
    {
     "name": "stdout",
     "output_type": "stream",
     "text": [
      "Epoch 120, Loss 0.0238\n",
      "Training Accuracy: 0.9717, Testing Accuracy: 0.9698\n",
      "\n"
     ]
    },
    {
     "name": "stdout",
     "output_type": "stream",
     "text": [
      "Epoch 130, Loss 0.0231\n",
      "Training Accuracy: 0.9728, Testing Accuracy: 0.9723\n",
      "\n"
     ]
    },
    {
     "name": "stdout",
     "output_type": "stream",
     "text": [
      "Epoch 140, Loss 0.0225\n",
      "Training Accuracy: 0.9737, Testing Accuracy: 0.9723\n",
      "\n"
     ]
    },
    {
     "name": "stdout",
     "output_type": "stream",
     "text": [
      "Epoch 150, Loss 0.0219\n",
      "Training Accuracy: 0.9744, Testing Accuracy: 0.9723\n",
      "\n"
     ]
    },
    {
     "name": "stdout",
     "output_type": "stream",
     "text": [
      "Epoch 160, Loss 0.0214\n",
      "Training Accuracy: 0.9750, Testing Accuracy: 0.9723\n",
      "\n"
     ]
    },
    {
     "name": "stdout",
     "output_type": "stream",
     "text": [
      "Epoch 170, Loss 0.0209\n",
      "Training Accuracy: 0.9756, Testing Accuracy: 0.9728\n",
      "\n"
     ]
    },
    {
     "name": "stdout",
     "output_type": "stream",
     "text": [
      "Epoch 180, Loss 0.0204\n",
      "Training Accuracy: 0.9761, Testing Accuracy: 0.9738\n",
      "\n"
     ]
    },
    {
     "name": "stdout",
     "output_type": "stream",
     "text": [
      "Epoch 190, Loss 0.02\n",
      "Training Accuracy: 0.9765, Testing Accuracy: 0.9743\n",
      "\n"
     ]
    },
    {
     "name": "stdout",
     "output_type": "stream",
     "text": [
      "Epoch 200, Loss 0.0195\n",
      "Training Accuracy: 0.9775, Testing Accuracy: 0.9753\n",
      "\n"
     ]
    },
    {
     "name": "stdout",
     "output_type": "stream",
     "text": [
      "Epoch 210, Loss 0.0191\n",
      "Training Accuracy: 0.9783, Testing Accuracy: 0.9758\n",
      "\n"
     ]
    },
    {
     "name": "stdout",
     "output_type": "stream",
     "text": [
      "Epoch 220, Loss 0.0187\n",
      "Training Accuracy: 0.9786, Testing Accuracy: 0.9758\n",
      "\n"
     ]
    },
    {
     "name": "stdout",
     "output_type": "stream",
     "text": [
      "Epoch 230, Loss 0.0184\n",
      "Training Accuracy: 0.9792, Testing Accuracy: 0.9763\n",
      "\n"
     ]
    },
    {
     "name": "stdout",
     "output_type": "stream",
     "text": [
      "Epoch 240, Loss 0.018\n",
      "Training Accuracy: 0.9796, Testing Accuracy: 0.9768\n",
      "\n"
     ]
    },
    {
     "data": {
      "text/plain": [
       "0.018685914048549503"
      ]
     },
     "execution_count": 22,
     "metadata": {},
     "output_type": "execute_result"
    }
   ],
   "source": [
    "nn_learner.train_loop(dl)"
   ]
  },
  {
   "cell_type": "code",
   "execution_count": 23,
   "id": "e0163366",
   "metadata": {
    "execution": {
     "iopub.execute_input": "2022-03-12T00:30:22.171640Z",
     "iopub.status.busy": "2022-03-12T00:30:22.171029Z",
     "iopub.status.idle": "2022-03-12T00:30:37.631453Z",
     "shell.execute_reply": "2022-03-12T00:30:37.632285Z"
    },
    "papermill": {
     "duration": 15.512064,
     "end_time": "2022-03-12T00:30:37.632452",
     "exception": false,
     "start_time": "2022-03-12T00:30:22.120388",
     "status": "completed"
    },
    "tags": []
   },
   "outputs": [
    {
     "name": "stdout",
     "output_type": "stream",
     "text": [
      "Epoch 0, Loss 0.2509\n",
      "Training Accuracy: 0.6534, Testing Accuracy: 0.6663\n",
      "\n"
     ]
    },
    {
     "name": "stdout",
     "output_type": "stream",
     "text": [
      "Epoch 10, Loss 0.1031\n",
      "Training Accuracy: 0.9125, Testing Accuracy: 0.9204\n",
      "\n"
     ]
    },
    {
     "name": "stdout",
     "output_type": "stream",
     "text": [
      "Epoch 20, Loss 0.0789\n",
      "Training Accuracy: 0.9302, Testing Accuracy: 0.9385\n",
      "\n"
     ]
    },
    {
     "name": "stdout",
     "output_type": "stream",
     "text": [
      "Epoch 30, Loss 0.0678\n",
      "Training Accuracy: 0.9382, Testing Accuracy: 0.9446\n",
      "\n"
     ]
    },
    {
     "name": "stdout",
     "output_type": "stream",
     "text": [
      "Epoch 40, Loss 0.0612\n",
      "Training Accuracy: 0.9432, Testing Accuracy: 0.9501\n",
      "\n"
     ]
    },
    {
     "name": "stdout",
     "output_type": "stream",
     "text": [
      "Epoch 50, Loss 0.0568\n",
      "Training Accuracy: 0.9465, Testing Accuracy: 0.9536\n",
      "\n"
     ]
    },
    {
     "name": "stdout",
     "output_type": "stream",
     "text": [
      "Epoch 60, Loss 0.0535\n",
      "Training Accuracy: 0.9488, Testing Accuracy: 0.9546\n",
      "\n"
     ]
    },
    {
     "name": "stdout",
     "output_type": "stream",
     "text": [
      "Epoch 70, Loss 0.0509\n",
      "Training Accuracy: 0.9509, Testing Accuracy: 0.9582\n",
      "\n"
     ]
    },
    {
     "name": "stdout",
     "output_type": "stream",
     "text": [
      "Epoch 80, Loss 0.0489\n",
      "Training Accuracy: 0.9521, Testing Accuracy: 0.9582\n",
      "\n"
     ]
    },
    {
     "name": "stdout",
     "output_type": "stream",
     "text": [
      "Epoch 90, Loss 0.0472\n",
      "Training Accuracy: 0.9533, Testing Accuracy: 0.9592\n",
      "\n"
     ]
    },
    {
     "name": "stdout",
     "output_type": "stream",
     "text": [
      "Epoch 100, Loss 0.0458\n",
      "Training Accuracy: 0.9544, Testing Accuracy: 0.9597\n",
      "\n"
     ]
    },
    {
     "name": "stdout",
     "output_type": "stream",
     "text": [
      "Epoch 110, Loss 0.0446\n",
      "Training Accuracy: 0.9553, Testing Accuracy: 0.9617\n",
      "\n"
     ]
    },
    {
     "name": "stdout",
     "output_type": "stream",
     "text": [
      "Epoch 120, Loss 0.0436\n",
      "Training Accuracy: 0.9562, Testing Accuracy: 0.9627\n",
      "\n"
     ]
    },
    {
     "name": "stdout",
     "output_type": "stream",
     "text": [
      "Epoch 130, Loss 0.0427\n",
      "Training Accuracy: 0.9573, Testing Accuracy: 0.9632\n",
      "\n"
     ]
    },
    {
     "name": "stdout",
     "output_type": "stream",
     "text": [
      "Epoch 140, Loss 0.0418\n",
      "Training Accuracy: 0.9582, Testing Accuracy: 0.9642\n",
      "\n"
     ]
    },
    {
     "name": "stdout",
     "output_type": "stream",
     "text": [
      "Epoch 150, Loss 0.0411\n",
      "Training Accuracy: 0.9588, Testing Accuracy: 0.9647\n",
      "\n"
     ]
    },
    {
     "name": "stdout",
     "output_type": "stream",
     "text": [
      "Epoch 160, Loss 0.0404\n",
      "Training Accuracy: 0.9593, Testing Accuracy: 0.9647\n",
      "\n"
     ]
    },
    {
     "name": "stdout",
     "output_type": "stream",
     "text": [
      "Epoch 170, Loss 0.0398\n",
      "Training Accuracy: 0.9595, Testing Accuracy: 0.9647\n",
      "\n"
     ]
    },
    {
     "name": "stdout",
     "output_type": "stream",
     "text": [
      "Epoch 180, Loss 0.0393\n",
      "Training Accuracy: 0.9600, Testing Accuracy: 0.9642\n",
      "\n"
     ]
    },
    {
     "name": "stdout",
     "output_type": "stream",
     "text": [
      "Epoch 190, Loss 0.0388\n",
      "Training Accuracy: 0.9602, Testing Accuracy: 0.9647\n",
      "\n"
     ]
    },
    {
     "name": "stdout",
     "output_type": "stream",
     "text": [
      "Epoch 200, Loss 0.0383\n",
      "Training Accuracy: 0.9603, Testing Accuracy: 0.9642\n",
      "\n"
     ]
    },
    {
     "name": "stdout",
     "output_type": "stream",
     "text": [
      "Epoch 210, Loss 0.0379\n",
      "Training Accuracy: 0.9611, Testing Accuracy: 0.9652\n",
      "\n"
     ]
    },
    {
     "name": "stdout",
     "output_type": "stream",
     "text": [
      "Epoch 220, Loss 0.0375\n",
      "Training Accuracy: 0.9611, Testing Accuracy: 0.9657\n",
      "\n"
     ]
    },
    {
     "name": "stdout",
     "output_type": "stream",
     "text": [
      "Epoch 230, Loss 0.0371\n",
      "Training Accuracy: 0.9612, Testing Accuracy: 0.9662\n",
      "\n"
     ]
    },
    {
     "name": "stdout",
     "output_type": "stream",
     "text": [
      "Epoch 240, Loss 0.0367\n",
      "Training Accuracy: 0.9612, Testing Accuracy: 0.9662\n",
      "\n"
     ]
    },
    {
     "data": {
      "text/plain": [
       "0.054463625217500714"
      ]
     },
     "execution_count": 23,
     "metadata": {},
     "output_type": "execute_result"
    }
   ],
   "source": [
    "lr_learner.train_loop(dl)"
   ]
  },
  {
   "cell_type": "code",
   "execution_count": 24,
   "id": "ca410940",
   "metadata": {
    "execution": {
     "iopub.execute_input": "2022-03-12T00:30:37.739653Z",
     "iopub.status.busy": "2022-03-12T00:30:37.739037Z",
     "iopub.status.idle": "2022-03-12T00:30:38.001507Z",
     "shell.execute_reply": "2022-03-12T00:30:38.000987Z"
    },
    "papermill": {
     "duration": 0.322639,
     "end_time": "2022-03-12T00:30:38.001639",
     "exception": false,
     "start_time": "2022-03-12T00:30:37.679000",
     "status": "completed"
    },
    "tags": []
   },
   "outputs": [
    {
     "data": {
      "text/plain": [
       "<matplotlib.legend.Legend at 0x7fe791ffecf8>"
      ]
     },
     "execution_count": 24,
     "metadata": {},
     "output_type": "execute_result"
    },
    {
     "data": {
      "image/png": "[encoded data removed]",
      "text/plain": [
       "<Figure size 1080x720 with 1 Axes>"
      ]
     },
     "metadata": {
      "needs_background": "light"
     },
     "output_type": "display_data"
    }
   ],
   "source": [
    "#comparing the results of NN and LR\n",
    "plt.figure(figsize=(15,10))\n",
    "\n",
    "# Neural Network plots\n",
    "plt.plot(acc_nn.accuracies, 'r-', label = \"Training Accuracies - NN\")\n",
    "plt.plot(acc_nn.test_accuracies, 'g-', label = \"Testing Accuracies - NN\")\n",
    "\n",
    "# Logistic Regression plots\n",
    "plt.plot(acc_lr.accuracies, 'k-', label = \"Training Accuracies - LR\")\n",
    "plt.plot(acc_lr.test_accuracies, 'b-', label = \"Testing Accuracies - LR\")\n",
    "plt.legend()"
   ]
  },
  {
   "cell_type": "markdown",
   "id": "80dfb35c",
   "metadata": {
    "papermill": {
     "duration": 0.047625,
     "end_time": "2022-03-12T00:30:38.097766",
     "exception": false,
     "start_time": "2022-03-12T00:30:38.050141",
     "status": "completed"
    },
    "tags": []
   },
   "source": [
    "#### Plotting the outputs of this layer of the NN.\n"
   ]
  },
  {
   "cell_type": "code",
   "execution_count": 25,
   "id": "45eb2ff5",
   "metadata": {
    "execution": {
     "iopub.execute_input": "2022-03-12T00:30:38.207436Z",
     "iopub.status.busy": "2022-03-12T00:30:38.206802Z",
     "iopub.status.idle": "2022-03-12T00:30:38.219959Z",
     "shell.execute_reply": "2022-03-12T00:30:38.220458Z"
    },
    "papermill": {
     "duration": 0.075411,
     "end_time": "2022-03-12T00:30:38.220616",
     "exception": false,
     "start_time": "2022-03-12T00:30:38.145205",
     "status": "completed"
    },
    "tags": []
   },
   "outputs": [],
   "source": [
    "new_model = Model(layers[:-2])\n",
    "testing_plot = new_model(testing_data_x)"
   ]
  },
  {
   "cell_type": "code",
   "execution_count": 26,
   "id": "4c0a5485",
   "metadata": {
    "execution": {
     "iopub.execute_input": "2022-03-12T00:30:38.327348Z",
     "iopub.status.busy": "2022-03-12T00:30:38.323714Z",
     "iopub.status.idle": "2022-03-12T00:30:38.531810Z",
     "shell.execute_reply": "2022-03-12T00:30:38.532289Z"
    },
    "papermill": {
     "duration": 0.263459,
     "end_time": "2022-03-12T00:30:38.532443",
     "exception": false,
     "start_time": "2022-03-12T00:30:38.268984",
     "status": "completed"
    },
    "tags": []
   },
   "outputs": [
    {
     "data": {
      "text/plain": [
       "Text(0.5, 1.0, 'Outputs')"
      ]
     },
     "execution_count": 26,
     "metadata": {},
     "output_type": "execute_result"
    },
    {
     "data": {
      "image/png": "[encoded data removed]",
      "text/plain": [
       "<Figure size 576x504 with 1 Axes>"
      ]
     },
     "metadata": {
      "needs_background": "light"
     },
     "output_type": "display_data"
    }
   ],
   "source": [
    "# Plotting the scatter plot of points and color coding by class\n",
    "plt.figure(figsize=(8,7))\n",
    "plt.scatter(testing_plot[:,0], testing_plot[:,1], alpha = 0.1, c = y_test.ravel());\n",
    "plt.title('Outputs')"
   ]
  },
  {
   "cell_type": "markdown",
   "id": "a74fcf8f",
   "metadata": {
    "papermill": {
     "duration": 0.051079,
     "end_time": "2022-03-12T00:30:38.634360",
     "exception": false,
     "start_time": "2022-03-12T00:30:38.583281",
     "status": "completed"
    },
    "tags": []
   },
   "source": [
    "Probability contours"
   ]
  },
  {
   "cell_type": "code",
   "execution_count": 27,
   "id": "d0afc8e3",
   "metadata": {
    "execution": {
     "iopub.execute_input": "2022-03-12T00:30:38.775566Z",
     "iopub.status.busy": "2022-03-12T00:30:38.774969Z",
     "iopub.status.idle": "2022-03-12T00:30:38.786276Z",
     "shell.execute_reply": "2022-03-12T00:30:38.786759Z"
    },
    "papermill": {
     "duration": 0.101756,
     "end_time": "2022-03-12T00:30:38.786908",
     "exception": false,
     "start_time": "2022-03-12T00:30:38.685152",
     "status": "completed"
    },
    "tags": []
   },
   "outputs": [],
   "source": [
    "model_prob = Model(layers[-2:]) "
   ]
  },
  {
   "cell_type": "code",
   "execution_count": 28,
   "id": "9b96e238",
   "metadata": {
    "execution": {
     "iopub.execute_input": "2022-03-12T00:30:38.894955Z",
     "iopub.status.busy": "2022-03-12T00:30:38.894328Z",
     "iopub.status.idle": "2022-03-12T00:30:38.914783Z",
     "shell.execute_reply": "2022-03-12T00:30:38.915327Z"
    },
    "papermill": {
     "duration": 0.078386,
     "end_time": "2022-03-12T00:30:38.915489",
     "exception": false,
     "start_time": "2022-03-12T00:30:38.837103",
     "status": "completed"
    },
    "tags": []
   },
   "outputs": [],
   "source": [
    "#creating the x and y ranges according to the above generated plot.\n",
    "x_range = np.linspace(-4, 1, 100) \n",
    "y_range = np.linspace(-6, 6, 100) \n",
    "x_grid, y_grid = np.meshgrid(x_range, y_range) # x_grid and y_grig are of size 100 X 100\n",
    "\n",
    "# converting x_grid and y_grid to continuous arrays\n",
    "x_gridflat = np.ravel(x_grid)\n",
    "y_gridflat = np.ravel(y_grid)\n",
    "\n",
    "# The last layer of the current model takes two columns as input. Hence transpose of np.vstack() is required.\n",
    "X = np.vstack((x_gridflat, y_gridflat)).T\n",
    "\n",
    "prob_contour = model_prob(X).reshape(100,100) "
   ]
  },
  {
   "cell_type": "code",
   "execution_count": 29,
   "id": "da72499a",
   "metadata": {
    "execution": {
     "iopub.execute_input": "2022-03-12T00:30:39.024525Z",
     "iopub.status.busy": "2022-03-12T00:30:39.023929Z",
     "iopub.status.idle": "2022-03-12T00:30:39.308473Z",
     "shell.execute_reply": "2022-03-12T00:30:39.307944Z"
    },
    "papermill": {
     "duration": 0.340929,
     "end_time": "2022-03-12T00:30:39.308607",
     "exception": false,
     "start_time": "2022-03-12T00:30:38.967678",
     "status": "completed"
    },
    "tags": []
   },
   "outputs": [
    {
     "data": {
      "image/png": "[encoded data removed]",
      "text/plain": [
       "<Figure size 720x648 with 1 Axes>"
      ]
     },
     "metadata": {
      "needs_background": "light"
     },
     "output_type": "display_data"
    }
   ],
   "source": [
    "plt.figure(figsize=(10,9))\n",
    "plt.scatter(testing_plot[:,0], testing_plot[:,1], alpha = 0.1, c = y_test.ravel())\n",
    "contours = plt.contour(x_grid,y_grid,prob_contour)\n",
    "plt.title('Probability Contours')\n",
    "plt.clabel(contours, inline = True );"
   ]
  },
  {
   "cell_type": "code",
   "execution_count": null,
   "id": "e81b4ac7",
   "metadata": {
    "papermill": {
     "duration": 0.053737,
     "end_time": "2022-03-12T00:30:39.416636",
     "exception": false,
     "start_time": "2022-03-12T00:30:39.362899",
     "status": "completed"
    },
    "tags": []
   },
   "outputs": [],
   "source": []
  }
 ],
 "metadata": {
  "kernelspec": {
   "display_name": "Python 3",
   "language": "python",
   "name": "python3"
  },
  "language_info": {
   "codemirror_mode": {
    "name": "ipython",
    "version": 3
   },
   "file_extension": ".py",
   "mimetype": "text/x-python",
   "name": "python",
   "nbconvert_exporter": "python",
   "pygments_lexer": "ipython3",
   "version": "3.6.15"
  },
  "papermill": {
   "default_parameters": {},
   "duration": 111.311195,
   "end_time": "2022-03-12T00:30:39.890408",
   "environment_variables": {},
   "exception": null,
   "input_path": "2020-08-11-part2.ipynb",
   "output_path": "2020-08-11-part2.ipynb",
   "parameters": {},
   "start_time": "2022-03-12T00:28:48.579213",
   "version": "2.3.3"
  }
 },
 "nbformat": 4,
 "nbformat_minor": 5
}