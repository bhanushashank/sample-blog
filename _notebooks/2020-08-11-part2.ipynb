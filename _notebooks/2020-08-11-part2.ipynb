{
 "cells": [
  {
   "cell_type": "markdown",
   "id": "98380cd3",
   "metadata": {
    "papermill": {
     "duration": 0.029991,
     "end_time": "2022-10-29T00:39:18.626093",
     "exception": false,
     "start_time": "2022-10-29T00:39:18.596102",
     "status": "completed"
    },
    "tags": []
   },
   "source": [
    "# Distinguish Your Own Digits (DYOD)"
   ]
  },
  {
   "cell_type": "markdown",
   "id": "ef31240d",
   "metadata": {
    "papermill": {
     "duration": 0.023992,
     "end_time": "2022-10-29T00:39:18.675015",
     "exception": false,
     "start_time": "2022-10-29T00:39:18.651023",
     "status": "completed"
    },
    "tags": []
   },
   "source": [
    "You are going to write a classifier that distinguishes between the number 3 and number 8."
   ]
  },
  {
   "cell_type": "code",
   "execution_count": 1,
   "id": "b15c8646",
   "metadata": {
    "execution": {
     "iopub.execute_input": "2022-10-29T00:39:18.734272Z",
     "iopub.status.busy": "2022-10-29T00:39:18.731415Z",
     "iopub.status.idle": "2022-10-29T00:39:18.745371Z",
     "shell.execute_reply": "2022-10-29T00:39:18.744860Z"
    },
    "papermill": {
     "duration": 0.046512,
     "end_time": "2022-10-29T00:39:18.745515",
     "exception": false,
     "start_time": "2022-10-29T00:39:18.699003",
     "status": "completed"
    },
    "tags": []
   },
   "outputs": [],
   "source": [
    "%load_ext autoreload\n",
    "%autoreload 2"
   ]
  },
  {
   "cell_type": "code",
   "execution_count": 2,
   "id": "22ef38dc",
   "metadata": {
    "execution": {
     "iopub.execute_input": "2022-10-29T00:39:18.809177Z",
     "iopub.status.busy": "2022-10-29T00:39:18.808516Z",
     "iopub.status.idle": "2022-10-29T00:39:19.394426Z",
     "shell.execute_reply": "2022-10-29T00:39:19.393270Z"
    },
    "papermill": {
     "duration": 0.624875,
     "end_time": "2022-10-29T00:39:19.394587",
     "exception": false,
     "start_time": "2022-10-29T00:39:18.769712",
     "status": "completed"
    },
    "tags": []
   },
   "outputs": [],
   "source": [
    "%matplotlib inline\n",
    "import numpy as np\n",
    "import matplotlib.pyplot as plt\n",
    "import pandas as pd"
   ]
  },
  {
   "cell_type": "markdown",
   "id": "ba036198",
   "metadata": {
    "papermill": {
     "duration": 0.026163,
     "end_time": "2022-10-29T00:39:19.445038",
     "exception": false,
     "start_time": "2022-10-29T00:39:19.418875",
     "status": "completed"
    },
    "tags": []
   },
   "source": [
    "From the command line run `pip install mnist`. This is a library that will help you bring down the mnist dataset. If you run this from a notebook, you need to put  `!pip install mnist` in a cell by itself."
   ]
  },
  {
   "cell_type": "code",
   "execution_count": 3,
   "id": "bb6ad8a1",
   "metadata": {
    "execution": {
     "iopub.execute_input": "2022-10-29T00:39:19.499483Z",
     "iopub.status.busy": "2022-10-29T00:39:19.498737Z",
     "iopub.status.idle": "2022-10-29T00:39:21.207133Z",
     "shell.execute_reply": "2022-10-29T00:39:21.206502Z"
    },
    "papermill": {
     "duration": 1.738072,
     "end_time": "2022-10-29T00:39:21.207271",
     "exception": false,
     "start_time": "2022-10-29T00:39:19.469199",
     "status": "completed"
    },
    "tags": []
   },
   "outputs": [
    {
     "name": "stdout",
     "output_type": "stream",
     "text": [
      "Collecting mnist\r\n"
     ]
    },
    {
     "name": "stdout",
     "output_type": "stream",
     "text": [
      "  Downloading mnist-0.2.2-py2.py3-none-any.whl (3.5 kB)\r\n",
      "Requirement already satisfied: numpy in /opt/hostedtoolcache/Python/3.6.15/x64/lib/python3.6/site-packages (from mnist) (1.19.5)\r\n"
     ]
    },
    {
     "name": "stdout",
     "output_type": "stream",
     "text": [
      "Installing collected packages: mnist\r\n",
      "Successfully installed mnist-0.2.2\r\n"
     ]
    }
   ],
   "source": [
    "!pip install mnist"
   ]
  },
  {
   "cell_type": "markdown",
   "id": "69df9c9a",
   "metadata": {
    "papermill": {
     "duration": 0.02488,
     "end_time": "2022-10-29T00:39:21.257999",
     "exception": false,
     "start_time": "2022-10-29T00:39:21.233119",
     "status": "completed"
    },
    "tags": []
   },
   "source": [
    "## Preparing the Data"
   ]
  },
  {
   "cell_type": "code",
   "execution_count": 4,
   "id": "7f69d806",
   "metadata": {
    "execution": {
     "iopub.execute_input": "2022-10-29T00:39:21.324728Z",
     "iopub.status.busy": "2022-10-29T00:39:21.318798Z",
     "iopub.status.idle": "2022-10-29T00:39:21.328600Z",
     "shell.execute_reply": "2022-10-29T00:39:21.328117Z"
    },
    "papermill": {
     "duration": 0.046107,
     "end_time": "2022-10-29T00:39:21.328717",
     "exception": false,
     "start_time": "2022-10-29T00:39:21.282610",
     "status": "completed"
    },
    "tags": []
   },
   "outputs": [],
   "source": [
    "import mnist"
   ]
  },
  {
   "cell_type": "code",
   "execution_count": 5,
   "id": "a411e44f",
   "metadata": {
    "execution": {
     "iopub.execute_input": "2022-10-29T00:39:21.382578Z",
     "iopub.status.busy": "2022-10-29T00:39:21.381966Z",
     "iopub.status.idle": "2022-10-29T00:39:22.050021Z",
     "shell.execute_reply": "2022-10-29T00:39:22.048996Z"
    },
    "papermill": {
     "duration": 0.696732,
     "end_time": "2022-10-29T00:39:22.050166",
     "exception": false,
     "start_time": "2022-10-29T00:39:21.353434",
     "status": "completed"
    },
    "tags": []
   },
   "outputs": [],
   "source": [
    "train_images = mnist.train_images()\n",
    "train_labels = mnist.train_labels()"
   ]
  },
  {
   "cell_type": "code",
   "execution_count": 6,
   "id": "dceab3a5",
   "metadata": {
    "execution": {
     "iopub.execute_input": "2022-10-29T00:39:22.099067Z",
     "iopub.status.busy": "2022-10-29T00:39:22.098346Z",
     "iopub.status.idle": "2022-10-29T00:39:22.112344Z",
     "shell.execute_reply": "2022-10-29T00:39:22.111757Z"
    },
    "papermill": {
     "duration": 0.039959,
     "end_time": "2022-10-29T00:39:22.112466",
     "exception": false,
     "start_time": "2022-10-29T00:39:22.072507",
     "status": "completed"
    },
    "tags": []
   },
   "outputs": [
    {
     "data": {
      "text/plain": [
       "((60000, 28, 28), (60000,))"
      ]
     },
     "execution_count": 6,
     "metadata": {},
     "output_type": "execute_result"
    }
   ],
   "source": [
    "train_images.shape, train_labels.shape"
   ]
  },
  {
   "cell_type": "code",
   "execution_count": 7,
   "id": "f50dc2bb",
   "metadata": {
    "execution": {
     "iopub.execute_input": "2022-10-29T00:39:22.166829Z",
     "iopub.status.busy": "2022-10-29T00:39:22.166238Z",
     "iopub.status.idle": "2022-10-29T00:39:22.512925Z",
     "shell.execute_reply": "2022-10-29T00:39:22.512288Z"
    },
    "papermill": {
     "duration": 0.375698,
     "end_time": "2022-10-29T00:39:22.513066",
     "exception": false,
     "start_time": "2022-10-29T00:39:22.137368",
     "status": "completed"
    },
    "tags": []
   },
   "outputs": [],
   "source": [
    "test_images = mnist.test_images()\n",
    "test_labels = mnist.test_labels()"
   ]
  },
  {
   "cell_type": "code",
   "execution_count": 8,
   "id": "fc38cf1b",
   "metadata": {
    "execution": {
     "iopub.execute_input": "2022-10-29T00:39:22.568945Z",
     "iopub.status.busy": "2022-10-29T00:39:22.568343Z",
     "iopub.status.idle": "2022-10-29T00:39:22.581995Z",
     "shell.execute_reply": "2022-10-29T00:39:22.582482Z"
    },
    "papermill": {
     "duration": 0.043522,
     "end_time": "2022-10-29T00:39:22.582621",
     "exception": false,
     "start_time": "2022-10-29T00:39:22.539099",
     "status": "completed"
    },
    "tags": []
   },
   "outputs": [
    {
     "data": {
      "text/plain": [
       "((10000, 28, 28), (10000,))"
      ]
     },
     "execution_count": 8,
     "metadata": {},
     "output_type": "execute_result"
    }
   ],
   "source": [
    "test_images.shape, test_labels.shape"
   ]
  },
  {
   "cell_type": "code",
   "execution_count": 9,
   "id": "f9ed8fe0",
   "metadata": {
    "execution": {
     "iopub.execute_input": "2022-10-29T00:39:22.647643Z",
     "iopub.status.busy": "2022-10-29T00:39:22.647000Z",
     "iopub.status.idle": "2022-10-29T00:39:22.784482Z",
     "shell.execute_reply": "2022-10-29T00:39:22.783968Z"
    },
    "papermill": {
     "duration": 0.176815,
     "end_time": "2022-10-29T00:39:22.784612",
     "exception": false,
     "start_time": "2022-10-29T00:39:22.607797",
     "status": "completed"
    },
    "tags": []
   },
   "outputs": [
    {
     "name": "stdout",
     "output_type": "stream",
     "text": [
      "2\n"
     ]
    },
    {
     "data": {
      "text/plain": [
       "<matplotlib.image.AxesImage at 0x7f09a65b9cc0>"
      ]
     },
     "execution_count": 9,
     "metadata": {},
     "output_type": "execute_result"
    },
    {
     "data": {
      "image/png": "[encoded data removed]",
      "text/plain": [
       "<Figure size 432x288 with 1 Axes>"
      ]
     },
     "metadata": {
      "needs_background": "light"
     },
     "output_type": "display_data"
    }
   ],
   "source": [
    "image_index = 7776 # You may select anything up to 60,000\n",
    "print(train_labels[image_index]) \n",
    "plt.imshow(train_images[image_index], cmap='Greys')"
   ]
  },
  {
   "cell_type": "markdown",
   "id": "a8d2388d",
   "metadata": {
    "papermill": {
     "duration": 0.026873,
     "end_time": "2022-10-29T00:39:22.838103",
     "exception": false,
     "start_time": "2022-10-29T00:39:22.811230",
     "status": "completed"
    },
    "tags": []
   },
   "source": [
    "## Filter data to get 3 and 8 out"
   ]
  },
  {
   "cell_type": "code",
   "execution_count": 10,
   "id": "776f7fc7",
   "metadata": {
    "execution": {
     "iopub.execute_input": "2022-10-29T00:39:22.907580Z",
     "iopub.status.busy": "2022-10-29T00:39:22.906923Z",
     "iopub.status.idle": "2022-10-29T00:39:22.921665Z",
     "shell.execute_reply": "2022-10-29T00:39:22.921178Z"
    },
    "papermill": {
     "duration": 0.057075,
     "end_time": "2022-10-29T00:39:22.921792",
     "exception": false,
     "start_time": "2022-10-29T00:39:22.864717",
     "status": "completed"
    },
    "tags": []
   },
   "outputs": [],
   "source": [
    "train_filter = np.where((train_labels == 3 ) | (train_labels == 8))\n",
    "test_filter = np.where((test_labels == 3) | (test_labels == 8))\n",
    "X_train, y_train = train_images[train_filter], train_labels[train_filter]\n",
    "X_test, y_test = test_images[test_filter], test_labels[test_filter]"
   ]
  },
  {
   "cell_type": "markdown",
   "id": "948f0b7e",
   "metadata": {
    "papermill": {
     "duration": 0.026282,
     "end_time": "2022-10-29T00:39:22.974582",
     "exception": false,
     "start_time": "2022-10-29T00:39:22.948300",
     "status": "completed"
    },
    "tags": []
   },
   "source": [
    "We normalize the pizel values in the 0 to 1 range"
   ]
  },
  {
   "cell_type": "code",
   "execution_count": 11,
   "id": "ee4c2166",
   "metadata": {
    "execution": {
     "iopub.execute_input": "2022-10-29T00:39:23.035634Z",
     "iopub.status.busy": "2022-10-29T00:39:23.035008Z",
     "iopub.status.idle": "2022-10-29T00:39:23.082805Z",
     "shell.execute_reply": "2022-10-29T00:39:23.082148Z"
    },
    "papermill": {
     "duration": 0.082046,
     "end_time": "2022-10-29T00:39:23.082944",
     "exception": false,
     "start_time": "2022-10-29T00:39:23.000898",
     "status": "completed"
    },
    "tags": []
   },
   "outputs": [],
   "source": [
    "X_train = X_train/255.\n",
    "X_test = X_test/255."
   ]
  },
  {
   "cell_type": "markdown",
   "id": "ddcf4fab",
   "metadata": {
    "papermill": {
     "duration": 0.026433,
     "end_time": "2022-10-29T00:39:23.136291",
     "exception": false,
     "start_time": "2022-10-29T00:39:23.109858",
     "status": "completed"
    },
    "tags": []
   },
   "source": [
    "And setup the labels as 1 (when the digit is 3) and 0 (when the digit is 8)"
   ]
  },
  {
   "cell_type": "code",
   "execution_count": 12,
   "id": "7dc908f2",
   "metadata": {
    "execution": {
     "iopub.execute_input": "2022-10-29T00:39:23.206114Z",
     "iopub.status.busy": "2022-10-29T00:39:23.199106Z",
     "iopub.status.idle": "2022-10-29T00:39:23.208381Z",
     "shell.execute_reply": "2022-10-29T00:39:23.208804Z"
    },
    "papermill": {
     "duration": 0.046335,
     "end_time": "2022-10-29T00:39:23.208955",
     "exception": false,
     "start_time": "2022-10-29T00:39:23.162620",
     "status": "completed"
    },
    "tags": []
   },
   "outputs": [],
   "source": [
    "y_train = 1*(y_train==3)\n",
    "y_test = 1*(y_test==3)"
   ]
  },
  {
   "cell_type": "code",
   "execution_count": 13,
   "id": "01e4e969",
   "metadata": {
    "execution": {
     "iopub.execute_input": "2022-10-29T00:39:23.279338Z",
     "iopub.status.busy": "2022-10-29T00:39:23.278713Z",
     "iopub.status.idle": "2022-10-29T00:39:23.285630Z",
     "shell.execute_reply": "2022-10-29T00:39:23.284794Z"
    },
    "papermill": {
     "duration": 0.050464,
     "end_time": "2022-10-29T00:39:23.285757",
     "exception": false,
     "start_time": "2022-10-29T00:39:23.235293",
     "status": "completed"
    },
    "tags": []
   },
   "outputs": [
    {
     "data": {
      "text/plain": [
       "((11982, 28, 28), (1984, 28, 28))"
      ]
     },
     "execution_count": 13,
     "metadata": {},
     "output_type": "execute_result"
    }
   ],
   "source": [
    "X_train.shape, X_test.shape"
   ]
  },
  {
   "cell_type": "markdown",
   "id": "5ccf3f85",
   "metadata": {
    "papermill": {
     "duration": 0.026695,
     "end_time": "2022-10-29T00:39:23.339080",
     "exception": false,
     "start_time": "2022-10-29T00:39:23.312385",
     "status": "completed"
    },
    "tags": []
   },
   "source": [
    "We reshape the data to flatten the image pixels into a set of features or co-variates:"
   ]
  },
  {
   "cell_type": "code",
   "execution_count": 14,
   "id": "5286a4a3",
   "metadata": {
    "execution": {
     "iopub.execute_input": "2022-10-29T00:39:23.410420Z",
     "iopub.status.busy": "2022-10-29T00:39:23.402871Z",
     "iopub.status.idle": "2022-10-29T00:39:23.413730Z",
     "shell.execute_reply": "2022-10-29T00:39:23.414198Z"
    },
    "papermill": {
     "duration": 0.048641,
     "end_time": "2022-10-29T00:39:23.414346",
     "exception": false,
     "start_time": "2022-10-29T00:39:23.365705",
     "status": "completed"
    },
    "tags": []
   },
   "outputs": [
    {
     "data": {
      "text/plain": [
       "((11982, 784), (1984, 784))"
      ]
     },
     "execution_count": 14,
     "metadata": {},
     "output_type": "execute_result"
    }
   ],
   "source": [
    "X_train = X_train.reshape(X_train.shape[0], -1)\n",
    "X_test = X_test.reshape(X_test.shape[0], -1)\n",
    "X_train.shape, X_test.shape"
   ]
  },
  {
   "cell_type": "code",
   "execution_count": 15,
   "id": "73c5f88a",
   "metadata": {
    "execution": {
     "iopub.execute_input": "2022-10-29T00:39:23.483476Z",
     "iopub.status.busy": "2022-10-29T00:39:23.482850Z",
     "iopub.status.idle": "2022-10-29T00:39:23.494006Z",
     "shell.execute_reply": "2022-10-29T00:39:23.494463Z"
    },
    "papermill": {
     "duration": 0.053489,
     "end_time": "2022-10-29T00:39:23.494602",
     "exception": false,
     "start_time": "2022-10-29T00:39:23.441113",
     "status": "completed"
    },
    "tags": []
   },
   "outputs": [],
   "source": [
    "#Impoting functions from 'Kudzu'\n",
    "from kudzu.model import Model\n",
    "from kudzu.train import Learner\n",
    "from kudzu.optim import GD\n",
    "from kudzu.data import Data, Sampler,Dataloader\n",
    "\n",
    "from kudzu.callbacks import AccCallback\n",
    "from kudzu.callbacks import ClfCallback\n",
    "\n",
    "from kudzu.loss import MSE\n",
    "\n",
    "from kudzu.layer import Sigmoid,Relu\n",
    "from kudzu.layer import Affine"
   ]
  },
  {
   "cell_type": "markdown",
   "id": "bc01172a",
   "metadata": {
    "papermill": {
     "duration": 0.026585,
     "end_time": "2022-10-29T00:39:23.548071",
     "exception": false,
     "start_time": "2022-10-29T00:39:23.521486",
     "status": "completed"
    },
    "tags": []
   },
   "source": [
    "### Let us create a `Config` class, to store important parameters. \n",
    "This class essentially plays the role of a dictionary."
   ]
  },
  {
   "cell_type": "code",
   "execution_count": 16,
   "id": "978281aa",
   "metadata": {
    "execution": {
     "iopub.execute_input": "2022-10-29T00:39:23.606930Z",
     "iopub.status.busy": "2022-10-29T00:39:23.606324Z",
     "iopub.status.idle": "2022-10-29T00:39:23.618742Z",
     "shell.execute_reply": "2022-10-29T00:39:23.618233Z"
    },
    "papermill": {
     "duration": 0.044319,
     "end_time": "2022-10-29T00:39:23.618860",
     "exception": false,
     "start_time": "2022-10-29T00:39:23.574541",
     "status": "completed"
    },
    "tags": []
   },
   "outputs": [],
   "source": [
    "class Config:\n",
    "    pass\n",
    "config = Config()\n",
    "config.lr = 0.001\n",
    "config.num_epochs = 250\n",
    "config.bs = 50"
   ]
  },
  {
   "cell_type": "markdown",
   "id": "1385fa59",
   "metadata": {
    "papermill": {
     "duration": 0.027792,
     "end_time": "2022-10-29T00:39:23.673966",
     "exception": false,
     "start_time": "2022-10-29T00:39:23.646174",
     "status": "completed"
    },
    "tags": []
   },
   "source": [
    "### Running Models with the Training data\n",
    "Details about the network layers:\n",
    "- A first affine layer has 784 inputs and does 100 affine transforms. These are followed by a Relu\n",
    "- A second affine layer has 100 inputs from the 100 activations of the past layer, and does 100 affine transforms. These are followed by a Relu\n",
    "- A third affine layer has 100 activations and does 2 affine transformations to create an embedding for visualization. There is no non-linearity here.\n",
    "- A final \"logistic regression\" which has an affine transform from 2 inputs to 1 output, which is squeezed through a sigmoid.\n"
   ]
  },
  {
   "cell_type": "code",
   "execution_count": 17,
   "id": "2b9c66db",
   "metadata": {
    "execution": {
     "iopub.execute_input": "2022-10-29T00:39:23.739527Z",
     "iopub.status.busy": "2022-10-29T00:39:23.738914Z",
     "iopub.status.idle": "2022-10-29T00:39:23.747620Z",
     "shell.execute_reply": "2022-10-29T00:39:23.747043Z"
    },
    "papermill": {
     "duration": 0.047062,
     "end_time": "2022-10-29T00:39:23.747736",
     "exception": false,
     "start_time": "2022-10-29T00:39:23.700674",
     "status": "completed"
    },
    "tags": []
   },
   "outputs": [],
   "source": [
    "data = Data(X_train, y_train.reshape(-1,1))\n",
    "sampler = Sampler(data, config.bs, shuffle=True)\n",
    "\n",
    "dl = Dataloader(data, sampler)\n",
    "\n",
    "opt = GD(config.lr)\n",
    "loss = MSE()"
   ]
  },
  {
   "cell_type": "code",
   "execution_count": 18,
   "id": "b275e4c2",
   "metadata": {
    "execution": {
     "iopub.execute_input": "2022-10-29T00:39:23.809734Z",
     "iopub.status.busy": "2022-10-29T00:39:23.804890Z",
     "iopub.status.idle": "2022-10-29T00:39:23.818560Z",
     "shell.execute_reply": "2022-10-29T00:39:23.819010Z"
    },
    "papermill": {
     "duration": 0.04476,
     "end_time": "2022-10-29T00:39:23.819153",
     "exception": false,
     "start_time": "2022-10-29T00:39:23.774393",
     "status": "completed"
    },
    "tags": []
   },
   "outputs": [],
   "source": [
    "training_data_x = X_train\n",
    "testing_data_x = X_test\n",
    "training_data_y = y_train.reshape(-1,1)\n",
    "testing_data_y = y_test.reshape(-1,1)"
   ]
  },
  {
   "cell_type": "code",
   "execution_count": 19,
   "id": "76951160",
   "metadata": {
    "execution": {
     "iopub.execute_input": "2022-10-29T00:39:23.882793Z",
     "iopub.status.busy": "2022-10-29T00:39:23.882174Z",
     "iopub.status.idle": "2022-10-29T00:39:23.896087Z",
     "shell.execute_reply": "2022-10-29T00:39:23.896509Z"
    },
    "papermill": {
     "duration": 0.05094,
     "end_time": "2022-10-29T00:39:23.896651",
     "exception": false,
     "start_time": "2022-10-29T00:39:23.845711",
     "status": "completed"
    },
    "tags": []
   },
   "outputs": [
    {
     "name": "stdout",
     "output_type": "stream",
     "text": [
      "xavier\n",
      "xavier\n",
      "xavier\n",
      "xavier\n",
      "xavier\n"
     ]
    }
   ],
   "source": [
    "layers = [Affine(\"first\", 784, 100), Relu(\"first\"), Affine(\"second\", 100, 100), Relu(\"second\"), Affine(\"third\", 100, 2), Affine(\"last\", 2, 1), Sigmoid(\"last\")]\n",
    "model_nn = Model(layers)\n",
    "model_lr = Model([Affine(\"logits\", 784, 1), Sigmoid(\"sigmoid\")])"
   ]
  },
  {
   "cell_type": "code",
   "execution_count": 20,
   "id": "6eede77a",
   "metadata": {
    "execution": {
     "iopub.execute_input": "2022-10-29T00:39:23.954864Z",
     "iopub.status.busy": "2022-10-29T00:39:23.954275Z",
     "iopub.status.idle": "2022-10-29T00:39:23.967652Z",
     "shell.execute_reply": "2022-10-29T00:39:23.968124Z"
    },
    "papermill": {
     "duration": 0.044491,
     "end_time": "2022-10-29T00:39:23.968254",
     "exception": false,
     "start_time": "2022-10-29T00:39:23.923763",
     "status": "completed"
    },
    "tags": []
   },
   "outputs": [],
   "source": [
    "nn_learner = Learner(loss, model_nn, opt, config.num_epochs)\n",
    "acc_nn = ClfCallback(nn_learner, config.bs, training_data_x , testing_data_x, training_data_y, testing_data_y)\n",
    "nn_learner.set_callbacks([acc_nn])"
   ]
  },
  {
   "cell_type": "code",
   "execution_count": 21,
   "id": "877b6cc7",
   "metadata": {
    "execution": {
     "iopub.execute_input": "2022-10-29T00:39:24.027527Z",
     "iopub.status.busy": "2022-10-29T00:39:24.026933Z",
     "iopub.status.idle": "2022-10-29T00:39:24.041171Z",
     "shell.execute_reply": "2022-10-29T00:39:24.040683Z"
    },
    "papermill": {
     "duration": 0.04508,
     "end_time": "2022-10-29T00:39:24.041288",
     "exception": false,
     "start_time": "2022-10-29T00:39:23.996208",
     "status": "completed"
    },
    "tags": []
   },
   "outputs": [],
   "source": [
    "lr_learner = Learner(loss, model_lr, opt, config.num_epochs)\n",
    "acc_lr = ClfCallback(lr_learner, config.bs, training_data_x , testing_data_x, training_data_y, testing_data_y)\n",
    "lr_learner.set_callbacks([acc_lr])"
   ]
  },
  {
   "cell_type": "code",
   "execution_count": 22,
   "id": "d9b133c3",
   "metadata": {
    "execution": {
     "iopub.execute_input": "2022-10-29T00:39:24.105357Z",
     "iopub.status.busy": "2022-10-29T00:39:24.104758Z",
     "iopub.status.idle": "2022-10-29T00:40:44.073977Z",
     "shell.execute_reply": "2022-10-29T00:40:44.074913Z"
    },
    "papermill": {
     "duration": 80.00664,
     "end_time": "2022-10-29T00:40:44.075077",
     "exception": false,
     "start_time": "2022-10-29T00:39:24.068437",
     "status": "completed"
    },
    "tags": []
   },
   "outputs": [
    {
     "name": "stdout",
     "output_type": "stream",
     "text": [
      "Epoch 0, Loss 0.2521\n",
      "Training Accuracy: 0.5345, Testing Accuracy: 0.5277\n",
      "\n"
     ]
    },
    {
     "name": "stdout",
     "output_type": "stream",
     "text": [
      "Epoch 10, Loss 0.1379\n",
      "Training Accuracy: 0.9063, Testing Accuracy: 0.9083\n",
      "\n"
     ]
    },
    {
     "name": "stdout",
     "output_type": "stream",
     "text": [
      "Epoch 20, Loss 0.0688\n",
      "Training Accuracy: 0.9357, Testing Accuracy: 0.9430\n",
      "\n"
     ]
    },
    {
     "name": "stdout",
     "output_type": "stream",
     "text": [
      "Epoch 30, Loss 0.0489\n",
      "Training Accuracy: 0.9507, Testing Accuracy: 0.9567\n",
      "\n"
     ]
    },
    {
     "name": "stdout",
     "output_type": "stream",
     "text": [
      "Epoch 40, Loss 0.0407\n",
      "Training Accuracy: 0.9559, Testing Accuracy: 0.9612\n",
      "\n"
     ]
    },
    {
     "name": "stdout",
     "output_type": "stream",
     "text": [
      "Epoch 50, Loss 0.0363\n",
      "Training Accuracy: 0.9593, Testing Accuracy: 0.9647\n",
      "\n"
     ]
    },
    {
     "name": "stdout",
     "output_type": "stream",
     "text": [
      "Epoch 60, Loss 0.0334\n",
      "Training Accuracy: 0.9618, Testing Accuracy: 0.9672\n",
      "\n"
     ]
    },
    {
     "name": "stdout",
     "output_type": "stream",
     "text": [
      "Epoch 70, Loss 0.0313\n",
      "Training Accuracy: 0.9637, Testing Accuracy: 0.9682\n",
      "\n"
     ]
    },
    {
     "name": "stdout",
     "output_type": "stream",
     "text": [
      "Epoch 80, Loss 0.0297\n",
      "Training Accuracy: 0.9657, Testing Accuracy: 0.9693\n",
      "\n"
     ]
    },
    {
     "name": "stdout",
     "output_type": "stream",
     "text": [
      "Epoch 90, Loss 0.0284\n",
      "Training Accuracy: 0.9675, Testing Accuracy: 0.9693\n",
      "\n"
     ]
    },
    {
     "name": "stdout",
     "output_type": "stream",
     "text": [
      "Epoch 100, Loss 0.0273\n",
      "Training Accuracy: 0.9683, Testing Accuracy: 0.9708\n",
      "\n"
     ]
    },
    {
     "name": "stdout",
     "output_type": "stream",
     "text": [
      "Epoch 110, Loss 0.0263\n",
      "Training Accuracy: 0.9695, Testing Accuracy: 0.9713\n",
      "\n"
     ]
    },
    {
     "name": "stdout",
     "output_type": "stream",
     "text": [
      "Epoch 120, Loss 0.0255\n",
      "Training Accuracy: 0.9704, Testing Accuracy: 0.9708\n",
      "\n"
     ]
    },
    {
     "name": "stdout",
     "output_type": "stream",
     "text": [
      "Epoch 130, Loss 0.0247\n",
      "Training Accuracy: 0.9714, Testing Accuracy: 0.9723\n",
      "\n"
     ]
    },
    {
     "name": "stdout",
     "output_type": "stream",
     "text": [
      "Epoch 140, Loss 0.024\n",
      "Training Accuracy: 0.9730, Testing Accuracy: 0.9723\n",
      "\n"
     ]
    },
    {
     "name": "stdout",
     "output_type": "stream",
     "text": [
      "Epoch 150, Loss 0.0234\n",
      "Training Accuracy: 0.9733, Testing Accuracy: 0.9713\n",
      "\n"
     ]
    },
    {
     "name": "stdout",
     "output_type": "stream",
     "text": [
      "Epoch 160, Loss 0.0228\n",
      "Training Accuracy: 0.9739, Testing Accuracy: 0.9718\n",
      "\n"
     ]
    },
    {
     "name": "stdout",
     "output_type": "stream",
     "text": [
      "Epoch 170, Loss 0.0223\n",
      "Training Accuracy: 0.9741, Testing Accuracy: 0.9713\n",
      "\n"
     ]
    },
    {
     "name": "stdout",
     "output_type": "stream",
     "text": [
      "Epoch 180, Loss 0.0217\n",
      "Training Accuracy: 0.9749, Testing Accuracy: 0.9713\n",
      "\n"
     ]
    },
    {
     "name": "stdout",
     "output_type": "stream",
     "text": [
      "Epoch 190, Loss 0.0212\n",
      "Training Accuracy: 0.9751, Testing Accuracy: 0.9718\n",
      "\n"
     ]
    },
    {
     "name": "stdout",
     "output_type": "stream",
     "text": [
      "Epoch 200, Loss 0.0208\n",
      "Training Accuracy: 0.9760, Testing Accuracy: 0.9728\n",
      "\n"
     ]
    },
    {
     "name": "stdout",
     "output_type": "stream",
     "text": [
      "Epoch 210, Loss 0.0203\n",
      "Training Accuracy: 0.9763, Testing Accuracy: 0.9733\n",
      "\n"
     ]
    },
    {
     "name": "stdout",
     "output_type": "stream",
     "text": [
      "Epoch 220, Loss 0.0199\n",
      "Training Accuracy: 0.9770, Testing Accuracy: 0.9733\n",
      "\n"
     ]
    },
    {
     "name": "stdout",
     "output_type": "stream",
     "text": [
      "Epoch 230, Loss 0.0195\n",
      "Training Accuracy: 0.9776, Testing Accuracy: 0.9733\n",
      "\n"
     ]
    },
    {
     "name": "stdout",
     "output_type": "stream",
     "text": [
      "Epoch 240, Loss 0.0191\n",
      "Training Accuracy: 0.9781, Testing Accuracy: 0.9733\n",
      "\n"
     ]
    },
    {
     "data": {
      "text/plain": [
       "0.01476216716213954"
      ]
     },
     "execution_count": 22,
     "metadata": {},
     "output_type": "execute_result"
    }
   ],
   "source": [
    "nn_learner.train_loop(dl)"
   ]
  },
  {
   "cell_type": "code",
   "execution_count": 23,
   "id": "e0163366",
   "metadata": {
    "execution": {
     "iopub.execute_input": "2022-10-29T00:40:44.155720Z",
     "iopub.status.busy": "2022-10-29T00:40:44.155077Z",
     "iopub.status.idle": "2022-10-29T00:40:58.543132Z",
     "shell.execute_reply": "2022-10-29T00:40:58.543969Z"
    },
    "papermill": {
     "duration": 14.433303,
     "end_time": "2022-10-29T00:40:58.544124",
     "exception": false,
     "start_time": "2022-10-29T00:40:44.110821",
     "status": "completed"
    },
    "tags": []
   },
   "outputs": [
    {
     "name": "stdout",
     "output_type": "stream",
     "text": [
      "Epoch 0, Loss 0.2613\n",
      "Training Accuracy: 0.6189, Testing Accuracy: 0.5993\n",
      "\n"
     ]
    },
    {
     "name": "stdout",
     "output_type": "stream",
     "text": [
      "Epoch 10, Loss 0.1003\n",
      "Training Accuracy: 0.9236, Testing Accuracy: 0.9345\n",
      "\n"
     ]
    },
    {
     "name": "stdout",
     "output_type": "stream",
     "text": [
      "Epoch 20, Loss 0.077\n",
      "Training Accuracy: 0.9343, Testing Accuracy: 0.9430\n",
      "\n"
     ]
    },
    {
     "name": "stdout",
     "output_type": "stream",
     "text": [
      "Epoch 30, Loss 0.0665\n",
      "Training Accuracy: 0.9402, Testing Accuracy: 0.9471\n",
      "\n"
     ]
    },
    {
     "name": "stdout",
     "output_type": "stream",
     "text": [
      "Epoch 40, Loss 0.0603\n",
      "Training Accuracy: 0.9437, Testing Accuracy: 0.9526\n",
      "\n"
     ]
    },
    {
     "name": "stdout",
     "output_type": "stream",
     "text": [
      "Epoch 50, Loss 0.0561\n",
      "Training Accuracy: 0.9469, Testing Accuracy: 0.9546\n",
      "\n"
     ]
    },
    {
     "name": "stdout",
     "output_type": "stream",
     "text": [
      "Epoch 60, Loss 0.0529\n",
      "Training Accuracy: 0.9491, Testing Accuracy: 0.9577\n",
      "\n"
     ]
    },
    {
     "name": "stdout",
     "output_type": "stream",
     "text": [
      "Epoch 70, Loss 0.0505\n",
      "Training Accuracy: 0.9508, Testing Accuracy: 0.9597\n",
      "\n"
     ]
    },
    {
     "name": "stdout",
     "output_type": "stream",
     "text": [
      "Epoch 80, Loss 0.0485\n",
      "Training Accuracy: 0.9525, Testing Accuracy: 0.9622\n",
      "\n"
     ]
    },
    {
     "name": "stdout",
     "output_type": "stream",
     "text": [
      "Epoch 90, Loss 0.0469\n",
      "Training Accuracy: 0.9535, Testing Accuracy: 0.9632\n",
      "\n"
     ]
    },
    {
     "name": "stdout",
     "output_type": "stream",
     "text": [
      "Epoch 100, Loss 0.0456\n",
      "Training Accuracy: 0.9545, Testing Accuracy: 0.9632\n",
      "\n"
     ]
    },
    {
     "name": "stdout",
     "output_type": "stream",
     "text": [
      "Epoch 110, Loss 0.0444\n",
      "Training Accuracy: 0.9555, Testing Accuracy: 0.9647\n",
      "\n"
     ]
    },
    {
     "name": "stdout",
     "output_type": "stream",
     "text": [
      "Epoch 120, Loss 0.0434\n",
      "Training Accuracy: 0.9560, Testing Accuracy: 0.9652\n",
      "\n"
     ]
    },
    {
     "name": "stdout",
     "output_type": "stream",
     "text": [
      "Epoch 130, Loss 0.0425\n",
      "Training Accuracy: 0.9566, Testing Accuracy: 0.9647\n",
      "\n"
     ]
    },
    {
     "name": "stdout",
     "output_type": "stream",
     "text": [
      "Epoch 140, Loss 0.0417\n",
      "Training Accuracy: 0.9569, Testing Accuracy: 0.9652\n",
      "\n"
     ]
    },
    {
     "name": "stdout",
     "output_type": "stream",
     "text": [
      "Epoch 150, Loss 0.041\n",
      "Training Accuracy: 0.9573, Testing Accuracy: 0.9657\n",
      "\n"
     ]
    },
    {
     "name": "stdout",
     "output_type": "stream",
     "text": [
      "Epoch 160, Loss 0.0403\n",
      "Training Accuracy: 0.9577, Testing Accuracy: 0.9657\n",
      "\n"
     ]
    },
    {
     "name": "stdout",
     "output_type": "stream",
     "text": [
      "Epoch 170, Loss 0.0397\n",
      "Training Accuracy: 0.9581, Testing Accuracy: 0.9662\n",
      "\n"
     ]
    },
    {
     "name": "stdout",
     "output_type": "stream",
     "text": [
      "Epoch 180, Loss 0.0392\n",
      "Training Accuracy: 0.9586, Testing Accuracy: 0.9662\n",
      "\n"
     ]
    },
    {
     "name": "stdout",
     "output_type": "stream",
     "text": [
      "Epoch 190, Loss 0.0387\n",
      "Training Accuracy: 0.9591, Testing Accuracy: 0.9662\n",
      "\n"
     ]
    },
    {
     "name": "stdout",
     "output_type": "stream",
     "text": [
      "Epoch 200, Loss 0.0382\n",
      "Training Accuracy: 0.9597, Testing Accuracy: 0.9672\n",
      "\n"
     ]
    },
    {
     "name": "stdout",
     "output_type": "stream",
     "text": [
      "Epoch 210, Loss 0.0378\n",
      "Training Accuracy: 0.9600, Testing Accuracy: 0.9682\n",
      "\n"
     ]
    },
    {
     "name": "stdout",
     "output_type": "stream",
     "text": [
      "Epoch 220, Loss 0.0374\n",
      "Training Accuracy: 0.9602, Testing Accuracy: 0.9688\n",
      "\n"
     ]
    },
    {
     "name": "stdout",
     "output_type": "stream",
     "text": [
      "Epoch 230, Loss 0.037\n",
      "Training Accuracy: 0.9604, Testing Accuracy: 0.9698\n",
      "\n"
     ]
    },
    {
     "name": "stdout",
     "output_type": "stream",
     "text": [
      "Epoch 240, Loss 0.0367\n",
      "Training Accuracy: 0.9607, Testing Accuracy: 0.9693\n",
      "\n"
     ]
    },
    {
     "data": {
      "text/plain": [
       "0.04108230706212153"
      ]
     },
     "execution_count": 23,
     "metadata": {},
     "output_type": "execute_result"
    }
   ],
   "source": [
    "lr_learner.train_loop(dl)"
   ]
  },
  {
   "cell_type": "code",
   "execution_count": 24,
   "id": "ca410940",
   "metadata": {
    "execution": {
     "iopub.execute_input": "2022-10-29T00:40:58.639345Z",
     "iopub.status.busy": "2022-10-29T00:40:58.638712Z",
     "iopub.status.idle": "2022-10-29T00:40:58.857394Z",
     "shell.execute_reply": "2022-10-29T00:40:58.856881Z"
    },
    "papermill": {
     "duration": 0.272244,
     "end_time": "2022-10-29T00:40:58.857519",
     "exception": false,
     "start_time": "2022-10-29T00:40:58.585275",
     "status": "completed"
    },
    "tags": []
   },
   "outputs": [
    {
     "data": {
      "text/plain": [
       "<matplotlib.legend.Legend at 0x7f09a6127390>"
      ]
     },
     "execution_count": 24,
     "metadata": {},
     "output_type": "execute_result"
    },
    {
     "data": {
      "image/png": "[encoded data removed]",
      "text/plain": [
       "<Figure size 1080x720 with 1 Axes>"
      ]
     },
     "metadata": {
      "needs_background": "light"
     },
     "output_type": "display_data"
    }
   ],
   "source": [
    "#comparing the results of NN and LR\n",
    "plt.figure(figsize=(15,10))\n",
    "\n",
    "# Neural Network plots\n",
    "plt.plot(acc_nn.accuracies, 'r-', label = \"Training Accuracies - NN\")\n",
    "plt.plot(acc_nn.test_accuracies, 'g-', label = \"Testing Accuracies - NN\")\n",
    "\n",
    "# Logistic Regression plots\n",
    "plt.plot(acc_lr.accuracies, 'k-', label = \"Training Accuracies - LR\")\n",
    "plt.plot(acc_lr.test_accuracies, 'b-', label = \"Testing Accuracies - LR\")\n",
    "plt.legend()"
   ]
  },
  {
   "cell_type": "markdown",
   "id": "80dfb35c",
   "metadata": {
    "papermill": {
     "duration": 0.041412,
     "end_time": "2022-10-29T00:40:58.941128",
     "exception": false,
     "start_time": "2022-10-29T00:40:58.899716",
     "status": "completed"
    },
    "tags": []
   },
   "source": [
    "#### Plotting the outputs of this layer of the NN.\n"
   ]
  },
  {
   "cell_type": "code",
   "execution_count": 25,
   "id": "45eb2ff5",
   "metadata": {
    "execution": {
     "iopub.execute_input": "2022-10-29T00:40:59.031336Z",
     "iopub.status.busy": "2022-10-29T00:40:59.030707Z",
     "iopub.status.idle": "2022-10-29T00:40:59.051503Z",
     "shell.execute_reply": "2022-10-29T00:40:59.051980Z"
    },
    "papermill": {
     "duration": 0.067356,
     "end_time": "2022-10-29T00:40:59.052128",
     "exception": false,
     "start_time": "2022-10-29T00:40:58.984772",
     "status": "completed"
    },
    "tags": []
   },
   "outputs": [],
   "source": [
    "new_model = Model(layers[:-2])\n",
    "testing_plot = new_model(testing_data_x)"
   ]
  },
  {
   "cell_type": "code",
   "execution_count": 26,
   "id": "4c0a5485",
   "metadata": {
    "execution": {
     "iopub.execute_input": "2022-10-29T00:40:59.148269Z",
     "iopub.status.busy": "2022-10-29T00:40:59.146211Z",
     "iopub.status.idle": "2022-10-29T00:40:59.352145Z",
     "shell.execute_reply": "2022-10-29T00:40:59.351646Z"
    },
    "papermill": {
     "duration": 0.257261,
     "end_time": "2022-10-29T00:40:59.352269",
     "exception": false,
     "start_time": "2022-10-29T00:40:59.095008",
     "status": "completed"
    },
    "tags": []
   },
   "outputs": [
    {
     "data": {
      "text/plain": [
       "Text(0.5, 1.0, 'Outputs')"
      ]
     },
     "execution_count": 26,
     "metadata": {},
     "output_type": "execute_result"
    },
    {
     "data": {
      "image/png": "[encoded data removed]",
      "text/plain": [
       "<Figure size 576x504 with 1 Axes>"
      ]
     },
     "metadata": {
      "needs_background": "light"
     },
     "output_type": "display_data"
    }
   ],
   "source": [
    "# Plotting the scatter plot of points and color coding by class\n",
    "plt.figure(figsize=(8,7))\n",
    "plt.scatter(testing_plot[:,0], testing_plot[:,1], alpha = 0.1, c = y_test.ravel());\n",
    "plt.title('Outputs')"
   ]
  },
  {
   "cell_type": "markdown",
   "id": "a74fcf8f",
   "metadata": {
    "papermill": {
     "duration": 0.043347,
     "end_time": "2022-10-29T00:40:59.439405",
     "exception": false,
     "start_time": "2022-10-29T00:40:59.396058",
     "status": "completed"
    },
    "tags": []
   },
   "source": [
    "Probability contours"
   ]
  },
  {
   "cell_type": "code",
   "execution_count": 27,
   "id": "d0afc8e3",
   "metadata": {
    "execution": {
     "iopub.execute_input": "2022-10-29T00:40:59.538771Z",
     "iopub.status.busy": "2022-10-29T00:40:59.534802Z",
     "iopub.status.idle": "2022-10-29T00:40:59.546208Z",
     "shell.execute_reply": "2022-10-29T00:40:59.546659Z"
    },
    "papermill": {
     "duration": 0.063864,
     "end_time": "2022-10-29T00:40:59.546793",
     "exception": false,
     "start_time": "2022-10-29T00:40:59.482929",
     "status": "completed"
    },
    "tags": []
   },
   "outputs": [],
   "source": [
    "model_prob = Model(layers[-2:]) "
   ]
  },
  {
   "cell_type": "code",
   "execution_count": 28,
   "id": "9b96e238",
   "metadata": {
    "execution": {
     "iopub.execute_input": "2022-10-29T00:40:59.646264Z",
     "iopub.status.busy": "2022-10-29T00:40:59.638577Z",
     "iopub.status.idle": "2022-10-29T00:40:59.653518Z",
     "shell.execute_reply": "2022-10-29T00:40:59.653963Z"
    },
    "papermill": {
     "duration": 0.063721,
     "end_time": "2022-10-29T00:40:59.654109",
     "exception": false,
     "start_time": "2022-10-29T00:40:59.590388",
     "status": "completed"
    },
    "tags": []
   },
   "outputs": [],
   "source": [
    "#creating the x and y ranges according to the above generated plot.\n",
    "x_range = np.linspace(-4, 1, 100) \n",
    "y_range = np.linspace(-6, 6, 100) \n",
    "x_grid, y_grid = np.meshgrid(x_range, y_range) # x_grid and y_grig are of size 100 X 100\n",
    "\n",
    "# converting x_grid and y_grid to continuous arrays\n",
    "x_gridflat = np.ravel(x_grid)\n",
    "y_gridflat = np.ravel(y_grid)\n",
    "\n",
    "# The last layer of the current model takes two columns as input. Hence transpose of np.vstack() is required.\n",
    "X = np.vstack((x_gridflat, y_gridflat)).T\n",
    "\n",
    "prob_contour = model_prob(X).reshape(100,100) "
   ]
  },
  {
   "cell_type": "code",
   "execution_count": 29,
   "id": "da72499a",
   "metadata": {
    "execution": {
     "iopub.execute_input": "2022-10-29T00:40:59.783774Z",
     "iopub.status.busy": "2022-10-29T00:40:59.783139Z",
     "iopub.status.idle": "2022-10-29T00:41:00.040335Z",
     "shell.execute_reply": "2022-10-29T00:41:00.040787Z"
    },
    "papermill": {
     "duration": 0.310483,
     "end_time": "2022-10-29T00:41:00.040942",
     "exception": false,
     "start_time": "2022-10-29T00:40:59.730459",
     "status": "completed"
    },
    "tags": []
   },
   "outputs": [
    {
     "data": {
      "image/png": "[encoded data removed]",
      "text/plain": [
       "<Figure size 720x648 with 1 Axes>"
      ]
     },
     "metadata": {
      "needs_background": "light"
     },
     "output_type": "display_data"
    }
   ],
   "source": [
    "plt.figure(figsize=(10,9))\n",
    "plt.scatter(testing_plot[:,0], testing_plot[:,1], alpha = 0.1, c = y_test.ravel())\n",
    "contours = plt.contour(x_grid,y_grid,prob_contour)\n",
    "plt.title('Probability Contours')\n",
    "plt.clabel(contours, inline = True );"
   ]
  },
  {
   "cell_type": "code",
   "execution_count": null,
   "id": "e81b4ac7",
   "metadata": {
    "papermill": {
     "duration": 0.049675,
     "end_time": "2022-10-29T00:41:00.137837",
     "exception": false,
     "start_time": "2022-10-29T00:41:00.088162",
     "status": "completed"
    },
    "tags": []
   },
   "outputs": [],
   "source": []
  }
 ],
 "metadata": {
  "kernelspec": {
   "display_name": "Python 3",
   "language": "python",
   "name": "python3"
  },
  "language_info": {
   "codemirror_mode": {
    "name": "ipython",
    "version": 3
   },
   "file_extension": ".py",
   "mimetype": "text/x-python",
   "name": "python",
   "nbconvert_exporter": "python",
   "pygments_lexer": "ipython3",
   "version": "3.6.15"
  },
  "papermill": {
   "default_parameters": {},
   "duration": 103.36818,
   "end_time": "2022-10-29T00:41:00.704015",
   "environment_variables": {},
   "exception": null,
   "input_path": "2020-08-11-part2.ipynb",
   "output_path": "2020-08-11-part2.ipynb",
   "parameters": {},
   "start_time": "2022-10-29T00:39:17.335835",
   "version": "2.3.3"
  }
 },
 "nbformat": 4,
 "nbformat_minor": 5
}