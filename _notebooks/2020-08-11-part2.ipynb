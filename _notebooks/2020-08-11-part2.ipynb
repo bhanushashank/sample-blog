{
 "cells": [
  {
   "cell_type": "markdown",
   "id": "98380cd3",
   "metadata": {
    "papermill": {
     "duration": 0.030261,
     "end_time": "2022-11-27T00:40:55.160726",
     "exception": false,
     "start_time": "2022-11-27T00:40:55.130465",
     "status": "completed"
    },
    "tags": []
   },
   "source": [
    "# Distinguish Your Own Digits (DYOD)"
   ]
  },
  {
   "cell_type": "markdown",
   "id": "ef31240d",
   "metadata": {
    "papermill": {
     "duration": 0.023596,
     "end_time": "2022-11-27T00:40:55.210931",
     "exception": false,
     "start_time": "2022-11-27T00:40:55.187335",
     "status": "completed"
    },
    "tags": []
   },
   "source": [
    "You are going to write a classifier that distinguishes between the number 3 and number 8."
   ]
  },
  {
   "cell_type": "code",
   "execution_count": 1,
   "id": "b15c8646",
   "metadata": {
    "execution": {
     "iopub.execute_input": "2022-11-27T00:40:55.269012Z",
     "iopub.status.busy": "2022-11-27T00:40:55.268395Z",
     "iopub.status.idle": "2022-11-27T00:40:55.279461Z",
     "shell.execute_reply": "2022-11-27T00:40:55.278985Z"
    },
    "papermill": {
     "duration": 0.045223,
     "end_time": "2022-11-27T00:40:55.279592",
     "exception": false,
     "start_time": "2022-11-27T00:40:55.234369",
     "status": "completed"
    },
    "tags": []
   },
   "outputs": [],
   "source": [
    "%load_ext autoreload\n",
    "%autoreload 2"
   ]
  },
  {
   "cell_type": "code",
   "execution_count": 2,
   "id": "22ef38dc",
   "metadata": {
    "execution": {
     "iopub.execute_input": "2022-11-27T00:40:55.335930Z",
     "iopub.status.busy": "2022-11-27T00:40:55.335336Z",
     "iopub.status.idle": "2022-11-27T00:40:55.880574Z",
     "shell.execute_reply": "2022-11-27T00:40:55.879976Z"
    },
    "papermill": {
     "duration": 0.577276,
     "end_time": "2022-11-27T00:40:55.880722",
     "exception": false,
     "start_time": "2022-11-27T00:40:55.303446",
     "status": "completed"
    },
    "tags": []
   },
   "outputs": [],
   "source": [
    "%matplotlib inline\n",
    "import numpy as np\n",
    "import matplotlib.pyplot as plt\n",
    "import pandas as pd"
   ]
  },
  {
   "cell_type": "markdown",
   "id": "ba036198",
   "metadata": {
    "papermill": {
     "duration": 0.024081,
     "end_time": "2022-11-27T00:40:55.928829",
     "exception": false,
     "start_time": "2022-11-27T00:40:55.904748",
     "status": "completed"
    },
    "tags": []
   },
   "source": [
    "From the command line run `pip install mnist`. This is a library that will help you bring down the mnist dataset. If you run this from a notebook, you need to put  `!pip install mnist` in a cell by itself."
   ]
  },
  {
   "cell_type": "code",
   "execution_count": 3,
   "id": "bb6ad8a1",
   "metadata": {
    "execution": {
     "iopub.execute_input": "2022-11-27T00:40:55.980916Z",
     "iopub.status.busy": "2022-11-27T00:40:55.980219Z",
     "iopub.status.idle": "2022-11-27T00:40:58.517566Z",
     "shell.execute_reply": "2022-11-27T00:40:58.516140Z"
    },
    "papermill": {
     "duration": 2.565109,
     "end_time": "2022-11-27T00:40:58.517708",
     "exception": false,
     "start_time": "2022-11-27T00:40:55.952599",
     "status": "completed"
    },
    "tags": []
   },
   "outputs": [
    {
     "name": "stdout",
     "output_type": "stream",
     "text": [
      "Collecting mnist\r\n"
     ]
    },
    {
     "name": "stdout",
     "output_type": "stream",
     "text": [
      "  Downloading mnist-0.2.2-py2.py3-none-any.whl (3.5 kB)\r\n",
      "Requirement already satisfied: numpy in /opt/hostedtoolcache/Python/3.6.15/x64/lib/python3.6/site-packages (from mnist) (1.19.5)\r\n"
     ]
    },
    {
     "name": "stdout",
     "output_type": "stream",
     "text": [
      "Installing collected packages: mnist\r\n",
      "Successfully installed mnist-0.2.2\r\n"
     ]
    }
   ],
   "source": [
    "!pip install mnist"
   ]
  },
  {
   "cell_type": "markdown",
   "id": "69df9c9a",
   "metadata": {
    "papermill": {
     "duration": 0.024775,
     "end_time": "2022-11-27T00:40:58.567568",
     "exception": false,
     "start_time": "2022-11-27T00:40:58.542793",
     "status": "completed"
    },
    "tags": []
   },
   "source": [
    "## Preparing the Data"
   ]
  },
  {
   "cell_type": "code",
   "execution_count": 4,
   "id": "7f69d806",
   "metadata": {
    "execution": {
     "iopub.execute_input": "2022-11-27T00:40:58.627657Z",
     "iopub.status.busy": "2022-11-27T00:40:58.627000Z",
     "iopub.status.idle": "2022-11-27T00:40:58.638730Z",
     "shell.execute_reply": "2022-11-27T00:40:58.638198Z"
    },
    "papermill": {
     "duration": 0.046506,
     "end_time": "2022-11-27T00:40:58.638882",
     "exception": false,
     "start_time": "2022-11-27T00:40:58.592376",
     "status": "completed"
    },
    "tags": []
   },
   "outputs": [],
   "source": [
    "import mnist"
   ]
  },
  {
   "cell_type": "code",
   "execution_count": 5,
   "id": "a411e44f",
   "metadata": {
    "execution": {
     "iopub.execute_input": "2022-11-27T00:40:58.698450Z",
     "iopub.status.busy": "2022-11-27T00:40:58.697831Z",
     "iopub.status.idle": "2022-11-27T00:40:59.332855Z",
     "shell.execute_reply": "2022-11-27T00:40:59.332237Z"
    },
    "papermill": {
     "duration": 0.669151,
     "end_time": "2022-11-27T00:40:59.332995",
     "exception": false,
     "start_time": "2022-11-27T00:40:58.663844",
     "status": "completed"
    },
    "tags": []
   },
   "outputs": [],
   "source": [
    "train_images = mnist.train_images()\n",
    "train_labels = mnist.train_labels()"
   ]
  },
  {
   "cell_type": "code",
   "execution_count": 6,
   "id": "dceab3a5",
   "metadata": {
    "execution": {
     "iopub.execute_input": "2022-11-27T00:40:59.388058Z",
     "iopub.status.busy": "2022-11-27T00:40:59.387458Z",
     "iopub.status.idle": "2022-11-27T00:40:59.402699Z",
     "shell.execute_reply": "2022-11-27T00:40:59.402126Z"
    },
    "papermill": {
     "duration": 0.044602,
     "end_time": "2022-11-27T00:40:59.402837",
     "exception": false,
     "start_time": "2022-11-27T00:40:59.358235",
     "status": "completed"
    },
    "tags": []
   },
   "outputs": [
    {
     "data": {
      "text/plain": [
       "((60000, 28, 28), (60000,))"
      ]
     },
     "execution_count": 6,
     "metadata": {},
     "output_type": "execute_result"
    }
   ],
   "source": [
    "train_images.shape, train_labels.shape"
   ]
  },
  {
   "cell_type": "code",
   "execution_count": 7,
   "id": "f50dc2bb",
   "metadata": {
    "execution": {
     "iopub.execute_input": "2022-11-27T00:40:59.459396Z",
     "iopub.status.busy": "2022-11-27T00:40:59.458787Z",
     "iopub.status.idle": "2022-11-27T00:40:59.585836Z",
     "shell.execute_reply": "2022-11-27T00:40:59.585230Z"
    },
    "papermill": {
     "duration": 0.158308,
     "end_time": "2022-11-27T00:40:59.585973",
     "exception": false,
     "start_time": "2022-11-27T00:40:59.427665",
     "status": "completed"
    },
    "tags": []
   },
   "outputs": [],
   "source": [
    "test_images = mnist.test_images()\n",
    "test_labels = mnist.test_labels()"
   ]
  },
  {
   "cell_type": "code",
   "execution_count": 8,
   "id": "fc38cf1b",
   "metadata": {
    "execution": {
     "iopub.execute_input": "2022-11-27T00:40:59.640533Z",
     "iopub.status.busy": "2022-11-27T00:40:59.639942Z",
     "iopub.status.idle": "2022-11-27T00:40:59.653180Z",
     "shell.execute_reply": "2022-11-27T00:40:59.653731Z"
    },
    "papermill": {
     "duration": 0.042451,
     "end_time": "2022-11-27T00:40:59.653859",
     "exception": false,
     "start_time": "2022-11-27T00:40:59.611408",
     "status": "completed"
    },
    "tags": []
   },
   "outputs": [
    {
     "data": {
      "text/plain": [
       "((10000, 28, 28), (10000,))"
      ]
     },
     "execution_count": 8,
     "metadata": {},
     "output_type": "execute_result"
    }
   ],
   "source": [
    "test_images.shape, test_labels.shape"
   ]
  },
  {
   "cell_type": "code",
   "execution_count": 9,
   "id": "f9ed8fe0",
   "metadata": {
    "execution": {
     "iopub.execute_input": "2022-11-27T00:40:59.707877Z",
     "iopub.status.busy": "2022-11-27T00:40:59.707295Z",
     "iopub.status.idle": "2022-11-27T00:40:59.847018Z",
     "shell.execute_reply": "2022-11-27T00:40:59.846509Z"
    },
    "papermill": {
     "duration": 0.16809,
     "end_time": "2022-11-27T00:40:59.847149",
     "exception": false,
     "start_time": "2022-11-27T00:40:59.679059",
     "status": "completed"
    },
    "tags": []
   },
   "outputs": [
    {
     "name": "stdout",
     "output_type": "stream",
     "text": [
      "2\n"
     ]
    },
    {
     "data": {
      "text/plain": [
       "<matplotlib.image.AxesImage at 0x7fc1369c1d68>"
      ]
     },
     "execution_count": 9,
     "metadata": {},
     "output_type": "execute_result"
    },
    {
     "data": {
      "image/png": "[encoded data removed]",
      "text/plain": [
       "<Figure size 432x288 with 1 Axes>"
      ]
     },
     "metadata": {
      "needs_background": "light"
     },
     "output_type": "display_data"
    }
   ],
   "source": [
    "image_index = 7776 # You may select anything up to 60,000\n",
    "print(train_labels[image_index]) \n",
    "plt.imshow(train_images[image_index], cmap='Greys')"
   ]
  },
  {
   "cell_type": "markdown",
   "id": "a8d2388d",
   "metadata": {
    "papermill": {
     "duration": 0.02632,
     "end_time": "2022-11-27T00:40:59.900086",
     "exception": false,
     "start_time": "2022-11-27T00:40:59.873766",
     "status": "completed"
    },
    "tags": []
   },
   "source": [
    "## Filter data to get 3 and 8 out"
   ]
  },
  {
   "cell_type": "code",
   "execution_count": 10,
   "id": "776f7fc7",
   "metadata": {
    "execution": {
     "iopub.execute_input": "2022-11-27T00:40:59.957748Z",
     "iopub.status.busy": "2022-11-27T00:40:59.957128Z",
     "iopub.status.idle": "2022-11-27T00:40:59.976844Z",
     "shell.execute_reply": "2022-11-27T00:40:59.976317Z"
    },
    "papermill": {
     "duration": 0.050703,
     "end_time": "2022-11-27T00:40:59.976978",
     "exception": false,
     "start_time": "2022-11-27T00:40:59.926275",
     "status": "completed"
    },
    "tags": []
   },
   "outputs": [],
   "source": [
    "train_filter = np.where((train_labels == 3 ) | (train_labels == 8))\n",
    "test_filter = np.where((test_labels == 3) | (test_labels == 8))\n",
    "X_train, y_train = train_images[train_filter], train_labels[train_filter]\n",
    "X_test, y_test = test_images[test_filter], test_labels[test_filter]"
   ]
  },
  {
   "cell_type": "markdown",
   "id": "948f0b7e",
   "metadata": {
    "papermill": {
     "duration": 0.026175,
     "end_time": "2022-11-27T00:41:00.030678",
     "exception": false,
     "start_time": "2022-11-27T00:41:00.004503",
     "status": "completed"
    },
    "tags": []
   },
   "source": [
    "We normalize the pizel values in the 0 to 1 range"
   ]
  },
  {
   "cell_type": "code",
   "execution_count": 11,
   "id": "ee4c2166",
   "metadata": {
    "execution": {
     "iopub.execute_input": "2022-11-27T00:41:00.089537Z",
     "iopub.status.busy": "2022-11-27T00:41:00.088943Z",
     "iopub.status.idle": "2022-11-27T00:41:00.137083Z",
     "shell.execute_reply": "2022-11-27T00:41:00.136488Z"
    },
    "papermill": {
     "duration": 0.080568,
     "end_time": "2022-11-27T00:41:00.137224",
     "exception": false,
     "start_time": "2022-11-27T00:41:00.056656",
     "status": "completed"
    },
    "tags": []
   },
   "outputs": [],
   "source": [
    "X_train = X_train/255.\n",
    "X_test = X_test/255."
   ]
  },
  {
   "cell_type": "markdown",
   "id": "ddcf4fab",
   "metadata": {
    "papermill": {
     "duration": 0.026101,
     "end_time": "2022-11-27T00:41:00.190001",
     "exception": false,
     "start_time": "2022-11-27T00:41:00.163900",
     "status": "completed"
    },
    "tags": []
   },
   "source": [
    "And setup the labels as 1 (when the digit is 3) and 0 (when the digit is 8)"
   ]
  },
  {
   "cell_type": "code",
   "execution_count": 12,
   "id": "7dc908f2",
   "metadata": {
    "execution": {
     "iopub.execute_input": "2022-11-27T00:41:00.246584Z",
     "iopub.status.busy": "2022-11-27T00:41:00.245994Z",
     "iopub.status.idle": "2022-11-27T00:41:00.258530Z",
     "shell.execute_reply": "2022-11-27T00:41:00.259105Z"
    },
    "papermill": {
     "duration": 0.043231,
     "end_time": "2022-11-27T00:41:00.259244",
     "exception": false,
     "start_time": "2022-11-27T00:41:00.216013",
     "status": "completed"
    },
    "tags": []
   },
   "outputs": [],
   "source": [
    "y_train = 1*(y_train==3)\n",
    "y_test = 1*(y_test==3)"
   ]
  },
  {
   "cell_type": "code",
   "execution_count": 13,
   "id": "01e4e969",
   "metadata": {
    "execution": {
     "iopub.execute_input": "2022-11-27T00:41:00.315737Z",
     "iopub.status.busy": "2022-11-27T00:41:00.315143Z",
     "iopub.status.idle": "2022-11-27T00:41:00.329688Z",
     "shell.execute_reply": "2022-11-27T00:41:00.329218Z"
    },
    "papermill": {
     "duration": 0.04441,
     "end_time": "2022-11-27T00:41:00.329800",
     "exception": false,
     "start_time": "2022-11-27T00:41:00.285390",
     "status": "completed"
    },
    "tags": []
   },
   "outputs": [
    {
     "data": {
      "text/plain": [
       "((11982, 28, 28), (1984, 28, 28))"
      ]
     },
     "execution_count": 13,
     "metadata": {},
     "output_type": "execute_result"
    }
   ],
   "source": [
    "X_train.shape, X_test.shape"
   ]
  },
  {
   "cell_type": "markdown",
   "id": "5ccf3f85",
   "metadata": {
    "papermill": {
     "duration": 0.026825,
     "end_time": "2022-11-27T00:41:00.382815",
     "exception": false,
     "start_time": "2022-11-27T00:41:00.355990",
     "status": "completed"
    },
    "tags": []
   },
   "source": [
    "We reshape the data to flatten the image pixels into a set of features or co-variates:"
   ]
  },
  {
   "cell_type": "code",
   "execution_count": 14,
   "id": "5286a4a3",
   "metadata": {
    "execution": {
     "iopub.execute_input": "2022-11-27T00:41:00.440014Z",
     "iopub.status.busy": "2022-11-27T00:41:00.439416Z",
     "iopub.status.idle": "2022-11-27T00:41:00.454312Z",
     "shell.execute_reply": "2022-11-27T00:41:00.453839Z"
    },
    "papermill": {
     "duration": 0.045176,
     "end_time": "2022-11-27T00:41:00.454424",
     "exception": false,
     "start_time": "2022-11-27T00:41:00.409248",
     "status": "completed"
    },
    "tags": []
   },
   "outputs": [
    {
     "data": {
      "text/plain": [
       "((11982, 784), (1984, 784))"
      ]
     },
     "execution_count": 14,
     "metadata": {},
     "output_type": "execute_result"
    }
   ],
   "source": [
    "X_train = X_train.reshape(X_train.shape[0], -1)\n",
    "X_test = X_test.reshape(X_test.shape[0], -1)\n",
    "X_train.shape, X_test.shape"
   ]
  },
  {
   "cell_type": "code",
   "execution_count": 15,
   "id": "73c5f88a",
   "metadata": {
    "execution": {
     "iopub.execute_input": "2022-11-27T00:41:00.513498Z",
     "iopub.status.busy": "2022-11-27T00:41:00.512910Z",
     "iopub.status.idle": "2022-11-27T00:41:00.531899Z",
     "shell.execute_reply": "2022-11-27T00:41:00.531355Z"
    },
    "papermill": {
     "duration": 0.051132,
     "end_time": "2022-11-27T00:41:00.532025",
     "exception": false,
     "start_time": "2022-11-27T00:41:00.480893",
     "status": "completed"
    },
    "tags": []
   },
   "outputs": [],
   "source": [
    "#Impoting functions from 'Kudzu'\n",
    "from kudzu.model import Model\n",
    "from kudzu.train import Learner\n",
    "from kudzu.optim import GD\n",
    "from kudzu.data import Data, Sampler,Dataloader\n",
    "\n",
    "from kudzu.callbacks import AccCallback\n",
    "from kudzu.callbacks import ClfCallback\n",
    "\n",
    "from kudzu.loss import MSE\n",
    "\n",
    "from kudzu.layer import Sigmoid,Relu\n",
    "from kudzu.layer import Affine"
   ]
  },
  {
   "cell_type": "markdown",
   "id": "bc01172a",
   "metadata": {
    "papermill": {
     "duration": 0.026411,
     "end_time": "2022-11-27T00:41:00.585771",
     "exception": false,
     "start_time": "2022-11-27T00:41:00.559360",
     "status": "completed"
    },
    "tags": []
   },
   "source": [
    "### Let us create a `Config` class, to store important parameters. \n",
    "This class essentially plays the role of a dictionary."
   ]
  },
  {
   "cell_type": "code",
   "execution_count": 16,
   "id": "978281aa",
   "metadata": {
    "execution": {
     "iopub.execute_input": "2022-11-27T00:41:00.642882Z",
     "iopub.status.busy": "2022-11-27T00:41:00.642266Z",
     "iopub.status.idle": "2022-11-27T00:41:00.656217Z",
     "shell.execute_reply": "2022-11-27T00:41:00.655748Z"
    },
    "papermill": {
     "duration": 0.0442,
     "end_time": "2022-11-27T00:41:00.656329",
     "exception": false,
     "start_time": "2022-11-27T00:41:00.612129",
     "status": "completed"
    },
    "tags": []
   },
   "outputs": [],
   "source": [
    "class Config:\n",
    "    pass\n",
    "config = Config()\n",
    "config.lr = 0.001\n",
    "config.num_epochs = 250\n",
    "config.bs = 50"
   ]
  },
  {
   "cell_type": "markdown",
   "id": "1385fa59",
   "metadata": {
    "papermill": {
     "duration": 0.026518,
     "end_time": "2022-11-27T00:41:00.709346",
     "exception": false,
     "start_time": "2022-11-27T00:41:00.682828",
     "status": "completed"
    },
    "tags": []
   },
   "source": [
    "### Running Models with the Training data\n",
    "Details about the network layers:\n",
    "- A first affine layer has 784 inputs and does 100 affine transforms. These are followed by a Relu\n",
    "- A second affine layer has 100 inputs from the 100 activations of the past layer, and does 100 affine transforms. These are followed by a Relu\n",
    "- A third affine layer has 100 activations and does 2 affine transformations to create an embedding for visualization. There is no non-linearity here.\n",
    "- A final \"logistic regression\" which has an affine transform from 2 inputs to 1 output, which is squeezed through a sigmoid.\n"
   ]
  },
  {
   "cell_type": "code",
   "execution_count": 17,
   "id": "2b9c66db",
   "metadata": {
    "execution": {
     "iopub.execute_input": "2022-11-27T00:41:00.765224Z",
     "iopub.status.busy": "2022-11-27T00:41:00.764649Z",
     "iopub.status.idle": "2022-11-27T00:41:00.779545Z",
     "shell.execute_reply": "2022-11-27T00:41:00.778963Z"
    },
    "papermill": {
     "duration": 0.043823,
     "end_time": "2022-11-27T00:41:00.779654",
     "exception": false,
     "start_time": "2022-11-27T00:41:00.735831",
     "status": "completed"
    },
    "tags": []
   },
   "outputs": [],
   "source": [
    "data = Data(X_train, y_train.reshape(-1,1))\n",
    "sampler = Sampler(data, config.bs, shuffle=True)\n",
    "\n",
    "dl = Dataloader(data, sampler)\n",
    "\n",
    "opt = GD(config.lr)\n",
    "loss = MSE()"
   ]
  },
  {
   "cell_type": "code",
   "execution_count": 18,
   "id": "b275e4c2",
   "metadata": {
    "execution": {
     "iopub.execute_input": "2022-11-27T00:41:00.838037Z",
     "iopub.status.busy": "2022-11-27T00:41:00.837453Z",
     "iopub.status.idle": "2022-11-27T00:41:00.849289Z",
     "shell.execute_reply": "2022-11-27T00:41:00.849738Z"
    },
    "papermill": {
     "duration": 0.043619,
     "end_time": "2022-11-27T00:41:00.849868",
     "exception": false,
     "start_time": "2022-11-27T00:41:00.806249",
     "status": "completed"
    },
    "tags": []
   },
   "outputs": [],
   "source": [
    "training_data_x = X_train\n",
    "testing_data_x = X_test\n",
    "training_data_y = y_train.reshape(-1,1)\n",
    "testing_data_y = y_test.reshape(-1,1)"
   ]
  },
  {
   "cell_type": "code",
   "execution_count": 19,
   "id": "76951160",
   "metadata": {
    "execution": {
     "iopub.execute_input": "2022-11-27T00:41:00.910035Z",
     "iopub.status.busy": "2022-11-27T00:41:00.909454Z",
     "iopub.status.idle": "2022-11-27T00:41:00.924550Z",
     "shell.execute_reply": "2022-11-27T00:41:00.924072Z"
    },
    "papermill": {
     "duration": 0.048329,
     "end_time": "2022-11-27T00:41:00.924658",
     "exception": false,
     "start_time": "2022-11-27T00:41:00.876329",
     "status": "completed"
    },
    "tags": []
   },
   "outputs": [
    {
     "name": "stdout",
     "output_type": "stream",
     "text": [
      "xavier\n",
      "xavier\n",
      "xavier\n",
      "xavier\n",
      "xavier\n"
     ]
    }
   ],
   "source": [
    "layers = [Affine(\"first\", 784, 100), Relu(\"first\"), Affine(\"second\", 100, 100), Relu(\"second\"), Affine(\"third\", 100, 2), Affine(\"last\", 2, 1), Sigmoid(\"last\")]\n",
    "model_nn = Model(layers)\n",
    "model_lr = Model([Affine(\"logits\", 784, 1), Sigmoid(\"sigmoid\")])"
   ]
  },
  {
   "cell_type": "code",
   "execution_count": 20,
   "id": "6eede77a",
   "metadata": {
    "execution": {
     "iopub.execute_input": "2022-11-27T00:41:00.983906Z",
     "iopub.status.busy": "2022-11-27T00:41:00.983330Z",
     "iopub.status.idle": "2022-11-27T00:41:00.995389Z",
     "shell.execute_reply": "2022-11-27T00:41:00.995808Z"
    },
    "papermill": {
     "duration": 0.042436,
     "end_time": "2022-11-27T00:41:00.995932",
     "exception": false,
     "start_time": "2022-11-27T00:41:00.953496",
     "status": "completed"
    },
    "tags": []
   },
   "outputs": [],
   "source": [
    "nn_learner = Learner(loss, model_nn, opt, config.num_epochs)\n",
    "acc_nn = ClfCallback(nn_learner, config.bs, training_data_x , testing_data_x, training_data_y, testing_data_y)\n",
    "nn_learner.set_callbacks([acc_nn])"
   ]
  },
  {
   "cell_type": "code",
   "execution_count": 21,
   "id": "877b6cc7",
   "metadata": {
    "execution": {
     "iopub.execute_input": "2022-11-27T00:41:01.056307Z",
     "iopub.status.busy": "2022-11-27T00:41:01.055719Z",
     "iopub.status.idle": "2022-11-27T00:41:01.066041Z",
     "shell.execute_reply": "2022-11-27T00:41:01.065565Z"
    },
    "papermill": {
     "duration": 0.043442,
     "end_time": "2022-11-27T00:41:01.066148",
     "exception": false,
     "start_time": "2022-11-27T00:41:01.022706",
     "status": "completed"
    },
    "tags": []
   },
   "outputs": [],
   "source": [
    "lr_learner = Learner(loss, model_lr, opt, config.num_epochs)\n",
    "acc_lr = ClfCallback(lr_learner, config.bs, training_data_x , testing_data_x, training_data_y, testing_data_y)\n",
    "lr_learner.set_callbacks([acc_lr])"
   ]
  },
  {
   "cell_type": "code",
   "execution_count": 22,
   "id": "d9b133c3",
   "metadata": {
    "execution": {
     "iopub.execute_input": "2022-11-27T00:41:01.123780Z",
     "iopub.status.busy": "2022-11-27T00:41:01.123196Z",
     "iopub.status.idle": "2022-11-27T00:42:17.930532Z",
     "shell.execute_reply": "2022-11-27T00:42:17.931186Z"
    },
    "papermill": {
     "duration": 76.837808,
     "end_time": "2022-11-27T00:42:17.931334",
     "exception": false,
     "start_time": "2022-11-27T00:41:01.093526",
     "status": "completed"
    },
    "tags": []
   },
   "outputs": [
    {
     "name": "stdout",
     "output_type": "stream",
     "text": [
      "Epoch 0, Loss 0.257\n",
      "Training Accuracy: 0.4765, Testing Accuracy: 0.4733\n",
      "\n"
     ]
    },
    {
     "name": "stdout",
     "output_type": "stream",
     "text": [
      "Epoch 10, Loss 0.1766\n",
      "Training Accuracy: 0.8934, Testing Accuracy: 0.8987\n",
      "\n"
     ]
    },
    {
     "name": "stdout",
     "output_type": "stream",
     "text": [
      "Epoch 20, Loss 0.0847\n",
      "Training Accuracy: 0.9213, Testing Accuracy: 0.9294\n",
      "\n"
     ]
    },
    {
     "name": "stdout",
     "output_type": "stream",
     "text": [
      "Epoch 30, Loss 0.0561\n",
      "Training Accuracy: 0.9401, Testing Accuracy: 0.9486\n",
      "\n"
     ]
    },
    {
     "name": "stdout",
     "output_type": "stream",
     "text": [
      "Epoch 40, Loss 0.0445\n",
      "Training Accuracy: 0.9504, Testing Accuracy: 0.9592\n",
      "\n"
     ]
    },
    {
     "name": "stdout",
     "output_type": "stream",
     "text": [
      "Epoch 50, Loss 0.0385\n",
      "Training Accuracy: 0.9559, Testing Accuracy: 0.9632\n",
      "\n"
     ]
    },
    {
     "name": "stdout",
     "output_type": "stream",
     "text": [
      "Epoch 60, Loss 0.0349\n",
      "Training Accuracy: 0.9598, Testing Accuracy: 0.9677\n",
      "\n"
     ]
    },
    {
     "name": "stdout",
     "output_type": "stream",
     "text": [
      "Epoch 70, Loss 0.0325\n",
      "Training Accuracy: 0.9622, Testing Accuracy: 0.9698\n",
      "\n"
     ]
    },
    {
     "name": "stdout",
     "output_type": "stream",
     "text": [
      "Epoch 80, Loss 0.0306\n",
      "Training Accuracy: 0.9646, Testing Accuracy: 0.9693\n",
      "\n"
     ]
    },
    {
     "name": "stdout",
     "output_type": "stream",
     "text": [
      "Epoch 90, Loss 0.0292\n",
      "Training Accuracy: 0.9659, Testing Accuracy: 0.9693\n",
      "\n"
     ]
    },
    {
     "name": "stdout",
     "output_type": "stream",
     "text": [
      "Epoch 100, Loss 0.028\n",
      "Training Accuracy: 0.9669, Testing Accuracy: 0.9693\n",
      "\n"
     ]
    },
    {
     "name": "stdout",
     "output_type": "stream",
     "text": [
      "Epoch 110, Loss 0.027\n",
      "Training Accuracy: 0.9685, Testing Accuracy: 0.9693\n",
      "\n"
     ]
    },
    {
     "name": "stdout",
     "output_type": "stream",
     "text": [
      "Epoch 120, Loss 0.0262\n",
      "Training Accuracy: 0.9698, Testing Accuracy: 0.9688\n",
      "\n"
     ]
    },
    {
     "name": "stdout",
     "output_type": "stream",
     "text": [
      "Epoch 130, Loss 0.0254\n",
      "Training Accuracy: 0.9701, Testing Accuracy: 0.9688\n",
      "\n"
     ]
    },
    {
     "name": "stdout",
     "output_type": "stream",
     "text": [
      "Epoch 140, Loss 0.0248\n",
      "Training Accuracy: 0.9710, Testing Accuracy: 0.9688\n",
      "\n"
     ]
    },
    {
     "name": "stdout",
     "output_type": "stream",
     "text": [
      "Epoch 150, Loss 0.0241\n",
      "Training Accuracy: 0.9716, Testing Accuracy: 0.9703\n",
      "\n"
     ]
    },
    {
     "name": "stdout",
     "output_type": "stream",
     "text": [
      "Epoch 160, Loss 0.0236\n",
      "Training Accuracy: 0.9720, Testing Accuracy: 0.9703\n",
      "\n"
     ]
    },
    {
     "name": "stdout",
     "output_type": "stream",
     "text": [
      "Epoch 170, Loss 0.0231\n",
      "Training Accuracy: 0.9729, Testing Accuracy: 0.9703\n",
      "\n"
     ]
    },
    {
     "name": "stdout",
     "output_type": "stream",
     "text": [
      "Epoch 180, Loss 0.0226\n",
      "Training Accuracy: 0.9734, Testing Accuracy: 0.9703\n",
      "\n"
     ]
    },
    {
     "name": "stdout",
     "output_type": "stream",
     "text": [
      "Epoch 190, Loss 0.0221\n",
      "Training Accuracy: 0.9740, Testing Accuracy: 0.9708\n",
      "\n"
     ]
    },
    {
     "name": "stdout",
     "output_type": "stream",
     "text": [
      "Epoch 200, Loss 0.0217\n",
      "Training Accuracy: 0.9743, Testing Accuracy: 0.9708\n",
      "\n"
     ]
    },
    {
     "name": "stdout",
     "output_type": "stream",
     "text": [
      "Epoch 210, Loss 0.0213\n",
      "Training Accuracy: 0.9745, Testing Accuracy: 0.9708\n",
      "\n"
     ]
    },
    {
     "name": "stdout",
     "output_type": "stream",
     "text": [
      "Epoch 220, Loss 0.0209\n",
      "Training Accuracy: 0.9750, Testing Accuracy: 0.9713\n",
      "\n"
     ]
    },
    {
     "name": "stdout",
     "output_type": "stream",
     "text": [
      "Epoch 230, Loss 0.0206\n",
      "Training Accuracy: 0.9758, Testing Accuracy: 0.9718\n",
      "\n"
     ]
    },
    {
     "name": "stdout",
     "output_type": "stream",
     "text": [
      "Epoch 240, Loss 0.0202\n",
      "Training Accuracy: 0.9764, Testing Accuracy: 0.9728\n",
      "\n"
     ]
    },
    {
     "data": {
      "text/plain": [
       "0.02758217236939236"
      ]
     },
     "execution_count": 22,
     "metadata": {},
     "output_type": "execute_result"
    }
   ],
   "source": [
    "nn_learner.train_loop(dl)"
   ]
  },
  {
   "cell_type": "code",
   "execution_count": 23,
   "id": "e0163366",
   "metadata": {
    "execution": {
     "iopub.execute_input": "2022-11-27T00:42:18.008462Z",
     "iopub.status.busy": "2022-11-27T00:42:18.007858Z",
     "iopub.status.idle": "2022-11-27T00:42:32.045708Z",
     "shell.execute_reply": "2022-11-27T00:42:32.046292Z"
    },
    "papermill": {
     "duration": 14.0804,
     "end_time": "2022-11-27T00:42:32.046437",
     "exception": false,
     "start_time": "2022-11-27T00:42:17.966037",
     "status": "completed"
    },
    "tags": []
   },
   "outputs": [
    {
     "name": "stdout",
     "output_type": "stream",
     "text": [
      "Epoch 0, Loss 0.254\n",
      "Training Accuracy: 0.6566, Testing Accuracy: 0.6628\n",
      "\n"
     ]
    },
    {
     "name": "stdout",
     "output_type": "stream",
     "text": [
      "Epoch 10, Loss 0.1023\n",
      "Training Accuracy: 0.9171, Testing Accuracy: 0.9289\n",
      "\n"
     ]
    },
    {
     "name": "stdout",
     "output_type": "stream",
     "text": [
      "Epoch 20, Loss 0.0785\n",
      "Training Accuracy: 0.9310, Testing Accuracy: 0.9415\n",
      "\n"
     ]
    },
    {
     "name": "stdout",
     "output_type": "stream",
     "text": [
      "Epoch 30, Loss 0.0677\n",
      "Training Accuracy: 0.9390, Testing Accuracy: 0.9486\n",
      "\n"
     ]
    },
    {
     "name": "stdout",
     "output_type": "stream",
     "text": [
      "Epoch 40, Loss 0.0613\n",
      "Training Accuracy: 0.9432, Testing Accuracy: 0.9551\n",
      "\n"
     ]
    },
    {
     "name": "stdout",
     "output_type": "stream",
     "text": [
      "Epoch 50, Loss 0.0569\n",
      "Training Accuracy: 0.9467, Testing Accuracy: 0.9587\n",
      "\n"
     ]
    },
    {
     "name": "stdout",
     "output_type": "stream",
     "text": [
      "Epoch 60, Loss 0.0537\n",
      "Training Accuracy: 0.9481, Testing Accuracy: 0.9592\n",
      "\n"
     ]
    },
    {
     "name": "stdout",
     "output_type": "stream",
     "text": [
      "Epoch 70, Loss 0.0512\n",
      "Training Accuracy: 0.9496, Testing Accuracy: 0.9622\n",
      "\n"
     ]
    },
    {
     "name": "stdout",
     "output_type": "stream",
     "text": [
      "Epoch 80, Loss 0.0492\n",
      "Training Accuracy: 0.9510, Testing Accuracy: 0.9622\n",
      "\n"
     ]
    },
    {
     "name": "stdout",
     "output_type": "stream",
     "text": [
      "Epoch 90, Loss 0.0475\n",
      "Training Accuracy: 0.9520, Testing Accuracy: 0.9617\n",
      "\n"
     ]
    },
    {
     "name": "stdout",
     "output_type": "stream",
     "text": [
      "Epoch 100, Loss 0.0461\n",
      "Training Accuracy: 0.9523, Testing Accuracy: 0.9637\n",
      "\n"
     ]
    },
    {
     "name": "stdout",
     "output_type": "stream",
     "text": [
      "Epoch 110, Loss 0.0449\n",
      "Training Accuracy: 0.9530, Testing Accuracy: 0.9647\n",
      "\n"
     ]
    },
    {
     "name": "stdout",
     "output_type": "stream",
     "text": [
      "Epoch 120, Loss 0.0439\n",
      "Training Accuracy: 0.9533, Testing Accuracy: 0.9652\n",
      "\n"
     ]
    },
    {
     "name": "stdout",
     "output_type": "stream",
     "text": [
      "Epoch 130, Loss 0.043\n",
      "Training Accuracy: 0.9546, Testing Accuracy: 0.9657\n",
      "\n"
     ]
    },
    {
     "name": "stdout",
     "output_type": "stream",
     "text": [
      "Epoch 140, Loss 0.0422\n",
      "Training Accuracy: 0.9549, Testing Accuracy: 0.9662\n",
      "\n"
     ]
    },
    {
     "name": "stdout",
     "output_type": "stream",
     "text": [
      "Epoch 150, Loss 0.0414\n",
      "Training Accuracy: 0.9553, Testing Accuracy: 0.9667\n",
      "\n"
     ]
    },
    {
     "name": "stdout",
     "output_type": "stream",
     "text": [
      "Epoch 160, Loss 0.0408\n",
      "Training Accuracy: 0.9564, Testing Accuracy: 0.9672\n",
      "\n"
     ]
    },
    {
     "name": "stdout",
     "output_type": "stream",
     "text": [
      "Epoch 170, Loss 0.0402\n",
      "Training Accuracy: 0.9572, Testing Accuracy: 0.9672\n",
      "\n"
     ]
    },
    {
     "name": "stdout",
     "output_type": "stream",
     "text": [
      "Epoch 180, Loss 0.0396\n",
      "Training Accuracy: 0.9575, Testing Accuracy: 0.9662\n",
      "\n"
     ]
    },
    {
     "name": "stdout",
     "output_type": "stream",
     "text": [
      "Epoch 190, Loss 0.0391\n",
      "Training Accuracy: 0.9581, Testing Accuracy: 0.9662\n",
      "\n"
     ]
    },
    {
     "name": "stdout",
     "output_type": "stream",
     "text": [
      "Epoch 200, Loss 0.0386\n",
      "Training Accuracy: 0.9585, Testing Accuracy: 0.9657\n",
      "\n"
     ]
    },
    {
     "name": "stdout",
     "output_type": "stream",
     "text": [
      "Epoch 210, Loss 0.0382\n",
      "Training Accuracy: 0.9593, Testing Accuracy: 0.9652\n",
      "\n"
     ]
    },
    {
     "name": "stdout",
     "output_type": "stream",
     "text": [
      "Epoch 220, Loss 0.0378\n",
      "Training Accuracy: 0.9597, Testing Accuracy: 0.9652\n",
      "\n"
     ]
    },
    {
     "name": "stdout",
     "output_type": "stream",
     "text": [
      "Epoch 230, Loss 0.0374\n",
      "Training Accuracy: 0.9599, Testing Accuracy: 0.9657\n",
      "\n"
     ]
    },
    {
     "name": "stdout",
     "output_type": "stream",
     "text": [
      "Epoch 240, Loss 0.037\n",
      "Training Accuracy: 0.9604, Testing Accuracy: 0.9657\n",
      "\n"
     ]
    },
    {
     "data": {
      "text/plain": [
       "0.021221057533933434"
      ]
     },
     "execution_count": 23,
     "metadata": {},
     "output_type": "execute_result"
    }
   ],
   "source": [
    "lr_learner.train_loop(dl)"
   ]
  },
  {
   "cell_type": "code",
   "execution_count": 24,
   "id": "ca410940",
   "metadata": {
    "execution": {
     "iopub.execute_input": "2022-11-27T00:42:32.136447Z",
     "iopub.status.busy": "2022-11-27T00:42:32.135847Z",
     "iopub.status.idle": "2022-11-27T00:42:32.361785Z",
     "shell.execute_reply": "2022-11-27T00:42:32.362244Z"
    },
    "papermill": {
     "duration": 0.275004,
     "end_time": "2022-11-27T00:42:32.362391",
     "exception": false,
     "start_time": "2022-11-27T00:42:32.087387",
     "status": "completed"
    },
    "tags": []
   },
   "outputs": [
    {
     "data": {
      "text/plain": [
       "<matplotlib.legend.Legend at 0x7fc13652f400>"
      ]
     },
     "execution_count": 24,
     "metadata": {},
     "output_type": "execute_result"
    },
    {
     "data": {
      "image/png": "[encoded data removed]",
      "text/plain": [
       "<Figure size 1080x720 with 1 Axes>"
      ]
     },
     "metadata": {
      "needs_background": "light"
     },
     "output_type": "display_data"
    }
   ],
   "source": [
    "#comparing the results of NN and LR\n",
    "plt.figure(figsize=(15,10))\n",
    "\n",
    "# Neural Network plots\n",
    "plt.plot(acc_nn.accuracies, 'r-', label = \"Training Accuracies - NN\")\n",
    "plt.plot(acc_nn.test_accuracies, 'g-', label = \"Testing Accuracies - NN\")\n",
    "\n",
    "# Logistic Regression plots\n",
    "plt.plot(acc_lr.accuracies, 'k-', label = \"Training Accuracies - LR\")\n",
    "plt.plot(acc_lr.test_accuracies, 'b-', label = \"Testing Accuracies - LR\")\n",
    "plt.legend()"
   ]
  },
  {
   "cell_type": "markdown",
   "id": "80dfb35c",
   "metadata": {
    "papermill": {
     "duration": 0.042834,
     "end_time": "2022-11-27T00:42:32.447809",
     "exception": false,
     "start_time": "2022-11-27T00:42:32.404975",
     "status": "completed"
    },
    "tags": []
   },
   "source": [
    "#### Plotting the outputs of this layer of the NN.\n"
   ]
  },
  {
   "cell_type": "code",
   "execution_count": 25,
   "id": "45eb2ff5",
   "metadata": {
    "execution": {
     "iopub.execute_input": "2022-11-27T00:42:32.536259Z",
     "iopub.status.busy": "2022-11-27T00:42:32.535658Z",
     "iopub.status.idle": "2022-11-27T00:42:32.557312Z",
     "shell.execute_reply": "2022-11-27T00:42:32.556833Z"
    },
    "papermill": {
     "duration": 0.067878,
     "end_time": "2022-11-27T00:42:32.557436",
     "exception": false,
     "start_time": "2022-11-27T00:42:32.489558",
     "status": "completed"
    },
    "tags": []
   },
   "outputs": [],
   "source": [
    "new_model = Model(layers[:-2])\n",
    "testing_plot = new_model(testing_data_x)"
   ]
  },
  {
   "cell_type": "code",
   "execution_count": 26,
   "id": "4c0a5485",
   "metadata": {
    "execution": {
     "iopub.execute_input": "2022-11-27T00:42:32.652801Z",
     "iopub.status.busy": "2022-11-27T00:42:32.652180Z",
     "iopub.status.idle": "2022-11-27T00:42:32.885895Z",
     "shell.execute_reply": "2022-11-27T00:42:32.886358Z"
    },
    "papermill": {
     "duration": 0.286314,
     "end_time": "2022-11-27T00:42:32.886506",
     "exception": false,
     "start_time": "2022-11-27T00:42:32.600192",
     "status": "completed"
    },
    "tags": []
   },
   "outputs": [
    {
     "data": {
      "text/plain": [
       "Text(0.5, 1.0, 'Outputs')"
      ]
     },
     "execution_count": 26,
     "metadata": {},
     "output_type": "execute_result"
    },
    {
     "data": {
      "image/png": "[encoded data removed]",
      "text/plain": [
       "<Figure size 576x504 with 1 Axes>"
      ]
     },
     "metadata": {
      "needs_background": "light"
     },
     "output_type": "display_data"
    }
   ],
   "source": [
    "# Plotting the scatter plot of points and color coding by class\n",
    "plt.figure(figsize=(8,7))\n",
    "plt.scatter(testing_plot[:,0], testing_plot[:,1], alpha = 0.1, c = y_test.ravel());\n",
    "plt.title('Outputs')"
   ]
  },
  {
   "cell_type": "markdown",
   "id": "a74fcf8f",
   "metadata": {
    "papermill": {
     "duration": 0.04738,
     "end_time": "2022-11-27T00:42:32.979866",
     "exception": false,
     "start_time": "2022-11-27T00:42:32.932486",
     "status": "completed"
    },
    "tags": []
   },
   "source": [
    "Probability contours"
   ]
  },
  {
   "cell_type": "code",
   "execution_count": 27,
   "id": "d0afc8e3",
   "metadata": {
    "execution": {
     "iopub.execute_input": "2022-11-27T00:42:33.077890Z",
     "iopub.status.busy": "2022-11-27T00:42:33.077274Z",
     "iopub.status.idle": "2022-11-27T00:42:33.089774Z",
     "shell.execute_reply": "2022-11-27T00:42:33.089274Z"
    },
    "papermill": {
     "duration": 0.064102,
     "end_time": "2022-11-27T00:42:33.089899",
     "exception": false,
     "start_time": "2022-11-27T00:42:33.025797",
     "status": "completed"
    },
    "tags": []
   },
   "outputs": [],
   "source": [
    "model_prob = Model(layers[-2:]) "
   ]
  },
  {
   "cell_type": "code",
   "execution_count": 28,
   "id": "9b96e238",
   "metadata": {
    "execution": {
     "iopub.execute_input": "2022-11-27T00:42:33.217675Z",
     "iopub.status.busy": "2022-11-27T00:42:33.217052Z",
     "iopub.status.idle": "2022-11-27T00:42:33.232273Z",
     "shell.execute_reply": "2022-11-27T00:42:33.232719Z"
    },
    "papermill": {
     "duration": 0.096906,
     "end_time": "2022-11-27T00:42:33.232870",
     "exception": false,
     "start_time": "2022-11-27T00:42:33.135964",
     "status": "completed"
    },
    "tags": []
   },
   "outputs": [],
   "source": [
    "#creating the x and y ranges according to the above generated plot.\n",
    "x_range = np.linspace(-4, 1, 100) \n",
    "y_range = np.linspace(-6, 6, 100) \n",
    "x_grid, y_grid = np.meshgrid(x_range, y_range) # x_grid and y_grig are of size 100 X 100\n",
    "\n",
    "# converting x_grid and y_grid to continuous arrays\n",
    "x_gridflat = np.ravel(x_grid)\n",
    "y_gridflat = np.ravel(y_grid)\n",
    "\n",
    "# The last layer of the current model takes two columns as input. Hence transpose of np.vstack() is required.\n",
    "X = np.vstack((x_gridflat, y_gridflat)).T\n",
    "\n",
    "prob_contour = model_prob(X).reshape(100,100) "
   ]
  },
  {
   "cell_type": "code",
   "execution_count": 29,
   "id": "da72499a",
   "metadata": {
    "execution": {
     "iopub.execute_input": "2022-11-27T00:42:33.337151Z",
     "iopub.status.busy": "2022-11-27T00:42:33.336537Z",
     "iopub.status.idle": "2022-11-27T00:42:33.579738Z",
     "shell.execute_reply": "2022-11-27T00:42:33.580266Z"
    },
    "papermill": {
     "duration": 0.300848,
     "end_time": "2022-11-27T00:42:33.580425",
     "exception": false,
     "start_time": "2022-11-27T00:42:33.279577",
     "status": "completed"
    },
    "tags": []
   },
   "outputs": [
    {
     "data": {
      "image/png": "[encoded data removed]",
      "text/plain": [
       "<Figure size 720x648 with 1 Axes>"
      ]
     },
     "metadata": {
      "needs_background": "light"
     },
     "output_type": "display_data"
    }
   ],
   "source": [
    "plt.figure(figsize=(10,9))\n",
    "plt.scatter(testing_plot[:,0], testing_plot[:,1], alpha = 0.1, c = y_test.ravel())\n",
    "contours = plt.contour(x_grid,y_grid,prob_contour)\n",
    "plt.title('Probability Contours')\n",
    "plt.clabel(contours, inline = True );"
   ]
  },
  {
   "cell_type": "code",
   "execution_count": null,
   "id": "e81b4ac7",
   "metadata": {
    "papermill": {
     "duration": 0.047786,
     "end_time": "2022-11-27T00:42:33.676673",
     "exception": false,
     "start_time": "2022-11-27T00:42:33.628887",
     "status": "completed"
    },
    "tags": []
   },
   "outputs": [],
   "source": []
  }
 ],
 "metadata": {
  "kernelspec": {
   "display_name": "Python 3",
   "language": "python",
   "name": "python3"
  },
  "language_info": {
   "codemirror_mode": {
    "name": "ipython",
    "version": 3
   },
   "file_extension": ".py",
   "mimetype": "text/x-python",
   "name": "python",
   "nbconvert_exporter": "python",
   "pygments_lexer": "ipython3",
   "version": "3.6.15"
  },
  "papermill": {
   "default_parameters": {},
   "duration": 100.059851,
   "end_time": "2022-11-27T00:42:34.144169",
   "environment_variables": {},
   "exception": null,
   "input_path": "2020-08-11-part2.ipynb",
   "output_path": "2020-08-11-part2.ipynb",
   "parameters": {},
   "start_time": "2022-11-27T00:40:54.084318",
   "version": "2.3.3"
  }
 },
 "nbformat": 4,
 "nbformat_minor": 5
}