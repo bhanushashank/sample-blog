{
 "cells": [
  {
   "cell_type": "markdown",
   "id": "98380cd3",
   "metadata": {
    "papermill": {
     "duration": 0.036474,
     "end_time": "2022-04-14T20:11:25.891425",
     "exception": false,
     "start_time": "2022-04-14T20:11:25.854951",
     "status": "completed"
    },
    "tags": []
   },
   "source": [
    "# Distinguish Your Own Digits (DYOD)"
   ]
  },
  {
   "cell_type": "markdown",
   "id": "ef31240d",
   "metadata": {
    "papermill": {
     "duration": 0.037407,
     "end_time": "2022-04-14T20:11:25.960566",
     "exception": false,
     "start_time": "2022-04-14T20:11:25.923159",
     "status": "completed"
    },
    "tags": []
   },
   "source": [
    "You are going to write a classifier that distinguishes between the number 3 and number 8."
   ]
  },
  {
   "cell_type": "code",
   "execution_count": 1,
   "id": "b15c8646",
   "metadata": {
    "execution": {
     "iopub.execute_input": "2022-04-14T20:11:26.050596Z",
     "iopub.status.busy": "2022-04-14T20:11:26.049881Z",
     "iopub.status.idle": "2022-04-14T20:11:26.064485Z",
     "shell.execute_reply": "2022-04-14T20:11:26.065966Z"
    },
    "papermill": {
     "duration": 0.064085,
     "end_time": "2022-04-14T20:11:26.066173",
     "exception": false,
     "start_time": "2022-04-14T20:11:26.002088",
     "status": "completed"
    },
    "tags": []
   },
   "outputs": [],
   "source": [
    "%load_ext autoreload\n",
    "%autoreload 2"
   ]
  },
  {
   "cell_type": "code",
   "execution_count": 2,
   "id": "22ef38dc",
   "metadata": {
    "execution": {
     "iopub.execute_input": "2022-04-14T20:11:26.141619Z",
     "iopub.status.busy": "2022-04-14T20:11:26.140838Z",
     "iopub.status.idle": "2022-04-14T20:11:26.819013Z",
     "shell.execute_reply": "2022-04-14T20:11:26.817956Z"
    },
    "papermill": {
     "duration": 0.720297,
     "end_time": "2022-04-14T20:11:26.819170",
     "exception": false,
     "start_time": "2022-04-14T20:11:26.098873",
     "status": "completed"
    },
    "tags": []
   },
   "outputs": [],
   "source": [
    "%matplotlib inline\n",
    "import numpy as np\n",
    "import matplotlib.pyplot as plt\n",
    "import pandas as pd"
   ]
  },
  {
   "cell_type": "markdown",
   "id": "ba036198",
   "metadata": {
    "papermill": {
     "duration": 0.032706,
     "end_time": "2022-04-14T20:11:26.883579",
     "exception": false,
     "start_time": "2022-04-14T20:11:26.850873",
     "status": "completed"
    },
    "tags": []
   },
   "source": [
    "From the command line run `pip install mnist`. This is a library that will help you bring down the mnist dataset. If you run this from a notebook, you need to put  `!pip install mnist` in a cell by itself."
   ]
  },
  {
   "cell_type": "code",
   "execution_count": 3,
   "id": "bb6ad8a1",
   "metadata": {
    "execution": {
     "iopub.execute_input": "2022-04-14T20:11:26.950394Z",
     "iopub.status.busy": "2022-04-14T20:11:26.949716Z",
     "iopub.status.idle": "2022-04-14T20:11:29.079710Z",
     "shell.execute_reply": "2022-04-14T20:11:29.079123Z"
    },
    "papermill": {
     "duration": 2.165762,
     "end_time": "2022-04-14T20:11:29.079922",
     "exception": false,
     "start_time": "2022-04-14T20:11:26.914160",
     "status": "completed"
    },
    "tags": []
   },
   "outputs": [
    {
     "name": "stdout",
     "output_type": "stream",
     "text": [
      "Collecting mnist\r\n"
     ]
    },
    {
     "name": "stdout",
     "output_type": "stream",
     "text": [
      "  Downloading mnist-0.2.2-py2.py3-none-any.whl (3.5 kB)\r\n",
      "Requirement already satisfied: numpy in /opt/hostedtoolcache/Python/3.6.15/x64/lib/python3.6/site-packages (from mnist) (1.19.5)\r\n"
     ]
    },
    {
     "name": "stdout",
     "output_type": "stream",
     "text": [
      "Installing collected packages: mnist\r\n"
     ]
    },
    {
     "name": "stdout",
     "output_type": "stream",
     "text": [
      "Successfully installed mnist-0.2.2\r\n"
     ]
    }
   ],
   "source": [
    "!pip install mnist"
   ]
  },
  {
   "cell_type": "markdown",
   "id": "69df9c9a",
   "metadata": {
    "papermill": {
     "duration": 0.035426,
     "end_time": "2022-04-14T20:11:29.150596",
     "exception": false,
     "start_time": "2022-04-14T20:11:29.115170",
     "status": "completed"
    },
    "tags": []
   },
   "source": [
    "## Preparing the Data"
   ]
  },
  {
   "cell_type": "code",
   "execution_count": 4,
   "id": "7f69d806",
   "metadata": {
    "execution": {
     "iopub.execute_input": "2022-04-14T20:11:29.229077Z",
     "iopub.status.busy": "2022-04-14T20:11:29.220980Z",
     "iopub.status.idle": "2022-04-14T20:11:29.240289Z",
     "shell.execute_reply": "2022-04-14T20:11:29.239638Z"
    },
    "papermill": {
     "duration": 0.057287,
     "end_time": "2022-04-14T20:11:29.240436",
     "exception": false,
     "start_time": "2022-04-14T20:11:29.183149",
     "status": "completed"
    },
    "tags": []
   },
   "outputs": [],
   "source": [
    "import mnist"
   ]
  },
  {
   "cell_type": "code",
   "execution_count": 5,
   "id": "a411e44f",
   "metadata": {
    "execution": {
     "iopub.execute_input": "2022-04-14T20:11:29.313725Z",
     "iopub.status.busy": "2022-04-14T20:11:29.313017Z",
     "iopub.status.idle": "2022-04-14T20:11:29.908470Z",
     "shell.execute_reply": "2022-04-14T20:11:29.907825Z"
    },
    "papermill": {
     "duration": 0.633105,
     "end_time": "2022-04-14T20:11:29.908624",
     "exception": false,
     "start_time": "2022-04-14T20:11:29.275519",
     "status": "completed"
    },
    "tags": []
   },
   "outputs": [],
   "source": [
    "train_images = mnist.train_images()\n",
    "train_labels = mnist.train_labels()"
   ]
  },
  {
   "cell_type": "code",
   "execution_count": 6,
   "id": "dceab3a5",
   "metadata": {
    "execution": {
     "iopub.execute_input": "2022-04-14T20:11:29.980502Z",
     "iopub.status.busy": "2022-04-14T20:11:29.979692Z",
     "iopub.status.idle": "2022-04-14T20:11:30.000672Z",
     "shell.execute_reply": "2022-04-14T20:11:30.001204Z"
    },
    "papermill": {
     "duration": 0.059003,
     "end_time": "2022-04-14T20:11:30.001366",
     "exception": false,
     "start_time": "2022-04-14T20:11:29.942363",
     "status": "completed"
    },
    "tags": []
   },
   "outputs": [
    {
     "data": {
      "text/plain": [
       "((60000, 28, 28), (60000,))"
      ]
     },
     "execution_count": 6,
     "metadata": {},
     "output_type": "execute_result"
    }
   ],
   "source": [
    "train_images.shape, train_labels.shape"
   ]
  },
  {
   "cell_type": "code",
   "execution_count": 7,
   "id": "f50dc2bb",
   "metadata": {
    "execution": {
     "iopub.execute_input": "2022-04-14T20:11:30.078698Z",
     "iopub.status.busy": "2022-04-14T20:11:30.078021Z",
     "iopub.status.idle": "2022-04-14T20:11:30.271045Z",
     "shell.execute_reply": "2022-04-14T20:11:30.271585Z"
    },
    "papermill": {
     "duration": 0.234167,
     "end_time": "2022-04-14T20:11:30.271825",
     "exception": false,
     "start_time": "2022-04-14T20:11:30.037658",
     "status": "completed"
    },
    "tags": []
   },
   "outputs": [],
   "source": [
    "test_images = mnist.test_images()\n",
    "test_labels = mnist.test_labels()"
   ]
  },
  {
   "cell_type": "code",
   "execution_count": 8,
   "id": "fc38cf1b",
   "metadata": {
    "execution": {
     "iopub.execute_input": "2022-04-14T20:11:30.363149Z",
     "iopub.status.busy": "2022-04-14T20:11:30.362444Z",
     "iopub.status.idle": "2022-04-14T20:11:30.378337Z",
     "shell.execute_reply": "2022-04-14T20:11:30.377612Z"
    },
    "papermill": {
     "duration": 0.065188,
     "end_time": "2022-04-14T20:11:30.378479",
     "exception": false,
     "start_time": "2022-04-14T20:11:30.313291",
     "status": "completed"
    },
    "tags": []
   },
   "outputs": [
    {
     "data": {
      "text/plain": [
       "((10000, 28, 28), (10000,))"
      ]
     },
     "execution_count": 8,
     "metadata": {},
     "output_type": "execute_result"
    }
   ],
   "source": [
    "test_images.shape, test_labels.shape"
   ]
  },
  {
   "cell_type": "code",
   "execution_count": 9,
   "id": "f9ed8fe0",
   "metadata": {
    "execution": {
     "iopub.execute_input": "2022-04-14T20:11:30.467247Z",
     "iopub.status.busy": "2022-04-14T20:11:30.466545Z",
     "iopub.status.idle": "2022-04-14T20:11:30.657737Z",
     "shell.execute_reply": "2022-04-14T20:11:30.657143Z"
    },
    "papermill": {
     "duration": 0.238727,
     "end_time": "2022-04-14T20:11:30.657889",
     "exception": false,
     "start_time": "2022-04-14T20:11:30.419162",
     "status": "completed"
    },
    "tags": []
   },
   "outputs": [
    {
     "name": "stdout",
     "output_type": "stream",
     "text": [
      "2\n"
     ]
    },
    {
     "data": {
      "text/plain": [
       "<matplotlib.image.AxesImage at 0x7fadd4c69358>"
      ]
     },
     "execution_count": 9,
     "metadata": {},
     "output_type": "execute_result"
    },
    {
     "data": {
      "image/png": "[encoded data removed]",
      "text/plain": [
       "<Figure size 432x288 with 1 Axes>"
      ]
     },
     "metadata": {
      "needs_background": "light"
     },
     "output_type": "display_data"
    }
   ],
   "source": [
    "image_index = 7776 # You may select anything up to 60,000\n",
    "print(train_labels[image_index]) \n",
    "plt.imshow(train_images[image_index], cmap='Greys')"
   ]
  },
  {
   "cell_type": "markdown",
   "id": "a8d2388d",
   "metadata": {
    "papermill": {
     "duration": 0.035533,
     "end_time": "2022-04-14T20:11:30.728681",
     "exception": false,
     "start_time": "2022-04-14T20:11:30.693148",
     "status": "completed"
    },
    "tags": []
   },
   "source": [
    "## Filter data to get 3 and 8 out"
   ]
  },
  {
   "cell_type": "code",
   "execution_count": 10,
   "id": "776f7fc7",
   "metadata": {
    "execution": {
     "iopub.execute_input": "2022-04-14T20:11:30.813483Z",
     "iopub.status.busy": "2022-04-14T20:11:30.807702Z",
     "iopub.status.idle": "2022-04-14T20:11:30.833720Z",
     "shell.execute_reply": "2022-04-14T20:11:30.834259Z"
    },
    "papermill": {
     "duration": 0.065368,
     "end_time": "2022-04-14T20:11:30.834440",
     "exception": false,
     "start_time": "2022-04-14T20:11:30.769072",
     "status": "completed"
    },
    "tags": []
   },
   "outputs": [],
   "source": [
    "train_filter = np.where((train_labels == 3 ) | (train_labels == 8))\n",
    "test_filter = np.where((test_labels == 3) | (test_labels == 8))\n",
    "X_train, y_train = train_images[train_filter], train_labels[train_filter]\n",
    "X_test, y_test = test_images[test_filter], test_labels[test_filter]"
   ]
  },
  {
   "cell_type": "markdown",
   "id": "948f0b7e",
   "metadata": {
    "papermill": {
     "duration": 0.035175,
     "end_time": "2022-04-14T20:11:30.906719",
     "exception": false,
     "start_time": "2022-04-14T20:11:30.871544",
     "status": "completed"
    },
    "tags": []
   },
   "source": [
    "We normalize the pizel values in the 0 to 1 range"
   ]
  },
  {
   "cell_type": "code",
   "execution_count": 11,
   "id": "ee4c2166",
   "metadata": {
    "execution": {
     "iopub.execute_input": "2022-04-14T20:11:30.985158Z",
     "iopub.status.busy": "2022-04-14T20:11:30.984485Z",
     "iopub.status.idle": "2022-04-14T20:11:31.058753Z",
     "shell.execute_reply": "2022-04-14T20:11:31.059323Z"
    },
    "papermill": {
     "duration": 0.117072,
     "end_time": "2022-04-14T20:11:31.059508",
     "exception": false,
     "start_time": "2022-04-14T20:11:30.942436",
     "status": "completed"
    },
    "tags": []
   },
   "outputs": [],
   "source": [
    "X_train = X_train/255.\n",
    "X_test = X_test/255."
   ]
  },
  {
   "cell_type": "markdown",
   "id": "ddcf4fab",
   "metadata": {
    "papermill": {
     "duration": 0.034138,
     "end_time": "2022-04-14T20:11:31.130646",
     "exception": false,
     "start_time": "2022-04-14T20:11:31.096508",
     "status": "completed"
    },
    "tags": []
   },
   "source": [
    "And setup the labels as 1 (when the digit is 3) and 0 (when the digit is 8)"
   ]
  },
  {
   "cell_type": "code",
   "execution_count": 12,
   "id": "7dc908f2",
   "metadata": {
    "execution": {
     "iopub.execute_input": "2022-04-14T20:11:31.210435Z",
     "iopub.status.busy": "2022-04-14T20:11:31.209722Z",
     "iopub.status.idle": "2022-04-14T20:11:31.222568Z",
     "shell.execute_reply": "2022-04-14T20:11:31.221965Z"
    },
    "papermill": {
     "duration": 0.056963,
     "end_time": "2022-04-14T20:11:31.222698",
     "exception": false,
     "start_time": "2022-04-14T20:11:31.165735",
     "status": "completed"
    },
    "tags": []
   },
   "outputs": [],
   "source": [
    "y_train = 1*(y_train==3)\n",
    "y_test = 1*(y_test==3)"
   ]
  },
  {
   "cell_type": "code",
   "execution_count": 13,
   "id": "01e4e969",
   "metadata": {
    "execution": {
     "iopub.execute_input": "2022-04-14T20:11:31.297182Z",
     "iopub.status.busy": "2022-04-14T20:11:31.296505Z",
     "iopub.status.idle": "2022-04-14T20:11:31.312868Z",
     "shell.execute_reply": "2022-04-14T20:11:31.313518Z"
    },
    "papermill": {
     "duration": 0.05517,
     "end_time": "2022-04-14T20:11:31.313686",
     "exception": false,
     "start_time": "2022-04-14T20:11:31.258516",
     "status": "completed"
    },
    "tags": []
   },
   "outputs": [
    {
     "data": {
      "text/plain": [
       "((11982, 28, 28), (1984, 28, 28))"
      ]
     },
     "execution_count": 13,
     "metadata": {},
     "output_type": "execute_result"
    }
   ],
   "source": [
    "X_train.shape, X_test.shape"
   ]
  },
  {
   "cell_type": "markdown",
   "id": "5ccf3f85",
   "metadata": {
    "papermill": {
     "duration": 0.034888,
     "end_time": "2022-04-14T20:11:31.384278",
     "exception": false,
     "start_time": "2022-04-14T20:11:31.349390",
     "status": "completed"
    },
    "tags": []
   },
   "source": [
    "We reshape the data to flatten the image pixels into a set of features or co-variates:"
   ]
  },
  {
   "cell_type": "code",
   "execution_count": 14,
   "id": "5286a4a3",
   "metadata": {
    "execution": {
     "iopub.execute_input": "2022-04-14T20:11:31.464258Z",
     "iopub.status.busy": "2022-04-14T20:11:31.463513Z",
     "iopub.status.idle": "2022-04-14T20:11:31.479676Z",
     "shell.execute_reply": "2022-04-14T20:11:31.480369Z"
    },
    "papermill": {
     "duration": 0.061877,
     "end_time": "2022-04-14T20:11:31.480532",
     "exception": false,
     "start_time": "2022-04-14T20:11:31.418655",
     "status": "completed"
    },
    "tags": []
   },
   "outputs": [
    {
     "data": {
      "text/plain": [
       "((11982, 784), (1984, 784))"
      ]
     },
     "execution_count": 14,
     "metadata": {},
     "output_type": "execute_result"
    }
   ],
   "source": [
    "X_train = X_train.reshape(X_train.shape[0], -1)\n",
    "X_test = X_test.reshape(X_test.shape[0], -1)\n",
    "X_train.shape, X_test.shape"
   ]
  },
  {
   "cell_type": "code",
   "execution_count": 15,
   "id": "73c5f88a",
   "metadata": {
    "execution": {
     "iopub.execute_input": "2022-04-14T20:11:31.556201Z",
     "iopub.status.busy": "2022-04-14T20:11:31.555485Z",
     "iopub.status.idle": "2022-04-14T20:11:31.579110Z",
     "shell.execute_reply": "2022-04-14T20:11:31.579705Z"
    },
    "papermill": {
     "duration": 0.063828,
     "end_time": "2022-04-14T20:11:31.579898",
     "exception": false,
     "start_time": "2022-04-14T20:11:31.516070",
     "status": "completed"
    },
    "tags": []
   },
   "outputs": [],
   "source": [
    "#Impoting functions from 'Kudzu'\n",
    "from kudzu.model import Model\n",
    "from kudzu.train import Learner\n",
    "from kudzu.optim import GD\n",
    "from kudzu.data import Data, Sampler,Dataloader\n",
    "\n",
    "from kudzu.callbacks import AccCallback\n",
    "from kudzu.callbacks import ClfCallback\n",
    "\n",
    "from kudzu.loss import MSE\n",
    "\n",
    "from kudzu.layer import Sigmoid,Relu\n",
    "from kudzu.layer import Affine"
   ]
  },
  {
   "cell_type": "markdown",
   "id": "bc01172a",
   "metadata": {
    "papermill": {
     "duration": 0.036257,
     "end_time": "2022-04-14T20:11:31.652265",
     "exception": false,
     "start_time": "2022-04-14T20:11:31.616008",
     "status": "completed"
    },
    "tags": []
   },
   "source": [
    "### Let us create a `Config` class, to store important parameters. \n",
    "This class essentially plays the role of a dictionary."
   ]
  },
  {
   "cell_type": "code",
   "execution_count": 16,
   "id": "978281aa",
   "metadata": {
    "execution": {
     "iopub.execute_input": "2022-04-14T20:11:31.731283Z",
     "iopub.status.busy": "2022-04-14T20:11:31.730599Z",
     "iopub.status.idle": "2022-04-14T20:11:31.757182Z",
     "shell.execute_reply": "2022-04-14T20:11:31.756362Z"
    },
    "papermill": {
     "duration": 0.065836,
     "end_time": "2022-04-14T20:11:31.757379",
     "exception": false,
     "start_time": "2022-04-14T20:11:31.691543",
     "status": "completed"
    },
    "tags": []
   },
   "outputs": [],
   "source": [
    "class Config:\n",
    "    pass\n",
    "config = Config()\n",
    "config.lr = 0.001\n",
    "config.num_epochs = 250\n",
    "config.bs = 50"
   ]
  },
  {
   "cell_type": "markdown",
   "id": "1385fa59",
   "metadata": {
    "papermill": {
     "duration": 0.035397,
     "end_time": "2022-04-14T20:11:31.830069",
     "exception": false,
     "start_time": "2022-04-14T20:11:31.794672",
     "status": "completed"
    },
    "tags": []
   },
   "source": [
    "### Running Models with the Training data\n",
    "Details about the network layers:\n",
    "- A first affine layer has 784 inputs and does 100 affine transforms. These are followed by a Relu\n",
    "- A second affine layer has 100 inputs from the 100 activations of the past layer, and does 100 affine transforms. These are followed by a Relu\n",
    "- A third affine layer has 100 activations and does 2 affine transformations to create an embedding for visualization. There is no non-linearity here.\n",
    "- A final \"logistic regression\" which has an affine transform from 2 inputs to 1 output, which is squeezed through a sigmoid.\n"
   ]
  },
  {
   "cell_type": "code",
   "execution_count": 17,
   "id": "2b9c66db",
   "metadata": {
    "execution": {
     "iopub.execute_input": "2022-04-14T20:11:31.905812Z",
     "iopub.status.busy": "2022-04-14T20:11:31.905134Z",
     "iopub.status.idle": "2022-04-14T20:11:31.919702Z",
     "shell.execute_reply": "2022-04-14T20:11:31.920382Z"
    },
    "papermill": {
     "duration": 0.055234,
     "end_time": "2022-04-14T20:11:31.920522",
     "exception": false,
     "start_time": "2022-04-14T20:11:31.865288",
     "status": "completed"
    },
    "tags": []
   },
   "outputs": [],
   "source": [
    "data = Data(X_train, y_train.reshape(-1,1))\n",
    "sampler = Sampler(data, config.bs, shuffle=True)\n",
    "\n",
    "dl = Dataloader(data, sampler)\n",
    "\n",
    "opt = GD(config.lr)\n",
    "loss = MSE()"
   ]
  },
  {
   "cell_type": "code",
   "execution_count": 18,
   "id": "b275e4c2",
   "metadata": {
    "execution": {
     "iopub.execute_input": "2022-04-14T20:11:31.996016Z",
     "iopub.status.busy": "2022-04-14T20:11:31.995206Z",
     "iopub.status.idle": "2022-04-14T20:11:32.008975Z",
     "shell.execute_reply": "2022-04-14T20:11:32.009548Z"
    },
    "papermill": {
     "duration": 0.053629,
     "end_time": "2022-04-14T20:11:32.009722",
     "exception": false,
     "start_time": "2022-04-14T20:11:31.956093",
     "status": "completed"
    },
    "tags": []
   },
   "outputs": [],
   "source": [
    "training_data_x = X_train\n",
    "testing_data_x = X_test\n",
    "training_data_y = y_train.reshape(-1,1)\n",
    "testing_data_y = y_test.reshape(-1,1)"
   ]
  },
  {
   "cell_type": "code",
   "execution_count": 19,
   "id": "76951160",
   "metadata": {
    "execution": {
     "iopub.execute_input": "2022-04-14T20:11:32.086851Z",
     "iopub.status.busy": "2022-04-14T20:11:32.086060Z",
     "iopub.status.idle": "2022-04-14T20:11:32.108804Z",
     "shell.execute_reply": "2022-04-14T20:11:32.107840Z"
    },
    "papermill": {
     "duration": 0.063922,
     "end_time": "2022-04-14T20:11:32.108941",
     "exception": false,
     "start_time": "2022-04-14T20:11:32.045019",
     "status": "completed"
    },
    "tags": []
   },
   "outputs": [
    {
     "name": "stdout",
     "output_type": "stream",
     "text": [
      "xavier\n",
      "xavier\n",
      "xavier\n",
      "xavier\n",
      "xavier\n"
     ]
    }
   ],
   "source": [
    "layers = [Affine(\"first\", 784, 100), Relu(\"first\"), Affine(\"second\", 100, 100), Relu(\"second\"), Affine(\"third\", 100, 2), Affine(\"last\", 2, 1), Sigmoid(\"last\")]\n",
    "model_nn = Model(layers)\n",
    "model_lr = Model([Affine(\"logits\", 784, 1), Sigmoid(\"sigmoid\")])"
   ]
  },
  {
   "cell_type": "code",
   "execution_count": 20,
   "id": "6eede77a",
   "metadata": {
    "execution": {
     "iopub.execute_input": "2022-04-14T20:11:32.186620Z",
     "iopub.status.busy": "2022-04-14T20:11:32.185915Z",
     "iopub.status.idle": "2022-04-14T20:11:32.204474Z",
     "shell.execute_reply": "2022-04-14T20:11:32.203483Z"
    },
    "papermill": {
     "duration": 0.05925,
     "end_time": "2022-04-14T20:11:32.204638",
     "exception": false,
     "start_time": "2022-04-14T20:11:32.145388",
     "status": "completed"
    },
    "tags": []
   },
   "outputs": [],
   "source": [
    "nn_learner = Learner(loss, model_nn, opt, config.num_epochs)\n",
    "acc_nn = ClfCallback(nn_learner, config.bs, training_data_x , testing_data_x, training_data_y, testing_data_y)\n",
    "nn_learner.set_callbacks([acc_nn])"
   ]
  },
  {
   "cell_type": "code",
   "execution_count": 21,
   "id": "877b6cc7",
   "metadata": {
    "execution": {
     "iopub.execute_input": "2022-04-14T20:11:32.313588Z",
     "iopub.status.busy": "2022-04-14T20:11:32.312887Z",
     "iopub.status.idle": "2022-04-14T20:11:32.332414Z",
     "shell.execute_reply": "2022-04-14T20:11:32.331830Z"
    },
    "papermill": {
     "duration": 0.075861,
     "end_time": "2022-04-14T20:11:32.332569",
     "exception": false,
     "start_time": "2022-04-14T20:11:32.256708",
     "status": "completed"
    },
    "tags": []
   },
   "outputs": [],
   "source": [
    "lr_learner = Learner(loss, model_lr, opt, config.num_epochs)\n",
    "acc_lr = ClfCallback(lr_learner, config.bs, training_data_x , testing_data_x, training_data_y, testing_data_y)\n",
    "lr_learner.set_callbacks([acc_lr])"
   ]
  },
  {
   "cell_type": "code",
   "execution_count": 22,
   "id": "d9b133c3",
   "metadata": {
    "execution": {
     "iopub.execute_input": "2022-04-14T20:11:32.415619Z",
     "iopub.status.busy": "2022-04-14T20:11:32.414804Z",
     "iopub.status.idle": "2022-04-14T20:13:45.768605Z",
     "shell.execute_reply": "2022-04-14T20:13:45.769153Z"
    },
    "papermill": {
     "duration": 133.393276,
     "end_time": "2022-04-14T20:13:45.769329",
     "exception": false,
     "start_time": "2022-04-14T20:11:32.376053",
     "status": "completed"
    },
    "tags": []
   },
   "outputs": [
    {
     "name": "stdout",
     "output_type": "stream",
     "text": [
      "Epoch 0, Loss 0.2612\n",
      "Training Accuracy: 0.6486, Testing Accuracy: 0.6376\n",
      "\n"
     ]
    },
    {
     "name": "stdout",
     "output_type": "stream",
     "text": [
      "Epoch 10, Loss 0.0629\n",
      "Training Accuracy: 0.9379, Testing Accuracy: 0.9420\n",
      "\n"
     ]
    },
    {
     "name": "stdout",
     "output_type": "stream",
     "text": [
      "Epoch 20, Loss 0.0423\n",
      "Training Accuracy: 0.9547, Testing Accuracy: 0.9612\n",
      "\n"
     ]
    },
    {
     "name": "stdout",
     "output_type": "stream",
     "text": [
      "Epoch 30, Loss 0.035\n",
      "Training Accuracy: 0.9609, Testing Accuracy: 0.9672\n",
      "\n"
     ]
    },
    {
     "name": "stdout",
     "output_type": "stream",
     "text": [
      "Epoch 40, Loss 0.0311\n",
      "Training Accuracy: 0.9661, Testing Accuracy: 0.9693\n",
      "\n"
     ]
    },
    {
     "name": "stdout",
     "output_type": "stream",
     "text": [
      "Epoch 50, Loss 0.0286\n",
      "Training Accuracy: 0.9686, Testing Accuracy: 0.9693\n",
      "\n"
     ]
    },
    {
     "name": "stdout",
     "output_type": "stream",
     "text": [
      "Epoch 60, Loss 0.0267\n",
      "Training Accuracy: 0.9702, Testing Accuracy: 0.9703\n",
      "\n"
     ]
    },
    {
     "name": "stdout",
     "output_type": "stream",
     "text": [
      "Epoch 70, Loss 0.0252\n",
      "Training Accuracy: 0.9718, Testing Accuracy: 0.9733\n",
      "\n"
     ]
    },
    {
     "name": "stdout",
     "output_type": "stream",
     "text": [
      "Epoch 80, Loss 0.0239\n",
      "Training Accuracy: 0.9730, Testing Accuracy: 0.9728\n",
      "\n"
     ]
    },
    {
     "name": "stdout",
     "output_type": "stream",
     "text": [
      "Epoch 90, Loss 0.0229\n",
      "Training Accuracy: 0.9743, Testing Accuracy: 0.9738\n",
      "\n"
     ]
    },
    {
     "name": "stdout",
     "output_type": "stream",
     "text": [
      "Epoch 100, Loss 0.022\n",
      "Training Accuracy: 0.9755, Testing Accuracy: 0.9748\n",
      "\n"
     ]
    },
    {
     "name": "stdout",
     "output_type": "stream",
     "text": [
      "Epoch 110, Loss 0.0212\n",
      "Training Accuracy: 0.9762, Testing Accuracy: 0.9748\n",
      "\n"
     ]
    },
    {
     "name": "stdout",
     "output_type": "stream",
     "text": [
      "Epoch 120, Loss 0.0204\n",
      "Training Accuracy: 0.9770, Testing Accuracy: 0.9743\n",
      "\n"
     ]
    },
    {
     "name": "stdout",
     "output_type": "stream",
     "text": [
      "Epoch 130, Loss 0.0198\n",
      "Training Accuracy: 0.9780, Testing Accuracy: 0.9743\n",
      "\n"
     ]
    },
    {
     "name": "stdout",
     "output_type": "stream",
     "text": [
      "Epoch 140, Loss 0.0191\n",
      "Training Accuracy: 0.9791, Testing Accuracy: 0.9748\n",
      "\n"
     ]
    },
    {
     "name": "stdout",
     "output_type": "stream",
     "text": [
      "Epoch 150, Loss 0.0185\n",
      "Training Accuracy: 0.9796, Testing Accuracy: 0.9753\n",
      "\n"
     ]
    },
    {
     "name": "stdout",
     "output_type": "stream",
     "text": [
      "Epoch 160, Loss 0.018\n",
      "Training Accuracy: 0.9801, Testing Accuracy: 0.9753\n",
      "\n"
     ]
    },
    {
     "name": "stdout",
     "output_type": "stream",
     "text": [
      "Epoch 170, Loss 0.0175\n",
      "Training Accuracy: 0.9806, Testing Accuracy: 0.9763\n",
      "\n"
     ]
    },
    {
     "name": "stdout",
     "output_type": "stream",
     "text": [
      "Epoch 180, Loss 0.017\n",
      "Training Accuracy: 0.9812, Testing Accuracy: 0.9768\n",
      "\n"
     ]
    },
    {
     "name": "stdout",
     "output_type": "stream",
     "text": [
      "Epoch 190, Loss 0.0165\n",
      "Training Accuracy: 0.9819, Testing Accuracy: 0.9778\n",
      "\n"
     ]
    },
    {
     "name": "stdout",
     "output_type": "stream",
     "text": [
      "Epoch 200, Loss 0.0161\n",
      "Training Accuracy: 0.9826, Testing Accuracy: 0.9778\n",
      "\n"
     ]
    },
    {
     "name": "stdout",
     "output_type": "stream",
     "text": [
      "Epoch 210, Loss 0.0156\n",
      "Training Accuracy: 0.9830, Testing Accuracy: 0.9783\n",
      "\n"
     ]
    },
    {
     "name": "stdout",
     "output_type": "stream",
     "text": [
      "Epoch 220, Loss 0.0152\n",
      "Training Accuracy: 0.9836, Testing Accuracy: 0.9793\n",
      "\n"
     ]
    },
    {
     "name": "stdout",
     "output_type": "stream",
     "text": [
      "Epoch 230, Loss 0.0148\n",
      "Training Accuracy: 0.9843, Testing Accuracy: 0.9798\n",
      "\n"
     ]
    },
    {
     "name": "stdout",
     "output_type": "stream",
     "text": [
      "Epoch 240, Loss 0.0144\n",
      "Training Accuracy: 0.9846, Testing Accuracy: 0.9798\n",
      "\n"
     ]
    },
    {
     "data": {
      "text/plain": [
       "0.007377867231072791"
      ]
     },
     "execution_count": 22,
     "metadata": {},
     "output_type": "execute_result"
    }
   ],
   "source": [
    "nn_learner.train_loop(dl)"
   ]
  },
  {
   "cell_type": "code",
   "execution_count": 23,
   "id": "e0163366",
   "metadata": {
    "execution": {
     "iopub.execute_input": "2022-04-14T20:13:45.861562Z",
     "iopub.status.busy": "2022-04-14T20:13:45.860887Z",
     "iopub.status.idle": "2022-04-14T20:14:05.332244Z",
     "shell.execute_reply": "2022-04-14T20:14:05.333127Z"
    },
    "papermill": {
     "duration": 19.520775,
     "end_time": "2022-04-14T20:14:05.333301",
     "exception": false,
     "start_time": "2022-04-14T20:13:45.812526",
     "status": "completed"
    },
    "tags": []
   },
   "outputs": [
    {
     "name": "stdout",
     "output_type": "stream",
     "text": [
      "Epoch 0, Loss 0.2291\n",
      "Training Accuracy: 0.7201, Testing Accuracy: 0.7359\n",
      "\n"
     ]
    },
    {
     "name": "stdout",
     "output_type": "stream",
     "text": [
      "Epoch 10, Loss 0.1055\n",
      "Training Accuracy: 0.8977, Testing Accuracy: 0.9078\n",
      "\n"
     ]
    },
    {
     "name": "stdout",
     "output_type": "stream",
     "text": [
      "Epoch 20, Loss 0.0813\n",
      "Training Accuracy: 0.9212, Testing Accuracy: 0.9294\n",
      "\n"
     ]
    },
    {
     "name": "stdout",
     "output_type": "stream",
     "text": [
      "Epoch 30, Loss 0.0699\n",
      "Training Accuracy: 0.9300, Testing Accuracy: 0.9410\n",
      "\n"
     ]
    },
    {
     "name": "stdout",
     "output_type": "stream",
     "text": [
      "Epoch 40, Loss 0.063\n",
      "Training Accuracy: 0.9371, Testing Accuracy: 0.9466\n",
      "\n"
     ]
    },
    {
     "name": "stdout",
     "output_type": "stream",
     "text": [
      "Epoch 50, Loss 0.0583\n",
      "Training Accuracy: 0.9404, Testing Accuracy: 0.9521\n",
      "\n"
     ]
    },
    {
     "name": "stdout",
     "output_type": "stream",
     "text": [
      "Epoch 60, Loss 0.0548\n",
      "Training Accuracy: 0.9437, Testing Accuracy: 0.9561\n",
      "\n"
     ]
    },
    {
     "name": "stdout",
     "output_type": "stream",
     "text": [
      "Epoch 70, Loss 0.0521\n",
      "Training Accuracy: 0.9464, Testing Accuracy: 0.9577\n",
      "\n"
     ]
    },
    {
     "name": "stdout",
     "output_type": "stream",
     "text": [
      "Epoch 80, Loss 0.05\n",
      "Training Accuracy: 0.9491, Testing Accuracy: 0.9556\n",
      "\n"
     ]
    },
    {
     "name": "stdout",
     "output_type": "stream",
     "text": [
      "Epoch 90, Loss 0.0482\n",
      "Training Accuracy: 0.9503, Testing Accuracy: 0.9582\n",
      "\n"
     ]
    },
    {
     "name": "stdout",
     "output_type": "stream",
     "text": [
      "Epoch 100, Loss 0.0467\n",
      "Training Accuracy: 0.9520, Testing Accuracy: 0.9602\n",
      "\n"
     ]
    },
    {
     "name": "stdout",
     "output_type": "stream",
     "text": [
      "Epoch 110, Loss 0.0455\n",
      "Training Accuracy: 0.9529, Testing Accuracy: 0.9617\n",
      "\n"
     ]
    },
    {
     "name": "stdout",
     "output_type": "stream",
     "text": [
      "Epoch 120, Loss 0.0444\n",
      "Training Accuracy: 0.9539, Testing Accuracy: 0.9622\n",
      "\n"
     ]
    },
    {
     "name": "stdout",
     "output_type": "stream",
     "text": [
      "Epoch 130, Loss 0.0434\n",
      "Training Accuracy: 0.9545, Testing Accuracy: 0.9622\n",
      "\n"
     ]
    },
    {
     "name": "stdout",
     "output_type": "stream",
     "text": [
      "Epoch 140, Loss 0.0425\n",
      "Training Accuracy: 0.9553, Testing Accuracy: 0.9617\n",
      "\n"
     ]
    },
    {
     "name": "stdout",
     "output_type": "stream",
     "text": [
      "Epoch 150, Loss 0.0417\n",
      "Training Accuracy: 0.9562, Testing Accuracy: 0.9617\n",
      "\n"
     ]
    },
    {
     "name": "stdout",
     "output_type": "stream",
     "text": [
      "Epoch 160, Loss 0.041\n",
      "Training Accuracy: 0.9567, Testing Accuracy: 0.9622\n",
      "\n"
     ]
    },
    {
     "name": "stdout",
     "output_type": "stream",
     "text": [
      "Epoch 170, Loss 0.0404\n",
      "Training Accuracy: 0.9571, Testing Accuracy: 0.9632\n",
      "\n"
     ]
    },
    {
     "name": "stdout",
     "output_type": "stream",
     "text": [
      "Epoch 180, Loss 0.0398\n",
      "Training Accuracy: 0.9575, Testing Accuracy: 0.9632\n",
      "\n"
     ]
    },
    {
     "name": "stdout",
     "output_type": "stream",
     "text": [
      "Epoch 190, Loss 0.0393\n",
      "Training Accuracy: 0.9579, Testing Accuracy: 0.9642\n",
      "\n"
     ]
    },
    {
     "name": "stdout",
     "output_type": "stream",
     "text": [
      "Epoch 200, Loss 0.0388\n",
      "Training Accuracy: 0.9589, Testing Accuracy: 0.9642\n",
      "\n"
     ]
    },
    {
     "name": "stdout",
     "output_type": "stream",
     "text": [
      "Epoch 210, Loss 0.0383\n",
      "Training Accuracy: 0.9592, Testing Accuracy: 0.9642\n",
      "\n"
     ]
    },
    {
     "name": "stdout",
     "output_type": "stream",
     "text": [
      "Epoch 220, Loss 0.0379\n",
      "Training Accuracy: 0.9595, Testing Accuracy: 0.9647\n",
      "\n"
     ]
    },
    {
     "name": "stdout",
     "output_type": "stream",
     "text": [
      "Epoch 230, Loss 0.0375\n",
      "Training Accuracy: 0.9599, Testing Accuracy: 0.9662\n",
      "\n"
     ]
    },
    {
     "name": "stdout",
     "output_type": "stream",
     "text": [
      "Epoch 240, Loss 0.0371\n",
      "Training Accuracy: 0.9602, Testing Accuracy: 0.9657\n",
      "\n"
     ]
    },
    {
     "data": {
      "text/plain": [
       "0.0490759921202515"
      ]
     },
     "execution_count": 23,
     "metadata": {},
     "output_type": "execute_result"
    }
   ],
   "source": [
    "lr_learner.train_loop(dl)"
   ]
  },
  {
   "cell_type": "code",
   "execution_count": 24,
   "id": "ca410940",
   "metadata": {
    "execution": {
     "iopub.execute_input": "2022-04-14T20:14:05.450622Z",
     "iopub.status.busy": "2022-04-14T20:14:05.449194Z",
     "iopub.status.idle": "2022-04-14T20:14:05.786742Z",
     "shell.execute_reply": "2022-04-14T20:14:05.787419Z"
    },
    "papermill": {
     "duration": 0.400038,
     "end_time": "2022-04-14T20:14:05.787595",
     "exception": false,
     "start_time": "2022-04-14T20:14:05.387557",
     "status": "completed"
    },
    "tags": []
   },
   "outputs": [
    {
     "data": {
      "text/plain": [
       "<matplotlib.legend.Legend at 0x7fadd4848b00>"
      ]
     },
     "execution_count": 24,
     "metadata": {},
     "output_type": "execute_result"
    },
    {
     "data": {
      "image/png": "[encoded data removed]",
      "text/plain": [
       "<Figure size 1080x720 with 1 Axes>"
      ]
     },
     "metadata": {
      "needs_background": "light"
     },
     "output_type": "display_data"
    }
   ],
   "source": [
    "#comparing the results of NN and LR\n",
    "plt.figure(figsize=(15,10))\n",
    "\n",
    "# Neural Network plots\n",
    "plt.plot(acc_nn.accuracies, 'r-', label = \"Training Accuracies - NN\")\n",
    "plt.plot(acc_nn.test_accuracies, 'g-', label = \"Testing Accuracies - NN\")\n",
    "\n",
    "# Logistic Regression plots\n",
    "plt.plot(acc_lr.accuracies, 'k-', label = \"Training Accuracies - LR\")\n",
    "plt.plot(acc_lr.test_accuracies, 'b-', label = \"Testing Accuracies - LR\")\n",
    "plt.legend()"
   ]
  },
  {
   "cell_type": "markdown",
   "id": "80dfb35c",
   "metadata": {
    "papermill": {
     "duration": 0.054786,
     "end_time": "2022-04-14T20:14:05.898800",
     "exception": false,
     "start_time": "2022-04-14T20:14:05.844014",
     "status": "completed"
    },
    "tags": []
   },
   "source": [
    "#### Plotting the outputs of this layer of the NN.\n"
   ]
  },
  {
   "cell_type": "code",
   "execution_count": 25,
   "id": "45eb2ff5",
   "metadata": {
    "execution": {
     "iopub.execute_input": "2022-04-14T20:14:06.015323Z",
     "iopub.status.busy": "2022-04-14T20:14:06.014540Z",
     "iopub.status.idle": "2022-04-14T20:14:06.043189Z",
     "shell.execute_reply": "2022-04-14T20:14:06.043917Z"
    },
    "papermill": {
     "duration": 0.089954,
     "end_time": "2022-04-14T20:14:06.044203",
     "exception": false,
     "start_time": "2022-04-14T20:14:05.954249",
     "status": "completed"
    },
    "tags": []
   },
   "outputs": [],
   "source": [
    "new_model = Model(layers[:-2])\n",
    "testing_plot = new_model(testing_data_x)"
   ]
  },
  {
   "cell_type": "code",
   "execution_count": 26,
   "id": "4c0a5485",
   "metadata": {
    "execution": {
     "iopub.execute_input": "2022-04-14T20:14:06.167294Z",
     "iopub.status.busy": "2022-04-14T20:14:06.166544Z",
     "iopub.status.idle": "2022-04-14T20:14:06.435200Z",
     "shell.execute_reply": "2022-04-14T20:14:06.434530Z"
    },
    "papermill": {
     "duration": 0.331073,
     "end_time": "2022-04-14T20:14:06.435350",
     "exception": false,
     "start_time": "2022-04-14T20:14:06.104277",
     "status": "completed"
    },
    "tags": []
   },
   "outputs": [
    {
     "data": {
      "text/plain": [
       "Text(0.5, 1.0, 'Outputs')"
      ]
     },
     "execution_count": 26,
     "metadata": {},
     "output_type": "execute_result"
    },
    {
     "data": {
      "image/png": "[encoded data removed]",
      "text/plain": [
       "<Figure size 576x504 with 1 Axes>"
      ]
     },
     "metadata": {
      "needs_background": "light"
     },
     "output_type": "display_data"
    }
   ],
   "source": [
    "# Plotting the scatter plot of points and color coding by class\n",
    "plt.figure(figsize=(8,7))\n",
    "plt.scatter(testing_plot[:,0], testing_plot[:,1], alpha = 0.1, c = y_test.ravel());\n",
    "plt.title('Outputs')"
   ]
  },
  {
   "cell_type": "markdown",
   "id": "a74fcf8f",
   "metadata": {
    "papermill": {
     "duration": 0.062047,
     "end_time": "2022-04-14T20:14:06.555040",
     "exception": false,
     "start_time": "2022-04-14T20:14:06.492993",
     "status": "completed"
    },
    "tags": []
   },
   "source": [
    "Probability contours"
   ]
  },
  {
   "cell_type": "code",
   "execution_count": 27,
   "id": "d0afc8e3",
   "metadata": {
    "execution": {
     "iopub.execute_input": "2022-04-14T20:14:06.706248Z",
     "iopub.status.busy": "2022-04-14T20:14:06.705545Z",
     "iopub.status.idle": "2022-04-14T20:14:06.722131Z",
     "shell.execute_reply": "2022-04-14T20:14:06.722978Z"
    },
    "papermill": {
     "duration": 0.079134,
     "end_time": "2022-04-14T20:14:06.723147",
     "exception": false,
     "start_time": "2022-04-14T20:14:06.644013",
     "status": "completed"
    },
    "tags": []
   },
   "outputs": [],
   "source": [
    "model_prob = Model(layers[-2:]) "
   ]
  },
  {
   "cell_type": "code",
   "execution_count": 28,
   "id": "9b96e238",
   "metadata": {
    "execution": {
     "iopub.execute_input": "2022-04-14T20:14:06.845501Z",
     "iopub.status.busy": "2022-04-14T20:14:06.844765Z",
     "iopub.status.idle": "2022-04-14T20:14:06.861478Z",
     "shell.execute_reply": "2022-04-14T20:14:06.862373Z"
    },
    "papermill": {
     "duration": 0.081507,
     "end_time": "2022-04-14T20:14:06.862558",
     "exception": false,
     "start_time": "2022-04-14T20:14:06.781051",
     "status": "completed"
    },
    "tags": []
   },
   "outputs": [],
   "source": [
    "#creating the x and y ranges according to the above generated plot.\n",
    "x_range = np.linspace(-4, 1, 100) \n",
    "y_range = np.linspace(-6, 6, 100) \n",
    "x_grid, y_grid = np.meshgrid(x_range, y_range) # x_grid and y_grig are of size 100 X 100\n",
    "\n",
    "# converting x_grid and y_grid to continuous arrays\n",
    "x_gridflat = np.ravel(x_grid)\n",
    "y_gridflat = np.ravel(y_grid)\n",
    "\n",
    "# The last layer of the current model takes two columns as input. Hence transpose of np.vstack() is required.\n",
    "X = np.vstack((x_gridflat, y_gridflat)).T\n",
    "\n",
    "prob_contour = model_prob(X).reshape(100,100) "
   ]
  },
  {
   "cell_type": "code",
   "execution_count": 29,
   "id": "da72499a",
   "metadata": {
    "execution": {
     "iopub.execute_input": "2022-04-14T20:14:06.985757Z",
     "iopub.status.busy": "2022-04-14T20:14:06.985088Z",
     "iopub.status.idle": "2022-04-14T20:14:07.347230Z",
     "shell.execute_reply": "2022-04-14T20:14:07.346668Z"
    },
    "papermill": {
     "duration": 0.425849,
     "end_time": "2022-04-14T20:14:07.347379",
     "exception": false,
     "start_time": "2022-04-14T20:14:06.921530",
     "status": "completed"
    },
    "tags": []
   },
   "outputs": [
    {
     "data": {
      "image/png": "[encoded data removed]",
      "text/plain": [
       "<Figure size 720x648 with 1 Axes>"
      ]
     },
     "metadata": {
      "needs_background": "light"
     },
     "output_type": "display_data"
    }
   ],
   "source": [
    "plt.figure(figsize=(10,9))\n",
    "plt.scatter(testing_plot[:,0], testing_plot[:,1], alpha = 0.1, c = y_test.ravel())\n",
    "contours = plt.contour(x_grid,y_grid,prob_contour)\n",
    "plt.title('Probability Contours')\n",
    "plt.clabel(contours, inline = True );"
   ]
  },
  {
   "cell_type": "code",
   "execution_count": null,
   "id": "e81b4ac7",
   "metadata": {
    "papermill": {
     "duration": 0.063096,
     "end_time": "2022-04-14T20:14:07.473228",
     "exception": false,
     "start_time": "2022-04-14T20:14:07.410132",
     "status": "completed"
    },
    "tags": []
   },
   "outputs": [],
   "source": []
  }
 ],
 "metadata": {
  "kernelspec": {
   "display_name": "Python 3",
   "language": "python",
   "name": "python3"
  },
  "language_info": {
   "codemirror_mode": {
    "name": "ipython",
    "version": 3
   },
   "file_extension": ".py",
   "mimetype": "text/x-python",
   "name": "python",
   "nbconvert_exporter": "python",
   "pygments_lexer": "ipython3",
   "version": "3.6.15"
  },
  "papermill": {
   "default_parameters": {},
   "duration": 163.334391,
   "end_time": "2022-04-14T20:14:07.959193",
   "environment_variables": {},
   "exception": null,
   "input_path": "2020-08-11-part2.ipynb",
   "output_path": "2020-08-11-part2.ipynb",
   "parameters": {},
   "start_time": "2022-04-14T20:11:24.624802",
   "version": "2.3.3"
  }
 },
 "nbformat": 4,
 "nbformat_minor": 5
}