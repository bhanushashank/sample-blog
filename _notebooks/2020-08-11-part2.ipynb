{
 "cells": [
  {
   "cell_type": "markdown",
   "id": "98380cd3",
   "metadata": {
    "papermill": {
     "duration": 0.037324,
     "end_time": "2021-09-18T20:07:27.867027",
     "exception": false,
     "start_time": "2021-09-18T20:07:27.829703",
     "status": "completed"
    },
    "tags": []
   },
   "source": [
    "# Distinguish Your Own Digits (DYOD)"
   ]
  },
  {
   "cell_type": "markdown",
   "id": "ef31240d",
   "metadata": {
    "papermill": {
     "duration": 0.03249,
     "end_time": "2021-09-18T20:07:27.931753",
     "exception": false,
     "start_time": "2021-09-18T20:07:27.899263",
     "status": "completed"
    },
    "tags": []
   },
   "source": [
    "You are going to write a classifier that distinguishes between the number 3 and number 8."
   ]
  },
  {
   "cell_type": "code",
   "execution_count": 1,
   "id": "b15c8646",
   "metadata": {
    "execution": {
     "iopub.execute_input": "2021-09-18T20:07:28.008338Z",
     "iopub.status.busy": "2021-09-18T20:07:28.007667Z",
     "iopub.status.idle": "2021-09-18T20:07:28.025179Z",
     "shell.execute_reply": "2021-09-18T20:07:28.024598Z"
    },
    "papermill": {
     "duration": 0.059909,
     "end_time": "2021-09-18T20:07:28.025372",
     "exception": false,
     "start_time": "2021-09-18T20:07:27.965463",
     "status": "completed"
    },
    "tags": []
   },
   "outputs": [],
   "source": [
    "%load_ext autoreload\n",
    "%autoreload 2"
   ]
  },
  {
   "cell_type": "code",
   "execution_count": 2,
   "id": "22ef38dc",
   "metadata": {
    "execution": {
     "iopub.execute_input": "2021-09-18T20:07:28.096633Z",
     "iopub.status.busy": "2021-09-18T20:07:28.095953Z",
     "iopub.status.idle": "2021-09-18T20:07:28.762439Z",
     "shell.execute_reply": "2021-09-18T20:07:28.761817Z"
    },
    "papermill": {
     "duration": 0.703501,
     "end_time": "2021-09-18T20:07:28.762629",
     "exception": false,
     "start_time": "2021-09-18T20:07:28.059128",
     "status": "completed"
    },
    "tags": []
   },
   "outputs": [],
   "source": [
    "%matplotlib inline\n",
    "import numpy as np\n",
    "import matplotlib.pyplot as plt\n",
    "import pandas as pd"
   ]
  },
  {
   "cell_type": "markdown",
   "id": "ba036198",
   "metadata": {
    "papermill": {
     "duration": 0.033776,
     "end_time": "2021-09-18T20:07:28.830795",
     "exception": false,
     "start_time": "2021-09-18T20:07:28.797019",
     "status": "completed"
    },
    "tags": []
   },
   "source": [
    "From the command line run `pip install mnist`. This is a library that will help you bring down the mnist dataset. If you run this from a notebook, you need to put  `!pip install mnist` in a cell by itself."
   ]
  },
  {
   "cell_type": "code",
   "execution_count": 3,
   "id": "bb6ad8a1",
   "metadata": {
    "execution": {
     "iopub.execute_input": "2021-09-18T20:07:28.903382Z",
     "iopub.status.busy": "2021-09-18T20:07:28.902556Z",
     "iopub.status.idle": "2021-09-18T20:07:31.117897Z",
     "shell.execute_reply": "2021-09-18T20:07:31.118544Z"
    },
    "papermill": {
     "duration": 2.254367,
     "end_time": "2021-09-18T20:07:31.118738",
     "exception": false,
     "start_time": "2021-09-18T20:07:28.864371",
     "status": "completed"
    },
    "tags": []
   },
   "outputs": [
    {
     "name": "stdout",
     "output_type": "stream",
     "text": [
      "Collecting mnist\r\n"
     ]
    },
    {
     "name": "stdout",
     "output_type": "stream",
     "text": [
      "  Downloading mnist-0.2.2-py2.py3-none-any.whl (3.5 kB)\r\n",
      "Requirement already satisfied: numpy in /opt/hostedtoolcache/Python/3.6.15/x64/lib/python3.6/site-packages (from mnist) (1.19.5)\r\n"
     ]
    },
    {
     "name": "stdout",
     "output_type": "stream",
     "text": [
      "Installing collected packages: mnist\r\n"
     ]
    },
    {
     "name": "stdout",
     "output_type": "stream",
     "text": [
      "Successfully installed mnist-0.2.2\r\n"
     ]
    }
   ],
   "source": [
    "!pip install mnist"
   ]
  },
  {
   "cell_type": "markdown",
   "id": "69df9c9a",
   "metadata": {
    "papermill": {
     "duration": 0.042074,
     "end_time": "2021-09-18T20:07:31.198379",
     "exception": false,
     "start_time": "2021-09-18T20:07:31.156305",
     "status": "completed"
    },
    "tags": []
   },
   "source": [
    "## Preparing the Data"
   ]
  },
  {
   "cell_type": "code",
   "execution_count": 4,
   "id": "7f69d806",
   "metadata": {
    "execution": {
     "iopub.execute_input": "2021-09-18T20:07:31.275487Z",
     "iopub.status.busy": "2021-09-18T20:07:31.274822Z",
     "iopub.status.idle": "2021-09-18T20:07:31.294183Z",
     "shell.execute_reply": "2021-09-18T20:07:31.294948Z"
    },
    "papermill": {
     "duration": 0.058962,
     "end_time": "2021-09-18T20:07:31.295134",
     "exception": false,
     "start_time": "2021-09-18T20:07:31.236172",
     "status": "completed"
    },
    "tags": []
   },
   "outputs": [],
   "source": [
    "import mnist"
   ]
  },
  {
   "cell_type": "code",
   "execution_count": 5,
   "id": "a411e44f",
   "metadata": {
    "execution": {
     "iopub.execute_input": "2021-09-18T20:07:31.372669Z",
     "iopub.status.busy": "2021-09-18T20:07:31.371908Z",
     "iopub.status.idle": "2021-09-18T20:07:32.077125Z",
     "shell.execute_reply": "2021-09-18T20:07:32.076420Z"
    },
    "papermill": {
     "duration": 0.745764,
     "end_time": "2021-09-18T20:07:32.077321",
     "exception": false,
     "start_time": "2021-09-18T20:07:31.331557",
     "status": "completed"
    },
    "tags": []
   },
   "outputs": [],
   "source": [
    "train_images = mnist.train_images()\n",
    "train_labels = mnist.train_labels()"
   ]
  },
  {
   "cell_type": "code",
   "execution_count": 6,
   "id": "dceab3a5",
   "metadata": {
    "execution": {
     "iopub.execute_input": "2021-09-18T20:07:32.155356Z",
     "iopub.status.busy": "2021-09-18T20:07:32.154614Z",
     "iopub.status.idle": "2021-09-18T20:07:32.171164Z",
     "shell.execute_reply": "2021-09-18T20:07:32.170581Z"
    },
    "papermill": {
     "duration": 0.058195,
     "end_time": "2021-09-18T20:07:32.171357",
     "exception": false,
     "start_time": "2021-09-18T20:07:32.113162",
     "status": "completed"
    },
    "tags": []
   },
   "outputs": [
    {
     "data": {
      "text/plain": [
       "((60000, 28, 28), (60000,))"
      ]
     },
     "execution_count": 6,
     "metadata": {},
     "output_type": "execute_result"
    }
   ],
   "source": [
    "train_images.shape, train_labels.shape"
   ]
  },
  {
   "cell_type": "code",
   "execution_count": 7,
   "id": "f50dc2bb",
   "metadata": {
    "execution": {
     "iopub.execute_input": "2021-09-18T20:07:32.245658Z",
     "iopub.status.busy": "2021-09-18T20:07:32.244946Z",
     "iopub.status.idle": "2021-09-18T20:07:32.443442Z",
     "shell.execute_reply": "2021-09-18T20:07:32.442689Z"
    },
    "papermill": {
     "duration": 0.237727,
     "end_time": "2021-09-18T20:07:32.443735",
     "exception": false,
     "start_time": "2021-09-18T20:07:32.206008",
     "status": "completed"
    },
    "tags": []
   },
   "outputs": [],
   "source": [
    "test_images = mnist.test_images()\n",
    "test_labels = mnist.test_labels()"
   ]
  },
  {
   "cell_type": "code",
   "execution_count": 8,
   "id": "fc38cf1b",
   "metadata": {
    "execution": {
     "iopub.execute_input": "2021-09-18T20:07:32.528115Z",
     "iopub.status.busy": "2021-09-18T20:07:32.527423Z",
     "iopub.status.idle": "2021-09-18T20:07:32.544165Z",
     "shell.execute_reply": "2021-09-18T20:07:32.543566Z"
    },
    "papermill": {
     "duration": 0.058396,
     "end_time": "2021-09-18T20:07:32.544304",
     "exception": false,
     "start_time": "2021-09-18T20:07:32.485908",
     "status": "completed"
    },
    "tags": []
   },
   "outputs": [
    {
     "data": {
      "text/plain": [
       "((10000, 28, 28), (10000,))"
      ]
     },
     "execution_count": 8,
     "metadata": {},
     "output_type": "execute_result"
    }
   ],
   "source": [
    "test_images.shape, test_labels.shape"
   ]
  },
  {
   "cell_type": "code",
   "execution_count": 9,
   "id": "f9ed8fe0",
   "metadata": {
    "execution": {
     "iopub.execute_input": "2021-09-18T20:07:32.620530Z",
     "iopub.status.busy": "2021-09-18T20:07:32.619861Z",
     "iopub.status.idle": "2021-09-18T20:07:32.824331Z",
     "shell.execute_reply": "2021-09-18T20:07:32.823774Z"
    },
    "papermill": {
     "duration": 0.245334,
     "end_time": "2021-09-18T20:07:32.824482",
     "exception": false,
     "start_time": "2021-09-18T20:07:32.579148",
     "status": "completed"
    },
    "tags": []
   },
   "outputs": [
    {
     "name": "stdout",
     "output_type": "stream",
     "text": [
      "2\n"
     ]
    },
    {
     "data": {
      "text/plain": [
       "<matplotlib.image.AxesImage at 0x7f60e1c78898>"
      ]
     },
     "execution_count": 9,
     "metadata": {},
     "output_type": "execute_result"
    },
    {
     "data": {
      "image/png": "[encoded data removed]",
      "text/plain": [
       "<Figure size 432x288 with 1 Axes>"
      ]
     },
     "metadata": {
      "needs_background": "light"
     },
     "output_type": "display_data"
    }
   ],
   "source": [
    "image_index = 7776 # You may select anything up to 60,000\n",
    "print(train_labels[image_index]) \n",
    "plt.imshow(train_images[image_index], cmap='Greys')"
   ]
  },
  {
   "cell_type": "markdown",
   "id": "a8d2388d",
   "metadata": {
    "papermill": {
     "duration": 0.037514,
     "end_time": "2021-09-18T20:07:32.898044",
     "exception": false,
     "start_time": "2021-09-18T20:07:32.860530",
     "status": "completed"
    },
    "tags": []
   },
   "source": [
    "## Filter data to get 3 and 8 out"
   ]
  },
  {
   "cell_type": "code",
   "execution_count": 10,
   "id": "776f7fc7",
   "metadata": {
    "execution": {
     "iopub.execute_input": "2021-09-18T20:07:32.975910Z",
     "iopub.status.busy": "2021-09-18T20:07:32.975212Z",
     "iopub.status.idle": "2021-09-18T20:07:32.999455Z",
     "shell.execute_reply": "2021-09-18T20:07:32.998827Z"
    },
    "papermill": {
     "duration": 0.06506,
     "end_time": "2021-09-18T20:07:32.999649",
     "exception": false,
     "start_time": "2021-09-18T20:07:32.934589",
     "status": "completed"
    },
    "tags": []
   },
   "outputs": [],
   "source": [
    "train_filter = np.where((train_labels == 3 ) | (train_labels == 8))\n",
    "test_filter = np.where((test_labels == 3) | (test_labels == 8))\n",
    "X_train, y_train = train_images[train_filter], train_labels[train_filter]\n",
    "X_test, y_test = test_images[test_filter], test_labels[test_filter]"
   ]
  },
  {
   "cell_type": "markdown",
   "id": "948f0b7e",
   "metadata": {
    "papermill": {
     "duration": 0.037512,
     "end_time": "2021-09-18T20:07:33.076589",
     "exception": false,
     "start_time": "2021-09-18T20:07:33.039077",
     "status": "completed"
    },
    "tags": []
   },
   "source": [
    "We normalize the pizel values in the 0 to 1 range"
   ]
  },
  {
   "cell_type": "code",
   "execution_count": 11,
   "id": "ee4c2166",
   "metadata": {
    "execution": {
     "iopub.execute_input": "2021-09-18T20:07:33.151614Z",
     "iopub.status.busy": "2021-09-18T20:07:33.150941Z",
     "iopub.status.idle": "2021-09-18T20:07:33.221864Z",
     "shell.execute_reply": "2021-09-18T20:07:33.221110Z"
    },
    "papermill": {
     "duration": 0.112176,
     "end_time": "2021-09-18T20:07:33.222110",
     "exception": false,
     "start_time": "2021-09-18T20:07:33.109934",
     "status": "completed"
    },
    "tags": []
   },
   "outputs": [],
   "source": [
    "X_train = X_train/255.\n",
    "X_test = X_test/255."
   ]
  },
  {
   "cell_type": "markdown",
   "id": "ddcf4fab",
   "metadata": {
    "papermill": {
     "duration": 0.035332,
     "end_time": "2021-09-18T20:07:33.295973",
     "exception": false,
     "start_time": "2021-09-18T20:07:33.260641",
     "status": "completed"
    },
    "tags": []
   },
   "source": [
    "And setup the labels as 1 (when the digit is 3) and 0 (when the digit is 8)"
   ]
  },
  {
   "cell_type": "code",
   "execution_count": 12,
   "id": "7dc908f2",
   "metadata": {
    "execution": {
     "iopub.execute_input": "2021-09-18T20:07:33.375091Z",
     "iopub.status.busy": "2021-09-18T20:07:33.374311Z",
     "iopub.status.idle": "2021-09-18T20:07:33.387999Z",
     "shell.execute_reply": "2021-09-18T20:07:33.387379Z"
    },
    "papermill": {
     "duration": 0.055987,
     "end_time": "2021-09-18T20:07:33.388126",
     "exception": false,
     "start_time": "2021-09-18T20:07:33.332139",
     "status": "completed"
    },
    "tags": []
   },
   "outputs": [],
   "source": [
    "y_train = 1*(y_train==3)\n",
    "y_test = 1*(y_test==3)"
   ]
  },
  {
   "cell_type": "code",
   "execution_count": 13,
   "id": "01e4e969",
   "metadata": {
    "execution": {
     "iopub.execute_input": "2021-09-18T20:07:33.466220Z",
     "iopub.status.busy": "2021-09-18T20:07:33.465577Z",
     "iopub.status.idle": "2021-09-18T20:07:33.481179Z",
     "shell.execute_reply": "2021-09-18T20:07:33.481751Z"
    },
    "papermill": {
     "duration": 0.057699,
     "end_time": "2021-09-18T20:07:33.481914",
     "exception": false,
     "start_time": "2021-09-18T20:07:33.424215",
     "status": "completed"
    },
    "tags": []
   },
   "outputs": [
    {
     "data": {
      "text/plain": [
       "((11982, 28, 28), (1984, 28, 28))"
      ]
     },
     "execution_count": 13,
     "metadata": {},
     "output_type": "execute_result"
    }
   ],
   "source": [
    "X_train.shape, X_test.shape"
   ]
  },
  {
   "cell_type": "markdown",
   "id": "5ccf3f85",
   "metadata": {
    "papermill": {
     "duration": 0.035381,
     "end_time": "2021-09-18T20:07:33.554458",
     "exception": false,
     "start_time": "2021-09-18T20:07:33.519077",
     "status": "completed"
    },
    "tags": []
   },
   "source": [
    "We reshape the data to flatten the image pixels into a set of features or co-variates:"
   ]
  },
  {
   "cell_type": "code",
   "execution_count": 14,
   "id": "5286a4a3",
   "metadata": {
    "execution": {
     "iopub.execute_input": "2021-09-18T20:07:33.630137Z",
     "iopub.status.busy": "2021-09-18T20:07:33.629433Z",
     "iopub.status.idle": "2021-09-18T20:07:33.646476Z",
     "shell.execute_reply": "2021-09-18T20:07:33.645915Z"
    },
    "papermill": {
     "duration": 0.055902,
     "end_time": "2021-09-18T20:07:33.646644",
     "exception": false,
     "start_time": "2021-09-18T20:07:33.590742",
     "status": "completed"
    },
    "tags": []
   },
   "outputs": [
    {
     "data": {
      "text/plain": [
       "((11982, 784), (1984, 784))"
      ]
     },
     "execution_count": 14,
     "metadata": {},
     "output_type": "execute_result"
    }
   ],
   "source": [
    "X_train = X_train.reshape(X_train.shape[0], -1)\n",
    "X_test = X_test.reshape(X_test.shape[0], -1)\n",
    "X_train.shape, X_test.shape"
   ]
  },
  {
   "cell_type": "code",
   "execution_count": 15,
   "id": "73c5f88a",
   "metadata": {
    "execution": {
     "iopub.execute_input": "2021-09-18T20:07:33.723780Z",
     "iopub.status.busy": "2021-09-18T20:07:33.723106Z",
     "iopub.status.idle": "2021-09-18T20:07:33.744522Z",
     "shell.execute_reply": "2021-09-18T20:07:33.743946Z"
    },
    "papermill": {
     "duration": 0.063174,
     "end_time": "2021-09-18T20:07:33.744661",
     "exception": false,
     "start_time": "2021-09-18T20:07:33.681487",
     "status": "completed"
    },
    "tags": []
   },
   "outputs": [],
   "source": [
    "#Impoting functions from 'Kudzu'\n",
    "from kudzu.model import Model\n",
    "from kudzu.train import Learner\n",
    "from kudzu.optim import GD\n",
    "from kudzu.data import Data, Sampler,Dataloader\n",
    "\n",
    "from kudzu.callbacks import AccCallback\n",
    "from kudzu.callbacks import ClfCallback\n",
    "\n",
    "from kudzu.loss import MSE\n",
    "\n",
    "from kudzu.layer import Sigmoid,Relu\n",
    "from kudzu.layer import Affine"
   ]
  },
  {
   "cell_type": "markdown",
   "id": "bc01172a",
   "metadata": {
    "papermill": {
     "duration": 0.037092,
     "end_time": "2021-09-18T20:07:33.818401",
     "exception": false,
     "start_time": "2021-09-18T20:07:33.781309",
     "status": "completed"
    },
    "tags": []
   },
   "source": [
    "### Let us create a `Config` class, to store important parameters. \n",
    "This class essentially plays the role of a dictionary."
   ]
  },
  {
   "cell_type": "code",
   "execution_count": 16,
   "id": "978281aa",
   "metadata": {
    "execution": {
     "iopub.execute_input": "2021-09-18T20:07:33.895658Z",
     "iopub.status.busy": "2021-09-18T20:07:33.894012Z",
     "iopub.status.idle": "2021-09-18T20:07:33.922121Z",
     "shell.execute_reply": "2021-09-18T20:07:33.921572Z"
    },
    "papermill": {
     "duration": 0.067758,
     "end_time": "2021-09-18T20:07:33.922287",
     "exception": false,
     "start_time": "2021-09-18T20:07:33.854529",
     "status": "completed"
    },
    "tags": []
   },
   "outputs": [],
   "source": [
    "class Config:\n",
    "    pass\n",
    "config = Config()\n",
    "config.lr = 0.001\n",
    "config.num_epochs = 250\n",
    "config.bs = 50"
   ]
  },
  {
   "cell_type": "markdown",
   "id": "1385fa59",
   "metadata": {
    "papermill": {
     "duration": 0.03678,
     "end_time": "2021-09-18T20:07:33.996066",
     "exception": false,
     "start_time": "2021-09-18T20:07:33.959286",
     "status": "completed"
    },
    "tags": []
   },
   "source": [
    "### Running Models with the Training data\n",
    "Details about the network layers:\n",
    "- A first affine layer has 784 inputs and does 100 affine transforms. These are followed by a Relu\n",
    "- A second affine layer has 100 inputs from the 100 activations of the past layer, and does 100 affine transforms. These are followed by a Relu\n",
    "- A third affine layer has 100 activations and does 2 affine transformations to create an embedding for visualization. There is no non-linearity here.\n",
    "- A final \"logistic regression\" which has an affine transform from 2 inputs to 1 output, which is squeezed through a sigmoid.\n"
   ]
  },
  {
   "cell_type": "code",
   "execution_count": 17,
   "id": "2b9c66db",
   "metadata": {
    "execution": {
     "iopub.execute_input": "2021-09-18T20:07:34.079742Z",
     "iopub.status.busy": "2021-09-18T20:07:34.079033Z",
     "iopub.status.idle": "2021-09-18T20:07:34.092517Z",
     "shell.execute_reply": "2021-09-18T20:07:34.091987Z"
    },
    "papermill": {
     "duration": 0.058298,
     "end_time": "2021-09-18T20:07:34.092681",
     "exception": false,
     "start_time": "2021-09-18T20:07:34.034383",
     "status": "completed"
    },
    "tags": []
   },
   "outputs": [],
   "source": [
    "data = Data(X_train, y_train.reshape(-1,1))\n",
    "sampler = Sampler(data, config.bs, shuffle=True)\n",
    "\n",
    "dl = Dataloader(data, sampler)\n",
    "\n",
    "opt = GD(config.lr)\n",
    "loss = MSE()"
   ]
  },
  {
   "cell_type": "code",
   "execution_count": 18,
   "id": "b275e4c2",
   "metadata": {
    "execution": {
     "iopub.execute_input": "2021-09-18T20:07:34.172855Z",
     "iopub.status.busy": "2021-09-18T20:07:34.172184Z",
     "iopub.status.idle": "2021-09-18T20:07:34.185328Z",
     "shell.execute_reply": "2021-09-18T20:07:34.185995Z"
    },
    "papermill": {
     "duration": 0.054618,
     "end_time": "2021-09-18T20:07:34.186160",
     "exception": false,
     "start_time": "2021-09-18T20:07:34.131542",
     "status": "completed"
    },
    "tags": []
   },
   "outputs": [],
   "source": [
    "training_data_x = X_train\n",
    "testing_data_x = X_test\n",
    "training_data_y = y_train.reshape(-1,1)\n",
    "testing_data_y = y_test.reshape(-1,1)"
   ]
  },
  {
   "cell_type": "code",
   "execution_count": 19,
   "id": "76951160",
   "metadata": {
    "execution": {
     "iopub.execute_input": "2021-09-18T20:07:34.266124Z",
     "iopub.status.busy": "2021-09-18T20:07:34.265439Z",
     "iopub.status.idle": "2021-09-18T20:07:34.284161Z",
     "shell.execute_reply": "2021-09-18T20:07:34.283385Z"
    },
    "papermill": {
     "duration": 0.060594,
     "end_time": "2021-09-18T20:07:34.284303",
     "exception": false,
     "start_time": "2021-09-18T20:07:34.223709",
     "status": "completed"
    },
    "tags": []
   },
   "outputs": [
    {
     "name": "stdout",
     "output_type": "stream",
     "text": [
      "xavier\n",
      "xavier\n",
      "xavier\n",
      "xavier\n",
      "xavier\n"
     ]
    }
   ],
   "source": [
    "layers = [Affine(\"first\", 784, 100), Relu(\"first\"), Affine(\"second\", 100, 100), Relu(\"second\"), Affine(\"third\", 100, 2), Affine(\"last\", 2, 1), Sigmoid(\"last\")]\n",
    "model_nn = Model(layers)\n",
    "model_lr = Model([Affine(\"logits\", 784, 1), Sigmoid(\"sigmoid\")])"
   ]
  },
  {
   "cell_type": "code",
   "execution_count": 20,
   "id": "6eede77a",
   "metadata": {
    "execution": {
     "iopub.execute_input": "2021-09-18T20:07:34.363445Z",
     "iopub.status.busy": "2021-09-18T20:07:34.362828Z",
     "iopub.status.idle": "2021-09-18T20:07:34.376177Z",
     "shell.execute_reply": "2021-09-18T20:07:34.375635Z"
    },
    "papermill": {
     "duration": 0.055338,
     "end_time": "2021-09-18T20:07:34.376316",
     "exception": false,
     "start_time": "2021-09-18T20:07:34.320978",
     "status": "completed"
    },
    "tags": []
   },
   "outputs": [],
   "source": [
    "nn_learner = Learner(loss, model_nn, opt, config.num_epochs)\n",
    "acc_nn = ClfCallback(nn_learner, config.bs, training_data_x , testing_data_x, training_data_y, testing_data_y)\n",
    "nn_learner.set_callbacks([acc_nn])"
   ]
  },
  {
   "cell_type": "code",
   "execution_count": 21,
   "id": "877b6cc7",
   "metadata": {
    "execution": {
     "iopub.execute_input": "2021-09-18T20:07:34.455788Z",
     "iopub.status.busy": "2021-09-18T20:07:34.455110Z",
     "iopub.status.idle": "2021-09-18T20:07:34.468653Z",
     "shell.execute_reply": "2021-09-18T20:07:34.468048Z"
    },
    "papermill": {
     "duration": 0.055723,
     "end_time": "2021-09-18T20:07:34.468788",
     "exception": false,
     "start_time": "2021-09-18T20:07:34.413065",
     "status": "completed"
    },
    "tags": []
   },
   "outputs": [],
   "source": [
    "lr_learner = Learner(loss, model_lr, opt, config.num_epochs)\n",
    "acc_lr = ClfCallback(lr_learner, config.bs, training_data_x , testing_data_x, training_data_y, testing_data_y)\n",
    "lr_learner.set_callbacks([acc_lr])"
   ]
  },
  {
   "cell_type": "code",
   "execution_count": 22,
   "id": "d9b133c3",
   "metadata": {
    "execution": {
     "iopub.execute_input": "2021-09-18T20:07:34.557562Z",
     "iopub.status.busy": "2021-09-18T20:07:34.556927Z",
     "iopub.status.idle": "2021-09-18T20:09:58.345360Z",
     "shell.execute_reply": "2021-09-18T20:09:58.346130Z"
    },
    "papermill": {
     "duration": 143.830541,
     "end_time": "2021-09-18T20:09:58.346286",
     "exception": false,
     "start_time": "2021-09-18T20:07:34.515745",
     "status": "completed"
    },
    "tags": []
   },
   "outputs": [
    {
     "name": "stdout",
     "output_type": "stream",
     "text": [
      "Epoch 0, Loss 0.2464\n",
      "Training Accuracy: 0.6010, Testing Accuracy: 0.6129\n",
      "\n"
     ]
    },
    {
     "name": "stdout",
     "output_type": "stream",
     "text": [
      "Epoch 10, Loss 0.1775\n",
      "Training Accuracy: 0.8806, Testing Accuracy: 0.8967\n",
      "\n"
     ]
    },
    {
     "name": "stdout",
     "output_type": "stream",
     "text": [
      "Epoch 20, Loss 0.0889\n",
      "Training Accuracy: 0.9129, Testing Accuracy: 0.9254\n",
      "\n"
     ]
    },
    {
     "name": "stdout",
     "output_type": "stream",
     "text": [
      "Epoch 30, Loss 0.0586\n",
      "Training Accuracy: 0.9378, Testing Accuracy: 0.9476\n",
      "\n"
     ]
    },
    {
     "name": "stdout",
     "output_type": "stream",
     "text": [
      "Epoch 40, Loss 0.0458\n",
      "Training Accuracy: 0.9489, Testing Accuracy: 0.9617\n",
      "\n"
     ]
    },
    {
     "name": "stdout",
     "output_type": "stream",
     "text": [
      "Epoch 50, Loss 0.0393\n",
      "Training Accuracy: 0.9555, Testing Accuracy: 0.9677\n",
      "\n"
     ]
    },
    {
     "name": "stdout",
     "output_type": "stream",
     "text": [
      "Epoch 60, Loss 0.0354\n",
      "Training Accuracy: 0.9595, Testing Accuracy: 0.9693\n",
      "\n"
     ]
    },
    {
     "name": "stdout",
     "output_type": "stream",
     "text": [
      "Epoch 70, Loss 0.0329\n",
      "Training Accuracy: 0.9621, Testing Accuracy: 0.9708\n",
      "\n"
     ]
    },
    {
     "name": "stdout",
     "output_type": "stream",
     "text": [
      "Epoch 80, Loss 0.031\n",
      "Training Accuracy: 0.9647, Testing Accuracy: 0.9703\n",
      "\n"
     ]
    },
    {
     "name": "stdout",
     "output_type": "stream",
     "text": [
      "Epoch 90, Loss 0.0295\n",
      "Training Accuracy: 0.9661, Testing Accuracy: 0.9703\n",
      "\n"
     ]
    },
    {
     "name": "stdout",
     "output_type": "stream",
     "text": [
      "Epoch 100, Loss 0.0283\n",
      "Training Accuracy: 0.9673, Testing Accuracy: 0.9708\n",
      "\n"
     ]
    },
    {
     "name": "stdout",
     "output_type": "stream",
     "text": [
      "Epoch 110, Loss 0.0273\n",
      "Training Accuracy: 0.9680, Testing Accuracy: 0.9708\n",
      "\n"
     ]
    },
    {
     "name": "stdout",
     "output_type": "stream",
     "text": [
      "Epoch 120, Loss 0.0264\n",
      "Training Accuracy: 0.9688, Testing Accuracy: 0.9713\n",
      "\n"
     ]
    },
    {
     "name": "stdout",
     "output_type": "stream",
     "text": [
      "Epoch 130, Loss 0.0256\n",
      "Training Accuracy: 0.9697, Testing Accuracy: 0.9718\n",
      "\n"
     ]
    },
    {
     "name": "stdout",
     "output_type": "stream",
     "text": [
      "Epoch 140, Loss 0.0249\n",
      "Training Accuracy: 0.9705, Testing Accuracy: 0.9723\n",
      "\n"
     ]
    },
    {
     "name": "stdout",
     "output_type": "stream",
     "text": [
      "Epoch 150, Loss 0.0243\n",
      "Training Accuracy: 0.9714, Testing Accuracy: 0.9728\n",
      "\n"
     ]
    },
    {
     "name": "stdout",
     "output_type": "stream",
     "text": [
      "Epoch 160, Loss 0.0238\n",
      "Training Accuracy: 0.9722, Testing Accuracy: 0.9723\n",
      "\n"
     ]
    },
    {
     "name": "stdout",
     "output_type": "stream",
     "text": [
      "Epoch 170, Loss 0.0232\n",
      "Training Accuracy: 0.9725, Testing Accuracy: 0.9728\n",
      "\n"
     ]
    },
    {
     "name": "stdout",
     "output_type": "stream",
     "text": [
      "Epoch 180, Loss 0.0228\n",
      "Training Accuracy: 0.9731, Testing Accuracy: 0.9733\n",
      "\n"
     ]
    },
    {
     "name": "stdout",
     "output_type": "stream",
     "text": [
      "Epoch 190, Loss 0.0223\n",
      "Training Accuracy: 0.9735, Testing Accuracy: 0.9733\n",
      "\n"
     ]
    },
    {
     "name": "stdout",
     "output_type": "stream",
     "text": [
      "Epoch 200, Loss 0.0219\n",
      "Training Accuracy: 0.9744, Testing Accuracy: 0.9733\n",
      "\n"
     ]
    },
    {
     "name": "stdout",
     "output_type": "stream",
     "text": [
      "Epoch 210, Loss 0.0215\n",
      "Training Accuracy: 0.9751, Testing Accuracy: 0.9733\n",
      "\n"
     ]
    },
    {
     "name": "stdout",
     "output_type": "stream",
     "text": [
      "Epoch 220, Loss 0.0211\n",
      "Training Accuracy: 0.9758, Testing Accuracy: 0.9743\n",
      "\n"
     ]
    },
    {
     "name": "stdout",
     "output_type": "stream",
     "text": [
      "Epoch 230, Loss 0.0207\n",
      "Training Accuracy: 0.9763, Testing Accuracy: 0.9743\n",
      "\n"
     ]
    },
    {
     "name": "stdout",
     "output_type": "stream",
     "text": [
      "Epoch 240, Loss 0.0203\n",
      "Training Accuracy: 0.9768, Testing Accuracy: 0.9743\n",
      "\n"
     ]
    },
    {
     "data": {
      "text/plain": [
       "0.008881081929456407"
      ]
     },
     "execution_count": 22,
     "metadata": {},
     "output_type": "execute_result"
    }
   ],
   "source": [
    "nn_learner.train_loop(dl)"
   ]
  },
  {
   "cell_type": "code",
   "execution_count": 23,
   "id": "e0163366",
   "metadata": {
    "execution": {
     "iopub.execute_input": "2021-09-18T20:09:58.452146Z",
     "iopub.status.busy": "2021-09-18T20:09:58.451443Z",
     "iopub.status.idle": "2021-09-18T20:10:18.908681Z",
     "shell.execute_reply": "2021-09-18T20:10:18.909702Z"
    },
    "papermill": {
     "duration": 20.516215,
     "end_time": "2021-09-18T20:10:18.909875",
     "exception": false,
     "start_time": "2021-09-18T20:09:58.393660",
     "status": "completed"
    },
    "tags": []
   },
   "outputs": [
    {
     "name": "stdout",
     "output_type": "stream",
     "text": [
      "Epoch 0, Loss 0.2557\n",
      "Training Accuracy: 0.6138, Testing Accuracy: 0.6114\n",
      "\n"
     ]
    },
    {
     "name": "stdout",
     "output_type": "stream",
     "text": [
      "Epoch 10, Loss 0.1031\n",
      "Training Accuracy: 0.9128, Testing Accuracy: 0.9269\n",
      "\n"
     ]
    },
    {
     "name": "stdout",
     "output_type": "stream",
     "text": [
      "Epoch 20, Loss 0.0782\n",
      "Training Accuracy: 0.9305, Testing Accuracy: 0.9435\n",
      "\n"
     ]
    },
    {
     "name": "stdout",
     "output_type": "stream",
     "text": [
      "Epoch 30, Loss 0.0672\n",
      "Training Accuracy: 0.9396, Testing Accuracy: 0.9511\n",
      "\n"
     ]
    },
    {
     "name": "stdout",
     "output_type": "stream",
     "text": [
      "Epoch 40, Loss 0.0607\n",
      "Training Accuracy: 0.9451, Testing Accuracy: 0.9546\n",
      "\n"
     ]
    },
    {
     "name": "stdout",
     "output_type": "stream",
     "text": [
      "Epoch 50, Loss 0.0563\n",
      "Training Accuracy: 0.9480, Testing Accuracy: 0.9582\n",
      "\n"
     ]
    },
    {
     "name": "stdout",
     "output_type": "stream",
     "text": [
      "Epoch 60, Loss 0.0532\n",
      "Training Accuracy: 0.9493, Testing Accuracy: 0.9592\n",
      "\n"
     ]
    },
    {
     "name": "stdout",
     "output_type": "stream",
     "text": [
      "Epoch 70, Loss 0.0507\n",
      "Training Accuracy: 0.9508, Testing Accuracy: 0.9607\n",
      "\n"
     ]
    },
    {
     "name": "stdout",
     "output_type": "stream",
     "text": [
      "Epoch 80, Loss 0.0487\n",
      "Training Accuracy: 0.9521, Testing Accuracy: 0.9622\n",
      "\n"
     ]
    },
    {
     "name": "stdout",
     "output_type": "stream",
     "text": [
      "Epoch 90, Loss 0.0471\n",
      "Training Accuracy: 0.9533, Testing Accuracy: 0.9627\n",
      "\n"
     ]
    },
    {
     "name": "stdout",
     "output_type": "stream",
     "text": [
      "Epoch 100, Loss 0.0458\n",
      "Training Accuracy: 0.9541, Testing Accuracy: 0.9627\n",
      "\n"
     ]
    },
    {
     "name": "stdout",
     "output_type": "stream",
     "text": [
      "Epoch 110, Loss 0.0446\n",
      "Training Accuracy: 0.9548, Testing Accuracy: 0.9632\n",
      "\n"
     ]
    },
    {
     "name": "stdout",
     "output_type": "stream",
     "text": [
      "Epoch 120, Loss 0.0436\n",
      "Training Accuracy: 0.9553, Testing Accuracy: 0.9637\n",
      "\n"
     ]
    },
    {
     "name": "stdout",
     "output_type": "stream",
     "text": [
      "Epoch 130, Loss 0.0427\n",
      "Training Accuracy: 0.9561, Testing Accuracy: 0.9647\n",
      "\n"
     ]
    },
    {
     "name": "stdout",
     "output_type": "stream",
     "text": [
      "Epoch 140, Loss 0.0419\n",
      "Training Accuracy: 0.9571, Testing Accuracy: 0.9647\n",
      "\n"
     ]
    },
    {
     "name": "stdout",
     "output_type": "stream",
     "text": [
      "Epoch 150, Loss 0.0412\n",
      "Training Accuracy: 0.9576, Testing Accuracy: 0.9657\n",
      "\n"
     ]
    },
    {
     "name": "stdout",
     "output_type": "stream",
     "text": [
      "Epoch 160, Loss 0.0405\n",
      "Training Accuracy: 0.9581, Testing Accuracy: 0.9657\n",
      "\n"
     ]
    },
    {
     "name": "stdout",
     "output_type": "stream",
     "text": [
      "Epoch 170, Loss 0.0399\n",
      "Training Accuracy: 0.9586, Testing Accuracy: 0.9652\n",
      "\n"
     ]
    },
    {
     "name": "stdout",
     "output_type": "stream",
     "text": [
      "Epoch 180, Loss 0.0394\n",
      "Training Accuracy: 0.9589, Testing Accuracy: 0.9657\n",
      "\n"
     ]
    },
    {
     "name": "stdout",
     "output_type": "stream",
     "text": [
      "Epoch 190, Loss 0.0389\n",
      "Training Accuracy: 0.9592, Testing Accuracy: 0.9657\n",
      "\n"
     ]
    },
    {
     "name": "stdout",
     "output_type": "stream",
     "text": [
      "Epoch 200, Loss 0.0384\n",
      "Training Accuracy: 0.9594, Testing Accuracy: 0.9647\n",
      "\n"
     ]
    },
    {
     "name": "stdout",
     "output_type": "stream",
     "text": [
      "Epoch 210, Loss 0.038\n",
      "Training Accuracy: 0.9597, Testing Accuracy: 0.9647\n",
      "\n"
     ]
    },
    {
     "name": "stdout",
     "output_type": "stream",
     "text": [
      "Epoch 220, Loss 0.0376\n",
      "Training Accuracy: 0.9599, Testing Accuracy: 0.9647\n",
      "\n"
     ]
    },
    {
     "name": "stdout",
     "output_type": "stream",
     "text": [
      "Epoch 230, Loss 0.0372\n",
      "Training Accuracy: 0.9604, Testing Accuracy: 0.9642\n",
      "\n"
     ]
    },
    {
     "name": "stdout",
     "output_type": "stream",
     "text": [
      "Epoch 240, Loss 0.0369\n",
      "Training Accuracy: 0.9608, Testing Accuracy: 0.9642\n",
      "\n"
     ]
    },
    {
     "data": {
      "text/plain": [
       "0.017106271697266"
      ]
     },
     "execution_count": 23,
     "metadata": {},
     "output_type": "execute_result"
    }
   ],
   "source": [
    "lr_learner.train_loop(dl)"
   ]
  },
  {
   "cell_type": "code",
   "execution_count": 24,
   "id": "ca410940",
   "metadata": {
    "execution": {
     "iopub.execute_input": "2021-09-18T20:10:19.030003Z",
     "iopub.status.busy": "2021-09-18T20:10:19.029216Z",
     "iopub.status.idle": "2021-09-18T20:10:19.364565Z",
     "shell.execute_reply": "2021-09-18T20:10:19.363842Z"
    },
    "papermill": {
     "duration": 0.39775,
     "end_time": "2021-09-18T20:10:19.364705",
     "exception": false,
     "start_time": "2021-09-18T20:10:18.966955",
     "status": "completed"
    },
    "tags": []
   },
   "outputs": [
    {
     "data": {
      "text/plain": [
       "<matplotlib.legend.Legend at 0x7f60e17d9940>"
      ]
     },
     "execution_count": 24,
     "metadata": {},
     "output_type": "execute_result"
    },
    {
     "data": {
      "image/png": "[encoded data removed]",
      "text/plain": [
       "<Figure size 1080x720 with 1 Axes>"
      ]
     },
     "metadata": {
      "needs_background": "light"
     },
     "output_type": "display_data"
    }
   ],
   "source": [
    "#comparing the results of NN and LR\n",
    "plt.figure(figsize=(15,10))\n",
    "\n",
    "# Neural Network plots\n",
    "plt.plot(acc_nn.accuracies, 'r-', label = \"Training Accuracies - NN\")\n",
    "plt.plot(acc_nn.test_accuracies, 'g-', label = \"Testing Accuracies - NN\")\n",
    "\n",
    "# Logistic Regression plots\n",
    "plt.plot(acc_lr.accuracies, 'k-', label = \"Training Accuracies - LR\")\n",
    "plt.plot(acc_lr.test_accuracies, 'b-', label = \"Testing Accuracies - LR\")\n",
    "plt.legend()"
   ]
  },
  {
   "cell_type": "markdown",
   "id": "80dfb35c",
   "metadata": {
    "papermill": {
     "duration": 0.056595,
     "end_time": "2021-09-18T20:10:19.479524",
     "exception": false,
     "start_time": "2021-09-18T20:10:19.422929",
     "status": "completed"
    },
    "tags": []
   },
   "source": [
    "#### Plotting the outputs of this layer of the NN.\n"
   ]
  },
  {
   "cell_type": "code",
   "execution_count": 25,
   "id": "45eb2ff5",
   "metadata": {
    "execution": {
     "iopub.execute_input": "2021-09-18T20:10:19.599944Z",
     "iopub.status.busy": "2021-09-18T20:10:19.599281Z",
     "iopub.status.idle": "2021-09-18T20:10:19.627809Z",
     "shell.execute_reply": "2021-09-18T20:10:19.628360Z"
    },
    "papermill": {
     "duration": 0.09209,
     "end_time": "2021-09-18T20:10:19.628530",
     "exception": false,
     "start_time": "2021-09-18T20:10:19.536440",
     "status": "completed"
    },
    "tags": []
   },
   "outputs": [],
   "source": [
    "new_model = Model(layers[:-2])\n",
    "testing_plot = new_model(testing_data_x)"
   ]
  },
  {
   "cell_type": "code",
   "execution_count": 26,
   "id": "4c0a5485",
   "metadata": {
    "execution": {
     "iopub.execute_input": "2021-09-18T20:10:19.767999Z",
     "iopub.status.busy": "2021-09-18T20:10:19.767339Z",
     "iopub.status.idle": "2021-09-18T20:10:20.039823Z",
     "shell.execute_reply": "2021-09-18T20:10:20.040642Z"
    },
    "papermill": {
     "duration": 0.342594,
     "end_time": "2021-09-18T20:10:20.040807",
     "exception": false,
     "start_time": "2021-09-18T20:10:19.698213",
     "status": "completed"
    },
    "tags": []
   },
   "outputs": [
    {
     "data": {
      "text/plain": [
       "Text(0.5, 1.0, 'Outputs')"
      ]
     },
     "execution_count": 26,
     "metadata": {},
     "output_type": "execute_result"
    },
    {
     "data": {
      "image/png": "[encoded data removed]",
      "text/plain": [
       "<Figure size 576x504 with 1 Axes>"
      ]
     },
     "metadata": {
      "needs_background": "light"
     },
     "output_type": "display_data"
    }
   ],
   "source": [
    "# Plotting the scatter plot of points and color coding by class\n",
    "plt.figure(figsize=(8,7))\n",
    "plt.scatter(testing_plot[:,0], testing_plot[:,1], alpha = 0.1, c = y_test.ravel());\n",
    "plt.title('Outputs')"
   ]
  },
  {
   "cell_type": "markdown",
   "id": "a74fcf8f",
   "metadata": {
    "papermill": {
     "duration": 0.056595,
     "end_time": "2021-09-18T20:10:20.157026",
     "exception": false,
     "start_time": "2021-09-18T20:10:20.100431",
     "status": "completed"
    },
    "tags": []
   },
   "source": [
    "Probability contours"
   ]
  },
  {
   "cell_type": "code",
   "execution_count": 27,
   "id": "d0afc8e3",
   "metadata": {
    "execution": {
     "iopub.execute_input": "2021-09-18T20:10:20.299703Z",
     "iopub.status.busy": "2021-09-18T20:10:20.298884Z",
     "iopub.status.idle": "2021-09-18T20:10:20.313009Z",
     "shell.execute_reply": "2021-09-18T20:10:20.312516Z"
    },
    "papermill": {
     "duration": 0.09853,
     "end_time": "2021-09-18T20:10:20.313129",
     "exception": false,
     "start_time": "2021-09-18T20:10:20.214599",
     "status": "completed"
    },
    "tags": []
   },
   "outputs": [],
   "source": [
    "model_prob = Model(layers[-2:]) "
   ]
  },
  {
   "cell_type": "code",
   "execution_count": 28,
   "id": "9b96e238",
   "metadata": {
    "execution": {
     "iopub.execute_input": "2021-09-18T20:10:20.441578Z",
     "iopub.status.busy": "2021-09-18T20:10:20.431394Z",
     "iopub.status.idle": "2021-09-18T20:10:20.449714Z",
     "shell.execute_reply": "2021-09-18T20:10:20.450237Z"
    },
    "papermill": {
     "duration": 0.081889,
     "end_time": "2021-09-18T20:10:20.450381",
     "exception": false,
     "start_time": "2021-09-18T20:10:20.368492",
     "status": "completed"
    },
    "tags": []
   },
   "outputs": [],
   "source": [
    "#creating the x and y ranges according to the above generated plot.\n",
    "x_range = np.linspace(-4, 1, 100) \n",
    "y_range = np.linspace(-6, 6, 100) \n",
    "x_grid, y_grid = np.meshgrid(x_range, y_range) # x_grid and y_grig are of size 100 X 100\n",
    "\n",
    "# converting x_grid and y_grid to continuous arrays\n",
    "x_gridflat = np.ravel(x_grid)\n",
    "y_gridflat = np.ravel(y_grid)\n",
    "\n",
    "# The last layer of the current model takes two columns as input. Hence transpose of np.vstack() is required.\n",
    "X = np.vstack((x_gridflat, y_gridflat)).T\n",
    "\n",
    "prob_contour = model_prob(X).reshape(100,100) "
   ]
  },
  {
   "cell_type": "code",
   "execution_count": 29,
   "id": "da72499a",
   "metadata": {
    "execution": {
     "iopub.execute_input": "2021-09-18T20:10:20.570521Z",
     "iopub.status.busy": "2021-09-18T20:10:20.569671Z",
     "iopub.status.idle": "2021-09-18T20:10:20.899862Z",
     "shell.execute_reply": "2021-09-18T20:10:20.899271Z"
    },
    "papermill": {
     "duration": 0.39156,
     "end_time": "2021-09-18T20:10:20.899994",
     "exception": false,
     "start_time": "2021-09-18T20:10:20.508434",
     "status": "completed"
    },
    "tags": []
   },
   "outputs": [
    {
     "data": {
      "image/png": "[encoded data removed]",
      "text/plain": [
       "<Figure size 720x648 with 1 Axes>"
      ]
     },
     "metadata": {
      "needs_background": "light"
     },
     "output_type": "display_data"
    }
   ],
   "source": [
    "plt.figure(figsize=(10,9))\n",
    "plt.scatter(testing_plot[:,0], testing_plot[:,1], alpha = 0.1, c = y_test.ravel())\n",
    "contours = plt.contour(x_grid,y_grid,prob_contour)\n",
    "plt.title('Probability Contours')\n",
    "plt.clabel(contours, inline = True );"
   ]
  },
  {
   "cell_type": "code",
   "execution_count": null,
   "id": "e81b4ac7",
   "metadata": {
    "papermill": {
     "duration": 0.060027,
     "end_time": "2021-09-18T20:10:21.019465",
     "exception": false,
     "start_time": "2021-09-18T20:10:20.959438",
     "status": "completed"
    },
    "tags": []
   },
   "outputs": [],
   "source": []
  }
 ],
 "metadata": {
  "kernelspec": {
   "display_name": "Python 3",
   "language": "python",
   "name": "python3"
  },
  "language_info": {
   "codemirror_mode": {
    "name": "ipython",
    "version": 3
   },
   "file_extension": ".py",
   "mimetype": "text/x-python",
   "name": "python",
   "nbconvert_exporter": "python",
   "pygments_lexer": "ipython3",
   "version": "3.6.15"
  },
  "papermill": {
   "default_parameters": {},
   "duration": 174.852797,
   "end_time": "2021-09-18T20:10:21.490428",
   "environment_variables": {},
   "exception": null,
   "input_path": "2020-08-11-part2.ipynb",
   "output_path": "2020-08-11-part2.ipynb",
   "parameters": {},
   "start_time": "2021-09-18T20:07:26.637631",
   "version": "2.3.3"
  }
 },
 "nbformat": 4,
 "nbformat_minor": 5
}