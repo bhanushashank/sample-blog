{
 "cells": [
  {
   "cell_type": "markdown",
   "id": "98380cd3",
   "metadata": {
    "papermill": {
     "duration": 0.034625,
     "end_time": "2022-04-29T10:09:10.775719",
     "exception": false,
     "start_time": "2022-04-29T10:09:10.741094",
     "status": "completed"
    },
    "tags": []
   },
   "source": [
    "# Distinguish Your Own Digits (DYOD)"
   ]
  },
  {
   "cell_type": "markdown",
   "id": "ef31240d",
   "metadata": {
    "papermill": {
     "duration": 0.037521,
     "end_time": "2022-04-29T10:09:10.843498",
     "exception": false,
     "start_time": "2022-04-29T10:09:10.805977",
     "status": "completed"
    },
    "tags": []
   },
   "source": [
    "You are going to write a classifier that distinguishes between the number 3 and number 8."
   ]
  },
  {
   "cell_type": "code",
   "execution_count": 1,
   "id": "b15c8646",
   "metadata": {
    "execution": {
     "iopub.execute_input": "2022-04-29T10:09:10.918487Z",
     "iopub.status.busy": "2022-04-29T10:09:10.917796Z",
     "iopub.status.idle": "2022-04-29T10:09:10.930961Z",
     "shell.execute_reply": "2022-04-29T10:09:10.930400Z"
    },
    "papermill": {
     "duration": 0.056116,
     "end_time": "2022-04-29T10:09:10.931121",
     "exception": false,
     "start_time": "2022-04-29T10:09:10.875005",
     "status": "completed"
    },
    "tags": []
   },
   "outputs": [],
   "source": [
    "%load_ext autoreload\n",
    "%autoreload 2"
   ]
  },
  {
   "cell_type": "code",
   "execution_count": 2,
   "id": "22ef38dc",
   "metadata": {
    "execution": {
     "iopub.execute_input": "2022-04-29T10:09:10.999424Z",
     "iopub.status.busy": "2022-04-29T10:09:10.998698Z",
     "iopub.status.idle": "2022-04-29T10:09:11.648454Z",
     "shell.execute_reply": "2022-04-29T10:09:11.649019Z"
    },
    "papermill": {
     "duration": 0.685718,
     "end_time": "2022-04-29T10:09:11.649189",
     "exception": false,
     "start_time": "2022-04-29T10:09:10.963471",
     "status": "completed"
    },
    "tags": []
   },
   "outputs": [],
   "source": [
    "%matplotlib inline\n",
    "import numpy as np\n",
    "import matplotlib.pyplot as plt\n",
    "import pandas as pd"
   ]
  },
  {
   "cell_type": "markdown",
   "id": "ba036198",
   "metadata": {
    "papermill": {
     "duration": 0.02956,
     "end_time": "2022-04-29T10:09:11.708665",
     "exception": false,
     "start_time": "2022-04-29T10:09:11.679105",
     "status": "completed"
    },
    "tags": []
   },
   "source": [
    "From the command line run `pip install mnist`. This is a library that will help you bring down the mnist dataset. If you run this from a notebook, you need to put  `!pip install mnist` in a cell by itself."
   ]
  },
  {
   "cell_type": "code",
   "execution_count": 3,
   "id": "bb6ad8a1",
   "metadata": {
    "execution": {
     "iopub.execute_input": "2022-04-29T10:09:11.786715Z",
     "iopub.status.busy": "2022-04-29T10:09:11.774573Z",
     "iopub.status.idle": "2022-04-29T10:09:14.554957Z",
     "shell.execute_reply": "2022-04-29T10:09:14.554392Z"
    },
    "papermill": {
     "duration": 2.817973,
     "end_time": "2022-04-29T10:09:14.555105",
     "exception": false,
     "start_time": "2022-04-29T10:09:11.737132",
     "status": "completed"
    },
    "tags": []
   },
   "outputs": [
    {
     "name": "stdout",
     "output_type": "stream",
     "text": [
      "Collecting mnist\r\n"
     ]
    },
    {
     "name": "stdout",
     "output_type": "stream",
     "text": [
      "  Downloading mnist-0.2.2-py2.py3-none-any.whl (3.5 kB)\r\n",
      "Requirement already satisfied: numpy in /opt/hostedtoolcache/Python/3.6.15/x64/lib/python3.6/site-packages (from mnist) (1.19.5)\r\n"
     ]
    },
    {
     "name": "stdout",
     "output_type": "stream",
     "text": [
      "Installing collected packages: mnist\r\n"
     ]
    },
    {
     "name": "stdout",
     "output_type": "stream",
     "text": [
      "Successfully installed mnist-0.2.2\r\n"
     ]
    }
   ],
   "source": [
    "!pip install mnist"
   ]
  },
  {
   "cell_type": "markdown",
   "id": "69df9c9a",
   "metadata": {
    "papermill": {
     "duration": 0.030901,
     "end_time": "2022-04-29T10:09:14.616274",
     "exception": false,
     "start_time": "2022-04-29T10:09:14.585373",
     "status": "completed"
    },
    "tags": []
   },
   "source": [
    "## Preparing the Data"
   ]
  },
  {
   "cell_type": "code",
   "execution_count": 4,
   "id": "7f69d806",
   "metadata": {
    "execution": {
     "iopub.execute_input": "2022-04-29T10:09:14.692601Z",
     "iopub.status.busy": "2022-04-29T10:09:14.691888Z",
     "iopub.status.idle": "2022-04-29T10:09:14.703596Z",
     "shell.execute_reply": "2022-04-29T10:09:14.703012Z"
    },
    "papermill": {
     "duration": 0.057261,
     "end_time": "2022-04-29T10:09:14.703746",
     "exception": false,
     "start_time": "2022-04-29T10:09:14.646485",
     "status": "completed"
    },
    "tags": []
   },
   "outputs": [],
   "source": [
    "import mnist"
   ]
  },
  {
   "cell_type": "code",
   "execution_count": 5,
   "id": "a411e44f",
   "metadata": {
    "execution": {
     "iopub.execute_input": "2022-04-29T10:09:14.773990Z",
     "iopub.status.busy": "2022-04-29T10:09:14.773312Z",
     "iopub.status.idle": "2022-04-29T10:09:15.578872Z",
     "shell.execute_reply": "2022-04-29T10:09:15.577733Z"
    },
    "papermill": {
     "duration": 0.844389,
     "end_time": "2022-04-29T10:09:15.579023",
     "exception": false,
     "start_time": "2022-04-29T10:09:14.734634",
     "status": "completed"
    },
    "tags": []
   },
   "outputs": [],
   "source": [
    "train_images = mnist.train_images()\n",
    "train_labels = mnist.train_labels()"
   ]
  },
  {
   "cell_type": "code",
   "execution_count": 6,
   "id": "dceab3a5",
   "metadata": {
    "execution": {
     "iopub.execute_input": "2022-04-29T10:09:15.647223Z",
     "iopub.status.busy": "2022-04-29T10:09:15.646547Z",
     "iopub.status.idle": "2022-04-29T10:09:15.662517Z",
     "shell.execute_reply": "2022-04-29T10:09:15.661955Z"
    },
    "papermill": {
     "duration": 0.052006,
     "end_time": "2022-04-29T10:09:15.662659",
     "exception": false,
     "start_time": "2022-04-29T10:09:15.610653",
     "status": "completed"
    },
    "tags": []
   },
   "outputs": [
    {
     "data": {
      "text/plain": [
       "((60000, 28, 28), (60000,))"
      ]
     },
     "execution_count": 6,
     "metadata": {},
     "output_type": "execute_result"
    }
   ],
   "source": [
    "train_images.shape, train_labels.shape"
   ]
  },
  {
   "cell_type": "code",
   "execution_count": 7,
   "id": "f50dc2bb",
   "metadata": {
    "execution": {
     "iopub.execute_input": "2022-04-29T10:09:15.730032Z",
     "iopub.status.busy": "2022-04-29T10:09:15.729384Z",
     "iopub.status.idle": "2022-04-29T10:09:15.909388Z",
     "shell.execute_reply": "2022-04-29T10:09:15.908810Z"
    },
    "papermill": {
     "duration": 0.215428,
     "end_time": "2022-04-29T10:09:15.909809",
     "exception": false,
     "start_time": "2022-04-29T10:09:15.694381",
     "status": "completed"
    },
    "tags": []
   },
   "outputs": [],
   "source": [
    "test_images = mnist.test_images()\n",
    "test_labels = mnist.test_labels()"
   ]
  },
  {
   "cell_type": "code",
   "execution_count": 8,
   "id": "fc38cf1b",
   "metadata": {
    "execution": {
     "iopub.execute_input": "2022-04-29T10:09:15.981458Z",
     "iopub.status.busy": "2022-04-29T10:09:15.976126Z",
     "iopub.status.idle": "2022-04-29T10:09:15.991463Z",
     "shell.execute_reply": "2022-04-29T10:09:15.990886Z"
    },
    "papermill": {
     "duration": 0.050511,
     "end_time": "2022-04-29T10:09:15.991610",
     "exception": false,
     "start_time": "2022-04-29T10:09:15.941099",
     "status": "completed"
    },
    "tags": []
   },
   "outputs": [
    {
     "data": {
      "text/plain": [
       "((10000, 28, 28), (10000,))"
      ]
     },
     "execution_count": 8,
     "metadata": {},
     "output_type": "execute_result"
    }
   ],
   "source": [
    "test_images.shape, test_labels.shape"
   ]
  },
  {
   "cell_type": "code",
   "execution_count": 9,
   "id": "f9ed8fe0",
   "metadata": {
    "execution": {
     "iopub.execute_input": "2022-04-29T10:09:16.064766Z",
     "iopub.status.busy": "2022-04-29T10:09:16.064085Z",
     "iopub.status.idle": "2022-04-29T10:09:16.247155Z",
     "shell.execute_reply": "2022-04-29T10:09:16.246600Z"
    },
    "papermill": {
     "duration": 0.221233,
     "end_time": "2022-04-29T10:09:16.247302",
     "exception": false,
     "start_time": "2022-04-29T10:09:16.026069",
     "status": "completed"
    },
    "tags": []
   },
   "outputs": [
    {
     "name": "stdout",
     "output_type": "stream",
     "text": [
      "2\n"
     ]
    },
    {
     "data": {
      "text/plain": [
       "<matplotlib.image.AxesImage at 0x7f337f4c3358>"
      ]
     },
     "execution_count": 9,
     "metadata": {},
     "output_type": "execute_result"
    },
    {
     "data": {
      "image/png": "[encoded data removed]",
      "text/plain": [
       "<Figure size 432x288 with 1 Axes>"
      ]
     },
     "metadata": {
      "needs_background": "light"
     },
     "output_type": "display_data"
    }
   ],
   "source": [
    "image_index = 7776 # You may select anything up to 60,000\n",
    "print(train_labels[image_index]) \n",
    "plt.imshow(train_images[image_index], cmap='Greys')"
   ]
  },
  {
   "cell_type": "markdown",
   "id": "a8d2388d",
   "metadata": {
    "papermill": {
     "duration": 0.032248,
     "end_time": "2022-04-29T10:09:16.313035",
     "exception": false,
     "start_time": "2022-04-29T10:09:16.280787",
     "status": "completed"
    },
    "tags": []
   },
   "source": [
    "## Filter data to get 3 and 8 out"
   ]
  },
  {
   "cell_type": "code",
   "execution_count": 10,
   "id": "776f7fc7",
   "metadata": {
    "execution": {
     "iopub.execute_input": "2022-04-29T10:09:16.383015Z",
     "iopub.status.busy": "2022-04-29T10:09:16.382355Z",
     "iopub.status.idle": "2022-04-29T10:09:16.401059Z",
     "shell.execute_reply": "2022-04-29T10:09:16.400462Z"
    },
    "papermill": {
     "duration": 0.055418,
     "end_time": "2022-04-29T10:09:16.401202",
     "exception": false,
     "start_time": "2022-04-29T10:09:16.345784",
     "status": "completed"
    },
    "tags": []
   },
   "outputs": [],
   "source": [
    "train_filter = np.where((train_labels == 3 ) | (train_labels == 8))\n",
    "test_filter = np.where((test_labels == 3) | (test_labels == 8))\n",
    "X_train, y_train = train_images[train_filter], train_labels[train_filter]\n",
    "X_test, y_test = test_images[test_filter], test_labels[test_filter]"
   ]
  },
  {
   "cell_type": "markdown",
   "id": "948f0b7e",
   "metadata": {
    "papermill": {
     "duration": 0.03285,
     "end_time": "2022-04-29T10:09:16.468862",
     "exception": false,
     "start_time": "2022-04-29T10:09:16.436012",
     "status": "completed"
    },
    "tags": []
   },
   "source": [
    "We normalize the pizel values in the 0 to 1 range"
   ]
  },
  {
   "cell_type": "code",
   "execution_count": 11,
   "id": "ee4c2166",
   "metadata": {
    "execution": {
     "iopub.execute_input": "2022-04-29T10:09:16.537758Z",
     "iopub.status.busy": "2022-04-29T10:09:16.537094Z",
     "iopub.status.idle": "2022-04-29T10:09:16.599231Z",
     "shell.execute_reply": "2022-04-29T10:09:16.599766Z"
    },
    "papermill": {
     "duration": 0.098234,
     "end_time": "2022-04-29T10:09:16.599933",
     "exception": false,
     "start_time": "2022-04-29T10:09:16.501699",
     "status": "completed"
    },
    "tags": []
   },
   "outputs": [],
   "source": [
    "X_train = X_train/255.\n",
    "X_test = X_test/255."
   ]
  },
  {
   "cell_type": "markdown",
   "id": "ddcf4fab",
   "metadata": {
    "papermill": {
     "duration": 0.03189,
     "end_time": "2022-04-29T10:09:16.664847",
     "exception": false,
     "start_time": "2022-04-29T10:09:16.632957",
     "status": "completed"
    },
    "tags": []
   },
   "source": [
    "And setup the labels as 1 (when the digit is 3) and 0 (when the digit is 8)"
   ]
  },
  {
   "cell_type": "code",
   "execution_count": 12,
   "id": "7dc908f2",
   "metadata": {
    "execution": {
     "iopub.execute_input": "2022-04-29T10:09:16.747545Z",
     "iopub.status.busy": "2022-04-29T10:09:16.739834Z",
     "iopub.status.idle": "2022-04-29T10:09:16.750833Z",
     "shell.execute_reply": "2022-04-29T10:09:16.750305Z"
    },
    "papermill": {
     "duration": 0.051664,
     "end_time": "2022-04-29T10:09:16.750964",
     "exception": false,
     "start_time": "2022-04-29T10:09:16.699300",
     "status": "completed"
    },
    "tags": []
   },
   "outputs": [],
   "source": [
    "y_train = 1*(y_train==3)\n",
    "y_test = 1*(y_test==3)"
   ]
  },
  {
   "cell_type": "code",
   "execution_count": 13,
   "id": "01e4e969",
   "metadata": {
    "execution": {
     "iopub.execute_input": "2022-04-29T10:09:16.822880Z",
     "iopub.status.busy": "2022-04-29T10:09:16.822223Z",
     "iopub.status.idle": "2022-04-29T10:09:16.836756Z",
     "shell.execute_reply": "2022-04-29T10:09:16.835815Z"
    },
    "papermill": {
     "duration": 0.053209,
     "end_time": "2022-04-29T10:09:16.836895",
     "exception": false,
     "start_time": "2022-04-29T10:09:16.783686",
     "status": "completed"
    },
    "tags": []
   },
   "outputs": [
    {
     "data": {
      "text/plain": [
       "((11982, 28, 28), (1984, 28, 28))"
      ]
     },
     "execution_count": 13,
     "metadata": {},
     "output_type": "execute_result"
    }
   ],
   "source": [
    "X_train.shape, X_test.shape"
   ]
  },
  {
   "cell_type": "markdown",
   "id": "5ccf3f85",
   "metadata": {
    "papermill": {
     "duration": 0.033376,
     "end_time": "2022-04-29T10:09:16.905340",
     "exception": false,
     "start_time": "2022-04-29T10:09:16.871964",
     "status": "completed"
    },
    "tags": []
   },
   "source": [
    "We reshape the data to flatten the image pixels into a set of features or co-variates:"
   ]
  },
  {
   "cell_type": "code",
   "execution_count": 14,
   "id": "5286a4a3",
   "metadata": {
    "execution": {
     "iopub.execute_input": "2022-04-29T10:09:16.991402Z",
     "iopub.status.busy": "2022-04-29T10:09:16.984905Z",
     "iopub.status.idle": "2022-04-29T10:09:16.994594Z",
     "shell.execute_reply": "2022-04-29T10:09:16.995115Z"
    },
    "papermill": {
     "duration": 0.056529,
     "end_time": "2022-04-29T10:09:16.995270",
     "exception": false,
     "start_time": "2022-04-29T10:09:16.938741",
     "status": "completed"
    },
    "tags": []
   },
   "outputs": [
    {
     "data": {
      "text/plain": [
       "((11982, 784), (1984, 784))"
      ]
     },
     "execution_count": 14,
     "metadata": {},
     "output_type": "execute_result"
    }
   ],
   "source": [
    "X_train = X_train.reshape(X_train.shape[0], -1)\n",
    "X_test = X_test.reshape(X_test.shape[0], -1)\n",
    "X_train.shape, X_test.shape"
   ]
  },
  {
   "cell_type": "code",
   "execution_count": 15,
   "id": "73c5f88a",
   "metadata": {
    "execution": {
     "iopub.execute_input": "2022-04-29T10:09:17.069024Z",
     "iopub.status.busy": "2022-04-29T10:09:17.068338Z",
     "iopub.status.idle": "2022-04-29T10:09:17.090315Z",
     "shell.execute_reply": "2022-04-29T10:09:17.089731Z"
    },
    "papermill": {
     "duration": 0.061071,
     "end_time": "2022-04-29T10:09:17.090461",
     "exception": false,
     "start_time": "2022-04-29T10:09:17.029390",
     "status": "completed"
    },
    "tags": []
   },
   "outputs": [],
   "source": [
    "#Impoting functions from 'Kudzu'\n",
    "from kudzu.model import Model\n",
    "from kudzu.train import Learner\n",
    "from kudzu.optim import GD\n",
    "from kudzu.data import Data, Sampler,Dataloader\n",
    "\n",
    "from kudzu.callbacks import AccCallback\n",
    "from kudzu.callbacks import ClfCallback\n",
    "\n",
    "from kudzu.loss import MSE\n",
    "\n",
    "from kudzu.layer import Sigmoid,Relu\n",
    "from kudzu.layer import Affine"
   ]
  },
  {
   "cell_type": "markdown",
   "id": "bc01172a",
   "metadata": {
    "papermill": {
     "duration": 0.033107,
     "end_time": "2022-04-29T10:09:17.157937",
     "exception": false,
     "start_time": "2022-04-29T10:09:17.124830",
     "status": "completed"
    },
    "tags": []
   },
   "source": [
    "### Let us create a `Config` class, to store important parameters. \n",
    "This class essentially plays the role of a dictionary."
   ]
  },
  {
   "cell_type": "code",
   "execution_count": 16,
   "id": "978281aa",
   "metadata": {
    "execution": {
     "iopub.execute_input": "2022-04-29T10:09:17.245317Z",
     "iopub.status.busy": "2022-04-29T10:09:17.233689Z",
     "iopub.status.idle": "2022-04-29T10:09:17.249102Z",
     "shell.execute_reply": "2022-04-29T10:09:17.248525Z"
    },
    "papermill": {
     "duration": 0.058368,
     "end_time": "2022-04-29T10:09:17.249249",
     "exception": false,
     "start_time": "2022-04-29T10:09:17.190881",
     "status": "completed"
    },
    "tags": []
   },
   "outputs": [],
   "source": [
    "class Config:\n",
    "    pass\n",
    "config = Config()\n",
    "config.lr = 0.001\n",
    "config.num_epochs = 250\n",
    "config.bs = 50"
   ]
  },
  {
   "cell_type": "markdown",
   "id": "1385fa59",
   "metadata": {
    "papermill": {
     "duration": 0.032695,
     "end_time": "2022-04-29T10:09:17.316063",
     "exception": false,
     "start_time": "2022-04-29T10:09:17.283368",
     "status": "completed"
    },
    "tags": []
   },
   "source": [
    "### Running Models with the Training data\n",
    "Details about the network layers:\n",
    "- A first affine layer has 784 inputs and does 100 affine transforms. These are followed by a Relu\n",
    "- A second affine layer has 100 inputs from the 100 activations of the past layer, and does 100 affine transforms. These are followed by a Relu\n",
    "- A third affine layer has 100 activations and does 2 affine transformations to create an embedding for visualization. There is no non-linearity here.\n",
    "- A final \"logistic regression\" which has an affine transform from 2 inputs to 1 output, which is squeezed through a sigmoid.\n"
   ]
  },
  {
   "cell_type": "code",
   "execution_count": 17,
   "id": "2b9c66db",
   "metadata": {
    "execution": {
     "iopub.execute_input": "2022-04-29T10:09:17.389010Z",
     "iopub.status.busy": "2022-04-29T10:09:17.387138Z",
     "iopub.status.idle": "2022-04-29T10:09:17.401539Z",
     "shell.execute_reply": "2022-04-29T10:09:17.401030Z"
    },
    "papermill": {
     "duration": 0.052673,
     "end_time": "2022-04-29T10:09:17.401673",
     "exception": false,
     "start_time": "2022-04-29T10:09:17.349000",
     "status": "completed"
    },
    "tags": []
   },
   "outputs": [],
   "source": [
    "data = Data(X_train, y_train.reshape(-1,1))\n",
    "sampler = Sampler(data, config.bs, shuffle=True)\n",
    "\n",
    "dl = Dataloader(data, sampler)\n",
    "\n",
    "opt = GD(config.lr)\n",
    "loss = MSE()"
   ]
  },
  {
   "cell_type": "code",
   "execution_count": 18,
   "id": "b275e4c2",
   "metadata": {
    "execution": {
     "iopub.execute_input": "2022-04-29T10:09:17.474500Z",
     "iopub.status.busy": "2022-04-29T10:09:17.473809Z",
     "iopub.status.idle": "2022-04-29T10:09:17.488350Z",
     "shell.execute_reply": "2022-04-29T10:09:17.487714Z"
    },
    "papermill": {
     "duration": 0.053519,
     "end_time": "2022-04-29T10:09:17.488506",
     "exception": false,
     "start_time": "2022-04-29T10:09:17.434987",
     "status": "completed"
    },
    "tags": []
   },
   "outputs": [],
   "source": [
    "training_data_x = X_train\n",
    "testing_data_x = X_test\n",
    "training_data_y = y_train.reshape(-1,1)\n",
    "testing_data_y = y_test.reshape(-1,1)"
   ]
  },
  {
   "cell_type": "code",
   "execution_count": 19,
   "id": "76951160",
   "metadata": {
    "execution": {
     "iopub.execute_input": "2022-04-29T10:09:17.562134Z",
     "iopub.status.busy": "2022-04-29T10:09:17.561443Z",
     "iopub.status.idle": "2022-04-29T10:09:17.580618Z",
     "shell.execute_reply": "2022-04-29T10:09:17.579929Z"
    },
    "papermill": {
     "duration": 0.057791,
     "end_time": "2022-04-29T10:09:17.580759",
     "exception": false,
     "start_time": "2022-04-29T10:09:17.522968",
     "status": "completed"
    },
    "tags": []
   },
   "outputs": [
    {
     "name": "stdout",
     "output_type": "stream",
     "text": [
      "xavier\n",
      "xavier\n",
      "xavier\n",
      "xavier\n",
      "xavier\n"
     ]
    }
   ],
   "source": [
    "layers = [Affine(\"first\", 784, 100), Relu(\"first\"), Affine(\"second\", 100, 100), Relu(\"second\"), Affine(\"third\", 100, 2), Affine(\"last\", 2, 1), Sigmoid(\"last\")]\n",
    "model_nn = Model(layers)\n",
    "model_lr = Model([Affine(\"logits\", 784, 1), Sigmoid(\"sigmoid\")])"
   ]
  },
  {
   "cell_type": "code",
   "execution_count": 20,
   "id": "6eede77a",
   "metadata": {
    "execution": {
     "iopub.execute_input": "2022-04-29T10:09:17.655801Z",
     "iopub.status.busy": "2022-04-29T10:09:17.655126Z",
     "iopub.status.idle": "2022-04-29T10:09:17.667292Z",
     "shell.execute_reply": "2022-04-29T10:09:17.667869Z"
    },
    "papermill": {
     "duration": 0.053146,
     "end_time": "2022-04-29T10:09:17.668040",
     "exception": false,
     "start_time": "2022-04-29T10:09:17.614894",
     "status": "completed"
    },
    "tags": []
   },
   "outputs": [],
   "source": [
    "nn_learner = Learner(loss, model_nn, opt, config.num_epochs)\n",
    "acc_nn = ClfCallback(nn_learner, config.bs, training_data_x , testing_data_x, training_data_y, testing_data_y)\n",
    "nn_learner.set_callbacks([acc_nn])"
   ]
  },
  {
   "cell_type": "code",
   "execution_count": 21,
   "id": "877b6cc7",
   "metadata": {
    "execution": {
     "iopub.execute_input": "2022-04-29T10:09:17.745798Z",
     "iopub.status.busy": "2022-04-29T10:09:17.745147Z",
     "iopub.status.idle": "2022-04-29T10:09:17.756604Z",
     "shell.execute_reply": "2022-04-29T10:09:17.755970Z"
    },
    "papermill": {
     "duration": 0.055509,
     "end_time": "2022-04-29T10:09:17.756741",
     "exception": false,
     "start_time": "2022-04-29T10:09:17.701232",
     "status": "completed"
    },
    "tags": []
   },
   "outputs": [],
   "source": [
    "lr_learner = Learner(loss, model_lr, opt, config.num_epochs)\n",
    "acc_lr = ClfCallback(lr_learner, config.bs, training_data_x , testing_data_x, training_data_y, testing_data_y)\n",
    "lr_learner.set_callbacks([acc_lr])"
   ]
  },
  {
   "cell_type": "code",
   "execution_count": 22,
   "id": "d9b133c3",
   "metadata": {
    "execution": {
     "iopub.execute_input": "2022-04-29T10:09:17.831888Z",
     "iopub.status.busy": "2022-04-29T10:09:17.831222Z",
     "iopub.status.idle": "2022-04-29T10:11:26.555385Z",
     "shell.execute_reply": "2022-04-29T10:11:26.556267Z"
    },
    "papermill": {
     "duration": 128.764133,
     "end_time": "2022-04-29T10:11:26.556429",
     "exception": false,
     "start_time": "2022-04-29T10:09:17.792296",
     "status": "completed"
    },
    "tags": []
   },
   "outputs": [
    {
     "name": "stdout",
     "output_type": "stream",
     "text": [
      "Epoch 0, Loss 0.2304\n",
      "Training Accuracy: 0.7417, Testing Accuracy: 0.7339\n",
      "\n"
     ]
    },
    {
     "name": "stdout",
     "output_type": "stream",
     "text": [
      "Epoch 10, Loss 0.0797\n",
      "Training Accuracy: 0.9215, Testing Accuracy: 0.9279\n",
      "\n"
     ]
    },
    {
     "name": "stdout",
     "output_type": "stream",
     "text": [
      "Epoch 20, Loss 0.0523\n",
      "Training Accuracy: 0.9432, Testing Accuracy: 0.9496\n",
      "\n"
     ]
    },
    {
     "name": "stdout",
     "output_type": "stream",
     "text": [
      "Epoch 30, Loss 0.0425\n",
      "Training Accuracy: 0.9518, Testing Accuracy: 0.9602\n",
      "\n"
     ]
    },
    {
     "name": "stdout",
     "output_type": "stream",
     "text": [
      "Epoch 40, Loss 0.0374\n",
      "Training Accuracy: 0.9568, Testing Accuracy: 0.9632\n",
      "\n"
     ]
    },
    {
     "name": "stdout",
     "output_type": "stream",
     "text": [
      "Epoch 50, Loss 0.0342\n",
      "Training Accuracy: 0.9604, Testing Accuracy: 0.9657\n",
      "\n"
     ]
    },
    {
     "name": "stdout",
     "output_type": "stream",
     "text": [
      "Epoch 60, Loss 0.0319\n",
      "Training Accuracy: 0.9625, Testing Accuracy: 0.9652\n",
      "\n"
     ]
    },
    {
     "name": "stdout",
     "output_type": "stream",
     "text": [
      "Epoch 70, Loss 0.0302\n",
      "Training Accuracy: 0.9646, Testing Accuracy: 0.9682\n",
      "\n"
     ]
    },
    {
     "name": "stdout",
     "output_type": "stream",
     "text": [
      "Epoch 80, Loss 0.0289\n",
      "Training Accuracy: 0.9667, Testing Accuracy: 0.9688\n",
      "\n"
     ]
    },
    {
     "name": "stdout",
     "output_type": "stream",
     "text": [
      "Epoch 90, Loss 0.0277\n",
      "Training Accuracy: 0.9680, Testing Accuracy: 0.9688\n",
      "\n"
     ]
    },
    {
     "name": "stdout",
     "output_type": "stream",
     "text": [
      "Epoch 100, Loss 0.0267\n",
      "Training Accuracy: 0.9692, Testing Accuracy: 0.9688\n",
      "\n"
     ]
    },
    {
     "name": "stdout",
     "output_type": "stream",
     "text": [
      "Epoch 110, Loss 0.0259\n",
      "Training Accuracy: 0.9703, Testing Accuracy: 0.9688\n",
      "\n"
     ]
    },
    {
     "name": "stdout",
     "output_type": "stream",
     "text": [
      "Epoch 120, Loss 0.0252\n",
      "Training Accuracy: 0.9711, Testing Accuracy: 0.9698\n",
      "\n"
     ]
    },
    {
     "name": "stdout",
     "output_type": "stream",
     "text": [
      "Epoch 130, Loss 0.0245\n",
      "Training Accuracy: 0.9718, Testing Accuracy: 0.9708\n",
      "\n"
     ]
    },
    {
     "name": "stdout",
     "output_type": "stream",
     "text": [
      "Epoch 140, Loss 0.0239\n",
      "Training Accuracy: 0.9727, Testing Accuracy: 0.9708\n",
      "\n"
     ]
    },
    {
     "name": "stdout",
     "output_type": "stream",
     "text": [
      "Epoch 150, Loss 0.0233\n",
      "Training Accuracy: 0.9735, Testing Accuracy: 0.9708\n",
      "\n"
     ]
    },
    {
     "name": "stdout",
     "output_type": "stream",
     "text": [
      "Epoch 160, Loss 0.0227\n",
      "Training Accuracy: 0.9742, Testing Accuracy: 0.9708\n",
      "\n"
     ]
    },
    {
     "name": "stdout",
     "output_type": "stream",
     "text": [
      "Epoch 170, Loss 0.0222\n",
      "Training Accuracy: 0.9747, Testing Accuracy: 0.9708\n",
      "\n"
     ]
    },
    {
     "name": "stdout",
     "output_type": "stream",
     "text": [
      "Epoch 180, Loss 0.0217\n",
      "Training Accuracy: 0.9760, Testing Accuracy: 0.9713\n",
      "\n"
     ]
    },
    {
     "name": "stdout",
     "output_type": "stream",
     "text": [
      "Epoch 190, Loss 0.0213\n",
      "Training Accuracy: 0.9765, Testing Accuracy: 0.9713\n",
      "\n"
     ]
    },
    {
     "name": "stdout",
     "output_type": "stream",
     "text": [
      "Epoch 200, Loss 0.0208\n",
      "Training Accuracy: 0.9766, Testing Accuracy: 0.9718\n",
      "\n"
     ]
    },
    {
     "name": "stdout",
     "output_type": "stream",
     "text": [
      "Epoch 210, Loss 0.0204\n",
      "Training Accuracy: 0.9772, Testing Accuracy: 0.9718\n",
      "\n"
     ]
    },
    {
     "name": "stdout",
     "output_type": "stream",
     "text": [
      "Epoch 220, Loss 0.02\n",
      "Training Accuracy: 0.9774, Testing Accuracy: 0.9718\n",
      "\n"
     ]
    },
    {
     "name": "stdout",
     "output_type": "stream",
     "text": [
      "Epoch 230, Loss 0.0196\n",
      "Training Accuracy: 0.9775, Testing Accuracy: 0.9713\n",
      "\n"
     ]
    },
    {
     "name": "stdout",
     "output_type": "stream",
     "text": [
      "Epoch 240, Loss 0.0193\n",
      "Training Accuracy: 0.9783, Testing Accuracy: 0.9718\n",
      "\n"
     ]
    },
    {
     "data": {
      "text/plain": [
       "0.008314325984760658"
      ]
     },
     "execution_count": 22,
     "metadata": {},
     "output_type": "execute_result"
    }
   ],
   "source": [
    "nn_learner.train_loop(dl)"
   ]
  },
  {
   "cell_type": "code",
   "execution_count": 23,
   "id": "e0163366",
   "metadata": {
    "execution": {
     "iopub.execute_input": "2022-04-29T10:11:26.650064Z",
     "iopub.status.busy": "2022-04-29T10:11:26.649415Z",
     "iopub.status.idle": "2022-04-29T10:11:44.990350Z",
     "shell.execute_reply": "2022-04-29T10:11:44.991218Z"
    },
    "papermill": {
     "duration": 18.39255,
     "end_time": "2022-04-29T10:11:44.991395",
     "exception": false,
     "start_time": "2022-04-29T10:11:26.598845",
     "status": "completed"
    },
    "tags": []
   },
   "outputs": [
    {
     "name": "stdout",
     "output_type": "stream",
     "text": [
      "Epoch 0, Loss 0.2133\n",
      "Training Accuracy: 0.7820, Testing Accuracy: 0.7707\n",
      "\n"
     ]
    },
    {
     "name": "stdout",
     "output_type": "stream",
     "text": [
      "Epoch 10, Loss 0.0988\n",
      "Training Accuracy: 0.9122, Testing Accuracy: 0.9148\n",
      "\n"
     ]
    },
    {
     "name": "stdout",
     "output_type": "stream",
     "text": [
      "Epoch 20, Loss 0.0772\n",
      "Training Accuracy: 0.9288, Testing Accuracy: 0.9380\n",
      "\n"
     ]
    },
    {
     "name": "stdout",
     "output_type": "stream",
     "text": [
      "Epoch 30, Loss 0.0669\n",
      "Training Accuracy: 0.9391, Testing Accuracy: 0.9456\n",
      "\n"
     ]
    },
    {
     "name": "stdout",
     "output_type": "stream",
     "text": [
      "Epoch 40, Loss 0.0606\n",
      "Training Accuracy: 0.9435, Testing Accuracy: 0.9501\n",
      "\n"
     ]
    },
    {
     "name": "stdout",
     "output_type": "stream",
     "text": [
      "Epoch 50, Loss 0.0563\n",
      "Training Accuracy: 0.9478, Testing Accuracy: 0.9551\n",
      "\n"
     ]
    },
    {
     "name": "stdout",
     "output_type": "stream",
     "text": [
      "Epoch 60, Loss 0.0531\n",
      "Training Accuracy: 0.9498, Testing Accuracy: 0.9572\n",
      "\n"
     ]
    },
    {
     "name": "stdout",
     "output_type": "stream",
     "text": [
      "Epoch 70, Loss 0.0506\n",
      "Training Accuracy: 0.9508, Testing Accuracy: 0.9592\n",
      "\n"
     ]
    },
    {
     "name": "stdout",
     "output_type": "stream",
     "text": [
      "Epoch 80, Loss 0.0486\n",
      "Training Accuracy: 0.9528, Testing Accuracy: 0.9597\n",
      "\n"
     ]
    },
    {
     "name": "stdout",
     "output_type": "stream",
     "text": [
      "Epoch 90, Loss 0.047\n",
      "Training Accuracy: 0.9538, Testing Accuracy: 0.9622\n",
      "\n"
     ]
    },
    {
     "name": "stdout",
     "output_type": "stream",
     "text": [
      "Epoch 100, Loss 0.0456\n",
      "Training Accuracy: 0.9541, Testing Accuracy: 0.9622\n",
      "\n"
     ]
    },
    {
     "name": "stdout",
     "output_type": "stream",
     "text": [
      "Epoch 110, Loss 0.0444\n",
      "Training Accuracy: 0.9553, Testing Accuracy: 0.9632\n",
      "\n"
     ]
    },
    {
     "name": "stdout",
     "output_type": "stream",
     "text": [
      "Epoch 120, Loss 0.0434\n",
      "Training Accuracy: 0.9564, Testing Accuracy: 0.9637\n",
      "\n"
     ]
    },
    {
     "name": "stdout",
     "output_type": "stream",
     "text": [
      "Epoch 130, Loss 0.0425\n",
      "Training Accuracy: 0.9569, Testing Accuracy: 0.9637\n",
      "\n"
     ]
    },
    {
     "name": "stdout",
     "output_type": "stream",
     "text": [
      "Epoch 140, Loss 0.0417\n",
      "Training Accuracy: 0.9571, Testing Accuracy: 0.9642\n",
      "\n"
     ]
    },
    {
     "name": "stdout",
     "output_type": "stream",
     "text": [
      "Epoch 150, Loss 0.0409\n",
      "Training Accuracy: 0.9584, Testing Accuracy: 0.9652\n",
      "\n"
     ]
    },
    {
     "name": "stdout",
     "output_type": "stream",
     "text": [
      "Epoch 160, Loss 0.0403\n",
      "Training Accuracy: 0.9592, Testing Accuracy: 0.9657\n",
      "\n"
     ]
    },
    {
     "name": "stdout",
     "output_type": "stream",
     "text": [
      "Epoch 170, Loss 0.0397\n",
      "Training Accuracy: 0.9596, Testing Accuracy: 0.9667\n",
      "\n"
     ]
    },
    {
     "name": "stdout",
     "output_type": "stream",
     "text": [
      "Epoch 180, Loss 0.0391\n",
      "Training Accuracy: 0.9597, Testing Accuracy: 0.9672\n",
      "\n"
     ]
    },
    {
     "name": "stdout",
     "output_type": "stream",
     "text": [
      "Epoch 190, Loss 0.0386\n",
      "Training Accuracy: 0.9604, Testing Accuracy: 0.9667\n",
      "\n"
     ]
    },
    {
     "name": "stdout",
     "output_type": "stream",
     "text": [
      "Epoch 200, Loss 0.0382\n",
      "Training Accuracy: 0.9604, Testing Accuracy: 0.9672\n",
      "\n"
     ]
    },
    {
     "name": "stdout",
     "output_type": "stream",
     "text": [
      "Epoch 210, Loss 0.0377\n",
      "Training Accuracy: 0.9609, Testing Accuracy: 0.9662\n",
      "\n"
     ]
    },
    {
     "name": "stdout",
     "output_type": "stream",
     "text": [
      "Epoch 220, Loss 0.0373\n",
      "Training Accuracy: 0.9610, Testing Accuracy: 0.9667\n",
      "\n"
     ]
    },
    {
     "name": "stdout",
     "output_type": "stream",
     "text": [
      "Epoch 230, Loss 0.0369\n",
      "Training Accuracy: 0.9613, Testing Accuracy: 0.9662\n",
      "\n"
     ]
    },
    {
     "name": "stdout",
     "output_type": "stream",
     "text": [
      "Epoch 240, Loss 0.0366\n",
      "Training Accuracy: 0.9613, Testing Accuracy: 0.9662\n",
      "\n"
     ]
    },
    {
     "data": {
      "text/plain": [
       "0.07395991010003475"
      ]
     },
     "execution_count": 23,
     "metadata": {},
     "output_type": "execute_result"
    }
   ],
   "source": [
    "lr_learner.train_loop(dl)"
   ]
  },
  {
   "cell_type": "code",
   "execution_count": 24,
   "id": "ca410940",
   "metadata": {
    "execution": {
     "iopub.execute_input": "2022-04-29T10:11:45.104717Z",
     "iopub.status.busy": "2022-04-29T10:11:45.102739Z",
     "iopub.status.idle": "2022-04-29T10:11:45.391087Z",
     "shell.execute_reply": "2022-04-29T10:11:45.391638Z"
    },
    "papermill": {
     "duration": 0.347792,
     "end_time": "2022-04-29T10:11:45.391807",
     "exception": false,
     "start_time": "2022-04-29T10:11:45.044015",
     "status": "completed"
    },
    "tags": []
   },
   "outputs": [
    {
     "data": {
      "text/plain": [
       "<matplotlib.legend.Legend at 0x7f3371d16b00>"
      ]
     },
     "execution_count": 24,
     "metadata": {},
     "output_type": "execute_result"
    },
    {
     "data": {
      "image/png": "[encoded data removed]",
      "text/plain": [
       "<Figure size 1080x720 with 1 Axes>"
      ]
     },
     "metadata": {
      "needs_background": "light"
     },
     "output_type": "display_data"
    }
   ],
   "source": [
    "#comparing the results of NN and LR\n",
    "plt.figure(figsize=(15,10))\n",
    "\n",
    "# Neural Network plots\n",
    "plt.plot(acc_nn.accuracies, 'r-', label = \"Training Accuracies - NN\")\n",
    "plt.plot(acc_nn.test_accuracies, 'g-', label = \"Testing Accuracies - NN\")\n",
    "\n",
    "# Logistic Regression plots\n",
    "plt.plot(acc_lr.accuracies, 'k-', label = \"Training Accuracies - LR\")\n",
    "plt.plot(acc_lr.test_accuracies, 'b-', label = \"Testing Accuracies - LR\")\n",
    "plt.legend()"
   ]
  },
  {
   "cell_type": "markdown",
   "id": "80dfb35c",
   "metadata": {
    "papermill": {
     "duration": 0.052432,
     "end_time": "2022-04-29T10:11:45.495299",
     "exception": false,
     "start_time": "2022-04-29T10:11:45.442867",
     "status": "completed"
    },
    "tags": []
   },
   "source": [
    "#### Plotting the outputs of this layer of the NN.\n"
   ]
  },
  {
   "cell_type": "code",
   "execution_count": 25,
   "id": "45eb2ff5",
   "metadata": {
    "execution": {
     "iopub.execute_input": "2022-04-29T10:11:45.609783Z",
     "iopub.status.busy": "2022-04-29T10:11:45.609095Z",
     "iopub.status.idle": "2022-04-29T10:11:45.631655Z",
     "shell.execute_reply": "2022-04-29T10:11:45.632187Z"
    },
    "papermill": {
     "duration": 0.084836,
     "end_time": "2022-04-29T10:11:45.632401",
     "exception": false,
     "start_time": "2022-04-29T10:11:45.547565",
     "status": "completed"
    },
    "tags": []
   },
   "outputs": [],
   "source": [
    "new_model = Model(layers[:-2])\n",
    "testing_plot = new_model(testing_data_x)"
   ]
  },
  {
   "cell_type": "code",
   "execution_count": 26,
   "id": "4c0a5485",
   "metadata": {
    "execution": {
     "iopub.execute_input": "2022-04-29T10:11:45.750196Z",
     "iopub.status.busy": "2022-04-29T10:11:45.749412Z",
     "iopub.status.idle": "2022-04-29T10:11:46.011583Z",
     "shell.execute_reply": "2022-04-29T10:11:46.011011Z"
    },
    "papermill": {
     "duration": 0.322842,
     "end_time": "2022-04-29T10:11:46.011719",
     "exception": false,
     "start_time": "2022-04-29T10:11:45.688877",
     "status": "completed"
    },
    "tags": []
   },
   "outputs": [
    {
     "data": {
      "text/plain": [
       "Text(0.5, 1.0, 'Outputs')"
      ]
     },
     "execution_count": 26,
     "metadata": {},
     "output_type": "execute_result"
    },
    {
     "data": {
      "image/png": "[encoded data removed]",
      "text/plain": [
       "<Figure size 576x504 with 1 Axes>"
      ]
     },
     "metadata": {
      "needs_background": "light"
     },
     "output_type": "display_data"
    }
   ],
   "source": [
    "# Plotting the scatter plot of points and color coding by class\n",
    "plt.figure(figsize=(8,7))\n",
    "plt.scatter(testing_plot[:,0], testing_plot[:,1], alpha = 0.1, c = y_test.ravel());\n",
    "plt.title('Outputs')"
   ]
  },
  {
   "cell_type": "markdown",
   "id": "a74fcf8f",
   "metadata": {
    "papermill": {
     "duration": 0.052888,
     "end_time": "2022-04-29T10:11:46.119052",
     "exception": false,
     "start_time": "2022-04-29T10:11:46.066164",
     "status": "completed"
    },
    "tags": []
   },
   "source": [
    "Probability contours"
   ]
  },
  {
   "cell_type": "code",
   "execution_count": 27,
   "id": "d0afc8e3",
   "metadata": {
    "execution": {
     "iopub.execute_input": "2022-04-29T10:11:46.273379Z",
     "iopub.status.busy": "2022-04-29T10:11:46.272663Z",
     "iopub.status.idle": "2022-04-29T10:11:46.286053Z",
     "shell.execute_reply": "2022-04-29T10:11:46.286574Z"
    },
    "papermill": {
     "duration": 0.081844,
     "end_time": "2022-04-29T10:11:46.286733",
     "exception": false,
     "start_time": "2022-04-29T10:11:46.204889",
     "status": "completed"
    },
    "tags": []
   },
   "outputs": [],
   "source": [
    "model_prob = Model(layers[-2:]) "
   ]
  },
  {
   "cell_type": "code",
   "execution_count": 28,
   "id": "9b96e238",
   "metadata": {
    "execution": {
     "iopub.execute_input": "2022-04-29T10:11:46.402839Z",
     "iopub.status.busy": "2022-04-29T10:11:46.402180Z",
     "iopub.status.idle": "2022-04-29T10:11:46.416425Z",
     "shell.execute_reply": "2022-04-29T10:11:46.416926Z"
    },
    "papermill": {
     "duration": 0.075713,
     "end_time": "2022-04-29T10:11:46.417087",
     "exception": false,
     "start_time": "2022-04-29T10:11:46.341374",
     "status": "completed"
    },
    "tags": []
   },
   "outputs": [],
   "source": [
    "#creating the x and y ranges according to the above generated plot.\n",
    "x_range = np.linspace(-4, 1, 100) \n",
    "y_range = np.linspace(-6, 6, 100) \n",
    "x_grid, y_grid = np.meshgrid(x_range, y_range) # x_grid and y_grig are of size 100 X 100\n",
    "\n",
    "# converting x_grid and y_grid to continuous arrays\n",
    "x_gridflat = np.ravel(x_grid)\n",
    "y_gridflat = np.ravel(y_grid)\n",
    "\n",
    "# The last layer of the current model takes two columns as input. Hence transpose of np.vstack() is required.\n",
    "X = np.vstack((x_gridflat, y_gridflat)).T\n",
    "\n",
    "prob_contour = model_prob(X).reshape(100,100) "
   ]
  },
  {
   "cell_type": "code",
   "execution_count": 29,
   "id": "da72499a",
   "metadata": {
    "execution": {
     "iopub.execute_input": "2022-04-29T10:11:46.546706Z",
     "iopub.status.busy": "2022-04-29T10:11:46.546008Z",
     "iopub.status.idle": "2022-04-29T10:11:46.857756Z",
     "shell.execute_reply": "2022-04-29T10:11:46.858310Z"
    },
    "papermill": {
     "duration": 0.382458,
     "end_time": "2022-04-29T10:11:46.858478",
     "exception": false,
     "start_time": "2022-04-29T10:11:46.476020",
     "status": "completed"
    },
    "tags": []
   },
   "outputs": [
    {
     "data": {
      "image/png": "[encoded data removed]",
      "text/plain": [
       "<Figure size 720x648 with 1 Axes>"
      ]
     },
     "metadata": {
      "needs_background": "light"
     },
     "output_type": "display_data"
    }
   ],
   "source": [
    "plt.figure(figsize=(10,9))\n",
    "plt.scatter(testing_plot[:,0], testing_plot[:,1], alpha = 0.1, c = y_test.ravel())\n",
    "contours = plt.contour(x_grid,y_grid,prob_contour)\n",
    "plt.title('Probability Contours')\n",
    "plt.clabel(contours, inline = True );"
   ]
  },
  {
   "cell_type": "code",
   "execution_count": null,
   "id": "e81b4ac7",
   "metadata": {
    "papermill": {
     "duration": 0.055282,
     "end_time": "2022-04-29T10:11:46.971711",
     "exception": false,
     "start_time": "2022-04-29T10:11:46.916429",
     "status": "completed"
    },
    "tags": []
   },
   "outputs": [],
   "source": []
  }
 ],
 "metadata": {
  "kernelspec": {
   "display_name": "Python 3",
   "language": "python",
   "name": "python3"
  },
  "language_info": {
   "codemirror_mode": {
    "name": "ipython",
    "version": 3
   },
   "file_extension": ".py",
   "mimetype": "text/x-python",
   "name": "python",
   "nbconvert_exporter": "python",
   "pygments_lexer": "ipython3",
   "version": "3.6.15"
  },
  "papermill": {
   "default_parameters": {},
   "duration": 158.04583,
   "end_time": "2022-04-29T10:11:47.449707",
   "environment_variables": {},
   "exception": null,
   "input_path": "2020-08-11-part2.ipynb",
   "output_path": "2020-08-11-part2.ipynb",
   "parameters": {},
   "start_time": "2022-04-29T10:09:09.403877",
   "version": "2.3.3"
  }
 },
 "nbformat": 4,
 "nbformat_minor": 5
}