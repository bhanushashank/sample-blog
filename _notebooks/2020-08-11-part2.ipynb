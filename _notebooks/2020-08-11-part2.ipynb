{
 "cells": [
  {
   "cell_type": "markdown",
   "id": "98380cd3",
   "metadata": {
    "papermill": {
     "duration": 0.028552,
     "end_time": "2021-12-10T20:07:45.000087",
     "exception": false,
     "start_time": "2021-12-10T20:07:44.971535",
     "status": "completed"
    },
    "tags": []
   },
   "source": [
    "# Distinguish Your Own Digits (DYOD)"
   ]
  },
  {
   "cell_type": "markdown",
   "id": "ef31240d",
   "metadata": {
    "papermill": {
     "duration": 0.023523,
     "end_time": "2021-12-10T20:07:45.047861",
     "exception": false,
     "start_time": "2021-12-10T20:07:45.024338",
     "status": "completed"
    },
    "tags": []
   },
   "source": [
    "You are going to write a classifier that distinguishes between the number 3 and number 8."
   ]
  },
  {
   "cell_type": "code",
   "execution_count": 1,
   "id": "b15c8646",
   "metadata": {
    "execution": {
     "iopub.execute_input": "2021-12-10T20:07:45.105934Z",
     "iopub.status.busy": "2021-12-10T20:07:45.105419Z",
     "iopub.status.idle": "2021-12-10T20:07:45.115395Z",
     "shell.execute_reply": "2021-12-10T20:07:45.115915Z"
    },
    "papermill": {
     "duration": 0.044653,
     "end_time": "2021-12-10T20:07:45.116051",
     "exception": false,
     "start_time": "2021-12-10T20:07:45.071398",
     "status": "completed"
    },
    "tags": []
   },
   "outputs": [],
   "source": [
    "%load_ext autoreload\n",
    "%autoreload 2"
   ]
  },
  {
   "cell_type": "code",
   "execution_count": 2,
   "id": "22ef38dc",
   "metadata": {
    "execution": {
     "iopub.execute_input": "2021-12-10T20:07:45.166798Z",
     "iopub.status.busy": "2021-12-10T20:07:45.166293Z",
     "iopub.status.idle": "2021-12-10T20:07:45.722458Z",
     "shell.execute_reply": "2021-12-10T20:07:45.721939Z"
    },
    "papermill": {
     "duration": 0.582775,
     "end_time": "2021-12-10T20:07:45.722594",
     "exception": false,
     "start_time": "2021-12-10T20:07:45.139819",
     "status": "completed"
    },
    "tags": []
   },
   "outputs": [],
   "source": [
    "%matplotlib inline\n",
    "import numpy as np\n",
    "import matplotlib.pyplot as plt\n",
    "import pandas as pd"
   ]
  },
  {
   "cell_type": "markdown",
   "id": "ba036198",
   "metadata": {
    "papermill": {
     "duration": 0.023757,
     "end_time": "2021-12-10T20:07:45.771511",
     "exception": false,
     "start_time": "2021-12-10T20:07:45.747754",
     "status": "completed"
    },
    "tags": []
   },
   "source": [
    "From the command line run `pip install mnist`. This is a library that will help you bring down the mnist dataset. If you run this from a notebook, you need to put  `!pip install mnist` in a cell by itself."
   ]
  },
  {
   "cell_type": "code",
   "execution_count": 3,
   "id": "bb6ad8a1",
   "metadata": {
    "execution": {
     "iopub.execute_input": "2021-12-10T20:07:45.827687Z",
     "iopub.status.busy": "2021-12-10T20:07:45.827143Z",
     "iopub.status.idle": "2021-12-10T20:07:47.457478Z",
     "shell.execute_reply": "2021-12-10T20:07:47.456928Z"
    },
    "papermill": {
     "duration": 1.662344,
     "end_time": "2021-12-10T20:07:47.457610",
     "exception": false,
     "start_time": "2021-12-10T20:07:45.795266",
     "status": "completed"
    },
    "tags": []
   },
   "outputs": [
    {
     "name": "stdout",
     "output_type": "stream",
     "text": [
      "Collecting mnist\r\n"
     ]
    },
    {
     "name": "stdout",
     "output_type": "stream",
     "text": [
      "  Downloading mnist-0.2.2-py2.py3-none-any.whl (3.5 kB)\r\n",
      "Requirement already satisfied: numpy in /opt/hostedtoolcache/Python/3.6.15/x64/lib/python3.6/site-packages (from mnist) (1.19.5)\r\n"
     ]
    },
    {
     "name": "stdout",
     "output_type": "stream",
     "text": [
      "Installing collected packages: mnist\r\n"
     ]
    },
    {
     "name": "stdout",
     "output_type": "stream",
     "text": [
      "Successfully installed mnist-0.2.2\r\n"
     ]
    }
   ],
   "source": [
    "!pip install mnist"
   ]
  },
  {
   "cell_type": "markdown",
   "id": "69df9c9a",
   "metadata": {
    "papermill": {
     "duration": 0.024956,
     "end_time": "2021-12-10T20:07:47.508292",
     "exception": false,
     "start_time": "2021-12-10T20:07:47.483336",
     "status": "completed"
    },
    "tags": []
   },
   "source": [
    "## Preparing the Data"
   ]
  },
  {
   "cell_type": "code",
   "execution_count": 4,
   "id": "7f69d806",
   "metadata": {
    "execution": {
     "iopub.execute_input": "2021-12-10T20:07:47.561614Z",
     "iopub.status.busy": "2021-12-10T20:07:47.561107Z",
     "iopub.status.idle": "2021-12-10T20:07:47.575268Z",
     "shell.execute_reply": "2021-12-10T20:07:47.575766Z"
    },
    "papermill": {
     "duration": 0.042758,
     "end_time": "2021-12-10T20:07:47.575887",
     "exception": false,
     "start_time": "2021-12-10T20:07:47.533129",
     "status": "completed"
    },
    "tags": []
   },
   "outputs": [],
   "source": [
    "import mnist"
   ]
  },
  {
   "cell_type": "code",
   "execution_count": 5,
   "id": "a411e44f",
   "metadata": {
    "execution": {
     "iopub.execute_input": "2021-12-10T20:07:47.635596Z",
     "iopub.status.busy": "2021-12-10T20:07:47.635056Z",
     "iopub.status.idle": "2021-12-10T20:07:48.212648Z",
     "shell.execute_reply": "2021-12-10T20:07:48.212141Z"
    },
    "papermill": {
     "duration": 0.611854,
     "end_time": "2021-12-10T20:07:48.212767",
     "exception": false,
     "start_time": "2021-12-10T20:07:47.600913",
     "status": "completed"
    },
    "tags": []
   },
   "outputs": [],
   "source": [
    "train_images = mnist.train_images()\n",
    "train_labels = mnist.train_labels()"
   ]
  },
  {
   "cell_type": "code",
   "execution_count": 6,
   "id": "dceab3a5",
   "metadata": {
    "execution": {
     "iopub.execute_input": "2021-12-10T20:07:48.281368Z",
     "iopub.status.busy": "2021-12-10T20:07:48.276257Z",
     "iopub.status.idle": "2021-12-10T20:07:48.286276Z",
     "shell.execute_reply": "2021-12-10T20:07:48.285871Z"
    },
    "papermill": {
     "duration": 0.048394,
     "end_time": "2021-12-10T20:07:48.286377",
     "exception": false,
     "start_time": "2021-12-10T20:07:48.237983",
     "status": "completed"
    },
    "tags": []
   },
   "outputs": [
    {
     "data": {
      "text/plain": [
       "((60000, 28, 28), (60000,))"
      ]
     },
     "execution_count": 6,
     "metadata": {},
     "output_type": "execute_result"
    }
   ],
   "source": [
    "train_images.shape, train_labels.shape"
   ]
  },
  {
   "cell_type": "code",
   "execution_count": 7,
   "id": "f50dc2bb",
   "metadata": {
    "execution": {
     "iopub.execute_input": "2021-12-10T20:07:48.339593Z",
     "iopub.status.busy": "2021-12-10T20:07:48.339069Z",
     "iopub.status.idle": "2021-12-10T20:07:48.531280Z",
     "shell.execute_reply": "2021-12-10T20:07:48.530781Z"
    },
    "papermill": {
     "duration": 0.220012,
     "end_time": "2021-12-10T20:07:48.531410",
     "exception": false,
     "start_time": "2021-12-10T20:07:48.311398",
     "status": "completed"
    },
    "tags": []
   },
   "outputs": [],
   "source": [
    "test_images = mnist.test_images()\n",
    "test_labels = mnist.test_labels()"
   ]
  },
  {
   "cell_type": "code",
   "execution_count": 8,
   "id": "fc38cf1b",
   "metadata": {
    "execution": {
     "iopub.execute_input": "2021-12-10T20:07:48.589781Z",
     "iopub.status.busy": "2021-12-10T20:07:48.589284Z",
     "iopub.status.idle": "2021-12-10T20:07:48.601274Z",
     "shell.execute_reply": "2021-12-10T20:07:48.600854Z"
    },
    "papermill": {
     "duration": 0.043708,
     "end_time": "2021-12-10T20:07:48.601375",
     "exception": false,
     "start_time": "2021-12-10T20:07:48.557667",
     "status": "completed"
    },
    "tags": []
   },
   "outputs": [
    {
     "data": {
      "text/plain": [
       "((10000, 28, 28), (10000,))"
      ]
     },
     "execution_count": 8,
     "metadata": {},
     "output_type": "execute_result"
    }
   ],
   "source": [
    "test_images.shape, test_labels.shape"
   ]
  },
  {
   "cell_type": "code",
   "execution_count": 9,
   "id": "f9ed8fe0",
   "metadata": {
    "execution": {
     "iopub.execute_input": "2021-12-10T20:07:48.656166Z",
     "iopub.status.busy": "2021-12-10T20:07:48.655660Z",
     "iopub.status.idle": "2021-12-10T20:07:48.788774Z",
     "shell.execute_reply": "2021-12-10T20:07:48.789238Z"
    },
    "papermill": {
     "duration": 0.162621,
     "end_time": "2021-12-10T20:07:48.789368",
     "exception": false,
     "start_time": "2021-12-10T20:07:48.626747",
     "status": "completed"
    },
    "tags": []
   },
   "outputs": [
    {
     "name": "stdout",
     "output_type": "stream",
     "text": [
      "2\n"
     ]
    },
    {
     "data": {
      "text/plain": [
       "<matplotlib.image.AxesImage at 0x7fca0c156518>"
      ]
     },
     "execution_count": 9,
     "metadata": {},
     "output_type": "execute_result"
    },
    {
     "data": {
      "image/png": "[encoded data removed]",
      "text/plain": [
       "<Figure size 432x288 with 1 Axes>"
      ]
     },
     "metadata": {
      "needs_background": "light"
     },
     "output_type": "display_data"
    }
   ],
   "source": [
    "image_index = 7776 # You may select anything up to 60,000\n",
    "print(train_labels[image_index]) \n",
    "plt.imshow(train_images[image_index], cmap='Greys')"
   ]
  },
  {
   "cell_type": "markdown",
   "id": "a8d2388d",
   "metadata": {
    "papermill": {
     "duration": 0.026513,
     "end_time": "2021-12-10T20:07:48.842622",
     "exception": false,
     "start_time": "2021-12-10T20:07:48.816109",
     "status": "completed"
    },
    "tags": []
   },
   "source": [
    "## Filter data to get 3 and 8 out"
   ]
  },
  {
   "cell_type": "code",
   "execution_count": 10,
   "id": "776f7fc7",
   "metadata": {
    "execution": {
     "iopub.execute_input": "2021-12-10T20:07:48.910433Z",
     "iopub.status.busy": "2021-12-10T20:07:48.906882Z",
     "iopub.status.idle": "2021-12-10T20:07:48.918701Z",
     "shell.execute_reply": "2021-12-10T20:07:48.918123Z"
    },
    "papermill": {
     "duration": 0.049804,
     "end_time": "2021-12-10T20:07:48.918828",
     "exception": false,
     "start_time": "2021-12-10T20:07:48.869024",
     "status": "completed"
    },
    "tags": []
   },
   "outputs": [],
   "source": [
    "train_filter = np.where((train_labels == 3 ) | (train_labels == 8))\n",
    "test_filter = np.where((test_labels == 3) | (test_labels == 8))\n",
    "X_train, y_train = train_images[train_filter], train_labels[train_filter]\n",
    "X_test, y_test = test_images[test_filter], test_labels[test_filter]"
   ]
  },
  {
   "cell_type": "markdown",
   "id": "948f0b7e",
   "metadata": {
    "papermill": {
     "duration": 0.027339,
     "end_time": "2021-12-10T20:07:48.975846",
     "exception": false,
     "start_time": "2021-12-10T20:07:48.948507",
     "status": "completed"
    },
    "tags": []
   },
   "source": [
    "We normalize the pizel values in the 0 to 1 range"
   ]
  },
  {
   "cell_type": "code",
   "execution_count": 11,
   "id": "ee4c2166",
   "metadata": {
    "execution": {
     "iopub.execute_input": "2021-12-10T20:07:49.043180Z",
     "iopub.status.busy": "2021-12-10T20:07:49.036205Z",
     "iopub.status.idle": "2021-12-10T20:07:49.081682Z",
     "shell.execute_reply": "2021-12-10T20:07:49.081191Z"
    },
    "papermill": {
     "duration": 0.079524,
     "end_time": "2021-12-10T20:07:49.081817",
     "exception": false,
     "start_time": "2021-12-10T20:07:49.002293",
     "status": "completed"
    },
    "tags": []
   },
   "outputs": [],
   "source": [
    "X_train = X_train/255.\n",
    "X_test = X_test/255."
   ]
  },
  {
   "cell_type": "markdown",
   "id": "ddcf4fab",
   "metadata": {
    "papermill": {
     "duration": 0.026689,
     "end_time": "2021-12-10T20:07:49.135662",
     "exception": false,
     "start_time": "2021-12-10T20:07:49.108973",
     "status": "completed"
    },
    "tags": []
   },
   "source": [
    "And setup the labels as 1 (when the digit is 3) and 0 (when the digit is 8)"
   ]
  },
  {
   "cell_type": "code",
   "execution_count": 12,
   "id": "7dc908f2",
   "metadata": {
    "execution": {
     "iopub.execute_input": "2021-12-10T20:07:49.198713Z",
     "iopub.status.busy": "2021-12-10T20:07:49.198209Z",
     "iopub.status.idle": "2021-12-10T20:07:49.206129Z",
     "shell.execute_reply": "2021-12-10T20:07:49.205703Z"
    },
    "papermill": {
     "duration": 0.044124,
     "end_time": "2021-12-10T20:07:49.206230",
     "exception": false,
     "start_time": "2021-12-10T20:07:49.162106",
     "status": "completed"
    },
    "tags": []
   },
   "outputs": [],
   "source": [
    "y_train = 1*(y_train==3)\n",
    "y_test = 1*(y_test==3)"
   ]
  },
  {
   "cell_type": "code",
   "execution_count": 13,
   "id": "01e4e969",
   "metadata": {
    "execution": {
     "iopub.execute_input": "2021-12-10T20:07:49.261922Z",
     "iopub.status.busy": "2021-12-10T20:07:49.261427Z",
     "iopub.status.idle": "2021-12-10T20:07:49.274275Z",
     "shell.execute_reply": "2021-12-10T20:07:49.273874Z"
    },
    "papermill": {
     "duration": 0.041822,
     "end_time": "2021-12-10T20:07:49.274377",
     "exception": false,
     "start_time": "2021-12-10T20:07:49.232555",
     "status": "completed"
    },
    "tags": []
   },
   "outputs": [
    {
     "data": {
      "text/plain": [
       "((11982, 28, 28), (1984, 28, 28))"
      ]
     },
     "execution_count": 13,
     "metadata": {},
     "output_type": "execute_result"
    }
   ],
   "source": [
    "X_train.shape, X_test.shape"
   ]
  },
  {
   "cell_type": "markdown",
   "id": "5ccf3f85",
   "metadata": {
    "papermill": {
     "duration": 0.026567,
     "end_time": "2021-12-10T20:07:49.327672",
     "exception": false,
     "start_time": "2021-12-10T20:07:49.301105",
     "status": "completed"
    },
    "tags": []
   },
   "source": [
    "We reshape the data to flatten the image pixels into a set of features or co-variates:"
   ]
  },
  {
   "cell_type": "code",
   "execution_count": 14,
   "id": "5286a4a3",
   "metadata": {
    "execution": {
     "iopub.execute_input": "2021-12-10T20:07:49.387740Z",
     "iopub.status.busy": "2021-12-10T20:07:49.387210Z",
     "iopub.status.idle": "2021-12-10T20:07:49.397461Z",
     "shell.execute_reply": "2021-12-10T20:07:49.397062Z"
    },
    "papermill": {
     "duration": 0.042766,
     "end_time": "2021-12-10T20:07:49.397559",
     "exception": false,
     "start_time": "2021-12-10T20:07:49.354793",
     "status": "completed"
    },
    "tags": []
   },
   "outputs": [
    {
     "data": {
      "text/plain": [
       "((11982, 784), (1984, 784))"
      ]
     },
     "execution_count": 14,
     "metadata": {},
     "output_type": "execute_result"
    }
   ],
   "source": [
    "X_train = X_train.reshape(X_train.shape[0], -1)\n",
    "X_test = X_test.reshape(X_test.shape[0], -1)\n",
    "X_train.shape, X_test.shape"
   ]
  },
  {
   "cell_type": "code",
   "execution_count": 15,
   "id": "73c5f88a",
   "metadata": {
    "execution": {
     "iopub.execute_input": "2021-12-10T20:07:49.464835Z",
     "iopub.status.busy": "2021-12-10T20:07:49.459244Z",
     "iopub.status.idle": "2021-12-10T20:07:49.474559Z",
     "shell.execute_reply": "2021-12-10T20:07:49.474960Z"
    },
    "papermill": {
     "duration": 0.050624,
     "end_time": "2021-12-10T20:07:49.475067",
     "exception": false,
     "start_time": "2021-12-10T20:07:49.424443",
     "status": "completed"
    },
    "tags": []
   },
   "outputs": [],
   "source": [
    "#Impoting functions from 'Kudzu'\n",
    "from kudzu.model import Model\n",
    "from kudzu.train import Learner\n",
    "from kudzu.optim import GD\n",
    "from kudzu.data import Data, Sampler,Dataloader\n",
    "\n",
    "from kudzu.callbacks import AccCallback\n",
    "from kudzu.callbacks import ClfCallback\n",
    "\n",
    "from kudzu.loss import MSE\n",
    "\n",
    "from kudzu.layer import Sigmoid,Relu\n",
    "from kudzu.layer import Affine"
   ]
  },
  {
   "cell_type": "markdown",
   "id": "bc01172a",
   "metadata": {
    "papermill": {
     "duration": 0.026842,
     "end_time": "2021-12-10T20:07:49.528879",
     "exception": false,
     "start_time": "2021-12-10T20:07:49.502037",
     "status": "completed"
    },
    "tags": []
   },
   "source": [
    "### Let us create a `Config` class, to store important parameters. \n",
    "This class essentially plays the role of a dictionary."
   ]
  },
  {
   "cell_type": "code",
   "execution_count": 16,
   "id": "978281aa",
   "metadata": {
    "execution": {
     "iopub.execute_input": "2021-12-10T20:07:49.595988Z",
     "iopub.status.busy": "2021-12-10T20:07:49.590772Z",
     "iopub.status.idle": "2021-12-10T20:07:49.598243Z",
     "shell.execute_reply": "2021-12-10T20:07:49.597826Z"
    },
    "papermill": {
     "duration": 0.042714,
     "end_time": "2021-12-10T20:07:49.598337",
     "exception": false,
     "start_time": "2021-12-10T20:07:49.555623",
     "status": "completed"
    },
    "tags": []
   },
   "outputs": [],
   "source": [
    "class Config:\n",
    "    pass\n",
    "config = Config()\n",
    "config.lr = 0.001\n",
    "config.num_epochs = 250\n",
    "config.bs = 50"
   ]
  },
  {
   "cell_type": "markdown",
   "id": "1385fa59",
   "metadata": {
    "papermill": {
     "duration": 0.026877,
     "end_time": "2021-12-10T20:07:49.652136",
     "exception": false,
     "start_time": "2021-12-10T20:07:49.625259",
     "status": "completed"
    },
    "tags": []
   },
   "source": [
    "### Running Models with the Training data\n",
    "Details about the network layers:\n",
    "- A first affine layer has 784 inputs and does 100 affine transforms. These are followed by a Relu\n",
    "- A second affine layer has 100 inputs from the 100 activations of the past layer, and does 100 affine transforms. These are followed by a Relu\n",
    "- A third affine layer has 100 activations and does 2 affine transformations to create an embedding for visualization. There is no non-linearity here.\n",
    "- A final \"logistic regression\" which has an affine transform from 2 inputs to 1 output, which is squeezed through a sigmoid.\n"
   ]
  },
  {
   "cell_type": "code",
   "execution_count": 17,
   "id": "2b9c66db",
   "metadata": {
    "execution": {
     "iopub.execute_input": "2021-12-10T20:07:49.718959Z",
     "iopub.status.busy": "2021-12-10T20:07:49.712829Z",
     "iopub.status.idle": "2021-12-10T20:07:49.721603Z",
     "shell.execute_reply": "2021-12-10T20:07:49.721173Z"
    },
    "papermill": {
     "duration": 0.042612,
     "end_time": "2021-12-10T20:07:49.721699",
     "exception": false,
     "start_time": "2021-12-10T20:07:49.679087",
     "status": "completed"
    },
    "tags": []
   },
   "outputs": [],
   "source": [
    "data = Data(X_train, y_train.reshape(-1,1))\n",
    "sampler = Sampler(data, config.bs, shuffle=True)\n",
    "\n",
    "dl = Dataloader(data, sampler)\n",
    "\n",
    "opt = GD(config.lr)\n",
    "loss = MSE()"
   ]
  },
  {
   "cell_type": "code",
   "execution_count": 18,
   "id": "b275e4c2",
   "metadata": {
    "execution": {
     "iopub.execute_input": "2021-12-10T20:07:49.784266Z",
     "iopub.status.busy": "2021-12-10T20:07:49.782964Z",
     "iopub.status.idle": "2021-12-10T20:07:49.791450Z",
     "shell.execute_reply": "2021-12-10T20:07:49.791051Z"
    },
    "papermill": {
     "duration": 0.042941,
     "end_time": "2021-12-10T20:07:49.791548",
     "exception": false,
     "start_time": "2021-12-10T20:07:49.748607",
     "status": "completed"
    },
    "tags": []
   },
   "outputs": [],
   "source": [
    "training_data_x = X_train\n",
    "testing_data_x = X_test\n",
    "training_data_y = y_train.reshape(-1,1)\n",
    "testing_data_y = y_test.reshape(-1,1)"
   ]
  },
  {
   "cell_type": "code",
   "execution_count": 19,
   "id": "76951160",
   "metadata": {
    "execution": {
     "iopub.execute_input": "2021-12-10T20:07:49.848999Z",
     "iopub.status.busy": "2021-12-10T20:07:49.848495Z",
     "iopub.status.idle": "2021-12-10T20:07:49.862817Z",
     "shell.execute_reply": "2021-12-10T20:07:49.863204Z"
    },
    "papermill": {
     "duration": 0.044899,
     "end_time": "2021-12-10T20:07:49.863314",
     "exception": false,
     "start_time": "2021-12-10T20:07:49.818415",
     "status": "completed"
    },
    "tags": []
   },
   "outputs": [
    {
     "name": "stdout",
     "output_type": "stream",
     "text": [
      "xavier\n",
      "xavier\n",
      "xavier\n",
      "xavier\n",
      "xavier\n"
     ]
    }
   ],
   "source": [
    "layers = [Affine(\"first\", 784, 100), Relu(\"first\"), Affine(\"second\", 100, 100), Relu(\"second\"), Affine(\"third\", 100, 2), Affine(\"last\", 2, 1), Sigmoid(\"last\")]\n",
    "model_nn = Model(layers)\n",
    "model_lr = Model([Affine(\"logits\", 784, 1), Sigmoid(\"sigmoid\")])"
   ]
  },
  {
   "cell_type": "code",
   "execution_count": 20,
   "id": "6eede77a",
   "metadata": {
    "execution": {
     "iopub.execute_input": "2021-12-10T20:07:49.922384Z",
     "iopub.status.busy": "2021-12-10T20:07:49.921329Z",
     "iopub.status.idle": "2021-12-10T20:07:49.931735Z",
     "shell.execute_reply": "2021-12-10T20:07:49.932125Z"
    },
    "papermill": {
     "duration": 0.041851,
     "end_time": "2021-12-10T20:07:49.932235",
     "exception": false,
     "start_time": "2021-12-10T20:07:49.890384",
     "status": "completed"
    },
    "tags": []
   },
   "outputs": [],
   "source": [
    "nn_learner = Learner(loss, model_nn, opt, config.num_epochs)\n",
    "acc_nn = ClfCallback(nn_learner, config.bs, training_data_x , testing_data_x, training_data_y, testing_data_y)\n",
    "nn_learner.set_callbacks([acc_nn])"
   ]
  },
  {
   "cell_type": "code",
   "execution_count": 21,
   "id": "877b6cc7",
   "metadata": {
    "execution": {
     "iopub.execute_input": "2021-12-10T20:07:49.997058Z",
     "iopub.status.busy": "2021-12-10T20:07:49.995976Z",
     "iopub.status.idle": "2021-12-10T20:07:50.003026Z",
     "shell.execute_reply": "2021-12-10T20:07:50.002601Z"
    },
    "papermill": {
     "duration": 0.043823,
     "end_time": "2021-12-10T20:07:50.003121",
     "exception": false,
     "start_time": "2021-12-10T20:07:49.959298",
     "status": "completed"
    },
    "tags": []
   },
   "outputs": [],
   "source": [
    "lr_learner = Learner(loss, model_lr, opt, config.num_epochs)\n",
    "acc_lr = ClfCallback(lr_learner, config.bs, training_data_x , testing_data_x, training_data_y, testing_data_y)\n",
    "lr_learner.set_callbacks([acc_lr])"
   ]
  },
  {
   "cell_type": "code",
   "execution_count": 22,
   "id": "d9b133c3",
   "metadata": {
    "execution": {
     "iopub.execute_input": "2021-12-10T20:07:50.060765Z",
     "iopub.status.busy": "2021-12-10T20:07:50.060193Z",
     "iopub.status.idle": "2021-12-10T20:09:03.992966Z",
     "shell.execute_reply": "2021-12-10T20:09:03.993713Z"
    },
    "papermill": {
     "duration": 73.963618,
     "end_time": "2021-12-10T20:09:03.993859",
     "exception": false,
     "start_time": "2021-12-10T20:07:50.030241",
     "status": "completed"
    },
    "tags": []
   },
   "outputs": [
    {
     "name": "stdout",
     "output_type": "stream",
     "text": [
      "Epoch 0, Loss 0.2477\n",
      "Training Accuracy: 0.5785, Testing Accuracy: 0.5675\n",
      "\n"
     ]
    },
    {
     "name": "stdout",
     "output_type": "stream",
     "text": [
      "Epoch 10, Loss 0.2212\n",
      "Training Accuracy: 0.8267, Testing Accuracy: 0.8201\n",
      "\n"
     ]
    },
    {
     "name": "stdout",
     "output_type": "stream",
     "text": [
      "Epoch 20, Loss 0.1353\n",
      "Training Accuracy: 0.8911, Testing Accuracy: 0.9052\n",
      "\n"
     ]
    },
    {
     "name": "stdout",
     "output_type": "stream",
     "text": [
      "Epoch 30, Loss 0.0746\n",
      "Training Accuracy: 0.9238, Testing Accuracy: 0.9335\n",
      "\n"
     ]
    },
    {
     "name": "stdout",
     "output_type": "stream",
     "text": [
      "Epoch 40, Loss 0.0535\n",
      "Training Accuracy: 0.9427, Testing Accuracy: 0.9526\n",
      "\n"
     ]
    },
    {
     "name": "stdout",
     "output_type": "stream",
     "text": [
      "Epoch 50, Loss 0.0436\n",
      "Training Accuracy: 0.9525, Testing Accuracy: 0.9622\n",
      "\n"
     ]
    },
    {
     "name": "stdout",
     "output_type": "stream",
     "text": [
      "Epoch 60, Loss 0.0382\n",
      "Training Accuracy: 0.9572, Testing Accuracy: 0.9647\n",
      "\n"
     ]
    },
    {
     "name": "stdout",
     "output_type": "stream",
     "text": [
      "Epoch 70, Loss 0.0348\n",
      "Training Accuracy: 0.9606, Testing Accuracy: 0.9652\n",
      "\n"
     ]
    },
    {
     "name": "stdout",
     "output_type": "stream",
     "text": [
      "Epoch 80, Loss 0.0325\n",
      "Training Accuracy: 0.9624, Testing Accuracy: 0.9672\n",
      "\n"
     ]
    },
    {
     "name": "stdout",
     "output_type": "stream",
     "text": [
      "Epoch 90, Loss 0.0307\n",
      "Training Accuracy: 0.9635, Testing Accuracy: 0.9667\n",
      "\n"
     ]
    },
    {
     "name": "stdout",
     "output_type": "stream",
     "text": [
      "Epoch 100, Loss 0.0294\n",
      "Training Accuracy: 0.9656, Testing Accuracy: 0.9667\n",
      "\n"
     ]
    },
    {
     "name": "stdout",
     "output_type": "stream",
     "text": [
      "Epoch 110, Loss 0.0282\n",
      "Training Accuracy: 0.9673, Testing Accuracy: 0.9667\n",
      "\n"
     ]
    },
    {
     "name": "stdout",
     "output_type": "stream",
     "text": [
      "Epoch 120, Loss 0.0273\n",
      "Training Accuracy: 0.9684, Testing Accuracy: 0.9682\n",
      "\n"
     ]
    },
    {
     "name": "stdout",
     "output_type": "stream",
     "text": [
      "Epoch 130, Loss 0.0265\n",
      "Training Accuracy: 0.9696, Testing Accuracy: 0.9688\n",
      "\n"
     ]
    },
    {
     "name": "stdout",
     "output_type": "stream",
     "text": [
      "Epoch 140, Loss 0.0257\n",
      "Training Accuracy: 0.9701, Testing Accuracy: 0.9703\n",
      "\n"
     ]
    },
    {
     "name": "stdout",
     "output_type": "stream",
     "text": [
      "Epoch 150, Loss 0.0251\n",
      "Training Accuracy: 0.9712, Testing Accuracy: 0.9703\n",
      "\n"
     ]
    },
    {
     "name": "stdout",
     "output_type": "stream",
     "text": [
      "Epoch 160, Loss 0.0245\n",
      "Training Accuracy: 0.9719, Testing Accuracy: 0.9713\n",
      "\n"
     ]
    },
    {
     "name": "stdout",
     "output_type": "stream",
     "text": [
      "Epoch 170, Loss 0.024\n",
      "Training Accuracy: 0.9724, Testing Accuracy: 0.9708\n",
      "\n"
     ]
    },
    {
     "name": "stdout",
     "output_type": "stream",
     "text": [
      "Epoch 180, Loss 0.0235\n",
      "Training Accuracy: 0.9732, Testing Accuracy: 0.9703\n",
      "\n"
     ]
    },
    {
     "name": "stdout",
     "output_type": "stream",
     "text": [
      "Epoch 190, Loss 0.023\n",
      "Training Accuracy: 0.9735, Testing Accuracy: 0.9708\n",
      "\n"
     ]
    },
    {
     "name": "stdout",
     "output_type": "stream",
     "text": [
      "Epoch 200, Loss 0.0226\n",
      "Training Accuracy: 0.9738, Testing Accuracy: 0.9713\n",
      "\n"
     ]
    },
    {
     "name": "stdout",
     "output_type": "stream",
     "text": [
      "Epoch 210, Loss 0.0222\n",
      "Training Accuracy: 0.9743, Testing Accuracy: 0.9713\n",
      "\n"
     ]
    },
    {
     "name": "stdout",
     "output_type": "stream",
     "text": [
      "Epoch 220, Loss 0.0218\n",
      "Training Accuracy: 0.9747, Testing Accuracy: 0.9713\n",
      "\n"
     ]
    },
    {
     "name": "stdout",
     "output_type": "stream",
     "text": [
      "Epoch 230, Loss 0.0214\n",
      "Training Accuracy: 0.9752, Testing Accuracy: 0.9718\n",
      "\n"
     ]
    },
    {
     "name": "stdout",
     "output_type": "stream",
     "text": [
      "Epoch 240, Loss 0.021\n",
      "Training Accuracy: 0.9755, Testing Accuracy: 0.9718\n",
      "\n"
     ]
    },
    {
     "data": {
      "text/plain": [
       "0.029141613195850513"
      ]
     },
     "execution_count": 22,
     "metadata": {},
     "output_type": "execute_result"
    }
   ],
   "source": [
    "nn_learner.train_loop(dl)"
   ]
  },
  {
   "cell_type": "code",
   "execution_count": 23,
   "id": "e0163366",
   "metadata": {
    "execution": {
     "iopub.execute_input": "2021-12-10T20:09:04.075128Z",
     "iopub.status.busy": "2021-12-10T20:09:04.074620Z",
     "iopub.status.idle": "2021-12-10T20:09:17.183630Z",
     "shell.execute_reply": "2021-12-10T20:09:17.184372Z"
    },
    "papermill": {
     "duration": 13.155576,
     "end_time": "2021-12-10T20:09:17.184521",
     "exception": false,
     "start_time": "2021-12-10T20:09:04.028945",
     "status": "completed"
    },
    "tags": []
   },
   "outputs": [
    {
     "name": "stdout",
     "output_type": "stream",
     "text": [
      "Epoch 0, Loss 0.244\n",
      "Training Accuracy: 0.6799, Testing Accuracy: 0.6971\n",
      "\n"
     ]
    },
    {
     "name": "stdout",
     "output_type": "stream",
     "text": [
      "Epoch 10, Loss 0.0997\n",
      "Training Accuracy: 0.9198, Testing Accuracy: 0.9274\n",
      "\n"
     ]
    },
    {
     "name": "stdout",
     "output_type": "stream",
     "text": [
      "Epoch 20, Loss 0.0768\n",
      "Training Accuracy: 0.9333, Testing Accuracy: 0.9420\n",
      "\n"
     ]
    },
    {
     "name": "stdout",
     "output_type": "stream",
     "text": [
      "Epoch 30, Loss 0.0664\n",
      "Training Accuracy: 0.9399, Testing Accuracy: 0.9476\n",
      "\n"
     ]
    },
    {
     "name": "stdout",
     "output_type": "stream",
     "text": [
      "Epoch 40, Loss 0.0602\n",
      "Training Accuracy: 0.9431, Testing Accuracy: 0.9511\n",
      "\n"
     ]
    },
    {
     "name": "stdout",
     "output_type": "stream",
     "text": [
      "Epoch 50, Loss 0.056\n",
      "Training Accuracy: 0.9462, Testing Accuracy: 0.9536\n",
      "\n"
     ]
    },
    {
     "name": "stdout",
     "output_type": "stream",
     "text": [
      "Epoch 60, Loss 0.0529\n",
      "Training Accuracy: 0.9476, Testing Accuracy: 0.9541\n",
      "\n"
     ]
    },
    {
     "name": "stdout",
     "output_type": "stream",
     "text": [
      "Epoch 70, Loss 0.0505\n",
      "Training Accuracy: 0.9498, Testing Accuracy: 0.9577\n",
      "\n"
     ]
    },
    {
     "name": "stdout",
     "output_type": "stream",
     "text": [
      "Epoch 80, Loss 0.0485\n",
      "Training Accuracy: 0.9508, Testing Accuracy: 0.9597\n",
      "\n"
     ]
    },
    {
     "name": "stdout",
     "output_type": "stream",
     "text": [
      "Epoch 90, Loss 0.047\n",
      "Training Accuracy: 0.9519, Testing Accuracy: 0.9607\n",
      "\n"
     ]
    },
    {
     "name": "stdout",
     "output_type": "stream",
     "text": [
      "Epoch 100, Loss 0.0456\n",
      "Training Accuracy: 0.9528, Testing Accuracy: 0.9627\n",
      "\n"
     ]
    },
    {
     "name": "stdout",
     "output_type": "stream",
     "text": [
      "Epoch 110, Loss 0.0445\n",
      "Training Accuracy: 0.9536, Testing Accuracy: 0.9632\n",
      "\n"
     ]
    },
    {
     "name": "stdout",
     "output_type": "stream",
     "text": [
      "Epoch 120, Loss 0.0435\n",
      "Training Accuracy: 0.9547, Testing Accuracy: 0.9632\n",
      "\n"
     ]
    },
    {
     "name": "stdout",
     "output_type": "stream",
     "text": [
      "Epoch 130, Loss 0.0426\n",
      "Training Accuracy: 0.9551, Testing Accuracy: 0.9642\n",
      "\n"
     ]
    },
    {
     "name": "stdout",
     "output_type": "stream",
     "text": [
      "Epoch 140, Loss 0.0418\n",
      "Training Accuracy: 0.9557, Testing Accuracy: 0.9637\n",
      "\n"
     ]
    },
    {
     "name": "stdout",
     "output_type": "stream",
     "text": [
      "Epoch 150, Loss 0.0411\n",
      "Training Accuracy: 0.9564, Testing Accuracy: 0.9647\n",
      "\n"
     ]
    },
    {
     "name": "stdout",
     "output_type": "stream",
     "text": [
      "Epoch 160, Loss 0.0404\n",
      "Training Accuracy: 0.9576, Testing Accuracy: 0.9647\n",
      "\n"
     ]
    },
    {
     "name": "stdout",
     "output_type": "stream",
     "text": [
      "Epoch 170, Loss 0.0398\n",
      "Training Accuracy: 0.9583, Testing Accuracy: 0.9652\n",
      "\n"
     ]
    },
    {
     "name": "stdout",
     "output_type": "stream",
     "text": [
      "Epoch 180, Loss 0.0393\n",
      "Training Accuracy: 0.9589, Testing Accuracy: 0.9647\n",
      "\n"
     ]
    },
    {
     "name": "stdout",
     "output_type": "stream",
     "text": [
      "Epoch 190, Loss 0.0388\n",
      "Training Accuracy: 0.9591, Testing Accuracy: 0.9647\n",
      "\n"
     ]
    },
    {
     "name": "stdout",
     "output_type": "stream",
     "text": [
      "Epoch 200, Loss 0.0383\n",
      "Training Accuracy: 0.9595, Testing Accuracy: 0.9647\n",
      "\n"
     ]
    },
    {
     "name": "stdout",
     "output_type": "stream",
     "text": [
      "Epoch 210, Loss 0.0379\n",
      "Training Accuracy: 0.9598, Testing Accuracy: 0.9642\n",
      "\n"
     ]
    },
    {
     "name": "stdout",
     "output_type": "stream",
     "text": [
      "Epoch 220, Loss 0.0375\n",
      "Training Accuracy: 0.9602, Testing Accuracy: 0.9647\n",
      "\n"
     ]
    },
    {
     "name": "stdout",
     "output_type": "stream",
     "text": [
      "Epoch 230, Loss 0.0371\n",
      "Training Accuracy: 0.9605, Testing Accuracy: 0.9652\n",
      "\n"
     ]
    },
    {
     "name": "stdout",
     "output_type": "stream",
     "text": [
      "Epoch 240, Loss 0.0368\n",
      "Training Accuracy: 0.9609, Testing Accuracy: 0.9652\n",
      "\n"
     ]
    },
    {
     "data": {
      "text/plain": [
       "0.06504149020714753"
      ]
     },
     "execution_count": 23,
     "metadata": {},
     "output_type": "execute_result"
    }
   ],
   "source": [
    "lr_learner.train_loop(dl)"
   ]
  },
  {
   "cell_type": "code",
   "execution_count": 24,
   "id": "ca410940",
   "metadata": {
    "execution": {
     "iopub.execute_input": "2021-12-10T20:09:17.280810Z",
     "iopub.status.busy": "2021-12-10T20:09:17.280294Z",
     "iopub.status.idle": "2021-12-10T20:09:17.512907Z",
     "shell.execute_reply": "2021-12-10T20:09:17.513321Z"
    },
    "papermill": {
     "duration": 0.287646,
     "end_time": "2021-12-10T20:09:17.513456",
     "exception": false,
     "start_time": "2021-12-10T20:09:17.225810",
     "status": "completed"
    },
    "tags": []
   },
   "outputs": [
    {
     "data": {
      "text/plain": [
       "<matplotlib.legend.Legend at 0x7fca0bd30c88>"
      ]
     },
     "execution_count": 24,
     "metadata": {},
     "output_type": "execute_result"
    },
    {
     "data": {
      "image/png": "[encoded data removed]",
      "text/plain": [
       "<Figure size 1080x720 with 1 Axes>"
      ]
     },
     "metadata": {
      "needs_background": "light"
     },
     "output_type": "display_data"
    }
   ],
   "source": [
    "#comparing the results of NN and LR\n",
    "plt.figure(figsize=(15,10))\n",
    "\n",
    "# Neural Network plots\n",
    "plt.plot(acc_nn.accuracies, 'r-', label = \"Training Accuracies - NN\")\n",
    "plt.plot(acc_nn.test_accuracies, 'g-', label = \"Testing Accuracies - NN\")\n",
    "\n",
    "# Logistic Regression plots\n",
    "plt.plot(acc_lr.accuracies, 'k-', label = \"Training Accuracies - LR\")\n",
    "plt.plot(acc_lr.test_accuracies, 'b-', label = \"Testing Accuracies - LR\")\n",
    "plt.legend()"
   ]
  },
  {
   "cell_type": "markdown",
   "id": "80dfb35c",
   "metadata": {
    "papermill": {
     "duration": 0.04212,
     "end_time": "2021-12-10T20:09:17.598105",
     "exception": false,
     "start_time": "2021-12-10T20:09:17.555985",
     "status": "completed"
    },
    "tags": []
   },
   "source": [
    "#### Plotting the outputs of this layer of the NN.\n"
   ]
  },
  {
   "cell_type": "code",
   "execution_count": 25,
   "id": "45eb2ff5",
   "metadata": {
    "execution": {
     "iopub.execute_input": "2021-12-10T20:09:17.688518Z",
     "iopub.status.busy": "2021-12-10T20:09:17.686607Z",
     "iopub.status.idle": "2021-12-10T20:09:17.706023Z",
     "shell.execute_reply": "2021-12-10T20:09:17.706431Z"
    },
    "papermill": {
     "duration": 0.066269,
     "end_time": "2021-12-10T20:09:17.706555",
     "exception": false,
     "start_time": "2021-12-10T20:09:17.640286",
     "status": "completed"
    },
    "tags": []
   },
   "outputs": [],
   "source": [
    "new_model = Model(layers[:-2])\n",
    "testing_plot = new_model(testing_data_x)"
   ]
  },
  {
   "cell_type": "code",
   "execution_count": 26,
   "id": "4c0a5485",
   "metadata": {
    "execution": {
     "iopub.execute_input": "2021-12-10T20:09:17.799579Z",
     "iopub.status.busy": "2021-12-10T20:09:17.797757Z",
     "iopub.status.idle": "2021-12-10T20:09:17.981966Z",
     "shell.execute_reply": "2021-12-10T20:09:17.982404Z"
    },
    "papermill": {
     "duration": 0.233465,
     "end_time": "2021-12-10T20:09:17.982545",
     "exception": false,
     "start_time": "2021-12-10T20:09:17.749080",
     "status": "completed"
    },
    "tags": []
   },
   "outputs": [
    {
     "data": {
      "text/plain": [
       "Text(0.5, 1.0, 'Outputs')"
      ]
     },
     "execution_count": 26,
     "metadata": {},
     "output_type": "execute_result"
    },
    {
     "data": {
      "image/png": "[encoded data removed]",
      "text/plain": [
       "<Figure size 576x504 with 1 Axes>"
      ]
     },
     "metadata": {
      "needs_background": "light"
     },
     "output_type": "display_data"
    }
   ],
   "source": [
    "# Plotting the scatter plot of points and color coding by class\n",
    "plt.figure(figsize=(8,7))\n",
    "plt.scatter(testing_plot[:,0], testing_plot[:,1], alpha = 0.1, c = y_test.ravel());\n",
    "plt.title('Outputs')"
   ]
  },
  {
   "cell_type": "markdown",
   "id": "a74fcf8f",
   "metadata": {
    "papermill": {
     "duration": 0.043699,
     "end_time": "2021-12-10T20:09:18.070591",
     "exception": false,
     "start_time": "2021-12-10T20:09:18.026892",
     "status": "completed"
    },
    "tags": []
   },
   "source": [
    "Probability contours"
   ]
  },
  {
   "cell_type": "code",
   "execution_count": 27,
   "id": "d0afc8e3",
   "metadata": {
    "execution": {
     "iopub.execute_input": "2021-12-10T20:09:18.168885Z",
     "iopub.status.busy": "2021-12-10T20:09:18.162429Z",
     "iopub.status.idle": "2021-12-10T20:09:18.176501Z",
     "shell.execute_reply": "2021-12-10T20:09:18.176099Z"
    },
    "papermill": {
     "duration": 0.062093,
     "end_time": "2021-12-10T20:09:18.176605",
     "exception": false,
     "start_time": "2021-12-10T20:09:18.114512",
     "status": "completed"
    },
    "tags": []
   },
   "outputs": [],
   "source": [
    "model_prob = Model(layers[-2:]) "
   ]
  },
  {
   "cell_type": "code",
   "execution_count": 28,
   "id": "9b96e238",
   "metadata": {
    "execution": {
     "iopub.execute_input": "2021-12-10T20:09:18.296229Z",
     "iopub.status.busy": "2021-12-10T20:09:18.294460Z",
     "iopub.status.idle": "2021-12-10T20:09:18.308262Z",
     "shell.execute_reply": "2021-12-10T20:09:18.308642Z"
    },
    "papermill": {
     "duration": 0.088381,
     "end_time": "2021-12-10T20:09:18.308760",
     "exception": false,
     "start_time": "2021-12-10T20:09:18.220379",
     "status": "completed"
    },
    "tags": []
   },
   "outputs": [],
   "source": [
    "#creating the x and y ranges according to the above generated plot.\n",
    "x_range = np.linspace(-4, 1, 100) \n",
    "y_range = np.linspace(-6, 6, 100) \n",
    "x_grid, y_grid = np.meshgrid(x_range, y_range) # x_grid and y_grig are of size 100 X 100\n",
    "\n",
    "# converting x_grid and y_grid to continuous arrays\n",
    "x_gridflat = np.ravel(x_grid)\n",
    "y_gridflat = np.ravel(y_grid)\n",
    "\n",
    "# The last layer of the current model takes two columns as input. Hence transpose of np.vstack() is required.\n",
    "X = np.vstack((x_gridflat, y_gridflat)).T\n",
    "\n",
    "prob_contour = model_prob(X).reshape(100,100) "
   ]
  },
  {
   "cell_type": "code",
   "execution_count": 29,
   "id": "da72499a",
   "metadata": {
    "execution": {
     "iopub.execute_input": "2021-12-10T20:09:18.400296Z",
     "iopub.status.busy": "2021-12-10T20:09:18.399783Z",
     "iopub.status.idle": "2021-12-10T20:09:18.642744Z",
     "shell.execute_reply": "2021-12-10T20:09:18.643205Z"
    },
    "papermill": {
     "duration": 0.290399,
     "end_time": "2021-12-10T20:09:18.643343",
     "exception": false,
     "start_time": "2021-12-10T20:09:18.352944",
     "status": "completed"
    },
    "tags": []
   },
   "outputs": [
    {
     "data": {
      "image/png": "[encoded data removed]",
      "text/plain": [
       "<Figure size 720x648 with 1 Axes>"
      ]
     },
     "metadata": {
      "needs_background": "light"
     },
     "output_type": "display_data"
    }
   ],
   "source": [
    "plt.figure(figsize=(10,9))\n",
    "plt.scatter(testing_plot[:,0], testing_plot[:,1], alpha = 0.1, c = y_test.ravel())\n",
    "contours = plt.contour(x_grid,y_grid,prob_contour)\n",
    "plt.title('Probability Contours')\n",
    "plt.clabel(contours, inline = True );"
   ]
  },
  {
   "cell_type": "code",
   "execution_count": null,
   "id": "e81b4ac7",
   "metadata": {
    "papermill": {
     "duration": 0.046268,
     "end_time": "2021-12-10T20:09:18.736693",
     "exception": false,
     "start_time": "2021-12-10T20:09:18.690425",
     "status": "completed"
    },
    "tags": []
   },
   "outputs": [],
   "source": []
  }
 ],
 "metadata": {
  "kernelspec": {
   "display_name": "Python 3",
   "language": "python",
   "name": "python3"
  },
  "language_info": {
   "codemirror_mode": {
    "name": "ipython",
    "version": 3
   },
   "file_extension": ".py",
   "mimetype": "text/x-python",
   "name": "python",
   "nbconvert_exporter": "python",
   "pygments_lexer": "ipython3",
   "version": "3.6.15"
  },
  "papermill": {
   "default_parameters": {},
   "duration": 95.03066,
   "end_time": "2021-12-10T20:09:19.091924",
   "environment_variables": {},
   "exception": null,
   "input_path": "2020-08-11-part2.ipynb",
   "output_path": "2020-08-11-part2.ipynb",
   "parameters": {},
   "start_time": "2021-12-10T20:07:44.061264",
   "version": "2.3.3"
  }
 },
 "nbformat": 4,
 "nbformat_minor": 5
}