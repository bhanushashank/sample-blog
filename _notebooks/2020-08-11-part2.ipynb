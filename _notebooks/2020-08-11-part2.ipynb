{
 "cells": [
  {
   "cell_type": "markdown",
   "id": "98380cd3",
   "metadata": {
    "papermill": {
     "duration": 0.035655,
     "end_time": "2022-06-13T00:41:34.865562",
     "exception": false,
     "start_time": "2022-06-13T00:41:34.829907",
     "status": "completed"
    },
    "tags": []
   },
   "source": [
    "# Distinguish Your Own Digits (DYOD)"
   ]
  },
  {
   "cell_type": "markdown",
   "id": "ef31240d",
   "metadata": {
    "papermill": {
     "duration": 0.028329,
     "end_time": "2022-06-13T00:41:34.922967",
     "exception": false,
     "start_time": "2022-06-13T00:41:34.894638",
     "status": "completed"
    },
    "tags": []
   },
   "source": [
    "You are going to write a classifier that distinguishes between the number 3 and number 8."
   ]
  },
  {
   "cell_type": "code",
   "execution_count": 1,
   "id": "b15c8646",
   "metadata": {
    "execution": {
     "iopub.execute_input": "2022-06-13T00:41:34.992598Z",
     "iopub.status.busy": "2022-06-13T00:41:34.991806Z",
     "iopub.status.idle": "2022-06-13T00:41:35.004437Z",
     "shell.execute_reply": "2022-06-13T00:41:35.003801Z"
    },
    "papermill": {
     "duration": 0.053491,
     "end_time": "2022-06-13T00:41:35.004593",
     "exception": false,
     "start_time": "2022-06-13T00:41:34.951102",
     "status": "completed"
    },
    "tags": []
   },
   "outputs": [],
   "source": [
    "%load_ext autoreload\n",
    "%autoreload 2"
   ]
  },
  {
   "cell_type": "code",
   "execution_count": 2,
   "id": "22ef38dc",
   "metadata": {
    "execution": {
     "iopub.execute_input": "2022-06-13T00:41:35.067175Z",
     "iopub.status.busy": "2022-06-13T00:41:35.066421Z",
     "iopub.status.idle": "2022-06-13T00:41:35.716510Z",
     "shell.execute_reply": "2022-06-13T00:41:35.715479Z"
    },
    "papermill": {
     "duration": 0.683992,
     "end_time": "2022-06-13T00:41:35.716742",
     "exception": false,
     "start_time": "2022-06-13T00:41:35.032750",
     "status": "completed"
    },
    "tags": []
   },
   "outputs": [],
   "source": [
    "%matplotlib inline\n",
    "import numpy as np\n",
    "import matplotlib.pyplot as plt\n",
    "import pandas as pd"
   ]
  },
  {
   "cell_type": "markdown",
   "id": "ba036198",
   "metadata": {
    "papermill": {
     "duration": 0.028845,
     "end_time": "2022-06-13T00:41:35.774361",
     "exception": false,
     "start_time": "2022-06-13T00:41:35.745516",
     "status": "completed"
    },
    "tags": []
   },
   "source": [
    "From the command line run `pip install mnist`. This is a library that will help you bring down the mnist dataset. If you run this from a notebook, you need to put  `!pip install mnist` in a cell by itself."
   ]
  },
  {
   "cell_type": "code",
   "execution_count": 3,
   "id": "bb6ad8a1",
   "metadata": {
    "execution": {
     "iopub.execute_input": "2022-06-13T00:41:35.836468Z",
     "iopub.status.busy": "2022-06-13T00:41:35.835712Z",
     "iopub.status.idle": "2022-06-13T00:41:37.890310Z",
     "shell.execute_reply": "2022-06-13T00:41:37.889349Z"
    },
    "papermill": {
     "duration": 2.088091,
     "end_time": "2022-06-13T00:41:37.890530",
     "exception": false,
     "start_time": "2022-06-13T00:41:35.802439",
     "status": "completed"
    },
    "tags": []
   },
   "outputs": [
    {
     "name": "stdout",
     "output_type": "stream",
     "text": [
      "Collecting mnist\r\n"
     ]
    },
    {
     "name": "stdout",
     "output_type": "stream",
     "text": [
      "  Downloading mnist-0.2.2-py2.py3-none-any.whl (3.5 kB)\r\n",
      "Requirement already satisfied: numpy in /opt/hostedtoolcache/Python/3.6.15/x64/lib/python3.6/site-packages (from mnist) (1.19.5)\r\n"
     ]
    },
    {
     "name": "stdout",
     "output_type": "stream",
     "text": [
      "Installing collected packages: mnist\r\n",
      "Successfully installed mnist-0.2.2\r\n"
     ]
    }
   ],
   "source": [
    "!pip install mnist"
   ]
  },
  {
   "cell_type": "markdown",
   "id": "69df9c9a",
   "metadata": {
    "papermill": {
     "duration": 0.029418,
     "end_time": "2022-06-13T00:41:37.949811",
     "exception": false,
     "start_time": "2022-06-13T00:41:37.920393",
     "status": "completed"
    },
    "tags": []
   },
   "source": [
    "## Preparing the Data"
   ]
  },
  {
   "cell_type": "code",
   "execution_count": 4,
   "id": "7f69d806",
   "metadata": {
    "execution": {
     "iopub.execute_input": "2022-06-13T00:41:38.020940Z",
     "iopub.status.busy": "2022-06-13T00:41:38.015801Z",
     "iopub.status.idle": "2022-06-13T00:41:38.031604Z",
     "shell.execute_reply": "2022-06-13T00:41:38.031032Z"
    },
    "papermill": {
     "duration": 0.052741,
     "end_time": "2022-06-13T00:41:38.031735",
     "exception": false,
     "start_time": "2022-06-13T00:41:37.978994",
     "status": "completed"
    },
    "tags": []
   },
   "outputs": [],
   "source": [
    "import mnist"
   ]
  },
  {
   "cell_type": "code",
   "execution_count": 5,
   "id": "a411e44f",
   "metadata": {
    "execution": {
     "iopub.execute_input": "2022-06-13T00:41:38.096757Z",
     "iopub.status.busy": "2022-06-13T00:41:38.095991Z",
     "iopub.status.idle": "2022-06-13T00:41:38.756883Z",
     "shell.execute_reply": "2022-06-13T00:41:38.756231Z"
    },
    "papermill": {
     "duration": 0.695728,
     "end_time": "2022-06-13T00:41:38.757026",
     "exception": false,
     "start_time": "2022-06-13T00:41:38.061298",
     "status": "completed"
    },
    "tags": []
   },
   "outputs": [],
   "source": [
    "train_images = mnist.train_images()\n",
    "train_labels = mnist.train_labels()"
   ]
  },
  {
   "cell_type": "code",
   "execution_count": 6,
   "id": "dceab3a5",
   "metadata": {
    "execution": {
     "iopub.execute_input": "2022-06-13T00:41:38.820819Z",
     "iopub.status.busy": "2022-06-13T00:41:38.820106Z",
     "iopub.status.idle": "2022-06-13T00:41:38.840488Z",
     "shell.execute_reply": "2022-06-13T00:41:38.839596Z"
    },
    "papermill": {
     "duration": 0.054361,
     "end_time": "2022-06-13T00:41:38.840649",
     "exception": false,
     "start_time": "2022-06-13T00:41:38.786288",
     "status": "completed"
    },
    "tags": []
   },
   "outputs": [
    {
     "data": {
      "text/plain": [
       "((60000, 28, 28), (60000,))"
      ]
     },
     "execution_count": 6,
     "metadata": {},
     "output_type": "execute_result"
    }
   ],
   "source": [
    "train_images.shape, train_labels.shape"
   ]
  },
  {
   "cell_type": "code",
   "execution_count": 7,
   "id": "f50dc2bb",
   "metadata": {
    "execution": {
     "iopub.execute_input": "2022-06-13T00:41:38.905629Z",
     "iopub.status.busy": "2022-06-13T00:41:38.904915Z",
     "iopub.status.idle": "2022-06-13T00:41:39.098310Z",
     "shell.execute_reply": "2022-06-13T00:41:39.097673Z"
    },
    "papermill": {
     "duration": 0.227075,
     "end_time": "2022-06-13T00:41:39.098451",
     "exception": false,
     "start_time": "2022-06-13T00:41:38.871376",
     "status": "completed"
    },
    "tags": []
   },
   "outputs": [],
   "source": [
    "test_images = mnist.test_images()\n",
    "test_labels = mnist.test_labels()"
   ]
  },
  {
   "cell_type": "code",
   "execution_count": 8,
   "id": "fc38cf1b",
   "metadata": {
    "execution": {
     "iopub.execute_input": "2022-06-13T00:41:39.162481Z",
     "iopub.status.busy": "2022-06-13T00:41:39.161750Z",
     "iopub.status.idle": "2022-06-13T00:41:39.178902Z",
     "shell.execute_reply": "2022-06-13T00:41:39.179569Z"
    },
    "papermill": {
     "duration": 0.051544,
     "end_time": "2022-06-13T00:41:39.179835",
     "exception": false,
     "start_time": "2022-06-13T00:41:39.128291",
     "status": "completed"
    },
    "tags": []
   },
   "outputs": [
    {
     "data": {
      "text/plain": [
       "((10000, 28, 28), (10000,))"
      ]
     },
     "execution_count": 8,
     "metadata": {},
     "output_type": "execute_result"
    }
   ],
   "source": [
    "test_images.shape, test_labels.shape"
   ]
  },
  {
   "cell_type": "code",
   "execution_count": 9,
   "id": "f9ed8fe0",
   "metadata": {
    "execution": {
     "iopub.execute_input": "2022-06-13T00:41:39.244738Z",
     "iopub.status.busy": "2022-06-13T00:41:39.243993Z",
     "iopub.status.idle": "2022-06-13T00:41:39.412022Z",
     "shell.execute_reply": "2022-06-13T00:41:39.412759Z"
    },
    "papermill": {
     "duration": 0.203151,
     "end_time": "2022-06-13T00:41:39.412956",
     "exception": false,
     "start_time": "2022-06-13T00:41:39.209805",
     "status": "completed"
    },
    "tags": []
   },
   "outputs": [
    {
     "name": "stdout",
     "output_type": "stream",
     "text": [
      "2\n"
     ]
    },
    {
     "data": {
      "text/plain": [
       "<matplotlib.image.AxesImage at 0x7f424e8c5320>"
      ]
     },
     "execution_count": 9,
     "metadata": {},
     "output_type": "execute_result"
    },
    {
     "data": {
      "image/png": "[encoded data removed]",
      "text/plain": [
       "<Figure size 432x288 with 1 Axes>"
      ]
     },
     "metadata": {
      "needs_background": "light"
     },
     "output_type": "display_data"
    }
   ],
   "source": [
    "image_index = 7776 # You may select anything up to 60,000\n",
    "print(train_labels[image_index]) \n",
    "plt.imshow(train_images[image_index], cmap='Greys')"
   ]
  },
  {
   "cell_type": "markdown",
   "id": "a8d2388d",
   "metadata": {
    "papermill": {
     "duration": 0.031119,
     "end_time": "2022-06-13T00:41:39.475636",
     "exception": false,
     "start_time": "2022-06-13T00:41:39.444517",
     "status": "completed"
    },
    "tags": []
   },
   "source": [
    "## Filter data to get 3 and 8 out"
   ]
  },
  {
   "cell_type": "code",
   "execution_count": 10,
   "id": "776f7fc7",
   "metadata": {
    "execution": {
     "iopub.execute_input": "2022-06-13T00:41:39.543061Z",
     "iopub.status.busy": "2022-06-13T00:41:39.542332Z",
     "iopub.status.idle": "2022-06-13T00:41:39.564678Z",
     "shell.execute_reply": "2022-06-13T00:41:39.564026Z"
    },
    "papermill": {
     "duration": 0.058108,
     "end_time": "2022-06-13T00:41:39.564820",
     "exception": false,
     "start_time": "2022-06-13T00:41:39.506712",
     "status": "completed"
    },
    "tags": []
   },
   "outputs": [],
   "source": [
    "train_filter = np.where((train_labels == 3 ) | (train_labels == 8))\n",
    "test_filter = np.where((test_labels == 3) | (test_labels == 8))\n",
    "X_train, y_train = train_images[train_filter], train_labels[train_filter]\n",
    "X_test, y_test = test_images[test_filter], test_labels[test_filter]"
   ]
  },
  {
   "cell_type": "markdown",
   "id": "948f0b7e",
   "metadata": {
    "papermill": {
     "duration": 0.031176,
     "end_time": "2022-06-13T00:41:39.627390",
     "exception": false,
     "start_time": "2022-06-13T00:41:39.596214",
     "status": "completed"
    },
    "tags": []
   },
   "source": [
    "We normalize the pizel values in the 0 to 1 range"
   ]
  },
  {
   "cell_type": "code",
   "execution_count": 11,
   "id": "ee4c2166",
   "metadata": {
    "execution": {
     "iopub.execute_input": "2022-06-13T00:41:39.694724Z",
     "iopub.status.busy": "2022-06-13T00:41:39.693928Z",
     "iopub.status.idle": "2022-06-13T00:41:39.749365Z",
     "shell.execute_reply": "2022-06-13T00:41:39.748744Z"
    },
    "papermill": {
     "duration": 0.090929,
     "end_time": "2022-06-13T00:41:39.749511",
     "exception": false,
     "start_time": "2022-06-13T00:41:39.658582",
     "status": "completed"
    },
    "tags": []
   },
   "outputs": [],
   "source": [
    "X_train = X_train/255.\n",
    "X_test = X_test/255."
   ]
  },
  {
   "cell_type": "markdown",
   "id": "ddcf4fab",
   "metadata": {
    "papermill": {
     "duration": 0.031796,
     "end_time": "2022-06-13T00:41:39.815304",
     "exception": false,
     "start_time": "2022-06-13T00:41:39.783508",
     "status": "completed"
    },
    "tags": []
   },
   "source": [
    "And setup the labels as 1 (when the digit is 3) and 0 (when the digit is 8)"
   ]
  },
  {
   "cell_type": "code",
   "execution_count": 12,
   "id": "7dc908f2",
   "metadata": {
    "execution": {
     "iopub.execute_input": "2022-06-13T00:41:39.887113Z",
     "iopub.status.busy": "2022-06-13T00:41:39.886379Z",
     "iopub.status.idle": "2022-06-13T00:41:39.898772Z",
     "shell.execute_reply": "2022-06-13T00:41:39.898177Z"
    },
    "papermill": {
     "duration": 0.052543,
     "end_time": "2022-06-13T00:41:39.898907",
     "exception": false,
     "start_time": "2022-06-13T00:41:39.846364",
     "status": "completed"
    },
    "tags": []
   },
   "outputs": [],
   "source": [
    "y_train = 1*(y_train==3)\n",
    "y_test = 1*(y_test==3)"
   ]
  },
  {
   "cell_type": "code",
   "execution_count": 13,
   "id": "01e4e969",
   "metadata": {
    "execution": {
     "iopub.execute_input": "2022-06-13T00:41:39.977188Z",
     "iopub.status.busy": "2022-06-13T00:41:39.974404Z",
     "iopub.status.idle": "2022-06-13T00:41:39.987528Z",
     "shell.execute_reply": "2022-06-13T00:41:39.986595Z"
    },
    "papermill": {
     "duration": 0.057576,
     "end_time": "2022-06-13T00:41:39.987667",
     "exception": false,
     "start_time": "2022-06-13T00:41:39.930091",
     "status": "completed"
    },
    "tags": []
   },
   "outputs": [
    {
     "data": {
      "text/plain": [
       "((11982, 28, 28), (1984, 28, 28))"
      ]
     },
     "execution_count": 13,
     "metadata": {},
     "output_type": "execute_result"
    }
   ],
   "source": [
    "X_train.shape, X_test.shape"
   ]
  },
  {
   "cell_type": "markdown",
   "id": "5ccf3f85",
   "metadata": {
    "papermill": {
     "duration": 0.031272,
     "end_time": "2022-06-13T00:41:40.050335",
     "exception": false,
     "start_time": "2022-06-13T00:41:40.019063",
     "status": "completed"
    },
    "tags": []
   },
   "source": [
    "We reshape the data to flatten the image pixels into a set of features or co-variates:"
   ]
  },
  {
   "cell_type": "code",
   "execution_count": 14,
   "id": "5286a4a3",
   "metadata": {
    "execution": {
     "iopub.execute_input": "2022-06-13T00:41:40.133210Z",
     "iopub.status.busy": "2022-06-13T00:41:40.121761Z",
     "iopub.status.idle": "2022-06-13T00:41:40.140270Z",
     "shell.execute_reply": "2022-06-13T00:41:40.139357Z"
    },
    "papermill": {
     "duration": 0.058639,
     "end_time": "2022-06-13T00:41:40.140415",
     "exception": false,
     "start_time": "2022-06-13T00:41:40.081776",
     "status": "completed"
    },
    "tags": []
   },
   "outputs": [
    {
     "data": {
      "text/plain": [
       "((11982, 784), (1984, 784))"
      ]
     },
     "execution_count": 14,
     "metadata": {},
     "output_type": "execute_result"
    }
   ],
   "source": [
    "X_train = X_train.reshape(X_train.shape[0], -1)\n",
    "X_test = X_test.reshape(X_test.shape[0], -1)\n",
    "X_train.shape, X_test.shape"
   ]
  },
  {
   "cell_type": "code",
   "execution_count": 15,
   "id": "73c5f88a",
   "metadata": {
    "execution": {
     "iopub.execute_input": "2022-06-13T00:41:40.210119Z",
     "iopub.status.busy": "2022-06-13T00:41:40.209379Z",
     "iopub.status.idle": "2022-06-13T00:41:40.235429Z",
     "shell.execute_reply": "2022-06-13T00:41:40.234408Z"
    },
    "papermill": {
     "duration": 0.063358,
     "end_time": "2022-06-13T00:41:40.235578",
     "exception": false,
     "start_time": "2022-06-13T00:41:40.172220",
     "status": "completed"
    },
    "tags": []
   },
   "outputs": [],
   "source": [
    "#Impoting functions from 'Kudzu'\n",
    "from kudzu.model import Model\n",
    "from kudzu.train import Learner\n",
    "from kudzu.optim import GD\n",
    "from kudzu.data import Data, Sampler,Dataloader\n",
    "\n",
    "from kudzu.callbacks import AccCallback\n",
    "from kudzu.callbacks import ClfCallback\n",
    "\n",
    "from kudzu.loss import MSE\n",
    "\n",
    "from kudzu.layer import Sigmoid,Relu\n",
    "from kudzu.layer import Affine"
   ]
  },
  {
   "cell_type": "markdown",
   "id": "bc01172a",
   "metadata": {
    "papermill": {
     "duration": 0.032557,
     "end_time": "2022-06-13T00:41:40.302407",
     "exception": false,
     "start_time": "2022-06-13T00:41:40.269850",
     "status": "completed"
    },
    "tags": []
   },
   "source": [
    "### Let us create a `Config` class, to store important parameters. \n",
    "This class essentially plays the role of a dictionary."
   ]
  },
  {
   "cell_type": "code",
   "execution_count": 16,
   "id": "978281aa",
   "metadata": {
    "execution": {
     "iopub.execute_input": "2022-06-13T00:41:40.374755Z",
     "iopub.status.busy": "2022-06-13T00:41:40.374024Z",
     "iopub.status.idle": "2022-06-13T00:41:40.390561Z",
     "shell.execute_reply": "2022-06-13T00:41:40.389818Z"
    },
    "papermill": {
     "duration": 0.056107,
     "end_time": "2022-06-13T00:41:40.390753",
     "exception": false,
     "start_time": "2022-06-13T00:41:40.334646",
     "status": "completed"
    },
    "tags": []
   },
   "outputs": [],
   "source": [
    "class Config:\n",
    "    pass\n",
    "config = Config()\n",
    "config.lr = 0.001\n",
    "config.num_epochs = 250\n",
    "config.bs = 50"
   ]
  },
  {
   "cell_type": "markdown",
   "id": "1385fa59",
   "metadata": {
    "papermill": {
     "duration": 0.031612,
     "end_time": "2022-06-13T00:41:40.455005",
     "exception": false,
     "start_time": "2022-06-13T00:41:40.423393",
     "status": "completed"
    },
    "tags": []
   },
   "source": [
    "### Running Models with the Training data\n",
    "Details about the network layers:\n",
    "- A first affine layer has 784 inputs and does 100 affine transforms. These are followed by a Relu\n",
    "- A second affine layer has 100 inputs from the 100 activations of the past layer, and does 100 affine transforms. These are followed by a Relu\n",
    "- A third affine layer has 100 activations and does 2 affine transformations to create an embedding for visualization. There is no non-linearity here.\n",
    "- A final \"logistic regression\" which has an affine transform from 2 inputs to 1 output, which is squeezed through a sigmoid.\n"
   ]
  },
  {
   "cell_type": "code",
   "execution_count": 17,
   "id": "2b9c66db",
   "metadata": {
    "execution": {
     "iopub.execute_input": "2022-06-13T00:41:40.524075Z",
     "iopub.status.busy": "2022-06-13T00:41:40.523294Z",
     "iopub.status.idle": "2022-06-13T00:41:40.539206Z",
     "shell.execute_reply": "2022-06-13T00:41:40.538602Z"
    },
    "papermill": {
     "duration": 0.052632,
     "end_time": "2022-06-13T00:41:40.539344",
     "exception": false,
     "start_time": "2022-06-13T00:41:40.486712",
     "status": "completed"
    },
    "tags": []
   },
   "outputs": [],
   "source": [
    "data = Data(X_train, y_train.reshape(-1,1))\n",
    "sampler = Sampler(data, config.bs, shuffle=True)\n",
    "\n",
    "dl = Dataloader(data, sampler)\n",
    "\n",
    "opt = GD(config.lr)\n",
    "loss = MSE()"
   ]
  },
  {
   "cell_type": "code",
   "execution_count": 18,
   "id": "b275e4c2",
   "metadata": {
    "execution": {
     "iopub.execute_input": "2022-06-13T00:41:40.610865Z",
     "iopub.status.busy": "2022-06-13T00:41:40.610151Z",
     "iopub.status.idle": "2022-06-13T00:41:40.627559Z",
     "shell.execute_reply": "2022-06-13T00:41:40.628292Z"
    },
    "papermill": {
     "duration": 0.056828,
     "end_time": "2022-06-13T00:41:40.628458",
     "exception": false,
     "start_time": "2022-06-13T00:41:40.571630",
     "status": "completed"
    },
    "tags": []
   },
   "outputs": [],
   "source": [
    "training_data_x = X_train\n",
    "testing_data_x = X_test\n",
    "training_data_y = y_train.reshape(-1,1)\n",
    "testing_data_y = y_test.reshape(-1,1)"
   ]
  },
  {
   "cell_type": "code",
   "execution_count": 19,
   "id": "76951160",
   "metadata": {
    "execution": {
     "iopub.execute_input": "2022-06-13T00:41:40.696960Z",
     "iopub.status.busy": "2022-06-13T00:41:40.696216Z",
     "iopub.status.idle": "2022-06-13T00:41:40.716305Z",
     "shell.execute_reply": "2022-06-13T00:41:40.715583Z"
    },
    "papermill": {
     "duration": 0.056371,
     "end_time": "2022-06-13T00:41:40.716443",
     "exception": false,
     "start_time": "2022-06-13T00:41:40.660072",
     "status": "completed"
    },
    "tags": []
   },
   "outputs": [
    {
     "name": "stdout",
     "output_type": "stream",
     "text": [
      "xavier\n",
      "xavier\n",
      "xavier\n",
      "xavier\n",
      "xavier\n"
     ]
    }
   ],
   "source": [
    "layers = [Affine(\"first\", 784, 100), Relu(\"first\"), Affine(\"second\", 100, 100), Relu(\"second\"), Affine(\"third\", 100, 2), Affine(\"last\", 2, 1), Sigmoid(\"last\")]\n",
    "model_nn = Model(layers)\n",
    "model_lr = Model([Affine(\"logits\", 784, 1), Sigmoid(\"sigmoid\")])"
   ]
  },
  {
   "cell_type": "code",
   "execution_count": 20,
   "id": "6eede77a",
   "metadata": {
    "execution": {
     "iopub.execute_input": "2022-06-13T00:41:40.788916Z",
     "iopub.status.busy": "2022-06-13T00:41:40.787748Z",
     "iopub.status.idle": "2022-06-13T00:41:40.801148Z",
     "shell.execute_reply": "2022-06-13T00:41:40.801708Z"
    },
    "papermill": {
     "duration": 0.05309,
     "end_time": "2022-06-13T00:41:40.801866",
     "exception": false,
     "start_time": "2022-06-13T00:41:40.748776",
     "status": "completed"
    },
    "tags": []
   },
   "outputs": [],
   "source": [
    "nn_learner = Learner(loss, model_nn, opt, config.num_epochs)\n",
    "acc_nn = ClfCallback(nn_learner, config.bs, training_data_x , testing_data_x, training_data_y, testing_data_y)\n",
    "nn_learner.set_callbacks([acc_nn])"
   ]
  },
  {
   "cell_type": "code",
   "execution_count": 21,
   "id": "877b6cc7",
   "metadata": {
    "execution": {
     "iopub.execute_input": "2022-06-13T00:41:40.873000Z",
     "iopub.status.busy": "2022-06-13T00:41:40.869951Z",
     "iopub.status.idle": "2022-06-13T00:41:40.884807Z",
     "shell.execute_reply": "2022-06-13T00:41:40.884096Z"
    },
    "papermill": {
     "duration": 0.05093,
     "end_time": "2022-06-13T00:41:40.884943",
     "exception": false,
     "start_time": "2022-06-13T00:41:40.834013",
     "status": "completed"
    },
    "tags": []
   },
   "outputs": [],
   "source": [
    "lr_learner = Learner(loss, model_lr, opt, config.num_epochs)\n",
    "acc_lr = ClfCallback(lr_learner, config.bs, training_data_x , testing_data_x, training_data_y, testing_data_y)\n",
    "lr_learner.set_callbacks([acc_lr])"
   ]
  },
  {
   "cell_type": "code",
   "execution_count": 22,
   "id": "d9b133c3",
   "metadata": {
    "execution": {
     "iopub.execute_input": "2022-06-13T00:41:40.957233Z",
     "iopub.status.busy": "2022-06-13T00:41:40.953213Z",
     "iopub.status.idle": "2022-06-13T00:43:11.152730Z",
     "shell.execute_reply": "2022-06-13T00:43:11.153774Z"
    },
    "papermill": {
     "duration": 90.236652,
     "end_time": "2022-06-13T00:43:11.153943",
     "exception": false,
     "start_time": "2022-06-13T00:41:40.917291",
     "status": "completed"
    },
    "tags": []
   },
   "outputs": [
    {
     "name": "stdout",
     "output_type": "stream",
     "text": [
      "Epoch 0, Loss 0.2498\n",
      "Training Accuracy: 0.5598, Testing Accuracy: 0.5509\n",
      "\n"
     ]
    },
    {
     "name": "stdout",
     "output_type": "stream",
     "text": [
      "Epoch 10, Loss 0.1286\n",
      "Training Accuracy: 0.9014, Testing Accuracy: 0.9143\n",
      "\n"
     ]
    },
    {
     "name": "stdout",
     "output_type": "stream",
     "text": [
      "Epoch 20, Loss 0.0669\n",
      "Training Accuracy: 0.9338, Testing Accuracy: 0.9435\n",
      "\n"
     ]
    },
    {
     "name": "stdout",
     "output_type": "stream",
     "text": [
      "Epoch 30, Loss 0.049\n",
      "Training Accuracy: 0.9460, Testing Accuracy: 0.9556\n",
      "\n"
     ]
    },
    {
     "name": "stdout",
     "output_type": "stream",
     "text": [
      "Epoch 40, Loss 0.0412\n",
      "Training Accuracy: 0.9528, Testing Accuracy: 0.9607\n",
      "\n"
     ]
    },
    {
     "name": "stdout",
     "output_type": "stream",
     "text": [
      "Epoch 50, Loss 0.0368\n",
      "Training Accuracy: 0.9574, Testing Accuracy: 0.9652\n",
      "\n"
     ]
    },
    {
     "name": "stdout",
     "output_type": "stream",
     "text": [
      "Epoch 60, Loss 0.0339\n",
      "Training Accuracy: 0.9599, Testing Accuracy: 0.9667\n",
      "\n"
     ]
    },
    {
     "name": "stdout",
     "output_type": "stream",
     "text": [
      "Epoch 70, Loss 0.0318\n",
      "Training Accuracy: 0.9623, Testing Accuracy: 0.9677\n",
      "\n"
     ]
    },
    {
     "name": "stdout",
     "output_type": "stream",
     "text": [
      "Epoch 80, Loss 0.0302\n",
      "Training Accuracy: 0.9641, Testing Accuracy: 0.9682\n",
      "\n"
     ]
    },
    {
     "name": "stdout",
     "output_type": "stream",
     "text": [
      "Epoch 90, Loss 0.0289\n",
      "Training Accuracy: 0.9656, Testing Accuracy: 0.9693\n",
      "\n"
     ]
    },
    {
     "name": "stdout",
     "output_type": "stream",
     "text": [
      "Epoch 100, Loss 0.0278\n",
      "Training Accuracy: 0.9670, Testing Accuracy: 0.9693\n",
      "\n"
     ]
    },
    {
     "name": "stdout",
     "output_type": "stream",
     "text": [
      "Epoch 110, Loss 0.0269\n",
      "Training Accuracy: 0.9679, Testing Accuracy: 0.9688\n",
      "\n"
     ]
    },
    {
     "name": "stdout",
     "output_type": "stream",
     "text": [
      "Epoch 120, Loss 0.0261\n",
      "Training Accuracy: 0.9687, Testing Accuracy: 0.9682\n",
      "\n"
     ]
    },
    {
     "name": "stdout",
     "output_type": "stream",
     "text": [
      "Epoch 130, Loss 0.0254\n",
      "Training Accuracy: 0.9700, Testing Accuracy: 0.9688\n",
      "\n"
     ]
    },
    {
     "name": "stdout",
     "output_type": "stream",
     "text": [
      "Epoch 140, Loss 0.0247\n",
      "Training Accuracy: 0.9715, Testing Accuracy: 0.9698\n",
      "\n"
     ]
    },
    {
     "name": "stdout",
     "output_type": "stream",
     "text": [
      "Epoch 150, Loss 0.0241\n",
      "Training Accuracy: 0.9721, Testing Accuracy: 0.9698\n",
      "\n"
     ]
    },
    {
     "name": "stdout",
     "output_type": "stream",
     "text": [
      "Epoch 160, Loss 0.0235\n",
      "Training Accuracy: 0.9727, Testing Accuracy: 0.9718\n",
      "\n"
     ]
    },
    {
     "name": "stdout",
     "output_type": "stream",
     "text": [
      "Epoch 170, Loss 0.023\n",
      "Training Accuracy: 0.9731, Testing Accuracy: 0.9723\n",
      "\n"
     ]
    },
    {
     "name": "stdout",
     "output_type": "stream",
     "text": [
      "Epoch 180, Loss 0.0225\n",
      "Training Accuracy: 0.9739, Testing Accuracy: 0.9718\n",
      "\n"
     ]
    },
    {
     "name": "stdout",
     "output_type": "stream",
     "text": [
      "Epoch 190, Loss 0.022\n",
      "Training Accuracy: 0.9745, Testing Accuracy: 0.9718\n",
      "\n"
     ]
    },
    {
     "name": "stdout",
     "output_type": "stream",
     "text": [
      "Epoch 200, Loss 0.0216\n",
      "Training Accuracy: 0.9745, Testing Accuracy: 0.9718\n",
      "\n"
     ]
    },
    {
     "name": "stdout",
     "output_type": "stream",
     "text": [
      "Epoch 210, Loss 0.0211\n",
      "Training Accuracy: 0.9756, Testing Accuracy: 0.9723\n",
      "\n"
     ]
    },
    {
     "name": "stdout",
     "output_type": "stream",
     "text": [
      "Epoch 220, Loss 0.0207\n",
      "Training Accuracy: 0.9763, Testing Accuracy: 0.9728\n",
      "\n"
     ]
    },
    {
     "name": "stdout",
     "output_type": "stream",
     "text": [
      "Epoch 230, Loss 0.0204\n",
      "Training Accuracy: 0.9770, Testing Accuracy: 0.9733\n",
      "\n"
     ]
    },
    {
     "name": "stdout",
     "output_type": "stream",
     "text": [
      "Epoch 240, Loss 0.02\n",
      "Training Accuracy: 0.9775, Testing Accuracy: 0.9733\n",
      "\n"
     ]
    },
    {
     "data": {
      "text/plain": [
       "0.015553480189910627"
      ]
     },
     "execution_count": 22,
     "metadata": {},
     "output_type": "execute_result"
    }
   ],
   "source": [
    "nn_learner.train_loop(dl)"
   ]
  },
  {
   "cell_type": "code",
   "execution_count": 23,
   "id": "e0163366",
   "metadata": {
    "execution": {
     "iopub.execute_input": "2022-06-13T00:43:11.249735Z",
     "iopub.status.busy": "2022-06-13T00:43:11.249028Z",
     "iopub.status.idle": "2022-06-13T00:43:27.381810Z",
     "shell.execute_reply": "2022-06-13T00:43:27.382806Z"
    },
    "papermill": {
     "duration": 16.187772,
     "end_time": "2022-06-13T00:43:27.382973",
     "exception": false,
     "start_time": "2022-06-13T00:43:11.195201",
     "status": "completed"
    },
    "tags": []
   },
   "outputs": [
    {
     "name": "stdout",
     "output_type": "stream",
     "text": [
      "Epoch 0, Loss 0.242\n",
      "Training Accuracy: 0.7020, Testing Accuracy: 0.6890\n",
      "\n"
     ]
    },
    {
     "name": "stdout",
     "output_type": "stream",
     "text": [
      "Epoch 10, Loss 0.0999\n",
      "Training Accuracy: 0.9166, Testing Accuracy: 0.9350\n",
      "\n"
     ]
    },
    {
     "name": "stdout",
     "output_type": "stream",
     "text": [
      "Epoch 20, Loss 0.0771\n",
      "Training Accuracy: 0.9306, Testing Accuracy: 0.9461\n",
      "\n"
     ]
    },
    {
     "name": "stdout",
     "output_type": "stream",
     "text": [
      "Epoch 30, Loss 0.0667\n",
      "Training Accuracy: 0.9387, Testing Accuracy: 0.9496\n",
      "\n"
     ]
    },
    {
     "name": "stdout",
     "output_type": "stream",
     "text": [
      "Epoch 40, Loss 0.0605\n",
      "Training Accuracy: 0.9433, Testing Accuracy: 0.9551\n",
      "\n"
     ]
    },
    {
     "name": "stdout",
     "output_type": "stream",
     "text": [
      "Epoch 50, Loss 0.0562\n",
      "Training Accuracy: 0.9457, Testing Accuracy: 0.9587\n",
      "\n"
     ]
    },
    {
     "name": "stdout",
     "output_type": "stream",
     "text": [
      "Epoch 60, Loss 0.053\n",
      "Training Accuracy: 0.9485, Testing Accuracy: 0.9597\n",
      "\n"
     ]
    },
    {
     "name": "stdout",
     "output_type": "stream",
     "text": [
      "Epoch 70, Loss 0.0505\n",
      "Training Accuracy: 0.9503, Testing Accuracy: 0.9617\n",
      "\n"
     ]
    },
    {
     "name": "stdout",
     "output_type": "stream",
     "text": [
      "Epoch 80, Loss 0.0486\n",
      "Training Accuracy: 0.9523, Testing Accuracy: 0.9627\n",
      "\n"
     ]
    },
    {
     "name": "stdout",
     "output_type": "stream",
     "text": [
      "Epoch 90, Loss 0.0469\n",
      "Training Accuracy: 0.9533, Testing Accuracy: 0.9627\n",
      "\n"
     ]
    },
    {
     "name": "stdout",
     "output_type": "stream",
     "text": [
      "Epoch 100, Loss 0.0456\n",
      "Training Accuracy: 0.9549, Testing Accuracy: 0.9637\n",
      "\n"
     ]
    },
    {
     "name": "stdout",
     "output_type": "stream",
     "text": [
      "Epoch 110, Loss 0.0444\n",
      "Training Accuracy: 0.9559, Testing Accuracy: 0.9642\n",
      "\n"
     ]
    },
    {
     "name": "stdout",
     "output_type": "stream",
     "text": [
      "Epoch 120, Loss 0.0434\n",
      "Training Accuracy: 0.9566, Testing Accuracy: 0.9637\n",
      "\n"
     ]
    },
    {
     "name": "stdout",
     "output_type": "stream",
     "text": [
      "Epoch 130, Loss 0.0425\n",
      "Training Accuracy: 0.9574, Testing Accuracy: 0.9637\n",
      "\n"
     ]
    },
    {
     "name": "stdout",
     "output_type": "stream",
     "text": [
      "Epoch 140, Loss 0.0417\n",
      "Training Accuracy: 0.9578, Testing Accuracy: 0.9647\n",
      "\n"
     ]
    },
    {
     "name": "stdout",
     "output_type": "stream",
     "text": [
      "Epoch 150, Loss 0.0409\n",
      "Training Accuracy: 0.9584, Testing Accuracy: 0.9647\n",
      "\n"
     ]
    },
    {
     "name": "stdout",
     "output_type": "stream",
     "text": [
      "Epoch 160, Loss 0.0403\n",
      "Training Accuracy: 0.9589, Testing Accuracy: 0.9647\n",
      "\n"
     ]
    },
    {
     "name": "stdout",
     "output_type": "stream",
     "text": [
      "Epoch 170, Loss 0.0397\n",
      "Training Accuracy: 0.9594, Testing Accuracy: 0.9652\n",
      "\n"
     ]
    },
    {
     "name": "stdout",
     "output_type": "stream",
     "text": [
      "Epoch 180, Loss 0.0391\n",
      "Training Accuracy: 0.9597, Testing Accuracy: 0.9657\n",
      "\n"
     ]
    },
    {
     "name": "stdout",
     "output_type": "stream",
     "text": [
      "Epoch 190, Loss 0.0386\n",
      "Training Accuracy: 0.9603, Testing Accuracy: 0.9657\n",
      "\n"
     ]
    },
    {
     "name": "stdout",
     "output_type": "stream",
     "text": [
      "Epoch 200, Loss 0.0382\n",
      "Training Accuracy: 0.9605, Testing Accuracy: 0.9657\n",
      "\n"
     ]
    },
    {
     "name": "stdout",
     "output_type": "stream",
     "text": [
      "Epoch 210, Loss 0.0377\n",
      "Training Accuracy: 0.9607, Testing Accuracy: 0.9657\n",
      "\n"
     ]
    },
    {
     "name": "stdout",
     "output_type": "stream",
     "text": [
      "Epoch 220, Loss 0.0373\n",
      "Training Accuracy: 0.9609, Testing Accuracy: 0.9662\n",
      "\n"
     ]
    },
    {
     "name": "stdout",
     "output_type": "stream",
     "text": [
      "Epoch 230, Loss 0.037\n",
      "Training Accuracy: 0.9612, Testing Accuracy: 0.9667\n",
      "\n"
     ]
    },
    {
     "name": "stdout",
     "output_type": "stream",
     "text": [
      "Epoch 240, Loss 0.0366\n",
      "Training Accuracy: 0.9616, Testing Accuracy: 0.9672\n",
      "\n"
     ]
    },
    {
     "data": {
      "text/plain": [
       "0.055547103263210544"
      ]
     },
     "execution_count": 23,
     "metadata": {},
     "output_type": "execute_result"
    }
   ],
   "source": [
    "lr_learner.train_loop(dl)"
   ]
  },
  {
   "cell_type": "code",
   "execution_count": 24,
   "id": "ca410940",
   "metadata": {
    "execution": {
     "iopub.execute_input": "2022-06-13T00:43:27.494373Z",
     "iopub.status.busy": "2022-06-13T00:43:27.493108Z",
     "iopub.status.idle": "2022-06-13T00:43:27.755789Z",
     "shell.execute_reply": "2022-06-13T00:43:27.754826Z"
    },
    "papermill": {
     "duration": 0.323733,
     "end_time": "2022-06-13T00:43:27.755962",
     "exception": false,
     "start_time": "2022-06-13T00:43:27.432229",
     "status": "completed"
    },
    "tags": []
   },
   "outputs": [
    {
     "data": {
      "text/plain": [
       "<matplotlib.legend.Legend at 0x7f424e4259b0>"
      ]
     },
     "execution_count": 24,
     "metadata": {},
     "output_type": "execute_result"
    },
    {
     "data": {
      "image/png": "[encoded data removed]",
      "text/plain": [
       "<Figure size 1080x720 with 1 Axes>"
      ]
     },
     "metadata": {
      "needs_background": "light"
     },
     "output_type": "display_data"
    }
   ],
   "source": [
    "#comparing the results of NN and LR\n",
    "plt.figure(figsize=(15,10))\n",
    "\n",
    "# Neural Network plots\n",
    "plt.plot(acc_nn.accuracies, 'r-', label = \"Training Accuracies - NN\")\n",
    "plt.plot(acc_nn.test_accuracies, 'g-', label = \"Testing Accuracies - NN\")\n",
    "\n",
    "# Logistic Regression plots\n",
    "plt.plot(acc_lr.accuracies, 'k-', label = \"Training Accuracies - LR\")\n",
    "plt.plot(acc_lr.test_accuracies, 'b-', label = \"Testing Accuracies - LR\")\n",
    "plt.legend()"
   ]
  },
  {
   "cell_type": "markdown",
   "id": "80dfb35c",
   "metadata": {
    "papermill": {
     "duration": 0.049311,
     "end_time": "2022-06-13T00:43:27.857788",
     "exception": false,
     "start_time": "2022-06-13T00:43:27.808477",
     "status": "completed"
    },
    "tags": []
   },
   "source": [
    "#### Plotting the outputs of this layer of the NN.\n"
   ]
  },
  {
   "cell_type": "code",
   "execution_count": 25,
   "id": "45eb2ff5",
   "metadata": {
    "execution": {
     "iopub.execute_input": "2022-06-13T00:43:27.965581Z",
     "iopub.status.busy": "2022-06-13T00:43:27.964830Z",
     "iopub.status.idle": "2022-06-13T00:43:27.984885Z",
     "shell.execute_reply": "2022-06-13T00:43:27.985462Z"
    },
    "papermill": {
     "duration": 0.078491,
     "end_time": "2022-06-13T00:43:27.985623",
     "exception": false,
     "start_time": "2022-06-13T00:43:27.907132",
     "status": "completed"
    },
    "tags": []
   },
   "outputs": [],
   "source": [
    "new_model = Model(layers[:-2])\n",
    "testing_plot = new_model(testing_data_x)"
   ]
  },
  {
   "cell_type": "code",
   "execution_count": 26,
   "id": "4c0a5485",
   "metadata": {
    "execution": {
     "iopub.execute_input": "2022-06-13T00:43:28.092991Z",
     "iopub.status.busy": "2022-06-13T00:43:28.092230Z",
     "iopub.status.idle": "2022-06-13T00:43:28.349197Z",
     "shell.execute_reply": "2022-06-13T00:43:28.349745Z"
    },
    "papermill": {
     "duration": 0.312789,
     "end_time": "2022-06-13T00:43:28.349908",
     "exception": false,
     "start_time": "2022-06-13T00:43:28.037119",
     "status": "completed"
    },
    "tags": []
   },
   "outputs": [
    {
     "data": {
      "text/plain": [
       "Text(0.5, 1.0, 'Outputs')"
      ]
     },
     "execution_count": 26,
     "metadata": {},
     "output_type": "execute_result"
    },
    {
     "data": {
      "image/png": "[encoded data removed]",
      "text/plain": [
       "<Figure size 576x504 with 1 Axes>"
      ]
     },
     "metadata": {
      "needs_background": "light"
     },
     "output_type": "display_data"
    }
   ],
   "source": [
    "# Plotting the scatter plot of points and color coding by class\n",
    "plt.figure(figsize=(8,7))\n",
    "plt.scatter(testing_plot[:,0], testing_plot[:,1], alpha = 0.1, c = y_test.ravel());\n",
    "plt.title('Outputs')"
   ]
  },
  {
   "cell_type": "markdown",
   "id": "a74fcf8f",
   "metadata": {
    "papermill": {
     "duration": 0.052418,
     "end_time": "2022-06-13T00:43:28.455200",
     "exception": false,
     "start_time": "2022-06-13T00:43:28.402782",
     "status": "completed"
    },
    "tags": []
   },
   "source": [
    "Probability contours"
   ]
  },
  {
   "cell_type": "code",
   "execution_count": 27,
   "id": "d0afc8e3",
   "metadata": {
    "execution": {
     "iopub.execute_input": "2022-06-13T00:43:28.566176Z",
     "iopub.status.busy": "2022-06-13T00:43:28.565427Z",
     "iopub.status.idle": "2022-06-13T00:43:28.580148Z",
     "shell.execute_reply": "2022-06-13T00:43:28.580704Z"
    },
    "papermill": {
     "duration": 0.073026,
     "end_time": "2022-06-13T00:43:28.580858",
     "exception": false,
     "start_time": "2022-06-13T00:43:28.507832",
     "status": "completed"
    },
    "tags": []
   },
   "outputs": [],
   "source": [
    "model_prob = Model(layers[-2:]) "
   ]
  },
  {
   "cell_type": "code",
   "execution_count": 28,
   "id": "9b96e238",
   "metadata": {
    "execution": {
     "iopub.execute_input": "2022-06-13T00:43:28.724994Z",
     "iopub.status.busy": "2022-06-13T00:43:28.724236Z",
     "iopub.status.idle": "2022-06-13T00:43:28.739716Z",
     "shell.execute_reply": "2022-06-13T00:43:28.740273Z"
    },
    "papermill": {
     "duration": 0.074994,
     "end_time": "2022-06-13T00:43:28.740438",
     "exception": false,
     "start_time": "2022-06-13T00:43:28.665444",
     "status": "completed"
    },
    "tags": []
   },
   "outputs": [],
   "source": [
    "#creating the x and y ranges according to the above generated plot.\n",
    "x_range = np.linspace(-4, 1, 100) \n",
    "y_range = np.linspace(-6, 6, 100) \n",
    "x_grid, y_grid = np.meshgrid(x_range, y_range) # x_grid and y_grig are of size 100 X 100\n",
    "\n",
    "# converting x_grid and y_grid to continuous arrays\n",
    "x_gridflat = np.ravel(x_grid)\n",
    "y_gridflat = np.ravel(y_grid)\n",
    "\n",
    "# The last layer of the current model takes two columns as input. Hence transpose of np.vstack() is required.\n",
    "X = np.vstack((x_gridflat, y_gridflat)).T\n",
    "\n",
    "prob_contour = model_prob(X).reshape(100,100) "
   ]
  },
  {
   "cell_type": "code",
   "execution_count": 29,
   "id": "da72499a",
   "metadata": {
    "execution": {
     "iopub.execute_input": "2022-06-13T00:43:28.865676Z",
     "iopub.status.busy": "2022-06-13T00:43:28.864960Z",
     "iopub.status.idle": "2022-06-13T00:43:29.159629Z",
     "shell.execute_reply": "2022-06-13T00:43:29.158718Z"
    },
    "papermill": {
     "duration": 0.36232,
     "end_time": "2022-06-13T00:43:29.159775",
     "exception": false,
     "start_time": "2022-06-13T00:43:28.797455",
     "status": "completed"
    },
    "tags": []
   },
   "outputs": [
    {
     "data": {
      "image/png": "[encoded data removed]",
      "text/plain": [
       "<Figure size 720x648 with 1 Axes>"
      ]
     },
     "metadata": {
      "needs_background": "light"
     },
     "output_type": "display_data"
    }
   ],
   "source": [
    "plt.figure(figsize=(10,9))\n",
    "plt.scatter(testing_plot[:,0], testing_plot[:,1], alpha = 0.1, c = y_test.ravel())\n",
    "contours = plt.contour(x_grid,y_grid,prob_contour)\n",
    "plt.title('Probability Contours')\n",
    "plt.clabel(contours, inline = True );"
   ]
  },
  {
   "cell_type": "code",
   "execution_count": null,
   "id": "e81b4ac7",
   "metadata": {
    "papermill": {
     "duration": 0.055897,
     "end_time": "2022-06-13T00:43:29.272103",
     "exception": false,
     "start_time": "2022-06-13T00:43:29.216206",
     "status": "completed"
    },
    "tags": []
   },
   "outputs": [],
   "source": []
  }
 ],
 "metadata": {
  "kernelspec": {
   "display_name": "Python 3",
   "language": "python",
   "name": "python3"
  },
  "language_info": {
   "codemirror_mode": {
    "name": "ipython",
    "version": 3
   },
   "file_extension": ".py",
   "mimetype": "text/x-python",
   "name": "python",
   "nbconvert_exporter": "python",
   "pygments_lexer": "ipython3",
   "version": "3.6.15"
  },
  "papermill": {
   "default_parameters": {},
   "duration": 116.235105,
   "end_time": "2022-06-13T00:43:29.749186",
   "environment_variables": {},
   "exception": null,
   "input_path": "2020-08-11-part2.ipynb",
   "output_path": "2020-08-11-part2.ipynb",
   "parameters": {},
   "start_time": "2022-06-13T00:41:33.514081",
   "version": "2.3.3"
  }
 },
 "nbformat": 4,
 "nbformat_minor": 5
}