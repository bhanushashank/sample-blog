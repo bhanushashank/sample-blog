{
 "cells": [
  {
   "cell_type": "markdown",
   "id": "98380cd3",
   "metadata": {
    "papermill": {
     "duration": 0.033242,
     "end_time": "2022-10-01T01:04:53.877548",
     "exception": false,
     "start_time": "2022-10-01T01:04:53.844306",
     "status": "completed"
    },
    "tags": []
   },
   "source": [
    "# Distinguish Your Own Digits (DYOD)"
   ]
  },
  {
   "cell_type": "markdown",
   "id": "ef31240d",
   "metadata": {
    "papermill": {
     "duration": 0.027398,
     "end_time": "2022-10-01T01:04:53.932647",
     "exception": false,
     "start_time": "2022-10-01T01:04:53.905249",
     "status": "completed"
    },
    "tags": []
   },
   "source": [
    "You are going to write a classifier that distinguishes between the number 3 and number 8."
   ]
  },
  {
   "cell_type": "code",
   "execution_count": 1,
   "id": "b15c8646",
   "metadata": {
    "execution": {
     "iopub.execute_input": "2022-10-01T01:04:54.000717Z",
     "iopub.status.busy": "2022-10-01T01:04:53.999318Z",
     "iopub.status.idle": "2022-10-01T01:04:54.012192Z",
     "shell.execute_reply": "2022-10-01T01:04:54.011484Z"
    },
    "papermill": {
     "duration": 0.050847,
     "end_time": "2022-10-01T01:04:54.012324",
     "exception": false,
     "start_time": "2022-10-01T01:04:53.961477",
     "status": "completed"
    },
    "tags": []
   },
   "outputs": [],
   "source": [
    "%load_ext autoreload\n",
    "%autoreload 2"
   ]
  },
  {
   "cell_type": "code",
   "execution_count": 2,
   "id": "22ef38dc",
   "metadata": {
    "execution": {
     "iopub.execute_input": "2022-10-01T01:04:54.073447Z",
     "iopub.status.busy": "2022-10-01T01:04:54.072653Z",
     "iopub.status.idle": "2022-10-01T01:04:54.700139Z",
     "shell.execute_reply": "2022-10-01T01:04:54.699455Z"
    },
    "papermill": {
     "duration": 0.661393,
     "end_time": "2022-10-01T01:04:54.700277",
     "exception": false,
     "start_time": "2022-10-01T01:04:54.038884",
     "status": "completed"
    },
    "tags": []
   },
   "outputs": [],
   "source": [
    "%matplotlib inline\n",
    "import numpy as np\n",
    "import matplotlib.pyplot as plt\n",
    "import pandas as pd"
   ]
  },
  {
   "cell_type": "markdown",
   "id": "ba036198",
   "metadata": {
    "papermill": {
     "duration": 0.028148,
     "end_time": "2022-10-01T01:04:54.757904",
     "exception": false,
     "start_time": "2022-10-01T01:04:54.729756",
     "status": "completed"
    },
    "tags": []
   },
   "source": [
    "From the command line run `pip install mnist`. This is a library that will help you bring down the mnist dataset. If you run this from a notebook, you need to put  `!pip install mnist` in a cell by itself."
   ]
  },
  {
   "cell_type": "code",
   "execution_count": 3,
   "id": "bb6ad8a1",
   "metadata": {
    "execution": {
     "iopub.execute_input": "2022-10-01T01:04:54.821013Z",
     "iopub.status.busy": "2022-10-01T01:04:54.820231Z",
     "iopub.status.idle": "2022-10-01T01:04:56.603728Z",
     "shell.execute_reply": "2022-10-01T01:04:56.603016Z"
    },
    "papermill": {
     "duration": 1.818561,
     "end_time": "2022-10-01T01:04:56.603865",
     "exception": false,
     "start_time": "2022-10-01T01:04:54.785304",
     "status": "completed"
    },
    "tags": []
   },
   "outputs": [
    {
     "name": "stdout",
     "output_type": "stream",
     "text": [
      "Collecting mnist\r\n"
     ]
    },
    {
     "name": "stdout",
     "output_type": "stream",
     "text": [
      "  Downloading mnist-0.2.2-py2.py3-none-any.whl (3.5 kB)\r\n",
      "Requirement already satisfied: numpy in /opt/hostedtoolcache/Python/3.6.15/x64/lib/python3.6/site-packages (from mnist) (1.19.5)\r\n"
     ]
    },
    {
     "name": "stdout",
     "output_type": "stream",
     "text": [
      "Installing collected packages: mnist\r\n"
     ]
    },
    {
     "name": "stdout",
     "output_type": "stream",
     "text": [
      "Successfully installed mnist-0.2.2\r\n"
     ]
    }
   ],
   "source": [
    "!pip install mnist"
   ]
  },
  {
   "cell_type": "markdown",
   "id": "69df9c9a",
   "metadata": {
    "papermill": {
     "duration": 0.028761,
     "end_time": "2022-10-01T01:04:56.662717",
     "exception": false,
     "start_time": "2022-10-01T01:04:56.633956",
     "status": "completed"
    },
    "tags": []
   },
   "source": [
    "## Preparing the Data"
   ]
  },
  {
   "cell_type": "code",
   "execution_count": 4,
   "id": "7f69d806",
   "metadata": {
    "execution": {
     "iopub.execute_input": "2022-10-01T01:04:56.740269Z",
     "iopub.status.busy": "2022-10-01T01:04:56.739489Z",
     "iopub.status.idle": "2022-10-01T01:04:56.757844Z",
     "shell.execute_reply": "2022-10-01T01:04:56.757286Z"
    },
    "papermill": {
     "duration": 0.064938,
     "end_time": "2022-10-01T01:04:56.757975",
     "exception": false,
     "start_time": "2022-10-01T01:04:56.693037",
     "status": "completed"
    },
    "tags": []
   },
   "outputs": [],
   "source": [
    "import mnist"
   ]
  },
  {
   "cell_type": "code",
   "execution_count": 5,
   "id": "a411e44f",
   "metadata": {
    "execution": {
     "iopub.execute_input": "2022-10-01T01:04:56.830987Z",
     "iopub.status.busy": "2022-10-01T01:04:56.830165Z",
     "iopub.status.idle": "2022-10-01T01:04:57.365736Z",
     "shell.execute_reply": "2022-10-01T01:04:57.365093Z"
    },
    "papermill": {
     "duration": 0.574921,
     "end_time": "2022-10-01T01:04:57.365872",
     "exception": false,
     "start_time": "2022-10-01T01:04:56.790951",
     "status": "completed"
    },
    "tags": []
   },
   "outputs": [],
   "source": [
    "train_images = mnist.train_images()\n",
    "train_labels = mnist.train_labels()"
   ]
  },
  {
   "cell_type": "code",
   "execution_count": 6,
   "id": "dceab3a5",
   "metadata": {
    "execution": {
     "iopub.execute_input": "2022-10-01T01:04:57.429185Z",
     "iopub.status.busy": "2022-10-01T01:04:57.428468Z",
     "iopub.status.idle": "2022-10-01T01:04:57.454187Z",
     "shell.execute_reply": "2022-10-01T01:04:57.453488Z"
    },
    "papermill": {
     "duration": 0.060404,
     "end_time": "2022-10-01T01:04:57.454342",
     "exception": false,
     "start_time": "2022-10-01T01:04:57.393938",
     "status": "completed"
    },
    "tags": []
   },
   "outputs": [
    {
     "data": {
      "text/plain": [
       "((60000, 28, 28), (60000,))"
      ]
     },
     "execution_count": 6,
     "metadata": {},
     "output_type": "execute_result"
    }
   ],
   "source": [
    "train_images.shape, train_labels.shape"
   ]
  },
  {
   "cell_type": "code",
   "execution_count": 7,
   "id": "f50dc2bb",
   "metadata": {
    "execution": {
     "iopub.execute_input": "2022-10-01T01:04:57.540866Z",
     "iopub.status.busy": "2022-10-01T01:04:57.540177Z",
     "iopub.status.idle": "2022-10-01T01:04:57.671777Z",
     "shell.execute_reply": "2022-10-01T01:04:57.671163Z"
    },
    "papermill": {
     "duration": 0.169895,
     "end_time": "2022-10-01T01:04:57.671914",
     "exception": false,
     "start_time": "2022-10-01T01:04:57.502019",
     "status": "completed"
    },
    "tags": []
   },
   "outputs": [],
   "source": [
    "test_images = mnist.test_images()\n",
    "test_labels = mnist.test_labels()"
   ]
  },
  {
   "cell_type": "code",
   "execution_count": 8,
   "id": "fc38cf1b",
   "metadata": {
    "execution": {
     "iopub.execute_input": "2022-10-01T01:04:57.741211Z",
     "iopub.status.busy": "2022-10-01T01:04:57.740535Z",
     "iopub.status.idle": "2022-10-01T01:04:57.753352Z",
     "shell.execute_reply": "2022-10-01T01:04:57.754035Z"
    },
    "papermill": {
     "duration": 0.050397,
     "end_time": "2022-10-01T01:04:57.754171",
     "exception": false,
     "start_time": "2022-10-01T01:04:57.703774",
     "status": "completed"
    },
    "tags": []
   },
   "outputs": [
    {
     "data": {
      "text/plain": [
       "((10000, 28, 28), (10000,))"
      ]
     },
     "execution_count": 8,
     "metadata": {},
     "output_type": "execute_result"
    }
   ],
   "source": [
    "test_images.shape, test_labels.shape"
   ]
  },
  {
   "cell_type": "code",
   "execution_count": 9,
   "id": "f9ed8fe0",
   "metadata": {
    "execution": {
     "iopub.execute_input": "2022-10-01T01:04:57.821389Z",
     "iopub.status.busy": "2022-10-01T01:04:57.820578Z",
     "iopub.status.idle": "2022-10-01T01:04:58.009264Z",
     "shell.execute_reply": "2022-10-01T01:04:58.008456Z"
    },
    "papermill": {
     "duration": 0.226084,
     "end_time": "2022-10-01T01:04:58.009406",
     "exception": false,
     "start_time": "2022-10-01T01:04:57.783322",
     "status": "completed"
    },
    "tags": []
   },
   "outputs": [
    {
     "name": "stdout",
     "output_type": "stream",
     "text": [
      "2\n"
     ]
    },
    {
     "data": {
      "text/plain": [
       "<matplotlib.image.AxesImage at 0x7f7495c79c50>"
      ]
     },
     "execution_count": 9,
     "metadata": {},
     "output_type": "execute_result"
    },
    {
     "data": {
      "image/png": "[encoded data removed]",
      "text/plain": [
       "<Figure size 432x288 with 1 Axes>"
      ]
     },
     "metadata": {
      "needs_background": "light"
     },
     "output_type": "display_data"
    }
   ],
   "source": [
    "image_index = 7776 # You may select anything up to 60,000\n",
    "print(train_labels[image_index]) \n",
    "plt.imshow(train_images[image_index], cmap='Greys')"
   ]
  },
  {
   "cell_type": "markdown",
   "id": "a8d2388d",
   "metadata": {
    "papermill": {
     "duration": 0.034413,
     "end_time": "2022-10-01T01:04:58.078208",
     "exception": false,
     "start_time": "2022-10-01T01:04:58.043795",
     "status": "completed"
    },
    "tags": []
   },
   "source": [
    "## Filter data to get 3 and 8 out"
   ]
  },
  {
   "cell_type": "code",
   "execution_count": 10,
   "id": "776f7fc7",
   "metadata": {
    "execution": {
     "iopub.execute_input": "2022-10-01T01:04:58.157383Z",
     "iopub.status.busy": "2022-10-01T01:04:58.156705Z",
     "iopub.status.idle": "2022-10-01T01:04:58.172771Z",
     "shell.execute_reply": "2022-10-01T01:04:58.172116Z"
    },
    "papermill": {
     "duration": 0.063283,
     "end_time": "2022-10-01T01:04:58.172922",
     "exception": false,
     "start_time": "2022-10-01T01:04:58.109639",
     "status": "completed"
    },
    "tags": []
   },
   "outputs": [],
   "source": [
    "train_filter = np.where((train_labels == 3 ) | (train_labels == 8))\n",
    "test_filter = np.where((test_labels == 3) | (test_labels == 8))\n",
    "X_train, y_train = train_images[train_filter], train_labels[train_filter]\n",
    "X_test, y_test = test_images[test_filter], test_labels[test_filter]"
   ]
  },
  {
   "cell_type": "markdown",
   "id": "948f0b7e",
   "metadata": {
    "papermill": {
     "duration": 0.03265,
     "end_time": "2022-10-01T01:04:58.240775",
     "exception": false,
     "start_time": "2022-10-01T01:04:58.208125",
     "status": "completed"
    },
    "tags": []
   },
   "source": [
    "We normalize the pizel values in the 0 to 1 range"
   ]
  },
  {
   "cell_type": "code",
   "execution_count": 11,
   "id": "ee4c2166",
   "metadata": {
    "execution": {
     "iopub.execute_input": "2022-10-01T01:04:58.313664Z",
     "iopub.status.busy": "2022-10-01T01:04:58.312936Z",
     "iopub.status.idle": "2022-10-01T01:04:58.378587Z",
     "shell.execute_reply": "2022-10-01T01:04:58.377912Z"
    },
    "papermill": {
     "duration": 0.104121,
     "end_time": "2022-10-01T01:04:58.378727",
     "exception": false,
     "start_time": "2022-10-01T01:04:58.274606",
     "status": "completed"
    },
    "tags": []
   },
   "outputs": [],
   "source": [
    "X_train = X_train/255.\n",
    "X_test = X_test/255."
   ]
  },
  {
   "cell_type": "markdown",
   "id": "ddcf4fab",
   "metadata": {
    "papermill": {
     "duration": 0.034892,
     "end_time": "2022-10-01T01:04:58.448443",
     "exception": false,
     "start_time": "2022-10-01T01:04:58.413551",
     "status": "completed"
    },
    "tags": []
   },
   "source": [
    "And setup the labels as 1 (when the digit is 3) and 0 (when the digit is 8)"
   ]
  },
  {
   "cell_type": "code",
   "execution_count": 12,
   "id": "7dc908f2",
   "metadata": {
    "execution": {
     "iopub.execute_input": "2022-10-01T01:04:58.535621Z",
     "iopub.status.busy": "2022-10-01T01:04:58.530073Z",
     "iopub.status.idle": "2022-10-01T01:04:58.539381Z",
     "shell.execute_reply": "2022-10-01T01:04:58.538795Z"
    },
    "papermill": {
     "duration": 0.05664,
     "end_time": "2022-10-01T01:04:58.539511",
     "exception": false,
     "start_time": "2022-10-01T01:04:58.482871",
     "status": "completed"
    },
    "tags": []
   },
   "outputs": [],
   "source": [
    "y_train = 1*(y_train==3)\n",
    "y_test = 1*(y_test==3)"
   ]
  },
  {
   "cell_type": "code",
   "execution_count": 13,
   "id": "01e4e969",
   "metadata": {
    "execution": {
     "iopub.execute_input": "2022-10-01T01:04:58.609463Z",
     "iopub.status.busy": "2022-10-01T01:04:58.608834Z",
     "iopub.status.idle": "2022-10-01T01:04:58.621241Z",
     "shell.execute_reply": "2022-10-01T01:04:58.621754Z"
    },
    "papermill": {
     "duration": 0.052105,
     "end_time": "2022-10-01T01:04:58.621885",
     "exception": false,
     "start_time": "2022-10-01T01:04:58.569780",
     "status": "completed"
    },
    "tags": []
   },
   "outputs": [
    {
     "data": {
      "text/plain": [
       "((11982, 28, 28), (1984, 28, 28))"
      ]
     },
     "execution_count": 13,
     "metadata": {},
     "output_type": "execute_result"
    }
   ],
   "source": [
    "X_train.shape, X_test.shape"
   ]
  },
  {
   "cell_type": "markdown",
   "id": "5ccf3f85",
   "metadata": {
    "papermill": {
     "duration": 0.033753,
     "end_time": "2022-10-01T01:04:58.686494",
     "exception": false,
     "start_time": "2022-10-01T01:04:58.652741",
     "status": "completed"
    },
    "tags": []
   },
   "source": [
    "We reshape the data to flatten the image pixels into a set of features or co-variates:"
   ]
  },
  {
   "cell_type": "code",
   "execution_count": 14,
   "id": "5286a4a3",
   "metadata": {
    "execution": {
     "iopub.execute_input": "2022-10-01T01:04:58.760641Z",
     "iopub.status.busy": "2022-10-01T01:04:58.759942Z",
     "iopub.status.idle": "2022-10-01T01:04:58.776207Z",
     "shell.execute_reply": "2022-10-01T01:04:58.775625Z"
    },
    "papermill": {
     "duration": 0.055216,
     "end_time": "2022-10-01T01:04:58.776334",
     "exception": false,
     "start_time": "2022-10-01T01:04:58.721118",
     "status": "completed"
    },
    "tags": []
   },
   "outputs": [
    {
     "data": {
      "text/plain": [
       "((11982, 784), (1984, 784))"
      ]
     },
     "execution_count": 14,
     "metadata": {},
     "output_type": "execute_result"
    }
   ],
   "source": [
    "X_train = X_train.reshape(X_train.shape[0], -1)\n",
    "X_test = X_test.reshape(X_test.shape[0], -1)\n",
    "X_train.shape, X_test.shape"
   ]
  },
  {
   "cell_type": "code",
   "execution_count": 15,
   "id": "73c5f88a",
   "metadata": {
    "execution": {
     "iopub.execute_input": "2022-10-01T01:04:58.849338Z",
     "iopub.status.busy": "2022-10-01T01:04:58.848585Z",
     "iopub.status.idle": "2022-10-01T01:04:58.870182Z",
     "shell.execute_reply": "2022-10-01T01:04:58.869531Z"
    },
    "papermill": {
     "duration": 0.060001,
     "end_time": "2022-10-01T01:04:58.870325",
     "exception": false,
     "start_time": "2022-10-01T01:04:58.810324",
     "status": "completed"
    },
    "tags": []
   },
   "outputs": [],
   "source": [
    "#Impoting functions from 'Kudzu'\n",
    "from kudzu.model import Model\n",
    "from kudzu.train import Learner\n",
    "from kudzu.optim import GD\n",
    "from kudzu.data import Data, Sampler,Dataloader\n",
    "\n",
    "from kudzu.callbacks import AccCallback\n",
    "from kudzu.callbacks import ClfCallback\n",
    "\n",
    "from kudzu.loss import MSE\n",
    "\n",
    "from kudzu.layer import Sigmoid,Relu\n",
    "from kudzu.layer import Affine"
   ]
  },
  {
   "cell_type": "markdown",
   "id": "bc01172a",
   "metadata": {
    "papermill": {
     "duration": 0.03187,
     "end_time": "2022-10-01T01:04:58.942891",
     "exception": false,
     "start_time": "2022-10-01T01:04:58.911021",
     "status": "completed"
    },
    "tags": []
   },
   "source": [
    "### Let us create a `Config` class, to store important parameters. \n",
    "This class essentially plays the role of a dictionary."
   ]
  },
  {
   "cell_type": "code",
   "execution_count": 16,
   "id": "978281aa",
   "metadata": {
    "execution": {
     "iopub.execute_input": "2022-10-01T01:04:59.020861Z",
     "iopub.status.busy": "2022-10-01T01:04:59.020123Z",
     "iopub.status.idle": "2022-10-01T01:04:59.032460Z",
     "shell.execute_reply": "2022-10-01T01:04:59.033013Z"
    },
    "papermill": {
     "duration": 0.055882,
     "end_time": "2022-10-01T01:04:59.033154",
     "exception": false,
     "start_time": "2022-10-01T01:04:58.977272",
     "status": "completed"
    },
    "tags": []
   },
   "outputs": [],
   "source": [
    "class Config:\n",
    "    pass\n",
    "config = Config()\n",
    "config.lr = 0.001\n",
    "config.num_epochs = 250\n",
    "config.bs = 50"
   ]
  },
  {
   "cell_type": "markdown",
   "id": "1385fa59",
   "metadata": {
    "papermill": {
     "duration": 0.032659,
     "end_time": "2022-10-01T01:04:59.099061",
     "exception": false,
     "start_time": "2022-10-01T01:04:59.066402",
     "status": "completed"
    },
    "tags": []
   },
   "source": [
    "### Running Models with the Training data\n",
    "Details about the network layers:\n",
    "- A first affine layer has 784 inputs and does 100 affine transforms. These are followed by a Relu\n",
    "- A second affine layer has 100 inputs from the 100 activations of the past layer, and does 100 affine transforms. These are followed by a Relu\n",
    "- A third affine layer has 100 activations and does 2 affine transformations to create an embedding for visualization. There is no non-linearity here.\n",
    "- A final \"logistic regression\" which has an affine transform from 2 inputs to 1 output, which is squeezed through a sigmoid.\n"
   ]
  },
  {
   "cell_type": "code",
   "execution_count": 17,
   "id": "2b9c66db",
   "metadata": {
    "execution": {
     "iopub.execute_input": "2022-10-01T01:04:59.175073Z",
     "iopub.status.busy": "2022-10-01T01:04:59.174380Z",
     "iopub.status.idle": "2022-10-01T01:04:59.182579Z",
     "shell.execute_reply": "2022-10-01T01:04:59.183270Z"
    },
    "papermill": {
     "duration": 0.052297,
     "end_time": "2022-10-01T01:04:59.183429",
     "exception": false,
     "start_time": "2022-10-01T01:04:59.131132",
     "status": "completed"
    },
    "tags": []
   },
   "outputs": [],
   "source": [
    "data = Data(X_train, y_train.reshape(-1,1))\n",
    "sampler = Sampler(data, config.bs, shuffle=True)\n",
    "\n",
    "dl = Dataloader(data, sampler)\n",
    "\n",
    "opt = GD(config.lr)\n",
    "loss = MSE()"
   ]
  },
  {
   "cell_type": "code",
   "execution_count": 18,
   "id": "b275e4c2",
   "metadata": {
    "execution": {
     "iopub.execute_input": "2022-10-01T01:04:59.261358Z",
     "iopub.status.busy": "2022-10-01T01:04:59.252421Z",
     "iopub.status.idle": "2022-10-01T01:04:59.265691Z",
     "shell.execute_reply": "2022-10-01T01:04:59.266380Z"
    },
    "papermill": {
     "duration": 0.051289,
     "end_time": "2022-10-01T01:04:59.266578",
     "exception": false,
     "start_time": "2022-10-01T01:04:59.215289",
     "status": "completed"
    },
    "tags": []
   },
   "outputs": [],
   "source": [
    "training_data_x = X_train\n",
    "testing_data_x = X_test\n",
    "training_data_y = y_train.reshape(-1,1)\n",
    "testing_data_y = y_test.reshape(-1,1)"
   ]
  },
  {
   "cell_type": "code",
   "execution_count": 19,
   "id": "76951160",
   "metadata": {
    "execution": {
     "iopub.execute_input": "2022-10-01T01:04:59.344608Z",
     "iopub.status.busy": "2022-10-01T01:04:59.340744Z",
     "iopub.status.idle": "2022-10-01T01:04:59.357611Z",
     "shell.execute_reply": "2022-10-01T01:04:59.357094Z"
    },
    "papermill": {
     "duration": 0.055427,
     "end_time": "2022-10-01T01:04:59.357727",
     "exception": false,
     "start_time": "2022-10-01T01:04:59.302300",
     "status": "completed"
    },
    "tags": []
   },
   "outputs": [
    {
     "name": "stdout",
     "output_type": "stream",
     "text": [
      "xavier\n",
      "xavier\n",
      "xavier\n",
      "xavier\n",
      "xavier\n"
     ]
    }
   ],
   "source": [
    "layers = [Affine(\"first\", 784, 100), Relu(\"first\"), Affine(\"second\", 100, 100), Relu(\"second\"), Affine(\"third\", 100, 2), Affine(\"last\", 2, 1), Sigmoid(\"last\")]\n",
    "model_nn = Model(layers)\n",
    "model_lr = Model([Affine(\"logits\", 784, 1), Sigmoid(\"sigmoid\")])"
   ]
  },
  {
   "cell_type": "code",
   "execution_count": 20,
   "id": "6eede77a",
   "metadata": {
    "execution": {
     "iopub.execute_input": "2022-10-01T01:04:59.427017Z",
     "iopub.status.busy": "2022-10-01T01:04:59.426353Z",
     "iopub.status.idle": "2022-10-01T01:04:59.440078Z",
     "shell.execute_reply": "2022-10-01T01:04:59.439493Z"
    },
    "papermill": {
     "duration": 0.051193,
     "end_time": "2022-10-01T01:04:59.440196",
     "exception": false,
     "start_time": "2022-10-01T01:04:59.389003",
     "status": "completed"
    },
    "tags": []
   },
   "outputs": [],
   "source": [
    "nn_learner = Learner(loss, model_nn, opt, config.num_epochs)\n",
    "acc_nn = ClfCallback(nn_learner, config.bs, training_data_x , testing_data_x, training_data_y, testing_data_y)\n",
    "nn_learner.set_callbacks([acc_nn])"
   ]
  },
  {
   "cell_type": "code",
   "execution_count": 21,
   "id": "877b6cc7",
   "metadata": {
    "execution": {
     "iopub.execute_input": "2022-10-01T01:04:59.508259Z",
     "iopub.status.busy": "2022-10-01T01:04:59.507531Z",
     "iopub.status.idle": "2022-10-01T01:04:59.520710Z",
     "shell.execute_reply": "2022-10-01T01:04:59.521243Z"
    },
    "papermill": {
     "duration": 0.050483,
     "end_time": "2022-10-01T01:04:59.521377",
     "exception": false,
     "start_time": "2022-10-01T01:04:59.470894",
     "status": "completed"
    },
    "tags": []
   },
   "outputs": [],
   "source": [
    "lr_learner = Learner(loss, model_lr, opt, config.num_epochs)\n",
    "acc_lr = ClfCallback(lr_learner, config.bs, training_data_x , testing_data_x, training_data_y, testing_data_y)\n",
    "lr_learner.set_callbacks([acc_lr])"
   ]
  },
  {
   "cell_type": "code",
   "execution_count": 22,
   "id": "d9b133c3",
   "metadata": {
    "execution": {
     "iopub.execute_input": "2022-10-01T01:04:59.589085Z",
     "iopub.status.busy": "2022-10-01T01:04:59.588377Z",
     "iopub.status.idle": "2022-10-01T01:07:21.727389Z",
     "shell.execute_reply": "2022-10-01T01:07:21.728383Z"
    },
    "papermill": {
     "duration": 142.175795,
     "end_time": "2022-10-01T01:07:21.728578",
     "exception": false,
     "start_time": "2022-10-01T01:04:59.552783",
     "status": "completed"
    },
    "tags": []
   },
   "outputs": [
    {
     "name": "stdout",
     "output_type": "stream",
     "text": [
      "Epoch 0, Loss 0.25\n",
      "Training Accuracy: 0.5399, Testing Accuracy: 0.5408\n",
      "\n"
     ]
    },
    {
     "name": "stdout",
     "output_type": "stream",
     "text": [
      "Epoch 10, Loss 0.103\n",
      "Training Accuracy: 0.9249, Testing Accuracy: 0.9274\n",
      "\n"
     ]
    },
    {
     "name": "stdout",
     "output_type": "stream",
     "text": [
      "Epoch 20, Loss 0.0581\n",
      "Training Accuracy: 0.9429, Testing Accuracy: 0.9516\n",
      "\n"
     ]
    },
    {
     "name": "stdout",
     "output_type": "stream",
     "text": [
      "Epoch 30, Loss 0.0451\n",
      "Training Accuracy: 0.9505, Testing Accuracy: 0.9607\n",
      "\n"
     ]
    },
    {
     "name": "stdout",
     "output_type": "stream",
     "text": [
      "Epoch 40, Loss 0.039\n",
      "Training Accuracy: 0.9566, Testing Accuracy: 0.9657\n",
      "\n"
     ]
    },
    {
     "name": "stdout",
     "output_type": "stream",
     "text": [
      "Epoch 50, Loss 0.0354\n",
      "Training Accuracy: 0.9596, Testing Accuracy: 0.9682\n",
      "\n"
     ]
    },
    {
     "name": "stdout",
     "output_type": "stream",
     "text": [
      "Epoch 60, Loss 0.0329\n",
      "Training Accuracy: 0.9623, Testing Accuracy: 0.9698\n",
      "\n"
     ]
    },
    {
     "name": "stdout",
     "output_type": "stream",
     "text": [
      "Epoch 70, Loss 0.031\n",
      "Training Accuracy: 0.9644, Testing Accuracy: 0.9698\n",
      "\n"
     ]
    },
    {
     "name": "stdout",
     "output_type": "stream",
     "text": [
      "Epoch 80, Loss 0.0295\n",
      "Training Accuracy: 0.9660, Testing Accuracy: 0.9698\n",
      "\n"
     ]
    },
    {
     "name": "stdout",
     "output_type": "stream",
     "text": [
      "Epoch 90, Loss 0.0283\n",
      "Training Accuracy: 0.9669, Testing Accuracy: 0.9703\n",
      "\n"
     ]
    },
    {
     "name": "stdout",
     "output_type": "stream",
     "text": [
      "Epoch 100, Loss 0.0273\n",
      "Training Accuracy: 0.9685, Testing Accuracy: 0.9708\n",
      "\n"
     ]
    },
    {
     "name": "stdout",
     "output_type": "stream",
     "text": [
      "Epoch 110, Loss 0.0265\n",
      "Training Accuracy: 0.9693, Testing Accuracy: 0.9708\n",
      "\n"
     ]
    },
    {
     "name": "stdout",
     "output_type": "stream",
     "text": [
      "Epoch 120, Loss 0.0257\n",
      "Training Accuracy: 0.9700, Testing Accuracy: 0.9698\n",
      "\n"
     ]
    },
    {
     "name": "stdout",
     "output_type": "stream",
     "text": [
      "Epoch 130, Loss 0.025\n",
      "Training Accuracy: 0.9705, Testing Accuracy: 0.9698\n",
      "\n"
     ]
    },
    {
     "name": "stdout",
     "output_type": "stream",
     "text": [
      "Epoch 140, Loss 0.0244\n",
      "Training Accuracy: 0.9718, Testing Accuracy: 0.9698\n",
      "\n"
     ]
    },
    {
     "name": "stdout",
     "output_type": "stream",
     "text": [
      "Epoch 150, Loss 0.0238\n",
      "Training Accuracy: 0.9723, Testing Accuracy: 0.9703\n",
      "\n"
     ]
    },
    {
     "name": "stdout",
     "output_type": "stream",
     "text": [
      "Epoch 160, Loss 0.0233\n",
      "Training Accuracy: 0.9730, Testing Accuracy: 0.9708\n",
      "\n"
     ]
    },
    {
     "name": "stdout",
     "output_type": "stream",
     "text": [
      "Epoch 170, Loss 0.0228\n",
      "Training Accuracy: 0.9735, Testing Accuracy: 0.9708\n",
      "\n"
     ]
    },
    {
     "name": "stdout",
     "output_type": "stream",
     "text": [
      "Epoch 180, Loss 0.0223\n",
      "Training Accuracy: 0.9743, Testing Accuracy: 0.9713\n",
      "\n"
     ]
    },
    {
     "name": "stdout",
     "output_type": "stream",
     "text": [
      "Epoch 190, Loss 0.0219\n",
      "Training Accuracy: 0.9749, Testing Accuracy: 0.9718\n",
      "\n"
     ]
    },
    {
     "name": "stdout",
     "output_type": "stream",
     "text": [
      "Epoch 200, Loss 0.0214\n",
      "Training Accuracy: 0.9750, Testing Accuracy: 0.9718\n",
      "\n"
     ]
    },
    {
     "name": "stdout",
     "output_type": "stream",
     "text": [
      "Epoch 210, Loss 0.021\n",
      "Training Accuracy: 0.9756, Testing Accuracy: 0.9718\n",
      "\n"
     ]
    },
    {
     "name": "stdout",
     "output_type": "stream",
     "text": [
      "Epoch 220, Loss 0.0207\n",
      "Training Accuracy: 0.9761, Testing Accuracy: 0.9718\n",
      "\n"
     ]
    },
    {
     "name": "stdout",
     "output_type": "stream",
     "text": [
      "Epoch 230, Loss 0.0203\n",
      "Training Accuracy: 0.9765, Testing Accuracy: 0.9723\n",
      "\n"
     ]
    },
    {
     "name": "stdout",
     "output_type": "stream",
     "text": [
      "Epoch 240, Loss 0.02\n",
      "Training Accuracy: 0.9770, Testing Accuracy: 0.9723\n",
      "\n"
     ]
    },
    {
     "data": {
      "text/plain": [
       "0.040646195101239915"
      ]
     },
     "execution_count": 22,
     "metadata": {},
     "output_type": "execute_result"
    }
   ],
   "source": [
    "nn_learner.train_loop(dl)"
   ]
  },
  {
   "cell_type": "code",
   "execution_count": 23,
   "id": "e0163366",
   "metadata": {
    "execution": {
     "iopub.execute_input": "2022-10-01T01:07:21.833554Z",
     "iopub.status.busy": "2022-10-01T01:07:21.832788Z",
     "iopub.status.idle": "2022-10-01T01:07:42.243550Z",
     "shell.execute_reply": "2022-10-01T01:07:42.244540Z"
    },
    "papermill": {
     "duration": 20.469889,
     "end_time": "2022-10-01T01:07:42.244704",
     "exception": false,
     "start_time": "2022-10-01T01:07:21.774815",
     "status": "completed"
    },
    "tags": []
   },
   "outputs": [
    {
     "name": "stdout",
     "output_type": "stream",
     "text": [
      "Epoch 0, Loss 0.2264\n",
      "Training Accuracy: 0.7293, Testing Accuracy: 0.7389\n",
      "\n"
     ]
    },
    {
     "name": "stdout",
     "output_type": "stream",
     "text": [
      "Epoch 10, Loss 0.1032\n",
      "Training Accuracy: 0.9002, Testing Accuracy: 0.9062\n",
      "\n"
     ]
    },
    {
     "name": "stdout",
     "output_type": "stream",
     "text": [
      "Epoch 20, Loss 0.0798\n",
      "Training Accuracy: 0.9227, Testing Accuracy: 0.9320\n",
      "\n"
     ]
    },
    {
     "name": "stdout",
     "output_type": "stream",
     "text": [
      "Epoch 30, Loss 0.0686\n",
      "Training Accuracy: 0.9331, Testing Accuracy: 0.9441\n",
      "\n"
     ]
    },
    {
     "name": "stdout",
     "output_type": "stream",
     "text": [
      "Epoch 40, Loss 0.0618\n",
      "Training Accuracy: 0.9387, Testing Accuracy: 0.9486\n",
      "\n"
     ]
    },
    {
     "name": "stdout",
     "output_type": "stream",
     "text": [
      "Epoch 50, Loss 0.0572\n",
      "Training Accuracy: 0.9434, Testing Accuracy: 0.9521\n",
      "\n"
     ]
    },
    {
     "name": "stdout",
     "output_type": "stream",
     "text": [
      "Epoch 60, Loss 0.0538\n",
      "Training Accuracy: 0.9465, Testing Accuracy: 0.9556\n",
      "\n"
     ]
    },
    {
     "name": "stdout",
     "output_type": "stream",
     "text": [
      "Epoch 70, Loss 0.0512\n",
      "Training Accuracy: 0.9491, Testing Accuracy: 0.9577\n",
      "\n"
     ]
    },
    {
     "name": "stdout",
     "output_type": "stream",
     "text": [
      "Epoch 80, Loss 0.0491\n",
      "Training Accuracy: 0.9509, Testing Accuracy: 0.9602\n",
      "\n"
     ]
    },
    {
     "name": "stdout",
     "output_type": "stream",
     "text": [
      "Epoch 90, Loss 0.0474\n",
      "Training Accuracy: 0.9528, Testing Accuracy: 0.9607\n",
      "\n"
     ]
    },
    {
     "name": "stdout",
     "output_type": "stream",
     "text": [
      "Epoch 100, Loss 0.046\n",
      "Training Accuracy: 0.9534, Testing Accuracy: 0.9607\n",
      "\n"
     ]
    },
    {
     "name": "stdout",
     "output_type": "stream",
     "text": [
      "Epoch 110, Loss 0.0447\n",
      "Training Accuracy: 0.9542, Testing Accuracy: 0.9617\n",
      "\n"
     ]
    },
    {
     "name": "stdout",
     "output_type": "stream",
     "text": [
      "Epoch 120, Loss 0.0437\n",
      "Training Accuracy: 0.9553, Testing Accuracy: 0.9622\n",
      "\n"
     ]
    },
    {
     "name": "stdout",
     "output_type": "stream",
     "text": [
      "Epoch 130, Loss 0.0427\n",
      "Training Accuracy: 0.9562, Testing Accuracy: 0.9637\n",
      "\n"
     ]
    },
    {
     "name": "stdout",
     "output_type": "stream",
     "text": [
      "Epoch 140, Loss 0.0419\n",
      "Training Accuracy: 0.9572, Testing Accuracy: 0.9642\n",
      "\n"
     ]
    },
    {
     "name": "stdout",
     "output_type": "stream",
     "text": [
      "Epoch 150, Loss 0.0411\n",
      "Training Accuracy: 0.9584, Testing Accuracy: 0.9642\n",
      "\n"
     ]
    },
    {
     "name": "stdout",
     "output_type": "stream",
     "text": [
      "Epoch 160, Loss 0.0405\n",
      "Training Accuracy: 0.9589, Testing Accuracy: 0.9647\n",
      "\n"
     ]
    },
    {
     "name": "stdout",
     "output_type": "stream",
     "text": [
      "Epoch 170, Loss 0.0399\n",
      "Training Accuracy: 0.9591, Testing Accuracy: 0.9647\n",
      "\n"
     ]
    },
    {
     "name": "stdout",
     "output_type": "stream",
     "text": [
      "Epoch 180, Loss 0.0393\n",
      "Training Accuracy: 0.9597, Testing Accuracy: 0.9647\n",
      "\n"
     ]
    },
    {
     "name": "stdout",
     "output_type": "stream",
     "text": [
      "Epoch 190, Loss 0.0388\n",
      "Training Accuracy: 0.9602, Testing Accuracy: 0.9657\n",
      "\n"
     ]
    },
    {
     "name": "stdout",
     "output_type": "stream",
     "text": [
      "Epoch 200, Loss 0.0383\n",
      "Training Accuracy: 0.9605, Testing Accuracy: 0.9662\n",
      "\n"
     ]
    },
    {
     "name": "stdout",
     "output_type": "stream",
     "text": [
      "Epoch 210, Loss 0.0379\n",
      "Training Accuracy: 0.9609, Testing Accuracy: 0.9672\n",
      "\n"
     ]
    },
    {
     "name": "stdout",
     "output_type": "stream",
     "text": [
      "Epoch 220, Loss 0.0375\n",
      "Training Accuracy: 0.9612, Testing Accuracy: 0.9667\n",
      "\n"
     ]
    },
    {
     "name": "stdout",
     "output_type": "stream",
     "text": [
      "Epoch 230, Loss 0.0371\n",
      "Training Accuracy: 0.9615, Testing Accuracy: 0.9667\n",
      "\n"
     ]
    },
    {
     "name": "stdout",
     "output_type": "stream",
     "text": [
      "Epoch 240, Loss 0.0367\n",
      "Training Accuracy: 0.9615, Testing Accuracy: 0.9667\n",
      "\n"
     ]
    },
    {
     "data": {
      "text/plain": [
       "0.041012075552163275"
      ]
     },
     "execution_count": 23,
     "metadata": {},
     "output_type": "execute_result"
    }
   ],
   "source": [
    "lr_learner.train_loop(dl)"
   ]
  },
  {
   "cell_type": "code",
   "execution_count": 24,
   "id": "ca410940",
   "metadata": {
    "execution": {
     "iopub.execute_input": "2022-10-01T01:07:42.354320Z",
     "iopub.status.busy": "2022-10-01T01:07:42.353410Z",
     "iopub.status.idle": "2022-10-01T01:07:42.639216Z",
     "shell.execute_reply": "2022-10-01T01:07:42.639759Z"
    },
    "papermill": {
     "duration": 0.345828,
     "end_time": "2022-10-01T01:07:42.639913",
     "exception": false,
     "start_time": "2022-10-01T01:07:42.294085",
     "status": "completed"
    },
    "tags": []
   },
   "outputs": [
    {
     "data": {
      "text/plain": [
       "<matplotlib.legend.Legend at 0x7f74957e8438>"
      ]
     },
     "execution_count": 24,
     "metadata": {},
     "output_type": "execute_result"
    },
    {
     "data": {
      "image/png": "[encoded data removed]",
      "text/plain": [
       "<Figure size 1080x720 with 1 Axes>"
      ]
     },
     "metadata": {
      "needs_background": "light"
     },
     "output_type": "display_data"
    }
   ],
   "source": [
    "#comparing the results of NN and LR\n",
    "plt.figure(figsize=(15,10))\n",
    "\n",
    "# Neural Network plots\n",
    "plt.plot(acc_nn.accuracies, 'r-', label = \"Training Accuracies - NN\")\n",
    "plt.plot(acc_nn.test_accuracies, 'g-', label = \"Testing Accuracies - NN\")\n",
    "\n",
    "# Logistic Regression plots\n",
    "plt.plot(acc_lr.accuracies, 'k-', label = \"Training Accuracies - LR\")\n",
    "plt.plot(acc_lr.test_accuracies, 'b-', label = \"Testing Accuracies - LR\")\n",
    "plt.legend()"
   ]
  },
  {
   "cell_type": "markdown",
   "id": "80dfb35c",
   "metadata": {
    "papermill": {
     "duration": 0.052085,
     "end_time": "2022-10-01T01:07:42.743876",
     "exception": false,
     "start_time": "2022-10-01T01:07:42.691791",
     "status": "completed"
    },
    "tags": []
   },
   "source": [
    "#### Plotting the outputs of this layer of the NN.\n"
   ]
  },
  {
   "cell_type": "code",
   "execution_count": 25,
   "id": "45eb2ff5",
   "metadata": {
    "execution": {
     "iopub.execute_input": "2022-10-01T01:07:42.859151Z",
     "iopub.status.busy": "2022-10-01T01:07:42.856523Z",
     "iopub.status.idle": "2022-10-01T01:07:42.886635Z",
     "shell.execute_reply": "2022-10-01T01:07:42.885663Z"
    },
    "papermill": {
     "duration": 0.090108,
     "end_time": "2022-10-01T01:07:42.886772",
     "exception": false,
     "start_time": "2022-10-01T01:07:42.796664",
     "status": "completed"
    },
    "tags": []
   },
   "outputs": [],
   "source": [
    "new_model = Model(layers[:-2])\n",
    "testing_plot = new_model(testing_data_x)"
   ]
  },
  {
   "cell_type": "code",
   "execution_count": 26,
   "id": "4c0a5485",
   "metadata": {
    "execution": {
     "iopub.execute_input": "2022-10-01T01:07:43.035373Z",
     "iopub.status.busy": "2022-10-01T01:07:43.016086Z",
     "iopub.status.idle": "2022-10-01T01:07:43.282770Z",
     "shell.execute_reply": "2022-10-01T01:07:43.283302Z"
    },
    "papermill": {
     "duration": 0.341203,
     "end_time": "2022-10-01T01:07:43.283464",
     "exception": false,
     "start_time": "2022-10-01T01:07:42.942261",
     "status": "completed"
    },
    "tags": []
   },
   "outputs": [
    {
     "data": {
      "text/plain": [
       "Text(0.5, 1.0, 'Outputs')"
      ]
     },
     "execution_count": 26,
     "metadata": {},
     "output_type": "execute_result"
    },
    {
     "data": {
      "image/png": "[encoded data removed]",
      "text/plain": [
       "<Figure size 576x504 with 1 Axes>"
      ]
     },
     "metadata": {
      "needs_background": "light"
     },
     "output_type": "display_data"
    }
   ],
   "source": [
    "# Plotting the scatter plot of points and color coding by class\n",
    "plt.figure(figsize=(8,7))\n",
    "plt.scatter(testing_plot[:,0], testing_plot[:,1], alpha = 0.1, c = y_test.ravel());\n",
    "plt.title('Outputs')"
   ]
  },
  {
   "cell_type": "markdown",
   "id": "a74fcf8f",
   "metadata": {
    "papermill": {
     "duration": 0.081967,
     "end_time": "2022-10-01T01:07:43.424029",
     "exception": false,
     "start_time": "2022-10-01T01:07:43.342062",
     "status": "completed"
    },
    "tags": []
   },
   "source": [
    "Probability contours"
   ]
  },
  {
   "cell_type": "code",
   "execution_count": 27,
   "id": "d0afc8e3",
   "metadata": {
    "execution": {
     "iopub.execute_input": "2022-10-01T01:07:43.552285Z",
     "iopub.status.busy": "2022-10-01T01:07:43.551293Z",
     "iopub.status.idle": "2022-10-01T01:07:43.560131Z",
     "shell.execute_reply": "2022-10-01T01:07:43.560854Z"
    },
    "papermill": {
     "duration": 0.077618,
     "end_time": "2022-10-01T01:07:43.561002",
     "exception": false,
     "start_time": "2022-10-01T01:07:43.483384",
     "status": "completed"
    },
    "tags": []
   },
   "outputs": [],
   "source": [
    "model_prob = Model(layers[-2:]) "
   ]
  },
  {
   "cell_type": "code",
   "execution_count": 28,
   "id": "9b96e238",
   "metadata": {
    "execution": {
     "iopub.execute_input": "2022-10-01T01:07:43.694275Z",
     "iopub.status.busy": "2022-10-01T01:07:43.693480Z",
     "iopub.status.idle": "2022-10-01T01:07:43.712788Z",
     "shell.execute_reply": "2022-10-01T01:07:43.713435Z"
    },
    "papermill": {
     "duration": 0.087866,
     "end_time": "2022-10-01T01:07:43.713613",
     "exception": false,
     "start_time": "2022-10-01T01:07:43.625747",
     "status": "completed"
    },
    "tags": []
   },
   "outputs": [],
   "source": [
    "#creating the x and y ranges according to the above generated plot.\n",
    "x_range = np.linspace(-4, 1, 100) \n",
    "y_range = np.linspace(-6, 6, 100) \n",
    "x_grid, y_grid = np.meshgrid(x_range, y_range) # x_grid and y_grig are of size 100 X 100\n",
    "\n",
    "# converting x_grid and y_grid to continuous arrays\n",
    "x_gridflat = np.ravel(x_grid)\n",
    "y_gridflat = np.ravel(y_grid)\n",
    "\n",
    "# The last layer of the current model takes two columns as input. Hence transpose of np.vstack() is required.\n",
    "X = np.vstack((x_gridflat, y_gridflat)).T\n",
    "\n",
    "prob_contour = model_prob(X).reshape(100,100) "
   ]
  },
  {
   "cell_type": "code",
   "execution_count": 29,
   "id": "da72499a",
   "metadata": {
    "execution": {
     "iopub.execute_input": "2022-10-01T01:07:43.837485Z",
     "iopub.status.busy": "2022-10-01T01:07:43.836727Z",
     "iopub.status.idle": "2022-10-01T01:07:44.195971Z",
     "shell.execute_reply": "2022-10-01T01:07:44.195283Z"
    },
    "papermill": {
     "duration": 0.424484,
     "end_time": "2022-10-01T01:07:44.196125",
     "exception": false,
     "start_time": "2022-10-01T01:07:43.771641",
     "status": "completed"
    },
    "tags": []
   },
   "outputs": [
    {
     "data": {
      "image/png": "[encoded data removed]",
      "text/plain": [
       "<Figure size 720x648 with 1 Axes>"
      ]
     },
     "metadata": {
      "needs_background": "light"
     },
     "output_type": "display_data"
    }
   ],
   "source": [
    "plt.figure(figsize=(10,9))\n",
    "plt.scatter(testing_plot[:,0], testing_plot[:,1], alpha = 0.1, c = y_test.ravel())\n",
    "contours = plt.contour(x_grid,y_grid,prob_contour)\n",
    "plt.title('Probability Contours')\n",
    "plt.clabel(contours, inline = True );"
   ]
  },
  {
   "cell_type": "code",
   "execution_count": null,
   "id": "e81b4ac7",
   "metadata": {
    "papermill": {
     "duration": 0.059698,
     "end_time": "2022-10-01T01:07:44.317942",
     "exception": false,
     "start_time": "2022-10-01T01:07:44.258244",
     "status": "completed"
    },
    "tags": []
   },
   "outputs": [],
   "source": []
  }
 ],
 "metadata": {
  "kernelspec": {
   "display_name": "Python 3",
   "language": "python",
   "name": "python3"
  },
  "language_info": {
   "codemirror_mode": {
    "name": "ipython",
    "version": 3
   },
   "file_extension": ".py",
   "mimetype": "text/x-python",
   "name": "python",
   "nbconvert_exporter": "python",
   "pygments_lexer": "ipython3",
   "version": "3.6.15"
  },
  "papermill": {
   "default_parameters": {},
   "duration": 172.283658,
   "end_time": "2022-10-01T01:07:44.797484",
   "environment_variables": {},
   "exception": null,
   "input_path": "2020-08-11-part2.ipynb",
   "output_path": "2020-08-11-part2.ipynb",
   "parameters": {},
   "start_time": "2022-10-01T01:04:52.513826",
   "version": "2.3.3"
  }
 },
 "nbformat": 4,
 "nbformat_minor": 5
}