{
 "cells": [
  {
   "cell_type": "markdown",
   "id": "98380cd3",
   "metadata": {
    "papermill": {
     "duration": 0.037055,
     "end_time": "2022-11-16T00:42:02.062619",
     "exception": false,
     "start_time": "2022-11-16T00:42:02.025564",
     "status": "completed"
    },
    "tags": []
   },
   "source": [
    "# Distinguish Your Own Digits (DYOD)"
   ]
  },
  {
   "cell_type": "markdown",
   "id": "ef31240d",
   "metadata": {
    "papermill": {
     "duration": 0.028065,
     "end_time": "2022-11-16T00:42:02.120407",
     "exception": false,
     "start_time": "2022-11-16T00:42:02.092342",
     "status": "completed"
    },
    "tags": []
   },
   "source": [
    "You are going to write a classifier that distinguishes between the number 3 and number 8."
   ]
  },
  {
   "cell_type": "code",
   "execution_count": 1,
   "id": "b15c8646",
   "metadata": {
    "execution": {
     "iopub.execute_input": "2022-11-16T00:42:02.192829Z",
     "iopub.status.busy": "2022-11-16T00:42:02.192013Z",
     "iopub.status.idle": "2022-11-16T00:42:02.203883Z",
     "shell.execute_reply": "2022-11-16T00:42:02.204655Z"
    },
    "papermill": {
     "duration": 0.055186,
     "end_time": "2022-11-16T00:42:02.204829",
     "exception": false,
     "start_time": "2022-11-16T00:42:02.149643",
     "status": "completed"
    },
    "tags": []
   },
   "outputs": [],
   "source": [
    "%load_ext autoreload\n",
    "%autoreload 2"
   ]
  },
  {
   "cell_type": "code",
   "execution_count": 2,
   "id": "22ef38dc",
   "metadata": {
    "execution": {
     "iopub.execute_input": "2022-11-16T00:42:02.269697Z",
     "iopub.status.busy": "2022-11-16T00:42:02.268817Z",
     "iopub.status.idle": "2022-11-16T00:42:02.910586Z",
     "shell.execute_reply": "2022-11-16T00:42:02.909958Z"
    },
    "papermill": {
     "duration": 0.675674,
     "end_time": "2022-11-16T00:42:02.910712",
     "exception": false,
     "start_time": "2022-11-16T00:42:02.235038",
     "status": "completed"
    },
    "tags": []
   },
   "outputs": [],
   "source": [
    "%matplotlib inline\n",
    "import numpy as np\n",
    "import matplotlib.pyplot as plt\n",
    "import pandas as pd"
   ]
  },
  {
   "cell_type": "markdown",
   "id": "ba036198",
   "metadata": {
    "papermill": {
     "duration": 0.031027,
     "end_time": "2022-11-16T00:42:02.969885",
     "exception": false,
     "start_time": "2022-11-16T00:42:02.938858",
     "status": "completed"
    },
    "tags": []
   },
   "source": [
    "From the command line run `pip install mnist`. This is a library that will help you bring down the mnist dataset. If you run this from a notebook, you need to put  `!pip install mnist` in a cell by itself."
   ]
  },
  {
   "cell_type": "code",
   "execution_count": 3,
   "id": "bb6ad8a1",
   "metadata": {
    "execution": {
     "iopub.execute_input": "2022-11-16T00:42:03.036015Z",
     "iopub.status.busy": "2022-11-16T00:42:03.035205Z",
     "iopub.status.idle": "2022-11-16T00:42:05.029006Z",
     "shell.execute_reply": "2022-11-16T00:42:05.028302Z"
    },
    "papermill": {
     "duration": 2.031851,
     "end_time": "2022-11-16T00:42:05.029158",
     "exception": false,
     "start_time": "2022-11-16T00:42:02.997307",
     "status": "completed"
    },
    "tags": []
   },
   "outputs": [
    {
     "name": "stdout",
     "output_type": "stream",
     "text": [
      "Collecting mnist\r\n"
     ]
    },
    {
     "name": "stdout",
     "output_type": "stream",
     "text": [
      "  Downloading mnist-0.2.2-py2.py3-none-any.whl (3.5 kB)\r\n",
      "Requirement already satisfied: numpy in /opt/hostedtoolcache/Python/3.6.15/x64/lib/python3.6/site-packages (from mnist) (1.19.5)\r\n"
     ]
    },
    {
     "name": "stdout",
     "output_type": "stream",
     "text": [
      "Installing collected packages: mnist\r\n"
     ]
    },
    {
     "name": "stdout",
     "output_type": "stream",
     "text": [
      "Successfully installed mnist-0.2.2\r\n"
     ]
    }
   ],
   "source": [
    "!pip install mnist"
   ]
  },
  {
   "cell_type": "markdown",
   "id": "69df9c9a",
   "metadata": {
    "papermill": {
     "duration": 0.031817,
     "end_time": "2022-11-16T00:42:05.091595",
     "exception": false,
     "start_time": "2022-11-16T00:42:05.059778",
     "status": "completed"
    },
    "tags": []
   },
   "source": [
    "## Preparing the Data"
   ]
  },
  {
   "cell_type": "code",
   "execution_count": 4,
   "id": "7f69d806",
   "metadata": {
    "execution": {
     "iopub.execute_input": "2022-11-16T00:42:05.160299Z",
     "iopub.status.busy": "2022-11-16T00:42:05.159538Z",
     "iopub.status.idle": "2022-11-16T00:42:05.176067Z",
     "shell.execute_reply": "2022-11-16T00:42:05.176560Z"
    },
    "papermill": {
     "duration": 0.05524,
     "end_time": "2022-11-16T00:42:05.176710",
     "exception": false,
     "start_time": "2022-11-16T00:42:05.121470",
     "status": "completed"
    },
    "tags": []
   },
   "outputs": [],
   "source": [
    "import mnist"
   ]
  },
  {
   "cell_type": "code",
   "execution_count": 5,
   "id": "a411e44f",
   "metadata": {
    "execution": {
     "iopub.execute_input": "2022-11-16T00:42:05.244988Z",
     "iopub.status.busy": "2022-11-16T00:42:05.244274Z",
     "iopub.status.idle": "2022-11-16T00:42:05.836377Z",
     "shell.execute_reply": "2022-11-16T00:42:05.835250Z"
    },
    "papermill": {
     "duration": 0.62775,
     "end_time": "2022-11-16T00:42:05.836497",
     "exception": false,
     "start_time": "2022-11-16T00:42:05.208747",
     "status": "completed"
    },
    "tags": []
   },
   "outputs": [],
   "source": [
    "train_images = mnist.train_images()\n",
    "train_labels = mnist.train_labels()"
   ]
  },
  {
   "cell_type": "code",
   "execution_count": 6,
   "id": "dceab3a5",
   "metadata": {
    "execution": {
     "iopub.execute_input": "2022-11-16T00:42:05.905624Z",
     "iopub.status.busy": "2022-11-16T00:42:05.900875Z",
     "iopub.status.idle": "2022-11-16T00:42:05.917666Z",
     "shell.execute_reply": "2022-11-16T00:42:05.916929Z"
    },
    "papermill": {
     "duration": 0.050199,
     "end_time": "2022-11-16T00:42:05.917779",
     "exception": false,
     "start_time": "2022-11-16T00:42:05.867580",
     "status": "completed"
    },
    "tags": []
   },
   "outputs": [
    {
     "data": {
      "text/plain": [
       "((60000, 28, 28), (60000,))"
      ]
     },
     "execution_count": 6,
     "metadata": {},
     "output_type": "execute_result"
    }
   ],
   "source": [
    "train_images.shape, train_labels.shape"
   ]
  },
  {
   "cell_type": "code",
   "execution_count": 7,
   "id": "f50dc2bb",
   "metadata": {
    "execution": {
     "iopub.execute_input": "2022-11-16T00:42:05.985786Z",
     "iopub.status.busy": "2022-11-16T00:42:05.985141Z",
     "iopub.status.idle": "2022-11-16T00:42:06.140720Z",
     "shell.execute_reply": "2022-11-16T00:42:06.140120Z"
    },
    "papermill": {
     "duration": 0.192156,
     "end_time": "2022-11-16T00:42:06.140843",
     "exception": false,
     "start_time": "2022-11-16T00:42:05.948687",
     "status": "completed"
    },
    "tags": []
   },
   "outputs": [],
   "source": [
    "test_images = mnist.test_images()\n",
    "test_labels = mnist.test_labels()"
   ]
  },
  {
   "cell_type": "code",
   "execution_count": 8,
   "id": "fc38cf1b",
   "metadata": {
    "execution": {
     "iopub.execute_input": "2022-11-16T00:42:06.214828Z",
     "iopub.status.busy": "2022-11-16T00:42:06.213991Z",
     "iopub.status.idle": "2022-11-16T00:42:06.228571Z",
     "shell.execute_reply": "2022-11-16T00:42:06.229447Z"
    },
    "papermill": {
     "duration": 0.056291,
     "end_time": "2022-11-16T00:42:06.229596",
     "exception": false,
     "start_time": "2022-11-16T00:42:06.173305",
     "status": "completed"
    },
    "tags": []
   },
   "outputs": [
    {
     "data": {
      "text/plain": [
       "((10000, 28, 28), (10000,))"
      ]
     },
     "execution_count": 8,
     "metadata": {},
     "output_type": "execute_result"
    }
   ],
   "source": [
    "test_images.shape, test_labels.shape"
   ]
  },
  {
   "cell_type": "code",
   "execution_count": 9,
   "id": "f9ed8fe0",
   "metadata": {
    "execution": {
     "iopub.execute_input": "2022-11-16T00:42:06.305654Z",
     "iopub.status.busy": "2022-11-16T00:42:06.302064Z",
     "iopub.status.idle": "2022-11-16T00:42:06.491071Z",
     "shell.execute_reply": "2022-11-16T00:42:06.490566Z"
    },
    "papermill": {
     "duration": 0.233617,
     "end_time": "2022-11-16T00:42:06.491188",
     "exception": false,
     "start_time": "2022-11-16T00:42:06.257571",
     "status": "completed"
    },
    "tags": []
   },
   "outputs": [
    {
     "name": "stdout",
     "output_type": "stream",
     "text": [
      "2\n"
     ]
    },
    {
     "data": {
      "text/plain": [
       "<matplotlib.image.AxesImage at 0x7f18a2223dd8>"
      ]
     },
     "execution_count": 9,
     "metadata": {},
     "output_type": "execute_result"
    },
    {
     "data": {
      "image/png": "[encoded data removed]",
      "text/plain": [
       "<Figure size 432x288 with 1 Axes>"
      ]
     },
     "metadata": {
      "needs_background": "light"
     },
     "output_type": "display_data"
    }
   ],
   "source": [
    "image_index = 7776 # You may select anything up to 60,000\n",
    "print(train_labels[image_index]) \n",
    "plt.imshow(train_images[image_index], cmap='Greys')"
   ]
  },
  {
   "cell_type": "markdown",
   "id": "a8d2388d",
   "metadata": {
    "papermill": {
     "duration": 0.030121,
     "end_time": "2022-11-16T00:42:06.550862",
     "exception": false,
     "start_time": "2022-11-16T00:42:06.520741",
     "status": "completed"
    },
    "tags": []
   },
   "source": [
    "## Filter data to get 3 and 8 out"
   ]
  },
  {
   "cell_type": "code",
   "execution_count": 10,
   "id": "776f7fc7",
   "metadata": {
    "execution": {
     "iopub.execute_input": "2022-11-16T00:42:06.617591Z",
     "iopub.status.busy": "2022-11-16T00:42:06.616394Z",
     "iopub.status.idle": "2022-11-16T00:42:06.639267Z",
     "shell.execute_reply": "2022-11-16T00:42:06.638558Z"
    },
    "papermill": {
     "duration": 0.057148,
     "end_time": "2022-11-16T00:42:06.639432",
     "exception": false,
     "start_time": "2022-11-16T00:42:06.582284",
     "status": "completed"
    },
    "tags": []
   },
   "outputs": [],
   "source": [
    "train_filter = np.where((train_labels == 3 ) | (train_labels == 8))\n",
    "test_filter = np.where((test_labels == 3) | (test_labels == 8))\n",
    "X_train, y_train = train_images[train_filter], train_labels[train_filter]\n",
    "X_test, y_test = test_images[test_filter], test_labels[test_filter]"
   ]
  },
  {
   "cell_type": "markdown",
   "id": "948f0b7e",
   "metadata": {
    "papermill": {
     "duration": 0.033983,
     "end_time": "2022-11-16T00:42:06.704674",
     "exception": false,
     "start_time": "2022-11-16T00:42:06.670691",
     "status": "completed"
    },
    "tags": []
   },
   "source": [
    "We normalize the pizel values in the 0 to 1 range"
   ]
  },
  {
   "cell_type": "code",
   "execution_count": 11,
   "id": "ee4c2166",
   "metadata": {
    "execution": {
     "iopub.execute_input": "2022-11-16T00:42:06.768776Z",
     "iopub.status.busy": "2022-11-16T00:42:06.768119Z",
     "iopub.status.idle": "2022-11-16T00:42:06.831534Z",
     "shell.execute_reply": "2022-11-16T00:42:06.830756Z"
    },
    "papermill": {
     "duration": 0.097291,
     "end_time": "2022-11-16T00:42:06.831684",
     "exception": false,
     "start_time": "2022-11-16T00:42:06.734393",
     "status": "completed"
    },
    "tags": []
   },
   "outputs": [],
   "source": [
    "X_train = X_train/255.\n",
    "X_test = X_test/255."
   ]
  },
  {
   "cell_type": "markdown",
   "id": "ddcf4fab",
   "metadata": {
    "papermill": {
     "duration": 0.034073,
     "end_time": "2022-11-16T00:42:06.898150",
     "exception": false,
     "start_time": "2022-11-16T00:42:06.864077",
     "status": "completed"
    },
    "tags": []
   },
   "source": [
    "And setup the labels as 1 (when the digit is 3) and 0 (when the digit is 8)"
   ]
  },
  {
   "cell_type": "code",
   "execution_count": 12,
   "id": "7dc908f2",
   "metadata": {
    "execution": {
     "iopub.execute_input": "2022-11-16T00:42:06.963838Z",
     "iopub.status.busy": "2022-11-16T00:42:06.962987Z",
     "iopub.status.idle": "2022-11-16T00:42:06.975301Z",
     "shell.execute_reply": "2022-11-16T00:42:06.975849Z"
    },
    "papermill": {
     "duration": 0.047806,
     "end_time": "2022-11-16T00:42:06.975975",
     "exception": false,
     "start_time": "2022-11-16T00:42:06.928169",
     "status": "completed"
    },
    "tags": []
   },
   "outputs": [],
   "source": [
    "y_train = 1*(y_train==3)\n",
    "y_test = 1*(y_test==3)"
   ]
  },
  {
   "cell_type": "code",
   "execution_count": 13,
   "id": "01e4e969",
   "metadata": {
    "execution": {
     "iopub.execute_input": "2022-11-16T00:42:07.054468Z",
     "iopub.status.busy": "2022-11-16T00:42:07.053517Z",
     "iopub.status.idle": "2022-11-16T00:42:07.067411Z",
     "shell.execute_reply": "2022-11-16T00:42:07.068031Z"
    },
    "papermill": {
     "duration": 0.055397,
     "end_time": "2022-11-16T00:42:07.068216",
     "exception": false,
     "start_time": "2022-11-16T00:42:07.012819",
     "status": "completed"
    },
    "tags": []
   },
   "outputs": [
    {
     "data": {
      "text/plain": [
       "((11982, 28, 28), (1984, 28, 28))"
      ]
     },
     "execution_count": 13,
     "metadata": {},
     "output_type": "execute_result"
    }
   ],
   "source": [
    "X_train.shape, X_test.shape"
   ]
  },
  {
   "cell_type": "markdown",
   "id": "5ccf3f85",
   "metadata": {
    "papermill": {
     "duration": 0.041057,
     "end_time": "2022-11-16T00:42:07.150720",
     "exception": false,
     "start_time": "2022-11-16T00:42:07.109663",
     "status": "completed"
    },
    "tags": []
   },
   "source": [
    "We reshape the data to flatten the image pixels into a set of features or co-variates:"
   ]
  },
  {
   "cell_type": "code",
   "execution_count": 14,
   "id": "5286a4a3",
   "metadata": {
    "execution": {
     "iopub.execute_input": "2022-11-16T00:42:07.222122Z",
     "iopub.status.busy": "2022-11-16T00:42:07.221431Z",
     "iopub.status.idle": "2022-11-16T00:42:07.236922Z",
     "shell.execute_reply": "2022-11-16T00:42:07.236392Z"
    },
    "papermill": {
     "duration": 0.053376,
     "end_time": "2022-11-16T00:42:07.237028",
     "exception": false,
     "start_time": "2022-11-16T00:42:07.183652",
     "status": "completed"
    },
    "tags": []
   },
   "outputs": [
    {
     "data": {
      "text/plain": [
       "((11982, 784), (1984, 784))"
      ]
     },
     "execution_count": 14,
     "metadata": {},
     "output_type": "execute_result"
    }
   ],
   "source": [
    "X_train = X_train.reshape(X_train.shape[0], -1)\n",
    "X_test = X_test.reshape(X_test.shape[0], -1)\n",
    "X_train.shape, X_test.shape"
   ]
  },
  {
   "cell_type": "code",
   "execution_count": 15,
   "id": "73c5f88a",
   "metadata": {
    "execution": {
     "iopub.execute_input": "2022-11-16T00:42:07.308813Z",
     "iopub.status.busy": "2022-11-16T00:42:07.308096Z",
     "iopub.status.idle": "2022-11-16T00:42:07.327953Z",
     "shell.execute_reply": "2022-11-16T00:42:07.328483Z"
    },
    "papermill": {
     "duration": 0.060255,
     "end_time": "2022-11-16T00:42:07.328628",
     "exception": false,
     "start_time": "2022-11-16T00:42:07.268373",
     "status": "completed"
    },
    "tags": []
   },
   "outputs": [],
   "source": [
    "#Impoting functions from 'Kudzu'\n",
    "from kudzu.model import Model\n",
    "from kudzu.train import Learner\n",
    "from kudzu.optim import GD\n",
    "from kudzu.data import Data, Sampler,Dataloader\n",
    "\n",
    "from kudzu.callbacks import AccCallback\n",
    "from kudzu.callbacks import ClfCallback\n",
    "\n",
    "from kudzu.loss import MSE\n",
    "\n",
    "from kudzu.layer import Sigmoid,Relu\n",
    "from kudzu.layer import Affine"
   ]
  },
  {
   "cell_type": "markdown",
   "id": "bc01172a",
   "metadata": {
    "papermill": {
     "duration": 0.033564,
     "end_time": "2022-11-16T00:42:07.395595",
     "exception": false,
     "start_time": "2022-11-16T00:42:07.362031",
     "status": "completed"
    },
    "tags": []
   },
   "source": [
    "### Let us create a `Config` class, to store important parameters. \n",
    "This class essentially plays the role of a dictionary."
   ]
  },
  {
   "cell_type": "code",
   "execution_count": 16,
   "id": "978281aa",
   "metadata": {
    "execution": {
     "iopub.execute_input": "2022-11-16T00:42:07.470541Z",
     "iopub.status.busy": "2022-11-16T00:42:07.469881Z",
     "iopub.status.idle": "2022-11-16T00:42:07.485223Z",
     "shell.execute_reply": "2022-11-16T00:42:07.484637Z"
    },
    "papermill": {
     "duration": 0.054197,
     "end_time": "2022-11-16T00:42:07.485337",
     "exception": false,
     "start_time": "2022-11-16T00:42:07.431140",
     "status": "completed"
    },
    "tags": []
   },
   "outputs": [],
   "source": [
    "class Config:\n",
    "    pass\n",
    "config = Config()\n",
    "config.lr = 0.001\n",
    "config.num_epochs = 250\n",
    "config.bs = 50"
   ]
  },
  {
   "cell_type": "markdown",
   "id": "1385fa59",
   "metadata": {
    "papermill": {
     "duration": 0.032039,
     "end_time": "2022-11-16T00:42:07.549333",
     "exception": false,
     "start_time": "2022-11-16T00:42:07.517294",
     "status": "completed"
    },
    "tags": []
   },
   "source": [
    "### Running Models with the Training data\n",
    "Details about the network layers:\n",
    "- A first affine layer has 784 inputs and does 100 affine transforms. These are followed by a Relu\n",
    "- A second affine layer has 100 inputs from the 100 activations of the past layer, and does 100 affine transforms. These are followed by a Relu\n",
    "- A third affine layer has 100 activations and does 2 affine transformations to create an embedding for visualization. There is no non-linearity here.\n",
    "- A final \"logistic regression\" which has an affine transform from 2 inputs to 1 output, which is squeezed through a sigmoid.\n"
   ]
  },
  {
   "cell_type": "code",
   "execution_count": 17,
   "id": "2b9c66db",
   "metadata": {
    "execution": {
     "iopub.execute_input": "2022-11-16T00:42:07.624988Z",
     "iopub.status.busy": "2022-11-16T00:42:07.624284Z",
     "iopub.status.idle": "2022-11-16T00:42:07.639052Z",
     "shell.execute_reply": "2022-11-16T00:42:07.638379Z"
    },
    "papermill": {
     "duration": 0.057278,
     "end_time": "2022-11-16T00:42:07.639195",
     "exception": false,
     "start_time": "2022-11-16T00:42:07.581917",
     "status": "completed"
    },
    "tags": []
   },
   "outputs": [],
   "source": [
    "data = Data(X_train, y_train.reshape(-1,1))\n",
    "sampler = Sampler(data, config.bs, shuffle=True)\n",
    "\n",
    "dl = Dataloader(data, sampler)\n",
    "\n",
    "opt = GD(config.lr)\n",
    "loss = MSE()"
   ]
  },
  {
   "cell_type": "code",
   "execution_count": 18,
   "id": "b275e4c2",
   "metadata": {
    "execution": {
     "iopub.execute_input": "2022-11-16T00:42:07.709786Z",
     "iopub.status.busy": "2022-11-16T00:42:07.709009Z",
     "iopub.status.idle": "2022-11-16T00:42:07.720919Z",
     "shell.execute_reply": "2022-11-16T00:42:07.721725Z"
    },
    "papermill": {
     "duration": 0.047846,
     "end_time": "2022-11-16T00:42:07.721843",
     "exception": false,
     "start_time": "2022-11-16T00:42:07.673997",
     "status": "completed"
    },
    "tags": []
   },
   "outputs": [],
   "source": [
    "training_data_x = X_train\n",
    "testing_data_x = X_test\n",
    "training_data_y = y_train.reshape(-1,1)\n",
    "testing_data_y = y_test.reshape(-1,1)"
   ]
  },
  {
   "cell_type": "code",
   "execution_count": 19,
   "id": "76951160",
   "metadata": {
    "execution": {
     "iopub.execute_input": "2022-11-16T00:42:07.794015Z",
     "iopub.status.busy": "2022-11-16T00:42:07.793162Z",
     "iopub.status.idle": "2022-11-16T00:42:07.812372Z",
     "shell.execute_reply": "2022-11-16T00:42:07.811609Z"
    },
    "papermill": {
     "duration": 0.059472,
     "end_time": "2022-11-16T00:42:07.812486",
     "exception": false,
     "start_time": "2022-11-16T00:42:07.753014",
     "status": "completed"
    },
    "tags": []
   },
   "outputs": [
    {
     "name": "stdout",
     "output_type": "stream",
     "text": [
      "xavier\n",
      "xavier\n",
      "xavier\n",
      "xavier\n",
      "xavier\n"
     ]
    }
   ],
   "source": [
    "layers = [Affine(\"first\", 784, 100), Relu(\"first\"), Affine(\"second\", 100, 100), Relu(\"second\"), Affine(\"third\", 100, 2), Affine(\"last\", 2, 1), Sigmoid(\"last\")]\n",
    "model_nn = Model(layers)\n",
    "model_lr = Model([Affine(\"logits\", 784, 1), Sigmoid(\"sigmoid\")])"
   ]
  },
  {
   "cell_type": "code",
   "execution_count": 20,
   "id": "6eede77a",
   "metadata": {
    "execution": {
     "iopub.execute_input": "2022-11-16T00:42:07.882568Z",
     "iopub.status.busy": "2022-11-16T00:42:07.881919Z",
     "iopub.status.idle": "2022-11-16T00:42:07.898822Z",
     "shell.execute_reply": "2022-11-16T00:42:07.899926Z"
    },
    "papermill": {
     "duration": 0.055037,
     "end_time": "2022-11-16T00:42:07.900075",
     "exception": false,
     "start_time": "2022-11-16T00:42:07.845038",
     "status": "completed"
    },
    "tags": []
   },
   "outputs": [],
   "source": [
    "nn_learner = Learner(loss, model_nn, opt, config.num_epochs)\n",
    "acc_nn = ClfCallback(nn_learner, config.bs, training_data_x , testing_data_x, training_data_y, testing_data_y)\n",
    "nn_learner.set_callbacks([acc_nn])"
   ]
  },
  {
   "cell_type": "code",
   "execution_count": 21,
   "id": "877b6cc7",
   "metadata": {
    "execution": {
     "iopub.execute_input": "2022-11-16T00:42:07.966949Z",
     "iopub.status.busy": "2022-11-16T00:42:07.966105Z",
     "iopub.status.idle": "2022-11-16T00:42:07.979306Z",
     "shell.execute_reply": "2022-11-16T00:42:07.978633Z"
    },
    "papermill": {
     "duration": 0.048229,
     "end_time": "2022-11-16T00:42:07.979435",
     "exception": false,
     "start_time": "2022-11-16T00:42:07.931206",
     "status": "completed"
    },
    "tags": []
   },
   "outputs": [],
   "source": [
    "lr_learner = Learner(loss, model_lr, opt, config.num_epochs)\n",
    "acc_lr = ClfCallback(lr_learner, config.bs, training_data_x , testing_data_x, training_data_y, testing_data_y)\n",
    "lr_learner.set_callbacks([acc_lr])"
   ]
  },
  {
   "cell_type": "code",
   "execution_count": 22,
   "id": "d9b133c3",
   "metadata": {
    "execution": {
     "iopub.execute_input": "2022-11-16T00:42:08.053661Z",
     "iopub.status.busy": "2022-11-16T00:42:08.053019Z",
     "iopub.status.idle": "2022-11-16T00:44:27.309261Z",
     "shell.execute_reply": "2022-11-16T00:44:27.310282Z"
    },
    "papermill": {
     "duration": 139.29893,
     "end_time": "2022-11-16T00:44:27.310450",
     "exception": false,
     "start_time": "2022-11-16T00:42:08.011520",
     "status": "completed"
    },
    "tags": []
   },
   "outputs": [
    {
     "name": "stdout",
     "output_type": "stream",
     "text": [
      "Epoch 0, Loss 0.2471\n",
      "Training Accuracy: 0.6037, Testing Accuracy: 0.6174\n",
      "\n"
     ]
    },
    {
     "name": "stdout",
     "output_type": "stream",
     "text": [
      "Epoch 10, Loss 0.2228\n",
      "Training Accuracy: 0.8468, Testing Accuracy: 0.8579\n",
      "\n"
     ]
    },
    {
     "name": "stdout",
     "output_type": "stream",
     "text": [
      "Epoch 20, Loss 0.1281\n",
      "Training Accuracy: 0.8997, Testing Accuracy: 0.9108\n",
      "\n"
     ]
    },
    {
     "name": "stdout",
     "output_type": "stream",
     "text": [
      "Epoch 30, Loss 0.0695\n",
      "Training Accuracy: 0.9301, Testing Accuracy: 0.9390\n",
      "\n"
     ]
    },
    {
     "name": "stdout",
     "output_type": "stream",
     "text": [
      "Epoch 40, Loss 0.051\n",
      "Training Accuracy: 0.9432, Testing Accuracy: 0.9526\n",
      "\n"
     ]
    },
    {
     "name": "stdout",
     "output_type": "stream",
     "text": [
      "Epoch 50, Loss 0.0426\n",
      "Training Accuracy: 0.9523, Testing Accuracy: 0.9622\n",
      "\n"
     ]
    },
    {
     "name": "stdout",
     "output_type": "stream",
     "text": [
      "Epoch 60, Loss 0.0379\n",
      "Training Accuracy: 0.9564, Testing Accuracy: 0.9667\n",
      "\n"
     ]
    },
    {
     "name": "stdout",
     "output_type": "stream",
     "text": [
      "Epoch 70, Loss 0.0348\n",
      "Training Accuracy: 0.9602, Testing Accuracy: 0.9672\n",
      "\n"
     ]
    },
    {
     "name": "stdout",
     "output_type": "stream",
     "text": [
      "Epoch 80, Loss 0.0326\n",
      "Training Accuracy: 0.9619, Testing Accuracy: 0.9682\n",
      "\n"
     ]
    },
    {
     "name": "stdout",
     "output_type": "stream",
     "text": [
      "Epoch 90, Loss 0.0309\n",
      "Training Accuracy: 0.9634, Testing Accuracy: 0.9688\n",
      "\n"
     ]
    },
    {
     "name": "stdout",
     "output_type": "stream",
     "text": [
      "Epoch 100, Loss 0.0295\n",
      "Training Accuracy: 0.9651, Testing Accuracy: 0.9703\n",
      "\n"
     ]
    },
    {
     "name": "stdout",
     "output_type": "stream",
     "text": [
      "Epoch 110, Loss 0.0283\n",
      "Training Accuracy: 0.9663, Testing Accuracy: 0.9708\n",
      "\n"
     ]
    },
    {
     "name": "stdout",
     "output_type": "stream",
     "text": [
      "Epoch 120, Loss 0.0273\n",
      "Training Accuracy: 0.9677, Testing Accuracy: 0.9713\n",
      "\n"
     ]
    },
    {
     "name": "stdout",
     "output_type": "stream",
     "text": [
      "Epoch 130, Loss 0.0264\n",
      "Training Accuracy: 0.9689, Testing Accuracy: 0.9718\n",
      "\n"
     ]
    },
    {
     "name": "stdout",
     "output_type": "stream",
     "text": [
      "Epoch 140, Loss 0.0256\n",
      "Training Accuracy: 0.9701, Testing Accuracy: 0.9718\n",
      "\n"
     ]
    },
    {
     "name": "stdout",
     "output_type": "stream",
     "text": [
      "Epoch 150, Loss 0.0249\n",
      "Training Accuracy: 0.9710, Testing Accuracy: 0.9723\n",
      "\n"
     ]
    },
    {
     "name": "stdout",
     "output_type": "stream",
     "text": [
      "Epoch 160, Loss 0.0242\n",
      "Training Accuracy: 0.9720, Testing Accuracy: 0.9718\n",
      "\n"
     ]
    },
    {
     "name": "stdout",
     "output_type": "stream",
     "text": [
      "Epoch 170, Loss 0.0236\n",
      "Training Accuracy: 0.9725, Testing Accuracy: 0.9713\n",
      "\n"
     ]
    },
    {
     "name": "stdout",
     "output_type": "stream",
     "text": [
      "Epoch 180, Loss 0.023\n",
      "Training Accuracy: 0.9732, Testing Accuracy: 0.9713\n",
      "\n"
     ]
    },
    {
     "name": "stdout",
     "output_type": "stream",
     "text": [
      "Epoch 190, Loss 0.0224\n",
      "Training Accuracy: 0.9744, Testing Accuracy: 0.9713\n",
      "\n"
     ]
    },
    {
     "name": "stdout",
     "output_type": "stream",
     "text": [
      "Epoch 200, Loss 0.0219\n",
      "Training Accuracy: 0.9754, Testing Accuracy: 0.9718\n",
      "\n"
     ]
    },
    {
     "name": "stdout",
     "output_type": "stream",
     "text": [
      "Epoch 210, Loss 0.0214\n",
      "Training Accuracy: 0.9762, Testing Accuracy: 0.9723\n",
      "\n"
     ]
    },
    {
     "name": "stdout",
     "output_type": "stream",
     "text": [
      "Epoch 220, Loss 0.0209\n",
      "Training Accuracy: 0.9765, Testing Accuracy: 0.9723\n",
      "\n"
     ]
    },
    {
     "name": "stdout",
     "output_type": "stream",
     "text": [
      "Epoch 230, Loss 0.0205\n",
      "Training Accuracy: 0.9769, Testing Accuracy: 0.9728\n",
      "\n"
     ]
    },
    {
     "name": "stdout",
     "output_type": "stream",
     "text": [
      "Epoch 240, Loss 0.02\n",
      "Training Accuracy: 0.9777, Testing Accuracy: 0.9738\n",
      "\n"
     ]
    },
    {
     "data": {
      "text/plain": [
       "0.008179793935155895"
      ]
     },
     "execution_count": 22,
     "metadata": {},
     "output_type": "execute_result"
    }
   ],
   "source": [
    "nn_learner.train_loop(dl)"
   ]
  },
  {
   "cell_type": "code",
   "execution_count": 23,
   "id": "e0163366",
   "metadata": {
    "execution": {
     "iopub.execute_input": "2022-11-16T00:44:27.410763Z",
     "iopub.status.busy": "2022-11-16T00:44:27.409947Z",
     "iopub.status.idle": "2022-11-16T00:44:47.559638Z",
     "shell.execute_reply": "2022-11-16T00:44:47.560972Z"
    },
    "papermill": {
     "duration": 20.205005,
     "end_time": "2022-11-16T00:44:47.561186",
     "exception": false,
     "start_time": "2022-11-16T00:44:27.356181",
     "status": "completed"
    },
    "tags": []
   },
   "outputs": [
    {
     "name": "stdout",
     "output_type": "stream",
     "text": [
      "Epoch 0, Loss 0.2452\n",
      "Training Accuracy: 0.6631, Testing Accuracy: 0.6673\n",
      "\n"
     ]
    },
    {
     "name": "stdout",
     "output_type": "stream",
     "text": [
      "Epoch 10, Loss 0.1022\n",
      "Training Accuracy: 0.9123, Testing Accuracy: 0.9259\n",
      "\n"
     ]
    },
    {
     "name": "stdout",
     "output_type": "stream",
     "text": [
      "Epoch 20, Loss 0.0781\n",
      "Training Accuracy: 0.9284, Testing Accuracy: 0.9375\n",
      "\n"
     ]
    },
    {
     "name": "stdout",
     "output_type": "stream",
     "text": [
      "Epoch 30, Loss 0.0674\n",
      "Training Accuracy: 0.9377, Testing Accuracy: 0.9491\n",
      "\n"
     ]
    },
    {
     "name": "stdout",
     "output_type": "stream",
     "text": [
      "Epoch 40, Loss 0.061\n",
      "Training Accuracy: 0.9437, Testing Accuracy: 0.9496\n",
      "\n"
     ]
    },
    {
     "name": "stdout",
     "output_type": "stream",
     "text": [
      "Epoch 50, Loss 0.0566\n",
      "Training Accuracy: 0.9461, Testing Accuracy: 0.9511\n",
      "\n"
     ]
    },
    {
     "name": "stdout",
     "output_type": "stream",
     "text": [
      "Epoch 60, Loss 0.0534\n",
      "Training Accuracy: 0.9483, Testing Accuracy: 0.9536\n",
      "\n"
     ]
    },
    {
     "name": "stdout",
     "output_type": "stream",
     "text": [
      "Epoch 70, Loss 0.0509\n",
      "Training Accuracy: 0.9498, Testing Accuracy: 0.9567\n",
      "\n"
     ]
    },
    {
     "name": "stdout",
     "output_type": "stream",
     "text": [
      "Epoch 80, Loss 0.0489\n",
      "Training Accuracy: 0.9513, Testing Accuracy: 0.9577\n",
      "\n"
     ]
    },
    {
     "name": "stdout",
     "output_type": "stream",
     "text": [
      "Epoch 90, Loss 0.0473\n",
      "Training Accuracy: 0.9530, Testing Accuracy: 0.9597\n",
      "\n"
     ]
    },
    {
     "name": "stdout",
     "output_type": "stream",
     "text": [
      "Epoch 100, Loss 0.0459\n",
      "Training Accuracy: 0.9538, Testing Accuracy: 0.9607\n",
      "\n"
     ]
    },
    {
     "name": "stdout",
     "output_type": "stream",
     "text": [
      "Epoch 110, Loss 0.0447\n",
      "Training Accuracy: 0.9542, Testing Accuracy: 0.9617\n",
      "\n"
     ]
    },
    {
     "name": "stdout",
     "output_type": "stream",
     "text": [
      "Epoch 120, Loss 0.0437\n",
      "Training Accuracy: 0.9548, Testing Accuracy: 0.9622\n",
      "\n"
     ]
    },
    {
     "name": "stdout",
     "output_type": "stream",
     "text": [
      "Epoch 130, Loss 0.0428\n",
      "Training Accuracy: 0.9558, Testing Accuracy: 0.9622\n",
      "\n"
     ]
    },
    {
     "name": "stdout",
     "output_type": "stream",
     "text": [
      "Epoch 140, Loss 0.0419\n",
      "Training Accuracy: 0.9564, Testing Accuracy: 0.9617\n",
      "\n"
     ]
    },
    {
     "name": "stdout",
     "output_type": "stream",
     "text": [
      "Epoch 150, Loss 0.0412\n",
      "Training Accuracy: 0.9569, Testing Accuracy: 0.9642\n",
      "\n"
     ]
    },
    {
     "name": "stdout",
     "output_type": "stream",
     "text": [
      "Epoch 160, Loss 0.0406\n",
      "Training Accuracy: 0.9577, Testing Accuracy: 0.9647\n",
      "\n"
     ]
    },
    {
     "name": "stdout",
     "output_type": "stream",
     "text": [
      "Epoch 170, Loss 0.0399\n",
      "Training Accuracy: 0.9575, Testing Accuracy: 0.9647\n",
      "\n"
     ]
    },
    {
     "name": "stdout",
     "output_type": "stream",
     "text": [
      "Epoch 180, Loss 0.0394\n",
      "Training Accuracy: 0.9582, Testing Accuracy: 0.9647\n",
      "\n"
     ]
    },
    {
     "name": "stdout",
     "output_type": "stream",
     "text": [
      "Epoch 190, Loss 0.0389\n",
      "Training Accuracy: 0.9590, Testing Accuracy: 0.9652\n",
      "\n"
     ]
    },
    {
     "name": "stdout",
     "output_type": "stream",
     "text": [
      "Epoch 200, Loss 0.0384\n",
      "Training Accuracy: 0.9594, Testing Accuracy: 0.9652\n",
      "\n"
     ]
    },
    {
     "name": "stdout",
     "output_type": "stream",
     "text": [
      "Epoch 210, Loss 0.038\n",
      "Training Accuracy: 0.9598, Testing Accuracy: 0.9662\n",
      "\n"
     ]
    },
    {
     "name": "stdout",
     "output_type": "stream",
     "text": [
      "Epoch 220, Loss 0.0376\n",
      "Training Accuracy: 0.9606, Testing Accuracy: 0.9662\n",
      "\n"
     ]
    },
    {
     "name": "stdout",
     "output_type": "stream",
     "text": [
      "Epoch 230, Loss 0.0372\n",
      "Training Accuracy: 0.9607, Testing Accuracy: 0.9667\n",
      "\n"
     ]
    },
    {
     "name": "stdout",
     "output_type": "stream",
     "text": [
      "Epoch 240, Loss 0.0368\n",
      "Training Accuracy: 0.9611, Testing Accuracy: 0.9667\n",
      "\n"
     ]
    },
    {
     "data": {
      "text/plain": [
       "0.03947384813260939"
      ]
     },
     "execution_count": 23,
     "metadata": {},
     "output_type": "execute_result"
    }
   ],
   "source": [
    "lr_learner.train_loop(dl)"
   ]
  },
  {
   "cell_type": "code",
   "execution_count": 24,
   "id": "ca410940",
   "metadata": {
    "execution": {
     "iopub.execute_input": "2022-11-16T00:44:47.675089Z",
     "iopub.status.busy": "2022-11-16T00:44:47.674357Z",
     "iopub.status.idle": "2022-11-16T00:44:47.975674Z",
     "shell.execute_reply": "2022-11-16T00:44:47.976156Z"
    },
    "papermill": {
     "duration": 0.362381,
     "end_time": "2022-11-16T00:44:47.976292",
     "exception": false,
     "start_time": "2022-11-16T00:44:47.613911",
     "status": "completed"
    },
    "tags": []
   },
   "outputs": [
    {
     "data": {
      "text/plain": [
       "<matplotlib.legend.Legend at 0x7f18a1d90438>"
      ]
     },
     "execution_count": 24,
     "metadata": {},
     "output_type": "execute_result"
    },
    {
     "data": {
      "image/png": "[encoded data removed]",
      "text/plain": [
       "<Figure size 1080x720 with 1 Axes>"
      ]
     },
     "metadata": {
      "needs_background": "light"
     },
     "output_type": "display_data"
    }
   ],
   "source": [
    "#comparing the results of NN and LR\n",
    "plt.figure(figsize=(15,10))\n",
    "\n",
    "# Neural Network plots\n",
    "plt.plot(acc_nn.accuracies, 'r-', label = \"Training Accuracies - NN\")\n",
    "plt.plot(acc_nn.test_accuracies, 'g-', label = \"Testing Accuracies - NN\")\n",
    "\n",
    "# Logistic Regression plots\n",
    "plt.plot(acc_lr.accuracies, 'k-', label = \"Training Accuracies - LR\")\n",
    "plt.plot(acc_lr.test_accuracies, 'b-', label = \"Testing Accuracies - LR\")\n",
    "plt.legend()"
   ]
  },
  {
   "cell_type": "markdown",
   "id": "80dfb35c",
   "metadata": {
    "papermill": {
     "duration": 0.052695,
     "end_time": "2022-11-16T00:44:48.078701",
     "exception": false,
     "start_time": "2022-11-16T00:44:48.026006",
     "status": "completed"
    },
    "tags": []
   },
   "source": [
    "#### Plotting the outputs of this layer of the NN.\n"
   ]
  },
  {
   "cell_type": "code",
   "execution_count": 25,
   "id": "45eb2ff5",
   "metadata": {
    "execution": {
     "iopub.execute_input": "2022-11-16T00:44:48.183384Z",
     "iopub.status.busy": "2022-11-16T00:44:48.182656Z",
     "iopub.status.idle": "2022-11-16T00:44:48.210270Z",
     "shell.execute_reply": "2022-11-16T00:44:48.209773Z"
    },
    "papermill": {
     "duration": 0.082529,
     "end_time": "2022-11-16T00:44:48.210385",
     "exception": false,
     "start_time": "2022-11-16T00:44:48.127856",
     "status": "completed"
    },
    "tags": []
   },
   "outputs": [],
   "source": [
    "new_model = Model(layers[:-2])\n",
    "testing_plot = new_model(testing_data_x)"
   ]
  },
  {
   "cell_type": "code",
   "execution_count": 26,
   "id": "4c0a5485",
   "metadata": {
    "execution": {
     "iopub.execute_input": "2022-11-16T00:44:48.316168Z",
     "iopub.status.busy": "2022-11-16T00:44:48.315324Z",
     "iopub.status.idle": "2022-11-16T00:44:48.569753Z",
     "shell.execute_reply": "2022-11-16T00:44:48.570374Z"
    },
    "papermill": {
     "duration": 0.311278,
     "end_time": "2022-11-16T00:44:48.570569",
     "exception": false,
     "start_time": "2022-11-16T00:44:48.259291",
     "status": "completed"
    },
    "tags": []
   },
   "outputs": [
    {
     "data": {
      "text/plain": [
       "Text(0.5, 1.0, 'Outputs')"
      ]
     },
     "execution_count": 26,
     "metadata": {},
     "output_type": "execute_result"
    },
    {
     "data": {
      "image/png": "[encoded data removed]",
      "text/plain": [
       "<Figure size 576x504 with 1 Axes>"
      ]
     },
     "metadata": {
      "needs_background": "light"
     },
     "output_type": "display_data"
    }
   ],
   "source": [
    "# Plotting the scatter plot of points and color coding by class\n",
    "plt.figure(figsize=(8,7))\n",
    "plt.scatter(testing_plot[:,0], testing_plot[:,1], alpha = 0.1, c = y_test.ravel());\n",
    "plt.title('Outputs')"
   ]
  },
  {
   "cell_type": "markdown",
   "id": "a74fcf8f",
   "metadata": {
    "papermill": {
     "duration": 0.070824,
     "end_time": "2022-11-16T00:44:48.697586",
     "exception": false,
     "start_time": "2022-11-16T00:44:48.626762",
     "status": "completed"
    },
    "tags": []
   },
   "source": [
    "Probability contours"
   ]
  },
  {
   "cell_type": "code",
   "execution_count": 27,
   "id": "d0afc8e3",
   "metadata": {
    "execution": {
     "iopub.execute_input": "2022-11-16T00:44:48.807084Z",
     "iopub.status.busy": "2022-11-16T00:44:48.806314Z",
     "iopub.status.idle": "2022-11-16T00:44:48.820276Z",
     "shell.execute_reply": "2022-11-16T00:44:48.821127Z"
    },
    "papermill": {
     "duration": 0.073811,
     "end_time": "2022-11-16T00:44:48.821254",
     "exception": false,
     "start_time": "2022-11-16T00:44:48.747443",
     "status": "completed"
    },
    "tags": []
   },
   "outputs": [],
   "source": [
    "model_prob = Model(layers[-2:]) "
   ]
  },
  {
   "cell_type": "code",
   "execution_count": 28,
   "id": "9b96e238",
   "metadata": {
    "execution": {
     "iopub.execute_input": "2022-11-16T00:44:48.937827Z",
     "iopub.status.busy": "2022-11-16T00:44:48.936876Z",
     "iopub.status.idle": "2022-11-16T00:44:48.950675Z",
     "shell.execute_reply": "2022-11-16T00:44:48.950147Z"
    },
    "papermill": {
     "duration": 0.075228,
     "end_time": "2022-11-16T00:44:48.950792",
     "exception": false,
     "start_time": "2022-11-16T00:44:48.875564",
     "status": "completed"
    },
    "tags": []
   },
   "outputs": [],
   "source": [
    "#creating the x and y ranges according to the above generated plot.\n",
    "x_range = np.linspace(-4, 1, 100) \n",
    "y_range = np.linspace(-6, 6, 100) \n",
    "x_grid, y_grid = np.meshgrid(x_range, y_range) # x_grid and y_grig are of size 100 X 100\n",
    "\n",
    "# converting x_grid and y_grid to continuous arrays\n",
    "x_gridflat = np.ravel(x_grid)\n",
    "y_gridflat = np.ravel(y_grid)\n",
    "\n",
    "# The last layer of the current model takes two columns as input. Hence transpose of np.vstack() is required.\n",
    "X = np.vstack((x_gridflat, y_gridflat)).T\n",
    "\n",
    "prob_contour = model_prob(X).reshape(100,100) "
   ]
  },
  {
   "cell_type": "code",
   "execution_count": 29,
   "id": "da72499a",
   "metadata": {
    "execution": {
     "iopub.execute_input": "2022-11-16T00:44:49.072398Z",
     "iopub.status.busy": "2022-11-16T00:44:49.071690Z",
     "iopub.status.idle": "2022-11-16T00:44:49.392325Z",
     "shell.execute_reply": "2022-11-16T00:44:49.391814Z"
    },
    "papermill": {
     "duration": 0.38712,
     "end_time": "2022-11-16T00:44:49.392440",
     "exception": false,
     "start_time": "2022-11-16T00:44:49.005320",
     "status": "completed"
    },
    "tags": []
   },
   "outputs": [
    {
     "data": {
      "image/png": "[encoded data removed]",
      "text/plain": [
       "<Figure size 720x648 with 1 Axes>"
      ]
     },
     "metadata": {
      "needs_background": "light"
     },
     "output_type": "display_data"
    }
   ],
   "source": [
    "plt.figure(figsize=(10,9))\n",
    "plt.scatter(testing_plot[:,0], testing_plot[:,1], alpha = 0.1, c = y_test.ravel())\n",
    "contours = plt.contour(x_grid,y_grid,prob_contour)\n",
    "plt.title('Probability Contours')\n",
    "plt.clabel(contours, inline = True );"
   ]
  },
  {
   "cell_type": "code",
   "execution_count": null,
   "id": "e81b4ac7",
   "metadata": {
    "papermill": {
     "duration": 0.054356,
     "end_time": "2022-11-16T00:44:49.497630",
     "exception": false,
     "start_time": "2022-11-16T00:44:49.443274",
     "status": "completed"
    },
    "tags": []
   },
   "outputs": [],
   "source": []
  }
 ],
 "metadata": {
  "kernelspec": {
   "display_name": "Python 3",
   "language": "python",
   "name": "python3"
  },
  "language_info": {
   "codemirror_mode": {
    "name": "ipython",
    "version": 3
   },
   "file_extension": ".py",
   "mimetype": "text/x-python",
   "name": "python",
   "nbconvert_exporter": "python",
   "pygments_lexer": "ipython3",
   "version": "3.6.15"
  },
  "papermill": {
   "default_parameters": {},
   "duration": 169.182129,
   "end_time": "2022-11-16T00:44:49.871663",
   "environment_variables": {},
   "exception": null,
   "input_path": "2020-08-11-part2.ipynb",
   "output_path": "2020-08-11-part2.ipynb",
   "parameters": {},
   "start_time": "2022-11-16T00:42:00.689534",
   "version": "2.3.3"
  }
 },
 "nbformat": 4,
 "nbformat_minor": 5
}