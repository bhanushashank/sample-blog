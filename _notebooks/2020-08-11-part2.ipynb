{
 "cells": [
  {
   "cell_type": "markdown",
   "id": "98380cd3",
   "metadata": {
    "papermill": {
     "duration": 0.029549,
     "end_time": "2022-06-21T10:15:58.771529",
     "exception": false,
     "start_time": "2022-06-21T10:15:58.741980",
     "status": "completed"
    },
    "tags": []
   },
   "source": [
    "# Distinguish Your Own Digits (DYOD)"
   ]
  },
  {
   "cell_type": "markdown",
   "id": "ef31240d",
   "metadata": {
    "papermill": {
     "duration": 0.024076,
     "end_time": "2022-06-21T10:15:58.820172",
     "exception": false,
     "start_time": "2022-06-21T10:15:58.796096",
     "status": "completed"
    },
    "tags": []
   },
   "source": [
    "You are going to write a classifier that distinguishes between the number 3 and number 8."
   ]
  },
  {
   "cell_type": "code",
   "execution_count": 1,
   "id": "b15c8646",
   "metadata": {
    "execution": {
     "iopub.execute_input": "2022-06-21T10:15:58.879402Z",
     "iopub.status.busy": "2022-06-21T10:15:58.878793Z",
     "iopub.status.idle": "2022-06-21T10:15:58.889903Z",
     "shell.execute_reply": "2022-06-21T10:15:58.889395Z"
    },
    "papermill": {
     "duration": 0.04591,
     "end_time": "2022-06-21T10:15:58.890035",
     "exception": false,
     "start_time": "2022-06-21T10:15:58.844125",
     "status": "completed"
    },
    "tags": []
   },
   "outputs": [],
   "source": [
    "%load_ext autoreload\n",
    "%autoreload 2"
   ]
  },
  {
   "cell_type": "code",
   "execution_count": 2,
   "id": "22ef38dc",
   "metadata": {
    "execution": {
     "iopub.execute_input": "2022-06-21T10:15:58.953881Z",
     "iopub.status.busy": "2022-06-21T10:15:58.951701Z",
     "iopub.status.idle": "2022-06-21T10:15:59.503001Z",
     "shell.execute_reply": "2022-06-21T10:15:59.502433Z"
    },
    "papermill": {
     "duration": 0.589108,
     "end_time": "2022-06-21T10:15:59.503141",
     "exception": false,
     "start_time": "2022-06-21T10:15:58.914033",
     "status": "completed"
    },
    "tags": []
   },
   "outputs": [],
   "source": [
    "%matplotlib inline\n",
    "import numpy as np\n",
    "import matplotlib.pyplot as plt\n",
    "import pandas as pd"
   ]
  },
  {
   "cell_type": "markdown",
   "id": "ba036198",
   "metadata": {
    "papermill": {
     "duration": 0.023973,
     "end_time": "2022-06-21T10:15:59.551864",
     "exception": false,
     "start_time": "2022-06-21T10:15:59.527891",
     "status": "completed"
    },
    "tags": []
   },
   "source": [
    "From the command line run `pip install mnist`. This is a library that will help you bring down the mnist dataset. If you run this from a notebook, you need to put  `!pip install mnist` in a cell by itself."
   ]
  },
  {
   "cell_type": "code",
   "execution_count": 3,
   "id": "bb6ad8a1",
   "metadata": {
    "execution": {
     "iopub.execute_input": "2022-06-21T10:15:59.604437Z",
     "iopub.status.busy": "2022-06-21T10:15:59.603843Z",
     "iopub.status.idle": "2022-06-21T10:16:01.491648Z",
     "shell.execute_reply": "2022-06-21T10:16:01.491042Z"
    },
    "papermill": {
     "duration": 1.915842,
     "end_time": "2022-06-21T10:16:01.491784",
     "exception": false,
     "start_time": "2022-06-21T10:15:59.575942",
     "status": "completed"
    },
    "tags": []
   },
   "outputs": [
    {
     "name": "stdout",
     "output_type": "stream",
     "text": [
      "Collecting mnist\r\n",
      "  Downloading mnist-0.2.2-py2.py3-none-any.whl (3.5 kB)\r\n",
      "Requirement already satisfied: numpy in /opt/hostedtoolcache/Python/3.6.15/x64/lib/python3.6/site-packages (from mnist) (1.19.5)\r\n"
     ]
    },
    {
     "name": "stdout",
     "output_type": "stream",
     "text": [
      "Installing collected packages: mnist\r\n"
     ]
    },
    {
     "name": "stdout",
     "output_type": "stream",
     "text": [
      "Successfully installed mnist-0.2.2\r\n"
     ]
    }
   ],
   "source": [
    "!pip install mnist"
   ]
  },
  {
   "cell_type": "markdown",
   "id": "69df9c9a",
   "metadata": {
    "papermill": {
     "duration": 0.02471,
     "end_time": "2022-06-21T10:16:01.541803",
     "exception": false,
     "start_time": "2022-06-21T10:16:01.517093",
     "status": "completed"
    },
    "tags": []
   },
   "source": [
    "## Preparing the Data"
   ]
  },
  {
   "cell_type": "code",
   "execution_count": 4,
   "id": "7f69d806",
   "metadata": {
    "execution": {
     "iopub.execute_input": "2022-06-21T10:16:01.595421Z",
     "iopub.status.busy": "2022-06-21T10:16:01.594829Z",
     "iopub.status.idle": "2022-06-21T10:16:01.609523Z",
     "shell.execute_reply": "2022-06-21T10:16:01.610019Z"
    },
    "papermill": {
     "duration": 0.043715,
     "end_time": "2022-06-21T10:16:01.610158",
     "exception": false,
     "start_time": "2022-06-21T10:16:01.566443",
     "status": "completed"
    },
    "tags": []
   },
   "outputs": [],
   "source": [
    "import mnist"
   ]
  },
  {
   "cell_type": "code",
   "execution_count": 5,
   "id": "a411e44f",
   "metadata": {
    "execution": {
     "iopub.execute_input": "2022-06-21T10:16:01.663962Z",
     "iopub.status.busy": "2022-06-21T10:16:01.663361Z",
     "iopub.status.idle": "2022-06-21T10:16:02.177103Z",
     "shell.execute_reply": "2022-06-21T10:16:02.175860Z"
    },
    "papermill": {
     "duration": 0.542199,
     "end_time": "2022-06-21T10:16:02.177260",
     "exception": false,
     "start_time": "2022-06-21T10:16:01.635061",
     "status": "completed"
    },
    "tags": []
   },
   "outputs": [],
   "source": [
    "train_images = mnist.train_images()\n",
    "train_labels = mnist.train_labels()"
   ]
  },
  {
   "cell_type": "code",
   "execution_count": 6,
   "id": "dceab3a5",
   "metadata": {
    "execution": {
     "iopub.execute_input": "2022-06-21T10:16:02.231322Z",
     "iopub.status.busy": "2022-06-21T10:16:02.230702Z",
     "iopub.status.idle": "2022-06-21T10:16:02.245462Z",
     "shell.execute_reply": "2022-06-21T10:16:02.244862Z"
    },
    "papermill": {
     "duration": 0.043304,
     "end_time": "2022-06-21T10:16:02.245585",
     "exception": false,
     "start_time": "2022-06-21T10:16:02.202281",
     "status": "completed"
    },
    "tags": []
   },
   "outputs": [
    {
     "data": {
      "text/plain": [
       "((60000, 28, 28), (60000,))"
      ]
     },
     "execution_count": 6,
     "metadata": {},
     "output_type": "execute_result"
    }
   ],
   "source": [
    "train_images.shape, train_labels.shape"
   ]
  },
  {
   "cell_type": "code",
   "execution_count": 7,
   "id": "f50dc2bb",
   "metadata": {
    "execution": {
     "iopub.execute_input": "2022-06-21T10:16:02.299780Z",
     "iopub.status.busy": "2022-06-21T10:16:02.299180Z",
     "iopub.status.idle": "2022-06-21T10:16:02.411402Z",
     "shell.execute_reply": "2022-06-21T10:16:02.410826Z"
    },
    "papermill": {
     "duration": 0.140996,
     "end_time": "2022-06-21T10:16:02.411546",
     "exception": false,
     "start_time": "2022-06-21T10:16:02.270550",
     "status": "completed"
    },
    "tags": []
   },
   "outputs": [],
   "source": [
    "test_images = mnist.test_images()\n",
    "test_labels = mnist.test_labels()"
   ]
  },
  {
   "cell_type": "code",
   "execution_count": 8,
   "id": "fc38cf1b",
   "metadata": {
    "execution": {
     "iopub.execute_input": "2022-06-21T10:16:02.466817Z",
     "iopub.status.busy": "2022-06-21T10:16:02.466227Z",
     "iopub.status.idle": "2022-06-21T10:16:02.479997Z",
     "shell.execute_reply": "2022-06-21T10:16:02.479509Z"
    },
    "papermill": {
     "duration": 0.042823,
     "end_time": "2022-06-21T10:16:02.480115",
     "exception": false,
     "start_time": "2022-06-21T10:16:02.437292",
     "status": "completed"
    },
    "tags": []
   },
   "outputs": [
    {
     "data": {
      "text/plain": [
       "((10000, 28, 28), (10000,))"
      ]
     },
     "execution_count": 8,
     "metadata": {},
     "output_type": "execute_result"
    }
   ],
   "source": [
    "test_images.shape, test_labels.shape"
   ]
  },
  {
   "cell_type": "code",
   "execution_count": 9,
   "id": "f9ed8fe0",
   "metadata": {
    "execution": {
     "iopub.execute_input": "2022-06-21T10:16:02.535290Z",
     "iopub.status.busy": "2022-06-21T10:16:02.534697Z",
     "iopub.status.idle": "2022-06-21T10:16:02.678440Z",
     "shell.execute_reply": "2022-06-21T10:16:02.677844Z"
    },
    "papermill": {
     "duration": 0.173056,
     "end_time": "2022-06-21T10:16:02.678573",
     "exception": false,
     "start_time": "2022-06-21T10:16:02.505517",
     "status": "completed"
    },
    "tags": []
   },
   "outputs": [
    {
     "name": "stdout",
     "output_type": "stream",
     "text": [
      "2\n"
     ]
    },
    {
     "data": {
      "text/plain": [
       "<matplotlib.image.AxesImage at 0x7fc677eb0390>"
      ]
     },
     "execution_count": 9,
     "metadata": {},
     "output_type": "execute_result"
    },
    {
     "data": {
      "image/png": "[encoded data removed]",
      "text/plain": [
       "<Figure size 432x288 with 1 Axes>"
      ]
     },
     "metadata": {
      "needs_background": "light"
     },
     "output_type": "display_data"
    }
   ],
   "source": [
    "image_index = 7776 # You may select anything up to 60,000\n",
    "print(train_labels[image_index]) \n",
    "plt.imshow(train_images[image_index], cmap='Greys')"
   ]
  },
  {
   "cell_type": "markdown",
   "id": "a8d2388d",
   "metadata": {
    "papermill": {
     "duration": 0.026463,
     "end_time": "2022-06-21T10:16:02.732444",
     "exception": false,
     "start_time": "2022-06-21T10:16:02.705981",
     "status": "completed"
    },
    "tags": []
   },
   "source": [
    "## Filter data to get 3 and 8 out"
   ]
  },
  {
   "cell_type": "code",
   "execution_count": 10,
   "id": "776f7fc7",
   "metadata": {
    "execution": {
     "iopub.execute_input": "2022-06-21T10:16:02.790044Z",
     "iopub.status.busy": "2022-06-21T10:16:02.789445Z",
     "iopub.status.idle": "2022-06-21T10:16:02.810127Z",
     "shell.execute_reply": "2022-06-21T10:16:02.809556Z"
    },
    "papermill": {
     "duration": 0.051479,
     "end_time": "2022-06-21T10:16:02.810264",
     "exception": false,
     "start_time": "2022-06-21T10:16:02.758785",
     "status": "completed"
    },
    "tags": []
   },
   "outputs": [],
   "source": [
    "train_filter = np.where((train_labels == 3 ) | (train_labels == 8))\n",
    "test_filter = np.where((test_labels == 3) | (test_labels == 8))\n",
    "X_train, y_train = train_images[train_filter], train_labels[train_filter]\n",
    "X_test, y_test = test_images[test_filter], test_labels[test_filter]"
   ]
  },
  {
   "cell_type": "markdown",
   "id": "948f0b7e",
   "metadata": {
    "papermill": {
     "duration": 0.026332,
     "end_time": "2022-06-21T10:16:02.863934",
     "exception": false,
     "start_time": "2022-06-21T10:16:02.837602",
     "status": "completed"
    },
    "tags": []
   },
   "source": [
    "We normalize the pizel values in the 0 to 1 range"
   ]
  },
  {
   "cell_type": "code",
   "execution_count": 11,
   "id": "ee4c2166",
   "metadata": {
    "execution": {
     "iopub.execute_input": "2022-06-21T10:16:02.921514Z",
     "iopub.status.busy": "2022-06-21T10:16:02.920903Z",
     "iopub.status.idle": "2022-06-21T10:16:02.968661Z",
     "shell.execute_reply": "2022-06-21T10:16:02.968087Z"
    },
    "papermill": {
     "duration": 0.07797,
     "end_time": "2022-06-21T10:16:02.968826",
     "exception": false,
     "start_time": "2022-06-21T10:16:02.890856",
     "status": "completed"
    },
    "tags": []
   },
   "outputs": [],
   "source": [
    "X_train = X_train/255.\n",
    "X_test = X_test/255."
   ]
  },
  {
   "cell_type": "markdown",
   "id": "ddcf4fab",
   "metadata": {
    "papermill": {
     "duration": 0.026394,
     "end_time": "2022-06-21T10:16:03.022382",
     "exception": false,
     "start_time": "2022-06-21T10:16:02.995988",
     "status": "completed"
    },
    "tags": []
   },
   "source": [
    "And setup the labels as 1 (when the digit is 3) and 0 (when the digit is 8)"
   ]
  },
  {
   "cell_type": "code",
   "execution_count": 12,
   "id": "7dc908f2",
   "metadata": {
    "execution": {
     "iopub.execute_input": "2022-06-21T10:16:03.090363Z",
     "iopub.status.busy": "2022-06-21T10:16:03.089709Z",
     "iopub.status.idle": "2022-06-21T10:16:03.097843Z",
     "shell.execute_reply": "2022-06-21T10:16:03.097366Z"
    },
    "papermill": {
     "duration": 0.049176,
     "end_time": "2022-06-21T10:16:03.097965",
     "exception": false,
     "start_time": "2022-06-21T10:16:03.048789",
     "status": "completed"
    },
    "tags": []
   },
   "outputs": [],
   "source": [
    "y_train = 1*(y_train==3)\n",
    "y_test = 1*(y_test==3)"
   ]
  },
  {
   "cell_type": "code",
   "execution_count": 13,
   "id": "01e4e969",
   "metadata": {
    "execution": {
     "iopub.execute_input": "2022-06-21T10:16:03.155055Z",
     "iopub.status.busy": "2022-06-21T10:16:03.154459Z",
     "iopub.status.idle": "2022-06-21T10:16:03.168522Z",
     "shell.execute_reply": "2022-06-21T10:16:03.167934Z"
    },
    "papermill": {
     "duration": 0.0441,
     "end_time": "2022-06-21T10:16:03.168643",
     "exception": false,
     "start_time": "2022-06-21T10:16:03.124543",
     "status": "completed"
    },
    "tags": []
   },
   "outputs": [
    {
     "data": {
      "text/plain": [
       "((11982, 28, 28), (1984, 28, 28))"
      ]
     },
     "execution_count": 13,
     "metadata": {},
     "output_type": "execute_result"
    }
   ],
   "source": [
    "X_train.shape, X_test.shape"
   ]
  },
  {
   "cell_type": "markdown",
   "id": "5ccf3f85",
   "metadata": {
    "papermill": {
     "duration": 0.02658,
     "end_time": "2022-06-21T10:16:03.221794",
     "exception": false,
     "start_time": "2022-06-21T10:16:03.195214",
     "status": "completed"
    },
    "tags": []
   },
   "source": [
    "We reshape the data to flatten the image pixels into a set of features or co-variates:"
   ]
  },
  {
   "cell_type": "code",
   "execution_count": 14,
   "id": "5286a4a3",
   "metadata": {
    "execution": {
     "iopub.execute_input": "2022-06-21T10:16:03.279635Z",
     "iopub.status.busy": "2022-06-21T10:16:03.279032Z",
     "iopub.status.idle": "2022-06-21T10:16:03.293359Z",
     "shell.execute_reply": "2022-06-21T10:16:03.292849Z"
    },
    "papermill": {
     "duration": 0.044972,
     "end_time": "2022-06-21T10:16:03.293482",
     "exception": false,
     "start_time": "2022-06-21T10:16:03.248510",
     "status": "completed"
    },
    "tags": []
   },
   "outputs": [
    {
     "data": {
      "text/plain": [
       "((11982, 784), (1984, 784))"
      ]
     },
     "execution_count": 14,
     "metadata": {},
     "output_type": "execute_result"
    }
   ],
   "source": [
    "X_train = X_train.reshape(X_train.shape[0], -1)\n",
    "X_test = X_test.reshape(X_test.shape[0], -1)\n",
    "X_train.shape, X_test.shape"
   ]
  },
  {
   "cell_type": "code",
   "execution_count": 15,
   "id": "73c5f88a",
   "metadata": {
    "execution": {
     "iopub.execute_input": "2022-06-21T10:16:03.352252Z",
     "iopub.status.busy": "2022-06-21T10:16:03.351647Z",
     "iopub.status.idle": "2022-06-21T10:16:03.371696Z",
     "shell.execute_reply": "2022-06-21T10:16:03.371190Z"
    },
    "papermill": {
     "duration": 0.051379,
     "end_time": "2022-06-21T10:16:03.371821",
     "exception": false,
     "start_time": "2022-06-21T10:16:03.320442",
     "status": "completed"
    },
    "tags": []
   },
   "outputs": [],
   "source": [
    "#Impoting functions from 'Kudzu'\n",
    "from kudzu.model import Model\n",
    "from kudzu.train import Learner\n",
    "from kudzu.optim import GD\n",
    "from kudzu.data import Data, Sampler,Dataloader\n",
    "\n",
    "from kudzu.callbacks import AccCallback\n",
    "from kudzu.callbacks import ClfCallback\n",
    "\n",
    "from kudzu.loss import MSE\n",
    "\n",
    "from kudzu.layer import Sigmoid,Relu\n",
    "from kudzu.layer import Affine"
   ]
  },
  {
   "cell_type": "markdown",
   "id": "bc01172a",
   "metadata": {
    "papermill": {
     "duration": 0.027291,
     "end_time": "2022-06-21T10:16:03.426411",
     "exception": false,
     "start_time": "2022-06-21T10:16:03.399120",
     "status": "completed"
    },
    "tags": []
   },
   "source": [
    "### Let us create a `Config` class, to store important parameters. \n",
    "This class essentially plays the role of a dictionary."
   ]
  },
  {
   "cell_type": "code",
   "execution_count": 16,
   "id": "978281aa",
   "metadata": {
    "execution": {
     "iopub.execute_input": "2022-06-21T10:16:03.486269Z",
     "iopub.status.busy": "2022-06-21T10:16:03.485645Z",
     "iopub.status.idle": "2022-06-21T10:16:03.496972Z",
     "shell.execute_reply": "2022-06-21T10:16:03.496348Z"
    },
    "papermill": {
     "duration": 0.043839,
     "end_time": "2022-06-21T10:16:03.497093",
     "exception": false,
     "start_time": "2022-06-21T10:16:03.453254",
     "status": "completed"
    },
    "tags": []
   },
   "outputs": [],
   "source": [
    "class Config:\n",
    "    pass\n",
    "config = Config()\n",
    "config.lr = 0.001\n",
    "config.num_epochs = 250\n",
    "config.bs = 50"
   ]
  },
  {
   "cell_type": "markdown",
   "id": "1385fa59",
   "metadata": {
    "papermill": {
     "duration": 0.027216,
     "end_time": "2022-06-21T10:16:03.551291",
     "exception": false,
     "start_time": "2022-06-21T10:16:03.524075",
     "status": "completed"
    },
    "tags": []
   },
   "source": [
    "### Running Models with the Training data\n",
    "Details about the network layers:\n",
    "- A first affine layer has 784 inputs and does 100 affine transforms. These are followed by a Relu\n",
    "- A second affine layer has 100 inputs from the 100 activations of the past layer, and does 100 affine transforms. These are followed by a Relu\n",
    "- A third affine layer has 100 activations and does 2 affine transformations to create an embedding for visualization. There is no non-linearity here.\n",
    "- A final \"logistic regression\" which has an affine transform from 2 inputs to 1 output, which is squeezed through a sigmoid.\n"
   ]
  },
  {
   "cell_type": "code",
   "execution_count": 17,
   "id": "2b9c66db",
   "metadata": {
    "execution": {
     "iopub.execute_input": "2022-06-21T10:16:03.609633Z",
     "iopub.status.busy": "2022-06-21T10:16:03.609014Z",
     "iopub.status.idle": "2022-06-21T10:16:03.621793Z",
     "shell.execute_reply": "2022-06-21T10:16:03.622259Z"
    },
    "papermill": {
     "duration": 0.044156,
     "end_time": "2022-06-21T10:16:03.622401",
     "exception": false,
     "start_time": "2022-06-21T10:16:03.578245",
     "status": "completed"
    },
    "tags": []
   },
   "outputs": [],
   "source": [
    "data = Data(X_train, y_train.reshape(-1,1))\n",
    "sampler = Sampler(data, config.bs, shuffle=True)\n",
    "\n",
    "dl = Dataloader(data, sampler)\n",
    "\n",
    "opt = GD(config.lr)\n",
    "loss = MSE()"
   ]
  },
  {
   "cell_type": "code",
   "execution_count": 18,
   "id": "b275e4c2",
   "metadata": {
    "execution": {
     "iopub.execute_input": "2022-06-21T10:16:03.681250Z",
     "iopub.status.busy": "2022-06-21T10:16:03.680594Z",
     "iopub.status.idle": "2022-06-21T10:16:03.693516Z",
     "shell.execute_reply": "2022-06-21T10:16:03.693024Z"
    },
    "papermill": {
     "duration": 0.044171,
     "end_time": "2022-06-21T10:16:03.693632",
     "exception": false,
     "start_time": "2022-06-21T10:16:03.649461",
     "status": "completed"
    },
    "tags": []
   },
   "outputs": [],
   "source": [
    "training_data_x = X_train\n",
    "testing_data_x = X_test\n",
    "training_data_y = y_train.reshape(-1,1)\n",
    "testing_data_y = y_test.reshape(-1,1)"
   ]
  },
  {
   "cell_type": "code",
   "execution_count": 19,
   "id": "76951160",
   "metadata": {
    "execution": {
     "iopub.execute_input": "2022-06-21T10:16:03.752223Z",
     "iopub.status.busy": "2022-06-21T10:16:03.751622Z",
     "iopub.status.idle": "2022-06-21T10:16:03.767779Z",
     "shell.execute_reply": "2022-06-21T10:16:03.768232Z"
    },
    "papermill": {
     "duration": 0.047786,
     "end_time": "2022-06-21T10:16:03.768367",
     "exception": false,
     "start_time": "2022-06-21T10:16:03.720581",
     "status": "completed"
    },
    "tags": []
   },
   "outputs": [
    {
     "name": "stdout",
     "output_type": "stream",
     "text": [
      "xavier\n",
      "xavier\n",
      "xavier\n",
      "xavier\n",
      "xavier\n"
     ]
    }
   ],
   "source": [
    "layers = [Affine(\"first\", 784, 100), Relu(\"first\"), Affine(\"second\", 100, 100), Relu(\"second\"), Affine(\"third\", 100, 2), Affine(\"last\", 2, 1), Sigmoid(\"last\")]\n",
    "model_nn = Model(layers)\n",
    "model_lr = Model([Affine(\"logits\", 784, 1), Sigmoid(\"sigmoid\")])"
   ]
  },
  {
   "cell_type": "code",
   "execution_count": 20,
   "id": "6eede77a",
   "metadata": {
    "execution": {
     "iopub.execute_input": "2022-06-21T10:16:03.827036Z",
     "iopub.status.busy": "2022-06-21T10:16:03.826440Z",
     "iopub.status.idle": "2022-06-21T10:16:03.839929Z",
     "shell.execute_reply": "2022-06-21T10:16:03.839427Z"
    },
    "papermill": {
     "duration": 0.044582,
     "end_time": "2022-06-21T10:16:03.840047",
     "exception": false,
     "start_time": "2022-06-21T10:16:03.795465",
     "status": "completed"
    },
    "tags": []
   },
   "outputs": [],
   "source": [
    "nn_learner = Learner(loss, model_nn, opt, config.num_epochs)\n",
    "acc_nn = ClfCallback(nn_learner, config.bs, training_data_x , testing_data_x, training_data_y, testing_data_y)\n",
    "nn_learner.set_callbacks([acc_nn])"
   ]
  },
  {
   "cell_type": "code",
   "execution_count": 21,
   "id": "877b6cc7",
   "metadata": {
    "execution": {
     "iopub.execute_input": "2022-06-21T10:16:03.898700Z",
     "iopub.status.busy": "2022-06-21T10:16:03.898110Z",
     "iopub.status.idle": "2022-06-21T10:16:03.911207Z",
     "shell.execute_reply": "2022-06-21T10:16:03.910735Z"
    },
    "papermill": {
     "duration": 0.044175,
     "end_time": "2022-06-21T10:16:03.911321",
     "exception": false,
     "start_time": "2022-06-21T10:16:03.867146",
     "status": "completed"
    },
    "tags": []
   },
   "outputs": [],
   "source": [
    "lr_learner = Learner(loss, model_lr, opt, config.num_epochs)\n",
    "acc_lr = ClfCallback(lr_learner, config.bs, training_data_x , testing_data_x, training_data_y, testing_data_y)\n",
    "lr_learner.set_callbacks([acc_lr])"
   ]
  },
  {
   "cell_type": "code",
   "execution_count": 22,
   "id": "d9b133c3",
   "metadata": {
    "execution": {
     "iopub.execute_input": "2022-06-21T10:16:03.969350Z",
     "iopub.status.busy": "2022-06-21T10:16:03.968741Z",
     "iopub.status.idle": "2022-06-21T10:17:21.576229Z",
     "shell.execute_reply": "2022-06-21T10:17:21.577091Z"
    },
    "papermill": {
     "duration": 77.63892,
     "end_time": "2022-06-21T10:17:21.577239",
     "exception": false,
     "start_time": "2022-06-21T10:16:03.938319",
     "status": "completed"
    },
    "tags": []
   },
   "outputs": [
    {
     "name": "stdout",
     "output_type": "stream",
     "text": [
      "Epoch 0, Loss 0.2609\n",
      "Training Accuracy: 0.5917, Testing Accuracy: 0.6104\n",
      "\n"
     ]
    },
    {
     "name": "stdout",
     "output_type": "stream",
     "text": [
      "Epoch 10, Loss 0.0845\n",
      "Training Accuracy: 0.9185, Testing Accuracy: 0.9340\n",
      "\n"
     ]
    },
    {
     "name": "stdout",
     "output_type": "stream",
     "text": [
      "Epoch 20, Loss 0.0524\n",
      "Training Accuracy: 0.9455, Testing Accuracy: 0.9607\n",
      "\n"
     ]
    },
    {
     "name": "stdout",
     "output_type": "stream",
     "text": [
      "Epoch 30, Loss 0.0414\n",
      "Training Accuracy: 0.9556, Testing Accuracy: 0.9688\n",
      "\n"
     ]
    },
    {
     "name": "stdout",
     "output_type": "stream",
     "text": [
      "Epoch 40, Loss 0.0361\n",
      "Training Accuracy: 0.9609, Testing Accuracy: 0.9688\n",
      "\n"
     ]
    },
    {
     "name": "stdout",
     "output_type": "stream",
     "text": [
      "Epoch 50, Loss 0.0328\n",
      "Training Accuracy: 0.9642, Testing Accuracy: 0.9703\n",
      "\n"
     ]
    },
    {
     "name": "stdout",
     "output_type": "stream",
     "text": [
      "Epoch 60, Loss 0.0305\n",
      "Training Accuracy: 0.9664, Testing Accuracy: 0.9718\n",
      "\n"
     ]
    },
    {
     "name": "stdout",
     "output_type": "stream",
     "text": [
      "Epoch 70, Loss 0.0287\n",
      "Training Accuracy: 0.9681, Testing Accuracy: 0.9733\n",
      "\n"
     ]
    },
    {
     "name": "stdout",
     "output_type": "stream",
     "text": [
      "Epoch 80, Loss 0.0274\n",
      "Training Accuracy: 0.9695, Testing Accuracy: 0.9738\n",
      "\n"
     ]
    },
    {
     "name": "stdout",
     "output_type": "stream",
     "text": [
      "Epoch 90, Loss 0.0262\n",
      "Training Accuracy: 0.9701, Testing Accuracy: 0.9728\n",
      "\n"
     ]
    },
    {
     "name": "stdout",
     "output_type": "stream",
     "text": [
      "Epoch 100, Loss 0.0252\n",
      "Training Accuracy: 0.9712, Testing Accuracy: 0.9733\n",
      "\n"
     ]
    },
    {
     "name": "stdout",
     "output_type": "stream",
     "text": [
      "Epoch 110, Loss 0.0244\n",
      "Training Accuracy: 0.9723, Testing Accuracy: 0.9743\n",
      "\n"
     ]
    },
    {
     "name": "stdout",
     "output_type": "stream",
     "text": [
      "Epoch 120, Loss 0.0236\n",
      "Training Accuracy: 0.9737, Testing Accuracy: 0.9748\n",
      "\n"
     ]
    },
    {
     "name": "stdout",
     "output_type": "stream",
     "text": [
      "Epoch 130, Loss 0.0229\n",
      "Training Accuracy: 0.9745, Testing Accuracy: 0.9743\n",
      "\n"
     ]
    },
    {
     "name": "stdout",
     "output_type": "stream",
     "text": [
      "Epoch 140, Loss 0.0223\n",
      "Training Accuracy: 0.9755, Testing Accuracy: 0.9753\n",
      "\n"
     ]
    },
    {
     "name": "stdout",
     "output_type": "stream",
     "text": [
      "Epoch 150, Loss 0.0217\n",
      "Training Accuracy: 0.9765, Testing Accuracy: 0.9753\n",
      "\n"
     ]
    },
    {
     "name": "stdout",
     "output_type": "stream",
     "text": [
      "Epoch 160, Loss 0.0212\n",
      "Training Accuracy: 0.9767, Testing Accuracy: 0.9758\n",
      "\n"
     ]
    },
    {
     "name": "stdout",
     "output_type": "stream",
     "text": [
      "Epoch 170, Loss 0.0207\n",
      "Training Accuracy: 0.9774, Testing Accuracy: 0.9758\n",
      "\n"
     ]
    },
    {
     "name": "stdout",
     "output_type": "stream",
     "text": [
      "Epoch 180, Loss 0.0202\n",
      "Training Accuracy: 0.9775, Testing Accuracy: 0.9758\n",
      "\n"
     ]
    },
    {
     "name": "stdout",
     "output_type": "stream",
     "text": [
      "Epoch 190, Loss 0.0198\n",
      "Training Accuracy: 0.9780, Testing Accuracy: 0.9768\n",
      "\n"
     ]
    },
    {
     "name": "stdout",
     "output_type": "stream",
     "text": [
      "Epoch 200, Loss 0.0193\n",
      "Training Accuracy: 0.9787, Testing Accuracy: 0.9783\n",
      "\n"
     ]
    },
    {
     "name": "stdout",
     "output_type": "stream",
     "text": [
      "Epoch 210, Loss 0.0189\n",
      "Training Accuracy: 0.9794, Testing Accuracy: 0.9783\n",
      "\n"
     ]
    },
    {
     "name": "stdout",
     "output_type": "stream",
     "text": [
      "Epoch 220, Loss 0.0185\n",
      "Training Accuracy: 0.9795, Testing Accuracy: 0.9793\n",
      "\n"
     ]
    },
    {
     "name": "stdout",
     "output_type": "stream",
     "text": [
      "Epoch 230, Loss 0.0182\n",
      "Training Accuracy: 0.9796, Testing Accuracy: 0.9793\n",
      "\n"
     ]
    },
    {
     "name": "stdout",
     "output_type": "stream",
     "text": [
      "Epoch 240, Loss 0.0178\n",
      "Training Accuracy: 0.9799, Testing Accuracy: 0.9793\n",
      "\n"
     ]
    },
    {
     "data": {
      "text/plain": [
       "0.03273521862472967"
      ]
     },
     "execution_count": 22,
     "metadata": {},
     "output_type": "execute_result"
    }
   ],
   "source": [
    "nn_learner.train_loop(dl)"
   ]
  },
  {
   "cell_type": "code",
   "execution_count": 23,
   "id": "e0163366",
   "metadata": {
    "execution": {
     "iopub.execute_input": "2022-06-21T10:17:21.654891Z",
     "iopub.status.busy": "2022-06-21T10:17:21.654285Z",
     "iopub.status.idle": "2022-06-21T10:17:35.398037Z",
     "shell.execute_reply": "2022-06-21T10:17:35.398880Z"
    },
    "papermill": {
     "duration": 13.787223,
     "end_time": "2022-06-21T10:17:35.399030",
     "exception": false,
     "start_time": "2022-06-21T10:17:21.611807",
     "status": "completed"
    },
    "tags": []
   },
   "outputs": [
    {
     "name": "stdout",
     "output_type": "stream",
     "text": [
      "Epoch 0, Loss 0.206\n",
      "Training Accuracy: 0.7727, Testing Accuracy: 0.7833\n",
      "\n"
     ]
    },
    {
     "name": "stdout",
     "output_type": "stream",
     "text": [
      "Epoch 10, Loss 0.1017\n",
      "Training Accuracy: 0.9011, Testing Accuracy: 0.9093\n",
      "\n"
     ]
    },
    {
     "name": "stdout",
     "output_type": "stream",
     "text": [
      "Epoch 20, Loss 0.0794\n",
      "Training Accuracy: 0.9226, Testing Accuracy: 0.9345\n",
      "\n"
     ]
    },
    {
     "name": "stdout",
     "output_type": "stream",
     "text": [
      "Epoch 30, Loss 0.0686\n",
      "Training Accuracy: 0.9321, Testing Accuracy: 0.9430\n",
      "\n"
     ]
    },
    {
     "name": "stdout",
     "output_type": "stream",
     "text": [
      "Epoch 40, Loss 0.062\n",
      "Training Accuracy: 0.9390, Testing Accuracy: 0.9476\n",
      "\n"
     ]
    },
    {
     "name": "stdout",
     "output_type": "stream",
     "text": [
      "Epoch 50, Loss 0.0574\n",
      "Training Accuracy: 0.9431, Testing Accuracy: 0.9531\n",
      "\n"
     ]
    },
    {
     "name": "stdout",
     "output_type": "stream",
     "text": [
      "Epoch 60, Loss 0.0541\n",
      "Training Accuracy: 0.9456, Testing Accuracy: 0.9551\n",
      "\n"
     ]
    },
    {
     "name": "stdout",
     "output_type": "stream",
     "text": [
      "Epoch 70, Loss 0.0515\n",
      "Training Accuracy: 0.9483, Testing Accuracy: 0.9551\n",
      "\n"
     ]
    },
    {
     "name": "stdout",
     "output_type": "stream",
     "text": [
      "Epoch 80, Loss 0.0494\n",
      "Training Accuracy: 0.9503, Testing Accuracy: 0.9582\n",
      "\n"
     ]
    },
    {
     "name": "stdout",
     "output_type": "stream",
     "text": [
      "Epoch 90, Loss 0.0477\n",
      "Training Accuracy: 0.9512, Testing Accuracy: 0.9602\n",
      "\n"
     ]
    },
    {
     "name": "stdout",
     "output_type": "stream",
     "text": [
      "Epoch 100, Loss 0.0463\n",
      "Training Accuracy: 0.9527, Testing Accuracy: 0.9607\n",
      "\n"
     ]
    },
    {
     "name": "stdout",
     "output_type": "stream",
     "text": [
      "Epoch 110, Loss 0.045\n",
      "Training Accuracy: 0.9536, Testing Accuracy: 0.9617\n",
      "\n"
     ]
    },
    {
     "name": "stdout",
     "output_type": "stream",
     "text": [
      "Epoch 120, Loss 0.0439\n",
      "Training Accuracy: 0.9543, Testing Accuracy: 0.9632\n",
      "\n"
     ]
    },
    {
     "name": "stdout",
     "output_type": "stream",
     "text": [
      "Epoch 130, Loss 0.043\n",
      "Training Accuracy: 0.9549, Testing Accuracy: 0.9632\n",
      "\n"
     ]
    },
    {
     "name": "stdout",
     "output_type": "stream",
     "text": [
      "Epoch 140, Loss 0.0422\n",
      "Training Accuracy: 0.9558, Testing Accuracy: 0.9632\n",
      "\n"
     ]
    },
    {
     "name": "stdout",
     "output_type": "stream",
     "text": [
      "Epoch 150, Loss 0.0414\n",
      "Training Accuracy: 0.9565, Testing Accuracy: 0.9642\n",
      "\n"
     ]
    },
    {
     "name": "stdout",
     "output_type": "stream",
     "text": [
      "Epoch 160, Loss 0.0407\n",
      "Training Accuracy: 0.9572, Testing Accuracy: 0.9642\n",
      "\n"
     ]
    },
    {
     "name": "stdout",
     "output_type": "stream",
     "text": [
      "Epoch 170, Loss 0.0401\n",
      "Training Accuracy: 0.9576, Testing Accuracy: 0.9652\n",
      "\n"
     ]
    },
    {
     "name": "stdout",
     "output_type": "stream",
     "text": [
      "Epoch 180, Loss 0.0395\n",
      "Training Accuracy: 0.9579, Testing Accuracy: 0.9652\n",
      "\n"
     ]
    },
    {
     "name": "stdout",
     "output_type": "stream",
     "text": [
      "Epoch 190, Loss 0.039\n",
      "Training Accuracy: 0.9587, Testing Accuracy: 0.9657\n",
      "\n"
     ]
    },
    {
     "name": "stdout",
     "output_type": "stream",
     "text": [
      "Epoch 200, Loss 0.0385\n",
      "Training Accuracy: 0.9589, Testing Accuracy: 0.9662\n",
      "\n"
     ]
    },
    {
     "name": "stdout",
     "output_type": "stream",
     "text": [
      "Epoch 210, Loss 0.0381\n",
      "Training Accuracy: 0.9593, Testing Accuracy: 0.9667\n",
      "\n"
     ]
    },
    {
     "name": "stdout",
     "output_type": "stream",
     "text": [
      "Epoch 220, Loss 0.0377\n",
      "Training Accuracy: 0.9596, Testing Accuracy: 0.9667\n",
      "\n"
     ]
    },
    {
     "name": "stdout",
     "output_type": "stream",
     "text": [
      "Epoch 230, Loss 0.0373\n",
      "Training Accuracy: 0.9601, Testing Accuracy: 0.9667\n",
      "\n"
     ]
    },
    {
     "name": "stdout",
     "output_type": "stream",
     "text": [
      "Epoch 240, Loss 0.0369\n",
      "Training Accuracy: 0.9604, Testing Accuracy: 0.9672\n",
      "\n"
     ]
    },
    {
     "data": {
      "text/plain": [
       "0.022757620658918943"
      ]
     },
     "execution_count": 23,
     "metadata": {},
     "output_type": "execute_result"
    }
   ],
   "source": [
    "lr_learner.train_loop(dl)"
   ]
  },
  {
   "cell_type": "code",
   "execution_count": 24,
   "id": "ca410940",
   "metadata": {
    "execution": {
     "iopub.execute_input": "2022-06-21T10:17:35.490819Z",
     "iopub.status.busy": "2022-06-21T10:17:35.490194Z",
     "iopub.status.idle": "2022-06-21T10:17:35.727442Z",
     "shell.execute_reply": "2022-06-21T10:17:35.726682Z"
    },
    "papermill": {
     "duration": 0.287529,
     "end_time": "2022-06-21T10:17:35.727570",
     "exception": false,
     "start_time": "2022-06-21T10:17:35.440041",
     "status": "completed"
    },
    "tags": []
   },
   "outputs": [
    {
     "data": {
      "text/plain": [
       "<matplotlib.legend.Legend at 0x7fc68185fe48>"
      ]
     },
     "execution_count": 24,
     "metadata": {},
     "output_type": "execute_result"
    },
    {
     "data": {
      "image/png": "[encoded data removed]",
      "text/plain": [
       "<Figure size 1080x720 with 1 Axes>"
      ]
     },
     "metadata": {
      "needs_background": "light"
     },
     "output_type": "display_data"
    }
   ],
   "source": [
    "#comparing the results of NN and LR\n",
    "plt.figure(figsize=(15,10))\n",
    "\n",
    "# Neural Network plots\n",
    "plt.plot(acc_nn.accuracies, 'r-', label = \"Training Accuracies - NN\")\n",
    "plt.plot(acc_nn.test_accuracies, 'g-', label = \"Testing Accuracies - NN\")\n",
    "\n",
    "# Logistic Regression plots\n",
    "plt.plot(acc_lr.accuracies, 'k-', label = \"Training Accuracies - LR\")\n",
    "plt.plot(acc_lr.test_accuracies, 'b-', label = \"Testing Accuracies - LR\")\n",
    "plt.legend()"
   ]
  },
  {
   "cell_type": "markdown",
   "id": "80dfb35c",
   "metadata": {
    "papermill": {
     "duration": 0.041529,
     "end_time": "2022-06-21T10:17:35.811065",
     "exception": false,
     "start_time": "2022-06-21T10:17:35.769536",
     "status": "completed"
    },
    "tags": []
   },
   "source": [
    "#### Plotting the outputs of this layer of the NN.\n"
   ]
  },
  {
   "cell_type": "code",
   "execution_count": 25,
   "id": "45eb2ff5",
   "metadata": {
    "execution": {
     "iopub.execute_input": "2022-06-21T10:17:35.902727Z",
     "iopub.status.busy": "2022-06-21T10:17:35.900135Z",
     "iopub.status.idle": "2022-06-21T10:17:35.919980Z",
     "shell.execute_reply": "2022-06-21T10:17:35.919456Z"
    },
    "papermill": {
     "duration": 0.067344,
     "end_time": "2022-06-21T10:17:35.920102",
     "exception": false,
     "start_time": "2022-06-21T10:17:35.852758",
     "status": "completed"
    },
    "tags": []
   },
   "outputs": [],
   "source": [
    "new_model = Model(layers[:-2])\n",
    "testing_plot = new_model(testing_data_x)"
   ]
  },
  {
   "cell_type": "code",
   "execution_count": 26,
   "id": "4c0a5485",
   "metadata": {
    "execution": {
     "iopub.execute_input": "2022-06-21T10:17:36.009734Z",
     "iopub.status.busy": "2022-06-21T10:17:36.009126Z",
     "iopub.status.idle": "2022-06-21T10:17:36.222830Z",
     "shell.execute_reply": "2022-06-21T10:17:36.223289Z"
    },
    "papermill": {
     "duration": 0.260653,
     "end_time": "2022-06-21T10:17:36.223426",
     "exception": false,
     "start_time": "2022-06-21T10:17:35.962773",
     "status": "completed"
    },
    "tags": []
   },
   "outputs": [
    {
     "data": {
      "text/plain": [
       "Text(0.5, 1.0, 'Outputs')"
      ]
     },
     "execution_count": 26,
     "metadata": {},
     "output_type": "execute_result"
    },
    {
     "data": {
      "image/png": "[encoded data removed]",
      "text/plain": [
       "<Figure size 576x504 with 1 Axes>"
      ]
     },
     "metadata": {
      "needs_background": "light"
     },
     "output_type": "display_data"
    }
   ],
   "source": [
    "# Plotting the scatter plot of points and color coding by class\n",
    "plt.figure(figsize=(8,7))\n",
    "plt.scatter(testing_plot[:,0], testing_plot[:,1], alpha = 0.1, c = y_test.ravel());\n",
    "plt.title('Outputs')"
   ]
  },
  {
   "cell_type": "markdown",
   "id": "a74fcf8f",
   "metadata": {
    "papermill": {
     "duration": 0.043764,
     "end_time": "2022-06-21T10:17:36.311181",
     "exception": false,
     "start_time": "2022-06-21T10:17:36.267417",
     "status": "completed"
    },
    "tags": []
   },
   "source": [
    "Probability contours"
   ]
  },
  {
   "cell_type": "code",
   "execution_count": 27,
   "id": "d0afc8e3",
   "metadata": {
    "execution": {
     "iopub.execute_input": "2022-06-21T10:17:36.406326Z",
     "iopub.status.busy": "2022-06-21T10:17:36.405634Z",
     "iopub.status.idle": "2022-06-21T10:17:36.415312Z",
     "shell.execute_reply": "2022-06-21T10:17:36.414827Z"
    },
    "papermill": {
     "duration": 0.060179,
     "end_time": "2022-06-21T10:17:36.415437",
     "exception": false,
     "start_time": "2022-06-21T10:17:36.355258",
     "status": "completed"
    },
    "tags": []
   },
   "outputs": [],
   "source": [
    "model_prob = Model(layers[-2:]) "
   ]
  },
  {
   "cell_type": "code",
   "execution_count": 28,
   "id": "9b96e238",
   "metadata": {
    "execution": {
     "iopub.execute_input": "2022-06-21T10:17:36.509086Z",
     "iopub.status.busy": "2022-06-21T10:17:36.508447Z",
     "iopub.status.idle": "2022-06-21T10:17:36.524290Z",
     "shell.execute_reply": "2022-06-21T10:17:36.523832Z"
    },
    "papermill": {
     "duration": 0.064783,
     "end_time": "2022-06-21T10:17:36.524406",
     "exception": false,
     "start_time": "2022-06-21T10:17:36.459623",
     "status": "completed"
    },
    "tags": []
   },
   "outputs": [],
   "source": [
    "#creating the x and y ranges according to the above generated plot.\n",
    "x_range = np.linspace(-4, 1, 100) \n",
    "y_range = np.linspace(-6, 6, 100) \n",
    "x_grid, y_grid = np.meshgrid(x_range, y_range) # x_grid and y_grig are of size 100 X 100\n",
    "\n",
    "# converting x_grid and y_grid to continuous arrays\n",
    "x_gridflat = np.ravel(x_grid)\n",
    "y_gridflat = np.ravel(y_grid)\n",
    "\n",
    "# The last layer of the current model takes two columns as input. Hence transpose of np.vstack() is required.\n",
    "X = np.vstack((x_gridflat, y_gridflat)).T\n",
    "\n",
    "prob_contour = model_prob(X).reshape(100,100) "
   ]
  },
  {
   "cell_type": "code",
   "execution_count": 29,
   "id": "da72499a",
   "metadata": {
    "execution": {
     "iopub.execute_input": "2022-06-21T10:17:36.652298Z",
     "iopub.status.busy": "2022-06-21T10:17:36.651659Z",
     "iopub.status.idle": "2022-06-21T10:17:36.902713Z",
     "shell.execute_reply": "2022-06-21T10:17:36.901936Z"
    },
    "papermill": {
     "duration": 0.303847,
     "end_time": "2022-06-21T10:17:36.902838",
     "exception": false,
     "start_time": "2022-06-21T10:17:36.598991",
     "status": "completed"
    },
    "tags": []
   },
   "outputs": [
    {
     "data": {
      "image/png": "[encoded data removed]",
      "text/plain": [
       "<Figure size 720x648 with 1 Axes>"
      ]
     },
     "metadata": {
      "needs_background": "light"
     },
     "output_type": "display_data"
    }
   ],
   "source": [
    "plt.figure(figsize=(10,9))\n",
    "plt.scatter(testing_plot[:,0], testing_plot[:,1], alpha = 0.1, c = y_test.ravel())\n",
    "contours = plt.contour(x_grid,y_grid,prob_contour)\n",
    "plt.title('Probability Contours')\n",
    "plt.clabel(contours, inline = True );"
   ]
  },
  {
   "cell_type": "code",
   "execution_count": null,
   "id": "e81b4ac7",
   "metadata": {
    "papermill": {
     "duration": 0.046963,
     "end_time": "2022-06-21T10:17:36.997147",
     "exception": false,
     "start_time": "2022-06-21T10:17:36.950184",
     "status": "completed"
    },
    "tags": []
   },
   "outputs": [],
   "source": []
  }
 ],
 "metadata": {
  "kernelspec": {
   "display_name": "Python 3",
   "language": "python",
   "name": "python3"
  },
  "language_info": {
   "codemirror_mode": {
    "name": "ipython",
    "version": 3
   },
   "file_extension": ".py",
   "mimetype": "text/x-python",
   "name": "python",
   "nbconvert_exporter": "python",
   "pygments_lexer": "ipython3",
   "version": "3.6.15"
  },
  "papermill": {
   "default_parameters": {},
   "duration": 99.887375,
   "end_time": "2022-06-21T10:17:37.463229",
   "environment_variables": {},
   "exception": null,
   "input_path": "2020-08-11-part2.ipynb",
   "output_path": "2020-08-11-part2.ipynb",
   "parameters": {},
   "start_time": "2022-06-21T10:15:57.575854",
   "version": "2.3.3"
  }
 },
 "nbformat": 4,
 "nbformat_minor": 5
}