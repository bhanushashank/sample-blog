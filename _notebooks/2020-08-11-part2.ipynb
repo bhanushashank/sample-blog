{
 "cells": [
  {
   "cell_type": "markdown",
   "id": "98380cd3",
   "metadata": {
    "papermill": {
     "duration": 0.0333,
     "end_time": "2022-08-27T10:10:21.989033",
     "exception": false,
     "start_time": "2022-08-27T10:10:21.955733",
     "status": "completed"
    },
    "tags": []
   },
   "source": [
    "# Distinguish Your Own Digits (DYOD)"
   ]
  },
  {
   "cell_type": "markdown",
   "id": "ef31240d",
   "metadata": {
    "papermill": {
     "duration": 0.032598,
     "end_time": "2022-08-27T10:10:22.049049",
     "exception": false,
     "start_time": "2022-08-27T10:10:22.016451",
     "status": "completed"
    },
    "tags": []
   },
   "source": [
    "You are going to write a classifier that distinguishes between the number 3 and number 8."
   ]
  },
  {
   "cell_type": "code",
   "execution_count": 1,
   "id": "b15c8646",
   "metadata": {
    "execution": {
     "iopub.execute_input": "2022-08-27T10:10:22.118726Z",
     "iopub.status.busy": "2022-08-27T10:10:22.117976Z",
     "iopub.status.idle": "2022-08-27T10:10:22.135885Z",
     "shell.execute_reply": "2022-08-27T10:10:22.136518Z"
    },
    "papermill": {
     "duration": 0.058367,
     "end_time": "2022-08-27T10:10:22.136683",
     "exception": false,
     "start_time": "2022-08-27T10:10:22.078316",
     "status": "completed"
    },
    "tags": []
   },
   "outputs": [],
   "source": [
    "%load_ext autoreload\n",
    "%autoreload 2"
   ]
  },
  {
   "cell_type": "code",
   "execution_count": 2,
   "id": "22ef38dc",
   "metadata": {
    "execution": {
     "iopub.execute_input": "2022-08-27T10:10:22.198233Z",
     "iopub.status.busy": "2022-08-27T10:10:22.197547Z",
     "iopub.status.idle": "2022-08-27T10:10:22.764609Z",
     "shell.execute_reply": "2022-08-27T10:10:22.763999Z"
    },
    "papermill": {
     "duration": 0.6003,
     "end_time": "2022-08-27T10:10:22.764751",
     "exception": false,
     "start_time": "2022-08-27T10:10:22.164451",
     "status": "completed"
    },
    "tags": []
   },
   "outputs": [],
   "source": [
    "%matplotlib inline\n",
    "import numpy as np\n",
    "import matplotlib.pyplot as plt\n",
    "import pandas as pd"
   ]
  },
  {
   "cell_type": "markdown",
   "id": "ba036198",
   "metadata": {
    "papermill": {
     "duration": 0.027573,
     "end_time": "2022-08-27T10:10:22.820856",
     "exception": false,
     "start_time": "2022-08-27T10:10:22.793283",
     "status": "completed"
    },
    "tags": []
   },
   "source": [
    "From the command line run `pip install mnist`. This is a library that will help you bring down the mnist dataset. If you run this from a notebook, you need to put  `!pip install mnist` in a cell by itself."
   ]
  },
  {
   "cell_type": "code",
   "execution_count": 3,
   "id": "bb6ad8a1",
   "metadata": {
    "execution": {
     "iopub.execute_input": "2022-08-27T10:10:22.883218Z",
     "iopub.status.busy": "2022-08-27T10:10:22.882559Z",
     "iopub.status.idle": "2022-08-27T10:10:24.730020Z",
     "shell.execute_reply": "2022-08-27T10:10:24.730531Z"
    },
    "papermill": {
     "duration": 1.881205,
     "end_time": "2022-08-27T10:10:24.730692",
     "exception": false,
     "start_time": "2022-08-27T10:10:22.849487",
     "status": "completed"
    },
    "tags": []
   },
   "outputs": [
    {
     "name": "stdout",
     "output_type": "stream",
     "text": [
      "Collecting mnist\r\n"
     ]
    },
    {
     "name": "stdout",
     "output_type": "stream",
     "text": [
      "  Downloading mnist-0.2.2-py2.py3-none-any.whl (3.5 kB)\r\n",
      "Requirement already satisfied: numpy in /opt/hostedtoolcache/Python/3.6.15/x64/lib/python3.6/site-packages (from mnist) (1.19.5)\r\n"
     ]
    },
    {
     "name": "stdout",
     "output_type": "stream",
     "text": [
      "Installing collected packages: mnist\r\n",
      "Successfully installed mnist-0.2.2\r\n"
     ]
    }
   ],
   "source": [
    "!pip install mnist"
   ]
  },
  {
   "cell_type": "markdown",
   "id": "69df9c9a",
   "metadata": {
    "papermill": {
     "duration": 0.029371,
     "end_time": "2022-08-27T10:10:24.789223",
     "exception": false,
     "start_time": "2022-08-27T10:10:24.759852",
     "status": "completed"
    },
    "tags": []
   },
   "source": [
    "## Preparing the Data"
   ]
  },
  {
   "cell_type": "code",
   "execution_count": 4,
   "id": "7f69d806",
   "metadata": {
    "execution": {
     "iopub.execute_input": "2022-08-27T10:10:24.870401Z",
     "iopub.status.busy": "2022-08-27T10:10:24.868076Z",
     "iopub.status.idle": "2022-08-27T10:10:24.873282Z",
     "shell.execute_reply": "2022-08-27T10:10:24.873885Z"
    },
    "papermill": {
     "duration": 0.055022,
     "end_time": "2022-08-27T10:10:24.874039",
     "exception": false,
     "start_time": "2022-08-27T10:10:24.819017",
     "status": "completed"
    },
    "tags": []
   },
   "outputs": [],
   "source": [
    "import mnist"
   ]
  },
  {
   "cell_type": "code",
   "execution_count": 5,
   "id": "a411e44f",
   "metadata": {
    "execution": {
     "iopub.execute_input": "2022-08-27T10:10:24.942510Z",
     "iopub.status.busy": "2022-08-27T10:10:24.939776Z",
     "iopub.status.idle": "2022-08-27T10:10:25.470584Z",
     "shell.execute_reply": "2022-08-27T10:10:25.469894Z"
    },
    "papermill": {
     "duration": 0.565342,
     "end_time": "2022-08-27T10:10:25.470720",
     "exception": false,
     "start_time": "2022-08-27T10:10:24.905378",
     "status": "completed"
    },
    "tags": []
   },
   "outputs": [],
   "source": [
    "train_images = mnist.train_images()\n",
    "train_labels = mnist.train_labels()"
   ]
  },
  {
   "cell_type": "code",
   "execution_count": 6,
   "id": "dceab3a5",
   "metadata": {
    "execution": {
     "iopub.execute_input": "2022-08-27T10:10:25.530993Z",
     "iopub.status.busy": "2022-08-27T10:10:25.530328Z",
     "iopub.status.idle": "2022-08-27T10:10:25.549827Z",
     "shell.execute_reply": "2022-08-27T10:10:25.549023Z"
    },
    "papermill": {
     "duration": 0.051058,
     "end_time": "2022-08-27T10:10:25.549967",
     "exception": false,
     "start_time": "2022-08-27T10:10:25.498909",
     "status": "completed"
    },
    "tags": []
   },
   "outputs": [
    {
     "data": {
      "text/plain": [
       "((60000, 28, 28), (60000,))"
      ]
     },
     "execution_count": 6,
     "metadata": {},
     "output_type": "execute_result"
    }
   ],
   "source": [
    "train_images.shape, train_labels.shape"
   ]
  },
  {
   "cell_type": "code",
   "execution_count": 7,
   "id": "f50dc2bb",
   "metadata": {
    "execution": {
     "iopub.execute_input": "2022-08-27T10:10:25.610582Z",
     "iopub.status.busy": "2022-08-27T10:10:25.609925Z",
     "iopub.status.idle": "2022-08-27T10:10:25.780697Z",
     "shell.execute_reply": "2022-08-27T10:10:25.780007Z"
    },
    "papermill": {
     "duration": 0.202292,
     "end_time": "2022-08-27T10:10:25.780900",
     "exception": false,
     "start_time": "2022-08-27T10:10:25.578608",
     "status": "completed"
    },
    "tags": []
   },
   "outputs": [],
   "source": [
    "test_images = mnist.test_images()\n",
    "test_labels = mnist.test_labels()"
   ]
  },
  {
   "cell_type": "code",
   "execution_count": 8,
   "id": "fc38cf1b",
   "metadata": {
    "execution": {
     "iopub.execute_input": "2022-08-27T10:10:25.845667Z",
     "iopub.status.busy": "2022-08-27T10:10:25.844945Z",
     "iopub.status.idle": "2022-08-27T10:10:25.859277Z",
     "shell.execute_reply": "2022-08-27T10:10:25.859989Z"
    },
    "papermill": {
     "duration": 0.049837,
     "end_time": "2022-08-27T10:10:25.860138",
     "exception": false,
     "start_time": "2022-08-27T10:10:25.810301",
     "status": "completed"
    },
    "tags": []
   },
   "outputs": [
    {
     "data": {
      "text/plain": [
       "((10000, 28, 28), (10000,))"
      ]
     },
     "execution_count": 8,
     "metadata": {},
     "output_type": "execute_result"
    }
   ],
   "source": [
    "test_images.shape, test_labels.shape"
   ]
  },
  {
   "cell_type": "code",
   "execution_count": 9,
   "id": "f9ed8fe0",
   "metadata": {
    "execution": {
     "iopub.execute_input": "2022-08-27T10:10:25.924709Z",
     "iopub.status.busy": "2022-08-27T10:10:25.924009Z",
     "iopub.status.idle": "2022-08-27T10:10:26.095471Z",
     "shell.execute_reply": "2022-08-27T10:10:26.095998Z"
    },
    "papermill": {
     "duration": 0.206558,
     "end_time": "2022-08-27T10:10:26.096152",
     "exception": false,
     "start_time": "2022-08-27T10:10:25.889594",
     "status": "completed"
    },
    "tags": []
   },
   "outputs": [
    {
     "name": "stdout",
     "output_type": "stream",
     "text": [
      "2\n"
     ]
    },
    {
     "data": {
      "text/plain": [
       "<matplotlib.image.AxesImage at 0x7f0ff74619b0>"
      ]
     },
     "execution_count": 9,
     "metadata": {},
     "output_type": "execute_result"
    },
    {
     "data": {
      "image/png": "[encoded data removed]",
      "text/plain": [
       "<Figure size 432x288 with 1 Axes>"
      ]
     },
     "metadata": {
      "needs_background": "light"
     },
     "output_type": "display_data"
    }
   ],
   "source": [
    "image_index = 7776 # You may select anything up to 60,000\n",
    "print(train_labels[image_index]) \n",
    "plt.imshow(train_images[image_index], cmap='Greys')"
   ]
  },
  {
   "cell_type": "markdown",
   "id": "a8d2388d",
   "metadata": {
    "papermill": {
     "duration": 0.031199,
     "end_time": "2022-08-27T10:10:26.157643",
     "exception": false,
     "start_time": "2022-08-27T10:10:26.126444",
     "status": "completed"
    },
    "tags": []
   },
   "source": [
    "## Filter data to get 3 and 8 out"
   ]
  },
  {
   "cell_type": "code",
   "execution_count": 10,
   "id": "776f7fc7",
   "metadata": {
    "execution": {
     "iopub.execute_input": "2022-08-27T10:10:26.228068Z",
     "iopub.status.busy": "2022-08-27T10:10:26.227395Z",
     "iopub.status.idle": "2022-08-27T10:10:26.242669Z",
     "shell.execute_reply": "2022-08-27T10:10:26.242102Z"
    },
    "papermill": {
     "duration": 0.054675,
     "end_time": "2022-08-27T10:10:26.242801",
     "exception": false,
     "start_time": "2022-08-27T10:10:26.188126",
     "status": "completed"
    },
    "tags": []
   },
   "outputs": [],
   "source": [
    "train_filter = np.where((train_labels == 3 ) | (train_labels == 8))\n",
    "test_filter = np.where((test_labels == 3) | (test_labels == 8))\n",
    "X_train, y_train = train_images[train_filter], train_labels[train_filter]\n",
    "X_test, y_test = test_images[test_filter], test_labels[test_filter]"
   ]
  },
  {
   "cell_type": "markdown",
   "id": "948f0b7e",
   "metadata": {
    "papermill": {
     "duration": 0.033064,
     "end_time": "2022-08-27T10:10:26.306043",
     "exception": false,
     "start_time": "2022-08-27T10:10:26.272979",
     "status": "completed"
    },
    "tags": []
   },
   "source": [
    "We normalize the pizel values in the 0 to 1 range"
   ]
  },
  {
   "cell_type": "code",
   "execution_count": 11,
   "id": "ee4c2166",
   "metadata": {
    "execution": {
     "iopub.execute_input": "2022-08-27T10:10:26.378316Z",
     "iopub.status.busy": "2022-08-27T10:10:26.377597Z",
     "iopub.status.idle": "2022-08-27T10:10:26.436100Z",
     "shell.execute_reply": "2022-08-27T10:10:26.435433Z"
    },
    "papermill": {
     "duration": 0.097803,
     "end_time": "2022-08-27T10:10:26.436239",
     "exception": false,
     "start_time": "2022-08-27T10:10:26.338436",
     "status": "completed"
    },
    "tags": []
   },
   "outputs": [],
   "source": [
    "X_train = X_train/255.\n",
    "X_test = X_test/255."
   ]
  },
  {
   "cell_type": "markdown",
   "id": "ddcf4fab",
   "metadata": {
    "papermill": {
     "duration": 0.030078,
     "end_time": "2022-08-27T10:10:26.498823",
     "exception": false,
     "start_time": "2022-08-27T10:10:26.468745",
     "status": "completed"
    },
    "tags": []
   },
   "source": [
    "And setup the labels as 1 (when the digit is 3) and 0 (when the digit is 8)"
   ]
  },
  {
   "cell_type": "code",
   "execution_count": 12,
   "id": "7dc908f2",
   "metadata": {
    "execution": {
     "iopub.execute_input": "2022-08-27T10:10:26.568933Z",
     "iopub.status.busy": "2022-08-27T10:10:26.568219Z",
     "iopub.status.idle": "2022-08-27T10:10:26.580920Z",
     "shell.execute_reply": "2022-08-27T10:10:26.580291Z"
    },
    "papermill": {
     "duration": 0.052395,
     "end_time": "2022-08-27T10:10:26.581064",
     "exception": false,
     "start_time": "2022-08-27T10:10:26.528669",
     "status": "completed"
    },
    "tags": []
   },
   "outputs": [],
   "source": [
    "y_train = 1*(y_train==3)\n",
    "y_test = 1*(y_test==3)"
   ]
  },
  {
   "cell_type": "code",
   "execution_count": 13,
   "id": "01e4e969",
   "metadata": {
    "execution": {
     "iopub.execute_input": "2022-08-27T10:10:26.645951Z",
     "iopub.status.busy": "2022-08-27T10:10:26.645222Z",
     "iopub.status.idle": "2022-08-27T10:10:26.660168Z",
     "shell.execute_reply": "2022-08-27T10:10:26.659577Z"
    },
    "papermill": {
     "duration": 0.049216,
     "end_time": "2022-08-27T10:10:26.660290",
     "exception": false,
     "start_time": "2022-08-27T10:10:26.611074",
     "status": "completed"
    },
    "tags": []
   },
   "outputs": [
    {
     "data": {
      "text/plain": [
       "((11982, 28, 28), (1984, 28, 28))"
      ]
     },
     "execution_count": 13,
     "metadata": {},
     "output_type": "execute_result"
    }
   ],
   "source": [
    "X_train.shape, X_test.shape"
   ]
  },
  {
   "cell_type": "markdown",
   "id": "5ccf3f85",
   "metadata": {
    "papermill": {
     "duration": 0.030727,
     "end_time": "2022-08-27T10:10:26.722532",
     "exception": false,
     "start_time": "2022-08-27T10:10:26.691805",
     "status": "completed"
    },
    "tags": []
   },
   "source": [
    "We reshape the data to flatten the image pixels into a set of features or co-variates:"
   ]
  },
  {
   "cell_type": "code",
   "execution_count": 14,
   "id": "5286a4a3",
   "metadata": {
    "execution": {
     "iopub.execute_input": "2022-08-27T10:10:26.787986Z",
     "iopub.status.busy": "2022-08-27T10:10:26.787309Z",
     "iopub.status.idle": "2022-08-27T10:10:26.801065Z",
     "shell.execute_reply": "2022-08-27T10:10:26.801616Z"
    },
    "papermill": {
     "duration": 0.049374,
     "end_time": "2022-08-27T10:10:26.801752",
     "exception": false,
     "start_time": "2022-08-27T10:10:26.752378",
     "status": "completed"
    },
    "tags": []
   },
   "outputs": [
    {
     "data": {
      "text/plain": [
       "((11982, 784), (1984, 784))"
      ]
     },
     "execution_count": 14,
     "metadata": {},
     "output_type": "execute_result"
    }
   ],
   "source": [
    "X_train = X_train.reshape(X_train.shape[0], -1)\n",
    "X_test = X_test.reshape(X_test.shape[0], -1)\n",
    "X_train.shape, X_test.shape"
   ]
  },
  {
   "cell_type": "code",
   "execution_count": 15,
   "id": "73c5f88a",
   "metadata": {
    "execution": {
     "iopub.execute_input": "2022-08-27T10:10:26.866453Z",
     "iopub.status.busy": "2022-08-27T10:10:26.865704Z",
     "iopub.status.idle": "2022-08-27T10:10:26.884054Z",
     "shell.execute_reply": "2022-08-27T10:10:26.884705Z"
    },
    "papermill": {
     "duration": 0.053108,
     "end_time": "2022-08-27T10:10:26.884843",
     "exception": false,
     "start_time": "2022-08-27T10:10:26.831735",
     "status": "completed"
    },
    "tags": []
   },
   "outputs": [],
   "source": [
    "#Impoting functions from 'Kudzu'\n",
    "from kudzu.model import Model\n",
    "from kudzu.train import Learner\n",
    "from kudzu.optim import GD\n",
    "from kudzu.data import Data, Sampler,Dataloader\n",
    "\n",
    "from kudzu.callbacks import AccCallback\n",
    "from kudzu.callbacks import ClfCallback\n",
    "\n",
    "from kudzu.loss import MSE\n",
    "\n",
    "from kudzu.layer import Sigmoid,Relu\n",
    "from kudzu.layer import Affine"
   ]
  },
  {
   "cell_type": "markdown",
   "id": "bc01172a",
   "metadata": {
    "papermill": {
     "duration": 0.031858,
     "end_time": "2022-08-27T10:10:26.947637",
     "exception": false,
     "start_time": "2022-08-27T10:10:26.915779",
     "status": "completed"
    },
    "tags": []
   },
   "source": [
    "### Let us create a `Config` class, to store important parameters. \n",
    "This class essentially plays the role of a dictionary."
   ]
  },
  {
   "cell_type": "code",
   "execution_count": 16,
   "id": "978281aa",
   "metadata": {
    "execution": {
     "iopub.execute_input": "2022-08-27T10:10:27.019405Z",
     "iopub.status.busy": "2022-08-27T10:10:27.018735Z",
     "iopub.status.idle": "2022-08-27T10:10:27.033293Z",
     "shell.execute_reply": "2022-08-27T10:10:27.032684Z"
    },
    "papermill": {
     "duration": 0.053122,
     "end_time": "2022-08-27T10:10:27.033427",
     "exception": false,
     "start_time": "2022-08-27T10:10:26.980305",
     "status": "completed"
    },
    "tags": []
   },
   "outputs": [],
   "source": [
    "class Config:\n",
    "    pass\n",
    "config = Config()\n",
    "config.lr = 0.001\n",
    "config.num_epochs = 250\n",
    "config.bs = 50"
   ]
  },
  {
   "cell_type": "markdown",
   "id": "1385fa59",
   "metadata": {
    "papermill": {
     "duration": 0.030649,
     "end_time": "2022-08-27T10:10:27.095988",
     "exception": false,
     "start_time": "2022-08-27T10:10:27.065339",
     "status": "completed"
    },
    "tags": []
   },
   "source": [
    "### Running Models with the Training data\n",
    "Details about the network layers:\n",
    "- A first affine layer has 784 inputs and does 100 affine transforms. These are followed by a Relu\n",
    "- A second affine layer has 100 inputs from the 100 activations of the past layer, and does 100 affine transforms. These are followed by a Relu\n",
    "- A third affine layer has 100 activations and does 2 affine transformations to create an embedding for visualization. There is no non-linearity here.\n",
    "- A final \"logistic regression\" which has an affine transform from 2 inputs to 1 output, which is squeezed through a sigmoid.\n"
   ]
  },
  {
   "cell_type": "code",
   "execution_count": 17,
   "id": "2b9c66db",
   "metadata": {
    "execution": {
     "iopub.execute_input": "2022-08-27T10:10:27.177382Z",
     "iopub.status.busy": "2022-08-27T10:10:27.173491Z",
     "iopub.status.idle": "2022-08-27T10:10:27.180515Z",
     "shell.execute_reply": "2022-08-27T10:10:27.181064Z"
    },
    "papermill": {
     "duration": 0.053652,
     "end_time": "2022-08-27T10:10:27.181197",
     "exception": false,
     "start_time": "2022-08-27T10:10:27.127545",
     "status": "completed"
    },
    "tags": []
   },
   "outputs": [],
   "source": [
    "data = Data(X_train, y_train.reshape(-1,1))\n",
    "sampler = Sampler(data, config.bs, shuffle=True)\n",
    "\n",
    "dl = Dataloader(data, sampler)\n",
    "\n",
    "opt = GD(config.lr)\n",
    "loss = MSE()"
   ]
  },
  {
   "cell_type": "code",
   "execution_count": 18,
   "id": "b275e4c2",
   "metadata": {
    "execution": {
     "iopub.execute_input": "2022-08-27T10:10:27.256808Z",
     "iopub.status.busy": "2022-08-27T10:10:27.249830Z",
     "iopub.status.idle": "2022-08-27T10:10:27.260296Z",
     "shell.execute_reply": "2022-08-27T10:10:27.259784Z"
    },
    "papermill": {
     "duration": 0.047913,
     "end_time": "2022-08-27T10:10:27.260411",
     "exception": false,
     "start_time": "2022-08-27T10:10:27.212498",
     "status": "completed"
    },
    "tags": []
   },
   "outputs": [],
   "source": [
    "training_data_x = X_train\n",
    "testing_data_x = X_test\n",
    "training_data_y = y_train.reshape(-1,1)\n",
    "testing_data_y = y_test.reshape(-1,1)"
   ]
  },
  {
   "cell_type": "code",
   "execution_count": 19,
   "id": "76951160",
   "metadata": {
    "execution": {
     "iopub.execute_input": "2022-08-27T10:10:27.326499Z",
     "iopub.status.busy": "2022-08-27T10:10:27.325807Z",
     "iopub.status.idle": "2022-08-27T10:10:27.341940Z",
     "shell.execute_reply": "2022-08-27T10:10:27.342578Z"
    },
    "papermill": {
     "duration": 0.052336,
     "end_time": "2022-08-27T10:10:27.342707",
     "exception": false,
     "start_time": "2022-08-27T10:10:27.290371",
     "status": "completed"
    },
    "tags": []
   },
   "outputs": [
    {
     "name": "stdout",
     "output_type": "stream",
     "text": [
      "xavier\n",
      "xavier\n",
      "xavier\n",
      "xavier\n",
      "xavier\n"
     ]
    }
   ],
   "source": [
    "layers = [Affine(\"first\", 784, 100), Relu(\"first\"), Affine(\"second\", 100, 100), Relu(\"second\"), Affine(\"third\", 100, 2), Affine(\"last\", 2, 1), Sigmoid(\"last\")]\n",
    "model_nn = Model(layers)\n",
    "model_lr = Model([Affine(\"logits\", 784, 1), Sigmoid(\"sigmoid\")])"
   ]
  },
  {
   "cell_type": "code",
   "execution_count": 20,
   "id": "6eede77a",
   "metadata": {
    "execution": {
     "iopub.execute_input": "2022-08-27T10:10:27.408215Z",
     "iopub.status.busy": "2022-08-27T10:10:27.407475Z",
     "iopub.status.idle": "2022-08-27T10:10:27.418857Z",
     "shell.execute_reply": "2022-08-27T10:10:27.419472Z"
    },
    "papermill": {
     "duration": 0.04659,
     "end_time": "2022-08-27T10:10:27.419597",
     "exception": false,
     "start_time": "2022-08-27T10:10:27.373007",
     "status": "completed"
    },
    "tags": []
   },
   "outputs": [],
   "source": [
    "nn_learner = Learner(loss, model_nn, opt, config.num_epochs)\n",
    "acc_nn = ClfCallback(nn_learner, config.bs, training_data_x , testing_data_x, training_data_y, testing_data_y)\n",
    "nn_learner.set_callbacks([acc_nn])"
   ]
  },
  {
   "cell_type": "code",
   "execution_count": 21,
   "id": "877b6cc7",
   "metadata": {
    "execution": {
     "iopub.execute_input": "2022-08-27T10:10:27.485067Z",
     "iopub.status.busy": "2022-08-27T10:10:27.484369Z",
     "iopub.status.idle": "2022-08-27T10:10:27.496717Z",
     "shell.execute_reply": "2022-08-27T10:10:27.496171Z"
    },
    "papermill": {
     "duration": 0.046468,
     "end_time": "2022-08-27T10:10:27.496829",
     "exception": false,
     "start_time": "2022-08-27T10:10:27.450361",
     "status": "completed"
    },
    "tags": []
   },
   "outputs": [],
   "source": [
    "lr_learner = Learner(loss, model_lr, opt, config.num_epochs)\n",
    "acc_lr = ClfCallback(lr_learner, config.bs, training_data_x , testing_data_x, training_data_y, testing_data_y)\n",
    "lr_learner.set_callbacks([acc_lr])"
   ]
  },
  {
   "cell_type": "code",
   "execution_count": 22,
   "id": "d9b133c3",
   "metadata": {
    "execution": {
     "iopub.execute_input": "2022-08-27T10:10:27.561897Z",
     "iopub.status.busy": "2022-08-27T10:10:27.561147Z",
     "iopub.status.idle": "2022-08-27T10:12:31.122559Z",
     "shell.execute_reply": "2022-08-27T10:12:31.123470Z"
    },
    "papermill": {
     "duration": 123.596268,
     "end_time": "2022-08-27T10:12:31.123626",
     "exception": false,
     "start_time": "2022-08-27T10:10:27.527358",
     "status": "completed"
    },
    "tags": []
   },
   "outputs": [
    {
     "name": "stdout",
     "output_type": "stream",
     "text": [
      "Epoch 0, Loss 0.2381\n",
      "Training Accuracy: 0.6661, Testing Accuracy: 0.6673\n",
      "\n"
     ]
    },
    {
     "name": "stdout",
     "output_type": "stream",
     "text": [
      "Epoch 10, Loss 0.0974\n",
      "Training Accuracy: 0.9171, Testing Accuracy: 0.9259\n",
      "\n"
     ]
    },
    {
     "name": "stdout",
     "output_type": "stream",
     "text": [
      "Epoch 20, Loss 0.0588\n",
      "Training Accuracy: 0.9417, Testing Accuracy: 0.9506\n",
      "\n"
     ]
    },
    {
     "name": "stdout",
     "output_type": "stream",
     "text": [
      "Epoch 30, Loss 0.0455\n",
      "Training Accuracy: 0.9517, Testing Accuracy: 0.9602\n",
      "\n"
     ]
    },
    {
     "name": "stdout",
     "output_type": "stream",
     "text": [
      "Epoch 40, Loss 0.0392\n",
      "Training Accuracy: 0.9564, Testing Accuracy: 0.9652\n",
      "\n"
     ]
    },
    {
     "name": "stdout",
     "output_type": "stream",
     "text": [
      "Epoch 50, Loss 0.0354\n",
      "Training Accuracy: 0.9589, Testing Accuracy: 0.9677\n",
      "\n"
     ]
    },
    {
     "name": "stdout",
     "output_type": "stream",
     "text": [
      "Epoch 60, Loss 0.0328\n",
      "Training Accuracy: 0.9616, Testing Accuracy: 0.9693\n",
      "\n"
     ]
    },
    {
     "name": "stdout",
     "output_type": "stream",
     "text": [
      "Epoch 70, Loss 0.0308\n",
      "Training Accuracy: 0.9639, Testing Accuracy: 0.9713\n",
      "\n"
     ]
    },
    {
     "name": "stdout",
     "output_type": "stream",
     "text": [
      "Epoch 80, Loss 0.0292\n",
      "Training Accuracy: 0.9663, Testing Accuracy: 0.9713\n",
      "\n"
     ]
    },
    {
     "name": "stdout",
     "output_type": "stream",
     "text": [
      "Epoch 90, Loss 0.0279\n",
      "Training Accuracy: 0.9682, Testing Accuracy: 0.9708\n",
      "\n"
     ]
    },
    {
     "name": "stdout",
     "output_type": "stream",
     "text": [
      "Epoch 100, Loss 0.0268\n",
      "Training Accuracy: 0.9696, Testing Accuracy: 0.9713\n",
      "\n"
     ]
    },
    {
     "name": "stdout",
     "output_type": "stream",
     "text": [
      "Epoch 110, Loss 0.0258\n",
      "Training Accuracy: 0.9708, Testing Accuracy: 0.9713\n",
      "\n"
     ]
    },
    {
     "name": "stdout",
     "output_type": "stream",
     "text": [
      "Epoch 120, Loss 0.025\n",
      "Training Accuracy: 0.9720, Testing Accuracy: 0.9718\n",
      "\n"
     ]
    },
    {
     "name": "stdout",
     "output_type": "stream",
     "text": [
      "Epoch 130, Loss 0.0242\n",
      "Training Accuracy: 0.9734, Testing Accuracy: 0.9723\n",
      "\n"
     ]
    },
    {
     "name": "stdout",
     "output_type": "stream",
     "text": [
      "Epoch 140, Loss 0.0235\n",
      "Training Accuracy: 0.9743, Testing Accuracy: 0.9728\n",
      "\n"
     ]
    },
    {
     "name": "stdout",
     "output_type": "stream",
     "text": [
      "Epoch 150, Loss 0.0229\n",
      "Training Accuracy: 0.9755, Testing Accuracy: 0.9733\n",
      "\n"
     ]
    },
    {
     "name": "stdout",
     "output_type": "stream",
     "text": [
      "Epoch 160, Loss 0.0223\n",
      "Training Accuracy: 0.9753, Testing Accuracy: 0.9753\n",
      "\n"
     ]
    },
    {
     "name": "stdout",
     "output_type": "stream",
     "text": [
      "Epoch 170, Loss 0.0218\n",
      "Training Accuracy: 0.9762, Testing Accuracy: 0.9753\n",
      "\n"
     ]
    },
    {
     "name": "stdout",
     "output_type": "stream",
     "text": [
      "Epoch 180, Loss 0.0212\n",
      "Training Accuracy: 0.9765, Testing Accuracy: 0.9748\n",
      "\n"
     ]
    },
    {
     "name": "stdout",
     "output_type": "stream",
     "text": [
      "Epoch 190, Loss 0.0208\n",
      "Training Accuracy: 0.9770, Testing Accuracy: 0.9758\n",
      "\n"
     ]
    },
    {
     "name": "stdout",
     "output_type": "stream",
     "text": [
      "Epoch 200, Loss 0.0203\n",
      "Training Accuracy: 0.9775, Testing Accuracy: 0.9753\n",
      "\n"
     ]
    },
    {
     "name": "stdout",
     "output_type": "stream",
     "text": [
      "Epoch 210, Loss 0.0199\n",
      "Training Accuracy: 0.9778, Testing Accuracy: 0.9753\n",
      "\n"
     ]
    },
    {
     "name": "stdout",
     "output_type": "stream",
     "text": [
      "Epoch 220, Loss 0.0195\n",
      "Training Accuracy: 0.9783, Testing Accuracy: 0.9748\n",
      "\n"
     ]
    },
    {
     "name": "stdout",
     "output_type": "stream",
     "text": [
      "Epoch 230, Loss 0.0191\n",
      "Training Accuracy: 0.9787, Testing Accuracy: 0.9753\n",
      "\n"
     ]
    },
    {
     "name": "stdout",
     "output_type": "stream",
     "text": [
      "Epoch 240, Loss 0.0188\n",
      "Training Accuracy: 0.9791, Testing Accuracy: 0.9748\n",
      "\n"
     ]
    },
    {
     "data": {
      "text/plain": [
       "0.0017270734118920677"
      ]
     },
     "execution_count": 22,
     "metadata": {},
     "output_type": "execute_result"
    }
   ],
   "source": [
    "nn_learner.train_loop(dl)"
   ]
  },
  {
   "cell_type": "code",
   "execution_count": 23,
   "id": "e0163366",
   "metadata": {
    "execution": {
     "iopub.execute_input": "2022-08-27T10:12:31.222557Z",
     "iopub.status.busy": "2022-08-27T10:12:31.221746Z",
     "iopub.status.idle": "2022-08-27T10:12:48.988942Z",
     "shell.execute_reply": "2022-08-27T10:12:48.989839Z"
    },
    "papermill": {
     "duration": 17.822059,
     "end_time": "2022-08-27T10:12:48.989993",
     "exception": false,
     "start_time": "2022-08-27T10:12:31.167934",
     "status": "completed"
    },
    "tags": []
   },
   "outputs": [
    {
     "name": "stdout",
     "output_type": "stream",
     "text": [
      "Epoch 0, Loss 0.212\n",
      "Training Accuracy: 0.7770, Testing Accuracy: 0.7676\n",
      "\n"
     ]
    },
    {
     "name": "stdout",
     "output_type": "stream",
     "text": [
      "Epoch 10, Loss 0.1019\n",
      "Training Accuracy: 0.9080, Testing Accuracy: 0.9168\n",
      "\n"
     ]
    },
    {
     "name": "stdout",
     "output_type": "stream",
     "text": [
      "Epoch 20, Loss 0.0793\n",
      "Training Accuracy: 0.9253, Testing Accuracy: 0.9350\n",
      "\n"
     ]
    },
    {
     "name": "stdout",
     "output_type": "stream",
     "text": [
      "Epoch 30, Loss 0.0686\n",
      "Training Accuracy: 0.9346, Testing Accuracy: 0.9456\n",
      "\n"
     ]
    },
    {
     "name": "stdout",
     "output_type": "stream",
     "text": [
      "Epoch 40, Loss 0.062\n",
      "Training Accuracy: 0.9402, Testing Accuracy: 0.9526\n",
      "\n"
     ]
    },
    {
     "name": "stdout",
     "output_type": "stream",
     "text": [
      "Epoch 50, Loss 0.0576\n",
      "Training Accuracy: 0.9426, Testing Accuracy: 0.9551\n",
      "\n"
     ]
    },
    {
     "name": "stdout",
     "output_type": "stream",
     "text": [
      "Epoch 60, Loss 0.0543\n",
      "Training Accuracy: 0.9458, Testing Accuracy: 0.9577\n",
      "\n"
     ]
    },
    {
     "name": "stdout",
     "output_type": "stream",
     "text": [
      "Epoch 70, Loss 0.0517\n",
      "Training Accuracy: 0.9476, Testing Accuracy: 0.9577\n",
      "\n"
     ]
    },
    {
     "name": "stdout",
     "output_type": "stream",
     "text": [
      "Epoch 80, Loss 0.0496\n",
      "Training Accuracy: 0.9492, Testing Accuracy: 0.9592\n",
      "\n"
     ]
    },
    {
     "name": "stdout",
     "output_type": "stream",
     "text": [
      "Epoch 90, Loss 0.048\n",
      "Training Accuracy: 0.9505, Testing Accuracy: 0.9607\n",
      "\n"
     ]
    },
    {
     "name": "stdout",
     "output_type": "stream",
     "text": [
      "Epoch 100, Loss 0.0465\n",
      "Training Accuracy: 0.9521, Testing Accuracy: 0.9602\n",
      "\n"
     ]
    },
    {
     "name": "stdout",
     "output_type": "stream",
     "text": [
      "Epoch 110, Loss 0.0453\n",
      "Training Accuracy: 0.9531, Testing Accuracy: 0.9607\n",
      "\n"
     ]
    },
    {
     "name": "stdout",
     "output_type": "stream",
     "text": [
      "Epoch 120, Loss 0.0442\n",
      "Training Accuracy: 0.9537, Testing Accuracy: 0.9617\n",
      "\n"
     ]
    },
    {
     "name": "stdout",
     "output_type": "stream",
     "text": [
      "Epoch 130, Loss 0.0433\n",
      "Training Accuracy: 0.9548, Testing Accuracy: 0.9622\n",
      "\n"
     ]
    },
    {
     "name": "stdout",
     "output_type": "stream",
     "text": [
      "Epoch 140, Loss 0.0425\n",
      "Training Accuracy: 0.9558, Testing Accuracy: 0.9627\n",
      "\n"
     ]
    },
    {
     "name": "stdout",
     "output_type": "stream",
     "text": [
      "Epoch 150, Loss 0.0417\n",
      "Training Accuracy: 0.9561, Testing Accuracy: 0.9632\n",
      "\n"
     ]
    },
    {
     "name": "stdout",
     "output_type": "stream",
     "text": [
      "Epoch 160, Loss 0.041\n",
      "Training Accuracy: 0.9566, Testing Accuracy: 0.9647\n",
      "\n"
     ]
    },
    {
     "name": "stdout",
     "output_type": "stream",
     "text": [
      "Epoch 170, Loss 0.0404\n",
      "Training Accuracy: 0.9578, Testing Accuracy: 0.9647\n",
      "\n"
     ]
    },
    {
     "name": "stdout",
     "output_type": "stream",
     "text": [
      "Epoch 180, Loss 0.0398\n",
      "Training Accuracy: 0.9585, Testing Accuracy: 0.9647\n",
      "\n"
     ]
    },
    {
     "name": "stdout",
     "output_type": "stream",
     "text": [
      "Epoch 190, Loss 0.0393\n",
      "Training Accuracy: 0.9591, Testing Accuracy: 0.9662\n",
      "\n"
     ]
    },
    {
     "name": "stdout",
     "output_type": "stream",
     "text": [
      "Epoch 200, Loss 0.0388\n",
      "Training Accuracy: 0.9595, Testing Accuracy: 0.9662\n",
      "\n"
     ]
    },
    {
     "name": "stdout",
     "output_type": "stream",
     "text": [
      "Epoch 210, Loss 0.0384\n",
      "Training Accuracy: 0.9599, Testing Accuracy: 0.9667\n",
      "\n"
     ]
    },
    {
     "name": "stdout",
     "output_type": "stream",
     "text": [
      "Epoch 220, Loss 0.0379\n",
      "Training Accuracy: 0.9603, Testing Accuracy: 0.9667\n",
      "\n"
     ]
    },
    {
     "name": "stdout",
     "output_type": "stream",
     "text": [
      "Epoch 230, Loss 0.0376\n",
      "Training Accuracy: 0.9606, Testing Accuracy: 0.9667\n",
      "\n"
     ]
    },
    {
     "name": "stdout",
     "output_type": "stream",
     "text": [
      "Epoch 240, Loss 0.0372\n",
      "Training Accuracy: 0.9610, Testing Accuracy: 0.9672\n",
      "\n"
     ]
    },
    {
     "data": {
      "text/plain": [
       "0.02238152390750849"
      ]
     },
     "execution_count": 23,
     "metadata": {},
     "output_type": "execute_result"
    }
   ],
   "source": [
    "lr_learner.train_loop(dl)"
   ]
  },
  {
   "cell_type": "code",
   "execution_count": 24,
   "id": "ca410940",
   "metadata": {
    "execution": {
     "iopub.execute_input": "2022-08-27T10:12:49.097010Z",
     "iopub.status.busy": "2022-08-27T10:12:49.096299Z",
     "iopub.status.idle": "2022-08-27T10:12:49.368138Z",
     "shell.execute_reply": "2022-08-27T10:12:49.368731Z"
    },
    "papermill": {
     "duration": 0.329369,
     "end_time": "2022-08-27T10:12:49.368919",
     "exception": false,
     "start_time": "2022-08-27T10:12:49.039550",
     "status": "completed"
    },
    "tags": []
   },
   "outputs": [
    {
     "data": {
      "text/plain": [
       "<matplotlib.legend.Legend at 0x7f0fe9c36f28>"
      ]
     },
     "execution_count": 24,
     "metadata": {},
     "output_type": "execute_result"
    },
    {
     "data": {
      "image/png": "[encoded data removed]",
      "text/plain": [
       "<Figure size 1080x720 with 1 Axes>"
      ]
     },
     "metadata": {
      "needs_background": "light"
     },
     "output_type": "display_data"
    }
   ],
   "source": [
    "#comparing the results of NN and LR\n",
    "plt.figure(figsize=(15,10))\n",
    "\n",
    "# Neural Network plots\n",
    "plt.plot(acc_nn.accuracies, 'r-', label = \"Training Accuracies - NN\")\n",
    "plt.plot(acc_nn.test_accuracies, 'g-', label = \"Testing Accuracies - NN\")\n",
    "\n",
    "# Logistic Regression plots\n",
    "plt.plot(acc_lr.accuracies, 'k-', label = \"Training Accuracies - LR\")\n",
    "plt.plot(acc_lr.test_accuracies, 'b-', label = \"Testing Accuracies - LR\")\n",
    "plt.legend()"
   ]
  },
  {
   "cell_type": "markdown",
   "id": "80dfb35c",
   "metadata": {
    "papermill": {
     "duration": 0.048841,
     "end_time": "2022-08-27T10:12:49.467384",
     "exception": false,
     "start_time": "2022-08-27T10:12:49.418543",
     "status": "completed"
    },
    "tags": []
   },
   "source": [
    "#### Plotting the outputs of this layer of the NN.\n"
   ]
  },
  {
   "cell_type": "code",
   "execution_count": 25,
   "id": "45eb2ff5",
   "metadata": {
    "execution": {
     "iopub.execute_input": "2022-08-27T10:12:49.567058Z",
     "iopub.status.busy": "2022-08-27T10:12:49.566280Z",
     "iopub.status.idle": "2022-08-27T10:12:49.591857Z",
     "shell.execute_reply": "2022-08-27T10:12:49.592791Z"
    },
    "papermill": {
     "duration": 0.078881,
     "end_time": "2022-08-27T10:12:49.592981",
     "exception": false,
     "start_time": "2022-08-27T10:12:49.514100",
     "status": "completed"
    },
    "tags": []
   },
   "outputs": [],
   "source": [
    "new_model = Model(layers[:-2])\n",
    "testing_plot = new_model(testing_data_x)"
   ]
  },
  {
   "cell_type": "code",
   "execution_count": 26,
   "id": "4c0a5485",
   "metadata": {
    "execution": {
     "iopub.execute_input": "2022-08-27T10:12:49.701291Z",
     "iopub.status.busy": "2022-08-27T10:12:49.700590Z",
     "iopub.status.idle": "2022-08-27T10:12:49.968546Z",
     "shell.execute_reply": "2022-08-27T10:12:49.967867Z"
    },
    "papermill": {
     "duration": 0.32712,
     "end_time": "2022-08-27T10:12:49.968693",
     "exception": false,
     "start_time": "2022-08-27T10:12:49.641573",
     "status": "completed"
    },
    "tags": []
   },
   "outputs": [
    {
     "data": {
      "text/plain": [
       "Text(0.5, 1.0, 'Outputs')"
      ]
     },
     "execution_count": 26,
     "metadata": {},
     "output_type": "execute_result"
    },
    {
     "data": {
      "image/png": "[encoded data removed]",
      "text/plain": [
       "<Figure size 576x504 with 1 Axes>"
      ]
     },
     "metadata": {
      "needs_background": "light"
     },
     "output_type": "display_data"
    }
   ],
   "source": [
    "# Plotting the scatter plot of points and color coding by class\n",
    "plt.figure(figsize=(8,7))\n",
    "plt.scatter(testing_plot[:,0], testing_plot[:,1], alpha = 0.1, c = y_test.ravel());\n",
    "plt.title('Outputs')"
   ]
  },
  {
   "cell_type": "markdown",
   "id": "a74fcf8f",
   "metadata": {
    "papermill": {
     "duration": 0.061073,
     "end_time": "2022-08-27T10:12:50.085451",
     "exception": false,
     "start_time": "2022-08-27T10:12:50.024378",
     "status": "completed"
    },
    "tags": []
   },
   "source": [
    "Probability contours"
   ]
  },
  {
   "cell_type": "code",
   "execution_count": 27,
   "id": "d0afc8e3",
   "metadata": {
    "execution": {
     "iopub.execute_input": "2022-08-27T10:12:50.205550Z",
     "iopub.status.busy": "2022-08-27T10:12:50.204388Z",
     "iopub.status.idle": "2022-08-27T10:12:50.217243Z",
     "shell.execute_reply": "2022-08-27T10:12:50.217945Z"
    },
    "papermill": {
     "duration": 0.078734,
     "end_time": "2022-08-27T10:12:50.218098",
     "exception": false,
     "start_time": "2022-08-27T10:12:50.139364",
     "status": "completed"
    },
    "tags": []
   },
   "outputs": [],
   "source": [
    "model_prob = Model(layers[-2:]) "
   ]
  },
  {
   "cell_type": "code",
   "execution_count": 28,
   "id": "9b96e238",
   "metadata": {
    "execution": {
     "iopub.execute_input": "2022-08-27T10:12:50.384715Z",
     "iopub.status.busy": "2022-08-27T10:12:50.383965Z",
     "iopub.status.idle": "2022-08-27T10:12:50.397143Z",
     "shell.execute_reply": "2022-08-27T10:12:50.397704Z"
    },
    "papermill": {
     "duration": 0.080512,
     "end_time": "2022-08-27T10:12:50.397870",
     "exception": false,
     "start_time": "2022-08-27T10:12:50.317358",
     "status": "completed"
    },
    "tags": []
   },
   "outputs": [],
   "source": [
    "#creating the x and y ranges according to the above generated plot.\n",
    "x_range = np.linspace(-4, 1, 100) \n",
    "y_range = np.linspace(-6, 6, 100) \n",
    "x_grid, y_grid = np.meshgrid(x_range, y_range) # x_grid and y_grig are of size 100 X 100\n",
    "\n",
    "# converting x_grid and y_grid to continuous arrays\n",
    "x_gridflat = np.ravel(x_grid)\n",
    "y_gridflat = np.ravel(y_grid)\n",
    "\n",
    "# The last layer of the current model takes two columns as input. Hence transpose of np.vstack() is required.\n",
    "X = np.vstack((x_gridflat, y_gridflat)).T\n",
    "\n",
    "prob_contour = model_prob(X).reshape(100,100) "
   ]
  },
  {
   "cell_type": "code",
   "execution_count": 29,
   "id": "da72499a",
   "metadata": {
    "execution": {
     "iopub.execute_input": "2022-08-27T10:12:50.521816Z",
     "iopub.status.busy": "2022-08-27T10:12:50.521076Z",
     "iopub.status.idle": "2022-08-27T10:12:50.828068Z",
     "shell.execute_reply": "2022-08-27T10:12:50.828659Z"
    },
    "papermill": {
     "duration": 0.374579,
     "end_time": "2022-08-27T10:12:50.828817",
     "exception": false,
     "start_time": "2022-08-27T10:12:50.454238",
     "status": "completed"
    },
    "tags": []
   },
   "outputs": [
    {
     "data": {
      "image/png": "[encoded data removed]",
      "text/plain": [
       "<Figure size 720x648 with 1 Axes>"
      ]
     },
     "metadata": {
      "needs_background": "light"
     },
     "output_type": "display_data"
    }
   ],
   "source": [
    "plt.figure(figsize=(10,9))\n",
    "plt.scatter(testing_plot[:,0], testing_plot[:,1], alpha = 0.1, c = y_test.ravel())\n",
    "contours = plt.contour(x_grid,y_grid,prob_contour)\n",
    "plt.title('Probability Contours')\n",
    "plt.clabel(contours, inline = True );"
   ]
  },
  {
   "cell_type": "code",
   "execution_count": null,
   "id": "e81b4ac7",
   "metadata": {
    "papermill": {
     "duration": 0.053815,
     "end_time": "2022-08-27T10:12:50.939741",
     "exception": false,
     "start_time": "2022-08-27T10:12:50.885926",
     "status": "completed"
    },
    "tags": []
   },
   "outputs": [],
   "source": []
  }
 ],
 "metadata": {
  "kernelspec": {
   "display_name": "Python 3",
   "language": "python",
   "name": "python3"
  },
  "language_info": {
   "codemirror_mode": {
    "name": "ipython",
    "version": 3
   },
   "file_extension": ".py",
   "mimetype": "text/x-python",
   "name": "python",
   "nbconvert_exporter": "python",
   "pygments_lexer": "ipython3",
   "version": "3.6.15"
  },
  "papermill": {
   "default_parameters": {},
   "duration": 150.743252,
   "end_time": "2022-08-27T10:12:51.422255",
   "environment_variables": {},
   "exception": null,
   "input_path": "2020-08-11-part2.ipynb",
   "output_path": "2020-08-11-part2.ipynb",
   "parameters": {},
   "start_time": "2022-08-27T10:10:20.679003",
   "version": "2.3.3"
  }
 },
 "nbformat": 4,
 "nbformat_minor": 5
}