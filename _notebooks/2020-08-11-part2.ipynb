{
 "cells": [
  {
   "cell_type": "markdown",
   "id": "98380cd3",
   "metadata": {
    "papermill": {
     "duration": 0.030615,
     "end_time": "2022-09-29T00:59:39.419563",
     "exception": false,
     "start_time": "2022-09-29T00:59:39.388948",
     "status": "completed"
    },
    "tags": []
   },
   "source": [
    "# Distinguish Your Own Digits (DYOD)"
   ]
  },
  {
   "cell_type": "markdown",
   "id": "ef31240d",
   "metadata": {
    "papermill": {
     "duration": 0.023438,
     "end_time": "2022-09-29T00:59:39.467263",
     "exception": false,
     "start_time": "2022-09-29T00:59:39.443825",
     "status": "completed"
    },
    "tags": []
   },
   "source": [
    "You are going to write a classifier that distinguishes between the number 3 and number 8."
   ]
  },
  {
   "cell_type": "code",
   "execution_count": 1,
   "id": "b15c8646",
   "metadata": {
    "execution": {
     "iopub.execute_input": "2022-09-29T00:59:39.525168Z",
     "iopub.status.busy": "2022-09-29T00:59:39.524564Z",
     "iopub.status.idle": "2022-09-29T00:59:39.535079Z",
     "shell.execute_reply": "2022-09-29T00:59:39.535561Z"
    },
    "papermill": {
     "duration": 0.044988,
     "end_time": "2022-09-29T00:59:39.535714",
     "exception": false,
     "start_time": "2022-09-29T00:59:39.490726",
     "status": "completed"
    },
    "tags": []
   },
   "outputs": [],
   "source": [
    "%load_ext autoreload\n",
    "%autoreload 2"
   ]
  },
  {
   "cell_type": "code",
   "execution_count": 2,
   "id": "22ef38dc",
   "metadata": {
    "execution": {
     "iopub.execute_input": "2022-09-29T00:59:39.586508Z",
     "iopub.status.busy": "2022-09-29T00:59:39.585878Z",
     "iopub.status.idle": "2022-09-29T00:59:40.122328Z",
     "shell.execute_reply": "2022-09-29T00:59:40.122896Z"
    },
    "papermill": {
     "duration": 0.563852,
     "end_time": "2022-09-29T00:59:40.123070",
     "exception": false,
     "start_time": "2022-09-29T00:59:39.559218",
     "status": "completed"
    },
    "tags": []
   },
   "outputs": [],
   "source": [
    "%matplotlib inline\n",
    "import numpy as np\n",
    "import matplotlib.pyplot as plt\n",
    "import pandas as pd"
   ]
  },
  {
   "cell_type": "markdown",
   "id": "ba036198",
   "metadata": {
    "papermill": {
     "duration": 0.0235,
     "end_time": "2022-09-29T00:59:40.171332",
     "exception": false,
     "start_time": "2022-09-29T00:59:40.147832",
     "status": "completed"
    },
    "tags": []
   },
   "source": [
    "From the command line run `pip install mnist`. This is a library that will help you bring down the mnist dataset. If you run this from a notebook, you need to put  `!pip install mnist` in a cell by itself."
   ]
  },
  {
   "cell_type": "code",
   "execution_count": 3,
   "id": "bb6ad8a1",
   "metadata": {
    "execution": {
     "iopub.execute_input": "2022-09-29T00:59:40.235748Z",
     "iopub.status.busy": "2022-09-29T00:59:40.235131Z",
     "iopub.status.idle": "2022-09-29T00:59:41.900153Z",
     "shell.execute_reply": "2022-09-29T00:59:41.900646Z"
    },
    "papermill": {
     "duration": 1.705958,
     "end_time": "2022-09-29T00:59:41.900793",
     "exception": false,
     "start_time": "2022-09-29T00:59:40.194835",
     "status": "completed"
    },
    "tags": []
   },
   "outputs": [
    {
     "name": "stdout",
     "output_type": "stream",
     "text": [
      "Collecting mnist\r\n"
     ]
    },
    {
     "name": "stdout",
     "output_type": "stream",
     "text": [
      "  Downloading mnist-0.2.2-py2.py3-none-any.whl (3.5 kB)\r\n",
      "Requirement already satisfied: numpy in /opt/hostedtoolcache/Python/3.6.15/x64/lib/python3.6/site-packages (from mnist) (1.19.5)\r\n"
     ]
    },
    {
     "name": "stdout",
     "output_type": "stream",
     "text": [
      "Installing collected packages: mnist\r\n",
      "Successfully installed mnist-0.2.2\r\n"
     ]
    }
   ],
   "source": [
    "!pip install mnist"
   ]
  },
  {
   "cell_type": "markdown",
   "id": "69df9c9a",
   "metadata": {
    "papermill": {
     "duration": 0.024249,
     "end_time": "2022-09-29T00:59:41.950061",
     "exception": false,
     "start_time": "2022-09-29T00:59:41.925812",
     "status": "completed"
    },
    "tags": []
   },
   "source": [
    "## Preparing the Data"
   ]
  },
  {
   "cell_type": "code",
   "execution_count": 4,
   "id": "7f69d806",
   "metadata": {
    "execution": {
     "iopub.execute_input": "2022-09-29T00:59:42.015740Z",
     "iopub.status.busy": "2022-09-29T00:59:42.013751Z",
     "iopub.status.idle": "2022-09-29T00:59:42.021628Z",
     "shell.execute_reply": "2022-09-29T00:59:42.022083Z"
    },
    "papermill": {
     "duration": 0.047975,
     "end_time": "2022-09-29T00:59:42.022243",
     "exception": false,
     "start_time": "2022-09-29T00:59:41.974268",
     "status": "completed"
    },
    "tags": []
   },
   "outputs": [],
   "source": [
    "import mnist"
   ]
  },
  {
   "cell_type": "code",
   "execution_count": 5,
   "id": "a411e44f",
   "metadata": {
    "execution": {
     "iopub.execute_input": "2022-09-29T00:59:42.075708Z",
     "iopub.status.busy": "2022-09-29T00:59:42.074601Z",
     "iopub.status.idle": "2022-09-29T00:59:42.819717Z",
     "shell.execute_reply": "2022-09-29T00:59:42.819128Z"
    },
    "papermill": {
     "duration": 0.77315,
     "end_time": "2022-09-29T00:59:42.819859",
     "exception": false,
     "start_time": "2022-09-29T00:59:42.046709",
     "status": "completed"
    },
    "tags": []
   },
   "outputs": [],
   "source": [
    "train_images = mnist.train_images()\n",
    "train_labels = mnist.train_labels()"
   ]
  },
  {
   "cell_type": "code",
   "execution_count": 6,
   "id": "dceab3a5",
   "metadata": {
    "execution": {
     "iopub.execute_input": "2022-09-29T00:59:42.882367Z",
     "iopub.status.busy": "2022-09-29T00:59:42.881738Z",
     "iopub.status.idle": "2022-09-29T00:59:42.891816Z",
     "shell.execute_reply": "2022-09-29T00:59:42.891238Z"
    },
    "papermill": {
     "duration": 0.046803,
     "end_time": "2022-09-29T00:59:42.891929",
     "exception": false,
     "start_time": "2022-09-29T00:59:42.845126",
     "status": "completed"
    },
    "tags": []
   },
   "outputs": [
    {
     "data": {
      "text/plain": [
       "((60000, 28, 28), (60000,))"
      ]
     },
     "execution_count": 6,
     "metadata": {},
     "output_type": "execute_result"
    }
   ],
   "source": [
    "train_images.shape, train_labels.shape"
   ]
  },
  {
   "cell_type": "code",
   "execution_count": 7,
   "id": "f50dc2bb",
   "metadata": {
    "execution": {
     "iopub.execute_input": "2022-09-29T00:59:42.958806Z",
     "iopub.status.busy": "2022-09-29T00:59:42.955032Z",
     "iopub.status.idle": "2022-09-29T00:59:43.171086Z",
     "shell.execute_reply": "2022-09-29T00:59:43.170474Z"
    },
    "papermill": {
     "duration": 0.254588,
     "end_time": "2022-09-29T00:59:43.171223",
     "exception": false,
     "start_time": "2022-09-29T00:59:42.916635",
     "status": "completed"
    },
    "tags": []
   },
   "outputs": [],
   "source": [
    "test_images = mnist.test_images()\n",
    "test_labels = mnist.test_labels()"
   ]
  },
  {
   "cell_type": "code",
   "execution_count": 8,
   "id": "fc38cf1b",
   "metadata": {
    "execution": {
     "iopub.execute_input": "2022-09-29T00:59:43.239464Z",
     "iopub.status.busy": "2022-09-29T00:59:43.235215Z",
     "iopub.status.idle": "2022-09-29T00:59:43.242708Z",
     "shell.execute_reply": "2022-09-29T00:59:43.243131Z"
    },
    "papermill": {
     "duration": 0.046063,
     "end_time": "2022-09-29T00:59:43.243272",
     "exception": false,
     "start_time": "2022-09-29T00:59:43.197209",
     "status": "completed"
    },
    "tags": []
   },
   "outputs": [
    {
     "data": {
      "text/plain": [
       "((10000, 28, 28), (10000,))"
      ]
     },
     "execution_count": 8,
     "metadata": {},
     "output_type": "execute_result"
    }
   ],
   "source": [
    "test_images.shape, test_labels.shape"
   ]
  },
  {
   "cell_type": "code",
   "execution_count": 9,
   "id": "f9ed8fe0",
   "metadata": {
    "execution": {
     "iopub.execute_input": "2022-09-29T00:59:43.297718Z",
     "iopub.status.busy": "2022-09-29T00:59:43.297125Z",
     "iopub.status.idle": "2022-09-29T00:59:43.436748Z",
     "shell.execute_reply": "2022-09-29T00:59:43.437216Z"
    },
    "papermill": {
     "duration": 0.168988,
     "end_time": "2022-09-29T00:59:43.437367",
     "exception": false,
     "start_time": "2022-09-29T00:59:43.268379",
     "status": "completed"
    },
    "tags": []
   },
   "outputs": [
    {
     "name": "stdout",
     "output_type": "stream",
     "text": [
      "2\n"
     ]
    },
    {
     "data": {
      "text/plain": [
       "<matplotlib.image.AxesImage at 0x7fec7d158198>"
      ]
     },
     "execution_count": 9,
     "metadata": {},
     "output_type": "execute_result"
    },
    {
     "data": {
      "image/png": "[encoded data removed]",
      "text/plain": [
       "<Figure size 432x288 with 1 Axes>"
      ]
     },
     "metadata": {
      "needs_background": "light"
     },
     "output_type": "display_data"
    }
   ],
   "source": [
    "image_index = 7776 # You may select anything up to 60,000\n",
    "print(train_labels[image_index]) \n",
    "plt.imshow(train_images[image_index], cmap='Greys')"
   ]
  },
  {
   "cell_type": "markdown",
   "id": "a8d2388d",
   "metadata": {
    "papermill": {
     "duration": 0.026645,
     "end_time": "2022-09-29T00:59:43.490821",
     "exception": false,
     "start_time": "2022-09-29T00:59:43.464176",
     "status": "completed"
    },
    "tags": []
   },
   "source": [
    "## Filter data to get 3 and 8 out"
   ]
  },
  {
   "cell_type": "code",
   "execution_count": 10,
   "id": "776f7fc7",
   "metadata": {
    "execution": {
     "iopub.execute_input": "2022-09-29T00:59:43.564269Z",
     "iopub.status.busy": "2022-09-29T00:59:43.563617Z",
     "iopub.status.idle": "2022-09-29T00:59:43.572534Z",
     "shell.execute_reply": "2022-09-29T00:59:43.572058Z"
    },
    "papermill": {
     "duration": 0.055736,
     "end_time": "2022-09-29T00:59:43.572658",
     "exception": false,
     "start_time": "2022-09-29T00:59:43.516922",
     "status": "completed"
    },
    "tags": []
   },
   "outputs": [],
   "source": [
    "train_filter = np.where((train_labels == 3 ) | (train_labels == 8))\n",
    "test_filter = np.where((test_labels == 3) | (test_labels == 8))\n",
    "X_train, y_train = train_images[train_filter], train_labels[train_filter]\n",
    "X_test, y_test = test_images[test_filter], test_labels[test_filter]"
   ]
  },
  {
   "cell_type": "markdown",
   "id": "948f0b7e",
   "metadata": {
    "papermill": {
     "duration": 0.026496,
     "end_time": "2022-09-29T00:59:43.625677",
     "exception": false,
     "start_time": "2022-09-29T00:59:43.599181",
     "status": "completed"
    },
    "tags": []
   },
   "source": [
    "We normalize the pizel values in the 0 to 1 range"
   ]
  },
  {
   "cell_type": "code",
   "execution_count": 11,
   "id": "ee4c2166",
   "metadata": {
    "execution": {
     "iopub.execute_input": "2022-09-29T00:59:43.692155Z",
     "iopub.status.busy": "2022-09-29T00:59:43.691505Z",
     "iopub.status.idle": "2022-09-29T00:59:43.733897Z",
     "shell.execute_reply": "2022-09-29T00:59:43.733319Z"
    },
    "papermill": {
     "duration": 0.082257,
     "end_time": "2022-09-29T00:59:43.734032",
     "exception": false,
     "start_time": "2022-09-29T00:59:43.651775",
     "status": "completed"
    },
    "tags": []
   },
   "outputs": [],
   "source": [
    "X_train = X_train/255.\n",
    "X_test = X_test/255."
   ]
  },
  {
   "cell_type": "markdown",
   "id": "ddcf4fab",
   "metadata": {
    "papermill": {
     "duration": 0.026562,
     "end_time": "2022-09-29T00:59:43.787524",
     "exception": false,
     "start_time": "2022-09-29T00:59:43.760962",
     "status": "completed"
    },
    "tags": []
   },
   "source": [
    "And setup the labels as 1 (when the digit is 3) and 0 (when the digit is 8)"
   ]
  },
  {
   "cell_type": "code",
   "execution_count": 12,
   "id": "7dc908f2",
   "metadata": {
    "execution": {
     "iopub.execute_input": "2022-09-29T00:59:43.857320Z",
     "iopub.status.busy": "2022-09-29T00:59:43.856679Z",
     "iopub.status.idle": "2022-09-29T00:59:43.859443Z",
     "shell.execute_reply": "2022-09-29T00:59:43.858956Z"
    },
    "papermill": {
     "duration": 0.045908,
     "end_time": "2022-09-29T00:59:43.859563",
     "exception": false,
     "start_time": "2022-09-29T00:59:43.813655",
     "status": "completed"
    },
    "tags": []
   },
   "outputs": [],
   "source": [
    "y_train = 1*(y_train==3)\n",
    "y_test = 1*(y_test==3)"
   ]
  },
  {
   "cell_type": "code",
   "execution_count": 13,
   "id": "01e4e969",
   "metadata": {
    "execution": {
     "iopub.execute_input": "2022-09-29T00:59:43.929444Z",
     "iopub.status.busy": "2022-09-29T00:59:43.928802Z",
     "iopub.status.idle": "2022-09-29T00:59:43.933960Z",
     "shell.execute_reply": "2022-09-29T00:59:43.933480Z"
    },
    "papermill": {
     "duration": 0.048112,
     "end_time": "2022-09-29T00:59:43.934078",
     "exception": false,
     "start_time": "2022-09-29T00:59:43.885966",
     "status": "completed"
    },
    "tags": []
   },
   "outputs": [
    {
     "data": {
      "text/plain": [
       "((11982, 28, 28), (1984, 28, 28))"
      ]
     },
     "execution_count": 13,
     "metadata": {},
     "output_type": "execute_result"
    }
   ],
   "source": [
    "X_train.shape, X_test.shape"
   ]
  },
  {
   "cell_type": "markdown",
   "id": "5ccf3f85",
   "metadata": {
    "papermill": {
     "duration": 0.026833,
     "end_time": "2022-09-29T00:59:43.987472",
     "exception": false,
     "start_time": "2022-09-29T00:59:43.960639",
     "status": "completed"
    },
    "tags": []
   },
   "source": [
    "We reshape the data to flatten the image pixels into a set of features or co-variates:"
   ]
  },
  {
   "cell_type": "code",
   "execution_count": 14,
   "id": "5286a4a3",
   "metadata": {
    "execution": {
     "iopub.execute_input": "2022-09-29T00:59:44.055226Z",
     "iopub.status.busy": "2022-09-29T00:59:44.052380Z",
     "iopub.status.idle": "2022-09-29T00:59:44.061802Z",
     "shell.execute_reply": "2022-09-29T00:59:44.062253Z"
    },
    "papermill": {
     "duration": 0.048263,
     "end_time": "2022-09-29T00:59:44.062399",
     "exception": false,
     "start_time": "2022-09-29T00:59:44.014136",
     "status": "completed"
    },
    "tags": []
   },
   "outputs": [
    {
     "data": {
      "text/plain": [
       "((11982, 784), (1984, 784))"
      ]
     },
     "execution_count": 14,
     "metadata": {},
     "output_type": "execute_result"
    }
   ],
   "source": [
    "X_train = X_train.reshape(X_train.shape[0], -1)\n",
    "X_test = X_test.reshape(X_test.shape[0], -1)\n",
    "X_train.shape, X_test.shape"
   ]
  },
  {
   "cell_type": "code",
   "execution_count": 15,
   "id": "73c5f88a",
   "metadata": {
    "execution": {
     "iopub.execute_input": "2022-09-29T00:59:44.133841Z",
     "iopub.status.busy": "2022-09-29T00:59:44.127150Z",
     "iopub.status.idle": "2022-09-29T00:59:44.143903Z",
     "shell.execute_reply": "2022-09-29T00:59:44.143431Z"
    },
    "papermill": {
     "duration": 0.054941,
     "end_time": "2022-09-29T00:59:44.144024",
     "exception": false,
     "start_time": "2022-09-29T00:59:44.089083",
     "status": "completed"
    },
    "tags": []
   },
   "outputs": [],
   "source": [
    "#Impoting functions from 'Kudzu'\n",
    "from kudzu.model import Model\n",
    "from kudzu.train import Learner\n",
    "from kudzu.optim import GD\n",
    "from kudzu.data import Data, Sampler,Dataloader\n",
    "\n",
    "from kudzu.callbacks import AccCallback\n",
    "from kudzu.callbacks import ClfCallback\n",
    "\n",
    "from kudzu.loss import MSE\n",
    "\n",
    "from kudzu.layer import Sigmoid,Relu\n",
    "from kudzu.layer import Affine"
   ]
  },
  {
   "cell_type": "markdown",
   "id": "bc01172a",
   "metadata": {
    "papermill": {
     "duration": 0.027973,
     "end_time": "2022-09-29T00:59:44.198876",
     "exception": false,
     "start_time": "2022-09-29T00:59:44.170903",
     "status": "completed"
    },
    "tags": []
   },
   "source": [
    "### Let us create a `Config` class, to store important parameters. \n",
    "This class essentially plays the role of a dictionary."
   ]
  },
  {
   "cell_type": "code",
   "execution_count": 16,
   "id": "978281aa",
   "metadata": {
    "execution": {
     "iopub.execute_input": "2022-09-29T00:59:44.257560Z",
     "iopub.status.busy": "2022-09-29T00:59:44.256963Z",
     "iopub.status.idle": "2022-09-29T00:59:44.269333Z",
     "shell.execute_reply": "2022-09-29T00:59:44.269787Z"
    },
    "papermill": {
     "duration": 0.043398,
     "end_time": "2022-09-29T00:59:44.269921",
     "exception": false,
     "start_time": "2022-09-29T00:59:44.226523",
     "status": "completed"
    },
    "tags": []
   },
   "outputs": [],
   "source": [
    "class Config:\n",
    "    pass\n",
    "config = Config()\n",
    "config.lr = 0.001\n",
    "config.num_epochs = 250\n",
    "config.bs = 50"
   ]
  },
  {
   "cell_type": "markdown",
   "id": "1385fa59",
   "metadata": {
    "papermill": {
     "duration": 0.026612,
     "end_time": "2022-09-29T00:59:44.323214",
     "exception": false,
     "start_time": "2022-09-29T00:59:44.296602",
     "status": "completed"
    },
    "tags": []
   },
   "source": [
    "### Running Models with the Training data\n",
    "Details about the network layers:\n",
    "- A first affine layer has 784 inputs and does 100 affine transforms. These are followed by a Relu\n",
    "- A second affine layer has 100 inputs from the 100 activations of the past layer, and does 100 affine transforms. These are followed by a Relu\n",
    "- A third affine layer has 100 activations and does 2 affine transformations to create an embedding for visualization. There is no non-linearity here.\n",
    "- A final \"logistic regression\" which has an affine transform from 2 inputs to 1 output, which is squeezed through a sigmoid.\n"
   ]
  },
  {
   "cell_type": "code",
   "execution_count": 17,
   "id": "2b9c66db",
   "metadata": {
    "execution": {
     "iopub.execute_input": "2022-09-29T00:59:44.394855Z",
     "iopub.status.busy": "2022-09-29T00:59:44.391211Z",
     "iopub.status.idle": "2022-09-29T00:59:44.397132Z",
     "shell.execute_reply": "2022-09-29T00:59:44.397558Z"
    },
    "papermill": {
     "duration": 0.047816,
     "end_time": "2022-09-29T00:59:44.397700",
     "exception": false,
     "start_time": "2022-09-29T00:59:44.349884",
     "status": "completed"
    },
    "tags": []
   },
   "outputs": [],
   "source": [
    "data = Data(X_train, y_train.reshape(-1,1))\n",
    "sampler = Sampler(data, config.bs, shuffle=True)\n",
    "\n",
    "dl = Dataloader(data, sampler)\n",
    "\n",
    "opt = GD(config.lr)\n",
    "loss = MSE()"
   ]
  },
  {
   "cell_type": "code",
   "execution_count": 18,
   "id": "b275e4c2",
   "metadata": {
    "execution": {
     "iopub.execute_input": "2022-09-29T00:59:44.459654Z",
     "iopub.status.busy": "2022-09-29T00:59:44.459060Z",
     "iopub.status.idle": "2022-09-29T00:59:44.469733Z",
     "shell.execute_reply": "2022-09-29T00:59:44.470209Z"
    },
    "papermill": {
     "duration": 0.045484,
     "end_time": "2022-09-29T00:59:44.470350",
     "exception": false,
     "start_time": "2022-09-29T00:59:44.424866",
     "status": "completed"
    },
    "tags": []
   },
   "outputs": [],
   "source": [
    "training_data_x = X_train\n",
    "testing_data_x = X_test\n",
    "training_data_y = y_train.reshape(-1,1)\n",
    "testing_data_y = y_test.reshape(-1,1)"
   ]
  },
  {
   "cell_type": "code",
   "execution_count": 19,
   "id": "76951160",
   "metadata": {
    "execution": {
     "iopub.execute_input": "2022-09-29T00:59:44.531767Z",
     "iopub.status.busy": "2022-09-29T00:59:44.531159Z",
     "iopub.status.idle": "2022-09-29T00:59:44.546326Z",
     "shell.execute_reply": "2022-09-29T00:59:44.546811Z"
    },
    "papermill": {
     "duration": 0.049957,
     "end_time": "2022-09-29T00:59:44.546952",
     "exception": false,
     "start_time": "2022-09-29T00:59:44.496995",
     "status": "completed"
    },
    "tags": []
   },
   "outputs": [
    {
     "name": "stdout",
     "output_type": "stream",
     "text": [
      "xavier\n",
      "xavier\n",
      "xavier\n",
      "xavier\n",
      "xavier\n"
     ]
    }
   ],
   "source": [
    "layers = [Affine(\"first\", 784, 100), Relu(\"first\"), Affine(\"second\", 100, 100), Relu(\"second\"), Affine(\"third\", 100, 2), Affine(\"last\", 2, 1), Sigmoid(\"last\")]\n",
    "model_nn = Model(layers)\n",
    "model_lr = Model([Affine(\"logits\", 784, 1), Sigmoid(\"sigmoid\")])"
   ]
  },
  {
   "cell_type": "code",
   "execution_count": 20,
   "id": "6eede77a",
   "metadata": {
    "execution": {
     "iopub.execute_input": "2022-09-29T00:59:44.606492Z",
     "iopub.status.busy": "2022-09-29T00:59:44.605864Z",
     "iopub.status.idle": "2022-09-29T00:59:44.618493Z",
     "shell.execute_reply": "2022-09-29T00:59:44.617981Z"
    },
    "papermill": {
     "duration": 0.044403,
     "end_time": "2022-09-29T00:59:44.618618",
     "exception": false,
     "start_time": "2022-09-29T00:59:44.574215",
     "status": "completed"
    },
    "tags": []
   },
   "outputs": [],
   "source": [
    "nn_learner = Learner(loss, model_nn, opt, config.num_epochs)\n",
    "acc_nn = ClfCallback(nn_learner, config.bs, training_data_x , testing_data_x, training_data_y, testing_data_y)\n",
    "nn_learner.set_callbacks([acc_nn])"
   ]
  },
  {
   "cell_type": "code",
   "execution_count": 21,
   "id": "877b6cc7",
   "metadata": {
    "execution": {
     "iopub.execute_input": "2022-09-29T00:59:44.678482Z",
     "iopub.status.busy": "2022-09-29T00:59:44.677841Z",
     "iopub.status.idle": "2022-09-29T00:59:44.690393Z",
     "shell.execute_reply": "2022-09-29T00:59:44.690843Z"
    },
    "papermill": {
     "duration": 0.045144,
     "end_time": "2022-09-29T00:59:44.690991",
     "exception": false,
     "start_time": "2022-09-29T00:59:44.645847",
     "status": "completed"
    },
    "tags": []
   },
   "outputs": [],
   "source": [
    "lr_learner = Learner(loss, model_lr, opt, config.num_epochs)\n",
    "acc_lr = ClfCallback(lr_learner, config.bs, training_data_x , testing_data_x, training_data_y, testing_data_y)\n",
    "lr_learner.set_callbacks([acc_lr])"
   ]
  },
  {
   "cell_type": "code",
   "execution_count": 22,
   "id": "d9b133c3",
   "metadata": {
    "execution": {
     "iopub.execute_input": "2022-09-29T00:59:44.759952Z",
     "iopub.status.busy": "2022-09-29T00:59:44.759356Z",
     "iopub.status.idle": "2022-09-29T01:00:59.920678Z",
     "shell.execute_reply": "2022-09-29T01:00:59.921597Z"
    },
    "papermill": {
     "duration": 75.203671,
     "end_time": "2022-09-29T01:00:59.921750",
     "exception": false,
     "start_time": "2022-09-29T00:59:44.718079",
     "status": "completed"
    },
    "tags": []
   },
   "outputs": [
    {
     "name": "stdout",
     "output_type": "stream",
     "text": [
      "Epoch 0, Loss 0.2377\n",
      "Training Accuracy: 0.7241, Testing Accuracy: 0.7530\n",
      "\n"
     ]
    },
    {
     "name": "stdout",
     "output_type": "stream",
     "text": [
      "Epoch 10, Loss 0.0792\n",
      "Training Accuracy: 0.9276, Testing Accuracy: 0.9320\n",
      "\n"
     ]
    },
    {
     "name": "stdout",
     "output_type": "stream",
     "text": [
      "Epoch 20, Loss 0.0511\n",
      "Training Accuracy: 0.9464, Testing Accuracy: 0.9506\n",
      "\n"
     ]
    },
    {
     "name": "stdout",
     "output_type": "stream",
     "text": [
      "Epoch 30, Loss 0.0412\n",
      "Training Accuracy: 0.9542, Testing Accuracy: 0.9587\n",
      "\n"
     ]
    },
    {
     "name": "stdout",
     "output_type": "stream",
     "text": [
      "Epoch 40, Loss 0.0361\n",
      "Training Accuracy: 0.9584, Testing Accuracy: 0.9622\n",
      "\n"
     ]
    },
    {
     "name": "stdout",
     "output_type": "stream",
     "text": [
      "Epoch 50, Loss 0.033\n",
      "Training Accuracy: 0.9613, Testing Accuracy: 0.9667\n",
      "\n"
     ]
    },
    {
     "name": "stdout",
     "output_type": "stream",
     "text": [
      "Epoch 60, Loss 0.0308\n",
      "Training Accuracy: 0.9641, Testing Accuracy: 0.9672\n",
      "\n"
     ]
    },
    {
     "name": "stdout",
     "output_type": "stream",
     "text": [
      "Epoch 70, Loss 0.0291\n",
      "Training Accuracy: 0.9663, Testing Accuracy: 0.9672\n",
      "\n"
     ]
    },
    {
     "name": "stdout",
     "output_type": "stream",
     "text": [
      "Epoch 80, Loss 0.0278\n",
      "Training Accuracy: 0.9681, Testing Accuracy: 0.9677\n",
      "\n"
     ]
    },
    {
     "name": "stdout",
     "output_type": "stream",
     "text": [
      "Epoch 90, Loss 0.0266\n",
      "Training Accuracy: 0.9693, Testing Accuracy: 0.9682\n",
      "\n"
     ]
    },
    {
     "name": "stdout",
     "output_type": "stream",
     "text": [
      "Epoch 100, Loss 0.0256\n",
      "Training Accuracy: 0.9704, Testing Accuracy: 0.9672\n",
      "\n"
     ]
    },
    {
     "name": "stdout",
     "output_type": "stream",
     "text": [
      "Epoch 110, Loss 0.0248\n",
      "Training Accuracy: 0.9720, Testing Accuracy: 0.9672\n",
      "\n"
     ]
    },
    {
     "name": "stdout",
     "output_type": "stream",
     "text": [
      "Epoch 120, Loss 0.024\n",
      "Training Accuracy: 0.9726, Testing Accuracy: 0.9688\n",
      "\n"
     ]
    },
    {
     "name": "stdout",
     "output_type": "stream",
     "text": [
      "Epoch 130, Loss 0.0233\n",
      "Training Accuracy: 0.9735, Testing Accuracy: 0.9693\n",
      "\n"
     ]
    },
    {
     "name": "stdout",
     "output_type": "stream",
     "text": [
      "Epoch 140, Loss 0.0226\n",
      "Training Accuracy: 0.9742, Testing Accuracy: 0.9708\n",
      "\n"
     ]
    },
    {
     "name": "stdout",
     "output_type": "stream",
     "text": [
      "Epoch 150, Loss 0.022\n",
      "Training Accuracy: 0.9750, Testing Accuracy: 0.9708\n",
      "\n"
     ]
    },
    {
     "name": "stdout",
     "output_type": "stream",
     "text": [
      "Epoch 160, Loss 0.0214\n",
      "Training Accuracy: 0.9758, Testing Accuracy: 0.9708\n",
      "\n"
     ]
    },
    {
     "name": "stdout",
     "output_type": "stream",
     "text": [
      "Epoch 170, Loss 0.0209\n",
      "Training Accuracy: 0.9761, Testing Accuracy: 0.9718\n",
      "\n"
     ]
    },
    {
     "name": "stdout",
     "output_type": "stream",
     "text": [
      "Epoch 180, Loss 0.0204\n",
      "Training Accuracy: 0.9767, Testing Accuracy: 0.9718\n",
      "\n"
     ]
    },
    {
     "name": "stdout",
     "output_type": "stream",
     "text": [
      "Epoch 190, Loss 0.0199\n",
      "Training Accuracy: 0.9775, Testing Accuracy: 0.9723\n",
      "\n"
     ]
    },
    {
     "name": "stdout",
     "output_type": "stream",
     "text": [
      "Epoch 200, Loss 0.0194\n",
      "Training Accuracy: 0.9781, Testing Accuracy: 0.9723\n",
      "\n"
     ]
    },
    {
     "name": "stdout",
     "output_type": "stream",
     "text": [
      "Epoch 210, Loss 0.0189\n",
      "Training Accuracy: 0.9787, Testing Accuracy: 0.9728\n",
      "\n"
     ]
    },
    {
     "name": "stdout",
     "output_type": "stream",
     "text": [
      "Epoch 220, Loss 0.0185\n",
      "Training Accuracy: 0.9797, Testing Accuracy: 0.9728\n",
      "\n"
     ]
    },
    {
     "name": "stdout",
     "output_type": "stream",
     "text": [
      "Epoch 230, Loss 0.0181\n",
      "Training Accuracy: 0.9804, Testing Accuracy: 0.9733\n",
      "\n"
     ]
    },
    {
     "name": "stdout",
     "output_type": "stream",
     "text": [
      "Epoch 240, Loss 0.0177\n",
      "Training Accuracy: 0.9806, Testing Accuracy: 0.9753\n",
      "\n"
     ]
    },
    {
     "data": {
      "text/plain": [
       "0.01710854428545694"
      ]
     },
     "execution_count": 22,
     "metadata": {},
     "output_type": "execute_result"
    }
   ],
   "source": [
    "nn_learner.train_loop(dl)"
   ]
  },
  {
   "cell_type": "code",
   "execution_count": 23,
   "id": "e0163366",
   "metadata": {
    "execution": {
     "iopub.execute_input": "2022-09-29T01:01:00.005620Z",
     "iopub.status.busy": "2022-09-29T01:01:00.005010Z",
     "iopub.status.idle": "2022-09-29T01:01:13.691502Z",
     "shell.execute_reply": "2022-09-29T01:01:13.692345Z"
    },
    "papermill": {
     "duration": 13.735007,
     "end_time": "2022-09-29T01:01:13.692498",
     "exception": false,
     "start_time": "2022-09-29T01:00:59.957491",
     "status": "completed"
    },
    "tags": []
   },
   "outputs": [
    {
     "name": "stdout",
     "output_type": "stream",
     "text": [
      "Epoch 0, Loss 0.2391\n",
      "Training Accuracy: 0.7001, Testing Accuracy: 0.7061\n",
      "\n"
     ]
    },
    {
     "name": "stdout",
     "output_type": "stream",
     "text": [
      "Epoch 10, Loss 0.1039\n",
      "Training Accuracy: 0.9053, Testing Accuracy: 0.9133\n",
      "\n"
     ]
    },
    {
     "name": "stdout",
     "output_type": "stream",
     "text": [
      "Epoch 20, Loss 0.08\n",
      "Training Accuracy: 0.9257, Testing Accuracy: 0.9340\n",
      "\n"
     ]
    },
    {
     "name": "stdout",
     "output_type": "stream",
     "text": [
      "Epoch 30, Loss 0.069\n",
      "Training Accuracy: 0.9349, Testing Accuracy: 0.9461\n",
      "\n"
     ]
    },
    {
     "name": "stdout",
     "output_type": "stream",
     "text": [
      "Epoch 40, Loss 0.0623\n",
      "Training Accuracy: 0.9402, Testing Accuracy: 0.9511\n",
      "\n"
     ]
    },
    {
     "name": "stdout",
     "output_type": "stream",
     "text": [
      "Epoch 50, Loss 0.0577\n",
      "Training Accuracy: 0.9437, Testing Accuracy: 0.9541\n",
      "\n"
     ]
    },
    {
     "name": "stdout",
     "output_type": "stream",
     "text": [
      "Epoch 60, Loss 0.0544\n",
      "Training Accuracy: 0.9468, Testing Accuracy: 0.9577\n",
      "\n"
     ]
    },
    {
     "name": "stdout",
     "output_type": "stream",
     "text": [
      "Epoch 70, Loss 0.0518\n",
      "Training Accuracy: 0.9478, Testing Accuracy: 0.9587\n",
      "\n"
     ]
    },
    {
     "name": "stdout",
     "output_type": "stream",
     "text": [
      "Epoch 80, Loss 0.0497\n",
      "Training Accuracy: 0.9498, Testing Accuracy: 0.9597\n",
      "\n"
     ]
    },
    {
     "name": "stdout",
     "output_type": "stream",
     "text": [
      "Epoch 90, Loss 0.0479\n",
      "Training Accuracy: 0.9510, Testing Accuracy: 0.9612\n",
      "\n"
     ]
    },
    {
     "name": "stdout",
     "output_type": "stream",
     "text": [
      "Epoch 100, Loss 0.0465\n",
      "Training Accuracy: 0.9521, Testing Accuracy: 0.9612\n",
      "\n"
     ]
    },
    {
     "name": "stdout",
     "output_type": "stream",
     "text": [
      "Epoch 110, Loss 0.0453\n",
      "Training Accuracy: 0.9531, Testing Accuracy: 0.9622\n",
      "\n"
     ]
    },
    {
     "name": "stdout",
     "output_type": "stream",
     "text": [
      "Epoch 120, Loss 0.0442\n",
      "Training Accuracy: 0.9539, Testing Accuracy: 0.9627\n",
      "\n"
     ]
    },
    {
     "name": "stdout",
     "output_type": "stream",
     "text": [
      "Epoch 130, Loss 0.0432\n",
      "Training Accuracy: 0.9547, Testing Accuracy: 0.9632\n",
      "\n"
     ]
    },
    {
     "name": "stdout",
     "output_type": "stream",
     "text": [
      "Epoch 140, Loss 0.0424\n",
      "Training Accuracy: 0.9551, Testing Accuracy: 0.9642\n",
      "\n"
     ]
    },
    {
     "name": "stdout",
     "output_type": "stream",
     "text": [
      "Epoch 150, Loss 0.0416\n",
      "Training Accuracy: 0.9557, Testing Accuracy: 0.9642\n",
      "\n"
     ]
    },
    {
     "name": "stdout",
     "output_type": "stream",
     "text": [
      "Epoch 160, Loss 0.0409\n",
      "Training Accuracy: 0.9559, Testing Accuracy: 0.9647\n",
      "\n"
     ]
    },
    {
     "name": "stdout",
     "output_type": "stream",
     "text": [
      "Epoch 170, Loss 0.0403\n",
      "Training Accuracy: 0.9567, Testing Accuracy: 0.9652\n",
      "\n"
     ]
    },
    {
     "name": "stdout",
     "output_type": "stream",
     "text": [
      "Epoch 180, Loss 0.0397\n",
      "Training Accuracy: 0.9573, Testing Accuracy: 0.9657\n",
      "\n"
     ]
    },
    {
     "name": "stdout",
     "output_type": "stream",
     "text": [
      "Epoch 190, Loss 0.0392\n",
      "Training Accuracy: 0.9581, Testing Accuracy: 0.9652\n",
      "\n"
     ]
    },
    {
     "name": "stdout",
     "output_type": "stream",
     "text": [
      "Epoch 200, Loss 0.0387\n",
      "Training Accuracy: 0.9587, Testing Accuracy: 0.9652\n",
      "\n"
     ]
    },
    {
     "name": "stdout",
     "output_type": "stream",
     "text": [
      "Epoch 210, Loss 0.0383\n",
      "Training Accuracy: 0.9589, Testing Accuracy: 0.9647\n",
      "\n"
     ]
    },
    {
     "name": "stdout",
     "output_type": "stream",
     "text": [
      "Epoch 220, Loss 0.0378\n",
      "Training Accuracy: 0.9596, Testing Accuracy: 0.9652\n",
      "\n"
     ]
    },
    {
     "name": "stdout",
     "output_type": "stream",
     "text": [
      "Epoch 230, Loss 0.0374\n",
      "Training Accuracy: 0.9599, Testing Accuracy: 0.9652\n",
      "\n"
     ]
    },
    {
     "name": "stdout",
     "output_type": "stream",
     "text": [
      "Epoch 240, Loss 0.0371\n",
      "Training Accuracy: 0.9599, Testing Accuracy: 0.9657\n",
      "\n"
     ]
    },
    {
     "data": {
      "text/plain": [
       "0.02163988410726124"
      ]
     },
     "execution_count": 23,
     "metadata": {},
     "output_type": "execute_result"
    }
   ],
   "source": [
    "lr_learner.train_loop(dl)"
   ]
  },
  {
   "cell_type": "code",
   "execution_count": 24,
   "id": "ca410940",
   "metadata": {
    "execution": {
     "iopub.execute_input": "2022-09-29T01:01:13.787713Z",
     "iopub.status.busy": "2022-09-29T01:01:13.787111Z",
     "iopub.status.idle": "2022-09-29T01:01:14.008526Z",
     "shell.execute_reply": "2022-09-29T01:01:14.008038Z"
    },
    "papermill": {
     "duration": 0.275478,
     "end_time": "2022-09-29T01:01:14.008654",
     "exception": false,
     "start_time": "2022-09-29T01:01:13.733176",
     "status": "completed"
    },
    "tags": []
   },
   "outputs": [
    {
     "data": {
      "text/plain": [
       "<matplotlib.legend.Legend at 0x7fec7ccb1fd0>"
      ]
     },
     "execution_count": 24,
     "metadata": {},
     "output_type": "execute_result"
    },
    {
     "data": {
      "image/png": "[encoded data removed]",
      "text/plain": [
       "<Figure size 1080x720 with 1 Axes>"
      ]
     },
     "metadata": {
      "needs_background": "light"
     },
     "output_type": "display_data"
    }
   ],
   "source": [
    "#comparing the results of NN and LR\n",
    "plt.figure(figsize=(15,10))\n",
    "\n",
    "# Neural Network plots\n",
    "plt.plot(acc_nn.accuracies, 'r-', label = \"Training Accuracies - NN\")\n",
    "plt.plot(acc_nn.test_accuracies, 'g-', label = \"Testing Accuracies - NN\")\n",
    "\n",
    "# Logistic Regression plots\n",
    "plt.plot(acc_lr.accuracies, 'k-', label = \"Training Accuracies - LR\")\n",
    "plt.plot(acc_lr.test_accuracies, 'b-', label = \"Testing Accuracies - LR\")\n",
    "plt.legend()"
   ]
  },
  {
   "cell_type": "markdown",
   "id": "80dfb35c",
   "metadata": {
    "papermill": {
     "duration": 0.041407,
     "end_time": "2022-09-29T01:01:14.091965",
     "exception": false,
     "start_time": "2022-09-29T01:01:14.050558",
     "status": "completed"
    },
    "tags": []
   },
   "source": [
    "#### Plotting the outputs of this layer of the NN.\n"
   ]
  },
  {
   "cell_type": "code",
   "execution_count": 25,
   "id": "45eb2ff5",
   "metadata": {
    "execution": {
     "iopub.execute_input": "2022-09-29T01:01:14.184772Z",
     "iopub.status.busy": "2022-09-29T01:01:14.184172Z",
     "iopub.status.idle": "2022-09-29T01:01:14.203718Z",
     "shell.execute_reply": "2022-09-29T01:01:14.203221Z"
    },
    "papermill": {
     "duration": 0.070443,
     "end_time": "2022-09-29T01:01:14.203837",
     "exception": false,
     "start_time": "2022-09-29T01:01:14.133394",
     "status": "completed"
    },
    "tags": []
   },
   "outputs": [],
   "source": [
    "new_model = Model(layers[:-2])\n",
    "testing_plot = new_model(testing_data_x)"
   ]
  },
  {
   "cell_type": "code",
   "execution_count": 26,
   "id": "4c0a5485",
   "metadata": {
    "execution": {
     "iopub.execute_input": "2022-09-29T01:01:14.304057Z",
     "iopub.status.busy": "2022-09-29T01:01:14.303476Z",
     "iopub.status.idle": "2022-09-29T01:01:14.477413Z",
     "shell.execute_reply": "2022-09-29T01:01:14.476910Z"
    },
    "papermill": {
     "duration": 0.231861,
     "end_time": "2022-09-29T01:01:14.477537",
     "exception": false,
     "start_time": "2022-09-29T01:01:14.245676",
     "status": "completed"
    },
    "tags": []
   },
   "outputs": [
    {
     "data": {
      "text/plain": [
       "Text(0.5, 1.0, 'Outputs')"
      ]
     },
     "execution_count": 26,
     "metadata": {},
     "output_type": "execute_result"
    },
    {
     "data": {
      "image/png": "[encoded data removed]",
      "text/plain": [
       "<Figure size 576x504 with 1 Axes>"
      ]
     },
     "metadata": {
      "needs_background": "light"
     },
     "output_type": "display_data"
    }
   ],
   "source": [
    "# Plotting the scatter plot of points and color coding by class\n",
    "plt.figure(figsize=(8,7))\n",
    "plt.scatter(testing_plot[:,0], testing_plot[:,1], alpha = 0.1, c = y_test.ravel());\n",
    "plt.title('Outputs')"
   ]
  },
  {
   "cell_type": "markdown",
   "id": "a74fcf8f",
   "metadata": {
    "papermill": {
     "duration": 0.043218,
     "end_time": "2022-09-29T01:01:14.564700",
     "exception": false,
     "start_time": "2022-09-29T01:01:14.521482",
     "status": "completed"
    },
    "tags": []
   },
   "source": [
    "Probability contours"
   ]
  },
  {
   "cell_type": "code",
   "execution_count": 27,
   "id": "d0afc8e3",
   "metadata": {
    "execution": {
     "iopub.execute_input": "2022-09-29T01:01:14.667760Z",
     "iopub.status.busy": "2022-09-29T01:01:14.667169Z",
     "iopub.status.idle": "2022-09-29T01:01:14.673479Z",
     "shell.execute_reply": "2022-09-29T01:01:14.673924Z"
    },
    "papermill": {
     "duration": 0.065972,
     "end_time": "2022-09-29T01:01:14.674055",
     "exception": false,
     "start_time": "2022-09-29T01:01:14.608083",
     "status": "completed"
    },
    "tags": []
   },
   "outputs": [],
   "source": [
    "model_prob = Model(layers[-2:]) "
   ]
  },
  {
   "cell_type": "code",
   "execution_count": 28,
   "id": "9b96e238",
   "metadata": {
    "execution": {
     "iopub.execute_input": "2022-09-29T01:01:14.771684Z",
     "iopub.status.busy": "2022-09-29T01:01:14.771074Z",
     "iopub.status.idle": "2022-09-29T01:01:14.783228Z",
     "shell.execute_reply": "2022-09-29T01:01:14.782652Z"
    },
    "papermill": {
     "duration": 0.065793,
     "end_time": "2022-09-29T01:01:14.783341",
     "exception": false,
     "start_time": "2022-09-29T01:01:14.717548",
     "status": "completed"
    },
    "tags": []
   },
   "outputs": [],
   "source": [
    "#creating the x and y ranges according to the above generated plot.\n",
    "x_range = np.linspace(-4, 1, 100) \n",
    "y_range = np.linspace(-6, 6, 100) \n",
    "x_grid, y_grid = np.meshgrid(x_range, y_range) # x_grid and y_grig are of size 100 X 100\n",
    "\n",
    "# converting x_grid and y_grid to continuous arrays\n",
    "x_gridflat = np.ravel(x_grid)\n",
    "y_gridflat = np.ravel(y_grid)\n",
    "\n",
    "# The last layer of the current model takes two columns as input. Hence transpose of np.vstack() is required.\n",
    "X = np.vstack((x_gridflat, y_gridflat)).T\n",
    "\n",
    "prob_contour = model_prob(X).reshape(100,100) "
   ]
  },
  {
   "cell_type": "code",
   "execution_count": 29,
   "id": "da72499a",
   "metadata": {
    "execution": {
     "iopub.execute_input": "2022-09-29T01:01:14.902985Z",
     "iopub.status.busy": "2022-09-29T01:01:14.902380Z",
     "iopub.status.idle": "2022-09-29T01:01:15.137559Z",
     "shell.execute_reply": "2022-09-29T01:01:15.137056Z"
    },
    "papermill": {
     "duration": 0.283128,
     "end_time": "2022-09-29T01:01:15.137682",
     "exception": false,
     "start_time": "2022-09-29T01:01:14.854554",
     "status": "completed"
    },
    "tags": []
   },
   "outputs": [
    {
     "data": {
      "image/png": "[encoded data removed]",
      "text/plain": [
       "<Figure size 720x648 with 1 Axes>"
      ]
     },
     "metadata": {
      "needs_background": "light"
     },
     "output_type": "display_data"
    }
   ],
   "source": [
    "plt.figure(figsize=(10,9))\n",
    "plt.scatter(testing_plot[:,0], testing_plot[:,1], alpha = 0.1, c = y_test.ravel())\n",
    "contours = plt.contour(x_grid,y_grid,prob_contour)\n",
    "plt.title('Probability Contours')\n",
    "plt.clabel(contours, inline = True );"
   ]
  },
  {
   "cell_type": "code",
   "execution_count": null,
   "id": "e81b4ac7",
   "metadata": {
    "papermill": {
     "duration": 0.047095,
     "end_time": "2022-09-29T01:01:15.234900",
     "exception": false,
     "start_time": "2022-09-29T01:01:15.187805",
     "status": "completed"
    },
    "tags": []
   },
   "outputs": [],
   "source": []
  }
 ],
 "metadata": {
  "kernelspec": {
   "display_name": "Python 3",
   "language": "python",
   "name": "python3"
  },
  "language_info": {
   "codemirror_mode": {
    "name": "ipython",
    "version": 3
   },
   "file_extension": ".py",
   "mimetype": "text/x-python",
   "name": "python",
   "nbconvert_exporter": "python",
   "pygments_lexer": "ipython3",
   "version": "3.6.15"
  },
  "papermill": {
   "default_parameters": {},
   "duration": 97.24936,
   "end_time": "2022-09-29T01:01:15.699929",
   "environment_variables": {},
   "exception": null,
   "input_path": "2020-08-11-part2.ipynb",
   "output_path": "2020-08-11-part2.ipynb",
   "parameters": {},
   "start_time": "2022-09-29T00:59:38.450569",
   "version": "2.3.3"
  }
 },
 "nbformat": 4,
 "nbformat_minor": 5
}