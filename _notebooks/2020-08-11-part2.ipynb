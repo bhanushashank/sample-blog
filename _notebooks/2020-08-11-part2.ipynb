{
 "cells": [
  {
   "cell_type": "markdown",
   "id": "98380cd3",
   "metadata": {
    "papermill": {
     "duration": 0.02886,
     "end_time": "2022-11-17T10:10:43.354696",
     "exception": false,
     "start_time": "2022-11-17T10:10:43.325836",
     "status": "completed"
    },
    "tags": []
   },
   "source": [
    "# Distinguish Your Own Digits (DYOD)"
   ]
  },
  {
   "cell_type": "markdown",
   "id": "ef31240d",
   "metadata": {
    "papermill": {
     "duration": 0.023377,
     "end_time": "2022-11-17T10:10:43.402242",
     "exception": false,
     "start_time": "2022-11-17T10:10:43.378865",
     "status": "completed"
    },
    "tags": []
   },
   "source": [
    "You are going to write a classifier that distinguishes between the number 3 and number 8."
   ]
  },
  {
   "cell_type": "code",
   "execution_count": 1,
   "id": "b15c8646",
   "metadata": {
    "execution": {
     "iopub.execute_input": "2022-11-17T10:10:43.460347Z",
     "iopub.status.busy": "2022-11-17T10:10:43.459755Z",
     "iopub.status.idle": "2022-11-17T10:10:43.469719Z",
     "shell.execute_reply": "2022-11-17T10:10:43.470273Z"
    },
    "papermill": {
     "duration": 0.04482,
     "end_time": "2022-11-17T10:10:43.470412",
     "exception": false,
     "start_time": "2022-11-17T10:10:43.425592",
     "status": "completed"
    },
    "tags": []
   },
   "outputs": [],
   "source": [
    "%load_ext autoreload\n",
    "%autoreload 2"
   ]
  },
  {
   "cell_type": "code",
   "execution_count": 2,
   "id": "22ef38dc",
   "metadata": {
    "execution": {
     "iopub.execute_input": "2022-11-17T10:10:43.521241Z",
     "iopub.status.busy": "2022-11-17T10:10:43.520666Z",
     "iopub.status.idle": "2022-11-17T10:10:44.047789Z",
     "shell.execute_reply": "2022-11-17T10:10:44.047196Z"
    },
    "papermill": {
     "duration": 0.554019,
     "end_time": "2022-11-17T10:10:44.047924",
     "exception": false,
     "start_time": "2022-11-17T10:10:43.493905",
     "status": "completed"
    },
    "tags": []
   },
   "outputs": [],
   "source": [
    "%matplotlib inline\n",
    "import numpy as np\n",
    "import matplotlib.pyplot as plt\n",
    "import pandas as pd"
   ]
  },
  {
   "cell_type": "markdown",
   "id": "ba036198",
   "metadata": {
    "papermill": {
     "duration": 0.023542,
     "end_time": "2022-11-17T10:10:44.095535",
     "exception": false,
     "start_time": "2022-11-17T10:10:44.071993",
     "status": "completed"
    },
    "tags": []
   },
   "source": [
    "From the command line run `pip install mnist`. This is a library that will help you bring down the mnist dataset. If you run this from a notebook, you need to put  `!pip install mnist` in a cell by itself."
   ]
  },
  {
   "cell_type": "code",
   "execution_count": 3,
   "id": "bb6ad8a1",
   "metadata": {
    "execution": {
     "iopub.execute_input": "2022-11-17T10:10:44.146768Z",
     "iopub.status.busy": "2022-11-17T10:10:44.146180Z",
     "iopub.status.idle": "2022-11-17T10:10:46.361591Z",
     "shell.execute_reply": "2022-11-17T10:10:46.360004Z"
    },
    "papermill": {
     "duration": 2.242685,
     "end_time": "2022-11-17T10:10:46.361730",
     "exception": false,
     "start_time": "2022-11-17T10:10:44.119045",
     "status": "completed"
    },
    "tags": []
   },
   "outputs": [
    {
     "name": "stdout",
     "output_type": "stream",
     "text": [
      "Collecting mnist\r\n",
      "  Downloading mnist-0.2.2-py2.py3-none-any.whl (3.5 kB)\r\n",
      "Requirement already satisfied: numpy in /opt/hostedtoolcache/Python/3.6.15/x64/lib/python3.6/site-packages (from mnist) (1.19.5)\r\n"
     ]
    },
    {
     "name": "stdout",
     "output_type": "stream",
     "text": [
      "Installing collected packages: mnist\r\n",
      "Successfully installed mnist-0.2.2\r\n"
     ]
    }
   ],
   "source": [
    "!pip install mnist"
   ]
  },
  {
   "cell_type": "markdown",
   "id": "69df9c9a",
   "metadata": {
    "papermill": {
     "duration": 0.024284,
     "end_time": "2022-11-17T10:10:46.412159",
     "exception": false,
     "start_time": "2022-11-17T10:10:46.387875",
     "status": "completed"
    },
    "tags": []
   },
   "source": [
    "## Preparing the Data"
   ]
  },
  {
   "cell_type": "code",
   "execution_count": 4,
   "id": "7f69d806",
   "metadata": {
    "execution": {
     "iopub.execute_input": "2022-11-17T10:10:46.464367Z",
     "iopub.status.busy": "2022-11-17T10:10:46.463785Z",
     "iopub.status.idle": "2022-11-17T10:10:46.478692Z",
     "shell.execute_reply": "2022-11-17T10:10:46.478224Z"
    },
    "papermill": {
     "duration": 0.04258,
     "end_time": "2022-11-17T10:10:46.478795",
     "exception": false,
     "start_time": "2022-11-17T10:10:46.436215",
     "status": "completed"
    },
    "tags": []
   },
   "outputs": [],
   "source": [
    "import mnist"
   ]
  },
  {
   "cell_type": "code",
   "execution_count": 5,
   "id": "a411e44f",
   "metadata": {
    "execution": {
     "iopub.execute_input": "2022-11-17T10:10:46.530519Z",
     "iopub.status.busy": "2022-11-17T10:10:46.529955Z",
     "iopub.status.idle": "2022-11-17T10:10:47.018507Z",
     "shell.execute_reply": "2022-11-17T10:10:47.017936Z"
    },
    "papermill": {
     "duration": 0.515819,
     "end_time": "2022-11-17T10:10:47.018644",
     "exception": false,
     "start_time": "2022-11-17T10:10:46.502825",
     "status": "completed"
    },
    "tags": []
   },
   "outputs": [],
   "source": [
    "train_images = mnist.train_images()\n",
    "train_labels = mnist.train_labels()"
   ]
  },
  {
   "cell_type": "code",
   "execution_count": 6,
   "id": "dceab3a5",
   "metadata": {
    "execution": {
     "iopub.execute_input": "2022-11-17T10:10:47.071955Z",
     "iopub.status.busy": "2022-11-17T10:10:47.071366Z",
     "iopub.status.idle": "2022-11-17T10:10:47.086852Z",
     "shell.execute_reply": "2022-11-17T10:10:47.086379Z"
    },
    "papermill": {
     "duration": 0.043203,
     "end_time": "2022-11-17T10:10:47.086960",
     "exception": false,
     "start_time": "2022-11-17T10:10:47.043757",
     "status": "completed"
    },
    "tags": []
   },
   "outputs": [
    {
     "data": {
      "text/plain": [
       "((60000, 28, 28), (60000,))"
      ]
     },
     "execution_count": 6,
     "metadata": {},
     "output_type": "execute_result"
    }
   ],
   "source": [
    "train_images.shape, train_labels.shape"
   ]
  },
  {
   "cell_type": "code",
   "execution_count": 7,
   "id": "f50dc2bb",
   "metadata": {
    "execution": {
     "iopub.execute_input": "2022-11-17T10:10:47.139642Z",
     "iopub.status.busy": "2022-11-17T10:10:47.139024Z",
     "iopub.status.idle": "2022-11-17T10:10:47.250854Z",
     "shell.execute_reply": "2022-11-17T10:10:47.250351Z"
    },
    "papermill": {
     "duration": 0.139517,
     "end_time": "2022-11-17T10:10:47.250978",
     "exception": false,
     "start_time": "2022-11-17T10:10:47.111461",
     "status": "completed"
    },
    "tags": []
   },
   "outputs": [],
   "source": [
    "test_images = mnist.test_images()\n",
    "test_labels = mnist.test_labels()"
   ]
  },
  {
   "cell_type": "code",
   "execution_count": 8,
   "id": "fc38cf1b",
   "metadata": {
    "execution": {
     "iopub.execute_input": "2022-11-17T10:10:47.304362Z",
     "iopub.status.busy": "2022-11-17T10:10:47.303782Z",
     "iopub.status.idle": "2022-11-17T10:10:47.318194Z",
     "shell.execute_reply": "2022-11-17T10:10:47.317720Z"
    },
    "papermill": {
     "duration": 0.042292,
     "end_time": "2022-11-17T10:10:47.318301",
     "exception": false,
     "start_time": "2022-11-17T10:10:47.276009",
     "status": "completed"
    },
    "tags": []
   },
   "outputs": [
    {
     "data": {
      "text/plain": [
       "((10000, 28, 28), (10000,))"
      ]
     },
     "execution_count": 8,
     "metadata": {},
     "output_type": "execute_result"
    }
   ],
   "source": [
    "test_images.shape, test_labels.shape"
   ]
  },
  {
   "cell_type": "code",
   "execution_count": 9,
   "id": "f9ed8fe0",
   "metadata": {
    "execution": {
     "iopub.execute_input": "2022-11-17T10:10:47.374080Z",
     "iopub.status.busy": "2022-11-17T10:10:47.373507Z",
     "iopub.status.idle": "2022-11-17T10:10:47.507833Z",
     "shell.execute_reply": "2022-11-17T10:10:47.508281Z"
    },
    "papermill": {
     "duration": 0.165481,
     "end_time": "2022-11-17T10:10:47.508410",
     "exception": false,
     "start_time": "2022-11-17T10:10:47.342929",
     "status": "completed"
    },
    "tags": []
   },
   "outputs": [
    {
     "name": "stdout",
     "output_type": "stream",
     "text": [
      "2\n"
     ]
    },
    {
     "data": {
      "text/plain": [
       "<matplotlib.image.AxesImage at 0x7f222ba26da0>"
      ]
     },
     "execution_count": 9,
     "metadata": {},
     "output_type": "execute_result"
    },
    {
     "data": {
      "image/png": "[encoded data removed]",
      "text/plain": [
       "<Figure size 432x288 with 1 Axes>"
      ]
     },
     "metadata": {
      "needs_background": "light"
     },
     "output_type": "display_data"
    }
   ],
   "source": [
    "image_index = 7776 # You may select anything up to 60,000\n",
    "print(train_labels[image_index]) \n",
    "plt.imshow(train_images[image_index], cmap='Greys')"
   ]
  },
  {
   "cell_type": "markdown",
   "id": "a8d2388d",
   "metadata": {
    "papermill": {
     "duration": 0.025672,
     "end_time": "2022-11-17T10:10:47.559894",
     "exception": false,
     "start_time": "2022-11-17T10:10:47.534222",
     "status": "completed"
    },
    "tags": []
   },
   "source": [
    "## Filter data to get 3 and 8 out"
   ]
  },
  {
   "cell_type": "code",
   "execution_count": 10,
   "id": "776f7fc7",
   "metadata": {
    "execution": {
     "iopub.execute_input": "2022-11-17T10:10:47.615693Z",
     "iopub.status.busy": "2022-11-17T10:10:47.615077Z",
     "iopub.status.idle": "2022-11-17T10:10:47.633360Z",
     "shell.execute_reply": "2022-11-17T10:10:47.633837Z"
    },
    "papermill": {
     "duration": 0.048433,
     "end_time": "2022-11-17T10:10:47.633961",
     "exception": false,
     "start_time": "2022-11-17T10:10:47.585528",
     "status": "completed"
    },
    "tags": []
   },
   "outputs": [],
   "source": [
    "train_filter = np.where((train_labels == 3 ) | (train_labels == 8))\n",
    "test_filter = np.where((test_labels == 3) | (test_labels == 8))\n",
    "X_train, y_train = train_images[train_filter], train_labels[train_filter]\n",
    "X_test, y_test = test_images[test_filter], test_labels[test_filter]"
   ]
  },
  {
   "cell_type": "markdown",
   "id": "948f0b7e",
   "metadata": {
    "papermill": {
     "duration": 0.026012,
     "end_time": "2022-11-17T10:10:47.685581",
     "exception": false,
     "start_time": "2022-11-17T10:10:47.659569",
     "status": "completed"
    },
    "tags": []
   },
   "source": [
    "We normalize the pizel values in the 0 to 1 range"
   ]
  },
  {
   "cell_type": "code",
   "execution_count": 11,
   "id": "ee4c2166",
   "metadata": {
    "execution": {
     "iopub.execute_input": "2022-11-17T10:10:47.755350Z",
     "iopub.status.busy": "2022-11-17T10:10:47.754653Z",
     "iopub.status.idle": "2022-11-17T10:10:47.793216Z",
     "shell.execute_reply": "2022-11-17T10:10:47.792223Z"
    },
    "papermill": {
     "duration": 0.082346,
     "end_time": "2022-11-17T10:10:47.793356",
     "exception": false,
     "start_time": "2022-11-17T10:10:47.711010",
     "status": "completed"
    },
    "tags": []
   },
   "outputs": [],
   "source": [
    "X_train = X_train/255.\n",
    "X_test = X_test/255."
   ]
  },
  {
   "cell_type": "markdown",
   "id": "ddcf4fab",
   "metadata": {
    "papermill": {
     "duration": 0.025528,
     "end_time": "2022-11-17T10:10:47.845556",
     "exception": false,
     "start_time": "2022-11-17T10:10:47.820028",
     "status": "completed"
    },
    "tags": []
   },
   "source": [
    "And setup the labels as 1 (when the digit is 3) and 0 (when the digit is 8)"
   ]
  },
  {
   "cell_type": "code",
   "execution_count": 12,
   "id": "7dc908f2",
   "metadata": {
    "execution": {
     "iopub.execute_input": "2022-11-17T10:10:47.910016Z",
     "iopub.status.busy": "2022-11-17T10:10:47.899872Z",
     "iopub.status.idle": "2022-11-17T10:10:47.914027Z",
     "shell.execute_reply": "2022-11-17T10:10:47.914466Z"
    },
    "papermill": {
     "duration": 0.04358,
     "end_time": "2022-11-17T10:10:47.914585",
     "exception": false,
     "start_time": "2022-11-17T10:10:47.871005",
     "status": "completed"
    },
    "tags": []
   },
   "outputs": [],
   "source": [
    "y_train = 1*(y_train==3)\n",
    "y_test = 1*(y_test==3)"
   ]
  },
  {
   "cell_type": "code",
   "execution_count": 13,
   "id": "01e4e969",
   "metadata": {
    "execution": {
     "iopub.execute_input": "2022-11-17T10:10:47.972582Z",
     "iopub.status.busy": "2022-11-17T10:10:47.968243Z",
     "iopub.status.idle": "2022-11-17T10:10:47.982082Z",
     "shell.execute_reply": "2022-11-17T10:10:47.981241Z"
    },
    "papermill": {
     "duration": 0.042046,
     "end_time": "2022-11-17T10:10:47.982187",
     "exception": false,
     "start_time": "2022-11-17T10:10:47.940141",
     "status": "completed"
    },
    "tags": []
   },
   "outputs": [
    {
     "data": {
      "text/plain": [
       "((11982, 28, 28), (1984, 28, 28))"
      ]
     },
     "execution_count": 13,
     "metadata": {},
     "output_type": "execute_result"
    }
   ],
   "source": [
    "X_train.shape, X_test.shape"
   ]
  },
  {
   "cell_type": "markdown",
   "id": "5ccf3f85",
   "metadata": {
    "papermill": {
     "duration": 0.026136,
     "end_time": "2022-11-17T10:10:48.034289",
     "exception": false,
     "start_time": "2022-11-17T10:10:48.008153",
     "status": "completed"
    },
    "tags": []
   },
   "source": [
    "We reshape the data to flatten the image pixels into a set of features or co-variates:"
   ]
  },
  {
   "cell_type": "code",
   "execution_count": 14,
   "id": "5286a4a3",
   "metadata": {
    "execution": {
     "iopub.execute_input": "2022-11-17T10:10:48.100534Z",
     "iopub.status.busy": "2022-11-17T10:10:48.090030Z",
     "iopub.status.idle": "2022-11-17T10:10:48.109121Z",
     "shell.execute_reply": "2022-11-17T10:10:48.108653Z"
    },
    "papermill": {
     "duration": 0.048807,
     "end_time": "2022-11-17T10:10:48.109226",
     "exception": false,
     "start_time": "2022-11-17T10:10:48.060419",
     "status": "completed"
    },
    "tags": []
   },
   "outputs": [
    {
     "data": {
      "text/plain": [
       "((11982, 784), (1984, 784))"
      ]
     },
     "execution_count": 14,
     "metadata": {},
     "output_type": "execute_result"
    }
   ],
   "source": [
    "X_train = X_train.reshape(X_train.shape[0], -1)\n",
    "X_test = X_test.reshape(X_test.shape[0], -1)\n",
    "X_train.shape, X_test.shape"
   ]
  },
  {
   "cell_type": "code",
   "execution_count": 15,
   "id": "73c5f88a",
   "metadata": {
    "execution": {
     "iopub.execute_input": "2022-11-17T10:10:48.168330Z",
     "iopub.status.busy": "2022-11-17T10:10:48.167766Z",
     "iopub.status.idle": "2022-11-17T10:10:48.184748Z",
     "shell.execute_reply": "2022-11-17T10:10:48.185190Z"
    },
    "papermill": {
     "duration": 0.050032,
     "end_time": "2022-11-17T10:10:48.185305",
     "exception": false,
     "start_time": "2022-11-17T10:10:48.135273",
     "status": "completed"
    },
    "tags": []
   },
   "outputs": [],
   "source": [
    "#Impoting functions from 'Kudzu'\n",
    "from kudzu.model import Model\n",
    "from kudzu.train import Learner\n",
    "from kudzu.optim import GD\n",
    "from kudzu.data import Data, Sampler,Dataloader\n",
    "\n",
    "from kudzu.callbacks import AccCallback\n",
    "from kudzu.callbacks import ClfCallback\n",
    "\n",
    "from kudzu.loss import MSE\n",
    "\n",
    "from kudzu.layer import Sigmoid,Relu\n",
    "from kudzu.layer import Affine"
   ]
  },
  {
   "cell_type": "markdown",
   "id": "bc01172a",
   "metadata": {
    "papermill": {
     "duration": 0.02614,
     "end_time": "2022-11-17T10:10:48.237569",
     "exception": false,
     "start_time": "2022-11-17T10:10:48.211429",
     "status": "completed"
    },
    "tags": []
   },
   "source": [
    "### Let us create a `Config` class, to store important parameters. \n",
    "This class essentially plays the role of a dictionary."
   ]
  },
  {
   "cell_type": "code",
   "execution_count": 16,
   "id": "978281aa",
   "metadata": {
    "execution": {
     "iopub.execute_input": "2022-11-17T10:10:48.293469Z",
     "iopub.status.busy": "2022-11-17T10:10:48.292890Z",
     "iopub.status.idle": "2022-11-17T10:10:48.305412Z",
     "shell.execute_reply": "2022-11-17T10:10:48.305859Z"
    },
    "papermill": {
     "duration": 0.042477,
     "end_time": "2022-11-17T10:10:48.305978",
     "exception": false,
     "start_time": "2022-11-17T10:10:48.263501",
     "status": "completed"
    },
    "tags": []
   },
   "outputs": [],
   "source": [
    "class Config:\n",
    "    pass\n",
    "config = Config()\n",
    "config.lr = 0.001\n",
    "config.num_epochs = 250\n",
    "config.bs = 50"
   ]
  },
  {
   "cell_type": "markdown",
   "id": "1385fa59",
   "metadata": {
    "papermill": {
     "duration": 0.025925,
     "end_time": "2022-11-17T10:10:48.358098",
     "exception": false,
     "start_time": "2022-11-17T10:10:48.332173",
     "status": "completed"
    },
    "tags": []
   },
   "source": [
    "### Running Models with the Training data\n",
    "Details about the network layers:\n",
    "- A first affine layer has 784 inputs and does 100 affine transforms. These are followed by a Relu\n",
    "- A second affine layer has 100 inputs from the 100 activations of the past layer, and does 100 affine transforms. These are followed by a Relu\n",
    "- A third affine layer has 100 activations and does 2 affine transformations to create an embedding for visualization. There is no non-linearity here.\n",
    "- A final \"logistic regression\" which has an affine transform from 2 inputs to 1 output, which is squeezed through a sigmoid.\n"
   ]
  },
  {
   "cell_type": "code",
   "execution_count": 17,
   "id": "2b9c66db",
   "metadata": {
    "execution": {
     "iopub.execute_input": "2022-11-17T10:10:48.419721Z",
     "iopub.status.busy": "2022-11-17T10:10:48.419082Z",
     "iopub.status.idle": "2022-11-17T10:10:48.429189Z",
     "shell.execute_reply": "2022-11-17T10:10:48.428726Z"
    },
    "papermill": {
     "duration": 0.045171,
     "end_time": "2022-11-17T10:10:48.429291",
     "exception": false,
     "start_time": "2022-11-17T10:10:48.384120",
     "status": "completed"
    },
    "tags": []
   },
   "outputs": [],
   "source": [
    "data = Data(X_train, y_train.reshape(-1,1))\n",
    "sampler = Sampler(data, config.bs, shuffle=True)\n",
    "\n",
    "dl = Dataloader(data, sampler)\n",
    "\n",
    "opt = GD(config.lr)\n",
    "loss = MSE()"
   ]
  },
  {
   "cell_type": "code",
   "execution_count": 18,
   "id": "b275e4c2",
   "metadata": {
    "execution": {
     "iopub.execute_input": "2022-11-17T10:10:48.484835Z",
     "iopub.status.busy": "2022-11-17T10:10:48.484264Z",
     "iopub.status.idle": "2022-11-17T10:10:48.497124Z",
     "shell.execute_reply": "2022-11-17T10:10:48.496659Z"
    },
    "papermill": {
     "duration": 0.041907,
     "end_time": "2022-11-17T10:10:48.497223",
     "exception": false,
     "start_time": "2022-11-17T10:10:48.455316",
     "status": "completed"
    },
    "tags": []
   },
   "outputs": [],
   "source": [
    "training_data_x = X_train\n",
    "testing_data_x = X_test\n",
    "training_data_y = y_train.reshape(-1,1)\n",
    "testing_data_y = y_test.reshape(-1,1)"
   ]
  },
  {
   "cell_type": "code",
   "execution_count": 19,
   "id": "76951160",
   "metadata": {
    "execution": {
     "iopub.execute_input": "2022-11-17T10:10:48.553547Z",
     "iopub.status.busy": "2022-11-17T10:10:48.552978Z",
     "iopub.status.idle": "2022-11-17T10:10:48.569050Z",
     "shell.execute_reply": "2022-11-17T10:10:48.569590Z"
    },
    "papermill": {
     "duration": 0.046469,
     "end_time": "2022-11-17T10:10:48.569711",
     "exception": false,
     "start_time": "2022-11-17T10:10:48.523242",
     "status": "completed"
    },
    "tags": []
   },
   "outputs": [
    {
     "name": "stdout",
     "output_type": "stream",
     "text": [
      "xavier\n",
      "xavier\n",
      "xavier\n",
      "xavier\n",
      "xavier\n"
     ]
    }
   ],
   "source": [
    "layers = [Affine(\"first\", 784, 100), Relu(\"first\"), Affine(\"second\", 100, 100), Relu(\"second\"), Affine(\"third\", 100, 2), Affine(\"last\", 2, 1), Sigmoid(\"last\")]\n",
    "model_nn = Model(layers)\n",
    "model_lr = Model([Affine(\"logits\", 784, 1), Sigmoid(\"sigmoid\")])"
   ]
  },
  {
   "cell_type": "code",
   "execution_count": 20,
   "id": "6eede77a",
   "metadata": {
    "execution": {
     "iopub.execute_input": "2022-11-17T10:10:48.626445Z",
     "iopub.status.busy": "2022-11-17T10:10:48.625877Z",
     "iopub.status.idle": "2022-11-17T10:10:48.639465Z",
     "shell.execute_reply": "2022-11-17T10:10:48.638977Z"
    },
    "papermill": {
     "duration": 0.043333,
     "end_time": "2022-11-17T10:10:48.639568",
     "exception": false,
     "start_time": "2022-11-17T10:10:48.596235",
     "status": "completed"
    },
    "tags": []
   },
   "outputs": [],
   "source": [
    "nn_learner = Learner(loss, model_nn, opt, config.num_epochs)\n",
    "acc_nn = ClfCallback(nn_learner, config.bs, training_data_x , testing_data_x, training_data_y, testing_data_y)\n",
    "nn_learner.set_callbacks([acc_nn])"
   ]
  },
  {
   "cell_type": "code",
   "execution_count": 21,
   "id": "877b6cc7",
   "metadata": {
    "execution": {
     "iopub.execute_input": "2022-11-17T10:10:48.695915Z",
     "iopub.status.busy": "2022-11-17T10:10:48.695340Z",
     "iopub.status.idle": "2022-11-17T10:10:48.706769Z",
     "shell.execute_reply": "2022-11-17T10:10:48.707264Z"
    },
    "papermill": {
     "duration": 0.041473,
     "end_time": "2022-11-17T10:10:48.707382",
     "exception": false,
     "start_time": "2022-11-17T10:10:48.665909",
     "status": "completed"
    },
    "tags": []
   },
   "outputs": [],
   "source": [
    "lr_learner = Learner(loss, model_lr, opt, config.num_epochs)\n",
    "acc_lr = ClfCallback(lr_learner, config.bs, training_data_x , testing_data_x, training_data_y, testing_data_y)\n",
    "lr_learner.set_callbacks([acc_lr])"
   ]
  },
  {
   "cell_type": "code",
   "execution_count": 22,
   "id": "d9b133c3",
   "metadata": {
    "execution": {
     "iopub.execute_input": "2022-11-17T10:10:48.768632Z",
     "iopub.status.busy": "2022-11-17T10:10:48.768066Z",
     "iopub.status.idle": "2022-11-17T10:12:01.715615Z",
     "shell.execute_reply": "2022-11-17T10:12:01.716446Z"
    },
    "papermill": {
     "duration": 72.981183,
     "end_time": "2022-11-17T10:12:01.716593",
     "exception": false,
     "start_time": "2022-11-17T10:10:48.735410",
     "status": "completed"
    },
    "tags": []
   },
   "outputs": [
    {
     "name": "stdout",
     "output_type": "stream",
     "text": [
      "Epoch 0, Loss 0.2054\n",
      "Training Accuracy: 0.8214, Testing Accuracy: 0.8392\n",
      "\n"
     ]
    },
    {
     "name": "stdout",
     "output_type": "stream",
     "text": [
      "Epoch 10, Loss 0.0501\n",
      "Training Accuracy: 0.9460, Testing Accuracy: 0.9561\n",
      "\n"
     ]
    },
    {
     "name": "stdout",
     "output_type": "stream",
     "text": [
      "Epoch 20, Loss 0.037\n",
      "Training Accuracy: 0.9586, Testing Accuracy: 0.9662\n",
      "\n"
     ]
    },
    {
     "name": "stdout",
     "output_type": "stream",
     "text": [
      "Epoch 30, Loss 0.0315\n",
      "Training Accuracy: 0.9634, Testing Accuracy: 0.9688\n",
      "\n"
     ]
    },
    {
     "name": "stdout",
     "output_type": "stream",
     "text": [
      "Epoch 40, Loss 0.0283\n",
      "Training Accuracy: 0.9673, Testing Accuracy: 0.9743\n",
      "\n"
     ]
    },
    {
     "name": "stdout",
     "output_type": "stream",
     "text": [
      "Epoch 50, Loss 0.0261\n",
      "Training Accuracy: 0.9702, Testing Accuracy: 0.9733\n",
      "\n"
     ]
    },
    {
     "name": "stdout",
     "output_type": "stream",
     "text": [
      "Epoch 60, Loss 0.0246\n",
      "Training Accuracy: 0.9724, Testing Accuracy: 0.9738\n",
      "\n"
     ]
    },
    {
     "name": "stdout",
     "output_type": "stream",
     "text": [
      "Epoch 70, Loss 0.0233\n",
      "Training Accuracy: 0.9739, Testing Accuracy: 0.9743\n",
      "\n"
     ]
    },
    {
     "name": "stdout",
     "output_type": "stream",
     "text": [
      "Epoch 80, Loss 0.0223\n",
      "Training Accuracy: 0.9758, Testing Accuracy: 0.9748\n",
      "\n"
     ]
    },
    {
     "name": "stdout",
     "output_type": "stream",
     "text": [
      "Epoch 90, Loss 0.0215\n",
      "Training Accuracy: 0.9760, Testing Accuracy: 0.9748\n",
      "\n"
     ]
    },
    {
     "name": "stdout",
     "output_type": "stream",
     "text": [
      "Epoch 100, Loss 0.0207\n",
      "Training Accuracy: 0.9776, Testing Accuracy: 0.9768\n",
      "\n"
     ]
    },
    {
     "name": "stdout",
     "output_type": "stream",
     "text": [
      "Epoch 110, Loss 0.02\n",
      "Training Accuracy: 0.9781, Testing Accuracy: 0.9783\n",
      "\n"
     ]
    },
    {
     "name": "stdout",
     "output_type": "stream",
     "text": [
      "Epoch 120, Loss 0.0194\n",
      "Training Accuracy: 0.9786, Testing Accuracy: 0.9773\n",
      "\n"
     ]
    },
    {
     "name": "stdout",
     "output_type": "stream",
     "text": [
      "Epoch 130, Loss 0.0188\n",
      "Training Accuracy: 0.9791, Testing Accuracy: 0.9768\n",
      "\n"
     ]
    },
    {
     "name": "stdout",
     "output_type": "stream",
     "text": [
      "Epoch 140, Loss 0.0183\n",
      "Training Accuracy: 0.9798, Testing Accuracy: 0.9783\n",
      "\n"
     ]
    },
    {
     "name": "stdout",
     "output_type": "stream",
     "text": [
      "Epoch 150, Loss 0.0178\n",
      "Training Accuracy: 0.9803, Testing Accuracy: 0.9778\n",
      "\n"
     ]
    },
    {
     "name": "stdout",
     "output_type": "stream",
     "text": [
      "Epoch 160, Loss 0.0173\n",
      "Training Accuracy: 0.9812, Testing Accuracy: 0.9783\n",
      "\n"
     ]
    },
    {
     "name": "stdout",
     "output_type": "stream",
     "text": [
      "Epoch 170, Loss 0.0169\n",
      "Training Accuracy: 0.9818, Testing Accuracy: 0.9783\n",
      "\n"
     ]
    },
    {
     "name": "stdout",
     "output_type": "stream",
     "text": [
      "Epoch 180, Loss 0.0164\n",
      "Training Accuracy: 0.9820, Testing Accuracy: 0.9793\n",
      "\n"
     ]
    },
    {
     "name": "stdout",
     "output_type": "stream",
     "text": [
      "Epoch 190, Loss 0.016\n",
      "Training Accuracy: 0.9829, Testing Accuracy: 0.9788\n",
      "\n"
     ]
    },
    {
     "name": "stdout",
     "output_type": "stream",
     "text": [
      "Epoch 200, Loss 0.0157\n",
      "Training Accuracy: 0.9831, Testing Accuracy: 0.9793\n",
      "\n"
     ]
    },
    {
     "name": "stdout",
     "output_type": "stream",
     "text": [
      "Epoch 210, Loss 0.0153\n",
      "Training Accuracy: 0.9837, Testing Accuracy: 0.9793\n",
      "\n"
     ]
    },
    {
     "name": "stdout",
     "output_type": "stream",
     "text": [
      "Epoch 220, Loss 0.0149\n",
      "Training Accuracy: 0.9841, Testing Accuracy: 0.9798\n",
      "\n"
     ]
    },
    {
     "name": "stdout",
     "output_type": "stream",
     "text": [
      "Epoch 230, Loss 0.0146\n",
      "Training Accuracy: 0.9846, Testing Accuracy: 0.9798\n",
      "\n"
     ]
    },
    {
     "name": "stdout",
     "output_type": "stream",
     "text": [
      "Epoch 240, Loss 0.0143\n",
      "Training Accuracy: 0.9851, Testing Accuracy: 0.9814\n",
      "\n"
     ]
    },
    {
     "data": {
      "text/plain": [
       "0.0023300641989853488"
      ]
     },
     "execution_count": 22,
     "metadata": {},
     "output_type": "execute_result"
    }
   ],
   "source": [
    "nn_learner.train_loop(dl)"
   ]
  },
  {
   "cell_type": "code",
   "execution_count": 23,
   "id": "e0163366",
   "metadata": {
    "execution": {
     "iopub.execute_input": "2022-11-17T10:12:01.796564Z",
     "iopub.status.busy": "2022-11-17T10:12:01.795973Z",
     "iopub.status.idle": "2022-11-17T10:12:14.718150Z",
     "shell.execute_reply": "2022-11-17T10:12:14.718978Z"
    },
    "papermill": {
     "duration": 12.968565,
     "end_time": "2022-11-17T10:12:14.719141",
     "exception": false,
     "start_time": "2022-11-17T10:12:01.750576",
     "status": "completed"
    },
    "tags": []
   },
   "outputs": [
    {
     "name": "stdout",
     "output_type": "stream",
     "text": [
      "Epoch 0, Loss 0.2448\n",
      "Training Accuracy: 0.6662, Testing Accuracy: 0.6774\n",
      "\n"
     ]
    },
    {
     "name": "stdout",
     "output_type": "stream",
     "text": [
      "Epoch 10, Loss 0.1022\n",
      "Training Accuracy: 0.9139, Testing Accuracy: 0.9249\n",
      "\n"
     ]
    },
    {
     "name": "stdout",
     "output_type": "stream",
     "text": [
      "Epoch 20, Loss 0.0783\n",
      "Training Accuracy: 0.9323, Testing Accuracy: 0.9405\n",
      "\n"
     ]
    },
    {
     "name": "stdout",
     "output_type": "stream",
     "text": [
      "Epoch 30, Loss 0.0675\n",
      "Training Accuracy: 0.9390, Testing Accuracy: 0.9486\n",
      "\n"
     ]
    },
    {
     "name": "stdout",
     "output_type": "stream",
     "text": [
      "Epoch 40, Loss 0.061\n",
      "Training Accuracy: 0.9429, Testing Accuracy: 0.9531\n",
      "\n"
     ]
    },
    {
     "name": "stdout",
     "output_type": "stream",
     "text": [
      "Epoch 50, Loss 0.0566\n",
      "Training Accuracy: 0.9460, Testing Accuracy: 0.9551\n",
      "\n"
     ]
    },
    {
     "name": "stdout",
     "output_type": "stream",
     "text": [
      "Epoch 60, Loss 0.0534\n",
      "Training Accuracy: 0.9476, Testing Accuracy: 0.9582\n",
      "\n"
     ]
    },
    {
     "name": "stdout",
     "output_type": "stream",
     "text": [
      "Epoch 70, Loss 0.0509\n",
      "Training Accuracy: 0.9487, Testing Accuracy: 0.9587\n",
      "\n"
     ]
    },
    {
     "name": "stdout",
     "output_type": "stream",
     "text": [
      "Epoch 80, Loss 0.0489\n",
      "Training Accuracy: 0.9510, Testing Accuracy: 0.9602\n",
      "\n"
     ]
    },
    {
     "name": "stdout",
     "output_type": "stream",
     "text": [
      "Epoch 90, Loss 0.0473\n",
      "Training Accuracy: 0.9518, Testing Accuracy: 0.9617\n",
      "\n"
     ]
    },
    {
     "name": "stdout",
     "output_type": "stream",
     "text": [
      "Epoch 100, Loss 0.0459\n",
      "Training Accuracy: 0.9533, Testing Accuracy: 0.9612\n",
      "\n"
     ]
    },
    {
     "name": "stdout",
     "output_type": "stream",
     "text": [
      "Epoch 110, Loss 0.0447\n",
      "Training Accuracy: 0.9543, Testing Accuracy: 0.9617\n",
      "\n"
     ]
    },
    {
     "name": "stdout",
     "output_type": "stream",
     "text": [
      "Epoch 120, Loss 0.0436\n",
      "Training Accuracy: 0.9552, Testing Accuracy: 0.9627\n",
      "\n"
     ]
    },
    {
     "name": "stdout",
     "output_type": "stream",
     "text": [
      "Epoch 130, Loss 0.0427\n",
      "Training Accuracy: 0.9561, Testing Accuracy: 0.9637\n",
      "\n"
     ]
    },
    {
     "name": "stdout",
     "output_type": "stream",
     "text": [
      "Epoch 140, Loss 0.0419\n",
      "Training Accuracy: 0.9569, Testing Accuracy: 0.9642\n",
      "\n"
     ]
    },
    {
     "name": "stdout",
     "output_type": "stream",
     "text": [
      "Epoch 150, Loss 0.0412\n",
      "Training Accuracy: 0.9575, Testing Accuracy: 0.9647\n",
      "\n"
     ]
    },
    {
     "name": "stdout",
     "output_type": "stream",
     "text": [
      "Epoch 160, Loss 0.0405\n",
      "Training Accuracy: 0.9584, Testing Accuracy: 0.9662\n",
      "\n"
     ]
    },
    {
     "name": "stdout",
     "output_type": "stream",
     "text": [
      "Epoch 170, Loss 0.0399\n",
      "Training Accuracy: 0.9589, Testing Accuracy: 0.9662\n",
      "\n"
     ]
    },
    {
     "name": "stdout",
     "output_type": "stream",
     "text": [
      "Epoch 180, Loss 0.0394\n",
      "Training Accuracy: 0.9593, Testing Accuracy: 0.9662\n",
      "\n"
     ]
    },
    {
     "name": "stdout",
     "output_type": "stream",
     "text": [
      "Epoch 190, Loss 0.0389\n",
      "Training Accuracy: 0.9596, Testing Accuracy: 0.9657\n",
      "\n"
     ]
    },
    {
     "name": "stdout",
     "output_type": "stream",
     "text": [
      "Epoch 200, Loss 0.0384\n",
      "Training Accuracy: 0.9600, Testing Accuracy: 0.9657\n",
      "\n"
     ]
    },
    {
     "name": "stdout",
     "output_type": "stream",
     "text": [
      "Epoch 210, Loss 0.038\n",
      "Training Accuracy: 0.9607, Testing Accuracy: 0.9662\n",
      "\n"
     ]
    },
    {
     "name": "stdout",
     "output_type": "stream",
     "text": [
      "Epoch 220, Loss 0.0375\n",
      "Training Accuracy: 0.9609, Testing Accuracy: 0.9667\n",
      "\n"
     ]
    },
    {
     "name": "stdout",
     "output_type": "stream",
     "text": [
      "Epoch 230, Loss 0.0372\n",
      "Training Accuracy: 0.9614, Testing Accuracy: 0.9667\n",
      "\n"
     ]
    },
    {
     "name": "stdout",
     "output_type": "stream",
     "text": [
      "Epoch 240, Loss 0.0368\n",
      "Training Accuracy: 0.9615, Testing Accuracy: 0.9672\n",
      "\n"
     ]
    },
    {
     "data": {
      "text/plain": [
       "0.0391414921319726"
      ]
     },
     "execution_count": 23,
     "metadata": {},
     "output_type": "execute_result"
    }
   ],
   "source": [
    "lr_learner.train_loop(dl)"
   ]
  },
  {
   "cell_type": "code",
   "execution_count": 24,
   "id": "ca410940",
   "metadata": {
    "execution": {
     "iopub.execute_input": "2022-11-17T10:12:14.812571Z",
     "iopub.status.busy": "2022-11-17T10:12:14.811989Z",
     "iopub.status.idle": "2022-11-17T10:12:15.037691Z",
     "shell.execute_reply": "2022-11-17T10:12:15.037134Z"
    },
    "papermill": {
     "duration": 0.277725,
     "end_time": "2022-11-17T10:12:15.037820",
     "exception": false,
     "start_time": "2022-11-17T10:12:14.760095",
     "status": "completed"
    },
    "tags": []
   },
   "outputs": [
    {
     "data": {
      "text/plain": [
       "<matplotlib.legend.Legend at 0x7f222b598518>"
      ]
     },
     "execution_count": 24,
     "metadata": {},
     "output_type": "execute_result"
    },
    {
     "data": {
      "image/png": "[encoded data removed]",
      "text/plain": [
       "<Figure size 1080x720 with 1 Axes>"
      ]
     },
     "metadata": {
      "needs_background": "light"
     },
     "output_type": "display_data"
    }
   ],
   "source": [
    "#comparing the results of NN and LR\n",
    "plt.figure(figsize=(15,10))\n",
    "\n",
    "# Neural Network plots\n",
    "plt.plot(acc_nn.accuracies, 'r-', label = \"Training Accuracies - NN\")\n",
    "plt.plot(acc_nn.test_accuracies, 'g-', label = \"Testing Accuracies - NN\")\n",
    "\n",
    "# Logistic Regression plots\n",
    "plt.plot(acc_lr.accuracies, 'k-', label = \"Training Accuracies - LR\")\n",
    "plt.plot(acc_lr.test_accuracies, 'b-', label = \"Testing Accuracies - LR\")\n",
    "plt.legend()"
   ]
  },
  {
   "cell_type": "markdown",
   "id": "80dfb35c",
   "metadata": {
    "papermill": {
     "duration": 0.0412,
     "end_time": "2022-11-17T10:12:15.121167",
     "exception": false,
     "start_time": "2022-11-17T10:12:15.079967",
     "status": "completed"
    },
    "tags": []
   },
   "source": [
    "#### Plotting the outputs of this layer of the NN.\n"
   ]
  },
  {
   "cell_type": "code",
   "execution_count": 25,
   "id": "45eb2ff5",
   "metadata": {
    "execution": {
     "iopub.execute_input": "2022-11-17T10:12:15.217240Z",
     "iopub.status.busy": "2022-11-17T10:12:15.216653Z",
     "iopub.status.idle": "2022-11-17T10:12:15.232241Z",
     "shell.execute_reply": "2022-11-17T10:12:15.231607Z"
    },
    "papermill": {
     "duration": 0.070189,
     "end_time": "2022-11-17T10:12:15.232352",
     "exception": false,
     "start_time": "2022-11-17T10:12:15.162163",
     "status": "completed"
    },
    "tags": []
   },
   "outputs": [],
   "source": [
    "new_model = Model(layers[:-2])\n",
    "testing_plot = new_model(testing_data_x)"
   ]
  },
  {
   "cell_type": "code",
   "execution_count": 26,
   "id": "4c0a5485",
   "metadata": {
    "execution": {
     "iopub.execute_input": "2022-11-17T10:12:15.328365Z",
     "iopub.status.busy": "2022-11-17T10:12:15.327793Z",
     "iopub.status.idle": "2022-11-17T10:12:15.533845Z",
     "shell.execute_reply": "2022-11-17T10:12:15.534406Z"
    },
    "papermill": {
     "duration": 0.258806,
     "end_time": "2022-11-17T10:12:15.534541",
     "exception": false,
     "start_time": "2022-11-17T10:12:15.275735",
     "status": "completed"
    },
    "tags": []
   },
   "outputs": [
    {
     "data": {
      "text/plain": [
       "Text(0.5, 1.0, 'Outputs')"
      ]
     },
     "execution_count": 26,
     "metadata": {},
     "output_type": "execute_result"
    },
    {
     "data": {
      "image/png": "[encoded data removed]",
      "text/plain": [
       "<Figure size 576x504 with 1 Axes>"
      ]
     },
     "metadata": {
      "needs_background": "light"
     },
     "output_type": "display_data"
    }
   ],
   "source": [
    "# Plotting the scatter plot of points and color coding by class\n",
    "plt.figure(figsize=(8,7))\n",
    "plt.scatter(testing_plot[:,0], testing_plot[:,1], alpha = 0.1, c = y_test.ravel());\n",
    "plt.title('Outputs')"
   ]
  },
  {
   "cell_type": "markdown",
   "id": "a74fcf8f",
   "metadata": {
    "papermill": {
     "duration": 0.043417,
     "end_time": "2022-11-17T10:12:15.622012",
     "exception": false,
     "start_time": "2022-11-17T10:12:15.578595",
     "status": "completed"
    },
    "tags": []
   },
   "source": [
    "Probability contours"
   ]
  },
  {
   "cell_type": "code",
   "execution_count": 27,
   "id": "d0afc8e3",
   "metadata": {
    "execution": {
     "iopub.execute_input": "2022-11-17T10:12:15.719946Z",
     "iopub.status.busy": "2022-11-17T10:12:15.714513Z",
     "iopub.status.idle": "2022-11-17T10:12:15.728924Z",
     "shell.execute_reply": "2022-11-17T10:12:15.729365Z"
    },
    "papermill": {
     "duration": 0.06393,
     "end_time": "2022-11-17T10:12:15.729491",
     "exception": false,
     "start_time": "2022-11-17T10:12:15.665561",
     "status": "completed"
    },
    "tags": []
   },
   "outputs": [],
   "source": [
    "model_prob = Model(layers[-2:]) "
   ]
  },
  {
   "cell_type": "code",
   "execution_count": 28,
   "id": "9b96e238",
   "metadata": {
    "execution": {
     "iopub.execute_input": "2022-11-17T10:12:15.827821Z",
     "iopub.status.busy": "2022-11-17T10:12:15.821220Z",
     "iopub.status.idle": "2022-11-17T10:12:15.838274Z",
     "shell.execute_reply": "2022-11-17T10:12:15.837716Z"
    },
    "papermill": {
     "duration": 0.064878,
     "end_time": "2022-11-17T10:12:15.838379",
     "exception": false,
     "start_time": "2022-11-17T10:12:15.773501",
     "status": "completed"
    },
    "tags": []
   },
   "outputs": [],
   "source": [
    "#creating the x and y ranges according to the above generated plot.\n",
    "x_range = np.linspace(-4, 1, 100) \n",
    "y_range = np.linspace(-6, 6, 100) \n",
    "x_grid, y_grid = np.meshgrid(x_range, y_range) # x_grid and y_grig are of size 100 X 100\n",
    "\n",
    "# converting x_grid and y_grid to continuous arrays\n",
    "x_gridflat = np.ravel(x_grid)\n",
    "y_gridflat = np.ravel(y_grid)\n",
    "\n",
    "# The last layer of the current model takes two columns as input. Hence transpose of np.vstack() is required.\n",
    "X = np.vstack((x_gridflat, y_gridflat)).T\n",
    "\n",
    "prob_contour = model_prob(X).reshape(100,100) "
   ]
  },
  {
   "cell_type": "code",
   "execution_count": 29,
   "id": "da72499a",
   "metadata": {
    "execution": {
     "iopub.execute_input": "2022-11-17T10:12:15.970572Z",
     "iopub.status.busy": "2022-11-17T10:12:15.968713Z",
     "iopub.status.idle": "2022-11-17T10:12:16.201911Z",
     "shell.execute_reply": "2022-11-17T10:12:16.200821Z"
    },
    "papermill": {
     "duration": 0.286255,
     "end_time": "2022-11-17T10:12:16.202034",
     "exception": false,
     "start_time": "2022-11-17T10:12:15.915779",
     "status": "completed"
    },
    "tags": []
   },
   "outputs": [
    {
     "data": {
      "image/png": "[encoded data removed]",
      "text/plain": [
       "<Figure size 720x648 with 1 Axes>"
      ]
     },
     "metadata": {
      "needs_background": "light"
     },
     "output_type": "display_data"
    }
   ],
   "source": [
    "plt.figure(figsize=(10,9))\n",
    "plt.scatter(testing_plot[:,0], testing_plot[:,1], alpha = 0.1, c = y_test.ravel())\n",
    "contours = plt.contour(x_grid,y_grid,prob_contour)\n",
    "plt.title('Probability Contours')\n",
    "plt.clabel(contours, inline = True );"
   ]
  },
  {
   "cell_type": "code",
   "execution_count": null,
   "id": "e81b4ac7",
   "metadata": {
    "papermill": {
     "duration": 0.046523,
     "end_time": "2022-11-17T10:12:16.296015",
     "exception": false,
     "start_time": "2022-11-17T10:12:16.249492",
     "status": "completed"
    },
    "tags": []
   },
   "outputs": [],
   "source": []
  }
 ],
 "metadata": {
  "kernelspec": {
   "display_name": "Python 3",
   "language": "python",
   "name": "python3"
  },
  "language_info": {
   "codemirror_mode": {
    "name": "ipython",
    "version": 3
   },
   "file_extension": ".py",
   "mimetype": "text/x-python",
   "name": "python",
   "nbconvert_exporter": "python",
   "pygments_lexer": "ipython3",
   "version": "3.6.15"
  },
  "papermill": {
   "default_parameters": {},
   "duration": 94.368083,
   "end_time": "2022-11-17T10:12:16.761009",
   "environment_variables": {},
   "exception": null,
   "input_path": "2020-08-11-part2.ipynb",
   "output_path": "2020-08-11-part2.ipynb",
   "parameters": {},
   "start_time": "2022-11-17T10:10:42.392926",
   "version": "2.3.3"
  }
 },
 "nbformat": 4,
 "nbformat_minor": 5
}