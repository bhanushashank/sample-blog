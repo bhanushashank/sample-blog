{
 "cells": [
  {
   "cell_type": "markdown",
   "id": "98380cd3",
   "metadata": {
    "papermill": {
     "duration": 0.029185,
     "end_time": "2022-11-01T00:54:30.229967",
     "exception": false,
     "start_time": "2022-11-01T00:54:30.200782",
     "status": "completed"
    },
    "tags": []
   },
   "source": [
    "# Distinguish Your Own Digits (DYOD)"
   ]
  },
  {
   "cell_type": "markdown",
   "id": "ef31240d",
   "metadata": {
    "papermill": {
     "duration": 0.02421,
     "end_time": "2022-11-01T00:54:30.279101",
     "exception": false,
     "start_time": "2022-11-01T00:54:30.254891",
     "status": "completed"
    },
    "tags": []
   },
   "source": [
    "You are going to write a classifier that distinguishes between the number 3 and number 8."
   ]
  },
  {
   "cell_type": "code",
   "execution_count": 1,
   "id": "b15c8646",
   "metadata": {
    "execution": {
     "iopub.execute_input": "2022-11-01T00:54:30.338102Z",
     "iopub.status.busy": "2022-11-01T00:54:30.337543Z",
     "iopub.status.idle": "2022-11-01T00:54:30.347965Z",
     "shell.execute_reply": "2022-11-01T00:54:30.347495Z"
    },
    "papermill": {
     "duration": 0.044771,
     "end_time": "2022-11-01T00:54:30.348077",
     "exception": false,
     "start_time": "2022-11-01T00:54:30.303306",
     "status": "completed"
    },
    "tags": []
   },
   "outputs": [],
   "source": [
    "%load_ext autoreload\n",
    "%autoreload 2"
   ]
  },
  {
   "cell_type": "code",
   "execution_count": 2,
   "id": "22ef38dc",
   "metadata": {
    "execution": {
     "iopub.execute_input": "2022-11-01T00:54:30.400619Z",
     "iopub.status.busy": "2022-11-01T00:54:30.400053Z",
     "iopub.status.idle": "2022-11-01T00:54:30.899066Z",
     "shell.execute_reply": "2022-11-01T00:54:30.899495Z"
    },
    "papermill": {
     "duration": 0.527253,
     "end_time": "2022-11-01T00:54:30.899631",
     "exception": false,
     "start_time": "2022-11-01T00:54:30.372378",
     "status": "completed"
    },
    "tags": []
   },
   "outputs": [],
   "source": [
    "%matplotlib inline\n",
    "import numpy as np\n",
    "import matplotlib.pyplot as plt\n",
    "import pandas as pd"
   ]
  },
  {
   "cell_type": "markdown",
   "id": "ba036198",
   "metadata": {
    "papermill": {
     "duration": 0.024429,
     "end_time": "2022-11-01T00:54:30.953150",
     "exception": false,
     "start_time": "2022-11-01T00:54:30.928721",
     "status": "completed"
    },
    "tags": []
   },
   "source": [
    "From the command line run `pip install mnist`. This is a library that will help you bring down the mnist dataset. If you run this from a notebook, you need to put  `!pip install mnist` in a cell by itself."
   ]
  },
  {
   "cell_type": "code",
   "execution_count": 3,
   "id": "bb6ad8a1",
   "metadata": {
    "execution": {
     "iopub.execute_input": "2022-11-01T00:54:31.005665Z",
     "iopub.status.busy": "2022-11-01T00:54:31.005085Z",
     "iopub.status.idle": "2022-11-01T00:54:32.582977Z",
     "shell.execute_reply": "2022-11-01T00:54:32.582248Z"
    },
    "papermill": {
     "duration": 1.605548,
     "end_time": "2022-11-01T00:54:32.583090",
     "exception": false,
     "start_time": "2022-11-01T00:54:30.977542",
     "status": "completed"
    },
    "tags": []
   },
   "outputs": [
    {
     "name": "stdout",
     "output_type": "stream",
     "text": [
      "Collecting mnist\r\n"
     ]
    },
    {
     "name": "stdout",
     "output_type": "stream",
     "text": [
      "  Downloading mnist-0.2.2-py2.py3-none-any.whl (3.5 kB)\r\n",
      "Requirement already satisfied: numpy in /opt/hostedtoolcache/Python/3.6.15/x64/lib/python3.6/site-packages (from mnist) (1.19.5)\r\n"
     ]
    },
    {
     "name": "stdout",
     "output_type": "stream",
     "text": [
      "Installing collected packages: mnist\r\n",
      "Successfully installed mnist-0.2.2\r\n"
     ]
    }
   ],
   "source": [
    "!pip install mnist"
   ]
  },
  {
   "cell_type": "markdown",
   "id": "69df9c9a",
   "metadata": {
    "papermill": {
     "duration": 0.025129,
     "end_time": "2022-11-01T00:54:32.633612",
     "exception": false,
     "start_time": "2022-11-01T00:54:32.608483",
     "status": "completed"
    },
    "tags": []
   },
   "source": [
    "## Preparing the Data"
   ]
  },
  {
   "cell_type": "code",
   "execution_count": 4,
   "id": "7f69d806",
   "metadata": {
    "execution": {
     "iopub.execute_input": "2022-11-01T00:54:32.687294Z",
     "iopub.status.busy": "2022-11-01T00:54:32.686744Z",
     "iopub.status.idle": "2022-11-01T00:54:32.700906Z",
     "shell.execute_reply": "2022-11-01T00:54:32.700446Z"
    },
    "papermill": {
     "duration": 0.042314,
     "end_time": "2022-11-01T00:54:32.701003",
     "exception": false,
     "start_time": "2022-11-01T00:54:32.658689",
     "status": "completed"
    },
    "tags": []
   },
   "outputs": [],
   "source": [
    "import mnist"
   ]
  },
  {
   "cell_type": "code",
   "execution_count": 5,
   "id": "a411e44f",
   "metadata": {
    "execution": {
     "iopub.execute_input": "2022-11-01T00:54:32.755316Z",
     "iopub.status.busy": "2022-11-01T00:54:32.754771Z",
     "iopub.status.idle": "2022-11-01T00:54:33.313886Z",
     "shell.execute_reply": "2022-11-01T00:54:33.313290Z"
    },
    "papermill": {
     "duration": 0.587631,
     "end_time": "2022-11-01T00:54:33.313996",
     "exception": false,
     "start_time": "2022-11-01T00:54:32.726365",
     "status": "completed"
    },
    "tags": []
   },
   "outputs": [],
   "source": [
    "train_images = mnist.train_images()\n",
    "train_labels = mnist.train_labels()"
   ]
  },
  {
   "cell_type": "code",
   "execution_count": 6,
   "id": "dceab3a5",
   "metadata": {
    "execution": {
     "iopub.execute_input": "2022-11-01T00:54:33.368211Z",
     "iopub.status.busy": "2022-11-01T00:54:33.367648Z",
     "iopub.status.idle": "2022-11-01T00:54:33.381066Z",
     "shell.execute_reply": "2022-11-01T00:54:33.381514Z"
    },
    "papermill": {
     "duration": 0.042048,
     "end_time": "2022-11-01T00:54:33.381633",
     "exception": false,
     "start_time": "2022-11-01T00:54:33.339585",
     "status": "completed"
    },
    "tags": []
   },
   "outputs": [
    {
     "data": {
      "text/plain": [
       "((60000, 28, 28), (60000,))"
      ]
     },
     "execution_count": 6,
     "metadata": {},
     "output_type": "execute_result"
    }
   ],
   "source": [
    "train_images.shape, train_labels.shape"
   ]
  },
  {
   "cell_type": "code",
   "execution_count": 7,
   "id": "f50dc2bb",
   "metadata": {
    "execution": {
     "iopub.execute_input": "2022-11-01T00:54:33.436105Z",
     "iopub.status.busy": "2022-11-01T00:54:33.435556Z",
     "iopub.status.idle": "2022-11-01T00:54:33.657096Z",
     "shell.execute_reply": "2022-11-01T00:54:33.656021Z"
    },
    "papermill": {
     "duration": 0.250266,
     "end_time": "2022-11-01T00:54:33.657225",
     "exception": false,
     "start_time": "2022-11-01T00:54:33.406959",
     "status": "completed"
    },
    "tags": []
   },
   "outputs": [],
   "source": [
    "test_images = mnist.test_images()\n",
    "test_labels = mnist.test_labels()"
   ]
  },
  {
   "cell_type": "code",
   "execution_count": 8,
   "id": "fc38cf1b",
   "metadata": {
    "execution": {
     "iopub.execute_input": "2022-11-01T00:54:33.712161Z",
     "iopub.status.busy": "2022-11-01T00:54:33.711614Z",
     "iopub.status.idle": "2022-11-01T00:54:33.724003Z",
     "shell.execute_reply": "2022-11-01T00:54:33.723553Z"
    },
    "papermill": {
     "duration": 0.041105,
     "end_time": "2022-11-01T00:54:33.724101",
     "exception": false,
     "start_time": "2022-11-01T00:54:33.682996",
     "status": "completed"
    },
    "tags": []
   },
   "outputs": [
    {
     "data": {
      "text/plain": [
       "((10000, 28, 28), (10000,))"
      ]
     },
     "execution_count": 8,
     "metadata": {},
     "output_type": "execute_result"
    }
   ],
   "source": [
    "test_images.shape, test_labels.shape"
   ]
  },
  {
   "cell_type": "code",
   "execution_count": 9,
   "id": "f9ed8fe0",
   "metadata": {
    "execution": {
     "iopub.execute_input": "2022-11-01T00:54:33.778715Z",
     "iopub.status.busy": "2022-11-01T00:54:33.778168Z",
     "iopub.status.idle": "2022-11-01T00:54:33.908088Z",
     "shell.execute_reply": "2022-11-01T00:54:33.908517Z"
    },
    "papermill": {
     "duration": 0.158838,
     "end_time": "2022-11-01T00:54:33.908642",
     "exception": false,
     "start_time": "2022-11-01T00:54:33.749804",
     "status": "completed"
    },
    "tags": []
   },
   "outputs": [
    {
     "name": "stdout",
     "output_type": "stream",
     "text": [
      "2\n"
     ]
    },
    {
     "data": {
      "text/plain": [
       "<matplotlib.image.AxesImage at 0x7f352f2b7cf8>"
      ]
     },
     "execution_count": 9,
     "metadata": {},
     "output_type": "execute_result"
    },
    {
     "data": {
      "image/png": "[encoded data removed]",
      "text/plain": [
       "<Figure size 432x288 with 1 Axes>"
      ]
     },
     "metadata": {
      "needs_background": "light"
     },
     "output_type": "display_data"
    }
   ],
   "source": [
    "image_index = 7776 # You may select anything up to 60,000\n",
    "print(train_labels[image_index]) \n",
    "plt.imshow(train_images[image_index], cmap='Greys')"
   ]
  },
  {
   "cell_type": "markdown",
   "id": "a8d2388d",
   "metadata": {
    "papermill": {
     "duration": 0.027159,
     "end_time": "2022-11-01T00:54:33.962826",
     "exception": false,
     "start_time": "2022-11-01T00:54:33.935667",
     "status": "completed"
    },
    "tags": []
   },
   "source": [
    "## Filter data to get 3 and 8 out"
   ]
  },
  {
   "cell_type": "code",
   "execution_count": 10,
   "id": "776f7fc7",
   "metadata": {
    "execution": {
     "iopub.execute_input": "2022-11-01T00:54:34.020431Z",
     "iopub.status.busy": "2022-11-01T00:54:34.019873Z",
     "iopub.status.idle": "2022-11-01T00:54:34.034526Z",
     "shell.execute_reply": "2022-11-01T00:54:34.034071Z"
    },
    "papermill": {
     "duration": 0.044912,
     "end_time": "2022-11-01T00:54:34.034625",
     "exception": false,
     "start_time": "2022-11-01T00:54:33.989713",
     "status": "completed"
    },
    "tags": []
   },
   "outputs": [],
   "source": [
    "train_filter = np.where((train_labels == 3 ) | (train_labels == 8))\n",
    "test_filter = np.where((test_labels == 3) | (test_labels == 8))\n",
    "X_train, y_train = train_images[train_filter], train_labels[train_filter]\n",
    "X_test, y_test = test_images[test_filter], test_labels[test_filter]"
   ]
  },
  {
   "cell_type": "markdown",
   "id": "948f0b7e",
   "metadata": {
    "papermill": {
     "duration": 0.027151,
     "end_time": "2022-11-01T00:54:34.088907",
     "exception": false,
     "start_time": "2022-11-01T00:54:34.061756",
     "status": "completed"
    },
    "tags": []
   },
   "source": [
    "We normalize the pizel values in the 0 to 1 range"
   ]
  },
  {
   "cell_type": "code",
   "execution_count": 11,
   "id": "ee4c2166",
   "metadata": {
    "execution": {
     "iopub.execute_input": "2022-11-01T00:54:34.146107Z",
     "iopub.status.busy": "2022-11-01T00:54:34.145544Z",
     "iopub.status.idle": "2022-11-01T00:54:34.183542Z",
     "shell.execute_reply": "2022-11-01T00:54:34.183054Z"
    },
    "papermill": {
     "duration": 0.067749,
     "end_time": "2022-11-01T00:54:34.183650",
     "exception": false,
     "start_time": "2022-11-01T00:54:34.115901",
     "status": "completed"
    },
    "tags": []
   },
   "outputs": [],
   "source": [
    "X_train = X_train/255.\n",
    "X_test = X_test/255."
   ]
  },
  {
   "cell_type": "markdown",
   "id": "ddcf4fab",
   "metadata": {
    "papermill": {
     "duration": 0.026802,
     "end_time": "2022-11-01T00:54:34.237571",
     "exception": false,
     "start_time": "2022-11-01T00:54:34.210769",
     "status": "completed"
    },
    "tags": []
   },
   "source": [
    "And setup the labels as 1 (when the digit is 3) and 0 (when the digit is 8)"
   ]
  },
  {
   "cell_type": "code",
   "execution_count": 12,
   "id": "7dc908f2",
   "metadata": {
    "execution": {
     "iopub.execute_input": "2022-11-01T00:54:34.294813Z",
     "iopub.status.busy": "2022-11-01T00:54:34.294260Z",
     "iopub.status.idle": "2022-11-01T00:54:34.305589Z",
     "shell.execute_reply": "2022-11-01T00:54:34.306002Z"
    },
    "papermill": {
     "duration": 0.041616,
     "end_time": "2022-11-01T00:54:34.306113",
     "exception": false,
     "start_time": "2022-11-01T00:54:34.264497",
     "status": "completed"
    },
    "tags": []
   },
   "outputs": [],
   "source": [
    "y_train = 1*(y_train==3)\n",
    "y_test = 1*(y_test==3)"
   ]
  },
  {
   "cell_type": "code",
   "execution_count": 13,
   "id": "01e4e969",
   "metadata": {
    "execution": {
     "iopub.execute_input": "2022-11-01T00:54:34.363429Z",
     "iopub.status.busy": "2022-11-01T00:54:34.362882Z",
     "iopub.status.idle": "2022-11-01T00:54:34.375642Z",
     "shell.execute_reply": "2022-11-01T00:54:34.375105Z"
    },
    "papermill": {
     "duration": 0.04252,
     "end_time": "2022-11-01T00:54:34.375737",
     "exception": false,
     "start_time": "2022-11-01T00:54:34.333217",
     "status": "completed"
    },
    "tags": []
   },
   "outputs": [
    {
     "data": {
      "text/plain": [
       "((11982, 28, 28), (1984, 28, 28))"
      ]
     },
     "execution_count": 13,
     "metadata": {},
     "output_type": "execute_result"
    }
   ],
   "source": [
    "X_train.shape, X_test.shape"
   ]
  },
  {
   "cell_type": "markdown",
   "id": "5ccf3f85",
   "metadata": {
    "papermill": {
     "duration": 0.027073,
     "end_time": "2022-11-01T00:54:34.429808",
     "exception": false,
     "start_time": "2022-11-01T00:54:34.402735",
     "status": "completed"
    },
    "tags": []
   },
   "source": [
    "We reshape the data to flatten the image pixels into a set of features or co-variates:"
   ]
  },
  {
   "cell_type": "code",
   "execution_count": 14,
   "id": "5286a4a3",
   "metadata": {
    "execution": {
     "iopub.execute_input": "2022-11-01T00:54:34.487705Z",
     "iopub.status.busy": "2022-11-01T00:54:34.487153Z",
     "iopub.status.idle": "2022-11-01T00:54:34.500081Z",
     "shell.execute_reply": "2022-11-01T00:54:34.499631Z"
    },
    "papermill": {
     "duration": 0.043247,
     "end_time": "2022-11-01T00:54:34.500180",
     "exception": false,
     "start_time": "2022-11-01T00:54:34.456933",
     "status": "completed"
    },
    "tags": []
   },
   "outputs": [
    {
     "data": {
      "text/plain": [
       "((11982, 784), (1984, 784))"
      ]
     },
     "execution_count": 14,
     "metadata": {},
     "output_type": "execute_result"
    }
   ],
   "source": [
    "X_train = X_train.reshape(X_train.shape[0], -1)\n",
    "X_test = X_test.reshape(X_test.shape[0], -1)\n",
    "X_train.shape, X_test.shape"
   ]
  },
  {
   "cell_type": "code",
   "execution_count": 15,
   "id": "73c5f88a",
   "metadata": {
    "execution": {
     "iopub.execute_input": "2022-11-01T00:54:34.558962Z",
     "iopub.status.busy": "2022-11-01T00:54:34.558419Z",
     "iopub.status.idle": "2022-11-01T00:54:34.576490Z",
     "shell.execute_reply": "2022-11-01T00:54:34.575909Z"
    },
    "papermill": {
     "duration": 0.048986,
     "end_time": "2022-11-01T00:54:34.576595",
     "exception": false,
     "start_time": "2022-11-01T00:54:34.527609",
     "status": "completed"
    },
    "tags": []
   },
   "outputs": [],
   "source": [
    "#Impoting functions from 'Kudzu'\n",
    "from kudzu.model import Model\n",
    "from kudzu.train import Learner\n",
    "from kudzu.optim import GD\n",
    "from kudzu.data import Data, Sampler,Dataloader\n",
    "\n",
    "from kudzu.callbacks import AccCallback\n",
    "from kudzu.callbacks import ClfCallback\n",
    "\n",
    "from kudzu.loss import MSE\n",
    "\n",
    "from kudzu.layer import Sigmoid,Relu\n",
    "from kudzu.layer import Affine"
   ]
  },
  {
   "cell_type": "markdown",
   "id": "bc01172a",
   "metadata": {
    "papermill": {
     "duration": 0.027536,
     "end_time": "2022-11-01T00:54:34.633080",
     "exception": false,
     "start_time": "2022-11-01T00:54:34.605544",
     "status": "completed"
    },
    "tags": []
   },
   "source": [
    "### Let us create a `Config` class, to store important parameters. \n",
    "This class essentially plays the role of a dictionary."
   ]
  },
  {
   "cell_type": "code",
   "execution_count": 16,
   "id": "978281aa",
   "metadata": {
    "execution": {
     "iopub.execute_input": "2022-11-01T00:54:34.691230Z",
     "iopub.status.busy": "2022-11-01T00:54:34.690668Z",
     "iopub.status.idle": "2022-11-01T00:54:34.702132Z",
     "shell.execute_reply": "2022-11-01T00:54:34.702585Z"
    },
    "papermill": {
     "duration": 0.042398,
     "end_time": "2022-11-01T00:54:34.702696",
     "exception": false,
     "start_time": "2022-11-01T00:54:34.660298",
     "status": "completed"
    },
    "tags": []
   },
   "outputs": [],
   "source": [
    "class Config:\n",
    "    pass\n",
    "config = Config()\n",
    "config.lr = 0.001\n",
    "config.num_epochs = 250\n",
    "config.bs = 50"
   ]
  },
  {
   "cell_type": "markdown",
   "id": "1385fa59",
   "metadata": {
    "papermill": {
     "duration": 0.027496,
     "end_time": "2022-11-01T00:54:34.757595",
     "exception": false,
     "start_time": "2022-11-01T00:54:34.730099",
     "status": "completed"
    },
    "tags": []
   },
   "source": [
    "### Running Models with the Training data\n",
    "Details about the network layers:\n",
    "- A first affine layer has 784 inputs and does 100 affine transforms. These are followed by a Relu\n",
    "- A second affine layer has 100 inputs from the 100 activations of the past layer, and does 100 affine transforms. These are followed by a Relu\n",
    "- A third affine layer has 100 activations and does 2 affine transformations to create an embedding for visualization. There is no non-linearity here.\n",
    "- A final \"logistic regression\" which has an affine transform from 2 inputs to 1 output, which is squeezed through a sigmoid.\n"
   ]
  },
  {
   "cell_type": "code",
   "execution_count": 17,
   "id": "2b9c66db",
   "metadata": {
    "execution": {
     "iopub.execute_input": "2022-11-01T00:54:34.815949Z",
     "iopub.status.busy": "2022-11-01T00:54:34.815402Z",
     "iopub.status.idle": "2022-11-01T00:54:34.827380Z",
     "shell.execute_reply": "2022-11-01T00:54:34.826850Z"
    },
    "papermill": {
     "duration": 0.042641,
     "end_time": "2022-11-01T00:54:34.827479",
     "exception": false,
     "start_time": "2022-11-01T00:54:34.784838",
     "status": "completed"
    },
    "tags": []
   },
   "outputs": [],
   "source": [
    "data = Data(X_train, y_train.reshape(-1,1))\n",
    "sampler = Sampler(data, config.bs, shuffle=True)\n",
    "\n",
    "dl = Dataloader(data, sampler)\n",
    "\n",
    "opt = GD(config.lr)\n",
    "loss = MSE()"
   ]
  },
  {
   "cell_type": "code",
   "execution_count": 18,
   "id": "b275e4c2",
   "metadata": {
    "execution": {
     "iopub.execute_input": "2022-11-01T00:54:34.886730Z",
     "iopub.status.busy": "2022-11-01T00:54:34.886170Z",
     "iopub.status.idle": "2022-11-01T00:54:34.897486Z",
     "shell.execute_reply": "2022-11-01T00:54:34.897918Z"
    },
    "papermill": {
     "duration": 0.042174,
     "end_time": "2022-11-01T00:54:34.898036",
     "exception": false,
     "start_time": "2022-11-01T00:54:34.855862",
     "status": "completed"
    },
    "tags": []
   },
   "outputs": [],
   "source": [
    "training_data_x = X_train\n",
    "testing_data_x = X_test\n",
    "training_data_y = y_train.reshape(-1,1)\n",
    "testing_data_y = y_test.reshape(-1,1)"
   ]
  },
  {
   "cell_type": "code",
   "execution_count": 19,
   "id": "76951160",
   "metadata": {
    "execution": {
     "iopub.execute_input": "2022-11-01T00:54:34.956555Z",
     "iopub.status.busy": "2022-11-01T00:54:34.956009Z",
     "iopub.status.idle": "2022-11-01T00:54:34.971918Z",
     "shell.execute_reply": "2022-11-01T00:54:34.971370Z"
    },
    "papermill": {
     "duration": 0.046789,
     "end_time": "2022-11-01T00:54:34.972017",
     "exception": false,
     "start_time": "2022-11-01T00:54:34.925228",
     "status": "completed"
    },
    "tags": []
   },
   "outputs": [
    {
     "name": "stdout",
     "output_type": "stream",
     "text": [
      "xavier\n",
      "xavier\n",
      "xavier\n",
      "xavier\n",
      "xavier\n"
     ]
    }
   ],
   "source": [
    "layers = [Affine(\"first\", 784, 100), Relu(\"first\"), Affine(\"second\", 100, 100), Relu(\"second\"), Affine(\"third\", 100, 2), Affine(\"last\", 2, 1), Sigmoid(\"last\")]\n",
    "model_nn = Model(layers)\n",
    "model_lr = Model([Affine(\"logits\", 784, 1), Sigmoid(\"sigmoid\")])"
   ]
  },
  {
   "cell_type": "code",
   "execution_count": 20,
   "id": "6eede77a",
   "metadata": {
    "execution": {
     "iopub.execute_input": "2022-11-01T00:54:35.031045Z",
     "iopub.status.busy": "2022-11-01T00:54:35.030490Z",
     "iopub.status.idle": "2022-11-01T00:54:35.041965Z",
     "shell.execute_reply": "2022-11-01T00:54:35.041491Z"
    },
    "papermill": {
     "duration": 0.042216,
     "end_time": "2022-11-01T00:54:35.042062",
     "exception": false,
     "start_time": "2022-11-01T00:54:34.999846",
     "status": "completed"
    },
    "tags": []
   },
   "outputs": [],
   "source": [
    "nn_learner = Learner(loss, model_nn, opt, config.num_epochs)\n",
    "acc_nn = ClfCallback(nn_learner, config.bs, training_data_x , testing_data_x, training_data_y, testing_data_y)\n",
    "nn_learner.set_callbacks([acc_nn])"
   ]
  },
  {
   "cell_type": "code",
   "execution_count": 21,
   "id": "877b6cc7",
   "metadata": {
    "execution": {
     "iopub.execute_input": "2022-11-01T00:54:35.101077Z",
     "iopub.status.busy": "2022-11-01T00:54:35.100512Z",
     "iopub.status.idle": "2022-11-01T00:54:35.111521Z",
     "shell.execute_reply": "2022-11-01T00:54:35.111934Z"
    },
    "papermill": {
     "duration": 0.042356,
     "end_time": "2022-11-01T00:54:35.112048",
     "exception": false,
     "start_time": "2022-11-01T00:54:35.069692",
     "status": "completed"
    },
    "tags": []
   },
   "outputs": [],
   "source": [
    "lr_learner = Learner(loss, model_lr, opt, config.num_epochs)\n",
    "acc_lr = ClfCallback(lr_learner, config.bs, training_data_x , testing_data_x, training_data_y, testing_data_y)\n",
    "lr_learner.set_callbacks([acc_lr])"
   ]
  },
  {
   "cell_type": "code",
   "execution_count": 22,
   "id": "d9b133c3",
   "metadata": {
    "execution": {
     "iopub.execute_input": "2022-11-01T00:54:35.173883Z",
     "iopub.status.busy": "2022-11-01T00:54:35.171526Z",
     "iopub.status.idle": "2022-11-01T00:57:29.706308Z",
     "shell.execute_reply": "2022-11-01T00:57:29.706747Z"
    },
    "papermill": {
     "duration": 174.56716,
     "end_time": "2022-11-01T00:57:29.706872",
     "exception": false,
     "start_time": "2022-11-01T00:54:35.139712",
     "status": "completed"
    },
    "tags": []
   },
   "outputs": [
    {
     "name": "stdout",
     "output_type": "stream",
     "text": [
      "Epoch 0, Loss 0.2351\n",
      "Training Accuracy: 0.7241, Testing Accuracy: 0.7429\n",
      "\n"
     ]
    },
    {
     "name": "stdout",
     "output_type": "stream",
     "text": [
      "Epoch 10, Loss 0.077\n",
      "Training Accuracy: 0.9298, Testing Accuracy: 0.9380\n",
      "\n"
     ]
    },
    {
     "name": "stdout",
     "output_type": "stream",
     "text": [
      "Epoch 20, Loss 0.0509\n",
      "Training Accuracy: 0.9460, Testing Accuracy: 0.9572\n",
      "\n"
     ]
    },
    {
     "name": "stdout",
     "output_type": "stream",
     "text": [
      "Epoch 30, Loss 0.0419\n",
      "Training Accuracy: 0.9540, Testing Accuracy: 0.9607\n",
      "\n"
     ]
    },
    {
     "name": "stdout",
     "output_type": "stream",
     "text": [
      "Epoch 40, Loss 0.0371\n",
      "Training Accuracy: 0.9582, Testing Accuracy: 0.9627\n",
      "\n"
     ]
    },
    {
     "name": "stdout",
     "output_type": "stream",
     "text": [
      "Epoch 50, Loss 0.0341\n",
      "Training Accuracy: 0.9609, Testing Accuracy: 0.9642\n",
      "\n"
     ]
    },
    {
     "name": "stdout",
     "output_type": "stream",
     "text": [
      "Epoch 60, Loss 0.0318\n",
      "Training Accuracy: 0.9627, Testing Accuracy: 0.9667\n",
      "\n"
     ]
    },
    {
     "name": "stdout",
     "output_type": "stream",
     "text": [
      "Epoch 70, Loss 0.0301\n",
      "Training Accuracy: 0.9641, Testing Accuracy: 0.9682\n",
      "\n"
     ]
    },
    {
     "name": "stdout",
     "output_type": "stream",
     "text": [
      "Epoch 80, Loss 0.0287\n",
      "Training Accuracy: 0.9657, Testing Accuracy: 0.9698\n",
      "\n"
     ]
    },
    {
     "name": "stdout",
     "output_type": "stream",
     "text": [
      "Epoch 90, Loss 0.0275\n",
      "Training Accuracy: 0.9667, Testing Accuracy: 0.9698\n",
      "\n"
     ]
    },
    {
     "name": "stdout",
     "output_type": "stream",
     "text": [
      "Epoch 100, Loss 0.0265\n",
      "Training Accuracy: 0.9681, Testing Accuracy: 0.9698\n",
      "\n"
     ]
    },
    {
     "name": "stdout",
     "output_type": "stream",
     "text": [
      "Epoch 110, Loss 0.0257\n",
      "Training Accuracy: 0.9690, Testing Accuracy: 0.9713\n",
      "\n"
     ]
    },
    {
     "name": "stdout",
     "output_type": "stream",
     "text": [
      "Epoch 120, Loss 0.0249\n",
      "Training Accuracy: 0.9700, Testing Accuracy: 0.9723\n",
      "\n"
     ]
    },
    {
     "name": "stdout",
     "output_type": "stream",
     "text": [
      "Epoch 130, Loss 0.0241\n",
      "Training Accuracy: 0.9711, Testing Accuracy: 0.9733\n",
      "\n"
     ]
    },
    {
     "name": "stdout",
     "output_type": "stream",
     "text": [
      "Epoch 140, Loss 0.0235\n",
      "Training Accuracy: 0.9724, Testing Accuracy: 0.9733\n",
      "\n"
     ]
    },
    {
     "name": "stdout",
     "output_type": "stream",
     "text": [
      "Epoch 150, Loss 0.0229\n",
      "Training Accuracy: 0.9729, Testing Accuracy: 0.9738\n",
      "\n"
     ]
    },
    {
     "name": "stdout",
     "output_type": "stream",
     "text": [
      "Epoch 160, Loss 0.0223\n",
      "Training Accuracy: 0.9735, Testing Accuracy: 0.9738\n",
      "\n"
     ]
    },
    {
     "name": "stdout",
     "output_type": "stream",
     "text": [
      "Epoch 170, Loss 0.0218\n",
      "Training Accuracy: 0.9740, Testing Accuracy: 0.9743\n",
      "\n"
     ]
    },
    {
     "name": "stdout",
     "output_type": "stream",
     "text": [
      "Epoch 180, Loss 0.0213\n",
      "Training Accuracy: 0.9749, Testing Accuracy: 0.9743\n",
      "\n"
     ]
    },
    {
     "name": "stdout",
     "output_type": "stream",
     "text": [
      "Epoch 190, Loss 0.0208\n",
      "Training Accuracy: 0.9754, Testing Accuracy: 0.9748\n",
      "\n"
     ]
    },
    {
     "name": "stdout",
     "output_type": "stream",
     "text": [
      "Epoch 200, Loss 0.0203\n",
      "Training Accuracy: 0.9762, Testing Accuracy: 0.9753\n",
      "\n"
     ]
    },
    {
     "name": "stdout",
     "output_type": "stream",
     "text": [
      "Epoch 210, Loss 0.0199\n",
      "Training Accuracy: 0.9767, Testing Accuracy: 0.9763\n",
      "\n"
     ]
    },
    {
     "name": "stdout",
     "output_type": "stream",
     "text": [
      "Epoch 220, Loss 0.0195\n",
      "Training Accuracy: 0.9779, Testing Accuracy: 0.9763\n",
      "\n"
     ]
    },
    {
     "name": "stdout",
     "output_type": "stream",
     "text": [
      "Epoch 230, Loss 0.0191\n",
      "Training Accuracy: 0.9777, Testing Accuracy: 0.9763\n",
      "\n"
     ]
    },
    {
     "name": "stdout",
     "output_type": "stream",
     "text": [
      "Epoch 240, Loss 0.0187\n",
      "Training Accuracy: 0.9784, Testing Accuracy: 0.9763\n",
      "\n"
     ]
    },
    {
     "data": {
      "text/plain": [
       "0.0007791224556734633"
      ]
     },
     "execution_count": 22,
     "metadata": {},
     "output_type": "execute_result"
    }
   ],
   "source": [
    "nn_learner.train_loop(dl)"
   ]
  },
  {
   "cell_type": "code",
   "execution_count": 23,
   "id": "e0163366",
   "metadata": {
    "execution": {
     "iopub.execute_input": "2022-11-01T00:57:29.783603Z",
     "iopub.status.busy": "2022-11-01T00:57:29.780555Z",
     "iopub.status.idle": "2022-11-01T00:57:41.857649Z",
     "shell.execute_reply": "2022-11-01T00:57:41.858442Z"
    },
    "papermill": {
     "duration": 12.117168,
     "end_time": "2022-11-01T00:57:41.858575",
     "exception": false,
     "start_time": "2022-11-01T00:57:29.741407",
     "status": "completed"
    },
    "tags": []
   },
   "outputs": [
    {
     "name": "stdout",
     "output_type": "stream",
     "text": [
      "Epoch 0, Loss 0.2306\n",
      "Training Accuracy: 0.7163, Testing Accuracy: 0.7374\n",
      "\n"
     ]
    },
    {
     "name": "stdout",
     "output_type": "stream",
     "text": [
      "Epoch 10, Loss 0.1028\n",
      "Training Accuracy: 0.9073, Testing Accuracy: 0.9168\n",
      "\n"
     ]
    },
    {
     "name": "stdout",
     "output_type": "stream",
     "text": [
      "Epoch 20, Loss 0.0792\n",
      "Training Accuracy: 0.9277, Testing Accuracy: 0.9415\n",
      "\n"
     ]
    },
    {
     "name": "stdout",
     "output_type": "stream",
     "text": [
      "Epoch 30, Loss 0.0681\n",
      "Training Accuracy: 0.9367, Testing Accuracy: 0.9481\n",
      "\n"
     ]
    },
    {
     "name": "stdout",
     "output_type": "stream",
     "text": [
      "Epoch 40, Loss 0.0615\n",
      "Training Accuracy: 0.9420, Testing Accuracy: 0.9526\n",
      "\n"
     ]
    },
    {
     "name": "stdout",
     "output_type": "stream",
     "text": [
      "Epoch 50, Loss 0.057\n",
      "Training Accuracy: 0.9456, Testing Accuracy: 0.9541\n",
      "\n"
     ]
    },
    {
     "name": "stdout",
     "output_type": "stream",
     "text": [
      "Epoch 60, Loss 0.0537\n",
      "Training Accuracy: 0.9481, Testing Accuracy: 0.9567\n",
      "\n"
     ]
    },
    {
     "name": "stdout",
     "output_type": "stream",
     "text": [
      "Epoch 70, Loss 0.0511\n",
      "Training Accuracy: 0.9493, Testing Accuracy: 0.9587\n",
      "\n"
     ]
    },
    {
     "name": "stdout",
     "output_type": "stream",
     "text": [
      "Epoch 80, Loss 0.0491\n",
      "Training Accuracy: 0.9508, Testing Accuracy: 0.9592\n",
      "\n"
     ]
    },
    {
     "name": "stdout",
     "output_type": "stream",
     "text": [
      "Epoch 90, Loss 0.0474\n",
      "Training Accuracy: 0.9516, Testing Accuracy: 0.9597\n",
      "\n"
     ]
    },
    {
     "name": "stdout",
     "output_type": "stream",
     "text": [
      "Epoch 100, Loss 0.046\n",
      "Training Accuracy: 0.9519, Testing Accuracy: 0.9607\n",
      "\n"
     ]
    },
    {
     "name": "stdout",
     "output_type": "stream",
     "text": [
      "Epoch 110, Loss 0.0448\n",
      "Training Accuracy: 0.9533, Testing Accuracy: 0.9617\n",
      "\n"
     ]
    },
    {
     "name": "stdout",
     "output_type": "stream",
     "text": [
      "Epoch 120, Loss 0.0437\n",
      "Training Accuracy: 0.9548, Testing Accuracy: 0.9627\n",
      "\n"
     ]
    },
    {
     "name": "stdout",
     "output_type": "stream",
     "text": [
      "Epoch 130, Loss 0.0428\n",
      "Training Accuracy: 0.9561, Testing Accuracy: 0.9627\n",
      "\n"
     ]
    },
    {
     "name": "stdout",
     "output_type": "stream",
     "text": [
      "Epoch 140, Loss 0.042\n",
      "Training Accuracy: 0.9564, Testing Accuracy: 0.9642\n",
      "\n"
     ]
    },
    {
     "name": "stdout",
     "output_type": "stream",
     "text": [
      "Epoch 150, Loss 0.0413\n",
      "Training Accuracy: 0.9569, Testing Accuracy: 0.9642\n",
      "\n"
     ]
    },
    {
     "name": "stdout",
     "output_type": "stream",
     "text": [
      "Epoch 160, Loss 0.0406\n",
      "Training Accuracy: 0.9574, Testing Accuracy: 0.9642\n",
      "\n"
     ]
    },
    {
     "name": "stdout",
     "output_type": "stream",
     "text": [
      "Epoch 170, Loss 0.04\n",
      "Training Accuracy: 0.9578, Testing Accuracy: 0.9637\n",
      "\n"
     ]
    },
    {
     "name": "stdout",
     "output_type": "stream",
     "text": [
      "Epoch 180, Loss 0.0394\n",
      "Training Accuracy: 0.9579, Testing Accuracy: 0.9647\n",
      "\n"
     ]
    },
    {
     "name": "stdout",
     "output_type": "stream",
     "text": [
      "Epoch 190, Loss 0.0389\n",
      "Training Accuracy: 0.9586, Testing Accuracy: 0.9647\n",
      "\n"
     ]
    },
    {
     "name": "stdout",
     "output_type": "stream",
     "text": [
      "Epoch 200, Loss 0.0385\n",
      "Training Accuracy: 0.9592, Testing Accuracy: 0.9647\n",
      "\n"
     ]
    },
    {
     "name": "stdout",
     "output_type": "stream",
     "text": [
      "Epoch 210, Loss 0.038\n",
      "Training Accuracy: 0.9594, Testing Accuracy: 0.9647\n",
      "\n"
     ]
    },
    {
     "name": "stdout",
     "output_type": "stream",
     "text": [
      "Epoch 220, Loss 0.0376\n",
      "Training Accuracy: 0.9598, Testing Accuracy: 0.9652\n",
      "\n"
     ]
    },
    {
     "name": "stdout",
     "output_type": "stream",
     "text": [
      "Epoch 230, Loss 0.0372\n",
      "Training Accuracy: 0.9603, Testing Accuracy: 0.9652\n",
      "\n"
     ]
    },
    {
     "name": "stdout",
     "output_type": "stream",
     "text": [
      "Epoch 240, Loss 0.0369\n",
      "Training Accuracy: 0.9607, Testing Accuracy: 0.9657\n",
      "\n"
     ]
    },
    {
     "data": {
      "text/plain": [
       "0.036650330852672976"
      ]
     },
     "execution_count": 23,
     "metadata": {},
     "output_type": "execute_result"
    }
   ],
   "source": [
    "lr_learner.train_loop(dl)"
   ]
  },
  {
   "cell_type": "code",
   "execution_count": 24,
   "id": "ca410940",
   "metadata": {
    "execution": {
     "iopub.execute_input": "2022-11-01T00:57:41.966692Z",
     "iopub.status.busy": "2022-11-01T00:57:41.966126Z",
     "iopub.status.idle": "2022-11-01T00:57:42.182802Z",
     "shell.execute_reply": "2022-11-01T00:57:42.182070Z"
    },
    "papermill": {
     "duration": 0.282495,
     "end_time": "2022-11-01T00:57:42.182912",
     "exception": false,
     "start_time": "2022-11-01T00:57:41.900417",
     "status": "completed"
    },
    "tags": []
   },
   "outputs": [
    {
     "data": {
      "text/plain": [
       "<matplotlib.legend.Legend at 0x7f35226793c8>"
      ]
     },
     "execution_count": 24,
     "metadata": {},
     "output_type": "execute_result"
    },
    {
     "data": {
      "image/png": "[encoded data removed]",
      "text/plain": [
       "<Figure size 1080x720 with 1 Axes>"
      ]
     },
     "metadata": {
      "needs_background": "light"
     },
     "output_type": "display_data"
    }
   ],
   "source": [
    "#comparing the results of NN and LR\n",
    "plt.figure(figsize=(15,10))\n",
    "\n",
    "# Neural Network plots\n",
    "plt.plot(acc_nn.accuracies, 'r-', label = \"Training Accuracies - NN\")\n",
    "plt.plot(acc_nn.test_accuracies, 'g-', label = \"Testing Accuracies - NN\")\n",
    "\n",
    "# Logistic Regression plots\n",
    "plt.plot(acc_lr.accuracies, 'k-', label = \"Training Accuracies - LR\")\n",
    "plt.plot(acc_lr.test_accuracies, 'b-', label = \"Testing Accuracies - LR\")\n",
    "plt.legend()"
   ]
  },
  {
   "cell_type": "markdown",
   "id": "80dfb35c",
   "metadata": {
    "papermill": {
     "duration": 0.043084,
     "end_time": "2022-11-01T00:57:42.269085",
     "exception": false,
     "start_time": "2022-11-01T00:57:42.226001",
     "status": "completed"
    },
    "tags": []
   },
   "source": [
    "#### Plotting the outputs of this layer of the NN.\n"
   ]
  },
  {
   "cell_type": "code",
   "execution_count": 25,
   "id": "45eb2ff5",
   "metadata": {
    "execution": {
     "iopub.execute_input": "2022-11-01T00:57:42.358027Z",
     "iopub.status.busy": "2022-11-01T00:57:42.357463Z",
     "iopub.status.idle": "2022-11-01T00:57:42.394955Z",
     "shell.execute_reply": "2022-11-01T00:57:42.394488Z"
    },
    "papermill": {
     "duration": 0.083278,
     "end_time": "2022-11-01T00:57:42.395066",
     "exception": false,
     "start_time": "2022-11-01T00:57:42.311788",
     "status": "completed"
    },
    "tags": []
   },
   "outputs": [],
   "source": [
    "new_model = Model(layers[:-2])\n",
    "testing_plot = new_model(testing_data_x)"
   ]
  },
  {
   "cell_type": "code",
   "execution_count": 26,
   "id": "4c0a5485",
   "metadata": {
    "execution": {
     "iopub.execute_input": "2022-11-01T00:57:42.489514Z",
     "iopub.status.busy": "2022-11-01T00:57:42.488923Z",
     "iopub.status.idle": "2022-11-01T00:57:42.693855Z",
     "shell.execute_reply": "2022-11-01T00:57:42.694402Z"
    },
    "papermill": {
     "duration": 0.255873,
     "end_time": "2022-11-01T00:57:42.694528",
     "exception": false,
     "start_time": "2022-11-01T00:57:42.438655",
     "status": "completed"
    },
    "tags": []
   },
   "outputs": [
    {
     "data": {
      "text/plain": [
       "Text(0.5, 1.0, 'Outputs')"
      ]
     },
     "execution_count": 26,
     "metadata": {},
     "output_type": "execute_result"
    },
    {
     "data": {
      "image/png": "[encoded data removed]",
      "text/plain": [
       "<Figure size 576x504 with 1 Axes>"
      ]
     },
     "metadata": {
      "needs_background": "light"
     },
     "output_type": "display_data"
    }
   ],
   "source": [
    "# Plotting the scatter plot of points and color coding by class\n",
    "plt.figure(figsize=(8,7))\n",
    "plt.scatter(testing_plot[:,0], testing_plot[:,1], alpha = 0.1, c = y_test.ravel());\n",
    "plt.title('Outputs')"
   ]
  },
  {
   "cell_type": "markdown",
   "id": "a74fcf8f",
   "metadata": {
    "papermill": {
     "duration": 0.045484,
     "end_time": "2022-11-01T00:57:42.785663",
     "exception": false,
     "start_time": "2022-11-01T00:57:42.740179",
     "status": "completed"
    },
    "tags": []
   },
   "source": [
    "Probability contours"
   ]
  },
  {
   "cell_type": "code",
   "execution_count": 27,
   "id": "d0afc8e3",
   "metadata": {
    "execution": {
     "iopub.execute_input": "2022-11-01T00:57:42.901501Z",
     "iopub.status.busy": "2022-11-01T00:57:42.900913Z",
     "iopub.status.idle": "2022-11-01T00:57:42.912865Z",
     "shell.execute_reply": "2022-11-01T00:57:42.912420Z"
    },
    "papermill": {
     "duration": 0.081671,
     "end_time": "2022-11-01T00:57:42.912963",
     "exception": false,
     "start_time": "2022-11-01T00:57:42.831292",
     "status": "completed"
    },
    "tags": []
   },
   "outputs": [],
   "source": [
    "model_prob = Model(layers[-2:]) "
   ]
  },
  {
   "cell_type": "code",
   "execution_count": 28,
   "id": "9b96e238",
   "metadata": {
    "execution": {
     "iopub.execute_input": "2022-11-01T00:57:43.008674Z",
     "iopub.status.busy": "2022-11-01T00:57:43.008117Z",
     "iopub.status.idle": "2022-11-01T00:57:43.020563Z",
     "shell.execute_reply": "2022-11-01T00:57:43.021000Z"
    },
    "papermill": {
     "duration": 0.062483,
     "end_time": "2022-11-01T00:57:43.021124",
     "exception": false,
     "start_time": "2022-11-01T00:57:42.958641",
     "status": "completed"
    },
    "tags": []
   },
   "outputs": [],
   "source": [
    "#creating the x and y ranges according to the above generated plot.\n",
    "x_range = np.linspace(-4, 1, 100) \n",
    "y_range = np.linspace(-6, 6, 100) \n",
    "x_grid, y_grid = np.meshgrid(x_range, y_range) # x_grid and y_grig are of size 100 X 100\n",
    "\n",
    "# converting x_grid and y_grid to continuous arrays\n",
    "x_gridflat = np.ravel(x_grid)\n",
    "y_gridflat = np.ravel(y_grid)\n",
    "\n",
    "# The last layer of the current model takes two columns as input. Hence transpose of np.vstack() is required.\n",
    "X = np.vstack((x_gridflat, y_gridflat)).T\n",
    "\n",
    "prob_contour = model_prob(X).reshape(100,100) "
   ]
  },
  {
   "cell_type": "code",
   "execution_count": 29,
   "id": "da72499a",
   "metadata": {
    "execution": {
     "iopub.execute_input": "2022-11-01T00:57:43.117513Z",
     "iopub.status.busy": "2022-11-01T00:57:43.116940Z",
     "iopub.status.idle": "2022-11-01T00:57:43.370528Z",
     "shell.execute_reply": "2022-11-01T00:57:43.369810Z"
    },
    "papermill": {
     "duration": 0.302931,
     "end_time": "2022-11-01T00:57:43.370636",
     "exception": false,
     "start_time": "2022-11-01T00:57:43.067705",
     "status": "completed"
    },
    "tags": []
   },
   "outputs": [
    {
     "data": {
      "image/png": "[encoded data removed]",
      "text/plain": [
       "<Figure size 720x648 with 1 Axes>"
      ]
     },
     "metadata": {
      "needs_background": "light"
     },
     "output_type": "display_data"
    }
   ],
   "source": [
    "plt.figure(figsize=(10,9))\n",
    "plt.scatter(testing_plot[:,0], testing_plot[:,1], alpha = 0.1, c = y_test.ravel())\n",
    "contours = plt.contour(x_grid,y_grid,prob_contour)\n",
    "plt.title('Probability Contours')\n",
    "plt.clabel(contours, inline = True );"
   ]
  },
  {
   "cell_type": "code",
   "execution_count": null,
   "id": "e81b4ac7",
   "metadata": {
    "papermill": {
     "duration": 0.048194,
     "end_time": "2022-11-01T00:57:43.467959",
     "exception": false,
     "start_time": "2022-11-01T00:57:43.419765",
     "status": "completed"
    },
    "tags": []
   },
   "outputs": [],
   "source": []
  }
 ],
 "metadata": {
  "kernelspec": {
   "display_name": "Python 3",
   "language": "python",
   "name": "python3"
  },
  "language_info": {
   "codemirror_mode": {
    "name": "ipython",
    "version": 3
   },
   "file_extension": ".py",
   "mimetype": "text/x-python",
   "name": "python",
   "nbconvert_exporter": "python",
   "pygments_lexer": "ipython3",
   "version": "3.6.15"
  },
  "papermill": {
   "default_parameters": {},
   "duration": 194.551859,
   "end_time": "2022-11-01T00:57:43.834682",
   "environment_variables": {},
   "exception": null,
   "input_path": "2020-08-11-part2.ipynb",
   "output_path": "2020-08-11-part2.ipynb",
   "parameters": {},
   "start_time": "2022-11-01T00:54:29.282823",
   "version": "2.3.3"
  }
 },
 "nbformat": 4,
 "nbformat_minor": 5
}