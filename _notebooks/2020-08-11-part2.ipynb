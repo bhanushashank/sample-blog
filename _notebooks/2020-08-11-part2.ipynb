{
 "cells": [
  {
   "cell_type": "markdown",
   "id": "98380cd3",
   "metadata": {
    "papermill": {
     "duration": 0.036166,
     "end_time": "2022-10-01T10:11:31.597024",
     "exception": false,
     "start_time": "2022-10-01T10:11:31.560858",
     "status": "completed"
    },
    "tags": []
   },
   "source": [
    "# Distinguish Your Own Digits (DYOD)"
   ]
  },
  {
   "cell_type": "markdown",
   "id": "ef31240d",
   "metadata": {
    "papermill": {
     "duration": 0.028984,
     "end_time": "2022-10-01T10:11:31.654820",
     "exception": false,
     "start_time": "2022-10-01T10:11:31.625836",
     "status": "completed"
    },
    "tags": []
   },
   "source": [
    "You are going to write a classifier that distinguishes between the number 3 and number 8."
   ]
  },
  {
   "cell_type": "code",
   "execution_count": 1,
   "id": "b15c8646",
   "metadata": {
    "execution": {
     "iopub.execute_input": "2022-10-01T10:11:31.722765Z",
     "iopub.status.busy": "2022-10-01T10:11:31.722047Z",
     "iopub.status.idle": "2022-10-01T10:11:31.733660Z",
     "shell.execute_reply": "2022-10-01T10:11:31.734294Z"
    },
    "papermill": {
     "duration": 0.052443,
     "end_time": "2022-10-01T10:11:31.734485",
     "exception": false,
     "start_time": "2022-10-01T10:11:31.682042",
     "status": "completed"
    },
    "tags": []
   },
   "outputs": [],
   "source": [
    "%load_ext autoreload\n",
    "%autoreload 2"
   ]
  },
  {
   "cell_type": "code",
   "execution_count": 2,
   "id": "22ef38dc",
   "metadata": {
    "execution": {
     "iopub.execute_input": "2022-10-01T10:11:31.799115Z",
     "iopub.status.busy": "2022-10-01T10:11:31.798363Z",
     "iopub.status.idle": "2022-10-01T10:11:32.427078Z",
     "shell.execute_reply": "2022-10-01T10:11:32.426057Z"
    },
    "papermill": {
     "duration": 0.664882,
     "end_time": "2022-10-01T10:11:32.427230",
     "exception": false,
     "start_time": "2022-10-01T10:11:31.762348",
     "status": "completed"
    },
    "tags": []
   },
   "outputs": [],
   "source": [
    "%matplotlib inline\n",
    "import numpy as np\n",
    "import matplotlib.pyplot as plt\n",
    "import pandas as pd"
   ]
  },
  {
   "cell_type": "markdown",
   "id": "ba036198",
   "metadata": {
    "papermill": {
     "duration": 0.027258,
     "end_time": "2022-10-01T10:11:32.481490",
     "exception": false,
     "start_time": "2022-10-01T10:11:32.454232",
     "status": "completed"
    },
    "tags": []
   },
   "source": [
    "From the command line run `pip install mnist`. This is a library that will help you bring down the mnist dataset. If you run this from a notebook, you need to put  `!pip install mnist` in a cell by itself."
   ]
  },
  {
   "cell_type": "code",
   "execution_count": 3,
   "id": "bb6ad8a1",
   "metadata": {
    "execution": {
     "iopub.execute_input": "2022-10-01T10:11:32.545119Z",
     "iopub.status.busy": "2022-10-01T10:11:32.544392Z",
     "iopub.status.idle": "2022-10-01T10:11:34.450486Z",
     "shell.execute_reply": "2022-10-01T10:11:34.448125Z"
    },
    "papermill": {
     "duration": 1.9424,
     "end_time": "2022-10-01T10:11:34.450635",
     "exception": false,
     "start_time": "2022-10-01T10:11:32.508235",
     "status": "completed"
    },
    "tags": []
   },
   "outputs": [
    {
     "name": "stdout",
     "output_type": "stream",
     "text": [
      "Collecting mnist\r\n"
     ]
    },
    {
     "name": "stdout",
     "output_type": "stream",
     "text": [
      "  Downloading mnist-0.2.2-py2.py3-none-any.whl (3.5 kB)\r\n"
     ]
    },
    {
     "name": "stdout",
     "output_type": "stream",
     "text": [
      "Requirement already satisfied: numpy in /opt/hostedtoolcache/Python/3.6.15/x64/lib/python3.6/site-packages (from mnist) (1.19.5)\r\n"
     ]
    },
    {
     "name": "stdout",
     "output_type": "stream",
     "text": [
      "Installing collected packages: mnist\r\n",
      "Successfully installed mnist-0.2.2\r\n"
     ]
    }
   ],
   "source": [
    "!pip install mnist"
   ]
  },
  {
   "cell_type": "markdown",
   "id": "69df9c9a",
   "metadata": {
    "papermill": {
     "duration": 0.028285,
     "end_time": "2022-10-01T10:11:34.507273",
     "exception": false,
     "start_time": "2022-10-01T10:11:34.478988",
     "status": "completed"
    },
    "tags": []
   },
   "source": [
    "## Preparing the Data"
   ]
  },
  {
   "cell_type": "code",
   "execution_count": 4,
   "id": "7f69d806",
   "metadata": {
    "execution": {
     "iopub.execute_input": "2022-10-01T10:11:34.568329Z",
     "iopub.status.busy": "2022-10-01T10:11:34.566920Z",
     "iopub.status.idle": "2022-10-01T10:11:34.585152Z",
     "shell.execute_reply": "2022-10-01T10:11:34.585706Z"
    },
    "papermill": {
     "duration": 0.050863,
     "end_time": "2022-10-01T10:11:34.585859",
     "exception": false,
     "start_time": "2022-10-01T10:11:34.534996",
     "status": "completed"
    },
    "tags": []
   },
   "outputs": [],
   "source": [
    "import mnist"
   ]
  },
  {
   "cell_type": "code",
   "execution_count": 5,
   "id": "a411e44f",
   "metadata": {
    "execution": {
     "iopub.execute_input": "2022-10-01T10:11:34.648246Z",
     "iopub.status.busy": "2022-10-01T10:11:34.646866Z",
     "iopub.status.idle": "2022-10-01T10:11:35.380220Z",
     "shell.execute_reply": "2022-10-01T10:11:35.379440Z"
    },
    "papermill": {
     "duration": 0.765791,
     "end_time": "2022-10-01T10:11:35.380366",
     "exception": false,
     "start_time": "2022-10-01T10:11:34.614575",
     "status": "completed"
    },
    "tags": []
   },
   "outputs": [],
   "source": [
    "train_images = mnist.train_images()\n",
    "train_labels = mnist.train_labels()"
   ]
  },
  {
   "cell_type": "code",
   "execution_count": 6,
   "id": "dceab3a5",
   "metadata": {
    "execution": {
     "iopub.execute_input": "2022-10-01T10:11:35.441996Z",
     "iopub.status.busy": "2022-10-01T10:11:35.441257Z",
     "iopub.status.idle": "2022-10-01T10:11:35.458345Z",
     "shell.execute_reply": "2022-10-01T10:11:35.457666Z"
    },
    "papermill": {
     "duration": 0.050209,
     "end_time": "2022-10-01T10:11:35.458826",
     "exception": false,
     "start_time": "2022-10-01T10:11:35.408617",
     "status": "completed"
    },
    "tags": []
   },
   "outputs": [
    {
     "data": {
      "text/plain": [
       "((60000, 28, 28), (60000,))"
      ]
     },
     "execution_count": 6,
     "metadata": {},
     "output_type": "execute_result"
    }
   ],
   "source": [
    "train_images.shape, train_labels.shape"
   ]
  },
  {
   "cell_type": "code",
   "execution_count": 7,
   "id": "f50dc2bb",
   "metadata": {
    "execution": {
     "iopub.execute_input": "2022-10-01T10:11:35.526025Z",
     "iopub.status.busy": "2022-10-01T10:11:35.525273Z",
     "iopub.status.idle": "2022-10-01T10:11:35.882978Z",
     "shell.execute_reply": "2022-10-01T10:11:35.882382Z"
    },
    "papermill": {
     "duration": 0.394629,
     "end_time": "2022-10-01T10:11:35.883123",
     "exception": false,
     "start_time": "2022-10-01T10:11:35.488494",
     "status": "completed"
    },
    "tags": []
   },
   "outputs": [],
   "source": [
    "test_images = mnist.test_images()\n",
    "test_labels = mnist.test_labels()"
   ]
  },
  {
   "cell_type": "code",
   "execution_count": 8,
   "id": "fc38cf1b",
   "metadata": {
    "execution": {
     "iopub.execute_input": "2022-10-01T10:11:35.950867Z",
     "iopub.status.busy": "2022-10-01T10:11:35.949264Z",
     "iopub.status.idle": "2022-10-01T10:11:35.966147Z",
     "shell.execute_reply": "2022-10-01T10:11:35.965591Z"
    },
    "papermill": {
     "duration": 0.051768,
     "end_time": "2022-10-01T10:11:35.966379",
     "exception": false,
     "start_time": "2022-10-01T10:11:35.914611",
     "status": "completed"
    },
    "tags": []
   },
   "outputs": [
    {
     "data": {
      "text/plain": [
       "((10000, 28, 28), (10000,))"
      ]
     },
     "execution_count": 8,
     "metadata": {},
     "output_type": "execute_result"
    }
   ],
   "source": [
    "test_images.shape, test_labels.shape"
   ]
  },
  {
   "cell_type": "code",
   "execution_count": 9,
   "id": "f9ed8fe0",
   "metadata": {
    "execution": {
     "iopub.execute_input": "2022-10-01T10:11:36.042284Z",
     "iopub.status.busy": "2022-10-01T10:11:36.041585Z",
     "iopub.status.idle": "2022-10-01T10:11:36.209168Z",
     "shell.execute_reply": "2022-10-01T10:11:36.208587Z"
    },
    "papermill": {
     "duration": 0.204923,
     "end_time": "2022-10-01T10:11:36.209303",
     "exception": false,
     "start_time": "2022-10-01T10:11:36.004380",
     "status": "completed"
    },
    "tags": []
   },
   "outputs": [
    {
     "name": "stdout",
     "output_type": "stream",
     "text": [
      "2\n"
     ]
    },
    {
     "data": {
      "text/plain": [
       "<matplotlib.image.AxesImage at 0x7fe9ab833cc0>"
      ]
     },
     "execution_count": 9,
     "metadata": {},
     "output_type": "execute_result"
    },
    {
     "data": {
      "image/png": "[encoded data removed]",
      "text/plain": [
       "<Figure size 432x288 with 1 Axes>"
      ]
     },
     "metadata": {
      "needs_background": "light"
     },
     "output_type": "display_data"
    }
   ],
   "source": [
    "image_index = 7776 # You may select anything up to 60,000\n",
    "print(train_labels[image_index]) \n",
    "plt.imshow(train_images[image_index], cmap='Greys')"
   ]
  },
  {
   "cell_type": "markdown",
   "id": "a8d2388d",
   "metadata": {
    "papermill": {
     "duration": 0.030603,
     "end_time": "2022-10-01T10:11:36.270219",
     "exception": false,
     "start_time": "2022-10-01T10:11:36.239616",
     "status": "completed"
    },
    "tags": []
   },
   "source": [
    "## Filter data to get 3 and 8 out"
   ]
  },
  {
   "cell_type": "code",
   "execution_count": 10,
   "id": "776f7fc7",
   "metadata": {
    "execution": {
     "iopub.execute_input": "2022-10-01T10:11:36.339715Z",
     "iopub.status.busy": "2022-10-01T10:11:36.338299Z",
     "iopub.status.idle": "2022-10-01T10:11:36.360954Z",
     "shell.execute_reply": "2022-10-01T10:11:36.360334Z"
    },
    "papermill": {
     "duration": 0.059947,
     "end_time": "2022-10-01T10:11:36.361092",
     "exception": false,
     "start_time": "2022-10-01T10:11:36.301145",
     "status": "completed"
    },
    "tags": []
   },
   "outputs": [],
   "source": [
    "train_filter = np.where((train_labels == 3 ) | (train_labels == 8))\n",
    "test_filter = np.where((test_labels == 3) | (test_labels == 8))\n",
    "X_train, y_train = train_images[train_filter], train_labels[train_filter]\n",
    "X_test, y_test = test_images[test_filter], test_labels[test_filter]"
   ]
  },
  {
   "cell_type": "markdown",
   "id": "948f0b7e",
   "metadata": {
    "papermill": {
     "duration": 0.031223,
     "end_time": "2022-10-01T10:11:36.426224",
     "exception": false,
     "start_time": "2022-10-01T10:11:36.395001",
     "status": "completed"
    },
    "tags": []
   },
   "source": [
    "We normalize the pizel values in the 0 to 1 range"
   ]
  },
  {
   "cell_type": "code",
   "execution_count": 11,
   "id": "ee4c2166",
   "metadata": {
    "execution": {
     "iopub.execute_input": "2022-10-01T10:11:36.502124Z",
     "iopub.status.busy": "2022-10-01T10:11:36.501436Z",
     "iopub.status.idle": "2022-10-01T10:11:36.555233Z",
     "shell.execute_reply": "2022-10-01T10:11:36.554542Z"
    },
    "papermill": {
     "duration": 0.097622,
     "end_time": "2022-10-01T10:11:36.555409",
     "exception": false,
     "start_time": "2022-10-01T10:11:36.457787",
     "status": "completed"
    },
    "tags": []
   },
   "outputs": [],
   "source": [
    "X_train = X_train/255.\n",
    "X_test = X_test/255."
   ]
  },
  {
   "cell_type": "markdown",
   "id": "ddcf4fab",
   "metadata": {
    "papermill": {
     "duration": 0.030512,
     "end_time": "2022-10-01T10:11:36.619124",
     "exception": false,
     "start_time": "2022-10-01T10:11:36.588612",
     "status": "completed"
    },
    "tags": []
   },
   "source": [
    "And setup the labels as 1 (when the digit is 3) and 0 (when the digit is 8)"
   ]
  },
  {
   "cell_type": "code",
   "execution_count": 12,
   "id": "7dc908f2",
   "metadata": {
    "execution": {
     "iopub.execute_input": "2022-10-01T10:11:36.684631Z",
     "iopub.status.busy": "2022-10-01T10:11:36.683928Z",
     "iopub.status.idle": "2022-10-01T10:11:36.698984Z",
     "shell.execute_reply": "2022-10-01T10:11:36.698415Z"
    },
    "papermill": {
     "duration": 0.049839,
     "end_time": "2022-10-01T10:11:36.699114",
     "exception": false,
     "start_time": "2022-10-01T10:11:36.649275",
     "status": "completed"
    },
    "tags": []
   },
   "outputs": [],
   "source": [
    "y_train = 1*(y_train==3)\n",
    "y_test = 1*(y_test==3)"
   ]
  },
  {
   "cell_type": "code",
   "execution_count": 13,
   "id": "01e4e969",
   "metadata": {
    "execution": {
     "iopub.execute_input": "2022-10-01T10:11:36.768426Z",
     "iopub.status.busy": "2022-10-01T10:11:36.767727Z",
     "iopub.status.idle": "2022-10-01T10:11:36.781126Z",
     "shell.execute_reply": "2022-10-01T10:11:36.781657Z"
    },
    "papermill": {
     "duration": 0.052628,
     "end_time": "2022-10-01T10:11:36.781805",
     "exception": false,
     "start_time": "2022-10-01T10:11:36.729177",
     "status": "completed"
    },
    "tags": []
   },
   "outputs": [
    {
     "data": {
      "text/plain": [
       "((11982, 28, 28), (1984, 28, 28))"
      ]
     },
     "execution_count": 13,
     "metadata": {},
     "output_type": "execute_result"
    }
   ],
   "source": [
    "X_train.shape, X_test.shape"
   ]
  },
  {
   "cell_type": "markdown",
   "id": "5ccf3f85",
   "metadata": {
    "papermill": {
     "duration": 0.030246,
     "end_time": "2022-10-01T10:11:36.842819",
     "exception": false,
     "start_time": "2022-10-01T10:11:36.812573",
     "status": "completed"
    },
    "tags": []
   },
   "source": [
    "We reshape the data to flatten the image pixels into a set of features or co-variates:"
   ]
  },
  {
   "cell_type": "code",
   "execution_count": 14,
   "id": "5286a4a3",
   "metadata": {
    "execution": {
     "iopub.execute_input": "2022-10-01T10:11:36.909276Z",
     "iopub.status.busy": "2022-10-01T10:11:36.908565Z",
     "iopub.status.idle": "2022-10-01T10:11:36.925063Z",
     "shell.execute_reply": "2022-10-01T10:11:36.924384Z"
    },
    "papermill": {
     "duration": 0.052091,
     "end_time": "2022-10-01T10:11:36.925196",
     "exception": false,
     "start_time": "2022-10-01T10:11:36.873105",
     "status": "completed"
    },
    "tags": []
   },
   "outputs": [
    {
     "data": {
      "text/plain": [
       "((11982, 784), (1984, 784))"
      ]
     },
     "execution_count": 14,
     "metadata": {},
     "output_type": "execute_result"
    }
   ],
   "source": [
    "X_train = X_train.reshape(X_train.shape[0], -1)\n",
    "X_test = X_test.reshape(X_test.shape[0], -1)\n",
    "X_train.shape, X_test.shape"
   ]
  },
  {
   "cell_type": "code",
   "execution_count": 15,
   "id": "73c5f88a",
   "metadata": {
    "execution": {
     "iopub.execute_input": "2022-10-01T10:11:36.992696Z",
     "iopub.status.busy": "2022-10-01T10:11:36.991956Z",
     "iopub.status.idle": "2022-10-01T10:11:37.015324Z",
     "shell.execute_reply": "2022-10-01T10:11:37.014705Z"
    },
    "papermill": {
     "duration": 0.059634,
     "end_time": "2022-10-01T10:11:37.015464",
     "exception": false,
     "start_time": "2022-10-01T10:11:36.955830",
     "status": "completed"
    },
    "tags": []
   },
   "outputs": [],
   "source": [
    "#Impoting functions from 'Kudzu'\n",
    "from kudzu.model import Model\n",
    "from kudzu.train import Learner\n",
    "from kudzu.optim import GD\n",
    "from kudzu.data import Data, Sampler,Dataloader\n",
    "\n",
    "from kudzu.callbacks import AccCallback\n",
    "from kudzu.callbacks import ClfCallback\n",
    "\n",
    "from kudzu.loss import MSE\n",
    "\n",
    "from kudzu.layer import Sigmoid,Relu\n",
    "from kudzu.layer import Affine"
   ]
  },
  {
   "cell_type": "markdown",
   "id": "bc01172a",
   "metadata": {
    "papermill": {
     "duration": 0.030793,
     "end_time": "2022-10-01T10:11:37.077130",
     "exception": false,
     "start_time": "2022-10-01T10:11:37.046337",
     "status": "completed"
    },
    "tags": []
   },
   "source": [
    "### Let us create a `Config` class, to store important parameters. \n",
    "This class essentially plays the role of a dictionary."
   ]
  },
  {
   "cell_type": "code",
   "execution_count": 16,
   "id": "978281aa",
   "metadata": {
    "execution": {
     "iopub.execute_input": "2022-10-01T10:11:37.144094Z",
     "iopub.status.busy": "2022-10-01T10:11:37.143368Z",
     "iopub.status.idle": "2022-10-01T10:11:37.157923Z",
     "shell.execute_reply": "2022-10-01T10:11:37.157371Z"
    },
    "papermill": {
     "duration": 0.049862,
     "end_time": "2022-10-01T10:11:37.158060",
     "exception": false,
     "start_time": "2022-10-01T10:11:37.108198",
     "status": "completed"
    },
    "tags": []
   },
   "outputs": [],
   "source": [
    "class Config:\n",
    "    pass\n",
    "config = Config()\n",
    "config.lr = 0.001\n",
    "config.num_epochs = 250\n",
    "config.bs = 50"
   ]
  },
  {
   "cell_type": "markdown",
   "id": "1385fa59",
   "metadata": {
    "papermill": {
     "duration": 0.03085,
     "end_time": "2022-10-01T10:11:37.219661",
     "exception": false,
     "start_time": "2022-10-01T10:11:37.188811",
     "status": "completed"
    },
    "tags": []
   },
   "source": [
    "### Running Models with the Training data\n",
    "Details about the network layers:\n",
    "- A first affine layer has 784 inputs and does 100 affine transforms. These are followed by a Relu\n",
    "- A second affine layer has 100 inputs from the 100 activations of the past layer, and does 100 affine transforms. These are followed by a Relu\n",
    "- A third affine layer has 100 activations and does 2 affine transformations to create an embedding for visualization. There is no non-linearity here.\n",
    "- A final \"logistic regression\" which has an affine transform from 2 inputs to 1 output, which is squeezed through a sigmoid.\n"
   ]
  },
  {
   "cell_type": "code",
   "execution_count": 17,
   "id": "2b9c66db",
   "metadata": {
    "execution": {
     "iopub.execute_input": "2022-10-01T10:11:37.285824Z",
     "iopub.status.busy": "2022-10-01T10:11:37.285117Z",
     "iopub.status.idle": "2022-10-01T10:11:37.300608Z",
     "shell.execute_reply": "2022-10-01T10:11:37.300022Z"
    },
    "papermill": {
     "duration": 0.050663,
     "end_time": "2022-10-01T10:11:37.300741",
     "exception": false,
     "start_time": "2022-10-01T10:11:37.250078",
     "status": "completed"
    },
    "tags": []
   },
   "outputs": [],
   "source": [
    "data = Data(X_train, y_train.reshape(-1,1))\n",
    "sampler = Sampler(data, config.bs, shuffle=True)\n",
    "\n",
    "dl = Dataloader(data, sampler)\n",
    "\n",
    "opt = GD(config.lr)\n",
    "loss = MSE()"
   ]
  },
  {
   "cell_type": "code",
   "execution_count": 18,
   "id": "b275e4c2",
   "metadata": {
    "execution": {
     "iopub.execute_input": "2022-10-01T10:11:37.366452Z",
     "iopub.status.busy": "2022-10-01T10:11:37.365756Z",
     "iopub.status.idle": "2022-10-01T10:11:37.382927Z",
     "shell.execute_reply": "2022-10-01T10:11:37.383498Z"
    },
    "papermill": {
     "duration": 0.052437,
     "end_time": "2022-10-01T10:11:37.383656",
     "exception": false,
     "start_time": "2022-10-01T10:11:37.331219",
     "status": "completed"
    },
    "tags": []
   },
   "outputs": [],
   "source": [
    "training_data_x = X_train\n",
    "testing_data_x = X_test\n",
    "training_data_y = y_train.reshape(-1,1)\n",
    "testing_data_y = y_test.reshape(-1,1)"
   ]
  },
  {
   "cell_type": "code",
   "execution_count": 19,
   "id": "76951160",
   "metadata": {
    "execution": {
     "iopub.execute_input": "2022-10-01T10:11:37.450339Z",
     "iopub.status.busy": "2022-10-01T10:11:37.449573Z",
     "iopub.status.idle": "2022-10-01T10:11:37.469208Z",
     "shell.execute_reply": "2022-10-01T10:11:37.468600Z"
    },
    "papermill": {
     "duration": 0.055123,
     "end_time": "2022-10-01T10:11:37.469343",
     "exception": false,
     "start_time": "2022-10-01T10:11:37.414220",
     "status": "completed"
    },
    "tags": []
   },
   "outputs": [
    {
     "name": "stdout",
     "output_type": "stream",
     "text": [
      "xavier\n",
      "xavier\n",
      "xavier\n",
      "xavier\n",
      "xavier\n"
     ]
    }
   ],
   "source": [
    "layers = [Affine(\"first\", 784, 100), Relu(\"first\"), Affine(\"second\", 100, 100), Relu(\"second\"), Affine(\"third\", 100, 2), Affine(\"last\", 2, 1), Sigmoid(\"last\")]\n",
    "model_nn = Model(layers)\n",
    "model_lr = Model([Affine(\"logits\", 784, 1), Sigmoid(\"sigmoid\")])"
   ]
  },
  {
   "cell_type": "code",
   "execution_count": 20,
   "id": "6eede77a",
   "metadata": {
    "execution": {
     "iopub.execute_input": "2022-10-01T10:11:37.540413Z",
     "iopub.status.busy": "2022-10-01T10:11:37.539699Z",
     "iopub.status.idle": "2022-10-01T10:11:37.553405Z",
     "shell.execute_reply": "2022-10-01T10:11:37.554374Z"
    },
    "papermill": {
     "duration": 0.053306,
     "end_time": "2022-10-01T10:11:37.554547",
     "exception": false,
     "start_time": "2022-10-01T10:11:37.501241",
     "status": "completed"
    },
    "tags": []
   },
   "outputs": [],
   "source": [
    "nn_learner = Learner(loss, model_nn, opt, config.num_epochs)\n",
    "acc_nn = ClfCallback(nn_learner, config.bs, training_data_x , testing_data_x, training_data_y, testing_data_y)\n",
    "nn_learner.set_callbacks([acc_nn])"
   ]
  },
  {
   "cell_type": "code",
   "execution_count": 21,
   "id": "877b6cc7",
   "metadata": {
    "execution": {
     "iopub.execute_input": "2022-10-01T10:11:37.624099Z",
     "iopub.status.busy": "2022-10-01T10:11:37.623401Z",
     "iopub.status.idle": "2022-10-01T10:11:37.645715Z",
     "shell.execute_reply": "2022-10-01T10:11:37.645108Z"
    },
    "papermill": {
     "duration": 0.058707,
     "end_time": "2022-10-01T10:11:37.645849",
     "exception": false,
     "start_time": "2022-10-01T10:11:37.587142",
     "status": "completed"
    },
    "tags": []
   },
   "outputs": [],
   "source": [
    "lr_learner = Learner(loss, model_lr, opt, config.num_epochs)\n",
    "acc_lr = ClfCallback(lr_learner, config.bs, training_data_x , testing_data_x, training_data_y, testing_data_y)\n",
    "lr_learner.set_callbacks([acc_lr])"
   ]
  },
  {
   "cell_type": "code",
   "execution_count": 22,
   "id": "d9b133c3",
   "metadata": {
    "execution": {
     "iopub.execute_input": "2022-10-01T10:11:37.715070Z",
     "iopub.status.busy": "2022-10-01T10:11:37.714105Z",
     "iopub.status.idle": "2022-10-01T10:13:09.814001Z",
     "shell.execute_reply": "2022-10-01T10:13:09.814996Z"
    },
    "papermill": {
     "duration": 92.137517,
     "end_time": "2022-10-01T10:13:09.815163",
     "exception": false,
     "start_time": "2022-10-01T10:11:37.677646",
     "status": "completed"
    },
    "tags": []
   },
   "outputs": [
    {
     "name": "stdout",
     "output_type": "stream",
     "text": [
      "Epoch 0, Loss 0.2497\n",
      "Training Accuracy: 0.5632, Testing Accuracy: 0.5726\n",
      "\n"
     ]
    },
    {
     "name": "stdout",
     "output_type": "stream",
     "text": [
      "Epoch 10, Loss 0.179\n",
      "Training Accuracy: 0.8839, Testing Accuracy: 0.8921\n",
      "\n"
     ]
    },
    {
     "name": "stdout",
     "output_type": "stream",
     "text": [
      "Epoch 20, Loss 0.0863\n",
      "Training Accuracy: 0.9175, Testing Accuracy: 0.9320\n",
      "\n"
     ]
    },
    {
     "name": "stdout",
     "output_type": "stream",
     "text": [
      "Epoch 30, Loss 0.0565\n",
      "Training Accuracy: 0.9390, Testing Accuracy: 0.9506\n",
      "\n"
     ]
    },
    {
     "name": "stdout",
     "output_type": "stream",
     "text": [
      "Epoch 40, Loss 0.0449\n",
      "Training Accuracy: 0.9495, Testing Accuracy: 0.9551\n",
      "\n"
     ]
    },
    {
     "name": "stdout",
     "output_type": "stream",
     "text": [
      "Epoch 50, Loss 0.039\n",
      "Training Accuracy: 0.9557, Testing Accuracy: 0.9627\n",
      "\n"
     ]
    },
    {
     "name": "stdout",
     "output_type": "stream",
     "text": [
      "Epoch 60, Loss 0.0355\n",
      "Training Accuracy: 0.9607, Testing Accuracy: 0.9672\n",
      "\n"
     ]
    },
    {
     "name": "stdout",
     "output_type": "stream",
     "text": [
      "Epoch 70, Loss 0.033\n",
      "Training Accuracy: 0.9629, Testing Accuracy: 0.9682\n",
      "\n"
     ]
    },
    {
     "name": "stdout",
     "output_type": "stream",
     "text": [
      "Epoch 80, Loss 0.0311\n",
      "Training Accuracy: 0.9644, Testing Accuracy: 0.9688\n",
      "\n"
     ]
    },
    {
     "name": "stdout",
     "output_type": "stream",
     "text": [
      "Epoch 90, Loss 0.0296\n",
      "Training Accuracy: 0.9657, Testing Accuracy: 0.9698\n",
      "\n"
     ]
    },
    {
     "name": "stdout",
     "output_type": "stream",
     "text": [
      "Epoch 100, Loss 0.0284\n",
      "Training Accuracy: 0.9667, Testing Accuracy: 0.9698\n",
      "\n"
     ]
    },
    {
     "name": "stdout",
     "output_type": "stream",
     "text": [
      "Epoch 110, Loss 0.0274\n",
      "Training Accuracy: 0.9683, Testing Accuracy: 0.9698\n",
      "\n"
     ]
    },
    {
     "name": "stdout",
     "output_type": "stream",
     "text": [
      "Epoch 120, Loss 0.0265\n",
      "Training Accuracy: 0.9687, Testing Accuracy: 0.9713\n",
      "\n"
     ]
    },
    {
     "name": "stdout",
     "output_type": "stream",
     "text": [
      "Epoch 130, Loss 0.0257\n",
      "Training Accuracy: 0.9698, Testing Accuracy: 0.9723\n",
      "\n"
     ]
    },
    {
     "name": "stdout",
     "output_type": "stream",
     "text": [
      "Epoch 140, Loss 0.025\n",
      "Training Accuracy: 0.9705, Testing Accuracy: 0.9723\n",
      "\n"
     ]
    },
    {
     "name": "stdout",
     "output_type": "stream",
     "text": [
      "Epoch 150, Loss 0.0243\n",
      "Training Accuracy: 0.9709, Testing Accuracy: 0.9723\n",
      "\n"
     ]
    },
    {
     "name": "stdout",
     "output_type": "stream",
     "text": [
      "Epoch 160, Loss 0.0237\n",
      "Training Accuracy: 0.9715, Testing Accuracy: 0.9728\n",
      "\n"
     ]
    },
    {
     "name": "stdout",
     "output_type": "stream",
     "text": [
      "Epoch 170, Loss 0.0232\n",
      "Training Accuracy: 0.9720, Testing Accuracy: 0.9733\n",
      "\n"
     ]
    },
    {
     "name": "stdout",
     "output_type": "stream",
     "text": [
      "Epoch 180, Loss 0.0227\n",
      "Training Accuracy: 0.9728, Testing Accuracy: 0.9738\n",
      "\n"
     ]
    },
    {
     "name": "stdout",
     "output_type": "stream",
     "text": [
      "Epoch 190, Loss 0.0222\n",
      "Training Accuracy: 0.9742, Testing Accuracy: 0.9738\n",
      "\n"
     ]
    },
    {
     "name": "stdout",
     "output_type": "stream",
     "text": [
      "Epoch 200, Loss 0.0217\n",
      "Training Accuracy: 0.9745, Testing Accuracy: 0.9743\n",
      "\n"
     ]
    },
    {
     "name": "stdout",
     "output_type": "stream",
     "text": [
      "Epoch 210, Loss 0.0213\n",
      "Training Accuracy: 0.9752, Testing Accuracy: 0.9733\n",
      "\n"
     ]
    },
    {
     "name": "stdout",
     "output_type": "stream",
     "text": [
      "Epoch 220, Loss 0.0209\n",
      "Training Accuracy: 0.9754, Testing Accuracy: 0.9743\n",
      "\n"
     ]
    },
    {
     "name": "stdout",
     "output_type": "stream",
     "text": [
      "Epoch 230, Loss 0.0204\n",
      "Training Accuracy: 0.9765, Testing Accuracy: 0.9743\n",
      "\n"
     ]
    },
    {
     "name": "stdout",
     "output_type": "stream",
     "text": [
      "Epoch 240, Loss 0.0201\n",
      "Training Accuracy: 0.9769, Testing Accuracy: 0.9748\n",
      "\n"
     ]
    },
    {
     "data": {
      "text/plain": [
       "0.01488851741979011"
      ]
     },
     "execution_count": 22,
     "metadata": {},
     "output_type": "execute_result"
    }
   ],
   "source": [
    "nn_learner.train_loop(dl)"
   ]
  },
  {
   "cell_type": "code",
   "execution_count": 23,
   "id": "e0163366",
   "metadata": {
    "execution": {
     "iopub.execute_input": "2022-10-01T10:13:09.903031Z",
     "iopub.status.busy": "2022-10-01T10:13:09.902289Z",
     "iopub.status.idle": "2022-10-01T10:13:26.172877Z",
     "shell.execute_reply": "2022-10-01T10:13:26.173873Z"
    },
    "papermill": {
     "duration": 16.319526,
     "end_time": "2022-10-01T10:13:26.174042",
     "exception": false,
     "start_time": "2022-10-01T10:13:09.854516",
     "status": "completed"
    },
    "tags": []
   },
   "outputs": [
    {
     "name": "stdout",
     "output_type": "stream",
     "text": [
      "Epoch 0, Loss 0.2227\n",
      "Training Accuracy: 0.7867, Testing Accuracy: 0.8160\n",
      "\n"
     ]
    },
    {
     "name": "stdout",
     "output_type": "stream",
     "text": [
      "Epoch 10, Loss 0.0982\n",
      "Training Accuracy: 0.9236, Testing Accuracy: 0.9330\n",
      "\n"
     ]
    },
    {
     "name": "stdout",
     "output_type": "stream",
     "text": [
      "Epoch 20, Loss 0.0763\n",
      "Training Accuracy: 0.9347, Testing Accuracy: 0.9496\n",
      "\n"
     ]
    },
    {
     "name": "stdout",
     "output_type": "stream",
     "text": [
      "Epoch 30, Loss 0.0661\n",
      "Training Accuracy: 0.9420, Testing Accuracy: 0.9541\n",
      "\n"
     ]
    },
    {
     "name": "stdout",
     "output_type": "stream",
     "text": [
      "Epoch 40, Loss 0.06\n",
      "Training Accuracy: 0.9442, Testing Accuracy: 0.9567\n",
      "\n"
     ]
    },
    {
     "name": "stdout",
     "output_type": "stream",
     "text": [
      "Epoch 50, Loss 0.0557\n",
      "Training Accuracy: 0.9464, Testing Accuracy: 0.9577\n",
      "\n"
     ]
    },
    {
     "name": "stdout",
     "output_type": "stream",
     "text": [
      "Epoch 60, Loss 0.0526\n",
      "Training Accuracy: 0.9479, Testing Accuracy: 0.9587\n",
      "\n"
     ]
    },
    {
     "name": "stdout",
     "output_type": "stream",
     "text": [
      "Epoch 70, Loss 0.0502\n",
      "Training Accuracy: 0.9493, Testing Accuracy: 0.9602\n",
      "\n"
     ]
    },
    {
     "name": "stdout",
     "output_type": "stream",
     "text": [
      "Epoch 80, Loss 0.0483\n",
      "Training Accuracy: 0.9506, Testing Accuracy: 0.9607\n",
      "\n"
     ]
    },
    {
     "name": "stdout",
     "output_type": "stream",
     "text": [
      "Epoch 90, Loss 0.0467\n",
      "Training Accuracy: 0.9525, Testing Accuracy: 0.9627\n",
      "\n"
     ]
    },
    {
     "name": "stdout",
     "output_type": "stream",
     "text": [
      "Epoch 100, Loss 0.0454\n",
      "Training Accuracy: 0.9533, Testing Accuracy: 0.9627\n",
      "\n"
     ]
    },
    {
     "name": "stdout",
     "output_type": "stream",
     "text": [
      "Epoch 110, Loss 0.0442\n",
      "Training Accuracy: 0.9548, Testing Accuracy: 0.9642\n",
      "\n"
     ]
    },
    {
     "name": "stdout",
     "output_type": "stream",
     "text": [
      "Epoch 120, Loss 0.0432\n",
      "Training Accuracy: 0.9557, Testing Accuracy: 0.9652\n",
      "\n"
     ]
    },
    {
     "name": "stdout",
     "output_type": "stream",
     "text": [
      "Epoch 130, Loss 0.0423\n",
      "Training Accuracy: 0.9562, Testing Accuracy: 0.9657\n",
      "\n"
     ]
    },
    {
     "name": "stdout",
     "output_type": "stream",
     "text": [
      "Epoch 140, Loss 0.0415\n",
      "Training Accuracy: 0.9568, Testing Accuracy: 0.9657\n",
      "\n"
     ]
    },
    {
     "name": "stdout",
     "output_type": "stream",
     "text": [
      "Epoch 150, Loss 0.0408\n",
      "Training Accuracy: 0.9574, Testing Accuracy: 0.9657\n",
      "\n"
     ]
    },
    {
     "name": "stdout",
     "output_type": "stream",
     "text": [
      "Epoch 160, Loss 0.0402\n",
      "Training Accuracy: 0.9577, Testing Accuracy: 0.9667\n",
      "\n"
     ]
    },
    {
     "name": "stdout",
     "output_type": "stream",
     "text": [
      "Epoch 170, Loss 0.0396\n",
      "Training Accuracy: 0.9581, Testing Accuracy: 0.9667\n",
      "\n"
     ]
    },
    {
     "name": "stdout",
     "output_type": "stream",
     "text": [
      "Epoch 180, Loss 0.039\n",
      "Training Accuracy: 0.9584, Testing Accuracy: 0.9667\n",
      "\n"
     ]
    },
    {
     "name": "stdout",
     "output_type": "stream",
     "text": [
      "Epoch 190, Loss 0.0386\n",
      "Training Accuracy: 0.9588, Testing Accuracy: 0.9667\n",
      "\n"
     ]
    },
    {
     "name": "stdout",
     "output_type": "stream",
     "text": [
      "Epoch 200, Loss 0.0381\n",
      "Training Accuracy: 0.9593, Testing Accuracy: 0.9667\n",
      "\n"
     ]
    },
    {
     "name": "stdout",
     "output_type": "stream",
     "text": [
      "Epoch 210, Loss 0.0377\n",
      "Training Accuracy: 0.9594, Testing Accuracy: 0.9667\n",
      "\n"
     ]
    },
    {
     "name": "stdout",
     "output_type": "stream",
     "text": [
      "Epoch 220, Loss 0.0373\n",
      "Training Accuracy: 0.9597, Testing Accuracy: 0.9672\n",
      "\n"
     ]
    },
    {
     "name": "stdout",
     "output_type": "stream",
     "text": [
      "Epoch 230, Loss 0.0369\n",
      "Training Accuracy: 0.9601, Testing Accuracy: 0.9667\n",
      "\n"
     ]
    },
    {
     "name": "stdout",
     "output_type": "stream",
     "text": [
      "Epoch 240, Loss 0.0366\n",
      "Training Accuracy: 0.9605, Testing Accuracy: 0.9677\n",
      "\n"
     ]
    },
    {
     "data": {
      "text/plain": [
       "0.03740768965266661"
      ]
     },
     "execution_count": 23,
     "metadata": {},
     "output_type": "execute_result"
    }
   ],
   "source": [
    "lr_learner.train_loop(dl)"
   ]
  },
  {
   "cell_type": "code",
   "execution_count": 24,
   "id": "ca410940",
   "metadata": {
    "execution": {
     "iopub.execute_input": "2022-10-01T10:13:26.277924Z",
     "iopub.status.busy": "2022-10-01T10:13:26.277195Z",
     "iopub.status.idle": "2022-10-01T10:13:26.535080Z",
     "shell.execute_reply": "2022-10-01T10:13:26.534180Z"
    },
    "papermill": {
     "duration": 0.314079,
     "end_time": "2022-10-01T10:13:26.535228",
     "exception": false,
     "start_time": "2022-10-01T10:13:26.221149",
     "status": "completed"
    },
    "tags": []
   },
   "outputs": [
    {
     "data": {
      "text/plain": [
       "<matplotlib.legend.Legend at 0x7fe9ab39f400>"
      ]
     },
     "execution_count": 24,
     "metadata": {},
     "output_type": "execute_result"
    },
    {
     "data": {
      "image/png": "[encoded data removed]",
      "text/plain": [
       "<Figure size 1080x720 with 1 Axes>"
      ]
     },
     "metadata": {
      "needs_background": "light"
     },
     "output_type": "display_data"
    }
   ],
   "source": [
    "#comparing the results of NN and LR\n",
    "plt.figure(figsize=(15,10))\n",
    "\n",
    "# Neural Network plots\n",
    "plt.plot(acc_nn.accuracies, 'r-', label = \"Training Accuracies - NN\")\n",
    "plt.plot(acc_nn.test_accuracies, 'g-', label = \"Testing Accuracies - NN\")\n",
    "\n",
    "# Logistic Regression plots\n",
    "plt.plot(acc_lr.accuracies, 'k-', label = \"Training Accuracies - LR\")\n",
    "plt.plot(acc_lr.test_accuracies, 'b-', label = \"Testing Accuracies - LR\")\n",
    "plt.legend()"
   ]
  },
  {
   "cell_type": "markdown",
   "id": "80dfb35c",
   "metadata": {
    "papermill": {
     "duration": 0.047438,
     "end_time": "2022-10-01T10:13:26.630605",
     "exception": false,
     "start_time": "2022-10-01T10:13:26.583167",
     "status": "completed"
    },
    "tags": []
   },
   "source": [
    "#### Plotting the outputs of this layer of the NN.\n"
   ]
  },
  {
   "cell_type": "code",
   "execution_count": 25,
   "id": "45eb2ff5",
   "metadata": {
    "execution": {
     "iopub.execute_input": "2022-10-01T10:13:26.731254Z",
     "iopub.status.busy": "2022-10-01T10:13:26.729974Z",
     "iopub.status.idle": "2022-10-01T10:13:26.753626Z",
     "shell.execute_reply": "2022-10-01T10:13:26.754182Z"
    },
    "papermill": {
     "duration": 0.07591,
     "end_time": "2022-10-01T10:13:26.754340",
     "exception": false,
     "start_time": "2022-10-01T10:13:26.678430",
     "status": "completed"
    },
    "tags": []
   },
   "outputs": [],
   "source": [
    "new_model = Model(layers[:-2])\n",
    "testing_plot = new_model(testing_data_x)"
   ]
  },
  {
   "cell_type": "code",
   "execution_count": 26,
   "id": "4c0a5485",
   "metadata": {
    "execution": {
     "iopub.execute_input": "2022-10-01T10:13:26.858492Z",
     "iopub.status.busy": "2022-10-01T10:13:26.856076Z",
     "iopub.status.idle": "2022-10-01T10:13:27.115051Z",
     "shell.execute_reply": "2022-10-01T10:13:27.114388Z"
    },
    "papermill": {
     "duration": 0.312878,
     "end_time": "2022-10-01T10:13:27.115184",
     "exception": false,
     "start_time": "2022-10-01T10:13:26.802306",
     "status": "completed"
    },
    "tags": []
   },
   "outputs": [
    {
     "data": {
      "text/plain": [
       "Text(0.5, 1.0, 'Outputs')"
      ]
     },
     "execution_count": 26,
     "metadata": {},
     "output_type": "execute_result"
    },
    {
     "data": {
      "image/png": "[encoded data removed]",
      "text/plain": [
       "<Figure size 576x504 with 1 Axes>"
      ]
     },
     "metadata": {
      "needs_background": "light"
     },
     "output_type": "display_data"
    }
   ],
   "source": [
    "# Plotting the scatter plot of points and color coding by class\n",
    "plt.figure(figsize=(8,7))\n",
    "plt.scatter(testing_plot[:,0], testing_plot[:,1], alpha = 0.1, c = y_test.ravel());\n",
    "plt.title('Outputs')"
   ]
  },
  {
   "cell_type": "markdown",
   "id": "a74fcf8f",
   "metadata": {
    "papermill": {
     "duration": 0.050131,
     "end_time": "2022-10-01T10:13:27.215892",
     "exception": false,
     "start_time": "2022-10-01T10:13:27.165761",
     "status": "completed"
    },
    "tags": []
   },
   "source": [
    "Probability contours"
   ]
  },
  {
   "cell_type": "code",
   "execution_count": 27,
   "id": "d0afc8e3",
   "metadata": {
    "execution": {
     "iopub.execute_input": "2022-10-01T10:13:27.359646Z",
     "iopub.status.busy": "2022-10-01T10:13:27.358035Z",
     "iopub.status.idle": "2022-10-01T10:13:27.371047Z",
     "shell.execute_reply": "2022-10-01T10:13:27.371731Z"
    },
    "papermill": {
     "duration": 0.071601,
     "end_time": "2022-10-01T10:13:27.371889",
     "exception": false,
     "start_time": "2022-10-01T10:13:27.300288",
     "status": "completed"
    },
    "tags": []
   },
   "outputs": [],
   "source": [
    "model_prob = Model(layers[-2:]) "
   ]
  },
  {
   "cell_type": "code",
   "execution_count": 28,
   "id": "9b96e238",
   "metadata": {
    "execution": {
     "iopub.execute_input": "2022-10-01T10:13:27.478694Z",
     "iopub.status.busy": "2022-10-01T10:13:27.477624Z",
     "iopub.status.idle": "2022-10-01T10:13:27.493334Z",
     "shell.execute_reply": "2022-10-01T10:13:27.493970Z"
    },
    "papermill": {
     "duration": 0.071726,
     "end_time": "2022-10-01T10:13:27.494143",
     "exception": false,
     "start_time": "2022-10-01T10:13:27.422417",
     "status": "completed"
    },
    "tags": []
   },
   "outputs": [],
   "source": [
    "#creating the x and y ranges according to the above generated plot.\n",
    "x_range = np.linspace(-4, 1, 100) \n",
    "y_range = np.linspace(-6, 6, 100) \n",
    "x_grid, y_grid = np.meshgrid(x_range, y_range) # x_grid and y_grig are of size 100 X 100\n",
    "\n",
    "# converting x_grid and y_grid to continuous arrays\n",
    "x_gridflat = np.ravel(x_grid)\n",
    "y_gridflat = np.ravel(y_grid)\n",
    "\n",
    "# The last layer of the current model takes two columns as input. Hence transpose of np.vstack() is required.\n",
    "X = np.vstack((x_gridflat, y_gridflat)).T\n",
    "\n",
    "prob_contour = model_prob(X).reshape(100,100) "
   ]
  },
  {
   "cell_type": "code",
   "execution_count": 29,
   "id": "da72499a",
   "metadata": {
    "execution": {
     "iopub.execute_input": "2022-10-01T10:13:27.617308Z",
     "iopub.status.busy": "2022-10-01T10:13:27.616480Z",
     "iopub.status.idle": "2022-10-01T10:13:27.901576Z",
     "shell.execute_reply": "2022-10-01T10:13:27.902232Z"
    },
    "papermill": {
     "duration": 0.349853,
     "end_time": "2022-10-01T10:13:27.902391",
     "exception": false,
     "start_time": "2022-10-01T10:13:27.552538",
     "status": "completed"
    },
    "tags": []
   },
   "outputs": [
    {
     "data": {
      "image/png": "[encoded data removed]",
      "text/plain": [
       "<Figure size 720x648 with 1 Axes>"
      ]
     },
     "metadata": {
      "needs_background": "light"
     },
     "output_type": "display_data"
    }
   ],
   "source": [
    "plt.figure(figsize=(10,9))\n",
    "plt.scatter(testing_plot[:,0], testing_plot[:,1], alpha = 0.1, c = y_test.ravel())\n",
    "contours = plt.contour(x_grid,y_grid,prob_contour)\n",
    "plt.title('Probability Contours')\n",
    "plt.clabel(contours, inline = True );"
   ]
  },
  {
   "cell_type": "code",
   "execution_count": null,
   "id": "e81b4ac7",
   "metadata": {
    "papermill": {
     "duration": 0.052788,
     "end_time": "2022-10-01T10:13:28.009410",
     "exception": false,
     "start_time": "2022-10-01T10:13:27.956622",
     "status": "completed"
    },
    "tags": []
   },
   "outputs": [],
   "source": []
  }
 ],
 "metadata": {
  "kernelspec": {
   "display_name": "Python 3",
   "language": "python",
   "name": "python3"
  },
  "language_info": {
   "codemirror_mode": {
    "name": "ipython",
    "version": 3
   },
   "file_extension": ".py",
   "mimetype": "text/x-python",
   "name": "python",
   "nbconvert_exporter": "python",
   "pygments_lexer": "ipython3",
   "version": "3.6.15"
  },
  "papermill": {
   "default_parameters": {},
   "duration": 118.225798,
   "end_time": "2022-10-01T10:13:28.484896",
   "environment_variables": {},
   "exception": null,
   "input_path": "2020-08-11-part2.ipynb",
   "output_path": "2020-08-11-part2.ipynb",
   "parameters": {},
   "start_time": "2022-10-01T10:11:30.259098",
   "version": "2.3.3"
  }
 },
 "nbformat": 4,
 "nbformat_minor": 5
}