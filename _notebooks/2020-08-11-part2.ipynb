{
 "cells": [
  {
   "cell_type": "markdown",
   "id": "98380cd3",
   "metadata": {
    "papermill": {
     "duration": 0.028211,
     "end_time": "2021-12-01T10:10:03.029164",
     "exception": false,
     "start_time": "2021-12-01T10:10:03.000953",
     "status": "completed"
    },
    "tags": []
   },
   "source": [
    "# Distinguish Your Own Digits (DYOD)"
   ]
  },
  {
   "cell_type": "markdown",
   "id": "ef31240d",
   "metadata": {
    "papermill": {
     "duration": 0.024748,
     "end_time": "2021-12-01T10:10:03.079246",
     "exception": false,
     "start_time": "2021-12-01T10:10:03.054498",
     "status": "completed"
    },
    "tags": []
   },
   "source": [
    "You are going to write a classifier that distinguishes between the number 3 and number 8."
   ]
  },
  {
   "cell_type": "code",
   "execution_count": 1,
   "id": "b15c8646",
   "metadata": {
    "execution": {
     "iopub.execute_input": "2021-12-01T10:10:03.139128Z",
     "iopub.status.busy": "2021-12-01T10:10:03.138632Z",
     "iopub.status.idle": "2021-12-01T10:10:03.148063Z",
     "shell.execute_reply": "2021-12-01T10:10:03.147619Z"
    },
    "papermill": {
     "duration": 0.044202,
     "end_time": "2021-12-01T10:10:03.148176",
     "exception": false,
     "start_time": "2021-12-01T10:10:03.103974",
     "status": "completed"
    },
    "tags": []
   },
   "outputs": [],
   "source": [
    "%load_ext autoreload\n",
    "%autoreload 2"
   ]
  },
  {
   "cell_type": "code",
   "execution_count": 2,
   "id": "22ef38dc",
   "metadata": {
    "execution": {
     "iopub.execute_input": "2021-12-01T10:10:03.201568Z",
     "iopub.status.busy": "2021-12-01T10:10:03.201068Z",
     "iopub.status.idle": "2021-12-01T10:10:03.744309Z",
     "shell.execute_reply": "2021-12-01T10:10:03.743859Z"
    },
    "papermill": {
     "duration": 0.571128,
     "end_time": "2021-12-01T10:10:03.744423",
     "exception": false,
     "start_time": "2021-12-01T10:10:03.173295",
     "status": "completed"
    },
    "tags": []
   },
   "outputs": [],
   "source": [
    "%matplotlib inline\n",
    "import numpy as np\n",
    "import matplotlib.pyplot as plt\n",
    "import pandas as pd"
   ]
  },
  {
   "cell_type": "markdown",
   "id": "ba036198",
   "metadata": {
    "papermill": {
     "duration": 0.024946,
     "end_time": "2021-12-01T10:10:03.794248",
     "exception": false,
     "start_time": "2021-12-01T10:10:03.769302",
     "status": "completed"
    },
    "tags": []
   },
   "source": [
    "From the command line run `pip install mnist`. This is a library that will help you bring down the mnist dataset. If you run this from a notebook, you need to put  `!pip install mnist` in a cell by itself."
   ]
  },
  {
   "cell_type": "code",
   "execution_count": 3,
   "id": "bb6ad8a1",
   "metadata": {
    "execution": {
     "iopub.execute_input": "2021-12-01T10:10:03.848027Z",
     "iopub.status.busy": "2021-12-01T10:10:03.847491Z",
     "iopub.status.idle": "2021-12-01T10:10:05.470549Z",
     "shell.execute_reply": "2021-12-01T10:10:05.470112Z"
    },
    "papermill": {
     "duration": 1.651669,
     "end_time": "2021-12-01T10:10:05.470663",
     "exception": false,
     "start_time": "2021-12-01T10:10:03.818994",
     "status": "completed"
    },
    "tags": []
   },
   "outputs": [
    {
     "name": "stdout",
     "output_type": "stream",
     "text": [
      "Collecting mnist\r\n"
     ]
    },
    {
     "name": "stdout",
     "output_type": "stream",
     "text": [
      "  Downloading mnist-0.2.2-py2.py3-none-any.whl (3.5 kB)\r\n",
      "Requirement already satisfied: numpy in /opt/hostedtoolcache/Python/3.6.15/x64/lib/python3.6/site-packages (from mnist) (1.19.5)\r\n"
     ]
    },
    {
     "name": "stdout",
     "output_type": "stream",
     "text": [
      "Installing collected packages: mnist\r\n",
      "Successfully installed mnist-0.2.2\r\n"
     ]
    }
   ],
   "source": [
    "!pip install mnist"
   ]
  },
  {
   "cell_type": "markdown",
   "id": "69df9c9a",
   "metadata": {
    "papermill": {
     "duration": 0.025527,
     "end_time": "2021-12-01T10:10:05.521924",
     "exception": false,
     "start_time": "2021-12-01T10:10:05.496397",
     "status": "completed"
    },
    "tags": []
   },
   "source": [
    "## Preparing the Data"
   ]
  },
  {
   "cell_type": "code",
   "execution_count": 4,
   "id": "7f69d806",
   "metadata": {
    "execution": {
     "iopub.execute_input": "2021-12-01T10:10:05.576429Z",
     "iopub.status.busy": "2021-12-01T10:10:05.575925Z",
     "iopub.status.idle": "2021-12-01T10:10:05.588438Z",
     "shell.execute_reply": "2021-12-01T10:10:05.588030Z"
    },
    "papermill": {
     "duration": 0.04112,
     "end_time": "2021-12-01T10:10:05.588535",
     "exception": false,
     "start_time": "2021-12-01T10:10:05.547415",
     "status": "completed"
    },
    "tags": []
   },
   "outputs": [],
   "source": [
    "import mnist"
   ]
  },
  {
   "cell_type": "code",
   "execution_count": 5,
   "id": "a411e44f",
   "metadata": {
    "execution": {
     "iopub.execute_input": "2021-12-01T10:10:05.642620Z",
     "iopub.status.busy": "2021-12-01T10:10:05.642128Z",
     "iopub.status.idle": "2021-12-01T10:10:06.248625Z",
     "shell.execute_reply": "2021-12-01T10:10:06.248188Z"
    },
    "papermill": {
     "duration": 0.634546,
     "end_time": "2021-12-01T10:10:06.248735",
     "exception": false,
     "start_time": "2021-12-01T10:10:05.614189",
     "status": "completed"
    },
    "tags": []
   },
   "outputs": [],
   "source": [
    "train_images = mnist.train_images()\n",
    "train_labels = mnist.train_labels()"
   ]
  },
  {
   "cell_type": "code",
   "execution_count": 6,
   "id": "dceab3a5",
   "metadata": {
    "execution": {
     "iopub.execute_input": "2021-12-01T10:10:06.303831Z",
     "iopub.status.busy": "2021-12-01T10:10:06.303293Z",
     "iopub.status.idle": "2021-12-01T10:10:06.316492Z",
     "shell.execute_reply": "2021-12-01T10:10:06.316062Z"
    },
    "papermill": {
     "duration": 0.041807,
     "end_time": "2021-12-01T10:10:06.316592",
     "exception": false,
     "start_time": "2021-12-01T10:10:06.274785",
     "status": "completed"
    },
    "tags": []
   },
   "outputs": [
    {
     "data": {
      "text/plain": [
       "((60000, 28, 28), (60000,))"
      ]
     },
     "execution_count": 6,
     "metadata": {},
     "output_type": "execute_result"
    }
   ],
   "source": [
    "train_images.shape, train_labels.shape"
   ]
  },
  {
   "cell_type": "code",
   "execution_count": 7,
   "id": "f50dc2bb",
   "metadata": {
    "execution": {
     "iopub.execute_input": "2021-12-01T10:10:06.371281Z",
     "iopub.status.busy": "2021-12-01T10:10:06.370790Z",
     "iopub.status.idle": "2021-12-01T10:10:06.592300Z",
     "shell.execute_reply": "2021-12-01T10:10:06.591835Z"
    },
    "papermill": {
     "duration": 0.250145,
     "end_time": "2021-12-01T10:10:06.592407",
     "exception": false,
     "start_time": "2021-12-01T10:10:06.342262",
     "status": "completed"
    },
    "tags": []
   },
   "outputs": [],
   "source": [
    "test_images = mnist.test_images()\n",
    "test_labels = mnist.test_labels()"
   ]
  },
  {
   "cell_type": "code",
   "execution_count": 8,
   "id": "fc38cf1b",
   "metadata": {
    "execution": {
     "iopub.execute_input": "2021-12-01T10:10:06.647716Z",
     "iopub.status.busy": "2021-12-01T10:10:06.647198Z",
     "iopub.status.idle": "2021-12-01T10:10:06.658617Z",
     "shell.execute_reply": "2021-12-01T10:10:06.658218Z"
    },
    "papermill": {
     "duration": 0.040281,
     "end_time": "2021-12-01T10:10:06.658722",
     "exception": false,
     "start_time": "2021-12-01T10:10:06.618441",
     "status": "completed"
    },
    "tags": []
   },
   "outputs": [
    {
     "data": {
      "text/plain": [
       "((10000, 28, 28), (10000,))"
      ]
     },
     "execution_count": 8,
     "metadata": {},
     "output_type": "execute_result"
    }
   ],
   "source": [
    "test_images.shape, test_labels.shape"
   ]
  },
  {
   "cell_type": "code",
   "execution_count": 9,
   "id": "f9ed8fe0",
   "metadata": {
    "execution": {
     "iopub.execute_input": "2021-12-01T10:10:06.714328Z",
     "iopub.status.busy": "2021-12-01T10:10:06.713841Z",
     "iopub.status.idle": "2021-12-01T10:10:06.844017Z",
     "shell.execute_reply": "2021-12-01T10:10:06.844426Z"
    },
    "papermill": {
     "duration": 0.159636,
     "end_time": "2021-12-01T10:10:06.844553",
     "exception": false,
     "start_time": "2021-12-01T10:10:06.684917",
     "status": "completed"
    },
    "tags": []
   },
   "outputs": [
    {
     "name": "stdout",
     "output_type": "stream",
     "text": [
      "2\n"
     ]
    },
    {
     "data": {
      "text/plain": [
       "<matplotlib.image.AxesImage at 0x7fda6ce50550>"
      ]
     },
     "execution_count": 9,
     "metadata": {},
     "output_type": "execute_result"
    },
    {
     "data": {
      "image/png": "[encoded data removed]",
      "text/plain": [
       "<Figure size 432x288 with 1 Axes>"
      ]
     },
     "metadata": {
      "needs_background": "light"
     },
     "output_type": "display_data"
    }
   ],
   "source": [
    "image_index = 7776 # You may select anything up to 60,000\n",
    "print(train_labels[image_index]) \n",
    "plt.imshow(train_images[image_index], cmap='Greys')"
   ]
  },
  {
   "cell_type": "markdown",
   "id": "a8d2388d",
   "metadata": {
    "papermill": {
     "duration": 0.027685,
     "end_time": "2021-12-01T10:10:06.899679",
     "exception": false,
     "start_time": "2021-12-01T10:10:06.871994",
     "status": "completed"
    },
    "tags": []
   },
   "source": [
    "## Filter data to get 3 and 8 out"
   ]
  },
  {
   "cell_type": "code",
   "execution_count": 10,
   "id": "776f7fc7",
   "metadata": {
    "execution": {
     "iopub.execute_input": "2021-12-01T10:10:06.958308Z",
     "iopub.status.busy": "2021-12-01T10:10:06.957787Z",
     "iopub.status.idle": "2021-12-01T10:10:06.974566Z",
     "shell.execute_reply": "2021-12-01T10:10:06.974977Z"
    },
    "papermill": {
     "duration": 0.048116,
     "end_time": "2021-12-01T10:10:06.975103",
     "exception": false,
     "start_time": "2021-12-01T10:10:06.926987",
     "status": "completed"
    },
    "tags": []
   },
   "outputs": [],
   "source": [
    "train_filter = np.where((train_labels == 3 ) | (train_labels == 8))\n",
    "test_filter = np.where((test_labels == 3) | (test_labels == 8))\n",
    "X_train, y_train = train_images[train_filter], train_labels[train_filter]\n",
    "X_test, y_test = test_images[test_filter], test_labels[test_filter]"
   ]
  },
  {
   "cell_type": "markdown",
   "id": "948f0b7e",
   "metadata": {
    "papermill": {
     "duration": 0.027169,
     "end_time": "2021-12-01T10:10:07.029648",
     "exception": false,
     "start_time": "2021-12-01T10:10:07.002479",
     "status": "completed"
    },
    "tags": []
   },
   "source": [
    "We normalize the pizel values in the 0 to 1 range"
   ]
  },
  {
   "cell_type": "code",
   "execution_count": 11,
   "id": "ee4c2166",
   "metadata": {
    "execution": {
     "iopub.execute_input": "2021-12-01T10:10:07.087555Z",
     "iopub.status.busy": "2021-12-01T10:10:07.087060Z",
     "iopub.status.idle": "2021-12-01T10:10:07.127150Z",
     "shell.execute_reply": "2021-12-01T10:10:07.126708Z"
    },
    "papermill": {
     "duration": 0.070305,
     "end_time": "2021-12-01T10:10:07.127257",
     "exception": false,
     "start_time": "2021-12-01T10:10:07.056952",
     "status": "completed"
    },
    "tags": []
   },
   "outputs": [],
   "source": [
    "X_train = X_train/255.\n",
    "X_test = X_test/255."
   ]
  },
  {
   "cell_type": "markdown",
   "id": "ddcf4fab",
   "metadata": {
    "papermill": {
     "duration": 0.02768,
     "end_time": "2021-12-01T10:10:07.182540",
     "exception": false,
     "start_time": "2021-12-01T10:10:07.154860",
     "status": "completed"
    },
    "tags": []
   },
   "source": [
    "And setup the labels as 1 (when the digit is 3) and 0 (when the digit is 8)"
   ]
  },
  {
   "cell_type": "code",
   "execution_count": 12,
   "id": "7dc908f2",
   "metadata": {
    "execution": {
     "iopub.execute_input": "2021-12-01T10:10:07.240503Z",
     "iopub.status.busy": "2021-12-01T10:10:07.240001Z",
     "iopub.status.idle": "2021-12-01T10:10:07.250748Z",
     "shell.execute_reply": "2021-12-01T10:10:07.250361Z"
    },
    "papermill": {
     "duration": 0.04098,
     "end_time": "2021-12-01T10:10:07.250846",
     "exception": false,
     "start_time": "2021-12-01T10:10:07.209866",
     "status": "completed"
    },
    "tags": []
   },
   "outputs": [],
   "source": [
    "y_train = 1*(y_train==3)\n",
    "y_test = 1*(y_test==3)"
   ]
  },
  {
   "cell_type": "code",
   "execution_count": 13,
   "id": "01e4e969",
   "metadata": {
    "execution": {
     "iopub.execute_input": "2021-12-01T10:10:07.308601Z",
     "iopub.status.busy": "2021-12-01T10:10:07.308095Z",
     "iopub.status.idle": "2021-12-01T10:10:07.319721Z",
     "shell.execute_reply": "2021-12-01T10:10:07.319291Z"
    },
    "papermill": {
     "duration": 0.041581,
     "end_time": "2021-12-01T10:10:07.319821",
     "exception": false,
     "start_time": "2021-12-01T10:10:07.278240",
     "status": "completed"
    },
    "tags": []
   },
   "outputs": [
    {
     "data": {
      "text/plain": [
       "((11982, 28, 28), (1984, 28, 28))"
      ]
     },
     "execution_count": 13,
     "metadata": {},
     "output_type": "execute_result"
    }
   ],
   "source": [
    "X_train.shape, X_test.shape"
   ]
  },
  {
   "cell_type": "markdown",
   "id": "5ccf3f85",
   "metadata": {
    "papermill": {
     "duration": 0.027637,
     "end_time": "2021-12-01T10:10:07.374761",
     "exception": false,
     "start_time": "2021-12-01T10:10:07.347124",
     "status": "completed"
    },
    "tags": []
   },
   "source": [
    "We reshape the data to flatten the image pixels into a set of features or co-variates:"
   ]
  },
  {
   "cell_type": "code",
   "execution_count": 14,
   "id": "5286a4a3",
   "metadata": {
    "execution": {
     "iopub.execute_input": "2021-12-01T10:10:07.434016Z",
     "iopub.status.busy": "2021-12-01T10:10:07.433092Z",
     "iopub.status.idle": "2021-12-01T10:10:07.446036Z",
     "shell.execute_reply": "2021-12-01T10:10:07.445613Z"
    },
    "papermill": {
     "duration": 0.043724,
     "end_time": "2021-12-01T10:10:07.446138",
     "exception": false,
     "start_time": "2021-12-01T10:10:07.402414",
     "status": "completed"
    },
    "tags": []
   },
   "outputs": [
    {
     "data": {
      "text/plain": [
       "((11982, 784), (1984, 784))"
      ]
     },
     "execution_count": 14,
     "metadata": {},
     "output_type": "execute_result"
    }
   ],
   "source": [
    "X_train = X_train.reshape(X_train.shape[0], -1)\n",
    "X_test = X_test.reshape(X_test.shape[0], -1)\n",
    "X_train.shape, X_test.shape"
   ]
  },
  {
   "cell_type": "code",
   "execution_count": 15,
   "id": "73c5f88a",
   "metadata": {
    "execution": {
     "iopub.execute_input": "2021-12-01T10:10:07.505264Z",
     "iopub.status.busy": "2021-12-01T10:10:07.504772Z",
     "iopub.status.idle": "2021-12-01T10:10:07.521247Z",
     "shell.execute_reply": "2021-12-01T10:10:07.521627Z"
    },
    "papermill": {
     "duration": 0.047788,
     "end_time": "2021-12-01T10:10:07.521746",
     "exception": false,
     "start_time": "2021-12-01T10:10:07.473958",
     "status": "completed"
    },
    "tags": []
   },
   "outputs": [],
   "source": [
    "#Impoting functions from 'Kudzu'\n",
    "from kudzu.model import Model\n",
    "from kudzu.train import Learner\n",
    "from kudzu.optim import GD\n",
    "from kudzu.data import Data, Sampler,Dataloader\n",
    "\n",
    "from kudzu.callbacks import AccCallback\n",
    "from kudzu.callbacks import ClfCallback\n",
    "\n",
    "from kudzu.loss import MSE\n",
    "\n",
    "from kudzu.layer import Sigmoid,Relu\n",
    "from kudzu.layer import Affine"
   ]
  },
  {
   "cell_type": "markdown",
   "id": "bc01172a",
   "metadata": {
    "papermill": {
     "duration": 0.027691,
     "end_time": "2021-12-01T10:10:07.577312",
     "exception": false,
     "start_time": "2021-12-01T10:10:07.549621",
     "status": "completed"
    },
    "tags": []
   },
   "source": [
    "### Let us create a `Config` class, to store important parameters. \n",
    "This class essentially plays the role of a dictionary."
   ]
  },
  {
   "cell_type": "code",
   "execution_count": 16,
   "id": "978281aa",
   "metadata": {
    "execution": {
     "iopub.execute_input": "2021-12-01T10:10:07.636169Z",
     "iopub.status.busy": "2021-12-01T10:10:07.635659Z",
     "iopub.status.idle": "2021-12-01T10:10:07.646455Z",
     "shell.execute_reply": "2021-12-01T10:10:07.646045Z"
    },
    "papermill": {
     "duration": 0.041612,
     "end_time": "2021-12-01T10:10:07.646555",
     "exception": false,
     "start_time": "2021-12-01T10:10:07.604943",
     "status": "completed"
    },
    "tags": []
   },
   "outputs": [],
   "source": [
    "class Config:\n",
    "    pass\n",
    "config = Config()\n",
    "config.lr = 0.001\n",
    "config.num_epochs = 250\n",
    "config.bs = 50"
   ]
  },
  {
   "cell_type": "markdown",
   "id": "1385fa59",
   "metadata": {
    "papermill": {
     "duration": 0.027614,
     "end_time": "2021-12-01T10:10:07.702120",
     "exception": false,
     "start_time": "2021-12-01T10:10:07.674506",
     "status": "completed"
    },
    "tags": []
   },
   "source": [
    "### Running Models with the Training data\n",
    "Details about the network layers:\n",
    "- A first affine layer has 784 inputs and does 100 affine transforms. These are followed by a Relu\n",
    "- A second affine layer has 100 inputs from the 100 activations of the past layer, and does 100 affine transforms. These are followed by a Relu\n",
    "- A third affine layer has 100 activations and does 2 affine transformations to create an embedding for visualization. There is no non-linearity here.\n",
    "- A final \"logistic regression\" which has an affine transform from 2 inputs to 1 output, which is squeezed through a sigmoid.\n"
   ]
  },
  {
   "cell_type": "code",
   "execution_count": 17,
   "id": "2b9c66db",
   "metadata": {
    "execution": {
     "iopub.execute_input": "2021-12-01T10:10:07.761274Z",
     "iopub.status.busy": "2021-12-01T10:10:07.760767Z",
     "iopub.status.idle": "2021-12-01T10:10:07.771651Z",
     "shell.execute_reply": "2021-12-01T10:10:07.771242Z"
    },
    "papermill": {
     "duration": 0.041921,
     "end_time": "2021-12-01T10:10:07.771753",
     "exception": false,
     "start_time": "2021-12-01T10:10:07.729832",
     "status": "completed"
    },
    "tags": []
   },
   "outputs": [],
   "source": [
    "data = Data(X_train, y_train.reshape(-1,1))\n",
    "sampler = Sampler(data, config.bs, shuffle=True)\n",
    "\n",
    "dl = Dataloader(data, sampler)\n",
    "\n",
    "opt = GD(config.lr)\n",
    "loss = MSE()"
   ]
  },
  {
   "cell_type": "code",
   "execution_count": 18,
   "id": "b275e4c2",
   "metadata": {
    "execution": {
     "iopub.execute_input": "2021-12-01T10:10:07.830866Z",
     "iopub.status.busy": "2021-12-01T10:10:07.830359Z",
     "iopub.status.idle": "2021-12-01T10:10:07.841175Z",
     "shell.execute_reply": "2021-12-01T10:10:07.840786Z"
    },
    "papermill": {
     "duration": 0.041558,
     "end_time": "2021-12-01T10:10:07.841278",
     "exception": false,
     "start_time": "2021-12-01T10:10:07.799720",
     "status": "completed"
    },
    "tags": []
   },
   "outputs": [],
   "source": [
    "training_data_x = X_train\n",
    "testing_data_x = X_test\n",
    "training_data_y = y_train.reshape(-1,1)\n",
    "testing_data_y = y_test.reshape(-1,1)"
   ]
  },
  {
   "cell_type": "code",
   "execution_count": 19,
   "id": "76951160",
   "metadata": {
    "execution": {
     "iopub.execute_input": "2021-12-01T10:10:07.900825Z",
     "iopub.status.busy": "2021-12-01T10:10:07.900307Z",
     "iopub.status.idle": "2021-12-01T10:10:07.916074Z",
     "shell.execute_reply": "2021-12-01T10:10:07.915656Z"
    },
    "papermill": {
     "duration": 0.047086,
     "end_time": "2021-12-01T10:10:07.916174",
     "exception": false,
     "start_time": "2021-12-01T10:10:07.869088",
     "status": "completed"
    },
    "tags": []
   },
   "outputs": [
    {
     "name": "stdout",
     "output_type": "stream",
     "text": [
      "xavier\n",
      "xavier\n",
      "xavier\n",
      "xavier\n",
      "xavier\n"
     ]
    }
   ],
   "source": [
    "layers = [Affine(\"first\", 784, 100), Relu(\"first\"), Affine(\"second\", 100, 100), Relu(\"second\"), Affine(\"third\", 100, 2), Affine(\"last\", 2, 1), Sigmoid(\"last\")]\n",
    "model_nn = Model(layers)\n",
    "model_lr = Model([Affine(\"logits\", 784, 1), Sigmoid(\"sigmoid\")])"
   ]
  },
  {
   "cell_type": "code",
   "execution_count": 20,
   "id": "6eede77a",
   "metadata": {
    "execution": {
     "iopub.execute_input": "2021-12-01T10:10:07.975800Z",
     "iopub.status.busy": "2021-12-01T10:10:07.975282Z",
     "iopub.status.idle": "2021-12-01T10:10:07.986305Z",
     "shell.execute_reply": "2021-12-01T10:10:07.985899Z"
    },
    "papermill": {
     "duration": 0.042017,
     "end_time": "2021-12-01T10:10:07.986404",
     "exception": false,
     "start_time": "2021-12-01T10:10:07.944387",
     "status": "completed"
    },
    "tags": []
   },
   "outputs": [],
   "source": [
    "nn_learner = Learner(loss, model_nn, opt, config.num_epochs)\n",
    "acc_nn = ClfCallback(nn_learner, config.bs, training_data_x , testing_data_x, training_data_y, testing_data_y)\n",
    "nn_learner.set_callbacks([acc_nn])"
   ]
  },
  {
   "cell_type": "code",
   "execution_count": 21,
   "id": "877b6cc7",
   "metadata": {
    "execution": {
     "iopub.execute_input": "2021-12-01T10:10:08.045923Z",
     "iopub.status.busy": "2021-12-01T10:10:08.045438Z",
     "iopub.status.idle": "2021-12-01T10:10:08.056384Z",
     "shell.execute_reply": "2021-12-01T10:10:08.055971Z"
    },
    "papermill": {
     "duration": 0.041915,
     "end_time": "2021-12-01T10:10:08.056481",
     "exception": false,
     "start_time": "2021-12-01T10:10:08.014566",
     "status": "completed"
    },
    "tags": []
   },
   "outputs": [],
   "source": [
    "lr_learner = Learner(loss, model_lr, opt, config.num_epochs)\n",
    "acc_lr = ClfCallback(lr_learner, config.bs, training_data_x , testing_data_x, training_data_y, testing_data_y)\n",
    "lr_learner.set_callbacks([acc_lr])"
   ]
  },
  {
   "cell_type": "code",
   "execution_count": 22,
   "id": "d9b133c3",
   "metadata": {
    "execution": {
     "iopub.execute_input": "2021-12-01T10:10:08.115806Z",
     "iopub.status.busy": "2021-12-01T10:10:08.115288Z",
     "iopub.status.idle": "2021-12-01T10:13:02.928886Z",
     "shell.execute_reply": "2021-12-01T10:13:02.929299Z"
    },
    "papermill": {
     "duration": 174.844846,
     "end_time": "2021-12-01T10:13:02.929423",
     "exception": false,
     "start_time": "2021-12-01T10:10:08.084577",
     "status": "completed"
    },
    "tags": []
   },
   "outputs": [
    {
     "name": "stdout",
     "output_type": "stream",
     "text": [
      "Epoch 0, Loss 0.2565\n",
      "Training Accuracy: 0.5085, Testing Accuracy: 0.5166\n",
      "\n"
     ]
    },
    {
     "name": "stdout",
     "output_type": "stream",
     "text": [
      "Epoch 10, Loss 0.1169\n",
      "Training Accuracy: 0.9140, Testing Accuracy: 0.9269\n",
      "\n"
     ]
    },
    {
     "name": "stdout",
     "output_type": "stream",
     "text": [
      "Epoch 20, Loss 0.0634\n",
      "Training Accuracy: 0.9377, Testing Accuracy: 0.9501\n",
      "\n"
     ]
    },
    {
     "name": "stdout",
     "output_type": "stream",
     "text": [
      "Epoch 30, Loss 0.0473\n",
      "Training Accuracy: 0.9506, Testing Accuracy: 0.9577\n",
      "\n"
     ]
    },
    {
     "name": "stdout",
     "output_type": "stream",
     "text": [
      "Epoch 40, Loss 0.0399\n",
      "Training Accuracy: 0.9566, Testing Accuracy: 0.9622\n",
      "\n"
     ]
    },
    {
     "name": "stdout",
     "output_type": "stream",
     "text": [
      "Epoch 50, Loss 0.0357\n",
      "Training Accuracy: 0.9603, Testing Accuracy: 0.9647\n",
      "\n"
     ]
    },
    {
     "name": "stdout",
     "output_type": "stream",
     "text": [
      "Epoch 60, Loss 0.0328\n",
      "Training Accuracy: 0.9635, Testing Accuracy: 0.9667\n",
      "\n"
     ]
    },
    {
     "name": "stdout",
     "output_type": "stream",
     "text": [
      "Epoch 70, Loss 0.0307\n",
      "Training Accuracy: 0.9649, Testing Accuracy: 0.9677\n",
      "\n"
     ]
    },
    {
     "name": "stdout",
     "output_type": "stream",
     "text": [
      "Epoch 80, Loss 0.0291\n",
      "Training Accuracy: 0.9671, Testing Accuracy: 0.9688\n",
      "\n"
     ]
    },
    {
     "name": "stdout",
     "output_type": "stream",
     "text": [
      "Epoch 90, Loss 0.0278\n",
      "Training Accuracy: 0.9693, Testing Accuracy: 0.9693\n",
      "\n"
     ]
    },
    {
     "name": "stdout",
     "output_type": "stream",
     "text": [
      "Epoch 100, Loss 0.0266\n",
      "Training Accuracy: 0.9709, Testing Accuracy: 0.9698\n",
      "\n"
     ]
    },
    {
     "name": "stdout",
     "output_type": "stream",
     "text": [
      "Epoch 110, Loss 0.0257\n",
      "Training Accuracy: 0.9714, Testing Accuracy: 0.9708\n",
      "\n"
     ]
    },
    {
     "name": "stdout",
     "output_type": "stream",
     "text": [
      "Epoch 120, Loss 0.0248\n",
      "Training Accuracy: 0.9723, Testing Accuracy: 0.9713\n",
      "\n"
     ]
    },
    {
     "name": "stdout",
     "output_type": "stream",
     "text": [
      "Epoch 130, Loss 0.024\n",
      "Training Accuracy: 0.9726, Testing Accuracy: 0.9718\n",
      "\n"
     ]
    },
    {
     "name": "stdout",
     "output_type": "stream",
     "text": [
      "Epoch 140, Loss 0.0233\n",
      "Training Accuracy: 0.9738, Testing Accuracy: 0.9728\n",
      "\n"
     ]
    },
    {
     "name": "stdout",
     "output_type": "stream",
     "text": [
      "Epoch 150, Loss 0.0227\n",
      "Training Accuracy: 0.9743, Testing Accuracy: 0.9738\n",
      "\n"
     ]
    },
    {
     "name": "stdout",
     "output_type": "stream",
     "text": [
      "Epoch 160, Loss 0.0221\n",
      "Training Accuracy: 0.9755, Testing Accuracy: 0.9738\n",
      "\n"
     ]
    },
    {
     "name": "stdout",
     "output_type": "stream",
     "text": [
      "Epoch 170, Loss 0.0215\n",
      "Training Accuracy: 0.9766, Testing Accuracy: 0.9743\n",
      "\n"
     ]
    },
    {
     "name": "stdout",
     "output_type": "stream",
     "text": [
      "Epoch 180, Loss 0.021\n",
      "Training Accuracy: 0.9770, Testing Accuracy: 0.9738\n",
      "\n"
     ]
    },
    {
     "name": "stdout",
     "output_type": "stream",
     "text": [
      "Epoch 190, Loss 0.0205\n",
      "Training Accuracy: 0.9776, Testing Accuracy: 0.9743\n",
      "\n"
     ]
    },
    {
     "name": "stdout",
     "output_type": "stream",
     "text": [
      "Epoch 200, Loss 0.0201\n",
      "Training Accuracy: 0.9779, Testing Accuracy: 0.9748\n",
      "\n"
     ]
    },
    {
     "name": "stdout",
     "output_type": "stream",
     "text": [
      "Epoch 210, Loss 0.0196\n",
      "Training Accuracy: 0.9784, Testing Accuracy: 0.9758\n",
      "\n"
     ]
    },
    {
     "name": "stdout",
     "output_type": "stream",
     "text": [
      "Epoch 220, Loss 0.0192\n",
      "Training Accuracy: 0.9791, Testing Accuracy: 0.9768\n",
      "\n"
     ]
    },
    {
     "name": "stdout",
     "output_type": "stream",
     "text": [
      "Epoch 230, Loss 0.0188\n",
      "Training Accuracy: 0.9797, Testing Accuracy: 0.9758\n",
      "\n"
     ]
    },
    {
     "name": "stdout",
     "output_type": "stream",
     "text": [
      "Epoch 240, Loss 0.0184\n",
      "Training Accuracy: 0.9801, Testing Accuracy: 0.9758\n",
      "\n"
     ]
    },
    {
     "data": {
      "text/plain": [
       "0.006684779790062635"
      ]
     },
     "execution_count": 22,
     "metadata": {},
     "output_type": "execute_result"
    }
   ],
   "source": [
    "nn_learner.train_loop(dl)"
   ]
  },
  {
   "cell_type": "code",
   "execution_count": 23,
   "id": "e0163366",
   "metadata": {
    "execution": {
     "iopub.execute_input": "2021-12-01T10:13:03.003586Z",
     "iopub.status.busy": "2021-12-01T10:13:03.003056Z",
     "iopub.status.idle": "2021-12-01T10:13:15.045492Z",
     "shell.execute_reply": "2021-12-01T10:13:15.045918Z"
    },
    "papermill": {
     "duration": 12.081205,
     "end_time": "2021-12-01T10:13:15.046043",
     "exception": false,
     "start_time": "2021-12-01T10:13:02.964838",
     "status": "completed"
    },
    "tags": []
   },
   "outputs": [
    {
     "name": "stdout",
     "output_type": "stream",
     "text": [
      "Epoch 0, Loss 0.2606\n",
      "Training Accuracy: 0.6022, Testing Accuracy: 0.5897\n",
      "\n"
     ]
    },
    {
     "name": "stdout",
     "output_type": "stream",
     "text": [
      "Epoch 10, Loss 0.1069\n",
      "Training Accuracy: 0.9036, Testing Accuracy: 0.9173\n",
      "\n"
     ]
    },
    {
     "name": "stdout",
     "output_type": "stream",
     "text": [
      "Epoch 20, Loss 0.0814\n",
      "Training Accuracy: 0.9258, Testing Accuracy: 0.9410\n",
      "\n"
     ]
    },
    {
     "name": "stdout",
     "output_type": "stream",
     "text": [
      "Epoch 30, Loss 0.0697\n",
      "Training Accuracy: 0.9349, Testing Accuracy: 0.9476\n",
      "\n"
     ]
    },
    {
     "name": "stdout",
     "output_type": "stream",
     "text": [
      "Epoch 40, Loss 0.0627\n",
      "Training Accuracy: 0.9403, Testing Accuracy: 0.9526\n",
      "\n"
     ]
    },
    {
     "name": "stdout",
     "output_type": "stream",
     "text": [
      "Epoch 50, Loss 0.058\n",
      "Training Accuracy: 0.9437, Testing Accuracy: 0.9551\n",
      "\n"
     ]
    },
    {
     "name": "stdout",
     "output_type": "stream",
     "text": [
      "Epoch 60, Loss 0.0545\n",
      "Training Accuracy: 0.9474, Testing Accuracy: 0.9572\n",
      "\n"
     ]
    },
    {
     "name": "stdout",
     "output_type": "stream",
     "text": [
      "Epoch 70, Loss 0.0518\n",
      "Training Accuracy: 0.9495, Testing Accuracy: 0.9612\n",
      "\n"
     ]
    },
    {
     "name": "stdout",
     "output_type": "stream",
     "text": [
      "Epoch 80, Loss 0.0497\n",
      "Training Accuracy: 0.9506, Testing Accuracy: 0.9637\n",
      "\n"
     ]
    },
    {
     "name": "stdout",
     "output_type": "stream",
     "text": [
      "Epoch 90, Loss 0.048\n",
      "Training Accuracy: 0.9515, Testing Accuracy: 0.9657\n",
      "\n"
     ]
    },
    {
     "name": "stdout",
     "output_type": "stream",
     "text": [
      "Epoch 100, Loss 0.0465\n",
      "Training Accuracy: 0.9522, Testing Accuracy: 0.9667\n",
      "\n"
     ]
    },
    {
     "name": "stdout",
     "output_type": "stream",
     "text": [
      "Epoch 110, Loss 0.0453\n",
      "Training Accuracy: 0.9534, Testing Accuracy: 0.9672\n",
      "\n"
     ]
    },
    {
     "name": "stdout",
     "output_type": "stream",
     "text": [
      "Epoch 120, Loss 0.0442\n",
      "Training Accuracy: 0.9543, Testing Accuracy: 0.9682\n",
      "\n"
     ]
    },
    {
     "name": "stdout",
     "output_type": "stream",
     "text": [
      "Epoch 130, Loss 0.0432\n",
      "Training Accuracy: 0.9550, Testing Accuracy: 0.9682\n",
      "\n"
     ]
    },
    {
     "name": "stdout",
     "output_type": "stream",
     "text": [
      "Epoch 140, Loss 0.0424\n",
      "Training Accuracy: 0.9556, Testing Accuracy: 0.9682\n",
      "\n"
     ]
    },
    {
     "name": "stdout",
     "output_type": "stream",
     "text": [
      "Epoch 150, Loss 0.0416\n",
      "Training Accuracy: 0.9563, Testing Accuracy: 0.9682\n",
      "\n"
     ]
    },
    {
     "name": "stdout",
     "output_type": "stream",
     "text": [
      "Epoch 160, Loss 0.0409\n",
      "Training Accuracy: 0.9567, Testing Accuracy: 0.9682\n",
      "\n"
     ]
    },
    {
     "name": "stdout",
     "output_type": "stream",
     "text": [
      "Epoch 170, Loss 0.0403\n",
      "Training Accuracy: 0.9569, Testing Accuracy: 0.9693\n",
      "\n"
     ]
    },
    {
     "name": "stdout",
     "output_type": "stream",
     "text": [
      "Epoch 180, Loss 0.0397\n",
      "Training Accuracy: 0.9579, Testing Accuracy: 0.9693\n",
      "\n"
     ]
    },
    {
     "name": "stdout",
     "output_type": "stream",
     "text": [
      "Epoch 190, Loss 0.0392\n",
      "Training Accuracy: 0.9584, Testing Accuracy: 0.9693\n",
      "\n"
     ]
    },
    {
     "name": "stdout",
     "output_type": "stream",
     "text": [
      "Epoch 200, Loss 0.0387\n",
      "Training Accuracy: 0.9590, Testing Accuracy: 0.9688\n",
      "\n"
     ]
    },
    {
     "name": "stdout",
     "output_type": "stream",
     "text": [
      "Epoch 210, Loss 0.0382\n",
      "Training Accuracy: 0.9594, Testing Accuracy: 0.9688\n",
      "\n"
     ]
    },
    {
     "name": "stdout",
     "output_type": "stream",
     "text": [
      "Epoch 220, Loss 0.0378\n",
      "Training Accuracy: 0.9595, Testing Accuracy: 0.9698\n",
      "\n"
     ]
    },
    {
     "name": "stdout",
     "output_type": "stream",
     "text": [
      "Epoch 230, Loss 0.0374\n",
      "Training Accuracy: 0.9597, Testing Accuracy: 0.9703\n",
      "\n"
     ]
    },
    {
     "name": "stdout",
     "output_type": "stream",
     "text": [
      "Epoch 240, Loss 0.037\n",
      "Training Accuracy: 0.9601, Testing Accuracy: 0.9703\n",
      "\n"
     ]
    },
    {
     "data": {
      "text/plain": [
       "0.030124553851160633"
      ]
     },
     "execution_count": 23,
     "metadata": {},
     "output_type": "execute_result"
    }
   ],
   "source": [
    "lr_learner.train_loop(dl)"
   ]
  },
  {
   "cell_type": "code",
   "execution_count": 24,
   "id": "ca410940",
   "metadata": {
    "execution": {
     "iopub.execute_input": "2021-12-01T10:13:15.134835Z",
     "iopub.status.busy": "2021-12-01T10:13:15.134334Z",
     "iopub.status.idle": "2021-12-01T10:13:15.358335Z",
     "shell.execute_reply": "2021-12-01T10:13:15.357916Z"
    },
    "papermill": {
     "duration": 0.269415,
     "end_time": "2021-12-01T10:13:15.358444",
     "exception": false,
     "start_time": "2021-12-01T10:13:15.089029",
     "status": "completed"
    },
    "tags": []
   },
   "outputs": [
    {
     "data": {
      "text/plain": [
       "<matplotlib.legend.Legend at 0x7fda6ca2bcc0>"
      ]
     },
     "execution_count": 24,
     "metadata": {},
     "output_type": "execute_result"
    },
    {
     "data": {
      "image/png": "[encoded data removed]",
      "text/plain": [
       "<Figure size 1080x720 with 1 Axes>"
      ]
     },
     "metadata": {
      "needs_background": "light"
     },
     "output_type": "display_data"
    }
   ],
   "source": [
    "#comparing the results of NN and LR\n",
    "plt.figure(figsize=(15,10))\n",
    "\n",
    "# Neural Network plots\n",
    "plt.plot(acc_nn.accuracies, 'r-', label = \"Training Accuracies - NN\")\n",
    "plt.plot(acc_nn.test_accuracies, 'g-', label = \"Testing Accuracies - NN\")\n",
    "\n",
    "# Logistic Regression plots\n",
    "plt.plot(acc_lr.accuracies, 'k-', label = \"Training Accuracies - LR\")\n",
    "plt.plot(acc_lr.test_accuracies, 'b-', label = \"Testing Accuracies - LR\")\n",
    "plt.legend()"
   ]
  },
  {
   "cell_type": "markdown",
   "id": "80dfb35c",
   "metadata": {
    "papermill": {
     "duration": 0.043236,
     "end_time": "2021-12-01T10:13:15.445268",
     "exception": false,
     "start_time": "2021-12-01T10:13:15.402032",
     "status": "completed"
    },
    "tags": []
   },
   "source": [
    "#### Plotting the outputs of this layer of the NN.\n"
   ]
  },
  {
   "cell_type": "code",
   "execution_count": 25,
   "id": "45eb2ff5",
   "metadata": {
    "execution": {
     "iopub.execute_input": "2021-12-01T10:13:15.534975Z",
     "iopub.status.busy": "2021-12-01T10:13:15.534477Z",
     "iopub.status.idle": "2021-12-01T10:13:15.568625Z",
     "shell.execute_reply": "2021-12-01T10:13:15.569328Z"
    },
    "papermill": {
     "duration": 0.080934,
     "end_time": "2021-12-01T10:13:15.569463",
     "exception": false,
     "start_time": "2021-12-01T10:13:15.488529",
     "status": "completed"
    },
    "tags": []
   },
   "outputs": [],
   "source": [
    "new_model = Model(layers[:-2])\n",
    "testing_plot = new_model(testing_data_x)"
   ]
  },
  {
   "cell_type": "code",
   "execution_count": 26,
   "id": "4c0a5485",
   "metadata": {
    "execution": {
     "iopub.execute_input": "2021-12-01T10:13:15.663164Z",
     "iopub.status.busy": "2021-12-01T10:13:15.662682Z",
     "iopub.status.idle": "2021-12-01T10:13:15.882513Z",
     "shell.execute_reply": "2021-12-01T10:13:15.881723Z"
    },
    "papermill": {
     "duration": 0.269165,
     "end_time": "2021-12-01T10:13:15.882636",
     "exception": false,
     "start_time": "2021-12-01T10:13:15.613471",
     "status": "completed"
    },
    "tags": []
   },
   "outputs": [
    {
     "data": {
      "text/plain": [
       "Text(0.5, 1.0, 'Outputs')"
      ]
     },
     "execution_count": 26,
     "metadata": {},
     "output_type": "execute_result"
    },
    {
     "data": {
      "image/png": "[encoded data removed]",
      "text/plain": [
       "<Figure size 576x504 with 1 Axes>"
      ]
     },
     "metadata": {
      "needs_background": "light"
     },
     "output_type": "display_data"
    }
   ],
   "source": [
    "# Plotting the scatter plot of points and color coding by class\n",
    "plt.figure(figsize=(8,7))\n",
    "plt.scatter(testing_plot[:,0], testing_plot[:,1], alpha = 0.1, c = y_test.ravel());\n",
    "plt.title('Outputs')"
   ]
  },
  {
   "cell_type": "markdown",
   "id": "a74fcf8f",
   "metadata": {
    "papermill": {
     "duration": 0.046614,
     "end_time": "2021-12-01T10:13:15.976065",
     "exception": false,
     "start_time": "2021-12-01T10:13:15.929451",
     "status": "completed"
    },
    "tags": []
   },
   "source": [
    "Probability contours"
   ]
  },
  {
   "cell_type": "code",
   "execution_count": 27,
   "id": "d0afc8e3",
   "metadata": {
    "execution": {
     "iopub.execute_input": "2021-12-01T10:13:16.073049Z",
     "iopub.status.busy": "2021-12-01T10:13:16.072549Z",
     "iopub.status.idle": "2021-12-01T10:13:16.082994Z",
     "shell.execute_reply": "2021-12-01T10:13:16.082565Z"
    },
    "papermill": {
     "duration": 0.060343,
     "end_time": "2021-12-01T10:13:16.083096",
     "exception": false,
     "start_time": "2021-12-01T10:13:16.022753",
     "status": "completed"
    },
    "tags": []
   },
   "outputs": [],
   "source": [
    "model_prob = Model(layers[-2:]) "
   ]
  },
  {
   "cell_type": "code",
   "execution_count": 28,
   "id": "9b96e238",
   "metadata": {
    "execution": {
     "iopub.execute_input": "2021-12-01T10:13:16.199492Z",
     "iopub.status.busy": "2021-12-01T10:13:16.198990Z",
     "iopub.status.idle": "2021-12-01T10:13:16.211523Z",
     "shell.execute_reply": "2021-12-01T10:13:16.211946Z"
    },
    "papermill": {
     "duration": 0.082073,
     "end_time": "2021-12-01T10:13:16.212068",
     "exception": false,
     "start_time": "2021-12-01T10:13:16.129995",
     "status": "completed"
    },
    "tags": []
   },
   "outputs": [],
   "source": [
    "#creating the x and y ranges according to the above generated plot.\n",
    "x_range = np.linspace(-4, 1, 100) \n",
    "y_range = np.linspace(-6, 6, 100) \n",
    "x_grid, y_grid = np.meshgrid(x_range, y_range) # x_grid and y_grig are of size 100 X 100\n",
    "\n",
    "# converting x_grid and y_grid to continuous arrays\n",
    "x_gridflat = np.ravel(x_grid)\n",
    "y_gridflat = np.ravel(y_grid)\n",
    "\n",
    "# The last layer of the current model takes two columns as input. Hence transpose of np.vstack() is required.\n",
    "X = np.vstack((x_gridflat, y_gridflat)).T\n",
    "\n",
    "prob_contour = model_prob(X).reshape(100,100) "
   ]
  },
  {
   "cell_type": "code",
   "execution_count": 29,
   "id": "da72499a",
   "metadata": {
    "execution": {
     "iopub.execute_input": "2021-12-01T10:13:16.310891Z",
     "iopub.status.busy": "2021-12-01T10:13:16.309694Z",
     "iopub.status.idle": "2021-12-01T10:13:16.545865Z",
     "shell.execute_reply": "2021-12-01T10:13:16.546259Z"
    },
    "papermill": {
     "duration": 0.287163,
     "end_time": "2021-12-01T10:13:16.546388",
     "exception": false,
     "start_time": "2021-12-01T10:13:16.259225",
     "status": "completed"
    },
    "tags": []
   },
   "outputs": [
    {
     "data": {
      "image/png": "[encoded data removed]",
      "text/plain": [
       "<Figure size 720x648 with 1 Axes>"
      ]
     },
     "metadata": {
      "needs_background": "light"
     },
     "output_type": "display_data"
    }
   ],
   "source": [
    "plt.figure(figsize=(10,9))\n",
    "plt.scatter(testing_plot[:,0], testing_plot[:,1], alpha = 0.1, c = y_test.ravel())\n",
    "contours = plt.contour(x_grid,y_grid,prob_contour)\n",
    "plt.title('Probability Contours')\n",
    "plt.clabel(contours, inline = True );"
   ]
  },
  {
   "cell_type": "code",
   "execution_count": null,
   "id": "e81b4ac7",
   "metadata": {
    "papermill": {
     "duration": 0.048602,
     "end_time": "2021-12-01T10:13:16.644996",
     "exception": false,
     "start_time": "2021-12-01T10:13:16.596394",
     "status": "completed"
    },
    "tags": []
   },
   "outputs": [],
   "source": []
  }
 ],
 "metadata": {
  "kernelspec": {
   "display_name": "Python 3",
   "language": "python",
   "name": "python3"
  },
  "language_info": {
   "codemirror_mode": {
    "name": "ipython",
    "version": 3
   },
   "file_extension": ".py",
   "mimetype": "text/x-python",
   "name": "python",
   "nbconvert_exporter": "python",
   "pygments_lexer": "ipython3",
   "version": "3.6.15"
  },
  "papermill": {
   "default_parameters": {},
   "duration": 195.102804,
   "end_time": "2021-12-01T10:13:17.000595",
   "environment_variables": {},
   "exception": null,
   "input_path": "2020-08-11-part2.ipynb",
   "output_path": "2020-08-11-part2.ipynb",
   "parameters": {},
   "start_time": "2021-12-01T10:10:01.897791",
   "version": "2.3.3"
  }
 },
 "nbformat": 4,
 "nbformat_minor": 5
}