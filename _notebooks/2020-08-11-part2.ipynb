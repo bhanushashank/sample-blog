{
 "cells": [
  {
   "cell_type": "markdown",
   "id": "98380cd3",
   "metadata": {
    "papermill": {
     "duration": 0.030451,
     "end_time": "2022-08-08T20:10:25.554159",
     "exception": false,
     "start_time": "2022-08-08T20:10:25.523708",
     "status": "completed"
    },
    "tags": []
   },
   "source": [
    "# Distinguish Your Own Digits (DYOD)"
   ]
  },
  {
   "cell_type": "markdown",
   "id": "ef31240d",
   "metadata": {
    "papermill": {
     "duration": 0.024375,
     "end_time": "2022-08-08T20:10:25.603091",
     "exception": false,
     "start_time": "2022-08-08T20:10:25.578716",
     "status": "completed"
    },
    "tags": []
   },
   "source": [
    "You are going to write a classifier that distinguishes between the number 3 and number 8."
   ]
  },
  {
   "cell_type": "code",
   "execution_count": 1,
   "id": "b15c8646",
   "metadata": {
    "execution": {
     "iopub.execute_input": "2022-08-08T20:10:25.663670Z",
     "iopub.status.busy": "2022-08-08T20:10:25.663073Z",
     "iopub.status.idle": "2022-08-08T20:10:25.674210Z",
     "shell.execute_reply": "2022-08-08T20:10:25.673706Z"
    },
    "papermill": {
     "duration": 0.045647,
     "end_time": "2022-08-08T20:10:25.674337",
     "exception": false,
     "start_time": "2022-08-08T20:10:25.628690",
     "status": "completed"
    },
    "tags": []
   },
   "outputs": [],
   "source": [
    "%load_ext autoreload\n",
    "%autoreload 2"
   ]
  },
  {
   "cell_type": "code",
   "execution_count": 2,
   "id": "22ef38dc",
   "metadata": {
    "execution": {
     "iopub.execute_input": "2022-08-08T20:10:25.726939Z",
     "iopub.status.busy": "2022-08-08T20:10:25.726346Z",
     "iopub.status.idle": "2022-08-08T20:10:26.276768Z",
     "shell.execute_reply": "2022-08-08T20:10:26.275742Z"
    },
    "papermill": {
     "duration": 0.578499,
     "end_time": "2022-08-08T20:10:26.276909",
     "exception": false,
     "start_time": "2022-08-08T20:10:25.698410",
     "status": "completed"
    },
    "tags": []
   },
   "outputs": [],
   "source": [
    "%matplotlib inline\n",
    "import numpy as np\n",
    "import matplotlib.pyplot as plt\n",
    "import pandas as pd"
   ]
  },
  {
   "cell_type": "markdown",
   "id": "ba036198",
   "metadata": {
    "papermill": {
     "duration": 0.024238,
     "end_time": "2022-08-08T20:10:26.325244",
     "exception": false,
     "start_time": "2022-08-08T20:10:26.301006",
     "status": "completed"
    },
    "tags": []
   },
   "source": [
    "From the command line run `pip install mnist`. This is a library that will help you bring down the mnist dataset. If you run this from a notebook, you need to put  `!pip install mnist` in a cell by itself."
   ]
  },
  {
   "cell_type": "code",
   "execution_count": 3,
   "id": "bb6ad8a1",
   "metadata": {
    "execution": {
     "iopub.execute_input": "2022-08-08T20:10:26.378938Z",
     "iopub.status.busy": "2022-08-08T20:10:26.377541Z",
     "iopub.status.idle": "2022-08-08T20:10:28.083819Z",
     "shell.execute_reply": "2022-08-08T20:10:28.083217Z"
    },
    "papermill": {
     "duration": 1.73448,
     "end_time": "2022-08-08T20:10:28.083942",
     "exception": false,
     "start_time": "2022-08-08T20:10:26.349462",
     "status": "completed"
    },
    "tags": []
   },
   "outputs": [
    {
     "name": "stdout",
     "output_type": "stream",
     "text": [
      "Collecting mnist\r\n"
     ]
    },
    {
     "name": "stdout",
     "output_type": "stream",
     "text": [
      "  Downloading mnist-0.2.2-py2.py3-none-any.whl (3.5 kB)\r\n",
      "Requirement already satisfied: numpy in /opt/hostedtoolcache/Python/3.6.15/x64/lib/python3.6/site-packages (from mnist) (1.19.5)\r\n"
     ]
    },
    {
     "name": "stdout",
     "output_type": "stream",
     "text": [
      "Installing collected packages: mnist\r\n",
      "Successfully installed mnist-0.2.2\r\n"
     ]
    }
   ],
   "source": [
    "!pip install mnist"
   ]
  },
  {
   "cell_type": "markdown",
   "id": "69df9c9a",
   "metadata": {
    "papermill": {
     "duration": 0.024998,
     "end_time": "2022-08-08T20:10:28.133989",
     "exception": false,
     "start_time": "2022-08-08T20:10:28.108991",
     "status": "completed"
    },
    "tags": []
   },
   "source": [
    "## Preparing the Data"
   ]
  },
  {
   "cell_type": "code",
   "execution_count": 4,
   "id": "7f69d806",
   "metadata": {
    "execution": {
     "iopub.execute_input": "2022-08-08T20:10:28.202480Z",
     "iopub.status.busy": "2022-08-08T20:10:28.198578Z",
     "iopub.status.idle": "2022-08-08T20:10:28.205888Z",
     "shell.execute_reply": "2022-08-08T20:10:28.206332Z"
    },
    "papermill": {
     "duration": 0.047758,
     "end_time": "2022-08-08T20:10:28.206467",
     "exception": false,
     "start_time": "2022-08-08T20:10:28.158709",
     "status": "completed"
    },
    "tags": []
   },
   "outputs": [],
   "source": [
    "import mnist"
   ]
  },
  {
   "cell_type": "code",
   "execution_count": 5,
   "id": "a411e44f",
   "metadata": {
    "execution": {
     "iopub.execute_input": "2022-08-08T20:10:28.260883Z",
     "iopub.status.busy": "2022-08-08T20:10:28.260302Z",
     "iopub.status.idle": "2022-08-08T20:10:28.836510Z",
     "shell.execute_reply": "2022-08-08T20:10:28.835913Z"
    },
    "papermill": {
     "duration": 0.604781,
     "end_time": "2022-08-08T20:10:28.836657",
     "exception": false,
     "start_time": "2022-08-08T20:10:28.231876",
     "status": "completed"
    },
    "tags": []
   },
   "outputs": [],
   "source": [
    "train_images = mnist.train_images()\n",
    "train_labels = mnist.train_labels()"
   ]
  },
  {
   "cell_type": "code",
   "execution_count": 6,
   "id": "dceab3a5",
   "metadata": {
    "execution": {
     "iopub.execute_input": "2022-08-08T20:10:28.892649Z",
     "iopub.status.busy": "2022-08-08T20:10:28.892054Z",
     "iopub.status.idle": "2022-08-08T20:10:28.907362Z",
     "shell.execute_reply": "2022-08-08T20:10:28.907912Z"
    },
    "papermill": {
     "duration": 0.045045,
     "end_time": "2022-08-08T20:10:28.908048",
     "exception": false,
     "start_time": "2022-08-08T20:10:28.863003",
     "status": "completed"
    },
    "tags": []
   },
   "outputs": [
    {
     "data": {
      "text/plain": [
       "((60000, 28, 28), (60000,))"
      ]
     },
     "execution_count": 6,
     "metadata": {},
     "output_type": "execute_result"
    }
   ],
   "source": [
    "train_images.shape, train_labels.shape"
   ]
  },
  {
   "cell_type": "code",
   "execution_count": 7,
   "id": "f50dc2bb",
   "metadata": {
    "execution": {
     "iopub.execute_input": "2022-08-08T20:10:28.963281Z",
     "iopub.status.busy": "2022-08-08T20:10:28.962595Z",
     "iopub.status.idle": "2022-08-08T20:10:29.160184Z",
     "shell.execute_reply": "2022-08-08T20:10:29.159573Z"
    },
    "papermill": {
     "duration": 0.227298,
     "end_time": "2022-08-08T20:10:29.160325",
     "exception": false,
     "start_time": "2022-08-08T20:10:28.933027",
     "status": "completed"
    },
    "tags": []
   },
   "outputs": [],
   "source": [
    "test_images = mnist.test_images()\n",
    "test_labels = mnist.test_labels()"
   ]
  },
  {
   "cell_type": "code",
   "execution_count": 8,
   "id": "fc38cf1b",
   "metadata": {
    "execution": {
     "iopub.execute_input": "2022-08-08T20:10:29.232476Z",
     "iopub.status.busy": "2022-08-08T20:10:29.229479Z",
     "iopub.status.idle": "2022-08-08T20:10:29.237744Z",
     "shell.execute_reply": "2022-08-08T20:10:29.238201Z"
    },
    "papermill": {
     "duration": 0.052368,
     "end_time": "2022-08-08T20:10:29.238333",
     "exception": false,
     "start_time": "2022-08-08T20:10:29.185965",
     "status": "completed"
    },
    "tags": []
   },
   "outputs": [
    {
     "data": {
      "text/plain": [
       "((10000, 28, 28), (10000,))"
      ]
     },
     "execution_count": 8,
     "metadata": {},
     "output_type": "execute_result"
    }
   ],
   "source": [
    "test_images.shape, test_labels.shape"
   ]
  },
  {
   "cell_type": "code",
   "execution_count": 9,
   "id": "f9ed8fe0",
   "metadata": {
    "execution": {
     "iopub.execute_input": "2022-08-08T20:10:29.303419Z",
     "iopub.status.busy": "2022-08-08T20:10:29.302813Z",
     "iopub.status.idle": "2022-08-08T20:10:29.438567Z",
     "shell.execute_reply": "2022-08-08T20:10:29.438080Z"
    },
    "papermill": {
     "duration": 0.174981,
     "end_time": "2022-08-08T20:10:29.438692",
     "exception": false,
     "start_time": "2022-08-08T20:10:29.263711",
     "status": "completed"
    },
    "tags": []
   },
   "outputs": [
    {
     "name": "stdout",
     "output_type": "stream",
     "text": [
      "2\n"
     ]
    },
    {
     "data": {
      "text/plain": [
       "<matplotlib.image.AxesImage at 0x7f16c6b05550>"
      ]
     },
     "execution_count": 9,
     "metadata": {},
     "output_type": "execute_result"
    },
    {
     "data": {
      "image/png": "[encoded data removed]",
      "text/plain": [
       "<Figure size 432x288 with 1 Axes>"
      ]
     },
     "metadata": {
      "needs_background": "light"
     },
     "output_type": "display_data"
    }
   ],
   "source": [
    "image_index = 7776 # You may select anything up to 60,000\n",
    "print(train_labels[image_index]) \n",
    "plt.imshow(train_images[image_index], cmap='Greys')"
   ]
  },
  {
   "cell_type": "markdown",
   "id": "a8d2388d",
   "metadata": {
    "papermill": {
     "duration": 0.026584,
     "end_time": "2022-08-08T20:10:29.491933",
     "exception": false,
     "start_time": "2022-08-08T20:10:29.465349",
     "status": "completed"
    },
    "tags": []
   },
   "source": [
    "## Filter data to get 3 and 8 out"
   ]
  },
  {
   "cell_type": "code",
   "execution_count": 10,
   "id": "776f7fc7",
   "metadata": {
    "execution": {
     "iopub.execute_input": "2022-08-08T20:10:29.562826Z",
     "iopub.status.busy": "2022-08-08T20:10:29.559246Z",
     "iopub.status.idle": "2022-08-08T20:10:29.572418Z",
     "shell.execute_reply": "2022-08-08T20:10:29.571931Z"
    },
    "papermill": {
     "duration": 0.054289,
     "end_time": "2022-08-08T20:10:29.572534",
     "exception": false,
     "start_time": "2022-08-08T20:10:29.518245",
     "status": "completed"
    },
    "tags": []
   },
   "outputs": [],
   "source": [
    "train_filter = np.where((train_labels == 3 ) | (train_labels == 8))\n",
    "test_filter = np.where((test_labels == 3) | (test_labels == 8))\n",
    "X_train, y_train = train_images[train_filter], train_labels[train_filter]\n",
    "X_test, y_test = test_images[test_filter], test_labels[test_filter]"
   ]
  },
  {
   "cell_type": "markdown",
   "id": "948f0b7e",
   "metadata": {
    "papermill": {
     "duration": 0.026701,
     "end_time": "2022-08-08T20:10:29.626121",
     "exception": false,
     "start_time": "2022-08-08T20:10:29.599420",
     "status": "completed"
    },
    "tags": []
   },
   "source": [
    "We normalize the pizel values in the 0 to 1 range"
   ]
  },
  {
   "cell_type": "code",
   "execution_count": 11,
   "id": "ee4c2166",
   "metadata": {
    "execution": {
     "iopub.execute_input": "2022-08-08T20:10:29.683256Z",
     "iopub.status.busy": "2022-08-08T20:10:29.682671Z",
     "iopub.status.idle": "2022-08-08T20:10:29.732003Z",
     "shell.execute_reply": "2022-08-08T20:10:29.733076Z"
    },
    "papermill": {
     "duration": 0.080727,
     "end_time": "2022-08-08T20:10:29.733230",
     "exception": false,
     "start_time": "2022-08-08T20:10:29.652503",
     "status": "completed"
    },
    "tags": []
   },
   "outputs": [],
   "source": [
    "X_train = X_train/255.\n",
    "X_test = X_test/255."
   ]
  },
  {
   "cell_type": "markdown",
   "id": "ddcf4fab",
   "metadata": {
    "papermill": {
     "duration": 0.027205,
     "end_time": "2022-08-08T20:10:29.787371",
     "exception": false,
     "start_time": "2022-08-08T20:10:29.760166",
     "status": "completed"
    },
    "tags": []
   },
   "source": [
    "And setup the labels as 1 (when the digit is 3) and 0 (when the digit is 8)"
   ]
  },
  {
   "cell_type": "code",
   "execution_count": 12,
   "id": "7dc908f2",
   "metadata": {
    "execution": {
     "iopub.execute_input": "2022-08-08T20:10:29.845253Z",
     "iopub.status.busy": "2022-08-08T20:10:29.844551Z",
     "iopub.status.idle": "2022-08-08T20:10:29.858771Z",
     "shell.execute_reply": "2022-08-08T20:10:29.859235Z"
    },
    "papermill": {
     "duration": 0.045495,
     "end_time": "2022-08-08T20:10:29.859374",
     "exception": false,
     "start_time": "2022-08-08T20:10:29.813879",
     "status": "completed"
    },
    "tags": []
   },
   "outputs": [],
   "source": [
    "y_train = 1*(y_train==3)\n",
    "y_test = 1*(y_test==3)"
   ]
  },
  {
   "cell_type": "code",
   "execution_count": 13,
   "id": "01e4e969",
   "metadata": {
    "execution": {
     "iopub.execute_input": "2022-08-08T20:10:29.916740Z",
     "iopub.status.busy": "2022-08-08T20:10:29.916146Z",
     "iopub.status.idle": "2022-08-08T20:10:29.931162Z",
     "shell.execute_reply": "2022-08-08T20:10:29.930686Z"
    },
    "papermill": {
     "duration": 0.045256,
     "end_time": "2022-08-08T20:10:29.931277",
     "exception": false,
     "start_time": "2022-08-08T20:10:29.886021",
     "status": "completed"
    },
    "tags": []
   },
   "outputs": [
    {
     "data": {
      "text/plain": [
       "((11982, 28, 28), (1984, 28, 28))"
      ]
     },
     "execution_count": 13,
     "metadata": {},
     "output_type": "execute_result"
    }
   ],
   "source": [
    "X_train.shape, X_test.shape"
   ]
  },
  {
   "cell_type": "markdown",
   "id": "5ccf3f85",
   "metadata": {
    "papermill": {
     "duration": 0.026944,
     "end_time": "2022-08-08T20:10:29.985020",
     "exception": false,
     "start_time": "2022-08-08T20:10:29.958076",
     "status": "completed"
    },
    "tags": []
   },
   "source": [
    "We reshape the data to flatten the image pixels into a set of features or co-variates:"
   ]
  },
  {
   "cell_type": "code",
   "execution_count": 14,
   "id": "5286a4a3",
   "metadata": {
    "execution": {
     "iopub.execute_input": "2022-08-08T20:10:30.048513Z",
     "iopub.status.busy": "2022-08-08T20:10:30.047925Z",
     "iopub.status.idle": "2022-08-08T20:10:30.059170Z",
     "shell.execute_reply": "2022-08-08T20:10:30.059811Z"
    },
    "papermill": {
     "duration": 0.048068,
     "end_time": "2022-08-08T20:10:30.059947",
     "exception": false,
     "start_time": "2022-08-08T20:10:30.011879",
     "status": "completed"
    },
    "tags": []
   },
   "outputs": [
    {
     "data": {
      "text/plain": [
       "((11982, 784), (1984, 784))"
      ]
     },
     "execution_count": 14,
     "metadata": {},
     "output_type": "execute_result"
    }
   ],
   "source": [
    "X_train = X_train.reshape(X_train.shape[0], -1)\n",
    "X_test = X_test.reshape(X_test.shape[0], -1)\n",
    "X_train.shape, X_test.shape"
   ]
  },
  {
   "cell_type": "code",
   "execution_count": 15,
   "id": "73c5f88a",
   "metadata": {
    "execution": {
     "iopub.execute_input": "2022-08-08T20:10:30.122477Z",
     "iopub.status.busy": "2022-08-08T20:10:30.121871Z",
     "iopub.status.idle": "2022-08-08T20:10:30.140012Z",
     "shell.execute_reply": "2022-08-08T20:10:30.139465Z"
    },
    "papermill": {
     "duration": 0.052987,
     "end_time": "2022-08-08T20:10:30.140144",
     "exception": false,
     "start_time": "2022-08-08T20:10:30.087157",
     "status": "completed"
    },
    "tags": []
   },
   "outputs": [],
   "source": [
    "#Impoting functions from 'Kudzu'\n",
    "from kudzu.model import Model\n",
    "from kudzu.train import Learner\n",
    "from kudzu.optim import GD\n",
    "from kudzu.data import Data, Sampler,Dataloader\n",
    "\n",
    "from kudzu.callbacks import AccCallback\n",
    "from kudzu.callbacks import ClfCallback\n",
    "\n",
    "from kudzu.loss import MSE\n",
    "\n",
    "from kudzu.layer import Sigmoid,Relu\n",
    "from kudzu.layer import Affine"
   ]
  },
  {
   "cell_type": "markdown",
   "id": "bc01172a",
   "metadata": {
    "papermill": {
     "duration": 0.026976,
     "end_time": "2022-08-08T20:10:30.195029",
     "exception": false,
     "start_time": "2022-08-08T20:10:30.168053",
     "status": "completed"
    },
    "tags": []
   },
   "source": [
    "### Let us create a `Config` class, to store important parameters. \n",
    "This class essentially plays the role of a dictionary."
   ]
  },
  {
   "cell_type": "code",
   "execution_count": 16,
   "id": "978281aa",
   "metadata": {
    "execution": {
     "iopub.execute_input": "2022-08-08T20:10:30.267443Z",
     "iopub.status.busy": "2022-08-08T20:10:30.262751Z",
     "iopub.status.idle": "2022-08-08T20:10:30.270193Z",
     "shell.execute_reply": "2022-08-08T20:10:30.269707Z"
    },
    "papermill": {
     "duration": 0.048412,
     "end_time": "2022-08-08T20:10:30.270305",
     "exception": false,
     "start_time": "2022-08-08T20:10:30.221893",
     "status": "completed"
    },
    "tags": []
   },
   "outputs": [],
   "source": [
    "class Config:\n",
    "    pass\n",
    "config = Config()\n",
    "config.lr = 0.001\n",
    "config.num_epochs = 250\n",
    "config.bs = 50"
   ]
  },
  {
   "cell_type": "markdown",
   "id": "1385fa59",
   "metadata": {
    "papermill": {
     "duration": 0.026967,
     "end_time": "2022-08-08T20:10:30.324182",
     "exception": false,
     "start_time": "2022-08-08T20:10:30.297215",
     "status": "completed"
    },
    "tags": []
   },
   "source": [
    "### Running Models with the Training data\n",
    "Details about the network layers:\n",
    "- A first affine layer has 784 inputs and does 100 affine transforms. These are followed by a Relu\n",
    "- A second affine layer has 100 inputs from the 100 activations of the past layer, and does 100 affine transforms. These are followed by a Relu\n",
    "- A third affine layer has 100 activations and does 2 affine transformations to create an embedding for visualization. There is no non-linearity here.\n",
    "- A final \"logistic regression\" which has an affine transform from 2 inputs to 1 output, which is squeezed through a sigmoid.\n"
   ]
  },
  {
   "cell_type": "code",
   "execution_count": 17,
   "id": "2b9c66db",
   "metadata": {
    "execution": {
     "iopub.execute_input": "2022-08-08T20:10:30.388078Z",
     "iopub.status.busy": "2022-08-08T20:10:30.381716Z",
     "iopub.status.idle": "2022-08-08T20:10:30.396330Z",
     "shell.execute_reply": "2022-08-08T20:10:30.395879Z"
    },
    "papermill": {
     "duration": 0.045529,
     "end_time": "2022-08-08T20:10:30.396445",
     "exception": false,
     "start_time": "2022-08-08T20:10:30.350916",
     "status": "completed"
    },
    "tags": []
   },
   "outputs": [],
   "source": [
    "data = Data(X_train, y_train.reshape(-1,1))\n",
    "sampler = Sampler(data, config.bs, shuffle=True)\n",
    "\n",
    "dl = Dataloader(data, sampler)\n",
    "\n",
    "opt = GD(config.lr)\n",
    "loss = MSE()"
   ]
  },
  {
   "cell_type": "code",
   "execution_count": 18,
   "id": "b275e4c2",
   "metadata": {
    "execution": {
     "iopub.execute_input": "2022-08-08T20:10:30.454440Z",
     "iopub.status.busy": "2022-08-08T20:10:30.453854Z",
     "iopub.status.idle": "2022-08-08T20:10:30.467587Z",
     "shell.execute_reply": "2022-08-08T20:10:30.467114Z"
    },
    "papermill": {
     "duration": 0.044291,
     "end_time": "2022-08-08T20:10:30.467696",
     "exception": false,
     "start_time": "2022-08-08T20:10:30.423405",
     "status": "completed"
    },
    "tags": []
   },
   "outputs": [],
   "source": [
    "training_data_x = X_train\n",
    "testing_data_x = X_test\n",
    "training_data_y = y_train.reshape(-1,1)\n",
    "testing_data_y = y_test.reshape(-1,1)"
   ]
  },
  {
   "cell_type": "code",
   "execution_count": 19,
   "id": "76951160",
   "metadata": {
    "execution": {
     "iopub.execute_input": "2022-08-08T20:10:30.535507Z",
     "iopub.status.busy": "2022-08-08T20:10:30.534865Z",
     "iopub.status.idle": "2022-08-08T20:10:30.546221Z",
     "shell.execute_reply": "2022-08-08T20:10:30.546652Z"
    },
    "papermill": {
     "duration": 0.052273,
     "end_time": "2022-08-08T20:10:30.546789",
     "exception": false,
     "start_time": "2022-08-08T20:10:30.494516",
     "status": "completed"
    },
    "tags": []
   },
   "outputs": [
    {
     "name": "stdout",
     "output_type": "stream",
     "text": [
      "xavier\n",
      "xavier\n",
      "xavier\n",
      "xavier\n",
      "xavier\n"
     ]
    }
   ],
   "source": [
    "layers = [Affine(\"first\", 784, 100), Relu(\"first\"), Affine(\"second\", 100, 100), Relu(\"second\"), Affine(\"third\", 100, 2), Affine(\"last\", 2, 1), Sigmoid(\"last\")]\n",
    "model_nn = Model(layers)\n",
    "model_lr = Model([Affine(\"logits\", 784, 1), Sigmoid(\"sigmoid\")])"
   ]
  },
  {
   "cell_type": "code",
   "execution_count": 20,
   "id": "6eede77a",
   "metadata": {
    "execution": {
     "iopub.execute_input": "2022-08-08T20:10:30.620148Z",
     "iopub.status.busy": "2022-08-08T20:10:30.606240Z",
     "iopub.status.idle": "2022-08-08T20:10:30.623072Z",
     "shell.execute_reply": "2022-08-08T20:10:30.622592Z"
    },
    "papermill": {
     "duration": 0.048311,
     "end_time": "2022-08-08T20:10:30.623188",
     "exception": false,
     "start_time": "2022-08-08T20:10:30.574877",
     "status": "completed"
    },
    "tags": []
   },
   "outputs": [],
   "source": [
    "nn_learner = Learner(loss, model_nn, opt, config.num_epochs)\n",
    "acc_nn = ClfCallback(nn_learner, config.bs, training_data_x , testing_data_x, training_data_y, testing_data_y)\n",
    "nn_learner.set_callbacks([acc_nn])"
   ]
  },
  {
   "cell_type": "code",
   "execution_count": 21,
   "id": "877b6cc7",
   "metadata": {
    "execution": {
     "iopub.execute_input": "2022-08-08T20:10:30.694729Z",
     "iopub.status.busy": "2022-08-08T20:10:30.681765Z",
     "iopub.status.idle": "2022-08-08T20:10:30.697034Z",
     "shell.execute_reply": "2022-08-08T20:10:30.697510Z"
    },
    "papermill": {
     "duration": 0.047028,
     "end_time": "2022-08-08T20:10:30.697661",
     "exception": false,
     "start_time": "2022-08-08T20:10:30.650633",
     "status": "completed"
    },
    "tags": []
   },
   "outputs": [],
   "source": [
    "lr_learner = Learner(loss, model_lr, opt, config.num_epochs)\n",
    "acc_lr = ClfCallback(lr_learner, config.bs, training_data_x , testing_data_x, training_data_y, testing_data_y)\n",
    "lr_learner.set_callbacks([acc_lr])"
   ]
  },
  {
   "cell_type": "code",
   "execution_count": 22,
   "id": "d9b133c3",
   "metadata": {
    "execution": {
     "iopub.execute_input": "2022-08-08T20:10:30.766134Z",
     "iopub.status.busy": "2022-08-08T20:10:30.756094Z",
     "iopub.status.idle": "2022-08-08T20:11:46.896151Z",
     "shell.execute_reply": "2022-08-08T20:11:46.897044Z"
    },
    "papermill": {
     "duration": 76.172115,
     "end_time": "2022-08-08T20:11:46.897199",
     "exception": false,
     "start_time": "2022-08-08T20:10:30.725084",
     "status": "completed"
    },
    "tags": []
   },
   "outputs": [
    {
     "name": "stdout",
     "output_type": "stream",
     "text": [
      "Epoch 0, Loss 0.2371\n",
      "Training Accuracy: 0.7175, Testing Accuracy: 0.7440\n",
      "\n"
     ]
    },
    {
     "name": "stdout",
     "output_type": "stream",
     "text": [
      "Epoch 10, Loss 0.1047\n",
      "Training Accuracy: 0.9160, Testing Accuracy: 0.9264\n",
      "\n"
     ]
    },
    {
     "name": "stdout",
     "output_type": "stream",
     "text": [
      "Epoch 20, Loss 0.0597\n",
      "Training Accuracy: 0.9394, Testing Accuracy: 0.9501\n",
      "\n"
     ]
    },
    {
     "name": "stdout",
     "output_type": "stream",
     "text": [
      "Epoch 30, Loss 0.0458\n",
      "Training Accuracy: 0.9493, Testing Accuracy: 0.9582\n",
      "\n"
     ]
    },
    {
     "name": "stdout",
     "output_type": "stream",
     "text": [
      "Epoch 40, Loss 0.0393\n",
      "Training Accuracy: 0.9550, Testing Accuracy: 0.9612\n",
      "\n"
     ]
    },
    {
     "name": "stdout",
     "output_type": "stream",
     "text": [
      "Epoch 50, Loss 0.0355\n",
      "Training Accuracy: 0.9591, Testing Accuracy: 0.9632\n",
      "\n"
     ]
    },
    {
     "name": "stdout",
     "output_type": "stream",
     "text": [
      "Epoch 60, Loss 0.0329\n",
      "Training Accuracy: 0.9614, Testing Accuracy: 0.9672\n",
      "\n"
     ]
    },
    {
     "name": "stdout",
     "output_type": "stream",
     "text": [
      "Epoch 70, Loss 0.0309\n",
      "Training Accuracy: 0.9632, Testing Accuracy: 0.9682\n",
      "\n"
     ]
    },
    {
     "name": "stdout",
     "output_type": "stream",
     "text": [
      "Epoch 80, Loss 0.0294\n",
      "Training Accuracy: 0.9645, Testing Accuracy: 0.9698\n",
      "\n"
     ]
    },
    {
     "name": "stdout",
     "output_type": "stream",
     "text": [
      "Epoch 90, Loss 0.0282\n",
      "Training Accuracy: 0.9659, Testing Accuracy: 0.9703\n",
      "\n"
     ]
    },
    {
     "name": "stdout",
     "output_type": "stream",
     "text": [
      "Epoch 100, Loss 0.0271\n",
      "Training Accuracy: 0.9682, Testing Accuracy: 0.9708\n",
      "\n"
     ]
    },
    {
     "name": "stdout",
     "output_type": "stream",
     "text": [
      "Epoch 110, Loss 0.0262\n",
      "Training Accuracy: 0.9690, Testing Accuracy: 0.9718\n",
      "\n"
     ]
    },
    {
     "name": "stdout",
     "output_type": "stream",
     "text": [
      "Epoch 120, Loss 0.0254\n",
      "Training Accuracy: 0.9701, Testing Accuracy: 0.9728\n",
      "\n"
     ]
    },
    {
     "name": "stdout",
     "output_type": "stream",
     "text": [
      "Epoch 130, Loss 0.0247\n",
      "Training Accuracy: 0.9710, Testing Accuracy: 0.9733\n",
      "\n"
     ]
    },
    {
     "name": "stdout",
     "output_type": "stream",
     "text": [
      "Epoch 140, Loss 0.024\n",
      "Training Accuracy: 0.9715, Testing Accuracy: 0.9728\n",
      "\n"
     ]
    },
    {
     "name": "stdout",
     "output_type": "stream",
     "text": [
      "Epoch 150, Loss 0.0234\n",
      "Training Accuracy: 0.9720, Testing Accuracy: 0.9738\n",
      "\n"
     ]
    },
    {
     "name": "stdout",
     "output_type": "stream",
     "text": [
      "Epoch 160, Loss 0.0229\n",
      "Training Accuracy: 0.9730, Testing Accuracy: 0.9743\n",
      "\n"
     ]
    },
    {
     "name": "stdout",
     "output_type": "stream",
     "text": [
      "Epoch 170, Loss 0.0224\n",
      "Training Accuracy: 0.9742, Testing Accuracy: 0.9738\n",
      "\n"
     ]
    },
    {
     "name": "stdout",
     "output_type": "stream",
     "text": [
      "Epoch 180, Loss 0.0219\n",
      "Training Accuracy: 0.9745, Testing Accuracy: 0.9743\n",
      "\n"
     ]
    },
    {
     "name": "stdout",
     "output_type": "stream",
     "text": [
      "Epoch 190, Loss 0.0214\n",
      "Training Accuracy: 0.9750, Testing Accuracy: 0.9748\n",
      "\n"
     ]
    },
    {
     "name": "stdout",
     "output_type": "stream",
     "text": [
      "Epoch 200, Loss 0.021\n",
      "Training Accuracy: 0.9755, Testing Accuracy: 0.9748\n",
      "\n"
     ]
    },
    {
     "name": "stdout",
     "output_type": "stream",
     "text": [
      "Epoch 210, Loss 0.0206\n",
      "Training Accuracy: 0.9767, Testing Accuracy: 0.9748\n",
      "\n"
     ]
    },
    {
     "name": "stdout",
     "output_type": "stream",
     "text": [
      "Epoch 220, Loss 0.0202\n",
      "Training Accuracy: 0.9773, Testing Accuracy: 0.9753\n",
      "\n"
     ]
    },
    {
     "name": "stdout",
     "output_type": "stream",
     "text": [
      "Epoch 230, Loss 0.0199\n",
      "Training Accuracy: 0.9780, Testing Accuracy: 0.9748\n",
      "\n"
     ]
    },
    {
     "name": "stdout",
     "output_type": "stream",
     "text": [
      "Epoch 240, Loss 0.0195\n",
      "Training Accuracy: 0.9786, Testing Accuracy: 0.9753\n",
      "\n"
     ]
    },
    {
     "data": {
      "text/plain": [
       "0.006656036839753946"
      ]
     },
     "execution_count": 22,
     "metadata": {},
     "output_type": "execute_result"
    }
   ],
   "source": [
    "nn_learner.train_loop(dl)"
   ]
  },
  {
   "cell_type": "code",
   "execution_count": 23,
   "id": "e0163366",
   "metadata": {
    "execution": {
     "iopub.execute_input": "2022-08-08T20:11:46.981688Z",
     "iopub.status.busy": "2022-08-08T20:11:46.981057Z",
     "iopub.status.idle": "2022-08-08T20:12:00.645467Z",
     "shell.execute_reply": "2022-08-08T20:12:00.646308Z"
    },
    "papermill": {
     "duration": 13.714362,
     "end_time": "2022-08-08T20:12:00.646456",
     "exception": false,
     "start_time": "2022-08-08T20:11:46.932094",
     "status": "completed"
    },
    "tags": []
   },
   "outputs": [
    {
     "name": "stdout",
     "output_type": "stream",
     "text": [
      "Epoch 0, Loss 0.228\n",
      "Training Accuracy: 0.7428, Testing Accuracy: 0.7329\n",
      "\n"
     ]
    },
    {
     "name": "stdout",
     "output_type": "stream",
     "text": [
      "Epoch 10, Loss 0.1013\n",
      "Training Accuracy: 0.9153, Testing Accuracy: 0.9294\n",
      "\n"
     ]
    },
    {
     "name": "stdout",
     "output_type": "stream",
     "text": [
      "Epoch 20, Loss 0.0778\n",
      "Training Accuracy: 0.9322, Testing Accuracy: 0.9425\n",
      "\n"
     ]
    },
    {
     "name": "stdout",
     "output_type": "stream",
     "text": [
      "Epoch 30, Loss 0.0668\n",
      "Training Accuracy: 0.9407, Testing Accuracy: 0.9526\n",
      "\n"
     ]
    },
    {
     "name": "stdout",
     "output_type": "stream",
     "text": [
      "Epoch 40, Loss 0.0603\n",
      "Training Accuracy: 0.9457, Testing Accuracy: 0.9541\n",
      "\n"
     ]
    },
    {
     "name": "stdout",
     "output_type": "stream",
     "text": [
      "Epoch 50, Loss 0.0558\n",
      "Training Accuracy: 0.9478, Testing Accuracy: 0.9551\n",
      "\n"
     ]
    },
    {
     "name": "stdout",
     "output_type": "stream",
     "text": [
      "Epoch 60, Loss 0.0526\n",
      "Training Accuracy: 0.9503, Testing Accuracy: 0.9567\n",
      "\n"
     ]
    },
    {
     "name": "stdout",
     "output_type": "stream",
     "text": [
      "Epoch 70, Loss 0.0501\n",
      "Training Accuracy: 0.9525, Testing Accuracy: 0.9587\n",
      "\n"
     ]
    },
    {
     "name": "stdout",
     "output_type": "stream",
     "text": [
      "Epoch 80, Loss 0.0481\n",
      "Training Accuracy: 0.9545, Testing Accuracy: 0.9597\n",
      "\n"
     ]
    },
    {
     "name": "stdout",
     "output_type": "stream",
     "text": [
      "Epoch 90, Loss 0.0465\n",
      "Training Accuracy: 0.9562, Testing Accuracy: 0.9612\n",
      "\n"
     ]
    },
    {
     "name": "stdout",
     "output_type": "stream",
     "text": [
      "Epoch 100, Loss 0.0451\n",
      "Training Accuracy: 0.9574, Testing Accuracy: 0.9637\n",
      "\n"
     ]
    },
    {
     "name": "stdout",
     "output_type": "stream",
     "text": [
      "Epoch 110, Loss 0.0439\n",
      "Training Accuracy: 0.9582, Testing Accuracy: 0.9637\n",
      "\n"
     ]
    },
    {
     "name": "stdout",
     "output_type": "stream",
     "text": [
      "Epoch 120, Loss 0.0429\n",
      "Training Accuracy: 0.9590, Testing Accuracy: 0.9647\n",
      "\n"
     ]
    },
    {
     "name": "stdout",
     "output_type": "stream",
     "text": [
      "Epoch 130, Loss 0.042\n",
      "Training Accuracy: 0.9597, Testing Accuracy: 0.9647\n",
      "\n"
     ]
    },
    {
     "name": "stdout",
     "output_type": "stream",
     "text": [
      "Epoch 140, Loss 0.0412\n",
      "Training Accuracy: 0.9599, Testing Accuracy: 0.9647\n",
      "\n"
     ]
    },
    {
     "name": "stdout",
     "output_type": "stream",
     "text": [
      "Epoch 150, Loss 0.0405\n",
      "Training Accuracy: 0.9604, Testing Accuracy: 0.9652\n",
      "\n"
     ]
    },
    {
     "name": "stdout",
     "output_type": "stream",
     "text": [
      "Epoch 160, Loss 0.0399\n",
      "Training Accuracy: 0.9605, Testing Accuracy: 0.9662\n",
      "\n"
     ]
    },
    {
     "name": "stdout",
     "output_type": "stream",
     "text": [
      "Epoch 170, Loss 0.0393\n",
      "Training Accuracy: 0.9610, Testing Accuracy: 0.9662\n",
      "\n"
     ]
    },
    {
     "name": "stdout",
     "output_type": "stream",
     "text": [
      "Epoch 180, Loss 0.0388\n",
      "Training Accuracy: 0.9615, Testing Accuracy: 0.9662\n",
      "\n"
     ]
    },
    {
     "name": "stdout",
     "output_type": "stream",
     "text": [
      "Epoch 190, Loss 0.0383\n",
      "Training Accuracy: 0.9612, Testing Accuracy: 0.9662\n",
      "\n"
     ]
    },
    {
     "name": "stdout",
     "output_type": "stream",
     "text": [
      "Epoch 200, Loss 0.0378\n",
      "Training Accuracy: 0.9614, Testing Accuracy: 0.9662\n",
      "\n"
     ]
    },
    {
     "name": "stdout",
     "output_type": "stream",
     "text": [
      "Epoch 210, Loss 0.0374\n",
      "Training Accuracy: 0.9614, Testing Accuracy: 0.9662\n",
      "\n"
     ]
    },
    {
     "name": "stdout",
     "output_type": "stream",
     "text": [
      "Epoch 220, Loss 0.037\n",
      "Training Accuracy: 0.9619, Testing Accuracy: 0.9662\n",
      "\n"
     ]
    },
    {
     "name": "stdout",
     "output_type": "stream",
     "text": [
      "Epoch 230, Loss 0.0366\n",
      "Training Accuracy: 0.9621, Testing Accuracy: 0.9667\n",
      "\n"
     ]
    },
    {
     "name": "stdout",
     "output_type": "stream",
     "text": [
      "Epoch 240, Loss 0.0363\n",
      "Training Accuracy: 0.9624, Testing Accuracy: 0.9667\n",
      "\n"
     ]
    },
    {
     "data": {
      "text/plain": [
       "0.013710057931649117"
      ]
     },
     "execution_count": 23,
     "metadata": {},
     "output_type": "execute_result"
    }
   ],
   "source": [
    "lr_learner.train_loop(dl)"
   ]
  },
  {
   "cell_type": "code",
   "execution_count": 24,
   "id": "ca410940",
   "metadata": {
    "execution": {
     "iopub.execute_input": "2022-08-08T20:12:00.743212Z",
     "iopub.status.busy": "2022-08-08T20:12:00.742604Z",
     "iopub.status.idle": "2022-08-08T20:12:00.960358Z",
     "shell.execute_reply": "2022-08-08T20:12:00.959802Z"
    },
    "papermill": {
     "duration": 0.272574,
     "end_time": "2022-08-08T20:12:00.960498",
     "exception": false,
     "start_time": "2022-08-08T20:12:00.687924",
     "status": "completed"
    },
    "tags": []
   },
   "outputs": [
    {
     "data": {
      "text/plain": [
       "<matplotlib.legend.Legend at 0x7f16c6663c50>"
      ]
     },
     "execution_count": 24,
     "metadata": {},
     "output_type": "execute_result"
    },
    {
     "data": {
      "image/png": "[encoded data removed]",
      "text/plain": [
       "<Figure size 1080x720 with 1 Axes>"
      ]
     },
     "metadata": {
      "needs_background": "light"
     },
     "output_type": "display_data"
    }
   ],
   "source": [
    "#comparing the results of NN and LR\n",
    "plt.figure(figsize=(15,10))\n",
    "\n",
    "# Neural Network plots\n",
    "plt.plot(acc_nn.accuracies, 'r-', label = \"Training Accuracies - NN\")\n",
    "plt.plot(acc_nn.test_accuracies, 'g-', label = \"Testing Accuracies - NN\")\n",
    "\n",
    "# Logistic Regression plots\n",
    "plt.plot(acc_lr.accuracies, 'k-', label = \"Training Accuracies - LR\")\n",
    "plt.plot(acc_lr.test_accuracies, 'b-', label = \"Testing Accuracies - LR\")\n",
    "plt.legend()"
   ]
  },
  {
   "cell_type": "markdown",
   "id": "80dfb35c",
   "metadata": {
    "papermill": {
     "duration": 0.042246,
     "end_time": "2022-08-08T20:12:01.045350",
     "exception": false,
     "start_time": "2022-08-08T20:12:01.003104",
     "status": "completed"
    },
    "tags": []
   },
   "source": [
    "#### Plotting the outputs of this layer of the NN.\n"
   ]
  },
  {
   "cell_type": "code",
   "execution_count": 25,
   "id": "45eb2ff5",
   "metadata": {
    "execution": {
     "iopub.execute_input": "2022-08-08T20:12:01.136597Z",
     "iopub.status.busy": "2022-08-08T20:12:01.135996Z",
     "iopub.status.idle": "2022-08-08T20:12:01.155521Z",
     "shell.execute_reply": "2022-08-08T20:12:01.155986Z"
    },
    "papermill": {
     "duration": 0.068552,
     "end_time": "2022-08-08T20:12:01.156123",
     "exception": false,
     "start_time": "2022-08-08T20:12:01.087571",
     "status": "completed"
    },
    "tags": []
   },
   "outputs": [],
   "source": [
    "new_model = Model(layers[:-2])\n",
    "testing_plot = new_model(testing_data_x)"
   ]
  },
  {
   "cell_type": "code",
   "execution_count": 26,
   "id": "4c0a5485",
   "metadata": {
    "execution": {
     "iopub.execute_input": "2022-08-08T20:12:01.247587Z",
     "iopub.status.busy": "2022-08-08T20:12:01.246956Z",
     "iopub.status.idle": "2022-08-08T20:12:01.447818Z",
     "shell.execute_reply": "2022-08-08T20:12:01.447340Z"
    },
    "papermill": {
     "duration": 0.248565,
     "end_time": "2022-08-08T20:12:01.447940",
     "exception": false,
     "start_time": "2022-08-08T20:12:01.199375",
     "status": "completed"
    },
    "tags": []
   },
   "outputs": [
    {
     "data": {
      "text/plain": [
       "Text(0.5, 1.0, 'Outputs')"
      ]
     },
     "execution_count": 26,
     "metadata": {},
     "output_type": "execute_result"
    },
    {
     "data": {
      "image/png": "[encoded data removed]",
      "text/plain": [
       "<Figure size 576x504 with 1 Axes>"
      ]
     },
     "metadata": {
      "needs_background": "light"
     },
     "output_type": "display_data"
    }
   ],
   "source": [
    "# Plotting the scatter plot of points and color coding by class\n",
    "plt.figure(figsize=(8,7))\n",
    "plt.scatter(testing_plot[:,0], testing_plot[:,1], alpha = 0.1, c = y_test.ravel());\n",
    "plt.title('Outputs')"
   ]
  },
  {
   "cell_type": "markdown",
   "id": "a74fcf8f",
   "metadata": {
    "papermill": {
     "duration": 0.044937,
     "end_time": "2022-08-08T20:12:01.537975",
     "exception": false,
     "start_time": "2022-08-08T20:12:01.493038",
     "status": "completed"
    },
    "tags": []
   },
   "source": [
    "Probability contours"
   ]
  },
  {
   "cell_type": "code",
   "execution_count": 27,
   "id": "d0afc8e3",
   "metadata": {
    "execution": {
     "iopub.execute_input": "2022-08-08T20:12:01.633840Z",
     "iopub.status.busy": "2022-08-08T20:12:01.633181Z",
     "iopub.status.idle": "2022-08-08T20:12:01.644814Z",
     "shell.execute_reply": "2022-08-08T20:12:01.644226Z"
    },
    "papermill": {
     "duration": 0.062008,
     "end_time": "2022-08-08T20:12:01.644927",
     "exception": false,
     "start_time": "2022-08-08T20:12:01.582919",
     "status": "completed"
    },
    "tags": []
   },
   "outputs": [],
   "source": [
    "model_prob = Model(layers[-2:]) "
   ]
  },
  {
   "cell_type": "code",
   "execution_count": 28,
   "id": "9b96e238",
   "metadata": {
    "execution": {
     "iopub.execute_input": "2022-08-08T20:12:01.740688Z",
     "iopub.status.busy": "2022-08-08T20:12:01.740086Z",
     "iopub.status.idle": "2022-08-08T20:12:01.754396Z",
     "shell.execute_reply": "2022-08-08T20:12:01.754830Z"
    },
    "papermill": {
     "duration": 0.064741,
     "end_time": "2022-08-08T20:12:01.754968",
     "exception": false,
     "start_time": "2022-08-08T20:12:01.690227",
     "status": "completed"
    },
    "tags": []
   },
   "outputs": [],
   "source": [
    "#creating the x and y ranges according to the above generated plot.\n",
    "x_range = np.linspace(-4, 1, 100) \n",
    "y_range = np.linspace(-6, 6, 100) \n",
    "x_grid, y_grid = np.meshgrid(x_range, y_range) # x_grid and y_grig are of size 100 X 100\n",
    "\n",
    "# converting x_grid and y_grid to continuous arrays\n",
    "x_gridflat = np.ravel(x_grid)\n",
    "y_gridflat = np.ravel(y_grid)\n",
    "\n",
    "# The last layer of the current model takes two columns as input. Hence transpose of np.vstack() is required.\n",
    "X = np.vstack((x_gridflat, y_gridflat)).T\n",
    "\n",
    "prob_contour = model_prob(X).reshape(100,100) "
   ]
  },
  {
   "cell_type": "code",
   "execution_count": 29,
   "id": "da72499a",
   "metadata": {
    "execution": {
     "iopub.execute_input": "2022-08-08T20:12:01.880977Z",
     "iopub.status.busy": "2022-08-08T20:12:01.880287Z",
     "iopub.status.idle": "2022-08-08T20:12:02.128572Z",
     "shell.execute_reply": "2022-08-08T20:12:02.129009Z"
    },
    "papermill": {
     "duration": 0.298143,
     "end_time": "2022-08-08T20:12:02.129157",
     "exception": false,
     "start_time": "2022-08-08T20:12:01.831014",
     "status": "completed"
    },
    "tags": []
   },
   "outputs": [
    {
     "data": {
      "image/png": "[encoded data removed]",
      "text/plain": [
       "<Figure size 720x648 with 1 Axes>"
      ]
     },
     "metadata": {
      "needs_background": "light"
     },
     "output_type": "display_data"
    }
   ],
   "source": [
    "plt.figure(figsize=(10,9))\n",
    "plt.scatter(testing_plot[:,0], testing_plot[:,1], alpha = 0.1, c = y_test.ravel())\n",
    "contours = plt.contour(x_grid,y_grid,prob_contour)\n",
    "plt.title('Probability Contours')\n",
    "plt.clabel(contours, inline = True );"
   ]
  },
  {
   "cell_type": "code",
   "execution_count": null,
   "id": "e81b4ac7",
   "metadata": {
    "papermill": {
     "duration": 0.047582,
     "end_time": "2022-08-08T20:12:02.228380",
     "exception": false,
     "start_time": "2022-08-08T20:12:02.180798",
     "status": "completed"
    },
    "tags": []
   },
   "outputs": [],
   "source": []
  }
 ],
 "metadata": {
  "kernelspec": {
   "display_name": "Python 3",
   "language": "python",
   "name": "python3"
  },
  "language_info": {
   "codemirror_mode": {
    "name": "ipython",
    "version": 3
   },
   "file_extension": ".py",
   "mimetype": "text/x-python",
   "name": "python",
   "nbconvert_exporter": "python",
   "pygments_lexer": "ipython3",
   "version": "3.6.15"
  },
  "papermill": {
   "default_parameters": {},
   "duration": 98.21432,
   "end_time": "2022-08-08T20:12:02.696241",
   "environment_variables": {},
   "exception": null,
   "input_path": "2020-08-11-part2.ipynb",
   "output_path": "2020-08-11-part2.ipynb",
   "parameters": {},
   "start_time": "2022-08-08T20:10:24.481921",
   "version": "2.3.3"
  }
 },
 "nbformat": 4,
 "nbformat_minor": 5
}