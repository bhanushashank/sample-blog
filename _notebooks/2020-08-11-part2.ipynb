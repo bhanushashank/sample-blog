{
 "cells": [
  {
   "cell_type": "markdown",
   "id": "98380cd3",
   "metadata": {
    "papermill": {
     "duration": 0.026857,
     "end_time": "2022-07-14T20:10:55.165497",
     "exception": false,
     "start_time": "2022-07-14T20:10:55.138640",
     "status": "completed"
    },
    "tags": []
   },
   "source": [
    "# Distinguish Your Own Digits (DYOD)"
   ]
  },
  {
   "cell_type": "markdown",
   "id": "ef31240d",
   "metadata": {
    "papermill": {
     "duration": 0.021053,
     "end_time": "2022-07-14T20:10:55.208479",
     "exception": false,
     "start_time": "2022-07-14T20:10:55.187426",
     "status": "completed"
    },
    "tags": []
   },
   "source": [
    "You are going to write a classifier that distinguishes between the number 3 and number 8."
   ]
  },
  {
   "cell_type": "code",
   "execution_count": 1,
   "id": "b15c8646",
   "metadata": {
    "execution": {
     "iopub.execute_input": "2022-07-14T20:10:55.260685Z",
     "iopub.status.busy": "2022-07-14T20:10:55.260150Z",
     "iopub.status.idle": "2022-07-14T20:10:55.271496Z",
     "shell.execute_reply": "2022-07-14T20:10:55.271021Z"
    },
    "papermill": {
     "duration": 0.042528,
     "end_time": "2022-07-14T20:10:55.271619",
     "exception": false,
     "start_time": "2022-07-14T20:10:55.229091",
     "status": "completed"
    },
    "tags": []
   },
   "outputs": [],
   "source": [
    "%load_ext autoreload\n",
    "%autoreload 2"
   ]
  },
  {
   "cell_type": "code",
   "execution_count": 2,
   "id": "22ef38dc",
   "metadata": {
    "execution": {
     "iopub.execute_input": "2022-07-14T20:10:55.318534Z",
     "iopub.status.busy": "2022-07-14T20:10:55.318011Z",
     "iopub.status.idle": "2022-07-14T20:10:55.866098Z",
     "shell.execute_reply": "2022-07-14T20:10:55.866608Z"
    },
    "papermill": {
     "duration": 0.57382,
     "end_time": "2022-07-14T20:10:55.866755",
     "exception": false,
     "start_time": "2022-07-14T20:10:55.292935",
     "status": "completed"
    },
    "tags": []
   },
   "outputs": [],
   "source": [
    "%matplotlib inline\n",
    "import numpy as np\n",
    "import matplotlib.pyplot as plt\n",
    "import pandas as pd"
   ]
  },
  {
   "cell_type": "markdown",
   "id": "ba036198",
   "metadata": {
    "papermill": {
     "duration": 0.02144,
     "end_time": "2022-07-14T20:10:55.909662",
     "exception": false,
     "start_time": "2022-07-14T20:10:55.888222",
     "status": "completed"
    },
    "tags": []
   },
   "source": [
    "From the command line run `pip install mnist`. This is a library that will help you bring down the mnist dataset. If you run this from a notebook, you need to put  `!pip install mnist` in a cell by itself."
   ]
  },
  {
   "cell_type": "code",
   "execution_count": 3,
   "id": "bb6ad8a1",
   "metadata": {
    "execution": {
     "iopub.execute_input": "2022-07-14T20:10:55.958998Z",
     "iopub.status.busy": "2022-07-14T20:10:55.958340Z",
     "iopub.status.idle": "2022-07-14T20:10:57.635433Z",
     "shell.execute_reply": "2022-07-14T20:10:57.635961Z"
    },
    "papermill": {
     "duration": 1.704852,
     "end_time": "2022-07-14T20:10:57.636116",
     "exception": false,
     "start_time": "2022-07-14T20:10:55.931264",
     "status": "completed"
    },
    "tags": []
   },
   "outputs": [
    {
     "name": "stdout",
     "output_type": "stream",
     "text": [
      "Collecting mnist\r\n"
     ]
    },
    {
     "name": "stdout",
     "output_type": "stream",
     "text": [
      "  Downloading mnist-0.2.2-py2.py3-none-any.whl (3.5 kB)\r\n",
      "Requirement already satisfied: numpy in /opt/hostedtoolcache/Python/3.6.15/x64/lib/python3.6/site-packages (from mnist) (1.19.5)\r\n"
     ]
    },
    {
     "name": "stdout",
     "output_type": "stream",
     "text": [
      "Installing collected packages: mnist\r\n"
     ]
    },
    {
     "name": "stdout",
     "output_type": "stream",
     "text": [
      "Successfully installed mnist-0.2.2\r\n"
     ]
    }
   ],
   "source": [
    "!pip install mnist"
   ]
  },
  {
   "cell_type": "markdown",
   "id": "69df9c9a",
   "metadata": {
    "papermill": {
     "duration": 0.025553,
     "end_time": "2022-07-14T20:10:57.687106",
     "exception": false,
     "start_time": "2022-07-14T20:10:57.661553",
     "status": "completed"
    },
    "tags": []
   },
   "source": [
    "## Preparing the Data"
   ]
  },
  {
   "cell_type": "code",
   "execution_count": 4,
   "id": "7f69d806",
   "metadata": {
    "execution": {
     "iopub.execute_input": "2022-07-14T20:10:57.752134Z",
     "iopub.status.busy": "2022-07-14T20:10:57.744701Z",
     "iopub.status.idle": "2022-07-14T20:10:57.758900Z",
     "shell.execute_reply": "2022-07-14T20:10:57.758405Z"
    },
    "papermill": {
     "duration": 0.046763,
     "end_time": "2022-07-14T20:10:57.759018",
     "exception": false,
     "start_time": "2022-07-14T20:10:57.712255",
     "status": "completed"
    },
    "tags": []
   },
   "outputs": [],
   "source": [
    "import mnist"
   ]
  },
  {
   "cell_type": "code",
   "execution_count": 5,
   "id": "a411e44f",
   "metadata": {
    "execution": {
     "iopub.execute_input": "2022-07-14T20:10:57.816181Z",
     "iopub.status.busy": "2022-07-14T20:10:57.815553Z",
     "iopub.status.idle": "2022-07-14T20:10:58.367017Z",
     "shell.execute_reply": "2022-07-14T20:10:58.367620Z"
    },
    "papermill": {
     "duration": 0.5835,
     "end_time": "2022-07-14T20:10:58.367794",
     "exception": false,
     "start_time": "2022-07-14T20:10:57.784294",
     "status": "completed"
    },
    "tags": []
   },
   "outputs": [],
   "source": [
    "train_images = mnist.train_images()\n",
    "train_labels = mnist.train_labels()"
   ]
  },
  {
   "cell_type": "code",
   "execution_count": 6,
   "id": "dceab3a5",
   "metadata": {
    "execution": {
     "iopub.execute_input": "2022-07-14T20:10:58.424199Z",
     "iopub.status.busy": "2022-07-14T20:10:58.423561Z",
     "iopub.status.idle": "2022-07-14T20:10:58.438854Z",
     "shell.execute_reply": "2022-07-14T20:10:58.438355Z"
    },
    "papermill": {
     "duration": 0.045741,
     "end_time": "2022-07-14T20:10:58.438975",
     "exception": false,
     "start_time": "2022-07-14T20:10:58.393234",
     "status": "completed"
    },
    "tags": []
   },
   "outputs": [
    {
     "data": {
      "text/plain": [
       "((60000, 28, 28), (60000,))"
      ]
     },
     "execution_count": 6,
     "metadata": {},
     "output_type": "execute_result"
    }
   ],
   "source": [
    "train_images.shape, train_labels.shape"
   ]
  },
  {
   "cell_type": "code",
   "execution_count": 7,
   "id": "f50dc2bb",
   "metadata": {
    "execution": {
     "iopub.execute_input": "2022-07-14T20:10:58.494386Z",
     "iopub.status.busy": "2022-07-14T20:10:58.493846Z",
     "iopub.status.idle": "2022-07-14T20:10:58.656220Z",
     "shell.execute_reply": "2022-07-14T20:10:58.655711Z"
    },
    "papermill": {
     "duration": 0.19208,
     "end_time": "2022-07-14T20:10:58.656336",
     "exception": false,
     "start_time": "2022-07-14T20:10:58.464256",
     "status": "completed"
    },
    "tags": []
   },
   "outputs": [],
   "source": [
    "test_images = mnist.test_images()\n",
    "test_labels = mnist.test_labels()"
   ]
  },
  {
   "cell_type": "code",
   "execution_count": 8,
   "id": "fc38cf1b",
   "metadata": {
    "execution": {
     "iopub.execute_input": "2022-07-14T20:10:58.706209Z",
     "iopub.status.busy": "2022-07-14T20:10:58.705662Z",
     "iopub.status.idle": "2022-07-14T20:10:58.719990Z",
     "shell.execute_reply": "2022-07-14T20:10:58.719532Z"
    },
    "papermill": {
     "duration": 0.040746,
     "end_time": "2022-07-14T20:10:58.720103",
     "exception": false,
     "start_time": "2022-07-14T20:10:58.679357",
     "status": "completed"
    },
    "tags": []
   },
   "outputs": [
    {
     "data": {
      "text/plain": [
       "((10000, 28, 28), (10000,))"
      ]
     },
     "execution_count": 8,
     "metadata": {},
     "output_type": "execute_result"
    }
   ],
   "source": [
    "test_images.shape, test_labels.shape"
   ]
  },
  {
   "cell_type": "code",
   "execution_count": 9,
   "id": "f9ed8fe0",
   "metadata": {
    "execution": {
     "iopub.execute_input": "2022-07-14T20:10:58.772770Z",
     "iopub.status.busy": "2022-07-14T20:10:58.772217Z",
     "iopub.status.idle": "2022-07-14T20:10:58.912194Z",
     "shell.execute_reply": "2022-07-14T20:10:58.912695Z"
    },
    "papermill": {
     "duration": 0.17004,
     "end_time": "2022-07-14T20:10:58.912828",
     "exception": false,
     "start_time": "2022-07-14T20:10:58.742788",
     "status": "completed"
    },
    "tags": []
   },
   "outputs": [
    {
     "name": "stdout",
     "output_type": "stream",
     "text": [
      "2\n"
     ]
    },
    {
     "data": {
      "text/plain": [
       "<matplotlib.image.AxesImage at 0x7f760bce44e0>"
      ]
     },
     "execution_count": 9,
     "metadata": {},
     "output_type": "execute_result"
    },
    {
     "data": {
      "image/png": "[encoded data removed]",
      "text/plain": [
       "<Figure size 432x288 with 1 Axes>"
      ]
     },
     "metadata": {
      "needs_background": "light"
     },
     "output_type": "display_data"
    }
   ],
   "source": [
    "image_index = 7776 # You may select anything up to 60,000\n",
    "print(train_labels[image_index]) \n",
    "plt.imshow(train_images[image_index], cmap='Greys')"
   ]
  },
  {
   "cell_type": "markdown",
   "id": "a8d2388d",
   "metadata": {
    "papermill": {
     "duration": 0.023938,
     "end_time": "2022-07-14T20:10:58.961422",
     "exception": false,
     "start_time": "2022-07-14T20:10:58.937484",
     "status": "completed"
    },
    "tags": []
   },
   "source": [
    "## Filter data to get 3 and 8 out"
   ]
  },
  {
   "cell_type": "code",
   "execution_count": 10,
   "id": "776f7fc7",
   "metadata": {
    "execution": {
     "iopub.execute_input": "2022-07-14T20:10:59.015533Z",
     "iopub.status.busy": "2022-07-14T20:10:59.014917Z",
     "iopub.status.idle": "2022-07-14T20:10:59.031384Z",
     "shell.execute_reply": "2022-07-14T20:10:59.031830Z"
    },
    "papermill": {
     "duration": 0.046884,
     "end_time": "2022-07-14T20:10:59.031970",
     "exception": false,
     "start_time": "2022-07-14T20:10:58.985086",
     "status": "completed"
    },
    "tags": []
   },
   "outputs": [],
   "source": [
    "train_filter = np.where((train_labels == 3 ) | (train_labels == 8))\n",
    "test_filter = np.where((test_labels == 3) | (test_labels == 8))\n",
    "X_train, y_train = train_images[train_filter], train_labels[train_filter]\n",
    "X_test, y_test = test_images[test_filter], test_labels[test_filter]"
   ]
  },
  {
   "cell_type": "markdown",
   "id": "948f0b7e",
   "metadata": {
    "papermill": {
     "duration": 0.024069,
     "end_time": "2022-07-14T20:10:59.079800",
     "exception": false,
     "start_time": "2022-07-14T20:10:59.055731",
     "status": "completed"
    },
    "tags": []
   },
   "source": [
    "We normalize the pizel values in the 0 to 1 range"
   ]
  },
  {
   "cell_type": "code",
   "execution_count": 11,
   "id": "ee4c2166",
   "metadata": {
    "execution": {
     "iopub.execute_input": "2022-07-14T20:10:59.131438Z",
     "iopub.status.busy": "2022-07-14T20:10:59.130863Z",
     "iopub.status.idle": "2022-07-14T20:10:59.178185Z",
     "shell.execute_reply": "2022-07-14T20:10:59.177603Z"
    },
    "papermill": {
     "duration": 0.074689,
     "end_time": "2022-07-14T20:10:59.178297",
     "exception": false,
     "start_time": "2022-07-14T20:10:59.103608",
     "status": "completed"
    },
    "tags": []
   },
   "outputs": [],
   "source": [
    "X_train = X_train/255.\n",
    "X_test = X_test/255."
   ]
  },
  {
   "cell_type": "markdown",
   "id": "ddcf4fab",
   "metadata": {
    "papermill": {
     "duration": 0.023684,
     "end_time": "2022-07-14T20:10:59.225966",
     "exception": false,
     "start_time": "2022-07-14T20:10:59.202282",
     "status": "completed"
    },
    "tags": []
   },
   "source": [
    "And setup the labels as 1 (when the digit is 3) and 0 (when the digit is 8)"
   ]
  },
  {
   "cell_type": "code",
   "execution_count": 12,
   "id": "7dc908f2",
   "metadata": {
    "execution": {
     "iopub.execute_input": "2022-07-14T20:10:59.277874Z",
     "iopub.status.busy": "2022-07-14T20:10:59.277352Z",
     "iopub.status.idle": "2022-07-14T20:10:59.289888Z",
     "shell.execute_reply": "2022-07-14T20:10:59.290271Z"
    },
    "papermill": {
     "duration": 0.0408,
     "end_time": "2022-07-14T20:10:59.290406",
     "exception": false,
     "start_time": "2022-07-14T20:10:59.249606",
     "status": "completed"
    },
    "tags": []
   },
   "outputs": [],
   "source": [
    "y_train = 1*(y_train==3)\n",
    "y_test = 1*(y_test==3)"
   ]
  },
  {
   "cell_type": "code",
   "execution_count": 13,
   "id": "01e4e969",
   "metadata": {
    "execution": {
     "iopub.execute_input": "2022-07-14T20:10:59.342401Z",
     "iopub.status.busy": "2022-07-14T20:10:59.341852Z",
     "iopub.status.idle": "2022-07-14T20:10:59.355704Z",
     "shell.execute_reply": "2022-07-14T20:10:59.356142Z"
    },
    "papermill": {
     "duration": 0.042109,
     "end_time": "2022-07-14T20:10:59.356277",
     "exception": false,
     "start_time": "2022-07-14T20:10:59.314168",
     "status": "completed"
    },
    "tags": []
   },
   "outputs": [
    {
     "data": {
      "text/plain": [
       "((11982, 28, 28), (1984, 28, 28))"
      ]
     },
     "execution_count": 13,
     "metadata": {},
     "output_type": "execute_result"
    }
   ],
   "source": [
    "X_train.shape, X_test.shape"
   ]
  },
  {
   "cell_type": "markdown",
   "id": "5ccf3f85",
   "metadata": {
    "papermill": {
     "duration": 0.024188,
     "end_time": "2022-07-14T20:10:59.404758",
     "exception": false,
     "start_time": "2022-07-14T20:10:59.380570",
     "status": "completed"
    },
    "tags": []
   },
   "source": [
    "We reshape the data to flatten the image pixels into a set of features or co-variates:"
   ]
  },
  {
   "cell_type": "code",
   "execution_count": 14,
   "id": "5286a4a3",
   "metadata": {
    "execution": {
     "iopub.execute_input": "2022-07-14T20:10:59.458417Z",
     "iopub.status.busy": "2022-07-14T20:10:59.457830Z",
     "iopub.status.idle": "2022-07-14T20:10:59.471681Z",
     "shell.execute_reply": "2022-07-14T20:10:59.472107Z"
    },
    "papermill": {
     "duration": 0.043296,
     "end_time": "2022-07-14T20:10:59.472237",
     "exception": false,
     "start_time": "2022-07-14T20:10:59.428941",
     "status": "completed"
    },
    "tags": []
   },
   "outputs": [
    {
     "data": {
      "text/plain": [
       "((11982, 784), (1984, 784))"
      ]
     },
     "execution_count": 14,
     "metadata": {},
     "output_type": "execute_result"
    }
   ],
   "source": [
    "X_train = X_train.reshape(X_train.shape[0], -1)\n",
    "X_test = X_test.reshape(X_test.shape[0], -1)\n",
    "X_train.shape, X_test.shape"
   ]
  },
  {
   "cell_type": "code",
   "execution_count": 15,
   "id": "73c5f88a",
   "metadata": {
    "execution": {
     "iopub.execute_input": "2022-07-14T20:10:59.526203Z",
     "iopub.status.busy": "2022-07-14T20:10:59.525670Z",
     "iopub.status.idle": "2022-07-14T20:10:59.545802Z",
     "shell.execute_reply": "2022-07-14T20:10:59.546201Z"
    },
    "papermill": {
     "duration": 0.049355,
     "end_time": "2022-07-14T20:10:59.546341",
     "exception": false,
     "start_time": "2022-07-14T20:10:59.496986",
     "status": "completed"
    },
    "tags": []
   },
   "outputs": [],
   "source": [
    "#Impoting functions from 'Kudzu'\n",
    "from kudzu.model import Model\n",
    "from kudzu.train import Learner\n",
    "from kudzu.optim import GD\n",
    "from kudzu.data import Data, Sampler,Dataloader\n",
    "\n",
    "from kudzu.callbacks import AccCallback\n",
    "from kudzu.callbacks import ClfCallback\n",
    "\n",
    "from kudzu.loss import MSE\n",
    "\n",
    "from kudzu.layer import Sigmoid,Relu\n",
    "from kudzu.layer import Affine"
   ]
  },
  {
   "cell_type": "markdown",
   "id": "bc01172a",
   "metadata": {
    "papermill": {
     "duration": 0.024166,
     "end_time": "2022-07-14T20:10:59.594974",
     "exception": false,
     "start_time": "2022-07-14T20:10:59.570808",
     "status": "completed"
    },
    "tags": []
   },
   "source": [
    "### Let us create a `Config` class, to store important parameters. \n",
    "This class essentially plays the role of a dictionary."
   ]
  },
  {
   "cell_type": "code",
   "execution_count": 16,
   "id": "978281aa",
   "metadata": {
    "execution": {
     "iopub.execute_input": "2022-07-14T20:10:59.647911Z",
     "iopub.status.busy": "2022-07-14T20:10:59.647347Z",
     "iopub.status.idle": "2022-07-14T20:10:59.661467Z",
     "shell.execute_reply": "2022-07-14T20:10:59.661024Z"
    },
    "papermill": {
     "duration": 0.042473,
     "end_time": "2022-07-14T20:10:59.661585",
     "exception": false,
     "start_time": "2022-07-14T20:10:59.619112",
     "status": "completed"
    },
    "tags": []
   },
   "outputs": [],
   "source": [
    "class Config:\n",
    "    pass\n",
    "config = Config()\n",
    "config.lr = 0.001\n",
    "config.num_epochs = 250\n",
    "config.bs = 50"
   ]
  },
  {
   "cell_type": "markdown",
   "id": "1385fa59",
   "metadata": {
    "papermill": {
     "duration": 0.024159,
     "end_time": "2022-07-14T20:10:59.710353",
     "exception": false,
     "start_time": "2022-07-14T20:10:59.686194",
     "status": "completed"
    },
    "tags": []
   },
   "source": [
    "### Running Models with the Training data\n",
    "Details about the network layers:\n",
    "- A first affine layer has 784 inputs and does 100 affine transforms. These are followed by a Relu\n",
    "- A second affine layer has 100 inputs from the 100 activations of the past layer, and does 100 affine transforms. These are followed by a Relu\n",
    "- A third affine layer has 100 activations and does 2 affine transformations to create an embedding for visualization. There is no non-linearity here.\n",
    "- A final \"logistic regression\" which has an affine transform from 2 inputs to 1 output, which is squeezed through a sigmoid.\n"
   ]
  },
  {
   "cell_type": "code",
   "execution_count": 17,
   "id": "2b9c66db",
   "metadata": {
    "execution": {
     "iopub.execute_input": "2022-07-14T20:10:59.763257Z",
     "iopub.status.busy": "2022-07-14T20:10:59.762734Z",
     "iopub.status.idle": "2022-07-14T20:10:59.776080Z",
     "shell.execute_reply": "2022-07-14T20:10:59.775628Z"
    },
    "papermill": {
     "duration": 0.041592,
     "end_time": "2022-07-14T20:10:59.776189",
     "exception": false,
     "start_time": "2022-07-14T20:10:59.734597",
     "status": "completed"
    },
    "tags": []
   },
   "outputs": [],
   "source": [
    "data = Data(X_train, y_train.reshape(-1,1))\n",
    "sampler = Sampler(data, config.bs, shuffle=True)\n",
    "\n",
    "dl = Dataloader(data, sampler)\n",
    "\n",
    "opt = GD(config.lr)\n",
    "loss = MSE()"
   ]
  },
  {
   "cell_type": "code",
   "execution_count": 18,
   "id": "b275e4c2",
   "metadata": {
    "execution": {
     "iopub.execute_input": "2022-07-14T20:10:59.829229Z",
     "iopub.status.busy": "2022-07-14T20:10:59.828689Z",
     "iopub.status.idle": "2022-07-14T20:10:59.842926Z",
     "shell.execute_reply": "2022-07-14T20:10:59.842472Z"
    },
    "papermill": {
     "duration": 0.042393,
     "end_time": "2022-07-14T20:10:59.843044",
     "exception": false,
     "start_time": "2022-07-14T20:10:59.800651",
     "status": "completed"
    },
    "tags": []
   },
   "outputs": [],
   "source": [
    "training_data_x = X_train\n",
    "testing_data_x = X_test\n",
    "training_data_y = y_train.reshape(-1,1)\n",
    "testing_data_y = y_test.reshape(-1,1)"
   ]
  },
  {
   "cell_type": "code",
   "execution_count": 19,
   "id": "76951160",
   "metadata": {
    "execution": {
     "iopub.execute_input": "2022-07-14T20:10:59.897699Z",
     "iopub.status.busy": "2022-07-14T20:10:59.897093Z",
     "iopub.status.idle": "2022-07-14T20:10:59.913950Z",
     "shell.execute_reply": "2022-07-14T20:10:59.914481Z"
    },
    "papermill": {
     "duration": 0.047228,
     "end_time": "2022-07-14T20:10:59.914621",
     "exception": false,
     "start_time": "2022-07-14T20:10:59.867393",
     "status": "completed"
    },
    "tags": []
   },
   "outputs": [
    {
     "name": "stdout",
     "output_type": "stream",
     "text": [
      "xavier\n",
      "xavier\n",
      "xavier\n",
      "xavier\n",
      "xavier\n"
     ]
    }
   ],
   "source": [
    "layers = [Affine(\"first\", 784, 100), Relu(\"first\"), Affine(\"second\", 100, 100), Relu(\"second\"), Affine(\"third\", 100, 2), Affine(\"last\", 2, 1), Sigmoid(\"last\")]\n",
    "model_nn = Model(layers)\n",
    "model_lr = Model([Affine(\"logits\", 784, 1), Sigmoid(\"sigmoid\")])"
   ]
  },
  {
   "cell_type": "code",
   "execution_count": 20,
   "id": "6eede77a",
   "metadata": {
    "execution": {
     "iopub.execute_input": "2022-07-14T20:10:59.969672Z",
     "iopub.status.busy": "2022-07-14T20:10:59.969142Z",
     "iopub.status.idle": "2022-07-14T20:10:59.981577Z",
     "shell.execute_reply": "2022-07-14T20:10:59.981991Z"
    },
    "papermill": {
     "duration": 0.042611,
     "end_time": "2022-07-14T20:10:59.982135",
     "exception": false,
     "start_time": "2022-07-14T20:10:59.939524",
     "status": "completed"
    },
    "tags": []
   },
   "outputs": [],
   "source": [
    "nn_learner = Learner(loss, model_nn, opt, config.num_epochs)\n",
    "acc_nn = ClfCallback(nn_learner, config.bs, training_data_x , testing_data_x, training_data_y, testing_data_y)\n",
    "nn_learner.set_callbacks([acc_nn])"
   ]
  },
  {
   "cell_type": "code",
   "execution_count": 21,
   "id": "877b6cc7",
   "metadata": {
    "execution": {
     "iopub.execute_input": "2022-07-14T20:11:00.039844Z",
     "iopub.status.busy": "2022-07-14T20:11:00.039201Z",
     "iopub.status.idle": "2022-07-14T20:11:00.050345Z",
     "shell.execute_reply": "2022-07-14T20:11:00.049919Z"
    },
    "papermill": {
     "duration": 0.043598,
     "end_time": "2022-07-14T20:11:00.050455",
     "exception": false,
     "start_time": "2022-07-14T20:11:00.006857",
     "status": "completed"
    },
    "tags": []
   },
   "outputs": [],
   "source": [
    "lr_learner = Learner(loss, model_lr, opt, config.num_epochs)\n",
    "acc_lr = ClfCallback(lr_learner, config.bs, training_data_x , testing_data_x, training_data_y, testing_data_y)\n",
    "lr_learner.set_callbacks([acc_lr])"
   ]
  },
  {
   "cell_type": "code",
   "execution_count": 22,
   "id": "d9b133c3",
   "metadata": {
    "execution": {
     "iopub.execute_input": "2022-07-14T20:11:00.103926Z",
     "iopub.status.busy": "2022-07-14T20:11:00.103384Z",
     "iopub.status.idle": "2022-07-14T20:12:21.974497Z",
     "shell.execute_reply": "2022-07-14T20:12:21.975420Z"
    },
    "papermill": {
     "duration": 81.900425,
     "end_time": "2022-07-14T20:12:21.975586",
     "exception": false,
     "start_time": "2022-07-14T20:11:00.075161",
     "status": "completed"
    },
    "tags": []
   },
   "outputs": [
    {
     "name": "stdout",
     "output_type": "stream",
     "text": [
      "Epoch 0, Loss 0.2485\n",
      "Training Accuracy: 0.5928, Testing Accuracy: 0.5791\n",
      "\n"
     ]
    },
    {
     "name": "stdout",
     "output_type": "stream",
     "text": [
      "Epoch 10, Loss 0.1183\n",
      "Training Accuracy: 0.8983, Testing Accuracy: 0.9118\n",
      "\n"
     ]
    },
    {
     "name": "stdout",
     "output_type": "stream",
     "text": [
      "Epoch 20, Loss 0.0663\n",
      "Training Accuracy: 0.9313, Testing Accuracy: 0.9441\n",
      "\n"
     ]
    },
    {
     "name": "stdout",
     "output_type": "stream",
     "text": [
      "Epoch 30, Loss 0.0494\n",
      "Training Accuracy: 0.9445, Testing Accuracy: 0.9551\n",
      "\n"
     ]
    },
    {
     "name": "stdout",
     "output_type": "stream",
     "text": [
      "Epoch 40, Loss 0.0416\n",
      "Training Accuracy: 0.9517, Testing Accuracy: 0.9617\n",
      "\n"
     ]
    },
    {
     "name": "stdout",
     "output_type": "stream",
     "text": [
      "Epoch 50, Loss 0.0371\n",
      "Training Accuracy: 0.9571, Testing Accuracy: 0.9647\n",
      "\n"
     ]
    },
    {
     "name": "stdout",
     "output_type": "stream",
     "text": [
      "Epoch 60, Loss 0.0341\n",
      "Training Accuracy: 0.9603, Testing Accuracy: 0.9662\n",
      "\n"
     ]
    },
    {
     "name": "stdout",
     "output_type": "stream",
     "text": [
      "Epoch 70, Loss 0.0319\n",
      "Training Accuracy: 0.9633, Testing Accuracy: 0.9657\n",
      "\n"
     ]
    },
    {
     "name": "stdout",
     "output_type": "stream",
     "text": [
      "Epoch 80, Loss 0.0302\n",
      "Training Accuracy: 0.9647, Testing Accuracy: 0.9682\n",
      "\n"
     ]
    },
    {
     "name": "stdout",
     "output_type": "stream",
     "text": [
      "Epoch 90, Loss 0.0289\n",
      "Training Accuracy: 0.9663, Testing Accuracy: 0.9682\n",
      "\n"
     ]
    },
    {
     "name": "stdout",
     "output_type": "stream",
     "text": [
      "Epoch 100, Loss 0.0277\n",
      "Training Accuracy: 0.9680, Testing Accuracy: 0.9688\n",
      "\n"
     ]
    },
    {
     "name": "stdout",
     "output_type": "stream",
     "text": [
      "Epoch 110, Loss 0.0267\n",
      "Training Accuracy: 0.9690, Testing Accuracy: 0.9698\n",
      "\n"
     ]
    },
    {
     "name": "stdout",
     "output_type": "stream",
     "text": [
      "Epoch 120, Loss 0.0259\n",
      "Training Accuracy: 0.9698, Testing Accuracy: 0.9708\n",
      "\n"
     ]
    },
    {
     "name": "stdout",
     "output_type": "stream",
     "text": [
      "Epoch 130, Loss 0.0251\n",
      "Training Accuracy: 0.9708, Testing Accuracy: 0.9708\n",
      "\n"
     ]
    },
    {
     "name": "stdout",
     "output_type": "stream",
     "text": [
      "Epoch 140, Loss 0.0244\n",
      "Training Accuracy: 0.9715, Testing Accuracy: 0.9718\n",
      "\n"
     ]
    },
    {
     "name": "stdout",
     "output_type": "stream",
     "text": [
      "Epoch 150, Loss 0.0238\n",
      "Training Accuracy: 0.9720, Testing Accuracy: 0.9718\n",
      "\n"
     ]
    },
    {
     "name": "stdout",
     "output_type": "stream",
     "text": [
      "Epoch 160, Loss 0.0233\n",
      "Training Accuracy: 0.9729, Testing Accuracy: 0.9718\n",
      "\n"
     ]
    },
    {
     "name": "stdout",
     "output_type": "stream",
     "text": [
      "Epoch 170, Loss 0.0227\n",
      "Training Accuracy: 0.9730, Testing Accuracy: 0.9728\n",
      "\n"
     ]
    },
    {
     "name": "stdout",
     "output_type": "stream",
     "text": [
      "Epoch 180, Loss 0.0223\n",
      "Training Accuracy: 0.9737, Testing Accuracy: 0.9728\n",
      "\n"
     ]
    },
    {
     "name": "stdout",
     "output_type": "stream",
     "text": [
      "Epoch 190, Loss 0.0218\n",
      "Training Accuracy: 0.9744, Testing Accuracy: 0.9728\n",
      "\n"
     ]
    },
    {
     "name": "stdout",
     "output_type": "stream",
     "text": [
      "Epoch 200, Loss 0.0214\n",
      "Training Accuracy: 0.9750, Testing Accuracy: 0.9738\n",
      "\n"
     ]
    },
    {
     "name": "stdout",
     "output_type": "stream",
     "text": [
      "Epoch 210, Loss 0.021\n",
      "Training Accuracy: 0.9755, Testing Accuracy: 0.9743\n",
      "\n"
     ]
    },
    {
     "name": "stdout",
     "output_type": "stream",
     "text": [
      "Epoch 220, Loss 0.0206\n",
      "Training Accuracy: 0.9760, Testing Accuracy: 0.9743\n",
      "\n"
     ]
    },
    {
     "name": "stdout",
     "output_type": "stream",
     "text": [
      "Epoch 230, Loss 0.0203\n",
      "Training Accuracy: 0.9765, Testing Accuracy: 0.9748\n",
      "\n"
     ]
    },
    {
     "name": "stdout",
     "output_type": "stream",
     "text": [
      "Epoch 240, Loss 0.02\n",
      "Training Accuracy: 0.9768, Testing Accuracy: 0.9748\n",
      "\n"
     ]
    },
    {
     "data": {
      "text/plain": [
       "0.026849711711620382"
      ]
     },
     "execution_count": 22,
     "metadata": {},
     "output_type": "execute_result"
    }
   ],
   "source": [
    "nn_learner.train_loop(dl)"
   ]
  },
  {
   "cell_type": "code",
   "execution_count": 23,
   "id": "e0163366",
   "metadata": {
    "execution": {
     "iopub.execute_input": "2022-07-14T20:12:22.059779Z",
     "iopub.status.busy": "2022-07-14T20:12:22.059113Z",
     "iopub.status.idle": "2022-07-14T20:12:36.754527Z",
     "shell.execute_reply": "2022-07-14T20:12:36.755384Z"
    },
    "papermill": {
     "duration": 14.744324,
     "end_time": "2022-07-14T20:12:36.755539",
     "exception": false,
     "start_time": "2022-07-14T20:12:22.011215",
     "status": "completed"
    },
    "tags": []
   },
   "outputs": [
    {
     "name": "stdout",
     "output_type": "stream",
     "text": [
      "Epoch 0, Loss 0.2111\n",
      "Training Accuracy: 0.7878, Testing Accuracy: 0.7989\n",
      "\n"
     ]
    },
    {
     "name": "stdout",
     "output_type": "stream",
     "text": [
      "Epoch 10, Loss 0.1004\n",
      "Training Accuracy: 0.9117, Testing Accuracy: 0.9224\n",
      "\n"
     ]
    },
    {
     "name": "stdout",
     "output_type": "stream",
     "text": [
      "Epoch 20, Loss 0.0784\n",
      "Training Accuracy: 0.9287, Testing Accuracy: 0.9385\n",
      "\n"
     ]
    },
    {
     "name": "stdout",
     "output_type": "stream",
     "text": [
      "Epoch 30, Loss 0.0679\n",
      "Training Accuracy: 0.9376, Testing Accuracy: 0.9451\n",
      "\n"
     ]
    },
    {
     "name": "stdout",
     "output_type": "stream",
     "text": [
      "Epoch 40, Loss 0.0616\n",
      "Training Accuracy: 0.9407, Testing Accuracy: 0.9516\n",
      "\n"
     ]
    },
    {
     "name": "stdout",
     "output_type": "stream",
     "text": [
      "Epoch 50, Loss 0.0572\n",
      "Training Accuracy: 0.9432, Testing Accuracy: 0.9541\n",
      "\n"
     ]
    },
    {
     "name": "stdout",
     "output_type": "stream",
     "text": [
      "Epoch 60, Loss 0.054\n",
      "Training Accuracy: 0.9457, Testing Accuracy: 0.9561\n",
      "\n"
     ]
    },
    {
     "name": "stdout",
     "output_type": "stream",
     "text": [
      "Epoch 70, Loss 0.0515\n",
      "Training Accuracy: 0.9476, Testing Accuracy: 0.9572\n",
      "\n"
     ]
    },
    {
     "name": "stdout",
     "output_type": "stream",
     "text": [
      "Epoch 80, Loss 0.0494\n",
      "Training Accuracy: 0.9491, Testing Accuracy: 0.9597\n",
      "\n"
     ]
    },
    {
     "name": "stdout",
     "output_type": "stream",
     "text": [
      "Epoch 90, Loss 0.0478\n",
      "Training Accuracy: 0.9503, Testing Accuracy: 0.9602\n",
      "\n"
     ]
    },
    {
     "name": "stdout",
     "output_type": "stream",
     "text": [
      "Epoch 100, Loss 0.0464\n",
      "Training Accuracy: 0.9513, Testing Accuracy: 0.9622\n",
      "\n"
     ]
    },
    {
     "name": "stdout",
     "output_type": "stream",
     "text": [
      "Epoch 110, Loss 0.0451\n",
      "Training Accuracy: 0.9526, Testing Accuracy: 0.9637\n",
      "\n"
     ]
    },
    {
     "name": "stdout",
     "output_type": "stream",
     "text": [
      "Epoch 120, Loss 0.0441\n",
      "Training Accuracy: 0.9532, Testing Accuracy: 0.9642\n",
      "\n"
     ]
    },
    {
     "name": "stdout",
     "output_type": "stream",
     "text": [
      "Epoch 130, Loss 0.0431\n",
      "Training Accuracy: 0.9545, Testing Accuracy: 0.9647\n",
      "\n"
     ]
    },
    {
     "name": "stdout",
     "output_type": "stream",
     "text": [
      "Epoch 140, Loss 0.0423\n",
      "Training Accuracy: 0.9552, Testing Accuracy: 0.9647\n",
      "\n"
     ]
    },
    {
     "name": "stdout",
     "output_type": "stream",
     "text": [
      "Epoch 150, Loss 0.0416\n",
      "Training Accuracy: 0.9554, Testing Accuracy: 0.9652\n",
      "\n"
     ]
    },
    {
     "name": "stdout",
     "output_type": "stream",
     "text": [
      "Epoch 160, Loss 0.0409\n",
      "Training Accuracy: 0.9560, Testing Accuracy: 0.9662\n",
      "\n"
     ]
    },
    {
     "name": "stdout",
     "output_type": "stream",
     "text": [
      "Epoch 170, Loss 0.0403\n",
      "Training Accuracy: 0.9565, Testing Accuracy: 0.9672\n",
      "\n"
     ]
    },
    {
     "name": "stdout",
     "output_type": "stream",
     "text": [
      "Epoch 180, Loss 0.0397\n",
      "Training Accuracy: 0.9571, Testing Accuracy: 0.9667\n",
      "\n"
     ]
    },
    {
     "name": "stdout",
     "output_type": "stream",
     "text": [
      "Epoch 190, Loss 0.0392\n",
      "Training Accuracy: 0.9575, Testing Accuracy: 0.9662\n",
      "\n"
     ]
    },
    {
     "name": "stdout",
     "output_type": "stream",
     "text": [
      "Epoch 200, Loss 0.0387\n",
      "Training Accuracy: 0.9582, Testing Accuracy: 0.9662\n",
      "\n"
     ]
    },
    {
     "name": "stdout",
     "output_type": "stream",
     "text": [
      "Epoch 210, Loss 0.0383\n",
      "Training Accuracy: 0.9584, Testing Accuracy: 0.9662\n",
      "\n"
     ]
    },
    {
     "name": "stdout",
     "output_type": "stream",
     "text": [
      "Epoch 220, Loss 0.0379\n",
      "Training Accuracy: 0.9587, Testing Accuracy: 0.9662\n",
      "\n"
     ]
    },
    {
     "name": "stdout",
     "output_type": "stream",
     "text": [
      "Epoch 230, Loss 0.0375\n",
      "Training Accuracy: 0.9593, Testing Accuracy: 0.9657\n",
      "\n"
     ]
    },
    {
     "name": "stdout",
     "output_type": "stream",
     "text": [
      "Epoch 240, Loss 0.0371\n",
      "Training Accuracy: 0.9595, Testing Accuracy: 0.9657\n",
      "\n"
     ]
    },
    {
     "data": {
      "text/plain": [
       "0.03953603514279243"
      ]
     },
     "execution_count": 23,
     "metadata": {},
     "output_type": "execute_result"
    }
   ],
   "source": [
    "lr_learner.train_loop(dl)"
   ]
  },
  {
   "cell_type": "code",
   "execution_count": 24,
   "id": "ca410940",
   "metadata": {
    "execution": {
     "iopub.execute_input": "2022-07-14T20:12:36.848151Z",
     "iopub.status.busy": "2022-07-14T20:12:36.847509Z",
     "iopub.status.idle": "2022-07-14T20:12:37.086516Z",
     "shell.execute_reply": "2022-07-14T20:12:37.085955Z"
    },
    "papermill": {
     "duration": 0.2893,
     "end_time": "2022-07-14T20:12:37.086644",
     "exception": false,
     "start_time": "2022-07-14T20:12:36.797344",
     "status": "completed"
    },
    "tags": []
   },
   "outputs": [
    {
     "data": {
      "text/plain": [
       "<matplotlib.legend.Legend at 0x7f75ff099b38>"
      ]
     },
     "execution_count": 24,
     "metadata": {},
     "output_type": "execute_result"
    },
    {
     "data": {
      "image/png": "[encoded data removed]",
      "text/plain": [
       "<Figure size 1080x720 with 1 Axes>"
      ]
     },
     "metadata": {
      "needs_background": "light"
     },
     "output_type": "display_data"
    }
   ],
   "source": [
    "#comparing the results of NN and LR\n",
    "plt.figure(figsize=(15,10))\n",
    "\n",
    "# Neural Network plots\n",
    "plt.plot(acc_nn.accuracies, 'r-', label = \"Training Accuracies - NN\")\n",
    "plt.plot(acc_nn.test_accuracies, 'g-', label = \"Testing Accuracies - NN\")\n",
    "\n",
    "# Logistic Regression plots\n",
    "plt.plot(acc_lr.accuracies, 'k-', label = \"Training Accuracies - LR\")\n",
    "plt.plot(acc_lr.test_accuracies, 'b-', label = \"Testing Accuracies - LR\")\n",
    "plt.legend()"
   ]
  },
  {
   "cell_type": "markdown",
   "id": "80dfb35c",
   "metadata": {
    "papermill": {
     "duration": 0.037447,
     "end_time": "2022-07-14T20:12:37.162463",
     "exception": false,
     "start_time": "2022-07-14T20:12:37.125016",
     "status": "completed"
    },
    "tags": []
   },
   "source": [
    "#### Plotting the outputs of this layer of the NN.\n"
   ]
  },
  {
   "cell_type": "code",
   "execution_count": 25,
   "id": "45eb2ff5",
   "metadata": {
    "execution": {
     "iopub.execute_input": "2022-07-14T20:12:37.243751Z",
     "iopub.status.busy": "2022-07-14T20:12:37.243151Z",
     "iopub.status.idle": "2022-07-14T20:12:37.263507Z",
     "shell.execute_reply": "2022-07-14T20:12:37.263029Z"
    },
    "papermill": {
     "duration": 0.063599,
     "end_time": "2022-07-14T20:12:37.263631",
     "exception": false,
     "start_time": "2022-07-14T20:12:37.200032",
     "status": "completed"
    },
    "tags": []
   },
   "outputs": [],
   "source": [
    "new_model = Model(layers[:-2])\n",
    "testing_plot = new_model(testing_data_x)"
   ]
  },
  {
   "cell_type": "code",
   "execution_count": 26,
   "id": "4c0a5485",
   "metadata": {
    "execution": {
     "iopub.execute_input": "2022-07-14T20:12:37.343738Z",
     "iopub.status.busy": "2022-07-14T20:12:37.343164Z",
     "iopub.status.idle": "2022-07-14T20:12:37.537436Z",
     "shell.execute_reply": "2022-07-14T20:12:37.536807Z"
    },
    "papermill": {
     "duration": 0.236072,
     "end_time": "2022-07-14T20:12:37.537579",
     "exception": false,
     "start_time": "2022-07-14T20:12:37.301507",
     "status": "completed"
    },
    "tags": []
   },
   "outputs": [
    {
     "data": {
      "text/plain": [
       "Text(0.5, 1.0, 'Outputs')"
      ]
     },
     "execution_count": 26,
     "metadata": {},
     "output_type": "execute_result"
    },
    {
     "data": {
      "image/png": "[encoded data removed]",
      "text/plain": [
       "<Figure size 576x504 with 1 Axes>"
      ]
     },
     "metadata": {
      "needs_background": "light"
     },
     "output_type": "display_data"
    }
   ],
   "source": [
    "# Plotting the scatter plot of points and color coding by class\n",
    "plt.figure(figsize=(8,7))\n",
    "plt.scatter(testing_plot[:,0], testing_plot[:,1], alpha = 0.1, c = y_test.ravel());\n",
    "plt.title('Outputs')"
   ]
  },
  {
   "cell_type": "markdown",
   "id": "a74fcf8f",
   "metadata": {
    "papermill": {
     "duration": 0.039249,
     "end_time": "2022-07-14T20:12:37.617305",
     "exception": false,
     "start_time": "2022-07-14T20:12:37.578056",
     "status": "completed"
    },
    "tags": []
   },
   "source": [
    "Probability contours"
   ]
  },
  {
   "cell_type": "code",
   "execution_count": 27,
   "id": "d0afc8e3",
   "metadata": {
    "execution": {
     "iopub.execute_input": "2022-07-14T20:12:37.738213Z",
     "iopub.status.busy": "2022-07-14T20:12:37.737568Z",
     "iopub.status.idle": "2022-07-14T20:12:37.748233Z",
     "shell.execute_reply": "2022-07-14T20:12:37.748707Z"
    },
    "papermill": {
     "duration": 0.092077,
     "end_time": "2022-07-14T20:12:37.748845",
     "exception": false,
     "start_time": "2022-07-14T20:12:37.656768",
     "status": "completed"
    },
    "tags": []
   },
   "outputs": [],
   "source": [
    "model_prob = Model(layers[-2:]) "
   ]
  },
  {
   "cell_type": "code",
   "execution_count": 28,
   "id": "9b96e238",
   "metadata": {
    "execution": {
     "iopub.execute_input": "2022-07-14T20:12:37.845043Z",
     "iopub.status.busy": "2022-07-14T20:12:37.844327Z",
     "iopub.status.idle": "2022-07-14T20:12:37.858493Z",
     "shell.execute_reply": "2022-07-14T20:12:37.857637Z"
    },
    "papermill": {
     "duration": 0.064776,
     "end_time": "2022-07-14T20:12:37.858611",
     "exception": false,
     "start_time": "2022-07-14T20:12:37.793835",
     "status": "completed"
    },
    "tags": []
   },
   "outputs": [],
   "source": [
    "#creating the x and y ranges according to the above generated plot.\n",
    "x_range = np.linspace(-4, 1, 100) \n",
    "y_range = np.linspace(-6, 6, 100) \n",
    "x_grid, y_grid = np.meshgrid(x_range, y_range) # x_grid and y_grig are of size 100 X 100\n",
    "\n",
    "# converting x_grid and y_grid to continuous arrays\n",
    "x_gridflat = np.ravel(x_grid)\n",
    "y_gridflat = np.ravel(y_grid)\n",
    "\n",
    "# The last layer of the current model takes two columns as input. Hence transpose of np.vstack() is required.\n",
    "X = np.vstack((x_gridflat, y_gridflat)).T\n",
    "\n",
    "prob_contour = model_prob(X).reshape(100,100) "
   ]
  },
  {
   "cell_type": "code",
   "execution_count": 29,
   "id": "da72499a",
   "metadata": {
    "execution": {
     "iopub.execute_input": "2022-07-14T20:12:37.949638Z",
     "iopub.status.busy": "2022-07-14T20:12:37.949087Z",
     "iopub.status.idle": "2022-07-14T20:12:38.173914Z",
     "shell.execute_reply": "2022-07-14T20:12:38.174324Z"
    },
    "papermill": {
     "duration": 0.27512,
     "end_time": "2022-07-14T20:12:38.174459",
     "exception": false,
     "start_time": "2022-07-14T20:12:37.899339",
     "status": "completed"
    },
    "tags": []
   },
   "outputs": [
    {
     "data": {
      "image/png": "[encoded data removed]",
      "text/plain": [
       "<Figure size 720x648 with 1 Axes>"
      ]
     },
     "metadata": {
      "needs_background": "light"
     },
     "output_type": "display_data"
    }
   ],
   "source": [
    "plt.figure(figsize=(10,9))\n",
    "plt.scatter(testing_plot[:,0], testing_plot[:,1], alpha = 0.1, c = y_test.ravel())\n",
    "contours = plt.contour(x_grid,y_grid,prob_contour)\n",
    "plt.title('Probability Contours')\n",
    "plt.clabel(contours, inline = True );"
   ]
  },
  {
   "cell_type": "code",
   "execution_count": null,
   "id": "e81b4ac7",
   "metadata": {
    "papermill": {
     "duration": 0.042059,
     "end_time": "2022-07-14T20:12:38.259052",
     "exception": false,
     "start_time": "2022-07-14T20:12:38.216993",
     "status": "completed"
    },
    "tags": []
   },
   "outputs": [],
   "source": []
  }
 ],
 "metadata": {
  "kernelspec": {
   "display_name": "Python 3",
   "language": "python",
   "name": "python3"
  },
  "language_info": {
   "codemirror_mode": {
    "name": "ipython",
    "version": 3
   },
   "file_extension": ".py",
   "mimetype": "text/x-python",
   "name": "python",
   "nbconvert_exporter": "python",
   "pygments_lexer": "ipython3",
   "version": "3.6.15"
  },
  "papermill": {
   "default_parameters": {},
   "duration": 104.51136,
   "end_time": "2022-07-14T20:12:38.720237",
   "environment_variables": {},
   "exception": null,
   "input_path": "2020-08-11-part2.ipynb",
   "output_path": "2020-08-11-part2.ipynb",
   "parameters": {},
   "start_time": "2022-07-14T20:10:54.208877",
   "version": "2.3.3"
  }
 },
 "nbformat": 4,
 "nbformat_minor": 5
}