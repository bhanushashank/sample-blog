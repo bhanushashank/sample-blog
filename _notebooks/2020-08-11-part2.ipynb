{
 "cells": [
  {
   "cell_type": "markdown",
   "id": "98380cd3",
   "metadata": {
    "papermill": {
     "duration": 0.028478,
     "end_time": "2022-01-03T10:08:27.136369",
     "exception": false,
     "start_time": "2022-01-03T10:08:27.107891",
     "status": "completed"
    },
    "tags": []
   },
   "source": [
    "# Distinguish Your Own Digits (DYOD)"
   ]
  },
  {
   "cell_type": "markdown",
   "id": "ef31240d",
   "metadata": {
    "papermill": {
     "duration": 0.023412,
     "end_time": "2022-01-03T10:08:27.184076",
     "exception": false,
     "start_time": "2022-01-03T10:08:27.160664",
     "status": "completed"
    },
    "tags": []
   },
   "source": [
    "You are going to write a classifier that distinguishes between the number 3 and number 8."
   ]
  },
  {
   "cell_type": "code",
   "execution_count": 1,
   "id": "b15c8646",
   "metadata": {
    "execution": {
     "iopub.execute_input": "2022-01-03T10:08:27.242916Z",
     "iopub.status.busy": "2022-01-03T10:08:27.242386Z",
     "iopub.status.idle": "2022-01-03T10:08:27.252305Z",
     "shell.execute_reply": "2022-01-03T10:08:27.252697Z"
    },
    "papermill": {
     "duration": 0.043909,
     "end_time": "2022-01-03T10:08:27.252848",
     "exception": false,
     "start_time": "2022-01-03T10:08:27.208939",
     "status": "completed"
    },
    "tags": []
   },
   "outputs": [],
   "source": [
    "%load_ext autoreload\n",
    "%autoreload 2"
   ]
  },
  {
   "cell_type": "code",
   "execution_count": 2,
   "id": "22ef38dc",
   "metadata": {
    "execution": {
     "iopub.execute_input": "2022-01-03T10:08:27.313365Z",
     "iopub.status.busy": "2022-01-03T10:08:27.309028Z",
     "iopub.status.idle": "2022-01-03T10:08:27.881513Z",
     "shell.execute_reply": "2022-01-03T10:08:27.880948Z"
    },
    "papermill": {
     "duration": 0.605157,
     "end_time": "2022-01-03T10:08:27.881658",
     "exception": false,
     "start_time": "2022-01-03T10:08:27.276501",
     "status": "completed"
    },
    "tags": []
   },
   "outputs": [],
   "source": [
    "%matplotlib inline\n",
    "import numpy as np\n",
    "import matplotlib.pyplot as plt\n",
    "import pandas as pd"
   ]
  },
  {
   "cell_type": "markdown",
   "id": "ba036198",
   "metadata": {
    "papermill": {
     "duration": 0.023905,
     "end_time": "2022-01-03T10:08:27.930101",
     "exception": false,
     "start_time": "2022-01-03T10:08:27.906196",
     "status": "completed"
    },
    "tags": []
   },
   "source": [
    "From the command line run `pip install mnist`. This is a library that will help you bring down the mnist dataset. If you run this from a notebook, you need to put  `!pip install mnist` in a cell by itself."
   ]
  },
  {
   "cell_type": "code",
   "execution_count": 3,
   "id": "bb6ad8a1",
   "metadata": {
    "execution": {
     "iopub.execute_input": "2022-01-03T10:08:27.981145Z",
     "iopub.status.busy": "2022-01-03T10:08:27.980634Z",
     "iopub.status.idle": "2022-01-03T10:08:29.652794Z",
     "shell.execute_reply": "2022-01-03T10:08:29.653285Z"
    },
    "papermill": {
     "duration": 1.699579,
     "end_time": "2022-01-03T10:08:29.653455",
     "exception": false,
     "start_time": "2022-01-03T10:08:27.953876",
     "status": "completed"
    },
    "tags": []
   },
   "outputs": [
    {
     "name": "stdout",
     "output_type": "stream",
     "text": [
      "Collecting mnist\r\n"
     ]
    },
    {
     "name": "stdout",
     "output_type": "stream",
     "text": [
      "  Downloading mnist-0.2.2-py2.py3-none-any.whl (3.5 kB)\r\n",
      "Requirement already satisfied: numpy in /opt/hostedtoolcache/Python/3.6.15/x64/lib/python3.6/site-packages (from mnist) (1.19.5)\r\n"
     ]
    },
    {
     "name": "stdout",
     "output_type": "stream",
     "text": [
      "Installing collected packages: mnist\r\n",
      "Successfully installed mnist-0.2.2\r\n"
     ]
    }
   ],
   "source": [
    "!pip install mnist"
   ]
  },
  {
   "cell_type": "markdown",
   "id": "69df9c9a",
   "metadata": {
    "papermill": {
     "duration": 0.024739,
     "end_time": "2022-01-03T10:08:29.703964",
     "exception": false,
     "start_time": "2022-01-03T10:08:29.679225",
     "status": "completed"
    },
    "tags": []
   },
   "source": [
    "## Preparing the Data"
   ]
  },
  {
   "cell_type": "code",
   "execution_count": 4,
   "id": "7f69d806",
   "metadata": {
    "execution": {
     "iopub.execute_input": "2022-01-03T10:08:29.769177Z",
     "iopub.status.busy": "2022-01-03T10:08:29.764687Z",
     "iopub.status.idle": "2022-01-03T10:08:29.772445Z",
     "shell.execute_reply": "2022-01-03T10:08:29.772001Z"
    },
    "papermill": {
     "duration": 0.044106,
     "end_time": "2022-01-03T10:08:29.772560",
     "exception": false,
     "start_time": "2022-01-03T10:08:29.728454",
     "status": "completed"
    },
    "tags": []
   },
   "outputs": [],
   "source": [
    "import mnist"
   ]
  },
  {
   "cell_type": "code",
   "execution_count": 5,
   "id": "a411e44f",
   "metadata": {
    "execution": {
     "iopub.execute_input": "2022-01-03T10:08:29.825213Z",
     "iopub.status.busy": "2022-01-03T10:08:29.824694Z",
     "iopub.status.idle": "2022-01-03T10:08:30.315770Z",
     "shell.execute_reply": "2022-01-03T10:08:30.315227Z"
    },
    "papermill": {
     "duration": 0.518802,
     "end_time": "2022-01-03T10:08:30.315941",
     "exception": false,
     "start_time": "2022-01-03T10:08:29.797139",
     "status": "completed"
    },
    "tags": []
   },
   "outputs": [],
   "source": [
    "train_images = mnist.train_images()\n",
    "train_labels = mnist.train_labels()"
   ]
  },
  {
   "cell_type": "code",
   "execution_count": 6,
   "id": "dceab3a5",
   "metadata": {
    "execution": {
     "iopub.execute_input": "2022-01-03T10:08:30.373087Z",
     "iopub.status.busy": "2022-01-03T10:08:30.372575Z",
     "iopub.status.idle": "2022-01-03T10:08:30.384258Z",
     "shell.execute_reply": "2022-01-03T10:08:30.384693Z"
    },
    "papermill": {
     "duration": 0.04331,
     "end_time": "2022-01-03T10:08:30.384816",
     "exception": false,
     "start_time": "2022-01-03T10:08:30.341506",
     "status": "completed"
    },
    "tags": []
   },
   "outputs": [
    {
     "data": {
      "text/plain": [
       "((60000, 28, 28), (60000,))"
      ]
     },
     "execution_count": 6,
     "metadata": {},
     "output_type": "execute_result"
    }
   ],
   "source": [
    "train_images.shape, train_labels.shape"
   ]
  },
  {
   "cell_type": "code",
   "execution_count": 7,
   "id": "f50dc2bb",
   "metadata": {
    "execution": {
     "iopub.execute_input": "2022-01-03T10:08:30.437575Z",
     "iopub.status.busy": "2022-01-03T10:08:30.437064Z",
     "iopub.status.idle": "2022-01-03T10:08:30.581046Z",
     "shell.execute_reply": "2022-01-03T10:08:30.580490Z"
    },
    "papermill": {
     "duration": 0.17164,
     "end_time": "2022-01-03T10:08:30.581180",
     "exception": false,
     "start_time": "2022-01-03T10:08:30.409540",
     "status": "completed"
    },
    "tags": []
   },
   "outputs": [],
   "source": [
    "test_images = mnist.test_images()\n",
    "test_labels = mnist.test_labels()"
   ]
  },
  {
   "cell_type": "code",
   "execution_count": 8,
   "id": "fc38cf1b",
   "metadata": {
    "execution": {
     "iopub.execute_input": "2022-01-03T10:08:30.634843Z",
     "iopub.status.busy": "2022-01-03T10:08:30.634328Z",
     "iopub.status.idle": "2022-01-03T10:08:30.647297Z",
     "shell.execute_reply": "2022-01-03T10:08:30.646858Z"
    },
    "papermill": {
     "duration": 0.040758,
     "end_time": "2022-01-03T10:08:30.647408",
     "exception": false,
     "start_time": "2022-01-03T10:08:30.606650",
     "status": "completed"
    },
    "tags": []
   },
   "outputs": [
    {
     "data": {
      "text/plain": [
       "((10000, 28, 28), (10000,))"
      ]
     },
     "execution_count": 8,
     "metadata": {},
     "output_type": "execute_result"
    }
   ],
   "source": [
    "test_images.shape, test_labels.shape"
   ]
  },
  {
   "cell_type": "code",
   "execution_count": 9,
   "id": "f9ed8fe0",
   "metadata": {
    "execution": {
     "iopub.execute_input": "2022-01-03T10:08:30.701208Z",
     "iopub.status.busy": "2022-01-03T10:08:30.700693Z",
     "iopub.status.idle": "2022-01-03T10:08:30.835244Z",
     "shell.execute_reply": "2022-01-03T10:08:30.835716Z"
    },
    "papermill": {
     "duration": 0.163533,
     "end_time": "2022-01-03T10:08:30.835897",
     "exception": false,
     "start_time": "2022-01-03T10:08:30.672364",
     "status": "completed"
    },
    "tags": []
   },
   "outputs": [
    {
     "name": "stdout",
     "output_type": "stream",
     "text": [
      "2\n"
     ]
    },
    {
     "data": {
      "text/plain": [
       "<matplotlib.image.AxesImage at 0x7f166f0e33c8>"
      ]
     },
     "execution_count": 9,
     "metadata": {},
     "output_type": "execute_result"
    },
    {
     "data": {
      "image/png": "[encoded data removed]",
      "text/plain": [
       "<Figure size 432x288 with 1 Axes>"
      ]
     },
     "metadata": {
      "needs_background": "light"
     },
     "output_type": "display_data"
    }
   ],
   "source": [
    "image_index = 7776 # You may select anything up to 60,000\n",
    "print(train_labels[image_index]) \n",
    "plt.imshow(train_images[image_index], cmap='Greys')"
   ]
  },
  {
   "cell_type": "markdown",
   "id": "a8d2388d",
   "metadata": {
    "papermill": {
     "duration": 0.026446,
     "end_time": "2022-01-03T10:08:30.888673",
     "exception": false,
     "start_time": "2022-01-03T10:08:30.862227",
     "status": "completed"
    },
    "tags": []
   },
   "source": [
    "## Filter data to get 3 and 8 out"
   ]
  },
  {
   "cell_type": "code",
   "execution_count": 10,
   "id": "776f7fc7",
   "metadata": {
    "execution": {
     "iopub.execute_input": "2022-01-03T10:08:30.945094Z",
     "iopub.status.busy": "2022-01-03T10:08:30.944562Z",
     "iopub.status.idle": "2022-01-03T10:08:30.963008Z",
     "shell.execute_reply": "2022-01-03T10:08:30.962537Z"
    },
    "papermill": {
     "duration": 0.048482,
     "end_time": "2022-01-03T10:08:30.963130",
     "exception": false,
     "start_time": "2022-01-03T10:08:30.914648",
     "status": "completed"
    },
    "tags": []
   },
   "outputs": [],
   "source": [
    "train_filter = np.where((train_labels == 3 ) | (train_labels == 8))\n",
    "test_filter = np.where((test_labels == 3) | (test_labels == 8))\n",
    "X_train, y_train = train_images[train_filter], train_labels[train_filter]\n",
    "X_test, y_test = test_images[test_filter], test_labels[test_filter]"
   ]
  },
  {
   "cell_type": "markdown",
   "id": "948f0b7e",
   "metadata": {
    "papermill": {
     "duration": 0.025764,
     "end_time": "2022-01-03T10:08:31.015812",
     "exception": false,
     "start_time": "2022-01-03T10:08:30.990048",
     "status": "completed"
    },
    "tags": []
   },
   "source": [
    "We normalize the pizel values in the 0 to 1 range"
   ]
  },
  {
   "cell_type": "code",
   "execution_count": 11,
   "id": "ee4c2166",
   "metadata": {
    "execution": {
     "iopub.execute_input": "2022-01-03T10:08:31.071007Z",
     "iopub.status.busy": "2022-01-03T10:08:31.070490Z",
     "iopub.status.idle": "2022-01-03T10:08:31.118775Z",
     "shell.execute_reply": "2022-01-03T10:08:31.118256Z"
    },
    "papermill": {
     "duration": 0.077229,
     "end_time": "2022-01-03T10:08:31.118918",
     "exception": false,
     "start_time": "2022-01-03T10:08:31.041689",
     "status": "completed"
    },
    "tags": []
   },
   "outputs": [],
   "source": [
    "X_train = X_train/255.\n",
    "X_test = X_test/255."
   ]
  },
  {
   "cell_type": "markdown",
   "id": "ddcf4fab",
   "metadata": {
    "papermill": {
     "duration": 0.026105,
     "end_time": "2022-01-03T10:08:31.171769",
     "exception": false,
     "start_time": "2022-01-03T10:08:31.145664",
     "status": "completed"
    },
    "tags": []
   },
   "source": [
    "And setup the labels as 1 (when the digit is 3) and 0 (when the digit is 8)"
   ]
  },
  {
   "cell_type": "code",
   "execution_count": 12,
   "id": "7dc908f2",
   "metadata": {
    "execution": {
     "iopub.execute_input": "2022-01-03T10:08:31.227162Z",
     "iopub.status.busy": "2022-01-03T10:08:31.226639Z",
     "iopub.status.idle": "2022-01-03T10:08:31.240949Z",
     "shell.execute_reply": "2022-01-03T10:08:31.239979Z"
    },
    "papermill": {
     "duration": 0.043366,
     "end_time": "2022-01-03T10:08:31.241060",
     "exception": false,
     "start_time": "2022-01-03T10:08:31.197694",
     "status": "completed"
    },
    "tags": []
   },
   "outputs": [],
   "source": [
    "y_train = 1*(y_train==3)\n",
    "y_test = 1*(y_test==3)"
   ]
  },
  {
   "cell_type": "code",
   "execution_count": 13,
   "id": "01e4e969",
   "metadata": {
    "execution": {
     "iopub.execute_input": "2022-01-03T10:08:31.308667Z",
     "iopub.status.busy": "2022-01-03T10:08:31.296524Z",
     "iopub.status.idle": "2022-01-03T10:08:31.311600Z",
     "shell.execute_reply": "2022-01-03T10:08:31.311170Z"
    },
    "papermill": {
     "duration": 0.044715,
     "end_time": "2022-01-03T10:08:31.311705",
     "exception": false,
     "start_time": "2022-01-03T10:08:31.266990",
     "status": "completed"
    },
    "tags": []
   },
   "outputs": [
    {
     "data": {
      "text/plain": [
       "((11982, 28, 28), (1984, 28, 28))"
      ]
     },
     "execution_count": 13,
     "metadata": {},
     "output_type": "execute_result"
    }
   ],
   "source": [
    "X_train.shape, X_test.shape"
   ]
  },
  {
   "cell_type": "markdown",
   "id": "5ccf3f85",
   "metadata": {
    "papermill": {
     "duration": 0.026056,
     "end_time": "2022-01-03T10:08:31.363698",
     "exception": false,
     "start_time": "2022-01-03T10:08:31.337642",
     "status": "completed"
    },
    "tags": []
   },
   "source": [
    "We reshape the data to flatten the image pixels into a set of features or co-variates:"
   ]
  },
  {
   "cell_type": "code",
   "execution_count": 14,
   "id": "5286a4a3",
   "metadata": {
    "execution": {
     "iopub.execute_input": "2022-01-03T10:08:31.428571Z",
     "iopub.status.busy": "2022-01-03T10:08:31.428056Z",
     "iopub.status.idle": "2022-01-03T10:08:31.435704Z",
     "shell.execute_reply": "2022-01-03T10:08:31.435295Z"
    },
    "papermill": {
     "duration": 0.045983,
     "end_time": "2022-01-03T10:08:31.435812",
     "exception": false,
     "start_time": "2022-01-03T10:08:31.389829",
     "status": "completed"
    },
    "tags": []
   },
   "outputs": [
    {
     "data": {
      "text/plain": [
       "((11982, 784), (1984, 784))"
      ]
     },
     "execution_count": 14,
     "metadata": {},
     "output_type": "execute_result"
    }
   ],
   "source": [
    "X_train = X_train.reshape(X_train.shape[0], -1)\n",
    "X_test = X_test.reshape(X_test.shape[0], -1)\n",
    "X_train.shape, X_test.shape"
   ]
  },
  {
   "cell_type": "code",
   "execution_count": 15,
   "id": "73c5f88a",
   "metadata": {
    "execution": {
     "iopub.execute_input": "2022-01-03T10:08:31.505056Z",
     "iopub.status.busy": "2022-01-03T10:08:31.504542Z",
     "iopub.status.idle": "2022-01-03T10:08:31.516451Z",
     "shell.execute_reply": "2022-01-03T10:08:31.516032Z"
    },
    "papermill": {
     "duration": 0.05442,
     "end_time": "2022-01-03T10:08:31.516558",
     "exception": false,
     "start_time": "2022-01-03T10:08:31.462138",
     "status": "completed"
    },
    "tags": []
   },
   "outputs": [],
   "source": [
    "#Impoting functions from 'Kudzu'\n",
    "from kudzu.model import Model\n",
    "from kudzu.train import Learner\n",
    "from kudzu.optim import GD\n",
    "from kudzu.data import Data, Sampler,Dataloader\n",
    "\n",
    "from kudzu.callbacks import AccCallback\n",
    "from kudzu.callbacks import ClfCallback\n",
    "\n",
    "from kudzu.loss import MSE\n",
    "\n",
    "from kudzu.layer import Sigmoid,Relu\n",
    "from kudzu.layer import Affine"
   ]
  },
  {
   "cell_type": "markdown",
   "id": "bc01172a",
   "metadata": {
    "papermill": {
     "duration": 0.026251,
     "end_time": "2022-01-03T10:08:31.569449",
     "exception": false,
     "start_time": "2022-01-03T10:08:31.543198",
     "status": "completed"
    },
    "tags": []
   },
   "source": [
    "### Let us create a `Config` class, to store important parameters. \n",
    "This class essentially plays the role of a dictionary."
   ]
  },
  {
   "cell_type": "code",
   "execution_count": 16,
   "id": "978281aa",
   "metadata": {
    "execution": {
     "iopub.execute_input": "2022-01-03T10:08:31.629060Z",
     "iopub.status.busy": "2022-01-03T10:08:31.628544Z",
     "iopub.status.idle": "2022-01-03T10:08:31.638213Z",
     "shell.execute_reply": "2022-01-03T10:08:31.637805Z"
    },
    "papermill": {
     "duration": 0.042586,
     "end_time": "2022-01-03T10:08:31.638318",
     "exception": false,
     "start_time": "2022-01-03T10:08:31.595732",
     "status": "completed"
    },
    "tags": []
   },
   "outputs": [],
   "source": [
    "class Config:\n",
    "    pass\n",
    "config = Config()\n",
    "config.lr = 0.001\n",
    "config.num_epochs = 250\n",
    "config.bs = 50"
   ]
  },
  {
   "cell_type": "markdown",
   "id": "1385fa59",
   "metadata": {
    "papermill": {
     "duration": 0.02623,
     "end_time": "2022-01-03T10:08:31.691058",
     "exception": false,
     "start_time": "2022-01-03T10:08:31.664828",
     "status": "completed"
    },
    "tags": []
   },
   "source": [
    "### Running Models with the Training data\n",
    "Details about the network layers:\n",
    "- A first affine layer has 784 inputs and does 100 affine transforms. These are followed by a Relu\n",
    "- A second affine layer has 100 inputs from the 100 activations of the past layer, and does 100 affine transforms. These are followed by a Relu\n",
    "- A third affine layer has 100 activations and does 2 affine transformations to create an embedding for visualization. There is no non-linearity here.\n",
    "- A final \"logistic regression\" which has an affine transform from 2 inputs to 1 output, which is squeezed through a sigmoid.\n"
   ]
  },
  {
   "cell_type": "code",
   "execution_count": 17,
   "id": "2b9c66db",
   "metadata": {
    "execution": {
     "iopub.execute_input": "2022-01-03T10:08:31.753013Z",
     "iopub.status.busy": "2022-01-03T10:08:31.752502Z",
     "iopub.status.idle": "2022-01-03T10:08:31.761427Z",
     "shell.execute_reply": "2022-01-03T10:08:31.761019Z"
    },
    "papermill": {
     "duration": 0.044042,
     "end_time": "2022-01-03T10:08:31.761528",
     "exception": false,
     "start_time": "2022-01-03T10:08:31.717486",
     "status": "completed"
    },
    "tags": []
   },
   "outputs": [],
   "source": [
    "data = Data(X_train, y_train.reshape(-1,1))\n",
    "sampler = Sampler(data, config.bs, shuffle=True)\n",
    "\n",
    "dl = Dataloader(data, sampler)\n",
    "\n",
    "opt = GD(config.lr)\n",
    "loss = MSE()"
   ]
  },
  {
   "cell_type": "code",
   "execution_count": 18,
   "id": "b275e4c2",
   "metadata": {
    "execution": {
     "iopub.execute_input": "2022-01-03T10:08:31.828955Z",
     "iopub.status.busy": "2022-01-03T10:08:31.823989Z",
     "iopub.status.idle": "2022-01-03T10:08:31.832142Z",
     "shell.execute_reply": "2022-01-03T10:08:31.831706Z"
    },
    "papermill": {
     "duration": 0.044237,
     "end_time": "2022-01-03T10:08:31.832247",
     "exception": false,
     "start_time": "2022-01-03T10:08:31.788010",
     "status": "completed"
    },
    "tags": []
   },
   "outputs": [],
   "source": [
    "training_data_x = X_train\n",
    "testing_data_x = X_test\n",
    "training_data_y = y_train.reshape(-1,1)\n",
    "testing_data_y = y_test.reshape(-1,1)"
   ]
  },
  {
   "cell_type": "code",
   "execution_count": 19,
   "id": "76951160",
   "metadata": {
    "execution": {
     "iopub.execute_input": "2022-01-03T10:08:31.894100Z",
     "iopub.status.busy": "2022-01-03T10:08:31.893053Z",
     "iopub.status.idle": "2022-01-03T10:08:31.903673Z",
     "shell.execute_reply": "2022-01-03T10:08:31.903261Z"
    },
    "papermill": {
     "duration": 0.04511,
     "end_time": "2022-01-03T10:08:31.903785",
     "exception": false,
     "start_time": "2022-01-03T10:08:31.858675",
     "status": "completed"
    },
    "tags": []
   },
   "outputs": [
    {
     "name": "stdout",
     "output_type": "stream",
     "text": [
      "xavier\n",
      "xavier\n",
      "xavier\n",
      "xavier\n",
      "xavier\n"
     ]
    }
   ],
   "source": [
    "layers = [Affine(\"first\", 784, 100), Relu(\"first\"), Affine(\"second\", 100, 100), Relu(\"second\"), Affine(\"third\", 100, 2), Affine(\"last\", 2, 1), Sigmoid(\"last\")]\n",
    "model_nn = Model(layers)\n",
    "model_lr = Model([Affine(\"logits\", 784, 1), Sigmoid(\"sigmoid\")])"
   ]
  },
  {
   "cell_type": "code",
   "execution_count": 20,
   "id": "6eede77a",
   "metadata": {
    "execution": {
     "iopub.execute_input": "2022-01-03T10:08:31.961144Z",
     "iopub.status.busy": "2022-01-03T10:08:31.960646Z",
     "iopub.status.idle": "2022-01-03T10:08:31.972535Z",
     "shell.execute_reply": "2022-01-03T10:08:31.972968Z"
    },
    "papermill": {
     "duration": 0.042399,
     "end_time": "2022-01-03T10:08:31.973083",
     "exception": false,
     "start_time": "2022-01-03T10:08:31.930684",
     "status": "completed"
    },
    "tags": []
   },
   "outputs": [],
   "source": [
    "nn_learner = Learner(loss, model_nn, opt, config.num_epochs)\n",
    "acc_nn = ClfCallback(nn_learner, config.bs, training_data_x , testing_data_x, training_data_y, testing_data_y)\n",
    "nn_learner.set_callbacks([acc_nn])"
   ]
  },
  {
   "cell_type": "code",
   "execution_count": 21,
   "id": "877b6cc7",
   "metadata": {
    "execution": {
     "iopub.execute_input": "2022-01-03T10:08:32.041879Z",
     "iopub.status.busy": "2022-01-03T10:08:32.041365Z",
     "iopub.status.idle": "2022-01-03T10:08:32.043713Z",
     "shell.execute_reply": "2022-01-03T10:08:32.043284Z"
    },
    "papermill": {
     "duration": 0.044182,
     "end_time": "2022-01-03T10:08:32.043814",
     "exception": false,
     "start_time": "2022-01-03T10:08:31.999632",
     "status": "completed"
    },
    "tags": []
   },
   "outputs": [],
   "source": [
    "lr_learner = Learner(loss, model_lr, opt, config.num_epochs)\n",
    "acc_lr = ClfCallback(lr_learner, config.bs, training_data_x , testing_data_x, training_data_y, testing_data_y)\n",
    "lr_learner.set_callbacks([acc_lr])"
   ]
  },
  {
   "cell_type": "code",
   "execution_count": 22,
   "id": "d9b133c3",
   "metadata": {
    "execution": {
     "iopub.execute_input": "2022-01-03T10:08:32.101950Z",
     "iopub.status.busy": "2022-01-03T10:08:32.101448Z",
     "iopub.status.idle": "2022-01-03T10:09:47.700129Z",
     "shell.execute_reply": "2022-01-03T10:09:47.700886Z"
    },
    "papermill": {
     "duration": 75.630399,
     "end_time": "2022-01-03T10:09:47.701043",
     "exception": false,
     "start_time": "2022-01-03T10:08:32.070644",
     "status": "completed"
    },
    "tags": []
   },
   "outputs": [
    {
     "name": "stdout",
     "output_type": "stream",
     "text": [
      "Epoch 0, Loss 0.2502\n",
      "Training Accuracy: 0.5184, Testing Accuracy: 0.4889\n",
      "\n"
     ]
    },
    {
     "name": "stdout",
     "output_type": "stream",
     "text": [
      "Epoch 10, Loss 0.231\n",
      "Training Accuracy: 0.7957, Testing Accuracy: 0.7949\n",
      "\n"
     ]
    },
    {
     "name": "stdout",
     "output_type": "stream",
     "text": [
      "Epoch 20, Loss 0.1597\n",
      "Training Accuracy: 0.8731, Testing Accuracy: 0.8881\n",
      "\n"
     ]
    },
    {
     "name": "stdout",
     "output_type": "stream",
     "text": [
      "Epoch 30, Loss 0.0842\n",
      "Training Accuracy: 0.9140, Testing Accuracy: 0.9284\n",
      "\n"
     ]
    },
    {
     "name": "stdout",
     "output_type": "stream",
     "text": [
      "Epoch 40, Loss 0.0583\n",
      "Training Accuracy: 0.9377, Testing Accuracy: 0.9501\n",
      "\n"
     ]
    },
    {
     "name": "stdout",
     "output_type": "stream",
     "text": [
      "Epoch 50, Loss 0.0469\n",
      "Training Accuracy: 0.9484, Testing Accuracy: 0.9561\n",
      "\n"
     ]
    },
    {
     "name": "stdout",
     "output_type": "stream",
     "text": [
      "Epoch 60, Loss 0.0406\n",
      "Training Accuracy: 0.9540, Testing Accuracy: 0.9622\n",
      "\n"
     ]
    },
    {
     "name": "stdout",
     "output_type": "stream",
     "text": [
      "Epoch 70, Loss 0.0366\n",
      "Training Accuracy: 0.9576, Testing Accuracy: 0.9652\n",
      "\n"
     ]
    },
    {
     "name": "stdout",
     "output_type": "stream",
     "text": [
      "Epoch 80, Loss 0.0339\n",
      "Training Accuracy: 0.9607, Testing Accuracy: 0.9672\n",
      "\n"
     ]
    },
    {
     "name": "stdout",
     "output_type": "stream",
     "text": [
      "Epoch 90, Loss 0.0318\n",
      "Training Accuracy: 0.9626, Testing Accuracy: 0.9672\n",
      "\n"
     ]
    },
    {
     "name": "stdout",
     "output_type": "stream",
     "text": [
      "Epoch 100, Loss 0.0302\n",
      "Training Accuracy: 0.9648, Testing Accuracy: 0.9682\n",
      "\n"
     ]
    },
    {
     "name": "stdout",
     "output_type": "stream",
     "text": [
      "Epoch 110, Loss 0.0289\n",
      "Training Accuracy: 0.9664, Testing Accuracy: 0.9688\n",
      "\n"
     ]
    },
    {
     "name": "stdout",
     "output_type": "stream",
     "text": [
      "Epoch 120, Loss 0.0277\n",
      "Training Accuracy: 0.9676, Testing Accuracy: 0.9698\n",
      "\n"
     ]
    },
    {
     "name": "stdout",
     "output_type": "stream",
     "text": [
      "Epoch 130, Loss 0.0268\n",
      "Training Accuracy: 0.9687, Testing Accuracy: 0.9703\n",
      "\n"
     ]
    },
    {
     "name": "stdout",
     "output_type": "stream",
     "text": [
      "Epoch 140, Loss 0.0259\n",
      "Training Accuracy: 0.9693, Testing Accuracy: 0.9703\n",
      "\n"
     ]
    },
    {
     "name": "stdout",
     "output_type": "stream",
     "text": [
      "Epoch 150, Loss 0.0251\n",
      "Training Accuracy: 0.9698, Testing Accuracy: 0.9713\n",
      "\n"
     ]
    },
    {
     "name": "stdout",
     "output_type": "stream",
     "text": [
      "Epoch 160, Loss 0.0244\n",
      "Training Accuracy: 0.9705, Testing Accuracy: 0.9723\n",
      "\n"
     ]
    },
    {
     "name": "stdout",
     "output_type": "stream",
     "text": [
      "Epoch 170, Loss 0.0238\n",
      "Training Accuracy: 0.9714, Testing Accuracy: 0.9733\n",
      "\n"
     ]
    },
    {
     "name": "stdout",
     "output_type": "stream",
     "text": [
      "Epoch 180, Loss 0.0232\n",
      "Training Accuracy: 0.9718, Testing Accuracy: 0.9728\n",
      "\n"
     ]
    },
    {
     "name": "stdout",
     "output_type": "stream",
     "text": [
      "Epoch 190, Loss 0.0226\n",
      "Training Accuracy: 0.9729, Testing Accuracy: 0.9728\n",
      "\n"
     ]
    },
    {
     "name": "stdout",
     "output_type": "stream",
     "text": [
      "Epoch 200, Loss 0.0221\n",
      "Training Accuracy: 0.9745, Testing Accuracy: 0.9728\n",
      "\n"
     ]
    },
    {
     "name": "stdout",
     "output_type": "stream",
     "text": [
      "Epoch 210, Loss 0.0216\n",
      "Training Accuracy: 0.9752, Testing Accuracy: 0.9738\n",
      "\n"
     ]
    },
    {
     "name": "stdout",
     "output_type": "stream",
     "text": [
      "Epoch 220, Loss 0.0211\n",
      "Training Accuracy: 0.9764, Testing Accuracy: 0.9733\n",
      "\n"
     ]
    },
    {
     "name": "stdout",
     "output_type": "stream",
     "text": [
      "Epoch 230, Loss 0.0207\n",
      "Training Accuracy: 0.9769, Testing Accuracy: 0.9733\n",
      "\n"
     ]
    },
    {
     "name": "stdout",
     "output_type": "stream",
     "text": [
      "Epoch 240, Loss 0.0203\n",
      "Training Accuracy: 0.9775, Testing Accuracy: 0.9733\n",
      "\n"
     ]
    },
    {
     "data": {
      "text/plain": [
       "0.012176306145326691"
      ]
     },
     "execution_count": 22,
     "metadata": {},
     "output_type": "execute_result"
    }
   ],
   "source": [
    "nn_learner.train_loop(dl)"
   ]
  },
  {
   "cell_type": "code",
   "execution_count": 23,
   "id": "e0163366",
   "metadata": {
    "execution": {
     "iopub.execute_input": "2022-01-03T10:09:47.784114Z",
     "iopub.status.busy": "2022-01-03T10:09:47.783543Z",
     "iopub.status.idle": "2022-01-03T10:10:01.417216Z",
     "shell.execute_reply": "2022-01-03T10:10:01.417969Z"
    },
    "papermill": {
     "duration": 13.682148,
     "end_time": "2022-01-03T10:10:01.418127",
     "exception": false,
     "start_time": "2022-01-03T10:09:47.735979",
     "status": "completed"
    },
    "tags": []
   },
   "outputs": [
    {
     "name": "stdout",
     "output_type": "stream",
     "text": [
      "Epoch 0, Loss 0.2501\n",
      "Training Accuracy: 0.6851, Testing Accuracy: 0.6941\n",
      "\n"
     ]
    },
    {
     "name": "stdout",
     "output_type": "stream",
     "text": [
      "Epoch 10, Loss 0.1026\n",
      "Training Accuracy: 0.9090, Testing Accuracy: 0.9229\n",
      "\n"
     ]
    },
    {
     "name": "stdout",
     "output_type": "stream",
     "text": [
      "Epoch 20, Loss 0.0794\n",
      "Training Accuracy: 0.9274, Testing Accuracy: 0.9355\n",
      "\n"
     ]
    },
    {
     "name": "stdout",
     "output_type": "stream",
     "text": [
      "Epoch 30, Loss 0.0686\n",
      "Training Accuracy: 0.9354, Testing Accuracy: 0.9446\n",
      "\n"
     ]
    },
    {
     "name": "stdout",
     "output_type": "stream",
     "text": [
      "Epoch 40, Loss 0.0621\n",
      "Training Accuracy: 0.9392, Testing Accuracy: 0.9501\n",
      "\n"
     ]
    },
    {
     "name": "stdout",
     "output_type": "stream",
     "text": [
      "Epoch 50, Loss 0.0576\n",
      "Training Accuracy: 0.9419, Testing Accuracy: 0.9541\n",
      "\n"
     ]
    },
    {
     "name": "stdout",
     "output_type": "stream",
     "text": [
      "Epoch 60, Loss 0.0543\n",
      "Training Accuracy: 0.9448, Testing Accuracy: 0.9567\n",
      "\n"
     ]
    },
    {
     "name": "stdout",
     "output_type": "stream",
     "text": [
      "Epoch 70, Loss 0.0517\n",
      "Training Accuracy: 0.9464, Testing Accuracy: 0.9577\n",
      "\n"
     ]
    },
    {
     "name": "stdout",
     "output_type": "stream",
     "text": [
      "Epoch 80, Loss 0.0497\n",
      "Training Accuracy: 0.9482, Testing Accuracy: 0.9587\n",
      "\n"
     ]
    },
    {
     "name": "stdout",
     "output_type": "stream",
     "text": [
      "Epoch 90, Loss 0.048\n",
      "Training Accuracy: 0.9493, Testing Accuracy: 0.9602\n",
      "\n"
     ]
    },
    {
     "name": "stdout",
     "output_type": "stream",
     "text": [
      "Epoch 100, Loss 0.0465\n",
      "Training Accuracy: 0.9510, Testing Accuracy: 0.9612\n",
      "\n"
     ]
    },
    {
     "name": "stdout",
     "output_type": "stream",
     "text": [
      "Epoch 110, Loss 0.0453\n",
      "Training Accuracy: 0.9514, Testing Accuracy: 0.9622\n",
      "\n"
     ]
    },
    {
     "name": "stdout",
     "output_type": "stream",
     "text": [
      "Epoch 120, Loss 0.0443\n",
      "Training Accuracy: 0.9528, Testing Accuracy: 0.9627\n",
      "\n"
     ]
    },
    {
     "name": "stdout",
     "output_type": "stream",
     "text": [
      "Epoch 130, Loss 0.0433\n",
      "Training Accuracy: 0.9537, Testing Accuracy: 0.9627\n",
      "\n"
     ]
    },
    {
     "name": "stdout",
     "output_type": "stream",
     "text": [
      "Epoch 140, Loss 0.0425\n",
      "Training Accuracy: 0.9545, Testing Accuracy: 0.9637\n",
      "\n"
     ]
    },
    {
     "name": "stdout",
     "output_type": "stream",
     "text": [
      "Epoch 150, Loss 0.0417\n",
      "Training Accuracy: 0.9553, Testing Accuracy: 0.9637\n",
      "\n"
     ]
    },
    {
     "name": "stdout",
     "output_type": "stream",
     "text": [
      "Epoch 160, Loss 0.041\n",
      "Training Accuracy: 0.9560, Testing Accuracy: 0.9637\n",
      "\n"
     ]
    },
    {
     "name": "stdout",
     "output_type": "stream",
     "text": [
      "Epoch 170, Loss 0.0404\n",
      "Training Accuracy: 0.9565, Testing Accuracy: 0.9637\n",
      "\n"
     ]
    },
    {
     "name": "stdout",
     "output_type": "stream",
     "text": [
      "Epoch 180, Loss 0.0398\n",
      "Training Accuracy: 0.9570, Testing Accuracy: 0.9642\n",
      "\n"
     ]
    },
    {
     "name": "stdout",
     "output_type": "stream",
     "text": [
      "Epoch 190, Loss 0.0393\n",
      "Training Accuracy: 0.9572, Testing Accuracy: 0.9642\n",
      "\n"
     ]
    },
    {
     "name": "stdout",
     "output_type": "stream",
     "text": [
      "Epoch 200, Loss 0.0388\n",
      "Training Accuracy: 0.9572, Testing Accuracy: 0.9632\n",
      "\n"
     ]
    },
    {
     "name": "stdout",
     "output_type": "stream",
     "text": [
      "Epoch 210, Loss 0.0384\n",
      "Training Accuracy: 0.9574, Testing Accuracy: 0.9637\n",
      "\n"
     ]
    },
    {
     "name": "stdout",
     "output_type": "stream",
     "text": [
      "Epoch 220, Loss 0.038\n",
      "Training Accuracy: 0.9579, Testing Accuracy: 0.9642\n",
      "\n"
     ]
    },
    {
     "name": "stdout",
     "output_type": "stream",
     "text": [
      "Epoch 230, Loss 0.0376\n",
      "Training Accuracy: 0.9580, Testing Accuracy: 0.9647\n",
      "\n"
     ]
    },
    {
     "name": "stdout",
     "output_type": "stream",
     "text": [
      "Epoch 240, Loss 0.0372\n",
      "Training Accuracy: 0.9585, Testing Accuracy: 0.9642\n",
      "\n"
     ]
    },
    {
     "data": {
      "text/plain": [
       "0.02218413796546488"
      ]
     },
     "execution_count": 23,
     "metadata": {},
     "output_type": "execute_result"
    }
   ],
   "source": [
    "lr_learner.train_loop(dl)"
   ]
  },
  {
   "cell_type": "code",
   "execution_count": 24,
   "id": "ca410940",
   "metadata": {
    "execution": {
     "iopub.execute_input": "2022-01-03T10:10:01.512965Z",
     "iopub.status.busy": "2022-01-03T10:10:01.512447Z",
     "iopub.status.idle": "2022-01-03T10:10:01.733584Z",
     "shell.execute_reply": "2022-01-03T10:10:01.733147Z"
    },
    "papermill": {
     "duration": 0.274169,
     "end_time": "2022-01-03T10:10:01.733706",
     "exception": false,
     "start_time": "2022-01-03T10:10:01.459537",
     "status": "completed"
    },
    "tags": []
   },
   "outputs": [
    {
     "data": {
      "text/plain": [
       "<matplotlib.legend.Legend at 0x7f166ec44b38>"
      ]
     },
     "execution_count": 24,
     "metadata": {},
     "output_type": "execute_result"
    },
    {
     "data": {
      "image/png": "[encoded data removed]",
      "text/plain": [
       "<Figure size 1080x720 with 1 Axes>"
      ]
     },
     "metadata": {
      "needs_background": "light"
     },
     "output_type": "display_data"
    }
   ],
   "source": [
    "#comparing the results of NN and LR\n",
    "plt.figure(figsize=(15,10))\n",
    "\n",
    "# Neural Network plots\n",
    "plt.plot(acc_nn.accuracies, 'r-', label = \"Training Accuracies - NN\")\n",
    "plt.plot(acc_nn.test_accuracies, 'g-', label = \"Testing Accuracies - NN\")\n",
    "\n",
    "# Logistic Regression plots\n",
    "plt.plot(acc_lr.accuracies, 'k-', label = \"Training Accuracies - LR\")\n",
    "plt.plot(acc_lr.test_accuracies, 'b-', label = \"Testing Accuracies - LR\")\n",
    "plt.legend()"
   ]
  },
  {
   "cell_type": "markdown",
   "id": "80dfb35c",
   "metadata": {
    "papermill": {
     "duration": 0.041393,
     "end_time": "2022-01-03T10:10:01.817731",
     "exception": false,
     "start_time": "2022-01-03T10:10:01.776338",
     "status": "completed"
    },
    "tags": []
   },
   "source": [
    "#### Plotting the outputs of this layer of the NN.\n"
   ]
  },
  {
   "cell_type": "code",
   "execution_count": 25,
   "id": "45eb2ff5",
   "metadata": {
    "execution": {
     "iopub.execute_input": "2022-01-03T10:10:01.909473Z",
     "iopub.status.busy": "2022-01-03T10:10:01.908923Z",
     "iopub.status.idle": "2022-01-03T10:10:01.925780Z",
     "shell.execute_reply": "2022-01-03T10:10:01.926220Z"
    },
    "papermill": {
     "duration": 0.067083,
     "end_time": "2022-01-03T10:10:01.926355",
     "exception": false,
     "start_time": "2022-01-03T10:10:01.859272",
     "status": "completed"
    },
    "tags": []
   },
   "outputs": [],
   "source": [
    "new_model = Model(layers[:-2])\n",
    "testing_plot = new_model(testing_data_x)"
   ]
  },
  {
   "cell_type": "code",
   "execution_count": 26,
   "id": "4c0a5485",
   "metadata": {
    "execution": {
     "iopub.execute_input": "2022-01-03T10:10:02.014504Z",
     "iopub.status.busy": "2022-01-03T10:10:02.013990Z",
     "iopub.status.idle": "2022-01-03T10:10:02.212882Z",
     "shell.execute_reply": "2022-01-03T10:10:02.213285Z"
    },
    "papermill": {
     "duration": 0.245329,
     "end_time": "2022-01-03T10:10:02.213440",
     "exception": false,
     "start_time": "2022-01-03T10:10:01.968111",
     "status": "completed"
    },
    "tags": []
   },
   "outputs": [
    {
     "data": {
      "text/plain": [
       "Text(0.5, 1.0, 'Outputs')"
      ]
     },
     "execution_count": 26,
     "metadata": {},
     "output_type": "execute_result"
    },
    {
     "data": {
      "image/png": "[encoded data removed]",
      "text/plain": [
       "<Figure size 576x504 with 1 Axes>"
      ]
     },
     "metadata": {
      "needs_background": "light"
     },
     "output_type": "display_data"
    }
   ],
   "source": [
    "# Plotting the scatter plot of points and color coding by class\n",
    "plt.figure(figsize=(8,7))\n",
    "plt.scatter(testing_plot[:,0], testing_plot[:,1], alpha = 0.1, c = y_test.ravel());\n",
    "plt.title('Outputs')"
   ]
  },
  {
   "cell_type": "markdown",
   "id": "a74fcf8f",
   "metadata": {
    "papermill": {
     "duration": 0.043721,
     "end_time": "2022-01-03T10:10:02.301166",
     "exception": false,
     "start_time": "2022-01-03T10:10:02.257445",
     "status": "completed"
    },
    "tags": []
   },
   "source": [
    "Probability contours"
   ]
  },
  {
   "cell_type": "code",
   "execution_count": 27,
   "id": "d0afc8e3",
   "metadata": {
    "execution": {
     "iopub.execute_input": "2022-01-03T10:10:02.392792Z",
     "iopub.status.busy": "2022-01-03T10:10:02.391178Z",
     "iopub.status.idle": "2022-01-03T10:10:02.403177Z",
     "shell.execute_reply": "2022-01-03T10:10:02.402761Z"
    },
    "papermill": {
     "duration": 0.058545,
     "end_time": "2022-01-03T10:10:02.403288",
     "exception": false,
     "start_time": "2022-01-03T10:10:02.344743",
     "status": "completed"
    },
    "tags": []
   },
   "outputs": [],
   "source": [
    "model_prob = Model(layers[-2:]) "
   ]
  },
  {
   "cell_type": "code",
   "execution_count": 28,
   "id": "9b96e238",
   "metadata": {
    "execution": {
     "iopub.execute_input": "2022-01-03T10:10:02.502073Z",
     "iopub.status.busy": "2022-01-03T10:10:02.501565Z",
     "iopub.status.idle": "2022-01-03T10:10:02.510001Z",
     "shell.execute_reply": "2022-01-03T10:10:02.510397Z"
    },
    "papermill": {
     "duration": 0.063507,
     "end_time": "2022-01-03T10:10:02.510523",
     "exception": false,
     "start_time": "2022-01-03T10:10:02.447016",
     "status": "completed"
    },
    "tags": []
   },
   "outputs": [],
   "source": [
    "#creating the x and y ranges according to the above generated plot.\n",
    "x_range = np.linspace(-4, 1, 100) \n",
    "y_range = np.linspace(-6, 6, 100) \n",
    "x_grid, y_grid = np.meshgrid(x_range, y_range) # x_grid and y_grig are of size 100 X 100\n",
    "\n",
    "# converting x_grid and y_grid to continuous arrays\n",
    "x_gridflat = np.ravel(x_grid)\n",
    "y_gridflat = np.ravel(y_grid)\n",
    "\n",
    "# The last layer of the current model takes two columns as input. Hence transpose of np.vstack() is required.\n",
    "X = np.vstack((x_gridflat, y_gridflat)).T\n",
    "\n",
    "prob_contour = model_prob(X).reshape(100,100) "
   ]
  },
  {
   "cell_type": "code",
   "execution_count": 29,
   "id": "da72499a",
   "metadata": {
    "execution": {
     "iopub.execute_input": "2022-01-03T10:10:02.611805Z",
     "iopub.status.busy": "2022-01-03T10:10:02.611304Z",
     "iopub.status.idle": "2022-01-03T10:10:02.849204Z",
     "shell.execute_reply": "2022-01-03T10:10:02.849605Z"
    },
    "papermill": {
     "duration": 0.294973,
     "end_time": "2022-01-03T10:10:02.849755",
     "exception": false,
     "start_time": "2022-01-03T10:10:02.554782",
     "status": "completed"
    },
    "tags": []
   },
   "outputs": [
    {
     "data": {
      "image/png": "[encoded data removed]",
      "text/plain": [
       "<Figure size 720x648 with 1 Axes>"
      ]
     },
     "metadata": {
      "needs_background": "light"
     },
     "output_type": "display_data"
    }
   ],
   "source": [
    "plt.figure(figsize=(10,9))\n",
    "plt.scatter(testing_plot[:,0], testing_plot[:,1], alpha = 0.1, c = y_test.ravel())\n",
    "contours = plt.contour(x_grid,y_grid,prob_contour)\n",
    "plt.title('Probability Contours')\n",
    "plt.clabel(contours, inline = True );"
   ]
  },
  {
   "cell_type": "code",
   "execution_count": null,
   "id": "e81b4ac7",
   "metadata": {
    "papermill": {
     "duration": 0.046482,
     "end_time": "2022-01-03T10:10:02.971644",
     "exception": false,
     "start_time": "2022-01-03T10:10:02.925162",
     "status": "completed"
    },
    "tags": []
   },
   "outputs": [],
   "source": []
  }
 ],
 "metadata": {
  "kernelspec": {
   "display_name": "Python 3",
   "language": "python",
   "name": "python3"
  },
  "language_info": {
   "codemirror_mode": {
    "name": "ipython",
    "version": 3
   },
   "file_extension": ".py",
   "mimetype": "text/x-python",
   "name": "python",
   "nbconvert_exporter": "python",
   "pygments_lexer": "ipython3",
   "version": "3.6.15"
  },
  "papermill": {
   "default_parameters": {},
   "duration": 97.236165,
   "end_time": "2022-01-03T10:10:03.426165",
   "environment_variables": {},
   "exception": null,
   "input_path": "2020-08-11-part2.ipynb",
   "output_path": "2020-08-11-part2.ipynb",
   "parameters": {},
   "start_time": "2022-01-03T10:08:26.190000",
   "version": "2.3.3"
  }
 },
 "nbformat": 4,
 "nbformat_minor": 5
}