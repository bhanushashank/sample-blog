{
 "cells": [
  {
   "cell_type": "markdown",
   "id": "98380cd3",
   "metadata": {
    "papermill": {
     "duration": 0.029923,
     "end_time": "2022-07-27T10:11:10.312982",
     "exception": false,
     "start_time": "2022-07-27T10:11:10.283059",
     "status": "completed"
    },
    "tags": []
   },
   "source": [
    "# Distinguish Your Own Digits (DYOD)"
   ]
  },
  {
   "cell_type": "markdown",
   "id": "ef31240d",
   "metadata": {
    "papermill": {
     "duration": 0.023947,
     "end_time": "2022-07-27T10:11:10.361768",
     "exception": false,
     "start_time": "2022-07-27T10:11:10.337821",
     "status": "completed"
    },
    "tags": []
   },
   "source": [
    "You are going to write a classifier that distinguishes between the number 3 and number 8."
   ]
  },
  {
   "cell_type": "code",
   "execution_count": 1,
   "id": "b15c8646",
   "metadata": {
    "execution": {
     "iopub.execute_input": "2022-07-27T10:11:10.420190Z",
     "iopub.status.busy": "2022-07-27T10:11:10.419510Z",
     "iopub.status.idle": "2022-07-27T10:11:10.431413Z",
     "shell.execute_reply": "2022-07-27T10:11:10.431894Z"
    },
    "papermill": {
     "duration": 0.046525,
     "end_time": "2022-07-27T10:11:10.432066",
     "exception": false,
     "start_time": "2022-07-27T10:11:10.385541",
     "status": "completed"
    },
    "tags": []
   },
   "outputs": [],
   "source": [
    "%load_ext autoreload\n",
    "%autoreload 2"
   ]
  },
  {
   "cell_type": "code",
   "execution_count": 2,
   "id": "22ef38dc",
   "metadata": {
    "execution": {
     "iopub.execute_input": "2022-07-27T10:11:10.495630Z",
     "iopub.status.busy": "2022-07-27T10:11:10.494971Z",
     "iopub.status.idle": "2022-07-27T10:11:11.051670Z",
     "shell.execute_reply": "2022-07-27T10:11:11.051136Z"
    },
    "papermill": {
     "duration": 0.595698,
     "end_time": "2022-07-27T10:11:11.051805",
     "exception": false,
     "start_time": "2022-07-27T10:11:10.456107",
     "status": "completed"
    },
    "tags": []
   },
   "outputs": [],
   "source": [
    "%matplotlib inline\n",
    "import numpy as np\n",
    "import matplotlib.pyplot as plt\n",
    "import pandas as pd"
   ]
  },
  {
   "cell_type": "markdown",
   "id": "ba036198",
   "metadata": {
    "papermill": {
     "duration": 0.023843,
     "end_time": "2022-07-27T10:11:11.099887",
     "exception": false,
     "start_time": "2022-07-27T10:11:11.076044",
     "status": "completed"
    },
    "tags": []
   },
   "source": [
    "From the command line run `pip install mnist`. This is a library that will help you bring down the mnist dataset. If you run this from a notebook, you need to put  `!pip install mnist` in a cell by itself."
   ]
  },
  {
   "cell_type": "code",
   "execution_count": 3,
   "id": "bb6ad8a1",
   "metadata": {
    "execution": {
     "iopub.execute_input": "2022-07-27T10:11:11.156643Z",
     "iopub.status.busy": "2022-07-27T10:11:11.156049Z",
     "iopub.status.idle": "2022-07-27T10:11:13.788412Z",
     "shell.execute_reply": "2022-07-27T10:11:13.787855Z"
    },
    "papermill": {
     "duration": 2.660459,
     "end_time": "2022-07-27T10:11:13.788539",
     "exception": false,
     "start_time": "2022-07-27T10:11:11.128080",
     "status": "completed"
    },
    "tags": []
   },
   "outputs": [
    {
     "name": "stdout",
     "output_type": "stream",
     "text": [
      "Collecting mnist\r\n"
     ]
    },
    {
     "name": "stdout",
     "output_type": "stream",
     "text": [
      "  Downloading mnist-0.2.2-py2.py3-none-any.whl (3.5 kB)\r\n"
     ]
    },
    {
     "name": "stdout",
     "output_type": "stream",
     "text": [
      "Requirement already satisfied: numpy in /opt/hostedtoolcache/Python/3.6.15/x64/lib/python3.6/site-packages (from mnist) (1.19.5)\r\n"
     ]
    },
    {
     "name": "stdout",
     "output_type": "stream",
     "text": [
      "Installing collected packages: mnist\r\n"
     ]
    },
    {
     "name": "stdout",
     "output_type": "stream",
     "text": [
      "Successfully installed mnist-0.2.2\r\n"
     ]
    }
   ],
   "source": [
    "!pip install mnist"
   ]
  },
  {
   "cell_type": "markdown",
   "id": "69df9c9a",
   "metadata": {
    "papermill": {
     "duration": 0.025721,
     "end_time": "2022-07-27T10:11:13.839660",
     "exception": false,
     "start_time": "2022-07-27T10:11:13.813939",
     "status": "completed"
    },
    "tags": []
   },
   "source": [
    "## Preparing the Data"
   ]
  },
  {
   "cell_type": "code",
   "execution_count": 4,
   "id": "7f69d806",
   "metadata": {
    "execution": {
     "iopub.execute_input": "2022-07-27T10:11:13.895464Z",
     "iopub.status.busy": "2022-07-27T10:11:13.894836Z",
     "iopub.status.idle": "2022-07-27T10:11:13.910258Z",
     "shell.execute_reply": "2022-07-27T10:11:13.909757Z"
    },
    "papermill": {
     "duration": 0.045451,
     "end_time": "2022-07-27T10:11:13.910378",
     "exception": false,
     "start_time": "2022-07-27T10:11:13.864927",
     "status": "completed"
    },
    "tags": []
   },
   "outputs": [],
   "source": [
    "import mnist"
   ]
  },
  {
   "cell_type": "code",
   "execution_count": 5,
   "id": "a411e44f",
   "metadata": {
    "execution": {
     "iopub.execute_input": "2022-07-27T10:11:13.965509Z",
     "iopub.status.busy": "2022-07-27T10:11:13.964920Z",
     "iopub.status.idle": "2022-07-27T10:11:14.594678Z",
     "shell.execute_reply": "2022-07-27T10:11:14.594048Z"
    },
    "papermill": {
     "duration": 0.659125,
     "end_time": "2022-07-27T10:11:14.594836",
     "exception": false,
     "start_time": "2022-07-27T10:11:13.935711",
     "status": "completed"
    },
    "tags": []
   },
   "outputs": [],
   "source": [
    "train_images = mnist.train_images()\n",
    "train_labels = mnist.train_labels()"
   ]
  },
  {
   "cell_type": "code",
   "execution_count": 6,
   "id": "dceab3a5",
   "metadata": {
    "execution": {
     "iopub.execute_input": "2022-07-27T10:11:14.670413Z",
     "iopub.status.busy": "2022-07-27T10:11:14.663582Z",
     "iopub.status.idle": "2022-07-27T10:11:14.673483Z",
     "shell.execute_reply": "2022-07-27T10:11:14.673916Z"
    },
    "papermill": {
     "duration": 0.048997,
     "end_time": "2022-07-27T10:11:14.674065",
     "exception": false,
     "start_time": "2022-07-27T10:11:14.625068",
     "status": "completed"
    },
    "tags": []
   },
   "outputs": [
    {
     "data": {
      "text/plain": [
       "((60000, 28, 28), (60000,))"
      ]
     },
     "execution_count": 6,
     "metadata": {},
     "output_type": "execute_result"
    }
   ],
   "source": [
    "train_images.shape, train_labels.shape"
   ]
  },
  {
   "cell_type": "code",
   "execution_count": 7,
   "id": "f50dc2bb",
   "metadata": {
    "execution": {
     "iopub.execute_input": "2022-07-27T10:11:14.736246Z",
     "iopub.status.busy": "2022-07-27T10:11:14.735617Z",
     "iopub.status.idle": "2022-07-27T10:11:14.922935Z",
     "shell.execute_reply": "2022-07-27T10:11:14.922302Z"
    },
    "papermill": {
     "duration": 0.223184,
     "end_time": "2022-07-27T10:11:14.923092",
     "exception": false,
     "start_time": "2022-07-27T10:11:14.699908",
     "status": "completed"
    },
    "tags": []
   },
   "outputs": [],
   "source": [
    "test_images = mnist.test_images()\n",
    "test_labels = mnist.test_labels()"
   ]
  },
  {
   "cell_type": "code",
   "execution_count": 8,
   "id": "fc38cf1b",
   "metadata": {
    "execution": {
     "iopub.execute_input": "2022-07-27T10:11:14.978534Z",
     "iopub.status.busy": "2022-07-27T10:11:14.977936Z",
     "iopub.status.idle": "2022-07-27T10:11:14.992810Z",
     "shell.execute_reply": "2022-07-27T10:11:14.992324Z"
    },
    "papermill": {
     "duration": 0.044063,
     "end_time": "2022-07-27T10:11:14.992929",
     "exception": false,
     "start_time": "2022-07-27T10:11:14.948866",
     "status": "completed"
    },
    "tags": []
   },
   "outputs": [
    {
     "data": {
      "text/plain": [
       "((10000, 28, 28), (10000,))"
      ]
     },
     "execution_count": 8,
     "metadata": {},
     "output_type": "execute_result"
    }
   ],
   "source": [
    "test_images.shape, test_labels.shape"
   ]
  },
  {
   "cell_type": "code",
   "execution_count": 9,
   "id": "f9ed8fe0",
   "metadata": {
    "execution": {
     "iopub.execute_input": "2022-07-27T10:11:15.052168Z",
     "iopub.status.busy": "2022-07-27T10:11:15.051549Z",
     "iopub.status.idle": "2022-07-27T10:11:15.191927Z",
     "shell.execute_reply": "2022-07-27T10:11:15.192402Z"
    },
    "papermill": {
     "duration": 0.17405,
     "end_time": "2022-07-27T10:11:15.192552",
     "exception": false,
     "start_time": "2022-07-27T10:11:15.018502",
     "status": "completed"
    },
    "tags": []
   },
   "outputs": [
    {
     "name": "stdout",
     "output_type": "stream",
     "text": [
      "2\n"
     ]
    },
    {
     "data": {
      "text/plain": [
       "<matplotlib.image.AxesImage at 0x7f1df473e470>"
      ]
     },
     "execution_count": 9,
     "metadata": {},
     "output_type": "execute_result"
    },
    {
     "data": {
      "image/png": "[encoded data removed]",
      "text/plain": [
       "<Figure size 432x288 with 1 Axes>"
      ]
     },
     "metadata": {
      "needs_background": "light"
     },
     "output_type": "display_data"
    }
   ],
   "source": [
    "image_index = 7776 # You may select anything up to 60,000\n",
    "print(train_labels[image_index]) \n",
    "plt.imshow(train_images[image_index], cmap='Greys')"
   ]
  },
  {
   "cell_type": "markdown",
   "id": "a8d2388d",
   "metadata": {
    "papermill": {
     "duration": 0.027103,
     "end_time": "2022-07-27T10:11:15.246857",
     "exception": false,
     "start_time": "2022-07-27T10:11:15.219754",
     "status": "completed"
    },
    "tags": []
   },
   "source": [
    "## Filter data to get 3 and 8 out"
   ]
  },
  {
   "cell_type": "code",
   "execution_count": 10,
   "id": "776f7fc7",
   "metadata": {
    "execution": {
     "iopub.execute_input": "2022-07-27T10:11:15.323614Z",
     "iopub.status.busy": "2022-07-27T10:11:15.319619Z",
     "iopub.status.idle": "2022-07-27T10:11:15.330180Z",
     "shell.execute_reply": "2022-07-27T10:11:15.329670Z"
    },
    "papermill": {
     "duration": 0.056575,
     "end_time": "2022-07-27T10:11:15.330306",
     "exception": false,
     "start_time": "2022-07-27T10:11:15.273731",
     "status": "completed"
    },
    "tags": []
   },
   "outputs": [],
   "source": [
    "train_filter = np.where((train_labels == 3 ) | (train_labels == 8))\n",
    "test_filter = np.where((test_labels == 3) | (test_labels == 8))\n",
    "X_train, y_train = train_images[train_filter], train_labels[train_filter]\n",
    "X_test, y_test = test_images[test_filter], test_labels[test_filter]"
   ]
  },
  {
   "cell_type": "markdown",
   "id": "948f0b7e",
   "metadata": {
    "papermill": {
     "duration": 0.026815,
     "end_time": "2022-07-27T10:11:15.384245",
     "exception": false,
     "start_time": "2022-07-27T10:11:15.357430",
     "status": "completed"
    },
    "tags": []
   },
   "source": [
    "We normalize the pizel values in the 0 to 1 range"
   ]
  },
  {
   "cell_type": "code",
   "execution_count": 11,
   "id": "ee4c2166",
   "metadata": {
    "execution": {
     "iopub.execute_input": "2022-07-27T10:11:15.442164Z",
     "iopub.status.busy": "2022-07-27T10:11:15.441548Z",
     "iopub.status.idle": "2022-07-27T10:11:15.491171Z",
     "shell.execute_reply": "2022-07-27T10:11:15.490584Z"
    },
    "papermill": {
     "duration": 0.080266,
     "end_time": "2022-07-27T10:11:15.491319",
     "exception": false,
     "start_time": "2022-07-27T10:11:15.411053",
     "status": "completed"
    },
    "tags": []
   },
   "outputs": [],
   "source": [
    "X_train = X_train/255.\n",
    "X_test = X_test/255."
   ]
  },
  {
   "cell_type": "markdown",
   "id": "ddcf4fab",
   "metadata": {
    "papermill": {
     "duration": 0.026961,
     "end_time": "2022-07-27T10:11:15.545513",
     "exception": false,
     "start_time": "2022-07-27T10:11:15.518552",
     "status": "completed"
    },
    "tags": []
   },
   "source": [
    "And setup the labels as 1 (when the digit is 3) and 0 (when the digit is 8)"
   ]
  },
  {
   "cell_type": "code",
   "execution_count": 12,
   "id": "7dc908f2",
   "metadata": {
    "execution": {
     "iopub.execute_input": "2022-07-27T10:11:15.603145Z",
     "iopub.status.busy": "2022-07-27T10:11:15.602298Z",
     "iopub.status.idle": "2022-07-27T10:11:15.615584Z",
     "shell.execute_reply": "2022-07-27T10:11:15.616069Z"
    },
    "papermill": {
     "duration": 0.043805,
     "end_time": "2022-07-27T10:11:15.616214",
     "exception": false,
     "start_time": "2022-07-27T10:11:15.572409",
     "status": "completed"
    },
    "tags": []
   },
   "outputs": [],
   "source": [
    "y_train = 1*(y_train==3)\n",
    "y_test = 1*(y_test==3)"
   ]
  },
  {
   "cell_type": "code",
   "execution_count": 13,
   "id": "01e4e969",
   "metadata": {
    "execution": {
     "iopub.execute_input": "2022-07-27T10:11:15.688021Z",
     "iopub.status.busy": "2022-07-27T10:11:15.680977Z",
     "iopub.status.idle": "2022-07-27T10:11:15.693181Z",
     "shell.execute_reply": "2022-07-27T10:11:15.693645Z"
    },
    "papermill": {
     "duration": 0.050531,
     "end_time": "2022-07-27T10:11:15.693797",
     "exception": false,
     "start_time": "2022-07-27T10:11:15.643266",
     "status": "completed"
    },
    "tags": []
   },
   "outputs": [
    {
     "data": {
      "text/plain": [
       "((11982, 28, 28), (1984, 28, 28))"
      ]
     },
     "execution_count": 13,
     "metadata": {},
     "output_type": "execute_result"
    }
   ],
   "source": [
    "X_train.shape, X_test.shape"
   ]
  },
  {
   "cell_type": "markdown",
   "id": "5ccf3f85",
   "metadata": {
    "papermill": {
     "duration": 0.0271,
     "end_time": "2022-07-27T10:11:15.748025",
     "exception": false,
     "start_time": "2022-07-27T10:11:15.720925",
     "status": "completed"
    },
    "tags": []
   },
   "source": [
    "We reshape the data to flatten the image pixels into a set of features or co-variates:"
   ]
  },
  {
   "cell_type": "code",
   "execution_count": 14,
   "id": "5286a4a3",
   "metadata": {
    "execution": {
     "iopub.execute_input": "2022-07-27T10:11:15.816390Z",
     "iopub.status.busy": "2022-07-27T10:11:15.815721Z",
     "iopub.status.idle": "2022-07-27T10:11:15.824050Z",
     "shell.execute_reply": "2022-07-27T10:11:15.824507Z"
    },
    "papermill": {
     "duration": 0.049215,
     "end_time": "2022-07-27T10:11:15.824654",
     "exception": false,
     "start_time": "2022-07-27T10:11:15.775439",
     "status": "completed"
    },
    "tags": []
   },
   "outputs": [
    {
     "data": {
      "text/plain": [
       "((11982, 784), (1984, 784))"
      ]
     },
     "execution_count": 14,
     "metadata": {},
     "output_type": "execute_result"
    }
   ],
   "source": [
    "X_train = X_train.reshape(X_train.shape[0], -1)\n",
    "X_test = X_test.reshape(X_test.shape[0], -1)\n",
    "X_train.shape, X_test.shape"
   ]
  },
  {
   "cell_type": "code",
   "execution_count": 15,
   "id": "73c5f88a",
   "metadata": {
    "execution": {
     "iopub.execute_input": "2022-07-27T10:11:15.892352Z",
     "iopub.status.busy": "2022-07-27T10:11:15.891730Z",
     "iopub.status.idle": "2022-07-27T10:11:15.908004Z",
     "shell.execute_reply": "2022-07-27T10:11:15.908447Z"
    },
    "papermill": {
     "duration": 0.056551,
     "end_time": "2022-07-27T10:11:15.908595",
     "exception": false,
     "start_time": "2022-07-27T10:11:15.852044",
     "status": "completed"
    },
    "tags": []
   },
   "outputs": [],
   "source": [
    "#Impoting functions from 'Kudzu'\n",
    "from kudzu.model import Model\n",
    "from kudzu.train import Learner\n",
    "from kudzu.optim import GD\n",
    "from kudzu.data import Data, Sampler,Dataloader\n",
    "\n",
    "from kudzu.callbacks import AccCallback\n",
    "from kudzu.callbacks import ClfCallback\n",
    "\n",
    "from kudzu.loss import MSE\n",
    "\n",
    "from kudzu.layer import Sigmoid,Relu\n",
    "from kudzu.layer import Affine"
   ]
  },
  {
   "cell_type": "markdown",
   "id": "bc01172a",
   "metadata": {
    "papermill": {
     "duration": 0.02712,
     "end_time": "2022-07-27T10:11:15.963317",
     "exception": false,
     "start_time": "2022-07-27T10:11:15.936197",
     "status": "completed"
    },
    "tags": []
   },
   "source": [
    "### Let us create a `Config` class, to store important parameters. \n",
    "This class essentially plays the role of a dictionary."
   ]
  },
  {
   "cell_type": "code",
   "execution_count": 16,
   "id": "978281aa",
   "metadata": {
    "execution": {
     "iopub.execute_input": "2022-07-27T10:11:16.025157Z",
     "iopub.status.busy": "2022-07-27T10:11:16.024444Z",
     "iopub.status.idle": "2022-07-27T10:11:16.035289Z",
     "shell.execute_reply": "2022-07-27T10:11:16.035731Z"
    },
    "papermill": {
     "duration": 0.045423,
     "end_time": "2022-07-27T10:11:16.035875",
     "exception": false,
     "start_time": "2022-07-27T10:11:15.990452",
     "status": "completed"
    },
    "tags": []
   },
   "outputs": [],
   "source": [
    "class Config:\n",
    "    pass\n",
    "config = Config()\n",
    "config.lr = 0.001\n",
    "config.num_epochs = 250\n",
    "config.bs = 50"
   ]
  },
  {
   "cell_type": "markdown",
   "id": "1385fa59",
   "metadata": {
    "papermill": {
     "duration": 0.027418,
     "end_time": "2022-07-27T10:11:16.091069",
     "exception": false,
     "start_time": "2022-07-27T10:11:16.063651",
     "status": "completed"
    },
    "tags": []
   },
   "source": [
    "### Running Models with the Training data\n",
    "Details about the network layers:\n",
    "- A first affine layer has 784 inputs and does 100 affine transforms. These are followed by a Relu\n",
    "- A second affine layer has 100 inputs from the 100 activations of the past layer, and does 100 affine transforms. These are followed by a Relu\n",
    "- A third affine layer has 100 activations and does 2 affine transformations to create an embedding for visualization. There is no non-linearity here.\n",
    "- A final \"logistic regression\" which has an affine transform from 2 inputs to 1 output, which is squeezed through a sigmoid.\n"
   ]
  },
  {
   "cell_type": "code",
   "execution_count": 17,
   "id": "2b9c66db",
   "metadata": {
    "execution": {
     "iopub.execute_input": "2022-07-27T10:11:16.161219Z",
     "iopub.status.busy": "2022-07-27T10:11:16.160582Z",
     "iopub.status.idle": "2022-07-27T10:11:16.168695Z",
     "shell.execute_reply": "2022-07-27T10:11:16.168211Z"
    },
    "papermill": {
     "duration": 0.050537,
     "end_time": "2022-07-27T10:11:16.168821",
     "exception": false,
     "start_time": "2022-07-27T10:11:16.118284",
     "status": "completed"
    },
    "tags": []
   },
   "outputs": [],
   "source": [
    "data = Data(X_train, y_train.reshape(-1,1))\n",
    "sampler = Sampler(data, config.bs, shuffle=True)\n",
    "\n",
    "dl = Dataloader(data, sampler)\n",
    "\n",
    "opt = GD(config.lr)\n",
    "loss = MSE()"
   ]
  },
  {
   "cell_type": "code",
   "execution_count": 18,
   "id": "b275e4c2",
   "metadata": {
    "execution": {
     "iopub.execute_input": "2022-07-27T10:11:16.227958Z",
     "iopub.status.busy": "2022-07-27T10:11:16.227365Z",
     "iopub.status.idle": "2022-07-27T10:11:16.240777Z",
     "shell.execute_reply": "2022-07-27T10:11:16.241261Z"
    },
    "papermill": {
     "duration": 0.04512,
     "end_time": "2022-07-27T10:11:16.241450",
     "exception": false,
     "start_time": "2022-07-27T10:11:16.196330",
     "status": "completed"
    },
    "tags": []
   },
   "outputs": [],
   "source": [
    "training_data_x = X_train\n",
    "testing_data_x = X_test\n",
    "training_data_y = y_train.reshape(-1,1)\n",
    "testing_data_y = y_test.reshape(-1,1)"
   ]
  },
  {
   "cell_type": "code",
   "execution_count": 19,
   "id": "76951160",
   "metadata": {
    "execution": {
     "iopub.execute_input": "2022-07-27T10:11:16.304411Z",
     "iopub.status.busy": "2022-07-27T10:11:16.303791Z",
     "iopub.status.idle": "2022-07-27T10:11:16.318369Z",
     "shell.execute_reply": "2022-07-27T10:11:16.318883Z"
    },
    "papermill": {
     "duration": 0.050195,
     "end_time": "2022-07-27T10:11:16.319026",
     "exception": false,
     "start_time": "2022-07-27T10:11:16.268831",
     "status": "completed"
    },
    "tags": []
   },
   "outputs": [
    {
     "name": "stdout",
     "output_type": "stream",
     "text": [
      "xavier\n",
      "xavier\n",
      "xavier\n",
      "xavier\n",
      "xavier\n"
     ]
    }
   ],
   "source": [
    "layers = [Affine(\"first\", 784, 100), Relu(\"first\"), Affine(\"second\", 100, 100), Relu(\"second\"), Affine(\"third\", 100, 2), Affine(\"last\", 2, 1), Sigmoid(\"last\")]\n",
    "model_nn = Model(layers)\n",
    "model_lr = Model([Affine(\"logits\", 784, 1), Sigmoid(\"sigmoid\")])"
   ]
  },
  {
   "cell_type": "code",
   "execution_count": 20,
   "id": "6eede77a",
   "metadata": {
    "execution": {
     "iopub.execute_input": "2022-07-27T10:11:16.387432Z",
     "iopub.status.busy": "2022-07-27T10:11:16.385151Z",
     "iopub.status.idle": "2022-07-27T10:11:16.394436Z",
     "shell.execute_reply": "2022-07-27T10:11:16.394933Z"
    },
    "papermill": {
     "duration": 0.048025,
     "end_time": "2022-07-27T10:11:16.395079",
     "exception": false,
     "start_time": "2022-07-27T10:11:16.347054",
     "status": "completed"
    },
    "tags": []
   },
   "outputs": [],
   "source": [
    "nn_learner = Learner(loss, model_nn, opt, config.num_epochs)\n",
    "acc_nn = ClfCallback(nn_learner, config.bs, training_data_x , testing_data_x, training_data_y, testing_data_y)\n",
    "nn_learner.set_callbacks([acc_nn])"
   ]
  },
  {
   "cell_type": "code",
   "execution_count": 21,
   "id": "877b6cc7",
   "metadata": {
    "execution": {
     "iopub.execute_input": "2022-07-27T10:11:16.468328Z",
     "iopub.status.busy": "2022-07-27T10:11:16.463560Z",
     "iopub.status.idle": "2022-07-27T10:11:16.471991Z",
     "shell.execute_reply": "2022-07-27T10:11:16.471501Z"
    },
    "papermill": {
     "duration": 0.049261,
     "end_time": "2022-07-27T10:11:16.472112",
     "exception": false,
     "start_time": "2022-07-27T10:11:16.422851",
     "status": "completed"
    },
    "tags": []
   },
   "outputs": [],
   "source": [
    "lr_learner = Learner(loss, model_lr, opt, config.num_epochs)\n",
    "acc_lr = ClfCallback(lr_learner, config.bs, training_data_x , testing_data_x, training_data_y, testing_data_y)\n",
    "lr_learner.set_callbacks([acc_lr])"
   ]
  },
  {
   "cell_type": "code",
   "execution_count": 22,
   "id": "d9b133c3",
   "metadata": {
    "execution": {
     "iopub.execute_input": "2022-07-27T10:11:16.531576Z",
     "iopub.status.busy": "2022-07-27T10:11:16.530974Z",
     "iopub.status.idle": "2022-07-27T10:12:33.720548Z",
     "shell.execute_reply": "2022-07-27T10:12:33.720996Z"
    },
    "papermill": {
     "duration": 77.221263,
     "end_time": "2022-07-27T10:12:33.721149",
     "exception": false,
     "start_time": "2022-07-27T10:11:16.499886",
     "status": "completed"
    },
    "tags": []
   },
   "outputs": [
    {
     "name": "stdout",
     "output_type": "stream",
     "text": [
      "Epoch 0, Loss 0.2554\n",
      "Training Accuracy: 0.5456, Testing Accuracy: 0.5670\n",
      "\n"
     ]
    },
    {
     "name": "stdout",
     "output_type": "stream",
     "text": [
      "Epoch 10, Loss 0.1047\n",
      "Training Accuracy: 0.9091, Testing Accuracy: 0.9128\n",
      "\n"
     ]
    },
    {
     "name": "stdout",
     "output_type": "stream",
     "text": [
      "Epoch 20, Loss 0.0621\n",
      "Training Accuracy: 0.9349, Testing Accuracy: 0.9476\n",
      "\n"
     ]
    },
    {
     "name": "stdout",
     "output_type": "stream",
     "text": [
      "Epoch 30, Loss 0.0478\n",
      "Training Accuracy: 0.9468, Testing Accuracy: 0.9582\n",
      "\n"
     ]
    },
    {
     "name": "stdout",
     "output_type": "stream",
     "text": [
      "Epoch 40, Loss 0.0409\n",
      "Training Accuracy: 0.9529, Testing Accuracy: 0.9627\n",
      "\n"
     ]
    },
    {
     "name": "stdout",
     "output_type": "stream",
     "text": [
      "Epoch 50, Loss 0.0368\n",
      "Training Accuracy: 0.9571, Testing Accuracy: 0.9667\n",
      "\n"
     ]
    },
    {
     "name": "stdout",
     "output_type": "stream",
     "text": [
      "Epoch 60, Loss 0.0339\n",
      "Training Accuracy: 0.9603, Testing Accuracy: 0.9677\n",
      "\n"
     ]
    },
    {
     "name": "stdout",
     "output_type": "stream",
     "text": [
      "Epoch 70, Loss 0.0319\n",
      "Training Accuracy: 0.9623, Testing Accuracy: 0.9688\n",
      "\n"
     ]
    },
    {
     "name": "stdout",
     "output_type": "stream",
     "text": [
      "Epoch 80, Loss 0.0303\n",
      "Training Accuracy: 0.9644, Testing Accuracy: 0.9693\n",
      "\n"
     ]
    },
    {
     "name": "stdout",
     "output_type": "stream",
     "text": [
      "Epoch 90, Loss 0.029\n",
      "Training Accuracy: 0.9663, Testing Accuracy: 0.9703\n",
      "\n"
     ]
    },
    {
     "name": "stdout",
     "output_type": "stream",
     "text": [
      "Epoch 100, Loss 0.0279\n",
      "Training Accuracy: 0.9674, Testing Accuracy: 0.9703\n",
      "\n"
     ]
    },
    {
     "name": "stdout",
     "output_type": "stream",
     "text": [
      "Epoch 110, Loss 0.0269\n",
      "Training Accuracy: 0.9685, Testing Accuracy: 0.9713\n",
      "\n"
     ]
    },
    {
     "name": "stdout",
     "output_type": "stream",
     "text": [
      "Epoch 120, Loss 0.0261\n",
      "Training Accuracy: 0.9693, Testing Accuracy: 0.9708\n",
      "\n"
     ]
    },
    {
     "name": "stdout",
     "output_type": "stream",
     "text": [
      "Epoch 130, Loss 0.0254\n",
      "Training Accuracy: 0.9700, Testing Accuracy: 0.9708\n",
      "\n"
     ]
    },
    {
     "name": "stdout",
     "output_type": "stream",
     "text": [
      "Epoch 140, Loss 0.0247\n",
      "Training Accuracy: 0.9708, Testing Accuracy: 0.9703\n",
      "\n"
     ]
    },
    {
     "name": "stdout",
     "output_type": "stream",
     "text": [
      "Epoch 150, Loss 0.0241\n",
      "Training Accuracy: 0.9715, Testing Accuracy: 0.9703\n",
      "\n"
     ]
    },
    {
     "name": "stdout",
     "output_type": "stream",
     "text": [
      "Epoch 160, Loss 0.0235\n",
      "Training Accuracy: 0.9722, Testing Accuracy: 0.9708\n",
      "\n"
     ]
    },
    {
     "name": "stdout",
     "output_type": "stream",
     "text": [
      "Epoch 170, Loss 0.023\n",
      "Training Accuracy: 0.9725, Testing Accuracy: 0.9708\n",
      "\n"
     ]
    },
    {
     "name": "stdout",
     "output_type": "stream",
     "text": [
      "Epoch 180, Loss 0.0225\n",
      "Training Accuracy: 0.9730, Testing Accuracy: 0.9713\n",
      "\n"
     ]
    },
    {
     "name": "stdout",
     "output_type": "stream",
     "text": [
      "Epoch 190, Loss 0.0221\n",
      "Training Accuracy: 0.9738, Testing Accuracy: 0.9713\n",
      "\n"
     ]
    },
    {
     "name": "stdout",
     "output_type": "stream",
     "text": [
      "Epoch 200, Loss 0.0216\n",
      "Training Accuracy: 0.9742, Testing Accuracy: 0.9708\n",
      "\n"
     ]
    },
    {
     "name": "stdout",
     "output_type": "stream",
     "text": [
      "Epoch 210, Loss 0.0212\n",
      "Training Accuracy: 0.9750, Testing Accuracy: 0.9713\n",
      "\n"
     ]
    },
    {
     "name": "stdout",
     "output_type": "stream",
     "text": [
      "Epoch 220, Loss 0.0208\n",
      "Training Accuracy: 0.9756, Testing Accuracy: 0.9718\n",
      "\n"
     ]
    },
    {
     "name": "stdout",
     "output_type": "stream",
     "text": [
      "Epoch 230, Loss 0.0204\n",
      "Training Accuracy: 0.9762, Testing Accuracy: 0.9718\n",
      "\n"
     ]
    },
    {
     "name": "stdout",
     "output_type": "stream",
     "text": [
      "Epoch 240, Loss 0.0201\n",
      "Training Accuracy: 0.9770, Testing Accuracy: 0.9718\n",
      "\n"
     ]
    },
    {
     "data": {
      "text/plain": [
       "0.0394190864231177"
      ]
     },
     "execution_count": 22,
     "metadata": {},
     "output_type": "execute_result"
    }
   ],
   "source": [
    "nn_learner.train_loop(dl)"
   ]
  },
  {
   "cell_type": "code",
   "execution_count": 23,
   "id": "e0163366",
   "metadata": {
    "execution": {
     "iopub.execute_input": "2022-07-27T10:12:33.802013Z",
     "iopub.status.busy": "2022-07-27T10:12:33.800951Z",
     "iopub.status.idle": "2022-07-27T10:12:47.863153Z",
     "shell.execute_reply": "2022-07-27T10:12:47.864044Z"
    },
    "papermill": {
     "duration": 14.107391,
     "end_time": "2022-07-27T10:12:47.864204",
     "exception": false,
     "start_time": "2022-07-27T10:12:33.756813",
     "status": "completed"
    },
    "tags": []
   },
   "outputs": [
    {
     "name": "stdout",
     "output_type": "stream",
     "text": [
      "Epoch 0, Loss 0.2408\n",
      "Training Accuracy: 0.6918, Testing Accuracy: 0.6900\n",
      "\n"
     ]
    },
    {
     "name": "stdout",
     "output_type": "stream",
     "text": [
      "Epoch 10, Loss 0.1042\n",
      "Training Accuracy: 0.9070, Testing Accuracy: 0.9178\n",
      "\n"
     ]
    },
    {
     "name": "stdout",
     "output_type": "stream",
     "text": [
      "Epoch 20, Loss 0.0796\n",
      "Training Accuracy: 0.9282, Testing Accuracy: 0.9390\n",
      "\n"
     ]
    },
    {
     "name": "stdout",
     "output_type": "stream",
     "text": [
      "Epoch 30, Loss 0.0684\n",
      "Training Accuracy: 0.9362, Testing Accuracy: 0.9476\n",
      "\n"
     ]
    },
    {
     "name": "stdout",
     "output_type": "stream",
     "text": [
      "Epoch 40, Loss 0.0617\n",
      "Training Accuracy: 0.9407, Testing Accuracy: 0.9526\n",
      "\n"
     ]
    },
    {
     "name": "stdout",
     "output_type": "stream",
     "text": [
      "Epoch 50, Loss 0.0572\n",
      "Training Accuracy: 0.9432, Testing Accuracy: 0.9556\n",
      "\n"
     ]
    },
    {
     "name": "stdout",
     "output_type": "stream",
     "text": [
      "Epoch 60, Loss 0.0539\n",
      "Training Accuracy: 0.9468, Testing Accuracy: 0.9567\n",
      "\n"
     ]
    },
    {
     "name": "stdout",
     "output_type": "stream",
     "text": [
      "Epoch 70, Loss 0.0513\n",
      "Training Accuracy: 0.9491, Testing Accuracy: 0.9572\n",
      "\n"
     ]
    },
    {
     "name": "stdout",
     "output_type": "stream",
     "text": [
      "Epoch 80, Loss 0.0493\n",
      "Training Accuracy: 0.9503, Testing Accuracy: 0.9572\n",
      "\n"
     ]
    },
    {
     "name": "stdout",
     "output_type": "stream",
     "text": [
      "Epoch 90, Loss 0.0476\n",
      "Training Accuracy: 0.9508, Testing Accuracy: 0.9597\n",
      "\n"
     ]
    },
    {
     "name": "stdout",
     "output_type": "stream",
     "text": [
      "Epoch 100, Loss 0.0462\n",
      "Training Accuracy: 0.9525, Testing Accuracy: 0.9622\n",
      "\n"
     ]
    },
    {
     "name": "stdout",
     "output_type": "stream",
     "text": [
      "Epoch 110, Loss 0.045\n",
      "Training Accuracy: 0.9537, Testing Accuracy: 0.9642\n",
      "\n"
     ]
    },
    {
     "name": "stdout",
     "output_type": "stream",
     "text": [
      "Epoch 120, Loss 0.0439\n",
      "Training Accuracy: 0.9550, Testing Accuracy: 0.9647\n",
      "\n"
     ]
    },
    {
     "name": "stdout",
     "output_type": "stream",
     "text": [
      "Epoch 130, Loss 0.043\n",
      "Training Accuracy: 0.9559, Testing Accuracy: 0.9652\n",
      "\n"
     ]
    },
    {
     "name": "stdout",
     "output_type": "stream",
     "text": [
      "Epoch 140, Loss 0.0422\n",
      "Training Accuracy: 0.9564, Testing Accuracy: 0.9657\n",
      "\n"
     ]
    },
    {
     "name": "stdout",
     "output_type": "stream",
     "text": [
      "Epoch 150, Loss 0.0414\n",
      "Training Accuracy: 0.9565, Testing Accuracy: 0.9657\n",
      "\n"
     ]
    },
    {
     "name": "stdout",
     "output_type": "stream",
     "text": [
      "Epoch 160, Loss 0.0408\n",
      "Training Accuracy: 0.9571, Testing Accuracy: 0.9657\n",
      "\n"
     ]
    },
    {
     "name": "stdout",
     "output_type": "stream",
     "text": [
      "Epoch 170, Loss 0.0401\n",
      "Training Accuracy: 0.9576, Testing Accuracy: 0.9667\n",
      "\n"
     ]
    },
    {
     "name": "stdout",
     "output_type": "stream",
     "text": [
      "Epoch 180, Loss 0.0396\n",
      "Training Accuracy: 0.9579, Testing Accuracy: 0.9677\n",
      "\n"
     ]
    },
    {
     "name": "stdout",
     "output_type": "stream",
     "text": [
      "Epoch 190, Loss 0.0391\n",
      "Training Accuracy: 0.9584, Testing Accuracy: 0.9677\n",
      "\n"
     ]
    },
    {
     "name": "stdout",
     "output_type": "stream",
     "text": [
      "Epoch 200, Loss 0.0386\n",
      "Training Accuracy: 0.9590, Testing Accuracy: 0.9677\n",
      "\n"
     ]
    },
    {
     "name": "stdout",
     "output_type": "stream",
     "text": [
      "Epoch 210, Loss 0.0381\n",
      "Training Accuracy: 0.9595, Testing Accuracy: 0.9688\n",
      "\n"
     ]
    },
    {
     "name": "stdout",
     "output_type": "stream",
     "text": [
      "Epoch 220, Loss 0.0377\n",
      "Training Accuracy: 0.9600, Testing Accuracy: 0.9688\n",
      "\n"
     ]
    },
    {
     "name": "stdout",
     "output_type": "stream",
     "text": [
      "Epoch 230, Loss 0.0373\n",
      "Training Accuracy: 0.9606, Testing Accuracy: 0.9688\n",
      "\n"
     ]
    },
    {
     "name": "stdout",
     "output_type": "stream",
     "text": [
      "Epoch 240, Loss 0.037\n",
      "Training Accuracy: 0.9608, Testing Accuracy: 0.9688\n",
      "\n"
     ]
    },
    {
     "data": {
      "text/plain": [
       "0.05680533219721001"
      ]
     },
     "execution_count": 23,
     "metadata": {},
     "output_type": "execute_result"
    }
   ],
   "source": [
    "lr_learner.train_loop(dl)"
   ]
  },
  {
   "cell_type": "code",
   "execution_count": 24,
   "id": "ca410940",
   "metadata": {
    "execution": {
     "iopub.execute_input": "2022-07-27T10:12:47.963102Z",
     "iopub.status.busy": "2022-07-27T10:12:47.962400Z",
     "iopub.status.idle": "2022-07-27T10:12:48.177470Z",
     "shell.execute_reply": "2022-07-27T10:12:48.176948Z"
    },
    "papermill": {
     "duration": 0.270935,
     "end_time": "2022-07-27T10:12:48.177598",
     "exception": false,
     "start_time": "2022-07-27T10:12:47.906663",
     "status": "completed"
    },
    "tags": []
   },
   "outputs": [
    {
     "data": {
      "text/plain": [
       "<matplotlib.legend.Legend at 0x7f1df42a4ac8>"
      ]
     },
     "execution_count": 24,
     "metadata": {},
     "output_type": "execute_result"
    },
    {
     "data": {
      "image/png": "[encoded data removed]",
      "text/plain": [
       "<Figure size 1080x720 with 1 Axes>"
      ]
     },
     "metadata": {
      "needs_background": "light"
     },
     "output_type": "display_data"
    }
   ],
   "source": [
    "#comparing the results of NN and LR\n",
    "plt.figure(figsize=(15,10))\n",
    "\n",
    "# Neural Network plots\n",
    "plt.plot(acc_nn.accuracies, 'r-', label = \"Training Accuracies - NN\")\n",
    "plt.plot(acc_nn.test_accuracies, 'g-', label = \"Testing Accuracies - NN\")\n",
    "\n",
    "# Logistic Regression plots\n",
    "plt.plot(acc_lr.accuracies, 'k-', label = \"Training Accuracies - LR\")\n",
    "plt.plot(acc_lr.test_accuracies, 'b-', label = \"Testing Accuracies - LR\")\n",
    "plt.legend()"
   ]
  },
  {
   "cell_type": "markdown",
   "id": "80dfb35c",
   "metadata": {
    "papermill": {
     "duration": 0.042365,
     "end_time": "2022-07-27T10:12:48.262665",
     "exception": false,
     "start_time": "2022-07-27T10:12:48.220300",
     "status": "completed"
    },
    "tags": []
   },
   "source": [
    "#### Plotting the outputs of this layer of the NN.\n"
   ]
  },
  {
   "cell_type": "code",
   "execution_count": 25,
   "id": "45eb2ff5",
   "metadata": {
    "execution": {
     "iopub.execute_input": "2022-07-27T10:12:48.351728Z",
     "iopub.status.busy": "2022-07-27T10:12:48.351103Z",
     "iopub.status.idle": "2022-07-27T10:12:48.374347Z",
     "shell.execute_reply": "2022-07-27T10:12:48.375129Z"
    },
    "papermill": {
     "duration": 0.070544,
     "end_time": "2022-07-27T10:12:48.375483",
     "exception": false,
     "start_time": "2022-07-27T10:12:48.304939",
     "status": "completed"
    },
    "tags": []
   },
   "outputs": [],
   "source": [
    "new_model = Model(layers[:-2])\n",
    "testing_plot = new_model(testing_data_x)"
   ]
  },
  {
   "cell_type": "code",
   "execution_count": 26,
   "id": "4c0a5485",
   "metadata": {
    "execution": {
     "iopub.execute_input": "2022-07-27T10:12:48.466281Z",
     "iopub.status.busy": "2022-07-27T10:12:48.465659Z",
     "iopub.status.idle": "2022-07-27T10:12:48.665715Z",
     "shell.execute_reply": "2022-07-27T10:12:48.665124Z"
    },
    "papermill": {
     "duration": 0.247625,
     "end_time": "2022-07-27T10:12:48.665842",
     "exception": false,
     "start_time": "2022-07-27T10:12:48.418217",
     "status": "completed"
    },
    "tags": []
   },
   "outputs": [
    {
     "data": {
      "text/plain": [
       "Text(0.5, 1.0, 'Outputs')"
      ]
     },
     "execution_count": 26,
     "metadata": {},
     "output_type": "execute_result"
    },
    {
     "data": {
      "image/png": "[encoded data removed]",
      "text/plain": [
       "<Figure size 576x504 with 1 Axes>"
      ]
     },
     "metadata": {
      "needs_background": "light"
     },
     "output_type": "display_data"
    }
   ],
   "source": [
    "# Plotting the scatter plot of points and color coding by class\n",
    "plt.figure(figsize=(8,7))\n",
    "plt.scatter(testing_plot[:,0], testing_plot[:,1], alpha = 0.1, c = y_test.ravel());\n",
    "plt.title('Outputs')"
   ]
  },
  {
   "cell_type": "markdown",
   "id": "a74fcf8f",
   "metadata": {
    "papermill": {
     "duration": 0.045018,
     "end_time": "2022-07-27T10:12:48.755976",
     "exception": false,
     "start_time": "2022-07-27T10:12:48.710958",
     "status": "completed"
    },
    "tags": []
   },
   "source": [
    "Probability contours"
   ]
  },
  {
   "cell_type": "code",
   "execution_count": 27,
   "id": "d0afc8e3",
   "metadata": {
    "execution": {
     "iopub.execute_input": "2022-07-27T10:12:48.887564Z",
     "iopub.status.busy": "2022-07-27T10:12:48.886934Z",
     "iopub.status.idle": "2022-07-27T10:12:48.898813Z",
     "shell.execute_reply": "2022-07-27T10:12:48.899315Z"
    },
    "papermill": {
     "duration": 0.09833,
     "end_time": "2022-07-27T10:12:48.899461",
     "exception": false,
     "start_time": "2022-07-27T10:12:48.801131",
     "status": "completed"
    },
    "tags": []
   },
   "outputs": [],
   "source": [
    "model_prob = Model(layers[-2:]) "
   ]
  },
  {
   "cell_type": "code",
   "execution_count": 28,
   "id": "9b96e238",
   "metadata": {
    "execution": {
     "iopub.execute_input": "2022-07-27T10:12:48.995698Z",
     "iopub.status.busy": "2022-07-27T10:12:48.995067Z",
     "iopub.status.idle": "2022-07-27T10:12:49.010185Z",
     "shell.execute_reply": "2022-07-27T10:12:49.010667Z"
    },
    "papermill": {
     "duration": 0.065814,
     "end_time": "2022-07-27T10:12:49.010827",
     "exception": false,
     "start_time": "2022-07-27T10:12:48.945013",
     "status": "completed"
    },
    "tags": []
   },
   "outputs": [],
   "source": [
    "#creating the x and y ranges according to the above generated plot.\n",
    "x_range = np.linspace(-4, 1, 100) \n",
    "y_range = np.linspace(-6, 6, 100) \n",
    "x_grid, y_grid = np.meshgrid(x_range, y_range) # x_grid and y_grig are of size 100 X 100\n",
    "\n",
    "# converting x_grid and y_grid to continuous arrays\n",
    "x_gridflat = np.ravel(x_grid)\n",
    "y_gridflat = np.ravel(y_grid)\n",
    "\n",
    "# The last layer of the current model takes two columns as input. Hence transpose of np.vstack() is required.\n",
    "X = np.vstack((x_gridflat, y_gridflat)).T\n",
    "\n",
    "prob_contour = model_prob(X).reshape(100,100) "
   ]
  },
  {
   "cell_type": "code",
   "execution_count": 29,
   "id": "da72499a",
   "metadata": {
    "execution": {
     "iopub.execute_input": "2022-07-27T10:12:49.113093Z",
     "iopub.status.busy": "2022-07-27T10:12:49.112469Z",
     "iopub.status.idle": "2022-07-27T10:12:49.362045Z",
     "shell.execute_reply": "2022-07-27T10:12:49.361461Z"
    },
    "papermill": {
     "duration": 0.305073,
     "end_time": "2022-07-27T10:12:49.362188",
     "exception": false,
     "start_time": "2022-07-27T10:12:49.057115",
     "status": "completed"
    },
    "tags": []
   },
   "outputs": [
    {
     "data": {
      "image/png": "[encoded data removed]",
      "text/plain": [
       "<Figure size 720x648 with 1 Axes>"
      ]
     },
     "metadata": {
      "needs_background": "light"
     },
     "output_type": "display_data"
    }
   ],
   "source": [
    "plt.figure(figsize=(10,9))\n",
    "plt.scatter(testing_plot[:,0], testing_plot[:,1], alpha = 0.1, c = y_test.ravel())\n",
    "contours = plt.contour(x_grid,y_grid,prob_contour)\n",
    "plt.title('Probability Contours')\n",
    "plt.clabel(contours, inline = True );"
   ]
  },
  {
   "cell_type": "code",
   "execution_count": null,
   "id": "e81b4ac7",
   "metadata": {
    "papermill": {
     "duration": 0.047921,
     "end_time": "2022-07-27T10:12:49.459447",
     "exception": false,
     "start_time": "2022-07-27T10:12:49.411526",
     "status": "completed"
    },
    "tags": []
   },
   "outputs": [],
   "source": []
  }
 ],
 "metadata": {
  "kernelspec": {
   "display_name": "Python 3",
   "language": "python",
   "name": "python3"
  },
  "language_info": {
   "codemirror_mode": {
    "name": "ipython",
    "version": 3
   },
   "file_extension": ".py",
   "mimetype": "text/x-python",
   "name": "python",
   "nbconvert_exporter": "python",
   "pygments_lexer": "ipython3",
   "version": "3.6.15"
  },
  "papermill": {
   "default_parameters": {},
   "duration": 100.907596,
   "end_time": "2022-07-27T10:12:49.926817",
   "environment_variables": {},
   "exception": null,
   "input_path": "2020-08-11-part2.ipynb",
   "output_path": "2020-08-11-part2.ipynb",
   "parameters": {},
   "start_time": "2022-07-27T10:11:09.019221",
   "version": "2.3.3"
  }
 },
 "nbformat": 4,
 "nbformat_minor": 5
}