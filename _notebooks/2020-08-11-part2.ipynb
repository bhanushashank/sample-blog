{
 "cells": [
  {
   "cell_type": "markdown",
   "id": "98380cd3",
   "metadata": {
    "papermill": {
     "duration": 0.036935,
     "end_time": "2022-01-15T00:24:57.210020",
     "exception": false,
     "start_time": "2022-01-15T00:24:57.173085",
     "status": "completed"
    },
    "tags": []
   },
   "source": [
    "# Distinguish Your Own Digits (DYOD)"
   ]
  },
  {
   "cell_type": "markdown",
   "id": "ef31240d",
   "metadata": {
    "papermill": {
     "duration": 0.028455,
     "end_time": "2022-01-15T00:24:57.272819",
     "exception": false,
     "start_time": "2022-01-15T00:24:57.244364",
     "status": "completed"
    },
    "tags": []
   },
   "source": [
    "You are going to write a classifier that distinguishes between the number 3 and number 8."
   ]
  },
  {
   "cell_type": "code",
   "execution_count": 1,
   "id": "b15c8646",
   "metadata": {
    "execution": {
     "iopub.execute_input": "2022-01-15T00:24:57.342415Z",
     "iopub.status.busy": "2022-01-15T00:24:57.341171Z",
     "iopub.status.idle": "2022-01-15T00:24:57.354819Z",
     "shell.execute_reply": "2022-01-15T00:24:57.354283Z"
    },
    "papermill": {
     "duration": 0.054631,
     "end_time": "2022-01-15T00:24:57.354969",
     "exception": false,
     "start_time": "2022-01-15T00:24:57.300338",
     "status": "completed"
    },
    "tags": []
   },
   "outputs": [],
   "source": [
    "%load_ext autoreload\n",
    "%autoreload 2"
   ]
  },
  {
   "cell_type": "code",
   "execution_count": 2,
   "id": "22ef38dc",
   "metadata": {
    "execution": {
     "iopub.execute_input": "2022-01-15T00:24:57.416498Z",
     "iopub.status.busy": "2022-01-15T00:24:57.415890Z",
     "iopub.status.idle": "2022-01-15T00:24:58.139872Z",
     "shell.execute_reply": "2022-01-15T00:24:58.138830Z"
    },
    "papermill": {
     "duration": 0.757228,
     "end_time": "2022-01-15T00:24:58.140027",
     "exception": false,
     "start_time": "2022-01-15T00:24:57.382799",
     "status": "completed"
    },
    "tags": []
   },
   "outputs": [],
   "source": [
    "%matplotlib inline\n",
    "import numpy as np\n",
    "import matplotlib.pyplot as plt\n",
    "import pandas as pd"
   ]
  },
  {
   "cell_type": "markdown",
   "id": "ba036198",
   "metadata": {
    "papermill": {
     "duration": 0.02802,
     "end_time": "2022-01-15T00:24:58.196104",
     "exception": false,
     "start_time": "2022-01-15T00:24:58.168084",
     "status": "completed"
    },
    "tags": []
   },
   "source": [
    "From the command line run `pip install mnist`. This is a library that will help you bring down the mnist dataset. If you run this from a notebook, you need to put  `!pip install mnist` in a cell by itself."
   ]
  },
  {
   "cell_type": "code",
   "execution_count": 3,
   "id": "bb6ad8a1",
   "metadata": {
    "execution": {
     "iopub.execute_input": "2022-01-15T00:24:58.258990Z",
     "iopub.status.busy": "2022-01-15T00:24:58.258319Z",
     "iopub.status.idle": "2022-01-15T00:25:00.423310Z",
     "shell.execute_reply": "2022-01-15T00:25:00.422690Z"
    },
    "papermill": {
     "duration": 2.199313,
     "end_time": "2022-01-15T00:25:00.423470",
     "exception": false,
     "start_time": "2022-01-15T00:24:58.224157",
     "status": "completed"
    },
    "tags": []
   },
   "outputs": [
    {
     "name": "stdout",
     "output_type": "stream",
     "text": [
      "Collecting mnist\r\n"
     ]
    },
    {
     "name": "stdout",
     "output_type": "stream",
     "text": [
      "  Downloading mnist-0.2.2-py2.py3-none-any.whl (3.5 kB)\r\n",
      "Requirement already satisfied: numpy in /opt/hostedtoolcache/Python/3.6.15/x64/lib/python3.6/site-packages (from mnist) (1.19.5)\r\n"
     ]
    },
    {
     "name": "stdout",
     "output_type": "stream",
     "text": [
      "Installing collected packages: mnist\r\n"
     ]
    },
    {
     "name": "stdout",
     "output_type": "stream",
     "text": [
      "Successfully installed mnist-0.2.2\r\n"
     ]
    }
   ],
   "source": [
    "!pip install mnist"
   ]
  },
  {
   "cell_type": "markdown",
   "id": "69df9c9a",
   "metadata": {
    "papermill": {
     "duration": 0.02913,
     "end_time": "2022-01-15T00:25:00.482677",
     "exception": false,
     "start_time": "2022-01-15T00:25:00.453547",
     "status": "completed"
    },
    "tags": []
   },
   "source": [
    "## Preparing the Data"
   ]
  },
  {
   "cell_type": "code",
   "execution_count": 4,
   "id": "7f69d806",
   "metadata": {
    "execution": {
     "iopub.execute_input": "2022-01-15T00:25:00.551350Z",
     "iopub.status.busy": "2022-01-15T00:25:00.550724Z",
     "iopub.status.idle": "2022-01-15T00:25:00.566833Z",
     "shell.execute_reply": "2022-01-15T00:25:00.566299Z"
    },
    "papermill": {
     "duration": 0.049817,
     "end_time": "2022-01-15T00:25:00.566964",
     "exception": false,
     "start_time": "2022-01-15T00:25:00.517147",
     "status": "completed"
    },
    "tags": []
   },
   "outputs": [],
   "source": [
    "import mnist"
   ]
  },
  {
   "cell_type": "code",
   "execution_count": 5,
   "id": "a411e44f",
   "metadata": {
    "execution": {
     "iopub.execute_input": "2022-01-15T00:25:00.630499Z",
     "iopub.status.busy": "2022-01-15T00:25:00.629863Z",
     "iopub.status.idle": "2022-01-15T00:25:01.323107Z",
     "shell.execute_reply": "2022-01-15T00:25:01.322543Z"
    },
    "papermill": {
     "duration": 0.726393,
     "end_time": "2022-01-15T00:25:01.323243",
     "exception": false,
     "start_time": "2022-01-15T00:25:00.596850",
     "status": "completed"
    },
    "tags": []
   },
   "outputs": [],
   "source": [
    "train_images = mnist.train_images()\n",
    "train_labels = mnist.train_labels()"
   ]
  },
  {
   "cell_type": "code",
   "execution_count": 6,
   "id": "dceab3a5",
   "metadata": {
    "execution": {
     "iopub.execute_input": "2022-01-15T00:25:01.387650Z",
     "iopub.status.busy": "2022-01-15T00:25:01.387025Z",
     "iopub.status.idle": "2022-01-15T00:25:01.404213Z",
     "shell.execute_reply": "2022-01-15T00:25:01.403721Z"
    },
    "papermill": {
     "duration": 0.051454,
     "end_time": "2022-01-15T00:25:01.404344",
     "exception": false,
     "start_time": "2022-01-15T00:25:01.352890",
     "status": "completed"
    },
    "tags": []
   },
   "outputs": [
    {
     "data": {
      "text/plain": [
       "((60000, 28, 28), (60000,))"
      ]
     },
     "execution_count": 6,
     "metadata": {},
     "output_type": "execute_result"
    }
   ],
   "source": [
    "train_images.shape, train_labels.shape"
   ]
  },
  {
   "cell_type": "code",
   "execution_count": 7,
   "id": "f50dc2bb",
   "metadata": {
    "execution": {
     "iopub.execute_input": "2022-01-15T00:25:01.468584Z",
     "iopub.status.busy": "2022-01-15T00:25:01.467947Z",
     "iopub.status.idle": "2022-01-15T00:25:01.697324Z",
     "shell.execute_reply": "2022-01-15T00:25:01.696783Z"
    },
    "papermill": {
     "duration": 0.263704,
     "end_time": "2022-01-15T00:25:01.697467",
     "exception": false,
     "start_time": "2022-01-15T00:25:01.433763",
     "status": "completed"
    },
    "tags": []
   },
   "outputs": [],
   "source": [
    "test_images = mnist.test_images()\n",
    "test_labels = mnist.test_labels()"
   ]
  },
  {
   "cell_type": "code",
   "execution_count": 8,
   "id": "fc38cf1b",
   "metadata": {
    "execution": {
     "iopub.execute_input": "2022-01-15T00:25:01.762823Z",
     "iopub.status.busy": "2022-01-15T00:25:01.762203Z",
     "iopub.status.idle": "2022-01-15T00:25:01.777925Z",
     "shell.execute_reply": "2022-01-15T00:25:01.777407Z"
    },
    "papermill": {
     "duration": 0.049276,
     "end_time": "2022-01-15T00:25:01.778085",
     "exception": false,
     "start_time": "2022-01-15T00:25:01.728809",
     "status": "completed"
    },
    "tags": []
   },
   "outputs": [
    {
     "data": {
      "text/plain": [
       "((10000, 28, 28), (10000,))"
      ]
     },
     "execution_count": 8,
     "metadata": {},
     "output_type": "execute_result"
    }
   ],
   "source": [
    "test_images.shape, test_labels.shape"
   ]
  },
  {
   "cell_type": "code",
   "execution_count": 9,
   "id": "f9ed8fe0",
   "metadata": {
    "execution": {
     "iopub.execute_input": "2022-01-15T00:25:01.843561Z",
     "iopub.status.busy": "2022-01-15T00:25:01.842866Z",
     "iopub.status.idle": "2022-01-15T00:25:02.008310Z",
     "shell.execute_reply": "2022-01-15T00:25:02.008785Z"
    },
    "papermill": {
     "duration": 0.200965,
     "end_time": "2022-01-15T00:25:02.008936",
     "exception": false,
     "start_time": "2022-01-15T00:25:01.807971",
     "status": "completed"
    },
    "tags": []
   },
   "outputs": [
    {
     "name": "stdout",
     "output_type": "stream",
     "text": [
      "2\n"
     ]
    },
    {
     "data": {
      "text/plain": [
       "<matplotlib.image.AxesImage at 0x7fa0ba57e4e0>"
      ]
     },
     "execution_count": 9,
     "metadata": {},
     "output_type": "execute_result"
    },
    {
     "data": {
      "image/png": "[encoded data removed]",
      "text/plain": [
       "<Figure size 432x288 with 1 Axes>"
      ]
     },
     "metadata": {
      "needs_background": "light"
     },
     "output_type": "display_data"
    }
   ],
   "source": [
    "image_index = 7776 # You may select anything up to 60,000\n",
    "print(train_labels[image_index]) \n",
    "plt.imshow(train_images[image_index], cmap='Greys')"
   ]
  },
  {
   "cell_type": "markdown",
   "id": "a8d2388d",
   "metadata": {
    "papermill": {
     "duration": 0.031823,
     "end_time": "2022-01-15T00:25:02.072750",
     "exception": false,
     "start_time": "2022-01-15T00:25:02.040927",
     "status": "completed"
    },
    "tags": []
   },
   "source": [
    "## Filter data to get 3 and 8 out"
   ]
  },
  {
   "cell_type": "code",
   "execution_count": 10,
   "id": "776f7fc7",
   "metadata": {
    "execution": {
     "iopub.execute_input": "2022-01-15T00:25:02.144948Z",
     "iopub.status.busy": "2022-01-15T00:25:02.144315Z",
     "iopub.status.idle": "2022-01-15T00:25:02.164876Z",
     "shell.execute_reply": "2022-01-15T00:25:02.164359Z"
    },
    "papermill": {
     "duration": 0.060652,
     "end_time": "2022-01-15T00:25:02.165014",
     "exception": false,
     "start_time": "2022-01-15T00:25:02.104362",
     "status": "completed"
    },
    "tags": []
   },
   "outputs": [],
   "source": [
    "train_filter = np.where((train_labels == 3 ) | (train_labels == 8))\n",
    "test_filter = np.where((test_labels == 3) | (test_labels == 8))\n",
    "X_train, y_train = train_images[train_filter], train_labels[train_filter]\n",
    "X_test, y_test = test_images[test_filter], test_labels[test_filter]"
   ]
  },
  {
   "cell_type": "markdown",
   "id": "948f0b7e",
   "metadata": {
    "papermill": {
     "duration": 0.03123,
     "end_time": "2022-01-15T00:25:02.227312",
     "exception": false,
     "start_time": "2022-01-15T00:25:02.196082",
     "status": "completed"
    },
    "tags": []
   },
   "source": [
    "We normalize the pizel values in the 0 to 1 range"
   ]
  },
  {
   "cell_type": "code",
   "execution_count": 11,
   "id": "ee4c2166",
   "metadata": {
    "execution": {
     "iopub.execute_input": "2022-01-15T00:25:02.293551Z",
     "iopub.status.busy": "2022-01-15T00:25:02.292940Z",
     "iopub.status.idle": "2022-01-15T00:25:02.349081Z",
     "shell.execute_reply": "2022-01-15T00:25:02.348457Z"
    },
    "papermill": {
     "duration": 0.090847,
     "end_time": "2022-01-15T00:25:02.349241",
     "exception": false,
     "start_time": "2022-01-15T00:25:02.258394",
     "status": "completed"
    },
    "tags": []
   },
   "outputs": [],
   "source": [
    "X_train = X_train/255.\n",
    "X_test = X_test/255."
   ]
  },
  {
   "cell_type": "markdown",
   "id": "ddcf4fab",
   "metadata": {
    "papermill": {
     "duration": 0.031395,
     "end_time": "2022-01-15T00:25:02.412339",
     "exception": false,
     "start_time": "2022-01-15T00:25:02.380944",
     "status": "completed"
    },
    "tags": []
   },
   "source": [
    "And setup the labels as 1 (when the digit is 3) and 0 (when the digit is 8)"
   ]
  },
  {
   "cell_type": "code",
   "execution_count": 12,
   "id": "7dc908f2",
   "metadata": {
    "execution": {
     "iopub.execute_input": "2022-01-15T00:25:02.481529Z",
     "iopub.status.busy": "2022-01-15T00:25:02.480911Z",
     "iopub.status.idle": "2022-01-15T00:25:02.495417Z",
     "shell.execute_reply": "2022-01-15T00:25:02.494925Z"
    },
    "papermill": {
     "duration": 0.050531,
     "end_time": "2022-01-15T00:25:02.495551",
     "exception": false,
     "start_time": "2022-01-15T00:25:02.445020",
     "status": "completed"
    },
    "tags": []
   },
   "outputs": [],
   "source": [
    "y_train = 1*(y_train==3)\n",
    "y_test = 1*(y_test==3)"
   ]
  },
  {
   "cell_type": "code",
   "execution_count": 13,
   "id": "01e4e969",
   "metadata": {
    "execution": {
     "iopub.execute_input": "2022-01-15T00:25:02.564296Z",
     "iopub.status.busy": "2022-01-15T00:25:02.563701Z",
     "iopub.status.idle": "2022-01-15T00:25:02.579554Z",
     "shell.execute_reply": "2022-01-15T00:25:02.579058Z"
    },
    "papermill": {
     "duration": 0.053412,
     "end_time": "2022-01-15T00:25:02.579688",
     "exception": false,
     "start_time": "2022-01-15T00:25:02.526276",
     "status": "completed"
    },
    "tags": []
   },
   "outputs": [
    {
     "data": {
      "text/plain": [
       "((11982, 28, 28), (1984, 28, 28))"
      ]
     },
     "execution_count": 13,
     "metadata": {},
     "output_type": "execute_result"
    }
   ],
   "source": [
    "X_train.shape, X_test.shape"
   ]
  },
  {
   "cell_type": "markdown",
   "id": "5ccf3f85",
   "metadata": {
    "papermill": {
     "duration": 0.031407,
     "end_time": "2022-01-15T00:25:02.642866",
     "exception": false,
     "start_time": "2022-01-15T00:25:02.611459",
     "status": "completed"
    },
    "tags": []
   },
   "source": [
    "We reshape the data to flatten the image pixels into a set of features or co-variates:"
   ]
  },
  {
   "cell_type": "code",
   "execution_count": 14,
   "id": "5286a4a3",
   "metadata": {
    "execution": {
     "iopub.execute_input": "2022-01-15T00:25:02.714895Z",
     "iopub.status.busy": "2022-01-15T00:25:02.714261Z",
     "iopub.status.idle": "2022-01-15T00:25:02.730475Z",
     "shell.execute_reply": "2022-01-15T00:25:02.729836Z"
    },
    "papermill": {
     "duration": 0.056192,
     "end_time": "2022-01-15T00:25:02.730608",
     "exception": false,
     "start_time": "2022-01-15T00:25:02.674416",
     "status": "completed"
    },
    "tags": []
   },
   "outputs": [
    {
     "data": {
      "text/plain": [
       "((11982, 784), (1984, 784))"
      ]
     },
     "execution_count": 14,
     "metadata": {},
     "output_type": "execute_result"
    }
   ],
   "source": [
    "X_train = X_train.reshape(X_train.shape[0], -1)\n",
    "X_test = X_test.reshape(X_test.shape[0], -1)\n",
    "X_train.shape, X_test.shape"
   ]
  },
  {
   "cell_type": "code",
   "execution_count": 15,
   "id": "73c5f88a",
   "metadata": {
    "execution": {
     "iopub.execute_input": "2022-01-15T00:25:02.800441Z",
     "iopub.status.busy": "2022-01-15T00:25:02.799829Z",
     "iopub.status.idle": "2022-01-15T00:25:02.824247Z",
     "shell.execute_reply": "2022-01-15T00:25:02.823334Z"
    },
    "papermill": {
     "duration": 0.06094,
     "end_time": "2022-01-15T00:25:02.824388",
     "exception": false,
     "start_time": "2022-01-15T00:25:02.763448",
     "status": "completed"
    },
    "tags": []
   },
   "outputs": [],
   "source": [
    "#Impoting functions from 'Kudzu'\n",
    "from kudzu.model import Model\n",
    "from kudzu.train import Learner\n",
    "from kudzu.optim import GD\n",
    "from kudzu.data import Data, Sampler,Dataloader\n",
    "\n",
    "from kudzu.callbacks import AccCallback\n",
    "from kudzu.callbacks import ClfCallback\n",
    "\n",
    "from kudzu.loss import MSE\n",
    "\n",
    "from kudzu.layer import Sigmoid,Relu\n",
    "from kudzu.layer import Affine"
   ]
  },
  {
   "cell_type": "markdown",
   "id": "bc01172a",
   "metadata": {
    "papermill": {
     "duration": 0.031175,
     "end_time": "2022-01-15T00:25:02.894449",
     "exception": false,
     "start_time": "2022-01-15T00:25:02.863274",
     "status": "completed"
    },
    "tags": []
   },
   "source": [
    "### Let us create a `Config` class, to store important parameters. \n",
    "This class essentially plays the role of a dictionary."
   ]
  },
  {
   "cell_type": "code",
   "execution_count": 16,
   "id": "978281aa",
   "metadata": {
    "execution": {
     "iopub.execute_input": "2022-01-15T00:25:02.967331Z",
     "iopub.status.busy": "2022-01-15T00:25:02.963399Z",
     "iopub.status.idle": "2022-01-15T00:25:02.977506Z",
     "shell.execute_reply": "2022-01-15T00:25:02.976877Z"
    },
    "papermill": {
     "duration": 0.051714,
     "end_time": "2022-01-15T00:25:02.977642",
     "exception": false,
     "start_time": "2022-01-15T00:25:02.925928",
     "status": "completed"
    },
    "tags": []
   },
   "outputs": [],
   "source": [
    "class Config:\n",
    "    pass\n",
    "config = Config()\n",
    "config.lr = 0.001\n",
    "config.num_epochs = 250\n",
    "config.bs = 50"
   ]
  },
  {
   "cell_type": "markdown",
   "id": "1385fa59",
   "metadata": {
    "papermill": {
     "duration": 0.032971,
     "end_time": "2022-01-15T00:25:03.042218",
     "exception": false,
     "start_time": "2022-01-15T00:25:03.009247",
     "status": "completed"
    },
    "tags": []
   },
   "source": [
    "### Running Models with the Training data\n",
    "Details about the network layers:\n",
    "- A first affine layer has 784 inputs and does 100 affine transforms. These are followed by a Relu\n",
    "- A second affine layer has 100 inputs from the 100 activations of the past layer, and does 100 affine transforms. These are followed by a Relu\n",
    "- A third affine layer has 100 activations and does 2 affine transformations to create an embedding for visualization. There is no non-linearity here.\n",
    "- A final \"logistic regression\" which has an affine transform from 2 inputs to 1 output, which is squeezed through a sigmoid.\n"
   ]
  },
  {
   "cell_type": "code",
   "execution_count": 17,
   "id": "2b9c66db",
   "metadata": {
    "execution": {
     "iopub.execute_input": "2022-01-15T00:25:03.115210Z",
     "iopub.status.busy": "2022-01-15T00:25:03.113932Z",
     "iopub.status.idle": "2022-01-15T00:25:03.130011Z",
     "shell.execute_reply": "2022-01-15T00:25:03.129328Z"
    },
    "papermill": {
     "duration": 0.05549,
     "end_time": "2022-01-15T00:25:03.130175",
     "exception": false,
     "start_time": "2022-01-15T00:25:03.074685",
     "status": "completed"
    },
    "tags": []
   },
   "outputs": [],
   "source": [
    "data = Data(X_train, y_train.reshape(-1,1))\n",
    "sampler = Sampler(data, config.bs, shuffle=True)\n",
    "\n",
    "dl = Dataloader(data, sampler)\n",
    "\n",
    "opt = GD(config.lr)\n",
    "loss = MSE()"
   ]
  },
  {
   "cell_type": "code",
   "execution_count": 18,
   "id": "b275e4c2",
   "metadata": {
    "execution": {
     "iopub.execute_input": "2022-01-15T00:25:03.199873Z",
     "iopub.status.busy": "2022-01-15T00:25:03.199239Z",
     "iopub.status.idle": "2022-01-15T00:25:03.213468Z",
     "shell.execute_reply": "2022-01-15T00:25:03.212935Z"
    },
    "papermill": {
     "duration": 0.050138,
     "end_time": "2022-01-15T00:25:03.213611",
     "exception": false,
     "start_time": "2022-01-15T00:25:03.163473",
     "status": "completed"
    },
    "tags": []
   },
   "outputs": [],
   "source": [
    "training_data_x = X_train\n",
    "testing_data_x = X_test\n",
    "training_data_y = y_train.reshape(-1,1)\n",
    "testing_data_y = y_test.reshape(-1,1)"
   ]
  },
  {
   "cell_type": "code",
   "execution_count": 19,
   "id": "76951160",
   "metadata": {
    "execution": {
     "iopub.execute_input": "2022-01-15T00:25:03.287215Z",
     "iopub.status.busy": "2022-01-15T00:25:03.286511Z",
     "iopub.status.idle": "2022-01-15T00:25:03.306321Z",
     "shell.execute_reply": "2022-01-15T00:25:03.305778Z"
    },
    "papermill": {
     "duration": 0.058197,
     "end_time": "2022-01-15T00:25:03.306453",
     "exception": false,
     "start_time": "2022-01-15T00:25:03.248256",
     "status": "completed"
    },
    "tags": []
   },
   "outputs": [
    {
     "name": "stdout",
     "output_type": "stream",
     "text": [
      "xavier\n",
      "xavier\n",
      "xavier\n",
      "xavier\n",
      "xavier\n"
     ]
    }
   ],
   "source": [
    "layers = [Affine(\"first\", 784, 100), Relu(\"first\"), Affine(\"second\", 100, 100), Relu(\"second\"), Affine(\"third\", 100, 2), Affine(\"last\", 2, 1), Sigmoid(\"last\")]\n",
    "model_nn = Model(layers)\n",
    "model_lr = Model([Affine(\"logits\", 784, 1), Sigmoid(\"sigmoid\")])"
   ]
  },
  {
   "cell_type": "code",
   "execution_count": 20,
   "id": "6eede77a",
   "metadata": {
    "execution": {
     "iopub.execute_input": "2022-01-15T00:25:03.378150Z",
     "iopub.status.busy": "2022-01-15T00:25:03.377517Z",
     "iopub.status.idle": "2022-01-15T00:25:03.392599Z",
     "shell.execute_reply": "2022-01-15T00:25:03.392090Z"
    },
    "papermill": {
     "duration": 0.054147,
     "end_time": "2022-01-15T00:25:03.392739",
     "exception": false,
     "start_time": "2022-01-15T00:25:03.338592",
     "status": "completed"
    },
    "tags": []
   },
   "outputs": [],
   "source": [
    "nn_learner = Learner(loss, model_nn, opt, config.num_epochs)\n",
    "acc_nn = ClfCallback(nn_learner, config.bs, training_data_x , testing_data_x, training_data_y, testing_data_y)\n",
    "nn_learner.set_callbacks([acc_nn])"
   ]
  },
  {
   "cell_type": "code",
   "execution_count": 21,
   "id": "877b6cc7",
   "metadata": {
    "execution": {
     "iopub.execute_input": "2022-01-15T00:25:03.463221Z",
     "iopub.status.busy": "2022-01-15T00:25:03.462572Z",
     "iopub.status.idle": "2022-01-15T00:25:03.476673Z",
     "shell.execute_reply": "2022-01-15T00:25:03.476143Z"
    },
    "papermill": {
     "duration": 0.051986,
     "end_time": "2022-01-15T00:25:03.476819",
     "exception": false,
     "start_time": "2022-01-15T00:25:03.424833",
     "status": "completed"
    },
    "tags": []
   },
   "outputs": [],
   "source": [
    "lr_learner = Learner(loss, model_lr, opt, config.num_epochs)\n",
    "acc_lr = ClfCallback(lr_learner, config.bs, training_data_x , testing_data_x, training_data_y, testing_data_y)\n",
    "lr_learner.set_callbacks([acc_lr])"
   ]
  },
  {
   "cell_type": "code",
   "execution_count": 22,
   "id": "d9b133c3",
   "metadata": {
    "execution": {
     "iopub.execute_input": "2022-01-15T00:25:03.545171Z",
     "iopub.status.busy": "2022-01-15T00:25:03.544553Z",
     "iopub.status.idle": "2022-01-15T00:26:34.824320Z",
     "shell.execute_reply": "2022-01-15T00:26:34.825168Z"
    },
    "papermill": {
     "duration": 91.316517,
     "end_time": "2022-01-15T00:26:34.825335",
     "exception": false,
     "start_time": "2022-01-15T00:25:03.508818",
     "status": "completed"
    },
    "tags": []
   },
   "outputs": [
    {
     "name": "stdout",
     "output_type": "stream",
     "text": [
      "Epoch 0, Loss 0.2484\n",
      "Training Accuracy: 0.6158, Testing Accuracy: 0.5897\n",
      "\n"
     ]
    },
    {
     "name": "stdout",
     "output_type": "stream",
     "text": [
      "Epoch 10, Loss 0.2317\n",
      "Training Accuracy: 0.8746, Testing Accuracy: 0.8770\n",
      "\n"
     ]
    },
    {
     "name": "stdout",
     "output_type": "stream",
     "text": [
      "Epoch 20, Loss 0.1397\n",
      "Training Accuracy: 0.9074, Testing Accuracy: 0.9173\n",
      "\n"
     ]
    },
    {
     "name": "stdout",
     "output_type": "stream",
     "text": [
      "Epoch 30, Loss 0.0692\n",
      "Training Accuracy: 0.9357, Testing Accuracy: 0.9415\n",
      "\n"
     ]
    },
    {
     "name": "stdout",
     "output_type": "stream",
     "text": [
      "Epoch 40, Loss 0.0496\n",
      "Training Accuracy: 0.9477, Testing Accuracy: 0.9582\n",
      "\n"
     ]
    },
    {
     "name": "stdout",
     "output_type": "stream",
     "text": [
      "Epoch 50, Loss 0.0413\n",
      "Training Accuracy: 0.9538, Testing Accuracy: 0.9647\n",
      "\n"
     ]
    },
    {
     "name": "stdout",
     "output_type": "stream",
     "text": [
      "Epoch 60, Loss 0.0368\n",
      "Training Accuracy: 0.9600, Testing Accuracy: 0.9632\n",
      "\n"
     ]
    },
    {
     "name": "stdout",
     "output_type": "stream",
     "text": [
      "Epoch 70, Loss 0.0339\n",
      "Training Accuracy: 0.9621, Testing Accuracy: 0.9652\n",
      "\n"
     ]
    },
    {
     "name": "stdout",
     "output_type": "stream",
     "text": [
      "Epoch 80, Loss 0.0318\n",
      "Training Accuracy: 0.9639, Testing Accuracy: 0.9662\n",
      "\n"
     ]
    },
    {
     "name": "stdout",
     "output_type": "stream",
     "text": [
      "Epoch 90, Loss 0.0302\n",
      "Training Accuracy: 0.9653, Testing Accuracy: 0.9677\n",
      "\n"
     ]
    },
    {
     "name": "stdout",
     "output_type": "stream",
     "text": [
      "Epoch 100, Loss 0.0289\n",
      "Training Accuracy: 0.9666, Testing Accuracy: 0.9693\n",
      "\n"
     ]
    },
    {
     "name": "stdout",
     "output_type": "stream",
     "text": [
      "Epoch 110, Loss 0.0279\n",
      "Training Accuracy: 0.9681, Testing Accuracy: 0.9698\n",
      "\n"
     ]
    },
    {
     "name": "stdout",
     "output_type": "stream",
     "text": [
      "Epoch 120, Loss 0.0269\n",
      "Training Accuracy: 0.9689, Testing Accuracy: 0.9698\n",
      "\n"
     ]
    },
    {
     "name": "stdout",
     "output_type": "stream",
     "text": [
      "Epoch 130, Loss 0.0261\n",
      "Training Accuracy: 0.9697, Testing Accuracy: 0.9698\n",
      "\n"
     ]
    },
    {
     "name": "stdout",
     "output_type": "stream",
     "text": [
      "Epoch 140, Loss 0.0254\n",
      "Training Accuracy: 0.9702, Testing Accuracy: 0.9682\n",
      "\n"
     ]
    },
    {
     "name": "stdout",
     "output_type": "stream",
     "text": [
      "Epoch 150, Loss 0.0248\n",
      "Training Accuracy: 0.9708, Testing Accuracy: 0.9677\n",
      "\n"
     ]
    },
    {
     "name": "stdout",
     "output_type": "stream",
     "text": [
      "Epoch 160, Loss 0.0242\n",
      "Training Accuracy: 0.9717, Testing Accuracy: 0.9677\n",
      "\n"
     ]
    },
    {
     "name": "stdout",
     "output_type": "stream",
     "text": [
      "Epoch 170, Loss 0.0237\n",
      "Training Accuracy: 0.9725, Testing Accuracy: 0.9688\n",
      "\n"
     ]
    },
    {
     "name": "stdout",
     "output_type": "stream",
     "text": [
      "Epoch 180, Loss 0.0232\n",
      "Training Accuracy: 0.9730, Testing Accuracy: 0.9682\n",
      "\n"
     ]
    },
    {
     "name": "stdout",
     "output_type": "stream",
     "text": [
      "Epoch 190, Loss 0.0227\n",
      "Training Accuracy: 0.9735, Testing Accuracy: 0.9682\n",
      "\n"
     ]
    },
    {
     "name": "stdout",
     "output_type": "stream",
     "text": [
      "Epoch 200, Loss 0.0222\n",
      "Training Accuracy: 0.9739, Testing Accuracy: 0.9693\n",
      "\n"
     ]
    },
    {
     "name": "stdout",
     "output_type": "stream",
     "text": [
      "Epoch 210, Loss 0.0218\n",
      "Training Accuracy: 0.9745, Testing Accuracy: 0.9698\n",
      "\n"
     ]
    },
    {
     "name": "stdout",
     "output_type": "stream",
     "text": [
      "Epoch 220, Loss 0.0214\n",
      "Training Accuracy: 0.9752, Testing Accuracy: 0.9693\n",
      "\n"
     ]
    },
    {
     "name": "stdout",
     "output_type": "stream",
     "text": [
      "Epoch 230, Loss 0.021\n",
      "Training Accuracy: 0.9756, Testing Accuracy: 0.9698\n",
      "\n"
     ]
    },
    {
     "name": "stdout",
     "output_type": "stream",
     "text": [
      "Epoch 240, Loss 0.0206\n",
      "Training Accuracy: 0.9764, Testing Accuracy: 0.9703\n",
      "\n"
     ]
    },
    {
     "data": {
      "text/plain": [
       "0.026616601093100652"
      ]
     },
     "execution_count": 22,
     "metadata": {},
     "output_type": "execute_result"
    }
   ],
   "source": [
    "nn_learner.train_loop(dl)"
   ]
  },
  {
   "cell_type": "code",
   "execution_count": 23,
   "id": "e0163366",
   "metadata": {
    "execution": {
     "iopub.execute_input": "2022-01-15T00:26:34.912946Z",
     "iopub.status.busy": "2022-01-15T00:26:34.912338Z",
     "iopub.status.idle": "2022-01-15T00:26:50.592913Z",
     "shell.execute_reply": "2022-01-15T00:26:50.593784Z"
    },
    "papermill": {
     "duration": 15.72922,
     "end_time": "2022-01-15T00:26:50.593953",
     "exception": false,
     "start_time": "2022-01-15T00:26:34.864733",
     "status": "completed"
    },
    "tags": []
   },
   "outputs": [
    {
     "name": "stdout",
     "output_type": "stream",
     "text": [
      "Epoch 0, Loss 0.2331\n",
      "Training Accuracy: 0.6879, Testing Accuracy: 0.7112\n",
      "\n"
     ]
    },
    {
     "name": "stdout",
     "output_type": "stream",
     "text": [
      "Epoch 10, Loss 0.1059\n",
      "Training Accuracy: 0.8986, Testing Accuracy: 0.9148\n",
      "\n"
     ]
    },
    {
     "name": "stdout",
     "output_type": "stream",
     "text": [
      "Epoch 20, Loss 0.0814\n",
      "Training Accuracy: 0.9214, Testing Accuracy: 0.9320\n",
      "\n"
     ]
    },
    {
     "name": "stdout",
     "output_type": "stream",
     "text": [
      "Epoch 30, Loss 0.07\n",
      "Training Accuracy: 0.9310, Testing Accuracy: 0.9425\n",
      "\n"
     ]
    },
    {
     "name": "stdout",
     "output_type": "stream",
     "text": [
      "Epoch 40, Loss 0.0631\n",
      "Training Accuracy: 0.9364, Testing Accuracy: 0.9466\n",
      "\n"
     ]
    },
    {
     "name": "stdout",
     "output_type": "stream",
     "text": [
      "Epoch 50, Loss 0.0584\n",
      "Training Accuracy: 0.9412, Testing Accuracy: 0.9501\n",
      "\n"
     ]
    },
    {
     "name": "stdout",
     "output_type": "stream",
     "text": [
      "Epoch 60, Loss 0.0549\n",
      "Training Accuracy: 0.9435, Testing Accuracy: 0.9546\n",
      "\n"
     ]
    },
    {
     "name": "stdout",
     "output_type": "stream",
     "text": [
      "Epoch 70, Loss 0.0523\n",
      "Training Accuracy: 0.9462, Testing Accuracy: 0.9582\n",
      "\n"
     ]
    },
    {
     "name": "stdout",
     "output_type": "stream",
     "text": [
      "Epoch 80, Loss 0.0502\n",
      "Training Accuracy: 0.9488, Testing Accuracy: 0.9597\n",
      "\n"
     ]
    },
    {
     "name": "stdout",
     "output_type": "stream",
     "text": [
      "Epoch 90, Loss 0.0484\n",
      "Training Accuracy: 0.9501, Testing Accuracy: 0.9622\n",
      "\n"
     ]
    },
    {
     "name": "stdout",
     "output_type": "stream",
     "text": [
      "Epoch 100, Loss 0.0469\n",
      "Training Accuracy: 0.9516, Testing Accuracy: 0.9627\n",
      "\n"
     ]
    },
    {
     "name": "stdout",
     "output_type": "stream",
     "text": [
      "Epoch 110, Loss 0.0457\n",
      "Training Accuracy: 0.9528, Testing Accuracy: 0.9642\n",
      "\n"
     ]
    },
    {
     "name": "stdout",
     "output_type": "stream",
     "text": [
      "Epoch 120, Loss 0.0446\n",
      "Training Accuracy: 0.9535, Testing Accuracy: 0.9652\n",
      "\n"
     ]
    },
    {
     "name": "stdout",
     "output_type": "stream",
     "text": [
      "Epoch 130, Loss 0.0436\n",
      "Training Accuracy: 0.9542, Testing Accuracy: 0.9657\n",
      "\n"
     ]
    },
    {
     "name": "stdout",
     "output_type": "stream",
     "text": [
      "Epoch 140, Loss 0.0428\n",
      "Training Accuracy: 0.9548, Testing Accuracy: 0.9667\n",
      "\n"
     ]
    },
    {
     "name": "stdout",
     "output_type": "stream",
     "text": [
      "Epoch 150, Loss 0.042\n",
      "Training Accuracy: 0.9560, Testing Accuracy: 0.9677\n",
      "\n"
     ]
    },
    {
     "name": "stdout",
     "output_type": "stream",
     "text": [
      "Epoch 160, Loss 0.0413\n",
      "Training Accuracy: 0.9564, Testing Accuracy: 0.9672\n",
      "\n"
     ]
    },
    {
     "name": "stdout",
     "output_type": "stream",
     "text": [
      "Epoch 170, Loss 0.0407\n",
      "Training Accuracy: 0.9567, Testing Accuracy: 0.9672\n",
      "\n"
     ]
    },
    {
     "name": "stdout",
     "output_type": "stream",
     "text": [
      "Epoch 180, Loss 0.0401\n",
      "Training Accuracy: 0.9574, Testing Accuracy: 0.9667\n",
      "\n"
     ]
    },
    {
     "name": "stdout",
     "output_type": "stream",
     "text": [
      "Epoch 190, Loss 0.0396\n",
      "Training Accuracy: 0.9579, Testing Accuracy: 0.9662\n",
      "\n"
     ]
    },
    {
     "name": "stdout",
     "output_type": "stream",
     "text": [
      "Epoch 200, Loss 0.0391\n",
      "Training Accuracy: 0.9583, Testing Accuracy: 0.9662\n",
      "\n"
     ]
    },
    {
     "name": "stdout",
     "output_type": "stream",
     "text": [
      "Epoch 210, Loss 0.0386\n",
      "Training Accuracy: 0.9583, Testing Accuracy: 0.9662\n",
      "\n"
     ]
    },
    {
     "name": "stdout",
     "output_type": "stream",
     "text": [
      "Epoch 220, Loss 0.0382\n",
      "Training Accuracy: 0.9586, Testing Accuracy: 0.9662\n",
      "\n"
     ]
    },
    {
     "name": "stdout",
     "output_type": "stream",
     "text": [
      "Epoch 230, Loss 0.0378\n",
      "Training Accuracy: 0.9589, Testing Accuracy: 0.9662\n",
      "\n"
     ]
    },
    {
     "name": "stdout",
     "output_type": "stream",
     "text": [
      "Epoch 240, Loss 0.0374\n",
      "Training Accuracy: 0.9592, Testing Accuracy: 0.9672\n",
      "\n"
     ]
    },
    {
     "data": {
      "text/plain": [
       "0.03468597802514007"
      ]
     },
     "execution_count": 23,
     "metadata": {},
     "output_type": "execute_result"
    }
   ],
   "source": [
    "lr_learner.train_loop(dl)"
   ]
  },
  {
   "cell_type": "code",
   "execution_count": 24,
   "id": "ca410940",
   "metadata": {
    "execution": {
     "iopub.execute_input": "2022-01-15T00:26:50.703156Z",
     "iopub.status.busy": "2022-01-15T00:26:50.702518Z",
     "iopub.status.idle": "2022-01-15T00:26:50.972536Z",
     "shell.execute_reply": "2022-01-15T00:26:50.973018Z"
    },
    "papermill": {
     "duration": 0.331218,
     "end_time": "2022-01-15T00:26:50.973177",
     "exception": false,
     "start_time": "2022-01-15T00:26:50.641959",
     "status": "completed"
    },
    "tags": []
   },
   "outputs": [
    {
     "data": {
      "text/plain": [
       "<matplotlib.legend.Legend at 0x7fa0ba157c88>"
      ]
     },
     "execution_count": 24,
     "metadata": {},
     "output_type": "execute_result"
    },
    {
     "data": {
      "image/png": "[encoded data removed]",
      "text/plain": [
       "<Figure size 1080x720 with 1 Axes>"
      ]
     },
     "metadata": {
      "needs_background": "light"
     },
     "output_type": "display_data"
    }
   ],
   "source": [
    "#comparing the results of NN and LR\n",
    "plt.figure(figsize=(15,10))\n",
    "\n",
    "# Neural Network plots\n",
    "plt.plot(acc_nn.accuracies, 'r-', label = \"Training Accuracies - NN\")\n",
    "plt.plot(acc_nn.test_accuracies, 'g-', label = \"Testing Accuracies - NN\")\n",
    "\n",
    "# Logistic Regression plots\n",
    "plt.plot(acc_lr.accuracies, 'k-', label = \"Training Accuracies - LR\")\n",
    "plt.plot(acc_lr.test_accuracies, 'b-', label = \"Testing Accuracies - LR\")\n",
    "plt.legend()"
   ]
  },
  {
   "cell_type": "markdown",
   "id": "80dfb35c",
   "metadata": {
    "papermill": {
     "duration": 0.051866,
     "end_time": "2022-01-15T00:26:51.080430",
     "exception": false,
     "start_time": "2022-01-15T00:26:51.028564",
     "status": "completed"
    },
    "tags": []
   },
   "source": [
    "#### Plotting the outputs of this layer of the NN.\n"
   ]
  },
  {
   "cell_type": "code",
   "execution_count": 25,
   "id": "45eb2ff5",
   "metadata": {
    "execution": {
     "iopub.execute_input": "2022-01-15T00:26:51.186707Z",
     "iopub.status.busy": "2022-01-15T00:26:51.184741Z",
     "iopub.status.idle": "2022-01-15T00:26:51.208950Z",
     "shell.execute_reply": "2022-01-15T00:26:51.209468Z"
    },
    "papermill": {
     "duration": 0.080225,
     "end_time": "2022-01-15T00:26:51.209719",
     "exception": false,
     "start_time": "2022-01-15T00:26:51.129494",
     "status": "completed"
    },
    "tags": []
   },
   "outputs": [],
   "source": [
    "new_model = Model(layers[:-2])\n",
    "testing_plot = new_model(testing_data_x)"
   ]
  },
  {
   "cell_type": "code",
   "execution_count": 26,
   "id": "4c0a5485",
   "metadata": {
    "execution": {
     "iopub.execute_input": "2022-01-15T00:26:51.327463Z",
     "iopub.status.busy": "2022-01-15T00:26:51.326836Z",
     "iopub.status.idle": "2022-01-15T00:26:51.564895Z",
     "shell.execute_reply": "2022-01-15T00:26:51.565355Z"
    },
    "papermill": {
     "duration": 0.305926,
     "end_time": "2022-01-15T00:26:51.565515",
     "exception": false,
     "start_time": "2022-01-15T00:26:51.259589",
     "status": "completed"
    },
    "tags": []
   },
   "outputs": [
    {
     "data": {
      "text/plain": [
       "Text(0.5, 1.0, 'Outputs')"
      ]
     },
     "execution_count": 26,
     "metadata": {},
     "output_type": "execute_result"
    },
    {
     "data": {
      "image/png": "[encoded data removed]",
      "text/plain": [
       "<Figure size 576x504 with 1 Axes>"
      ]
     },
     "metadata": {
      "needs_background": "light"
     },
     "output_type": "display_data"
    }
   ],
   "source": [
    "# Plotting the scatter plot of points and color coding by class\n",
    "plt.figure(figsize=(8,7))\n",
    "plt.scatter(testing_plot[:,0], testing_plot[:,1], alpha = 0.1, c = y_test.ravel());\n",
    "plt.title('Outputs')"
   ]
  },
  {
   "cell_type": "markdown",
   "id": "a74fcf8f",
   "metadata": {
    "papermill": {
     "duration": 0.051981,
     "end_time": "2022-01-15T00:26:51.670983",
     "exception": false,
     "start_time": "2022-01-15T00:26:51.619002",
     "status": "completed"
    },
    "tags": []
   },
   "source": [
    "Probability contours"
   ]
  },
  {
   "cell_type": "code",
   "execution_count": 27,
   "id": "d0afc8e3",
   "metadata": {
    "execution": {
     "iopub.execute_input": "2022-01-15T00:26:51.779830Z",
     "iopub.status.busy": "2022-01-15T00:26:51.779172Z",
     "iopub.status.idle": "2022-01-15T00:26:51.794287Z",
     "shell.execute_reply": "2022-01-15T00:26:51.793733Z"
    },
    "papermill": {
     "duration": 0.071839,
     "end_time": "2022-01-15T00:26:51.794423",
     "exception": false,
     "start_time": "2022-01-15T00:26:51.722584",
     "status": "completed"
    },
    "tags": []
   },
   "outputs": [],
   "source": [
    "model_prob = Model(layers[-2:]) "
   ]
  },
  {
   "cell_type": "code",
   "execution_count": 28,
   "id": "9b96e238",
   "metadata": {
    "execution": {
     "iopub.execute_input": "2022-01-15T00:26:51.937664Z",
     "iopub.status.busy": "2022-01-15T00:26:51.937029Z",
     "iopub.status.idle": "2022-01-15T00:26:51.952515Z",
     "shell.execute_reply": "2022-01-15T00:26:51.951819Z"
    },
    "papermill": {
     "duration": 0.072035,
     "end_time": "2022-01-15T00:26:51.952668",
     "exception": false,
     "start_time": "2022-01-15T00:26:51.880633",
     "status": "completed"
    },
    "tags": []
   },
   "outputs": [],
   "source": [
    "#creating the x and y ranges according to the above generated plot.\n",
    "x_range = np.linspace(-4, 1, 100) \n",
    "y_range = np.linspace(-6, 6, 100) \n",
    "x_grid, y_grid = np.meshgrid(x_range, y_range) # x_grid and y_grig are of size 100 X 100\n",
    "\n",
    "# converting x_grid and y_grid to continuous arrays\n",
    "x_gridflat = np.ravel(x_grid)\n",
    "y_gridflat = np.ravel(y_grid)\n",
    "\n",
    "# The last layer of the current model takes two columns as input. Hence transpose of np.vstack() is required.\n",
    "X = np.vstack((x_gridflat, y_gridflat)).T\n",
    "\n",
    "prob_contour = model_prob(X).reshape(100,100) "
   ]
  },
  {
   "cell_type": "code",
   "execution_count": 29,
   "id": "da72499a",
   "metadata": {
    "execution": {
     "iopub.execute_input": "2022-01-15T00:26:52.069704Z",
     "iopub.status.busy": "2022-01-15T00:26:52.068699Z",
     "iopub.status.idle": "2022-01-15T00:26:52.377641Z",
     "shell.execute_reply": "2022-01-15T00:26:52.376687Z"
    },
    "papermill": {
     "duration": 0.370755,
     "end_time": "2022-01-15T00:26:52.377786",
     "exception": false,
     "start_time": "2022-01-15T00:26:52.007031",
     "status": "completed"
    },
    "tags": []
   },
   "outputs": [
    {
     "data": {
      "image/png": "[encoded data removed]",
      "text/plain": [
       "<Figure size 720x648 with 1 Axes>"
      ]
     },
     "metadata": {
      "needs_background": "light"
     },
     "output_type": "display_data"
    }
   ],
   "source": [
    "plt.figure(figsize=(10,9))\n",
    "plt.scatter(testing_plot[:,0], testing_plot[:,1], alpha = 0.1, c = y_test.ravel())\n",
    "contours = plt.contour(x_grid,y_grid,prob_contour)\n",
    "plt.title('Probability Contours')\n",
    "plt.clabel(contours, inline = True );"
   ]
  },
  {
   "cell_type": "code",
   "execution_count": null,
   "id": "e81b4ac7",
   "metadata": {
    "papermill": {
     "duration": 0.056633,
     "end_time": "2022-01-15T00:26:52.489624",
     "exception": false,
     "start_time": "2022-01-15T00:26:52.432991",
     "status": "completed"
    },
    "tags": []
   },
   "outputs": [],
   "source": []
  }
 ],
 "metadata": {
  "kernelspec": {
   "display_name": "Python 3",
   "language": "python",
   "name": "python3"
  },
  "language_info": {
   "codemirror_mode": {
    "name": "ipython",
    "version": 3
   },
   "file_extension": ".py",
   "mimetype": "text/x-python",
   "name": "python",
   "nbconvert_exporter": "python",
   "pygments_lexer": "ipython3",
   "version": "3.6.15"
  },
  "papermill": {
   "default_parameters": {},
   "duration": 117.100192,
   "end_time": "2022-01-15T00:26:52.964082",
   "environment_variables": {},
   "exception": null,
   "input_path": "2020-08-11-part2.ipynb",
   "output_path": "2020-08-11-part2.ipynb",
   "parameters": {},
   "start_time": "2022-01-15T00:24:55.863890",
   "version": "2.3.3"
  }
 },
 "nbformat": 4,
 "nbformat_minor": 5
}