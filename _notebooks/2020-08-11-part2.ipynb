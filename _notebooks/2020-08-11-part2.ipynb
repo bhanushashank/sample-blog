{
 "cells": [
  {
   "cell_type": "markdown",
   "id": "98380cd3",
   "metadata": {
    "papermill": {
     "duration": 0.031749,
     "end_time": "2022-05-02T10:11:16.653469",
     "exception": false,
     "start_time": "2022-05-02T10:11:16.621720",
     "status": "completed"
    },
    "tags": []
   },
   "source": [
    "# Distinguish Your Own Digits (DYOD)"
   ]
  },
  {
   "cell_type": "markdown",
   "id": "ef31240d",
   "metadata": {
    "papermill": {
     "duration": 0.025853,
     "end_time": "2022-05-02T10:11:16.705377",
     "exception": false,
     "start_time": "2022-05-02T10:11:16.679524",
     "status": "completed"
    },
    "tags": []
   },
   "source": [
    "You are going to write a classifier that distinguishes between the number 3 and number 8."
   ]
  },
  {
   "cell_type": "code",
   "execution_count": 1,
   "id": "b15c8646",
   "metadata": {
    "execution": {
     "iopub.execute_input": "2022-05-02T10:11:16.769384Z",
     "iopub.status.busy": "2022-05-02T10:11:16.768660Z",
     "iopub.status.idle": "2022-05-02T10:11:16.780092Z",
     "shell.execute_reply": "2022-05-02T10:11:16.780486Z"
    },
    "papermill": {
     "duration": 0.051201,
     "end_time": "2022-05-02T10:11:16.780625",
     "exception": false,
     "start_time": "2022-05-02T10:11:16.729424",
     "status": "completed"
    },
    "tags": []
   },
   "outputs": [],
   "source": [
    "%load_ext autoreload\n",
    "%autoreload 2"
   ]
  },
  {
   "cell_type": "code",
   "execution_count": 2,
   "id": "22ef38dc",
   "metadata": {
    "execution": {
     "iopub.execute_input": "2022-05-02T10:11:16.835300Z",
     "iopub.status.busy": "2022-05-02T10:11:16.834687Z",
     "iopub.status.idle": "2022-05-02T10:11:17.403454Z",
     "shell.execute_reply": "2022-05-02T10:11:17.402928Z"
    },
    "papermill": {
     "duration": 0.598578,
     "end_time": "2022-05-02T10:11:17.403595",
     "exception": false,
     "start_time": "2022-05-02T10:11:16.805017",
     "status": "completed"
    },
    "tags": []
   },
   "outputs": [],
   "source": [
    "%matplotlib inline\n",
    "import numpy as np\n",
    "import matplotlib.pyplot as plt\n",
    "import pandas as pd"
   ]
  },
  {
   "cell_type": "markdown",
   "id": "ba036198",
   "metadata": {
    "papermill": {
     "duration": 0.025077,
     "end_time": "2022-05-02T10:11:17.454062",
     "exception": false,
     "start_time": "2022-05-02T10:11:17.428985",
     "status": "completed"
    },
    "tags": []
   },
   "source": [
    "From the command line run `pip install mnist`. This is a library that will help you bring down the mnist dataset. If you run this from a notebook, you need to put  `!pip install mnist` in a cell by itself."
   ]
  },
  {
   "cell_type": "code",
   "execution_count": 3,
   "id": "bb6ad8a1",
   "metadata": {
    "execution": {
     "iopub.execute_input": "2022-05-02T10:11:17.507438Z",
     "iopub.status.busy": "2022-05-02T10:11:17.506856Z",
     "iopub.status.idle": "2022-05-02T10:11:19.332092Z",
     "shell.execute_reply": "2022-05-02T10:11:19.331526Z"
    },
    "papermill": {
     "duration": 1.853292,
     "end_time": "2022-05-02T10:11:19.332224",
     "exception": false,
     "start_time": "2022-05-02T10:11:17.478932",
     "status": "completed"
    },
    "tags": []
   },
   "outputs": [
    {
     "name": "stdout",
     "output_type": "stream",
     "text": [
      "Collecting mnist\r\n"
     ]
    },
    {
     "name": "stdout",
     "output_type": "stream",
     "text": [
      "  Downloading mnist-0.2.2-py2.py3-none-any.whl (3.5 kB)\r\n",
      "Requirement already satisfied: numpy in /opt/hostedtoolcache/Python/3.6.15/x64/lib/python3.6/site-packages (from mnist) (1.19.5)\r\n"
     ]
    },
    {
     "name": "stdout",
     "output_type": "stream",
     "text": [
      "Installing collected packages: mnist\r\n"
     ]
    },
    {
     "name": "stdout",
     "output_type": "stream",
     "text": [
      "Successfully installed mnist-0.2.2\r\n"
     ]
    }
   ],
   "source": [
    "!pip install mnist"
   ]
  },
  {
   "cell_type": "markdown",
   "id": "69df9c9a",
   "metadata": {
    "papermill": {
     "duration": 0.025919,
     "end_time": "2022-05-02T10:11:19.384565",
     "exception": false,
     "start_time": "2022-05-02T10:11:19.358646",
     "status": "completed"
    },
    "tags": []
   },
   "source": [
    "## Preparing the Data"
   ]
  },
  {
   "cell_type": "code",
   "execution_count": 4,
   "id": "7f69d806",
   "metadata": {
    "execution": {
     "iopub.execute_input": "2022-05-02T10:11:19.442631Z",
     "iopub.status.busy": "2022-05-02T10:11:19.442110Z",
     "iopub.status.idle": "2022-05-02T10:11:19.457883Z",
     "shell.execute_reply": "2022-05-02T10:11:19.457446Z"
    },
    "papermill": {
     "duration": 0.046509,
     "end_time": "2022-05-02T10:11:19.458000",
     "exception": false,
     "start_time": "2022-05-02T10:11:19.411491",
     "status": "completed"
    },
    "tags": []
   },
   "outputs": [],
   "source": [
    "import mnist"
   ]
  },
  {
   "cell_type": "code",
   "execution_count": 5,
   "id": "a411e44f",
   "metadata": {
    "execution": {
     "iopub.execute_input": "2022-05-02T10:11:19.514528Z",
     "iopub.status.busy": "2022-05-02T10:11:19.514012Z",
     "iopub.status.idle": "2022-05-02T10:11:20.055989Z",
     "shell.execute_reply": "2022-05-02T10:11:20.055057Z"
    },
    "papermill": {
     "duration": 0.571695,
     "end_time": "2022-05-02T10:11:20.056220",
     "exception": false,
     "start_time": "2022-05-02T10:11:19.484525",
     "status": "completed"
    },
    "tags": []
   },
   "outputs": [],
   "source": [
    "train_images = mnist.train_images()\n",
    "train_labels = mnist.train_labels()"
   ]
  },
  {
   "cell_type": "code",
   "execution_count": 6,
   "id": "dceab3a5",
   "metadata": {
    "execution": {
     "iopub.execute_input": "2022-05-02T10:11:20.113752Z",
     "iopub.status.busy": "2022-05-02T10:11:20.113199Z",
     "iopub.status.idle": "2022-05-02T10:11:20.131926Z",
     "shell.execute_reply": "2022-05-02T10:11:20.131540Z"
    },
    "papermill": {
     "duration": 0.047459,
     "end_time": "2022-05-02T10:11:20.132032",
     "exception": false,
     "start_time": "2022-05-02T10:11:20.084573",
     "status": "completed"
    },
    "tags": []
   },
   "outputs": [
    {
     "data": {
      "text/plain": [
       "((60000, 28, 28), (60000,))"
      ]
     },
     "execution_count": 6,
     "metadata": {},
     "output_type": "execute_result"
    }
   ],
   "source": [
    "train_images.shape, train_labels.shape"
   ]
  },
  {
   "cell_type": "code",
   "execution_count": 7,
   "id": "f50dc2bb",
   "metadata": {
    "execution": {
     "iopub.execute_input": "2022-05-02T10:11:20.188488Z",
     "iopub.status.busy": "2022-05-02T10:11:20.187933Z",
     "iopub.status.idle": "2022-05-02T10:11:20.377112Z",
     "shell.execute_reply": "2022-05-02T10:11:20.376471Z"
    },
    "papermill": {
     "duration": 0.221309,
     "end_time": "2022-05-02T10:11:20.377280",
     "exception": false,
     "start_time": "2022-05-02T10:11:20.155971",
     "status": "completed"
    },
    "tags": []
   },
   "outputs": [],
   "source": [
    "test_images = mnist.test_images()\n",
    "test_labels = mnist.test_labels()"
   ]
  },
  {
   "cell_type": "code",
   "execution_count": 8,
   "id": "fc38cf1b",
   "metadata": {
    "execution": {
     "iopub.execute_input": "2022-05-02T10:11:20.438171Z",
     "iopub.status.busy": "2022-05-02T10:11:20.437679Z",
     "iopub.status.idle": "2022-05-02T10:11:20.450477Z",
     "shell.execute_reply": "2022-05-02T10:11:20.450044Z"
    },
    "papermill": {
     "duration": 0.043725,
     "end_time": "2022-05-02T10:11:20.450586",
     "exception": false,
     "start_time": "2022-05-02T10:11:20.406861",
     "status": "completed"
    },
    "tags": []
   },
   "outputs": [
    {
     "data": {
      "text/plain": [
       "((10000, 28, 28), (10000,))"
      ]
     },
     "execution_count": 8,
     "metadata": {},
     "output_type": "execute_result"
    }
   ],
   "source": [
    "test_images.shape, test_labels.shape"
   ]
  },
  {
   "cell_type": "code",
   "execution_count": 9,
   "id": "f9ed8fe0",
   "metadata": {
    "execution": {
     "iopub.execute_input": "2022-05-02T10:11:20.505303Z",
     "iopub.status.busy": "2022-05-02T10:11:20.504723Z",
     "iopub.status.idle": "2022-05-02T10:11:20.650455Z",
     "shell.execute_reply": "2022-05-02T10:11:20.650036Z"
    },
    "papermill": {
     "duration": 0.175351,
     "end_time": "2022-05-02T10:11:20.650569",
     "exception": false,
     "start_time": "2022-05-02T10:11:20.475218",
     "status": "completed"
    },
    "tags": []
   },
   "outputs": [
    {
     "name": "stdout",
     "output_type": "stream",
     "text": [
      "2\n"
     ]
    },
    {
     "data": {
      "text/plain": [
       "<matplotlib.image.AxesImage at 0x7f56e51dd390>"
      ]
     },
     "execution_count": 9,
     "metadata": {},
     "output_type": "execute_result"
    },
    {
     "data": {
      "image/png": "[encoded data removed]",
      "text/plain": [
       "<Figure size 432x288 with 1 Axes>"
      ]
     },
     "metadata": {
      "needs_background": "light"
     },
     "output_type": "display_data"
    }
   ],
   "source": [
    "image_index = 7776 # You may select anything up to 60,000\n",
    "print(train_labels[image_index]) \n",
    "plt.imshow(train_images[image_index], cmap='Greys')"
   ]
  },
  {
   "cell_type": "markdown",
   "id": "a8d2388d",
   "metadata": {
    "papermill": {
     "duration": 0.027026,
     "end_time": "2022-05-02T10:11:20.705163",
     "exception": false,
     "start_time": "2022-05-02T10:11:20.678137",
     "status": "completed"
    },
    "tags": []
   },
   "source": [
    "## Filter data to get 3 and 8 out"
   ]
  },
  {
   "cell_type": "code",
   "execution_count": 10,
   "id": "776f7fc7",
   "metadata": {
    "execution": {
     "iopub.execute_input": "2022-05-02T10:11:20.764360Z",
     "iopub.status.busy": "2022-05-02T10:11:20.763760Z",
     "iopub.status.idle": "2022-05-02T10:11:20.784192Z",
     "shell.execute_reply": "2022-05-02T10:11:20.783654Z"
    },
    "papermill": {
     "duration": 0.051874,
     "end_time": "2022-05-02T10:11:20.784325",
     "exception": false,
     "start_time": "2022-05-02T10:11:20.732451",
     "status": "completed"
    },
    "tags": []
   },
   "outputs": [],
   "source": [
    "train_filter = np.where((train_labels == 3 ) | (train_labels == 8))\n",
    "test_filter = np.where((test_labels == 3) | (test_labels == 8))\n",
    "X_train, y_train = train_images[train_filter], train_labels[train_filter]\n",
    "X_test, y_test = test_images[test_filter], test_labels[test_filter]"
   ]
  },
  {
   "cell_type": "markdown",
   "id": "948f0b7e",
   "metadata": {
    "papermill": {
     "duration": 0.024479,
     "end_time": "2022-05-02T10:11:20.835548",
     "exception": false,
     "start_time": "2022-05-02T10:11:20.811069",
     "status": "completed"
    },
    "tags": []
   },
   "source": [
    "We normalize the pizel values in the 0 to 1 range"
   ]
  },
  {
   "cell_type": "code",
   "execution_count": 11,
   "id": "ee4c2166",
   "metadata": {
    "execution": {
     "iopub.execute_input": "2022-05-02T10:11:20.891807Z",
     "iopub.status.busy": "2022-05-02T10:11:20.891184Z",
     "iopub.status.idle": "2022-05-02T10:11:20.944421Z",
     "shell.execute_reply": "2022-05-02T10:11:20.943882Z"
    },
    "papermill": {
     "duration": 0.083073,
     "end_time": "2022-05-02T10:11:20.944549",
     "exception": false,
     "start_time": "2022-05-02T10:11:20.861476",
     "status": "completed"
    },
    "tags": []
   },
   "outputs": [],
   "source": [
    "X_train = X_train/255.\n",
    "X_test = X_test/255."
   ]
  },
  {
   "cell_type": "markdown",
   "id": "ddcf4fab",
   "metadata": {
    "papermill": {
     "duration": 0.026294,
     "end_time": "2022-05-02T10:11:20.997516",
     "exception": false,
     "start_time": "2022-05-02T10:11:20.971222",
     "status": "completed"
    },
    "tags": []
   },
   "source": [
    "And setup the labels as 1 (when the digit is 3) and 0 (when the digit is 8)"
   ]
  },
  {
   "cell_type": "code",
   "execution_count": 12,
   "id": "7dc908f2",
   "metadata": {
    "execution": {
     "iopub.execute_input": "2022-05-02T10:11:21.057571Z",
     "iopub.status.busy": "2022-05-02T10:11:21.056963Z",
     "iopub.status.idle": "2022-05-02T10:11:21.069667Z",
     "shell.execute_reply": "2022-05-02T10:11:21.069176Z"
    },
    "papermill": {
     "duration": 0.045729,
     "end_time": "2022-05-02T10:11:21.069799",
     "exception": false,
     "start_time": "2022-05-02T10:11:21.024070",
     "status": "completed"
    },
    "tags": []
   },
   "outputs": [],
   "source": [
    "y_train = 1*(y_train==3)\n",
    "y_test = 1*(y_test==3)"
   ]
  },
  {
   "cell_type": "code",
   "execution_count": 13,
   "id": "01e4e969",
   "metadata": {
    "execution": {
     "iopub.execute_input": "2022-05-02T10:11:21.130162Z",
     "iopub.status.busy": "2022-05-02T10:11:21.129619Z",
     "iopub.status.idle": "2022-05-02T10:11:21.144799Z",
     "shell.execute_reply": "2022-05-02T10:11:21.144011Z"
    },
    "papermill": {
     "duration": 0.046393,
     "end_time": "2022-05-02T10:11:21.144929",
     "exception": false,
     "start_time": "2022-05-02T10:11:21.098536",
     "status": "completed"
    },
    "tags": []
   },
   "outputs": [
    {
     "data": {
      "text/plain": [
       "((11982, 28, 28), (1984, 28, 28))"
      ]
     },
     "execution_count": 13,
     "metadata": {},
     "output_type": "execute_result"
    }
   ],
   "source": [
    "X_train.shape, X_test.shape"
   ]
  },
  {
   "cell_type": "markdown",
   "id": "5ccf3f85",
   "metadata": {
    "papermill": {
     "duration": 0.027668,
     "end_time": "2022-05-02T10:11:21.198834",
     "exception": false,
     "start_time": "2022-05-02T10:11:21.171166",
     "status": "completed"
    },
    "tags": []
   },
   "source": [
    "We reshape the data to flatten the image pixels into a set of features or co-variates:"
   ]
  },
  {
   "cell_type": "code",
   "execution_count": 14,
   "id": "5286a4a3",
   "metadata": {
    "execution": {
     "iopub.execute_input": "2022-05-02T10:11:21.255325Z",
     "iopub.status.busy": "2022-05-02T10:11:21.254825Z",
     "iopub.status.idle": "2022-05-02T10:11:21.270251Z",
     "shell.execute_reply": "2022-05-02T10:11:21.270736Z"
    },
    "papermill": {
     "duration": 0.045761,
     "end_time": "2022-05-02T10:11:21.270866",
     "exception": false,
     "start_time": "2022-05-02T10:11:21.225105",
     "status": "completed"
    },
    "tags": []
   },
   "outputs": [
    {
     "data": {
      "text/plain": [
       "((11982, 784), (1984, 784))"
      ]
     },
     "execution_count": 14,
     "metadata": {},
     "output_type": "execute_result"
    }
   ],
   "source": [
    "X_train = X_train.reshape(X_train.shape[0], -1)\n",
    "X_test = X_test.reshape(X_test.shape[0], -1)\n",
    "X_train.shape, X_test.shape"
   ]
  },
  {
   "cell_type": "code",
   "execution_count": 15,
   "id": "73c5f88a",
   "metadata": {
    "execution": {
     "iopub.execute_input": "2022-05-02T10:11:21.328797Z",
     "iopub.status.busy": "2022-05-02T10:11:21.328256Z",
     "iopub.status.idle": "2022-05-02T10:11:21.348796Z",
     "shell.execute_reply": "2022-05-02T10:11:21.348362Z"
    },
    "papermill": {
     "duration": 0.051519,
     "end_time": "2022-05-02T10:11:21.348909",
     "exception": false,
     "start_time": "2022-05-02T10:11:21.297390",
     "status": "completed"
    },
    "tags": []
   },
   "outputs": [],
   "source": [
    "#Impoting functions from 'Kudzu'\n",
    "from kudzu.model import Model\n",
    "from kudzu.train import Learner\n",
    "from kudzu.optim import GD\n",
    "from kudzu.data import Data, Sampler,Dataloader\n",
    "\n",
    "from kudzu.callbacks import AccCallback\n",
    "from kudzu.callbacks import ClfCallback\n",
    "\n",
    "from kudzu.loss import MSE\n",
    "\n",
    "from kudzu.layer import Sigmoid,Relu\n",
    "from kudzu.layer import Affine"
   ]
  },
  {
   "cell_type": "markdown",
   "id": "bc01172a",
   "metadata": {
    "papermill": {
     "duration": 0.027548,
     "end_time": "2022-05-02T10:11:21.403470",
     "exception": false,
     "start_time": "2022-05-02T10:11:21.375922",
     "status": "completed"
    },
    "tags": []
   },
   "source": [
    "### Let us create a `Config` class, to store important parameters. \n",
    "This class essentially plays the role of a dictionary."
   ]
  },
  {
   "cell_type": "code",
   "execution_count": 16,
   "id": "978281aa",
   "metadata": {
    "execution": {
     "iopub.execute_input": "2022-05-02T10:11:21.466356Z",
     "iopub.status.busy": "2022-05-02T10:11:21.464993Z",
     "iopub.status.idle": "2022-05-02T10:11:21.478668Z",
     "shell.execute_reply": "2022-05-02T10:11:21.479137Z"
    },
    "papermill": {
     "duration": 0.046405,
     "end_time": "2022-05-02T10:11:21.479305",
     "exception": false,
     "start_time": "2022-05-02T10:11:21.432900",
     "status": "completed"
    },
    "tags": []
   },
   "outputs": [],
   "source": [
    "class Config:\n",
    "    pass\n",
    "config = Config()\n",
    "config.lr = 0.001\n",
    "config.num_epochs = 250\n",
    "config.bs = 50"
   ]
  },
  {
   "cell_type": "markdown",
   "id": "1385fa59",
   "metadata": {
    "papermill": {
     "duration": 0.02696,
     "end_time": "2022-05-02T10:11:21.534924",
     "exception": false,
     "start_time": "2022-05-02T10:11:21.507964",
     "status": "completed"
    },
    "tags": []
   },
   "source": [
    "### Running Models with the Training data\n",
    "Details about the network layers:\n",
    "- A first affine layer has 784 inputs and does 100 affine transforms. These are followed by a Relu\n",
    "- A second affine layer has 100 inputs from the 100 activations of the past layer, and does 100 affine transforms. These are followed by a Relu\n",
    "- A third affine layer has 100 activations and does 2 affine transformations to create an embedding for visualization. There is no non-linearity here.\n",
    "- A final \"logistic regression\" which has an affine transform from 2 inputs to 1 output, which is squeezed through a sigmoid.\n"
   ]
  },
  {
   "cell_type": "code",
   "execution_count": 17,
   "id": "2b9c66db",
   "metadata": {
    "execution": {
     "iopub.execute_input": "2022-05-02T10:11:21.596141Z",
     "iopub.status.busy": "2022-05-02T10:11:21.595565Z",
     "iopub.status.idle": "2022-05-02T10:11:21.610036Z",
     "shell.execute_reply": "2022-05-02T10:11:21.609651Z"
    },
    "papermill": {
     "duration": 0.046009,
     "end_time": "2022-05-02T10:11:21.610143",
     "exception": false,
     "start_time": "2022-05-02T10:11:21.564134",
     "status": "completed"
    },
    "tags": []
   },
   "outputs": [],
   "source": [
    "data = Data(X_train, y_train.reshape(-1,1))\n",
    "sampler = Sampler(data, config.bs, shuffle=True)\n",
    "\n",
    "dl = Dataloader(data, sampler)\n",
    "\n",
    "opt = GD(config.lr)\n",
    "loss = MSE()"
   ]
  },
  {
   "cell_type": "code",
   "execution_count": 18,
   "id": "b275e4c2",
   "metadata": {
    "execution": {
     "iopub.execute_input": "2022-05-02T10:11:21.671960Z",
     "iopub.status.busy": "2022-05-02T10:11:21.671373Z",
     "iopub.status.idle": "2022-05-02T10:11:21.683633Z",
     "shell.execute_reply": "2022-05-02T10:11:21.683143Z"
    },
    "papermill": {
     "duration": 0.046521,
     "end_time": "2022-05-02T10:11:21.683749",
     "exception": false,
     "start_time": "2022-05-02T10:11:21.637228",
     "status": "completed"
    },
    "tags": []
   },
   "outputs": [],
   "source": [
    "training_data_x = X_train\n",
    "testing_data_x = X_test\n",
    "training_data_y = y_train.reshape(-1,1)\n",
    "testing_data_y = y_test.reshape(-1,1)"
   ]
  },
  {
   "cell_type": "code",
   "execution_count": 19,
   "id": "76951160",
   "metadata": {
    "execution": {
     "iopub.execute_input": "2022-05-02T10:11:21.741422Z",
     "iopub.status.busy": "2022-05-02T10:11:21.740871Z",
     "iopub.status.idle": "2022-05-02T10:11:21.759225Z",
     "shell.execute_reply": "2022-05-02T10:11:21.758773Z"
    },
    "papermill": {
     "duration": 0.049247,
     "end_time": "2022-05-02T10:11:21.759360",
     "exception": false,
     "start_time": "2022-05-02T10:11:21.710113",
     "status": "completed"
    },
    "tags": []
   },
   "outputs": [
    {
     "name": "stdout",
     "output_type": "stream",
     "text": [
      "xavier\n",
      "xavier\n",
      "xavier\n",
      "xavier\n",
      "xavier\n"
     ]
    }
   ],
   "source": [
    "layers = [Affine(\"first\", 784, 100), Relu(\"first\"), Affine(\"second\", 100, 100), Relu(\"second\"), Affine(\"third\", 100, 2), Affine(\"last\", 2, 1), Sigmoid(\"last\")]\n",
    "model_nn = Model(layers)\n",
    "model_lr = Model([Affine(\"logits\", 784, 1), Sigmoid(\"sigmoid\")])"
   ]
  },
  {
   "cell_type": "code",
   "execution_count": 20,
   "id": "6eede77a",
   "metadata": {
    "execution": {
     "iopub.execute_input": "2022-05-02T10:11:21.816521Z",
     "iopub.status.busy": "2022-05-02T10:11:21.816054Z",
     "iopub.status.idle": "2022-05-02T10:11:21.828097Z",
     "shell.execute_reply": "2022-05-02T10:11:21.827125Z"
    },
    "papermill": {
     "duration": 0.041358,
     "end_time": "2022-05-02T10:11:21.828220",
     "exception": false,
     "start_time": "2022-05-02T10:11:21.786862",
     "status": "completed"
    },
    "tags": []
   },
   "outputs": [],
   "source": [
    "nn_learner = Learner(loss, model_nn, opt, config.num_epochs)\n",
    "acc_nn = ClfCallback(nn_learner, config.bs, training_data_x , testing_data_x, training_data_y, testing_data_y)\n",
    "nn_learner.set_callbacks([acc_nn])"
   ]
  },
  {
   "cell_type": "code",
   "execution_count": 21,
   "id": "877b6cc7",
   "metadata": {
    "execution": {
     "iopub.execute_input": "2022-05-02T10:11:21.886795Z",
     "iopub.status.busy": "2022-05-02T10:11:21.885175Z",
     "iopub.status.idle": "2022-05-02T10:11:21.896599Z",
     "shell.execute_reply": "2022-05-02T10:11:21.896030Z"
    },
    "papermill": {
     "duration": 0.042823,
     "end_time": "2022-05-02T10:11:21.896707",
     "exception": false,
     "start_time": "2022-05-02T10:11:21.853884",
     "status": "completed"
    },
    "tags": []
   },
   "outputs": [],
   "source": [
    "lr_learner = Learner(loss, model_lr, opt, config.num_epochs)\n",
    "acc_lr = ClfCallback(lr_learner, config.bs, training_data_x , testing_data_x, training_data_y, testing_data_y)\n",
    "lr_learner.set_callbacks([acc_lr])"
   ]
  },
  {
   "cell_type": "code",
   "execution_count": 22,
   "id": "d9b133c3",
   "metadata": {
    "execution": {
     "iopub.execute_input": "2022-05-02T10:11:21.956719Z",
     "iopub.status.busy": "2022-05-02T10:11:21.956142Z",
     "iopub.status.idle": "2022-05-02T10:12:44.681537Z",
     "shell.execute_reply": "2022-05-02T10:12:44.682343Z"
    },
    "papermill": {
     "duration": 82.75749,
     "end_time": "2022-05-02T10:12:44.682503",
     "exception": false,
     "start_time": "2022-05-02T10:11:21.925013",
     "status": "completed"
    },
    "tags": []
   },
   "outputs": [
    {
     "name": "stdout",
     "output_type": "stream",
     "text": [
      "Epoch 0, Loss 0.2786\n",
      "Training Accuracy: 0.4866, Testing Accuracy: 0.4824\n",
      "\n"
     ]
    },
    {
     "name": "stdout",
     "output_type": "stream",
     "text": [
      "Epoch 10, Loss 0.1219\n",
      "Training Accuracy: 0.8848, Testing Accuracy: 0.8962\n",
      "\n"
     ]
    },
    {
     "name": "stdout",
     "output_type": "stream",
     "text": [
      "Epoch 20, Loss 0.0679\n",
      "Training Accuracy: 0.9287, Testing Accuracy: 0.9375\n",
      "\n"
     ]
    },
    {
     "name": "stdout",
     "output_type": "stream",
     "text": [
      "Epoch 30, Loss 0.0497\n",
      "Training Accuracy: 0.9470, Testing Accuracy: 0.9506\n",
      "\n"
     ]
    },
    {
     "name": "stdout",
     "output_type": "stream",
     "text": [
      "Epoch 40, Loss 0.0414\n",
      "Training Accuracy: 0.9554, Testing Accuracy: 0.9607\n",
      "\n"
     ]
    },
    {
     "name": "stdout",
     "output_type": "stream",
     "text": [
      "Epoch 50, Loss 0.0367\n",
      "Training Accuracy: 0.9594, Testing Accuracy: 0.9652\n",
      "\n"
     ]
    },
    {
     "name": "stdout",
     "output_type": "stream",
     "text": [
      "Epoch 60, Loss 0.0337\n",
      "Training Accuracy: 0.9614, Testing Accuracy: 0.9682\n",
      "\n"
     ]
    },
    {
     "name": "stdout",
     "output_type": "stream",
     "text": [
      "Epoch 70, Loss 0.0316\n",
      "Training Accuracy: 0.9640, Testing Accuracy: 0.9688\n",
      "\n"
     ]
    },
    {
     "name": "stdout",
     "output_type": "stream",
     "text": [
      "Epoch 80, Loss 0.0299\n",
      "Training Accuracy: 0.9656, Testing Accuracy: 0.9703\n",
      "\n"
     ]
    },
    {
     "name": "stdout",
     "output_type": "stream",
     "text": [
      "Epoch 90, Loss 0.0286\n",
      "Training Accuracy: 0.9677, Testing Accuracy: 0.9708\n",
      "\n"
     ]
    },
    {
     "name": "stdout",
     "output_type": "stream",
     "text": [
      "Epoch 100, Loss 0.0274\n",
      "Training Accuracy: 0.9690, Testing Accuracy: 0.9713\n",
      "\n"
     ]
    },
    {
     "name": "stdout",
     "output_type": "stream",
     "text": [
      "Epoch 110, Loss 0.0264\n",
      "Training Accuracy: 0.9696, Testing Accuracy: 0.9708\n",
      "\n"
     ]
    },
    {
     "name": "stdout",
     "output_type": "stream",
     "text": [
      "Epoch 120, Loss 0.0256\n",
      "Training Accuracy: 0.9710, Testing Accuracy: 0.9718\n",
      "\n"
     ]
    },
    {
     "name": "stdout",
     "output_type": "stream",
     "text": [
      "Epoch 130, Loss 0.0248\n",
      "Training Accuracy: 0.9722, Testing Accuracy: 0.9718\n",
      "\n"
     ]
    },
    {
     "name": "stdout",
     "output_type": "stream",
     "text": [
      "Epoch 140, Loss 0.0241\n",
      "Training Accuracy: 0.9729, Testing Accuracy: 0.9723\n",
      "\n"
     ]
    },
    {
     "name": "stdout",
     "output_type": "stream",
     "text": [
      "Epoch 150, Loss 0.0234\n",
      "Training Accuracy: 0.9737, Testing Accuracy: 0.9723\n",
      "\n"
     ]
    },
    {
     "name": "stdout",
     "output_type": "stream",
     "text": [
      "Epoch 160, Loss 0.0228\n",
      "Training Accuracy: 0.9739, Testing Accuracy: 0.9728\n",
      "\n"
     ]
    },
    {
     "name": "stdout",
     "output_type": "stream",
     "text": [
      "Epoch 170, Loss 0.0223\n",
      "Training Accuracy: 0.9748, Testing Accuracy: 0.9728\n",
      "\n"
     ]
    },
    {
     "name": "stdout",
     "output_type": "stream",
     "text": [
      "Epoch 180, Loss 0.0217\n",
      "Training Accuracy: 0.9757, Testing Accuracy: 0.9728\n",
      "\n"
     ]
    },
    {
     "name": "stdout",
     "output_type": "stream",
     "text": [
      "Epoch 190, Loss 0.0212\n",
      "Training Accuracy: 0.9765, Testing Accuracy: 0.9728\n",
      "\n"
     ]
    },
    {
     "name": "stdout",
     "output_type": "stream",
     "text": [
      "Epoch 200, Loss 0.0208\n",
      "Training Accuracy: 0.9770, Testing Accuracy: 0.9738\n",
      "\n"
     ]
    },
    {
     "name": "stdout",
     "output_type": "stream",
     "text": [
      "Epoch 210, Loss 0.0203\n",
      "Training Accuracy: 0.9774, Testing Accuracy: 0.9748\n",
      "\n"
     ]
    },
    {
     "name": "stdout",
     "output_type": "stream",
     "text": [
      "Epoch 220, Loss 0.0199\n",
      "Training Accuracy: 0.9782, Testing Accuracy: 0.9758\n",
      "\n"
     ]
    },
    {
     "name": "stdout",
     "output_type": "stream",
     "text": [
      "Epoch 230, Loss 0.0195\n",
      "Training Accuracy: 0.9791, Testing Accuracy: 0.9758\n",
      "\n"
     ]
    },
    {
     "name": "stdout",
     "output_type": "stream",
     "text": [
      "Epoch 240, Loss 0.0191\n",
      "Training Accuracy: 0.9795, Testing Accuracy: 0.9763\n",
      "\n"
     ]
    },
    {
     "data": {
      "text/plain": [
       "0.021095192641600445"
      ]
     },
     "execution_count": 22,
     "metadata": {},
     "output_type": "execute_result"
    }
   ],
   "source": [
    "nn_learner.train_loop(dl)"
   ]
  },
  {
   "cell_type": "code",
   "execution_count": 23,
   "id": "e0163366",
   "metadata": {
    "execution": {
     "iopub.execute_input": "2022-05-02T10:12:44.764656Z",
     "iopub.status.busy": "2022-05-02T10:12:44.764099Z",
     "iopub.status.idle": "2022-05-02T10:12:59.545562Z",
     "shell.execute_reply": "2022-05-02T10:12:59.546341Z"
    },
    "papermill": {
     "duration": 14.826002,
     "end_time": "2022-05-02T10:12:59.546500",
     "exception": false,
     "start_time": "2022-05-02T10:12:44.720498",
     "status": "completed"
    },
    "tags": []
   },
   "outputs": [
    {
     "name": "stdout",
     "output_type": "stream",
     "text": [
      "Epoch 0, Loss 0.2609\n",
      "Training Accuracy: 0.6320, Testing Accuracy: 0.6477\n",
      "\n"
     ]
    },
    {
     "name": "stdout",
     "output_type": "stream",
     "text": [
      "Epoch 10, Loss 0.1066\n",
      "Training Accuracy: 0.9007, Testing Accuracy: 0.9143\n",
      "\n"
     ]
    },
    {
     "name": "stdout",
     "output_type": "stream",
     "text": [
      "Epoch 20, Loss 0.0813\n",
      "Training Accuracy: 0.9236, Testing Accuracy: 0.9370\n",
      "\n"
     ]
    },
    {
     "name": "stdout",
     "output_type": "stream",
     "text": [
      "Epoch 30, Loss 0.0697\n",
      "Training Accuracy: 0.9340, Testing Accuracy: 0.9466\n",
      "\n"
     ]
    },
    {
     "name": "stdout",
     "output_type": "stream",
     "text": [
      "Epoch 40, Loss 0.0627\n",
      "Training Accuracy: 0.9395, Testing Accuracy: 0.9521\n",
      "\n"
     ]
    },
    {
     "name": "stdout",
     "output_type": "stream",
     "text": [
      "Epoch 50, Loss 0.058\n",
      "Training Accuracy: 0.9434, Testing Accuracy: 0.9556\n",
      "\n"
     ]
    },
    {
     "name": "stdout",
     "output_type": "stream",
     "text": [
      "Epoch 60, Loss 0.0545\n",
      "Training Accuracy: 0.9457, Testing Accuracy: 0.9577\n",
      "\n"
     ]
    },
    {
     "name": "stdout",
     "output_type": "stream",
     "text": [
      "Epoch 70, Loss 0.0518\n",
      "Training Accuracy: 0.9483, Testing Accuracy: 0.9612\n",
      "\n"
     ]
    },
    {
     "name": "stdout",
     "output_type": "stream",
     "text": [
      "Epoch 80, Loss 0.0497\n",
      "Training Accuracy: 0.9502, Testing Accuracy: 0.9617\n",
      "\n"
     ]
    },
    {
     "name": "stdout",
     "output_type": "stream",
     "text": [
      "Epoch 90, Loss 0.0479\n",
      "Training Accuracy: 0.9518, Testing Accuracy: 0.9637\n",
      "\n"
     ]
    },
    {
     "name": "stdout",
     "output_type": "stream",
     "text": [
      "Epoch 100, Loss 0.0465\n",
      "Training Accuracy: 0.9524, Testing Accuracy: 0.9642\n",
      "\n"
     ]
    },
    {
     "name": "stdout",
     "output_type": "stream",
     "text": [
      "Epoch 110, Loss 0.0452\n",
      "Training Accuracy: 0.9531, Testing Accuracy: 0.9647\n",
      "\n"
     ]
    },
    {
     "name": "stdout",
     "output_type": "stream",
     "text": [
      "Epoch 120, Loss 0.0441\n",
      "Training Accuracy: 0.9542, Testing Accuracy: 0.9657\n",
      "\n"
     ]
    },
    {
     "name": "stdout",
     "output_type": "stream",
     "text": [
      "Epoch 130, Loss 0.0431\n",
      "Training Accuracy: 0.9550, Testing Accuracy: 0.9667\n",
      "\n"
     ]
    },
    {
     "name": "stdout",
     "output_type": "stream",
     "text": [
      "Epoch 140, Loss 0.0423\n",
      "Training Accuracy: 0.9559, Testing Accuracy: 0.9662\n",
      "\n"
     ]
    },
    {
     "name": "stdout",
     "output_type": "stream",
     "text": [
      "Epoch 150, Loss 0.0415\n",
      "Training Accuracy: 0.9569, Testing Accuracy: 0.9662\n",
      "\n"
     ]
    },
    {
     "name": "stdout",
     "output_type": "stream",
     "text": [
      "Epoch 160, Loss 0.0408\n",
      "Training Accuracy: 0.9576, Testing Accuracy: 0.9662\n",
      "\n"
     ]
    },
    {
     "name": "stdout",
     "output_type": "stream",
     "text": [
      "Epoch 170, Loss 0.0402\n",
      "Training Accuracy: 0.9584, Testing Accuracy: 0.9662\n",
      "\n"
     ]
    },
    {
     "name": "stdout",
     "output_type": "stream",
     "text": [
      "Epoch 180, Loss 0.0396\n",
      "Training Accuracy: 0.9589, Testing Accuracy: 0.9662\n",
      "\n"
     ]
    },
    {
     "name": "stdout",
     "output_type": "stream",
     "text": [
      "Epoch 190, Loss 0.0391\n",
      "Training Accuracy: 0.9593, Testing Accuracy: 0.9662\n",
      "\n"
     ]
    },
    {
     "name": "stdout",
     "output_type": "stream",
     "text": [
      "Epoch 200, Loss 0.0386\n",
      "Training Accuracy: 0.9599, Testing Accuracy: 0.9667\n",
      "\n"
     ]
    },
    {
     "name": "stdout",
     "output_type": "stream",
     "text": [
      "Epoch 210, Loss 0.0381\n",
      "Training Accuracy: 0.9609, Testing Accuracy: 0.9667\n",
      "\n"
     ]
    },
    {
     "name": "stdout",
     "output_type": "stream",
     "text": [
      "Epoch 220, Loss 0.0377\n",
      "Training Accuracy: 0.9609, Testing Accuracy: 0.9667\n",
      "\n"
     ]
    },
    {
     "name": "stdout",
     "output_type": "stream",
     "text": [
      "Epoch 230, Loss 0.0373\n",
      "Training Accuracy: 0.9610, Testing Accuracy: 0.9667\n",
      "\n"
     ]
    },
    {
     "name": "stdout",
     "output_type": "stream",
     "text": [
      "Epoch 240, Loss 0.037\n",
      "Training Accuracy: 0.9612, Testing Accuracy: 0.9672\n",
      "\n"
     ]
    },
    {
     "data": {
      "text/plain": [
       "0.04011936209274814"
      ]
     },
     "execution_count": 23,
     "metadata": {},
     "output_type": "execute_result"
    }
   ],
   "source": [
    "lr_learner.train_loop(dl)"
   ]
  },
  {
   "cell_type": "code",
   "execution_count": 24,
   "id": "ca410940",
   "metadata": {
    "execution": {
     "iopub.execute_input": "2022-05-02T10:12:59.645140Z",
     "iopub.status.busy": "2022-05-02T10:12:59.644524Z",
     "iopub.status.idle": "2022-05-02T10:12:59.890247Z",
     "shell.execute_reply": "2022-05-02T10:12:59.889738Z"
    },
    "papermill": {
     "duration": 0.298471,
     "end_time": "2022-05-02T10:12:59.890375",
     "exception": false,
     "start_time": "2022-05-02T10:12:59.591904",
     "status": "completed"
    },
    "tags": []
   },
   "outputs": [
    {
     "data": {
      "text/plain": [
       "<matplotlib.legend.Legend at 0x7f56e4dbcb38>"
      ]
     },
     "execution_count": 24,
     "metadata": {},
     "output_type": "execute_result"
    },
    {
     "data": {
      "image/png": "[encoded data removed]",
      "text/plain": [
       "<Figure size 1080x720 with 1 Axes>"
      ]
     },
     "metadata": {
      "needs_background": "light"
     },
     "output_type": "display_data"
    }
   ],
   "source": [
    "#comparing the results of NN and LR\n",
    "plt.figure(figsize=(15,10))\n",
    "\n",
    "# Neural Network plots\n",
    "plt.plot(acc_nn.accuracies, 'r-', label = \"Training Accuracies - NN\")\n",
    "plt.plot(acc_nn.test_accuracies, 'g-', label = \"Testing Accuracies - NN\")\n",
    "\n",
    "# Logistic Regression plots\n",
    "plt.plot(acc_lr.accuracies, 'k-', label = \"Training Accuracies - LR\")\n",
    "plt.plot(acc_lr.test_accuracies, 'b-', label = \"Testing Accuracies - LR\")\n",
    "plt.legend()"
   ]
  },
  {
   "cell_type": "markdown",
   "id": "80dfb35c",
   "metadata": {
    "papermill": {
     "duration": 0.044087,
     "end_time": "2022-05-02T10:12:59.979737",
     "exception": false,
     "start_time": "2022-05-02T10:12:59.935650",
     "status": "completed"
    },
    "tags": []
   },
   "source": [
    "#### Plotting the outputs of this layer of the NN.\n"
   ]
  },
  {
   "cell_type": "code",
   "execution_count": 25,
   "id": "45eb2ff5",
   "metadata": {
    "execution": {
     "iopub.execute_input": "2022-05-02T10:13:00.073668Z",
     "iopub.status.busy": "2022-05-02T10:13:00.072451Z",
     "iopub.status.idle": "2022-05-02T10:13:00.096722Z",
     "shell.execute_reply": "2022-05-02T10:13:00.097208Z"
    },
    "papermill": {
     "duration": 0.07293,
     "end_time": "2022-05-02T10:13:00.097364",
     "exception": false,
     "start_time": "2022-05-02T10:13:00.024434",
     "status": "completed"
    },
    "tags": []
   },
   "outputs": [],
   "source": [
    "new_model = Model(layers[:-2])\n",
    "testing_plot = new_model(testing_data_x)"
   ]
  },
  {
   "cell_type": "code",
   "execution_count": 26,
   "id": "4c0a5485",
   "metadata": {
    "execution": {
     "iopub.execute_input": "2022-05-02T10:13:00.193274Z",
     "iopub.status.busy": "2022-05-02T10:13:00.192722Z",
     "iopub.status.idle": "2022-05-02T10:13:00.411471Z",
     "shell.execute_reply": "2022-05-02T10:13:00.410548Z"
    },
    "papermill": {
     "duration": 0.26841,
     "end_time": "2022-05-02T10:13:00.411697",
     "exception": false,
     "start_time": "2022-05-02T10:13:00.143287",
     "status": "completed"
    },
    "tags": []
   },
   "outputs": [
    {
     "data": {
      "text/plain": [
       "Text(0.5, 1.0, 'Outputs')"
      ]
     },
     "execution_count": 26,
     "metadata": {},
     "output_type": "execute_result"
    },
    {
     "data": {
      "image/png": "[encoded data removed]",
      "text/plain": [
       "<Figure size 576x504 with 1 Axes>"
      ]
     },
     "metadata": {
      "needs_background": "light"
     },
     "output_type": "display_data"
    }
   ],
   "source": [
    "# Plotting the scatter plot of points and color coding by class\n",
    "plt.figure(figsize=(8,7))\n",
    "plt.scatter(testing_plot[:,0], testing_plot[:,1], alpha = 0.1, c = y_test.ravel());\n",
    "plt.title('Outputs')"
   ]
  },
  {
   "cell_type": "markdown",
   "id": "a74fcf8f",
   "metadata": {
    "papermill": {
     "duration": 0.043562,
     "end_time": "2022-05-02T10:13:00.502934",
     "exception": false,
     "start_time": "2022-05-02T10:13:00.459372",
     "status": "completed"
    },
    "tags": []
   },
   "source": [
    "Probability contours"
   ]
  },
  {
   "cell_type": "code",
   "execution_count": 27,
   "id": "d0afc8e3",
   "metadata": {
    "execution": {
     "iopub.execute_input": "2022-05-02T10:13:00.630111Z",
     "iopub.status.busy": "2022-05-02T10:13:00.629553Z",
     "iopub.status.idle": "2022-05-02T10:13:00.642832Z",
     "shell.execute_reply": "2022-05-02T10:13:00.643296Z"
    },
    "papermill": {
     "duration": 0.092844,
     "end_time": "2022-05-02T10:13:00.643432",
     "exception": false,
     "start_time": "2022-05-02T10:13:00.550588",
     "status": "completed"
    },
    "tags": []
   },
   "outputs": [],
   "source": [
    "model_prob = Model(layers[-2:]) "
   ]
  },
  {
   "cell_type": "code",
   "execution_count": 28,
   "id": "9b96e238",
   "metadata": {
    "execution": {
     "iopub.execute_input": "2022-05-02T10:13:00.741407Z",
     "iopub.status.busy": "2022-05-02T10:13:00.739999Z",
     "iopub.status.idle": "2022-05-02T10:13:00.755438Z",
     "shell.execute_reply": "2022-05-02T10:13:00.755921Z"
    },
    "papermill": {
     "duration": 0.067907,
     "end_time": "2022-05-02T10:13:00.756060",
     "exception": false,
     "start_time": "2022-05-02T10:13:00.688153",
     "status": "completed"
    },
    "tags": []
   },
   "outputs": [],
   "source": [
    "#creating the x and y ranges according to the above generated plot.\n",
    "x_range = np.linspace(-4, 1, 100) \n",
    "y_range = np.linspace(-6, 6, 100) \n",
    "x_grid, y_grid = np.meshgrid(x_range, y_range) # x_grid and y_grig are of size 100 X 100\n",
    "\n",
    "# converting x_grid and y_grid to continuous arrays\n",
    "x_gridflat = np.ravel(x_grid)\n",
    "y_gridflat = np.ravel(y_grid)\n",
    "\n",
    "# The last layer of the current model takes two columns as input. Hence transpose of np.vstack() is required.\n",
    "X = np.vstack((x_gridflat, y_gridflat)).T\n",
    "\n",
    "prob_contour = model_prob(X).reshape(100,100) "
   ]
  },
  {
   "cell_type": "code",
   "execution_count": 29,
   "id": "da72499a",
   "metadata": {
    "execution": {
     "iopub.execute_input": "2022-05-02T10:13:00.856123Z",
     "iopub.status.busy": "2022-05-02T10:13:00.854776Z",
     "iopub.status.idle": "2022-05-02T10:13:01.122558Z",
     "shell.execute_reply": "2022-05-02T10:13:01.123143Z"
    },
    "papermill": {
     "duration": 0.31951,
     "end_time": "2022-05-02T10:13:01.123355",
     "exception": false,
     "start_time": "2022-05-02T10:13:00.803845",
     "status": "completed"
    },
    "tags": []
   },
   "outputs": [
    {
     "data": {
      "image/png": "[encoded data removed]",
      "text/plain": [
       "<Figure size 720x648 with 1 Axes>"
      ]
     },
     "metadata": {
      "needs_background": "light"
     },
     "output_type": "display_data"
    }
   ],
   "source": [
    "plt.figure(figsize=(10,9))\n",
    "plt.scatter(testing_plot[:,0], testing_plot[:,1], alpha = 0.1, c = y_test.ravel())\n",
    "contours = plt.contour(x_grid,y_grid,prob_contour)\n",
    "plt.title('Probability Contours')\n",
    "plt.clabel(contours, inline = True );"
   ]
  },
  {
   "cell_type": "code",
   "execution_count": null,
   "id": "e81b4ac7",
   "metadata": {
    "papermill": {
     "duration": 0.047965,
     "end_time": "2022-05-02T10:13:01.221941",
     "exception": false,
     "start_time": "2022-05-02T10:13:01.173976",
     "status": "completed"
    },
    "tags": []
   },
   "outputs": [],
   "source": []
  }
 ],
 "metadata": {
  "kernelspec": {
   "display_name": "Python 3",
   "language": "python",
   "name": "python3"
  },
  "language_info": {
   "codemirror_mode": {
    "name": "ipython",
    "version": 3
   },
   "file_extension": ".py",
   "mimetype": "text/x-python",
   "name": "python",
   "nbconvert_exporter": "python",
   "pygments_lexer": "ipython3",
   "version": "3.6.15"
  },
  "papermill": {
   "default_parameters": {},
   "duration": 106.342305,
   "end_time": "2022-05-02T10:13:01.690535",
   "environment_variables": {},
   "exception": null,
   "input_path": "2020-08-11-part2.ipynb",
   "output_path": "2020-08-11-part2.ipynb",
   "parameters": {},
   "start_time": "2022-05-02T10:11:15.348230",
   "version": "2.3.3"
  }
 },
 "nbformat": 4,
 "nbformat_minor": 5
}