{
 "cells": [
  {
   "cell_type": "markdown",
   "id": "98380cd3",
   "metadata": {
    "papermill": {
     "duration": 0.031835,
     "end_time": "2022-08-07T20:12:06.491706",
     "exception": false,
     "start_time": "2022-08-07T20:12:06.459871",
     "status": "completed"
    },
    "tags": []
   },
   "source": [
    "# Distinguish Your Own Digits (DYOD)"
   ]
  },
  {
   "cell_type": "markdown",
   "id": "ef31240d",
   "metadata": {
    "papermill": {
     "duration": 0.027324,
     "end_time": "2022-08-07T20:12:06.545722",
     "exception": false,
     "start_time": "2022-08-07T20:12:06.518398",
     "status": "completed"
    },
    "tags": []
   },
   "source": [
    "You are going to write a classifier that distinguishes between the number 3 and number 8."
   ]
  },
  {
   "cell_type": "code",
   "execution_count": 1,
   "id": "b15c8646",
   "metadata": {
    "execution": {
     "iopub.execute_input": "2022-08-07T20:12:06.612812Z",
     "iopub.status.busy": "2022-08-07T20:12:06.612134Z",
     "iopub.status.idle": "2022-08-07T20:12:06.625618Z",
     "shell.execute_reply": "2022-08-07T20:12:06.625061Z"
    },
    "papermill": {
     "duration": 0.05188,
     "end_time": "2022-08-07T20:12:06.625758",
     "exception": false,
     "start_time": "2022-08-07T20:12:06.573878",
     "status": "completed"
    },
    "tags": []
   },
   "outputs": [],
   "source": [
    "%load_ext autoreload\n",
    "%autoreload 2"
   ]
  },
  {
   "cell_type": "code",
   "execution_count": 2,
   "id": "22ef38dc",
   "metadata": {
    "execution": {
     "iopub.execute_input": "2022-08-07T20:12:06.682760Z",
     "iopub.status.busy": "2022-08-07T20:12:06.682114Z",
     "iopub.status.idle": "2022-08-07T20:12:07.252413Z",
     "shell.execute_reply": "2022-08-07T20:12:07.251814Z"
    },
    "papermill": {
     "duration": 0.599888,
     "end_time": "2022-08-07T20:12:07.252546",
     "exception": false,
     "start_time": "2022-08-07T20:12:06.652658",
     "status": "completed"
    },
    "tags": []
   },
   "outputs": [],
   "source": [
    "%matplotlib inline\n",
    "import numpy as np\n",
    "import matplotlib.pyplot as plt\n",
    "import pandas as pd"
   ]
  },
  {
   "cell_type": "markdown",
   "id": "ba036198",
   "metadata": {
    "papermill": {
     "duration": 0.027064,
     "end_time": "2022-08-07T20:12:07.307023",
     "exception": false,
     "start_time": "2022-08-07T20:12:07.279959",
     "status": "completed"
    },
    "tags": []
   },
   "source": [
    "From the command line run `pip install mnist`. This is a library that will help you bring down the mnist dataset. If you run this from a notebook, you need to put  `!pip install mnist` in a cell by itself."
   ]
  },
  {
   "cell_type": "code",
   "execution_count": 3,
   "id": "bb6ad8a1",
   "metadata": {
    "execution": {
     "iopub.execute_input": "2022-08-07T20:12:07.366043Z",
     "iopub.status.busy": "2022-08-07T20:12:07.364721Z",
     "iopub.status.idle": "2022-08-07T20:12:09.107536Z",
     "shell.execute_reply": "2022-08-07T20:12:09.106489Z"
    },
    "papermill": {
     "duration": 1.774125,
     "end_time": "2022-08-07T20:12:09.107667",
     "exception": false,
     "start_time": "2022-08-07T20:12:07.333542",
     "status": "completed"
    },
    "tags": []
   },
   "outputs": [
    {
     "name": "stdout",
     "output_type": "stream",
     "text": [
      "Collecting mnist\r\n"
     ]
    },
    {
     "name": "stdout",
     "output_type": "stream",
     "text": [
      "  Downloading mnist-0.2.2-py2.py3-none-any.whl (3.5 kB)\r\n",
      "Requirement already satisfied: numpy in /opt/hostedtoolcache/Python/3.6.15/x64/lib/python3.6/site-packages (from mnist) (1.19.5)\r\n"
     ]
    },
    {
     "name": "stdout",
     "output_type": "stream",
     "text": [
      "Installing collected packages: mnist\r\n",
      "Successfully installed mnist-0.2.2\r\n"
     ]
    }
   ],
   "source": [
    "!pip install mnist"
   ]
  },
  {
   "cell_type": "markdown",
   "id": "69df9c9a",
   "metadata": {
    "papermill": {
     "duration": 0.028556,
     "end_time": "2022-08-07T20:12:09.164337",
     "exception": false,
     "start_time": "2022-08-07T20:12:09.135781",
     "status": "completed"
    },
    "tags": []
   },
   "source": [
    "## Preparing the Data"
   ]
  },
  {
   "cell_type": "code",
   "execution_count": 4,
   "id": "7f69d806",
   "metadata": {
    "execution": {
     "iopub.execute_input": "2022-08-07T20:12:09.240392Z",
     "iopub.status.busy": "2022-08-07T20:12:09.225474Z",
     "iopub.status.idle": "2022-08-07T20:12:09.245391Z",
     "shell.execute_reply": "2022-08-07T20:12:09.244871Z"
    },
    "papermill": {
     "duration": 0.052928,
     "end_time": "2022-08-07T20:12:09.245502",
     "exception": false,
     "start_time": "2022-08-07T20:12:09.192574",
     "status": "completed"
    },
    "tags": []
   },
   "outputs": [],
   "source": [
    "import mnist"
   ]
  },
  {
   "cell_type": "code",
   "execution_count": 5,
   "id": "a411e44f",
   "metadata": {
    "execution": {
     "iopub.execute_input": "2022-08-07T20:12:09.304458Z",
     "iopub.status.busy": "2022-08-07T20:12:09.303748Z",
     "iopub.status.idle": "2022-08-07T20:12:10.014656Z",
     "shell.execute_reply": "2022-08-07T20:12:10.014088Z"
    },
    "papermill": {
     "duration": 0.741598,
     "end_time": "2022-08-07T20:12:10.014792",
     "exception": false,
     "start_time": "2022-08-07T20:12:09.273194",
     "status": "completed"
    },
    "tags": []
   },
   "outputs": [],
   "source": [
    "train_images = mnist.train_images()\n",
    "train_labels = mnist.train_labels()"
   ]
  },
  {
   "cell_type": "code",
   "execution_count": 6,
   "id": "dceab3a5",
   "metadata": {
    "execution": {
     "iopub.execute_input": "2022-08-07T20:12:10.081662Z",
     "iopub.status.busy": "2022-08-07T20:12:10.080890Z",
     "iopub.status.idle": "2022-08-07T20:12:10.098517Z",
     "shell.execute_reply": "2022-08-07T20:12:10.099201Z"
    },
    "papermill": {
     "duration": 0.053884,
     "end_time": "2022-08-07T20:12:10.099351",
     "exception": false,
     "start_time": "2022-08-07T20:12:10.045467",
     "status": "completed"
    },
    "tags": []
   },
   "outputs": [
    {
     "data": {
      "text/plain": [
       "((60000, 28, 28), (60000,))"
      ]
     },
     "execution_count": 6,
     "metadata": {},
     "output_type": "execute_result"
    }
   ],
   "source": [
    "train_images.shape, train_labels.shape"
   ]
  },
  {
   "cell_type": "code",
   "execution_count": 7,
   "id": "f50dc2bb",
   "metadata": {
    "execution": {
     "iopub.execute_input": "2022-08-07T20:12:10.163477Z",
     "iopub.status.busy": "2022-08-07T20:12:10.162740Z",
     "iopub.status.idle": "2022-08-07T20:12:10.288899Z",
     "shell.execute_reply": "2022-08-07T20:12:10.288308Z"
    },
    "papermill": {
     "duration": 0.159855,
     "end_time": "2022-08-07T20:12:10.289033",
     "exception": false,
     "start_time": "2022-08-07T20:12:10.129178",
     "status": "completed"
    },
    "tags": []
   },
   "outputs": [],
   "source": [
    "test_images = mnist.test_images()\n",
    "test_labels = mnist.test_labels()"
   ]
  },
  {
   "cell_type": "code",
   "execution_count": 8,
   "id": "fc38cf1b",
   "metadata": {
    "execution": {
     "iopub.execute_input": "2022-08-07T20:12:10.359015Z",
     "iopub.status.busy": "2022-08-07T20:12:10.357751Z",
     "iopub.status.idle": "2022-08-07T20:12:10.368514Z",
     "shell.execute_reply": "2022-08-07T20:12:10.369150Z"
    },
    "papermill": {
     "duration": 0.050559,
     "end_time": "2022-08-07T20:12:10.369283",
     "exception": false,
     "start_time": "2022-08-07T20:12:10.318724",
     "status": "completed"
    },
    "tags": []
   },
   "outputs": [
    {
     "data": {
      "text/plain": [
       "((10000, 28, 28), (10000,))"
      ]
     },
     "execution_count": 8,
     "metadata": {},
     "output_type": "execute_result"
    }
   ],
   "source": [
    "test_images.shape, test_labels.shape"
   ]
  },
  {
   "cell_type": "code",
   "execution_count": 9,
   "id": "f9ed8fe0",
   "metadata": {
    "execution": {
     "iopub.execute_input": "2022-08-07T20:12:10.441161Z",
     "iopub.status.busy": "2022-08-07T20:12:10.436946Z",
     "iopub.status.idle": "2022-08-07T20:12:10.611754Z",
     "shell.execute_reply": "2022-08-07T20:12:10.610865Z"
    },
    "papermill": {
     "duration": 0.212131,
     "end_time": "2022-08-07T20:12:10.611882",
     "exception": false,
     "start_time": "2022-08-07T20:12:10.399751",
     "status": "completed"
    },
    "tags": []
   },
   "outputs": [
    {
     "name": "stdout",
     "output_type": "stream",
     "text": [
      "2\n"
     ]
    },
    {
     "data": {
      "text/plain": [
       "<matplotlib.image.AxesImage at 0x7f403d2645c0>"
      ]
     },
     "execution_count": 9,
     "metadata": {},
     "output_type": "execute_result"
    },
    {
     "data": {
      "image/png": "[encoded data removed]",
      "text/plain": [
       "<Figure size 432x288 with 1 Axes>"
      ]
     },
     "metadata": {
      "needs_background": "light"
     },
     "output_type": "display_data"
    }
   ],
   "source": [
    "image_index = 7776 # You may select anything up to 60,000\n",
    "print(train_labels[image_index]) \n",
    "plt.imshow(train_images[image_index], cmap='Greys')"
   ]
  },
  {
   "cell_type": "markdown",
   "id": "a8d2388d",
   "metadata": {
    "papermill": {
     "duration": 0.029765,
     "end_time": "2022-08-07T20:12:10.672939",
     "exception": false,
     "start_time": "2022-08-07T20:12:10.643174",
     "status": "completed"
    },
    "tags": []
   },
   "source": [
    "## Filter data to get 3 and 8 out"
   ]
  },
  {
   "cell_type": "code",
   "execution_count": 10,
   "id": "776f7fc7",
   "metadata": {
    "execution": {
     "iopub.execute_input": "2022-08-07T20:12:10.743908Z",
     "iopub.status.busy": "2022-08-07T20:12:10.742533Z",
     "iopub.status.idle": "2022-08-07T20:12:10.768035Z",
     "shell.execute_reply": "2022-08-07T20:12:10.768588Z"
    },
    "papermill": {
     "duration": 0.064881,
     "end_time": "2022-08-07T20:12:10.768749",
     "exception": false,
     "start_time": "2022-08-07T20:12:10.703868",
     "status": "completed"
    },
    "tags": []
   },
   "outputs": [],
   "source": [
    "train_filter = np.where((train_labels == 3 ) | (train_labels == 8))\n",
    "test_filter = np.where((test_labels == 3) | (test_labels == 8))\n",
    "X_train, y_train = train_images[train_filter], train_labels[train_filter]\n",
    "X_test, y_test = test_images[test_filter], test_labels[test_filter]"
   ]
  },
  {
   "cell_type": "markdown",
   "id": "948f0b7e",
   "metadata": {
    "papermill": {
     "duration": 0.030642,
     "end_time": "2022-08-07T20:12:10.832397",
     "exception": false,
     "start_time": "2022-08-07T20:12:10.801755",
     "status": "completed"
    },
    "tags": []
   },
   "source": [
    "We normalize the pizel values in the 0 to 1 range"
   ]
  },
  {
   "cell_type": "code",
   "execution_count": 11,
   "id": "ee4c2166",
   "metadata": {
    "execution": {
     "iopub.execute_input": "2022-08-07T20:12:10.901346Z",
     "iopub.status.busy": "2022-08-07T20:12:10.899705Z",
     "iopub.status.idle": "2022-08-07T20:12:10.957274Z",
     "shell.execute_reply": "2022-08-07T20:12:10.956702Z"
    },
    "papermill": {
     "duration": 0.093165,
     "end_time": "2022-08-07T20:12:10.957406",
     "exception": false,
     "start_time": "2022-08-07T20:12:10.864241",
     "status": "completed"
    },
    "tags": []
   },
   "outputs": [],
   "source": [
    "X_train = X_train/255.\n",
    "X_test = X_test/255."
   ]
  },
  {
   "cell_type": "markdown",
   "id": "ddcf4fab",
   "metadata": {
    "papermill": {
     "duration": 0.029715,
     "end_time": "2022-08-07T20:12:11.017525",
     "exception": false,
     "start_time": "2022-08-07T20:12:10.987810",
     "status": "completed"
    },
    "tags": []
   },
   "source": [
    "And setup the labels as 1 (when the digit is 3) and 0 (when the digit is 8)"
   ]
  },
  {
   "cell_type": "code",
   "execution_count": 12,
   "id": "7dc908f2",
   "metadata": {
    "execution": {
     "iopub.execute_input": "2022-08-07T20:12:11.082921Z",
     "iopub.status.busy": "2022-08-07T20:12:11.078268Z",
     "iopub.status.idle": "2022-08-07T20:12:11.092555Z",
     "shell.execute_reply": "2022-08-07T20:12:11.093159Z"
    },
    "papermill": {
     "duration": 0.046705,
     "end_time": "2022-08-07T20:12:11.093283",
     "exception": false,
     "start_time": "2022-08-07T20:12:11.046578",
     "status": "completed"
    },
    "tags": []
   },
   "outputs": [],
   "source": [
    "y_train = 1*(y_train==3)\n",
    "y_test = 1*(y_test==3)"
   ]
  },
  {
   "cell_type": "code",
   "execution_count": 13,
   "id": "01e4e969",
   "metadata": {
    "execution": {
     "iopub.execute_input": "2022-08-07T20:12:11.158473Z",
     "iopub.status.busy": "2022-08-07T20:12:11.154446Z",
     "iopub.status.idle": "2022-08-07T20:12:11.171537Z",
     "shell.execute_reply": "2022-08-07T20:12:11.172054Z"
    },
    "papermill": {
     "duration": 0.049688,
     "end_time": "2022-08-07T20:12:11.172201",
     "exception": false,
     "start_time": "2022-08-07T20:12:11.122513",
     "status": "completed"
    },
    "tags": []
   },
   "outputs": [
    {
     "data": {
      "text/plain": [
       "((11982, 28, 28), (1984, 28, 28))"
      ]
     },
     "execution_count": 13,
     "metadata": {},
     "output_type": "execute_result"
    }
   ],
   "source": [
    "X_train.shape, X_test.shape"
   ]
  },
  {
   "cell_type": "markdown",
   "id": "5ccf3f85",
   "metadata": {
    "papermill": {
     "duration": 0.029193,
     "end_time": "2022-08-07T20:12:11.231718",
     "exception": false,
     "start_time": "2022-08-07T20:12:11.202525",
     "status": "completed"
    },
    "tags": []
   },
   "source": [
    "We reshape the data to flatten the image pixels into a set of features or co-variates:"
   ]
  },
  {
   "cell_type": "code",
   "execution_count": 14,
   "id": "5286a4a3",
   "metadata": {
    "execution": {
     "iopub.execute_input": "2022-08-07T20:12:11.299743Z",
     "iopub.status.busy": "2022-08-07T20:12:11.298900Z",
     "iopub.status.idle": "2022-08-07T20:12:11.311331Z",
     "shell.execute_reply": "2022-08-07T20:12:11.311875Z"
    },
    "papermill": {
     "duration": 0.048659,
     "end_time": "2022-08-07T20:12:11.312001",
     "exception": false,
     "start_time": "2022-08-07T20:12:11.263342",
     "status": "completed"
    },
    "tags": []
   },
   "outputs": [
    {
     "data": {
      "text/plain": [
       "((11982, 784), (1984, 784))"
      ]
     },
     "execution_count": 14,
     "metadata": {},
     "output_type": "execute_result"
    }
   ],
   "source": [
    "X_train = X_train.reshape(X_train.shape[0], -1)\n",
    "X_test = X_test.reshape(X_test.shape[0], -1)\n",
    "X_train.shape, X_test.shape"
   ]
  },
  {
   "cell_type": "code",
   "execution_count": 15,
   "id": "73c5f88a",
   "metadata": {
    "execution": {
     "iopub.execute_input": "2022-08-07T20:12:11.381516Z",
     "iopub.status.busy": "2022-08-07T20:12:11.377727Z",
     "iopub.status.idle": "2022-08-07T20:12:11.397975Z",
     "shell.execute_reply": "2022-08-07T20:12:11.397371Z"
    },
    "papermill": {
     "duration": 0.05614,
     "end_time": "2022-08-07T20:12:11.398106",
     "exception": false,
     "start_time": "2022-08-07T20:12:11.341966",
     "status": "completed"
    },
    "tags": []
   },
   "outputs": [],
   "source": [
    "#Impoting functions from 'Kudzu'\n",
    "from kudzu.model import Model\n",
    "from kudzu.train import Learner\n",
    "from kudzu.optim import GD\n",
    "from kudzu.data import Data, Sampler,Dataloader\n",
    "\n",
    "from kudzu.callbacks import AccCallback\n",
    "from kudzu.callbacks import ClfCallback\n",
    "\n",
    "from kudzu.loss import MSE\n",
    "\n",
    "from kudzu.layer import Sigmoid,Relu\n",
    "from kudzu.layer import Affine"
   ]
  },
  {
   "cell_type": "markdown",
   "id": "bc01172a",
   "metadata": {
    "papermill": {
     "duration": 0.030008,
     "end_time": "2022-08-07T20:12:11.457787",
     "exception": false,
     "start_time": "2022-08-07T20:12:11.427779",
     "status": "completed"
    },
    "tags": []
   },
   "source": [
    "### Let us create a `Config` class, to store important parameters. \n",
    "This class essentially plays the role of a dictionary."
   ]
  },
  {
   "cell_type": "code",
   "execution_count": 16,
   "id": "978281aa",
   "metadata": {
    "execution": {
     "iopub.execute_input": "2022-08-07T20:12:11.522461Z",
     "iopub.status.busy": "2022-08-07T20:12:11.521810Z",
     "iopub.status.idle": "2022-08-07T20:12:11.535007Z",
     "shell.execute_reply": "2022-08-07T20:12:11.534448Z"
    },
    "papermill": {
     "duration": 0.047521,
     "end_time": "2022-08-07T20:12:11.535124",
     "exception": false,
     "start_time": "2022-08-07T20:12:11.487603",
     "status": "completed"
    },
    "tags": []
   },
   "outputs": [],
   "source": [
    "class Config:\n",
    "    pass\n",
    "config = Config()\n",
    "config.lr = 0.001\n",
    "config.num_epochs = 250\n",
    "config.bs = 50"
   ]
  },
  {
   "cell_type": "markdown",
   "id": "1385fa59",
   "metadata": {
    "papermill": {
     "duration": 0.029964,
     "end_time": "2022-08-07T20:12:11.596971",
     "exception": false,
     "start_time": "2022-08-07T20:12:11.567007",
     "status": "completed"
    },
    "tags": []
   },
   "source": [
    "### Running Models with the Training data\n",
    "Details about the network layers:\n",
    "- A first affine layer has 784 inputs and does 100 affine transforms. These are followed by a Relu\n",
    "- A second affine layer has 100 inputs from the 100 activations of the past layer, and does 100 affine transforms. These are followed by a Relu\n",
    "- A third affine layer has 100 activations and does 2 affine transformations to create an embedding for visualization. There is no non-linearity here.\n",
    "- A final \"logistic regression\" which has an affine transform from 2 inputs to 1 output, which is squeezed through a sigmoid.\n"
   ]
  },
  {
   "cell_type": "code",
   "execution_count": 17,
   "id": "2b9c66db",
   "metadata": {
    "execution": {
     "iopub.execute_input": "2022-08-07T20:12:11.661800Z",
     "iopub.status.busy": "2022-08-07T20:12:11.661160Z",
     "iopub.status.idle": "2022-08-07T20:12:11.673072Z",
     "shell.execute_reply": "2022-08-07T20:12:11.673573Z"
    },
    "papermill": {
     "duration": 0.046141,
     "end_time": "2022-08-07T20:12:11.673695",
     "exception": false,
     "start_time": "2022-08-07T20:12:11.627554",
     "status": "completed"
    },
    "tags": []
   },
   "outputs": [],
   "source": [
    "data = Data(X_train, y_train.reshape(-1,1))\n",
    "sampler = Sampler(data, config.bs, shuffle=True)\n",
    "\n",
    "dl = Dataloader(data, sampler)\n",
    "\n",
    "opt = GD(config.lr)\n",
    "loss = MSE()"
   ]
  },
  {
   "cell_type": "code",
   "execution_count": 18,
   "id": "b275e4c2",
   "metadata": {
    "execution": {
     "iopub.execute_input": "2022-08-07T20:12:11.739917Z",
     "iopub.status.busy": "2022-08-07T20:12:11.739274Z",
     "iopub.status.idle": "2022-08-07T20:12:11.751924Z",
     "shell.execute_reply": "2022-08-07T20:12:11.751348Z"
    },
    "papermill": {
     "duration": 0.047335,
     "end_time": "2022-08-07T20:12:11.752048",
     "exception": false,
     "start_time": "2022-08-07T20:12:11.704713",
     "status": "completed"
    },
    "tags": []
   },
   "outputs": [],
   "source": [
    "training_data_x = X_train\n",
    "testing_data_x = X_test\n",
    "training_data_y = y_train.reshape(-1,1)\n",
    "testing_data_y = y_test.reshape(-1,1)"
   ]
  },
  {
   "cell_type": "code",
   "execution_count": 19,
   "id": "76951160",
   "metadata": {
    "execution": {
     "iopub.execute_input": "2022-08-07T20:12:11.824261Z",
     "iopub.status.busy": "2022-08-07T20:12:11.823533Z",
     "iopub.status.idle": "2022-08-07T20:12:11.838709Z",
     "shell.execute_reply": "2022-08-07T20:12:11.839357Z"
    },
    "papermill": {
     "duration": 0.054984,
     "end_time": "2022-08-07T20:12:11.839486",
     "exception": false,
     "start_time": "2022-08-07T20:12:11.784502",
     "status": "completed"
    },
    "tags": []
   },
   "outputs": [
    {
     "name": "stdout",
     "output_type": "stream",
     "text": [
      "xavier\n",
      "xavier\n",
      "xavier\n",
      "xavier\n",
      "xavier\n"
     ]
    }
   ],
   "source": [
    "layers = [Affine(\"first\", 784, 100), Relu(\"first\"), Affine(\"second\", 100, 100), Relu(\"second\"), Affine(\"third\", 100, 2), Affine(\"last\", 2, 1), Sigmoid(\"last\")]\n",
    "model_nn = Model(layers)\n",
    "model_lr = Model([Affine(\"logits\", 784, 1), Sigmoid(\"sigmoid\")])"
   ]
  },
  {
   "cell_type": "code",
   "execution_count": 20,
   "id": "6eede77a",
   "metadata": {
    "execution": {
     "iopub.execute_input": "2022-08-07T20:12:11.906887Z",
     "iopub.status.busy": "2022-08-07T20:12:11.906249Z",
     "iopub.status.idle": "2022-08-07T20:12:11.915999Z",
     "shell.execute_reply": "2022-08-07T20:12:11.916641Z"
    },
    "papermill": {
     "duration": 0.04614,
     "end_time": "2022-08-07T20:12:11.916760",
     "exception": false,
     "start_time": "2022-08-07T20:12:11.870620",
     "status": "completed"
    },
    "tags": []
   },
   "outputs": [],
   "source": [
    "nn_learner = Learner(loss, model_nn, opt, config.num_epochs)\n",
    "acc_nn = ClfCallback(nn_learner, config.bs, training_data_x , testing_data_x, training_data_y, testing_data_y)\n",
    "nn_learner.set_callbacks([acc_nn])"
   ]
  },
  {
   "cell_type": "code",
   "execution_count": 21,
   "id": "877b6cc7",
   "metadata": {
    "execution": {
     "iopub.execute_input": "2022-08-07T20:12:11.985598Z",
     "iopub.status.busy": "2022-08-07T20:12:11.982289Z",
     "iopub.status.idle": "2022-08-07T20:12:11.994906Z",
     "shell.execute_reply": "2022-08-07T20:12:11.995448Z"
    },
    "papermill": {
     "duration": 0.049068,
     "end_time": "2022-08-07T20:12:11.995569",
     "exception": false,
     "start_time": "2022-08-07T20:12:11.946501",
     "status": "completed"
    },
    "tags": []
   },
   "outputs": [],
   "source": [
    "lr_learner = Learner(loss, model_lr, opt, config.num_epochs)\n",
    "acc_lr = ClfCallback(lr_learner, config.bs, training_data_x , testing_data_x, training_data_y, testing_data_y)\n",
    "lr_learner.set_callbacks([acc_lr])"
   ]
  },
  {
   "cell_type": "code",
   "execution_count": 22,
   "id": "d9b133c3",
   "metadata": {
    "execution": {
     "iopub.execute_input": "2022-08-07T20:12:12.062321Z",
     "iopub.status.busy": "2022-08-07T20:12:12.061674Z",
     "iopub.status.idle": "2022-08-07T20:14:13.264488Z",
     "shell.execute_reply": "2022-08-07T20:14:13.265501Z"
    },
    "papermill": {
     "duration": 121.238284,
     "end_time": "2022-08-07T20:14:13.265651",
     "exception": false,
     "start_time": "2022-08-07T20:12:12.027367",
     "status": "completed"
    },
    "tags": []
   },
   "outputs": [
    {
     "name": "stdout",
     "output_type": "stream",
     "text": [
      "Epoch 0, Loss 0.2393\n",
      "Training Accuracy: 0.7574, Testing Accuracy: 0.7828\n",
      "\n"
     ]
    },
    {
     "name": "stdout",
     "output_type": "stream",
     "text": [
      "Epoch 10, Loss 0.0652\n",
      "Training Accuracy: 0.9347, Testing Accuracy: 0.9491\n",
      "\n"
     ]
    },
    {
     "name": "stdout",
     "output_type": "stream",
     "text": [
      "Epoch 20, Loss 0.044\n",
      "Training Accuracy: 0.9542, Testing Accuracy: 0.9662\n",
      "\n"
     ]
    },
    {
     "name": "stdout",
     "output_type": "stream",
     "text": [
      "Epoch 30, Loss 0.036\n",
      "Training Accuracy: 0.9619, Testing Accuracy: 0.9723\n",
      "\n"
     ]
    },
    {
     "name": "stdout",
     "output_type": "stream",
     "text": [
      "Epoch 40, Loss 0.0317\n",
      "Training Accuracy: 0.9664, Testing Accuracy: 0.9718\n",
      "\n"
     ]
    },
    {
     "name": "stdout",
     "output_type": "stream",
     "text": [
      "Epoch 50, Loss 0.0289\n",
      "Training Accuracy: 0.9679, Testing Accuracy: 0.9728\n",
      "\n"
     ]
    },
    {
     "name": "stdout",
     "output_type": "stream",
     "text": [
      "Epoch 60, Loss 0.0268\n",
      "Training Accuracy: 0.9697, Testing Accuracy: 0.9738\n",
      "\n"
     ]
    },
    {
     "name": "stdout",
     "output_type": "stream",
     "text": [
      "Epoch 70, Loss 0.0252\n",
      "Training Accuracy: 0.9713, Testing Accuracy: 0.9733\n",
      "\n"
     ]
    },
    {
     "name": "stdout",
     "output_type": "stream",
     "text": [
      "Epoch 80, Loss 0.0239\n",
      "Training Accuracy: 0.9725, Testing Accuracy: 0.9738\n",
      "\n"
     ]
    },
    {
     "name": "stdout",
     "output_type": "stream",
     "text": [
      "Epoch 90, Loss 0.0228\n",
      "Training Accuracy: 0.9740, Testing Accuracy: 0.9728\n",
      "\n"
     ]
    },
    {
     "name": "stdout",
     "output_type": "stream",
     "text": [
      "Epoch 100, Loss 0.0219\n",
      "Training Accuracy: 0.9755, Testing Accuracy: 0.9733\n",
      "\n"
     ]
    },
    {
     "name": "stdout",
     "output_type": "stream",
     "text": [
      "Epoch 110, Loss 0.0211\n",
      "Training Accuracy: 0.9765, Testing Accuracy: 0.9733\n",
      "\n"
     ]
    },
    {
     "name": "stdout",
     "output_type": "stream",
     "text": [
      "Epoch 120, Loss 0.0203\n",
      "Training Accuracy: 0.9775, Testing Accuracy: 0.9733\n",
      "\n"
     ]
    },
    {
     "name": "stdout",
     "output_type": "stream",
     "text": [
      "Epoch 130, Loss 0.0197\n",
      "Training Accuracy: 0.9779, Testing Accuracy: 0.9748\n",
      "\n"
     ]
    },
    {
     "name": "stdout",
     "output_type": "stream",
     "text": [
      "Epoch 140, Loss 0.019\n",
      "Training Accuracy: 0.9787, Testing Accuracy: 0.9748\n",
      "\n"
     ]
    },
    {
     "name": "stdout",
     "output_type": "stream",
     "text": [
      "Epoch 150, Loss 0.0184\n",
      "Training Accuracy: 0.9796, Testing Accuracy: 0.9763\n",
      "\n"
     ]
    },
    {
     "name": "stdout",
     "output_type": "stream",
     "text": [
      "Epoch 160, Loss 0.0179\n",
      "Training Accuracy: 0.9806, Testing Accuracy: 0.9773\n",
      "\n"
     ]
    },
    {
     "name": "stdout",
     "output_type": "stream",
     "text": [
      "Epoch 170, Loss 0.0174\n",
      "Training Accuracy: 0.9813, Testing Accuracy: 0.9778\n",
      "\n"
     ]
    },
    {
     "name": "stdout",
     "output_type": "stream",
     "text": [
      "Epoch 180, Loss 0.0169\n",
      "Training Accuracy: 0.9820, Testing Accuracy: 0.9778\n",
      "\n"
     ]
    },
    {
     "name": "stdout",
     "output_type": "stream",
     "text": [
      "Epoch 190, Loss 0.0164\n",
      "Training Accuracy: 0.9825, Testing Accuracy: 0.9788\n",
      "\n"
     ]
    },
    {
     "name": "stdout",
     "output_type": "stream",
     "text": [
      "Epoch 200, Loss 0.0159\n",
      "Training Accuracy: 0.9832, Testing Accuracy: 0.9793\n",
      "\n"
     ]
    },
    {
     "name": "stdout",
     "output_type": "stream",
     "text": [
      "Epoch 210, Loss 0.0155\n",
      "Training Accuracy: 0.9836, Testing Accuracy: 0.9803\n",
      "\n"
     ]
    },
    {
     "name": "stdout",
     "output_type": "stream",
     "text": [
      "Epoch 220, Loss 0.0151\n",
      "Training Accuracy: 0.9842, Testing Accuracy: 0.9803\n",
      "\n"
     ]
    },
    {
     "name": "stdout",
     "output_type": "stream",
     "text": [
      "Epoch 230, Loss 0.0147\n",
      "Training Accuracy: 0.9848, Testing Accuracy: 0.9803\n",
      "\n"
     ]
    },
    {
     "name": "stdout",
     "output_type": "stream",
     "text": [
      "Epoch 240, Loss 0.0143\n",
      "Training Accuracy: 0.9854, Testing Accuracy: 0.9808\n",
      "\n"
     ]
    },
    {
     "data": {
      "text/plain": [
       "0.0006608932040067153"
      ]
     },
     "execution_count": 22,
     "metadata": {},
     "output_type": "execute_result"
    }
   ],
   "source": [
    "nn_learner.train_loop(dl)"
   ]
  },
  {
   "cell_type": "code",
   "execution_count": 23,
   "id": "e0163366",
   "metadata": {
    "execution": {
     "iopub.execute_input": "2022-08-07T20:14:13.360019Z",
     "iopub.status.busy": "2022-08-07T20:14:13.359324Z",
     "iopub.status.idle": "2022-08-07T20:14:30.920505Z",
     "shell.execute_reply": "2022-08-07T20:14:30.921371Z"
    },
    "papermill": {
     "duration": 17.613486,
     "end_time": "2022-08-07T20:14:30.921533",
     "exception": false,
     "start_time": "2022-08-07T20:14:13.308047",
     "status": "completed"
    },
    "tags": []
   },
   "outputs": [
    {
     "name": "stdout",
     "output_type": "stream",
     "text": [
      "Epoch 0, Loss 0.2287\n",
      "Training Accuracy: 0.7350, Testing Accuracy: 0.7530\n",
      "\n"
     ]
    },
    {
     "name": "stdout",
     "output_type": "stream",
     "text": [
      "Epoch 10, Loss 0.1038\n",
      "Training Accuracy: 0.9058, Testing Accuracy: 0.9088\n",
      "\n"
     ]
    },
    {
     "name": "stdout",
     "output_type": "stream",
     "text": [
      "Epoch 20, Loss 0.0802\n",
      "Training Accuracy: 0.9260, Testing Accuracy: 0.9365\n",
      "\n"
     ]
    },
    {
     "name": "stdout",
     "output_type": "stream",
     "text": [
      "Epoch 30, Loss 0.0691\n",
      "Training Accuracy: 0.9350, Testing Accuracy: 0.9446\n",
      "\n"
     ]
    },
    {
     "name": "stdout",
     "output_type": "stream",
     "text": [
      "Epoch 40, Loss 0.0625\n",
      "Training Accuracy: 0.9397, Testing Accuracy: 0.9491\n",
      "\n"
     ]
    },
    {
     "name": "stdout",
     "output_type": "stream",
     "text": [
      "Epoch 50, Loss 0.0579\n",
      "Training Accuracy: 0.9436, Testing Accuracy: 0.9556\n",
      "\n"
     ]
    },
    {
     "name": "stdout",
     "output_type": "stream",
     "text": [
      "Epoch 60, Loss 0.0545\n",
      "Training Accuracy: 0.9459, Testing Accuracy: 0.9577\n",
      "\n"
     ]
    },
    {
     "name": "stdout",
     "output_type": "stream",
     "text": [
      "Epoch 70, Loss 0.052\n",
      "Training Accuracy: 0.9483, Testing Accuracy: 0.9577\n",
      "\n"
     ]
    },
    {
     "name": "stdout",
     "output_type": "stream",
     "text": [
      "Epoch 80, Loss 0.0499\n",
      "Training Accuracy: 0.9493, Testing Accuracy: 0.9597\n",
      "\n"
     ]
    },
    {
     "name": "stdout",
     "output_type": "stream",
     "text": [
      "Epoch 90, Loss 0.0481\n",
      "Training Accuracy: 0.9506, Testing Accuracy: 0.9612\n",
      "\n"
     ]
    },
    {
     "name": "stdout",
     "output_type": "stream",
     "text": [
      "Epoch 100, Loss 0.0467\n",
      "Training Accuracy: 0.9513, Testing Accuracy: 0.9622\n",
      "\n"
     ]
    },
    {
     "name": "stdout",
     "output_type": "stream",
     "text": [
      "Epoch 110, Loss 0.0454\n",
      "Training Accuracy: 0.9530, Testing Accuracy: 0.9627\n",
      "\n"
     ]
    },
    {
     "name": "stdout",
     "output_type": "stream",
     "text": [
      "Epoch 120, Loss 0.0444\n",
      "Training Accuracy: 0.9534, Testing Accuracy: 0.9627\n",
      "\n"
     ]
    },
    {
     "name": "stdout",
     "output_type": "stream",
     "text": [
      "Epoch 130, Loss 0.0434\n",
      "Training Accuracy: 0.9552, Testing Accuracy: 0.9632\n",
      "\n"
     ]
    },
    {
     "name": "stdout",
     "output_type": "stream",
     "text": [
      "Epoch 140, Loss 0.0426\n",
      "Training Accuracy: 0.9558, Testing Accuracy: 0.9642\n",
      "\n"
     ]
    },
    {
     "name": "stdout",
     "output_type": "stream",
     "text": [
      "Epoch 150, Loss 0.0418\n",
      "Training Accuracy: 0.9563, Testing Accuracy: 0.9642\n",
      "\n"
     ]
    },
    {
     "name": "stdout",
     "output_type": "stream",
     "text": [
      "Epoch 160, Loss 0.0411\n",
      "Training Accuracy: 0.9567, Testing Accuracy: 0.9647\n",
      "\n"
     ]
    },
    {
     "name": "stdout",
     "output_type": "stream",
     "text": [
      "Epoch 170, Loss 0.0405\n",
      "Training Accuracy: 0.9573, Testing Accuracy: 0.9647\n",
      "\n"
     ]
    },
    {
     "name": "stdout",
     "output_type": "stream",
     "text": [
      "Epoch 180, Loss 0.0399\n",
      "Training Accuracy: 0.9576, Testing Accuracy: 0.9647\n",
      "\n"
     ]
    },
    {
     "name": "stdout",
     "output_type": "stream",
     "text": [
      "Epoch 190, Loss 0.0394\n",
      "Training Accuracy: 0.9579, Testing Accuracy: 0.9647\n",
      "\n"
     ]
    },
    {
     "name": "stdout",
     "output_type": "stream",
     "text": [
      "Epoch 200, Loss 0.0389\n",
      "Training Accuracy: 0.9580, Testing Accuracy: 0.9647\n",
      "\n"
     ]
    },
    {
     "name": "stdout",
     "output_type": "stream",
     "text": [
      "Epoch 210, Loss 0.0384\n",
      "Training Accuracy: 0.9586, Testing Accuracy: 0.9647\n",
      "\n"
     ]
    },
    {
     "name": "stdout",
     "output_type": "stream",
     "text": [
      "Epoch 220, Loss 0.038\n",
      "Training Accuracy: 0.9592, Testing Accuracy: 0.9647\n",
      "\n"
     ]
    },
    {
     "name": "stdout",
     "output_type": "stream",
     "text": [
      "Epoch 230, Loss 0.0376\n",
      "Training Accuracy: 0.9598, Testing Accuracy: 0.9647\n",
      "\n"
     ]
    },
    {
     "name": "stdout",
     "output_type": "stream",
     "text": [
      "Epoch 240, Loss 0.0372\n",
      "Training Accuracy: 0.9603, Testing Accuracy: 0.9647\n",
      "\n"
     ]
    },
    {
     "data": {
      "text/plain": [
       "0.02982832958358985"
      ]
     },
     "execution_count": 23,
     "metadata": {},
     "output_type": "execute_result"
    }
   ],
   "source": [
    "lr_learner.train_loop(dl)"
   ]
  },
  {
   "cell_type": "code",
   "execution_count": 24,
   "id": "ca410940",
   "metadata": {
    "execution": {
     "iopub.execute_input": "2022-08-07T20:14:31.027199Z",
     "iopub.status.busy": "2022-08-07T20:14:31.026551Z",
     "iopub.status.idle": "2022-08-07T20:14:31.279140Z",
     "shell.execute_reply": "2022-08-07T20:14:31.278621Z"
    },
    "papermill": {
     "duration": 0.31,
     "end_time": "2022-08-07T20:14:31.279266",
     "exception": false,
     "start_time": "2022-08-07T20:14:30.969266",
     "status": "completed"
    },
    "tags": []
   },
   "outputs": [
    {
     "data": {
      "text/plain": [
       "<matplotlib.legend.Legend at 0x7f403cdc0cf8>"
      ]
     },
     "execution_count": 24,
     "metadata": {},
     "output_type": "execute_result"
    },
    {
     "data": {
      "image/png": "[encoded data removed]",
      "text/plain": [
       "<Figure size 1080x720 with 1 Axes>"
      ]
     },
     "metadata": {
      "needs_background": "light"
     },
     "output_type": "display_data"
    }
   ],
   "source": [
    "#comparing the results of NN and LR\n",
    "plt.figure(figsize=(15,10))\n",
    "\n",
    "# Neural Network plots\n",
    "plt.plot(acc_nn.accuracies, 'r-', label = \"Training Accuracies - NN\")\n",
    "plt.plot(acc_nn.test_accuracies, 'g-', label = \"Testing Accuracies - NN\")\n",
    "\n",
    "# Logistic Regression plots\n",
    "plt.plot(acc_lr.accuracies, 'k-', label = \"Training Accuracies - LR\")\n",
    "plt.plot(acc_lr.test_accuracies, 'b-', label = \"Testing Accuracies - LR\")\n",
    "plt.legend()"
   ]
  },
  {
   "cell_type": "markdown",
   "id": "80dfb35c",
   "metadata": {
    "papermill": {
     "duration": 0.05149,
     "end_time": "2022-08-07T20:14:31.378161",
     "exception": false,
     "start_time": "2022-08-07T20:14:31.326671",
     "status": "completed"
    },
    "tags": []
   },
   "source": [
    "#### Plotting the outputs of this layer of the NN.\n"
   ]
  },
  {
   "cell_type": "code",
   "execution_count": 25,
   "id": "45eb2ff5",
   "metadata": {
    "execution": {
     "iopub.execute_input": "2022-08-07T20:14:31.480035Z",
     "iopub.status.busy": "2022-08-07T20:14:31.478558Z",
     "iopub.status.idle": "2022-08-07T20:14:31.502664Z",
     "shell.execute_reply": "2022-08-07T20:14:31.503307Z"
    },
    "papermill": {
     "duration": 0.077909,
     "end_time": "2022-08-07T20:14:31.503457",
     "exception": false,
     "start_time": "2022-08-07T20:14:31.425548",
     "status": "completed"
    },
    "tags": []
   },
   "outputs": [],
   "source": [
    "new_model = Model(layers[:-2])\n",
    "testing_plot = new_model(testing_data_x)"
   ]
  },
  {
   "cell_type": "code",
   "execution_count": 26,
   "id": "4c0a5485",
   "metadata": {
    "execution": {
     "iopub.execute_input": "2022-08-07T20:14:31.608619Z",
     "iopub.status.busy": "2022-08-07T20:14:31.605977Z",
     "iopub.status.idle": "2022-08-07T20:14:31.856042Z",
     "shell.execute_reply": "2022-08-07T20:14:31.855524Z"
    },
    "papermill": {
     "duration": 0.304493,
     "end_time": "2022-08-07T20:14:31.856266",
     "exception": false,
     "start_time": "2022-08-07T20:14:31.551773",
     "status": "completed"
    },
    "tags": []
   },
   "outputs": [
    {
     "data": {
      "text/plain": [
       "Text(0.5, 1.0, 'Outputs')"
      ]
     },
     "execution_count": 26,
     "metadata": {},
     "output_type": "execute_result"
    },
    {
     "data": {
      "image/png": "[encoded data removed]",
      "text/plain": [
       "<Figure size 576x504 with 1 Axes>"
      ]
     },
     "metadata": {
      "needs_background": "light"
     },
     "output_type": "display_data"
    }
   ],
   "source": [
    "# Plotting the scatter plot of points and color coding by class\n",
    "plt.figure(figsize=(8,7))\n",
    "plt.scatter(testing_plot[:,0], testing_plot[:,1], alpha = 0.1, c = y_test.ravel());\n",
    "plt.title('Outputs')"
   ]
  },
  {
   "cell_type": "markdown",
   "id": "a74fcf8f",
   "metadata": {
    "papermill": {
     "duration": 0.050023,
     "end_time": "2022-08-07T20:14:31.956425",
     "exception": false,
     "start_time": "2022-08-07T20:14:31.906402",
     "status": "completed"
    },
    "tags": []
   },
   "source": [
    "Probability contours"
   ]
  },
  {
   "cell_type": "code",
   "execution_count": 27,
   "id": "d0afc8e3",
   "metadata": {
    "execution": {
     "iopub.execute_input": "2022-08-07T20:14:32.065992Z",
     "iopub.status.busy": "2022-08-07T20:14:32.065139Z",
     "iopub.status.idle": "2022-08-07T20:14:32.074991Z",
     "shell.execute_reply": "2022-08-07T20:14:32.075640Z"
    },
    "papermill": {
     "duration": 0.069898,
     "end_time": "2022-08-07T20:14:32.075767",
     "exception": false,
     "start_time": "2022-08-07T20:14:32.005869",
     "status": "completed"
    },
    "tags": []
   },
   "outputs": [],
   "source": [
    "model_prob = Model(layers[-2:]) "
   ]
  },
  {
   "cell_type": "code",
   "execution_count": 28,
   "id": "9b96e238",
   "metadata": {
    "execution": {
     "iopub.execute_input": "2022-08-07T20:14:32.209925Z",
     "iopub.status.busy": "2022-08-07T20:14:32.208529Z",
     "iopub.status.idle": "2022-08-07T20:14:32.221758Z",
     "shell.execute_reply": "2022-08-07T20:14:32.222239Z"
    },
    "papermill": {
     "duration": 0.075091,
     "end_time": "2022-08-07T20:14:32.222373",
     "exception": false,
     "start_time": "2022-08-07T20:14:32.147282",
     "status": "completed"
    },
    "tags": []
   },
   "outputs": [],
   "source": [
    "#creating the x and y ranges according to the above generated plot.\n",
    "x_range = np.linspace(-4, 1, 100) \n",
    "y_range = np.linspace(-6, 6, 100) \n",
    "x_grid, y_grid = np.meshgrid(x_range, y_range) # x_grid and y_grig are of size 100 X 100\n",
    "\n",
    "# converting x_grid and y_grid to continuous arrays\n",
    "x_gridflat = np.ravel(x_grid)\n",
    "y_gridflat = np.ravel(y_grid)\n",
    "\n",
    "# The last layer of the current model takes two columns as input. Hence transpose of np.vstack() is required.\n",
    "X = np.vstack((x_gridflat, y_gridflat)).T\n",
    "\n",
    "prob_contour = model_prob(X).reshape(100,100) "
   ]
  },
  {
   "cell_type": "code",
   "execution_count": 29,
   "id": "da72499a",
   "metadata": {
    "execution": {
     "iopub.execute_input": "2022-08-07T20:14:32.328637Z",
     "iopub.status.busy": "2022-08-07T20:14:32.326774Z",
     "iopub.status.idle": "2022-08-07T20:14:32.622984Z",
     "shell.execute_reply": "2022-08-07T20:14:32.623541Z"
    },
    "papermill": {
     "duration": 0.3518,
     "end_time": "2022-08-07T20:14:32.623690",
     "exception": false,
     "start_time": "2022-08-07T20:14:32.271890",
     "status": "completed"
    },
    "tags": []
   },
   "outputs": [
    {
     "data": {
      "image/png": "[encoded data removed]",
      "text/plain": [
       "<Figure size 720x648 with 1 Axes>"
      ]
     },
     "metadata": {
      "needs_background": "light"
     },
     "output_type": "display_data"
    }
   ],
   "source": [
    "plt.figure(figsize=(10,9))\n",
    "plt.scatter(testing_plot[:,0], testing_plot[:,1], alpha = 0.1, c = y_test.ravel())\n",
    "contours = plt.contour(x_grid,y_grid,prob_contour)\n",
    "plt.title('Probability Contours')\n",
    "plt.clabel(contours, inline = True );"
   ]
  },
  {
   "cell_type": "code",
   "execution_count": null,
   "id": "e81b4ac7",
   "metadata": {
    "papermill": {
     "duration": 0.051553,
     "end_time": "2022-08-07T20:14:32.726911",
     "exception": false,
     "start_time": "2022-08-07T20:14:32.675358",
     "status": "completed"
    },
    "tags": []
   },
   "outputs": [],
   "source": []
  }
 ],
 "metadata": {
  "kernelspec": {
   "display_name": "Python 3",
   "language": "python",
   "name": "python3"
  },
  "language_info": {
   "codemirror_mode": {
    "name": "ipython",
    "version": 3
   },
   "file_extension": ".py",
   "mimetype": "text/x-python",
   "name": "python",
   "nbconvert_exporter": "python",
   "pygments_lexer": "ipython3",
   "version": "3.6.15"
  },
  "papermill": {
   "default_parameters": {},
   "duration": 148.004578,
   "end_time": "2022-08-07T20:14:33.197729",
   "environment_variables": {},
   "exception": null,
   "input_path": "2020-08-11-part2.ipynb",
   "output_path": "2020-08-11-part2.ipynb",
   "parameters": {},
   "start_time": "2022-08-07T20:12:05.193151",
   "version": "2.3.3"
  }
 },
 "nbformat": 4,
 "nbformat_minor": 5
}