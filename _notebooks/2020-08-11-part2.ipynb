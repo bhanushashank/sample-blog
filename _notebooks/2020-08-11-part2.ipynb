{
 "cells": [
  {
   "cell_type": "markdown",
   "id": "98380cd3",
   "metadata": {
    "papermill": {
     "duration": 0.042743,
     "end_time": "2021-12-24T10:09:44.541334",
     "exception": false,
     "start_time": "2021-12-24T10:09:44.498591",
     "status": "completed"
    },
    "tags": []
   },
   "source": [
    "# Distinguish Your Own Digits (DYOD)"
   ]
  },
  {
   "cell_type": "markdown",
   "id": "ef31240d",
   "metadata": {
    "papermill": {
     "duration": 0.028645,
     "end_time": "2021-12-24T10:09:44.598314",
     "exception": false,
     "start_time": "2021-12-24T10:09:44.569669",
     "status": "completed"
    },
    "tags": []
   },
   "source": [
    "You are going to write a classifier that distinguishes between the number 3 and number 8."
   ]
  },
  {
   "cell_type": "code",
   "execution_count": 1,
   "id": "b15c8646",
   "metadata": {
    "execution": {
     "iopub.execute_input": "2021-12-24T10:09:44.668537Z",
     "iopub.status.busy": "2021-12-24T10:09:44.667472Z",
     "iopub.status.idle": "2021-12-24T10:09:44.678605Z",
     "shell.execute_reply": "2021-12-24T10:09:44.678068Z"
    },
    "papermill": {
     "duration": 0.052374,
     "end_time": "2021-12-24T10:09:44.678875",
     "exception": false,
     "start_time": "2021-12-24T10:09:44.626501",
     "status": "completed"
    },
    "tags": []
   },
   "outputs": [],
   "source": [
    "%load_ext autoreload\n",
    "%autoreload 2"
   ]
  },
  {
   "cell_type": "code",
   "execution_count": 2,
   "id": "22ef38dc",
   "metadata": {
    "execution": {
     "iopub.execute_input": "2021-12-24T10:09:44.747164Z",
     "iopub.status.busy": "2021-12-24T10:09:44.746547Z",
     "iopub.status.idle": "2021-12-24T10:09:45.455289Z",
     "shell.execute_reply": "2021-12-24T10:09:45.455797Z"
    },
    "papermill": {
     "duration": 0.742172,
     "end_time": "2021-12-24T10:09:45.455961",
     "exception": false,
     "start_time": "2021-12-24T10:09:44.713789",
     "status": "completed"
    },
    "tags": []
   },
   "outputs": [],
   "source": [
    "%matplotlib inline\n",
    "import numpy as np\n",
    "import matplotlib.pyplot as plt\n",
    "import pandas as pd"
   ]
  },
  {
   "cell_type": "markdown",
   "id": "ba036198",
   "metadata": {
    "papermill": {
     "duration": 0.029785,
     "end_time": "2021-12-24T10:09:45.514065",
     "exception": false,
     "start_time": "2021-12-24T10:09:45.484280",
     "status": "completed"
    },
    "tags": []
   },
   "source": [
    "From the command line run `pip install mnist`. This is a library that will help you bring down the mnist dataset. If you run this from a notebook, you need to put  `!pip install mnist` in a cell by itself."
   ]
  },
  {
   "cell_type": "code",
   "execution_count": 3,
   "id": "bb6ad8a1",
   "metadata": {
    "execution": {
     "iopub.execute_input": "2021-12-24T10:09:45.582141Z",
     "iopub.status.busy": "2021-12-24T10:09:45.581413Z",
     "iopub.status.idle": "2021-12-24T10:09:47.639561Z",
     "shell.execute_reply": "2021-12-24T10:09:47.638582Z"
    },
    "papermill": {
     "duration": 2.092381,
     "end_time": "2021-12-24T10:09:47.639717",
     "exception": false,
     "start_time": "2021-12-24T10:09:45.547336",
     "status": "completed"
    },
    "tags": []
   },
   "outputs": [
    {
     "name": "stdout",
     "output_type": "stream",
     "text": [
      "Collecting mnist\r\n"
     ]
    },
    {
     "name": "stdout",
     "output_type": "stream",
     "text": [
      "  Downloading mnist-0.2.2-py2.py3-none-any.whl (3.5 kB)\r\n"
     ]
    },
    {
     "name": "stdout",
     "output_type": "stream",
     "text": [
      "Requirement already satisfied: numpy in /opt/hostedtoolcache/Python/3.6.15/x64/lib/python3.6/site-packages (from mnist) (1.19.5)\r\n"
     ]
    },
    {
     "name": "stdout",
     "output_type": "stream",
     "text": [
      "Installing collected packages: mnist\r\n"
     ]
    },
    {
     "name": "stdout",
     "output_type": "stream",
     "text": [
      "Successfully installed mnist-0.2.2\r\n"
     ]
    }
   ],
   "source": [
    "!pip install mnist"
   ]
  },
  {
   "cell_type": "markdown",
   "id": "69df9c9a",
   "metadata": {
    "papermill": {
     "duration": 0.029309,
     "end_time": "2021-12-24T10:09:47.699378",
     "exception": false,
     "start_time": "2021-12-24T10:09:47.670069",
     "status": "completed"
    },
    "tags": []
   },
   "source": [
    "## Preparing the Data"
   ]
  },
  {
   "cell_type": "code",
   "execution_count": 4,
   "id": "7f69d806",
   "metadata": {
    "execution": {
     "iopub.execute_input": "2021-12-24T10:09:47.765066Z",
     "iopub.status.busy": "2021-12-24T10:09:47.763383Z",
     "iopub.status.idle": "2021-12-24T10:09:47.783119Z",
     "shell.execute_reply": "2021-12-24T10:09:47.782591Z"
    },
    "papermill": {
     "duration": 0.054263,
     "end_time": "2021-12-24T10:09:47.783259",
     "exception": false,
     "start_time": "2021-12-24T10:09:47.728996",
     "status": "completed"
    },
    "tags": []
   },
   "outputs": [],
   "source": [
    "import mnist"
   ]
  },
  {
   "cell_type": "code",
   "execution_count": 5,
   "id": "a411e44f",
   "metadata": {
    "execution": {
     "iopub.execute_input": "2021-12-24T10:09:47.851856Z",
     "iopub.status.busy": "2021-12-24T10:09:47.851243Z",
     "iopub.status.idle": "2021-12-24T10:09:48.454623Z",
     "shell.execute_reply": "2021-12-24T10:09:48.454071Z"
    },
    "papermill": {
     "duration": 0.641228,
     "end_time": "2021-12-24T10:09:48.454760",
     "exception": false,
     "start_time": "2021-12-24T10:09:47.813532",
     "status": "completed"
    },
    "tags": []
   },
   "outputs": [],
   "source": [
    "train_images = mnist.train_images()\n",
    "train_labels = mnist.train_labels()"
   ]
  },
  {
   "cell_type": "code",
   "execution_count": 6,
   "id": "dceab3a5",
   "metadata": {
    "execution": {
     "iopub.execute_input": "2021-12-24T10:09:48.521240Z",
     "iopub.status.busy": "2021-12-24T10:09:48.520598Z",
     "iopub.status.idle": "2021-12-24T10:09:48.536875Z",
     "shell.execute_reply": "2021-12-24T10:09:48.536377Z"
    },
    "papermill": {
     "duration": 0.052367,
     "end_time": "2021-12-24T10:09:48.537036",
     "exception": false,
     "start_time": "2021-12-24T10:09:48.484669",
     "status": "completed"
    },
    "tags": []
   },
   "outputs": [
    {
     "data": {
      "text/plain": [
       "((60000, 28, 28), (60000,))"
      ]
     },
     "execution_count": 6,
     "metadata": {},
     "output_type": "execute_result"
    }
   ],
   "source": [
    "train_images.shape, train_labels.shape"
   ]
  },
  {
   "cell_type": "code",
   "execution_count": 7,
   "id": "f50dc2bb",
   "metadata": {
    "execution": {
     "iopub.execute_input": "2021-12-24T10:09:48.604355Z",
     "iopub.status.busy": "2021-12-24T10:09:48.603764Z",
     "iopub.status.idle": "2021-12-24T10:09:48.759406Z",
     "shell.execute_reply": "2021-12-24T10:09:48.758504Z"
    },
    "papermill": {
     "duration": 0.191292,
     "end_time": "2021-12-24T10:09:48.759635",
     "exception": false,
     "start_time": "2021-12-24T10:09:48.568343",
     "status": "completed"
    },
    "tags": []
   },
   "outputs": [],
   "source": [
    "test_images = mnist.test_images()\n",
    "test_labels = mnist.test_labels()"
   ]
  },
  {
   "cell_type": "code",
   "execution_count": 8,
   "id": "fc38cf1b",
   "metadata": {
    "execution": {
     "iopub.execute_input": "2021-12-24T10:09:48.828410Z",
     "iopub.status.busy": "2021-12-24T10:09:48.827816Z",
     "iopub.status.idle": "2021-12-24T10:09:48.842008Z",
     "shell.execute_reply": "2021-12-24T10:09:48.842699Z"
    },
    "papermill": {
     "duration": 0.050334,
     "end_time": "2021-12-24T10:09:48.842900",
     "exception": false,
     "start_time": "2021-12-24T10:09:48.792566",
     "status": "completed"
    },
    "tags": []
   },
   "outputs": [
    {
     "data": {
      "text/plain": [
       "((10000, 28, 28), (10000,))"
      ]
     },
     "execution_count": 8,
     "metadata": {},
     "output_type": "execute_result"
    }
   ],
   "source": [
    "test_images.shape, test_labels.shape"
   ]
  },
  {
   "cell_type": "code",
   "execution_count": 9,
   "id": "f9ed8fe0",
   "metadata": {
    "execution": {
     "iopub.execute_input": "2021-12-24T10:09:48.912178Z",
     "iopub.status.busy": "2021-12-24T10:09:48.911486Z",
     "iopub.status.idle": "2021-12-24T10:09:49.087780Z",
     "shell.execute_reply": "2021-12-24T10:09:49.086902Z"
    },
    "papermill": {
     "duration": 0.212071,
     "end_time": "2021-12-24T10:09:49.087951",
     "exception": false,
     "start_time": "2021-12-24T10:09:48.875880",
     "status": "completed"
    },
    "tags": []
   },
   "outputs": [
    {
     "name": "stdout",
     "output_type": "stream",
     "text": [
      "2\n"
     ]
    },
    {
     "data": {
      "text/plain": [
       "<matplotlib.image.AxesImage at 0x7f8044b01518>"
      ]
     },
     "execution_count": 9,
     "metadata": {},
     "output_type": "execute_result"
    },
    {
     "data": {
      "image/png": "[encoded data removed]",
      "text/plain": [
       "<Figure size 432x288 with 1 Axes>"
      ]
     },
     "metadata": {
      "needs_background": "light"
     },
     "output_type": "display_data"
    }
   ],
   "source": [
    "image_index = 7776 # You may select anything up to 60,000\n",
    "print(train_labels[image_index]) \n",
    "plt.imshow(train_images[image_index], cmap='Greys')"
   ]
  },
  {
   "cell_type": "markdown",
   "id": "a8d2388d",
   "metadata": {
    "papermill": {
     "duration": 0.031661,
     "end_time": "2021-12-24T10:09:49.154630",
     "exception": false,
     "start_time": "2021-12-24T10:09:49.122969",
     "status": "completed"
    },
    "tags": []
   },
   "source": [
    "## Filter data to get 3 and 8 out"
   ]
  },
  {
   "cell_type": "code",
   "execution_count": 10,
   "id": "776f7fc7",
   "metadata": {
    "execution": {
     "iopub.execute_input": "2021-12-24T10:09:49.233982Z",
     "iopub.status.busy": "2021-12-24T10:09:49.227433Z",
     "iopub.status.idle": "2021-12-24T10:09:49.247336Z",
     "shell.execute_reply": "2021-12-24T10:09:49.246813Z"
    },
    "papermill": {
     "duration": 0.058774,
     "end_time": "2021-12-24T10:09:49.247478",
     "exception": false,
     "start_time": "2021-12-24T10:09:49.188704",
     "status": "completed"
    },
    "tags": []
   },
   "outputs": [],
   "source": [
    "train_filter = np.where((train_labels == 3 ) | (train_labels == 8))\n",
    "test_filter = np.where((test_labels == 3) | (test_labels == 8))\n",
    "X_train, y_train = train_images[train_filter], train_labels[train_filter]\n",
    "X_test, y_test = test_images[test_filter], test_labels[test_filter]"
   ]
  },
  {
   "cell_type": "markdown",
   "id": "948f0b7e",
   "metadata": {
    "papermill": {
     "duration": 0.031587,
     "end_time": "2021-12-24T10:09:49.312843",
     "exception": false,
     "start_time": "2021-12-24T10:09:49.281256",
     "status": "completed"
    },
    "tags": []
   },
   "source": [
    "We normalize the pizel values in the 0 to 1 range"
   ]
  },
  {
   "cell_type": "code",
   "execution_count": 11,
   "id": "ee4c2166",
   "metadata": {
    "execution": {
     "iopub.execute_input": "2021-12-24T10:09:49.380297Z",
     "iopub.status.busy": "2021-12-24T10:09:49.379687Z",
     "iopub.status.idle": "2021-12-24T10:09:49.438945Z",
     "shell.execute_reply": "2021-12-24T10:09:49.438402Z"
    },
    "papermill": {
     "duration": 0.09506,
     "end_time": "2021-12-24T10:09:49.439090",
     "exception": false,
     "start_time": "2021-12-24T10:09:49.344030",
     "status": "completed"
    },
    "tags": []
   },
   "outputs": [],
   "source": [
    "X_train = X_train/255.\n",
    "X_test = X_test/255."
   ]
  },
  {
   "cell_type": "markdown",
   "id": "ddcf4fab",
   "metadata": {
    "papermill": {
     "duration": 0.032088,
     "end_time": "2021-12-24T10:09:49.502843",
     "exception": false,
     "start_time": "2021-12-24T10:09:49.470755",
     "status": "completed"
    },
    "tags": []
   },
   "source": [
    "And setup the labels as 1 (when the digit is 3) and 0 (when the digit is 8)"
   ]
  },
  {
   "cell_type": "code",
   "execution_count": 12,
   "id": "7dc908f2",
   "metadata": {
    "execution": {
     "iopub.execute_input": "2021-12-24T10:09:49.570255Z",
     "iopub.status.busy": "2021-12-24T10:09:49.569651Z",
     "iopub.status.idle": "2021-12-24T10:09:49.582897Z",
     "shell.execute_reply": "2021-12-24T10:09:49.582403Z"
    },
    "papermill": {
     "duration": 0.04903,
     "end_time": "2021-12-24T10:09:49.583033",
     "exception": false,
     "start_time": "2021-12-24T10:09:49.534003",
     "status": "completed"
    },
    "tags": []
   },
   "outputs": [],
   "source": [
    "y_train = 1*(y_train==3)\n",
    "y_test = 1*(y_test==3)"
   ]
  },
  {
   "cell_type": "code",
   "execution_count": 13,
   "id": "01e4e969",
   "metadata": {
    "execution": {
     "iopub.execute_input": "2021-12-24T10:09:49.653699Z",
     "iopub.status.busy": "2021-12-24T10:09:49.653102Z",
     "iopub.status.idle": "2021-12-24T10:09:49.671497Z",
     "shell.execute_reply": "2021-12-24T10:09:49.670995Z"
    },
    "papermill": {
     "duration": 0.056407,
     "end_time": "2021-12-24T10:09:49.671636",
     "exception": false,
     "start_time": "2021-12-24T10:09:49.615229",
     "status": "completed"
    },
    "tags": []
   },
   "outputs": [
    {
     "data": {
      "text/plain": [
       "((11982, 28, 28), (1984, 28, 28))"
      ]
     },
     "execution_count": 13,
     "metadata": {},
     "output_type": "execute_result"
    }
   ],
   "source": [
    "X_train.shape, X_test.shape"
   ]
  },
  {
   "cell_type": "markdown",
   "id": "5ccf3f85",
   "metadata": {
    "papermill": {
     "duration": 0.031584,
     "end_time": "2021-12-24T10:09:49.735520",
     "exception": false,
     "start_time": "2021-12-24T10:09:49.703936",
     "status": "completed"
    },
    "tags": []
   },
   "source": [
    "We reshape the data to flatten the image pixels into a set of features or co-variates:"
   ]
  },
  {
   "cell_type": "code",
   "execution_count": 14,
   "id": "5286a4a3",
   "metadata": {
    "execution": {
     "iopub.execute_input": "2021-12-24T10:09:49.808848Z",
     "iopub.status.busy": "2021-12-24T10:09:49.807733Z",
     "iopub.status.idle": "2021-12-24T10:09:49.825862Z",
     "shell.execute_reply": "2021-12-24T10:09:49.825339Z"
    },
    "papermill": {
     "duration": 0.055325,
     "end_time": "2021-12-24T10:09:49.825995",
     "exception": false,
     "start_time": "2021-12-24T10:09:49.770670",
     "status": "completed"
    },
    "tags": []
   },
   "outputs": [
    {
     "data": {
      "text/plain": [
       "((11982, 784), (1984, 784))"
      ]
     },
     "execution_count": 14,
     "metadata": {},
     "output_type": "execute_result"
    }
   ],
   "source": [
    "X_train = X_train.reshape(X_train.shape[0], -1)\n",
    "X_test = X_test.reshape(X_test.shape[0], -1)\n",
    "X_train.shape, X_test.shape"
   ]
  },
  {
   "cell_type": "code",
   "execution_count": 15,
   "id": "73c5f88a",
   "metadata": {
    "execution": {
     "iopub.execute_input": "2021-12-24T10:09:49.895141Z",
     "iopub.status.busy": "2021-12-24T10:09:49.894529Z",
     "iopub.status.idle": "2021-12-24T10:09:49.918506Z",
     "shell.execute_reply": "2021-12-24T10:09:49.917990Z"
    },
    "papermill": {
     "duration": 0.060862,
     "end_time": "2021-12-24T10:09:49.918644",
     "exception": false,
     "start_time": "2021-12-24T10:09:49.857782",
     "status": "completed"
    },
    "tags": []
   },
   "outputs": [],
   "source": [
    "#Impoting functions from 'Kudzu'\n",
    "from kudzu.model import Model\n",
    "from kudzu.train import Learner\n",
    "from kudzu.optim import GD\n",
    "from kudzu.data import Data, Sampler,Dataloader\n",
    "\n",
    "from kudzu.callbacks import AccCallback\n",
    "from kudzu.callbacks import ClfCallback\n",
    "\n",
    "from kudzu.loss import MSE\n",
    "\n",
    "from kudzu.layer import Sigmoid,Relu\n",
    "from kudzu.layer import Affine"
   ]
  },
  {
   "cell_type": "markdown",
   "id": "bc01172a",
   "metadata": {
    "papermill": {
     "duration": 0.032958,
     "end_time": "2021-12-24T10:09:49.990640",
     "exception": false,
     "start_time": "2021-12-24T10:09:49.957682",
     "status": "completed"
    },
    "tags": []
   },
   "source": [
    "### Let us create a `Config` class, to store important parameters. \n",
    "This class essentially plays the role of a dictionary."
   ]
  },
  {
   "cell_type": "code",
   "execution_count": 16,
   "id": "978281aa",
   "metadata": {
    "execution": {
     "iopub.execute_input": "2021-12-24T10:09:50.058755Z",
     "iopub.status.busy": "2021-12-24T10:09:50.058108Z",
     "iopub.status.idle": "2021-12-24T10:09:50.077858Z",
     "shell.execute_reply": "2021-12-24T10:09:50.078658Z"
    },
    "papermill": {
     "duration": 0.056364,
     "end_time": "2021-12-24T10:09:50.078824",
     "exception": false,
     "start_time": "2021-12-24T10:09:50.022460",
     "status": "completed"
    },
    "tags": []
   },
   "outputs": [],
   "source": [
    "class Config:\n",
    "    pass\n",
    "config = Config()\n",
    "config.lr = 0.001\n",
    "config.num_epochs = 250\n",
    "config.bs = 50"
   ]
  },
  {
   "cell_type": "markdown",
   "id": "1385fa59",
   "metadata": {
    "papermill": {
     "duration": 0.031693,
     "end_time": "2021-12-24T10:09:50.142876",
     "exception": false,
     "start_time": "2021-12-24T10:09:50.111183",
     "status": "completed"
    },
    "tags": []
   },
   "source": [
    "### Running Models with the Training data\n",
    "Details about the network layers:\n",
    "- A first affine layer has 784 inputs and does 100 affine transforms. These are followed by a Relu\n",
    "- A second affine layer has 100 inputs from the 100 activations of the past layer, and does 100 affine transforms. These are followed by a Relu\n",
    "- A third affine layer has 100 activations and does 2 affine transformations to create an embedding for visualization. There is no non-linearity here.\n",
    "- A final \"logistic regression\" which has an affine transform from 2 inputs to 1 output, which is squeezed through a sigmoid.\n"
   ]
  },
  {
   "cell_type": "code",
   "execution_count": 17,
   "id": "2b9c66db",
   "metadata": {
    "execution": {
     "iopub.execute_input": "2021-12-24T10:09:50.213740Z",
     "iopub.status.busy": "2021-12-24T10:09:50.212648Z",
     "iopub.status.idle": "2021-12-24T10:09:50.226036Z",
     "shell.execute_reply": "2021-12-24T10:09:50.225520Z"
    },
    "papermill": {
     "duration": 0.051199,
     "end_time": "2021-12-24T10:09:50.226173",
     "exception": false,
     "start_time": "2021-12-24T10:09:50.174974",
     "status": "completed"
    },
    "tags": []
   },
   "outputs": [],
   "source": [
    "data = Data(X_train, y_train.reshape(-1,1))\n",
    "sampler = Sampler(data, config.bs, shuffle=True)\n",
    "\n",
    "dl = Dataloader(data, sampler)\n",
    "\n",
    "opt = GD(config.lr)\n",
    "loss = MSE()"
   ]
  },
  {
   "cell_type": "code",
   "execution_count": 18,
   "id": "b275e4c2",
   "metadata": {
    "execution": {
     "iopub.execute_input": "2021-12-24T10:09:50.295522Z",
     "iopub.status.busy": "2021-12-24T10:09:50.294482Z",
     "iopub.status.idle": "2021-12-24T10:09:50.310747Z",
     "shell.execute_reply": "2021-12-24T10:09:50.311220Z"
    },
    "papermill": {
     "duration": 0.053135,
     "end_time": "2021-12-24T10:09:50.311389",
     "exception": false,
     "start_time": "2021-12-24T10:09:50.258254",
     "status": "completed"
    },
    "tags": []
   },
   "outputs": [],
   "source": [
    "training_data_x = X_train\n",
    "testing_data_x = X_test\n",
    "training_data_y = y_train.reshape(-1,1)\n",
    "testing_data_y = y_test.reshape(-1,1)"
   ]
  },
  {
   "cell_type": "code",
   "execution_count": 19,
   "id": "76951160",
   "metadata": {
    "execution": {
     "iopub.execute_input": "2021-12-24T10:09:50.381032Z",
     "iopub.status.busy": "2021-12-24T10:09:50.380377Z",
     "iopub.status.idle": "2021-12-24T10:09:50.400875Z",
     "shell.execute_reply": "2021-12-24T10:09:50.400271Z"
    },
    "papermill": {
     "duration": 0.05787,
     "end_time": "2021-12-24T10:09:50.401040",
     "exception": false,
     "start_time": "2021-12-24T10:09:50.343170",
     "status": "completed"
    },
    "tags": []
   },
   "outputs": [
    {
     "name": "stdout",
     "output_type": "stream",
     "text": [
      "xavier\n",
      "xavier\n",
      "xavier\n",
      "xavier\n",
      "xavier\n"
     ]
    }
   ],
   "source": [
    "layers = [Affine(\"first\", 784, 100), Relu(\"first\"), Affine(\"second\", 100, 100), Relu(\"second\"), Affine(\"third\", 100, 2), Affine(\"last\", 2, 1), Sigmoid(\"last\")]\n",
    "model_nn = Model(layers)\n",
    "model_lr = Model([Affine(\"logits\", 784, 1), Sigmoid(\"sigmoid\")])"
   ]
  },
  {
   "cell_type": "code",
   "execution_count": 20,
   "id": "6eede77a",
   "metadata": {
    "execution": {
     "iopub.execute_input": "2021-12-24T10:09:50.476151Z",
     "iopub.status.busy": "2021-12-24T10:09:50.475537Z",
     "iopub.status.idle": "2021-12-24T10:09:50.493415Z",
     "shell.execute_reply": "2021-12-24T10:09:50.492294Z"
    },
    "papermill": {
     "duration": 0.058674,
     "end_time": "2021-12-24T10:09:50.493558",
     "exception": false,
     "start_time": "2021-12-24T10:09:50.434884",
     "status": "completed"
    },
    "tags": []
   },
   "outputs": [],
   "source": [
    "nn_learner = Learner(loss, model_nn, opt, config.num_epochs)\n",
    "acc_nn = ClfCallback(nn_learner, config.bs, training_data_x , testing_data_x, training_data_y, testing_data_y)\n",
    "nn_learner.set_callbacks([acc_nn])"
   ]
  },
  {
   "cell_type": "code",
   "execution_count": 21,
   "id": "877b6cc7",
   "metadata": {
    "execution": {
     "iopub.execute_input": "2021-12-24T10:09:50.570139Z",
     "iopub.status.busy": "2021-12-24T10:09:50.565698Z",
     "iopub.status.idle": "2021-12-24T10:09:50.579620Z",
     "shell.execute_reply": "2021-12-24T10:09:50.580080Z"
    },
    "papermill": {
     "duration": 0.054192,
     "end_time": "2021-12-24T10:09:50.580244",
     "exception": false,
     "start_time": "2021-12-24T10:09:50.526052",
     "status": "completed"
    },
    "tags": []
   },
   "outputs": [],
   "source": [
    "lr_learner = Learner(loss, model_lr, opt, config.num_epochs)\n",
    "acc_lr = ClfCallback(lr_learner, config.bs, training_data_x , testing_data_x, training_data_y, testing_data_y)\n",
    "lr_learner.set_callbacks([acc_lr])"
   ]
  },
  {
   "cell_type": "code",
   "execution_count": 22,
   "id": "d9b133c3",
   "metadata": {
    "execution": {
     "iopub.execute_input": "2021-12-24T10:09:50.650240Z",
     "iopub.status.busy": "2021-12-24T10:09:50.649648Z",
     "iopub.status.idle": "2021-12-24T10:11:26.845752Z",
     "shell.execute_reply": "2021-12-24T10:11:26.846627Z"
    },
    "papermill": {
     "duration": 96.234172,
     "end_time": "2021-12-24T10:11:26.846798",
     "exception": false,
     "start_time": "2021-12-24T10:09:50.612626",
     "status": "completed"
    },
    "tags": []
   },
   "outputs": [
    {
     "name": "stdout",
     "output_type": "stream",
     "text": [
      "Epoch 0, Loss 0.2294\n",
      "Training Accuracy: 0.7661, Testing Accuracy: 0.7873\n",
      "\n"
     ]
    },
    {
     "name": "stdout",
     "output_type": "stream",
     "text": [
      "Epoch 10, Loss 0.091\n",
      "Training Accuracy: 0.9149, Testing Accuracy: 0.9320\n",
      "\n"
     ]
    },
    {
     "name": "stdout",
     "output_type": "stream",
     "text": [
      "Epoch 20, Loss 0.058\n",
      "Training Accuracy: 0.9386, Testing Accuracy: 0.9521\n",
      "\n"
     ]
    },
    {
     "name": "stdout",
     "output_type": "stream",
     "text": [
      "Epoch 30, Loss 0.0459\n",
      "Training Accuracy: 0.9480, Testing Accuracy: 0.9642\n",
      "\n"
     ]
    },
    {
     "name": "stdout",
     "output_type": "stream",
     "text": [
      "Epoch 40, Loss 0.0396\n",
      "Training Accuracy: 0.9543, Testing Accuracy: 0.9677\n",
      "\n"
     ]
    },
    {
     "name": "stdout",
     "output_type": "stream",
     "text": [
      "Epoch 50, Loss 0.0356\n",
      "Training Accuracy: 0.9588, Testing Accuracy: 0.9677\n",
      "\n"
     ]
    },
    {
     "name": "stdout",
     "output_type": "stream",
     "text": [
      "Epoch 60, Loss 0.0328\n",
      "Training Accuracy: 0.9616, Testing Accuracy: 0.9688\n",
      "\n"
     ]
    },
    {
     "name": "stdout",
     "output_type": "stream",
     "text": [
      "Epoch 70, Loss 0.0308\n",
      "Training Accuracy: 0.9644, Testing Accuracy: 0.9693\n",
      "\n"
     ]
    },
    {
     "name": "stdout",
     "output_type": "stream",
     "text": [
      "Epoch 80, Loss 0.0292\n",
      "Training Accuracy: 0.9658, Testing Accuracy: 0.9703\n",
      "\n"
     ]
    },
    {
     "name": "stdout",
     "output_type": "stream",
     "text": [
      "Epoch 90, Loss 0.0279\n",
      "Training Accuracy: 0.9677, Testing Accuracy: 0.9708\n",
      "\n"
     ]
    },
    {
     "name": "stdout",
     "output_type": "stream",
     "text": [
      "Epoch 100, Loss 0.0267\n",
      "Training Accuracy: 0.9692, Testing Accuracy: 0.9723\n",
      "\n"
     ]
    },
    {
     "name": "stdout",
     "output_type": "stream",
     "text": [
      "Epoch 110, Loss 0.0258\n",
      "Training Accuracy: 0.9700, Testing Accuracy: 0.9718\n",
      "\n"
     ]
    },
    {
     "name": "stdout",
     "output_type": "stream",
     "text": [
      "Epoch 120, Loss 0.025\n",
      "Training Accuracy: 0.9710, Testing Accuracy: 0.9728\n",
      "\n"
     ]
    },
    {
     "name": "stdout",
     "output_type": "stream",
     "text": [
      "Epoch 130, Loss 0.0242\n",
      "Training Accuracy: 0.9718, Testing Accuracy: 0.9728\n",
      "\n"
     ]
    },
    {
     "name": "stdout",
     "output_type": "stream",
     "text": [
      "Epoch 140, Loss 0.0235\n",
      "Training Accuracy: 0.9724, Testing Accuracy: 0.9728\n",
      "\n"
     ]
    },
    {
     "name": "stdout",
     "output_type": "stream",
     "text": [
      "Epoch 150, Loss 0.0229\n",
      "Training Accuracy: 0.9730, Testing Accuracy: 0.9723\n",
      "\n"
     ]
    },
    {
     "name": "stdout",
     "output_type": "stream",
     "text": [
      "Epoch 160, Loss 0.0224\n",
      "Training Accuracy: 0.9735, Testing Accuracy: 0.9733\n",
      "\n"
     ]
    },
    {
     "name": "stdout",
     "output_type": "stream",
     "text": [
      "Epoch 170, Loss 0.0218\n",
      "Training Accuracy: 0.9744, Testing Accuracy: 0.9738\n",
      "\n"
     ]
    },
    {
     "name": "stdout",
     "output_type": "stream",
     "text": [
      "Epoch 180, Loss 0.0213\n",
      "Training Accuracy: 0.9750, Testing Accuracy: 0.9738\n",
      "\n"
     ]
    },
    {
     "name": "stdout",
     "output_type": "stream",
     "text": [
      "Epoch 190, Loss 0.0209\n",
      "Training Accuracy: 0.9755, Testing Accuracy: 0.9738\n",
      "\n"
     ]
    },
    {
     "name": "stdout",
     "output_type": "stream",
     "text": [
      "Epoch 200, Loss 0.0204\n",
      "Training Accuracy: 0.9760, Testing Accuracy: 0.9733\n",
      "\n"
     ]
    },
    {
     "name": "stdout",
     "output_type": "stream",
     "text": [
      "Epoch 210, Loss 0.02\n",
      "Training Accuracy: 0.9768, Testing Accuracy: 0.9733\n",
      "\n"
     ]
    },
    {
     "name": "stdout",
     "output_type": "stream",
     "text": [
      "Epoch 220, Loss 0.0196\n",
      "Training Accuracy: 0.9772, Testing Accuracy: 0.9743\n",
      "\n"
     ]
    },
    {
     "name": "stdout",
     "output_type": "stream",
     "text": [
      "Epoch 230, Loss 0.0192\n",
      "Training Accuracy: 0.9777, Testing Accuracy: 0.9738\n",
      "\n"
     ]
    },
    {
     "name": "stdout",
     "output_type": "stream",
     "text": [
      "Epoch 240, Loss 0.0189\n",
      "Training Accuracy: 0.9784, Testing Accuracy: 0.9743\n",
      "\n"
     ]
    },
    {
     "data": {
      "text/plain": [
       "0.006807708900611363"
      ]
     },
     "execution_count": 22,
     "metadata": {},
     "output_type": "execute_result"
    }
   ],
   "source": [
    "nn_learner.train_loop(dl)"
   ]
  },
  {
   "cell_type": "code",
   "execution_count": 23,
   "id": "e0163366",
   "metadata": {
    "execution": {
     "iopub.execute_input": "2021-12-24T10:11:26.938567Z",
     "iopub.status.busy": "2021-12-24T10:11:26.937970Z",
     "iopub.status.idle": "2021-12-24T10:11:43.810484Z",
     "shell.execute_reply": "2021-12-24T10:11:43.811140Z"
    },
    "papermill": {
     "duration": 16.92417,
     "end_time": "2021-12-24T10:11:43.811310",
     "exception": false,
     "start_time": "2021-12-24T10:11:26.887140",
     "status": "completed"
    },
    "tags": []
   },
   "outputs": [
    {
     "name": "stdout",
     "output_type": "stream",
     "text": [
      "Epoch 0, Loss 0.2243\n",
      "Training Accuracy: 0.7299, Testing Accuracy: 0.7440\n",
      "\n"
     ]
    },
    {
     "name": "stdout",
     "output_type": "stream",
     "text": [
      "Epoch 10, Loss 0.1032\n",
      "Training Accuracy: 0.9060, Testing Accuracy: 0.9199\n",
      "\n"
     ]
    },
    {
     "name": "stdout",
     "output_type": "stream",
     "text": [
      "Epoch 20, Loss 0.0793\n",
      "Training Accuracy: 0.9270, Testing Accuracy: 0.9385\n",
      "\n"
     ]
    },
    {
     "name": "stdout",
     "output_type": "stream",
     "text": [
      "Epoch 30, Loss 0.0682\n",
      "Training Accuracy: 0.9345, Testing Accuracy: 0.9501\n",
      "\n"
     ]
    },
    {
     "name": "stdout",
     "output_type": "stream",
     "text": [
      "Epoch 40, Loss 0.0615\n",
      "Training Accuracy: 0.9412, Testing Accuracy: 0.9531\n",
      "\n"
     ]
    },
    {
     "name": "stdout",
     "output_type": "stream",
     "text": [
      "Epoch 50, Loss 0.057\n",
      "Training Accuracy: 0.9453, Testing Accuracy: 0.9536\n",
      "\n"
     ]
    },
    {
     "name": "stdout",
     "output_type": "stream",
     "text": [
      "Epoch 60, Loss 0.0537\n",
      "Training Accuracy: 0.9482, Testing Accuracy: 0.9551\n",
      "\n"
     ]
    },
    {
     "name": "stdout",
     "output_type": "stream",
     "text": [
      "Epoch 70, Loss 0.0511\n",
      "Training Accuracy: 0.9502, Testing Accuracy: 0.9567\n",
      "\n"
     ]
    },
    {
     "name": "stdout",
     "output_type": "stream",
     "text": [
      "Epoch 80, Loss 0.049\n",
      "Training Accuracy: 0.9520, Testing Accuracy: 0.9577\n",
      "\n"
     ]
    },
    {
     "name": "stdout",
     "output_type": "stream",
     "text": [
      "Epoch 90, Loss 0.0473\n",
      "Training Accuracy: 0.9531, Testing Accuracy: 0.9577\n",
      "\n"
     ]
    },
    {
     "name": "stdout",
     "output_type": "stream",
     "text": [
      "Epoch 100, Loss 0.0459\n",
      "Training Accuracy: 0.9543, Testing Accuracy: 0.9592\n",
      "\n"
     ]
    },
    {
     "name": "stdout",
     "output_type": "stream",
     "text": [
      "Epoch 110, Loss 0.0447\n",
      "Training Accuracy: 0.9552, Testing Accuracy: 0.9607\n",
      "\n"
     ]
    },
    {
     "name": "stdout",
     "output_type": "stream",
     "text": [
      "Epoch 120, Loss 0.0436\n",
      "Training Accuracy: 0.9553, Testing Accuracy: 0.9612\n",
      "\n"
     ]
    },
    {
     "name": "stdout",
     "output_type": "stream",
     "text": [
      "Epoch 130, Loss 0.0427\n",
      "Training Accuracy: 0.9560, Testing Accuracy: 0.9612\n",
      "\n"
     ]
    },
    {
     "name": "stdout",
     "output_type": "stream",
     "text": [
      "Epoch 140, Loss 0.0419\n",
      "Training Accuracy: 0.9568, Testing Accuracy: 0.9637\n",
      "\n"
     ]
    },
    {
     "name": "stdout",
     "output_type": "stream",
     "text": [
      "Epoch 150, Loss 0.0411\n",
      "Training Accuracy: 0.9574, Testing Accuracy: 0.9637\n",
      "\n"
     ]
    },
    {
     "name": "stdout",
     "output_type": "stream",
     "text": [
      "Epoch 160, Loss 0.0404\n",
      "Training Accuracy: 0.9582, Testing Accuracy: 0.9637\n",
      "\n"
     ]
    },
    {
     "name": "stdout",
     "output_type": "stream",
     "text": [
      "Epoch 170, Loss 0.0398\n",
      "Training Accuracy: 0.9586, Testing Accuracy: 0.9647\n",
      "\n"
     ]
    },
    {
     "name": "stdout",
     "output_type": "stream",
     "text": [
      "Epoch 180, Loss 0.0393\n",
      "Training Accuracy: 0.9591, Testing Accuracy: 0.9647\n",
      "\n"
     ]
    },
    {
     "name": "stdout",
     "output_type": "stream",
     "text": [
      "Epoch 190, Loss 0.0388\n",
      "Training Accuracy: 0.9598, Testing Accuracy: 0.9652\n",
      "\n"
     ]
    },
    {
     "name": "stdout",
     "output_type": "stream",
     "text": [
      "Epoch 200, Loss 0.0383\n",
      "Training Accuracy: 0.9608, Testing Accuracy: 0.9657\n",
      "\n"
     ]
    },
    {
     "name": "stdout",
     "output_type": "stream",
     "text": [
      "Epoch 210, Loss 0.0378\n",
      "Training Accuracy: 0.9610, Testing Accuracy: 0.9657\n",
      "\n"
     ]
    },
    {
     "name": "stdout",
     "output_type": "stream",
     "text": [
      "Epoch 220, Loss 0.0374\n",
      "Training Accuracy: 0.9613, Testing Accuracy: 0.9662\n",
      "\n"
     ]
    },
    {
     "name": "stdout",
     "output_type": "stream",
     "text": [
      "Epoch 230, Loss 0.037\n",
      "Training Accuracy: 0.9616, Testing Accuracy: 0.9667\n",
      "\n"
     ]
    },
    {
     "name": "stdout",
     "output_type": "stream",
     "text": [
      "Epoch 240, Loss 0.0367\n",
      "Training Accuracy: 0.9616, Testing Accuracy: 0.9672\n",
      "\n"
     ]
    },
    {
     "data": {
      "text/plain": [
       "0.013725603337759922"
      ]
     },
     "execution_count": 23,
     "metadata": {},
     "output_type": "execute_result"
    }
   ],
   "source": [
    "lr_learner.train_loop(dl)"
   ]
  },
  {
   "cell_type": "code",
   "execution_count": 24,
   "id": "ca410940",
   "metadata": {
    "execution": {
     "iopub.execute_input": "2021-12-24T10:11:43.922411Z",
     "iopub.status.busy": "2021-12-24T10:11:43.921776Z",
     "iopub.status.idle": "2021-12-24T10:11:44.196090Z",
     "shell.execute_reply": "2021-12-24T10:11:44.195557Z"
    },
    "papermill": {
     "duration": 0.335099,
     "end_time": "2021-12-24T10:11:44.196538",
     "exception": false,
     "start_time": "2021-12-24T10:11:43.861439",
     "status": "completed"
    },
    "tags": []
   },
   "outputs": [
    {
     "data": {
      "text/plain": [
       "<matplotlib.legend.Legend at 0x7f80446dbcc0>"
      ]
     },
     "execution_count": 24,
     "metadata": {},
     "output_type": "execute_result"
    },
    {
     "data": {
      "image/png": "[encoded data removed]",
      "text/plain": [
       "<Figure size 1080x720 with 1 Axes>"
      ]
     },
     "metadata": {
      "needs_background": "light"
     },
     "output_type": "display_data"
    }
   ],
   "source": [
    "#comparing the results of NN and LR\n",
    "plt.figure(figsize=(15,10))\n",
    "\n",
    "# Neural Network plots\n",
    "plt.plot(acc_nn.accuracies, 'r-', label = \"Training Accuracies - NN\")\n",
    "plt.plot(acc_nn.test_accuracies, 'g-', label = \"Testing Accuracies - NN\")\n",
    "\n",
    "# Logistic Regression plots\n",
    "plt.plot(acc_lr.accuracies, 'k-', label = \"Training Accuracies - LR\")\n",
    "plt.plot(acc_lr.test_accuracies, 'b-', label = \"Testing Accuracies - LR\")\n",
    "plt.legend()"
   ]
  },
  {
   "cell_type": "markdown",
   "id": "80dfb35c",
   "metadata": {
    "papermill": {
     "duration": 0.054449,
     "end_time": "2021-12-24T10:11:44.311439",
     "exception": false,
     "start_time": "2021-12-24T10:11:44.256990",
     "status": "completed"
    },
    "tags": []
   },
   "source": [
    "#### Plotting the outputs of this layer of the NN.\n"
   ]
  },
  {
   "cell_type": "code",
   "execution_count": 25,
   "id": "45eb2ff5",
   "metadata": {
    "execution": {
     "iopub.execute_input": "2021-12-24T10:11:44.442548Z",
     "iopub.status.busy": "2021-12-24T10:11:44.441032Z",
     "iopub.status.idle": "2021-12-24T10:11:44.467008Z",
     "shell.execute_reply": "2021-12-24T10:11:44.465402Z"
    },
    "papermill": {
     "duration": 0.097648,
     "end_time": "2021-12-24T10:11:44.467169",
     "exception": false,
     "start_time": "2021-12-24T10:11:44.369521",
     "status": "completed"
    },
    "tags": []
   },
   "outputs": [],
   "source": [
    "new_model = Model(layers[:-2])\n",
    "testing_plot = new_model(testing_data_x)"
   ]
  },
  {
   "cell_type": "code",
   "execution_count": 26,
   "id": "4c0a5485",
   "metadata": {
    "execution": {
     "iopub.execute_input": "2021-12-24T10:11:44.584023Z",
     "iopub.status.busy": "2021-12-24T10:11:44.581988Z",
     "iopub.status.idle": "2021-12-24T10:11:44.827589Z",
     "shell.execute_reply": "2021-12-24T10:11:44.827043Z"
    },
    "papermill": {
     "duration": 0.306669,
     "end_time": "2021-12-24T10:11:44.827723",
     "exception": false,
     "start_time": "2021-12-24T10:11:44.521054",
     "status": "completed"
    },
    "tags": []
   },
   "outputs": [
    {
     "data": {
      "text/plain": [
       "Text(0.5, 1.0, 'Outputs')"
      ]
     },
     "execution_count": 26,
     "metadata": {},
     "output_type": "execute_result"
    },
    {
     "data": {
      "image/png": "[encoded data removed]",
      "text/plain": [
       "<Figure size 576x504 with 1 Axes>"
      ]
     },
     "metadata": {
      "needs_background": "light"
     },
     "output_type": "display_data"
    }
   ],
   "source": [
    "# Plotting the scatter plot of points and color coding by class\n",
    "plt.figure(figsize=(8,7))\n",
    "plt.scatter(testing_plot[:,0], testing_plot[:,1], alpha = 0.1, c = y_test.ravel());\n",
    "plt.title('Outputs')"
   ]
  },
  {
   "cell_type": "markdown",
   "id": "a74fcf8f",
   "metadata": {
    "papermill": {
     "duration": 0.052467,
     "end_time": "2021-12-24T10:11:44.932713",
     "exception": false,
     "start_time": "2021-12-24T10:11:44.880246",
     "status": "completed"
    },
    "tags": []
   },
   "source": [
    "Probability contours"
   ]
  },
  {
   "cell_type": "code",
   "execution_count": 27,
   "id": "d0afc8e3",
   "metadata": {
    "execution": {
     "iopub.execute_input": "2021-12-24T10:11:45.066549Z",
     "iopub.status.busy": "2021-12-24T10:11:45.065738Z",
     "iopub.status.idle": "2021-12-24T10:11:45.073620Z",
     "shell.execute_reply": "2021-12-24T10:11:45.074088Z"
    },
    "papermill": {
     "duration": 0.088016,
     "end_time": "2021-12-24T10:11:45.074254",
     "exception": false,
     "start_time": "2021-12-24T10:11:44.986238",
     "status": "completed"
    },
    "tags": []
   },
   "outputs": [],
   "source": [
    "model_prob = Model(layers[-2:]) "
   ]
  },
  {
   "cell_type": "code",
   "execution_count": 28,
   "id": "9b96e238",
   "metadata": {
    "execution": {
     "iopub.execute_input": "2021-12-24T10:11:45.221198Z",
     "iopub.status.busy": "2021-12-24T10:11:45.220558Z",
     "iopub.status.idle": "2021-12-24T10:11:45.237751Z",
     "shell.execute_reply": "2021-12-24T10:11:45.238215Z"
    },
    "papermill": {
     "duration": 0.078622,
     "end_time": "2021-12-24T10:11:45.238381",
     "exception": false,
     "start_time": "2021-12-24T10:11:45.159759",
     "status": "completed"
    },
    "tags": []
   },
   "outputs": [],
   "source": [
    "#creating the x and y ranges according to the above generated plot.\n",
    "x_range = np.linspace(-4, 1, 100) \n",
    "y_range = np.linspace(-6, 6, 100) \n",
    "x_grid, y_grid = np.meshgrid(x_range, y_range) # x_grid and y_grig are of size 100 X 100\n",
    "\n",
    "# converting x_grid and y_grid to continuous arrays\n",
    "x_gridflat = np.ravel(x_grid)\n",
    "y_gridflat = np.ravel(y_grid)\n",
    "\n",
    "# The last layer of the current model takes two columns as input. Hence transpose of np.vstack() is required.\n",
    "X = np.vstack((x_gridflat, y_gridflat)).T\n",
    "\n",
    "prob_contour = model_prob(X).reshape(100,100) "
   ]
  },
  {
   "cell_type": "code",
   "execution_count": 29,
   "id": "da72499a",
   "metadata": {
    "execution": {
     "iopub.execute_input": "2021-12-24T10:11:45.359728Z",
     "iopub.status.busy": "2021-12-24T10:11:45.359130Z",
     "iopub.status.idle": "2021-12-24T10:11:45.672073Z",
     "shell.execute_reply": "2021-12-24T10:11:45.671548Z"
    },
    "papermill": {
     "duration": 0.37257,
     "end_time": "2021-12-24T10:11:45.672203",
     "exception": false,
     "start_time": "2021-12-24T10:11:45.299633",
     "status": "completed"
    },
    "tags": []
   },
   "outputs": [
    {
     "data": {
      "image/png": "[encoded data removed]",
      "text/plain": [
       "<Figure size 720x648 with 1 Axes>"
      ]
     },
     "metadata": {
      "needs_background": "light"
     },
     "output_type": "display_data"
    }
   ],
   "source": [
    "plt.figure(figsize=(10,9))\n",
    "plt.scatter(testing_plot[:,0], testing_plot[:,1], alpha = 0.1, c = y_test.ravel())\n",
    "contours = plt.contour(x_grid,y_grid,prob_contour)\n",
    "plt.title('Probability Contours')\n",
    "plt.clabel(contours, inline = True );"
   ]
  },
  {
   "cell_type": "code",
   "execution_count": null,
   "id": "e81b4ac7",
   "metadata": {
    "papermill": {
     "duration": 0.057293,
     "end_time": "2021-12-24T10:11:45.786097",
     "exception": false,
     "start_time": "2021-12-24T10:11:45.728804",
     "status": "completed"
    },
    "tags": []
   },
   "outputs": [],
   "source": []
  }
 ],
 "metadata": {
  "kernelspec": {
   "display_name": "Python 3",
   "language": "python",
   "name": "python3"
  },
  "language_info": {
   "codemirror_mode": {
    "name": "ipython",
    "version": 3
   },
   "file_extension": ".py",
   "mimetype": "text/x-python",
   "name": "python",
   "nbconvert_exporter": "python",
   "pygments_lexer": "ipython3",
   "version": "3.6.15"
  },
  "papermill": {
   "default_parameters": {},
   "duration": 123.064429,
   "end_time": "2021-12-24T10:11:46.255652",
   "environment_variables": {},
   "exception": null,
   "input_path": "2020-08-11-part2.ipynb",
   "output_path": "2020-08-11-part2.ipynb",
   "parameters": {},
   "start_time": "2021-12-24T10:09:43.191223",
   "version": "2.3.3"
  }
 },
 "nbformat": 4,
 "nbformat_minor": 5
}