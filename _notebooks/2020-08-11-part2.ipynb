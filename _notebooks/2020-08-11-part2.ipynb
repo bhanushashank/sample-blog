{
 "cells": [
  {
   "cell_type": "markdown",
   "id": "98380cd3",
   "metadata": {
    "papermill": {
     "duration": 0.031185,
     "end_time": "2021-08-25T20:07:31.096269",
     "exception": false,
     "start_time": "2021-08-25T20:07:31.065084",
     "status": "completed"
    },
    "tags": []
   },
   "source": [
    "# Distinguish Your Own Digits (DYOD)"
   ]
  },
  {
   "cell_type": "markdown",
   "id": "ef31240d",
   "metadata": {
    "papermill": {
     "duration": 0.028085,
     "end_time": "2021-08-25T20:07:31.152069",
     "exception": false,
     "start_time": "2021-08-25T20:07:31.123984",
     "status": "completed"
    },
    "tags": []
   },
   "source": [
    "You are going to write a classifier that distinguishes between the number 3 and number 8."
   ]
  },
  {
   "cell_type": "code",
   "execution_count": 1,
   "id": "b15c8646",
   "metadata": {
    "execution": {
     "iopub.execute_input": "2021-08-25T20:07:31.219357Z",
     "iopub.status.busy": "2021-08-25T20:07:31.218770Z",
     "iopub.status.idle": "2021-08-25T20:07:31.228579Z",
     "shell.execute_reply": "2021-08-25T20:07:31.229132Z"
    },
    "papermill": {
     "duration": 0.048483,
     "end_time": "2021-08-25T20:07:31.229279",
     "exception": false,
     "start_time": "2021-08-25T20:07:31.180796",
     "status": "completed"
    },
    "tags": []
   },
   "outputs": [],
   "source": [
    "%load_ext autoreload\n",
    "%autoreload 2"
   ]
  },
  {
   "cell_type": "code",
   "execution_count": 2,
   "id": "22ef38dc",
   "metadata": {
    "execution": {
     "iopub.execute_input": "2021-08-25T20:07:31.294984Z",
     "iopub.status.busy": "2021-08-25T20:07:31.294301Z",
     "iopub.status.idle": "2021-08-25T20:07:31.874726Z",
     "shell.execute_reply": "2021-08-25T20:07:31.874139Z"
    },
    "papermill": {
     "duration": 0.61606,
     "end_time": "2021-08-25T20:07:31.874876",
     "exception": false,
     "start_time": "2021-08-25T20:07:31.258816",
     "status": "completed"
    },
    "tags": []
   },
   "outputs": [],
   "source": [
    "%matplotlib inline\n",
    "import numpy as np\n",
    "import matplotlib.pyplot as plt\n",
    "import pandas as pd"
   ]
  },
  {
   "cell_type": "markdown",
   "id": "ba036198",
   "metadata": {
    "papermill": {
     "duration": 0.029228,
     "end_time": "2021-08-25T20:07:31.935005",
     "exception": false,
     "start_time": "2021-08-25T20:07:31.905777",
     "status": "completed"
    },
    "tags": []
   },
   "source": [
    "From the command line run `pip install mnist`. This is a library that will help you bring down the mnist dataset. If you run this from a notebook, you need to put  `!pip install mnist` in a cell by itself."
   ]
  },
  {
   "cell_type": "code",
   "execution_count": 3,
   "id": "bb6ad8a1",
   "metadata": {
    "execution": {
     "iopub.execute_input": "2021-08-25T20:07:31.996517Z",
     "iopub.status.busy": "2021-08-25T20:07:31.995880Z",
     "iopub.status.idle": "2021-08-25T20:07:33.883189Z",
     "shell.execute_reply": "2021-08-25T20:07:33.882593Z"
    },
    "papermill": {
     "duration": 1.919484,
     "end_time": "2021-08-25T20:07:33.883317",
     "exception": false,
     "start_time": "2021-08-25T20:07:31.963833",
     "status": "completed"
    },
    "tags": []
   },
   "outputs": [
    {
     "name": "stdout",
     "output_type": "stream",
     "text": [
      "Collecting mnist\r\n"
     ]
    },
    {
     "name": "stdout",
     "output_type": "stream",
     "text": [
      "  Downloading mnist-0.2.2-py2.py3-none-any.whl (3.5 kB)\r\n",
      "Requirement already satisfied: numpy in /opt/hostedtoolcache/Python/3.6.14/x64/lib/python3.6/site-packages (from mnist) (1.19.5)\r\n"
     ]
    },
    {
     "name": "stdout",
     "output_type": "stream",
     "text": [
      "Installing collected packages: mnist\r\n"
     ]
    },
    {
     "name": "stdout",
     "output_type": "stream",
     "text": [
      "Successfully installed mnist-0.2.2\r\n"
     ]
    }
   ],
   "source": [
    "!pip install mnist"
   ]
  },
  {
   "cell_type": "markdown",
   "id": "69df9c9a",
   "metadata": {
    "papermill": {
     "duration": 0.030963,
     "end_time": "2021-08-25T20:07:33.945455",
     "exception": false,
     "start_time": "2021-08-25T20:07:33.914492",
     "status": "completed"
    },
    "tags": []
   },
   "source": [
    "## Preparing the Data"
   ]
  },
  {
   "cell_type": "code",
   "execution_count": 4,
   "id": "7f69d806",
   "metadata": {
    "execution": {
     "iopub.execute_input": "2021-08-25T20:07:34.015714Z",
     "iopub.status.busy": "2021-08-25T20:07:34.015076Z",
     "iopub.status.idle": "2021-08-25T20:07:34.029123Z",
     "shell.execute_reply": "2021-08-25T20:07:34.029726Z"
    },
    "papermill": {
     "duration": 0.05481,
     "end_time": "2021-08-25T20:07:34.029878",
     "exception": false,
     "start_time": "2021-08-25T20:07:33.975068",
     "status": "completed"
    },
    "tags": []
   },
   "outputs": [],
   "source": [
    "import mnist"
   ]
  },
  {
   "cell_type": "code",
   "execution_count": 5,
   "id": "a411e44f",
   "metadata": {
    "execution": {
     "iopub.execute_input": "2021-08-25T20:07:34.094140Z",
     "iopub.status.busy": "2021-08-25T20:07:34.093512Z",
     "iopub.status.idle": "2021-08-25T20:07:34.761788Z",
     "shell.execute_reply": "2021-08-25T20:07:34.761241Z"
    },
    "papermill": {
     "duration": 0.702995,
     "end_time": "2021-08-25T20:07:34.761921",
     "exception": false,
     "start_time": "2021-08-25T20:07:34.058926",
     "status": "completed"
    },
    "tags": []
   },
   "outputs": [],
   "source": [
    "train_images = mnist.train_images()\n",
    "train_labels = mnist.train_labels()"
   ]
  },
  {
   "cell_type": "code",
   "execution_count": 6,
   "id": "dceab3a5",
   "metadata": {
    "execution": {
     "iopub.execute_input": "2021-08-25T20:07:34.831177Z",
     "iopub.status.busy": "2021-08-25T20:07:34.830495Z",
     "iopub.status.idle": "2021-08-25T20:07:34.844807Z",
     "shell.execute_reply": "2021-08-25T20:07:34.845385Z"
    },
    "papermill": {
     "duration": 0.049504,
     "end_time": "2021-08-25T20:07:34.845531",
     "exception": false,
     "start_time": "2021-08-25T20:07:34.796027",
     "status": "completed"
    },
    "tags": []
   },
   "outputs": [
    {
     "data": {
      "text/plain": [
       "((60000, 28, 28), (60000,))"
      ]
     },
     "execution_count": 6,
     "metadata": {},
     "output_type": "execute_result"
    }
   ],
   "source": [
    "train_images.shape, train_labels.shape"
   ]
  },
  {
   "cell_type": "code",
   "execution_count": 7,
   "id": "f50dc2bb",
   "metadata": {
    "execution": {
     "iopub.execute_input": "2021-08-25T20:07:34.914204Z",
     "iopub.status.busy": "2021-08-25T20:07:34.913574Z",
     "iopub.status.idle": "2021-08-25T20:07:35.106932Z",
     "shell.execute_reply": "2021-08-25T20:07:35.106351Z"
    },
    "papermill": {
     "duration": 0.229779,
     "end_time": "2021-08-25T20:07:35.107065",
     "exception": false,
     "start_time": "2021-08-25T20:07:34.877286",
     "status": "completed"
    },
    "tags": []
   },
   "outputs": [],
   "source": [
    "test_images = mnist.test_images()\n",
    "test_labels = mnist.test_labels()"
   ]
  },
  {
   "cell_type": "code",
   "execution_count": 8,
   "id": "fc38cf1b",
   "metadata": {
    "execution": {
     "iopub.execute_input": "2021-08-25T20:07:35.175302Z",
     "iopub.status.busy": "2021-08-25T20:07:35.174212Z",
     "iopub.status.idle": "2021-08-25T20:07:35.185151Z",
     "shell.execute_reply": "2021-08-25T20:07:35.184638Z"
    },
    "papermill": {
     "duration": 0.048355,
     "end_time": "2021-08-25T20:07:35.185270",
     "exception": false,
     "start_time": "2021-08-25T20:07:35.136915",
     "status": "completed"
    },
    "tags": []
   },
   "outputs": [
    {
     "data": {
      "text/plain": [
       "((10000, 28, 28), (10000,))"
      ]
     },
     "execution_count": 8,
     "metadata": {},
     "output_type": "execute_result"
    }
   ],
   "source": [
    "test_images.shape, test_labels.shape"
   ]
  },
  {
   "cell_type": "code",
   "execution_count": 9,
   "id": "f9ed8fe0",
   "metadata": {
    "execution": {
     "iopub.execute_input": "2021-08-25T20:07:35.264166Z",
     "iopub.status.busy": "2021-08-25T20:07:35.262377Z",
     "iopub.status.idle": "2021-08-25T20:07:35.432766Z",
     "shell.execute_reply": "2021-08-25T20:07:35.433284Z"
    },
    "papermill": {
     "duration": 0.218076,
     "end_time": "2021-08-25T20:07:35.433442",
     "exception": false,
     "start_time": "2021-08-25T20:07:35.215366",
     "status": "completed"
    },
    "tags": []
   },
   "outputs": [
    {
     "name": "stdout",
     "output_type": "stream",
     "text": [
      "2\n"
     ]
    },
    {
     "data": {
      "text/plain": [
       "<matplotlib.image.AxesImage at 0x7fce28e15978>"
      ]
     },
     "execution_count": 9,
     "metadata": {},
     "output_type": "execute_result"
    },
    {
     "data": {
      "image/png": "[encoded data removed]",
      "text/plain": [
       "<Figure size 432x288 with 1 Axes>"
      ]
     },
     "metadata": {
      "needs_background": "light"
     },
     "output_type": "display_data"
    }
   ],
   "source": [
    "image_index = 7776 # You may select anything up to 60,000\n",
    "print(train_labels[image_index]) \n",
    "plt.imshow(train_images[image_index], cmap='Greys')"
   ]
  },
  {
   "cell_type": "markdown",
   "id": "a8d2388d",
   "metadata": {
    "papermill": {
     "duration": 0.032352,
     "end_time": "2021-08-25T20:07:35.499397",
     "exception": false,
     "start_time": "2021-08-25T20:07:35.467045",
     "status": "completed"
    },
    "tags": []
   },
   "source": [
    "## Filter data to get 3 and 8 out"
   ]
  },
  {
   "cell_type": "code",
   "execution_count": 10,
   "id": "776f7fc7",
   "metadata": {
    "execution": {
     "iopub.execute_input": "2021-08-25T20:07:35.585816Z",
     "iopub.status.busy": "2021-08-25T20:07:35.578334Z",
     "iopub.status.idle": "2021-08-25T20:07:35.592378Z",
     "shell.execute_reply": "2021-08-25T20:07:35.591872Z"
    },
    "papermill": {
     "duration": 0.060229,
     "end_time": "2021-08-25T20:07:35.592508",
     "exception": false,
     "start_time": "2021-08-25T20:07:35.532279",
     "status": "completed"
    },
    "tags": []
   },
   "outputs": [],
   "source": [
    "train_filter = np.where((train_labels == 3 ) | (train_labels == 8))\n",
    "test_filter = np.where((test_labels == 3) | (test_labels == 8))\n",
    "X_train, y_train = train_images[train_filter], train_labels[train_filter]\n",
    "X_test, y_test = test_images[test_filter], test_labels[test_filter]"
   ]
  },
  {
   "cell_type": "markdown",
   "id": "948f0b7e",
   "metadata": {
    "papermill": {
     "duration": 0.033205,
     "end_time": "2021-08-25T20:07:35.658644",
     "exception": false,
     "start_time": "2021-08-25T20:07:35.625439",
     "status": "completed"
    },
    "tags": []
   },
   "source": [
    "We normalize the pizel values in the 0 to 1 range"
   ]
  },
  {
   "cell_type": "code",
   "execution_count": 11,
   "id": "ee4c2166",
   "metadata": {
    "execution": {
     "iopub.execute_input": "2021-08-25T20:07:35.729791Z",
     "iopub.status.busy": "2021-08-25T20:07:35.727926Z",
     "iopub.status.idle": "2021-08-25T20:07:35.787025Z",
     "shell.execute_reply": "2021-08-25T20:07:35.786442Z"
    },
    "papermill": {
     "duration": 0.096573,
     "end_time": "2021-08-25T20:07:35.787163",
     "exception": false,
     "start_time": "2021-08-25T20:07:35.690590",
     "status": "completed"
    },
    "tags": []
   },
   "outputs": [],
   "source": [
    "X_train = X_train/255.\n",
    "X_test = X_test/255."
   ]
  },
  {
   "cell_type": "markdown",
   "id": "ddcf4fab",
   "metadata": {
    "papermill": {
     "duration": 0.033652,
     "end_time": "2021-08-25T20:07:35.855111",
     "exception": false,
     "start_time": "2021-08-25T20:07:35.821459",
     "status": "completed"
    },
    "tags": []
   },
   "source": [
    "And setup the labels as 1 (when the digit is 3) and 0 (when the digit is 8)"
   ]
  },
  {
   "cell_type": "code",
   "execution_count": 12,
   "id": "7dc908f2",
   "metadata": {
    "execution": {
     "iopub.execute_input": "2021-08-25T20:07:35.936870Z",
     "iopub.status.busy": "2021-08-25T20:07:35.929182Z",
     "iopub.status.idle": "2021-08-25T20:07:35.939187Z",
     "shell.execute_reply": "2021-08-25T20:07:35.939698Z"
    },
    "papermill": {
     "duration": 0.051713,
     "end_time": "2021-08-25T20:07:35.939948",
     "exception": false,
     "start_time": "2021-08-25T20:07:35.888235",
     "status": "completed"
    },
    "tags": []
   },
   "outputs": [],
   "source": [
    "y_train = 1*(y_train==3)\n",
    "y_test = 1*(y_test==3)"
   ]
  },
  {
   "cell_type": "code",
   "execution_count": 13,
   "id": "01e4e969",
   "metadata": {
    "execution": {
     "iopub.execute_input": "2021-08-25T20:07:36.008860Z",
     "iopub.status.busy": "2021-08-25T20:07:36.008209Z",
     "iopub.status.idle": "2021-08-25T20:07:36.022499Z",
     "shell.execute_reply": "2021-08-25T20:07:36.022014Z"
    },
    "papermill": {
     "duration": 0.050983,
     "end_time": "2021-08-25T20:07:36.022613",
     "exception": false,
     "start_time": "2021-08-25T20:07:35.971630",
     "status": "completed"
    },
    "tags": []
   },
   "outputs": [
    {
     "data": {
      "text/plain": [
       "((11982, 28, 28), (1984, 28, 28))"
      ]
     },
     "execution_count": 13,
     "metadata": {},
     "output_type": "execute_result"
    }
   ],
   "source": [
    "X_train.shape, X_test.shape"
   ]
  },
  {
   "cell_type": "markdown",
   "id": "5ccf3f85",
   "metadata": {
    "papermill": {
     "duration": 0.032019,
     "end_time": "2021-08-25T20:07:36.087480",
     "exception": false,
     "start_time": "2021-08-25T20:07:36.055461",
     "status": "completed"
    },
    "tags": []
   },
   "source": [
    "We reshape the data to flatten the image pixels into a set of features or co-variates:"
   ]
  },
  {
   "cell_type": "code",
   "execution_count": 14,
   "id": "5286a4a3",
   "metadata": {
    "execution": {
     "iopub.execute_input": "2021-08-25T20:07:36.157740Z",
     "iopub.status.busy": "2021-08-25T20:07:36.157098Z",
     "iopub.status.idle": "2021-08-25T20:07:36.169739Z",
     "shell.execute_reply": "2021-08-25T20:07:36.169214Z"
    },
    "papermill": {
     "duration": 0.05116,
     "end_time": "2021-08-25T20:07:36.169876",
     "exception": false,
     "start_time": "2021-08-25T20:07:36.118716",
     "status": "completed"
    },
    "tags": []
   },
   "outputs": [
    {
     "data": {
      "text/plain": [
       "((11982, 784), (1984, 784))"
      ]
     },
     "execution_count": 14,
     "metadata": {},
     "output_type": "execute_result"
    }
   ],
   "source": [
    "X_train = X_train.reshape(X_train.shape[0], -1)\n",
    "X_test = X_test.reshape(X_test.shape[0], -1)\n",
    "X_train.shape, X_test.shape"
   ]
  },
  {
   "cell_type": "code",
   "execution_count": 15,
   "id": "73c5f88a",
   "metadata": {
    "execution": {
     "iopub.execute_input": "2021-08-25T20:07:36.246235Z",
     "iopub.status.busy": "2021-08-25T20:07:36.245592Z",
     "iopub.status.idle": "2021-08-25T20:07:36.268187Z",
     "shell.execute_reply": "2021-08-25T20:07:36.267605Z"
    },
    "papermill": {
     "duration": 0.063866,
     "end_time": "2021-08-25T20:07:36.268330",
     "exception": false,
     "start_time": "2021-08-25T20:07:36.204464",
     "status": "completed"
    },
    "tags": []
   },
   "outputs": [],
   "source": [
    "#Impoting functions from 'Kudzu'\n",
    "from kudzu.model import Model\n",
    "from kudzu.train import Learner\n",
    "from kudzu.optim import GD\n",
    "from kudzu.data import Data, Sampler,Dataloader\n",
    "\n",
    "from kudzu.callbacks import AccCallback\n",
    "from kudzu.callbacks import ClfCallback\n",
    "\n",
    "from kudzu.loss import MSE\n",
    "\n",
    "from kudzu.layer import Sigmoid,Relu\n",
    "from kudzu.layer import Affine"
   ]
  },
  {
   "cell_type": "markdown",
   "id": "bc01172a",
   "metadata": {
    "papermill": {
     "duration": 0.034303,
     "end_time": "2021-08-25T20:07:36.337485",
     "exception": false,
     "start_time": "2021-08-25T20:07:36.303182",
     "status": "completed"
    },
    "tags": []
   },
   "source": [
    "### Let us create a `Config` class, to store important parameters. \n",
    "This class essentially plays the role of a dictionary."
   ]
  },
  {
   "cell_type": "code",
   "execution_count": 16,
   "id": "978281aa",
   "metadata": {
    "execution": {
     "iopub.execute_input": "2021-08-25T20:07:36.409872Z",
     "iopub.status.busy": "2021-08-25T20:07:36.409219Z",
     "iopub.status.idle": "2021-08-25T20:07:36.422007Z",
     "shell.execute_reply": "2021-08-25T20:07:36.421430Z"
    },
    "papermill": {
     "duration": 0.050202,
     "end_time": "2021-08-25T20:07:36.422164",
     "exception": false,
     "start_time": "2021-08-25T20:07:36.371962",
     "status": "completed"
    },
    "tags": []
   },
   "outputs": [],
   "source": [
    "class Config:\n",
    "    pass\n",
    "config = Config()\n",
    "config.lr = 0.001\n",
    "config.num_epochs = 250\n",
    "config.bs = 50"
   ]
  },
  {
   "cell_type": "markdown",
   "id": "1385fa59",
   "metadata": {
    "papermill": {
     "duration": 0.030573,
     "end_time": "2021-08-25T20:07:36.486069",
     "exception": false,
     "start_time": "2021-08-25T20:07:36.455496",
     "status": "completed"
    },
    "tags": []
   },
   "source": [
    "### Running Models with the Training data\n",
    "Details about the network layers:\n",
    "- A first affine layer has 784 inputs and does 100 affine transforms. These are followed by a Relu\n",
    "- A second affine layer has 100 inputs from the 100 activations of the past layer, and does 100 affine transforms. These are followed by a Relu\n",
    "- A third affine layer has 100 activations and does 2 affine transformations to create an embedding for visualization. There is no non-linearity here.\n",
    "- A final \"logistic regression\" which has an affine transform from 2 inputs to 1 output, which is squeezed through a sigmoid.\n"
   ]
  },
  {
   "cell_type": "code",
   "execution_count": 17,
   "id": "2b9c66db",
   "metadata": {
    "execution": {
     "iopub.execute_input": "2021-08-25T20:07:36.566963Z",
     "iopub.status.busy": "2021-08-25T20:07:36.566326Z",
     "iopub.status.idle": "2021-08-25T20:07:36.568986Z",
     "shell.execute_reply": "2021-08-25T20:07:36.569527Z"
    },
    "papermill": {
     "duration": 0.052237,
     "end_time": "2021-08-25T20:07:36.569668",
     "exception": false,
     "start_time": "2021-08-25T20:07:36.517431",
     "status": "completed"
    },
    "tags": []
   },
   "outputs": [],
   "source": [
    "data = Data(X_train, y_train.reshape(-1,1))\n",
    "sampler = Sampler(data, config.bs, shuffle=True)\n",
    "\n",
    "dl = Dataloader(data, sampler)\n",
    "\n",
    "opt = GD(config.lr)\n",
    "loss = MSE()"
   ]
  },
  {
   "cell_type": "code",
   "execution_count": 18,
   "id": "b275e4c2",
   "metadata": {
    "execution": {
     "iopub.execute_input": "2021-08-25T20:07:36.657402Z",
     "iopub.status.busy": "2021-08-25T20:07:36.656312Z",
     "iopub.status.idle": "2021-08-25T20:07:36.657949Z",
     "shell.execute_reply": "2021-08-25T20:07:36.656867Z"
    },
    "papermill": {
     "duration": 0.054845,
     "end_time": "2021-08-25T20:07:36.658065",
     "exception": false,
     "start_time": "2021-08-25T20:07:36.603220",
     "status": "completed"
    },
    "tags": []
   },
   "outputs": [],
   "source": [
    "training_data_x = X_train\n",
    "testing_data_x = X_test\n",
    "training_data_y = y_train.reshape(-1,1)\n",
    "testing_data_y = y_test.reshape(-1,1)"
   ]
  },
  {
   "cell_type": "code",
   "execution_count": 19,
   "id": "76951160",
   "metadata": {
    "execution": {
     "iopub.execute_input": "2021-08-25T20:07:36.729973Z",
     "iopub.status.busy": "2021-08-25T20:07:36.724319Z",
     "iopub.status.idle": "2021-08-25T20:07:36.741979Z",
     "shell.execute_reply": "2021-08-25T20:07:36.741478Z"
    },
    "papermill": {
     "duration": 0.053349,
     "end_time": "2021-08-25T20:07:36.742104",
     "exception": false,
     "start_time": "2021-08-25T20:07:36.688755",
     "status": "completed"
    },
    "tags": []
   },
   "outputs": [
    {
     "name": "stdout",
     "output_type": "stream",
     "text": [
      "xavier\n",
      "xavier\n",
      "xavier\n",
      "xavier\n",
      "xavier\n"
     ]
    }
   ],
   "source": [
    "layers = [Affine(\"first\", 784, 100), Relu(\"first\"), Affine(\"second\", 100, 100), Relu(\"second\"), Affine(\"third\", 100, 2), Affine(\"last\", 2, 1), Sigmoid(\"last\")]\n",
    "model_nn = Model(layers)\n",
    "model_lr = Model([Affine(\"logits\", 784, 1), Sigmoid(\"sigmoid\")])"
   ]
  },
  {
   "cell_type": "code",
   "execution_count": 20,
   "id": "6eede77a",
   "metadata": {
    "execution": {
     "iopub.execute_input": "2021-08-25T20:07:36.812179Z",
     "iopub.status.busy": "2021-08-25T20:07:36.811172Z",
     "iopub.status.idle": "2021-08-25T20:07:36.823046Z",
     "shell.execute_reply": "2021-08-25T20:07:36.822557Z"
    },
    "papermill": {
     "duration": 0.048332,
     "end_time": "2021-08-25T20:07:36.823164",
     "exception": false,
     "start_time": "2021-08-25T20:07:36.774832",
     "status": "completed"
    },
    "tags": []
   },
   "outputs": [],
   "source": [
    "nn_learner = Learner(loss, model_nn, opt, config.num_epochs)\n",
    "acc_nn = ClfCallback(nn_learner, config.bs, training_data_x , testing_data_x, training_data_y, testing_data_y)\n",
    "nn_learner.set_callbacks([acc_nn])"
   ]
  },
  {
   "cell_type": "code",
   "execution_count": 21,
   "id": "877b6cc7",
   "metadata": {
    "execution": {
     "iopub.execute_input": "2021-08-25T20:07:36.891648Z",
     "iopub.status.busy": "2021-08-25T20:07:36.891000Z",
     "iopub.status.idle": "2021-08-25T20:07:36.902419Z",
     "shell.execute_reply": "2021-08-25T20:07:36.902971Z"
    },
    "papermill": {
     "duration": 0.047502,
     "end_time": "2021-08-25T20:07:36.903117",
     "exception": false,
     "start_time": "2021-08-25T20:07:36.855615",
     "status": "completed"
    },
    "tags": []
   },
   "outputs": [],
   "source": [
    "lr_learner = Learner(loss, model_lr, opt, config.num_epochs)\n",
    "acc_lr = ClfCallback(lr_learner, config.bs, training_data_x , testing_data_x, training_data_y, testing_data_y)\n",
    "lr_learner.set_callbacks([acc_lr])"
   ]
  },
  {
   "cell_type": "code",
   "execution_count": 22,
   "id": "d9b133c3",
   "metadata": {
    "execution": {
     "iopub.execute_input": "2021-08-25T20:07:36.975685Z",
     "iopub.status.busy": "2021-08-25T20:07:36.975120Z",
     "iopub.status.idle": "2021-08-25T20:09:38.813512Z",
     "shell.execute_reply": "2021-08-25T20:09:38.814340Z"
    },
    "papermill": {
     "duration": 121.879117,
     "end_time": "2021-08-25T20:09:38.814502",
     "exception": false,
     "start_time": "2021-08-25T20:07:36.935385",
     "status": "completed"
    },
    "tags": []
   },
   "outputs": [
    {
     "name": "stdout",
     "output_type": "stream",
     "text": [
      "Epoch 0, Loss 0.2337\n",
      "Training Accuracy: 0.7530, Testing Accuracy: 0.7505\n",
      "\n"
     ]
    },
    {
     "name": "stdout",
     "output_type": "stream",
     "text": [
      "Epoch 10, Loss 0.1024\n",
      "Training Accuracy: 0.9080, Testing Accuracy: 0.9173\n",
      "\n"
     ]
    },
    {
     "name": "stdout",
     "output_type": "stream",
     "text": [
      "Epoch 20, Loss 0.0601\n",
      "Training Accuracy: 0.9377, Testing Accuracy: 0.9461\n",
      "\n"
     ]
    },
    {
     "name": "stdout",
     "output_type": "stream",
     "text": [
      "Epoch 30, Loss 0.046\n",
      "Training Accuracy: 0.9507, Testing Accuracy: 0.9567\n",
      "\n"
     ]
    },
    {
     "name": "stdout",
     "output_type": "stream",
     "text": [
      "Epoch 40, Loss 0.0393\n",
      "Training Accuracy: 0.9562, Testing Accuracy: 0.9637\n",
      "\n"
     ]
    },
    {
     "name": "stdout",
     "output_type": "stream",
     "text": [
      "Epoch 50, Loss 0.0354\n",
      "Training Accuracy: 0.9591, Testing Accuracy: 0.9632\n",
      "\n"
     ]
    },
    {
     "name": "stdout",
     "output_type": "stream",
     "text": [
      "Epoch 60, Loss 0.0328\n",
      "Training Accuracy: 0.9619, Testing Accuracy: 0.9642\n",
      "\n"
     ]
    },
    {
     "name": "stdout",
     "output_type": "stream",
     "text": [
      "Epoch 70, Loss 0.0308\n",
      "Training Accuracy: 0.9644, Testing Accuracy: 0.9677\n",
      "\n"
     ]
    },
    {
     "name": "stdout",
     "output_type": "stream",
     "text": [
      "Epoch 80, Loss 0.0293\n",
      "Training Accuracy: 0.9657, Testing Accuracy: 0.9682\n",
      "\n"
     ]
    },
    {
     "name": "stdout",
     "output_type": "stream",
     "text": [
      "Epoch 90, Loss 0.0281\n",
      "Training Accuracy: 0.9669, Testing Accuracy: 0.9682\n",
      "\n"
     ]
    },
    {
     "name": "stdout",
     "output_type": "stream",
     "text": [
      "Epoch 100, Loss 0.027\n",
      "Training Accuracy: 0.9685, Testing Accuracy: 0.9693\n",
      "\n"
     ]
    },
    {
     "name": "stdout",
     "output_type": "stream",
     "text": [
      "Epoch 110, Loss 0.0261\n",
      "Training Accuracy: 0.9693, Testing Accuracy: 0.9693\n",
      "\n"
     ]
    },
    {
     "name": "stdout",
     "output_type": "stream",
     "text": [
      "Epoch 120, Loss 0.0252\n",
      "Training Accuracy: 0.9705, Testing Accuracy: 0.9698\n",
      "\n"
     ]
    },
    {
     "name": "stdout",
     "output_type": "stream",
     "text": [
      "Epoch 130, Loss 0.0245\n",
      "Training Accuracy: 0.9712, Testing Accuracy: 0.9693\n",
      "\n"
     ]
    },
    {
     "name": "stdout",
     "output_type": "stream",
     "text": [
      "Epoch 140, Loss 0.0238\n",
      "Training Accuracy: 0.9721, Testing Accuracy: 0.9698\n",
      "\n"
     ]
    },
    {
     "name": "stdout",
     "output_type": "stream",
     "text": [
      "Epoch 150, Loss 0.0232\n",
      "Training Accuracy: 0.9730, Testing Accuracy: 0.9703\n",
      "\n"
     ]
    },
    {
     "name": "stdout",
     "output_type": "stream",
     "text": [
      "Epoch 160, Loss 0.0227\n",
      "Training Accuracy: 0.9740, Testing Accuracy: 0.9703\n",
      "\n"
     ]
    },
    {
     "name": "stdout",
     "output_type": "stream",
     "text": [
      "Epoch 170, Loss 0.0221\n",
      "Training Accuracy: 0.9748, Testing Accuracy: 0.9708\n",
      "\n"
     ]
    },
    {
     "name": "stdout",
     "output_type": "stream",
     "text": [
      "Epoch 180, Loss 0.0216\n",
      "Training Accuracy: 0.9755, Testing Accuracy: 0.9718\n",
      "\n"
     ]
    },
    {
     "name": "stdout",
     "output_type": "stream",
     "text": [
      "Epoch 190, Loss 0.0211\n",
      "Training Accuracy: 0.9762, Testing Accuracy: 0.9718\n",
      "\n"
     ]
    },
    {
     "name": "stdout",
     "output_type": "stream",
     "text": [
      "Epoch 200, Loss 0.0206\n",
      "Training Accuracy: 0.9772, Testing Accuracy: 0.9728\n",
      "\n"
     ]
    },
    {
     "name": "stdout",
     "output_type": "stream",
     "text": [
      "Epoch 210, Loss 0.0202\n",
      "Training Accuracy: 0.9778, Testing Accuracy: 0.9728\n",
      "\n"
     ]
    },
    {
     "name": "stdout",
     "output_type": "stream",
     "text": [
      "Epoch 220, Loss 0.0197\n",
      "Training Accuracy: 0.9780, Testing Accuracy: 0.9738\n",
      "\n"
     ]
    },
    {
     "name": "stdout",
     "output_type": "stream",
     "text": [
      "Epoch 230, Loss 0.0193\n",
      "Training Accuracy: 0.9786, Testing Accuracy: 0.9748\n",
      "\n"
     ]
    },
    {
     "name": "stdout",
     "output_type": "stream",
     "text": [
      "Epoch 240, Loss 0.0189\n",
      "Training Accuracy: 0.9792, Testing Accuracy: 0.9753\n",
      "\n"
     ]
    },
    {
     "data": {
      "text/plain": [
       "0.0495777158525814"
      ]
     },
     "execution_count": 22,
     "metadata": {},
     "output_type": "execute_result"
    }
   ],
   "source": [
    "nn_learner.train_loop(dl)"
   ]
  },
  {
   "cell_type": "code",
   "execution_count": 23,
   "id": "e0163366",
   "metadata": {
    "execution": {
     "iopub.execute_input": "2021-08-25T20:09:38.916988Z",
     "iopub.status.busy": "2021-08-25T20:09:38.916299Z",
     "iopub.status.idle": "2021-08-25T20:09:56.376713Z",
     "shell.execute_reply": "2021-08-25T20:09:56.377575Z"
    },
    "papermill": {
     "duration": 17.517877,
     "end_time": "2021-08-25T20:09:56.377730",
     "exception": false,
     "start_time": "2021-08-25T20:09:38.859853",
     "status": "completed"
    },
    "tags": []
   },
   "outputs": [
    {
     "name": "stdout",
     "output_type": "stream",
     "text": [
      "Epoch 0, Loss 0.217\n",
      "Training Accuracy: 0.7521, Testing Accuracy: 0.7611\n",
      "\n"
     ]
    },
    {
     "name": "stdout",
     "output_type": "stream",
     "text": [
      "Epoch 10, Loss 0.1017\n",
      "Training Accuracy: 0.9079, Testing Accuracy: 0.9199\n",
      "\n"
     ]
    },
    {
     "name": "stdout",
     "output_type": "stream",
     "text": [
      "Epoch 20, Loss 0.0793\n",
      "Training Accuracy: 0.9253, Testing Accuracy: 0.9375\n",
      "\n"
     ]
    },
    {
     "name": "stdout",
     "output_type": "stream",
     "text": [
      "Epoch 30, Loss 0.0688\n",
      "Training Accuracy: 0.9336, Testing Accuracy: 0.9446\n",
      "\n"
     ]
    },
    {
     "name": "stdout",
     "output_type": "stream",
     "text": [
      "Epoch 40, Loss 0.0623\n",
      "Training Accuracy: 0.9392, Testing Accuracy: 0.9496\n",
      "\n"
     ]
    },
    {
     "name": "stdout",
     "output_type": "stream",
     "text": [
      "Epoch 50, Loss 0.0578\n",
      "Training Accuracy: 0.9424, Testing Accuracy: 0.9516\n",
      "\n"
     ]
    },
    {
     "name": "stdout",
     "output_type": "stream",
     "text": [
      "Epoch 60, Loss 0.0545\n",
      "Training Accuracy: 0.9446, Testing Accuracy: 0.9541\n",
      "\n"
     ]
    },
    {
     "name": "stdout",
     "output_type": "stream",
     "text": [
      "Epoch 70, Loss 0.0519\n",
      "Training Accuracy: 0.9468, Testing Accuracy: 0.9572\n",
      "\n"
     ]
    },
    {
     "name": "stdout",
     "output_type": "stream",
     "text": [
      "Epoch 80, Loss 0.0498\n",
      "Training Accuracy: 0.9481, Testing Accuracy: 0.9567\n",
      "\n"
     ]
    },
    {
     "name": "stdout",
     "output_type": "stream",
     "text": [
      "Epoch 90, Loss 0.0481\n",
      "Training Accuracy: 0.9498, Testing Accuracy: 0.9577\n",
      "\n"
     ]
    },
    {
     "name": "stdout",
     "output_type": "stream",
     "text": [
      "Epoch 100, Loss 0.0467\n",
      "Training Accuracy: 0.9514, Testing Accuracy: 0.9582\n",
      "\n"
     ]
    },
    {
     "name": "stdout",
     "output_type": "stream",
     "text": [
      "Epoch 110, Loss 0.0454\n",
      "Training Accuracy: 0.9525, Testing Accuracy: 0.9592\n",
      "\n"
     ]
    },
    {
     "name": "stdout",
     "output_type": "stream",
     "text": [
      "Epoch 120, Loss 0.0443\n",
      "Training Accuracy: 0.9540, Testing Accuracy: 0.9607\n",
      "\n"
     ]
    },
    {
     "name": "stdout",
     "output_type": "stream",
     "text": [
      "Epoch 130, Loss 0.0433\n",
      "Training Accuracy: 0.9552, Testing Accuracy: 0.9627\n",
      "\n"
     ]
    },
    {
     "name": "stdout",
     "output_type": "stream",
     "text": [
      "Epoch 140, Loss 0.0425\n",
      "Training Accuracy: 0.9556, Testing Accuracy: 0.9642\n",
      "\n"
     ]
    },
    {
     "name": "stdout",
     "output_type": "stream",
     "text": [
      "Epoch 150, Loss 0.0417\n",
      "Training Accuracy: 0.9563, Testing Accuracy: 0.9642\n",
      "\n"
     ]
    },
    {
     "name": "stdout",
     "output_type": "stream",
     "text": [
      "Epoch 160, Loss 0.041\n",
      "Training Accuracy: 0.9566, Testing Accuracy: 0.9647\n",
      "\n"
     ]
    },
    {
     "name": "stdout",
     "output_type": "stream",
     "text": [
      "Epoch 170, Loss 0.0404\n",
      "Training Accuracy: 0.9575, Testing Accuracy: 0.9652\n",
      "\n"
     ]
    },
    {
     "name": "stdout",
     "output_type": "stream",
     "text": [
      "Epoch 180, Loss 0.0398\n",
      "Training Accuracy: 0.9579, Testing Accuracy: 0.9647\n",
      "\n"
     ]
    },
    {
     "name": "stdout",
     "output_type": "stream",
     "text": [
      "Epoch 190, Loss 0.0393\n",
      "Training Accuracy: 0.9585, Testing Accuracy: 0.9652\n",
      "\n"
     ]
    },
    {
     "name": "stdout",
     "output_type": "stream",
     "text": [
      "Epoch 200, Loss 0.0388\n",
      "Training Accuracy: 0.9593, Testing Accuracy: 0.9657\n",
      "\n"
     ]
    },
    {
     "name": "stdout",
     "output_type": "stream",
     "text": [
      "Epoch 210, Loss 0.0383\n",
      "Training Accuracy: 0.9596, Testing Accuracy: 0.9667\n",
      "\n"
     ]
    },
    {
     "name": "stdout",
     "output_type": "stream",
     "text": [
      "Epoch 220, Loss 0.0379\n",
      "Training Accuracy: 0.9599, Testing Accuracy: 0.9667\n",
      "\n"
     ]
    },
    {
     "name": "stdout",
     "output_type": "stream",
     "text": [
      "Epoch 230, Loss 0.0375\n",
      "Training Accuracy: 0.9604, Testing Accuracy: 0.9667\n",
      "\n"
     ]
    },
    {
     "name": "stdout",
     "output_type": "stream",
     "text": [
      "Epoch 240, Loss 0.0371\n",
      "Training Accuracy: 0.9604, Testing Accuracy: 0.9667\n",
      "\n"
     ]
    },
    {
     "data": {
      "text/plain": [
       "0.05833520222006792"
      ]
     },
     "execution_count": 23,
     "metadata": {},
     "output_type": "execute_result"
    }
   ],
   "source": [
    "lr_learner.train_loop(dl)"
   ]
  },
  {
   "cell_type": "code",
   "execution_count": 24,
   "id": "ca410940",
   "metadata": {
    "execution": {
     "iopub.execute_input": "2021-08-25T20:09:56.485924Z",
     "iopub.status.busy": "2021-08-25T20:09:56.485281Z",
     "iopub.status.idle": "2021-08-25T20:09:56.769553Z",
     "shell.execute_reply": "2021-08-25T20:09:56.768947Z"
    },
    "papermill": {
     "duration": 0.340363,
     "end_time": "2021-08-25T20:09:56.769687",
     "exception": false,
     "start_time": "2021-08-25T20:09:56.429324",
     "status": "completed"
    },
    "tags": []
   },
   "outputs": [
    {
     "data": {
      "text/plain": [
       "<matplotlib.legend.Legend at 0x7fce289789e8>"
      ]
     },
     "execution_count": 24,
     "metadata": {},
     "output_type": "execute_result"
    },
    {
     "data": {
      "image/png": "[encoded data removed]",
      "text/plain": [
       "<Figure size 1080x720 with 1 Axes>"
      ]
     },
     "metadata": {
      "needs_background": "light"
     },
     "output_type": "display_data"
    }
   ],
   "source": [
    "#comparing the results of NN and LR\n",
    "plt.figure(figsize=(15,10))\n",
    "\n",
    "# Neural Network plots\n",
    "plt.plot(acc_nn.accuracies, 'r-', label = \"Training Accuracies - NN\")\n",
    "plt.plot(acc_nn.test_accuracies, 'g-', label = \"Testing Accuracies - NN\")\n",
    "\n",
    "# Logistic Regression plots\n",
    "plt.plot(acc_lr.accuracies, 'k-', label = \"Training Accuracies - LR\")\n",
    "plt.plot(acc_lr.test_accuracies, 'b-', label = \"Testing Accuracies - LR\")\n",
    "plt.legend()"
   ]
  },
  {
   "cell_type": "markdown",
   "id": "80dfb35c",
   "metadata": {
    "papermill": {
     "duration": 0.052582,
     "end_time": "2021-08-25T20:09:56.874717",
     "exception": false,
     "start_time": "2021-08-25T20:09:56.822135",
     "status": "completed"
    },
    "tags": []
   },
   "source": [
    "#### Plotting the outputs of this layer of the NN.\n"
   ]
  },
  {
   "cell_type": "code",
   "execution_count": 25,
   "id": "45eb2ff5",
   "metadata": {
    "execution": {
     "iopub.execute_input": "2021-08-25T20:09:56.983712Z",
     "iopub.status.busy": "2021-08-25T20:09:56.982794Z",
     "iopub.status.idle": "2021-08-25T20:09:57.009917Z",
     "shell.execute_reply": "2021-08-25T20:09:57.010415Z"
    },
    "papermill": {
     "duration": 0.081311,
     "end_time": "2021-08-25T20:09:57.010566",
     "exception": false,
     "start_time": "2021-08-25T20:09:56.929255",
     "status": "completed"
    },
    "tags": []
   },
   "outputs": [],
   "source": [
    "new_model = Model(layers[:-2])\n",
    "testing_plot = new_model(testing_data_x)"
   ]
  },
  {
   "cell_type": "code",
   "execution_count": 26,
   "id": "4c0a5485",
   "metadata": {
    "execution": {
     "iopub.execute_input": "2021-08-25T20:09:57.129453Z",
     "iopub.status.busy": "2021-08-25T20:09:57.128793Z",
     "iopub.status.idle": "2021-08-25T20:09:57.357738Z",
     "shell.execute_reply": "2021-08-25T20:09:57.357162Z"
    },
    "papermill": {
     "duration": 0.285707,
     "end_time": "2021-08-25T20:09:57.357880",
     "exception": false,
     "start_time": "2021-08-25T20:09:57.072173",
     "status": "completed"
    },
    "tags": []
   },
   "outputs": [
    {
     "data": {
      "text/plain": [
       "Text(0.5, 1.0, 'Outputs')"
      ]
     },
     "execution_count": 26,
     "metadata": {},
     "output_type": "execute_result"
    },
    {
     "data": {
      "image/png": "[encoded data removed]",
      "text/plain": [
       "<Figure size 576x504 with 1 Axes>"
      ]
     },
     "metadata": {
      "needs_background": "light"
     },
     "output_type": "display_data"
    }
   ],
   "source": [
    "# Plotting the scatter plot of points and color coding by class\n",
    "plt.figure(figsize=(8,7))\n",
    "plt.scatter(testing_plot[:,0], testing_plot[:,1], alpha = 0.1, c = y_test.ravel());\n",
    "plt.title('Outputs')"
   ]
  },
  {
   "cell_type": "markdown",
   "id": "a74fcf8f",
   "metadata": {
    "papermill": {
     "duration": 0.055937,
     "end_time": "2021-08-25T20:09:57.470078",
     "exception": false,
     "start_time": "2021-08-25T20:09:57.414141",
     "status": "completed"
    },
    "tags": []
   },
   "source": [
    "Probability contours"
   ]
  },
  {
   "cell_type": "code",
   "execution_count": 27,
   "id": "d0afc8e3",
   "metadata": {
    "execution": {
     "iopub.execute_input": "2021-08-25T20:09:57.586545Z",
     "iopub.status.busy": "2021-08-25T20:09:57.585888Z",
     "iopub.status.idle": "2021-08-25T20:09:57.598826Z",
     "shell.execute_reply": "2021-08-25T20:09:57.599454Z"
    },
    "papermill": {
     "duration": 0.073492,
     "end_time": "2021-08-25T20:09:57.599614",
     "exception": false,
     "start_time": "2021-08-25T20:09:57.526122",
     "status": "completed"
    },
    "tags": []
   },
   "outputs": [],
   "source": [
    "model_prob = Model(layers[-2:]) "
   ]
  },
  {
   "cell_type": "code",
   "execution_count": 28,
   "id": "9b96e238",
   "metadata": {
    "execution": {
     "iopub.execute_input": "2021-08-25T20:09:57.718457Z",
     "iopub.status.busy": "2021-08-25T20:09:57.717786Z",
     "iopub.status.idle": "2021-08-25T20:09:57.732346Z",
     "shell.execute_reply": "2021-08-25T20:09:57.732867Z"
    },
    "papermill": {
     "duration": 0.075463,
     "end_time": "2021-08-25T20:09:57.733026",
     "exception": false,
     "start_time": "2021-08-25T20:09:57.657563",
     "status": "completed"
    },
    "tags": []
   },
   "outputs": [],
   "source": [
    "#creating the x and y ranges according to the above generated plot.\n",
    "x_range = np.linspace(-4, 1, 100) \n",
    "y_range = np.linspace(-6, 6, 100) \n",
    "x_grid, y_grid = np.meshgrid(x_range, y_range) # x_grid and y_grig are of size 100 X 100\n",
    "\n",
    "# converting x_grid and y_grid to continuous arrays\n",
    "x_gridflat = np.ravel(x_grid)\n",
    "y_gridflat = np.ravel(y_grid)\n",
    "\n",
    "# The last layer of the current model takes two columns as input. Hence transpose of np.vstack() is required.\n",
    "X = np.vstack((x_gridflat, y_gridflat)).T\n",
    "\n",
    "prob_contour = model_prob(X).reshape(100,100) "
   ]
  },
  {
   "cell_type": "code",
   "execution_count": 29,
   "id": "da72499a",
   "metadata": {
    "execution": {
     "iopub.execute_input": "2021-08-25T20:09:57.877907Z",
     "iopub.status.busy": "2021-08-25T20:09:57.877258Z",
     "iopub.status.idle": "2021-08-25T20:09:58.175272Z",
     "shell.execute_reply": "2021-08-25T20:09:58.174202Z"
    },
    "papermill": {
     "duration": 0.357316,
     "end_time": "2021-08-25T20:09:58.175408",
     "exception": false,
     "start_time": "2021-08-25T20:09:57.818092",
     "status": "completed"
    },
    "tags": []
   },
   "outputs": [
    {
     "data": {
      "image/png": "[encoded data removed]",
      "text/plain": [
       "<Figure size 720x648 with 1 Axes>"
      ]
     },
     "metadata": {
      "needs_background": "light"
     },
     "output_type": "display_data"
    }
   ],
   "source": [
    "plt.figure(figsize=(10,9))\n",
    "plt.scatter(testing_plot[:,0], testing_plot[:,1], alpha = 0.1, c = y_test.ravel())\n",
    "contours = plt.contour(x_grid,y_grid,prob_contour)\n",
    "plt.title('Probability Contours')\n",
    "plt.clabel(contours, inline = True );"
   ]
  },
  {
   "cell_type": "code",
   "execution_count": null,
   "id": "e81b4ac7",
   "metadata": {
    "papermill": {
     "duration": 0.057129,
     "end_time": "2021-08-25T20:09:58.289693",
     "exception": false,
     "start_time": "2021-08-25T20:09:58.232564",
     "status": "completed"
    },
    "tags": []
   },
   "outputs": [],
   "source": []
  }
 ],
 "metadata": {
  "kernelspec": {
   "display_name": "Python 3",
   "language": "python",
   "name": "python3"
  },
  "language_info": {
   "codemirror_mode": {
    "name": "ipython",
    "version": 3
   },
   "file_extension": ".py",
   "mimetype": "text/x-python",
   "name": "python",
   "nbconvert_exporter": "python",
   "pygments_lexer": "ipython3",
   "version": "3.6.14"
  },
  "papermill": {
   "default_parameters": {},
   "duration": 148.750704,
   "end_time": "2021-08-25T20:09:58.754914",
   "environment_variables": {},
   "exception": null,
   "input_path": "2020-08-11-part2.ipynb",
   "output_path": "2020-08-11-part2.ipynb",
   "parameters": {},
   "start_time": "2021-08-25T20:07:30.004210",
   "version": "2.3.3"
  }
 },
 "nbformat": 4,
 "nbformat_minor": 5
}