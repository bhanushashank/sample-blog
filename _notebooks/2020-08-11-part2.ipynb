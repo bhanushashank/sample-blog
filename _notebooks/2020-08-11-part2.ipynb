{
 "cells": [
  {
   "cell_type": "markdown",
   "id": "98380cd3",
   "metadata": {
    "papermill": {
     "duration": 0.025785,
     "end_time": "2022-04-10T20:09:39.036282",
     "exception": false,
     "start_time": "2022-04-10T20:09:39.010497",
     "status": "completed"
    },
    "tags": []
   },
   "source": [
    "# Distinguish Your Own Digits (DYOD)"
   ]
  },
  {
   "cell_type": "markdown",
   "id": "ef31240d",
   "metadata": {
    "papermill": {
     "duration": 0.02206,
     "end_time": "2022-04-10T20:09:39.079861",
     "exception": false,
     "start_time": "2022-04-10T20:09:39.057801",
     "status": "completed"
    },
    "tags": []
   },
   "source": [
    "You are going to write a classifier that distinguishes between the number 3 and number 8."
   ]
  },
  {
   "cell_type": "code",
   "execution_count": 1,
   "id": "b15c8646",
   "metadata": {
    "execution": {
     "iopub.execute_input": "2022-04-10T20:09:39.132085Z",
     "iopub.status.busy": "2022-04-10T20:09:39.131592Z",
     "iopub.status.idle": "2022-04-10T20:09:39.141706Z",
     "shell.execute_reply": "2022-04-10T20:09:39.141300Z"
    },
    "papermill": {
     "duration": 0.041228,
     "end_time": "2022-04-10T20:09:39.141819",
     "exception": false,
     "start_time": "2022-04-10T20:09:39.100591",
     "status": "completed"
    },
    "tags": []
   },
   "outputs": [],
   "source": [
    "%load_ext autoreload\n",
    "%autoreload 2"
   ]
  },
  {
   "cell_type": "code",
   "execution_count": 2,
   "id": "22ef38dc",
   "metadata": {
    "execution": {
     "iopub.execute_input": "2022-04-10T20:09:39.187391Z",
     "iopub.status.busy": "2022-04-10T20:09:39.186928Z",
     "iopub.status.idle": "2022-04-10T20:09:39.715231Z",
     "shell.execute_reply": "2022-04-10T20:09:39.714703Z"
    },
    "papermill": {
     "duration": 0.552517,
     "end_time": "2022-04-10T20:09:39.715367",
     "exception": false,
     "start_time": "2022-04-10T20:09:39.162850",
     "status": "completed"
    },
    "tags": []
   },
   "outputs": [],
   "source": [
    "%matplotlib inline\n",
    "import numpy as np\n",
    "import matplotlib.pyplot as plt\n",
    "import pandas as pd"
   ]
  },
  {
   "cell_type": "markdown",
   "id": "ba036198",
   "metadata": {
    "papermill": {
     "duration": 0.023509,
     "end_time": "2022-04-10T20:09:39.762870",
     "exception": false,
     "start_time": "2022-04-10T20:09:39.739361",
     "status": "completed"
    },
    "tags": []
   },
   "source": [
    "From the command line run `pip install mnist`. This is a library that will help you bring down the mnist dataset. If you run this from a notebook, you need to put  `!pip install mnist` in a cell by itself."
   ]
  },
  {
   "cell_type": "code",
   "execution_count": 3,
   "id": "bb6ad8a1",
   "metadata": {
    "execution": {
     "iopub.execute_input": "2022-04-10T20:09:39.819634Z",
     "iopub.status.busy": "2022-04-10T20:09:39.819094Z",
     "iopub.status.idle": "2022-04-10T20:09:42.360336Z",
     "shell.execute_reply": "2022-04-10T20:09:42.359310Z"
    },
    "papermill": {
     "duration": 2.573943,
     "end_time": "2022-04-10T20:09:42.360489",
     "exception": false,
     "start_time": "2022-04-10T20:09:39.786546",
     "status": "completed"
    },
    "tags": []
   },
   "outputs": [
    {
     "name": "stdout",
     "output_type": "stream",
     "text": [
      "Collecting mnist\r\n"
     ]
    },
    {
     "name": "stdout",
     "output_type": "stream",
     "text": [
      "  Downloading mnist-0.2.2-py2.py3-none-any.whl (3.5 kB)\r\n",
      "Requirement already satisfied: numpy in /opt/hostedtoolcache/Python/3.6.15/x64/lib/python3.6/site-packages (from mnist) (1.19.5)\r\n"
     ]
    },
    {
     "name": "stdout",
     "output_type": "stream",
     "text": [
      "Installing collected packages: mnist\r\n",
      "Successfully installed mnist-0.2.2\r\n"
     ]
    }
   ],
   "source": [
    "!pip install mnist"
   ]
  },
  {
   "cell_type": "markdown",
   "id": "69df9c9a",
   "metadata": {
    "papermill": {
     "duration": 0.02447,
     "end_time": "2022-04-10T20:09:42.410659",
     "exception": false,
     "start_time": "2022-04-10T20:09:42.386189",
     "status": "completed"
    },
    "tags": []
   },
   "source": [
    "## Preparing the Data"
   ]
  },
  {
   "cell_type": "code",
   "execution_count": 4,
   "id": "7f69d806",
   "metadata": {
    "execution": {
     "iopub.execute_input": "2022-04-10T20:09:42.491336Z",
     "iopub.status.busy": "2022-04-10T20:09:42.488287Z",
     "iopub.status.idle": "2022-04-10T20:09:42.494804Z",
     "shell.execute_reply": "2022-04-10T20:09:42.495212Z"
    },
    "papermill": {
     "duration": 0.06021,
     "end_time": "2022-04-10T20:09:42.495335",
     "exception": false,
     "start_time": "2022-04-10T20:09:42.435125",
     "status": "completed"
    },
    "tags": []
   },
   "outputs": [],
   "source": [
    "import mnist"
   ]
  },
  {
   "cell_type": "code",
   "execution_count": 5,
   "id": "a411e44f",
   "metadata": {
    "execution": {
     "iopub.execute_input": "2022-04-10T20:09:42.549529Z",
     "iopub.status.busy": "2022-04-10T20:09:42.546898Z",
     "iopub.status.idle": "2022-04-10T20:09:43.278378Z",
     "shell.execute_reply": "2022-04-10T20:09:43.277289Z"
    },
    "papermill": {
     "duration": 0.758634,
     "end_time": "2022-04-10T20:09:43.278512",
     "exception": false,
     "start_time": "2022-04-10T20:09:42.519878",
     "status": "completed"
    },
    "tags": []
   },
   "outputs": [],
   "source": [
    "train_images = mnist.train_images()\n",
    "train_labels = mnist.train_labels()"
   ]
  },
  {
   "cell_type": "code",
   "execution_count": 6,
   "id": "dceab3a5",
   "metadata": {
    "execution": {
     "iopub.execute_input": "2022-04-10T20:09:43.336842Z",
     "iopub.status.busy": "2022-04-10T20:09:43.330932Z",
     "iopub.status.idle": "2022-04-10T20:09:43.344941Z",
     "shell.execute_reply": "2022-04-10T20:09:43.345334Z"
    },
    "papermill": {
     "duration": 0.042002,
     "end_time": "2022-04-10T20:09:43.345456",
     "exception": false,
     "start_time": "2022-04-10T20:09:43.303454",
     "status": "completed"
    },
    "tags": []
   },
   "outputs": [
    {
     "data": {
      "text/plain": [
       "((60000, 28, 28), (60000,))"
      ]
     },
     "execution_count": 6,
     "metadata": {},
     "output_type": "execute_result"
    }
   ],
   "source": [
    "train_images.shape, train_labels.shape"
   ]
  },
  {
   "cell_type": "code",
   "execution_count": 7,
   "id": "f50dc2bb",
   "metadata": {
    "execution": {
     "iopub.execute_input": "2022-04-10T20:09:43.399695Z",
     "iopub.status.busy": "2022-04-10T20:09:43.392063Z",
     "iopub.status.idle": "2022-04-10T20:09:43.632980Z",
     "shell.execute_reply": "2022-04-10T20:09:43.632503Z"
    },
    "papermill": {
     "duration": 0.265869,
     "end_time": "2022-04-10T20:09:43.633107",
     "exception": false,
     "start_time": "2022-04-10T20:09:43.367238",
     "status": "completed"
    },
    "tags": []
   },
   "outputs": [],
   "source": [
    "test_images = mnist.test_images()\n",
    "test_labels = mnist.test_labels()"
   ]
  },
  {
   "cell_type": "code",
   "execution_count": 8,
   "id": "fc38cf1b",
   "metadata": {
    "execution": {
     "iopub.execute_input": "2022-04-10T20:09:43.696868Z",
     "iopub.status.busy": "2022-04-10T20:09:43.696330Z",
     "iopub.status.idle": "2022-04-10T20:09:43.705127Z",
     "shell.execute_reply": "2022-04-10T20:09:43.704711Z"
    },
    "papermill": {
     "duration": 0.044179,
     "end_time": "2022-04-10T20:09:43.705241",
     "exception": false,
     "start_time": "2022-04-10T20:09:43.661062",
     "status": "completed"
    },
    "tags": []
   },
   "outputs": [
    {
     "data": {
      "text/plain": [
       "((10000, 28, 28), (10000,))"
      ]
     },
     "execution_count": 8,
     "metadata": {},
     "output_type": "execute_result"
    }
   ],
   "source": [
    "test_images.shape, test_labels.shape"
   ]
  },
  {
   "cell_type": "code",
   "execution_count": 9,
   "id": "f9ed8fe0",
   "metadata": {
    "execution": {
     "iopub.execute_input": "2022-04-10T20:09:43.762710Z",
     "iopub.status.busy": "2022-04-10T20:09:43.762235Z",
     "iopub.status.idle": "2022-04-10T20:09:43.899863Z",
     "shell.execute_reply": "2022-04-10T20:09:43.899381Z"
    },
    "papermill": {
     "duration": 0.165764,
     "end_time": "2022-04-10T20:09:43.899985",
     "exception": false,
     "start_time": "2022-04-10T20:09:43.734221",
     "status": "completed"
    },
    "tags": []
   },
   "outputs": [
    {
     "name": "stdout",
     "output_type": "stream",
     "text": [
      "2\n"
     ]
    },
    {
     "data": {
      "text/plain": [
       "<matplotlib.image.AxesImage at 0x7f66e0b38390>"
      ]
     },
     "execution_count": 9,
     "metadata": {},
     "output_type": "execute_result"
    },
    {
     "data": {
      "image/png": "[encoded data removed]",
      "text/plain": [
       "<Figure size 432x288 with 1 Axes>"
      ]
     },
     "metadata": {
      "needs_background": "light"
     },
     "output_type": "display_data"
    }
   ],
   "source": [
    "image_index = 7776 # You may select anything up to 60,000\n",
    "print(train_labels[image_index]) \n",
    "plt.imshow(train_images[image_index], cmap='Greys')"
   ]
  },
  {
   "cell_type": "markdown",
   "id": "a8d2388d",
   "metadata": {
    "papermill": {
     "duration": 0.026216,
     "end_time": "2022-04-10T20:09:43.952502",
     "exception": false,
     "start_time": "2022-04-10T20:09:43.926286",
     "status": "completed"
    },
    "tags": []
   },
   "source": [
    "## Filter data to get 3 and 8 out"
   ]
  },
  {
   "cell_type": "code",
   "execution_count": 10,
   "id": "776f7fc7",
   "metadata": {
    "execution": {
     "iopub.execute_input": "2022-04-10T20:09:44.009252Z",
     "iopub.status.busy": "2022-04-10T20:09:44.008752Z",
     "iopub.status.idle": "2022-04-10T20:09:44.023347Z",
     "shell.execute_reply": "2022-04-10T20:09:44.023739Z"
    },
    "papermill": {
     "duration": 0.04524,
     "end_time": "2022-04-10T20:09:44.023873",
     "exception": false,
     "start_time": "2022-04-10T20:09:43.978633",
     "status": "completed"
    },
    "tags": []
   },
   "outputs": [],
   "source": [
    "train_filter = np.where((train_labels == 3 ) | (train_labels == 8))\n",
    "test_filter = np.where((test_labels == 3) | (test_labels == 8))\n",
    "X_train, y_train = train_images[train_filter], train_labels[train_filter]\n",
    "X_test, y_test = test_images[test_filter], test_labels[test_filter]"
   ]
  },
  {
   "cell_type": "markdown",
   "id": "948f0b7e",
   "metadata": {
    "papermill": {
     "duration": 0.023221,
     "end_time": "2022-04-10T20:09:44.070406",
     "exception": false,
     "start_time": "2022-04-10T20:09:44.047185",
     "status": "completed"
    },
    "tags": []
   },
   "source": [
    "We normalize the pizel values in the 0 to 1 range"
   ]
  },
  {
   "cell_type": "code",
   "execution_count": 11,
   "id": "ee4c2166",
   "metadata": {
    "execution": {
     "iopub.execute_input": "2022-04-10T20:09:44.134635Z",
     "iopub.status.busy": "2022-04-10T20:09:44.134144Z",
     "iopub.status.idle": "2022-04-10T20:09:44.171640Z",
     "shell.execute_reply": "2022-04-10T20:09:44.171127Z"
    },
    "papermill": {
     "duration": 0.078214,
     "end_time": "2022-04-10T20:09:44.171775",
     "exception": false,
     "start_time": "2022-04-10T20:09:44.093561",
     "status": "completed"
    },
    "tags": []
   },
   "outputs": [],
   "source": [
    "X_train = X_train/255.\n",
    "X_test = X_test/255."
   ]
  },
  {
   "cell_type": "markdown",
   "id": "ddcf4fab",
   "metadata": {
    "papermill": {
     "duration": 0.02326,
     "end_time": "2022-04-10T20:09:44.220275",
     "exception": false,
     "start_time": "2022-04-10T20:09:44.197015",
     "status": "completed"
    },
    "tags": []
   },
   "source": [
    "And setup the labels as 1 (when the digit is 3) and 0 (when the digit is 8)"
   ]
  },
  {
   "cell_type": "code",
   "execution_count": 12,
   "id": "7dc908f2",
   "metadata": {
    "execution": {
     "iopub.execute_input": "2022-04-10T20:09:44.280173Z",
     "iopub.status.busy": "2022-04-10T20:09:44.277535Z",
     "iopub.status.idle": "2022-04-10T20:09:44.284991Z",
     "shell.execute_reply": "2022-04-10T20:09:44.284594Z"
    },
    "papermill": {
     "duration": 0.041619,
     "end_time": "2022-04-10T20:09:44.285098",
     "exception": false,
     "start_time": "2022-04-10T20:09:44.243479",
     "status": "completed"
    },
    "tags": []
   },
   "outputs": [],
   "source": [
    "y_train = 1*(y_train==3)\n",
    "y_test = 1*(y_test==3)"
   ]
  },
  {
   "cell_type": "code",
   "execution_count": 13,
   "id": "01e4e969",
   "metadata": {
    "execution": {
     "iopub.execute_input": "2022-04-10T20:09:44.350456Z",
     "iopub.status.busy": "2022-04-10T20:09:44.349951Z",
     "iopub.status.idle": "2022-04-10T20:09:44.354402Z",
     "shell.execute_reply": "2022-04-10T20:09:44.354001Z"
    },
    "papermill": {
     "duration": 0.046058,
     "end_time": "2022-04-10T20:09:44.354510",
     "exception": false,
     "start_time": "2022-04-10T20:09:44.308452",
     "status": "completed"
    },
    "tags": []
   },
   "outputs": [
    {
     "data": {
      "text/plain": [
       "((11982, 28, 28), (1984, 28, 28))"
      ]
     },
     "execution_count": 13,
     "metadata": {},
     "output_type": "execute_result"
    }
   ],
   "source": [
    "X_train.shape, X_test.shape"
   ]
  },
  {
   "cell_type": "markdown",
   "id": "5ccf3f85",
   "metadata": {
    "papermill": {
     "duration": 0.023523,
     "end_time": "2022-04-10T20:09:44.401339",
     "exception": false,
     "start_time": "2022-04-10T20:09:44.377816",
     "status": "completed"
    },
    "tags": []
   },
   "source": [
    "We reshape the data to flatten the image pixels into a set of features or co-variates:"
   ]
  },
  {
   "cell_type": "code",
   "execution_count": 14,
   "id": "5286a4a3",
   "metadata": {
    "execution": {
     "iopub.execute_input": "2022-04-10T20:09:44.456966Z",
     "iopub.status.busy": "2022-04-10T20:09:44.456466Z",
     "iopub.status.idle": "2022-04-10T20:09:44.468402Z",
     "shell.execute_reply": "2022-04-10T20:09:44.467683Z"
    },
    "papermill": {
     "duration": 0.043903,
     "end_time": "2022-04-10T20:09:44.468522",
     "exception": false,
     "start_time": "2022-04-10T20:09:44.424619",
     "status": "completed"
    },
    "tags": []
   },
   "outputs": [
    {
     "data": {
      "text/plain": [
       "((11982, 784), (1984, 784))"
      ]
     },
     "execution_count": 14,
     "metadata": {},
     "output_type": "execute_result"
    }
   ],
   "source": [
    "X_train = X_train.reshape(X_train.shape[0], -1)\n",
    "X_test = X_test.reshape(X_test.shape[0], -1)\n",
    "X_train.shape, X_test.shape"
   ]
  },
  {
   "cell_type": "code",
   "execution_count": 15,
   "id": "73c5f88a",
   "metadata": {
    "execution": {
     "iopub.execute_input": "2022-04-10T20:09:44.536736Z",
     "iopub.status.busy": "2022-04-10T20:09:44.535146Z",
     "iopub.status.idle": "2022-04-10T20:09:44.545052Z",
     "shell.execute_reply": "2022-04-10T20:09:44.544662Z"
    },
    "papermill": {
     "duration": 0.053024,
     "end_time": "2022-04-10T20:09:44.545166",
     "exception": false,
     "start_time": "2022-04-10T20:09:44.492142",
     "status": "completed"
    },
    "tags": []
   },
   "outputs": [],
   "source": [
    "#Impoting functions from 'Kudzu'\n",
    "from kudzu.model import Model\n",
    "from kudzu.train import Learner\n",
    "from kudzu.optim import GD\n",
    "from kudzu.data import Data, Sampler,Dataloader\n",
    "\n",
    "from kudzu.callbacks import AccCallback\n",
    "from kudzu.callbacks import ClfCallback\n",
    "\n",
    "from kudzu.loss import MSE\n",
    "\n",
    "from kudzu.layer import Sigmoid,Relu\n",
    "from kudzu.layer import Affine"
   ]
  },
  {
   "cell_type": "markdown",
   "id": "bc01172a",
   "metadata": {
    "papermill": {
     "duration": 0.023838,
     "end_time": "2022-04-10T20:09:44.592955",
     "exception": false,
     "start_time": "2022-04-10T20:09:44.569117",
     "status": "completed"
    },
    "tags": []
   },
   "source": [
    "### Let us create a `Config` class, to store important parameters. \n",
    "This class essentially plays the role of a dictionary."
   ]
  },
  {
   "cell_type": "code",
   "execution_count": 16,
   "id": "978281aa",
   "metadata": {
    "execution": {
     "iopub.execute_input": "2022-04-10T20:09:44.647210Z",
     "iopub.status.busy": "2022-04-10T20:09:44.646698Z",
     "iopub.status.idle": "2022-04-10T20:09:44.658046Z",
     "shell.execute_reply": "2022-04-10T20:09:44.657608Z"
    },
    "papermill": {
     "duration": 0.041474,
     "end_time": "2022-04-10T20:09:44.658155",
     "exception": false,
     "start_time": "2022-04-10T20:09:44.616681",
     "status": "completed"
    },
    "tags": []
   },
   "outputs": [],
   "source": [
    "class Config:\n",
    "    pass\n",
    "config = Config()\n",
    "config.lr = 0.001\n",
    "config.num_epochs = 250\n",
    "config.bs = 50"
   ]
  },
  {
   "cell_type": "markdown",
   "id": "1385fa59",
   "metadata": {
    "papermill": {
     "duration": 0.023796,
     "end_time": "2022-04-10T20:09:44.705891",
     "exception": false,
     "start_time": "2022-04-10T20:09:44.682095",
     "status": "completed"
    },
    "tags": []
   },
   "source": [
    "### Running Models with the Training data\n",
    "Details about the network layers:\n",
    "- A first affine layer has 784 inputs and does 100 affine transforms. These are followed by a Relu\n",
    "- A second affine layer has 100 inputs from the 100 activations of the past layer, and does 100 affine transforms. These are followed by a Relu\n",
    "- A third affine layer has 100 activations and does 2 affine transformations to create an embedding for visualization. There is no non-linearity here.\n",
    "- A final \"logistic regression\" which has an affine transform from 2 inputs to 1 output, which is squeezed through a sigmoid.\n"
   ]
  },
  {
   "cell_type": "code",
   "execution_count": 17,
   "id": "2b9c66db",
   "metadata": {
    "execution": {
     "iopub.execute_input": "2022-04-10T20:09:44.771728Z",
     "iopub.status.busy": "2022-04-10T20:09:44.768348Z",
     "iopub.status.idle": "2022-04-10T20:09:44.774015Z",
     "shell.execute_reply": "2022-04-10T20:09:44.773614Z"
    },
    "papermill": {
     "duration": 0.044494,
     "end_time": "2022-04-10T20:09:44.774117",
     "exception": false,
     "start_time": "2022-04-10T20:09:44.729623",
     "status": "completed"
    },
    "tags": []
   },
   "outputs": [],
   "source": [
    "data = Data(X_train, y_train.reshape(-1,1))\n",
    "sampler = Sampler(data, config.bs, shuffle=True)\n",
    "\n",
    "dl = Dataloader(data, sampler)\n",
    "\n",
    "opt = GD(config.lr)\n",
    "loss = MSE()"
   ]
  },
  {
   "cell_type": "code",
   "execution_count": 18,
   "id": "b275e4c2",
   "metadata": {
    "execution": {
     "iopub.execute_input": "2022-04-10T20:09:44.830846Z",
     "iopub.status.busy": "2022-04-10T20:09:44.830358Z",
     "iopub.status.idle": "2022-04-10T20:09:44.839673Z",
     "shell.execute_reply": "2022-04-10T20:09:44.839246Z"
    },
    "papermill": {
     "duration": 0.041752,
     "end_time": "2022-04-10T20:09:44.839785",
     "exception": false,
     "start_time": "2022-04-10T20:09:44.798033",
     "status": "completed"
    },
    "tags": []
   },
   "outputs": [],
   "source": [
    "training_data_x = X_train\n",
    "testing_data_x = X_test\n",
    "training_data_y = y_train.reshape(-1,1)\n",
    "testing_data_y = y_test.reshape(-1,1)"
   ]
  },
  {
   "cell_type": "code",
   "execution_count": 19,
   "id": "76951160",
   "metadata": {
    "execution": {
     "iopub.execute_input": "2022-04-10T20:09:44.896479Z",
     "iopub.status.busy": "2022-04-10T20:09:44.895913Z",
     "iopub.status.idle": "2022-04-10T20:09:44.910952Z",
     "shell.execute_reply": "2022-04-10T20:09:44.911373Z"
    },
    "papermill": {
     "duration": 0.047968,
     "end_time": "2022-04-10T20:09:44.911543",
     "exception": false,
     "start_time": "2022-04-10T20:09:44.863575",
     "status": "completed"
    },
    "tags": []
   },
   "outputs": [
    {
     "name": "stdout",
     "output_type": "stream",
     "text": [
      "xavier\n",
      "xavier\n",
      "xavier\n",
      "xavier\n",
      "xavier\n"
     ]
    }
   ],
   "source": [
    "layers = [Affine(\"first\", 784, 100), Relu(\"first\"), Affine(\"second\", 100, 100), Relu(\"second\"), Affine(\"third\", 100, 2), Affine(\"last\", 2, 1), Sigmoid(\"last\")]\n",
    "model_nn = Model(layers)\n",
    "model_lr = Model([Affine(\"logits\", 784, 1), Sigmoid(\"sigmoid\")])"
   ]
  },
  {
   "cell_type": "code",
   "execution_count": 20,
   "id": "6eede77a",
   "metadata": {
    "execution": {
     "iopub.execute_input": "2022-04-10T20:09:44.974826Z",
     "iopub.status.busy": "2022-04-10T20:09:44.974290Z",
     "iopub.status.idle": "2022-04-10T20:09:44.984267Z",
     "shell.execute_reply": "2022-04-10T20:09:44.983812Z"
    },
    "papermill": {
     "duration": 0.045632,
     "end_time": "2022-04-10T20:09:44.984377",
     "exception": false,
     "start_time": "2022-04-10T20:09:44.938745",
     "status": "completed"
    },
    "tags": []
   },
   "outputs": [],
   "source": [
    "nn_learner = Learner(loss, model_nn, opt, config.num_epochs)\n",
    "acc_nn = ClfCallback(nn_learner, config.bs, training_data_x , testing_data_x, training_data_y, testing_data_y)\n",
    "nn_learner.set_callbacks([acc_nn])"
   ]
  },
  {
   "cell_type": "code",
   "execution_count": 21,
   "id": "877b6cc7",
   "metadata": {
    "execution": {
     "iopub.execute_input": "2022-04-10T20:09:45.046879Z",
     "iopub.status.busy": "2022-04-10T20:09:45.046373Z",
     "iopub.status.idle": "2022-04-10T20:09:45.056386Z",
     "shell.execute_reply": "2022-04-10T20:09:45.055983Z"
    },
    "papermill": {
     "duration": 0.045083,
     "end_time": "2022-04-10T20:09:45.056489",
     "exception": false,
     "start_time": "2022-04-10T20:09:45.011406",
     "status": "completed"
    },
    "tags": []
   },
   "outputs": [],
   "source": [
    "lr_learner = Learner(loss, model_lr, opt, config.num_epochs)\n",
    "acc_lr = ClfCallback(lr_learner, config.bs, training_data_x , testing_data_x, training_data_y, testing_data_y)\n",
    "lr_learner.set_callbacks([acc_lr])"
   ]
  },
  {
   "cell_type": "code",
   "execution_count": 22,
   "id": "d9b133c3",
   "metadata": {
    "execution": {
     "iopub.execute_input": "2022-04-10T20:09:45.120611Z",
     "iopub.status.busy": "2022-04-10T20:09:45.112015Z",
     "iopub.status.idle": "2022-04-10T20:11:01.549489Z",
     "shell.execute_reply": "2022-04-10T20:11:01.550282Z"
    },
    "papermill": {
     "duration": 76.469878,
     "end_time": "2022-04-10T20:11:01.550431",
     "exception": false,
     "start_time": "2022-04-10T20:09:45.080553",
     "status": "completed"
    },
    "tags": []
   },
   "outputs": [
    {
     "name": "stdout",
     "output_type": "stream",
     "text": [
      "Epoch 0, Loss 0.2418\n",
      "Training Accuracy: 0.7213, Testing Accuracy: 0.7394\n",
      "\n"
     ]
    },
    {
     "name": "stdout",
     "output_type": "stream",
     "text": [
      "Epoch 10, Loss 0.0702\n",
      "Training Accuracy: 0.9338, Testing Accuracy: 0.9466\n",
      "\n"
     ]
    },
    {
     "name": "stdout",
     "output_type": "stream",
     "text": [
      "Epoch 20, Loss 0.047\n",
      "Training Accuracy: 0.9513, Testing Accuracy: 0.9612\n",
      "\n"
     ]
    },
    {
     "name": "stdout",
     "output_type": "stream",
     "text": [
      "Epoch 30, Loss 0.0389\n",
      "Training Accuracy: 0.9579, Testing Accuracy: 0.9667\n",
      "\n"
     ]
    },
    {
     "name": "stdout",
     "output_type": "stream",
     "text": [
      "Epoch 40, Loss 0.0345\n",
      "Training Accuracy: 0.9627, Testing Accuracy: 0.9693\n",
      "\n"
     ]
    },
    {
     "name": "stdout",
     "output_type": "stream",
     "text": [
      "Epoch 50, Loss 0.0317\n",
      "Training Accuracy: 0.9652, Testing Accuracy: 0.9698\n",
      "\n"
     ]
    },
    {
     "name": "stdout",
     "output_type": "stream",
     "text": [
      "Epoch 60, Loss 0.0296\n",
      "Training Accuracy: 0.9665, Testing Accuracy: 0.9718\n",
      "\n"
     ]
    },
    {
     "name": "stdout",
     "output_type": "stream",
     "text": [
      "Epoch 70, Loss 0.028\n",
      "Training Accuracy: 0.9679, Testing Accuracy: 0.9723\n",
      "\n"
     ]
    },
    {
     "name": "stdout",
     "output_type": "stream",
     "text": [
      "Epoch 80, Loss 0.0267\n",
      "Training Accuracy: 0.9699, Testing Accuracy: 0.9733\n",
      "\n"
     ]
    },
    {
     "name": "stdout",
     "output_type": "stream",
     "text": [
      "Epoch 90, Loss 0.0256\n",
      "Training Accuracy: 0.9710, Testing Accuracy: 0.9733\n",
      "\n"
     ]
    },
    {
     "name": "stdout",
     "output_type": "stream",
     "text": [
      "Epoch 100, Loss 0.0247\n",
      "Training Accuracy: 0.9722, Testing Accuracy: 0.9748\n",
      "\n"
     ]
    },
    {
     "name": "stdout",
     "output_type": "stream",
     "text": [
      "Epoch 110, Loss 0.0238\n",
      "Training Accuracy: 0.9733, Testing Accuracy: 0.9748\n",
      "\n"
     ]
    },
    {
     "name": "stdout",
     "output_type": "stream",
     "text": [
      "Epoch 120, Loss 0.023\n",
      "Training Accuracy: 0.9745, Testing Accuracy: 0.9748\n",
      "\n"
     ]
    },
    {
     "name": "stdout",
     "output_type": "stream",
     "text": [
      "Epoch 130, Loss 0.0223\n",
      "Training Accuracy: 0.9756, Testing Accuracy: 0.9753\n",
      "\n"
     ]
    },
    {
     "name": "stdout",
     "output_type": "stream",
     "text": [
      "Epoch 140, Loss 0.0217\n",
      "Training Accuracy: 0.9760, Testing Accuracy: 0.9768\n",
      "\n"
     ]
    },
    {
     "name": "stdout",
     "output_type": "stream",
     "text": [
      "Epoch 150, Loss 0.021\n",
      "Training Accuracy: 0.9772, Testing Accuracy: 0.9753\n",
      "\n"
     ]
    },
    {
     "name": "stdout",
     "output_type": "stream",
     "text": [
      "Epoch 160, Loss 0.0205\n",
      "Training Accuracy: 0.9771, Testing Accuracy: 0.9763\n",
      "\n"
     ]
    },
    {
     "name": "stdout",
     "output_type": "stream",
     "text": [
      "Epoch 170, Loss 0.0199\n",
      "Training Accuracy: 0.9776, Testing Accuracy: 0.9768\n",
      "\n"
     ]
    },
    {
     "name": "stdout",
     "output_type": "stream",
     "text": [
      "Epoch 180, Loss 0.0194\n",
      "Training Accuracy: 0.9787, Testing Accuracy: 0.9773\n",
      "\n"
     ]
    },
    {
     "name": "stdout",
     "output_type": "stream",
     "text": [
      "Epoch 190, Loss 0.0189\n",
      "Training Accuracy: 0.9796, Testing Accuracy: 0.9773\n",
      "\n"
     ]
    },
    {
     "name": "stdout",
     "output_type": "stream",
     "text": [
      "Epoch 200, Loss 0.0184\n",
      "Training Accuracy: 0.9805, Testing Accuracy: 0.9773\n",
      "\n"
     ]
    },
    {
     "name": "stdout",
     "output_type": "stream",
     "text": [
      "Epoch 210, Loss 0.018\n",
      "Training Accuracy: 0.9809, Testing Accuracy: 0.9778\n",
      "\n"
     ]
    },
    {
     "name": "stdout",
     "output_type": "stream",
     "text": [
      "Epoch 220, Loss 0.0176\n",
      "Training Accuracy: 0.9814, Testing Accuracy: 0.9793\n",
      "\n"
     ]
    },
    {
     "name": "stdout",
     "output_type": "stream",
     "text": [
      "Epoch 230, Loss 0.0172\n",
      "Training Accuracy: 0.9818, Testing Accuracy: 0.9793\n",
      "\n"
     ]
    },
    {
     "name": "stdout",
     "output_type": "stream",
     "text": [
      "Epoch 240, Loss 0.0168\n",
      "Training Accuracy: 0.9818, Testing Accuracy: 0.9798\n",
      "\n"
     ]
    },
    {
     "data": {
      "text/plain": [
       "0.015249308429139801"
      ]
     },
     "execution_count": 22,
     "metadata": {},
     "output_type": "execute_result"
    }
   ],
   "source": [
    "nn_learner.train_loop(dl)"
   ]
  },
  {
   "cell_type": "code",
   "execution_count": 23,
   "id": "e0163366",
   "metadata": {
    "execution": {
     "iopub.execute_input": "2022-04-10T20:11:01.630308Z",
     "iopub.status.busy": "2022-04-10T20:11:01.629786Z",
     "iopub.status.idle": "2022-04-10T20:11:15.193222Z",
     "shell.execute_reply": "2022-04-10T20:11:15.193973Z"
    },
    "papermill": {
     "duration": 13.609567,
     "end_time": "2022-04-10T20:11:15.194120",
     "exception": false,
     "start_time": "2022-04-10T20:11:01.584553",
     "status": "completed"
    },
    "tags": []
   },
   "outputs": [
    {
     "name": "stdout",
     "output_type": "stream",
     "text": [
      "Epoch 0, Loss 0.2348\n",
      "Training Accuracy: 0.6893, Testing Accuracy: 0.7132\n",
      "\n"
     ]
    },
    {
     "name": "stdout",
     "output_type": "stream",
     "text": [
      "Epoch 10, Loss 0.106\n",
      "Training Accuracy: 0.8980, Testing Accuracy: 0.9052\n",
      "\n"
     ]
    },
    {
     "name": "stdout",
     "output_type": "stream",
     "text": [
      "Epoch 20, Loss 0.0815\n",
      "Training Accuracy: 0.9228, Testing Accuracy: 0.9309\n",
      "\n"
     ]
    },
    {
     "name": "stdout",
     "output_type": "stream",
     "text": [
      "Epoch 30, Loss 0.0699\n",
      "Training Accuracy: 0.9333, Testing Accuracy: 0.9435\n",
      "\n"
     ]
    },
    {
     "name": "stdout",
     "output_type": "stream",
     "text": [
      "Epoch 40, Loss 0.0629\n",
      "Training Accuracy: 0.9392, Testing Accuracy: 0.9476\n",
      "\n"
     ]
    },
    {
     "name": "stdout",
     "output_type": "stream",
     "text": [
      "Epoch 50, Loss 0.0581\n",
      "Training Accuracy: 0.9428, Testing Accuracy: 0.9506\n",
      "\n"
     ]
    },
    {
     "name": "stdout",
     "output_type": "stream",
     "text": [
      "Epoch 60, Loss 0.0547\n",
      "Training Accuracy: 0.9448, Testing Accuracy: 0.9541\n",
      "\n"
     ]
    },
    {
     "name": "stdout",
     "output_type": "stream",
     "text": [
      "Epoch 70, Loss 0.052\n",
      "Training Accuracy: 0.9464, Testing Accuracy: 0.9577\n",
      "\n"
     ]
    },
    {
     "name": "stdout",
     "output_type": "stream",
     "text": [
      "Epoch 80, Loss 0.0498\n",
      "Training Accuracy: 0.9486, Testing Accuracy: 0.9592\n",
      "\n"
     ]
    },
    {
     "name": "stdout",
     "output_type": "stream",
     "text": [
      "Epoch 90, Loss 0.0481\n",
      "Training Accuracy: 0.9502, Testing Accuracy: 0.9617\n",
      "\n"
     ]
    },
    {
     "name": "stdout",
     "output_type": "stream",
     "text": [
      "Epoch 100, Loss 0.0466\n",
      "Training Accuracy: 0.9515, Testing Accuracy: 0.9627\n",
      "\n"
     ]
    },
    {
     "name": "stdout",
     "output_type": "stream",
     "text": [
      "Epoch 110, Loss 0.0454\n",
      "Training Accuracy: 0.9528, Testing Accuracy: 0.9627\n",
      "\n"
     ]
    },
    {
     "name": "stdout",
     "output_type": "stream",
     "text": [
      "Epoch 120, Loss 0.0443\n",
      "Training Accuracy: 0.9533, Testing Accuracy: 0.9637\n",
      "\n"
     ]
    },
    {
     "name": "stdout",
     "output_type": "stream",
     "text": [
      "Epoch 130, Loss 0.0433\n",
      "Training Accuracy: 0.9542, Testing Accuracy: 0.9647\n",
      "\n"
     ]
    },
    {
     "name": "stdout",
     "output_type": "stream",
     "text": [
      "Epoch 140, Loss 0.0424\n",
      "Training Accuracy: 0.9551, Testing Accuracy: 0.9647\n",
      "\n"
     ]
    },
    {
     "name": "stdout",
     "output_type": "stream",
     "text": [
      "Epoch 150, Loss 0.0417\n",
      "Training Accuracy: 0.9559, Testing Accuracy: 0.9652\n",
      "\n"
     ]
    },
    {
     "name": "stdout",
     "output_type": "stream",
     "text": [
      "Epoch 160, Loss 0.041\n",
      "Training Accuracy: 0.9568, Testing Accuracy: 0.9652\n",
      "\n"
     ]
    },
    {
     "name": "stdout",
     "output_type": "stream",
     "text": [
      "Epoch 170, Loss 0.0404\n",
      "Training Accuracy: 0.9573, Testing Accuracy: 0.9652\n",
      "\n"
     ]
    },
    {
     "name": "stdout",
     "output_type": "stream",
     "text": [
      "Epoch 180, Loss 0.0398\n",
      "Training Accuracy: 0.9574, Testing Accuracy: 0.9657\n",
      "\n"
     ]
    },
    {
     "name": "stdout",
     "output_type": "stream",
     "text": [
      "Epoch 190, Loss 0.0393\n",
      "Training Accuracy: 0.9579, Testing Accuracy: 0.9657\n",
      "\n"
     ]
    },
    {
     "name": "stdout",
     "output_type": "stream",
     "text": [
      "Epoch 200, Loss 0.0388\n",
      "Training Accuracy: 0.9586, Testing Accuracy: 0.9667\n",
      "\n"
     ]
    },
    {
     "name": "stdout",
     "output_type": "stream",
     "text": [
      "Epoch 210, Loss 0.0383\n",
      "Training Accuracy: 0.9591, Testing Accuracy: 0.9672\n",
      "\n"
     ]
    },
    {
     "name": "stdout",
     "output_type": "stream",
     "text": [
      "Epoch 220, Loss 0.0379\n",
      "Training Accuracy: 0.9594, Testing Accuracy: 0.9667\n",
      "\n"
     ]
    },
    {
     "name": "stdout",
     "output_type": "stream",
     "text": [
      "Epoch 230, Loss 0.0375\n",
      "Training Accuracy: 0.9596, Testing Accuracy: 0.9667\n",
      "\n"
     ]
    },
    {
     "name": "stdout",
     "output_type": "stream",
     "text": [
      "Epoch 240, Loss 0.0371\n",
      "Training Accuracy: 0.9597, Testing Accuracy: 0.9667\n",
      "\n"
     ]
    },
    {
     "data": {
      "text/plain": [
       "0.01853147547607673"
      ]
     },
     "execution_count": 23,
     "metadata": {},
     "output_type": "execute_result"
    }
   ],
   "source": [
    "lr_learner.train_loop(dl)"
   ]
  },
  {
   "cell_type": "code",
   "execution_count": 24,
   "id": "ca410940",
   "metadata": {
    "execution": {
     "iopub.execute_input": "2022-04-10T20:11:15.288838Z",
     "iopub.status.busy": "2022-04-10T20:11:15.288306Z",
     "iopub.status.idle": "2022-04-10T20:11:15.505802Z",
     "shell.execute_reply": "2022-04-10T20:11:15.506225Z"
    },
    "papermill": {
     "duration": 0.271586,
     "end_time": "2022-04-10T20:11:15.506362",
     "exception": false,
     "start_time": "2022-04-10T20:11:15.234776",
     "status": "completed"
    },
    "tags": []
   },
   "outputs": [
    {
     "data": {
      "text/plain": [
       "<matplotlib.legend.Legend at 0x7f66d3379588>"
      ]
     },
     "execution_count": 24,
     "metadata": {},
     "output_type": "execute_result"
    },
    {
     "data": {
      "image/png": "[encoded data removed]",
      "text/plain": [
       "<Figure size 1080x720 with 1 Axes>"
      ]
     },
     "metadata": {
      "needs_background": "light"
     },
     "output_type": "display_data"
    }
   ],
   "source": [
    "#comparing the results of NN and LR\n",
    "plt.figure(figsize=(15,10))\n",
    "\n",
    "# Neural Network plots\n",
    "plt.plot(acc_nn.accuracies, 'r-', label = \"Training Accuracies - NN\")\n",
    "plt.plot(acc_nn.test_accuracies, 'g-', label = \"Testing Accuracies - NN\")\n",
    "\n",
    "# Logistic Regression plots\n",
    "plt.plot(acc_lr.accuracies, 'k-', label = \"Training Accuracies - LR\")\n",
    "plt.plot(acc_lr.test_accuracies, 'b-', label = \"Testing Accuracies - LR\")\n",
    "plt.legend()"
   ]
  },
  {
   "cell_type": "markdown",
   "id": "80dfb35c",
   "metadata": {
    "papermill": {
     "duration": 0.041252,
     "end_time": "2022-04-10T20:11:15.589806",
     "exception": false,
     "start_time": "2022-04-10T20:11:15.548554",
     "status": "completed"
    },
    "tags": []
   },
   "source": [
    "#### Plotting the outputs of this layer of the NN.\n"
   ]
  },
  {
   "cell_type": "code",
   "execution_count": 25,
   "id": "45eb2ff5",
   "metadata": {
    "execution": {
     "iopub.execute_input": "2022-04-10T20:11:15.678016Z",
     "iopub.status.busy": "2022-04-10T20:11:15.677483Z",
     "iopub.status.idle": "2022-04-10T20:11:15.695478Z",
     "shell.execute_reply": "2022-04-10T20:11:15.695941Z"
    },
    "papermill": {
     "duration": 0.064988,
     "end_time": "2022-04-10T20:11:15.696077",
     "exception": false,
     "start_time": "2022-04-10T20:11:15.631089",
     "status": "completed"
    },
    "tags": []
   },
   "outputs": [],
   "source": [
    "new_model = Model(layers[:-2])\n",
    "testing_plot = new_model(testing_data_x)"
   ]
  },
  {
   "cell_type": "code",
   "execution_count": 26,
   "id": "4c0a5485",
   "metadata": {
    "execution": {
     "iopub.execute_input": "2022-04-10T20:11:15.795242Z",
     "iopub.status.busy": "2022-04-10T20:11:15.793622Z",
     "iopub.status.idle": "2022-04-10T20:11:15.981593Z",
     "shell.execute_reply": "2022-04-10T20:11:15.982043Z"
    },
    "papermill": {
     "duration": 0.24451,
     "end_time": "2022-04-10T20:11:15.982182",
     "exception": false,
     "start_time": "2022-04-10T20:11:15.737672",
     "status": "completed"
    },
    "tags": []
   },
   "outputs": [
    {
     "data": {
      "text/plain": [
       "Text(0.5, 1.0, 'Outputs')"
      ]
     },
     "execution_count": 26,
     "metadata": {},
     "output_type": "execute_result"
    },
    {
     "data": {
      "image/png": "[encoded data removed]",
      "text/plain": [
       "<Figure size 576x504 with 1 Axes>"
      ]
     },
     "metadata": {
      "needs_background": "light"
     },
     "output_type": "display_data"
    }
   ],
   "source": [
    "# Plotting the scatter plot of points and color coding by class\n",
    "plt.figure(figsize=(8,7))\n",
    "plt.scatter(testing_plot[:,0], testing_plot[:,1], alpha = 0.1, c = y_test.ravel());\n",
    "plt.title('Outputs')"
   ]
  },
  {
   "cell_type": "markdown",
   "id": "a74fcf8f",
   "metadata": {
    "papermill": {
     "duration": 0.043905,
     "end_time": "2022-04-10T20:11:16.070285",
     "exception": false,
     "start_time": "2022-04-10T20:11:16.026380",
     "status": "completed"
    },
    "tags": []
   },
   "source": [
    "Probability contours"
   ]
  },
  {
   "cell_type": "code",
   "execution_count": 27,
   "id": "d0afc8e3",
   "metadata": {
    "execution": {
     "iopub.execute_input": "2022-04-10T20:11:16.162256Z",
     "iopub.status.busy": "2022-04-10T20:11:16.161641Z",
     "iopub.status.idle": "2022-04-10T20:11:16.172614Z",
     "shell.execute_reply": "2022-04-10T20:11:16.173015Z"
    },
    "papermill": {
     "duration": 0.058853,
     "end_time": "2022-04-10T20:11:16.173151",
     "exception": false,
     "start_time": "2022-04-10T20:11:16.114298",
     "status": "completed"
    },
    "tags": []
   },
   "outputs": [],
   "source": [
    "model_prob = Model(layers[-2:]) "
   ]
  },
  {
   "cell_type": "code",
   "execution_count": 28,
   "id": "9b96e238",
   "metadata": {
    "execution": {
     "iopub.execute_input": "2022-04-10T20:11:16.280625Z",
     "iopub.status.busy": "2022-04-10T20:11:16.280094Z",
     "iopub.status.idle": "2022-04-10T20:11:16.284301Z",
     "shell.execute_reply": "2022-04-10T20:11:16.283791Z"
    },
    "papermill": {
     "duration": 0.067181,
     "end_time": "2022-04-10T20:11:16.284413",
     "exception": false,
     "start_time": "2022-04-10T20:11:16.217232",
     "status": "completed"
    },
    "tags": []
   },
   "outputs": [],
   "source": [
    "#creating the x and y ranges according to the above generated plot.\n",
    "x_range = np.linspace(-4, 1, 100) \n",
    "y_range = np.linspace(-6, 6, 100) \n",
    "x_grid, y_grid = np.meshgrid(x_range, y_range) # x_grid and y_grig are of size 100 X 100\n",
    "\n",
    "# converting x_grid and y_grid to continuous arrays\n",
    "x_gridflat = np.ravel(x_grid)\n",
    "y_gridflat = np.ravel(y_grid)\n",
    "\n",
    "# The last layer of the current model takes two columns as input. Hence transpose of np.vstack() is required.\n",
    "X = np.vstack((x_gridflat, y_gridflat)).T\n",
    "\n",
    "prob_contour = model_prob(X).reshape(100,100) "
   ]
  },
  {
   "cell_type": "code",
   "execution_count": 29,
   "id": "da72499a",
   "metadata": {
    "execution": {
     "iopub.execute_input": "2022-04-10T20:11:16.435884Z",
     "iopub.status.busy": "2022-04-10T20:11:16.416253Z",
     "iopub.status.idle": "2022-04-10T20:11:16.662763Z",
     "shell.execute_reply": "2022-04-10T20:11:16.661942Z"
    },
    "papermill": {
     "duration": 0.331939,
     "end_time": "2022-04-10T20:11:16.662892",
     "exception": false,
     "start_time": "2022-04-10T20:11:16.330953",
     "status": "completed"
    },
    "tags": []
   },
   "outputs": [
    {
     "data": {
      "image/png": "[encoded data removed]",
      "text/plain": [
       "<Figure size 720x648 with 1 Axes>"
      ]
     },
     "metadata": {
      "needs_background": "light"
     },
     "output_type": "display_data"
    }
   ],
   "source": [
    "plt.figure(figsize=(10,9))\n",
    "plt.scatter(testing_plot[:,0], testing_plot[:,1], alpha = 0.1, c = y_test.ravel())\n",
    "contours = plt.contour(x_grid,y_grid,prob_contour)\n",
    "plt.title('Probability Contours')\n",
    "plt.clabel(contours, inline = True );"
   ]
  },
  {
   "cell_type": "code",
   "execution_count": null,
   "id": "e81b4ac7",
   "metadata": {
    "papermill": {
     "duration": 0.046723,
     "end_time": "2022-04-10T20:11:16.756687",
     "exception": false,
     "start_time": "2022-04-10T20:11:16.709964",
     "status": "completed"
    },
    "tags": []
   },
   "outputs": [],
   "source": []
  }
 ],
 "metadata": {
  "kernelspec": {
   "display_name": "Python 3",
   "language": "python",
   "name": "python3"
  },
  "language_info": {
   "codemirror_mode": {
    "name": "ipython",
    "version": 3
   },
   "file_extension": ".py",
   "mimetype": "text/x-python",
   "name": "python",
   "nbconvert_exporter": "python",
   "pygments_lexer": "ipython3",
   "version": "3.6.15"
  },
  "papermill": {
   "default_parameters": {},
   "duration": 99.126842,
   "end_time": "2022-04-10T20:11:17.221229",
   "environment_variables": {},
   "exception": null,
   "input_path": "2020-08-11-part2.ipynb",
   "output_path": "2020-08-11-part2.ipynb",
   "parameters": {},
   "start_time": "2022-04-10T20:09:38.094387",
   "version": "2.3.3"
  }
 },
 "nbformat": 4,
 "nbformat_minor": 5
}