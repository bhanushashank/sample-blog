{
 "cells": [
  {
   "cell_type": "markdown",
   "id": "98380cd3",
   "metadata": {
    "papermill": {
     "duration": 0.02837,
     "end_time": "2021-12-05T10:07:40.620277",
     "exception": false,
     "start_time": "2021-12-05T10:07:40.591907",
     "status": "completed"
    },
    "tags": []
   },
   "source": [
    "# Distinguish Your Own Digits (DYOD)"
   ]
  },
  {
   "cell_type": "markdown",
   "id": "ef31240d",
   "metadata": {
    "papermill": {
     "duration": 0.024524,
     "end_time": "2021-12-05T10:07:40.669953",
     "exception": false,
     "start_time": "2021-12-05T10:07:40.645429",
     "status": "completed"
    },
    "tags": []
   },
   "source": [
    "You are going to write a classifier that distinguishes between the number 3 and number 8."
   ]
  },
  {
   "cell_type": "code",
   "execution_count": 1,
   "id": "b15c8646",
   "metadata": {
    "execution": {
     "iopub.execute_input": "2021-12-05T10:07:40.729443Z",
     "iopub.status.busy": "2021-12-05T10:07:40.727108Z",
     "iopub.status.idle": "2021-12-05T10:07:40.738544Z",
     "shell.execute_reply": "2021-12-05T10:07:40.738118Z"
    },
    "papermill": {
     "duration": 0.044165,
     "end_time": "2021-12-05T10:07:40.738652",
     "exception": false,
     "start_time": "2021-12-05T10:07:40.694487",
     "status": "completed"
    },
    "tags": []
   },
   "outputs": [],
   "source": [
    "%load_ext autoreload\n",
    "%autoreload 2"
   ]
  },
  {
   "cell_type": "code",
   "execution_count": 2,
   "id": "22ef38dc",
   "metadata": {
    "execution": {
     "iopub.execute_input": "2021-12-05T10:07:40.792206Z",
     "iopub.status.busy": "2021-12-05T10:07:40.791715Z",
     "iopub.status.idle": "2021-12-05T10:07:41.334961Z",
     "shell.execute_reply": "2021-12-05T10:07:41.334518Z"
    },
    "papermill": {
     "duration": 0.571387,
     "end_time": "2021-12-05T10:07:41.335076",
     "exception": false,
     "start_time": "2021-12-05T10:07:40.763689",
     "status": "completed"
    },
    "tags": []
   },
   "outputs": [],
   "source": [
    "%matplotlib inline\n",
    "import numpy as np\n",
    "import matplotlib.pyplot as plt\n",
    "import pandas as pd"
   ]
  },
  {
   "cell_type": "markdown",
   "id": "ba036198",
   "metadata": {
    "papermill": {
     "duration": 0.024872,
     "end_time": "2021-12-05T10:07:41.384886",
     "exception": false,
     "start_time": "2021-12-05T10:07:41.360014",
     "status": "completed"
    },
    "tags": []
   },
   "source": [
    "From the command line run `pip install mnist`. This is a library that will help you bring down the mnist dataset. If you run this from a notebook, you need to put  `!pip install mnist` in a cell by itself."
   ]
  },
  {
   "cell_type": "code",
   "execution_count": 3,
   "id": "bb6ad8a1",
   "metadata": {
    "execution": {
     "iopub.execute_input": "2021-12-05T10:07:41.438550Z",
     "iopub.status.busy": "2021-12-05T10:07:41.438038Z",
     "iopub.status.idle": "2021-12-05T10:07:43.131163Z",
     "shell.execute_reply": "2021-12-05T10:07:43.130725Z"
    },
    "papermill": {
     "duration": 1.721526,
     "end_time": "2021-12-05T10:07:43.131277",
     "exception": false,
     "start_time": "2021-12-05T10:07:41.409751",
     "status": "completed"
    },
    "tags": []
   },
   "outputs": [
    {
     "name": "stdout",
     "output_type": "stream",
     "text": [
      "Collecting mnist\r\n"
     ]
    },
    {
     "name": "stdout",
     "output_type": "stream",
     "text": [
      "  Downloading mnist-0.2.2-py2.py3-none-any.whl (3.5 kB)\r\n",
      "Requirement already satisfied: numpy in /opt/hostedtoolcache/Python/3.6.15/x64/lib/python3.6/site-packages (from mnist) (1.19.5)\r\n"
     ]
    },
    {
     "name": "stdout",
     "output_type": "stream",
     "text": [
      "Installing collected packages: mnist\r\n",
      "Successfully installed mnist-0.2.2\r\n"
     ]
    }
   ],
   "source": [
    "!pip install mnist"
   ]
  },
  {
   "cell_type": "markdown",
   "id": "69df9c9a",
   "metadata": {
    "papermill": {
     "duration": 0.025666,
     "end_time": "2021-12-05T10:07:43.182868",
     "exception": false,
     "start_time": "2021-12-05T10:07:43.157202",
     "status": "completed"
    },
    "tags": []
   },
   "source": [
    "## Preparing the Data"
   ]
  },
  {
   "cell_type": "code",
   "execution_count": 4,
   "id": "7f69d806",
   "metadata": {
    "execution": {
     "iopub.execute_input": "2021-12-05T10:07:43.237699Z",
     "iopub.status.busy": "2021-12-05T10:07:43.237189Z",
     "iopub.status.idle": "2021-12-05T10:07:43.250229Z",
     "shell.execute_reply": "2021-12-05T10:07:43.249816Z"
    },
    "papermill": {
     "duration": 0.041847,
     "end_time": "2021-12-05T10:07:43.250332",
     "exception": false,
     "start_time": "2021-12-05T10:07:43.208485",
     "status": "completed"
    },
    "tags": []
   },
   "outputs": [],
   "source": [
    "import mnist"
   ]
  },
  {
   "cell_type": "code",
   "execution_count": 5,
   "id": "a411e44f",
   "metadata": {
    "execution": {
     "iopub.execute_input": "2021-12-05T10:07:43.305269Z",
     "iopub.status.busy": "2021-12-05T10:07:43.304779Z",
     "iopub.status.idle": "2021-12-05T10:07:43.897637Z",
     "shell.execute_reply": "2021-12-05T10:07:43.897188Z"
    },
    "papermill": {
     "duration": 0.621569,
     "end_time": "2021-12-05T10:07:43.897756",
     "exception": false,
     "start_time": "2021-12-05T10:07:43.276187",
     "status": "completed"
    },
    "tags": []
   },
   "outputs": [],
   "source": [
    "train_images = mnist.train_images()\n",
    "train_labels = mnist.train_labels()"
   ]
  },
  {
   "cell_type": "code",
   "execution_count": 6,
   "id": "dceab3a5",
   "metadata": {
    "execution": {
     "iopub.execute_input": "2021-12-05T10:07:43.953734Z",
     "iopub.status.busy": "2021-12-05T10:07:43.953225Z",
     "iopub.status.idle": "2021-12-05T10:07:43.966001Z",
     "shell.execute_reply": "2021-12-05T10:07:43.966388Z"
    },
    "papermill": {
     "duration": 0.042885,
     "end_time": "2021-12-05T10:07:43.966507",
     "exception": false,
     "start_time": "2021-12-05T10:07:43.923622",
     "status": "completed"
    },
    "tags": []
   },
   "outputs": [
    {
     "data": {
      "text/plain": [
       "((60000, 28, 28), (60000,))"
      ]
     },
     "execution_count": 6,
     "metadata": {},
     "output_type": "execute_result"
    }
   ],
   "source": [
    "train_images.shape, train_labels.shape"
   ]
  },
  {
   "cell_type": "code",
   "execution_count": 7,
   "id": "f50dc2bb",
   "metadata": {
    "execution": {
     "iopub.execute_input": "2021-12-05T10:07:44.021962Z",
     "iopub.status.busy": "2021-12-05T10:07:44.021464Z",
     "iopub.status.idle": "2021-12-05T10:07:44.196241Z",
     "shell.execute_reply": "2021-12-05T10:07:44.195803Z"
    },
    "papermill": {
     "duration": 0.203945,
     "end_time": "2021-12-05T10:07:44.196358",
     "exception": false,
     "start_time": "2021-12-05T10:07:43.992413",
     "status": "completed"
    },
    "tags": []
   },
   "outputs": [],
   "source": [
    "test_images = mnist.test_images()\n",
    "test_labels = mnist.test_labels()"
   ]
  },
  {
   "cell_type": "code",
   "execution_count": 8,
   "id": "fc38cf1b",
   "metadata": {
    "execution": {
     "iopub.execute_input": "2021-12-05T10:07:44.252074Z",
     "iopub.status.busy": "2021-12-05T10:07:44.251582Z",
     "iopub.status.idle": "2021-12-05T10:07:44.263381Z",
     "shell.execute_reply": "2021-12-05T10:07:44.262971Z"
    },
    "papermill": {
     "duration": 0.040798,
     "end_time": "2021-12-05T10:07:44.263487",
     "exception": false,
     "start_time": "2021-12-05T10:07:44.222689",
     "status": "completed"
    },
    "tags": []
   },
   "outputs": [
    {
     "data": {
      "text/plain": [
       "((10000, 28, 28), (10000,))"
      ]
     },
     "execution_count": 8,
     "metadata": {},
     "output_type": "execute_result"
    }
   ],
   "source": [
    "test_images.shape, test_labels.shape"
   ]
  },
  {
   "cell_type": "code",
   "execution_count": 9,
   "id": "f9ed8fe0",
   "metadata": {
    "execution": {
     "iopub.execute_input": "2021-12-05T10:07:44.319479Z",
     "iopub.status.busy": "2021-12-05T10:07:44.318955Z",
     "iopub.status.idle": "2021-12-05T10:07:44.451359Z",
     "shell.execute_reply": "2021-12-05T10:07:44.451759Z"
    },
    "papermill": {
     "duration": 0.162224,
     "end_time": "2021-12-05T10:07:44.451884",
     "exception": false,
     "start_time": "2021-12-05T10:07:44.289660",
     "status": "completed"
    },
    "tags": []
   },
   "outputs": [
    {
     "name": "stdout",
     "output_type": "stream",
     "text": [
      "2\n"
     ]
    },
    {
     "data": {
      "text/plain": [
       "<matplotlib.image.AxesImage at 0x7f24b4988550>"
      ]
     },
     "execution_count": 9,
     "metadata": {},
     "output_type": "execute_result"
    },
    {
     "data": {
      "image/png": "[encoded data removed]",
      "text/plain": [
       "<Figure size 432x288 with 1 Axes>"
      ]
     },
     "metadata": {
      "needs_background": "light"
     },
     "output_type": "display_data"
    }
   ],
   "source": [
    "image_index = 7776 # You may select anything up to 60,000\n",
    "print(train_labels[image_index]) \n",
    "plt.imshow(train_images[image_index], cmap='Greys')"
   ]
  },
  {
   "cell_type": "markdown",
   "id": "a8d2388d",
   "metadata": {
    "papermill": {
     "duration": 0.027766,
     "end_time": "2021-12-05T10:07:44.507126",
     "exception": false,
     "start_time": "2021-12-05T10:07:44.479360",
     "status": "completed"
    },
    "tags": []
   },
   "source": [
    "## Filter data to get 3 and 8 out"
   ]
  },
  {
   "cell_type": "code",
   "execution_count": 10,
   "id": "776f7fc7",
   "metadata": {
    "execution": {
     "iopub.execute_input": "2021-12-05T10:07:44.566143Z",
     "iopub.status.busy": "2021-12-05T10:07:44.565637Z",
     "iopub.status.idle": "2021-12-05T10:07:44.580619Z",
     "shell.execute_reply": "2021-12-05T10:07:44.581006Z"
    },
    "papermill": {
     "duration": 0.046584,
     "end_time": "2021-12-05T10:07:44.581126",
     "exception": false,
     "start_time": "2021-12-05T10:07:44.534542",
     "status": "completed"
    },
    "tags": []
   },
   "outputs": [],
   "source": [
    "train_filter = np.where((train_labels == 3 ) | (train_labels == 8))\n",
    "test_filter = np.where((test_labels == 3) | (test_labels == 8))\n",
    "X_train, y_train = train_images[train_filter], train_labels[train_filter]\n",
    "X_test, y_test = test_images[test_filter], test_labels[test_filter]"
   ]
  },
  {
   "cell_type": "markdown",
   "id": "948f0b7e",
   "metadata": {
    "papermill": {
     "duration": 0.027648,
     "end_time": "2021-12-05T10:07:44.636200",
     "exception": false,
     "start_time": "2021-12-05T10:07:44.608552",
     "status": "completed"
    },
    "tags": []
   },
   "source": [
    "We normalize the pizel values in the 0 to 1 range"
   ]
  },
  {
   "cell_type": "code",
   "execution_count": 11,
   "id": "ee4c2166",
   "metadata": {
    "execution": {
     "iopub.execute_input": "2021-12-05T10:07:44.694134Z",
     "iopub.status.busy": "2021-12-05T10:07:44.693629Z",
     "iopub.status.idle": "2021-12-05T10:07:44.733623Z",
     "shell.execute_reply": "2021-12-05T10:07:44.733187Z"
    },
    "papermill": {
     "duration": 0.070178,
     "end_time": "2021-12-05T10:07:44.733730",
     "exception": false,
     "start_time": "2021-12-05T10:07:44.663552",
     "status": "completed"
    },
    "tags": []
   },
   "outputs": [],
   "source": [
    "X_train = X_train/255.\n",
    "X_test = X_test/255."
   ]
  },
  {
   "cell_type": "markdown",
   "id": "ddcf4fab",
   "metadata": {
    "papermill": {
     "duration": 0.028343,
     "end_time": "2021-12-05T10:07:44.789582",
     "exception": false,
     "start_time": "2021-12-05T10:07:44.761239",
     "status": "completed"
    },
    "tags": []
   },
   "source": [
    "And setup the labels as 1 (when the digit is 3) and 0 (when the digit is 8)"
   ]
  },
  {
   "cell_type": "code",
   "execution_count": 12,
   "id": "7dc908f2",
   "metadata": {
    "execution": {
     "iopub.execute_input": "2021-12-05T10:07:44.848011Z",
     "iopub.status.busy": "2021-12-05T10:07:44.847499Z",
     "iopub.status.idle": "2021-12-05T10:07:44.858247Z",
     "shell.execute_reply": "2021-12-05T10:07:44.858612Z"
    },
    "papermill": {
     "duration": 0.041734,
     "end_time": "2021-12-05T10:07:44.858736",
     "exception": false,
     "start_time": "2021-12-05T10:07:44.817002",
     "status": "completed"
    },
    "tags": []
   },
   "outputs": [],
   "source": [
    "y_train = 1*(y_train==3)\n",
    "y_test = 1*(y_test==3)"
   ]
  },
  {
   "cell_type": "code",
   "execution_count": 13,
   "id": "01e4e969",
   "metadata": {
    "execution": {
     "iopub.execute_input": "2021-12-05T10:07:44.917285Z",
     "iopub.status.busy": "2021-12-05T10:07:44.916797Z",
     "iopub.status.idle": "2021-12-05T10:07:44.928494Z",
     "shell.execute_reply": "2021-12-05T10:07:44.928092Z"
    },
    "papermill": {
     "duration": 0.042292,
     "end_time": "2021-12-05T10:07:44.928594",
     "exception": false,
     "start_time": "2021-12-05T10:07:44.886302",
     "status": "completed"
    },
    "tags": []
   },
   "outputs": [
    {
     "data": {
      "text/plain": [
       "((11982, 28, 28), (1984, 28, 28))"
      ]
     },
     "execution_count": 13,
     "metadata": {},
     "output_type": "execute_result"
    }
   ],
   "source": [
    "X_train.shape, X_test.shape"
   ]
  },
  {
   "cell_type": "markdown",
   "id": "5ccf3f85",
   "metadata": {
    "papermill": {
     "duration": 0.027649,
     "end_time": "2021-12-05T10:07:44.983916",
     "exception": false,
     "start_time": "2021-12-05T10:07:44.956267",
     "status": "completed"
    },
    "tags": []
   },
   "source": [
    "We reshape the data to flatten the image pixels into a set of features or co-variates:"
   ]
  },
  {
   "cell_type": "code",
   "execution_count": 14,
   "id": "5286a4a3",
   "metadata": {
    "execution": {
     "iopub.execute_input": "2021-12-05T10:07:45.043216Z",
     "iopub.status.busy": "2021-12-05T10:07:45.042707Z",
     "iopub.status.idle": "2021-12-05T10:07:45.055029Z",
     "shell.execute_reply": "2021-12-05T10:07:45.054617Z"
    },
    "papermill": {
     "duration": 0.043449,
     "end_time": "2021-12-05T10:07:45.055134",
     "exception": false,
     "start_time": "2021-12-05T10:07:45.011685",
     "status": "completed"
    },
    "tags": []
   },
   "outputs": [
    {
     "data": {
      "text/plain": [
       "((11982, 784), (1984, 784))"
      ]
     },
     "execution_count": 14,
     "metadata": {},
     "output_type": "execute_result"
    }
   ],
   "source": [
    "X_train = X_train.reshape(X_train.shape[0], -1)\n",
    "X_test = X_test.reshape(X_test.shape[0], -1)\n",
    "X_train.shape, X_test.shape"
   ]
  },
  {
   "cell_type": "code",
   "execution_count": 15,
   "id": "73c5f88a",
   "metadata": {
    "execution": {
     "iopub.execute_input": "2021-12-05T10:07:45.114912Z",
     "iopub.status.busy": "2021-12-05T10:07:45.114405Z",
     "iopub.status.idle": "2021-12-05T10:07:45.131433Z",
     "shell.execute_reply": "2021-12-05T10:07:45.131027Z"
    },
    "papermill": {
     "duration": 0.048436,
     "end_time": "2021-12-05T10:07:45.131538",
     "exception": false,
     "start_time": "2021-12-05T10:07:45.083102",
     "status": "completed"
    },
    "tags": []
   },
   "outputs": [],
   "source": [
    "#Impoting functions from 'Kudzu'\n",
    "from kudzu.model import Model\n",
    "from kudzu.train import Learner\n",
    "from kudzu.optim import GD\n",
    "from kudzu.data import Data, Sampler,Dataloader\n",
    "\n",
    "from kudzu.callbacks import AccCallback\n",
    "from kudzu.callbacks import ClfCallback\n",
    "\n",
    "from kudzu.loss import MSE\n",
    "\n",
    "from kudzu.layer import Sigmoid,Relu\n",
    "from kudzu.layer import Affine"
   ]
  },
  {
   "cell_type": "markdown",
   "id": "bc01172a",
   "metadata": {
    "papermill": {
     "duration": 0.027773,
     "end_time": "2021-12-05T10:07:45.187242",
     "exception": false,
     "start_time": "2021-12-05T10:07:45.159469",
     "status": "completed"
    },
    "tags": []
   },
   "source": [
    "### Let us create a `Config` class, to store important parameters. \n",
    "This class essentially plays the role of a dictionary."
   ]
  },
  {
   "cell_type": "code",
   "execution_count": 16,
   "id": "978281aa",
   "metadata": {
    "execution": {
     "iopub.execute_input": "2021-12-05T10:07:45.246373Z",
     "iopub.status.busy": "2021-12-05T10:07:45.245876Z",
     "iopub.status.idle": "2021-12-05T10:07:45.256646Z",
     "shell.execute_reply": "2021-12-05T10:07:45.256229Z"
    },
    "papermill": {
     "duration": 0.041805,
     "end_time": "2021-12-05T10:07:45.256748",
     "exception": false,
     "start_time": "2021-12-05T10:07:45.214943",
     "status": "completed"
    },
    "tags": []
   },
   "outputs": [],
   "source": [
    "class Config:\n",
    "    pass\n",
    "config = Config()\n",
    "config.lr = 0.001\n",
    "config.num_epochs = 250\n",
    "config.bs = 50"
   ]
  },
  {
   "cell_type": "markdown",
   "id": "1385fa59",
   "metadata": {
    "papermill": {
     "duration": 0.027682,
     "end_time": "2021-12-05T10:07:45.312416",
     "exception": false,
     "start_time": "2021-12-05T10:07:45.284734",
     "status": "completed"
    },
    "tags": []
   },
   "source": [
    "### Running Models with the Training data\n",
    "Details about the network layers:\n",
    "- A first affine layer has 784 inputs and does 100 affine transforms. These are followed by a Relu\n",
    "- A second affine layer has 100 inputs from the 100 activations of the past layer, and does 100 affine transforms. These are followed by a Relu\n",
    "- A third affine layer has 100 activations and does 2 affine transformations to create an embedding for visualization. There is no non-linearity here.\n",
    "- A final \"logistic regression\" which has an affine transform from 2 inputs to 1 output, which is squeezed through a sigmoid.\n"
   ]
  },
  {
   "cell_type": "code",
   "execution_count": 17,
   "id": "2b9c66db",
   "metadata": {
    "execution": {
     "iopub.execute_input": "2021-12-05T10:07:45.372026Z",
     "iopub.status.busy": "2021-12-05T10:07:45.371398Z",
     "iopub.status.idle": "2021-12-05T10:07:45.382994Z",
     "shell.execute_reply": "2021-12-05T10:07:45.382606Z"
    },
    "papermill": {
     "duration": 0.042858,
     "end_time": "2021-12-05T10:07:45.383095",
     "exception": false,
     "start_time": "2021-12-05T10:07:45.340237",
     "status": "completed"
    },
    "tags": []
   },
   "outputs": [],
   "source": [
    "data = Data(X_train, y_train.reshape(-1,1))\n",
    "sampler = Sampler(data, config.bs, shuffle=True)\n",
    "\n",
    "dl = Dataloader(data, sampler)\n",
    "\n",
    "opt = GD(config.lr)\n",
    "loss = MSE()"
   ]
  },
  {
   "cell_type": "code",
   "execution_count": 18,
   "id": "b275e4c2",
   "metadata": {
    "execution": {
     "iopub.execute_input": "2021-12-05T10:07:45.442259Z",
     "iopub.status.busy": "2021-12-05T10:07:45.441759Z",
     "iopub.status.idle": "2021-12-05T10:07:45.453426Z",
     "shell.execute_reply": "2021-12-05T10:07:45.453833Z"
    },
    "papermill": {
     "duration": 0.043005,
     "end_time": "2021-12-05T10:07:45.453953",
     "exception": false,
     "start_time": "2021-12-05T10:07:45.410948",
     "status": "completed"
    },
    "tags": []
   },
   "outputs": [],
   "source": [
    "training_data_x = X_train\n",
    "testing_data_x = X_test\n",
    "training_data_y = y_train.reshape(-1,1)\n",
    "testing_data_y = y_test.reshape(-1,1)"
   ]
  },
  {
   "cell_type": "code",
   "execution_count": 19,
   "id": "76951160",
   "metadata": {
    "execution": {
     "iopub.execute_input": "2021-12-05T10:07:45.513560Z",
     "iopub.status.busy": "2021-12-05T10:07:45.513062Z",
     "iopub.status.idle": "2021-12-05T10:07:45.527810Z",
     "shell.execute_reply": "2021-12-05T10:07:45.527307Z"
    },
    "papermill": {
     "duration": 0.046214,
     "end_time": "2021-12-05T10:07:45.527913",
     "exception": false,
     "start_time": "2021-12-05T10:07:45.481699",
     "status": "completed"
    },
    "tags": []
   },
   "outputs": [
    {
     "name": "stdout",
     "output_type": "stream",
     "text": [
      "xavier\n",
      "xavier\n",
      "xavier\n",
      "xavier\n",
      "xavier\n"
     ]
    }
   ],
   "source": [
    "layers = [Affine(\"first\", 784, 100), Relu(\"first\"), Affine(\"second\", 100, 100), Relu(\"second\"), Affine(\"third\", 100, 2), Affine(\"last\", 2, 1), Sigmoid(\"last\")]\n",
    "model_nn = Model(layers)\n",
    "model_lr = Model([Affine(\"logits\", 784, 1), Sigmoid(\"sigmoid\")])"
   ]
  },
  {
   "cell_type": "code",
   "execution_count": 20,
   "id": "6eede77a",
   "metadata": {
    "execution": {
     "iopub.execute_input": "2021-12-05T10:07:45.587651Z",
     "iopub.status.busy": "2021-12-05T10:07:45.587124Z",
     "iopub.status.idle": "2021-12-05T10:07:45.598573Z",
     "shell.execute_reply": "2021-12-05T10:07:45.598171Z"
    },
    "papermill": {
     "duration": 0.042612,
     "end_time": "2021-12-05T10:07:45.598669",
     "exception": false,
     "start_time": "2021-12-05T10:07:45.556057",
     "status": "completed"
    },
    "tags": []
   },
   "outputs": [],
   "source": [
    "nn_learner = Learner(loss, model_nn, opt, config.num_epochs)\n",
    "acc_nn = ClfCallback(nn_learner, config.bs, training_data_x , testing_data_x, training_data_y, testing_data_y)\n",
    "nn_learner.set_callbacks([acc_nn])"
   ]
  },
  {
   "cell_type": "code",
   "execution_count": 21,
   "id": "877b6cc7",
   "metadata": {
    "execution": {
     "iopub.execute_input": "2021-12-05T10:07:45.658545Z",
     "iopub.status.busy": "2021-12-05T10:07:45.658062Z",
     "iopub.status.idle": "2021-12-05T10:07:45.668842Z",
     "shell.execute_reply": "2021-12-05T10:07:45.669241Z"
    },
    "papermill": {
     "duration": 0.042405,
     "end_time": "2021-12-05T10:07:45.669359",
     "exception": false,
     "start_time": "2021-12-05T10:07:45.626954",
     "status": "completed"
    },
    "tags": []
   },
   "outputs": [],
   "source": [
    "lr_learner = Learner(loss, model_lr, opt, config.num_epochs)\n",
    "acc_lr = ClfCallback(lr_learner, config.bs, training_data_x , testing_data_x, training_data_y, testing_data_y)\n",
    "lr_learner.set_callbacks([acc_lr])"
   ]
  },
  {
   "cell_type": "code",
   "execution_count": 22,
   "id": "d9b133c3",
   "metadata": {
    "execution": {
     "iopub.execute_input": "2021-12-05T10:07:45.728741Z",
     "iopub.status.busy": "2021-12-05T10:07:45.728258Z",
     "iopub.status.idle": "2021-12-05T10:10:41.164419Z",
     "shell.execute_reply": "2021-12-05T10:10:41.164825Z"
    },
    "papermill": {
     "duration": 175.46744,
     "end_time": "2021-12-05T10:10:41.164950",
     "exception": false,
     "start_time": "2021-12-05T10:07:45.697510",
     "status": "completed"
    },
    "tags": []
   },
   "outputs": [
    {
     "name": "stdout",
     "output_type": "stream",
     "text": [
      "Epoch 0, Loss 0.2285\n",
      "Training Accuracy: 0.7906, Testing Accuracy: 0.8075\n",
      "\n"
     ]
    },
    {
     "name": "stdout",
     "output_type": "stream",
     "text": [
      "Epoch 10, Loss 0.0581\n",
      "Training Accuracy: 0.9422, Testing Accuracy: 0.9476\n",
      "\n"
     ]
    },
    {
     "name": "stdout",
     "output_type": "stream",
     "text": [
      "Epoch 20, Loss 0.0415\n",
      "Training Accuracy: 0.9545, Testing Accuracy: 0.9582\n",
      "\n"
     ]
    },
    {
     "name": "stdout",
     "output_type": "stream",
     "text": [
      "Epoch 30, Loss 0.0352\n",
      "Training Accuracy: 0.9607, Testing Accuracy: 0.9657\n",
      "\n"
     ]
    },
    {
     "name": "stdout",
     "output_type": "stream",
     "text": [
      "Epoch 40, Loss 0.0317\n",
      "Training Accuracy: 0.9643, Testing Accuracy: 0.9662\n",
      "\n"
     ]
    },
    {
     "name": "stdout",
     "output_type": "stream",
     "text": [
      "Epoch 50, Loss 0.0293\n",
      "Training Accuracy: 0.9661, Testing Accuracy: 0.9667\n",
      "\n"
     ]
    },
    {
     "name": "stdout",
     "output_type": "stream",
     "text": [
      "Epoch 60, Loss 0.0276\n",
      "Training Accuracy: 0.9679, Testing Accuracy: 0.9672\n",
      "\n"
     ]
    },
    {
     "name": "stdout",
     "output_type": "stream",
     "text": [
      "Epoch 70, Loss 0.0262\n",
      "Training Accuracy: 0.9692, Testing Accuracy: 0.9677\n",
      "\n"
     ]
    },
    {
     "name": "stdout",
     "output_type": "stream",
     "text": [
      "Epoch 80, Loss 0.0251\n",
      "Training Accuracy: 0.9705, Testing Accuracy: 0.9698\n",
      "\n"
     ]
    },
    {
     "name": "stdout",
     "output_type": "stream",
     "text": [
      "Epoch 90, Loss 0.0241\n",
      "Training Accuracy: 0.9718, Testing Accuracy: 0.9713\n",
      "\n"
     ]
    },
    {
     "name": "stdout",
     "output_type": "stream",
     "text": [
      "Epoch 100, Loss 0.0232\n",
      "Training Accuracy: 0.9726, Testing Accuracy: 0.9713\n",
      "\n"
     ]
    },
    {
     "name": "stdout",
     "output_type": "stream",
     "text": [
      "Epoch 110, Loss 0.0225\n",
      "Training Accuracy: 0.9740, Testing Accuracy: 0.9708\n",
      "\n"
     ]
    },
    {
     "name": "stdout",
     "output_type": "stream",
     "text": [
      "Epoch 120, Loss 0.0218\n",
      "Training Accuracy: 0.9747, Testing Accuracy: 0.9718\n",
      "\n"
     ]
    },
    {
     "name": "stdout",
     "output_type": "stream",
     "text": [
      "Epoch 130, Loss 0.0212\n",
      "Training Accuracy: 0.9752, Testing Accuracy: 0.9723\n",
      "\n"
     ]
    },
    {
     "name": "stdout",
     "output_type": "stream",
     "text": [
      "Epoch 140, Loss 0.0206\n",
      "Training Accuracy: 0.9760, Testing Accuracy: 0.9733\n",
      "\n"
     ]
    },
    {
     "name": "stdout",
     "output_type": "stream",
     "text": [
      "Epoch 150, Loss 0.0201\n",
      "Training Accuracy: 0.9769, Testing Accuracy: 0.9733\n",
      "\n"
     ]
    },
    {
     "name": "stdout",
     "output_type": "stream",
     "text": [
      "Epoch 160, Loss 0.0196\n",
      "Training Accuracy: 0.9774, Testing Accuracy: 0.9728\n",
      "\n"
     ]
    },
    {
     "name": "stdout",
     "output_type": "stream",
     "text": [
      "Epoch 170, Loss 0.0192\n",
      "Training Accuracy: 0.9783, Testing Accuracy: 0.9733\n",
      "\n"
     ]
    },
    {
     "name": "stdout",
     "output_type": "stream",
     "text": [
      "Epoch 180, Loss 0.0187\n",
      "Training Accuracy: 0.9792, Testing Accuracy: 0.9738\n",
      "\n"
     ]
    },
    {
     "name": "stdout",
     "output_type": "stream",
     "text": [
      "Epoch 190, Loss 0.0183\n",
      "Training Accuracy: 0.9798, Testing Accuracy: 0.9743\n",
      "\n"
     ]
    },
    {
     "name": "stdout",
     "output_type": "stream",
     "text": [
      "Epoch 200, Loss 0.0179\n",
      "Training Accuracy: 0.9802, Testing Accuracy: 0.9748\n",
      "\n"
     ]
    },
    {
     "name": "stdout",
     "output_type": "stream",
     "text": [
      "Epoch 210, Loss 0.0175\n",
      "Training Accuracy: 0.9804, Testing Accuracy: 0.9748\n",
      "\n"
     ]
    },
    {
     "name": "stdout",
     "output_type": "stream",
     "text": [
      "Epoch 220, Loss 0.0172\n",
      "Training Accuracy: 0.9809, Testing Accuracy: 0.9758\n",
      "\n"
     ]
    },
    {
     "name": "stdout",
     "output_type": "stream",
     "text": [
      "Epoch 230, Loss 0.0168\n",
      "Training Accuracy: 0.9814, Testing Accuracy: 0.9758\n",
      "\n"
     ]
    },
    {
     "name": "stdout",
     "output_type": "stream",
     "text": [
      "Epoch 240, Loss 0.0164\n",
      "Training Accuracy: 0.9818, Testing Accuracy: 0.9768\n",
      "\n"
     ]
    },
    {
     "data": {
      "text/plain": [
       "0.008667154162253037"
      ]
     },
     "execution_count": 22,
     "metadata": {},
     "output_type": "execute_result"
    }
   ],
   "source": [
    "nn_learner.train_loop(dl)"
   ]
  },
  {
   "cell_type": "code",
   "execution_count": 23,
   "id": "e0163366",
   "metadata": {
    "execution": {
     "iopub.execute_input": "2021-12-05T10:10:41.238347Z",
     "iopub.status.busy": "2021-12-05T10:10:41.237849Z",
     "iopub.status.idle": "2021-12-05T10:10:53.321878Z",
     "shell.execute_reply": "2021-12-05T10:10:53.322556Z"
    },
    "papermill": {
     "duration": 12.122422,
     "end_time": "2021-12-05T10:10:53.322687",
     "exception": false,
     "start_time": "2021-12-05T10:10:41.200265",
     "status": "completed"
    },
    "tags": []
   },
   "outputs": [
    {
     "name": "stdout",
     "output_type": "stream",
     "text": [
      "Epoch 0, Loss 0.2507\n",
      "Training Accuracy: 0.6598, Testing Accuracy: 0.6366\n",
      "\n"
     ]
    },
    {
     "name": "stdout",
     "output_type": "stream",
     "text": [
      "Epoch 10, Loss 0.1016\n",
      "Training Accuracy: 0.9138, Testing Accuracy: 0.9264\n",
      "\n"
     ]
    },
    {
     "name": "stdout",
     "output_type": "stream",
     "text": [
      "Epoch 20, Loss 0.0781\n",
      "Training Accuracy: 0.9299, Testing Accuracy: 0.9430\n",
      "\n"
     ]
    },
    {
     "name": "stdout",
     "output_type": "stream",
     "text": [
      "Epoch 30, Loss 0.0675\n",
      "Training Accuracy: 0.9390, Testing Accuracy: 0.9486\n",
      "\n"
     ]
    },
    {
     "name": "stdout",
     "output_type": "stream",
     "text": [
      "Epoch 40, Loss 0.061\n",
      "Training Accuracy: 0.9435, Testing Accuracy: 0.9506\n",
      "\n"
     ]
    },
    {
     "name": "stdout",
     "output_type": "stream",
     "text": [
      "Epoch 50, Loss 0.0567\n",
      "Training Accuracy: 0.9466, Testing Accuracy: 0.9551\n",
      "\n"
     ]
    },
    {
     "name": "stdout",
     "output_type": "stream",
     "text": [
      "Epoch 60, Loss 0.0534\n",
      "Training Accuracy: 0.9485, Testing Accuracy: 0.9577\n",
      "\n"
     ]
    },
    {
     "name": "stdout",
     "output_type": "stream",
     "text": [
      "Epoch 70, Loss 0.0509\n",
      "Training Accuracy: 0.9498, Testing Accuracy: 0.9587\n",
      "\n"
     ]
    },
    {
     "name": "stdout",
     "output_type": "stream",
     "text": [
      "Epoch 80, Loss 0.0489\n",
      "Training Accuracy: 0.9519, Testing Accuracy: 0.9612\n",
      "\n"
     ]
    },
    {
     "name": "stdout",
     "output_type": "stream",
     "text": [
      "Epoch 90, Loss 0.0473\n",
      "Training Accuracy: 0.9537, Testing Accuracy: 0.9612\n",
      "\n"
     ]
    },
    {
     "name": "stdout",
     "output_type": "stream",
     "text": [
      "Epoch 100, Loss 0.0459\n",
      "Training Accuracy: 0.9539, Testing Accuracy: 0.9622\n",
      "\n"
     ]
    },
    {
     "name": "stdout",
     "output_type": "stream",
     "text": [
      "Epoch 110, Loss 0.0447\n",
      "Training Accuracy: 0.9549, Testing Accuracy: 0.9627\n",
      "\n"
     ]
    },
    {
     "name": "stdout",
     "output_type": "stream",
     "text": [
      "Epoch 120, Loss 0.0436\n",
      "Training Accuracy: 0.9556, Testing Accuracy: 0.9637\n",
      "\n"
     ]
    },
    {
     "name": "stdout",
     "output_type": "stream",
     "text": [
      "Epoch 130, Loss 0.0427\n",
      "Training Accuracy: 0.9564, Testing Accuracy: 0.9632\n",
      "\n"
     ]
    },
    {
     "name": "stdout",
     "output_type": "stream",
     "text": [
      "Epoch 140, Loss 0.0419\n",
      "Training Accuracy: 0.9568, Testing Accuracy: 0.9622\n",
      "\n"
     ]
    },
    {
     "name": "stdout",
     "output_type": "stream",
     "text": [
      "Epoch 150, Loss 0.0412\n",
      "Training Accuracy: 0.9575, Testing Accuracy: 0.9627\n",
      "\n"
     ]
    },
    {
     "name": "stdout",
     "output_type": "stream",
     "text": [
      "Epoch 160, Loss 0.0405\n",
      "Training Accuracy: 0.9585, Testing Accuracy: 0.9632\n",
      "\n"
     ]
    },
    {
     "name": "stdout",
     "output_type": "stream",
     "text": [
      "Epoch 170, Loss 0.0399\n",
      "Training Accuracy: 0.9589, Testing Accuracy: 0.9632\n",
      "\n"
     ]
    },
    {
     "name": "stdout",
     "output_type": "stream",
     "text": [
      "Epoch 180, Loss 0.0394\n",
      "Training Accuracy: 0.9596, Testing Accuracy: 0.9647\n",
      "\n"
     ]
    },
    {
     "name": "stdout",
     "output_type": "stream",
     "text": [
      "Epoch 190, Loss 0.0389\n",
      "Training Accuracy: 0.9599, Testing Accuracy: 0.9642\n",
      "\n"
     ]
    },
    {
     "name": "stdout",
     "output_type": "stream",
     "text": [
      "Epoch 200, Loss 0.0384\n",
      "Training Accuracy: 0.9604, Testing Accuracy: 0.9647\n",
      "\n"
     ]
    },
    {
     "name": "stdout",
     "output_type": "stream",
     "text": [
      "Epoch 210, Loss 0.038\n",
      "Training Accuracy: 0.9605, Testing Accuracy: 0.9647\n",
      "\n"
     ]
    },
    {
     "name": "stdout",
     "output_type": "stream",
     "text": [
      "Epoch 220, Loss 0.0376\n",
      "Training Accuracy: 0.9606, Testing Accuracy: 0.9652\n",
      "\n"
     ]
    },
    {
     "name": "stdout",
     "output_type": "stream",
     "text": [
      "Epoch 230, Loss 0.0372\n",
      "Training Accuracy: 0.9610, Testing Accuracy: 0.9652\n",
      "\n"
     ]
    },
    {
     "name": "stdout",
     "output_type": "stream",
     "text": [
      "Epoch 240, Loss 0.0368\n",
      "Training Accuracy: 0.9614, Testing Accuracy: 0.9652\n",
      "\n"
     ]
    },
    {
     "data": {
      "text/plain": [
       "0.04205410424109003"
      ]
     },
     "execution_count": 23,
     "metadata": {},
     "output_type": "execute_result"
    }
   ],
   "source": [
    "lr_learner.train_loop(dl)"
   ]
  },
  {
   "cell_type": "code",
   "execution_count": 24,
   "id": "ca410940",
   "metadata": {
    "execution": {
     "iopub.execute_input": "2021-12-05T10:10:53.416643Z",
     "iopub.status.busy": "2021-12-05T10:10:53.416128Z",
     "iopub.status.idle": "2021-12-05T10:10:53.644794Z",
     "shell.execute_reply": "2021-12-05T10:10:53.644363Z"
    },
    "papermill": {
     "duration": 0.279288,
     "end_time": "2021-12-05T10:10:53.644907",
     "exception": false,
     "start_time": "2021-12-05T10:10:53.365619",
     "status": "completed"
    },
    "tags": []
   },
   "outputs": [
    {
     "data": {
      "text/plain": [
       "<matplotlib.legend.Legend at 0x7f24b4563d30>"
      ]
     },
     "execution_count": 24,
     "metadata": {},
     "output_type": "execute_result"
    },
    {
     "data": {
      "image/png": "[encoded data removed]",
      "text/plain": [
       "<Figure size 1080x720 with 1 Axes>"
      ]
     },
     "metadata": {
      "needs_background": "light"
     },
     "output_type": "display_data"
    }
   ],
   "source": [
    "#comparing the results of NN and LR\n",
    "plt.figure(figsize=(15,10))\n",
    "\n",
    "# Neural Network plots\n",
    "plt.plot(acc_nn.accuracies, 'r-', label = \"Training Accuracies - NN\")\n",
    "plt.plot(acc_nn.test_accuracies, 'g-', label = \"Testing Accuracies - NN\")\n",
    "\n",
    "# Logistic Regression plots\n",
    "plt.plot(acc_lr.accuracies, 'k-', label = \"Training Accuracies - LR\")\n",
    "plt.plot(acc_lr.test_accuracies, 'b-', label = \"Testing Accuracies - LR\")\n",
    "plt.legend()"
   ]
  },
  {
   "cell_type": "markdown",
   "id": "80dfb35c",
   "metadata": {
    "papermill": {
     "duration": 0.043218,
     "end_time": "2021-12-05T10:10:53.731897",
     "exception": false,
     "start_time": "2021-12-05T10:10:53.688679",
     "status": "completed"
    },
    "tags": []
   },
   "source": [
    "#### Plotting the outputs of this layer of the NN.\n"
   ]
  },
  {
   "cell_type": "code",
   "execution_count": 25,
   "id": "45eb2ff5",
   "metadata": {
    "execution": {
     "iopub.execute_input": "2021-12-05T10:10:53.822151Z",
     "iopub.status.busy": "2021-12-05T10:10:53.821635Z",
     "iopub.status.idle": "2021-12-05T10:10:53.856128Z",
     "shell.execute_reply": "2021-12-05T10:10:53.856508Z"
    },
    "papermill": {
     "duration": 0.081464,
     "end_time": "2021-12-05T10:10:53.856641",
     "exception": false,
     "start_time": "2021-12-05T10:10:53.775177",
     "status": "completed"
    },
    "tags": []
   },
   "outputs": [],
   "source": [
    "new_model = Model(layers[:-2])\n",
    "testing_plot = new_model(testing_data_x)"
   ]
  },
  {
   "cell_type": "code",
   "execution_count": 26,
   "id": "4c0a5485",
   "metadata": {
    "execution": {
     "iopub.execute_input": "2021-12-05T10:10:53.949913Z",
     "iopub.status.busy": "2021-12-05T10:10:53.949408Z",
     "iopub.status.idle": "2021-12-05T10:10:54.157942Z",
     "shell.execute_reply": "2021-12-05T10:10:54.157517Z"
    },
    "papermill": {
     "duration": 0.257005,
     "end_time": "2021-12-05T10:10:54.158046",
     "exception": false,
     "start_time": "2021-12-05T10:10:53.901041",
     "status": "completed"
    },
    "tags": []
   },
   "outputs": [
    {
     "data": {
      "text/plain": [
       "Text(0.5, 1.0, 'Outputs')"
      ]
     },
     "execution_count": 26,
     "metadata": {},
     "output_type": "execute_result"
    },
    {
     "data": {
      "image/png": "[encoded data removed]",
      "text/plain": [
       "<Figure size 576x504 with 1 Axes>"
      ]
     },
     "metadata": {
      "needs_background": "light"
     },
     "output_type": "display_data"
    }
   ],
   "source": [
    "# Plotting the scatter plot of points and color coding by class\n",
    "plt.figure(figsize=(8,7))\n",
    "plt.scatter(testing_plot[:,0], testing_plot[:,1], alpha = 0.1, c = y_test.ravel());\n",
    "plt.title('Outputs')"
   ]
  },
  {
   "cell_type": "markdown",
   "id": "a74fcf8f",
   "metadata": {
    "papermill": {
     "duration": 0.046427,
     "end_time": "2021-12-05T10:10:54.250837",
     "exception": false,
     "start_time": "2021-12-05T10:10:54.204410",
     "status": "completed"
    },
    "tags": []
   },
   "source": [
    "Probability contours"
   ]
  },
  {
   "cell_type": "code",
   "execution_count": 27,
   "id": "d0afc8e3",
   "metadata": {
    "execution": {
     "iopub.execute_input": "2021-12-05T10:10:54.348458Z",
     "iopub.status.busy": "2021-12-05T10:10:54.347964Z",
     "iopub.status.idle": "2021-12-05T10:10:54.357182Z",
     "shell.execute_reply": "2021-12-05T10:10:54.357553Z"
    },
    "papermill": {
     "duration": 0.060324,
     "end_time": "2021-12-05T10:10:54.357674",
     "exception": false,
     "start_time": "2021-12-05T10:10:54.297350",
     "status": "completed"
    },
    "tags": []
   },
   "outputs": [],
   "source": [
    "model_prob = Model(layers[-2:]) "
   ]
  },
  {
   "cell_type": "code",
   "execution_count": 28,
   "id": "9b96e238",
   "metadata": {
    "execution": {
     "iopub.execute_input": "2021-12-05T10:10:54.476731Z",
     "iopub.status.busy": "2021-12-05T10:10:54.476231Z",
     "iopub.status.idle": "2021-12-05T10:10:54.489891Z",
     "shell.execute_reply": "2021-12-05T10:10:54.490268Z"
    },
    "papermill": {
     "duration": 0.085807,
     "end_time": "2021-12-05T10:10:54.490387",
     "exception": false,
     "start_time": "2021-12-05T10:10:54.404580",
     "status": "completed"
    },
    "tags": []
   },
   "outputs": [],
   "source": [
    "#creating the x and y ranges according to the above generated plot.\n",
    "x_range = np.linspace(-4, 1, 100) \n",
    "y_range = np.linspace(-6, 6, 100) \n",
    "x_grid, y_grid = np.meshgrid(x_range, y_range) # x_grid and y_grig are of size 100 X 100\n",
    "\n",
    "# converting x_grid and y_grid to continuous arrays\n",
    "x_gridflat = np.ravel(x_grid)\n",
    "y_gridflat = np.ravel(y_grid)\n",
    "\n",
    "# The last layer of the current model takes two columns as input. Hence transpose of np.vstack() is required.\n",
    "X = np.vstack((x_gridflat, y_gridflat)).T\n",
    "\n",
    "prob_contour = model_prob(X).reshape(100,100) "
   ]
  },
  {
   "cell_type": "code",
   "execution_count": 29,
   "id": "da72499a",
   "metadata": {
    "execution": {
     "iopub.execute_input": "2021-12-05T10:10:54.587528Z",
     "iopub.status.busy": "2021-12-05T10:10:54.587024Z",
     "iopub.status.idle": "2021-12-05T10:10:54.830279Z",
     "shell.execute_reply": "2021-12-05T10:10:54.829502Z"
    },
    "papermill": {
     "duration": 0.293325,
     "end_time": "2021-12-05T10:10:54.830397",
     "exception": false,
     "start_time": "2021-12-05T10:10:54.537072",
     "status": "completed"
    },
    "tags": []
   },
   "outputs": [
    {
     "data": {
      "image/png": "[encoded data removed]",
      "text/plain": [
       "<Figure size 720x648 with 1 Axes>"
      ]
     },
     "metadata": {
      "needs_background": "light"
     },
     "output_type": "display_data"
    }
   ],
   "source": [
    "plt.figure(figsize=(10,9))\n",
    "plt.scatter(testing_plot[:,0], testing_plot[:,1], alpha = 0.1, c = y_test.ravel())\n",
    "contours = plt.contour(x_grid,y_grid,prob_contour)\n",
    "plt.title('Probability Contours')\n",
    "plt.clabel(contours, inline = True );"
   ]
  },
  {
   "cell_type": "code",
   "execution_count": null,
   "id": "e81b4ac7",
   "metadata": {
    "papermill": {
     "duration": 0.048883,
     "end_time": "2021-12-05T10:10:54.929085",
     "exception": false,
     "start_time": "2021-12-05T10:10:54.880202",
     "status": "completed"
    },
    "tags": []
   },
   "outputs": [],
   "source": []
  }
 ],
 "metadata": {
  "kernelspec": {
   "display_name": "Python 3",
   "language": "python",
   "name": "python3"
  },
  "language_info": {
   "codemirror_mode": {
    "name": "ipython",
    "version": 3
   },
   "file_extension": ".py",
   "mimetype": "text/x-python",
   "name": "python",
   "nbconvert_exporter": "python",
   "pygments_lexer": "ipython3",
   "version": "3.6.15"
  },
  "papermill": {
   "default_parameters": {},
   "duration": 195.792963,
   "end_time": "2021-12-05T10:10:55.285525",
   "environment_variables": {},
   "exception": null,
   "input_path": "2020-08-11-part2.ipynb",
   "output_path": "2020-08-11-part2.ipynb",
   "parameters": {},
   "start_time": "2021-12-05T10:07:39.492562",
   "version": "2.3.3"
  }
 },
 "nbformat": 4,
 "nbformat_minor": 5
}