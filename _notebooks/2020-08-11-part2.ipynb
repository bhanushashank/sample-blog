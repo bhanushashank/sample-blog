{
 "cells": [
  {
   "cell_type": "markdown",
   "id": "98380cd3",
   "metadata": {
    "papermill": {
     "duration": 0.040415,
     "end_time": "2021-09-01T10:07:26.289923",
     "exception": false,
     "start_time": "2021-09-01T10:07:26.249508",
     "status": "completed"
    },
    "tags": []
   },
   "source": [
    "# Distinguish Your Own Digits (DYOD)"
   ]
  },
  {
   "cell_type": "markdown",
   "id": "ef31240d",
   "metadata": {
    "papermill": {
     "duration": 0.026924,
     "end_time": "2021-09-01T10:07:26.346992",
     "exception": false,
     "start_time": "2021-09-01T10:07:26.320068",
     "status": "completed"
    },
    "tags": []
   },
   "source": [
    "You are going to write a classifier that distinguishes between the number 3 and number 8."
   ]
  },
  {
   "cell_type": "code",
   "execution_count": 1,
   "id": "b15c8646",
   "metadata": {
    "execution": {
     "iopub.execute_input": "2021-09-01T10:07:26.412978Z",
     "iopub.status.busy": "2021-09-01T10:07:26.412343Z",
     "iopub.status.idle": "2021-09-01T10:07:26.423553Z",
     "shell.execute_reply": "2021-09-01T10:07:26.423029Z"
    },
    "papermill": {
     "duration": 0.050633,
     "end_time": "2021-09-01T10:07:26.423701",
     "exception": false,
     "start_time": "2021-09-01T10:07:26.373068",
     "status": "completed"
    },
    "tags": []
   },
   "outputs": [],
   "source": [
    "%load_ext autoreload\n",
    "%autoreload 2"
   ]
  },
  {
   "cell_type": "code",
   "execution_count": 2,
   "id": "22ef38dc",
   "metadata": {
    "execution": {
     "iopub.execute_input": "2021-09-01T10:07:26.482678Z",
     "iopub.status.busy": "2021-09-01T10:07:26.482072Z",
     "iopub.status.idle": "2021-09-01T10:07:27.072490Z",
     "shell.execute_reply": "2021-09-01T10:07:27.071372Z"
    },
    "papermill": {
     "duration": 0.62167,
     "end_time": "2021-09-01T10:07:27.072627",
     "exception": false,
     "start_time": "2021-09-01T10:07:26.450957",
     "status": "completed"
    },
    "tags": []
   },
   "outputs": [],
   "source": [
    "%matplotlib inline\n",
    "import numpy as np\n",
    "import matplotlib.pyplot as plt\n",
    "import pandas as pd"
   ]
  },
  {
   "cell_type": "markdown",
   "id": "ba036198",
   "metadata": {
    "papermill": {
     "duration": 0.027958,
     "end_time": "2021-09-01T10:07:27.127493",
     "exception": false,
     "start_time": "2021-09-01T10:07:27.099535",
     "status": "completed"
    },
    "tags": []
   },
   "source": [
    "From the command line run `pip install mnist`. This is a library that will help you bring down the mnist dataset. If you run this from a notebook, you need to put  `!pip install mnist` in a cell by itself."
   ]
  },
  {
   "cell_type": "code",
   "execution_count": 3,
   "id": "bb6ad8a1",
   "metadata": {
    "execution": {
     "iopub.execute_input": "2021-09-01T10:07:27.189868Z",
     "iopub.status.busy": "2021-09-01T10:07:27.185238Z",
     "iopub.status.idle": "2021-09-01T10:07:29.047505Z",
     "shell.execute_reply": "2021-09-01T10:07:29.046563Z"
    },
    "papermill": {
     "duration": 1.893853,
     "end_time": "2021-09-01T10:07:29.047714",
     "exception": false,
     "start_time": "2021-09-01T10:07:27.153861",
     "status": "completed"
    },
    "tags": []
   },
   "outputs": [
    {
     "name": "stdout",
     "output_type": "stream",
     "text": [
      "Collecting mnist\r\n"
     ]
    },
    {
     "name": "stdout",
     "output_type": "stream",
     "text": [
      "  Downloading mnist-0.2.2-py2.py3-none-any.whl (3.5 kB)\r\n",
      "Requirement already satisfied: numpy in /opt/hostedtoolcache/Python/3.6.14/x64/lib/python3.6/site-packages (from mnist) (1.19.5)\r\n"
     ]
    },
    {
     "name": "stdout",
     "output_type": "stream",
     "text": [
      "Installing collected packages: mnist\r\n"
     ]
    },
    {
     "name": "stdout",
     "output_type": "stream",
     "text": [
      "Successfully installed mnist-0.2.2\r\n"
     ]
    }
   ],
   "source": [
    "!pip install mnist"
   ]
  },
  {
   "cell_type": "markdown",
   "id": "69df9c9a",
   "metadata": {
    "papermill": {
     "duration": 0.034593,
     "end_time": "2021-09-01T10:07:29.127633",
     "exception": false,
     "start_time": "2021-09-01T10:07:29.093040",
     "status": "completed"
    },
    "tags": []
   },
   "source": [
    "## Preparing the Data"
   ]
  },
  {
   "cell_type": "code",
   "execution_count": 4,
   "id": "7f69d806",
   "metadata": {
    "execution": {
     "iopub.execute_input": "2021-09-01T10:07:29.189243Z",
     "iopub.status.busy": "2021-09-01T10:07:29.188649Z",
     "iopub.status.idle": "2021-09-01T10:07:29.206179Z",
     "shell.execute_reply": "2021-09-01T10:07:29.205619Z"
    },
    "papermill": {
     "duration": 0.050576,
     "end_time": "2021-09-01T10:07:29.206325",
     "exception": false,
     "start_time": "2021-09-01T10:07:29.155749",
     "status": "completed"
    },
    "tags": []
   },
   "outputs": [],
   "source": [
    "import mnist"
   ]
  },
  {
   "cell_type": "code",
   "execution_count": 5,
   "id": "a411e44f",
   "metadata": {
    "execution": {
     "iopub.execute_input": "2021-09-01T10:07:29.267784Z",
     "iopub.status.busy": "2021-09-01T10:07:29.267201Z",
     "iopub.status.idle": "2021-09-01T10:07:29.901817Z",
     "shell.execute_reply": "2021-09-01T10:07:29.901284Z"
    },
    "papermill": {
     "duration": 0.666506,
     "end_time": "2021-09-01T10:07:29.901957",
     "exception": false,
     "start_time": "2021-09-01T10:07:29.235451",
     "status": "completed"
    },
    "tags": []
   },
   "outputs": [],
   "source": [
    "train_images = mnist.train_images()\n",
    "train_labels = mnist.train_labels()"
   ]
  },
  {
   "cell_type": "code",
   "execution_count": 6,
   "id": "dceab3a5",
   "metadata": {
    "execution": {
     "iopub.execute_input": "2021-09-01T10:07:29.970717Z",
     "iopub.status.busy": "2021-09-01T10:07:29.970125Z",
     "iopub.status.idle": "2021-09-01T10:07:29.987677Z",
     "shell.execute_reply": "2021-09-01T10:07:29.987167Z"
    },
    "papermill": {
     "duration": 0.054452,
     "end_time": "2021-09-01T10:07:29.987809",
     "exception": false,
     "start_time": "2021-09-01T10:07:29.933357",
     "status": "completed"
    },
    "tags": []
   },
   "outputs": [
    {
     "data": {
      "text/plain": [
       "((60000, 28, 28), (60000,))"
      ]
     },
     "execution_count": 6,
     "metadata": {},
     "output_type": "execute_result"
    }
   ],
   "source": [
    "train_images.shape, train_labels.shape"
   ]
  },
  {
   "cell_type": "code",
   "execution_count": 7,
   "id": "f50dc2bb",
   "metadata": {
    "execution": {
     "iopub.execute_input": "2021-09-01T10:07:30.052314Z",
     "iopub.status.busy": "2021-09-01T10:07:30.051676Z",
     "iopub.status.idle": "2021-09-01T10:07:30.255945Z",
     "shell.execute_reply": "2021-09-01T10:07:30.254316Z"
    },
    "papermill": {
     "duration": 0.238636,
     "end_time": "2021-09-01T10:07:30.256155",
     "exception": false,
     "start_time": "2021-09-01T10:07:30.017519",
     "status": "completed"
    },
    "tags": []
   },
   "outputs": [],
   "source": [
    "test_images = mnist.test_images()\n",
    "test_labels = mnist.test_labels()"
   ]
  },
  {
   "cell_type": "code",
   "execution_count": 8,
   "id": "fc38cf1b",
   "metadata": {
    "execution": {
     "iopub.execute_input": "2021-09-01T10:07:30.329240Z",
     "iopub.status.busy": "2021-09-01T10:07:30.328173Z",
     "iopub.status.idle": "2021-09-01T10:07:30.336648Z",
     "shell.execute_reply": "2021-09-01T10:07:30.336128Z"
    },
    "papermill": {
     "duration": 0.049236,
     "end_time": "2021-09-01T10:07:30.336784",
     "exception": false,
     "start_time": "2021-09-01T10:07:30.287548",
     "status": "completed"
    },
    "tags": []
   },
   "outputs": [
    {
     "data": {
      "text/plain": [
       "((10000, 28, 28), (10000,))"
      ]
     },
     "execution_count": 8,
     "metadata": {},
     "output_type": "execute_result"
    }
   ],
   "source": [
    "test_images.shape, test_labels.shape"
   ]
  },
  {
   "cell_type": "code",
   "execution_count": 9,
   "id": "f9ed8fe0",
   "metadata": {
    "execution": {
     "iopub.execute_input": "2021-09-01T10:07:30.400080Z",
     "iopub.status.busy": "2021-09-01T10:07:30.399467Z",
     "iopub.status.idle": "2021-09-01T10:07:30.579083Z",
     "shell.execute_reply": "2021-09-01T10:07:30.579531Z"
    },
    "papermill": {
     "duration": 0.215065,
     "end_time": "2021-09-01T10:07:30.579676",
     "exception": false,
     "start_time": "2021-09-01T10:07:30.364611",
     "status": "completed"
    },
    "tags": []
   },
   "outputs": [
    {
     "name": "stdout",
     "output_type": "stream",
     "text": [
      "2\n"
     ]
    },
    {
     "data": {
      "text/plain": [
       "<matplotlib.image.AxesImage at 0x7fc29c5e5128>"
      ]
     },
     "execution_count": 9,
     "metadata": {},
     "output_type": "execute_result"
    },
    {
     "data": {
      "image/png": "[encoded data removed]",
      "text/plain": [
       "<Figure size 432x288 with 1 Axes>"
      ]
     },
     "metadata": {
      "needs_background": "light"
     },
     "output_type": "display_data"
    }
   ],
   "source": [
    "image_index = 7776 # You may select anything up to 60,000\n",
    "print(train_labels[image_index]) \n",
    "plt.imshow(train_images[image_index], cmap='Greys')"
   ]
  },
  {
   "cell_type": "markdown",
   "id": "a8d2388d",
   "metadata": {
    "papermill": {
     "duration": 0.029406,
     "end_time": "2021-09-01T10:07:30.638495",
     "exception": false,
     "start_time": "2021-09-01T10:07:30.609089",
     "status": "completed"
    },
    "tags": []
   },
   "source": [
    "## Filter data to get 3 and 8 out"
   ]
  },
  {
   "cell_type": "code",
   "execution_count": 10,
   "id": "776f7fc7",
   "metadata": {
    "execution": {
     "iopub.execute_input": "2021-09-01T10:07:30.701364Z",
     "iopub.status.busy": "2021-09-01T10:07:30.700766Z",
     "iopub.status.idle": "2021-09-01T10:07:30.721337Z",
     "shell.execute_reply": "2021-09-01T10:07:30.720733Z"
    },
    "papermill": {
     "duration": 0.053585,
     "end_time": "2021-09-01T10:07:30.721491",
     "exception": false,
     "start_time": "2021-09-01T10:07:30.667906",
     "status": "completed"
    },
    "tags": []
   },
   "outputs": [],
   "source": [
    "train_filter = np.where((train_labels == 3 ) | (train_labels == 8))\n",
    "test_filter = np.where((test_labels == 3) | (test_labels == 8))\n",
    "X_train, y_train = train_images[train_filter], train_labels[train_filter]\n",
    "X_test, y_test = test_images[test_filter], test_labels[test_filter]"
   ]
  },
  {
   "cell_type": "markdown",
   "id": "948f0b7e",
   "metadata": {
    "papermill": {
     "duration": 0.030644,
     "end_time": "2021-09-01T10:07:30.784762",
     "exception": false,
     "start_time": "2021-09-01T10:07:30.754118",
     "status": "completed"
    },
    "tags": []
   },
   "source": [
    "We normalize the pizel values in the 0 to 1 range"
   ]
  },
  {
   "cell_type": "code",
   "execution_count": 11,
   "id": "ee4c2166",
   "metadata": {
    "execution": {
     "iopub.execute_input": "2021-09-01T10:07:30.851939Z",
     "iopub.status.busy": "2021-09-01T10:07:30.851318Z",
     "iopub.status.idle": "2021-09-01T10:07:30.907667Z",
     "shell.execute_reply": "2021-09-01T10:07:30.906737Z"
    },
    "papermill": {
     "duration": 0.091701,
     "end_time": "2021-09-01T10:07:30.907889",
     "exception": false,
     "start_time": "2021-09-01T10:07:30.816188",
     "status": "completed"
    },
    "tags": []
   },
   "outputs": [],
   "source": [
    "X_train = X_train/255.\n",
    "X_test = X_test/255."
   ]
  },
  {
   "cell_type": "markdown",
   "id": "ddcf4fab",
   "metadata": {
    "papermill": {
     "duration": 0.032125,
     "end_time": "2021-09-01T10:07:30.972954",
     "exception": false,
     "start_time": "2021-09-01T10:07:30.940829",
     "status": "completed"
    },
    "tags": []
   },
   "source": [
    "And setup the labels as 1 (when the digit is 3) and 0 (when the digit is 8)"
   ]
  },
  {
   "cell_type": "code",
   "execution_count": 12,
   "id": "7dc908f2",
   "metadata": {
    "execution": {
     "iopub.execute_input": "2021-09-01T10:07:31.042635Z",
     "iopub.status.busy": "2021-09-01T10:07:31.042063Z",
     "iopub.status.idle": "2021-09-01T10:07:31.054649Z",
     "shell.execute_reply": "2021-09-01T10:07:31.054154Z"
    },
    "papermill": {
     "duration": 0.049404,
     "end_time": "2021-09-01T10:07:31.054778",
     "exception": false,
     "start_time": "2021-09-01T10:07:31.005374",
     "status": "completed"
    },
    "tags": []
   },
   "outputs": [],
   "source": [
    "y_train = 1*(y_train==3)\n",
    "y_test = 1*(y_test==3)"
   ]
  },
  {
   "cell_type": "code",
   "execution_count": 13,
   "id": "01e4e969",
   "metadata": {
    "execution": {
     "iopub.execute_input": "2021-09-01T10:07:31.130382Z",
     "iopub.status.busy": "2021-09-01T10:07:31.129777Z",
     "iopub.status.idle": "2021-09-01T10:07:31.150234Z",
     "shell.execute_reply": "2021-09-01T10:07:31.150716Z"
    },
    "papermill": {
     "duration": 0.062194,
     "end_time": "2021-09-01T10:07:31.150867",
     "exception": false,
     "start_time": "2021-09-01T10:07:31.088673",
     "status": "completed"
    },
    "tags": []
   },
   "outputs": [
    {
     "data": {
      "text/plain": [
       "((11982, 28, 28), (1984, 28, 28))"
      ]
     },
     "execution_count": 13,
     "metadata": {},
     "output_type": "execute_result"
    }
   ],
   "source": [
    "X_train.shape, X_test.shape"
   ]
  },
  {
   "cell_type": "markdown",
   "id": "5ccf3f85",
   "metadata": {
    "papermill": {
     "duration": 0.030209,
     "end_time": "2021-09-01T10:07:31.211394",
     "exception": false,
     "start_time": "2021-09-01T10:07:31.181185",
     "status": "completed"
    },
    "tags": []
   },
   "source": [
    "We reshape the data to flatten the image pixels into a set of features or co-variates:"
   ]
  },
  {
   "cell_type": "code",
   "execution_count": 14,
   "id": "5286a4a3",
   "metadata": {
    "execution": {
     "iopub.execute_input": "2021-09-01T10:07:31.277207Z",
     "iopub.status.busy": "2021-09-01T10:07:31.276614Z",
     "iopub.status.idle": "2021-09-01T10:07:31.296142Z",
     "shell.execute_reply": "2021-09-01T10:07:31.295609Z"
    },
    "papermill": {
     "duration": 0.054328,
     "end_time": "2021-09-01T10:07:31.296272",
     "exception": false,
     "start_time": "2021-09-01T10:07:31.241944",
     "status": "completed"
    },
    "tags": []
   },
   "outputs": [
    {
     "data": {
      "text/plain": [
       "((11982, 784), (1984, 784))"
      ]
     },
     "execution_count": 14,
     "metadata": {},
     "output_type": "execute_result"
    }
   ],
   "source": [
    "X_train = X_train.reshape(X_train.shape[0], -1)\n",
    "X_test = X_test.reshape(X_test.shape[0], -1)\n",
    "X_train.shape, X_test.shape"
   ]
  },
  {
   "cell_type": "code",
   "execution_count": 15,
   "id": "73c5f88a",
   "metadata": {
    "execution": {
     "iopub.execute_input": "2021-09-01T10:07:31.361171Z",
     "iopub.status.busy": "2021-09-01T10:07:31.360564Z",
     "iopub.status.idle": "2021-09-01T10:07:31.381665Z",
     "shell.execute_reply": "2021-09-01T10:07:31.381009Z"
    },
    "papermill": {
     "duration": 0.055398,
     "end_time": "2021-09-01T10:07:31.381835",
     "exception": false,
     "start_time": "2021-09-01T10:07:31.326437",
     "status": "completed"
    },
    "tags": []
   },
   "outputs": [],
   "source": [
    "#Impoting functions from 'Kudzu'\n",
    "from kudzu.model import Model\n",
    "from kudzu.train import Learner\n",
    "from kudzu.optim import GD\n",
    "from kudzu.data import Data, Sampler,Dataloader\n",
    "\n",
    "from kudzu.callbacks import AccCallback\n",
    "from kudzu.callbacks import ClfCallback\n",
    "\n",
    "from kudzu.loss import MSE\n",
    "\n",
    "from kudzu.layer import Sigmoid,Relu\n",
    "from kudzu.layer import Affine"
   ]
  },
  {
   "cell_type": "markdown",
   "id": "bc01172a",
   "metadata": {
    "papermill": {
     "duration": 0.030435,
     "end_time": "2021-09-01T10:07:31.444056",
     "exception": false,
     "start_time": "2021-09-01T10:07:31.413621",
     "status": "completed"
    },
    "tags": []
   },
   "source": [
    "### Let us create a `Config` class, to store important parameters. \n",
    "This class essentially plays the role of a dictionary."
   ]
  },
  {
   "cell_type": "code",
   "execution_count": 16,
   "id": "978281aa",
   "metadata": {
    "execution": {
     "iopub.execute_input": "2021-09-01T10:07:31.507304Z",
     "iopub.status.busy": "2021-09-01T10:07:31.506754Z",
     "iopub.status.idle": "2021-09-01T10:07:31.525898Z",
     "shell.execute_reply": "2021-09-01T10:07:31.525411Z"
    },
    "papermill": {
     "duration": 0.052536,
     "end_time": "2021-09-01T10:07:31.526033",
     "exception": false,
     "start_time": "2021-09-01T10:07:31.473497",
     "status": "completed"
    },
    "tags": []
   },
   "outputs": [],
   "source": [
    "class Config:\n",
    "    pass\n",
    "config = Config()\n",
    "config.lr = 0.001\n",
    "config.num_epochs = 250\n",
    "config.bs = 50"
   ]
  },
  {
   "cell_type": "markdown",
   "id": "1385fa59",
   "metadata": {
    "papermill": {
     "duration": 0.029682,
     "end_time": "2021-09-01T10:07:31.585895",
     "exception": false,
     "start_time": "2021-09-01T10:07:31.556213",
     "status": "completed"
    },
    "tags": []
   },
   "source": [
    "### Running Models with the Training data\n",
    "Details about the network layers:\n",
    "- A first affine layer has 784 inputs and does 100 affine transforms. These are followed by a Relu\n",
    "- A second affine layer has 100 inputs from the 100 activations of the past layer, and does 100 affine transforms. These are followed by a Relu\n",
    "- A third affine layer has 100 activations and does 2 affine transformations to create an embedding for visualization. There is no non-linearity here.\n",
    "- A final \"logistic regression\" which has an affine transform from 2 inputs to 1 output, which is squeezed through a sigmoid.\n"
   ]
  },
  {
   "cell_type": "code",
   "execution_count": 17,
   "id": "2b9c66db",
   "metadata": {
    "execution": {
     "iopub.execute_input": "2021-09-01T10:07:31.649713Z",
     "iopub.status.busy": "2021-09-01T10:07:31.649117Z",
     "iopub.status.idle": "2021-09-01T10:07:31.665891Z",
     "shell.execute_reply": "2021-09-01T10:07:31.665398Z"
    },
    "papermill": {
     "duration": 0.050378,
     "end_time": "2021-09-01T10:07:31.666024",
     "exception": false,
     "start_time": "2021-09-01T10:07:31.615646",
     "status": "completed"
    },
    "tags": []
   },
   "outputs": [],
   "source": [
    "data = Data(X_train, y_train.reshape(-1,1))\n",
    "sampler = Sampler(data, config.bs, shuffle=True)\n",
    "\n",
    "dl = Dataloader(data, sampler)\n",
    "\n",
    "opt = GD(config.lr)\n",
    "loss = MSE()"
   ]
  },
  {
   "cell_type": "code",
   "execution_count": 18,
   "id": "b275e4c2",
   "metadata": {
    "execution": {
     "iopub.execute_input": "2021-09-01T10:07:31.730407Z",
     "iopub.status.busy": "2021-09-01T10:07:31.729812Z",
     "iopub.status.idle": "2021-09-01T10:07:31.743509Z",
     "shell.execute_reply": "2021-09-01T10:07:31.743021Z"
    },
    "papermill": {
     "duration": 0.047534,
     "end_time": "2021-09-01T10:07:31.743637",
     "exception": false,
     "start_time": "2021-09-01T10:07:31.696103",
     "status": "completed"
    },
    "tags": []
   },
   "outputs": [],
   "source": [
    "training_data_x = X_train\n",
    "testing_data_x = X_test\n",
    "training_data_y = y_train.reshape(-1,1)\n",
    "testing_data_y = y_test.reshape(-1,1)"
   ]
  },
  {
   "cell_type": "code",
   "execution_count": 19,
   "id": "76951160",
   "metadata": {
    "execution": {
     "iopub.execute_input": "2021-09-01T10:07:31.809271Z",
     "iopub.status.busy": "2021-09-01T10:07:31.808695Z",
     "iopub.status.idle": "2021-09-01T10:07:31.829036Z",
     "shell.execute_reply": "2021-09-01T10:07:31.828512Z"
    },
    "papermill": {
     "duration": 0.055627,
     "end_time": "2021-09-01T10:07:31.829167",
     "exception": false,
     "start_time": "2021-09-01T10:07:31.773540",
     "status": "completed"
    },
    "tags": []
   },
   "outputs": [
    {
     "name": "stdout",
     "output_type": "stream",
     "text": [
      "xavier\n",
      "xavier\n",
      "xavier\n",
      "xavier\n",
      "xavier\n"
     ]
    }
   ],
   "source": [
    "layers = [Affine(\"first\", 784, 100), Relu(\"first\"), Affine(\"second\", 100, 100), Relu(\"second\"), Affine(\"third\", 100, 2), Affine(\"last\", 2, 1), Sigmoid(\"last\")]\n",
    "model_nn = Model(layers)\n",
    "model_lr = Model([Affine(\"logits\", 784, 1), Sigmoid(\"sigmoid\")])"
   ]
  },
  {
   "cell_type": "code",
   "execution_count": 20,
   "id": "6eede77a",
   "metadata": {
    "execution": {
     "iopub.execute_input": "2021-09-01T10:07:31.895415Z",
     "iopub.status.busy": "2021-09-01T10:07:31.894867Z",
     "iopub.status.idle": "2021-09-01T10:07:31.916041Z",
     "shell.execute_reply": "2021-09-01T10:07:31.916643Z"
    },
    "papermill": {
     "duration": 0.057466,
     "end_time": "2021-09-01T10:07:31.916798",
     "exception": false,
     "start_time": "2021-09-01T10:07:31.859332",
     "status": "completed"
    },
    "tags": []
   },
   "outputs": [],
   "source": [
    "nn_learner = Learner(loss, model_nn, opt, config.num_epochs)\n",
    "acc_nn = ClfCallback(nn_learner, config.bs, training_data_x , testing_data_x, training_data_y, testing_data_y)\n",
    "nn_learner.set_callbacks([acc_nn])"
   ]
  },
  {
   "cell_type": "code",
   "execution_count": 21,
   "id": "877b6cc7",
   "metadata": {
    "execution": {
     "iopub.execute_input": "2021-09-01T10:07:31.987915Z",
     "iopub.status.busy": "2021-09-01T10:07:31.987342Z",
     "iopub.status.idle": "2021-09-01T10:07:31.998285Z",
     "shell.execute_reply": "2021-09-01T10:07:31.997775Z"
    },
    "papermill": {
     "duration": 0.050403,
     "end_time": "2021-09-01T10:07:31.998411",
     "exception": false,
     "start_time": "2021-09-01T10:07:31.948008",
     "status": "completed"
    },
    "tags": []
   },
   "outputs": [],
   "source": [
    "lr_learner = Learner(loss, model_lr, opt, config.num_epochs)\n",
    "acc_lr = ClfCallback(lr_learner, config.bs, training_data_x , testing_data_x, training_data_y, testing_data_y)\n",
    "lr_learner.set_callbacks([acc_lr])"
   ]
  },
  {
   "cell_type": "code",
   "execution_count": 22,
   "id": "d9b133c3",
   "metadata": {
    "execution": {
     "iopub.execute_input": "2021-09-01T10:07:32.068500Z",
     "iopub.status.busy": "2021-09-01T10:07:32.067869Z",
     "iopub.status.idle": "2021-09-01T10:08:57.379263Z",
     "shell.execute_reply": "2021-09-01T10:08:57.380092Z"
    },
    "papermill": {
     "duration": 85.350744,
     "end_time": "2021-09-01T10:08:57.380251",
     "exception": false,
     "start_time": "2021-09-01T10:07:32.029507",
     "status": "completed"
    },
    "tags": []
   },
   "outputs": [
    {
     "name": "stdout",
     "output_type": "stream",
     "text": [
      "Epoch 0, Loss 0.2263\n",
      "Training Accuracy: 0.7637, Testing Accuracy: 0.7641\n",
      "\n"
     ]
    },
    {
     "name": "stdout",
     "output_type": "stream",
     "text": [
      "Epoch 10, Loss 0.077\n",
      "Training Accuracy: 0.9300, Testing Accuracy: 0.9395\n",
      "\n"
     ]
    },
    {
     "name": "stdout",
     "output_type": "stream",
     "text": [
      "Epoch 20, Loss 0.0499\n",
      "Training Accuracy: 0.9495, Testing Accuracy: 0.9536\n",
      "\n"
     ]
    },
    {
     "name": "stdout",
     "output_type": "stream",
     "text": [
      "Epoch 30, Loss 0.0404\n",
      "Training Accuracy: 0.9568, Testing Accuracy: 0.9632\n",
      "\n"
     ]
    },
    {
     "name": "stdout",
     "output_type": "stream",
     "text": [
      "Epoch 40, Loss 0.0356\n",
      "Training Accuracy: 0.9600, Testing Accuracy: 0.9657\n",
      "\n"
     ]
    },
    {
     "name": "stdout",
     "output_type": "stream",
     "text": [
      "Epoch 50, Loss 0.0325\n",
      "Training Accuracy: 0.9632, Testing Accuracy: 0.9682\n",
      "\n"
     ]
    },
    {
     "name": "stdout",
     "output_type": "stream",
     "text": [
      "Epoch 60, Loss 0.0304\n",
      "Training Accuracy: 0.9660, Testing Accuracy: 0.9693\n",
      "\n"
     ]
    },
    {
     "name": "stdout",
     "output_type": "stream",
     "text": [
      "Epoch 70, Loss 0.0287\n",
      "Training Accuracy: 0.9678, Testing Accuracy: 0.9693\n",
      "\n"
     ]
    },
    {
     "name": "stdout",
     "output_type": "stream",
     "text": [
      "Epoch 80, Loss 0.0274\n",
      "Training Accuracy: 0.9688, Testing Accuracy: 0.9698\n",
      "\n"
     ]
    },
    {
     "name": "stdout",
     "output_type": "stream",
     "text": [
      "Epoch 90, Loss 0.0263\n",
      "Training Accuracy: 0.9699, Testing Accuracy: 0.9703\n",
      "\n"
     ]
    },
    {
     "name": "stdout",
     "output_type": "stream",
     "text": [
      "Epoch 100, Loss 0.0254\n",
      "Training Accuracy: 0.9711, Testing Accuracy: 0.9703\n",
      "\n"
     ]
    },
    {
     "name": "stdout",
     "output_type": "stream",
     "text": [
      "Epoch 110, Loss 0.0246\n",
      "Training Accuracy: 0.9715, Testing Accuracy: 0.9708\n",
      "\n"
     ]
    },
    {
     "name": "stdout",
     "output_type": "stream",
     "text": [
      "Epoch 120, Loss 0.0238\n",
      "Training Accuracy: 0.9725, Testing Accuracy: 0.9713\n",
      "\n"
     ]
    },
    {
     "name": "stdout",
     "output_type": "stream",
     "text": [
      "Epoch 130, Loss 0.0232\n",
      "Training Accuracy: 0.9736, Testing Accuracy: 0.9708\n",
      "\n"
     ]
    },
    {
     "name": "stdout",
     "output_type": "stream",
     "text": [
      "Epoch 140, Loss 0.0225\n",
      "Training Accuracy: 0.9747, Testing Accuracy: 0.9718\n",
      "\n"
     ]
    },
    {
     "name": "stdout",
     "output_type": "stream",
     "text": [
      "Epoch 150, Loss 0.0219\n",
      "Training Accuracy: 0.9756, Testing Accuracy: 0.9713\n",
      "\n"
     ]
    },
    {
     "name": "stdout",
     "output_type": "stream",
     "text": [
      "Epoch 160, Loss 0.0214\n",
      "Training Accuracy: 0.9760, Testing Accuracy: 0.9713\n",
      "\n"
     ]
    },
    {
     "name": "stdout",
     "output_type": "stream",
     "text": [
      "Epoch 170, Loss 0.0209\n",
      "Training Accuracy: 0.9768, Testing Accuracy: 0.9713\n",
      "\n"
     ]
    },
    {
     "name": "stdout",
     "output_type": "stream",
     "text": [
      "Epoch 180, Loss 0.0204\n",
      "Training Accuracy: 0.9771, Testing Accuracy: 0.9728\n",
      "\n"
     ]
    },
    {
     "name": "stdout",
     "output_type": "stream",
     "text": [
      "Epoch 190, Loss 0.0199\n",
      "Training Accuracy: 0.9777, Testing Accuracy: 0.9733\n",
      "\n"
     ]
    },
    {
     "name": "stdout",
     "output_type": "stream",
     "text": [
      "Epoch 200, Loss 0.0195\n",
      "Training Accuracy: 0.9782, Testing Accuracy: 0.9733\n",
      "\n"
     ]
    },
    {
     "name": "stdout",
     "output_type": "stream",
     "text": [
      "Epoch 210, Loss 0.019\n",
      "Training Accuracy: 0.9787, Testing Accuracy: 0.9733\n",
      "\n"
     ]
    },
    {
     "name": "stdout",
     "output_type": "stream",
     "text": [
      "Epoch 220, Loss 0.0186\n",
      "Training Accuracy: 0.9796, Testing Accuracy: 0.9733\n",
      "\n"
     ]
    },
    {
     "name": "stdout",
     "output_type": "stream",
     "text": [
      "Epoch 230, Loss 0.0182\n",
      "Training Accuracy: 0.9801, Testing Accuracy: 0.9743\n",
      "\n"
     ]
    },
    {
     "name": "stdout",
     "output_type": "stream",
     "text": [
      "Epoch 240, Loss 0.0178\n",
      "Training Accuracy: 0.9805, Testing Accuracy: 0.9743\n",
      "\n"
     ]
    },
    {
     "data": {
      "text/plain": [
       "0.00567260304435057"
      ]
     },
     "execution_count": 22,
     "metadata": {},
     "output_type": "execute_result"
    }
   ],
   "source": [
    "nn_learner.train_loop(dl)"
   ]
  },
  {
   "cell_type": "code",
   "execution_count": 23,
   "id": "e0163366",
   "metadata": {
    "execution": {
     "iopub.execute_input": "2021-09-01T10:08:57.468198Z",
     "iopub.status.busy": "2021-09-01T10:08:57.467682Z",
     "iopub.status.idle": "2021-09-01T10:09:12.919237Z",
     "shell.execute_reply": "2021-09-01T10:09:12.919814Z"
    },
    "papermill": {
     "duration": 15.502223,
     "end_time": "2021-09-01T10:09:12.919991",
     "exception": false,
     "start_time": "2021-09-01T10:08:57.417768",
     "status": "completed"
    },
    "tags": []
   },
   "outputs": [
    {
     "name": "stdout",
     "output_type": "stream",
     "text": [
      "Epoch 0, Loss 0.2091\n",
      "Training Accuracy: 0.8028, Testing Accuracy: 0.7954\n",
      "\n"
     ]
    },
    {
     "name": "stdout",
     "output_type": "stream",
     "text": [
      "Epoch 10, Loss 0.0964\n",
      "Training Accuracy: 0.9175, Testing Accuracy: 0.9269\n",
      "\n"
     ]
    },
    {
     "name": "stdout",
     "output_type": "stream",
     "text": [
      "Epoch 20, Loss 0.0762\n",
      "Training Accuracy: 0.9297, Testing Accuracy: 0.9340\n",
      "\n"
     ]
    },
    {
     "name": "stdout",
     "output_type": "stream",
     "text": [
      "Epoch 30, Loss 0.0666\n",
      "Training Accuracy: 0.9359, Testing Accuracy: 0.9435\n",
      "\n"
     ]
    },
    {
     "name": "stdout",
     "output_type": "stream",
     "text": [
      "Epoch 40, Loss 0.0607\n",
      "Training Accuracy: 0.9405, Testing Accuracy: 0.9496\n",
      "\n"
     ]
    },
    {
     "name": "stdout",
     "output_type": "stream",
     "text": [
      "Epoch 50, Loss 0.0566\n",
      "Training Accuracy: 0.9448, Testing Accuracy: 0.9536\n",
      "\n"
     ]
    },
    {
     "name": "stdout",
     "output_type": "stream",
     "text": [
      "Epoch 60, Loss 0.0535\n",
      "Training Accuracy: 0.9474, Testing Accuracy: 0.9556\n",
      "\n"
     ]
    },
    {
     "name": "stdout",
     "output_type": "stream",
     "text": [
      "Epoch 70, Loss 0.0511\n",
      "Training Accuracy: 0.9491, Testing Accuracy: 0.9582\n",
      "\n"
     ]
    },
    {
     "name": "stdout",
     "output_type": "stream",
     "text": [
      "Epoch 80, Loss 0.0491\n",
      "Training Accuracy: 0.9505, Testing Accuracy: 0.9592\n",
      "\n"
     ]
    },
    {
     "name": "stdout",
     "output_type": "stream",
     "text": [
      "Epoch 90, Loss 0.0475\n",
      "Training Accuracy: 0.9524, Testing Accuracy: 0.9607\n",
      "\n"
     ]
    },
    {
     "name": "stdout",
     "output_type": "stream",
     "text": [
      "Epoch 100, Loss 0.0461\n",
      "Training Accuracy: 0.9535, Testing Accuracy: 0.9607\n",
      "\n"
     ]
    },
    {
     "name": "stdout",
     "output_type": "stream",
     "text": [
      "Epoch 110, Loss 0.0449\n",
      "Training Accuracy: 0.9543, Testing Accuracy: 0.9612\n",
      "\n"
     ]
    },
    {
     "name": "stdout",
     "output_type": "stream",
     "text": [
      "Epoch 120, Loss 0.0439\n",
      "Training Accuracy: 0.9549, Testing Accuracy: 0.9617\n",
      "\n"
     ]
    },
    {
     "name": "stdout",
     "output_type": "stream",
     "text": [
      "Epoch 130, Loss 0.0429\n",
      "Training Accuracy: 0.9558, Testing Accuracy: 0.9622\n",
      "\n"
     ]
    },
    {
     "name": "stdout",
     "output_type": "stream",
     "text": [
      "Epoch 140, Loss 0.0421\n",
      "Training Accuracy: 0.9564, Testing Accuracy: 0.9627\n",
      "\n"
     ]
    },
    {
     "name": "stdout",
     "output_type": "stream",
     "text": [
      "Epoch 150, Loss 0.0414\n",
      "Training Accuracy: 0.9571, Testing Accuracy: 0.9627\n",
      "\n"
     ]
    },
    {
     "name": "stdout",
     "output_type": "stream",
     "text": [
      "Epoch 160, Loss 0.0407\n",
      "Training Accuracy: 0.9572, Testing Accuracy: 0.9632\n",
      "\n"
     ]
    },
    {
     "name": "stdout",
     "output_type": "stream",
     "text": [
      "Epoch 170, Loss 0.0401\n",
      "Training Accuracy: 0.9575, Testing Accuracy: 0.9637\n",
      "\n"
     ]
    },
    {
     "name": "stdout",
     "output_type": "stream",
     "text": [
      "Epoch 180, Loss 0.0395\n",
      "Training Accuracy: 0.9579, Testing Accuracy: 0.9647\n",
      "\n"
     ]
    },
    {
     "name": "stdout",
     "output_type": "stream",
     "text": [
      "Epoch 190, Loss 0.039\n",
      "Training Accuracy: 0.9586, Testing Accuracy: 0.9647\n",
      "\n"
     ]
    },
    {
     "name": "stdout",
     "output_type": "stream",
     "text": [
      "Epoch 200, Loss 0.0386\n",
      "Training Accuracy: 0.9590, Testing Accuracy: 0.9652\n",
      "\n"
     ]
    },
    {
     "name": "stdout",
     "output_type": "stream",
     "text": [
      "Epoch 210, Loss 0.0381\n",
      "Training Accuracy: 0.9596, Testing Accuracy: 0.9652\n",
      "\n"
     ]
    },
    {
     "name": "stdout",
     "output_type": "stream",
     "text": [
      "Epoch 220, Loss 0.0377\n",
      "Training Accuracy: 0.9599, Testing Accuracy: 0.9657\n",
      "\n"
     ]
    },
    {
     "name": "stdout",
     "output_type": "stream",
     "text": [
      "Epoch 230, Loss 0.0373\n",
      "Training Accuracy: 0.9599, Testing Accuracy: 0.9667\n",
      "\n"
     ]
    },
    {
     "name": "stdout",
     "output_type": "stream",
     "text": [
      "Epoch 240, Loss 0.037\n",
      "Training Accuracy: 0.9604, Testing Accuracy: 0.9667\n",
      "\n"
     ]
    },
    {
     "data": {
      "text/plain": [
       "0.030294973621059793"
      ]
     },
     "execution_count": 23,
     "metadata": {},
     "output_type": "execute_result"
    }
   ],
   "source": [
    "lr_learner.train_loop(dl)"
   ]
  },
  {
   "cell_type": "code",
   "execution_count": 24,
   "id": "ca410940",
   "metadata": {
    "execution": {
     "iopub.execute_input": "2021-09-01T10:09:13.018353Z",
     "iopub.status.busy": "2021-09-01T10:09:13.017790Z",
     "iopub.status.idle": "2021-09-01T10:09:13.267853Z",
     "shell.execute_reply": "2021-09-01T10:09:13.267087Z"
    },
    "papermill": {
     "duration": 0.300194,
     "end_time": "2021-09-01T10:09:13.267999",
     "exception": false,
     "start_time": "2021-09-01T10:09:12.967805",
     "status": "completed"
    },
    "tags": []
   },
   "outputs": [
    {
     "data": {
      "text/plain": [
       "<matplotlib.legend.Legend at 0x7fc29c199ba8>"
      ]
     },
     "execution_count": 24,
     "metadata": {},
     "output_type": "execute_result"
    },
    {
     "data": {
      "image/png": "[encoded data removed]",
      "text/plain": [
       "<Figure size 1080x720 with 1 Axes>"
      ]
     },
     "metadata": {
      "needs_background": "light"
     },
     "output_type": "display_data"
    }
   ],
   "source": [
    "#comparing the results of NN and LR\n",
    "plt.figure(figsize=(15,10))\n",
    "\n",
    "# Neural Network plots\n",
    "plt.plot(acc_nn.accuracies, 'r-', label = \"Training Accuracies - NN\")\n",
    "plt.plot(acc_nn.test_accuracies, 'g-', label = \"Testing Accuracies - NN\")\n",
    "\n",
    "# Logistic Regression plots\n",
    "plt.plot(acc_lr.accuracies, 'k-', label = \"Training Accuracies - LR\")\n",
    "plt.plot(acc_lr.test_accuracies, 'b-', label = \"Testing Accuracies - LR\")\n",
    "plt.legend()"
   ]
  },
  {
   "cell_type": "markdown",
   "id": "80dfb35c",
   "metadata": {
    "papermill": {
     "duration": 0.045596,
     "end_time": "2021-09-01T10:09:13.359834",
     "exception": false,
     "start_time": "2021-09-01T10:09:13.314238",
     "status": "completed"
    },
    "tags": []
   },
   "source": [
    "#### Plotting the outputs of this layer of the NN.\n"
   ]
  },
  {
   "cell_type": "code",
   "execution_count": 25,
   "id": "45eb2ff5",
   "metadata": {
    "execution": {
     "iopub.execute_input": "2021-09-01T10:09:13.462743Z",
     "iopub.status.busy": "2021-09-01T10:09:13.461955Z",
     "iopub.status.idle": "2021-09-01T10:09:13.482482Z",
     "shell.execute_reply": "2021-09-01T10:09:13.481946Z"
    },
    "papermill": {
     "duration": 0.075523,
     "end_time": "2021-09-01T10:09:13.482614",
     "exception": false,
     "start_time": "2021-09-01T10:09:13.407091",
     "status": "completed"
    },
    "tags": []
   },
   "outputs": [],
   "source": [
    "new_model = Model(layers[:-2])\n",
    "testing_plot = new_model(testing_data_x)"
   ]
  },
  {
   "cell_type": "code",
   "execution_count": 26,
   "id": "4c0a5485",
   "metadata": {
    "execution": {
     "iopub.execute_input": "2021-09-01T10:09:13.620446Z",
     "iopub.status.busy": "2021-09-01T10:09:13.617969Z",
     "iopub.status.idle": "2021-09-01T10:09:13.842935Z",
     "shell.execute_reply": "2021-09-01T10:09:13.842451Z"
    },
    "papermill": {
     "duration": 0.278479,
     "end_time": "2021-09-01T10:09:13.843056",
     "exception": false,
     "start_time": "2021-09-01T10:09:13.564577",
     "status": "completed"
    },
    "tags": []
   },
   "outputs": [
    {
     "data": {
      "text/plain": [
       "Text(0.5, 1.0, 'Outputs')"
      ]
     },
     "execution_count": 26,
     "metadata": {},
     "output_type": "execute_result"
    },
    {
     "data": {
      "image/png": "[encoded data removed]",
      "text/plain": [
       "<Figure size 576x504 with 1 Axes>"
      ]
     },
     "metadata": {
      "needs_background": "light"
     },
     "output_type": "display_data"
    }
   ],
   "source": [
    "# Plotting the scatter plot of points and color coding by class\n",
    "plt.figure(figsize=(8,7))\n",
    "plt.scatter(testing_plot[:,0], testing_plot[:,1], alpha = 0.1, c = y_test.ravel());\n",
    "plt.title('Outputs')"
   ]
  },
  {
   "cell_type": "markdown",
   "id": "a74fcf8f",
   "metadata": {
    "papermill": {
     "duration": 0.048123,
     "end_time": "2021-09-01T10:09:13.939446",
     "exception": false,
     "start_time": "2021-09-01T10:09:13.891323",
     "status": "completed"
    },
    "tags": []
   },
   "source": [
    "Probability contours"
   ]
  },
  {
   "cell_type": "code",
   "execution_count": 27,
   "id": "d0afc8e3",
   "metadata": {
    "execution": {
     "iopub.execute_input": "2021-09-01T10:09:14.041942Z",
     "iopub.status.busy": "2021-09-01T10:09:14.040923Z",
     "iopub.status.idle": "2021-09-01T10:09:14.051659Z",
     "shell.execute_reply": "2021-09-01T10:09:14.051053Z"
    },
    "papermill": {
     "duration": 0.064853,
     "end_time": "2021-09-01T10:09:14.051787",
     "exception": false,
     "start_time": "2021-09-01T10:09:13.986934",
     "status": "completed"
    },
    "tags": []
   },
   "outputs": [],
   "source": [
    "model_prob = Model(layers[-2:]) "
   ]
  },
  {
   "cell_type": "code",
   "execution_count": 28,
   "id": "9b96e238",
   "metadata": {
    "execution": {
     "iopub.execute_input": "2021-09-01T10:09:14.165199Z",
     "iopub.status.busy": "2021-09-01T10:09:14.163301Z",
     "iopub.status.idle": "2021-09-01T10:09:14.177685Z",
     "shell.execute_reply": "2021-09-01T10:09:14.177230Z"
    },
    "papermill": {
     "duration": 0.07589,
     "end_time": "2021-09-01T10:09:14.177808",
     "exception": false,
     "start_time": "2021-09-01T10:09:14.101918",
     "status": "completed"
    },
    "tags": []
   },
   "outputs": [],
   "source": [
    "#creating the x and y ranges according to the above generated plot.\n",
    "x_range = np.linspace(-4, 1, 100) \n",
    "y_range = np.linspace(-6, 6, 100) \n",
    "x_grid, y_grid = np.meshgrid(x_range, y_range) # x_grid and y_grig are of size 100 X 100\n",
    "\n",
    "# converting x_grid and y_grid to continuous arrays\n",
    "x_gridflat = np.ravel(x_grid)\n",
    "y_gridflat = np.ravel(y_grid)\n",
    "\n",
    "# The last layer of the current model takes two columns as input. Hence transpose of np.vstack() is required.\n",
    "X = np.vstack((x_gridflat, y_gridflat)).T\n",
    "\n",
    "prob_contour = model_prob(X).reshape(100,100) "
   ]
  },
  {
   "cell_type": "code",
   "execution_count": 29,
   "id": "da72499a",
   "metadata": {
    "execution": {
     "iopub.execute_input": "2021-09-01T10:09:14.325352Z",
     "iopub.status.busy": "2021-09-01T10:09:14.324754Z",
     "iopub.status.idle": "2021-09-01T10:09:14.618122Z",
     "shell.execute_reply": "2021-09-01T10:09:14.618752Z"
    },
    "papermill": {
     "duration": 0.357607,
     "end_time": "2021-09-01T10:09:14.618920",
     "exception": false,
     "start_time": "2021-09-01T10:09:14.261313",
     "status": "completed"
    },
    "tags": []
   },
   "outputs": [
    {
     "data": {
      "image/png": "[encoded data removed]",
      "text/plain": [
       "<Figure size 720x648 with 1 Axes>"
      ]
     },
     "metadata": {
      "needs_background": "light"
     },
     "output_type": "display_data"
    }
   ],
   "source": [
    "plt.figure(figsize=(10,9))\n",
    "plt.scatter(testing_plot[:,0], testing_plot[:,1], alpha = 0.1, c = y_test.ravel())\n",
    "contours = plt.contour(x_grid,y_grid,prob_contour)\n",
    "plt.title('Probability Contours')\n",
    "plt.clabel(contours, inline = True );"
   ]
  },
  {
   "cell_type": "code",
   "execution_count": null,
   "id": "e81b4ac7",
   "metadata": {
    "papermill": {
     "duration": 0.062116,
     "end_time": "2021-09-01T10:09:14.735038",
     "exception": false,
     "start_time": "2021-09-01T10:09:14.672922",
     "status": "completed"
    },
    "tags": []
   },
   "outputs": [],
   "source": []
  }
 ],
 "metadata": {
  "kernelspec": {
   "display_name": "Python 3",
   "language": "python",
   "name": "python3"
  },
  "language_info": {
   "codemirror_mode": {
    "name": "ipython",
    "version": 3
   },
   "file_extension": ".py",
   "mimetype": "text/x-python",
   "name": "python",
   "nbconvert_exporter": "python",
   "pygments_lexer": "ipython3",
   "version": "3.6.14"
  },
  "papermill": {
   "default_parameters": {},
   "duration": 110.018599,
   "end_time": "2021-09-01T10:09:15.197829",
   "environment_variables": {},
   "exception": null,
   "input_path": "2020-08-11-part2.ipynb",
   "output_path": "2020-08-11-part2.ipynb",
   "parameters": {},
   "start_time": "2021-09-01T10:07:25.179230",
   "version": "2.3.3"
  }
 },
 "nbformat": 4,
 "nbformat_minor": 5
}