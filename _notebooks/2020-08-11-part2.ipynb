{
 "cells": [
  {
   "cell_type": "markdown",
   "id": "98380cd3",
   "metadata": {
    "papermill": {
     "duration": 0.028421,
     "end_time": "2021-11-29T10:08:08.301534",
     "exception": false,
     "start_time": "2021-11-29T10:08:08.273113",
     "status": "completed"
    },
    "tags": []
   },
   "source": [
    "# Distinguish Your Own Digits (DYOD)"
   ]
  },
  {
   "cell_type": "markdown",
   "id": "ef31240d",
   "metadata": {
    "papermill": {
     "duration": 0.025237,
     "end_time": "2021-11-29T10:08:08.352543",
     "exception": false,
     "start_time": "2021-11-29T10:08:08.327306",
     "status": "completed"
    },
    "tags": []
   },
   "source": [
    "You are going to write a classifier that distinguishes between the number 3 and number 8."
   ]
  },
  {
   "cell_type": "code",
   "execution_count": 1,
   "id": "b15c8646",
   "metadata": {
    "execution": {
     "iopub.execute_input": "2021-11-29T10:08:08.413092Z",
     "iopub.status.busy": "2021-11-29T10:08:08.412513Z",
     "iopub.status.idle": "2021-11-29T10:08:08.424340Z",
     "shell.execute_reply": "2021-11-29T10:08:08.423817Z"
    },
    "papermill": {
     "duration": 0.048216,
     "end_time": "2021-11-29T10:08:08.424484",
     "exception": false,
     "start_time": "2021-11-29T10:08:08.376268",
     "status": "completed"
    },
    "tags": []
   },
   "outputs": [],
   "source": [
    "%load_ext autoreload\n",
    "%autoreload 2"
   ]
  },
  {
   "cell_type": "code",
   "execution_count": 2,
   "id": "22ef38dc",
   "metadata": {
    "execution": {
     "iopub.execute_input": "2021-11-29T10:08:08.473773Z",
     "iopub.status.busy": "2021-11-29T10:08:08.473231Z",
     "iopub.status.idle": "2021-11-29T10:08:09.057530Z",
     "shell.execute_reply": "2021-11-29T10:08:09.056595Z"
    },
    "papermill": {
     "duration": 0.611802,
     "end_time": "2021-11-29T10:08:09.057683",
     "exception": false,
     "start_time": "2021-11-29T10:08:08.445881",
     "status": "completed"
    },
    "tags": []
   },
   "outputs": [],
   "source": [
    "%matplotlib inline\n",
    "import numpy as np\n",
    "import matplotlib.pyplot as plt\n",
    "import pandas as pd"
   ]
  },
  {
   "cell_type": "markdown",
   "id": "ba036198",
   "metadata": {
    "papermill": {
     "duration": 0.024606,
     "end_time": "2021-11-29T10:08:09.106993",
     "exception": false,
     "start_time": "2021-11-29T10:08:09.082387",
     "status": "completed"
    },
    "tags": []
   },
   "source": [
    "From the command line run `pip install mnist`. This is a library that will help you bring down the mnist dataset. If you run this from a notebook, you need to put  `!pip install mnist` in a cell by itself."
   ]
  },
  {
   "cell_type": "code",
   "execution_count": 3,
   "id": "bb6ad8a1",
   "metadata": {
    "execution": {
     "iopub.execute_input": "2021-11-29T10:08:09.156344Z",
     "iopub.status.busy": "2021-11-29T10:08:09.155118Z",
     "iopub.status.idle": "2021-11-29T10:08:10.855453Z",
     "shell.execute_reply": "2021-11-29T10:08:10.854953Z"
    },
    "papermill": {
     "duration": 1.726541,
     "end_time": "2021-11-29T10:08:10.855586",
     "exception": false,
     "start_time": "2021-11-29T10:08:09.129045",
     "status": "completed"
    },
    "tags": []
   },
   "outputs": [
    {
     "name": "stdout",
     "output_type": "stream",
     "text": [
      "Collecting mnist\r\n"
     ]
    },
    {
     "name": "stdout",
     "output_type": "stream",
     "text": [
      "  Downloading mnist-0.2.2-py2.py3-none-any.whl (3.5 kB)\r\n",
      "Requirement already satisfied: numpy in /opt/hostedtoolcache/Python/3.6.15/x64/lib/python3.6/site-packages (from mnist) (1.19.5)\r\n"
     ]
    },
    {
     "name": "stdout",
     "output_type": "stream",
     "text": [
      "Installing collected packages: mnist\r\n",
      "Successfully installed mnist-0.2.2\r\n"
     ]
    }
   ],
   "source": [
    "!pip install mnist"
   ]
  },
  {
   "cell_type": "markdown",
   "id": "69df9c9a",
   "metadata": {
    "papermill": {
     "duration": 0.025733,
     "end_time": "2021-11-29T10:08:10.905302",
     "exception": false,
     "start_time": "2021-11-29T10:08:10.879569",
     "status": "completed"
    },
    "tags": []
   },
   "source": [
    "## Preparing the Data"
   ]
  },
  {
   "cell_type": "code",
   "execution_count": 4,
   "id": "7f69d806",
   "metadata": {
    "execution": {
     "iopub.execute_input": "2021-11-29T10:08:10.961123Z",
     "iopub.status.busy": "2021-11-29T10:08:10.959761Z",
     "iopub.status.idle": "2021-11-29T10:08:10.976963Z",
     "shell.execute_reply": "2021-11-29T10:08:10.976460Z"
    },
    "papermill": {
     "duration": 0.047035,
     "end_time": "2021-11-29T10:08:10.977092",
     "exception": false,
     "start_time": "2021-11-29T10:08:10.930057",
     "status": "completed"
    },
    "tags": []
   },
   "outputs": [],
   "source": [
    "import mnist"
   ]
  },
  {
   "cell_type": "code",
   "execution_count": 5,
   "id": "a411e44f",
   "metadata": {
    "execution": {
     "iopub.execute_input": "2021-11-29T10:08:11.035209Z",
     "iopub.status.busy": "2021-11-29T10:08:11.034116Z",
     "iopub.status.idle": "2021-11-29T10:08:11.605816Z",
     "shell.execute_reply": "2021-11-29T10:08:11.605157Z"
    },
    "papermill": {
     "duration": 0.601339,
     "end_time": "2021-11-29T10:08:11.605999",
     "exception": false,
     "start_time": "2021-11-29T10:08:11.004660",
     "status": "completed"
    },
    "tags": []
   },
   "outputs": [],
   "source": [
    "train_images = mnist.train_images()\n",
    "train_labels = mnist.train_labels()"
   ]
  },
  {
   "cell_type": "code",
   "execution_count": 6,
   "id": "dceab3a5",
   "metadata": {
    "execution": {
     "iopub.execute_input": "2021-11-29T10:08:11.660067Z",
     "iopub.status.busy": "2021-11-29T10:08:11.659482Z",
     "iopub.status.idle": "2021-11-29T10:08:11.678698Z",
     "shell.execute_reply": "2021-11-29T10:08:11.678196Z"
    },
    "papermill": {
     "duration": 0.047643,
     "end_time": "2021-11-29T10:08:11.678835",
     "exception": false,
     "start_time": "2021-11-29T10:08:11.631192",
     "status": "completed"
    },
    "tags": []
   },
   "outputs": [
    {
     "data": {
      "text/plain": [
       "((60000, 28, 28), (60000,))"
      ]
     },
     "execution_count": 6,
     "metadata": {},
     "output_type": "execute_result"
    }
   ],
   "source": [
    "train_images.shape, train_labels.shape"
   ]
  },
  {
   "cell_type": "code",
   "execution_count": 7,
   "id": "f50dc2bb",
   "metadata": {
    "execution": {
     "iopub.execute_input": "2021-11-29T10:08:11.734362Z",
     "iopub.status.busy": "2021-11-29T10:08:11.733739Z",
     "iopub.status.idle": "2021-11-29T10:08:11.895921Z",
     "shell.execute_reply": "2021-11-29T10:08:11.895035Z"
    },
    "papermill": {
     "duration": 0.192477,
     "end_time": "2021-11-29T10:08:11.896151",
     "exception": false,
     "start_time": "2021-11-29T10:08:11.703674",
     "status": "completed"
    },
    "tags": []
   },
   "outputs": [],
   "source": [
    "test_images = mnist.test_images()\n",
    "test_labels = mnist.test_labels()"
   ]
  },
  {
   "cell_type": "code",
   "execution_count": 8,
   "id": "fc38cf1b",
   "metadata": {
    "execution": {
     "iopub.execute_input": "2021-11-29T10:08:11.959540Z",
     "iopub.status.busy": "2021-11-29T10:08:11.959030Z",
     "iopub.status.idle": "2021-11-29T10:08:11.971228Z",
     "shell.execute_reply": "2021-11-29T10:08:11.970781Z"
    },
    "papermill": {
     "duration": 0.04765,
     "end_time": "2021-11-29T10:08:11.971352",
     "exception": false,
     "start_time": "2021-11-29T10:08:11.923702",
     "status": "completed"
    },
    "tags": []
   },
   "outputs": [
    {
     "data": {
      "text/plain": [
       "((10000, 28, 28), (10000,))"
      ]
     },
     "execution_count": 8,
     "metadata": {},
     "output_type": "execute_result"
    }
   ],
   "source": [
    "test_images.shape, test_labels.shape"
   ]
  },
  {
   "cell_type": "code",
   "execution_count": 9,
   "id": "f9ed8fe0",
   "metadata": {
    "execution": {
     "iopub.execute_input": "2021-11-29T10:08:12.025164Z",
     "iopub.status.busy": "2021-11-29T10:08:12.024617Z",
     "iopub.status.idle": "2021-11-29T10:08:12.170699Z",
     "shell.execute_reply": "2021-11-29T10:08:12.170131Z"
    },
    "papermill": {
     "duration": 0.175199,
     "end_time": "2021-11-29T10:08:12.170843",
     "exception": false,
     "start_time": "2021-11-29T10:08:11.995644",
     "status": "completed"
    },
    "tags": []
   },
   "outputs": [
    {
     "name": "stdout",
     "output_type": "stream",
     "text": [
      "2\n"
     ]
    },
    {
     "data": {
      "text/plain": [
       "<matplotlib.image.AxesImage at 0x7f78de8964e0>"
      ]
     },
     "execution_count": 9,
     "metadata": {},
     "output_type": "execute_result"
    },
    {
     "data": {
      "image/png": "[encoded data removed]",
      "text/plain": [
       "<Figure size 432x288 with 1 Axes>"
      ]
     },
     "metadata": {
      "needs_background": "light"
     },
     "output_type": "display_data"
    }
   ],
   "source": [
    "image_index = 7776 # You may select anything up to 60,000\n",
    "print(train_labels[image_index]) \n",
    "plt.imshow(train_images[image_index], cmap='Greys')"
   ]
  },
  {
   "cell_type": "markdown",
   "id": "a8d2388d",
   "metadata": {
    "papermill": {
     "duration": 0.026686,
     "end_time": "2021-11-29T10:08:12.223881",
     "exception": false,
     "start_time": "2021-11-29T10:08:12.197195",
     "status": "completed"
    },
    "tags": []
   },
   "source": [
    "## Filter data to get 3 and 8 out"
   ]
  },
  {
   "cell_type": "code",
   "execution_count": 10,
   "id": "776f7fc7",
   "metadata": {
    "execution": {
     "iopub.execute_input": "2021-11-29T10:08:12.282451Z",
     "iopub.status.busy": "2021-11-29T10:08:12.281322Z",
     "iopub.status.idle": "2021-11-29T10:08:12.303198Z",
     "shell.execute_reply": "2021-11-29T10:08:12.302249Z"
    },
    "papermill": {
     "duration": 0.053125,
     "end_time": "2021-11-29T10:08:12.303338",
     "exception": false,
     "start_time": "2021-11-29T10:08:12.250213",
     "status": "completed"
    },
    "tags": []
   },
   "outputs": [],
   "source": [
    "train_filter = np.where((train_labels == 3 ) | (train_labels == 8))\n",
    "test_filter = np.where((test_labels == 3) | (test_labels == 8))\n",
    "X_train, y_train = train_images[train_filter], train_labels[train_filter]\n",
    "X_test, y_test = test_images[test_filter], test_labels[test_filter]"
   ]
  },
  {
   "cell_type": "markdown",
   "id": "948f0b7e",
   "metadata": {
    "papermill": {
     "duration": 0.02535,
     "end_time": "2021-11-29T10:08:12.356112",
     "exception": false,
     "start_time": "2021-11-29T10:08:12.330762",
     "status": "completed"
    },
    "tags": []
   },
   "source": [
    "We normalize the pizel values in the 0 to 1 range"
   ]
  },
  {
   "cell_type": "code",
   "execution_count": 11,
   "id": "ee4c2166",
   "metadata": {
    "execution": {
     "iopub.execute_input": "2021-11-29T10:08:12.418428Z",
     "iopub.status.busy": "2021-11-29T10:08:12.412016Z",
     "iopub.status.idle": "2021-11-29T10:08:12.468252Z",
     "shell.execute_reply": "2021-11-29T10:08:12.467536Z"
    },
    "papermill": {
     "duration": 0.08602,
     "end_time": "2021-11-29T10:08:12.468385",
     "exception": false,
     "start_time": "2021-11-29T10:08:12.382365",
     "status": "completed"
    },
    "tags": []
   },
   "outputs": [],
   "source": [
    "X_train = X_train/255.\n",
    "X_test = X_test/255."
   ]
  },
  {
   "cell_type": "markdown",
   "id": "ddcf4fab",
   "metadata": {
    "papermill": {
     "duration": 0.025589,
     "end_time": "2021-11-29T10:08:12.520303",
     "exception": false,
     "start_time": "2021-11-29T10:08:12.494714",
     "status": "completed"
    },
    "tags": []
   },
   "source": [
    "And setup the labels as 1 (when the digit is 3) and 0 (when the digit is 8)"
   ]
  },
  {
   "cell_type": "code",
   "execution_count": 12,
   "id": "7dc908f2",
   "metadata": {
    "execution": {
     "iopub.execute_input": "2021-11-29T10:08:12.578634Z",
     "iopub.status.busy": "2021-11-29T10:08:12.576810Z",
     "iopub.status.idle": "2021-11-29T10:08:12.589125Z",
     "shell.execute_reply": "2021-11-29T10:08:12.588652Z"
    },
    "papermill": {
     "duration": 0.045319,
     "end_time": "2021-11-29T10:08:12.589258",
     "exception": false,
     "start_time": "2021-11-29T10:08:12.543939",
     "status": "completed"
    },
    "tags": []
   },
   "outputs": [],
   "source": [
    "y_train = 1*(y_train==3)\n",
    "y_test = 1*(y_test==3)"
   ]
  },
  {
   "cell_type": "code",
   "execution_count": 13,
   "id": "01e4e969",
   "metadata": {
    "execution": {
     "iopub.execute_input": "2021-11-29T10:08:12.643027Z",
     "iopub.status.busy": "2021-11-29T10:08:12.642537Z",
     "iopub.status.idle": "2021-11-29T10:08:12.655785Z",
     "shell.execute_reply": "2021-11-29T10:08:12.656177Z"
    },
    "papermill": {
     "duration": 0.041738,
     "end_time": "2021-11-29T10:08:12.656312",
     "exception": false,
     "start_time": "2021-11-29T10:08:12.614574",
     "status": "completed"
    },
    "tags": []
   },
   "outputs": [
    {
     "data": {
      "text/plain": [
       "((11982, 28, 28), (1984, 28, 28))"
      ]
     },
     "execution_count": 13,
     "metadata": {},
     "output_type": "execute_result"
    }
   ],
   "source": [
    "X_train.shape, X_test.shape"
   ]
  },
  {
   "cell_type": "markdown",
   "id": "5ccf3f85",
   "metadata": {
    "papermill": {
     "duration": 0.024972,
     "end_time": "2021-11-29T10:08:12.706246",
     "exception": false,
     "start_time": "2021-11-29T10:08:12.681274",
     "status": "completed"
    },
    "tags": []
   },
   "source": [
    "We reshape the data to flatten the image pixels into a set of features or co-variates:"
   ]
  },
  {
   "cell_type": "code",
   "execution_count": 14,
   "id": "5286a4a3",
   "metadata": {
    "execution": {
     "iopub.execute_input": "2021-11-29T10:08:12.766239Z",
     "iopub.status.busy": "2021-11-29T10:08:12.764776Z",
     "iopub.status.idle": "2021-11-29T10:08:12.778314Z",
     "shell.execute_reply": "2021-11-29T10:08:12.778742Z"
    },
    "papermill": {
     "duration": 0.046895,
     "end_time": "2021-11-29T10:08:12.778882",
     "exception": false,
     "start_time": "2021-11-29T10:08:12.731987",
     "status": "completed"
    },
    "tags": []
   },
   "outputs": [
    {
     "data": {
      "text/plain": [
       "((11982, 784), (1984, 784))"
      ]
     },
     "execution_count": 14,
     "metadata": {},
     "output_type": "execute_result"
    }
   ],
   "source": [
    "X_train = X_train.reshape(X_train.shape[0], -1)\n",
    "X_test = X_test.reshape(X_test.shape[0], -1)\n",
    "X_train.shape, X_test.shape"
   ]
  },
  {
   "cell_type": "code",
   "execution_count": 15,
   "id": "73c5f88a",
   "metadata": {
    "execution": {
     "iopub.execute_input": "2021-11-29T10:08:12.840530Z",
     "iopub.status.busy": "2021-11-29T10:08:12.839959Z",
     "iopub.status.idle": "2021-11-29T10:08:12.859890Z",
     "shell.execute_reply": "2021-11-29T10:08:12.859402Z"
    },
    "papermill": {
     "duration": 0.052436,
     "end_time": "2021-11-29T10:08:12.860008",
     "exception": false,
     "start_time": "2021-11-29T10:08:12.807572",
     "status": "completed"
    },
    "tags": []
   },
   "outputs": [],
   "source": [
    "#Impoting functions from 'Kudzu'\n",
    "from kudzu.model import Model\n",
    "from kudzu.train import Learner\n",
    "from kudzu.optim import GD\n",
    "from kudzu.data import Data, Sampler,Dataloader\n",
    "\n",
    "from kudzu.callbacks import AccCallback\n",
    "from kudzu.callbacks import ClfCallback\n",
    "\n",
    "from kudzu.loss import MSE\n",
    "\n",
    "from kudzu.layer import Sigmoid,Relu\n",
    "from kudzu.layer import Affine"
   ]
  },
  {
   "cell_type": "markdown",
   "id": "bc01172a",
   "metadata": {
    "papermill": {
     "duration": 0.027153,
     "end_time": "2021-11-29T10:08:12.915070",
     "exception": false,
     "start_time": "2021-11-29T10:08:12.887917",
     "status": "completed"
    },
    "tags": []
   },
   "source": [
    "### Let us create a `Config` class, to store important parameters. \n",
    "This class essentially plays the role of a dictionary."
   ]
  },
  {
   "cell_type": "code",
   "execution_count": 16,
   "id": "978281aa",
   "metadata": {
    "execution": {
     "iopub.execute_input": "2021-11-29T10:08:12.969497Z",
     "iopub.status.busy": "2021-11-29T10:08:12.968921Z",
     "iopub.status.idle": "2021-11-29T10:08:12.984603Z",
     "shell.execute_reply": "2021-11-29T10:08:12.985058Z"
    },
    "papermill": {
     "duration": 0.044782,
     "end_time": "2021-11-29T10:08:12.985209",
     "exception": false,
     "start_time": "2021-11-29T10:08:12.940427",
     "status": "completed"
    },
    "tags": []
   },
   "outputs": [],
   "source": [
    "class Config:\n",
    "    pass\n",
    "config = Config()\n",
    "config.lr = 0.001\n",
    "config.num_epochs = 250\n",
    "config.bs = 50"
   ]
  },
  {
   "cell_type": "markdown",
   "id": "1385fa59",
   "metadata": {
    "papermill": {
     "duration": 0.024829,
     "end_time": "2021-11-29T10:08:13.036623",
     "exception": false,
     "start_time": "2021-11-29T10:08:13.011794",
     "status": "completed"
    },
    "tags": []
   },
   "source": [
    "### Running Models with the Training data\n",
    "Details about the network layers:\n",
    "- A first affine layer has 784 inputs and does 100 affine transforms. These are followed by a Relu\n",
    "- A second affine layer has 100 inputs from the 100 activations of the past layer, and does 100 affine transforms. These are followed by a Relu\n",
    "- A third affine layer has 100 activations and does 2 affine transformations to create an embedding for visualization. There is no non-linearity here.\n",
    "- A final \"logistic regression\" which has an affine transform from 2 inputs to 1 output, which is squeezed through a sigmoid.\n"
   ]
  },
  {
   "cell_type": "code",
   "execution_count": 17,
   "id": "2b9c66db",
   "metadata": {
    "execution": {
     "iopub.execute_input": "2021-11-29T10:08:13.092904Z",
     "iopub.status.busy": "2021-11-29T10:08:13.092338Z",
     "iopub.status.idle": "2021-11-29T10:08:13.106874Z",
     "shell.execute_reply": "2021-11-29T10:08:13.105854Z"
    },
    "papermill": {
     "duration": 0.044237,
     "end_time": "2021-11-29T10:08:13.107000",
     "exception": false,
     "start_time": "2021-11-29T10:08:13.062763",
     "status": "completed"
    },
    "tags": []
   },
   "outputs": [],
   "source": [
    "data = Data(X_train, y_train.reshape(-1,1))\n",
    "sampler = Sampler(data, config.bs, shuffle=True)\n",
    "\n",
    "dl = Dataloader(data, sampler)\n",
    "\n",
    "opt = GD(config.lr)\n",
    "loss = MSE()"
   ]
  },
  {
   "cell_type": "code",
   "execution_count": 18,
   "id": "b275e4c2",
   "metadata": {
    "execution": {
     "iopub.execute_input": "2021-11-29T10:08:13.163897Z",
     "iopub.status.busy": "2021-11-29T10:08:13.163395Z",
     "iopub.status.idle": "2021-11-29T10:08:13.178279Z",
     "shell.execute_reply": "2021-11-29T10:08:13.177851Z"
    },
    "papermill": {
     "duration": 0.045141,
     "end_time": "2021-11-29T10:08:13.178393",
     "exception": false,
     "start_time": "2021-11-29T10:08:13.133252",
     "status": "completed"
    },
    "tags": []
   },
   "outputs": [],
   "source": [
    "training_data_x = X_train\n",
    "testing_data_x = X_test\n",
    "training_data_y = y_train.reshape(-1,1)\n",
    "testing_data_y = y_test.reshape(-1,1)"
   ]
  },
  {
   "cell_type": "code",
   "execution_count": 19,
   "id": "76951160",
   "metadata": {
    "execution": {
     "iopub.execute_input": "2021-11-29T10:08:13.235189Z",
     "iopub.status.busy": "2021-11-29T10:08:13.234614Z",
     "iopub.status.idle": "2021-11-29T10:08:13.250232Z",
     "shell.execute_reply": "2021-11-29T10:08:13.250687Z"
    },
    "papermill": {
     "duration": 0.045005,
     "end_time": "2021-11-29T10:08:13.250825",
     "exception": false,
     "start_time": "2021-11-29T10:08:13.205820",
     "status": "completed"
    },
    "tags": []
   },
   "outputs": [
    {
     "name": "stdout",
     "output_type": "stream",
     "text": [
      "xavier\n",
      "xavier\n",
      "xavier\n",
      "xavier\n",
      "xavier\n"
     ]
    }
   ],
   "source": [
    "layers = [Affine(\"first\", 784, 100), Relu(\"first\"), Affine(\"second\", 100, 100), Relu(\"second\"), Affine(\"third\", 100, 2), Affine(\"last\", 2, 1), Sigmoid(\"last\")]\n",
    "model_nn = Model(layers)\n",
    "model_lr = Model([Affine(\"logits\", 784, 1), Sigmoid(\"sigmoid\")])"
   ]
  },
  {
   "cell_type": "code",
   "execution_count": 20,
   "id": "6eede77a",
   "metadata": {
    "execution": {
     "iopub.execute_input": "2021-11-29T10:08:13.307149Z",
     "iopub.status.busy": "2021-11-29T10:08:13.306611Z",
     "iopub.status.idle": "2021-11-29T10:08:13.321869Z",
     "shell.execute_reply": "2021-11-29T10:08:13.321456Z"
    },
    "papermill": {
     "duration": 0.046111,
     "end_time": "2021-11-29T10:08:13.321972",
     "exception": false,
     "start_time": "2021-11-29T10:08:13.275861",
     "status": "completed"
    },
    "tags": []
   },
   "outputs": [],
   "source": [
    "nn_learner = Learner(loss, model_nn, opt, config.num_epochs)\n",
    "acc_nn = ClfCallback(nn_learner, config.bs, training_data_x , testing_data_x, training_data_y, testing_data_y)\n",
    "nn_learner.set_callbacks([acc_nn])"
   ]
  },
  {
   "cell_type": "code",
   "execution_count": 21,
   "id": "877b6cc7",
   "metadata": {
    "execution": {
     "iopub.execute_input": "2021-11-29T10:08:13.380582Z",
     "iopub.status.busy": "2021-11-29T10:08:13.379990Z",
     "iopub.status.idle": "2021-11-29T10:08:13.393365Z",
     "shell.execute_reply": "2021-11-29T10:08:13.392893Z"
    },
    "papermill": {
     "duration": 0.044896,
     "end_time": "2021-11-29T10:08:13.393487",
     "exception": false,
     "start_time": "2021-11-29T10:08:13.348591",
     "status": "completed"
    },
    "tags": []
   },
   "outputs": [],
   "source": [
    "lr_learner = Learner(loss, model_lr, opt, config.num_epochs)\n",
    "acc_lr = ClfCallback(lr_learner, config.bs, training_data_x , testing_data_x, training_data_y, testing_data_y)\n",
    "lr_learner.set_callbacks([acc_lr])"
   ]
  },
  {
   "cell_type": "code",
   "execution_count": 22,
   "id": "d9b133c3",
   "metadata": {
    "execution": {
     "iopub.execute_input": "2021-11-29T10:08:13.450189Z",
     "iopub.status.busy": "2021-11-29T10:08:13.449589Z",
     "iopub.status.idle": "2021-11-29T10:09:34.670036Z",
     "shell.execute_reply": "2021-11-29T10:09:34.670858Z"
    },
    "papermill": {
     "duration": 81.250726,
     "end_time": "2021-11-29T10:09:34.671006",
     "exception": false,
     "start_time": "2021-11-29T10:08:13.420280",
     "status": "completed"
    },
    "tags": []
   },
   "outputs": [
    {
     "name": "stdout",
     "output_type": "stream",
     "text": [
      "Epoch 0, Loss 0.2451\n",
      "Training Accuracy: 0.5848, Testing Accuracy: 0.5847\n",
      "\n"
     ]
    },
    {
     "name": "stdout",
     "output_type": "stream",
     "text": [
      "Epoch 10, Loss 0.1079\n",
      "Training Accuracy: 0.9068, Testing Accuracy: 0.9219\n",
      "\n"
     ]
    },
    {
     "name": "stdout",
     "output_type": "stream",
     "text": [
      "Epoch 20, Loss 0.0609\n",
      "Training Accuracy: 0.9380, Testing Accuracy: 0.9572\n",
      "\n"
     ]
    },
    {
     "name": "stdout",
     "output_type": "stream",
     "text": [
      "Epoch 30, Loss 0.0463\n",
      "Training Accuracy: 0.9512, Testing Accuracy: 0.9627\n",
      "\n"
     ]
    },
    {
     "name": "stdout",
     "output_type": "stream",
     "text": [
      "Epoch 40, Loss 0.0397\n",
      "Training Accuracy: 0.9559, Testing Accuracy: 0.9632\n",
      "\n"
     ]
    },
    {
     "name": "stdout",
     "output_type": "stream",
     "text": [
      "Epoch 50, Loss 0.0359\n",
      "Training Accuracy: 0.9597, Testing Accuracy: 0.9652\n",
      "\n"
     ]
    },
    {
     "name": "stdout",
     "output_type": "stream",
     "text": [
      "Epoch 60, Loss 0.0334\n",
      "Training Accuracy: 0.9623, Testing Accuracy: 0.9657\n",
      "\n"
     ]
    },
    {
     "name": "stdout",
     "output_type": "stream",
     "text": [
      "Epoch 70, Loss 0.0315\n",
      "Training Accuracy: 0.9639, Testing Accuracy: 0.9667\n",
      "\n"
     ]
    },
    {
     "name": "stdout",
     "output_type": "stream",
     "text": [
      "Epoch 80, Loss 0.0301\n",
      "Training Accuracy: 0.9650, Testing Accuracy: 0.9682\n",
      "\n"
     ]
    },
    {
     "name": "stdout",
     "output_type": "stream",
     "text": [
      "Epoch 90, Loss 0.0289\n",
      "Training Accuracy: 0.9663, Testing Accuracy: 0.9682\n",
      "\n"
     ]
    },
    {
     "name": "stdout",
     "output_type": "stream",
     "text": [
      "Epoch 100, Loss 0.028\n",
      "Training Accuracy: 0.9671, Testing Accuracy: 0.9688\n",
      "\n"
     ]
    },
    {
     "name": "stdout",
     "output_type": "stream",
     "text": [
      "Epoch 110, Loss 0.0271\n",
      "Training Accuracy: 0.9681, Testing Accuracy: 0.9677\n",
      "\n"
     ]
    },
    {
     "name": "stdout",
     "output_type": "stream",
     "text": [
      "Epoch 120, Loss 0.0264\n",
      "Training Accuracy: 0.9690, Testing Accuracy: 0.9677\n",
      "\n"
     ]
    },
    {
     "name": "stdout",
     "output_type": "stream",
     "text": [
      "Epoch 130, Loss 0.0258\n",
      "Training Accuracy: 0.9701, Testing Accuracy: 0.9688\n",
      "\n"
     ]
    },
    {
     "name": "stdout",
     "output_type": "stream",
     "text": [
      "Epoch 140, Loss 0.0252\n",
      "Training Accuracy: 0.9705, Testing Accuracy: 0.9688\n",
      "\n"
     ]
    },
    {
     "name": "stdout",
     "output_type": "stream",
     "text": [
      "Epoch 150, Loss 0.0246\n",
      "Training Accuracy: 0.9710, Testing Accuracy: 0.9682\n",
      "\n"
     ]
    },
    {
     "name": "stdout",
     "output_type": "stream",
     "text": [
      "Epoch 160, Loss 0.0241\n",
      "Training Accuracy: 0.9724, Testing Accuracy: 0.9693\n",
      "\n"
     ]
    },
    {
     "name": "stdout",
     "output_type": "stream",
     "text": [
      "Epoch 170, Loss 0.0236\n",
      "Training Accuracy: 0.9729, Testing Accuracy: 0.9693\n",
      "\n"
     ]
    },
    {
     "name": "stdout",
     "output_type": "stream",
     "text": [
      "Epoch 180, Loss 0.0232\n",
      "Training Accuracy: 0.9733, Testing Accuracy: 0.9698\n",
      "\n"
     ]
    },
    {
     "name": "stdout",
     "output_type": "stream",
     "text": [
      "Epoch 190, Loss 0.0227\n",
      "Training Accuracy: 0.9738, Testing Accuracy: 0.9693\n",
      "\n"
     ]
    },
    {
     "name": "stdout",
     "output_type": "stream",
     "text": [
      "Epoch 200, Loss 0.0223\n",
      "Training Accuracy: 0.9749, Testing Accuracy: 0.9703\n",
      "\n"
     ]
    },
    {
     "name": "stdout",
     "output_type": "stream",
     "text": [
      "Epoch 210, Loss 0.0219\n",
      "Training Accuracy: 0.9750, Testing Accuracy: 0.9693\n",
      "\n"
     ]
    },
    {
     "name": "stdout",
     "output_type": "stream",
     "text": [
      "Epoch 220, Loss 0.0216\n",
      "Training Accuracy: 0.9758, Testing Accuracy: 0.9708\n",
      "\n"
     ]
    },
    {
     "name": "stdout",
     "output_type": "stream",
     "text": [
      "Epoch 230, Loss 0.0212\n",
      "Training Accuracy: 0.9762, Testing Accuracy: 0.9713\n",
      "\n"
     ]
    },
    {
     "name": "stdout",
     "output_type": "stream",
     "text": [
      "Epoch 240, Loss 0.0209\n",
      "Training Accuracy: 0.9767, Testing Accuracy: 0.9713\n",
      "\n"
     ]
    },
    {
     "data": {
      "text/plain": [
       "0.02921410715675298"
      ]
     },
     "execution_count": 22,
     "metadata": {},
     "output_type": "execute_result"
    }
   ],
   "source": [
    "nn_learner.train_loop(dl)"
   ]
  },
  {
   "cell_type": "code",
   "execution_count": 23,
   "id": "e0163366",
   "metadata": {
    "execution": {
     "iopub.execute_input": "2021-11-29T10:09:34.747819Z",
     "iopub.status.busy": "2021-11-29T10:09:34.747322Z",
     "iopub.status.idle": "2021-11-29T10:09:48.975456Z",
     "shell.execute_reply": "2021-11-29T10:09:48.976242Z"
    },
    "papermill": {
     "duration": 14.271961,
     "end_time": "2021-11-29T10:09:48.976408",
     "exception": false,
     "start_time": "2021-11-29T10:09:34.704447",
     "status": "completed"
    },
    "tags": []
   },
   "outputs": [
    {
     "name": "stdout",
     "output_type": "stream",
     "text": [
      "Epoch 0, Loss 0.2509\n",
      "Training Accuracy: 0.6486, Testing Accuracy: 0.6764\n",
      "\n"
     ]
    },
    {
     "name": "stdout",
     "output_type": "stream",
     "text": [
      "Epoch 10, Loss 0.1051\n",
      "Training Accuracy: 0.9055, Testing Accuracy: 0.9163\n",
      "\n"
     ]
    },
    {
     "name": "stdout",
     "output_type": "stream",
     "text": [
      "Epoch 20, Loss 0.0799\n",
      "Training Accuracy: 0.9261, Testing Accuracy: 0.9400\n",
      "\n"
     ]
    },
    {
     "name": "stdout",
     "output_type": "stream",
     "text": [
      "Epoch 30, Loss 0.0685\n",
      "Training Accuracy: 0.9343, Testing Accuracy: 0.9491\n",
      "\n"
     ]
    },
    {
     "name": "stdout",
     "output_type": "stream",
     "text": [
      "Epoch 40, Loss 0.0617\n",
      "Training Accuracy: 0.9405, Testing Accuracy: 0.9511\n",
      "\n"
     ]
    },
    {
     "name": "stdout",
     "output_type": "stream",
     "text": [
      "Epoch 50, Loss 0.0571\n",
      "Training Accuracy: 0.9444, Testing Accuracy: 0.9541\n",
      "\n"
     ]
    },
    {
     "name": "stdout",
     "output_type": "stream",
     "text": [
      "Epoch 60, Loss 0.0538\n",
      "Training Accuracy: 0.9468, Testing Accuracy: 0.9572\n",
      "\n"
     ]
    },
    {
     "name": "stdout",
     "output_type": "stream",
     "text": [
      "Epoch 70, Loss 0.0512\n",
      "Training Accuracy: 0.9487, Testing Accuracy: 0.9592\n",
      "\n"
     ]
    },
    {
     "name": "stdout",
     "output_type": "stream",
     "text": [
      "Epoch 80, Loss 0.0491\n",
      "Training Accuracy: 0.9506, Testing Accuracy: 0.9607\n",
      "\n"
     ]
    },
    {
     "name": "stdout",
     "output_type": "stream",
     "text": [
      "Epoch 90, Loss 0.0474\n",
      "Training Accuracy: 0.9522, Testing Accuracy: 0.9617\n",
      "\n"
     ]
    },
    {
     "name": "stdout",
     "output_type": "stream",
     "text": [
      "Epoch 100, Loss 0.046\n",
      "Training Accuracy: 0.9537, Testing Accuracy: 0.9622\n",
      "\n"
     ]
    },
    {
     "name": "stdout",
     "output_type": "stream",
     "text": [
      "Epoch 110, Loss 0.0448\n",
      "Training Accuracy: 0.9546, Testing Accuracy: 0.9632\n",
      "\n"
     ]
    },
    {
     "name": "stdout",
     "output_type": "stream",
     "text": [
      "Epoch 120, Loss 0.0437\n",
      "Training Accuracy: 0.9554, Testing Accuracy: 0.9652\n",
      "\n"
     ]
    },
    {
     "name": "stdout",
     "output_type": "stream",
     "text": [
      "Epoch 130, Loss 0.0428\n",
      "Training Accuracy: 0.9559, Testing Accuracy: 0.9652\n",
      "\n"
     ]
    },
    {
     "name": "stdout",
     "output_type": "stream",
     "text": [
      "Epoch 140, Loss 0.0419\n",
      "Training Accuracy: 0.9568, Testing Accuracy: 0.9657\n",
      "\n"
     ]
    },
    {
     "name": "stdout",
     "output_type": "stream",
     "text": [
      "Epoch 150, Loss 0.0412\n",
      "Training Accuracy: 0.9578, Testing Accuracy: 0.9652\n",
      "\n"
     ]
    },
    {
     "name": "stdout",
     "output_type": "stream",
     "text": [
      "Epoch 160, Loss 0.0405\n",
      "Training Accuracy: 0.9584, Testing Accuracy: 0.9662\n",
      "\n"
     ]
    },
    {
     "name": "stdout",
     "output_type": "stream",
     "text": [
      "Epoch 170, Loss 0.0399\n",
      "Training Accuracy: 0.9589, Testing Accuracy: 0.9662\n",
      "\n"
     ]
    },
    {
     "name": "stdout",
     "output_type": "stream",
     "text": [
      "Epoch 180, Loss 0.0393\n",
      "Training Accuracy: 0.9595, Testing Accuracy: 0.9667\n",
      "\n"
     ]
    },
    {
     "name": "stdout",
     "output_type": "stream",
     "text": [
      "Epoch 190, Loss 0.0388\n",
      "Training Accuracy: 0.9599, Testing Accuracy: 0.9667\n",
      "\n"
     ]
    },
    {
     "name": "stdout",
     "output_type": "stream",
     "text": [
      "Epoch 200, Loss 0.0383\n",
      "Training Accuracy: 0.9604, Testing Accuracy: 0.9677\n",
      "\n"
     ]
    },
    {
     "name": "stdout",
     "output_type": "stream",
     "text": [
      "Epoch 210, Loss 0.0379\n",
      "Training Accuracy: 0.9609, Testing Accuracy: 0.9677\n",
      "\n"
     ]
    },
    {
     "name": "stdout",
     "output_type": "stream",
     "text": [
      "Epoch 220, Loss 0.0375\n",
      "Training Accuracy: 0.9613, Testing Accuracy: 0.9677\n",
      "\n"
     ]
    },
    {
     "name": "stdout",
     "output_type": "stream",
     "text": [
      "Epoch 230, Loss 0.0371\n",
      "Training Accuracy: 0.9613, Testing Accuracy: 0.9677\n",
      "\n"
     ]
    },
    {
     "name": "stdout",
     "output_type": "stream",
     "text": [
      "Epoch 240, Loss 0.0367\n",
      "Training Accuracy: 0.9617, Testing Accuracy: 0.9677\n",
      "\n"
     ]
    },
    {
     "data": {
      "text/plain": [
       "0.030237684973928772"
      ]
     },
     "execution_count": 23,
     "metadata": {},
     "output_type": "execute_result"
    }
   ],
   "source": [
    "lr_learner.train_loop(dl)"
   ]
  },
  {
   "cell_type": "code",
   "execution_count": 24,
   "id": "ca410940",
   "metadata": {
    "execution": {
     "iopub.execute_input": "2021-11-29T10:09:49.079722Z",
     "iopub.status.busy": "2021-11-29T10:09:49.079119Z",
     "iopub.status.idle": "2021-11-29T10:09:49.325274Z",
     "shell.execute_reply": "2021-11-29T10:09:49.324527Z"
    },
    "papermill": {
     "duration": 0.305093,
     "end_time": "2021-11-29T10:09:49.325457",
     "exception": false,
     "start_time": "2021-11-29T10:09:49.020364",
     "status": "completed"
    },
    "tags": []
   },
   "outputs": [
    {
     "data": {
      "text/plain": [
       "<matplotlib.legend.Legend at 0x7f78de7d3668>"
      ]
     },
     "execution_count": 24,
     "metadata": {},
     "output_type": "execute_result"
    },
    {
     "data": {
      "image/png": "[encoded data removed]",
      "text/plain": [
       "<Figure size 1080x720 with 1 Axes>"
      ]
     },
     "metadata": {
      "needs_background": "light"
     },
     "output_type": "display_data"
    }
   ],
   "source": [
    "#comparing the results of NN and LR\n",
    "plt.figure(figsize=(15,10))\n",
    "\n",
    "# Neural Network plots\n",
    "plt.plot(acc_nn.accuracies, 'r-', label = \"Training Accuracies - NN\")\n",
    "plt.plot(acc_nn.test_accuracies, 'g-', label = \"Testing Accuracies - NN\")\n",
    "\n",
    "# Logistic Regression plots\n",
    "plt.plot(acc_lr.accuracies, 'k-', label = \"Training Accuracies - LR\")\n",
    "plt.plot(acc_lr.test_accuracies, 'b-', label = \"Testing Accuracies - LR\")\n",
    "plt.legend()"
   ]
  },
  {
   "cell_type": "markdown",
   "id": "80dfb35c",
   "metadata": {
    "papermill": {
     "duration": 0.047249,
     "end_time": "2021-11-29T10:09:49.420750",
     "exception": false,
     "start_time": "2021-11-29T10:09:49.373501",
     "status": "completed"
    },
    "tags": []
   },
   "source": [
    "#### Plotting the outputs of this layer of the NN.\n"
   ]
  },
  {
   "cell_type": "code",
   "execution_count": 25,
   "id": "45eb2ff5",
   "metadata": {
    "execution": {
     "iopub.execute_input": "2021-11-29T10:09:49.519622Z",
     "iopub.status.busy": "2021-11-29T10:09:49.519016Z",
     "iopub.status.idle": "2021-11-29T10:09:49.540298Z",
     "shell.execute_reply": "2021-11-29T10:09:49.540781Z"
    },
    "papermill": {
     "duration": 0.073094,
     "end_time": "2021-11-29T10:09:49.540932",
     "exception": false,
     "start_time": "2021-11-29T10:09:49.467838",
     "status": "completed"
    },
    "tags": []
   },
   "outputs": [],
   "source": [
    "new_model = Model(layers[:-2])\n",
    "testing_plot = new_model(testing_data_x)"
   ]
  },
  {
   "cell_type": "code",
   "execution_count": 26,
   "id": "4c0a5485",
   "metadata": {
    "execution": {
     "iopub.execute_input": "2021-11-29T10:09:49.655241Z",
     "iopub.status.busy": "2021-11-29T10:09:49.654077Z",
     "iopub.status.idle": "2021-11-29T10:09:49.888206Z",
     "shell.execute_reply": "2021-11-29T10:09:49.888633Z"
    },
    "papermill": {
     "duration": 0.298563,
     "end_time": "2021-11-29T10:09:49.888788",
     "exception": false,
     "start_time": "2021-11-29T10:09:49.590225",
     "status": "completed"
    },
    "tags": []
   },
   "outputs": [
    {
     "data": {
      "text/plain": [
       "Text(0.5, 1.0, 'Outputs')"
      ]
     },
     "execution_count": 26,
     "metadata": {},
     "output_type": "execute_result"
    },
    {
     "data": {
      "image/png": "[encoded data removed]",
      "text/plain": [
       "<Figure size 576x504 with 1 Axes>"
      ]
     },
     "metadata": {
      "needs_background": "light"
     },
     "output_type": "display_data"
    }
   ],
   "source": [
    "# Plotting the scatter plot of points and color coding by class\n",
    "plt.figure(figsize=(8,7))\n",
    "plt.scatter(testing_plot[:,0], testing_plot[:,1], alpha = 0.1, c = y_test.ravel());\n",
    "plt.title('Outputs')"
   ]
  },
  {
   "cell_type": "markdown",
   "id": "a74fcf8f",
   "metadata": {
    "papermill": {
     "duration": 0.049473,
     "end_time": "2021-11-29T10:09:49.996202",
     "exception": false,
     "start_time": "2021-11-29T10:09:49.946729",
     "status": "completed"
    },
    "tags": []
   },
   "source": [
    "Probability contours"
   ]
  },
  {
   "cell_type": "code",
   "execution_count": 27,
   "id": "d0afc8e3",
   "metadata": {
    "execution": {
     "iopub.execute_input": "2021-11-29T10:09:50.101329Z",
     "iopub.status.busy": "2021-11-29T10:09:50.100719Z",
     "iopub.status.idle": "2021-11-29T10:09:50.114252Z",
     "shell.execute_reply": "2021-11-29T10:09:50.113745Z"
    },
    "papermill": {
     "duration": 0.068935,
     "end_time": "2021-11-29T10:09:50.114379",
     "exception": false,
     "start_time": "2021-11-29T10:09:50.045444",
     "status": "completed"
    },
    "tags": []
   },
   "outputs": [],
   "source": [
    "model_prob = Model(layers[-2:]) "
   ]
  },
  {
   "cell_type": "code",
   "execution_count": 28,
   "id": "9b96e238",
   "metadata": {
    "execution": {
     "iopub.execute_input": "2021-11-29T10:09:50.215802Z",
     "iopub.status.busy": "2021-11-29T10:09:50.215283Z",
     "iopub.status.idle": "2021-11-29T10:09:50.229903Z",
     "shell.execute_reply": "2021-11-29T10:09:50.231292Z"
    },
    "papermill": {
     "duration": 0.069795,
     "end_time": "2021-11-29T10:09:50.231426",
     "exception": false,
     "start_time": "2021-11-29T10:09:50.161631",
     "status": "completed"
    },
    "tags": []
   },
   "outputs": [],
   "source": [
    "#creating the x and y ranges according to the above generated plot.\n",
    "x_range = np.linspace(-4, 1, 100) \n",
    "y_range = np.linspace(-6, 6, 100) \n",
    "x_grid, y_grid = np.meshgrid(x_range, y_range) # x_grid and y_grig are of size 100 X 100\n",
    "\n",
    "# converting x_grid and y_grid to continuous arrays\n",
    "x_gridflat = np.ravel(x_grid)\n",
    "y_gridflat = np.ravel(y_grid)\n",
    "\n",
    "# The last layer of the current model takes two columns as input. Hence transpose of np.vstack() is required.\n",
    "X = np.vstack((x_gridflat, y_gridflat)).T\n",
    "\n",
    "prob_contour = model_prob(X).reshape(100,100) "
   ]
  },
  {
   "cell_type": "code",
   "execution_count": 29,
   "id": "da72499a",
   "metadata": {
    "execution": {
     "iopub.execute_input": "2021-11-29T10:09:50.327584Z",
     "iopub.status.busy": "2021-11-29T10:09:50.327007Z",
     "iopub.status.idle": "2021-11-29T10:09:50.587841Z",
     "shell.execute_reply": "2021-11-29T10:09:50.588230Z"
    },
    "papermill": {
     "duration": 0.312022,
     "end_time": "2021-11-29T10:09:50.588368",
     "exception": false,
     "start_time": "2021-11-29T10:09:50.276346",
     "status": "completed"
    },
    "tags": []
   },
   "outputs": [
    {
     "data": {
      "image/png": "[encoded data removed]",
      "text/plain": [
       "<Figure size 720x648 with 1 Axes>"
      ]
     },
     "metadata": {
      "needs_background": "light"
     },
     "output_type": "display_data"
    }
   ],
   "source": [
    "plt.figure(figsize=(10,9))\n",
    "plt.scatter(testing_plot[:,0], testing_plot[:,1], alpha = 0.1, c = y_test.ravel())\n",
    "contours = plt.contour(x_grid,y_grid,prob_contour)\n",
    "plt.title('Probability Contours')\n",
    "plt.clabel(contours, inline = True );"
   ]
  },
  {
   "cell_type": "code",
   "execution_count": null,
   "id": "e81b4ac7",
   "metadata": {
    "papermill": {
     "duration": 0.047646,
     "end_time": "2021-11-29T10:09:50.709107",
     "exception": false,
     "start_time": "2021-11-29T10:09:50.661461",
     "status": "completed"
    },
    "tags": []
   },
   "outputs": [],
   "source": []
  }
 ],
 "metadata": {
  "kernelspec": {
   "display_name": "Python 3",
   "language": "python",
   "name": "python3"
  },
  "language_info": {
   "codemirror_mode": {
    "name": "ipython",
    "version": 3
   },
   "file_extension": ".py",
   "mimetype": "text/x-python",
   "name": "python",
   "nbconvert_exporter": "python",
   "pygments_lexer": "ipython3",
   "version": "3.6.15"
  },
  "papermill": {
   "default_parameters": {},
   "duration": 103.853162,
   "end_time": "2021-11-29T10:09:51.164514",
   "environment_variables": {},
   "exception": null,
   "input_path": "2020-08-11-part2.ipynb",
   "output_path": "2020-08-11-part2.ipynb",
   "parameters": {},
   "start_time": "2021-11-29T10:08:07.311352",
   "version": "2.3.3"
  }
 },
 "nbformat": 4,
 "nbformat_minor": 5
}