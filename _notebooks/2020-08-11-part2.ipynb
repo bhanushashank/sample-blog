{
 "cells": [
  {
   "cell_type": "markdown",
   "id": "98380cd3",
   "metadata": {
    "papermill": {
     "duration": 0.034075,
     "end_time": "2022-02-13T00:28:07.626610",
     "exception": false,
     "start_time": "2022-02-13T00:28:07.592535",
     "status": "completed"
    },
    "tags": []
   },
   "source": [
    "# Distinguish Your Own Digits (DYOD)"
   ]
  },
  {
   "cell_type": "markdown",
   "id": "ef31240d",
   "metadata": {
    "papermill": {
     "duration": 0.029052,
     "end_time": "2022-02-13T00:28:07.684585",
     "exception": false,
     "start_time": "2022-02-13T00:28:07.655533",
     "status": "completed"
    },
    "tags": []
   },
   "source": [
    "You are going to write a classifier that distinguishes between the number 3 and number 8."
   ]
  },
  {
   "cell_type": "code",
   "execution_count": 1,
   "id": "b15c8646",
   "metadata": {
    "execution": {
     "iopub.execute_input": "2022-02-13T00:28:07.750077Z",
     "iopub.status.busy": "2022-02-13T00:28:07.749456Z",
     "iopub.status.idle": "2022-02-13T00:28:07.760747Z",
     "shell.execute_reply": "2022-02-13T00:28:07.761615Z"
    },
    "papermill": {
     "duration": 0.049341,
     "end_time": "2022-02-13T00:28:07.761782",
     "exception": false,
     "start_time": "2022-02-13T00:28:07.712441",
     "status": "completed"
    },
    "tags": []
   },
   "outputs": [],
   "source": [
    "%load_ext autoreload\n",
    "%autoreload 2"
   ]
  },
  {
   "cell_type": "code",
   "execution_count": 2,
   "id": "22ef38dc",
   "metadata": {
    "execution": {
     "iopub.execute_input": "2022-02-13T00:28:07.822982Z",
     "iopub.status.busy": "2022-02-13T00:28:07.822227Z",
     "iopub.status.idle": "2022-02-13T00:28:08.524101Z",
     "shell.execute_reply": "2022-02-13T00:28:08.524609Z"
    },
    "papermill": {
     "duration": 0.735484,
     "end_time": "2022-02-13T00:28:08.524783",
     "exception": false,
     "start_time": "2022-02-13T00:28:07.789299",
     "status": "completed"
    },
    "tags": []
   },
   "outputs": [],
   "source": [
    "%matplotlib inline\n",
    "import numpy as np\n",
    "import matplotlib.pyplot as plt\n",
    "import pandas as pd"
   ]
  },
  {
   "cell_type": "markdown",
   "id": "ba036198",
   "metadata": {
    "papermill": {
     "duration": 0.030542,
     "end_time": "2022-02-13T00:28:08.586409",
     "exception": false,
     "start_time": "2022-02-13T00:28:08.555867",
     "status": "completed"
    },
    "tags": []
   },
   "source": [
    "From the command line run `pip install mnist`. This is a library that will help you bring down the mnist dataset. If you run this from a notebook, you need to put  `!pip install mnist` in a cell by itself."
   ]
  },
  {
   "cell_type": "code",
   "execution_count": 3,
   "id": "bb6ad8a1",
   "metadata": {
    "execution": {
     "iopub.execute_input": "2022-02-13T00:28:08.652562Z",
     "iopub.status.busy": "2022-02-13T00:28:08.651890Z",
     "iopub.status.idle": "2022-02-13T00:28:11.307483Z",
     "shell.execute_reply": "2022-02-13T00:28:11.306520Z"
    },
    "papermill": {
     "duration": 2.691309,
     "end_time": "2022-02-13T00:28:11.307608",
     "exception": false,
     "start_time": "2022-02-13T00:28:08.616299",
     "status": "completed"
    },
    "tags": []
   },
   "outputs": [
    {
     "name": "stdout",
     "output_type": "stream",
     "text": [
      "Collecting mnist\r\n",
      "  Downloading mnist-0.2.2-py2.py3-none-any.whl (3.5 kB)\r\n",
      "Requirement already satisfied: numpy in /opt/hostedtoolcache/Python/3.6.15/x64/lib/python3.6/site-packages (from mnist) (1.19.5)\r\n"
     ]
    },
    {
     "name": "stdout",
     "output_type": "stream",
     "text": [
      "Installing collected packages: mnist\r\n",
      "Successfully installed mnist-0.2.2\r\n"
     ]
    }
   ],
   "source": [
    "!pip install mnist"
   ]
  },
  {
   "cell_type": "markdown",
   "id": "69df9c9a",
   "metadata": {
    "papermill": {
     "duration": 0.026634,
     "end_time": "2022-02-13T00:28:11.363106",
     "exception": false,
     "start_time": "2022-02-13T00:28:11.336472",
     "status": "completed"
    },
    "tags": []
   },
   "source": [
    "## Preparing the Data"
   ]
  },
  {
   "cell_type": "code",
   "execution_count": 4,
   "id": "7f69d806",
   "metadata": {
    "execution": {
     "iopub.execute_input": "2022-02-13T00:28:11.419983Z",
     "iopub.status.busy": "2022-02-13T00:28:11.419386Z",
     "iopub.status.idle": "2022-02-13T00:28:11.435134Z",
     "shell.execute_reply": "2022-02-13T00:28:11.434416Z"
    },
    "papermill": {
     "duration": 0.045567,
     "end_time": "2022-02-13T00:28:11.435254",
     "exception": false,
     "start_time": "2022-02-13T00:28:11.389687",
     "status": "completed"
    },
    "tags": []
   },
   "outputs": [],
   "source": [
    "import mnist"
   ]
  },
  {
   "cell_type": "code",
   "execution_count": 5,
   "id": "a411e44f",
   "metadata": {
    "execution": {
     "iopub.execute_input": "2022-02-13T00:28:11.499728Z",
     "iopub.status.busy": "2022-02-13T00:28:11.495547Z",
     "iopub.status.idle": "2022-02-13T00:28:12.067889Z",
     "shell.execute_reply": "2022-02-13T00:28:12.066512Z"
    },
    "papermill": {
     "duration": 0.604492,
     "end_time": "2022-02-13T00:28:12.068020",
     "exception": false,
     "start_time": "2022-02-13T00:28:11.463528",
     "status": "completed"
    },
    "tags": []
   },
   "outputs": [],
   "source": [
    "train_images = mnist.train_images()\n",
    "train_labels = mnist.train_labels()"
   ]
  },
  {
   "cell_type": "code",
   "execution_count": 6,
   "id": "dceab3a5",
   "metadata": {
    "execution": {
     "iopub.execute_input": "2022-02-13T00:28:12.130095Z",
     "iopub.status.busy": "2022-02-13T00:28:12.129517Z",
     "iopub.status.idle": "2022-02-13T00:28:12.144766Z",
     "shell.execute_reply": "2022-02-13T00:28:12.144300Z"
    },
    "papermill": {
     "duration": 0.048063,
     "end_time": "2022-02-13T00:28:12.144869",
     "exception": false,
     "start_time": "2022-02-13T00:28:12.096806",
     "status": "completed"
    },
    "tags": []
   },
   "outputs": [
    {
     "data": {
      "text/plain": [
       "((60000, 28, 28), (60000,))"
      ]
     },
     "execution_count": 6,
     "metadata": {},
     "output_type": "execute_result"
    }
   ],
   "source": [
    "train_images.shape, train_labels.shape"
   ]
  },
  {
   "cell_type": "code",
   "execution_count": 7,
   "id": "f50dc2bb",
   "metadata": {
    "execution": {
     "iopub.execute_input": "2022-02-13T00:28:12.204992Z",
     "iopub.status.busy": "2022-02-13T00:28:12.204440Z",
     "iopub.status.idle": "2022-02-13T00:28:12.330915Z",
     "shell.execute_reply": "2022-02-13T00:28:12.330419Z"
    },
    "papermill": {
     "duration": 0.158653,
     "end_time": "2022-02-13T00:28:12.331084",
     "exception": false,
     "start_time": "2022-02-13T00:28:12.172431",
     "status": "completed"
    },
    "tags": []
   },
   "outputs": [],
   "source": [
    "test_images = mnist.test_images()\n",
    "test_labels = mnist.test_labels()"
   ]
  },
  {
   "cell_type": "code",
   "execution_count": 8,
   "id": "fc38cf1b",
   "metadata": {
    "execution": {
     "iopub.execute_input": "2022-02-13T00:28:12.397041Z",
     "iopub.status.busy": "2022-02-13T00:28:12.396412Z",
     "iopub.status.idle": "2022-02-13T00:28:12.411182Z",
     "shell.execute_reply": "2022-02-13T00:28:12.410579Z"
    },
    "papermill": {
     "duration": 0.051709,
     "end_time": "2022-02-13T00:28:12.411334",
     "exception": false,
     "start_time": "2022-02-13T00:28:12.359625",
     "status": "completed"
    },
    "tags": []
   },
   "outputs": [
    {
     "data": {
      "text/plain": [
       "((10000, 28, 28), (10000,))"
      ]
     },
     "execution_count": 8,
     "metadata": {},
     "output_type": "execute_result"
    }
   ],
   "source": [
    "test_images.shape, test_labels.shape"
   ]
  },
  {
   "cell_type": "code",
   "execution_count": 9,
   "id": "f9ed8fe0",
   "metadata": {
    "execution": {
     "iopub.execute_input": "2022-02-13T00:28:12.480172Z",
     "iopub.status.busy": "2022-02-13T00:28:12.479450Z",
     "iopub.status.idle": "2022-02-13T00:28:12.666099Z",
     "shell.execute_reply": "2022-02-13T00:28:12.666572Z"
    },
    "papermill": {
     "duration": 0.224694,
     "end_time": "2022-02-13T00:28:12.666729",
     "exception": false,
     "start_time": "2022-02-13T00:28:12.442035",
     "status": "completed"
    },
    "tags": []
   },
   "outputs": [
    {
     "name": "stdout",
     "output_type": "stream",
     "text": [
      "2\n"
     ]
    },
    {
     "data": {
      "text/plain": [
       "<matplotlib.image.AxesImage at 0x7f45636d8518>"
      ]
     },
     "execution_count": 9,
     "metadata": {},
     "output_type": "execute_result"
    },
    {
     "data": {
      "image/png": "[encoded data removed]",
      "text/plain": [
       "<Figure size 432x288 with 1 Axes>"
      ]
     },
     "metadata": {
      "needs_background": "light"
     },
     "output_type": "display_data"
    }
   ],
   "source": [
    "image_index = 7776 # You may select anything up to 60,000\n",
    "print(train_labels[image_index]) \n",
    "plt.imshow(train_images[image_index], cmap='Greys')"
   ]
  },
  {
   "cell_type": "markdown",
   "id": "a8d2388d",
   "metadata": {
    "papermill": {
     "duration": 0.029854,
     "end_time": "2022-02-13T00:28:12.728727",
     "exception": false,
     "start_time": "2022-02-13T00:28:12.698873",
     "status": "completed"
    },
    "tags": []
   },
   "source": [
    "## Filter data to get 3 and 8 out"
   ]
  },
  {
   "cell_type": "code",
   "execution_count": 10,
   "id": "776f7fc7",
   "metadata": {
    "execution": {
     "iopub.execute_input": "2022-02-13T00:28:12.796435Z",
     "iopub.status.busy": "2022-02-13T00:28:12.795429Z",
     "iopub.status.idle": "2022-02-13T00:28:12.814540Z",
     "shell.execute_reply": "2022-02-13T00:28:12.815275Z"
    },
    "papermill": {
     "duration": 0.056341,
     "end_time": "2022-02-13T00:28:12.815418",
     "exception": false,
     "start_time": "2022-02-13T00:28:12.759077",
     "status": "completed"
    },
    "tags": []
   },
   "outputs": [],
   "source": [
    "train_filter = np.where((train_labels == 3 ) | (train_labels == 8))\n",
    "test_filter = np.where((test_labels == 3) | (test_labels == 8))\n",
    "X_train, y_train = train_images[train_filter], train_labels[train_filter]\n",
    "X_test, y_test = test_images[test_filter], test_labels[test_filter]"
   ]
  },
  {
   "cell_type": "markdown",
   "id": "948f0b7e",
   "metadata": {
    "papermill": {
     "duration": 0.030775,
     "end_time": "2022-02-13T00:28:12.875753",
     "exception": false,
     "start_time": "2022-02-13T00:28:12.844978",
     "status": "completed"
    },
    "tags": []
   },
   "source": [
    "We normalize the pizel values in the 0 to 1 range"
   ]
  },
  {
   "cell_type": "code",
   "execution_count": 11,
   "id": "ee4c2166",
   "metadata": {
    "execution": {
     "iopub.execute_input": "2022-02-13T00:28:12.942474Z",
     "iopub.status.busy": "2022-02-13T00:28:12.941819Z",
     "iopub.status.idle": "2022-02-13T00:28:13.001611Z",
     "shell.execute_reply": "2022-02-13T00:28:13.001058Z"
    },
    "papermill": {
     "duration": 0.095265,
     "end_time": "2022-02-13T00:28:13.001738",
     "exception": false,
     "start_time": "2022-02-13T00:28:12.906473",
     "status": "completed"
    },
    "tags": []
   },
   "outputs": [],
   "source": [
    "X_train = X_train/255.\n",
    "X_test = X_test/255."
   ]
  },
  {
   "cell_type": "markdown",
   "id": "ddcf4fab",
   "metadata": {
    "papermill": {
     "duration": 0.030761,
     "end_time": "2022-02-13T00:28:13.063839",
     "exception": false,
     "start_time": "2022-02-13T00:28:13.033078",
     "status": "completed"
    },
    "tags": []
   },
   "source": [
    "And setup the labels as 1 (when the digit is 3) and 0 (when the digit is 8)"
   ]
  },
  {
   "cell_type": "code",
   "execution_count": 12,
   "id": "7dc908f2",
   "metadata": {
    "execution": {
     "iopub.execute_input": "2022-02-13T00:28:13.129856Z",
     "iopub.status.busy": "2022-02-13T00:28:13.129279Z",
     "iopub.status.idle": "2022-02-13T00:28:13.141555Z",
     "shell.execute_reply": "2022-02-13T00:28:13.142201Z"
    },
    "papermill": {
     "duration": 0.048286,
     "end_time": "2022-02-13T00:28:13.142341",
     "exception": false,
     "start_time": "2022-02-13T00:28:13.094055",
     "status": "completed"
    },
    "tags": []
   },
   "outputs": [],
   "source": [
    "y_train = 1*(y_train==3)\n",
    "y_test = 1*(y_test==3)"
   ]
  },
  {
   "cell_type": "code",
   "execution_count": 13,
   "id": "01e4e969",
   "metadata": {
    "execution": {
     "iopub.execute_input": "2022-02-13T00:28:13.205467Z",
     "iopub.status.busy": "2022-02-13T00:28:13.204846Z",
     "iopub.status.idle": "2022-02-13T00:28:13.218441Z",
     "shell.execute_reply": "2022-02-13T00:28:13.218859Z"
    },
    "papermill": {
     "duration": 0.04766,
     "end_time": "2022-02-13T00:28:13.219004",
     "exception": false,
     "start_time": "2022-02-13T00:28:13.171344",
     "status": "completed"
    },
    "tags": []
   },
   "outputs": [
    {
     "data": {
      "text/plain": [
       "((11982, 28, 28), (1984, 28, 28))"
      ]
     },
     "execution_count": 13,
     "metadata": {},
     "output_type": "execute_result"
    }
   ],
   "source": [
    "X_train.shape, X_test.shape"
   ]
  },
  {
   "cell_type": "markdown",
   "id": "5ccf3f85",
   "metadata": {
    "papermill": {
     "duration": 0.031749,
     "end_time": "2022-02-13T00:28:13.281049",
     "exception": false,
     "start_time": "2022-02-13T00:28:13.249300",
     "status": "completed"
    },
    "tags": []
   },
   "source": [
    "We reshape the data to flatten the image pixels into a set of features or co-variates:"
   ]
  },
  {
   "cell_type": "code",
   "execution_count": 14,
   "id": "5286a4a3",
   "metadata": {
    "execution": {
     "iopub.execute_input": "2022-02-13T00:28:13.352573Z",
     "iopub.status.busy": "2022-02-13T00:28:13.351613Z",
     "iopub.status.idle": "2022-02-13T00:28:13.365695Z",
     "shell.execute_reply": "2022-02-13T00:28:13.366196Z"
    },
    "papermill": {
     "duration": 0.052685,
     "end_time": "2022-02-13T00:28:13.366337",
     "exception": false,
     "start_time": "2022-02-13T00:28:13.313652",
     "status": "completed"
    },
    "tags": []
   },
   "outputs": [
    {
     "data": {
      "text/plain": [
       "((11982, 784), (1984, 784))"
      ]
     },
     "execution_count": 14,
     "metadata": {},
     "output_type": "execute_result"
    }
   ],
   "source": [
    "X_train = X_train.reshape(X_train.shape[0], -1)\n",
    "X_test = X_test.reshape(X_test.shape[0], -1)\n",
    "X_train.shape, X_test.shape"
   ]
  },
  {
   "cell_type": "code",
   "execution_count": 15,
   "id": "73c5f88a",
   "metadata": {
    "execution": {
     "iopub.execute_input": "2022-02-13T00:28:13.434000Z",
     "iopub.status.busy": "2022-02-13T00:28:13.433371Z",
     "iopub.status.idle": "2022-02-13T00:28:13.454203Z",
     "shell.execute_reply": "2022-02-13T00:28:13.453742Z"
    },
    "papermill": {
     "duration": 0.055484,
     "end_time": "2022-02-13T00:28:13.454318",
     "exception": false,
     "start_time": "2022-02-13T00:28:13.398834",
     "status": "completed"
    },
    "tags": []
   },
   "outputs": [],
   "source": [
    "#Impoting functions from 'Kudzu'\n",
    "from kudzu.model import Model\n",
    "from kudzu.train import Learner\n",
    "from kudzu.optim import GD\n",
    "from kudzu.data import Data, Sampler,Dataloader\n",
    "\n",
    "from kudzu.callbacks import AccCallback\n",
    "from kudzu.callbacks import ClfCallback\n",
    "\n",
    "from kudzu.loss import MSE\n",
    "\n",
    "from kudzu.layer import Sigmoid,Relu\n",
    "from kudzu.layer import Affine"
   ]
  },
  {
   "cell_type": "markdown",
   "id": "bc01172a",
   "metadata": {
    "papermill": {
     "duration": 0.031408,
     "end_time": "2022-02-13T00:28:13.517284",
     "exception": false,
     "start_time": "2022-02-13T00:28:13.485876",
     "status": "completed"
    },
    "tags": []
   },
   "source": [
    "### Let us create a `Config` class, to store important parameters. \n",
    "This class essentially plays the role of a dictionary."
   ]
  },
  {
   "cell_type": "code",
   "execution_count": 16,
   "id": "978281aa",
   "metadata": {
    "execution": {
     "iopub.execute_input": "2022-02-13T00:28:13.583520Z",
     "iopub.status.busy": "2022-02-13T00:28:13.582853Z",
     "iopub.status.idle": "2022-02-13T00:28:13.598573Z",
     "shell.execute_reply": "2022-02-13T00:28:13.597986Z"
    },
    "papermill": {
     "duration": 0.050447,
     "end_time": "2022-02-13T00:28:13.598693",
     "exception": false,
     "start_time": "2022-02-13T00:28:13.548246",
     "status": "completed"
    },
    "tags": []
   },
   "outputs": [],
   "source": [
    "class Config:\n",
    "    pass\n",
    "config = Config()\n",
    "config.lr = 0.001\n",
    "config.num_epochs = 250\n",
    "config.bs = 50"
   ]
  },
  {
   "cell_type": "markdown",
   "id": "1385fa59",
   "metadata": {
    "papermill": {
     "duration": 0.030187,
     "end_time": "2022-02-13T00:28:13.659798",
     "exception": false,
     "start_time": "2022-02-13T00:28:13.629611",
     "status": "completed"
    },
    "tags": []
   },
   "source": [
    "### Running Models with the Training data\n",
    "Details about the network layers:\n",
    "- A first affine layer has 784 inputs and does 100 affine transforms. These are followed by a Relu\n",
    "- A second affine layer has 100 inputs from the 100 activations of the past layer, and does 100 affine transforms. These are followed by a Relu\n",
    "- A third affine layer has 100 activations and does 2 affine transformations to create an embedding for visualization. There is no non-linearity here.\n",
    "- A final \"logistic regression\" which has an affine transform from 2 inputs to 1 output, which is squeezed through a sigmoid.\n"
   ]
  },
  {
   "cell_type": "code",
   "execution_count": 17,
   "id": "2b9c66db",
   "metadata": {
    "execution": {
     "iopub.execute_input": "2022-02-13T00:28:13.720683Z",
     "iopub.status.busy": "2022-02-13T00:28:13.720080Z",
     "iopub.status.idle": "2022-02-13T00:28:13.733194Z",
     "shell.execute_reply": "2022-02-13T00:28:13.733708Z"
    },
    "papermill": {
     "duration": 0.045945,
     "end_time": "2022-02-13T00:28:13.733828",
     "exception": false,
     "start_time": "2022-02-13T00:28:13.687883",
     "status": "completed"
    },
    "tags": []
   },
   "outputs": [],
   "source": [
    "data = Data(X_train, y_train.reshape(-1,1))\n",
    "sampler = Sampler(data, config.bs, shuffle=True)\n",
    "\n",
    "dl = Dataloader(data, sampler)\n",
    "\n",
    "opt = GD(config.lr)\n",
    "loss = MSE()"
   ]
  },
  {
   "cell_type": "code",
   "execution_count": 18,
   "id": "b275e4c2",
   "metadata": {
    "execution": {
     "iopub.execute_input": "2022-02-13T00:28:13.801355Z",
     "iopub.status.busy": "2022-02-13T00:28:13.800781Z",
     "iopub.status.idle": "2022-02-13T00:28:13.813652Z",
     "shell.execute_reply": "2022-02-13T00:28:13.813209Z"
    },
    "papermill": {
     "duration": 0.048328,
     "end_time": "2022-02-13T00:28:13.813774",
     "exception": false,
     "start_time": "2022-02-13T00:28:13.765446",
     "status": "completed"
    },
    "tags": []
   },
   "outputs": [],
   "source": [
    "training_data_x = X_train\n",
    "testing_data_x = X_test\n",
    "training_data_y = y_train.reshape(-1,1)\n",
    "testing_data_y = y_test.reshape(-1,1)"
   ]
  },
  {
   "cell_type": "code",
   "execution_count": 19,
   "id": "76951160",
   "metadata": {
    "execution": {
     "iopub.execute_input": "2022-02-13T00:28:13.887895Z",
     "iopub.status.busy": "2022-02-13T00:28:13.883666Z",
     "iopub.status.idle": "2022-02-13T00:28:13.896290Z",
     "shell.execute_reply": "2022-02-13T00:28:13.896712Z"
    },
    "papermill": {
     "duration": 0.052685,
     "end_time": "2022-02-13T00:28:13.896829",
     "exception": false,
     "start_time": "2022-02-13T00:28:13.844144",
     "status": "completed"
    },
    "tags": []
   },
   "outputs": [
    {
     "name": "stdout",
     "output_type": "stream",
     "text": [
      "xavier\n",
      "xavier\n",
      "xavier\n",
      "xavier\n",
      "xavier\n"
     ]
    }
   ],
   "source": [
    "layers = [Affine(\"first\", 784, 100), Relu(\"first\"), Affine(\"second\", 100, 100), Relu(\"second\"), Affine(\"third\", 100, 2), Affine(\"last\", 2, 1), Sigmoid(\"last\")]\n",
    "model_nn = Model(layers)\n",
    "model_lr = Model([Affine(\"logits\", 784, 1), Sigmoid(\"sigmoid\")])"
   ]
  },
  {
   "cell_type": "code",
   "execution_count": 20,
   "id": "6eede77a",
   "metadata": {
    "execution": {
     "iopub.execute_input": "2022-02-13T00:28:13.963588Z",
     "iopub.status.busy": "2022-02-13T00:28:13.962120Z",
     "iopub.status.idle": "2022-02-13T00:28:13.973435Z",
     "shell.execute_reply": "2022-02-13T00:28:13.972994Z"
    },
    "papermill": {
     "duration": 0.047201,
     "end_time": "2022-02-13T00:28:13.973540",
     "exception": false,
     "start_time": "2022-02-13T00:28:13.926339",
     "status": "completed"
    },
    "tags": []
   },
   "outputs": [],
   "source": [
    "nn_learner = Learner(loss, model_nn, opt, config.num_epochs)\n",
    "acc_nn = ClfCallback(nn_learner, config.bs, training_data_x , testing_data_x, training_data_y, testing_data_y)\n",
    "nn_learner.set_callbacks([acc_nn])"
   ]
  },
  {
   "cell_type": "code",
   "execution_count": 21,
   "id": "877b6cc7",
   "metadata": {
    "execution": {
     "iopub.execute_input": "2022-02-13T00:28:14.040346Z",
     "iopub.status.busy": "2022-02-13T00:28:14.036897Z",
     "iopub.status.idle": "2022-02-13T00:28:14.050189Z",
     "shell.execute_reply": "2022-02-13T00:28:14.050587Z"
    },
    "papermill": {
     "duration": 0.047217,
     "end_time": "2022-02-13T00:28:14.050704",
     "exception": false,
     "start_time": "2022-02-13T00:28:14.003487",
     "status": "completed"
    },
    "tags": []
   },
   "outputs": [],
   "source": [
    "lr_learner = Learner(loss, model_lr, opt, config.num_epochs)\n",
    "acc_lr = ClfCallback(lr_learner, config.bs, training_data_x , testing_data_x, training_data_y, testing_data_y)\n",
    "lr_learner.set_callbacks([acc_lr])"
   ]
  },
  {
   "cell_type": "code",
   "execution_count": 22,
   "id": "d9b133c3",
   "metadata": {
    "execution": {
     "iopub.execute_input": "2022-02-13T00:28:14.115826Z",
     "iopub.status.busy": "2022-02-13T00:28:14.115266Z",
     "iopub.status.idle": "2022-02-13T00:30:36.007914Z",
     "shell.execute_reply": "2022-02-13T00:30:36.008728Z"
    },
    "papermill": {
     "duration": 141.927372,
     "end_time": "2022-02-13T00:30:36.008921",
     "exception": false,
     "start_time": "2022-02-13T00:28:14.081549",
     "status": "completed"
    },
    "tags": []
   },
   "outputs": [
    {
     "name": "stdout",
     "output_type": "stream",
     "text": [
      "Epoch 0, Loss 0.2322\n",
      "Training Accuracy: 0.7447, Testing Accuracy: 0.7737\n",
      "\n"
     ]
    },
    {
     "name": "stdout",
     "output_type": "stream",
     "text": [
      "Epoch 10, Loss 0.0746\n",
      "Training Accuracy: 0.9259, Testing Accuracy: 0.9400\n",
      "\n"
     ]
    },
    {
     "name": "stdout",
     "output_type": "stream",
     "text": [
      "Epoch 20, Loss 0.0508\n",
      "Training Accuracy: 0.9435, Testing Accuracy: 0.9577\n",
      "\n"
     ]
    },
    {
     "name": "stdout",
     "output_type": "stream",
     "text": [
      "Epoch 30, Loss 0.0416\n",
      "Training Accuracy: 0.9525, Testing Accuracy: 0.9622\n",
      "\n"
     ]
    },
    {
     "name": "stdout",
     "output_type": "stream",
     "text": [
      "Epoch 40, Loss 0.0365\n",
      "Training Accuracy: 0.9578, Testing Accuracy: 0.9677\n",
      "\n"
     ]
    },
    {
     "name": "stdout",
     "output_type": "stream",
     "text": [
      "Epoch 50, Loss 0.0332\n",
      "Training Accuracy: 0.9617, Testing Accuracy: 0.9703\n",
      "\n"
     ]
    },
    {
     "name": "stdout",
     "output_type": "stream",
     "text": [
      "Epoch 60, Loss 0.0308\n",
      "Training Accuracy: 0.9646, Testing Accuracy: 0.9703\n",
      "\n"
     ]
    },
    {
     "name": "stdout",
     "output_type": "stream",
     "text": [
      "Epoch 70, Loss 0.029\n",
      "Training Accuracy: 0.9662, Testing Accuracy: 0.9718\n",
      "\n"
     ]
    },
    {
     "name": "stdout",
     "output_type": "stream",
     "text": [
      "Epoch 80, Loss 0.0275\n",
      "Training Accuracy: 0.9675, Testing Accuracy: 0.9713\n",
      "\n"
     ]
    },
    {
     "name": "stdout",
     "output_type": "stream",
     "text": [
      "Epoch 90, Loss 0.0263\n",
      "Training Accuracy: 0.9692, Testing Accuracy: 0.9718\n",
      "\n"
     ]
    },
    {
     "name": "stdout",
     "output_type": "stream",
     "text": [
      "Epoch 100, Loss 0.0253\n",
      "Training Accuracy: 0.9704, Testing Accuracy: 0.9713\n",
      "\n"
     ]
    },
    {
     "name": "stdout",
     "output_type": "stream",
     "text": [
      "Epoch 110, Loss 0.0244\n",
      "Training Accuracy: 0.9715, Testing Accuracy: 0.9723\n",
      "\n"
     ]
    },
    {
     "name": "stdout",
     "output_type": "stream",
     "text": [
      "Epoch 120, Loss 0.0236\n",
      "Training Accuracy: 0.9722, Testing Accuracy: 0.9738\n",
      "\n"
     ]
    },
    {
     "name": "stdout",
     "output_type": "stream",
     "text": [
      "Epoch 130, Loss 0.0229\n",
      "Training Accuracy: 0.9730, Testing Accuracy: 0.9743\n",
      "\n"
     ]
    },
    {
     "name": "stdout",
     "output_type": "stream",
     "text": [
      "Epoch 140, Loss 0.0222\n",
      "Training Accuracy: 0.9737, Testing Accuracy: 0.9743\n",
      "\n"
     ]
    },
    {
     "name": "stdout",
     "output_type": "stream",
     "text": [
      "Epoch 150, Loss 0.0216\n",
      "Training Accuracy: 0.9746, Testing Accuracy: 0.9743\n",
      "\n"
     ]
    },
    {
     "name": "stdout",
     "output_type": "stream",
     "text": [
      "Epoch 160, Loss 0.0211\n",
      "Training Accuracy: 0.9757, Testing Accuracy: 0.9753\n",
      "\n"
     ]
    },
    {
     "name": "stdout",
     "output_type": "stream",
     "text": [
      "Epoch 170, Loss 0.0205\n",
      "Training Accuracy: 0.9764, Testing Accuracy: 0.9758\n",
      "\n"
     ]
    },
    {
     "name": "stdout",
     "output_type": "stream",
     "text": [
      "Epoch 180, Loss 0.0201\n",
      "Training Accuracy: 0.9771, Testing Accuracy: 0.9753\n",
      "\n"
     ]
    },
    {
     "name": "stdout",
     "output_type": "stream",
     "text": [
      "Epoch 190, Loss 0.0196\n",
      "Training Accuracy: 0.9781, Testing Accuracy: 0.9763\n",
      "\n"
     ]
    },
    {
     "name": "stdout",
     "output_type": "stream",
     "text": [
      "Epoch 200, Loss 0.0191\n",
      "Training Accuracy: 0.9788, Testing Accuracy: 0.9768\n",
      "\n"
     ]
    },
    {
     "name": "stdout",
     "output_type": "stream",
     "text": [
      "Epoch 210, Loss 0.0187\n",
      "Training Accuracy: 0.9793, Testing Accuracy: 0.9758\n",
      "\n"
     ]
    },
    {
     "name": "stdout",
     "output_type": "stream",
     "text": [
      "Epoch 220, Loss 0.0183\n",
      "Training Accuracy: 0.9801, Testing Accuracy: 0.9773\n",
      "\n"
     ]
    },
    {
     "name": "stdout",
     "output_type": "stream",
     "text": [
      "Epoch 230, Loss 0.0179\n",
      "Training Accuracy: 0.9805, Testing Accuracy: 0.9773\n",
      "\n"
     ]
    },
    {
     "name": "stdout",
     "output_type": "stream",
     "text": [
      "Epoch 240, Loss 0.0175\n",
      "Training Accuracy: 0.9811, Testing Accuracy: 0.9778\n",
      "\n"
     ]
    },
    {
     "data": {
      "text/plain": [
       "0.011892033982083593"
      ]
     },
     "execution_count": 22,
     "metadata": {},
     "output_type": "execute_result"
    }
   ],
   "source": [
    "nn_learner.train_loop(dl)"
   ]
  },
  {
   "cell_type": "code",
   "execution_count": 23,
   "id": "e0163366",
   "metadata": {
    "execution": {
     "iopub.execute_input": "2022-02-13T00:30:36.104890Z",
     "iopub.status.busy": "2022-02-13T00:30:36.104301Z",
     "iopub.status.idle": "2022-02-13T00:30:56.467246Z",
     "shell.execute_reply": "2022-02-13T00:30:56.468050Z"
    },
    "papermill": {
     "duration": 20.413388,
     "end_time": "2022-02-13T00:30:56.468211",
     "exception": false,
     "start_time": "2022-02-13T00:30:36.054823",
     "status": "completed"
    },
    "tags": []
   },
   "outputs": [
    {
     "name": "stdout",
     "output_type": "stream",
     "text": [
      "Epoch 0, Loss 0.2573\n",
      "Training Accuracy: 0.6201, Testing Accuracy: 0.6164\n",
      "\n"
     ]
    },
    {
     "name": "stdout",
     "output_type": "stream",
     "text": [
      "Epoch 10, Loss 0.1027\n",
      "Training Accuracy: 0.9155, Testing Accuracy: 0.9199\n",
      "\n"
     ]
    },
    {
     "name": "stdout",
     "output_type": "stream",
     "text": [
      "Epoch 20, Loss 0.0789\n",
      "Training Accuracy: 0.9275, Testing Accuracy: 0.9395\n",
      "\n"
     ]
    },
    {
     "name": "stdout",
     "output_type": "stream",
     "text": [
      "Epoch 30, Loss 0.0681\n",
      "Training Accuracy: 0.9367, Testing Accuracy: 0.9461\n",
      "\n"
     ]
    },
    {
     "name": "stdout",
     "output_type": "stream",
     "text": [
      "Epoch 40, Loss 0.0617\n",
      "Training Accuracy: 0.9414, Testing Accuracy: 0.9516\n",
      "\n"
     ]
    },
    {
     "name": "stdout",
     "output_type": "stream",
     "text": [
      "Epoch 50, Loss 0.0572\n",
      "Training Accuracy: 0.9450, Testing Accuracy: 0.9551\n",
      "\n"
     ]
    },
    {
     "name": "stdout",
     "output_type": "stream",
     "text": [
      "Epoch 60, Loss 0.054\n",
      "Training Accuracy: 0.9478, Testing Accuracy: 0.9551\n",
      "\n"
     ]
    },
    {
     "name": "stdout",
     "output_type": "stream",
     "text": [
      "Epoch 70, Loss 0.0515\n",
      "Training Accuracy: 0.9491, Testing Accuracy: 0.9572\n",
      "\n"
     ]
    },
    {
     "name": "stdout",
     "output_type": "stream",
     "text": [
      "Epoch 80, Loss 0.0494\n",
      "Training Accuracy: 0.9511, Testing Accuracy: 0.9597\n",
      "\n"
     ]
    },
    {
     "name": "stdout",
     "output_type": "stream",
     "text": [
      "Epoch 90, Loss 0.0477\n",
      "Training Accuracy: 0.9520, Testing Accuracy: 0.9597\n",
      "\n"
     ]
    },
    {
     "name": "stdout",
     "output_type": "stream",
     "text": [
      "Epoch 100, Loss 0.0463\n",
      "Training Accuracy: 0.9533, Testing Accuracy: 0.9597\n",
      "\n"
     ]
    },
    {
     "name": "stdout",
     "output_type": "stream",
     "text": [
      "Epoch 110, Loss 0.0451\n",
      "Training Accuracy: 0.9543, Testing Accuracy: 0.9607\n",
      "\n"
     ]
    },
    {
     "name": "stdout",
     "output_type": "stream",
     "text": [
      "Epoch 120, Loss 0.044\n",
      "Training Accuracy: 0.9555, Testing Accuracy: 0.9607\n",
      "\n"
     ]
    },
    {
     "name": "stdout",
     "output_type": "stream",
     "text": [
      "Epoch 130, Loss 0.0431\n",
      "Training Accuracy: 0.9559, Testing Accuracy: 0.9617\n",
      "\n"
     ]
    },
    {
     "name": "stdout",
     "output_type": "stream",
     "text": [
      "Epoch 140, Loss 0.0423\n",
      "Training Accuracy: 0.9569, Testing Accuracy: 0.9622\n",
      "\n"
     ]
    },
    {
     "name": "stdout",
     "output_type": "stream",
     "text": [
      "Epoch 150, Loss 0.0415\n",
      "Training Accuracy: 0.9576, Testing Accuracy: 0.9642\n",
      "\n"
     ]
    },
    {
     "name": "stdout",
     "output_type": "stream",
     "text": [
      "Epoch 160, Loss 0.0408\n",
      "Training Accuracy: 0.9579, Testing Accuracy: 0.9642\n",
      "\n"
     ]
    },
    {
     "name": "stdout",
     "output_type": "stream",
     "text": [
      "Epoch 170, Loss 0.0402\n",
      "Training Accuracy: 0.9584, Testing Accuracy: 0.9657\n",
      "\n"
     ]
    },
    {
     "name": "stdout",
     "output_type": "stream",
     "text": [
      "Epoch 180, Loss 0.0397\n",
      "Training Accuracy: 0.9588, Testing Accuracy: 0.9662\n",
      "\n"
     ]
    },
    {
     "name": "stdout",
     "output_type": "stream",
     "text": [
      "Epoch 190, Loss 0.0391\n",
      "Training Accuracy: 0.9594, Testing Accuracy: 0.9662\n",
      "\n"
     ]
    },
    {
     "name": "stdout",
     "output_type": "stream",
     "text": [
      "Epoch 200, Loss 0.0387\n",
      "Training Accuracy: 0.9597, Testing Accuracy: 0.9662\n",
      "\n"
     ]
    },
    {
     "name": "stdout",
     "output_type": "stream",
     "text": [
      "Epoch 210, Loss 0.0382\n",
      "Training Accuracy: 0.9601, Testing Accuracy: 0.9662\n",
      "\n"
     ]
    },
    {
     "name": "stdout",
     "output_type": "stream",
     "text": [
      "Epoch 220, Loss 0.0378\n",
      "Training Accuracy: 0.9604, Testing Accuracy: 0.9662\n",
      "\n"
     ]
    },
    {
     "name": "stdout",
     "output_type": "stream",
     "text": [
      "Epoch 230, Loss 0.0374\n",
      "Training Accuracy: 0.9608, Testing Accuracy: 0.9667\n",
      "\n"
     ]
    },
    {
     "name": "stdout",
     "output_type": "stream",
     "text": [
      "Epoch 240, Loss 0.037\n",
      "Training Accuracy: 0.9611, Testing Accuracy: 0.9662\n",
      "\n"
     ]
    },
    {
     "data": {
      "text/plain": [
       "0.05201846837590461"
      ]
     },
     "execution_count": 23,
     "metadata": {},
     "output_type": "execute_result"
    }
   ],
   "source": [
    "lr_learner.train_loop(dl)"
   ]
  },
  {
   "cell_type": "code",
   "execution_count": 24,
   "id": "ca410940",
   "metadata": {
    "execution": {
     "iopub.execute_input": "2022-02-13T00:30:56.579273Z",
     "iopub.status.busy": "2022-02-13T00:30:56.578591Z",
     "iopub.status.idle": "2022-02-13T00:30:56.885977Z",
     "shell.execute_reply": "2022-02-13T00:30:56.885018Z"
    },
    "papermill": {
     "duration": 0.367743,
     "end_time": "2022-02-13T00:30:56.886154",
     "exception": false,
     "start_time": "2022-02-13T00:30:56.518411",
     "status": "completed"
    },
    "tags": []
   },
   "outputs": [
    {
     "data": {
      "text/plain": [
       "<matplotlib.legend.Legend at 0x7f45632b5c50>"
      ]
     },
     "execution_count": 24,
     "metadata": {},
     "output_type": "execute_result"
    },
    {
     "data": {
      "image/png": "[encoded data removed]",
      "text/plain": [
       "<Figure size 1080x720 with 1 Axes>"
      ]
     },
     "metadata": {
      "needs_background": "light"
     },
     "output_type": "display_data"
    }
   ],
   "source": [
    "#comparing the results of NN and LR\n",
    "plt.figure(figsize=(15,10))\n",
    "\n",
    "# Neural Network plots\n",
    "plt.plot(acc_nn.accuracies, 'r-', label = \"Training Accuracies - NN\")\n",
    "plt.plot(acc_nn.test_accuracies, 'g-', label = \"Testing Accuracies - NN\")\n",
    "\n",
    "# Logistic Regression plots\n",
    "plt.plot(acc_lr.accuracies, 'k-', label = \"Training Accuracies - LR\")\n",
    "plt.plot(acc_lr.test_accuracies, 'b-', label = \"Testing Accuracies - LR\")\n",
    "plt.legend()"
   ]
  },
  {
   "cell_type": "markdown",
   "id": "80dfb35c",
   "metadata": {
    "papermill": {
     "duration": 0.052864,
     "end_time": "2022-02-13T00:30:56.992661",
     "exception": false,
     "start_time": "2022-02-13T00:30:56.939797",
     "status": "completed"
    },
    "tags": []
   },
   "source": [
    "#### Plotting the outputs of this layer of the NN.\n"
   ]
  },
  {
   "cell_type": "code",
   "execution_count": 25,
   "id": "45eb2ff5",
   "metadata": {
    "execution": {
     "iopub.execute_input": "2022-02-13T00:30:57.105493Z",
     "iopub.status.busy": "2022-02-13T00:30:57.104860Z",
     "iopub.status.idle": "2022-02-13T00:30:57.130349Z",
     "shell.execute_reply": "2022-02-13T00:30:57.130868Z"
    },
    "papermill": {
     "duration": 0.085582,
     "end_time": "2022-02-13T00:30:57.131150",
     "exception": false,
     "start_time": "2022-02-13T00:30:57.045568",
     "status": "completed"
    },
    "tags": []
   },
   "outputs": [],
   "source": [
    "new_model = Model(layers[:-2])\n",
    "testing_plot = new_model(testing_data_x)"
   ]
  },
  {
   "cell_type": "code",
   "execution_count": 26,
   "id": "4c0a5485",
   "metadata": {
    "execution": {
     "iopub.execute_input": "2022-02-13T00:30:57.240889Z",
     "iopub.status.busy": "2022-02-13T00:30:57.239410Z",
     "iopub.status.idle": "2022-02-13T00:30:57.490278Z",
     "shell.execute_reply": "2022-02-13T00:30:57.489468Z"
    },
    "papermill": {
     "duration": 0.308685,
     "end_time": "2022-02-13T00:30:57.490422",
     "exception": false,
     "start_time": "2022-02-13T00:30:57.181737",
     "status": "completed"
    },
    "tags": []
   },
   "outputs": [
    {
     "data": {
      "text/plain": [
       "Text(0.5, 1.0, 'Outputs')"
      ]
     },
     "execution_count": 26,
     "metadata": {},
     "output_type": "execute_result"
    },
    {
     "data": {
      "image/png": "[encoded data removed]",
      "text/plain": [
       "<Figure size 576x504 with 1 Axes>"
      ]
     },
     "metadata": {
      "needs_background": "light"
     },
     "output_type": "display_data"
    }
   ],
   "source": [
    "# Plotting the scatter plot of points and color coding by class\n",
    "plt.figure(figsize=(8,7))\n",
    "plt.scatter(testing_plot[:,0], testing_plot[:,1], alpha = 0.1, c = y_test.ravel());\n",
    "plt.title('Outputs')"
   ]
  },
  {
   "cell_type": "markdown",
   "id": "a74fcf8f",
   "metadata": {
    "papermill": {
     "duration": 0.053076,
     "end_time": "2022-02-13T00:30:57.597259",
     "exception": false,
     "start_time": "2022-02-13T00:30:57.544183",
     "status": "completed"
    },
    "tags": []
   },
   "source": [
    "Probability contours"
   ]
  },
  {
   "cell_type": "code",
   "execution_count": 27,
   "id": "d0afc8e3",
   "metadata": {
    "execution": {
     "iopub.execute_input": "2022-02-13T00:30:57.707450Z",
     "iopub.status.busy": "2022-02-13T00:30:57.704462Z",
     "iopub.status.idle": "2022-02-13T00:30:57.719089Z",
     "shell.execute_reply": "2022-02-13T00:30:57.719573Z"
    },
    "papermill": {
     "duration": 0.072916,
     "end_time": "2022-02-13T00:30:57.719701",
     "exception": false,
     "start_time": "2022-02-13T00:30:57.646785",
     "status": "completed"
    },
    "tags": []
   },
   "outputs": [],
   "source": [
    "model_prob = Model(layers[-2:]) "
   ]
  },
  {
   "cell_type": "code",
   "execution_count": 28,
   "id": "9b96e238",
   "metadata": {
    "execution": {
     "iopub.execute_input": "2022-02-13T00:30:57.867140Z",
     "iopub.status.busy": "2022-02-13T00:30:57.866535Z",
     "iopub.status.idle": "2022-02-13T00:30:57.882315Z",
     "shell.execute_reply": "2022-02-13T00:30:57.882951Z"
    },
    "papermill": {
     "duration": 0.100033,
     "end_time": "2022-02-13T00:30:57.883097",
     "exception": false,
     "start_time": "2022-02-13T00:30:57.783064",
     "status": "completed"
    },
    "tags": []
   },
   "outputs": [],
   "source": [
    "#creating the x and y ranges according to the above generated plot.\n",
    "x_range = np.linspace(-4, 1, 100) \n",
    "y_range = np.linspace(-6, 6, 100) \n",
    "x_grid, y_grid = np.meshgrid(x_range, y_range) # x_grid and y_grig are of size 100 X 100\n",
    "\n",
    "# converting x_grid and y_grid to continuous arrays\n",
    "x_gridflat = np.ravel(x_grid)\n",
    "y_gridflat = np.ravel(y_grid)\n",
    "\n",
    "# The last layer of the current model takes two columns as input. Hence transpose of np.vstack() is required.\n",
    "X = np.vstack((x_gridflat, y_gridflat)).T\n",
    "\n",
    "prob_contour = model_prob(X).reshape(100,100) "
   ]
  },
  {
   "cell_type": "code",
   "execution_count": 29,
   "id": "da72499a",
   "metadata": {
    "execution": {
     "iopub.execute_input": "2022-02-13T00:30:57.997295Z",
     "iopub.status.busy": "2022-02-13T00:30:57.996729Z",
     "iopub.status.idle": "2022-02-13T00:30:58.328957Z",
     "shell.execute_reply": "2022-02-13T00:30:58.328272Z"
    },
    "papermill": {
     "duration": 0.392277,
     "end_time": "2022-02-13T00:30:58.329109",
     "exception": false,
     "start_time": "2022-02-13T00:30:57.936832",
     "status": "completed"
    },
    "tags": []
   },
   "outputs": [
    {
     "data": {
      "image/png": "[encoded data removed]",
      "text/plain": [
       "<Figure size 720x648 with 1 Axes>"
      ]
     },
     "metadata": {
      "needs_background": "light"
     },
     "output_type": "display_data"
    }
   ],
   "source": [
    "plt.figure(figsize=(10,9))\n",
    "plt.scatter(testing_plot[:,0], testing_plot[:,1], alpha = 0.1, c = y_test.ravel())\n",
    "contours = plt.contour(x_grid,y_grid,prob_contour)\n",
    "plt.title('Probability Contours')\n",
    "plt.clabel(contours, inline = True );"
   ]
  },
  {
   "cell_type": "code",
   "execution_count": null,
   "id": "e81b4ac7",
   "metadata": {
    "papermill": {
     "duration": 0.05081,
     "end_time": "2022-02-13T00:30:58.432483",
     "exception": false,
     "start_time": "2022-02-13T00:30:58.381673",
     "status": "completed"
    },
    "tags": []
   },
   "outputs": [],
   "source": []
  }
 ],
 "metadata": {
  "kernelspec": {
   "display_name": "Python 3",
   "language": "python",
   "name": "python3"
  },
  "language_info": {
   "codemirror_mode": {
    "name": "ipython",
    "version": 3
   },
   "file_extension": ".py",
   "mimetype": "text/x-python",
   "name": "python",
   "nbconvert_exporter": "python",
   "pygments_lexer": "ipython3",
   "version": "3.6.15"
  },
  "papermill": {
   "default_parameters": {},
   "duration": 172.515573,
   "end_time": "2022-02-13T00:30:58.805198",
   "environment_variables": {},
   "exception": null,
   "input_path": "2020-08-11-part2.ipynb",
   "output_path": "2020-08-11-part2.ipynb",
   "parameters": {},
   "start_time": "2022-02-13T00:28:06.289625",
   "version": "2.3.3"
  }
 },
 "nbformat": 4,
 "nbformat_minor": 5
}