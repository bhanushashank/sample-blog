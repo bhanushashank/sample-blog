{
 "cells": [
  {
   "cell_type": "markdown",
   "id": "98380cd3",
   "metadata": {
    "papermill": {
     "duration": 0.028414,
     "end_time": "2021-09-13T20:07:21.778512",
     "exception": false,
     "start_time": "2021-09-13T20:07:21.750098",
     "status": "completed"
    },
    "tags": []
   },
   "source": [
    "# Distinguish Your Own Digits (DYOD)"
   ]
  },
  {
   "cell_type": "markdown",
   "id": "ef31240d",
   "metadata": {
    "papermill": {
     "duration": 0.023248,
     "end_time": "2021-09-13T20:07:21.825807",
     "exception": false,
     "start_time": "2021-09-13T20:07:21.802559",
     "status": "completed"
    },
    "tags": []
   },
   "source": [
    "You are going to write a classifier that distinguishes between the number 3 and number 8."
   ]
  },
  {
   "cell_type": "code",
   "execution_count": 1,
   "id": "b15c8646",
   "metadata": {
    "execution": {
     "iopub.execute_input": "2021-09-13T20:07:21.883353Z",
     "iopub.status.busy": "2021-09-13T20:07:21.882827Z",
     "iopub.status.idle": "2021-09-13T20:07:21.892589Z",
     "shell.execute_reply": "2021-09-13T20:07:21.892995Z"
    },
    "papermill": {
     "duration": 0.044105,
     "end_time": "2021-09-13T20:07:21.893137",
     "exception": false,
     "start_time": "2021-09-13T20:07:21.849032",
     "status": "completed"
    },
    "tags": []
   },
   "outputs": [],
   "source": [
    "%load_ext autoreload\n",
    "%autoreload 2"
   ]
  },
  {
   "cell_type": "code",
   "execution_count": 2,
   "id": "22ef38dc",
   "metadata": {
    "execution": {
     "iopub.execute_input": "2021-09-13T20:07:21.944023Z",
     "iopub.status.busy": "2021-09-13T20:07:21.943507Z",
     "iopub.status.idle": "2021-09-13T20:07:22.443579Z",
     "shell.execute_reply": "2021-09-13T20:07:22.443056Z"
    },
    "papermill": {
     "duration": 0.527198,
     "end_time": "2021-09-13T20:07:22.443723",
     "exception": false,
     "start_time": "2021-09-13T20:07:21.916525",
     "status": "completed"
    },
    "tags": []
   },
   "outputs": [],
   "source": [
    "%matplotlib inline\n",
    "import numpy as np\n",
    "import matplotlib.pyplot as plt\n",
    "import pandas as pd"
   ]
  },
  {
   "cell_type": "markdown",
   "id": "ba036198",
   "metadata": {
    "papermill": {
     "duration": 0.024646,
     "end_time": "2021-09-13T20:07:22.492930",
     "exception": false,
     "start_time": "2021-09-13T20:07:22.468284",
     "status": "completed"
    },
    "tags": []
   },
   "source": [
    "From the command line run `pip install mnist`. This is a library that will help you bring down the mnist dataset. If you run this from a notebook, you need to put  `!pip install mnist` in a cell by itself."
   ]
  },
  {
   "cell_type": "code",
   "execution_count": 3,
   "id": "bb6ad8a1",
   "metadata": {
    "execution": {
     "iopub.execute_input": "2021-09-13T20:07:22.544891Z",
     "iopub.status.busy": "2021-09-13T20:07:22.544364Z",
     "iopub.status.idle": "2021-09-13T20:07:25.033682Z",
     "shell.execute_reply": "2021-09-13T20:07:25.032791Z"
    },
    "papermill": {
     "duration": 2.517283,
     "end_time": "2021-09-13T20:07:25.033825",
     "exception": false,
     "start_time": "2021-09-13T20:07:22.516542",
     "status": "completed"
    },
    "tags": []
   },
   "outputs": [
    {
     "name": "stdout",
     "output_type": "stream",
     "text": [
      "Collecting mnist\r\n"
     ]
    },
    {
     "name": "stdout",
     "output_type": "stream",
     "text": [
      "  Downloading mnist-0.2.2-py2.py3-none-any.whl (3.5 kB)\r\n",
      "Requirement already satisfied: numpy in /opt/hostedtoolcache/Python/3.6.14/x64/lib/python3.6/site-packages (from mnist) (1.19.5)\r\n"
     ]
    },
    {
     "name": "stdout",
     "output_type": "stream",
     "text": [
      "Installing collected packages: mnist\r\n",
      "Successfully installed mnist-0.2.2\r\n"
     ]
    }
   ],
   "source": [
    "!pip install mnist"
   ]
  },
  {
   "cell_type": "markdown",
   "id": "69df9c9a",
   "metadata": {
    "papermill": {
     "duration": 0.024403,
     "end_time": "2021-09-13T20:07:25.083271",
     "exception": false,
     "start_time": "2021-09-13T20:07:25.058868",
     "status": "completed"
    },
    "tags": []
   },
   "source": [
    "## Preparing the Data"
   ]
  },
  {
   "cell_type": "code",
   "execution_count": 4,
   "id": "7f69d806",
   "metadata": {
    "execution": {
     "iopub.execute_input": "2021-09-13T20:07:25.135418Z",
     "iopub.status.busy": "2021-09-13T20:07:25.134912Z",
     "iopub.status.idle": "2021-09-13T20:07:25.148237Z",
     "shell.execute_reply": "2021-09-13T20:07:25.148705Z"
    },
    "papermill": {
     "duration": 0.04132,
     "end_time": "2021-09-13T20:07:25.148830",
     "exception": false,
     "start_time": "2021-09-13T20:07:25.107510",
     "status": "completed"
    },
    "tags": []
   },
   "outputs": [],
   "source": [
    "import mnist"
   ]
  },
  {
   "cell_type": "code",
   "execution_count": 5,
   "id": "a411e44f",
   "metadata": {
    "execution": {
     "iopub.execute_input": "2021-09-13T20:07:25.203435Z",
     "iopub.status.busy": "2021-09-13T20:07:25.202936Z",
     "iopub.status.idle": "2021-09-13T20:07:25.713096Z",
     "shell.execute_reply": "2021-09-13T20:07:25.712544Z"
    },
    "papermill": {
     "duration": 0.540085,
     "end_time": "2021-09-13T20:07:25.713247",
     "exception": false,
     "start_time": "2021-09-13T20:07:25.173162",
     "status": "completed"
    },
    "tags": []
   },
   "outputs": [],
   "source": [
    "train_images = mnist.train_images()\n",
    "train_labels = mnist.train_labels()"
   ]
  },
  {
   "cell_type": "code",
   "execution_count": 6,
   "id": "dceab3a5",
   "metadata": {
    "execution": {
     "iopub.execute_input": "2021-09-13T20:07:25.770259Z",
     "iopub.status.busy": "2021-09-13T20:07:25.769749Z",
     "iopub.status.idle": "2021-09-13T20:07:25.781473Z",
     "shell.execute_reply": "2021-09-13T20:07:25.781045Z"
    },
    "papermill": {
     "duration": 0.043126,
     "end_time": "2021-09-13T20:07:25.781576",
     "exception": false,
     "start_time": "2021-09-13T20:07:25.738450",
     "status": "completed"
    },
    "tags": []
   },
   "outputs": [
    {
     "data": {
      "text/plain": [
       "((60000, 28, 28), (60000,))"
      ]
     },
     "execution_count": 6,
     "metadata": {},
     "output_type": "execute_result"
    }
   ],
   "source": [
    "train_images.shape, train_labels.shape"
   ]
  },
  {
   "cell_type": "code",
   "execution_count": 7,
   "id": "f50dc2bb",
   "metadata": {
    "execution": {
     "iopub.execute_input": "2021-09-13T20:07:25.840310Z",
     "iopub.status.busy": "2021-09-13T20:07:25.839810Z",
     "iopub.status.idle": "2021-09-13T20:07:26.007678Z",
     "shell.execute_reply": "2021-09-13T20:07:26.007132Z"
    },
    "papermill": {
     "duration": 0.201848,
     "end_time": "2021-09-13T20:07:26.007817",
     "exception": false,
     "start_time": "2021-09-13T20:07:25.805969",
     "status": "completed"
    },
    "tags": []
   },
   "outputs": [],
   "source": [
    "test_images = mnist.test_images()\n",
    "test_labels = mnist.test_labels()"
   ]
  },
  {
   "cell_type": "code",
   "execution_count": 8,
   "id": "fc38cf1b",
   "metadata": {
    "execution": {
     "iopub.execute_input": "2021-09-13T20:07:26.061688Z",
     "iopub.status.busy": "2021-09-13T20:07:26.061183Z",
     "iopub.status.idle": "2021-09-13T20:07:26.073704Z",
     "shell.execute_reply": "2021-09-13T20:07:26.073274Z"
    },
    "papermill": {
     "duration": 0.040396,
     "end_time": "2021-09-13T20:07:26.073813",
     "exception": false,
     "start_time": "2021-09-13T20:07:26.033417",
     "status": "completed"
    },
    "tags": []
   },
   "outputs": [
    {
     "data": {
      "text/plain": [
       "((10000, 28, 28), (10000,))"
      ]
     },
     "execution_count": 8,
     "metadata": {},
     "output_type": "execute_result"
    }
   ],
   "source": [
    "test_images.shape, test_labels.shape"
   ]
  },
  {
   "cell_type": "code",
   "execution_count": 9,
   "id": "f9ed8fe0",
   "metadata": {
    "execution": {
     "iopub.execute_input": "2021-09-13T20:07:26.152577Z",
     "iopub.status.busy": "2021-09-13T20:07:26.133709Z",
     "iopub.status.idle": "2021-09-13T20:07:26.264226Z",
     "shell.execute_reply": "2021-09-13T20:07:26.264681Z"
    },
    "papermill": {
     "duration": 0.166275,
     "end_time": "2021-09-13T20:07:26.264836",
     "exception": false,
     "start_time": "2021-09-13T20:07:26.098561",
     "status": "completed"
    },
    "tags": []
   },
   "outputs": [
    {
     "name": "stdout",
     "output_type": "stream",
     "text": [
      "2\n"
     ]
    },
    {
     "data": {
      "text/plain": [
       "<matplotlib.image.AxesImage at 0x7fbd3b7e8f98>"
      ]
     },
     "execution_count": 9,
     "metadata": {},
     "output_type": "execute_result"
    },
    {
     "data": {
      "image/png": "[encoded data removed]",
      "text/plain": [
       "<Figure size 432x288 with 1 Axes>"
      ]
     },
     "metadata": {
      "needs_background": "light"
     },
     "output_type": "display_data"
    }
   ],
   "source": [
    "image_index = 7776 # You may select anything up to 60,000\n",
    "print(train_labels[image_index]) \n",
    "plt.imshow(train_images[image_index], cmap='Greys')"
   ]
  },
  {
   "cell_type": "markdown",
   "id": "a8d2388d",
   "metadata": {
    "papermill": {
     "duration": 0.025871,
     "end_time": "2021-09-13T20:07:26.316906",
     "exception": false,
     "start_time": "2021-09-13T20:07:26.291035",
     "status": "completed"
    },
    "tags": []
   },
   "source": [
    "## Filter data to get 3 and 8 out"
   ]
  },
  {
   "cell_type": "code",
   "execution_count": 10,
   "id": "776f7fc7",
   "metadata": {
    "execution": {
     "iopub.execute_input": "2021-09-13T20:07:26.379554Z",
     "iopub.status.busy": "2021-09-13T20:07:26.379027Z",
     "iopub.status.idle": "2021-09-13T20:07:26.393497Z",
     "shell.execute_reply": "2021-09-13T20:07:26.393086Z"
    },
    "papermill": {
     "duration": 0.050876,
     "end_time": "2021-09-13T20:07:26.393609",
     "exception": false,
     "start_time": "2021-09-13T20:07:26.342733",
     "status": "completed"
    },
    "tags": []
   },
   "outputs": [],
   "source": [
    "train_filter = np.where((train_labels == 3 ) | (train_labels == 8))\n",
    "test_filter = np.where((test_labels == 3) | (test_labels == 8))\n",
    "X_train, y_train = train_images[train_filter], train_labels[train_filter]\n",
    "X_test, y_test = test_images[test_filter], test_labels[test_filter]"
   ]
  },
  {
   "cell_type": "markdown",
   "id": "948f0b7e",
   "metadata": {
    "papermill": {
     "duration": 0.025864,
     "end_time": "2021-09-13T20:07:26.445343",
     "exception": false,
     "start_time": "2021-09-13T20:07:26.419479",
     "status": "completed"
    },
    "tags": []
   },
   "source": [
    "We normalize the pizel values in the 0 to 1 range"
   ]
  },
  {
   "cell_type": "code",
   "execution_count": 11,
   "id": "ee4c2166",
   "metadata": {
    "execution": {
     "iopub.execute_input": "2021-09-13T20:07:26.501328Z",
     "iopub.status.busy": "2021-09-13T20:07:26.500782Z",
     "iopub.status.idle": "2021-09-13T20:07:26.546156Z",
     "shell.execute_reply": "2021-09-13T20:07:26.545667Z"
    },
    "papermill": {
     "duration": 0.074726,
     "end_time": "2021-09-13T20:07:26.546301",
     "exception": false,
     "start_time": "2021-09-13T20:07:26.471575",
     "status": "completed"
    },
    "tags": []
   },
   "outputs": [],
   "source": [
    "X_train = X_train/255.\n",
    "X_test = X_test/255."
   ]
  },
  {
   "cell_type": "markdown",
   "id": "ddcf4fab",
   "metadata": {
    "papermill": {
     "duration": 0.025983,
     "end_time": "2021-09-13T20:07:26.598452",
     "exception": false,
     "start_time": "2021-09-13T20:07:26.572469",
     "status": "completed"
    },
    "tags": []
   },
   "source": [
    "And setup the labels as 1 (when the digit is 3) and 0 (when the digit is 8)"
   ]
  },
  {
   "cell_type": "code",
   "execution_count": 12,
   "id": "7dc908f2",
   "metadata": {
    "execution": {
     "iopub.execute_input": "2021-09-13T20:07:26.668803Z",
     "iopub.status.busy": "2021-09-13T20:07:26.668281Z",
     "iopub.status.idle": "2021-09-13T20:07:26.671793Z",
     "shell.execute_reply": "2021-09-13T20:07:26.672225Z"
    },
    "papermill": {
     "duration": 0.047891,
     "end_time": "2021-09-13T20:07:26.672348",
     "exception": false,
     "start_time": "2021-09-13T20:07:26.624457",
     "status": "completed"
    },
    "tags": []
   },
   "outputs": [],
   "source": [
    "y_train = 1*(y_train==3)\n",
    "y_test = 1*(y_test==3)"
   ]
  },
  {
   "cell_type": "code",
   "execution_count": 13,
   "id": "01e4e969",
   "metadata": {
    "execution": {
     "iopub.execute_input": "2021-09-13T20:07:26.739118Z",
     "iopub.status.busy": "2021-09-13T20:07:26.732861Z",
     "iopub.status.idle": "2021-09-13T20:07:26.744006Z",
     "shell.execute_reply": "2021-09-13T20:07:26.743046Z"
    },
    "papermill": {
     "duration": 0.04593,
     "end_time": "2021-09-13T20:07:26.744115",
     "exception": false,
     "start_time": "2021-09-13T20:07:26.698185",
     "status": "completed"
    },
    "tags": []
   },
   "outputs": [
    {
     "data": {
      "text/plain": [
       "((11982, 28, 28), (1984, 28, 28))"
      ]
     },
     "execution_count": 13,
     "metadata": {},
     "output_type": "execute_result"
    }
   ],
   "source": [
    "X_train.shape, X_test.shape"
   ]
  },
  {
   "cell_type": "markdown",
   "id": "5ccf3f85",
   "metadata": {
    "papermill": {
     "duration": 0.025852,
     "end_time": "2021-09-13T20:07:26.795860",
     "exception": false,
     "start_time": "2021-09-13T20:07:26.770008",
     "status": "completed"
    },
    "tags": []
   },
   "source": [
    "We reshape the data to flatten the image pixels into a set of features or co-variates:"
   ]
  },
  {
   "cell_type": "code",
   "execution_count": 14,
   "id": "5286a4a3",
   "metadata": {
    "execution": {
     "iopub.execute_input": "2021-09-13T20:07:26.855456Z",
     "iopub.status.busy": "2021-09-13T20:07:26.854951Z",
     "iopub.status.idle": "2021-09-13T20:07:26.864850Z",
     "shell.execute_reply": "2021-09-13T20:07:26.865232Z"
    },
    "papermill": {
     "duration": 0.043393,
     "end_time": "2021-09-13T20:07:26.865351",
     "exception": false,
     "start_time": "2021-09-13T20:07:26.821958",
     "status": "completed"
    },
    "tags": []
   },
   "outputs": [
    {
     "data": {
      "text/plain": [
       "((11982, 784), (1984, 784))"
      ]
     },
     "execution_count": 14,
     "metadata": {},
     "output_type": "execute_result"
    }
   ],
   "source": [
    "X_train = X_train.reshape(X_train.shape[0], -1)\n",
    "X_test = X_test.reshape(X_test.shape[0], -1)\n",
    "X_train.shape, X_test.shape"
   ]
  },
  {
   "cell_type": "code",
   "execution_count": 15,
   "id": "73c5f88a",
   "metadata": {
    "execution": {
     "iopub.execute_input": "2021-09-13T20:07:26.922797Z",
     "iopub.status.busy": "2021-09-13T20:07:26.922260Z",
     "iopub.status.idle": "2021-09-13T20:07:26.938174Z",
     "shell.execute_reply": "2021-09-13T20:07:26.938576Z"
    },
    "papermill": {
     "duration": 0.047112,
     "end_time": "2021-09-13T20:07:26.938694",
     "exception": false,
     "start_time": "2021-09-13T20:07:26.891582",
     "status": "completed"
    },
    "tags": []
   },
   "outputs": [],
   "source": [
    "#Impoting functions from 'Kudzu'\n",
    "from kudzu.model import Model\n",
    "from kudzu.train import Learner\n",
    "from kudzu.optim import GD\n",
    "from kudzu.data import Data, Sampler,Dataloader\n",
    "\n",
    "from kudzu.callbacks import AccCallback\n",
    "from kudzu.callbacks import ClfCallback\n",
    "\n",
    "from kudzu.loss import MSE\n",
    "\n",
    "from kudzu.layer import Sigmoid,Relu\n",
    "from kudzu.layer import Affine"
   ]
  },
  {
   "cell_type": "markdown",
   "id": "bc01172a",
   "metadata": {
    "papermill": {
     "duration": 0.027062,
     "end_time": "2021-09-13T20:07:26.991972",
     "exception": false,
     "start_time": "2021-09-13T20:07:26.964910",
     "status": "completed"
    },
    "tags": []
   },
   "source": [
    "### Let us create a `Config` class, to store important parameters. \n",
    "This class essentially plays the role of a dictionary."
   ]
  },
  {
   "cell_type": "code",
   "execution_count": 16,
   "id": "978281aa",
   "metadata": {
    "execution": {
     "iopub.execute_input": "2021-09-13T20:07:27.049120Z",
     "iopub.status.busy": "2021-09-13T20:07:27.048611Z",
     "iopub.status.idle": "2021-09-13T20:07:27.059273Z",
     "shell.execute_reply": "2021-09-13T20:07:27.058845Z"
    },
    "papermill": {
     "duration": 0.041237,
     "end_time": "2021-09-13T20:07:27.059377",
     "exception": false,
     "start_time": "2021-09-13T20:07:27.018140",
     "status": "completed"
    },
    "tags": []
   },
   "outputs": [],
   "source": [
    "class Config:\n",
    "    pass\n",
    "config = Config()\n",
    "config.lr = 0.001\n",
    "config.num_epochs = 250\n",
    "config.bs = 50"
   ]
  },
  {
   "cell_type": "markdown",
   "id": "1385fa59",
   "metadata": {
    "papermill": {
     "duration": 0.026281,
     "end_time": "2021-09-13T20:07:27.112101",
     "exception": false,
     "start_time": "2021-09-13T20:07:27.085820",
     "status": "completed"
    },
    "tags": []
   },
   "source": [
    "### Running Models with the Training data\n",
    "Details about the network layers:\n",
    "- A first affine layer has 784 inputs and does 100 affine transforms. These are followed by a Relu\n",
    "- A second affine layer has 100 inputs from the 100 activations of the past layer, and does 100 affine transforms. These are followed by a Relu\n",
    "- A third affine layer has 100 activations and does 2 affine transformations to create an embedding for visualization. There is no non-linearity here.\n",
    "- A final \"logistic regression\" which has an affine transform from 2 inputs to 1 output, which is squeezed through a sigmoid.\n"
   ]
  },
  {
   "cell_type": "code",
   "execution_count": 17,
   "id": "2b9c66db",
   "metadata": {
    "execution": {
     "iopub.execute_input": "2021-09-13T20:07:27.168990Z",
     "iopub.status.busy": "2021-09-13T20:07:27.167973Z",
     "iopub.status.idle": "2021-09-13T20:07:27.181958Z",
     "shell.execute_reply": "2021-09-13T20:07:27.181083Z"
    },
    "papermill": {
     "duration": 0.043673,
     "end_time": "2021-09-13T20:07:27.182065",
     "exception": false,
     "start_time": "2021-09-13T20:07:27.138392",
     "status": "completed"
    },
    "tags": []
   },
   "outputs": [],
   "source": [
    "data = Data(X_train, y_train.reshape(-1,1))\n",
    "sampler = Sampler(data, config.bs, shuffle=True)\n",
    "\n",
    "dl = Dataloader(data, sampler)\n",
    "\n",
    "opt = GD(config.lr)\n",
    "loss = MSE()"
   ]
  },
  {
   "cell_type": "code",
   "execution_count": 18,
   "id": "b275e4c2",
   "metadata": {
    "execution": {
     "iopub.execute_input": "2021-09-13T20:07:27.237542Z",
     "iopub.status.busy": "2021-09-13T20:07:27.237039Z",
     "iopub.status.idle": "2021-09-13T20:07:27.248375Z",
     "shell.execute_reply": "2021-09-13T20:07:27.247975Z"
    },
    "papermill": {
     "duration": 0.040135,
     "end_time": "2021-09-13T20:07:27.248479",
     "exception": false,
     "start_time": "2021-09-13T20:07:27.208344",
     "status": "completed"
    },
    "tags": []
   },
   "outputs": [],
   "source": [
    "training_data_x = X_train\n",
    "testing_data_x = X_test\n",
    "training_data_y = y_train.reshape(-1,1)\n",
    "testing_data_y = y_test.reshape(-1,1)"
   ]
  },
  {
   "cell_type": "code",
   "execution_count": 19,
   "id": "76951160",
   "metadata": {
    "execution": {
     "iopub.execute_input": "2021-09-13T20:07:27.311430Z",
     "iopub.status.busy": "2021-09-13T20:07:27.310927Z",
     "iopub.status.idle": "2021-09-13T20:07:27.321877Z",
     "shell.execute_reply": "2021-09-13T20:07:27.321459Z"
    },
    "papermill": {
     "duration": 0.047343,
     "end_time": "2021-09-13T20:07:27.321976",
     "exception": false,
     "start_time": "2021-09-13T20:07:27.274633",
     "status": "completed"
    },
    "tags": []
   },
   "outputs": [
    {
     "name": "stdout",
     "output_type": "stream",
     "text": [
      "xavier\n",
      "xavier\n",
      "xavier\n",
      "xavier\n",
      "xavier\n"
     ]
    }
   ],
   "source": [
    "layers = [Affine(\"first\", 784, 100), Relu(\"first\"), Affine(\"second\", 100, 100), Relu(\"second\"), Affine(\"third\", 100, 2), Affine(\"last\", 2, 1), Sigmoid(\"last\")]\n",
    "model_nn = Model(layers)\n",
    "model_lr = Model([Affine(\"logits\", 784, 1), Sigmoid(\"sigmoid\")])"
   ]
  },
  {
   "cell_type": "code",
   "execution_count": 20,
   "id": "6eede77a",
   "metadata": {
    "execution": {
     "iopub.execute_input": "2021-09-13T20:07:27.378241Z",
     "iopub.status.busy": "2021-09-13T20:07:27.377747Z",
     "iopub.status.idle": "2021-09-13T20:07:27.389457Z",
     "shell.execute_reply": "2021-09-13T20:07:27.389038Z"
    },
    "papermill": {
     "duration": 0.04099,
     "end_time": "2021-09-13T20:07:27.389554",
     "exception": false,
     "start_time": "2021-09-13T20:07:27.348564",
     "status": "completed"
    },
    "tags": []
   },
   "outputs": [],
   "source": [
    "nn_learner = Learner(loss, model_nn, opt, config.num_epochs)\n",
    "acc_nn = ClfCallback(nn_learner, config.bs, training_data_x , testing_data_x, training_data_y, testing_data_y)\n",
    "nn_learner.set_callbacks([acc_nn])"
   ]
  },
  {
   "cell_type": "code",
   "execution_count": 21,
   "id": "877b6cc7",
   "metadata": {
    "execution": {
     "iopub.execute_input": "2021-09-13T20:07:27.457339Z",
     "iopub.status.busy": "2021-09-13T20:07:27.453126Z",
     "iopub.status.idle": "2021-09-13T20:07:27.459153Z",
     "shell.execute_reply": "2021-09-13T20:07:27.459535Z"
    },
    "papermill": {
     "duration": 0.043433,
     "end_time": "2021-09-13T20:07:27.459647",
     "exception": false,
     "start_time": "2021-09-13T20:07:27.416214",
     "status": "completed"
    },
    "tags": []
   },
   "outputs": [],
   "source": [
    "lr_learner = Learner(loss, model_lr, opt, config.num_epochs)\n",
    "acc_lr = ClfCallback(lr_learner, config.bs, training_data_x , testing_data_x, training_data_y, testing_data_y)\n",
    "lr_learner.set_callbacks([acc_lr])"
   ]
  },
  {
   "cell_type": "code",
   "execution_count": 22,
   "id": "d9b133c3",
   "metadata": {
    "execution": {
     "iopub.execute_input": "2021-09-13T20:07:27.524732Z",
     "iopub.status.busy": "2021-09-13T20:07:27.524237Z",
     "iopub.status.idle": "2021-09-13T20:08:44.102064Z",
     "shell.execute_reply": "2021-09-13T20:08:44.102855Z"
    },
    "papermill": {
     "duration": 76.616858,
     "end_time": "2021-09-13T20:08:44.103010",
     "exception": false,
     "start_time": "2021-09-13T20:07:27.486152",
     "status": "completed"
    },
    "tags": []
   },
   "outputs": [
    {
     "name": "stdout",
     "output_type": "stream",
     "text": [
      "Epoch 0, Loss 0.25\n",
      "Training Accuracy: 0.5146, Testing Accuracy: 0.5015\n",
      "\n"
     ]
    },
    {
     "name": "stdout",
     "output_type": "stream",
     "text": [
      "Epoch 10, Loss 0.2478\n",
      "Training Accuracy: 0.6652, Testing Accuracy: 0.6653\n",
      "\n"
     ]
    },
    {
     "name": "stdout",
     "output_type": "stream",
     "text": [
      "Epoch 20, Loss 0.2416\n",
      "Training Accuracy: 0.7860, Testing Accuracy: 0.7807\n",
      "\n"
     ]
    },
    {
     "name": "stdout",
     "output_type": "stream",
     "text": [
      "Epoch 30, Loss 0.2127\n",
      "Training Accuracy: 0.8575, Testing Accuracy: 0.8579\n",
      "\n"
     ]
    },
    {
     "name": "stdout",
     "output_type": "stream",
     "text": [
      "Epoch 40, Loss 0.1232\n",
      "Training Accuracy: 0.8951, Testing Accuracy: 0.8942\n",
      "\n"
     ]
    },
    {
     "name": "stdout",
     "output_type": "stream",
     "text": [
      "Epoch 50, Loss 0.0727\n",
      "Training Accuracy: 0.9237, Testing Accuracy: 0.9279\n",
      "\n"
     ]
    },
    {
     "name": "stdout",
     "output_type": "stream",
     "text": [
      "Epoch 60, Loss 0.0537\n",
      "Training Accuracy: 0.9405, Testing Accuracy: 0.9491\n",
      "\n"
     ]
    },
    {
     "name": "stdout",
     "output_type": "stream",
     "text": [
      "Epoch 70, Loss 0.0443\n",
      "Training Accuracy: 0.9512, Testing Accuracy: 0.9582\n",
      "\n"
     ]
    },
    {
     "name": "stdout",
     "output_type": "stream",
     "text": [
      "Epoch 80, Loss 0.039\n",
      "Training Accuracy: 0.9567, Testing Accuracy: 0.9652\n",
      "\n"
     ]
    },
    {
     "name": "stdout",
     "output_type": "stream",
     "text": [
      "Epoch 90, Loss 0.0356\n",
      "Training Accuracy: 0.9595, Testing Accuracy: 0.9667\n",
      "\n"
     ]
    },
    {
     "name": "stdout",
     "output_type": "stream",
     "text": [
      "Epoch 100, Loss 0.0333\n",
      "Training Accuracy: 0.9616, Testing Accuracy: 0.9672\n",
      "\n"
     ]
    },
    {
     "name": "stdout",
     "output_type": "stream",
     "text": [
      "Epoch 110, Loss 0.0315\n",
      "Training Accuracy: 0.9629, Testing Accuracy: 0.9677\n",
      "\n"
     ]
    },
    {
     "name": "stdout",
     "output_type": "stream",
     "text": [
      "Epoch 120, Loss 0.0301\n",
      "Training Accuracy: 0.9648, Testing Accuracy: 0.9688\n",
      "\n"
     ]
    },
    {
     "name": "stdout",
     "output_type": "stream",
     "text": [
      "Epoch 130, Loss 0.029\n",
      "Training Accuracy: 0.9658, Testing Accuracy: 0.9693\n",
      "\n"
     ]
    },
    {
     "name": "stdout",
     "output_type": "stream",
     "text": [
      "Epoch 140, Loss 0.028\n",
      "Training Accuracy: 0.9670, Testing Accuracy: 0.9693\n",
      "\n"
     ]
    },
    {
     "name": "stdout",
     "output_type": "stream",
     "text": [
      "Epoch 150, Loss 0.0272\n",
      "Training Accuracy: 0.9680, Testing Accuracy: 0.9693\n",
      "\n"
     ]
    },
    {
     "name": "stdout",
     "output_type": "stream",
     "text": [
      "Epoch 160, Loss 0.0265\n",
      "Training Accuracy: 0.9690, Testing Accuracy: 0.9703\n",
      "\n"
     ]
    },
    {
     "name": "stdout",
     "output_type": "stream",
     "text": [
      "Epoch 170, Loss 0.0258\n",
      "Training Accuracy: 0.9699, Testing Accuracy: 0.9728\n",
      "\n"
     ]
    },
    {
     "name": "stdout",
     "output_type": "stream",
     "text": [
      "Epoch 180, Loss 0.0252\n",
      "Training Accuracy: 0.9706, Testing Accuracy: 0.9718\n",
      "\n"
     ]
    },
    {
     "name": "stdout",
     "output_type": "stream",
     "text": [
      "Epoch 190, Loss 0.0247\n",
      "Training Accuracy: 0.9711, Testing Accuracy: 0.9718\n",
      "\n"
     ]
    },
    {
     "name": "stdout",
     "output_type": "stream",
     "text": [
      "Epoch 200, Loss 0.0242\n",
      "Training Accuracy: 0.9722, Testing Accuracy: 0.9728\n",
      "\n"
     ]
    },
    {
     "name": "stdout",
     "output_type": "stream",
     "text": [
      "Epoch 210, Loss 0.0237\n",
      "Training Accuracy: 0.9725, Testing Accuracy: 0.9723\n",
      "\n"
     ]
    },
    {
     "name": "stdout",
     "output_type": "stream",
     "text": [
      "Epoch 220, Loss 0.0233\n",
      "Training Accuracy: 0.9729, Testing Accuracy: 0.9733\n",
      "\n"
     ]
    },
    {
     "name": "stdout",
     "output_type": "stream",
     "text": [
      "Epoch 230, Loss 0.0228\n",
      "Training Accuracy: 0.9734, Testing Accuracy: 0.9743\n",
      "\n"
     ]
    },
    {
     "name": "stdout",
     "output_type": "stream",
     "text": [
      "Epoch 240, Loss 0.0224\n",
      "Training Accuracy: 0.9744, Testing Accuracy: 0.9758\n",
      "\n"
     ]
    },
    {
     "data": {
      "text/plain": [
       "0.06809176685390256"
      ]
     },
     "execution_count": 22,
     "metadata": {},
     "output_type": "execute_result"
    }
   ],
   "source": [
    "nn_learner.train_loop(dl)"
   ]
  },
  {
   "cell_type": "code",
   "execution_count": 23,
   "id": "e0163366",
   "metadata": {
    "execution": {
     "iopub.execute_input": "2021-09-13T20:08:44.182835Z",
     "iopub.status.busy": "2021-09-13T20:08:44.182302Z",
     "iopub.status.idle": "2021-09-13T20:08:58.010582Z",
     "shell.execute_reply": "2021-09-13T20:08:58.011306Z"
    },
    "papermill": {
     "duration": 13.874575,
     "end_time": "2021-09-13T20:08:58.011457",
     "exception": false,
     "start_time": "2021-09-13T20:08:44.136882",
     "status": "completed"
    },
    "tags": []
   },
   "outputs": [
    {
     "name": "stdout",
     "output_type": "stream",
     "text": [
      "Epoch 0, Loss 0.2565\n",
      "Training Accuracy: 0.6619, Testing Accuracy: 0.6366\n",
      "\n"
     ]
    },
    {
     "name": "stdout",
     "output_type": "stream",
     "text": [
      "Epoch 10, Loss 0.1001\n",
      "Training Accuracy: 0.9183, Testing Accuracy: 0.9279\n",
      "\n"
     ]
    },
    {
     "name": "stdout",
     "output_type": "stream",
     "text": [
      "Epoch 20, Loss 0.0773\n",
      "Training Accuracy: 0.9304, Testing Accuracy: 0.9415\n",
      "\n"
     ]
    },
    {
     "name": "stdout",
     "output_type": "stream",
     "text": [
      "Epoch 30, Loss 0.0671\n",
      "Training Accuracy: 0.9361, Testing Accuracy: 0.9441\n",
      "\n"
     ]
    },
    {
     "name": "stdout",
     "output_type": "stream",
     "text": [
      "Epoch 40, Loss 0.0609\n",
      "Training Accuracy: 0.9400, Testing Accuracy: 0.9506\n",
      "\n"
     ]
    },
    {
     "name": "stdout",
     "output_type": "stream",
     "text": [
      "Epoch 50, Loss 0.0567\n",
      "Training Accuracy: 0.9433, Testing Accuracy: 0.9526\n",
      "\n"
     ]
    },
    {
     "name": "stdout",
     "output_type": "stream",
     "text": [
      "Epoch 60, Loss 0.0536\n",
      "Training Accuracy: 0.9455, Testing Accuracy: 0.9556\n",
      "\n"
     ]
    },
    {
     "name": "stdout",
     "output_type": "stream",
     "text": [
      "Epoch 70, Loss 0.0511\n",
      "Training Accuracy: 0.9474, Testing Accuracy: 0.9572\n",
      "\n"
     ]
    },
    {
     "name": "stdout",
     "output_type": "stream",
     "text": [
      "Epoch 80, Loss 0.0492\n",
      "Training Accuracy: 0.9498, Testing Accuracy: 0.9597\n",
      "\n"
     ]
    },
    {
     "name": "stdout",
     "output_type": "stream",
     "text": [
      "Epoch 90, Loss 0.0475\n",
      "Training Accuracy: 0.9513, Testing Accuracy: 0.9602\n",
      "\n"
     ]
    },
    {
     "name": "stdout",
     "output_type": "stream",
     "text": [
      "Epoch 100, Loss 0.0461\n",
      "Training Accuracy: 0.9527, Testing Accuracy: 0.9607\n",
      "\n"
     ]
    },
    {
     "name": "stdout",
     "output_type": "stream",
     "text": [
      "Epoch 110, Loss 0.0449\n",
      "Training Accuracy: 0.9538, Testing Accuracy: 0.9607\n",
      "\n"
     ]
    },
    {
     "name": "stdout",
     "output_type": "stream",
     "text": [
      "Epoch 120, Loss 0.0439\n",
      "Training Accuracy: 0.9543, Testing Accuracy: 0.9612\n",
      "\n"
     ]
    },
    {
     "name": "stdout",
     "output_type": "stream",
     "text": [
      "Epoch 130, Loss 0.0429\n",
      "Training Accuracy: 0.9552, Testing Accuracy: 0.9622\n",
      "\n"
     ]
    },
    {
     "name": "stdout",
     "output_type": "stream",
     "text": [
      "Epoch 140, Loss 0.0421\n",
      "Training Accuracy: 0.9559, Testing Accuracy: 0.9627\n",
      "\n"
     ]
    },
    {
     "name": "stdout",
     "output_type": "stream",
     "text": [
      "Epoch 150, Loss 0.0414\n",
      "Training Accuracy: 0.9562, Testing Accuracy: 0.9637\n",
      "\n"
     ]
    },
    {
     "name": "stdout",
     "output_type": "stream",
     "text": [
      "Epoch 160, Loss 0.0407\n",
      "Training Accuracy: 0.9569, Testing Accuracy: 0.9637\n",
      "\n"
     ]
    },
    {
     "name": "stdout",
     "output_type": "stream",
     "text": [
      "Epoch 170, Loss 0.0401\n",
      "Training Accuracy: 0.9581, Testing Accuracy: 0.9642\n",
      "\n"
     ]
    },
    {
     "name": "stdout",
     "output_type": "stream",
     "text": [
      "Epoch 180, Loss 0.0395\n",
      "Training Accuracy: 0.9589, Testing Accuracy: 0.9642\n",
      "\n"
     ]
    },
    {
     "name": "stdout",
     "output_type": "stream",
     "text": [
      "Epoch 190, Loss 0.039\n",
      "Training Accuracy: 0.9595, Testing Accuracy: 0.9642\n",
      "\n"
     ]
    },
    {
     "name": "stdout",
     "output_type": "stream",
     "text": [
      "Epoch 200, Loss 0.0385\n",
      "Training Accuracy: 0.9598, Testing Accuracy: 0.9642\n",
      "\n"
     ]
    },
    {
     "name": "stdout",
     "output_type": "stream",
     "text": [
      "Epoch 210, Loss 0.0381\n",
      "Training Accuracy: 0.9604, Testing Accuracy: 0.9657\n",
      "\n"
     ]
    },
    {
     "name": "stdout",
     "output_type": "stream",
     "text": [
      "Epoch 220, Loss 0.0377\n",
      "Training Accuracy: 0.9608, Testing Accuracy: 0.9662\n",
      "\n"
     ]
    },
    {
     "name": "stdout",
     "output_type": "stream",
     "text": [
      "Epoch 230, Loss 0.0373\n",
      "Training Accuracy: 0.9611, Testing Accuracy: 0.9662\n",
      "\n"
     ]
    },
    {
     "name": "stdout",
     "output_type": "stream",
     "text": [
      "Epoch 240, Loss 0.0369\n",
      "Training Accuracy: 0.9614, Testing Accuracy: 0.9667\n",
      "\n"
     ]
    },
    {
     "data": {
      "text/plain": [
       "0.03830819832095215"
      ]
     },
     "execution_count": 23,
     "metadata": {},
     "output_type": "execute_result"
    }
   ],
   "source": [
    "lr_learner.train_loop(dl)"
   ]
  },
  {
   "cell_type": "code",
   "execution_count": 24,
   "id": "ca410940",
   "metadata": {
    "execution": {
     "iopub.execute_input": "2021-09-13T20:08:58.099431Z",
     "iopub.status.busy": "2021-09-13T20:08:58.098914Z",
     "iopub.status.idle": "2021-09-13T20:08:58.318193Z",
     "shell.execute_reply": "2021-09-13T20:08:58.318640Z"
    },
    "papermill": {
     "duration": 0.266457,
     "end_time": "2021-09-13T20:08:58.318775",
     "exception": false,
     "start_time": "2021-09-13T20:08:58.052318",
     "status": "completed"
    },
    "tags": []
   },
   "outputs": [
    {
     "data": {
      "text/plain": [
       "<matplotlib.legend.Legend at 0x7fbd2ec1bfd0>"
      ]
     },
     "execution_count": 24,
     "metadata": {},
     "output_type": "execute_result"
    },
    {
     "data": {
      "image/png": "[encoded data removed]",
      "text/plain": [
       "<Figure size 1080x720 with 1 Axes>"
      ]
     },
     "metadata": {
      "needs_background": "light"
     },
     "output_type": "display_data"
    }
   ],
   "source": [
    "#comparing the results of NN and LR\n",
    "plt.figure(figsize=(15,10))\n",
    "\n",
    "# Neural Network plots\n",
    "plt.plot(acc_nn.accuracies, 'r-', label = \"Training Accuracies - NN\")\n",
    "plt.plot(acc_nn.test_accuracies, 'g-', label = \"Testing Accuracies - NN\")\n",
    "\n",
    "# Logistic Regression plots\n",
    "plt.plot(acc_lr.accuracies, 'k-', label = \"Training Accuracies - LR\")\n",
    "plt.plot(acc_lr.test_accuracies, 'b-', label = \"Testing Accuracies - LR\")\n",
    "plt.legend()"
   ]
  },
  {
   "cell_type": "markdown",
   "id": "80dfb35c",
   "metadata": {
    "papermill": {
     "duration": 0.041002,
     "end_time": "2021-09-13T20:08:58.401591",
     "exception": false,
     "start_time": "2021-09-13T20:08:58.360589",
     "status": "completed"
    },
    "tags": []
   },
   "source": [
    "#### Plotting the outputs of this layer of the NN.\n"
   ]
  },
  {
   "cell_type": "code",
   "execution_count": 25,
   "id": "45eb2ff5",
   "metadata": {
    "execution": {
     "iopub.execute_input": "2021-09-13T20:08:58.502526Z",
     "iopub.status.busy": "2021-09-13T20:08:58.490930Z",
     "iopub.status.idle": "2021-09-13T20:08:58.520870Z",
     "shell.execute_reply": "2021-09-13T20:08:58.521592Z"
    },
    "papermill": {
     "duration": 0.07898,
     "end_time": "2021-09-13T20:08:58.521725",
     "exception": false,
     "start_time": "2021-09-13T20:08:58.442745",
     "status": "completed"
    },
    "tags": []
   },
   "outputs": [],
   "source": [
    "new_model = Model(layers[:-2])\n",
    "testing_plot = new_model(testing_data_x)"
   ]
  },
  {
   "cell_type": "code",
   "execution_count": 26,
   "id": "4c0a5485",
   "metadata": {
    "execution": {
     "iopub.execute_input": "2021-09-13T20:08:58.619516Z",
     "iopub.status.busy": "2021-09-13T20:08:58.619011Z",
     "iopub.status.idle": "2021-09-13T20:08:58.809908Z",
     "shell.execute_reply": "2021-09-13T20:08:58.809255Z"
    },
    "papermill": {
     "duration": 0.246412,
     "end_time": "2021-09-13T20:08:58.810035",
     "exception": false,
     "start_time": "2021-09-13T20:08:58.563623",
     "status": "completed"
    },
    "tags": []
   },
   "outputs": [
    {
     "data": {
      "text/plain": [
       "Text(0.5, 1.0, 'Outputs')"
      ]
     },
     "execution_count": 26,
     "metadata": {},
     "output_type": "execute_result"
    },
    {
     "data": {
      "image/png": "[encoded data removed]",
      "text/plain": [
       "<Figure size 576x504 with 1 Axes>"
      ]
     },
     "metadata": {
      "needs_background": "light"
     },
     "output_type": "display_data"
    }
   ],
   "source": [
    "# Plotting the scatter plot of points and color coding by class\n",
    "plt.figure(figsize=(8,7))\n",
    "plt.scatter(testing_plot[:,0], testing_plot[:,1], alpha = 0.1, c = y_test.ravel());\n",
    "plt.title('Outputs')"
   ]
  },
  {
   "cell_type": "markdown",
   "id": "a74fcf8f",
   "metadata": {
    "papermill": {
     "duration": 0.043099,
     "end_time": "2021-09-13T20:08:58.896601",
     "exception": false,
     "start_time": "2021-09-13T20:08:58.853502",
     "status": "completed"
    },
    "tags": []
   },
   "source": [
    "Probability contours"
   ]
  },
  {
   "cell_type": "code",
   "execution_count": 27,
   "id": "d0afc8e3",
   "metadata": {
    "execution": {
     "iopub.execute_input": "2021-09-13T20:08:59.001458Z",
     "iopub.status.busy": "2021-09-13T20:08:59.000931Z",
     "iopub.status.idle": "2021-09-13T20:08:59.004075Z",
     "shell.execute_reply": "2021-09-13T20:08:59.004459Z"
    },
    "papermill": {
     "duration": 0.06478,
     "end_time": "2021-09-13T20:08:59.004588",
     "exception": false,
     "start_time": "2021-09-13T20:08:58.939808",
     "status": "completed"
    },
    "tags": []
   },
   "outputs": [],
   "source": [
    "model_prob = Model(layers[-2:]) "
   ]
  },
  {
   "cell_type": "code",
   "execution_count": 28,
   "id": "9b96e238",
   "metadata": {
    "execution": {
     "iopub.execute_input": "2021-09-13T20:08:59.109359Z",
     "iopub.status.busy": "2021-09-13T20:08:59.100161Z",
     "iopub.status.idle": "2021-09-13T20:08:59.110239Z",
     "shell.execute_reply": "2021-09-13T20:08:59.109790Z"
    },
    "papermill": {
     "duration": 0.062195,
     "end_time": "2021-09-13T20:08:59.110368",
     "exception": false,
     "start_time": "2021-09-13T20:08:59.048173",
     "status": "completed"
    },
    "tags": []
   },
   "outputs": [],
   "source": [
    "#creating the x and y ranges according to the above generated plot.\n",
    "x_range = np.linspace(-4, 1, 100) \n",
    "y_range = np.linspace(-6, 6, 100) \n",
    "x_grid, y_grid = np.meshgrid(x_range, y_range) # x_grid and y_grig are of size 100 X 100\n",
    "\n",
    "# converting x_grid and y_grid to continuous arrays\n",
    "x_gridflat = np.ravel(x_grid)\n",
    "y_gridflat = np.ravel(y_grid)\n",
    "\n",
    "# The last layer of the current model takes two columns as input. Hence transpose of np.vstack() is required.\n",
    "X = np.vstack((x_gridflat, y_gridflat)).T\n",
    "\n",
    "prob_contour = model_prob(X).reshape(100,100) "
   ]
  },
  {
   "cell_type": "code",
   "execution_count": 29,
   "id": "da72499a",
   "metadata": {
    "execution": {
     "iopub.execute_input": "2021-09-13T20:08:59.237109Z",
     "iopub.status.busy": "2021-09-13T20:08:59.235572Z",
     "iopub.status.idle": "2021-09-13T20:08:59.452991Z",
     "shell.execute_reply": "2021-09-13T20:08:59.453484Z"
    },
    "papermill": {
     "duration": 0.294686,
     "end_time": "2021-09-13T20:08:59.453649",
     "exception": false,
     "start_time": "2021-09-13T20:08:59.158963",
     "status": "completed"
    },
    "tags": []
   },
   "outputs": [
    {
     "data": {
      "image/png": "[encoded data removed]",
      "text/plain": [
       "<Figure size 720x648 with 1 Axes>"
      ]
     },
     "metadata": {
      "needs_background": "light"
     },
     "output_type": "display_data"
    }
   ],
   "source": [
    "plt.figure(figsize=(10,9))\n",
    "plt.scatter(testing_plot[:,0], testing_plot[:,1], alpha = 0.1, c = y_test.ravel())\n",
    "contours = plt.contour(x_grid,y_grid,prob_contour)\n",
    "plt.title('Probability Contours')\n",
    "plt.clabel(contours, inline = True );"
   ]
  },
  {
   "cell_type": "code",
   "execution_count": null,
   "id": "e81b4ac7",
   "metadata": {
    "papermill": {
     "duration": 0.045532,
     "end_time": "2021-09-13T20:08:59.545775",
     "exception": false,
     "start_time": "2021-09-13T20:08:59.500243",
     "status": "completed"
    },
    "tags": []
   },
   "outputs": [],
   "source": []
  }
 ],
 "metadata": {
  "kernelspec": {
   "display_name": "Python 3",
   "language": "python",
   "name": "python3"
  },
  "language_info": {
   "codemirror_mode": {
    "name": "ipython",
    "version": 3
   },
   "file_extension": ".py",
   "mimetype": "text/x-python",
   "name": "python",
   "nbconvert_exporter": "python",
   "pygments_lexer": "ipython3",
   "version": "3.6.14"
  },
  "papermill": {
   "default_parameters": {},
   "duration": 99.302373,
   "end_time": "2021-09-13T20:09:00.027045",
   "environment_variables": {},
   "exception": null,
   "input_path": "2020-08-11-part2.ipynb",
   "output_path": "2020-08-11-part2.ipynb",
   "parameters": {},
   "start_time": "2021-09-13T20:07:20.724672",
   "version": "2.3.3"
  }
 },
 "nbformat": 4,
 "nbformat_minor": 5
}