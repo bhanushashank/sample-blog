{
 "cells": [
  {
   "cell_type": "markdown",
   "id": "98380cd3",
   "metadata": {
    "papermill": {
     "duration": 0.029192,
     "end_time": "2022-07-01T20:09:59.082844",
     "exception": false,
     "start_time": "2022-07-01T20:09:59.053652",
     "status": "completed"
    },
    "tags": []
   },
   "source": [
    "# Distinguish Your Own Digits (DYOD)"
   ]
  },
  {
   "cell_type": "markdown",
   "id": "ef31240d",
   "metadata": {
    "papermill": {
     "duration": 0.024131,
     "end_time": "2022-07-01T20:09:59.131743",
     "exception": false,
     "start_time": "2022-07-01T20:09:59.107612",
     "status": "completed"
    },
    "tags": []
   },
   "source": [
    "You are going to write a classifier that distinguishes between the number 3 and number 8."
   ]
  },
  {
   "cell_type": "code",
   "execution_count": 1,
   "id": "b15c8646",
   "metadata": {
    "execution": {
     "iopub.execute_input": "2022-07-01T20:09:59.190547Z",
     "iopub.status.busy": "2022-07-01T20:09:59.189886Z",
     "iopub.status.idle": "2022-07-01T20:09:59.200770Z",
     "shell.execute_reply": "2022-07-01T20:09:59.200242Z"
    },
    "papermill": {
     "duration": 0.045031,
     "end_time": "2022-07-01T20:09:59.200898",
     "exception": false,
     "start_time": "2022-07-01T20:09:59.155867",
     "status": "completed"
    },
    "tags": []
   },
   "outputs": [],
   "source": [
    "%load_ext autoreload\n",
    "%autoreload 2"
   ]
  },
  {
   "cell_type": "code",
   "execution_count": 2,
   "id": "22ef38dc",
   "metadata": {
    "execution": {
     "iopub.execute_input": "2022-07-01T20:09:59.253229Z",
     "iopub.status.busy": "2022-07-01T20:09:59.252661Z",
     "iopub.status.idle": "2022-07-01T20:09:59.757238Z",
     "shell.execute_reply": "2022-07-01T20:09:59.756329Z"
    },
    "papermill": {
     "duration": 0.532273,
     "end_time": "2022-07-01T20:09:59.757365",
     "exception": false,
     "start_time": "2022-07-01T20:09:59.225092",
     "status": "completed"
    },
    "tags": []
   },
   "outputs": [],
   "source": [
    "%matplotlib inline\n",
    "import numpy as np\n",
    "import matplotlib.pyplot as plt\n",
    "import pandas as pd"
   ]
  },
  {
   "cell_type": "markdown",
   "id": "ba036198",
   "metadata": {
    "papermill": {
     "duration": 0.02397,
     "end_time": "2022-07-01T20:09:59.805432",
     "exception": false,
     "start_time": "2022-07-01T20:09:59.781462",
     "status": "completed"
    },
    "tags": []
   },
   "source": [
    "From the command line run `pip install mnist`. This is a library that will help you bring down the mnist dataset. If you run this from a notebook, you need to put  `!pip install mnist` in a cell by itself."
   ]
  },
  {
   "cell_type": "code",
   "execution_count": 3,
   "id": "bb6ad8a1",
   "metadata": {
    "execution": {
     "iopub.execute_input": "2022-07-01T20:09:59.857434Z",
     "iopub.status.busy": "2022-07-01T20:09:59.856834Z",
     "iopub.status.idle": "2022-07-01T20:10:01.493457Z",
     "shell.execute_reply": "2022-07-01T20:10:01.492171Z"
    },
    "papermill": {
     "duration": 1.664206,
     "end_time": "2022-07-01T20:10:01.493576",
     "exception": false,
     "start_time": "2022-07-01T20:09:59.829370",
     "status": "completed"
    },
    "tags": []
   },
   "outputs": [
    {
     "name": "stdout",
     "output_type": "stream",
     "text": [
      "Collecting mnist\r\n"
     ]
    },
    {
     "name": "stdout",
     "output_type": "stream",
     "text": [
      "  Downloading mnist-0.2.2-py2.py3-none-any.whl (3.5 kB)\r\n",
      "Requirement already satisfied: numpy in /opt/hostedtoolcache/Python/3.6.15/x64/lib/python3.6/site-packages (from mnist) (1.19.5)\r\n"
     ]
    },
    {
     "name": "stdout",
     "output_type": "stream",
     "text": [
      "Installing collected packages: mnist\r\n"
     ]
    },
    {
     "name": "stdout",
     "output_type": "stream",
     "text": [
      "Successfully installed mnist-0.2.2\r\n"
     ]
    }
   ],
   "source": [
    "!pip install mnist"
   ]
  },
  {
   "cell_type": "markdown",
   "id": "69df9c9a",
   "metadata": {
    "papermill": {
     "duration": 0.024947,
     "end_time": "2022-07-01T20:10:01.543684",
     "exception": false,
     "start_time": "2022-07-01T20:10:01.518737",
     "status": "completed"
    },
    "tags": []
   },
   "source": [
    "## Preparing the Data"
   ]
  },
  {
   "cell_type": "code",
   "execution_count": 4,
   "id": "7f69d806",
   "metadata": {
    "execution": {
     "iopub.execute_input": "2022-07-01T20:10:01.597188Z",
     "iopub.status.busy": "2022-07-01T20:10:01.596641Z",
     "iopub.status.idle": "2022-07-01T20:10:01.610545Z",
     "shell.execute_reply": "2022-07-01T20:10:01.610078Z"
    },
    "papermill": {
     "duration": 0.042103,
     "end_time": "2022-07-01T20:10:01.610644",
     "exception": false,
     "start_time": "2022-07-01T20:10:01.568541",
     "status": "completed"
    },
    "tags": []
   },
   "outputs": [],
   "source": [
    "import mnist"
   ]
  },
  {
   "cell_type": "code",
   "execution_count": 5,
   "id": "a411e44f",
   "metadata": {
    "execution": {
     "iopub.execute_input": "2022-07-01T20:10:01.663694Z",
     "iopub.status.busy": "2022-07-01T20:10:01.663153Z",
     "iopub.status.idle": "2022-07-01T20:10:02.306712Z",
     "shell.execute_reply": "2022-07-01T20:10:02.306081Z"
    },
    "papermill": {
     "duration": 0.671313,
     "end_time": "2022-07-01T20:10:02.306824",
     "exception": false,
     "start_time": "2022-07-01T20:10:01.635511",
     "status": "completed"
    },
    "tags": []
   },
   "outputs": [],
   "source": [
    "train_images = mnist.train_images()\n",
    "train_labels = mnist.train_labels()"
   ]
  },
  {
   "cell_type": "code",
   "execution_count": 6,
   "id": "dceab3a5",
   "metadata": {
    "execution": {
     "iopub.execute_input": "2022-07-01T20:10:02.360963Z",
     "iopub.status.busy": "2022-07-01T20:10:02.360412Z",
     "iopub.status.idle": "2022-07-01T20:10:02.374802Z",
     "shell.execute_reply": "2022-07-01T20:10:02.374343Z"
    },
    "papermill": {
     "duration": 0.042845,
     "end_time": "2022-07-01T20:10:02.374905",
     "exception": false,
     "start_time": "2022-07-01T20:10:02.332060",
     "status": "completed"
    },
    "tags": []
   },
   "outputs": [
    {
     "data": {
      "text/plain": [
       "((60000, 28, 28), (60000,))"
      ]
     },
     "execution_count": 6,
     "metadata": {},
     "output_type": "execute_result"
    }
   ],
   "source": [
    "train_images.shape, train_labels.shape"
   ]
  },
  {
   "cell_type": "code",
   "execution_count": 7,
   "id": "f50dc2bb",
   "metadata": {
    "execution": {
     "iopub.execute_input": "2022-07-01T20:10:02.428825Z",
     "iopub.status.busy": "2022-07-01T20:10:02.428280Z",
     "iopub.status.idle": "2022-07-01T20:10:02.721224Z",
     "shell.execute_reply": "2022-07-01T20:10:02.720731Z"
    },
    "papermill": {
     "duration": 0.321335,
     "end_time": "2022-07-01T20:10:02.721366",
     "exception": false,
     "start_time": "2022-07-01T20:10:02.400031",
     "status": "completed"
    },
    "tags": []
   },
   "outputs": [],
   "source": [
    "test_images = mnist.test_images()\n",
    "test_labels = mnist.test_labels()"
   ]
  },
  {
   "cell_type": "code",
   "execution_count": 8,
   "id": "fc38cf1b",
   "metadata": {
    "execution": {
     "iopub.execute_input": "2022-07-01T20:10:02.777207Z",
     "iopub.status.busy": "2022-07-01T20:10:02.776658Z",
     "iopub.status.idle": "2022-07-01T20:10:02.789758Z",
     "shell.execute_reply": "2022-07-01T20:10:02.789303Z"
    },
    "papermill": {
     "duration": 0.041975,
     "end_time": "2022-07-01T20:10:02.789861",
     "exception": false,
     "start_time": "2022-07-01T20:10:02.747886",
     "status": "completed"
    },
    "tags": []
   },
   "outputs": [
    {
     "data": {
      "text/plain": [
       "((10000, 28, 28), (10000,))"
      ]
     },
     "execution_count": 8,
     "metadata": {},
     "output_type": "execute_result"
    }
   ],
   "source": [
    "test_images.shape, test_labels.shape"
   ]
  },
  {
   "cell_type": "code",
   "execution_count": 9,
   "id": "f9ed8fe0",
   "metadata": {
    "execution": {
     "iopub.execute_input": "2022-07-01T20:10:02.848484Z",
     "iopub.status.busy": "2022-07-01T20:10:02.847932Z",
     "iopub.status.idle": "2022-07-01T20:10:02.982627Z",
     "shell.execute_reply": "2022-07-01T20:10:02.982140Z"
    },
    "papermill": {
     "duration": 0.163396,
     "end_time": "2022-07-01T20:10:02.982740",
     "exception": false,
     "start_time": "2022-07-01T20:10:02.819344",
     "status": "completed"
    },
    "tags": []
   },
   "outputs": [
    {
     "name": "stdout",
     "output_type": "stream",
     "text": [
      "2\n"
     ]
    },
    {
     "data": {
      "text/plain": [
       "<matplotlib.image.AxesImage at 0x7f71ba027400>"
      ]
     },
     "execution_count": 9,
     "metadata": {},
     "output_type": "execute_result"
    },
    {
     "data": {
      "image/png": "[encoded data removed]",
      "text/plain": [
       "<Figure size 432x288 with 1 Axes>"
      ]
     },
     "metadata": {
      "needs_background": "light"
     },
     "output_type": "display_data"
    }
   ],
   "source": [
    "image_index = 7776 # You may select anything up to 60,000\n",
    "print(train_labels[image_index]) \n",
    "plt.imshow(train_images[image_index], cmap='Greys')"
   ]
  },
  {
   "cell_type": "markdown",
   "id": "a8d2388d",
   "metadata": {
    "papermill": {
     "duration": 0.026748,
     "end_time": "2022-07-01T20:10:03.036256",
     "exception": false,
     "start_time": "2022-07-01T20:10:03.009508",
     "status": "completed"
    },
    "tags": []
   },
   "source": [
    "## Filter data to get 3 and 8 out"
   ]
  },
  {
   "cell_type": "code",
   "execution_count": 10,
   "id": "776f7fc7",
   "metadata": {
    "execution": {
     "iopub.execute_input": "2022-07-01T20:10:03.093713Z",
     "iopub.status.busy": "2022-07-01T20:10:03.093156Z",
     "iopub.status.idle": "2022-07-01T20:10:03.108271Z",
     "shell.execute_reply": "2022-07-01T20:10:03.107814Z"
    },
    "papermill": {
     "duration": 0.045539,
     "end_time": "2022-07-01T20:10:03.108373",
     "exception": false,
     "start_time": "2022-07-01T20:10:03.062834",
     "status": "completed"
    },
    "tags": []
   },
   "outputs": [],
   "source": [
    "train_filter = np.where((train_labels == 3 ) | (train_labels == 8))\n",
    "test_filter = np.where((test_labels == 3) | (test_labels == 8))\n",
    "X_train, y_train = train_images[train_filter], train_labels[train_filter]\n",
    "X_test, y_test = test_images[test_filter], test_labels[test_filter]"
   ]
  },
  {
   "cell_type": "markdown",
   "id": "948f0b7e",
   "metadata": {
    "papermill": {
     "duration": 0.026518,
     "end_time": "2022-07-01T20:10:03.161624",
     "exception": false,
     "start_time": "2022-07-01T20:10:03.135106",
     "status": "completed"
    },
    "tags": []
   },
   "source": [
    "We normalize the pizel values in the 0 to 1 range"
   ]
  },
  {
   "cell_type": "code",
   "execution_count": 11,
   "id": "ee4c2166",
   "metadata": {
    "execution": {
     "iopub.execute_input": "2022-07-01T20:10:03.218673Z",
     "iopub.status.busy": "2022-07-01T20:10:03.218101Z",
     "iopub.status.idle": "2022-07-01T20:10:03.256882Z",
     "shell.execute_reply": "2022-07-01T20:10:03.256406Z"
    },
    "papermill": {
     "duration": 0.068678,
     "end_time": "2022-07-01T20:10:03.256989",
     "exception": false,
     "start_time": "2022-07-01T20:10:03.188311",
     "status": "completed"
    },
    "tags": []
   },
   "outputs": [],
   "source": [
    "X_train = X_train/255.\n",
    "X_test = X_test/255."
   ]
  },
  {
   "cell_type": "markdown",
   "id": "ddcf4fab",
   "metadata": {
    "papermill": {
     "duration": 0.026698,
     "end_time": "2022-07-01T20:10:03.310533",
     "exception": false,
     "start_time": "2022-07-01T20:10:03.283835",
     "status": "completed"
    },
    "tags": []
   },
   "source": [
    "And setup the labels as 1 (when the digit is 3) and 0 (when the digit is 8)"
   ]
  },
  {
   "cell_type": "code",
   "execution_count": 12,
   "id": "7dc908f2",
   "metadata": {
    "execution": {
     "iopub.execute_input": "2022-07-01T20:10:03.367271Z",
     "iopub.status.busy": "2022-07-01T20:10:03.366714Z",
     "iopub.status.idle": "2022-07-01T20:10:03.378584Z",
     "shell.execute_reply": "2022-07-01T20:10:03.378123Z"
    },
    "papermill": {
     "duration": 0.041614,
     "end_time": "2022-07-01T20:10:03.378687",
     "exception": false,
     "start_time": "2022-07-01T20:10:03.337073",
     "status": "completed"
    },
    "tags": []
   },
   "outputs": [],
   "source": [
    "y_train = 1*(y_train==3)\n",
    "y_test = 1*(y_test==3)"
   ]
  },
  {
   "cell_type": "code",
   "execution_count": 13,
   "id": "01e4e969",
   "metadata": {
    "execution": {
     "iopub.execute_input": "2022-07-01T20:10:03.436190Z",
     "iopub.status.busy": "2022-07-01T20:10:03.435633Z",
     "iopub.status.idle": "2022-07-01T20:10:03.448823Z",
     "shell.execute_reply": "2022-07-01T20:10:03.448341Z"
    },
    "papermill": {
     "duration": 0.04338,
     "end_time": "2022-07-01T20:10:03.448930",
     "exception": false,
     "start_time": "2022-07-01T20:10:03.405550",
     "status": "completed"
    },
    "tags": []
   },
   "outputs": [
    {
     "data": {
      "text/plain": [
       "((11982, 28, 28), (1984, 28, 28))"
      ]
     },
     "execution_count": 13,
     "metadata": {},
     "output_type": "execute_result"
    }
   ],
   "source": [
    "X_train.shape, X_test.shape"
   ]
  },
  {
   "cell_type": "markdown",
   "id": "5ccf3f85",
   "metadata": {
    "papermill": {
     "duration": 0.027008,
     "end_time": "2022-07-01T20:10:03.503461",
     "exception": false,
     "start_time": "2022-07-01T20:10:03.476453",
     "status": "completed"
    },
    "tags": []
   },
   "source": [
    "We reshape the data to flatten the image pixels into a set of features or co-variates:"
   ]
  },
  {
   "cell_type": "code",
   "execution_count": 14,
   "id": "5286a4a3",
   "metadata": {
    "execution": {
     "iopub.execute_input": "2022-07-01T20:10:03.561438Z",
     "iopub.status.busy": "2022-07-01T20:10:03.560870Z",
     "iopub.status.idle": "2022-07-01T20:10:03.574025Z",
     "shell.execute_reply": "2022-07-01T20:10:03.573572Z"
    },
    "papermill": {
     "duration": 0.043712,
     "end_time": "2022-07-01T20:10:03.574130",
     "exception": false,
     "start_time": "2022-07-01T20:10:03.530418",
     "status": "completed"
    },
    "tags": []
   },
   "outputs": [
    {
     "data": {
      "text/plain": [
       "((11982, 784), (1984, 784))"
      ]
     },
     "execution_count": 14,
     "metadata": {},
     "output_type": "execute_result"
    }
   ],
   "source": [
    "X_train = X_train.reshape(X_train.shape[0], -1)\n",
    "X_test = X_test.reshape(X_test.shape[0], -1)\n",
    "X_train.shape, X_test.shape"
   ]
  },
  {
   "cell_type": "code",
   "execution_count": 15,
   "id": "73c5f88a",
   "metadata": {
    "execution": {
     "iopub.execute_input": "2022-07-01T20:10:03.632748Z",
     "iopub.status.busy": "2022-07-01T20:10:03.632181Z",
     "iopub.status.idle": "2022-07-01T20:10:03.649820Z",
     "shell.execute_reply": "2022-07-01T20:10:03.650238Z"
    },
    "papermill": {
     "duration": 0.048995,
     "end_time": "2022-07-01T20:10:03.650373",
     "exception": false,
     "start_time": "2022-07-01T20:10:03.601378",
     "status": "completed"
    },
    "tags": []
   },
   "outputs": [],
   "source": [
    "#Impoting functions from 'Kudzu'\n",
    "from kudzu.model import Model\n",
    "from kudzu.train import Learner\n",
    "from kudzu.optim import GD\n",
    "from kudzu.data import Data, Sampler,Dataloader\n",
    "\n",
    "from kudzu.callbacks import AccCallback\n",
    "from kudzu.callbacks import ClfCallback\n",
    "\n",
    "from kudzu.loss import MSE\n",
    "\n",
    "from kudzu.layer import Sigmoid,Relu\n",
    "from kudzu.layer import Affine"
   ]
  },
  {
   "cell_type": "markdown",
   "id": "bc01172a",
   "metadata": {
    "papermill": {
     "duration": 0.027078,
     "end_time": "2022-07-01T20:10:03.704672",
     "exception": false,
     "start_time": "2022-07-01T20:10:03.677594",
     "status": "completed"
    },
    "tags": []
   },
   "source": [
    "### Let us create a `Config` class, to store important parameters. \n",
    "This class essentially plays the role of a dictionary."
   ]
  },
  {
   "cell_type": "code",
   "execution_count": 16,
   "id": "978281aa",
   "metadata": {
    "execution": {
     "iopub.execute_input": "2022-07-01T20:10:03.762927Z",
     "iopub.status.busy": "2022-07-01T20:10:03.762328Z",
     "iopub.status.idle": "2022-07-01T20:10:03.774826Z",
     "shell.execute_reply": "2022-07-01T20:10:03.774376Z"
    },
    "papermill": {
     "duration": 0.043162,
     "end_time": "2022-07-01T20:10:03.774928",
     "exception": false,
     "start_time": "2022-07-01T20:10:03.731766",
     "status": "completed"
    },
    "tags": []
   },
   "outputs": [],
   "source": [
    "class Config:\n",
    "    pass\n",
    "config = Config()\n",
    "config.lr = 0.001\n",
    "config.num_epochs = 250\n",
    "config.bs = 50"
   ]
  },
  {
   "cell_type": "markdown",
   "id": "1385fa59",
   "metadata": {
    "papermill": {
     "duration": 0.02713,
     "end_time": "2022-07-01T20:10:03.829521",
     "exception": false,
     "start_time": "2022-07-01T20:10:03.802391",
     "status": "completed"
    },
    "tags": []
   },
   "source": [
    "### Running Models with the Training data\n",
    "Details about the network layers:\n",
    "- A first affine layer has 784 inputs and does 100 affine transforms. These are followed by a Relu\n",
    "- A second affine layer has 100 inputs from the 100 activations of the past layer, and does 100 affine transforms. These are followed by a Relu\n",
    "- A third affine layer has 100 activations and does 2 affine transformations to create an embedding for visualization. There is no non-linearity here.\n",
    "- A final \"logistic regression\" which has an affine transform from 2 inputs to 1 output, which is squeezed through a sigmoid.\n"
   ]
  },
  {
   "cell_type": "code",
   "execution_count": 17,
   "id": "2b9c66db",
   "metadata": {
    "execution": {
     "iopub.execute_input": "2022-07-01T20:10:03.888652Z",
     "iopub.status.busy": "2022-07-01T20:10:03.888085Z",
     "iopub.status.idle": "2022-07-01T20:10:03.899799Z",
     "shell.execute_reply": "2022-07-01T20:10:03.900218Z"
    },
    "papermill": {
     "duration": 0.043521,
     "end_time": "2022-07-01T20:10:03.900341",
     "exception": false,
     "start_time": "2022-07-01T20:10:03.856820",
     "status": "completed"
    },
    "tags": []
   },
   "outputs": [],
   "source": [
    "data = Data(X_train, y_train.reshape(-1,1))\n",
    "sampler = Sampler(data, config.bs, shuffle=True)\n",
    "\n",
    "dl = Dataloader(data, sampler)\n",
    "\n",
    "opt = GD(config.lr)\n",
    "loss = MSE()"
   ]
  },
  {
   "cell_type": "code",
   "execution_count": 18,
   "id": "b275e4c2",
   "metadata": {
    "execution": {
     "iopub.execute_input": "2022-07-01T20:10:03.958701Z",
     "iopub.status.busy": "2022-07-01T20:10:03.958101Z",
     "iopub.status.idle": "2022-07-01T20:10:03.970116Z",
     "shell.execute_reply": "2022-07-01T20:10:03.969669Z"
    },
    "papermill": {
     "duration": 0.042524,
     "end_time": "2022-07-01T20:10:03.970220",
     "exception": false,
     "start_time": "2022-07-01T20:10:03.927696",
     "status": "completed"
    },
    "tags": []
   },
   "outputs": [],
   "source": [
    "training_data_x = X_train\n",
    "testing_data_x = X_test\n",
    "training_data_y = y_train.reshape(-1,1)\n",
    "testing_data_y = y_test.reshape(-1,1)"
   ]
  },
  {
   "cell_type": "code",
   "execution_count": 19,
   "id": "76951160",
   "metadata": {
    "execution": {
     "iopub.execute_input": "2022-07-01T20:10:04.029082Z",
     "iopub.status.busy": "2022-07-01T20:10:04.028511Z",
     "iopub.status.idle": "2022-07-01T20:10:04.045081Z",
     "shell.execute_reply": "2022-07-01T20:10:04.044615Z"
    },
    "papermill": {
     "duration": 0.04776,
     "end_time": "2022-07-01T20:10:04.045188",
     "exception": false,
     "start_time": "2022-07-01T20:10:03.997428",
     "status": "completed"
    },
    "tags": []
   },
   "outputs": [
    {
     "name": "stdout",
     "output_type": "stream",
     "text": [
      "xavier\n",
      "xavier\n",
      "xavier\n",
      "xavier\n",
      "xavier\n"
     ]
    }
   ],
   "source": [
    "layers = [Affine(\"first\", 784, 100), Relu(\"first\"), Affine(\"second\", 100, 100), Relu(\"second\"), Affine(\"third\", 100, 2), Affine(\"last\", 2, 1), Sigmoid(\"last\")]\n",
    "model_nn = Model(layers)\n",
    "model_lr = Model([Affine(\"logits\", 784, 1), Sigmoid(\"sigmoid\")])"
   ]
  },
  {
   "cell_type": "code",
   "execution_count": 20,
   "id": "6eede77a",
   "metadata": {
    "execution": {
     "iopub.execute_input": "2022-07-01T20:10:04.104822Z",
     "iopub.status.busy": "2022-07-01T20:10:04.104261Z",
     "iopub.status.idle": "2022-07-01T20:10:04.115967Z",
     "shell.execute_reply": "2022-07-01T20:10:04.115518Z"
    },
    "papermill": {
     "duration": 0.043103,
     "end_time": "2022-07-01T20:10:04.116072",
     "exception": false,
     "start_time": "2022-07-01T20:10:04.072969",
     "status": "completed"
    },
    "tags": []
   },
   "outputs": [],
   "source": [
    "nn_learner = Learner(loss, model_nn, opt, config.num_epochs)\n",
    "acc_nn = ClfCallback(nn_learner, config.bs, training_data_x , testing_data_x, training_data_y, testing_data_y)\n",
    "nn_learner.set_callbacks([acc_nn])"
   ]
  },
  {
   "cell_type": "code",
   "execution_count": 21,
   "id": "877b6cc7",
   "metadata": {
    "execution": {
     "iopub.execute_input": "2022-07-01T20:10:04.174891Z",
     "iopub.status.busy": "2022-07-01T20:10:04.174324Z",
     "iopub.status.idle": "2022-07-01T20:10:04.186387Z",
     "shell.execute_reply": "2022-07-01T20:10:04.185917Z"
    },
    "papermill": {
     "duration": 0.043002,
     "end_time": "2022-07-01T20:10:04.186494",
     "exception": false,
     "start_time": "2022-07-01T20:10:04.143492",
     "status": "completed"
    },
    "tags": []
   },
   "outputs": [],
   "source": [
    "lr_learner = Learner(loss, model_lr, opt, config.num_epochs)\n",
    "acc_lr = ClfCallback(lr_learner, config.bs, training_data_x , testing_data_x, training_data_y, testing_data_y)\n",
    "lr_learner.set_callbacks([acc_lr])"
   ]
  },
  {
   "cell_type": "code",
   "execution_count": 22,
   "id": "d9b133c3",
   "metadata": {
    "execution": {
     "iopub.execute_input": "2022-07-01T20:10:04.245530Z",
     "iopub.status.busy": "2022-07-01T20:10:04.244972Z",
     "iopub.status.idle": "2022-07-01T20:12:58.772367Z",
     "shell.execute_reply": "2022-07-01T20:12:58.772819Z"
    },
    "papermill": {
     "duration": 174.558806,
     "end_time": "2022-07-01T20:12:58.772946",
     "exception": false,
     "start_time": "2022-07-01T20:10:04.214140",
     "status": "completed"
    },
    "tags": []
   },
   "outputs": [
    {
     "name": "stdout",
     "output_type": "stream",
     "text": [
      "Epoch 0, Loss 0.207\n",
      "Training Accuracy: 0.8165, Testing Accuracy: 0.8322\n",
      "\n"
     ]
    },
    {
     "name": "stdout",
     "output_type": "stream",
     "text": [
      "Epoch 10, Loss 0.0558\n",
      "Training Accuracy: 0.9442, Testing Accuracy: 0.9536\n",
      "\n"
     ]
    },
    {
     "name": "stdout",
     "output_type": "stream",
     "text": [
      "Epoch 20, Loss 0.0399\n",
      "Training Accuracy: 0.9575, Testing Accuracy: 0.9637\n",
      "\n"
     ]
    },
    {
     "name": "stdout",
     "output_type": "stream",
     "text": [
      "Epoch 30, Loss 0.0338\n",
      "Training Accuracy: 0.9630, Testing Accuracy: 0.9657\n",
      "\n"
     ]
    },
    {
     "name": "stdout",
     "output_type": "stream",
     "text": [
      "Epoch 40, Loss 0.0303\n",
      "Training Accuracy: 0.9659, Testing Accuracy: 0.9662\n",
      "\n"
     ]
    },
    {
     "name": "stdout",
     "output_type": "stream",
     "text": [
      "Epoch 50, Loss 0.0281\n",
      "Training Accuracy: 0.9685, Testing Accuracy: 0.9672\n",
      "\n"
     ]
    },
    {
     "name": "stdout",
     "output_type": "stream",
     "text": [
      "Epoch 60, Loss 0.0264\n",
      "Training Accuracy: 0.9705, Testing Accuracy: 0.9693\n",
      "\n"
     ]
    },
    {
     "name": "stdout",
     "output_type": "stream",
     "text": [
      "Epoch 70, Loss 0.025\n",
      "Training Accuracy: 0.9720, Testing Accuracy: 0.9708\n",
      "\n"
     ]
    },
    {
     "name": "stdout",
     "output_type": "stream",
     "text": [
      "Epoch 80, Loss 0.0239\n",
      "Training Accuracy: 0.9733, Testing Accuracy: 0.9723\n",
      "\n"
     ]
    },
    {
     "name": "stdout",
     "output_type": "stream",
     "text": [
      "Epoch 90, Loss 0.023\n",
      "Training Accuracy: 0.9740, Testing Accuracy: 0.9733\n",
      "\n"
     ]
    },
    {
     "name": "stdout",
     "output_type": "stream",
     "text": [
      "Epoch 100, Loss 0.0221\n",
      "Training Accuracy: 0.9751, Testing Accuracy: 0.9733\n",
      "\n"
     ]
    },
    {
     "name": "stdout",
     "output_type": "stream",
     "text": [
      "Epoch 110, Loss 0.0214\n",
      "Training Accuracy: 0.9753, Testing Accuracy: 0.9748\n",
      "\n"
     ]
    },
    {
     "name": "stdout",
     "output_type": "stream",
     "text": [
      "Epoch 120, Loss 0.0207\n",
      "Training Accuracy: 0.9765, Testing Accuracy: 0.9748\n",
      "\n"
     ]
    },
    {
     "name": "stdout",
     "output_type": "stream",
     "text": [
      "Epoch 130, Loss 0.0201\n",
      "Training Accuracy: 0.9774, Testing Accuracy: 0.9753\n",
      "\n"
     ]
    },
    {
     "name": "stdout",
     "output_type": "stream",
     "text": [
      "Epoch 140, Loss 0.0196\n",
      "Training Accuracy: 0.9782, Testing Accuracy: 0.9753\n",
      "\n"
     ]
    },
    {
     "name": "stdout",
     "output_type": "stream",
     "text": [
      "Epoch 150, Loss 0.0191\n",
      "Training Accuracy: 0.9789, Testing Accuracy: 0.9763\n",
      "\n"
     ]
    },
    {
     "name": "stdout",
     "output_type": "stream",
     "text": [
      "Epoch 160, Loss 0.0186\n",
      "Training Accuracy: 0.9799, Testing Accuracy: 0.9773\n",
      "\n"
     ]
    },
    {
     "name": "stdout",
     "output_type": "stream",
     "text": [
      "Epoch 170, Loss 0.0181\n",
      "Training Accuracy: 0.9801, Testing Accuracy: 0.9773\n",
      "\n"
     ]
    },
    {
     "name": "stdout",
     "output_type": "stream",
     "text": [
      "Epoch 180, Loss 0.0176\n",
      "Training Accuracy: 0.9810, Testing Accuracy: 0.9773\n",
      "\n"
     ]
    },
    {
     "name": "stdout",
     "output_type": "stream",
     "text": [
      "Epoch 190, Loss 0.0172\n",
      "Training Accuracy: 0.9817, Testing Accuracy: 0.9773\n",
      "\n"
     ]
    },
    {
     "name": "stdout",
     "output_type": "stream",
     "text": [
      "Epoch 200, Loss 0.0168\n",
      "Training Accuracy: 0.9821, Testing Accuracy: 0.9778\n",
      "\n"
     ]
    },
    {
     "name": "stdout",
     "output_type": "stream",
     "text": [
      "Epoch 210, Loss 0.0164\n",
      "Training Accuracy: 0.9825, Testing Accuracy: 0.9783\n",
      "\n"
     ]
    },
    {
     "name": "stdout",
     "output_type": "stream",
     "text": [
      "Epoch 220, Loss 0.016\n",
      "Training Accuracy: 0.9826, Testing Accuracy: 0.9788\n",
      "\n"
     ]
    },
    {
     "name": "stdout",
     "output_type": "stream",
     "text": [
      "Epoch 230, Loss 0.0157\n",
      "Training Accuracy: 0.9831, Testing Accuracy: 0.9793\n",
      "\n"
     ]
    },
    {
     "name": "stdout",
     "output_type": "stream",
     "text": [
      "Epoch 240, Loss 0.0153\n",
      "Training Accuracy: 0.9837, Testing Accuracy: 0.9798\n",
      "\n"
     ]
    },
    {
     "data": {
      "text/plain": [
       "0.023759106170399155"
      ]
     },
     "execution_count": 22,
     "metadata": {},
     "output_type": "execute_result"
    }
   ],
   "source": [
    "nn_learner.train_loop(dl)"
   ]
  },
  {
   "cell_type": "code",
   "execution_count": 23,
   "id": "e0163366",
   "metadata": {
    "execution": {
     "iopub.execute_input": "2022-07-01T20:12:58.847491Z",
     "iopub.status.busy": "2022-07-01T20:12:58.846930Z",
     "iopub.status.idle": "2022-07-01T20:13:10.954399Z",
     "shell.execute_reply": "2022-07-01T20:13:10.954829Z"
    },
    "papermill": {
     "duration": 12.147407,
     "end_time": "2022-07-01T20:13:10.954957",
     "exception": false,
     "start_time": "2022-07-01T20:12:58.807550",
     "status": "completed"
    },
    "tags": []
   },
   "outputs": [
    {
     "name": "stdout",
     "output_type": "stream",
     "text": [
      "Epoch 0, Loss 0.247\n",
      "Training Accuracy: 0.6601, Testing Accuracy: 0.6825\n",
      "\n"
     ]
    },
    {
     "name": "stdout",
     "output_type": "stream",
     "text": [
      "Epoch 10, Loss 0.1075\n",
      "Training Accuracy: 0.9003, Testing Accuracy: 0.9189\n",
      "\n"
     ]
    },
    {
     "name": "stdout",
     "output_type": "stream",
     "text": [
      "Epoch 20, Loss 0.082\n",
      "Training Accuracy: 0.9240, Testing Accuracy: 0.9370\n",
      "\n"
     ]
    },
    {
     "name": "stdout",
     "output_type": "stream",
     "text": [
      "Epoch 30, Loss 0.0702\n",
      "Training Accuracy: 0.9342, Testing Accuracy: 0.9471\n",
      "\n"
     ]
    },
    {
     "name": "stdout",
     "output_type": "stream",
     "text": [
      "Epoch 40, Loss 0.0631\n",
      "Training Accuracy: 0.9402, Testing Accuracy: 0.9536\n",
      "\n"
     ]
    },
    {
     "name": "stdout",
     "output_type": "stream",
     "text": [
      "Epoch 50, Loss 0.0583\n",
      "Training Accuracy: 0.9439, Testing Accuracy: 0.9561\n",
      "\n"
     ]
    },
    {
     "name": "stdout",
     "output_type": "stream",
     "text": [
      "Epoch 60, Loss 0.0548\n",
      "Training Accuracy: 0.9477, Testing Accuracy: 0.9561\n",
      "\n"
     ]
    },
    {
     "name": "stdout",
     "output_type": "stream",
     "text": [
      "Epoch 70, Loss 0.0521\n",
      "Training Accuracy: 0.9493, Testing Accuracy: 0.9567\n",
      "\n"
     ]
    },
    {
     "name": "stdout",
     "output_type": "stream",
     "text": [
      "Epoch 80, Loss 0.05\n",
      "Training Accuracy: 0.9508, Testing Accuracy: 0.9592\n",
      "\n"
     ]
    },
    {
     "name": "stdout",
     "output_type": "stream",
     "text": [
      "Epoch 90, Loss 0.0482\n",
      "Training Accuracy: 0.9527, Testing Accuracy: 0.9602\n",
      "\n"
     ]
    },
    {
     "name": "stdout",
     "output_type": "stream",
     "text": [
      "Epoch 100, Loss 0.0467\n",
      "Training Accuracy: 0.9539, Testing Accuracy: 0.9617\n",
      "\n"
     ]
    },
    {
     "name": "stdout",
     "output_type": "stream",
     "text": [
      "Epoch 110, Loss 0.0454\n",
      "Training Accuracy: 0.9546, Testing Accuracy: 0.9627\n",
      "\n"
     ]
    },
    {
     "name": "stdout",
     "output_type": "stream",
     "text": [
      "Epoch 120, Loss 0.0443\n",
      "Training Accuracy: 0.9557, Testing Accuracy: 0.9632\n",
      "\n"
     ]
    },
    {
     "name": "stdout",
     "output_type": "stream",
     "text": [
      "Epoch 130, Loss 0.0434\n",
      "Training Accuracy: 0.9564, Testing Accuracy: 0.9632\n",
      "\n"
     ]
    },
    {
     "name": "stdout",
     "output_type": "stream",
     "text": [
      "Epoch 140, Loss 0.0425\n",
      "Training Accuracy: 0.9569, Testing Accuracy: 0.9632\n",
      "\n"
     ]
    },
    {
     "name": "stdout",
     "output_type": "stream",
     "text": [
      "Epoch 150, Loss 0.0418\n",
      "Training Accuracy: 0.9576, Testing Accuracy: 0.9632\n",
      "\n"
     ]
    },
    {
     "name": "stdout",
     "output_type": "stream",
     "text": [
      "Epoch 160, Loss 0.0411\n",
      "Training Accuracy: 0.9582, Testing Accuracy: 0.9632\n",
      "\n"
     ]
    },
    {
     "name": "stdout",
     "output_type": "stream",
     "text": [
      "Epoch 170, Loss 0.0404\n",
      "Training Accuracy: 0.9581, Testing Accuracy: 0.9632\n",
      "\n"
     ]
    },
    {
     "name": "stdout",
     "output_type": "stream",
     "text": [
      "Epoch 180, Loss 0.0399\n",
      "Training Accuracy: 0.9585, Testing Accuracy: 0.9637\n",
      "\n"
     ]
    },
    {
     "name": "stdout",
     "output_type": "stream",
     "text": [
      "Epoch 190, Loss 0.0393\n",
      "Training Accuracy: 0.9589, Testing Accuracy: 0.9642\n",
      "\n"
     ]
    },
    {
     "name": "stdout",
     "output_type": "stream",
     "text": [
      "Epoch 200, Loss 0.0388\n",
      "Training Accuracy: 0.9591, Testing Accuracy: 0.9642\n",
      "\n"
     ]
    },
    {
     "name": "stdout",
     "output_type": "stream",
     "text": [
      "Epoch 210, Loss 0.0384\n",
      "Training Accuracy: 0.9591, Testing Accuracy: 0.9652\n",
      "\n"
     ]
    },
    {
     "name": "stdout",
     "output_type": "stream",
     "text": [
      "Epoch 220, Loss 0.038\n",
      "Training Accuracy: 0.9596, Testing Accuracy: 0.9652\n",
      "\n"
     ]
    },
    {
     "name": "stdout",
     "output_type": "stream",
     "text": [
      "Epoch 230, Loss 0.0376\n",
      "Training Accuracy: 0.9601, Testing Accuracy: 0.9652\n",
      "\n"
     ]
    },
    {
     "name": "stdout",
     "output_type": "stream",
     "text": [
      "Epoch 240, Loss 0.0372\n",
      "Training Accuracy: 0.9604, Testing Accuracy: 0.9652\n",
      "\n"
     ]
    },
    {
     "data": {
      "text/plain": [
       "0.0885337089234356"
      ]
     },
     "execution_count": 23,
     "metadata": {},
     "output_type": "execute_result"
    }
   ],
   "source": [
    "lr_learner.train_loop(dl)"
   ]
  },
  {
   "cell_type": "code",
   "execution_count": 24,
   "id": "ca410940",
   "metadata": {
    "execution": {
     "iopub.execute_input": "2022-07-01T20:13:11.046147Z",
     "iopub.status.busy": "2022-07-01T20:13:11.045235Z",
     "iopub.status.idle": "2022-07-01T20:13:11.278253Z",
     "shell.execute_reply": "2022-07-01T20:13:11.278708Z"
    },
    "papermill": {
     "duration": 0.282584,
     "end_time": "2022-07-01T20:13:11.278841",
     "exception": false,
     "start_time": "2022-07-01T20:13:10.996257",
     "status": "completed"
    },
    "tags": []
   },
   "outputs": [
    {
     "data": {
      "text/plain": [
       "<matplotlib.legend.Legend at 0x7f71ad3daac8>"
      ]
     },
     "execution_count": 24,
     "metadata": {},
     "output_type": "execute_result"
    },
    {
     "data": {
      "image/png": "[encoded data removed]",
      "text/plain": [
       "<Figure size 1080x720 with 1 Axes>"
      ]
     },
     "metadata": {
      "needs_background": "light"
     },
     "output_type": "display_data"
    }
   ],
   "source": [
    "#comparing the results of NN and LR\n",
    "plt.figure(figsize=(15,10))\n",
    "\n",
    "# Neural Network plots\n",
    "plt.plot(acc_nn.accuracies, 'r-', label = \"Training Accuracies - NN\")\n",
    "plt.plot(acc_nn.test_accuracies, 'g-', label = \"Testing Accuracies - NN\")\n",
    "\n",
    "# Logistic Regression plots\n",
    "plt.plot(acc_lr.accuracies, 'k-', label = \"Training Accuracies - LR\")\n",
    "plt.plot(acc_lr.test_accuracies, 'b-', label = \"Testing Accuracies - LR\")\n",
    "plt.legend()"
   ]
  },
  {
   "cell_type": "markdown",
   "id": "80dfb35c",
   "metadata": {
    "papermill": {
     "duration": 0.042133,
     "end_time": "2022-07-01T20:13:11.363352",
     "exception": false,
     "start_time": "2022-07-01T20:13:11.321219",
     "status": "completed"
    },
    "tags": []
   },
   "source": [
    "#### Plotting the outputs of this layer of the NN.\n"
   ]
  },
  {
   "cell_type": "code",
   "execution_count": 25,
   "id": "45eb2ff5",
   "metadata": {
    "execution": {
     "iopub.execute_input": "2022-07-01T20:13:11.450935Z",
     "iopub.status.busy": "2022-07-01T20:13:11.450373Z",
     "iopub.status.idle": "2022-07-01T20:13:11.485565Z",
     "shell.execute_reply": "2022-07-01T20:13:11.486083Z"
    },
    "papermill": {
     "duration": 0.080884,
     "end_time": "2022-07-01T20:13:11.486205",
     "exception": false,
     "start_time": "2022-07-01T20:13:11.405321",
     "status": "completed"
    },
    "tags": []
   },
   "outputs": [],
   "source": [
    "new_model = Model(layers[:-2])\n",
    "testing_plot = new_model(testing_data_x)"
   ]
  },
  {
   "cell_type": "code",
   "execution_count": 26,
   "id": "4c0a5485",
   "metadata": {
    "execution": {
     "iopub.execute_input": "2022-07-01T20:13:11.579830Z",
     "iopub.status.busy": "2022-07-01T20:13:11.579270Z",
     "iopub.status.idle": "2022-07-01T20:13:11.765795Z",
     "shell.execute_reply": "2022-07-01T20:13:11.765249Z"
    },
    "papermill": {
     "duration": 0.237137,
     "end_time": "2022-07-01T20:13:11.765899",
     "exception": false,
     "start_time": "2022-07-01T20:13:11.528762",
     "status": "completed"
    },
    "tags": []
   },
   "outputs": [
    {
     "data": {
      "text/plain": [
       "Text(0.5, 1.0, 'Outputs')"
      ]
     },
     "execution_count": 26,
     "metadata": {},
     "output_type": "execute_result"
    },
    {
     "data": {
      "image/png": "[encoded data removed]",
      "text/plain": [
       "<Figure size 576x504 with 1 Axes>"
      ]
     },
     "metadata": {
      "needs_background": "light"
     },
     "output_type": "display_data"
    }
   ],
   "source": [
    "# Plotting the scatter plot of points and color coding by class\n",
    "plt.figure(figsize=(8,7))\n",
    "plt.scatter(testing_plot[:,0], testing_plot[:,1], alpha = 0.1, c = y_test.ravel());\n",
    "plt.title('Outputs')"
   ]
  },
  {
   "cell_type": "markdown",
   "id": "a74fcf8f",
   "metadata": {
    "papermill": {
     "duration": 0.044257,
     "end_time": "2022-07-01T20:13:11.875250",
     "exception": false,
     "start_time": "2022-07-01T20:13:11.830993",
     "status": "completed"
    },
    "tags": []
   },
   "source": [
    "Probability contours"
   ]
  },
  {
   "cell_type": "code",
   "execution_count": 27,
   "id": "d0afc8e3",
   "metadata": {
    "execution": {
     "iopub.execute_input": "2022-07-01T20:13:11.971194Z",
     "iopub.status.busy": "2022-07-01T20:13:11.966821Z",
     "iopub.status.idle": "2022-07-01T20:13:11.978684Z",
     "shell.execute_reply": "2022-07-01T20:13:11.978210Z"
    },
    "papermill": {
     "duration": 0.059082,
     "end_time": "2022-07-01T20:13:11.978782",
     "exception": false,
     "start_time": "2022-07-01T20:13:11.919700",
     "status": "completed"
    },
    "tags": []
   },
   "outputs": [],
   "source": [
    "model_prob = Model(layers[-2:]) "
   ]
  },
  {
   "cell_type": "code",
   "execution_count": 28,
   "id": "9b96e238",
   "metadata": {
    "execution": {
     "iopub.execute_input": "2022-07-01T20:13:12.070887Z",
     "iopub.status.busy": "2022-07-01T20:13:12.070290Z",
     "iopub.status.idle": "2022-07-01T20:13:12.082890Z",
     "shell.execute_reply": "2022-07-01T20:13:12.083314Z"
    },
    "papermill": {
     "duration": 0.060615,
     "end_time": "2022-07-01T20:13:12.083431",
     "exception": false,
     "start_time": "2022-07-01T20:13:12.022816",
     "status": "completed"
    },
    "tags": []
   },
   "outputs": [],
   "source": [
    "#creating the x and y ranges according to the above generated plot.\n",
    "x_range = np.linspace(-4, 1, 100) \n",
    "y_range = np.linspace(-6, 6, 100) \n",
    "x_grid, y_grid = np.meshgrid(x_range, y_range) # x_grid and y_grig are of size 100 X 100\n",
    "\n",
    "# converting x_grid and y_grid to continuous arrays\n",
    "x_gridflat = np.ravel(x_grid)\n",
    "y_gridflat = np.ravel(y_grid)\n",
    "\n",
    "# The last layer of the current model takes two columns as input. Hence transpose of np.vstack() is required.\n",
    "X = np.vstack((x_gridflat, y_gridflat)).T\n",
    "\n",
    "prob_contour = model_prob(X).reshape(100,100) "
   ]
  },
  {
   "cell_type": "code",
   "execution_count": 29,
   "id": "da72499a",
   "metadata": {
    "execution": {
     "iopub.execute_input": "2022-07-01T20:13:12.177202Z",
     "iopub.status.busy": "2022-07-01T20:13:12.176670Z",
     "iopub.status.idle": "2022-07-01T20:13:12.412417Z",
     "shell.execute_reply": "2022-07-01T20:13:12.411946Z"
    },
    "papermill": {
     "duration": 0.284483,
     "end_time": "2022-07-01T20:13:12.412526",
     "exception": false,
     "start_time": "2022-07-01T20:13:12.128043",
     "status": "completed"
    },
    "tags": []
   },
   "outputs": [
    {
     "data": {
      "image/png": "[encoded data removed]",
      "text/plain": [
       "<Figure size 720x648 with 1 Axes>"
      ]
     },
     "metadata": {
      "needs_background": "light"
     },
     "output_type": "display_data"
    }
   ],
   "source": [
    "plt.figure(figsize=(10,9))\n",
    "plt.scatter(testing_plot[:,0], testing_plot[:,1], alpha = 0.1, c = y_test.ravel())\n",
    "contours = plt.contour(x_grid,y_grid,prob_contour)\n",
    "plt.title('Probability Contours')\n",
    "plt.clabel(contours, inline = True );"
   ]
  },
  {
   "cell_type": "code",
   "execution_count": null,
   "id": "e81b4ac7",
   "metadata": {
    "papermill": {
     "duration": 0.050933,
     "end_time": "2022-07-01T20:13:12.510988",
     "exception": false,
     "start_time": "2022-07-01T20:13:12.460055",
     "status": "completed"
    },
    "tags": []
   },
   "outputs": [],
   "source": []
  }
 ],
 "metadata": {
  "kernelspec": {
   "display_name": "Python 3",
   "language": "python",
   "name": "python3"
  },
  "language_info": {
   "codemirror_mode": {
    "name": "ipython",
    "version": 3
   },
   "file_extension": ".py",
   "mimetype": "text/x-python",
   "name": "python",
   "nbconvert_exporter": "python",
   "pygments_lexer": "ipython3",
   "version": "3.6.15"
  },
  "papermill": {
   "default_parameters": {},
   "duration": 194.748582,
   "end_time": "2022-07-01T20:13:12.874915",
   "environment_variables": {},
   "exception": null,
   "input_path": "2020-08-11-part2.ipynb",
   "output_path": "2020-08-11-part2.ipynb",
   "parameters": {},
   "start_time": "2022-07-01T20:09:58.126333",
   "version": "2.3.3"
  }
 },
 "nbformat": 4,
 "nbformat_minor": 5
}