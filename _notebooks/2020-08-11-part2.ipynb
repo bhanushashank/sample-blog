{
 "cells": [
  {
   "cell_type": "markdown",
   "id": "98380cd3",
   "metadata": {
    "papermill": {
     "duration": 0.029604,
     "end_time": "2022-08-12T20:10:00.692484",
     "exception": false,
     "start_time": "2022-08-12T20:10:00.662880",
     "status": "completed"
    },
    "tags": []
   },
   "source": [
    "# Distinguish Your Own Digits (DYOD)"
   ]
  },
  {
   "cell_type": "markdown",
   "id": "ef31240d",
   "metadata": {
    "papermill": {
     "duration": 0.027137,
     "end_time": "2022-08-12T20:10:00.744544",
     "exception": false,
     "start_time": "2022-08-12T20:10:00.717407",
     "status": "completed"
    },
    "tags": []
   },
   "source": [
    "You are going to write a classifier that distinguishes between the number 3 and number 8."
   ]
  },
  {
   "cell_type": "code",
   "execution_count": 1,
   "id": "b15c8646",
   "metadata": {
    "execution": {
     "iopub.execute_input": "2022-08-12T20:10:00.803070Z",
     "iopub.status.busy": "2022-08-12T20:10:00.802499Z",
     "iopub.status.idle": "2022-08-12T20:10:00.813157Z",
     "shell.execute_reply": "2022-08-12T20:10:00.812687Z"
    },
    "papermill": {
     "duration": 0.044427,
     "end_time": "2022-08-12T20:10:00.813282",
     "exception": false,
     "start_time": "2022-08-12T20:10:00.768855",
     "status": "completed"
    },
    "tags": []
   },
   "outputs": [],
   "source": [
    "%load_ext autoreload\n",
    "%autoreload 2"
   ]
  },
  {
   "cell_type": "code",
   "execution_count": 2,
   "id": "22ef38dc",
   "metadata": {
    "execution": {
     "iopub.execute_input": "2022-08-12T20:10:00.865752Z",
     "iopub.status.busy": "2022-08-12T20:10:00.865165Z",
     "iopub.status.idle": "2022-08-12T20:10:01.368204Z",
     "shell.execute_reply": "2022-08-12T20:10:01.367722Z"
    },
    "papermill": {
     "duration": 0.530754,
     "end_time": "2022-08-12T20:10:01.368320",
     "exception": false,
     "start_time": "2022-08-12T20:10:00.837566",
     "status": "completed"
    },
    "tags": []
   },
   "outputs": [],
   "source": [
    "%matplotlib inline\n",
    "import numpy as np\n",
    "import matplotlib.pyplot as plt\n",
    "import pandas as pd"
   ]
  },
  {
   "cell_type": "markdown",
   "id": "ba036198",
   "metadata": {
    "papermill": {
     "duration": 0.024226,
     "end_time": "2022-08-12T20:10:01.417803",
     "exception": false,
     "start_time": "2022-08-12T20:10:01.393577",
     "status": "completed"
    },
    "tags": []
   },
   "source": [
    "From the command line run `pip install mnist`. This is a library that will help you bring down the mnist dataset. If you run this from a notebook, you need to put  `!pip install mnist` in a cell by itself."
   ]
  },
  {
   "cell_type": "code",
   "execution_count": 3,
   "id": "bb6ad8a1",
   "metadata": {
    "execution": {
     "iopub.execute_input": "2022-08-12T20:10:01.470444Z",
     "iopub.status.busy": "2022-08-12T20:10:01.469878Z",
     "iopub.status.idle": "2022-08-12T20:10:03.063349Z",
     "shell.execute_reply": "2022-08-12T20:10:03.062282Z"
    },
    "papermill": {
     "duration": 1.621513,
     "end_time": "2022-08-12T20:10:03.063473",
     "exception": false,
     "start_time": "2022-08-12T20:10:01.441960",
     "status": "completed"
    },
    "tags": []
   },
   "outputs": [
    {
     "name": "stdout",
     "output_type": "stream",
     "text": [
      "Collecting mnist\r\n"
     ]
    },
    {
     "name": "stdout",
     "output_type": "stream",
     "text": [
      "  Downloading mnist-0.2.2-py2.py3-none-any.whl (3.5 kB)\r\n",
      "Requirement already satisfied: numpy in /opt/hostedtoolcache/Python/3.6.15/x64/lib/python3.6/site-packages (from mnist) (1.19.5)\r\n"
     ]
    },
    {
     "name": "stdout",
     "output_type": "stream",
     "text": [
      "Installing collected packages: mnist\r\n",
      "Successfully installed mnist-0.2.2\r\n"
     ]
    }
   ],
   "source": [
    "!pip install mnist"
   ]
  },
  {
   "cell_type": "markdown",
   "id": "69df9c9a",
   "metadata": {
    "papermill": {
     "duration": 0.025314,
     "end_time": "2022-08-12T20:10:03.114289",
     "exception": false,
     "start_time": "2022-08-12T20:10:03.088975",
     "status": "completed"
    },
    "tags": []
   },
   "source": [
    "## Preparing the Data"
   ]
  },
  {
   "cell_type": "code",
   "execution_count": 4,
   "id": "7f69d806",
   "metadata": {
    "execution": {
     "iopub.execute_input": "2022-08-12T20:10:03.168798Z",
     "iopub.status.busy": "2022-08-12T20:10:03.168235Z",
     "iopub.status.idle": "2022-08-12T20:10:03.182494Z",
     "shell.execute_reply": "2022-08-12T20:10:03.182034Z"
    },
    "papermill": {
     "duration": 0.04315,
     "end_time": "2022-08-12T20:10:03.182598",
     "exception": false,
     "start_time": "2022-08-12T20:10:03.139448",
     "status": "completed"
    },
    "tags": []
   },
   "outputs": [],
   "source": [
    "import mnist"
   ]
  },
  {
   "cell_type": "code",
   "execution_count": 5,
   "id": "a411e44f",
   "metadata": {
    "execution": {
     "iopub.execute_input": "2022-08-12T20:10:03.236866Z",
     "iopub.status.busy": "2022-08-12T20:10:03.236295Z",
     "iopub.status.idle": "2022-08-12T20:10:03.770042Z",
     "shell.execute_reply": "2022-08-12T20:10:03.769530Z"
    },
    "papermill": {
     "duration": 0.562234,
     "end_time": "2022-08-12T20:10:03.770151",
     "exception": false,
     "start_time": "2022-08-12T20:10:03.207917",
     "status": "completed"
    },
    "tags": []
   },
   "outputs": [],
   "source": [
    "train_images = mnist.train_images()\n",
    "train_labels = mnist.train_labels()"
   ]
  },
  {
   "cell_type": "code",
   "execution_count": 6,
   "id": "dceab3a5",
   "metadata": {
    "execution": {
     "iopub.execute_input": "2022-08-12T20:10:03.824659Z",
     "iopub.status.busy": "2022-08-12T20:10:03.824092Z",
     "iopub.status.idle": "2022-08-12T20:10:03.838161Z",
     "shell.execute_reply": "2022-08-12T20:10:03.837702Z"
    },
    "papermill": {
     "duration": 0.042799,
     "end_time": "2022-08-12T20:10:03.838263",
     "exception": false,
     "start_time": "2022-08-12T20:10:03.795464",
     "status": "completed"
    },
    "tags": []
   },
   "outputs": [
    {
     "data": {
      "text/plain": [
       "((60000, 28, 28), (60000,))"
      ]
     },
     "execution_count": 6,
     "metadata": {},
     "output_type": "execute_result"
    }
   ],
   "source": [
    "train_images.shape, train_labels.shape"
   ]
  },
  {
   "cell_type": "code",
   "execution_count": 7,
   "id": "f50dc2bb",
   "metadata": {
    "execution": {
     "iopub.execute_input": "2022-08-12T20:10:03.892996Z",
     "iopub.status.busy": "2022-08-12T20:10:03.892425Z",
     "iopub.status.idle": "2022-08-12T20:10:04.063474Z",
     "shell.execute_reply": "2022-08-12T20:10:04.062959Z"
    },
    "papermill": {
     "duration": 0.200083,
     "end_time": "2022-08-12T20:10:04.063592",
     "exception": false,
     "start_time": "2022-08-12T20:10:03.863509",
     "status": "completed"
    },
    "tags": []
   },
   "outputs": [],
   "source": [
    "test_images = mnist.test_images()\n",
    "test_labels = mnist.test_labels()"
   ]
  },
  {
   "cell_type": "code",
   "execution_count": 8,
   "id": "fc38cf1b",
   "metadata": {
    "execution": {
     "iopub.execute_input": "2022-08-12T20:10:04.118712Z",
     "iopub.status.busy": "2022-08-12T20:10:04.118157Z",
     "iopub.status.idle": "2022-08-12T20:10:04.130684Z",
     "shell.execute_reply": "2022-08-12T20:10:04.131218Z"
    },
    "papermill": {
     "duration": 0.042157,
     "end_time": "2022-08-12T20:10:04.131333",
     "exception": false,
     "start_time": "2022-08-12T20:10:04.089176",
     "status": "completed"
    },
    "tags": []
   },
   "outputs": [
    {
     "data": {
      "text/plain": [
       "((10000, 28, 28), (10000,))"
      ]
     },
     "execution_count": 8,
     "metadata": {},
     "output_type": "execute_result"
    }
   ],
   "source": [
    "test_images.shape, test_labels.shape"
   ]
  },
  {
   "cell_type": "code",
   "execution_count": 9,
   "id": "f9ed8fe0",
   "metadata": {
    "execution": {
     "iopub.execute_input": "2022-08-12T20:10:04.186531Z",
     "iopub.status.busy": "2022-08-12T20:10:04.185974Z",
     "iopub.status.idle": "2022-08-12T20:10:04.317835Z",
     "shell.execute_reply": "2022-08-12T20:10:04.318273Z"
    },
    "papermill": {
     "duration": 0.161266,
     "end_time": "2022-08-12T20:10:04.318395",
     "exception": false,
     "start_time": "2022-08-12T20:10:04.157129",
     "status": "completed"
    },
    "tags": []
   },
   "outputs": [
    {
     "name": "stdout",
     "output_type": "stream",
     "text": [
      "2\n"
     ]
    },
    {
     "data": {
      "text/plain": [
       "<matplotlib.image.AxesImage at 0x7f1286d3a5c0>"
      ]
     },
     "execution_count": 9,
     "metadata": {},
     "output_type": "execute_result"
    },
    {
     "data": {
      "image/png": "[encoded data removed]",
      "text/plain": [
       "<Figure size 432x288 with 1 Axes>"
      ]
     },
     "metadata": {
      "needs_background": "light"
     },
     "output_type": "display_data"
    }
   ],
   "source": [
    "image_index = 7776 # You may select anything up to 60,000\n",
    "print(train_labels[image_index]) \n",
    "plt.imshow(train_images[image_index], cmap='Greys')"
   ]
  },
  {
   "cell_type": "markdown",
   "id": "a8d2388d",
   "metadata": {
    "papermill": {
     "duration": 0.026833,
     "end_time": "2022-08-12T20:10:04.372209",
     "exception": false,
     "start_time": "2022-08-12T20:10:04.345376",
     "status": "completed"
    },
    "tags": []
   },
   "source": [
    "## Filter data to get 3 and 8 out"
   ]
  },
  {
   "cell_type": "code",
   "execution_count": 10,
   "id": "776f7fc7",
   "metadata": {
    "execution": {
     "iopub.execute_input": "2022-08-12T20:10:04.429894Z",
     "iopub.status.busy": "2022-08-12T20:10:04.429289Z",
     "iopub.status.idle": "2022-08-12T20:10:04.446088Z",
     "shell.execute_reply": "2022-08-12T20:10:04.445621Z"
    },
    "papermill": {
     "duration": 0.047104,
     "end_time": "2022-08-12T20:10:04.446192",
     "exception": false,
     "start_time": "2022-08-12T20:10:04.399088",
     "status": "completed"
    },
    "tags": []
   },
   "outputs": [],
   "source": [
    "train_filter = np.where((train_labels == 3 ) | (train_labels == 8))\n",
    "test_filter = np.where((test_labels == 3) | (test_labels == 8))\n",
    "X_train, y_train = train_images[train_filter], train_labels[train_filter]\n",
    "X_test, y_test = test_images[test_filter], test_labels[test_filter]"
   ]
  },
  {
   "cell_type": "markdown",
   "id": "948f0b7e",
   "metadata": {
    "papermill": {
     "duration": 0.026852,
     "end_time": "2022-08-12T20:10:04.499885",
     "exception": false,
     "start_time": "2022-08-12T20:10:04.473033",
     "status": "completed"
    },
    "tags": []
   },
   "source": [
    "We normalize the pizel values in the 0 to 1 range"
   ]
  },
  {
   "cell_type": "code",
   "execution_count": 11,
   "id": "ee4c2166",
   "metadata": {
    "execution": {
     "iopub.execute_input": "2022-08-12T20:10:04.556780Z",
     "iopub.status.busy": "2022-08-12T20:10:04.556209Z",
     "iopub.status.idle": "2022-08-12T20:10:04.597456Z",
     "shell.execute_reply": "2022-08-12T20:10:04.596957Z"
    },
    "papermill": {
     "duration": 0.070937,
     "end_time": "2022-08-12T20:10:04.597572",
     "exception": false,
     "start_time": "2022-08-12T20:10:04.526635",
     "status": "completed"
    },
    "tags": []
   },
   "outputs": [],
   "source": [
    "X_train = X_train/255.\n",
    "X_test = X_test/255."
   ]
  },
  {
   "cell_type": "markdown",
   "id": "ddcf4fab",
   "metadata": {
    "papermill": {
     "duration": 0.026907,
     "end_time": "2022-08-12T20:10:04.651397",
     "exception": false,
     "start_time": "2022-08-12T20:10:04.624490",
     "status": "completed"
    },
    "tags": []
   },
   "source": [
    "And setup the labels as 1 (when the digit is 3) and 0 (when the digit is 8)"
   ]
  },
  {
   "cell_type": "code",
   "execution_count": 12,
   "id": "7dc908f2",
   "metadata": {
    "execution": {
     "iopub.execute_input": "2022-08-12T20:10:04.709657Z",
     "iopub.status.busy": "2022-08-12T20:10:04.709058Z",
     "iopub.status.idle": "2022-08-12T20:10:04.720204Z",
     "shell.execute_reply": "2022-08-12T20:10:04.719741Z"
    },
    "papermill": {
     "duration": 0.042009,
     "end_time": "2022-08-12T20:10:04.720305",
     "exception": false,
     "start_time": "2022-08-12T20:10:04.678296",
     "status": "completed"
    },
    "tags": []
   },
   "outputs": [],
   "source": [
    "y_train = 1*(y_train==3)\n",
    "y_test = 1*(y_test==3)"
   ]
  },
  {
   "cell_type": "code",
   "execution_count": 13,
   "id": "01e4e969",
   "metadata": {
    "execution": {
     "iopub.execute_input": "2022-08-12T20:10:04.778448Z",
     "iopub.status.busy": "2022-08-12T20:10:04.777885Z",
     "iopub.status.idle": "2022-08-12T20:10:04.790251Z",
     "shell.execute_reply": "2022-08-12T20:10:04.790719Z"
    },
    "papermill": {
     "duration": 0.043569,
     "end_time": "2022-08-12T20:10:04.790837",
     "exception": false,
     "start_time": "2022-08-12T20:10:04.747268",
     "status": "completed"
    },
    "tags": []
   },
   "outputs": [
    {
     "data": {
      "text/plain": [
       "((11982, 28, 28), (1984, 28, 28))"
      ]
     },
     "execution_count": 13,
     "metadata": {},
     "output_type": "execute_result"
    }
   ],
   "source": [
    "X_train.shape, X_test.shape"
   ]
  },
  {
   "cell_type": "markdown",
   "id": "5ccf3f85",
   "metadata": {
    "papermill": {
     "duration": 0.026886,
     "end_time": "2022-08-12T20:10:04.844651",
     "exception": false,
     "start_time": "2022-08-12T20:10:04.817765",
     "status": "completed"
    },
    "tags": []
   },
   "source": [
    "We reshape the data to flatten the image pixels into a set of features or co-variates:"
   ]
  },
  {
   "cell_type": "code",
   "execution_count": 14,
   "id": "5286a4a3",
   "metadata": {
    "execution": {
     "iopub.execute_input": "2022-08-12T20:10:04.903215Z",
     "iopub.status.busy": "2022-08-12T20:10:04.902648Z",
     "iopub.status.idle": "2022-08-12T20:10:04.915668Z",
     "shell.execute_reply": "2022-08-12T20:10:04.915128Z"
    },
    "papermill": {
     "duration": 0.043995,
     "end_time": "2022-08-12T20:10:04.915768",
     "exception": false,
     "start_time": "2022-08-12T20:10:04.871773",
     "status": "completed"
    },
    "tags": []
   },
   "outputs": [
    {
     "data": {
      "text/plain": [
       "((11982, 784), (1984, 784))"
      ]
     },
     "execution_count": 14,
     "metadata": {},
     "output_type": "execute_result"
    }
   ],
   "source": [
    "X_train = X_train.reshape(X_train.shape[0], -1)\n",
    "X_test = X_test.reshape(X_test.shape[0], -1)\n",
    "X_train.shape, X_test.shape"
   ]
  },
  {
   "cell_type": "code",
   "execution_count": 15,
   "id": "73c5f88a",
   "metadata": {
    "execution": {
     "iopub.execute_input": "2022-08-12T20:10:04.974919Z",
     "iopub.status.busy": "2022-08-12T20:10:04.974363Z",
     "iopub.status.idle": "2022-08-12T20:10:04.992121Z",
     "shell.execute_reply": "2022-08-12T20:10:04.992540Z"
    },
    "papermill": {
     "duration": 0.049629,
     "end_time": "2022-08-12T20:10:04.992661",
     "exception": false,
     "start_time": "2022-08-12T20:10:04.943032",
     "status": "completed"
    },
    "tags": []
   },
   "outputs": [],
   "source": [
    "#Impoting functions from 'Kudzu'\n",
    "from kudzu.model import Model\n",
    "from kudzu.train import Learner\n",
    "from kudzu.optim import GD\n",
    "from kudzu.data import Data, Sampler,Dataloader\n",
    "\n",
    "from kudzu.callbacks import AccCallback\n",
    "from kudzu.callbacks import ClfCallback\n",
    "\n",
    "from kudzu.loss import MSE\n",
    "\n",
    "from kudzu.layer import Sigmoid,Relu\n",
    "from kudzu.layer import Affine"
   ]
  },
  {
   "cell_type": "markdown",
   "id": "bc01172a",
   "metadata": {
    "papermill": {
     "duration": 0.027237,
     "end_time": "2022-08-12T20:10:05.047623",
     "exception": false,
     "start_time": "2022-08-12T20:10:05.020386",
     "status": "completed"
    },
    "tags": []
   },
   "source": [
    "### Let us create a `Config` class, to store important parameters. \n",
    "This class essentially plays the role of a dictionary."
   ]
  },
  {
   "cell_type": "code",
   "execution_count": 16,
   "id": "978281aa",
   "metadata": {
    "execution": {
     "iopub.execute_input": "2022-08-12T20:10:05.106945Z",
     "iopub.status.busy": "2022-08-12T20:10:05.106352Z",
     "iopub.status.idle": "2022-08-12T20:10:05.119452Z",
     "shell.execute_reply": "2022-08-12T20:10:05.118969Z"
    },
    "papermill": {
     "duration": 0.043973,
     "end_time": "2022-08-12T20:10:05.119557",
     "exception": false,
     "start_time": "2022-08-12T20:10:05.075584",
     "status": "completed"
    },
    "tags": []
   },
   "outputs": [],
   "source": [
    "class Config:\n",
    "    pass\n",
    "config = Config()\n",
    "config.lr = 0.001\n",
    "config.num_epochs = 250\n",
    "config.bs = 50"
   ]
  },
  {
   "cell_type": "markdown",
   "id": "1385fa59",
   "metadata": {
    "papermill": {
     "duration": 0.027248,
     "end_time": "2022-08-12T20:10:05.174209",
     "exception": false,
     "start_time": "2022-08-12T20:10:05.146961",
     "status": "completed"
    },
    "tags": []
   },
   "source": [
    "### Running Models with the Training data\n",
    "Details about the network layers:\n",
    "- A first affine layer has 784 inputs and does 100 affine transforms. These are followed by a Relu\n",
    "- A second affine layer has 100 inputs from the 100 activations of the past layer, and does 100 affine transforms. These are followed by a Relu\n",
    "- A third affine layer has 100 activations and does 2 affine transformations to create an embedding for visualization. There is no non-linearity here.\n",
    "- A final \"logistic regression\" which has an affine transform from 2 inputs to 1 output, which is squeezed through a sigmoid.\n"
   ]
  },
  {
   "cell_type": "code",
   "execution_count": 17,
   "id": "2b9c66db",
   "metadata": {
    "execution": {
     "iopub.execute_input": "2022-08-12T20:10:05.233122Z",
     "iopub.status.busy": "2022-08-12T20:10:05.232558Z",
     "iopub.status.idle": "2022-08-12T20:10:05.244639Z",
     "shell.execute_reply": "2022-08-12T20:10:05.244184Z"
    },
    "papermill": {
     "duration": 0.043256,
     "end_time": "2022-08-12T20:10:05.244740",
     "exception": false,
     "start_time": "2022-08-12T20:10:05.201484",
     "status": "completed"
    },
    "tags": []
   },
   "outputs": [],
   "source": [
    "data = Data(X_train, y_train.reshape(-1,1))\n",
    "sampler = Sampler(data, config.bs, shuffle=True)\n",
    "\n",
    "dl = Dataloader(data, sampler)\n",
    "\n",
    "opt = GD(config.lr)\n",
    "loss = MSE()"
   ]
  },
  {
   "cell_type": "code",
   "execution_count": 18,
   "id": "b275e4c2",
   "metadata": {
    "execution": {
     "iopub.execute_input": "2022-08-12T20:10:05.303254Z",
     "iopub.status.busy": "2022-08-12T20:10:05.302686Z",
     "iopub.status.idle": "2022-08-12T20:10:05.314801Z",
     "shell.execute_reply": "2022-08-12T20:10:05.314337Z"
    },
    "papermill": {
     "duration": 0.04285,
     "end_time": "2022-08-12T20:10:05.314904",
     "exception": false,
     "start_time": "2022-08-12T20:10:05.272054",
     "status": "completed"
    },
    "tags": []
   },
   "outputs": [],
   "source": [
    "training_data_x = X_train\n",
    "testing_data_x = X_test\n",
    "training_data_y = y_train.reshape(-1,1)\n",
    "testing_data_y = y_test.reshape(-1,1)"
   ]
  },
  {
   "cell_type": "code",
   "execution_count": 19,
   "id": "76951160",
   "metadata": {
    "execution": {
     "iopub.execute_input": "2022-08-12T20:10:05.373670Z",
     "iopub.status.busy": "2022-08-12T20:10:05.373068Z",
     "iopub.status.idle": "2022-08-12T20:10:05.389233Z",
     "shell.execute_reply": "2022-08-12T20:10:05.389700Z"
    },
    "papermill": {
     "duration": 0.047708,
     "end_time": "2022-08-12T20:10:05.389821",
     "exception": false,
     "start_time": "2022-08-12T20:10:05.342113",
     "status": "completed"
    },
    "tags": []
   },
   "outputs": [
    {
     "name": "stdout",
     "output_type": "stream",
     "text": [
      "xavier\n",
      "xavier\n",
      "xavier\n",
      "xavier\n",
      "xavier\n"
     ]
    }
   ],
   "source": [
    "layers = [Affine(\"first\", 784, 100), Relu(\"first\"), Affine(\"second\", 100, 100), Relu(\"second\"), Affine(\"third\", 100, 2), Affine(\"last\", 2, 1), Sigmoid(\"last\")]\n",
    "model_nn = Model(layers)\n",
    "model_lr = Model([Affine(\"logits\", 784, 1), Sigmoid(\"sigmoid\")])"
   ]
  },
  {
   "cell_type": "code",
   "execution_count": 20,
   "id": "6eede77a",
   "metadata": {
    "execution": {
     "iopub.execute_input": "2022-08-12T20:10:05.448800Z",
     "iopub.status.busy": "2022-08-12T20:10:05.448229Z",
     "iopub.status.idle": "2022-08-12T20:10:05.460699Z",
     "shell.execute_reply": "2022-08-12T20:10:05.460160Z"
    },
    "papermill": {
     "duration": 0.04329,
     "end_time": "2022-08-12T20:10:05.460803",
     "exception": false,
     "start_time": "2022-08-12T20:10:05.417513",
     "status": "completed"
    },
    "tags": []
   },
   "outputs": [],
   "source": [
    "nn_learner = Learner(loss, model_nn, opt, config.num_epochs)\n",
    "acc_nn = ClfCallback(nn_learner, config.bs, training_data_x , testing_data_x, training_data_y, testing_data_y)\n",
    "nn_learner.set_callbacks([acc_nn])"
   ]
  },
  {
   "cell_type": "code",
   "execution_count": 21,
   "id": "877b6cc7",
   "metadata": {
    "execution": {
     "iopub.execute_input": "2022-08-12T20:10:05.520005Z",
     "iopub.status.busy": "2022-08-12T20:10:05.519444Z",
     "iopub.status.idle": "2022-08-12T20:10:05.531430Z",
     "shell.execute_reply": "2022-08-12T20:10:05.530973Z"
    },
    "papermill": {
     "duration": 0.043174,
     "end_time": "2022-08-12T20:10:05.531529",
     "exception": false,
     "start_time": "2022-08-12T20:10:05.488355",
     "status": "completed"
    },
    "tags": []
   },
   "outputs": [],
   "source": [
    "lr_learner = Learner(loss, model_lr, opt, config.num_epochs)\n",
    "acc_lr = ClfCallback(lr_learner, config.bs, training_data_x , testing_data_x, training_data_y, testing_data_y)\n",
    "lr_learner.set_callbacks([acc_lr])"
   ]
  },
  {
   "cell_type": "code",
   "execution_count": 22,
   "id": "d9b133c3",
   "metadata": {
    "execution": {
     "iopub.execute_input": "2022-08-12T20:10:05.590334Z",
     "iopub.status.busy": "2022-08-12T20:10:05.589789Z",
     "iopub.status.idle": "2022-08-12T20:13:00.361380Z",
     "shell.execute_reply": "2022-08-12T20:13:00.361850Z"
    },
    "papermill": {
     "duration": 174.802739,
     "end_time": "2022-08-12T20:13:00.361974",
     "exception": false,
     "start_time": "2022-08-12T20:10:05.559235",
     "status": "completed"
    },
    "tags": []
   },
   "outputs": [
    {
     "name": "stdout",
     "output_type": "stream",
     "text": [
      "Epoch 0, Loss 0.2519\n",
      "Training Accuracy: 0.3797, Testing Accuracy: 0.3881\n",
      "\n"
     ]
    },
    {
     "name": "stdout",
     "output_type": "stream",
     "text": [
      "Epoch 10, Loss 0.2463\n",
      "Training Accuracy: 0.6920, Testing Accuracy: 0.7006\n",
      "\n"
     ]
    },
    {
     "name": "stdout",
     "output_type": "stream",
     "text": [
      "Epoch 20, Loss 0.2286\n",
      "Training Accuracy: 0.8509, Testing Accuracy: 0.8735\n",
      "\n"
     ]
    },
    {
     "name": "stdout",
     "output_type": "stream",
     "text": [
      "Epoch 30, Loss 0.15\n",
      "Training Accuracy: 0.8937, Testing Accuracy: 0.9042\n",
      "\n"
     ]
    },
    {
     "name": "stdout",
     "output_type": "stream",
     "text": [
      "Epoch 40, Loss 0.0763\n",
      "Training Accuracy: 0.9240, Testing Accuracy: 0.9380\n",
      "\n"
     ]
    },
    {
     "name": "stdout",
     "output_type": "stream",
     "text": [
      "Epoch 50, Loss 0.0534\n",
      "Training Accuracy: 0.9412, Testing Accuracy: 0.9536\n",
      "\n"
     ]
    },
    {
     "name": "stdout",
     "output_type": "stream",
     "text": [
      "Epoch 60, Loss 0.0436\n",
      "Training Accuracy: 0.9509, Testing Accuracy: 0.9607\n",
      "\n"
     ]
    },
    {
     "name": "stdout",
     "output_type": "stream",
     "text": [
      "Epoch 70, Loss 0.0384\n",
      "Training Accuracy: 0.9565, Testing Accuracy: 0.9617\n",
      "\n"
     ]
    },
    {
     "name": "stdout",
     "output_type": "stream",
     "text": [
      "Epoch 80, Loss 0.0351\n",
      "Training Accuracy: 0.9588, Testing Accuracy: 0.9642\n",
      "\n"
     ]
    },
    {
     "name": "stdout",
     "output_type": "stream",
     "text": [
      "Epoch 90, Loss 0.0328\n",
      "Training Accuracy: 0.9610, Testing Accuracy: 0.9667\n",
      "\n"
     ]
    },
    {
     "name": "stdout",
     "output_type": "stream",
     "text": [
      "Epoch 100, Loss 0.0311\n",
      "Training Accuracy: 0.9634, Testing Accuracy: 0.9677\n",
      "\n"
     ]
    },
    {
     "name": "stdout",
     "output_type": "stream",
     "text": [
      "Epoch 110, Loss 0.0297\n",
      "Training Accuracy: 0.9649, Testing Accuracy: 0.9677\n",
      "\n"
     ]
    },
    {
     "name": "stdout",
     "output_type": "stream",
     "text": [
      "Epoch 120, Loss 0.0285\n",
      "Training Accuracy: 0.9665, Testing Accuracy: 0.9698\n",
      "\n"
     ]
    },
    {
     "name": "stdout",
     "output_type": "stream",
     "text": [
      "Epoch 130, Loss 0.0275\n",
      "Training Accuracy: 0.9675, Testing Accuracy: 0.9698\n",
      "\n"
     ]
    },
    {
     "name": "stdout",
     "output_type": "stream",
     "text": [
      "Epoch 140, Loss 0.0267\n",
      "Training Accuracy: 0.9685, Testing Accuracy: 0.9703\n",
      "\n"
     ]
    },
    {
     "name": "stdout",
     "output_type": "stream",
     "text": [
      "Epoch 150, Loss 0.0259\n",
      "Training Accuracy: 0.9693, Testing Accuracy: 0.9698\n",
      "\n"
     ]
    },
    {
     "name": "stdout",
     "output_type": "stream",
     "text": [
      "Epoch 160, Loss 0.0252\n",
      "Training Accuracy: 0.9705, Testing Accuracy: 0.9708\n",
      "\n"
     ]
    },
    {
     "name": "stdout",
     "output_type": "stream",
     "text": [
      "Epoch 170, Loss 0.0246\n",
      "Training Accuracy: 0.9712, Testing Accuracy: 0.9708\n",
      "\n"
     ]
    },
    {
     "name": "stdout",
     "output_type": "stream",
     "text": [
      "Epoch 180, Loss 0.0241\n",
      "Training Accuracy: 0.9718, Testing Accuracy: 0.9718\n",
      "\n"
     ]
    },
    {
     "name": "stdout",
     "output_type": "stream",
     "text": [
      "Epoch 190, Loss 0.0236\n",
      "Training Accuracy: 0.9725, Testing Accuracy: 0.9713\n",
      "\n"
     ]
    },
    {
     "name": "stdout",
     "output_type": "stream",
     "text": [
      "Epoch 200, Loss 0.0231\n",
      "Training Accuracy: 0.9732, Testing Accuracy: 0.9713\n",
      "\n"
     ]
    },
    {
     "name": "stdout",
     "output_type": "stream",
     "text": [
      "Epoch 210, Loss 0.0226\n",
      "Training Accuracy: 0.9739, Testing Accuracy: 0.9713\n",
      "\n"
     ]
    },
    {
     "name": "stdout",
     "output_type": "stream",
     "text": [
      "Epoch 220, Loss 0.0222\n",
      "Training Accuracy: 0.9741, Testing Accuracy: 0.9708\n",
      "\n"
     ]
    },
    {
     "name": "stdout",
     "output_type": "stream",
     "text": [
      "Epoch 230, Loss 0.0218\n",
      "Training Accuracy: 0.9751, Testing Accuracy: 0.9713\n",
      "\n"
     ]
    },
    {
     "name": "stdout",
     "output_type": "stream",
     "text": [
      "Epoch 240, Loss 0.0214\n",
      "Training Accuracy: 0.9756, Testing Accuracy: 0.9713\n",
      "\n"
     ]
    },
    {
     "data": {
      "text/plain": [
       "0.03509056826257199"
      ]
     },
     "execution_count": 22,
     "metadata": {},
     "output_type": "execute_result"
    }
   ],
   "source": [
    "nn_learner.train_loop(dl)"
   ]
  },
  {
   "cell_type": "code",
   "execution_count": 23,
   "id": "e0163366",
   "metadata": {
    "execution": {
     "iopub.execute_input": "2022-08-12T20:13:00.435605Z",
     "iopub.status.busy": "2022-08-12T20:13:00.435000Z",
     "iopub.status.idle": "2022-08-12T20:13:12.453831Z",
     "shell.execute_reply": "2022-08-12T20:13:12.454625Z"
    },
    "papermill": {
     "duration": 12.058384,
     "end_time": "2022-08-12T20:13:12.454758",
     "exception": false,
     "start_time": "2022-08-12T20:13:00.396374",
     "status": "completed"
    },
    "tags": []
   },
   "outputs": [
    {
     "name": "stdout",
     "output_type": "stream",
     "text": [
      "Epoch 0, Loss 0.2146\n",
      "Training Accuracy: 0.7675, Testing Accuracy: 0.7838\n",
      "\n"
     ]
    },
    {
     "name": "stdout",
     "output_type": "stream",
     "text": [
      "Epoch 10, Loss 0.1021\n",
      "Training Accuracy: 0.9083, Testing Accuracy: 0.9153\n",
      "\n"
     ]
    },
    {
     "name": "stdout",
     "output_type": "stream",
     "text": [
      "Epoch 20, Loss 0.0793\n",
      "Training Accuracy: 0.9264, Testing Accuracy: 0.9350\n",
      "\n"
     ]
    },
    {
     "name": "stdout",
     "output_type": "stream",
     "text": [
      "Epoch 30, Loss 0.0684\n",
      "Training Accuracy: 0.9354, Testing Accuracy: 0.9481\n",
      "\n"
     ]
    },
    {
     "name": "stdout",
     "output_type": "stream",
     "text": [
      "Epoch 40, Loss 0.0618\n",
      "Training Accuracy: 0.9405, Testing Accuracy: 0.9526\n",
      "\n"
     ]
    },
    {
     "name": "stdout",
     "output_type": "stream",
     "text": [
      "Epoch 50, Loss 0.0573\n",
      "Training Accuracy: 0.9440, Testing Accuracy: 0.9531\n",
      "\n"
     ]
    },
    {
     "name": "stdout",
     "output_type": "stream",
     "text": [
      "Epoch 60, Loss 0.054\n",
      "Training Accuracy: 0.9467, Testing Accuracy: 0.9546\n",
      "\n"
     ]
    },
    {
     "name": "stdout",
     "output_type": "stream",
     "text": [
      "Epoch 70, Loss 0.0514\n",
      "Training Accuracy: 0.9488, Testing Accuracy: 0.9567\n",
      "\n"
     ]
    },
    {
     "name": "stdout",
     "output_type": "stream",
     "text": [
      "Epoch 80, Loss 0.0494\n",
      "Training Accuracy: 0.9500, Testing Accuracy: 0.9577\n",
      "\n"
     ]
    },
    {
     "name": "stdout",
     "output_type": "stream",
     "text": [
      "Epoch 90, Loss 0.0477\n",
      "Training Accuracy: 0.9512, Testing Accuracy: 0.9592\n",
      "\n"
     ]
    },
    {
     "name": "stdout",
     "output_type": "stream",
     "text": [
      "Epoch 100, Loss 0.0463\n",
      "Training Accuracy: 0.9520, Testing Accuracy: 0.9612\n",
      "\n"
     ]
    },
    {
     "name": "stdout",
     "output_type": "stream",
     "text": [
      "Epoch 110, Loss 0.045\n",
      "Training Accuracy: 0.9528, Testing Accuracy: 0.9632\n",
      "\n"
     ]
    },
    {
     "name": "stdout",
     "output_type": "stream",
     "text": [
      "Epoch 120, Loss 0.044\n",
      "Training Accuracy: 0.9533, Testing Accuracy: 0.9637\n",
      "\n"
     ]
    },
    {
     "name": "stdout",
     "output_type": "stream",
     "text": [
      "Epoch 130, Loss 0.043\n",
      "Training Accuracy: 0.9546, Testing Accuracy: 0.9642\n",
      "\n"
     ]
    },
    {
     "name": "stdout",
     "output_type": "stream",
     "text": [
      "Epoch 140, Loss 0.0422\n",
      "Training Accuracy: 0.9554, Testing Accuracy: 0.9642\n",
      "\n"
     ]
    },
    {
     "name": "stdout",
     "output_type": "stream",
     "text": [
      "Epoch 150, Loss 0.0415\n",
      "Training Accuracy: 0.9563, Testing Accuracy: 0.9652\n",
      "\n"
     ]
    },
    {
     "name": "stdout",
     "output_type": "stream",
     "text": [
      "Epoch 160, Loss 0.0408\n",
      "Training Accuracy: 0.9569, Testing Accuracy: 0.9662\n",
      "\n"
     ]
    },
    {
     "name": "stdout",
     "output_type": "stream",
     "text": [
      "Epoch 170, Loss 0.0402\n",
      "Training Accuracy: 0.9569, Testing Accuracy: 0.9662\n",
      "\n"
     ]
    },
    {
     "name": "stdout",
     "output_type": "stream",
     "text": [
      "Epoch 180, Loss 0.0396\n",
      "Training Accuracy: 0.9574, Testing Accuracy: 0.9657\n",
      "\n"
     ]
    },
    {
     "name": "stdout",
     "output_type": "stream",
     "text": [
      "Epoch 190, Loss 0.0391\n",
      "Training Accuracy: 0.9579, Testing Accuracy: 0.9652\n",
      "\n"
     ]
    },
    {
     "name": "stdout",
     "output_type": "stream",
     "text": [
      "Epoch 200, Loss 0.0386\n",
      "Training Accuracy: 0.9584, Testing Accuracy: 0.9652\n",
      "\n"
     ]
    },
    {
     "name": "stdout",
     "output_type": "stream",
     "text": [
      "Epoch 210, Loss 0.0382\n",
      "Training Accuracy: 0.9589, Testing Accuracy: 0.9652\n",
      "\n"
     ]
    },
    {
     "name": "stdout",
     "output_type": "stream",
     "text": [
      "Epoch 220, Loss 0.0377\n",
      "Training Accuracy: 0.9594, Testing Accuracy: 0.9662\n",
      "\n"
     ]
    },
    {
     "name": "stdout",
     "output_type": "stream",
     "text": [
      "Epoch 230, Loss 0.0374\n",
      "Training Accuracy: 0.9599, Testing Accuracy: 0.9662\n",
      "\n"
     ]
    },
    {
     "name": "stdout",
     "output_type": "stream",
     "text": [
      "Epoch 240, Loss 0.037\n",
      "Training Accuracy: 0.9603, Testing Accuracy: 0.9672\n",
      "\n"
     ]
    },
    {
     "data": {
      "text/plain": [
       "0.05538098912685827"
      ]
     },
     "execution_count": 23,
     "metadata": {},
     "output_type": "execute_result"
    }
   ],
   "source": [
    "lr_learner.train_loop(dl)"
   ]
  },
  {
   "cell_type": "code",
   "execution_count": 24,
   "id": "ca410940",
   "metadata": {
    "execution": {
     "iopub.execute_input": "2022-08-12T20:13:12.546797Z",
     "iopub.status.busy": "2022-08-12T20:13:12.546222Z",
     "iopub.status.idle": "2022-08-12T20:13:12.770632Z",
     "shell.execute_reply": "2022-08-12T20:13:12.771066Z"
    },
    "papermill": {
     "duration": 0.274751,
     "end_time": "2022-08-12T20:13:12.771197",
     "exception": false,
     "start_time": "2022-08-12T20:13:12.496446",
     "status": "completed"
    },
    "tags": []
   },
   "outputs": [
    {
     "data": {
      "text/plain": [
       "<matplotlib.legend.Legend at 0x7f1286899cf8>"
      ]
     },
     "execution_count": 24,
     "metadata": {},
     "output_type": "execute_result"
    },
    {
     "data": {
      "image/png": "[encoded data removed]",
      "text/plain": [
       "<Figure size 1080x720 with 1 Axes>"
      ]
     },
     "metadata": {
      "needs_background": "light"
     },
     "output_type": "display_data"
    }
   ],
   "source": [
    "#comparing the results of NN and LR\n",
    "plt.figure(figsize=(15,10))\n",
    "\n",
    "# Neural Network plots\n",
    "plt.plot(acc_nn.accuracies, 'r-', label = \"Training Accuracies - NN\")\n",
    "plt.plot(acc_nn.test_accuracies, 'g-', label = \"Testing Accuracies - NN\")\n",
    "\n",
    "# Logistic Regression plots\n",
    "plt.plot(acc_lr.accuracies, 'k-', label = \"Training Accuracies - LR\")\n",
    "plt.plot(acc_lr.test_accuracies, 'b-', label = \"Testing Accuracies - LR\")\n",
    "plt.legend()"
   ]
  },
  {
   "cell_type": "markdown",
   "id": "80dfb35c",
   "metadata": {
    "papermill": {
     "duration": 0.042223,
     "end_time": "2022-08-12T20:13:12.856079",
     "exception": false,
     "start_time": "2022-08-12T20:13:12.813856",
     "status": "completed"
    },
    "tags": []
   },
   "source": [
    "#### Plotting the outputs of this layer of the NN.\n"
   ]
  },
  {
   "cell_type": "code",
   "execution_count": 25,
   "id": "45eb2ff5",
   "metadata": {
    "execution": {
     "iopub.execute_input": "2022-08-12T20:13:12.947336Z",
     "iopub.status.busy": "2022-08-12T20:13:12.946365Z",
     "iopub.status.idle": "2022-08-12T20:13:12.981432Z",
     "shell.execute_reply": "2022-08-12T20:13:12.980656Z"
    },
    "papermill": {
     "duration": 0.083177,
     "end_time": "2022-08-12T20:13:12.981543",
     "exception": false,
     "start_time": "2022-08-12T20:13:12.898366",
     "status": "completed"
    },
    "tags": []
   },
   "outputs": [],
   "source": [
    "new_model = Model(layers[:-2])\n",
    "testing_plot = new_model(testing_data_x)"
   ]
  },
  {
   "cell_type": "code",
   "execution_count": 26,
   "id": "4c0a5485",
   "metadata": {
    "execution": {
     "iopub.execute_input": "2022-08-12T20:13:13.071278Z",
     "iopub.status.busy": "2022-08-12T20:13:13.070707Z",
     "iopub.status.idle": "2022-08-12T20:13:13.254800Z",
     "shell.execute_reply": "2022-08-12T20:13:13.255255Z"
    },
    "papermill": {
     "duration": 0.23079,
     "end_time": "2022-08-12T20:13:13.255383",
     "exception": false,
     "start_time": "2022-08-12T20:13:13.024593",
     "status": "completed"
    },
    "tags": []
   },
   "outputs": [
    {
     "data": {
      "text/plain": [
       "Text(0.5, 1.0, 'Outputs')"
      ]
     },
     "execution_count": 26,
     "metadata": {},
     "output_type": "execute_result"
    },
    {
     "data": {
      "image/png": "[encoded data removed]",
      "text/plain": [
       "<Figure size 576x504 with 1 Axes>"
      ]
     },
     "metadata": {
      "needs_background": "light"
     },
     "output_type": "display_data"
    }
   ],
   "source": [
    "# Plotting the scatter plot of points and color coding by class\n",
    "plt.figure(figsize=(8,7))\n",
    "plt.scatter(testing_plot[:,0], testing_plot[:,1], alpha = 0.1, c = y_test.ravel());\n",
    "plt.title('Outputs')"
   ]
  },
  {
   "cell_type": "markdown",
   "id": "a74fcf8f",
   "metadata": {
    "papermill": {
     "duration": 0.044649,
     "end_time": "2022-08-12T20:13:13.344740",
     "exception": false,
     "start_time": "2022-08-12T20:13:13.300091",
     "status": "completed"
    },
    "tags": []
   },
   "source": [
    "Probability contours"
   ]
  },
  {
   "cell_type": "code",
   "execution_count": 27,
   "id": "d0afc8e3",
   "metadata": {
    "execution": {
     "iopub.execute_input": "2022-08-12T20:13:13.461895Z",
     "iopub.status.busy": "2022-08-12T20:13:13.459047Z",
     "iopub.status.idle": "2022-08-12T20:13:13.470829Z",
     "shell.execute_reply": "2022-08-12T20:13:13.470387Z"
    },
    "papermill": {
     "duration": 0.081291,
     "end_time": "2022-08-12T20:13:13.470936",
     "exception": false,
     "start_time": "2022-08-12T20:13:13.389645",
     "status": "completed"
    },
    "tags": []
   },
   "outputs": [],
   "source": [
    "model_prob = Model(layers[-2:]) "
   ]
  },
  {
   "cell_type": "code",
   "execution_count": 28,
   "id": "9b96e238",
   "metadata": {
    "execution": {
     "iopub.execute_input": "2022-08-12T20:13:13.564620Z",
     "iopub.status.busy": "2022-08-12T20:13:13.564044Z",
     "iopub.status.idle": "2022-08-12T20:13:13.577461Z",
     "shell.execute_reply": "2022-08-12T20:13:13.578246Z"
    },
    "papermill": {
     "duration": 0.062683,
     "end_time": "2022-08-12T20:13:13.578370",
     "exception": false,
     "start_time": "2022-08-12T20:13:13.515687",
     "status": "completed"
    },
    "tags": []
   },
   "outputs": [],
   "source": [
    "#creating the x and y ranges according to the above generated plot.\n",
    "x_range = np.linspace(-4, 1, 100) \n",
    "y_range = np.linspace(-6, 6, 100) \n",
    "x_grid, y_grid = np.meshgrid(x_range, y_range) # x_grid and y_grig are of size 100 X 100\n",
    "\n",
    "# converting x_grid and y_grid to continuous arrays\n",
    "x_gridflat = np.ravel(x_grid)\n",
    "y_gridflat = np.ravel(y_grid)\n",
    "\n",
    "# The last layer of the current model takes two columns as input. Hence transpose of np.vstack() is required.\n",
    "X = np.vstack((x_gridflat, y_gridflat)).T\n",
    "\n",
    "prob_contour = model_prob(X).reshape(100,100) "
   ]
  },
  {
   "cell_type": "code",
   "execution_count": 29,
   "id": "da72499a",
   "metadata": {
    "execution": {
     "iopub.execute_input": "2022-08-12T20:13:13.672428Z",
     "iopub.status.busy": "2022-08-12T20:13:13.671855Z",
     "iopub.status.idle": "2022-08-12T20:13:13.915367Z",
     "shell.execute_reply": "2022-08-12T20:13:13.914871Z"
    },
    "papermill": {
     "duration": 0.291871,
     "end_time": "2022-08-12T20:13:13.915473",
     "exception": false,
     "start_time": "2022-08-12T20:13:13.623602",
     "status": "completed"
    },
    "tags": []
   },
   "outputs": [
    {
     "data": {
      "image/png": "[encoded data removed]",
      "text/plain": [
       "<Figure size 720x648 with 1 Axes>"
      ]
     },
     "metadata": {
      "needs_background": "light"
     },
     "output_type": "display_data"
    }
   ],
   "source": [
    "plt.figure(figsize=(10,9))\n",
    "plt.scatter(testing_plot[:,0], testing_plot[:,1], alpha = 0.1, c = y_test.ravel())\n",
    "contours = plt.contour(x_grid,y_grid,prob_contour)\n",
    "plt.title('Probability Contours')\n",
    "plt.clabel(contours, inline = True );"
   ]
  },
  {
   "cell_type": "code",
   "execution_count": null,
   "id": "e81b4ac7",
   "metadata": {
    "papermill": {
     "duration": 0.047305,
     "end_time": "2022-08-12T20:13:14.010404",
     "exception": false,
     "start_time": "2022-08-12T20:13:13.963099",
     "status": "completed"
    },
    "tags": []
   },
   "outputs": [],
   "source": []
  }
 ],
 "metadata": {
  "kernelspec": {
   "display_name": "Python 3",
   "language": "python",
   "name": "python3"
  },
  "language_info": {
   "codemirror_mode": {
    "name": "ipython",
    "version": 3
   },
   "file_extension": ".py",
   "mimetype": "text/x-python",
   "name": "python",
   "nbconvert_exporter": "python",
   "pygments_lexer": "ipython3",
   "version": "3.6.15"
  },
  "papermill": {
   "default_parameters": {},
   "duration": 194.635477,
   "end_time": "2022-08-12T20:13:14.375486",
   "environment_variables": {},
   "exception": null,
   "input_path": "2020-08-11-part2.ipynb",
   "output_path": "2020-08-11-part2.ipynb",
   "parameters": {},
   "start_time": "2022-08-12T20:09:59.740009",
   "version": "2.3.3"
  }
 },
 "nbformat": 4,
 "nbformat_minor": 5
}