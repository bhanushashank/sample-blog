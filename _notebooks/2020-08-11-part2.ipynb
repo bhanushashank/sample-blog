{
 "cells": [
  {
   "cell_type": "markdown",
   "id": "98380cd3",
   "metadata": {
    "papermill": {
     "duration": 0.027675,
     "end_time": "2021-12-23T00:24:39.506559",
     "exception": false,
     "start_time": "2021-12-23T00:24:39.478884",
     "status": "completed"
    },
    "tags": []
   },
   "source": [
    "# Distinguish Your Own Digits (DYOD)"
   ]
  },
  {
   "cell_type": "markdown",
   "id": "ef31240d",
   "metadata": {
    "papermill": {
     "duration": 0.023817,
     "end_time": "2021-12-23T00:24:39.554902",
     "exception": false,
     "start_time": "2021-12-23T00:24:39.531085",
     "status": "completed"
    },
    "tags": []
   },
   "source": [
    "You are going to write a classifier that distinguishes between the number 3 and number 8."
   ]
  },
  {
   "cell_type": "code",
   "execution_count": 1,
   "id": "b15c8646",
   "metadata": {
    "execution": {
     "iopub.execute_input": "2021-12-23T00:24:39.615160Z",
     "iopub.status.busy": "2021-12-23T00:24:39.614591Z",
     "iopub.status.idle": "2021-12-23T00:24:39.625432Z",
     "shell.execute_reply": "2021-12-23T00:24:39.624951Z"
    },
    "papermill": {
     "duration": 0.046885,
     "end_time": "2021-12-23T00:24:39.625584",
     "exception": false,
     "start_time": "2021-12-23T00:24:39.578699",
     "status": "completed"
    },
    "tags": []
   },
   "outputs": [],
   "source": [
    "%load_ext autoreload\n",
    "%autoreload 2"
   ]
  },
  {
   "cell_type": "code",
   "execution_count": 2,
   "id": "22ef38dc",
   "metadata": {
    "execution": {
     "iopub.execute_input": "2021-12-23T00:24:39.684569Z",
     "iopub.status.busy": "2021-12-23T00:24:39.684022Z",
     "iopub.status.idle": "2021-12-23T00:24:40.269973Z",
     "shell.execute_reply": "2021-12-23T00:24:40.269409Z"
    },
    "papermill": {
     "duration": 0.620477,
     "end_time": "2021-12-23T00:24:40.270122",
     "exception": false,
     "start_time": "2021-12-23T00:24:39.649645",
     "status": "completed"
    },
    "tags": []
   },
   "outputs": [],
   "source": [
    "%matplotlib inline\n",
    "import numpy as np\n",
    "import matplotlib.pyplot as plt\n",
    "import pandas as pd"
   ]
  },
  {
   "cell_type": "markdown",
   "id": "ba036198",
   "metadata": {
    "papermill": {
     "duration": 0.023668,
     "end_time": "2021-12-23T00:24:40.317767",
     "exception": false,
     "start_time": "2021-12-23T00:24:40.294099",
     "status": "completed"
    },
    "tags": []
   },
   "source": [
    "From the command line run `pip install mnist`. This is a library that will help you bring down the mnist dataset. If you run this from a notebook, you need to put  `!pip install mnist` in a cell by itself."
   ]
  },
  {
   "cell_type": "code",
   "execution_count": 3,
   "id": "bb6ad8a1",
   "metadata": {
    "execution": {
     "iopub.execute_input": "2021-12-23T00:24:40.369270Z",
     "iopub.status.busy": "2021-12-23T00:24:40.368731Z",
     "iopub.status.idle": "2021-12-23T00:24:42.136276Z",
     "shell.execute_reply": "2021-12-23T00:24:42.136732Z"
    },
    "papermill": {
     "duration": 1.795465,
     "end_time": "2021-12-23T00:24:42.136883",
     "exception": false,
     "start_time": "2021-12-23T00:24:40.341418",
     "status": "completed"
    },
    "tags": []
   },
   "outputs": [
    {
     "name": "stdout",
     "output_type": "stream",
     "text": [
      "Collecting mnist\r\n"
     ]
    },
    {
     "name": "stdout",
     "output_type": "stream",
     "text": [
      "  Downloading mnist-0.2.2-py2.py3-none-any.whl (3.5 kB)\r\n",
      "Requirement already satisfied: numpy in /opt/hostedtoolcache/Python/3.6.15/x64/lib/python3.6/site-packages (from mnist) (1.19.5)\r\n"
     ]
    },
    {
     "name": "stdout",
     "output_type": "stream",
     "text": [
      "Installing collected packages: mnist\r\n"
     ]
    },
    {
     "name": "stdout",
     "output_type": "stream",
     "text": [
      "Successfully installed mnist-0.2.2\r\n"
     ]
    }
   ],
   "source": [
    "!pip install mnist"
   ]
  },
  {
   "cell_type": "markdown",
   "id": "69df9c9a",
   "metadata": {
    "papermill": {
     "duration": 0.024905,
     "end_time": "2021-12-23T00:24:42.186918",
     "exception": false,
     "start_time": "2021-12-23T00:24:42.162013",
     "status": "completed"
    },
    "tags": []
   },
   "source": [
    "## Preparing the Data"
   ]
  },
  {
   "cell_type": "code",
   "execution_count": 4,
   "id": "7f69d806",
   "metadata": {
    "execution": {
     "iopub.execute_input": "2021-12-23T00:24:42.241124Z",
     "iopub.status.busy": "2021-12-23T00:24:42.240595Z",
     "iopub.status.idle": "2021-12-23T00:24:42.256098Z",
     "shell.execute_reply": "2021-12-23T00:24:42.255630Z"
    },
    "papermill": {
     "duration": 0.044444,
     "end_time": "2021-12-23T00:24:42.256223",
     "exception": false,
     "start_time": "2021-12-23T00:24:42.211779",
     "status": "completed"
    },
    "tags": []
   },
   "outputs": [],
   "source": [
    "import mnist"
   ]
  },
  {
   "cell_type": "code",
   "execution_count": 5,
   "id": "a411e44f",
   "metadata": {
    "execution": {
     "iopub.execute_input": "2021-12-23T00:24:42.310258Z",
     "iopub.status.busy": "2021-12-23T00:24:42.309639Z",
     "iopub.status.idle": "2021-12-23T00:24:42.914222Z",
     "shell.execute_reply": "2021-12-23T00:24:42.913678Z"
    },
    "papermill": {
     "duration": 0.632962,
     "end_time": "2021-12-23T00:24:42.914370",
     "exception": false,
     "start_time": "2021-12-23T00:24:42.281408",
     "status": "completed"
    },
    "tags": []
   },
   "outputs": [],
   "source": [
    "train_images = mnist.train_images()\n",
    "train_labels = mnist.train_labels()"
   ]
  },
  {
   "cell_type": "code",
   "execution_count": 6,
   "id": "dceab3a5",
   "metadata": {
    "execution": {
     "iopub.execute_input": "2021-12-23T00:24:42.971974Z",
     "iopub.status.busy": "2021-12-23T00:24:42.971449Z",
     "iopub.status.idle": "2021-12-23T00:24:42.984315Z",
     "shell.execute_reply": "2021-12-23T00:24:42.983896Z"
    },
    "papermill": {
     "duration": 0.04462,
     "end_time": "2021-12-23T00:24:42.984434",
     "exception": false,
     "start_time": "2021-12-23T00:24:42.939814",
     "status": "completed"
    },
    "tags": []
   },
   "outputs": [
    {
     "data": {
      "text/plain": [
       "((60000, 28, 28), (60000,))"
      ]
     },
     "execution_count": 6,
     "metadata": {},
     "output_type": "execute_result"
    }
   ],
   "source": [
    "train_images.shape, train_labels.shape"
   ]
  },
  {
   "cell_type": "code",
   "execution_count": 7,
   "id": "f50dc2bb",
   "metadata": {
    "execution": {
     "iopub.execute_input": "2021-12-23T00:24:43.054287Z",
     "iopub.status.busy": "2021-12-23T00:24:43.053713Z",
     "iopub.status.idle": "2021-12-23T00:24:43.286654Z",
     "shell.execute_reply": "2021-12-23T00:24:43.286083Z"
    },
    "papermill": {
     "duration": 0.277316,
     "end_time": "2021-12-23T00:24:43.286796",
     "exception": false,
     "start_time": "2021-12-23T00:24:43.009480",
     "status": "completed"
    },
    "tags": []
   },
   "outputs": [],
   "source": [
    "test_images = mnist.test_images()\n",
    "test_labels = mnist.test_labels()"
   ]
  },
  {
   "cell_type": "code",
   "execution_count": 8,
   "id": "fc38cf1b",
   "metadata": {
    "execution": {
     "iopub.execute_input": "2021-12-23T00:24:43.342014Z",
     "iopub.status.busy": "2021-12-23T00:24:43.341475Z",
     "iopub.status.idle": "2021-12-23T00:24:43.354518Z",
     "shell.execute_reply": "2021-12-23T00:24:43.355014Z"
    },
    "papermill": {
     "duration": 0.042309,
     "end_time": "2021-12-23T00:24:43.355154",
     "exception": false,
     "start_time": "2021-12-23T00:24:43.312845",
     "status": "completed"
    },
    "tags": []
   },
   "outputs": [
    {
     "data": {
      "text/plain": [
       "((10000, 28, 28), (10000,))"
      ]
     },
     "execution_count": 8,
     "metadata": {},
     "output_type": "execute_result"
    }
   ],
   "source": [
    "test_images.shape, test_labels.shape"
   ]
  },
  {
   "cell_type": "code",
   "execution_count": 9,
   "id": "f9ed8fe0",
   "metadata": {
    "execution": {
     "iopub.execute_input": "2021-12-23T00:24:43.414499Z",
     "iopub.status.busy": "2021-12-23T00:24:43.413952Z",
     "iopub.status.idle": "2021-12-23T00:24:43.550017Z",
     "shell.execute_reply": "2021-12-23T00:24:43.549578Z"
    },
    "papermill": {
     "duration": 0.169578,
     "end_time": "2021-12-23T00:24:43.550143",
     "exception": false,
     "start_time": "2021-12-23T00:24:43.380565",
     "status": "completed"
    },
    "tags": []
   },
   "outputs": [
    {
     "name": "stdout",
     "output_type": "stream",
     "text": [
      "2\n"
     ]
    },
    {
     "data": {
      "text/plain": [
       "<matplotlib.image.AxesImage at 0x7f99dc17b470>"
      ]
     },
     "execution_count": 9,
     "metadata": {},
     "output_type": "execute_result"
    },
    {
     "data": {
      "image/png": "[encoded data removed]",
      "text/plain": [
       "<Figure size 432x288 with 1 Axes>"
      ]
     },
     "metadata": {
      "needs_background": "light"
     },
     "output_type": "display_data"
    }
   ],
   "source": [
    "image_index = 7776 # You may select anything up to 60,000\n",
    "print(train_labels[image_index]) \n",
    "plt.imshow(train_images[image_index], cmap='Greys')"
   ]
  },
  {
   "cell_type": "markdown",
   "id": "a8d2388d",
   "metadata": {
    "papermill": {
     "duration": 0.026785,
     "end_time": "2021-12-23T00:24:43.603792",
     "exception": false,
     "start_time": "2021-12-23T00:24:43.577007",
     "status": "completed"
    },
    "tags": []
   },
   "source": [
    "## Filter data to get 3 and 8 out"
   ]
  },
  {
   "cell_type": "code",
   "execution_count": 10,
   "id": "776f7fc7",
   "metadata": {
    "execution": {
     "iopub.execute_input": "2021-12-23T00:24:43.666362Z",
     "iopub.status.busy": "2021-12-23T00:24:43.661195Z",
     "iopub.status.idle": "2021-12-23T00:24:43.680290Z",
     "shell.execute_reply": "2021-12-23T00:24:43.679808Z"
    },
    "papermill": {
     "duration": 0.050093,
     "end_time": "2021-12-23T00:24:43.680423",
     "exception": false,
     "start_time": "2021-12-23T00:24:43.630330",
     "status": "completed"
    },
    "tags": []
   },
   "outputs": [],
   "source": [
    "train_filter = np.where((train_labels == 3 ) | (train_labels == 8))\n",
    "test_filter = np.where((test_labels == 3) | (test_labels == 8))\n",
    "X_train, y_train = train_images[train_filter], train_labels[train_filter]\n",
    "X_test, y_test = test_images[test_filter], test_labels[test_filter]"
   ]
  },
  {
   "cell_type": "markdown",
   "id": "948f0b7e",
   "metadata": {
    "papermill": {
     "duration": 0.026513,
     "end_time": "2021-12-23T00:24:43.733617",
     "exception": false,
     "start_time": "2021-12-23T00:24:43.707104",
     "status": "completed"
    },
    "tags": []
   },
   "source": [
    "We normalize the pizel values in the 0 to 1 range"
   ]
  },
  {
   "cell_type": "code",
   "execution_count": 11,
   "id": "ee4c2166",
   "metadata": {
    "execution": {
     "iopub.execute_input": "2021-12-23T00:24:43.802032Z",
     "iopub.status.busy": "2021-12-23T00:24:43.799609Z",
     "iopub.status.idle": "2021-12-23T00:24:43.843473Z",
     "shell.execute_reply": "2021-12-23T00:24:43.842909Z"
    },
    "papermill": {
     "duration": 0.083239,
     "end_time": "2021-12-23T00:24:43.843616",
     "exception": false,
     "start_time": "2021-12-23T00:24:43.760377",
     "status": "completed"
    },
    "tags": []
   },
   "outputs": [],
   "source": [
    "X_train = X_train/255.\n",
    "X_test = X_test/255."
   ]
  },
  {
   "cell_type": "markdown",
   "id": "ddcf4fab",
   "metadata": {
    "papermill": {
     "duration": 0.02691,
     "end_time": "2021-12-23T00:24:43.898256",
     "exception": false,
     "start_time": "2021-12-23T00:24:43.871346",
     "status": "completed"
    },
    "tags": []
   },
   "source": [
    "And setup the labels as 1 (when the digit is 3) and 0 (when the digit is 8)"
   ]
  },
  {
   "cell_type": "code",
   "execution_count": 12,
   "id": "7dc908f2",
   "metadata": {
    "execution": {
     "iopub.execute_input": "2021-12-23T00:24:43.966923Z",
     "iopub.status.busy": "2021-12-23T00:24:43.966362Z",
     "iopub.status.idle": "2021-12-23T00:24:43.972678Z",
     "shell.execute_reply": "2021-12-23T00:24:43.972245Z"
    },
    "papermill": {
     "duration": 0.048009,
     "end_time": "2021-12-23T00:24:43.972802",
     "exception": false,
     "start_time": "2021-12-23T00:24:43.924793",
     "status": "completed"
    },
    "tags": []
   },
   "outputs": [],
   "source": [
    "y_train = 1*(y_train==3)\n",
    "y_test = 1*(y_test==3)"
   ]
  },
  {
   "cell_type": "code",
   "execution_count": 13,
   "id": "01e4e969",
   "metadata": {
    "execution": {
     "iopub.execute_input": "2021-12-23T00:24:44.029945Z",
     "iopub.status.busy": "2021-12-23T00:24:44.029417Z",
     "iopub.status.idle": "2021-12-23T00:24:44.042786Z",
     "shell.execute_reply": "2021-12-23T00:24:44.042337Z"
    },
    "papermill": {
     "duration": 0.04346,
     "end_time": "2021-12-23T00:24:44.042908",
     "exception": false,
     "start_time": "2021-12-23T00:24:43.999448",
     "status": "completed"
    },
    "tags": []
   },
   "outputs": [
    {
     "data": {
      "text/plain": [
       "((11982, 28, 28), (1984, 28, 28))"
      ]
     },
     "execution_count": 13,
     "metadata": {},
     "output_type": "execute_result"
    }
   ],
   "source": [
    "X_train.shape, X_test.shape"
   ]
  },
  {
   "cell_type": "markdown",
   "id": "5ccf3f85",
   "metadata": {
    "papermill": {
     "duration": 0.02672,
     "end_time": "2021-12-23T00:24:44.097077",
     "exception": false,
     "start_time": "2021-12-23T00:24:44.070357",
     "status": "completed"
    },
    "tags": []
   },
   "source": [
    "We reshape the data to flatten the image pixels into a set of features or co-variates:"
   ]
  },
  {
   "cell_type": "code",
   "execution_count": 14,
   "id": "5286a4a3",
   "metadata": {
    "execution": {
     "iopub.execute_input": "2021-12-23T00:24:44.158633Z",
     "iopub.status.busy": "2021-12-23T00:24:44.158089Z",
     "iopub.status.idle": "2021-12-23T00:24:44.168558Z",
     "shell.execute_reply": "2021-12-23T00:24:44.168946Z"
    },
    "papermill": {
     "duration": 0.045176,
     "end_time": "2021-12-23T00:24:44.169080",
     "exception": false,
     "start_time": "2021-12-23T00:24:44.123904",
     "status": "completed"
    },
    "tags": []
   },
   "outputs": [
    {
     "data": {
      "text/plain": [
       "((11982, 784), (1984, 784))"
      ]
     },
     "execution_count": 14,
     "metadata": {},
     "output_type": "execute_result"
    }
   ],
   "source": [
    "X_train = X_train.reshape(X_train.shape[0], -1)\n",
    "X_test = X_test.reshape(X_test.shape[0], -1)\n",
    "X_train.shape, X_test.shape"
   ]
  },
  {
   "cell_type": "code",
   "execution_count": 15,
   "id": "73c5f88a",
   "metadata": {
    "execution": {
     "iopub.execute_input": "2021-12-23T00:24:44.230776Z",
     "iopub.status.busy": "2021-12-23T00:24:44.230237Z",
     "iopub.status.idle": "2021-12-23T00:24:44.245715Z",
     "shell.execute_reply": "2021-12-23T00:24:44.245281Z"
    },
    "papermill": {
     "duration": 0.050028,
     "end_time": "2021-12-23T00:24:44.245834",
     "exception": false,
     "start_time": "2021-12-23T00:24:44.195806",
     "status": "completed"
    },
    "tags": []
   },
   "outputs": [],
   "source": [
    "#Impoting functions from 'Kudzu'\n",
    "from kudzu.model import Model\n",
    "from kudzu.train import Learner\n",
    "from kudzu.optim import GD\n",
    "from kudzu.data import Data, Sampler,Dataloader\n",
    "\n",
    "from kudzu.callbacks import AccCallback\n",
    "from kudzu.callbacks import ClfCallback\n",
    "\n",
    "from kudzu.loss import MSE\n",
    "\n",
    "from kudzu.layer import Sigmoid,Relu\n",
    "from kudzu.layer import Affine"
   ]
  },
  {
   "cell_type": "markdown",
   "id": "bc01172a",
   "metadata": {
    "papermill": {
     "duration": 0.026694,
     "end_time": "2021-12-23T00:24:44.299535",
     "exception": false,
     "start_time": "2021-12-23T00:24:44.272841",
     "status": "completed"
    },
    "tags": []
   },
   "source": [
    "### Let us create a `Config` class, to store important parameters. \n",
    "This class essentially plays the role of a dictionary."
   ]
  },
  {
   "cell_type": "code",
   "execution_count": 16,
   "id": "978281aa",
   "metadata": {
    "execution": {
     "iopub.execute_input": "2021-12-23T00:24:44.356404Z",
     "iopub.status.busy": "2021-12-23T00:24:44.355885Z",
     "iopub.status.idle": "2021-12-23T00:24:44.367843Z",
     "shell.execute_reply": "2021-12-23T00:24:44.367406Z"
    },
    "papermill": {
     "duration": 0.041995,
     "end_time": "2021-12-23T00:24:44.367950",
     "exception": false,
     "start_time": "2021-12-23T00:24:44.325955",
     "status": "completed"
    },
    "tags": []
   },
   "outputs": [],
   "source": [
    "class Config:\n",
    "    pass\n",
    "config = Config()\n",
    "config.lr = 0.001\n",
    "config.num_epochs = 250\n",
    "config.bs = 50"
   ]
  },
  {
   "cell_type": "markdown",
   "id": "1385fa59",
   "metadata": {
    "papermill": {
     "duration": 0.026807,
     "end_time": "2021-12-23T00:24:44.421734",
     "exception": false,
     "start_time": "2021-12-23T00:24:44.394927",
     "status": "completed"
    },
    "tags": []
   },
   "source": [
    "### Running Models with the Training data\n",
    "Details about the network layers:\n",
    "- A first affine layer has 784 inputs and does 100 affine transforms. These are followed by a Relu\n",
    "- A second affine layer has 100 inputs from the 100 activations of the past layer, and does 100 affine transforms. These are followed by a Relu\n",
    "- A third affine layer has 100 activations and does 2 affine transformations to create an embedding for visualization. There is no non-linearity here.\n",
    "- A final \"logistic regression\" which has an affine transform from 2 inputs to 1 output, which is squeezed through a sigmoid.\n"
   ]
  },
  {
   "cell_type": "code",
   "execution_count": 17,
   "id": "2b9c66db",
   "metadata": {
    "execution": {
     "iopub.execute_input": "2021-12-23T00:24:44.480515Z",
     "iopub.status.busy": "2021-12-23T00:24:44.479615Z",
     "iopub.status.idle": "2021-12-23T00:24:44.494095Z",
     "shell.execute_reply": "2021-12-23T00:24:44.493135Z"
    },
    "papermill": {
     "duration": 0.045658,
     "end_time": "2021-12-23T00:24:44.494220",
     "exception": false,
     "start_time": "2021-12-23T00:24:44.448562",
     "status": "completed"
    },
    "tags": []
   },
   "outputs": [],
   "source": [
    "data = Data(X_train, y_train.reshape(-1,1))\n",
    "sampler = Sampler(data, config.bs, shuffle=True)\n",
    "\n",
    "dl = Dataloader(data, sampler)\n",
    "\n",
    "opt = GD(config.lr)\n",
    "loss = MSE()"
   ]
  },
  {
   "cell_type": "code",
   "execution_count": 18,
   "id": "b275e4c2",
   "metadata": {
    "execution": {
     "iopub.execute_input": "2021-12-23T00:24:44.561326Z",
     "iopub.status.busy": "2021-12-23T00:24:44.554234Z",
     "iopub.status.idle": "2021-12-23T00:24:44.566424Z",
     "shell.execute_reply": "2021-12-23T00:24:44.565974Z"
    },
    "papermill": {
     "duration": 0.045435,
     "end_time": "2021-12-23T00:24:44.566546",
     "exception": false,
     "start_time": "2021-12-23T00:24:44.521111",
     "status": "completed"
    },
    "tags": []
   },
   "outputs": [],
   "source": [
    "training_data_x = X_train\n",
    "testing_data_x = X_test\n",
    "training_data_y = y_train.reshape(-1,1)\n",
    "testing_data_y = y_test.reshape(-1,1)"
   ]
  },
  {
   "cell_type": "code",
   "execution_count": 19,
   "id": "76951160",
   "metadata": {
    "execution": {
     "iopub.execute_input": "2021-12-23T00:24:44.625412Z",
     "iopub.status.busy": "2021-12-23T00:24:44.624844Z",
     "iopub.status.idle": "2021-12-23T00:24:44.641414Z",
     "shell.execute_reply": "2021-12-23T00:24:44.640861Z"
    },
    "papermill": {
     "duration": 0.048028,
     "end_time": "2021-12-23T00:24:44.641540",
     "exception": false,
     "start_time": "2021-12-23T00:24:44.593512",
     "status": "completed"
    },
    "tags": []
   },
   "outputs": [
    {
     "name": "stdout",
     "output_type": "stream",
     "text": [
      "xavier\n",
      "xavier\n",
      "xavier\n",
      "xavier\n",
      "xavier\n"
     ]
    }
   ],
   "source": [
    "layers = [Affine(\"first\", 784, 100), Relu(\"first\"), Affine(\"second\", 100, 100), Relu(\"second\"), Affine(\"third\", 100, 2), Affine(\"last\", 2, 1), Sigmoid(\"last\")]\n",
    "model_nn = Model(layers)\n",
    "model_lr = Model([Affine(\"logits\", 784, 1), Sigmoid(\"sigmoid\")])"
   ]
  },
  {
   "cell_type": "code",
   "execution_count": 20,
   "id": "6eede77a",
   "metadata": {
    "execution": {
     "iopub.execute_input": "2021-12-23T00:24:44.700565Z",
     "iopub.status.busy": "2021-12-23T00:24:44.700039Z",
     "iopub.status.idle": "2021-12-23T00:24:44.713041Z",
     "shell.execute_reply": "2021-12-23T00:24:44.712606Z"
    },
    "papermill": {
     "duration": 0.044245,
     "end_time": "2021-12-23T00:24:44.713165",
     "exception": false,
     "start_time": "2021-12-23T00:24:44.668920",
     "status": "completed"
    },
    "tags": []
   },
   "outputs": [],
   "source": [
    "nn_learner = Learner(loss, model_nn, opt, config.num_epochs)\n",
    "acc_nn = ClfCallback(nn_learner, config.bs, training_data_x , testing_data_x, training_data_y, testing_data_y)\n",
    "nn_learner.set_callbacks([acc_nn])"
   ]
  },
  {
   "cell_type": "code",
   "execution_count": 21,
   "id": "877b6cc7",
   "metadata": {
    "execution": {
     "iopub.execute_input": "2021-12-23T00:24:44.777004Z",
     "iopub.status.busy": "2021-12-23T00:24:44.776451Z",
     "iopub.status.idle": "2021-12-23T00:24:44.786660Z",
     "shell.execute_reply": "2021-12-23T00:24:44.786223Z"
    },
    "papermill": {
     "duration": 0.046231,
     "end_time": "2021-12-23T00:24:44.786790",
     "exception": false,
     "start_time": "2021-12-23T00:24:44.740559",
     "status": "completed"
    },
    "tags": []
   },
   "outputs": [],
   "source": [
    "lr_learner = Learner(loss, model_lr, opt, config.num_epochs)\n",
    "acc_lr = ClfCallback(lr_learner, config.bs, training_data_x , testing_data_x, training_data_y, testing_data_y)\n",
    "lr_learner.set_callbacks([acc_lr])"
   ]
  },
  {
   "cell_type": "code",
   "execution_count": 22,
   "id": "d9b133c3",
   "metadata": {
    "execution": {
     "iopub.execute_input": "2021-12-23T00:24:44.846456Z",
     "iopub.status.busy": "2021-12-23T00:24:44.845916Z",
     "iopub.status.idle": "2021-12-23T00:26:02.596588Z",
     "shell.execute_reply": "2021-12-23T00:26:02.597092Z"
    },
    "papermill": {
     "duration": 77.782956,
     "end_time": "2021-12-23T00:26:02.597261",
     "exception": false,
     "start_time": "2021-12-23T00:24:44.814305",
     "status": "completed"
    },
    "tags": []
   },
   "outputs": [
    {
     "name": "stdout",
     "output_type": "stream",
     "text": [
      "Epoch 0, Loss 0.2318\n",
      "Training Accuracy: 0.7263, Testing Accuracy: 0.7364\n",
      "\n"
     ]
    },
    {
     "name": "stdout",
     "output_type": "stream",
     "text": [
      "Epoch 10, Loss 0.0652\n",
      "Training Accuracy: 0.9349, Testing Accuracy: 0.9441\n",
      "\n"
     ]
    },
    {
     "name": "stdout",
     "output_type": "stream",
     "text": [
      "Epoch 20, Loss 0.0458\n",
      "Training Accuracy: 0.9510, Testing Accuracy: 0.9582\n",
      "\n"
     ]
    },
    {
     "name": "stdout",
     "output_type": "stream",
     "text": [
      "Epoch 30, Loss 0.0384\n",
      "Training Accuracy: 0.9574, Testing Accuracy: 0.9662\n",
      "\n"
     ]
    },
    {
     "name": "stdout",
     "output_type": "stream",
     "text": [
      "Epoch 40, Loss 0.0342\n",
      "Training Accuracy: 0.9609, Testing Accuracy: 0.9682\n",
      "\n"
     ]
    },
    {
     "name": "stdout",
     "output_type": "stream",
     "text": [
      "Epoch 50, Loss 0.0315\n",
      "Training Accuracy: 0.9639, Testing Accuracy: 0.9682\n",
      "\n"
     ]
    },
    {
     "name": "stdout",
     "output_type": "stream",
     "text": [
      "Epoch 60, Loss 0.0295\n",
      "Training Accuracy: 0.9655, Testing Accuracy: 0.9693\n",
      "\n"
     ]
    },
    {
     "name": "stdout",
     "output_type": "stream",
     "text": [
      "Epoch 70, Loss 0.0279\n",
      "Training Accuracy: 0.9671, Testing Accuracy: 0.9713\n",
      "\n"
     ]
    },
    {
     "name": "stdout",
     "output_type": "stream",
     "text": [
      "Epoch 80, Loss 0.0266\n",
      "Training Accuracy: 0.9693, Testing Accuracy: 0.9718\n",
      "\n"
     ]
    },
    {
     "name": "stdout",
     "output_type": "stream",
     "text": [
      "Epoch 90, Loss 0.0255\n",
      "Training Accuracy: 0.9705, Testing Accuracy: 0.9733\n",
      "\n"
     ]
    },
    {
     "name": "stdout",
     "output_type": "stream",
     "text": [
      "Epoch 100, Loss 0.0245\n",
      "Training Accuracy: 0.9721, Testing Accuracy: 0.9743\n",
      "\n"
     ]
    },
    {
     "name": "stdout",
     "output_type": "stream",
     "text": [
      "Epoch 110, Loss 0.0237\n",
      "Training Accuracy: 0.9729, Testing Accuracy: 0.9743\n",
      "\n"
     ]
    },
    {
     "name": "stdout",
     "output_type": "stream",
     "text": [
      "Epoch 120, Loss 0.0229\n",
      "Training Accuracy: 0.9739, Testing Accuracy: 0.9753\n",
      "\n"
     ]
    },
    {
     "name": "stdout",
     "output_type": "stream",
     "text": [
      "Epoch 130, Loss 0.0222\n",
      "Training Accuracy: 0.9748, Testing Accuracy: 0.9763\n",
      "\n"
     ]
    },
    {
     "name": "stdout",
     "output_type": "stream",
     "text": [
      "Epoch 140, Loss 0.0216\n",
      "Training Accuracy: 0.9755, Testing Accuracy: 0.9753\n",
      "\n"
     ]
    },
    {
     "name": "stdout",
     "output_type": "stream",
     "text": [
      "Epoch 150, Loss 0.021\n",
      "Training Accuracy: 0.9759, Testing Accuracy: 0.9748\n",
      "\n"
     ]
    },
    {
     "name": "stdout",
     "output_type": "stream",
     "text": [
      "Epoch 160, Loss 0.0204\n",
      "Training Accuracy: 0.9762, Testing Accuracy: 0.9748\n",
      "\n"
     ]
    },
    {
     "name": "stdout",
     "output_type": "stream",
     "text": [
      "Epoch 170, Loss 0.0199\n",
      "Training Accuracy: 0.9773, Testing Accuracy: 0.9753\n",
      "\n"
     ]
    },
    {
     "name": "stdout",
     "output_type": "stream",
     "text": [
      "Epoch 180, Loss 0.0194\n",
      "Training Accuracy: 0.9778, Testing Accuracy: 0.9748\n",
      "\n"
     ]
    },
    {
     "name": "stdout",
     "output_type": "stream",
     "text": [
      "Epoch 190, Loss 0.0189\n",
      "Training Accuracy: 0.9786, Testing Accuracy: 0.9748\n",
      "\n"
     ]
    },
    {
     "name": "stdout",
     "output_type": "stream",
     "text": [
      "Epoch 200, Loss 0.0185\n",
      "Training Accuracy: 0.9791, Testing Accuracy: 0.9748\n",
      "\n"
     ]
    },
    {
     "name": "stdout",
     "output_type": "stream",
     "text": [
      "Epoch 210, Loss 0.018\n",
      "Training Accuracy: 0.9798, Testing Accuracy: 0.9753\n",
      "\n"
     ]
    },
    {
     "name": "stdout",
     "output_type": "stream",
     "text": [
      "Epoch 220, Loss 0.0176\n",
      "Training Accuracy: 0.9803, Testing Accuracy: 0.9763\n",
      "\n"
     ]
    },
    {
     "name": "stdout",
     "output_type": "stream",
     "text": [
      "Epoch 230, Loss 0.0172\n",
      "Training Accuracy: 0.9809, Testing Accuracy: 0.9768\n",
      "\n"
     ]
    },
    {
     "name": "stdout",
     "output_type": "stream",
     "text": [
      "Epoch 240, Loss 0.0168\n",
      "Training Accuracy: 0.9814, Testing Accuracy: 0.9768\n",
      "\n"
     ]
    },
    {
     "data": {
      "text/plain": [
       "0.009356870261149933"
      ]
     },
     "execution_count": 22,
     "metadata": {},
     "output_type": "execute_result"
    }
   ],
   "source": [
    "nn_learner.train_loop(dl)"
   ]
  },
  {
   "cell_type": "code",
   "execution_count": 23,
   "id": "e0163366",
   "metadata": {
    "execution": {
     "iopub.execute_input": "2021-12-23T00:26:02.674752Z",
     "iopub.status.busy": "2021-12-23T00:26:02.674221Z",
     "iopub.status.idle": "2021-12-23T00:26:17.249535Z",
     "shell.execute_reply": "2021-12-23T00:26:17.250317Z"
    },
    "papermill": {
     "duration": 14.618724,
     "end_time": "2021-12-23T00:26:17.250483",
     "exception": false,
     "start_time": "2021-12-23T00:26:02.631759",
     "status": "completed"
    },
    "tags": []
   },
   "outputs": [
    {
     "name": "stdout",
     "output_type": "stream",
     "text": [
      "Epoch 0, Loss 0.253\n",
      "Training Accuracy: 0.6481, Testing Accuracy: 0.6552\n",
      "\n"
     ]
    },
    {
     "name": "stdout",
     "output_type": "stream",
     "text": [
      "Epoch 10, Loss 0.1036\n",
      "Training Accuracy: 0.9068, Testing Accuracy: 0.9183\n",
      "\n"
     ]
    },
    {
     "name": "stdout",
     "output_type": "stream",
     "text": [
      "Epoch 20, Loss 0.0792\n",
      "Training Accuracy: 0.9291, Testing Accuracy: 0.9390\n",
      "\n"
     ]
    },
    {
     "name": "stdout",
     "output_type": "stream",
     "text": [
      "Epoch 30, Loss 0.0681\n",
      "Training Accuracy: 0.9377, Testing Accuracy: 0.9491\n",
      "\n"
     ]
    },
    {
     "name": "stdout",
     "output_type": "stream",
     "text": [
      "Epoch 40, Loss 0.0615\n",
      "Training Accuracy: 0.9426, Testing Accuracy: 0.9521\n",
      "\n"
     ]
    },
    {
     "name": "stdout",
     "output_type": "stream",
     "text": [
      "Epoch 50, Loss 0.057\n",
      "Training Accuracy: 0.9458, Testing Accuracy: 0.9521\n",
      "\n"
     ]
    },
    {
     "name": "stdout",
     "output_type": "stream",
     "text": [
      "Epoch 60, Loss 0.0537\n",
      "Training Accuracy: 0.9478, Testing Accuracy: 0.9536\n",
      "\n"
     ]
    },
    {
     "name": "stdout",
     "output_type": "stream",
     "text": [
      "Epoch 70, Loss 0.0512\n",
      "Training Accuracy: 0.9493, Testing Accuracy: 0.9551\n",
      "\n"
     ]
    },
    {
     "name": "stdout",
     "output_type": "stream",
     "text": [
      "Epoch 80, Loss 0.0491\n",
      "Training Accuracy: 0.9509, Testing Accuracy: 0.9567\n",
      "\n"
     ]
    },
    {
     "name": "stdout",
     "output_type": "stream",
     "text": [
      "Epoch 90, Loss 0.0475\n",
      "Training Accuracy: 0.9518, Testing Accuracy: 0.9582\n",
      "\n"
     ]
    },
    {
     "name": "stdout",
     "output_type": "stream",
     "text": [
      "Epoch 100, Loss 0.046\n",
      "Training Accuracy: 0.9533, Testing Accuracy: 0.9592\n",
      "\n"
     ]
    },
    {
     "name": "stdout",
     "output_type": "stream",
     "text": [
      "Epoch 110, Loss 0.0448\n",
      "Training Accuracy: 0.9543, Testing Accuracy: 0.9617\n",
      "\n"
     ]
    },
    {
     "name": "stdout",
     "output_type": "stream",
     "text": [
      "Epoch 120, Loss 0.0438\n",
      "Training Accuracy: 0.9547, Testing Accuracy: 0.9622\n",
      "\n"
     ]
    },
    {
     "name": "stdout",
     "output_type": "stream",
     "text": [
      "Epoch 130, Loss 0.0428\n",
      "Training Accuracy: 0.9553, Testing Accuracy: 0.9627\n",
      "\n"
     ]
    },
    {
     "name": "stdout",
     "output_type": "stream",
     "text": [
      "Epoch 140, Loss 0.042\n",
      "Training Accuracy: 0.9564, Testing Accuracy: 0.9627\n",
      "\n"
     ]
    },
    {
     "name": "stdout",
     "output_type": "stream",
     "text": [
      "Epoch 150, Loss 0.0413\n",
      "Training Accuracy: 0.9568, Testing Accuracy: 0.9642\n",
      "\n"
     ]
    },
    {
     "name": "stdout",
     "output_type": "stream",
     "text": [
      "Epoch 160, Loss 0.0406\n",
      "Training Accuracy: 0.9577, Testing Accuracy: 0.9652\n",
      "\n"
     ]
    },
    {
     "name": "stdout",
     "output_type": "stream",
     "text": [
      "Epoch 170, Loss 0.04\n",
      "Training Accuracy: 0.9580, Testing Accuracy: 0.9662\n",
      "\n"
     ]
    },
    {
     "name": "stdout",
     "output_type": "stream",
     "text": [
      "Epoch 180, Loss 0.0394\n",
      "Training Accuracy: 0.9584, Testing Accuracy: 0.9662\n",
      "\n"
     ]
    },
    {
     "name": "stdout",
     "output_type": "stream",
     "text": [
      "Epoch 190, Loss 0.0389\n",
      "Training Accuracy: 0.9584, Testing Accuracy: 0.9662\n",
      "\n"
     ]
    },
    {
     "name": "stdout",
     "output_type": "stream",
     "text": [
      "Epoch 200, Loss 0.0384\n",
      "Training Accuracy: 0.9589, Testing Accuracy: 0.9662\n",
      "\n"
     ]
    },
    {
     "name": "stdout",
     "output_type": "stream",
     "text": [
      "Epoch 210, Loss 0.038\n",
      "Training Accuracy: 0.9596, Testing Accuracy: 0.9667\n",
      "\n"
     ]
    },
    {
     "name": "stdout",
     "output_type": "stream",
     "text": [
      "Epoch 220, Loss 0.0376\n",
      "Training Accuracy: 0.9602, Testing Accuracy: 0.9672\n",
      "\n"
     ]
    },
    {
     "name": "stdout",
     "output_type": "stream",
     "text": [
      "Epoch 230, Loss 0.0372\n",
      "Training Accuracy: 0.9608, Testing Accuracy: 0.9672\n",
      "\n"
     ]
    },
    {
     "name": "stdout",
     "output_type": "stream",
     "text": [
      "Epoch 240, Loss 0.0368\n",
      "Training Accuracy: 0.9608, Testing Accuracy: 0.9667\n",
      "\n"
     ]
    },
    {
     "data": {
      "text/plain": [
       "0.03435040449904133"
      ]
     },
     "execution_count": 23,
     "metadata": {},
     "output_type": "execute_result"
    }
   ],
   "source": [
    "lr_learner.train_loop(dl)"
   ]
  },
  {
   "cell_type": "code",
   "execution_count": 24,
   "id": "ca410940",
   "metadata": {
    "execution": {
     "iopub.execute_input": "2021-12-23T00:26:17.346921Z",
     "iopub.status.busy": "2021-12-23T00:26:17.346347Z",
     "iopub.status.idle": "2021-12-23T00:26:17.577617Z",
     "shell.execute_reply": "2021-12-23T00:26:17.578053Z"
    },
    "papermill": {
     "duration": 0.286452,
     "end_time": "2021-12-23T00:26:17.578202",
     "exception": false,
     "start_time": "2021-12-23T00:26:17.291750",
     "status": "completed"
    },
    "tags": []
   },
   "outputs": [
    {
     "data": {
      "text/plain": [
       "<matplotlib.legend.Legend at 0x7f99dbd56c18>"
      ]
     },
     "execution_count": 24,
     "metadata": {},
     "output_type": "execute_result"
    },
    {
     "data": {
      "image/png": "[encoded data removed]",
      "text/plain": [
       "<Figure size 1080x720 with 1 Axes>"
      ]
     },
     "metadata": {
      "needs_background": "light"
     },
     "output_type": "display_data"
    }
   ],
   "source": [
    "#comparing the results of NN and LR\n",
    "plt.figure(figsize=(15,10))\n",
    "\n",
    "# Neural Network plots\n",
    "plt.plot(acc_nn.accuracies, 'r-', label = \"Training Accuracies - NN\")\n",
    "plt.plot(acc_nn.test_accuracies, 'g-', label = \"Testing Accuracies - NN\")\n",
    "\n",
    "# Logistic Regression plots\n",
    "plt.plot(acc_lr.accuracies, 'k-', label = \"Training Accuracies - LR\")\n",
    "plt.plot(acc_lr.test_accuracies, 'b-', label = \"Testing Accuracies - LR\")\n",
    "plt.legend()"
   ]
  },
  {
   "cell_type": "markdown",
   "id": "80dfb35c",
   "metadata": {
    "papermill": {
     "duration": 0.046042,
     "end_time": "2021-12-23T00:26:17.666624",
     "exception": false,
     "start_time": "2021-12-23T00:26:17.620582",
     "status": "completed"
    },
    "tags": []
   },
   "source": [
    "#### Plotting the outputs of this layer of the NN.\n"
   ]
  },
  {
   "cell_type": "code",
   "execution_count": 25,
   "id": "45eb2ff5",
   "metadata": {
    "execution": {
     "iopub.execute_input": "2021-12-23T00:26:17.767430Z",
     "iopub.status.busy": "2021-12-23T00:26:17.766486Z",
     "iopub.status.idle": "2021-12-23T00:26:17.780426Z",
     "shell.execute_reply": "2021-12-23T00:26:17.781224Z"
    },
    "papermill": {
     "duration": 0.07276,
     "end_time": "2021-12-23T00:26:17.781406",
     "exception": false,
     "start_time": "2021-12-23T00:26:17.708646",
     "status": "completed"
    },
    "tags": []
   },
   "outputs": [],
   "source": [
    "new_model = Model(layers[:-2])\n",
    "testing_plot = new_model(testing_data_x)"
   ]
  },
  {
   "cell_type": "code",
   "execution_count": 26,
   "id": "4c0a5485",
   "metadata": {
    "execution": {
     "iopub.execute_input": "2021-12-23T00:26:17.875147Z",
     "iopub.status.busy": "2021-12-23T00:26:17.874603Z",
     "iopub.status.idle": "2021-12-23T00:26:18.071799Z",
     "shell.execute_reply": "2021-12-23T00:26:18.071336Z"
    },
    "papermill": {
     "duration": 0.247792,
     "end_time": "2021-12-23T00:26:18.071940",
     "exception": false,
     "start_time": "2021-12-23T00:26:17.824148",
     "status": "completed"
    },
    "tags": []
   },
   "outputs": [
    {
     "data": {
      "text/plain": [
       "Text(0.5, 1.0, 'Outputs')"
      ]
     },
     "execution_count": 26,
     "metadata": {},
     "output_type": "execute_result"
    },
    {
     "data": {
      "image/png": "[encoded data removed]",
      "text/plain": [
       "<Figure size 576x504 with 1 Axes>"
      ]
     },
     "metadata": {
      "needs_background": "light"
     },
     "output_type": "display_data"
    }
   ],
   "source": [
    "# Plotting the scatter plot of points and color coding by class\n",
    "plt.figure(figsize=(8,7))\n",
    "plt.scatter(testing_plot[:,0], testing_plot[:,1], alpha = 0.1, c = y_test.ravel());\n",
    "plt.title('Outputs')"
   ]
  },
  {
   "cell_type": "markdown",
   "id": "a74fcf8f",
   "metadata": {
    "papermill": {
     "duration": 0.044603,
     "end_time": "2021-12-23T00:26:18.161356",
     "exception": false,
     "start_time": "2021-12-23T00:26:18.116753",
     "status": "completed"
    },
    "tags": []
   },
   "source": [
    "Probability contours"
   ]
  },
  {
   "cell_type": "code",
   "execution_count": 27,
   "id": "d0afc8e3",
   "metadata": {
    "execution": {
     "iopub.execute_input": "2021-12-23T00:26:18.259358Z",
     "iopub.status.busy": "2021-12-23T00:26:18.257352Z",
     "iopub.status.idle": "2021-12-23T00:26:18.268583Z",
     "shell.execute_reply": "2021-12-23T00:26:18.269011Z"
    },
    "papermill": {
     "duration": 0.06311,
     "end_time": "2021-12-23T00:26:18.269170",
     "exception": false,
     "start_time": "2021-12-23T00:26:18.206060",
     "status": "completed"
    },
    "tags": []
   },
   "outputs": [],
   "source": [
    "model_prob = Model(layers[-2:]) "
   ]
  },
  {
   "cell_type": "code",
   "execution_count": 28,
   "id": "9b96e238",
   "metadata": {
    "execution": {
     "iopub.execute_input": "2021-12-23T00:26:18.408517Z",
     "iopub.status.busy": "2021-12-23T00:26:18.407592Z",
     "iopub.status.idle": "2021-12-23T00:26:18.419179Z",
     "shell.execute_reply": "2021-12-23T00:26:18.419612Z"
    },
    "papermill": {
     "duration": 0.105607,
     "end_time": "2021-12-23T00:26:18.419761",
     "exception": false,
     "start_time": "2021-12-23T00:26:18.314154",
     "status": "completed"
    },
    "tags": []
   },
   "outputs": [],
   "source": [
    "#creating the x and y ranges according to the above generated plot.\n",
    "x_range = np.linspace(-4, 1, 100) \n",
    "y_range = np.linspace(-6, 6, 100) \n",
    "x_grid, y_grid = np.meshgrid(x_range, y_range) # x_grid and y_grig are of size 100 X 100\n",
    "\n",
    "# converting x_grid and y_grid to continuous arrays\n",
    "x_gridflat = np.ravel(x_grid)\n",
    "y_gridflat = np.ravel(y_grid)\n",
    "\n",
    "# The last layer of the current model takes two columns as input. Hence transpose of np.vstack() is required.\n",
    "X = np.vstack((x_gridflat, y_gridflat)).T\n",
    "\n",
    "prob_contour = model_prob(X).reshape(100,100) "
   ]
  },
  {
   "cell_type": "code",
   "execution_count": 29,
   "id": "da72499a",
   "metadata": {
    "execution": {
     "iopub.execute_input": "2021-12-23T00:26:18.519891Z",
     "iopub.status.busy": "2021-12-23T00:26:18.519302Z",
     "iopub.status.idle": "2021-12-23T00:26:18.766582Z",
     "shell.execute_reply": "2021-12-23T00:26:18.766144Z"
    },
    "papermill": {
     "duration": 0.299418,
     "end_time": "2021-12-23T00:26:18.766708",
     "exception": false,
     "start_time": "2021-12-23T00:26:18.467290",
     "status": "completed"
    },
    "tags": []
   },
   "outputs": [
    {
     "data": {
      "image/png": "[encoded data removed]",
      "text/plain": [
       "<Figure size 720x648 with 1 Axes>"
      ]
     },
     "metadata": {
      "needs_background": "light"
     },
     "output_type": "display_data"
    }
   ],
   "source": [
    "plt.figure(figsize=(10,9))\n",
    "plt.scatter(testing_plot[:,0], testing_plot[:,1], alpha = 0.1, c = y_test.ravel())\n",
    "contours = plt.contour(x_grid,y_grid,prob_contour)\n",
    "plt.title('Probability Contours')\n",
    "plt.clabel(contours, inline = True );"
   ]
  },
  {
   "cell_type": "code",
   "execution_count": null,
   "id": "e81b4ac7",
   "metadata": {
    "papermill": {
     "duration": 0.047245,
     "end_time": "2021-12-23T00:26:18.861896",
     "exception": false,
     "start_time": "2021-12-23T00:26:18.814651",
     "status": "completed"
    },
    "tags": []
   },
   "outputs": [],
   "source": []
  }
 ],
 "metadata": {
  "kernelspec": {
   "display_name": "Python 3",
   "language": "python",
   "name": "python3"
  },
  "language_info": {
   "codemirror_mode": {
    "name": "ipython",
    "version": 3
   },
   "file_extension": ".py",
   "mimetype": "text/x-python",
   "name": "python",
   "nbconvert_exporter": "python",
   "pygments_lexer": "ipython3",
   "version": "3.6.15"
  },
  "papermill": {
   "default_parameters": {},
   "duration": 100.783993,
   "end_time": "2021-12-23T00:26:19.318003",
   "environment_variables": {},
   "exception": null,
   "input_path": "2020-08-11-part2.ipynb",
   "output_path": "2020-08-11-part2.ipynb",
   "parameters": {},
   "start_time": "2021-12-23T00:24:38.534010",
   "version": "2.3.3"
  }
 },
 "nbformat": 4,
 "nbformat_minor": 5
}