{
 "cells": [
  {
   "cell_type": "markdown",
   "id": "98380cd3",
   "metadata": {
    "papermill": {
     "duration": 0.028982,
     "end_time": "2022-08-12T00:39:00.976156",
     "exception": false,
     "start_time": "2022-08-12T00:39:00.947174",
     "status": "completed"
    },
    "tags": []
   },
   "source": [
    "# Distinguish Your Own Digits (DYOD)"
   ]
  },
  {
   "cell_type": "markdown",
   "id": "ef31240d",
   "metadata": {
    "papermill": {
     "duration": 0.024208,
     "end_time": "2022-08-12T00:39:01.025160",
     "exception": false,
     "start_time": "2022-08-12T00:39:01.000952",
     "status": "completed"
    },
    "tags": []
   },
   "source": [
    "You are going to write a classifier that distinguishes between the number 3 and number 8."
   ]
  },
  {
   "cell_type": "code",
   "execution_count": 1,
   "id": "b15c8646",
   "metadata": {
    "execution": {
     "iopub.execute_input": "2022-08-12T00:39:01.084290Z",
     "iopub.status.busy": "2022-08-12T00:39:01.083702Z",
     "iopub.status.idle": "2022-08-12T00:39:01.094087Z",
     "shell.execute_reply": "2022-08-12T00:39:01.093625Z"
    },
    "papermill": {
     "duration": 0.043973,
     "end_time": "2022-08-12T00:39:01.094194",
     "exception": false,
     "start_time": "2022-08-12T00:39:01.050221",
     "status": "completed"
    },
    "tags": []
   },
   "outputs": [],
   "source": [
    "%load_ext autoreload\n",
    "%autoreload 2"
   ]
  },
  {
   "cell_type": "code",
   "execution_count": 2,
   "id": "22ef38dc",
   "metadata": {
    "execution": {
     "iopub.execute_input": "2022-08-12T00:39:01.146057Z",
     "iopub.status.busy": "2022-08-12T00:39:01.145500Z",
     "iopub.status.idle": "2022-08-12T00:39:01.650192Z",
     "shell.execute_reply": "2022-08-12T00:39:01.649242Z"
    },
    "papermill": {
     "duration": 0.532099,
     "end_time": "2022-08-12T00:39:01.650319",
     "exception": false,
     "start_time": "2022-08-12T00:39:01.118220",
     "status": "completed"
    },
    "tags": []
   },
   "outputs": [],
   "source": [
    "%matplotlib inline\n",
    "import numpy as np\n",
    "import matplotlib.pyplot as plt\n",
    "import pandas as pd"
   ]
  },
  {
   "cell_type": "markdown",
   "id": "ba036198",
   "metadata": {
    "papermill": {
     "duration": 0.024104,
     "end_time": "2022-08-12T00:39:01.698588",
     "exception": false,
     "start_time": "2022-08-12T00:39:01.674484",
     "status": "completed"
    },
    "tags": []
   },
   "source": [
    "From the command line run `pip install mnist`. This is a library that will help you bring down the mnist dataset. If you run this from a notebook, you need to put  `!pip install mnist` in a cell by itself."
   ]
  },
  {
   "cell_type": "code",
   "execution_count": 3,
   "id": "bb6ad8a1",
   "metadata": {
    "execution": {
     "iopub.execute_input": "2022-08-12T00:39:01.753439Z",
     "iopub.status.busy": "2022-08-12T00:39:01.752407Z",
     "iopub.status.idle": "2022-08-12T00:39:03.299882Z",
     "shell.execute_reply": "2022-08-12T00:39:03.299372Z"
    },
    "papermill": {
     "duration": 1.577357,
     "end_time": "2022-08-12T00:39:03.299998",
     "exception": false,
     "start_time": "2022-08-12T00:39:01.722641",
     "status": "completed"
    },
    "tags": []
   },
   "outputs": [
    {
     "name": "stdout",
     "output_type": "stream",
     "text": [
      "Collecting mnist\r\n"
     ]
    },
    {
     "name": "stdout",
     "output_type": "stream",
     "text": [
      "  Downloading mnist-0.2.2-py2.py3-none-any.whl (3.5 kB)\r\n",
      "Requirement already satisfied: numpy in /opt/hostedtoolcache/Python/3.6.15/x64/lib/python3.6/site-packages (from mnist) (1.19.5)\r\n"
     ]
    },
    {
     "name": "stdout",
     "output_type": "stream",
     "text": [
      "Installing collected packages: mnist\r\n"
     ]
    },
    {
     "name": "stdout",
     "output_type": "stream",
     "text": [
      "Successfully installed mnist-0.2.2\r\n"
     ]
    }
   ],
   "source": [
    "!pip install mnist"
   ]
  },
  {
   "cell_type": "markdown",
   "id": "69df9c9a",
   "metadata": {
    "papermill": {
     "duration": 0.025233,
     "end_time": "2022-08-12T00:39:03.351576",
     "exception": false,
     "start_time": "2022-08-12T00:39:03.326343",
     "status": "completed"
    },
    "tags": []
   },
   "source": [
    "## Preparing the Data"
   ]
  },
  {
   "cell_type": "code",
   "execution_count": 4,
   "id": "7f69d806",
   "metadata": {
    "execution": {
     "iopub.execute_input": "2022-08-12T00:39:03.405758Z",
     "iopub.status.busy": "2022-08-12T00:39:03.405216Z",
     "iopub.status.idle": "2022-08-12T00:39:03.418961Z",
     "shell.execute_reply": "2022-08-12T00:39:03.418521Z"
    },
    "papermill": {
     "duration": 0.042447,
     "end_time": "2022-08-12T00:39:03.419060",
     "exception": false,
     "start_time": "2022-08-12T00:39:03.376613",
     "status": "completed"
    },
    "tags": []
   },
   "outputs": [],
   "source": [
    "import mnist"
   ]
  },
  {
   "cell_type": "code",
   "execution_count": 5,
   "id": "a411e44f",
   "metadata": {
    "execution": {
     "iopub.execute_input": "2022-08-12T00:39:03.472336Z",
     "iopub.status.busy": "2022-08-12T00:39:03.471775Z",
     "iopub.status.idle": "2022-08-12T00:39:04.113992Z",
     "shell.execute_reply": "2022-08-12T00:39:04.113494Z"
    },
    "papermill": {
     "duration": 0.669951,
     "end_time": "2022-08-12T00:39:04.114102",
     "exception": false,
     "start_time": "2022-08-12T00:39:03.444151",
     "status": "completed"
    },
    "tags": []
   },
   "outputs": [],
   "source": [
    "train_images = mnist.train_images()\n",
    "train_labels = mnist.train_labels()"
   ]
  },
  {
   "cell_type": "code",
   "execution_count": 6,
   "id": "dceab3a5",
   "metadata": {
    "execution": {
     "iopub.execute_input": "2022-08-12T00:39:04.169028Z",
     "iopub.status.busy": "2022-08-12T00:39:04.168476Z",
     "iopub.status.idle": "2022-08-12T00:39:04.182512Z",
     "shell.execute_reply": "2022-08-12T00:39:04.182082Z"
    },
    "papermill": {
     "duration": 0.043114,
     "end_time": "2022-08-12T00:39:04.182613",
     "exception": false,
     "start_time": "2022-08-12T00:39:04.139499",
     "status": "completed"
    },
    "tags": []
   },
   "outputs": [
    {
     "data": {
      "text/plain": [
       "((60000, 28, 28), (60000,))"
      ]
     },
     "execution_count": 6,
     "metadata": {},
     "output_type": "execute_result"
    }
   ],
   "source": [
    "train_images.shape, train_labels.shape"
   ]
  },
  {
   "cell_type": "code",
   "execution_count": 7,
   "id": "f50dc2bb",
   "metadata": {
    "execution": {
     "iopub.execute_input": "2022-08-12T00:39:04.236339Z",
     "iopub.status.busy": "2022-08-12T00:39:04.235777Z",
     "iopub.status.idle": "2022-08-12T00:39:04.431286Z",
     "shell.execute_reply": "2022-08-12T00:39:04.430811Z"
    },
    "papermill": {
     "duration": 0.223422,
     "end_time": "2022-08-12T00:39:04.431401",
     "exception": false,
     "start_time": "2022-08-12T00:39:04.207979",
     "status": "completed"
    },
    "tags": []
   },
   "outputs": [],
   "source": [
    "test_images = mnist.test_images()\n",
    "test_labels = mnist.test_labels()"
   ]
  },
  {
   "cell_type": "code",
   "execution_count": 8,
   "id": "fc38cf1b",
   "metadata": {
    "execution": {
     "iopub.execute_input": "2022-08-12T00:39:04.485628Z",
     "iopub.status.busy": "2022-08-12T00:39:04.485075Z",
     "iopub.status.idle": "2022-08-12T00:39:04.497427Z",
     "shell.execute_reply": "2022-08-12T00:39:04.497935Z"
    },
    "papermill": {
     "duration": 0.040863,
     "end_time": "2022-08-12T00:39:04.498046",
     "exception": false,
     "start_time": "2022-08-12T00:39:04.457183",
     "status": "completed"
    },
    "tags": []
   },
   "outputs": [
    {
     "data": {
      "text/plain": [
       "((10000, 28, 28), (10000,))"
      ]
     },
     "execution_count": 8,
     "metadata": {},
     "output_type": "execute_result"
    }
   ],
   "source": [
    "test_images.shape, test_labels.shape"
   ]
  },
  {
   "cell_type": "code",
   "execution_count": 9,
   "id": "f9ed8fe0",
   "metadata": {
    "execution": {
     "iopub.execute_input": "2022-08-12T00:39:04.552388Z",
     "iopub.status.busy": "2022-08-12T00:39:04.551836Z",
     "iopub.status.idle": "2022-08-12T00:39:04.683199Z",
     "shell.execute_reply": "2022-08-12T00:39:04.683637Z"
    },
    "papermill": {
     "duration": 0.160189,
     "end_time": "2022-08-12T00:39:04.683774",
     "exception": false,
     "start_time": "2022-08-12T00:39:04.523585",
     "status": "completed"
    },
    "tags": []
   },
   "outputs": [
    {
     "name": "stdout",
     "output_type": "stream",
     "text": [
      "2\n"
     ]
    },
    {
     "data": {
      "text/plain": [
       "<matplotlib.image.AxesImage at 0x7f56011bb9b0>"
      ]
     },
     "execution_count": 9,
     "metadata": {},
     "output_type": "execute_result"
    },
    {
     "data": {
      "image/png": "[encoded data removed]",
      "text/plain": [
       "<Figure size 432x288 with 1 Axes>"
      ]
     },
     "metadata": {
      "needs_background": "light"
     },
     "output_type": "display_data"
    }
   ],
   "source": [
    "image_index = 7776 # You may select anything up to 60,000\n",
    "print(train_labels[image_index]) \n",
    "plt.imshow(train_images[image_index], cmap='Greys')"
   ]
  },
  {
   "cell_type": "markdown",
   "id": "a8d2388d",
   "metadata": {
    "papermill": {
     "duration": 0.026649,
     "end_time": "2022-08-12T00:39:04.737381",
     "exception": false,
     "start_time": "2022-08-12T00:39:04.710732",
     "status": "completed"
    },
    "tags": []
   },
   "source": [
    "## Filter data to get 3 and 8 out"
   ]
  },
  {
   "cell_type": "code",
   "execution_count": 10,
   "id": "776f7fc7",
   "metadata": {
    "execution": {
     "iopub.execute_input": "2022-08-12T00:39:04.794674Z",
     "iopub.status.busy": "2022-08-12T00:39:04.794106Z",
     "iopub.status.idle": "2022-08-12T00:39:04.811465Z",
     "shell.execute_reply": "2022-08-12T00:39:04.811940Z"
    },
    "papermill": {
     "duration": 0.047906,
     "end_time": "2022-08-12T00:39:04.812064",
     "exception": false,
     "start_time": "2022-08-12T00:39:04.764158",
     "status": "completed"
    },
    "tags": []
   },
   "outputs": [],
   "source": [
    "train_filter = np.where((train_labels == 3 ) | (train_labels == 8))\n",
    "test_filter = np.where((test_labels == 3) | (test_labels == 8))\n",
    "X_train, y_train = train_images[train_filter], train_labels[train_filter]\n",
    "X_test, y_test = test_images[test_filter], test_labels[test_filter]"
   ]
  },
  {
   "cell_type": "markdown",
   "id": "948f0b7e",
   "metadata": {
    "papermill": {
     "duration": 0.026615,
     "end_time": "2022-08-12T00:39:04.865756",
     "exception": false,
     "start_time": "2022-08-12T00:39:04.839141",
     "status": "completed"
    },
    "tags": []
   },
   "source": [
    "We normalize the pizel values in the 0 to 1 range"
   ]
  },
  {
   "cell_type": "code",
   "execution_count": 11,
   "id": "ee4c2166",
   "metadata": {
    "execution": {
     "iopub.execute_input": "2022-08-12T00:39:04.922186Z",
     "iopub.status.busy": "2022-08-12T00:39:04.921635Z",
     "iopub.status.idle": "2022-08-12T00:39:04.961735Z",
     "shell.execute_reply": "2022-08-12T00:39:04.961291Z"
    },
    "papermill": {
     "duration": 0.069394,
     "end_time": "2022-08-12T00:39:04.961842",
     "exception": false,
     "start_time": "2022-08-12T00:39:04.892448",
     "status": "completed"
    },
    "tags": []
   },
   "outputs": [],
   "source": [
    "X_train = X_train/255.\n",
    "X_test = X_test/255."
   ]
  },
  {
   "cell_type": "markdown",
   "id": "ddcf4fab",
   "metadata": {
    "papermill": {
     "duration": 0.026628,
     "end_time": "2022-08-12T00:39:05.015496",
     "exception": false,
     "start_time": "2022-08-12T00:39:04.988868",
     "status": "completed"
    },
    "tags": []
   },
   "source": [
    "And setup the labels as 1 (when the digit is 3) and 0 (when the digit is 8)"
   ]
  },
  {
   "cell_type": "code",
   "execution_count": 12,
   "id": "7dc908f2",
   "metadata": {
    "execution": {
     "iopub.execute_input": "2022-08-12T00:39:05.072446Z",
     "iopub.status.busy": "2022-08-12T00:39:05.071880Z",
     "iopub.status.idle": "2022-08-12T00:39:05.082934Z",
     "shell.execute_reply": "2022-08-12T00:39:05.083333Z"
    },
    "papermill": {
     "duration": 0.041211,
     "end_time": "2022-08-12T00:39:05.083450",
     "exception": false,
     "start_time": "2022-08-12T00:39:05.042239",
     "status": "completed"
    },
    "tags": []
   },
   "outputs": [],
   "source": [
    "y_train = 1*(y_train==3)\n",
    "y_test = 1*(y_test==3)"
   ]
  },
  {
   "cell_type": "code",
   "execution_count": 13,
   "id": "01e4e969",
   "metadata": {
    "execution": {
     "iopub.execute_input": "2022-08-12T00:39:05.140218Z",
     "iopub.status.busy": "2022-08-12T00:39:05.139621Z",
     "iopub.status.idle": "2022-08-12T00:39:05.152258Z",
     "shell.execute_reply": "2022-08-12T00:39:05.151705Z"
    },
    "papermill": {
     "duration": 0.042061,
     "end_time": "2022-08-12T00:39:05.152356",
     "exception": false,
     "start_time": "2022-08-12T00:39:05.110295",
     "status": "completed"
    },
    "tags": []
   },
   "outputs": [
    {
     "data": {
      "text/plain": [
       "((11982, 28, 28), (1984, 28, 28))"
      ]
     },
     "execution_count": 13,
     "metadata": {},
     "output_type": "execute_result"
    }
   ],
   "source": [
    "X_train.shape, X_test.shape"
   ]
  },
  {
   "cell_type": "markdown",
   "id": "5ccf3f85",
   "metadata": {
    "papermill": {
     "duration": 0.026772,
     "end_time": "2022-08-12T00:39:05.205906",
     "exception": false,
     "start_time": "2022-08-12T00:39:05.179134",
     "status": "completed"
    },
    "tags": []
   },
   "source": [
    "We reshape the data to flatten the image pixels into a set of features or co-variates:"
   ]
  },
  {
   "cell_type": "code",
   "execution_count": 14,
   "id": "5286a4a3",
   "metadata": {
    "execution": {
     "iopub.execute_input": "2022-08-12T00:39:05.263148Z",
     "iopub.status.busy": "2022-08-12T00:39:05.262607Z",
     "iopub.status.idle": "2022-08-12T00:39:05.275707Z",
     "shell.execute_reply": "2022-08-12T00:39:05.275168Z"
    },
    "papermill": {
     "duration": 0.0429,
     "end_time": "2022-08-12T00:39:05.275819",
     "exception": false,
     "start_time": "2022-08-12T00:39:05.232919",
     "status": "completed"
    },
    "tags": []
   },
   "outputs": [
    {
     "data": {
      "text/plain": [
       "((11982, 784), (1984, 784))"
      ]
     },
     "execution_count": 14,
     "metadata": {},
     "output_type": "execute_result"
    }
   ],
   "source": [
    "X_train = X_train.reshape(X_train.shape[0], -1)\n",
    "X_test = X_test.reshape(X_test.shape[0], -1)\n",
    "X_train.shape, X_test.shape"
   ]
  },
  {
   "cell_type": "code",
   "execution_count": 15,
   "id": "73c5f88a",
   "metadata": {
    "execution": {
     "iopub.execute_input": "2022-08-12T00:39:05.334278Z",
     "iopub.status.busy": "2022-08-12T00:39:05.333726Z",
     "iopub.status.idle": "2022-08-12T00:39:05.351015Z",
     "shell.execute_reply": "2022-08-12T00:39:05.350576Z"
    },
    "papermill": {
     "duration": 0.048044,
     "end_time": "2022-08-12T00:39:05.351108",
     "exception": false,
     "start_time": "2022-08-12T00:39:05.303064",
     "status": "completed"
    },
    "tags": []
   },
   "outputs": [],
   "source": [
    "#Impoting functions from 'Kudzu'\n",
    "from kudzu.model import Model\n",
    "from kudzu.train import Learner\n",
    "from kudzu.optim import GD\n",
    "from kudzu.data import Data, Sampler,Dataloader\n",
    "\n",
    "from kudzu.callbacks import AccCallback\n",
    "from kudzu.callbacks import ClfCallback\n",
    "\n",
    "from kudzu.loss import MSE\n",
    "\n",
    "from kudzu.layer import Sigmoid,Relu\n",
    "from kudzu.layer import Affine"
   ]
  },
  {
   "cell_type": "markdown",
   "id": "bc01172a",
   "metadata": {
    "papermill": {
     "duration": 0.027238,
     "end_time": "2022-08-12T00:39:05.405662",
     "exception": false,
     "start_time": "2022-08-12T00:39:05.378424",
     "status": "completed"
    },
    "tags": []
   },
   "source": [
    "### Let us create a `Config` class, to store important parameters. \n",
    "This class essentially plays the role of a dictionary."
   ]
  },
  {
   "cell_type": "code",
   "execution_count": 16,
   "id": "978281aa",
   "metadata": {
    "execution": {
     "iopub.execute_input": "2022-08-12T00:39:05.463390Z",
     "iopub.status.busy": "2022-08-12T00:39:05.462831Z",
     "iopub.status.idle": "2022-08-12T00:39:05.474147Z",
     "shell.execute_reply": "2022-08-12T00:39:05.474547Z"
    },
    "papermill": {
     "duration": 0.041862,
     "end_time": "2022-08-12T00:39:05.474660",
     "exception": false,
     "start_time": "2022-08-12T00:39:05.432798",
     "status": "completed"
    },
    "tags": []
   },
   "outputs": [],
   "source": [
    "class Config:\n",
    "    pass\n",
    "config = Config()\n",
    "config.lr = 0.001\n",
    "config.num_epochs = 250\n",
    "config.bs = 50"
   ]
  },
  {
   "cell_type": "markdown",
   "id": "1385fa59",
   "metadata": {
    "papermill": {
     "duration": 0.026952,
     "end_time": "2022-08-12T00:39:05.528736",
     "exception": false,
     "start_time": "2022-08-12T00:39:05.501784",
     "status": "completed"
    },
    "tags": []
   },
   "source": [
    "### Running Models with the Training data\n",
    "Details about the network layers:\n",
    "- A first affine layer has 784 inputs and does 100 affine transforms. These are followed by a Relu\n",
    "- A second affine layer has 100 inputs from the 100 activations of the past layer, and does 100 affine transforms. These are followed by a Relu\n",
    "- A third affine layer has 100 activations and does 2 affine transformations to create an embedding for visualization. There is no non-linearity here.\n",
    "- A final \"logistic regression\" which has an affine transform from 2 inputs to 1 output, which is squeezed through a sigmoid.\n"
   ]
  },
  {
   "cell_type": "code",
   "execution_count": 17,
   "id": "2b9c66db",
   "metadata": {
    "execution": {
     "iopub.execute_input": "2022-08-12T00:39:05.586438Z",
     "iopub.status.busy": "2022-08-12T00:39:05.585887Z",
     "iopub.status.idle": "2022-08-12T00:39:05.597677Z",
     "shell.execute_reply": "2022-08-12T00:39:05.597152Z"
    },
    "papermill": {
     "duration": 0.041909,
     "end_time": "2022-08-12T00:39:05.597773",
     "exception": false,
     "start_time": "2022-08-12T00:39:05.555864",
     "status": "completed"
    },
    "tags": []
   },
   "outputs": [],
   "source": [
    "data = Data(X_train, y_train.reshape(-1,1))\n",
    "sampler = Sampler(data, config.bs, shuffle=True)\n",
    "\n",
    "dl = Dataloader(data, sampler)\n",
    "\n",
    "opt = GD(config.lr)\n",
    "loss = MSE()"
   ]
  },
  {
   "cell_type": "code",
   "execution_count": 18,
   "id": "b275e4c2",
   "metadata": {
    "execution": {
     "iopub.execute_input": "2022-08-12T00:39:05.655152Z",
     "iopub.status.busy": "2022-08-12T00:39:05.654614Z",
     "iopub.status.idle": "2022-08-12T00:39:05.665897Z",
     "shell.execute_reply": "2022-08-12T00:39:05.665365Z"
    },
    "papermill": {
     "duration": 0.041112,
     "end_time": "2022-08-12T00:39:05.665992",
     "exception": false,
     "start_time": "2022-08-12T00:39:05.624880",
     "status": "completed"
    },
    "tags": []
   },
   "outputs": [],
   "source": [
    "training_data_x = X_train\n",
    "testing_data_x = X_test\n",
    "training_data_y = y_train.reshape(-1,1)\n",
    "testing_data_y = y_test.reshape(-1,1)"
   ]
  },
  {
   "cell_type": "code",
   "execution_count": 19,
   "id": "76951160",
   "metadata": {
    "execution": {
     "iopub.execute_input": "2022-08-12T00:39:05.723588Z",
     "iopub.status.busy": "2022-08-12T00:39:05.723044Z",
     "iopub.status.idle": "2022-08-12T00:39:05.738178Z",
     "shell.execute_reply": "2022-08-12T00:39:05.738579Z"
    },
    "papermill": {
     "duration": 0.045652,
     "end_time": "2022-08-12T00:39:05.738690",
     "exception": false,
     "start_time": "2022-08-12T00:39:05.693038",
     "status": "completed"
    },
    "tags": []
   },
   "outputs": [
    {
     "name": "stdout",
     "output_type": "stream",
     "text": [
      "xavier\n",
      "xavier\n",
      "xavier\n",
      "xavier\n",
      "xavier\n"
     ]
    }
   ],
   "source": [
    "layers = [Affine(\"first\", 784, 100), Relu(\"first\"), Affine(\"second\", 100, 100), Relu(\"second\"), Affine(\"third\", 100, 2), Affine(\"last\", 2, 1), Sigmoid(\"last\")]\n",
    "model_nn = Model(layers)\n",
    "model_lr = Model([Affine(\"logits\", 784, 1), Sigmoid(\"sigmoid\")])"
   ]
  },
  {
   "cell_type": "code",
   "execution_count": 20,
   "id": "6eede77a",
   "metadata": {
    "execution": {
     "iopub.execute_input": "2022-08-12T00:39:05.796944Z",
     "iopub.status.busy": "2022-08-12T00:39:05.796401Z",
     "iopub.status.idle": "2022-08-12T00:39:05.807147Z",
     "shell.execute_reply": "2022-08-12T00:39:05.807566Z"
    },
    "papermill": {
     "duration": 0.04144,
     "end_time": "2022-08-12T00:39:05.807671",
     "exception": false,
     "start_time": "2022-08-12T00:39:05.766231",
     "status": "completed"
    },
    "tags": []
   },
   "outputs": [],
   "source": [
    "nn_learner = Learner(loss, model_nn, opt, config.num_epochs)\n",
    "acc_nn = ClfCallback(nn_learner, config.bs, training_data_x , testing_data_x, training_data_y, testing_data_y)\n",
    "nn_learner.set_callbacks([acc_nn])"
   ]
  },
  {
   "cell_type": "code",
   "execution_count": 21,
   "id": "877b6cc7",
   "metadata": {
    "execution": {
     "iopub.execute_input": "2022-08-12T00:39:05.871135Z",
     "iopub.status.busy": "2022-08-12T00:39:05.867780Z",
     "iopub.status.idle": "2022-08-12T00:39:05.879595Z",
     "shell.execute_reply": "2022-08-12T00:39:05.879149Z"
    },
    "papermill": {
     "duration": 0.044475,
     "end_time": "2022-08-12T00:39:05.879690",
     "exception": false,
     "start_time": "2022-08-12T00:39:05.835215",
     "status": "completed"
    },
    "tags": []
   },
   "outputs": [],
   "source": [
    "lr_learner = Learner(loss, model_lr, opt, config.num_epochs)\n",
    "acc_lr = ClfCallback(lr_learner, config.bs, training_data_x , testing_data_x, training_data_y, testing_data_y)\n",
    "lr_learner.set_callbacks([acc_lr])"
   ]
  },
  {
   "cell_type": "code",
   "execution_count": 22,
   "id": "d9b133c3",
   "metadata": {
    "execution": {
     "iopub.execute_input": "2022-08-12T00:39:05.940256Z",
     "iopub.status.busy": "2022-08-12T00:39:05.939660Z",
     "iopub.status.idle": "2022-08-12T00:42:00.311060Z",
     "shell.execute_reply": "2022-08-12T00:42:00.311565Z"
    },
    "papermill": {
     "duration": 174.404347,
     "end_time": "2022-08-12T00:42:00.311692",
     "exception": false,
     "start_time": "2022-08-12T00:39:05.907345",
     "status": "completed"
    },
    "tags": []
   },
   "outputs": [
    {
     "name": "stdout",
     "output_type": "stream",
     "text": [
      "Epoch 0, Loss 0.2183\n",
      "Training Accuracy: 0.7835, Testing Accuracy: 0.7863\n",
      "\n"
     ]
    },
    {
     "name": "stdout",
     "output_type": "stream",
     "text": [
      "Epoch 10, Loss 0.0766\n",
      "Training Accuracy: 0.9236, Testing Accuracy: 0.9360\n",
      "\n"
     ]
    },
    {
     "name": "stdout",
     "output_type": "stream",
     "text": [
      "Epoch 20, Loss 0.05\n",
      "Training Accuracy: 0.9472, Testing Accuracy: 0.9567\n",
      "\n"
     ]
    },
    {
     "name": "stdout",
     "output_type": "stream",
     "text": [
      "Epoch 30, Loss 0.0405\n",
      "Training Accuracy: 0.9549, Testing Accuracy: 0.9647\n",
      "\n"
     ]
    },
    {
     "name": "stdout",
     "output_type": "stream",
     "text": [
      "Epoch 40, Loss 0.0357\n",
      "Training Accuracy: 0.9584, Testing Accuracy: 0.9672\n",
      "\n"
     ]
    },
    {
     "name": "stdout",
     "output_type": "stream",
     "text": [
      "Epoch 50, Loss 0.0328\n",
      "Training Accuracy: 0.9617, Testing Accuracy: 0.9677\n",
      "\n"
     ]
    },
    {
     "name": "stdout",
     "output_type": "stream",
     "text": [
      "Epoch 60, Loss 0.0308\n",
      "Training Accuracy: 0.9641, Testing Accuracy: 0.9708\n",
      "\n"
     ]
    },
    {
     "name": "stdout",
     "output_type": "stream",
     "text": [
      "Epoch 70, Loss 0.0292\n",
      "Training Accuracy: 0.9658, Testing Accuracy: 0.9698\n",
      "\n"
     ]
    },
    {
     "name": "stdout",
     "output_type": "stream",
     "text": [
      "Epoch 80, Loss 0.0279\n",
      "Training Accuracy: 0.9668, Testing Accuracy: 0.9693\n",
      "\n"
     ]
    },
    {
     "name": "stdout",
     "output_type": "stream",
     "text": [
      "Epoch 90, Loss 0.0268\n",
      "Training Accuracy: 0.9685, Testing Accuracy: 0.9698\n",
      "\n"
     ]
    },
    {
     "name": "stdout",
     "output_type": "stream",
     "text": [
      "Epoch 100, Loss 0.0259\n",
      "Training Accuracy: 0.9699, Testing Accuracy: 0.9703\n",
      "\n"
     ]
    },
    {
     "name": "stdout",
     "output_type": "stream",
     "text": [
      "Epoch 110, Loss 0.025\n",
      "Training Accuracy: 0.9707, Testing Accuracy: 0.9703\n",
      "\n"
     ]
    },
    {
     "name": "stdout",
     "output_type": "stream",
     "text": [
      "Epoch 120, Loss 0.0243\n",
      "Training Accuracy: 0.9718, Testing Accuracy: 0.9703\n",
      "\n"
     ]
    },
    {
     "name": "stdout",
     "output_type": "stream",
     "text": [
      "Epoch 130, Loss 0.0236\n",
      "Training Accuracy: 0.9726, Testing Accuracy: 0.9708\n",
      "\n"
     ]
    },
    {
     "name": "stdout",
     "output_type": "stream",
     "text": [
      "Epoch 140, Loss 0.023\n",
      "Training Accuracy: 0.9733, Testing Accuracy: 0.9718\n",
      "\n"
     ]
    },
    {
     "name": "stdout",
     "output_type": "stream",
     "text": [
      "Epoch 150, Loss 0.0224\n",
      "Training Accuracy: 0.9736, Testing Accuracy: 0.9713\n",
      "\n"
     ]
    },
    {
     "name": "stdout",
     "output_type": "stream",
     "text": [
      "Epoch 160, Loss 0.0218\n",
      "Training Accuracy: 0.9745, Testing Accuracy: 0.9723\n",
      "\n"
     ]
    },
    {
     "name": "stdout",
     "output_type": "stream",
     "text": [
      "Epoch 170, Loss 0.0213\n",
      "Training Accuracy: 0.9756, Testing Accuracy: 0.9723\n",
      "\n"
     ]
    },
    {
     "name": "stdout",
     "output_type": "stream",
     "text": [
      "Epoch 180, Loss 0.0207\n",
      "Training Accuracy: 0.9764, Testing Accuracy: 0.9733\n",
      "\n"
     ]
    },
    {
     "name": "stdout",
     "output_type": "stream",
     "text": [
      "Epoch 190, Loss 0.0202\n",
      "Training Accuracy: 0.9768, Testing Accuracy: 0.9743\n",
      "\n"
     ]
    },
    {
     "name": "stdout",
     "output_type": "stream",
     "text": [
      "Epoch 200, Loss 0.0197\n",
      "Training Accuracy: 0.9778, Testing Accuracy: 0.9738\n",
      "\n"
     ]
    },
    {
     "name": "stdout",
     "output_type": "stream",
     "text": [
      "Epoch 210, Loss 0.0193\n",
      "Training Accuracy: 0.9785, Testing Accuracy: 0.9728\n",
      "\n"
     ]
    },
    {
     "name": "stdout",
     "output_type": "stream",
     "text": [
      "Epoch 220, Loss 0.0188\n",
      "Training Accuracy: 0.9793, Testing Accuracy: 0.9738\n",
      "\n"
     ]
    },
    {
     "name": "stdout",
     "output_type": "stream",
     "text": [
      "Epoch 230, Loss 0.0184\n",
      "Training Accuracy: 0.9797, Testing Accuracy: 0.9748\n",
      "\n"
     ]
    },
    {
     "name": "stdout",
     "output_type": "stream",
     "text": [
      "Epoch 240, Loss 0.018\n",
      "Training Accuracy: 0.9805, Testing Accuracy: 0.9753\n",
      "\n"
     ]
    },
    {
     "data": {
      "text/plain": [
       "0.03946846215570271"
      ]
     },
     "execution_count": 22,
     "metadata": {},
     "output_type": "execute_result"
    }
   ],
   "source": [
    "nn_learner.train_loop(dl)"
   ]
  },
  {
   "cell_type": "code",
   "execution_count": 23,
   "id": "e0163366",
   "metadata": {
    "execution": {
     "iopub.execute_input": "2022-08-12T00:42:00.387193Z",
     "iopub.status.busy": "2022-08-12T00:42:00.386131Z",
     "iopub.status.idle": "2022-08-12T00:42:12.355992Z",
     "shell.execute_reply": "2022-08-12T00:42:12.356770Z"
    },
    "papermill": {
     "duration": 12.009644,
     "end_time": "2022-08-12T00:42:12.356903",
     "exception": false,
     "start_time": "2022-08-12T00:42:00.347259",
     "status": "completed"
    },
    "tags": []
   },
   "outputs": [
    {
     "name": "stdout",
     "output_type": "stream",
     "text": [
      "Epoch 0, Loss 0.2141\n",
      "Training Accuracy: 0.8148, Testing Accuracy: 0.8332\n",
      "\n"
     ]
    },
    {
     "name": "stdout",
     "output_type": "stream",
     "text": [
      "Epoch 10, Loss 0.0992\n",
      "Training Accuracy: 0.9140, Testing Accuracy: 0.9274\n",
      "\n"
     ]
    },
    {
     "name": "stdout",
     "output_type": "stream",
     "text": [
      "Epoch 20, Loss 0.0781\n",
      "Training Accuracy: 0.9290, Testing Accuracy: 0.9400\n",
      "\n"
     ]
    },
    {
     "name": "stdout",
     "output_type": "stream",
     "text": [
      "Epoch 30, Loss 0.068\n",
      "Training Accuracy: 0.9354, Testing Accuracy: 0.9466\n",
      "\n"
     ]
    },
    {
     "name": "stdout",
     "output_type": "stream",
     "text": [
      "Epoch 40, Loss 0.0618\n",
      "Training Accuracy: 0.9404, Testing Accuracy: 0.9536\n",
      "\n"
     ]
    },
    {
     "name": "stdout",
     "output_type": "stream",
     "text": [
      "Epoch 50, Loss 0.0575\n",
      "Training Accuracy: 0.9432, Testing Accuracy: 0.9567\n",
      "\n"
     ]
    },
    {
     "name": "stdout",
     "output_type": "stream",
     "text": [
      "Epoch 60, Loss 0.0543\n",
      "Training Accuracy: 0.9458, Testing Accuracy: 0.9561\n",
      "\n"
     ]
    },
    {
     "name": "stdout",
     "output_type": "stream",
     "text": [
      "Epoch 70, Loss 0.0518\n",
      "Training Accuracy: 0.9478, Testing Accuracy: 0.9587\n",
      "\n"
     ]
    },
    {
     "name": "stdout",
     "output_type": "stream",
     "text": [
      "Epoch 80, Loss 0.0497\n",
      "Training Accuracy: 0.9492, Testing Accuracy: 0.9602\n",
      "\n"
     ]
    },
    {
     "name": "stdout",
     "output_type": "stream",
     "text": [
      "Epoch 90, Loss 0.0481\n",
      "Training Accuracy: 0.9504, Testing Accuracy: 0.9622\n",
      "\n"
     ]
    },
    {
     "name": "stdout",
     "output_type": "stream",
     "text": [
      "Epoch 100, Loss 0.0466\n",
      "Training Accuracy: 0.9516, Testing Accuracy: 0.9637\n",
      "\n"
     ]
    },
    {
     "name": "stdout",
     "output_type": "stream",
     "text": [
      "Epoch 110, Loss 0.0454\n",
      "Training Accuracy: 0.9523, Testing Accuracy: 0.9632\n",
      "\n"
     ]
    },
    {
     "name": "stdout",
     "output_type": "stream",
     "text": [
      "Epoch 120, Loss 0.0443\n",
      "Training Accuracy: 0.9529, Testing Accuracy: 0.9642\n",
      "\n"
     ]
    },
    {
     "name": "stdout",
     "output_type": "stream",
     "text": [
      "Epoch 130, Loss 0.0434\n",
      "Training Accuracy: 0.9542, Testing Accuracy: 0.9642\n",
      "\n"
     ]
    },
    {
     "name": "stdout",
     "output_type": "stream",
     "text": [
      "Epoch 140, Loss 0.0426\n",
      "Training Accuracy: 0.9549, Testing Accuracy: 0.9647\n",
      "\n"
     ]
    },
    {
     "name": "stdout",
     "output_type": "stream",
     "text": [
      "Epoch 150, Loss 0.0418\n",
      "Training Accuracy: 0.9556, Testing Accuracy: 0.9647\n",
      "\n"
     ]
    },
    {
     "name": "stdout",
     "output_type": "stream",
     "text": [
      "Epoch 160, Loss 0.0411\n",
      "Training Accuracy: 0.9562, Testing Accuracy: 0.9657\n",
      "\n"
     ]
    },
    {
     "name": "stdout",
     "output_type": "stream",
     "text": [
      "Epoch 170, Loss 0.0405\n",
      "Training Accuracy: 0.9568, Testing Accuracy: 0.9667\n",
      "\n"
     ]
    },
    {
     "name": "stdout",
     "output_type": "stream",
     "text": [
      "Epoch 180, Loss 0.0399\n",
      "Training Accuracy: 0.9573, Testing Accuracy: 0.9667\n",
      "\n"
     ]
    },
    {
     "name": "stdout",
     "output_type": "stream",
     "text": [
      "Epoch 190, Loss 0.0394\n",
      "Training Accuracy: 0.9580, Testing Accuracy: 0.9672\n",
      "\n"
     ]
    },
    {
     "name": "stdout",
     "output_type": "stream",
     "text": [
      "Epoch 200, Loss 0.0389\n",
      "Training Accuracy: 0.9588, Testing Accuracy: 0.9672\n",
      "\n"
     ]
    },
    {
     "name": "stdout",
     "output_type": "stream",
     "text": [
      "Epoch 210, Loss 0.0385\n",
      "Training Accuracy: 0.9591, Testing Accuracy: 0.9672\n",
      "\n"
     ]
    },
    {
     "name": "stdout",
     "output_type": "stream",
     "text": [
      "Epoch 220, Loss 0.038\n",
      "Training Accuracy: 0.9598, Testing Accuracy: 0.9672\n",
      "\n"
     ]
    },
    {
     "name": "stdout",
     "output_type": "stream",
     "text": [
      "Epoch 230, Loss 0.0376\n",
      "Training Accuracy: 0.9599, Testing Accuracy: 0.9672\n",
      "\n"
     ]
    },
    {
     "name": "stdout",
     "output_type": "stream",
     "text": [
      "Epoch 240, Loss 0.0373\n",
      "Training Accuracy: 0.9600, Testing Accuracy: 0.9672\n",
      "\n"
     ]
    },
    {
     "data": {
      "text/plain": [
       "0.027003248707851604"
      ]
     },
     "execution_count": 23,
     "metadata": {},
     "output_type": "execute_result"
    }
   ],
   "source": [
    "lr_learner.train_loop(dl)"
   ]
  },
  {
   "cell_type": "code",
   "execution_count": 24,
   "id": "ca410940",
   "metadata": {
    "execution": {
     "iopub.execute_input": "2022-08-12T00:42:12.447848Z",
     "iopub.status.busy": "2022-08-12T00:42:12.447264Z",
     "iopub.status.idle": "2022-08-12T00:42:12.686312Z",
     "shell.execute_reply": "2022-08-12T00:42:12.686731Z"
    },
    "papermill": {
     "duration": 0.287683,
     "end_time": "2022-08-12T00:42:12.686862",
     "exception": false,
     "start_time": "2022-08-12T00:42:12.399179",
     "status": "completed"
    },
    "tags": []
   },
   "outputs": [
    {
     "data": {
      "text/plain": [
       "<matplotlib.legend.Legend at 0x7f5600d2ab00>"
      ]
     },
     "execution_count": 24,
     "metadata": {},
     "output_type": "execute_result"
    },
    {
     "data": {
      "image/png": "[encoded data removed]",
      "text/plain": [
       "<Figure size 1080x720 with 1 Axes>"
      ]
     },
     "metadata": {
      "needs_background": "light"
     },
     "output_type": "display_data"
    }
   ],
   "source": [
    "#comparing the results of NN and LR\n",
    "plt.figure(figsize=(15,10))\n",
    "\n",
    "# Neural Network plots\n",
    "plt.plot(acc_nn.accuracies, 'r-', label = \"Training Accuracies - NN\")\n",
    "plt.plot(acc_nn.test_accuracies, 'g-', label = \"Testing Accuracies - NN\")\n",
    "\n",
    "# Logistic Regression plots\n",
    "plt.plot(acc_lr.accuracies, 'k-', label = \"Training Accuracies - LR\")\n",
    "plt.plot(acc_lr.test_accuracies, 'b-', label = \"Testing Accuracies - LR\")\n",
    "plt.legend()"
   ]
  },
  {
   "cell_type": "markdown",
   "id": "80dfb35c",
   "metadata": {
    "papermill": {
     "duration": 0.042496,
     "end_time": "2022-08-12T00:42:12.772162",
     "exception": false,
     "start_time": "2022-08-12T00:42:12.729666",
     "status": "completed"
    },
    "tags": []
   },
   "source": [
    "#### Plotting the outputs of this layer of the NN.\n"
   ]
  },
  {
   "cell_type": "code",
   "execution_count": 25,
   "id": "45eb2ff5",
   "metadata": {
    "execution": {
     "iopub.execute_input": "2022-08-12T00:42:12.861523Z",
     "iopub.status.busy": "2022-08-12T00:42:12.860973Z",
     "iopub.status.idle": "2022-08-12T00:42:12.896817Z",
     "shell.execute_reply": "2022-08-12T00:42:12.896378Z"
    },
    "papermill": {
     "duration": 0.081373,
     "end_time": "2022-08-12T00:42:12.896922",
     "exception": false,
     "start_time": "2022-08-12T00:42:12.815549",
     "status": "completed"
    },
    "tags": []
   },
   "outputs": [],
   "source": [
    "new_model = Model(layers[:-2])\n",
    "testing_plot = new_model(testing_data_x)"
   ]
  },
  {
   "cell_type": "code",
   "execution_count": 26,
   "id": "4c0a5485",
   "metadata": {
    "execution": {
     "iopub.execute_input": "2022-08-12T00:42:12.992417Z",
     "iopub.status.busy": "2022-08-12T00:42:12.990250Z",
     "iopub.status.idle": "2022-08-12T00:42:13.185029Z",
     "shell.execute_reply": "2022-08-12T00:42:13.184549Z"
    },
    "papermill": {
     "duration": 0.245527,
     "end_time": "2022-08-12T00:42:13.185139",
     "exception": false,
     "start_time": "2022-08-12T00:42:12.939612",
     "status": "completed"
    },
    "tags": []
   },
   "outputs": [
    {
     "data": {
      "text/plain": [
       "Text(0.5, 1.0, 'Outputs')"
      ]
     },
     "execution_count": 26,
     "metadata": {},
     "output_type": "execute_result"
    },
    {
     "data": {
      "image/png": "[encoded data removed]",
      "text/plain": [
       "<Figure size 576x504 with 1 Axes>"
      ]
     },
     "metadata": {
      "needs_background": "light"
     },
     "output_type": "display_data"
    }
   ],
   "source": [
    "# Plotting the scatter plot of points and color coding by class\n",
    "plt.figure(figsize=(8,7))\n",
    "plt.scatter(testing_plot[:,0], testing_plot[:,1], alpha = 0.1, c = y_test.ravel());\n",
    "plt.title('Outputs')"
   ]
  },
  {
   "cell_type": "markdown",
   "id": "a74fcf8f",
   "metadata": {
    "papermill": {
     "duration": 0.044697,
     "end_time": "2022-08-12T00:42:13.295356",
     "exception": false,
     "start_time": "2022-08-12T00:42:13.250659",
     "status": "completed"
    },
    "tags": []
   },
   "source": [
    "Probability contours"
   ]
  },
  {
   "cell_type": "code",
   "execution_count": 27,
   "id": "d0afc8e3",
   "metadata": {
    "execution": {
     "iopub.execute_input": "2022-08-12T00:42:13.388405Z",
     "iopub.status.busy": "2022-08-12T00:42:13.387846Z",
     "iopub.status.idle": "2022-08-12T00:42:13.399066Z",
     "shell.execute_reply": "2022-08-12T00:42:13.399599Z"
    },
    "papermill": {
     "duration": 0.05978,
     "end_time": "2022-08-12T00:42:13.399714",
     "exception": false,
     "start_time": "2022-08-12T00:42:13.339934",
     "status": "completed"
    },
    "tags": []
   },
   "outputs": [],
   "source": [
    "model_prob = Model(layers[-2:]) "
   ]
  },
  {
   "cell_type": "code",
   "execution_count": 28,
   "id": "9b96e238",
   "metadata": {
    "execution": {
     "iopub.execute_input": "2022-08-12T00:42:13.492532Z",
     "iopub.status.busy": "2022-08-12T00:42:13.491971Z",
     "iopub.status.idle": "2022-08-12T00:42:13.504737Z",
     "shell.execute_reply": "2022-08-12T00:42:13.505166Z"
    },
    "papermill": {
     "duration": 0.061177,
     "end_time": "2022-08-12T00:42:13.505287",
     "exception": false,
     "start_time": "2022-08-12T00:42:13.444110",
     "status": "completed"
    },
    "tags": []
   },
   "outputs": [],
   "source": [
    "#creating the x and y ranges according to the above generated plot.\n",
    "x_range = np.linspace(-4, 1, 100) \n",
    "y_range = np.linspace(-6, 6, 100) \n",
    "x_grid, y_grid = np.meshgrid(x_range, y_range) # x_grid and y_grig are of size 100 X 100\n",
    "\n",
    "# converting x_grid and y_grid to continuous arrays\n",
    "x_gridflat = np.ravel(x_grid)\n",
    "y_gridflat = np.ravel(y_grid)\n",
    "\n",
    "# The last layer of the current model takes two columns as input. Hence transpose of np.vstack() is required.\n",
    "X = np.vstack((x_gridflat, y_gridflat)).T\n",
    "\n",
    "prob_contour = model_prob(X).reshape(100,100) "
   ]
  },
  {
   "cell_type": "code",
   "execution_count": 29,
   "id": "da72499a",
   "metadata": {
    "execution": {
     "iopub.execute_input": "2022-08-12T00:42:13.599055Z",
     "iopub.status.busy": "2022-08-12T00:42:13.598515Z",
     "iopub.status.idle": "2022-08-12T00:42:13.830371Z",
     "shell.execute_reply": "2022-08-12T00:42:13.830808Z"
    },
    "papermill": {
     "duration": 0.28053,
     "end_time": "2022-08-12T00:42:13.830932",
     "exception": false,
     "start_time": "2022-08-12T00:42:13.550402",
     "status": "completed"
    },
    "tags": []
   },
   "outputs": [
    {
     "data": {
      "image/png": "[encoded data removed]",
      "text/plain": [
       "<Figure size 720x648 with 1 Axes>"
      ]
     },
     "metadata": {
      "needs_background": "light"
     },
     "output_type": "display_data"
    }
   ],
   "source": [
    "plt.figure(figsize=(10,9))\n",
    "plt.scatter(testing_plot[:,0], testing_plot[:,1], alpha = 0.1, c = y_test.ravel())\n",
    "contours = plt.contour(x_grid,y_grid,prob_contour)\n",
    "plt.title('Probability Contours')\n",
    "plt.clabel(contours, inline = True );"
   ]
  },
  {
   "cell_type": "code",
   "execution_count": null,
   "id": "e81b4ac7",
   "metadata": {
    "papermill": {
     "duration": 0.046957,
     "end_time": "2022-08-12T00:42:13.925344",
     "exception": false,
     "start_time": "2022-08-12T00:42:13.878387",
     "status": "completed"
    },
    "tags": []
   },
   "outputs": [],
   "source": []
  }
 ],
 "metadata": {
  "kernelspec": {
   "display_name": "Python 3",
   "language": "python",
   "name": "python3"
  },
  "language_info": {
   "codemirror_mode": {
    "name": "ipython",
    "version": 3
   },
   "file_extension": ".py",
   "mimetype": "text/x-python",
   "name": "python",
   "nbconvert_exporter": "python",
   "pygments_lexer": "ipython3",
   "version": "3.6.15"
  },
  "papermill": {
   "default_parameters": {},
   "duration": 194.257536,
   "end_time": "2022-08-12T00:42:14.290520",
   "environment_variables": {},
   "exception": null,
   "input_path": "2020-08-11-part2.ipynb",
   "output_path": "2020-08-11-part2.ipynb",
   "parameters": {},
   "start_time": "2022-08-12T00:39:00.032984",
   "version": "2.3.3"
  }
 },
 "nbformat": 4,
 "nbformat_minor": 5
}