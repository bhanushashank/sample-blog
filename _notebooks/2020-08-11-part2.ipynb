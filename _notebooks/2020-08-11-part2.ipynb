{
 "cells": [
  {
   "cell_type": "markdown",
   "id": "98380cd3",
   "metadata": {
    "papermill": {
     "duration": 0.034685,
     "end_time": "2022-09-01T20:11:37.291195",
     "exception": false,
     "start_time": "2022-09-01T20:11:37.256510",
     "status": "completed"
    },
    "tags": []
   },
   "source": [
    "# Distinguish Your Own Digits (DYOD)"
   ]
  },
  {
   "cell_type": "markdown",
   "id": "ef31240d",
   "metadata": {
    "papermill": {
     "duration": 0.025911,
     "end_time": "2022-09-01T20:11:37.344418",
     "exception": false,
     "start_time": "2022-09-01T20:11:37.318507",
     "status": "completed"
    },
    "tags": []
   },
   "source": [
    "You are going to write a classifier that distinguishes between the number 3 and number 8."
   ]
  },
  {
   "cell_type": "code",
   "execution_count": 1,
   "id": "b15c8646",
   "metadata": {
    "execution": {
     "iopub.execute_input": "2022-09-01T20:11:37.410463Z",
     "iopub.status.busy": "2022-09-01T20:11:37.409718Z",
     "iopub.status.idle": "2022-09-01T20:11:37.423388Z",
     "shell.execute_reply": "2022-09-01T20:11:37.422773Z"
    },
    "papermill": {
     "duration": 0.052162,
     "end_time": "2022-09-01T20:11:37.423547",
     "exception": false,
     "start_time": "2022-09-01T20:11:37.371385",
     "status": "completed"
    },
    "tags": []
   },
   "outputs": [],
   "source": [
    "%load_ext autoreload\n",
    "%autoreload 2"
   ]
  },
  {
   "cell_type": "code",
   "execution_count": 2,
   "id": "22ef38dc",
   "metadata": {
    "execution": {
     "iopub.execute_input": "2022-09-01T20:11:37.480995Z",
     "iopub.status.busy": "2022-09-01T20:11:37.480273Z",
     "iopub.status.idle": "2022-09-01T20:11:38.133386Z",
     "shell.execute_reply": "2022-09-01T20:11:38.132763Z"
    },
    "papermill": {
     "duration": 0.683921,
     "end_time": "2022-09-01T20:11:38.133548",
     "exception": false,
     "start_time": "2022-09-01T20:11:37.449627",
     "status": "completed"
    },
    "tags": []
   },
   "outputs": [],
   "source": [
    "%matplotlib inline\n",
    "import numpy as np\n",
    "import matplotlib.pyplot as plt\n",
    "import pandas as pd"
   ]
  },
  {
   "cell_type": "markdown",
   "id": "ba036198",
   "metadata": {
    "papermill": {
     "duration": 0.027274,
     "end_time": "2022-09-01T20:11:38.188926",
     "exception": false,
     "start_time": "2022-09-01T20:11:38.161652",
     "status": "completed"
    },
    "tags": []
   },
   "source": [
    "From the command line run `pip install mnist`. This is a library that will help you bring down the mnist dataset. If you run this from a notebook, you need to put  `!pip install mnist` in a cell by itself."
   ]
  },
  {
   "cell_type": "code",
   "execution_count": 3,
   "id": "bb6ad8a1",
   "metadata": {
    "execution": {
     "iopub.execute_input": "2022-09-01T20:11:38.249983Z",
     "iopub.status.busy": "2022-09-01T20:11:38.249323Z",
     "iopub.status.idle": "2022-09-01T20:11:40.770603Z",
     "shell.execute_reply": "2022-09-01T20:11:40.769903Z"
    },
    "papermill": {
     "duration": 2.555243,
     "end_time": "2022-09-01T20:11:40.770794",
     "exception": false,
     "start_time": "2022-09-01T20:11:38.215551",
     "status": "completed"
    },
    "tags": []
   },
   "outputs": [
    {
     "name": "stdout",
     "output_type": "stream",
     "text": [
      "Collecting mnist\r\n",
      "  Downloading mnist-0.2.2-py2.py3-none-any.whl (3.5 kB)\r\n"
     ]
    },
    {
     "name": "stdout",
     "output_type": "stream",
     "text": [
      "Requirement already satisfied: numpy in /opt/hostedtoolcache/Python/3.6.15/x64/lib/python3.6/site-packages (from mnist) (1.19.5)\r\n"
     ]
    },
    {
     "name": "stdout",
     "output_type": "stream",
     "text": [
      "Installing collected packages: mnist\r\n",
      "Successfully installed mnist-0.2.2\r\n"
     ]
    }
   ],
   "source": [
    "!pip install mnist"
   ]
  },
  {
   "cell_type": "markdown",
   "id": "69df9c9a",
   "metadata": {
    "papermill": {
     "duration": 0.028855,
     "end_time": "2022-09-01T20:11:40.827658",
     "exception": false,
     "start_time": "2022-09-01T20:11:40.798803",
     "status": "completed"
    },
    "tags": []
   },
   "source": [
    "## Preparing the Data"
   ]
  },
  {
   "cell_type": "code",
   "execution_count": 4,
   "id": "7f69d806",
   "metadata": {
    "execution": {
     "iopub.execute_input": "2022-09-01T20:11:40.898841Z",
     "iopub.status.busy": "2022-09-01T20:11:40.890510Z",
     "iopub.status.idle": "2022-09-01T20:11:40.911615Z",
     "shell.execute_reply": "2022-09-01T20:11:40.910891Z"
    },
    "papermill": {
     "duration": 0.05596,
     "end_time": "2022-09-01T20:11:40.911754",
     "exception": false,
     "start_time": "2022-09-01T20:11:40.855794",
     "status": "completed"
    },
    "tags": []
   },
   "outputs": [],
   "source": [
    "import mnist"
   ]
  },
  {
   "cell_type": "code",
   "execution_count": 5,
   "id": "a411e44f",
   "metadata": {
    "execution": {
     "iopub.execute_input": "2022-09-01T20:11:40.977268Z",
     "iopub.status.busy": "2022-09-01T20:11:40.972881Z",
     "iopub.status.idle": "2022-09-01T20:11:42.044976Z",
     "shell.execute_reply": "2022-09-01T20:11:42.045545Z"
    },
    "papermill": {
     "duration": 1.105407,
     "end_time": "2022-09-01T20:11:42.045744",
     "exception": false,
     "start_time": "2022-09-01T20:11:40.940337",
     "status": "completed"
    },
    "tags": []
   },
   "outputs": [],
   "source": [
    "train_images = mnist.train_images()\n",
    "train_labels = mnist.train_labels()"
   ]
  },
  {
   "cell_type": "code",
   "execution_count": 6,
   "id": "dceab3a5",
   "metadata": {
    "execution": {
     "iopub.execute_input": "2022-09-01T20:11:42.107417Z",
     "iopub.status.busy": "2022-09-01T20:11:42.106682Z",
     "iopub.status.idle": "2022-09-01T20:11:42.126633Z",
     "shell.execute_reply": "2022-09-01T20:11:42.125864Z"
    },
    "papermill": {
     "duration": 0.052332,
     "end_time": "2022-09-01T20:11:42.126819",
     "exception": false,
     "start_time": "2022-09-01T20:11:42.074487",
     "status": "completed"
    },
    "tags": []
   },
   "outputs": [
    {
     "data": {
      "text/plain": [
       "((60000, 28, 28), (60000,))"
      ]
     },
     "execution_count": 6,
     "metadata": {},
     "output_type": "execute_result"
    }
   ],
   "source": [
    "train_images.shape, train_labels.shape"
   ]
  },
  {
   "cell_type": "code",
   "execution_count": 7,
   "id": "f50dc2bb",
   "metadata": {
    "execution": {
     "iopub.execute_input": "2022-09-01T20:11:42.187108Z",
     "iopub.status.busy": "2022-09-01T20:11:42.186425Z",
     "iopub.status.idle": "2022-09-01T20:11:42.345639Z",
     "shell.execute_reply": "2022-09-01T20:11:42.345069Z"
    },
    "papermill": {
     "duration": 0.192619,
     "end_time": "2022-09-01T20:11:42.345788",
     "exception": false,
     "start_time": "2022-09-01T20:11:42.153169",
     "status": "completed"
    },
    "tags": []
   },
   "outputs": [],
   "source": [
    "test_images = mnist.test_images()\n",
    "test_labels = mnist.test_labels()"
   ]
  },
  {
   "cell_type": "code",
   "execution_count": 8,
   "id": "fc38cf1b",
   "metadata": {
    "execution": {
     "iopub.execute_input": "2022-09-01T20:11:42.405941Z",
     "iopub.status.busy": "2022-09-01T20:11:42.405279Z",
     "iopub.status.idle": "2022-09-01T20:11:42.420910Z",
     "shell.execute_reply": "2022-09-01T20:11:42.421448Z"
    },
    "papermill": {
     "duration": 0.04737,
     "end_time": "2022-09-01T20:11:42.421584",
     "exception": false,
     "start_time": "2022-09-01T20:11:42.374214",
     "status": "completed"
    },
    "tags": []
   },
   "outputs": [
    {
     "data": {
      "text/plain": [
       "((10000, 28, 28), (10000,))"
      ]
     },
     "execution_count": 8,
     "metadata": {},
     "output_type": "execute_result"
    }
   ],
   "source": [
    "test_images.shape, test_labels.shape"
   ]
  },
  {
   "cell_type": "code",
   "execution_count": 9,
   "id": "f9ed8fe0",
   "metadata": {
    "execution": {
     "iopub.execute_input": "2022-09-01T20:11:42.480208Z",
     "iopub.status.busy": "2022-09-01T20:11:42.479546Z",
     "iopub.status.idle": "2022-09-01T20:11:42.640648Z",
     "shell.execute_reply": "2022-09-01T20:11:42.640109Z"
    },
    "papermill": {
     "duration": 0.19236,
     "end_time": "2022-09-01T20:11:42.640810",
     "exception": false,
     "start_time": "2022-09-01T20:11:42.448450",
     "status": "completed"
    },
    "tags": []
   },
   "outputs": [
    {
     "name": "stdout",
     "output_type": "stream",
     "text": [
      "2\n"
     ]
    },
    {
     "data": {
      "text/plain": [
       "<matplotlib.image.AxesImage at 0x7f48253b1eb8>"
      ]
     },
     "execution_count": 9,
     "metadata": {},
     "output_type": "execute_result"
    },
    {
     "data": {
      "image/png": "[encoded data removed]",
      "text/plain": [
       "<Figure size 432x288 with 1 Axes>"
      ]
     },
     "metadata": {
      "needs_background": "light"
     },
     "output_type": "display_data"
    }
   ],
   "source": [
    "image_index = 7776 # You may select anything up to 60,000\n",
    "print(train_labels[image_index]) \n",
    "plt.imshow(train_images[image_index], cmap='Greys')"
   ]
  },
  {
   "cell_type": "markdown",
   "id": "a8d2388d",
   "metadata": {
    "papermill": {
     "duration": 0.028899,
     "end_time": "2022-09-01T20:11:42.697989",
     "exception": false,
     "start_time": "2022-09-01T20:11:42.669090",
     "status": "completed"
    },
    "tags": []
   },
   "source": [
    "## Filter data to get 3 and 8 out"
   ]
  },
  {
   "cell_type": "code",
   "execution_count": 10,
   "id": "776f7fc7",
   "metadata": {
    "execution": {
     "iopub.execute_input": "2022-09-01T20:11:42.763735Z",
     "iopub.status.busy": "2022-09-01T20:11:42.762318Z",
     "iopub.status.idle": "2022-09-01T20:11:42.789168Z",
     "shell.execute_reply": "2022-09-01T20:11:42.788357Z"
    },
    "papermill": {
     "duration": 0.062446,
     "end_time": "2022-09-01T20:11:42.789357",
     "exception": false,
     "start_time": "2022-09-01T20:11:42.726911",
     "status": "completed"
    },
    "tags": []
   },
   "outputs": [],
   "source": [
    "train_filter = np.where((train_labels == 3 ) | (train_labels == 8))\n",
    "test_filter = np.where((test_labels == 3) | (test_labels == 8))\n",
    "X_train, y_train = train_images[train_filter], train_labels[train_filter]\n",
    "X_test, y_test = test_images[test_filter], test_labels[test_filter]"
   ]
  },
  {
   "cell_type": "markdown",
   "id": "948f0b7e",
   "metadata": {
    "papermill": {
     "duration": 0.027558,
     "end_time": "2022-09-01T20:11:42.845789",
     "exception": false,
     "start_time": "2022-09-01T20:11:42.818231",
     "status": "completed"
    },
    "tags": []
   },
   "source": [
    "We normalize the pizel values in the 0 to 1 range"
   ]
  },
  {
   "cell_type": "code",
   "execution_count": 11,
   "id": "ee4c2166",
   "metadata": {
    "execution": {
     "iopub.execute_input": "2022-09-01T20:11:42.908181Z",
     "iopub.status.busy": "2022-09-01T20:11:42.907531Z",
     "iopub.status.idle": "2022-09-01T20:11:42.983316Z",
     "shell.execute_reply": "2022-09-01T20:11:42.984107Z"
    },
    "papermill": {
     "duration": 0.110688,
     "end_time": "2022-09-01T20:11:42.984358",
     "exception": false,
     "start_time": "2022-09-01T20:11:42.873670",
     "status": "completed"
    },
    "tags": []
   },
   "outputs": [],
   "source": [
    "X_train = X_train/255.\n",
    "X_test = X_test/255."
   ]
  },
  {
   "cell_type": "markdown",
   "id": "ddcf4fab",
   "metadata": {
    "papermill": {
     "duration": 0.027963,
     "end_time": "2022-09-01T20:11:43.042493",
     "exception": false,
     "start_time": "2022-09-01T20:11:43.014530",
     "status": "completed"
    },
    "tags": []
   },
   "source": [
    "And setup the labels as 1 (when the digit is 3) and 0 (when the digit is 8)"
   ]
  },
  {
   "cell_type": "code",
   "execution_count": 12,
   "id": "7dc908f2",
   "metadata": {
    "execution": {
     "iopub.execute_input": "2022-09-01T20:11:43.103903Z",
     "iopub.status.busy": "2022-09-01T20:11:43.103231Z",
     "iopub.status.idle": "2022-09-01T20:11:43.120014Z",
     "shell.execute_reply": "2022-09-01T20:11:43.120541Z"
    },
    "papermill": {
     "duration": 0.050067,
     "end_time": "2022-09-01T20:11:43.120700",
     "exception": false,
     "start_time": "2022-09-01T20:11:43.070633",
     "status": "completed"
    },
    "tags": []
   },
   "outputs": [],
   "source": [
    "y_train = 1*(y_train==3)\n",
    "y_test = 1*(y_test==3)"
   ]
  },
  {
   "cell_type": "code",
   "execution_count": 13,
   "id": "01e4e969",
   "metadata": {
    "execution": {
     "iopub.execute_input": "2022-09-01T20:11:43.184786Z",
     "iopub.status.busy": "2022-09-01T20:11:43.184155Z",
     "iopub.status.idle": "2022-09-01T20:11:43.198955Z",
     "shell.execute_reply": "2022-09-01T20:11:43.199573Z"
    },
    "papermill": {
     "duration": 0.053323,
     "end_time": "2022-09-01T20:11:43.199740",
     "exception": false,
     "start_time": "2022-09-01T20:11:43.146417",
     "status": "completed"
    },
    "tags": []
   },
   "outputs": [
    {
     "data": {
      "text/plain": [
       "((11982, 28, 28), (1984, 28, 28))"
      ]
     },
     "execution_count": 13,
     "metadata": {},
     "output_type": "execute_result"
    }
   ],
   "source": [
    "X_train.shape, X_test.shape"
   ]
  },
  {
   "cell_type": "markdown",
   "id": "5ccf3f85",
   "metadata": {
    "papermill": {
     "duration": 0.028312,
     "end_time": "2022-09-01T20:11:43.255832",
     "exception": false,
     "start_time": "2022-09-01T20:11:43.227520",
     "status": "completed"
    },
    "tags": []
   },
   "source": [
    "We reshape the data to flatten the image pixels into a set of features or co-variates:"
   ]
  },
  {
   "cell_type": "code",
   "execution_count": 14,
   "id": "5286a4a3",
   "metadata": {
    "execution": {
     "iopub.execute_input": "2022-09-01T20:11:43.317145Z",
     "iopub.status.busy": "2022-09-01T20:11:43.316439Z",
     "iopub.status.idle": "2022-09-01T20:11:43.333768Z",
     "shell.execute_reply": "2022-09-01T20:11:43.333091Z"
    },
    "papermill": {
     "duration": 0.050662,
     "end_time": "2022-09-01T20:11:43.333895",
     "exception": false,
     "start_time": "2022-09-01T20:11:43.283233",
     "status": "completed"
    },
    "tags": []
   },
   "outputs": [
    {
     "data": {
      "text/plain": [
       "((11982, 784), (1984, 784))"
      ]
     },
     "execution_count": 14,
     "metadata": {},
     "output_type": "execute_result"
    }
   ],
   "source": [
    "X_train = X_train.reshape(X_train.shape[0], -1)\n",
    "X_test = X_test.reshape(X_test.shape[0], -1)\n",
    "X_train.shape, X_test.shape"
   ]
  },
  {
   "cell_type": "code",
   "execution_count": 15,
   "id": "73c5f88a",
   "metadata": {
    "execution": {
     "iopub.execute_input": "2022-09-01T20:11:43.396077Z",
     "iopub.status.busy": "2022-09-01T20:11:43.395356Z",
     "iopub.status.idle": "2022-09-01T20:11:43.419226Z",
     "shell.execute_reply": "2022-09-01T20:11:43.418482Z"
    },
    "papermill": {
     "duration": 0.058555,
     "end_time": "2022-09-01T20:11:43.419392",
     "exception": false,
     "start_time": "2022-09-01T20:11:43.360837",
     "status": "completed"
    },
    "tags": []
   },
   "outputs": [],
   "source": [
    "#Impoting functions from 'Kudzu'\n",
    "from kudzu.model import Model\n",
    "from kudzu.train import Learner\n",
    "from kudzu.optim import GD\n",
    "from kudzu.data import Data, Sampler,Dataloader\n",
    "\n",
    "from kudzu.callbacks import AccCallback\n",
    "from kudzu.callbacks import ClfCallback\n",
    "\n",
    "from kudzu.loss import MSE\n",
    "\n",
    "from kudzu.layer import Sigmoid,Relu\n",
    "from kudzu.layer import Affine"
   ]
  },
  {
   "cell_type": "markdown",
   "id": "bc01172a",
   "metadata": {
    "papermill": {
     "duration": 0.029243,
     "end_time": "2022-09-01T20:11:43.477519",
     "exception": false,
     "start_time": "2022-09-01T20:11:43.448276",
     "status": "completed"
    },
    "tags": []
   },
   "source": [
    "### Let us create a `Config` class, to store important parameters. \n",
    "This class essentially plays the role of a dictionary."
   ]
  },
  {
   "cell_type": "code",
   "execution_count": 16,
   "id": "978281aa",
   "metadata": {
    "execution": {
     "iopub.execute_input": "2022-09-01T20:11:43.544557Z",
     "iopub.status.busy": "2022-09-01T20:11:43.543807Z",
     "iopub.status.idle": "2022-09-01T20:11:43.554341Z",
     "shell.execute_reply": "2022-09-01T20:11:43.554905Z"
    },
    "papermill": {
     "duration": 0.050755,
     "end_time": "2022-09-01T20:11:43.555070",
     "exception": false,
     "start_time": "2022-09-01T20:11:43.504315",
     "status": "completed"
    },
    "tags": []
   },
   "outputs": [],
   "source": [
    "class Config:\n",
    "    pass\n",
    "config = Config()\n",
    "config.lr = 0.001\n",
    "config.num_epochs = 250\n",
    "config.bs = 50"
   ]
  },
  {
   "cell_type": "markdown",
   "id": "1385fa59",
   "metadata": {
    "papermill": {
     "duration": 0.026884,
     "end_time": "2022-09-01T20:11:43.607542",
     "exception": false,
     "start_time": "2022-09-01T20:11:43.580658",
     "status": "completed"
    },
    "tags": []
   },
   "source": [
    "### Running Models with the Training data\n",
    "Details about the network layers:\n",
    "- A first affine layer has 784 inputs and does 100 affine transforms. These are followed by a Relu\n",
    "- A second affine layer has 100 inputs from the 100 activations of the past layer, and does 100 affine transforms. These are followed by a Relu\n",
    "- A third affine layer has 100 activations and does 2 affine transformations to create an embedding for visualization. There is no non-linearity here.\n",
    "- A final \"logistic regression\" which has an affine transform from 2 inputs to 1 output, which is squeezed through a sigmoid.\n"
   ]
  },
  {
   "cell_type": "code",
   "execution_count": 17,
   "id": "2b9c66db",
   "metadata": {
    "execution": {
     "iopub.execute_input": "2022-09-01T20:11:43.668394Z",
     "iopub.status.busy": "2022-09-01T20:11:43.667740Z",
     "iopub.status.idle": "2022-09-01T20:11:43.682225Z",
     "shell.execute_reply": "2022-09-01T20:11:43.681695Z"
    },
    "papermill": {
     "duration": 0.048963,
     "end_time": "2022-09-01T20:11:43.682349",
     "exception": false,
     "start_time": "2022-09-01T20:11:43.633386",
     "status": "completed"
    },
    "tags": []
   },
   "outputs": [],
   "source": [
    "data = Data(X_train, y_train.reshape(-1,1))\n",
    "sampler = Sampler(data, config.bs, shuffle=True)\n",
    "\n",
    "dl = Dataloader(data, sampler)\n",
    "\n",
    "opt = GD(config.lr)\n",
    "loss = MSE()"
   ]
  },
  {
   "cell_type": "code",
   "execution_count": 18,
   "id": "b275e4c2",
   "metadata": {
    "execution": {
     "iopub.execute_input": "2022-09-01T20:11:43.742801Z",
     "iopub.status.busy": "2022-09-01T20:11:43.742090Z",
     "iopub.status.idle": "2022-09-01T20:11:43.758878Z",
     "shell.execute_reply": "2022-09-01T20:11:43.759406Z"
    },
    "papermill": {
     "duration": 0.049598,
     "end_time": "2022-09-01T20:11:43.759537",
     "exception": false,
     "start_time": "2022-09-01T20:11:43.709939",
     "status": "completed"
    },
    "tags": []
   },
   "outputs": [],
   "source": [
    "training_data_x = X_train\n",
    "testing_data_x = X_test\n",
    "training_data_y = y_train.reshape(-1,1)\n",
    "testing_data_y = y_test.reshape(-1,1)"
   ]
  },
  {
   "cell_type": "code",
   "execution_count": 19,
   "id": "76951160",
   "metadata": {
    "execution": {
     "iopub.execute_input": "2022-09-01T20:11:43.820336Z",
     "iopub.status.busy": "2022-09-01T20:11:43.819662Z",
     "iopub.status.idle": "2022-09-01T20:11:43.839169Z",
     "shell.execute_reply": "2022-09-01T20:11:43.838563Z"
    },
    "papermill": {
     "duration": 0.052552,
     "end_time": "2022-09-01T20:11:43.839323",
     "exception": false,
     "start_time": "2022-09-01T20:11:43.786771",
     "status": "completed"
    },
    "tags": []
   },
   "outputs": [
    {
     "name": "stdout",
     "output_type": "stream",
     "text": [
      "xavier\n",
      "xavier\n",
      "xavier\n",
      "xavier\n",
      "xavier\n"
     ]
    }
   ],
   "source": [
    "layers = [Affine(\"first\", 784, 100), Relu(\"first\"), Affine(\"second\", 100, 100), Relu(\"second\"), Affine(\"third\", 100, 2), Affine(\"last\", 2, 1), Sigmoid(\"last\")]\n",
    "model_nn = Model(layers)\n",
    "model_lr = Model([Affine(\"logits\", 784, 1), Sigmoid(\"sigmoid\")])"
   ]
  },
  {
   "cell_type": "code",
   "execution_count": 20,
   "id": "6eede77a",
   "metadata": {
    "execution": {
     "iopub.execute_input": "2022-09-01T20:11:43.902236Z",
     "iopub.status.busy": "2022-09-01T20:11:43.901554Z",
     "iopub.status.idle": "2022-09-01T20:11:43.915551Z",
     "shell.execute_reply": "2022-09-01T20:11:43.914872Z"
    },
    "papermill": {
     "duration": 0.047447,
     "end_time": "2022-09-01T20:11:43.915686",
     "exception": false,
     "start_time": "2022-09-01T20:11:43.868239",
     "status": "completed"
    },
    "tags": []
   },
   "outputs": [],
   "source": [
    "nn_learner = Learner(loss, model_nn, opt, config.num_epochs)\n",
    "acc_nn = ClfCallback(nn_learner, config.bs, training_data_x , testing_data_x, training_data_y, testing_data_y)\n",
    "nn_learner.set_callbacks([acc_nn])"
   ]
  },
  {
   "cell_type": "code",
   "execution_count": 21,
   "id": "877b6cc7",
   "metadata": {
    "execution": {
     "iopub.execute_input": "2022-09-01T20:11:43.977248Z",
     "iopub.status.busy": "2022-09-01T20:11:43.976574Z",
     "iopub.status.idle": "2022-09-01T20:11:43.992329Z",
     "shell.execute_reply": "2022-09-01T20:11:43.991744Z"
    },
    "papermill": {
     "duration": 0.048361,
     "end_time": "2022-09-01T20:11:43.992448",
     "exception": false,
     "start_time": "2022-09-01T20:11:43.944087",
     "status": "completed"
    },
    "tags": []
   },
   "outputs": [],
   "source": [
    "lr_learner = Learner(loss, model_lr, opt, config.num_epochs)\n",
    "acc_lr = ClfCallback(lr_learner, config.bs, training_data_x , testing_data_x, training_data_y, testing_data_y)\n",
    "lr_learner.set_callbacks([acc_lr])"
   ]
  },
  {
   "cell_type": "code",
   "execution_count": 22,
   "id": "d9b133c3",
   "metadata": {
    "execution": {
     "iopub.execute_input": "2022-09-01T20:11:44.053637Z",
     "iopub.status.busy": "2022-09-01T20:11:44.052951Z",
     "iopub.status.idle": "2022-09-01T20:13:20.336475Z",
     "shell.execute_reply": "2022-09-01T20:13:20.337235Z"
    },
    "papermill": {
     "duration": 96.316834,
     "end_time": "2022-09-01T20:13:20.337430",
     "exception": false,
     "start_time": "2022-09-01T20:11:44.020596",
     "status": "completed"
    },
    "tags": []
   },
   "outputs": [
    {
     "name": "stdout",
     "output_type": "stream",
     "text": [
      "Epoch 0, Loss 0.2331\n",
      "Training Accuracy: 0.7598, Testing Accuracy: 0.7455\n",
      "\n"
     ]
    },
    {
     "name": "stdout",
     "output_type": "stream",
     "text": [
      "Epoch 10, Loss 0.0937\n",
      "Training Accuracy: 0.9100, Testing Accuracy: 0.9183\n",
      "\n"
     ]
    },
    {
     "name": "stdout",
     "output_type": "stream",
     "text": [
      "Epoch 20, Loss 0.058\n",
      "Training Accuracy: 0.9393, Testing Accuracy: 0.9496\n",
      "\n"
     ]
    },
    {
     "name": "stdout",
     "output_type": "stream",
     "text": [
      "Epoch 30, Loss 0.0452\n",
      "Training Accuracy: 0.9517, Testing Accuracy: 0.9577\n",
      "\n"
     ]
    },
    {
     "name": "stdout",
     "output_type": "stream",
     "text": [
      "Epoch 40, Loss 0.0388\n",
      "Training Accuracy: 0.9571, Testing Accuracy: 0.9642\n",
      "\n"
     ]
    },
    {
     "name": "stdout",
     "output_type": "stream",
     "text": [
      "Epoch 50, Loss 0.035\n",
      "Training Accuracy: 0.9607, Testing Accuracy: 0.9682\n",
      "\n"
     ]
    },
    {
     "name": "stdout",
     "output_type": "stream",
     "text": [
      "Epoch 60, Loss 0.0323\n",
      "Training Accuracy: 0.9625, Testing Accuracy: 0.9713\n",
      "\n"
     ]
    },
    {
     "name": "stdout",
     "output_type": "stream",
     "text": [
      "Epoch 70, Loss 0.0304\n",
      "Training Accuracy: 0.9638, Testing Accuracy: 0.9713\n",
      "\n"
     ]
    },
    {
     "name": "stdout",
     "output_type": "stream",
     "text": [
      "Epoch 80, Loss 0.0288\n",
      "Training Accuracy: 0.9661, Testing Accuracy: 0.9728\n",
      "\n"
     ]
    },
    {
     "name": "stdout",
     "output_type": "stream",
     "text": [
      "Epoch 90, Loss 0.0275\n",
      "Training Accuracy: 0.9673, Testing Accuracy: 0.9728\n",
      "\n"
     ]
    },
    {
     "name": "stdout",
     "output_type": "stream",
     "text": [
      "Epoch 100, Loss 0.0264\n",
      "Training Accuracy: 0.9688, Testing Accuracy: 0.9738\n",
      "\n"
     ]
    },
    {
     "name": "stdout",
     "output_type": "stream",
     "text": [
      "Epoch 110, Loss 0.0255\n",
      "Training Accuracy: 0.9698, Testing Accuracy: 0.9748\n",
      "\n"
     ]
    },
    {
     "name": "stdout",
     "output_type": "stream",
     "text": [
      "Epoch 120, Loss 0.0247\n",
      "Training Accuracy: 0.9710, Testing Accuracy: 0.9743\n",
      "\n"
     ]
    },
    {
     "name": "stdout",
     "output_type": "stream",
     "text": [
      "Epoch 130, Loss 0.0239\n",
      "Training Accuracy: 0.9718, Testing Accuracy: 0.9758\n",
      "\n"
     ]
    },
    {
     "name": "stdout",
     "output_type": "stream",
     "text": [
      "Epoch 140, Loss 0.0232\n",
      "Training Accuracy: 0.9730, Testing Accuracy: 0.9758\n",
      "\n"
     ]
    },
    {
     "name": "stdout",
     "output_type": "stream",
     "text": [
      "Epoch 150, Loss 0.0226\n",
      "Training Accuracy: 0.9736, Testing Accuracy: 0.9763\n",
      "\n"
     ]
    },
    {
     "name": "stdout",
     "output_type": "stream",
     "text": [
      "Epoch 160, Loss 0.022\n",
      "Training Accuracy: 0.9744, Testing Accuracy: 0.9768\n",
      "\n"
     ]
    },
    {
     "name": "stdout",
     "output_type": "stream",
     "text": [
      "Epoch 170, Loss 0.0215\n",
      "Training Accuracy: 0.9749, Testing Accuracy: 0.9758\n",
      "\n"
     ]
    },
    {
     "name": "stdout",
     "output_type": "stream",
     "text": [
      "Epoch 180, Loss 0.021\n",
      "Training Accuracy: 0.9760, Testing Accuracy: 0.9758\n",
      "\n"
     ]
    },
    {
     "name": "stdout",
     "output_type": "stream",
     "text": [
      "Epoch 190, Loss 0.0205\n",
      "Training Accuracy: 0.9762, Testing Accuracy: 0.9768\n",
      "\n"
     ]
    },
    {
     "name": "stdout",
     "output_type": "stream",
     "text": [
      "Epoch 200, Loss 0.02\n",
      "Training Accuracy: 0.9771, Testing Accuracy: 0.9773\n",
      "\n"
     ]
    },
    {
     "name": "stdout",
     "output_type": "stream",
     "text": [
      "Epoch 210, Loss 0.0196\n",
      "Training Accuracy: 0.9776, Testing Accuracy: 0.9768\n",
      "\n"
     ]
    },
    {
     "name": "stdout",
     "output_type": "stream",
     "text": [
      "Epoch 220, Loss 0.0192\n",
      "Training Accuracy: 0.9778, Testing Accuracy: 0.9768\n",
      "\n"
     ]
    },
    {
     "name": "stdout",
     "output_type": "stream",
     "text": [
      "Epoch 230, Loss 0.0188\n",
      "Training Accuracy: 0.9784, Testing Accuracy: 0.9768\n",
      "\n"
     ]
    },
    {
     "name": "stdout",
     "output_type": "stream",
     "text": [
      "Epoch 240, Loss 0.0185\n",
      "Training Accuracy: 0.9787, Testing Accuracy: 0.9768\n",
      "\n"
     ]
    },
    {
     "data": {
      "text/plain": [
       "0.0037264450014093302"
      ]
     },
     "execution_count": 22,
     "metadata": {},
     "output_type": "execute_result"
    }
   ],
   "source": [
    "nn_learner.train_loop(dl)"
   ]
  },
  {
   "cell_type": "code",
   "execution_count": 23,
   "id": "e0163366",
   "metadata": {
    "execution": {
     "iopub.execute_input": "2022-09-01T20:13:20.425232Z",
     "iopub.status.busy": "2022-09-01T20:13:20.424432Z",
     "iopub.status.idle": "2022-09-01T20:13:38.159460Z",
     "shell.execute_reply": "2022-09-01T20:13:38.159899Z"
    },
    "papermill": {
     "duration": 17.783175,
     "end_time": "2022-09-01T20:13:38.160076",
     "exception": false,
     "start_time": "2022-09-01T20:13:20.376901",
     "status": "completed"
    },
    "tags": []
   },
   "outputs": [
    {
     "name": "stdout",
     "output_type": "stream",
     "text": [
      "Epoch 0, Loss 0.2267\n",
      "Training Accuracy: 0.7570, Testing Accuracy: 0.7722\n",
      "\n"
     ]
    },
    {
     "name": "stdout",
     "output_type": "stream",
     "text": [
      "Epoch 10, Loss 0.1001\n",
      "Training Accuracy: 0.9089, Testing Accuracy: 0.9178\n",
      "\n"
     ]
    },
    {
     "name": "stdout",
     "output_type": "stream",
     "text": [
      "Epoch 20, Loss 0.0784\n",
      "Training Accuracy: 0.9260, Testing Accuracy: 0.9390\n",
      "\n"
     ]
    },
    {
     "name": "stdout",
     "output_type": "stream",
     "text": [
      "Epoch 30, Loss 0.068\n",
      "Training Accuracy: 0.9348, Testing Accuracy: 0.9471\n",
      "\n"
     ]
    },
    {
     "name": "stdout",
     "output_type": "stream",
     "text": [
      "Epoch 40, Loss 0.0616\n",
      "Training Accuracy: 0.9403, Testing Accuracy: 0.9526\n",
      "\n"
     ]
    },
    {
     "name": "stdout",
     "output_type": "stream",
     "text": [
      "Epoch 50, Loss 0.0573\n",
      "Training Accuracy: 0.9429, Testing Accuracy: 0.9536\n",
      "\n"
     ]
    },
    {
     "name": "stdout",
     "output_type": "stream",
     "text": [
      "Epoch 60, Loss 0.054\n",
      "Training Accuracy: 0.9457, Testing Accuracy: 0.9582\n",
      "\n"
     ]
    },
    {
     "name": "stdout",
     "output_type": "stream",
     "text": [
      "Epoch 70, Loss 0.0515\n",
      "Training Accuracy: 0.9466, Testing Accuracy: 0.9582\n",
      "\n"
     ]
    },
    {
     "name": "stdout",
     "output_type": "stream",
     "text": [
      "Epoch 80, Loss 0.0494\n",
      "Training Accuracy: 0.9493, Testing Accuracy: 0.9592\n",
      "\n"
     ]
    },
    {
     "name": "stdout",
     "output_type": "stream",
     "text": [
      "Epoch 90, Loss 0.0477\n",
      "Training Accuracy: 0.9508, Testing Accuracy: 0.9612\n",
      "\n"
     ]
    },
    {
     "name": "stdout",
     "output_type": "stream",
     "text": [
      "Epoch 100, Loss 0.0463\n",
      "Training Accuracy: 0.9524, Testing Accuracy: 0.9612\n",
      "\n"
     ]
    },
    {
     "name": "stdout",
     "output_type": "stream",
     "text": [
      "Epoch 110, Loss 0.0451\n",
      "Training Accuracy: 0.9536, Testing Accuracy: 0.9627\n",
      "\n"
     ]
    },
    {
     "name": "stdout",
     "output_type": "stream",
     "text": [
      "Epoch 120, Loss 0.044\n",
      "Training Accuracy: 0.9543, Testing Accuracy: 0.9627\n",
      "\n"
     ]
    },
    {
     "name": "stdout",
     "output_type": "stream",
     "text": [
      "Epoch 130, Loss 0.0431\n",
      "Training Accuracy: 0.9554, Testing Accuracy: 0.9642\n",
      "\n"
     ]
    },
    {
     "name": "stdout",
     "output_type": "stream",
     "text": [
      "Epoch 140, Loss 0.0423\n",
      "Training Accuracy: 0.9560, Testing Accuracy: 0.9642\n",
      "\n"
     ]
    },
    {
     "name": "stdout",
     "output_type": "stream",
     "text": [
      "Epoch 150, Loss 0.0415\n",
      "Training Accuracy: 0.9565, Testing Accuracy: 0.9642\n",
      "\n"
     ]
    },
    {
     "name": "stdout",
     "output_type": "stream",
     "text": [
      "Epoch 160, Loss 0.0408\n",
      "Training Accuracy: 0.9570, Testing Accuracy: 0.9647\n",
      "\n"
     ]
    },
    {
     "name": "stdout",
     "output_type": "stream",
     "text": [
      "Epoch 170, Loss 0.0402\n",
      "Training Accuracy: 0.9578, Testing Accuracy: 0.9647\n",
      "\n"
     ]
    },
    {
     "name": "stdout",
     "output_type": "stream",
     "text": [
      "Epoch 180, Loss 0.0396\n",
      "Training Accuracy: 0.9581, Testing Accuracy: 0.9647\n",
      "\n"
     ]
    },
    {
     "name": "stdout",
     "output_type": "stream",
     "text": [
      "Epoch 190, Loss 0.0391\n",
      "Training Accuracy: 0.9589, Testing Accuracy: 0.9652\n",
      "\n"
     ]
    },
    {
     "name": "stdout",
     "output_type": "stream",
     "text": [
      "Epoch 200, Loss 0.0386\n",
      "Training Accuracy: 0.9592, Testing Accuracy: 0.9657\n",
      "\n"
     ]
    },
    {
     "name": "stdout",
     "output_type": "stream",
     "text": [
      "Epoch 210, Loss 0.0382\n",
      "Training Accuracy: 0.9599, Testing Accuracy: 0.9657\n",
      "\n"
     ]
    },
    {
     "name": "stdout",
     "output_type": "stream",
     "text": [
      "Epoch 220, Loss 0.0378\n",
      "Training Accuracy: 0.9601, Testing Accuracy: 0.9657\n",
      "\n"
     ]
    },
    {
     "name": "stdout",
     "output_type": "stream",
     "text": [
      "Epoch 230, Loss 0.0374\n",
      "Training Accuracy: 0.9603, Testing Accuracy: 0.9652\n",
      "\n"
     ]
    },
    {
     "name": "stdout",
     "output_type": "stream",
     "text": [
      "Epoch 240, Loss 0.037\n",
      "Training Accuracy: 0.9606, Testing Accuracy: 0.9657\n",
      "\n"
     ]
    },
    {
     "data": {
      "text/plain": [
       "0.03536569427478756"
      ]
     },
     "execution_count": 23,
     "metadata": {},
     "output_type": "execute_result"
    }
   ],
   "source": [
    "lr_learner.train_loop(dl)"
   ]
  },
  {
   "cell_type": "code",
   "execution_count": 24,
   "id": "ca410940",
   "metadata": {
    "execution": {
     "iopub.execute_input": "2022-09-01T20:13:38.257847Z",
     "iopub.status.busy": "2022-09-01T20:13:38.257033Z",
     "iopub.status.idle": "2022-09-01T20:13:38.518456Z",
     "shell.execute_reply": "2022-09-01T20:13:38.517878Z"
    },
    "papermill": {
     "duration": 0.312471,
     "end_time": "2022-09-01T20:13:38.518606",
     "exception": false,
     "start_time": "2022-09-01T20:13:38.206135",
     "status": "completed"
    },
    "tags": []
   },
   "outputs": [
    {
     "data": {
      "text/plain": [
       "<matplotlib.legend.Legend at 0x7f4824f21e80>"
      ]
     },
     "execution_count": 24,
     "metadata": {},
     "output_type": "execute_result"
    },
    {
     "data": {
      "image/png": "[encoded data removed]",
      "text/plain": [
       "<Figure size 1080x720 with 1 Axes>"
      ]
     },
     "metadata": {
      "needs_background": "light"
     },
     "output_type": "display_data"
    }
   ],
   "source": [
    "#comparing the results of NN and LR\n",
    "plt.figure(figsize=(15,10))\n",
    "\n",
    "# Neural Network plots\n",
    "plt.plot(acc_nn.accuracies, 'r-', label = \"Training Accuracies - NN\")\n",
    "plt.plot(acc_nn.test_accuracies, 'g-', label = \"Testing Accuracies - NN\")\n",
    "\n",
    "# Logistic Regression plots\n",
    "plt.plot(acc_lr.accuracies, 'k-', label = \"Training Accuracies - LR\")\n",
    "plt.plot(acc_lr.test_accuracies, 'b-', label = \"Testing Accuracies - LR\")\n",
    "plt.legend()"
   ]
  },
  {
   "cell_type": "markdown",
   "id": "80dfb35c",
   "metadata": {
    "papermill": {
     "duration": 0.043516,
     "end_time": "2022-09-01T20:13:38.609561",
     "exception": false,
     "start_time": "2022-09-01T20:13:38.566045",
     "status": "completed"
    },
    "tags": []
   },
   "source": [
    "#### Plotting the outputs of this layer of the NN.\n"
   ]
  },
  {
   "cell_type": "code",
   "execution_count": 25,
   "id": "45eb2ff5",
   "metadata": {
    "execution": {
     "iopub.execute_input": "2022-09-01T20:13:38.707144Z",
     "iopub.status.busy": "2022-09-01T20:13:38.706411Z",
     "iopub.status.idle": "2022-09-01T20:13:38.731750Z",
     "shell.execute_reply": "2022-09-01T20:13:38.732319Z"
    },
    "papermill": {
     "duration": 0.078518,
     "end_time": "2022-09-01T20:13:38.732496",
     "exception": false,
     "start_time": "2022-09-01T20:13:38.653978",
     "status": "completed"
    },
    "tags": []
   },
   "outputs": [],
   "source": [
    "new_model = Model(layers[:-2])\n",
    "testing_plot = new_model(testing_data_x)"
   ]
  },
  {
   "cell_type": "code",
   "execution_count": 26,
   "id": "4c0a5485",
   "metadata": {
    "execution": {
     "iopub.execute_input": "2022-09-01T20:13:38.833313Z",
     "iopub.status.busy": "2022-09-01T20:13:38.832624Z",
     "iopub.status.idle": "2022-09-01T20:13:39.049913Z",
     "shell.execute_reply": "2022-09-01T20:13:39.049401Z"
    },
    "papermill": {
     "duration": 0.26926,
     "end_time": "2022-09-01T20:13:39.050062",
     "exception": false,
     "start_time": "2022-09-01T20:13:38.780802",
     "status": "completed"
    },
    "tags": []
   },
   "outputs": [
    {
     "data": {
      "text/plain": [
       "Text(0.5, 1.0, 'Outputs')"
      ]
     },
     "execution_count": 26,
     "metadata": {},
     "output_type": "execute_result"
    },
    {
     "data": {
      "image/png": "[encoded data removed]",
      "text/plain": [
       "<Figure size 576x504 with 1 Axes>"
      ]
     },
     "metadata": {
      "needs_background": "light"
     },
     "output_type": "display_data"
    }
   ],
   "source": [
    "# Plotting the scatter plot of points and color coding by class\n",
    "plt.figure(figsize=(8,7))\n",
    "plt.scatter(testing_plot[:,0], testing_plot[:,1], alpha = 0.1, c = y_test.ravel());\n",
    "plt.title('Outputs')"
   ]
  },
  {
   "cell_type": "markdown",
   "id": "a74fcf8f",
   "metadata": {
    "papermill": {
     "duration": 0.049909,
     "end_time": "2022-09-01T20:13:39.148778",
     "exception": false,
     "start_time": "2022-09-01T20:13:39.098869",
     "status": "completed"
    },
    "tags": []
   },
   "source": [
    "Probability contours"
   ]
  },
  {
   "cell_type": "code",
   "execution_count": 27,
   "id": "d0afc8e3",
   "metadata": {
    "execution": {
     "iopub.execute_input": "2022-09-01T20:13:39.253582Z",
     "iopub.status.busy": "2022-09-01T20:13:39.252836Z",
     "iopub.status.idle": "2022-09-01T20:13:39.268598Z",
     "shell.execute_reply": "2022-09-01T20:13:39.267974Z"
    },
    "papermill": {
     "duration": 0.070455,
     "end_time": "2022-09-01T20:13:39.268739",
     "exception": false,
     "start_time": "2022-09-01T20:13:39.198284",
     "status": "completed"
    },
    "tags": []
   },
   "outputs": [],
   "source": [
    "model_prob = Model(layers[-2:]) "
   ]
  },
  {
   "cell_type": "code",
   "execution_count": 28,
   "id": "9b96e238",
   "metadata": {
    "execution": {
     "iopub.execute_input": "2022-09-01T20:13:39.414580Z",
     "iopub.status.busy": "2022-09-01T20:13:39.413855Z",
     "iopub.status.idle": "2022-09-01T20:13:39.431070Z",
     "shell.execute_reply": "2022-09-01T20:13:39.431551Z"
    },
    "papermill": {
     "duration": 0.114744,
     "end_time": "2022-09-01T20:13:39.431737",
     "exception": false,
     "start_time": "2022-09-01T20:13:39.316993",
     "status": "completed"
    },
    "tags": []
   },
   "outputs": [],
   "source": [
    "#creating the x and y ranges according to the above generated plot.\n",
    "x_range = np.linspace(-4, 1, 100) \n",
    "y_range = np.linspace(-6, 6, 100) \n",
    "x_grid, y_grid = np.meshgrid(x_range, y_range) # x_grid and y_grig are of size 100 X 100\n",
    "\n",
    "# converting x_grid and y_grid to continuous arrays\n",
    "x_gridflat = np.ravel(x_grid)\n",
    "y_gridflat = np.ravel(y_grid)\n",
    "\n",
    "# The last layer of the current model takes two columns as input. Hence transpose of np.vstack() is required.\n",
    "X = np.vstack((x_gridflat, y_gridflat)).T\n",
    "\n",
    "prob_contour = model_prob(X).reshape(100,100) "
   ]
  },
  {
   "cell_type": "code",
   "execution_count": 29,
   "id": "da72499a",
   "metadata": {
    "execution": {
     "iopub.execute_input": "2022-09-01T20:13:39.533048Z",
     "iopub.status.busy": "2022-09-01T20:13:39.532325Z",
     "iopub.status.idle": "2022-09-01T20:13:39.807326Z",
     "shell.execute_reply": "2022-09-01T20:13:39.806618Z"
    },
    "papermill": {
     "duration": 0.328466,
     "end_time": "2022-09-01T20:13:39.807493",
     "exception": false,
     "start_time": "2022-09-01T20:13:39.479027",
     "status": "completed"
    },
    "tags": []
   },
   "outputs": [
    {
     "data": {
      "image/png": "[encoded data removed]",
      "text/plain": [
       "<Figure size 720x648 with 1 Axes>"
      ]
     },
     "metadata": {
      "needs_background": "light"
     },
     "output_type": "display_data"
    }
   ],
   "source": [
    "plt.figure(figsize=(10,9))\n",
    "plt.scatter(testing_plot[:,0], testing_plot[:,1], alpha = 0.1, c = y_test.ravel())\n",
    "contours = plt.contour(x_grid,y_grid,prob_contour)\n",
    "plt.title('Probability Contours')\n",
    "plt.clabel(contours, inline = True );"
   ]
  },
  {
   "cell_type": "code",
   "execution_count": null,
   "id": "e81b4ac7",
   "metadata": {
    "papermill": {
     "duration": 0.056957,
     "end_time": "2022-09-01T20:13:39.922284",
     "exception": false,
     "start_time": "2022-09-01T20:13:39.865327",
     "status": "completed"
    },
    "tags": []
   },
   "outputs": [],
   "source": []
  }
 ],
 "metadata": {
  "kernelspec": {
   "display_name": "Python 3",
   "language": "python",
   "name": "python3"
  },
  "language_info": {
   "codemirror_mode": {
    "name": "ipython",
    "version": 3
   },
   "file_extension": ".py",
   "mimetype": "text/x-python",
   "name": "python",
   "nbconvert_exporter": "python",
   "pygments_lexer": "ipython3",
   "version": "3.6.15"
  },
  "papermill": {
   "default_parameters": {},
   "duration": 124.716275,
   "end_time": "2022-09-01T20:13:40.603982",
   "environment_variables": {},
   "exception": null,
   "input_path": "2020-08-11-part2.ipynb",
   "output_path": "2020-08-11-part2.ipynb",
   "parameters": {},
   "start_time": "2022-09-01T20:11:35.887707",
   "version": "2.3.3"
  }
 },
 "nbformat": 4,
 "nbformat_minor": 5
}