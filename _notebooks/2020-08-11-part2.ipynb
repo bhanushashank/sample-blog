{
 "cells": [
  {
   "cell_type": "markdown",
   "id": "98380cd3",
   "metadata": {
    "papermill": {
     "duration": 0.029116,
     "end_time": "2022-06-11T20:09:51.860695",
     "exception": false,
     "start_time": "2022-06-11T20:09:51.831579",
     "status": "completed"
    },
    "tags": []
   },
   "source": [
    "# Distinguish Your Own Digits (DYOD)"
   ]
  },
  {
   "cell_type": "markdown",
   "id": "ef31240d",
   "metadata": {
    "papermill": {
     "duration": 0.023635,
     "end_time": "2022-06-11T20:09:51.908728",
     "exception": false,
     "start_time": "2022-06-11T20:09:51.885093",
     "status": "completed"
    },
    "tags": []
   },
   "source": [
    "You are going to write a classifier that distinguishes between the number 3 and number 8."
   ]
  },
  {
   "cell_type": "code",
   "execution_count": 1,
   "id": "b15c8646",
   "metadata": {
    "execution": {
     "iopub.execute_input": "2022-06-11T20:09:51.967416Z",
     "iopub.status.busy": "2022-06-11T20:09:51.963859Z",
     "iopub.status.idle": "2022-06-11T20:09:51.977942Z",
     "shell.execute_reply": "2022-06-11T20:09:51.978415Z"
    },
    "papermill": {
     "duration": 0.046189,
     "end_time": "2022-06-11T20:09:51.978556",
     "exception": false,
     "start_time": "2022-06-11T20:09:51.932367",
     "status": "completed"
    },
    "tags": []
   },
   "outputs": [],
   "source": [
    "%load_ext autoreload\n",
    "%autoreload 2"
   ]
  },
  {
   "cell_type": "code",
   "execution_count": 2,
   "id": "22ef38dc",
   "metadata": {
    "execution": {
     "iopub.execute_input": "2022-06-11T20:09:52.029481Z",
     "iopub.status.busy": "2022-06-11T20:09:52.028913Z",
     "iopub.status.idle": "2022-06-11T20:09:52.559828Z",
     "shell.execute_reply": "2022-06-11T20:09:52.559210Z"
    },
    "papermill": {
     "duration": 0.557832,
     "end_time": "2022-06-11T20:09:52.559979",
     "exception": false,
     "start_time": "2022-06-11T20:09:52.002147",
     "status": "completed"
    },
    "tags": []
   },
   "outputs": [],
   "source": [
    "%matplotlib inline\n",
    "import numpy as np\n",
    "import matplotlib.pyplot as plt\n",
    "import pandas as pd"
   ]
  },
  {
   "cell_type": "markdown",
   "id": "ba036198",
   "metadata": {
    "papermill": {
     "duration": 0.023777,
     "end_time": "2022-06-11T20:09:52.607769",
     "exception": false,
     "start_time": "2022-06-11T20:09:52.583992",
     "status": "completed"
    },
    "tags": []
   },
   "source": [
    "From the command line run `pip install mnist`. This is a library that will help you bring down the mnist dataset. If you run this from a notebook, you need to put  `!pip install mnist` in a cell by itself."
   ]
  },
  {
   "cell_type": "code",
   "execution_count": 3,
   "id": "bb6ad8a1",
   "metadata": {
    "execution": {
     "iopub.execute_input": "2022-06-11T20:09:52.658952Z",
     "iopub.status.busy": "2022-06-11T20:09:52.658379Z",
     "iopub.status.idle": "2022-06-11T20:09:54.376514Z",
     "shell.execute_reply": "2022-06-11T20:09:54.377005Z"
    },
    "papermill": {
     "duration": 1.74563,
     "end_time": "2022-06-11T20:09:54.377159",
     "exception": false,
     "start_time": "2022-06-11T20:09:52.631529",
     "status": "completed"
    },
    "tags": []
   },
   "outputs": [
    {
     "name": "stdout",
     "output_type": "stream",
     "text": [
      "Collecting mnist\r\n"
     ]
    },
    {
     "name": "stdout",
     "output_type": "stream",
     "text": [
      "  Downloading mnist-0.2.2-py2.py3-none-any.whl (3.5 kB)\r\n"
     ]
    },
    {
     "name": "stdout",
     "output_type": "stream",
     "text": [
      "Requirement already satisfied: numpy in /opt/hostedtoolcache/Python/3.6.15/x64/lib/python3.6/site-packages (from mnist) (1.19.5)\r\n"
     ]
    },
    {
     "name": "stdout",
     "output_type": "stream",
     "text": [
      "Installing collected packages: mnist\r\n"
     ]
    },
    {
     "name": "stdout",
     "output_type": "stream",
     "text": [
      "Successfully installed mnist-0.2.2\r\n"
     ]
    }
   ],
   "source": [
    "!pip install mnist"
   ]
  },
  {
   "cell_type": "markdown",
   "id": "69df9c9a",
   "metadata": {
    "papermill": {
     "duration": 0.025108,
     "end_time": "2022-06-11T20:09:54.427660",
     "exception": false,
     "start_time": "2022-06-11T20:09:54.402552",
     "status": "completed"
    },
    "tags": []
   },
   "source": [
    "## Preparing the Data"
   ]
  },
  {
   "cell_type": "code",
   "execution_count": 4,
   "id": "7f69d806",
   "metadata": {
    "execution": {
     "iopub.execute_input": "2022-06-11T20:09:54.481648Z",
     "iopub.status.busy": "2022-06-11T20:09:54.481068Z",
     "iopub.status.idle": "2022-06-11T20:09:54.497352Z",
     "shell.execute_reply": "2022-06-11T20:09:54.496881Z"
    },
    "papermill": {
     "duration": 0.044799,
     "end_time": "2022-06-11T20:09:54.497461",
     "exception": false,
     "start_time": "2022-06-11T20:09:54.452662",
     "status": "completed"
    },
    "tags": []
   },
   "outputs": [],
   "source": [
    "import mnist"
   ]
  },
  {
   "cell_type": "code",
   "execution_count": 5,
   "id": "a411e44f",
   "metadata": {
    "execution": {
     "iopub.execute_input": "2022-06-11T20:09:54.551044Z",
     "iopub.status.busy": "2022-06-11T20:09:54.550475Z",
     "iopub.status.idle": "2022-06-11T20:09:55.209633Z",
     "shell.execute_reply": "2022-06-11T20:09:55.209127Z"
    },
    "papermill": {
     "duration": 0.687378,
     "end_time": "2022-06-11T20:09:55.209767",
     "exception": false,
     "start_time": "2022-06-11T20:09:54.522389",
     "status": "completed"
    },
    "tags": []
   },
   "outputs": [],
   "source": [
    "train_images = mnist.train_images()\n",
    "train_labels = mnist.train_labels()"
   ]
  },
  {
   "cell_type": "code",
   "execution_count": 6,
   "id": "dceab3a5",
   "metadata": {
    "execution": {
     "iopub.execute_input": "2022-06-11T20:09:55.264171Z",
     "iopub.status.busy": "2022-06-11T20:09:55.263584Z",
     "iopub.status.idle": "2022-06-11T20:09:55.278492Z",
     "shell.execute_reply": "2022-06-11T20:09:55.278964Z"
    },
    "papermill": {
     "duration": 0.043878,
     "end_time": "2022-06-11T20:09:55.279092",
     "exception": false,
     "start_time": "2022-06-11T20:09:55.235214",
     "status": "completed"
    },
    "tags": []
   },
   "outputs": [
    {
     "data": {
      "text/plain": [
       "((60000, 28, 28), (60000,))"
      ]
     },
     "execution_count": 6,
     "metadata": {},
     "output_type": "execute_result"
    }
   ],
   "source": [
    "train_images.shape, train_labels.shape"
   ]
  },
  {
   "cell_type": "code",
   "execution_count": 7,
   "id": "f50dc2bb",
   "metadata": {
    "execution": {
     "iopub.execute_input": "2022-06-11T20:09:55.332915Z",
     "iopub.status.busy": "2022-06-11T20:09:55.332347Z",
     "iopub.status.idle": "2022-06-11T20:09:55.606146Z",
     "shell.execute_reply": "2022-06-11T20:09:55.605510Z"
    },
    "papermill": {
     "duration": 0.301977,
     "end_time": "2022-06-11T20:09:55.606285",
     "exception": false,
     "start_time": "2022-06-11T20:09:55.304308",
     "status": "completed"
    },
    "tags": []
   },
   "outputs": [],
   "source": [
    "test_images = mnist.test_images()\n",
    "test_labels = mnist.test_labels()"
   ]
  },
  {
   "cell_type": "code",
   "execution_count": 8,
   "id": "fc38cf1b",
   "metadata": {
    "execution": {
     "iopub.execute_input": "2022-06-11T20:09:55.672158Z",
     "iopub.status.busy": "2022-06-11T20:09:55.668104Z",
     "iopub.status.idle": "2022-06-11T20:09:55.679266Z",
     "shell.execute_reply": "2022-06-11T20:09:55.678797Z"
    },
    "papermill": {
     "duration": 0.046278,
     "end_time": "2022-06-11T20:09:55.679391",
     "exception": false,
     "start_time": "2022-06-11T20:09:55.633113",
     "status": "completed"
    },
    "tags": []
   },
   "outputs": [
    {
     "data": {
      "text/plain": [
       "((10000, 28, 28), (10000,))"
      ]
     },
     "execution_count": 8,
     "metadata": {},
     "output_type": "execute_result"
    }
   ],
   "source": [
    "test_images.shape, test_labels.shape"
   ]
  },
  {
   "cell_type": "code",
   "execution_count": 9,
   "id": "f9ed8fe0",
   "metadata": {
    "execution": {
     "iopub.execute_input": "2022-06-11T20:09:55.733922Z",
     "iopub.status.busy": "2022-06-11T20:09:55.733350Z",
     "iopub.status.idle": "2022-06-11T20:09:55.870055Z",
     "shell.execute_reply": "2022-06-11T20:09:55.869580Z"
    },
    "papermill": {
     "duration": 0.165275,
     "end_time": "2022-06-11T20:09:55.870160",
     "exception": false,
     "start_time": "2022-06-11T20:09:55.704885",
     "status": "completed"
    },
    "tags": []
   },
   "outputs": [
    {
     "name": "stdout",
     "output_type": "stream",
     "text": [
      "2\n"
     ]
    },
    {
     "data": {
      "text/plain": [
       "<matplotlib.image.AxesImage at 0x7fc2d5ae0400>"
      ]
     },
     "execution_count": 9,
     "metadata": {},
     "output_type": "execute_result"
    },
    {
     "data": {
      "image/png": "[encoded data removed]",
      "text/plain": [
       "<Figure size 432x288 with 1 Axes>"
      ]
     },
     "metadata": {
      "needs_background": "light"
     },
     "output_type": "display_data"
    }
   ],
   "source": [
    "image_index = 7776 # You may select anything up to 60,000\n",
    "print(train_labels[image_index]) \n",
    "plt.imshow(train_images[image_index], cmap='Greys')"
   ]
  },
  {
   "cell_type": "markdown",
   "id": "a8d2388d",
   "metadata": {
    "papermill": {
     "duration": 0.026528,
     "end_time": "2022-06-11T20:09:55.923460",
     "exception": false,
     "start_time": "2022-06-11T20:09:55.896932",
     "status": "completed"
    },
    "tags": []
   },
   "source": [
    "## Filter data to get 3 and 8 out"
   ]
  },
  {
   "cell_type": "code",
   "execution_count": 10,
   "id": "776f7fc7",
   "metadata": {
    "execution": {
     "iopub.execute_input": "2022-06-11T20:09:55.992458Z",
     "iopub.status.busy": "2022-06-11T20:09:55.984264Z",
     "iopub.status.idle": "2022-06-11T20:09:56.002271Z",
     "shell.execute_reply": "2022-06-11T20:09:56.001787Z"
    },
    "papermill": {
     "duration": 0.052267,
     "end_time": "2022-06-11T20:09:56.002388",
     "exception": false,
     "start_time": "2022-06-11T20:09:55.950121",
     "status": "completed"
    },
    "tags": []
   },
   "outputs": [],
   "source": [
    "train_filter = np.where((train_labels == 3 ) | (train_labels == 8))\n",
    "test_filter = np.where((test_labels == 3) | (test_labels == 8))\n",
    "X_train, y_train = train_images[train_filter], train_labels[train_filter]\n",
    "X_test, y_test = test_images[test_filter], test_labels[test_filter]"
   ]
  },
  {
   "cell_type": "markdown",
   "id": "948f0b7e",
   "metadata": {
    "papermill": {
     "duration": 0.0265,
     "end_time": "2022-06-11T20:09:56.055741",
     "exception": false,
     "start_time": "2022-06-11T20:09:56.029241",
     "status": "completed"
    },
    "tags": []
   },
   "source": [
    "We normalize the pizel values in the 0 to 1 range"
   ]
  },
  {
   "cell_type": "code",
   "execution_count": 11,
   "id": "ee4c2166",
   "metadata": {
    "execution": {
     "iopub.execute_input": "2022-06-11T20:09:56.112305Z",
     "iopub.status.busy": "2022-06-11T20:09:56.111716Z",
     "iopub.status.idle": "2022-06-11T20:09:56.161019Z",
     "shell.execute_reply": "2022-06-11T20:09:56.160497Z"
    },
    "papermill": {
     "duration": 0.078936,
     "end_time": "2022-06-11T20:09:56.161147",
     "exception": false,
     "start_time": "2022-06-11T20:09:56.082211",
     "status": "completed"
    },
    "tags": []
   },
   "outputs": [],
   "source": [
    "X_train = X_train/255.\n",
    "X_test = X_test/255."
   ]
  },
  {
   "cell_type": "markdown",
   "id": "ddcf4fab",
   "metadata": {
    "papermill": {
     "duration": 0.026488,
     "end_time": "2022-06-11T20:09:56.215249",
     "exception": false,
     "start_time": "2022-06-11T20:09:56.188761",
     "status": "completed"
    },
    "tags": []
   },
   "source": [
    "And setup the labels as 1 (when the digit is 3) and 0 (when the digit is 8)"
   ]
  },
  {
   "cell_type": "code",
   "execution_count": 12,
   "id": "7dc908f2",
   "metadata": {
    "execution": {
     "iopub.execute_input": "2022-06-11T20:09:56.271785Z",
     "iopub.status.busy": "2022-06-11T20:09:56.271170Z",
     "iopub.status.idle": "2022-06-11T20:09:56.284095Z",
     "shell.execute_reply": "2022-06-11T20:09:56.283557Z"
    },
    "papermill": {
     "duration": 0.042459,
     "end_time": "2022-06-11T20:09:56.284212",
     "exception": false,
     "start_time": "2022-06-11T20:09:56.241753",
     "status": "completed"
    },
    "tags": []
   },
   "outputs": [],
   "source": [
    "y_train = 1*(y_train==3)\n",
    "y_test = 1*(y_test==3)"
   ]
  },
  {
   "cell_type": "code",
   "execution_count": 13,
   "id": "01e4e969",
   "metadata": {
    "execution": {
     "iopub.execute_input": "2022-06-11T20:09:56.341310Z",
     "iopub.status.busy": "2022-06-11T20:09:56.340749Z",
     "iopub.status.idle": "2022-06-11T20:09:56.353682Z",
     "shell.execute_reply": "2022-06-11T20:09:56.354123Z"
    },
    "papermill": {
     "duration": 0.042483,
     "end_time": "2022-06-11T20:09:56.354239",
     "exception": false,
     "start_time": "2022-06-11T20:09:56.311756",
     "status": "completed"
    },
    "tags": []
   },
   "outputs": [
    {
     "data": {
      "text/plain": [
       "((11982, 28, 28), (1984, 28, 28))"
      ]
     },
     "execution_count": 13,
     "metadata": {},
     "output_type": "execute_result"
    }
   ],
   "source": [
    "X_train.shape, X_test.shape"
   ]
  },
  {
   "cell_type": "markdown",
   "id": "5ccf3f85",
   "metadata": {
    "papermill": {
     "duration": 0.026608,
     "end_time": "2022-06-11T20:09:56.407474",
     "exception": false,
     "start_time": "2022-06-11T20:09:56.380866",
     "status": "completed"
    },
    "tags": []
   },
   "source": [
    "We reshape the data to flatten the image pixels into a set of features or co-variates:"
   ]
  },
  {
   "cell_type": "code",
   "execution_count": 14,
   "id": "5286a4a3",
   "metadata": {
    "execution": {
     "iopub.execute_input": "2022-06-11T20:09:56.464820Z",
     "iopub.status.busy": "2022-06-11T20:09:56.464248Z",
     "iopub.status.idle": "2022-06-11T20:09:56.477771Z",
     "shell.execute_reply": "2022-06-11T20:09:56.477304Z"
    },
    "papermill": {
     "duration": 0.043622,
     "end_time": "2022-06-11T20:09:56.477875",
     "exception": false,
     "start_time": "2022-06-11T20:09:56.434253",
     "status": "completed"
    },
    "tags": []
   },
   "outputs": [
    {
     "data": {
      "text/plain": [
       "((11982, 784), (1984, 784))"
      ]
     },
     "execution_count": 14,
     "metadata": {},
     "output_type": "execute_result"
    }
   ],
   "source": [
    "X_train = X_train.reshape(X_train.shape[0], -1)\n",
    "X_test = X_test.reshape(X_test.shape[0], -1)\n",
    "X_train.shape, X_test.shape"
   ]
  },
  {
   "cell_type": "code",
   "execution_count": 15,
   "id": "73c5f88a",
   "metadata": {
    "execution": {
     "iopub.execute_input": "2022-06-11T20:09:56.536014Z",
     "iopub.status.busy": "2022-06-11T20:09:56.535432Z",
     "iopub.status.idle": "2022-06-11T20:09:56.554048Z",
     "shell.execute_reply": "2022-06-11T20:09:56.553576Z"
    },
    "papermill": {
     "duration": 0.049253,
     "end_time": "2022-06-11T20:09:56.554156",
     "exception": false,
     "start_time": "2022-06-11T20:09:56.504903",
     "status": "completed"
    },
    "tags": []
   },
   "outputs": [],
   "source": [
    "#Impoting functions from 'Kudzu'\n",
    "from kudzu.model import Model\n",
    "from kudzu.train import Learner\n",
    "from kudzu.optim import GD\n",
    "from kudzu.data import Data, Sampler,Dataloader\n",
    "\n",
    "from kudzu.callbacks import AccCallback\n",
    "from kudzu.callbacks import ClfCallback\n",
    "\n",
    "from kudzu.loss import MSE\n",
    "\n",
    "from kudzu.layer import Sigmoid,Relu\n",
    "from kudzu.layer import Affine"
   ]
  },
  {
   "cell_type": "markdown",
   "id": "bc01172a",
   "metadata": {
    "papermill": {
     "duration": 0.027065,
     "end_time": "2022-06-11T20:09:56.608515",
     "exception": false,
     "start_time": "2022-06-11T20:09:56.581450",
     "status": "completed"
    },
    "tags": []
   },
   "source": [
    "### Let us create a `Config` class, to store important parameters. \n",
    "This class essentially plays the role of a dictionary."
   ]
  },
  {
   "cell_type": "code",
   "execution_count": 16,
   "id": "978281aa",
   "metadata": {
    "execution": {
     "iopub.execute_input": "2022-06-11T20:09:56.668678Z",
     "iopub.status.busy": "2022-06-11T20:09:56.668084Z",
     "iopub.status.idle": "2022-06-11T20:09:56.681524Z",
     "shell.execute_reply": "2022-06-11T20:09:56.681057Z"
    },
    "papermill": {
     "duration": 0.044273,
     "end_time": "2022-06-11T20:09:56.681630",
     "exception": false,
     "start_time": "2022-06-11T20:09:56.637357",
     "status": "completed"
    },
    "tags": []
   },
   "outputs": [],
   "source": [
    "class Config:\n",
    "    pass\n",
    "config = Config()\n",
    "config.lr = 0.001\n",
    "config.num_epochs = 250\n",
    "config.bs = 50"
   ]
  },
  {
   "cell_type": "markdown",
   "id": "1385fa59",
   "metadata": {
    "papermill": {
     "duration": 0.027144,
     "end_time": "2022-06-11T20:09:56.735758",
     "exception": false,
     "start_time": "2022-06-11T20:09:56.708614",
     "status": "completed"
    },
    "tags": []
   },
   "source": [
    "### Running Models with the Training data\n",
    "Details about the network layers:\n",
    "- A first affine layer has 784 inputs and does 100 affine transforms. These are followed by a Relu\n",
    "- A second affine layer has 100 inputs from the 100 activations of the past layer, and does 100 affine transforms. These are followed by a Relu\n",
    "- A third affine layer has 100 activations and does 2 affine transformations to create an embedding for visualization. There is no non-linearity here.\n",
    "- A final \"logistic regression\" which has an affine transform from 2 inputs to 1 output, which is squeezed through a sigmoid.\n"
   ]
  },
  {
   "cell_type": "code",
   "execution_count": 17,
   "id": "2b9c66db",
   "metadata": {
    "execution": {
     "iopub.execute_input": "2022-06-11T20:09:56.805721Z",
     "iopub.status.busy": "2022-06-11T20:09:56.804104Z",
     "iopub.status.idle": "2022-06-11T20:09:56.808966Z",
     "shell.execute_reply": "2022-06-11T20:09:56.808496Z"
    },
    "papermill": {
     "duration": 0.046126,
     "end_time": "2022-06-11T20:09:56.809069",
     "exception": false,
     "start_time": "2022-06-11T20:09:56.762943",
     "status": "completed"
    },
    "tags": []
   },
   "outputs": [],
   "source": [
    "data = Data(X_train, y_train.reshape(-1,1))\n",
    "sampler = Sampler(data, config.bs, shuffle=True)\n",
    "\n",
    "dl = Dataloader(data, sampler)\n",
    "\n",
    "opt = GD(config.lr)\n",
    "loss = MSE()"
   ]
  },
  {
   "cell_type": "code",
   "execution_count": 18,
   "id": "b275e4c2",
   "metadata": {
    "execution": {
     "iopub.execute_input": "2022-06-11T20:09:56.872166Z",
     "iopub.status.busy": "2022-06-11T20:09:56.865816Z",
     "iopub.status.idle": "2022-06-11T20:09:56.879830Z",
     "shell.execute_reply": "2022-06-11T20:09:56.879331Z"
    },
    "papermill": {
     "duration": 0.043859,
     "end_time": "2022-06-11T20:09:56.879933",
     "exception": false,
     "start_time": "2022-06-11T20:09:56.836074",
     "status": "completed"
    },
    "tags": []
   },
   "outputs": [],
   "source": [
    "training_data_x = X_train\n",
    "testing_data_x = X_test\n",
    "training_data_y = y_train.reshape(-1,1)\n",
    "testing_data_y = y_test.reshape(-1,1)"
   ]
  },
  {
   "cell_type": "code",
   "execution_count": 19,
   "id": "76951160",
   "metadata": {
    "execution": {
     "iopub.execute_input": "2022-06-11T20:09:56.941990Z",
     "iopub.status.busy": "2022-06-11T20:09:56.941413Z",
     "iopub.status.idle": "2022-06-11T20:09:56.954619Z",
     "shell.execute_reply": "2022-06-11T20:09:56.954157Z"
    },
    "papermill": {
     "duration": 0.047896,
     "end_time": "2022-06-11T20:09:56.954719",
     "exception": false,
     "start_time": "2022-06-11T20:09:56.906823",
     "status": "completed"
    },
    "tags": []
   },
   "outputs": [
    {
     "name": "stdout",
     "output_type": "stream",
     "text": [
      "xavier\n",
      "xavier\n",
      "xavier\n",
      "xavier\n",
      "xavier\n"
     ]
    }
   ],
   "source": [
    "layers = [Affine(\"first\", 784, 100), Relu(\"first\"), Affine(\"second\", 100, 100), Relu(\"second\"), Affine(\"third\", 100, 2), Affine(\"last\", 2, 1), Sigmoid(\"last\")]\n",
    "model_nn = Model(layers)\n",
    "model_lr = Model([Affine(\"logits\", 784, 1), Sigmoid(\"sigmoid\")])"
   ]
  },
  {
   "cell_type": "code",
   "execution_count": 20,
   "id": "6eede77a",
   "metadata": {
    "execution": {
     "iopub.execute_input": "2022-06-11T20:09:57.014093Z",
     "iopub.status.busy": "2022-06-11T20:09:57.013507Z",
     "iopub.status.idle": "2022-06-11T20:09:57.025259Z",
     "shell.execute_reply": "2022-06-11T20:09:57.024783Z"
    },
    "papermill": {
     "duration": 0.043308,
     "end_time": "2022-06-11T20:09:57.025365",
     "exception": false,
     "start_time": "2022-06-11T20:09:56.982057",
     "status": "completed"
    },
    "tags": []
   },
   "outputs": [],
   "source": [
    "nn_learner = Learner(loss, model_nn, opt, config.num_epochs)\n",
    "acc_nn = ClfCallback(nn_learner, config.bs, training_data_x , testing_data_x, training_data_y, testing_data_y)\n",
    "nn_learner.set_callbacks([acc_nn])"
   ]
  },
  {
   "cell_type": "code",
   "execution_count": 21,
   "id": "877b6cc7",
   "metadata": {
    "execution": {
     "iopub.execute_input": "2022-06-11T20:09:57.097594Z",
     "iopub.status.busy": "2022-06-11T20:09:57.092385Z",
     "iopub.status.idle": "2022-06-11T20:09:57.099997Z",
     "shell.execute_reply": "2022-06-11T20:09:57.100452Z"
    },
    "papermill": {
     "duration": 0.047658,
     "end_time": "2022-06-11T20:09:57.100602",
     "exception": false,
     "start_time": "2022-06-11T20:09:57.052944",
     "status": "completed"
    },
    "tags": []
   },
   "outputs": [],
   "source": [
    "lr_learner = Learner(loss, model_lr, opt, config.num_epochs)\n",
    "acc_lr = ClfCallback(lr_learner, config.bs, training_data_x , testing_data_x, training_data_y, testing_data_y)\n",
    "lr_learner.set_callbacks([acc_lr])"
   ]
  },
  {
   "cell_type": "code",
   "execution_count": 22,
   "id": "d9b133c3",
   "metadata": {
    "execution": {
     "iopub.execute_input": "2022-06-11T20:09:57.173476Z",
     "iopub.status.busy": "2022-06-11T20:09:57.172855Z",
     "iopub.status.idle": "2022-06-11T20:11:15.052042Z",
     "shell.execute_reply": "2022-06-11T20:11:15.052893Z"
    },
    "papermill": {
     "duration": 77.924441,
     "end_time": "2022-06-11T20:11:15.053048",
     "exception": false,
     "start_time": "2022-06-11T20:09:57.128607",
     "status": "completed"
    },
    "tags": []
   },
   "outputs": [
    {
     "name": "stdout",
     "output_type": "stream",
     "text": [
      "Epoch 0, Loss 0.2466\n",
      "Training Accuracy: 0.6151, Testing Accuracy: 0.6467\n",
      "\n"
     ]
    },
    {
     "name": "stdout",
     "output_type": "stream",
     "text": [
      "Epoch 10, Loss 0.2016\n",
      "Training Accuracy: 0.8708, Testing Accuracy: 0.8790\n",
      "\n"
     ]
    },
    {
     "name": "stdout",
     "output_type": "stream",
     "text": [
      "Epoch 20, Loss 0.1044\n",
      "Training Accuracy: 0.9084, Testing Accuracy: 0.9199\n",
      "\n"
     ]
    },
    {
     "name": "stdout",
     "output_type": "stream",
     "text": [
      "Epoch 30, Loss 0.0644\n",
      "Training Accuracy: 0.9313, Testing Accuracy: 0.9496\n",
      "\n"
     ]
    },
    {
     "name": "stdout",
     "output_type": "stream",
     "text": [
      "Epoch 40, Loss 0.0498\n",
      "Training Accuracy: 0.9450, Testing Accuracy: 0.9567\n",
      "\n"
     ]
    },
    {
     "name": "stdout",
     "output_type": "stream",
     "text": [
      "Epoch 50, Loss 0.0424\n",
      "Training Accuracy: 0.9523, Testing Accuracy: 0.9607\n",
      "\n"
     ]
    },
    {
     "name": "stdout",
     "output_type": "stream",
     "text": [
      "Epoch 60, Loss 0.038\n",
      "Training Accuracy: 0.9562, Testing Accuracy: 0.9637\n",
      "\n"
     ]
    },
    {
     "name": "stdout",
     "output_type": "stream",
     "text": [
      "Epoch 70, Loss 0.035\n",
      "Training Accuracy: 0.9590, Testing Accuracy: 0.9672\n",
      "\n"
     ]
    },
    {
     "name": "stdout",
     "output_type": "stream",
     "text": [
      "Epoch 80, Loss 0.0328\n",
      "Training Accuracy: 0.9616, Testing Accuracy: 0.9682\n",
      "\n"
     ]
    },
    {
     "name": "stdout",
     "output_type": "stream",
     "text": [
      "Epoch 90, Loss 0.0311\n",
      "Training Accuracy: 0.9628, Testing Accuracy: 0.9693\n",
      "\n"
     ]
    },
    {
     "name": "stdout",
     "output_type": "stream",
     "text": [
      "Epoch 100, Loss 0.0296\n",
      "Training Accuracy: 0.9646, Testing Accuracy: 0.9682\n",
      "\n"
     ]
    },
    {
     "name": "stdout",
     "output_type": "stream",
     "text": [
      "Epoch 110, Loss 0.0284\n",
      "Training Accuracy: 0.9660, Testing Accuracy: 0.9682\n",
      "\n"
     ]
    },
    {
     "name": "stdout",
     "output_type": "stream",
     "text": [
      "Epoch 120, Loss 0.0274\n",
      "Training Accuracy: 0.9670, Testing Accuracy: 0.9688\n",
      "\n"
     ]
    },
    {
     "name": "stdout",
     "output_type": "stream",
     "text": [
      "Epoch 130, Loss 0.0265\n",
      "Training Accuracy: 0.9690, Testing Accuracy: 0.9698\n",
      "\n"
     ]
    },
    {
     "name": "stdout",
     "output_type": "stream",
     "text": [
      "Epoch 140, Loss 0.0257\n",
      "Training Accuracy: 0.9706, Testing Accuracy: 0.9698\n",
      "\n"
     ]
    },
    {
     "name": "stdout",
     "output_type": "stream",
     "text": [
      "Epoch 150, Loss 0.0249\n",
      "Training Accuracy: 0.9715, Testing Accuracy: 0.9693\n",
      "\n"
     ]
    },
    {
     "name": "stdout",
     "output_type": "stream",
     "text": [
      "Epoch 160, Loss 0.0243\n",
      "Training Accuracy: 0.9726, Testing Accuracy: 0.9693\n",
      "\n"
     ]
    },
    {
     "name": "stdout",
     "output_type": "stream",
     "text": [
      "Epoch 170, Loss 0.0237\n",
      "Training Accuracy: 0.9730, Testing Accuracy: 0.9693\n",
      "\n"
     ]
    },
    {
     "name": "stdout",
     "output_type": "stream",
     "text": [
      "Epoch 180, Loss 0.0231\n",
      "Training Accuracy: 0.9737, Testing Accuracy: 0.9698\n",
      "\n"
     ]
    },
    {
     "name": "stdout",
     "output_type": "stream",
     "text": [
      "Epoch 190, Loss 0.0226\n",
      "Training Accuracy: 0.9748, Testing Accuracy: 0.9703\n",
      "\n"
     ]
    },
    {
     "name": "stdout",
     "output_type": "stream",
     "text": [
      "Epoch 200, Loss 0.0221\n",
      "Training Accuracy: 0.9755, Testing Accuracy: 0.9703\n",
      "\n"
     ]
    },
    {
     "name": "stdout",
     "output_type": "stream",
     "text": [
      "Epoch 210, Loss 0.0217\n",
      "Training Accuracy: 0.9760, Testing Accuracy: 0.9713\n",
      "\n"
     ]
    },
    {
     "name": "stdout",
     "output_type": "stream",
     "text": [
      "Epoch 220, Loss 0.0212\n",
      "Training Accuracy: 0.9767, Testing Accuracy: 0.9713\n",
      "\n"
     ]
    },
    {
     "name": "stdout",
     "output_type": "stream",
     "text": [
      "Epoch 230, Loss 0.0208\n",
      "Training Accuracy: 0.9770, Testing Accuracy: 0.9723\n",
      "\n"
     ]
    },
    {
     "name": "stdout",
     "output_type": "stream",
     "text": [
      "Epoch 240, Loss 0.0204\n",
      "Training Accuracy: 0.9777, Testing Accuracy: 0.9723\n",
      "\n"
     ]
    },
    {
     "data": {
      "text/plain": [
       "0.025756963726930433"
      ]
     },
     "execution_count": 22,
     "metadata": {},
     "output_type": "execute_result"
    }
   ],
   "source": [
    "nn_learner.train_loop(dl)"
   ]
  },
  {
   "cell_type": "code",
   "execution_count": 23,
   "id": "e0163366",
   "metadata": {
    "execution": {
     "iopub.execute_input": "2022-06-11T20:11:15.132804Z",
     "iopub.status.busy": "2022-06-11T20:11:15.132225Z",
     "iopub.status.idle": "2022-06-11T20:11:28.921150Z",
     "shell.execute_reply": "2022-06-11T20:11:28.921989Z"
    },
    "papermill": {
     "duration": 13.833648,
     "end_time": "2022-06-11T20:11:28.922146",
     "exception": false,
     "start_time": "2022-06-11T20:11:15.088498",
     "status": "completed"
    },
    "tags": []
   },
   "outputs": [
    {
     "name": "stdout",
     "output_type": "stream",
     "text": [
      "Epoch 0, Loss 0.2472\n",
      "Training Accuracy: 0.6563, Testing Accuracy: 0.6865\n",
      "\n"
     ]
    },
    {
     "name": "stdout",
     "output_type": "stream",
     "text": [
      "Epoch 10, Loss 0.1054\n",
      "Training Accuracy: 0.9054, Testing Accuracy: 0.9183\n",
      "\n"
     ]
    },
    {
     "name": "stdout",
     "output_type": "stream",
     "text": [
      "Epoch 20, Loss 0.08\n",
      "Training Accuracy: 0.9269, Testing Accuracy: 0.9405\n",
      "\n"
     ]
    },
    {
     "name": "stdout",
     "output_type": "stream",
     "text": [
      "Epoch 30, Loss 0.0684\n",
      "Training Accuracy: 0.9360, Testing Accuracy: 0.9486\n",
      "\n"
     ]
    },
    {
     "name": "stdout",
     "output_type": "stream",
     "text": [
      "Epoch 40, Loss 0.0615\n",
      "Training Accuracy: 0.9422, Testing Accuracy: 0.9531\n",
      "\n"
     ]
    },
    {
     "name": "stdout",
     "output_type": "stream",
     "text": [
      "Epoch 50, Loss 0.0569\n",
      "Training Accuracy: 0.9466, Testing Accuracy: 0.9531\n",
      "\n"
     ]
    },
    {
     "name": "stdout",
     "output_type": "stream",
     "text": [
      "Epoch 60, Loss 0.0535\n",
      "Training Accuracy: 0.9493, Testing Accuracy: 0.9556\n",
      "\n"
     ]
    },
    {
     "name": "stdout",
     "output_type": "stream",
     "text": [
      "Epoch 70, Loss 0.051\n",
      "Training Accuracy: 0.9508, Testing Accuracy: 0.9582\n",
      "\n"
     ]
    },
    {
     "name": "stdout",
     "output_type": "stream",
     "text": [
      "Epoch 80, Loss 0.0489\n",
      "Training Accuracy: 0.9523, Testing Accuracy: 0.9597\n",
      "\n"
     ]
    },
    {
     "name": "stdout",
     "output_type": "stream",
     "text": [
      "Epoch 90, Loss 0.0472\n",
      "Training Accuracy: 0.9530, Testing Accuracy: 0.9612\n",
      "\n"
     ]
    },
    {
     "name": "stdout",
     "output_type": "stream",
     "text": [
      "Epoch 100, Loss 0.0458\n",
      "Training Accuracy: 0.9541, Testing Accuracy: 0.9622\n",
      "\n"
     ]
    },
    {
     "name": "stdout",
     "output_type": "stream",
     "text": [
      "Epoch 110, Loss 0.0446\n",
      "Training Accuracy: 0.9554, Testing Accuracy: 0.9627\n",
      "\n"
     ]
    },
    {
     "name": "stdout",
     "output_type": "stream",
     "text": [
      "Epoch 120, Loss 0.0435\n",
      "Training Accuracy: 0.9559, Testing Accuracy: 0.9632\n",
      "\n"
     ]
    },
    {
     "name": "stdout",
     "output_type": "stream",
     "text": [
      "Epoch 130, Loss 0.0426\n",
      "Training Accuracy: 0.9564, Testing Accuracy: 0.9632\n",
      "\n"
     ]
    },
    {
     "name": "stdout",
     "output_type": "stream",
     "text": [
      "Epoch 140, Loss 0.0418\n",
      "Training Accuracy: 0.9569, Testing Accuracy: 0.9637\n",
      "\n"
     ]
    },
    {
     "name": "stdout",
     "output_type": "stream",
     "text": [
      "Epoch 150, Loss 0.041\n",
      "Training Accuracy: 0.9574, Testing Accuracy: 0.9637\n",
      "\n"
     ]
    },
    {
     "name": "stdout",
     "output_type": "stream",
     "text": [
      "Epoch 160, Loss 0.0404\n",
      "Training Accuracy: 0.9579, Testing Accuracy: 0.9637\n",
      "\n"
     ]
    },
    {
     "name": "stdout",
     "output_type": "stream",
     "text": [
      "Epoch 170, Loss 0.0398\n",
      "Training Accuracy: 0.9587, Testing Accuracy: 0.9637\n",
      "\n"
     ]
    },
    {
     "name": "stdout",
     "output_type": "stream",
     "text": [
      "Epoch 180, Loss 0.0392\n",
      "Training Accuracy: 0.9594, Testing Accuracy: 0.9657\n",
      "\n"
     ]
    },
    {
     "name": "stdout",
     "output_type": "stream",
     "text": [
      "Epoch 190, Loss 0.0387\n",
      "Training Accuracy: 0.9599, Testing Accuracy: 0.9667\n",
      "\n"
     ]
    },
    {
     "name": "stdout",
     "output_type": "stream",
     "text": [
      "Epoch 200, Loss 0.0382\n",
      "Training Accuracy: 0.9602, Testing Accuracy: 0.9667\n",
      "\n"
     ]
    },
    {
     "name": "stdout",
     "output_type": "stream",
     "text": [
      "Epoch 210, Loss 0.0378\n",
      "Training Accuracy: 0.9605, Testing Accuracy: 0.9662\n",
      "\n"
     ]
    },
    {
     "name": "stdout",
     "output_type": "stream",
     "text": [
      "Epoch 220, Loss 0.0374\n",
      "Training Accuracy: 0.9611, Testing Accuracy: 0.9672\n",
      "\n"
     ]
    },
    {
     "name": "stdout",
     "output_type": "stream",
     "text": [
      "Epoch 230, Loss 0.037\n",
      "Training Accuracy: 0.9614, Testing Accuracy: 0.9672\n",
      "\n"
     ]
    },
    {
     "name": "stdout",
     "output_type": "stream",
     "text": [
      "Epoch 240, Loss 0.0367\n",
      "Training Accuracy: 0.9619, Testing Accuracy: 0.9672\n",
      "\n"
     ]
    },
    {
     "data": {
      "text/plain": [
       "0.016360110745415917"
      ]
     },
     "execution_count": 23,
     "metadata": {},
     "output_type": "execute_result"
    }
   ],
   "source": [
    "lr_learner.train_loop(dl)"
   ]
  },
  {
   "cell_type": "code",
   "execution_count": 24,
   "id": "ca410940",
   "metadata": {
    "execution": {
     "iopub.execute_input": "2022-06-11T20:11:29.017858Z",
     "iopub.status.busy": "2022-06-11T20:11:29.017238Z",
     "iopub.status.idle": "2022-06-11T20:11:29.249093Z",
     "shell.execute_reply": "2022-06-11T20:11:29.248597Z"
    },
    "papermill": {
     "duration": 0.285441,
     "end_time": "2022-06-11T20:11:29.249224",
     "exception": false,
     "start_time": "2022-06-11T20:11:28.963783",
     "status": "completed"
    },
    "tags": []
   },
   "outputs": [
    {
     "data": {
      "text/plain": [
       "<matplotlib.legend.Legend at 0x7fc2d563fa20>"
      ]
     },
     "execution_count": 24,
     "metadata": {},
     "output_type": "execute_result"
    },
    {
     "data": {
      "image/png": "[encoded data removed]",
      "text/plain": [
       "<Figure size 1080x720 with 1 Axes>"
      ]
     },
     "metadata": {
      "needs_background": "light"
     },
     "output_type": "display_data"
    }
   ],
   "source": [
    "#comparing the results of NN and LR\n",
    "plt.figure(figsize=(15,10))\n",
    "\n",
    "# Neural Network plots\n",
    "plt.plot(acc_nn.accuracies, 'r-', label = \"Training Accuracies - NN\")\n",
    "plt.plot(acc_nn.test_accuracies, 'g-', label = \"Testing Accuracies - NN\")\n",
    "\n",
    "# Logistic Regression plots\n",
    "plt.plot(acc_lr.accuracies, 'k-', label = \"Training Accuracies - LR\")\n",
    "plt.plot(acc_lr.test_accuracies, 'b-', label = \"Testing Accuracies - LR\")\n",
    "plt.legend()"
   ]
  },
  {
   "cell_type": "markdown",
   "id": "80dfb35c",
   "metadata": {
    "papermill": {
     "duration": 0.046302,
     "end_time": "2022-06-11T20:11:29.337991",
     "exception": false,
     "start_time": "2022-06-11T20:11:29.291689",
     "status": "completed"
    },
    "tags": []
   },
   "source": [
    "#### Plotting the outputs of this layer of the NN.\n"
   ]
  },
  {
   "cell_type": "code",
   "execution_count": 25,
   "id": "45eb2ff5",
   "metadata": {
    "execution": {
     "iopub.execute_input": "2022-06-11T20:11:29.431710Z",
     "iopub.status.busy": "2022-06-11T20:11:29.431074Z",
     "iopub.status.idle": "2022-06-11T20:11:29.450967Z",
     "shell.execute_reply": "2022-06-11T20:11:29.450448Z"
    },
    "papermill": {
     "duration": 0.071114,
     "end_time": "2022-06-11T20:11:29.451086",
     "exception": false,
     "start_time": "2022-06-11T20:11:29.379972",
     "status": "completed"
    },
    "tags": []
   },
   "outputs": [],
   "source": [
    "new_model = Model(layers[:-2])\n",
    "testing_plot = new_model(testing_data_x)"
   ]
  },
  {
   "cell_type": "code",
   "execution_count": 26,
   "id": "4c0a5485",
   "metadata": {
    "execution": {
     "iopub.execute_input": "2022-06-11T20:11:29.540273Z",
     "iopub.status.busy": "2022-06-11T20:11:29.539680Z",
     "iopub.status.idle": "2022-06-11T20:11:29.762542Z",
     "shell.execute_reply": "2022-06-11T20:11:29.761666Z"
    },
    "papermill": {
     "duration": 0.268827,
     "end_time": "2022-06-11T20:11:29.762675",
     "exception": false,
     "start_time": "2022-06-11T20:11:29.493848",
     "status": "completed"
    },
    "tags": []
   },
   "outputs": [
    {
     "data": {
      "text/plain": [
       "Text(0.5, 1.0, 'Outputs')"
      ]
     },
     "execution_count": 26,
     "metadata": {},
     "output_type": "execute_result"
    },
    {
     "data": {
      "image/png": "[encoded data removed]",
      "text/plain": [
       "<Figure size 576x504 with 1 Axes>"
      ]
     },
     "metadata": {
      "needs_background": "light"
     },
     "output_type": "display_data"
    }
   ],
   "source": [
    "# Plotting the scatter plot of points and color coding by class\n",
    "plt.figure(figsize=(8,7))\n",
    "plt.scatter(testing_plot[:,0], testing_plot[:,1], alpha = 0.1, c = y_test.ravel());\n",
    "plt.title('Outputs')"
   ]
  },
  {
   "cell_type": "markdown",
   "id": "a74fcf8f",
   "metadata": {
    "papermill": {
     "duration": 0.049118,
     "end_time": "2022-06-11T20:11:29.856902",
     "exception": false,
     "start_time": "2022-06-11T20:11:29.807784",
     "status": "completed"
    },
    "tags": []
   },
   "source": [
    "Probability contours"
   ]
  },
  {
   "cell_type": "code",
   "execution_count": 27,
   "id": "d0afc8e3",
   "metadata": {
    "execution": {
     "iopub.execute_input": "2022-06-11T20:11:29.988752Z",
     "iopub.status.busy": "2022-06-11T20:11:29.987765Z",
     "iopub.status.idle": "2022-06-11T20:11:29.998206Z",
     "shell.execute_reply": "2022-06-11T20:11:29.999160Z"
    },
    "papermill": {
     "duration": 0.097387,
     "end_time": "2022-06-11T20:11:29.999293",
     "exception": false,
     "start_time": "2022-06-11T20:11:29.901906",
     "status": "completed"
    },
    "tags": []
   },
   "outputs": [],
   "source": [
    "model_prob = Model(layers[-2:]) "
   ]
  },
  {
   "cell_type": "code",
   "execution_count": 28,
   "id": "9b96e238",
   "metadata": {
    "execution": {
     "iopub.execute_input": "2022-06-11T20:11:30.096978Z",
     "iopub.status.busy": "2022-06-11T20:11:30.095332Z",
     "iopub.status.idle": "2022-06-11T20:11:30.112097Z",
     "shell.execute_reply": "2022-06-11T20:11:30.112532Z"
    },
    "papermill": {
     "duration": 0.068107,
     "end_time": "2022-06-11T20:11:30.112666",
     "exception": false,
     "start_time": "2022-06-11T20:11:30.044559",
     "status": "completed"
    },
    "tags": []
   },
   "outputs": [],
   "source": [
    "#creating the x and y ranges according to the above generated plot.\n",
    "x_range = np.linspace(-4, 1, 100) \n",
    "y_range = np.linspace(-6, 6, 100) \n",
    "x_grid, y_grid = np.meshgrid(x_range, y_range) # x_grid and y_grig are of size 100 X 100\n",
    "\n",
    "# converting x_grid and y_grid to continuous arrays\n",
    "x_gridflat = np.ravel(x_grid)\n",
    "y_gridflat = np.ravel(y_grid)\n",
    "\n",
    "# The last layer of the current model takes two columns as input. Hence transpose of np.vstack() is required.\n",
    "X = np.vstack((x_gridflat, y_gridflat)).T\n",
    "\n",
    "prob_contour = model_prob(X).reshape(100,100) "
   ]
  },
  {
   "cell_type": "code",
   "execution_count": 29,
   "id": "da72499a",
   "metadata": {
    "execution": {
     "iopub.execute_input": "2022-06-11T20:11:30.208108Z",
     "iopub.status.busy": "2022-06-11T20:11:30.207512Z",
     "iopub.status.idle": "2022-06-11T20:11:30.461782Z",
     "shell.execute_reply": "2022-06-11T20:11:30.461288Z"
    },
    "papermill": {
     "duration": 0.303579,
     "end_time": "2022-06-11T20:11:30.461909",
     "exception": false,
     "start_time": "2022-06-11T20:11:30.158330",
     "status": "completed"
    },
    "tags": []
   },
   "outputs": [
    {
     "data": {
      "image/png": "[encoded data removed]",
      "text/plain": [
       "<Figure size 720x648 with 1 Axes>"
      ]
     },
     "metadata": {
      "needs_background": "light"
     },
     "output_type": "display_data"
    }
   ],
   "source": [
    "plt.figure(figsize=(10,9))\n",
    "plt.scatter(testing_plot[:,0], testing_plot[:,1], alpha = 0.1, c = y_test.ravel())\n",
    "contours = plt.contour(x_grid,y_grid,prob_contour)\n",
    "plt.title('Probability Contours')\n",
    "plt.clabel(contours, inline = True );"
   ]
  },
  {
   "cell_type": "code",
   "execution_count": null,
   "id": "e81b4ac7",
   "metadata": {
    "papermill": {
     "duration": 0.047879,
     "end_time": "2022-06-11T20:11:30.558568",
     "exception": false,
     "start_time": "2022-06-11T20:11:30.510689",
     "status": "completed"
    },
    "tags": []
   },
   "outputs": [],
   "source": []
  }
 ],
 "metadata": {
  "kernelspec": {
   "display_name": "Python 3",
   "language": "python",
   "name": "python3"
  },
  "language_info": {
   "codemirror_mode": {
    "name": "ipython",
    "version": 3
   },
   "file_extension": ".py",
   "mimetype": "text/x-python",
   "name": "python",
   "nbconvert_exporter": "python",
   "pygments_lexer": "ipython3",
   "version": "3.6.15"
  },
  "papermill": {
   "default_parameters": {},
   "duration": 100.129317,
   "end_time": "2022-06-11T20:11:31.029200",
   "environment_variables": {},
   "exception": null,
   "input_path": "2020-08-11-part2.ipynb",
   "output_path": "2020-08-11-part2.ipynb",
   "parameters": {},
   "start_time": "2022-06-11T20:09:50.899883",
   "version": "2.3.3"
  }
 },
 "nbformat": 4,
 "nbformat_minor": 5
}