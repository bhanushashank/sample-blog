{
 "cells": [
  {
   "cell_type": "markdown",
   "id": "98380cd3",
   "metadata": {
    "papermill": {
     "duration": 0.031901,
     "end_time": "2021-09-07T10:07:10.240820",
     "exception": false,
     "start_time": "2021-09-07T10:07:10.208919",
     "status": "completed"
    },
    "tags": []
   },
   "source": [
    "# Distinguish Your Own Digits (DYOD)"
   ]
  },
  {
   "cell_type": "markdown",
   "id": "ef31240d",
   "metadata": {
    "papermill": {
     "duration": 0.026977,
     "end_time": "2021-09-07T10:07:10.295560",
     "exception": false,
     "start_time": "2021-09-07T10:07:10.268583",
     "status": "completed"
    },
    "tags": []
   },
   "source": [
    "You are going to write a classifier that distinguishes between the number 3 and number 8."
   ]
  },
  {
   "cell_type": "code",
   "execution_count": 1,
   "id": "b15c8646",
   "metadata": {
    "execution": {
     "iopub.execute_input": "2021-09-07T10:07:10.360746Z",
     "iopub.status.busy": "2021-09-07T10:07:10.360115Z",
     "iopub.status.idle": "2021-09-07T10:07:10.371676Z",
     "shell.execute_reply": "2021-09-07T10:07:10.371143Z"
    },
    "papermill": {
     "duration": 0.049445,
     "end_time": "2021-09-07T10:07:10.371821",
     "exception": false,
     "start_time": "2021-09-07T10:07:10.322376",
     "status": "completed"
    },
    "tags": []
   },
   "outputs": [],
   "source": [
    "%load_ext autoreload\n",
    "%autoreload 2"
   ]
  },
  {
   "cell_type": "code",
   "execution_count": 2,
   "id": "22ef38dc",
   "metadata": {
    "execution": {
     "iopub.execute_input": "2021-09-07T10:07:10.433998Z",
     "iopub.status.busy": "2021-09-07T10:07:10.433377Z",
     "iopub.status.idle": "2021-09-07T10:07:11.039204Z",
     "shell.execute_reply": "2021-09-07T10:07:11.038526Z"
    },
    "papermill": {
     "duration": 0.640291,
     "end_time": "2021-09-07T10:07:11.039338",
     "exception": false,
     "start_time": "2021-09-07T10:07:10.399047",
     "status": "completed"
    },
    "tags": []
   },
   "outputs": [],
   "source": [
    "%matplotlib inline\n",
    "import numpy as np\n",
    "import matplotlib.pyplot as plt\n",
    "import pandas as pd"
   ]
  },
  {
   "cell_type": "markdown",
   "id": "ba036198",
   "metadata": {
    "papermill": {
     "duration": 0.028583,
     "end_time": "2021-09-07T10:07:11.095706",
     "exception": false,
     "start_time": "2021-09-07T10:07:11.067123",
     "status": "completed"
    },
    "tags": []
   },
   "source": [
    "From the command line run `pip install mnist`. This is a library that will help you bring down the mnist dataset. If you run this from a notebook, you need to put  `!pip install mnist` in a cell by itself."
   ]
  },
  {
   "cell_type": "code",
   "execution_count": 3,
   "id": "bb6ad8a1",
   "metadata": {
    "execution": {
     "iopub.execute_input": "2021-09-07T10:07:11.157215Z",
     "iopub.status.busy": "2021-09-07T10:07:11.156603Z",
     "iopub.status.idle": "2021-09-07T10:07:13.067437Z",
     "shell.execute_reply": "2021-09-07T10:07:13.067916Z"
    },
    "papermill": {
     "duration": 1.9454,
     "end_time": "2021-09-07T10:07:13.068078",
     "exception": false,
     "start_time": "2021-09-07T10:07:11.122678",
     "status": "completed"
    },
    "tags": []
   },
   "outputs": [
    {
     "name": "stdout",
     "output_type": "stream",
     "text": [
      "Collecting mnist\r\n"
     ]
    },
    {
     "name": "stdout",
     "output_type": "stream",
     "text": [
      "  Downloading mnist-0.2.2-py2.py3-none-any.whl (3.5 kB)\r\n",
      "Requirement already satisfied: numpy in /opt/hostedtoolcache/Python/3.6.14/x64/lib/python3.6/site-packages (from mnist) (1.19.5)\r\n"
     ]
    },
    {
     "name": "stdout",
     "output_type": "stream",
     "text": [
      "Installing collected packages: mnist\r\n"
     ]
    },
    {
     "name": "stdout",
     "output_type": "stream",
     "text": [
      "Successfully installed mnist-0.2.2\r\n"
     ]
    }
   ],
   "source": [
    "!pip install mnist"
   ]
  },
  {
   "cell_type": "markdown",
   "id": "69df9c9a",
   "metadata": {
    "papermill": {
     "duration": 0.028727,
     "end_time": "2021-09-07T10:07:13.127891",
     "exception": false,
     "start_time": "2021-09-07T10:07:13.099164",
     "status": "completed"
    },
    "tags": []
   },
   "source": [
    "## Preparing the Data"
   ]
  },
  {
   "cell_type": "code",
   "execution_count": 4,
   "id": "7f69d806",
   "metadata": {
    "execution": {
     "iopub.execute_input": "2021-09-07T10:07:13.189210Z",
     "iopub.status.busy": "2021-09-07T10:07:13.188602Z",
     "iopub.status.idle": "2021-09-07T10:07:13.204192Z",
     "shell.execute_reply": "2021-09-07T10:07:13.203696Z"
    },
    "papermill": {
     "duration": 0.048236,
     "end_time": "2021-09-07T10:07:13.204325",
     "exception": false,
     "start_time": "2021-09-07T10:07:13.156089",
     "status": "completed"
    },
    "tags": []
   },
   "outputs": [],
   "source": [
    "import mnist"
   ]
  },
  {
   "cell_type": "code",
   "execution_count": 5,
   "id": "a411e44f",
   "metadata": {
    "execution": {
     "iopub.execute_input": "2021-09-07T10:07:13.266652Z",
     "iopub.status.busy": "2021-09-07T10:07:13.266013Z",
     "iopub.status.idle": "2021-09-07T10:07:13.790116Z",
     "shell.execute_reply": "2021-09-07T10:07:13.789287Z"
    },
    "papermill": {
     "duration": 0.557523,
     "end_time": "2021-09-07T10:07:13.790355",
     "exception": false,
     "start_time": "2021-09-07T10:07:13.232832",
     "status": "completed"
    },
    "tags": []
   },
   "outputs": [],
   "source": [
    "train_images = mnist.train_images()\n",
    "train_labels = mnist.train_labels()"
   ]
  },
  {
   "cell_type": "code",
   "execution_count": 6,
   "id": "dceab3a5",
   "metadata": {
    "execution": {
     "iopub.execute_input": "2021-09-07T10:07:13.855084Z",
     "iopub.status.busy": "2021-09-07T10:07:13.854466Z",
     "iopub.status.idle": "2021-09-07T10:07:13.872041Z",
     "shell.execute_reply": "2021-09-07T10:07:13.871532Z"
    },
    "papermill": {
     "duration": 0.050882,
     "end_time": "2021-09-07T10:07:13.872170",
     "exception": false,
     "start_time": "2021-09-07T10:07:13.821288",
     "status": "completed"
    },
    "tags": []
   },
   "outputs": [
    {
     "data": {
      "text/plain": [
       "((60000, 28, 28), (60000,))"
      ]
     },
     "execution_count": 6,
     "metadata": {},
     "output_type": "execute_result"
    }
   ],
   "source": [
    "train_images.shape, train_labels.shape"
   ]
  },
  {
   "cell_type": "code",
   "execution_count": 7,
   "id": "f50dc2bb",
   "metadata": {
    "execution": {
     "iopub.execute_input": "2021-09-07T10:07:13.935872Z",
     "iopub.status.busy": "2021-09-07T10:07:13.935249Z",
     "iopub.status.idle": "2021-09-07T10:07:14.063461Z",
     "shell.execute_reply": "2021-09-07T10:07:14.062723Z"
    },
    "papermill": {
     "duration": 0.162782,
     "end_time": "2021-09-07T10:07:14.063613",
     "exception": false,
     "start_time": "2021-09-07T10:07:13.900831",
     "status": "completed"
    },
    "tags": []
   },
   "outputs": [],
   "source": [
    "test_images = mnist.test_images()\n",
    "test_labels = mnist.test_labels()"
   ]
  },
  {
   "cell_type": "code",
   "execution_count": 8,
   "id": "fc38cf1b",
   "metadata": {
    "execution": {
     "iopub.execute_input": "2021-09-07T10:07:14.134441Z",
     "iopub.status.busy": "2021-09-07T10:07:14.133808Z",
     "iopub.status.idle": "2021-09-07T10:07:14.149218Z",
     "shell.execute_reply": "2021-09-07T10:07:14.148515Z"
    },
    "papermill": {
     "duration": 0.052845,
     "end_time": "2021-09-07T10:07:14.149354",
     "exception": false,
     "start_time": "2021-09-07T10:07:14.096509",
     "status": "completed"
    },
    "tags": []
   },
   "outputs": [
    {
     "data": {
      "text/plain": [
       "((10000, 28, 28), (10000,))"
      ]
     },
     "execution_count": 8,
     "metadata": {},
     "output_type": "execute_result"
    }
   ],
   "source": [
    "test_images.shape, test_labels.shape"
   ]
  },
  {
   "cell_type": "code",
   "execution_count": 9,
   "id": "f9ed8fe0",
   "metadata": {
    "execution": {
     "iopub.execute_input": "2021-09-07T10:07:14.222009Z",
     "iopub.status.busy": "2021-09-07T10:07:14.221400Z",
     "iopub.status.idle": "2021-09-07T10:07:14.380794Z",
     "shell.execute_reply": "2021-09-07T10:07:14.381581Z"
    },
    "papermill": {
     "duration": 0.200349,
     "end_time": "2021-09-07T10:07:14.381804",
     "exception": false,
     "start_time": "2021-09-07T10:07:14.181455",
     "status": "completed"
    },
    "tags": []
   },
   "outputs": [
    {
     "name": "stdout",
     "output_type": "stream",
     "text": [
      "2\n"
     ]
    },
    {
     "data": {
      "text/plain": [
       "<matplotlib.image.AxesImage at 0x7f341f916d68>"
      ]
     },
     "execution_count": 9,
     "metadata": {},
     "output_type": "execute_result"
    },
    {
     "data": {
      "image/png": "[encoded data removed]",
      "text/plain": [
       "<Figure size 432x288 with 1 Axes>"
      ]
     },
     "metadata": {
      "needs_background": "light"
     },
     "output_type": "display_data"
    }
   ],
   "source": [
    "image_index = 7776 # You may select anything up to 60,000\n",
    "print(train_labels[image_index]) \n",
    "plt.imshow(train_images[image_index], cmap='Greys')"
   ]
  },
  {
   "cell_type": "markdown",
   "id": "a8d2388d",
   "metadata": {
    "papermill": {
     "duration": 0.030293,
     "end_time": "2021-09-07T10:07:14.443750",
     "exception": false,
     "start_time": "2021-09-07T10:07:14.413457",
     "status": "completed"
    },
    "tags": []
   },
   "source": [
    "## Filter data to get 3 and 8 out"
   ]
  },
  {
   "cell_type": "code",
   "execution_count": 10,
   "id": "776f7fc7",
   "metadata": {
    "execution": {
     "iopub.execute_input": "2021-09-07T10:07:14.510557Z",
     "iopub.status.busy": "2021-09-07T10:07:14.509921Z",
     "iopub.status.idle": "2021-09-07T10:07:14.529671Z",
     "shell.execute_reply": "2021-09-07T10:07:14.530173Z"
    },
    "papermill": {
     "duration": 0.055657,
     "end_time": "2021-09-07T10:07:14.530383",
     "exception": false,
     "start_time": "2021-09-07T10:07:14.474726",
     "status": "completed"
    },
    "tags": []
   },
   "outputs": [],
   "source": [
    "train_filter = np.where((train_labels == 3 ) | (train_labels == 8))\n",
    "test_filter = np.where((test_labels == 3) | (test_labels == 8))\n",
    "X_train, y_train = train_images[train_filter], train_labels[train_filter]\n",
    "X_test, y_test = test_images[test_filter], test_labels[test_filter]"
   ]
  },
  {
   "cell_type": "markdown",
   "id": "948f0b7e",
   "metadata": {
    "papermill": {
     "duration": 0.02985,
     "end_time": "2021-09-07T10:07:14.590403",
     "exception": false,
     "start_time": "2021-09-07T10:07:14.560553",
     "status": "completed"
    },
    "tags": []
   },
   "source": [
    "We normalize the pizel values in the 0 to 1 range"
   ]
  },
  {
   "cell_type": "code",
   "execution_count": 11,
   "id": "ee4c2166",
   "metadata": {
    "execution": {
     "iopub.execute_input": "2021-09-07T10:07:14.654228Z",
     "iopub.status.busy": "2021-09-07T10:07:14.653622Z",
     "iopub.status.idle": "2021-09-07T10:07:14.707509Z",
     "shell.execute_reply": "2021-09-07T10:07:14.706650Z"
    },
    "papermill": {
     "duration": 0.087481,
     "end_time": "2021-09-07T10:07:14.707722",
     "exception": false,
     "start_time": "2021-09-07T10:07:14.620241",
     "status": "completed"
    },
    "tags": []
   },
   "outputs": [],
   "source": [
    "X_train = X_train/255.\n",
    "X_test = X_test/255."
   ]
  },
  {
   "cell_type": "markdown",
   "id": "ddcf4fab",
   "metadata": {
    "papermill": {
     "duration": 0.030129,
     "end_time": "2021-09-07T10:07:14.769368",
     "exception": false,
     "start_time": "2021-09-07T10:07:14.739239",
     "status": "completed"
    },
    "tags": []
   },
   "source": [
    "And setup the labels as 1 (when the digit is 3) and 0 (when the digit is 8)"
   ]
  },
  {
   "cell_type": "code",
   "execution_count": 12,
   "id": "7dc908f2",
   "metadata": {
    "execution": {
     "iopub.execute_input": "2021-09-07T10:07:14.834448Z",
     "iopub.status.busy": "2021-09-07T10:07:14.833800Z",
     "iopub.status.idle": "2021-09-07T10:07:14.847121Z",
     "shell.execute_reply": "2021-09-07T10:07:14.846621Z"
    },
    "papermill": {
     "duration": 0.047777,
     "end_time": "2021-09-07T10:07:14.847253",
     "exception": false,
     "start_time": "2021-09-07T10:07:14.799476",
     "status": "completed"
    },
    "tags": []
   },
   "outputs": [],
   "source": [
    "y_train = 1*(y_train==3)\n",
    "y_test = 1*(y_test==3)"
   ]
  },
  {
   "cell_type": "code",
   "execution_count": 13,
   "id": "01e4e969",
   "metadata": {
    "execution": {
     "iopub.execute_input": "2021-09-07T10:07:14.911366Z",
     "iopub.status.busy": "2021-09-07T10:07:14.910758Z",
     "iopub.status.idle": "2021-09-07T10:07:14.925901Z",
     "shell.execute_reply": "2021-09-07T10:07:14.926441Z"
    },
    "papermill": {
     "duration": 0.049156,
     "end_time": "2021-09-07T10:07:14.926596",
     "exception": false,
     "start_time": "2021-09-07T10:07:14.877440",
     "status": "completed"
    },
    "tags": []
   },
   "outputs": [
    {
     "data": {
      "text/plain": [
       "((11982, 28, 28), (1984, 28, 28))"
      ]
     },
     "execution_count": 13,
     "metadata": {},
     "output_type": "execute_result"
    }
   ],
   "source": [
    "X_train.shape, X_test.shape"
   ]
  },
  {
   "cell_type": "markdown",
   "id": "5ccf3f85",
   "metadata": {
    "papermill": {
     "duration": 0.030237,
     "end_time": "2021-09-07T10:07:14.987244",
     "exception": false,
     "start_time": "2021-09-07T10:07:14.957007",
     "status": "completed"
    },
    "tags": []
   },
   "source": [
    "We reshape the data to flatten the image pixels into a set of features or co-variates:"
   ]
  },
  {
   "cell_type": "code",
   "execution_count": 14,
   "id": "5286a4a3",
   "metadata": {
    "execution": {
     "iopub.execute_input": "2021-09-07T10:07:15.053594Z",
     "iopub.status.busy": "2021-09-07T10:07:15.052995Z",
     "iopub.status.idle": "2021-09-07T10:07:15.070337Z",
     "shell.execute_reply": "2021-09-07T10:07:15.069798Z"
    },
    "papermill": {
     "duration": 0.052653,
     "end_time": "2021-09-07T10:07:15.070470",
     "exception": false,
     "start_time": "2021-09-07T10:07:15.017817",
     "status": "completed"
    },
    "tags": []
   },
   "outputs": [
    {
     "data": {
      "text/plain": [
       "((11982, 784), (1984, 784))"
      ]
     },
     "execution_count": 14,
     "metadata": {},
     "output_type": "execute_result"
    }
   ],
   "source": [
    "X_train = X_train.reshape(X_train.shape[0], -1)\n",
    "X_test = X_test.reshape(X_test.shape[0], -1)\n",
    "X_train.shape, X_test.shape"
   ]
  },
  {
   "cell_type": "code",
   "execution_count": 15,
   "id": "73c5f88a",
   "metadata": {
    "execution": {
     "iopub.execute_input": "2021-09-07T10:07:15.140046Z",
     "iopub.status.busy": "2021-09-07T10:07:15.139423Z",
     "iopub.status.idle": "2021-09-07T10:07:15.159075Z",
     "shell.execute_reply": "2021-09-07T10:07:15.159538Z"
    },
    "papermill": {
     "duration": 0.058496,
     "end_time": "2021-09-07T10:07:15.159697",
     "exception": false,
     "start_time": "2021-09-07T10:07:15.101201",
     "status": "completed"
    },
    "tags": []
   },
   "outputs": [],
   "source": [
    "#Impoting functions from 'Kudzu'\n",
    "from kudzu.model import Model\n",
    "from kudzu.train import Learner\n",
    "from kudzu.optim import GD\n",
    "from kudzu.data import Data, Sampler,Dataloader\n",
    "\n",
    "from kudzu.callbacks import AccCallback\n",
    "from kudzu.callbacks import ClfCallback\n",
    "\n",
    "from kudzu.loss import MSE\n",
    "\n",
    "from kudzu.layer import Sigmoid,Relu\n",
    "from kudzu.layer import Affine"
   ]
  },
  {
   "cell_type": "markdown",
   "id": "bc01172a",
   "metadata": {
    "papermill": {
     "duration": 0.030758,
     "end_time": "2021-09-07T10:07:15.221404",
     "exception": false,
     "start_time": "2021-09-07T10:07:15.190646",
     "status": "completed"
    },
    "tags": []
   },
   "source": [
    "### Let us create a `Config` class, to store important parameters. \n",
    "This class essentially plays the role of a dictionary."
   ]
  },
  {
   "cell_type": "code",
   "execution_count": 16,
   "id": "978281aa",
   "metadata": {
    "execution": {
     "iopub.execute_input": "2021-09-07T10:07:15.289702Z",
     "iopub.status.busy": "2021-09-07T10:07:15.289090Z",
     "iopub.status.idle": "2021-09-07T10:07:15.303196Z",
     "shell.execute_reply": "2021-09-07T10:07:15.302713Z"
    },
    "papermill": {
     "duration": 0.051422,
     "end_time": "2021-09-07T10:07:15.303337",
     "exception": false,
     "start_time": "2021-09-07T10:07:15.251915",
     "status": "completed"
    },
    "tags": []
   },
   "outputs": [],
   "source": [
    "class Config:\n",
    "    pass\n",
    "config = Config()\n",
    "config.lr = 0.001\n",
    "config.num_epochs = 250\n",
    "config.bs = 50"
   ]
  },
  {
   "cell_type": "markdown",
   "id": "1385fa59",
   "metadata": {
    "papermill": {
     "duration": 0.030594,
     "end_time": "2021-09-07T10:07:15.364279",
     "exception": false,
     "start_time": "2021-09-07T10:07:15.333685",
     "status": "completed"
    },
    "tags": []
   },
   "source": [
    "### Running Models with the Training data\n",
    "Details about the network layers:\n",
    "- A first affine layer has 784 inputs and does 100 affine transforms. These are followed by a Relu\n",
    "- A second affine layer has 100 inputs from the 100 activations of the past layer, and does 100 affine transforms. These are followed by a Relu\n",
    "- A third affine layer has 100 activations and does 2 affine transformations to create an embedding for visualization. There is no non-linearity here.\n",
    "- A final \"logistic regression\" which has an affine transform from 2 inputs to 1 output, which is squeezed through a sigmoid.\n"
   ]
  },
  {
   "cell_type": "code",
   "execution_count": 17,
   "id": "2b9c66db",
   "metadata": {
    "execution": {
     "iopub.execute_input": "2021-09-07T10:07:15.435880Z",
     "iopub.status.busy": "2021-09-07T10:07:15.435263Z",
     "iopub.status.idle": "2021-09-07T10:07:15.446859Z",
     "shell.execute_reply": "2021-09-07T10:07:15.447349Z"
    },
    "papermill": {
     "duration": 0.052489,
     "end_time": "2021-09-07T10:07:15.447499",
     "exception": false,
     "start_time": "2021-09-07T10:07:15.395010",
     "status": "completed"
    },
    "tags": []
   },
   "outputs": [],
   "source": [
    "data = Data(X_train, y_train.reshape(-1,1))\n",
    "sampler = Sampler(data, config.bs, shuffle=True)\n",
    "\n",
    "dl = Dataloader(data, sampler)\n",
    "\n",
    "opt = GD(config.lr)\n",
    "loss = MSE()"
   ]
  },
  {
   "cell_type": "code",
   "execution_count": 18,
   "id": "b275e4c2",
   "metadata": {
    "execution": {
     "iopub.execute_input": "2021-09-07T10:07:15.515804Z",
     "iopub.status.busy": "2021-09-07T10:07:15.515205Z",
     "iopub.status.idle": "2021-09-07T10:07:15.528258Z",
     "shell.execute_reply": "2021-09-07T10:07:15.527768Z"
    },
    "papermill": {
     "duration": 0.049569,
     "end_time": "2021-09-07T10:07:15.528392",
     "exception": false,
     "start_time": "2021-09-07T10:07:15.478823",
     "status": "completed"
    },
    "tags": []
   },
   "outputs": [],
   "source": [
    "training_data_x = X_train\n",
    "testing_data_x = X_test\n",
    "training_data_y = y_train.reshape(-1,1)\n",
    "testing_data_y = y_test.reshape(-1,1)"
   ]
  },
  {
   "cell_type": "code",
   "execution_count": 19,
   "id": "76951160",
   "metadata": {
    "execution": {
     "iopub.execute_input": "2021-09-07T10:07:15.596328Z",
     "iopub.status.busy": "2021-09-07T10:07:15.595723Z",
     "iopub.status.idle": "2021-09-07T10:07:15.614262Z",
     "shell.execute_reply": "2021-09-07T10:07:15.613745Z"
    },
    "papermill": {
     "duration": 0.055416,
     "end_time": "2021-09-07T10:07:15.614415",
     "exception": false,
     "start_time": "2021-09-07T10:07:15.558999",
     "status": "completed"
    },
    "tags": []
   },
   "outputs": [
    {
     "name": "stdout",
     "output_type": "stream",
     "text": [
      "xavier\n",
      "xavier\n",
      "xavier\n",
      "xavier\n",
      "xavier\n"
     ]
    }
   ],
   "source": [
    "layers = [Affine(\"first\", 784, 100), Relu(\"first\"), Affine(\"second\", 100, 100), Relu(\"second\"), Affine(\"third\", 100, 2), Affine(\"last\", 2, 1), Sigmoid(\"last\")]\n",
    "model_nn = Model(layers)\n",
    "model_lr = Model([Affine(\"logits\", 784, 1), Sigmoid(\"sigmoid\")])"
   ]
  },
  {
   "cell_type": "code",
   "execution_count": 20,
   "id": "6eede77a",
   "metadata": {
    "execution": {
     "iopub.execute_input": "2021-09-07T10:07:15.684930Z",
     "iopub.status.busy": "2021-09-07T10:07:15.683793Z",
     "iopub.status.idle": "2021-09-07T10:07:15.697927Z",
     "shell.execute_reply": "2021-09-07T10:07:15.697428Z"
    },
    "papermill": {
     "duration": 0.052469,
     "end_time": "2021-09-07T10:07:15.698061",
     "exception": false,
     "start_time": "2021-09-07T10:07:15.645592",
     "status": "completed"
    },
    "tags": []
   },
   "outputs": [],
   "source": [
    "nn_learner = Learner(loss, model_nn, opt, config.num_epochs)\n",
    "acc_nn = ClfCallback(nn_learner, config.bs, training_data_x , testing_data_x, training_data_y, testing_data_y)\n",
    "nn_learner.set_callbacks([acc_nn])"
   ]
  },
  {
   "cell_type": "code",
   "execution_count": 21,
   "id": "877b6cc7",
   "metadata": {
    "execution": {
     "iopub.execute_input": "2021-09-07T10:07:15.774325Z",
     "iopub.status.busy": "2021-09-07T10:07:15.773698Z",
     "iopub.status.idle": "2021-09-07T10:07:15.789827Z",
     "shell.execute_reply": "2021-09-07T10:07:15.789305Z"
    },
    "papermill": {
     "duration": 0.05263,
     "end_time": "2021-09-07T10:07:15.789974",
     "exception": false,
     "start_time": "2021-09-07T10:07:15.737344",
     "status": "completed"
    },
    "tags": []
   },
   "outputs": [],
   "source": [
    "lr_learner = Learner(loss, model_lr, opt, config.num_epochs)\n",
    "acc_lr = ClfCallback(lr_learner, config.bs, training_data_x , testing_data_x, training_data_y, testing_data_y)\n",
    "lr_learner.set_callbacks([acc_lr])"
   ]
  },
  {
   "cell_type": "code",
   "execution_count": 22,
   "id": "d9b133c3",
   "metadata": {
    "execution": {
     "iopub.execute_input": "2021-09-07T10:07:15.857384Z",
     "iopub.status.busy": "2021-09-07T10:07:15.856781Z",
     "iopub.status.idle": "2021-09-07T10:08:49.783532Z",
     "shell.execute_reply": "2021-09-07T10:08:49.784381Z"
    },
    "papermill": {
     "duration": 93.963204,
     "end_time": "2021-09-07T10:08:49.784544",
     "exception": false,
     "start_time": "2021-09-07T10:07:15.821340",
     "status": "completed"
    },
    "tags": []
   },
   "outputs": [
    {
     "name": "stdout",
     "output_type": "stream",
     "text": [
      "Epoch 0, Loss 0.2483\n",
      "Training Accuracy: 0.5787, Testing Accuracy: 0.5978\n",
      "\n"
     ]
    },
    {
     "name": "stdout",
     "output_type": "stream",
     "text": [
      "Epoch 10, Loss 0.2246\n",
      "Training Accuracy: 0.8684, Testing Accuracy: 0.8821\n",
      "\n"
     ]
    },
    {
     "name": "stdout",
     "output_type": "stream",
     "text": [
      "Epoch 20, Loss 0.146\n",
      "Training Accuracy: 0.9014, Testing Accuracy: 0.9057\n",
      "\n"
     ]
    },
    {
     "name": "stdout",
     "output_type": "stream",
     "text": [
      "Epoch 30, Loss 0.0779\n",
      "Training Accuracy: 0.9220, Testing Accuracy: 0.9345\n",
      "\n"
     ]
    },
    {
     "name": "stdout",
     "output_type": "stream",
     "text": [
      "Epoch 40, Loss 0.0558\n",
      "Training Accuracy: 0.9373, Testing Accuracy: 0.9511\n",
      "\n"
     ]
    },
    {
     "name": "stdout",
     "output_type": "stream",
     "text": [
      "Epoch 50, Loss 0.046\n",
      "Training Accuracy: 0.9471, Testing Accuracy: 0.9556\n",
      "\n"
     ]
    },
    {
     "name": "stdout",
     "output_type": "stream",
     "text": [
      "Epoch 60, Loss 0.0405\n",
      "Training Accuracy: 0.9532, Testing Accuracy: 0.9592\n",
      "\n"
     ]
    },
    {
     "name": "stdout",
     "output_type": "stream",
     "text": [
      "Epoch 70, Loss 0.0371\n",
      "Training Accuracy: 0.9570, Testing Accuracy: 0.9607\n",
      "\n"
     ]
    },
    {
     "name": "stdout",
     "output_type": "stream",
     "text": [
      "Epoch 80, Loss 0.0346\n",
      "Training Accuracy: 0.9599, Testing Accuracy: 0.9627\n",
      "\n"
     ]
    },
    {
     "name": "stdout",
     "output_type": "stream",
     "text": [
      "Epoch 90, Loss 0.0327\n",
      "Training Accuracy: 0.9623, Testing Accuracy: 0.9657\n",
      "\n"
     ]
    },
    {
     "name": "stdout",
     "output_type": "stream",
     "text": [
      "Epoch 100, Loss 0.0311\n",
      "Training Accuracy: 0.9644, Testing Accuracy: 0.9667\n",
      "\n"
     ]
    },
    {
     "name": "stdout",
     "output_type": "stream",
     "text": [
      "Epoch 110, Loss 0.0299\n",
      "Training Accuracy: 0.9658, Testing Accuracy: 0.9688\n",
      "\n"
     ]
    },
    {
     "name": "stdout",
     "output_type": "stream",
     "text": [
      "Epoch 120, Loss 0.0288\n",
      "Training Accuracy: 0.9668, Testing Accuracy: 0.9688\n",
      "\n"
     ]
    },
    {
     "name": "stdout",
     "output_type": "stream",
     "text": [
      "Epoch 130, Loss 0.0278\n",
      "Training Accuracy: 0.9675, Testing Accuracy: 0.9688\n",
      "\n"
     ]
    },
    {
     "name": "stdout",
     "output_type": "stream",
     "text": [
      "Epoch 140, Loss 0.027\n",
      "Training Accuracy: 0.9681, Testing Accuracy: 0.9688\n",
      "\n"
     ]
    },
    {
     "name": "stdout",
     "output_type": "stream",
     "text": [
      "Epoch 150, Loss 0.0262\n",
      "Training Accuracy: 0.9693, Testing Accuracy: 0.9693\n",
      "\n"
     ]
    },
    {
     "name": "stdout",
     "output_type": "stream",
     "text": [
      "Epoch 160, Loss 0.0255\n",
      "Training Accuracy: 0.9703, Testing Accuracy: 0.9703\n",
      "\n"
     ]
    },
    {
     "name": "stdout",
     "output_type": "stream",
     "text": [
      "Epoch 170, Loss 0.0249\n",
      "Training Accuracy: 0.9711, Testing Accuracy: 0.9718\n",
      "\n"
     ]
    },
    {
     "name": "stdout",
     "output_type": "stream",
     "text": [
      "Epoch 180, Loss 0.0243\n",
      "Training Accuracy: 0.9718, Testing Accuracy: 0.9723\n",
      "\n"
     ]
    },
    {
     "name": "stdout",
     "output_type": "stream",
     "text": [
      "Epoch 190, Loss 0.0237\n",
      "Training Accuracy: 0.9723, Testing Accuracy: 0.9718\n",
      "\n"
     ]
    },
    {
     "name": "stdout",
     "output_type": "stream",
     "text": [
      "Epoch 200, Loss 0.0232\n",
      "Training Accuracy: 0.9730, Testing Accuracy: 0.9708\n",
      "\n"
     ]
    },
    {
     "name": "stdout",
     "output_type": "stream",
     "text": [
      "Epoch 210, Loss 0.0227\n",
      "Training Accuracy: 0.9737, Testing Accuracy: 0.9713\n",
      "\n"
     ]
    },
    {
     "name": "stdout",
     "output_type": "stream",
     "text": [
      "Epoch 220, Loss 0.0223\n",
      "Training Accuracy: 0.9739, Testing Accuracy: 0.9713\n",
      "\n"
     ]
    },
    {
     "name": "stdout",
     "output_type": "stream",
     "text": [
      "Epoch 230, Loss 0.0218\n",
      "Training Accuracy: 0.9749, Testing Accuracy: 0.9713\n",
      "\n"
     ]
    },
    {
     "name": "stdout",
     "output_type": "stream",
     "text": [
      "Epoch 240, Loss 0.0214\n",
      "Training Accuracy: 0.9750, Testing Accuracy: 0.9718\n",
      "\n"
     ]
    },
    {
     "data": {
      "text/plain": [
       "0.04365134360850737"
      ]
     },
     "execution_count": 22,
     "metadata": {},
     "output_type": "execute_result"
    }
   ],
   "source": [
    "nn_learner.train_loop(dl)"
   ]
  },
  {
   "cell_type": "code",
   "execution_count": 23,
   "id": "e0163366",
   "metadata": {
    "execution": {
     "iopub.execute_input": "2021-09-07T10:08:49.875990Z",
     "iopub.status.busy": "2021-09-07T10:08:49.875375Z",
     "iopub.status.idle": "2021-09-07T10:09:06.373611Z",
     "shell.execute_reply": "2021-09-07T10:09:06.374490Z"
    },
    "papermill": {
     "duration": 16.550303,
     "end_time": "2021-09-07T10:09:06.374657",
     "exception": false,
     "start_time": "2021-09-07T10:08:49.824354",
     "status": "completed"
    },
    "tags": []
   },
   "outputs": [
    {
     "name": "stdout",
     "output_type": "stream",
     "text": [
      "Epoch 0, Loss 0.2373\n",
      "Training Accuracy: 0.6696, Testing Accuracy: 0.6900\n",
      "\n"
     ]
    },
    {
     "name": "stdout",
     "output_type": "stream",
     "text": [
      "Epoch 10, Loss 0.1046\n",
      "Training Accuracy: 0.9011, Testing Accuracy: 0.9113\n",
      "\n"
     ]
    },
    {
     "name": "stdout",
     "output_type": "stream",
     "text": [
      "Epoch 20, Loss 0.0795\n",
      "Training Accuracy: 0.9273, Testing Accuracy: 0.9380\n",
      "\n"
     ]
    },
    {
     "name": "stdout",
     "output_type": "stream",
     "text": [
      "Epoch 30, Loss 0.0679\n",
      "Training Accuracy: 0.9372, Testing Accuracy: 0.9516\n",
      "\n"
     ]
    },
    {
     "name": "stdout",
     "output_type": "stream",
     "text": [
      "Epoch 40, Loss 0.061\n",
      "Training Accuracy: 0.9430, Testing Accuracy: 0.9546\n",
      "\n"
     ]
    },
    {
     "name": "stdout",
     "output_type": "stream",
     "text": [
      "Epoch 50, Loss 0.0564\n",
      "Training Accuracy: 0.9481, Testing Accuracy: 0.9556\n",
      "\n"
     ]
    },
    {
     "name": "stdout",
     "output_type": "stream",
     "text": [
      "Epoch 60, Loss 0.053\n",
      "Training Accuracy: 0.9508, Testing Accuracy: 0.9577\n",
      "\n"
     ]
    },
    {
     "name": "stdout",
     "output_type": "stream",
     "text": [
      "Epoch 70, Loss 0.0505\n",
      "Training Accuracy: 0.9523, Testing Accuracy: 0.9592\n",
      "\n"
     ]
    },
    {
     "name": "stdout",
     "output_type": "stream",
     "text": [
      "Epoch 80, Loss 0.0484\n",
      "Training Accuracy: 0.9533, Testing Accuracy: 0.9607\n",
      "\n"
     ]
    },
    {
     "name": "stdout",
     "output_type": "stream",
     "text": [
      "Epoch 90, Loss 0.0468\n",
      "Training Accuracy: 0.9549, Testing Accuracy: 0.9612\n",
      "\n"
     ]
    },
    {
     "name": "stdout",
     "output_type": "stream",
     "text": [
      "Epoch 100, Loss 0.0454\n",
      "Training Accuracy: 0.9559, Testing Accuracy: 0.9622\n",
      "\n"
     ]
    },
    {
     "name": "stdout",
     "output_type": "stream",
     "text": [
      "Epoch 110, Loss 0.0442\n",
      "Training Accuracy: 0.9568, Testing Accuracy: 0.9632\n",
      "\n"
     ]
    },
    {
     "name": "stdout",
     "output_type": "stream",
     "text": [
      "Epoch 120, Loss 0.0432\n",
      "Training Accuracy: 0.9574, Testing Accuracy: 0.9642\n",
      "\n"
     ]
    },
    {
     "name": "stdout",
     "output_type": "stream",
     "text": [
      "Epoch 130, Loss 0.0423\n",
      "Training Accuracy: 0.9580, Testing Accuracy: 0.9647\n",
      "\n"
     ]
    },
    {
     "name": "stdout",
     "output_type": "stream",
     "text": [
      "Epoch 140, Loss 0.0415\n",
      "Training Accuracy: 0.9589, Testing Accuracy: 0.9642\n",
      "\n"
     ]
    },
    {
     "name": "stdout",
     "output_type": "stream",
     "text": [
      "Epoch 150, Loss 0.0407\n",
      "Training Accuracy: 0.9594, Testing Accuracy: 0.9647\n",
      "\n"
     ]
    },
    {
     "name": "stdout",
     "output_type": "stream",
     "text": [
      "Epoch 160, Loss 0.0401\n",
      "Training Accuracy: 0.9598, Testing Accuracy: 0.9667\n",
      "\n"
     ]
    },
    {
     "name": "stdout",
     "output_type": "stream",
     "text": [
      "Epoch 170, Loss 0.0395\n",
      "Training Accuracy: 0.9603, Testing Accuracy: 0.9657\n",
      "\n"
     ]
    },
    {
     "name": "stdout",
     "output_type": "stream",
     "text": [
      "Epoch 180, Loss 0.039\n",
      "Training Accuracy: 0.9608, Testing Accuracy: 0.9662\n",
      "\n"
     ]
    },
    {
     "name": "stdout",
     "output_type": "stream",
     "text": [
      "Epoch 190, Loss 0.0385\n",
      "Training Accuracy: 0.9608, Testing Accuracy: 0.9662\n",
      "\n"
     ]
    },
    {
     "name": "stdout",
     "output_type": "stream",
     "text": [
      "Epoch 200, Loss 0.038\n",
      "Training Accuracy: 0.9609, Testing Accuracy: 0.9667\n",
      "\n"
     ]
    },
    {
     "name": "stdout",
     "output_type": "stream",
     "text": [
      "Epoch 210, Loss 0.0376\n",
      "Training Accuracy: 0.9612, Testing Accuracy: 0.9667\n",
      "\n"
     ]
    },
    {
     "name": "stdout",
     "output_type": "stream",
     "text": [
      "Epoch 220, Loss 0.0372\n",
      "Training Accuracy: 0.9612, Testing Accuracy: 0.9667\n",
      "\n"
     ]
    },
    {
     "name": "stdout",
     "output_type": "stream",
     "text": [
      "Epoch 230, Loss 0.0368\n",
      "Training Accuracy: 0.9614, Testing Accuracy: 0.9667\n",
      "\n"
     ]
    },
    {
     "name": "stdout",
     "output_type": "stream",
     "text": [
      "Epoch 240, Loss 0.0365\n",
      "Training Accuracy: 0.9615, Testing Accuracy: 0.9667\n",
      "\n"
     ]
    },
    {
     "data": {
      "text/plain": [
       "0.034609701440379045"
      ]
     },
     "execution_count": 23,
     "metadata": {},
     "output_type": "execute_result"
    }
   ],
   "source": [
    "lr_learner.train_loop(dl)"
   ]
  },
  {
   "cell_type": "code",
   "execution_count": 24,
   "id": "ca410940",
   "metadata": {
    "execution": {
     "iopub.execute_input": "2021-09-07T10:09:06.479965Z",
     "iopub.status.busy": "2021-09-07T10:09:06.479337Z",
     "iopub.status.idle": "2021-09-07T10:09:06.749427Z",
     "shell.execute_reply": "2021-09-07T10:09:06.748921Z"
    },
    "papermill": {
     "duration": 0.327812,
     "end_time": "2021-09-07T10:09:06.749559",
     "exception": false,
     "start_time": "2021-09-07T10:09:06.421747",
     "status": "completed"
    },
    "tags": []
   },
   "outputs": [
    {
     "data": {
      "text/plain": [
       "<matplotlib.legend.Legend at 0x7f341f4f4e48>"
      ]
     },
     "execution_count": 24,
     "metadata": {},
     "output_type": "execute_result"
    },
    {
     "data": {
      "image/png": "[encoded data removed]",
      "text/plain": [
       "<Figure size 1080x720 with 1 Axes>"
      ]
     },
     "metadata": {
      "needs_background": "light"
     },
     "output_type": "display_data"
    }
   ],
   "source": [
    "#comparing the results of NN and LR\n",
    "plt.figure(figsize=(15,10))\n",
    "\n",
    "# Neural Network plots\n",
    "plt.plot(acc_nn.accuracies, 'r-', label = \"Training Accuracies - NN\")\n",
    "plt.plot(acc_nn.test_accuracies, 'g-', label = \"Testing Accuracies - NN\")\n",
    "\n",
    "# Logistic Regression plots\n",
    "plt.plot(acc_lr.accuracies, 'k-', label = \"Training Accuracies - LR\")\n",
    "plt.plot(acc_lr.test_accuracies, 'b-', label = \"Testing Accuracies - LR\")\n",
    "plt.legend()"
   ]
  },
  {
   "cell_type": "markdown",
   "id": "80dfb35c",
   "metadata": {
    "papermill": {
     "duration": 0.048054,
     "end_time": "2021-09-07T10:09:06.846445",
     "exception": false,
     "start_time": "2021-09-07T10:09:06.798391",
     "status": "completed"
    },
    "tags": []
   },
   "source": [
    "#### Plotting the outputs of this layer of the NN.\n"
   ]
  },
  {
   "cell_type": "code",
   "execution_count": 25,
   "id": "45eb2ff5",
   "metadata": {
    "execution": {
     "iopub.execute_input": "2021-09-07T10:09:06.949576Z",
     "iopub.status.busy": "2021-09-07T10:09:06.948103Z",
     "iopub.status.idle": "2021-09-07T10:09:06.971962Z",
     "shell.execute_reply": "2021-09-07T10:09:06.972896Z"
    },
    "papermill": {
     "duration": 0.078717,
     "end_time": "2021-09-07T10:09:06.973069",
     "exception": false,
     "start_time": "2021-09-07T10:09:06.894352",
     "status": "completed"
    },
    "tags": []
   },
   "outputs": [],
   "source": [
    "new_model = Model(layers[:-2])\n",
    "testing_plot = new_model(testing_data_x)"
   ]
  },
  {
   "cell_type": "code",
   "execution_count": 26,
   "id": "4c0a5485",
   "metadata": {
    "execution": {
     "iopub.execute_input": "2021-09-07T10:09:07.083734Z",
     "iopub.status.busy": "2021-09-07T10:09:07.083110Z",
     "iopub.status.idle": "2021-09-07T10:09:07.313541Z",
     "shell.execute_reply": "2021-09-07T10:09:07.314025Z"
    },
    "papermill": {
     "duration": 0.292083,
     "end_time": "2021-09-07T10:09:07.314173",
     "exception": false,
     "start_time": "2021-09-07T10:09:07.022090",
     "status": "completed"
    },
    "tags": []
   },
   "outputs": [
    {
     "data": {
      "text/plain": [
       "Text(0.5, 1.0, 'Outputs')"
      ]
     },
     "execution_count": 26,
     "metadata": {},
     "output_type": "execute_result"
    },
    {
     "data": {
      "image/png": "[encoded data removed]",
      "text/plain": [
       "<Figure size 576x504 with 1 Axes>"
      ]
     },
     "metadata": {
      "needs_background": "light"
     },
     "output_type": "display_data"
    }
   ],
   "source": [
    "# Plotting the scatter plot of points and color coding by class\n",
    "plt.figure(figsize=(8,7))\n",
    "plt.scatter(testing_plot[:,0], testing_plot[:,1], alpha = 0.1, c = y_test.ravel());\n",
    "plt.title('Outputs')"
   ]
  },
  {
   "cell_type": "markdown",
   "id": "a74fcf8f",
   "metadata": {
    "papermill": {
     "duration": 0.051061,
     "end_time": "2021-09-07T10:09:07.416418",
     "exception": false,
     "start_time": "2021-09-07T10:09:07.365357",
     "status": "completed"
    },
    "tags": []
   },
   "source": [
    "Probability contours"
   ]
  },
  {
   "cell_type": "code",
   "execution_count": 27,
   "id": "d0afc8e3",
   "metadata": {
    "execution": {
     "iopub.execute_input": "2021-09-07T10:09:07.528027Z",
     "iopub.status.busy": "2021-09-07T10:09:07.526460Z",
     "iopub.status.idle": "2021-09-07T10:09:07.537757Z",
     "shell.execute_reply": "2021-09-07T10:09:07.538217Z"
    },
    "papermill": {
     "duration": 0.071025,
     "end_time": "2021-09-07T10:09:07.538402",
     "exception": false,
     "start_time": "2021-09-07T10:09:07.467377",
     "status": "completed"
    },
    "tags": []
   },
   "outputs": [],
   "source": [
    "model_prob = Model(layers[-2:]) "
   ]
  },
  {
   "cell_type": "code",
   "execution_count": 28,
   "id": "9b96e238",
   "metadata": {
    "execution": {
     "iopub.execute_input": "2021-09-07T10:09:07.649432Z",
     "iopub.status.busy": "2021-09-07T10:09:07.648325Z",
     "iopub.status.idle": "2021-09-07T10:09:07.663345Z",
     "shell.execute_reply": "2021-09-07T10:09:07.663802Z"
    },
    "papermill": {
     "duration": 0.074291,
     "end_time": "2021-09-07T10:09:07.663957",
     "exception": false,
     "start_time": "2021-09-07T10:09:07.589666",
     "status": "completed"
    },
    "tags": []
   },
   "outputs": [],
   "source": [
    "#creating the x and y ranges according to the above generated plot.\n",
    "x_range = np.linspace(-4, 1, 100) \n",
    "y_range = np.linspace(-6, 6, 100) \n",
    "x_grid, y_grid = np.meshgrid(x_range, y_range) # x_grid and y_grig are of size 100 X 100\n",
    "\n",
    "# converting x_grid and y_grid to continuous arrays\n",
    "x_gridflat = np.ravel(x_grid)\n",
    "y_gridflat = np.ravel(y_grid)\n",
    "\n",
    "# The last layer of the current model takes two columns as input. Hence transpose of np.vstack() is required.\n",
    "X = np.vstack((x_gridflat, y_gridflat)).T\n",
    "\n",
    "prob_contour = model_prob(X).reshape(100,100) "
   ]
  },
  {
   "cell_type": "code",
   "execution_count": 29,
   "id": "da72499a",
   "metadata": {
    "execution": {
     "iopub.execute_input": "2021-09-07T10:09:07.814279Z",
     "iopub.status.busy": "2021-09-07T10:09:07.812854Z",
     "iopub.status.idle": "2021-09-07T10:09:08.107746Z",
     "shell.execute_reply": "2021-09-07T10:09:08.108203Z"
    },
    "papermill": {
     "duration": 0.352287,
     "end_time": "2021-09-07T10:09:08.108359",
     "exception": false,
     "start_time": "2021-09-07T10:09:07.756072",
     "status": "completed"
    },
    "tags": []
   },
   "outputs": [
    {
     "data": {
      "image/png": "[encoded data removed]",
      "text/plain": [
       "<Figure size 720x648 with 1 Axes>"
      ]
     },
     "metadata": {
      "needs_background": "light"
     },
     "output_type": "display_data"
    }
   ],
   "source": [
    "plt.figure(figsize=(10,9))\n",
    "plt.scatter(testing_plot[:,0], testing_plot[:,1], alpha = 0.1, c = y_test.ravel())\n",
    "contours = plt.contour(x_grid,y_grid,prob_contour)\n",
    "plt.title('Probability Contours')\n",
    "plt.clabel(contours, inline = True );"
   ]
  },
  {
   "cell_type": "code",
   "execution_count": null,
   "id": "e81b4ac7",
   "metadata": {
    "papermill": {
     "duration": 0.053989,
     "end_time": "2021-09-07T10:09:08.216891",
     "exception": false,
     "start_time": "2021-09-07T10:09:08.162902",
     "status": "completed"
    },
    "tags": []
   },
   "outputs": [],
   "source": []
  }
 ],
 "metadata": {
  "kernelspec": {
   "display_name": "Python 3",
   "language": "python",
   "name": "python3"
  },
  "language_info": {
   "codemirror_mode": {
    "name": "ipython",
    "version": 3
   },
   "file_extension": ".py",
   "mimetype": "text/x-python",
   "name": "python",
   "nbconvert_exporter": "python",
   "pygments_lexer": "ipython3",
   "version": "3.6.14"
  },
  "papermill": {
   "default_parameters": {},
   "duration": 119.550573,
   "end_time": "2021-09-07T10:09:08.679809",
   "environment_variables": {},
   "exception": null,
   "input_path": "2020-08-11-part2.ipynb",
   "output_path": "2020-08-11-part2.ipynb",
   "parameters": {},
   "start_time": "2021-09-07T10:07:09.129236",
   "version": "2.3.3"
  }
 },
 "nbformat": 4,
 "nbformat_minor": 5
}