{
 "cells": [
  {
   "cell_type": "markdown",
   "id": "98380cd3",
   "metadata": {
    "papermill": {
     "duration": 0.029855,
     "end_time": "2022-11-02T00:49:32.881978",
     "exception": false,
     "start_time": "2022-11-02T00:49:32.852123",
     "status": "completed"
    },
    "tags": []
   },
   "source": [
    "# Distinguish Your Own Digits (DYOD)"
   ]
  },
  {
   "cell_type": "markdown",
   "id": "ef31240d",
   "metadata": {
    "papermill": {
     "duration": 0.023566,
     "end_time": "2022-11-02T00:49:32.929863",
     "exception": false,
     "start_time": "2022-11-02T00:49:32.906297",
     "status": "completed"
    },
    "tags": []
   },
   "source": [
    "You are going to write a classifier that distinguishes between the number 3 and number 8."
   ]
  },
  {
   "cell_type": "code",
   "execution_count": 1,
   "id": "b15c8646",
   "metadata": {
    "execution": {
     "iopub.execute_input": "2022-11-02T00:49:32.987859Z",
     "iopub.status.busy": "2022-11-02T00:49:32.987250Z",
     "iopub.status.idle": "2022-11-02T00:49:32.998040Z",
     "shell.execute_reply": "2022-11-02T00:49:32.997537Z"
    },
    "papermill": {
     "duration": 0.044749,
     "end_time": "2022-11-02T00:49:32.998165",
     "exception": false,
     "start_time": "2022-11-02T00:49:32.953416",
     "status": "completed"
    },
    "tags": []
   },
   "outputs": [],
   "source": [
    "%load_ext autoreload\n",
    "%autoreload 2"
   ]
  },
  {
   "cell_type": "code",
   "execution_count": 2,
   "id": "22ef38dc",
   "metadata": {
    "execution": {
     "iopub.execute_input": "2022-11-02T00:49:33.049636Z",
     "iopub.status.busy": "2022-11-02T00:49:33.049041Z",
     "iopub.status.idle": "2022-11-02T00:49:33.574120Z",
     "shell.execute_reply": "2022-11-02T00:49:33.573569Z"
    },
    "papermill": {
     "duration": 0.552351,
     "end_time": "2022-11-02T00:49:33.574239",
     "exception": false,
     "start_time": "2022-11-02T00:49:33.021888",
     "status": "completed"
    },
    "tags": []
   },
   "outputs": [],
   "source": [
    "%matplotlib inline\n",
    "import numpy as np\n",
    "import matplotlib.pyplot as plt\n",
    "import pandas as pd"
   ]
  },
  {
   "cell_type": "markdown",
   "id": "ba036198",
   "metadata": {
    "papermill": {
     "duration": 0.02371,
     "end_time": "2022-11-02T00:49:33.621694",
     "exception": false,
     "start_time": "2022-11-02T00:49:33.597984",
     "status": "completed"
    },
    "tags": []
   },
   "source": [
    "From the command line run `pip install mnist`. This is a library that will help you bring down the mnist dataset. If you run this from a notebook, you need to put  `!pip install mnist` in a cell by itself."
   ]
  },
  {
   "cell_type": "code",
   "execution_count": 3,
   "id": "bb6ad8a1",
   "metadata": {
    "execution": {
     "iopub.execute_input": "2022-11-02T00:49:33.673454Z",
     "iopub.status.busy": "2022-11-02T00:49:33.672851Z",
     "iopub.status.idle": "2022-11-02T00:49:35.292824Z",
     "shell.execute_reply": "2022-11-02T00:49:35.292250Z"
    },
    "papermill": {
     "duration": 1.647376,
     "end_time": "2022-11-02T00:49:35.292951",
     "exception": false,
     "start_time": "2022-11-02T00:49:33.645575",
     "status": "completed"
    },
    "tags": []
   },
   "outputs": [
    {
     "name": "stdout",
     "output_type": "stream",
     "text": [
      "Collecting mnist\r\n"
     ]
    },
    {
     "name": "stdout",
     "output_type": "stream",
     "text": [
      "  Downloading mnist-0.2.2-py2.py3-none-any.whl (3.5 kB)\r\n",
      "Requirement already satisfied: numpy in /opt/hostedtoolcache/Python/3.6.15/x64/lib/python3.6/site-packages (from mnist) (1.19.5)\r\n"
     ]
    },
    {
     "name": "stdout",
     "output_type": "stream",
     "text": [
      "Installing collected packages: mnist\r\n"
     ]
    },
    {
     "name": "stdout",
     "output_type": "stream",
     "text": [
      "Successfully installed mnist-0.2.2\r\n"
     ]
    }
   ],
   "source": [
    "!pip install mnist"
   ]
  },
  {
   "cell_type": "markdown",
   "id": "69df9c9a",
   "metadata": {
    "papermill": {
     "duration": 0.025074,
     "end_time": "2022-11-02T00:49:35.343113",
     "exception": false,
     "start_time": "2022-11-02T00:49:35.318039",
     "status": "completed"
    },
    "tags": []
   },
   "source": [
    "## Preparing the Data"
   ]
  },
  {
   "cell_type": "code",
   "execution_count": 4,
   "id": "7f69d806",
   "metadata": {
    "execution": {
     "iopub.execute_input": "2022-11-02T00:49:35.396545Z",
     "iopub.status.busy": "2022-11-02T00:49:35.395950Z",
     "iopub.status.idle": "2022-11-02T00:49:35.411250Z",
     "shell.execute_reply": "2022-11-02T00:49:35.410766Z"
    },
    "papermill": {
     "duration": 0.043576,
     "end_time": "2022-11-02T00:49:35.411354",
     "exception": false,
     "start_time": "2022-11-02T00:49:35.367778",
     "status": "completed"
    },
    "tags": []
   },
   "outputs": [],
   "source": [
    "import mnist"
   ]
  },
  {
   "cell_type": "code",
   "execution_count": 5,
   "id": "a411e44f",
   "metadata": {
    "execution": {
     "iopub.execute_input": "2022-11-02T00:49:35.465906Z",
     "iopub.status.busy": "2022-11-02T00:49:35.465325Z",
     "iopub.status.idle": "2022-11-02T00:49:36.197547Z",
     "shell.execute_reply": "2022-11-02T00:49:36.196552Z"
    },
    "papermill": {
     "duration": 0.761619,
     "end_time": "2022-11-02T00:49:36.197693",
     "exception": false,
     "start_time": "2022-11-02T00:49:35.436074",
     "status": "completed"
    },
    "tags": []
   },
   "outputs": [],
   "source": [
    "train_images = mnist.train_images()\n",
    "train_labels = mnist.train_labels()"
   ]
  },
  {
   "cell_type": "code",
   "execution_count": 6,
   "id": "dceab3a5",
   "metadata": {
    "execution": {
     "iopub.execute_input": "2022-11-02T00:49:36.252386Z",
     "iopub.status.busy": "2022-11-02T00:49:36.251787Z",
     "iopub.status.idle": "2022-11-02T00:49:36.267067Z",
     "shell.execute_reply": "2022-11-02T00:49:36.266580Z"
    },
    "papermill": {
     "duration": 0.044348,
     "end_time": "2022-11-02T00:49:36.267179",
     "exception": false,
     "start_time": "2022-11-02T00:49:36.222831",
     "status": "completed"
    },
    "tags": []
   },
   "outputs": [
    {
     "data": {
      "text/plain": [
       "((60000, 28, 28), (60000,))"
      ]
     },
     "execution_count": 6,
     "metadata": {},
     "output_type": "execute_result"
    }
   ],
   "source": [
    "train_images.shape, train_labels.shape"
   ]
  },
  {
   "cell_type": "code",
   "execution_count": 7,
   "id": "f50dc2bb",
   "metadata": {
    "execution": {
     "iopub.execute_input": "2022-11-02T00:49:36.321253Z",
     "iopub.status.busy": "2022-11-02T00:49:36.320651Z",
     "iopub.status.idle": "2022-11-02T00:49:36.474882Z",
     "shell.execute_reply": "2022-11-02T00:49:36.474231Z"
    },
    "papermill": {
     "duration": 0.182706,
     "end_time": "2022-11-02T00:49:36.475017",
     "exception": false,
     "start_time": "2022-11-02T00:49:36.292311",
     "status": "completed"
    },
    "tags": []
   },
   "outputs": [],
   "source": [
    "test_images = mnist.test_images()\n",
    "test_labels = mnist.test_labels()"
   ]
  },
  {
   "cell_type": "code",
   "execution_count": 8,
   "id": "fc38cf1b",
   "metadata": {
    "execution": {
     "iopub.execute_input": "2022-11-02T00:49:36.530212Z",
     "iopub.status.busy": "2022-11-02T00:49:36.529622Z",
     "iopub.status.idle": "2022-11-02T00:49:36.543081Z",
     "shell.execute_reply": "2022-11-02T00:49:36.543509Z"
    },
    "papermill": {
     "duration": 0.042376,
     "end_time": "2022-11-02T00:49:36.543640",
     "exception": false,
     "start_time": "2022-11-02T00:49:36.501264",
     "status": "completed"
    },
    "tags": []
   },
   "outputs": [
    {
     "data": {
      "text/plain": [
       "((10000, 28, 28), (10000,))"
      ]
     },
     "execution_count": 8,
     "metadata": {},
     "output_type": "execute_result"
    }
   ],
   "source": [
    "test_images.shape, test_labels.shape"
   ]
  },
  {
   "cell_type": "code",
   "execution_count": 9,
   "id": "f9ed8fe0",
   "metadata": {
    "execution": {
     "iopub.execute_input": "2022-11-02T00:49:36.598478Z",
     "iopub.status.busy": "2022-11-02T00:49:36.597883Z",
     "iopub.status.idle": "2022-11-02T00:49:36.737435Z",
     "shell.execute_reply": "2022-11-02T00:49:36.736710Z"
    },
    "papermill": {
     "duration": 0.168786,
     "end_time": "2022-11-02T00:49:36.737558",
     "exception": false,
     "start_time": "2022-11-02T00:49:36.568772",
     "status": "completed"
    },
    "tags": []
   },
   "outputs": [
    {
     "name": "stdout",
     "output_type": "stream",
     "text": [
      "2\n"
     ]
    },
    {
     "data": {
      "text/plain": [
       "<matplotlib.image.AxesImage at 0x7f6c65910d68>"
      ]
     },
     "execution_count": 9,
     "metadata": {},
     "output_type": "execute_result"
    },
    {
     "data": {
      "image/png": "[encoded data removed]",
      "text/plain": [
       "<Figure size 432x288 with 1 Axes>"
      ]
     },
     "metadata": {
      "needs_background": "light"
     },
     "output_type": "display_data"
    }
   ],
   "source": [
    "image_index = 7776 # You may select anything up to 60,000\n",
    "print(train_labels[image_index]) \n",
    "plt.imshow(train_images[image_index], cmap='Greys')"
   ]
  },
  {
   "cell_type": "markdown",
   "id": "a8d2388d",
   "metadata": {
    "papermill": {
     "duration": 0.026627,
     "end_time": "2022-11-02T00:49:36.790954",
     "exception": false,
     "start_time": "2022-11-02T00:49:36.764327",
     "status": "completed"
    },
    "tags": []
   },
   "source": [
    "## Filter data to get 3 and 8 out"
   ]
  },
  {
   "cell_type": "code",
   "execution_count": 10,
   "id": "776f7fc7",
   "metadata": {
    "execution": {
     "iopub.execute_input": "2022-11-02T00:49:36.855741Z",
     "iopub.status.busy": "2022-11-02T00:49:36.849436Z",
     "iopub.status.idle": "2022-11-02T00:49:36.863842Z",
     "shell.execute_reply": "2022-11-02T00:49:36.864307Z"
    },
    "papermill": {
     "duration": 0.047151,
     "end_time": "2022-11-02T00:49:36.864436",
     "exception": false,
     "start_time": "2022-11-02T00:49:36.817285",
     "status": "completed"
    },
    "tags": []
   },
   "outputs": [],
   "source": [
    "train_filter = np.where((train_labels == 3 ) | (train_labels == 8))\n",
    "test_filter = np.where((test_labels == 3) | (test_labels == 8))\n",
    "X_train, y_train = train_images[train_filter], train_labels[train_filter]\n",
    "X_test, y_test = test_images[test_filter], test_labels[test_filter]"
   ]
  },
  {
   "cell_type": "markdown",
   "id": "948f0b7e",
   "metadata": {
    "papermill": {
     "duration": 0.026999,
     "end_time": "2022-11-02T00:49:36.917822",
     "exception": false,
     "start_time": "2022-11-02T00:49:36.890823",
     "status": "completed"
    },
    "tags": []
   },
   "source": [
    "We normalize the pizel values in the 0 to 1 range"
   ]
  },
  {
   "cell_type": "code",
   "execution_count": 11,
   "id": "ee4c2166",
   "metadata": {
    "execution": {
     "iopub.execute_input": "2022-11-02T00:49:36.977561Z",
     "iopub.status.busy": "2022-11-02T00:49:36.974121Z",
     "iopub.status.idle": "2022-11-02T00:49:37.018514Z",
     "shell.execute_reply": "2022-11-02T00:49:37.017954Z"
    },
    "papermill": {
     "duration": 0.07459,
     "end_time": "2022-11-02T00:49:37.018654",
     "exception": false,
     "start_time": "2022-11-02T00:49:36.944064",
     "status": "completed"
    },
    "tags": []
   },
   "outputs": [],
   "source": [
    "X_train = X_train/255.\n",
    "X_test = X_test/255."
   ]
  },
  {
   "cell_type": "markdown",
   "id": "ddcf4fab",
   "metadata": {
    "papermill": {
     "duration": 0.027769,
     "end_time": "2022-11-02T00:49:37.074043",
     "exception": false,
     "start_time": "2022-11-02T00:49:37.046274",
     "status": "completed"
    },
    "tags": []
   },
   "source": [
    "And setup the labels as 1 (when the digit is 3) and 0 (when the digit is 8)"
   ]
  },
  {
   "cell_type": "code",
   "execution_count": 12,
   "id": "7dc908f2",
   "metadata": {
    "execution": {
     "iopub.execute_input": "2022-11-02T00:49:37.131089Z",
     "iopub.status.busy": "2022-11-02T00:49:37.130502Z",
     "iopub.status.idle": "2022-11-02T00:49:37.143454Z",
     "shell.execute_reply": "2022-11-02T00:49:37.142974Z"
    },
    "papermill": {
     "duration": 0.042915,
     "end_time": "2022-11-02T00:49:37.143564",
     "exception": false,
     "start_time": "2022-11-02T00:49:37.100649",
     "status": "completed"
    },
    "tags": []
   },
   "outputs": [],
   "source": [
    "y_train = 1*(y_train==3)\n",
    "y_test = 1*(y_test==3)"
   ]
  },
  {
   "cell_type": "code",
   "execution_count": 13,
   "id": "01e4e969",
   "metadata": {
    "execution": {
     "iopub.execute_input": "2022-11-02T00:49:37.200515Z",
     "iopub.status.busy": "2022-11-02T00:49:37.199937Z",
     "iopub.status.idle": "2022-11-02T00:49:37.213913Z",
     "shell.execute_reply": "2022-11-02T00:49:37.214366Z"
    },
    "papermill": {
     "duration": 0.044499,
     "end_time": "2022-11-02T00:49:37.214490",
     "exception": false,
     "start_time": "2022-11-02T00:49:37.169991",
     "status": "completed"
    },
    "tags": []
   },
   "outputs": [
    {
     "data": {
      "text/plain": [
       "((11982, 28, 28), (1984, 28, 28))"
      ]
     },
     "execution_count": 13,
     "metadata": {},
     "output_type": "execute_result"
    }
   ],
   "source": [
    "X_train.shape, X_test.shape"
   ]
  },
  {
   "cell_type": "markdown",
   "id": "5ccf3f85",
   "metadata": {
    "papermill": {
     "duration": 0.026479,
     "end_time": "2022-11-02T00:49:37.267444",
     "exception": false,
     "start_time": "2022-11-02T00:49:37.240965",
     "status": "completed"
    },
    "tags": []
   },
   "source": [
    "We reshape the data to flatten the image pixels into a set of features or co-variates:"
   ]
  },
  {
   "cell_type": "code",
   "execution_count": 14,
   "id": "5286a4a3",
   "metadata": {
    "execution": {
     "iopub.execute_input": "2022-11-02T00:49:37.325514Z",
     "iopub.status.busy": "2022-11-02T00:49:37.324920Z",
     "iopub.status.idle": "2022-11-02T00:49:37.338917Z",
     "shell.execute_reply": "2022-11-02T00:49:37.339395Z"
    },
    "papermill": {
     "duration": 0.045316,
     "end_time": "2022-11-02T00:49:37.339522",
     "exception": false,
     "start_time": "2022-11-02T00:49:37.294206",
     "status": "completed"
    },
    "tags": []
   },
   "outputs": [
    {
     "data": {
      "text/plain": [
       "((11982, 784), (1984, 784))"
      ]
     },
     "execution_count": 14,
     "metadata": {},
     "output_type": "execute_result"
    }
   ],
   "source": [
    "X_train = X_train.reshape(X_train.shape[0], -1)\n",
    "X_test = X_test.reshape(X_test.shape[0], -1)\n",
    "X_train.shape, X_test.shape"
   ]
  },
  {
   "cell_type": "code",
   "execution_count": 15,
   "id": "73c5f88a",
   "metadata": {
    "execution": {
     "iopub.execute_input": "2022-11-02T00:49:37.398222Z",
     "iopub.status.busy": "2022-11-02T00:49:37.397525Z",
     "iopub.status.idle": "2022-11-02T00:49:37.416261Z",
     "shell.execute_reply": "2022-11-02T00:49:37.415723Z"
    },
    "papermill": {
     "duration": 0.049982,
     "end_time": "2022-11-02T00:49:37.416390",
     "exception": false,
     "start_time": "2022-11-02T00:49:37.366408",
     "status": "completed"
    },
    "tags": []
   },
   "outputs": [],
   "source": [
    "#Impoting functions from 'Kudzu'\n",
    "from kudzu.model import Model\n",
    "from kudzu.train import Learner\n",
    "from kudzu.optim import GD\n",
    "from kudzu.data import Data, Sampler,Dataloader\n",
    "\n",
    "from kudzu.callbacks import AccCallback\n",
    "from kudzu.callbacks import ClfCallback\n",
    "\n",
    "from kudzu.loss import MSE\n",
    "\n",
    "from kudzu.layer import Sigmoid,Relu\n",
    "from kudzu.layer import Affine"
   ]
  },
  {
   "cell_type": "markdown",
   "id": "bc01172a",
   "metadata": {
    "papermill": {
     "duration": 0.02698,
     "end_time": "2022-11-02T00:49:37.471058",
     "exception": false,
     "start_time": "2022-11-02T00:49:37.444078",
     "status": "completed"
    },
    "tags": []
   },
   "source": [
    "### Let us create a `Config` class, to store important parameters. \n",
    "This class essentially plays the role of a dictionary."
   ]
  },
  {
   "cell_type": "code",
   "execution_count": 16,
   "id": "978281aa",
   "metadata": {
    "execution": {
     "iopub.execute_input": "2022-11-02T00:49:37.528757Z",
     "iopub.status.busy": "2022-11-02T00:49:37.528125Z",
     "iopub.status.idle": "2022-11-02T00:49:37.541290Z",
     "shell.execute_reply": "2022-11-02T00:49:37.540800Z"
    },
    "papermill": {
     "duration": 0.043587,
     "end_time": "2022-11-02T00:49:37.541399",
     "exception": false,
     "start_time": "2022-11-02T00:49:37.497812",
     "status": "completed"
    },
    "tags": []
   },
   "outputs": [],
   "source": [
    "class Config:\n",
    "    pass\n",
    "config = Config()\n",
    "config.lr = 0.001\n",
    "config.num_epochs = 250\n",
    "config.bs = 50"
   ]
  },
  {
   "cell_type": "markdown",
   "id": "1385fa59",
   "metadata": {
    "papermill": {
     "duration": 0.026697,
     "end_time": "2022-11-02T00:49:37.595534",
     "exception": false,
     "start_time": "2022-11-02T00:49:37.568837",
     "status": "completed"
    },
    "tags": []
   },
   "source": [
    "### Running Models with the Training data\n",
    "Details about the network layers:\n",
    "- A first affine layer has 784 inputs and does 100 affine transforms. These are followed by a Relu\n",
    "- A second affine layer has 100 inputs from the 100 activations of the past layer, and does 100 affine transforms. These are followed by a Relu\n",
    "- A third affine layer has 100 activations and does 2 affine transformations to create an embedding for visualization. There is no non-linearity here.\n",
    "- A final \"logistic regression\" which has an affine transform from 2 inputs to 1 output, which is squeezed through a sigmoid.\n"
   ]
  },
  {
   "cell_type": "code",
   "execution_count": 17,
   "id": "2b9c66db",
   "metadata": {
    "execution": {
     "iopub.execute_input": "2022-11-02T00:49:37.653571Z",
     "iopub.status.busy": "2022-11-02T00:49:37.652967Z",
     "iopub.status.idle": "2022-11-02T00:49:37.665885Z",
     "shell.execute_reply": "2022-11-02T00:49:37.665403Z"
    },
    "papermill": {
     "duration": 0.043581,
     "end_time": "2022-11-02T00:49:37.666001",
     "exception": false,
     "start_time": "2022-11-02T00:49:37.622420",
     "status": "completed"
    },
    "tags": []
   },
   "outputs": [],
   "source": [
    "data = Data(X_train, y_train.reshape(-1,1))\n",
    "sampler = Sampler(data, config.bs, shuffle=True)\n",
    "\n",
    "dl = Dataloader(data, sampler)\n",
    "\n",
    "opt = GD(config.lr)\n",
    "loss = MSE()"
   ]
  },
  {
   "cell_type": "code",
   "execution_count": 18,
   "id": "b275e4c2",
   "metadata": {
    "execution": {
     "iopub.execute_input": "2022-11-02T00:49:37.725988Z",
     "iopub.status.busy": "2022-11-02T00:49:37.725384Z",
     "iopub.status.idle": "2022-11-02T00:49:37.736208Z",
     "shell.execute_reply": "2022-11-02T00:49:37.736689Z"
    },
    "papermill": {
     "duration": 0.0439,
     "end_time": "2022-11-02T00:49:37.736825",
     "exception": false,
     "start_time": "2022-11-02T00:49:37.692925",
     "status": "completed"
    },
    "tags": []
   },
   "outputs": [],
   "source": [
    "training_data_x = X_train\n",
    "testing_data_x = X_test\n",
    "training_data_y = y_train.reshape(-1,1)\n",
    "testing_data_y = y_test.reshape(-1,1)"
   ]
  },
  {
   "cell_type": "code",
   "execution_count": 19,
   "id": "76951160",
   "metadata": {
    "execution": {
     "iopub.execute_input": "2022-11-02T00:49:37.795815Z",
     "iopub.status.busy": "2022-11-02T00:49:37.795221Z",
     "iopub.status.idle": "2022-11-02T00:49:37.811641Z",
     "shell.execute_reply": "2022-11-02T00:49:37.812124Z"
    },
    "papermill": {
     "duration": 0.048176,
     "end_time": "2022-11-02T00:49:37.812253",
     "exception": false,
     "start_time": "2022-11-02T00:49:37.764077",
     "status": "completed"
    },
    "tags": []
   },
   "outputs": [
    {
     "name": "stdout",
     "output_type": "stream",
     "text": [
      "xavier\n",
      "xavier\n",
      "xavier\n",
      "xavier\n",
      "xavier\n"
     ]
    }
   ],
   "source": [
    "layers = [Affine(\"first\", 784, 100), Relu(\"first\"), Affine(\"second\", 100, 100), Relu(\"second\"), Affine(\"third\", 100, 2), Affine(\"last\", 2, 1), Sigmoid(\"last\")]\n",
    "model_nn = Model(layers)\n",
    "model_lr = Model([Affine(\"logits\", 784, 1), Sigmoid(\"sigmoid\")])"
   ]
  },
  {
   "cell_type": "code",
   "execution_count": 20,
   "id": "6eede77a",
   "metadata": {
    "execution": {
     "iopub.execute_input": "2022-11-02T00:49:37.885856Z",
     "iopub.status.busy": "2022-11-02T00:49:37.885247Z",
     "iopub.status.idle": "2022-11-02T00:49:37.887662Z",
     "shell.execute_reply": "2022-11-02T00:49:37.888118Z"
    },
    "papermill": {
     "duration": 0.048743,
     "end_time": "2022-11-02T00:49:37.888250",
     "exception": false,
     "start_time": "2022-11-02T00:49:37.839507",
     "status": "completed"
    },
    "tags": []
   },
   "outputs": [],
   "source": [
    "nn_learner = Learner(loss, model_nn, opt, config.num_epochs)\n",
    "acc_nn = ClfCallback(nn_learner, config.bs, training_data_x , testing_data_x, training_data_y, testing_data_y)\n",
    "nn_learner.set_callbacks([acc_nn])"
   ]
  },
  {
   "cell_type": "code",
   "execution_count": 21,
   "id": "877b6cc7",
   "metadata": {
    "execution": {
     "iopub.execute_input": "2022-11-02T00:49:37.957368Z",
     "iopub.status.busy": "2022-11-02T00:49:37.946517Z",
     "iopub.status.idle": "2022-11-02T00:49:37.962396Z",
     "shell.execute_reply": "2022-11-02T00:49:37.961884Z"
    },
    "papermill": {
     "duration": 0.046947,
     "end_time": "2022-11-02T00:49:37.962507",
     "exception": false,
     "start_time": "2022-11-02T00:49:37.915560",
     "status": "completed"
    },
    "tags": []
   },
   "outputs": [],
   "source": [
    "lr_learner = Learner(loss, model_lr, opt, config.num_epochs)\n",
    "acc_lr = ClfCallback(lr_learner, config.bs, training_data_x , testing_data_x, training_data_y, testing_data_y)\n",
    "lr_learner.set_callbacks([acc_lr])"
   ]
  },
  {
   "cell_type": "code",
   "execution_count": 22,
   "id": "d9b133c3",
   "metadata": {
    "execution": {
     "iopub.execute_input": "2022-11-02T00:49:38.021993Z",
     "iopub.status.busy": "2022-11-02T00:49:38.020059Z",
     "iopub.status.idle": "2022-11-02T00:50:52.406868Z",
     "shell.execute_reply": "2022-11-02T00:50:52.407722Z"
    },
    "papermill": {
     "duration": 74.418065,
     "end_time": "2022-11-02T00:50:52.407874",
     "exception": false,
     "start_time": "2022-11-02T00:49:37.989809",
     "status": "completed"
    },
    "tags": []
   },
   "outputs": [
    {
     "name": "stdout",
     "output_type": "stream",
     "text": [
      "Epoch 0, Loss 0.2403\n",
      "Training Accuracy: 0.6289, Testing Accuracy: 0.6366\n",
      "\n"
     ]
    },
    {
     "name": "stdout",
     "output_type": "stream",
     "text": [
      "Epoch 10, Loss 0.1006\n",
      "Training Accuracy: 0.9120, Testing Accuracy: 0.9214\n",
      "\n"
     ]
    },
    {
     "name": "stdout",
     "output_type": "stream",
     "text": [
      "Epoch 20, Loss 0.0593\n",
      "Training Accuracy: 0.9387, Testing Accuracy: 0.9471\n",
      "\n"
     ]
    },
    {
     "name": "stdout",
     "output_type": "stream",
     "text": [
      "Epoch 30, Loss 0.0452\n",
      "Training Accuracy: 0.9511, Testing Accuracy: 0.9587\n",
      "\n"
     ]
    },
    {
     "name": "stdout",
     "output_type": "stream",
     "text": [
      "Epoch 40, Loss 0.0385\n",
      "Training Accuracy: 0.9579, Testing Accuracy: 0.9657\n",
      "\n"
     ]
    },
    {
     "name": "stdout",
     "output_type": "stream",
     "text": [
      "Epoch 50, Loss 0.0347\n",
      "Training Accuracy: 0.9608, Testing Accuracy: 0.9693\n",
      "\n"
     ]
    },
    {
     "name": "stdout",
     "output_type": "stream",
     "text": [
      "Epoch 60, Loss 0.0321\n",
      "Training Accuracy: 0.9634, Testing Accuracy: 0.9713\n",
      "\n"
     ]
    },
    {
     "name": "stdout",
     "output_type": "stream",
     "text": [
      "Epoch 70, Loss 0.0302\n",
      "Training Accuracy: 0.9648, Testing Accuracy: 0.9718\n",
      "\n"
     ]
    },
    {
     "name": "stdout",
     "output_type": "stream",
     "text": [
      "Epoch 80, Loss 0.0287\n",
      "Training Accuracy: 0.9664, Testing Accuracy: 0.9723\n",
      "\n"
     ]
    },
    {
     "name": "stdout",
     "output_type": "stream",
     "text": [
      "Epoch 90, Loss 0.0275\n",
      "Training Accuracy: 0.9678, Testing Accuracy: 0.9713\n",
      "\n"
     ]
    },
    {
     "name": "stdout",
     "output_type": "stream",
     "text": [
      "Epoch 100, Loss 0.0264\n",
      "Training Accuracy: 0.9692, Testing Accuracy: 0.9723\n",
      "\n"
     ]
    },
    {
     "name": "stdout",
     "output_type": "stream",
     "text": [
      "Epoch 110, Loss 0.0256\n",
      "Training Accuracy: 0.9702, Testing Accuracy: 0.9723\n",
      "\n"
     ]
    },
    {
     "name": "stdout",
     "output_type": "stream",
     "text": [
      "Epoch 120, Loss 0.0248\n",
      "Training Accuracy: 0.9709, Testing Accuracy: 0.9733\n",
      "\n"
     ]
    },
    {
     "name": "stdout",
     "output_type": "stream",
     "text": [
      "Epoch 130, Loss 0.0241\n",
      "Training Accuracy: 0.9720, Testing Accuracy: 0.9733\n",
      "\n"
     ]
    },
    {
     "name": "stdout",
     "output_type": "stream",
     "text": [
      "Epoch 140, Loss 0.0235\n",
      "Training Accuracy: 0.9725, Testing Accuracy: 0.9733\n",
      "\n"
     ]
    },
    {
     "name": "stdout",
     "output_type": "stream",
     "text": [
      "Epoch 150, Loss 0.0229\n",
      "Training Accuracy: 0.9735, Testing Accuracy: 0.9728\n",
      "\n"
     ]
    },
    {
     "name": "stdout",
     "output_type": "stream",
     "text": [
      "Epoch 160, Loss 0.0224\n",
      "Training Accuracy: 0.9745, Testing Accuracy: 0.9723\n",
      "\n"
     ]
    },
    {
     "name": "stdout",
     "output_type": "stream",
     "text": [
      "Epoch 170, Loss 0.0219\n",
      "Training Accuracy: 0.9750, Testing Accuracy: 0.9728\n",
      "\n"
     ]
    },
    {
     "name": "stdout",
     "output_type": "stream",
     "text": [
      "Epoch 180, Loss 0.0214\n",
      "Training Accuracy: 0.9759, Testing Accuracy: 0.9728\n",
      "\n"
     ]
    },
    {
     "name": "stdout",
     "output_type": "stream",
     "text": [
      "Epoch 190, Loss 0.0209\n",
      "Training Accuracy: 0.9764, Testing Accuracy: 0.9733\n",
      "\n"
     ]
    },
    {
     "name": "stdout",
     "output_type": "stream",
     "text": [
      "Epoch 200, Loss 0.0205\n",
      "Training Accuracy: 0.9771, Testing Accuracy: 0.9738\n",
      "\n"
     ]
    },
    {
     "name": "stdout",
     "output_type": "stream",
     "text": [
      "Epoch 210, Loss 0.0201\n",
      "Training Accuracy: 0.9777, Testing Accuracy: 0.9738\n",
      "\n"
     ]
    },
    {
     "name": "stdout",
     "output_type": "stream",
     "text": [
      "Epoch 220, Loss 0.0197\n",
      "Training Accuracy: 0.9782, Testing Accuracy: 0.9738\n",
      "\n"
     ]
    },
    {
     "name": "stdout",
     "output_type": "stream",
     "text": [
      "Epoch 230, Loss 0.0194\n",
      "Training Accuracy: 0.9791, Testing Accuracy: 0.9733\n",
      "\n"
     ]
    },
    {
     "name": "stdout",
     "output_type": "stream",
     "text": [
      "Epoch 240, Loss 0.019\n",
      "Training Accuracy: 0.9796, Testing Accuracy: 0.9733\n",
      "\n"
     ]
    },
    {
     "data": {
      "text/plain": [
       "0.013435691195806754"
      ]
     },
     "execution_count": 22,
     "metadata": {},
     "output_type": "execute_result"
    }
   ],
   "source": [
    "nn_learner.train_loop(dl)"
   ]
  },
  {
   "cell_type": "code",
   "execution_count": 23,
   "id": "e0163366",
   "metadata": {
    "execution": {
     "iopub.execute_input": "2022-11-02T00:50:52.486565Z",
     "iopub.status.busy": "2022-11-02T00:50:52.485969Z",
     "iopub.status.idle": "2022-11-02T00:51:05.631163Z",
     "shell.execute_reply": "2022-11-02T00:51:05.632004Z"
    },
    "papermill": {
     "duration": 13.18945,
     "end_time": "2022-11-02T00:51:05.632152",
     "exception": false,
     "start_time": "2022-11-02T00:50:52.442702",
     "status": "completed"
    },
    "tags": []
   },
   "outputs": [
    {
     "name": "stdout",
     "output_type": "stream",
     "text": [
      "Epoch 0, Loss 0.2486\n",
      "Training Accuracy: 0.6688, Testing Accuracy: 0.6835\n",
      "\n"
     ]
    },
    {
     "name": "stdout",
     "output_type": "stream",
     "text": [
      "Epoch 10, Loss 0.102\n",
      "Training Accuracy: 0.9134, Testing Accuracy: 0.9183\n",
      "\n"
     ]
    },
    {
     "name": "stdout",
     "output_type": "stream",
     "text": [
      "Epoch 20, Loss 0.0783\n",
      "Training Accuracy: 0.9306, Testing Accuracy: 0.9405\n",
      "\n"
     ]
    },
    {
     "name": "stdout",
     "output_type": "stream",
     "text": [
      "Epoch 30, Loss 0.0677\n",
      "Training Accuracy: 0.9380, Testing Accuracy: 0.9486\n",
      "\n"
     ]
    },
    {
     "name": "stdout",
     "output_type": "stream",
     "text": [
      "Epoch 40, Loss 0.0614\n",
      "Training Accuracy: 0.9431, Testing Accuracy: 0.9541\n",
      "\n"
     ]
    },
    {
     "name": "stdout",
     "output_type": "stream",
     "text": [
      "Epoch 50, Loss 0.057\n",
      "Training Accuracy: 0.9456, Testing Accuracy: 0.9551\n",
      "\n"
     ]
    },
    {
     "name": "stdout",
     "output_type": "stream",
     "text": [
      "Epoch 60, Loss 0.0538\n",
      "Training Accuracy: 0.9468, Testing Accuracy: 0.9551\n",
      "\n"
     ]
    },
    {
     "name": "stdout",
     "output_type": "stream",
     "text": [
      "Epoch 70, Loss 0.0513\n",
      "Training Accuracy: 0.9494, Testing Accuracy: 0.9572\n",
      "\n"
     ]
    },
    {
     "name": "stdout",
     "output_type": "stream",
     "text": [
      "Epoch 80, Loss 0.0493\n",
      "Training Accuracy: 0.9504, Testing Accuracy: 0.9572\n",
      "\n"
     ]
    },
    {
     "name": "stdout",
     "output_type": "stream",
     "text": [
      "Epoch 90, Loss 0.0476\n",
      "Training Accuracy: 0.9512, Testing Accuracy: 0.9592\n",
      "\n"
     ]
    },
    {
     "name": "stdout",
     "output_type": "stream",
     "text": [
      "Epoch 100, Loss 0.0462\n",
      "Training Accuracy: 0.9530, Testing Accuracy: 0.9607\n",
      "\n"
     ]
    },
    {
     "name": "stdout",
     "output_type": "stream",
     "text": [
      "Epoch 110, Loss 0.045\n",
      "Training Accuracy: 0.9541, Testing Accuracy: 0.9612\n",
      "\n"
     ]
    },
    {
     "name": "stdout",
     "output_type": "stream",
     "text": [
      "Epoch 120, Loss 0.0439\n",
      "Training Accuracy: 0.9551, Testing Accuracy: 0.9612\n",
      "\n"
     ]
    },
    {
     "name": "stdout",
     "output_type": "stream",
     "text": [
      "Epoch 130, Loss 0.043\n",
      "Training Accuracy: 0.9556, Testing Accuracy: 0.9617\n",
      "\n"
     ]
    },
    {
     "name": "stdout",
     "output_type": "stream",
     "text": [
      "Epoch 140, Loss 0.0422\n",
      "Training Accuracy: 0.9565, Testing Accuracy: 0.9632\n",
      "\n"
     ]
    },
    {
     "name": "stdout",
     "output_type": "stream",
     "text": [
      "Epoch 150, Loss 0.0414\n",
      "Training Accuracy: 0.9574, Testing Accuracy: 0.9637\n",
      "\n"
     ]
    },
    {
     "name": "stdout",
     "output_type": "stream",
     "text": [
      "Epoch 160, Loss 0.0408\n",
      "Training Accuracy: 0.9579, Testing Accuracy: 0.9637\n",
      "\n"
     ]
    },
    {
     "name": "stdout",
     "output_type": "stream",
     "text": [
      "Epoch 170, Loss 0.0401\n",
      "Training Accuracy: 0.9582, Testing Accuracy: 0.9647\n",
      "\n"
     ]
    },
    {
     "name": "stdout",
     "output_type": "stream",
     "text": [
      "Epoch 180, Loss 0.0396\n",
      "Training Accuracy: 0.9583, Testing Accuracy: 0.9657\n",
      "\n"
     ]
    },
    {
     "name": "stdout",
     "output_type": "stream",
     "text": [
      "Epoch 190, Loss 0.0391\n",
      "Training Accuracy: 0.9587, Testing Accuracy: 0.9657\n",
      "\n"
     ]
    },
    {
     "name": "stdout",
     "output_type": "stream",
     "text": [
      "Epoch 200, Loss 0.0386\n",
      "Training Accuracy: 0.9590, Testing Accuracy: 0.9657\n",
      "\n"
     ]
    },
    {
     "name": "stdout",
     "output_type": "stream",
     "text": [
      "Epoch 210, Loss 0.0381\n",
      "Training Accuracy: 0.9594, Testing Accuracy: 0.9652\n",
      "\n"
     ]
    },
    {
     "name": "stdout",
     "output_type": "stream",
     "text": [
      "Epoch 220, Loss 0.0377\n",
      "Training Accuracy: 0.9602, Testing Accuracy: 0.9657\n",
      "\n"
     ]
    },
    {
     "name": "stdout",
     "output_type": "stream",
     "text": [
      "Epoch 230, Loss 0.0373\n",
      "Training Accuracy: 0.9605, Testing Accuracy: 0.9657\n",
      "\n"
     ]
    },
    {
     "name": "stdout",
     "output_type": "stream",
     "text": [
      "Epoch 240, Loss 0.037\n",
      "Training Accuracy: 0.9605, Testing Accuracy: 0.9667\n",
      "\n"
     ]
    },
    {
     "data": {
      "text/plain": [
       "0.015246981009144636"
      ]
     },
     "execution_count": 23,
     "metadata": {},
     "output_type": "execute_result"
    }
   ],
   "source": [
    "lr_learner.train_loop(dl)"
   ]
  },
  {
   "cell_type": "code",
   "execution_count": 24,
   "id": "ca410940",
   "metadata": {
    "execution": {
     "iopub.execute_input": "2022-11-02T00:51:05.734071Z",
     "iopub.status.busy": "2022-11-02T00:51:05.733465Z",
     "iopub.status.idle": "2022-11-02T00:51:05.951632Z",
     "shell.execute_reply": "2022-11-02T00:51:05.952091Z"
    },
    "papermill": {
     "duration": 0.278669,
     "end_time": "2022-11-02T00:51:05.952227",
     "exception": false,
     "start_time": "2022-11-02T00:51:05.673558",
     "status": "completed"
    },
    "tags": []
   },
   "outputs": [
    {
     "data": {
      "text/plain": [
       "<matplotlib.legend.Legend at 0x7f6c58cd2390>"
      ]
     },
     "execution_count": 24,
     "metadata": {},
     "output_type": "execute_result"
    },
    {
     "data": {
      "image/png": "[encoded data removed]",
      "text/plain": [
       "<Figure size 1080x720 with 1 Axes>"
      ]
     },
     "metadata": {
      "needs_background": "light"
     },
     "output_type": "display_data"
    }
   ],
   "source": [
    "#comparing the results of NN and LR\n",
    "plt.figure(figsize=(15,10))\n",
    "\n",
    "# Neural Network plots\n",
    "plt.plot(acc_nn.accuracies, 'r-', label = \"Training Accuracies - NN\")\n",
    "plt.plot(acc_nn.test_accuracies, 'g-', label = \"Testing Accuracies - NN\")\n",
    "\n",
    "# Logistic Regression plots\n",
    "plt.plot(acc_lr.accuracies, 'k-', label = \"Training Accuracies - LR\")\n",
    "plt.plot(acc_lr.test_accuracies, 'b-', label = \"Testing Accuracies - LR\")\n",
    "plt.legend()"
   ]
  },
  {
   "cell_type": "markdown",
   "id": "80dfb35c",
   "metadata": {
    "papermill": {
     "duration": 0.041741,
     "end_time": "2022-11-02T00:51:06.041296",
     "exception": false,
     "start_time": "2022-11-02T00:51:05.999555",
     "status": "completed"
    },
    "tags": []
   },
   "source": [
    "#### Plotting the outputs of this layer of the NN.\n"
   ]
  },
  {
   "cell_type": "code",
   "execution_count": 25,
   "id": "45eb2ff5",
   "metadata": {
    "execution": {
     "iopub.execute_input": "2022-11-02T00:51:06.130975Z",
     "iopub.status.busy": "2022-11-02T00:51:06.129184Z",
     "iopub.status.idle": "2022-11-02T00:51:06.150043Z",
     "shell.execute_reply": "2022-11-02T00:51:06.149549Z"
    },
    "papermill": {
     "duration": 0.067168,
     "end_time": "2022-11-02T00:51:06.150155",
     "exception": false,
     "start_time": "2022-11-02T00:51:06.082987",
     "status": "completed"
    },
    "tags": []
   },
   "outputs": [],
   "source": [
    "new_model = Model(layers[:-2])\n",
    "testing_plot = new_model(testing_data_x)"
   ]
  },
  {
   "cell_type": "code",
   "execution_count": 26,
   "id": "4c0a5485",
   "metadata": {
    "execution": {
     "iopub.execute_input": "2022-11-02T00:51:06.248551Z",
     "iopub.status.busy": "2022-11-02T00:51:06.247939Z",
     "iopub.status.idle": "2022-11-02T00:51:06.434155Z",
     "shell.execute_reply": "2022-11-02T00:51:06.433393Z"
    },
    "papermill": {
     "duration": 0.242051,
     "end_time": "2022-11-02T00:51:06.434275",
     "exception": false,
     "start_time": "2022-11-02T00:51:06.192224",
     "status": "completed"
    },
    "tags": []
   },
   "outputs": [
    {
     "data": {
      "text/plain": [
       "Text(0.5, 1.0, 'Outputs')"
      ]
     },
     "execution_count": 26,
     "metadata": {},
     "output_type": "execute_result"
    },
    {
     "data": {
      "image/png": "[encoded data removed]",
      "text/plain": [
       "<Figure size 576x504 with 1 Axes>"
      ]
     },
     "metadata": {
      "needs_background": "light"
     },
     "output_type": "display_data"
    }
   ],
   "source": [
    "# Plotting the scatter plot of points and color coding by class\n",
    "plt.figure(figsize=(8,7))\n",
    "plt.scatter(testing_plot[:,0], testing_plot[:,1], alpha = 0.1, c = y_test.ravel());\n",
    "plt.title('Outputs')"
   ]
  },
  {
   "cell_type": "markdown",
   "id": "a74fcf8f",
   "metadata": {
    "papermill": {
     "duration": 0.044292,
     "end_time": "2022-11-02T00:51:06.526988",
     "exception": false,
     "start_time": "2022-11-02T00:51:06.482696",
     "status": "completed"
    },
    "tags": []
   },
   "source": [
    "Probability contours"
   ]
  },
  {
   "cell_type": "code",
   "execution_count": 27,
   "id": "d0afc8e3",
   "metadata": {
    "execution": {
     "iopub.execute_input": "2022-11-02T00:51:06.646843Z",
     "iopub.status.busy": "2022-11-02T00:51:06.645647Z",
     "iopub.status.idle": "2022-11-02T00:51:06.658245Z",
     "shell.execute_reply": "2022-11-02T00:51:06.658725Z"
    },
    "papermill": {
     "duration": 0.088331,
     "end_time": "2022-11-02T00:51:06.658848",
     "exception": false,
     "start_time": "2022-11-02T00:51:06.570517",
     "status": "completed"
    },
    "tags": []
   },
   "outputs": [],
   "source": [
    "model_prob = Model(layers[-2:]) "
   ]
  },
  {
   "cell_type": "code",
   "execution_count": 28,
   "id": "9b96e238",
   "metadata": {
    "execution": {
     "iopub.execute_input": "2022-11-02T00:51:06.750806Z",
     "iopub.status.busy": "2022-11-02T00:51:06.750220Z",
     "iopub.status.idle": "2022-11-02T00:51:06.763112Z",
     "shell.execute_reply": "2022-11-02T00:51:06.763547Z"
    },
    "papermill": {
     "duration": 0.061222,
     "end_time": "2022-11-02T00:51:06.763676",
     "exception": false,
     "start_time": "2022-11-02T00:51:06.702454",
     "status": "completed"
    },
    "tags": []
   },
   "outputs": [],
   "source": [
    "#creating the x and y ranges according to the above generated plot.\n",
    "x_range = np.linspace(-4, 1, 100) \n",
    "y_range = np.linspace(-6, 6, 100) \n",
    "x_grid, y_grid = np.meshgrid(x_range, y_range) # x_grid and y_grig are of size 100 X 100\n",
    "\n",
    "# converting x_grid and y_grid to continuous arrays\n",
    "x_gridflat = np.ravel(x_grid)\n",
    "y_gridflat = np.ravel(y_grid)\n",
    "\n",
    "# The last layer of the current model takes two columns as input. Hence transpose of np.vstack() is required.\n",
    "X = np.vstack((x_gridflat, y_gridflat)).T\n",
    "\n",
    "prob_contour = model_prob(X).reshape(100,100) "
   ]
  },
  {
   "cell_type": "code",
   "execution_count": 29,
   "id": "da72499a",
   "metadata": {
    "execution": {
     "iopub.execute_input": "2022-11-02T00:51:06.864722Z",
     "iopub.status.busy": "2022-11-02T00:51:06.864109Z",
     "iopub.status.idle": "2022-11-02T00:51:07.097707Z",
     "shell.execute_reply": "2022-11-02T00:51:07.098163Z"
    },
    "papermill": {
     "duration": 0.290395,
     "end_time": "2022-11-02T00:51:07.098301",
     "exception": false,
     "start_time": "2022-11-02T00:51:06.807906",
     "status": "completed"
    },
    "tags": []
   },
   "outputs": [
    {
     "data": {
      "image/png": "[encoded data removed]",
      "text/plain": [
       "<Figure size 720x648 with 1 Axes>"
      ]
     },
     "metadata": {
      "needs_background": "light"
     },
     "output_type": "display_data"
    }
   ],
   "source": [
    "plt.figure(figsize=(10,9))\n",
    "plt.scatter(testing_plot[:,0], testing_plot[:,1], alpha = 0.1, c = y_test.ravel())\n",
    "contours = plt.contour(x_grid,y_grid,prob_contour)\n",
    "plt.title('Probability Contours')\n",
    "plt.clabel(contours, inline = True );"
   ]
  },
  {
   "cell_type": "code",
   "execution_count": null,
   "id": "e81b4ac7",
   "metadata": {
    "papermill": {
     "duration": 0.046117,
     "end_time": "2022-11-02T00:51:07.190871",
     "exception": false,
     "start_time": "2022-11-02T00:51:07.144754",
     "status": "completed"
    },
    "tags": []
   },
   "outputs": [],
   "source": []
  }
 ],
 "metadata": {
  "kernelspec": {
   "display_name": "Python 3",
   "language": "python",
   "name": "python3"
  },
  "language_info": {
   "codemirror_mode": {
    "name": "ipython",
    "version": 3
   },
   "file_extension": ".py",
   "mimetype": "text/x-python",
   "name": "python",
   "nbconvert_exporter": "python",
   "pygments_lexer": "ipython3",
   "version": "3.6.15"
  },
  "papermill": {
   "default_parameters": {},
   "duration": 95.740961,
   "end_time": "2022-11-02T00:51:07.656011",
   "environment_variables": {},
   "exception": null,
   "input_path": "2020-08-11-part2.ipynb",
   "output_path": "2020-08-11-part2.ipynb",
   "parameters": {},
   "start_time": "2022-11-02T00:49:31.915050",
   "version": "2.3.3"
  }
 },
 "nbformat": 4,
 "nbformat_minor": 5
}