{
 "cells": [
  {
   "cell_type": "markdown",
   "id": "98380cd3",
   "metadata": {
    "papermill": {
     "duration": 0.036977,
     "end_time": "2022-04-01T20:10:21.077772",
     "exception": false,
     "start_time": "2022-04-01T20:10:21.040795",
     "status": "completed"
    },
    "tags": []
   },
   "source": [
    "# Distinguish Your Own Digits (DYOD)"
   ]
  },
  {
   "cell_type": "markdown",
   "id": "ef31240d",
   "metadata": {
    "papermill": {
     "duration": 0.029094,
     "end_time": "2022-04-01T20:10:21.136128",
     "exception": false,
     "start_time": "2022-04-01T20:10:21.107034",
     "status": "completed"
    },
    "tags": []
   },
   "source": [
    "You are going to write a classifier that distinguishes between the number 3 and number 8."
   ]
  },
  {
   "cell_type": "code",
   "execution_count": 1,
   "id": "b15c8646",
   "metadata": {
    "execution": {
     "iopub.execute_input": "2022-04-01T20:10:21.204874Z",
     "iopub.status.busy": "2022-04-01T20:10:21.204197Z",
     "iopub.status.idle": "2022-04-01T20:10:21.216112Z",
     "shell.execute_reply": "2022-04-01T20:10:21.216746Z"
    },
    "papermill": {
     "duration": 0.052838,
     "end_time": "2022-04-01T20:10:21.216921",
     "exception": false,
     "start_time": "2022-04-01T20:10:21.164083",
     "status": "completed"
    },
    "tags": []
   },
   "outputs": [],
   "source": [
    "%load_ext autoreload\n",
    "%autoreload 2"
   ]
  },
  {
   "cell_type": "code",
   "execution_count": 2,
   "id": "22ef38dc",
   "metadata": {
    "execution": {
     "iopub.execute_input": "2022-04-01T20:10:21.280998Z",
     "iopub.status.busy": "2022-04-01T20:10:21.280307Z",
     "iopub.status.idle": "2022-04-01T20:10:21.990031Z",
     "shell.execute_reply": "2022-04-01T20:10:21.989215Z"
    },
    "papermill": {
     "duration": 0.745306,
     "end_time": "2022-04-01T20:10:21.990194",
     "exception": false,
     "start_time": "2022-04-01T20:10:21.244888",
     "status": "completed"
    },
    "tags": []
   },
   "outputs": [],
   "source": [
    "%matplotlib inline\n",
    "import numpy as np\n",
    "import matplotlib.pyplot as plt\n",
    "import pandas as pd"
   ]
  },
  {
   "cell_type": "markdown",
   "id": "ba036198",
   "metadata": {
    "papermill": {
     "duration": 0.030998,
     "end_time": "2022-04-01T20:10:22.053361",
     "exception": false,
     "start_time": "2022-04-01T20:10:22.022363",
     "status": "completed"
    },
    "tags": []
   },
   "source": [
    "From the command line run `pip install mnist`. This is a library that will help you bring down the mnist dataset. If you run this from a notebook, you need to put  `!pip install mnist` in a cell by itself."
   ]
  },
  {
   "cell_type": "code",
   "execution_count": 3,
   "id": "bb6ad8a1",
   "metadata": {
    "execution": {
     "iopub.execute_input": "2022-04-01T20:10:22.125016Z",
     "iopub.status.busy": "2022-04-01T20:10:22.123968Z",
     "iopub.status.idle": "2022-04-01T20:10:24.408625Z",
     "shell.execute_reply": "2022-04-01T20:10:24.407565Z"
    },
    "papermill": {
     "duration": 2.323804,
     "end_time": "2022-04-01T20:10:24.408780",
     "exception": false,
     "start_time": "2022-04-01T20:10:22.084976",
     "status": "completed"
    },
    "tags": []
   },
   "outputs": [
    {
     "name": "stdout",
     "output_type": "stream",
     "text": [
      "Collecting mnist\r\n"
     ]
    },
    {
     "name": "stdout",
     "output_type": "stream",
     "text": [
      "  Downloading mnist-0.2.2-py2.py3-none-any.whl (3.5 kB)\r\n",
      "Requirement already satisfied: numpy in /opt/hostedtoolcache/Python/3.6.15/x64/lib/python3.6/site-packages (from mnist) (1.19.5)\r\n"
     ]
    },
    {
     "name": "stdout",
     "output_type": "stream",
     "text": [
      "Installing collected packages: mnist\r\n"
     ]
    },
    {
     "name": "stdout",
     "output_type": "stream",
     "text": [
      "Successfully installed mnist-0.2.2\r\n"
     ]
    }
   ],
   "source": [
    "!pip install mnist"
   ]
  },
  {
   "cell_type": "markdown",
   "id": "69df9c9a",
   "metadata": {
    "papermill": {
     "duration": 0.066695,
     "end_time": "2022-04-01T20:10:24.538315",
     "exception": false,
     "start_time": "2022-04-01T20:10:24.471620",
     "status": "completed"
    },
    "tags": []
   },
   "source": [
    "## Preparing the Data"
   ]
  },
  {
   "cell_type": "code",
   "execution_count": 4,
   "id": "7f69d806",
   "metadata": {
    "execution": {
     "iopub.execute_input": "2022-04-01T20:10:24.659432Z",
     "iopub.status.busy": "2022-04-01T20:10:24.655825Z",
     "iopub.status.idle": "2022-04-01T20:10:24.663218Z",
     "shell.execute_reply": "2022-04-01T20:10:24.662676Z"
    },
    "papermill": {
     "duration": 0.061894,
     "end_time": "2022-04-01T20:10:24.663352",
     "exception": false,
     "start_time": "2022-04-01T20:10:24.601458",
     "status": "completed"
    },
    "tags": []
   },
   "outputs": [],
   "source": [
    "import mnist"
   ]
  },
  {
   "cell_type": "code",
   "execution_count": 5,
   "id": "a411e44f",
   "metadata": {
    "execution": {
     "iopub.execute_input": "2022-04-01T20:10:24.763773Z",
     "iopub.status.busy": "2022-04-01T20:10:24.762969Z",
     "iopub.status.idle": "2022-04-01T20:10:25.365445Z",
     "shell.execute_reply": "2022-04-01T20:10:25.364813Z"
    },
    "papermill": {
     "duration": 0.664916,
     "end_time": "2022-04-01T20:10:25.365601",
     "exception": false,
     "start_time": "2022-04-01T20:10:24.700685",
     "status": "completed"
    },
    "tags": []
   },
   "outputs": [],
   "source": [
    "train_images = mnist.train_images()\n",
    "train_labels = mnist.train_labels()"
   ]
  },
  {
   "cell_type": "code",
   "execution_count": 6,
   "id": "dceab3a5",
   "metadata": {
    "execution": {
     "iopub.execute_input": "2022-04-01T20:10:25.431308Z",
     "iopub.status.busy": "2022-04-01T20:10:25.430639Z",
     "iopub.status.idle": "2022-04-01T20:10:25.448765Z",
     "shell.execute_reply": "2022-04-01T20:10:25.448180Z"
    },
    "papermill": {
     "duration": 0.052429,
     "end_time": "2022-04-01T20:10:25.448893",
     "exception": false,
     "start_time": "2022-04-01T20:10:25.396464",
     "status": "completed"
    },
    "tags": []
   },
   "outputs": [
    {
     "data": {
      "text/plain": [
       "((60000, 28, 28), (60000,))"
      ]
     },
     "execution_count": 6,
     "metadata": {},
     "output_type": "execute_result"
    }
   ],
   "source": [
    "train_images.shape, train_labels.shape"
   ]
  },
  {
   "cell_type": "code",
   "execution_count": 7,
   "id": "f50dc2bb",
   "metadata": {
    "execution": {
     "iopub.execute_input": "2022-04-01T20:10:25.514257Z",
     "iopub.status.busy": "2022-04-01T20:10:25.513545Z",
     "iopub.status.idle": "2022-04-01T20:10:25.690802Z",
     "shell.execute_reply": "2022-04-01T20:10:25.690157Z"
    },
    "papermill": {
     "duration": 0.211308,
     "end_time": "2022-04-01T20:10:25.690956",
     "exception": false,
     "start_time": "2022-04-01T20:10:25.479648",
     "status": "completed"
    },
    "tags": []
   },
   "outputs": [],
   "source": [
    "test_images = mnist.test_images()\n",
    "test_labels = mnist.test_labels()"
   ]
  },
  {
   "cell_type": "code",
   "execution_count": 8,
   "id": "fc38cf1b",
   "metadata": {
    "execution": {
     "iopub.execute_input": "2022-04-01T20:10:25.759160Z",
     "iopub.status.busy": "2022-04-01T20:10:25.758474Z",
     "iopub.status.idle": "2022-04-01T20:10:25.773758Z",
     "shell.execute_reply": "2022-04-01T20:10:25.773196Z"
    },
    "papermill": {
     "duration": 0.051525,
     "end_time": "2022-04-01T20:10:25.773902",
     "exception": false,
     "start_time": "2022-04-01T20:10:25.722377",
     "status": "completed"
    },
    "tags": []
   },
   "outputs": [
    {
     "data": {
      "text/plain": [
       "((10000, 28, 28), (10000,))"
      ]
     },
     "execution_count": 8,
     "metadata": {},
     "output_type": "execute_result"
    }
   ],
   "source": [
    "test_images.shape, test_labels.shape"
   ]
  },
  {
   "cell_type": "code",
   "execution_count": 9,
   "id": "f9ed8fe0",
   "metadata": {
    "execution": {
     "iopub.execute_input": "2022-04-01T20:10:25.840718Z",
     "iopub.status.busy": "2022-04-01T20:10:25.840033Z",
     "iopub.status.idle": "2022-04-01T20:10:26.033093Z",
     "shell.execute_reply": "2022-04-01T20:10:26.033617Z"
    },
    "papermill": {
     "duration": 0.228456,
     "end_time": "2022-04-01T20:10:26.033895",
     "exception": false,
     "start_time": "2022-04-01T20:10:25.805439",
     "status": "completed"
    },
    "tags": []
   },
   "outputs": [
    {
     "name": "stdout",
     "output_type": "stream",
     "text": [
      "2\n"
     ]
    },
    {
     "data": {
      "text/plain": [
       "<matplotlib.image.AxesImage at 0x7f72532c85f8>"
      ]
     },
     "execution_count": 9,
     "metadata": {},
     "output_type": "execute_result"
    },
    {
     "data": {
      "image/png": "[encoded data removed]",
      "text/plain": [
       "<Figure size 432x288 with 1 Axes>"
      ]
     },
     "metadata": {
      "needs_background": "light"
     },
     "output_type": "display_data"
    }
   ],
   "source": [
    "image_index = 7776 # You may select anything up to 60,000\n",
    "print(train_labels[image_index]) \n",
    "plt.imshow(train_images[image_index], cmap='Greys')"
   ]
  },
  {
   "cell_type": "markdown",
   "id": "a8d2388d",
   "metadata": {
    "papermill": {
     "duration": 0.033776,
     "end_time": "2022-04-01T20:10:26.109270",
     "exception": false,
     "start_time": "2022-04-01T20:10:26.075494",
     "status": "completed"
    },
    "tags": []
   },
   "source": [
    "## Filter data to get 3 and 8 out"
   ]
  },
  {
   "cell_type": "code",
   "execution_count": 10,
   "id": "776f7fc7",
   "metadata": {
    "execution": {
     "iopub.execute_input": "2022-04-01T20:10:26.183821Z",
     "iopub.status.busy": "2022-04-01T20:10:26.180363Z",
     "iopub.status.idle": "2022-04-01T20:10:26.201441Z",
     "shell.execute_reply": "2022-04-01T20:10:26.201976Z"
    },
    "papermill": {
     "duration": 0.059335,
     "end_time": "2022-04-01T20:10:26.202170",
     "exception": false,
     "start_time": "2022-04-01T20:10:26.142835",
     "status": "completed"
    },
    "tags": []
   },
   "outputs": [],
   "source": [
    "train_filter = np.where((train_labels == 3 ) | (train_labels == 8))\n",
    "test_filter = np.where((test_labels == 3) | (test_labels == 8))\n",
    "X_train, y_train = train_images[train_filter], train_labels[train_filter]\n",
    "X_test, y_test = test_images[test_filter], test_labels[test_filter]"
   ]
  },
  {
   "cell_type": "markdown",
   "id": "948f0b7e",
   "metadata": {
    "papermill": {
     "duration": 0.033665,
     "end_time": "2022-04-01T20:10:26.267257",
     "exception": false,
     "start_time": "2022-04-01T20:10:26.233592",
     "status": "completed"
    },
    "tags": []
   },
   "source": [
    "We normalize the pizel values in the 0 to 1 range"
   ]
  },
  {
   "cell_type": "code",
   "execution_count": 11,
   "id": "ee4c2166",
   "metadata": {
    "execution": {
     "iopub.execute_input": "2022-04-01T20:10:26.335636Z",
     "iopub.status.busy": "2022-04-01T20:10:26.334992Z",
     "iopub.status.idle": "2022-04-01T20:10:26.406533Z",
     "shell.execute_reply": "2022-04-01T20:10:26.405928Z"
    },
    "papermill": {
     "duration": 0.107893,
     "end_time": "2022-04-01T20:10:26.406682",
     "exception": false,
     "start_time": "2022-04-01T20:10:26.298789",
     "status": "completed"
    },
    "tags": []
   },
   "outputs": [],
   "source": [
    "X_train = X_train/255.\n",
    "X_test = X_test/255."
   ]
  },
  {
   "cell_type": "markdown",
   "id": "ddcf4fab",
   "metadata": {
    "papermill": {
     "duration": 0.034465,
     "end_time": "2022-04-01T20:10:26.474063",
     "exception": false,
     "start_time": "2022-04-01T20:10:26.439598",
     "status": "completed"
    },
    "tags": []
   },
   "source": [
    "And setup the labels as 1 (when the digit is 3) and 0 (when the digit is 8)"
   ]
  },
  {
   "cell_type": "code",
   "execution_count": 12,
   "id": "7dc908f2",
   "metadata": {
    "execution": {
     "iopub.execute_input": "2022-04-01T20:10:26.544693Z",
     "iopub.status.busy": "2022-04-01T20:10:26.544004Z",
     "iopub.status.idle": "2022-04-01T20:10:26.559521Z",
     "shell.execute_reply": "2022-04-01T20:10:26.558904Z"
    },
    "papermill": {
     "duration": 0.052636,
     "end_time": "2022-04-01T20:10:26.559663",
     "exception": false,
     "start_time": "2022-04-01T20:10:26.507027",
     "status": "completed"
    },
    "tags": []
   },
   "outputs": [],
   "source": [
    "y_train = 1*(y_train==3)\n",
    "y_test = 1*(y_test==3)"
   ]
  },
  {
   "cell_type": "code",
   "execution_count": 13,
   "id": "01e4e969",
   "metadata": {
    "execution": {
     "iopub.execute_input": "2022-04-01T20:10:26.629708Z",
     "iopub.status.busy": "2022-04-01T20:10:26.629049Z",
     "iopub.status.idle": "2022-04-01T20:10:26.646021Z",
     "shell.execute_reply": "2022-04-01T20:10:26.645393Z"
    },
    "papermill": {
     "duration": 0.052609,
     "end_time": "2022-04-01T20:10:26.646185",
     "exception": false,
     "start_time": "2022-04-01T20:10:26.593576",
     "status": "completed"
    },
    "tags": []
   },
   "outputs": [
    {
     "data": {
      "text/plain": [
       "((11982, 28, 28), (1984, 28, 28))"
      ]
     },
     "execution_count": 13,
     "metadata": {},
     "output_type": "execute_result"
    }
   ],
   "source": [
    "X_train.shape, X_test.shape"
   ]
  },
  {
   "cell_type": "markdown",
   "id": "5ccf3f85",
   "metadata": {
    "papermill": {
     "duration": 0.03138,
     "end_time": "2022-04-01T20:10:26.710212",
     "exception": false,
     "start_time": "2022-04-01T20:10:26.678832",
     "status": "completed"
    },
    "tags": []
   },
   "source": [
    "We reshape the data to flatten the image pixels into a set of features or co-variates:"
   ]
  },
  {
   "cell_type": "code",
   "execution_count": 14,
   "id": "5286a4a3",
   "metadata": {
    "execution": {
     "iopub.execute_input": "2022-04-01T20:10:26.778842Z",
     "iopub.status.busy": "2022-04-01T20:10:26.778241Z",
     "iopub.status.idle": "2022-04-01T20:10:26.790673Z",
     "shell.execute_reply": "2022-04-01T20:10:26.790162Z"
    },
    "papermill": {
     "duration": 0.04961,
     "end_time": "2022-04-01T20:10:26.790810",
     "exception": false,
     "start_time": "2022-04-01T20:10:26.741200",
     "status": "completed"
    },
    "tags": []
   },
   "outputs": [
    {
     "data": {
      "text/plain": [
       "((11982, 784), (1984, 784))"
      ]
     },
     "execution_count": 14,
     "metadata": {},
     "output_type": "execute_result"
    }
   ],
   "source": [
    "X_train = X_train.reshape(X_train.shape[0], -1)\n",
    "X_test = X_test.reshape(X_test.shape[0], -1)\n",
    "X_train.shape, X_test.shape"
   ]
  },
  {
   "cell_type": "code",
   "execution_count": 15,
   "id": "73c5f88a",
   "metadata": {
    "execution": {
     "iopub.execute_input": "2022-04-01T20:10:26.859238Z",
     "iopub.status.busy": "2022-04-01T20:10:26.858626Z",
     "iopub.status.idle": "2022-04-01T20:10:26.881066Z",
     "shell.execute_reply": "2022-04-01T20:10:26.880500Z"
    },
    "papermill": {
     "duration": 0.05816,
     "end_time": "2022-04-01T20:10:26.881193",
     "exception": false,
     "start_time": "2022-04-01T20:10:26.823033",
     "status": "completed"
    },
    "tags": []
   },
   "outputs": [],
   "source": [
    "#Impoting functions from 'Kudzu'\n",
    "from kudzu.model import Model\n",
    "from kudzu.train import Learner\n",
    "from kudzu.optim import GD\n",
    "from kudzu.data import Data, Sampler,Dataloader\n",
    "\n",
    "from kudzu.callbacks import AccCallback\n",
    "from kudzu.callbacks import ClfCallback\n",
    "\n",
    "from kudzu.loss import MSE\n",
    "\n",
    "from kudzu.layer import Sigmoid,Relu\n",
    "from kudzu.layer import Affine"
   ]
  },
  {
   "cell_type": "markdown",
   "id": "bc01172a",
   "metadata": {
    "papermill": {
     "duration": 0.033063,
     "end_time": "2022-04-01T20:10:26.948817",
     "exception": false,
     "start_time": "2022-04-01T20:10:26.915754",
     "status": "completed"
    },
    "tags": []
   },
   "source": [
    "### Let us create a `Config` class, to store important parameters. \n",
    "This class essentially plays the role of a dictionary."
   ]
  },
  {
   "cell_type": "code",
   "execution_count": 16,
   "id": "978281aa",
   "metadata": {
    "execution": {
     "iopub.execute_input": "2022-04-01T20:10:27.041155Z",
     "iopub.status.busy": "2022-04-01T20:10:27.040483Z",
     "iopub.status.idle": "2022-04-01T20:10:27.056340Z",
     "shell.execute_reply": "2022-04-01T20:10:27.054842Z"
    },
    "papermill": {
     "duration": 0.063733,
     "end_time": "2022-04-01T20:10:27.056496",
     "exception": false,
     "start_time": "2022-04-01T20:10:26.992763",
     "status": "completed"
    },
    "tags": []
   },
   "outputs": [],
   "source": [
    "class Config:\n",
    "    pass\n",
    "config = Config()\n",
    "config.lr = 0.001\n",
    "config.num_epochs = 250\n",
    "config.bs = 50"
   ]
  },
  {
   "cell_type": "markdown",
   "id": "1385fa59",
   "metadata": {
    "papermill": {
     "duration": 0.032944,
     "end_time": "2022-04-01T20:10:27.133802",
     "exception": false,
     "start_time": "2022-04-01T20:10:27.100858",
     "status": "completed"
    },
    "tags": []
   },
   "source": [
    "### Running Models with the Training data\n",
    "Details about the network layers:\n",
    "- A first affine layer has 784 inputs and does 100 affine transforms. These are followed by a Relu\n",
    "- A second affine layer has 100 inputs from the 100 activations of the past layer, and does 100 affine transforms. These are followed by a Relu\n",
    "- A third affine layer has 100 activations and does 2 affine transformations to create an embedding for visualization. There is no non-linearity here.\n",
    "- A final \"logistic regression\" which has an affine transform from 2 inputs to 1 output, which is squeezed through a sigmoid.\n"
   ]
  },
  {
   "cell_type": "code",
   "execution_count": 17,
   "id": "2b9c66db",
   "metadata": {
    "execution": {
     "iopub.execute_input": "2022-04-01T20:10:27.210575Z",
     "iopub.status.busy": "2022-04-01T20:10:27.209883Z",
     "iopub.status.idle": "2022-04-01T20:10:27.222346Z",
     "shell.execute_reply": "2022-04-01T20:10:27.222944Z"
    },
    "papermill": {
     "duration": 0.055775,
     "end_time": "2022-04-01T20:10:27.223089",
     "exception": false,
     "start_time": "2022-04-01T20:10:27.167314",
     "status": "completed"
    },
    "tags": []
   },
   "outputs": [],
   "source": [
    "data = Data(X_train, y_train.reshape(-1,1))\n",
    "sampler = Sampler(data, config.bs, shuffle=True)\n",
    "\n",
    "dl = Dataloader(data, sampler)\n",
    "\n",
    "opt = GD(config.lr)\n",
    "loss = MSE()"
   ]
  },
  {
   "cell_type": "code",
   "execution_count": 18,
   "id": "b275e4c2",
   "metadata": {
    "execution": {
     "iopub.execute_input": "2022-04-01T20:10:27.291377Z",
     "iopub.status.busy": "2022-04-01T20:10:27.290714Z",
     "iopub.status.idle": "2022-04-01T20:10:27.307484Z",
     "shell.execute_reply": "2022-04-01T20:10:27.308174Z"
    },
    "papermill": {
     "duration": 0.053234,
     "end_time": "2022-04-01T20:10:27.308319",
     "exception": false,
     "start_time": "2022-04-01T20:10:27.255085",
     "status": "completed"
    },
    "tags": []
   },
   "outputs": [],
   "source": [
    "training_data_x = X_train\n",
    "testing_data_x = X_test\n",
    "training_data_y = y_train.reshape(-1,1)\n",
    "testing_data_y = y_test.reshape(-1,1)"
   ]
  },
  {
   "cell_type": "code",
   "execution_count": 19,
   "id": "76951160",
   "metadata": {
    "execution": {
     "iopub.execute_input": "2022-04-01T20:10:27.379909Z",
     "iopub.status.busy": "2022-04-01T20:10:27.379224Z",
     "iopub.status.idle": "2022-04-01T20:10:27.399110Z",
     "shell.execute_reply": "2022-04-01T20:10:27.399683Z"
    },
    "papermill": {
     "duration": 0.060221,
     "end_time": "2022-04-01T20:10:27.399834",
     "exception": false,
     "start_time": "2022-04-01T20:10:27.339613",
     "status": "completed"
    },
    "tags": []
   },
   "outputs": [
    {
     "name": "stdout",
     "output_type": "stream",
     "text": [
      "xavier\n",
      "xavier\n",
      "xavier\n",
      "xavier\n",
      "xavier\n"
     ]
    }
   ],
   "source": [
    "layers = [Affine(\"first\", 784, 100), Relu(\"first\"), Affine(\"second\", 100, 100), Relu(\"second\"), Affine(\"third\", 100, 2), Affine(\"last\", 2, 1), Sigmoid(\"last\")]\n",
    "model_nn = Model(layers)\n",
    "model_lr = Model([Affine(\"logits\", 784, 1), Sigmoid(\"sigmoid\")])"
   ]
  },
  {
   "cell_type": "code",
   "execution_count": 20,
   "id": "6eede77a",
   "metadata": {
    "execution": {
     "iopub.execute_input": "2022-04-01T20:10:27.470942Z",
     "iopub.status.busy": "2022-04-01T20:10:27.470269Z",
     "iopub.status.idle": "2022-04-01T20:10:27.482921Z",
     "shell.execute_reply": "2022-04-01T20:10:27.482306Z"
    },
    "papermill": {
     "duration": 0.050706,
     "end_time": "2022-04-01T20:10:27.483043",
     "exception": false,
     "start_time": "2022-04-01T20:10:27.432337",
     "status": "completed"
    },
    "tags": []
   },
   "outputs": [],
   "source": [
    "nn_learner = Learner(loss, model_nn, opt, config.num_epochs)\n",
    "acc_nn = ClfCallback(nn_learner, config.bs, training_data_x , testing_data_x, training_data_y, testing_data_y)\n",
    "nn_learner.set_callbacks([acc_nn])"
   ]
  },
  {
   "cell_type": "code",
   "execution_count": 21,
   "id": "877b6cc7",
   "metadata": {
    "execution": {
     "iopub.execute_input": "2022-04-01T20:10:27.564235Z",
     "iopub.status.busy": "2022-04-01T20:10:27.563524Z",
     "iopub.status.idle": "2022-04-01T20:10:27.576411Z",
     "shell.execute_reply": "2022-04-01T20:10:27.576962Z"
    },
    "papermill": {
     "duration": 0.062849,
     "end_time": "2022-04-01T20:10:27.577123",
     "exception": false,
     "start_time": "2022-04-01T20:10:27.514274",
     "status": "completed"
    },
    "tags": []
   },
   "outputs": [],
   "source": [
    "lr_learner = Learner(loss, model_lr, opt, config.num_epochs)\n",
    "acc_lr = ClfCallback(lr_learner, config.bs, training_data_x , testing_data_x, training_data_y, testing_data_y)\n",
    "lr_learner.set_callbacks([acc_lr])"
   ]
  },
  {
   "cell_type": "code",
   "execution_count": 22,
   "id": "d9b133c3",
   "metadata": {
    "execution": {
     "iopub.execute_input": "2022-04-01T20:10:27.651679Z",
     "iopub.status.busy": "2022-04-01T20:10:27.645123Z",
     "iopub.status.idle": "2022-04-01T20:12:33.435246Z",
     "shell.execute_reply": "2022-04-01T20:12:33.436111Z"
    },
    "papermill": {
     "duration": 125.826513,
     "end_time": "2022-04-01T20:12:33.436298",
     "exception": false,
     "start_time": "2022-04-01T20:10:27.609785",
     "status": "completed"
    },
    "tags": []
   },
   "outputs": [
    {
     "name": "stdout",
     "output_type": "stream",
     "text": [
      "Epoch 0, Loss 0.2217\n",
      "Training Accuracy: 0.7959, Testing Accuracy: 0.7969\n",
      "\n"
     ]
    },
    {
     "name": "stdout",
     "output_type": "stream",
     "text": [
      "Epoch 10, Loss 0.0801\n",
      "Training Accuracy: 0.9315, Testing Accuracy: 0.9375\n",
      "\n"
     ]
    },
    {
     "name": "stdout",
     "output_type": "stream",
     "text": [
      "Epoch 20, Loss 0.0504\n",
      "Training Accuracy: 0.9493, Testing Accuracy: 0.9582\n",
      "\n"
     ]
    },
    {
     "name": "stdout",
     "output_type": "stream",
     "text": [
      "Epoch 30, Loss 0.0406\n",
      "Training Accuracy: 0.9568, Testing Accuracy: 0.9662\n",
      "\n"
     ]
    },
    {
     "name": "stdout",
     "output_type": "stream",
     "text": [
      "Epoch 40, Loss 0.0358\n",
      "Training Accuracy: 0.9604, Testing Accuracy: 0.9672\n",
      "\n"
     ]
    },
    {
     "name": "stdout",
     "output_type": "stream",
     "text": [
      "Epoch 50, Loss 0.0328\n",
      "Training Accuracy: 0.9629, Testing Accuracy: 0.9682\n",
      "\n"
     ]
    },
    {
     "name": "stdout",
     "output_type": "stream",
     "text": [
      "Epoch 60, Loss 0.0306\n",
      "Training Accuracy: 0.9649, Testing Accuracy: 0.9688\n",
      "\n"
     ]
    },
    {
     "name": "stdout",
     "output_type": "stream",
     "text": [
      "Epoch 70, Loss 0.0289\n",
      "Training Accuracy: 0.9670, Testing Accuracy: 0.9698\n",
      "\n"
     ]
    },
    {
     "name": "stdout",
     "output_type": "stream",
     "text": [
      "Epoch 80, Loss 0.0276\n",
      "Training Accuracy: 0.9680, Testing Accuracy: 0.9698\n",
      "\n"
     ]
    },
    {
     "name": "stdout",
     "output_type": "stream",
     "text": [
      "Epoch 90, Loss 0.0264\n",
      "Training Accuracy: 0.9689, Testing Accuracy: 0.9703\n",
      "\n"
     ]
    },
    {
     "name": "stdout",
     "output_type": "stream",
     "text": [
      "Epoch 100, Loss 0.0254\n",
      "Training Accuracy: 0.9702, Testing Accuracy: 0.9723\n",
      "\n"
     ]
    },
    {
     "name": "stdout",
     "output_type": "stream",
     "text": [
      "Epoch 110, Loss 0.0246\n",
      "Training Accuracy: 0.9715, Testing Accuracy: 0.9708\n",
      "\n"
     ]
    },
    {
     "name": "stdout",
     "output_type": "stream",
     "text": [
      "Epoch 120, Loss 0.0238\n",
      "Training Accuracy: 0.9724, Testing Accuracy: 0.9708\n",
      "\n"
     ]
    },
    {
     "name": "stdout",
     "output_type": "stream",
     "text": [
      "Epoch 130, Loss 0.0231\n",
      "Training Accuracy: 0.9734, Testing Accuracy: 0.9708\n",
      "\n"
     ]
    },
    {
     "name": "stdout",
     "output_type": "stream",
     "text": [
      "Epoch 140, Loss 0.0225\n",
      "Training Accuracy: 0.9736, Testing Accuracy: 0.9713\n",
      "\n"
     ]
    },
    {
     "name": "stdout",
     "output_type": "stream",
     "text": [
      "Epoch 150, Loss 0.0219\n",
      "Training Accuracy: 0.9742, Testing Accuracy: 0.9723\n",
      "\n"
     ]
    },
    {
     "name": "stdout",
     "output_type": "stream",
     "text": [
      "Epoch 160, Loss 0.0213\n",
      "Training Accuracy: 0.9744, Testing Accuracy: 0.9723\n",
      "\n"
     ]
    },
    {
     "name": "stdout",
     "output_type": "stream",
     "text": [
      "Epoch 170, Loss 0.0208\n",
      "Training Accuracy: 0.9753, Testing Accuracy: 0.9728\n",
      "\n"
     ]
    },
    {
     "name": "stdout",
     "output_type": "stream",
     "text": [
      "Epoch 180, Loss 0.0203\n",
      "Training Accuracy: 0.9760, Testing Accuracy: 0.9743\n",
      "\n"
     ]
    },
    {
     "name": "stdout",
     "output_type": "stream",
     "text": [
      "Epoch 190, Loss 0.0198\n",
      "Training Accuracy: 0.9770, Testing Accuracy: 0.9743\n",
      "\n"
     ]
    },
    {
     "name": "stdout",
     "output_type": "stream",
     "text": [
      "Epoch 200, Loss 0.0194\n",
      "Training Accuracy: 0.9781, Testing Accuracy: 0.9743\n",
      "\n"
     ]
    },
    {
     "name": "stdout",
     "output_type": "stream",
     "text": [
      "Epoch 210, Loss 0.0189\n",
      "Training Accuracy: 0.9786, Testing Accuracy: 0.9753\n",
      "\n"
     ]
    },
    {
     "name": "stdout",
     "output_type": "stream",
     "text": [
      "Epoch 220, Loss 0.0185\n",
      "Training Accuracy: 0.9792, Testing Accuracy: 0.9758\n",
      "\n"
     ]
    },
    {
     "name": "stdout",
     "output_type": "stream",
     "text": [
      "Epoch 230, Loss 0.0181\n",
      "Training Accuracy: 0.9796, Testing Accuracy: 0.9768\n",
      "\n"
     ]
    },
    {
     "name": "stdout",
     "output_type": "stream",
     "text": [
      "Epoch 240, Loss 0.0177\n",
      "Training Accuracy: 0.9804, Testing Accuracy: 0.9768\n",
      "\n"
     ]
    },
    {
     "data": {
      "text/plain": [
       "0.016360851404651478"
      ]
     },
     "execution_count": 22,
     "metadata": {},
     "output_type": "execute_result"
    }
   ],
   "source": [
    "nn_learner.train_loop(dl)"
   ]
  },
  {
   "cell_type": "code",
   "execution_count": 23,
   "id": "e0163366",
   "metadata": {
    "execution": {
     "iopub.execute_input": "2022-04-01T20:12:33.528138Z",
     "iopub.status.busy": "2022-04-01T20:12:33.527484Z",
     "iopub.status.idle": "2022-04-01T20:12:52.356263Z",
     "shell.execute_reply": "2022-04-01T20:12:52.356789Z"
    },
    "papermill": {
     "duration": 18.879339,
     "end_time": "2022-04-01T20:12:52.356972",
     "exception": false,
     "start_time": "2022-04-01T20:12:33.477633",
     "status": "completed"
    },
    "tags": []
   },
   "outputs": [
    {
     "name": "stdout",
     "output_type": "stream",
     "text": [
      "Epoch 0, Loss 0.2419\n",
      "Training Accuracy: 0.6734, Testing Accuracy: 0.6991\n",
      "\n"
     ]
    },
    {
     "name": "stdout",
     "output_type": "stream",
     "text": [
      "Epoch 10, Loss 0.102\n",
      "Training Accuracy: 0.9160, Testing Accuracy: 0.9304\n",
      "\n"
     ]
    },
    {
     "name": "stdout",
     "output_type": "stream",
     "text": [
      "Epoch 20, Loss 0.0787\n",
      "Training Accuracy: 0.9298, Testing Accuracy: 0.9405\n",
      "\n"
     ]
    },
    {
     "name": "stdout",
     "output_type": "stream",
     "text": [
      "Epoch 30, Loss 0.0679\n",
      "Training Accuracy: 0.9382, Testing Accuracy: 0.9466\n",
      "\n"
     ]
    },
    {
     "name": "stdout",
     "output_type": "stream",
     "text": [
      "Epoch 40, Loss 0.0613\n",
      "Training Accuracy: 0.9415, Testing Accuracy: 0.9531\n",
      "\n"
     ]
    },
    {
     "name": "stdout",
     "output_type": "stream",
     "text": [
      "Epoch 50, Loss 0.0568\n",
      "Training Accuracy: 0.9457, Testing Accuracy: 0.9541\n",
      "\n"
     ]
    },
    {
     "name": "stdout",
     "output_type": "stream",
     "text": [
      "Epoch 60, Loss 0.0535\n",
      "Training Accuracy: 0.9475, Testing Accuracy: 0.9561\n",
      "\n"
     ]
    },
    {
     "name": "stdout",
     "output_type": "stream",
     "text": [
      "Epoch 70, Loss 0.051\n",
      "Training Accuracy: 0.9498, Testing Accuracy: 0.9582\n",
      "\n"
     ]
    },
    {
     "name": "stdout",
     "output_type": "stream",
     "text": [
      "Epoch 80, Loss 0.0489\n",
      "Training Accuracy: 0.9512, Testing Accuracy: 0.9597\n",
      "\n"
     ]
    },
    {
     "name": "stdout",
     "output_type": "stream",
     "text": [
      "Epoch 90, Loss 0.0473\n",
      "Training Accuracy: 0.9527, Testing Accuracy: 0.9612\n",
      "\n"
     ]
    },
    {
     "name": "stdout",
     "output_type": "stream",
     "text": [
      "Epoch 100, Loss 0.0458\n",
      "Training Accuracy: 0.9533, Testing Accuracy: 0.9617\n",
      "\n"
     ]
    },
    {
     "name": "stdout",
     "output_type": "stream",
     "text": [
      "Epoch 110, Loss 0.0446\n",
      "Training Accuracy: 0.9536, Testing Accuracy: 0.9622\n",
      "\n"
     ]
    },
    {
     "name": "stdout",
     "output_type": "stream",
     "text": [
      "Epoch 120, Loss 0.0436\n",
      "Training Accuracy: 0.9543, Testing Accuracy: 0.9627\n",
      "\n"
     ]
    },
    {
     "name": "stdout",
     "output_type": "stream",
     "text": [
      "Epoch 130, Loss 0.0426\n",
      "Training Accuracy: 0.9552, Testing Accuracy: 0.9632\n",
      "\n"
     ]
    },
    {
     "name": "stdout",
     "output_type": "stream",
     "text": [
      "Epoch 140, Loss 0.0418\n",
      "Training Accuracy: 0.9562, Testing Accuracy: 0.9632\n",
      "\n"
     ]
    },
    {
     "name": "stdout",
     "output_type": "stream",
     "text": [
      "Epoch 150, Loss 0.0411\n",
      "Training Accuracy: 0.9568, Testing Accuracy: 0.9627\n",
      "\n"
     ]
    },
    {
     "name": "stdout",
     "output_type": "stream",
     "text": [
      "Epoch 160, Loss 0.0404\n",
      "Training Accuracy: 0.9568, Testing Accuracy: 0.9627\n",
      "\n"
     ]
    },
    {
     "name": "stdout",
     "output_type": "stream",
     "text": [
      "Epoch 170, Loss 0.0398\n",
      "Training Accuracy: 0.9573, Testing Accuracy: 0.9652\n",
      "\n"
     ]
    },
    {
     "name": "stdout",
     "output_type": "stream",
     "text": [
      "Epoch 180, Loss 0.0392\n",
      "Training Accuracy: 0.9580, Testing Accuracy: 0.9652\n",
      "\n"
     ]
    },
    {
     "name": "stdout",
     "output_type": "stream",
     "text": [
      "Epoch 190, Loss 0.0387\n",
      "Training Accuracy: 0.9589, Testing Accuracy: 0.9647\n",
      "\n"
     ]
    },
    {
     "name": "stdout",
     "output_type": "stream",
     "text": [
      "Epoch 200, Loss 0.0383\n",
      "Training Accuracy: 0.9591, Testing Accuracy: 0.9647\n",
      "\n"
     ]
    },
    {
     "name": "stdout",
     "output_type": "stream",
     "text": [
      "Epoch 210, Loss 0.0378\n",
      "Training Accuracy: 0.9596, Testing Accuracy: 0.9647\n",
      "\n"
     ]
    },
    {
     "name": "stdout",
     "output_type": "stream",
     "text": [
      "Epoch 220, Loss 0.0374\n",
      "Training Accuracy: 0.9598, Testing Accuracy: 0.9647\n",
      "\n"
     ]
    },
    {
     "name": "stdout",
     "output_type": "stream",
     "text": [
      "Epoch 230, Loss 0.037\n",
      "Training Accuracy: 0.9600, Testing Accuracy: 0.9647\n",
      "\n"
     ]
    },
    {
     "name": "stdout",
     "output_type": "stream",
     "text": [
      "Epoch 240, Loss 0.0367\n",
      "Training Accuracy: 0.9605, Testing Accuracy: 0.9652\n",
      "\n"
     ]
    },
    {
     "data": {
      "text/plain": [
       "0.029848451413379582"
      ]
     },
     "execution_count": 23,
     "metadata": {},
     "output_type": "execute_result"
    }
   ],
   "source": [
    "lr_learner.train_loop(dl)"
   ]
  },
  {
   "cell_type": "code",
   "execution_count": 24,
   "id": "ca410940",
   "metadata": {
    "execution": {
     "iopub.execute_input": "2022-04-01T20:12:52.479252Z",
     "iopub.status.busy": "2022-04-01T20:12:52.478499Z",
     "iopub.status.idle": "2022-04-01T20:12:52.779404Z",
     "shell.execute_reply": "2022-04-01T20:12:52.778855Z"
    },
    "papermill": {
     "duration": 0.361544,
     "end_time": "2022-04-01T20:12:52.779549",
     "exception": false,
     "start_time": "2022-04-01T20:12:52.418005",
     "status": "completed"
    },
    "tags": []
   },
   "outputs": [
    {
     "data": {
      "text/plain": [
       "<matplotlib.legend.Legend at 0x7f7252ea4cc0>"
      ]
     },
     "execution_count": 24,
     "metadata": {},
     "output_type": "execute_result"
    },
    {
     "data": {
      "image/png": "[encoded data removed]",
      "text/plain": [
       "<Figure size 1080x720 with 1 Axes>"
      ]
     },
     "metadata": {
      "needs_background": "light"
     },
     "output_type": "display_data"
    }
   ],
   "source": [
    "#comparing the results of NN and LR\n",
    "plt.figure(figsize=(15,10))\n",
    "\n",
    "# Neural Network plots\n",
    "plt.plot(acc_nn.accuracies, 'r-', label = \"Training Accuracies - NN\")\n",
    "plt.plot(acc_nn.test_accuracies, 'g-', label = \"Testing Accuracies - NN\")\n",
    "\n",
    "# Logistic Regression plots\n",
    "plt.plot(acc_lr.accuracies, 'k-', label = \"Training Accuracies - LR\")\n",
    "plt.plot(acc_lr.test_accuracies, 'b-', label = \"Testing Accuracies - LR\")\n",
    "plt.legend()"
   ]
  },
  {
   "cell_type": "markdown",
   "id": "80dfb35c",
   "metadata": {
    "papermill": {
     "duration": 0.053543,
     "end_time": "2022-04-01T20:12:52.884388",
     "exception": false,
     "start_time": "2022-04-01T20:12:52.830845",
     "status": "completed"
    },
    "tags": []
   },
   "source": [
    "#### Plotting the outputs of this layer of the NN.\n"
   ]
  },
  {
   "cell_type": "code",
   "execution_count": 25,
   "id": "45eb2ff5",
   "metadata": {
    "execution": {
     "iopub.execute_input": "2022-04-01T20:12:52.997605Z",
     "iopub.status.busy": "2022-04-01T20:12:52.996922Z",
     "iopub.status.idle": "2022-04-01T20:12:53.024812Z",
     "shell.execute_reply": "2022-04-01T20:12:53.025379Z"
    },
    "papermill": {
     "duration": 0.086279,
     "end_time": "2022-04-01T20:12:53.025556",
     "exception": false,
     "start_time": "2022-04-01T20:12:52.939277",
     "status": "completed"
    },
    "tags": []
   },
   "outputs": [],
   "source": [
    "new_model = Model(layers[:-2])\n",
    "testing_plot = new_model(testing_data_x)"
   ]
  },
  {
   "cell_type": "code",
   "execution_count": 26,
   "id": "4c0a5485",
   "metadata": {
    "execution": {
     "iopub.execute_input": "2022-04-01T20:12:53.144074Z",
     "iopub.status.busy": "2022-04-01T20:12:53.143382Z",
     "iopub.status.idle": "2022-04-01T20:12:53.384346Z",
     "shell.execute_reply": "2022-04-01T20:12:53.383761Z"
    },
    "papermill": {
     "duration": 0.302091,
     "end_time": "2022-04-01T20:12:53.384493",
     "exception": false,
     "start_time": "2022-04-01T20:12:53.082402",
     "status": "completed"
    },
    "tags": []
   },
   "outputs": [
    {
     "data": {
      "text/plain": [
       "Text(0.5, 1.0, 'Outputs')"
      ]
     },
     "execution_count": 26,
     "metadata": {},
     "output_type": "execute_result"
    },
    {
     "data": {
      "image/png": "[encoded data removed]",
      "text/plain": [
       "<Figure size 576x504 with 1 Axes>"
      ]
     },
     "metadata": {
      "needs_background": "light"
     },
     "output_type": "display_data"
    }
   ],
   "source": [
    "# Plotting the scatter plot of points and color coding by class\n",
    "plt.figure(figsize=(8,7))\n",
    "plt.scatter(testing_plot[:,0], testing_plot[:,1], alpha = 0.1, c = y_test.ravel());\n",
    "plt.title('Outputs')"
   ]
  },
  {
   "cell_type": "markdown",
   "id": "a74fcf8f",
   "metadata": {
    "papermill": {
     "duration": 0.054048,
     "end_time": "2022-04-01T20:12:53.494413",
     "exception": false,
     "start_time": "2022-04-01T20:12:53.440365",
     "status": "completed"
    },
    "tags": []
   },
   "source": [
    "Probability contours"
   ]
  },
  {
   "cell_type": "code",
   "execution_count": 27,
   "id": "d0afc8e3",
   "metadata": {
    "execution": {
     "iopub.execute_input": "2022-04-01T20:12:53.639083Z",
     "iopub.status.busy": "2022-04-01T20:12:53.636207Z",
     "iopub.status.idle": "2022-04-01T20:12:53.649079Z",
     "shell.execute_reply": "2022-04-01T20:12:53.649690Z"
    },
    "papermill": {
     "duration": 0.071872,
     "end_time": "2022-04-01T20:12:53.649919",
     "exception": false,
     "start_time": "2022-04-01T20:12:53.578047",
     "status": "completed"
    },
    "tags": []
   },
   "outputs": [],
   "source": [
    "model_prob = Model(layers[-2:]) "
   ]
  },
  {
   "cell_type": "code",
   "execution_count": 28,
   "id": "9b96e238",
   "metadata": {
    "execution": {
     "iopub.execute_input": "2022-04-01T20:12:53.771577Z",
     "iopub.status.busy": "2022-04-01T20:12:53.770858Z",
     "iopub.status.idle": "2022-04-01T20:12:53.782850Z",
     "shell.execute_reply": "2022-04-01T20:12:53.783372Z"
    },
    "papermill": {
     "duration": 0.077665,
     "end_time": "2022-04-01T20:12:53.783543",
     "exception": false,
     "start_time": "2022-04-01T20:12:53.705878",
     "status": "completed"
    },
    "tags": []
   },
   "outputs": [],
   "source": [
    "#creating the x and y ranges according to the above generated plot.\n",
    "x_range = np.linspace(-4, 1, 100) \n",
    "y_range = np.linspace(-6, 6, 100) \n",
    "x_grid, y_grid = np.meshgrid(x_range, y_range) # x_grid and y_grig are of size 100 X 100\n",
    "\n",
    "# converting x_grid and y_grid to continuous arrays\n",
    "x_gridflat = np.ravel(x_grid)\n",
    "y_gridflat = np.ravel(y_grid)\n",
    "\n",
    "# The last layer of the current model takes two columns as input. Hence transpose of np.vstack() is required.\n",
    "X = np.vstack((x_gridflat, y_gridflat)).T\n",
    "\n",
    "prob_contour = model_prob(X).reshape(100,100) "
   ]
  },
  {
   "cell_type": "code",
   "execution_count": 29,
   "id": "da72499a",
   "metadata": {
    "execution": {
     "iopub.execute_input": "2022-04-01T20:12:53.900116Z",
     "iopub.status.busy": "2022-04-01T20:12:53.899433Z",
     "iopub.status.idle": "2022-04-01T20:12:54.218523Z",
     "shell.execute_reply": "2022-04-01T20:12:54.217589Z"
    },
    "papermill": {
     "duration": 0.378565,
     "end_time": "2022-04-01T20:12:54.218673",
     "exception": false,
     "start_time": "2022-04-01T20:12:53.840108",
     "status": "completed"
    },
    "tags": []
   },
   "outputs": [
    {
     "data": {
      "image/png": "[encoded data removed]",
      "text/plain": [
       "<Figure size 720x648 with 1 Axes>"
      ]
     },
     "metadata": {
      "needs_background": "light"
     },
     "output_type": "display_data"
    }
   ],
   "source": [
    "plt.figure(figsize=(10,9))\n",
    "plt.scatter(testing_plot[:,0], testing_plot[:,1], alpha = 0.1, c = y_test.ravel())\n",
    "contours = plt.contour(x_grid,y_grid,prob_contour)\n",
    "plt.title('Probability Contours')\n",
    "plt.clabel(contours, inline = True );"
   ]
  },
  {
   "cell_type": "code",
   "execution_count": null,
   "id": "e81b4ac7",
   "metadata": {
    "papermill": {
     "duration": 0.063339,
     "end_time": "2022-04-01T20:12:54.343400",
     "exception": false,
     "start_time": "2022-04-01T20:12:54.280061",
     "status": "completed"
    },
    "tags": []
   },
   "outputs": [],
   "source": []
  }
 ],
 "metadata": {
  "kernelspec": {
   "display_name": "Python 3",
   "language": "python",
   "name": "python3"
  },
  "language_info": {
   "codemirror_mode": {
    "name": "ipython",
    "version": 3
   },
   "file_extension": ".py",
   "mimetype": "text/x-python",
   "name": "python",
   "nbconvert_exporter": "python",
   "pygments_lexer": "ipython3",
   "version": "3.6.15"
  },
  "papermill": {
   "default_parameters": {},
   "duration": 155.127557,
   "end_time": "2022-04-01T20:12:54.823737",
   "environment_variables": {},
   "exception": null,
   "input_path": "2020-08-11-part2.ipynb",
   "output_path": "2020-08-11-part2.ipynb",
   "parameters": {},
   "start_time": "2022-04-01T20:10:19.696180",
   "version": "2.3.3"
  }
 },
 "nbformat": 4,
 "nbformat_minor": 5
}