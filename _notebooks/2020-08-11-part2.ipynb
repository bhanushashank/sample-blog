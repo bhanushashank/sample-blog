{
 "cells": [
  {
   "cell_type": "markdown",
   "id": "98380cd3",
   "metadata": {
    "papermill": {
     "duration": 0.028785,
     "end_time": "2022-02-07T10:07:29.616967",
     "exception": false,
     "start_time": "2022-02-07T10:07:29.588182",
     "status": "completed"
    },
    "tags": []
   },
   "source": [
    "# Distinguish Your Own Digits (DYOD)"
   ]
  },
  {
   "cell_type": "markdown",
   "id": "ef31240d",
   "metadata": {
    "papermill": {
     "duration": 0.024079,
     "end_time": "2022-02-07T10:07:29.665743",
     "exception": false,
     "start_time": "2022-02-07T10:07:29.641664",
     "status": "completed"
    },
    "tags": []
   },
   "source": [
    "You are going to write a classifier that distinguishes between the number 3 and number 8."
   ]
  },
  {
   "cell_type": "code",
   "execution_count": 1,
   "id": "b15c8646",
   "metadata": {
    "execution": {
     "iopub.execute_input": "2022-02-07T10:07:29.725574Z",
     "iopub.status.busy": "2022-02-07T10:07:29.725025Z",
     "iopub.status.idle": "2022-02-07T10:07:29.735156Z",
     "shell.execute_reply": "2022-02-07T10:07:29.735559Z"
    },
    "papermill": {
     "duration": 0.046041,
     "end_time": "2022-02-07T10:07:29.735722",
     "exception": false,
     "start_time": "2022-02-07T10:07:29.689681",
     "status": "completed"
    },
    "tags": []
   },
   "outputs": [],
   "source": [
    "%load_ext autoreload\n",
    "%autoreload 2"
   ]
  },
  {
   "cell_type": "code",
   "execution_count": 2,
   "id": "22ef38dc",
   "metadata": {
    "execution": {
     "iopub.execute_input": "2022-02-07T10:07:29.795685Z",
     "iopub.status.busy": "2022-02-07T10:07:29.795141Z",
     "iopub.status.idle": "2022-02-07T10:07:30.389416Z",
     "shell.execute_reply": "2022-02-07T10:07:30.388869Z"
    },
    "papermill": {
     "duration": 0.629769,
     "end_time": "2022-02-07T10:07:30.389558",
     "exception": false,
     "start_time": "2022-02-07T10:07:29.759789",
     "status": "completed"
    },
    "tags": []
   },
   "outputs": [],
   "source": [
    "%matplotlib inline\n",
    "import numpy as np\n",
    "import matplotlib.pyplot as plt\n",
    "import pandas as pd"
   ]
  },
  {
   "cell_type": "markdown",
   "id": "ba036198",
   "metadata": {
    "papermill": {
     "duration": 0.021066,
     "end_time": "2022-02-07T10:07:30.431998",
     "exception": false,
     "start_time": "2022-02-07T10:07:30.410932",
     "status": "completed"
    },
    "tags": []
   },
   "source": [
    "From the command line run `pip install mnist`. This is a library that will help you bring down the mnist dataset. If you run this from a notebook, you need to put  `!pip install mnist` in a cell by itself."
   ]
  },
  {
   "cell_type": "code",
   "execution_count": 3,
   "id": "bb6ad8a1",
   "metadata": {
    "execution": {
     "iopub.execute_input": "2022-02-07T10:07:30.482531Z",
     "iopub.status.busy": "2022-02-07T10:07:30.482005Z",
     "iopub.status.idle": "2022-02-07T10:07:32.172501Z",
     "shell.execute_reply": "2022-02-07T10:07:32.171633Z"
    },
    "papermill": {
     "duration": 1.719745,
     "end_time": "2022-02-07T10:07:32.172648",
     "exception": false,
     "start_time": "2022-02-07T10:07:30.452903",
     "status": "completed"
    },
    "tags": []
   },
   "outputs": [
    {
     "name": "stdout",
     "output_type": "stream",
     "text": [
      "Collecting mnist\r\n"
     ]
    },
    {
     "name": "stdout",
     "output_type": "stream",
     "text": [
      "  Downloading mnist-0.2.2-py2.py3-none-any.whl (3.5 kB)\r\n",
      "Requirement already satisfied: numpy in /opt/hostedtoolcache/Python/3.6.15/x64/lib/python3.6/site-packages (from mnist) (1.19.5)\r\n"
     ]
    },
    {
     "name": "stdout",
     "output_type": "stream",
     "text": [
      "Installing collected packages: mnist\r\n"
     ]
    },
    {
     "name": "stdout",
     "output_type": "stream",
     "text": [
      "Successfully installed mnist-0.2.2\r\n"
     ]
    }
   ],
   "source": [
    "!pip install mnist"
   ]
  },
  {
   "cell_type": "markdown",
   "id": "69df9c9a",
   "metadata": {
    "papermill": {
     "duration": 0.024816,
     "end_time": "2022-02-07T10:07:32.222604",
     "exception": false,
     "start_time": "2022-02-07T10:07:32.197788",
     "status": "completed"
    },
    "tags": []
   },
   "source": [
    "## Preparing the Data"
   ]
  },
  {
   "cell_type": "code",
   "execution_count": 4,
   "id": "7f69d806",
   "metadata": {
    "execution": {
     "iopub.execute_input": "2022-02-07T10:07:32.288094Z",
     "iopub.status.busy": "2022-02-07T10:07:32.283126Z",
     "iopub.status.idle": "2022-02-07T10:07:32.293974Z",
     "shell.execute_reply": "2022-02-07T10:07:32.293541Z"
    },
    "papermill": {
     "duration": 0.04685,
     "end_time": "2022-02-07T10:07:32.294083",
     "exception": false,
     "start_time": "2022-02-07T10:07:32.247233",
     "status": "completed"
    },
    "tags": []
   },
   "outputs": [],
   "source": [
    "import mnist"
   ]
  },
  {
   "cell_type": "code",
   "execution_count": 5,
   "id": "a411e44f",
   "metadata": {
    "execution": {
     "iopub.execute_input": "2022-02-07T10:07:32.347115Z",
     "iopub.status.busy": "2022-02-07T10:07:32.346604Z",
     "iopub.status.idle": "2022-02-07T10:07:32.903884Z",
     "shell.execute_reply": "2022-02-07T10:07:32.903399Z"
    },
    "papermill": {
     "duration": 0.585212,
     "end_time": "2022-02-07T10:07:32.904015",
     "exception": false,
     "start_time": "2022-02-07T10:07:32.318803",
     "status": "completed"
    },
    "tags": []
   },
   "outputs": [],
   "source": [
    "train_images = mnist.train_images()\n",
    "train_labels = mnist.train_labels()"
   ]
  },
  {
   "cell_type": "code",
   "execution_count": 6,
   "id": "dceab3a5",
   "metadata": {
    "execution": {
     "iopub.execute_input": "2022-02-07T10:07:32.971346Z",
     "iopub.status.busy": "2022-02-07T10:07:32.964158Z",
     "iopub.status.idle": "2022-02-07T10:07:32.973975Z",
     "shell.execute_reply": "2022-02-07T10:07:32.974356Z"
    },
    "papermill": {
     "duration": 0.045453,
     "end_time": "2022-02-07T10:07:32.974491",
     "exception": false,
     "start_time": "2022-02-07T10:07:32.929038",
     "status": "completed"
    },
    "tags": []
   },
   "outputs": [
    {
     "data": {
      "text/plain": [
       "((60000, 28, 28), (60000,))"
      ]
     },
     "execution_count": 6,
     "metadata": {},
     "output_type": "execute_result"
    }
   ],
   "source": [
    "train_images.shape, train_labels.shape"
   ]
  },
  {
   "cell_type": "code",
   "execution_count": 7,
   "id": "f50dc2bb",
   "metadata": {
    "execution": {
     "iopub.execute_input": "2022-02-07T10:07:33.027452Z",
     "iopub.status.busy": "2022-02-07T10:07:33.026949Z",
     "iopub.status.idle": "2022-02-07T10:07:33.189484Z",
     "shell.execute_reply": "2022-02-07T10:07:33.188994Z"
    },
    "papermill": {
     "duration": 0.190373,
     "end_time": "2022-02-07T10:07:33.189613",
     "exception": false,
     "start_time": "2022-02-07T10:07:32.999240",
     "status": "completed"
    },
    "tags": []
   },
   "outputs": [],
   "source": [
    "test_images = mnist.test_images()\n",
    "test_labels = mnist.test_labels()"
   ]
  },
  {
   "cell_type": "code",
   "execution_count": 8,
   "id": "fc38cf1b",
   "metadata": {
    "execution": {
     "iopub.execute_input": "2022-02-07T10:07:33.252941Z",
     "iopub.status.busy": "2022-02-07T10:07:33.251193Z",
     "iopub.status.idle": "2022-02-07T10:07:33.260077Z",
     "shell.execute_reply": "2022-02-07T10:07:33.259046Z"
    },
    "papermill": {
     "duration": 0.045262,
     "end_time": "2022-02-07T10:07:33.260195",
     "exception": false,
     "start_time": "2022-02-07T10:07:33.214933",
     "status": "completed"
    },
    "tags": []
   },
   "outputs": [
    {
     "data": {
      "text/plain": [
       "((10000, 28, 28), (10000,))"
      ]
     },
     "execution_count": 8,
     "metadata": {},
     "output_type": "execute_result"
    }
   ],
   "source": [
    "test_images.shape, test_labels.shape"
   ]
  },
  {
   "cell_type": "code",
   "execution_count": 9,
   "id": "f9ed8fe0",
   "metadata": {
    "execution": {
     "iopub.execute_input": "2022-02-07T10:07:33.314656Z",
     "iopub.status.busy": "2022-02-07T10:07:33.313506Z",
     "iopub.status.idle": "2022-02-07T10:07:33.454165Z",
     "shell.execute_reply": "2022-02-07T10:07:33.454589Z"
    },
    "papermill": {
     "duration": 0.169295,
     "end_time": "2022-02-07T10:07:33.454730",
     "exception": false,
     "start_time": "2022-02-07T10:07:33.285435",
     "status": "completed"
    },
    "tags": []
   },
   "outputs": [
    {
     "name": "stdout",
     "output_type": "stream",
     "text": [
      "2\n"
     ]
    },
    {
     "data": {
      "text/plain": [
       "<matplotlib.image.AxesImage at 0x7fc86869bc88>"
      ]
     },
     "execution_count": 9,
     "metadata": {},
     "output_type": "execute_result"
    },
    {
     "data": {
      "image/png": "[encoded data removed]",
      "text/plain": [
       "<Figure size 432x288 with 1 Axes>"
      ]
     },
     "metadata": {
      "needs_background": "light"
     },
     "output_type": "display_data"
    }
   ],
   "source": [
    "image_index = 7776 # You may select anything up to 60,000\n",
    "print(train_labels[image_index]) \n",
    "plt.imshow(train_images[image_index], cmap='Greys')"
   ]
  },
  {
   "cell_type": "markdown",
   "id": "a8d2388d",
   "metadata": {
    "papermill": {
     "duration": 0.026444,
     "end_time": "2022-02-07T10:07:33.508031",
     "exception": false,
     "start_time": "2022-02-07T10:07:33.481587",
     "status": "completed"
    },
    "tags": []
   },
   "source": [
    "## Filter data to get 3 and 8 out"
   ]
  },
  {
   "cell_type": "code",
   "execution_count": 10,
   "id": "776f7fc7",
   "metadata": {
    "execution": {
     "iopub.execute_input": "2022-02-07T10:07:33.565323Z",
     "iopub.status.busy": "2022-02-07T10:07:33.564796Z",
     "iopub.status.idle": "2022-02-07T10:07:33.581625Z",
     "shell.execute_reply": "2022-02-07T10:07:33.581190Z"
    },
    "papermill": {
     "duration": 0.047356,
     "end_time": "2022-02-07T10:07:33.581737",
     "exception": false,
     "start_time": "2022-02-07T10:07:33.534381",
     "status": "completed"
    },
    "tags": []
   },
   "outputs": [],
   "source": [
    "train_filter = np.where((train_labels == 3 ) | (train_labels == 8))\n",
    "test_filter = np.where((test_labels == 3) | (test_labels == 8))\n",
    "X_train, y_train = train_images[train_filter], train_labels[train_filter]\n",
    "X_test, y_test = test_images[test_filter], test_labels[test_filter]"
   ]
  },
  {
   "cell_type": "markdown",
   "id": "948f0b7e",
   "metadata": {
    "papermill": {
     "duration": 0.026292,
     "end_time": "2022-02-07T10:07:33.634292",
     "exception": false,
     "start_time": "2022-02-07T10:07:33.608000",
     "status": "completed"
    },
    "tags": []
   },
   "source": [
    "We normalize the pizel values in the 0 to 1 range"
   ]
  },
  {
   "cell_type": "code",
   "execution_count": 11,
   "id": "ee4c2166",
   "metadata": {
    "execution": {
     "iopub.execute_input": "2022-02-07T10:07:33.690394Z",
     "iopub.status.busy": "2022-02-07T10:07:33.689881Z",
     "iopub.status.idle": "2022-02-07T10:07:33.736462Z",
     "shell.execute_reply": "2022-02-07T10:07:33.736925Z"
    },
    "papermill": {
     "duration": 0.07656,
     "end_time": "2022-02-07T10:07:33.737093",
     "exception": false,
     "start_time": "2022-02-07T10:07:33.660533",
     "status": "completed"
    },
    "tags": []
   },
   "outputs": [],
   "source": [
    "X_train = X_train/255.\n",
    "X_test = X_test/255."
   ]
  },
  {
   "cell_type": "markdown",
   "id": "ddcf4fab",
   "metadata": {
    "papermill": {
     "duration": 0.026265,
     "end_time": "2022-02-07T10:07:33.790243",
     "exception": false,
     "start_time": "2022-02-07T10:07:33.763978",
     "status": "completed"
    },
    "tags": []
   },
   "source": [
    "And setup the labels as 1 (when the digit is 3) and 0 (when the digit is 8)"
   ]
  },
  {
   "cell_type": "code",
   "execution_count": 12,
   "id": "7dc908f2",
   "metadata": {
    "execution": {
     "iopub.execute_input": "2022-02-07T10:07:33.861313Z",
     "iopub.status.busy": "2022-02-07T10:07:33.860781Z",
     "iopub.status.idle": "2022-02-07T10:07:33.863288Z",
     "shell.execute_reply": "2022-02-07T10:07:33.863694Z"
    },
    "papermill": {
     "duration": 0.047495,
     "end_time": "2022-02-07T10:07:33.863825",
     "exception": false,
     "start_time": "2022-02-07T10:07:33.816330",
     "status": "completed"
    },
    "tags": []
   },
   "outputs": [],
   "source": [
    "y_train = 1*(y_train==3)\n",
    "y_test = 1*(y_test==3)"
   ]
  },
  {
   "cell_type": "code",
   "execution_count": 13,
   "id": "01e4e969",
   "metadata": {
    "execution": {
     "iopub.execute_input": "2022-02-07T10:07:33.920931Z",
     "iopub.status.busy": "2022-02-07T10:07:33.919497Z",
     "iopub.status.idle": "2022-02-07T10:07:33.932071Z",
     "shell.execute_reply": "2022-02-07T10:07:33.931658Z"
    },
    "papermill": {
     "duration": 0.042142,
     "end_time": "2022-02-07T10:07:33.932182",
     "exception": false,
     "start_time": "2022-02-07T10:07:33.890040",
     "status": "completed"
    },
    "tags": []
   },
   "outputs": [
    {
     "data": {
      "text/plain": [
       "((11982, 28, 28), (1984, 28, 28))"
      ]
     },
     "execution_count": 13,
     "metadata": {},
     "output_type": "execute_result"
    }
   ],
   "source": [
    "X_train.shape, X_test.shape"
   ]
  },
  {
   "cell_type": "markdown",
   "id": "5ccf3f85",
   "metadata": {
    "papermill": {
     "duration": 0.026495,
     "end_time": "2022-02-07T10:07:33.985602",
     "exception": false,
     "start_time": "2022-02-07T10:07:33.959107",
     "status": "completed"
    },
    "tags": []
   },
   "source": [
    "We reshape the data to flatten the image pixels into a set of features or co-variates:"
   ]
  },
  {
   "cell_type": "code",
   "execution_count": 14,
   "id": "5286a4a3",
   "metadata": {
    "execution": {
     "iopub.execute_input": "2022-02-07T10:07:34.045018Z",
     "iopub.status.busy": "2022-02-07T10:07:34.044538Z",
     "iopub.status.idle": "2022-02-07T10:07:34.056477Z",
     "shell.execute_reply": "2022-02-07T10:07:34.056820Z"
    },
    "papermill": {
     "duration": 0.044781,
     "end_time": "2022-02-07T10:07:34.056941",
     "exception": false,
     "start_time": "2022-02-07T10:07:34.012160",
     "status": "completed"
    },
    "tags": []
   },
   "outputs": [
    {
     "data": {
      "text/plain": [
       "((11982, 784), (1984, 784))"
      ]
     },
     "execution_count": 14,
     "metadata": {},
     "output_type": "execute_result"
    }
   ],
   "source": [
    "X_train = X_train.reshape(X_train.shape[0], -1)\n",
    "X_test = X_test.reshape(X_test.shape[0], -1)\n",
    "X_train.shape, X_test.shape"
   ]
  },
  {
   "cell_type": "code",
   "execution_count": 15,
   "id": "73c5f88a",
   "metadata": {
    "execution": {
     "iopub.execute_input": "2022-02-07T10:07:34.109418Z",
     "iopub.status.busy": "2022-02-07T10:07:34.108950Z",
     "iopub.status.idle": "2022-02-07T10:07:34.128189Z",
     "shell.execute_reply": "2022-02-07T10:07:34.127711Z"
    },
    "papermill": {
     "duration": 0.047239,
     "end_time": "2022-02-07T10:07:34.128356",
     "exception": false,
     "start_time": "2022-02-07T10:07:34.081117",
     "status": "completed"
    },
    "tags": []
   },
   "outputs": [],
   "source": [
    "#Impoting functions from 'Kudzu'\n",
    "from kudzu.model import Model\n",
    "from kudzu.train import Learner\n",
    "from kudzu.optim import GD\n",
    "from kudzu.data import Data, Sampler,Dataloader\n",
    "\n",
    "from kudzu.callbacks import AccCallback\n",
    "from kudzu.callbacks import ClfCallback\n",
    "\n",
    "from kudzu.loss import MSE\n",
    "\n",
    "from kudzu.layer import Sigmoid,Relu\n",
    "from kudzu.layer import Affine"
   ]
  },
  {
   "cell_type": "markdown",
   "id": "bc01172a",
   "metadata": {
    "papermill": {
     "duration": 0.023722,
     "end_time": "2022-02-07T10:07:34.177669",
     "exception": false,
     "start_time": "2022-02-07T10:07:34.153947",
     "status": "completed"
    },
    "tags": []
   },
   "source": [
    "### Let us create a `Config` class, to store important parameters. \n",
    "This class essentially plays the role of a dictionary."
   ]
  },
  {
   "cell_type": "code",
   "execution_count": 16,
   "id": "978281aa",
   "metadata": {
    "execution": {
     "iopub.execute_input": "2022-02-07T10:07:34.233581Z",
     "iopub.status.busy": "2022-02-07T10:07:34.233041Z",
     "iopub.status.idle": "2022-02-07T10:07:34.241643Z",
     "shell.execute_reply": "2022-02-07T10:07:34.241206Z"
    },
    "papermill": {
     "duration": 0.040629,
     "end_time": "2022-02-07T10:07:34.241752",
     "exception": false,
     "start_time": "2022-02-07T10:07:34.201123",
     "status": "completed"
    },
    "tags": []
   },
   "outputs": [],
   "source": [
    "class Config:\n",
    "    pass\n",
    "config = Config()\n",
    "config.lr = 0.001\n",
    "config.num_epochs = 250\n",
    "config.bs = 50"
   ]
  },
  {
   "cell_type": "markdown",
   "id": "1385fa59",
   "metadata": {
    "papermill": {
     "duration": 0.026726,
     "end_time": "2022-02-07T10:07:34.295499",
     "exception": false,
     "start_time": "2022-02-07T10:07:34.268773",
     "status": "completed"
    },
    "tags": []
   },
   "source": [
    "### Running Models with the Training data\n",
    "Details about the network layers:\n",
    "- A first affine layer has 784 inputs and does 100 affine transforms. These are followed by a Relu\n",
    "- A second affine layer has 100 inputs from the 100 activations of the past layer, and does 100 affine transforms. These are followed by a Relu\n",
    "- A third affine layer has 100 activations and does 2 affine transformations to create an embedding for visualization. There is no non-linearity here.\n",
    "- A final \"logistic regression\" which has an affine transform from 2 inputs to 1 output, which is squeezed through a sigmoid.\n"
   ]
  },
  {
   "cell_type": "code",
   "execution_count": 17,
   "id": "2b9c66db",
   "metadata": {
    "execution": {
     "iopub.execute_input": "2022-02-07T10:07:34.359795Z",
     "iopub.status.busy": "2022-02-07T10:07:34.359304Z",
     "iopub.status.idle": "2022-02-07T10:07:34.368199Z",
     "shell.execute_reply": "2022-02-07T10:07:34.367822Z"
    },
    "papermill": {
     "duration": 0.045881,
     "end_time": "2022-02-07T10:07:34.368323",
     "exception": false,
     "start_time": "2022-02-07T10:07:34.322442",
     "status": "completed"
    },
    "tags": []
   },
   "outputs": [],
   "source": [
    "data = Data(X_train, y_train.reshape(-1,1))\n",
    "sampler = Sampler(data, config.bs, shuffle=True)\n",
    "\n",
    "dl = Dataloader(data, sampler)\n",
    "\n",
    "opt = GD(config.lr)\n",
    "loss = MSE()"
   ]
  },
  {
   "cell_type": "code",
   "execution_count": 18,
   "id": "b275e4c2",
   "metadata": {
    "execution": {
     "iopub.execute_input": "2022-02-07T10:07:34.421917Z",
     "iopub.status.busy": "2022-02-07T10:07:34.421459Z",
     "iopub.status.idle": "2022-02-07T10:07:34.431789Z",
     "shell.execute_reply": "2022-02-07T10:07:34.431398Z"
    },
    "papermill": {
     "duration": 0.039818,
     "end_time": "2022-02-07T10:07:34.431889",
     "exception": false,
     "start_time": "2022-02-07T10:07:34.392071",
     "status": "completed"
    },
    "tags": []
   },
   "outputs": [],
   "source": [
    "training_data_x = X_train\n",
    "testing_data_x = X_test\n",
    "training_data_y = y_train.reshape(-1,1)\n",
    "testing_data_y = y_test.reshape(-1,1)"
   ]
  },
  {
   "cell_type": "code",
   "execution_count": 19,
   "id": "76951160",
   "metadata": {
    "execution": {
     "iopub.execute_input": "2022-02-07T10:07:34.495419Z",
     "iopub.status.busy": "2022-02-07T10:07:34.488797Z",
     "iopub.status.idle": "2022-02-07T10:07:34.501571Z",
     "shell.execute_reply": "2022-02-07T10:07:34.501207Z"
    },
    "papermill": {
     "duration": 0.046364,
     "end_time": "2022-02-07T10:07:34.501671",
     "exception": false,
     "start_time": "2022-02-07T10:07:34.455307",
     "status": "completed"
    },
    "tags": []
   },
   "outputs": [
    {
     "name": "stdout",
     "output_type": "stream",
     "text": [
      "xavier\n",
      "xavier\n",
      "xavier\n",
      "xavier\n",
      "xavier\n"
     ]
    }
   ],
   "source": [
    "layers = [Affine(\"first\", 784, 100), Relu(\"first\"), Affine(\"second\", 100, 100), Relu(\"second\"), Affine(\"third\", 100, 2), Affine(\"last\", 2, 1), Sigmoid(\"last\")]\n",
    "model_nn = Model(layers)\n",
    "model_lr = Model([Affine(\"logits\", 784, 1), Sigmoid(\"sigmoid\")])"
   ]
  },
  {
   "cell_type": "code",
   "execution_count": 20,
   "id": "6eede77a",
   "metadata": {
    "execution": {
     "iopub.execute_input": "2022-02-07T10:07:34.553525Z",
     "iopub.status.busy": "2022-02-07T10:07:34.553085Z",
     "iopub.status.idle": "2022-02-07T10:07:34.565891Z",
     "shell.execute_reply": "2022-02-07T10:07:34.565516Z"
    },
    "papermill": {
     "duration": 0.04035,
     "end_time": "2022-02-07T10:07:34.565985",
     "exception": false,
     "start_time": "2022-02-07T10:07:34.525635",
     "status": "completed"
    },
    "tags": []
   },
   "outputs": [],
   "source": [
    "nn_learner = Learner(loss, model_nn, opt, config.num_epochs)\n",
    "acc_nn = ClfCallback(nn_learner, config.bs, training_data_x , testing_data_x, training_data_y, testing_data_y)\n",
    "nn_learner.set_callbacks([acc_nn])"
   ]
  },
  {
   "cell_type": "code",
   "execution_count": 21,
   "id": "877b6cc7",
   "metadata": {
    "execution": {
     "iopub.execute_input": "2022-02-07T10:07:34.629310Z",
     "iopub.status.busy": "2022-02-07T10:07:34.628855Z",
     "iopub.status.idle": "2022-02-07T10:07:34.634350Z",
     "shell.execute_reply": "2022-02-07T10:07:34.634692Z"
    },
    "papermill": {
     "duration": 0.045001,
     "end_time": "2022-02-07T10:07:34.634810",
     "exception": false,
     "start_time": "2022-02-07T10:07:34.589809",
     "status": "completed"
    },
    "tags": []
   },
   "outputs": [],
   "source": [
    "lr_learner = Learner(loss, model_lr, opt, config.num_epochs)\n",
    "acc_lr = ClfCallback(lr_learner, config.bs, training_data_x , testing_data_x, training_data_y, testing_data_y)\n",
    "lr_learner.set_callbacks([acc_lr])"
   ]
  },
  {
   "cell_type": "code",
   "execution_count": 22,
   "id": "d9b133c3",
   "metadata": {
    "execution": {
     "iopub.execute_input": "2022-02-07T10:07:34.687359Z",
     "iopub.status.busy": "2022-02-07T10:07:34.686914Z",
     "iopub.status.idle": "2022-02-07T10:08:51.046221Z",
     "shell.execute_reply": "2022-02-07T10:08:51.046892Z"
    },
    "papermill": {
     "duration": 76.388292,
     "end_time": "2022-02-07T10:08:51.047055",
     "exception": false,
     "start_time": "2022-02-07T10:07:34.658763",
     "status": "completed"
    },
    "tags": []
   },
   "outputs": [
    {
     "name": "stdout",
     "output_type": "stream",
     "text": [
      "Epoch 0, Loss 0.2461\n",
      "Training Accuracy: 0.6552, Testing Accuracy: 0.6658\n",
      "\n"
     ]
    },
    {
     "name": "stdout",
     "output_type": "stream",
     "text": [
      "Epoch 10, Loss 0.0957\n",
      "Training Accuracy: 0.9130, Testing Accuracy: 0.9244\n",
      "\n"
     ]
    },
    {
     "name": "stdout",
     "output_type": "stream",
     "text": [
      "Epoch 20, Loss 0.0576\n",
      "Training Accuracy: 0.9380, Testing Accuracy: 0.9536\n",
      "\n"
     ]
    },
    {
     "name": "stdout",
     "output_type": "stream",
     "text": [
      "Epoch 30, Loss 0.0451\n",
      "Training Accuracy: 0.9496, Testing Accuracy: 0.9587\n",
      "\n"
     ]
    },
    {
     "name": "stdout",
     "output_type": "stream",
     "text": [
      "Epoch 40, Loss 0.0388\n",
      "Training Accuracy: 0.9565, Testing Accuracy: 0.9657\n",
      "\n"
     ]
    },
    {
     "name": "stdout",
     "output_type": "stream",
     "text": [
      "Epoch 50, Loss 0.0351\n",
      "Training Accuracy: 0.9597, Testing Accuracy: 0.9672\n",
      "\n"
     ]
    },
    {
     "name": "stdout",
     "output_type": "stream",
     "text": [
      "Epoch 60, Loss 0.0325\n",
      "Training Accuracy: 0.9623, Testing Accuracy: 0.9688\n",
      "\n"
     ]
    },
    {
     "name": "stdout",
     "output_type": "stream",
     "text": [
      "Epoch 70, Loss 0.0306\n",
      "Training Accuracy: 0.9653, Testing Accuracy: 0.9688\n",
      "\n"
     ]
    },
    {
     "name": "stdout",
     "output_type": "stream",
     "text": [
      "Epoch 80, Loss 0.029\n",
      "Training Accuracy: 0.9668, Testing Accuracy: 0.9682\n",
      "\n"
     ]
    },
    {
     "name": "stdout",
     "output_type": "stream",
     "text": [
      "Epoch 90, Loss 0.0278\n",
      "Training Accuracy: 0.9676, Testing Accuracy: 0.9693\n",
      "\n"
     ]
    },
    {
     "name": "stdout",
     "output_type": "stream",
     "text": [
      "Epoch 100, Loss 0.0267\n",
      "Training Accuracy: 0.9684, Testing Accuracy: 0.9688\n",
      "\n"
     ]
    },
    {
     "name": "stdout",
     "output_type": "stream",
     "text": [
      "Epoch 110, Loss 0.0258\n",
      "Training Accuracy: 0.9694, Testing Accuracy: 0.9688\n",
      "\n"
     ]
    },
    {
     "name": "stdout",
     "output_type": "stream",
     "text": [
      "Epoch 120, Loss 0.025\n",
      "Training Accuracy: 0.9705, Testing Accuracy: 0.9693\n",
      "\n"
     ]
    },
    {
     "name": "stdout",
     "output_type": "stream",
     "text": [
      "Epoch 130, Loss 0.0243\n",
      "Training Accuracy: 0.9713, Testing Accuracy: 0.9703\n",
      "\n"
     ]
    },
    {
     "name": "stdout",
     "output_type": "stream",
     "text": [
      "Epoch 140, Loss 0.0237\n",
      "Training Accuracy: 0.9724, Testing Accuracy: 0.9703\n",
      "\n"
     ]
    },
    {
     "name": "stdout",
     "output_type": "stream",
     "text": [
      "Epoch 150, Loss 0.0231\n",
      "Training Accuracy: 0.9730, Testing Accuracy: 0.9698\n",
      "\n"
     ]
    },
    {
     "name": "stdout",
     "output_type": "stream",
     "text": [
      "Epoch 160, Loss 0.0226\n",
      "Training Accuracy: 0.9735, Testing Accuracy: 0.9703\n",
      "\n"
     ]
    },
    {
     "name": "stdout",
     "output_type": "stream",
     "text": [
      "Epoch 170, Loss 0.0221\n",
      "Training Accuracy: 0.9740, Testing Accuracy: 0.9708\n",
      "\n"
     ]
    },
    {
     "name": "stdout",
     "output_type": "stream",
     "text": [
      "Epoch 180, Loss 0.0216\n",
      "Training Accuracy: 0.9745, Testing Accuracy: 0.9703\n",
      "\n"
     ]
    },
    {
     "name": "stdout",
     "output_type": "stream",
     "text": [
      "Epoch 190, Loss 0.0211\n",
      "Training Accuracy: 0.9750, Testing Accuracy: 0.9708\n",
      "\n"
     ]
    },
    {
     "name": "stdout",
     "output_type": "stream",
     "text": [
      "Epoch 200, Loss 0.0207\n",
      "Training Accuracy: 0.9759, Testing Accuracy: 0.9708\n",
      "\n"
     ]
    },
    {
     "name": "stdout",
     "output_type": "stream",
     "text": [
      "Epoch 210, Loss 0.0203\n",
      "Training Accuracy: 0.9765, Testing Accuracy: 0.9708\n",
      "\n"
     ]
    },
    {
     "name": "stdout",
     "output_type": "stream",
     "text": [
      "Epoch 220, Loss 0.0199\n",
      "Training Accuracy: 0.9768, Testing Accuracy: 0.9713\n",
      "\n"
     ]
    },
    {
     "name": "stdout",
     "output_type": "stream",
     "text": [
      "Epoch 230, Loss 0.0195\n",
      "Training Accuracy: 0.9774, Testing Accuracy: 0.9718\n",
      "\n"
     ]
    },
    {
     "name": "stdout",
     "output_type": "stream",
     "text": [
      "Epoch 240, Loss 0.0191\n",
      "Training Accuracy: 0.9784, Testing Accuracy: 0.9718\n",
      "\n"
     ]
    },
    {
     "data": {
      "text/plain": [
       "0.018408243268330234"
      ]
     },
     "execution_count": 22,
     "metadata": {},
     "output_type": "execute_result"
    }
   ],
   "source": [
    "nn_learner.train_loop(dl)"
   ]
  },
  {
   "cell_type": "code",
   "execution_count": 23,
   "id": "e0163366",
   "metadata": {
    "execution": {
     "iopub.execute_input": "2022-02-07T10:08:51.117400Z",
     "iopub.status.busy": "2022-02-07T10:08:51.116957Z",
     "iopub.status.idle": "2022-02-07T10:09:04.489212Z",
     "shell.execute_reply": "2022-02-07T10:09:04.489869Z"
    },
    "papermill": {
     "duration": 13.41239,
     "end_time": "2022-02-07T10:09:04.490010",
     "exception": false,
     "start_time": "2022-02-07T10:08:51.077620",
     "status": "completed"
    },
    "tags": []
   },
   "outputs": [
    {
     "name": "stdout",
     "output_type": "stream",
     "text": [
      "Epoch 0, Loss 0.2259\n",
      "Training Accuracy: 0.7455, Testing Accuracy: 0.7374\n",
      "\n"
     ]
    },
    {
     "name": "stdout",
     "output_type": "stream",
     "text": [
      "Epoch 10, Loss 0.1016\n",
      "Training Accuracy: 0.9118, Testing Accuracy: 0.9199\n",
      "\n"
     ]
    },
    {
     "name": "stdout",
     "output_type": "stream",
     "text": [
      "Epoch 20, Loss 0.0785\n",
      "Training Accuracy: 0.9301, Testing Accuracy: 0.9420\n",
      "\n"
     ]
    },
    {
     "name": "stdout",
     "output_type": "stream",
     "text": [
      "Epoch 30, Loss 0.0678\n",
      "Training Accuracy: 0.9378, Testing Accuracy: 0.9481\n",
      "\n"
     ]
    },
    {
     "name": "stdout",
     "output_type": "stream",
     "text": [
      "Epoch 40, Loss 0.0613\n",
      "Training Accuracy: 0.9432, Testing Accuracy: 0.9556\n",
      "\n"
     ]
    },
    {
     "name": "stdout",
     "output_type": "stream",
     "text": [
      "Epoch 50, Loss 0.0568\n",
      "Training Accuracy: 0.9464, Testing Accuracy: 0.9577\n",
      "\n"
     ]
    },
    {
     "name": "stdout",
     "output_type": "stream",
     "text": [
      "Epoch 60, Loss 0.0536\n",
      "Training Accuracy: 0.9493, Testing Accuracy: 0.9592\n",
      "\n"
     ]
    },
    {
     "name": "stdout",
     "output_type": "stream",
     "text": [
      "Epoch 70, Loss 0.051\n",
      "Training Accuracy: 0.9504, Testing Accuracy: 0.9597\n",
      "\n"
     ]
    },
    {
     "name": "stdout",
     "output_type": "stream",
     "text": [
      "Epoch 80, Loss 0.049\n",
      "Training Accuracy: 0.9522, Testing Accuracy: 0.9602\n",
      "\n"
     ]
    },
    {
     "name": "stdout",
     "output_type": "stream",
     "text": [
      "Epoch 90, Loss 0.0473\n",
      "Training Accuracy: 0.9532, Testing Accuracy: 0.9612\n",
      "\n"
     ]
    },
    {
     "name": "stdout",
     "output_type": "stream",
     "text": [
      "Epoch 100, Loss 0.0459\n",
      "Training Accuracy: 0.9538, Testing Accuracy: 0.9612\n",
      "\n"
     ]
    },
    {
     "name": "stdout",
     "output_type": "stream",
     "text": [
      "Epoch 110, Loss 0.0447\n",
      "Training Accuracy: 0.9549, Testing Accuracy: 0.9612\n",
      "\n"
     ]
    },
    {
     "name": "stdout",
     "output_type": "stream",
     "text": [
      "Epoch 120, Loss 0.0436\n",
      "Training Accuracy: 0.9555, Testing Accuracy: 0.9612\n",
      "\n"
     ]
    },
    {
     "name": "stdout",
     "output_type": "stream",
     "text": [
      "Epoch 130, Loss 0.0427\n",
      "Training Accuracy: 0.9559, Testing Accuracy: 0.9622\n",
      "\n"
     ]
    },
    {
     "name": "stdout",
     "output_type": "stream",
     "text": [
      "Epoch 140, Loss 0.0419\n",
      "Training Accuracy: 0.9565, Testing Accuracy: 0.9632\n",
      "\n"
     ]
    },
    {
     "name": "stdout",
     "output_type": "stream",
     "text": [
      "Epoch 150, Loss 0.0411\n",
      "Training Accuracy: 0.9571, Testing Accuracy: 0.9637\n",
      "\n"
     ]
    },
    {
     "name": "stdout",
     "output_type": "stream",
     "text": [
      "Epoch 160, Loss 0.0405\n",
      "Training Accuracy: 0.9575, Testing Accuracy: 0.9632\n",
      "\n"
     ]
    },
    {
     "name": "stdout",
     "output_type": "stream",
     "text": [
      "Epoch 170, Loss 0.0399\n",
      "Training Accuracy: 0.9579, Testing Accuracy: 0.9637\n",
      "\n"
     ]
    },
    {
     "name": "stdout",
     "output_type": "stream",
     "text": [
      "Epoch 180, Loss 0.0393\n",
      "Training Accuracy: 0.9583, Testing Accuracy: 0.9647\n",
      "\n"
     ]
    },
    {
     "name": "stdout",
     "output_type": "stream",
     "text": [
      "Epoch 190, Loss 0.0388\n",
      "Training Accuracy: 0.9587, Testing Accuracy: 0.9652\n",
      "\n"
     ]
    },
    {
     "name": "stdout",
     "output_type": "stream",
     "text": [
      "Epoch 200, Loss 0.0383\n",
      "Training Accuracy: 0.9592, Testing Accuracy: 0.9662\n",
      "\n"
     ]
    },
    {
     "name": "stdout",
     "output_type": "stream",
     "text": [
      "Epoch 210, Loss 0.0379\n",
      "Training Accuracy: 0.9594, Testing Accuracy: 0.9667\n",
      "\n"
     ]
    },
    {
     "name": "stdout",
     "output_type": "stream",
     "text": [
      "Epoch 220, Loss 0.0375\n",
      "Training Accuracy: 0.9595, Testing Accuracy: 0.9672\n",
      "\n"
     ]
    },
    {
     "name": "stdout",
     "output_type": "stream",
     "text": [
      "Epoch 230, Loss 0.0371\n",
      "Training Accuracy: 0.9602, Testing Accuracy: 0.9677\n",
      "\n"
     ]
    },
    {
     "name": "stdout",
     "output_type": "stream",
     "text": [
      "Epoch 240, Loss 0.0367\n",
      "Training Accuracy: 0.9606, Testing Accuracy: 0.9677\n",
      "\n"
     ]
    },
    {
     "data": {
      "text/plain": [
       "0.019204647164113575"
      ]
     },
     "execution_count": 23,
     "metadata": {},
     "output_type": "execute_result"
    }
   ],
   "source": [
    "lr_learner.train_loop(dl)"
   ]
  },
  {
   "cell_type": "code",
   "execution_count": 24,
   "id": "ca410940",
   "metadata": {
    "execution": {
     "iopub.execute_input": "2022-02-07T10:09:04.571148Z",
     "iopub.status.busy": "2022-02-07T10:09:04.570671Z",
     "iopub.status.idle": "2022-02-07T10:09:04.777372Z",
     "shell.execute_reply": "2022-02-07T10:09:04.777860Z"
    },
    "papermill": {
     "duration": 0.251552,
     "end_time": "2022-02-07T10:09:04.778008",
     "exception": false,
     "start_time": "2022-02-07T10:09:04.526456",
     "status": "completed"
    },
    "tags": []
   },
   "outputs": [
    {
     "data": {
      "text/plain": [
       "<matplotlib.legend.Legend at 0x7fc85ba5a470>"
      ]
     },
     "execution_count": 24,
     "metadata": {},
     "output_type": "execute_result"
    },
    {
     "data": {
      "image/png": "[encoded data removed]",
      "text/plain": [
       "<Figure size 1080x720 with 1 Axes>"
      ]
     },
     "metadata": {
      "needs_background": "light"
     },
     "output_type": "display_data"
    }
   ],
   "source": [
    "#comparing the results of NN and LR\n",
    "plt.figure(figsize=(15,10))\n",
    "\n",
    "# Neural Network plots\n",
    "plt.plot(acc_nn.accuracies, 'r-', label = \"Training Accuracies - NN\")\n",
    "plt.plot(acc_nn.test_accuracies, 'g-', label = \"Testing Accuracies - NN\")\n",
    "\n",
    "# Logistic Regression plots\n",
    "plt.plot(acc_lr.accuracies, 'k-', label = \"Training Accuracies - LR\")\n",
    "plt.plot(acc_lr.test_accuracies, 'b-', label = \"Testing Accuracies - LR\")\n",
    "plt.legend()"
   ]
  },
  {
   "cell_type": "markdown",
   "id": "80dfb35c",
   "metadata": {
    "papermill": {
     "duration": 0.036958,
     "end_time": "2022-02-07T10:09:04.858766",
     "exception": false,
     "start_time": "2022-02-07T10:09:04.821808",
     "status": "completed"
    },
    "tags": []
   },
   "source": [
    "#### Plotting the outputs of this layer of the NN.\n"
   ]
  },
  {
   "cell_type": "code",
   "execution_count": 25,
   "id": "45eb2ff5",
   "metadata": {
    "execution": {
     "iopub.execute_input": "2022-02-07T10:09:04.942132Z",
     "iopub.status.busy": "2022-02-07T10:09:04.941638Z",
     "iopub.status.idle": "2022-02-07T10:09:04.965359Z",
     "shell.execute_reply": "2022-02-07T10:09:04.966097Z"
    },
    "papermill": {
     "duration": 0.070249,
     "end_time": "2022-02-07T10:09:04.966245",
     "exception": false,
     "start_time": "2022-02-07T10:09:04.895996",
     "status": "completed"
    },
    "tags": []
   },
   "outputs": [],
   "source": [
    "new_model = Model(layers[:-2])\n",
    "testing_plot = new_model(testing_data_x)"
   ]
  },
  {
   "cell_type": "code",
   "execution_count": 26,
   "id": "4c0a5485",
   "metadata": {
    "execution": {
     "iopub.execute_input": "2022-02-07T10:09:05.101647Z",
     "iopub.status.busy": "2022-02-07T10:09:05.101161Z",
     "iopub.status.idle": "2022-02-07T10:09:05.278183Z",
     "shell.execute_reply": "2022-02-07T10:09:05.277725Z"
    },
    "papermill": {
     "duration": 0.242286,
     "end_time": "2022-02-07T10:09:05.278305",
     "exception": false,
     "start_time": "2022-02-07T10:09:05.036019",
     "status": "completed"
    },
    "tags": []
   },
   "outputs": [
    {
     "data": {
      "text/plain": [
       "Text(0.5, 1.0, 'Outputs')"
      ]
     },
     "execution_count": 26,
     "metadata": {},
     "output_type": "execute_result"
    },
    {
     "data": {
      "image/png": "[encoded data removed]",
      "text/plain": [
       "<Figure size 576x504 with 1 Axes>"
      ]
     },
     "metadata": {
      "needs_background": "light"
     },
     "output_type": "display_data"
    }
   ],
   "source": [
    "# Plotting the scatter plot of points and color coding by class\n",
    "plt.figure(figsize=(8,7))\n",
    "plt.scatter(testing_plot[:,0], testing_plot[:,1], alpha = 0.1, c = y_test.ravel());\n",
    "plt.title('Outputs')"
   ]
  },
  {
   "cell_type": "markdown",
   "id": "a74fcf8f",
   "metadata": {
    "papermill": {
     "duration": 0.043697,
     "end_time": "2022-02-07T10:09:05.366371",
     "exception": false,
     "start_time": "2022-02-07T10:09:05.322674",
     "status": "completed"
    },
    "tags": []
   },
   "source": [
    "Probability contours"
   ]
  },
  {
   "cell_type": "code",
   "execution_count": 27,
   "id": "d0afc8e3",
   "metadata": {
    "execution": {
     "iopub.execute_input": "2022-02-07T10:09:05.459031Z",
     "iopub.status.busy": "2022-02-07T10:09:05.457775Z",
     "iopub.status.idle": "2022-02-07T10:09:05.470814Z",
     "shell.execute_reply": "2022-02-07T10:09:05.471222Z"
    },
    "papermill": {
     "duration": 0.06112,
     "end_time": "2022-02-07T10:09:05.471357",
     "exception": false,
     "start_time": "2022-02-07T10:09:05.410237",
     "status": "completed"
    },
    "tags": []
   },
   "outputs": [],
   "source": [
    "model_prob = Model(layers[-2:]) "
   ]
  },
  {
   "cell_type": "code",
   "execution_count": 28,
   "id": "9b96e238",
   "metadata": {
    "execution": {
     "iopub.execute_input": "2022-02-07T10:09:05.602175Z",
     "iopub.status.busy": "2022-02-07T10:09:05.601647Z",
     "iopub.status.idle": "2022-02-07T10:09:05.611319Z",
     "shell.execute_reply": "2022-02-07T10:09:05.610896Z"
    },
    "papermill": {
     "duration": 0.095795,
     "end_time": "2022-02-07T10:09:05.611436",
     "exception": false,
     "start_time": "2022-02-07T10:09:05.515641",
     "status": "completed"
    },
    "tags": []
   },
   "outputs": [],
   "source": [
    "#creating the x and y ranges according to the above generated plot.\n",
    "x_range = np.linspace(-4, 1, 100) \n",
    "y_range = np.linspace(-6, 6, 100) \n",
    "x_grid, y_grid = np.meshgrid(x_range, y_range) # x_grid and y_grig are of size 100 X 100\n",
    "\n",
    "# converting x_grid and y_grid to continuous arrays\n",
    "x_gridflat = np.ravel(x_grid)\n",
    "y_gridflat = np.ravel(y_grid)\n",
    "\n",
    "# The last layer of the current model takes two columns as input. Hence transpose of np.vstack() is required.\n",
    "X = np.vstack((x_gridflat, y_gridflat)).T\n",
    "\n",
    "prob_contour = model_prob(X).reshape(100,100) "
   ]
  },
  {
   "cell_type": "code",
   "execution_count": 29,
   "id": "da72499a",
   "metadata": {
    "execution": {
     "iopub.execute_input": "2022-02-07T10:09:05.738232Z",
     "iopub.status.busy": "2022-02-07T10:09:05.731959Z",
     "iopub.status.idle": "2022-02-07T10:09:05.958994Z",
     "shell.execute_reply": "2022-02-07T10:09:05.959415Z"
    },
    "papermill": {
     "duration": 0.302872,
     "end_time": "2022-02-07T10:09:05.959563",
     "exception": false,
     "start_time": "2022-02-07T10:09:05.656691",
     "status": "completed"
    },
    "tags": []
   },
   "outputs": [
    {
     "data": {
      "image/png": "[encoded data removed]",
      "text/plain": [
       "<Figure size 720x648 with 1 Axes>"
      ]
     },
     "metadata": {
      "needs_background": "light"
     },
     "output_type": "display_data"
    }
   ],
   "source": [
    "plt.figure(figsize=(10,9))\n",
    "plt.scatter(testing_plot[:,0], testing_plot[:,1], alpha = 0.1, c = y_test.ravel())\n",
    "contours = plt.contour(x_grid,y_grid,prob_contour)\n",
    "plt.title('Probability Contours')\n",
    "plt.clabel(contours, inline = True );"
   ]
  },
  {
   "cell_type": "code",
   "execution_count": null,
   "id": "e81b4ac7",
   "metadata": {
    "papermill": {
     "duration": 0.046031,
     "end_time": "2022-02-07T10:09:06.053205",
     "exception": false,
     "start_time": "2022-02-07T10:09:06.007174",
     "status": "completed"
    },
    "tags": []
   },
   "outputs": [],
   "source": []
  }
 ],
 "metadata": {
  "kernelspec": {
   "display_name": "Python 3",
   "language": "python",
   "name": "python3"
  },
  "language_info": {
   "codemirror_mode": {
    "name": "ipython",
    "version": 3
   },
   "file_extension": ".py",
   "mimetype": "text/x-python",
   "name": "python",
   "nbconvert_exporter": "python",
   "pygments_lexer": "ipython3",
   "version": "3.6.15"
  },
  "papermill": {
   "default_parameters": {},
   "duration": 97.863503,
   "end_time": "2022-02-07T10:09:06.519661",
   "environment_variables": {},
   "exception": null,
   "input_path": "2020-08-11-part2.ipynb",
   "output_path": "2020-08-11-part2.ipynb",
   "parameters": {},
   "start_time": "2022-02-07T10:07:28.656158",
   "version": "2.3.3"
  }
 },
 "nbformat": 4,
 "nbformat_minor": 5
}