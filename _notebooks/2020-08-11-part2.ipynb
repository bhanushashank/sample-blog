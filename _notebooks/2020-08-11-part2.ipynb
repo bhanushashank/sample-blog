{
 "cells": [
  {
   "cell_type": "markdown",
   "id": "98380cd3",
   "metadata": {
    "papermill": {
     "duration": 0.02891,
     "end_time": "2022-05-10T10:10:10.717169",
     "exception": false,
     "start_time": "2022-05-10T10:10:10.688259",
     "status": "completed"
    },
    "tags": []
   },
   "source": [
    "# Distinguish Your Own Digits (DYOD)"
   ]
  },
  {
   "cell_type": "markdown",
   "id": "ef31240d",
   "metadata": {
    "papermill": {
     "duration": 0.025032,
     "end_time": "2022-05-10T10:10:10.766603",
     "exception": false,
     "start_time": "2022-05-10T10:10:10.741571",
     "status": "completed"
    },
    "tags": []
   },
   "source": [
    "You are going to write a classifier that distinguishes between the number 3 and number 8."
   ]
  },
  {
   "cell_type": "code",
   "execution_count": 1,
   "id": "b15c8646",
   "metadata": {
    "execution": {
     "iopub.execute_input": "2022-05-10T10:10:10.823867Z",
     "iopub.status.busy": "2022-05-10T10:10:10.823338Z",
     "iopub.status.idle": "2022-05-10T10:10:10.833338Z",
     "shell.execute_reply": "2022-05-10T10:10:10.833736Z"
    },
    "papermill": {
     "duration": 0.043647,
     "end_time": "2022-05-10T10:10:10.833906",
     "exception": false,
     "start_time": "2022-05-10T10:10:10.790259",
     "status": "completed"
    },
    "tags": []
   },
   "outputs": [],
   "source": [
    "%load_ext autoreload\n",
    "%autoreload 2"
   ]
  },
  {
   "cell_type": "code",
   "execution_count": 2,
   "id": "22ef38dc",
   "metadata": {
    "execution": {
     "iopub.execute_input": "2022-05-10T10:10:10.885940Z",
     "iopub.status.busy": "2022-05-10T10:10:10.885393Z",
     "iopub.status.idle": "2022-05-10T10:10:11.417283Z",
     "shell.execute_reply": "2022-05-10T10:10:11.416784Z"
    },
    "papermill": {
     "duration": 0.559488,
     "end_time": "2022-05-10T10:10:11.417413",
     "exception": false,
     "start_time": "2022-05-10T10:10:10.857925",
     "status": "completed"
    },
    "tags": []
   },
   "outputs": [],
   "source": [
    "%matplotlib inline\n",
    "import numpy as np\n",
    "import matplotlib.pyplot as plt\n",
    "import pandas as pd"
   ]
  },
  {
   "cell_type": "markdown",
   "id": "ba036198",
   "metadata": {
    "papermill": {
     "duration": 0.028399,
     "end_time": "2022-05-10T10:10:11.470434",
     "exception": false,
     "start_time": "2022-05-10T10:10:11.442035",
     "status": "completed"
    },
    "tags": []
   },
   "source": [
    "From the command line run `pip install mnist`. This is a library that will help you bring down the mnist dataset. If you run this from a notebook, you need to put  `!pip install mnist` in a cell by itself."
   ]
  },
  {
   "cell_type": "code",
   "execution_count": 3,
   "id": "bb6ad8a1",
   "metadata": {
    "execution": {
     "iopub.execute_input": "2022-05-10T10:10:11.524342Z",
     "iopub.status.busy": "2022-05-10T10:10:11.523575Z",
     "iopub.status.idle": "2022-05-10T10:10:13.295381Z",
     "shell.execute_reply": "2022-05-10T10:10:13.295890Z"
    },
    "papermill": {
     "duration": 1.801066,
     "end_time": "2022-05-10T10:10:13.296043",
     "exception": false,
     "start_time": "2022-05-10T10:10:11.494977",
     "status": "completed"
    },
    "tags": []
   },
   "outputs": [
    {
     "name": "stdout",
     "output_type": "stream",
     "text": [
      "Collecting mnist\r\n"
     ]
    },
    {
     "name": "stdout",
     "output_type": "stream",
     "text": [
      "  Downloading mnist-0.2.2-py2.py3-none-any.whl (3.5 kB)\r\n",
      "Requirement already satisfied: numpy in /opt/hostedtoolcache/Python/3.6.15/x64/lib/python3.6/site-packages (from mnist) (1.19.5)\r\n"
     ]
    },
    {
     "name": "stdout",
     "output_type": "stream",
     "text": [
      "Installing collected packages: mnist\r\n"
     ]
    },
    {
     "name": "stdout",
     "output_type": "stream",
     "text": [
      "Successfully installed mnist-0.2.2\r\n"
     ]
    }
   ],
   "source": [
    "!pip install mnist"
   ]
  },
  {
   "cell_type": "markdown",
   "id": "69df9c9a",
   "metadata": {
    "papermill": {
     "duration": 0.024833,
     "end_time": "2022-05-10T10:10:13.346054",
     "exception": false,
     "start_time": "2022-05-10T10:10:13.321221",
     "status": "completed"
    },
    "tags": []
   },
   "source": [
    "## Preparing the Data"
   ]
  },
  {
   "cell_type": "code",
   "execution_count": 4,
   "id": "7f69d806",
   "metadata": {
    "execution": {
     "iopub.execute_input": "2022-05-10T10:10:13.399208Z",
     "iopub.status.busy": "2022-05-10T10:10:13.398689Z",
     "iopub.status.idle": "2022-05-10T10:10:13.412625Z",
     "shell.execute_reply": "2022-05-10T10:10:13.412211Z"
    },
    "papermill": {
     "duration": 0.042071,
     "end_time": "2022-05-10T10:10:13.412733",
     "exception": false,
     "start_time": "2022-05-10T10:10:13.370662",
     "status": "completed"
    },
    "tags": []
   },
   "outputs": [],
   "source": [
    "import mnist"
   ]
  },
  {
   "cell_type": "code",
   "execution_count": 5,
   "id": "a411e44f",
   "metadata": {
    "execution": {
     "iopub.execute_input": "2022-05-10T10:10:13.468056Z",
     "iopub.status.busy": "2022-05-10T10:10:13.467545Z",
     "iopub.status.idle": "2022-05-10T10:10:14.104590Z",
     "shell.execute_reply": "2022-05-10T10:10:14.104071Z"
    },
    "papermill": {
     "duration": 0.667119,
     "end_time": "2022-05-10T10:10:14.104726",
     "exception": false,
     "start_time": "2022-05-10T10:10:13.437607",
     "status": "completed"
    },
    "tags": []
   },
   "outputs": [],
   "source": [
    "train_images = mnist.train_images()\n",
    "train_labels = mnist.train_labels()"
   ]
  },
  {
   "cell_type": "code",
   "execution_count": 6,
   "id": "dceab3a5",
   "metadata": {
    "execution": {
     "iopub.execute_input": "2022-05-10T10:10:14.163433Z",
     "iopub.status.busy": "2022-05-10T10:10:14.162909Z",
     "iopub.status.idle": "2022-05-10T10:10:14.174938Z",
     "shell.execute_reply": "2022-05-10T10:10:14.174524Z"
    },
    "papermill": {
     "duration": 0.044442,
     "end_time": "2022-05-10T10:10:14.175052",
     "exception": false,
     "start_time": "2022-05-10T10:10:14.130610",
     "status": "completed"
    },
    "tags": []
   },
   "outputs": [
    {
     "data": {
      "text/plain": [
       "((60000, 28, 28), (60000,))"
      ]
     },
     "execution_count": 6,
     "metadata": {},
     "output_type": "execute_result"
    }
   ],
   "source": [
    "train_images.shape, train_labels.shape"
   ]
  },
  {
   "cell_type": "code",
   "execution_count": 7,
   "id": "f50dc2bb",
   "metadata": {
    "execution": {
     "iopub.execute_input": "2022-05-10T10:10:14.230238Z",
     "iopub.status.busy": "2022-05-10T10:10:14.229660Z",
     "iopub.status.idle": "2022-05-10T10:10:14.453954Z",
     "shell.execute_reply": "2022-05-10T10:10:14.452926Z"
    },
    "papermill": {
     "duration": 0.253994,
     "end_time": "2022-05-10T10:10:14.454102",
     "exception": false,
     "start_time": "2022-05-10T10:10:14.200108",
     "status": "completed"
    },
    "tags": []
   },
   "outputs": [],
   "source": [
    "test_images = mnist.test_images()\n",
    "test_labels = mnist.test_labels()"
   ]
  },
  {
   "cell_type": "code",
   "execution_count": 8,
   "id": "fc38cf1b",
   "metadata": {
    "execution": {
     "iopub.execute_input": "2022-05-10T10:10:14.510592Z",
     "iopub.status.busy": "2022-05-10T10:10:14.510042Z",
     "iopub.status.idle": "2022-05-10T10:10:14.523591Z",
     "shell.execute_reply": "2022-05-10T10:10:14.523068Z"
    },
    "papermill": {
     "duration": 0.043679,
     "end_time": "2022-05-10T10:10:14.523705",
     "exception": false,
     "start_time": "2022-05-10T10:10:14.480026",
     "status": "completed"
    },
    "tags": []
   },
   "outputs": [
    {
     "data": {
      "text/plain": [
       "((10000, 28, 28), (10000,))"
      ]
     },
     "execution_count": 8,
     "metadata": {},
     "output_type": "execute_result"
    }
   ],
   "source": [
    "test_images.shape, test_labels.shape"
   ]
  },
  {
   "cell_type": "code",
   "execution_count": 9,
   "id": "f9ed8fe0",
   "metadata": {
    "execution": {
     "iopub.execute_input": "2022-05-10T10:10:14.577961Z",
     "iopub.status.busy": "2022-05-10T10:10:14.577415Z",
     "iopub.status.idle": "2022-05-10T10:10:14.713009Z",
     "shell.execute_reply": "2022-05-10T10:10:14.713428Z"
    },
    "papermill": {
     "duration": 0.164497,
     "end_time": "2022-05-10T10:10:14.713562",
     "exception": false,
     "start_time": "2022-05-10T10:10:14.549065",
     "status": "completed"
    },
    "tags": []
   },
   "outputs": [
    {
     "name": "stdout",
     "output_type": "stream",
     "text": [
      "2\n"
     ]
    },
    {
     "data": {
      "text/plain": [
       "<matplotlib.image.AxesImage at 0x7fc4f9844940>"
      ]
     },
     "execution_count": 9,
     "metadata": {},
     "output_type": "execute_result"
    },
    {
     "data": {
      "image/png": "[encoded data removed]",
      "text/plain": [
       "<Figure size 432x288 with 1 Axes>"
      ]
     },
     "metadata": {
      "needs_background": "light"
     },
     "output_type": "display_data"
    }
   ],
   "source": [
    "image_index = 7776 # You may select anything up to 60,000\n",
    "print(train_labels[image_index]) \n",
    "plt.imshow(train_images[image_index], cmap='Greys')"
   ]
  },
  {
   "cell_type": "markdown",
   "id": "a8d2388d",
   "metadata": {
    "papermill": {
     "duration": 0.026928,
     "end_time": "2022-05-10T10:10:14.767009",
     "exception": false,
     "start_time": "2022-05-10T10:10:14.740081",
     "status": "completed"
    },
    "tags": []
   },
   "source": [
    "## Filter data to get 3 and 8 out"
   ]
  },
  {
   "cell_type": "code",
   "execution_count": 10,
   "id": "776f7fc7",
   "metadata": {
    "execution": {
     "iopub.execute_input": "2022-05-10T10:10:14.824830Z",
     "iopub.status.busy": "2022-05-10T10:10:14.824220Z",
     "iopub.status.idle": "2022-05-10T10:10:14.841189Z",
     "shell.execute_reply": "2022-05-10T10:10:14.840773Z"
    },
    "papermill": {
     "duration": 0.048027,
     "end_time": "2022-05-10T10:10:14.841301",
     "exception": false,
     "start_time": "2022-05-10T10:10:14.793274",
     "status": "completed"
    },
    "tags": []
   },
   "outputs": [],
   "source": [
    "train_filter = np.where((train_labels == 3 ) | (train_labels == 8))\n",
    "test_filter = np.where((test_labels == 3) | (test_labels == 8))\n",
    "X_train, y_train = train_images[train_filter], train_labels[train_filter]\n",
    "X_test, y_test = test_images[test_filter], test_labels[test_filter]"
   ]
  },
  {
   "cell_type": "markdown",
   "id": "948f0b7e",
   "metadata": {
    "papermill": {
     "duration": 0.026132,
     "end_time": "2022-05-10T10:10:14.893936",
     "exception": false,
     "start_time": "2022-05-10T10:10:14.867804",
     "status": "completed"
    },
    "tags": []
   },
   "source": [
    "We normalize the pizel values in the 0 to 1 range"
   ]
  },
  {
   "cell_type": "code",
   "execution_count": 11,
   "id": "ee4c2166",
   "metadata": {
    "execution": {
     "iopub.execute_input": "2022-05-10T10:10:14.949682Z",
     "iopub.status.busy": "2022-05-10T10:10:14.949164Z",
     "iopub.status.idle": "2022-05-10T10:10:14.996266Z",
     "shell.execute_reply": "2022-05-10T10:10:14.995737Z"
    },
    "papermill": {
     "duration": 0.076332,
     "end_time": "2022-05-10T10:10:14.996407",
     "exception": false,
     "start_time": "2022-05-10T10:10:14.920075",
     "status": "completed"
    },
    "tags": []
   },
   "outputs": [],
   "source": [
    "X_train = X_train/255.\n",
    "X_test = X_test/255."
   ]
  },
  {
   "cell_type": "markdown",
   "id": "ddcf4fab",
   "metadata": {
    "papermill": {
     "duration": 0.026842,
     "end_time": "2022-05-10T10:10:15.050202",
     "exception": false,
     "start_time": "2022-05-10T10:10:15.023360",
     "status": "completed"
    },
    "tags": []
   },
   "source": [
    "And setup the labels as 1 (when the digit is 3) and 0 (when the digit is 8)"
   ]
  },
  {
   "cell_type": "code",
   "execution_count": 12,
   "id": "7dc908f2",
   "metadata": {
    "execution": {
     "iopub.execute_input": "2022-05-10T10:10:15.106817Z",
     "iopub.status.busy": "2022-05-10T10:10:15.106296Z",
     "iopub.status.idle": "2022-05-10T10:10:15.118854Z",
     "shell.execute_reply": "2022-05-10T10:10:15.118433Z"
    },
    "papermill": {
     "duration": 0.042318,
     "end_time": "2022-05-10T10:10:15.118970",
     "exception": false,
     "start_time": "2022-05-10T10:10:15.076652",
     "status": "completed"
    },
    "tags": []
   },
   "outputs": [],
   "source": [
    "y_train = 1*(y_train==3)\n",
    "y_test = 1*(y_test==3)"
   ]
  },
  {
   "cell_type": "code",
   "execution_count": 13,
   "id": "01e4e969",
   "metadata": {
    "execution": {
     "iopub.execute_input": "2022-05-10T10:10:15.186575Z",
     "iopub.status.busy": "2022-05-10T10:10:15.182808Z",
     "iopub.status.idle": "2022-05-10T10:10:15.191513Z",
     "shell.execute_reply": "2022-05-10T10:10:15.191071Z"
    },
    "papermill": {
     "duration": 0.046174,
     "end_time": "2022-05-10T10:10:15.191624",
     "exception": false,
     "start_time": "2022-05-10T10:10:15.145450",
     "status": "completed"
    },
    "tags": []
   },
   "outputs": [
    {
     "data": {
      "text/plain": [
       "((11982, 28, 28), (1984, 28, 28))"
      ]
     },
     "execution_count": 13,
     "metadata": {},
     "output_type": "execute_result"
    }
   ],
   "source": [
    "X_train.shape, X_test.shape"
   ]
  },
  {
   "cell_type": "markdown",
   "id": "5ccf3f85",
   "metadata": {
    "papermill": {
     "duration": 0.026665,
     "end_time": "2022-05-10T10:10:15.244878",
     "exception": false,
     "start_time": "2022-05-10T10:10:15.218213",
     "status": "completed"
    },
    "tags": []
   },
   "source": [
    "We reshape the data to flatten the image pixels into a set of features or co-variates:"
   ]
  },
  {
   "cell_type": "code",
   "execution_count": 14,
   "id": "5286a4a3",
   "metadata": {
    "execution": {
     "iopub.execute_input": "2022-05-10T10:10:15.315930Z",
     "iopub.status.busy": "2022-05-10T10:10:15.304237Z",
     "iopub.status.idle": "2022-05-10T10:10:15.320614Z",
     "shell.execute_reply": "2022-05-10T10:10:15.320176Z"
    },
    "papermill": {
     "duration": 0.049053,
     "end_time": "2022-05-10T10:10:15.320723",
     "exception": false,
     "start_time": "2022-05-10T10:10:15.271670",
     "status": "completed"
    },
    "tags": []
   },
   "outputs": [
    {
     "data": {
      "text/plain": [
       "((11982, 784), (1984, 784))"
      ]
     },
     "execution_count": 14,
     "metadata": {},
     "output_type": "execute_result"
    }
   ],
   "source": [
    "X_train = X_train.reshape(X_train.shape[0], -1)\n",
    "X_test = X_test.reshape(X_test.shape[0], -1)\n",
    "X_train.shape, X_test.shape"
   ]
  },
  {
   "cell_type": "code",
   "execution_count": 15,
   "id": "73c5f88a",
   "metadata": {
    "execution": {
     "iopub.execute_input": "2022-05-10T10:10:15.390979Z",
     "iopub.status.busy": "2022-05-10T10:10:15.377562Z",
     "iopub.status.idle": "2022-05-10T10:10:15.400671Z",
     "shell.execute_reply": "2022-05-10T10:10:15.401058Z"
    },
    "papermill": {
     "duration": 0.053621,
     "end_time": "2022-05-10T10:10:15.401184",
     "exception": false,
     "start_time": "2022-05-10T10:10:15.347563",
     "status": "completed"
    },
    "tags": []
   },
   "outputs": [],
   "source": [
    "#Impoting functions from 'Kudzu'\n",
    "from kudzu.model import Model\n",
    "from kudzu.train import Learner\n",
    "from kudzu.optim import GD\n",
    "from kudzu.data import Data, Sampler,Dataloader\n",
    "\n",
    "from kudzu.callbacks import AccCallback\n",
    "from kudzu.callbacks import ClfCallback\n",
    "\n",
    "from kudzu.loss import MSE\n",
    "\n",
    "from kudzu.layer import Sigmoid,Relu\n",
    "from kudzu.layer import Affine"
   ]
  },
  {
   "cell_type": "markdown",
   "id": "bc01172a",
   "metadata": {
    "papermill": {
     "duration": 0.027011,
     "end_time": "2022-05-10T10:10:15.455137",
     "exception": false,
     "start_time": "2022-05-10T10:10:15.428126",
     "status": "completed"
    },
    "tags": []
   },
   "source": [
    "### Let us create a `Config` class, to store important parameters. \n",
    "This class essentially plays the role of a dictionary."
   ]
  },
  {
   "cell_type": "code",
   "execution_count": 16,
   "id": "978281aa",
   "metadata": {
    "execution": {
     "iopub.execute_input": "2022-05-10T10:10:15.524615Z",
     "iopub.status.busy": "2022-05-10T10:10:15.512107Z",
     "iopub.status.idle": "2022-05-10T10:10:15.526923Z",
     "shell.execute_reply": "2022-05-10T10:10:15.526509Z"
    },
    "papermill": {
     "duration": 0.045113,
     "end_time": "2022-05-10T10:10:15.527033",
     "exception": false,
     "start_time": "2022-05-10T10:10:15.481920",
     "status": "completed"
    },
    "tags": []
   },
   "outputs": [],
   "source": [
    "class Config:\n",
    "    pass\n",
    "config = Config()\n",
    "config.lr = 0.001\n",
    "config.num_epochs = 250\n",
    "config.bs = 50"
   ]
  },
  {
   "cell_type": "markdown",
   "id": "1385fa59",
   "metadata": {
    "papermill": {
     "duration": 0.026688,
     "end_time": "2022-05-10T10:10:15.580597",
     "exception": false,
     "start_time": "2022-05-10T10:10:15.553909",
     "status": "completed"
    },
    "tags": []
   },
   "source": [
    "### Running Models with the Training data\n",
    "Details about the network layers:\n",
    "- A first affine layer has 784 inputs and does 100 affine transforms. These are followed by a Relu\n",
    "- A second affine layer has 100 inputs from the 100 activations of the past layer, and does 100 affine transforms. These are followed by a Relu\n",
    "- A third affine layer has 100 activations and does 2 affine transformations to create an embedding for visualization. There is no non-linearity here.\n",
    "- A final \"logistic regression\" which has an affine transform from 2 inputs to 1 output, which is squeezed through a sigmoid.\n"
   ]
  },
  {
   "cell_type": "code",
   "execution_count": 17,
   "id": "2b9c66db",
   "metadata": {
    "execution": {
     "iopub.execute_input": "2022-05-10T10:10:15.638572Z",
     "iopub.status.busy": "2022-05-10T10:10:15.638032Z",
     "iopub.status.idle": "2022-05-10T10:10:15.650815Z",
     "shell.execute_reply": "2022-05-10T10:10:15.650330Z"
    },
    "papermill": {
     "duration": 0.04341,
     "end_time": "2022-05-10T10:10:15.650937",
     "exception": false,
     "start_time": "2022-05-10T10:10:15.607527",
     "status": "completed"
    },
    "tags": []
   },
   "outputs": [],
   "source": [
    "data = Data(X_train, y_train.reshape(-1,1))\n",
    "sampler = Sampler(data, config.bs, shuffle=True)\n",
    "\n",
    "dl = Dataloader(data, sampler)\n",
    "\n",
    "opt = GD(config.lr)\n",
    "loss = MSE()"
   ]
  },
  {
   "cell_type": "code",
   "execution_count": 18,
   "id": "b275e4c2",
   "metadata": {
    "execution": {
     "iopub.execute_input": "2022-05-10T10:10:15.711110Z",
     "iopub.status.busy": "2022-05-10T10:10:15.710577Z",
     "iopub.status.idle": "2022-05-10T10:10:15.722764Z",
     "shell.execute_reply": "2022-05-10T10:10:15.722338Z"
    },
    "papermill": {
     "duration": 0.043605,
     "end_time": "2022-05-10T10:10:15.722880",
     "exception": false,
     "start_time": "2022-05-10T10:10:15.679275",
     "status": "completed"
    },
    "tags": []
   },
   "outputs": [],
   "source": [
    "training_data_x = X_train\n",
    "testing_data_x = X_test\n",
    "training_data_y = y_train.reshape(-1,1)\n",
    "testing_data_y = y_test.reshape(-1,1)"
   ]
  },
  {
   "cell_type": "code",
   "execution_count": 19,
   "id": "76951160",
   "metadata": {
    "execution": {
     "iopub.execute_input": "2022-05-10T10:10:15.791210Z",
     "iopub.status.busy": "2022-05-10T10:10:15.790684Z",
     "iopub.status.idle": "2022-05-10T10:10:15.798644Z",
     "shell.execute_reply": "2022-05-10T10:10:15.799084Z"
    },
    "papermill": {
     "duration": 0.049537,
     "end_time": "2022-05-10T10:10:15.799212",
     "exception": false,
     "start_time": "2022-05-10T10:10:15.749675",
     "status": "completed"
    },
    "tags": []
   },
   "outputs": [
    {
     "name": "stdout",
     "output_type": "stream",
     "text": [
      "xavier\n",
      "xavier\n",
      "xavier\n",
      "xavier\n",
      "xavier\n"
     ]
    }
   ],
   "source": [
    "layers = [Affine(\"first\", 784, 100), Relu(\"first\"), Affine(\"second\", 100, 100), Relu(\"second\"), Affine(\"third\", 100, 2), Affine(\"last\", 2, 1), Sigmoid(\"last\")]\n",
    "model_nn = Model(layers)\n",
    "model_lr = Model([Affine(\"logits\", 784, 1), Sigmoid(\"sigmoid\")])"
   ]
  },
  {
   "cell_type": "code",
   "execution_count": 20,
   "id": "6eede77a",
   "metadata": {
    "execution": {
     "iopub.execute_input": "2022-05-10T10:10:15.870362Z",
     "iopub.status.busy": "2022-05-10T10:10:15.866249Z",
     "iopub.status.idle": "2022-05-10T10:10:15.872588Z",
     "shell.execute_reply": "2022-05-10T10:10:15.872153Z"
    },
    "papermill": {
     "duration": 0.046275,
     "end_time": "2022-05-10T10:10:15.872695",
     "exception": false,
     "start_time": "2022-05-10T10:10:15.826420",
     "status": "completed"
    },
    "tags": []
   },
   "outputs": [],
   "source": [
    "nn_learner = Learner(loss, model_nn, opt, config.num_epochs)\n",
    "acc_nn = ClfCallback(nn_learner, config.bs, training_data_x , testing_data_x, training_data_y, testing_data_y)\n",
    "nn_learner.set_callbacks([acc_nn])"
   ]
  },
  {
   "cell_type": "code",
   "execution_count": 21,
   "id": "877b6cc7",
   "metadata": {
    "execution": {
     "iopub.execute_input": "2022-05-10T10:10:15.937534Z",
     "iopub.status.busy": "2022-05-10T10:10:15.936969Z",
     "iopub.status.idle": "2022-05-10T10:10:15.945887Z",
     "shell.execute_reply": "2022-05-10T10:10:15.945422Z"
    },
    "papermill": {
     "duration": 0.046204,
     "end_time": "2022-05-10T10:10:15.946013",
     "exception": false,
     "start_time": "2022-05-10T10:10:15.899809",
     "status": "completed"
    },
    "tags": []
   },
   "outputs": [],
   "source": [
    "lr_learner = Learner(loss, model_lr, opt, config.num_epochs)\n",
    "acc_lr = ClfCallback(lr_learner, config.bs, training_data_x , testing_data_x, training_data_y, testing_data_y)\n",
    "lr_learner.set_callbacks([acc_lr])"
   ]
  },
  {
   "cell_type": "code",
   "execution_count": 22,
   "id": "d9b133c3",
   "metadata": {
    "execution": {
     "iopub.execute_input": "2022-05-10T10:10:16.015233Z",
     "iopub.status.busy": "2022-05-10T10:10:16.010664Z",
     "iopub.status.idle": "2022-05-10T10:11:30.722247Z",
     "shell.execute_reply": "2022-05-10T10:11:30.722991Z"
    },
    "papermill": {
     "duration": 74.74891,
     "end_time": "2022-05-10T10:11:30.723135",
     "exception": false,
     "start_time": "2022-05-10T10:10:15.974225",
     "status": "completed"
    },
    "tags": []
   },
   "outputs": [
    {
     "name": "stdout",
     "output_type": "stream",
     "text": [
      "Epoch 0, Loss 0.2437\n",
      "Training Accuracy: 0.7188, Testing Accuracy: 0.7172\n",
      "\n"
     ]
    },
    {
     "name": "stdout",
     "output_type": "stream",
     "text": [
      "Epoch 10, Loss 0.0683\n",
      "Training Accuracy: 0.9367, Testing Accuracy: 0.9400\n",
      "\n"
     ]
    },
    {
     "name": "stdout",
     "output_type": "stream",
     "text": [
      "Epoch 20, Loss 0.0469\n",
      "Training Accuracy: 0.9506, Testing Accuracy: 0.9561\n",
      "\n"
     ]
    },
    {
     "name": "stdout",
     "output_type": "stream",
     "text": [
      "Epoch 30, Loss 0.039\n",
      "Training Accuracy: 0.9569, Testing Accuracy: 0.9617\n",
      "\n"
     ]
    },
    {
     "name": "stdout",
     "output_type": "stream",
     "text": [
      "Epoch 40, Loss 0.0347\n",
      "Training Accuracy: 0.9611, Testing Accuracy: 0.9647\n",
      "\n"
     ]
    },
    {
     "name": "stdout",
     "output_type": "stream",
     "text": [
      "Epoch 50, Loss 0.032\n",
      "Training Accuracy: 0.9628, Testing Accuracy: 0.9672\n",
      "\n"
     ]
    },
    {
     "name": "stdout",
     "output_type": "stream",
     "text": [
      "Epoch 60, Loss 0.03\n",
      "Training Accuracy: 0.9646, Testing Accuracy: 0.9688\n",
      "\n"
     ]
    },
    {
     "name": "stdout",
     "output_type": "stream",
     "text": [
      "Epoch 70, Loss 0.0284\n",
      "Training Accuracy: 0.9666, Testing Accuracy: 0.9698\n",
      "\n"
     ]
    },
    {
     "name": "stdout",
     "output_type": "stream",
     "text": [
      "Epoch 80, Loss 0.0272\n",
      "Training Accuracy: 0.9685, Testing Accuracy: 0.9698\n",
      "\n"
     ]
    },
    {
     "name": "stdout",
     "output_type": "stream",
     "text": [
      "Epoch 90, Loss 0.0261\n",
      "Training Accuracy: 0.9696, Testing Accuracy: 0.9693\n",
      "\n"
     ]
    },
    {
     "name": "stdout",
     "output_type": "stream",
     "text": [
      "Epoch 100, Loss 0.0252\n",
      "Training Accuracy: 0.9710, Testing Accuracy: 0.9703\n",
      "\n"
     ]
    },
    {
     "name": "stdout",
     "output_type": "stream",
     "text": [
      "Epoch 110, Loss 0.0244\n",
      "Training Accuracy: 0.9722, Testing Accuracy: 0.9708\n",
      "\n"
     ]
    },
    {
     "name": "stdout",
     "output_type": "stream",
     "text": [
      "Epoch 120, Loss 0.0237\n",
      "Training Accuracy: 0.9727, Testing Accuracy: 0.9703\n",
      "\n"
     ]
    },
    {
     "name": "stdout",
     "output_type": "stream",
     "text": [
      "Epoch 130, Loss 0.023\n",
      "Training Accuracy: 0.9737, Testing Accuracy: 0.9703\n",
      "\n"
     ]
    },
    {
     "name": "stdout",
     "output_type": "stream",
     "text": [
      "Epoch 140, Loss 0.0224\n",
      "Training Accuracy: 0.9748, Testing Accuracy: 0.9708\n",
      "\n"
     ]
    },
    {
     "name": "stdout",
     "output_type": "stream",
     "text": [
      "Epoch 150, Loss 0.0219\n",
      "Training Accuracy: 0.9752, Testing Accuracy: 0.9708\n",
      "\n"
     ]
    },
    {
     "name": "stdout",
     "output_type": "stream",
     "text": [
      "Epoch 160, Loss 0.0214\n",
      "Training Accuracy: 0.9759, Testing Accuracy: 0.9703\n",
      "\n"
     ]
    },
    {
     "name": "stdout",
     "output_type": "stream",
     "text": [
      "Epoch 170, Loss 0.0209\n",
      "Training Accuracy: 0.9763, Testing Accuracy: 0.9713\n",
      "\n"
     ]
    },
    {
     "name": "stdout",
     "output_type": "stream",
     "text": [
      "Epoch 180, Loss 0.0204\n",
      "Training Accuracy: 0.9770, Testing Accuracy: 0.9713\n",
      "\n"
     ]
    },
    {
     "name": "stdout",
     "output_type": "stream",
     "text": [
      "Epoch 190, Loss 0.02\n",
      "Training Accuracy: 0.9771, Testing Accuracy: 0.9723\n",
      "\n"
     ]
    },
    {
     "name": "stdout",
     "output_type": "stream",
     "text": [
      "Epoch 200, Loss 0.0196\n",
      "Training Accuracy: 0.9774, Testing Accuracy: 0.9723\n",
      "\n"
     ]
    },
    {
     "name": "stdout",
     "output_type": "stream",
     "text": [
      "Epoch 210, Loss 0.0192\n",
      "Training Accuracy: 0.9781, Testing Accuracy: 0.9723\n",
      "\n"
     ]
    },
    {
     "name": "stdout",
     "output_type": "stream",
     "text": [
      "Epoch 220, Loss 0.0189\n",
      "Training Accuracy: 0.9787, Testing Accuracy: 0.9728\n",
      "\n"
     ]
    },
    {
     "name": "stdout",
     "output_type": "stream",
     "text": [
      "Epoch 230, Loss 0.0185\n",
      "Training Accuracy: 0.9791, Testing Accuracy: 0.9723\n",
      "\n"
     ]
    },
    {
     "name": "stdout",
     "output_type": "stream",
     "text": [
      "Epoch 240, Loss 0.0182\n",
      "Training Accuracy: 0.9795, Testing Accuracy: 0.9723\n",
      "\n"
     ]
    },
    {
     "data": {
      "text/plain": [
       "0.014316139682369387"
      ]
     },
     "execution_count": 22,
     "metadata": {},
     "output_type": "execute_result"
    }
   ],
   "source": [
    "nn_learner.train_loop(dl)"
   ]
  },
  {
   "cell_type": "code",
   "execution_count": 23,
   "id": "e0163366",
   "metadata": {
    "execution": {
     "iopub.execute_input": "2022-05-10T10:11:30.816407Z",
     "iopub.status.busy": "2022-05-10T10:11:30.815859Z",
     "iopub.status.idle": "2022-05-10T10:11:44.145701Z",
     "shell.execute_reply": "2022-05-10T10:11:44.146438Z"
    },
    "papermill": {
     "duration": 13.389294,
     "end_time": "2022-05-10T10:11:44.146582",
     "exception": false,
     "start_time": "2022-05-10T10:11:30.757288",
     "status": "completed"
    },
    "tags": []
   },
   "outputs": [
    {
     "name": "stdout",
     "output_type": "stream",
     "text": [
      "Epoch 0, Loss 0.211\n",
      "Training Accuracy: 0.7832, Testing Accuracy: 0.7732\n",
      "\n"
     ]
    },
    {
     "name": "stdout",
     "output_type": "stream",
     "text": [
      "Epoch 10, Loss 0.1023\n",
      "Training Accuracy: 0.9020, Testing Accuracy: 0.9133\n",
      "\n"
     ]
    },
    {
     "name": "stdout",
     "output_type": "stream",
     "text": [
      "Epoch 20, Loss 0.0801\n",
      "Training Accuracy: 0.9214, Testing Accuracy: 0.9309\n",
      "\n"
     ]
    },
    {
     "name": "stdout",
     "output_type": "stream",
     "text": [
      "Epoch 30, Loss 0.0694\n",
      "Training Accuracy: 0.9293, Testing Accuracy: 0.9446\n",
      "\n"
     ]
    },
    {
     "name": "stdout",
     "output_type": "stream",
     "text": [
      "Epoch 40, Loss 0.0627\n",
      "Training Accuracy: 0.9362, Testing Accuracy: 0.9476\n",
      "\n"
     ]
    },
    {
     "name": "stdout",
     "output_type": "stream",
     "text": [
      "Epoch 50, Loss 0.0582\n",
      "Training Accuracy: 0.9425, Testing Accuracy: 0.9496\n",
      "\n"
     ]
    },
    {
     "name": "stdout",
     "output_type": "stream",
     "text": [
      "Epoch 60, Loss 0.0548\n",
      "Training Accuracy: 0.9452, Testing Accuracy: 0.9531\n",
      "\n"
     ]
    },
    {
     "name": "stdout",
     "output_type": "stream",
     "text": [
      "Epoch 70, Loss 0.0521\n",
      "Training Accuracy: 0.9475, Testing Accuracy: 0.9536\n",
      "\n"
     ]
    },
    {
     "name": "stdout",
     "output_type": "stream",
     "text": [
      "Epoch 80, Loss 0.05\n",
      "Training Accuracy: 0.9485, Testing Accuracy: 0.9551\n",
      "\n"
     ]
    },
    {
     "name": "stdout",
     "output_type": "stream",
     "text": [
      "Epoch 90, Loss 0.0482\n",
      "Training Accuracy: 0.9498, Testing Accuracy: 0.9592\n",
      "\n"
     ]
    },
    {
     "name": "stdout",
     "output_type": "stream",
     "text": [
      "Epoch 100, Loss 0.0468\n",
      "Training Accuracy: 0.9513, Testing Accuracy: 0.9597\n",
      "\n"
     ]
    },
    {
     "name": "stdout",
     "output_type": "stream",
     "text": [
      "Epoch 110, Loss 0.0455\n",
      "Training Accuracy: 0.9528, Testing Accuracy: 0.9602\n",
      "\n"
     ]
    },
    {
     "name": "stdout",
     "output_type": "stream",
     "text": [
      "Epoch 120, Loss 0.0444\n",
      "Training Accuracy: 0.9538, Testing Accuracy: 0.9622\n",
      "\n"
     ]
    },
    {
     "name": "stdout",
     "output_type": "stream",
     "text": [
      "Epoch 130, Loss 0.0434\n",
      "Training Accuracy: 0.9547, Testing Accuracy: 0.9622\n",
      "\n"
     ]
    },
    {
     "name": "stdout",
     "output_type": "stream",
     "text": [
      "Epoch 140, Loss 0.0425\n",
      "Training Accuracy: 0.9556, Testing Accuracy: 0.9617\n",
      "\n"
     ]
    },
    {
     "name": "stdout",
     "output_type": "stream",
     "text": [
      "Epoch 150, Loss 0.0418\n",
      "Training Accuracy: 0.9559, Testing Accuracy: 0.9617\n",
      "\n"
     ]
    },
    {
     "name": "stdout",
     "output_type": "stream",
     "text": [
      "Epoch 160, Loss 0.041\n",
      "Training Accuracy: 0.9565, Testing Accuracy: 0.9632\n",
      "\n"
     ]
    },
    {
     "name": "stdout",
     "output_type": "stream",
     "text": [
      "Epoch 170, Loss 0.0404\n",
      "Training Accuracy: 0.9574, Testing Accuracy: 0.9637\n",
      "\n"
     ]
    },
    {
     "name": "stdout",
     "output_type": "stream",
     "text": [
      "Epoch 180, Loss 0.0398\n",
      "Training Accuracy: 0.9579, Testing Accuracy: 0.9637\n",
      "\n"
     ]
    },
    {
     "name": "stdout",
     "output_type": "stream",
     "text": [
      "Epoch 190, Loss 0.0393\n",
      "Training Accuracy: 0.9584, Testing Accuracy: 0.9652\n",
      "\n"
     ]
    },
    {
     "name": "stdout",
     "output_type": "stream",
     "text": [
      "Epoch 200, Loss 0.0388\n",
      "Training Accuracy: 0.9589, Testing Accuracy: 0.9657\n",
      "\n"
     ]
    },
    {
     "name": "stdout",
     "output_type": "stream",
     "text": [
      "Epoch 210, Loss 0.0383\n",
      "Training Accuracy: 0.9595, Testing Accuracy: 0.9662\n",
      "\n"
     ]
    },
    {
     "name": "stdout",
     "output_type": "stream",
     "text": [
      "Epoch 220, Loss 0.0379\n",
      "Training Accuracy: 0.9596, Testing Accuracy: 0.9657\n",
      "\n"
     ]
    },
    {
     "name": "stdout",
     "output_type": "stream",
     "text": [
      "Epoch 230, Loss 0.0375\n",
      "Training Accuracy: 0.9599, Testing Accuracy: 0.9662\n",
      "\n"
     ]
    },
    {
     "name": "stdout",
     "output_type": "stream",
     "text": [
      "Epoch 240, Loss 0.0371\n",
      "Training Accuracy: 0.9608, Testing Accuracy: 0.9662\n",
      "\n"
     ]
    },
    {
     "data": {
      "text/plain": [
       "0.08835635705901475"
      ]
     },
     "execution_count": 23,
     "metadata": {},
     "output_type": "execute_result"
    }
   ],
   "source": [
    "lr_learner.train_loop(dl)"
   ]
  },
  {
   "cell_type": "code",
   "execution_count": 24,
   "id": "ca410940",
   "metadata": {
    "execution": {
     "iopub.execute_input": "2022-05-10T10:11:44.239193Z",
     "iopub.status.busy": "2022-05-10T10:11:44.238656Z",
     "iopub.status.idle": "2022-05-10T10:11:44.458459Z",
     "shell.execute_reply": "2022-05-10T10:11:44.458928Z"
    },
    "papermill": {
     "duration": 0.271606,
     "end_time": "2022-05-10T10:11:44.459087",
     "exception": false,
     "start_time": "2022-05-10T10:11:44.187481",
     "status": "completed"
    },
    "tags": []
   },
   "outputs": [
    {
     "data": {
      "text/plain": [
       "<matplotlib.legend.Legend at 0x7fc4f93afb00>"
      ]
     },
     "execution_count": 24,
     "metadata": {},
     "output_type": "execute_result"
    },
    {
     "data": {
      "image/png": "[encoded data removed]",
      "text/plain": [
       "<Figure size 1080x720 with 1 Axes>"
      ]
     },
     "metadata": {
      "needs_background": "light"
     },
     "output_type": "display_data"
    }
   ],
   "source": [
    "#comparing the results of NN and LR\n",
    "plt.figure(figsize=(15,10))\n",
    "\n",
    "# Neural Network plots\n",
    "plt.plot(acc_nn.accuracies, 'r-', label = \"Training Accuracies - NN\")\n",
    "plt.plot(acc_nn.test_accuracies, 'g-', label = \"Testing Accuracies - NN\")\n",
    "\n",
    "# Logistic Regression plots\n",
    "plt.plot(acc_lr.accuracies, 'k-', label = \"Training Accuracies - LR\")\n",
    "plt.plot(acc_lr.test_accuracies, 'b-', label = \"Testing Accuracies - LR\")\n",
    "plt.legend()"
   ]
  },
  {
   "cell_type": "markdown",
   "id": "80dfb35c",
   "metadata": {
    "papermill": {
     "duration": 0.042255,
     "end_time": "2022-05-10T10:11:44.544835",
     "exception": false,
     "start_time": "2022-05-10T10:11:44.502580",
     "status": "completed"
    },
    "tags": []
   },
   "source": [
    "#### Plotting the outputs of this layer of the NN.\n"
   ]
  },
  {
   "cell_type": "code",
   "execution_count": 25,
   "id": "45eb2ff5",
   "metadata": {
    "execution": {
     "iopub.execute_input": "2022-05-10T10:11:44.634539Z",
     "iopub.status.busy": "2022-05-10T10:11:44.633979Z",
     "iopub.status.idle": "2022-05-10T10:11:44.651638Z",
     "shell.execute_reply": "2022-05-10T10:11:44.652067Z"
    },
    "papermill": {
     "duration": 0.065411,
     "end_time": "2022-05-10T10:11:44.652204",
     "exception": false,
     "start_time": "2022-05-10T10:11:44.586793",
     "status": "completed"
    },
    "tags": []
   },
   "outputs": [],
   "source": [
    "new_model = Model(layers[:-2])\n",
    "testing_plot = new_model(testing_data_x)"
   ]
  },
  {
   "cell_type": "code",
   "execution_count": 26,
   "id": "4c0a5485",
   "metadata": {
    "execution": {
     "iopub.execute_input": "2022-05-10T10:11:44.744494Z",
     "iopub.status.busy": "2022-05-10T10:11:44.742821Z",
     "iopub.status.idle": "2022-05-10T10:11:44.956264Z",
     "shell.execute_reply": "2022-05-10T10:11:44.956663Z"
    },
    "papermill": {
     "duration": 0.260599,
     "end_time": "2022-05-10T10:11:44.956806",
     "exception": false,
     "start_time": "2022-05-10T10:11:44.696207",
     "status": "completed"
    },
    "tags": []
   },
   "outputs": [
    {
     "data": {
      "text/plain": [
       "Text(0.5, 1.0, 'Outputs')"
      ]
     },
     "execution_count": 26,
     "metadata": {},
     "output_type": "execute_result"
    },
    {
     "data": {
      "image/png": "[encoded data removed]",
      "text/plain": [
       "<Figure size 576x504 with 1 Axes>"
      ]
     },
     "metadata": {
      "needs_background": "light"
     },
     "output_type": "display_data"
    }
   ],
   "source": [
    "# Plotting the scatter plot of points and color coding by class\n",
    "plt.figure(figsize=(8,7))\n",
    "plt.scatter(testing_plot[:,0], testing_plot[:,1], alpha = 0.1, c = y_test.ravel());\n",
    "plt.title('Outputs')"
   ]
  },
  {
   "cell_type": "markdown",
   "id": "a74fcf8f",
   "metadata": {
    "papermill": {
     "duration": 0.044677,
     "end_time": "2022-05-10T10:11:45.046534",
     "exception": false,
     "start_time": "2022-05-10T10:11:45.001857",
     "status": "completed"
    },
    "tags": []
   },
   "source": [
    "Probability contours"
   ]
  },
  {
   "cell_type": "code",
   "execution_count": 27,
   "id": "d0afc8e3",
   "metadata": {
    "execution": {
     "iopub.execute_input": "2022-05-10T10:11:45.145197Z",
     "iopub.status.busy": "2022-05-10T10:11:45.144641Z",
     "iopub.status.idle": "2022-05-10T10:11:45.155118Z",
     "shell.execute_reply": "2022-05-10T10:11:45.154655Z"
    },
    "papermill": {
     "duration": 0.0634,
     "end_time": "2022-05-10T10:11:45.155228",
     "exception": false,
     "start_time": "2022-05-10T10:11:45.091828",
     "status": "completed"
    },
    "tags": []
   },
   "outputs": [],
   "source": [
    "model_prob = Model(layers[-2:]) "
   ]
  },
  {
   "cell_type": "code",
   "execution_count": 28,
   "id": "9b96e238",
   "metadata": {
    "execution": {
     "iopub.execute_input": "2022-05-10T10:11:45.279737Z",
     "iopub.status.busy": "2022-05-10T10:11:45.278727Z",
     "iopub.status.idle": "2022-05-10T10:11:45.292876Z",
     "shell.execute_reply": "2022-05-10T10:11:45.292462Z"
    },
    "papermill": {
     "duration": 0.065643,
     "end_time": "2022-05-10T10:11:45.292987",
     "exception": false,
     "start_time": "2022-05-10T10:11:45.227344",
     "status": "completed"
    },
    "tags": []
   },
   "outputs": [],
   "source": [
    "#creating the x and y ranges according to the above generated plot.\n",
    "x_range = np.linspace(-4, 1, 100) \n",
    "y_range = np.linspace(-6, 6, 100) \n",
    "x_grid, y_grid = np.meshgrid(x_range, y_range) # x_grid and y_grig are of size 100 X 100\n",
    "\n",
    "# converting x_grid and y_grid to continuous arrays\n",
    "x_gridflat = np.ravel(x_grid)\n",
    "y_gridflat = np.ravel(y_grid)\n",
    "\n",
    "# The last layer of the current model takes two columns as input. Hence transpose of np.vstack() is required.\n",
    "X = np.vstack((x_gridflat, y_gridflat)).T\n",
    "\n",
    "prob_contour = model_prob(X).reshape(100,100) "
   ]
  },
  {
   "cell_type": "code",
   "execution_count": 29,
   "id": "da72499a",
   "metadata": {
    "execution": {
     "iopub.execute_input": "2022-05-10T10:11:45.387115Z",
     "iopub.status.busy": "2022-05-10T10:11:45.386591Z",
     "iopub.status.idle": "2022-05-10T10:11:45.631843Z",
     "shell.execute_reply": "2022-05-10T10:11:45.631346Z"
    },
    "papermill": {
     "duration": 0.294039,
     "end_time": "2022-05-10T10:11:45.631981",
     "exception": false,
     "start_time": "2022-05-10T10:11:45.337942",
     "status": "completed"
    },
    "tags": []
   },
   "outputs": [
    {
     "data": {
      "image/png": "[encoded data removed]",
      "text/plain": [
       "<Figure size 720x648 with 1 Axes>"
      ]
     },
     "metadata": {
      "needs_background": "light"
     },
     "output_type": "display_data"
    }
   ],
   "source": [
    "plt.figure(figsize=(10,9))\n",
    "plt.scatter(testing_plot[:,0], testing_plot[:,1], alpha = 0.1, c = y_test.ravel())\n",
    "contours = plt.contour(x_grid,y_grid,prob_contour)\n",
    "plt.title('Probability Contours')\n",
    "plt.clabel(contours, inline = True );"
   ]
  },
  {
   "cell_type": "code",
   "execution_count": null,
   "id": "e81b4ac7",
   "metadata": {
    "papermill": {
     "duration": 0.046803,
     "end_time": "2022-05-10T10:11:45.726529",
     "exception": false,
     "start_time": "2022-05-10T10:11:45.679726",
     "status": "completed"
    },
    "tags": []
   },
   "outputs": [],
   "source": []
  }
 ],
 "metadata": {
  "kernelspec": {
   "display_name": "Python 3",
   "language": "python",
   "name": "python3"
  },
  "language_info": {
   "codemirror_mode": {
    "name": "ipython",
    "version": 3
   },
   "file_extension": ".py",
   "mimetype": "text/x-python",
   "name": "python",
   "nbconvert_exporter": "python",
   "pygments_lexer": "ipython3",
   "version": "3.6.15"
  },
  "papermill": {
   "default_parameters": {},
   "duration": 96.426173,
   "end_time": "2022-05-10T10:11:46.192469",
   "environment_variables": {},
   "exception": null,
   "input_path": "2020-08-11-part2.ipynb",
   "output_path": "2020-08-11-part2.ipynb",
   "parameters": {},
   "start_time": "2022-05-10T10:10:09.766296",
   "version": "2.3.3"
  }
 },
 "nbformat": 4,
 "nbformat_minor": 5
}