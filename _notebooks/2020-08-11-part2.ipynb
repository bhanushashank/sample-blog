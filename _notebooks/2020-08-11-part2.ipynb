{
 "cells": [
  {
   "cell_type": "markdown",
   "id": "98380cd3",
   "metadata": {
    "papermill": {
     "duration": 0.028079,
     "end_time": "2022-03-28T00:32:01.738678",
     "exception": false,
     "start_time": "2022-03-28T00:32:01.710599",
     "status": "completed"
    },
    "tags": []
   },
   "source": [
    "# Distinguish Your Own Digits (DYOD)"
   ]
  },
  {
   "cell_type": "markdown",
   "id": "ef31240d",
   "metadata": {
    "papermill": {
     "duration": 0.025816,
     "end_time": "2022-03-28T00:32:01.789676",
     "exception": false,
     "start_time": "2022-03-28T00:32:01.763860",
     "status": "completed"
    },
    "tags": []
   },
   "source": [
    "You are going to write a classifier that distinguishes between the number 3 and number 8."
   ]
  },
  {
   "cell_type": "code",
   "execution_count": 1,
   "id": "b15c8646",
   "metadata": {
    "execution": {
     "iopub.execute_input": "2022-03-28T00:32:01.848326Z",
     "iopub.status.busy": "2022-03-28T00:32:01.847816Z",
     "iopub.status.idle": "2022-03-28T00:32:01.858654Z",
     "shell.execute_reply": "2022-03-28T00:32:01.859117Z"
    },
    "papermill": {
     "duration": 0.045138,
     "end_time": "2022-03-28T00:32:01.859249",
     "exception": false,
     "start_time": "2022-03-28T00:32:01.814111",
     "status": "completed"
    },
    "tags": []
   },
   "outputs": [],
   "source": [
    "%load_ext autoreload\n",
    "%autoreload 2"
   ]
  },
  {
   "cell_type": "code",
   "execution_count": 2,
   "id": "22ef38dc",
   "metadata": {
    "execution": {
     "iopub.execute_input": "2022-03-28T00:32:01.911807Z",
     "iopub.status.busy": "2022-03-28T00:32:01.911311Z",
     "iopub.status.idle": "2022-03-28T00:32:02.457903Z",
     "shell.execute_reply": "2022-03-28T00:32:02.457447Z"
    },
    "papermill": {
     "duration": 0.573919,
     "end_time": "2022-03-28T00:32:02.458017",
     "exception": false,
     "start_time": "2022-03-28T00:32:01.884098",
     "status": "completed"
    },
    "tags": []
   },
   "outputs": [],
   "source": [
    "%matplotlib inline\n",
    "import numpy as np\n",
    "import matplotlib.pyplot as plt\n",
    "import pandas as pd"
   ]
  },
  {
   "cell_type": "markdown",
   "id": "ba036198",
   "metadata": {
    "papermill": {
     "duration": 0.024516,
     "end_time": "2022-03-28T00:32:02.507264",
     "exception": false,
     "start_time": "2022-03-28T00:32:02.482748",
     "status": "completed"
    },
    "tags": []
   },
   "source": [
    "From the command line run `pip install mnist`. This is a library that will help you bring down the mnist dataset. If you run this from a notebook, you need to put  `!pip install mnist` in a cell by itself."
   ]
  },
  {
   "cell_type": "code",
   "execution_count": 3,
   "id": "bb6ad8a1",
   "metadata": {
    "execution": {
     "iopub.execute_input": "2022-03-28T00:32:02.559626Z",
     "iopub.status.busy": "2022-03-28T00:32:02.559130Z",
     "iopub.status.idle": "2022-03-28T00:32:05.071953Z",
     "shell.execute_reply": "2022-03-28T00:32:05.071485Z"
    },
    "papermill": {
     "duration": 2.540284,
     "end_time": "2022-03-28T00:32:05.072064",
     "exception": false,
     "start_time": "2022-03-28T00:32:02.531780",
     "status": "completed"
    },
    "tags": []
   },
   "outputs": [
    {
     "name": "stdout",
     "output_type": "stream",
     "text": [
      "Collecting mnist\r\n"
     ]
    },
    {
     "name": "stdout",
     "output_type": "stream",
     "text": [
      "  Downloading mnist-0.2.2-py2.py3-none-any.whl (3.5 kB)\r\n",
      "Requirement already satisfied: numpy in /opt/hostedtoolcache/Python/3.6.15/x64/lib/python3.6/site-packages (from mnist) (1.19.5)\r\n"
     ]
    },
    {
     "name": "stdout",
     "output_type": "stream",
     "text": [
      "Installing collected packages: mnist\r\n",
      "Successfully installed mnist-0.2.2\r\n"
     ]
    }
   ],
   "source": [
    "!pip install mnist"
   ]
  },
  {
   "cell_type": "markdown",
   "id": "69df9c9a",
   "metadata": {
    "papermill": {
     "duration": 0.025744,
     "end_time": "2022-03-28T00:32:05.123848",
     "exception": false,
     "start_time": "2022-03-28T00:32:05.098104",
     "status": "completed"
    },
    "tags": []
   },
   "source": [
    "## Preparing the Data"
   ]
  },
  {
   "cell_type": "code",
   "execution_count": 4,
   "id": "7f69d806",
   "metadata": {
    "execution": {
     "iopub.execute_input": "2022-03-28T00:32:05.178607Z",
     "iopub.status.busy": "2022-03-28T00:32:05.178113Z",
     "iopub.status.idle": "2022-03-28T00:32:05.191255Z",
     "shell.execute_reply": "2022-03-28T00:32:05.190756Z"
    },
    "papermill": {
     "duration": 0.041932,
     "end_time": "2022-03-28T00:32:05.191356",
     "exception": false,
     "start_time": "2022-03-28T00:32:05.149424",
     "status": "completed"
    },
    "tags": []
   },
   "outputs": [],
   "source": [
    "import mnist"
   ]
  },
  {
   "cell_type": "code",
   "execution_count": 5,
   "id": "a411e44f",
   "metadata": {
    "execution": {
     "iopub.execute_input": "2022-03-28T00:32:05.245701Z",
     "iopub.status.busy": "2022-03-28T00:32:05.245207Z",
     "iopub.status.idle": "2022-03-28T00:32:05.866639Z",
     "shell.execute_reply": "2022-03-28T00:32:05.866164Z"
    },
    "papermill": {
     "duration": 0.649809,
     "end_time": "2022-03-28T00:32:05.866772",
     "exception": false,
     "start_time": "2022-03-28T00:32:05.216963",
     "status": "completed"
    },
    "tags": []
   },
   "outputs": [],
   "source": [
    "train_images = mnist.train_images()\n",
    "train_labels = mnist.train_labels()"
   ]
  },
  {
   "cell_type": "code",
   "execution_count": 6,
   "id": "dceab3a5",
   "metadata": {
    "execution": {
     "iopub.execute_input": "2022-03-28T00:32:05.923400Z",
     "iopub.status.busy": "2022-03-28T00:32:05.922574Z",
     "iopub.status.idle": "2022-03-28T00:32:05.935274Z",
     "shell.execute_reply": "2022-03-28T00:32:05.934870Z"
    },
    "papermill": {
     "duration": 0.042297,
     "end_time": "2022-03-28T00:32:05.935373",
     "exception": false,
     "start_time": "2022-03-28T00:32:05.893076",
     "status": "completed"
    },
    "tags": []
   },
   "outputs": [
    {
     "data": {
      "text/plain": [
       "((60000, 28, 28), (60000,))"
      ]
     },
     "execution_count": 6,
     "metadata": {},
     "output_type": "execute_result"
    }
   ],
   "source": [
    "train_images.shape, train_labels.shape"
   ]
  },
  {
   "cell_type": "code",
   "execution_count": 7,
   "id": "f50dc2bb",
   "metadata": {
    "execution": {
     "iopub.execute_input": "2022-03-28T00:32:05.990131Z",
     "iopub.status.busy": "2022-03-28T00:32:05.989625Z",
     "iopub.status.idle": "2022-03-28T00:32:06.275447Z",
     "shell.execute_reply": "2022-03-28T00:32:06.275002Z"
    },
    "papermill": {
     "duration": 0.314243,
     "end_time": "2022-03-28T00:32:06.275560",
     "exception": false,
     "start_time": "2022-03-28T00:32:05.961317",
     "status": "completed"
    },
    "tags": []
   },
   "outputs": [],
   "source": [
    "test_images = mnist.test_images()\n",
    "test_labels = mnist.test_labels()"
   ]
  },
  {
   "cell_type": "code",
   "execution_count": 8,
   "id": "fc38cf1b",
   "metadata": {
    "execution": {
     "iopub.execute_input": "2022-03-28T00:32:06.330877Z",
     "iopub.status.busy": "2022-03-28T00:32:06.330358Z",
     "iopub.status.idle": "2022-03-28T00:32:06.342073Z",
     "shell.execute_reply": "2022-03-28T00:32:06.342534Z"
    },
    "papermill": {
     "duration": 0.040951,
     "end_time": "2022-03-28T00:32:06.342647",
     "exception": false,
     "start_time": "2022-03-28T00:32:06.301696",
     "status": "completed"
    },
    "tags": []
   },
   "outputs": [
    {
     "data": {
      "text/plain": [
       "((10000, 28, 28), (10000,))"
      ]
     },
     "execution_count": 8,
     "metadata": {},
     "output_type": "execute_result"
    }
   ],
   "source": [
    "test_images.shape, test_labels.shape"
   ]
  },
  {
   "cell_type": "code",
   "execution_count": 9,
   "id": "f9ed8fe0",
   "metadata": {
    "execution": {
     "iopub.execute_input": "2022-03-28T00:32:06.397752Z",
     "iopub.status.busy": "2022-03-28T00:32:06.397251Z",
     "iopub.status.idle": "2022-03-28T00:32:06.528440Z",
     "shell.execute_reply": "2022-03-28T00:32:06.528847Z"
    },
    "papermill": {
     "duration": 0.160343,
     "end_time": "2022-03-28T00:32:06.528971",
     "exception": false,
     "start_time": "2022-03-28T00:32:06.368628",
     "status": "completed"
    },
    "tags": []
   },
   "outputs": [
    {
     "name": "stdout",
     "output_type": "stream",
     "text": [
      "2\n"
     ]
    },
    {
     "data": {
      "text/plain": [
       "<matplotlib.image.AxesImage at 0x7fbe25e645c0>"
      ]
     },
     "execution_count": 9,
     "metadata": {},
     "output_type": "execute_result"
    },
    {
     "data": {
      "image/png": "[encoded data removed]",
      "text/plain": [
       "<Figure size 432x288 with 1 Axes>"
      ]
     },
     "metadata": {
      "needs_background": "light"
     },
     "output_type": "display_data"
    }
   ],
   "source": [
    "image_index = 7776 # You may select anything up to 60,000\n",
    "print(train_labels[image_index]) \n",
    "plt.imshow(train_images[image_index], cmap='Greys')"
   ]
  },
  {
   "cell_type": "markdown",
   "id": "a8d2388d",
   "metadata": {
    "papermill": {
     "duration": 0.027309,
     "end_time": "2022-03-28T00:32:06.583544",
     "exception": false,
     "start_time": "2022-03-28T00:32:06.556235",
     "status": "completed"
    },
    "tags": []
   },
   "source": [
    "## Filter data to get 3 and 8 out"
   ]
  },
  {
   "cell_type": "code",
   "execution_count": 10,
   "id": "776f7fc7",
   "metadata": {
    "execution": {
     "iopub.execute_input": "2022-03-28T00:32:06.641557Z",
     "iopub.status.busy": "2022-03-28T00:32:06.641045Z",
     "iopub.status.idle": "2022-03-28T00:32:06.658660Z",
     "shell.execute_reply": "2022-03-28T00:32:06.657778Z"
    },
    "papermill": {
     "duration": 0.048255,
     "end_time": "2022-03-28T00:32:06.658785",
     "exception": false,
     "start_time": "2022-03-28T00:32:06.610530",
     "status": "completed"
    },
    "tags": []
   },
   "outputs": [],
   "source": [
    "train_filter = np.where((train_labels == 3 ) | (train_labels == 8))\n",
    "test_filter = np.where((test_labels == 3) | (test_labels == 8))\n",
    "X_train, y_train = train_images[train_filter], train_labels[train_filter]\n",
    "X_test, y_test = test_images[test_filter], test_labels[test_filter]"
   ]
  },
  {
   "cell_type": "markdown",
   "id": "948f0b7e",
   "metadata": {
    "papermill": {
     "duration": 0.026916,
     "end_time": "2022-03-28T00:32:06.712952",
     "exception": false,
     "start_time": "2022-03-28T00:32:06.686036",
     "status": "completed"
    },
    "tags": []
   },
   "source": [
    "We normalize the pizel values in the 0 to 1 range"
   ]
  },
  {
   "cell_type": "code",
   "execution_count": 11,
   "id": "ee4c2166",
   "metadata": {
    "execution": {
     "iopub.execute_input": "2022-03-28T00:32:06.771378Z",
     "iopub.status.busy": "2022-03-28T00:32:06.769276Z",
     "iopub.status.idle": "2022-03-28T00:32:06.808124Z",
     "shell.execute_reply": "2022-03-28T00:32:06.807667Z"
    },
    "papermill": {
     "duration": 0.068319,
     "end_time": "2022-03-28T00:32:06.808240",
     "exception": false,
     "start_time": "2022-03-28T00:32:06.739921",
     "status": "completed"
    },
    "tags": []
   },
   "outputs": [],
   "source": [
    "X_train = X_train/255.\n",
    "X_test = X_test/255."
   ]
  },
  {
   "cell_type": "markdown",
   "id": "ddcf4fab",
   "metadata": {
    "papermill": {
     "duration": 0.027087,
     "end_time": "2022-03-28T00:32:06.862770",
     "exception": false,
     "start_time": "2022-03-28T00:32:06.835683",
     "status": "completed"
    },
    "tags": []
   },
   "source": [
    "And setup the labels as 1 (when the digit is 3) and 0 (when the digit is 8)"
   ]
  },
  {
   "cell_type": "code",
   "execution_count": 12,
   "id": "7dc908f2",
   "metadata": {
    "execution": {
     "iopub.execute_input": "2022-03-28T00:32:06.920587Z",
     "iopub.status.busy": "2022-03-28T00:32:06.920063Z",
     "iopub.status.idle": "2022-03-28T00:32:06.930540Z",
     "shell.execute_reply": "2022-03-28T00:32:06.930976Z"
    },
    "papermill": {
     "duration": 0.041373,
     "end_time": "2022-03-28T00:32:06.931088",
     "exception": false,
     "start_time": "2022-03-28T00:32:06.889715",
     "status": "completed"
    },
    "tags": []
   },
   "outputs": [],
   "source": [
    "y_train = 1*(y_train==3)\n",
    "y_test = 1*(y_test==3)"
   ]
  },
  {
   "cell_type": "code",
   "execution_count": 13,
   "id": "01e4e969",
   "metadata": {
    "execution": {
     "iopub.execute_input": "2022-03-28T00:32:06.988056Z",
     "iopub.status.busy": "2022-03-28T00:32:06.987541Z",
     "iopub.status.idle": "2022-03-28T00:32:06.998754Z",
     "shell.execute_reply": "2022-03-28T00:32:06.999178Z"
    },
    "papermill": {
     "duration": 0.041176,
     "end_time": "2022-03-28T00:32:06.999286",
     "exception": false,
     "start_time": "2022-03-28T00:32:06.958110",
     "status": "completed"
    },
    "tags": []
   },
   "outputs": [
    {
     "data": {
      "text/plain": [
       "((11982, 28, 28), (1984, 28, 28))"
      ]
     },
     "execution_count": 13,
     "metadata": {},
     "output_type": "execute_result"
    }
   ],
   "source": [
    "X_train.shape, X_test.shape"
   ]
  },
  {
   "cell_type": "markdown",
   "id": "5ccf3f85",
   "metadata": {
    "papermill": {
     "duration": 0.027213,
     "end_time": "2022-03-28T00:32:07.053738",
     "exception": false,
     "start_time": "2022-03-28T00:32:07.026525",
     "status": "completed"
    },
    "tags": []
   },
   "source": [
    "We reshape the data to flatten the image pixels into a set of features or co-variates:"
   ]
  },
  {
   "cell_type": "code",
   "execution_count": 14,
   "id": "5286a4a3",
   "metadata": {
    "execution": {
     "iopub.execute_input": "2022-03-28T00:32:07.111380Z",
     "iopub.status.busy": "2022-03-28T00:32:07.110878Z",
     "iopub.status.idle": "2022-03-28T00:32:07.122454Z",
     "shell.execute_reply": "2022-03-28T00:32:07.122897Z"
    },
    "papermill": {
     "duration": 0.04185,
     "end_time": "2022-03-28T00:32:07.123009",
     "exception": false,
     "start_time": "2022-03-28T00:32:07.081159",
     "status": "completed"
    },
    "tags": []
   },
   "outputs": [
    {
     "data": {
      "text/plain": [
       "((11982, 784), (1984, 784))"
      ]
     },
     "execution_count": 14,
     "metadata": {},
     "output_type": "execute_result"
    }
   ],
   "source": [
    "X_train = X_train.reshape(X_train.shape[0], -1)\n",
    "X_test = X_test.reshape(X_test.shape[0], -1)\n",
    "X_train.shape, X_test.shape"
   ]
  },
  {
   "cell_type": "code",
   "execution_count": 15,
   "id": "73c5f88a",
   "metadata": {
    "execution": {
     "iopub.execute_input": "2022-03-28T00:32:07.183429Z",
     "iopub.status.busy": "2022-03-28T00:32:07.181152Z",
     "iopub.status.idle": "2022-03-28T00:32:07.197548Z",
     "shell.execute_reply": "2022-03-28T00:32:07.197973Z"
    },
    "papermill": {
     "duration": 0.047518,
     "end_time": "2022-03-28T00:32:07.198081",
     "exception": false,
     "start_time": "2022-03-28T00:32:07.150563",
     "status": "completed"
    },
    "tags": []
   },
   "outputs": [],
   "source": [
    "#Impoting functions from 'Kudzu'\n",
    "from kudzu.model import Model\n",
    "from kudzu.train import Learner\n",
    "from kudzu.optim import GD\n",
    "from kudzu.data import Data, Sampler,Dataloader\n",
    "\n",
    "from kudzu.callbacks import AccCallback\n",
    "from kudzu.callbacks import ClfCallback\n",
    "\n",
    "from kudzu.loss import MSE\n",
    "\n",
    "from kudzu.layer import Sigmoid,Relu\n",
    "from kudzu.layer import Affine"
   ]
  },
  {
   "cell_type": "markdown",
   "id": "bc01172a",
   "metadata": {
    "papermill": {
     "duration": 0.027455,
     "end_time": "2022-03-28T00:32:07.253286",
     "exception": false,
     "start_time": "2022-03-28T00:32:07.225831",
     "status": "completed"
    },
    "tags": []
   },
   "source": [
    "### Let us create a `Config` class, to store important parameters. \n",
    "This class essentially plays the role of a dictionary."
   ]
  },
  {
   "cell_type": "code",
   "execution_count": 16,
   "id": "978281aa",
   "metadata": {
    "execution": {
     "iopub.execute_input": "2022-03-28T00:32:07.311992Z",
     "iopub.status.busy": "2022-03-28T00:32:07.311486Z",
     "iopub.status.idle": "2022-03-28T00:32:07.322035Z",
     "shell.execute_reply": "2022-03-28T00:32:07.322406Z"
    },
    "papermill": {
     "duration": 0.041564,
     "end_time": "2022-03-28T00:32:07.322518",
     "exception": false,
     "start_time": "2022-03-28T00:32:07.280954",
     "status": "completed"
    },
    "tags": []
   },
   "outputs": [],
   "source": [
    "class Config:\n",
    "    pass\n",
    "config = Config()\n",
    "config.lr = 0.001\n",
    "config.num_epochs = 250\n",
    "config.bs = 50"
   ]
  },
  {
   "cell_type": "markdown",
   "id": "1385fa59",
   "metadata": {
    "papermill": {
     "duration": 0.027607,
     "end_time": "2022-03-28T00:32:07.377826",
     "exception": false,
     "start_time": "2022-03-28T00:32:07.350219",
     "status": "completed"
    },
    "tags": []
   },
   "source": [
    "### Running Models with the Training data\n",
    "Details about the network layers:\n",
    "- A first affine layer has 784 inputs and does 100 affine transforms. These are followed by a Relu\n",
    "- A second affine layer has 100 inputs from the 100 activations of the past layer, and does 100 affine transforms. These are followed by a Relu\n",
    "- A third affine layer has 100 activations and does 2 affine transformations to create an embedding for visualization. There is no non-linearity here.\n",
    "- A final \"logistic regression\" which has an affine transform from 2 inputs to 1 output, which is squeezed through a sigmoid.\n"
   ]
  },
  {
   "cell_type": "code",
   "execution_count": 17,
   "id": "2b9c66db",
   "metadata": {
    "execution": {
     "iopub.execute_input": "2022-03-28T00:32:07.438645Z",
     "iopub.status.busy": "2022-03-28T00:32:07.437388Z",
     "iopub.status.idle": "2022-03-28T00:32:07.448396Z",
     "shell.execute_reply": "2022-03-28T00:32:07.447973Z"
    },
    "papermill": {
     "duration": 0.04291,
     "end_time": "2022-03-28T00:32:07.448492",
     "exception": false,
     "start_time": "2022-03-28T00:32:07.405582",
     "status": "completed"
    },
    "tags": []
   },
   "outputs": [],
   "source": [
    "data = Data(X_train, y_train.reshape(-1,1))\n",
    "sampler = Sampler(data, config.bs, shuffle=True)\n",
    "\n",
    "dl = Dataloader(data, sampler)\n",
    "\n",
    "opt = GD(config.lr)\n",
    "loss = MSE()"
   ]
  },
  {
   "cell_type": "code",
   "execution_count": 18,
   "id": "b275e4c2",
   "metadata": {
    "execution": {
     "iopub.execute_input": "2022-03-28T00:32:07.507007Z",
     "iopub.status.busy": "2022-03-28T00:32:07.506479Z",
     "iopub.status.idle": "2022-03-28T00:32:07.517130Z",
     "shell.execute_reply": "2022-03-28T00:32:07.517506Z"
    },
    "papermill": {
     "duration": 0.041473,
     "end_time": "2022-03-28T00:32:07.517618",
     "exception": false,
     "start_time": "2022-03-28T00:32:07.476145",
     "status": "completed"
    },
    "tags": []
   },
   "outputs": [],
   "source": [
    "training_data_x = X_train\n",
    "testing_data_x = X_test\n",
    "training_data_y = y_train.reshape(-1,1)\n",
    "testing_data_y = y_test.reshape(-1,1)"
   ]
  },
  {
   "cell_type": "code",
   "execution_count": 19,
   "id": "76951160",
   "metadata": {
    "execution": {
     "iopub.execute_input": "2022-03-28T00:32:07.576279Z",
     "iopub.status.busy": "2022-03-28T00:32:07.575772Z",
     "iopub.status.idle": "2022-03-28T00:32:07.591378Z",
     "shell.execute_reply": "2022-03-28T00:32:07.590957Z"
    },
    "papermill": {
     "duration": 0.046307,
     "end_time": "2022-03-28T00:32:07.591476",
     "exception": false,
     "start_time": "2022-03-28T00:32:07.545169",
     "status": "completed"
    },
    "tags": []
   },
   "outputs": [
    {
     "name": "stdout",
     "output_type": "stream",
     "text": [
      "xavier\n",
      "xavier\n",
      "xavier\n",
      "xavier\n",
      "xavier\n"
     ]
    }
   ],
   "source": [
    "layers = [Affine(\"first\", 784, 100), Relu(\"first\"), Affine(\"second\", 100, 100), Relu(\"second\"), Affine(\"third\", 100, 2), Affine(\"last\", 2, 1), Sigmoid(\"last\")]\n",
    "model_nn = Model(layers)\n",
    "model_lr = Model([Affine(\"logits\", 784, 1), Sigmoid(\"sigmoid\")])"
   ]
  },
  {
   "cell_type": "code",
   "execution_count": 20,
   "id": "6eede77a",
   "metadata": {
    "execution": {
     "iopub.execute_input": "2022-03-28T00:32:07.650705Z",
     "iopub.status.busy": "2022-03-28T00:32:07.650201Z",
     "iopub.status.idle": "2022-03-28T00:32:07.660789Z",
     "shell.execute_reply": "2022-03-28T00:32:07.660384Z"
    },
    "papermill": {
     "duration": 0.04143,
     "end_time": "2022-03-28T00:32:07.660888",
     "exception": false,
     "start_time": "2022-03-28T00:32:07.619458",
     "status": "completed"
    },
    "tags": []
   },
   "outputs": [],
   "source": [
    "nn_learner = Learner(loss, model_nn, opt, config.num_epochs)\n",
    "acc_nn = ClfCallback(nn_learner, config.bs, training_data_x , testing_data_x, training_data_y, testing_data_y)\n",
    "nn_learner.set_callbacks([acc_nn])"
   ]
  },
  {
   "cell_type": "code",
   "execution_count": 21,
   "id": "877b6cc7",
   "metadata": {
    "execution": {
     "iopub.execute_input": "2022-03-28T00:32:07.719851Z",
     "iopub.status.busy": "2022-03-28T00:32:07.719358Z",
     "iopub.status.idle": "2022-03-28T00:32:07.730209Z",
     "shell.execute_reply": "2022-03-28T00:32:07.729817Z"
    },
    "papermill": {
     "duration": 0.041468,
     "end_time": "2022-03-28T00:32:07.730307",
     "exception": false,
     "start_time": "2022-03-28T00:32:07.688839",
     "status": "completed"
    },
    "tags": []
   },
   "outputs": [],
   "source": [
    "lr_learner = Learner(loss, model_lr, opt, config.num_epochs)\n",
    "acc_lr = ClfCallback(lr_learner, config.bs, training_data_x , testing_data_x, training_data_y, testing_data_y)\n",
    "lr_learner.set_callbacks([acc_lr])"
   ]
  },
  {
   "cell_type": "code",
   "execution_count": 22,
   "id": "d9b133c3",
   "metadata": {
    "execution": {
     "iopub.execute_input": "2022-03-28T00:32:07.789167Z",
     "iopub.status.busy": "2022-03-28T00:32:07.788679Z",
     "iopub.status.idle": "2022-03-28T00:35:03.126224Z",
     "shell.execute_reply": "2022-03-28T00:35:03.126644Z"
    },
    "papermill": {
     "duration": 175.368527,
     "end_time": "2022-03-28T00:35:03.126793",
     "exception": false,
     "start_time": "2022-03-28T00:32:07.758266",
     "status": "completed"
    },
    "tags": []
   },
   "outputs": [
    {
     "name": "stdout",
     "output_type": "stream",
     "text": [
      "Epoch 0, Loss 0.2227\n",
      "Training Accuracy: 0.7739, Testing Accuracy: 0.7908\n",
      "\n"
     ]
    },
    {
     "name": "stdout",
     "output_type": "stream",
     "text": [
      "Epoch 10, Loss 0.0734\n",
      "Training Accuracy: 0.9275, Testing Accuracy: 0.9340\n",
      "\n"
     ]
    },
    {
     "name": "stdout",
     "output_type": "stream",
     "text": [
      "Epoch 20, Loss 0.0487\n",
      "Training Accuracy: 0.9477, Testing Accuracy: 0.9567\n",
      "\n"
     ]
    },
    {
     "name": "stdout",
     "output_type": "stream",
     "text": [
      "Epoch 30, Loss 0.0396\n",
      "Training Accuracy: 0.9561, Testing Accuracy: 0.9637\n",
      "\n"
     ]
    },
    {
     "name": "stdout",
     "output_type": "stream",
     "text": [
      "Epoch 40, Loss 0.035\n",
      "Training Accuracy: 0.9599, Testing Accuracy: 0.9672\n",
      "\n"
     ]
    },
    {
     "name": "stdout",
     "output_type": "stream",
     "text": [
      "Epoch 50, Loss 0.032\n",
      "Training Accuracy: 0.9623, Testing Accuracy: 0.9677\n",
      "\n"
     ]
    },
    {
     "name": "stdout",
     "output_type": "stream",
     "text": [
      "Epoch 60, Loss 0.0299\n",
      "Training Accuracy: 0.9640, Testing Accuracy: 0.9672\n",
      "\n"
     ]
    },
    {
     "name": "stdout",
     "output_type": "stream",
     "text": [
      "Epoch 70, Loss 0.0283\n",
      "Training Accuracy: 0.9659, Testing Accuracy: 0.9657\n",
      "\n"
     ]
    },
    {
     "name": "stdout",
     "output_type": "stream",
     "text": [
      "Epoch 80, Loss 0.027\n",
      "Training Accuracy: 0.9674, Testing Accuracy: 0.9662\n",
      "\n"
     ]
    },
    {
     "name": "stdout",
     "output_type": "stream",
     "text": [
      "Epoch 90, Loss 0.0259\n",
      "Training Accuracy: 0.9690, Testing Accuracy: 0.9672\n",
      "\n"
     ]
    },
    {
     "name": "stdout",
     "output_type": "stream",
     "text": [
      "Epoch 100, Loss 0.025\n",
      "Training Accuracy: 0.9706, Testing Accuracy: 0.9693\n",
      "\n"
     ]
    },
    {
     "name": "stdout",
     "output_type": "stream",
     "text": [
      "Epoch 110, Loss 0.0241\n",
      "Training Accuracy: 0.9717, Testing Accuracy: 0.9698\n",
      "\n"
     ]
    },
    {
     "name": "stdout",
     "output_type": "stream",
     "text": [
      "Epoch 120, Loss 0.0233\n",
      "Training Accuracy: 0.9725, Testing Accuracy: 0.9698\n",
      "\n"
     ]
    },
    {
     "name": "stdout",
     "output_type": "stream",
     "text": [
      "Epoch 130, Loss 0.0226\n",
      "Training Accuracy: 0.9735, Testing Accuracy: 0.9698\n",
      "\n"
     ]
    },
    {
     "name": "stdout",
     "output_type": "stream",
     "text": [
      "Epoch 140, Loss 0.022\n",
      "Training Accuracy: 0.9745, Testing Accuracy: 0.9713\n",
      "\n"
     ]
    },
    {
     "name": "stdout",
     "output_type": "stream",
     "text": [
      "Epoch 150, Loss 0.0214\n",
      "Training Accuracy: 0.9754, Testing Accuracy: 0.9713\n",
      "\n"
     ]
    },
    {
     "name": "stdout",
     "output_type": "stream",
     "text": [
      "Epoch 160, Loss 0.0208\n",
      "Training Accuracy: 0.9760, Testing Accuracy: 0.9723\n",
      "\n"
     ]
    },
    {
     "name": "stdout",
     "output_type": "stream",
     "text": [
      "Epoch 170, Loss 0.0202\n",
      "Training Accuracy: 0.9766, Testing Accuracy: 0.9718\n",
      "\n"
     ]
    },
    {
     "name": "stdout",
     "output_type": "stream",
     "text": [
      "Epoch 180, Loss 0.0197\n",
      "Training Accuracy: 0.9775, Testing Accuracy: 0.9728\n",
      "\n"
     ]
    },
    {
     "name": "stdout",
     "output_type": "stream",
     "text": [
      "Epoch 190, Loss 0.0192\n",
      "Training Accuracy: 0.9784, Testing Accuracy: 0.9738\n",
      "\n"
     ]
    },
    {
     "name": "stdout",
     "output_type": "stream",
     "text": [
      "Epoch 200, Loss 0.0188\n",
      "Training Accuracy: 0.9791, Testing Accuracy: 0.9748\n",
      "\n"
     ]
    },
    {
     "name": "stdout",
     "output_type": "stream",
     "text": [
      "Epoch 210, Loss 0.0183\n",
      "Training Accuracy: 0.9799, Testing Accuracy: 0.9743\n",
      "\n"
     ]
    },
    {
     "name": "stdout",
     "output_type": "stream",
     "text": [
      "Epoch 220, Loss 0.0179\n",
      "Training Accuracy: 0.9803, Testing Accuracy: 0.9738\n",
      "\n"
     ]
    },
    {
     "name": "stdout",
     "output_type": "stream",
     "text": [
      "Epoch 230, Loss 0.0175\n",
      "Training Accuracy: 0.9805, Testing Accuracy: 0.9743\n",
      "\n"
     ]
    },
    {
     "name": "stdout",
     "output_type": "stream",
     "text": [
      "Epoch 240, Loss 0.0171\n",
      "Training Accuracy: 0.9810, Testing Accuracy: 0.9748\n",
      "\n"
     ]
    },
    {
     "data": {
      "text/plain": [
       "0.0015207220132514303"
      ]
     },
     "execution_count": 22,
     "metadata": {},
     "output_type": "execute_result"
    }
   ],
   "source": [
    "nn_learner.train_loop(dl)"
   ]
  },
  {
   "cell_type": "code",
   "execution_count": 23,
   "id": "e0163366",
   "metadata": {
    "execution": {
     "iopub.execute_input": "2022-03-28T00:35:03.202178Z",
     "iopub.status.busy": "2022-03-28T00:35:03.201453Z",
     "iopub.status.idle": "2022-03-28T00:35:15.425857Z",
     "shell.execute_reply": "2022-03-28T00:35:15.426282Z"
    },
    "papermill": {
     "duration": 12.264112,
     "end_time": "2022-03-28T00:35:15.426408",
     "exception": false,
     "start_time": "2022-03-28T00:35:03.162296",
     "status": "completed"
    },
    "tags": []
   },
   "outputs": [
    {
     "name": "stdout",
     "output_type": "stream",
     "text": [
      "Epoch 0, Loss 0.2585\n",
      "Training Accuracy: 0.5909, Testing Accuracy: 0.5862\n",
      "\n"
     ]
    },
    {
     "name": "stdout",
     "output_type": "stream",
     "text": [
      "Epoch 10, Loss 0.1046\n",
      "Training Accuracy: 0.9083, Testing Accuracy: 0.9189\n",
      "\n"
     ]
    },
    {
     "name": "stdout",
     "output_type": "stream",
     "text": [
      "Epoch 20, Loss 0.0794\n",
      "Training Accuracy: 0.9291, Testing Accuracy: 0.9365\n",
      "\n"
     ]
    },
    {
     "name": "stdout",
     "output_type": "stream",
     "text": [
      "Epoch 30, Loss 0.0683\n",
      "Training Accuracy: 0.9367, Testing Accuracy: 0.9471\n",
      "\n"
     ]
    },
    {
     "name": "stdout",
     "output_type": "stream",
     "text": [
      "Epoch 40, Loss 0.0617\n",
      "Training Accuracy: 0.9412, Testing Accuracy: 0.9506\n",
      "\n"
     ]
    },
    {
     "name": "stdout",
     "output_type": "stream",
     "text": [
      "Epoch 50, Loss 0.0572\n",
      "Training Accuracy: 0.9443, Testing Accuracy: 0.9541\n",
      "\n"
     ]
    },
    {
     "name": "stdout",
     "output_type": "stream",
     "text": [
      "Epoch 60, Loss 0.0539\n",
      "Training Accuracy: 0.9458, Testing Accuracy: 0.9572\n",
      "\n"
     ]
    },
    {
     "name": "stdout",
     "output_type": "stream",
     "text": [
      "Epoch 70, Loss 0.0514\n",
      "Training Accuracy: 0.9478, Testing Accuracy: 0.9587\n",
      "\n"
     ]
    },
    {
     "name": "stdout",
     "output_type": "stream",
     "text": [
      "Epoch 80, Loss 0.0494\n",
      "Training Accuracy: 0.9490, Testing Accuracy: 0.9592\n",
      "\n"
     ]
    },
    {
     "name": "stdout",
     "output_type": "stream",
     "text": [
      "Epoch 90, Loss 0.0477\n",
      "Training Accuracy: 0.9503, Testing Accuracy: 0.9612\n",
      "\n"
     ]
    },
    {
     "name": "stdout",
     "output_type": "stream",
     "text": [
      "Epoch 100, Loss 0.0463\n",
      "Training Accuracy: 0.9513, Testing Accuracy: 0.9627\n",
      "\n"
     ]
    },
    {
     "name": "stdout",
     "output_type": "stream",
     "text": [
      "Epoch 110, Loss 0.045\n",
      "Training Accuracy: 0.9526, Testing Accuracy: 0.9637\n",
      "\n"
     ]
    },
    {
     "name": "stdout",
     "output_type": "stream",
     "text": [
      "Epoch 120, Loss 0.044\n",
      "Training Accuracy: 0.9534, Testing Accuracy: 0.9627\n",
      "\n"
     ]
    },
    {
     "name": "stdout",
     "output_type": "stream",
     "text": [
      "Epoch 130, Loss 0.0431\n",
      "Training Accuracy: 0.9544, Testing Accuracy: 0.9627\n",
      "\n"
     ]
    },
    {
     "name": "stdout",
     "output_type": "stream",
     "text": [
      "Epoch 140, Loss 0.0422\n",
      "Training Accuracy: 0.9557, Testing Accuracy: 0.9637\n",
      "\n"
     ]
    },
    {
     "name": "stdout",
     "output_type": "stream",
     "text": [
      "Epoch 150, Loss 0.0415\n",
      "Training Accuracy: 0.9566, Testing Accuracy: 0.9652\n",
      "\n"
     ]
    },
    {
     "name": "stdout",
     "output_type": "stream",
     "text": [
      "Epoch 160, Loss 0.0408\n",
      "Training Accuracy: 0.9569, Testing Accuracy: 0.9647\n",
      "\n"
     ]
    },
    {
     "name": "stdout",
     "output_type": "stream",
     "text": [
      "Epoch 170, Loss 0.0402\n",
      "Training Accuracy: 0.9572, Testing Accuracy: 0.9652\n",
      "\n"
     ]
    },
    {
     "name": "stdout",
     "output_type": "stream",
     "text": [
      "Epoch 180, Loss 0.0396\n",
      "Training Accuracy: 0.9584, Testing Accuracy: 0.9652\n",
      "\n"
     ]
    },
    {
     "name": "stdout",
     "output_type": "stream",
     "text": [
      "Epoch 190, Loss 0.0391\n",
      "Training Accuracy: 0.9587, Testing Accuracy: 0.9657\n",
      "\n"
     ]
    },
    {
     "name": "stdout",
     "output_type": "stream",
     "text": [
      "Epoch 200, Loss 0.0386\n",
      "Training Accuracy: 0.9592, Testing Accuracy: 0.9662\n",
      "\n"
     ]
    },
    {
     "name": "stdout",
     "output_type": "stream",
     "text": [
      "Epoch 210, Loss 0.0382\n",
      "Training Accuracy: 0.9599, Testing Accuracy: 0.9667\n",
      "\n"
     ]
    },
    {
     "name": "stdout",
     "output_type": "stream",
     "text": [
      "Epoch 220, Loss 0.0378\n",
      "Training Accuracy: 0.9601, Testing Accuracy: 0.9672\n",
      "\n"
     ]
    },
    {
     "name": "stdout",
     "output_type": "stream",
     "text": [
      "Epoch 230, Loss 0.0374\n",
      "Training Accuracy: 0.9604, Testing Accuracy: 0.9677\n",
      "\n"
     ]
    },
    {
     "name": "stdout",
     "output_type": "stream",
     "text": [
      "Epoch 240, Loss 0.037\n",
      "Training Accuracy: 0.9604, Testing Accuracy: 0.9672\n",
      "\n"
     ]
    },
    {
     "data": {
      "text/plain": [
       "0.01754764485728942"
      ]
     },
     "execution_count": 23,
     "metadata": {},
     "output_type": "execute_result"
    }
   ],
   "source": [
    "lr_learner.train_loop(dl)"
   ]
  },
  {
   "cell_type": "code",
   "execution_count": 24,
   "id": "ca410940",
   "metadata": {
    "execution": {
     "iopub.execute_input": "2022-03-28T00:35:15.517566Z",
     "iopub.status.busy": "2022-03-28T00:35:15.517036Z",
     "iopub.status.idle": "2022-03-28T00:35:15.754883Z",
     "shell.execute_reply": "2022-03-28T00:35:15.754435Z"
    },
    "papermill": {
     "duration": 0.285966,
     "end_time": "2022-03-28T00:35:15.754996",
     "exception": false,
     "start_time": "2022-03-28T00:35:15.469030",
     "status": "completed"
    },
    "tags": []
   },
   "outputs": [
    {
     "data": {
      "text/plain": [
       "<matplotlib.legend.Legend at 0x7fbe25a3fd68>"
      ]
     },
     "execution_count": 24,
     "metadata": {},
     "output_type": "execute_result"
    },
    {
     "data": {
      "image/png": "[encoded data removed]",
      "text/plain": [
       "<Figure size 1080x720 with 1 Axes>"
      ]
     },
     "metadata": {
      "needs_background": "light"
     },
     "output_type": "display_data"
    }
   ],
   "source": [
    "#comparing the results of NN and LR\n",
    "plt.figure(figsize=(15,10))\n",
    "\n",
    "# Neural Network plots\n",
    "plt.plot(acc_nn.accuracies, 'r-', label = \"Training Accuracies - NN\")\n",
    "plt.plot(acc_nn.test_accuracies, 'g-', label = \"Testing Accuracies - NN\")\n",
    "\n",
    "# Logistic Regression plots\n",
    "plt.plot(acc_lr.accuracies, 'k-', label = \"Training Accuracies - LR\")\n",
    "plt.plot(acc_lr.test_accuracies, 'b-', label = \"Testing Accuracies - LR\")\n",
    "plt.legend()"
   ]
  },
  {
   "cell_type": "markdown",
   "id": "80dfb35c",
   "metadata": {
    "papermill": {
     "duration": 0.04379,
     "end_time": "2022-03-28T00:35:15.843285",
     "exception": false,
     "start_time": "2022-03-28T00:35:15.799495",
     "status": "completed"
    },
    "tags": []
   },
   "source": [
    "#### Plotting the outputs of this layer of the NN.\n"
   ]
  },
  {
   "cell_type": "code",
   "execution_count": 25,
   "id": "45eb2ff5",
   "metadata": {
    "execution": {
     "iopub.execute_input": "2022-03-28T00:35:15.933489Z",
     "iopub.status.busy": "2022-03-28T00:35:15.932987Z",
     "iopub.status.idle": "2022-03-28T00:35:15.967666Z",
     "shell.execute_reply": "2022-03-28T00:35:15.968063Z"
    },
    "papermill": {
     "duration": 0.081506,
     "end_time": "2022-03-28T00:35:15.968179",
     "exception": false,
     "start_time": "2022-03-28T00:35:15.886673",
     "status": "completed"
    },
    "tags": []
   },
   "outputs": [],
   "source": [
    "new_model = Model(layers[:-2])\n",
    "testing_plot = new_model(testing_data_x)"
   ]
  },
  {
   "cell_type": "code",
   "execution_count": 26,
   "id": "4c0a5485",
   "metadata": {
    "execution": {
     "iopub.execute_input": "2022-03-28T00:35:16.061957Z",
     "iopub.status.busy": "2022-03-28T00:35:16.060701Z",
     "iopub.status.idle": "2022-03-28T00:35:16.256048Z",
     "shell.execute_reply": "2022-03-28T00:35:16.255619Z"
    },
    "papermill": {
     "duration": 0.243987,
     "end_time": "2022-03-28T00:35:16.256159",
     "exception": false,
     "start_time": "2022-03-28T00:35:16.012172",
     "status": "completed"
    },
    "tags": []
   },
   "outputs": [
    {
     "data": {
      "text/plain": [
       "Text(0.5, 1.0, 'Outputs')"
      ]
     },
     "execution_count": 26,
     "metadata": {},
     "output_type": "execute_result"
    },
    {
     "data": {
      "image/png": "[encoded data removed]",
      "text/plain": [
       "<Figure size 576x504 with 1 Axes>"
      ]
     },
     "metadata": {
      "needs_background": "light"
     },
     "output_type": "display_data"
    }
   ],
   "source": [
    "# Plotting the scatter plot of points and color coding by class\n",
    "plt.figure(figsize=(8,7))\n",
    "plt.scatter(testing_plot[:,0], testing_plot[:,1], alpha = 0.1, c = y_test.ravel());\n",
    "plt.title('Outputs')"
   ]
  },
  {
   "cell_type": "markdown",
   "id": "a74fcf8f",
   "metadata": {
    "papermill": {
     "duration": 0.045617,
     "end_time": "2022-03-28T00:35:16.347465",
     "exception": false,
     "start_time": "2022-03-28T00:35:16.301848",
     "status": "completed"
    },
    "tags": []
   },
   "source": [
    "Probability contours"
   ]
  },
  {
   "cell_type": "code",
   "execution_count": 27,
   "id": "d0afc8e3",
   "metadata": {
    "execution": {
     "iopub.execute_input": "2022-03-28T00:35:16.444390Z",
     "iopub.status.busy": "2022-03-28T00:35:16.443087Z",
     "iopub.status.idle": "2022-03-28T00:35:16.453138Z",
     "shell.execute_reply": "2022-03-28T00:35:16.453536Z"
    },
    "papermill": {
     "duration": 0.060535,
     "end_time": "2022-03-28T00:35:16.453653",
     "exception": false,
     "start_time": "2022-03-28T00:35:16.393118",
     "status": "completed"
    },
    "tags": []
   },
   "outputs": [],
   "source": [
    "model_prob = Model(layers[-2:]) "
   ]
  },
  {
   "cell_type": "code",
   "execution_count": 28,
   "id": "9b96e238",
   "metadata": {
    "execution": {
     "iopub.execute_input": "2022-03-28T00:35:16.570706Z",
     "iopub.status.busy": "2022-03-28T00:35:16.570204Z",
     "iopub.status.idle": "2022-03-28T00:35:16.582279Z",
     "shell.execute_reply": "2022-03-28T00:35:16.582679Z"
    },
    "papermill": {
     "duration": 0.062255,
     "end_time": "2022-03-28T00:35:16.582823",
     "exception": false,
     "start_time": "2022-03-28T00:35:16.520568",
     "status": "completed"
    },
    "tags": []
   },
   "outputs": [],
   "source": [
    "#creating the x and y ranges according to the above generated plot.\n",
    "x_range = np.linspace(-4, 1, 100) \n",
    "y_range = np.linspace(-6, 6, 100) \n",
    "x_grid, y_grid = np.meshgrid(x_range, y_range) # x_grid and y_grig are of size 100 X 100\n",
    "\n",
    "# converting x_grid and y_grid to continuous arrays\n",
    "x_gridflat = np.ravel(x_grid)\n",
    "y_gridflat = np.ravel(y_grid)\n",
    "\n",
    "# The last layer of the current model takes two columns as input. Hence transpose of np.vstack() is required.\n",
    "X = np.vstack((x_gridflat, y_gridflat)).T\n",
    "\n",
    "prob_contour = model_prob(X).reshape(100,100) "
   ]
  },
  {
   "cell_type": "code",
   "execution_count": 29,
   "id": "da72499a",
   "metadata": {
    "execution": {
     "iopub.execute_input": "2022-03-28T00:35:16.677851Z",
     "iopub.status.busy": "2022-03-28T00:35:16.677370Z",
     "iopub.status.idle": "2022-03-28T00:35:16.915837Z",
     "shell.execute_reply": "2022-03-28T00:35:16.915048Z"
    },
    "papermill": {
     "duration": 0.287281,
     "end_time": "2022-03-28T00:35:16.915954",
     "exception": false,
     "start_time": "2022-03-28T00:35:16.628673",
     "status": "completed"
    },
    "tags": []
   },
   "outputs": [
    {
     "data": {
      "image/png": "[encoded data removed]",
      "text/plain": [
       "<Figure size 720x648 with 1 Axes>"
      ]
     },
     "metadata": {
      "needs_background": "light"
     },
     "output_type": "display_data"
    }
   ],
   "source": [
    "plt.figure(figsize=(10,9))\n",
    "plt.scatter(testing_plot[:,0], testing_plot[:,1], alpha = 0.1, c = y_test.ravel())\n",
    "contours = plt.contour(x_grid,y_grid,prob_contour)\n",
    "plt.title('Probability Contours')\n",
    "plt.clabel(contours, inline = True );"
   ]
  },
  {
   "cell_type": "code",
   "execution_count": null,
   "id": "e81b4ac7",
   "metadata": {
    "papermill": {
     "duration": 0.047992,
     "end_time": "2022-03-28T00:35:17.012753",
     "exception": false,
     "start_time": "2022-03-28T00:35:16.964761",
     "status": "completed"
    },
    "tags": []
   },
   "outputs": [],
   "source": []
  }
 ],
 "metadata": {
  "kernelspec": {
   "display_name": "Python 3",
   "language": "python",
   "name": "python3"
  },
  "language_info": {
   "codemirror_mode": {
    "name": "ipython",
    "version": 3
   },
   "file_extension": ".py",
   "mimetype": "text/x-python",
   "name": "python",
   "nbconvert_exporter": "python",
   "pygments_lexer": "ipython3",
   "version": "3.6.15"
  },
  "papermill": {
   "default_parameters": {},
   "duration": 196.772452,
   "end_time": "2022-03-28T00:35:17.379200",
   "environment_variables": {},
   "exception": null,
   "input_path": "2020-08-11-part2.ipynb",
   "output_path": "2020-08-11-part2.ipynb",
   "parameters": {},
   "start_time": "2022-03-28T00:32:00.606748",
   "version": "2.3.3"
  }
 },
 "nbformat": 4,
 "nbformat_minor": 5
}