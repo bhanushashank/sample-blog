{
 "cells": [
  {
   "cell_type": "markdown",
   "id": "98380cd3",
   "metadata": {
    "papermill": {
     "duration": 0.038181,
     "end_time": "2022-02-15T10:08:12.468562",
     "exception": false,
     "start_time": "2022-02-15T10:08:12.430381",
     "status": "completed"
    },
    "tags": []
   },
   "source": [
    "# Distinguish Your Own Digits (DYOD)"
   ]
  },
  {
   "cell_type": "markdown",
   "id": "ef31240d",
   "metadata": {
    "papermill": {
     "duration": 0.033132,
     "end_time": "2022-02-15T10:08:12.534888",
     "exception": false,
     "start_time": "2022-02-15T10:08:12.501756",
     "status": "completed"
    },
    "tags": []
   },
   "source": [
    "You are going to write a classifier that distinguishes between the number 3 and number 8."
   ]
  },
  {
   "cell_type": "code",
   "execution_count": 1,
   "id": "b15c8646",
   "metadata": {
    "execution": {
     "iopub.execute_input": "2022-02-15T10:08:12.611245Z",
     "iopub.status.busy": "2022-02-15T10:08:12.610445Z",
     "iopub.status.idle": "2022-02-15T10:08:12.623781Z",
     "shell.execute_reply": "2022-02-15T10:08:12.624371Z"
    },
    "papermill": {
     "duration": 0.057714,
     "end_time": "2022-02-15T10:08:12.624575",
     "exception": false,
     "start_time": "2022-02-15T10:08:12.566861",
     "status": "completed"
    },
    "tags": []
   },
   "outputs": [],
   "source": [
    "%load_ext autoreload\n",
    "%autoreload 2"
   ]
  },
  {
   "cell_type": "code",
   "execution_count": 2,
   "id": "22ef38dc",
   "metadata": {
    "execution": {
     "iopub.execute_input": "2022-02-15T10:08:12.692397Z",
     "iopub.status.busy": "2022-02-15T10:08:12.691700Z",
     "iopub.status.idle": "2022-02-15T10:08:13.471593Z",
     "shell.execute_reply": "2022-02-15T10:08:13.470988Z"
    },
    "papermill": {
     "duration": 0.815536,
     "end_time": "2022-02-15T10:08:13.471758",
     "exception": false,
     "start_time": "2022-02-15T10:08:12.656222",
     "status": "completed"
    },
    "tags": []
   },
   "outputs": [],
   "source": [
    "%matplotlib inline\n",
    "import numpy as np\n",
    "import matplotlib.pyplot as plt\n",
    "import pandas as pd"
   ]
  },
  {
   "cell_type": "markdown",
   "id": "ba036198",
   "metadata": {
    "papermill": {
     "duration": 0.032899,
     "end_time": "2022-02-15T10:08:13.538075",
     "exception": false,
     "start_time": "2022-02-15T10:08:13.505176",
     "status": "completed"
    },
    "tags": []
   },
   "source": [
    "From the command line run `pip install mnist`. This is a library that will help you bring down the mnist dataset. If you run this from a notebook, you need to put  `!pip install mnist` in a cell by itself."
   ]
  },
  {
   "cell_type": "code",
   "execution_count": 3,
   "id": "bb6ad8a1",
   "metadata": {
    "execution": {
     "iopub.execute_input": "2022-02-15T10:08:13.608883Z",
     "iopub.status.busy": "2022-02-15T10:08:13.608146Z",
     "iopub.status.idle": "2022-02-15T10:08:15.756229Z",
     "shell.execute_reply": "2022-02-15T10:08:15.756771Z"
    },
    "papermill": {
     "duration": 2.186549,
     "end_time": "2022-02-15T10:08:15.756968",
     "exception": false,
     "start_time": "2022-02-15T10:08:13.570419",
     "status": "completed"
    },
    "tags": []
   },
   "outputs": [
    {
     "name": "stdout",
     "output_type": "stream",
     "text": [
      "Collecting mnist\r\n"
     ]
    },
    {
     "name": "stdout",
     "output_type": "stream",
     "text": [
      "  Downloading mnist-0.2.2-py2.py3-none-any.whl (3.5 kB)\r\n",
      "Requirement already satisfied: numpy in /opt/hostedtoolcache/Python/3.6.15/x64/lib/python3.6/site-packages (from mnist) (1.19.5)\r\n"
     ]
    },
    {
     "name": "stdout",
     "output_type": "stream",
     "text": [
      "Installing collected packages: mnist\r\n"
     ]
    },
    {
     "name": "stdout",
     "output_type": "stream",
     "text": [
      "Successfully installed mnist-0.2.2\r\n"
     ]
    }
   ],
   "source": [
    "!pip install mnist"
   ]
  },
  {
   "cell_type": "markdown",
   "id": "69df9c9a",
   "metadata": {
    "papermill": {
     "duration": 0.033959,
     "end_time": "2022-02-15T10:08:15.824794",
     "exception": false,
     "start_time": "2022-02-15T10:08:15.790835",
     "status": "completed"
    },
    "tags": []
   },
   "source": [
    "## Preparing the Data"
   ]
  },
  {
   "cell_type": "code",
   "execution_count": 4,
   "id": "7f69d806",
   "metadata": {
    "execution": {
     "iopub.execute_input": "2022-02-15T10:08:15.901070Z",
     "iopub.status.busy": "2022-02-15T10:08:15.896175Z",
     "iopub.status.idle": "2022-02-15T10:08:15.915661Z",
     "shell.execute_reply": "2022-02-15T10:08:15.915041Z"
    },
    "papermill": {
     "duration": 0.057807,
     "end_time": "2022-02-15T10:08:15.915812",
     "exception": false,
     "start_time": "2022-02-15T10:08:15.858005",
     "status": "completed"
    },
    "tags": []
   },
   "outputs": [],
   "source": [
    "import mnist"
   ]
  },
  {
   "cell_type": "code",
   "execution_count": 5,
   "id": "a411e44f",
   "metadata": {
    "execution": {
     "iopub.execute_input": "2022-02-15T10:08:15.988204Z",
     "iopub.status.busy": "2022-02-15T10:08:15.987351Z",
     "iopub.status.idle": "2022-02-15T10:08:16.592903Z",
     "shell.execute_reply": "2022-02-15T10:08:16.592280Z"
    },
    "papermill": {
     "duration": 0.642949,
     "end_time": "2022-02-15T10:08:16.593055",
     "exception": false,
     "start_time": "2022-02-15T10:08:15.950106",
     "status": "completed"
    },
    "tags": []
   },
   "outputs": [],
   "source": [
    "train_images = mnist.train_images()\n",
    "train_labels = mnist.train_labels()"
   ]
  },
  {
   "cell_type": "code",
   "execution_count": 6,
   "id": "dceab3a5",
   "metadata": {
    "execution": {
     "iopub.execute_input": "2022-02-15T10:08:16.665061Z",
     "iopub.status.busy": "2022-02-15T10:08:16.664364Z",
     "iopub.status.idle": "2022-02-15T10:08:16.681228Z",
     "shell.execute_reply": "2022-02-15T10:08:16.681785Z"
    },
    "papermill": {
     "duration": 0.055509,
     "end_time": "2022-02-15T10:08:16.681957",
     "exception": false,
     "start_time": "2022-02-15T10:08:16.626448",
     "status": "completed"
    },
    "tags": []
   },
   "outputs": [
    {
     "data": {
      "text/plain": [
       "((60000, 28, 28), (60000,))"
      ]
     },
     "execution_count": 6,
     "metadata": {},
     "output_type": "execute_result"
    }
   ],
   "source": [
    "train_images.shape, train_labels.shape"
   ]
  },
  {
   "cell_type": "code",
   "execution_count": 7,
   "id": "f50dc2bb",
   "metadata": {
    "execution": {
     "iopub.execute_input": "2022-02-15T10:08:16.756379Z",
     "iopub.status.busy": "2022-02-15T10:08:16.755696Z",
     "iopub.status.idle": "2022-02-15T10:08:16.918714Z",
     "shell.execute_reply": "2022-02-15T10:08:16.918037Z"
    },
    "papermill": {
     "duration": 0.202915,
     "end_time": "2022-02-15T10:08:16.918974",
     "exception": false,
     "start_time": "2022-02-15T10:08:16.716059",
     "status": "completed"
    },
    "tags": []
   },
   "outputs": [],
   "source": [
    "test_images = mnist.test_images()\n",
    "test_labels = mnist.test_labels()"
   ]
  },
  {
   "cell_type": "code",
   "execution_count": 8,
   "id": "fc38cf1b",
   "metadata": {
    "execution": {
     "iopub.execute_input": "2022-02-15T10:08:16.992914Z",
     "iopub.status.busy": "2022-02-15T10:08:16.992235Z",
     "iopub.status.idle": "2022-02-15T10:08:17.007812Z",
     "shell.execute_reply": "2022-02-15T10:08:17.008470Z"
    },
    "papermill": {
     "duration": 0.05479,
     "end_time": "2022-02-15T10:08:17.008642",
     "exception": false,
     "start_time": "2022-02-15T10:08:16.953852",
     "status": "completed"
    },
    "tags": []
   },
   "outputs": [
    {
     "data": {
      "text/plain": [
       "((10000, 28, 28), (10000,))"
      ]
     },
     "execution_count": 8,
     "metadata": {},
     "output_type": "execute_result"
    }
   ],
   "source": [
    "test_images.shape, test_labels.shape"
   ]
  },
  {
   "cell_type": "code",
   "execution_count": 9,
   "id": "f9ed8fe0",
   "metadata": {
    "execution": {
     "iopub.execute_input": "2022-02-15T10:08:17.083851Z",
     "iopub.status.busy": "2022-02-15T10:08:17.083154Z",
     "iopub.status.idle": "2022-02-15T10:08:17.278671Z",
     "shell.execute_reply": "2022-02-15T10:08:17.278085Z"
    },
    "papermill": {
     "duration": 0.236395,
     "end_time": "2022-02-15T10:08:17.278871",
     "exception": false,
     "start_time": "2022-02-15T10:08:17.042476",
     "status": "completed"
    },
    "tags": []
   },
   "outputs": [
    {
     "name": "stdout",
     "output_type": "stream",
     "text": [
      "2\n"
     ]
    },
    {
     "data": {
      "text/plain": [
       "<matplotlib.image.AxesImage at 0x7f143158c518>"
      ]
     },
     "execution_count": 9,
     "metadata": {},
     "output_type": "execute_result"
    },
    {
     "data": {
      "image/png": "[encoded data removed]",
      "text/plain": [
       "<Figure size 432x288 with 1 Axes>"
      ]
     },
     "metadata": {
      "needs_background": "light"
     },
     "output_type": "display_data"
    }
   ],
   "source": [
    "image_index = 7776 # You may select anything up to 60,000\n",
    "print(train_labels[image_index]) \n",
    "plt.imshow(train_images[image_index], cmap='Greys')"
   ]
  },
  {
   "cell_type": "markdown",
   "id": "a8d2388d",
   "metadata": {
    "papermill": {
     "duration": 0.035306,
     "end_time": "2022-02-15T10:08:17.350441",
     "exception": false,
     "start_time": "2022-02-15T10:08:17.315135",
     "status": "completed"
    },
    "tags": []
   },
   "source": [
    "## Filter data to get 3 and 8 out"
   ]
  },
  {
   "cell_type": "code",
   "execution_count": 10,
   "id": "776f7fc7",
   "metadata": {
    "execution": {
     "iopub.execute_input": "2022-02-15T10:08:17.428188Z",
     "iopub.status.busy": "2022-02-15T10:08:17.427454Z",
     "iopub.status.idle": "2022-02-15T10:08:17.452497Z",
     "shell.execute_reply": "2022-02-15T10:08:17.451825Z"
    },
    "papermill": {
     "duration": 0.066783,
     "end_time": "2022-02-15T10:08:17.452667",
     "exception": false,
     "start_time": "2022-02-15T10:08:17.385884",
     "status": "completed"
    },
    "tags": []
   },
   "outputs": [],
   "source": [
    "train_filter = np.where((train_labels == 3 ) | (train_labels == 8))\n",
    "test_filter = np.where((test_labels == 3) | (test_labels == 8))\n",
    "X_train, y_train = train_images[train_filter], train_labels[train_filter]\n",
    "X_test, y_test = test_images[test_filter], test_labels[test_filter]"
   ]
  },
  {
   "cell_type": "markdown",
   "id": "948f0b7e",
   "metadata": {
    "papermill": {
     "duration": 0.035918,
     "end_time": "2022-02-15T10:08:17.524815",
     "exception": false,
     "start_time": "2022-02-15T10:08:17.488897",
     "status": "completed"
    },
    "tags": []
   },
   "source": [
    "We normalize the pizel values in the 0 to 1 range"
   ]
  },
  {
   "cell_type": "code",
   "execution_count": 11,
   "id": "ee4c2166",
   "metadata": {
    "execution": {
     "iopub.execute_input": "2022-02-15T10:08:17.602176Z",
     "iopub.status.busy": "2022-02-15T10:08:17.600855Z",
     "iopub.status.idle": "2022-02-15T10:08:17.669535Z",
     "shell.execute_reply": "2022-02-15T10:08:17.670222Z"
    },
    "papermill": {
     "duration": 0.109721,
     "end_time": "2022-02-15T10:08:17.670422",
     "exception": false,
     "start_time": "2022-02-15T10:08:17.560701",
     "status": "completed"
    },
    "tags": []
   },
   "outputs": [],
   "source": [
    "X_train = X_train/255.\n",
    "X_test = X_test/255."
   ]
  },
  {
   "cell_type": "markdown",
   "id": "ddcf4fab",
   "metadata": {
    "papermill": {
     "duration": 0.035917,
     "end_time": "2022-02-15T10:08:17.743479",
     "exception": false,
     "start_time": "2022-02-15T10:08:17.707562",
     "status": "completed"
    },
    "tags": []
   },
   "source": [
    "And setup the labels as 1 (when the digit is 3) and 0 (when the digit is 8)"
   ]
  },
  {
   "cell_type": "code",
   "execution_count": 12,
   "id": "7dc908f2",
   "metadata": {
    "execution": {
     "iopub.execute_input": "2022-02-15T10:08:17.820770Z",
     "iopub.status.busy": "2022-02-15T10:08:17.820061Z",
     "iopub.status.idle": "2022-02-15T10:08:17.834555Z",
     "shell.execute_reply": "2022-02-15T10:08:17.833904Z"
    },
    "papermill": {
     "duration": 0.056059,
     "end_time": "2022-02-15T10:08:17.834705",
     "exception": false,
     "start_time": "2022-02-15T10:08:17.778646",
     "status": "completed"
    },
    "tags": []
   },
   "outputs": [],
   "source": [
    "y_train = 1*(y_train==3)\n",
    "y_test = 1*(y_test==3)"
   ]
  },
  {
   "cell_type": "code",
   "execution_count": 13,
   "id": "01e4e969",
   "metadata": {
    "execution": {
     "iopub.execute_input": "2022-02-15T10:08:17.910958Z",
     "iopub.status.busy": "2022-02-15T10:08:17.910237Z",
     "iopub.status.idle": "2022-02-15T10:08:17.926334Z",
     "shell.execute_reply": "2022-02-15T10:08:17.927321Z"
    },
    "papermill": {
     "duration": 0.057451,
     "end_time": "2022-02-15T10:08:17.927497",
     "exception": false,
     "start_time": "2022-02-15T10:08:17.870046",
     "status": "completed"
    },
    "tags": []
   },
   "outputs": [
    {
     "data": {
      "text/plain": [
       "((11982, 28, 28), (1984, 28, 28))"
      ]
     },
     "execution_count": 13,
     "metadata": {},
     "output_type": "execute_result"
    }
   ],
   "source": [
    "X_train.shape, X_test.shape"
   ]
  },
  {
   "cell_type": "markdown",
   "id": "5ccf3f85",
   "metadata": {
    "papermill": {
     "duration": 0.035769,
     "end_time": "2022-02-15T10:08:17.999254",
     "exception": false,
     "start_time": "2022-02-15T10:08:17.963485",
     "status": "completed"
    },
    "tags": []
   },
   "source": [
    "We reshape the data to flatten the image pixels into a set of features or co-variates:"
   ]
  },
  {
   "cell_type": "code",
   "execution_count": 14,
   "id": "5286a4a3",
   "metadata": {
    "execution": {
     "iopub.execute_input": "2022-02-15T10:08:18.076244Z",
     "iopub.status.busy": "2022-02-15T10:08:18.075559Z",
     "iopub.status.idle": "2022-02-15T10:08:18.092007Z",
     "shell.execute_reply": "2022-02-15T10:08:18.091445Z"
    },
    "papermill": {
     "duration": 0.056538,
     "end_time": "2022-02-15T10:08:18.092156",
     "exception": false,
     "start_time": "2022-02-15T10:08:18.035618",
     "status": "completed"
    },
    "tags": []
   },
   "outputs": [
    {
     "data": {
      "text/plain": [
       "((11982, 784), (1984, 784))"
      ]
     },
     "execution_count": 14,
     "metadata": {},
     "output_type": "execute_result"
    }
   ],
   "source": [
    "X_train = X_train.reshape(X_train.shape[0], -1)\n",
    "X_test = X_test.reshape(X_test.shape[0], -1)\n",
    "X_train.shape, X_test.shape"
   ]
  },
  {
   "cell_type": "code",
   "execution_count": 15,
   "id": "73c5f88a",
   "metadata": {
    "execution": {
     "iopub.execute_input": "2022-02-15T10:08:18.171120Z",
     "iopub.status.busy": "2022-02-15T10:08:18.170377Z",
     "iopub.status.idle": "2022-02-15T10:08:18.192549Z",
     "shell.execute_reply": "2022-02-15T10:08:18.196276Z"
    },
    "papermill": {
     "duration": 0.068209,
     "end_time": "2022-02-15T10:08:18.196481",
     "exception": false,
     "start_time": "2022-02-15T10:08:18.128272",
     "status": "completed"
    },
    "tags": []
   },
   "outputs": [],
   "source": [
    "#Impoting functions from 'Kudzu'\n",
    "from kudzu.model import Model\n",
    "from kudzu.train import Learner\n",
    "from kudzu.optim import GD\n",
    "from kudzu.data import Data, Sampler,Dataloader\n",
    "\n",
    "from kudzu.callbacks import AccCallback\n",
    "from kudzu.callbacks import ClfCallback\n",
    "\n",
    "from kudzu.loss import MSE\n",
    "\n",
    "from kudzu.layer import Sigmoid,Relu\n",
    "from kudzu.layer import Affine"
   ]
  },
  {
   "cell_type": "markdown",
   "id": "bc01172a",
   "metadata": {
    "papermill": {
     "duration": 0.035847,
     "end_time": "2022-02-15T10:08:18.269559",
     "exception": false,
     "start_time": "2022-02-15T10:08:18.233712",
     "status": "completed"
    },
    "tags": []
   },
   "source": [
    "### Let us create a `Config` class, to store important parameters. \n",
    "This class essentially plays the role of a dictionary."
   ]
  },
  {
   "cell_type": "code",
   "execution_count": 16,
   "id": "978281aa",
   "metadata": {
    "execution": {
     "iopub.execute_input": "2022-02-15T10:08:18.348402Z",
     "iopub.status.busy": "2022-02-15T10:08:18.347699Z",
     "iopub.status.idle": "2022-02-15T10:08:18.363380Z",
     "shell.execute_reply": "2022-02-15T10:08:18.362732Z"
    },
    "papermill": {
     "duration": 0.057188,
     "end_time": "2022-02-15T10:08:18.363544",
     "exception": false,
     "start_time": "2022-02-15T10:08:18.306356",
     "status": "completed"
    },
    "tags": []
   },
   "outputs": [],
   "source": [
    "class Config:\n",
    "    pass\n",
    "config = Config()\n",
    "config.lr = 0.001\n",
    "config.num_epochs = 250\n",
    "config.bs = 50"
   ]
  },
  {
   "cell_type": "markdown",
   "id": "1385fa59",
   "metadata": {
    "papermill": {
     "duration": 0.037359,
     "end_time": "2022-02-15T10:08:18.438170",
     "exception": false,
     "start_time": "2022-02-15T10:08:18.400811",
     "status": "completed"
    },
    "tags": []
   },
   "source": [
    "### Running Models with the Training data\n",
    "Details about the network layers:\n",
    "- A first affine layer has 784 inputs and does 100 affine transforms. These are followed by a Relu\n",
    "- A second affine layer has 100 inputs from the 100 activations of the past layer, and does 100 affine transforms. These are followed by a Relu\n",
    "- A third affine layer has 100 activations and does 2 affine transformations to create an embedding for visualization. There is no non-linearity here.\n",
    "- A final \"logistic regression\" which has an affine transform from 2 inputs to 1 output, which is squeezed through a sigmoid.\n"
   ]
  },
  {
   "cell_type": "code",
   "execution_count": 17,
   "id": "2b9c66db",
   "metadata": {
    "execution": {
     "iopub.execute_input": "2022-02-15T10:08:18.516813Z",
     "iopub.status.busy": "2022-02-15T10:08:18.516126Z",
     "iopub.status.idle": "2022-02-15T10:08:18.531515Z",
     "shell.execute_reply": "2022-02-15T10:08:18.530819Z"
    },
    "papermill": {
     "duration": 0.055967,
     "end_time": "2022-02-15T10:08:18.531683",
     "exception": false,
     "start_time": "2022-02-15T10:08:18.475716",
     "status": "completed"
    },
    "tags": []
   },
   "outputs": [],
   "source": [
    "data = Data(X_train, y_train.reshape(-1,1))\n",
    "sampler = Sampler(data, config.bs, shuffle=True)\n",
    "\n",
    "dl = Dataloader(data, sampler)\n",
    "\n",
    "opt = GD(config.lr)\n",
    "loss = MSE()"
   ]
  },
  {
   "cell_type": "code",
   "execution_count": 18,
   "id": "b275e4c2",
   "metadata": {
    "execution": {
     "iopub.execute_input": "2022-02-15T10:08:18.609381Z",
     "iopub.status.busy": "2022-02-15T10:08:18.608672Z",
     "iopub.status.idle": "2022-02-15T10:08:18.623395Z",
     "shell.execute_reply": "2022-02-15T10:08:18.622739Z"
    },
    "papermill": {
     "duration": 0.055525,
     "end_time": "2022-02-15T10:08:18.623552",
     "exception": false,
     "start_time": "2022-02-15T10:08:18.568027",
     "status": "completed"
    },
    "tags": []
   },
   "outputs": [],
   "source": [
    "training_data_x = X_train\n",
    "testing_data_x = X_test\n",
    "training_data_y = y_train.reshape(-1,1)\n",
    "testing_data_y = y_test.reshape(-1,1)"
   ]
  },
  {
   "cell_type": "code",
   "execution_count": 19,
   "id": "76951160",
   "metadata": {
    "execution": {
     "iopub.execute_input": "2022-02-15T10:08:18.702219Z",
     "iopub.status.busy": "2022-02-15T10:08:18.701495Z",
     "iopub.status.idle": "2022-02-15T10:08:18.720790Z",
     "shell.execute_reply": "2022-02-15T10:08:18.721322Z"
    },
    "papermill": {
     "duration": 0.061471,
     "end_time": "2022-02-15T10:08:18.721498",
     "exception": false,
     "start_time": "2022-02-15T10:08:18.660027",
     "status": "completed"
    },
    "tags": []
   },
   "outputs": [
    {
     "name": "stdout",
     "output_type": "stream",
     "text": [
      "xavier\n",
      "xavier\n",
      "xavier\n",
      "xavier\n",
      "xavier\n"
     ]
    }
   ],
   "source": [
    "layers = [Affine(\"first\", 784, 100), Relu(\"first\"), Affine(\"second\", 100, 100), Relu(\"second\"), Affine(\"third\", 100, 2), Affine(\"last\", 2, 1), Sigmoid(\"last\")]\n",
    "model_nn = Model(layers)\n",
    "model_lr = Model([Affine(\"logits\", 784, 1), Sigmoid(\"sigmoid\")])"
   ]
  },
  {
   "cell_type": "code",
   "execution_count": 20,
   "id": "6eede77a",
   "metadata": {
    "execution": {
     "iopub.execute_input": "2022-02-15T10:08:18.800208Z",
     "iopub.status.busy": "2022-02-15T10:08:18.799493Z",
     "iopub.status.idle": "2022-02-15T10:08:18.814582Z",
     "shell.execute_reply": "2022-02-15T10:08:18.813940Z"
    },
    "papermill": {
     "duration": 0.056209,
     "end_time": "2022-02-15T10:08:18.814793",
     "exception": false,
     "start_time": "2022-02-15T10:08:18.758584",
     "status": "completed"
    },
    "tags": []
   },
   "outputs": [],
   "source": [
    "nn_learner = Learner(loss, model_nn, opt, config.num_epochs)\n",
    "acc_nn = ClfCallback(nn_learner, config.bs, training_data_x , testing_data_x, training_data_y, testing_data_y)\n",
    "nn_learner.set_callbacks([acc_nn])"
   ]
  },
  {
   "cell_type": "code",
   "execution_count": 21,
   "id": "877b6cc7",
   "metadata": {
    "execution": {
     "iopub.execute_input": "2022-02-15T10:08:18.892814Z",
     "iopub.status.busy": "2022-02-15T10:08:18.892085Z",
     "iopub.status.idle": "2022-02-15T10:08:18.908853Z",
     "shell.execute_reply": "2022-02-15T10:08:18.909393Z"
    },
    "papermill": {
     "duration": 0.056895,
     "end_time": "2022-02-15T10:08:18.909585",
     "exception": false,
     "start_time": "2022-02-15T10:08:18.852690",
     "status": "completed"
    },
    "tags": []
   },
   "outputs": [],
   "source": [
    "lr_learner = Learner(loss, model_lr, opt, config.num_epochs)\n",
    "acc_lr = ClfCallback(lr_learner, config.bs, training_data_x , testing_data_x, training_data_y, testing_data_y)\n",
    "lr_learner.set_callbacks([acc_lr])"
   ]
  },
  {
   "cell_type": "code",
   "execution_count": 22,
   "id": "d9b133c3",
   "metadata": {
    "execution": {
     "iopub.execute_input": "2022-02-15T10:08:18.988686Z",
     "iopub.status.busy": "2022-02-15T10:08:18.987978Z",
     "iopub.status.idle": "2022-02-15T10:10:42.751617Z",
     "shell.execute_reply": "2022-02-15T10:10:42.753082Z"
    },
    "papermill": {
     "duration": 143.806125,
     "end_time": "2022-02-15T10:10:42.753267",
     "exception": false,
     "start_time": "2022-02-15T10:08:18.947142",
     "status": "completed"
    },
    "tags": []
   },
   "outputs": [
    {
     "name": "stdout",
     "output_type": "stream",
     "text": [
      "Epoch 0, Loss 0.2508\n",
      "Training Accuracy: 0.5630, Testing Accuracy: 0.5645\n",
      "\n"
     ]
    },
    {
     "name": "stdout",
     "output_type": "stream",
     "text": [
      "Epoch 10, Loss 0.1557\n",
      "Training Accuracy: 0.8898, Testing Accuracy: 0.8992\n",
      "\n"
     ]
    },
    {
     "name": "stdout",
     "output_type": "stream",
     "text": [
      "Epoch 20, Loss 0.0787\n",
      "Training Accuracy: 0.9239, Testing Accuracy: 0.9315\n",
      "\n"
     ]
    },
    {
     "name": "stdout",
     "output_type": "stream",
     "text": [
      "Epoch 30, Loss 0.0543\n",
      "Training Accuracy: 0.9445, Testing Accuracy: 0.9541\n",
      "\n"
     ]
    },
    {
     "name": "stdout",
     "output_type": "stream",
     "text": [
      "Epoch 40, Loss 0.0441\n",
      "Training Accuracy: 0.9518, Testing Accuracy: 0.9592\n",
      "\n"
     ]
    },
    {
     "name": "stdout",
     "output_type": "stream",
     "text": [
      "Epoch 50, Loss 0.0385\n",
      "Training Accuracy: 0.9570, Testing Accuracy: 0.9642\n",
      "\n"
     ]
    },
    {
     "name": "stdout",
     "output_type": "stream",
     "text": [
      "Epoch 60, Loss 0.035\n",
      "Training Accuracy: 0.9601, Testing Accuracy: 0.9698\n",
      "\n"
     ]
    },
    {
     "name": "stdout",
     "output_type": "stream",
     "text": [
      "Epoch 70, Loss 0.0325\n",
      "Training Accuracy: 0.9618, Testing Accuracy: 0.9693\n",
      "\n"
     ]
    },
    {
     "name": "stdout",
     "output_type": "stream",
     "text": [
      "Epoch 80, Loss 0.0306\n",
      "Training Accuracy: 0.9649, Testing Accuracy: 0.9693\n",
      "\n"
     ]
    },
    {
     "name": "stdout",
     "output_type": "stream",
     "text": [
      "Epoch 90, Loss 0.0291\n",
      "Training Accuracy: 0.9668, Testing Accuracy: 0.9693\n",
      "\n"
     ]
    },
    {
     "name": "stdout",
     "output_type": "stream",
     "text": [
      "Epoch 100, Loss 0.0278\n",
      "Training Accuracy: 0.9676, Testing Accuracy: 0.9693\n",
      "\n"
     ]
    },
    {
     "name": "stdout",
     "output_type": "stream",
     "text": [
      "Epoch 110, Loss 0.0267\n",
      "Training Accuracy: 0.9689, Testing Accuracy: 0.9693\n",
      "\n"
     ]
    },
    {
     "name": "stdout",
     "output_type": "stream",
     "text": [
      "Epoch 120, Loss 0.0257\n",
      "Training Accuracy: 0.9698, Testing Accuracy: 0.9698\n",
      "\n"
     ]
    },
    {
     "name": "stdout",
     "output_type": "stream",
     "text": [
      "Epoch 130, Loss 0.0249\n",
      "Training Accuracy: 0.9716, Testing Accuracy: 0.9698\n",
      "\n"
     ]
    },
    {
     "name": "stdout",
     "output_type": "stream",
     "text": [
      "Epoch 140, Loss 0.0241\n",
      "Training Accuracy: 0.9725, Testing Accuracy: 0.9698\n",
      "\n"
     ]
    },
    {
     "name": "stdout",
     "output_type": "stream",
     "text": [
      "Epoch 150, Loss 0.0234\n",
      "Training Accuracy: 0.9733, Testing Accuracy: 0.9708\n",
      "\n"
     ]
    },
    {
     "name": "stdout",
     "output_type": "stream",
     "text": [
      "Epoch 160, Loss 0.0228\n",
      "Training Accuracy: 0.9743, Testing Accuracy: 0.9708\n",
      "\n"
     ]
    },
    {
     "name": "stdout",
     "output_type": "stream",
     "text": [
      "Epoch 170, Loss 0.0222\n",
      "Training Accuracy: 0.9750, Testing Accuracy: 0.9708\n",
      "\n"
     ]
    },
    {
     "name": "stdout",
     "output_type": "stream",
     "text": [
      "Epoch 180, Loss 0.0217\n",
      "Training Accuracy: 0.9752, Testing Accuracy: 0.9718\n",
      "\n"
     ]
    },
    {
     "name": "stdout",
     "output_type": "stream",
     "text": [
      "Epoch 190, Loss 0.0212\n",
      "Training Accuracy: 0.9758, Testing Accuracy: 0.9713\n",
      "\n"
     ]
    },
    {
     "name": "stdout",
     "output_type": "stream",
     "text": [
      "Epoch 200, Loss 0.0207\n",
      "Training Accuracy: 0.9762, Testing Accuracy: 0.9723\n",
      "\n"
     ]
    },
    {
     "name": "stdout",
     "output_type": "stream",
     "text": [
      "Epoch 210, Loss 0.0203\n",
      "Training Accuracy: 0.9770, Testing Accuracy: 0.9733\n",
      "\n"
     ]
    },
    {
     "name": "stdout",
     "output_type": "stream",
     "text": [
      "Epoch 220, Loss 0.0198\n",
      "Training Accuracy: 0.9777, Testing Accuracy: 0.9733\n",
      "\n"
     ]
    },
    {
     "name": "stdout",
     "output_type": "stream",
     "text": [
      "Epoch 230, Loss 0.0194\n",
      "Training Accuracy: 0.9781, Testing Accuracy: 0.9733\n",
      "\n"
     ]
    },
    {
     "name": "stdout",
     "output_type": "stream",
     "text": [
      "Epoch 240, Loss 0.019\n",
      "Training Accuracy: 0.9784, Testing Accuracy: 0.9733\n",
      "\n"
     ]
    },
    {
     "data": {
      "text/plain": [
       "0.048702682392464995"
      ]
     },
     "execution_count": 22,
     "metadata": {},
     "output_type": "execute_result"
    }
   ],
   "source": [
    "nn_learner.train_loop(dl)"
   ]
  },
  {
   "cell_type": "code",
   "execution_count": 23,
   "id": "e0163366",
   "metadata": {
    "execution": {
     "iopub.execute_input": "2022-02-15T10:10:42.860743Z",
     "iopub.status.busy": "2022-02-15T10:10:42.860038Z",
     "iopub.status.idle": "2022-02-15T10:11:03.499271Z",
     "shell.execute_reply": "2022-02-15T10:11:03.500182Z"
    },
    "papermill": {
     "duration": 20.699308,
     "end_time": "2022-02-15T10:11:03.500355",
     "exception": false,
     "start_time": "2022-02-15T10:10:42.801047",
     "status": "completed"
    },
    "tags": []
   },
   "outputs": [
    {
     "name": "stdout",
     "output_type": "stream",
     "text": [
      "Epoch 0, Loss 0.2313\n",
      "Training Accuracy: 0.7091, Testing Accuracy: 0.7026\n",
      "\n"
     ]
    },
    {
     "name": "stdout",
     "output_type": "stream",
     "text": [
      "Epoch 10, Loss 0.1035\n",
      "Training Accuracy: 0.9085, Testing Accuracy: 0.9173\n",
      "\n"
     ]
    },
    {
     "name": "stdout",
     "output_type": "stream",
     "text": [
      "Epoch 20, Loss 0.0794\n",
      "Training Accuracy: 0.9281, Testing Accuracy: 0.9420\n",
      "\n"
     ]
    },
    {
     "name": "stdout",
     "output_type": "stream",
     "text": [
      "Epoch 30, Loss 0.0683\n",
      "Training Accuracy: 0.9371, Testing Accuracy: 0.9511\n",
      "\n"
     ]
    },
    {
     "name": "stdout",
     "output_type": "stream",
     "text": [
      "Epoch 40, Loss 0.0617\n",
      "Training Accuracy: 0.9412, Testing Accuracy: 0.9531\n",
      "\n"
     ]
    },
    {
     "name": "stdout",
     "output_type": "stream",
     "text": [
      "Epoch 50, Loss 0.0572\n",
      "Training Accuracy: 0.9444, Testing Accuracy: 0.9572\n",
      "\n"
     ]
    },
    {
     "name": "stdout",
     "output_type": "stream",
     "text": [
      "Epoch 60, Loss 0.0539\n",
      "Training Accuracy: 0.9473, Testing Accuracy: 0.9582\n",
      "\n"
     ]
    },
    {
     "name": "stdout",
     "output_type": "stream",
     "text": [
      "Epoch 70, Loss 0.0514\n",
      "Training Accuracy: 0.9496, Testing Accuracy: 0.9607\n",
      "\n"
     ]
    },
    {
     "name": "stdout",
     "output_type": "stream",
     "text": [
      "Epoch 80, Loss 0.0494\n",
      "Training Accuracy: 0.9508, Testing Accuracy: 0.9612\n",
      "\n"
     ]
    },
    {
     "name": "stdout",
     "output_type": "stream",
     "text": [
      "Epoch 90, Loss 0.0477\n",
      "Training Accuracy: 0.9523, Testing Accuracy: 0.9627\n",
      "\n"
     ]
    },
    {
     "name": "stdout",
     "output_type": "stream",
     "text": [
      "Epoch 100, Loss 0.0463\n",
      "Training Accuracy: 0.9540, Testing Accuracy: 0.9642\n",
      "\n"
     ]
    },
    {
     "name": "stdout",
     "output_type": "stream",
     "text": [
      "Epoch 110, Loss 0.045\n",
      "Training Accuracy: 0.9541, Testing Accuracy: 0.9652\n",
      "\n"
     ]
    },
    {
     "name": "stdout",
     "output_type": "stream",
     "text": [
      "Epoch 120, Loss 0.044\n",
      "Training Accuracy: 0.9546, Testing Accuracy: 0.9652\n",
      "\n"
     ]
    },
    {
     "name": "stdout",
     "output_type": "stream",
     "text": [
      "Epoch 130, Loss 0.0431\n",
      "Training Accuracy: 0.9556, Testing Accuracy: 0.9662\n",
      "\n"
     ]
    },
    {
     "name": "stdout",
     "output_type": "stream",
     "text": [
      "Epoch 140, Loss 0.0422\n",
      "Training Accuracy: 0.9564, Testing Accuracy: 0.9657\n",
      "\n"
     ]
    },
    {
     "name": "stdout",
     "output_type": "stream",
     "text": [
      "Epoch 150, Loss 0.0415\n",
      "Training Accuracy: 0.9569, Testing Accuracy: 0.9667\n",
      "\n"
     ]
    },
    {
     "name": "stdout",
     "output_type": "stream",
     "text": [
      "Epoch 160, Loss 0.0408\n",
      "Training Accuracy: 0.9576, Testing Accuracy: 0.9667\n",
      "\n"
     ]
    },
    {
     "name": "stdout",
     "output_type": "stream",
     "text": [
      "Epoch 170, Loss 0.0402\n",
      "Training Accuracy: 0.9579, Testing Accuracy: 0.9672\n",
      "\n"
     ]
    },
    {
     "name": "stdout",
     "output_type": "stream",
     "text": [
      "Epoch 180, Loss 0.0396\n",
      "Training Accuracy: 0.9584, Testing Accuracy: 0.9672\n",
      "\n"
     ]
    },
    {
     "name": "stdout",
     "output_type": "stream",
     "text": [
      "Epoch 190, Loss 0.0391\n",
      "Training Accuracy: 0.9586, Testing Accuracy: 0.9672\n",
      "\n"
     ]
    },
    {
     "name": "stdout",
     "output_type": "stream",
     "text": [
      "Epoch 200, Loss 0.0386\n",
      "Training Accuracy: 0.9590, Testing Accuracy: 0.9682\n",
      "\n"
     ]
    },
    {
     "name": "stdout",
     "output_type": "stream",
     "text": [
      "Epoch 210, Loss 0.0382\n",
      "Training Accuracy: 0.9593, Testing Accuracy: 0.9688\n",
      "\n"
     ]
    },
    {
     "name": "stdout",
     "output_type": "stream",
     "text": [
      "Epoch 220, Loss 0.0378\n",
      "Training Accuracy: 0.9595, Testing Accuracy: 0.9688\n",
      "\n"
     ]
    },
    {
     "name": "stdout",
     "output_type": "stream",
     "text": [
      "Epoch 230, Loss 0.0374\n",
      "Training Accuracy: 0.9599, Testing Accuracy: 0.9688\n",
      "\n"
     ]
    },
    {
     "name": "stdout",
     "output_type": "stream",
     "text": [
      "Epoch 240, Loss 0.037\n",
      "Training Accuracy: 0.9600, Testing Accuracy: 0.9693\n",
      "\n"
     ]
    },
    {
     "data": {
      "text/plain": [
       "0.024158171088069946"
      ]
     },
     "execution_count": 23,
     "metadata": {},
     "output_type": "execute_result"
    }
   ],
   "source": [
    "lr_learner.train_loop(dl)"
   ]
  },
  {
   "cell_type": "code",
   "execution_count": 24,
   "id": "ca410940",
   "metadata": {
    "execution": {
     "iopub.execute_input": "2022-02-15T10:11:03.618147Z",
     "iopub.status.busy": "2022-02-15T10:11:03.617431Z",
     "iopub.status.idle": "2022-02-15T10:11:03.929811Z",
     "shell.execute_reply": "2022-02-15T10:11:03.930356Z"
    },
    "papermill": {
     "duration": 0.373835,
     "end_time": "2022-02-15T10:11:03.930535",
     "exception": false,
     "start_time": "2022-02-15T10:11:03.556700",
     "status": "completed"
    },
    "tags": []
   },
   "outputs": [
    {
     "data": {
      "text/plain": [
       "<matplotlib.legend.Legend at 0x7f1431169c88>"
      ]
     },
     "execution_count": 24,
     "metadata": {},
     "output_type": "execute_result"
    },
    {
     "data": {
      "image/png": "[encoded data removed]",
      "text/plain": [
       "<Figure size 1080x720 with 1 Axes>"
      ]
     },
     "metadata": {
      "needs_background": "light"
     },
     "output_type": "display_data"
    }
   ],
   "source": [
    "#comparing the results of NN and LR\n",
    "plt.figure(figsize=(15,10))\n",
    "\n",
    "# Neural Network plots\n",
    "plt.plot(acc_nn.accuracies, 'r-', label = \"Training Accuracies - NN\")\n",
    "plt.plot(acc_nn.test_accuracies, 'g-', label = \"Testing Accuracies - NN\")\n",
    "\n",
    "# Logistic Regression plots\n",
    "plt.plot(acc_lr.accuracies, 'k-', label = \"Training Accuracies - LR\")\n",
    "plt.plot(acc_lr.test_accuracies, 'b-', label = \"Testing Accuracies - LR\")\n",
    "plt.legend()"
   ]
  },
  {
   "cell_type": "markdown",
   "id": "80dfb35c",
   "metadata": {
    "papermill": {
     "duration": 0.05628,
     "end_time": "2022-02-15T10:11:04.042541",
     "exception": false,
     "start_time": "2022-02-15T10:11:03.986261",
     "status": "completed"
    },
    "tags": []
   },
   "source": [
    "#### Plotting the outputs of this layer of the NN.\n"
   ]
  },
  {
   "cell_type": "code",
   "execution_count": 25,
   "id": "45eb2ff5",
   "metadata": {
    "execution": {
     "iopub.execute_input": "2022-02-15T10:11:04.161054Z",
     "iopub.status.busy": "2022-02-15T10:11:04.160150Z",
     "iopub.status.idle": "2022-02-15T10:11:04.187190Z",
     "shell.execute_reply": "2022-02-15T10:11:04.187804Z"
    },
    "papermill": {
     "duration": 0.089555,
     "end_time": "2022-02-15T10:11:04.187984",
     "exception": false,
     "start_time": "2022-02-15T10:11:04.098429",
     "status": "completed"
    },
    "tags": []
   },
   "outputs": [],
   "source": [
    "new_model = Model(layers[:-2])\n",
    "testing_plot = new_model(testing_data_x)"
   ]
  },
  {
   "cell_type": "code",
   "execution_count": 26,
   "id": "4c0a5485",
   "metadata": {
    "execution": {
     "iopub.execute_input": "2022-02-15T10:11:04.305951Z",
     "iopub.status.busy": "2022-02-15T10:11:04.305203Z",
     "iopub.status.idle": "2022-02-15T10:11:04.573094Z",
     "shell.execute_reply": "2022-02-15T10:11:04.572491Z"
    },
    "papermill": {
     "duration": 0.329346,
     "end_time": "2022-02-15T10:11:04.573245",
     "exception": false,
     "start_time": "2022-02-15T10:11:04.243899",
     "status": "completed"
    },
    "tags": []
   },
   "outputs": [
    {
     "data": {
      "text/plain": [
       "Text(0.5, 1.0, 'Outputs')"
      ]
     },
     "execution_count": 26,
     "metadata": {},
     "output_type": "execute_result"
    },
    {
     "data": {
      "image/png": "[encoded data removed]",
      "text/plain": [
       "<Figure size 576x504 with 1 Axes>"
      ]
     },
     "metadata": {
      "needs_background": "light"
     },
     "output_type": "display_data"
    }
   ],
   "source": [
    "# Plotting the scatter plot of points and color coding by class\n",
    "plt.figure(figsize=(8,7))\n",
    "plt.scatter(testing_plot[:,0], testing_plot[:,1], alpha = 0.1, c = y_test.ravel());\n",
    "plt.title('Outputs')"
   ]
  },
  {
   "cell_type": "markdown",
   "id": "a74fcf8f",
   "metadata": {
    "papermill": {
     "duration": 0.059574,
     "end_time": "2022-02-15T10:11:04.692554",
     "exception": false,
     "start_time": "2022-02-15T10:11:04.632980",
     "status": "completed"
    },
    "tags": []
   },
   "source": [
    "Probability contours"
   ]
  },
  {
   "cell_type": "code",
   "execution_count": 27,
   "id": "d0afc8e3",
   "metadata": {
    "execution": {
     "iopub.execute_input": "2022-02-15T10:11:04.849711Z",
     "iopub.status.busy": "2022-02-15T10:11:04.848985Z",
     "iopub.status.idle": "2022-02-15T10:11:04.861189Z",
     "shell.execute_reply": "2022-02-15T10:11:04.861768Z"
    },
    "papermill": {
     "duration": 0.078497,
     "end_time": "2022-02-15T10:11:04.861947",
     "exception": false,
     "start_time": "2022-02-15T10:11:04.783450",
     "status": "completed"
    },
    "tags": []
   },
   "outputs": [],
   "source": [
    "model_prob = Model(layers[-2:]) "
   ]
  },
  {
   "cell_type": "code",
   "execution_count": 28,
   "id": "9b96e238",
   "metadata": {
    "execution": {
     "iopub.execute_input": "2022-02-15T10:11:04.987677Z",
     "iopub.status.busy": "2022-02-15T10:11:04.986948Z",
     "iopub.status.idle": "2022-02-15T10:11:05.004337Z",
     "shell.execute_reply": "2022-02-15T10:11:05.003739Z"
    },
    "papermill": {
     "duration": 0.08277,
     "end_time": "2022-02-15T10:11:05.004491",
     "exception": false,
     "start_time": "2022-02-15T10:11:04.921721",
     "status": "completed"
    },
    "tags": []
   },
   "outputs": [],
   "source": [
    "#creating the x and y ranges according to the above generated plot.\n",
    "x_range = np.linspace(-4, 1, 100) \n",
    "y_range = np.linspace(-6, 6, 100) \n",
    "x_grid, y_grid = np.meshgrid(x_range, y_range) # x_grid and y_grig are of size 100 X 100\n",
    "\n",
    "# converting x_grid and y_grid to continuous arrays\n",
    "x_gridflat = np.ravel(x_grid)\n",
    "y_gridflat = np.ravel(y_grid)\n",
    "\n",
    "# The last layer of the current model takes two columns as input. Hence transpose of np.vstack() is required.\n",
    "X = np.vstack((x_gridflat, y_gridflat)).T\n",
    "\n",
    "prob_contour = model_prob(X).reshape(100,100) "
   ]
  },
  {
   "cell_type": "code",
   "execution_count": 29,
   "id": "da72499a",
   "metadata": {
    "execution": {
     "iopub.execute_input": "2022-02-15T10:11:05.130717Z",
     "iopub.status.busy": "2022-02-15T10:11:05.130008Z",
     "iopub.status.idle": "2022-02-15T10:11:05.534659Z",
     "shell.execute_reply": "2022-02-15T10:11:05.535262Z"
    },
    "papermill": {
     "duration": 0.470603,
     "end_time": "2022-02-15T10:11:05.535455",
     "exception": false,
     "start_time": "2022-02-15T10:11:05.064852",
     "status": "completed"
    },
    "tags": []
   },
   "outputs": [
    {
     "data": {
      "image/png": "[encoded data removed]",
      "text/plain": [
       "<Figure size 720x648 with 1 Axes>"
      ]
     },
     "metadata": {
      "needs_background": "light"
     },
     "output_type": "display_data"
    }
   ],
   "source": [
    "plt.figure(figsize=(10,9))\n",
    "plt.scatter(testing_plot[:,0], testing_plot[:,1], alpha = 0.1, c = y_test.ravel())\n",
    "contours = plt.contour(x_grid,y_grid,prob_contour)\n",
    "plt.title('Probability Contours')\n",
    "plt.clabel(contours, inline = True );"
   ]
  },
  {
   "cell_type": "code",
   "execution_count": null,
   "id": "e81b4ac7",
   "metadata": {
    "papermill": {
     "duration": 0.062503,
     "end_time": "2022-02-15T10:11:05.664076",
     "exception": false,
     "start_time": "2022-02-15T10:11:05.601573",
     "status": "completed"
    },
    "tags": []
   },
   "outputs": [],
   "source": []
  }
 ],
 "metadata": {
  "kernelspec": {
   "display_name": "Python 3",
   "language": "python",
   "name": "python3"
  },
  "language_info": {
   "codemirror_mode": {
    "name": "ipython",
    "version": 3
   },
   "file_extension": ".py",
   "mimetype": "text/x-python",
   "name": "python",
   "nbconvert_exporter": "python",
   "pygments_lexer": "ipython3",
   "version": "3.6.15"
  },
  "papermill": {
   "default_parameters": {},
   "duration": 175.071481,
   "end_time": "2022-02-15T10:11:06.246577",
   "environment_variables": {},
   "exception": null,
   "input_path": "2020-08-11-part2.ipynb",
   "output_path": "2020-08-11-part2.ipynb",
   "parameters": {},
   "start_time": "2022-02-15T10:08:11.175096",
   "version": "2.3.3"
  }
 },
 "nbformat": 4,
 "nbformat_minor": 5
}