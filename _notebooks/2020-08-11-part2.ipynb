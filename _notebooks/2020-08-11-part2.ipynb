{
 "cells": [
  {
   "cell_type": "markdown",
   "id": "98380cd3",
   "metadata": {
    "papermill": {
     "duration": 0.028343,
     "end_time": "2022-05-08T00:34:16.994294",
     "exception": false,
     "start_time": "2022-05-08T00:34:16.965951",
     "status": "completed"
    },
    "tags": []
   },
   "source": [
    "# Distinguish Your Own Digits (DYOD)"
   ]
  },
  {
   "cell_type": "markdown",
   "id": "ef31240d",
   "metadata": {
    "papermill": {
     "duration": 0.024798,
     "end_time": "2022-05-08T00:34:17.043502",
     "exception": false,
     "start_time": "2022-05-08T00:34:17.018704",
     "status": "completed"
    },
    "tags": []
   },
   "source": [
    "You are going to write a classifier that distinguishes between the number 3 and number 8."
   ]
  },
  {
   "cell_type": "code",
   "execution_count": 1,
   "id": "b15c8646",
   "metadata": {
    "execution": {
     "iopub.execute_input": "2022-05-08T00:34:17.101116Z",
     "iopub.status.busy": "2022-05-08T00:34:17.100645Z",
     "iopub.status.idle": "2022-05-08T00:34:17.110735Z",
     "shell.execute_reply": "2022-05-08T00:34:17.110321Z"
    },
    "papermill": {
     "duration": 0.044611,
     "end_time": "2022-05-08T00:34:17.110854",
     "exception": false,
     "start_time": "2022-05-08T00:34:17.066243",
     "status": "completed"
    },
    "tags": []
   },
   "outputs": [],
   "source": [
    "%load_ext autoreload\n",
    "%autoreload 2"
   ]
  },
  {
   "cell_type": "code",
   "execution_count": 2,
   "id": "22ef38dc",
   "metadata": {
    "execution": {
     "iopub.execute_input": "2022-05-08T00:34:17.156844Z",
     "iopub.status.busy": "2022-05-08T00:34:17.156411Z",
     "iopub.status.idle": "2022-05-08T00:34:17.668672Z",
     "shell.execute_reply": "2022-05-08T00:34:17.668247Z"
    },
    "papermill": {
     "duration": 0.536796,
     "end_time": "2022-05-08T00:34:17.668801",
     "exception": false,
     "start_time": "2022-05-08T00:34:17.132005",
     "status": "completed"
    },
    "tags": []
   },
   "outputs": [],
   "source": [
    "%matplotlib inline\n",
    "import numpy as np\n",
    "import matplotlib.pyplot as plt\n",
    "import pandas as pd"
   ]
  },
  {
   "cell_type": "markdown",
   "id": "ba036198",
   "metadata": {
    "papermill": {
     "duration": 0.024269,
     "end_time": "2022-05-08T00:34:17.715160",
     "exception": false,
     "start_time": "2022-05-08T00:34:17.690891",
     "status": "completed"
    },
    "tags": []
   },
   "source": [
    "From the command line run `pip install mnist`. This is a library that will help you bring down the mnist dataset. If you run this from a notebook, you need to put  `!pip install mnist` in a cell by itself."
   ]
  },
  {
   "cell_type": "code",
   "execution_count": 3,
   "id": "bb6ad8a1",
   "metadata": {
    "execution": {
     "iopub.execute_input": "2022-05-08T00:34:17.766054Z",
     "iopub.status.busy": "2022-05-08T00:34:17.765558Z",
     "iopub.status.idle": "2022-05-08T00:34:19.457268Z",
     "shell.execute_reply": "2022-05-08T00:34:19.457758Z"
    },
    "papermill": {
     "duration": 1.720202,
     "end_time": "2022-05-08T00:34:19.457913",
     "exception": false,
     "start_time": "2022-05-08T00:34:17.737711",
     "status": "completed"
    },
    "tags": []
   },
   "outputs": [
    {
     "name": "stdout",
     "output_type": "stream",
     "text": [
      "Collecting mnist\r\n"
     ]
    },
    {
     "name": "stdout",
     "output_type": "stream",
     "text": [
      "  Downloading mnist-0.2.2-py2.py3-none-any.whl (3.5 kB)\r\n",
      "Requirement already satisfied: numpy in /opt/hostedtoolcache/Python/3.6.15/x64/lib/python3.6/site-packages (from mnist) (1.19.5)\r\n"
     ]
    },
    {
     "name": "stdout",
     "output_type": "stream",
     "text": [
      "Installing collected packages: mnist\r\n",
      "Successfully installed mnist-0.2.2\r\n"
     ]
    }
   ],
   "source": [
    "!pip install mnist"
   ]
  },
  {
   "cell_type": "markdown",
   "id": "69df9c9a",
   "metadata": {
    "papermill": {
     "duration": 0.026133,
     "end_time": "2022-05-08T00:34:19.510649",
     "exception": false,
     "start_time": "2022-05-08T00:34:19.484516",
     "status": "completed"
    },
    "tags": []
   },
   "source": [
    "## Preparing the Data"
   ]
  },
  {
   "cell_type": "code",
   "execution_count": 4,
   "id": "7f69d806",
   "metadata": {
    "execution": {
     "iopub.execute_input": "2022-05-08T00:34:19.566709Z",
     "iopub.status.busy": "2022-05-08T00:34:19.566151Z",
     "iopub.status.idle": "2022-05-08T00:34:19.581820Z",
     "shell.execute_reply": "2022-05-08T00:34:19.581367Z"
    },
    "papermill": {
     "duration": 0.045464,
     "end_time": "2022-05-08T00:34:19.581933",
     "exception": false,
     "start_time": "2022-05-08T00:34:19.536469",
     "status": "completed"
    },
    "tags": []
   },
   "outputs": [],
   "source": [
    "import mnist"
   ]
  },
  {
   "cell_type": "code",
   "execution_count": 5,
   "id": "a411e44f",
   "metadata": {
    "execution": {
     "iopub.execute_input": "2022-05-08T00:34:19.638399Z",
     "iopub.status.busy": "2022-05-08T00:34:19.637844Z",
     "iopub.status.idle": "2022-05-08T00:34:20.253656Z",
     "shell.execute_reply": "2022-05-08T00:34:20.254351Z"
    },
    "papermill": {
     "duration": 0.645741,
     "end_time": "2022-05-08T00:34:20.254504",
     "exception": false,
     "start_time": "2022-05-08T00:34:19.608763",
     "status": "completed"
    },
    "tags": []
   },
   "outputs": [],
   "source": [
    "train_images = mnist.train_images()\n",
    "train_labels = mnist.train_labels()"
   ]
  },
  {
   "cell_type": "code",
   "execution_count": 6,
   "id": "dceab3a5",
   "metadata": {
    "execution": {
     "iopub.execute_input": "2022-05-08T00:34:20.309121Z",
     "iopub.status.busy": "2022-05-08T00:34:20.308488Z",
     "iopub.status.idle": "2022-05-08T00:34:20.324638Z",
     "shell.execute_reply": "2022-05-08T00:34:20.324129Z"
    },
    "papermill": {
     "duration": 0.046011,
     "end_time": "2022-05-08T00:34:20.324760",
     "exception": false,
     "start_time": "2022-05-08T00:34:20.278749",
     "status": "completed"
    },
    "tags": []
   },
   "outputs": [
    {
     "data": {
      "text/plain": [
       "((60000, 28, 28), (60000,))"
      ]
     },
     "execution_count": 6,
     "metadata": {},
     "output_type": "execute_result"
    }
   ],
   "source": [
    "train_images.shape, train_labels.shape"
   ]
  },
  {
   "cell_type": "code",
   "execution_count": 7,
   "id": "f50dc2bb",
   "metadata": {
    "execution": {
     "iopub.execute_input": "2022-05-08T00:34:20.376869Z",
     "iopub.status.busy": "2022-05-08T00:34:20.376323Z",
     "iopub.status.idle": "2022-05-08T00:34:20.560079Z",
     "shell.execute_reply": "2022-05-08T00:34:20.559484Z"
    },
    "papermill": {
     "duration": 0.212353,
     "end_time": "2022-05-08T00:34:20.560245",
     "exception": false,
     "start_time": "2022-05-08T00:34:20.347892",
     "status": "completed"
    },
    "tags": []
   },
   "outputs": [],
   "source": [
    "test_images = mnist.test_images()\n",
    "test_labels = mnist.test_labels()"
   ]
  },
  {
   "cell_type": "code",
   "execution_count": 8,
   "id": "fc38cf1b",
   "metadata": {
    "execution": {
     "iopub.execute_input": "2022-05-08T00:34:20.615855Z",
     "iopub.status.busy": "2022-05-08T00:34:20.615416Z",
     "iopub.status.idle": "2022-05-08T00:34:20.628506Z",
     "shell.execute_reply": "2022-05-08T00:34:20.628060Z"
    },
    "papermill": {
     "duration": 0.042851,
     "end_time": "2022-05-08T00:34:20.628633",
     "exception": false,
     "start_time": "2022-05-08T00:34:20.585782",
     "status": "completed"
    },
    "tags": []
   },
   "outputs": [
    {
     "data": {
      "text/plain": [
       "((10000, 28, 28), (10000,))"
      ]
     },
     "execution_count": 8,
     "metadata": {},
     "output_type": "execute_result"
    }
   ],
   "source": [
    "test_images.shape, test_labels.shape"
   ]
  },
  {
   "cell_type": "code",
   "execution_count": 9,
   "id": "f9ed8fe0",
   "metadata": {
    "execution": {
     "iopub.execute_input": "2022-05-08T00:34:20.677319Z",
     "iopub.status.busy": "2022-05-08T00:34:20.676851Z",
     "iopub.status.idle": "2022-05-08T00:34:20.811672Z",
     "shell.execute_reply": "2022-05-08T00:34:20.811102Z"
    },
    "papermill": {
     "duration": 0.160023,
     "end_time": "2022-05-08T00:34:20.811811",
     "exception": false,
     "start_time": "2022-05-08T00:34:20.651788",
     "status": "completed"
    },
    "tags": []
   },
   "outputs": [
    {
     "name": "stdout",
     "output_type": "stream",
     "text": [
      "2\n"
     ]
    },
    {
     "data": {
      "text/plain": [
       "<matplotlib.image.AxesImage at 0x7facf6916390>"
      ]
     },
     "execution_count": 9,
     "metadata": {},
     "output_type": "execute_result"
    },
    {
     "data": {
      "image/png": "[encoded data removed]",
      "text/plain": [
       "<Figure size 432x288 with 1 Axes>"
      ]
     },
     "metadata": {
      "needs_background": "light"
     },
     "output_type": "display_data"
    }
   ],
   "source": [
    "image_index = 7776 # You may select anything up to 60,000\n",
    "print(train_labels[image_index]) \n",
    "plt.imshow(train_images[image_index], cmap='Greys')"
   ]
  },
  {
   "cell_type": "markdown",
   "id": "a8d2388d",
   "metadata": {
    "papermill": {
     "duration": 0.027605,
     "end_time": "2022-05-08T00:34:20.865723",
     "exception": false,
     "start_time": "2022-05-08T00:34:20.838118",
     "status": "completed"
    },
    "tags": []
   },
   "source": [
    "## Filter data to get 3 and 8 out"
   ]
  },
  {
   "cell_type": "code",
   "execution_count": 10,
   "id": "776f7fc7",
   "metadata": {
    "execution": {
     "iopub.execute_input": "2022-05-08T00:34:20.927058Z",
     "iopub.status.busy": "2022-05-08T00:34:20.926416Z",
     "iopub.status.idle": "2022-05-08T00:34:20.946575Z",
     "shell.execute_reply": "2022-05-08T00:34:20.945969Z"
    },
    "papermill": {
     "duration": 0.052589,
     "end_time": "2022-05-08T00:34:20.946718",
     "exception": false,
     "start_time": "2022-05-08T00:34:20.894129",
     "status": "completed"
    },
    "tags": []
   },
   "outputs": [],
   "source": [
    "train_filter = np.where((train_labels == 3 ) | (train_labels == 8))\n",
    "test_filter = np.where((test_labels == 3) | (test_labels == 8))\n",
    "X_train, y_train = train_images[train_filter], train_labels[train_filter]\n",
    "X_test, y_test = test_images[test_filter], test_labels[test_filter]"
   ]
  },
  {
   "cell_type": "markdown",
   "id": "948f0b7e",
   "metadata": {
    "papermill": {
     "duration": 0.024502,
     "end_time": "2022-05-08T00:34:20.998005",
     "exception": false,
     "start_time": "2022-05-08T00:34:20.973503",
     "status": "completed"
    },
    "tags": []
   },
   "source": [
    "We normalize the pizel values in the 0 to 1 range"
   ]
  },
  {
   "cell_type": "code",
   "execution_count": 11,
   "id": "ee4c2166",
   "metadata": {
    "execution": {
     "iopub.execute_input": "2022-05-08T00:34:21.051433Z",
     "iopub.status.busy": "2022-05-08T00:34:21.050972Z",
     "iopub.status.idle": "2022-05-08T00:34:21.105043Z",
     "shell.execute_reply": "2022-05-08T00:34:21.104413Z"
    },
    "papermill": {
     "duration": 0.082887,
     "end_time": "2022-05-08T00:34:21.105205",
     "exception": false,
     "start_time": "2022-05-08T00:34:21.022318",
     "status": "completed"
    },
    "tags": []
   },
   "outputs": [],
   "source": [
    "X_train = X_train/255.\n",
    "X_test = X_test/255."
   ]
  },
  {
   "cell_type": "markdown",
   "id": "ddcf4fab",
   "metadata": {
    "papermill": {
     "duration": 0.02516,
     "end_time": "2022-05-08T00:34:21.161210",
     "exception": false,
     "start_time": "2022-05-08T00:34:21.136050",
     "status": "completed"
    },
    "tags": []
   },
   "source": [
    "And setup the labels as 1 (when the digit is 3) and 0 (when the digit is 8)"
   ]
  },
  {
   "cell_type": "code",
   "execution_count": 12,
   "id": "7dc908f2",
   "metadata": {
    "execution": {
     "iopub.execute_input": "2022-05-08T00:34:21.216708Z",
     "iopub.status.busy": "2022-05-08T00:34:21.215648Z",
     "iopub.status.idle": "2022-05-08T00:34:21.228922Z",
     "shell.execute_reply": "2022-05-08T00:34:21.229418Z"
    },
    "papermill": {
     "duration": 0.042815,
     "end_time": "2022-05-08T00:34:21.229562",
     "exception": false,
     "start_time": "2022-05-08T00:34:21.186747",
     "status": "completed"
    },
    "tags": []
   },
   "outputs": [],
   "source": [
    "y_train = 1*(y_train==3)\n",
    "y_test = 1*(y_test==3)"
   ]
  },
  {
   "cell_type": "code",
   "execution_count": 13,
   "id": "01e4e969",
   "metadata": {
    "execution": {
     "iopub.execute_input": "2022-05-08T00:34:21.280693Z",
     "iopub.status.busy": "2022-05-08T00:34:21.280255Z",
     "iopub.status.idle": "2022-05-08T00:34:21.292274Z",
     "shell.execute_reply": "2022-05-08T00:34:21.291918Z"
    },
    "papermill": {
     "duration": 0.039396,
     "end_time": "2022-05-08T00:34:21.292363",
     "exception": false,
     "start_time": "2022-05-08T00:34:21.252967",
     "status": "completed"
    },
    "tags": []
   },
   "outputs": [
    {
     "data": {
      "text/plain": [
       "((11982, 28, 28), (1984, 28, 28))"
      ]
     },
     "execution_count": 13,
     "metadata": {},
     "output_type": "execute_result"
    }
   ],
   "source": [
    "X_train.shape, X_test.shape"
   ]
  },
  {
   "cell_type": "markdown",
   "id": "5ccf3f85",
   "metadata": {
    "papermill": {
     "duration": 0.023839,
     "end_time": "2022-05-08T00:34:21.340438",
     "exception": false,
     "start_time": "2022-05-08T00:34:21.316599",
     "status": "completed"
    },
    "tags": []
   },
   "source": [
    "We reshape the data to flatten the image pixels into a set of features or co-variates:"
   ]
  },
  {
   "cell_type": "code",
   "execution_count": 14,
   "id": "5286a4a3",
   "metadata": {
    "execution": {
     "iopub.execute_input": "2022-05-08T00:34:21.392509Z",
     "iopub.status.busy": "2022-05-08T00:34:21.392085Z",
     "iopub.status.idle": "2022-05-08T00:34:21.405895Z",
     "shell.execute_reply": "2022-05-08T00:34:21.406630Z"
    },
    "papermill": {
     "duration": 0.042127,
     "end_time": "2022-05-08T00:34:21.406775",
     "exception": false,
     "start_time": "2022-05-08T00:34:21.364648",
     "status": "completed"
    },
    "tags": []
   },
   "outputs": [
    {
     "data": {
      "text/plain": [
       "((11982, 784), (1984, 784))"
      ]
     },
     "execution_count": 14,
     "metadata": {},
     "output_type": "execute_result"
    }
   ],
   "source": [
    "X_train = X_train.reshape(X_train.shape[0], -1)\n",
    "X_test = X_test.reshape(X_test.shape[0], -1)\n",
    "X_train.shape, X_test.shape"
   ]
  },
  {
   "cell_type": "code",
   "execution_count": 15,
   "id": "73c5f88a",
   "metadata": {
    "execution": {
     "iopub.execute_input": "2022-05-08T00:34:21.465873Z",
     "iopub.status.busy": "2022-05-08T00:34:21.464909Z",
     "iopub.status.idle": "2022-05-08T00:34:21.485419Z",
     "shell.execute_reply": "2022-05-08T00:34:21.484976Z"
    },
    "papermill": {
     "duration": 0.051448,
     "end_time": "2022-05-08T00:34:21.485520",
     "exception": false,
     "start_time": "2022-05-08T00:34:21.434072",
     "status": "completed"
    },
    "tags": []
   },
   "outputs": [],
   "source": [
    "#Impoting functions from 'Kudzu'\n",
    "from kudzu.model import Model\n",
    "from kudzu.train import Learner\n",
    "from kudzu.optim import GD\n",
    "from kudzu.data import Data, Sampler,Dataloader\n",
    "\n",
    "from kudzu.callbacks import AccCallback\n",
    "from kudzu.callbacks import ClfCallback\n",
    "\n",
    "from kudzu.loss import MSE\n",
    "\n",
    "from kudzu.layer import Sigmoid,Relu\n",
    "from kudzu.layer import Affine"
   ]
  },
  {
   "cell_type": "markdown",
   "id": "bc01172a",
   "metadata": {
    "papermill": {
     "duration": 0.025288,
     "end_time": "2022-05-08T00:34:21.535836",
     "exception": false,
     "start_time": "2022-05-08T00:34:21.510548",
     "status": "completed"
    },
    "tags": []
   },
   "source": [
    "### Let us create a `Config` class, to store important parameters. \n",
    "This class essentially plays the role of a dictionary."
   ]
  },
  {
   "cell_type": "code",
   "execution_count": 16,
   "id": "978281aa",
   "metadata": {
    "execution": {
     "iopub.execute_input": "2022-05-08T00:34:21.588925Z",
     "iopub.status.busy": "2022-05-08T00:34:21.588329Z",
     "iopub.status.idle": "2022-05-08T00:34:21.602992Z",
     "shell.execute_reply": "2022-05-08T00:34:21.603485Z"
    },
    "papermill": {
     "duration": 0.04367,
     "end_time": "2022-05-08T00:34:21.603620",
     "exception": false,
     "start_time": "2022-05-08T00:34:21.559950",
     "status": "completed"
    },
    "tags": []
   },
   "outputs": [],
   "source": [
    "class Config:\n",
    "    pass\n",
    "config = Config()\n",
    "config.lr = 0.001\n",
    "config.num_epochs = 250\n",
    "config.bs = 50"
   ]
  },
  {
   "cell_type": "markdown",
   "id": "1385fa59",
   "metadata": {
    "papermill": {
     "duration": 0.024437,
     "end_time": "2022-05-08T00:34:21.653248",
     "exception": false,
     "start_time": "2022-05-08T00:34:21.628811",
     "status": "completed"
    },
    "tags": []
   },
   "source": [
    "### Running Models with the Training data\n",
    "Details about the network layers:\n",
    "- A first affine layer has 784 inputs and does 100 affine transforms. These are followed by a Relu\n",
    "- A second affine layer has 100 inputs from the 100 activations of the past layer, and does 100 affine transforms. These are followed by a Relu\n",
    "- A third affine layer has 100 activations and does 2 affine transformations to create an embedding for visualization. There is no non-linearity here.\n",
    "- A final \"logistic regression\" which has an affine transform from 2 inputs to 1 output, which is squeezed through a sigmoid.\n"
   ]
  },
  {
   "cell_type": "code",
   "execution_count": 17,
   "id": "2b9c66db",
   "metadata": {
    "execution": {
     "iopub.execute_input": "2022-05-08T00:34:21.705296Z",
     "iopub.status.busy": "2022-05-08T00:34:21.704825Z",
     "iopub.status.idle": "2022-05-08T00:34:21.717976Z",
     "shell.execute_reply": "2022-05-08T00:34:21.717501Z"
    },
    "papermill": {
     "duration": 0.041038,
     "end_time": "2022-05-08T00:34:21.718064",
     "exception": false,
     "start_time": "2022-05-08T00:34:21.677026",
     "status": "completed"
    },
    "tags": []
   },
   "outputs": [],
   "source": [
    "data = Data(X_train, y_train.reshape(-1,1))\n",
    "sampler = Sampler(data, config.bs, shuffle=True)\n",
    "\n",
    "dl = Dataloader(data, sampler)\n",
    "\n",
    "opt = GD(config.lr)\n",
    "loss = MSE()"
   ]
  },
  {
   "cell_type": "code",
   "execution_count": 18,
   "id": "b275e4c2",
   "metadata": {
    "execution": {
     "iopub.execute_input": "2022-05-08T00:34:21.769837Z",
     "iopub.status.busy": "2022-05-08T00:34:21.769413Z",
     "iopub.status.idle": "2022-05-08T00:34:21.784503Z",
     "shell.execute_reply": "2022-05-08T00:34:21.784058Z"
    },
    "papermill": {
     "duration": 0.042407,
     "end_time": "2022-05-08T00:34:21.784616",
     "exception": false,
     "start_time": "2022-05-08T00:34:21.742209",
     "status": "completed"
    },
    "tags": []
   },
   "outputs": [],
   "source": [
    "training_data_x = X_train\n",
    "testing_data_x = X_test\n",
    "training_data_y = y_train.reshape(-1,1)\n",
    "testing_data_y = y_test.reshape(-1,1)"
   ]
  },
  {
   "cell_type": "code",
   "execution_count": 19,
   "id": "76951160",
   "metadata": {
    "execution": {
     "iopub.execute_input": "2022-05-08T00:34:21.837040Z",
     "iopub.status.busy": "2022-05-08T00:34:21.836555Z",
     "iopub.status.idle": "2022-05-08T00:34:21.852199Z",
     "shell.execute_reply": "2022-05-08T00:34:21.852692Z"
    },
    "papermill": {
     "duration": 0.044473,
     "end_time": "2022-05-08T00:34:21.852824",
     "exception": false,
     "start_time": "2022-05-08T00:34:21.808351",
     "status": "completed"
    },
    "tags": []
   },
   "outputs": [
    {
     "name": "stdout",
     "output_type": "stream",
     "text": [
      "xavier\n",
      "xavier\n",
      "xavier\n",
      "xavier\n",
      "xavier\n"
     ]
    }
   ],
   "source": [
    "layers = [Affine(\"first\", 784, 100), Relu(\"first\"), Affine(\"second\", 100, 100), Relu(\"second\"), Affine(\"third\", 100, 2), Affine(\"last\", 2, 1), Sigmoid(\"last\")]\n",
    "model_nn = Model(layers)\n",
    "model_lr = Model([Affine(\"logits\", 784, 1), Sigmoid(\"sigmoid\")])"
   ]
  },
  {
   "cell_type": "code",
   "execution_count": 20,
   "id": "6eede77a",
   "metadata": {
    "execution": {
     "iopub.execute_input": "2022-05-08T00:34:21.908172Z",
     "iopub.status.busy": "2022-05-08T00:34:21.907534Z",
     "iopub.status.idle": "2022-05-08T00:34:21.923466Z",
     "shell.execute_reply": "2022-05-08T00:34:21.922938Z"
    },
    "papermill": {
     "duration": 0.044433,
     "end_time": "2022-05-08T00:34:21.923586",
     "exception": false,
     "start_time": "2022-05-08T00:34:21.879153",
     "status": "completed"
    },
    "tags": []
   },
   "outputs": [],
   "source": [
    "nn_learner = Learner(loss, model_nn, opt, config.num_epochs)\n",
    "acc_nn = ClfCallback(nn_learner, config.bs, training_data_x , testing_data_x, training_data_y, testing_data_y)\n",
    "nn_learner.set_callbacks([acc_nn])"
   ]
  },
  {
   "cell_type": "code",
   "execution_count": 21,
   "id": "877b6cc7",
   "metadata": {
    "execution": {
     "iopub.execute_input": "2022-05-08T00:34:21.982590Z",
     "iopub.status.busy": "2022-05-08T00:34:21.981624Z",
     "iopub.status.idle": "2022-05-08T00:34:21.997156Z",
     "shell.execute_reply": "2022-05-08T00:34:21.996728Z"
    },
    "papermill": {
     "duration": 0.045351,
     "end_time": "2022-05-08T00:34:21.997252",
     "exception": false,
     "start_time": "2022-05-08T00:34:21.951901",
     "status": "completed"
    },
    "tags": []
   },
   "outputs": [],
   "source": [
    "lr_learner = Learner(loss, model_lr, opt, config.num_epochs)\n",
    "acc_lr = ClfCallback(lr_learner, config.bs, training_data_x , testing_data_x, training_data_y, testing_data_y)\n",
    "lr_learner.set_callbacks([acc_lr])"
   ]
  },
  {
   "cell_type": "code",
   "execution_count": 22,
   "id": "d9b133c3",
   "metadata": {
    "execution": {
     "iopub.execute_input": "2022-05-08T00:34:22.051580Z",
     "iopub.status.busy": "2022-05-08T00:34:22.051116Z",
     "iopub.status.idle": "2022-05-08T00:35:43.844704Z",
     "shell.execute_reply": "2022-05-08T00:35:43.845563Z"
    },
    "papermill": {
     "duration": 81.824603,
     "end_time": "2022-05-08T00:35:43.845724",
     "exception": false,
     "start_time": "2022-05-08T00:34:22.021121",
     "status": "completed"
    },
    "tags": []
   },
   "outputs": [
    {
     "name": "stdout",
     "output_type": "stream",
     "text": [
      "Epoch 0, Loss 0.2315\n",
      "Training Accuracy: 0.7439, Testing Accuracy: 0.7646\n",
      "\n"
     ]
    },
    {
     "name": "stdout",
     "output_type": "stream",
     "text": [
      "Epoch 10, Loss 0.0667\n",
      "Training Accuracy: 0.9320, Testing Accuracy: 0.9466\n",
      "\n"
     ]
    },
    {
     "name": "stdout",
     "output_type": "stream",
     "text": [
      "Epoch 20, Loss 0.0459\n",
      "Training Accuracy: 0.9498, Testing Accuracy: 0.9597\n",
      "\n"
     ]
    },
    {
     "name": "stdout",
     "output_type": "stream",
     "text": [
      "Epoch 30, Loss 0.038\n",
      "Training Accuracy: 0.9573, Testing Accuracy: 0.9632\n",
      "\n"
     ]
    },
    {
     "name": "stdout",
     "output_type": "stream",
     "text": [
      "Epoch 40, Loss 0.0338\n",
      "Training Accuracy: 0.9631, Testing Accuracy: 0.9642\n",
      "\n"
     ]
    },
    {
     "name": "stdout",
     "output_type": "stream",
     "text": [
      "Epoch 50, Loss 0.0311\n",
      "Training Accuracy: 0.9652, Testing Accuracy: 0.9677\n",
      "\n"
     ]
    },
    {
     "name": "stdout",
     "output_type": "stream",
     "text": [
      "Epoch 60, Loss 0.0291\n",
      "Training Accuracy: 0.9670, Testing Accuracy: 0.9667\n",
      "\n"
     ]
    },
    {
     "name": "stdout",
     "output_type": "stream",
     "text": [
      "Epoch 70, Loss 0.0276\n",
      "Training Accuracy: 0.9682, Testing Accuracy: 0.9672\n",
      "\n"
     ]
    },
    {
     "name": "stdout",
     "output_type": "stream",
     "text": [
      "Epoch 80, Loss 0.0264\n",
      "Training Accuracy: 0.9694, Testing Accuracy: 0.9677\n",
      "\n"
     ]
    },
    {
     "name": "stdout",
     "output_type": "stream",
     "text": [
      "Epoch 90, Loss 0.0255\n",
      "Training Accuracy: 0.9707, Testing Accuracy: 0.9682\n",
      "\n"
     ]
    },
    {
     "name": "stdout",
     "output_type": "stream",
     "text": [
      "Epoch 100, Loss 0.0246\n",
      "Training Accuracy: 0.9718, Testing Accuracy: 0.9682\n",
      "\n"
     ]
    },
    {
     "name": "stdout",
     "output_type": "stream",
     "text": [
      "Epoch 110, Loss 0.0239\n",
      "Training Accuracy: 0.9727, Testing Accuracy: 0.9698\n",
      "\n"
     ]
    },
    {
     "name": "stdout",
     "output_type": "stream",
     "text": [
      "Epoch 120, Loss 0.0232\n",
      "Training Accuracy: 0.9738, Testing Accuracy: 0.9703\n",
      "\n"
     ]
    },
    {
     "name": "stdout",
     "output_type": "stream",
     "text": [
      "Epoch 130, Loss 0.0226\n",
      "Training Accuracy: 0.9743, Testing Accuracy: 0.9703\n",
      "\n"
     ]
    },
    {
     "name": "stdout",
     "output_type": "stream",
     "text": [
      "Epoch 140, Loss 0.0221\n",
      "Training Accuracy: 0.9751, Testing Accuracy: 0.9708\n",
      "\n"
     ]
    },
    {
     "name": "stdout",
     "output_type": "stream",
     "text": [
      "Epoch 150, Loss 0.0215\n",
      "Training Accuracy: 0.9760, Testing Accuracy: 0.9708\n",
      "\n"
     ]
    },
    {
     "name": "stdout",
     "output_type": "stream",
     "text": [
      "Epoch 160, Loss 0.0211\n",
      "Training Accuracy: 0.9765, Testing Accuracy: 0.9713\n",
      "\n"
     ]
    },
    {
     "name": "stdout",
     "output_type": "stream",
     "text": [
      "Epoch 170, Loss 0.0206\n",
      "Training Accuracy: 0.9770, Testing Accuracy: 0.9718\n",
      "\n"
     ]
    },
    {
     "name": "stdout",
     "output_type": "stream",
     "text": [
      "Epoch 180, Loss 0.0202\n",
      "Training Accuracy: 0.9775, Testing Accuracy: 0.9718\n",
      "\n"
     ]
    },
    {
     "name": "stdout",
     "output_type": "stream",
     "text": [
      "Epoch 190, Loss 0.0197\n",
      "Training Accuracy: 0.9780, Testing Accuracy: 0.9723\n",
      "\n"
     ]
    },
    {
     "name": "stdout",
     "output_type": "stream",
     "text": [
      "Epoch 200, Loss 0.0193\n",
      "Training Accuracy: 0.9784, Testing Accuracy: 0.9728\n",
      "\n"
     ]
    },
    {
     "name": "stdout",
     "output_type": "stream",
     "text": [
      "Epoch 210, Loss 0.019\n",
      "Training Accuracy: 0.9791, Testing Accuracy: 0.9748\n",
      "\n"
     ]
    },
    {
     "name": "stdout",
     "output_type": "stream",
     "text": [
      "Epoch 220, Loss 0.0186\n",
      "Training Accuracy: 0.9790, Testing Accuracy: 0.9748\n",
      "\n"
     ]
    },
    {
     "name": "stdout",
     "output_type": "stream",
     "text": [
      "Epoch 230, Loss 0.0182\n",
      "Training Accuracy: 0.9797, Testing Accuracy: 0.9748\n",
      "\n"
     ]
    },
    {
     "name": "stdout",
     "output_type": "stream",
     "text": [
      "Epoch 240, Loss 0.0179\n",
      "Training Accuracy: 0.9801, Testing Accuracy: 0.9758\n",
      "\n"
     ]
    },
    {
     "data": {
      "text/plain": [
       "0.031545810304044554"
      ]
     },
     "execution_count": 22,
     "metadata": {},
     "output_type": "execute_result"
    }
   ],
   "source": [
    "nn_learner.train_loop(dl)"
   ]
  },
  {
   "cell_type": "code",
   "execution_count": 23,
   "id": "e0163366",
   "metadata": {
    "execution": {
     "iopub.execute_input": "2022-05-08T00:35:43.928362Z",
     "iopub.status.busy": "2022-05-08T00:35:43.927807Z",
     "iopub.status.idle": "2022-05-08T00:35:58.386403Z",
     "shell.execute_reply": "2022-05-08T00:35:58.387313Z"
    },
    "papermill": {
     "duration": 14.504396,
     "end_time": "2022-05-08T00:35:58.387484",
     "exception": false,
     "start_time": "2022-05-08T00:35:43.883088",
     "status": "completed"
    },
    "tags": []
   },
   "outputs": [
    {
     "name": "stdout",
     "output_type": "stream",
     "text": [
      "Epoch 0, Loss 0.2499\n",
      "Training Accuracy: 0.6681, Testing Accuracy: 0.6704\n",
      "\n"
     ]
    },
    {
     "name": "stdout",
     "output_type": "stream",
     "text": [
      "Epoch 10, Loss 0.103\n",
      "Training Accuracy: 0.9124, Testing Accuracy: 0.9244\n",
      "\n"
     ]
    },
    {
     "name": "stdout",
     "output_type": "stream",
     "text": [
      "Epoch 20, Loss 0.079\n",
      "Training Accuracy: 0.9306, Testing Accuracy: 0.9395\n",
      "\n"
     ]
    },
    {
     "name": "stdout",
     "output_type": "stream",
     "text": [
      "Epoch 30, Loss 0.068\n",
      "Training Accuracy: 0.9387, Testing Accuracy: 0.9511\n",
      "\n"
     ]
    },
    {
     "name": "stdout",
     "output_type": "stream",
     "text": [
      "Epoch 40, Loss 0.0614\n",
      "Training Accuracy: 0.9430, Testing Accuracy: 0.9541\n",
      "\n"
     ]
    },
    {
     "name": "stdout",
     "output_type": "stream",
     "text": [
      "Epoch 50, Loss 0.0569\n",
      "Training Accuracy: 0.9455, Testing Accuracy: 0.9551\n",
      "\n"
     ]
    },
    {
     "name": "stdout",
     "output_type": "stream",
     "text": [
      "Epoch 60, Loss 0.0536\n",
      "Training Accuracy: 0.9485, Testing Accuracy: 0.9577\n",
      "\n"
     ]
    },
    {
     "name": "stdout",
     "output_type": "stream",
     "text": [
      "Epoch 70, Loss 0.0511\n",
      "Training Accuracy: 0.9502, Testing Accuracy: 0.9582\n",
      "\n"
     ]
    },
    {
     "name": "stdout",
     "output_type": "stream",
     "text": [
      "Epoch 80, Loss 0.0491\n",
      "Training Accuracy: 0.9514, Testing Accuracy: 0.9602\n",
      "\n"
     ]
    },
    {
     "name": "stdout",
     "output_type": "stream",
     "text": [
      "Epoch 90, Loss 0.0474\n",
      "Training Accuracy: 0.9522, Testing Accuracy: 0.9617\n",
      "\n"
     ]
    },
    {
     "name": "stdout",
     "output_type": "stream",
     "text": [
      "Epoch 100, Loss 0.046\n",
      "Training Accuracy: 0.9534, Testing Accuracy: 0.9632\n",
      "\n"
     ]
    },
    {
     "name": "stdout",
     "output_type": "stream",
     "text": [
      "Epoch 110, Loss 0.0448\n",
      "Training Accuracy: 0.9540, Testing Accuracy: 0.9642\n",
      "\n"
     ]
    },
    {
     "name": "stdout",
     "output_type": "stream",
     "text": [
      "Epoch 120, Loss 0.0438\n",
      "Training Accuracy: 0.9547, Testing Accuracy: 0.9647\n",
      "\n"
     ]
    },
    {
     "name": "stdout",
     "output_type": "stream",
     "text": [
      "Epoch 130, Loss 0.0428\n",
      "Training Accuracy: 0.9557, Testing Accuracy: 0.9647\n",
      "\n"
     ]
    },
    {
     "name": "stdout",
     "output_type": "stream",
     "text": [
      "Epoch 140, Loss 0.042\n",
      "Training Accuracy: 0.9565, Testing Accuracy: 0.9647\n",
      "\n"
     ]
    },
    {
     "name": "stdout",
     "output_type": "stream",
     "text": [
      "Epoch 150, Loss 0.0413\n",
      "Training Accuracy: 0.9570, Testing Accuracy: 0.9647\n",
      "\n"
     ]
    },
    {
     "name": "stdout",
     "output_type": "stream",
     "text": [
      "Epoch 160, Loss 0.0406\n",
      "Training Accuracy: 0.9578, Testing Accuracy: 0.9647\n",
      "\n"
     ]
    },
    {
     "name": "stdout",
     "output_type": "stream",
     "text": [
      "Epoch 170, Loss 0.04\n",
      "Training Accuracy: 0.9584, Testing Accuracy: 0.9652\n",
      "\n"
     ]
    },
    {
     "name": "stdout",
     "output_type": "stream",
     "text": [
      "Epoch 180, Loss 0.0395\n",
      "Training Accuracy: 0.9591, Testing Accuracy: 0.9652\n",
      "\n"
     ]
    },
    {
     "name": "stdout",
     "output_type": "stream",
     "text": [
      "Epoch 190, Loss 0.039\n",
      "Training Accuracy: 0.9596, Testing Accuracy: 0.9657\n",
      "\n"
     ]
    },
    {
     "name": "stdout",
     "output_type": "stream",
     "text": [
      "Epoch 200, Loss 0.0385\n",
      "Training Accuracy: 0.9599, Testing Accuracy: 0.9667\n",
      "\n"
     ]
    },
    {
     "name": "stdout",
     "output_type": "stream",
     "text": [
      "Epoch 210, Loss 0.038\n",
      "Training Accuracy: 0.9599, Testing Accuracy: 0.9662\n",
      "\n"
     ]
    },
    {
     "name": "stdout",
     "output_type": "stream",
     "text": [
      "Epoch 220, Loss 0.0376\n",
      "Training Accuracy: 0.9601, Testing Accuracy: 0.9667\n",
      "\n"
     ]
    },
    {
     "name": "stdout",
     "output_type": "stream",
     "text": [
      "Epoch 230, Loss 0.0373\n",
      "Training Accuracy: 0.9606, Testing Accuracy: 0.9672\n",
      "\n"
     ]
    },
    {
     "name": "stdout",
     "output_type": "stream",
     "text": [
      "Epoch 240, Loss 0.0369\n",
      "Training Accuracy: 0.9609, Testing Accuracy: 0.9677\n",
      "\n"
     ]
    },
    {
     "data": {
      "text/plain": [
       "0.03930673744889557"
      ]
     },
     "execution_count": 23,
     "metadata": {},
     "output_type": "execute_result"
    }
   ],
   "source": [
    "lr_learner.train_loop(dl)"
   ]
  },
  {
   "cell_type": "code",
   "execution_count": 24,
   "id": "ca410940",
   "metadata": {
    "execution": {
     "iopub.execute_input": "2022-05-08T00:35:58.492670Z",
     "iopub.status.busy": "2022-05-08T00:35:58.492042Z",
     "iopub.status.idle": "2022-05-08T00:35:58.746062Z",
     "shell.execute_reply": "2022-05-08T00:35:58.745533Z"
    },
    "papermill": {
     "duration": 0.311739,
     "end_time": "2022-05-08T00:35:58.746198",
     "exception": false,
     "start_time": "2022-05-08T00:35:58.434459",
     "status": "completed"
    },
    "tags": []
   },
   "outputs": [
    {
     "data": {
      "text/plain": [
       "<matplotlib.legend.Legend at 0x7facf64f4b00>"
      ]
     },
     "execution_count": 24,
     "metadata": {},
     "output_type": "execute_result"
    },
    {
     "data": {
      "image/png": "[encoded data removed]",
      "text/plain": [
       "<Figure size 1080x720 with 1 Axes>"
      ]
     },
     "metadata": {
      "needs_background": "light"
     },
     "output_type": "display_data"
    }
   ],
   "source": [
    "#comparing the results of NN and LR\n",
    "plt.figure(figsize=(15,10))\n",
    "\n",
    "# Neural Network plots\n",
    "plt.plot(acc_nn.accuracies, 'r-', label = \"Training Accuracies - NN\")\n",
    "plt.plot(acc_nn.test_accuracies, 'g-', label = \"Testing Accuracies - NN\")\n",
    "\n",
    "# Logistic Regression plots\n",
    "plt.plot(acc_lr.accuracies, 'k-', label = \"Training Accuracies - LR\")\n",
    "plt.plot(acc_lr.test_accuracies, 'b-', label = \"Testing Accuracies - LR\")\n",
    "plt.legend()"
   ]
  },
  {
   "cell_type": "markdown",
   "id": "80dfb35c",
   "metadata": {
    "papermill": {
     "duration": 0.040974,
     "end_time": "2022-05-08T00:35:58.834323",
     "exception": false,
     "start_time": "2022-05-08T00:35:58.793349",
     "status": "completed"
    },
    "tags": []
   },
   "source": [
    "#### Plotting the outputs of this layer of the NN.\n"
   ]
  },
  {
   "cell_type": "code",
   "execution_count": 25,
   "id": "45eb2ff5",
   "metadata": {
    "execution": {
     "iopub.execute_input": "2022-05-08T00:35:58.927111Z",
     "iopub.status.busy": "2022-05-08T00:35:58.926509Z",
     "iopub.status.idle": "2022-05-08T00:35:58.950114Z",
     "shell.execute_reply": "2022-05-08T00:35:58.950603Z"
    },
    "papermill": {
     "duration": 0.073919,
     "end_time": "2022-05-08T00:35:58.950749",
     "exception": false,
     "start_time": "2022-05-08T00:35:58.876830",
     "status": "completed"
    },
    "tags": []
   },
   "outputs": [],
   "source": [
    "new_model = Model(layers[:-2])\n",
    "testing_plot = new_model(testing_data_x)"
   ]
  },
  {
   "cell_type": "code",
   "execution_count": 26,
   "id": "4c0a5485",
   "metadata": {
    "execution": {
     "iopub.execute_input": "2022-05-08T00:35:59.043069Z",
     "iopub.status.busy": "2022-05-08T00:35:59.042553Z",
     "iopub.status.idle": "2022-05-08T00:35:59.270651Z",
     "shell.execute_reply": "2022-05-08T00:35:59.269771Z"
    },
    "papermill": {
     "duration": 0.275252,
     "end_time": "2022-05-08T00:35:59.270787",
     "exception": false,
     "start_time": "2022-05-08T00:35:58.995535",
     "status": "completed"
    },
    "tags": []
   },
   "outputs": [
    {
     "data": {
      "text/plain": [
       "Text(0.5, 1.0, 'Outputs')"
      ]
     },
     "execution_count": 26,
     "metadata": {},
     "output_type": "execute_result"
    },
    {
     "data": {
      "image/png": "[encoded data removed]",
      "text/plain": [
       "<Figure size 576x504 with 1 Axes>"
      ]
     },
     "metadata": {
      "needs_background": "light"
     },
     "output_type": "display_data"
    }
   ],
   "source": [
    "# Plotting the scatter plot of points and color coding by class\n",
    "plt.figure(figsize=(8,7))\n",
    "plt.scatter(testing_plot[:,0], testing_plot[:,1], alpha = 0.1, c = y_test.ravel());\n",
    "plt.title('Outputs')"
   ]
  },
  {
   "cell_type": "markdown",
   "id": "a74fcf8f",
   "metadata": {
    "papermill": {
     "duration": 0.046484,
     "end_time": "2022-05-08T00:35:59.362852",
     "exception": false,
     "start_time": "2022-05-08T00:35:59.316368",
     "status": "completed"
    },
    "tags": []
   },
   "source": [
    "Probability contours"
   ]
  },
  {
   "cell_type": "code",
   "execution_count": 27,
   "id": "d0afc8e3",
   "metadata": {
    "execution": {
     "iopub.execute_input": "2022-05-08T00:35:59.457838Z",
     "iopub.status.busy": "2022-05-08T00:35:59.456768Z",
     "iopub.status.idle": "2022-05-08T00:35:59.469503Z",
     "shell.execute_reply": "2022-05-08T00:35:59.469079Z"
    },
    "papermill": {
     "duration": 0.062789,
     "end_time": "2022-05-08T00:35:59.469611",
     "exception": false,
     "start_time": "2022-05-08T00:35:59.406822",
     "status": "completed"
    },
    "tags": []
   },
   "outputs": [],
   "source": [
    "model_prob = Model(layers[-2:]) "
   ]
  },
  {
   "cell_type": "code",
   "execution_count": 28,
   "id": "9b96e238",
   "metadata": {
    "execution": {
     "iopub.execute_input": "2022-05-08T00:35:59.573630Z",
     "iopub.status.busy": "2022-05-08T00:35:59.571379Z",
     "iopub.status.idle": "2022-05-08T00:35:59.586150Z",
     "shell.execute_reply": "2022-05-08T00:35:59.586569Z"
    },
    "papermill": {
     "duration": 0.069038,
     "end_time": "2022-05-08T00:35:59.586706",
     "exception": false,
     "start_time": "2022-05-08T00:35:59.517668",
     "status": "completed"
    },
    "tags": []
   },
   "outputs": [],
   "source": [
    "#creating the x and y ranges according to the above generated plot.\n",
    "x_range = np.linspace(-4, 1, 100) \n",
    "y_range = np.linspace(-6, 6, 100) \n",
    "x_grid, y_grid = np.meshgrid(x_range, y_range) # x_grid and y_grig are of size 100 X 100\n",
    "\n",
    "# converting x_grid and y_grid to continuous arrays\n",
    "x_gridflat = np.ravel(x_grid)\n",
    "y_gridflat = np.ravel(y_grid)\n",
    "\n",
    "# The last layer of the current model takes two columns as input. Hence transpose of np.vstack() is required.\n",
    "X = np.vstack((x_gridflat, y_gridflat)).T\n",
    "\n",
    "prob_contour = model_prob(X).reshape(100,100) "
   ]
  },
  {
   "cell_type": "code",
   "execution_count": 29,
   "id": "da72499a",
   "metadata": {
    "execution": {
     "iopub.execute_input": "2022-05-08T00:35:59.712044Z",
     "iopub.status.busy": "2022-05-08T00:35:59.711552Z",
     "iopub.status.idle": "2022-05-08T00:35:59.957445Z",
     "shell.execute_reply": "2022-05-08T00:35:59.957821Z"
    },
    "papermill": {
     "duration": 0.322514,
     "end_time": "2022-05-08T00:35:59.957960",
     "exception": false,
     "start_time": "2022-05-08T00:35:59.635446",
     "status": "completed"
    },
    "tags": []
   },
   "outputs": [
    {
     "data": {
      "image/png": "[encoded data removed]",
      "text/plain": [
       "<Figure size 720x648 with 1 Axes>"
      ]
     },
     "metadata": {
      "needs_background": "light"
     },
     "output_type": "display_data"
    }
   ],
   "source": [
    "plt.figure(figsize=(10,9))\n",
    "plt.scatter(testing_plot[:,0], testing_plot[:,1], alpha = 0.1, c = y_test.ravel())\n",
    "contours = plt.contour(x_grid,y_grid,prob_contour)\n",
    "plt.title('Probability Contours')\n",
    "plt.clabel(contours, inline = True );"
   ]
  },
  {
   "cell_type": "code",
   "execution_count": null,
   "id": "e81b4ac7",
   "metadata": {
    "papermill": {
     "duration": 0.048145,
     "end_time": "2022-05-08T00:36:00.049459",
     "exception": false,
     "start_time": "2022-05-08T00:36:00.001314",
     "status": "completed"
    },
    "tags": []
   },
   "outputs": [],
   "source": []
  }
 ],
 "metadata": {
  "kernelspec": {
   "display_name": "Python 3",
   "language": "python",
   "name": "python3"
  },
  "language_info": {
   "codemirror_mode": {
    "name": "ipython",
    "version": 3
   },
   "file_extension": ".py",
   "mimetype": "text/x-python",
   "name": "python",
   "nbconvert_exporter": "python",
   "pygments_lexer": "ipython3",
   "version": "3.6.15"
  },
  "papermill": {
   "default_parameters": {},
   "duration": 104.486405,
   "end_time": "2022-05-08T00:36:00.515852",
   "environment_variables": {},
   "exception": null,
   "input_path": "2020-08-11-part2.ipynb",
   "output_path": "2020-08-11-part2.ipynb",
   "parameters": {},
   "start_time": "2022-05-08T00:34:16.029447",
   "version": "2.3.3"
  }
 },
 "nbformat": 4,
 "nbformat_minor": 5
}