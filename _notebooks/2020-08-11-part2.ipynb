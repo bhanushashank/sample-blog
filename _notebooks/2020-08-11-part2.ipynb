{
 "cells": [
  {
   "cell_type": "markdown",
   "id": "98380cd3",
   "metadata": {
    "papermill": {
     "duration": 0.030145,
     "end_time": "2022-09-18T20:10:43.251021",
     "exception": false,
     "start_time": "2022-09-18T20:10:43.220876",
     "status": "completed"
    },
    "tags": []
   },
   "source": [
    "# Distinguish Your Own Digits (DYOD)"
   ]
  },
  {
   "cell_type": "markdown",
   "id": "ef31240d",
   "metadata": {
    "papermill": {
     "duration": 0.026301,
     "end_time": "2022-09-18T20:10:43.301554",
     "exception": false,
     "start_time": "2022-09-18T20:10:43.275253",
     "status": "completed"
    },
    "tags": []
   },
   "source": [
    "You are going to write a classifier that distinguishes between the number 3 and number 8."
   ]
  },
  {
   "cell_type": "code",
   "execution_count": 1,
   "id": "b15c8646",
   "metadata": {
    "execution": {
     "iopub.execute_input": "2022-09-18T20:10:43.359297Z",
     "iopub.status.busy": "2022-09-18T20:10:43.358634Z",
     "iopub.status.idle": "2022-09-18T20:10:43.369369Z",
     "shell.execute_reply": "2022-09-18T20:10:43.369915Z"
    },
    "papermill": {
     "duration": 0.044859,
     "end_time": "2022-09-18T20:10:43.370062",
     "exception": false,
     "start_time": "2022-09-18T20:10:43.325203",
     "status": "completed"
    },
    "tags": []
   },
   "outputs": [],
   "source": [
    "%load_ext autoreload\n",
    "%autoreload 2"
   ]
  },
  {
   "cell_type": "code",
   "execution_count": 2,
   "id": "22ef38dc",
   "metadata": {
    "execution": {
     "iopub.execute_input": "2022-09-18T20:10:43.421790Z",
     "iopub.status.busy": "2022-09-18T20:10:43.421221Z",
     "iopub.status.idle": "2022-09-18T20:10:43.952062Z",
     "shell.execute_reply": "2022-09-18T20:10:43.951128Z"
    },
    "papermill": {
     "duration": 0.558413,
     "end_time": "2022-09-18T20:10:43.952210",
     "exception": false,
     "start_time": "2022-09-18T20:10:43.393797",
     "status": "completed"
    },
    "tags": []
   },
   "outputs": [],
   "source": [
    "%matplotlib inline\n",
    "import numpy as np\n",
    "import matplotlib.pyplot as plt\n",
    "import pandas as pd"
   ]
  },
  {
   "cell_type": "markdown",
   "id": "ba036198",
   "metadata": {
    "papermill": {
     "duration": 0.024903,
     "end_time": "2022-09-18T20:10:44.001100",
     "exception": false,
     "start_time": "2022-09-18T20:10:43.976197",
     "status": "completed"
    },
    "tags": []
   },
   "source": [
    "From the command line run `pip install mnist`. This is a library that will help you bring down the mnist dataset. If you run this from a notebook, you need to put  `!pip install mnist` in a cell by itself."
   ]
  },
  {
   "cell_type": "code",
   "execution_count": 3,
   "id": "bb6ad8a1",
   "metadata": {
    "execution": {
     "iopub.execute_input": "2022-09-18T20:10:44.055823Z",
     "iopub.status.busy": "2022-09-18T20:10:44.051633Z",
     "iopub.status.idle": "2022-09-18T20:10:45.655366Z",
     "shell.execute_reply": "2022-09-18T20:10:45.654801Z"
    },
    "papermill": {
     "duration": 1.630659,
     "end_time": "2022-09-18T20:10:45.655497",
     "exception": false,
     "start_time": "2022-09-18T20:10:44.024838",
     "status": "completed"
    },
    "tags": []
   },
   "outputs": [
    {
     "name": "stdout",
     "output_type": "stream",
     "text": [
      "Collecting mnist\r\n"
     ]
    },
    {
     "name": "stdout",
     "output_type": "stream",
     "text": [
      "  Downloading mnist-0.2.2-py2.py3-none-any.whl (3.5 kB)\r\n",
      "Requirement already satisfied: numpy in /opt/hostedtoolcache/Python/3.6.15/x64/lib/python3.6/site-packages (from mnist) (1.19.5)\r\n"
     ]
    },
    {
     "name": "stdout",
     "output_type": "stream",
     "text": [
      "Installing collected packages: mnist\r\n",
      "Successfully installed mnist-0.2.2\r\n"
     ]
    }
   ],
   "source": [
    "!pip install mnist"
   ]
  },
  {
   "cell_type": "markdown",
   "id": "69df9c9a",
   "metadata": {
    "papermill": {
     "duration": 0.024357,
     "end_time": "2022-09-18T20:10:45.704687",
     "exception": false,
     "start_time": "2022-09-18T20:10:45.680330",
     "status": "completed"
    },
    "tags": []
   },
   "source": [
    "## Preparing the Data"
   ]
  },
  {
   "cell_type": "code",
   "execution_count": 4,
   "id": "7f69d806",
   "metadata": {
    "execution": {
     "iopub.execute_input": "2022-09-18T20:10:45.756228Z",
     "iopub.status.busy": "2022-09-18T20:10:45.755655Z",
     "iopub.status.idle": "2022-09-18T20:10:45.771054Z",
     "shell.execute_reply": "2022-09-18T20:10:45.771604Z"
    },
    "papermill": {
     "duration": 0.0427,
     "end_time": "2022-09-18T20:10:45.771727",
     "exception": false,
     "start_time": "2022-09-18T20:10:45.729027",
     "status": "completed"
    },
    "tags": []
   },
   "outputs": [],
   "source": [
    "import mnist"
   ]
  },
  {
   "cell_type": "code",
   "execution_count": 5,
   "id": "a411e44f",
   "metadata": {
    "execution": {
     "iopub.execute_input": "2022-09-18T20:10:45.834704Z",
     "iopub.status.busy": "2022-09-18T20:10:45.827435Z",
     "iopub.status.idle": "2022-09-18T20:10:46.456848Z",
     "shell.execute_reply": "2022-09-18T20:10:46.456262Z"
    },
    "papermill": {
     "duration": 0.660885,
     "end_time": "2022-09-18T20:10:46.456993",
     "exception": false,
     "start_time": "2022-09-18T20:10:45.796108",
     "status": "completed"
    },
    "tags": []
   },
   "outputs": [],
   "source": [
    "train_images = mnist.train_images()\n",
    "train_labels = mnist.train_labels()"
   ]
  },
  {
   "cell_type": "code",
   "execution_count": 6,
   "id": "dceab3a5",
   "metadata": {
    "execution": {
     "iopub.execute_input": "2022-09-18T20:10:46.510866Z",
     "iopub.status.busy": "2022-09-18T20:10:46.510247Z",
     "iopub.status.idle": "2022-09-18T20:10:46.525882Z",
     "shell.execute_reply": "2022-09-18T20:10:46.525410Z"
    },
    "papermill": {
     "duration": 0.043425,
     "end_time": "2022-09-18T20:10:46.525989",
     "exception": false,
     "start_time": "2022-09-18T20:10:46.482564",
     "status": "completed"
    },
    "tags": []
   },
   "outputs": [
    {
     "data": {
      "text/plain": [
       "((60000, 28, 28), (60000,))"
      ]
     },
     "execution_count": 6,
     "metadata": {},
     "output_type": "execute_result"
    }
   ],
   "source": [
    "train_images.shape, train_labels.shape"
   ]
  },
  {
   "cell_type": "code",
   "execution_count": 7,
   "id": "f50dc2bb",
   "metadata": {
    "execution": {
     "iopub.execute_input": "2022-09-18T20:10:46.578797Z",
     "iopub.status.busy": "2022-09-18T20:10:46.578194Z",
     "iopub.status.idle": "2022-09-18T20:10:46.734571Z",
     "shell.execute_reply": "2022-09-18T20:10:46.733974Z"
    },
    "papermill": {
     "duration": 0.184236,
     "end_time": "2022-09-18T20:10:46.734709",
     "exception": false,
     "start_time": "2022-09-18T20:10:46.550473",
     "status": "completed"
    },
    "tags": []
   },
   "outputs": [],
   "source": [
    "test_images = mnist.test_images()\n",
    "test_labels = mnist.test_labels()"
   ]
  },
  {
   "cell_type": "code",
   "execution_count": 8,
   "id": "fc38cf1b",
   "metadata": {
    "execution": {
     "iopub.execute_input": "2022-09-18T20:10:46.788366Z",
     "iopub.status.busy": "2022-09-18T20:10:46.787796Z",
     "iopub.status.idle": "2022-09-18T20:10:46.801647Z",
     "shell.execute_reply": "2022-09-18T20:10:46.801175Z"
    },
    "papermill": {
     "duration": 0.041654,
     "end_time": "2022-09-18T20:10:46.801754",
     "exception": false,
     "start_time": "2022-09-18T20:10:46.760100",
     "status": "completed"
    },
    "tags": []
   },
   "outputs": [
    {
     "data": {
      "text/plain": [
       "((10000, 28, 28), (10000,))"
      ]
     },
     "execution_count": 8,
     "metadata": {},
     "output_type": "execute_result"
    }
   ],
   "source": [
    "test_images.shape, test_labels.shape"
   ]
  },
  {
   "cell_type": "code",
   "execution_count": 9,
   "id": "f9ed8fe0",
   "metadata": {
    "execution": {
     "iopub.execute_input": "2022-09-18T20:10:46.854726Z",
     "iopub.status.busy": "2022-09-18T20:10:46.854152Z",
     "iopub.status.idle": "2022-09-18T20:10:46.993232Z",
     "shell.execute_reply": "2022-09-18T20:10:46.993688Z"
    },
    "papermill": {
     "duration": 0.167326,
     "end_time": "2022-09-18T20:10:46.993815",
     "exception": false,
     "start_time": "2022-09-18T20:10:46.826489",
     "status": "completed"
    },
    "tags": []
   },
   "outputs": [
    {
     "name": "stdout",
     "output_type": "stream",
     "text": [
      "2\n"
     ]
    },
    {
     "data": {
      "text/plain": [
       "<matplotlib.image.AxesImage at 0x7f3a1956bcc0>"
      ]
     },
     "execution_count": 9,
     "metadata": {},
     "output_type": "execute_result"
    },
    {
     "data": {
      "image/png": "[encoded data removed]",
      "text/plain": [
       "<Figure size 432x288 with 1 Axes>"
      ]
     },
     "metadata": {
      "needs_background": "light"
     },
     "output_type": "display_data"
    }
   ],
   "source": [
    "image_index = 7776 # You may select anything up to 60,000\n",
    "print(train_labels[image_index]) \n",
    "plt.imshow(train_images[image_index], cmap='Greys')"
   ]
  },
  {
   "cell_type": "markdown",
   "id": "a8d2388d",
   "metadata": {
    "papermill": {
     "duration": 0.026102,
     "end_time": "2022-09-18T20:10:47.046078",
     "exception": false,
     "start_time": "2022-09-18T20:10:47.019976",
     "status": "completed"
    },
    "tags": []
   },
   "source": [
    "## Filter data to get 3 and 8 out"
   ]
  },
  {
   "cell_type": "code",
   "execution_count": 10,
   "id": "776f7fc7",
   "metadata": {
    "execution": {
     "iopub.execute_input": "2022-09-18T20:10:47.103257Z",
     "iopub.status.busy": "2022-09-18T20:10:47.102642Z",
     "iopub.status.idle": "2022-09-18T20:10:47.120652Z",
     "shell.execute_reply": "2022-09-18T20:10:47.120085Z"
    },
    "papermill": {
     "duration": 0.048756,
     "end_time": "2022-09-18T20:10:47.120760",
     "exception": false,
     "start_time": "2022-09-18T20:10:47.072004",
     "status": "completed"
    },
    "tags": []
   },
   "outputs": [],
   "source": [
    "train_filter = np.where((train_labels == 3 ) | (train_labels == 8))\n",
    "test_filter = np.where((test_labels == 3) | (test_labels == 8))\n",
    "X_train, y_train = train_images[train_filter], train_labels[train_filter]\n",
    "X_test, y_test = test_images[test_filter], test_labels[test_filter]"
   ]
  },
  {
   "cell_type": "markdown",
   "id": "948f0b7e",
   "metadata": {
    "papermill": {
     "duration": 0.025891,
     "end_time": "2022-09-18T20:10:47.172894",
     "exception": false,
     "start_time": "2022-09-18T20:10:47.147003",
     "status": "completed"
    },
    "tags": []
   },
   "source": [
    "We normalize the pizel values in the 0 to 1 range"
   ]
  },
  {
   "cell_type": "code",
   "execution_count": 11,
   "id": "ee4c2166",
   "metadata": {
    "execution": {
     "iopub.execute_input": "2022-09-18T20:10:47.228006Z",
     "iopub.status.busy": "2022-09-18T20:10:47.227434Z",
     "iopub.status.idle": "2022-09-18T20:10:47.277307Z",
     "shell.execute_reply": "2022-09-18T20:10:47.276781Z"
    },
    "papermill": {
     "duration": 0.078695,
     "end_time": "2022-09-18T20:10:47.277434",
     "exception": false,
     "start_time": "2022-09-18T20:10:47.198739",
     "status": "completed"
    },
    "tags": []
   },
   "outputs": [],
   "source": [
    "X_train = X_train/255.\n",
    "X_test = X_test/255."
   ]
  },
  {
   "cell_type": "markdown",
   "id": "ddcf4fab",
   "metadata": {
    "papermill": {
     "duration": 0.026162,
     "end_time": "2022-09-18T20:10:47.330045",
     "exception": false,
     "start_time": "2022-09-18T20:10:47.303883",
     "status": "completed"
    },
    "tags": []
   },
   "source": [
    "And setup the labels as 1 (when the digit is 3) and 0 (when the digit is 8)"
   ]
  },
  {
   "cell_type": "code",
   "execution_count": 12,
   "id": "7dc908f2",
   "metadata": {
    "execution": {
     "iopub.execute_input": "2022-09-18T20:10:47.385656Z",
     "iopub.status.busy": "2022-09-18T20:10:47.385085Z",
     "iopub.status.idle": "2022-09-18T20:10:47.397502Z",
     "shell.execute_reply": "2022-09-18T20:10:47.397972Z"
    },
    "papermill": {
     "duration": 0.042184,
     "end_time": "2022-09-18T20:10:47.398097",
     "exception": false,
     "start_time": "2022-09-18T20:10:47.355913",
     "status": "completed"
    },
    "tags": []
   },
   "outputs": [],
   "source": [
    "y_train = 1*(y_train==3)\n",
    "y_test = 1*(y_test==3)"
   ]
  },
  {
   "cell_type": "code",
   "execution_count": 13,
   "id": "01e4e969",
   "metadata": {
    "execution": {
     "iopub.execute_input": "2022-09-18T20:10:47.453513Z",
     "iopub.status.busy": "2022-09-18T20:10:47.452942Z",
     "iopub.status.idle": "2022-09-18T20:10:47.467089Z",
     "shell.execute_reply": "2022-09-18T20:10:47.466592Z"
    },
    "papermill": {
     "duration": 0.042935,
     "end_time": "2022-09-18T20:10:47.467195",
     "exception": false,
     "start_time": "2022-09-18T20:10:47.424260",
     "status": "completed"
    },
    "tags": []
   },
   "outputs": [
    {
     "data": {
      "text/plain": [
       "((11982, 28, 28), (1984, 28, 28))"
      ]
     },
     "execution_count": 13,
     "metadata": {},
     "output_type": "execute_result"
    }
   ],
   "source": [
    "X_train.shape, X_test.shape"
   ]
  },
  {
   "cell_type": "markdown",
   "id": "5ccf3f85",
   "metadata": {
    "papermill": {
     "duration": 0.026139,
     "end_time": "2022-09-18T20:10:47.519445",
     "exception": false,
     "start_time": "2022-09-18T20:10:47.493306",
     "status": "completed"
    },
    "tags": []
   },
   "source": [
    "We reshape the data to flatten the image pixels into a set of features or co-variates:"
   ]
  },
  {
   "cell_type": "code",
   "execution_count": 14,
   "id": "5286a4a3",
   "metadata": {
    "execution": {
     "iopub.execute_input": "2022-09-18T20:10:47.577387Z",
     "iopub.status.busy": "2022-09-18T20:10:47.576814Z",
     "iopub.status.idle": "2022-09-18T20:10:47.589781Z",
     "shell.execute_reply": "2022-09-18T20:10:47.589314Z"
    },
    "papermill": {
     "duration": 0.044002,
     "end_time": "2022-09-18T20:10:47.589881",
     "exception": false,
     "start_time": "2022-09-18T20:10:47.545879",
     "status": "completed"
    },
    "tags": []
   },
   "outputs": [
    {
     "data": {
      "text/plain": [
       "((11982, 784), (1984, 784))"
      ]
     },
     "execution_count": 14,
     "metadata": {},
     "output_type": "execute_result"
    }
   ],
   "source": [
    "X_train = X_train.reshape(X_train.shape[0], -1)\n",
    "X_test = X_test.reshape(X_test.shape[0], -1)\n",
    "X_train.shape, X_test.shape"
   ]
  },
  {
   "cell_type": "code",
   "execution_count": 15,
   "id": "73c5f88a",
   "metadata": {
    "execution": {
     "iopub.execute_input": "2022-09-18T20:10:47.646698Z",
     "iopub.status.busy": "2022-09-18T20:10:47.646121Z",
     "iopub.status.idle": "2022-09-18T20:10:47.665169Z",
     "shell.execute_reply": "2022-09-18T20:10:47.664531Z"
    },
    "papermill": {
     "duration": 0.048896,
     "end_time": "2022-09-18T20:10:47.665282",
     "exception": false,
     "start_time": "2022-09-18T20:10:47.616386",
     "status": "completed"
    },
    "tags": []
   },
   "outputs": [],
   "source": [
    "#Impoting functions from 'Kudzu'\n",
    "from kudzu.model import Model\n",
    "from kudzu.train import Learner\n",
    "from kudzu.optim import GD\n",
    "from kudzu.data import Data, Sampler,Dataloader\n",
    "\n",
    "from kudzu.callbacks import AccCallback\n",
    "from kudzu.callbacks import ClfCallback\n",
    "\n",
    "from kudzu.loss import MSE\n",
    "\n",
    "from kudzu.layer import Sigmoid,Relu\n",
    "from kudzu.layer import Affine"
   ]
  },
  {
   "cell_type": "markdown",
   "id": "bc01172a",
   "metadata": {
    "papermill": {
     "duration": 0.026419,
     "end_time": "2022-09-18T20:10:47.719016",
     "exception": false,
     "start_time": "2022-09-18T20:10:47.692597",
     "status": "completed"
    },
    "tags": []
   },
   "source": [
    "### Let us create a `Config` class, to store important parameters. \n",
    "This class essentially plays the role of a dictionary."
   ]
  },
  {
   "cell_type": "code",
   "execution_count": 16,
   "id": "978281aa",
   "metadata": {
    "execution": {
     "iopub.execute_input": "2022-09-18T20:10:47.788091Z",
     "iopub.status.busy": "2022-09-18T20:10:47.783486Z",
     "iopub.status.idle": "2022-09-18T20:10:47.790156Z",
     "shell.execute_reply": "2022-09-18T20:10:47.790600Z"
    },
    "papermill": {
     "duration": 0.045325,
     "end_time": "2022-09-18T20:10:47.790713",
     "exception": false,
     "start_time": "2022-09-18T20:10:47.745388",
     "status": "completed"
    },
    "tags": []
   },
   "outputs": [],
   "source": [
    "class Config:\n",
    "    pass\n",
    "config = Config()\n",
    "config.lr = 0.001\n",
    "config.num_epochs = 250\n",
    "config.bs = 50"
   ]
  },
  {
   "cell_type": "markdown",
   "id": "1385fa59",
   "metadata": {
    "papermill": {
     "duration": 0.026429,
     "end_time": "2022-09-18T20:10:47.843641",
     "exception": false,
     "start_time": "2022-09-18T20:10:47.817212",
     "status": "completed"
    },
    "tags": []
   },
   "source": [
    "### Running Models with the Training data\n",
    "Details about the network layers:\n",
    "- A first affine layer has 784 inputs and does 100 affine transforms. These are followed by a Relu\n",
    "- A second affine layer has 100 inputs from the 100 activations of the past layer, and does 100 affine transforms. These are followed by a Relu\n",
    "- A third affine layer has 100 activations and does 2 affine transformations to create an embedding for visualization. There is no non-linearity here.\n",
    "- A final \"logistic regression\" which has an affine transform from 2 inputs to 1 output, which is squeezed through a sigmoid.\n"
   ]
  },
  {
   "cell_type": "code",
   "execution_count": 17,
   "id": "2b9c66db",
   "metadata": {
    "execution": {
     "iopub.execute_input": "2022-09-18T20:10:47.901880Z",
     "iopub.status.busy": "2022-09-18T20:10:47.901314Z",
     "iopub.status.idle": "2022-09-18T20:10:47.913541Z",
     "shell.execute_reply": "2022-09-18T20:10:47.913072Z"
    },
    "papermill": {
     "duration": 0.043573,
     "end_time": "2022-09-18T20:10:47.913644",
     "exception": false,
     "start_time": "2022-09-18T20:10:47.870071",
     "status": "completed"
    },
    "tags": []
   },
   "outputs": [],
   "source": [
    "data = Data(X_train, y_train.reshape(-1,1))\n",
    "sampler = Sampler(data, config.bs, shuffle=True)\n",
    "\n",
    "dl = Dataloader(data, sampler)\n",
    "\n",
    "opt = GD(config.lr)\n",
    "loss = MSE()"
   ]
  },
  {
   "cell_type": "code",
   "execution_count": 18,
   "id": "b275e4c2",
   "metadata": {
    "execution": {
     "iopub.execute_input": "2022-09-18T20:10:47.970064Z",
     "iopub.status.busy": "2022-09-18T20:10:47.969499Z",
     "iopub.status.idle": "2022-09-18T20:10:47.981345Z",
     "shell.execute_reply": "2022-09-18T20:10:47.981816Z"
    },
    "papermill": {
     "duration": 0.041827,
     "end_time": "2022-09-18T20:10:47.981933",
     "exception": false,
     "start_time": "2022-09-18T20:10:47.940106",
     "status": "completed"
    },
    "tags": []
   },
   "outputs": [],
   "source": [
    "training_data_x = X_train\n",
    "testing_data_x = X_test\n",
    "training_data_y = y_train.reshape(-1,1)\n",
    "testing_data_y = y_test.reshape(-1,1)"
   ]
  },
  {
   "cell_type": "code",
   "execution_count": 19,
   "id": "76951160",
   "metadata": {
    "execution": {
     "iopub.execute_input": "2022-09-18T20:10:48.038738Z",
     "iopub.status.busy": "2022-09-18T20:10:48.038156Z",
     "iopub.status.idle": "2022-09-18T20:10:48.054765Z",
     "shell.execute_reply": "2022-09-18T20:10:48.054277Z"
    },
    "papermill": {
     "duration": 0.046557,
     "end_time": "2022-09-18T20:10:48.054874",
     "exception": false,
     "start_time": "2022-09-18T20:10:48.008317",
     "status": "completed"
    },
    "tags": []
   },
   "outputs": [
    {
     "name": "stdout",
     "output_type": "stream",
     "text": [
      "xavier\n",
      "xavier\n",
      "xavier\n",
      "xavier\n",
      "xavier\n"
     ]
    }
   ],
   "source": [
    "layers = [Affine(\"first\", 784, 100), Relu(\"first\"), Affine(\"second\", 100, 100), Relu(\"second\"), Affine(\"third\", 100, 2), Affine(\"last\", 2, 1), Sigmoid(\"last\")]\n",
    "model_nn = Model(layers)\n",
    "model_lr = Model([Affine(\"logits\", 784, 1), Sigmoid(\"sigmoid\")])"
   ]
  },
  {
   "cell_type": "code",
   "execution_count": 20,
   "id": "6eede77a",
   "metadata": {
    "execution": {
     "iopub.execute_input": "2022-09-18T20:10:48.111817Z",
     "iopub.status.busy": "2022-09-18T20:10:48.111247Z",
     "iopub.status.idle": "2022-09-18T20:10:48.122966Z",
     "shell.execute_reply": "2022-09-18T20:10:48.123515Z"
    },
    "papermill": {
     "duration": 0.042045,
     "end_time": "2022-09-18T20:10:48.123630",
     "exception": false,
     "start_time": "2022-09-18T20:10:48.081585",
     "status": "completed"
    },
    "tags": []
   },
   "outputs": [],
   "source": [
    "nn_learner = Learner(loss, model_nn, opt, config.num_epochs)\n",
    "acc_nn = ClfCallback(nn_learner, config.bs, training_data_x , testing_data_x, training_data_y, testing_data_y)\n",
    "nn_learner.set_callbacks([acc_nn])"
   ]
  },
  {
   "cell_type": "code",
   "execution_count": 21,
   "id": "877b6cc7",
   "metadata": {
    "execution": {
     "iopub.execute_input": "2022-09-18T20:10:48.180448Z",
     "iopub.status.busy": "2022-09-18T20:10:48.179889Z",
     "iopub.status.idle": "2022-09-18T20:10:48.192327Z",
     "shell.execute_reply": "2022-09-18T20:10:48.191772Z"
    },
    "papermill": {
     "duration": 0.042144,
     "end_time": "2022-09-18T20:10:48.192428",
     "exception": false,
     "start_time": "2022-09-18T20:10:48.150284",
     "status": "completed"
    },
    "tags": []
   },
   "outputs": [],
   "source": [
    "lr_learner = Learner(loss, model_lr, opt, config.num_epochs)\n",
    "acc_lr = ClfCallback(lr_learner, config.bs, training_data_x , testing_data_x, training_data_y, testing_data_y)\n",
    "lr_learner.set_callbacks([acc_lr])"
   ]
  },
  {
   "cell_type": "code",
   "execution_count": 22,
   "id": "d9b133c3",
   "metadata": {
    "execution": {
     "iopub.execute_input": "2022-09-18T20:10:48.249048Z",
     "iopub.status.busy": "2022-09-18T20:10:48.248489Z",
     "iopub.status.idle": "2022-09-18T20:12:04.071212Z",
     "shell.execute_reply": "2022-09-18T20:12:04.072068Z"
    },
    "papermill": {
     "duration": 75.853077,
     "end_time": "2022-09-18T20:12:04.072230",
     "exception": false,
     "start_time": "2022-09-18T20:10:48.219153",
     "status": "completed"
    },
    "tags": []
   },
   "outputs": [
    {
     "name": "stdout",
     "output_type": "stream",
     "text": [
      "Epoch 0, Loss 0.244\n",
      "Training Accuracy: 0.6261, Testing Accuracy: 0.6104\n",
      "\n"
     ]
    },
    {
     "name": "stdout",
     "output_type": "stream",
     "text": [
      "Epoch 10, Loss 0.1085\n",
      "Training Accuracy: 0.9084, Testing Accuracy: 0.9204\n",
      "\n"
     ]
    },
    {
     "name": "stdout",
     "output_type": "stream",
     "text": [
      "Epoch 20, Loss 0.0625\n",
      "Training Accuracy: 0.9347, Testing Accuracy: 0.9466\n",
      "\n"
     ]
    },
    {
     "name": "stdout",
     "output_type": "stream",
     "text": [
      "Epoch 30, Loss 0.0481\n",
      "Training Accuracy: 0.9476, Testing Accuracy: 0.9556\n",
      "\n"
     ]
    },
    {
     "name": "stdout",
     "output_type": "stream",
     "text": [
      "Epoch 40, Loss 0.0412\n",
      "Training Accuracy: 0.9535, Testing Accuracy: 0.9597\n",
      "\n"
     ]
    },
    {
     "name": "stdout",
     "output_type": "stream",
     "text": [
      "Epoch 50, Loss 0.0371\n",
      "Training Accuracy: 0.9574, Testing Accuracy: 0.9637\n",
      "\n"
     ]
    },
    {
     "name": "stdout",
     "output_type": "stream",
     "text": [
      "Epoch 60, Loss 0.0343\n",
      "Training Accuracy: 0.9609, Testing Accuracy: 0.9622\n",
      "\n"
     ]
    },
    {
     "name": "stdout",
     "output_type": "stream",
     "text": [
      "Epoch 70, Loss 0.0323\n",
      "Training Accuracy: 0.9631, Testing Accuracy: 0.9642\n",
      "\n"
     ]
    },
    {
     "name": "stdout",
     "output_type": "stream",
     "text": [
      "Epoch 80, Loss 0.0308\n",
      "Training Accuracy: 0.9652, Testing Accuracy: 0.9642\n",
      "\n"
     ]
    },
    {
     "name": "stdout",
     "output_type": "stream",
     "text": [
      "Epoch 90, Loss 0.0295\n",
      "Training Accuracy: 0.9665, Testing Accuracy: 0.9662\n",
      "\n"
     ]
    },
    {
     "name": "stdout",
     "output_type": "stream",
     "text": [
      "Epoch 100, Loss 0.0284\n",
      "Training Accuracy: 0.9675, Testing Accuracy: 0.9672\n",
      "\n"
     ]
    },
    {
     "name": "stdout",
     "output_type": "stream",
     "text": [
      "Epoch 110, Loss 0.0275\n",
      "Training Accuracy: 0.9685, Testing Accuracy: 0.9667\n",
      "\n"
     ]
    },
    {
     "name": "stdout",
     "output_type": "stream",
     "text": [
      "Epoch 120, Loss 0.0266\n",
      "Training Accuracy: 0.9690, Testing Accuracy: 0.9682\n",
      "\n"
     ]
    },
    {
     "name": "stdout",
     "output_type": "stream",
     "text": [
      "Epoch 130, Loss 0.0259\n",
      "Training Accuracy: 0.9698, Testing Accuracy: 0.9688\n",
      "\n"
     ]
    },
    {
     "name": "stdout",
     "output_type": "stream",
     "text": [
      "Epoch 140, Loss 0.0252\n",
      "Training Accuracy: 0.9708, Testing Accuracy: 0.9688\n",
      "\n"
     ]
    },
    {
     "name": "stdout",
     "output_type": "stream",
     "text": [
      "Epoch 150, Loss 0.0246\n",
      "Training Accuracy: 0.9715, Testing Accuracy: 0.9688\n",
      "\n"
     ]
    },
    {
     "name": "stdout",
     "output_type": "stream",
     "text": [
      "Epoch 160, Loss 0.0241\n",
      "Training Accuracy: 0.9724, Testing Accuracy: 0.9688\n",
      "\n"
     ]
    },
    {
     "name": "stdout",
     "output_type": "stream",
     "text": [
      "Epoch 170, Loss 0.0236\n",
      "Training Accuracy: 0.9726, Testing Accuracy: 0.9698\n",
      "\n"
     ]
    },
    {
     "name": "stdout",
     "output_type": "stream",
     "text": [
      "Epoch 180, Loss 0.0231\n",
      "Training Accuracy: 0.9732, Testing Accuracy: 0.9703\n",
      "\n"
     ]
    },
    {
     "name": "stdout",
     "output_type": "stream",
     "text": [
      "Epoch 190, Loss 0.0226\n",
      "Training Accuracy: 0.9737, Testing Accuracy: 0.9708\n",
      "\n"
     ]
    },
    {
     "name": "stdout",
     "output_type": "stream",
     "text": [
      "Epoch 200, Loss 0.0222\n",
      "Training Accuracy: 0.9745, Testing Accuracy: 0.9713\n",
      "\n"
     ]
    },
    {
     "name": "stdout",
     "output_type": "stream",
     "text": [
      "Epoch 210, Loss 0.0218\n",
      "Training Accuracy: 0.9746, Testing Accuracy: 0.9718\n",
      "\n"
     ]
    },
    {
     "name": "stdout",
     "output_type": "stream",
     "text": [
      "Epoch 220, Loss 0.0214\n",
      "Training Accuracy: 0.9755, Testing Accuracy: 0.9718\n",
      "\n"
     ]
    },
    {
     "name": "stdout",
     "output_type": "stream",
     "text": [
      "Epoch 230, Loss 0.021\n",
      "Training Accuracy: 0.9760, Testing Accuracy: 0.9723\n",
      "\n"
     ]
    },
    {
     "name": "stdout",
     "output_type": "stream",
     "text": [
      "Epoch 240, Loss 0.0207\n",
      "Training Accuracy: 0.9765, Testing Accuracy: 0.9728\n",
      "\n"
     ]
    },
    {
     "data": {
      "text/plain": [
       "0.029082311520840586"
      ]
     },
     "execution_count": 22,
     "metadata": {},
     "output_type": "execute_result"
    }
   ],
   "source": [
    "nn_learner.train_loop(dl)"
   ]
  },
  {
   "cell_type": "code",
   "execution_count": 23,
   "id": "e0163366",
   "metadata": {
    "execution": {
     "iopub.execute_input": "2022-09-18T20:12:04.153917Z",
     "iopub.status.busy": "2022-09-18T20:12:04.153339Z",
     "iopub.status.idle": "2022-09-18T20:12:17.558651Z",
     "shell.execute_reply": "2022-09-18T20:12:17.559532Z"
    },
    "papermill": {
     "duration": 13.452397,
     "end_time": "2022-09-18T20:12:17.559687",
     "exception": false,
     "start_time": "2022-09-18T20:12:04.107290",
     "status": "completed"
    },
    "tags": []
   },
   "outputs": [
    {
     "name": "stdout",
     "output_type": "stream",
     "text": [
      "Epoch 0, Loss 0.2344\n",
      "Training Accuracy: 0.6929, Testing Accuracy: 0.6754\n",
      "\n"
     ]
    },
    {
     "name": "stdout",
     "output_type": "stream",
     "text": [
      "Epoch 10, Loss 0.1049\n",
      "Training Accuracy: 0.9057, Testing Accuracy: 0.9143\n",
      "\n"
     ]
    },
    {
     "name": "stdout",
     "output_type": "stream",
     "text": [
      "Epoch 20, Loss 0.08\n",
      "Training Accuracy: 0.9271, Testing Accuracy: 0.9340\n",
      "\n"
     ]
    },
    {
     "name": "stdout",
     "output_type": "stream",
     "text": [
      "Epoch 30, Loss 0.0686\n",
      "Training Accuracy: 0.9347, Testing Accuracy: 0.9435\n",
      "\n"
     ]
    },
    {
     "name": "stdout",
     "output_type": "stream",
     "text": [
      "Epoch 40, Loss 0.0617\n",
      "Training Accuracy: 0.9398, Testing Accuracy: 0.9481\n",
      "\n"
     ]
    },
    {
     "name": "stdout",
     "output_type": "stream",
     "text": [
      "Epoch 50, Loss 0.0571\n",
      "Training Accuracy: 0.9445, Testing Accuracy: 0.9526\n",
      "\n"
     ]
    },
    {
     "name": "stdout",
     "output_type": "stream",
     "text": [
      "Epoch 60, Loss 0.0537\n",
      "Training Accuracy: 0.9470, Testing Accuracy: 0.9567\n",
      "\n"
     ]
    },
    {
     "name": "stdout",
     "output_type": "stream",
     "text": [
      "Epoch 70, Loss 0.0511\n",
      "Training Accuracy: 0.9492, Testing Accuracy: 0.9592\n",
      "\n"
     ]
    },
    {
     "name": "stdout",
     "output_type": "stream",
     "text": [
      "Epoch 80, Loss 0.0491\n",
      "Training Accuracy: 0.9508, Testing Accuracy: 0.9617\n",
      "\n"
     ]
    },
    {
     "name": "stdout",
     "output_type": "stream",
     "text": [
      "Epoch 90, Loss 0.0474\n",
      "Training Accuracy: 0.9526, Testing Accuracy: 0.9622\n",
      "\n"
     ]
    },
    {
     "name": "stdout",
     "output_type": "stream",
     "text": [
      "Epoch 100, Loss 0.0459\n",
      "Training Accuracy: 0.9543, Testing Accuracy: 0.9612\n",
      "\n"
     ]
    },
    {
     "name": "stdout",
     "output_type": "stream",
     "text": [
      "Epoch 110, Loss 0.0447\n",
      "Training Accuracy: 0.9548, Testing Accuracy: 0.9622\n",
      "\n"
     ]
    },
    {
     "name": "stdout",
     "output_type": "stream",
     "text": [
      "Epoch 120, Loss 0.0436\n",
      "Training Accuracy: 0.9555, Testing Accuracy: 0.9632\n",
      "\n"
     ]
    },
    {
     "name": "stdout",
     "output_type": "stream",
     "text": [
      "Epoch 130, Loss 0.0427\n",
      "Training Accuracy: 0.9559, Testing Accuracy: 0.9637\n",
      "\n"
     ]
    },
    {
     "name": "stdout",
     "output_type": "stream",
     "text": [
      "Epoch 140, Loss 0.0419\n",
      "Training Accuracy: 0.9563, Testing Accuracy: 0.9637\n",
      "\n"
     ]
    },
    {
     "name": "stdout",
     "output_type": "stream",
     "text": [
      "Epoch 150, Loss 0.0411\n",
      "Training Accuracy: 0.9569, Testing Accuracy: 0.9642\n",
      "\n"
     ]
    },
    {
     "name": "stdout",
     "output_type": "stream",
     "text": [
      "Epoch 160, Loss 0.0405\n",
      "Training Accuracy: 0.9571, Testing Accuracy: 0.9642\n",
      "\n"
     ]
    },
    {
     "name": "stdout",
     "output_type": "stream",
     "text": [
      "Epoch 170, Loss 0.0399\n",
      "Training Accuracy: 0.9578, Testing Accuracy: 0.9632\n",
      "\n"
     ]
    },
    {
     "name": "stdout",
     "output_type": "stream",
     "text": [
      "Epoch 180, Loss 0.0393\n",
      "Training Accuracy: 0.9580, Testing Accuracy: 0.9632\n",
      "\n"
     ]
    },
    {
     "name": "stdout",
     "output_type": "stream",
     "text": [
      "Epoch 190, Loss 0.0388\n",
      "Training Accuracy: 0.9583, Testing Accuracy: 0.9632\n",
      "\n"
     ]
    },
    {
     "name": "stdout",
     "output_type": "stream",
     "text": [
      "Epoch 200, Loss 0.0383\n",
      "Training Accuracy: 0.9589, Testing Accuracy: 0.9637\n",
      "\n"
     ]
    },
    {
     "name": "stdout",
     "output_type": "stream",
     "text": [
      "Epoch 210, Loss 0.0379\n",
      "Training Accuracy: 0.9596, Testing Accuracy: 0.9642\n",
      "\n"
     ]
    },
    {
     "name": "stdout",
     "output_type": "stream",
     "text": [
      "Epoch 220, Loss 0.0375\n",
      "Training Accuracy: 0.9599, Testing Accuracy: 0.9652\n",
      "\n"
     ]
    },
    {
     "name": "stdout",
     "output_type": "stream",
     "text": [
      "Epoch 230, Loss 0.0371\n",
      "Training Accuracy: 0.9600, Testing Accuracy: 0.9652\n",
      "\n"
     ]
    },
    {
     "name": "stdout",
     "output_type": "stream",
     "text": [
      "Epoch 240, Loss 0.0368\n",
      "Training Accuracy: 0.9607, Testing Accuracy: 0.9657\n",
      "\n"
     ]
    },
    {
     "data": {
      "text/plain": [
       "0.026940403101557837"
      ]
     },
     "execution_count": 23,
     "metadata": {},
     "output_type": "execute_result"
    }
   ],
   "source": [
    "lr_learner.train_loop(dl)"
   ]
  },
  {
   "cell_type": "code",
   "execution_count": 24,
   "id": "ca410940",
   "metadata": {
    "execution": {
     "iopub.execute_input": "2022-09-18T20:12:17.656146Z",
     "iopub.status.busy": "2022-09-18T20:12:17.655567Z",
     "iopub.status.idle": "2022-09-18T20:12:17.881766Z",
     "shell.execute_reply": "2022-09-18T20:12:17.882203Z"
    },
    "papermill": {
     "duration": 0.280932,
     "end_time": "2022-09-18T20:12:17.882352",
     "exception": false,
     "start_time": "2022-09-18T20:12:17.601420",
     "status": "completed"
    },
    "tags": []
   },
   "outputs": [
    {
     "data": {
      "text/plain": [
       "<matplotlib.legend.Legend at 0x7f3a190d9438>"
      ]
     },
     "execution_count": 24,
     "metadata": {},
     "output_type": "execute_result"
    },
    {
     "data": {
      "image/png": "[encoded data removed]",
      "text/plain": [
       "<Figure size 1080x720 with 1 Axes>"
      ]
     },
     "metadata": {
      "needs_background": "light"
     },
     "output_type": "display_data"
    }
   ],
   "source": [
    "#comparing the results of NN and LR\n",
    "plt.figure(figsize=(15,10))\n",
    "\n",
    "# Neural Network plots\n",
    "plt.plot(acc_nn.accuracies, 'r-', label = \"Training Accuracies - NN\")\n",
    "plt.plot(acc_nn.test_accuracies, 'g-', label = \"Testing Accuracies - NN\")\n",
    "\n",
    "# Logistic Regression plots\n",
    "plt.plot(acc_lr.accuracies, 'k-', label = \"Training Accuracies - LR\")\n",
    "plt.plot(acc_lr.test_accuracies, 'b-', label = \"Testing Accuracies - LR\")\n",
    "plt.legend()"
   ]
  },
  {
   "cell_type": "markdown",
   "id": "80dfb35c",
   "metadata": {
    "papermill": {
     "duration": 0.041614,
     "end_time": "2022-09-18T20:12:17.965960",
     "exception": false,
     "start_time": "2022-09-18T20:12:17.924346",
     "status": "completed"
    },
    "tags": []
   },
   "source": [
    "#### Plotting the outputs of this layer of the NN.\n"
   ]
  },
  {
   "cell_type": "code",
   "execution_count": 25,
   "id": "45eb2ff5",
   "metadata": {
    "execution": {
     "iopub.execute_input": "2022-09-18T20:12:18.053375Z",
     "iopub.status.busy": "2022-09-18T20:12:18.052773Z",
     "iopub.status.idle": "2022-09-18T20:12:18.073871Z",
     "shell.execute_reply": "2022-09-18T20:12:18.073379Z"
    },
    "papermill": {
     "duration": 0.066466,
     "end_time": "2022-09-18T20:12:18.073982",
     "exception": false,
     "start_time": "2022-09-18T20:12:18.007516",
     "status": "completed"
    },
    "tags": []
   },
   "outputs": [],
   "source": [
    "new_model = Model(layers[:-2])\n",
    "testing_plot = new_model(testing_data_x)"
   ]
  },
  {
   "cell_type": "code",
   "execution_count": 26,
   "id": "4c0a5485",
   "metadata": {
    "execution": {
     "iopub.execute_input": "2022-09-18T20:12:18.165665Z",
     "iopub.status.busy": "2022-09-18T20:12:18.164148Z",
     "iopub.status.idle": "2022-09-18T20:12:18.353614Z",
     "shell.execute_reply": "2022-09-18T20:12:18.353053Z"
    },
    "papermill": {
     "duration": 0.237874,
     "end_time": "2022-09-18T20:12:18.353747",
     "exception": false,
     "start_time": "2022-09-18T20:12:18.115873",
     "status": "completed"
    },
    "tags": []
   },
   "outputs": [
    {
     "data": {
      "text/plain": [
       "Text(0.5, 1.0, 'Outputs')"
      ]
     },
     "execution_count": 26,
     "metadata": {},
     "output_type": "execute_result"
    },
    {
     "data": {
      "image/png": "[encoded data removed]",
      "text/plain": [
       "<Figure size 576x504 with 1 Axes>"
      ]
     },
     "metadata": {
      "needs_background": "light"
     },
     "output_type": "display_data"
    }
   ],
   "source": [
    "# Plotting the scatter plot of points and color coding by class\n",
    "plt.figure(figsize=(8,7))\n",
    "plt.scatter(testing_plot[:,0], testing_plot[:,1], alpha = 0.1, c = y_test.ravel());\n",
    "plt.title('Outputs')"
   ]
  },
  {
   "cell_type": "markdown",
   "id": "a74fcf8f",
   "metadata": {
    "papermill": {
     "duration": 0.043699,
     "end_time": "2022-09-18T20:12:18.441722",
     "exception": false,
     "start_time": "2022-09-18T20:12:18.398023",
     "status": "completed"
    },
    "tags": []
   },
   "source": [
    "Probability contours"
   ]
  },
  {
   "cell_type": "code",
   "execution_count": 27,
   "id": "d0afc8e3",
   "metadata": {
    "execution": {
     "iopub.execute_input": "2022-09-18T20:12:18.543872Z",
     "iopub.status.busy": "2022-09-18T20:12:18.538355Z",
     "iopub.status.idle": "2022-09-18T20:12:18.548974Z",
     "shell.execute_reply": "2022-09-18T20:12:18.549420Z"
    },
    "papermill": {
     "duration": 0.063811,
     "end_time": "2022-09-18T20:12:18.549546",
     "exception": false,
     "start_time": "2022-09-18T20:12:18.485735",
     "status": "completed"
    },
    "tags": []
   },
   "outputs": [],
   "source": [
    "model_prob = Model(layers[-2:]) "
   ]
  },
  {
   "cell_type": "code",
   "execution_count": 28,
   "id": "9b96e238",
   "metadata": {
    "execution": {
     "iopub.execute_input": "2022-09-18T20:12:18.641969Z",
     "iopub.status.busy": "2022-09-18T20:12:18.641011Z",
     "iopub.status.idle": "2022-09-18T20:12:18.657822Z",
     "shell.execute_reply": "2022-09-18T20:12:18.657261Z"
    },
    "papermill": {
     "duration": 0.064736,
     "end_time": "2022-09-18T20:12:18.657926",
     "exception": false,
     "start_time": "2022-09-18T20:12:18.593190",
     "status": "completed"
    },
    "tags": []
   },
   "outputs": [],
   "source": [
    "#creating the x and y ranges according to the above generated plot.\n",
    "x_range = np.linspace(-4, 1, 100) \n",
    "y_range = np.linspace(-6, 6, 100) \n",
    "x_grid, y_grid = np.meshgrid(x_range, y_range) # x_grid and y_grig are of size 100 X 100\n",
    "\n",
    "# converting x_grid and y_grid to continuous arrays\n",
    "x_gridflat = np.ravel(x_grid)\n",
    "y_gridflat = np.ravel(y_grid)\n",
    "\n",
    "# The last layer of the current model takes two columns as input. Hence transpose of np.vstack() is required.\n",
    "X = np.vstack((x_gridflat, y_gridflat)).T\n",
    "\n",
    "prob_contour = model_prob(X).reshape(100,100) "
   ]
  },
  {
   "cell_type": "code",
   "execution_count": 29,
   "id": "da72499a",
   "metadata": {
    "execution": {
     "iopub.execute_input": "2022-09-18T20:12:18.790026Z",
     "iopub.status.busy": "2022-09-18T20:12:18.789118Z",
     "iopub.status.idle": "2022-09-18T20:12:19.021382Z",
     "shell.execute_reply": "2022-09-18T20:12:19.021849Z"
    },
    "papermill": {
     "duration": 0.290761,
     "end_time": "2022-09-18T20:12:19.021994",
     "exception": false,
     "start_time": "2022-09-18T20:12:18.731233",
     "status": "completed"
    },
    "tags": []
   },
   "outputs": [
    {
     "data": {
      "image/png": "[encoded data removed]",
      "text/plain": [
       "<Figure size 720x648 with 1 Axes>"
      ]
     },
     "metadata": {
      "needs_background": "light"
     },
     "output_type": "display_data"
    }
   ],
   "source": [
    "plt.figure(figsize=(10,9))\n",
    "plt.scatter(testing_plot[:,0], testing_plot[:,1], alpha = 0.1, c = y_test.ravel())\n",
    "contours = plt.contour(x_grid,y_grid,prob_contour)\n",
    "plt.title('Probability Contours')\n",
    "plt.clabel(contours, inline = True );"
   ]
  },
  {
   "cell_type": "code",
   "execution_count": null,
   "id": "e81b4ac7",
   "metadata": {
    "papermill": {
     "duration": 0.048558,
     "end_time": "2022-09-18T20:12:19.117277",
     "exception": false,
     "start_time": "2022-09-18T20:12:19.068719",
     "status": "completed"
    },
    "tags": []
   },
   "outputs": [],
   "source": []
  }
 ],
 "metadata": {
  "kernelspec": {
   "display_name": "Python 3",
   "language": "python",
   "name": "python3"
  },
  "language_info": {
   "codemirror_mode": {
    "name": "ipython",
    "version": 3
   },
   "file_extension": ".py",
   "mimetype": "text/x-python",
   "name": "python",
   "nbconvert_exporter": "python",
   "pygments_lexer": "ipython3",
   "version": "3.6.15"
  },
  "papermill": {
   "default_parameters": {},
   "duration": 97.303592,
   "end_time": "2022-09-18T20:12:19.582450",
   "environment_variables": {},
   "exception": null,
   "input_path": "2020-08-11-part2.ipynb",
   "output_path": "2020-08-11-part2.ipynb",
   "parameters": {},
   "start_time": "2022-09-18T20:10:42.278858",
   "version": "2.3.3"
  }
 },
 "nbformat": 4,
 "nbformat_minor": 5
}