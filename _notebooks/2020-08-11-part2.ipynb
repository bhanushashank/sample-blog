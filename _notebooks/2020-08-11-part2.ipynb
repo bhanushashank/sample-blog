{
 "cells": [
  {
   "cell_type": "markdown",
   "id": "98380cd3",
   "metadata": {
    "papermill": {
     "duration": 0.034593,
     "end_time": "2022-04-02T20:10:09.997810",
     "exception": false,
     "start_time": "2022-04-02T20:10:09.963217",
     "status": "completed"
    },
    "tags": []
   },
   "source": [
    "# Distinguish Your Own Digits (DYOD)"
   ]
  },
  {
   "cell_type": "markdown",
   "id": "ef31240d",
   "metadata": {
    "papermill": {
     "duration": 0.038169,
     "end_time": "2022-04-02T20:10:10.072233",
     "exception": false,
     "start_time": "2022-04-02T20:10:10.034064",
     "status": "completed"
    },
    "tags": []
   },
   "source": [
    "You are going to write a classifier that distinguishes between the number 3 and number 8."
   ]
  },
  {
   "cell_type": "code",
   "execution_count": 1,
   "id": "b15c8646",
   "metadata": {
    "execution": {
     "iopub.execute_input": "2022-04-02T20:10:10.147422Z",
     "iopub.status.busy": "2022-04-02T20:10:10.146770Z",
     "iopub.status.idle": "2022-04-02T20:10:10.159436Z",
     "shell.execute_reply": "2022-04-02T20:10:10.158898Z"
    },
    "papermill": {
     "duration": 0.05443,
     "end_time": "2022-04-02T20:10:10.159596",
     "exception": false,
     "start_time": "2022-04-02T20:10:10.105166",
     "status": "completed"
    },
    "tags": []
   },
   "outputs": [],
   "source": [
    "%load_ext autoreload\n",
    "%autoreload 2"
   ]
  },
  {
   "cell_type": "code",
   "execution_count": 2,
   "id": "22ef38dc",
   "metadata": {
    "execution": {
     "iopub.execute_input": "2022-04-02T20:10:10.232878Z",
     "iopub.status.busy": "2022-04-02T20:10:10.232243Z",
     "iopub.status.idle": "2022-04-02T20:10:11.042448Z",
     "shell.execute_reply": "2022-04-02T20:10:11.041898Z"
    },
    "papermill": {
     "duration": 0.853608,
     "end_time": "2022-04-02T20:10:11.042591",
     "exception": false,
     "start_time": "2022-04-02T20:10:10.188983",
     "status": "completed"
    },
    "tags": []
   },
   "outputs": [],
   "source": [
    "%matplotlib inline\n",
    "import numpy as np\n",
    "import matplotlib.pyplot as plt\n",
    "import pandas as pd"
   ]
  },
  {
   "cell_type": "markdown",
   "id": "ba036198",
   "metadata": {
    "papermill": {
     "duration": 0.029485,
     "end_time": "2022-04-02T20:10:11.102201",
     "exception": false,
     "start_time": "2022-04-02T20:10:11.072716",
     "status": "completed"
    },
    "tags": []
   },
   "source": [
    "From the command line run `pip install mnist`. This is a library that will help you bring down the mnist dataset. If you run this from a notebook, you need to put  `!pip install mnist` in a cell by itself."
   ]
  },
  {
   "cell_type": "code",
   "execution_count": 3,
   "id": "bb6ad8a1",
   "metadata": {
    "execution": {
     "iopub.execute_input": "2022-04-02T20:10:11.170187Z",
     "iopub.status.busy": "2022-04-02T20:10:11.169557Z",
     "iopub.status.idle": "2022-04-02T20:10:14.092641Z",
     "shell.execute_reply": "2022-04-02T20:10:14.093222Z"
    },
    "papermill": {
     "duration": 2.959404,
     "end_time": "2022-04-02T20:10:14.093395",
     "exception": false,
     "start_time": "2022-04-02T20:10:11.133991",
     "status": "completed"
    },
    "tags": []
   },
   "outputs": [
    {
     "name": "stdout",
     "output_type": "stream",
     "text": [
      "Collecting mnist\r\n"
     ]
    },
    {
     "name": "stdout",
     "output_type": "stream",
     "text": [
      "  Downloading mnist-0.2.2-py2.py3-none-any.whl (3.5 kB)\r\n",
      "Requirement already satisfied: numpy in /opt/hostedtoolcache/Python/3.6.15/x64/lib/python3.6/site-packages (from mnist) (1.19.5)\r\n"
     ]
    },
    {
     "name": "stdout",
     "output_type": "stream",
     "text": [
      "Installing collected packages: mnist\r\n"
     ]
    },
    {
     "name": "stdout",
     "output_type": "stream",
     "text": [
      "Successfully installed mnist-0.2.2\r\n"
     ]
    }
   ],
   "source": [
    "!pip install mnist"
   ]
  },
  {
   "cell_type": "markdown",
   "id": "69df9c9a",
   "metadata": {
    "papermill": {
     "duration": 0.03371,
     "end_time": "2022-04-02T20:10:14.158922",
     "exception": false,
     "start_time": "2022-04-02T20:10:14.125212",
     "status": "completed"
    },
    "tags": []
   },
   "source": [
    "## Preparing the Data"
   ]
  },
  {
   "cell_type": "code",
   "execution_count": 4,
   "id": "7f69d806",
   "metadata": {
    "execution": {
     "iopub.execute_input": "2022-04-02T20:10:14.229959Z",
     "iopub.status.busy": "2022-04-02T20:10:14.228017Z",
     "iopub.status.idle": "2022-04-02T20:10:14.246316Z",
     "shell.execute_reply": "2022-04-02T20:10:14.245609Z"
    },
    "papermill": {
     "duration": 0.056653,
     "end_time": "2022-04-02T20:10:14.246450",
     "exception": false,
     "start_time": "2022-04-02T20:10:14.189797",
     "status": "completed"
    },
    "tags": []
   },
   "outputs": [],
   "source": [
    "import mnist"
   ]
  },
  {
   "cell_type": "code",
   "execution_count": 5,
   "id": "a411e44f",
   "metadata": {
    "execution": {
     "iopub.execute_input": "2022-04-02T20:10:14.317925Z",
     "iopub.status.busy": "2022-04-02T20:10:14.313706Z",
     "iopub.status.idle": "2022-04-02T20:10:14.893709Z",
     "shell.execute_reply": "2022-04-02T20:10:14.893152Z"
    },
    "papermill": {
     "duration": 0.616465,
     "end_time": "2022-04-02T20:10:14.893855",
     "exception": false,
     "start_time": "2022-04-02T20:10:14.277390",
     "status": "completed"
    },
    "tags": []
   },
   "outputs": [],
   "source": [
    "train_images = mnist.train_images()\n",
    "train_labels = mnist.train_labels()"
   ]
  },
  {
   "cell_type": "code",
   "execution_count": 6,
   "id": "dceab3a5",
   "metadata": {
    "execution": {
     "iopub.execute_input": "2022-04-02T20:10:14.965918Z",
     "iopub.status.busy": "2022-04-02T20:10:14.965270Z",
     "iopub.status.idle": "2022-04-02T20:10:14.982765Z",
     "shell.execute_reply": "2022-04-02T20:10:14.982238Z"
    },
    "papermill": {
     "duration": 0.058015,
     "end_time": "2022-04-02T20:10:14.982896",
     "exception": false,
     "start_time": "2022-04-02T20:10:14.924881",
     "status": "completed"
    },
    "tags": []
   },
   "outputs": [
    {
     "data": {
      "text/plain": [
       "((60000, 28, 28), (60000,))"
      ]
     },
     "execution_count": 6,
     "metadata": {},
     "output_type": "execute_result"
    }
   ],
   "source": [
    "train_images.shape, train_labels.shape"
   ]
  },
  {
   "cell_type": "code",
   "execution_count": 7,
   "id": "f50dc2bb",
   "metadata": {
    "execution": {
     "iopub.execute_input": "2022-04-02T20:10:15.050798Z",
     "iopub.status.busy": "2022-04-02T20:10:15.049918Z",
     "iopub.status.idle": "2022-04-02T20:10:15.196973Z",
     "shell.execute_reply": "2022-04-02T20:10:15.196017Z"
    },
    "papermill": {
     "duration": 0.182975,
     "end_time": "2022-04-02T20:10:15.197202",
     "exception": false,
     "start_time": "2022-04-02T20:10:15.014227",
     "status": "completed"
    },
    "tags": []
   },
   "outputs": [],
   "source": [
    "test_images = mnist.test_images()\n",
    "test_labels = mnist.test_labels()"
   ]
  },
  {
   "cell_type": "code",
   "execution_count": 8,
   "id": "fc38cf1b",
   "metadata": {
    "execution": {
     "iopub.execute_input": "2022-04-02T20:10:15.265326Z",
     "iopub.status.busy": "2022-04-02T20:10:15.264487Z",
     "iopub.status.idle": "2022-04-02T20:10:15.282213Z",
     "shell.execute_reply": "2022-04-02T20:10:15.281712Z"
    },
    "papermill": {
     "duration": 0.053715,
     "end_time": "2022-04-02T20:10:15.282350",
     "exception": false,
     "start_time": "2022-04-02T20:10:15.228635",
     "status": "completed"
    },
    "tags": []
   },
   "outputs": [
    {
     "data": {
      "text/plain": [
       "((10000, 28, 28), (10000,))"
      ]
     },
     "execution_count": 8,
     "metadata": {},
     "output_type": "execute_result"
    }
   ],
   "source": [
    "test_images.shape, test_labels.shape"
   ]
  },
  {
   "cell_type": "code",
   "execution_count": 9,
   "id": "f9ed8fe0",
   "metadata": {
    "execution": {
     "iopub.execute_input": "2022-04-02T20:10:15.352457Z",
     "iopub.status.busy": "2022-04-02T20:10:15.351835Z",
     "iopub.status.idle": "2022-04-02T20:10:15.532722Z",
     "shell.execute_reply": "2022-04-02T20:10:15.531747Z"
    },
    "papermill": {
     "duration": 0.219358,
     "end_time": "2022-04-02T20:10:15.532871",
     "exception": false,
     "start_time": "2022-04-02T20:10:15.313513",
     "status": "completed"
    },
    "tags": []
   },
   "outputs": [
    {
     "name": "stdout",
     "output_type": "stream",
     "text": [
      "2\n"
     ]
    },
    {
     "data": {
      "text/plain": [
       "<matplotlib.image.AxesImage at 0x7feaad3645c0>"
      ]
     },
     "execution_count": 9,
     "metadata": {},
     "output_type": "execute_result"
    },
    {
     "data": {
      "image/png": "[encoded data removed]",
      "text/plain": [
       "<Figure size 432x288 with 1 Axes>"
      ]
     },
     "metadata": {
      "needs_background": "light"
     },
     "output_type": "display_data"
    }
   ],
   "source": [
    "image_index = 7776 # You may select anything up to 60,000\n",
    "print(train_labels[image_index]) \n",
    "plt.imshow(train_images[image_index], cmap='Greys')"
   ]
  },
  {
   "cell_type": "markdown",
   "id": "a8d2388d",
   "metadata": {
    "papermill": {
     "duration": 0.032087,
     "end_time": "2022-04-02T20:10:15.598293",
     "exception": false,
     "start_time": "2022-04-02T20:10:15.566206",
     "status": "completed"
    },
    "tags": []
   },
   "source": [
    "## Filter data to get 3 and 8 out"
   ]
  },
  {
   "cell_type": "code",
   "execution_count": 10,
   "id": "776f7fc7",
   "metadata": {
    "execution": {
     "iopub.execute_input": "2022-04-02T20:10:15.671877Z",
     "iopub.status.busy": "2022-04-02T20:10:15.668063Z",
     "iopub.status.idle": "2022-04-02T20:10:15.692818Z",
     "shell.execute_reply": "2022-04-02T20:10:15.692283Z"
    },
    "papermill": {
     "duration": 0.061511,
     "end_time": "2022-04-02T20:10:15.692987",
     "exception": false,
     "start_time": "2022-04-02T20:10:15.631476",
     "status": "completed"
    },
    "tags": []
   },
   "outputs": [],
   "source": [
    "train_filter = np.where((train_labels == 3 ) | (train_labels == 8))\n",
    "test_filter = np.where((test_labels == 3) | (test_labels == 8))\n",
    "X_train, y_train = train_images[train_filter], train_labels[train_filter]\n",
    "X_test, y_test = test_images[test_filter], test_labels[test_filter]"
   ]
  },
  {
   "cell_type": "markdown",
   "id": "948f0b7e",
   "metadata": {
    "papermill": {
     "duration": 0.043277,
     "end_time": "2022-04-02T20:10:15.772522",
     "exception": false,
     "start_time": "2022-04-02T20:10:15.729245",
     "status": "completed"
    },
    "tags": []
   },
   "source": [
    "We normalize the pizel values in the 0 to 1 range"
   ]
  },
  {
   "cell_type": "code",
   "execution_count": 11,
   "id": "ee4c2166",
   "metadata": {
    "execution": {
     "iopub.execute_input": "2022-04-02T20:10:15.845596Z",
     "iopub.status.busy": "2022-04-02T20:10:15.844950Z",
     "iopub.status.idle": "2022-04-02T20:10:15.906568Z",
     "shell.execute_reply": "2022-04-02T20:10:15.905676Z"
    },
    "papermill": {
     "duration": 0.098315,
     "end_time": "2022-04-02T20:10:15.906793",
     "exception": false,
     "start_time": "2022-04-02T20:10:15.808478",
     "status": "completed"
    },
    "tags": []
   },
   "outputs": [],
   "source": [
    "X_train = X_train/255.\n",
    "X_test = X_test/255."
   ]
  },
  {
   "cell_type": "markdown",
   "id": "ddcf4fab",
   "metadata": {
    "papermill": {
     "duration": 0.032169,
     "end_time": "2022-04-02T20:10:15.973460",
     "exception": false,
     "start_time": "2022-04-02T20:10:15.941291",
     "status": "completed"
    },
    "tags": []
   },
   "source": [
    "And setup the labels as 1 (when the digit is 3) and 0 (when the digit is 8)"
   ]
  },
  {
   "cell_type": "code",
   "execution_count": 12,
   "id": "7dc908f2",
   "metadata": {
    "execution": {
     "iopub.execute_input": "2022-04-02T20:10:16.042271Z",
     "iopub.status.busy": "2022-04-02T20:10:16.041644Z",
     "iopub.status.idle": "2022-04-02T20:10:16.060976Z",
     "shell.execute_reply": "2022-04-02T20:10:16.060409Z"
    },
    "papermill": {
     "duration": 0.055655,
     "end_time": "2022-04-02T20:10:16.061124",
     "exception": false,
     "start_time": "2022-04-02T20:10:16.005469",
     "status": "completed"
    },
    "tags": []
   },
   "outputs": [],
   "source": [
    "y_train = 1*(y_train==3)\n",
    "y_test = 1*(y_test==3)"
   ]
  },
  {
   "cell_type": "code",
   "execution_count": 13,
   "id": "01e4e969",
   "metadata": {
    "execution": {
     "iopub.execute_input": "2022-04-02T20:10:16.134373Z",
     "iopub.status.busy": "2022-04-02T20:10:16.133751Z",
     "iopub.status.idle": "2022-04-02T20:10:16.149251Z",
     "shell.execute_reply": "2022-04-02T20:10:16.149759Z"
    },
    "papermill": {
     "duration": 0.055006,
     "end_time": "2022-04-02T20:10:16.149921",
     "exception": false,
     "start_time": "2022-04-02T20:10:16.094915",
     "status": "completed"
    },
    "tags": []
   },
   "outputs": [
    {
     "data": {
      "text/plain": [
       "((11982, 28, 28), (1984, 28, 28))"
      ]
     },
     "execution_count": 13,
     "metadata": {},
     "output_type": "execute_result"
    }
   ],
   "source": [
    "X_train.shape, X_test.shape"
   ]
  },
  {
   "cell_type": "markdown",
   "id": "5ccf3f85",
   "metadata": {
    "papermill": {
     "duration": 0.034986,
     "end_time": "2022-04-02T20:10:16.221460",
     "exception": false,
     "start_time": "2022-04-02T20:10:16.186474",
     "status": "completed"
    },
    "tags": []
   },
   "source": [
    "We reshape the data to flatten the image pixels into a set of features or co-variates:"
   ]
  },
  {
   "cell_type": "code",
   "execution_count": 14,
   "id": "5286a4a3",
   "metadata": {
    "execution": {
     "iopub.execute_input": "2022-04-02T20:10:16.295267Z",
     "iopub.status.busy": "2022-04-02T20:10:16.294617Z",
     "iopub.status.idle": "2022-04-02T20:10:16.310969Z",
     "shell.execute_reply": "2022-04-02T20:10:16.311459Z"
    },
    "papermill": {
     "duration": 0.057437,
     "end_time": "2022-04-02T20:10:16.311625",
     "exception": false,
     "start_time": "2022-04-02T20:10:16.254188",
     "status": "completed"
    },
    "tags": []
   },
   "outputs": [
    {
     "data": {
      "text/plain": [
       "((11982, 784), (1984, 784))"
      ]
     },
     "execution_count": 14,
     "metadata": {},
     "output_type": "execute_result"
    }
   ],
   "source": [
    "X_train = X_train.reshape(X_train.shape[0], -1)\n",
    "X_test = X_test.reshape(X_test.shape[0], -1)\n",
    "X_train.shape, X_test.shape"
   ]
  },
  {
   "cell_type": "code",
   "execution_count": 15,
   "id": "73c5f88a",
   "metadata": {
    "execution": {
     "iopub.execute_input": "2022-04-02T20:10:16.387537Z",
     "iopub.status.busy": "2022-04-02T20:10:16.386900Z",
     "iopub.status.idle": "2022-04-02T20:10:16.408179Z",
     "shell.execute_reply": "2022-04-02T20:10:16.407614Z"
    },
    "papermill": {
     "duration": 0.063926,
     "end_time": "2022-04-02T20:10:16.408314",
     "exception": false,
     "start_time": "2022-04-02T20:10:16.344388",
     "status": "completed"
    },
    "tags": []
   },
   "outputs": [],
   "source": [
    "#Impoting functions from 'Kudzu'\n",
    "from kudzu.model import Model\n",
    "from kudzu.train import Learner\n",
    "from kudzu.optim import GD\n",
    "from kudzu.data import Data, Sampler,Dataloader\n",
    "\n",
    "from kudzu.callbacks import AccCallback\n",
    "from kudzu.callbacks import ClfCallback\n",
    "\n",
    "from kudzu.loss import MSE\n",
    "\n",
    "from kudzu.layer import Sigmoid,Relu\n",
    "from kudzu.layer import Affine"
   ]
  },
  {
   "cell_type": "markdown",
   "id": "bc01172a",
   "metadata": {
    "papermill": {
     "duration": 0.038987,
     "end_time": "2022-04-02T20:10:16.481705",
     "exception": false,
     "start_time": "2022-04-02T20:10:16.442718",
     "status": "completed"
    },
    "tags": []
   },
   "source": [
    "### Let us create a `Config` class, to store important parameters. \n",
    "This class essentially plays the role of a dictionary."
   ]
  },
  {
   "cell_type": "code",
   "execution_count": 16,
   "id": "978281aa",
   "metadata": {
    "execution": {
     "iopub.execute_input": "2022-04-02T20:10:16.557791Z",
     "iopub.status.busy": "2022-04-02T20:10:16.557159Z",
     "iopub.status.idle": "2022-04-02T20:10:16.573300Z",
     "shell.execute_reply": "2022-04-02T20:10:16.572753Z"
    },
    "papermill": {
     "duration": 0.058723,
     "end_time": "2022-04-02T20:10:16.573440",
     "exception": false,
     "start_time": "2022-04-02T20:10:16.514717",
     "status": "completed"
    },
    "tags": []
   },
   "outputs": [],
   "source": [
    "class Config:\n",
    "    pass\n",
    "config = Config()\n",
    "config.lr = 0.001\n",
    "config.num_epochs = 250\n",
    "config.bs = 50"
   ]
  },
  {
   "cell_type": "markdown",
   "id": "1385fa59",
   "metadata": {
    "papermill": {
     "duration": 0.032447,
     "end_time": "2022-04-02T20:10:16.638594",
     "exception": false,
     "start_time": "2022-04-02T20:10:16.606147",
     "status": "completed"
    },
    "tags": []
   },
   "source": [
    "### Running Models with the Training data\n",
    "Details about the network layers:\n",
    "- A first affine layer has 784 inputs and does 100 affine transforms. These are followed by a Relu\n",
    "- A second affine layer has 100 inputs from the 100 activations of the past layer, and does 100 affine transforms. These are followed by a Relu\n",
    "- A third affine layer has 100 activations and does 2 affine transformations to create an embedding for visualization. There is no non-linearity here.\n",
    "- A final \"logistic regression\" which has an affine transform from 2 inputs to 1 output, which is squeezed through a sigmoid.\n"
   ]
  },
  {
   "cell_type": "code",
   "execution_count": 17,
   "id": "2b9c66db",
   "metadata": {
    "execution": {
     "iopub.execute_input": "2022-04-02T20:10:16.716064Z",
     "iopub.status.busy": "2022-04-02T20:10:16.715424Z",
     "iopub.status.idle": "2022-04-02T20:10:16.732833Z",
     "shell.execute_reply": "2022-04-02T20:10:16.732315Z"
    },
    "papermill": {
     "duration": 0.056249,
     "end_time": "2022-04-02T20:10:16.732998",
     "exception": false,
     "start_time": "2022-04-02T20:10:16.676749",
     "status": "completed"
    },
    "tags": []
   },
   "outputs": [],
   "source": [
    "data = Data(X_train, y_train.reshape(-1,1))\n",
    "sampler = Sampler(data, config.bs, shuffle=True)\n",
    "\n",
    "dl = Dataloader(data, sampler)\n",
    "\n",
    "opt = GD(config.lr)\n",
    "loss = MSE()"
   ]
  },
  {
   "cell_type": "code",
   "execution_count": 18,
   "id": "b275e4c2",
   "metadata": {
    "execution": {
     "iopub.execute_input": "2022-04-02T20:10:16.804620Z",
     "iopub.status.busy": "2022-04-02T20:10:16.803996Z",
     "iopub.status.idle": "2022-04-02T20:10:16.818923Z",
     "shell.execute_reply": "2022-04-02T20:10:16.818383Z"
    },
    "papermill": {
     "duration": 0.05298,
     "end_time": "2022-04-02T20:10:16.819057",
     "exception": false,
     "start_time": "2022-04-02T20:10:16.766077",
     "status": "completed"
    },
    "tags": []
   },
   "outputs": [],
   "source": [
    "training_data_x = X_train\n",
    "testing_data_x = X_test\n",
    "training_data_y = y_train.reshape(-1,1)\n",
    "testing_data_y = y_test.reshape(-1,1)"
   ]
  },
  {
   "cell_type": "code",
   "execution_count": 19,
   "id": "76951160",
   "metadata": {
    "execution": {
     "iopub.execute_input": "2022-04-02T20:10:16.894396Z",
     "iopub.status.busy": "2022-04-02T20:10:16.893649Z",
     "iopub.status.idle": "2022-04-02T20:10:16.913634Z",
     "shell.execute_reply": "2022-04-02T20:10:16.914260Z"
    },
    "papermill": {
     "duration": 0.061933,
     "end_time": "2022-04-02T20:10:16.914426",
     "exception": false,
     "start_time": "2022-04-02T20:10:16.852493",
     "status": "completed"
    },
    "tags": []
   },
   "outputs": [
    {
     "name": "stdout",
     "output_type": "stream",
     "text": [
      "xavier\n",
      "xavier\n",
      "xavier\n",
      "xavier\n",
      "xavier\n"
     ]
    }
   ],
   "source": [
    "layers = [Affine(\"first\", 784, 100), Relu(\"first\"), Affine(\"second\", 100, 100), Relu(\"second\"), Affine(\"third\", 100, 2), Affine(\"last\", 2, 1), Sigmoid(\"last\")]\n",
    "model_nn = Model(layers)\n",
    "model_lr = Model([Affine(\"logits\", 784, 1), Sigmoid(\"sigmoid\")])"
   ]
  },
  {
   "cell_type": "code",
   "execution_count": 20,
   "id": "6eede77a",
   "metadata": {
    "execution": {
     "iopub.execute_input": "2022-04-02T20:10:16.994057Z",
     "iopub.status.busy": "2022-04-02T20:10:16.993417Z",
     "iopub.status.idle": "2022-04-02T20:10:17.008517Z",
     "shell.execute_reply": "2022-04-02T20:10:17.008009Z"
    },
    "papermill": {
     "duration": 0.055642,
     "end_time": "2022-04-02T20:10:17.008650",
     "exception": false,
     "start_time": "2022-04-02T20:10:16.953008",
     "status": "completed"
    },
    "tags": []
   },
   "outputs": [],
   "source": [
    "nn_learner = Learner(loss, model_nn, opt, config.num_epochs)\n",
    "acc_nn = ClfCallback(nn_learner, config.bs, training_data_x , testing_data_x, training_data_y, testing_data_y)\n",
    "nn_learner.set_callbacks([acc_nn])"
   ]
  },
  {
   "cell_type": "code",
   "execution_count": 21,
   "id": "877b6cc7",
   "metadata": {
    "execution": {
     "iopub.execute_input": "2022-04-02T20:10:17.089683Z",
     "iopub.status.busy": "2022-04-02T20:10:17.089046Z",
     "iopub.status.idle": "2022-04-02T20:10:17.103675Z",
     "shell.execute_reply": "2022-04-02T20:10:17.103165Z"
    },
    "papermill": {
     "duration": 0.053713,
     "end_time": "2022-04-02T20:10:17.103811",
     "exception": false,
     "start_time": "2022-04-02T20:10:17.050098",
     "status": "completed"
    },
    "tags": []
   },
   "outputs": [],
   "source": [
    "lr_learner = Learner(loss, model_lr, opt, config.num_epochs)\n",
    "acc_lr = ClfCallback(lr_learner, config.bs, training_data_x , testing_data_x, training_data_y, testing_data_y)\n",
    "lr_learner.set_callbacks([acc_lr])"
   ]
  },
  {
   "cell_type": "code",
   "execution_count": 22,
   "id": "d9b133c3",
   "metadata": {
    "execution": {
     "iopub.execute_input": "2022-04-02T20:10:17.176961Z",
     "iopub.status.busy": "2022-04-02T20:10:17.176303Z",
     "iopub.status.idle": "2022-04-02T20:11:47.802929Z",
     "shell.execute_reply": "2022-04-02T20:11:47.803791Z"
    },
    "papermill": {
     "duration": 90.665295,
     "end_time": "2022-04-02T20:11:47.803961",
     "exception": false,
     "start_time": "2022-04-02T20:10:17.138666",
     "status": "completed"
    },
    "tags": []
   },
   "outputs": [
    {
     "name": "stdout",
     "output_type": "stream",
     "text": [
      "Epoch 0, Loss 0.2264\n",
      "Training Accuracy: 0.7441, Testing Accuracy: 0.7495\n",
      "\n"
     ]
    },
    {
     "name": "stdout",
     "output_type": "stream",
     "text": [
      "Epoch 10, Loss 0.0638\n",
      "Training Accuracy: 0.9312, Testing Accuracy: 0.9466\n",
      "\n"
     ]
    },
    {
     "name": "stdout",
     "output_type": "stream",
     "text": [
      "Epoch 20, Loss 0.0434\n",
      "Training Accuracy: 0.9528, Testing Accuracy: 0.9632\n",
      "\n"
     ]
    },
    {
     "name": "stdout",
     "output_type": "stream",
     "text": [
      "Epoch 30, Loss 0.0359\n",
      "Training Accuracy: 0.9599, Testing Accuracy: 0.9698\n",
      "\n"
     ]
    },
    {
     "name": "stdout",
     "output_type": "stream",
     "text": [
      "Epoch 40, Loss 0.032\n",
      "Training Accuracy: 0.9635, Testing Accuracy: 0.9703\n",
      "\n"
     ]
    },
    {
     "name": "stdout",
     "output_type": "stream",
     "text": [
      "Epoch 50, Loss 0.0294\n",
      "Training Accuracy: 0.9661, Testing Accuracy: 0.9703\n",
      "\n"
     ]
    },
    {
     "name": "stdout",
     "output_type": "stream",
     "text": [
      "Epoch 60, Loss 0.0276\n",
      "Training Accuracy: 0.9680, Testing Accuracy: 0.9713\n",
      "\n"
     ]
    },
    {
     "name": "stdout",
     "output_type": "stream",
     "text": [
      "Epoch 70, Loss 0.0261\n",
      "Training Accuracy: 0.9698, Testing Accuracy: 0.9718\n",
      "\n"
     ]
    },
    {
     "name": "stdout",
     "output_type": "stream",
     "text": [
      "Epoch 80, Loss 0.025\n",
      "Training Accuracy: 0.9710, Testing Accuracy: 0.9733\n",
      "\n"
     ]
    },
    {
     "name": "stdout",
     "output_type": "stream",
     "text": [
      "Epoch 90, Loss 0.024\n",
      "Training Accuracy: 0.9716, Testing Accuracy: 0.9733\n",
      "\n"
     ]
    },
    {
     "name": "stdout",
     "output_type": "stream",
     "text": [
      "Epoch 100, Loss 0.0231\n",
      "Training Accuracy: 0.9725, Testing Accuracy: 0.9743\n",
      "\n"
     ]
    },
    {
     "name": "stdout",
     "output_type": "stream",
     "text": [
      "Epoch 110, Loss 0.0224\n",
      "Training Accuracy: 0.9738, Testing Accuracy: 0.9743\n",
      "\n"
     ]
    },
    {
     "name": "stdout",
     "output_type": "stream",
     "text": [
      "Epoch 120, Loss 0.0217\n",
      "Training Accuracy: 0.9749, Testing Accuracy: 0.9738\n",
      "\n"
     ]
    },
    {
     "name": "stdout",
     "output_type": "stream",
     "text": [
      "Epoch 130, Loss 0.021\n",
      "Training Accuracy: 0.9755, Testing Accuracy: 0.9738\n",
      "\n"
     ]
    },
    {
     "name": "stdout",
     "output_type": "stream",
     "text": [
      "Epoch 140, Loss 0.0205\n",
      "Training Accuracy: 0.9764, Testing Accuracy: 0.9738\n",
      "\n"
     ]
    },
    {
     "name": "stdout",
     "output_type": "stream",
     "text": [
      "Epoch 150, Loss 0.0199\n",
      "Training Accuracy: 0.9773, Testing Accuracy: 0.9743\n",
      "\n"
     ]
    },
    {
     "name": "stdout",
     "output_type": "stream",
     "text": [
      "Epoch 160, Loss 0.0194\n",
      "Training Accuracy: 0.9781, Testing Accuracy: 0.9743\n",
      "\n"
     ]
    },
    {
     "name": "stdout",
     "output_type": "stream",
     "text": [
      "Epoch 170, Loss 0.0189\n",
      "Training Accuracy: 0.9785, Testing Accuracy: 0.9758\n",
      "\n"
     ]
    },
    {
     "name": "stdout",
     "output_type": "stream",
     "text": [
      "Epoch 180, Loss 0.0185\n",
      "Training Accuracy: 0.9791, Testing Accuracy: 0.9758\n",
      "\n"
     ]
    },
    {
     "name": "stdout",
     "output_type": "stream",
     "text": [
      "Epoch 190, Loss 0.018\n",
      "Training Accuracy: 0.9798, Testing Accuracy: 0.9758\n",
      "\n"
     ]
    },
    {
     "name": "stdout",
     "output_type": "stream",
     "text": [
      "Epoch 200, Loss 0.0176\n",
      "Training Accuracy: 0.9804, Testing Accuracy: 0.9753\n",
      "\n"
     ]
    },
    {
     "name": "stdout",
     "output_type": "stream",
     "text": [
      "Epoch 210, Loss 0.0172\n",
      "Training Accuracy: 0.9807, Testing Accuracy: 0.9753\n",
      "\n"
     ]
    },
    {
     "name": "stdout",
     "output_type": "stream",
     "text": [
      "Epoch 220, Loss 0.0168\n",
      "Training Accuracy: 0.9811, Testing Accuracy: 0.9753\n",
      "\n"
     ]
    },
    {
     "name": "stdout",
     "output_type": "stream",
     "text": [
      "Epoch 230, Loss 0.0165\n",
      "Training Accuracy: 0.9820, Testing Accuracy: 0.9758\n",
      "\n"
     ]
    },
    {
     "name": "stdout",
     "output_type": "stream",
     "text": [
      "Epoch 240, Loss 0.0161\n",
      "Training Accuracy: 0.9830, Testing Accuracy: 0.9768\n",
      "\n"
     ]
    },
    {
     "data": {
      "text/plain": [
       "0.01565141399337955"
      ]
     },
     "execution_count": 22,
     "metadata": {},
     "output_type": "execute_result"
    }
   ],
   "source": [
    "nn_learner.train_loop(dl)"
   ]
  },
  {
   "cell_type": "code",
   "execution_count": 23,
   "id": "e0163366",
   "metadata": {
    "execution": {
     "iopub.execute_input": "2022-04-02T20:11:47.894895Z",
     "iopub.status.busy": "2022-04-02T20:11:47.894276Z",
     "iopub.status.idle": "2022-04-02T20:12:04.127252Z",
     "shell.execute_reply": "2022-04-02T20:12:04.128196Z"
    },
    "papermill": {
     "duration": 16.283394,
     "end_time": "2022-04-02T20:12:04.128375",
     "exception": false,
     "start_time": "2022-04-02T20:11:47.844981",
     "status": "completed"
    },
    "tags": []
   },
   "outputs": [
    {
     "name": "stdout",
     "output_type": "stream",
     "text": [
      "Epoch 0, Loss 0.2373\n",
      "Training Accuracy: 0.7191, Testing Accuracy: 0.7102\n",
      "\n"
     ]
    },
    {
     "name": "stdout",
     "output_type": "stream",
     "text": [
      "Epoch 10, Loss 0.1009\n",
      "Training Accuracy: 0.9184, Testing Accuracy: 0.9219\n",
      "\n"
     ]
    },
    {
     "name": "stdout",
     "output_type": "stream",
     "text": [
      "Epoch 20, Loss 0.0776\n",
      "Training Accuracy: 0.9319, Testing Accuracy: 0.9435\n",
      "\n"
     ]
    },
    {
     "name": "stdout",
     "output_type": "stream",
     "text": [
      "Epoch 30, Loss 0.0669\n",
      "Training Accuracy: 0.9406, Testing Accuracy: 0.9506\n",
      "\n"
     ]
    },
    {
     "name": "stdout",
     "output_type": "stream",
     "text": [
      "Epoch 40, Loss 0.0605\n",
      "Training Accuracy: 0.9454, Testing Accuracy: 0.9526\n",
      "\n"
     ]
    },
    {
     "name": "stdout",
     "output_type": "stream",
     "text": [
      "Epoch 50, Loss 0.0562\n",
      "Training Accuracy: 0.9480, Testing Accuracy: 0.9551\n",
      "\n"
     ]
    },
    {
     "name": "stdout",
     "output_type": "stream",
     "text": [
      "Epoch 60, Loss 0.053\n",
      "Training Accuracy: 0.9498, Testing Accuracy: 0.9577\n",
      "\n"
     ]
    },
    {
     "name": "stdout",
     "output_type": "stream",
     "text": [
      "Epoch 70, Loss 0.0505\n",
      "Training Accuracy: 0.9511, Testing Accuracy: 0.9597\n",
      "\n"
     ]
    },
    {
     "name": "stdout",
     "output_type": "stream",
     "text": [
      "Epoch 80, Loss 0.0486\n",
      "Training Accuracy: 0.9519, Testing Accuracy: 0.9602\n",
      "\n"
     ]
    },
    {
     "name": "stdout",
     "output_type": "stream",
     "text": [
      "Epoch 90, Loss 0.0469\n",
      "Training Accuracy: 0.9533, Testing Accuracy: 0.9612\n",
      "\n"
     ]
    },
    {
     "name": "stdout",
     "output_type": "stream",
     "text": [
      "Epoch 100, Loss 0.0455\n",
      "Training Accuracy: 0.9546, Testing Accuracy: 0.9607\n",
      "\n"
     ]
    },
    {
     "name": "stdout",
     "output_type": "stream",
     "text": [
      "Epoch 110, Loss 0.0444\n",
      "Training Accuracy: 0.9558, Testing Accuracy: 0.9622\n",
      "\n"
     ]
    },
    {
     "name": "stdout",
     "output_type": "stream",
     "text": [
      "Epoch 120, Loss 0.0433\n",
      "Training Accuracy: 0.9568, Testing Accuracy: 0.9627\n",
      "\n"
     ]
    },
    {
     "name": "stdout",
     "output_type": "stream",
     "text": [
      "Epoch 130, Loss 0.0424\n",
      "Training Accuracy: 0.9569, Testing Accuracy: 0.9637\n",
      "\n"
     ]
    },
    {
     "name": "stdout",
     "output_type": "stream",
     "text": [
      "Epoch 140, Loss 0.0416\n",
      "Training Accuracy: 0.9575, Testing Accuracy: 0.9637\n",
      "\n"
     ]
    },
    {
     "name": "stdout",
     "output_type": "stream",
     "text": [
      "Epoch 150, Loss 0.0409\n",
      "Training Accuracy: 0.9580, Testing Accuracy: 0.9637\n",
      "\n"
     ]
    },
    {
     "name": "stdout",
     "output_type": "stream",
     "text": [
      "Epoch 160, Loss 0.0403\n",
      "Training Accuracy: 0.9586, Testing Accuracy: 0.9637\n",
      "\n"
     ]
    },
    {
     "name": "stdout",
     "output_type": "stream",
     "text": [
      "Epoch 170, Loss 0.0397\n",
      "Training Accuracy: 0.9594, Testing Accuracy: 0.9637\n",
      "\n"
     ]
    },
    {
     "name": "stdout",
     "output_type": "stream",
     "text": [
      "Epoch 180, Loss 0.0391\n",
      "Training Accuracy: 0.9599, Testing Accuracy: 0.9647\n",
      "\n"
     ]
    },
    {
     "name": "stdout",
     "output_type": "stream",
     "text": [
      "Epoch 190, Loss 0.0386\n",
      "Training Accuracy: 0.9600, Testing Accuracy: 0.9652\n",
      "\n"
     ]
    },
    {
     "name": "stdout",
     "output_type": "stream",
     "text": [
      "Epoch 200, Loss 0.0382\n",
      "Training Accuracy: 0.9600, Testing Accuracy: 0.9662\n",
      "\n"
     ]
    },
    {
     "name": "stdout",
     "output_type": "stream",
     "text": [
      "Epoch 210, Loss 0.0377\n",
      "Training Accuracy: 0.9605, Testing Accuracy: 0.9662\n",
      "\n"
     ]
    },
    {
     "name": "stdout",
     "output_type": "stream",
     "text": [
      "Epoch 220, Loss 0.0373\n",
      "Training Accuracy: 0.9605, Testing Accuracy: 0.9662\n",
      "\n"
     ]
    },
    {
     "name": "stdout",
     "output_type": "stream",
     "text": [
      "Epoch 230, Loss 0.037\n",
      "Training Accuracy: 0.9609, Testing Accuracy: 0.9662\n",
      "\n"
     ]
    },
    {
     "name": "stdout",
     "output_type": "stream",
     "text": [
      "Epoch 240, Loss 0.0366\n",
      "Training Accuracy: 0.9613, Testing Accuracy: 0.9667\n",
      "\n"
     ]
    },
    {
     "data": {
      "text/plain": [
       "0.010734619289203044"
      ]
     },
     "execution_count": 23,
     "metadata": {},
     "output_type": "execute_result"
    }
   ],
   "source": [
    "lr_learner.train_loop(dl)"
   ]
  },
  {
   "cell_type": "code",
   "execution_count": 24,
   "id": "ca410940",
   "metadata": {
    "execution": {
     "iopub.execute_input": "2022-04-02T20:12:04.242506Z",
     "iopub.status.busy": "2022-04-02T20:12:04.241832Z",
     "iopub.status.idle": "2022-04-02T20:12:04.530636Z",
     "shell.execute_reply": "2022-04-02T20:12:04.531132Z"
    },
    "papermill": {
     "duration": 0.353905,
     "end_time": "2022-04-02T20:12:04.531288",
     "exception": false,
     "start_time": "2022-04-02T20:12:04.177383",
     "status": "completed"
    },
    "tags": []
   },
   "outputs": [
    {
     "data": {
      "text/plain": [
       "<matplotlib.legend.Legend at 0x7feaacf40d30>"
      ]
     },
     "execution_count": 24,
     "metadata": {},
     "output_type": "execute_result"
    },
    {
     "data": {
      "image/png": "[encoded data removed]",
      "text/plain": [
       "<Figure size 1080x720 with 1 Axes>"
      ]
     },
     "metadata": {
      "needs_background": "light"
     },
     "output_type": "display_data"
    }
   ],
   "source": [
    "#comparing the results of NN and LR\n",
    "plt.figure(figsize=(15,10))\n",
    "\n",
    "# Neural Network plots\n",
    "plt.plot(acc_nn.accuracies, 'r-', label = \"Training Accuracies - NN\")\n",
    "plt.plot(acc_nn.test_accuracies, 'g-', label = \"Testing Accuracies - NN\")\n",
    "\n",
    "# Logistic Regression plots\n",
    "plt.plot(acc_lr.accuracies, 'k-', label = \"Training Accuracies - LR\")\n",
    "plt.plot(acc_lr.test_accuracies, 'b-', label = \"Testing Accuracies - LR\")\n",
    "plt.legend()"
   ]
  },
  {
   "cell_type": "markdown",
   "id": "80dfb35c",
   "metadata": {
    "papermill": {
     "duration": 0.052847,
     "end_time": "2022-04-02T20:12:04.645809",
     "exception": false,
     "start_time": "2022-04-02T20:12:04.592962",
     "status": "completed"
    },
    "tags": []
   },
   "source": [
    "#### Plotting the outputs of this layer of the NN.\n"
   ]
  },
  {
   "cell_type": "code",
   "execution_count": 25,
   "id": "45eb2ff5",
   "metadata": {
    "execution": {
     "iopub.execute_input": "2022-04-02T20:12:04.764298Z",
     "iopub.status.busy": "2022-04-02T20:12:04.762146Z",
     "iopub.status.idle": "2022-04-02T20:12:04.783540Z",
     "shell.execute_reply": "2022-04-02T20:12:04.784060Z"
    },
    "papermill": {
     "duration": 0.086266,
     "end_time": "2022-04-02T20:12:04.784225",
     "exception": false,
     "start_time": "2022-04-02T20:12:04.697959",
     "status": "completed"
    },
    "tags": []
   },
   "outputs": [],
   "source": [
    "new_model = Model(layers[:-2])\n",
    "testing_plot = new_model(testing_data_x)"
   ]
  },
  {
   "cell_type": "code",
   "execution_count": 26,
   "id": "4c0a5485",
   "metadata": {
    "execution": {
     "iopub.execute_input": "2022-04-02T20:12:04.901070Z",
     "iopub.status.busy": "2022-04-02T20:12:04.900385Z",
     "iopub.status.idle": "2022-04-02T20:12:05.183850Z",
     "shell.execute_reply": "2022-04-02T20:12:05.184345Z"
    },
    "papermill": {
     "duration": 0.348811,
     "end_time": "2022-04-02T20:12:05.184516",
     "exception": false,
     "start_time": "2022-04-02T20:12:04.835705",
     "status": "completed"
    },
    "tags": []
   },
   "outputs": [
    {
     "data": {
      "text/plain": [
       "Text(0.5, 1.0, 'Outputs')"
      ]
     },
     "execution_count": 26,
     "metadata": {},
     "output_type": "execute_result"
    },
    {
     "data": {
      "image/png": "[encoded data removed]",
      "text/plain": [
       "<Figure size 576x504 with 1 Axes>"
      ]
     },
     "metadata": {
      "needs_background": "light"
     },
     "output_type": "display_data"
    }
   ],
   "source": [
    "# Plotting the scatter plot of points and color coding by class\n",
    "plt.figure(figsize=(8,7))\n",
    "plt.scatter(testing_plot[:,0], testing_plot[:,1], alpha = 0.1, c = y_test.ravel());\n",
    "plt.title('Outputs')"
   ]
  },
  {
   "cell_type": "markdown",
   "id": "a74fcf8f",
   "metadata": {
    "papermill": {
     "duration": 0.055979,
     "end_time": "2022-04-02T20:12:05.304531",
     "exception": false,
     "start_time": "2022-04-02T20:12:05.248552",
     "status": "completed"
    },
    "tags": []
   },
   "source": [
    "Probability contours"
   ]
  },
  {
   "cell_type": "code",
   "execution_count": 27,
   "id": "d0afc8e3",
   "metadata": {
    "execution": {
     "iopub.execute_input": "2022-04-02T20:12:05.456760Z",
     "iopub.status.busy": "2022-04-02T20:12:05.456140Z",
     "iopub.status.idle": "2022-04-02T20:12:05.472724Z",
     "shell.execute_reply": "2022-04-02T20:12:05.472192Z"
    },
    "papermill": {
     "duration": 0.112509,
     "end_time": "2022-04-02T20:12:05.472856",
     "exception": false,
     "start_time": "2022-04-02T20:12:05.360347",
     "status": "completed"
    },
    "tags": []
   },
   "outputs": [],
   "source": [
    "model_prob = Model(layers[-2:]) "
   ]
  },
  {
   "cell_type": "code",
   "execution_count": 28,
   "id": "9b96e238",
   "metadata": {
    "execution": {
     "iopub.execute_input": "2022-04-02T20:12:05.586072Z",
     "iopub.status.busy": "2022-04-02T20:12:05.585406Z",
     "iopub.status.idle": "2022-04-02T20:12:05.602216Z",
     "shell.execute_reply": "2022-04-02T20:12:05.601704Z"
    },
    "papermill": {
     "duration": 0.075292,
     "end_time": "2022-04-02T20:12:05.602350",
     "exception": false,
     "start_time": "2022-04-02T20:12:05.527058",
     "status": "completed"
    },
    "tags": []
   },
   "outputs": [],
   "source": [
    "#creating the x and y ranges according to the above generated plot.\n",
    "x_range = np.linspace(-4, 1, 100) \n",
    "y_range = np.linspace(-6, 6, 100) \n",
    "x_grid, y_grid = np.meshgrid(x_range, y_range) # x_grid and y_grig are of size 100 X 100\n",
    "\n",
    "# converting x_grid and y_grid to continuous arrays\n",
    "x_gridflat = np.ravel(x_grid)\n",
    "y_gridflat = np.ravel(y_grid)\n",
    "\n",
    "# The last layer of the current model takes two columns as input. Hence transpose of np.vstack() is required.\n",
    "X = np.vstack((x_gridflat, y_gridflat)).T\n",
    "\n",
    "prob_contour = model_prob(X).reshape(100,100) "
   ]
  },
  {
   "cell_type": "code",
   "execution_count": 29,
   "id": "da72499a",
   "metadata": {
    "execution": {
     "iopub.execute_input": "2022-04-02T20:12:05.715927Z",
     "iopub.status.busy": "2022-04-02T20:12:05.715306Z",
     "iopub.status.idle": "2022-04-02T20:12:06.021113Z",
     "shell.execute_reply": "2022-04-02T20:12:06.020515Z"
    },
    "papermill": {
     "duration": 0.365563,
     "end_time": "2022-04-02T20:12:06.021260",
     "exception": false,
     "start_time": "2022-04-02T20:12:05.655697",
     "status": "completed"
    },
    "tags": []
   },
   "outputs": [
    {
     "data": {
      "image/png": "[encoded data removed]",
      "text/plain": [
       "<Figure size 720x648 with 1 Axes>"
      ]
     },
     "metadata": {
      "needs_background": "light"
     },
     "output_type": "display_data"
    }
   ],
   "source": [
    "plt.figure(figsize=(10,9))\n",
    "plt.scatter(testing_plot[:,0], testing_plot[:,1], alpha = 0.1, c = y_test.ravel())\n",
    "contours = plt.contour(x_grid,y_grid,prob_contour)\n",
    "plt.title('Probability Contours')\n",
    "plt.clabel(contours, inline = True );"
   ]
  },
  {
   "cell_type": "code",
   "execution_count": null,
   "id": "e81b4ac7",
   "metadata": {
    "papermill": {
     "duration": 0.056463,
     "end_time": "2022-04-02T20:12:06.134961",
     "exception": false,
     "start_time": "2022-04-02T20:12:06.078498",
     "status": "completed"
    },
    "tags": []
   },
   "outputs": [],
   "source": []
  }
 ],
 "metadata": {
  "kernelspec": {
   "display_name": "Python 3",
   "language": "python",
   "name": "python3"
  },
  "language_info": {
   "codemirror_mode": {
    "name": "ipython",
    "version": 3
   },
   "file_extension": ".py",
   "mimetype": "text/x-python",
   "name": "python",
   "nbconvert_exporter": "python",
   "pygments_lexer": "ipython3",
   "version": "3.6.15"
  },
  "papermill": {
   "default_parameters": {},
   "duration": 117.854254,
   "end_time": "2022-04-02T20:12:06.611249",
   "environment_variables": {},
   "exception": null,
   "input_path": "2020-08-11-part2.ipynb",
   "output_path": "2020-08-11-part2.ipynb",
   "parameters": {},
   "start_time": "2022-04-02T20:10:08.756995",
   "version": "2.3.3"
  }
 },
 "nbformat": 4,
 "nbformat_minor": 5
}