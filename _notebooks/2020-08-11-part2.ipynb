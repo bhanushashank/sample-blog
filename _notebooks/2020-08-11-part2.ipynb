{
 "cells": [
  {
   "cell_type": "markdown",
   "id": "98380cd3",
   "metadata": {
    "papermill": {
     "duration": 0.027986,
     "end_time": "2022-03-23T20:09:31.121399",
     "exception": false,
     "start_time": "2022-03-23T20:09:31.093413",
     "status": "completed"
    },
    "tags": []
   },
   "source": [
    "# Distinguish Your Own Digits (DYOD)"
   ]
  },
  {
   "cell_type": "markdown",
   "id": "ef31240d",
   "metadata": {
    "papermill": {
     "duration": 0.024995,
     "end_time": "2022-03-23T20:09:31.170623",
     "exception": false,
     "start_time": "2022-03-23T20:09:31.145628",
     "status": "completed"
    },
    "tags": []
   },
   "source": [
    "You are going to write a classifier that distinguishes between the number 3 and number 8."
   ]
  },
  {
   "cell_type": "code",
   "execution_count": 1,
   "id": "b15c8646",
   "metadata": {
    "execution": {
     "iopub.execute_input": "2022-03-23T20:09:31.227675Z",
     "iopub.status.busy": "2022-03-23T20:09:31.227121Z",
     "iopub.status.idle": "2022-03-23T20:09:31.237548Z",
     "shell.execute_reply": "2022-03-23T20:09:31.237104Z"
    },
    "papermill": {
     "duration": 0.043622,
     "end_time": "2022-03-23T20:09:31.237669",
     "exception": false,
     "start_time": "2022-03-23T20:09:31.194047",
     "status": "completed"
    },
    "tags": []
   },
   "outputs": [],
   "source": [
    "%load_ext autoreload\n",
    "%autoreload 2"
   ]
  },
  {
   "cell_type": "code",
   "execution_count": 2,
   "id": "22ef38dc",
   "metadata": {
    "execution": {
     "iopub.execute_input": "2022-03-23T20:09:31.288575Z",
     "iopub.status.busy": "2022-03-23T20:09:31.288059Z",
     "iopub.status.idle": "2022-03-23T20:09:31.864198Z",
     "shell.execute_reply": "2022-03-23T20:09:31.864670Z"
    },
    "papermill": {
     "duration": 0.603526,
     "end_time": "2022-03-23T20:09:31.864828",
     "exception": false,
     "start_time": "2022-03-23T20:09:31.261302",
     "status": "completed"
    },
    "tags": []
   },
   "outputs": [],
   "source": [
    "%matplotlib inline\n",
    "import numpy as np\n",
    "import matplotlib.pyplot as plt\n",
    "import pandas as pd"
   ]
  },
  {
   "cell_type": "markdown",
   "id": "ba036198",
   "metadata": {
    "papermill": {
     "duration": 0.023672,
     "end_time": "2022-03-23T20:09:31.912329",
     "exception": false,
     "start_time": "2022-03-23T20:09:31.888657",
     "status": "completed"
    },
    "tags": []
   },
   "source": [
    "From the command line run `pip install mnist`. This is a library that will help you bring down the mnist dataset. If you run this from a notebook, you need to put  `!pip install mnist` in a cell by itself."
   ]
  },
  {
   "cell_type": "code",
   "execution_count": 3,
   "id": "bb6ad8a1",
   "metadata": {
    "execution": {
     "iopub.execute_input": "2022-03-23T20:09:31.965756Z",
     "iopub.status.busy": "2022-03-23T20:09:31.965245Z",
     "iopub.status.idle": "2022-03-23T20:09:33.637291Z",
     "shell.execute_reply": "2022-03-23T20:09:33.637756Z"
    },
    "papermill": {
     "duration": 1.701909,
     "end_time": "2022-03-23T20:09:33.637911",
     "exception": false,
     "start_time": "2022-03-23T20:09:31.936002",
     "status": "completed"
    },
    "tags": []
   },
   "outputs": [
    {
     "name": "stdout",
     "output_type": "stream",
     "text": [
      "Collecting mnist\r\n",
      "  Downloading mnist-0.2.2-py2.py3-none-any.whl (3.5 kB)\r\n"
     ]
    },
    {
     "name": "stdout",
     "output_type": "stream",
     "text": [
      "Requirement already satisfied: numpy in /opt/hostedtoolcache/Python/3.6.15/x64/lib/python3.6/site-packages (from mnist) (1.19.5)\r\n"
     ]
    },
    {
     "name": "stdout",
     "output_type": "stream",
     "text": [
      "Installing collected packages: mnist\r\n",
      "Successfully installed mnist-0.2.2\r\n"
     ]
    }
   ],
   "source": [
    "!pip install mnist"
   ]
  },
  {
   "cell_type": "markdown",
   "id": "69df9c9a",
   "metadata": {
    "papermill": {
     "duration": 0.024994,
     "end_time": "2022-03-23T20:09:33.687813",
     "exception": false,
     "start_time": "2022-03-23T20:09:33.662819",
     "status": "completed"
    },
    "tags": []
   },
   "source": [
    "## Preparing the Data"
   ]
  },
  {
   "cell_type": "code",
   "execution_count": 4,
   "id": "7f69d806",
   "metadata": {
    "execution": {
     "iopub.execute_input": "2022-03-23T20:09:33.753825Z",
     "iopub.status.busy": "2022-03-23T20:09:33.753295Z",
     "iopub.status.idle": "2022-03-23T20:09:33.758460Z",
     "shell.execute_reply": "2022-03-23T20:09:33.758866Z"
    },
    "papermill": {
     "duration": 0.046769,
     "end_time": "2022-03-23T20:09:33.758995",
     "exception": false,
     "start_time": "2022-03-23T20:09:33.712226",
     "status": "completed"
    },
    "tags": []
   },
   "outputs": [],
   "source": [
    "import mnist"
   ]
  },
  {
   "cell_type": "code",
   "execution_count": 5,
   "id": "a411e44f",
   "metadata": {
    "execution": {
     "iopub.execute_input": "2022-03-23T20:09:33.812896Z",
     "iopub.status.busy": "2022-03-23T20:09:33.812163Z",
     "iopub.status.idle": "2022-03-23T20:09:34.400398Z",
     "shell.execute_reply": "2022-03-23T20:09:34.400907Z"
    },
    "papermill": {
     "duration": 0.61761,
     "end_time": "2022-03-23T20:09:34.401072",
     "exception": false,
     "start_time": "2022-03-23T20:09:33.783462",
     "status": "completed"
    },
    "tags": []
   },
   "outputs": [],
   "source": [
    "train_images = mnist.train_images()\n",
    "train_labels = mnist.train_labels()"
   ]
  },
  {
   "cell_type": "code",
   "execution_count": 6,
   "id": "dceab3a5",
   "metadata": {
    "execution": {
     "iopub.execute_input": "2022-03-23T20:09:34.468315Z",
     "iopub.status.busy": "2022-03-23T20:09:34.462453Z",
     "iopub.status.idle": "2022-03-23T20:09:34.476087Z",
     "shell.execute_reply": "2022-03-23T20:09:34.475638Z"
    },
    "papermill": {
     "duration": 0.049104,
     "end_time": "2022-03-23T20:09:34.476195",
     "exception": false,
     "start_time": "2022-03-23T20:09:34.427091",
     "status": "completed"
    },
    "tags": []
   },
   "outputs": [
    {
     "data": {
      "text/plain": [
       "((60000, 28, 28), (60000,))"
      ]
     },
     "execution_count": 6,
     "metadata": {},
     "output_type": "execute_result"
    }
   ],
   "source": [
    "train_images.shape, train_labels.shape"
   ]
  },
  {
   "cell_type": "code",
   "execution_count": 7,
   "id": "f50dc2bb",
   "metadata": {
    "execution": {
     "iopub.execute_input": "2022-03-23T20:09:34.533685Z",
     "iopub.status.busy": "2022-03-23T20:09:34.533185Z",
     "iopub.status.idle": "2022-03-23T20:09:34.674539Z",
     "shell.execute_reply": "2022-03-23T20:09:34.674020Z"
    },
    "papermill": {
     "duration": 0.173736,
     "end_time": "2022-03-23T20:09:34.674664",
     "exception": false,
     "start_time": "2022-03-23T20:09:34.500928",
     "status": "completed"
    },
    "tags": []
   },
   "outputs": [],
   "source": [
    "test_images = mnist.test_images()\n",
    "test_labels = mnist.test_labels()"
   ]
  },
  {
   "cell_type": "code",
   "execution_count": 8,
   "id": "fc38cf1b",
   "metadata": {
    "execution": {
     "iopub.execute_input": "2022-03-23T20:09:34.732777Z",
     "iopub.status.busy": "2022-03-23T20:09:34.732260Z",
     "iopub.status.idle": "2022-03-23T20:09:34.743210Z",
     "shell.execute_reply": "2022-03-23T20:09:34.742802Z"
    },
    "papermill": {
     "duration": 0.043429,
     "end_time": "2022-03-23T20:09:34.743324",
     "exception": false,
     "start_time": "2022-03-23T20:09:34.699895",
     "status": "completed"
    },
    "tags": []
   },
   "outputs": [
    {
     "data": {
      "text/plain": [
       "((10000, 28, 28), (10000,))"
      ]
     },
     "execution_count": 8,
     "metadata": {},
     "output_type": "execute_result"
    }
   ],
   "source": [
    "test_images.shape, test_labels.shape"
   ]
  },
  {
   "cell_type": "code",
   "execution_count": 9,
   "id": "f9ed8fe0",
   "metadata": {
    "execution": {
     "iopub.execute_input": "2022-03-23T20:09:34.797219Z",
     "iopub.status.busy": "2022-03-23T20:09:34.796715Z",
     "iopub.status.idle": "2022-03-23T20:09:34.931976Z",
     "shell.execute_reply": "2022-03-23T20:09:34.931509Z"
    },
    "papermill": {
     "duration": 0.163732,
     "end_time": "2022-03-23T20:09:34.932098",
     "exception": false,
     "start_time": "2022-03-23T20:09:34.768366",
     "status": "completed"
    },
    "tags": []
   },
   "outputs": [
    {
     "name": "stdout",
     "output_type": "stream",
     "text": [
      "2\n"
     ]
    },
    {
     "data": {
      "text/plain": [
       "<matplotlib.image.AxesImage at 0x7fc493a385f8>"
      ]
     },
     "execution_count": 9,
     "metadata": {},
     "output_type": "execute_result"
    },
    {
     "data": {
      "image/png": "[encoded data removed]",
      "text/plain": [
       "<Figure size 432x288 with 1 Axes>"
      ]
     },
     "metadata": {
      "needs_background": "light"
     },
     "output_type": "display_data"
    }
   ],
   "source": [
    "image_index = 7776 # You may select anything up to 60,000\n",
    "print(train_labels[image_index]) \n",
    "plt.imshow(train_images[image_index], cmap='Greys')"
   ]
  },
  {
   "cell_type": "markdown",
   "id": "a8d2388d",
   "metadata": {
    "papermill": {
     "duration": 0.026,
     "end_time": "2022-03-23T20:09:34.984439",
     "exception": false,
     "start_time": "2022-03-23T20:09:34.958439",
     "status": "completed"
    },
    "tags": []
   },
   "source": [
    "## Filter data to get 3 and 8 out"
   ]
  },
  {
   "cell_type": "code",
   "execution_count": 10,
   "id": "776f7fc7",
   "metadata": {
    "execution": {
     "iopub.execute_input": "2022-03-23T20:09:35.044529Z",
     "iopub.status.busy": "2022-03-23T20:09:35.040391Z",
     "iopub.status.idle": "2022-03-23T20:09:35.059696Z",
     "shell.execute_reply": "2022-03-23T20:09:35.059238Z"
    },
    "papermill": {
     "duration": 0.049106,
     "end_time": "2022-03-23T20:09:35.059818",
     "exception": false,
     "start_time": "2022-03-23T20:09:35.010712",
     "status": "completed"
    },
    "tags": []
   },
   "outputs": [],
   "source": [
    "train_filter = np.where((train_labels == 3 ) | (train_labels == 8))\n",
    "test_filter = np.where((test_labels == 3) | (test_labels == 8))\n",
    "X_train, y_train = train_images[train_filter], train_labels[train_filter]\n",
    "X_test, y_test = test_images[test_filter], test_labels[test_filter]"
   ]
  },
  {
   "cell_type": "markdown",
   "id": "948f0b7e",
   "metadata": {
    "papermill": {
     "duration": 0.026282,
     "end_time": "2022-03-23T20:09:35.112402",
     "exception": false,
     "start_time": "2022-03-23T20:09:35.086120",
     "status": "completed"
    },
    "tags": []
   },
   "source": [
    "We normalize the pizel values in the 0 to 1 range"
   ]
  },
  {
   "cell_type": "code",
   "execution_count": 11,
   "id": "ee4c2166",
   "metadata": {
    "execution": {
     "iopub.execute_input": "2022-03-23T20:09:35.167883Z",
     "iopub.status.busy": "2022-03-23T20:09:35.167323Z",
     "iopub.status.idle": "2022-03-23T20:09:35.216017Z",
     "shell.execute_reply": "2022-03-23T20:09:35.216476Z"
    },
    "papermill": {
     "duration": 0.078231,
     "end_time": "2022-03-23T20:09:35.216642",
     "exception": false,
     "start_time": "2022-03-23T20:09:35.138411",
     "status": "completed"
    },
    "tags": []
   },
   "outputs": [],
   "source": [
    "X_train = X_train/255.\n",
    "X_test = X_test/255."
   ]
  },
  {
   "cell_type": "markdown",
   "id": "ddcf4fab",
   "metadata": {
    "papermill": {
     "duration": 0.026232,
     "end_time": "2022-03-23T20:09:35.270496",
     "exception": false,
     "start_time": "2022-03-23T20:09:35.244264",
     "status": "completed"
    },
    "tags": []
   },
   "source": [
    "And setup the labels as 1 (when the digit is 3) and 0 (when the digit is 8)"
   ]
  },
  {
   "cell_type": "code",
   "execution_count": 12,
   "id": "7dc908f2",
   "metadata": {
    "execution": {
     "iopub.execute_input": "2022-03-23T20:09:35.327007Z",
     "iopub.status.busy": "2022-03-23T20:09:35.326491Z",
     "iopub.status.idle": "2022-03-23T20:09:35.337871Z",
     "shell.execute_reply": "2022-03-23T20:09:35.338303Z"
    },
    "papermill": {
     "duration": 0.041809,
     "end_time": "2022-03-23T20:09:35.338431",
     "exception": false,
     "start_time": "2022-03-23T20:09:35.296622",
     "status": "completed"
    },
    "tags": []
   },
   "outputs": [],
   "source": [
    "y_train = 1*(y_train==3)\n",
    "y_test = 1*(y_test==3)"
   ]
  },
  {
   "cell_type": "code",
   "execution_count": 13,
   "id": "01e4e969",
   "metadata": {
    "execution": {
     "iopub.execute_input": "2022-03-23T20:09:35.393574Z",
     "iopub.status.busy": "2022-03-23T20:09:35.393066Z",
     "iopub.status.idle": "2022-03-23T20:09:35.405788Z",
     "shell.execute_reply": "2022-03-23T20:09:35.405384Z"
    },
    "papermill": {
     "duration": 0.041381,
     "end_time": "2022-03-23T20:09:35.405890",
     "exception": false,
     "start_time": "2022-03-23T20:09:35.364509",
     "status": "completed"
    },
    "tags": []
   },
   "outputs": [
    {
     "data": {
      "text/plain": [
       "((11982, 28, 28), (1984, 28, 28))"
      ]
     },
     "execution_count": 13,
     "metadata": {},
     "output_type": "execute_result"
    }
   ],
   "source": [
    "X_train.shape, X_test.shape"
   ]
  },
  {
   "cell_type": "markdown",
   "id": "5ccf3f85",
   "metadata": {
    "papermill": {
     "duration": 0.026612,
     "end_time": "2022-03-23T20:09:35.458843",
     "exception": false,
     "start_time": "2022-03-23T20:09:35.432231",
     "status": "completed"
    },
    "tags": []
   },
   "source": [
    "We reshape the data to flatten the image pixels into a set of features or co-variates:"
   ]
  },
  {
   "cell_type": "code",
   "execution_count": 14,
   "id": "5286a4a3",
   "metadata": {
    "execution": {
     "iopub.execute_input": "2022-03-23T20:09:35.515640Z",
     "iopub.status.busy": "2022-03-23T20:09:35.515096Z",
     "iopub.status.idle": "2022-03-23T20:09:35.528648Z",
     "shell.execute_reply": "2022-03-23T20:09:35.528213Z"
    },
    "papermill": {
     "duration": 0.043317,
     "end_time": "2022-03-23T20:09:35.528756",
     "exception": false,
     "start_time": "2022-03-23T20:09:35.485439",
     "status": "completed"
    },
    "tags": []
   },
   "outputs": [
    {
     "data": {
      "text/plain": [
       "((11982, 784), (1984, 784))"
      ]
     },
     "execution_count": 14,
     "metadata": {},
     "output_type": "execute_result"
    }
   ],
   "source": [
    "X_train = X_train.reshape(X_train.shape[0], -1)\n",
    "X_test = X_test.reshape(X_test.shape[0], -1)\n",
    "X_train.shape, X_test.shape"
   ]
  },
  {
   "cell_type": "code",
   "execution_count": 15,
   "id": "73c5f88a",
   "metadata": {
    "execution": {
     "iopub.execute_input": "2022-03-23T20:09:35.585898Z",
     "iopub.status.busy": "2022-03-23T20:09:35.585387Z",
     "iopub.status.idle": "2022-03-23T20:09:35.602856Z",
     "shell.execute_reply": "2022-03-23T20:09:35.603246Z"
    },
    "papermill": {
     "duration": 0.04794,
     "end_time": "2022-03-23T20:09:35.603367",
     "exception": false,
     "start_time": "2022-03-23T20:09:35.555427",
     "status": "completed"
    },
    "tags": []
   },
   "outputs": [],
   "source": [
    "#Impoting functions from 'Kudzu'\n",
    "from kudzu.model import Model\n",
    "from kudzu.train import Learner\n",
    "from kudzu.optim import GD\n",
    "from kudzu.data import Data, Sampler,Dataloader\n",
    "\n",
    "from kudzu.callbacks import AccCallback\n",
    "from kudzu.callbacks import ClfCallback\n",
    "\n",
    "from kudzu.loss import MSE\n",
    "\n",
    "from kudzu.layer import Sigmoid,Relu\n",
    "from kudzu.layer import Affine"
   ]
  },
  {
   "cell_type": "markdown",
   "id": "bc01172a",
   "metadata": {
    "papermill": {
     "duration": 0.026419,
     "end_time": "2022-03-23T20:09:35.656590",
     "exception": false,
     "start_time": "2022-03-23T20:09:35.630171",
     "status": "completed"
    },
    "tags": []
   },
   "source": [
    "### Let us create a `Config` class, to store important parameters. \n",
    "This class essentially plays the role of a dictionary."
   ]
  },
  {
   "cell_type": "code",
   "execution_count": 16,
   "id": "978281aa",
   "metadata": {
    "execution": {
     "iopub.execute_input": "2022-03-23T20:09:35.713015Z",
     "iopub.status.busy": "2022-03-23T20:09:35.712503Z",
     "iopub.status.idle": "2022-03-23T20:09:35.725184Z",
     "shell.execute_reply": "2022-03-23T20:09:35.724775Z"
    },
    "papermill": {
     "duration": 0.042262,
     "end_time": "2022-03-23T20:09:35.725289",
     "exception": false,
     "start_time": "2022-03-23T20:09:35.683027",
     "status": "completed"
    },
    "tags": []
   },
   "outputs": [],
   "source": [
    "class Config:\n",
    "    pass\n",
    "config = Config()\n",
    "config.lr = 0.001\n",
    "config.num_epochs = 250\n",
    "config.bs = 50"
   ]
  },
  {
   "cell_type": "markdown",
   "id": "1385fa59",
   "metadata": {
    "papermill": {
     "duration": 0.026548,
     "end_time": "2022-03-23T20:09:35.778675",
     "exception": false,
     "start_time": "2022-03-23T20:09:35.752127",
     "status": "completed"
    },
    "tags": []
   },
   "source": [
    "### Running Models with the Training data\n",
    "Details about the network layers:\n",
    "- A first affine layer has 784 inputs and does 100 affine transforms. These are followed by a Relu\n",
    "- A second affine layer has 100 inputs from the 100 activations of the past layer, and does 100 affine transforms. These are followed by a Relu\n",
    "- A third affine layer has 100 activations and does 2 affine transformations to create an embedding for visualization. There is no non-linearity here.\n",
    "- A final \"logistic regression\" which has an affine transform from 2 inputs to 1 output, which is squeezed through a sigmoid.\n"
   ]
  },
  {
   "cell_type": "code",
   "execution_count": 17,
   "id": "2b9c66db",
   "metadata": {
    "execution": {
     "iopub.execute_input": "2022-03-23T20:09:35.835892Z",
     "iopub.status.busy": "2022-03-23T20:09:35.835343Z",
     "iopub.status.idle": "2022-03-23T20:09:35.848805Z",
     "shell.execute_reply": "2022-03-23T20:09:35.848378Z"
    },
    "papermill": {
     "duration": 0.043465,
     "end_time": "2022-03-23T20:09:35.848905",
     "exception": false,
     "start_time": "2022-03-23T20:09:35.805440",
     "status": "completed"
    },
    "tags": []
   },
   "outputs": [],
   "source": [
    "data = Data(X_train, y_train.reshape(-1,1))\n",
    "sampler = Sampler(data, config.bs, shuffle=True)\n",
    "\n",
    "dl = Dataloader(data, sampler)\n",
    "\n",
    "opt = GD(config.lr)\n",
    "loss = MSE()"
   ]
  },
  {
   "cell_type": "code",
   "execution_count": 18,
   "id": "b275e4c2",
   "metadata": {
    "execution": {
     "iopub.execute_input": "2022-03-23T20:09:35.905405Z",
     "iopub.status.busy": "2022-03-23T20:09:35.904891Z",
     "iopub.status.idle": "2022-03-23T20:09:35.915729Z",
     "shell.execute_reply": "2022-03-23T20:09:35.915275Z"
    },
    "papermill": {
     "duration": 0.040383,
     "end_time": "2022-03-23T20:09:35.915829",
     "exception": false,
     "start_time": "2022-03-23T20:09:35.875446",
     "status": "completed"
    },
    "tags": []
   },
   "outputs": [],
   "source": [
    "training_data_x = X_train\n",
    "testing_data_x = X_test\n",
    "training_data_y = y_train.reshape(-1,1)\n",
    "testing_data_y = y_test.reshape(-1,1)"
   ]
  },
  {
   "cell_type": "code",
   "execution_count": 19,
   "id": "76951160",
   "metadata": {
    "execution": {
     "iopub.execute_input": "2022-03-23T20:09:35.975294Z",
     "iopub.status.busy": "2022-03-23T20:09:35.974308Z",
     "iopub.status.idle": "2022-03-23T20:09:35.989011Z",
     "shell.execute_reply": "2022-03-23T20:09:35.988583Z"
    },
    "papermill": {
     "duration": 0.046759,
     "end_time": "2022-03-23T20:09:35.989112",
     "exception": false,
     "start_time": "2022-03-23T20:09:35.942353",
     "status": "completed"
    },
    "tags": []
   },
   "outputs": [
    {
     "name": "stdout",
     "output_type": "stream",
     "text": [
      "xavier\n",
      "xavier\n",
      "xavier\n",
      "xavier\n",
      "xavier\n"
     ]
    }
   ],
   "source": [
    "layers = [Affine(\"first\", 784, 100), Relu(\"first\"), Affine(\"second\", 100, 100), Relu(\"second\"), Affine(\"third\", 100, 2), Affine(\"last\", 2, 1), Sigmoid(\"last\")]\n",
    "model_nn = Model(layers)\n",
    "model_lr = Model([Affine(\"logits\", 784, 1), Sigmoid(\"sigmoid\")])"
   ]
  },
  {
   "cell_type": "code",
   "execution_count": 20,
   "id": "6eede77a",
   "metadata": {
    "execution": {
     "iopub.execute_input": "2022-03-23T20:09:36.048714Z",
     "iopub.status.busy": "2022-03-23T20:09:36.048188Z",
     "iopub.status.idle": "2022-03-23T20:09:36.059938Z",
     "shell.execute_reply": "2022-03-23T20:09:36.059468Z"
    },
    "papermill": {
     "duration": 0.042371,
     "end_time": "2022-03-23T20:09:36.060048",
     "exception": false,
     "start_time": "2022-03-23T20:09:36.017677",
     "status": "completed"
    },
    "tags": []
   },
   "outputs": [],
   "source": [
    "nn_learner = Learner(loss, model_nn, opt, config.num_epochs)\n",
    "acc_nn = ClfCallback(nn_learner, config.bs, training_data_x , testing_data_x, training_data_y, testing_data_y)\n",
    "nn_learner.set_callbacks([acc_nn])"
   ]
  },
  {
   "cell_type": "code",
   "execution_count": 21,
   "id": "877b6cc7",
   "metadata": {
    "execution": {
     "iopub.execute_input": "2022-03-23T20:09:36.117831Z",
     "iopub.status.busy": "2022-03-23T20:09:36.117322Z",
     "iopub.status.idle": "2022-03-23T20:09:36.129209Z",
     "shell.execute_reply": "2022-03-23T20:09:36.128773Z"
    },
    "papermill": {
     "duration": 0.042288,
     "end_time": "2022-03-23T20:09:36.129313",
     "exception": false,
     "start_time": "2022-03-23T20:09:36.087025",
     "status": "completed"
    },
    "tags": []
   },
   "outputs": [],
   "source": [
    "lr_learner = Learner(loss, model_lr, opt, config.num_epochs)\n",
    "acc_lr = ClfCallback(lr_learner, config.bs, training_data_x , testing_data_x, training_data_y, testing_data_y)\n",
    "lr_learner.set_callbacks([acc_lr])"
   ]
  },
  {
   "cell_type": "code",
   "execution_count": 22,
   "id": "d9b133c3",
   "metadata": {
    "execution": {
     "iopub.execute_input": "2022-03-23T20:09:36.185382Z",
     "iopub.status.busy": "2022-03-23T20:09:36.184881Z",
     "iopub.status.idle": "2022-03-23T20:10:51.883164Z",
     "shell.execute_reply": "2022-03-23T20:10:51.883922Z"
    },
    "papermill": {
     "duration": 75.727856,
     "end_time": "2022-03-23T20:10:51.884082",
     "exception": false,
     "start_time": "2022-03-23T20:09:36.156226",
     "status": "completed"
    },
    "tags": []
   },
   "outputs": [
    {
     "name": "stdout",
     "output_type": "stream",
     "text": [
      "Epoch 0, Loss 0.2261\n",
      "Training Accuracy: 0.7559, Testing Accuracy: 0.7651\n",
      "\n"
     ]
    },
    {
     "name": "stdout",
     "output_type": "stream",
     "text": [
      "Epoch 10, Loss 0.0917\n",
      "Training Accuracy: 0.9064, Testing Accuracy: 0.9173\n",
      "\n"
     ]
    },
    {
     "name": "stdout",
     "output_type": "stream",
     "text": [
      "Epoch 20, Loss 0.0596\n",
      "Training Accuracy: 0.9342, Testing Accuracy: 0.9456\n",
      "\n"
     ]
    },
    {
     "name": "stdout",
     "output_type": "stream",
     "text": [
      "Epoch 30, Loss 0.0471\n",
      "Training Accuracy: 0.9471, Testing Accuracy: 0.9561\n",
      "\n"
     ]
    },
    {
     "name": "stdout",
     "output_type": "stream",
     "text": [
      "Epoch 40, Loss 0.0406\n",
      "Training Accuracy: 0.9535, Testing Accuracy: 0.9597\n",
      "\n"
     ]
    },
    {
     "name": "stdout",
     "output_type": "stream",
     "text": [
      "Epoch 50, Loss 0.0366\n",
      "Training Accuracy: 0.9585, Testing Accuracy: 0.9637\n",
      "\n"
     ]
    },
    {
     "name": "stdout",
     "output_type": "stream",
     "text": [
      "Epoch 60, Loss 0.0338\n",
      "Training Accuracy: 0.9617, Testing Accuracy: 0.9637\n",
      "\n"
     ]
    },
    {
     "name": "stdout",
     "output_type": "stream",
     "text": [
      "Epoch 70, Loss 0.0318\n",
      "Training Accuracy: 0.9630, Testing Accuracy: 0.9647\n",
      "\n"
     ]
    },
    {
     "name": "stdout",
     "output_type": "stream",
     "text": [
      "Epoch 80, Loss 0.0302\n",
      "Training Accuracy: 0.9656, Testing Accuracy: 0.9667\n",
      "\n"
     ]
    },
    {
     "name": "stdout",
     "output_type": "stream",
     "text": [
      "Epoch 90, Loss 0.0288\n",
      "Training Accuracy: 0.9665, Testing Accuracy: 0.9672\n",
      "\n"
     ]
    },
    {
     "name": "stdout",
     "output_type": "stream",
     "text": [
      "Epoch 100, Loss 0.0277\n",
      "Training Accuracy: 0.9681, Testing Accuracy: 0.9693\n",
      "\n"
     ]
    },
    {
     "name": "stdout",
     "output_type": "stream",
     "text": [
      "Epoch 110, Loss 0.0268\n",
      "Training Accuracy: 0.9694, Testing Accuracy: 0.9708\n",
      "\n"
     ]
    },
    {
     "name": "stdout",
     "output_type": "stream",
     "text": [
      "Epoch 120, Loss 0.0259\n",
      "Training Accuracy: 0.9706, Testing Accuracy: 0.9713\n",
      "\n"
     ]
    },
    {
     "name": "stdout",
     "output_type": "stream",
     "text": [
      "Epoch 130, Loss 0.0252\n",
      "Training Accuracy: 0.9715, Testing Accuracy: 0.9713\n",
      "\n"
     ]
    },
    {
     "name": "stdout",
     "output_type": "stream",
     "text": [
      "Epoch 140, Loss 0.0245\n",
      "Training Accuracy: 0.9725, Testing Accuracy: 0.9703\n",
      "\n"
     ]
    },
    {
     "name": "stdout",
     "output_type": "stream",
     "text": [
      "Epoch 150, Loss 0.0238\n",
      "Training Accuracy: 0.9731, Testing Accuracy: 0.9713\n",
      "\n"
     ]
    },
    {
     "name": "stdout",
     "output_type": "stream",
     "text": [
      "Epoch 160, Loss 0.0233\n",
      "Training Accuracy: 0.9736, Testing Accuracy: 0.9718\n",
      "\n"
     ]
    },
    {
     "name": "stdout",
     "output_type": "stream",
     "text": [
      "Epoch 170, Loss 0.0227\n",
      "Training Accuracy: 0.9740, Testing Accuracy: 0.9718\n",
      "\n"
     ]
    },
    {
     "name": "stdout",
     "output_type": "stream",
     "text": [
      "Epoch 180, Loss 0.0223\n",
      "Training Accuracy: 0.9744, Testing Accuracy: 0.9718\n",
      "\n"
     ]
    },
    {
     "name": "stdout",
     "output_type": "stream",
     "text": [
      "Epoch 190, Loss 0.0218\n",
      "Training Accuracy: 0.9750, Testing Accuracy: 0.9718\n",
      "\n"
     ]
    },
    {
     "name": "stdout",
     "output_type": "stream",
     "text": [
      "Epoch 200, Loss 0.0214\n",
      "Training Accuracy: 0.9750, Testing Accuracy: 0.9728\n",
      "\n"
     ]
    },
    {
     "name": "stdout",
     "output_type": "stream",
     "text": [
      "Epoch 210, Loss 0.021\n",
      "Training Accuracy: 0.9755, Testing Accuracy: 0.9728\n",
      "\n"
     ]
    },
    {
     "name": "stdout",
     "output_type": "stream",
     "text": [
      "Epoch 220, Loss 0.0206\n",
      "Training Accuracy: 0.9762, Testing Accuracy: 0.9728\n",
      "\n"
     ]
    },
    {
     "name": "stdout",
     "output_type": "stream",
     "text": [
      "Epoch 230, Loss 0.0202\n",
      "Training Accuracy: 0.9774, Testing Accuracy: 0.9733\n",
      "\n"
     ]
    },
    {
     "name": "stdout",
     "output_type": "stream",
     "text": [
      "Epoch 240, Loss 0.0198\n",
      "Training Accuracy: 0.9780, Testing Accuracy: 0.9733\n",
      "\n"
     ]
    },
    {
     "data": {
      "text/plain": [
       "0.03092393047070096"
      ]
     },
     "execution_count": 22,
     "metadata": {},
     "output_type": "execute_result"
    }
   ],
   "source": [
    "nn_learner.train_loop(dl)"
   ]
  },
  {
   "cell_type": "code",
   "execution_count": 23,
   "id": "e0163366",
   "metadata": {
    "execution": {
     "iopub.execute_input": "2022-03-23T20:10:51.964771Z",
     "iopub.status.busy": "2022-03-23T20:10:51.964262Z",
     "iopub.status.idle": "2022-03-23T20:11:05.721808Z",
     "shell.execute_reply": "2022-03-23T20:11:05.722542Z"
    },
    "papermill": {
     "duration": 13.80396,
     "end_time": "2022-03-23T20:11:05.722699",
     "exception": false,
     "start_time": "2022-03-23T20:10:51.918739",
     "status": "completed"
    },
    "tags": []
   },
   "outputs": [
    {
     "name": "stdout",
     "output_type": "stream",
     "text": [
      "Epoch 0, Loss 0.2372\n",
      "Training Accuracy: 0.6966, Testing Accuracy: 0.7228\n",
      "\n"
     ]
    },
    {
     "name": "stdout",
     "output_type": "stream",
     "text": [
      "Epoch 10, Loss 0.1037\n",
      "Training Accuracy: 0.9056, Testing Accuracy: 0.9153\n",
      "\n"
     ]
    },
    {
     "name": "stdout",
     "output_type": "stream",
     "text": [
      "Epoch 20, Loss 0.0797\n",
      "Training Accuracy: 0.9263, Testing Accuracy: 0.9335\n",
      "\n"
     ]
    },
    {
     "name": "stdout",
     "output_type": "stream",
     "text": [
      "Epoch 30, Loss 0.0686\n",
      "Training Accuracy: 0.9344, Testing Accuracy: 0.9435\n",
      "\n"
     ]
    },
    {
     "name": "stdout",
     "output_type": "stream",
     "text": [
      "Epoch 40, Loss 0.0619\n",
      "Training Accuracy: 0.9395, Testing Accuracy: 0.9466\n",
      "\n"
     ]
    },
    {
     "name": "stdout",
     "output_type": "stream",
     "text": [
      "Epoch 50, Loss 0.0574\n",
      "Training Accuracy: 0.9427, Testing Accuracy: 0.9521\n",
      "\n"
     ]
    },
    {
     "name": "stdout",
     "output_type": "stream",
     "text": [
      "Epoch 60, Loss 0.054\n",
      "Training Accuracy: 0.9457, Testing Accuracy: 0.9546\n",
      "\n"
     ]
    },
    {
     "name": "stdout",
     "output_type": "stream",
     "text": [
      "Epoch 70, Loss 0.0514\n",
      "Training Accuracy: 0.9483, Testing Accuracy: 0.9572\n",
      "\n"
     ]
    },
    {
     "name": "stdout",
     "output_type": "stream",
     "text": [
      "Epoch 80, Loss 0.0493\n",
      "Training Accuracy: 0.9495, Testing Accuracy: 0.9587\n",
      "\n"
     ]
    },
    {
     "name": "stdout",
     "output_type": "stream",
     "text": [
      "Epoch 90, Loss 0.0476\n",
      "Training Accuracy: 0.9506, Testing Accuracy: 0.9592\n",
      "\n"
     ]
    },
    {
     "name": "stdout",
     "output_type": "stream",
     "text": [
      "Epoch 100, Loss 0.0462\n",
      "Training Accuracy: 0.9523, Testing Accuracy: 0.9602\n",
      "\n"
     ]
    },
    {
     "name": "stdout",
     "output_type": "stream",
     "text": [
      "Epoch 110, Loss 0.0449\n",
      "Training Accuracy: 0.9538, Testing Accuracy: 0.9627\n",
      "\n"
     ]
    },
    {
     "name": "stdout",
     "output_type": "stream",
     "text": [
      "Epoch 120, Loss 0.0439\n",
      "Training Accuracy: 0.9549, Testing Accuracy: 0.9622\n",
      "\n"
     ]
    },
    {
     "name": "stdout",
     "output_type": "stream",
     "text": [
      "Epoch 130, Loss 0.0429\n",
      "Training Accuracy: 0.9558, Testing Accuracy: 0.9632\n",
      "\n"
     ]
    },
    {
     "name": "stdout",
     "output_type": "stream",
     "text": [
      "Epoch 140, Loss 0.0421\n",
      "Training Accuracy: 0.9567, Testing Accuracy: 0.9647\n",
      "\n"
     ]
    },
    {
     "name": "stdout",
     "output_type": "stream",
     "text": [
      "Epoch 150, Loss 0.0413\n",
      "Training Accuracy: 0.9574, Testing Accuracy: 0.9652\n",
      "\n"
     ]
    },
    {
     "name": "stdout",
     "output_type": "stream",
     "text": [
      "Epoch 160, Loss 0.0406\n",
      "Training Accuracy: 0.9584, Testing Accuracy: 0.9652\n",
      "\n"
     ]
    },
    {
     "name": "stdout",
     "output_type": "stream",
     "text": [
      "Epoch 170, Loss 0.04\n",
      "Training Accuracy: 0.9588, Testing Accuracy: 0.9657\n",
      "\n"
     ]
    },
    {
     "name": "stdout",
     "output_type": "stream",
     "text": [
      "Epoch 180, Loss 0.0395\n",
      "Training Accuracy: 0.9588, Testing Accuracy: 0.9657\n",
      "\n"
     ]
    },
    {
     "name": "stdout",
     "output_type": "stream",
     "text": [
      "Epoch 190, Loss 0.0389\n",
      "Training Accuracy: 0.9595, Testing Accuracy: 0.9662\n",
      "\n"
     ]
    },
    {
     "name": "stdout",
     "output_type": "stream",
     "text": [
      "Epoch 200, Loss 0.0384\n",
      "Training Accuracy: 0.9599, Testing Accuracy: 0.9677\n",
      "\n"
     ]
    },
    {
     "name": "stdout",
     "output_type": "stream",
     "text": [
      "Epoch 210, Loss 0.038\n",
      "Training Accuracy: 0.9599, Testing Accuracy: 0.9682\n",
      "\n"
     ]
    },
    {
     "name": "stdout",
     "output_type": "stream",
     "text": [
      "Epoch 220, Loss 0.0376\n",
      "Training Accuracy: 0.9603, Testing Accuracy: 0.9682\n",
      "\n"
     ]
    },
    {
     "name": "stdout",
     "output_type": "stream",
     "text": [
      "Epoch 230, Loss 0.0372\n",
      "Training Accuracy: 0.9605, Testing Accuracy: 0.9677\n",
      "\n"
     ]
    },
    {
     "name": "stdout",
     "output_type": "stream",
     "text": [
      "Epoch 240, Loss 0.0368\n",
      "Training Accuracy: 0.9610, Testing Accuracy: 0.9677\n",
      "\n"
     ]
    },
    {
     "data": {
      "text/plain": [
       "0.02169588497486027"
      ]
     },
     "execution_count": 23,
     "metadata": {},
     "output_type": "execute_result"
    }
   ],
   "source": [
    "lr_learner.train_loop(dl)"
   ]
  },
  {
   "cell_type": "code",
   "execution_count": 24,
   "id": "ca410940",
   "metadata": {
    "execution": {
     "iopub.execute_input": "2022-03-23T20:11:05.813101Z",
     "iopub.status.busy": "2022-03-23T20:11:05.812569Z",
     "iopub.status.idle": "2022-03-23T20:11:06.037393Z",
     "shell.execute_reply": "2022-03-23T20:11:06.037788Z"
    },
    "papermill": {
     "duration": 0.273647,
     "end_time": "2022-03-23T20:11:06.037936",
     "exception": false,
     "start_time": "2022-03-23T20:11:05.764289",
     "status": "completed"
    },
    "tags": []
   },
   "outputs": [
    {
     "data": {
      "text/plain": [
       "<matplotlib.legend.Legend at 0x7fc493614cf8>"
      ]
     },
     "execution_count": 24,
     "metadata": {},
     "output_type": "execute_result"
    },
    {
     "data": {
      "image/png": "[encoded data removed]",
      "text/plain": [
       "<Figure size 1080x720 with 1 Axes>"
      ]
     },
     "metadata": {
      "needs_background": "light"
     },
     "output_type": "display_data"
    }
   ],
   "source": [
    "#comparing the results of NN and LR\n",
    "plt.figure(figsize=(15,10))\n",
    "\n",
    "# Neural Network plots\n",
    "plt.plot(acc_nn.accuracies, 'r-', label = \"Training Accuracies - NN\")\n",
    "plt.plot(acc_nn.test_accuracies, 'g-', label = \"Testing Accuracies - NN\")\n",
    "\n",
    "# Logistic Regression plots\n",
    "plt.plot(acc_lr.accuracies, 'k-', label = \"Training Accuracies - LR\")\n",
    "plt.plot(acc_lr.test_accuracies, 'b-', label = \"Testing Accuracies - LR\")\n",
    "plt.legend()"
   ]
  },
  {
   "cell_type": "markdown",
   "id": "80dfb35c",
   "metadata": {
    "papermill": {
     "duration": 0.042027,
     "end_time": "2022-03-23T20:11:06.122279",
     "exception": false,
     "start_time": "2022-03-23T20:11:06.080252",
     "status": "completed"
    },
    "tags": []
   },
   "source": [
    "#### Plotting the outputs of this layer of the NN.\n"
   ]
  },
  {
   "cell_type": "code",
   "execution_count": 25,
   "id": "45eb2ff5",
   "metadata": {
    "execution": {
     "iopub.execute_input": "2022-03-23T20:11:06.221212Z",
     "iopub.status.busy": "2022-03-23T20:11:06.220690Z",
     "iopub.status.idle": "2022-03-23T20:11:06.233594Z",
     "shell.execute_reply": "2022-03-23T20:11:06.234006Z"
    },
    "papermill": {
     "duration": 0.070185,
     "end_time": "2022-03-23T20:11:06.234145",
     "exception": false,
     "start_time": "2022-03-23T20:11:06.163960",
     "status": "completed"
    },
    "tags": []
   },
   "outputs": [],
   "source": [
    "new_model = Model(layers[:-2])\n",
    "testing_plot = new_model(testing_data_x)"
   ]
  },
  {
   "cell_type": "code",
   "execution_count": 26,
   "id": "4c0a5485",
   "metadata": {
    "execution": {
     "iopub.execute_input": "2022-03-23T20:11:06.337112Z",
     "iopub.status.busy": "2022-03-23T20:11:06.336593Z",
     "iopub.status.idle": "2022-03-23T20:11:06.533670Z",
     "shell.execute_reply": "2022-03-23T20:11:06.534089Z"
    },
    "papermill": {
     "duration": 0.257946,
     "end_time": "2022-03-23T20:11:06.534237",
     "exception": false,
     "start_time": "2022-03-23T20:11:06.276291",
     "status": "completed"
    },
    "tags": []
   },
   "outputs": [
    {
     "data": {
      "text/plain": [
       "Text(0.5, 1.0, 'Outputs')"
      ]
     },
     "execution_count": 26,
     "metadata": {},
     "output_type": "execute_result"
    },
    {
     "data": {
      "image/png": "[encoded data removed]",
      "text/plain": [
       "<Figure size 576x504 with 1 Axes>"
      ]
     },
     "metadata": {
      "needs_background": "light"
     },
     "output_type": "display_data"
    }
   ],
   "source": [
    "# Plotting the scatter plot of points and color coding by class\n",
    "plt.figure(figsize=(8,7))\n",
    "plt.scatter(testing_plot[:,0], testing_plot[:,1], alpha = 0.1, c = y_test.ravel());\n",
    "plt.title('Outputs')"
   ]
  },
  {
   "cell_type": "markdown",
   "id": "a74fcf8f",
   "metadata": {
    "papermill": {
     "duration": 0.043534,
     "end_time": "2022-03-23T20:11:06.621796",
     "exception": false,
     "start_time": "2022-03-23T20:11:06.578262",
     "status": "completed"
    },
    "tags": []
   },
   "source": [
    "Probability contours"
   ]
  },
  {
   "cell_type": "code",
   "execution_count": 27,
   "id": "d0afc8e3",
   "metadata": {
    "execution": {
     "iopub.execute_input": "2022-03-23T20:11:06.720747Z",
     "iopub.status.busy": "2022-03-23T20:11:06.719987Z",
     "iopub.status.idle": "2022-03-23T20:11:06.729060Z",
     "shell.execute_reply": "2022-03-23T20:11:06.728056Z"
    },
    "papermill": {
     "duration": 0.063631,
     "end_time": "2022-03-23T20:11:06.729176",
     "exception": false,
     "start_time": "2022-03-23T20:11:06.665545",
     "status": "completed"
    },
    "tags": []
   },
   "outputs": [],
   "source": [
    "model_prob = Model(layers[-2:]) "
   ]
  },
  {
   "cell_type": "code",
   "execution_count": 28,
   "id": "9b96e238",
   "metadata": {
    "execution": {
     "iopub.execute_input": "2022-03-23T20:11:06.820720Z",
     "iopub.status.busy": "2022-03-23T20:11:06.820210Z",
     "iopub.status.idle": "2022-03-23T20:11:06.832994Z",
     "shell.execute_reply": "2022-03-23T20:11:06.833386Z"
    },
    "papermill": {
     "duration": 0.06066,
     "end_time": "2022-03-23T20:11:06.833518",
     "exception": false,
     "start_time": "2022-03-23T20:11:06.772858",
     "status": "completed"
    },
    "tags": []
   },
   "outputs": [],
   "source": [
    "#creating the x and y ranges according to the above generated plot.\n",
    "x_range = np.linspace(-4, 1, 100) \n",
    "y_range = np.linspace(-6, 6, 100) \n",
    "x_grid, y_grid = np.meshgrid(x_range, y_range) # x_grid and y_grig are of size 100 X 100\n",
    "\n",
    "# converting x_grid and y_grid to continuous arrays\n",
    "x_gridflat = np.ravel(x_grid)\n",
    "y_gridflat = np.ravel(y_grid)\n",
    "\n",
    "# The last layer of the current model takes two columns as input. Hence transpose of np.vstack() is required.\n",
    "X = np.vstack((x_gridflat, y_gridflat)).T\n",
    "\n",
    "prob_contour = model_prob(X).reshape(100,100) "
   ]
  },
  {
   "cell_type": "code",
   "execution_count": 29,
   "id": "da72499a",
   "metadata": {
    "execution": {
     "iopub.execute_input": "2022-03-23T20:11:06.965398Z",
     "iopub.status.busy": "2022-03-23T20:11:06.964535Z",
     "iopub.status.idle": "2022-03-23T20:11:07.209534Z",
     "shell.execute_reply": "2022-03-23T20:11:07.209930Z"
    },
    "papermill": {
     "duration": 0.332231,
     "end_time": "2022-03-23T20:11:07.210083",
     "exception": false,
     "start_time": "2022-03-23T20:11:06.877852",
     "status": "completed"
    },
    "tags": []
   },
   "outputs": [
    {
     "data": {
      "image/png": "[encoded data removed]",
      "text/plain": [
       "<Figure size 720x648 with 1 Axes>"
      ]
     },
     "metadata": {
      "needs_background": "light"
     },
     "output_type": "display_data"
    }
   ],
   "source": [
    "plt.figure(figsize=(10,9))\n",
    "plt.scatter(testing_plot[:,0], testing_plot[:,1], alpha = 0.1, c = y_test.ravel())\n",
    "contours = plt.contour(x_grid,y_grid,prob_contour)\n",
    "plt.title('Probability Contours')\n",
    "plt.clabel(contours, inline = True );"
   ]
  },
  {
   "cell_type": "code",
   "execution_count": null,
   "id": "e81b4ac7",
   "metadata": {
    "papermill": {
     "duration": 0.045948,
     "end_time": "2022-03-23T20:11:07.302635",
     "exception": false,
     "start_time": "2022-03-23T20:11:07.256687",
     "status": "completed"
    },
    "tags": []
   },
   "outputs": [],
   "source": []
  }
 ],
 "metadata": {
  "kernelspec": {
   "display_name": "Python 3",
   "language": "python",
   "name": "python3"
  },
  "language_info": {
   "codemirror_mode": {
    "name": "ipython",
    "version": 3
   },
   "file_extension": ".py",
   "mimetype": "text/x-python",
   "name": "python",
   "nbconvert_exporter": "python",
   "pygments_lexer": "ipython3",
   "version": "3.6.15"
  },
  "papermill": {
   "default_parameters": {},
   "duration": 97.59675,
   "end_time": "2022-03-23T20:11:07.767194",
   "environment_variables": {},
   "exception": null,
   "input_path": "2020-08-11-part2.ipynb",
   "output_path": "2020-08-11-part2.ipynb",
   "parameters": {},
   "start_time": "2022-03-23T20:09:30.170444",
   "version": "2.3.3"
  }
 },
 "nbformat": 4,
 "nbformat_minor": 5
}