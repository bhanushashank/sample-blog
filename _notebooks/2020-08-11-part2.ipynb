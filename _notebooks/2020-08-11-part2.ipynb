{
 "cells": [
  {
   "cell_type": "markdown",
   "id": "98380cd3",
   "metadata": {
    "papermill": {
     "duration": 0.02979,
     "end_time": "2022-08-24T20:10:19.828897",
     "exception": false,
     "start_time": "2022-08-24T20:10:19.799107",
     "status": "completed"
    },
    "tags": []
   },
   "source": [
    "# Distinguish Your Own Digits (DYOD)"
   ]
  },
  {
   "cell_type": "markdown",
   "id": "ef31240d",
   "metadata": {
    "papermill": {
     "duration": 0.024825,
     "end_time": "2022-08-24T20:10:19.878561",
     "exception": false,
     "start_time": "2022-08-24T20:10:19.853736",
     "status": "completed"
    },
    "tags": []
   },
   "source": [
    "You are going to write a classifier that distinguishes between the number 3 and number 8."
   ]
  },
  {
   "cell_type": "code",
   "execution_count": 1,
   "id": "b15c8646",
   "metadata": {
    "execution": {
     "iopub.execute_input": "2022-08-24T20:10:19.937099Z",
     "iopub.status.busy": "2022-08-24T20:10:19.936528Z",
     "iopub.status.idle": "2022-08-24T20:10:19.947495Z",
     "shell.execute_reply": "2022-08-24T20:10:19.947005Z"
    },
    "papermill": {
     "duration": 0.044762,
     "end_time": "2022-08-24T20:10:19.947618",
     "exception": false,
     "start_time": "2022-08-24T20:10:19.902856",
     "status": "completed"
    },
    "tags": []
   },
   "outputs": [],
   "source": [
    "%load_ext autoreload\n",
    "%autoreload 2"
   ]
  },
  {
   "cell_type": "code",
   "execution_count": 2,
   "id": "22ef38dc",
   "metadata": {
    "execution": {
     "iopub.execute_input": "2022-08-24T20:10:20.000470Z",
     "iopub.status.busy": "2022-08-24T20:10:19.999905Z",
     "iopub.status.idle": "2022-08-24T20:10:20.523219Z",
     "shell.execute_reply": "2022-08-24T20:10:20.522748Z"
    },
    "papermill": {
     "duration": 0.551516,
     "end_time": "2022-08-24T20:10:20.523332",
     "exception": false,
     "start_time": "2022-08-24T20:10:19.971816",
     "status": "completed"
    },
    "tags": []
   },
   "outputs": [],
   "source": [
    "%matplotlib inline\n",
    "import numpy as np\n",
    "import matplotlib.pyplot as plt\n",
    "import pandas as pd"
   ]
  },
  {
   "cell_type": "markdown",
   "id": "ba036198",
   "metadata": {
    "papermill": {
     "duration": 0.024283,
     "end_time": "2022-08-24T20:10:20.571782",
     "exception": false,
     "start_time": "2022-08-24T20:10:20.547499",
     "status": "completed"
    },
    "tags": []
   },
   "source": [
    "From the command line run `pip install mnist`. This is a library that will help you bring down the mnist dataset. If you run this from a notebook, you need to put  `!pip install mnist` in a cell by itself."
   ]
  },
  {
   "cell_type": "code",
   "execution_count": 3,
   "id": "bb6ad8a1",
   "metadata": {
    "execution": {
     "iopub.execute_input": "2022-08-24T20:10:20.625225Z",
     "iopub.status.busy": "2022-08-24T20:10:20.624119Z",
     "iopub.status.idle": "2022-08-24T20:10:22.293004Z",
     "shell.execute_reply": "2022-08-24T20:10:22.292517Z"
    },
    "papermill": {
     "duration": 1.697039,
     "end_time": "2022-08-24T20:10:22.293126",
     "exception": false,
     "start_time": "2022-08-24T20:10:20.596087",
     "status": "completed"
    },
    "tags": []
   },
   "outputs": [
    {
     "name": "stdout",
     "output_type": "stream",
     "text": [
      "Collecting mnist\r\n"
     ]
    },
    {
     "name": "stdout",
     "output_type": "stream",
     "text": [
      "  Downloading mnist-0.2.2-py2.py3-none-any.whl (3.5 kB)\r\n",
      "Requirement already satisfied: numpy in /opt/hostedtoolcache/Python/3.6.15/x64/lib/python3.6/site-packages (from mnist) (1.19.5)\r\n"
     ]
    },
    {
     "name": "stdout",
     "output_type": "stream",
     "text": [
      "Installing collected packages: mnist\r\n"
     ]
    },
    {
     "name": "stdout",
     "output_type": "stream",
     "text": [
      "Successfully installed mnist-0.2.2\r\n"
     ]
    }
   ],
   "source": [
    "!pip install mnist"
   ]
  },
  {
   "cell_type": "markdown",
   "id": "69df9c9a",
   "metadata": {
    "papermill": {
     "duration": 0.025381,
     "end_time": "2022-08-24T20:10:22.343957",
     "exception": false,
     "start_time": "2022-08-24T20:10:22.318576",
     "status": "completed"
    },
    "tags": []
   },
   "source": [
    "## Preparing the Data"
   ]
  },
  {
   "cell_type": "code",
   "execution_count": 4,
   "id": "7f69d806",
   "metadata": {
    "execution": {
     "iopub.execute_input": "2022-08-24T20:10:22.398813Z",
     "iopub.status.busy": "2022-08-24T20:10:22.398246Z",
     "iopub.status.idle": "2022-08-24T20:10:22.414032Z",
     "shell.execute_reply": "2022-08-24T20:10:22.413532Z"
    },
    "papermill": {
     "duration": 0.044458,
     "end_time": "2022-08-24T20:10:22.414144",
     "exception": false,
     "start_time": "2022-08-24T20:10:22.369686",
     "status": "completed"
    },
    "tags": []
   },
   "outputs": [],
   "source": [
    "import mnist"
   ]
  },
  {
   "cell_type": "code",
   "execution_count": 5,
   "id": "a411e44f",
   "metadata": {
    "execution": {
     "iopub.execute_input": "2022-08-24T20:10:22.468752Z",
     "iopub.status.busy": "2022-08-24T20:10:22.468173Z",
     "iopub.status.idle": "2022-08-24T20:10:23.113049Z",
     "shell.execute_reply": "2022-08-24T20:10:23.112548Z"
    },
    "papermill": {
     "duration": 0.673672,
     "end_time": "2022-08-24T20:10:23.113162",
     "exception": false,
     "start_time": "2022-08-24T20:10:22.439490",
     "status": "completed"
    },
    "tags": []
   },
   "outputs": [],
   "source": [
    "train_images = mnist.train_images()\n",
    "train_labels = mnist.train_labels()"
   ]
  },
  {
   "cell_type": "code",
   "execution_count": 6,
   "id": "dceab3a5",
   "metadata": {
    "execution": {
     "iopub.execute_input": "2022-08-24T20:10:23.170603Z",
     "iopub.status.busy": "2022-08-24T20:10:23.169510Z",
     "iopub.status.idle": "2022-08-24T20:10:23.183575Z",
     "shell.execute_reply": "2022-08-24T20:10:23.183117Z"
    },
    "papermill": {
     "duration": 0.044986,
     "end_time": "2022-08-24T20:10:23.183680",
     "exception": false,
     "start_time": "2022-08-24T20:10:23.138694",
     "status": "completed"
    },
    "tags": []
   },
   "outputs": [
    {
     "data": {
      "text/plain": [
       "((60000, 28, 28), (60000,))"
      ]
     },
     "execution_count": 6,
     "metadata": {},
     "output_type": "execute_result"
    }
   ],
   "source": [
    "train_images.shape, train_labels.shape"
   ]
  },
  {
   "cell_type": "code",
   "execution_count": 7,
   "id": "f50dc2bb",
   "metadata": {
    "execution": {
     "iopub.execute_input": "2022-08-24T20:10:23.238637Z",
     "iopub.status.busy": "2022-08-24T20:10:23.238065Z",
     "iopub.status.idle": "2022-08-24T20:10:23.477128Z",
     "shell.execute_reply": "2022-08-24T20:10:23.476614Z"
    },
    "papermill": {
     "duration": 0.26793,
     "end_time": "2022-08-24T20:10:23.477241",
     "exception": false,
     "start_time": "2022-08-24T20:10:23.209311",
     "status": "completed"
    },
    "tags": []
   },
   "outputs": [],
   "source": [
    "test_images = mnist.test_images()\n",
    "test_labels = mnist.test_labels()"
   ]
  },
  {
   "cell_type": "code",
   "execution_count": 8,
   "id": "fc38cf1b",
   "metadata": {
    "execution": {
     "iopub.execute_input": "2022-08-24T20:10:23.532924Z",
     "iopub.status.busy": "2022-08-24T20:10:23.532356Z",
     "iopub.status.idle": "2022-08-24T20:10:23.545182Z",
     "shell.execute_reply": "2022-08-24T20:10:23.544639Z"
    },
    "papermill": {
     "duration": 0.042294,
     "end_time": "2022-08-24T20:10:23.545289",
     "exception": false,
     "start_time": "2022-08-24T20:10:23.502995",
     "status": "completed"
    },
    "tags": []
   },
   "outputs": [
    {
     "data": {
      "text/plain": [
       "((10000, 28, 28), (10000,))"
      ]
     },
     "execution_count": 8,
     "metadata": {},
     "output_type": "execute_result"
    }
   ],
   "source": [
    "test_images.shape, test_labels.shape"
   ]
  },
  {
   "cell_type": "code",
   "execution_count": 9,
   "id": "f9ed8fe0",
   "metadata": {
    "execution": {
     "iopub.execute_input": "2022-08-24T20:10:23.600692Z",
     "iopub.status.busy": "2022-08-24T20:10:23.600132Z",
     "iopub.status.idle": "2022-08-24T20:10:23.735006Z",
     "shell.execute_reply": "2022-08-24T20:10:23.735440Z"
    },
    "papermill": {
     "duration": 0.164401,
     "end_time": "2022-08-24T20:10:23.735565",
     "exception": false,
     "start_time": "2022-08-24T20:10:23.571164",
     "status": "completed"
    },
    "tags": []
   },
   "outputs": [
    {
     "name": "stdout",
     "output_type": "stream",
     "text": [
      "2\n"
     ]
    },
    {
     "data": {
      "text/plain": [
       "<matplotlib.image.AxesImage at 0x7f62c886fe80>"
      ]
     },
     "execution_count": 9,
     "metadata": {},
     "output_type": "execute_result"
    },
    {
     "data": {
      "image/png": "[encoded data removed]",
      "text/plain": [
       "<Figure size 432x288 with 1 Axes>"
      ]
     },
     "metadata": {
      "needs_background": "light"
     },
     "output_type": "display_data"
    }
   ],
   "source": [
    "image_index = 7776 # You may select anything up to 60,000\n",
    "print(train_labels[image_index]) \n",
    "plt.imshow(train_images[image_index], cmap='Greys')"
   ]
  },
  {
   "cell_type": "markdown",
   "id": "a8d2388d",
   "metadata": {
    "papermill": {
     "duration": 0.026705,
     "end_time": "2022-08-24T20:10:23.789417",
     "exception": false,
     "start_time": "2022-08-24T20:10:23.762712",
     "status": "completed"
    },
    "tags": []
   },
   "source": [
    "## Filter data to get 3 and 8 out"
   ]
  },
  {
   "cell_type": "code",
   "execution_count": 10,
   "id": "776f7fc7",
   "metadata": {
    "execution": {
     "iopub.execute_input": "2022-08-24T20:10:23.847981Z",
     "iopub.status.busy": "2022-08-24T20:10:23.847390Z",
     "iopub.status.idle": "2022-08-24T20:10:23.865023Z",
     "shell.execute_reply": "2022-08-24T20:10:23.864544Z"
    },
    "papermill": {
     "duration": 0.048884,
     "end_time": "2022-08-24T20:10:23.865130",
     "exception": false,
     "start_time": "2022-08-24T20:10:23.816246",
     "status": "completed"
    },
    "tags": []
   },
   "outputs": [],
   "source": [
    "train_filter = np.where((train_labels == 3 ) | (train_labels == 8))\n",
    "test_filter = np.where((test_labels == 3) | (test_labels == 8))\n",
    "X_train, y_train = train_images[train_filter], train_labels[train_filter]\n",
    "X_test, y_test = test_images[test_filter], test_labels[test_filter]"
   ]
  },
  {
   "cell_type": "markdown",
   "id": "948f0b7e",
   "metadata": {
    "papermill": {
     "duration": 0.026888,
     "end_time": "2022-08-24T20:10:23.918995",
     "exception": false,
     "start_time": "2022-08-24T20:10:23.892107",
     "status": "completed"
    },
    "tags": []
   },
   "source": [
    "We normalize the pizel values in the 0 to 1 range"
   ]
  },
  {
   "cell_type": "code",
   "execution_count": 11,
   "id": "ee4c2166",
   "metadata": {
    "execution": {
     "iopub.execute_input": "2022-08-24T20:10:23.976909Z",
     "iopub.status.busy": "2022-08-24T20:10:23.976346Z",
     "iopub.status.idle": "2022-08-24T20:10:24.017114Z",
     "shell.execute_reply": "2022-08-24T20:10:24.016632Z"
    },
    "papermill": {
     "duration": 0.071518,
     "end_time": "2022-08-24T20:10:24.017225",
     "exception": false,
     "start_time": "2022-08-24T20:10:23.945707",
     "status": "completed"
    },
    "tags": []
   },
   "outputs": [],
   "source": [
    "X_train = X_train/255.\n",
    "X_test = X_test/255."
   ]
  },
  {
   "cell_type": "markdown",
   "id": "ddcf4fab",
   "metadata": {
    "papermill": {
     "duration": 0.0269,
     "end_time": "2022-08-24T20:10:24.071246",
     "exception": false,
     "start_time": "2022-08-24T20:10:24.044346",
     "status": "completed"
    },
    "tags": []
   },
   "source": [
    "And setup the labels as 1 (when the digit is 3) and 0 (when the digit is 8)"
   ]
  },
  {
   "cell_type": "code",
   "execution_count": 12,
   "id": "7dc908f2",
   "metadata": {
    "execution": {
     "iopub.execute_input": "2022-08-24T20:10:24.129176Z",
     "iopub.status.busy": "2022-08-24T20:10:24.128624Z",
     "iopub.status.idle": "2022-08-24T20:10:24.140394Z",
     "shell.execute_reply": "2022-08-24T20:10:24.139934Z"
    },
    "papermill": {
     "duration": 0.042414,
     "end_time": "2022-08-24T20:10:24.140499",
     "exception": false,
     "start_time": "2022-08-24T20:10:24.098085",
     "status": "completed"
    },
    "tags": []
   },
   "outputs": [],
   "source": [
    "y_train = 1*(y_train==3)\n",
    "y_test = 1*(y_test==3)"
   ]
  },
  {
   "cell_type": "code",
   "execution_count": 13,
   "id": "01e4e969",
   "metadata": {
    "execution": {
     "iopub.execute_input": "2022-08-24T20:10:24.198447Z",
     "iopub.status.busy": "2022-08-24T20:10:24.197853Z",
     "iopub.status.idle": "2022-08-24T20:10:24.211391Z",
     "shell.execute_reply": "2022-08-24T20:10:24.210938Z"
    },
    "papermill": {
     "duration": 0.043531,
     "end_time": "2022-08-24T20:10:24.211496",
     "exception": false,
     "start_time": "2022-08-24T20:10:24.167965",
     "status": "completed"
    },
    "tags": []
   },
   "outputs": [
    {
     "data": {
      "text/plain": [
       "((11982, 28, 28), (1984, 28, 28))"
      ]
     },
     "execution_count": 13,
     "metadata": {},
     "output_type": "execute_result"
    }
   ],
   "source": [
    "X_train.shape, X_test.shape"
   ]
  },
  {
   "cell_type": "markdown",
   "id": "5ccf3f85",
   "metadata": {
    "papermill": {
     "duration": 0.027041,
     "end_time": "2022-08-24T20:10:24.265961",
     "exception": false,
     "start_time": "2022-08-24T20:10:24.238920",
     "status": "completed"
    },
    "tags": []
   },
   "source": [
    "We reshape the data to flatten the image pixels into a set of features or co-variates:"
   ]
  },
  {
   "cell_type": "code",
   "execution_count": 14,
   "id": "5286a4a3",
   "metadata": {
    "execution": {
     "iopub.execute_input": "2022-08-24T20:10:24.324355Z",
     "iopub.status.busy": "2022-08-24T20:10:24.323785Z",
     "iopub.status.idle": "2022-08-24T20:10:24.337281Z",
     "shell.execute_reply": "2022-08-24T20:10:24.336735Z"
    },
    "papermill": {
     "duration": 0.044329,
     "end_time": "2022-08-24T20:10:24.337387",
     "exception": false,
     "start_time": "2022-08-24T20:10:24.293058",
     "status": "completed"
    },
    "tags": []
   },
   "outputs": [
    {
     "data": {
      "text/plain": [
       "((11982, 784), (1984, 784))"
      ]
     },
     "execution_count": 14,
     "metadata": {},
     "output_type": "execute_result"
    }
   ],
   "source": [
    "X_train = X_train.reshape(X_train.shape[0], -1)\n",
    "X_test = X_test.reshape(X_test.shape[0], -1)\n",
    "X_train.shape, X_test.shape"
   ]
  },
  {
   "cell_type": "code",
   "execution_count": 15,
   "id": "73c5f88a",
   "metadata": {
    "execution": {
     "iopub.execute_input": "2022-08-24T20:10:24.397342Z",
     "iopub.status.busy": "2022-08-24T20:10:24.396751Z",
     "iopub.status.idle": "2022-08-24T20:10:24.414057Z",
     "shell.execute_reply": "2022-08-24T20:10:24.414468Z"
    },
    "papermill": {
     "duration": 0.049906,
     "end_time": "2022-08-24T20:10:24.414596",
     "exception": false,
     "start_time": "2022-08-24T20:10:24.364690",
     "status": "completed"
    },
    "tags": []
   },
   "outputs": [],
   "source": [
    "#Impoting functions from 'Kudzu'\n",
    "from kudzu.model import Model\n",
    "from kudzu.train import Learner\n",
    "from kudzu.optim import GD\n",
    "from kudzu.data import Data, Sampler,Dataloader\n",
    "\n",
    "from kudzu.callbacks import AccCallback\n",
    "from kudzu.callbacks import ClfCallback\n",
    "\n",
    "from kudzu.loss import MSE\n",
    "\n",
    "from kudzu.layer import Sigmoid,Relu\n",
    "from kudzu.layer import Affine"
   ]
  },
  {
   "cell_type": "markdown",
   "id": "bc01172a",
   "metadata": {
    "papermill": {
     "duration": 0.027347,
     "end_time": "2022-08-24T20:10:24.469512",
     "exception": false,
     "start_time": "2022-08-24T20:10:24.442165",
     "status": "completed"
    },
    "tags": []
   },
   "source": [
    "### Let us create a `Config` class, to store important parameters. \n",
    "This class essentially plays the role of a dictionary."
   ]
  },
  {
   "cell_type": "code",
   "execution_count": 16,
   "id": "978281aa",
   "metadata": {
    "execution": {
     "iopub.execute_input": "2022-08-24T20:10:24.528354Z",
     "iopub.status.busy": "2022-08-24T20:10:24.527789Z",
     "iopub.status.idle": "2022-08-24T20:10:24.539992Z",
     "shell.execute_reply": "2022-08-24T20:10:24.539521Z"
    },
    "papermill": {
     "duration": 0.043284,
     "end_time": "2022-08-24T20:10:24.540100",
     "exception": false,
     "start_time": "2022-08-24T20:10:24.496816",
     "status": "completed"
    },
    "tags": []
   },
   "outputs": [],
   "source": [
    "class Config:\n",
    "    pass\n",
    "config = Config()\n",
    "config.lr = 0.001\n",
    "config.num_epochs = 250\n",
    "config.bs = 50"
   ]
  },
  {
   "cell_type": "markdown",
   "id": "1385fa59",
   "metadata": {
    "papermill": {
     "duration": 0.02722,
     "end_time": "2022-08-24T20:10:24.594726",
     "exception": false,
     "start_time": "2022-08-24T20:10:24.567506",
     "status": "completed"
    },
    "tags": []
   },
   "source": [
    "### Running Models with the Training data\n",
    "Details about the network layers:\n",
    "- A first affine layer has 784 inputs and does 100 affine transforms. These are followed by a Relu\n",
    "- A second affine layer has 100 inputs from the 100 activations of the past layer, and does 100 affine transforms. These are followed by a Relu\n",
    "- A third affine layer has 100 activations and does 2 affine transformations to create an embedding for visualization. There is no non-linearity here.\n",
    "- A final \"logistic regression\" which has an affine transform from 2 inputs to 1 output, which is squeezed through a sigmoid.\n"
   ]
  },
  {
   "cell_type": "code",
   "execution_count": 17,
   "id": "2b9c66db",
   "metadata": {
    "execution": {
     "iopub.execute_input": "2022-08-24T20:10:24.653367Z",
     "iopub.status.busy": "2022-08-24T20:10:24.652808Z",
     "iopub.status.idle": "2022-08-24T20:10:24.665419Z",
     "shell.execute_reply": "2022-08-24T20:10:24.664958Z"
    },
    "papermill": {
     "duration": 0.043402,
     "end_time": "2022-08-24T20:10:24.665525",
     "exception": false,
     "start_time": "2022-08-24T20:10:24.622123",
     "status": "completed"
    },
    "tags": []
   },
   "outputs": [],
   "source": [
    "data = Data(X_train, y_train.reshape(-1,1))\n",
    "sampler = Sampler(data, config.bs, shuffle=True)\n",
    "\n",
    "dl = Dataloader(data, sampler)\n",
    "\n",
    "opt = GD(config.lr)\n",
    "loss = MSE()"
   ]
  },
  {
   "cell_type": "code",
   "execution_count": 18,
   "id": "b275e4c2",
   "metadata": {
    "execution": {
     "iopub.execute_input": "2022-08-24T20:10:24.724032Z",
     "iopub.status.busy": "2022-08-24T20:10:24.723475Z",
     "iopub.status.idle": "2022-08-24T20:10:24.735799Z",
     "shell.execute_reply": "2022-08-24T20:10:24.735341Z"
    },
    "papermill": {
     "duration": 0.042924,
     "end_time": "2022-08-24T20:10:24.735901",
     "exception": false,
     "start_time": "2022-08-24T20:10:24.692977",
     "status": "completed"
    },
    "tags": []
   },
   "outputs": [],
   "source": [
    "training_data_x = X_train\n",
    "testing_data_x = X_test\n",
    "training_data_y = y_train.reshape(-1,1)\n",
    "testing_data_y = y_test.reshape(-1,1)"
   ]
  },
  {
   "cell_type": "code",
   "execution_count": 19,
   "id": "76951160",
   "metadata": {
    "execution": {
     "iopub.execute_input": "2022-08-24T20:10:24.794820Z",
     "iopub.status.busy": "2022-08-24T20:10:24.794250Z",
     "iopub.status.idle": "2022-08-24T20:10:24.810912Z",
     "shell.execute_reply": "2022-08-24T20:10:24.810361Z"
    },
    "papermill": {
     "duration": 0.047815,
     "end_time": "2022-08-24T20:10:24.811018",
     "exception": false,
     "start_time": "2022-08-24T20:10:24.763203",
     "status": "completed"
    },
    "tags": []
   },
   "outputs": [
    {
     "name": "stdout",
     "output_type": "stream",
     "text": [
      "xavier\n",
      "xavier\n",
      "xavier\n",
      "xavier\n",
      "xavier\n"
     ]
    }
   ],
   "source": [
    "layers = [Affine(\"first\", 784, 100), Relu(\"first\"), Affine(\"second\", 100, 100), Relu(\"second\"), Affine(\"third\", 100, 2), Affine(\"last\", 2, 1), Sigmoid(\"last\")]\n",
    "model_nn = Model(layers)\n",
    "model_lr = Model([Affine(\"logits\", 784, 1), Sigmoid(\"sigmoid\")])"
   ]
  },
  {
   "cell_type": "code",
   "execution_count": 20,
   "id": "6eede77a",
   "metadata": {
    "execution": {
     "iopub.execute_input": "2022-08-24T20:10:24.873535Z",
     "iopub.status.busy": "2022-08-24T20:10:24.872957Z",
     "iopub.status.idle": "2022-08-24T20:10:24.885329Z",
     "shell.execute_reply": "2022-08-24T20:10:24.884861Z"
    },
    "papermill": {
     "duration": 0.046627,
     "end_time": "2022-08-24T20:10:24.885441",
     "exception": false,
     "start_time": "2022-08-24T20:10:24.838814",
     "status": "completed"
    },
    "tags": []
   },
   "outputs": [],
   "source": [
    "nn_learner = Learner(loss, model_nn, opt, config.num_epochs)\n",
    "acc_nn = ClfCallback(nn_learner, config.bs, training_data_x , testing_data_x, training_data_y, testing_data_y)\n",
    "nn_learner.set_callbacks([acc_nn])"
   ]
  },
  {
   "cell_type": "code",
   "execution_count": 21,
   "id": "877b6cc7",
   "metadata": {
    "execution": {
     "iopub.execute_input": "2022-08-24T20:10:24.945535Z",
     "iopub.status.busy": "2022-08-24T20:10:24.944971Z",
     "iopub.status.idle": "2022-08-24T20:10:24.956775Z",
     "shell.execute_reply": "2022-08-24T20:10:24.956332Z"
    },
    "papermill": {
     "duration": 0.043603,
     "end_time": "2022-08-24T20:10:24.956879",
     "exception": false,
     "start_time": "2022-08-24T20:10:24.913276",
     "status": "completed"
    },
    "tags": []
   },
   "outputs": [],
   "source": [
    "lr_learner = Learner(loss, model_lr, opt, config.num_epochs)\n",
    "acc_lr = ClfCallback(lr_learner, config.bs, training_data_x , testing_data_x, training_data_y, testing_data_y)\n",
    "lr_learner.set_callbacks([acc_lr])"
   ]
  },
  {
   "cell_type": "code",
   "execution_count": 22,
   "id": "d9b133c3",
   "metadata": {
    "execution": {
     "iopub.execute_input": "2022-08-24T20:10:25.016100Z",
     "iopub.status.busy": "2022-08-24T20:10:25.015546Z",
     "iopub.status.idle": "2022-08-24T20:13:20.420128Z",
     "shell.execute_reply": "2022-08-24T20:13:20.420585Z"
    },
    "papermill": {
     "duration": 175.435999,
     "end_time": "2022-08-24T20:13:20.420716",
     "exception": false,
     "start_time": "2022-08-24T20:10:24.984717",
     "status": "completed"
    },
    "tags": []
   },
   "outputs": [
    {
     "name": "stdout",
     "output_type": "stream",
     "text": [
      "Epoch 0, Loss 0.2172\n",
      "Training Accuracy: 0.8085, Testing Accuracy: 0.8432\n",
      "\n"
     ]
    },
    {
     "name": "stdout",
     "output_type": "stream",
     "text": [
      "Epoch 10, Loss 0.0555\n",
      "Training Accuracy: 0.9422, Testing Accuracy: 0.9572\n",
      "\n"
     ]
    },
    {
     "name": "stdout",
     "output_type": "stream",
     "text": [
      "Epoch 20, Loss 0.0399\n",
      "Training Accuracy: 0.9570, Testing Accuracy: 0.9627\n",
      "\n"
     ]
    },
    {
     "name": "stdout",
     "output_type": "stream",
     "text": [
      "Epoch 30, Loss 0.0337\n",
      "Training Accuracy: 0.9639, Testing Accuracy: 0.9672\n",
      "\n"
     ]
    },
    {
     "name": "stdout",
     "output_type": "stream",
     "text": [
      "Epoch 40, Loss 0.0302\n",
      "Training Accuracy: 0.9670, Testing Accuracy: 0.9723\n",
      "\n"
     ]
    },
    {
     "name": "stdout",
     "output_type": "stream",
     "text": [
      "Epoch 50, Loss 0.0279\n",
      "Training Accuracy: 0.9692, Testing Accuracy: 0.9738\n",
      "\n"
     ]
    },
    {
     "name": "stdout",
     "output_type": "stream",
     "text": [
      "Epoch 60, Loss 0.0262\n",
      "Training Accuracy: 0.9707, Testing Accuracy: 0.9738\n",
      "\n"
     ]
    },
    {
     "name": "stdout",
     "output_type": "stream",
     "text": [
      "Epoch 70, Loss 0.0249\n",
      "Training Accuracy: 0.9717, Testing Accuracy: 0.9738\n",
      "\n"
     ]
    },
    {
     "name": "stdout",
     "output_type": "stream",
     "text": [
      "Epoch 80, Loss 0.0238\n",
      "Training Accuracy: 0.9725, Testing Accuracy: 0.9733\n",
      "\n"
     ]
    },
    {
     "name": "stdout",
     "output_type": "stream",
     "text": [
      "Epoch 90, Loss 0.0229\n",
      "Training Accuracy: 0.9736, Testing Accuracy: 0.9748\n",
      "\n"
     ]
    },
    {
     "name": "stdout",
     "output_type": "stream",
     "text": [
      "Epoch 100, Loss 0.0221\n",
      "Training Accuracy: 0.9743, Testing Accuracy: 0.9753\n",
      "\n"
     ]
    },
    {
     "name": "stdout",
     "output_type": "stream",
     "text": [
      "Epoch 110, Loss 0.0214\n",
      "Training Accuracy: 0.9759, Testing Accuracy: 0.9758\n",
      "\n"
     ]
    },
    {
     "name": "stdout",
     "output_type": "stream",
     "text": [
      "Epoch 120, Loss 0.0207\n",
      "Training Accuracy: 0.9767, Testing Accuracy: 0.9758\n",
      "\n"
     ]
    },
    {
     "name": "stdout",
     "output_type": "stream",
     "text": [
      "Epoch 130, Loss 0.0201\n",
      "Training Accuracy: 0.9779, Testing Accuracy: 0.9758\n",
      "\n"
     ]
    },
    {
     "name": "stdout",
     "output_type": "stream",
     "text": [
      "Epoch 140, Loss 0.0196\n",
      "Training Accuracy: 0.9785, Testing Accuracy: 0.9768\n",
      "\n"
     ]
    },
    {
     "name": "stdout",
     "output_type": "stream",
     "text": [
      "Epoch 150, Loss 0.0191\n",
      "Training Accuracy: 0.9791, Testing Accuracy: 0.9763\n",
      "\n"
     ]
    },
    {
     "name": "stdout",
     "output_type": "stream",
     "text": [
      "Epoch 160, Loss 0.0186\n",
      "Training Accuracy: 0.9797, Testing Accuracy: 0.9768\n",
      "\n"
     ]
    },
    {
     "name": "stdout",
     "output_type": "stream",
     "text": [
      "Epoch 170, Loss 0.0181\n",
      "Training Accuracy: 0.9803, Testing Accuracy: 0.9773\n",
      "\n"
     ]
    },
    {
     "name": "stdout",
     "output_type": "stream",
     "text": [
      "Epoch 180, Loss 0.0177\n",
      "Training Accuracy: 0.9808, Testing Accuracy: 0.9778\n",
      "\n"
     ]
    },
    {
     "name": "stdout",
     "output_type": "stream",
     "text": [
      "Epoch 190, Loss 0.0172\n",
      "Training Accuracy: 0.9816, Testing Accuracy: 0.9793\n",
      "\n"
     ]
    },
    {
     "name": "stdout",
     "output_type": "stream",
     "text": [
      "Epoch 200, Loss 0.0168\n",
      "Training Accuracy: 0.9821, Testing Accuracy: 0.9798\n",
      "\n"
     ]
    },
    {
     "name": "stdout",
     "output_type": "stream",
     "text": [
      "Epoch 210, Loss 0.0164\n",
      "Training Accuracy: 0.9826, Testing Accuracy: 0.9788\n",
      "\n"
     ]
    },
    {
     "name": "stdout",
     "output_type": "stream",
     "text": [
      "Epoch 220, Loss 0.016\n",
      "Training Accuracy: 0.9826, Testing Accuracy: 0.9803\n",
      "\n"
     ]
    },
    {
     "name": "stdout",
     "output_type": "stream",
     "text": [
      "Epoch 230, Loss 0.0156\n",
      "Training Accuracy: 0.9831, Testing Accuracy: 0.9803\n",
      "\n"
     ]
    },
    {
     "name": "stdout",
     "output_type": "stream",
     "text": [
      "Epoch 240, Loss 0.0152\n",
      "Training Accuracy: 0.9837, Testing Accuracy: 0.9814\n",
      "\n"
     ]
    },
    {
     "data": {
      "text/plain": [
       "0.0026401437265550203"
      ]
     },
     "execution_count": 22,
     "metadata": {},
     "output_type": "execute_result"
    }
   ],
   "source": [
    "nn_learner.train_loop(dl)"
   ]
  },
  {
   "cell_type": "code",
   "execution_count": 23,
   "id": "e0163366",
   "metadata": {
    "execution": {
     "iopub.execute_input": "2022-08-24T20:13:20.495243Z",
     "iopub.status.busy": "2022-08-24T20:13:20.494649Z",
     "iopub.status.idle": "2022-08-24T20:13:32.590013Z",
     "shell.execute_reply": "2022-08-24T20:13:32.590545Z"
    },
    "papermill": {
     "duration": 12.135424,
     "end_time": "2022-08-24T20:13:32.590675",
     "exception": false,
     "start_time": "2022-08-24T20:13:20.455251",
     "status": "completed"
    },
    "tags": []
   },
   "outputs": [
    {
     "name": "stdout",
     "output_type": "stream",
     "text": [
      "Epoch 0, Loss 0.2411\n",
      "Training Accuracy: 0.6760, Testing Accuracy: 0.7092\n",
      "\n"
     ]
    },
    {
     "name": "stdout",
     "output_type": "stream",
     "text": [
      "Epoch 10, Loss 0.1047\n",
      "Training Accuracy: 0.9041, Testing Accuracy: 0.9103\n",
      "\n"
     ]
    },
    {
     "name": "stdout",
     "output_type": "stream",
     "text": [
      "Epoch 20, Loss 0.0804\n",
      "Training Accuracy: 0.9234, Testing Accuracy: 0.9355\n",
      "\n"
     ]
    },
    {
     "name": "stdout",
     "output_type": "stream",
     "text": [
      "Epoch 30, Loss 0.0691\n",
      "Training Accuracy: 0.9336, Testing Accuracy: 0.9466\n",
      "\n"
     ]
    },
    {
     "name": "stdout",
     "output_type": "stream",
     "text": [
      "Epoch 40, Loss 0.0622\n",
      "Training Accuracy: 0.9396, Testing Accuracy: 0.9526\n",
      "\n"
     ]
    },
    {
     "name": "stdout",
     "output_type": "stream",
     "text": [
      "Epoch 50, Loss 0.0575\n",
      "Training Accuracy: 0.9429, Testing Accuracy: 0.9526\n",
      "\n"
     ]
    },
    {
     "name": "stdout",
     "output_type": "stream",
     "text": [
      "Epoch 60, Loss 0.0541\n",
      "Training Accuracy: 0.9457, Testing Accuracy: 0.9561\n",
      "\n"
     ]
    },
    {
     "name": "stdout",
     "output_type": "stream",
     "text": [
      "Epoch 70, Loss 0.0515\n",
      "Training Accuracy: 0.9481, Testing Accuracy: 0.9567\n",
      "\n"
     ]
    },
    {
     "name": "stdout",
     "output_type": "stream",
     "text": [
      "Epoch 80, Loss 0.0494\n",
      "Training Accuracy: 0.9498, Testing Accuracy: 0.9582\n",
      "\n"
     ]
    },
    {
     "name": "stdout",
     "output_type": "stream",
     "text": [
      "Epoch 90, Loss 0.0476\n",
      "Training Accuracy: 0.9517, Testing Accuracy: 0.9597\n",
      "\n"
     ]
    },
    {
     "name": "stdout",
     "output_type": "stream",
     "text": [
      "Epoch 100, Loss 0.0462\n",
      "Training Accuracy: 0.9530, Testing Accuracy: 0.9612\n",
      "\n"
     ]
    },
    {
     "name": "stdout",
     "output_type": "stream",
     "text": [
      "Epoch 110, Loss 0.045\n",
      "Training Accuracy: 0.9543, Testing Accuracy: 0.9627\n",
      "\n"
     ]
    },
    {
     "name": "stdout",
     "output_type": "stream",
     "text": [
      "Epoch 120, Loss 0.0439\n",
      "Training Accuracy: 0.9554, Testing Accuracy: 0.9637\n",
      "\n"
     ]
    },
    {
     "name": "stdout",
     "output_type": "stream",
     "text": [
      "Epoch 130, Loss 0.0429\n",
      "Training Accuracy: 0.9564, Testing Accuracy: 0.9647\n",
      "\n"
     ]
    },
    {
     "name": "stdout",
     "output_type": "stream",
     "text": [
      "Epoch 140, Loss 0.0421\n",
      "Training Accuracy: 0.9572, Testing Accuracy: 0.9652\n",
      "\n"
     ]
    },
    {
     "name": "stdout",
     "output_type": "stream",
     "text": [
      "Epoch 150, Loss 0.0413\n",
      "Training Accuracy: 0.9574, Testing Accuracy: 0.9657\n",
      "\n"
     ]
    },
    {
     "name": "stdout",
     "output_type": "stream",
     "text": [
      "Epoch 160, Loss 0.0407\n",
      "Training Accuracy: 0.9581, Testing Accuracy: 0.9652\n",
      "\n"
     ]
    },
    {
     "name": "stdout",
     "output_type": "stream",
     "text": [
      "Epoch 170, Loss 0.04\n",
      "Training Accuracy: 0.9588, Testing Accuracy: 0.9652\n",
      "\n"
     ]
    },
    {
     "name": "stdout",
     "output_type": "stream",
     "text": [
      "Epoch 180, Loss 0.0395\n",
      "Training Accuracy: 0.9591, Testing Accuracy: 0.9662\n",
      "\n"
     ]
    },
    {
     "name": "stdout",
     "output_type": "stream",
     "text": [
      "Epoch 190, Loss 0.039\n",
      "Training Accuracy: 0.9595, Testing Accuracy: 0.9667\n",
      "\n"
     ]
    },
    {
     "name": "stdout",
     "output_type": "stream",
     "text": [
      "Epoch 200, Loss 0.0385\n",
      "Training Accuracy: 0.9596, Testing Accuracy: 0.9667\n",
      "\n"
     ]
    },
    {
     "name": "stdout",
     "output_type": "stream",
     "text": [
      "Epoch 210, Loss 0.038\n",
      "Training Accuracy: 0.9598, Testing Accuracy: 0.9677\n",
      "\n"
     ]
    },
    {
     "name": "stdout",
     "output_type": "stream",
     "text": [
      "Epoch 220, Loss 0.0376\n",
      "Training Accuracy: 0.9600, Testing Accuracy: 0.9672\n",
      "\n"
     ]
    },
    {
     "name": "stdout",
     "output_type": "stream",
     "text": [
      "Epoch 230, Loss 0.0372\n",
      "Training Accuracy: 0.9603, Testing Accuracy: 0.9672\n",
      "\n"
     ]
    },
    {
     "name": "stdout",
     "output_type": "stream",
     "text": [
      "Epoch 240, Loss 0.0369\n",
      "Training Accuracy: 0.9604, Testing Accuracy: 0.9667\n",
      "\n"
     ]
    },
    {
     "data": {
      "text/plain": [
       "0.052404282937314944"
      ]
     },
     "execution_count": 23,
     "metadata": {},
     "output_type": "execute_result"
    }
   ],
   "source": [
    "lr_learner.train_loop(dl)"
   ]
  },
  {
   "cell_type": "code",
   "execution_count": 24,
   "id": "ca410940",
   "metadata": {
    "execution": {
     "iopub.execute_input": "2022-08-24T20:13:32.682490Z",
     "iopub.status.busy": "2022-08-24T20:13:32.681350Z",
     "iopub.status.idle": "2022-08-24T20:13:32.908706Z",
     "shell.execute_reply": "2022-08-24T20:13:32.909144Z"
    },
    "papermill": {
     "duration": 0.276626,
     "end_time": "2022-08-24T20:13:32.909277",
     "exception": false,
     "start_time": "2022-08-24T20:13:32.632651",
     "status": "completed"
    },
    "tags": []
   },
   "outputs": [
    {
     "data": {
      "text/plain": [
       "<matplotlib.legend.Legend at 0x7f62c83dfe80>"
      ]
     },
     "execution_count": 24,
     "metadata": {},
     "output_type": "execute_result"
    },
    {
     "data": {
      "image/png": "[encoded data removed]",
      "text/plain": [
       "<Figure size 1080x720 with 1 Axes>"
      ]
     },
     "metadata": {
      "needs_background": "light"
     },
     "output_type": "display_data"
    }
   ],
   "source": [
    "#comparing the results of NN and LR\n",
    "plt.figure(figsize=(15,10))\n",
    "\n",
    "# Neural Network plots\n",
    "plt.plot(acc_nn.accuracies, 'r-', label = \"Training Accuracies - NN\")\n",
    "plt.plot(acc_nn.test_accuracies, 'g-', label = \"Testing Accuracies - NN\")\n",
    "\n",
    "# Logistic Regression plots\n",
    "plt.plot(acc_lr.accuracies, 'k-', label = \"Training Accuracies - LR\")\n",
    "plt.plot(acc_lr.test_accuracies, 'b-', label = \"Testing Accuracies - LR\")\n",
    "plt.legend()"
   ]
  },
  {
   "cell_type": "markdown",
   "id": "80dfb35c",
   "metadata": {
    "papermill": {
     "duration": 0.042555,
     "end_time": "2022-08-24T20:13:32.994646",
     "exception": false,
     "start_time": "2022-08-24T20:13:32.952091",
     "status": "completed"
    },
    "tags": []
   },
   "source": [
    "#### Plotting the outputs of this layer of the NN.\n"
   ]
  },
  {
   "cell_type": "code",
   "execution_count": 25,
   "id": "45eb2ff5",
   "metadata": {
    "execution": {
     "iopub.execute_input": "2022-08-24T20:13:33.086501Z",
     "iopub.status.busy": "2022-08-24T20:13:33.084756Z",
     "iopub.status.idle": "2022-08-24T20:13:33.120174Z",
     "shell.execute_reply": "2022-08-24T20:13:33.120625Z"
    },
    "papermill": {
     "duration": 0.083496,
     "end_time": "2022-08-24T20:13:33.120752",
     "exception": false,
     "start_time": "2022-08-24T20:13:33.037256",
     "status": "completed"
    },
    "tags": []
   },
   "outputs": [],
   "source": [
    "new_model = Model(layers[:-2])\n",
    "testing_plot = new_model(testing_data_x)"
   ]
  },
  {
   "cell_type": "code",
   "execution_count": 26,
   "id": "4c0a5485",
   "metadata": {
    "execution": {
     "iopub.execute_input": "2022-08-24T20:13:33.214507Z",
     "iopub.status.busy": "2022-08-24T20:13:33.213936Z",
     "iopub.status.idle": "2022-08-24T20:13:33.399450Z",
     "shell.execute_reply": "2022-08-24T20:13:33.399892Z"
    },
    "papermill": {
     "duration": 0.236084,
     "end_time": "2022-08-24T20:13:33.400017",
     "exception": false,
     "start_time": "2022-08-24T20:13:33.163933",
     "status": "completed"
    },
    "tags": []
   },
   "outputs": [
    {
     "data": {
      "text/plain": [
       "Text(0.5, 1.0, 'Outputs')"
      ]
     },
     "execution_count": 26,
     "metadata": {},
     "output_type": "execute_result"
    },
    {
     "data": {
      "image/png": "[encoded data removed]",
      "text/plain": [
       "<Figure size 576x504 with 1 Axes>"
      ]
     },
     "metadata": {
      "needs_background": "light"
     },
     "output_type": "display_data"
    }
   ],
   "source": [
    "# Plotting the scatter plot of points and color coding by class\n",
    "plt.figure(figsize=(8,7))\n",
    "plt.scatter(testing_plot[:,0], testing_plot[:,1], alpha = 0.1, c = y_test.ravel());\n",
    "plt.title('Outputs')"
   ]
  },
  {
   "cell_type": "markdown",
   "id": "a74fcf8f",
   "metadata": {
    "papermill": {
     "duration": 0.045286,
     "end_time": "2022-08-24T20:13:33.512303",
     "exception": false,
     "start_time": "2022-08-24T20:13:33.467017",
     "status": "completed"
    },
    "tags": []
   },
   "source": [
    "Probability contours"
   ]
  },
  {
   "cell_type": "code",
   "execution_count": 27,
   "id": "d0afc8e3",
   "metadata": {
    "execution": {
     "iopub.execute_input": "2022-08-24T20:13:33.606736Z",
     "iopub.status.busy": "2022-08-24T20:13:33.606169Z",
     "iopub.status.idle": "2022-08-24T20:13:33.617674Z",
     "shell.execute_reply": "2022-08-24T20:13:33.617224Z"
    },
    "papermill": {
     "duration": 0.060225,
     "end_time": "2022-08-24T20:13:33.617778",
     "exception": false,
     "start_time": "2022-08-24T20:13:33.557553",
     "status": "completed"
    },
    "tags": []
   },
   "outputs": [],
   "source": [
    "model_prob = Model(layers[-2:]) "
   ]
  },
  {
   "cell_type": "code",
   "execution_count": 28,
   "id": "9b96e238",
   "metadata": {
    "execution": {
     "iopub.execute_input": "2022-08-24T20:13:33.713031Z",
     "iopub.status.busy": "2022-08-24T20:13:33.712470Z",
     "iopub.status.idle": "2022-08-24T20:13:33.726209Z",
     "shell.execute_reply": "2022-08-24T20:13:33.726606Z"
    },
    "papermill": {
     "duration": 0.063648,
     "end_time": "2022-08-24T20:13:33.726728",
     "exception": false,
     "start_time": "2022-08-24T20:13:33.663080",
     "status": "completed"
    },
    "tags": []
   },
   "outputs": [],
   "source": [
    "#creating the x and y ranges according to the above generated plot.\n",
    "x_range = np.linspace(-4, 1, 100) \n",
    "y_range = np.linspace(-6, 6, 100) \n",
    "x_grid, y_grid = np.meshgrid(x_range, y_range) # x_grid and y_grig are of size 100 X 100\n",
    "\n",
    "# converting x_grid and y_grid to continuous arrays\n",
    "x_gridflat = np.ravel(x_grid)\n",
    "y_gridflat = np.ravel(y_grid)\n",
    "\n",
    "# The last layer of the current model takes two columns as input. Hence transpose of np.vstack() is required.\n",
    "X = np.vstack((x_gridflat, y_gridflat)).T\n",
    "\n",
    "prob_contour = model_prob(X).reshape(100,100) "
   ]
  },
  {
   "cell_type": "code",
   "execution_count": 29,
   "id": "da72499a",
   "metadata": {
    "execution": {
     "iopub.execute_input": "2022-08-24T20:13:33.826483Z",
     "iopub.status.busy": "2022-08-24T20:13:33.825916Z",
     "iopub.status.idle": "2022-08-24T20:13:34.056432Z",
     "shell.execute_reply": "2022-08-24T20:13:34.056867Z"
    },
    "papermill": {
     "duration": 0.279985,
     "end_time": "2022-08-24T20:13:34.057000",
     "exception": false,
     "start_time": "2022-08-24T20:13:33.777015",
     "status": "completed"
    },
    "tags": []
   },
   "outputs": [
    {
     "data": {
      "image/png": "[encoded data removed]",
      "text/plain": [
       "<Figure size 720x648 with 1 Axes>"
      ]
     },
     "metadata": {
      "needs_background": "light"
     },
     "output_type": "display_data"
    }
   ],
   "source": [
    "plt.figure(figsize=(10,9))\n",
    "plt.scatter(testing_plot[:,0], testing_plot[:,1], alpha = 0.1, c = y_test.ravel())\n",
    "contours = plt.contour(x_grid,y_grid,prob_contour)\n",
    "plt.title('Probability Contours')\n",
    "plt.clabel(contours, inline = True );"
   ]
  },
  {
   "cell_type": "code",
   "execution_count": null,
   "id": "e81b4ac7",
   "metadata": {
    "papermill": {
     "duration": 0.047455,
     "end_time": "2022-08-24T20:13:34.152445",
     "exception": false,
     "start_time": "2022-08-24T20:13:34.104990",
     "status": "completed"
    },
    "tags": []
   },
   "outputs": [],
   "source": []
  }
 ],
 "metadata": {
  "kernelspec": {
   "display_name": "Python 3",
   "language": "python",
   "name": "python3"
  },
  "language_info": {
   "codemirror_mode": {
    "name": "ipython",
    "version": 3
   },
   "file_extension": ".py",
   "mimetype": "text/x-python",
   "name": "python",
   "nbconvert_exporter": "python",
   "pygments_lexer": "ipython3",
   "version": "3.6.15"
  },
  "papermill": {
   "default_parameters": {},
   "duration": 195.651851,
   "end_time": "2022-08-24T20:13:34.516918",
   "environment_variables": {},
   "exception": null,
   "input_path": "2020-08-11-part2.ipynb",
   "output_path": "2020-08-11-part2.ipynb",
   "parameters": {},
   "start_time": "2022-08-24T20:10:18.865067",
   "version": "2.3.3"
  }
 },
 "nbformat": 4,
 "nbformat_minor": 5
}