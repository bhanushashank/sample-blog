{
 "cells": [
  {
   "cell_type": "markdown",
   "id": "98380cd3",
   "metadata": {
    "papermill": {
     "duration": 0.036435,
     "end_time": "2021-11-25T20:09:07.693991",
     "exception": false,
     "start_time": "2021-11-25T20:09:07.657556",
     "status": "completed"
    },
    "tags": []
   },
   "source": [
    "# Distinguish Your Own Digits (DYOD)"
   ]
  },
  {
   "cell_type": "markdown",
   "id": "ef31240d",
   "metadata": {
    "papermill": {
     "duration": 0.035664,
     "end_time": "2021-11-25T20:09:07.761641",
     "exception": false,
     "start_time": "2021-11-25T20:09:07.725977",
     "status": "completed"
    },
    "tags": []
   },
   "source": [
    "You are going to write a classifier that distinguishes between the number 3 and number 8."
   ]
  },
  {
   "cell_type": "code",
   "execution_count": 1,
   "id": "b15c8646",
   "metadata": {
    "execution": {
     "iopub.execute_input": "2021-11-25T20:09:07.838826Z",
     "iopub.status.busy": "2021-11-25T20:09:07.835035Z",
     "iopub.status.idle": "2021-11-25T20:09:07.850675Z",
     "shell.execute_reply": "2021-11-25T20:09:07.850033Z"
    },
    "papermill": {
     "duration": 0.058243,
     "end_time": "2021-11-25T20:09:07.850843",
     "exception": false,
     "start_time": "2021-11-25T20:09:07.792600",
     "status": "completed"
    },
    "tags": []
   },
   "outputs": [],
   "source": [
    "%load_ext autoreload\n",
    "%autoreload 2"
   ]
  },
  {
   "cell_type": "code",
   "execution_count": 2,
   "id": "22ef38dc",
   "metadata": {
    "execution": {
     "iopub.execute_input": "2021-11-25T20:09:07.923345Z",
     "iopub.status.busy": "2021-11-25T20:09:07.922667Z",
     "iopub.status.idle": "2021-11-25T20:09:08.668597Z",
     "shell.execute_reply": "2021-11-25T20:09:08.667903Z"
    },
    "papermill": {
     "duration": 0.784982,
     "end_time": "2021-11-25T20:09:08.668789",
     "exception": false,
     "start_time": "2021-11-25T20:09:07.883807",
     "status": "completed"
    },
    "tags": []
   },
   "outputs": [],
   "source": [
    "%matplotlib inline\n",
    "import numpy as np\n",
    "import matplotlib.pyplot as plt\n",
    "import pandas as pd"
   ]
  },
  {
   "cell_type": "markdown",
   "id": "ba036198",
   "metadata": {
    "papermill": {
     "duration": 0.032082,
     "end_time": "2021-11-25T20:09:08.736042",
     "exception": false,
     "start_time": "2021-11-25T20:09:08.703960",
     "status": "completed"
    },
    "tags": []
   },
   "source": [
    "From the command line run `pip install mnist`. This is a library that will help you bring down the mnist dataset. If you run this from a notebook, you need to put  `!pip install mnist` in a cell by itself."
   ]
  },
  {
   "cell_type": "code",
   "execution_count": 3,
   "id": "bb6ad8a1",
   "metadata": {
    "execution": {
     "iopub.execute_input": "2021-11-25T20:09:08.805375Z",
     "iopub.status.busy": "2021-11-25T20:09:08.804678Z",
     "iopub.status.idle": "2021-11-25T20:09:10.971056Z",
     "shell.execute_reply": "2021-11-25T20:09:10.971620Z"
    },
    "papermill": {
     "duration": 2.204329,
     "end_time": "2021-11-25T20:09:10.971812",
     "exception": false,
     "start_time": "2021-11-25T20:09:08.767483",
     "status": "completed"
    },
    "tags": []
   },
   "outputs": [
    {
     "name": "stdout",
     "output_type": "stream",
     "text": [
      "Collecting mnist\r\n"
     ]
    },
    {
     "name": "stdout",
     "output_type": "stream",
     "text": [
      "  Downloading mnist-0.2.2-py2.py3-none-any.whl (3.5 kB)\r\n",
      "Requirement already satisfied: numpy in /opt/hostedtoolcache/Python/3.6.15/x64/lib/python3.6/site-packages (from mnist) (1.19.5)\r\n"
     ]
    },
    {
     "name": "stdout",
     "output_type": "stream",
     "text": [
      "Installing collected packages: mnist\r\n"
     ]
    },
    {
     "name": "stdout",
     "output_type": "stream",
     "text": [
      "Successfully installed mnist-0.2.2\r\n"
     ]
    }
   ],
   "source": [
    "!pip install mnist"
   ]
  },
  {
   "cell_type": "markdown",
   "id": "69df9c9a",
   "metadata": {
    "papermill": {
     "duration": 0.034622,
     "end_time": "2021-11-25T20:09:11.038755",
     "exception": false,
     "start_time": "2021-11-25T20:09:11.004133",
     "status": "completed"
    },
    "tags": []
   },
   "source": [
    "## Preparing the Data"
   ]
  },
  {
   "cell_type": "code",
   "execution_count": 4,
   "id": "7f69d806",
   "metadata": {
    "execution": {
     "iopub.execute_input": "2021-11-25T20:09:11.121359Z",
     "iopub.status.busy": "2021-11-25T20:09:11.115317Z",
     "iopub.status.idle": "2021-11-25T20:09:11.129500Z",
     "shell.execute_reply": "2021-11-25T20:09:11.128928Z"
    },
    "papermill": {
     "duration": 0.056222,
     "end_time": "2021-11-25T20:09:11.129654",
     "exception": false,
     "start_time": "2021-11-25T20:09:11.073432",
     "status": "completed"
    },
    "tags": []
   },
   "outputs": [],
   "source": [
    "import mnist"
   ]
  },
  {
   "cell_type": "code",
   "execution_count": 5,
   "id": "a411e44f",
   "metadata": {
    "execution": {
     "iopub.execute_input": "2021-11-25T20:09:11.209063Z",
     "iopub.status.busy": "2021-11-25T20:09:11.208363Z",
     "iopub.status.idle": "2021-11-25T20:09:11.906063Z",
     "shell.execute_reply": "2021-11-25T20:09:11.905477Z"
    },
    "papermill": {
     "duration": 0.741848,
     "end_time": "2021-11-25T20:09:11.906220",
     "exception": false,
     "start_time": "2021-11-25T20:09:11.164372",
     "status": "completed"
    },
    "tags": []
   },
   "outputs": [],
   "source": [
    "train_images = mnist.train_images()\n",
    "train_labels = mnist.train_labels()"
   ]
  },
  {
   "cell_type": "code",
   "execution_count": 6,
   "id": "dceab3a5",
   "metadata": {
    "execution": {
     "iopub.execute_input": "2021-11-25T20:09:11.982979Z",
     "iopub.status.busy": "2021-11-25T20:09:11.982297Z",
     "iopub.status.idle": "2021-11-25T20:09:11.997621Z",
     "shell.execute_reply": "2021-11-25T20:09:11.997004Z"
    },
    "papermill": {
     "duration": 0.056447,
     "end_time": "2021-11-25T20:09:11.997781",
     "exception": false,
     "start_time": "2021-11-25T20:09:11.941334",
     "status": "completed"
    },
    "tags": []
   },
   "outputs": [
    {
     "data": {
      "text/plain": [
       "((60000, 28, 28), (60000,))"
      ]
     },
     "execution_count": 6,
     "metadata": {},
     "output_type": "execute_result"
    }
   ],
   "source": [
    "train_images.shape, train_labels.shape"
   ]
  },
  {
   "cell_type": "code",
   "execution_count": 7,
   "id": "f50dc2bb",
   "metadata": {
    "execution": {
     "iopub.execute_input": "2021-11-25T20:09:12.069678Z",
     "iopub.status.busy": "2021-11-25T20:09:12.068995Z",
     "iopub.status.idle": "2021-11-25T20:09:12.318801Z",
     "shell.execute_reply": "2021-11-25T20:09:12.318170Z"
    },
    "papermill": {
     "duration": 0.288657,
     "end_time": "2021-11-25T20:09:12.318951",
     "exception": false,
     "start_time": "2021-11-25T20:09:12.030294",
     "status": "completed"
    },
    "tags": []
   },
   "outputs": [],
   "source": [
    "test_images = mnist.test_images()\n",
    "test_labels = mnist.test_labels()"
   ]
  },
  {
   "cell_type": "code",
   "execution_count": 8,
   "id": "fc38cf1b",
   "metadata": {
    "execution": {
     "iopub.execute_input": "2021-11-25T20:09:12.397316Z",
     "iopub.status.busy": "2021-11-25T20:09:12.396637Z",
     "iopub.status.idle": "2021-11-25T20:09:12.408721Z",
     "shell.execute_reply": "2021-11-25T20:09:12.409400Z"
    },
    "papermill": {
     "duration": 0.053883,
     "end_time": "2021-11-25T20:09:12.409587",
     "exception": false,
     "start_time": "2021-11-25T20:09:12.355704",
     "status": "completed"
    },
    "tags": []
   },
   "outputs": [
    {
     "data": {
      "text/plain": [
       "((10000, 28, 28), (10000,))"
      ]
     },
     "execution_count": 8,
     "metadata": {},
     "output_type": "execute_result"
    }
   ],
   "source": [
    "test_images.shape, test_labels.shape"
   ]
  },
  {
   "cell_type": "code",
   "execution_count": 9,
   "id": "f9ed8fe0",
   "metadata": {
    "execution": {
     "iopub.execute_input": "2021-11-25T20:09:12.487221Z",
     "iopub.status.busy": "2021-11-25T20:09:12.486556Z",
     "iopub.status.idle": "2021-11-25T20:09:12.673304Z",
     "shell.execute_reply": "2021-11-25T20:09:12.673819Z"
    },
    "papermill": {
     "duration": 0.230586,
     "end_time": "2021-11-25T20:09:12.673997",
     "exception": false,
     "start_time": "2021-11-25T20:09:12.443411",
     "status": "completed"
    },
    "tags": []
   },
   "outputs": [
    {
     "name": "stdout",
     "output_type": "stream",
     "text": [
      "2\n"
     ]
    },
    {
     "data": {
      "text/plain": [
       "<matplotlib.image.AxesImage at 0x7f1cc0c99198>"
      ]
     },
     "execution_count": 9,
     "metadata": {},
     "output_type": "execute_result"
    },
    {
     "data": {
      "image/png": "[encoded data removed]",
      "text/plain": [
       "<Figure size 432x288 with 1 Axes>"
      ]
     },
     "metadata": {
      "needs_background": "light"
     },
     "output_type": "display_data"
    }
   ],
   "source": [
    "image_index = 7776 # You may select anything up to 60,000\n",
    "print(train_labels[image_index]) \n",
    "plt.imshow(train_images[image_index], cmap='Greys')"
   ]
  },
  {
   "cell_type": "markdown",
   "id": "a8d2388d",
   "metadata": {
    "papermill": {
     "duration": 0.034637,
     "end_time": "2021-11-25T20:09:12.744234",
     "exception": false,
     "start_time": "2021-11-25T20:09:12.709597",
     "status": "completed"
    },
    "tags": []
   },
   "source": [
    "## Filter data to get 3 and 8 out"
   ]
  },
  {
   "cell_type": "code",
   "execution_count": 10,
   "id": "776f7fc7",
   "metadata": {
    "execution": {
     "iopub.execute_input": "2021-11-25T20:09:12.816763Z",
     "iopub.status.busy": "2021-11-25T20:09:12.816023Z",
     "iopub.status.idle": "2021-11-25T20:09:12.836851Z",
     "shell.execute_reply": "2021-11-25T20:09:12.837599Z"
    },
    "papermill": {
     "duration": 0.060976,
     "end_time": "2021-11-25T20:09:12.837784",
     "exception": false,
     "start_time": "2021-11-25T20:09:12.776808",
     "status": "completed"
    },
    "tags": []
   },
   "outputs": [],
   "source": [
    "train_filter = np.where((train_labels == 3 ) | (train_labels == 8))\n",
    "test_filter = np.where((test_labels == 3) | (test_labels == 8))\n",
    "X_train, y_train = train_images[train_filter], train_labels[train_filter]\n",
    "X_test, y_test = test_images[test_filter], test_labels[test_filter]"
   ]
  },
  {
   "cell_type": "markdown",
   "id": "948f0b7e",
   "metadata": {
    "papermill": {
     "duration": 0.033185,
     "end_time": "2021-11-25T20:09:12.903925",
     "exception": false,
     "start_time": "2021-11-25T20:09:12.870740",
     "status": "completed"
    },
    "tags": []
   },
   "source": [
    "We normalize the pizel values in the 0 to 1 range"
   ]
  },
  {
   "cell_type": "code",
   "execution_count": 11,
   "id": "ee4c2166",
   "metadata": {
    "execution": {
     "iopub.execute_input": "2021-11-25T20:09:12.988511Z",
     "iopub.status.busy": "2021-11-25T20:09:12.984568Z",
     "iopub.status.idle": "2021-11-25T20:09:13.046489Z",
     "shell.execute_reply": "2021-11-25T20:09:13.045892Z"
    },
    "papermill": {
     "duration": 0.108972,
     "end_time": "2021-11-25T20:09:13.046646",
     "exception": false,
     "start_time": "2021-11-25T20:09:12.937674",
     "status": "completed"
    },
    "tags": []
   },
   "outputs": [],
   "source": [
    "X_train = X_train/255.\n",
    "X_test = X_test/255."
   ]
  },
  {
   "cell_type": "markdown",
   "id": "ddcf4fab",
   "metadata": {
    "papermill": {
     "duration": 0.033905,
     "end_time": "2021-11-25T20:09:13.115919",
     "exception": false,
     "start_time": "2021-11-25T20:09:13.082014",
     "status": "completed"
    },
    "tags": []
   },
   "source": [
    "And setup the labels as 1 (when the digit is 3) and 0 (when the digit is 8)"
   ]
  },
  {
   "cell_type": "code",
   "execution_count": 12,
   "id": "7dc908f2",
   "metadata": {
    "execution": {
     "iopub.execute_input": "2021-11-25T20:09:13.191872Z",
     "iopub.status.busy": "2021-11-25T20:09:13.191163Z",
     "iopub.status.idle": "2021-11-25T20:09:13.204866Z",
     "shell.execute_reply": "2021-11-25T20:09:13.204243Z"
    },
    "papermill": {
     "duration": 0.05343,
     "end_time": "2021-11-25T20:09:13.205005",
     "exception": false,
     "start_time": "2021-11-25T20:09:13.151575",
     "status": "completed"
    },
    "tags": []
   },
   "outputs": [],
   "source": [
    "y_train = 1*(y_train==3)\n",
    "y_test = 1*(y_test==3)"
   ]
  },
  {
   "cell_type": "code",
   "execution_count": 13,
   "id": "01e4e969",
   "metadata": {
    "execution": {
     "iopub.execute_input": "2021-11-25T20:09:13.288335Z",
     "iopub.status.busy": "2021-11-25T20:09:13.287655Z",
     "iopub.status.idle": "2021-11-25T20:09:13.301746Z",
     "shell.execute_reply": "2021-11-25T20:09:13.302801Z"
    },
    "papermill": {
     "duration": 0.063946,
     "end_time": "2021-11-25T20:09:13.302969",
     "exception": false,
     "start_time": "2021-11-25T20:09:13.239023",
     "status": "completed"
    },
    "tags": []
   },
   "outputs": [
    {
     "data": {
      "text/plain": [
       "((11982, 28, 28), (1984, 28, 28))"
      ]
     },
     "execution_count": 13,
     "metadata": {},
     "output_type": "execute_result"
    }
   ],
   "source": [
    "X_train.shape, X_test.shape"
   ]
  },
  {
   "cell_type": "markdown",
   "id": "5ccf3f85",
   "metadata": {
    "papermill": {
     "duration": 0.033873,
     "end_time": "2021-11-25T20:09:13.371710",
     "exception": false,
     "start_time": "2021-11-25T20:09:13.337837",
     "status": "completed"
    },
    "tags": []
   },
   "source": [
    "We reshape the data to flatten the image pixels into a set of features or co-variates:"
   ]
  },
  {
   "cell_type": "code",
   "execution_count": 14,
   "id": "5286a4a3",
   "metadata": {
    "execution": {
     "iopub.execute_input": "2021-11-25T20:09:13.448103Z",
     "iopub.status.busy": "2021-11-25T20:09:13.447423Z",
     "iopub.status.idle": "2021-11-25T20:09:13.466447Z",
     "shell.execute_reply": "2021-11-25T20:09:13.467005Z"
    },
    "papermill": {
     "duration": 0.059168,
     "end_time": "2021-11-25T20:09:13.467178",
     "exception": false,
     "start_time": "2021-11-25T20:09:13.408010",
     "status": "completed"
    },
    "tags": []
   },
   "outputs": [
    {
     "data": {
      "text/plain": [
       "((11982, 784), (1984, 784))"
      ]
     },
     "execution_count": 14,
     "metadata": {},
     "output_type": "execute_result"
    }
   ],
   "source": [
    "X_train = X_train.reshape(X_train.shape[0], -1)\n",
    "X_test = X_test.reshape(X_test.shape[0], -1)\n",
    "X_train.shape, X_test.shape"
   ]
  },
  {
   "cell_type": "code",
   "execution_count": 15,
   "id": "73c5f88a",
   "metadata": {
    "execution": {
     "iopub.execute_input": "2021-11-25T20:09:13.544952Z",
     "iopub.status.busy": "2021-11-25T20:09:13.544245Z",
     "iopub.status.idle": "2021-11-25T20:09:13.567442Z",
     "shell.execute_reply": "2021-11-25T20:09:13.566823Z"
    },
    "papermill": {
     "duration": 0.06481,
     "end_time": "2021-11-25T20:09:13.567599",
     "exception": false,
     "start_time": "2021-11-25T20:09:13.502789",
     "status": "completed"
    },
    "tags": []
   },
   "outputs": [],
   "source": [
    "#Impoting functions from 'Kudzu'\n",
    "from kudzu.model import Model\n",
    "from kudzu.train import Learner\n",
    "from kudzu.optim import GD\n",
    "from kudzu.data import Data, Sampler,Dataloader\n",
    "\n",
    "from kudzu.callbacks import AccCallback\n",
    "from kudzu.callbacks import ClfCallback\n",
    "\n",
    "from kudzu.loss import MSE\n",
    "\n",
    "from kudzu.layer import Sigmoid,Relu\n",
    "from kudzu.layer import Affine"
   ]
  },
  {
   "cell_type": "markdown",
   "id": "bc01172a",
   "metadata": {
    "papermill": {
     "duration": 0.035173,
     "end_time": "2021-11-25T20:09:13.638578",
     "exception": false,
     "start_time": "2021-11-25T20:09:13.603405",
     "status": "completed"
    },
    "tags": []
   },
   "source": [
    "### Let us create a `Config` class, to store important parameters. \n",
    "This class essentially plays the role of a dictionary."
   ]
  },
  {
   "cell_type": "code",
   "execution_count": 16,
   "id": "978281aa",
   "metadata": {
    "execution": {
     "iopub.execute_input": "2021-11-25T20:09:13.720031Z",
     "iopub.status.busy": "2021-11-25T20:09:13.719302Z",
     "iopub.status.idle": "2021-11-25T20:09:13.733046Z",
     "shell.execute_reply": "2021-11-25T20:09:13.732432Z"
    },
    "papermill": {
     "duration": 0.056133,
     "end_time": "2021-11-25T20:09:13.733210",
     "exception": false,
     "start_time": "2021-11-25T20:09:13.677077",
     "status": "completed"
    },
    "tags": []
   },
   "outputs": [],
   "source": [
    "class Config:\n",
    "    pass\n",
    "config = Config()\n",
    "config.lr = 0.001\n",
    "config.num_epochs = 250\n",
    "config.bs = 50"
   ]
  },
  {
   "cell_type": "markdown",
   "id": "1385fa59",
   "metadata": {
    "papermill": {
     "duration": 0.034629,
     "end_time": "2021-11-25T20:09:13.803040",
     "exception": false,
     "start_time": "2021-11-25T20:09:13.768411",
     "status": "completed"
    },
    "tags": []
   },
   "source": [
    "### Running Models with the Training data\n",
    "Details about the network layers:\n",
    "- A first affine layer has 784 inputs and does 100 affine transforms. These are followed by a Relu\n",
    "- A second affine layer has 100 inputs from the 100 activations of the past layer, and does 100 affine transforms. These are followed by a Relu\n",
    "- A third affine layer has 100 activations and does 2 affine transformations to create an embedding for visualization. There is no non-linearity here.\n",
    "- A final \"logistic regression\" which has an affine transform from 2 inputs to 1 output, which is squeezed through a sigmoid.\n"
   ]
  },
  {
   "cell_type": "code",
   "execution_count": 17,
   "id": "2b9c66db",
   "metadata": {
    "execution": {
     "iopub.execute_input": "2021-11-25T20:09:13.880495Z",
     "iopub.status.busy": "2021-11-25T20:09:13.879814Z",
     "iopub.status.idle": "2021-11-25T20:09:13.892070Z",
     "shell.execute_reply": "2021-11-25T20:09:13.891544Z"
    },
    "papermill": {
     "duration": 0.053865,
     "end_time": "2021-11-25T20:09:13.892230",
     "exception": false,
     "start_time": "2021-11-25T20:09:13.838365",
     "status": "completed"
    },
    "tags": []
   },
   "outputs": [],
   "source": [
    "data = Data(X_train, y_train.reshape(-1,1))\n",
    "sampler = Sampler(data, config.bs, shuffle=True)\n",
    "\n",
    "dl = Dataloader(data, sampler)\n",
    "\n",
    "opt = GD(config.lr)\n",
    "loss = MSE()"
   ]
  },
  {
   "cell_type": "code",
   "execution_count": 18,
   "id": "b275e4c2",
   "metadata": {
    "execution": {
     "iopub.execute_input": "2021-11-25T20:09:13.966827Z",
     "iopub.status.busy": "2021-11-25T20:09:13.966137Z",
     "iopub.status.idle": "2021-11-25T20:09:13.981297Z",
     "shell.execute_reply": "2021-11-25T20:09:13.980718Z"
    },
    "papermill": {
     "duration": 0.056095,
     "end_time": "2021-11-25T20:09:13.981450",
     "exception": false,
     "start_time": "2021-11-25T20:09:13.925355",
     "status": "completed"
    },
    "tags": []
   },
   "outputs": [],
   "source": [
    "training_data_x = X_train\n",
    "testing_data_x = X_test\n",
    "training_data_y = y_train.reshape(-1,1)\n",
    "testing_data_y = y_test.reshape(-1,1)"
   ]
  },
  {
   "cell_type": "code",
   "execution_count": 19,
   "id": "76951160",
   "metadata": {
    "execution": {
     "iopub.execute_input": "2021-11-25T20:09:14.056975Z",
     "iopub.status.busy": "2021-11-25T20:09:14.056276Z",
     "iopub.status.idle": "2021-11-25T20:09:14.075629Z",
     "shell.execute_reply": "2021-11-25T20:09:14.076165Z"
    },
    "papermill": {
     "duration": 0.06052,
     "end_time": "2021-11-25T20:09:14.076329",
     "exception": false,
     "start_time": "2021-11-25T20:09:14.015809",
     "status": "completed"
    },
    "tags": []
   },
   "outputs": [
    {
     "name": "stdout",
     "output_type": "stream",
     "text": [
      "xavier\n",
      "xavier\n",
      "xavier\n",
      "xavier\n",
      "xavier\n"
     ]
    }
   ],
   "source": [
    "layers = [Affine(\"first\", 784, 100), Relu(\"first\"), Affine(\"second\", 100, 100), Relu(\"second\"), Affine(\"third\", 100, 2), Affine(\"last\", 2, 1), Sigmoid(\"last\")]\n",
    "model_nn = Model(layers)\n",
    "model_lr = Model([Affine(\"logits\", 784, 1), Sigmoid(\"sigmoid\")])"
   ]
  },
  {
   "cell_type": "code",
   "execution_count": 20,
   "id": "6eede77a",
   "metadata": {
    "execution": {
     "iopub.execute_input": "2021-11-25T20:09:14.153329Z",
     "iopub.status.busy": "2021-11-25T20:09:14.152642Z",
     "iopub.status.idle": "2021-11-25T20:09:14.165894Z",
     "shell.execute_reply": "2021-11-25T20:09:14.165318Z"
    },
    "papermill": {
     "duration": 0.054512,
     "end_time": "2021-11-25T20:09:14.166044",
     "exception": false,
     "start_time": "2021-11-25T20:09:14.111532",
     "status": "completed"
    },
    "tags": []
   },
   "outputs": [],
   "source": [
    "nn_learner = Learner(loss, model_nn, opt, config.num_epochs)\n",
    "acc_nn = ClfCallback(nn_learner, config.bs, training_data_x , testing_data_x, training_data_y, testing_data_y)\n",
    "nn_learner.set_callbacks([acc_nn])"
   ]
  },
  {
   "cell_type": "code",
   "execution_count": 21,
   "id": "877b6cc7",
   "metadata": {
    "execution": {
     "iopub.execute_input": "2021-11-25T20:09:14.243319Z",
     "iopub.status.busy": "2021-11-25T20:09:14.242650Z",
     "iopub.status.idle": "2021-11-25T20:09:14.254113Z",
     "shell.execute_reply": "2021-11-25T20:09:14.254636Z"
    },
    "papermill": {
     "duration": 0.053584,
     "end_time": "2021-11-25T20:09:14.254813",
     "exception": false,
     "start_time": "2021-11-25T20:09:14.201229",
     "status": "completed"
    },
    "tags": []
   },
   "outputs": [],
   "source": [
    "lr_learner = Learner(loss, model_lr, opt, config.num_epochs)\n",
    "acc_lr = ClfCallback(lr_learner, config.bs, training_data_x , testing_data_x, training_data_y, testing_data_y)\n",
    "lr_learner.set_callbacks([acc_lr])"
   ]
  },
  {
   "cell_type": "code",
   "execution_count": 22,
   "id": "d9b133c3",
   "metadata": {
    "execution": {
     "iopub.execute_input": "2021-11-25T20:09:14.333763Z",
     "iopub.status.busy": "2021-11-25T20:09:14.332293Z",
     "iopub.status.idle": "2021-11-25T20:11:24.147636Z",
     "shell.execute_reply": "2021-11-25T20:11:24.148530Z"
    },
    "papermill": {
     "duration": 129.858923,
     "end_time": "2021-11-25T20:11:24.148700",
     "exception": false,
     "start_time": "2021-11-25T20:09:14.289777",
     "status": "completed"
    },
    "tags": []
   },
   "outputs": [
    {
     "name": "stdout",
     "output_type": "stream",
     "text": [
      "Epoch 0, Loss 0.2435\n",
      "Training Accuracy: 0.5160, Testing Accuracy: 0.5161\n",
      "\n"
     ]
    },
    {
     "name": "stdout",
     "output_type": "stream",
     "text": [
      "Epoch 10, Loss 0.1521\n",
      "Training Accuracy: 0.9024, Testing Accuracy: 0.9173\n",
      "\n"
     ]
    },
    {
     "name": "stdout",
     "output_type": "stream",
     "text": [
      "Epoch 20, Loss 0.0733\n",
      "Training Accuracy: 0.9317, Testing Accuracy: 0.9415\n",
      "\n"
     ]
    },
    {
     "name": "stdout",
     "output_type": "stream",
     "text": [
      "Epoch 30, Loss 0.0505\n",
      "Training Accuracy: 0.9474, Testing Accuracy: 0.9607\n",
      "\n"
     ]
    },
    {
     "name": "stdout",
     "output_type": "stream",
     "text": [
      "Epoch 40, Loss 0.0411\n",
      "Training Accuracy: 0.9550, Testing Accuracy: 0.9642\n",
      "\n"
     ]
    },
    {
     "name": "stdout",
     "output_type": "stream",
     "text": [
      "Epoch 50, Loss 0.0361\n",
      "Training Accuracy: 0.9605, Testing Accuracy: 0.9672\n",
      "\n"
     ]
    },
    {
     "name": "stdout",
     "output_type": "stream",
     "text": [
      "Epoch 60, Loss 0.033\n",
      "Training Accuracy: 0.9637, Testing Accuracy: 0.9693\n",
      "\n"
     ]
    },
    {
     "name": "stdout",
     "output_type": "stream",
     "text": [
      "Epoch 70, Loss 0.0309\n",
      "Training Accuracy: 0.9664, Testing Accuracy: 0.9708\n",
      "\n"
     ]
    },
    {
     "name": "stdout",
     "output_type": "stream",
     "text": [
      "Epoch 80, Loss 0.0292\n",
      "Training Accuracy: 0.9672, Testing Accuracy: 0.9713\n",
      "\n"
     ]
    },
    {
     "name": "stdout",
     "output_type": "stream",
     "text": [
      "Epoch 90, Loss 0.0279\n",
      "Training Accuracy: 0.9690, Testing Accuracy: 0.9703\n",
      "\n"
     ]
    },
    {
     "name": "stdout",
     "output_type": "stream",
     "text": [
      "Epoch 100, Loss 0.0267\n",
      "Training Accuracy: 0.9695, Testing Accuracy: 0.9703\n",
      "\n"
     ]
    },
    {
     "name": "stdout",
     "output_type": "stream",
     "text": [
      "Epoch 110, Loss 0.0258\n",
      "Training Accuracy: 0.9705, Testing Accuracy: 0.9708\n",
      "\n"
     ]
    },
    {
     "name": "stdout",
     "output_type": "stream",
     "text": [
      "Epoch 120, Loss 0.025\n",
      "Training Accuracy: 0.9714, Testing Accuracy: 0.9713\n",
      "\n"
     ]
    },
    {
     "name": "stdout",
     "output_type": "stream",
     "text": [
      "Epoch 130, Loss 0.0242\n",
      "Training Accuracy: 0.9725, Testing Accuracy: 0.9718\n",
      "\n"
     ]
    },
    {
     "name": "stdout",
     "output_type": "stream",
     "text": [
      "Epoch 140, Loss 0.0235\n",
      "Training Accuracy: 0.9734, Testing Accuracy: 0.9713\n",
      "\n"
     ]
    },
    {
     "name": "stdout",
     "output_type": "stream",
     "text": [
      "Epoch 150, Loss 0.0229\n",
      "Training Accuracy: 0.9743, Testing Accuracy: 0.9718\n",
      "\n"
     ]
    },
    {
     "name": "stdout",
     "output_type": "stream",
     "text": [
      "Epoch 160, Loss 0.0224\n",
      "Training Accuracy: 0.9748, Testing Accuracy: 0.9718\n",
      "\n"
     ]
    },
    {
     "name": "stdout",
     "output_type": "stream",
     "text": [
      "Epoch 170, Loss 0.0218\n",
      "Training Accuracy: 0.9755, Testing Accuracy: 0.9718\n",
      "\n"
     ]
    },
    {
     "name": "stdout",
     "output_type": "stream",
     "text": [
      "Epoch 180, Loss 0.0213\n",
      "Training Accuracy: 0.9757, Testing Accuracy: 0.9718\n",
      "\n"
     ]
    },
    {
     "name": "stdout",
     "output_type": "stream",
     "text": [
      "Epoch 190, Loss 0.0208\n",
      "Training Accuracy: 0.9760, Testing Accuracy: 0.9733\n",
      "\n"
     ]
    },
    {
     "name": "stdout",
     "output_type": "stream",
     "text": [
      "Epoch 200, Loss 0.0204\n",
      "Training Accuracy: 0.9765, Testing Accuracy: 0.9733\n",
      "\n"
     ]
    },
    {
     "name": "stdout",
     "output_type": "stream",
     "text": [
      "Epoch 210, Loss 0.0199\n",
      "Training Accuracy: 0.9771, Testing Accuracy: 0.9748\n",
      "\n"
     ]
    },
    {
     "name": "stdout",
     "output_type": "stream",
     "text": [
      "Epoch 220, Loss 0.0195\n",
      "Training Accuracy: 0.9781, Testing Accuracy: 0.9748\n",
      "\n"
     ]
    },
    {
     "name": "stdout",
     "output_type": "stream",
     "text": [
      "Epoch 230, Loss 0.0191\n",
      "Training Accuracy: 0.9790, Testing Accuracy: 0.9753\n",
      "\n"
     ]
    },
    {
     "name": "stdout",
     "output_type": "stream",
     "text": [
      "Epoch 240, Loss 0.0187\n",
      "Training Accuracy: 0.9795, Testing Accuracy: 0.9758\n",
      "\n"
     ]
    },
    {
     "data": {
      "text/plain": [
       "0.018487776534909302"
      ]
     },
     "execution_count": 22,
     "metadata": {},
     "output_type": "execute_result"
    }
   ],
   "source": [
    "nn_learner.train_loop(dl)"
   ]
  },
  {
   "cell_type": "code",
   "execution_count": 23,
   "id": "e0163366",
   "metadata": {
    "execution": {
     "iopub.execute_input": "2021-11-25T20:11:24.245440Z",
     "iopub.status.busy": "2021-11-25T20:11:24.244769Z",
     "iopub.status.idle": "2021-11-25T20:11:42.951848Z",
     "shell.execute_reply": "2021-11-25T20:11:42.952729Z"
    },
    "papermill": {
     "duration": 18.759358,
     "end_time": "2021-11-25T20:11:42.952902",
     "exception": false,
     "start_time": "2021-11-25T20:11:24.193544",
     "status": "completed"
    },
    "tags": []
   },
   "outputs": [
    {
     "name": "stdout",
     "output_type": "stream",
     "text": [
      "Epoch 0, Loss 0.2526\n",
      "Training Accuracy: 0.6541, Testing Accuracy: 0.6809\n",
      "\n"
     ]
    },
    {
     "name": "stdout",
     "output_type": "stream",
     "text": [
      "Epoch 10, Loss 0.1005\n",
      "Training Accuracy: 0.9162, Testing Accuracy: 0.9289\n",
      "\n"
     ]
    },
    {
     "name": "stdout",
     "output_type": "stream",
     "text": [
      "Epoch 20, Loss 0.0778\n",
      "Training Accuracy: 0.9295, Testing Accuracy: 0.9466\n",
      "\n"
     ]
    },
    {
     "name": "stdout",
     "output_type": "stream",
     "text": [
      "Epoch 30, Loss 0.0673\n",
      "Training Accuracy: 0.9368, Testing Accuracy: 0.9521\n",
      "\n"
     ]
    },
    {
     "name": "stdout",
     "output_type": "stream",
     "text": [
      "Epoch 40, Loss 0.0609\n",
      "Training Accuracy: 0.9412, Testing Accuracy: 0.9536\n",
      "\n"
     ]
    },
    {
     "name": "stdout",
     "output_type": "stream",
     "text": [
      "Epoch 50, Loss 0.0566\n",
      "Training Accuracy: 0.9447, Testing Accuracy: 0.9561\n",
      "\n"
     ]
    },
    {
     "name": "stdout",
     "output_type": "stream",
     "text": [
      "Epoch 60, Loss 0.0534\n",
      "Training Accuracy: 0.9467, Testing Accuracy: 0.9582\n",
      "\n"
     ]
    },
    {
     "name": "stdout",
     "output_type": "stream",
     "text": [
      "Epoch 70, Loss 0.0509\n",
      "Training Accuracy: 0.9495, Testing Accuracy: 0.9607\n",
      "\n"
     ]
    },
    {
     "name": "stdout",
     "output_type": "stream",
     "text": [
      "Epoch 80, Loss 0.0489\n",
      "Training Accuracy: 0.9508, Testing Accuracy: 0.9607\n",
      "\n"
     ]
    },
    {
     "name": "stdout",
     "output_type": "stream",
     "text": [
      "Epoch 90, Loss 0.0473\n",
      "Training Accuracy: 0.9520, Testing Accuracy: 0.9602\n",
      "\n"
     ]
    },
    {
     "name": "stdout",
     "output_type": "stream",
     "text": [
      "Epoch 100, Loss 0.0459\n",
      "Training Accuracy: 0.9531, Testing Accuracy: 0.9617\n",
      "\n"
     ]
    },
    {
     "name": "stdout",
     "output_type": "stream",
     "text": [
      "Epoch 110, Loss 0.0447\n",
      "Training Accuracy: 0.9540, Testing Accuracy: 0.9627\n",
      "\n"
     ]
    },
    {
     "name": "stdout",
     "output_type": "stream",
     "text": [
      "Epoch 120, Loss 0.0437\n",
      "Training Accuracy: 0.9545, Testing Accuracy: 0.9632\n",
      "\n"
     ]
    },
    {
     "name": "stdout",
     "output_type": "stream",
     "text": [
      "Epoch 130, Loss 0.0428\n",
      "Training Accuracy: 0.9553, Testing Accuracy: 0.9637\n",
      "\n"
     ]
    },
    {
     "name": "stdout",
     "output_type": "stream",
     "text": [
      "Epoch 140, Loss 0.042\n",
      "Training Accuracy: 0.9564, Testing Accuracy: 0.9642\n",
      "\n"
     ]
    },
    {
     "name": "stdout",
     "output_type": "stream",
     "text": [
      "Epoch 150, Loss 0.0412\n",
      "Training Accuracy: 0.9569, Testing Accuracy: 0.9642\n",
      "\n"
     ]
    },
    {
     "name": "stdout",
     "output_type": "stream",
     "text": [
      "Epoch 160, Loss 0.0406\n",
      "Training Accuracy: 0.9575, Testing Accuracy: 0.9647\n",
      "\n"
     ]
    },
    {
     "name": "stdout",
     "output_type": "stream",
     "text": [
      "Epoch 170, Loss 0.04\n",
      "Training Accuracy: 0.9580, Testing Accuracy: 0.9652\n",
      "\n"
     ]
    },
    {
     "name": "stdout",
     "output_type": "stream",
     "text": [
      "Epoch 180, Loss 0.0394\n",
      "Training Accuracy: 0.9586, Testing Accuracy: 0.9657\n",
      "\n"
     ]
    },
    {
     "name": "stdout",
     "output_type": "stream",
     "text": [
      "Epoch 190, Loss 0.0389\n",
      "Training Accuracy: 0.9595, Testing Accuracy: 0.9662\n",
      "\n"
     ]
    },
    {
     "name": "stdout",
     "output_type": "stream",
     "text": [
      "Epoch 200, Loss 0.0384\n",
      "Training Accuracy: 0.9600, Testing Accuracy: 0.9672\n",
      "\n"
     ]
    },
    {
     "name": "stdout",
     "output_type": "stream",
     "text": [
      "Epoch 210, Loss 0.038\n",
      "Training Accuracy: 0.9604, Testing Accuracy: 0.9667\n",
      "\n"
     ]
    },
    {
     "name": "stdout",
     "output_type": "stream",
     "text": [
      "Epoch 220, Loss 0.0376\n",
      "Training Accuracy: 0.9605, Testing Accuracy: 0.9667\n",
      "\n"
     ]
    },
    {
     "name": "stdout",
     "output_type": "stream",
     "text": [
      "Epoch 230, Loss 0.0372\n",
      "Training Accuracy: 0.9610, Testing Accuracy: 0.9672\n",
      "\n"
     ]
    },
    {
     "name": "stdout",
     "output_type": "stream",
     "text": [
      "Epoch 240, Loss 0.0368\n",
      "Training Accuracy: 0.9613, Testing Accuracy: 0.9672\n",
      "\n"
     ]
    },
    {
     "data": {
      "text/plain": [
       "0.03967228238438694"
      ]
     },
     "execution_count": 23,
     "metadata": {},
     "output_type": "execute_result"
    }
   ],
   "source": [
    "lr_learner.train_loop(dl)"
   ]
  },
  {
   "cell_type": "code",
   "execution_count": 24,
   "id": "ca410940",
   "metadata": {
    "execution": {
     "iopub.execute_input": "2021-11-25T20:11:43.068676Z",
     "iopub.status.busy": "2021-11-25T20:11:43.067980Z",
     "iopub.status.idle": "2021-11-25T20:11:43.370338Z",
     "shell.execute_reply": "2021-11-25T20:11:43.369762Z"
    },
    "papermill": {
     "duration": 0.364788,
     "end_time": "2021-11-25T20:11:43.370489",
     "exception": false,
     "start_time": "2021-11-25T20:11:43.005701",
     "status": "completed"
    },
    "tags": []
   },
   "outputs": [
    {
     "data": {
      "text/plain": [
       "<matplotlib.legend.Legend at 0x7f1cc07f8898>"
      ]
     },
     "execution_count": 24,
     "metadata": {},
     "output_type": "execute_result"
    },
    {
     "data": {
      "image/png": "[encoded data removed]",
      "text/plain": [
       "<Figure size 1080x720 with 1 Axes>"
      ]
     },
     "metadata": {
      "needs_background": "light"
     },
     "output_type": "display_data"
    }
   ],
   "source": [
    "#comparing the results of NN and LR\n",
    "plt.figure(figsize=(15,10))\n",
    "\n",
    "# Neural Network plots\n",
    "plt.plot(acc_nn.accuracies, 'r-', label = \"Training Accuracies - NN\")\n",
    "plt.plot(acc_nn.test_accuracies, 'g-', label = \"Testing Accuracies - NN\")\n",
    "\n",
    "# Logistic Regression plots\n",
    "plt.plot(acc_lr.accuracies, 'k-', label = \"Training Accuracies - LR\")\n",
    "plt.plot(acc_lr.test_accuracies, 'b-', label = \"Testing Accuracies - LR\")\n",
    "plt.legend()"
   ]
  },
  {
   "cell_type": "markdown",
   "id": "80dfb35c",
   "metadata": {
    "papermill": {
     "duration": 0.059052,
     "end_time": "2021-11-25T20:11:43.483581",
     "exception": false,
     "start_time": "2021-11-25T20:11:43.424529",
     "status": "completed"
    },
    "tags": []
   },
   "source": [
    "#### Plotting the outputs of this layer of the NN.\n"
   ]
  },
  {
   "cell_type": "code",
   "execution_count": 25,
   "id": "45eb2ff5",
   "metadata": {
    "execution": {
     "iopub.execute_input": "2021-11-25T20:11:43.612515Z",
     "iopub.status.busy": "2021-11-25T20:11:43.609606Z",
     "iopub.status.idle": "2021-11-25T20:11:43.632239Z",
     "shell.execute_reply": "2021-11-25T20:11:43.634048Z"
    },
    "papermill": {
     "duration": 0.0945,
     "end_time": "2021-11-25T20:11:43.634343",
     "exception": false,
     "start_time": "2021-11-25T20:11:43.539843",
     "status": "completed"
    },
    "tags": []
   },
   "outputs": [],
   "source": [
    "new_model = Model(layers[:-2])\n",
    "testing_plot = new_model(testing_data_x)"
   ]
  },
  {
   "cell_type": "code",
   "execution_count": 26,
   "id": "4c0a5485",
   "metadata": {
    "execution": {
     "iopub.execute_input": "2021-11-25T20:11:43.752421Z",
     "iopub.status.busy": "2021-11-25T20:11:43.751738Z",
     "iopub.status.idle": "2021-11-25T20:11:44.026263Z",
     "shell.execute_reply": "2021-11-25T20:11:44.026791Z"
    },
    "papermill": {
     "duration": 0.337425,
     "end_time": "2021-11-25T20:11:44.026966",
     "exception": false,
     "start_time": "2021-11-25T20:11:43.689541",
     "status": "completed"
    },
    "tags": []
   },
   "outputs": [
    {
     "data": {
      "text/plain": [
       "Text(0.5, 1.0, 'Outputs')"
      ]
     },
     "execution_count": 26,
     "metadata": {},
     "output_type": "execute_result"
    },
    {
     "data": {
      "image/png": "[encoded data removed]",
      "text/plain": [
       "<Figure size 576x504 with 1 Axes>"
      ]
     },
     "metadata": {
      "needs_background": "light"
     },
     "output_type": "display_data"
    }
   ],
   "source": [
    "# Plotting the scatter plot of points and color coding by class\n",
    "plt.figure(figsize=(8,7))\n",
    "plt.scatter(testing_plot[:,0], testing_plot[:,1], alpha = 0.1, c = y_test.ravel());\n",
    "plt.title('Outputs')"
   ]
  },
  {
   "cell_type": "markdown",
   "id": "a74fcf8f",
   "metadata": {
    "papermill": {
     "duration": 0.056946,
     "end_time": "2021-11-25T20:11:44.144379",
     "exception": false,
     "start_time": "2021-11-25T20:11:44.087433",
     "status": "completed"
    },
    "tags": []
   },
   "source": [
    "Probability contours"
   ]
  },
  {
   "cell_type": "code",
   "execution_count": 27,
   "id": "d0afc8e3",
   "metadata": {
    "execution": {
     "iopub.execute_input": "2021-11-25T20:11:44.292348Z",
     "iopub.status.busy": "2021-11-25T20:11:44.291669Z",
     "iopub.status.idle": "2021-11-25T20:11:44.304339Z",
     "shell.execute_reply": "2021-11-25T20:11:44.303756Z"
    },
    "papermill": {
     "duration": 0.076883,
     "end_time": "2021-11-25T20:11:44.304483",
     "exception": false,
     "start_time": "2021-11-25T20:11:44.227600",
     "status": "completed"
    },
    "tags": []
   },
   "outputs": [],
   "source": [
    "model_prob = Model(layers[-2:]) "
   ]
  },
  {
   "cell_type": "code",
   "execution_count": 28,
   "id": "9b96e238",
   "metadata": {
    "execution": {
     "iopub.execute_input": "2021-11-25T20:11:44.424560Z",
     "iopub.status.busy": "2021-11-25T20:11:44.423870Z",
     "iopub.status.idle": "2021-11-25T20:11:44.440359Z",
     "shell.execute_reply": "2021-11-25T20:11:44.440936Z"
    },
    "papermill": {
     "duration": 0.079829,
     "end_time": "2021-11-25T20:11:44.441119",
     "exception": false,
     "start_time": "2021-11-25T20:11:44.361290",
     "status": "completed"
    },
    "tags": []
   },
   "outputs": [],
   "source": [
    "#creating the x and y ranges according to the above generated plot.\n",
    "x_range = np.linspace(-4, 1, 100) \n",
    "y_range = np.linspace(-6, 6, 100) \n",
    "x_grid, y_grid = np.meshgrid(x_range, y_range) # x_grid and y_grig are of size 100 X 100\n",
    "\n",
    "# converting x_grid and y_grid to continuous arrays\n",
    "x_gridflat = np.ravel(x_grid)\n",
    "y_gridflat = np.ravel(y_grid)\n",
    "\n",
    "# The last layer of the current model takes two columns as input. Hence transpose of np.vstack() is required.\n",
    "X = np.vstack((x_gridflat, y_gridflat)).T\n",
    "\n",
    "prob_contour = model_prob(X).reshape(100,100) "
   ]
  },
  {
   "cell_type": "code",
   "execution_count": 29,
   "id": "da72499a",
   "metadata": {
    "execution": {
     "iopub.execute_input": "2021-11-25T20:11:44.563973Z",
     "iopub.status.busy": "2021-11-25T20:11:44.563239Z",
     "iopub.status.idle": "2021-11-25T20:11:44.910668Z",
     "shell.execute_reply": "2021-11-25T20:11:44.910102Z"
    },
    "papermill": {
     "duration": 0.413486,
     "end_time": "2021-11-25T20:11:44.910809",
     "exception": false,
     "start_time": "2021-11-25T20:11:44.497323",
     "status": "completed"
    },
    "tags": []
   },
   "outputs": [
    {
     "data": {
      "image/png": "[encoded data removed]",
      "text/plain": [
       "<Figure size 720x648 with 1 Axes>"
      ]
     },
     "metadata": {
      "needs_background": "light"
     },
     "output_type": "display_data"
    }
   ],
   "source": [
    "plt.figure(figsize=(10,9))\n",
    "plt.scatter(testing_plot[:,0], testing_plot[:,1], alpha = 0.1, c = y_test.ravel())\n",
    "contours = plt.contour(x_grid,y_grid,prob_contour)\n",
    "plt.title('Probability Contours')\n",
    "plt.clabel(contours, inline = True );"
   ]
  },
  {
   "cell_type": "code",
   "execution_count": null,
   "id": "e81b4ac7",
   "metadata": {
    "papermill": {
     "duration": 0.05969,
     "end_time": "2021-11-25T20:11:45.030727",
     "exception": false,
     "start_time": "2021-11-25T20:11:44.971037",
     "status": "completed"
    },
    "tags": []
   },
   "outputs": [],
   "source": []
  }
 ],
 "metadata": {
  "kernelspec": {
   "display_name": "Python 3",
   "language": "python",
   "name": "python3"
  },
  "language_info": {
   "codemirror_mode": {
    "name": "ipython",
    "version": 3
   },
   "file_extension": ".py",
   "mimetype": "text/x-python",
   "name": "python",
   "nbconvert_exporter": "python",
   "pygments_lexer": "ipython3",
   "version": "3.6.15"
  },
  "papermill": {
   "default_parameters": {},
   "duration": 159.204059,
   "end_time": "2021-11-25T20:11:45.503020",
   "environment_variables": {},
   "exception": null,
   "input_path": "2020-08-11-part2.ipynb",
   "output_path": "2020-08-11-part2.ipynb",
   "parameters": {},
   "start_time": "2021-11-25T20:09:06.298961",
   "version": "2.3.3"
  }
 },
 "nbformat": 4,
 "nbformat_minor": 5
}