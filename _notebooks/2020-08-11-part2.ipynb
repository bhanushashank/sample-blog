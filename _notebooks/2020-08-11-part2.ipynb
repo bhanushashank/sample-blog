{
 "cells": [
  {
   "cell_type": "markdown",
   "id": "98380cd3",
   "metadata": {
    "papermill": {
     "duration": 0.029931,
     "end_time": "2022-10-05T10:13:04.379715",
     "exception": false,
     "start_time": "2022-10-05T10:13:04.349784",
     "status": "completed"
    },
    "tags": []
   },
   "source": [
    "# Distinguish Your Own Digits (DYOD)"
   ]
  },
  {
   "cell_type": "markdown",
   "id": "ef31240d",
   "metadata": {
    "papermill": {
     "duration": 0.02387,
     "end_time": "2022-10-05T10:13:04.427925",
     "exception": false,
     "start_time": "2022-10-05T10:13:04.404055",
     "status": "completed"
    },
    "tags": []
   },
   "source": [
    "You are going to write a classifier that distinguishes between the number 3 and number 8."
   ]
  },
  {
   "cell_type": "code",
   "execution_count": 1,
   "id": "b15c8646",
   "metadata": {
    "execution": {
     "iopub.execute_input": "2022-10-05T10:13:04.485747Z",
     "iopub.status.busy": "2022-10-05T10:13:04.485084Z",
     "iopub.status.idle": "2022-10-05T10:13:04.497623Z",
     "shell.execute_reply": "2022-10-05T10:13:04.497102Z"
    },
    "papermill": {
     "duration": 0.046295,
     "end_time": "2022-10-05T10:13:04.497766",
     "exception": false,
     "start_time": "2022-10-05T10:13:04.451471",
     "status": "completed"
    },
    "tags": []
   },
   "outputs": [],
   "source": [
    "%load_ext autoreload\n",
    "%autoreload 2"
   ]
  },
  {
   "cell_type": "code",
   "execution_count": 2,
   "id": "22ef38dc",
   "metadata": {
    "execution": {
     "iopub.execute_input": "2022-10-05T10:13:04.552909Z",
     "iopub.status.busy": "2022-10-05T10:13:04.552302Z",
     "iopub.status.idle": "2022-10-05T10:13:05.104696Z",
     "shell.execute_reply": "2022-10-05T10:13:05.104120Z"
    },
    "papermill": {
     "duration": 0.583067,
     "end_time": "2022-10-05T10:13:05.104844",
     "exception": false,
     "start_time": "2022-10-05T10:13:04.521777",
     "status": "completed"
    },
    "tags": []
   },
   "outputs": [],
   "source": [
    "%matplotlib inline\n",
    "import numpy as np\n",
    "import matplotlib.pyplot as plt\n",
    "import pandas as pd"
   ]
  },
  {
   "cell_type": "markdown",
   "id": "ba036198",
   "metadata": {
    "papermill": {
     "duration": 0.023822,
     "end_time": "2022-10-05T10:13:05.154551",
     "exception": false,
     "start_time": "2022-10-05T10:13:05.130729",
     "status": "completed"
    },
    "tags": []
   },
   "source": [
    "From the command line run `pip install mnist`. This is a library that will help you bring down the mnist dataset. If you run this from a notebook, you need to put  `!pip install mnist` in a cell by itself."
   ]
  },
  {
   "cell_type": "code",
   "execution_count": 3,
   "id": "bb6ad8a1",
   "metadata": {
    "execution": {
     "iopub.execute_input": "2022-10-05T10:13:05.212408Z",
     "iopub.status.busy": "2022-10-05T10:13:05.211790Z",
     "iopub.status.idle": "2022-10-05T10:13:06.939427Z",
     "shell.execute_reply": "2022-10-05T10:13:06.938736Z"
    },
    "papermill": {
     "duration": 1.761187,
     "end_time": "2022-10-05T10:13:06.939567",
     "exception": false,
     "start_time": "2022-10-05T10:13:05.178380",
     "status": "completed"
    },
    "tags": []
   },
   "outputs": [
    {
     "name": "stdout",
     "output_type": "stream",
     "text": [
      "Collecting mnist\r\n"
     ]
    },
    {
     "name": "stdout",
     "output_type": "stream",
     "text": [
      "  Downloading mnist-0.2.2-py2.py3-none-any.whl (3.5 kB)\r\n",
      "Requirement already satisfied: numpy in /opt/hostedtoolcache/Python/3.6.15/x64/lib/python3.6/site-packages (from mnist) (1.19.5)\r\n"
     ]
    },
    {
     "name": "stdout",
     "output_type": "stream",
     "text": [
      "Installing collected packages: mnist\r\n"
     ]
    },
    {
     "name": "stdout",
     "output_type": "stream",
     "text": [
      "Successfully installed mnist-0.2.2\r\n"
     ]
    }
   ],
   "source": [
    "!pip install mnist"
   ]
  },
  {
   "cell_type": "markdown",
   "id": "69df9c9a",
   "metadata": {
    "papermill": {
     "duration": 0.025036,
     "end_time": "2022-10-05T10:13:06.990952",
     "exception": false,
     "start_time": "2022-10-05T10:13:06.965916",
     "status": "completed"
    },
    "tags": []
   },
   "source": [
    "## Preparing the Data"
   ]
  },
  {
   "cell_type": "code",
   "execution_count": 4,
   "id": "7f69d806",
   "metadata": {
    "execution": {
     "iopub.execute_input": "2022-10-05T10:13:07.048249Z",
     "iopub.status.busy": "2022-10-05T10:13:07.047599Z",
     "iopub.status.idle": "2022-10-05T10:13:07.063285Z",
     "shell.execute_reply": "2022-10-05T10:13:07.062689Z"
    },
    "papermill": {
     "duration": 0.047536,
     "end_time": "2022-10-05T10:13:07.063420",
     "exception": false,
     "start_time": "2022-10-05T10:13:07.015884",
     "status": "completed"
    },
    "tags": []
   },
   "outputs": [],
   "source": [
    "import mnist"
   ]
  },
  {
   "cell_type": "code",
   "execution_count": 5,
   "id": "a411e44f",
   "metadata": {
    "execution": {
     "iopub.execute_input": "2022-10-05T10:13:07.123650Z",
     "iopub.status.busy": "2022-10-05T10:13:07.117674Z",
     "iopub.status.idle": "2022-10-05T10:13:07.747217Z",
     "shell.execute_reply": "2022-10-05T10:13:07.746534Z"
    },
    "papermill": {
     "duration": 0.658786,
     "end_time": "2022-10-05T10:13:07.747369",
     "exception": false,
     "start_time": "2022-10-05T10:13:07.088583",
     "status": "completed"
    },
    "tags": []
   },
   "outputs": [],
   "source": [
    "train_images = mnist.train_images()\n",
    "train_labels = mnist.train_labels()"
   ]
  },
  {
   "cell_type": "code",
   "execution_count": 6,
   "id": "dceab3a5",
   "metadata": {
    "execution": {
     "iopub.execute_input": "2022-10-05T10:13:07.804422Z",
     "iopub.status.busy": "2022-10-05T10:13:07.803821Z",
     "iopub.status.idle": "2022-10-05T10:13:07.817607Z",
     "shell.execute_reply": "2022-10-05T10:13:07.818151Z"
    },
    "papermill": {
     "duration": 0.045498,
     "end_time": "2022-10-05T10:13:07.818290",
     "exception": false,
     "start_time": "2022-10-05T10:13:07.772792",
     "status": "completed"
    },
    "tags": []
   },
   "outputs": [
    {
     "data": {
      "text/plain": [
       "((60000, 28, 28), (60000,))"
      ]
     },
     "execution_count": 6,
     "metadata": {},
     "output_type": "execute_result"
    }
   ],
   "source": [
    "train_images.shape, train_labels.shape"
   ]
  },
  {
   "cell_type": "code",
   "execution_count": 7,
   "id": "f50dc2bb",
   "metadata": {
    "execution": {
     "iopub.execute_input": "2022-10-05T10:13:07.883334Z",
     "iopub.status.busy": "2022-10-05T10:13:07.875879Z",
     "iopub.status.idle": "2022-10-05T10:13:08.093323Z",
     "shell.execute_reply": "2022-10-05T10:13:08.092705Z"
    },
    "papermill": {
     "duration": 0.25004,
     "end_time": "2022-10-05T10:13:08.093461",
     "exception": false,
     "start_time": "2022-10-05T10:13:07.843421",
     "status": "completed"
    },
    "tags": []
   },
   "outputs": [],
   "source": [
    "test_images = mnist.test_images()\n",
    "test_labels = mnist.test_labels()"
   ]
  },
  {
   "cell_type": "code",
   "execution_count": 8,
   "id": "fc38cf1b",
   "metadata": {
    "execution": {
     "iopub.execute_input": "2022-10-05T10:13:08.150527Z",
     "iopub.status.busy": "2022-10-05T10:13:08.149912Z",
     "iopub.status.idle": "2022-10-05T10:13:08.163168Z",
     "shell.execute_reply": "2022-10-05T10:13:08.162647Z"
    },
    "papermill": {
     "duration": 0.043935,
     "end_time": "2022-10-05T10:13:08.163297",
     "exception": false,
     "start_time": "2022-10-05T10:13:08.119362",
     "status": "completed"
    },
    "tags": []
   },
   "outputs": [
    {
     "data": {
      "text/plain": [
       "((10000, 28, 28), (10000,))"
      ]
     },
     "execution_count": 8,
     "metadata": {},
     "output_type": "execute_result"
    }
   ],
   "source": [
    "test_images.shape, test_labels.shape"
   ]
  },
  {
   "cell_type": "code",
   "execution_count": 9,
   "id": "f9ed8fe0",
   "metadata": {
    "execution": {
     "iopub.execute_input": "2022-10-05T10:13:08.229957Z",
     "iopub.status.busy": "2022-10-05T10:13:08.225159Z",
     "iopub.status.idle": "2022-10-05T10:13:08.365677Z",
     "shell.execute_reply": "2022-10-05T10:13:08.366163Z"
    },
    "papermill": {
     "duration": 0.177633,
     "end_time": "2022-10-05T10:13:08.366311",
     "exception": false,
     "start_time": "2022-10-05T10:13:08.188678",
     "status": "completed"
    },
    "tags": []
   },
   "outputs": [
    {
     "name": "stdout",
     "output_type": "stream",
     "text": [
      "2\n"
     ]
    },
    {
     "data": {
      "text/plain": [
       "<matplotlib.image.AxesImage at 0x7f8d04b6ecc0>"
      ]
     },
     "execution_count": 9,
     "metadata": {},
     "output_type": "execute_result"
    },
    {
     "data": {
      "image/png": "[encoded data removed]",
      "text/plain": [
       "<Figure size 432x288 with 1 Axes>"
      ]
     },
     "metadata": {
      "needs_background": "light"
     },
     "output_type": "display_data"
    }
   ],
   "source": [
    "image_index = 7776 # You may select anything up to 60,000\n",
    "print(train_labels[image_index]) \n",
    "plt.imshow(train_images[image_index], cmap='Greys')"
   ]
  },
  {
   "cell_type": "markdown",
   "id": "a8d2388d",
   "metadata": {
    "papermill": {
     "duration": 0.026536,
     "end_time": "2022-10-05T10:13:08.419939",
     "exception": false,
     "start_time": "2022-10-05T10:13:08.393403",
     "status": "completed"
    },
    "tags": []
   },
   "source": [
    "## Filter data to get 3 and 8 out"
   ]
  },
  {
   "cell_type": "code",
   "execution_count": 10,
   "id": "776f7fc7",
   "metadata": {
    "execution": {
     "iopub.execute_input": "2022-10-05T10:13:08.479834Z",
     "iopub.status.busy": "2022-10-05T10:13:08.479081Z",
     "iopub.status.idle": "2022-10-05T10:13:08.498087Z",
     "shell.execute_reply": "2022-10-05T10:13:08.498960Z"
    },
    "papermill": {
     "duration": 0.052655,
     "end_time": "2022-10-05T10:13:08.499119",
     "exception": false,
     "start_time": "2022-10-05T10:13:08.446464",
     "status": "completed"
    },
    "tags": []
   },
   "outputs": [],
   "source": [
    "train_filter = np.where((train_labels == 3 ) | (train_labels == 8))\n",
    "test_filter = np.where((test_labels == 3) | (test_labels == 8))\n",
    "X_train, y_train = train_images[train_filter], train_labels[train_filter]\n",
    "X_test, y_test = test_images[test_filter], test_labels[test_filter]"
   ]
  },
  {
   "cell_type": "markdown",
   "id": "948f0b7e",
   "metadata": {
    "papermill": {
     "duration": 0.026546,
     "end_time": "2022-10-05T10:13:08.552355",
     "exception": false,
     "start_time": "2022-10-05T10:13:08.525809",
     "status": "completed"
    },
    "tags": []
   },
   "source": [
    "We normalize the pizel values in the 0 to 1 range"
   ]
  },
  {
   "cell_type": "code",
   "execution_count": 11,
   "id": "ee4c2166",
   "metadata": {
    "execution": {
     "iopub.execute_input": "2022-10-05T10:13:08.612371Z",
     "iopub.status.busy": "2022-10-05T10:13:08.611771Z",
     "iopub.status.idle": "2022-10-05T10:13:08.661023Z",
     "shell.execute_reply": "2022-10-05T10:13:08.660425Z"
    },
    "papermill": {
     "duration": 0.080323,
     "end_time": "2022-10-05T10:13:08.661164",
     "exception": false,
     "start_time": "2022-10-05T10:13:08.580841",
     "status": "completed"
    },
    "tags": []
   },
   "outputs": [],
   "source": [
    "X_train = X_train/255.\n",
    "X_test = X_test/255."
   ]
  },
  {
   "cell_type": "markdown",
   "id": "ddcf4fab",
   "metadata": {
    "papermill": {
     "duration": 0.026779,
     "end_time": "2022-10-05T10:13:08.715995",
     "exception": false,
     "start_time": "2022-10-05T10:13:08.689216",
     "status": "completed"
    },
    "tags": []
   },
   "source": [
    "And setup the labels as 1 (when the digit is 3) and 0 (when the digit is 8)"
   ]
  },
  {
   "cell_type": "code",
   "execution_count": 12,
   "id": "7dc908f2",
   "metadata": {
    "execution": {
     "iopub.execute_input": "2022-10-05T10:13:08.787544Z",
     "iopub.status.busy": "2022-10-05T10:13:08.784143Z",
     "iopub.status.idle": "2022-10-05T10:13:08.790399Z",
     "shell.execute_reply": "2022-10-05T10:13:08.789920Z"
    },
    "papermill": {
     "duration": 0.047929,
     "end_time": "2022-10-05T10:13:08.790520",
     "exception": false,
     "start_time": "2022-10-05T10:13:08.742591",
     "status": "completed"
    },
    "tags": []
   },
   "outputs": [],
   "source": [
    "y_train = 1*(y_train==3)\n",
    "y_test = 1*(y_test==3)"
   ]
  },
  {
   "cell_type": "code",
   "execution_count": 13,
   "id": "01e4e969",
   "metadata": {
    "execution": {
     "iopub.execute_input": "2022-10-05T10:13:08.849714Z",
     "iopub.status.busy": "2022-10-05T10:13:08.849114Z",
     "iopub.status.idle": "2022-10-05T10:13:08.861838Z",
     "shell.execute_reply": "2022-10-05T10:13:08.862289Z"
    },
    "papermill": {
     "duration": 0.045118,
     "end_time": "2022-10-05T10:13:08.862428",
     "exception": false,
     "start_time": "2022-10-05T10:13:08.817310",
     "status": "completed"
    },
    "tags": []
   },
   "outputs": [
    {
     "data": {
      "text/plain": [
       "((11982, 28, 28), (1984, 28, 28))"
      ]
     },
     "execution_count": 13,
     "metadata": {},
     "output_type": "execute_result"
    }
   ],
   "source": [
    "X_train.shape, X_test.shape"
   ]
  },
  {
   "cell_type": "markdown",
   "id": "5ccf3f85",
   "metadata": {
    "papermill": {
     "duration": 0.026752,
     "end_time": "2022-10-05T10:13:08.915985",
     "exception": false,
     "start_time": "2022-10-05T10:13:08.889233",
     "status": "completed"
    },
    "tags": []
   },
   "source": [
    "We reshape the data to flatten the image pixels into a set of features or co-variates:"
   ]
  },
  {
   "cell_type": "code",
   "execution_count": 14,
   "id": "5286a4a3",
   "metadata": {
    "execution": {
     "iopub.execute_input": "2022-10-05T10:13:08.985032Z",
     "iopub.status.busy": "2022-10-05T10:13:08.975963Z",
     "iopub.status.idle": "2022-10-05T10:13:08.988765Z",
     "shell.execute_reply": "2022-10-05T10:13:08.988283Z"
    },
    "papermill": {
     "duration": 0.045884,
     "end_time": "2022-10-05T10:13:08.988884",
     "exception": false,
     "start_time": "2022-10-05T10:13:08.943000",
     "status": "completed"
    },
    "tags": []
   },
   "outputs": [
    {
     "data": {
      "text/plain": [
       "((11982, 784), (1984, 784))"
      ]
     },
     "execution_count": 14,
     "metadata": {},
     "output_type": "execute_result"
    }
   ],
   "source": [
    "X_train = X_train.reshape(X_train.shape[0], -1)\n",
    "X_test = X_test.reshape(X_test.shape[0], -1)\n",
    "X_train.shape, X_test.shape"
   ]
  },
  {
   "cell_type": "code",
   "execution_count": 15,
   "id": "73c5f88a",
   "metadata": {
    "execution": {
     "iopub.execute_input": "2022-10-05T10:13:09.053859Z",
     "iopub.status.busy": "2022-10-05T10:13:09.047093Z",
     "iopub.status.idle": "2022-10-05T10:13:09.067617Z",
     "shell.execute_reply": "2022-10-05T10:13:09.068062Z"
    },
    "papermill": {
     "duration": 0.052258,
     "end_time": "2022-10-05T10:13:09.068208",
     "exception": false,
     "start_time": "2022-10-05T10:13:09.015950",
     "status": "completed"
    },
    "tags": []
   },
   "outputs": [],
   "source": [
    "#Impoting functions from 'Kudzu'\n",
    "from kudzu.model import Model\n",
    "from kudzu.train import Learner\n",
    "from kudzu.optim import GD\n",
    "from kudzu.data import Data, Sampler,Dataloader\n",
    "\n",
    "from kudzu.callbacks import AccCallback\n",
    "from kudzu.callbacks import ClfCallback\n",
    "\n",
    "from kudzu.loss import MSE\n",
    "\n",
    "from kudzu.layer import Sigmoid,Relu\n",
    "from kudzu.layer import Affine"
   ]
  },
  {
   "cell_type": "markdown",
   "id": "bc01172a",
   "metadata": {
    "papermill": {
     "duration": 0.027188,
     "end_time": "2022-10-05T10:13:09.122924",
     "exception": false,
     "start_time": "2022-10-05T10:13:09.095736",
     "status": "completed"
    },
    "tags": []
   },
   "source": [
    "### Let us create a `Config` class, to store important parameters. \n",
    "This class essentially plays the role of a dictionary."
   ]
  },
  {
   "cell_type": "code",
   "execution_count": 16,
   "id": "978281aa",
   "metadata": {
    "execution": {
     "iopub.execute_input": "2022-10-05T10:13:09.188747Z",
     "iopub.status.busy": "2022-10-05T10:13:09.183541Z",
     "iopub.status.idle": "2022-10-05T10:13:09.196975Z",
     "shell.execute_reply": "2022-10-05T10:13:09.197552Z"
    },
    "papermill": {
     "duration": 0.045243,
     "end_time": "2022-10-05T10:13:09.197700",
     "exception": false,
     "start_time": "2022-10-05T10:13:09.152457",
     "status": "completed"
    },
    "tags": []
   },
   "outputs": [],
   "source": [
    "class Config:\n",
    "    pass\n",
    "config = Config()\n",
    "config.lr = 0.001\n",
    "config.num_epochs = 250\n",
    "config.bs = 50"
   ]
  },
  {
   "cell_type": "markdown",
   "id": "1385fa59",
   "metadata": {
    "papermill": {
     "duration": 0.027021,
     "end_time": "2022-10-05T10:13:09.252013",
     "exception": false,
     "start_time": "2022-10-05T10:13:09.224992",
     "status": "completed"
    },
    "tags": []
   },
   "source": [
    "### Running Models with the Training data\n",
    "Details about the network layers:\n",
    "- A first affine layer has 784 inputs and does 100 affine transforms. These are followed by a Relu\n",
    "- A second affine layer has 100 inputs from the 100 activations of the past layer, and does 100 affine transforms. These are followed by a Relu\n",
    "- A third affine layer has 100 activations and does 2 affine transformations to create an embedding for visualization. There is no non-linearity here.\n",
    "- A final \"logistic regression\" which has an affine transform from 2 inputs to 1 output, which is squeezed through a sigmoid.\n"
   ]
  },
  {
   "cell_type": "code",
   "execution_count": 17,
   "id": "2b9c66db",
   "metadata": {
    "execution": {
     "iopub.execute_input": "2022-10-05T10:13:09.311662Z",
     "iopub.status.busy": "2022-10-05T10:13:09.310160Z",
     "iopub.status.idle": "2022-10-05T10:13:09.322674Z",
     "shell.execute_reply": "2022-10-05T10:13:09.323180Z"
    },
    "papermill": {
     "duration": 0.044336,
     "end_time": "2022-10-05T10:13:09.323324",
     "exception": false,
     "start_time": "2022-10-05T10:13:09.278988",
     "status": "completed"
    },
    "tags": []
   },
   "outputs": [],
   "source": [
    "data = Data(X_train, y_train.reshape(-1,1))\n",
    "sampler = Sampler(data, config.bs, shuffle=True)\n",
    "\n",
    "dl = Dataloader(data, sampler)\n",
    "\n",
    "opt = GD(config.lr)\n",
    "loss = MSE()"
   ]
  },
  {
   "cell_type": "code",
   "execution_count": 18,
   "id": "b275e4c2",
   "metadata": {
    "execution": {
     "iopub.execute_input": "2022-10-05T10:13:09.386252Z",
     "iopub.status.busy": "2022-10-05T10:13:09.385638Z",
     "iopub.status.idle": "2022-10-05T10:13:09.395503Z",
     "shell.execute_reply": "2022-10-05T10:13:09.395005Z"
    },
    "papermill": {
     "duration": 0.045213,
     "end_time": "2022-10-05T10:13:09.395624",
     "exception": false,
     "start_time": "2022-10-05T10:13:09.350411",
     "status": "completed"
    },
    "tags": []
   },
   "outputs": [],
   "source": [
    "training_data_x = X_train\n",
    "testing_data_x = X_test\n",
    "training_data_y = y_train.reshape(-1,1)\n",
    "testing_data_y = y_test.reshape(-1,1)"
   ]
  },
  {
   "cell_type": "code",
   "execution_count": 19,
   "id": "76951160",
   "metadata": {
    "execution": {
     "iopub.execute_input": "2022-10-05T10:13:09.457453Z",
     "iopub.status.busy": "2022-10-05T10:13:09.456843Z",
     "iopub.status.idle": "2022-10-05T10:13:09.471764Z",
     "shell.execute_reply": "2022-10-05T10:13:09.471257Z"
    },
    "papermill": {
     "duration": 0.04931,
     "end_time": "2022-10-05T10:13:09.471882",
     "exception": false,
     "start_time": "2022-10-05T10:13:09.422572",
     "status": "completed"
    },
    "tags": []
   },
   "outputs": [
    {
     "name": "stdout",
     "output_type": "stream",
     "text": [
      "xavier\n",
      "xavier\n",
      "xavier\n",
      "xavier\n",
      "xavier\n"
     ]
    }
   ],
   "source": [
    "layers = [Affine(\"first\", 784, 100), Relu(\"first\"), Affine(\"second\", 100, 100), Relu(\"second\"), Affine(\"third\", 100, 2), Affine(\"last\", 2, 1), Sigmoid(\"last\")]\n",
    "model_nn = Model(layers)\n",
    "model_lr = Model([Affine(\"logits\", 784, 1), Sigmoid(\"sigmoid\")])"
   ]
  },
  {
   "cell_type": "code",
   "execution_count": 20,
   "id": "6eede77a",
   "metadata": {
    "execution": {
     "iopub.execute_input": "2022-10-05T10:13:09.539845Z",
     "iopub.status.busy": "2022-10-05T10:13:09.537732Z",
     "iopub.status.idle": "2022-10-05T10:13:09.546940Z",
     "shell.execute_reply": "2022-10-05T10:13:09.546108Z"
    },
    "papermill": {
     "duration": 0.047714,
     "end_time": "2022-10-05T10:13:09.547069",
     "exception": false,
     "start_time": "2022-10-05T10:13:09.499355",
     "status": "completed"
    },
    "tags": []
   },
   "outputs": [],
   "source": [
    "nn_learner = Learner(loss, model_nn, opt, config.num_epochs)\n",
    "acc_nn = ClfCallback(nn_learner, config.bs, training_data_x , testing_data_x, training_data_y, testing_data_y)\n",
    "nn_learner.set_callbacks([acc_nn])"
   ]
  },
  {
   "cell_type": "code",
   "execution_count": 21,
   "id": "877b6cc7",
   "metadata": {
    "execution": {
     "iopub.execute_input": "2022-10-05T10:13:09.609309Z",
     "iopub.status.busy": "2022-10-05T10:13:09.606399Z",
     "iopub.status.idle": "2022-10-05T10:13:09.619396Z",
     "shell.execute_reply": "2022-10-05T10:13:09.619844Z"
    },
    "papermill": {
     "duration": 0.045648,
     "end_time": "2022-10-05T10:13:09.619982",
     "exception": false,
     "start_time": "2022-10-05T10:13:09.574334",
     "status": "completed"
    },
    "tags": []
   },
   "outputs": [],
   "source": [
    "lr_learner = Learner(loss, model_lr, opt, config.num_epochs)\n",
    "acc_lr = ClfCallback(lr_learner, config.bs, training_data_x , testing_data_x, training_data_y, testing_data_y)\n",
    "lr_learner.set_callbacks([acc_lr])"
   ]
  },
  {
   "cell_type": "code",
   "execution_count": 22,
   "id": "d9b133c3",
   "metadata": {
    "execution": {
     "iopub.execute_input": "2022-10-05T10:13:09.683585Z",
     "iopub.status.busy": "2022-10-05T10:13:09.678758Z",
     "iopub.status.idle": "2022-10-05T10:14:26.692549Z",
     "shell.execute_reply": "2022-10-05T10:14:26.693404Z"
    },
    "papermill": {
     "duration": 77.046219,
     "end_time": "2022-10-05T10:14:26.693559",
     "exception": false,
     "start_time": "2022-10-05T10:13:09.647340",
     "status": "completed"
    },
    "tags": []
   },
   "outputs": [
    {
     "name": "stdout",
     "output_type": "stream",
     "text": [
      "Epoch 0, Loss 0.2539\n",
      "Training Accuracy: 0.2969, Testing Accuracy: 0.3140\n",
      "\n"
     ]
    },
    {
     "name": "stdout",
     "output_type": "stream",
     "text": [
      "Epoch 10, Loss 0.2502\n",
      "Training Accuracy: 0.4700, Testing Accuracy: 0.4808\n",
      "\n"
     ]
    },
    {
     "name": "stdout",
     "output_type": "stream",
     "text": [
      "Epoch 20, Loss 0.2473\n",
      "Training Accuracy: 0.5707, Testing Accuracy: 0.5660\n",
      "\n"
     ]
    },
    {
     "name": "stdout",
     "output_type": "stream",
     "text": [
      "Epoch 30, Loss 0.2369\n",
      "Training Accuracy: 0.7482, Testing Accuracy: 0.7329\n",
      "\n"
     ]
    },
    {
     "name": "stdout",
     "output_type": "stream",
     "text": [
      "Epoch 40, Loss 0.1812\n",
      "Training Accuracy: 0.8529, Testing Accuracy: 0.8523\n",
      "\n"
     ]
    },
    {
     "name": "stdout",
     "output_type": "stream",
     "text": [
      "Epoch 50, Loss 0.0919\n",
      "Training Accuracy: 0.9075, Testing Accuracy: 0.9183\n",
      "\n"
     ]
    },
    {
     "name": "stdout",
     "output_type": "stream",
     "text": [
      "Epoch 60, Loss 0.0598\n",
      "Training Accuracy: 0.9368, Testing Accuracy: 0.9425\n",
      "\n"
     ]
    },
    {
     "name": "stdout",
     "output_type": "stream",
     "text": [
      "Epoch 70, Loss 0.0469\n",
      "Training Accuracy: 0.9478, Testing Accuracy: 0.9556\n",
      "\n"
     ]
    },
    {
     "name": "stdout",
     "output_type": "stream",
     "text": [
      "Epoch 80, Loss 0.0404\n",
      "Training Accuracy: 0.9545, Testing Accuracy: 0.9632\n",
      "\n"
     ]
    },
    {
     "name": "stdout",
     "output_type": "stream",
     "text": [
      "Epoch 90, Loss 0.0365\n",
      "Training Accuracy: 0.9590, Testing Accuracy: 0.9652\n",
      "\n"
     ]
    },
    {
     "name": "stdout",
     "output_type": "stream",
     "text": [
      "Epoch 100, Loss 0.0339\n",
      "Training Accuracy: 0.9610, Testing Accuracy: 0.9667\n",
      "\n"
     ]
    },
    {
     "name": "stdout",
     "output_type": "stream",
     "text": [
      "Epoch 110, Loss 0.0319\n",
      "Training Accuracy: 0.9625, Testing Accuracy: 0.9667\n",
      "\n"
     ]
    },
    {
     "name": "stdout",
     "output_type": "stream",
     "text": [
      "Epoch 120, Loss 0.0304\n",
      "Training Accuracy: 0.9643, Testing Accuracy: 0.9667\n",
      "\n"
     ]
    },
    {
     "name": "stdout",
     "output_type": "stream",
     "text": [
      "Epoch 130, Loss 0.0292\n",
      "Training Accuracy: 0.9655, Testing Accuracy: 0.9652\n",
      "\n"
     ]
    },
    {
     "name": "stdout",
     "output_type": "stream",
     "text": [
      "Epoch 140, Loss 0.0281\n",
      "Training Accuracy: 0.9673, Testing Accuracy: 0.9662\n",
      "\n"
     ]
    },
    {
     "name": "stdout",
     "output_type": "stream",
     "text": [
      "Epoch 150, Loss 0.0272\n",
      "Training Accuracy: 0.9688, Testing Accuracy: 0.9677\n",
      "\n"
     ]
    },
    {
     "name": "stdout",
     "output_type": "stream",
     "text": [
      "Epoch 160, Loss 0.0264\n",
      "Training Accuracy: 0.9696, Testing Accuracy: 0.9667\n",
      "\n"
     ]
    },
    {
     "name": "stdout",
     "output_type": "stream",
     "text": [
      "Epoch 170, Loss 0.0257\n",
      "Training Accuracy: 0.9703, Testing Accuracy: 0.9667\n",
      "\n"
     ]
    },
    {
     "name": "stdout",
     "output_type": "stream",
     "text": [
      "Epoch 180, Loss 0.025\n",
      "Training Accuracy: 0.9710, Testing Accuracy: 0.9672\n",
      "\n"
     ]
    },
    {
     "name": "stdout",
     "output_type": "stream",
     "text": [
      "Epoch 190, Loss 0.0245\n",
      "Training Accuracy: 0.9715, Testing Accuracy: 0.9682\n",
      "\n"
     ]
    },
    {
     "name": "stdout",
     "output_type": "stream",
     "text": [
      "Epoch 200, Loss 0.0239\n",
      "Training Accuracy: 0.9726, Testing Accuracy: 0.9682\n",
      "\n"
     ]
    },
    {
     "name": "stdout",
     "output_type": "stream",
     "text": [
      "Epoch 210, Loss 0.0234\n",
      "Training Accuracy: 0.9731, Testing Accuracy: 0.9682\n",
      "\n"
     ]
    },
    {
     "name": "stdout",
     "output_type": "stream",
     "text": [
      "Epoch 220, Loss 0.0229\n",
      "Training Accuracy: 0.9737, Testing Accuracy: 0.9698\n",
      "\n"
     ]
    },
    {
     "name": "stdout",
     "output_type": "stream",
     "text": [
      "Epoch 230, Loss 0.0225\n",
      "Training Accuracy: 0.9743, Testing Accuracy: 0.9693\n",
      "\n"
     ]
    },
    {
     "name": "stdout",
     "output_type": "stream",
     "text": [
      "Epoch 240, Loss 0.0221\n",
      "Training Accuracy: 0.9750, Testing Accuracy: 0.9688\n",
      "\n"
     ]
    },
    {
     "data": {
      "text/plain": [
       "0.0030777311202696183"
      ]
     },
     "execution_count": 22,
     "metadata": {},
     "output_type": "execute_result"
    }
   ],
   "source": [
    "nn_learner.train_loop(dl)"
   ]
  },
  {
   "cell_type": "code",
   "execution_count": 23,
   "id": "e0163366",
   "metadata": {
    "execution": {
     "iopub.execute_input": "2022-10-05T10:14:26.776310Z",
     "iopub.status.busy": "2022-10-05T10:14:26.775708Z",
     "iopub.status.idle": "2022-10-05T10:14:40.646923Z",
     "shell.execute_reply": "2022-10-05T10:14:40.647387Z"
    },
    "papermill": {
     "duration": 13.918519,
     "end_time": "2022-10-05T10:14:40.647534",
     "exception": false,
     "start_time": "2022-10-05T10:14:26.729015",
     "status": "completed"
    },
    "tags": []
   },
   "outputs": [
    {
     "name": "stdout",
     "output_type": "stream",
     "text": [
      "Epoch 0, Loss 0.2299\n",
      "Training Accuracy: 0.6997, Testing Accuracy: 0.6880\n",
      "\n"
     ]
    },
    {
     "name": "stdout",
     "output_type": "stream",
     "text": [
      "Epoch 10, Loss 0.106\n",
      "Training Accuracy: 0.8991, Testing Accuracy: 0.9047\n",
      "\n"
     ]
    },
    {
     "name": "stdout",
     "output_type": "stream",
     "text": [
      "Epoch 20, Loss 0.0808\n",
      "Training Accuracy: 0.9241, Testing Accuracy: 0.9365\n",
      "\n"
     ]
    },
    {
     "name": "stdout",
     "output_type": "stream",
     "text": [
      "Epoch 30, Loss 0.069\n",
      "Training Accuracy: 0.9352, Testing Accuracy: 0.9486\n",
      "\n"
     ]
    },
    {
     "name": "stdout",
     "output_type": "stream",
     "text": [
      "Epoch 40, Loss 0.0619\n",
      "Training Accuracy: 0.9417, Testing Accuracy: 0.9546\n",
      "\n"
     ]
    },
    {
     "name": "stdout",
     "output_type": "stream",
     "text": [
      "Epoch 50, Loss 0.0572\n",
      "Training Accuracy: 0.9455, Testing Accuracy: 0.9587\n",
      "\n"
     ]
    },
    {
     "name": "stdout",
     "output_type": "stream",
     "text": [
      "Epoch 60, Loss 0.0537\n",
      "Training Accuracy: 0.9485, Testing Accuracy: 0.9587\n",
      "\n"
     ]
    },
    {
     "name": "stdout",
     "output_type": "stream",
     "text": [
      "Epoch 70, Loss 0.0511\n",
      "Training Accuracy: 0.9506, Testing Accuracy: 0.9587\n",
      "\n"
     ]
    },
    {
     "name": "stdout",
     "output_type": "stream",
     "text": [
      "Epoch 80, Loss 0.049\n",
      "Training Accuracy: 0.9521, Testing Accuracy: 0.9617\n",
      "\n"
     ]
    },
    {
     "name": "stdout",
     "output_type": "stream",
     "text": [
      "Epoch 90, Loss 0.0473\n",
      "Training Accuracy: 0.9534, Testing Accuracy: 0.9617\n",
      "\n"
     ]
    },
    {
     "name": "stdout",
     "output_type": "stream",
     "text": [
      "Epoch 100, Loss 0.0458\n",
      "Training Accuracy: 0.9543, Testing Accuracy: 0.9637\n",
      "\n"
     ]
    },
    {
     "name": "stdout",
     "output_type": "stream",
     "text": [
      "Epoch 110, Loss 0.0446\n",
      "Training Accuracy: 0.9550, Testing Accuracy: 0.9652\n",
      "\n"
     ]
    },
    {
     "name": "stdout",
     "output_type": "stream",
     "text": [
      "Epoch 120, Loss 0.0435\n",
      "Training Accuracy: 0.9556, Testing Accuracy: 0.9657\n",
      "\n"
     ]
    },
    {
     "name": "stdout",
     "output_type": "stream",
     "text": [
      "Epoch 130, Loss 0.0426\n",
      "Training Accuracy: 0.9565, Testing Accuracy: 0.9657\n",
      "\n"
     ]
    },
    {
     "name": "stdout",
     "output_type": "stream",
     "text": [
      "Epoch 140, Loss 0.0418\n",
      "Training Accuracy: 0.9571, Testing Accuracy: 0.9667\n",
      "\n"
     ]
    },
    {
     "name": "stdout",
     "output_type": "stream",
     "text": [
      "Epoch 150, Loss 0.041\n",
      "Training Accuracy: 0.9578, Testing Accuracy: 0.9662\n",
      "\n"
     ]
    },
    {
     "name": "stdout",
     "output_type": "stream",
     "text": [
      "Epoch 160, Loss 0.0404\n",
      "Training Accuracy: 0.9584, Testing Accuracy: 0.9662\n",
      "\n"
     ]
    },
    {
     "name": "stdout",
     "output_type": "stream",
     "text": [
      "Epoch 170, Loss 0.0398\n",
      "Training Accuracy: 0.9590, Testing Accuracy: 0.9662\n",
      "\n"
     ]
    },
    {
     "name": "stdout",
     "output_type": "stream",
     "text": [
      "Epoch 180, Loss 0.0392\n",
      "Training Accuracy: 0.9597, Testing Accuracy: 0.9667\n",
      "\n"
     ]
    },
    {
     "name": "stdout",
     "output_type": "stream",
     "text": [
      "Epoch 190, Loss 0.0387\n",
      "Training Accuracy: 0.9599, Testing Accuracy: 0.9662\n",
      "\n"
     ]
    },
    {
     "name": "stdout",
     "output_type": "stream",
     "text": [
      "Epoch 200, Loss 0.0382\n",
      "Training Accuracy: 0.9601, Testing Accuracy: 0.9662\n",
      "\n"
     ]
    },
    {
     "name": "stdout",
     "output_type": "stream",
     "text": [
      "Epoch 210, Loss 0.0378\n",
      "Training Accuracy: 0.9603, Testing Accuracy: 0.9667\n",
      "\n"
     ]
    },
    {
     "name": "stdout",
     "output_type": "stream",
     "text": [
      "Epoch 220, Loss 0.0374\n",
      "Training Accuracy: 0.9606, Testing Accuracy: 0.9667\n",
      "\n"
     ]
    },
    {
     "name": "stdout",
     "output_type": "stream",
     "text": [
      "Epoch 230, Loss 0.037\n",
      "Training Accuracy: 0.9608, Testing Accuracy: 0.9667\n",
      "\n"
     ]
    },
    {
     "name": "stdout",
     "output_type": "stream",
     "text": [
      "Epoch 240, Loss 0.0366\n",
      "Training Accuracy: 0.9610, Testing Accuracy: 0.9667\n",
      "\n"
     ]
    },
    {
     "data": {
      "text/plain": [
       "0.036708651836780855"
      ]
     },
     "execution_count": 23,
     "metadata": {},
     "output_type": "execute_result"
    }
   ],
   "source": [
    "lr_learner.train_loop(dl)"
   ]
  },
  {
   "cell_type": "code",
   "execution_count": 24,
   "id": "ca410940",
   "metadata": {
    "execution": {
     "iopub.execute_input": "2022-10-05T10:14:40.734915Z",
     "iopub.status.busy": "2022-10-05T10:14:40.734238Z",
     "iopub.status.idle": "2022-10-05T10:14:40.977872Z",
     "shell.execute_reply": "2022-10-05T10:14:40.978346Z"
    },
    "papermill": {
     "duration": 0.28982,
     "end_time": "2022-10-05T10:14:40.978492",
     "exception": false,
     "start_time": "2022-10-05T10:14:40.688672",
     "status": "completed"
    },
    "tags": []
   },
   "outputs": [
    {
     "data": {
      "text/plain": [
       "<matplotlib.legend.Legend at 0x7f8d046d9390>"
      ]
     },
     "execution_count": 24,
     "metadata": {},
     "output_type": "execute_result"
    },
    {
     "data": {
      "image/png": "[encoded data removed]",
      "text/plain": [
       "<Figure size 1080x720 with 1 Axes>"
      ]
     },
     "metadata": {
      "needs_background": "light"
     },
     "output_type": "display_data"
    }
   ],
   "source": [
    "#comparing the results of NN and LR\n",
    "plt.figure(figsize=(15,10))\n",
    "\n",
    "# Neural Network plots\n",
    "plt.plot(acc_nn.accuracies, 'r-', label = \"Training Accuracies - NN\")\n",
    "plt.plot(acc_nn.test_accuracies, 'g-', label = \"Testing Accuracies - NN\")\n",
    "\n",
    "# Logistic Regression plots\n",
    "plt.plot(acc_lr.accuracies, 'k-', label = \"Training Accuracies - LR\")\n",
    "plt.plot(acc_lr.test_accuracies, 'b-', label = \"Testing Accuracies - LR\")\n",
    "plt.legend()"
   ]
  },
  {
   "cell_type": "markdown",
   "id": "80dfb35c",
   "metadata": {
    "papermill": {
     "duration": 0.044573,
     "end_time": "2022-10-05T10:14:41.065259",
     "exception": false,
     "start_time": "2022-10-05T10:14:41.020686",
     "status": "completed"
    },
    "tags": []
   },
   "source": [
    "#### Plotting the outputs of this layer of the NN.\n"
   ]
  },
  {
   "cell_type": "code",
   "execution_count": 25,
   "id": "45eb2ff5",
   "metadata": {
    "execution": {
     "iopub.execute_input": "2022-10-05T10:14:41.153503Z",
     "iopub.status.busy": "2022-10-05T10:14:41.152905Z",
     "iopub.status.idle": "2022-10-05T10:14:41.175675Z",
     "shell.execute_reply": "2022-10-05T10:14:41.176157Z"
    },
    "papermill": {
     "duration": 0.069166,
     "end_time": "2022-10-05T10:14:41.176310",
     "exception": false,
     "start_time": "2022-10-05T10:14:41.107144",
     "status": "completed"
    },
    "tags": []
   },
   "outputs": [],
   "source": [
    "new_model = Model(layers[:-2])\n",
    "testing_plot = new_model(testing_data_x)"
   ]
  },
  {
   "cell_type": "code",
   "execution_count": 26,
   "id": "4c0a5485",
   "metadata": {
    "execution": {
     "iopub.execute_input": "2022-10-05T10:14:41.265423Z",
     "iopub.status.busy": "2022-10-05T10:14:41.264839Z",
     "iopub.status.idle": "2022-10-05T10:14:41.457728Z",
     "shell.execute_reply": "2022-10-05T10:14:41.457232Z"
    },
    "papermill": {
     "duration": 0.239101,
     "end_time": "2022-10-05T10:14:41.457853",
     "exception": false,
     "start_time": "2022-10-05T10:14:41.218752",
     "status": "completed"
    },
    "tags": []
   },
   "outputs": [
    {
     "data": {
      "text/plain": [
       "Text(0.5, 1.0, 'Outputs')"
      ]
     },
     "execution_count": 26,
     "metadata": {},
     "output_type": "execute_result"
    },
    {
     "data": {
      "image/png": "[encoded data removed]",
      "text/plain": [
       "<Figure size 576x504 with 1 Axes>"
      ]
     },
     "metadata": {
      "needs_background": "light"
     },
     "output_type": "display_data"
    }
   ],
   "source": [
    "# Plotting the scatter plot of points and color coding by class\n",
    "plt.figure(figsize=(8,7))\n",
    "plt.scatter(testing_plot[:,0], testing_plot[:,1], alpha = 0.1, c = y_test.ravel());\n",
    "plt.title('Outputs')"
   ]
  },
  {
   "cell_type": "markdown",
   "id": "a74fcf8f",
   "metadata": {
    "papermill": {
     "duration": 0.0435,
     "end_time": "2022-10-05T10:14:41.545215",
     "exception": false,
     "start_time": "2022-10-05T10:14:41.501715",
     "status": "completed"
    },
    "tags": []
   },
   "source": [
    "Probability contours"
   ]
  },
  {
   "cell_type": "code",
   "execution_count": 27,
   "id": "d0afc8e3",
   "metadata": {
    "execution": {
     "iopub.execute_input": "2022-10-05T10:14:41.671892Z",
     "iopub.status.busy": "2022-10-05T10:14:41.671296Z",
     "iopub.status.idle": "2022-10-05T10:14:41.684544Z",
     "shell.execute_reply": "2022-10-05T10:14:41.684070Z"
    },
    "papermill": {
     "duration": 0.091931,
     "end_time": "2022-10-05T10:14:41.684658",
     "exception": false,
     "start_time": "2022-10-05T10:14:41.592727",
     "status": "completed"
    },
    "tags": []
   },
   "outputs": [],
   "source": [
    "model_prob = Model(layers[-2:]) "
   ]
  },
  {
   "cell_type": "code",
   "execution_count": 28,
   "id": "9b96e238",
   "metadata": {
    "execution": {
     "iopub.execute_input": "2022-10-05T10:14:41.781958Z",
     "iopub.status.busy": "2022-10-05T10:14:41.781357Z",
     "iopub.status.idle": "2022-10-05T10:14:41.793487Z",
     "shell.execute_reply": "2022-10-05T10:14:41.793908Z"
    },
    "papermill": {
     "duration": 0.065644,
     "end_time": "2022-10-05T10:14:41.794051",
     "exception": false,
     "start_time": "2022-10-05T10:14:41.728407",
     "status": "completed"
    },
    "tags": []
   },
   "outputs": [],
   "source": [
    "#creating the x and y ranges according to the above generated plot.\n",
    "x_range = np.linspace(-4, 1, 100) \n",
    "y_range = np.linspace(-6, 6, 100) \n",
    "x_grid, y_grid = np.meshgrid(x_range, y_range) # x_grid and y_grig are of size 100 X 100\n",
    "\n",
    "# converting x_grid and y_grid to continuous arrays\n",
    "x_gridflat = np.ravel(x_grid)\n",
    "y_gridflat = np.ravel(y_grid)\n",
    "\n",
    "# The last layer of the current model takes two columns as input. Hence transpose of np.vstack() is required.\n",
    "X = np.vstack((x_gridflat, y_gridflat)).T\n",
    "\n",
    "prob_contour = model_prob(X).reshape(100,100) "
   ]
  },
  {
   "cell_type": "code",
   "execution_count": 29,
   "id": "da72499a",
   "metadata": {
    "execution": {
     "iopub.execute_input": "2022-10-05T10:14:41.892515Z",
     "iopub.status.busy": "2022-10-05T10:14:41.891908Z",
     "iopub.status.idle": "2022-10-05T10:14:42.132810Z",
     "shell.execute_reply": "2022-10-05T10:14:42.133290Z"
    },
    "papermill": {
     "duration": 0.295619,
     "end_time": "2022-10-05T10:14:42.133447",
     "exception": false,
     "start_time": "2022-10-05T10:14:41.837828",
     "status": "completed"
    },
    "tags": []
   },
   "outputs": [
    {
     "data": {
      "image/png": "[encoded data removed]",
      "text/plain": [
       "<Figure size 720x648 with 1 Axes>"
      ]
     },
     "metadata": {
      "needs_background": "light"
     },
     "output_type": "display_data"
    }
   ],
   "source": [
    "plt.figure(figsize=(10,9))\n",
    "plt.scatter(testing_plot[:,0], testing_plot[:,1], alpha = 0.1, c = y_test.ravel())\n",
    "contours = plt.contour(x_grid,y_grid,prob_contour)\n",
    "plt.title('Probability Contours')\n",
    "plt.clabel(contours, inline = True );"
   ]
  },
  {
   "cell_type": "code",
   "execution_count": null,
   "id": "e81b4ac7",
   "metadata": {
    "papermill": {
     "duration": 0.046179,
     "end_time": "2022-10-05T10:14:42.226041",
     "exception": false,
     "start_time": "2022-10-05T10:14:42.179862",
     "status": "completed"
    },
    "tags": []
   },
   "outputs": [],
   "source": []
  }
 ],
 "metadata": {
  "kernelspec": {
   "display_name": "Python 3",
   "language": "python",
   "name": "python3"
  },
  "language_info": {
   "codemirror_mode": {
    "name": "ipython",
    "version": 3
   },
   "file_extension": ".py",
   "mimetype": "text/x-python",
   "name": "python",
   "nbconvert_exporter": "python",
   "pygments_lexer": "ipython3",
   "version": "3.6.15"
  },
  "papermill": {
   "default_parameters": {},
   "duration": 99.290042,
   "end_time": "2022-10-05T10:14:42.692780",
   "environment_variables": {},
   "exception": null,
   "input_path": "2020-08-11-part2.ipynb",
   "output_path": "2020-08-11-part2.ipynb",
   "parameters": {},
   "start_time": "2022-10-05T10:13:03.402738",
   "version": "2.3.3"
  }
 },
 "nbformat": 4,
 "nbformat_minor": 5
}