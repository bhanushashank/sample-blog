{
 "cells": [
  {
   "cell_type": "markdown",
   "id": "98380cd3",
   "metadata": {
    "papermill": {
     "duration": 0.03615,
     "end_time": "2022-08-27T00:38:52.761440",
     "exception": false,
     "start_time": "2022-08-27T00:38:52.725290",
     "status": "completed"
    },
    "tags": []
   },
   "source": [
    "# Distinguish Your Own Digits (DYOD)"
   ]
  },
  {
   "cell_type": "markdown",
   "id": "ef31240d",
   "metadata": {
    "papermill": {
     "duration": 0.027064,
     "end_time": "2022-08-27T00:38:52.819350",
     "exception": false,
     "start_time": "2022-08-27T00:38:52.792286",
     "status": "completed"
    },
    "tags": []
   },
   "source": [
    "You are going to write a classifier that distinguishes between the number 3 and number 8."
   ]
  },
  {
   "cell_type": "code",
   "execution_count": 1,
   "id": "b15c8646",
   "metadata": {
    "execution": {
     "iopub.execute_input": "2022-08-27T00:38:52.887888Z",
     "iopub.status.busy": "2022-08-27T00:38:52.887142Z",
     "iopub.status.idle": "2022-08-27T00:38:52.899291Z",
     "shell.execute_reply": "2022-08-27T00:38:52.899855Z"
    },
    "papermill": {
     "duration": 0.051453,
     "end_time": "2022-08-27T00:38:52.900026",
     "exception": false,
     "start_time": "2022-08-27T00:38:52.848573",
     "status": "completed"
    },
    "tags": []
   },
   "outputs": [],
   "source": [
    "%load_ext autoreload\n",
    "%autoreload 2"
   ]
  },
  {
   "cell_type": "code",
   "execution_count": 2,
   "id": "22ef38dc",
   "metadata": {
    "execution": {
     "iopub.execute_input": "2022-08-27T00:38:52.963323Z",
     "iopub.status.busy": "2022-08-27T00:38:52.962046Z",
     "iopub.status.idle": "2022-08-27T00:38:53.612009Z",
     "shell.execute_reply": "2022-08-27T00:38:53.611417Z"
    },
    "papermill": {
     "duration": 0.684502,
     "end_time": "2022-08-27T00:38:53.612150",
     "exception": false,
     "start_time": "2022-08-27T00:38:52.927648",
     "status": "completed"
    },
    "tags": []
   },
   "outputs": [],
   "source": [
    "%matplotlib inline\n",
    "import numpy as np\n",
    "import matplotlib.pyplot as plt\n",
    "import pandas as pd"
   ]
  },
  {
   "cell_type": "markdown",
   "id": "ba036198",
   "metadata": {
    "papermill": {
     "duration": 0.027624,
     "end_time": "2022-08-27T00:38:53.668259",
     "exception": false,
     "start_time": "2022-08-27T00:38:53.640635",
     "status": "completed"
    },
    "tags": []
   },
   "source": [
    "From the command line run `pip install mnist`. This is a library that will help you bring down the mnist dataset. If you run this from a notebook, you need to put  `!pip install mnist` in a cell by itself."
   ]
  },
  {
   "cell_type": "code",
   "execution_count": 3,
   "id": "bb6ad8a1",
   "metadata": {
    "execution": {
     "iopub.execute_input": "2022-08-27T00:38:53.730370Z",
     "iopub.status.busy": "2022-08-27T00:38:53.729668Z",
     "iopub.status.idle": "2022-08-27T00:38:55.770048Z",
     "shell.execute_reply": "2022-08-27T00:38:55.769439Z"
    },
    "papermill": {
     "duration": 2.075345,
     "end_time": "2022-08-27T00:38:55.770183",
     "exception": false,
     "start_time": "2022-08-27T00:38:53.694838",
     "status": "completed"
    },
    "tags": []
   },
   "outputs": [
    {
     "name": "stdout",
     "output_type": "stream",
     "text": [
      "Collecting mnist\r\n"
     ]
    },
    {
     "name": "stdout",
     "output_type": "stream",
     "text": [
      "  Downloading mnist-0.2.2-py2.py3-none-any.whl (3.5 kB)\r\n",
      "Requirement already satisfied: numpy in /opt/hostedtoolcache/Python/3.6.15/x64/lib/python3.6/site-packages (from mnist) (1.19.5)\r\n"
     ]
    },
    {
     "name": "stdout",
     "output_type": "stream",
     "text": [
      "Installing collected packages: mnist\r\n"
     ]
    },
    {
     "name": "stdout",
     "output_type": "stream",
     "text": [
      "Successfully installed mnist-0.2.2\r\n"
     ]
    }
   ],
   "source": [
    "!pip install mnist"
   ]
  },
  {
   "cell_type": "markdown",
   "id": "69df9c9a",
   "metadata": {
    "papermill": {
     "duration": 0.029083,
     "end_time": "2022-08-27T00:38:55.829514",
     "exception": false,
     "start_time": "2022-08-27T00:38:55.800431",
     "status": "completed"
    },
    "tags": []
   },
   "source": [
    "## Preparing the Data"
   ]
  },
  {
   "cell_type": "code",
   "execution_count": 4,
   "id": "7f69d806",
   "metadata": {
    "execution": {
     "iopub.execute_input": "2022-08-27T00:38:55.893014Z",
     "iopub.status.busy": "2022-08-27T00:38:55.892326Z",
     "iopub.status.idle": "2022-08-27T00:38:55.911782Z",
     "shell.execute_reply": "2022-08-27T00:38:55.911214Z"
    },
    "papermill": {
     "duration": 0.052798,
     "end_time": "2022-08-27T00:38:55.911918",
     "exception": false,
     "start_time": "2022-08-27T00:38:55.859120",
     "status": "completed"
    },
    "tags": []
   },
   "outputs": [],
   "source": [
    "import mnist"
   ]
  },
  {
   "cell_type": "code",
   "execution_count": 5,
   "id": "a411e44f",
   "metadata": {
    "execution": {
     "iopub.execute_input": "2022-08-27T00:38:55.977252Z",
     "iopub.status.busy": "2022-08-27T00:38:55.976487Z",
     "iopub.status.idle": "2022-08-27T00:38:56.699177Z",
     "shell.execute_reply": "2022-08-27T00:38:56.698141Z"
    },
    "papermill": {
     "duration": 0.756759,
     "end_time": "2022-08-27T00:38:56.699404",
     "exception": false,
     "start_time": "2022-08-27T00:38:55.942645",
     "status": "completed"
    },
    "tags": []
   },
   "outputs": [],
   "source": [
    "train_images = mnist.train_images()\n",
    "train_labels = mnist.train_labels()"
   ]
  },
  {
   "cell_type": "code",
   "execution_count": 6,
   "id": "dceab3a5",
   "metadata": {
    "execution": {
     "iopub.execute_input": "2022-08-27T00:38:56.768661Z",
     "iopub.status.busy": "2022-08-27T00:38:56.767600Z",
     "iopub.status.idle": "2022-08-27T00:38:56.787580Z",
     "shell.execute_reply": "2022-08-27T00:38:56.786139Z"
    },
    "papermill": {
     "duration": 0.060405,
     "end_time": "2022-08-27T00:38:56.787783",
     "exception": false,
     "start_time": "2022-08-27T00:38:56.727378",
     "status": "completed"
    },
    "tags": []
   },
   "outputs": [
    {
     "data": {
      "text/plain": [
       "((60000, 28, 28), (60000,))"
      ]
     },
     "execution_count": 6,
     "metadata": {},
     "output_type": "execute_result"
    }
   ],
   "source": [
    "train_images.shape, train_labels.shape"
   ]
  },
  {
   "cell_type": "code",
   "execution_count": 7,
   "id": "f50dc2bb",
   "metadata": {
    "execution": {
     "iopub.execute_input": "2022-08-27T00:38:56.855217Z",
     "iopub.status.busy": "2022-08-27T00:38:56.850744Z",
     "iopub.status.idle": "2022-08-27T00:38:57.059671Z",
     "shell.execute_reply": "2022-08-27T00:38:57.059074Z"
    },
    "papermill": {
     "duration": 0.241818,
     "end_time": "2022-08-27T00:38:57.059813",
     "exception": false,
     "start_time": "2022-08-27T00:38:56.817995",
     "status": "completed"
    },
    "tags": []
   },
   "outputs": [],
   "source": [
    "test_images = mnist.test_images()\n",
    "test_labels = mnist.test_labels()"
   ]
  },
  {
   "cell_type": "code",
   "execution_count": 8,
   "id": "fc38cf1b",
   "metadata": {
    "execution": {
     "iopub.execute_input": "2022-08-27T00:38:57.142214Z",
     "iopub.status.busy": "2022-08-27T00:38:57.141533Z",
     "iopub.status.idle": "2022-08-27T00:38:57.159651Z",
     "shell.execute_reply": "2022-08-27T00:38:57.158746Z"
    },
    "papermill": {
     "duration": 0.056107,
     "end_time": "2022-08-27T00:38:57.159796",
     "exception": false,
     "start_time": "2022-08-27T00:38:57.103689",
     "status": "completed"
    },
    "tags": []
   },
   "outputs": [
    {
     "data": {
      "text/plain": [
       "((10000, 28, 28), (10000,))"
      ]
     },
     "execution_count": 8,
     "metadata": {},
     "output_type": "execute_result"
    }
   ],
   "source": [
    "test_images.shape, test_labels.shape"
   ]
  },
  {
   "cell_type": "code",
   "execution_count": 9,
   "id": "f9ed8fe0",
   "metadata": {
    "execution": {
     "iopub.execute_input": "2022-08-27T00:38:57.227738Z",
     "iopub.status.busy": "2022-08-27T00:38:57.227050Z",
     "iopub.status.idle": "2022-08-27T00:38:57.385028Z",
     "shell.execute_reply": "2022-08-27T00:38:57.384427Z"
    },
    "papermill": {
     "duration": 0.196084,
     "end_time": "2022-08-27T00:38:57.385160",
     "exception": false,
     "start_time": "2022-08-27T00:38:57.189076",
     "status": "completed"
    },
    "tags": []
   },
   "outputs": [
    {
     "name": "stdout",
     "output_type": "stream",
     "text": [
      "2\n"
     ]
    },
    {
     "data": {
      "text/plain": [
       "<matplotlib.image.AxesImage at 0x7f739c97c9b0>"
      ]
     },
     "execution_count": 9,
     "metadata": {},
     "output_type": "execute_result"
    },
    {
     "data": {
      "image/png": "[encoded data removed]",
      "text/plain": [
       "<Figure size 432x288 with 1 Axes>"
      ]
     },
     "metadata": {
      "needs_background": "light"
     },
     "output_type": "display_data"
    }
   ],
   "source": [
    "image_index = 7776 # You may select anything up to 60,000\n",
    "print(train_labels[image_index]) \n",
    "plt.imshow(train_images[image_index], cmap='Greys')"
   ]
  },
  {
   "cell_type": "markdown",
   "id": "a8d2388d",
   "metadata": {
    "papermill": {
     "duration": 0.029711,
     "end_time": "2022-08-27T00:38:57.444955",
     "exception": false,
     "start_time": "2022-08-27T00:38:57.415244",
     "status": "completed"
    },
    "tags": []
   },
   "source": [
    "## Filter data to get 3 and 8 out"
   ]
  },
  {
   "cell_type": "code",
   "execution_count": 10,
   "id": "776f7fc7",
   "metadata": {
    "execution": {
     "iopub.execute_input": "2022-08-27T00:38:57.511567Z",
     "iopub.status.busy": "2022-08-27T00:38:57.510855Z",
     "iopub.status.idle": "2022-08-27T00:38:57.532027Z",
     "shell.execute_reply": "2022-08-27T00:38:57.531456Z"
    },
    "papermill": {
     "duration": 0.05738,
     "end_time": "2022-08-27T00:38:57.532159",
     "exception": false,
     "start_time": "2022-08-27T00:38:57.474779",
     "status": "completed"
    },
    "tags": []
   },
   "outputs": [],
   "source": [
    "train_filter = np.where((train_labels == 3 ) | (train_labels == 8))\n",
    "test_filter = np.where((test_labels == 3) | (test_labels == 8))\n",
    "X_train, y_train = train_images[train_filter], train_labels[train_filter]\n",
    "X_test, y_test = test_images[test_filter], test_labels[test_filter]"
   ]
  },
  {
   "cell_type": "markdown",
   "id": "948f0b7e",
   "metadata": {
    "papermill": {
     "duration": 0.030505,
     "end_time": "2022-08-27T00:38:57.592858",
     "exception": false,
     "start_time": "2022-08-27T00:38:57.562353",
     "status": "completed"
    },
    "tags": []
   },
   "source": [
    "We normalize the pizel values in the 0 to 1 range"
   ]
  },
  {
   "cell_type": "code",
   "execution_count": 11,
   "id": "ee4c2166",
   "metadata": {
    "execution": {
     "iopub.execute_input": "2022-08-27T00:38:57.659720Z",
     "iopub.status.busy": "2022-08-27T00:38:57.659046Z",
     "iopub.status.idle": "2022-08-27T00:38:57.716385Z",
     "shell.execute_reply": "2022-08-27T00:38:57.715695Z"
    },
    "papermill": {
     "duration": 0.094098,
     "end_time": "2022-08-27T00:38:57.716532",
     "exception": false,
     "start_time": "2022-08-27T00:38:57.622434",
     "status": "completed"
    },
    "tags": []
   },
   "outputs": [],
   "source": [
    "X_train = X_train/255.\n",
    "X_test = X_test/255."
   ]
  },
  {
   "cell_type": "markdown",
   "id": "ddcf4fab",
   "metadata": {
    "papermill": {
     "duration": 0.028646,
     "end_time": "2022-08-27T00:38:57.775544",
     "exception": false,
     "start_time": "2022-08-27T00:38:57.746898",
     "status": "completed"
    },
    "tags": []
   },
   "source": [
    "And setup the labels as 1 (when the digit is 3) and 0 (when the digit is 8)"
   ]
  },
  {
   "cell_type": "code",
   "execution_count": 12,
   "id": "7dc908f2",
   "metadata": {
    "execution": {
     "iopub.execute_input": "2022-08-27T00:38:57.839157Z",
     "iopub.status.busy": "2022-08-27T00:38:57.838472Z",
     "iopub.status.idle": "2022-08-27T00:38:57.855627Z",
     "shell.execute_reply": "2022-08-27T00:38:57.855008Z"
    },
    "papermill": {
     "duration": 0.051287,
     "end_time": "2022-08-27T00:38:57.855745",
     "exception": false,
     "start_time": "2022-08-27T00:38:57.804458",
     "status": "completed"
    },
    "tags": []
   },
   "outputs": [],
   "source": [
    "y_train = 1*(y_train==3)\n",
    "y_test = 1*(y_test==3)"
   ]
  },
  {
   "cell_type": "code",
   "execution_count": 13,
   "id": "01e4e969",
   "metadata": {
    "execution": {
     "iopub.execute_input": "2022-08-27T00:38:57.918994Z",
     "iopub.status.busy": "2022-08-27T00:38:57.918278Z",
     "iopub.status.idle": "2022-08-27T00:38:57.935632Z",
     "shell.execute_reply": "2022-08-27T00:38:57.935070Z"
    },
    "papermill": {
     "duration": 0.051118,
     "end_time": "2022-08-27T00:38:57.935759",
     "exception": false,
     "start_time": "2022-08-27T00:38:57.884641",
     "status": "completed"
    },
    "tags": []
   },
   "outputs": [
    {
     "data": {
      "text/plain": [
       "((11982, 28, 28), (1984, 28, 28))"
      ]
     },
     "execution_count": 13,
     "metadata": {},
     "output_type": "execute_result"
    }
   ],
   "source": [
    "X_train.shape, X_test.shape"
   ]
  },
  {
   "cell_type": "markdown",
   "id": "5ccf3f85",
   "metadata": {
    "papermill": {
     "duration": 0.029265,
     "end_time": "2022-08-27T00:38:57.994770",
     "exception": false,
     "start_time": "2022-08-27T00:38:57.965505",
     "status": "completed"
    },
    "tags": []
   },
   "source": [
    "We reshape the data to flatten the image pixels into a set of features or co-variates:"
   ]
  },
  {
   "cell_type": "code",
   "execution_count": 14,
   "id": "5286a4a3",
   "metadata": {
    "execution": {
     "iopub.execute_input": "2022-08-27T00:38:58.060020Z",
     "iopub.status.busy": "2022-08-27T00:38:58.059333Z",
     "iopub.status.idle": "2022-08-27T00:38:58.078529Z",
     "shell.execute_reply": "2022-08-27T00:38:58.079062Z"
    },
    "papermill": {
     "duration": 0.055407,
     "end_time": "2022-08-27T00:38:58.079216",
     "exception": false,
     "start_time": "2022-08-27T00:38:58.023809",
     "status": "completed"
    },
    "tags": []
   },
   "outputs": [
    {
     "data": {
      "text/plain": [
       "((11982, 784), (1984, 784))"
      ]
     },
     "execution_count": 14,
     "metadata": {},
     "output_type": "execute_result"
    }
   ],
   "source": [
    "X_train = X_train.reshape(X_train.shape[0], -1)\n",
    "X_test = X_test.reshape(X_test.shape[0], -1)\n",
    "X_train.shape, X_test.shape"
   ]
  },
  {
   "cell_type": "code",
   "execution_count": 15,
   "id": "73c5f88a",
   "metadata": {
    "execution": {
     "iopub.execute_input": "2022-08-27T00:38:58.145939Z",
     "iopub.status.busy": "2022-08-27T00:38:58.145238Z",
     "iopub.status.idle": "2022-08-27T00:38:58.168521Z",
     "shell.execute_reply": "2022-08-27T00:38:58.167819Z"
    },
    "papermill": {
     "duration": 0.05909,
     "end_time": "2022-08-27T00:38:58.168652",
     "exception": false,
     "start_time": "2022-08-27T00:38:58.109562",
     "status": "completed"
    },
    "tags": []
   },
   "outputs": [],
   "source": [
    "#Impoting functions from 'Kudzu'\n",
    "from kudzu.model import Model\n",
    "from kudzu.train import Learner\n",
    "from kudzu.optim import GD\n",
    "from kudzu.data import Data, Sampler,Dataloader\n",
    "\n",
    "from kudzu.callbacks import AccCallback\n",
    "from kudzu.callbacks import ClfCallback\n",
    "\n",
    "from kudzu.loss import MSE\n",
    "\n",
    "from kudzu.layer import Sigmoid,Relu\n",
    "from kudzu.layer import Affine"
   ]
  },
  {
   "cell_type": "markdown",
   "id": "bc01172a",
   "metadata": {
    "papermill": {
     "duration": 0.030441,
     "end_time": "2022-08-27T00:38:58.229614",
     "exception": false,
     "start_time": "2022-08-27T00:38:58.199173",
     "status": "completed"
    },
    "tags": []
   },
   "source": [
    "### Let us create a `Config` class, to store important parameters. \n",
    "This class essentially plays the role of a dictionary."
   ]
  },
  {
   "cell_type": "code",
   "execution_count": 16,
   "id": "978281aa",
   "metadata": {
    "execution": {
     "iopub.execute_input": "2022-08-27T00:38:58.294489Z",
     "iopub.status.busy": "2022-08-27T00:38:58.293775Z",
     "iopub.status.idle": "2022-08-27T00:38:58.307356Z",
     "shell.execute_reply": "2022-08-27T00:38:58.307909Z"
    },
    "papermill": {
     "duration": 0.048193,
     "end_time": "2022-08-27T00:38:58.308055",
     "exception": false,
     "start_time": "2022-08-27T00:38:58.259862",
     "status": "completed"
    },
    "tags": []
   },
   "outputs": [],
   "source": [
    "class Config:\n",
    "    pass\n",
    "config = Config()\n",
    "config.lr = 0.001\n",
    "config.num_epochs = 250\n",
    "config.bs = 50"
   ]
  },
  {
   "cell_type": "markdown",
   "id": "1385fa59",
   "metadata": {
    "papermill": {
     "duration": 0.029964,
     "end_time": "2022-08-27T00:38:58.368861",
     "exception": false,
     "start_time": "2022-08-27T00:38:58.338897",
     "status": "completed"
    },
    "tags": []
   },
   "source": [
    "### Running Models with the Training data\n",
    "Details about the network layers:\n",
    "- A first affine layer has 784 inputs and does 100 affine transforms. These are followed by a Relu\n",
    "- A second affine layer has 100 inputs from the 100 activations of the past layer, and does 100 affine transforms. These are followed by a Relu\n",
    "- A third affine layer has 100 activations and does 2 affine transformations to create an embedding for visualization. There is no non-linearity here.\n",
    "- A final \"logistic regression\" which has an affine transform from 2 inputs to 1 output, which is squeezed through a sigmoid.\n"
   ]
  },
  {
   "cell_type": "code",
   "execution_count": 17,
   "id": "2b9c66db",
   "metadata": {
    "execution": {
     "iopub.execute_input": "2022-08-27T00:38:58.433375Z",
     "iopub.status.busy": "2022-08-27T00:38:58.432693Z",
     "iopub.status.idle": "2022-08-27T00:38:58.447685Z",
     "shell.execute_reply": "2022-08-27T00:38:58.447123Z"
    },
    "papermill": {
     "duration": 0.049641,
     "end_time": "2022-08-27T00:38:58.447818",
     "exception": false,
     "start_time": "2022-08-27T00:38:58.398177",
     "status": "completed"
    },
    "tags": []
   },
   "outputs": [],
   "source": [
    "data = Data(X_train, y_train.reshape(-1,1))\n",
    "sampler = Sampler(data, config.bs, shuffle=True)\n",
    "\n",
    "dl = Dataloader(data, sampler)\n",
    "\n",
    "opt = GD(config.lr)\n",
    "loss = MSE()"
   ]
  },
  {
   "cell_type": "code",
   "execution_count": 18,
   "id": "b275e4c2",
   "metadata": {
    "execution": {
     "iopub.execute_input": "2022-08-27T00:38:58.511726Z",
     "iopub.status.busy": "2022-08-27T00:38:58.511051Z",
     "iopub.status.idle": "2022-08-27T00:38:58.525833Z",
     "shell.execute_reply": "2022-08-27T00:38:58.525167Z"
    },
    "papermill": {
     "duration": 0.048539,
     "end_time": "2022-08-27T00:38:58.525960",
     "exception": false,
     "start_time": "2022-08-27T00:38:58.477421",
     "status": "completed"
    },
    "tags": []
   },
   "outputs": [],
   "source": [
    "training_data_x = X_train\n",
    "testing_data_x = X_test\n",
    "training_data_y = y_train.reshape(-1,1)\n",
    "testing_data_y = y_test.reshape(-1,1)"
   ]
  },
  {
   "cell_type": "code",
   "execution_count": 19,
   "id": "76951160",
   "metadata": {
    "execution": {
     "iopub.execute_input": "2022-08-27T00:38:58.590649Z",
     "iopub.status.busy": "2022-08-27T00:38:58.589937Z",
     "iopub.status.idle": "2022-08-27T00:38:58.609221Z",
     "shell.execute_reply": "2022-08-27T00:38:58.608564Z"
    },
    "papermill": {
     "duration": 0.053899,
     "end_time": "2022-08-27T00:38:58.609345",
     "exception": false,
     "start_time": "2022-08-27T00:38:58.555446",
     "status": "completed"
    },
    "tags": []
   },
   "outputs": [
    {
     "name": "stdout",
     "output_type": "stream",
     "text": [
      "xavier\n",
      "xavier\n",
      "xavier\n",
      "xavier\n",
      "xavier\n"
     ]
    }
   ],
   "source": [
    "layers = [Affine(\"first\", 784, 100), Relu(\"first\"), Affine(\"second\", 100, 100), Relu(\"second\"), Affine(\"third\", 100, 2), Affine(\"last\", 2, 1), Sigmoid(\"last\")]\n",
    "model_nn = Model(layers)\n",
    "model_lr = Model([Affine(\"logits\", 784, 1), Sigmoid(\"sigmoid\")])"
   ]
  },
  {
   "cell_type": "code",
   "execution_count": 20,
   "id": "6eede77a",
   "metadata": {
    "execution": {
     "iopub.execute_input": "2022-08-27T00:38:58.676733Z",
     "iopub.status.busy": "2022-08-27T00:38:58.676065Z",
     "iopub.status.idle": "2022-08-27T00:38:58.689249Z",
     "shell.execute_reply": "2022-08-27T00:38:58.688700Z"
    },
    "papermill": {
     "duration": 0.049789,
     "end_time": "2022-08-27T00:38:58.689372",
     "exception": false,
     "start_time": "2022-08-27T00:38:58.639583",
     "status": "completed"
    },
    "tags": []
   },
   "outputs": [],
   "source": [
    "nn_learner = Learner(loss, model_nn, opt, config.num_epochs)\n",
    "acc_nn = ClfCallback(nn_learner, config.bs, training_data_x , testing_data_x, training_data_y, testing_data_y)\n",
    "nn_learner.set_callbacks([acc_nn])"
   ]
  },
  {
   "cell_type": "code",
   "execution_count": 21,
   "id": "877b6cc7",
   "metadata": {
    "execution": {
     "iopub.execute_input": "2022-08-27T00:38:58.754930Z",
     "iopub.status.busy": "2022-08-27T00:38:58.754222Z",
     "iopub.status.idle": "2022-08-27T00:38:58.769500Z",
     "shell.execute_reply": "2022-08-27T00:38:58.768948Z"
    },
    "papermill": {
     "duration": 0.050172,
     "end_time": "2022-08-27T00:38:58.769623",
     "exception": false,
     "start_time": "2022-08-27T00:38:58.719451",
     "status": "completed"
    },
    "tags": []
   },
   "outputs": [],
   "source": [
    "lr_learner = Learner(loss, model_lr, opt, config.num_epochs)\n",
    "acc_lr = ClfCallback(lr_learner, config.bs, training_data_x , testing_data_x, training_data_y, testing_data_y)\n",
    "lr_learner.set_callbacks([acc_lr])"
   ]
  },
  {
   "cell_type": "code",
   "execution_count": 22,
   "id": "d9b133c3",
   "metadata": {
    "execution": {
     "iopub.execute_input": "2022-08-27T00:38:58.835503Z",
     "iopub.status.busy": "2022-08-27T00:38:58.834805Z",
     "iopub.status.idle": "2022-08-27T00:40:27.237718Z",
     "shell.execute_reply": "2022-08-27T00:40:27.238705Z"
    },
    "papermill": {
     "duration": 88.43963,
     "end_time": "2022-08-27T00:40:27.238873",
     "exception": false,
     "start_time": "2022-08-27T00:38:58.799243",
     "status": "completed"
    },
    "tags": []
   },
   "outputs": [
    {
     "name": "stdout",
     "output_type": "stream",
     "text": [
      "Epoch 0, Loss 0.2362\n",
      "Training Accuracy: 0.7411, Testing Accuracy: 0.7414\n",
      "\n"
     ]
    },
    {
     "name": "stdout",
     "output_type": "stream",
     "text": [
      "Epoch 10, Loss 0.0744\n",
      "Training Accuracy: 0.9276, Testing Accuracy: 0.9430\n",
      "\n"
     ]
    },
    {
     "name": "stdout",
     "output_type": "stream",
     "text": [
      "Epoch 20, Loss 0.0497\n",
      "Training Accuracy: 0.9466, Testing Accuracy: 0.9546\n",
      "\n"
     ]
    },
    {
     "name": "stdout",
     "output_type": "stream",
     "text": [
      "Epoch 30, Loss 0.0406\n",
      "Training Accuracy: 0.9551, Testing Accuracy: 0.9597\n",
      "\n"
     ]
    },
    {
     "name": "stdout",
     "output_type": "stream",
     "text": [
      "Epoch 40, Loss 0.0358\n",
      "Training Accuracy: 0.9604, Testing Accuracy: 0.9642\n",
      "\n"
     ]
    },
    {
     "name": "stdout",
     "output_type": "stream",
     "text": [
      "Epoch 50, Loss 0.0327\n",
      "Training Accuracy: 0.9631, Testing Accuracy: 0.9657\n",
      "\n"
     ]
    },
    {
     "name": "stdout",
     "output_type": "stream",
     "text": [
      "Epoch 60, Loss 0.0305\n",
      "Training Accuracy: 0.9660, Testing Accuracy: 0.9688\n",
      "\n"
     ]
    },
    {
     "name": "stdout",
     "output_type": "stream",
     "text": [
      "Epoch 70, Loss 0.0287\n",
      "Training Accuracy: 0.9679, Testing Accuracy: 0.9693\n",
      "\n"
     ]
    },
    {
     "name": "stdout",
     "output_type": "stream",
     "text": [
      "Epoch 80, Loss 0.0273\n",
      "Training Accuracy: 0.9691, Testing Accuracy: 0.9698\n",
      "\n"
     ]
    },
    {
     "name": "stdout",
     "output_type": "stream",
     "text": [
      "Epoch 90, Loss 0.0261\n",
      "Training Accuracy: 0.9701, Testing Accuracy: 0.9703\n",
      "\n"
     ]
    },
    {
     "name": "stdout",
     "output_type": "stream",
     "text": [
      "Epoch 100, Loss 0.025\n",
      "Training Accuracy: 0.9715, Testing Accuracy: 0.9698\n",
      "\n"
     ]
    },
    {
     "name": "stdout",
     "output_type": "stream",
     "text": [
      "Epoch 110, Loss 0.0241\n",
      "Training Accuracy: 0.9730, Testing Accuracy: 0.9703\n",
      "\n"
     ]
    },
    {
     "name": "stdout",
     "output_type": "stream",
     "text": [
      "Epoch 120, Loss 0.0233\n",
      "Training Accuracy: 0.9738, Testing Accuracy: 0.9703\n",
      "\n"
     ]
    },
    {
     "name": "stdout",
     "output_type": "stream",
     "text": [
      "Epoch 130, Loss 0.0226\n",
      "Training Accuracy: 0.9748, Testing Accuracy: 0.9703\n",
      "\n"
     ]
    },
    {
     "name": "stdout",
     "output_type": "stream",
     "text": [
      "Epoch 140, Loss 0.0219\n",
      "Training Accuracy: 0.9754, Testing Accuracy: 0.9708\n",
      "\n"
     ]
    },
    {
     "name": "stdout",
     "output_type": "stream",
     "text": [
      "Epoch 150, Loss 0.0212\n",
      "Training Accuracy: 0.9764, Testing Accuracy: 0.9713\n",
      "\n"
     ]
    },
    {
     "name": "stdout",
     "output_type": "stream",
     "text": [
      "Epoch 160, Loss 0.0206\n",
      "Training Accuracy: 0.9771, Testing Accuracy: 0.9723\n",
      "\n"
     ]
    },
    {
     "name": "stdout",
     "output_type": "stream",
     "text": [
      "Epoch 170, Loss 0.0201\n",
      "Training Accuracy: 0.9776, Testing Accuracy: 0.9728\n",
      "\n"
     ]
    },
    {
     "name": "stdout",
     "output_type": "stream",
     "text": [
      "Epoch 180, Loss 0.0196\n",
      "Training Accuracy: 0.9782, Testing Accuracy: 0.9738\n",
      "\n"
     ]
    },
    {
     "name": "stdout",
     "output_type": "stream",
     "text": [
      "Epoch 190, Loss 0.0191\n",
      "Training Accuracy: 0.9792, Testing Accuracy: 0.9743\n",
      "\n"
     ]
    },
    {
     "name": "stdout",
     "output_type": "stream",
     "text": [
      "Epoch 200, Loss 0.0186\n",
      "Training Accuracy: 0.9798, Testing Accuracy: 0.9738\n",
      "\n"
     ]
    },
    {
     "name": "stdout",
     "output_type": "stream",
     "text": [
      "Epoch 210, Loss 0.0182\n",
      "Training Accuracy: 0.9804, Testing Accuracy: 0.9743\n",
      "\n"
     ]
    },
    {
     "name": "stdout",
     "output_type": "stream",
     "text": [
      "Epoch 220, Loss 0.0178\n",
      "Training Accuracy: 0.9809, Testing Accuracy: 0.9743\n",
      "\n"
     ]
    },
    {
     "name": "stdout",
     "output_type": "stream",
     "text": [
      "Epoch 230, Loss 0.0174\n",
      "Training Accuracy: 0.9812, Testing Accuracy: 0.9743\n",
      "\n"
     ]
    },
    {
     "name": "stdout",
     "output_type": "stream",
     "text": [
      "Epoch 240, Loss 0.017\n",
      "Training Accuracy: 0.9818, Testing Accuracy: 0.9743\n",
      "\n"
     ]
    },
    {
     "data": {
      "text/plain": [
       "0.0004467392392821476"
      ]
     },
     "execution_count": 22,
     "metadata": {},
     "output_type": "execute_result"
    }
   ],
   "source": [
    "nn_learner.train_loop(dl)"
   ]
  },
  {
   "cell_type": "code",
   "execution_count": 23,
   "id": "e0163366",
   "metadata": {
    "execution": {
     "iopub.execute_input": "2022-08-27T00:40:27.328117Z",
     "iopub.status.busy": "2022-08-27T00:40:27.327423Z",
     "iopub.status.idle": "2022-08-27T00:40:42.950824Z",
     "shell.execute_reply": "2022-08-27T00:40:42.951804Z"
    },
    "papermill": {
     "duration": 15.673998,
     "end_time": "2022-08-27T00:40:42.951969",
     "exception": false,
     "start_time": "2022-08-27T00:40:27.277971",
     "status": "completed"
    },
    "tags": []
   },
   "outputs": [
    {
     "name": "stdout",
     "output_type": "stream",
     "text": [
      "Epoch 0, Loss 0.2442\n",
      "Training Accuracy: 0.6844, Testing Accuracy: 0.6951\n",
      "\n"
     ]
    },
    {
     "name": "stdout",
     "output_type": "stream",
     "text": [
      "Epoch 10, Loss 0.1033\n",
      "Training Accuracy: 0.9065, Testing Accuracy: 0.9168\n",
      "\n"
     ]
    },
    {
     "name": "stdout",
     "output_type": "stream",
     "text": [
      "Epoch 20, Loss 0.0792\n",
      "Training Accuracy: 0.9279, Testing Accuracy: 0.9350\n",
      "\n"
     ]
    },
    {
     "name": "stdout",
     "output_type": "stream",
     "text": [
      "Epoch 30, Loss 0.0681\n",
      "Training Accuracy: 0.9370, Testing Accuracy: 0.9425\n",
      "\n"
     ]
    },
    {
     "name": "stdout",
     "output_type": "stream",
     "text": [
      "Epoch 40, Loss 0.0615\n",
      "Training Accuracy: 0.9415, Testing Accuracy: 0.9496\n",
      "\n"
     ]
    },
    {
     "name": "stdout",
     "output_type": "stream",
     "text": [
      "Epoch 50, Loss 0.057\n",
      "Training Accuracy: 0.9438, Testing Accuracy: 0.9521\n",
      "\n"
     ]
    },
    {
     "name": "stdout",
     "output_type": "stream",
     "text": [
      "Epoch 60, Loss 0.0536\n",
      "Training Accuracy: 0.9463, Testing Accuracy: 0.9526\n",
      "\n"
     ]
    },
    {
     "name": "stdout",
     "output_type": "stream",
     "text": [
      "Epoch 70, Loss 0.0511\n",
      "Training Accuracy: 0.9484, Testing Accuracy: 0.9546\n",
      "\n"
     ]
    },
    {
     "name": "stdout",
     "output_type": "stream",
     "text": [
      "Epoch 80, Loss 0.0491\n",
      "Training Accuracy: 0.9504, Testing Accuracy: 0.9577\n",
      "\n"
     ]
    },
    {
     "name": "stdout",
     "output_type": "stream",
     "text": [
      "Epoch 90, Loss 0.0474\n",
      "Training Accuracy: 0.9512, Testing Accuracy: 0.9592\n",
      "\n"
     ]
    },
    {
     "name": "stdout",
     "output_type": "stream",
     "text": [
      "Epoch 100, Loss 0.046\n",
      "Training Accuracy: 0.9530, Testing Accuracy: 0.9612\n",
      "\n"
     ]
    },
    {
     "name": "stdout",
     "output_type": "stream",
     "text": [
      "Epoch 110, Loss 0.0447\n",
      "Training Accuracy: 0.9542, Testing Accuracy: 0.9612\n",
      "\n"
     ]
    },
    {
     "name": "stdout",
     "output_type": "stream",
     "text": [
      "Epoch 120, Loss 0.0437\n",
      "Training Accuracy: 0.9553, Testing Accuracy: 0.9617\n",
      "\n"
     ]
    },
    {
     "name": "stdout",
     "output_type": "stream",
     "text": [
      "Epoch 130, Loss 0.0428\n",
      "Training Accuracy: 0.9562, Testing Accuracy: 0.9617\n",
      "\n"
     ]
    },
    {
     "name": "stdout",
     "output_type": "stream",
     "text": [
      "Epoch 140, Loss 0.0419\n",
      "Training Accuracy: 0.9572, Testing Accuracy: 0.9622\n",
      "\n"
     ]
    },
    {
     "name": "stdout",
     "output_type": "stream",
     "text": [
      "Epoch 150, Loss 0.0412\n",
      "Training Accuracy: 0.9580, Testing Accuracy: 0.9642\n",
      "\n"
     ]
    },
    {
     "name": "stdout",
     "output_type": "stream",
     "text": [
      "Epoch 160, Loss 0.0405\n",
      "Training Accuracy: 0.9584, Testing Accuracy: 0.9647\n",
      "\n"
     ]
    },
    {
     "name": "stdout",
     "output_type": "stream",
     "text": [
      "Epoch 170, Loss 0.0399\n",
      "Training Accuracy: 0.9588, Testing Accuracy: 0.9647\n",
      "\n"
     ]
    },
    {
     "name": "stdout",
     "output_type": "stream",
     "text": [
      "Epoch 180, Loss 0.0394\n",
      "Training Accuracy: 0.9589, Testing Accuracy: 0.9652\n",
      "\n"
     ]
    },
    {
     "name": "stdout",
     "output_type": "stream",
     "text": [
      "Epoch 190, Loss 0.0388\n",
      "Training Accuracy: 0.9592, Testing Accuracy: 0.9652\n",
      "\n"
     ]
    },
    {
     "name": "stdout",
     "output_type": "stream",
     "text": [
      "Epoch 200, Loss 0.0384\n",
      "Training Accuracy: 0.9594, Testing Accuracy: 0.9652\n",
      "\n"
     ]
    },
    {
     "name": "stdout",
     "output_type": "stream",
     "text": [
      "Epoch 210, Loss 0.0379\n",
      "Training Accuracy: 0.9598, Testing Accuracy: 0.9652\n",
      "\n"
     ]
    },
    {
     "name": "stdout",
     "output_type": "stream",
     "text": [
      "Epoch 220, Loss 0.0375\n",
      "Training Accuracy: 0.9601, Testing Accuracy: 0.9657\n",
      "\n"
     ]
    },
    {
     "name": "stdout",
     "output_type": "stream",
     "text": [
      "Epoch 230, Loss 0.0371\n",
      "Training Accuracy: 0.9602, Testing Accuracy: 0.9662\n",
      "\n"
     ]
    },
    {
     "name": "stdout",
     "output_type": "stream",
     "text": [
      "Epoch 240, Loss 0.0368\n",
      "Training Accuracy: 0.9605, Testing Accuracy: 0.9662\n",
      "\n"
     ]
    },
    {
     "data": {
      "text/plain": [
       "0.049904847105211786"
      ]
     },
     "execution_count": 23,
     "metadata": {},
     "output_type": "execute_result"
    }
   ],
   "source": [
    "lr_learner.train_loop(dl)"
   ]
  },
  {
   "cell_type": "code",
   "execution_count": 24,
   "id": "ca410940",
   "metadata": {
    "execution": {
     "iopub.execute_input": "2022-08-27T00:40:43.056008Z",
     "iopub.status.busy": "2022-08-27T00:40:43.055351Z",
     "iopub.status.idle": "2022-08-27T00:40:43.313724Z",
     "shell.execute_reply": "2022-08-27T00:40:43.314264Z"
    },
    "papermill": {
     "duration": 0.316055,
     "end_time": "2022-08-27T00:40:43.314448",
     "exception": false,
     "start_time": "2022-08-27T00:40:42.998393",
     "status": "completed"
    },
    "tags": []
   },
   "outputs": [
    {
     "data": {
      "text/plain": [
       "<matplotlib.legend.Legend at 0x7f739c4def98>"
      ]
     },
     "execution_count": 24,
     "metadata": {},
     "output_type": "execute_result"
    },
    {
     "data": {
      "image/png": "[encoded data removed]",
      "text/plain": [
       "<Figure size 1080x720 with 1 Axes>"
      ]
     },
     "metadata": {
      "needs_background": "light"
     },
     "output_type": "display_data"
    }
   ],
   "source": [
    "#comparing the results of NN and LR\n",
    "plt.figure(figsize=(15,10))\n",
    "\n",
    "# Neural Network plots\n",
    "plt.plot(acc_nn.accuracies, 'r-', label = \"Training Accuracies - NN\")\n",
    "plt.plot(acc_nn.test_accuracies, 'g-', label = \"Testing Accuracies - NN\")\n",
    "\n",
    "# Logistic Regression plots\n",
    "plt.plot(acc_lr.accuracies, 'k-', label = \"Training Accuracies - LR\")\n",
    "plt.plot(acc_lr.test_accuracies, 'b-', label = \"Testing Accuracies - LR\")\n",
    "plt.legend()"
   ]
  },
  {
   "cell_type": "markdown",
   "id": "80dfb35c",
   "metadata": {
    "papermill": {
     "duration": 0.049922,
     "end_time": "2022-08-27T00:40:43.412209",
     "exception": false,
     "start_time": "2022-08-27T00:40:43.362287",
     "status": "completed"
    },
    "tags": []
   },
   "source": [
    "#### Plotting the outputs of this layer of the NN.\n"
   ]
  },
  {
   "cell_type": "code",
   "execution_count": 25,
   "id": "45eb2ff5",
   "metadata": {
    "execution": {
     "iopub.execute_input": "2022-08-27T00:40:43.522859Z",
     "iopub.status.busy": "2022-08-27T00:40:43.519364Z",
     "iopub.status.idle": "2022-08-27T00:40:43.545234Z",
     "shell.execute_reply": "2022-08-27T00:40:43.544651Z"
    },
    "papermill": {
     "duration": 0.085342,
     "end_time": "2022-08-27T00:40:43.545365",
     "exception": false,
     "start_time": "2022-08-27T00:40:43.460023",
     "status": "completed"
    },
    "tags": []
   },
   "outputs": [],
   "source": [
    "new_model = Model(layers[:-2])\n",
    "testing_plot = new_model(testing_data_x)"
   ]
  },
  {
   "cell_type": "code",
   "execution_count": 26,
   "id": "4c0a5485",
   "metadata": {
    "execution": {
     "iopub.execute_input": "2022-08-27T00:40:43.651852Z",
     "iopub.status.busy": "2022-08-27T00:40:43.651163Z",
     "iopub.status.idle": "2022-08-27T00:40:43.880091Z",
     "shell.execute_reply": "2022-08-27T00:40:43.880628Z"
    },
    "papermill": {
     "duration": 0.288421,
     "end_time": "2022-08-27T00:40:43.880782",
     "exception": false,
     "start_time": "2022-08-27T00:40:43.592361",
     "status": "completed"
    },
    "tags": []
   },
   "outputs": [
    {
     "data": {
      "text/plain": [
       "Text(0.5, 1.0, 'Outputs')"
      ]
     },
     "execution_count": 26,
     "metadata": {},
     "output_type": "execute_result"
    },
    {
     "data": {
      "image/png": "[encoded data removed]",
      "text/plain": [
       "<Figure size 576x504 with 1 Axes>"
      ]
     },
     "metadata": {
      "needs_background": "light"
     },
     "output_type": "display_data"
    }
   ],
   "source": [
    "# Plotting the scatter plot of points and color coding by class\n",
    "plt.figure(figsize=(8,7))\n",
    "plt.scatter(testing_plot[:,0], testing_plot[:,1], alpha = 0.1, c = y_test.ravel());\n",
    "plt.title('Outputs')"
   ]
  },
  {
   "cell_type": "markdown",
   "id": "a74fcf8f",
   "metadata": {
    "papermill": {
     "duration": 0.055126,
     "end_time": "2022-08-27T00:40:43.989419",
     "exception": false,
     "start_time": "2022-08-27T00:40:43.934293",
     "status": "completed"
    },
    "tags": []
   },
   "source": [
    "Probability contours"
   ]
  },
  {
   "cell_type": "code",
   "execution_count": 27,
   "id": "d0afc8e3",
   "metadata": {
    "execution": {
     "iopub.execute_input": "2022-08-27T00:40:44.139820Z",
     "iopub.status.busy": "2022-08-27T00:40:44.138884Z",
     "iopub.status.idle": "2022-08-27T00:40:44.152654Z",
     "shell.execute_reply": "2022-08-27T00:40:44.152102Z"
    },
    "papermill": {
     "duration": 0.072556,
     "end_time": "2022-08-27T00:40:44.152787",
     "exception": false,
     "start_time": "2022-08-27T00:40:44.080231",
     "status": "completed"
    },
    "tags": []
   },
   "outputs": [],
   "source": [
    "model_prob = Model(layers[-2:]) "
   ]
  },
  {
   "cell_type": "code",
   "execution_count": 28,
   "id": "9b96e238",
   "metadata": {
    "execution": {
     "iopub.execute_input": "2022-08-27T00:40:44.270864Z",
     "iopub.status.busy": "2022-08-27T00:40:44.269583Z",
     "iopub.status.idle": "2022-08-27T00:40:44.284920Z",
     "shell.execute_reply": "2022-08-27T00:40:44.285420Z"
    },
    "papermill": {
     "duration": 0.075233,
     "end_time": "2022-08-27T00:40:44.285560",
     "exception": false,
     "start_time": "2022-08-27T00:40:44.210327",
     "status": "completed"
    },
    "tags": []
   },
   "outputs": [],
   "source": [
    "#creating the x and y ranges according to the above generated plot.\n",
    "x_range = np.linspace(-4, 1, 100) \n",
    "y_range = np.linspace(-6, 6, 100) \n",
    "x_grid, y_grid = np.meshgrid(x_range, y_range) # x_grid and y_grig are of size 100 X 100\n",
    "\n",
    "# converting x_grid and y_grid to continuous arrays\n",
    "x_gridflat = np.ravel(x_grid)\n",
    "y_gridflat = np.ravel(y_grid)\n",
    "\n",
    "# The last layer of the current model takes two columns as input. Hence transpose of np.vstack() is required.\n",
    "X = np.vstack((x_gridflat, y_gridflat)).T\n",
    "\n",
    "prob_contour = model_prob(X).reshape(100,100) "
   ]
  },
  {
   "cell_type": "code",
   "execution_count": 29,
   "id": "da72499a",
   "metadata": {
    "execution": {
     "iopub.execute_input": "2022-08-27T00:40:44.400578Z",
     "iopub.status.busy": "2022-08-27T00:40:44.399851Z",
     "iopub.status.idle": "2022-08-27T00:40:44.691022Z",
     "shell.execute_reply": "2022-08-27T00:40:44.690103Z"
    },
    "papermill": {
     "duration": 0.352647,
     "end_time": "2022-08-27T00:40:44.691239",
     "exception": false,
     "start_time": "2022-08-27T00:40:44.338592",
     "status": "completed"
    },
    "tags": []
   },
   "outputs": [
    {
     "data": {
      "image/png": "[encoded data removed]",
      "text/plain": [
       "<Figure size 720x648 with 1 Axes>"
      ]
     },
     "metadata": {
      "needs_background": "light"
     },
     "output_type": "display_data"
    }
   ],
   "source": [
    "plt.figure(figsize=(10,9))\n",
    "plt.scatter(testing_plot[:,0], testing_plot[:,1], alpha = 0.1, c = y_test.ravel())\n",
    "contours = plt.contour(x_grid,y_grid,prob_contour)\n",
    "plt.title('Probability Contours')\n",
    "plt.clabel(contours, inline = True );"
   ]
  },
  {
   "cell_type": "code",
   "execution_count": null,
   "id": "e81b4ac7",
   "metadata": {
    "papermill": {
     "duration": 0.053658,
     "end_time": "2022-08-27T00:40:44.803185",
     "exception": false,
     "start_time": "2022-08-27T00:40:44.749527",
     "status": "completed"
    },
    "tags": []
   },
   "outputs": [],
   "source": []
  }
 ],
 "metadata": {
  "kernelspec": {
   "display_name": "Python 3",
   "language": "python",
   "name": "python3"
  },
  "language_info": {
   "codemirror_mode": {
    "name": "ipython",
    "version": 3
   },
   "file_extension": ".py",
   "mimetype": "text/x-python",
   "name": "python",
   "nbconvert_exporter": "python",
   "pygments_lexer": "ipython3",
   "version": "3.6.15"
  },
  "papermill": {
   "default_parameters": {},
   "duration": 113.711614,
   "end_time": "2022-08-27T00:40:45.277640",
   "environment_variables": {},
   "exception": null,
   "input_path": "2020-08-11-part2.ipynb",
   "output_path": "2020-08-11-part2.ipynb",
   "parameters": {},
   "start_time": "2022-08-27T00:38:51.566026",
   "version": "2.3.3"
  }
 },
 "nbformat": 4,
 "nbformat_minor": 5
}