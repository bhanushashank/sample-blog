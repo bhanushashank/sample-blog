{
 "cells": [
  {
   "cell_type": "markdown",
   "id": "98380cd3",
   "metadata": {
    "papermill": {
     "duration": 0.031432,
     "end_time": "2022-02-24T10:09:23.265501",
     "exception": false,
     "start_time": "2022-02-24T10:09:23.234069",
     "status": "completed"
    },
    "tags": []
   },
   "source": [
    "# Distinguish Your Own Digits (DYOD)"
   ]
  },
  {
   "cell_type": "markdown",
   "id": "ef31240d",
   "metadata": {
    "papermill": {
     "duration": 0.023199,
     "end_time": "2022-02-24T10:09:23.311808",
     "exception": false,
     "start_time": "2022-02-24T10:09:23.288609",
     "status": "completed"
    },
    "tags": []
   },
   "source": [
    "You are going to write a classifier that distinguishes between the number 3 and number 8."
   ]
  },
  {
   "cell_type": "code",
   "execution_count": 1,
   "id": "b15c8646",
   "metadata": {
    "execution": {
     "iopub.execute_input": "2022-02-24T10:09:23.370129Z",
     "iopub.status.busy": "2022-02-24T10:09:23.369569Z",
     "iopub.status.idle": "2022-02-24T10:09:23.381128Z",
     "shell.execute_reply": "2022-02-24T10:09:23.380583Z"
    },
    "papermill": {
     "duration": 0.047462,
     "end_time": "2022-02-24T10:09:23.381267",
     "exception": false,
     "start_time": "2022-02-24T10:09:23.333805",
     "status": "completed"
    },
    "tags": []
   },
   "outputs": [],
   "source": [
    "%load_ext autoreload\n",
    "%autoreload 2"
   ]
  },
  {
   "cell_type": "code",
   "execution_count": 2,
   "id": "22ef38dc",
   "metadata": {
    "execution": {
     "iopub.execute_input": "2022-02-24T10:09:23.432864Z",
     "iopub.status.busy": "2022-02-24T10:09:23.432268Z",
     "iopub.status.idle": "2022-02-24T10:09:24.012588Z",
     "shell.execute_reply": "2022-02-24T10:09:24.011550Z"
    },
    "papermill": {
     "duration": 0.609902,
     "end_time": "2022-02-24T10:09:24.012738",
     "exception": false,
     "start_time": "2022-02-24T10:09:23.402836",
     "status": "completed"
    },
    "tags": []
   },
   "outputs": [],
   "source": [
    "%matplotlib inline\n",
    "import numpy as np\n",
    "import matplotlib.pyplot as plt\n",
    "import pandas as pd"
   ]
  },
  {
   "cell_type": "markdown",
   "id": "ba036198",
   "metadata": {
    "papermill": {
     "duration": 0.022932,
     "end_time": "2022-02-24T10:09:24.058973",
     "exception": false,
     "start_time": "2022-02-24T10:09:24.036041",
     "status": "completed"
    },
    "tags": []
   },
   "source": [
    "From the command line run `pip install mnist`. This is a library that will help you bring down the mnist dataset. If you run this from a notebook, you need to put  `!pip install mnist` in a cell by itself."
   ]
  },
  {
   "cell_type": "code",
   "execution_count": 3,
   "id": "bb6ad8a1",
   "metadata": {
    "execution": {
     "iopub.execute_input": "2022-02-24T10:09:24.113162Z",
     "iopub.status.busy": "2022-02-24T10:09:24.112658Z",
     "iopub.status.idle": "2022-02-24T10:09:26.558206Z",
     "shell.execute_reply": "2022-02-24T10:09:26.557666Z"
    },
    "papermill": {
     "duration": 2.475107,
     "end_time": "2022-02-24T10:09:26.558347",
     "exception": false,
     "start_time": "2022-02-24T10:09:24.083240",
     "status": "completed"
    },
    "tags": []
   },
   "outputs": [
    {
     "name": "stdout",
     "output_type": "stream",
     "text": [
      "Collecting mnist\r\n"
     ]
    },
    {
     "name": "stdout",
     "output_type": "stream",
     "text": [
      "  Downloading mnist-0.2.2-py2.py3-none-any.whl (3.5 kB)\r\n",
      "Requirement already satisfied: numpy in /opt/hostedtoolcache/Python/3.6.15/x64/lib/python3.6/site-packages (from mnist) (1.19.5)\r\n"
     ]
    },
    {
     "name": "stdout",
     "output_type": "stream",
     "text": [
      "Installing collected packages: mnist\r\n"
     ]
    },
    {
     "name": "stdout",
     "output_type": "stream",
     "text": [
      "Successfully installed mnist-0.2.2\r\n"
     ]
    }
   ],
   "source": [
    "!pip install mnist"
   ]
  },
  {
   "cell_type": "markdown",
   "id": "69df9c9a",
   "metadata": {
    "papermill": {
     "duration": 0.028781,
     "end_time": "2022-02-24T10:09:26.618798",
     "exception": false,
     "start_time": "2022-02-24T10:09:26.590017",
     "status": "completed"
    },
    "tags": []
   },
   "source": [
    "## Preparing the Data"
   ]
  },
  {
   "cell_type": "code",
   "execution_count": 4,
   "id": "7f69d806",
   "metadata": {
    "execution": {
     "iopub.execute_input": "2022-02-24T10:09:26.667754Z",
     "iopub.status.busy": "2022-02-24T10:09:26.667156Z",
     "iopub.status.idle": "2022-02-24T10:09:26.681216Z",
     "shell.execute_reply": "2022-02-24T10:09:26.681605Z"
    },
    "papermill": {
     "duration": 0.040344,
     "end_time": "2022-02-24T10:09:26.681722",
     "exception": false,
     "start_time": "2022-02-24T10:09:26.641378",
     "status": "completed"
    },
    "tags": []
   },
   "outputs": [],
   "source": [
    "import mnist"
   ]
  },
  {
   "cell_type": "code",
   "execution_count": 5,
   "id": "a411e44f",
   "metadata": {
    "execution": {
     "iopub.execute_input": "2022-02-24T10:09:26.732582Z",
     "iopub.status.busy": "2022-02-24T10:09:26.732136Z",
     "iopub.status.idle": "2022-02-24T10:09:27.316023Z",
     "shell.execute_reply": "2022-02-24T10:09:27.315493Z"
    },
    "papermill": {
     "duration": 0.611155,
     "end_time": "2022-02-24T10:09:27.316162",
     "exception": false,
     "start_time": "2022-02-24T10:09:26.705007",
     "status": "completed"
    },
    "tags": []
   },
   "outputs": [],
   "source": [
    "train_images = mnist.train_images()\n",
    "train_labels = mnist.train_labels()"
   ]
  },
  {
   "cell_type": "code",
   "execution_count": 6,
   "id": "dceab3a5",
   "metadata": {
    "execution": {
     "iopub.execute_input": "2022-02-24T10:09:27.369479Z",
     "iopub.status.busy": "2022-02-24T10:09:27.367845Z",
     "iopub.status.idle": "2022-02-24T10:09:27.382449Z",
     "shell.execute_reply": "2022-02-24T10:09:27.382038Z"
    },
    "papermill": {
     "duration": 0.042561,
     "end_time": "2022-02-24T10:09:27.382547",
     "exception": false,
     "start_time": "2022-02-24T10:09:27.339986",
     "status": "completed"
    },
    "tags": []
   },
   "outputs": [
    {
     "data": {
      "text/plain": [
       "((60000, 28, 28), (60000,))"
      ]
     },
     "execution_count": 6,
     "metadata": {},
     "output_type": "execute_result"
    }
   ],
   "source": [
    "train_images.shape, train_labels.shape"
   ]
  },
  {
   "cell_type": "code",
   "execution_count": 7,
   "id": "f50dc2bb",
   "metadata": {
    "execution": {
     "iopub.execute_input": "2022-02-24T10:09:27.437603Z",
     "iopub.status.busy": "2022-02-24T10:09:27.437010Z",
     "iopub.status.idle": "2022-02-24T10:09:27.581128Z",
     "shell.execute_reply": "2022-02-24T10:09:27.580186Z"
    },
    "papermill": {
     "duration": 0.173162,
     "end_time": "2022-02-24T10:09:27.581330",
     "exception": false,
     "start_time": "2022-02-24T10:09:27.408168",
     "status": "completed"
    },
    "tags": []
   },
   "outputs": [],
   "source": [
    "test_images = mnist.test_images()\n",
    "test_labels = mnist.test_labels()"
   ]
  },
  {
   "cell_type": "code",
   "execution_count": 8,
   "id": "fc38cf1b",
   "metadata": {
    "execution": {
     "iopub.execute_input": "2022-02-24T10:09:27.643876Z",
     "iopub.status.busy": "2022-02-24T10:09:27.643255Z",
     "iopub.status.idle": "2022-02-24T10:09:27.659502Z",
     "shell.execute_reply": "2022-02-24T10:09:27.659059Z"
    },
    "papermill": {
     "duration": 0.048089,
     "end_time": "2022-02-24T10:09:27.659610",
     "exception": false,
     "start_time": "2022-02-24T10:09:27.611521",
     "status": "completed"
    },
    "tags": []
   },
   "outputs": [
    {
     "data": {
      "text/plain": [
       "((10000, 28, 28), (10000,))"
      ]
     },
     "execution_count": 8,
     "metadata": {},
     "output_type": "execute_result"
    }
   ],
   "source": [
    "test_images.shape, test_labels.shape"
   ]
  },
  {
   "cell_type": "code",
   "execution_count": 9,
   "id": "f9ed8fe0",
   "metadata": {
    "execution": {
     "iopub.execute_input": "2022-02-24T10:09:27.711324Z",
     "iopub.status.busy": "2022-02-24T10:09:27.710900Z",
     "iopub.status.idle": "2022-02-24T10:09:27.844086Z",
     "shell.execute_reply": "2022-02-24T10:09:27.843396Z"
    },
    "papermill": {
     "duration": 0.16017,
     "end_time": "2022-02-24T10:09:27.844233",
     "exception": false,
     "start_time": "2022-02-24T10:09:27.684063",
     "status": "completed"
    },
    "tags": []
   },
   "outputs": [
    {
     "name": "stdout",
     "output_type": "stream",
     "text": [
      "2\n"
     ]
    },
    {
     "data": {
      "text/plain": [
       "<matplotlib.image.AxesImage at 0x7fd5470ee5c0>"
      ]
     },
     "execution_count": 9,
     "metadata": {},
     "output_type": "execute_result"
    },
    {
     "data": {
      "image/png": "[encoded data removed]",
      "text/plain": [
       "<Figure size 432x288 with 1 Axes>"
      ]
     },
     "metadata": {
      "needs_background": "light"
     },
     "output_type": "display_data"
    }
   ],
   "source": [
    "image_index = 7776 # You may select anything up to 60,000\n",
    "print(train_labels[image_index]) \n",
    "plt.imshow(train_images[image_index], cmap='Greys')"
   ]
  },
  {
   "cell_type": "markdown",
   "id": "a8d2388d",
   "metadata": {
    "papermill": {
     "duration": 0.026435,
     "end_time": "2022-02-24T10:09:27.895669",
     "exception": false,
     "start_time": "2022-02-24T10:09:27.869234",
     "status": "completed"
    },
    "tags": []
   },
   "source": [
    "## Filter data to get 3 and 8 out"
   ]
  },
  {
   "cell_type": "code",
   "execution_count": 10,
   "id": "776f7fc7",
   "metadata": {
    "execution": {
     "iopub.execute_input": "2022-02-24T10:09:27.950912Z",
     "iopub.status.busy": "2022-02-24T10:09:27.950467Z",
     "iopub.status.idle": "2022-02-24T10:09:27.969714Z",
     "shell.execute_reply": "2022-02-24T10:09:27.969362Z"
    },
    "papermill": {
     "duration": 0.049883,
     "end_time": "2022-02-24T10:09:27.969809",
     "exception": false,
     "start_time": "2022-02-24T10:09:27.919926",
     "status": "completed"
    },
    "tags": []
   },
   "outputs": [],
   "source": [
    "train_filter = np.where((train_labels == 3 ) | (train_labels == 8))\n",
    "test_filter = np.where((test_labels == 3) | (test_labels == 8))\n",
    "X_train, y_train = train_images[train_filter], train_labels[train_filter]\n",
    "X_test, y_test = test_images[test_filter], test_labels[test_filter]"
   ]
  },
  {
   "cell_type": "markdown",
   "id": "948f0b7e",
   "metadata": {
    "papermill": {
     "duration": 0.024721,
     "end_time": "2022-02-24T10:09:28.018453",
     "exception": false,
     "start_time": "2022-02-24T10:09:27.993732",
     "status": "completed"
    },
    "tags": []
   },
   "source": [
    "We normalize the pizel values in the 0 to 1 range"
   ]
  },
  {
   "cell_type": "code",
   "execution_count": 11,
   "id": "ee4c2166",
   "metadata": {
    "execution": {
     "iopub.execute_input": "2022-02-24T10:09:28.072517Z",
     "iopub.status.busy": "2022-02-24T10:09:28.072023Z",
     "iopub.status.idle": "2022-02-24T10:09:28.122951Z",
     "shell.execute_reply": "2022-02-24T10:09:28.122006Z"
    },
    "papermill": {
     "duration": 0.081694,
     "end_time": "2022-02-24T10:09:28.123166",
     "exception": false,
     "start_time": "2022-02-24T10:09:28.041472",
     "status": "completed"
    },
    "tags": []
   },
   "outputs": [],
   "source": [
    "X_train = X_train/255.\n",
    "X_test = X_test/255."
   ]
  },
  {
   "cell_type": "markdown",
   "id": "ddcf4fab",
   "metadata": {
    "papermill": {
     "duration": 0.026825,
     "end_time": "2022-02-24T10:09:28.176400",
     "exception": false,
     "start_time": "2022-02-24T10:09:28.149575",
     "status": "completed"
    },
    "tags": []
   },
   "source": [
    "And setup the labels as 1 (when the digit is 3) and 0 (when the digit is 8)"
   ]
  },
  {
   "cell_type": "code",
   "execution_count": 12,
   "id": "7dc908f2",
   "metadata": {
    "execution": {
     "iopub.execute_input": "2022-02-24T10:09:28.234462Z",
     "iopub.status.busy": "2022-02-24T10:09:28.233858Z",
     "iopub.status.idle": "2022-02-24T10:09:28.245812Z",
     "shell.execute_reply": "2022-02-24T10:09:28.245348Z"
    },
    "papermill": {
     "duration": 0.045252,
     "end_time": "2022-02-24T10:09:28.245931",
     "exception": false,
     "start_time": "2022-02-24T10:09:28.200679",
     "status": "completed"
    },
    "tags": []
   },
   "outputs": [],
   "source": [
    "y_train = 1*(y_train==3)\n",
    "y_test = 1*(y_test==3)"
   ]
  },
  {
   "cell_type": "code",
   "execution_count": 13,
   "id": "01e4e969",
   "metadata": {
    "execution": {
     "iopub.execute_input": "2022-02-24T10:09:28.300624Z",
     "iopub.status.busy": "2022-02-24T10:09:28.300065Z",
     "iopub.status.idle": "2022-02-24T10:09:28.314300Z",
     "shell.execute_reply": "2022-02-24T10:09:28.313937Z"
    },
    "papermill": {
     "duration": 0.041598,
     "end_time": "2022-02-24T10:09:28.314388",
     "exception": false,
     "start_time": "2022-02-24T10:09:28.272790",
     "status": "completed"
    },
    "tags": []
   },
   "outputs": [
    {
     "data": {
      "text/plain": [
       "((11982, 28, 28), (1984, 28, 28))"
      ]
     },
     "execution_count": 13,
     "metadata": {},
     "output_type": "execute_result"
    }
   ],
   "source": [
    "X_train.shape, X_test.shape"
   ]
  },
  {
   "cell_type": "markdown",
   "id": "5ccf3f85",
   "metadata": {
    "papermill": {
     "duration": 0.024868,
     "end_time": "2022-02-24T10:09:28.362792",
     "exception": false,
     "start_time": "2022-02-24T10:09:28.337924",
     "status": "completed"
    },
    "tags": []
   },
   "source": [
    "We reshape the data to flatten the image pixels into a set of features or co-variates:"
   ]
  },
  {
   "cell_type": "code",
   "execution_count": 14,
   "id": "5286a4a3",
   "metadata": {
    "execution": {
     "iopub.execute_input": "2022-02-24T10:09:28.416960Z",
     "iopub.status.busy": "2022-02-24T10:09:28.416536Z",
     "iopub.status.idle": "2022-02-24T10:09:28.430037Z",
     "shell.execute_reply": "2022-02-24T10:09:28.429677Z"
    },
    "papermill": {
     "duration": 0.041507,
     "end_time": "2022-02-24T10:09:28.430121",
     "exception": false,
     "start_time": "2022-02-24T10:09:28.388614",
     "status": "completed"
    },
    "tags": []
   },
   "outputs": [
    {
     "data": {
      "text/plain": [
       "((11982, 784), (1984, 784))"
      ]
     },
     "execution_count": 14,
     "metadata": {},
     "output_type": "execute_result"
    }
   ],
   "source": [
    "X_train = X_train.reshape(X_train.shape[0], -1)\n",
    "X_test = X_test.reshape(X_test.shape[0], -1)\n",
    "X_train.shape, X_test.shape"
   ]
  },
  {
   "cell_type": "code",
   "execution_count": 15,
   "id": "73c5f88a",
   "metadata": {
    "execution": {
     "iopub.execute_input": "2022-02-24T10:09:28.499387Z",
     "iopub.status.busy": "2022-02-24T10:09:28.498807Z",
     "iopub.status.idle": "2022-02-24T10:09:28.517106Z",
     "shell.execute_reply": "2022-02-24T10:09:28.517478Z"
    },
    "papermill": {
     "duration": 0.057546,
     "end_time": "2022-02-24T10:09:28.517597",
     "exception": false,
     "start_time": "2022-02-24T10:09:28.460051",
     "status": "completed"
    },
    "tags": []
   },
   "outputs": [],
   "source": [
    "#Impoting functions from 'Kudzu'\n",
    "from kudzu.model import Model\n",
    "from kudzu.train import Learner\n",
    "from kudzu.optim import GD\n",
    "from kudzu.data import Data, Sampler,Dataloader\n",
    "\n",
    "from kudzu.callbacks import AccCallback\n",
    "from kudzu.callbacks import ClfCallback\n",
    "\n",
    "from kudzu.loss import MSE\n",
    "\n",
    "from kudzu.layer import Sigmoid,Relu\n",
    "from kudzu.layer import Affine"
   ]
  },
  {
   "cell_type": "markdown",
   "id": "bc01172a",
   "metadata": {
    "papermill": {
     "duration": 0.029136,
     "end_time": "2022-02-24T10:09:28.571631",
     "exception": false,
     "start_time": "2022-02-24T10:09:28.542495",
     "status": "completed"
    },
    "tags": []
   },
   "source": [
    "### Let us create a `Config` class, to store important parameters. \n",
    "This class essentially plays the role of a dictionary."
   ]
  },
  {
   "cell_type": "code",
   "execution_count": 16,
   "id": "978281aa",
   "metadata": {
    "execution": {
     "iopub.execute_input": "2022-02-24T10:09:28.629075Z",
     "iopub.status.busy": "2022-02-24T10:09:28.628567Z",
     "iopub.status.idle": "2022-02-24T10:09:28.642363Z",
     "shell.execute_reply": "2022-02-24T10:09:28.641289Z"
    },
    "papermill": {
     "duration": 0.046142,
     "end_time": "2022-02-24T10:09:28.642476",
     "exception": false,
     "start_time": "2022-02-24T10:09:28.596334",
     "status": "completed"
    },
    "tags": []
   },
   "outputs": [],
   "source": [
    "class Config:\n",
    "    pass\n",
    "config = Config()\n",
    "config.lr = 0.001\n",
    "config.num_epochs = 250\n",
    "config.bs = 50"
   ]
  },
  {
   "cell_type": "markdown",
   "id": "1385fa59",
   "metadata": {
    "papermill": {
     "duration": 0.026043,
     "end_time": "2022-02-24T10:09:28.692408",
     "exception": false,
     "start_time": "2022-02-24T10:09:28.666365",
     "status": "completed"
    },
    "tags": []
   },
   "source": [
    "### Running Models with the Training data\n",
    "Details about the network layers:\n",
    "- A first affine layer has 784 inputs and does 100 affine transforms. These are followed by a Relu\n",
    "- A second affine layer has 100 inputs from the 100 activations of the past layer, and does 100 affine transforms. These are followed by a Relu\n",
    "- A third affine layer has 100 activations and does 2 affine transformations to create an embedding for visualization. There is no non-linearity here.\n",
    "- A final \"logistic regression\" which has an affine transform from 2 inputs to 1 output, which is squeezed through a sigmoid.\n"
   ]
  },
  {
   "cell_type": "code",
   "execution_count": 17,
   "id": "2b9c66db",
   "metadata": {
    "execution": {
     "iopub.execute_input": "2022-02-24T10:09:28.747251Z",
     "iopub.status.busy": "2022-02-24T10:09:28.746689Z",
     "iopub.status.idle": "2022-02-24T10:09:28.760916Z",
     "shell.execute_reply": "2022-02-24T10:09:28.760436Z"
    },
    "papermill": {
     "duration": 0.042805,
     "end_time": "2022-02-24T10:09:28.761035",
     "exception": false,
     "start_time": "2022-02-24T10:09:28.718230",
     "status": "completed"
    },
    "tags": []
   },
   "outputs": [],
   "source": [
    "data = Data(X_train, y_train.reshape(-1,1))\n",
    "sampler = Sampler(data, config.bs, shuffle=True)\n",
    "\n",
    "dl = Dataloader(data, sampler)\n",
    "\n",
    "opt = GD(config.lr)\n",
    "loss = MSE()"
   ]
  },
  {
   "cell_type": "code",
   "execution_count": 18,
   "id": "b275e4c2",
   "metadata": {
    "execution": {
     "iopub.execute_input": "2022-02-24T10:09:28.816448Z",
     "iopub.status.busy": "2022-02-24T10:09:28.815937Z",
     "iopub.status.idle": "2022-02-24T10:09:28.829301Z",
     "shell.execute_reply": "2022-02-24T10:09:28.829809Z"
    },
    "papermill": {
     "duration": 0.042034,
     "end_time": "2022-02-24T10:09:28.829939",
     "exception": false,
     "start_time": "2022-02-24T10:09:28.787905",
     "status": "completed"
    },
    "tags": []
   },
   "outputs": [],
   "source": [
    "training_data_x = X_train\n",
    "testing_data_x = X_test\n",
    "training_data_y = y_train.reshape(-1,1)\n",
    "testing_data_y = y_test.reshape(-1,1)"
   ]
  },
  {
   "cell_type": "code",
   "execution_count": 19,
   "id": "76951160",
   "metadata": {
    "execution": {
     "iopub.execute_input": "2022-02-24T10:09:28.882091Z",
     "iopub.status.busy": "2022-02-24T10:09:28.881655Z",
     "iopub.status.idle": "2022-02-24T10:09:28.897670Z",
     "shell.execute_reply": "2022-02-24T10:09:28.897209Z"
    },
    "papermill": {
     "duration": 0.044041,
     "end_time": "2022-02-24T10:09:28.897778",
     "exception": false,
     "start_time": "2022-02-24T10:09:28.853737",
     "status": "completed"
    },
    "tags": []
   },
   "outputs": [
    {
     "name": "stdout",
     "output_type": "stream",
     "text": [
      "xavier\n",
      "xavier\n",
      "xavier\n",
      "xavier\n",
      "xavier\n"
     ]
    }
   ],
   "source": [
    "layers = [Affine(\"first\", 784, 100), Relu(\"first\"), Affine(\"second\", 100, 100), Relu(\"second\"), Affine(\"third\", 100, 2), Affine(\"last\", 2, 1), Sigmoid(\"last\")]\n",
    "model_nn = Model(layers)\n",
    "model_lr = Model([Affine(\"logits\", 784, 1), Sigmoid(\"sigmoid\")])"
   ]
  },
  {
   "cell_type": "code",
   "execution_count": 20,
   "id": "6eede77a",
   "metadata": {
    "execution": {
     "iopub.execute_input": "2022-02-24T10:09:28.954032Z",
     "iopub.status.busy": "2022-02-24T10:09:28.953528Z",
     "iopub.status.idle": "2022-02-24T10:09:28.964877Z",
     "shell.execute_reply": "2022-02-24T10:09:28.964439Z"
    },
    "papermill": {
     "duration": 0.041297,
     "end_time": "2022-02-24T10:09:28.965135",
     "exception": false,
     "start_time": "2022-02-24T10:09:28.923838",
     "status": "completed"
    },
    "tags": []
   },
   "outputs": [],
   "source": [
    "nn_learner = Learner(loss, model_nn, opt, config.num_epochs)\n",
    "acc_nn = ClfCallback(nn_learner, config.bs, training_data_x , testing_data_x, training_data_y, testing_data_y)\n",
    "nn_learner.set_callbacks([acc_nn])"
   ]
  },
  {
   "cell_type": "code",
   "execution_count": 21,
   "id": "877b6cc7",
   "metadata": {
    "execution": {
     "iopub.execute_input": "2022-02-24T10:09:29.020412Z",
     "iopub.status.busy": "2022-02-24T10:09:29.019990Z",
     "iopub.status.idle": "2022-02-24T10:09:29.032863Z",
     "shell.execute_reply": "2022-02-24T10:09:29.032361Z"
    },
    "papermill": {
     "duration": 0.042331,
     "end_time": "2022-02-24T10:09:29.032975",
     "exception": false,
     "start_time": "2022-02-24T10:09:28.990644",
     "status": "completed"
    },
    "tags": []
   },
   "outputs": [],
   "source": [
    "lr_learner = Learner(loss, model_lr, opt, config.num_epochs)\n",
    "acc_lr = ClfCallback(lr_learner, config.bs, training_data_x , testing_data_x, training_data_y, testing_data_y)\n",
    "lr_learner.set_callbacks([acc_lr])"
   ]
  },
  {
   "cell_type": "code",
   "execution_count": 22,
   "id": "d9b133c3",
   "metadata": {
    "execution": {
     "iopub.execute_input": "2022-02-24T10:09:29.095717Z",
     "iopub.status.busy": "2022-02-24T10:09:29.095183Z",
     "iopub.status.idle": "2022-02-24T10:10:49.390796Z",
     "shell.execute_reply": "2022-02-24T10:10:49.391673Z"
    },
    "papermill": {
     "duration": 80.333465,
     "end_time": "2022-02-24T10:10:49.391824",
     "exception": false,
     "start_time": "2022-02-24T10:09:29.058359",
     "status": "completed"
    },
    "tags": []
   },
   "outputs": [
    {
     "name": "stdout",
     "output_type": "stream",
     "text": [
      "Epoch 0, Loss 0.2424\n",
      "Training Accuracy: 0.7112, Testing Accuracy: 0.7203\n",
      "\n"
     ]
    },
    {
     "name": "stdout",
     "output_type": "stream",
     "text": [
      "Epoch 10, Loss 0.0751\n",
      "Training Accuracy: 0.9257, Testing Accuracy: 0.9345\n",
      "\n"
     ]
    },
    {
     "name": "stdout",
     "output_type": "stream",
     "text": [
      "Epoch 20, Loss 0.0503\n",
      "Training Accuracy: 0.9454, Testing Accuracy: 0.9546\n",
      "\n"
     ]
    },
    {
     "name": "stdout",
     "output_type": "stream",
     "text": [
      "Epoch 30, Loss 0.0409\n",
      "Training Accuracy: 0.9538, Testing Accuracy: 0.9592\n",
      "\n"
     ]
    },
    {
     "name": "stdout",
     "output_type": "stream",
     "text": [
      "Epoch 40, Loss 0.036\n",
      "Training Accuracy: 0.9606, Testing Accuracy: 0.9652\n",
      "\n"
     ]
    },
    {
     "name": "stdout",
     "output_type": "stream",
     "text": [
      "Epoch 50, Loss 0.0328\n",
      "Training Accuracy: 0.9637, Testing Accuracy: 0.9657\n",
      "\n"
     ]
    },
    {
     "name": "stdout",
     "output_type": "stream",
     "text": [
      "Epoch 60, Loss 0.0306\n",
      "Training Accuracy: 0.9659, Testing Accuracy: 0.9657\n",
      "\n"
     ]
    },
    {
     "name": "stdout",
     "output_type": "stream",
     "text": [
      "Epoch 70, Loss 0.0289\n",
      "Training Accuracy: 0.9676, Testing Accuracy: 0.9657\n",
      "\n"
     ]
    },
    {
     "name": "stdout",
     "output_type": "stream",
     "text": [
      "Epoch 80, Loss 0.0276\n",
      "Training Accuracy: 0.9687, Testing Accuracy: 0.9667\n",
      "\n"
     ]
    },
    {
     "name": "stdout",
     "output_type": "stream",
     "text": [
      "Epoch 90, Loss 0.0265\n",
      "Training Accuracy: 0.9695, Testing Accuracy: 0.9682\n",
      "\n"
     ]
    },
    {
     "name": "stdout",
     "output_type": "stream",
     "text": [
      "Epoch 100, Loss 0.0256\n",
      "Training Accuracy: 0.9706, Testing Accuracy: 0.9693\n",
      "\n"
     ]
    },
    {
     "name": "stdout",
     "output_type": "stream",
     "text": [
      "Epoch 110, Loss 0.0247\n",
      "Training Accuracy: 0.9717, Testing Accuracy: 0.9698\n",
      "\n"
     ]
    },
    {
     "name": "stdout",
     "output_type": "stream",
     "text": [
      "Epoch 120, Loss 0.024\n",
      "Training Accuracy: 0.9725, Testing Accuracy: 0.9693\n",
      "\n"
     ]
    },
    {
     "name": "stdout",
     "output_type": "stream",
     "text": [
      "Epoch 130, Loss 0.0233\n",
      "Training Accuracy: 0.9728, Testing Accuracy: 0.9703\n",
      "\n"
     ]
    },
    {
     "name": "stdout",
     "output_type": "stream",
     "text": [
      "Epoch 140, Loss 0.0227\n",
      "Training Accuracy: 0.9736, Testing Accuracy: 0.9708\n",
      "\n"
     ]
    },
    {
     "name": "stdout",
     "output_type": "stream",
     "text": [
      "Epoch 150, Loss 0.0221\n",
      "Training Accuracy: 0.9745, Testing Accuracy: 0.9713\n",
      "\n"
     ]
    },
    {
     "name": "stdout",
     "output_type": "stream",
     "text": [
      "Epoch 160, Loss 0.0215\n",
      "Training Accuracy: 0.9751, Testing Accuracy: 0.9713\n",
      "\n"
     ]
    },
    {
     "name": "stdout",
     "output_type": "stream",
     "text": [
      "Epoch 170, Loss 0.021\n",
      "Training Accuracy: 0.9761, Testing Accuracy: 0.9713\n",
      "\n"
     ]
    },
    {
     "name": "stdout",
     "output_type": "stream",
     "text": [
      "Epoch 180, Loss 0.0205\n",
      "Training Accuracy: 0.9770, Testing Accuracy: 0.9713\n",
      "\n"
     ]
    },
    {
     "name": "stdout",
     "output_type": "stream",
     "text": [
      "Epoch 190, Loss 0.0201\n",
      "Training Accuracy: 0.9775, Testing Accuracy: 0.9713\n",
      "\n"
     ]
    },
    {
     "name": "stdout",
     "output_type": "stream",
     "text": [
      "Epoch 200, Loss 0.0196\n",
      "Training Accuracy: 0.9779, Testing Accuracy: 0.9713\n",
      "\n"
     ]
    },
    {
     "name": "stdout",
     "output_type": "stream",
     "text": [
      "Epoch 210, Loss 0.0192\n",
      "Training Accuracy: 0.9785, Testing Accuracy: 0.9713\n",
      "\n"
     ]
    },
    {
     "name": "stdout",
     "output_type": "stream",
     "text": [
      "Epoch 220, Loss 0.0188\n",
      "Training Accuracy: 0.9787, Testing Accuracy: 0.9723\n",
      "\n"
     ]
    },
    {
     "name": "stdout",
     "output_type": "stream",
     "text": [
      "Epoch 230, Loss 0.0184\n",
      "Training Accuracy: 0.9792, Testing Accuracy: 0.9723\n",
      "\n"
     ]
    },
    {
     "name": "stdout",
     "output_type": "stream",
     "text": [
      "Epoch 240, Loss 0.018\n",
      "Training Accuracy: 0.9801, Testing Accuracy: 0.9728\n",
      "\n"
     ]
    },
    {
     "data": {
      "text/plain": [
       "0.009426211510047484"
      ]
     },
     "execution_count": 22,
     "metadata": {},
     "output_type": "execute_result"
    }
   ],
   "source": [
    "nn_learner.train_loop(dl)"
   ]
  },
  {
   "cell_type": "code",
   "execution_count": 23,
   "id": "e0163366",
   "metadata": {
    "execution": {
     "iopub.execute_input": "2022-02-24T10:10:49.477427Z",
     "iopub.status.busy": "2022-02-24T10:10:49.476858Z",
     "iopub.status.idle": "2022-02-24T10:11:03.862957Z",
     "shell.execute_reply": "2022-02-24T10:11:03.863796Z"
    },
    "papermill": {
     "duration": 14.435728,
     "end_time": "2022-02-24T10:11:03.863957",
     "exception": false,
     "start_time": "2022-02-24T10:10:49.428229",
     "status": "completed"
    },
    "tags": []
   },
   "outputs": [
    {
     "name": "stdout",
     "output_type": "stream",
     "text": [
      "Epoch 0, Loss 0.2191\n",
      "Training Accuracy: 0.7635, Testing Accuracy: 0.7807\n",
      "\n"
     ]
    },
    {
     "name": "stdout",
     "output_type": "stream",
     "text": [
      "Epoch 10, Loss 0.1009\n",
      "Training Accuracy: 0.9121, Testing Accuracy: 0.9254\n",
      "\n"
     ]
    },
    {
     "name": "stdout",
     "output_type": "stream",
     "text": [
      "Epoch 20, Loss 0.078\n",
      "Training Accuracy: 0.9311, Testing Accuracy: 0.9430\n",
      "\n"
     ]
    },
    {
     "name": "stdout",
     "output_type": "stream",
     "text": [
      "Epoch 30, Loss 0.0673\n",
      "Training Accuracy: 0.9394, Testing Accuracy: 0.9531\n",
      "\n"
     ]
    },
    {
     "name": "stdout",
     "output_type": "stream",
     "text": [
      "Epoch 40, Loss 0.0609\n",
      "Training Accuracy: 0.9437, Testing Accuracy: 0.9572\n",
      "\n"
     ]
    },
    {
     "name": "stdout",
     "output_type": "stream",
     "text": [
      "Epoch 50, Loss 0.0565\n",
      "Training Accuracy: 0.9473, Testing Accuracy: 0.9602\n",
      "\n"
     ]
    },
    {
     "name": "stdout",
     "output_type": "stream",
     "text": [
      "Epoch 60, Loss 0.0533\n",
      "Training Accuracy: 0.9487, Testing Accuracy: 0.9612\n",
      "\n"
     ]
    },
    {
     "name": "stdout",
     "output_type": "stream",
     "text": [
      "Epoch 70, Loss 0.0508\n",
      "Training Accuracy: 0.9503, Testing Accuracy: 0.9617\n",
      "\n"
     ]
    },
    {
     "name": "stdout",
     "output_type": "stream",
     "text": [
      "Epoch 80, Loss 0.0489\n",
      "Training Accuracy: 0.9506, Testing Accuracy: 0.9637\n",
      "\n"
     ]
    },
    {
     "name": "stdout",
     "output_type": "stream",
     "text": [
      "Epoch 90, Loss 0.0472\n",
      "Training Accuracy: 0.9516, Testing Accuracy: 0.9642\n",
      "\n"
     ]
    },
    {
     "name": "stdout",
     "output_type": "stream",
     "text": [
      "Epoch 100, Loss 0.0458\n",
      "Training Accuracy: 0.9529, Testing Accuracy: 0.9657\n",
      "\n"
     ]
    },
    {
     "name": "stdout",
     "output_type": "stream",
     "text": [
      "Epoch 110, Loss 0.0446\n",
      "Training Accuracy: 0.9541, Testing Accuracy: 0.9652\n",
      "\n"
     ]
    },
    {
     "name": "stdout",
     "output_type": "stream",
     "text": [
      "Epoch 120, Loss 0.0436\n",
      "Training Accuracy: 0.9549, Testing Accuracy: 0.9657\n",
      "\n"
     ]
    },
    {
     "name": "stdout",
     "output_type": "stream",
     "text": [
      "Epoch 130, Loss 0.0427\n",
      "Training Accuracy: 0.9558, Testing Accuracy: 0.9667\n",
      "\n"
     ]
    },
    {
     "name": "stdout",
     "output_type": "stream",
     "text": [
      "Epoch 140, Loss 0.0419\n",
      "Training Accuracy: 0.9564, Testing Accuracy: 0.9667\n",
      "\n"
     ]
    },
    {
     "name": "stdout",
     "output_type": "stream",
     "text": [
      "Epoch 150, Loss 0.0412\n",
      "Training Accuracy: 0.9571, Testing Accuracy: 0.9672\n",
      "\n"
     ]
    },
    {
     "name": "stdout",
     "output_type": "stream",
     "text": [
      "Epoch 160, Loss 0.0405\n",
      "Training Accuracy: 0.9575, Testing Accuracy: 0.9672\n",
      "\n"
     ]
    },
    {
     "name": "stdout",
     "output_type": "stream",
     "text": [
      "Epoch 170, Loss 0.0399\n",
      "Training Accuracy: 0.9579, Testing Accuracy: 0.9667\n",
      "\n"
     ]
    },
    {
     "name": "stdout",
     "output_type": "stream",
     "text": [
      "Epoch 180, Loss 0.0394\n",
      "Training Accuracy: 0.9584, Testing Accuracy: 0.9667\n",
      "\n"
     ]
    },
    {
     "name": "stdout",
     "output_type": "stream",
     "text": [
      "Epoch 190, Loss 0.0389\n",
      "Training Accuracy: 0.9590, Testing Accuracy: 0.9672\n",
      "\n"
     ]
    },
    {
     "name": "stdout",
     "output_type": "stream",
     "text": [
      "Epoch 200, Loss 0.0384\n",
      "Training Accuracy: 0.9595, Testing Accuracy: 0.9682\n",
      "\n"
     ]
    },
    {
     "name": "stdout",
     "output_type": "stream",
     "text": [
      "Epoch 210, Loss 0.038\n",
      "Training Accuracy: 0.9598, Testing Accuracy: 0.9682\n",
      "\n"
     ]
    },
    {
     "name": "stdout",
     "output_type": "stream",
     "text": [
      "Epoch 220, Loss 0.0376\n",
      "Training Accuracy: 0.9603, Testing Accuracy: 0.9682\n",
      "\n"
     ]
    },
    {
     "name": "stdout",
     "output_type": "stream",
     "text": [
      "Epoch 230, Loss 0.0372\n",
      "Training Accuracy: 0.9607, Testing Accuracy: 0.9688\n",
      "\n"
     ]
    },
    {
     "name": "stdout",
     "output_type": "stream",
     "text": [
      "Epoch 240, Loss 0.0368\n",
      "Training Accuracy: 0.9609, Testing Accuracy: 0.9688\n",
      "\n"
     ]
    },
    {
     "data": {
      "text/plain": [
       "0.02236865217624197"
      ]
     },
     "execution_count": 23,
     "metadata": {},
     "output_type": "execute_result"
    }
   ],
   "source": [
    "lr_learner.train_loop(dl)"
   ]
  },
  {
   "cell_type": "code",
   "execution_count": 24,
   "id": "ca410940",
   "metadata": {
    "execution": {
     "iopub.execute_input": "2022-02-24T10:11:03.960738Z",
     "iopub.status.busy": "2022-02-24T10:11:03.960167Z",
     "iopub.status.idle": "2022-02-24T10:11:04.177790Z",
     "shell.execute_reply": "2022-02-24T10:11:04.177293Z"
    },
    "papermill": {
     "duration": 0.271126,
     "end_time": "2022-02-24T10:11:04.177915",
     "exception": false,
     "start_time": "2022-02-24T10:11:03.906789",
     "status": "completed"
    },
    "tags": []
   },
   "outputs": [
    {
     "data": {
      "text/plain": [
       "<matplotlib.legend.Legend at 0x7fd546cccc88>"
      ]
     },
     "execution_count": 24,
     "metadata": {},
     "output_type": "execute_result"
    },
    {
     "data": {
      "image/png": "[encoded data removed]",
      "text/plain": [
       "<Figure size 1080x720 with 1 Axes>"
      ]
     },
     "metadata": {
      "needs_background": "light"
     },
     "output_type": "display_data"
    }
   ],
   "source": [
    "#comparing the results of NN and LR\n",
    "plt.figure(figsize=(15,10))\n",
    "\n",
    "# Neural Network plots\n",
    "plt.plot(acc_nn.accuracies, 'r-', label = \"Training Accuracies - NN\")\n",
    "plt.plot(acc_nn.test_accuracies, 'g-', label = \"Testing Accuracies - NN\")\n",
    "\n",
    "# Logistic Regression plots\n",
    "plt.plot(acc_lr.accuracies, 'k-', label = \"Training Accuracies - LR\")\n",
    "plt.plot(acc_lr.test_accuracies, 'b-', label = \"Testing Accuracies - LR\")\n",
    "plt.legend()"
   ]
  },
  {
   "cell_type": "markdown",
   "id": "80dfb35c",
   "metadata": {
    "papermill": {
     "duration": 0.041484,
     "end_time": "2022-02-24T10:11:04.261327",
     "exception": false,
     "start_time": "2022-02-24T10:11:04.219843",
     "status": "completed"
    },
    "tags": []
   },
   "source": [
    "#### Plotting the outputs of this layer of the NN.\n"
   ]
  },
  {
   "cell_type": "code",
   "execution_count": 25,
   "id": "45eb2ff5",
   "metadata": {
    "execution": {
     "iopub.execute_input": "2022-02-24T10:11:04.353426Z",
     "iopub.status.busy": "2022-02-24T10:11:04.352963Z",
     "iopub.status.idle": "2022-02-24T10:11:04.372806Z",
     "shell.execute_reply": "2022-02-24T10:11:04.373204Z"
    },
    "papermill": {
     "duration": 0.068573,
     "end_time": "2022-02-24T10:11:04.373332",
     "exception": false,
     "start_time": "2022-02-24T10:11:04.304759",
     "status": "completed"
    },
    "tags": []
   },
   "outputs": [],
   "source": [
    "new_model = Model(layers[:-2])\n",
    "testing_plot = new_model(testing_data_x)"
   ]
  },
  {
   "cell_type": "code",
   "execution_count": 26,
   "id": "4c0a5485",
   "metadata": {
    "execution": {
     "iopub.execute_input": "2022-02-24T10:11:04.469371Z",
     "iopub.status.busy": "2022-02-24T10:11:04.461417Z",
     "iopub.status.idle": "2022-02-24T10:11:04.649784Z",
     "shell.execute_reply": "2022-02-24T10:11:04.649324Z"
    },
    "papermill": {
     "duration": 0.234364,
     "end_time": "2022-02-24T10:11:04.649888",
     "exception": false,
     "start_time": "2022-02-24T10:11:04.415524",
     "status": "completed"
    },
    "tags": []
   },
   "outputs": [
    {
     "data": {
      "text/plain": [
       "Text(0.5, 1.0, 'Outputs')"
      ]
     },
     "execution_count": 26,
     "metadata": {},
     "output_type": "execute_result"
    },
    {
     "data": {
      "image/png": "[encoded data removed]",
      "text/plain": [
       "<Figure size 576x504 with 1 Axes>"
      ]
     },
     "metadata": {
      "needs_background": "light"
     },
     "output_type": "display_data"
    }
   ],
   "source": [
    "# Plotting the scatter plot of points and color coding by class\n",
    "plt.figure(figsize=(8,7))\n",
    "plt.scatter(testing_plot[:,0], testing_plot[:,1], alpha = 0.1, c = y_test.ravel());\n",
    "plt.title('Outputs')"
   ]
  },
  {
   "cell_type": "markdown",
   "id": "a74fcf8f",
   "metadata": {
    "papermill": {
     "duration": 0.043583,
     "end_time": "2022-02-24T10:11:04.737256",
     "exception": false,
     "start_time": "2022-02-24T10:11:04.693673",
     "status": "completed"
    },
    "tags": []
   },
   "source": [
    "Probability contours"
   ]
  },
  {
   "cell_type": "code",
   "execution_count": 27,
   "id": "d0afc8e3",
   "metadata": {
    "execution": {
     "iopub.execute_input": "2022-02-24T10:11:04.828405Z",
     "iopub.status.busy": "2022-02-24T10:11:04.824670Z",
     "iopub.status.idle": "2022-02-24T10:11:04.837522Z",
     "shell.execute_reply": "2022-02-24T10:11:04.837129Z"
    },
    "papermill": {
     "duration": 0.059369,
     "end_time": "2022-02-24T10:11:04.837629",
     "exception": false,
     "start_time": "2022-02-24T10:11:04.778260",
     "status": "completed"
    },
    "tags": []
   },
   "outputs": [],
   "source": [
    "model_prob = Model(layers[-2:]) "
   ]
  },
  {
   "cell_type": "code",
   "execution_count": 28,
   "id": "9b96e238",
   "metadata": {
    "execution": {
     "iopub.execute_input": "2022-02-24T10:11:04.953743Z",
     "iopub.status.busy": "2022-02-24T10:11:04.953158Z",
     "iopub.status.idle": "2022-02-24T10:11:04.967330Z",
     "shell.execute_reply": "2022-02-24T10:11:04.967815Z"
    },
    "papermill": {
     "duration": 0.060678,
     "end_time": "2022-02-24T10:11:04.967943",
     "exception": false,
     "start_time": "2022-02-24T10:11:04.907265",
     "status": "completed"
    },
    "tags": []
   },
   "outputs": [],
   "source": [
    "#creating the x and y ranges according to the above generated plot.\n",
    "x_range = np.linspace(-4, 1, 100) \n",
    "y_range = np.linspace(-6, 6, 100) \n",
    "x_grid, y_grid = np.meshgrid(x_range, y_range) # x_grid and y_grig are of size 100 X 100\n",
    "\n",
    "# converting x_grid and y_grid to continuous arrays\n",
    "x_gridflat = np.ravel(x_grid)\n",
    "y_gridflat = np.ravel(y_grid)\n",
    "\n",
    "# The last layer of the current model takes two columns as input. Hence transpose of np.vstack() is required.\n",
    "X = np.vstack((x_gridflat, y_gridflat)).T\n",
    "\n",
    "prob_contour = model_prob(X).reshape(100,100) "
   ]
  },
  {
   "cell_type": "code",
   "execution_count": 29,
   "id": "da72499a",
   "metadata": {
    "execution": {
     "iopub.execute_input": "2022-02-24T10:11:05.059835Z",
     "iopub.status.busy": "2022-02-24T10:11:05.059233Z",
     "iopub.status.idle": "2022-02-24T10:11:05.322306Z",
     "shell.execute_reply": "2022-02-24T10:11:05.321836Z"
    },
    "papermill": {
     "duration": 0.310284,
     "end_time": "2022-02-24T10:11:05.322420",
     "exception": false,
     "start_time": "2022-02-24T10:11:05.012136",
     "status": "completed"
    },
    "tags": []
   },
   "outputs": [
    {
     "data": {
      "image/png": "[encoded data removed]",
      "text/plain": [
       "<Figure size 720x648 with 1 Axes>"
      ]
     },
     "metadata": {
      "needs_background": "light"
     },
     "output_type": "display_data"
    }
   ],
   "source": [
    "plt.figure(figsize=(10,9))\n",
    "plt.scatter(testing_plot[:,0], testing_plot[:,1], alpha = 0.1, c = y_test.ravel())\n",
    "contours = plt.contour(x_grid,y_grid,prob_contour)\n",
    "plt.title('Probability Contours')\n",
    "plt.clabel(contours, inline = True );"
   ]
  },
  {
   "cell_type": "code",
   "execution_count": null,
   "id": "e81b4ac7",
   "metadata": {
    "papermill": {
     "duration": 0.045252,
     "end_time": "2022-02-24T10:11:05.414068",
     "exception": false,
     "start_time": "2022-02-24T10:11:05.368816",
     "status": "completed"
    },
    "tags": []
   },
   "outputs": [],
   "source": []
  }
 ],
 "metadata": {
  "kernelspec": {
   "display_name": "Python 3",
   "language": "python",
   "name": "python3"
  },
  "language_info": {
   "codemirror_mode": {
    "name": "ipython",
    "version": 3
   },
   "file_extension": ".py",
   "mimetype": "text/x-python",
   "name": "python",
   "nbconvert_exporter": "python",
   "pygments_lexer": "ipython3",
   "version": "3.6.15"
  },
  "papermill": {
   "default_parameters": {},
   "duration": 103.796751,
   "end_time": "2022-02-24T10:11:05.877299",
   "environment_variables": {},
   "exception": null,
   "input_path": "2020-08-11-part2.ipynb",
   "output_path": "2020-08-11-part2.ipynb",
   "parameters": {},
   "start_time": "2022-02-24T10:09:22.080548",
   "version": "2.3.3"
  }
 },
 "nbformat": 4,
 "nbformat_minor": 5
}