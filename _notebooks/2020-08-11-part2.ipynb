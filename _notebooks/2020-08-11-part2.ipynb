{
 "cells": [
  {
   "cell_type": "markdown",
   "id": "98380cd3",
   "metadata": {
    "papermill": {
     "duration": 0.028702,
     "end_time": "2022-05-06T10:10:29.219438",
     "exception": false,
     "start_time": "2022-05-06T10:10:29.190736",
     "status": "completed"
    },
    "tags": []
   },
   "source": [
    "# Distinguish Your Own Digits (DYOD)"
   ]
  },
  {
   "cell_type": "markdown",
   "id": "ef31240d",
   "metadata": {
    "papermill": {
     "duration": 0.025424,
     "end_time": "2022-05-06T10:10:29.269685",
     "exception": false,
     "start_time": "2022-05-06T10:10:29.244261",
     "status": "completed"
    },
    "tags": []
   },
   "source": [
    "You are going to write a classifier that distinguishes between the number 3 and number 8."
   ]
  },
  {
   "cell_type": "code",
   "execution_count": 1,
   "id": "b15c8646",
   "metadata": {
    "execution": {
     "iopub.execute_input": "2022-05-06T10:10:29.329205Z",
     "iopub.status.busy": "2022-05-06T10:10:29.328633Z",
     "iopub.status.idle": "2022-05-06T10:10:29.339397Z",
     "shell.execute_reply": "2022-05-06T10:10:29.338943Z"
    },
    "papermill": {
     "duration": 0.045722,
     "end_time": "2022-05-06T10:10:29.339536",
     "exception": false,
     "start_time": "2022-05-06T10:10:29.293814",
     "status": "completed"
    },
    "tags": []
   },
   "outputs": [],
   "source": [
    "%load_ext autoreload\n",
    "%autoreload 2"
   ]
  },
  {
   "cell_type": "code",
   "execution_count": 2,
   "id": "22ef38dc",
   "metadata": {
    "execution": {
     "iopub.execute_input": "2022-05-06T10:10:29.410876Z",
     "iopub.status.busy": "2022-05-06T10:10:29.402545Z",
     "iopub.status.idle": "2022-05-06T10:10:29.945607Z",
     "shell.execute_reply": "2022-05-06T10:10:29.945122Z"
    },
    "papermill": {
     "duration": 0.581291,
     "end_time": "2022-05-06T10:10:29.945737",
     "exception": false,
     "start_time": "2022-05-06T10:10:29.364446",
     "status": "completed"
    },
    "tags": []
   },
   "outputs": [],
   "source": [
    "%matplotlib inline\n",
    "import numpy as np\n",
    "import matplotlib.pyplot as plt\n",
    "import pandas as pd"
   ]
  },
  {
   "cell_type": "markdown",
   "id": "ba036198",
   "metadata": {
    "papermill": {
     "duration": 0.024233,
     "end_time": "2022-05-06T10:10:29.994123",
     "exception": false,
     "start_time": "2022-05-06T10:10:29.969890",
     "status": "completed"
    },
    "tags": []
   },
   "source": [
    "From the command line run `pip install mnist`. This is a library that will help you bring down the mnist dataset. If you run this from a notebook, you need to put  `!pip install mnist` in a cell by itself."
   ]
  },
  {
   "cell_type": "code",
   "execution_count": 3,
   "id": "bb6ad8a1",
   "metadata": {
    "execution": {
     "iopub.execute_input": "2022-05-06T10:10:30.047554Z",
     "iopub.status.busy": "2022-05-06T10:10:30.047007Z",
     "iopub.status.idle": "2022-05-06T10:10:31.826926Z",
     "shell.execute_reply": "2022-05-06T10:10:31.827372Z"
    },
    "papermill": {
     "duration": 1.809144,
     "end_time": "2022-05-06T10:10:31.827526",
     "exception": false,
     "start_time": "2022-05-06T10:10:30.018382",
     "status": "completed"
    },
    "tags": []
   },
   "outputs": [
    {
     "name": "stdout",
     "output_type": "stream",
     "text": [
      "Collecting mnist\r\n"
     ]
    },
    {
     "name": "stdout",
     "output_type": "stream",
     "text": [
      "  Downloading mnist-0.2.2-py2.py3-none-any.whl (3.5 kB)\r\n",
      "Requirement already satisfied: numpy in /opt/hostedtoolcache/Python/3.6.15/x64/lib/python3.6/site-packages (from mnist) (1.19.5)\r\n"
     ]
    },
    {
     "name": "stdout",
     "output_type": "stream",
     "text": [
      "Installing collected packages: mnist\r\n"
     ]
    },
    {
     "name": "stdout",
     "output_type": "stream",
     "text": [
      "Successfully installed mnist-0.2.2\r\n"
     ]
    }
   ],
   "source": [
    "!pip install mnist"
   ]
  },
  {
   "cell_type": "markdown",
   "id": "69df9c9a",
   "metadata": {
    "papermill": {
     "duration": 0.025094,
     "end_time": "2022-05-06T10:10:31.877974",
     "exception": false,
     "start_time": "2022-05-06T10:10:31.852880",
     "status": "completed"
    },
    "tags": []
   },
   "source": [
    "## Preparing the Data"
   ]
  },
  {
   "cell_type": "code",
   "execution_count": 4,
   "id": "7f69d806",
   "metadata": {
    "execution": {
     "iopub.execute_input": "2022-05-06T10:10:31.948863Z",
     "iopub.status.busy": "2022-05-06T10:10:31.946294Z",
     "iopub.status.idle": "2022-05-06T10:10:31.951139Z",
     "shell.execute_reply": "2022-05-06T10:10:31.950692Z"
    },
    "papermill": {
     "duration": 0.048211,
     "end_time": "2022-05-06T10:10:31.951254",
     "exception": false,
     "start_time": "2022-05-06T10:10:31.903043",
     "status": "completed"
    },
    "tags": []
   },
   "outputs": [],
   "source": [
    "import mnist"
   ]
  },
  {
   "cell_type": "code",
   "execution_count": 5,
   "id": "a411e44f",
   "metadata": {
    "execution": {
     "iopub.execute_input": "2022-05-06T10:10:32.006537Z",
     "iopub.status.busy": "2022-05-06T10:10:32.005122Z",
     "iopub.status.idle": "2022-05-06T10:10:32.627833Z",
     "shell.execute_reply": "2022-05-06T10:10:32.627285Z"
    },
    "papermill": {
     "duration": 0.651287,
     "end_time": "2022-05-06T10:10:32.627970",
     "exception": false,
     "start_time": "2022-05-06T10:10:31.976683",
     "status": "completed"
    },
    "tags": []
   },
   "outputs": [],
   "source": [
    "train_images = mnist.train_images()\n",
    "train_labels = mnist.train_labels()"
   ]
  },
  {
   "cell_type": "code",
   "execution_count": 6,
   "id": "dceab3a5",
   "metadata": {
    "execution": {
     "iopub.execute_input": "2022-05-06T10:10:32.686720Z",
     "iopub.status.busy": "2022-05-06T10:10:32.681645Z",
     "iopub.status.idle": "2022-05-06T10:10:32.696561Z",
     "shell.execute_reply": "2022-05-06T10:10:32.696116Z"
    },
    "papermill": {
     "duration": 0.04333,
     "end_time": "2022-05-06T10:10:32.696675",
     "exception": false,
     "start_time": "2022-05-06T10:10:32.653345",
     "status": "completed"
    },
    "tags": []
   },
   "outputs": [
    {
     "data": {
      "text/plain": [
       "((60000, 28, 28), (60000,))"
      ]
     },
     "execution_count": 6,
     "metadata": {},
     "output_type": "execute_result"
    }
   ],
   "source": [
    "train_images.shape, train_labels.shape"
   ]
  },
  {
   "cell_type": "code",
   "execution_count": 7,
   "id": "f50dc2bb",
   "metadata": {
    "execution": {
     "iopub.execute_input": "2022-05-06T10:10:32.751380Z",
     "iopub.status.busy": "2022-05-06T10:10:32.750859Z",
     "iopub.status.idle": "2022-05-06T10:10:32.976312Z",
     "shell.execute_reply": "2022-05-06T10:10:32.975780Z"
    },
    "papermill": {
     "duration": 0.254433,
     "end_time": "2022-05-06T10:10:32.976457",
     "exception": false,
     "start_time": "2022-05-06T10:10:32.722024",
     "status": "completed"
    },
    "tags": []
   },
   "outputs": [],
   "source": [
    "test_images = mnist.test_images()\n",
    "test_labels = mnist.test_labels()"
   ]
  },
  {
   "cell_type": "code",
   "execution_count": 8,
   "id": "fc38cf1b",
   "metadata": {
    "execution": {
     "iopub.execute_input": "2022-05-06T10:10:33.037044Z",
     "iopub.status.busy": "2022-05-06T10:10:33.036484Z",
     "iopub.status.idle": "2022-05-06T10:10:33.048898Z",
     "shell.execute_reply": "2022-05-06T10:10:33.047806Z"
    },
    "papermill": {
     "duration": 0.045871,
     "end_time": "2022-05-06T10:10:33.049028",
     "exception": false,
     "start_time": "2022-05-06T10:10:33.003157",
     "status": "completed"
    },
    "tags": []
   },
   "outputs": [
    {
     "data": {
      "text/plain": [
       "((10000, 28, 28), (10000,))"
      ]
     },
     "execution_count": 8,
     "metadata": {},
     "output_type": "execute_result"
    }
   ],
   "source": [
    "test_images.shape, test_labels.shape"
   ]
  },
  {
   "cell_type": "code",
   "execution_count": 9,
   "id": "f9ed8fe0",
   "metadata": {
    "execution": {
     "iopub.execute_input": "2022-05-06T10:10:33.114677Z",
     "iopub.status.busy": "2022-05-06T10:10:33.103950Z",
     "iopub.status.idle": "2022-05-06T10:10:33.250816Z",
     "shell.execute_reply": "2022-05-06T10:10:33.250370Z"
    },
    "papermill": {
     "duration": 0.176125,
     "end_time": "2022-05-06T10:10:33.250938",
     "exception": false,
     "start_time": "2022-05-06T10:10:33.074813",
     "status": "completed"
    },
    "tags": []
   },
   "outputs": [
    {
     "name": "stdout",
     "output_type": "stream",
     "text": [
      "2\n"
     ]
    },
    {
     "data": {
      "text/plain": [
       "<matplotlib.image.AxesImage at 0x7f8197014860>"
      ]
     },
     "execution_count": 9,
     "metadata": {},
     "output_type": "execute_result"
    },
    {
     "data": {
      "image/png": "[encoded data removed]",
      "text/plain": [
       "<Figure size 432x288 with 1 Axes>"
      ]
     },
     "metadata": {
      "needs_background": "light"
     },
     "output_type": "display_data"
    }
   ],
   "source": [
    "image_index = 7776 # You may select anything up to 60,000\n",
    "print(train_labels[image_index]) \n",
    "plt.imshow(train_images[image_index], cmap='Greys')"
   ]
  },
  {
   "cell_type": "markdown",
   "id": "a8d2388d",
   "metadata": {
    "papermill": {
     "duration": 0.026843,
     "end_time": "2022-05-06T10:10:33.304780",
     "exception": false,
     "start_time": "2022-05-06T10:10:33.277937",
     "status": "completed"
    },
    "tags": []
   },
   "source": [
    "## Filter data to get 3 and 8 out"
   ]
  },
  {
   "cell_type": "code",
   "execution_count": 10,
   "id": "776f7fc7",
   "metadata": {
    "execution": {
     "iopub.execute_input": "2022-05-06T10:10:33.363379Z",
     "iopub.status.busy": "2022-05-06T10:10:33.362837Z",
     "iopub.status.idle": "2022-05-06T10:10:33.378817Z",
     "shell.execute_reply": "2022-05-06T10:10:33.378373Z"
    },
    "papermill": {
     "duration": 0.046924,
     "end_time": "2022-05-06T10:10:33.378940",
     "exception": false,
     "start_time": "2022-05-06T10:10:33.332016",
     "status": "completed"
    },
    "tags": []
   },
   "outputs": [],
   "source": [
    "train_filter = np.where((train_labels == 3 ) | (train_labels == 8))\n",
    "test_filter = np.where((test_labels == 3) | (test_labels == 8))\n",
    "X_train, y_train = train_images[train_filter], train_labels[train_filter]\n",
    "X_test, y_test = test_images[test_filter], test_labels[test_filter]"
   ]
  },
  {
   "cell_type": "markdown",
   "id": "948f0b7e",
   "metadata": {
    "papermill": {
     "duration": 0.026676,
     "end_time": "2022-05-06T10:10:33.432678",
     "exception": false,
     "start_time": "2022-05-06T10:10:33.406002",
     "status": "completed"
    },
    "tags": []
   },
   "source": [
    "We normalize the pizel values in the 0 to 1 range"
   ]
  },
  {
   "cell_type": "code",
   "execution_count": 11,
   "id": "ee4c2166",
   "metadata": {
    "execution": {
     "iopub.execute_input": "2022-05-06T10:10:33.504645Z",
     "iopub.status.busy": "2022-05-06T10:10:33.504076Z",
     "iopub.status.idle": "2022-05-06T10:10:33.542390Z",
     "shell.execute_reply": "2022-05-06T10:10:33.542886Z"
    },
    "papermill": {
     "duration": 0.083434,
     "end_time": "2022-05-06T10:10:33.543057",
     "exception": false,
     "start_time": "2022-05-06T10:10:33.459623",
     "status": "completed"
    },
    "tags": []
   },
   "outputs": [],
   "source": [
    "X_train = X_train/255.\n",
    "X_test = X_test/255."
   ]
  },
  {
   "cell_type": "markdown",
   "id": "ddcf4fab",
   "metadata": {
    "papermill": {
     "duration": 0.026795,
     "end_time": "2022-05-06T10:10:33.597021",
     "exception": false,
     "start_time": "2022-05-06T10:10:33.570226",
     "status": "completed"
    },
    "tags": []
   },
   "source": [
    "And setup the labels as 1 (when the digit is 3) and 0 (when the digit is 8)"
   ]
  },
  {
   "cell_type": "code",
   "execution_count": 12,
   "id": "7dc908f2",
   "metadata": {
    "execution": {
     "iopub.execute_input": "2022-05-06T10:10:33.666424Z",
     "iopub.status.busy": "2022-05-06T10:10:33.654564Z",
     "iopub.status.idle": "2022-05-06T10:10:33.669227Z",
     "shell.execute_reply": "2022-05-06T10:10:33.668801Z"
    },
    "papermill": {
     "duration": 0.045542,
     "end_time": "2022-05-06T10:10:33.669345",
     "exception": false,
     "start_time": "2022-05-06T10:10:33.623803",
     "status": "completed"
    },
    "tags": []
   },
   "outputs": [],
   "source": [
    "y_train = 1*(y_train==3)\n",
    "y_test = 1*(y_test==3)"
   ]
  },
  {
   "cell_type": "code",
   "execution_count": 13,
   "id": "01e4e969",
   "metadata": {
    "execution": {
     "iopub.execute_input": "2022-05-06T10:10:33.726704Z",
     "iopub.status.busy": "2022-05-06T10:10:33.726159Z",
     "iopub.status.idle": "2022-05-06T10:10:33.739226Z",
     "shell.execute_reply": "2022-05-06T10:10:33.739626Z"
    },
    "papermill": {
     "duration": 0.043592,
     "end_time": "2022-05-06T10:10:33.739768",
     "exception": false,
     "start_time": "2022-05-06T10:10:33.696176",
     "status": "completed"
    },
    "tags": []
   },
   "outputs": [
    {
     "data": {
      "text/plain": [
       "((11982, 28, 28), (1984, 28, 28))"
      ]
     },
     "execution_count": 13,
     "metadata": {},
     "output_type": "execute_result"
    }
   ],
   "source": [
    "X_train.shape, X_test.shape"
   ]
  },
  {
   "cell_type": "markdown",
   "id": "5ccf3f85",
   "metadata": {
    "papermill": {
     "duration": 0.027055,
     "end_time": "2022-05-06T10:10:33.793945",
     "exception": false,
     "start_time": "2022-05-06T10:10:33.766890",
     "status": "completed"
    },
    "tags": []
   },
   "source": [
    "We reshape the data to flatten the image pixels into a set of features or co-variates:"
   ]
  },
  {
   "cell_type": "code",
   "execution_count": 14,
   "id": "5286a4a3",
   "metadata": {
    "execution": {
     "iopub.execute_input": "2022-05-06T10:10:33.852136Z",
     "iopub.status.busy": "2022-05-06T10:10:33.851610Z",
     "iopub.status.idle": "2022-05-06T10:10:33.866190Z",
     "shell.execute_reply": "2022-05-06T10:10:33.866644Z"
    },
    "papermill": {
     "duration": 0.045699,
     "end_time": "2022-05-06T10:10:33.866784",
     "exception": false,
     "start_time": "2022-05-06T10:10:33.821085",
     "status": "completed"
    },
    "tags": []
   },
   "outputs": [
    {
     "data": {
      "text/plain": [
       "((11982, 784), (1984, 784))"
      ]
     },
     "execution_count": 14,
     "metadata": {},
     "output_type": "execute_result"
    }
   ],
   "source": [
    "X_train = X_train.reshape(X_train.shape[0], -1)\n",
    "X_test = X_test.reshape(X_test.shape[0], -1)\n",
    "X_train.shape, X_test.shape"
   ]
  },
  {
   "cell_type": "code",
   "execution_count": 15,
   "id": "73c5f88a",
   "metadata": {
    "execution": {
     "iopub.execute_input": "2022-05-06T10:10:33.939384Z",
     "iopub.status.busy": "2022-05-06T10:10:33.935730Z",
     "iopub.status.idle": "2022-05-06T10:10:33.948717Z",
     "shell.execute_reply": "2022-05-06T10:10:33.947904Z"
    },
    "papermill": {
     "duration": 0.054686,
     "end_time": "2022-05-06T10:10:33.948844",
     "exception": false,
     "start_time": "2022-05-06T10:10:33.894158",
     "status": "completed"
    },
    "tags": []
   },
   "outputs": [],
   "source": [
    "#Impoting functions from 'Kudzu'\n",
    "from kudzu.model import Model\n",
    "from kudzu.train import Learner\n",
    "from kudzu.optim import GD\n",
    "from kudzu.data import Data, Sampler,Dataloader\n",
    "\n",
    "from kudzu.callbacks import AccCallback\n",
    "from kudzu.callbacks import ClfCallback\n",
    "\n",
    "from kudzu.loss import MSE\n",
    "\n",
    "from kudzu.layer import Sigmoid,Relu\n",
    "from kudzu.layer import Affine"
   ]
  },
  {
   "cell_type": "markdown",
   "id": "bc01172a",
   "metadata": {
    "papermill": {
     "duration": 0.027549,
     "end_time": "2022-05-06T10:10:34.004044",
     "exception": false,
     "start_time": "2022-05-06T10:10:33.976495",
     "status": "completed"
    },
    "tags": []
   },
   "source": [
    "### Let us create a `Config` class, to store important parameters. \n",
    "This class essentially plays the role of a dictionary."
   ]
  },
  {
   "cell_type": "code",
   "execution_count": 16,
   "id": "978281aa",
   "metadata": {
    "execution": {
     "iopub.execute_input": "2022-05-06T10:10:34.073416Z",
     "iopub.status.busy": "2022-05-06T10:10:34.062249Z",
     "iopub.status.idle": "2022-05-06T10:10:34.078645Z",
     "shell.execute_reply": "2022-05-06T10:10:34.078196Z"
    },
    "papermill": {
     "duration": 0.04748,
     "end_time": "2022-05-06T10:10:34.078776",
     "exception": false,
     "start_time": "2022-05-06T10:10:34.031296",
     "status": "completed"
    },
    "tags": []
   },
   "outputs": [],
   "source": [
    "class Config:\n",
    "    pass\n",
    "config = Config()\n",
    "config.lr = 0.001\n",
    "config.num_epochs = 250\n",
    "config.bs = 50"
   ]
  },
  {
   "cell_type": "markdown",
   "id": "1385fa59",
   "metadata": {
    "papermill": {
     "duration": 0.02741,
     "end_time": "2022-05-06T10:10:34.133881",
     "exception": false,
     "start_time": "2022-05-06T10:10:34.106471",
     "status": "completed"
    },
    "tags": []
   },
   "source": [
    "### Running Models with the Training data\n",
    "Details about the network layers:\n",
    "- A first affine layer has 784 inputs and does 100 affine transforms. These are followed by a Relu\n",
    "- A second affine layer has 100 inputs from the 100 activations of the past layer, and does 100 affine transforms. These are followed by a Relu\n",
    "- A third affine layer has 100 activations and does 2 affine transformations to create an embedding for visualization. There is no non-linearity here.\n",
    "- A final \"logistic regression\" which has an affine transform from 2 inputs to 1 output, which is squeezed through a sigmoid.\n"
   ]
  },
  {
   "cell_type": "code",
   "execution_count": 17,
   "id": "2b9c66db",
   "metadata": {
    "execution": {
     "iopub.execute_input": "2022-05-06T10:10:34.192928Z",
     "iopub.status.busy": "2022-05-06T10:10:34.192403Z",
     "iopub.status.idle": "2022-05-06T10:10:34.204947Z",
     "shell.execute_reply": "2022-05-06T10:10:34.204525Z"
    },
    "papermill": {
     "duration": 0.043657,
     "end_time": "2022-05-06T10:10:34.205064",
     "exception": false,
     "start_time": "2022-05-06T10:10:34.161407",
     "status": "completed"
    },
    "tags": []
   },
   "outputs": [],
   "source": [
    "data = Data(X_train, y_train.reshape(-1,1))\n",
    "sampler = Sampler(data, config.bs, shuffle=True)\n",
    "\n",
    "dl = Dataloader(data, sampler)\n",
    "\n",
    "opt = GD(config.lr)\n",
    "loss = MSE()"
   ]
  },
  {
   "cell_type": "code",
   "execution_count": 18,
   "id": "b275e4c2",
   "metadata": {
    "execution": {
     "iopub.execute_input": "2022-05-06T10:10:34.274941Z",
     "iopub.status.busy": "2022-05-06T10:10:34.270624Z",
     "iopub.status.idle": "2022-05-06T10:10:34.278512Z",
     "shell.execute_reply": "2022-05-06T10:10:34.278062Z"
    },
    "papermill": {
     "duration": 0.046208,
     "end_time": "2022-05-06T10:10:34.278626",
     "exception": false,
     "start_time": "2022-05-06T10:10:34.232418",
     "status": "completed"
    },
    "tags": []
   },
   "outputs": [],
   "source": [
    "training_data_x = X_train\n",
    "testing_data_x = X_test\n",
    "training_data_y = y_train.reshape(-1,1)\n",
    "testing_data_y = y_test.reshape(-1,1)"
   ]
  },
  {
   "cell_type": "code",
   "execution_count": 19,
   "id": "76951160",
   "metadata": {
    "execution": {
     "iopub.execute_input": "2022-05-06T10:10:34.350571Z",
     "iopub.status.busy": "2022-05-06T10:10:34.346661Z",
     "iopub.status.idle": "2022-05-06T10:10:34.355330Z",
     "shell.execute_reply": "2022-05-06T10:10:34.355750Z"
    },
    "papermill": {
     "duration": 0.050048,
     "end_time": "2022-05-06T10:10:34.355887",
     "exception": false,
     "start_time": "2022-05-06T10:10:34.305839",
     "status": "completed"
    },
    "tags": []
   },
   "outputs": [
    {
     "name": "stdout",
     "output_type": "stream",
     "text": [
      "xavier\n",
      "xavier\n",
      "xavier\n",
      "xavier\n",
      "xavier\n"
     ]
    }
   ],
   "source": [
    "layers = [Affine(\"first\", 784, 100), Relu(\"first\"), Affine(\"second\", 100, 100), Relu(\"second\"), Affine(\"third\", 100, 2), Affine(\"last\", 2, 1), Sigmoid(\"last\")]\n",
    "model_nn = Model(layers)\n",
    "model_lr = Model([Affine(\"logits\", 784, 1), Sigmoid(\"sigmoid\")])"
   ]
  },
  {
   "cell_type": "code",
   "execution_count": 20,
   "id": "6eede77a",
   "metadata": {
    "execution": {
     "iopub.execute_input": "2022-05-06T10:10:34.421621Z",
     "iopub.status.busy": "2022-05-06T10:10:34.421083Z",
     "iopub.status.idle": "2022-05-06T10:10:34.431331Z",
     "shell.execute_reply": "2022-05-06T10:10:34.430892Z"
    },
    "papermill": {
     "duration": 0.047844,
     "end_time": "2022-05-06T10:10:34.431455",
     "exception": false,
     "start_time": "2022-05-06T10:10:34.383611",
     "status": "completed"
    },
    "tags": []
   },
   "outputs": [],
   "source": [
    "nn_learner = Learner(loss, model_nn, opt, config.num_epochs)\n",
    "acc_nn = ClfCallback(nn_learner, config.bs, training_data_x , testing_data_x, training_data_y, testing_data_y)\n",
    "nn_learner.set_callbacks([acc_nn])"
   ]
  },
  {
   "cell_type": "code",
   "execution_count": 21,
   "id": "877b6cc7",
   "metadata": {
    "execution": {
     "iopub.execute_input": "2022-05-06T10:10:34.503988Z",
     "iopub.status.busy": "2022-05-06T10:10:34.503427Z",
     "iopub.status.idle": "2022-05-06T10:10:34.505887Z",
     "shell.execute_reply": "2022-05-06T10:10:34.505416Z"
    },
    "papermill": {
     "duration": 0.046923,
     "end_time": "2022-05-06T10:10:34.506009",
     "exception": false,
     "start_time": "2022-05-06T10:10:34.459086",
     "status": "completed"
    },
    "tags": []
   },
   "outputs": [],
   "source": [
    "lr_learner = Learner(loss, model_lr, opt, config.num_epochs)\n",
    "acc_lr = ClfCallback(lr_learner, config.bs, training_data_x , testing_data_x, training_data_y, testing_data_y)\n",
    "lr_learner.set_callbacks([acc_lr])"
   ]
  },
  {
   "cell_type": "code",
   "execution_count": 22,
   "id": "d9b133c3",
   "metadata": {
    "execution": {
     "iopub.execute_input": "2022-05-06T10:10:34.578405Z",
     "iopub.status.busy": "2022-05-06T10:10:34.574631Z",
     "iopub.status.idle": "2022-05-06T10:11:51.304715Z",
     "shell.execute_reply": "2022-05-06T10:11:51.305453Z"
    },
    "papermill": {
     "duration": 76.771783,
     "end_time": "2022-05-06T10:11:51.305601",
     "exception": false,
     "start_time": "2022-05-06T10:10:34.533818",
     "status": "completed"
    },
    "tags": []
   },
   "outputs": [
    {
     "name": "stdout",
     "output_type": "stream",
     "text": [
      "Epoch 0, Loss 0.2358\n",
      "Training Accuracy: 0.7368, Testing Accuracy: 0.7631\n",
      "\n"
     ]
    },
    {
     "name": "stdout",
     "output_type": "stream",
     "text": [
      "Epoch 10, Loss 0.102\n",
      "Training Accuracy: 0.9107, Testing Accuracy: 0.9279\n",
      "\n"
     ]
    },
    {
     "name": "stdout",
     "output_type": "stream",
     "text": [
      "Epoch 20, Loss 0.0609\n",
      "Training Accuracy: 0.9365, Testing Accuracy: 0.9511\n",
      "\n"
     ]
    },
    {
     "name": "stdout",
     "output_type": "stream",
     "text": [
      "Epoch 30, Loss 0.0471\n",
      "Training Accuracy: 0.9477, Testing Accuracy: 0.9617\n",
      "\n"
     ]
    },
    {
     "name": "stdout",
     "output_type": "stream",
     "text": [
      "Epoch 40, Loss 0.0404\n",
      "Training Accuracy: 0.9543, Testing Accuracy: 0.9642\n",
      "\n"
     ]
    },
    {
     "name": "stdout",
     "output_type": "stream",
     "text": [
      "Epoch 50, Loss 0.0363\n",
      "Training Accuracy: 0.9588, Testing Accuracy: 0.9667\n",
      "\n"
     ]
    },
    {
     "name": "stdout",
     "output_type": "stream",
     "text": [
      "Epoch 60, Loss 0.0335\n",
      "Training Accuracy: 0.9615, Testing Accuracy: 0.9688\n",
      "\n"
     ]
    },
    {
     "name": "stdout",
     "output_type": "stream",
     "text": [
      "Epoch 70, Loss 0.0314\n",
      "Training Accuracy: 0.9637, Testing Accuracy: 0.9703\n",
      "\n"
     ]
    },
    {
     "name": "stdout",
     "output_type": "stream",
     "text": [
      "Epoch 80, Loss 0.0298\n",
      "Training Accuracy: 0.9648, Testing Accuracy: 0.9703\n",
      "\n"
     ]
    },
    {
     "name": "stdout",
     "output_type": "stream",
     "text": [
      "Epoch 90, Loss 0.0284\n",
      "Training Accuracy: 0.9659, Testing Accuracy: 0.9718\n",
      "\n"
     ]
    },
    {
     "name": "stdout",
     "output_type": "stream",
     "text": [
      "Epoch 100, Loss 0.0272\n",
      "Training Accuracy: 0.9675, Testing Accuracy: 0.9728\n",
      "\n"
     ]
    },
    {
     "name": "stdout",
     "output_type": "stream",
     "text": [
      "Epoch 110, Loss 0.0262\n",
      "Training Accuracy: 0.9695, Testing Accuracy: 0.9733\n",
      "\n"
     ]
    },
    {
     "name": "stdout",
     "output_type": "stream",
     "text": [
      "Epoch 120, Loss 0.0253\n",
      "Training Accuracy: 0.9707, Testing Accuracy: 0.9748\n",
      "\n"
     ]
    },
    {
     "name": "stdout",
     "output_type": "stream",
     "text": [
      "Epoch 130, Loss 0.0245\n",
      "Training Accuracy: 0.9711, Testing Accuracy: 0.9733\n",
      "\n"
     ]
    },
    {
     "name": "stdout",
     "output_type": "stream",
     "text": [
      "Epoch 140, Loss 0.0237\n",
      "Training Accuracy: 0.9726, Testing Accuracy: 0.9743\n",
      "\n"
     ]
    },
    {
     "name": "stdout",
     "output_type": "stream",
     "text": [
      "Epoch 150, Loss 0.023\n",
      "Training Accuracy: 0.9735, Testing Accuracy: 0.9738\n",
      "\n"
     ]
    },
    {
     "name": "stdout",
     "output_type": "stream",
     "text": [
      "Epoch 160, Loss 0.0223\n",
      "Training Accuracy: 0.9742, Testing Accuracy: 0.9733\n",
      "\n"
     ]
    },
    {
     "name": "stdout",
     "output_type": "stream",
     "text": [
      "Epoch 170, Loss 0.0217\n",
      "Training Accuracy: 0.9755, Testing Accuracy: 0.9733\n",
      "\n"
     ]
    },
    {
     "name": "stdout",
     "output_type": "stream",
     "text": [
      "Epoch 180, Loss 0.0211\n",
      "Training Accuracy: 0.9759, Testing Accuracy: 0.9733\n",
      "\n"
     ]
    },
    {
     "name": "stdout",
     "output_type": "stream",
     "text": [
      "Epoch 190, Loss 0.0206\n",
      "Training Accuracy: 0.9765, Testing Accuracy: 0.9748\n",
      "\n"
     ]
    },
    {
     "name": "stdout",
     "output_type": "stream",
     "text": [
      "Epoch 200, Loss 0.0201\n",
      "Training Accuracy: 0.9772, Testing Accuracy: 0.9753\n",
      "\n"
     ]
    },
    {
     "name": "stdout",
     "output_type": "stream",
     "text": [
      "Epoch 210, Loss 0.0196\n",
      "Training Accuracy: 0.9779, Testing Accuracy: 0.9753\n",
      "\n"
     ]
    },
    {
     "name": "stdout",
     "output_type": "stream",
     "text": [
      "Epoch 220, Loss 0.0191\n",
      "Training Accuracy: 0.9786, Testing Accuracy: 0.9758\n",
      "\n"
     ]
    },
    {
     "name": "stdout",
     "output_type": "stream",
     "text": [
      "Epoch 230, Loss 0.0186\n",
      "Training Accuracy: 0.9788, Testing Accuracy: 0.9763\n",
      "\n"
     ]
    },
    {
     "name": "stdout",
     "output_type": "stream",
     "text": [
      "Epoch 240, Loss 0.0182\n",
      "Training Accuracy: 0.9793, Testing Accuracy: 0.9768\n",
      "\n"
     ]
    },
    {
     "data": {
      "text/plain": [
       "0.030911955469538833"
      ]
     },
     "execution_count": 22,
     "metadata": {},
     "output_type": "execute_result"
    }
   ],
   "source": [
    "nn_learner.train_loop(dl)"
   ]
  },
  {
   "cell_type": "code",
   "execution_count": 23,
   "id": "e0163366",
   "metadata": {
    "execution": {
     "iopub.execute_input": "2022-05-06T10:11:51.385356Z",
     "iopub.status.busy": "2022-05-06T10:11:51.384828Z",
     "iopub.status.idle": "2022-05-06T10:12:05.292630Z",
     "shell.execute_reply": "2022-05-06T10:12:05.293366Z"
    },
    "papermill": {
     "duration": 13.953219,
     "end_time": "2022-05-06T10:12:05.293515",
     "exception": false,
     "start_time": "2022-05-06T10:11:51.340296",
     "status": "completed"
    },
    "tags": []
   },
   "outputs": [
    {
     "name": "stdout",
     "output_type": "stream",
     "text": [
      "Epoch 0, Loss 0.2414\n",
      "Training Accuracy: 0.6693, Testing Accuracy: 0.6744\n",
      "\n"
     ]
    },
    {
     "name": "stdout",
     "output_type": "stream",
     "text": [
      "Epoch 10, Loss 0.1055\n",
      "Training Accuracy: 0.9019, Testing Accuracy: 0.9098\n",
      "\n"
     ]
    },
    {
     "name": "stdout",
     "output_type": "stream",
     "text": [
      "Epoch 20, Loss 0.0808\n",
      "Training Accuracy: 0.9249, Testing Accuracy: 0.9304\n",
      "\n"
     ]
    },
    {
     "name": "stdout",
     "output_type": "stream",
     "text": [
      "Epoch 30, Loss 0.0694\n",
      "Training Accuracy: 0.9340, Testing Accuracy: 0.9390\n",
      "\n"
     ]
    },
    {
     "name": "stdout",
     "output_type": "stream",
     "text": [
      "Epoch 40, Loss 0.0625\n",
      "Training Accuracy: 0.9408, Testing Accuracy: 0.9466\n",
      "\n"
     ]
    },
    {
     "name": "stdout",
     "output_type": "stream",
     "text": [
      "Epoch 50, Loss 0.0578\n",
      "Training Accuracy: 0.9432, Testing Accuracy: 0.9496\n",
      "\n"
     ]
    },
    {
     "name": "stdout",
     "output_type": "stream",
     "text": [
      "Epoch 60, Loss 0.0544\n",
      "Training Accuracy: 0.9458, Testing Accuracy: 0.9541\n",
      "\n"
     ]
    },
    {
     "name": "stdout",
     "output_type": "stream",
     "text": [
      "Epoch 70, Loss 0.0517\n",
      "Training Accuracy: 0.9478, Testing Accuracy: 0.9551\n",
      "\n"
     ]
    },
    {
     "name": "stdout",
     "output_type": "stream",
     "text": [
      "Epoch 80, Loss 0.0496\n",
      "Training Accuracy: 0.9500, Testing Accuracy: 0.9587\n",
      "\n"
     ]
    },
    {
     "name": "stdout",
     "output_type": "stream",
     "text": [
      "Epoch 90, Loss 0.0479\n",
      "Training Accuracy: 0.9522, Testing Accuracy: 0.9607\n",
      "\n"
     ]
    },
    {
     "name": "stdout",
     "output_type": "stream",
     "text": [
      "Epoch 100, Loss 0.0464\n",
      "Training Accuracy: 0.9535, Testing Accuracy: 0.9622\n",
      "\n"
     ]
    },
    {
     "name": "stdout",
     "output_type": "stream",
     "text": [
      "Epoch 110, Loss 0.0452\n",
      "Training Accuracy: 0.9540, Testing Accuracy: 0.9652\n",
      "\n"
     ]
    },
    {
     "name": "stdout",
     "output_type": "stream",
     "text": [
      "Epoch 120, Loss 0.0441\n",
      "Training Accuracy: 0.9550, Testing Accuracy: 0.9652\n",
      "\n"
     ]
    },
    {
     "name": "stdout",
     "output_type": "stream",
     "text": [
      "Epoch 130, Loss 0.0431\n",
      "Training Accuracy: 0.9556, Testing Accuracy: 0.9647\n",
      "\n"
     ]
    },
    {
     "name": "stdout",
     "output_type": "stream",
     "text": [
      "Epoch 140, Loss 0.0423\n",
      "Training Accuracy: 0.9564, Testing Accuracy: 0.9652\n",
      "\n"
     ]
    },
    {
     "name": "stdout",
     "output_type": "stream",
     "text": [
      "Epoch 150, Loss 0.0415\n",
      "Training Accuracy: 0.9569, Testing Accuracy: 0.9657\n",
      "\n"
     ]
    },
    {
     "name": "stdout",
     "output_type": "stream",
     "text": [
      "Epoch 160, Loss 0.0408\n",
      "Training Accuracy: 0.9569, Testing Accuracy: 0.9647\n",
      "\n"
     ]
    },
    {
     "name": "stdout",
     "output_type": "stream",
     "text": [
      "Epoch 170, Loss 0.0402\n",
      "Training Accuracy: 0.9572, Testing Accuracy: 0.9652\n",
      "\n"
     ]
    },
    {
     "name": "stdout",
     "output_type": "stream",
     "text": [
      "Epoch 180, Loss 0.0397\n",
      "Training Accuracy: 0.9577, Testing Accuracy: 0.9652\n",
      "\n"
     ]
    },
    {
     "name": "stdout",
     "output_type": "stream",
     "text": [
      "Epoch 190, Loss 0.0391\n",
      "Training Accuracy: 0.9583, Testing Accuracy: 0.9652\n",
      "\n"
     ]
    },
    {
     "name": "stdout",
     "output_type": "stream",
     "text": [
      "Epoch 200, Loss 0.0386\n",
      "Training Accuracy: 0.9585, Testing Accuracy: 0.9652\n",
      "\n"
     ]
    },
    {
     "name": "stdout",
     "output_type": "stream",
     "text": [
      "Epoch 210, Loss 0.0382\n",
      "Training Accuracy: 0.9589, Testing Accuracy: 0.9647\n",
      "\n"
     ]
    },
    {
     "name": "stdout",
     "output_type": "stream",
     "text": [
      "Epoch 220, Loss 0.0378\n",
      "Training Accuracy: 0.9593, Testing Accuracy: 0.9652\n",
      "\n"
     ]
    },
    {
     "name": "stdout",
     "output_type": "stream",
     "text": [
      "Epoch 230, Loss 0.0374\n",
      "Training Accuracy: 0.9596, Testing Accuracy: 0.9647\n",
      "\n"
     ]
    },
    {
     "name": "stdout",
     "output_type": "stream",
     "text": [
      "Epoch 240, Loss 0.037\n",
      "Training Accuracy: 0.9602, Testing Accuracy: 0.9652\n",
      "\n"
     ]
    },
    {
     "data": {
      "text/plain": [
       "0.019257186976710756"
      ]
     },
     "execution_count": 23,
     "metadata": {},
     "output_type": "execute_result"
    }
   ],
   "source": [
    "lr_learner.train_loop(dl)"
   ]
  },
  {
   "cell_type": "code",
   "execution_count": 24,
   "id": "ca410940",
   "metadata": {
    "execution": {
     "iopub.execute_input": "2022-05-06T10:12:05.387130Z",
     "iopub.status.busy": "2022-05-06T10:12:05.386593Z",
     "iopub.status.idle": "2022-05-06T10:12:05.612857Z",
     "shell.execute_reply": "2022-05-06T10:12:05.612391Z"
    },
    "papermill": {
     "duration": 0.277872,
     "end_time": "2022-05-06T10:12:05.612979",
     "exception": false,
     "start_time": "2022-05-06T10:12:05.335107",
     "status": "completed"
    },
    "tags": []
   },
   "outputs": [
    {
     "data": {
      "text/plain": [
       "<matplotlib.legend.Legend at 0x7f81897f5b00>"
      ]
     },
     "execution_count": 24,
     "metadata": {},
     "output_type": "execute_result"
    },
    {
     "data": {
      "image/png": "[encoded data removed]",
      "text/plain": [
       "<Figure size 1080x720 with 1 Axes>"
      ]
     },
     "metadata": {
      "needs_background": "light"
     },
     "output_type": "display_data"
    }
   ],
   "source": [
    "#comparing the results of NN and LR\n",
    "plt.figure(figsize=(15,10))\n",
    "\n",
    "# Neural Network plots\n",
    "plt.plot(acc_nn.accuracies, 'r-', label = \"Training Accuracies - NN\")\n",
    "plt.plot(acc_nn.test_accuracies, 'g-', label = \"Testing Accuracies - NN\")\n",
    "\n",
    "# Logistic Regression plots\n",
    "plt.plot(acc_lr.accuracies, 'k-', label = \"Training Accuracies - LR\")\n",
    "plt.plot(acc_lr.test_accuracies, 'b-', label = \"Testing Accuracies - LR\")\n",
    "plt.legend()"
   ]
  },
  {
   "cell_type": "markdown",
   "id": "80dfb35c",
   "metadata": {
    "papermill": {
     "duration": 0.042598,
     "end_time": "2022-05-06T10:12:05.698628",
     "exception": false,
     "start_time": "2022-05-06T10:12:05.656030",
     "status": "completed"
    },
    "tags": []
   },
   "source": [
    "#### Plotting the outputs of this layer of the NN.\n"
   ]
  },
  {
   "cell_type": "code",
   "execution_count": 25,
   "id": "45eb2ff5",
   "metadata": {
    "execution": {
     "iopub.execute_input": "2022-05-06T10:12:05.788937Z",
     "iopub.status.busy": "2022-05-06T10:12:05.788364Z",
     "iopub.status.idle": "2022-05-06T10:12:05.808770Z",
     "shell.execute_reply": "2022-05-06T10:12:05.809241Z"
    },
    "papermill": {
     "duration": 0.068094,
     "end_time": "2022-05-06T10:12:05.809393",
     "exception": false,
     "start_time": "2022-05-06T10:12:05.741299",
     "status": "completed"
    },
    "tags": []
   },
   "outputs": [],
   "source": [
    "new_model = Model(layers[:-2])\n",
    "testing_plot = new_model(testing_data_x)"
   ]
  },
  {
   "cell_type": "code",
   "execution_count": 26,
   "id": "4c0a5485",
   "metadata": {
    "execution": {
     "iopub.execute_input": "2022-05-06T10:12:05.905958Z",
     "iopub.status.busy": "2022-05-06T10:12:05.900537Z",
     "iopub.status.idle": "2022-05-06T10:12:06.110864Z",
     "shell.execute_reply": "2022-05-06T10:12:06.111291Z"
    },
    "papermill": {
     "duration": 0.258952,
     "end_time": "2022-05-06T10:12:06.111434",
     "exception": false,
     "start_time": "2022-05-06T10:12:05.852482",
     "status": "completed"
    },
    "tags": []
   },
   "outputs": [
    {
     "data": {
      "text/plain": [
       "Text(0.5, 1.0, 'Outputs')"
      ]
     },
     "execution_count": 26,
     "metadata": {},
     "output_type": "execute_result"
    },
    {
     "data": {
      "image/png": "[encoded data removed]",
      "text/plain": [
       "<Figure size 576x504 with 1 Axes>"
      ]
     },
     "metadata": {
      "needs_background": "light"
     },
     "output_type": "display_data"
    }
   ],
   "source": [
    "# Plotting the scatter plot of points and color coding by class\n",
    "plt.figure(figsize=(8,7))\n",
    "plt.scatter(testing_plot[:,0], testing_plot[:,1], alpha = 0.1, c = y_test.ravel());\n",
    "plt.title('Outputs')"
   ]
  },
  {
   "cell_type": "markdown",
   "id": "a74fcf8f",
   "metadata": {
    "papermill": {
     "duration": 0.044645,
     "end_time": "2022-05-06T10:12:06.200869",
     "exception": false,
     "start_time": "2022-05-06T10:12:06.156224",
     "status": "completed"
    },
    "tags": []
   },
   "source": [
    "Probability contours"
   ]
  },
  {
   "cell_type": "code",
   "execution_count": 27,
   "id": "d0afc8e3",
   "metadata": {
    "execution": {
     "iopub.execute_input": "2022-05-06T10:12:06.303562Z",
     "iopub.status.busy": "2022-05-06T10:12:06.294110Z",
     "iopub.status.idle": "2022-05-06T10:12:06.305759Z",
     "shell.execute_reply": "2022-05-06T10:12:06.305328Z"
    },
    "papermill": {
     "duration": 0.060252,
     "end_time": "2022-05-06T10:12:06.305906",
     "exception": false,
     "start_time": "2022-05-06T10:12:06.245654",
     "status": "completed"
    },
    "tags": []
   },
   "outputs": [],
   "source": [
    "model_prob = Model(layers[-2:]) "
   ]
  },
  {
   "cell_type": "code",
   "execution_count": 28,
   "id": "9b96e238",
   "metadata": {
    "execution": {
     "iopub.execute_input": "2022-05-06T10:12:06.438773Z",
     "iopub.status.busy": "2022-05-06T10:12:06.429672Z",
     "iopub.status.idle": "2022-05-06T10:12:06.446362Z",
     "shell.execute_reply": "2022-05-06T10:12:06.446863Z"
    },
    "papermill": {
     "duration": 0.066287,
     "end_time": "2022-05-06T10:12:06.447000",
     "exception": false,
     "start_time": "2022-05-06T10:12:06.380713",
     "status": "completed"
    },
    "tags": []
   },
   "outputs": [],
   "source": [
    "#creating the x and y ranges according to the above generated plot.\n",
    "x_range = np.linspace(-4, 1, 100) \n",
    "y_range = np.linspace(-6, 6, 100) \n",
    "x_grid, y_grid = np.meshgrid(x_range, y_range) # x_grid and y_grig are of size 100 X 100\n",
    "\n",
    "# converting x_grid and y_grid to continuous arrays\n",
    "x_gridflat = np.ravel(x_grid)\n",
    "y_gridflat = np.ravel(y_grid)\n",
    "\n",
    "# The last layer of the current model takes two columns as input. Hence transpose of np.vstack() is required.\n",
    "X = np.vstack((x_gridflat, y_gridflat)).T\n",
    "\n",
    "prob_contour = model_prob(X).reshape(100,100) "
   ]
  },
  {
   "cell_type": "code",
   "execution_count": 29,
   "id": "da72499a",
   "metadata": {
    "execution": {
     "iopub.execute_input": "2022-05-06T10:12:06.573723Z",
     "iopub.status.busy": "2022-05-06T10:12:06.554628Z",
     "iopub.status.idle": "2022-05-06T10:12:06.800013Z",
     "shell.execute_reply": "2022-05-06T10:12:06.800406Z"
    },
    "papermill": {
     "duration": 0.30457,
     "end_time": "2022-05-06T10:12:06.800552",
     "exception": false,
     "start_time": "2022-05-06T10:12:06.495982",
     "status": "completed"
    },
    "tags": []
   },
   "outputs": [
    {
     "data": {
      "image/png": "[encoded data removed]",
      "text/plain": [
       "<Figure size 720x648 with 1 Axes>"
      ]
     },
     "metadata": {
      "needs_background": "light"
     },
     "output_type": "display_data"
    }
   ],
   "source": [
    "plt.figure(figsize=(10,9))\n",
    "plt.scatter(testing_plot[:,0], testing_plot[:,1], alpha = 0.1, c = y_test.ravel())\n",
    "contours = plt.contour(x_grid,y_grid,prob_contour)\n",
    "plt.title('Probability Contours')\n",
    "plt.clabel(contours, inline = True );"
   ]
  },
  {
   "cell_type": "code",
   "execution_count": null,
   "id": "e81b4ac7",
   "metadata": {
    "papermill": {
     "duration": 0.047311,
     "end_time": "2022-05-06T10:12:06.895371",
     "exception": false,
     "start_time": "2022-05-06T10:12:06.848060",
     "status": "completed"
    },
    "tags": []
   },
   "outputs": [],
   "source": []
  }
 ],
 "metadata": {
  "kernelspec": {
   "display_name": "Python 3",
   "language": "python",
   "name": "python3"
  },
  "language_info": {
   "codemirror_mode": {
    "name": "ipython",
    "version": 3
   },
   "file_extension": ".py",
   "mimetype": "text/x-python",
   "name": "python",
   "nbconvert_exporter": "python",
   "pygments_lexer": "ipython3",
   "version": "3.6.15"
  },
  "papermill": {
   "default_parameters": {},
   "duration": 99.325724,
   "end_time": "2022-05-06T10:12:07.360921",
   "environment_variables": {},
   "exception": null,
   "input_path": "2020-08-11-part2.ipynb",
   "output_path": "2020-08-11-part2.ipynb",
   "parameters": {},
   "start_time": "2022-05-06T10:10:28.035197",
   "version": "2.3.3"
  }
 },
 "nbformat": 4,
 "nbformat_minor": 5
}