{
 "cells": [
  {
   "cell_type": "markdown",
   "id": "98380cd3",
   "metadata": {
    "papermill": {
     "duration": 0.031681,
     "end_time": "2021-09-11T20:06:45.657359",
     "exception": false,
     "start_time": "2021-09-11T20:06:45.625678",
     "status": "completed"
    },
    "tags": []
   },
   "source": [
    "# Distinguish Your Own Digits (DYOD)"
   ]
  },
  {
   "cell_type": "markdown",
   "id": "ef31240d",
   "metadata": {
    "papermill": {
     "duration": 0.030855,
     "end_time": "2021-09-11T20:06:45.715437",
     "exception": false,
     "start_time": "2021-09-11T20:06:45.684582",
     "status": "completed"
    },
    "tags": []
   },
   "source": [
    "You are going to write a classifier that distinguishes between the number 3 and number 8."
   ]
  },
  {
   "cell_type": "code",
   "execution_count": 1,
   "id": "b15c8646",
   "metadata": {
    "execution": {
     "iopub.execute_input": "2021-09-11T20:06:45.788015Z",
     "iopub.status.busy": "2021-09-11T20:06:45.787375Z",
     "iopub.status.idle": "2021-09-11T20:06:45.800704Z",
     "shell.execute_reply": "2021-09-11T20:06:45.800032Z"
    },
    "papermill": {
     "duration": 0.059247,
     "end_time": "2021-09-11T20:06:45.800853",
     "exception": false,
     "start_time": "2021-09-11T20:06:45.741606",
     "status": "completed"
    },
    "tags": []
   },
   "outputs": [],
   "source": [
    "%load_ext autoreload\n",
    "%autoreload 2"
   ]
  },
  {
   "cell_type": "code",
   "execution_count": 2,
   "id": "22ef38dc",
   "metadata": {
    "execution": {
     "iopub.execute_input": "2021-09-11T20:06:45.864478Z",
     "iopub.status.busy": "2021-09-11T20:06:45.863705Z",
     "iopub.status.idle": "2021-09-11T20:06:46.412745Z",
     "shell.execute_reply": "2021-09-11T20:06:46.412202Z"
    },
    "papermill": {
     "duration": 0.58282,
     "end_time": "2021-09-11T20:06:46.412884",
     "exception": false,
     "start_time": "2021-09-11T20:06:45.830064",
     "status": "completed"
    },
    "tags": []
   },
   "outputs": [],
   "source": [
    "%matplotlib inline\n",
    "import numpy as np\n",
    "import matplotlib.pyplot as plt\n",
    "import pandas as pd"
   ]
  },
  {
   "cell_type": "markdown",
   "id": "ba036198",
   "metadata": {
    "papermill": {
     "duration": 0.029469,
     "end_time": "2021-09-11T20:06:46.473294",
     "exception": false,
     "start_time": "2021-09-11T20:06:46.443825",
     "status": "completed"
    },
    "tags": []
   },
   "source": [
    "From the command line run `pip install mnist`. This is a library that will help you bring down the mnist dataset. If you run this from a notebook, you need to put  `!pip install mnist` in a cell by itself."
   ]
  },
  {
   "cell_type": "code",
   "execution_count": 3,
   "id": "bb6ad8a1",
   "metadata": {
    "execution": {
     "iopub.execute_input": "2021-09-11T20:06:46.534511Z",
     "iopub.status.busy": "2021-09-11T20:06:46.533899Z",
     "iopub.status.idle": "2021-09-11T20:06:48.365233Z",
     "shell.execute_reply": "2021-09-11T20:06:48.364038Z"
    },
    "papermill": {
     "duration": 1.865462,
     "end_time": "2021-09-11T20:06:48.365378",
     "exception": false,
     "start_time": "2021-09-11T20:06:46.499916",
     "status": "completed"
    },
    "tags": []
   },
   "outputs": [
    {
     "name": "stdout",
     "output_type": "stream",
     "text": [
      "Collecting mnist\r\n"
     ]
    },
    {
     "name": "stdout",
     "output_type": "stream",
     "text": [
      "  Downloading mnist-0.2.2-py2.py3-none-any.whl (3.5 kB)\r\n",
      "Requirement already satisfied: numpy in /opt/hostedtoolcache/Python/3.6.14/x64/lib/python3.6/site-packages (from mnist) (1.19.5)\r\n"
     ]
    },
    {
     "name": "stdout",
     "output_type": "stream",
     "text": [
      "Installing collected packages: mnist\r\n"
     ]
    },
    {
     "name": "stdout",
     "output_type": "stream",
     "text": [
      "Successfully installed mnist-0.2.2\r\n"
     ]
    }
   ],
   "source": [
    "!pip install mnist"
   ]
  },
  {
   "cell_type": "markdown",
   "id": "69df9c9a",
   "metadata": {
    "papermill": {
     "duration": 0.028877,
     "end_time": "2021-09-11T20:06:48.423016",
     "exception": false,
     "start_time": "2021-09-11T20:06:48.394139",
     "status": "completed"
    },
    "tags": []
   },
   "source": [
    "## Preparing the Data"
   ]
  },
  {
   "cell_type": "code",
   "execution_count": 4,
   "id": "7f69d806",
   "metadata": {
    "execution": {
     "iopub.execute_input": "2021-09-11T20:06:48.497857Z",
     "iopub.status.busy": "2021-09-11T20:06:48.492210Z",
     "iopub.status.idle": "2021-09-11T20:06:48.502984Z",
     "shell.execute_reply": "2021-09-11T20:06:48.503458Z"
    },
    "papermill": {
     "duration": 0.051719,
     "end_time": "2021-09-11T20:06:48.503588",
     "exception": false,
     "start_time": "2021-09-11T20:06:48.451869",
     "status": "completed"
    },
    "tags": []
   },
   "outputs": [],
   "source": [
    "import mnist"
   ]
  },
  {
   "cell_type": "code",
   "execution_count": 5,
   "id": "a411e44f",
   "metadata": {
    "execution": {
     "iopub.execute_input": "2021-09-11T20:06:48.574011Z",
     "iopub.status.busy": "2021-09-11T20:06:48.570887Z",
     "iopub.status.idle": "2021-09-11T20:06:49.144777Z",
     "shell.execute_reply": "2021-09-11T20:06:49.145283Z"
    },
    "papermill": {
     "duration": 0.614635,
     "end_time": "2021-09-11T20:06:49.145443",
     "exception": false,
     "start_time": "2021-09-11T20:06:48.530808",
     "status": "completed"
    },
    "tags": []
   },
   "outputs": [],
   "source": [
    "train_images = mnist.train_images()\n",
    "train_labels = mnist.train_labels()"
   ]
  },
  {
   "cell_type": "code",
   "execution_count": 6,
   "id": "dceab3a5",
   "metadata": {
    "execution": {
     "iopub.execute_input": "2021-09-11T20:06:49.205088Z",
     "iopub.status.busy": "2021-09-11T20:06:49.204509Z",
     "iopub.status.idle": "2021-09-11T20:06:49.218730Z",
     "shell.execute_reply": "2021-09-11T20:06:49.219280Z"
    },
    "papermill": {
     "duration": 0.045961,
     "end_time": "2021-09-11T20:06:49.219400",
     "exception": false,
     "start_time": "2021-09-11T20:06:49.173439",
     "status": "completed"
    },
    "tags": []
   },
   "outputs": [
    {
     "data": {
      "text/plain": [
       "((60000, 28, 28), (60000,))"
      ]
     },
     "execution_count": 6,
     "metadata": {},
     "output_type": "execute_result"
    }
   ],
   "source": [
    "train_images.shape, train_labels.shape"
   ]
  },
  {
   "cell_type": "code",
   "execution_count": 7,
   "id": "f50dc2bb",
   "metadata": {
    "execution": {
     "iopub.execute_input": "2021-09-11T20:06:49.277572Z",
     "iopub.status.busy": "2021-09-11T20:06:49.276822Z",
     "iopub.status.idle": "2021-09-11T20:06:49.469999Z",
     "shell.execute_reply": "2021-09-11T20:06:49.469495Z"
    },
    "papermill": {
     "duration": 0.223419,
     "end_time": "2021-09-11T20:06:49.470131",
     "exception": false,
     "start_time": "2021-09-11T20:06:49.246712",
     "status": "completed"
    },
    "tags": []
   },
   "outputs": [],
   "source": [
    "test_images = mnist.test_images()\n",
    "test_labels = mnist.test_labels()"
   ]
  },
  {
   "cell_type": "code",
   "execution_count": 8,
   "id": "fc38cf1b",
   "metadata": {
    "execution": {
     "iopub.execute_input": "2021-09-11T20:06:49.542991Z",
     "iopub.status.busy": "2021-09-11T20:06:49.537341Z",
     "iopub.status.idle": "2021-09-11T20:06:49.546256Z",
     "shell.execute_reply": "2021-09-11T20:06:49.545766Z"
    },
    "papermill": {
     "duration": 0.047814,
     "end_time": "2021-09-11T20:06:49.546366",
     "exception": false,
     "start_time": "2021-09-11T20:06:49.498552",
     "status": "completed"
    },
    "tags": []
   },
   "outputs": [
    {
     "data": {
      "text/plain": [
       "((10000, 28, 28), (10000,))"
      ]
     },
     "execution_count": 8,
     "metadata": {},
     "output_type": "execute_result"
    }
   ],
   "source": [
    "test_images.shape, test_labels.shape"
   ]
  },
  {
   "cell_type": "code",
   "execution_count": 9,
   "id": "f9ed8fe0",
   "metadata": {
    "execution": {
     "iopub.execute_input": "2021-09-11T20:06:49.634466Z",
     "iopub.status.busy": "2021-09-11T20:06:49.633852Z",
     "iopub.status.idle": "2021-09-11T20:06:49.774563Z",
     "shell.execute_reply": "2021-09-11T20:06:49.775031Z"
    },
    "papermill": {
     "duration": 0.200696,
     "end_time": "2021-09-11T20:06:49.775172",
     "exception": false,
     "start_time": "2021-09-11T20:06:49.574476",
     "status": "completed"
    },
    "tags": []
   },
   "outputs": [
    {
     "name": "stdout",
     "output_type": "stream",
     "text": [
      "2\n"
     ]
    },
    {
     "data": {
      "text/plain": [
       "<matplotlib.image.AxesImage at 0x7f7cb67dff98>"
      ]
     },
     "execution_count": 9,
     "metadata": {},
     "output_type": "execute_result"
    },
    {
     "data": {
      "image/png": "[encoded data removed]",
      "text/plain": [
       "<Figure size 432x288 with 1 Axes>"
      ]
     },
     "metadata": {
      "needs_background": "light"
     },
     "output_type": "display_data"
    }
   ],
   "source": [
    "image_index = 7776 # You may select anything up to 60,000\n",
    "print(train_labels[image_index]) \n",
    "plt.imshow(train_images[image_index], cmap='Greys')"
   ]
  },
  {
   "cell_type": "markdown",
   "id": "a8d2388d",
   "metadata": {
    "papermill": {
     "duration": 0.030482,
     "end_time": "2021-09-11T20:06:49.837527",
     "exception": false,
     "start_time": "2021-09-11T20:06:49.807045",
     "status": "completed"
    },
    "tags": []
   },
   "source": [
    "## Filter data to get 3 and 8 out"
   ]
  },
  {
   "cell_type": "code",
   "execution_count": 10,
   "id": "776f7fc7",
   "metadata": {
    "execution": {
     "iopub.execute_input": "2021-09-11T20:06:49.918020Z",
     "iopub.status.busy": "2021-09-11T20:06:49.911764Z",
     "iopub.status.idle": "2021-09-11T20:06:49.923860Z",
     "shell.execute_reply": "2021-09-11T20:06:49.923384Z"
    },
    "papermill": {
     "duration": 0.05601,
     "end_time": "2021-09-11T20:06:49.923987",
     "exception": false,
     "start_time": "2021-09-11T20:06:49.867977",
     "status": "completed"
    },
    "tags": []
   },
   "outputs": [],
   "source": [
    "train_filter = np.where((train_labels == 3 ) | (train_labels == 8))\n",
    "test_filter = np.where((test_labels == 3) | (test_labels == 8))\n",
    "X_train, y_train = train_images[train_filter], train_labels[train_filter]\n",
    "X_test, y_test = test_images[test_filter], test_labels[test_filter]"
   ]
  },
  {
   "cell_type": "markdown",
   "id": "948f0b7e",
   "metadata": {
    "papermill": {
     "duration": 0.0297,
     "end_time": "2021-09-11T20:06:49.984440",
     "exception": false,
     "start_time": "2021-09-11T20:06:49.954740",
     "status": "completed"
    },
    "tags": []
   },
   "source": [
    "We normalize the pizel values in the 0 to 1 range"
   ]
  },
  {
   "cell_type": "code",
   "execution_count": 11,
   "id": "ee4c2166",
   "metadata": {
    "execution": {
     "iopub.execute_input": "2021-09-11T20:06:50.048889Z",
     "iopub.status.busy": "2021-09-11T20:06:50.048189Z",
     "iopub.status.idle": "2021-09-11T20:06:50.109700Z",
     "shell.execute_reply": "2021-09-11T20:06:50.109165Z"
    },
    "papermill": {
     "duration": 0.095751,
     "end_time": "2021-09-11T20:06:50.109836",
     "exception": false,
     "start_time": "2021-09-11T20:06:50.014085",
     "status": "completed"
    },
    "tags": []
   },
   "outputs": [],
   "source": [
    "X_train = X_train/255.\n",
    "X_test = X_test/255."
   ]
  },
  {
   "cell_type": "markdown",
   "id": "ddcf4fab",
   "metadata": {
    "papermill": {
     "duration": 0.030908,
     "end_time": "2021-09-11T20:06:50.170805",
     "exception": false,
     "start_time": "2021-09-11T20:06:50.139897",
     "status": "completed"
    },
    "tags": []
   },
   "source": [
    "And setup the labels as 1 (when the digit is 3) and 0 (when the digit is 8)"
   ]
  },
  {
   "cell_type": "code",
   "execution_count": 12,
   "id": "7dc908f2",
   "metadata": {
    "execution": {
     "iopub.execute_input": "2021-09-11T20:06:50.236361Z",
     "iopub.status.busy": "2021-09-11T20:06:50.235780Z",
     "iopub.status.idle": "2021-09-11T20:06:50.247683Z",
     "shell.execute_reply": "2021-09-11T20:06:50.248236Z"
    },
    "papermill": {
     "duration": 0.044414,
     "end_time": "2021-09-11T20:06:50.248360",
     "exception": false,
     "start_time": "2021-09-11T20:06:50.203946",
     "status": "completed"
    },
    "tags": []
   },
   "outputs": [],
   "source": [
    "y_train = 1*(y_train==3)\n",
    "y_test = 1*(y_test==3)"
   ]
  },
  {
   "cell_type": "code",
   "execution_count": 13,
   "id": "01e4e969",
   "metadata": {
    "execution": {
     "iopub.execute_input": "2021-09-11T20:06:50.311864Z",
     "iopub.status.busy": "2021-09-11T20:06:50.311251Z",
     "iopub.status.idle": "2021-09-11T20:06:50.326299Z",
     "shell.execute_reply": "2021-09-11T20:06:50.325807Z"
    },
    "papermill": {
     "duration": 0.049199,
     "end_time": "2021-09-11T20:06:50.326414",
     "exception": false,
     "start_time": "2021-09-11T20:06:50.277215",
     "status": "completed"
    },
    "tags": []
   },
   "outputs": [
    {
     "data": {
      "text/plain": [
       "((11982, 28, 28), (1984, 28, 28))"
      ]
     },
     "execution_count": 13,
     "metadata": {},
     "output_type": "execute_result"
    }
   ],
   "source": [
    "X_train.shape, X_test.shape"
   ]
  },
  {
   "cell_type": "markdown",
   "id": "5ccf3f85",
   "metadata": {
    "papermill": {
     "duration": 0.02939,
     "end_time": "2021-09-11T20:06:50.386199",
     "exception": false,
     "start_time": "2021-09-11T20:06:50.356809",
     "status": "completed"
    },
    "tags": []
   },
   "source": [
    "We reshape the data to flatten the image pixels into a set of features or co-variates:"
   ]
  },
  {
   "cell_type": "code",
   "execution_count": 14,
   "id": "5286a4a3",
   "metadata": {
    "execution": {
     "iopub.execute_input": "2021-09-11T20:06:50.456923Z",
     "iopub.status.busy": "2021-09-11T20:06:50.456221Z",
     "iopub.status.idle": "2021-09-11T20:06:50.464854Z",
     "shell.execute_reply": "2021-09-11T20:06:50.463966Z"
    },
    "papermill": {
     "duration": 0.048986,
     "end_time": "2021-09-11T20:06:50.464965",
     "exception": false,
     "start_time": "2021-09-11T20:06:50.415979",
     "status": "completed"
    },
    "tags": []
   },
   "outputs": [
    {
     "data": {
      "text/plain": [
       "((11982, 784), (1984, 784))"
      ]
     },
     "execution_count": 14,
     "metadata": {},
     "output_type": "execute_result"
    }
   ],
   "source": [
    "X_train = X_train.reshape(X_train.shape[0], -1)\n",
    "X_test = X_test.reshape(X_test.shape[0], -1)\n",
    "X_train.shape, X_test.shape"
   ]
  },
  {
   "cell_type": "code",
   "execution_count": 15,
   "id": "73c5f88a",
   "metadata": {
    "execution": {
     "iopub.execute_input": "2021-09-11T20:06:50.533383Z",
     "iopub.status.busy": "2021-09-11T20:06:50.532713Z",
     "iopub.status.idle": "2021-09-11T20:06:50.568412Z",
     "shell.execute_reply": "2021-09-11T20:06:50.568986Z"
    },
    "papermill": {
     "duration": 0.074121,
     "end_time": "2021-09-11T20:06:50.569141",
     "exception": false,
     "start_time": "2021-09-11T20:06:50.495020",
     "status": "completed"
    },
    "tags": []
   },
   "outputs": [],
   "source": [
    "#Impoting functions from 'Kudzu'\n",
    "from kudzu.model import Model\n",
    "from kudzu.train import Learner\n",
    "from kudzu.optim import GD\n",
    "from kudzu.data import Data, Sampler,Dataloader\n",
    "\n",
    "from kudzu.callbacks import AccCallback\n",
    "from kudzu.callbacks import ClfCallback\n",
    "\n",
    "from kudzu.loss import MSE\n",
    "\n",
    "from kudzu.layer import Sigmoid,Relu\n",
    "from kudzu.layer import Affine"
   ]
  },
  {
   "cell_type": "markdown",
   "id": "bc01172a",
   "metadata": {
    "papermill": {
     "duration": 0.030533,
     "end_time": "2021-09-11T20:06:50.631635",
     "exception": false,
     "start_time": "2021-09-11T20:06:50.601102",
     "status": "completed"
    },
    "tags": []
   },
   "source": [
    "### Let us create a `Config` class, to store important parameters. \n",
    "This class essentially plays the role of a dictionary."
   ]
  },
  {
   "cell_type": "code",
   "execution_count": 16,
   "id": "978281aa",
   "metadata": {
    "execution": {
     "iopub.execute_input": "2021-09-11T20:06:50.712938Z",
     "iopub.status.busy": "2021-09-11T20:06:50.705489Z",
     "iopub.status.idle": "2021-09-11T20:06:50.715752Z",
     "shell.execute_reply": "2021-09-11T20:06:50.715278Z"
    },
    "papermill": {
     "duration": 0.049182,
     "end_time": "2021-09-11T20:06:50.715870",
     "exception": false,
     "start_time": "2021-09-11T20:06:50.666688",
     "status": "completed"
    },
    "tags": []
   },
   "outputs": [],
   "source": [
    "class Config:\n",
    "    pass\n",
    "config = Config()\n",
    "config.lr = 0.001\n",
    "config.num_epochs = 250\n",
    "config.bs = 50"
   ]
  },
  {
   "cell_type": "markdown",
   "id": "1385fa59",
   "metadata": {
    "papermill": {
     "duration": 0.030457,
     "end_time": "2021-09-11T20:06:50.776349",
     "exception": false,
     "start_time": "2021-09-11T20:06:50.745892",
     "status": "completed"
    },
    "tags": []
   },
   "source": [
    "### Running Models with the Training data\n",
    "Details about the network layers:\n",
    "- A first affine layer has 784 inputs and does 100 affine transforms. These are followed by a Relu\n",
    "- A second affine layer has 100 inputs from the 100 activations of the past layer, and does 100 affine transforms. These are followed by a Relu\n",
    "- A third affine layer has 100 activations and does 2 affine transformations to create an embedding for visualization. There is no non-linearity here.\n",
    "- A final \"logistic regression\" which has an affine transform from 2 inputs to 1 output, which is squeezed through a sigmoid.\n"
   ]
  },
  {
   "cell_type": "code",
   "execution_count": 17,
   "id": "2b9c66db",
   "metadata": {
    "execution": {
     "iopub.execute_input": "2021-09-11T20:06:50.838891Z",
     "iopub.status.busy": "2021-09-11T20:06:50.838309Z",
     "iopub.status.idle": "2021-09-11T20:06:50.850473Z",
     "shell.execute_reply": "2021-09-11T20:06:50.850971Z"
    },
    "papermill": {
     "duration": 0.045044,
     "end_time": "2021-09-11T20:06:50.851093",
     "exception": false,
     "start_time": "2021-09-11T20:06:50.806049",
     "status": "completed"
    },
    "tags": []
   },
   "outputs": [],
   "source": [
    "data = Data(X_train, y_train.reshape(-1,1))\n",
    "sampler = Sampler(data, config.bs, shuffle=True)\n",
    "\n",
    "dl = Dataloader(data, sampler)\n",
    "\n",
    "opt = GD(config.lr)\n",
    "loss = MSE()"
   ]
  },
  {
   "cell_type": "code",
   "execution_count": 18,
   "id": "b275e4c2",
   "metadata": {
    "execution": {
     "iopub.execute_input": "2021-09-11T20:06:50.917442Z",
     "iopub.status.busy": "2021-09-11T20:06:50.916800Z",
     "iopub.status.idle": "2021-09-11T20:06:50.927435Z",
     "shell.execute_reply": "2021-09-11T20:06:50.927932Z"
    },
    "papermill": {
     "duration": 0.046473,
     "end_time": "2021-09-11T20:06:50.928063",
     "exception": false,
     "start_time": "2021-09-11T20:06:50.881590",
     "status": "completed"
    },
    "tags": []
   },
   "outputs": [],
   "source": [
    "training_data_x = X_train\n",
    "testing_data_x = X_test\n",
    "training_data_y = y_train.reshape(-1,1)\n",
    "testing_data_y = y_test.reshape(-1,1)"
   ]
  },
  {
   "cell_type": "code",
   "execution_count": 19,
   "id": "76951160",
   "metadata": {
    "execution": {
     "iopub.execute_input": "2021-09-11T20:06:50.993262Z",
     "iopub.status.busy": "2021-09-11T20:06:50.992662Z",
     "iopub.status.idle": "2021-09-11T20:06:51.007068Z",
     "shell.execute_reply": "2021-09-11T20:06:51.007512Z"
    },
    "papermill": {
     "duration": 0.049831,
     "end_time": "2021-09-11T20:06:51.007635",
     "exception": false,
     "start_time": "2021-09-11T20:06:50.957804",
     "status": "completed"
    },
    "tags": []
   },
   "outputs": [
    {
     "name": "stdout",
     "output_type": "stream",
     "text": [
      "xavier\n",
      "xavier\n",
      "xavier\n",
      "xavier\n",
      "xavier\n"
     ]
    }
   ],
   "source": [
    "layers = [Affine(\"first\", 784, 100), Relu(\"first\"), Affine(\"second\", 100, 100), Relu(\"second\"), Affine(\"third\", 100, 2), Affine(\"last\", 2, 1), Sigmoid(\"last\")]\n",
    "model_nn = Model(layers)\n",
    "model_lr = Model([Affine(\"logits\", 784, 1), Sigmoid(\"sigmoid\")])"
   ]
  },
  {
   "cell_type": "code",
   "execution_count": 20,
   "id": "6eede77a",
   "metadata": {
    "execution": {
     "iopub.execute_input": "2021-09-11T20:06:51.072464Z",
     "iopub.status.busy": "2021-09-11T20:06:51.071770Z",
     "iopub.status.idle": "2021-09-11T20:06:51.082277Z",
     "shell.execute_reply": "2021-09-11T20:06:51.082826Z"
    },
    "papermill": {
     "duration": 0.044658,
     "end_time": "2021-09-11T20:06:51.082946",
     "exception": false,
     "start_time": "2021-09-11T20:06:51.038288",
     "status": "completed"
    },
    "tags": []
   },
   "outputs": [],
   "source": [
    "nn_learner = Learner(loss, model_nn, opt, config.num_epochs)\n",
    "acc_nn = ClfCallback(nn_learner, config.bs, training_data_x , testing_data_x, training_data_y, testing_data_y)\n",
    "nn_learner.set_callbacks([acc_nn])"
   ]
  },
  {
   "cell_type": "code",
   "execution_count": 21,
   "id": "877b6cc7",
   "metadata": {
    "execution": {
     "iopub.execute_input": "2021-09-11T20:06:51.149818Z",
     "iopub.status.busy": "2021-09-11T20:06:51.149197Z",
     "iopub.status.idle": "2021-09-11T20:06:51.160903Z",
     "shell.execute_reply": "2021-09-11T20:06:51.160379Z"
    },
    "papermill": {
     "duration": 0.047066,
     "end_time": "2021-09-11T20:06:51.161023",
     "exception": false,
     "start_time": "2021-09-11T20:06:51.113957",
     "status": "completed"
    },
    "tags": []
   },
   "outputs": [],
   "source": [
    "lr_learner = Learner(loss, model_lr, opt, config.num_epochs)\n",
    "acc_lr = ClfCallback(lr_learner, config.bs, training_data_x , testing_data_x, training_data_y, testing_data_y)\n",
    "lr_learner.set_callbacks([acc_lr])"
   ]
  },
  {
   "cell_type": "code",
   "execution_count": 22,
   "id": "d9b133c3",
   "metadata": {
    "execution": {
     "iopub.execute_input": "2021-09-11T20:06:51.228682Z",
     "iopub.status.busy": "2021-09-11T20:06:51.228066Z",
     "iopub.status.idle": "2021-09-11T20:08:52.646713Z",
     "shell.execute_reply": "2021-09-11T20:08:52.647476Z"
    },
    "papermill": {
     "duration": 121.453917,
     "end_time": "2021-09-11T20:08:52.647626",
     "exception": false,
     "start_time": "2021-09-11T20:06:51.193709",
     "status": "completed"
    },
    "tags": []
   },
   "outputs": [
    {
     "name": "stdout",
     "output_type": "stream",
     "text": [
      "Epoch 0, Loss 0.2331\n",
      "Training Accuracy: 0.7331, Testing Accuracy: 0.7586\n",
      "\n"
     ]
    },
    {
     "name": "stdout",
     "output_type": "stream",
     "text": [
      "Epoch 10, Loss 0.073\n",
      "Training Accuracy: 0.9251, Testing Accuracy: 0.9355\n",
      "\n"
     ]
    },
    {
     "name": "stdout",
     "output_type": "stream",
     "text": [
      "Epoch 20, Loss 0.0491\n",
      "Training Accuracy: 0.9468, Testing Accuracy: 0.9617\n",
      "\n"
     ]
    },
    {
     "name": "stdout",
     "output_type": "stream",
     "text": [
      "Epoch 30, Loss 0.0401\n",
      "Training Accuracy: 0.9547, Testing Accuracy: 0.9662\n",
      "\n"
     ]
    },
    {
     "name": "stdout",
     "output_type": "stream",
     "text": [
      "Epoch 40, Loss 0.0353\n",
      "Training Accuracy: 0.9597, Testing Accuracy: 0.9672\n",
      "\n"
     ]
    },
    {
     "name": "stdout",
     "output_type": "stream",
     "text": [
      "Epoch 50, Loss 0.0322\n",
      "Training Accuracy: 0.9627, Testing Accuracy: 0.9688\n",
      "\n"
     ]
    },
    {
     "name": "stdout",
     "output_type": "stream",
     "text": [
      "Epoch 60, Loss 0.03\n",
      "Training Accuracy: 0.9657, Testing Accuracy: 0.9688\n",
      "\n"
     ]
    },
    {
     "name": "stdout",
     "output_type": "stream",
     "text": [
      "Epoch 70, Loss 0.0284\n",
      "Training Accuracy: 0.9682, Testing Accuracy: 0.9688\n",
      "\n"
     ]
    },
    {
     "name": "stdout",
     "output_type": "stream",
     "text": [
      "Epoch 80, Loss 0.027\n",
      "Training Accuracy: 0.9697, Testing Accuracy: 0.9693\n",
      "\n"
     ]
    },
    {
     "name": "stdout",
     "output_type": "stream",
     "text": [
      "Epoch 90, Loss 0.0259\n",
      "Training Accuracy: 0.9714, Testing Accuracy: 0.9713\n",
      "\n"
     ]
    },
    {
     "name": "stdout",
     "output_type": "stream",
     "text": [
      "Epoch 100, Loss 0.0249\n",
      "Training Accuracy: 0.9725, Testing Accuracy: 0.9718\n",
      "\n"
     ]
    },
    {
     "name": "stdout",
     "output_type": "stream",
     "text": [
      "Epoch 110, Loss 0.024\n",
      "Training Accuracy: 0.9735, Testing Accuracy: 0.9718\n",
      "\n"
     ]
    },
    {
     "name": "stdout",
     "output_type": "stream",
     "text": [
      "Epoch 120, Loss 0.0232\n",
      "Training Accuracy: 0.9740, Testing Accuracy: 0.9733\n",
      "\n"
     ]
    },
    {
     "name": "stdout",
     "output_type": "stream",
     "text": [
      "Epoch 130, Loss 0.0225\n",
      "Training Accuracy: 0.9751, Testing Accuracy: 0.9738\n",
      "\n"
     ]
    },
    {
     "name": "stdout",
     "output_type": "stream",
     "text": [
      "Epoch 140, Loss 0.0219\n",
      "Training Accuracy: 0.9755, Testing Accuracy: 0.9748\n",
      "\n"
     ]
    },
    {
     "name": "stdout",
     "output_type": "stream",
     "text": [
      "Epoch 150, Loss 0.0213\n",
      "Training Accuracy: 0.9764, Testing Accuracy: 0.9748\n",
      "\n"
     ]
    },
    {
     "name": "stdout",
     "output_type": "stream",
     "text": [
      "Epoch 160, Loss 0.0207\n",
      "Training Accuracy: 0.9770, Testing Accuracy: 0.9748\n",
      "\n"
     ]
    },
    {
     "name": "stdout",
     "output_type": "stream",
     "text": [
      "Epoch 170, Loss 0.0202\n",
      "Training Accuracy: 0.9780, Testing Accuracy: 0.9753\n",
      "\n"
     ]
    },
    {
     "name": "stdout",
     "output_type": "stream",
     "text": [
      "Epoch 180, Loss 0.0197\n",
      "Training Accuracy: 0.9786, Testing Accuracy: 0.9753\n",
      "\n"
     ]
    },
    {
     "name": "stdout",
     "output_type": "stream",
     "text": [
      "Epoch 190, Loss 0.0192\n",
      "Training Accuracy: 0.9793, Testing Accuracy: 0.9753\n",
      "\n"
     ]
    },
    {
     "name": "stdout",
     "output_type": "stream",
     "text": [
      "Epoch 200, Loss 0.0187\n",
      "Training Accuracy: 0.9798, Testing Accuracy: 0.9753\n",
      "\n"
     ]
    },
    {
     "name": "stdout",
     "output_type": "stream",
     "text": [
      "Epoch 210, Loss 0.0183\n",
      "Training Accuracy: 0.9807, Testing Accuracy: 0.9763\n",
      "\n"
     ]
    },
    {
     "name": "stdout",
     "output_type": "stream",
     "text": [
      "Epoch 220, Loss 0.0179\n",
      "Training Accuracy: 0.9815, Testing Accuracy: 0.9768\n",
      "\n"
     ]
    },
    {
     "name": "stdout",
     "output_type": "stream",
     "text": [
      "Epoch 230, Loss 0.0175\n",
      "Training Accuracy: 0.9821, Testing Accuracy: 0.9768\n",
      "\n"
     ]
    },
    {
     "name": "stdout",
     "output_type": "stream",
     "text": [
      "Epoch 240, Loss 0.0171\n",
      "Training Accuracy: 0.9825, Testing Accuracy: 0.9778\n",
      "\n"
     ]
    },
    {
     "data": {
      "text/plain": [
       "0.0025880500504386634"
      ]
     },
     "execution_count": 22,
     "metadata": {},
     "output_type": "execute_result"
    }
   ],
   "source": [
    "nn_learner.train_loop(dl)"
   ]
  },
  {
   "cell_type": "code",
   "execution_count": 23,
   "id": "e0163366",
   "metadata": {
    "execution": {
     "iopub.execute_input": "2021-09-11T20:08:52.738609Z",
     "iopub.status.busy": "2021-09-11T20:08:52.737954Z",
     "iopub.status.idle": "2021-09-11T20:09:10.446031Z",
     "shell.execute_reply": "2021-09-11T20:09:10.446594Z"
    },
    "papermill": {
     "duration": 17.758505,
     "end_time": "2021-09-11T20:09:10.446745",
     "exception": false,
     "start_time": "2021-09-11T20:08:52.688240",
     "status": "completed"
    },
    "tags": []
   },
   "outputs": [
    {
     "name": "stdout",
     "output_type": "stream",
     "text": [
      "Epoch 0, Loss 0.2258\n",
      "Training Accuracy: 0.7431, Testing Accuracy: 0.7364\n",
      "\n"
     ]
    },
    {
     "name": "stdout",
     "output_type": "stream",
     "text": [
      "Epoch 10, Loss 0.1027\n",
      "Training Accuracy: 0.9050, Testing Accuracy: 0.9163\n",
      "\n"
     ]
    },
    {
     "name": "stdout",
     "output_type": "stream",
     "text": [
      "Epoch 20, Loss 0.0801\n",
      "Training Accuracy: 0.9232, Testing Accuracy: 0.9320\n",
      "\n"
     ]
    },
    {
     "name": "stdout",
     "output_type": "stream",
     "text": [
      "Epoch 30, Loss 0.0692\n",
      "Training Accuracy: 0.9334, Testing Accuracy: 0.9420\n",
      "\n"
     ]
    },
    {
     "name": "stdout",
     "output_type": "stream",
     "text": [
      "Epoch 40, Loss 0.0626\n",
      "Training Accuracy: 0.9387, Testing Accuracy: 0.9481\n",
      "\n"
     ]
    },
    {
     "name": "stdout",
     "output_type": "stream",
     "text": [
      "Epoch 50, Loss 0.058\n",
      "Training Accuracy: 0.9431, Testing Accuracy: 0.9546\n",
      "\n"
     ]
    },
    {
     "name": "stdout",
     "output_type": "stream",
     "text": [
      "Epoch 60, Loss 0.0546\n",
      "Training Accuracy: 0.9455, Testing Accuracy: 0.9572\n",
      "\n"
     ]
    },
    {
     "name": "stdout",
     "output_type": "stream",
     "text": [
      "Epoch 70, Loss 0.052\n",
      "Training Accuracy: 0.9485, Testing Accuracy: 0.9587\n",
      "\n"
     ]
    },
    {
     "name": "stdout",
     "output_type": "stream",
     "text": [
      "Epoch 80, Loss 0.0499\n",
      "Training Accuracy: 0.9502, Testing Accuracy: 0.9592\n",
      "\n"
     ]
    },
    {
     "name": "stdout",
     "output_type": "stream",
     "text": [
      "Epoch 90, Loss 0.0481\n",
      "Training Accuracy: 0.9516, Testing Accuracy: 0.9597\n",
      "\n"
     ]
    },
    {
     "name": "stdout",
     "output_type": "stream",
     "text": [
      "Epoch 100, Loss 0.0466\n",
      "Training Accuracy: 0.9525, Testing Accuracy: 0.9617\n",
      "\n"
     ]
    },
    {
     "name": "stdout",
     "output_type": "stream",
     "text": [
      "Epoch 110, Loss 0.0454\n",
      "Training Accuracy: 0.9537, Testing Accuracy: 0.9637\n",
      "\n"
     ]
    },
    {
     "name": "stdout",
     "output_type": "stream",
     "text": [
      "Epoch 120, Loss 0.0443\n",
      "Training Accuracy: 0.9539, Testing Accuracy: 0.9647\n",
      "\n"
     ]
    },
    {
     "name": "stdout",
     "output_type": "stream",
     "text": [
      "Epoch 130, Loss 0.0433\n",
      "Training Accuracy: 0.9545, Testing Accuracy: 0.9647\n",
      "\n"
     ]
    },
    {
     "name": "stdout",
     "output_type": "stream",
     "text": [
      "Epoch 140, Loss 0.0424\n",
      "Training Accuracy: 0.9551, Testing Accuracy: 0.9662\n",
      "\n"
     ]
    },
    {
     "name": "stdout",
     "output_type": "stream",
     "text": [
      "Epoch 150, Loss 0.0417\n",
      "Training Accuracy: 0.9563, Testing Accuracy: 0.9657\n",
      "\n"
     ]
    },
    {
     "name": "stdout",
     "output_type": "stream",
     "text": [
      "Epoch 160, Loss 0.041\n",
      "Training Accuracy: 0.9569, Testing Accuracy: 0.9662\n",
      "\n"
     ]
    },
    {
     "name": "stdout",
     "output_type": "stream",
     "text": [
      "Epoch 170, Loss 0.0403\n",
      "Training Accuracy: 0.9577, Testing Accuracy: 0.9667\n",
      "\n"
     ]
    },
    {
     "name": "stdout",
     "output_type": "stream",
     "text": [
      "Epoch 180, Loss 0.0397\n",
      "Training Accuracy: 0.9584, Testing Accuracy: 0.9662\n",
      "\n"
     ]
    },
    {
     "name": "stdout",
     "output_type": "stream",
     "text": [
      "Epoch 190, Loss 0.0392\n",
      "Training Accuracy: 0.9586, Testing Accuracy: 0.9662\n",
      "\n"
     ]
    },
    {
     "name": "stdout",
     "output_type": "stream",
     "text": [
      "Epoch 200, Loss 0.0387\n",
      "Training Accuracy: 0.9594, Testing Accuracy: 0.9662\n",
      "\n"
     ]
    },
    {
     "name": "stdout",
     "output_type": "stream",
     "text": [
      "Epoch 210, Loss 0.0383\n",
      "Training Accuracy: 0.9597, Testing Accuracy: 0.9662\n",
      "\n"
     ]
    },
    {
     "name": "stdout",
     "output_type": "stream",
     "text": [
      "Epoch 220, Loss 0.0378\n",
      "Training Accuracy: 0.9599, Testing Accuracy: 0.9657\n",
      "\n"
     ]
    },
    {
     "name": "stdout",
     "output_type": "stream",
     "text": [
      "Epoch 230, Loss 0.0374\n",
      "Training Accuracy: 0.9600, Testing Accuracy: 0.9657\n",
      "\n"
     ]
    },
    {
     "name": "stdout",
     "output_type": "stream",
     "text": [
      "Epoch 240, Loss 0.0371\n",
      "Training Accuracy: 0.9604, Testing Accuracy: 0.9657\n",
      "\n"
     ]
    },
    {
     "data": {
      "text/plain": [
       "0.02051163390912811"
      ]
     },
     "execution_count": 23,
     "metadata": {},
     "output_type": "execute_result"
    }
   ],
   "source": [
    "lr_learner.train_loop(dl)"
   ]
  },
  {
   "cell_type": "code",
   "execution_count": 24,
   "id": "ca410940",
   "metadata": {
    "execution": {
     "iopub.execute_input": "2021-09-11T20:09:10.562382Z",
     "iopub.status.busy": "2021-09-11T20:09:10.561801Z",
     "iopub.status.idle": "2021-09-11T20:09:10.812221Z",
     "shell.execute_reply": "2021-09-11T20:09:10.812878Z"
    },
    "papermill": {
     "duration": 0.311353,
     "end_time": "2021-09-11T20:09:10.813027",
     "exception": false,
     "start_time": "2021-09-11T20:09:10.501674",
     "status": "completed"
    },
    "tags": []
   },
   "outputs": [
    {
     "data": {
      "text/plain": [
       "<matplotlib.legend.Legend at 0x7f7cb63bef98>"
      ]
     },
     "execution_count": 24,
     "metadata": {},
     "output_type": "execute_result"
    },
    {
     "data": {
      "image/png": "[encoded data removed]",
      "text/plain": [
       "<Figure size 1080x720 with 1 Axes>"
      ]
     },
     "metadata": {
      "needs_background": "light"
     },
     "output_type": "display_data"
    }
   ],
   "source": [
    "#comparing the results of NN and LR\n",
    "plt.figure(figsize=(15,10))\n",
    "\n",
    "# Neural Network plots\n",
    "plt.plot(acc_nn.accuracies, 'r-', label = \"Training Accuracies - NN\")\n",
    "plt.plot(acc_nn.test_accuracies, 'g-', label = \"Testing Accuracies - NN\")\n",
    "\n",
    "# Logistic Regression plots\n",
    "plt.plot(acc_lr.accuracies, 'k-', label = \"Training Accuracies - LR\")\n",
    "plt.plot(acc_lr.test_accuracies, 'b-', label = \"Testing Accuracies - LR\")\n",
    "plt.legend()"
   ]
  },
  {
   "cell_type": "markdown",
   "id": "80dfb35c",
   "metadata": {
    "papermill": {
     "duration": 0.046525,
     "end_time": "2021-09-11T20:09:10.906118",
     "exception": false,
     "start_time": "2021-09-11T20:09:10.859593",
     "status": "completed"
    },
    "tags": []
   },
   "source": [
    "#### Plotting the outputs of this layer of the NN.\n"
   ]
  },
  {
   "cell_type": "code",
   "execution_count": 25,
   "id": "45eb2ff5",
   "metadata": {
    "execution": {
     "iopub.execute_input": "2021-09-11T20:09:11.013710Z",
     "iopub.status.busy": "2021-09-11T20:09:11.008678Z",
     "iopub.status.idle": "2021-09-11T20:09:11.035188Z",
     "shell.execute_reply": "2021-09-11T20:09:11.035675Z"
    },
    "papermill": {
     "duration": 0.082532,
     "end_time": "2021-09-11T20:09:11.035828",
     "exception": false,
     "start_time": "2021-09-11T20:09:10.953296",
     "status": "completed"
    },
    "tags": []
   },
   "outputs": [],
   "source": [
    "new_model = Model(layers[:-2])\n",
    "testing_plot = new_model(testing_data_x)"
   ]
  },
  {
   "cell_type": "code",
   "execution_count": 26,
   "id": "4c0a5485",
   "metadata": {
    "execution": {
     "iopub.execute_input": "2021-09-11T20:09:11.145047Z",
     "iopub.status.busy": "2021-09-11T20:09:11.144466Z",
     "iopub.status.idle": "2021-09-11T20:09:11.398607Z",
     "shell.execute_reply": "2021-09-11T20:09:11.399083Z"
    },
    "papermill": {
     "duration": 0.305905,
     "end_time": "2021-09-11T20:09:11.399231",
     "exception": false,
     "start_time": "2021-09-11T20:09:11.093326",
     "status": "completed"
    },
    "tags": []
   },
   "outputs": [
    {
     "data": {
      "text/plain": [
       "Text(0.5, 1.0, 'Outputs')"
      ]
     },
     "execution_count": 26,
     "metadata": {},
     "output_type": "execute_result"
    },
    {
     "data": {
      "image/png": "[encoded data removed]",
      "text/plain": [
       "<Figure size 576x504 with 1 Axes>"
      ]
     },
     "metadata": {
      "needs_background": "light"
     },
     "output_type": "display_data"
    }
   ],
   "source": [
    "# Plotting the scatter plot of points and color coding by class\n",
    "plt.figure(figsize=(8,7))\n",
    "plt.scatter(testing_plot[:,0], testing_plot[:,1], alpha = 0.1, c = y_test.ravel());\n",
    "plt.title('Outputs')"
   ]
  },
  {
   "cell_type": "markdown",
   "id": "a74fcf8f",
   "metadata": {
    "papermill": {
     "duration": 0.049663,
     "end_time": "2021-09-11T20:09:11.498807",
     "exception": false,
     "start_time": "2021-09-11T20:09:11.449144",
     "status": "completed"
    },
    "tags": []
   },
   "source": [
    "Probability contours"
   ]
  },
  {
   "cell_type": "code",
   "execution_count": 27,
   "id": "d0afc8e3",
   "metadata": {
    "execution": {
     "iopub.execute_input": "2021-09-11T20:09:11.602071Z",
     "iopub.status.busy": "2021-09-11T20:09:11.601492Z",
     "iopub.status.idle": "2021-09-11T20:09:11.613042Z",
     "shell.execute_reply": "2021-09-11T20:09:11.613548Z"
    },
    "papermill": {
     "duration": 0.065491,
     "end_time": "2021-09-11T20:09:11.613679",
     "exception": false,
     "start_time": "2021-09-11T20:09:11.548188",
     "status": "completed"
    },
    "tags": []
   },
   "outputs": [],
   "source": [
    "model_prob = Model(layers[-2:]) "
   ]
  },
  {
   "cell_type": "code",
   "execution_count": 28,
   "id": "9b96e238",
   "metadata": {
    "execution": {
     "iopub.execute_input": "2021-09-11T20:09:11.741993Z",
     "iopub.status.busy": "2021-09-11T20:09:11.741374Z",
     "iopub.status.idle": "2021-09-11T20:09:11.755802Z",
     "shell.execute_reply": "2021-09-11T20:09:11.756265Z"
    },
    "papermill": {
     "duration": 0.092905,
     "end_time": "2021-09-11T20:09:11.756423",
     "exception": false,
     "start_time": "2021-09-11T20:09:11.663518",
     "status": "completed"
    },
    "tags": []
   },
   "outputs": [],
   "source": [
    "#creating the x and y ranges according to the above generated plot.\n",
    "x_range = np.linspace(-4, 1, 100) \n",
    "y_range = np.linspace(-6, 6, 100) \n",
    "x_grid, y_grid = np.meshgrid(x_range, y_range) # x_grid and y_grig are of size 100 X 100\n",
    "\n",
    "# converting x_grid and y_grid to continuous arrays\n",
    "x_gridflat = np.ravel(x_grid)\n",
    "y_gridflat = np.ravel(y_grid)\n",
    "\n",
    "# The last layer of the current model takes two columns as input. Hence transpose of np.vstack() is required.\n",
    "X = np.vstack((x_gridflat, y_gridflat)).T\n",
    "\n",
    "prob_contour = model_prob(X).reshape(100,100) "
   ]
  },
  {
   "cell_type": "code",
   "execution_count": 29,
   "id": "da72499a",
   "metadata": {
    "execution": {
     "iopub.execute_input": "2021-09-11T20:09:11.908507Z",
     "iopub.status.busy": "2021-09-11T20:09:11.895363Z",
     "iopub.status.idle": "2021-09-11T20:09:12.174679Z",
     "shell.execute_reply": "2021-09-11T20:09:12.173632Z"
    },
    "papermill": {
     "duration": 0.359331,
     "end_time": "2021-09-11T20:09:12.174806",
     "exception": false,
     "start_time": "2021-09-11T20:09:11.815475",
     "status": "completed"
    },
    "tags": []
   },
   "outputs": [
    {
     "data": {
      "image/png": "[encoded data removed]",
      "text/plain": [
       "<Figure size 720x648 with 1 Axes>"
      ]
     },
     "metadata": {
      "needs_background": "light"
     },
     "output_type": "display_data"
    }
   ],
   "source": [
    "plt.figure(figsize=(10,9))\n",
    "plt.scatter(testing_plot[:,0], testing_plot[:,1], alpha = 0.1, c = y_test.ravel())\n",
    "contours = plt.contour(x_grid,y_grid,prob_contour)\n",
    "plt.title('Probability Contours')\n",
    "plt.clabel(contours, inline = True );"
   ]
  },
  {
   "cell_type": "code",
   "execution_count": null,
   "id": "e81b4ac7",
   "metadata": {
    "papermill": {
     "duration": 0.052383,
     "end_time": "2021-09-11T20:09:12.282073",
     "exception": false,
     "start_time": "2021-09-11T20:09:12.229690",
     "status": "completed"
    },
    "tags": []
   },
   "outputs": [],
   "source": []
  }
 ],
 "metadata": {
  "kernelspec": {
   "display_name": "Python 3",
   "language": "python",
   "name": "python3"
  },
  "language_info": {
   "codemirror_mode": {
    "name": "ipython",
    "version": 3
   },
   "file_extension": ".py",
   "mimetype": "text/x-python",
   "name": "python",
   "nbconvert_exporter": "python",
   "pygments_lexer": "ipython3",
   "version": "3.6.14"
  },
  "papermill": {
   "default_parameters": {},
   "duration": 148.176389,
   "end_time": "2021-09-11T20:09:12.746060",
   "environment_variables": {},
   "exception": null,
   "input_path": "2020-08-11-part2.ipynb",
   "output_path": "2020-08-11-part2.ipynb",
   "parameters": {},
   "start_time": "2021-09-11T20:06:44.569671",
   "version": "2.3.3"
  }
 },
 "nbformat": 4,
 "nbformat_minor": 5
}