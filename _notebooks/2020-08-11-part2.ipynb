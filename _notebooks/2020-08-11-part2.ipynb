{
 "cells": [
  {
   "cell_type": "markdown",
   "id": "98380cd3",
   "metadata": {
    "papermill": {
     "duration": 0.038896,
     "end_time": "2022-06-08T10:10:38.172308",
     "exception": false,
     "start_time": "2022-06-08T10:10:38.133412",
     "status": "completed"
    },
    "tags": []
   },
   "source": [
    "# Distinguish Your Own Digits (DYOD)"
   ]
  },
  {
   "cell_type": "markdown",
   "id": "ef31240d",
   "metadata": {
    "papermill": {
     "duration": 0.031678,
     "end_time": "2022-06-08T10:10:38.237816",
     "exception": false,
     "start_time": "2022-06-08T10:10:38.206138",
     "status": "completed"
    },
    "tags": []
   },
   "source": [
    "You are going to write a classifier that distinguishes between the number 3 and number 8."
   ]
  },
  {
   "cell_type": "code",
   "execution_count": 1,
   "id": "b15c8646",
   "metadata": {
    "execution": {
     "iopub.execute_input": "2022-06-08T10:10:38.317473Z",
     "iopub.status.busy": "2022-06-08T10:10:38.316466Z",
     "iopub.status.idle": "2022-06-08T10:10:38.330702Z",
     "shell.execute_reply": "2022-06-08T10:10:38.330035Z"
    },
    "papermill": {
     "duration": 0.059946,
     "end_time": "2022-06-08T10:10:38.330855",
     "exception": false,
     "start_time": "2022-06-08T10:10:38.270909",
     "status": "completed"
    },
    "tags": []
   },
   "outputs": [],
   "source": [
    "%load_ext autoreload\n",
    "%autoreload 2"
   ]
  },
  {
   "cell_type": "code",
   "execution_count": 2,
   "id": "22ef38dc",
   "metadata": {
    "execution": {
     "iopub.execute_input": "2022-06-08T10:10:38.403048Z",
     "iopub.status.busy": "2022-06-08T10:10:38.402209Z",
     "iopub.status.idle": "2022-06-08T10:10:39.095577Z",
     "shell.execute_reply": "2022-06-08T10:10:39.094894Z"
    },
    "papermill": {
     "duration": 0.732431,
     "end_time": "2022-06-08T10:10:39.095759",
     "exception": false,
     "start_time": "2022-06-08T10:10:38.363328",
     "status": "completed"
    },
    "tags": []
   },
   "outputs": [],
   "source": [
    "%matplotlib inline\n",
    "import numpy as np\n",
    "import matplotlib.pyplot as plt\n",
    "import pandas as pd"
   ]
  },
  {
   "cell_type": "markdown",
   "id": "ba036198",
   "metadata": {
    "papermill": {
     "duration": 0.032925,
     "end_time": "2022-06-08T10:10:39.163997",
     "exception": false,
     "start_time": "2022-06-08T10:10:39.131072",
     "status": "completed"
    },
    "tags": []
   },
   "source": [
    "From the command line run `pip install mnist`. This is a library that will help you bring down the mnist dataset. If you run this from a notebook, you need to put  `!pip install mnist` in a cell by itself."
   ]
  },
  {
   "cell_type": "code",
   "execution_count": 3,
   "id": "bb6ad8a1",
   "metadata": {
    "execution": {
     "iopub.execute_input": "2022-06-08T10:10:39.238024Z",
     "iopub.status.busy": "2022-06-08T10:10:39.237262Z",
     "iopub.status.idle": "2022-06-08T10:10:41.354031Z",
     "shell.execute_reply": "2022-06-08T10:10:41.354680Z"
    },
    "papermill": {
     "duration": 2.157933,
     "end_time": "2022-06-08T10:10:41.354856",
     "exception": false,
     "start_time": "2022-06-08T10:10:39.196923",
     "status": "completed"
    },
    "tags": []
   },
   "outputs": [
    {
     "name": "stdout",
     "output_type": "stream",
     "text": [
      "Collecting mnist\r\n"
     ]
    },
    {
     "name": "stdout",
     "output_type": "stream",
     "text": [
      "  Downloading mnist-0.2.2-py2.py3-none-any.whl (3.5 kB)\r\n",
      "Requirement already satisfied: numpy in /opt/hostedtoolcache/Python/3.6.15/x64/lib/python3.6/site-packages (from mnist) (1.19.5)\r\n"
     ]
    },
    {
     "name": "stdout",
     "output_type": "stream",
     "text": [
      "Installing collected packages: mnist\r\n"
     ]
    },
    {
     "name": "stdout",
     "output_type": "stream",
     "text": [
      "Successfully installed mnist-0.2.2\r\n"
     ]
    }
   ],
   "source": [
    "!pip install mnist"
   ]
  },
  {
   "cell_type": "markdown",
   "id": "69df9c9a",
   "metadata": {
    "papermill": {
     "duration": 0.034462,
     "end_time": "2022-06-08T10:10:41.425269",
     "exception": false,
     "start_time": "2022-06-08T10:10:41.390807",
     "status": "completed"
    },
    "tags": []
   },
   "source": [
    "## Preparing the Data"
   ]
  },
  {
   "cell_type": "code",
   "execution_count": 4,
   "id": "7f69d806",
   "metadata": {
    "execution": {
     "iopub.execute_input": "2022-06-08T10:10:41.504041Z",
     "iopub.status.busy": "2022-06-08T10:10:41.497453Z",
     "iopub.status.idle": "2022-06-08T10:10:41.517574Z",
     "shell.execute_reply": "2022-06-08T10:10:41.516431Z"
    },
    "papermill": {
     "duration": 0.059034,
     "end_time": "2022-06-08T10:10:41.517721",
     "exception": false,
     "start_time": "2022-06-08T10:10:41.458687",
     "status": "completed"
    },
    "tags": []
   },
   "outputs": [],
   "source": [
    "import mnist"
   ]
  },
  {
   "cell_type": "code",
   "execution_count": 5,
   "id": "a411e44f",
   "metadata": {
    "execution": {
     "iopub.execute_input": "2022-06-08T10:10:41.601225Z",
     "iopub.status.busy": "2022-06-08T10:10:41.596381Z",
     "iopub.status.idle": "2022-06-08T10:10:42.307257Z",
     "shell.execute_reply": "2022-06-08T10:10:42.306563Z"
    },
    "papermill": {
     "duration": 0.753522,
     "end_time": "2022-06-08T10:10:42.307423",
     "exception": false,
     "start_time": "2022-06-08T10:10:41.553901",
     "status": "completed"
    },
    "tags": []
   },
   "outputs": [],
   "source": [
    "train_images = mnist.train_images()\n",
    "train_labels = mnist.train_labels()"
   ]
  },
  {
   "cell_type": "code",
   "execution_count": 6,
   "id": "dceab3a5",
   "metadata": {
    "execution": {
     "iopub.execute_input": "2022-06-08T10:10:42.387405Z",
     "iopub.status.busy": "2022-06-08T10:10:42.384392Z",
     "iopub.status.idle": "2022-06-08T10:10:42.405319Z",
     "shell.execute_reply": "2022-06-08T10:10:42.404547Z"
    },
    "papermill": {
     "duration": 0.062843,
     "end_time": "2022-06-08T10:10:42.405467",
     "exception": false,
     "start_time": "2022-06-08T10:10:42.342624",
     "status": "completed"
    },
    "tags": []
   },
   "outputs": [
    {
     "data": {
      "text/plain": [
       "((60000, 28, 28), (60000,))"
      ]
     },
     "execution_count": 6,
     "metadata": {},
     "output_type": "execute_result"
    }
   ],
   "source": [
    "train_images.shape, train_labels.shape"
   ]
  },
  {
   "cell_type": "code",
   "execution_count": 7,
   "id": "f50dc2bb",
   "metadata": {
    "execution": {
     "iopub.execute_input": "2022-06-08T10:10:42.489259Z",
     "iopub.status.busy": "2022-06-08T10:10:42.481009Z",
     "iopub.status.idle": "2022-06-08T10:10:42.698808Z",
     "shell.execute_reply": "2022-06-08T10:10:42.697888Z"
    },
    "papermill": {
     "duration": 0.25875,
     "end_time": "2022-06-08T10:10:42.698946",
     "exception": false,
     "start_time": "2022-06-08T10:10:42.440196",
     "status": "completed"
    },
    "tags": []
   },
   "outputs": [],
   "source": [
    "test_images = mnist.test_images()\n",
    "test_labels = mnist.test_labels()"
   ]
  },
  {
   "cell_type": "code",
   "execution_count": 8,
   "id": "fc38cf1b",
   "metadata": {
    "execution": {
     "iopub.execute_input": "2022-06-08T10:10:42.780793Z",
     "iopub.status.busy": "2022-06-08T10:10:42.772047Z",
     "iopub.status.idle": "2022-06-08T10:10:42.788701Z",
     "shell.execute_reply": "2022-06-08T10:10:42.787946Z"
    },
    "papermill": {
     "duration": 0.055991,
     "end_time": "2022-06-08T10:10:42.788836",
     "exception": false,
     "start_time": "2022-06-08T10:10:42.732845",
     "status": "completed"
    },
    "tags": []
   },
   "outputs": [
    {
     "data": {
      "text/plain": [
       "((10000, 28, 28), (10000,))"
      ]
     },
     "execution_count": 8,
     "metadata": {},
     "output_type": "execute_result"
    }
   ],
   "source": [
    "test_images.shape, test_labels.shape"
   ]
  },
  {
   "cell_type": "code",
   "execution_count": 9,
   "id": "f9ed8fe0",
   "metadata": {
    "execution": {
     "iopub.execute_input": "2022-06-08T10:10:42.865449Z",
     "iopub.status.busy": "2022-06-08T10:10:42.864351Z",
     "iopub.status.idle": "2022-06-08T10:10:43.066002Z",
     "shell.execute_reply": "2022-06-08T10:10:43.065375Z"
    },
    "papermill": {
     "duration": 0.240951,
     "end_time": "2022-06-08T10:10:43.066135",
     "exception": false,
     "start_time": "2022-06-08T10:10:42.825184",
     "status": "completed"
    },
    "tags": []
   },
   "outputs": [
    {
     "name": "stdout",
     "output_type": "stream",
     "text": [
      "2\n"
     ]
    },
    {
     "data": {
      "text/plain": [
       "<matplotlib.image.AxesImage at 0x7f27104f6400>"
      ]
     },
     "execution_count": 9,
     "metadata": {},
     "output_type": "execute_result"
    },
    {
     "data": {
      "image/png": "[encoded data removed]",
      "text/plain": [
       "<Figure size 432x288 with 1 Axes>"
      ]
     },
     "metadata": {
      "needs_background": "light"
     },
     "output_type": "display_data"
    }
   ],
   "source": [
    "image_index = 7776 # You may select anything up to 60,000\n",
    "print(train_labels[image_index]) \n",
    "plt.imshow(train_images[image_index], cmap='Greys')"
   ]
  },
  {
   "cell_type": "markdown",
   "id": "a8d2388d",
   "metadata": {
    "papermill": {
     "duration": 0.039337,
     "end_time": "2022-06-08T10:10:43.142251",
     "exception": false,
     "start_time": "2022-06-08T10:10:43.102914",
     "status": "completed"
    },
    "tags": []
   },
   "source": [
    "## Filter data to get 3 and 8 out"
   ]
  },
  {
   "cell_type": "code",
   "execution_count": 10,
   "id": "776f7fc7",
   "metadata": {
    "execution": {
     "iopub.execute_input": "2022-06-08T10:10:43.225355Z",
     "iopub.status.busy": "2022-06-08T10:10:43.222054Z",
     "iopub.status.idle": "2022-06-08T10:10:43.247129Z",
     "shell.execute_reply": "2022-06-08T10:10:43.246325Z"
    },
    "papermill": {
     "duration": 0.068739,
     "end_time": "2022-06-08T10:10:43.247276",
     "exception": false,
     "start_time": "2022-06-08T10:10:43.178537",
     "status": "completed"
    },
    "tags": []
   },
   "outputs": [],
   "source": [
    "train_filter = np.where((train_labels == 3 ) | (train_labels == 8))\n",
    "test_filter = np.where((test_labels == 3) | (test_labels == 8))\n",
    "X_train, y_train = train_images[train_filter], train_labels[train_filter]\n",
    "X_test, y_test = test_images[test_filter], test_labels[test_filter]"
   ]
  },
  {
   "cell_type": "markdown",
   "id": "948f0b7e",
   "metadata": {
    "papermill": {
     "duration": 0.036279,
     "end_time": "2022-06-08T10:10:43.319546",
     "exception": false,
     "start_time": "2022-06-08T10:10:43.283267",
     "status": "completed"
    },
    "tags": []
   },
   "source": [
    "We normalize the pizel values in the 0 to 1 range"
   ]
  },
  {
   "cell_type": "code",
   "execution_count": 11,
   "id": "ee4c2166",
   "metadata": {
    "execution": {
     "iopub.execute_input": "2022-06-08T10:10:43.398919Z",
     "iopub.status.busy": "2022-06-08T10:10:43.398158Z",
     "iopub.status.idle": "2022-06-08T10:10:43.464918Z",
     "shell.execute_reply": "2022-06-08T10:10:43.464164Z"
    },
    "papermill": {
     "duration": 0.109107,
     "end_time": "2022-06-08T10:10:43.465060",
     "exception": false,
     "start_time": "2022-06-08T10:10:43.355953",
     "status": "completed"
    },
    "tags": []
   },
   "outputs": [],
   "source": [
    "X_train = X_train/255.\n",
    "X_test = X_test/255."
   ]
  },
  {
   "cell_type": "markdown",
   "id": "ddcf4fab",
   "metadata": {
    "papermill": {
     "duration": 0.037254,
     "end_time": "2022-06-08T10:10:43.539116",
     "exception": false,
     "start_time": "2022-06-08T10:10:43.501862",
     "status": "completed"
    },
    "tags": []
   },
   "source": [
    "And setup the labels as 1 (when the digit is 3) and 0 (when the digit is 8)"
   ]
  },
  {
   "cell_type": "code",
   "execution_count": 12,
   "id": "7dc908f2",
   "metadata": {
    "execution": {
     "iopub.execute_input": "2022-06-08T10:10:43.616751Z",
     "iopub.status.busy": "2022-06-08T10:10:43.615964Z",
     "iopub.status.idle": "2022-06-08T10:10:43.631292Z",
     "shell.execute_reply": "2022-06-08T10:10:43.630680Z"
    },
    "papermill": {
     "duration": 0.055509,
     "end_time": "2022-06-08T10:10:43.631421",
     "exception": false,
     "start_time": "2022-06-08T10:10:43.575912",
     "status": "completed"
    },
    "tags": []
   },
   "outputs": [],
   "source": [
    "y_train = 1*(y_train==3)\n",
    "y_test = 1*(y_test==3)"
   ]
  },
  {
   "cell_type": "code",
   "execution_count": 13,
   "id": "01e4e969",
   "metadata": {
    "execution": {
     "iopub.execute_input": "2022-06-08T10:10:43.709461Z",
     "iopub.status.busy": "2022-06-08T10:10:43.708560Z",
     "iopub.status.idle": "2022-06-08T10:10:43.723804Z",
     "shell.execute_reply": "2022-06-08T10:10:43.724495Z"
    },
    "papermill": {
     "duration": 0.057582,
     "end_time": "2022-06-08T10:10:43.724637",
     "exception": false,
     "start_time": "2022-06-08T10:10:43.667055",
     "status": "completed"
    },
    "tags": []
   },
   "outputs": [
    {
     "data": {
      "text/plain": [
       "((11982, 28, 28), (1984, 28, 28))"
      ]
     },
     "execution_count": 13,
     "metadata": {},
     "output_type": "execute_result"
    }
   ],
   "source": [
    "X_train.shape, X_test.shape"
   ]
  },
  {
   "cell_type": "markdown",
   "id": "5ccf3f85",
   "metadata": {
    "papermill": {
     "duration": 0.03713,
     "end_time": "2022-06-08T10:10:43.799188",
     "exception": false,
     "start_time": "2022-06-08T10:10:43.762058",
     "status": "completed"
    },
    "tags": []
   },
   "source": [
    "We reshape the data to flatten the image pixels into a set of features or co-variates:"
   ]
  },
  {
   "cell_type": "code",
   "execution_count": 14,
   "id": "5286a4a3",
   "metadata": {
    "execution": {
     "iopub.execute_input": "2022-06-08T10:10:43.878382Z",
     "iopub.status.busy": "2022-06-08T10:10:43.877638Z",
     "iopub.status.idle": "2022-06-08T10:10:43.901575Z",
     "shell.execute_reply": "2022-06-08T10:10:43.902197Z"
    },
    "papermill": {
     "duration": 0.065681,
     "end_time": "2022-06-08T10:10:43.902355",
     "exception": false,
     "start_time": "2022-06-08T10:10:43.836674",
     "status": "completed"
    },
    "tags": []
   },
   "outputs": [
    {
     "data": {
      "text/plain": [
       "((11982, 784), (1984, 784))"
      ]
     },
     "execution_count": 14,
     "metadata": {},
     "output_type": "execute_result"
    }
   ],
   "source": [
    "X_train = X_train.reshape(X_train.shape[0], -1)\n",
    "X_test = X_test.reshape(X_test.shape[0], -1)\n",
    "X_train.shape, X_test.shape"
   ]
  },
  {
   "cell_type": "code",
   "execution_count": 15,
   "id": "73c5f88a",
   "metadata": {
    "execution": {
     "iopub.execute_input": "2022-06-08T10:10:43.984453Z",
     "iopub.status.busy": "2022-06-08T10:10:43.983619Z",
     "iopub.status.idle": "2022-06-08T10:10:44.008229Z",
     "shell.execute_reply": "2022-06-08T10:10:44.007452Z"
    },
    "papermill": {
     "duration": 0.068858,
     "end_time": "2022-06-08T10:10:44.008374",
     "exception": false,
     "start_time": "2022-06-08T10:10:43.939516",
     "status": "completed"
    },
    "tags": []
   },
   "outputs": [],
   "source": [
    "#Impoting functions from 'Kudzu'\n",
    "from kudzu.model import Model\n",
    "from kudzu.train import Learner\n",
    "from kudzu.optim import GD\n",
    "from kudzu.data import Data, Sampler,Dataloader\n",
    "\n",
    "from kudzu.callbacks import AccCallback\n",
    "from kudzu.callbacks import ClfCallback\n",
    "\n",
    "from kudzu.loss import MSE\n",
    "\n",
    "from kudzu.layer import Sigmoid,Relu\n",
    "from kudzu.layer import Affine"
   ]
  },
  {
   "cell_type": "markdown",
   "id": "bc01172a",
   "metadata": {
    "papermill": {
     "duration": 0.036891,
     "end_time": "2022-06-08T10:10:44.082168",
     "exception": false,
     "start_time": "2022-06-08T10:10:44.045277",
     "status": "completed"
    },
    "tags": []
   },
   "source": [
    "### Let us create a `Config` class, to store important parameters. \n",
    "This class essentially plays the role of a dictionary."
   ]
  },
  {
   "cell_type": "code",
   "execution_count": 16,
   "id": "978281aa",
   "metadata": {
    "execution": {
     "iopub.execute_input": "2022-06-08T10:10:44.160169Z",
     "iopub.status.busy": "2022-06-08T10:10:44.159353Z",
     "iopub.status.idle": "2022-06-08T10:10:44.173401Z",
     "shell.execute_reply": "2022-06-08T10:10:44.172804Z"
    },
    "papermill": {
     "duration": 0.055741,
     "end_time": "2022-06-08T10:10:44.173537",
     "exception": false,
     "start_time": "2022-06-08T10:10:44.117796",
     "status": "completed"
    },
    "tags": []
   },
   "outputs": [],
   "source": [
    "class Config:\n",
    "    pass\n",
    "config = Config()\n",
    "config.lr = 0.001\n",
    "config.num_epochs = 250\n",
    "config.bs = 50"
   ]
  },
  {
   "cell_type": "markdown",
   "id": "1385fa59",
   "metadata": {
    "papermill": {
     "duration": 0.035336,
     "end_time": "2022-06-08T10:10:44.245458",
     "exception": false,
     "start_time": "2022-06-08T10:10:44.210122",
     "status": "completed"
    },
    "tags": []
   },
   "source": [
    "### Running Models with the Training data\n",
    "Details about the network layers:\n",
    "- A first affine layer has 784 inputs and does 100 affine transforms. These are followed by a Relu\n",
    "- A second affine layer has 100 inputs from the 100 activations of the past layer, and does 100 affine transforms. These are followed by a Relu\n",
    "- A third affine layer has 100 activations and does 2 affine transformations to create an embedding for visualization. There is no non-linearity here.\n",
    "- A final \"logistic regression\" which has an affine transform from 2 inputs to 1 output, which is squeezed through a sigmoid.\n"
   ]
  },
  {
   "cell_type": "code",
   "execution_count": 17,
   "id": "2b9c66db",
   "metadata": {
    "execution": {
     "iopub.execute_input": "2022-06-08T10:10:44.325090Z",
     "iopub.status.busy": "2022-06-08T10:10:44.324293Z",
     "iopub.status.idle": "2022-06-08T10:10:44.339231Z",
     "shell.execute_reply": "2022-06-08T10:10:44.338643Z"
    },
    "papermill": {
     "duration": 0.057078,
     "end_time": "2022-06-08T10:10:44.339368",
     "exception": false,
     "start_time": "2022-06-08T10:10:44.282290",
     "status": "completed"
    },
    "tags": []
   },
   "outputs": [],
   "source": [
    "data = Data(X_train, y_train.reshape(-1,1))\n",
    "sampler = Sampler(data, config.bs, shuffle=True)\n",
    "\n",
    "dl = Dataloader(data, sampler)\n",
    "\n",
    "opt = GD(config.lr)\n",
    "loss = MSE()"
   ]
  },
  {
   "cell_type": "code",
   "execution_count": 18,
   "id": "b275e4c2",
   "metadata": {
    "execution": {
     "iopub.execute_input": "2022-06-08T10:10:44.420728Z",
     "iopub.status.busy": "2022-06-08T10:10:44.419969Z",
     "iopub.status.idle": "2022-06-08T10:10:44.435126Z",
     "shell.execute_reply": "2022-06-08T10:10:44.434528Z"
    },
    "papermill": {
     "duration": 0.057512,
     "end_time": "2022-06-08T10:10:44.435249",
     "exception": false,
     "start_time": "2022-06-08T10:10:44.377737",
     "status": "completed"
    },
    "tags": []
   },
   "outputs": [],
   "source": [
    "training_data_x = X_train\n",
    "testing_data_x = X_test\n",
    "training_data_y = y_train.reshape(-1,1)\n",
    "testing_data_y = y_test.reshape(-1,1)"
   ]
  },
  {
   "cell_type": "code",
   "execution_count": 19,
   "id": "76951160",
   "metadata": {
    "execution": {
     "iopub.execute_input": "2022-06-08T10:10:44.524261Z",
     "iopub.status.busy": "2022-06-08T10:10:44.523176Z",
     "iopub.status.idle": "2022-06-08T10:10:44.543819Z",
     "shell.execute_reply": "2022-06-08T10:10:44.543171Z"
    },
    "papermill": {
     "duration": 0.062692,
     "end_time": "2022-06-08T10:10:44.543954",
     "exception": false,
     "start_time": "2022-06-08T10:10:44.481262",
     "status": "completed"
    },
    "tags": []
   },
   "outputs": [
    {
     "name": "stdout",
     "output_type": "stream",
     "text": [
      "xavier\n",
      "xavier\n",
      "xavier\n",
      "xavier\n",
      "xavier\n"
     ]
    }
   ],
   "source": [
    "layers = [Affine(\"first\", 784, 100), Relu(\"first\"), Affine(\"second\", 100, 100), Relu(\"second\"), Affine(\"third\", 100, 2), Affine(\"last\", 2, 1), Sigmoid(\"last\")]\n",
    "model_nn = Model(layers)\n",
    "model_lr = Model([Affine(\"logits\", 784, 1), Sigmoid(\"sigmoid\")])"
   ]
  },
  {
   "cell_type": "code",
   "execution_count": 20,
   "id": "6eede77a",
   "metadata": {
    "execution": {
     "iopub.execute_input": "2022-06-08T10:10:44.624049Z",
     "iopub.status.busy": "2022-06-08T10:10:44.623250Z",
     "iopub.status.idle": "2022-06-08T10:10:44.638728Z",
     "shell.execute_reply": "2022-06-08T10:10:44.638127Z"
    },
    "papermill": {
     "duration": 0.055768,
     "end_time": "2022-06-08T10:10:44.638858",
     "exception": false,
     "start_time": "2022-06-08T10:10:44.583090",
     "status": "completed"
    },
    "tags": []
   },
   "outputs": [],
   "source": [
    "nn_learner = Learner(loss, model_nn, opt, config.num_epochs)\n",
    "acc_nn = ClfCallback(nn_learner, config.bs, training_data_x , testing_data_x, training_data_y, testing_data_y)\n",
    "nn_learner.set_callbacks([acc_nn])"
   ]
  },
  {
   "cell_type": "code",
   "execution_count": 21,
   "id": "877b6cc7",
   "metadata": {
    "execution": {
     "iopub.execute_input": "2022-06-08T10:10:44.721602Z",
     "iopub.status.busy": "2022-06-08T10:10:44.720702Z",
     "iopub.status.idle": "2022-06-08T10:10:44.735724Z",
     "shell.execute_reply": "2022-06-08T10:10:44.736492Z"
    },
    "papermill": {
     "duration": 0.058348,
     "end_time": "2022-06-08T10:10:44.736643",
     "exception": false,
     "start_time": "2022-06-08T10:10:44.678295",
     "status": "completed"
    },
    "tags": []
   },
   "outputs": [],
   "source": [
    "lr_learner = Learner(loss, model_lr, opt, config.num_epochs)\n",
    "acc_lr = ClfCallback(lr_learner, config.bs, training_data_x , testing_data_x, training_data_y, testing_data_y)\n",
    "lr_learner.set_callbacks([acc_lr])"
   ]
  },
  {
   "cell_type": "code",
   "execution_count": 22,
   "id": "d9b133c3",
   "metadata": {
    "execution": {
     "iopub.execute_input": "2022-06-08T10:10:44.817362Z",
     "iopub.status.busy": "2022-06-08T10:10:44.816538Z",
     "iopub.status.idle": "2022-06-08T10:13:12.232458Z",
     "shell.execute_reply": "2022-06-08T10:13:12.233486Z"
    },
    "papermill": {
     "duration": 147.459406,
     "end_time": "2022-06-08T10:13:12.233660",
     "exception": false,
     "start_time": "2022-06-08T10:10:44.774254",
     "status": "completed"
    },
    "tags": []
   },
   "outputs": [
    {
     "name": "stdout",
     "output_type": "stream",
     "text": [
      "Epoch 0, Loss 0.2299\n",
      "Training Accuracy: 0.7548, Testing Accuracy: 0.7717\n",
      "\n"
     ]
    },
    {
     "name": "stdout",
     "output_type": "stream",
     "text": [
      "Epoch 10, Loss 0.0717\n",
      "Training Accuracy: 0.9326, Testing Accuracy: 0.9375\n",
      "\n"
     ]
    },
    {
     "name": "stdout",
     "output_type": "stream",
     "text": [
      "Epoch 20, Loss 0.0484\n",
      "Training Accuracy: 0.9490, Testing Accuracy: 0.9556\n",
      "\n"
     ]
    },
    {
     "name": "stdout",
     "output_type": "stream",
     "text": [
      "Epoch 30, Loss 0.0399\n",
      "Training Accuracy: 0.9559, Testing Accuracy: 0.9612\n",
      "\n"
     ]
    },
    {
     "name": "stdout",
     "output_type": "stream",
     "text": [
      "Epoch 40, Loss 0.0354\n",
      "Training Accuracy: 0.9590, Testing Accuracy: 0.9632\n",
      "\n"
     ]
    },
    {
     "name": "stdout",
     "output_type": "stream",
     "text": [
      "Epoch 50, Loss 0.0325\n",
      "Training Accuracy: 0.9620, Testing Accuracy: 0.9662\n",
      "\n"
     ]
    },
    {
     "name": "stdout",
     "output_type": "stream",
     "text": [
      "Epoch 60, Loss 0.0304\n",
      "Training Accuracy: 0.9649, Testing Accuracy: 0.9682\n",
      "\n"
     ]
    },
    {
     "name": "stdout",
     "output_type": "stream",
     "text": [
      "Epoch 70, Loss 0.0288\n",
      "Training Accuracy: 0.9665, Testing Accuracy: 0.9688\n",
      "\n"
     ]
    },
    {
     "name": "stdout",
     "output_type": "stream",
     "text": [
      "Epoch 80, Loss 0.0275\n",
      "Training Accuracy: 0.9682, Testing Accuracy: 0.9693\n",
      "\n"
     ]
    },
    {
     "name": "stdout",
     "output_type": "stream",
     "text": [
      "Epoch 90, Loss 0.0263\n",
      "Training Accuracy: 0.9695, Testing Accuracy: 0.9708\n",
      "\n"
     ]
    },
    {
     "name": "stdout",
     "output_type": "stream",
     "text": [
      "Epoch 100, Loss 0.0254\n",
      "Training Accuracy: 0.9705, Testing Accuracy: 0.9708\n",
      "\n"
     ]
    },
    {
     "name": "stdout",
     "output_type": "stream",
     "text": [
      "Epoch 110, Loss 0.0245\n",
      "Training Accuracy: 0.9717, Testing Accuracy: 0.9713\n",
      "\n"
     ]
    },
    {
     "name": "stdout",
     "output_type": "stream",
     "text": [
      "Epoch 120, Loss 0.0237\n",
      "Training Accuracy: 0.9725, Testing Accuracy: 0.9708\n",
      "\n"
     ]
    },
    {
     "name": "stdout",
     "output_type": "stream",
     "text": [
      "Epoch 130, Loss 0.023\n",
      "Training Accuracy: 0.9737, Testing Accuracy: 0.9708\n",
      "\n"
     ]
    },
    {
     "name": "stdout",
     "output_type": "stream",
     "text": [
      "Epoch 140, Loss 0.0223\n",
      "Training Accuracy: 0.9745, Testing Accuracy: 0.9718\n",
      "\n"
     ]
    },
    {
     "name": "stdout",
     "output_type": "stream",
     "text": [
      "Epoch 150, Loss 0.0217\n",
      "Training Accuracy: 0.9757, Testing Accuracy: 0.9718\n",
      "\n"
     ]
    },
    {
     "name": "stdout",
     "output_type": "stream",
     "text": [
      "Epoch 160, Loss 0.0212\n",
      "Training Accuracy: 0.9767, Testing Accuracy: 0.9718\n",
      "\n"
     ]
    },
    {
     "name": "stdout",
     "output_type": "stream",
     "text": [
      "Epoch 170, Loss 0.0206\n",
      "Training Accuracy: 0.9776, Testing Accuracy: 0.9728\n",
      "\n"
     ]
    },
    {
     "name": "stdout",
     "output_type": "stream",
     "text": [
      "Epoch 180, Loss 0.0201\n",
      "Training Accuracy: 0.9781, Testing Accuracy: 0.9733\n",
      "\n"
     ]
    },
    {
     "name": "stdout",
     "output_type": "stream",
     "text": [
      "Epoch 190, Loss 0.0196\n",
      "Training Accuracy: 0.9788, Testing Accuracy: 0.9738\n",
      "\n"
     ]
    },
    {
     "name": "stdout",
     "output_type": "stream",
     "text": [
      "Epoch 200, Loss 0.0191\n",
      "Training Accuracy: 0.9796, Testing Accuracy: 0.9743\n",
      "\n"
     ]
    },
    {
     "name": "stdout",
     "output_type": "stream",
     "text": [
      "Epoch 210, Loss 0.0187\n",
      "Training Accuracy: 0.9801, Testing Accuracy: 0.9748\n",
      "\n"
     ]
    },
    {
     "name": "stdout",
     "output_type": "stream",
     "text": [
      "Epoch 220, Loss 0.0182\n",
      "Training Accuracy: 0.9806, Testing Accuracy: 0.9748\n",
      "\n"
     ]
    },
    {
     "name": "stdout",
     "output_type": "stream",
     "text": [
      "Epoch 230, Loss 0.0178\n",
      "Training Accuracy: 0.9813, Testing Accuracy: 0.9748\n",
      "\n"
     ]
    },
    {
     "name": "stdout",
     "output_type": "stream",
     "text": [
      "Epoch 240, Loss 0.0174\n",
      "Training Accuracy: 0.9819, Testing Accuracy: 0.9748\n",
      "\n"
     ]
    },
    {
     "data": {
      "text/plain": [
       "0.01591731450291175"
      ]
     },
     "execution_count": 22,
     "metadata": {},
     "output_type": "execute_result"
    }
   ],
   "source": [
    "nn_learner.train_loop(dl)"
   ]
  },
  {
   "cell_type": "code",
   "execution_count": 23,
   "id": "e0163366",
   "metadata": {
    "execution": {
     "iopub.execute_input": "2022-06-08T10:13:12.342617Z",
     "iopub.status.busy": "2022-06-08T10:13:12.341766Z",
     "iopub.status.idle": "2022-06-08T10:13:33.332205Z",
     "shell.execute_reply": "2022-06-08T10:13:33.333235Z"
    },
    "papermill": {
     "duration": 21.050345,
     "end_time": "2022-06-08T10:13:33.333398",
     "exception": false,
     "start_time": "2022-06-08T10:13:12.283053",
     "status": "completed"
    },
    "tags": []
   },
   "outputs": [
    {
     "name": "stdout",
     "output_type": "stream",
     "text": [
      "Epoch 0, Loss 0.222\n",
      "Training Accuracy: 0.7491, Testing Accuracy: 0.7576\n",
      "\n"
     ]
    },
    {
     "name": "stdout",
     "output_type": "stream",
     "text": [
      "Epoch 10, Loss 0.1043\n",
      "Training Accuracy: 0.9019, Testing Accuracy: 0.9073\n",
      "\n"
     ]
    },
    {
     "name": "stdout",
     "output_type": "stream",
     "text": [
      "Epoch 20, Loss 0.0807\n",
      "Training Accuracy: 0.9237, Testing Accuracy: 0.9299\n",
      "\n"
     ]
    },
    {
     "name": "stdout",
     "output_type": "stream",
     "text": [
      "Epoch 30, Loss 0.0695\n",
      "Training Accuracy: 0.9340, Testing Accuracy: 0.9395\n",
      "\n"
     ]
    },
    {
     "name": "stdout",
     "output_type": "stream",
     "text": [
      "Epoch 40, Loss 0.0627\n",
      "Training Accuracy: 0.9394, Testing Accuracy: 0.9441\n",
      "\n"
     ]
    },
    {
     "name": "stdout",
     "output_type": "stream",
     "text": [
      "Epoch 50, Loss 0.058\n",
      "Training Accuracy: 0.9423, Testing Accuracy: 0.9496\n",
      "\n"
     ]
    },
    {
     "name": "stdout",
     "output_type": "stream",
     "text": [
      "Epoch 60, Loss 0.0546\n",
      "Training Accuracy: 0.9453, Testing Accuracy: 0.9536\n",
      "\n"
     ]
    },
    {
     "name": "stdout",
     "output_type": "stream",
     "text": [
      "Epoch 70, Loss 0.052\n",
      "Training Accuracy: 0.9476, Testing Accuracy: 0.9556\n",
      "\n"
     ]
    },
    {
     "name": "stdout",
     "output_type": "stream",
     "text": [
      "Epoch 80, Loss 0.0498\n",
      "Training Accuracy: 0.9492, Testing Accuracy: 0.9567\n",
      "\n"
     ]
    },
    {
     "name": "stdout",
     "output_type": "stream",
     "text": [
      "Epoch 90, Loss 0.0481\n",
      "Training Accuracy: 0.9501, Testing Accuracy: 0.9572\n",
      "\n"
     ]
    },
    {
     "name": "stdout",
     "output_type": "stream",
     "text": [
      "Epoch 100, Loss 0.0466\n",
      "Training Accuracy: 0.9513, Testing Accuracy: 0.9602\n",
      "\n"
     ]
    },
    {
     "name": "stdout",
     "output_type": "stream",
     "text": [
      "Epoch 110, Loss 0.0454\n",
      "Training Accuracy: 0.9523, Testing Accuracy: 0.9612\n",
      "\n"
     ]
    },
    {
     "name": "stdout",
     "output_type": "stream",
     "text": [
      "Epoch 120, Loss 0.0443\n",
      "Training Accuracy: 0.9530, Testing Accuracy: 0.9612\n",
      "\n"
     ]
    },
    {
     "name": "stdout",
     "output_type": "stream",
     "text": [
      "Epoch 130, Loss 0.0433\n",
      "Training Accuracy: 0.9539, Testing Accuracy: 0.9612\n",
      "\n"
     ]
    },
    {
     "name": "stdout",
     "output_type": "stream",
     "text": [
      "Epoch 140, Loss 0.0424\n",
      "Training Accuracy: 0.9546, Testing Accuracy: 0.9622\n",
      "\n"
     ]
    },
    {
     "name": "stdout",
     "output_type": "stream",
     "text": [
      "Epoch 150, Loss 0.0417\n",
      "Training Accuracy: 0.9553, Testing Accuracy: 0.9627\n",
      "\n"
     ]
    },
    {
     "name": "stdout",
     "output_type": "stream",
     "text": [
      "Epoch 160, Loss 0.041\n",
      "Training Accuracy: 0.9560, Testing Accuracy: 0.9627\n",
      "\n"
     ]
    },
    {
     "name": "stdout",
     "output_type": "stream",
     "text": [
      "Epoch 170, Loss 0.0404\n",
      "Training Accuracy: 0.9564, Testing Accuracy: 0.9627\n",
      "\n"
     ]
    },
    {
     "name": "stdout",
     "output_type": "stream",
     "text": [
      "Epoch 180, Loss 0.0398\n",
      "Training Accuracy: 0.9573, Testing Accuracy: 0.9637\n",
      "\n"
     ]
    },
    {
     "name": "stdout",
     "output_type": "stream",
     "text": [
      "Epoch 190, Loss 0.0392\n",
      "Training Accuracy: 0.9579, Testing Accuracy: 0.9637\n",
      "\n"
     ]
    },
    {
     "name": "stdout",
     "output_type": "stream",
     "text": [
      "Epoch 200, Loss 0.0388\n",
      "Training Accuracy: 0.9583, Testing Accuracy: 0.9632\n",
      "\n"
     ]
    },
    {
     "name": "stdout",
     "output_type": "stream",
     "text": [
      "Epoch 210, Loss 0.0383\n",
      "Training Accuracy: 0.9585, Testing Accuracy: 0.9637\n",
      "\n"
     ]
    },
    {
     "name": "stdout",
     "output_type": "stream",
     "text": [
      "Epoch 220, Loss 0.0379\n",
      "Training Accuracy: 0.9591, Testing Accuracy: 0.9637\n",
      "\n"
     ]
    },
    {
     "name": "stdout",
     "output_type": "stream",
     "text": [
      "Epoch 230, Loss 0.0375\n",
      "Training Accuracy: 0.9594, Testing Accuracy: 0.9637\n",
      "\n"
     ]
    },
    {
     "name": "stdout",
     "output_type": "stream",
     "text": [
      "Epoch 240, Loss 0.0371\n",
      "Training Accuracy: 0.9595, Testing Accuracy: 0.9637\n",
      "\n"
     ]
    },
    {
     "data": {
      "text/plain": [
       "0.039902779549162284"
      ]
     },
     "execution_count": 23,
     "metadata": {},
     "output_type": "execute_result"
    }
   ],
   "source": [
    "lr_learner.train_loop(dl)"
   ]
  },
  {
   "cell_type": "code",
   "execution_count": 24,
   "id": "ca410940",
   "metadata": {
    "execution": {
     "iopub.execute_input": "2022-06-08T10:13:33.453191Z",
     "iopub.status.busy": "2022-06-08T10:13:33.452317Z",
     "iopub.status.idle": "2022-06-08T10:13:33.770703Z",
     "shell.execute_reply": "2022-06-08T10:13:33.771441Z"
    },
    "papermill": {
     "duration": 0.382197,
     "end_time": "2022-06-08T10:13:33.771618",
     "exception": false,
     "start_time": "2022-06-08T10:13:33.389421",
     "status": "completed"
    },
    "tags": []
   },
   "outputs": [
    {
     "data": {
      "text/plain": [
       "<matplotlib.legend.Legend at 0x7f27100549e8>"
      ]
     },
     "execution_count": 24,
     "metadata": {},
     "output_type": "execute_result"
    },
    {
     "data": {
      "image/png": "[encoded data removed]",
      "text/plain": [
       "<Figure size 1080x720 with 1 Axes>"
      ]
     },
     "metadata": {
      "needs_background": "light"
     },
     "output_type": "display_data"
    }
   ],
   "source": [
    "#comparing the results of NN and LR\n",
    "plt.figure(figsize=(15,10))\n",
    "\n",
    "# Neural Network plots\n",
    "plt.plot(acc_nn.accuracies, 'r-', label = \"Training Accuracies - NN\")\n",
    "plt.plot(acc_nn.test_accuracies, 'g-', label = \"Testing Accuracies - NN\")\n",
    "\n",
    "# Logistic Regression plots\n",
    "plt.plot(acc_lr.accuracies, 'k-', label = \"Training Accuracies - LR\")\n",
    "plt.plot(acc_lr.test_accuracies, 'b-', label = \"Testing Accuracies - LR\")\n",
    "plt.legend()"
   ]
  },
  {
   "cell_type": "markdown",
   "id": "80dfb35c",
   "metadata": {
    "papermill": {
     "duration": 0.055332,
     "end_time": "2022-06-08T10:13:33.887422",
     "exception": false,
     "start_time": "2022-06-08T10:13:33.832090",
     "status": "completed"
    },
    "tags": []
   },
   "source": [
    "#### Plotting the outputs of this layer of the NN.\n"
   ]
  },
  {
   "cell_type": "code",
   "execution_count": 25,
   "id": "45eb2ff5",
   "metadata": {
    "execution": {
     "iopub.execute_input": "2022-06-08T10:13:34.008220Z",
     "iopub.status.busy": "2022-06-08T10:13:34.007292Z",
     "iopub.status.idle": "2022-06-08T10:13:34.038357Z",
     "shell.execute_reply": "2022-06-08T10:13:34.038988Z"
    },
    "papermill": {
     "duration": 0.09454,
     "end_time": "2022-06-08T10:13:34.039159",
     "exception": false,
     "start_time": "2022-06-08T10:13:33.944619",
     "status": "completed"
    },
    "tags": []
   },
   "outputs": [],
   "source": [
    "new_model = Model(layers[:-2])\n",
    "testing_plot = new_model(testing_data_x)"
   ]
  },
  {
   "cell_type": "code",
   "execution_count": 26,
   "id": "4c0a5485",
   "metadata": {
    "execution": {
     "iopub.execute_input": "2022-06-08T10:13:34.161060Z",
     "iopub.status.busy": "2022-06-08T10:13:34.160340Z",
     "iopub.status.idle": "2022-06-08T10:13:34.438467Z",
     "shell.execute_reply": "2022-06-08T10:13:34.437755Z"
    },
    "papermill": {
     "duration": 0.3399,
     "end_time": "2022-06-08T10:13:34.438607",
     "exception": false,
     "start_time": "2022-06-08T10:13:34.098707",
     "status": "completed"
    },
    "tags": []
   },
   "outputs": [
    {
     "data": {
      "text/plain": [
       "Text(0.5, 1.0, 'Outputs')"
      ]
     },
     "execution_count": 26,
     "metadata": {},
     "output_type": "execute_result"
    },
    {
     "data": {
      "image/png": "[encoded data removed]",
      "text/plain": [
       "<Figure size 576x504 with 1 Axes>"
      ]
     },
     "metadata": {
      "needs_background": "light"
     },
     "output_type": "display_data"
    }
   ],
   "source": [
    "# Plotting the scatter plot of points and color coding by class\n",
    "plt.figure(figsize=(8,7))\n",
    "plt.scatter(testing_plot[:,0], testing_plot[:,1], alpha = 0.1, c = y_test.ravel());\n",
    "plt.title('Outputs')"
   ]
  },
  {
   "cell_type": "markdown",
   "id": "a74fcf8f",
   "metadata": {
    "papermill": {
     "duration": 0.084127,
     "end_time": "2022-06-08T10:13:34.582949",
     "exception": false,
     "start_time": "2022-06-08T10:13:34.498822",
     "status": "completed"
    },
    "tags": []
   },
   "source": [
    "Probability contours"
   ]
  },
  {
   "cell_type": "code",
   "execution_count": 27,
   "id": "d0afc8e3",
   "metadata": {
    "execution": {
     "iopub.execute_input": "2022-06-08T10:13:34.710078Z",
     "iopub.status.busy": "2022-06-08T10:13:34.709275Z",
     "iopub.status.idle": "2022-06-08T10:13:34.725305Z",
     "shell.execute_reply": "2022-06-08T10:13:34.724559Z"
    },
    "papermill": {
     "duration": 0.083461,
     "end_time": "2022-06-08T10:13:34.725461",
     "exception": false,
     "start_time": "2022-06-08T10:13:34.642000",
     "status": "completed"
    },
    "tags": []
   },
   "outputs": [],
   "source": [
    "model_prob = Model(layers[-2:]) "
   ]
  },
  {
   "cell_type": "code",
   "execution_count": 28,
   "id": "9b96e238",
   "metadata": {
    "execution": {
     "iopub.execute_input": "2022-06-08T10:13:34.856231Z",
     "iopub.status.busy": "2022-06-08T10:13:34.855393Z",
     "iopub.status.idle": "2022-06-08T10:13:34.872106Z",
     "shell.execute_reply": "2022-06-08T10:13:34.872732Z"
    },
    "papermill": {
     "duration": 0.084068,
     "end_time": "2022-06-08T10:13:34.872896",
     "exception": false,
     "start_time": "2022-06-08T10:13:34.788828",
     "status": "completed"
    },
    "tags": []
   },
   "outputs": [],
   "source": [
    "#creating the x and y ranges according to the above generated plot.\n",
    "x_range = np.linspace(-4, 1, 100) \n",
    "y_range = np.linspace(-6, 6, 100) \n",
    "x_grid, y_grid = np.meshgrid(x_range, y_range) # x_grid and y_grig are of size 100 X 100\n",
    "\n",
    "# converting x_grid and y_grid to continuous arrays\n",
    "x_gridflat = np.ravel(x_grid)\n",
    "y_gridflat = np.ravel(y_grid)\n",
    "\n",
    "# The last layer of the current model takes two columns as input. Hence transpose of np.vstack() is required.\n",
    "X = np.vstack((x_gridflat, y_gridflat)).T\n",
    "\n",
    "prob_contour = model_prob(X).reshape(100,100) "
   ]
  },
  {
   "cell_type": "code",
   "execution_count": 29,
   "id": "da72499a",
   "metadata": {
    "execution": {
     "iopub.execute_input": "2022-06-08T10:13:35.000133Z",
     "iopub.status.busy": "2022-06-08T10:13:34.999376Z",
     "iopub.status.idle": "2022-06-08T10:13:35.342115Z",
     "shell.execute_reply": "2022-06-08T10:13:35.342746Z"
    },
    "papermill": {
     "duration": 0.408174,
     "end_time": "2022-06-08T10:13:35.342948",
     "exception": false,
     "start_time": "2022-06-08T10:13:34.934774",
     "status": "completed"
    },
    "tags": []
   },
   "outputs": [
    {
     "data": {
      "image/png": "[encoded data removed]",
      "text/plain": [
       "<Figure size 720x648 with 1 Axes>"
      ]
     },
     "metadata": {
      "needs_background": "light"
     },
     "output_type": "display_data"
    }
   ],
   "source": [
    "plt.figure(figsize=(10,9))\n",
    "plt.scatter(testing_plot[:,0], testing_plot[:,1], alpha = 0.1, c = y_test.ravel())\n",
    "contours = plt.contour(x_grid,y_grid,prob_contour)\n",
    "plt.title('Probability Contours')\n",
    "plt.clabel(contours, inline = True );"
   ]
  },
  {
   "cell_type": "code",
   "execution_count": null,
   "id": "e81b4ac7",
   "metadata": {
    "papermill": {
     "duration": 0.060559,
     "end_time": "2022-06-08T10:13:35.463328",
     "exception": false,
     "start_time": "2022-06-08T10:13:35.402769",
     "status": "completed"
    },
    "tags": []
   },
   "outputs": [],
   "source": []
  }
 ],
 "metadata": {
  "kernelspec": {
   "display_name": "Python 3",
   "language": "python",
   "name": "python3"
  },
  "language_info": {
   "codemirror_mode": {
    "name": "ipython",
    "version": 3
   },
   "file_extension": ".py",
   "mimetype": "text/x-python",
   "name": "python",
   "nbconvert_exporter": "python",
   "pygments_lexer": "ipython3",
   "version": "3.6.15"
  },
  "papermill": {
   "default_parameters": {},
   "duration": 179.200979,
   "end_time": "2022-06-08T10:13:35.949872",
   "environment_variables": {},
   "exception": null,
   "input_path": "2020-08-11-part2.ipynb",
   "output_path": "2020-08-11-part2.ipynb",
   "parameters": {},
   "start_time": "2022-06-08T10:10:36.748893",
   "version": "2.3.3"
  }
 },
 "nbformat": 4,
 "nbformat_minor": 5
}