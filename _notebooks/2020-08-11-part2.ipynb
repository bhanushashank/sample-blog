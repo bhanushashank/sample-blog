{
 "cells": [
  {
   "cell_type": "markdown",
   "id": "98380cd3",
   "metadata": {
    "papermill": {
     "duration": 0.027709,
     "end_time": "2021-12-12T20:09:12.661090",
     "exception": false,
     "start_time": "2021-12-12T20:09:12.633381",
     "status": "completed"
    },
    "tags": []
   },
   "source": [
    "# Distinguish Your Own Digits (DYOD)"
   ]
  },
  {
   "cell_type": "markdown",
   "id": "ef31240d",
   "metadata": {
    "papermill": {
     "duration": 0.023876,
     "end_time": "2021-12-12T20:09:12.709409",
     "exception": false,
     "start_time": "2021-12-12T20:09:12.685533",
     "status": "completed"
    },
    "tags": []
   },
   "source": [
    "You are going to write a classifier that distinguishes between the number 3 and number 8."
   ]
  },
  {
   "cell_type": "code",
   "execution_count": 1,
   "id": "b15c8646",
   "metadata": {
    "execution": {
     "iopub.execute_input": "2021-12-12T20:09:12.769012Z",
     "iopub.status.busy": "2021-12-12T20:09:12.768486Z",
     "iopub.status.idle": "2021-12-12T20:09:12.778846Z",
     "shell.execute_reply": "2021-12-12T20:09:12.778399Z"
    },
    "papermill": {
     "duration": 0.045782,
     "end_time": "2021-12-12T20:09:12.778974",
     "exception": false,
     "start_time": "2021-12-12T20:09:12.733192",
     "status": "completed"
    },
    "tags": []
   },
   "outputs": [],
   "source": [
    "%load_ext autoreload\n",
    "%autoreload 2"
   ]
  },
  {
   "cell_type": "code",
   "execution_count": 2,
   "id": "22ef38dc",
   "metadata": {
    "execution": {
     "iopub.execute_input": "2021-12-12T20:09:12.830444Z",
     "iopub.status.busy": "2021-12-12T20:09:12.829909Z",
     "iopub.status.idle": "2021-12-12T20:09:13.398051Z",
     "shell.execute_reply": "2021-12-12T20:09:13.397524Z"
    },
    "papermill": {
     "duration": 0.595107,
     "end_time": "2021-12-12T20:09:13.398183",
     "exception": false,
     "start_time": "2021-12-12T20:09:12.803076",
     "status": "completed"
    },
    "tags": []
   },
   "outputs": [],
   "source": [
    "%matplotlib inline\n",
    "import numpy as np\n",
    "import matplotlib.pyplot as plt\n",
    "import pandas as pd"
   ]
  },
  {
   "cell_type": "markdown",
   "id": "ba036198",
   "metadata": {
    "papermill": {
     "duration": 0.023914,
     "end_time": "2021-12-12T20:09:13.446225",
     "exception": false,
     "start_time": "2021-12-12T20:09:13.422311",
     "status": "completed"
    },
    "tags": []
   },
   "source": [
    "From the command line run `pip install mnist`. This is a library that will help you bring down the mnist dataset. If you run this from a notebook, you need to put  `!pip install mnist` in a cell by itself."
   ]
  },
  {
   "cell_type": "code",
   "execution_count": 3,
   "id": "bb6ad8a1",
   "metadata": {
    "execution": {
     "iopub.execute_input": "2021-12-12T20:09:13.503053Z",
     "iopub.status.busy": "2021-12-12T20:09:13.502498Z",
     "iopub.status.idle": "2021-12-12T20:09:15.228170Z",
     "shell.execute_reply": "2021-12-12T20:09:15.228692Z"
    },
    "papermill": {
     "duration": 1.758704,
     "end_time": "2021-12-12T20:09:15.228852",
     "exception": false,
     "start_time": "2021-12-12T20:09:13.470148",
     "status": "completed"
    },
    "tags": []
   },
   "outputs": [
    {
     "name": "stdout",
     "output_type": "stream",
     "text": [
      "Collecting mnist\r\n"
     ]
    },
    {
     "name": "stdout",
     "output_type": "stream",
     "text": [
      "  Downloading mnist-0.2.2-py2.py3-none-any.whl (3.5 kB)\r\n",
      "Requirement already satisfied: numpy in /opt/hostedtoolcache/Python/3.6.15/x64/lib/python3.6/site-packages (from mnist) (1.19.5)\r\n"
     ]
    },
    {
     "name": "stdout",
     "output_type": "stream",
     "text": [
      "Installing collected packages: mnist\r\n",
      "Successfully installed mnist-0.2.2\r\n"
     ]
    }
   ],
   "source": [
    "!pip install mnist"
   ]
  },
  {
   "cell_type": "markdown",
   "id": "69df9c9a",
   "metadata": {
    "papermill": {
     "duration": 0.024732,
     "end_time": "2021-12-12T20:09:15.278693",
     "exception": false,
     "start_time": "2021-12-12T20:09:15.253961",
     "status": "completed"
    },
    "tags": []
   },
   "source": [
    "## Preparing the Data"
   ]
  },
  {
   "cell_type": "code",
   "execution_count": 4,
   "id": "7f69d806",
   "metadata": {
    "execution": {
     "iopub.execute_input": "2021-12-12T20:09:15.332658Z",
     "iopub.status.busy": "2021-12-12T20:09:15.332135Z",
     "iopub.status.idle": "2021-12-12T20:09:15.345715Z",
     "shell.execute_reply": "2021-12-12T20:09:15.345251Z"
    },
    "papermill": {
     "duration": 0.042334,
     "end_time": "2021-12-12T20:09:15.345833",
     "exception": false,
     "start_time": "2021-12-12T20:09:15.303499",
     "status": "completed"
    },
    "tags": []
   },
   "outputs": [],
   "source": [
    "import mnist"
   ]
  },
  {
   "cell_type": "code",
   "execution_count": 5,
   "id": "a411e44f",
   "metadata": {
    "execution": {
     "iopub.execute_input": "2021-12-12T20:09:15.407037Z",
     "iopub.status.busy": "2021-12-12T20:09:15.406499Z",
     "iopub.status.idle": "2021-12-12T20:09:16.074678Z",
     "shell.execute_reply": "2021-12-12T20:09:16.074163Z"
    },
    "papermill": {
     "duration": 0.703896,
     "end_time": "2021-12-12T20:09:16.074803",
     "exception": false,
     "start_time": "2021-12-12T20:09:15.370907",
     "status": "completed"
    },
    "tags": []
   },
   "outputs": [],
   "source": [
    "train_images = mnist.train_images()\n",
    "train_labels = mnist.train_labels()"
   ]
  },
  {
   "cell_type": "code",
   "execution_count": 6,
   "id": "dceab3a5",
   "metadata": {
    "execution": {
     "iopub.execute_input": "2021-12-12T20:09:16.130220Z",
     "iopub.status.busy": "2021-12-12T20:09:16.129654Z",
     "iopub.status.idle": "2021-12-12T20:09:16.142406Z",
     "shell.execute_reply": "2021-12-12T20:09:16.142885Z"
    },
    "papermill": {
     "duration": 0.043168,
     "end_time": "2021-12-12T20:09:16.143016",
     "exception": false,
     "start_time": "2021-12-12T20:09:16.099848",
     "status": "completed"
    },
    "tags": []
   },
   "outputs": [
    {
     "data": {
      "text/plain": [
       "((60000, 28, 28), (60000,))"
      ]
     },
     "execution_count": 6,
     "metadata": {},
     "output_type": "execute_result"
    }
   ],
   "source": [
    "train_images.shape, train_labels.shape"
   ]
  },
  {
   "cell_type": "code",
   "execution_count": 7,
   "id": "f50dc2bb",
   "metadata": {
    "execution": {
     "iopub.execute_input": "2021-12-12T20:09:16.196128Z",
     "iopub.status.busy": "2021-12-12T20:09:16.195613Z",
     "iopub.status.idle": "2021-12-12T20:09:16.398895Z",
     "shell.execute_reply": "2021-12-12T20:09:16.398408Z"
    },
    "papermill": {
     "duration": 0.231086,
     "end_time": "2021-12-12T20:09:16.399024",
     "exception": false,
     "start_time": "2021-12-12T20:09:16.167938",
     "status": "completed"
    },
    "tags": []
   },
   "outputs": [],
   "source": [
    "test_images = mnist.test_images()\n",
    "test_labels = mnist.test_labels()"
   ]
  },
  {
   "cell_type": "code",
   "execution_count": 8,
   "id": "fc38cf1b",
   "metadata": {
    "execution": {
     "iopub.execute_input": "2021-12-12T20:09:16.466425Z",
     "iopub.status.busy": "2021-12-12T20:09:16.462452Z",
     "iopub.status.idle": "2021-12-12T20:09:16.469335Z",
     "shell.execute_reply": "2021-12-12T20:09:16.468918Z"
    },
    "papermill": {
     "duration": 0.045103,
     "end_time": "2021-12-12T20:09:16.469450",
     "exception": false,
     "start_time": "2021-12-12T20:09:16.424347",
     "status": "completed"
    },
    "tags": []
   },
   "outputs": [
    {
     "data": {
      "text/plain": [
       "((10000, 28, 28), (10000,))"
      ]
     },
     "execution_count": 8,
     "metadata": {},
     "output_type": "execute_result"
    }
   ],
   "source": [
    "test_images.shape, test_labels.shape"
   ]
  },
  {
   "cell_type": "code",
   "execution_count": 9,
   "id": "f9ed8fe0",
   "metadata": {
    "execution": {
     "iopub.execute_input": "2021-12-12T20:09:16.523636Z",
     "iopub.status.busy": "2021-12-12T20:09:16.523124Z",
     "iopub.status.idle": "2021-12-12T20:09:16.659926Z",
     "shell.execute_reply": "2021-12-12T20:09:16.660403Z"
    },
    "papermill": {
     "duration": 0.165836,
     "end_time": "2021-12-12T20:09:16.660552",
     "exception": false,
     "start_time": "2021-12-12T20:09:16.494716",
     "status": "completed"
    },
    "tags": []
   },
   "outputs": [
    {
     "name": "stdout",
     "output_type": "stream",
     "text": [
      "2\n"
     ]
    },
    {
     "data": {
      "text/plain": [
       "<matplotlib.image.AxesImage at 0x7f7c5bf039b0>"
      ]
     },
     "execution_count": 9,
     "metadata": {},
     "output_type": "execute_result"
    },
    {
     "data": {
      "image/png": "[encoded data removed]",
      "text/plain": [
       "<Figure size 432x288 with 1 Axes>"
      ]
     },
     "metadata": {
      "needs_background": "light"
     },
     "output_type": "display_data"
    }
   ],
   "source": [
    "image_index = 7776 # You may select anything up to 60,000\n",
    "print(train_labels[image_index]) \n",
    "plt.imshow(train_images[image_index], cmap='Greys')"
   ]
  },
  {
   "cell_type": "markdown",
   "id": "a8d2388d",
   "metadata": {
    "papermill": {
     "duration": 0.026369,
     "end_time": "2021-12-12T20:09:16.714096",
     "exception": false,
     "start_time": "2021-12-12T20:09:16.687727",
     "status": "completed"
    },
    "tags": []
   },
   "source": [
    "## Filter data to get 3 and 8 out"
   ]
  },
  {
   "cell_type": "code",
   "execution_count": 10,
   "id": "776f7fc7",
   "metadata": {
    "execution": {
     "iopub.execute_input": "2021-12-12T20:09:16.771197Z",
     "iopub.status.busy": "2021-12-12T20:09:16.770666Z",
     "iopub.status.idle": "2021-12-12T20:09:16.785134Z",
     "shell.execute_reply": "2021-12-12T20:09:16.784715Z"
    },
    "papermill": {
     "duration": 0.044831,
     "end_time": "2021-12-12T20:09:16.785246",
     "exception": false,
     "start_time": "2021-12-12T20:09:16.740415",
     "status": "completed"
    },
    "tags": []
   },
   "outputs": [],
   "source": [
    "train_filter = np.where((train_labels == 3 ) | (train_labels == 8))\n",
    "test_filter = np.where((test_labels == 3) | (test_labels == 8))\n",
    "X_train, y_train = train_images[train_filter], train_labels[train_filter]\n",
    "X_test, y_test = test_images[test_filter], test_labels[test_filter]"
   ]
  },
  {
   "cell_type": "markdown",
   "id": "948f0b7e",
   "metadata": {
    "papermill": {
     "duration": 0.026341,
     "end_time": "2021-12-12T20:09:16.838006",
     "exception": false,
     "start_time": "2021-12-12T20:09:16.811665",
     "status": "completed"
    },
    "tags": []
   },
   "source": [
    "We normalize the pizel values in the 0 to 1 range"
   ]
  },
  {
   "cell_type": "code",
   "execution_count": 11,
   "id": "ee4c2166",
   "metadata": {
    "execution": {
     "iopub.execute_input": "2021-12-12T20:09:16.898983Z",
     "iopub.status.busy": "2021-12-12T20:09:16.898456Z",
     "iopub.status.idle": "2021-12-12T20:09:16.942124Z",
     "shell.execute_reply": "2021-12-12T20:09:16.941586Z"
    },
    "papermill": {
     "duration": 0.077918,
     "end_time": "2021-12-12T20:09:16.942261",
     "exception": false,
     "start_time": "2021-12-12T20:09:16.864343",
     "status": "completed"
    },
    "tags": []
   },
   "outputs": [],
   "source": [
    "X_train = X_train/255.\n",
    "X_test = X_test/255."
   ]
  },
  {
   "cell_type": "markdown",
   "id": "ddcf4fab",
   "metadata": {
    "papermill": {
     "duration": 0.023437,
     "end_time": "2021-12-12T20:09:16.990595",
     "exception": false,
     "start_time": "2021-12-12T20:09:16.967158",
     "status": "completed"
    },
    "tags": []
   },
   "source": [
    "And setup the labels as 1 (when the digit is 3) and 0 (when the digit is 8)"
   ]
  },
  {
   "cell_type": "code",
   "execution_count": 12,
   "id": "7dc908f2",
   "metadata": {
    "execution": {
     "iopub.execute_input": "2021-12-12T20:09:17.042207Z",
     "iopub.status.busy": "2021-12-12T20:09:17.041726Z",
     "iopub.status.idle": "2021-12-12T20:09:17.051288Z",
     "shell.execute_reply": "2021-12-12T20:09:17.050945Z"
    },
    "papermill": {
     "duration": 0.038286,
     "end_time": "2021-12-12T20:09:17.051395",
     "exception": false,
     "start_time": "2021-12-12T20:09:17.013109",
     "status": "completed"
    },
    "tags": []
   },
   "outputs": [],
   "source": [
    "y_train = 1*(y_train==3)\n",
    "y_test = 1*(y_test==3)"
   ]
  },
  {
   "cell_type": "code",
   "execution_count": 13,
   "id": "01e4e969",
   "metadata": {
    "execution": {
     "iopub.execute_input": "2021-12-12T20:09:17.102286Z",
     "iopub.status.busy": "2021-12-12T20:09:17.101810Z",
     "iopub.status.idle": "2021-12-12T20:09:17.114224Z",
     "shell.execute_reply": "2021-12-12T20:09:17.114613Z"
    },
    "papermill": {
     "duration": 0.039634,
     "end_time": "2021-12-12T20:09:17.114728",
     "exception": false,
     "start_time": "2021-12-12T20:09:17.075094",
     "status": "completed"
    },
    "tags": []
   },
   "outputs": [
    {
     "data": {
      "text/plain": [
       "((11982, 28, 28), (1984, 28, 28))"
      ]
     },
     "execution_count": 13,
     "metadata": {},
     "output_type": "execute_result"
    }
   ],
   "source": [
    "X_train.shape, X_test.shape"
   ]
  },
  {
   "cell_type": "markdown",
   "id": "5ccf3f85",
   "metadata": {
    "papermill": {
     "duration": 0.023389,
     "end_time": "2021-12-12T20:09:17.161321",
     "exception": false,
     "start_time": "2021-12-12T20:09:17.137932",
     "status": "completed"
    },
    "tags": []
   },
   "source": [
    "We reshape the data to flatten the image pixels into a set of features or co-variates:"
   ]
  },
  {
   "cell_type": "code",
   "execution_count": 14,
   "id": "5286a4a3",
   "metadata": {
    "execution": {
     "iopub.execute_input": "2021-12-12T20:09:17.211795Z",
     "iopub.status.busy": "2021-12-12T20:09:17.210539Z",
     "iopub.status.idle": "2021-12-12T20:09:17.224061Z",
     "shell.execute_reply": "2021-12-12T20:09:17.224651Z"
    },
    "papermill": {
     "duration": 0.040202,
     "end_time": "2021-12-12T20:09:17.224768",
     "exception": false,
     "start_time": "2021-12-12T20:09:17.184566",
     "status": "completed"
    },
    "tags": []
   },
   "outputs": [
    {
     "data": {
      "text/plain": [
       "((11982, 784), (1984, 784))"
      ]
     },
     "execution_count": 14,
     "metadata": {},
     "output_type": "execute_result"
    }
   ],
   "source": [
    "X_train = X_train.reshape(X_train.shape[0], -1)\n",
    "X_test = X_test.reshape(X_test.shape[0], -1)\n",
    "X_train.shape, X_test.shape"
   ]
  },
  {
   "cell_type": "code",
   "execution_count": 15,
   "id": "73c5f88a",
   "metadata": {
    "execution": {
     "iopub.execute_input": "2021-12-12T20:09:17.275120Z",
     "iopub.status.busy": "2021-12-12T20:09:17.274660Z",
     "iopub.status.idle": "2021-12-12T20:09:17.293218Z",
     "shell.execute_reply": "2021-12-12T20:09:17.293594Z"
    },
    "papermill": {
     "duration": 0.045638,
     "end_time": "2021-12-12T20:09:17.293721",
     "exception": false,
     "start_time": "2021-12-12T20:09:17.248083",
     "status": "completed"
    },
    "tags": []
   },
   "outputs": [],
   "source": [
    "#Impoting functions from 'Kudzu'\n",
    "from kudzu.model import Model\n",
    "from kudzu.train import Learner\n",
    "from kudzu.optim import GD\n",
    "from kudzu.data import Data, Sampler,Dataloader\n",
    "\n",
    "from kudzu.callbacks import AccCallback\n",
    "from kudzu.callbacks import ClfCallback\n",
    "\n",
    "from kudzu.loss import MSE\n",
    "\n",
    "from kudzu.layer import Sigmoid,Relu\n",
    "from kudzu.layer import Affine"
   ]
  },
  {
   "cell_type": "markdown",
   "id": "bc01172a",
   "metadata": {
    "papermill": {
     "duration": 0.023439,
     "end_time": "2021-12-12T20:09:17.340314",
     "exception": false,
     "start_time": "2021-12-12T20:09:17.316875",
     "status": "completed"
    },
    "tags": []
   },
   "source": [
    "### Let us create a `Config` class, to store important parameters. \n",
    "This class essentially plays the role of a dictionary."
   ]
  },
  {
   "cell_type": "code",
   "execution_count": 16,
   "id": "978281aa",
   "metadata": {
    "execution": {
     "iopub.execute_input": "2021-12-12T20:09:17.390098Z",
     "iopub.status.busy": "2021-12-12T20:09:17.389601Z",
     "iopub.status.idle": "2021-12-12T20:09:17.401605Z",
     "shell.execute_reply": "2021-12-12T20:09:17.402032Z"
    },
    "papermill": {
     "duration": 0.038577,
     "end_time": "2021-12-12T20:09:17.402143",
     "exception": false,
     "start_time": "2021-12-12T20:09:17.363566",
     "status": "completed"
    },
    "tags": []
   },
   "outputs": [],
   "source": [
    "class Config:\n",
    "    pass\n",
    "config = Config()\n",
    "config.lr = 0.001\n",
    "config.num_epochs = 250\n",
    "config.bs = 50"
   ]
  },
  {
   "cell_type": "markdown",
   "id": "1385fa59",
   "metadata": {
    "papermill": {
     "duration": 0.022953,
     "end_time": "2021-12-12T20:09:17.447996",
     "exception": false,
     "start_time": "2021-12-12T20:09:17.425043",
     "status": "completed"
    },
    "tags": []
   },
   "source": [
    "### Running Models with the Training data\n",
    "Details about the network layers:\n",
    "- A first affine layer has 784 inputs and does 100 affine transforms. These are followed by a Relu\n",
    "- A second affine layer has 100 inputs from the 100 activations of the past layer, and does 100 affine transforms. These are followed by a Relu\n",
    "- A third affine layer has 100 activations and does 2 affine transformations to create an embedding for visualization. There is no non-linearity here.\n",
    "- A final \"logistic regression\" which has an affine transform from 2 inputs to 1 output, which is squeezed through a sigmoid.\n"
   ]
  },
  {
   "cell_type": "code",
   "execution_count": 17,
   "id": "2b9c66db",
   "metadata": {
    "execution": {
     "iopub.execute_input": "2021-12-12T20:09:17.498394Z",
     "iopub.status.busy": "2021-12-12T20:09:17.497945Z",
     "iopub.status.idle": "2021-12-12T20:09:17.508539Z",
     "shell.execute_reply": "2021-12-12T20:09:17.508995Z"
    },
    "papermill": {
     "duration": 0.037926,
     "end_time": "2021-12-12T20:09:17.509101",
     "exception": false,
     "start_time": "2021-12-12T20:09:17.471175",
     "status": "completed"
    },
    "tags": []
   },
   "outputs": [],
   "source": [
    "data = Data(X_train, y_train.reshape(-1,1))\n",
    "sampler = Sampler(data, config.bs, shuffle=True)\n",
    "\n",
    "dl = Dataloader(data, sampler)\n",
    "\n",
    "opt = GD(config.lr)\n",
    "loss = MSE()"
   ]
  },
  {
   "cell_type": "code",
   "execution_count": 18,
   "id": "b275e4c2",
   "metadata": {
    "execution": {
     "iopub.execute_input": "2021-12-12T20:09:17.560949Z",
     "iopub.status.busy": "2021-12-12T20:09:17.560493Z",
     "iopub.status.idle": "2021-12-12T20:09:17.570767Z",
     "shell.execute_reply": "2021-12-12T20:09:17.570406Z"
    },
    "papermill": {
     "duration": 0.038182,
     "end_time": "2021-12-12T20:09:17.570879",
     "exception": false,
     "start_time": "2021-12-12T20:09:17.532697",
     "status": "completed"
    },
    "tags": []
   },
   "outputs": [],
   "source": [
    "training_data_x = X_train\n",
    "testing_data_x = X_test\n",
    "training_data_y = y_train.reshape(-1,1)\n",
    "testing_data_y = y_test.reshape(-1,1)"
   ]
  },
  {
   "cell_type": "code",
   "execution_count": 19,
   "id": "76951160",
   "metadata": {
    "execution": {
     "iopub.execute_input": "2021-12-12T20:09:17.634431Z",
     "iopub.status.busy": "2021-12-12T20:09:17.630222Z",
     "iopub.status.idle": "2021-12-12T20:09:17.638686Z",
     "shell.execute_reply": "2021-12-12T20:09:17.639001Z"
    },
    "papermill": {
     "duration": 0.045204,
     "end_time": "2021-12-12T20:09:17.639100",
     "exception": false,
     "start_time": "2021-12-12T20:09:17.593896",
     "status": "completed"
    },
    "tags": []
   },
   "outputs": [
    {
     "name": "stdout",
     "output_type": "stream",
     "text": [
      "xavier\n",
      "xavier\n",
      "xavier\n",
      "xavier\n",
      "xavier\n"
     ]
    }
   ],
   "source": [
    "layers = [Affine(\"first\", 784, 100), Relu(\"first\"), Affine(\"second\", 100, 100), Relu(\"second\"), Affine(\"third\", 100, 2), Affine(\"last\", 2, 1), Sigmoid(\"last\")]\n",
    "model_nn = Model(layers)\n",
    "model_lr = Model([Affine(\"logits\", 784, 1), Sigmoid(\"sigmoid\")])"
   ]
  },
  {
   "cell_type": "code",
   "execution_count": 20,
   "id": "6eede77a",
   "metadata": {
    "execution": {
     "iopub.execute_input": "2021-12-12T20:09:17.691663Z",
     "iopub.status.busy": "2021-12-12T20:09:17.691142Z",
     "iopub.status.idle": "2021-12-12T20:09:17.702319Z",
     "shell.execute_reply": "2021-12-12T20:09:17.702982Z"
    },
    "papermill": {
     "duration": 0.040177,
     "end_time": "2021-12-12T20:09:17.703103",
     "exception": false,
     "start_time": "2021-12-12T20:09:17.662926",
     "status": "completed"
    },
    "tags": []
   },
   "outputs": [],
   "source": [
    "nn_learner = Learner(loss, model_nn, opt, config.num_epochs)\n",
    "acc_nn = ClfCallback(nn_learner, config.bs, training_data_x , testing_data_x, training_data_y, testing_data_y)\n",
    "nn_learner.set_callbacks([acc_nn])"
   ]
  },
  {
   "cell_type": "code",
   "execution_count": 21,
   "id": "877b6cc7",
   "metadata": {
    "execution": {
     "iopub.execute_input": "2021-12-12T20:09:17.762052Z",
     "iopub.status.busy": "2021-12-12T20:09:17.761439Z",
     "iopub.status.idle": "2021-12-12T20:09:17.771017Z",
     "shell.execute_reply": "2021-12-12T20:09:17.770604Z"
    },
    "papermill": {
     "duration": 0.040954,
     "end_time": "2021-12-12T20:09:17.771123",
     "exception": false,
     "start_time": "2021-12-12T20:09:17.730169",
     "status": "completed"
    },
    "tags": []
   },
   "outputs": [],
   "source": [
    "lr_learner = Learner(loss, model_lr, opt, config.num_epochs)\n",
    "acc_lr = ClfCallback(lr_learner, config.bs, training_data_x , testing_data_x, training_data_y, testing_data_y)\n",
    "lr_learner.set_callbacks([acc_lr])"
   ]
  },
  {
   "cell_type": "code",
   "execution_count": 22,
   "id": "d9b133c3",
   "metadata": {
    "execution": {
     "iopub.execute_input": "2021-12-12T20:09:17.828482Z",
     "iopub.status.busy": "2021-12-12T20:09:17.827976Z",
     "iopub.status.idle": "2021-12-12T20:10:32.521284Z",
     "shell.execute_reply": "2021-12-12T20:10:32.522079Z"
    },
    "papermill": {
     "duration": 74.72404,
     "end_time": "2021-12-12T20:10:32.522236",
     "exception": false,
     "start_time": "2021-12-12T20:09:17.798196",
     "status": "completed"
    },
    "tags": []
   },
   "outputs": [
    {
     "name": "stdout",
     "output_type": "stream",
     "text": [
      "Epoch 0, Loss 0.222\n",
      "Training Accuracy: 0.7761, Testing Accuracy: 0.7883\n",
      "\n"
     ]
    },
    {
     "name": "stdout",
     "output_type": "stream",
     "text": [
      "Epoch 10, Loss 0.0865\n",
      "Training Accuracy: 0.9145, Testing Accuracy: 0.9274\n",
      "\n"
     ]
    },
    {
     "name": "stdout",
     "output_type": "stream",
     "text": [
      "Epoch 20, Loss 0.0553\n",
      "Training Accuracy: 0.9420, Testing Accuracy: 0.9526\n",
      "\n"
     ]
    },
    {
     "name": "stdout",
     "output_type": "stream",
     "text": [
      "Epoch 30, Loss 0.0434\n",
      "Training Accuracy: 0.9540, Testing Accuracy: 0.9602\n",
      "\n"
     ]
    },
    {
     "name": "stdout",
     "output_type": "stream",
     "text": [
      "Epoch 40, Loss 0.0374\n",
      "Training Accuracy: 0.9588, Testing Accuracy: 0.9632\n",
      "\n"
     ]
    },
    {
     "name": "stdout",
     "output_type": "stream",
     "text": [
      "Epoch 50, Loss 0.0338\n",
      "Training Accuracy: 0.9612, Testing Accuracy: 0.9662\n",
      "\n"
     ]
    },
    {
     "name": "stdout",
     "output_type": "stream",
     "text": [
      "Epoch 60, Loss 0.0313\n",
      "Training Accuracy: 0.9644, Testing Accuracy: 0.9688\n",
      "\n"
     ]
    },
    {
     "name": "stdout",
     "output_type": "stream",
     "text": [
      "Epoch 70, Loss 0.0295\n",
      "Training Accuracy: 0.9658, Testing Accuracy: 0.9703\n",
      "\n"
     ]
    },
    {
     "name": "stdout",
     "output_type": "stream",
     "text": [
      "Epoch 80, Loss 0.028\n",
      "Training Accuracy: 0.9681, Testing Accuracy: 0.9713\n",
      "\n"
     ]
    },
    {
     "name": "stdout",
     "output_type": "stream",
     "text": [
      "Epoch 90, Loss 0.0267\n",
      "Training Accuracy: 0.9699, Testing Accuracy: 0.9703\n",
      "\n"
     ]
    },
    {
     "name": "stdout",
     "output_type": "stream",
     "text": [
      "Epoch 100, Loss 0.0257\n",
      "Training Accuracy: 0.9708, Testing Accuracy: 0.9698\n",
      "\n"
     ]
    },
    {
     "name": "stdout",
     "output_type": "stream",
     "text": [
      "Epoch 110, Loss 0.0248\n",
      "Training Accuracy: 0.9717, Testing Accuracy: 0.9703\n",
      "\n"
     ]
    },
    {
     "name": "stdout",
     "output_type": "stream",
     "text": [
      "Epoch 120, Loss 0.024\n",
      "Training Accuracy: 0.9728, Testing Accuracy: 0.9703\n",
      "\n"
     ]
    },
    {
     "name": "stdout",
     "output_type": "stream",
     "text": [
      "Epoch 130, Loss 0.0233\n",
      "Training Accuracy: 0.9736, Testing Accuracy: 0.9713\n",
      "\n"
     ]
    },
    {
     "name": "stdout",
     "output_type": "stream",
     "text": [
      "Epoch 140, Loss 0.0227\n",
      "Training Accuracy: 0.9740, Testing Accuracy: 0.9713\n",
      "\n"
     ]
    },
    {
     "name": "stdout",
     "output_type": "stream",
     "text": [
      "Epoch 150, Loss 0.0221\n",
      "Training Accuracy: 0.9750, Testing Accuracy: 0.9713\n",
      "\n"
     ]
    },
    {
     "name": "stdout",
     "output_type": "stream",
     "text": [
      "Epoch 160, Loss 0.0215\n",
      "Training Accuracy: 0.9759, Testing Accuracy: 0.9713\n",
      "\n"
     ]
    },
    {
     "name": "stdout",
     "output_type": "stream",
     "text": [
      "Epoch 170, Loss 0.021\n",
      "Training Accuracy: 0.9764, Testing Accuracy: 0.9713\n",
      "\n"
     ]
    },
    {
     "name": "stdout",
     "output_type": "stream",
     "text": [
      "Epoch 180, Loss 0.0205\n",
      "Training Accuracy: 0.9770, Testing Accuracy: 0.9723\n",
      "\n"
     ]
    },
    {
     "name": "stdout",
     "output_type": "stream",
     "text": [
      "Epoch 190, Loss 0.02\n",
      "Training Accuracy: 0.9775, Testing Accuracy: 0.9728\n",
      "\n"
     ]
    },
    {
     "name": "stdout",
     "output_type": "stream",
     "text": [
      "Epoch 200, Loss 0.0196\n",
      "Training Accuracy: 0.9782, Testing Accuracy: 0.9738\n",
      "\n"
     ]
    },
    {
     "name": "stdout",
     "output_type": "stream",
     "text": [
      "Epoch 210, Loss 0.0192\n",
      "Training Accuracy: 0.9788, Testing Accuracy: 0.9738\n",
      "\n"
     ]
    },
    {
     "name": "stdout",
     "output_type": "stream",
     "text": [
      "Epoch 220, Loss 0.0188\n",
      "Training Accuracy: 0.9791, Testing Accuracy: 0.9738\n",
      "\n"
     ]
    },
    {
     "name": "stdout",
     "output_type": "stream",
     "text": [
      "Epoch 230, Loss 0.0184\n",
      "Training Accuracy: 0.9796, Testing Accuracy: 0.9738\n",
      "\n"
     ]
    },
    {
     "name": "stdout",
     "output_type": "stream",
     "text": [
      "Epoch 240, Loss 0.018\n",
      "Training Accuracy: 0.9803, Testing Accuracy: 0.9738\n",
      "\n"
     ]
    },
    {
     "data": {
      "text/plain": [
       "0.02929920907899197"
      ]
     },
     "execution_count": 22,
     "metadata": {},
     "output_type": "execute_result"
    }
   ],
   "source": [
    "nn_learner.train_loop(dl)"
   ]
  },
  {
   "cell_type": "code",
   "execution_count": 23,
   "id": "e0163366",
   "metadata": {
    "execution": {
     "iopub.execute_input": "2021-12-12T20:10:32.603566Z",
     "iopub.status.busy": "2021-12-12T20:10:32.603018Z",
     "iopub.status.idle": "2021-12-12T20:10:46.233242Z",
     "shell.execute_reply": "2021-12-12T20:10:46.234026Z"
    },
    "papermill": {
     "duration": 13.677051,
     "end_time": "2021-12-12T20:10:46.234177",
     "exception": false,
     "start_time": "2021-12-12T20:10:32.557126",
     "status": "completed"
    },
    "tags": []
   },
   "outputs": [
    {
     "name": "stdout",
     "output_type": "stream",
     "text": [
      "Epoch 0, Loss 0.194\n",
      "Training Accuracy: 0.8307, Testing Accuracy: 0.8412\n",
      "\n"
     ]
    },
    {
     "name": "stdout",
     "output_type": "stream",
     "text": [
      "Epoch 10, Loss 0.0976\n",
      "Training Accuracy: 0.9162, Testing Accuracy: 0.9244\n",
      "\n"
     ]
    },
    {
     "name": "stdout",
     "output_type": "stream",
     "text": [
      "Epoch 20, Loss 0.0766\n",
      "Training Accuracy: 0.9310, Testing Accuracy: 0.9410\n",
      "\n"
     ]
    },
    {
     "name": "stdout",
     "output_type": "stream",
     "text": [
      "Epoch 30, Loss 0.0666\n",
      "Training Accuracy: 0.9375, Testing Accuracy: 0.9491\n",
      "\n"
     ]
    },
    {
     "name": "stdout",
     "output_type": "stream",
     "text": [
      "Epoch 40, Loss 0.0605\n",
      "Training Accuracy: 0.9418, Testing Accuracy: 0.9541\n",
      "\n"
     ]
    },
    {
     "name": "stdout",
     "output_type": "stream",
     "text": [
      "Epoch 50, Loss 0.0562\n",
      "Training Accuracy: 0.9461, Testing Accuracy: 0.9567\n",
      "\n"
     ]
    },
    {
     "name": "stdout",
     "output_type": "stream",
     "text": [
      "Epoch 60, Loss 0.0531\n",
      "Training Accuracy: 0.9484, Testing Accuracy: 0.9582\n",
      "\n"
     ]
    },
    {
     "name": "stdout",
     "output_type": "stream",
     "text": [
      "Epoch 70, Loss 0.0507\n",
      "Training Accuracy: 0.9507, Testing Accuracy: 0.9587\n",
      "\n"
     ]
    },
    {
     "name": "stdout",
     "output_type": "stream",
     "text": [
      "Epoch 80, Loss 0.0487\n",
      "Training Accuracy: 0.9519, Testing Accuracy: 0.9587\n",
      "\n"
     ]
    },
    {
     "name": "stdout",
     "output_type": "stream",
     "text": [
      "Epoch 90, Loss 0.0471\n",
      "Training Accuracy: 0.9531, Testing Accuracy: 0.9592\n",
      "\n"
     ]
    },
    {
     "name": "stdout",
     "output_type": "stream",
     "text": [
      "Epoch 100, Loss 0.0458\n",
      "Training Accuracy: 0.9544, Testing Accuracy: 0.9607\n",
      "\n"
     ]
    },
    {
     "name": "stdout",
     "output_type": "stream",
     "text": [
      "Epoch 110, Loss 0.0446\n",
      "Training Accuracy: 0.9554, Testing Accuracy: 0.9622\n",
      "\n"
     ]
    },
    {
     "name": "stdout",
     "output_type": "stream",
     "text": [
      "Epoch 120, Loss 0.0436\n",
      "Training Accuracy: 0.9556, Testing Accuracy: 0.9622\n",
      "\n"
     ]
    },
    {
     "name": "stdout",
     "output_type": "stream",
     "text": [
      "Epoch 130, Loss 0.0426\n",
      "Training Accuracy: 0.9565, Testing Accuracy: 0.9627\n",
      "\n"
     ]
    },
    {
     "name": "stdout",
     "output_type": "stream",
     "text": [
      "Epoch 140, Loss 0.0418\n",
      "Training Accuracy: 0.9571, Testing Accuracy: 0.9632\n",
      "\n"
     ]
    },
    {
     "name": "stdout",
     "output_type": "stream",
     "text": [
      "Epoch 150, Loss 0.0411\n",
      "Training Accuracy: 0.9575, Testing Accuracy: 0.9642\n",
      "\n"
     ]
    },
    {
     "name": "stdout",
     "output_type": "stream",
     "text": [
      "Epoch 160, Loss 0.0405\n",
      "Training Accuracy: 0.9587, Testing Accuracy: 0.9652\n",
      "\n"
     ]
    },
    {
     "name": "stdout",
     "output_type": "stream",
     "text": [
      "Epoch 170, Loss 0.0399\n",
      "Training Accuracy: 0.9590, Testing Accuracy: 0.9657\n",
      "\n"
     ]
    },
    {
     "name": "stdout",
     "output_type": "stream",
     "text": [
      "Epoch 180, Loss 0.0393\n",
      "Training Accuracy: 0.9594, Testing Accuracy: 0.9657\n",
      "\n"
     ]
    },
    {
     "name": "stdout",
     "output_type": "stream",
     "text": [
      "Epoch 190, Loss 0.0388\n",
      "Training Accuracy: 0.9598, Testing Accuracy: 0.9662\n",
      "\n"
     ]
    },
    {
     "name": "stdout",
     "output_type": "stream",
     "text": [
      "Epoch 200, Loss 0.0383\n",
      "Training Accuracy: 0.9599, Testing Accuracy: 0.9662\n",
      "\n"
     ]
    },
    {
     "name": "stdout",
     "output_type": "stream",
     "text": [
      "Epoch 210, Loss 0.0379\n",
      "Training Accuracy: 0.9601, Testing Accuracy: 0.9662\n",
      "\n"
     ]
    },
    {
     "name": "stdout",
     "output_type": "stream",
     "text": [
      "Epoch 220, Loss 0.0375\n",
      "Training Accuracy: 0.9603, Testing Accuracy: 0.9667\n",
      "\n"
     ]
    },
    {
     "name": "stdout",
     "output_type": "stream",
     "text": [
      "Epoch 230, Loss 0.0371\n",
      "Training Accuracy: 0.9607, Testing Accuracy: 0.9672\n",
      "\n"
     ]
    },
    {
     "name": "stdout",
     "output_type": "stream",
     "text": [
      "Epoch 240, Loss 0.0368\n",
      "Training Accuracy: 0.9612, Testing Accuracy: 0.9667\n",
      "\n"
     ]
    },
    {
     "data": {
      "text/plain": [
       "0.05500047784173274"
      ]
     },
     "execution_count": 23,
     "metadata": {},
     "output_type": "execute_result"
    }
   ],
   "source": [
    "lr_learner.train_loop(dl)"
   ]
  },
  {
   "cell_type": "code",
   "execution_count": 24,
   "id": "ca410940",
   "metadata": {
    "execution": {
     "iopub.execute_input": "2021-12-12T20:10:46.325154Z",
     "iopub.status.busy": "2021-12-12T20:10:46.324621Z",
     "iopub.status.idle": "2021-12-12T20:10:46.540726Z",
     "shell.execute_reply": "2021-12-12T20:10:46.540233Z"
    },
    "papermill": {
     "duration": 0.265216,
     "end_time": "2021-12-12T20:10:46.540860",
     "exception": false,
     "start_time": "2021-12-12T20:10:46.275644",
     "status": "completed"
    },
    "tags": []
   },
   "outputs": [
    {
     "data": {
      "text/plain": [
       "<matplotlib.legend.Legend at 0x7f7c4e762ba8>"
      ]
     },
     "execution_count": 24,
     "metadata": {},
     "output_type": "execute_result"
    },
    {
     "data": {
      "image/png": "[encoded data removed]",
      "text/plain": [
       "<Figure size 1080x720 with 1 Axes>"
      ]
     },
     "metadata": {
      "needs_background": "light"
     },
     "output_type": "display_data"
    }
   ],
   "source": [
    "#comparing the results of NN and LR\n",
    "plt.figure(figsize=(15,10))\n",
    "\n",
    "# Neural Network plots\n",
    "plt.plot(acc_nn.accuracies, 'r-', label = \"Training Accuracies - NN\")\n",
    "plt.plot(acc_nn.test_accuracies, 'g-', label = \"Testing Accuracies - NN\")\n",
    "\n",
    "# Logistic Regression plots\n",
    "plt.plot(acc_lr.accuracies, 'k-', label = \"Training Accuracies - LR\")\n",
    "plt.plot(acc_lr.test_accuracies, 'b-', label = \"Testing Accuracies - LR\")\n",
    "plt.legend()"
   ]
  },
  {
   "cell_type": "markdown",
   "id": "80dfb35c",
   "metadata": {
    "papermill": {
     "duration": 0.036991,
     "end_time": "2021-12-12T20:10:46.614998",
     "exception": false,
     "start_time": "2021-12-12T20:10:46.578007",
     "status": "completed"
    },
    "tags": []
   },
   "source": [
    "#### Plotting the outputs of this layer of the NN.\n"
   ]
  },
  {
   "cell_type": "code",
   "execution_count": 25,
   "id": "45eb2ff5",
   "metadata": {
    "execution": {
     "iopub.execute_input": "2021-12-12T20:10:46.691255Z",
     "iopub.status.busy": "2021-12-12T20:10:46.690796Z",
     "iopub.status.idle": "2021-12-12T20:10:46.710901Z",
     "shell.execute_reply": "2021-12-12T20:10:46.711302Z"
    },
    "papermill": {
     "duration": 0.059749,
     "end_time": "2021-12-12T20:10:46.711439",
     "exception": false,
     "start_time": "2021-12-12T20:10:46.651690",
     "status": "completed"
    },
    "tags": []
   },
   "outputs": [],
   "source": [
    "new_model = Model(layers[:-2])\n",
    "testing_plot = new_model(testing_data_x)"
   ]
  },
  {
   "cell_type": "code",
   "execution_count": 26,
   "id": "4c0a5485",
   "metadata": {
    "execution": {
     "iopub.execute_input": "2021-12-12T20:10:46.807839Z",
     "iopub.status.busy": "2021-12-12T20:10:46.806871Z",
     "iopub.status.idle": "2021-12-12T20:10:46.991542Z",
     "shell.execute_reply": "2021-12-12T20:10:46.991060Z"
    },
    "papermill": {
     "duration": 0.235435,
     "end_time": "2021-12-12T20:10:46.991664",
     "exception": false,
     "start_time": "2021-12-12T20:10:46.756229",
     "status": "completed"
    },
    "tags": []
   },
   "outputs": [
    {
     "data": {
      "text/plain": [
       "Text(0.5, 1.0, 'Outputs')"
      ]
     },
     "execution_count": 26,
     "metadata": {},
     "output_type": "execute_result"
    },
    {
     "data": {
      "image/png": "[encoded data removed]",
      "text/plain": [
       "<Figure size 576x504 with 1 Axes>"
      ]
     },
     "metadata": {
      "needs_background": "light"
     },
     "output_type": "display_data"
    }
   ],
   "source": [
    "# Plotting the scatter plot of points and color coding by class\n",
    "plt.figure(figsize=(8,7))\n",
    "plt.scatter(testing_plot[:,0], testing_plot[:,1], alpha = 0.1, c = y_test.ravel());\n",
    "plt.title('Outputs')"
   ]
  },
  {
   "cell_type": "markdown",
   "id": "a74fcf8f",
   "metadata": {
    "papermill": {
     "duration": 0.04492,
     "end_time": "2021-12-12T20:10:47.082260",
     "exception": false,
     "start_time": "2021-12-12T20:10:47.037340",
     "status": "completed"
    },
    "tags": []
   },
   "source": [
    "Probability contours"
   ]
  },
  {
   "cell_type": "code",
   "execution_count": 27,
   "id": "d0afc8e3",
   "metadata": {
    "execution": {
     "iopub.execute_input": "2021-12-12T20:10:47.182404Z",
     "iopub.status.busy": "2021-12-12T20:10:47.179338Z",
     "iopub.status.idle": "2021-12-12T20:10:47.190110Z",
     "shell.execute_reply": "2021-12-12T20:10:47.189655Z"
    },
    "papermill": {
     "duration": 0.062688,
     "end_time": "2021-12-12T20:10:47.190228",
     "exception": false,
     "start_time": "2021-12-12T20:10:47.127540",
     "status": "completed"
    },
    "tags": []
   },
   "outputs": [],
   "source": [
    "model_prob = Model(layers[-2:]) "
   ]
  },
  {
   "cell_type": "code",
   "execution_count": 28,
   "id": "9b96e238",
   "metadata": {
    "execution": {
     "iopub.execute_input": "2021-12-12T20:10:47.285342Z",
     "iopub.status.busy": "2021-12-12T20:10:47.284814Z",
     "iopub.status.idle": "2021-12-12T20:10:47.298403Z",
     "shell.execute_reply": "2021-12-12T20:10:47.298902Z"
    },
    "papermill": {
     "duration": 0.06349,
     "end_time": "2021-12-12T20:10:47.299045",
     "exception": false,
     "start_time": "2021-12-12T20:10:47.235555",
     "status": "completed"
    },
    "tags": []
   },
   "outputs": [],
   "source": [
    "#creating the x and y ranges according to the above generated plot.\n",
    "x_range = np.linspace(-4, 1, 100) \n",
    "y_range = np.linspace(-6, 6, 100) \n",
    "x_grid, y_grid = np.meshgrid(x_range, y_range) # x_grid and y_grig are of size 100 X 100\n",
    "\n",
    "# converting x_grid and y_grid to continuous arrays\n",
    "x_gridflat = np.ravel(x_grid)\n",
    "y_gridflat = np.ravel(y_grid)\n",
    "\n",
    "# The last layer of the current model takes two columns as input. Hence transpose of np.vstack() is required.\n",
    "X = np.vstack((x_gridflat, y_gridflat)).T\n",
    "\n",
    "prob_contour = model_prob(X).reshape(100,100) "
   ]
  },
  {
   "cell_type": "code",
   "execution_count": 29,
   "id": "da72499a",
   "metadata": {
    "execution": {
     "iopub.execute_input": "2021-12-12T20:10:47.402069Z",
     "iopub.status.busy": "2021-12-12T20:10:47.400788Z",
     "iopub.status.idle": "2021-12-12T20:10:47.652459Z",
     "shell.execute_reply": "2021-12-12T20:10:47.651995Z"
    },
    "papermill": {
     "duration": 0.307898,
     "end_time": "2021-12-12T20:10:47.652578",
     "exception": false,
     "start_time": "2021-12-12T20:10:47.344680",
     "status": "completed"
    },
    "tags": []
   },
   "outputs": [
    {
     "data": {
      "image/png": "[encoded data removed]",
      "text/plain": [
       "<Figure size 720x648 with 1 Axes>"
      ]
     },
     "metadata": {
      "needs_background": "light"
     },
     "output_type": "display_data"
    }
   ],
   "source": [
    "plt.figure(figsize=(10,9))\n",
    "plt.scatter(testing_plot[:,0], testing_plot[:,1], alpha = 0.1, c = y_test.ravel())\n",
    "contours = plt.contour(x_grid,y_grid,prob_contour)\n",
    "plt.title('Probability Contours')\n",
    "plt.clabel(contours, inline = True );"
   ]
  },
  {
   "cell_type": "code",
   "execution_count": null,
   "id": "e81b4ac7",
   "metadata": {
    "papermill": {
     "duration": 0.047685,
     "end_time": "2021-12-12T20:10:47.777311",
     "exception": false,
     "start_time": "2021-12-12T20:10:47.729626",
     "status": "completed"
    },
    "tags": []
   },
   "outputs": [],
   "source": []
  }
 ],
 "metadata": {
  "kernelspec": {
   "display_name": "Python 3",
   "language": "python",
   "name": "python3"
  },
  "language_info": {
   "codemirror_mode": {
    "name": "ipython",
    "version": 3
   },
   "file_extension": ".py",
   "mimetype": "text/x-python",
   "name": "python",
   "nbconvert_exporter": "python",
   "pygments_lexer": "ipython3",
   "version": "3.6.15"
  },
  "papermill": {
   "default_parameters": {},
   "duration": 96.388505,
   "end_time": "2021-12-12T20:10:48.132502",
   "environment_variables": {},
   "exception": null,
   "input_path": "2020-08-11-part2.ipynb",
   "output_path": "2020-08-11-part2.ipynb",
   "parameters": {},
   "start_time": "2021-12-12T20:09:11.743997",
   "version": "2.3.3"
  }
 },
 "nbformat": 4,
 "nbformat_minor": 5
}