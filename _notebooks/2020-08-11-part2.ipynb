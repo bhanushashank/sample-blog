{
 "cells": [
  {
   "cell_type": "markdown",
   "id": "98380cd3",
   "metadata": {
    "papermill": {
     "duration": 0.028194,
     "end_time": "2022-02-20T10:07:48.201186",
     "exception": false,
     "start_time": "2022-02-20T10:07:48.172992",
     "status": "completed"
    },
    "tags": []
   },
   "source": [
    "# Distinguish Your Own Digits (DYOD)"
   ]
  },
  {
   "cell_type": "markdown",
   "id": "ef31240d",
   "metadata": {
    "papermill": {
     "duration": 0.025878,
     "end_time": "2022-02-20T10:07:48.252224",
     "exception": false,
     "start_time": "2022-02-20T10:07:48.226346",
     "status": "completed"
    },
    "tags": []
   },
   "source": [
    "You are going to write a classifier that distinguishes between the number 3 and number 8."
   ]
  },
  {
   "cell_type": "code",
   "execution_count": 1,
   "id": "b15c8646",
   "metadata": {
    "execution": {
     "iopub.execute_input": "2022-02-20T10:07:48.310979Z",
     "iopub.status.busy": "2022-02-20T10:07:48.310488Z",
     "iopub.status.idle": "2022-02-20T10:07:48.319973Z",
     "shell.execute_reply": "2022-02-20T10:07:48.320353Z"
    },
    "papermill": {
     "duration": 0.043882,
     "end_time": "2022-02-20T10:07:48.320481",
     "exception": false,
     "start_time": "2022-02-20T10:07:48.276599",
     "status": "completed"
    },
    "tags": []
   },
   "outputs": [],
   "source": [
    "%load_ext autoreload\n",
    "%autoreload 2"
   ]
  },
  {
   "cell_type": "code",
   "execution_count": 2,
   "id": "22ef38dc",
   "metadata": {
    "execution": {
     "iopub.execute_input": "2022-02-20T10:07:48.373436Z",
     "iopub.status.busy": "2022-02-20T10:07:48.372913Z",
     "iopub.status.idle": "2022-02-20T10:07:48.919135Z",
     "shell.execute_reply": "2022-02-20T10:07:48.918689Z"
    },
    "papermill": {
     "duration": 0.574207,
     "end_time": "2022-02-20T10:07:48.919251",
     "exception": false,
     "start_time": "2022-02-20T10:07:48.345044",
     "status": "completed"
    },
    "tags": []
   },
   "outputs": [],
   "source": [
    "%matplotlib inline\n",
    "import numpy as np\n",
    "import matplotlib.pyplot as plt\n",
    "import pandas as pd"
   ]
  },
  {
   "cell_type": "markdown",
   "id": "ba036198",
   "metadata": {
    "papermill": {
     "duration": 0.024579,
     "end_time": "2022-02-20T10:07:48.968358",
     "exception": false,
     "start_time": "2022-02-20T10:07:48.943779",
     "status": "completed"
    },
    "tags": []
   },
   "source": [
    "From the command line run `pip install mnist`. This is a library that will help you bring down the mnist dataset. If you run this from a notebook, you need to put  `!pip install mnist` in a cell by itself."
   ]
  },
  {
   "cell_type": "code",
   "execution_count": 3,
   "id": "bb6ad8a1",
   "metadata": {
    "execution": {
     "iopub.execute_input": "2022-02-20T10:07:49.021320Z",
     "iopub.status.busy": "2022-02-20T10:07:49.020805Z",
     "iopub.status.idle": "2022-02-20T10:07:50.656952Z",
     "shell.execute_reply": "2022-02-20T10:07:50.657381Z"
    },
    "papermill": {
     "duration": 1.664609,
     "end_time": "2022-02-20T10:07:50.657515",
     "exception": false,
     "start_time": "2022-02-20T10:07:48.992906",
     "status": "completed"
    },
    "tags": []
   },
   "outputs": [
    {
     "name": "stdout",
     "output_type": "stream",
     "text": [
      "Collecting mnist\r\n"
     ]
    },
    {
     "name": "stdout",
     "output_type": "stream",
     "text": [
      "  Downloading mnist-0.2.2-py2.py3-none-any.whl (3.5 kB)\r\n",
      "Requirement already satisfied: numpy in /opt/hostedtoolcache/Python/3.6.15/x64/lib/python3.6/site-packages (from mnist) (1.19.5)\r\n"
     ]
    },
    {
     "name": "stdout",
     "output_type": "stream",
     "text": [
      "Installing collected packages: mnist\r\n"
     ]
    },
    {
     "name": "stdout",
     "output_type": "stream",
     "text": [
      "Successfully installed mnist-0.2.2\r\n"
     ]
    }
   ],
   "source": [
    "!pip install mnist"
   ]
  },
  {
   "cell_type": "markdown",
   "id": "69df9c9a",
   "metadata": {
    "papermill": {
     "duration": 0.026003,
     "end_time": "2022-02-20T10:07:50.709374",
     "exception": false,
     "start_time": "2022-02-20T10:07:50.683371",
     "status": "completed"
    },
    "tags": []
   },
   "source": [
    "## Preparing the Data"
   ]
  },
  {
   "cell_type": "code",
   "execution_count": 4,
   "id": "7f69d806",
   "metadata": {
    "execution": {
     "iopub.execute_input": "2022-02-20T10:07:50.763704Z",
     "iopub.status.busy": "2022-02-20T10:07:50.763219Z",
     "iopub.status.idle": "2022-02-20T10:07:50.776338Z",
     "shell.execute_reply": "2022-02-20T10:07:50.776722Z"
    },
    "papermill": {
     "duration": 0.041979,
     "end_time": "2022-02-20T10:07:50.776841",
     "exception": false,
     "start_time": "2022-02-20T10:07:50.734862",
     "status": "completed"
    },
    "tags": []
   },
   "outputs": [],
   "source": [
    "import mnist"
   ]
  },
  {
   "cell_type": "code",
   "execution_count": 5,
   "id": "a411e44f",
   "metadata": {
    "execution": {
     "iopub.execute_input": "2022-02-20T10:07:50.831205Z",
     "iopub.status.busy": "2022-02-20T10:07:50.830704Z",
     "iopub.status.idle": "2022-02-20T10:07:51.492157Z",
     "shell.execute_reply": "2022-02-20T10:07:51.491696Z"
    },
    "papermill": {
     "duration": 0.689747,
     "end_time": "2022-02-20T10:07:51.492267",
     "exception": false,
     "start_time": "2022-02-20T10:07:50.802520",
     "status": "completed"
    },
    "tags": []
   },
   "outputs": [],
   "source": [
    "train_images = mnist.train_images()\n",
    "train_labels = mnist.train_labels()"
   ]
  },
  {
   "cell_type": "code",
   "execution_count": 6,
   "id": "dceab3a5",
   "metadata": {
    "execution": {
     "iopub.execute_input": "2022-02-20T10:07:51.547385Z",
     "iopub.status.busy": "2022-02-20T10:07:51.546901Z",
     "iopub.status.idle": "2022-02-20T10:07:51.560054Z",
     "shell.execute_reply": "2022-02-20T10:07:51.560426Z"
    },
    "papermill": {
     "duration": 0.042306,
     "end_time": "2022-02-20T10:07:51.560542",
     "exception": false,
     "start_time": "2022-02-20T10:07:51.518236",
     "status": "completed"
    },
    "tags": []
   },
   "outputs": [
    {
     "data": {
      "text/plain": [
       "((60000, 28, 28), (60000,))"
      ]
     },
     "execution_count": 6,
     "metadata": {},
     "output_type": "execute_result"
    }
   ],
   "source": [
    "train_images.shape, train_labels.shape"
   ]
  },
  {
   "cell_type": "code",
   "execution_count": 7,
   "id": "f50dc2bb",
   "metadata": {
    "execution": {
     "iopub.execute_input": "2022-02-20T10:07:51.615637Z",
     "iopub.status.busy": "2022-02-20T10:07:51.615127Z",
     "iopub.status.idle": "2022-02-20T10:07:51.837195Z",
     "shell.execute_reply": "2022-02-20T10:07:51.836700Z"
    },
    "papermill": {
     "duration": 0.250858,
     "end_time": "2022-02-20T10:07:51.837309",
     "exception": false,
     "start_time": "2022-02-20T10:07:51.586451",
     "status": "completed"
    },
    "tags": []
   },
   "outputs": [],
   "source": [
    "test_images = mnist.test_images()\n",
    "test_labels = mnist.test_labels()"
   ]
  },
  {
   "cell_type": "code",
   "execution_count": 8,
   "id": "fc38cf1b",
   "metadata": {
    "execution": {
     "iopub.execute_input": "2022-02-20T10:07:51.892854Z",
     "iopub.status.busy": "2022-02-20T10:07:51.892370Z",
     "iopub.status.idle": "2022-02-20T10:07:51.904629Z",
     "shell.execute_reply": "2022-02-20T10:07:51.904217Z"
    },
    "papermill": {
     "duration": 0.041095,
     "end_time": "2022-02-20T10:07:51.904729",
     "exception": false,
     "start_time": "2022-02-20T10:07:51.863634",
     "status": "completed"
    },
    "tags": []
   },
   "outputs": [
    {
     "data": {
      "text/plain": [
       "((10000, 28, 28), (10000,))"
      ]
     },
     "execution_count": 8,
     "metadata": {},
     "output_type": "execute_result"
    }
   ],
   "source": [
    "test_images.shape, test_labels.shape"
   ]
  },
  {
   "cell_type": "code",
   "execution_count": 9,
   "id": "f9ed8fe0",
   "metadata": {
    "execution": {
     "iopub.execute_input": "2022-02-20T10:07:51.960453Z",
     "iopub.status.busy": "2022-02-20T10:07:51.959971Z",
     "iopub.status.idle": "2022-02-20T10:07:52.090667Z",
     "shell.execute_reply": "2022-02-20T10:07:52.091074Z"
    },
    "papermill": {
     "duration": 0.160283,
     "end_time": "2022-02-20T10:07:52.091198",
     "exception": false,
     "start_time": "2022-02-20T10:07:51.930915",
     "status": "completed"
    },
    "tags": []
   },
   "outputs": [
    {
     "name": "stdout",
     "output_type": "stream",
     "text": [
      "2\n"
     ]
    },
    {
     "data": {
      "text/plain": [
       "<matplotlib.image.AxesImage at 0x7f4d8a3fe5c0>"
      ]
     },
     "execution_count": 9,
     "metadata": {},
     "output_type": "execute_result"
    },
    {
     "data": {
      "image/png": "[encoded data removed]",
      "text/plain": [
       "<Figure size 432x288 with 1 Axes>"
      ]
     },
     "metadata": {
      "needs_background": "light"
     },
     "output_type": "display_data"
    }
   ],
   "source": [
    "image_index = 7776 # You may select anything up to 60,000\n",
    "print(train_labels[image_index]) \n",
    "plt.imshow(train_images[image_index], cmap='Greys')"
   ]
  },
  {
   "cell_type": "markdown",
   "id": "a8d2388d",
   "metadata": {
    "papermill": {
     "duration": 0.027369,
     "end_time": "2022-02-20T10:07:52.146069",
     "exception": false,
     "start_time": "2022-02-20T10:07:52.118700",
     "status": "completed"
    },
    "tags": []
   },
   "source": [
    "## Filter data to get 3 and 8 out"
   ]
  },
  {
   "cell_type": "code",
   "execution_count": 10,
   "id": "776f7fc7",
   "metadata": {
    "execution": {
     "iopub.execute_input": "2022-02-20T10:07:52.205101Z",
     "iopub.status.busy": "2022-02-20T10:07:52.204582Z",
     "iopub.status.idle": "2022-02-20T10:07:52.220550Z",
     "shell.execute_reply": "2022-02-20T10:07:52.220141Z"
    },
    "papermill": {
     "duration": 0.04725,
     "end_time": "2022-02-20T10:07:52.220650",
     "exception": false,
     "start_time": "2022-02-20T10:07:52.173400",
     "status": "completed"
    },
    "tags": []
   },
   "outputs": [],
   "source": [
    "train_filter = np.where((train_labels == 3 ) | (train_labels == 8))\n",
    "test_filter = np.where((test_labels == 3) | (test_labels == 8))\n",
    "X_train, y_train = train_images[train_filter], train_labels[train_filter]\n",
    "X_test, y_test = test_images[test_filter], test_labels[test_filter]"
   ]
  },
  {
   "cell_type": "markdown",
   "id": "948f0b7e",
   "metadata": {
    "papermill": {
     "duration": 0.027218,
     "end_time": "2022-02-20T10:07:52.275263",
     "exception": false,
     "start_time": "2022-02-20T10:07:52.248045",
     "status": "completed"
    },
    "tags": []
   },
   "source": [
    "We normalize the pizel values in the 0 to 1 range"
   ]
  },
  {
   "cell_type": "code",
   "execution_count": 11,
   "id": "ee4c2166",
   "metadata": {
    "execution": {
     "iopub.execute_input": "2022-02-20T10:07:52.333118Z",
     "iopub.status.busy": "2022-02-20T10:07:52.332595Z",
     "iopub.status.idle": "2022-02-20T10:07:52.372277Z",
     "shell.execute_reply": "2022-02-20T10:07:52.371874Z"
    },
    "papermill": {
     "duration": 0.069861,
     "end_time": "2022-02-20T10:07:52.372385",
     "exception": false,
     "start_time": "2022-02-20T10:07:52.302524",
     "status": "completed"
    },
    "tags": []
   },
   "outputs": [],
   "source": [
    "X_train = X_train/255.\n",
    "X_test = X_test/255."
   ]
  },
  {
   "cell_type": "markdown",
   "id": "ddcf4fab",
   "metadata": {
    "papermill": {
     "duration": 0.02738,
     "end_time": "2022-02-20T10:07:52.427322",
     "exception": false,
     "start_time": "2022-02-20T10:07:52.399942",
     "status": "completed"
    },
    "tags": []
   },
   "source": [
    "And setup the labels as 1 (when the digit is 3) and 0 (when the digit is 8)"
   ]
  },
  {
   "cell_type": "code",
   "execution_count": 12,
   "id": "7dc908f2",
   "metadata": {
    "execution": {
     "iopub.execute_input": "2022-02-20T10:07:52.485576Z",
     "iopub.status.busy": "2022-02-20T10:07:52.485040Z",
     "iopub.status.idle": "2022-02-20T10:07:52.496352Z",
     "shell.execute_reply": "2022-02-20T10:07:52.495966Z"
    },
    "papermill": {
     "duration": 0.041755,
     "end_time": "2022-02-20T10:07:52.496451",
     "exception": false,
     "start_time": "2022-02-20T10:07:52.454696",
     "status": "completed"
    },
    "tags": []
   },
   "outputs": [],
   "source": [
    "y_train = 1*(y_train==3)\n",
    "y_test = 1*(y_test==3)"
   ]
  },
  {
   "cell_type": "code",
   "execution_count": 13,
   "id": "01e4e969",
   "metadata": {
    "execution": {
     "iopub.execute_input": "2022-02-20T10:07:52.554946Z",
     "iopub.status.busy": "2022-02-20T10:07:52.554458Z",
     "iopub.status.idle": "2022-02-20T10:07:52.566485Z",
     "shell.execute_reply": "2022-02-20T10:07:52.566082Z"
    },
    "papermill": {
     "duration": 0.042657,
     "end_time": "2022-02-20T10:07:52.566586",
     "exception": false,
     "start_time": "2022-02-20T10:07:52.523929",
     "status": "completed"
    },
    "tags": []
   },
   "outputs": [
    {
     "data": {
      "text/plain": [
       "((11982, 28, 28), (1984, 28, 28))"
      ]
     },
     "execution_count": 13,
     "metadata": {},
     "output_type": "execute_result"
    }
   ],
   "source": [
    "X_train.shape, X_test.shape"
   ]
  },
  {
   "cell_type": "markdown",
   "id": "5ccf3f85",
   "metadata": {
    "papermill": {
     "duration": 0.027609,
     "end_time": "2022-02-20T10:07:52.621770",
     "exception": false,
     "start_time": "2022-02-20T10:07:52.594161",
     "status": "completed"
    },
    "tags": []
   },
   "source": [
    "We reshape the data to flatten the image pixels into a set of features or co-variates:"
   ]
  },
  {
   "cell_type": "code",
   "execution_count": 14,
   "id": "5286a4a3",
   "metadata": {
    "execution": {
     "iopub.execute_input": "2022-02-20T10:07:52.680745Z",
     "iopub.status.busy": "2022-02-20T10:07:52.679956Z",
     "iopub.status.idle": "2022-02-20T10:07:52.693594Z",
     "shell.execute_reply": "2022-02-20T10:07:52.693963Z"
    },
    "papermill": {
     "duration": 0.044611,
     "end_time": "2022-02-20T10:07:52.694083",
     "exception": false,
     "start_time": "2022-02-20T10:07:52.649472",
     "status": "completed"
    },
    "tags": []
   },
   "outputs": [
    {
     "data": {
      "text/plain": [
       "((11982, 784), (1984, 784))"
      ]
     },
     "execution_count": 14,
     "metadata": {},
     "output_type": "execute_result"
    }
   ],
   "source": [
    "X_train = X_train.reshape(X_train.shape[0], -1)\n",
    "X_test = X_test.reshape(X_test.shape[0], -1)\n",
    "X_train.shape, X_test.shape"
   ]
  },
  {
   "cell_type": "code",
   "execution_count": 15,
   "id": "73c5f88a",
   "metadata": {
    "execution": {
     "iopub.execute_input": "2022-02-20T10:07:52.753811Z",
     "iopub.status.busy": "2022-02-20T10:07:52.753307Z",
     "iopub.status.idle": "2022-02-20T10:07:52.771806Z",
     "shell.execute_reply": "2022-02-20T10:07:52.771362Z"
    },
    "papermill": {
     "duration": 0.04993,
     "end_time": "2022-02-20T10:07:52.771905",
     "exception": false,
     "start_time": "2022-02-20T10:07:52.721975",
     "status": "completed"
    },
    "tags": []
   },
   "outputs": [],
   "source": [
    "#Impoting functions from 'Kudzu'\n",
    "from kudzu.model import Model\n",
    "from kudzu.train import Learner\n",
    "from kudzu.optim import GD\n",
    "from kudzu.data import Data, Sampler,Dataloader\n",
    "\n",
    "from kudzu.callbacks import AccCallback\n",
    "from kudzu.callbacks import ClfCallback\n",
    "\n",
    "from kudzu.loss import MSE\n",
    "\n",
    "from kudzu.layer import Sigmoid,Relu\n",
    "from kudzu.layer import Affine"
   ]
  },
  {
   "cell_type": "markdown",
   "id": "bc01172a",
   "metadata": {
    "papermill": {
     "duration": 0.028104,
     "end_time": "2022-02-20T10:07:52.827984",
     "exception": false,
     "start_time": "2022-02-20T10:07:52.799880",
     "status": "completed"
    },
    "tags": []
   },
   "source": [
    "### Let us create a `Config` class, to store important parameters. \n",
    "This class essentially plays the role of a dictionary."
   ]
  },
  {
   "cell_type": "code",
   "execution_count": 16,
   "id": "978281aa",
   "metadata": {
    "execution": {
     "iopub.execute_input": "2022-02-20T10:07:52.886904Z",
     "iopub.status.busy": "2022-02-20T10:07:52.886413Z",
     "iopub.status.idle": "2022-02-20T10:07:52.897476Z",
     "shell.execute_reply": "2022-02-20T10:07:52.897074Z"
    },
    "papermill": {
     "duration": 0.041746,
     "end_time": "2022-02-20T10:07:52.897575",
     "exception": false,
     "start_time": "2022-02-20T10:07:52.855829",
     "status": "completed"
    },
    "tags": []
   },
   "outputs": [],
   "source": [
    "class Config:\n",
    "    pass\n",
    "config = Config()\n",
    "config.lr = 0.001\n",
    "config.num_epochs = 250\n",
    "config.bs = 50"
   ]
  },
  {
   "cell_type": "markdown",
   "id": "1385fa59",
   "metadata": {
    "papermill": {
     "duration": 0.027779,
     "end_time": "2022-02-20T10:07:52.953349",
     "exception": false,
     "start_time": "2022-02-20T10:07:52.925570",
     "status": "completed"
    },
    "tags": []
   },
   "source": [
    "### Running Models with the Training data\n",
    "Details about the network layers:\n",
    "- A first affine layer has 784 inputs and does 100 affine transforms. These are followed by a Relu\n",
    "- A second affine layer has 100 inputs from the 100 activations of the past layer, and does 100 affine transforms. These are followed by a Relu\n",
    "- A third affine layer has 100 activations and does 2 affine transformations to create an embedding for visualization. There is no non-linearity here.\n",
    "- A final \"logistic regression\" which has an affine transform from 2 inputs to 1 output, which is squeezed through a sigmoid.\n"
   ]
  },
  {
   "cell_type": "code",
   "execution_count": 17,
   "id": "2b9c66db",
   "metadata": {
    "execution": {
     "iopub.execute_input": "2022-02-20T10:07:53.012675Z",
     "iopub.status.busy": "2022-02-20T10:07:53.012182Z",
     "iopub.status.idle": "2022-02-20T10:07:53.023694Z",
     "shell.execute_reply": "2022-02-20T10:07:53.023297Z"
    },
    "papermill": {
     "duration": 0.04247,
     "end_time": "2022-02-20T10:07:53.023792",
     "exception": false,
     "start_time": "2022-02-20T10:07:52.981322",
     "status": "completed"
    },
    "tags": []
   },
   "outputs": [],
   "source": [
    "data = Data(X_train, y_train.reshape(-1,1))\n",
    "sampler = Sampler(data, config.bs, shuffle=True)\n",
    "\n",
    "dl = Dataloader(data, sampler)\n",
    "\n",
    "opt = GD(config.lr)\n",
    "loss = MSE()"
   ]
  },
  {
   "cell_type": "code",
   "execution_count": 18,
   "id": "b275e4c2",
   "metadata": {
    "execution": {
     "iopub.execute_input": "2022-02-20T10:07:53.082583Z",
     "iopub.status.busy": "2022-02-20T10:07:53.082092Z",
     "iopub.status.idle": "2022-02-20T10:07:53.093301Z",
     "shell.execute_reply": "2022-02-20T10:07:53.092893Z"
    },
    "papermill": {
     "duration": 0.041739,
     "end_time": "2022-02-20T10:07:53.093401",
     "exception": false,
     "start_time": "2022-02-20T10:07:53.051662",
     "status": "completed"
    },
    "tags": []
   },
   "outputs": [],
   "source": [
    "training_data_x = X_train\n",
    "testing_data_x = X_test\n",
    "training_data_y = y_train.reshape(-1,1)\n",
    "testing_data_y = y_test.reshape(-1,1)"
   ]
  },
  {
   "cell_type": "code",
   "execution_count": 19,
   "id": "76951160",
   "metadata": {
    "execution": {
     "iopub.execute_input": "2022-02-20T10:07:53.152201Z",
     "iopub.status.busy": "2022-02-20T10:07:53.151703Z",
     "iopub.status.idle": "2022-02-20T10:07:53.166472Z",
     "shell.execute_reply": "2022-02-20T10:07:53.166069Z"
    },
    "papermill": {
     "duration": 0.045361,
     "end_time": "2022-02-20T10:07:53.166563",
     "exception": false,
     "start_time": "2022-02-20T10:07:53.121202",
     "status": "completed"
    },
    "tags": []
   },
   "outputs": [
    {
     "name": "stdout",
     "output_type": "stream",
     "text": [
      "xavier\n",
      "xavier\n",
      "xavier\n",
      "xavier\n",
      "xavier\n"
     ]
    }
   ],
   "source": [
    "layers = [Affine(\"first\", 784, 100), Relu(\"first\"), Affine(\"second\", 100, 100), Relu(\"second\"), Affine(\"third\", 100, 2), Affine(\"last\", 2, 1), Sigmoid(\"last\")]\n",
    "model_nn = Model(layers)\n",
    "model_lr = Model([Affine(\"logits\", 784, 1), Sigmoid(\"sigmoid\")])"
   ]
  },
  {
   "cell_type": "code",
   "execution_count": 20,
   "id": "6eede77a",
   "metadata": {
    "execution": {
     "iopub.execute_input": "2022-02-20T10:07:53.226004Z",
     "iopub.status.busy": "2022-02-20T10:07:53.225514Z",
     "iopub.status.idle": "2022-02-20T10:07:53.236697Z",
     "shell.execute_reply": "2022-02-20T10:07:53.236306Z"
    },
    "papermill": {
     "duration": 0.041985,
     "end_time": "2022-02-20T10:07:53.236794",
     "exception": false,
     "start_time": "2022-02-20T10:07:53.194809",
     "status": "completed"
    },
    "tags": []
   },
   "outputs": [],
   "source": [
    "nn_learner = Learner(loss, model_nn, opt, config.num_epochs)\n",
    "acc_nn = ClfCallback(nn_learner, config.bs, training_data_x , testing_data_x, training_data_y, testing_data_y)\n",
    "nn_learner.set_callbacks([acc_nn])"
   ]
  },
  {
   "cell_type": "code",
   "execution_count": 21,
   "id": "877b6cc7",
   "metadata": {
    "execution": {
     "iopub.execute_input": "2022-02-20T10:07:53.296350Z",
     "iopub.status.busy": "2022-02-20T10:07:53.295858Z",
     "iopub.status.idle": "2022-02-20T10:07:53.306233Z",
     "shell.execute_reply": "2022-02-20T10:07:53.305829Z"
    },
    "papermill": {
     "duration": 0.041199,
     "end_time": "2022-02-20T10:07:53.306325",
     "exception": false,
     "start_time": "2022-02-20T10:07:53.265126",
     "status": "completed"
    },
    "tags": []
   },
   "outputs": [],
   "source": [
    "lr_learner = Learner(loss, model_lr, opt, config.num_epochs)\n",
    "acc_lr = ClfCallback(lr_learner, config.bs, training_data_x , testing_data_x, training_data_y, testing_data_y)\n",
    "lr_learner.set_callbacks([acc_lr])"
   ]
  },
  {
   "cell_type": "code",
   "execution_count": 22,
   "id": "d9b133c3",
   "metadata": {
    "execution": {
     "iopub.execute_input": "2022-02-20T10:07:53.365528Z",
     "iopub.status.busy": "2022-02-20T10:07:53.365022Z",
     "iopub.status.idle": "2022-02-20T10:10:48.027549Z",
     "shell.execute_reply": "2022-02-20T10:10:48.027964Z"
    },
    "papermill": {
     "duration": 174.693427,
     "end_time": "2022-02-20T10:10:48.028087",
     "exception": false,
     "start_time": "2022-02-20T10:07:53.334660",
     "status": "completed"
    },
    "tags": []
   },
   "outputs": [
    {
     "name": "stdout",
     "output_type": "stream",
     "text": [
      "Epoch 0, Loss 0.2113\n",
      "Training Accuracy: 0.7914, Testing Accuracy: 0.8044\n",
      "\n"
     ]
    },
    {
     "name": "stdout",
     "output_type": "stream",
     "text": [
      "Epoch 10, Loss 0.062\n",
      "Training Accuracy: 0.9424, Testing Accuracy: 0.9531\n",
      "\n"
     ]
    },
    {
     "name": "stdout",
     "output_type": "stream",
     "text": [
      "Epoch 20, Loss 0.0438\n",
      "Training Accuracy: 0.9548, Testing Accuracy: 0.9647\n",
      "\n"
     ]
    },
    {
     "name": "stdout",
     "output_type": "stream",
     "text": [
      "Epoch 30, Loss 0.0369\n",
      "Training Accuracy: 0.9603, Testing Accuracy: 0.9698\n",
      "\n"
     ]
    },
    {
     "name": "stdout",
     "output_type": "stream",
     "text": [
      "Epoch 40, Loss 0.033\n",
      "Training Accuracy: 0.9633, Testing Accuracy: 0.9718\n",
      "\n"
     ]
    },
    {
     "name": "stdout",
     "output_type": "stream",
     "text": [
      "Epoch 50, Loss 0.0304\n",
      "Training Accuracy: 0.9648, Testing Accuracy: 0.9713\n",
      "\n"
     ]
    },
    {
     "name": "stdout",
     "output_type": "stream",
     "text": [
      "Epoch 60, Loss 0.0285\n",
      "Training Accuracy: 0.9670, Testing Accuracy: 0.9713\n",
      "\n"
     ]
    },
    {
     "name": "stdout",
     "output_type": "stream",
     "text": [
      "Epoch 70, Loss 0.027\n",
      "Training Accuracy: 0.9695, Testing Accuracy: 0.9738\n",
      "\n"
     ]
    },
    {
     "name": "stdout",
     "output_type": "stream",
     "text": [
      "Epoch 80, Loss 0.0257\n",
      "Training Accuracy: 0.9708, Testing Accuracy: 0.9728\n",
      "\n"
     ]
    },
    {
     "name": "stdout",
     "output_type": "stream",
     "text": [
      "Epoch 90, Loss 0.0247\n",
      "Training Accuracy: 0.9716, Testing Accuracy: 0.9733\n",
      "\n"
     ]
    },
    {
     "name": "stdout",
     "output_type": "stream",
     "text": [
      "Epoch 100, Loss 0.0238\n",
      "Training Accuracy: 0.9727, Testing Accuracy: 0.9733\n",
      "\n"
     ]
    },
    {
     "name": "stdout",
     "output_type": "stream",
     "text": [
      "Epoch 110, Loss 0.0229\n",
      "Training Accuracy: 0.9737, Testing Accuracy: 0.9743\n",
      "\n"
     ]
    },
    {
     "name": "stdout",
     "output_type": "stream",
     "text": [
      "Epoch 120, Loss 0.0222\n",
      "Training Accuracy: 0.9750, Testing Accuracy: 0.9748\n",
      "\n"
     ]
    },
    {
     "name": "stdout",
     "output_type": "stream",
     "text": [
      "Epoch 130, Loss 0.0215\n",
      "Training Accuracy: 0.9761, Testing Accuracy: 0.9748\n",
      "\n"
     ]
    },
    {
     "name": "stdout",
     "output_type": "stream",
     "text": [
      "Epoch 140, Loss 0.0209\n",
      "Training Accuracy: 0.9768, Testing Accuracy: 0.9748\n",
      "\n"
     ]
    },
    {
     "name": "stdout",
     "output_type": "stream",
     "text": [
      "Epoch 150, Loss 0.0204\n",
      "Training Accuracy: 0.9779, Testing Accuracy: 0.9748\n",
      "\n"
     ]
    },
    {
     "name": "stdout",
     "output_type": "stream",
     "text": [
      "Epoch 160, Loss 0.0198\n",
      "Training Accuracy: 0.9787, Testing Accuracy: 0.9758\n",
      "\n"
     ]
    },
    {
     "name": "stdout",
     "output_type": "stream",
     "text": [
      "Epoch 170, Loss 0.0193\n",
      "Training Accuracy: 0.9793, Testing Accuracy: 0.9753\n",
      "\n"
     ]
    },
    {
     "name": "stdout",
     "output_type": "stream",
     "text": [
      "Epoch 180, Loss 0.0189\n",
      "Training Accuracy: 0.9799, Testing Accuracy: 0.9763\n",
      "\n"
     ]
    },
    {
     "name": "stdout",
     "output_type": "stream",
     "text": [
      "Epoch 190, Loss 0.0184\n",
      "Training Accuracy: 0.9803, Testing Accuracy: 0.9768\n",
      "\n"
     ]
    },
    {
     "name": "stdout",
     "output_type": "stream",
     "text": [
      "Epoch 200, Loss 0.018\n",
      "Training Accuracy: 0.9806, Testing Accuracy: 0.9768\n",
      "\n"
     ]
    },
    {
     "name": "stdout",
     "output_type": "stream",
     "text": [
      "Epoch 210, Loss 0.0176\n",
      "Training Accuracy: 0.9811, Testing Accuracy: 0.9768\n",
      "\n"
     ]
    },
    {
     "name": "stdout",
     "output_type": "stream",
     "text": [
      "Epoch 220, Loss 0.0172\n",
      "Training Accuracy: 0.9813, Testing Accuracy: 0.9768\n",
      "\n"
     ]
    },
    {
     "name": "stdout",
     "output_type": "stream",
     "text": [
      "Epoch 230, Loss 0.0169\n",
      "Training Accuracy: 0.9818, Testing Accuracy: 0.9763\n",
      "\n"
     ]
    },
    {
     "name": "stdout",
     "output_type": "stream",
     "text": [
      "Epoch 240, Loss 0.0165\n",
      "Training Accuracy: 0.9821, Testing Accuracy: 0.9763\n",
      "\n"
     ]
    },
    {
     "data": {
      "text/plain": [
       "0.010757758832117603"
      ]
     },
     "execution_count": 22,
     "metadata": {},
     "output_type": "execute_result"
    }
   ],
   "source": [
    "nn_learner.train_loop(dl)"
   ]
  },
  {
   "cell_type": "code",
   "execution_count": 23,
   "id": "e0163366",
   "metadata": {
    "execution": {
     "iopub.execute_input": "2022-02-20T10:10:48.105600Z",
     "iopub.status.busy": "2022-02-20T10:10:48.103011Z",
     "iopub.status.idle": "2022-02-20T10:11:00.269822Z",
     "shell.execute_reply": "2022-02-20T10:11:00.270226Z"
    },
    "papermill": {
     "duration": 12.206724,
     "end_time": "2022-02-20T10:11:00.270349",
     "exception": false,
     "start_time": "2022-02-20T10:10:48.063625",
     "status": "completed"
    },
    "tags": []
   },
   "outputs": [
    {
     "name": "stdout",
     "output_type": "stream",
     "text": [
      "Epoch 0, Loss 0.2197\n",
      "Training Accuracy: 0.7323, Testing Accuracy: 0.7233\n",
      "\n"
     ]
    },
    {
     "name": "stdout",
     "output_type": "stream",
     "text": [
      "Epoch 10, Loss 0.1068\n",
      "Training Accuracy: 0.8911, Testing Accuracy: 0.9057\n",
      "\n"
     ]
    },
    {
     "name": "stdout",
     "output_type": "stream",
     "text": [
      "Epoch 20, Loss 0.0822\n",
      "Training Accuracy: 0.9193, Testing Accuracy: 0.9315\n",
      "\n"
     ]
    },
    {
     "name": "stdout",
     "output_type": "stream",
     "text": [
      "Epoch 30, Loss 0.0704\n",
      "Training Accuracy: 0.9318, Testing Accuracy: 0.9441\n",
      "\n"
     ]
    },
    {
     "name": "stdout",
     "output_type": "stream",
     "text": [
      "Epoch 40, Loss 0.0632\n",
      "Training Accuracy: 0.9382, Testing Accuracy: 0.9486\n",
      "\n"
     ]
    },
    {
     "name": "stdout",
     "output_type": "stream",
     "text": [
      "Epoch 50, Loss 0.0583\n",
      "Training Accuracy: 0.9429, Testing Accuracy: 0.9536\n",
      "\n"
     ]
    },
    {
     "name": "stdout",
     "output_type": "stream",
     "text": [
      "Epoch 60, Loss 0.0548\n",
      "Training Accuracy: 0.9455, Testing Accuracy: 0.9572\n",
      "\n"
     ]
    },
    {
     "name": "stdout",
     "output_type": "stream",
     "text": [
      "Epoch 70, Loss 0.052\n",
      "Training Accuracy: 0.9480, Testing Accuracy: 0.9587\n",
      "\n"
     ]
    },
    {
     "name": "stdout",
     "output_type": "stream",
     "text": [
      "Epoch 80, Loss 0.0498\n",
      "Training Accuracy: 0.9493, Testing Accuracy: 0.9607\n",
      "\n"
     ]
    },
    {
     "name": "stdout",
     "output_type": "stream",
     "text": [
      "Epoch 90, Loss 0.0481\n",
      "Training Accuracy: 0.9509, Testing Accuracy: 0.9607\n",
      "\n"
     ]
    },
    {
     "name": "stdout",
     "output_type": "stream",
     "text": [
      "Epoch 100, Loss 0.0466\n",
      "Training Accuracy: 0.9523, Testing Accuracy: 0.9612\n",
      "\n"
     ]
    },
    {
     "name": "stdout",
     "output_type": "stream",
     "text": [
      "Epoch 110, Loss 0.0453\n",
      "Training Accuracy: 0.9538, Testing Accuracy: 0.9627\n",
      "\n"
     ]
    },
    {
     "name": "stdout",
     "output_type": "stream",
     "text": [
      "Epoch 120, Loss 0.0442\n",
      "Training Accuracy: 0.9548, Testing Accuracy: 0.9637\n",
      "\n"
     ]
    },
    {
     "name": "stdout",
     "output_type": "stream",
     "text": [
      "Epoch 130, Loss 0.0432\n",
      "Training Accuracy: 0.9552, Testing Accuracy: 0.9647\n",
      "\n"
     ]
    },
    {
     "name": "stdout",
     "output_type": "stream",
     "text": [
      "Epoch 140, Loss 0.0423\n",
      "Training Accuracy: 0.9559, Testing Accuracy: 0.9662\n",
      "\n"
     ]
    },
    {
     "name": "stdout",
     "output_type": "stream",
     "text": [
      "Epoch 150, Loss 0.0415\n",
      "Training Accuracy: 0.9566, Testing Accuracy: 0.9667\n",
      "\n"
     ]
    },
    {
     "name": "stdout",
     "output_type": "stream",
     "text": [
      "Epoch 160, Loss 0.0408\n",
      "Training Accuracy: 0.9573, Testing Accuracy: 0.9667\n",
      "\n"
     ]
    },
    {
     "name": "stdout",
     "output_type": "stream",
     "text": [
      "Epoch 170, Loss 0.0402\n",
      "Training Accuracy: 0.9577, Testing Accuracy: 0.9672\n",
      "\n"
     ]
    },
    {
     "name": "stdout",
     "output_type": "stream",
     "text": [
      "Epoch 180, Loss 0.0396\n",
      "Training Accuracy: 0.9583, Testing Accuracy: 0.9672\n",
      "\n"
     ]
    },
    {
     "name": "stdout",
     "output_type": "stream",
     "text": [
      "Epoch 190, Loss 0.0391\n",
      "Training Accuracy: 0.9589, Testing Accuracy: 0.9672\n",
      "\n"
     ]
    },
    {
     "name": "stdout",
     "output_type": "stream",
     "text": [
      "Epoch 200, Loss 0.0386\n",
      "Training Accuracy: 0.9595, Testing Accuracy: 0.9672\n",
      "\n"
     ]
    },
    {
     "name": "stdout",
     "output_type": "stream",
     "text": [
      "Epoch 210, Loss 0.0381\n",
      "Training Accuracy: 0.9597, Testing Accuracy: 0.9682\n",
      "\n"
     ]
    },
    {
     "name": "stdout",
     "output_type": "stream",
     "text": [
      "Epoch 220, Loss 0.0377\n",
      "Training Accuracy: 0.9600, Testing Accuracy: 0.9682\n",
      "\n"
     ]
    },
    {
     "name": "stdout",
     "output_type": "stream",
     "text": [
      "Epoch 230, Loss 0.0373\n",
      "Training Accuracy: 0.9603, Testing Accuracy: 0.9677\n",
      "\n"
     ]
    },
    {
     "name": "stdout",
     "output_type": "stream",
     "text": [
      "Epoch 240, Loss 0.037\n",
      "Training Accuracy: 0.9603, Testing Accuracy: 0.9677\n",
      "\n"
     ]
    },
    {
     "data": {
      "text/plain": [
       "0.013087881771903984"
      ]
     },
     "execution_count": 23,
     "metadata": {},
     "output_type": "execute_result"
    }
   ],
   "source": [
    "lr_learner.train_loop(dl)"
   ]
  },
  {
   "cell_type": "code",
   "execution_count": 24,
   "id": "ca410940",
   "metadata": {
    "execution": {
     "iopub.execute_input": "2022-02-20T10:11:00.363873Z",
     "iopub.status.busy": "2022-02-20T10:11:00.362518Z",
     "iopub.status.idle": "2022-02-20T10:11:00.583600Z",
     "shell.execute_reply": "2022-02-20T10:11:00.583171Z"
    },
    "papermill": {
     "duration": 0.270793,
     "end_time": "2022-02-20T10:11:00.583710",
     "exception": false,
     "start_time": "2022-02-20T10:11:00.312917",
     "status": "completed"
    },
    "tags": []
   },
   "outputs": [
    {
     "data": {
      "text/plain": [
       "<matplotlib.legend.Legend at 0x7f4d89fcc6a0>"
      ]
     },
     "execution_count": 24,
     "metadata": {},
     "output_type": "execute_result"
    },
    {
     "data": {
      "image/png": "[encoded data removed]",
      "text/plain": [
       "<Figure size 1080x720 with 1 Axes>"
      ]
     },
     "metadata": {
      "needs_background": "light"
     },
     "output_type": "display_data"
    }
   ],
   "source": [
    "#comparing the results of NN and LR\n",
    "plt.figure(figsize=(15,10))\n",
    "\n",
    "# Neural Network plots\n",
    "plt.plot(acc_nn.accuracies, 'r-', label = \"Training Accuracies - NN\")\n",
    "plt.plot(acc_nn.test_accuracies, 'g-', label = \"Testing Accuracies - NN\")\n",
    "\n",
    "# Logistic Regression plots\n",
    "plt.plot(acc_lr.accuracies, 'k-', label = \"Training Accuracies - LR\")\n",
    "plt.plot(acc_lr.test_accuracies, 'b-', label = \"Testing Accuracies - LR\")\n",
    "plt.legend()"
   ]
  },
  {
   "cell_type": "markdown",
   "id": "80dfb35c",
   "metadata": {
    "papermill": {
     "duration": 0.043908,
     "end_time": "2022-02-20T10:11:00.671885",
     "exception": false,
     "start_time": "2022-02-20T10:11:00.627977",
     "status": "completed"
    },
    "tags": []
   },
   "source": [
    "#### Plotting the outputs of this layer of the NN.\n"
   ]
  },
  {
   "cell_type": "code",
   "execution_count": 25,
   "id": "45eb2ff5",
   "metadata": {
    "execution": {
     "iopub.execute_input": "2022-02-20T10:11:00.762414Z",
     "iopub.status.busy": "2022-02-20T10:11:00.761915Z",
     "iopub.status.idle": "2022-02-20T10:11:00.796556Z",
     "shell.execute_reply": "2022-02-20T10:11:00.796945Z"
    },
    "papermill": {
     "duration": 0.081641,
     "end_time": "2022-02-20T10:11:00.797082",
     "exception": false,
     "start_time": "2022-02-20T10:11:00.715441",
     "status": "completed"
    },
    "tags": []
   },
   "outputs": [],
   "source": [
    "new_model = Model(layers[:-2])\n",
    "testing_plot = new_model(testing_data_x)"
   ]
  },
  {
   "cell_type": "code",
   "execution_count": 26,
   "id": "4c0a5485",
   "metadata": {
    "execution": {
     "iopub.execute_input": "2022-02-20T10:11:00.891457Z",
     "iopub.status.busy": "2022-02-20T10:11:00.890967Z",
     "iopub.status.idle": "2022-02-20T10:11:01.107288Z",
     "shell.execute_reply": "2022-02-20T10:11:01.107676Z"
    },
    "papermill": {
     "duration": 0.26652,
     "end_time": "2022-02-20T10:11:01.107807",
     "exception": false,
     "start_time": "2022-02-20T10:11:00.841287",
     "status": "completed"
    },
    "tags": []
   },
   "outputs": [
    {
     "data": {
      "text/plain": [
       "Text(0.5, 1.0, 'Outputs')"
      ]
     },
     "execution_count": 26,
     "metadata": {},
     "output_type": "execute_result"
    },
    {
     "data": {
      "image/png": "[encoded data removed]",
      "text/plain": [
       "<Figure size 576x504 with 1 Axes>"
      ]
     },
     "metadata": {
      "needs_background": "light"
     },
     "output_type": "display_data"
    }
   ],
   "source": [
    "# Plotting the scatter plot of points and color coding by class\n",
    "plt.figure(figsize=(8,7))\n",
    "plt.scatter(testing_plot[:,0], testing_plot[:,1], alpha = 0.1, c = y_test.ravel());\n",
    "plt.title('Outputs')"
   ]
  },
  {
   "cell_type": "markdown",
   "id": "a74fcf8f",
   "metadata": {
    "papermill": {
     "duration": 0.066909,
     "end_time": "2022-02-20T10:11:01.221720",
     "exception": false,
     "start_time": "2022-02-20T10:11:01.154811",
     "status": "completed"
    },
    "tags": []
   },
   "source": [
    "Probability contours"
   ]
  },
  {
   "cell_type": "code",
   "execution_count": 27,
   "id": "d0afc8e3",
   "metadata": {
    "execution": {
     "iopub.execute_input": "2022-02-20T10:11:01.318807Z",
     "iopub.status.busy": "2022-02-20T10:11:01.318316Z",
     "iopub.status.idle": "2022-02-20T10:11:01.329225Z",
     "shell.execute_reply": "2022-02-20T10:11:01.328798Z"
    },
    "papermill": {
     "duration": 0.060839,
     "end_time": "2022-02-20T10:11:01.329324",
     "exception": false,
     "start_time": "2022-02-20T10:11:01.268485",
     "status": "completed"
    },
    "tags": []
   },
   "outputs": [],
   "source": [
    "model_prob = Model(layers[-2:]) "
   ]
  },
  {
   "cell_type": "code",
   "execution_count": 28,
   "id": "9b96e238",
   "metadata": {
    "execution": {
     "iopub.execute_input": "2022-02-20T10:11:01.427442Z",
     "iopub.status.busy": "2022-02-20T10:11:01.426673Z",
     "iopub.status.idle": "2022-02-20T10:11:01.439817Z",
     "shell.execute_reply": "2022-02-20T10:11:01.440230Z"
    },
    "papermill": {
     "duration": 0.064277,
     "end_time": "2022-02-20T10:11:01.440350",
     "exception": false,
     "start_time": "2022-02-20T10:11:01.376073",
     "status": "completed"
    },
    "tags": []
   },
   "outputs": [],
   "source": [
    "#creating the x and y ranges according to the above generated plot.\n",
    "x_range = np.linspace(-4, 1, 100) \n",
    "y_range = np.linspace(-6, 6, 100) \n",
    "x_grid, y_grid = np.meshgrid(x_range, y_range) # x_grid and y_grig are of size 100 X 100\n",
    "\n",
    "# converting x_grid and y_grid to continuous arrays\n",
    "x_gridflat = np.ravel(x_grid)\n",
    "y_gridflat = np.ravel(y_grid)\n",
    "\n",
    "# The last layer of the current model takes two columns as input. Hence transpose of np.vstack() is required.\n",
    "X = np.vstack((x_gridflat, y_gridflat)).T\n",
    "\n",
    "prob_contour = model_prob(X).reshape(100,100) "
   ]
  },
  {
   "cell_type": "code",
   "execution_count": 29,
   "id": "da72499a",
   "metadata": {
    "execution": {
     "iopub.execute_input": "2022-02-20T10:11:01.537982Z",
     "iopub.status.busy": "2022-02-20T10:11:01.537493Z",
     "iopub.status.idle": "2022-02-20T10:11:01.790055Z",
     "shell.execute_reply": "2022-02-20T10:11:01.789636Z"
    },
    "papermill": {
     "duration": 0.302565,
     "end_time": "2022-02-20T10:11:01.790161",
     "exception": false,
     "start_time": "2022-02-20T10:11:01.487596",
     "status": "completed"
    },
    "tags": []
   },
   "outputs": [
    {
     "data": {
      "image/png": "[encoded data removed]",
      "text/plain": [
       "<Figure size 720x648 with 1 Axes>"
      ]
     },
     "metadata": {
      "needs_background": "light"
     },
     "output_type": "display_data"
    }
   ],
   "source": [
    "plt.figure(figsize=(10,9))\n",
    "plt.scatter(testing_plot[:,0], testing_plot[:,1], alpha = 0.1, c = y_test.ravel())\n",
    "contours = plt.contour(x_grid,y_grid,prob_contour)\n",
    "plt.title('Probability Contours')\n",
    "plt.clabel(contours, inline = True );"
   ]
  },
  {
   "cell_type": "code",
   "execution_count": null,
   "id": "e81b4ac7",
   "metadata": {
    "papermill": {
     "duration": 0.049366,
     "end_time": "2022-02-20T10:11:01.889309",
     "exception": false,
     "start_time": "2022-02-20T10:11:01.839943",
     "status": "completed"
    },
    "tags": []
   },
   "outputs": [],
   "source": []
  }
 ],
 "metadata": {
  "kernelspec": {
   "display_name": "Python 3",
   "language": "python",
   "name": "python3"
  },
  "language_info": {
   "codemirror_mode": {
    "name": "ipython",
    "version": 3
   },
   "file_extension": ".py",
   "mimetype": "text/x-python",
   "name": "python",
   "nbconvert_exporter": "python",
   "pygments_lexer": "ipython3",
   "version": "3.6.15"
  },
  "papermill": {
   "default_parameters": {},
   "duration": 194.985323,
   "end_time": "2022-02-20T10:11:02.255147",
   "environment_variables": {},
   "exception": null,
   "input_path": "2020-08-11-part2.ipynb",
   "output_path": "2020-08-11-part2.ipynb",
   "parameters": {},
   "start_time": "2022-02-20T10:07:47.269824",
   "version": "2.3.3"
  }
 },
 "nbformat": 4,
 "nbformat_minor": 5
}