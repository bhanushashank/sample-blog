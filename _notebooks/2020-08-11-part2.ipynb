{
 "cells": [
  {
   "cell_type": "markdown",
   "id": "98380cd3",
   "metadata": {
    "papermill": {
     "duration": 0.029524,
     "end_time": "2022-09-17T10:11:11.780458",
     "exception": false,
     "start_time": "2022-09-17T10:11:11.750934",
     "status": "completed"
    },
    "tags": []
   },
   "source": [
    "# Distinguish Your Own Digits (DYOD)"
   ]
  },
  {
   "cell_type": "markdown",
   "id": "ef31240d",
   "metadata": {
    "papermill": {
     "duration": 0.023974,
     "end_time": "2022-09-17T10:11:11.829194",
     "exception": false,
     "start_time": "2022-09-17T10:11:11.805220",
     "status": "completed"
    },
    "tags": []
   },
   "source": [
    "You are going to write a classifier that distinguishes between the number 3 and number 8."
   ]
  },
  {
   "cell_type": "code",
   "execution_count": 1,
   "id": "b15c8646",
   "metadata": {
    "execution": {
     "iopub.execute_input": "2022-09-17T10:11:11.886894Z",
     "iopub.status.busy": "2022-09-17T10:11:11.884662Z",
     "iopub.status.idle": "2022-09-17T10:11:11.897155Z",
     "shell.execute_reply": "2022-09-17T10:11:11.897566Z"
    },
    "papermill": {
     "duration": 0.044467,
     "end_time": "2022-09-17T10:11:11.897696",
     "exception": false,
     "start_time": "2022-09-17T10:11:11.853229",
     "status": "completed"
    },
    "tags": []
   },
   "outputs": [],
   "source": [
    "%load_ext autoreload\n",
    "%autoreload 2"
   ]
  },
  {
   "cell_type": "code",
   "execution_count": 2,
   "id": "22ef38dc",
   "metadata": {
    "execution": {
     "iopub.execute_input": "2022-09-17T10:11:11.949285Z",
     "iopub.status.busy": "2022-09-17T10:11:11.948738Z",
     "iopub.status.idle": "2022-09-17T10:11:12.449642Z",
     "shell.execute_reply": "2022-09-17T10:11:12.449156Z"
    },
    "papermill": {
     "duration": 0.527938,
     "end_time": "2022-09-17T10:11:12.449756",
     "exception": false,
     "start_time": "2022-09-17T10:11:11.921818",
     "status": "completed"
    },
    "tags": []
   },
   "outputs": [],
   "source": [
    "%matplotlib inline\n",
    "import numpy as np\n",
    "import matplotlib.pyplot as plt\n",
    "import pandas as pd"
   ]
  },
  {
   "cell_type": "markdown",
   "id": "ba036198",
   "metadata": {
    "papermill": {
     "duration": 0.024075,
     "end_time": "2022-09-17T10:11:12.498118",
     "exception": false,
     "start_time": "2022-09-17T10:11:12.474043",
     "status": "completed"
    },
    "tags": []
   },
   "source": [
    "From the command line run `pip install mnist`. This is a library that will help you bring down the mnist dataset. If you run this from a notebook, you need to put  `!pip install mnist` in a cell by itself."
   ]
  },
  {
   "cell_type": "code",
   "execution_count": 3,
   "id": "bb6ad8a1",
   "metadata": {
    "execution": {
     "iopub.execute_input": "2022-09-17T10:11:12.552651Z",
     "iopub.status.busy": "2022-09-17T10:11:12.552105Z",
     "iopub.status.idle": "2022-09-17T10:11:15.152120Z",
     "shell.execute_reply": "2022-09-17T10:11:15.151359Z"
    },
    "papermill": {
     "duration": 2.629982,
     "end_time": "2022-09-17T10:11:15.152233",
     "exception": false,
     "start_time": "2022-09-17T10:11:12.522251",
     "status": "completed"
    },
    "tags": []
   },
   "outputs": [
    {
     "name": "stdout",
     "output_type": "stream",
     "text": [
      "Collecting mnist\r\n"
     ]
    },
    {
     "name": "stdout",
     "output_type": "stream",
     "text": [
      "  Downloading mnist-0.2.2-py2.py3-none-any.whl (3.5 kB)\r\n",
      "Requirement already satisfied: numpy in /opt/hostedtoolcache/Python/3.6.15/x64/lib/python3.6/site-packages (from mnist) (1.19.5)\r\n"
     ]
    },
    {
     "name": "stdout",
     "output_type": "stream",
     "text": [
      "Installing collected packages: mnist\r\n",
      "Successfully installed mnist-0.2.2\r\n"
     ]
    }
   ],
   "source": [
    "!pip install mnist"
   ]
  },
  {
   "cell_type": "markdown",
   "id": "69df9c9a",
   "metadata": {
    "papermill": {
     "duration": 0.025224,
     "end_time": "2022-09-17T10:11:15.202665",
     "exception": false,
     "start_time": "2022-09-17T10:11:15.177441",
     "status": "completed"
    },
    "tags": []
   },
   "source": [
    "## Preparing the Data"
   ]
  },
  {
   "cell_type": "code",
   "execution_count": 4,
   "id": "7f69d806",
   "metadata": {
    "execution": {
     "iopub.execute_input": "2022-09-17T10:11:15.255601Z",
     "iopub.status.busy": "2022-09-17T10:11:15.255020Z",
     "iopub.status.idle": "2022-09-17T10:11:15.268669Z",
     "shell.execute_reply": "2022-09-17T10:11:15.269126Z"
    },
    "papermill": {
     "duration": 0.041794,
     "end_time": "2022-09-17T10:11:15.269240",
     "exception": false,
     "start_time": "2022-09-17T10:11:15.227446",
     "status": "completed"
    },
    "tags": []
   },
   "outputs": [],
   "source": [
    "import mnist"
   ]
  },
  {
   "cell_type": "code",
   "execution_count": 5,
   "id": "a411e44f",
   "metadata": {
    "execution": {
     "iopub.execute_input": "2022-09-17T10:11:15.322786Z",
     "iopub.status.busy": "2022-09-17T10:11:15.322248Z",
     "iopub.status.idle": "2022-09-17T10:11:16.040932Z",
     "shell.execute_reply": "2022-09-17T10:11:16.039811Z"
    },
    "papermill": {
     "duration": 0.746893,
     "end_time": "2022-09-17T10:11:16.041049",
     "exception": false,
     "start_time": "2022-09-17T10:11:15.294156",
     "status": "completed"
    },
    "tags": []
   },
   "outputs": [],
   "source": [
    "train_images = mnist.train_images()\n",
    "train_labels = mnist.train_labels()"
   ]
  },
  {
   "cell_type": "code",
   "execution_count": 6,
   "id": "dceab3a5",
   "metadata": {
    "execution": {
     "iopub.execute_input": "2022-09-17T10:11:16.098621Z",
     "iopub.status.busy": "2022-09-17T10:11:16.094293Z",
     "iopub.status.idle": "2022-09-17T10:11:16.107874Z",
     "shell.execute_reply": "2022-09-17T10:11:16.108389Z"
    },
    "papermill": {
     "duration": 0.041999,
     "end_time": "2022-09-17T10:11:16.108507",
     "exception": false,
     "start_time": "2022-09-17T10:11:16.066508",
     "status": "completed"
    },
    "tags": []
   },
   "outputs": [
    {
     "data": {
      "text/plain": [
       "((60000, 28, 28), (60000,))"
      ]
     },
     "execution_count": 6,
     "metadata": {},
     "output_type": "execute_result"
    }
   ],
   "source": [
    "train_images.shape, train_labels.shape"
   ]
  },
  {
   "cell_type": "code",
   "execution_count": 7,
   "id": "f50dc2bb",
   "metadata": {
    "execution": {
     "iopub.execute_input": "2022-09-17T10:11:16.161830Z",
     "iopub.status.busy": "2022-09-17T10:11:16.161279Z",
     "iopub.status.idle": "2022-09-17T10:11:16.386197Z",
     "shell.execute_reply": "2022-09-17T10:11:16.385068Z"
    },
    "papermill": {
     "duration": 0.25276,
     "end_time": "2022-09-17T10:11:16.386316",
     "exception": false,
     "start_time": "2022-09-17T10:11:16.133556",
     "status": "completed"
    },
    "tags": []
   },
   "outputs": [],
   "source": [
    "test_images = mnist.test_images()\n",
    "test_labels = mnist.test_labels()"
   ]
  },
  {
   "cell_type": "code",
   "execution_count": 8,
   "id": "fc38cf1b",
   "metadata": {
    "execution": {
     "iopub.execute_input": "2022-09-17T10:11:16.440376Z",
     "iopub.status.busy": "2022-09-17T10:11:16.439823Z",
     "iopub.status.idle": "2022-09-17T10:11:16.451987Z",
     "shell.execute_reply": "2022-09-17T10:11:16.452450Z"
    },
    "papermill": {
     "duration": 0.04081,
     "end_time": "2022-09-17T10:11:16.452568",
     "exception": false,
     "start_time": "2022-09-17T10:11:16.411758",
     "status": "completed"
    },
    "tags": []
   },
   "outputs": [
    {
     "data": {
      "text/plain": [
       "((10000, 28, 28), (10000,))"
      ]
     },
     "execution_count": 8,
     "metadata": {},
     "output_type": "execute_result"
    }
   ],
   "source": [
    "test_images.shape, test_labels.shape"
   ]
  },
  {
   "cell_type": "code",
   "execution_count": 9,
   "id": "f9ed8fe0",
   "metadata": {
    "execution": {
     "iopub.execute_input": "2022-09-17T10:11:16.506704Z",
     "iopub.status.busy": "2022-09-17T10:11:16.506155Z",
     "iopub.status.idle": "2022-09-17T10:11:16.638266Z",
     "shell.execute_reply": "2022-09-17T10:11:16.637391Z"
    },
    "papermill": {
     "duration": 0.160409,
     "end_time": "2022-09-17T10:11:16.638381",
     "exception": false,
     "start_time": "2022-09-17T10:11:16.477972",
     "status": "completed"
    },
    "tags": []
   },
   "outputs": [
    {
     "name": "stdout",
     "output_type": "stream",
     "text": [
      "2\n"
     ]
    },
    {
     "data": {
      "text/plain": [
       "<matplotlib.image.AxesImage at 0x7fa39688fcf8>"
      ]
     },
     "execution_count": 9,
     "metadata": {},
     "output_type": "execute_result"
    },
    {
     "data": {
      "image/png": "[encoded data removed]",
      "text/plain": [
       "<Figure size 432x288 with 1 Axes>"
      ]
     },
     "metadata": {
      "needs_background": "light"
     },
     "output_type": "display_data"
    }
   ],
   "source": [
    "image_index = 7776 # You may select anything up to 60,000\n",
    "print(train_labels[image_index]) \n",
    "plt.imshow(train_images[image_index], cmap='Greys')"
   ]
  },
  {
   "cell_type": "markdown",
   "id": "a8d2388d",
   "metadata": {
    "papermill": {
     "duration": 0.026346,
     "end_time": "2022-09-17T10:11:16.691475",
     "exception": false,
     "start_time": "2022-09-17T10:11:16.665129",
     "status": "completed"
    },
    "tags": []
   },
   "source": [
    "## Filter data to get 3 and 8 out"
   ]
  },
  {
   "cell_type": "code",
   "execution_count": 10,
   "id": "776f7fc7",
   "metadata": {
    "execution": {
     "iopub.execute_input": "2022-09-17T10:11:16.748646Z",
     "iopub.status.busy": "2022-09-17T10:11:16.747631Z",
     "iopub.status.idle": "2022-09-17T10:11:16.763769Z",
     "shell.execute_reply": "2022-09-17T10:11:16.764179Z"
    },
    "papermill": {
     "duration": 0.046324,
     "end_time": "2022-09-17T10:11:16.764294",
     "exception": false,
     "start_time": "2022-09-17T10:11:16.717970",
     "status": "completed"
    },
    "tags": []
   },
   "outputs": [],
   "source": [
    "train_filter = np.where((train_labels == 3 ) | (train_labels == 8))\n",
    "test_filter = np.where((test_labels == 3) | (test_labels == 8))\n",
    "X_train, y_train = train_images[train_filter], train_labels[train_filter]\n",
    "X_test, y_test = test_images[test_filter], test_labels[test_filter]"
   ]
  },
  {
   "cell_type": "markdown",
   "id": "948f0b7e",
   "metadata": {
    "papermill": {
     "duration": 0.026412,
     "end_time": "2022-09-17T10:11:16.817466",
     "exception": false,
     "start_time": "2022-09-17T10:11:16.791054",
     "status": "completed"
    },
    "tags": []
   },
   "source": [
    "We normalize the pizel values in the 0 to 1 range"
   ]
  },
  {
   "cell_type": "code",
   "execution_count": 11,
   "id": "ee4c2166",
   "metadata": {
    "execution": {
     "iopub.execute_input": "2022-09-17T10:11:16.874036Z",
     "iopub.status.busy": "2022-09-17T10:11:16.873494Z",
     "iopub.status.idle": "2022-09-17T10:11:16.913844Z",
     "shell.execute_reply": "2022-09-17T10:11:16.913368Z"
    },
    "papermill": {
     "duration": 0.069739,
     "end_time": "2022-09-17T10:11:16.913948",
     "exception": false,
     "start_time": "2022-09-17T10:11:16.844209",
     "status": "completed"
    },
    "tags": []
   },
   "outputs": [],
   "source": [
    "X_train = X_train/255.\n",
    "X_test = X_test/255."
   ]
  },
  {
   "cell_type": "markdown",
   "id": "ddcf4fab",
   "metadata": {
    "papermill": {
     "duration": 0.026556,
     "end_time": "2022-09-17T10:11:16.967432",
     "exception": false,
     "start_time": "2022-09-17T10:11:16.940876",
     "status": "completed"
    },
    "tags": []
   },
   "source": [
    "And setup the labels as 1 (when the digit is 3) and 0 (when the digit is 8)"
   ]
  },
  {
   "cell_type": "code",
   "execution_count": 12,
   "id": "7dc908f2",
   "metadata": {
    "execution": {
     "iopub.execute_input": "2022-09-17T10:11:17.023958Z",
     "iopub.status.busy": "2022-09-17T10:11:17.023392Z",
     "iopub.status.idle": "2022-09-17T10:11:17.035308Z",
     "shell.execute_reply": "2022-09-17T10:11:17.034858Z"
    },
    "papermill": {
     "duration": 0.041448,
     "end_time": "2022-09-17T10:11:17.035410",
     "exception": false,
     "start_time": "2022-09-17T10:11:16.993962",
     "status": "completed"
    },
    "tags": []
   },
   "outputs": [],
   "source": [
    "y_train = 1*(y_train==3)\n",
    "y_test = 1*(y_test==3)"
   ]
  },
  {
   "cell_type": "code",
   "execution_count": 13,
   "id": "01e4e969",
   "metadata": {
    "execution": {
     "iopub.execute_input": "2022-09-17T10:11:17.094926Z",
     "iopub.status.busy": "2022-09-17T10:11:17.092746Z",
     "iopub.status.idle": "2022-09-17T10:11:17.105782Z",
     "shell.execute_reply": "2022-09-17T10:11:17.105244Z"
    },
    "papermill": {
     "duration": 0.043917,
     "end_time": "2022-09-17T10:11:17.105879",
     "exception": false,
     "start_time": "2022-09-17T10:11:17.061962",
     "status": "completed"
    },
    "tags": []
   },
   "outputs": [
    {
     "data": {
      "text/plain": [
       "((11982, 28, 28), (1984, 28, 28))"
      ]
     },
     "execution_count": 13,
     "metadata": {},
     "output_type": "execute_result"
    }
   ],
   "source": [
    "X_train.shape, X_test.shape"
   ]
  },
  {
   "cell_type": "markdown",
   "id": "5ccf3f85",
   "metadata": {
    "papermill": {
     "duration": 0.026757,
     "end_time": "2022-09-17T10:11:17.159389",
     "exception": false,
     "start_time": "2022-09-17T10:11:17.132632",
     "status": "completed"
    },
    "tags": []
   },
   "source": [
    "We reshape the data to flatten the image pixels into a set of features or co-variates:"
   ]
  },
  {
   "cell_type": "code",
   "execution_count": 14,
   "id": "5286a4a3",
   "metadata": {
    "execution": {
     "iopub.execute_input": "2022-09-17T10:11:17.216701Z",
     "iopub.status.busy": "2022-09-17T10:11:17.216143Z",
     "iopub.status.idle": "2022-09-17T10:11:17.229320Z",
     "shell.execute_reply": "2022-09-17T10:11:17.228775Z"
    },
    "papermill": {
     "duration": 0.043085,
     "end_time": "2022-09-17T10:11:17.229415",
     "exception": false,
     "start_time": "2022-09-17T10:11:17.186330",
     "status": "completed"
    },
    "tags": []
   },
   "outputs": [
    {
     "data": {
      "text/plain": [
       "((11982, 784), (1984, 784))"
      ]
     },
     "execution_count": 14,
     "metadata": {},
     "output_type": "execute_result"
    }
   ],
   "source": [
    "X_train = X_train.reshape(X_train.shape[0], -1)\n",
    "X_test = X_test.reshape(X_test.shape[0], -1)\n",
    "X_train.shape, X_test.shape"
   ]
  },
  {
   "cell_type": "code",
   "execution_count": 15,
   "id": "73c5f88a",
   "metadata": {
    "execution": {
     "iopub.execute_input": "2022-09-17T10:11:17.287333Z",
     "iopub.status.busy": "2022-09-17T10:11:17.286758Z",
     "iopub.status.idle": "2022-09-17T10:11:17.304442Z",
     "shell.execute_reply": "2022-09-17T10:11:17.304861Z"
    },
    "papermill": {
     "duration": 0.04835,
     "end_time": "2022-09-17T10:11:17.304968",
     "exception": false,
     "start_time": "2022-09-17T10:11:17.256618",
     "status": "completed"
    },
    "tags": []
   },
   "outputs": [],
   "source": [
    "#Impoting functions from 'Kudzu'\n",
    "from kudzu.model import Model\n",
    "from kudzu.train import Learner\n",
    "from kudzu.optim import GD\n",
    "from kudzu.data import Data, Sampler,Dataloader\n",
    "\n",
    "from kudzu.callbacks import AccCallback\n",
    "from kudzu.callbacks import ClfCallback\n",
    "\n",
    "from kudzu.loss import MSE\n",
    "\n",
    "from kudzu.layer import Sigmoid,Relu\n",
    "from kudzu.layer import Affine"
   ]
  },
  {
   "cell_type": "markdown",
   "id": "bc01172a",
   "metadata": {
    "papermill": {
     "duration": 0.026988,
     "end_time": "2022-09-17T10:11:17.359173",
     "exception": false,
     "start_time": "2022-09-17T10:11:17.332185",
     "status": "completed"
    },
    "tags": []
   },
   "source": [
    "### Let us create a `Config` class, to store important parameters. \n",
    "This class essentially plays the role of a dictionary."
   ]
  },
  {
   "cell_type": "code",
   "execution_count": 16,
   "id": "978281aa",
   "metadata": {
    "execution": {
     "iopub.execute_input": "2022-09-17T10:11:17.416317Z",
     "iopub.status.busy": "2022-09-17T10:11:17.415762Z",
     "iopub.status.idle": "2022-09-17T10:11:17.427062Z",
     "shell.execute_reply": "2022-09-17T10:11:17.427496Z"
    },
    "papermill": {
     "duration": 0.041541,
     "end_time": "2022-09-17T10:11:17.427609",
     "exception": false,
     "start_time": "2022-09-17T10:11:17.386068",
     "status": "completed"
    },
    "tags": []
   },
   "outputs": [],
   "source": [
    "class Config:\n",
    "    pass\n",
    "config = Config()\n",
    "config.lr = 0.001\n",
    "config.num_epochs = 250\n",
    "config.bs = 50"
   ]
  },
  {
   "cell_type": "markdown",
   "id": "1385fa59",
   "metadata": {
    "papermill": {
     "duration": 0.026893,
     "end_time": "2022-09-17T10:11:17.481577",
     "exception": false,
     "start_time": "2022-09-17T10:11:17.454684",
     "status": "completed"
    },
    "tags": []
   },
   "source": [
    "### Running Models with the Training data\n",
    "Details about the network layers:\n",
    "- A first affine layer has 784 inputs and does 100 affine transforms. These are followed by a Relu\n",
    "- A second affine layer has 100 inputs from the 100 activations of the past layer, and does 100 affine transforms. These are followed by a Relu\n",
    "- A third affine layer has 100 activations and does 2 affine transformations to create an embedding for visualization. There is no non-linearity here.\n",
    "- A final \"logistic regression\" which has an affine transform from 2 inputs to 1 output, which is squeezed through a sigmoid.\n"
   ]
  },
  {
   "cell_type": "code",
   "execution_count": 17,
   "id": "2b9c66db",
   "metadata": {
    "execution": {
     "iopub.execute_input": "2022-09-17T10:11:17.539046Z",
     "iopub.status.busy": "2022-09-17T10:11:17.538496Z",
     "iopub.status.idle": "2022-09-17T10:11:17.550068Z",
     "shell.execute_reply": "2022-09-17T10:11:17.549616Z"
    },
    "papermill": {
     "duration": 0.041568,
     "end_time": "2022-09-17T10:11:17.550161",
     "exception": false,
     "start_time": "2022-09-17T10:11:17.508593",
     "status": "completed"
    },
    "tags": []
   },
   "outputs": [],
   "source": [
    "data = Data(X_train, y_train.reshape(-1,1))\n",
    "sampler = Sampler(data, config.bs, shuffle=True)\n",
    "\n",
    "dl = Dataloader(data, sampler)\n",
    "\n",
    "opt = GD(config.lr)\n",
    "loss = MSE()"
   ]
  },
  {
   "cell_type": "code",
   "execution_count": 18,
   "id": "b275e4c2",
   "metadata": {
    "execution": {
     "iopub.execute_input": "2022-09-17T10:11:17.607380Z",
     "iopub.status.busy": "2022-09-17T10:11:17.606794Z",
     "iopub.status.idle": "2022-09-17T10:11:17.618239Z",
     "shell.execute_reply": "2022-09-17T10:11:17.617789Z"
    },
    "papermill": {
     "duration": 0.041107,
     "end_time": "2022-09-17T10:11:17.618332",
     "exception": false,
     "start_time": "2022-09-17T10:11:17.577225",
     "status": "completed"
    },
    "tags": []
   },
   "outputs": [],
   "source": [
    "training_data_x = X_train\n",
    "testing_data_x = X_test\n",
    "training_data_y = y_train.reshape(-1,1)\n",
    "testing_data_y = y_test.reshape(-1,1)"
   ]
  },
  {
   "cell_type": "code",
   "execution_count": 19,
   "id": "76951160",
   "metadata": {
    "execution": {
     "iopub.execute_input": "2022-09-17T10:11:17.675877Z",
     "iopub.status.busy": "2022-09-17T10:11:17.675323Z",
     "iopub.status.idle": "2022-09-17T10:11:17.690961Z",
     "shell.execute_reply": "2022-09-17T10:11:17.690509Z"
    },
    "papermill": {
     "duration": 0.045853,
     "end_time": "2022-09-17T10:11:17.691055",
     "exception": false,
     "start_time": "2022-09-17T10:11:17.645202",
     "status": "completed"
    },
    "tags": []
   },
   "outputs": [
    {
     "name": "stdout",
     "output_type": "stream",
     "text": [
      "xavier\n",
      "xavier\n",
      "xavier\n",
      "xavier\n",
      "xavier\n"
     ]
    }
   ],
   "source": [
    "layers = [Affine(\"first\", 784, 100), Relu(\"first\"), Affine(\"second\", 100, 100), Relu(\"second\"), Affine(\"third\", 100, 2), Affine(\"last\", 2, 1), Sigmoid(\"last\")]\n",
    "model_nn = Model(layers)\n",
    "model_lr = Model([Affine(\"logits\", 784, 1), Sigmoid(\"sigmoid\")])"
   ]
  },
  {
   "cell_type": "code",
   "execution_count": 20,
   "id": "6eede77a",
   "metadata": {
    "execution": {
     "iopub.execute_input": "2022-09-17T10:11:17.749325Z",
     "iopub.status.busy": "2022-09-17T10:11:17.748762Z",
     "iopub.status.idle": "2022-09-17T10:11:17.760567Z",
     "shell.execute_reply": "2022-09-17T10:11:17.760099Z"
    },
    "papermill": {
     "duration": 0.042195,
     "end_time": "2022-09-17T10:11:17.760663",
     "exception": false,
     "start_time": "2022-09-17T10:11:17.718468",
     "status": "completed"
    },
    "tags": []
   },
   "outputs": [],
   "source": [
    "nn_learner = Learner(loss, model_nn, opt, config.num_epochs)\n",
    "acc_nn = ClfCallback(nn_learner, config.bs, training_data_x , testing_data_x, training_data_y, testing_data_y)\n",
    "nn_learner.set_callbacks([acc_nn])"
   ]
  },
  {
   "cell_type": "code",
   "execution_count": 21,
   "id": "877b6cc7",
   "metadata": {
    "execution": {
     "iopub.execute_input": "2022-09-17T10:11:17.818804Z",
     "iopub.status.busy": "2022-09-17T10:11:17.818250Z",
     "iopub.status.idle": "2022-09-17T10:11:17.828843Z",
     "shell.execute_reply": "2022-09-17T10:11:17.829293Z"
    },
    "papermill": {
     "duration": 0.041296,
     "end_time": "2022-09-17T10:11:17.829399",
     "exception": false,
     "start_time": "2022-09-17T10:11:17.788103",
     "status": "completed"
    },
    "tags": []
   },
   "outputs": [],
   "source": [
    "lr_learner = Learner(loss, model_lr, opt, config.num_epochs)\n",
    "acc_lr = ClfCallback(lr_learner, config.bs, training_data_x , testing_data_x, training_data_y, testing_data_y)\n",
    "lr_learner.set_callbacks([acc_lr])"
   ]
  },
  {
   "cell_type": "code",
   "execution_count": 22,
   "id": "d9b133c3",
   "metadata": {
    "execution": {
     "iopub.execute_input": "2022-09-17T10:11:17.887331Z",
     "iopub.status.busy": "2022-09-17T10:11:17.886752Z",
     "iopub.status.idle": "2022-09-17T10:14:13.090737Z",
     "shell.execute_reply": "2022-09-17T10:14:13.091212Z"
    },
    "papermill": {
     "duration": 175.234496,
     "end_time": "2022-09-17T10:14:13.091336",
     "exception": false,
     "start_time": "2022-09-17T10:11:17.856840",
     "status": "completed"
    },
    "tags": []
   },
   "outputs": [
    {
     "name": "stdout",
     "output_type": "stream",
     "text": [
      "Epoch 0, Loss 0.2511\n",
      "Training Accuracy: 0.5035, Testing Accuracy: 0.5020\n",
      "\n"
     ]
    },
    {
     "name": "stdout",
     "output_type": "stream",
     "text": [
      "Epoch 10, Loss 0.2084\n",
      "Training Accuracy: 0.8378, Testing Accuracy: 0.8372\n",
      "\n"
     ]
    },
    {
     "name": "stdout",
     "output_type": "stream",
     "text": [
      "Epoch 20, Loss 0.1168\n",
      "Training Accuracy: 0.9027, Testing Accuracy: 0.9103\n",
      "\n"
     ]
    },
    {
     "name": "stdout",
     "output_type": "stream",
     "text": [
      "Epoch 30, Loss 0.0671\n",
      "Training Accuracy: 0.9312, Testing Accuracy: 0.9415\n",
      "\n"
     ]
    },
    {
     "name": "stdout",
     "output_type": "stream",
     "text": [
      "Epoch 40, Loss 0.0502\n",
      "Training Accuracy: 0.9448, Testing Accuracy: 0.9516\n",
      "\n"
     ]
    },
    {
     "name": "stdout",
     "output_type": "stream",
     "text": [
      "Epoch 50, Loss 0.0424\n",
      "Training Accuracy: 0.9520, Testing Accuracy: 0.9592\n",
      "\n"
     ]
    },
    {
     "name": "stdout",
     "output_type": "stream",
     "text": [
      "Epoch 60, Loss 0.0378\n",
      "Training Accuracy: 0.9570, Testing Accuracy: 0.9607\n",
      "\n"
     ]
    },
    {
     "name": "stdout",
     "output_type": "stream",
     "text": [
      "Epoch 70, Loss 0.0348\n",
      "Training Accuracy: 0.9599, Testing Accuracy: 0.9612\n",
      "\n"
     ]
    },
    {
     "name": "stdout",
     "output_type": "stream",
     "text": [
      "Epoch 80, Loss 0.0326\n",
      "Training Accuracy: 0.9619, Testing Accuracy: 0.9622\n",
      "\n"
     ]
    },
    {
     "name": "stdout",
     "output_type": "stream",
     "text": [
      "Epoch 90, Loss 0.0309\n",
      "Training Accuracy: 0.9630, Testing Accuracy: 0.9637\n",
      "\n"
     ]
    },
    {
     "name": "stdout",
     "output_type": "stream",
     "text": [
      "Epoch 100, Loss 0.0295\n",
      "Training Accuracy: 0.9649, Testing Accuracy: 0.9652\n",
      "\n"
     ]
    },
    {
     "name": "stdout",
     "output_type": "stream",
     "text": [
      "Epoch 110, Loss 0.0283\n",
      "Training Accuracy: 0.9659, Testing Accuracy: 0.9657\n",
      "\n"
     ]
    },
    {
     "name": "stdout",
     "output_type": "stream",
     "text": [
      "Epoch 120, Loss 0.0273\n",
      "Training Accuracy: 0.9672, Testing Accuracy: 0.9672\n",
      "\n"
     ]
    },
    {
     "name": "stdout",
     "output_type": "stream",
     "text": [
      "Epoch 130, Loss 0.0264\n",
      "Training Accuracy: 0.9690, Testing Accuracy: 0.9672\n",
      "\n"
     ]
    },
    {
     "name": "stdout",
     "output_type": "stream",
     "text": [
      "Epoch 140, Loss 0.0256\n",
      "Training Accuracy: 0.9701, Testing Accuracy: 0.9677\n",
      "\n"
     ]
    },
    {
     "name": "stdout",
     "output_type": "stream",
     "text": [
      "Epoch 150, Loss 0.0249\n",
      "Training Accuracy: 0.9707, Testing Accuracy: 0.9682\n",
      "\n"
     ]
    },
    {
     "name": "stdout",
     "output_type": "stream",
     "text": [
      "Epoch 160, Loss 0.0242\n",
      "Training Accuracy: 0.9715, Testing Accuracy: 0.9682\n",
      "\n"
     ]
    },
    {
     "name": "stdout",
     "output_type": "stream",
     "text": [
      "Epoch 170, Loss 0.0236\n",
      "Training Accuracy: 0.9720, Testing Accuracy: 0.9693\n",
      "\n"
     ]
    },
    {
     "name": "stdout",
     "output_type": "stream",
     "text": [
      "Epoch 180, Loss 0.0231\n",
      "Training Accuracy: 0.9727, Testing Accuracy: 0.9698\n",
      "\n"
     ]
    },
    {
     "name": "stdout",
     "output_type": "stream",
     "text": [
      "Epoch 190, Loss 0.0226\n",
      "Training Accuracy: 0.9735, Testing Accuracy: 0.9688\n",
      "\n"
     ]
    },
    {
     "name": "stdout",
     "output_type": "stream",
     "text": [
      "Epoch 200, Loss 0.0221\n",
      "Training Accuracy: 0.9740, Testing Accuracy: 0.9703\n",
      "\n"
     ]
    },
    {
     "name": "stdout",
     "output_type": "stream",
     "text": [
      "Epoch 210, Loss 0.0216\n",
      "Training Accuracy: 0.9747, Testing Accuracy: 0.9708\n",
      "\n"
     ]
    },
    {
     "name": "stdout",
     "output_type": "stream",
     "text": [
      "Epoch 220, Loss 0.0212\n",
      "Training Accuracy: 0.9751, Testing Accuracy: 0.9708\n",
      "\n"
     ]
    },
    {
     "name": "stdout",
     "output_type": "stream",
     "text": [
      "Epoch 230, Loss 0.0208\n",
      "Training Accuracy: 0.9755, Testing Accuracy: 0.9713\n",
      "\n"
     ]
    },
    {
     "name": "stdout",
     "output_type": "stream",
     "text": [
      "Epoch 240, Loss 0.0204\n",
      "Training Accuracy: 0.9762, Testing Accuracy: 0.9728\n",
      "\n"
     ]
    },
    {
     "data": {
      "text/plain": [
       "0.003894959627893481"
      ]
     },
     "execution_count": 22,
     "metadata": {},
     "output_type": "execute_result"
    }
   ],
   "source": [
    "nn_learner.train_loop(dl)"
   ]
  },
  {
   "cell_type": "code",
   "execution_count": 23,
   "id": "e0163366",
   "metadata": {
    "execution": {
     "iopub.execute_input": "2022-09-17T10:14:13.165165Z",
     "iopub.status.busy": "2022-09-17T10:14:13.164569Z",
     "iopub.status.idle": "2022-09-17T10:14:25.321134Z",
     "shell.execute_reply": "2022-09-17T10:14:25.321573Z"
    },
    "papermill": {
     "duration": 12.196198,
     "end_time": "2022-09-17T10:14:25.321699",
     "exception": false,
     "start_time": "2022-09-17T10:14:13.125501",
     "status": "completed"
    },
    "tags": []
   },
   "outputs": [
    {
     "name": "stdout",
     "output_type": "stream",
     "text": [
      "Epoch 0, Loss 0.2218\n",
      "Training Accuracy: 0.7736, Testing Accuracy: 0.7727\n",
      "\n"
     ]
    },
    {
     "name": "stdout",
     "output_type": "stream",
     "text": [
      "Epoch 10, Loss 0.099\n",
      "Training Accuracy: 0.9155, Testing Accuracy: 0.9249\n",
      "\n"
     ]
    },
    {
     "name": "stdout",
     "output_type": "stream",
     "text": [
      "Epoch 20, Loss 0.0772\n",
      "Training Accuracy: 0.9296, Testing Accuracy: 0.9420\n",
      "\n"
     ]
    },
    {
     "name": "stdout",
     "output_type": "stream",
     "text": [
      "Epoch 30, Loss 0.067\n",
      "Training Accuracy: 0.9366, Testing Accuracy: 0.9481\n",
      "\n"
     ]
    },
    {
     "name": "stdout",
     "output_type": "stream",
     "text": [
      "Epoch 40, Loss 0.0608\n",
      "Training Accuracy: 0.9418, Testing Accuracy: 0.9526\n",
      "\n"
     ]
    },
    {
     "name": "stdout",
     "output_type": "stream",
     "text": [
      "Epoch 50, Loss 0.0565\n",
      "Training Accuracy: 0.9453, Testing Accuracy: 0.9541\n",
      "\n"
     ]
    },
    {
     "name": "stdout",
     "output_type": "stream",
     "text": [
      "Epoch 60, Loss 0.0533\n",
      "Training Accuracy: 0.9480, Testing Accuracy: 0.9582\n",
      "\n"
     ]
    },
    {
     "name": "stdout",
     "output_type": "stream",
     "text": [
      "Epoch 70, Loss 0.0509\n",
      "Training Accuracy: 0.9498, Testing Accuracy: 0.9597\n",
      "\n"
     ]
    },
    {
     "name": "stdout",
     "output_type": "stream",
     "text": [
      "Epoch 80, Loss 0.0489\n",
      "Training Accuracy: 0.9516, Testing Accuracy: 0.9617\n",
      "\n"
     ]
    },
    {
     "name": "stdout",
     "output_type": "stream",
     "text": [
      "Epoch 90, Loss 0.0473\n",
      "Training Accuracy: 0.9526, Testing Accuracy: 0.9617\n",
      "\n"
     ]
    },
    {
     "name": "stdout",
     "output_type": "stream",
     "text": [
      "Epoch 100, Loss 0.0459\n",
      "Training Accuracy: 0.9529, Testing Accuracy: 0.9627\n",
      "\n"
     ]
    },
    {
     "name": "stdout",
     "output_type": "stream",
     "text": [
      "Epoch 110, Loss 0.0448\n",
      "Training Accuracy: 0.9539, Testing Accuracy: 0.9637\n",
      "\n"
     ]
    },
    {
     "name": "stdout",
     "output_type": "stream",
     "text": [
      "Epoch 120, Loss 0.0437\n",
      "Training Accuracy: 0.9548, Testing Accuracy: 0.9642\n",
      "\n"
     ]
    },
    {
     "name": "stdout",
     "output_type": "stream",
     "text": [
      "Epoch 130, Loss 0.0428\n",
      "Training Accuracy: 0.9550, Testing Accuracy: 0.9642\n",
      "\n"
     ]
    },
    {
     "name": "stdout",
     "output_type": "stream",
     "text": [
      "Epoch 140, Loss 0.042\n",
      "Training Accuracy: 0.9564, Testing Accuracy: 0.9652\n",
      "\n"
     ]
    },
    {
     "name": "stdout",
     "output_type": "stream",
     "text": [
      "Epoch 150, Loss 0.0413\n",
      "Training Accuracy: 0.9568, Testing Accuracy: 0.9657\n",
      "\n"
     ]
    },
    {
     "name": "stdout",
     "output_type": "stream",
     "text": [
      "Epoch 160, Loss 0.0406\n",
      "Training Accuracy: 0.9571, Testing Accuracy: 0.9657\n",
      "\n"
     ]
    },
    {
     "name": "stdout",
     "output_type": "stream",
     "text": [
      "Epoch 170, Loss 0.04\n",
      "Training Accuracy: 0.9578, Testing Accuracy: 0.9662\n",
      "\n"
     ]
    },
    {
     "name": "stdout",
     "output_type": "stream",
     "text": [
      "Epoch 180, Loss 0.0395\n",
      "Training Accuracy: 0.9585, Testing Accuracy: 0.9662\n",
      "\n"
     ]
    },
    {
     "name": "stdout",
     "output_type": "stream",
     "text": [
      "Epoch 190, Loss 0.039\n",
      "Training Accuracy: 0.9589, Testing Accuracy: 0.9662\n",
      "\n"
     ]
    },
    {
     "name": "stdout",
     "output_type": "stream",
     "text": [
      "Epoch 200, Loss 0.0385\n",
      "Training Accuracy: 0.9592, Testing Accuracy: 0.9662\n",
      "\n"
     ]
    },
    {
     "name": "stdout",
     "output_type": "stream",
     "text": [
      "Epoch 210, Loss 0.0381\n",
      "Training Accuracy: 0.9595, Testing Accuracy: 0.9667\n",
      "\n"
     ]
    },
    {
     "name": "stdout",
     "output_type": "stream",
     "text": [
      "Epoch 220, Loss 0.0377\n",
      "Training Accuracy: 0.9602, Testing Accuracy: 0.9667\n",
      "\n"
     ]
    },
    {
     "name": "stdout",
     "output_type": "stream",
     "text": [
      "Epoch 230, Loss 0.0373\n",
      "Training Accuracy: 0.9603, Testing Accuracy: 0.9672\n",
      "\n"
     ]
    },
    {
     "name": "stdout",
     "output_type": "stream",
     "text": [
      "Epoch 240, Loss 0.0369\n",
      "Training Accuracy: 0.9605, Testing Accuracy: 0.9682\n",
      "\n"
     ]
    },
    {
     "data": {
      "text/plain": [
       "0.0485799064105965"
      ]
     },
     "execution_count": 23,
     "metadata": {},
     "output_type": "execute_result"
    }
   ],
   "source": [
    "lr_learner.train_loop(dl)"
   ]
  },
  {
   "cell_type": "code",
   "execution_count": 24,
   "id": "ca410940",
   "metadata": {
    "execution": {
     "iopub.execute_input": "2022-09-17T10:14:25.410276Z",
     "iopub.status.busy": "2022-09-17T10:14:25.409690Z",
     "iopub.status.idle": "2022-09-17T10:14:25.636343Z",
     "shell.execute_reply": "2022-09-17T10:14:25.635842Z"
    },
    "papermill": {
     "duration": 0.273256,
     "end_time": "2022-09-17T10:14:25.636446",
     "exception": false,
     "start_time": "2022-09-17T10:14:25.363190",
     "status": "completed"
    },
    "tags": []
   },
   "outputs": [
    {
     "data": {
      "text/plain": [
       "<matplotlib.legend.Legend at 0x7fa3963fb358>"
      ]
     },
     "execution_count": 24,
     "metadata": {},
     "output_type": "execute_result"
    },
    {
     "data": {
      "image/png": "[encoded data removed]",
      "text/plain": [
       "<Figure size 1080x720 with 1 Axes>"
      ]
     },
     "metadata": {
      "needs_background": "light"
     },
     "output_type": "display_data"
    }
   ],
   "source": [
    "#comparing the results of NN and LR\n",
    "plt.figure(figsize=(15,10))\n",
    "\n",
    "# Neural Network plots\n",
    "plt.plot(acc_nn.accuracies, 'r-', label = \"Training Accuracies - NN\")\n",
    "plt.plot(acc_nn.test_accuracies, 'g-', label = \"Testing Accuracies - NN\")\n",
    "\n",
    "# Logistic Regression plots\n",
    "plt.plot(acc_lr.accuracies, 'k-', label = \"Training Accuracies - LR\")\n",
    "plt.plot(acc_lr.test_accuracies, 'b-', label = \"Testing Accuracies - LR\")\n",
    "plt.legend()"
   ]
  },
  {
   "cell_type": "markdown",
   "id": "80dfb35c",
   "metadata": {
    "papermill": {
     "duration": 0.042311,
     "end_time": "2022-09-17T10:14:25.722097",
     "exception": false,
     "start_time": "2022-09-17T10:14:25.679786",
     "status": "completed"
    },
    "tags": []
   },
   "source": [
    "#### Plotting the outputs of this layer of the NN.\n"
   ]
  },
  {
   "cell_type": "code",
   "execution_count": 25,
   "id": "45eb2ff5",
   "metadata": {
    "execution": {
     "iopub.execute_input": "2022-09-17T10:14:25.810112Z",
     "iopub.status.busy": "2022-09-17T10:14:25.809568Z",
     "iopub.status.idle": "2022-09-17T10:14:25.844880Z",
     "shell.execute_reply": "2022-09-17T10:14:25.845387Z"
    },
    "papermill": {
     "duration": 0.081085,
     "end_time": "2022-09-17T10:14:25.845506",
     "exception": false,
     "start_time": "2022-09-17T10:14:25.764421",
     "status": "completed"
    },
    "tags": []
   },
   "outputs": [],
   "source": [
    "new_model = Model(layers[:-2])\n",
    "testing_plot = new_model(testing_data_x)"
   ]
  },
  {
   "cell_type": "code",
   "execution_count": 26,
   "id": "4c0a5485",
   "metadata": {
    "execution": {
     "iopub.execute_input": "2022-09-17T10:14:25.939982Z",
     "iopub.status.busy": "2022-09-17T10:14:25.938953Z",
     "iopub.status.idle": "2022-09-17T10:14:26.135656Z",
     "shell.execute_reply": "2022-09-17T10:14:26.135193Z"
    },
    "papermill": {
     "duration": 0.247853,
     "end_time": "2022-09-17T10:14:26.135761",
     "exception": false,
     "start_time": "2022-09-17T10:14:25.887908",
     "status": "completed"
    },
    "tags": []
   },
   "outputs": [
    {
     "data": {
      "text/plain": [
       "Text(0.5, 1.0, 'Outputs')"
      ]
     },
     "execution_count": 26,
     "metadata": {},
     "output_type": "execute_result"
    },
    {
     "data": {
      "image/png": "[encoded data removed]",
      "text/plain": [
       "<Figure size 576x504 with 1 Axes>"
      ]
     },
     "metadata": {
      "needs_background": "light"
     },
     "output_type": "display_data"
    }
   ],
   "source": [
    "# Plotting the scatter plot of points and color coding by class\n",
    "plt.figure(figsize=(8,7))\n",
    "plt.scatter(testing_plot[:,0], testing_plot[:,1], alpha = 0.1, c = y_test.ravel());\n",
    "plt.title('Outputs')"
   ]
  },
  {
   "cell_type": "markdown",
   "id": "a74fcf8f",
   "metadata": {
    "papermill": {
     "duration": 0.044651,
     "end_time": "2022-09-17T10:14:26.225794",
     "exception": false,
     "start_time": "2022-09-17T10:14:26.181143",
     "status": "completed"
    },
    "tags": []
   },
   "source": [
    "Probability contours"
   ]
  },
  {
   "cell_type": "code",
   "execution_count": 27,
   "id": "d0afc8e3",
   "metadata": {
    "execution": {
     "iopub.execute_input": "2022-09-17T10:14:26.339876Z",
     "iopub.status.busy": "2022-09-17T10:14:26.339257Z",
     "iopub.status.idle": "2022-09-17T10:14:26.350440Z",
     "shell.execute_reply": "2022-09-17T10:14:26.350872Z"
    },
    "papermill": {
     "duration": 0.080767,
     "end_time": "2022-09-17T10:14:26.350983",
     "exception": false,
     "start_time": "2022-09-17T10:14:26.270216",
     "status": "completed"
    },
    "tags": []
   },
   "outputs": [],
   "source": [
    "model_prob = Model(layers[-2:]) "
   ]
  },
  {
   "cell_type": "code",
   "execution_count": 28,
   "id": "9b96e238",
   "metadata": {
    "execution": {
     "iopub.execute_input": "2022-09-17T10:14:26.444136Z",
     "iopub.status.busy": "2022-09-17T10:14:26.443580Z",
     "iopub.status.idle": "2022-09-17T10:14:26.456218Z",
     "shell.execute_reply": "2022-09-17T10:14:26.456652Z"
    },
    "papermill": {
     "duration": 0.061361,
     "end_time": "2022-09-17T10:14:26.456766",
     "exception": false,
     "start_time": "2022-09-17T10:14:26.395405",
     "status": "completed"
    },
    "tags": []
   },
   "outputs": [],
   "source": [
    "#creating the x and y ranges according to the above generated plot.\n",
    "x_range = np.linspace(-4, 1, 100) \n",
    "y_range = np.linspace(-6, 6, 100) \n",
    "x_grid, y_grid = np.meshgrid(x_range, y_range) # x_grid and y_grig are of size 100 X 100\n",
    "\n",
    "# converting x_grid and y_grid to continuous arrays\n",
    "x_gridflat = np.ravel(x_grid)\n",
    "y_gridflat = np.ravel(y_grid)\n",
    "\n",
    "# The last layer of the current model takes two columns as input. Hence transpose of np.vstack() is required.\n",
    "X = np.vstack((x_gridflat, y_gridflat)).T\n",
    "\n",
    "prob_contour = model_prob(X).reshape(100,100) "
   ]
  },
  {
   "cell_type": "code",
   "execution_count": 29,
   "id": "da72499a",
   "metadata": {
    "execution": {
     "iopub.execute_input": "2022-09-17T10:14:26.550707Z",
     "iopub.status.busy": "2022-09-17T10:14:26.550151Z",
     "iopub.status.idle": "2022-09-17T10:14:26.802157Z",
     "shell.execute_reply": "2022-09-17T10:14:26.801688Z"
    },
    "papermill": {
     "duration": 0.301313,
     "end_time": "2022-09-17T10:14:26.802261",
     "exception": false,
     "start_time": "2022-09-17T10:14:26.500948",
     "status": "completed"
    },
    "tags": []
   },
   "outputs": [
    {
     "data": {
      "image/png": "[encoded data removed]",
      "text/plain": [
       "<Figure size 720x648 with 1 Axes>"
      ]
     },
     "metadata": {
      "needs_background": "light"
     },
     "output_type": "display_data"
    }
   ],
   "source": [
    "plt.figure(figsize=(10,9))\n",
    "plt.scatter(testing_plot[:,0], testing_plot[:,1], alpha = 0.1, c = y_test.ravel())\n",
    "contours = plt.contour(x_grid,y_grid,prob_contour)\n",
    "plt.title('Probability Contours')\n",
    "plt.clabel(contours, inline = True );"
   ]
  },
  {
   "cell_type": "code",
   "execution_count": null,
   "id": "e81b4ac7",
   "metadata": {
    "papermill": {
     "duration": 0.046562,
     "end_time": "2022-09-17T10:14:26.896071",
     "exception": false,
     "start_time": "2022-09-17T10:14:26.849509",
     "status": "completed"
    },
    "tags": []
   },
   "outputs": [],
   "source": []
  }
 ],
 "metadata": {
  "kernelspec": {
   "display_name": "Python 3",
   "language": "python",
   "name": "python3"
  },
  "language_info": {
   "codemirror_mode": {
    "name": "ipython",
    "version": 3
   },
   "file_extension": ".py",
   "mimetype": "text/x-python",
   "name": "python",
   "nbconvert_exporter": "python",
   "pygments_lexer": "ipython3",
   "version": "3.6.15"
  },
  "papermill": {
   "default_parameters": {},
   "duration": 196.428547,
   "end_time": "2022-09-17T10:14:27.259981",
   "environment_variables": {},
   "exception": null,
   "input_path": "2020-08-11-part2.ipynb",
   "output_path": "2020-08-11-part2.ipynb",
   "parameters": {},
   "start_time": "2022-09-17T10:11:10.831434",
   "version": "2.3.3"
  }
 },
 "nbformat": 4,
 "nbformat_minor": 5
}