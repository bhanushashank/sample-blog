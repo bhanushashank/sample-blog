{
 "cells": [
  {
   "cell_type": "markdown",
   "id": "98380cd3",
   "metadata": {
    "papermill": {
     "duration": 0.044265,
     "end_time": "2021-10-16T10:07:33.740116",
     "exception": false,
     "start_time": "2021-10-16T10:07:33.695851",
     "status": "completed"
    },
    "tags": []
   },
   "source": [
    "# Distinguish Your Own Digits (DYOD)"
   ]
  },
  {
   "cell_type": "markdown",
   "id": "ef31240d",
   "metadata": {
    "papermill": {
     "duration": 0.045093,
     "end_time": "2021-10-16T10:07:33.827268",
     "exception": false,
     "start_time": "2021-10-16T10:07:33.782175",
     "status": "completed"
    },
    "tags": []
   },
   "source": [
    "You are going to write a classifier that distinguishes between the number 3 and number 8."
   ]
  },
  {
   "cell_type": "code",
   "execution_count": 1,
   "id": "b15c8646",
   "metadata": {
    "execution": {
     "iopub.execute_input": "2021-10-16T10:07:33.901264Z",
     "iopub.status.busy": "2021-10-16T10:07:33.900602Z",
     "iopub.status.idle": "2021-10-16T10:07:33.912481Z",
     "shell.execute_reply": "2021-10-16T10:07:33.911960Z"
    },
    "papermill": {
     "duration": 0.054818,
     "end_time": "2021-10-16T10:07:33.912610",
     "exception": false,
     "start_time": "2021-10-16T10:07:33.857792",
     "status": "completed"
    },
    "tags": []
   },
   "outputs": [],
   "source": [
    "%load_ext autoreload\n",
    "%autoreload 2"
   ]
  },
  {
   "cell_type": "code",
   "execution_count": 2,
   "id": "22ef38dc",
   "metadata": {
    "execution": {
     "iopub.execute_input": "2021-10-16T10:07:33.992373Z",
     "iopub.status.busy": "2021-10-16T10:07:33.991759Z",
     "iopub.status.idle": "2021-10-16T10:07:34.594866Z",
     "shell.execute_reply": "2021-10-16T10:07:34.594343Z"
    },
    "papermill": {
     "duration": 0.641034,
     "end_time": "2021-10-16T10:07:34.595013",
     "exception": false,
     "start_time": "2021-10-16T10:07:33.953979",
     "status": "completed"
    },
    "tags": []
   },
   "outputs": [],
   "source": [
    "%matplotlib inline\n",
    "import numpy as np\n",
    "import matplotlib.pyplot as plt\n",
    "import pandas as pd"
   ]
  },
  {
   "cell_type": "markdown",
   "id": "ba036198",
   "metadata": {
    "papermill": {
     "duration": 0.031723,
     "end_time": "2021-10-16T10:07:34.656142",
     "exception": false,
     "start_time": "2021-10-16T10:07:34.624419",
     "status": "completed"
    },
    "tags": []
   },
   "source": [
    "From the command line run `pip install mnist`. This is a library that will help you bring down the mnist dataset. If you run this from a notebook, you need to put  `!pip install mnist` in a cell by itself."
   ]
  },
  {
   "cell_type": "code",
   "execution_count": 3,
   "id": "bb6ad8a1",
   "metadata": {
    "execution": {
     "iopub.execute_input": "2021-10-16T10:07:34.719175Z",
     "iopub.status.busy": "2021-10-16T10:07:34.717872Z",
     "iopub.status.idle": "2021-10-16T10:07:36.712117Z",
     "shell.execute_reply": "2021-10-16T10:07:36.712606Z"
    },
    "papermill": {
     "duration": 2.028605,
     "end_time": "2021-10-16T10:07:36.712769",
     "exception": false,
     "start_time": "2021-10-16T10:07:34.684164",
     "status": "completed"
    },
    "tags": []
   },
   "outputs": [
    {
     "name": "stdout",
     "output_type": "stream",
     "text": [
      "Collecting mnist\r\n"
     ]
    },
    {
     "name": "stdout",
     "output_type": "stream",
     "text": [
      "  Downloading mnist-0.2.2-py2.py3-none-any.whl (3.5 kB)\r\n",
      "Requirement already satisfied: numpy in /opt/hostedtoolcache/Python/3.6.15/x64/lib/python3.6/site-packages (from mnist) (1.19.5)\r\n"
     ]
    },
    {
     "name": "stdout",
     "output_type": "stream",
     "text": [
      "Installing collected packages: mnist\r\n"
     ]
    },
    {
     "name": "stdout",
     "output_type": "stream",
     "text": [
      "Successfully installed mnist-0.2.2\r\n"
     ]
    },
    {
     "name": "stdout",
     "output_type": "stream",
     "text": [
      "\u001b[33mWARNING: You are using pip version 21.2.4; however, version 21.3 is available.\r\n",
      "You should consider upgrading via the '/opt/hostedtoolcache/Python/3.6.15/x64/bin/python -m pip install --upgrade pip' command.\u001b[0m\r\n"
     ]
    }
   ],
   "source": [
    "!pip install mnist"
   ]
  },
  {
   "cell_type": "markdown",
   "id": "69df9c9a",
   "metadata": {
    "papermill": {
     "duration": 0.031794,
     "end_time": "2021-10-16T10:07:36.775832",
     "exception": false,
     "start_time": "2021-10-16T10:07:36.744038",
     "status": "completed"
    },
    "tags": []
   },
   "source": [
    "## Preparing the Data"
   ]
  },
  {
   "cell_type": "code",
   "execution_count": 4,
   "id": "7f69d806",
   "metadata": {
    "execution": {
     "iopub.execute_input": "2021-10-16T10:07:36.858444Z",
     "iopub.status.busy": "2021-10-16T10:07:36.855013Z",
     "iopub.status.idle": "2021-10-16T10:07:36.871308Z",
     "shell.execute_reply": "2021-10-16T10:07:36.870745Z"
    },
    "papermill": {
     "duration": 0.05357,
     "end_time": "2021-10-16T10:07:36.871481",
     "exception": false,
     "start_time": "2021-10-16T10:07:36.817911",
     "status": "completed"
    },
    "tags": []
   },
   "outputs": [],
   "source": [
    "import mnist"
   ]
  },
  {
   "cell_type": "code",
   "execution_count": 5,
   "id": "a411e44f",
   "metadata": {
    "execution": {
     "iopub.execute_input": "2021-10-16T10:07:36.939608Z",
     "iopub.status.busy": "2021-10-16T10:07:36.939003Z",
     "iopub.status.idle": "2021-10-16T10:07:37.705283Z",
     "shell.execute_reply": "2021-10-16T10:07:37.706021Z"
    },
    "papermill": {
     "duration": 0.802831,
     "end_time": "2021-10-16T10:07:37.706203",
     "exception": false,
     "start_time": "2021-10-16T10:07:36.903372",
     "status": "completed"
    },
    "tags": []
   },
   "outputs": [],
   "source": [
    "train_images = mnist.train_images()\n",
    "train_labels = mnist.train_labels()"
   ]
  },
  {
   "cell_type": "code",
   "execution_count": 6,
   "id": "dceab3a5",
   "metadata": {
    "execution": {
     "iopub.execute_input": "2021-10-16T10:07:37.780788Z",
     "iopub.status.busy": "2021-10-16T10:07:37.777821Z",
     "iopub.status.idle": "2021-10-16T10:07:37.795044Z",
     "shell.execute_reply": "2021-10-16T10:07:37.795805Z"
    },
    "papermill": {
     "duration": 0.057541,
     "end_time": "2021-10-16T10:07:37.796076",
     "exception": false,
     "start_time": "2021-10-16T10:07:37.738535",
     "status": "completed"
    },
    "tags": []
   },
   "outputs": [
    {
     "data": {
      "text/plain": [
       "((60000, 28, 28), (60000,))"
      ]
     },
     "execution_count": 6,
     "metadata": {},
     "output_type": "execute_result"
    }
   ],
   "source": [
    "train_images.shape, train_labels.shape"
   ]
  },
  {
   "cell_type": "code",
   "execution_count": 7,
   "id": "f50dc2bb",
   "metadata": {
    "execution": {
     "iopub.execute_input": "2021-10-16T10:07:37.864341Z",
     "iopub.status.busy": "2021-10-16T10:07:37.863776Z",
     "iopub.status.idle": "2021-10-16T10:07:38.205973Z",
     "shell.execute_reply": "2021-10-16T10:07:38.205420Z"
    },
    "papermill": {
     "duration": 0.377359,
     "end_time": "2021-10-16T10:07:38.206101",
     "exception": false,
     "start_time": "2021-10-16T10:07:37.828742",
     "status": "completed"
    },
    "tags": []
   },
   "outputs": [],
   "source": [
    "test_images = mnist.test_images()\n",
    "test_labels = mnist.test_labels()"
   ]
  },
  {
   "cell_type": "code",
   "execution_count": 8,
   "id": "fc38cf1b",
   "metadata": {
    "execution": {
     "iopub.execute_input": "2021-10-16T10:07:38.280348Z",
     "iopub.status.busy": "2021-10-16T10:07:38.279055Z",
     "iopub.status.idle": "2021-10-16T10:07:38.291604Z",
     "shell.execute_reply": "2021-10-16T10:07:38.290932Z"
    },
    "papermill": {
     "duration": 0.055064,
     "end_time": "2021-10-16T10:07:38.291722",
     "exception": false,
     "start_time": "2021-10-16T10:07:38.236658",
     "status": "completed"
    },
    "tags": []
   },
   "outputs": [
    {
     "data": {
      "text/plain": [
       "((10000, 28, 28), (10000,))"
      ]
     },
     "execution_count": 8,
     "metadata": {},
     "output_type": "execute_result"
    }
   ],
   "source": [
    "test_images.shape, test_labels.shape"
   ]
  },
  {
   "cell_type": "code",
   "execution_count": 9,
   "id": "f9ed8fe0",
   "metadata": {
    "execution": {
     "iopub.execute_input": "2021-10-16T10:07:38.364038Z",
     "iopub.status.busy": "2021-10-16T10:07:38.363174Z",
     "iopub.status.idle": "2021-10-16T10:07:38.558202Z",
     "shell.execute_reply": "2021-10-16T10:07:38.558612Z"
    },
    "papermill": {
     "duration": 0.236331,
     "end_time": "2021-10-16T10:07:38.558753",
     "exception": false,
     "start_time": "2021-10-16T10:07:38.322422",
     "status": "completed"
    },
    "tags": []
   },
   "outputs": [
    {
     "name": "stdout",
     "output_type": "stream",
     "text": [
      "2\n"
     ]
    },
    {
     "data": {
      "text/plain": [
       "<matplotlib.image.AxesImage at 0x7f5e8f3bf908>"
      ]
     },
     "execution_count": 9,
     "metadata": {},
     "output_type": "execute_result"
    },
    {
     "data": {
      "image/png": "[encoded data removed]",
      "text/plain": [
       "<Figure size 432x288 with 1 Axes>"
      ]
     },
     "metadata": {
      "needs_background": "light"
     },
     "output_type": "display_data"
    }
   ],
   "source": [
    "image_index = 7776 # You may select anything up to 60,000\n",
    "print(train_labels[image_index]) \n",
    "plt.imshow(train_images[image_index], cmap='Greys')"
   ]
  },
  {
   "cell_type": "markdown",
   "id": "a8d2388d",
   "metadata": {
    "papermill": {
     "duration": 0.033015,
     "end_time": "2021-10-16T10:07:38.621085",
     "exception": false,
     "start_time": "2021-10-16T10:07:38.588070",
     "status": "completed"
    },
    "tags": []
   },
   "source": [
    "## Filter data to get 3 and 8 out"
   ]
  },
  {
   "cell_type": "code",
   "execution_count": 10,
   "id": "776f7fc7",
   "metadata": {
    "execution": {
     "iopub.execute_input": "2021-10-16T10:07:38.697966Z",
     "iopub.status.busy": "2021-10-16T10:07:38.696958Z",
     "iopub.status.idle": "2021-10-16T10:07:38.716545Z",
     "shell.execute_reply": "2021-10-16T10:07:38.716019Z"
    },
    "papermill": {
     "duration": 0.058757,
     "end_time": "2021-10-16T10:07:38.716689",
     "exception": false,
     "start_time": "2021-10-16T10:07:38.657932",
     "status": "completed"
    },
    "tags": []
   },
   "outputs": [],
   "source": [
    "train_filter = np.where((train_labels == 3 ) | (train_labels == 8))\n",
    "test_filter = np.where((test_labels == 3) | (test_labels == 8))\n",
    "X_train, y_train = train_images[train_filter], train_labels[train_filter]\n",
    "X_test, y_test = test_images[test_filter], test_labels[test_filter]"
   ]
  },
  {
   "cell_type": "markdown",
   "id": "948f0b7e",
   "metadata": {
    "papermill": {
     "duration": 0.032983,
     "end_time": "2021-10-16T10:07:38.785045",
     "exception": false,
     "start_time": "2021-10-16T10:07:38.752062",
     "status": "completed"
    },
    "tags": []
   },
   "source": [
    "We normalize the pizel values in the 0 to 1 range"
   ]
  },
  {
   "cell_type": "code",
   "execution_count": 11,
   "id": "ee4c2166",
   "metadata": {
    "execution": {
     "iopub.execute_input": "2021-10-16T10:07:38.864482Z",
     "iopub.status.busy": "2021-10-16T10:07:38.862541Z",
     "iopub.status.idle": "2021-10-16T10:07:38.925089Z",
     "shell.execute_reply": "2021-10-16T10:07:38.925674Z"
    },
    "papermill": {
     "duration": 0.10282,
     "end_time": "2021-10-16T10:07:38.925842",
     "exception": false,
     "start_time": "2021-10-16T10:07:38.823022",
     "status": "completed"
    },
    "tags": []
   },
   "outputs": [],
   "source": [
    "X_train = X_train/255.\n",
    "X_test = X_test/255."
   ]
  },
  {
   "cell_type": "markdown",
   "id": "ddcf4fab",
   "metadata": {
    "papermill": {
     "duration": 0.032295,
     "end_time": "2021-10-16T10:07:38.992998",
     "exception": false,
     "start_time": "2021-10-16T10:07:38.960703",
     "status": "completed"
    },
    "tags": []
   },
   "source": [
    "And setup the labels as 1 (when the digit is 3) and 0 (when the digit is 8)"
   ]
  },
  {
   "cell_type": "code",
   "execution_count": 12,
   "id": "7dc908f2",
   "metadata": {
    "execution": {
     "iopub.execute_input": "2021-10-16T10:07:39.070592Z",
     "iopub.status.busy": "2021-10-16T10:07:39.069661Z",
     "iopub.status.idle": "2021-10-16T10:07:39.079785Z",
     "shell.execute_reply": "2021-10-16T10:07:39.079210Z"
    },
    "papermill": {
     "duration": 0.054597,
     "end_time": "2021-10-16T10:07:39.079906",
     "exception": false,
     "start_time": "2021-10-16T10:07:39.025309",
     "status": "completed"
    },
    "tags": []
   },
   "outputs": [],
   "source": [
    "y_train = 1*(y_train==3)\n",
    "y_test = 1*(y_test==3)"
   ]
  },
  {
   "cell_type": "code",
   "execution_count": 13,
   "id": "01e4e969",
   "metadata": {
    "execution": {
     "iopub.execute_input": "2021-10-16T10:07:39.153529Z",
     "iopub.status.busy": "2021-10-16T10:07:39.152791Z",
     "iopub.status.idle": "2021-10-16T10:07:39.168705Z",
     "shell.execute_reply": "2021-10-16T10:07:39.168164Z"
    },
    "papermill": {
     "duration": 0.054178,
     "end_time": "2021-10-16T10:07:39.168835",
     "exception": false,
     "start_time": "2021-10-16T10:07:39.114657",
     "status": "completed"
    },
    "tags": []
   },
   "outputs": [
    {
     "data": {
      "text/plain": [
       "((11982, 28, 28), (1984, 28, 28))"
      ]
     },
     "execution_count": 13,
     "metadata": {},
     "output_type": "execute_result"
    }
   ],
   "source": [
    "X_train.shape, X_test.shape"
   ]
  },
  {
   "cell_type": "markdown",
   "id": "5ccf3f85",
   "metadata": {
    "papermill": {
     "duration": 0.032043,
     "end_time": "2021-10-16T10:07:39.236572",
     "exception": false,
     "start_time": "2021-10-16T10:07:39.204529",
     "status": "completed"
    },
    "tags": []
   },
   "source": [
    "We reshape the data to flatten the image pixels into a set of features or co-variates:"
   ]
  },
  {
   "cell_type": "code",
   "execution_count": 14,
   "id": "5286a4a3",
   "metadata": {
    "execution": {
     "iopub.execute_input": "2021-10-16T10:07:39.304426Z",
     "iopub.status.busy": "2021-10-16T10:07:39.303850Z",
     "iopub.status.idle": "2021-10-16T10:07:39.318524Z",
     "shell.execute_reply": "2021-10-16T10:07:39.318996Z"
    },
    "papermill": {
     "duration": 0.050309,
     "end_time": "2021-10-16T10:07:39.319126",
     "exception": false,
     "start_time": "2021-10-16T10:07:39.268817",
     "status": "completed"
    },
    "tags": []
   },
   "outputs": [
    {
     "data": {
      "text/plain": [
       "((11982, 784), (1984, 784))"
      ]
     },
     "execution_count": 14,
     "metadata": {},
     "output_type": "execute_result"
    }
   ],
   "source": [
    "X_train = X_train.reshape(X_train.shape[0], -1)\n",
    "X_test = X_test.reshape(X_test.shape[0], -1)\n",
    "X_train.shape, X_test.shape"
   ]
  },
  {
   "cell_type": "code",
   "execution_count": 15,
   "id": "73c5f88a",
   "metadata": {
    "execution": {
     "iopub.execute_input": "2021-10-16T10:07:39.392054Z",
     "iopub.status.busy": "2021-10-16T10:07:39.391294Z",
     "iopub.status.idle": "2021-10-16T10:07:39.412893Z",
     "shell.execute_reply": "2021-10-16T10:07:39.413756Z"
    },
    "papermill": {
     "duration": 0.059051,
     "end_time": "2021-10-16T10:07:39.413878",
     "exception": false,
     "start_time": "2021-10-16T10:07:39.354827",
     "status": "completed"
    },
    "tags": []
   },
   "outputs": [],
   "source": [
    "#Impoting functions from 'Kudzu'\n",
    "from kudzu.model import Model\n",
    "from kudzu.train import Learner\n",
    "from kudzu.optim import GD\n",
    "from kudzu.data import Data, Sampler,Dataloader\n",
    "\n",
    "from kudzu.callbacks import AccCallback\n",
    "from kudzu.callbacks import ClfCallback\n",
    "\n",
    "from kudzu.loss import MSE\n",
    "\n",
    "from kudzu.layer import Sigmoid,Relu\n",
    "from kudzu.layer import Affine"
   ]
  },
  {
   "cell_type": "markdown",
   "id": "bc01172a",
   "metadata": {
    "papermill": {
     "duration": 0.038668,
     "end_time": "2021-10-16T10:07:39.485883",
     "exception": false,
     "start_time": "2021-10-16T10:07:39.447215",
     "status": "completed"
    },
    "tags": []
   },
   "source": [
    "### Let us create a `Config` class, to store important parameters. \n",
    "This class essentially plays the role of a dictionary."
   ]
  },
  {
   "cell_type": "code",
   "execution_count": 16,
   "id": "978281aa",
   "metadata": {
    "execution": {
     "iopub.execute_input": "2021-10-16T10:07:39.559181Z",
     "iopub.status.busy": "2021-10-16T10:07:39.558370Z",
     "iopub.status.idle": "2021-10-16T10:07:39.571663Z",
     "shell.execute_reply": "2021-10-16T10:07:39.572177Z"
    },
    "papermill": {
     "duration": 0.052129,
     "end_time": "2021-10-16T10:07:39.572305",
     "exception": false,
     "start_time": "2021-10-16T10:07:39.520176",
     "status": "completed"
    },
    "tags": []
   },
   "outputs": [],
   "source": [
    "class Config:\n",
    "    pass\n",
    "config = Config()\n",
    "config.lr = 0.001\n",
    "config.num_epochs = 250\n",
    "config.bs = 50"
   ]
  },
  {
   "cell_type": "markdown",
   "id": "1385fa59",
   "metadata": {
    "papermill": {
     "duration": 0.031907,
     "end_time": "2021-10-16T10:07:39.638098",
     "exception": false,
     "start_time": "2021-10-16T10:07:39.606191",
     "status": "completed"
    },
    "tags": []
   },
   "source": [
    "### Running Models with the Training data\n",
    "Details about the network layers:\n",
    "- A first affine layer has 784 inputs and does 100 affine transforms. These are followed by a Relu\n",
    "- A second affine layer has 100 inputs from the 100 activations of the past layer, and does 100 affine transforms. These are followed by a Relu\n",
    "- A third affine layer has 100 activations and does 2 affine transformations to create an embedding for visualization. There is no non-linearity here.\n",
    "- A final \"logistic regression\" which has an affine transform from 2 inputs to 1 output, which is squeezed through a sigmoid.\n"
   ]
  },
  {
   "cell_type": "code",
   "execution_count": 17,
   "id": "2b9c66db",
   "metadata": {
    "execution": {
     "iopub.execute_input": "2021-10-16T10:07:39.713596Z",
     "iopub.status.busy": "2021-10-16T10:07:39.712975Z",
     "iopub.status.idle": "2021-10-16T10:07:39.726572Z",
     "shell.execute_reply": "2021-10-16T10:07:39.726050Z"
    },
    "papermill": {
     "duration": 0.054777,
     "end_time": "2021-10-16T10:07:39.726693",
     "exception": false,
     "start_time": "2021-10-16T10:07:39.671916",
     "status": "completed"
    },
    "tags": []
   },
   "outputs": [],
   "source": [
    "data = Data(X_train, y_train.reshape(-1,1))\n",
    "sampler = Sampler(data, config.bs, shuffle=True)\n",
    "\n",
    "dl = Dataloader(data, sampler)\n",
    "\n",
    "opt = GD(config.lr)\n",
    "loss = MSE()"
   ]
  },
  {
   "cell_type": "code",
   "execution_count": 18,
   "id": "b275e4c2",
   "metadata": {
    "execution": {
     "iopub.execute_input": "2021-10-16T10:07:39.799676Z",
     "iopub.status.busy": "2021-10-16T10:07:39.798806Z",
     "iopub.status.idle": "2021-10-16T10:07:39.812807Z",
     "shell.execute_reply": "2021-10-16T10:07:39.812313Z"
    },
    "papermill": {
     "duration": 0.052527,
     "end_time": "2021-10-16T10:07:39.812922",
     "exception": false,
     "start_time": "2021-10-16T10:07:39.760395",
     "status": "completed"
    },
    "tags": []
   },
   "outputs": [],
   "source": [
    "training_data_x = X_train\n",
    "testing_data_x = X_test\n",
    "training_data_y = y_train.reshape(-1,1)\n",
    "testing_data_y = y_test.reshape(-1,1)"
   ]
  },
  {
   "cell_type": "code",
   "execution_count": 19,
   "id": "76951160",
   "metadata": {
    "execution": {
     "iopub.execute_input": "2021-10-16T10:07:39.889316Z",
     "iopub.status.busy": "2021-10-16T10:07:39.888477Z",
     "iopub.status.idle": "2021-10-16T10:07:39.905055Z",
     "shell.execute_reply": "2021-10-16T10:07:39.905572Z"
    },
    "papermill": {
     "duration": 0.058911,
     "end_time": "2021-10-16T10:07:39.905714",
     "exception": false,
     "start_time": "2021-10-16T10:07:39.846803",
     "status": "completed"
    },
    "tags": []
   },
   "outputs": [
    {
     "name": "stdout",
     "output_type": "stream",
     "text": [
      "xavier\n",
      "xavier\n",
      "xavier\n",
      "xavier\n",
      "xavier\n"
     ]
    }
   ],
   "source": [
    "layers = [Affine(\"first\", 784, 100), Relu(\"first\"), Affine(\"second\", 100, 100), Relu(\"second\"), Affine(\"third\", 100, 2), Affine(\"last\", 2, 1), Sigmoid(\"last\")]\n",
    "model_nn = Model(layers)\n",
    "model_lr = Model([Affine(\"logits\", 784, 1), Sigmoid(\"sigmoid\")])"
   ]
  },
  {
   "cell_type": "code",
   "execution_count": 20,
   "id": "6eede77a",
   "metadata": {
    "execution": {
     "iopub.execute_input": "2021-10-16T10:07:39.985719Z",
     "iopub.status.busy": "2021-10-16T10:07:39.985046Z",
     "iopub.status.idle": "2021-10-16T10:07:39.999407Z",
     "shell.execute_reply": "2021-10-16T10:07:39.998805Z"
    },
    "papermill": {
     "duration": 0.056939,
     "end_time": "2021-10-16T10:07:39.999577",
     "exception": false,
     "start_time": "2021-10-16T10:07:39.942638",
     "status": "completed"
    },
    "tags": []
   },
   "outputs": [],
   "source": [
    "nn_learner = Learner(loss, model_nn, opt, config.num_epochs)\n",
    "acc_nn = ClfCallback(nn_learner, config.bs, training_data_x , testing_data_x, training_data_y, testing_data_y)\n",
    "nn_learner.set_callbacks([acc_nn])"
   ]
  },
  {
   "cell_type": "code",
   "execution_count": 21,
   "id": "877b6cc7",
   "metadata": {
    "execution": {
     "iopub.execute_input": "2021-10-16T10:07:40.088975Z",
     "iopub.status.busy": "2021-10-16T10:07:40.088044Z",
     "iopub.status.idle": "2021-10-16T10:07:40.102173Z",
     "shell.execute_reply": "2021-10-16T10:07:40.102707Z"
    },
    "papermill": {
     "duration": 0.065364,
     "end_time": "2021-10-16T10:07:40.102848",
     "exception": false,
     "start_time": "2021-10-16T10:07:40.037484",
     "status": "completed"
    },
    "tags": []
   },
   "outputs": [],
   "source": [
    "lr_learner = Learner(loss, model_lr, opt, config.num_epochs)\n",
    "acc_lr = ClfCallback(lr_learner, config.bs, training_data_x , testing_data_x, training_data_y, testing_data_y)\n",
    "lr_learner.set_callbacks([acc_lr])"
   ]
  },
  {
   "cell_type": "code",
   "execution_count": 22,
   "id": "d9b133c3",
   "metadata": {
    "execution": {
     "iopub.execute_input": "2021-10-16T10:07:40.185641Z",
     "iopub.status.busy": "2021-10-16T10:07:40.185023Z",
     "iopub.status.idle": "2021-10-16T10:10:07.716629Z",
     "shell.execute_reply": "2021-10-16T10:10:07.717455Z"
    },
    "papermill": {
     "duration": 147.574718,
     "end_time": "2021-10-16T10:10:07.717622",
     "exception": false,
     "start_time": "2021-10-16T10:07:40.142904",
     "status": "completed"
    },
    "tags": []
   },
   "outputs": [
    {
     "name": "stdout",
     "output_type": "stream",
     "text": [
      "Epoch 0, Loss 0.2463\n",
      "Training Accuracy: 0.6333, Testing Accuracy: 0.6431\n",
      "\n"
     ]
    },
    {
     "name": "stdout",
     "output_type": "stream",
     "text": [
      "Epoch 10, Loss 0.0871\n",
      "Training Accuracy: 0.9200, Testing Accuracy: 0.9380\n",
      "\n"
     ]
    },
    {
     "name": "stdout",
     "output_type": "stream",
     "text": [
      "Epoch 20, Loss 0.0543\n",
      "Training Accuracy: 0.9437, Testing Accuracy: 0.9551\n",
      "\n"
     ]
    },
    {
     "name": "stdout",
     "output_type": "stream",
     "text": [
      "Epoch 30, Loss 0.0432\n",
      "Training Accuracy: 0.9531, Testing Accuracy: 0.9627\n",
      "\n"
     ]
    },
    {
     "name": "stdout",
     "output_type": "stream",
     "text": [
      "Epoch 40, Loss 0.0375\n",
      "Training Accuracy: 0.9584, Testing Accuracy: 0.9662\n",
      "\n"
     ]
    },
    {
     "name": "stdout",
     "output_type": "stream",
     "text": [
      "Epoch 50, Loss 0.0339\n",
      "Training Accuracy: 0.9618, Testing Accuracy: 0.9672\n",
      "\n"
     ]
    },
    {
     "name": "stdout",
     "output_type": "stream",
     "text": [
      "Epoch 60, Loss 0.0315\n",
      "Training Accuracy: 0.9631, Testing Accuracy: 0.9688\n",
      "\n"
     ]
    },
    {
     "name": "stdout",
     "output_type": "stream",
     "text": [
      "Epoch 70, Loss 0.0296\n",
      "Training Accuracy: 0.9657, Testing Accuracy: 0.9703\n",
      "\n"
     ]
    },
    {
     "name": "stdout",
     "output_type": "stream",
     "text": [
      "Epoch 80, Loss 0.0282\n",
      "Training Accuracy: 0.9670, Testing Accuracy: 0.9693\n",
      "\n"
     ]
    },
    {
     "name": "stdout",
     "output_type": "stream",
     "text": [
      "Epoch 90, Loss 0.027\n",
      "Training Accuracy: 0.9687, Testing Accuracy: 0.9693\n",
      "\n"
     ]
    },
    {
     "name": "stdout",
     "output_type": "stream",
     "text": [
      "Epoch 100, Loss 0.026\n",
      "Training Accuracy: 0.9697, Testing Accuracy: 0.9698\n",
      "\n"
     ]
    },
    {
     "name": "stdout",
     "output_type": "stream",
     "text": [
      "Epoch 110, Loss 0.0251\n",
      "Training Accuracy: 0.9707, Testing Accuracy: 0.9698\n",
      "\n"
     ]
    },
    {
     "name": "stdout",
     "output_type": "stream",
     "text": [
      "Epoch 120, Loss 0.0243\n",
      "Training Accuracy: 0.9716, Testing Accuracy: 0.9698\n",
      "\n"
     ]
    },
    {
     "name": "stdout",
     "output_type": "stream",
     "text": [
      "Epoch 130, Loss 0.0236\n",
      "Training Accuracy: 0.9727, Testing Accuracy: 0.9693\n",
      "\n"
     ]
    },
    {
     "name": "stdout",
     "output_type": "stream",
     "text": [
      "Epoch 140, Loss 0.023\n",
      "Training Accuracy: 0.9732, Testing Accuracy: 0.9698\n",
      "\n"
     ]
    },
    {
     "name": "stdout",
     "output_type": "stream",
     "text": [
      "Epoch 150, Loss 0.0224\n",
      "Training Accuracy: 0.9743, Testing Accuracy: 0.9703\n",
      "\n"
     ]
    },
    {
     "name": "stdout",
     "output_type": "stream",
     "text": [
      "Epoch 160, Loss 0.0219\n",
      "Training Accuracy: 0.9751, Testing Accuracy: 0.9698\n",
      "\n"
     ]
    },
    {
     "name": "stdout",
     "output_type": "stream",
     "text": [
      "Epoch 170, Loss 0.0213\n",
      "Training Accuracy: 0.9755, Testing Accuracy: 0.9708\n",
      "\n"
     ]
    },
    {
     "name": "stdout",
     "output_type": "stream",
     "text": [
      "Epoch 180, Loss 0.0209\n",
      "Training Accuracy: 0.9760, Testing Accuracy: 0.9718\n",
      "\n"
     ]
    },
    {
     "name": "stdout",
     "output_type": "stream",
     "text": [
      "Epoch 190, Loss 0.0204\n",
      "Training Accuracy: 0.9765, Testing Accuracy: 0.9718\n",
      "\n"
     ]
    },
    {
     "name": "stdout",
     "output_type": "stream",
     "text": [
      "Epoch 200, Loss 0.02\n",
      "Training Accuracy: 0.9770, Testing Accuracy: 0.9723\n",
      "\n"
     ]
    },
    {
     "name": "stdout",
     "output_type": "stream",
     "text": [
      "Epoch 210, Loss 0.0195\n",
      "Training Accuracy: 0.9774, Testing Accuracy: 0.9723\n",
      "\n"
     ]
    },
    {
     "name": "stdout",
     "output_type": "stream",
     "text": [
      "Epoch 220, Loss 0.0191\n",
      "Training Accuracy: 0.9781, Testing Accuracy: 0.9723\n",
      "\n"
     ]
    },
    {
     "name": "stdout",
     "output_type": "stream",
     "text": [
      "Epoch 230, Loss 0.0187\n",
      "Training Accuracy: 0.9786, Testing Accuracy: 0.9718\n",
      "\n"
     ]
    },
    {
     "name": "stdout",
     "output_type": "stream",
     "text": [
      "Epoch 240, Loss 0.0184\n",
      "Training Accuracy: 0.9791, Testing Accuracy: 0.9723\n",
      "\n"
     ]
    },
    {
     "data": {
      "text/plain": [
       "0.00034502820556171114"
      ]
     },
     "execution_count": 22,
     "metadata": {},
     "output_type": "execute_result"
    }
   ],
   "source": [
    "nn_learner.train_loop(dl)"
   ]
  },
  {
   "cell_type": "code",
   "execution_count": 23,
   "id": "e0163366",
   "metadata": {
    "execution": {
     "iopub.execute_input": "2021-10-16T10:10:07.825381Z",
     "iopub.status.busy": "2021-10-16T10:10:07.824732Z",
     "iopub.status.idle": "2021-10-16T10:10:29.219933Z",
     "shell.execute_reply": "2021-10-16T10:10:29.220778Z"
    },
    "papermill": {
     "duration": 21.455621,
     "end_time": "2021-10-16T10:10:29.220942",
     "exception": false,
     "start_time": "2021-10-16T10:10:07.765321",
     "status": "completed"
    },
    "tags": []
   },
   "outputs": [
    {
     "name": "stdout",
     "output_type": "stream",
     "text": [
      "Epoch 0, Loss 0.2561\n",
      "Training Accuracy: 0.6277, Testing Accuracy: 0.6396\n",
      "\n"
     ]
    },
    {
     "name": "stdout",
     "output_type": "stream",
     "text": [
      "Epoch 10, Loss 0.1067\n",
      "Training Accuracy: 0.8981, Testing Accuracy: 0.9113\n",
      "\n"
     ]
    },
    {
     "name": "stdout",
     "output_type": "stream",
     "text": [
      "Epoch 20, Loss 0.0816\n",
      "Training Accuracy: 0.9210, Testing Accuracy: 0.9335\n",
      "\n"
     ]
    },
    {
     "name": "stdout",
     "output_type": "stream",
     "text": [
      "Epoch 30, Loss 0.07\n",
      "Training Accuracy: 0.9320, Testing Accuracy: 0.9446\n",
      "\n"
     ]
    },
    {
     "name": "stdout",
     "output_type": "stream",
     "text": [
      "Epoch 40, Loss 0.063\n",
      "Training Accuracy: 0.9384, Testing Accuracy: 0.9501\n",
      "\n"
     ]
    },
    {
     "name": "stdout",
     "output_type": "stream",
     "text": [
      "Epoch 50, Loss 0.0582\n",
      "Training Accuracy: 0.9427, Testing Accuracy: 0.9551\n",
      "\n"
     ]
    },
    {
     "name": "stdout",
     "output_type": "stream",
     "text": [
      "Epoch 60, Loss 0.0547\n",
      "Training Accuracy: 0.9458, Testing Accuracy: 0.9587\n",
      "\n"
     ]
    },
    {
     "name": "stdout",
     "output_type": "stream",
     "text": [
      "Epoch 70, Loss 0.0521\n",
      "Training Accuracy: 0.9477, Testing Accuracy: 0.9592\n",
      "\n"
     ]
    },
    {
     "name": "stdout",
     "output_type": "stream",
     "text": [
      "Epoch 80, Loss 0.0499\n",
      "Training Accuracy: 0.9496, Testing Accuracy: 0.9597\n",
      "\n"
     ]
    },
    {
     "name": "stdout",
     "output_type": "stream",
     "text": [
      "Epoch 90, Loss 0.0481\n",
      "Training Accuracy: 0.9510, Testing Accuracy: 0.9612\n",
      "\n"
     ]
    },
    {
     "name": "stdout",
     "output_type": "stream",
     "text": [
      "Epoch 100, Loss 0.0466\n",
      "Training Accuracy: 0.9523, Testing Accuracy: 0.9627\n",
      "\n"
     ]
    },
    {
     "name": "stdout",
     "output_type": "stream",
     "text": [
      "Epoch 110, Loss 0.0454\n",
      "Training Accuracy: 0.9540, Testing Accuracy: 0.9632\n",
      "\n"
     ]
    },
    {
     "name": "stdout",
     "output_type": "stream",
     "text": [
      "Epoch 120, Loss 0.0443\n",
      "Training Accuracy: 0.9550, Testing Accuracy: 0.9642\n",
      "\n"
     ]
    },
    {
     "name": "stdout",
     "output_type": "stream",
     "text": [
      "Epoch 130, Loss 0.0433\n",
      "Training Accuracy: 0.9558, Testing Accuracy: 0.9637\n",
      "\n"
     ]
    },
    {
     "name": "stdout",
     "output_type": "stream",
     "text": [
      "Epoch 140, Loss 0.0424\n",
      "Training Accuracy: 0.9559, Testing Accuracy: 0.9642\n",
      "\n"
     ]
    },
    {
     "name": "stdout",
     "output_type": "stream",
     "text": [
      "Epoch 150, Loss 0.0417\n",
      "Training Accuracy: 0.9566, Testing Accuracy: 0.9647\n",
      "\n"
     ]
    },
    {
     "name": "stdout",
     "output_type": "stream",
     "text": [
      "Epoch 160, Loss 0.041\n",
      "Training Accuracy: 0.9570, Testing Accuracy: 0.9647\n",
      "\n"
     ]
    },
    {
     "name": "stdout",
     "output_type": "stream",
     "text": [
      "Epoch 170, Loss 0.0403\n",
      "Training Accuracy: 0.9571, Testing Accuracy: 0.9647\n",
      "\n"
     ]
    },
    {
     "name": "stdout",
     "output_type": "stream",
     "text": [
      "Epoch 180, Loss 0.0397\n",
      "Training Accuracy: 0.9574, Testing Accuracy: 0.9647\n",
      "\n"
     ]
    },
    {
     "name": "stdout",
     "output_type": "stream",
     "text": [
      "Epoch 190, Loss 0.0392\n",
      "Training Accuracy: 0.9578, Testing Accuracy: 0.9647\n",
      "\n"
     ]
    },
    {
     "name": "stdout",
     "output_type": "stream",
     "text": [
      "Epoch 200, Loss 0.0387\n",
      "Training Accuracy: 0.9582, Testing Accuracy: 0.9647\n",
      "\n"
     ]
    },
    {
     "name": "stdout",
     "output_type": "stream",
     "text": [
      "Epoch 210, Loss 0.0383\n",
      "Training Accuracy: 0.9585, Testing Accuracy: 0.9652\n",
      "\n"
     ]
    },
    {
     "name": "stdout",
     "output_type": "stream",
     "text": [
      "Epoch 220, Loss 0.0378\n",
      "Training Accuracy: 0.9587, Testing Accuracy: 0.9652\n",
      "\n"
     ]
    },
    {
     "name": "stdout",
     "output_type": "stream",
     "text": [
      "Epoch 230, Loss 0.0374\n",
      "Training Accuracy: 0.9596, Testing Accuracy: 0.9652\n",
      "\n"
     ]
    },
    {
     "name": "stdout",
     "output_type": "stream",
     "text": [
      "Epoch 240, Loss 0.0371\n",
      "Training Accuracy: 0.9601, Testing Accuracy: 0.9662\n",
      "\n"
     ]
    },
    {
     "data": {
      "text/plain": [
       "0.04208863343142691"
      ]
     },
     "execution_count": 23,
     "metadata": {},
     "output_type": "execute_result"
    }
   ],
   "source": [
    "lr_learner.train_loop(dl)"
   ]
  },
  {
   "cell_type": "code",
   "execution_count": 24,
   "id": "ca410940",
   "metadata": {
    "execution": {
     "iopub.execute_input": "2021-10-16T10:10:29.334690Z",
     "iopub.status.busy": "2021-10-16T10:10:29.334003Z",
     "iopub.status.idle": "2021-10-16T10:10:29.640024Z",
     "shell.execute_reply": "2021-10-16T10:10:29.639488Z"
    },
    "papermill": {
     "duration": 0.365938,
     "end_time": "2021-10-16T10:10:29.640157",
     "exception": false,
     "start_time": "2021-10-16T10:10:29.274219",
     "status": "completed"
    },
    "tags": []
   },
   "outputs": [
    {
     "data": {
      "text/plain": [
       "<matplotlib.legend.Legend at 0x7f5e8ef22dd8>"
      ]
     },
     "execution_count": 24,
     "metadata": {},
     "output_type": "execute_result"
    },
    {
     "data": {
      "image/png": "[encoded data removed]",
      "text/plain": [
       "<Figure size 1080x720 with 1 Axes>"
      ]
     },
     "metadata": {
      "needs_background": "light"
     },
     "output_type": "display_data"
    }
   ],
   "source": [
    "#comparing the results of NN and LR\n",
    "plt.figure(figsize=(15,10))\n",
    "\n",
    "# Neural Network plots\n",
    "plt.plot(acc_nn.accuracies, 'r-', label = \"Training Accuracies - NN\")\n",
    "plt.plot(acc_nn.test_accuracies, 'g-', label = \"Testing Accuracies - NN\")\n",
    "\n",
    "# Logistic Regression plots\n",
    "plt.plot(acc_lr.accuracies, 'k-', label = \"Training Accuracies - LR\")\n",
    "plt.plot(acc_lr.test_accuracies, 'b-', label = \"Testing Accuracies - LR\")\n",
    "plt.legend()"
   ]
  },
  {
   "cell_type": "markdown",
   "id": "80dfb35c",
   "metadata": {
    "papermill": {
     "duration": 0.04982,
     "end_time": "2021-10-16T10:10:29.741686",
     "exception": false,
     "start_time": "2021-10-16T10:10:29.691866",
     "status": "completed"
    },
    "tags": []
   },
   "source": [
    "#### Plotting the outputs of this layer of the NN.\n"
   ]
  },
  {
   "cell_type": "code",
   "execution_count": 25,
   "id": "45eb2ff5",
   "metadata": {
    "execution": {
     "iopub.execute_input": "2021-10-16T10:10:29.859662Z",
     "iopub.status.busy": "2021-10-16T10:10:29.854811Z",
     "iopub.status.idle": "2021-10-16T10:10:29.882898Z",
     "shell.execute_reply": "2021-10-16T10:10:29.883386Z"
    },
    "papermill": {
     "duration": 0.085476,
     "end_time": "2021-10-16T10:10:29.883583",
     "exception": false,
     "start_time": "2021-10-16T10:10:29.798107",
     "status": "completed"
    },
    "tags": []
   },
   "outputs": [],
   "source": [
    "new_model = Model(layers[:-2])\n",
    "testing_plot = new_model(testing_data_x)"
   ]
  },
  {
   "cell_type": "code",
   "execution_count": 26,
   "id": "4c0a5485",
   "metadata": {
    "execution": {
     "iopub.execute_input": "2021-10-16T10:10:30.008924Z",
     "iopub.status.busy": "2021-10-16T10:10:30.008322Z",
     "iopub.status.idle": "2021-10-16T10:10:30.293022Z",
     "shell.execute_reply": "2021-10-16T10:10:30.292516Z"
    },
    "papermill": {
     "duration": 0.350608,
     "end_time": "2021-10-16T10:10:30.293156",
     "exception": false,
     "start_time": "2021-10-16T10:10:29.942548",
     "status": "completed"
    },
    "tags": []
   },
   "outputs": [
    {
     "data": {
      "text/plain": [
       "Text(0.5, 1.0, 'Outputs')"
      ]
     },
     "execution_count": 26,
     "metadata": {},
     "output_type": "execute_result"
    },
    {
     "data": {
      "image/png": "[encoded data removed]",
      "text/plain": [
       "<Figure size 576x504 with 1 Axes>"
      ]
     },
     "metadata": {
      "needs_background": "light"
     },
     "output_type": "display_data"
    }
   ],
   "source": [
    "# Plotting the scatter plot of points and color coding by class\n",
    "plt.figure(figsize=(8,7))\n",
    "plt.scatter(testing_plot[:,0], testing_plot[:,1], alpha = 0.1, c = y_test.ravel());\n",
    "plt.title('Outputs')"
   ]
  },
  {
   "cell_type": "markdown",
   "id": "a74fcf8f",
   "metadata": {
    "papermill": {
     "duration": 0.060083,
     "end_time": "2021-10-16T10:10:30.411444",
     "exception": false,
     "start_time": "2021-10-16T10:10:30.351361",
     "status": "completed"
    },
    "tags": []
   },
   "source": [
    "Probability contours"
   ]
  },
  {
   "cell_type": "code",
   "execution_count": 27,
   "id": "d0afc8e3",
   "metadata": {
    "execution": {
     "iopub.execute_input": "2021-10-16T10:10:30.564734Z",
     "iopub.status.busy": "2021-10-16T10:10:30.564113Z",
     "iopub.status.idle": "2021-10-16T10:10:30.577637Z",
     "shell.execute_reply": "2021-10-16T10:10:30.578317Z"
    },
    "papermill": {
     "duration": 0.107516,
     "end_time": "2021-10-16T10:10:30.578509",
     "exception": false,
     "start_time": "2021-10-16T10:10:30.470993",
     "status": "completed"
    },
    "tags": []
   },
   "outputs": [],
   "source": [
    "model_prob = Model(layers[-2:]) "
   ]
  },
  {
   "cell_type": "code",
   "execution_count": 28,
   "id": "9b96e238",
   "metadata": {
    "execution": {
     "iopub.execute_input": "2021-10-16T10:10:30.716156Z",
     "iopub.status.busy": "2021-10-16T10:10:30.715519Z",
     "iopub.status.idle": "2021-10-16T10:10:30.724473Z",
     "shell.execute_reply": "2021-10-16T10:10:30.724962Z"
    },
    "papermill": {
     "duration": 0.087489,
     "end_time": "2021-10-16T10:10:30.725103",
     "exception": false,
     "start_time": "2021-10-16T10:10:30.637614",
     "status": "completed"
    },
    "tags": []
   },
   "outputs": [],
   "source": [
    "#creating the x and y ranges according to the above generated plot.\n",
    "x_range = np.linspace(-4, 1, 100) \n",
    "y_range = np.linspace(-6, 6, 100) \n",
    "x_grid, y_grid = np.meshgrid(x_range, y_range) # x_grid and y_grig are of size 100 X 100\n",
    "\n",
    "# converting x_grid and y_grid to continuous arrays\n",
    "x_gridflat = np.ravel(x_grid)\n",
    "y_gridflat = np.ravel(y_grid)\n",
    "\n",
    "# The last layer of the current model takes two columns as input. Hence transpose of np.vstack() is required.\n",
    "X = np.vstack((x_gridflat, y_gridflat)).T\n",
    "\n",
    "prob_contour = model_prob(X).reshape(100,100) "
   ]
  },
  {
   "cell_type": "code",
   "execution_count": 29,
   "id": "da72499a",
   "metadata": {
    "execution": {
     "iopub.execute_input": "2021-10-16T10:10:30.847079Z",
     "iopub.status.busy": "2021-10-16T10:10:30.846469Z",
     "iopub.status.idle": "2021-10-16T10:10:31.167882Z",
     "shell.execute_reply": "2021-10-16T10:10:31.167197Z"
    },
    "papermill": {
     "duration": 0.385205,
     "end_time": "2021-10-16T10:10:31.168129",
     "exception": false,
     "start_time": "2021-10-16T10:10:30.782924",
     "status": "completed"
    },
    "tags": []
   },
   "outputs": [
    {
     "data": {
      "image/png": "[encoded data removed]",
      "text/plain": [
       "<Figure size 720x648 with 1 Axes>"
      ]
     },
     "metadata": {
      "needs_background": "light"
     },
     "output_type": "display_data"
    }
   ],
   "source": [
    "plt.figure(figsize=(10,9))\n",
    "plt.scatter(testing_plot[:,0], testing_plot[:,1], alpha = 0.1, c = y_test.ravel())\n",
    "contours = plt.contour(x_grid,y_grid,prob_contour)\n",
    "plt.title('Probability Contours')\n",
    "plt.clabel(contours, inline = True );"
   ]
  },
  {
   "cell_type": "code",
   "execution_count": null,
   "id": "e81b4ac7",
   "metadata": {
    "papermill": {
     "duration": 0.05324,
     "end_time": "2021-10-16T10:10:31.284796",
     "exception": false,
     "start_time": "2021-10-16T10:10:31.231556",
     "status": "completed"
    },
    "tags": []
   },
   "outputs": [],
   "source": []
  }
 ],
 "metadata": {
  "kernelspec": {
   "display_name": "Python 3",
   "language": "python",
   "name": "python3"
  },
  "language_info": {
   "codemirror_mode": {
    "name": "ipython",
    "version": 3
   },
   "file_extension": ".py",
   "mimetype": "text/x-python",
   "name": "python",
   "nbconvert_exporter": "python",
   "pygments_lexer": "ipython3",
   "version": "3.6.15"
  },
  "papermill": {
   "default_parameters": {},
   "duration": 179.19123,
   "end_time": "2021-10-16T10:10:31.756537",
   "environment_variables": {},
   "exception": null,
   "input_path": "2020-08-11-part2.ipynb",
   "output_path": "2020-08-11-part2.ipynb",
   "parameters": {},
   "start_time": "2021-10-16T10:07:32.565307",
   "version": "2.3.3"
  }
 },
 "nbformat": 4,
 "nbformat_minor": 5
}