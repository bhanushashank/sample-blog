{
 "cells": [
  {
   "cell_type": "markdown",
   "id": "98380cd3",
   "metadata": {
    "papermill": {
     "duration": 0.028791,
     "end_time": "2022-02-22T20:09:38.070026",
     "exception": false,
     "start_time": "2022-02-22T20:09:38.041235",
     "status": "completed"
    },
    "tags": []
   },
   "source": [
    "# Distinguish Your Own Digits (DYOD)"
   ]
  },
  {
   "cell_type": "markdown",
   "id": "ef31240d",
   "metadata": {
    "papermill": {
     "duration": 0.025134,
     "end_time": "2022-02-22T20:09:38.119419",
     "exception": false,
     "start_time": "2022-02-22T20:09:38.094285",
     "status": "completed"
    },
    "tags": []
   },
   "source": [
    "You are going to write a classifier that distinguishes between the number 3 and number 8."
   ]
  },
  {
   "cell_type": "code",
   "execution_count": 1,
   "id": "b15c8646",
   "metadata": {
    "execution": {
     "iopub.execute_input": "2022-02-22T20:09:38.176109Z",
     "iopub.status.busy": "2022-02-22T20:09:38.175564Z",
     "iopub.status.idle": "2022-02-22T20:09:38.184951Z",
     "shell.execute_reply": "2022-02-22T20:09:38.185490Z"
    },
    "papermill": {
     "duration": 0.041966,
     "end_time": "2022-02-22T20:09:38.185630",
     "exception": false,
     "start_time": "2022-02-22T20:09:38.143664",
     "status": "completed"
    },
    "tags": []
   },
   "outputs": [],
   "source": [
    "%load_ext autoreload\n",
    "%autoreload 2"
   ]
  },
  {
   "cell_type": "code",
   "execution_count": 2,
   "id": "22ef38dc",
   "metadata": {
    "execution": {
     "iopub.execute_input": "2022-02-22T20:09:38.235516Z",
     "iopub.status.busy": "2022-02-22T20:09:38.234977Z",
     "iopub.status.idle": "2022-02-22T20:09:38.771813Z",
     "shell.execute_reply": "2022-02-22T20:09:38.772387Z"
    },
    "papermill": {
     "duration": 0.563646,
     "end_time": "2022-02-22T20:09:38.772598",
     "exception": false,
     "start_time": "2022-02-22T20:09:38.208952",
     "status": "completed"
    },
    "tags": []
   },
   "outputs": [],
   "source": [
    "%matplotlib inline\n",
    "import numpy as np\n",
    "import matplotlib.pyplot as plt\n",
    "import pandas as pd"
   ]
  },
  {
   "cell_type": "markdown",
   "id": "ba036198",
   "metadata": {
    "papermill": {
     "duration": 0.024232,
     "end_time": "2022-02-22T20:09:38.821496",
     "exception": false,
     "start_time": "2022-02-22T20:09:38.797264",
     "status": "completed"
    },
    "tags": []
   },
   "source": [
    "From the command line run `pip install mnist`. This is a library that will help you bring down the mnist dataset. If you run this from a notebook, you need to put  `!pip install mnist` in a cell by itself."
   ]
  },
  {
   "cell_type": "code",
   "execution_count": 3,
   "id": "bb6ad8a1",
   "metadata": {
    "execution": {
     "iopub.execute_input": "2022-02-22T20:09:38.889673Z",
     "iopub.status.busy": "2022-02-22T20:09:38.886473Z",
     "iopub.status.idle": "2022-02-22T20:09:41.307339Z",
     "shell.execute_reply": "2022-02-22T20:09:41.307792Z"
    },
    "papermill": {
     "duration": 2.461761,
     "end_time": "2022-02-22T20:09:41.307959",
     "exception": false,
     "start_time": "2022-02-22T20:09:38.846198",
     "status": "completed"
    },
    "tags": []
   },
   "outputs": [
    {
     "name": "stdout",
     "output_type": "stream",
     "text": [
      "Collecting mnist\r\n"
     ]
    },
    {
     "name": "stdout",
     "output_type": "stream",
     "text": [
      "  Downloading mnist-0.2.2-py2.py3-none-any.whl (3.5 kB)\r\n",
      "Requirement already satisfied: numpy in /opt/hostedtoolcache/Python/3.6.15/x64/lib/python3.6/site-packages (from mnist) (1.19.5)\r\n"
     ]
    },
    {
     "name": "stdout",
     "output_type": "stream",
     "text": [
      "Installing collected packages: mnist\r\n",
      "Successfully installed mnist-0.2.2\r\n"
     ]
    }
   ],
   "source": [
    "!pip install mnist"
   ]
  },
  {
   "cell_type": "markdown",
   "id": "69df9c9a",
   "metadata": {
    "papermill": {
     "duration": 0.024763,
     "end_time": "2022-02-22T20:09:41.357602",
     "exception": false,
     "start_time": "2022-02-22T20:09:41.332839",
     "status": "completed"
    },
    "tags": []
   },
   "source": [
    "## Preparing the Data"
   ]
  },
  {
   "cell_type": "code",
   "execution_count": 4,
   "id": "7f69d806",
   "metadata": {
    "execution": {
     "iopub.execute_input": "2022-02-22T20:09:41.416662Z",
     "iopub.status.busy": "2022-02-22T20:09:41.416130Z",
     "iopub.status.idle": "2022-02-22T20:09:41.425181Z",
     "shell.execute_reply": "2022-02-22T20:09:41.425646Z"
    },
    "papermill": {
     "duration": 0.044011,
     "end_time": "2022-02-22T20:09:41.425761",
     "exception": false,
     "start_time": "2022-02-22T20:09:41.381750",
     "status": "completed"
    },
    "tags": []
   },
   "outputs": [],
   "source": [
    "import mnist"
   ]
  },
  {
   "cell_type": "code",
   "execution_count": 5,
   "id": "a411e44f",
   "metadata": {
    "execution": {
     "iopub.execute_input": "2022-02-22T20:09:41.478037Z",
     "iopub.status.busy": "2022-02-22T20:09:41.477501Z",
     "iopub.status.idle": "2022-02-22T20:09:41.963398Z",
     "shell.execute_reply": "2022-02-22T20:09:41.963840Z"
    },
    "papermill": {
     "duration": 0.514326,
     "end_time": "2022-02-22T20:09:41.963999",
     "exception": false,
     "start_time": "2022-02-22T20:09:41.449673",
     "status": "completed"
    },
    "tags": []
   },
   "outputs": [],
   "source": [
    "train_images = mnist.train_images()\n",
    "train_labels = mnist.train_labels()"
   ]
  },
  {
   "cell_type": "code",
   "execution_count": 6,
   "id": "dceab3a5",
   "metadata": {
    "execution": {
     "iopub.execute_input": "2022-02-22T20:09:42.016950Z",
     "iopub.status.busy": "2022-02-22T20:09:42.016420Z",
     "iopub.status.idle": "2022-02-22T20:09:42.029568Z",
     "shell.execute_reply": "2022-02-22T20:09:42.030373Z"
    },
    "papermill": {
     "duration": 0.041795,
     "end_time": "2022-02-22T20:09:42.030496",
     "exception": false,
     "start_time": "2022-02-22T20:09:41.988701",
     "status": "completed"
    },
    "tags": []
   },
   "outputs": [
    {
     "data": {
      "text/plain": [
       "((60000, 28, 28), (60000,))"
      ]
     },
     "execution_count": 6,
     "metadata": {},
     "output_type": "execute_result"
    }
   ],
   "source": [
    "train_images.shape, train_labels.shape"
   ]
  },
  {
   "cell_type": "code",
   "execution_count": 7,
   "id": "f50dc2bb",
   "metadata": {
    "execution": {
     "iopub.execute_input": "2022-02-22T20:09:42.083609Z",
     "iopub.status.busy": "2022-02-22T20:09:42.083078Z",
     "iopub.status.idle": "2022-02-22T20:09:42.229475Z",
     "shell.execute_reply": "2022-02-22T20:09:42.228958Z"
    },
    "papermill": {
     "duration": 0.174493,
     "end_time": "2022-02-22T20:09:42.229609",
     "exception": false,
     "start_time": "2022-02-22T20:09:42.055116",
     "status": "completed"
    },
    "tags": []
   },
   "outputs": [],
   "source": [
    "test_images = mnist.test_images()\n",
    "test_labels = mnist.test_labels()"
   ]
  },
  {
   "cell_type": "code",
   "execution_count": 8,
   "id": "fc38cf1b",
   "metadata": {
    "execution": {
     "iopub.execute_input": "2022-02-22T20:09:42.284411Z",
     "iopub.status.busy": "2022-02-22T20:09:42.283880Z",
     "iopub.status.idle": "2022-02-22T20:09:42.297233Z",
     "shell.execute_reply": "2022-02-22T20:09:42.296770Z"
    },
    "papermill": {
     "duration": 0.041827,
     "end_time": "2022-02-22T20:09:42.297336",
     "exception": false,
     "start_time": "2022-02-22T20:09:42.255509",
     "status": "completed"
    },
    "tags": []
   },
   "outputs": [
    {
     "data": {
      "text/plain": [
       "((10000, 28, 28), (10000,))"
      ]
     },
     "execution_count": 8,
     "metadata": {},
     "output_type": "execute_result"
    }
   ],
   "source": [
    "test_images.shape, test_labels.shape"
   ]
  },
  {
   "cell_type": "code",
   "execution_count": 9,
   "id": "f9ed8fe0",
   "metadata": {
    "execution": {
     "iopub.execute_input": "2022-02-22T20:09:42.351170Z",
     "iopub.status.busy": "2022-02-22T20:09:42.350638Z",
     "iopub.status.idle": "2022-02-22T20:09:42.510378Z",
     "shell.execute_reply": "2022-02-22T20:09:42.509936Z"
    },
    "papermill": {
     "duration": 0.18719,
     "end_time": "2022-02-22T20:09:42.510481",
     "exception": false,
     "start_time": "2022-02-22T20:09:42.323291",
     "status": "completed"
    },
    "tags": []
   },
   "outputs": [
    {
     "name": "stdout",
     "output_type": "stream",
     "text": [
      "2\n"
     ]
    },
    {
     "data": {
      "text/plain": [
       "<matplotlib.image.AxesImage at 0x7f4ab60695c0>"
      ]
     },
     "execution_count": 9,
     "metadata": {},
     "output_type": "execute_result"
    },
    {
     "data": {
      "image/png": "[encoded data removed]",
      "text/plain": [
       "<Figure size 432x288 with 1 Axes>"
      ]
     },
     "metadata": {
      "needs_background": "light"
     },
     "output_type": "display_data"
    }
   ],
   "source": [
    "image_index = 7776 # You may select anything up to 60,000\n",
    "print(train_labels[image_index]) \n",
    "plt.imshow(train_images[image_index], cmap='Greys')"
   ]
  },
  {
   "cell_type": "markdown",
   "id": "a8d2388d",
   "metadata": {
    "papermill": {
     "duration": 0.025251,
     "end_time": "2022-02-22T20:09:42.561317",
     "exception": false,
     "start_time": "2022-02-22T20:09:42.536066",
     "status": "completed"
    },
    "tags": []
   },
   "source": [
    "## Filter data to get 3 and 8 out"
   ]
  },
  {
   "cell_type": "code",
   "execution_count": 10,
   "id": "776f7fc7",
   "metadata": {
    "execution": {
     "iopub.execute_input": "2022-02-22T20:09:42.616509Z",
     "iopub.status.busy": "2022-02-22T20:09:42.615986Z",
     "iopub.status.idle": "2022-02-22T20:09:42.630413Z",
     "shell.execute_reply": "2022-02-22T20:09:42.630836Z"
    },
    "papermill": {
     "duration": 0.044005,
     "end_time": "2022-02-22T20:09:42.630956",
     "exception": false,
     "start_time": "2022-02-22T20:09:42.586951",
     "status": "completed"
    },
    "tags": []
   },
   "outputs": [],
   "source": [
    "train_filter = np.where((train_labels == 3 ) | (train_labels == 8))\n",
    "test_filter = np.where((test_labels == 3) | (test_labels == 8))\n",
    "X_train, y_train = train_images[train_filter], train_labels[train_filter]\n",
    "X_test, y_test = test_images[test_filter], test_labels[test_filter]"
   ]
  },
  {
   "cell_type": "markdown",
   "id": "948f0b7e",
   "metadata": {
    "papermill": {
     "duration": 0.026931,
     "end_time": "2022-02-22T20:09:42.683508",
     "exception": false,
     "start_time": "2022-02-22T20:09:42.656577",
     "status": "completed"
    },
    "tags": []
   },
   "source": [
    "We normalize the pizel values in the 0 to 1 range"
   ]
  },
  {
   "cell_type": "code",
   "execution_count": 11,
   "id": "ee4c2166",
   "metadata": {
    "execution": {
     "iopub.execute_input": "2022-02-22T20:09:42.739452Z",
     "iopub.status.busy": "2022-02-22T20:09:42.738935Z",
     "iopub.status.idle": "2022-02-22T20:09:42.791533Z",
     "shell.execute_reply": "2022-02-22T20:09:42.791064Z"
    },
    "papermill": {
     "duration": 0.080785,
     "end_time": "2022-02-22T20:09:42.791661",
     "exception": false,
     "start_time": "2022-02-22T20:09:42.710876",
     "status": "completed"
    },
    "tags": []
   },
   "outputs": [],
   "source": [
    "X_train = X_train/255.\n",
    "X_test = X_test/255."
   ]
  },
  {
   "cell_type": "markdown",
   "id": "ddcf4fab",
   "metadata": {
    "papermill": {
     "duration": 0.025389,
     "end_time": "2022-02-22T20:09:42.845005",
     "exception": false,
     "start_time": "2022-02-22T20:09:42.819616",
     "status": "completed"
    },
    "tags": []
   },
   "source": [
    "And setup the labels as 1 (when the digit is 3) and 0 (when the digit is 8)"
   ]
  },
  {
   "cell_type": "code",
   "execution_count": 12,
   "id": "7dc908f2",
   "metadata": {
    "execution": {
     "iopub.execute_input": "2022-02-22T20:09:42.899129Z",
     "iopub.status.busy": "2022-02-22T20:09:42.898612Z",
     "iopub.status.idle": "2022-02-22T20:09:42.909696Z",
     "shell.execute_reply": "2022-02-22T20:09:42.910190Z"
    },
    "papermill": {
     "duration": 0.039807,
     "end_time": "2022-02-22T20:09:42.910300",
     "exception": false,
     "start_time": "2022-02-22T20:09:42.870493",
     "status": "completed"
    },
    "tags": []
   },
   "outputs": [],
   "source": [
    "y_train = 1*(y_train==3)\n",
    "y_test = 1*(y_test==3)"
   ]
  },
  {
   "cell_type": "code",
   "execution_count": 13,
   "id": "01e4e969",
   "metadata": {
    "execution": {
     "iopub.execute_input": "2022-02-22T20:09:42.963564Z",
     "iopub.status.busy": "2022-02-22T20:09:42.963052Z",
     "iopub.status.idle": "2022-02-22T20:09:42.974029Z",
     "shell.execute_reply": "2022-02-22T20:09:42.974520Z"
    },
    "papermill": {
     "duration": 0.039341,
     "end_time": "2022-02-22T20:09:42.974629",
     "exception": false,
     "start_time": "2022-02-22T20:09:42.935288",
     "status": "completed"
    },
    "tags": []
   },
   "outputs": [
    {
     "data": {
      "text/plain": [
       "((11982, 28, 28), (1984, 28, 28))"
      ]
     },
     "execution_count": 13,
     "metadata": {},
     "output_type": "execute_result"
    }
   ],
   "source": [
    "X_train.shape, X_test.shape"
   ]
  },
  {
   "cell_type": "markdown",
   "id": "5ccf3f85",
   "metadata": {
    "papermill": {
     "duration": 0.025607,
     "end_time": "2022-02-22T20:09:43.025798",
     "exception": false,
     "start_time": "2022-02-22T20:09:43.000191",
     "status": "completed"
    },
    "tags": []
   },
   "source": [
    "We reshape the data to flatten the image pixels into a set of features or co-variates:"
   ]
  },
  {
   "cell_type": "code",
   "execution_count": 14,
   "id": "5286a4a3",
   "metadata": {
    "execution": {
     "iopub.execute_input": "2022-02-22T20:09:43.081568Z",
     "iopub.status.busy": "2022-02-22T20:09:43.081023Z",
     "iopub.status.idle": "2022-02-22T20:09:43.091636Z",
     "shell.execute_reply": "2022-02-22T20:09:43.092077Z"
    },
    "papermill": {
     "duration": 0.040171,
     "end_time": "2022-02-22T20:09:43.092186",
     "exception": false,
     "start_time": "2022-02-22T20:09:43.052015",
     "status": "completed"
    },
    "tags": []
   },
   "outputs": [
    {
     "data": {
      "text/plain": [
       "((11982, 784), (1984, 784))"
      ]
     },
     "execution_count": 14,
     "metadata": {},
     "output_type": "execute_result"
    }
   ],
   "source": [
    "X_train = X_train.reshape(X_train.shape[0], -1)\n",
    "X_test = X_test.reshape(X_test.shape[0], -1)\n",
    "X_train.shape, X_test.shape"
   ]
  },
  {
   "cell_type": "code",
   "execution_count": 15,
   "id": "73c5f88a",
   "metadata": {
    "execution": {
     "iopub.execute_input": "2022-02-22T20:09:43.148281Z",
     "iopub.status.busy": "2022-02-22T20:09:43.147765Z",
     "iopub.status.idle": "2022-02-22T20:09:43.163806Z",
     "shell.execute_reply": "2022-02-22T20:09:43.163392Z"
    },
    "papermill": {
     "duration": 0.045087,
     "end_time": "2022-02-22T20:09:43.163904",
     "exception": false,
     "start_time": "2022-02-22T20:09:43.118817",
     "status": "completed"
    },
    "tags": []
   },
   "outputs": [],
   "source": [
    "#Impoting functions from 'Kudzu'\n",
    "from kudzu.model import Model\n",
    "from kudzu.train import Learner\n",
    "from kudzu.optim import GD\n",
    "from kudzu.data import Data, Sampler,Dataloader\n",
    "\n",
    "from kudzu.callbacks import AccCallback\n",
    "from kudzu.callbacks import ClfCallback\n",
    "\n",
    "from kudzu.loss import MSE\n",
    "\n",
    "from kudzu.layer import Sigmoid,Relu\n",
    "from kudzu.layer import Affine"
   ]
  },
  {
   "cell_type": "markdown",
   "id": "bc01172a",
   "metadata": {
    "papermill": {
     "duration": 0.026171,
     "end_time": "2022-02-22T20:09:43.217149",
     "exception": false,
     "start_time": "2022-02-22T20:09:43.190978",
     "status": "completed"
    },
    "tags": []
   },
   "source": [
    "### Let us create a `Config` class, to store important parameters. \n",
    "This class essentially plays the role of a dictionary."
   ]
  },
  {
   "cell_type": "code",
   "execution_count": 16,
   "id": "978281aa",
   "metadata": {
    "execution": {
     "iopub.execute_input": "2022-02-22T20:09:43.284722Z",
     "iopub.status.busy": "2022-02-22T20:09:43.281651Z",
     "iopub.status.idle": "2022-02-22T20:09:43.286644Z",
     "shell.execute_reply": "2022-02-22T20:09:43.287050Z"
    },
    "papermill": {
     "duration": 0.042929,
     "end_time": "2022-02-22T20:09:43.287160",
     "exception": false,
     "start_time": "2022-02-22T20:09:43.244231",
     "status": "completed"
    },
    "tags": []
   },
   "outputs": [],
   "source": [
    "class Config:\n",
    "    pass\n",
    "config = Config()\n",
    "config.lr = 0.001\n",
    "config.num_epochs = 250\n",
    "config.bs = 50"
   ]
  },
  {
   "cell_type": "markdown",
   "id": "1385fa59",
   "metadata": {
    "papermill": {
     "duration": 0.026344,
     "end_time": "2022-02-22T20:09:43.340384",
     "exception": false,
     "start_time": "2022-02-22T20:09:43.314040",
     "status": "completed"
    },
    "tags": []
   },
   "source": [
    "### Running Models with the Training data\n",
    "Details about the network layers:\n",
    "- A first affine layer has 784 inputs and does 100 affine transforms. These are followed by a Relu\n",
    "- A second affine layer has 100 inputs from the 100 activations of the past layer, and does 100 affine transforms. These are followed by a Relu\n",
    "- A third affine layer has 100 activations and does 2 affine transformations to create an embedding for visualization. There is no non-linearity here.\n",
    "- A final \"logistic regression\" which has an affine transform from 2 inputs to 1 output, which is squeezed through a sigmoid.\n"
   ]
  },
  {
   "cell_type": "code",
   "execution_count": 17,
   "id": "2b9c66db",
   "metadata": {
    "execution": {
     "iopub.execute_input": "2022-02-22T20:09:43.402524Z",
     "iopub.status.busy": "2022-02-22T20:09:43.401943Z",
     "iopub.status.idle": "2022-02-22T20:09:43.410340Z",
     "shell.execute_reply": "2022-02-22T20:09:43.409822Z"
    },
    "papermill": {
     "duration": 0.041348,
     "end_time": "2022-02-22T20:09:43.410442",
     "exception": false,
     "start_time": "2022-02-22T20:09:43.369094",
     "status": "completed"
    },
    "tags": []
   },
   "outputs": [],
   "source": [
    "data = Data(X_train, y_train.reshape(-1,1))\n",
    "sampler = Sampler(data, config.bs, shuffle=True)\n",
    "\n",
    "dl = Dataloader(data, sampler)\n",
    "\n",
    "opt = GD(config.lr)\n",
    "loss = MSE()"
   ]
  },
  {
   "cell_type": "code",
   "execution_count": 18,
   "id": "b275e4c2",
   "metadata": {
    "execution": {
     "iopub.execute_input": "2022-02-22T20:09:43.470034Z",
     "iopub.status.busy": "2022-02-22T20:09:43.465968Z",
     "iopub.status.idle": "2022-02-22T20:09:43.475344Z",
     "shell.execute_reply": "2022-02-22T20:09:43.475765Z"
    },
    "papermill": {
     "duration": 0.039016,
     "end_time": "2022-02-22T20:09:43.475873",
     "exception": false,
     "start_time": "2022-02-22T20:09:43.436857",
     "status": "completed"
    },
    "tags": []
   },
   "outputs": [],
   "source": [
    "training_data_x = X_train\n",
    "testing_data_x = X_test\n",
    "training_data_y = y_train.reshape(-1,1)\n",
    "testing_data_y = y_test.reshape(-1,1)"
   ]
  },
  {
   "cell_type": "code",
   "execution_count": 19,
   "id": "76951160",
   "metadata": {
    "execution": {
     "iopub.execute_input": "2022-02-22T20:09:43.532181Z",
     "iopub.status.busy": "2022-02-22T20:09:43.531004Z",
     "iopub.status.idle": "2022-02-22T20:09:43.545272Z",
     "shell.execute_reply": "2022-02-22T20:09:43.545764Z"
    },
    "papermill": {
     "duration": 0.043895,
     "end_time": "2022-02-22T20:09:43.545888",
     "exception": false,
     "start_time": "2022-02-22T20:09:43.501993",
     "status": "completed"
    },
    "tags": []
   },
   "outputs": [
    {
     "name": "stdout",
     "output_type": "stream",
     "text": [
      "xavier\n",
      "xavier\n",
      "xavier\n",
      "xavier\n",
      "xavier\n"
     ]
    }
   ],
   "source": [
    "layers = [Affine(\"first\", 784, 100), Relu(\"first\"), Affine(\"second\", 100, 100), Relu(\"second\"), Affine(\"third\", 100, 2), Affine(\"last\", 2, 1), Sigmoid(\"last\")]\n",
    "model_nn = Model(layers)\n",
    "model_lr = Model([Affine(\"logits\", 784, 1), Sigmoid(\"sigmoid\")])"
   ]
  },
  {
   "cell_type": "code",
   "execution_count": 20,
   "id": "6eede77a",
   "metadata": {
    "execution": {
     "iopub.execute_input": "2022-02-22T20:09:43.603827Z",
     "iopub.status.busy": "2022-02-22T20:09:43.603288Z",
     "iopub.status.idle": "2022-02-22T20:09:43.612958Z",
     "shell.execute_reply": "2022-02-22T20:09:43.613525Z"
    },
    "papermill": {
     "duration": 0.040015,
     "end_time": "2022-02-22T20:09:43.613646",
     "exception": false,
     "start_time": "2022-02-22T20:09:43.573631",
     "status": "completed"
    },
    "tags": []
   },
   "outputs": [],
   "source": [
    "nn_learner = Learner(loss, model_nn, opt, config.num_epochs)\n",
    "acc_nn = ClfCallback(nn_learner, config.bs, training_data_x , testing_data_x, training_data_y, testing_data_y)\n",
    "nn_learner.set_callbacks([acc_nn])"
   ]
  },
  {
   "cell_type": "code",
   "execution_count": 21,
   "id": "877b6cc7",
   "metadata": {
    "execution": {
     "iopub.execute_input": "2022-02-22T20:09:43.670652Z",
     "iopub.status.busy": "2022-02-22T20:09:43.670122Z",
     "iopub.status.idle": "2022-02-22T20:09:43.680260Z",
     "shell.execute_reply": "2022-02-22T20:09:43.679809Z"
    },
    "papermill": {
     "duration": 0.039753,
     "end_time": "2022-02-22T20:09:43.680360",
     "exception": false,
     "start_time": "2022-02-22T20:09:43.640607",
     "status": "completed"
    },
    "tags": []
   },
   "outputs": [],
   "source": [
    "lr_learner = Learner(loss, model_lr, opt, config.num_epochs)\n",
    "acc_lr = ClfCallback(lr_learner, config.bs, training_data_x , testing_data_x, training_data_y, testing_data_y)\n",
    "lr_learner.set_callbacks([acc_lr])"
   ]
  },
  {
   "cell_type": "code",
   "execution_count": 22,
   "id": "d9b133c3",
   "metadata": {
    "execution": {
     "iopub.execute_input": "2022-02-22T20:09:43.738645Z",
     "iopub.status.busy": "2022-02-22T20:09:43.738114Z",
     "iopub.status.idle": "2022-02-22T20:11:48.164150Z",
     "shell.execute_reply": "2022-02-22T20:11:48.164885Z"
    },
    "papermill": {
     "duration": 124.456824,
     "end_time": "2022-02-22T20:11:48.165036",
     "exception": false,
     "start_time": "2022-02-22T20:09:43.708212",
     "status": "completed"
    },
    "tags": []
   },
   "outputs": [
    {
     "name": "stdout",
     "output_type": "stream",
     "text": [
      "Epoch 0, Loss 0.2265\n",
      "Training Accuracy: 0.7577, Testing Accuracy: 0.7626\n",
      "\n"
     ]
    },
    {
     "name": "stdout",
     "output_type": "stream",
     "text": [
      "Epoch 10, Loss 0.0673\n",
      "Training Accuracy: 0.9380, Testing Accuracy: 0.9481\n",
      "\n"
     ]
    },
    {
     "name": "stdout",
     "output_type": "stream",
     "text": [
      "Epoch 20, Loss 0.0459\n",
      "Training Accuracy: 0.9507, Testing Accuracy: 0.9617\n",
      "\n"
     ]
    },
    {
     "name": "stdout",
     "output_type": "stream",
     "text": [
      "Epoch 30, Loss 0.0382\n",
      "Training Accuracy: 0.9566, Testing Accuracy: 0.9627\n",
      "\n"
     ]
    },
    {
     "name": "stdout",
     "output_type": "stream",
     "text": [
      "Epoch 40, Loss 0.034\n",
      "Training Accuracy: 0.9612, Testing Accuracy: 0.9677\n",
      "\n"
     ]
    },
    {
     "name": "stdout",
     "output_type": "stream",
     "text": [
      "Epoch 50, Loss 0.0312\n",
      "Training Accuracy: 0.9635, Testing Accuracy: 0.9688\n",
      "\n"
     ]
    },
    {
     "name": "stdout",
     "output_type": "stream",
     "text": [
      "Epoch 60, Loss 0.0292\n",
      "Training Accuracy: 0.9660, Testing Accuracy: 0.9703\n",
      "\n"
     ]
    },
    {
     "name": "stdout",
     "output_type": "stream",
     "text": [
      "Epoch 70, Loss 0.0276\n",
      "Training Accuracy: 0.9677, Testing Accuracy: 0.9698\n",
      "\n"
     ]
    },
    {
     "name": "stdout",
     "output_type": "stream",
     "text": [
      "Epoch 80, Loss 0.0264\n",
      "Training Accuracy: 0.9687, Testing Accuracy: 0.9693\n",
      "\n"
     ]
    },
    {
     "name": "stdout",
     "output_type": "stream",
     "text": [
      "Epoch 90, Loss 0.0252\n",
      "Training Accuracy: 0.9700, Testing Accuracy: 0.9698\n",
      "\n"
     ]
    },
    {
     "name": "stdout",
     "output_type": "stream",
     "text": [
      "Epoch 100, Loss 0.0243\n",
      "Training Accuracy: 0.9716, Testing Accuracy: 0.9698\n",
      "\n"
     ]
    },
    {
     "name": "stdout",
     "output_type": "stream",
     "text": [
      "Epoch 110, Loss 0.0234\n",
      "Training Accuracy: 0.9729, Testing Accuracy: 0.9703\n",
      "\n"
     ]
    },
    {
     "name": "stdout",
     "output_type": "stream",
     "text": [
      "Epoch 120, Loss 0.0226\n",
      "Training Accuracy: 0.9745, Testing Accuracy: 0.9713\n",
      "\n"
     ]
    },
    {
     "name": "stdout",
     "output_type": "stream",
     "text": [
      "Epoch 130, Loss 0.0219\n",
      "Training Accuracy: 0.9750, Testing Accuracy: 0.9713\n",
      "\n"
     ]
    },
    {
     "name": "stdout",
     "output_type": "stream",
     "text": [
      "Epoch 140, Loss 0.0212\n",
      "Training Accuracy: 0.9760, Testing Accuracy: 0.9708\n",
      "\n"
     ]
    },
    {
     "name": "stdout",
     "output_type": "stream",
     "text": [
      "Epoch 150, Loss 0.0206\n",
      "Training Accuracy: 0.9767, Testing Accuracy: 0.9708\n",
      "\n"
     ]
    },
    {
     "name": "stdout",
     "output_type": "stream",
     "text": [
      "Epoch 160, Loss 0.02\n",
      "Training Accuracy: 0.9775, Testing Accuracy: 0.9723\n",
      "\n"
     ]
    },
    {
     "name": "stdout",
     "output_type": "stream",
     "text": [
      "Epoch 170, Loss 0.0195\n",
      "Training Accuracy: 0.9783, Testing Accuracy: 0.9743\n",
      "\n"
     ]
    },
    {
     "name": "stdout",
     "output_type": "stream",
     "text": [
      "Epoch 180, Loss 0.0189\n",
      "Training Accuracy: 0.9789, Testing Accuracy: 0.9748\n",
      "\n"
     ]
    },
    {
     "name": "stdout",
     "output_type": "stream",
     "text": [
      "Epoch 190, Loss 0.0184\n",
      "Training Accuracy: 0.9797, Testing Accuracy: 0.9748\n",
      "\n"
     ]
    },
    {
     "name": "stdout",
     "output_type": "stream",
     "text": [
      "Epoch 200, Loss 0.018\n",
      "Training Accuracy: 0.9808, Testing Accuracy: 0.9763\n",
      "\n"
     ]
    },
    {
     "name": "stdout",
     "output_type": "stream",
     "text": [
      "Epoch 210, Loss 0.0175\n",
      "Training Accuracy: 0.9811, Testing Accuracy: 0.9763\n",
      "\n"
     ]
    },
    {
     "name": "stdout",
     "output_type": "stream",
     "text": [
      "Epoch 220, Loss 0.0171\n",
      "Training Accuracy: 0.9813, Testing Accuracy: 0.9758\n",
      "\n"
     ]
    },
    {
     "name": "stdout",
     "output_type": "stream",
     "text": [
      "Epoch 230, Loss 0.0167\n",
      "Training Accuracy: 0.9821, Testing Accuracy: 0.9758\n",
      "\n"
     ]
    },
    {
     "name": "stdout",
     "output_type": "stream",
     "text": [
      "Epoch 240, Loss 0.0162\n",
      "Training Accuracy: 0.9822, Testing Accuracy: 0.9768\n",
      "\n"
     ]
    },
    {
     "data": {
      "text/plain": [
       "0.001914077434098838"
      ]
     },
     "execution_count": 22,
     "metadata": {},
     "output_type": "execute_result"
    }
   ],
   "source": [
    "nn_learner.train_loop(dl)"
   ]
  },
  {
   "cell_type": "code",
   "execution_count": 23,
   "id": "e0163366",
   "metadata": {
    "execution": {
     "iopub.execute_input": "2022-02-22T20:11:48.249068Z",
     "iopub.status.busy": "2022-02-22T20:11:48.248358Z",
     "iopub.status.idle": "2022-02-22T20:12:06.074746Z",
     "shell.execute_reply": "2022-02-22T20:12:06.075446Z"
    },
    "papermill": {
     "duration": 17.874554,
     "end_time": "2022-02-22T20:12:06.075591",
     "exception": false,
     "start_time": "2022-02-22T20:11:48.201037",
     "status": "completed"
    },
    "tags": []
   },
   "outputs": [
    {
     "name": "stdout",
     "output_type": "stream",
     "text": [
      "Epoch 0, Loss 0.2368\n",
      "Training Accuracy: 0.7001, Testing Accuracy: 0.7359\n",
      "\n"
     ]
    },
    {
     "name": "stdout",
     "output_type": "stream",
     "text": [
      "Epoch 10, Loss 0.1036\n",
      "Training Accuracy: 0.9031, Testing Accuracy: 0.9239\n",
      "\n"
     ]
    },
    {
     "name": "stdout",
     "output_type": "stream",
     "text": [
      "Epoch 20, Loss 0.08\n",
      "Training Accuracy: 0.9230, Testing Accuracy: 0.9430\n",
      "\n"
     ]
    },
    {
     "name": "stdout",
     "output_type": "stream",
     "text": [
      "Epoch 30, Loss 0.069\n",
      "Training Accuracy: 0.9326, Testing Accuracy: 0.9491\n",
      "\n"
     ]
    },
    {
     "name": "stdout",
     "output_type": "stream",
     "text": [
      "Epoch 40, Loss 0.0623\n",
      "Training Accuracy: 0.9391, Testing Accuracy: 0.9531\n",
      "\n"
     ]
    },
    {
     "name": "stdout",
     "output_type": "stream",
     "text": [
      "Epoch 50, Loss 0.0577\n",
      "Training Accuracy: 0.9429, Testing Accuracy: 0.9551\n",
      "\n"
     ]
    },
    {
     "name": "stdout",
     "output_type": "stream",
     "text": [
      "Epoch 60, Loss 0.0544\n",
      "Training Accuracy: 0.9455, Testing Accuracy: 0.9561\n",
      "\n"
     ]
    },
    {
     "name": "stdout",
     "output_type": "stream",
     "text": [
      "Epoch 70, Loss 0.0518\n",
      "Training Accuracy: 0.9482, Testing Accuracy: 0.9561\n",
      "\n"
     ]
    },
    {
     "name": "stdout",
     "output_type": "stream",
     "text": [
      "Epoch 80, Loss 0.0497\n",
      "Training Accuracy: 0.9505, Testing Accuracy: 0.9577\n",
      "\n"
     ]
    },
    {
     "name": "stdout",
     "output_type": "stream",
     "text": [
      "Epoch 90, Loss 0.048\n",
      "Training Accuracy: 0.9514, Testing Accuracy: 0.9597\n",
      "\n"
     ]
    },
    {
     "name": "stdout",
     "output_type": "stream",
     "text": [
      "Epoch 100, Loss 0.0466\n",
      "Training Accuracy: 0.9528, Testing Accuracy: 0.9607\n",
      "\n"
     ]
    },
    {
     "name": "stdout",
     "output_type": "stream",
     "text": [
      "Epoch 110, Loss 0.0453\n",
      "Training Accuracy: 0.9538, Testing Accuracy: 0.9607\n",
      "\n"
     ]
    },
    {
     "name": "stdout",
     "output_type": "stream",
     "text": [
      "Epoch 120, Loss 0.0442\n",
      "Training Accuracy: 0.9545, Testing Accuracy: 0.9617\n",
      "\n"
     ]
    },
    {
     "name": "stdout",
     "output_type": "stream",
     "text": [
      "Epoch 130, Loss 0.0433\n",
      "Training Accuracy: 0.9552, Testing Accuracy: 0.9627\n",
      "\n"
     ]
    },
    {
     "name": "stdout",
     "output_type": "stream",
     "text": [
      "Epoch 140, Loss 0.0424\n",
      "Training Accuracy: 0.9558, Testing Accuracy: 0.9632\n",
      "\n"
     ]
    },
    {
     "name": "stdout",
     "output_type": "stream",
     "text": [
      "Epoch 150, Loss 0.0417\n",
      "Training Accuracy: 0.9567, Testing Accuracy: 0.9652\n",
      "\n"
     ]
    },
    {
     "name": "stdout",
     "output_type": "stream",
     "text": [
      "Epoch 160, Loss 0.041\n",
      "Training Accuracy: 0.9570, Testing Accuracy: 0.9662\n",
      "\n"
     ]
    },
    {
     "name": "stdout",
     "output_type": "stream",
     "text": [
      "Epoch 170, Loss 0.0404\n",
      "Training Accuracy: 0.9575, Testing Accuracy: 0.9657\n",
      "\n"
     ]
    },
    {
     "name": "stdout",
     "output_type": "stream",
     "text": [
      "Epoch 180, Loss 0.0398\n",
      "Training Accuracy: 0.9579, Testing Accuracy: 0.9662\n",
      "\n"
     ]
    },
    {
     "name": "stdout",
     "output_type": "stream",
     "text": [
      "Epoch 190, Loss 0.0393\n",
      "Training Accuracy: 0.9580, Testing Accuracy: 0.9672\n",
      "\n"
     ]
    },
    {
     "name": "stdout",
     "output_type": "stream",
     "text": [
      "Epoch 200, Loss 0.0388\n",
      "Training Accuracy: 0.9584, Testing Accuracy: 0.9672\n",
      "\n"
     ]
    },
    {
     "name": "stdout",
     "output_type": "stream",
     "text": [
      "Epoch 210, Loss 0.0384\n",
      "Training Accuracy: 0.9588, Testing Accuracy: 0.9677\n",
      "\n"
     ]
    },
    {
     "name": "stdout",
     "output_type": "stream",
     "text": [
      "Epoch 220, Loss 0.0379\n",
      "Training Accuracy: 0.9590, Testing Accuracy: 0.9677\n",
      "\n"
     ]
    },
    {
     "name": "stdout",
     "output_type": "stream",
     "text": [
      "Epoch 230, Loss 0.0375\n",
      "Training Accuracy: 0.9593, Testing Accuracy: 0.9672\n",
      "\n"
     ]
    },
    {
     "name": "stdout",
     "output_type": "stream",
     "text": [
      "Epoch 240, Loss 0.0372\n",
      "Training Accuracy: 0.9599, Testing Accuracy: 0.9667\n",
      "\n"
     ]
    },
    {
     "data": {
      "text/plain": [
       "0.06079943407169554"
      ]
     },
     "execution_count": 23,
     "metadata": {},
     "output_type": "execute_result"
    }
   ],
   "source": [
    "lr_learner.train_loop(dl)"
   ]
  },
  {
   "cell_type": "code",
   "execution_count": 24,
   "id": "ca410940",
   "metadata": {
    "execution": {
     "iopub.execute_input": "2022-02-22T20:12:06.170574Z",
     "iopub.status.busy": "2022-02-22T20:12:06.170058Z",
     "iopub.status.idle": "2022-02-22T20:12:06.428523Z",
     "shell.execute_reply": "2022-02-22T20:12:06.427682Z"
    },
    "papermill": {
     "duration": 0.311487,
     "end_time": "2022-02-22T20:12:06.428659",
     "exception": false,
     "start_time": "2022-02-22T20:12:06.117172",
     "status": "completed"
    },
    "tags": []
   },
   "outputs": [
    {
     "data": {
      "text/plain": [
       "<matplotlib.legend.Legend at 0x7f4aa88b9cf8>"
      ]
     },
     "execution_count": 24,
     "metadata": {},
     "output_type": "execute_result"
    },
    {
     "data": {
      "image/png": "[encoded data removed]",
      "text/plain": [
       "<Figure size 1080x720 with 1 Axes>"
      ]
     },
     "metadata": {
      "needs_background": "light"
     },
     "output_type": "display_data"
    }
   ],
   "source": [
    "#comparing the results of NN and LR\n",
    "plt.figure(figsize=(15,10))\n",
    "\n",
    "# Neural Network plots\n",
    "plt.plot(acc_nn.accuracies, 'r-', label = \"Training Accuracies - NN\")\n",
    "plt.plot(acc_nn.test_accuracies, 'g-', label = \"Testing Accuracies - NN\")\n",
    "\n",
    "# Logistic Regression plots\n",
    "plt.plot(acc_lr.accuracies, 'k-', label = \"Training Accuracies - LR\")\n",
    "plt.plot(acc_lr.test_accuracies, 'b-', label = \"Testing Accuracies - LR\")\n",
    "plt.legend()"
   ]
  },
  {
   "cell_type": "markdown",
   "id": "80dfb35c",
   "metadata": {
    "papermill": {
     "duration": 0.041693,
     "end_time": "2022-02-22T20:12:06.512199",
     "exception": false,
     "start_time": "2022-02-22T20:12:06.470506",
     "status": "completed"
    },
    "tags": []
   },
   "source": [
    "#### Plotting the outputs of this layer of the NN.\n"
   ]
  },
  {
   "cell_type": "code",
   "execution_count": 25,
   "id": "45eb2ff5",
   "metadata": {
    "execution": {
     "iopub.execute_input": "2022-02-22T20:12:06.610114Z",
     "iopub.status.busy": "2022-02-22T20:12:06.598902Z",
     "iopub.status.idle": "2022-02-22T20:12:06.628921Z",
     "shell.execute_reply": "2022-02-22T20:12:06.629418Z"
    },
    "papermill": {
     "duration": 0.075912,
     "end_time": "2022-02-22T20:12:06.629577",
     "exception": false,
     "start_time": "2022-02-22T20:12:06.553665",
     "status": "completed"
    },
    "tags": []
   },
   "outputs": [],
   "source": [
    "new_model = Model(layers[:-2])\n",
    "testing_plot = new_model(testing_data_x)"
   ]
  },
  {
   "cell_type": "code",
   "execution_count": 26,
   "id": "4c0a5485",
   "metadata": {
    "execution": {
     "iopub.execute_input": "2022-02-22T20:12:06.734458Z",
     "iopub.status.busy": "2022-02-22T20:12:06.733923Z",
     "iopub.status.idle": "2022-02-22T20:12:06.953318Z",
     "shell.execute_reply": "2022-02-22T20:12:06.952888Z"
    },
    "papermill": {
     "duration": 0.271998,
     "end_time": "2022-02-22T20:12:06.953455",
     "exception": false,
     "start_time": "2022-02-22T20:12:06.681457",
     "status": "completed"
    },
    "tags": []
   },
   "outputs": [
    {
     "data": {
      "text/plain": [
       "Text(0.5, 1.0, 'Outputs')"
      ]
     },
     "execution_count": 26,
     "metadata": {},
     "output_type": "execute_result"
    },
    {
     "data": {
      "image/png": "[encoded data removed]",
      "text/plain": [
       "<Figure size 576x504 with 1 Axes>"
      ]
     },
     "metadata": {
      "needs_background": "light"
     },
     "output_type": "display_data"
    }
   ],
   "source": [
    "# Plotting the scatter plot of points and color coding by class\n",
    "plt.figure(figsize=(8,7))\n",
    "plt.scatter(testing_plot[:,0], testing_plot[:,1], alpha = 0.1, c = y_test.ravel());\n",
    "plt.title('Outputs')"
   ]
  },
  {
   "cell_type": "markdown",
   "id": "a74fcf8f",
   "metadata": {
    "papermill": {
     "duration": 0.04288,
     "end_time": "2022-02-22T20:12:07.038351",
     "exception": false,
     "start_time": "2022-02-22T20:12:06.995471",
     "status": "completed"
    },
    "tags": []
   },
   "source": [
    "Probability contours"
   ]
  },
  {
   "cell_type": "code",
   "execution_count": 27,
   "id": "d0afc8e3",
   "metadata": {
    "execution": {
     "iopub.execute_input": "2022-02-22T20:12:07.131132Z",
     "iopub.status.busy": "2022-02-22T20:12:07.130504Z",
     "iopub.status.idle": "2022-02-22T20:12:07.140595Z",
     "shell.execute_reply": "2022-02-22T20:12:07.141130Z"
    },
    "papermill": {
     "duration": 0.059557,
     "end_time": "2022-02-22T20:12:07.141240",
     "exception": false,
     "start_time": "2022-02-22T20:12:07.081683",
     "status": "completed"
    },
    "tags": []
   },
   "outputs": [],
   "source": [
    "model_prob = Model(layers[-2:]) "
   ]
  },
  {
   "cell_type": "code",
   "execution_count": 28,
   "id": "9b96e238",
   "metadata": {
    "execution": {
     "iopub.execute_input": "2022-02-22T20:12:07.259956Z",
     "iopub.status.busy": "2022-02-22T20:12:07.258012Z",
     "iopub.status.idle": "2022-02-22T20:12:07.273028Z",
     "shell.execute_reply": "2022-02-22T20:12:07.274757Z"
    },
    "papermill": {
     "duration": 0.089425,
     "end_time": "2022-02-22T20:12:07.275129",
     "exception": false,
     "start_time": "2022-02-22T20:12:07.185704",
     "status": "completed"
    },
    "tags": []
   },
   "outputs": [],
   "source": [
    "#creating the x and y ranges according to the above generated plot.\n",
    "x_range = np.linspace(-4, 1, 100) \n",
    "y_range = np.linspace(-6, 6, 100) \n",
    "x_grid, y_grid = np.meshgrid(x_range, y_range) # x_grid and y_grig are of size 100 X 100\n",
    "\n",
    "# converting x_grid and y_grid to continuous arrays\n",
    "x_gridflat = np.ravel(x_grid)\n",
    "y_gridflat = np.ravel(y_grid)\n",
    "\n",
    "# The last layer of the current model takes two columns as input. Hence transpose of np.vstack() is required.\n",
    "X = np.vstack((x_gridflat, y_gridflat)).T\n",
    "\n",
    "prob_contour = model_prob(X).reshape(100,100) "
   ]
  },
  {
   "cell_type": "code",
   "execution_count": 29,
   "id": "da72499a",
   "metadata": {
    "execution": {
     "iopub.execute_input": "2022-02-22T20:12:07.401343Z",
     "iopub.status.busy": "2022-02-22T20:12:07.400711Z",
     "iopub.status.idle": "2022-02-22T20:12:07.663543Z",
     "shell.execute_reply": "2022-02-22T20:12:07.664037Z"
    },
    "papermill": {
     "duration": 0.30904,
     "end_time": "2022-02-22T20:12:07.664159",
     "exception": false,
     "start_time": "2022-02-22T20:12:07.355119",
     "status": "completed"
    },
    "tags": []
   },
   "outputs": [
    {
     "data": {
      "image/png": "[encoded data removed]",
      "text/plain": [
       "<Figure size 720x648 with 1 Axes>"
      ]
     },
     "metadata": {
      "needs_background": "light"
     },
     "output_type": "display_data"
    }
   ],
   "source": [
    "plt.figure(figsize=(10,9))\n",
    "plt.scatter(testing_plot[:,0], testing_plot[:,1], alpha = 0.1, c = y_test.ravel())\n",
    "contours = plt.contour(x_grid,y_grid,prob_contour)\n",
    "plt.title('Probability Contours')\n",
    "plt.clabel(contours, inline = True );"
   ]
  },
  {
   "cell_type": "code",
   "execution_count": null,
   "id": "e81b4ac7",
   "metadata": {
    "papermill": {
     "duration": 0.044845,
     "end_time": "2022-02-22T20:12:07.752891",
     "exception": false,
     "start_time": "2022-02-22T20:12:07.708046",
     "status": "completed"
    },
    "tags": []
   },
   "outputs": [],
   "source": []
  }
 ],
 "metadata": {
  "kernelspec": {
   "display_name": "Python 3",
   "language": "python",
   "name": "python3"
  },
  "language_info": {
   "codemirror_mode": {
    "name": "ipython",
    "version": 3
   },
   "file_extension": ".py",
   "mimetype": "text/x-python",
   "name": "python",
   "nbconvert_exporter": "python",
   "pygments_lexer": "ipython3",
   "version": "3.6.15"
  },
  "papermill": {
   "default_parameters": {},
   "duration": 150.98339,
   "end_time": "2022-02-22T20:12:08.116420",
   "environment_variables": {},
   "exception": null,
   "input_path": "2020-08-11-part2.ipynb",
   "output_path": "2020-08-11-part2.ipynb",
   "parameters": {},
   "start_time": "2022-02-22T20:09:37.133030",
   "version": "2.3.3"
  }
 },
 "nbformat": 4,
 "nbformat_minor": 5
}