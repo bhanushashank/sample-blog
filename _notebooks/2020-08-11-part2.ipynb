{
 "cells": [
  {
   "cell_type": "markdown",
   "id": "98380cd3",
   "metadata": {
    "papermill": {
     "duration": 0.02556,
     "end_time": "2021-12-28T00:24:18.129977",
     "exception": false,
     "start_time": "2021-12-28T00:24:18.104417",
     "status": "completed"
    },
    "tags": []
   },
   "source": [
    "# Distinguish Your Own Digits (DYOD)"
   ]
  },
  {
   "cell_type": "markdown",
   "id": "ef31240d",
   "metadata": {
    "papermill": {
     "duration": 0.020851,
     "end_time": "2021-12-28T00:24:18.172500",
     "exception": false,
     "start_time": "2021-12-28T00:24:18.151649",
     "status": "completed"
    },
    "tags": []
   },
   "source": [
    "You are going to write a classifier that distinguishes between the number 3 and number 8."
   ]
  },
  {
   "cell_type": "code",
   "execution_count": 1,
   "id": "b15c8646",
   "metadata": {
    "execution": {
     "iopub.execute_input": "2021-12-28T00:24:18.225116Z",
     "iopub.status.busy": "2021-12-28T00:24:18.224652Z",
     "iopub.status.idle": "2021-12-28T00:24:18.234216Z",
     "shell.execute_reply": "2021-12-28T00:24:18.233826Z"
    },
    "papermill": {
     "duration": 0.041091,
     "end_time": "2021-12-28T00:24:18.234335",
     "exception": false,
     "start_time": "2021-12-28T00:24:18.193244",
     "status": "completed"
    },
    "tags": []
   },
   "outputs": [],
   "source": [
    "%load_ext autoreload\n",
    "%autoreload 2"
   ]
  },
  {
   "cell_type": "code",
   "execution_count": 2,
   "id": "22ef38dc",
   "metadata": {
    "execution": {
     "iopub.execute_input": "2021-12-28T00:24:18.283214Z",
     "iopub.status.busy": "2021-12-28T00:24:18.282745Z",
     "iopub.status.idle": "2021-12-28T00:24:18.813918Z",
     "shell.execute_reply": "2021-12-28T00:24:18.813469Z"
    },
    "papermill": {
     "duration": 0.55871,
     "end_time": "2021-12-28T00:24:18.814037",
     "exception": false,
     "start_time": "2021-12-28T00:24:18.255327",
     "status": "completed"
    },
    "tags": []
   },
   "outputs": [],
   "source": [
    "%matplotlib inline\n",
    "import numpy as np\n",
    "import matplotlib.pyplot as plt\n",
    "import pandas as pd"
   ]
  },
  {
   "cell_type": "markdown",
   "id": "ba036198",
   "metadata": {
    "papermill": {
     "duration": 0.021319,
     "end_time": "2021-12-28T00:24:18.856472",
     "exception": false,
     "start_time": "2021-12-28T00:24:18.835153",
     "status": "completed"
    },
    "tags": []
   },
   "source": [
    "From the command line run `pip install mnist`. This is a library that will help you bring down the mnist dataset. If you run this from a notebook, you need to put  `!pip install mnist` in a cell by itself."
   ]
  },
  {
   "cell_type": "code",
   "execution_count": 3,
   "id": "bb6ad8a1",
   "metadata": {
    "execution": {
     "iopub.execute_input": "2021-12-28T00:24:18.907447Z",
     "iopub.status.busy": "2021-12-28T00:24:18.906993Z",
     "iopub.status.idle": "2021-12-28T00:24:21.265656Z",
     "shell.execute_reply": "2021-12-28T00:24:21.266175Z"
    },
    "papermill": {
     "duration": 2.388715,
     "end_time": "2021-12-28T00:24:21.266335",
     "exception": false,
     "start_time": "2021-12-28T00:24:18.877620",
     "status": "completed"
    },
    "tags": []
   },
   "outputs": [
    {
     "name": "stdout",
     "output_type": "stream",
     "text": [
      "Collecting mnist\r\n"
     ]
    },
    {
     "name": "stdout",
     "output_type": "stream",
     "text": [
      "  Downloading mnist-0.2.2-py2.py3-none-any.whl (3.5 kB)\r\n",
      "Requirement already satisfied: numpy in /opt/hostedtoolcache/Python/3.6.15/x64/lib/python3.6/site-packages (from mnist) (1.19.5)\r\n"
     ]
    },
    {
     "name": "stdout",
     "output_type": "stream",
     "text": [
      "Installing collected packages: mnist\r\n",
      "Successfully installed mnist-0.2.2\r\n"
     ]
    }
   ],
   "source": [
    "!pip install mnist"
   ]
  },
  {
   "cell_type": "markdown",
   "id": "69df9c9a",
   "metadata": {
    "papermill": {
     "duration": 0.021796,
     "end_time": "2021-12-28T00:24:21.310441",
     "exception": false,
     "start_time": "2021-12-28T00:24:21.288645",
     "status": "completed"
    },
    "tags": []
   },
   "source": [
    "## Preparing the Data"
   ]
  },
  {
   "cell_type": "code",
   "execution_count": 4,
   "id": "7f69d806",
   "metadata": {
    "execution": {
     "iopub.execute_input": "2021-12-28T00:24:21.370932Z",
     "iopub.status.busy": "2021-12-28T00:24:21.364023Z",
     "iopub.status.idle": "2021-12-28T00:24:21.374178Z",
     "shell.execute_reply": "2021-12-28T00:24:21.373764Z"
    },
    "papermill": {
     "duration": 0.042204,
     "end_time": "2021-12-28T00:24:21.374281",
     "exception": false,
     "start_time": "2021-12-28T00:24:21.332077",
     "status": "completed"
    },
    "tags": []
   },
   "outputs": [],
   "source": [
    "import mnist"
   ]
  },
  {
   "cell_type": "code",
   "execution_count": 5,
   "id": "a411e44f",
   "metadata": {
    "execution": {
     "iopub.execute_input": "2021-12-28T00:24:21.426513Z",
     "iopub.status.busy": "2021-12-28T00:24:21.422448Z",
     "iopub.status.idle": "2021-12-28T00:24:21.910905Z",
     "shell.execute_reply": "2021-12-28T00:24:21.911294Z"
    },
    "papermill": {
     "duration": 0.515411,
     "end_time": "2021-12-28T00:24:21.911437",
     "exception": false,
     "start_time": "2021-12-28T00:24:21.396026",
     "status": "completed"
    },
    "tags": []
   },
   "outputs": [],
   "source": [
    "train_images = mnist.train_images()\n",
    "train_labels = mnist.train_labels()"
   ]
  },
  {
   "cell_type": "code",
   "execution_count": 6,
   "id": "dceab3a5",
   "metadata": {
    "execution": {
     "iopub.execute_input": "2021-12-28T00:24:21.960146Z",
     "iopub.status.busy": "2021-12-28T00:24:21.959675Z",
     "iopub.status.idle": "2021-12-28T00:24:21.971886Z",
     "shell.execute_reply": "2021-12-28T00:24:21.972314Z"
    },
    "papermill": {
     "duration": 0.03869,
     "end_time": "2021-12-28T00:24:21.972438",
     "exception": false,
     "start_time": "2021-12-28T00:24:21.933748",
     "status": "completed"
    },
    "tags": []
   },
   "outputs": [
    {
     "data": {
      "text/plain": [
       "((60000, 28, 28), (60000,))"
      ]
     },
     "execution_count": 6,
     "metadata": {},
     "output_type": "execute_result"
    }
   ],
   "source": [
    "train_images.shape, train_labels.shape"
   ]
  },
  {
   "cell_type": "code",
   "execution_count": 7,
   "id": "f50dc2bb",
   "metadata": {
    "execution": {
     "iopub.execute_input": "2021-12-28T00:24:22.022220Z",
     "iopub.status.busy": "2021-12-28T00:24:22.021769Z",
     "iopub.status.idle": "2021-12-28T00:24:22.167106Z",
     "shell.execute_reply": "2021-12-28T00:24:22.166680Z"
    },
    "papermill": {
     "duration": 0.172919,
     "end_time": "2021-12-28T00:24:22.167228",
     "exception": false,
     "start_time": "2021-12-28T00:24:21.994309",
     "status": "completed"
    },
    "tags": []
   },
   "outputs": [],
   "source": [
    "test_images = mnist.test_images()\n",
    "test_labels = mnist.test_labels()"
   ]
  },
  {
   "cell_type": "code",
   "execution_count": 8,
   "id": "fc38cf1b",
   "metadata": {
    "execution": {
     "iopub.execute_input": "2021-12-28T00:24:22.216103Z",
     "iopub.status.busy": "2021-12-28T00:24:22.215634Z",
     "iopub.status.idle": "2021-12-28T00:24:22.227338Z",
     "shell.execute_reply": "2021-12-28T00:24:22.226972Z"
    },
    "papermill": {
     "duration": 0.038013,
     "end_time": "2021-12-28T00:24:22.227444",
     "exception": false,
     "start_time": "2021-12-28T00:24:22.189431",
     "status": "completed"
    },
    "tags": []
   },
   "outputs": [
    {
     "data": {
      "text/plain": [
       "((10000, 28, 28), (10000,))"
      ]
     },
     "execution_count": 8,
     "metadata": {},
     "output_type": "execute_result"
    }
   ],
   "source": [
    "test_images.shape, test_labels.shape"
   ]
  },
  {
   "cell_type": "code",
   "execution_count": 9,
   "id": "f9ed8fe0",
   "metadata": {
    "execution": {
     "iopub.execute_input": "2021-12-28T00:24:22.275294Z",
     "iopub.status.busy": "2021-12-28T00:24:22.274844Z",
     "iopub.status.idle": "2021-12-28T00:24:22.402755Z",
     "shell.execute_reply": "2021-12-28T00:24:22.402352Z"
    },
    "papermill": {
     "duration": 0.153175,
     "end_time": "2021-12-28T00:24:22.402864",
     "exception": false,
     "start_time": "2021-12-28T00:24:22.249689",
     "status": "completed"
    },
    "tags": []
   },
   "outputs": [
    {
     "name": "stdout",
     "output_type": "stream",
     "text": [
      "2\n"
     ]
    },
    {
     "data": {
      "text/plain": [
       "<matplotlib.image.AxesImage at 0x7fc57800d470>"
      ]
     },
     "execution_count": 9,
     "metadata": {},
     "output_type": "execute_result"
    },
    {
     "data": {
      "image/png": "[encoded data removed]",
      "text/plain": [
       "<Figure size 432x288 with 1 Axes>"
      ]
     },
     "metadata": {
      "needs_background": "light"
     },
     "output_type": "display_data"
    }
   ],
   "source": [
    "image_index = 7776 # You may select anything up to 60,000\n",
    "print(train_labels[image_index]) \n",
    "plt.imshow(train_images[image_index], cmap='Greys')"
   ]
  },
  {
   "cell_type": "markdown",
   "id": "a8d2388d",
   "metadata": {
    "papermill": {
     "duration": 0.023388,
     "end_time": "2021-12-28T00:24:22.449716",
     "exception": false,
     "start_time": "2021-12-28T00:24:22.426328",
     "status": "completed"
    },
    "tags": []
   },
   "source": [
    "## Filter data to get 3 and 8 out"
   ]
  },
  {
   "cell_type": "code",
   "execution_count": 10,
   "id": "776f7fc7",
   "metadata": {
    "execution": {
     "iopub.execute_input": "2021-12-28T00:24:22.499780Z",
     "iopub.status.busy": "2021-12-28T00:24:22.498956Z",
     "iopub.status.idle": "2021-12-28T00:24:22.517520Z",
     "shell.execute_reply": "2021-12-28T00:24:22.517865Z"
    },
    "papermill": {
     "duration": 0.045304,
     "end_time": "2021-12-28T00:24:22.517988",
     "exception": false,
     "start_time": "2021-12-28T00:24:22.472684",
     "status": "completed"
    },
    "tags": []
   },
   "outputs": [],
   "source": [
    "train_filter = np.where((train_labels == 3 ) | (train_labels == 8))\n",
    "test_filter = np.where((test_labels == 3) | (test_labels == 8))\n",
    "X_train, y_train = train_images[train_filter], train_labels[train_filter]\n",
    "X_test, y_test = test_images[test_filter], test_labels[test_filter]"
   ]
  },
  {
   "cell_type": "markdown",
   "id": "948f0b7e",
   "metadata": {
    "papermill": {
     "duration": 0.023,
     "end_time": "2021-12-28T00:24:22.564077",
     "exception": false,
     "start_time": "2021-12-28T00:24:22.541077",
     "status": "completed"
    },
    "tags": []
   },
   "source": [
    "We normalize the pizel values in the 0 to 1 range"
   ]
  },
  {
   "cell_type": "code",
   "execution_count": 11,
   "id": "ee4c2166",
   "metadata": {
    "execution": {
     "iopub.execute_input": "2021-12-28T00:24:22.613320Z",
     "iopub.status.busy": "2021-12-28T00:24:22.612815Z",
     "iopub.status.idle": "2021-12-28T00:24:22.658877Z",
     "shell.execute_reply": "2021-12-28T00:24:22.658380Z"
    },
    "papermill": {
     "duration": 0.072029,
     "end_time": "2021-12-28T00:24:22.659013",
     "exception": false,
     "start_time": "2021-12-28T00:24:22.586984",
     "status": "completed"
    },
    "tags": []
   },
   "outputs": [],
   "source": [
    "X_train = X_train/255.\n",
    "X_test = X_test/255."
   ]
  },
  {
   "cell_type": "markdown",
   "id": "ddcf4fab",
   "metadata": {
    "papermill": {
     "duration": 0.023118,
     "end_time": "2021-12-28T00:24:22.707180",
     "exception": false,
     "start_time": "2021-12-28T00:24:22.684062",
     "status": "completed"
    },
    "tags": []
   },
   "source": [
    "And setup the labels as 1 (when the digit is 3) and 0 (when the digit is 8)"
   ]
  },
  {
   "cell_type": "code",
   "execution_count": 12,
   "id": "7dc908f2",
   "metadata": {
    "execution": {
     "iopub.execute_input": "2021-12-28T00:24:22.756999Z",
     "iopub.status.busy": "2021-12-28T00:24:22.756530Z",
     "iopub.status.idle": "2021-12-28T00:24:22.767956Z",
     "shell.execute_reply": "2021-12-28T00:24:22.767588Z"
    },
    "papermill": {
     "duration": 0.037487,
     "end_time": "2021-12-28T00:24:22.768059",
     "exception": false,
     "start_time": "2021-12-28T00:24:22.730572",
     "status": "completed"
    },
    "tags": []
   },
   "outputs": [],
   "source": [
    "y_train = 1*(y_train==3)\n",
    "y_test = 1*(y_test==3)"
   ]
  },
  {
   "cell_type": "code",
   "execution_count": 13,
   "id": "01e4e969",
   "metadata": {
    "execution": {
     "iopub.execute_input": "2021-12-28T00:24:22.820649Z",
     "iopub.status.busy": "2021-12-28T00:24:22.820190Z",
     "iopub.status.idle": "2021-12-28T00:24:22.830036Z",
     "shell.execute_reply": "2021-12-28T00:24:22.830394Z"
    },
    "papermill": {
     "duration": 0.039426,
     "end_time": "2021-12-28T00:24:22.830511",
     "exception": false,
     "start_time": "2021-12-28T00:24:22.791085",
     "status": "completed"
    },
    "tags": []
   },
   "outputs": [
    {
     "data": {
      "text/plain": [
       "((11982, 28, 28), (1984, 28, 28))"
      ]
     },
     "execution_count": 13,
     "metadata": {},
     "output_type": "execute_result"
    }
   ],
   "source": [
    "X_train.shape, X_test.shape"
   ]
  },
  {
   "cell_type": "markdown",
   "id": "5ccf3f85",
   "metadata": {
    "papermill": {
     "duration": 0.023108,
     "end_time": "2021-12-28T00:24:22.876821",
     "exception": false,
     "start_time": "2021-12-28T00:24:22.853713",
     "status": "completed"
    },
    "tags": []
   },
   "source": [
    "We reshape the data to flatten the image pixels into a set of features or co-variates:"
   ]
  },
  {
   "cell_type": "code",
   "execution_count": 14,
   "id": "5286a4a3",
   "metadata": {
    "execution": {
     "iopub.execute_input": "2021-12-28T00:24:22.928480Z",
     "iopub.status.busy": "2021-12-28T00:24:22.928011Z",
     "iopub.status.idle": "2021-12-28T00:24:22.940620Z",
     "shell.execute_reply": "2021-12-28T00:24:22.940255Z"
    },
    "papermill": {
     "duration": 0.040576,
     "end_time": "2021-12-28T00:24:22.940721",
     "exception": false,
     "start_time": "2021-12-28T00:24:22.900145",
     "status": "completed"
    },
    "tags": []
   },
   "outputs": [
    {
     "data": {
      "text/plain": [
       "((11982, 784), (1984, 784))"
      ]
     },
     "execution_count": 14,
     "metadata": {},
     "output_type": "execute_result"
    }
   ],
   "source": [
    "X_train = X_train.reshape(X_train.shape[0], -1)\n",
    "X_test = X_test.reshape(X_test.shape[0], -1)\n",
    "X_train.shape, X_test.shape"
   ]
  },
  {
   "cell_type": "code",
   "execution_count": 15,
   "id": "73c5f88a",
   "metadata": {
    "execution": {
     "iopub.execute_input": "2021-12-28T00:24:22.994337Z",
     "iopub.status.busy": "2021-12-28T00:24:22.993857Z",
     "iopub.status.idle": "2021-12-28T00:24:23.009135Z",
     "shell.execute_reply": "2021-12-28T00:24:23.008763Z"
    },
    "papermill": {
     "duration": 0.045021,
     "end_time": "2021-12-28T00:24:23.009260",
     "exception": false,
     "start_time": "2021-12-28T00:24:22.964239",
     "status": "completed"
    },
    "tags": []
   },
   "outputs": [],
   "source": [
    "#Impoting functions from 'Kudzu'\n",
    "from kudzu.model import Model\n",
    "from kudzu.train import Learner\n",
    "from kudzu.optim import GD\n",
    "from kudzu.data import Data, Sampler,Dataloader\n",
    "\n",
    "from kudzu.callbacks import AccCallback\n",
    "from kudzu.callbacks import ClfCallback\n",
    "\n",
    "from kudzu.loss import MSE\n",
    "\n",
    "from kudzu.layer import Sigmoid,Relu\n",
    "from kudzu.layer import Affine"
   ]
  },
  {
   "cell_type": "markdown",
   "id": "bc01172a",
   "metadata": {
    "papermill": {
     "duration": 0.023411,
     "end_time": "2021-12-28T00:24:23.056334",
     "exception": false,
     "start_time": "2021-12-28T00:24:23.032923",
     "status": "completed"
    },
    "tags": []
   },
   "source": [
    "### Let us create a `Config` class, to store important parameters. \n",
    "This class essentially plays the role of a dictionary."
   ]
  },
  {
   "cell_type": "code",
   "execution_count": 16,
   "id": "978281aa",
   "metadata": {
    "execution": {
     "iopub.execute_input": "2021-12-28T00:24:23.107007Z",
     "iopub.status.busy": "2021-12-28T00:24:23.106533Z",
     "iopub.status.idle": "2021-12-28T00:24:23.119167Z",
     "shell.execute_reply": "2021-12-28T00:24:23.118312Z"
    },
    "papermill": {
     "duration": 0.039525,
     "end_time": "2021-12-28T00:24:23.119273",
     "exception": false,
     "start_time": "2021-12-28T00:24:23.079748",
     "status": "completed"
    },
    "tags": []
   },
   "outputs": [],
   "source": [
    "class Config:\n",
    "    pass\n",
    "config = Config()\n",
    "config.lr = 0.001\n",
    "config.num_epochs = 250\n",
    "config.bs = 50"
   ]
  },
  {
   "cell_type": "markdown",
   "id": "1385fa59",
   "metadata": {
    "papermill": {
     "duration": 0.023488,
     "end_time": "2021-12-28T00:24:23.166385",
     "exception": false,
     "start_time": "2021-12-28T00:24:23.142897",
     "status": "completed"
    },
    "tags": []
   },
   "source": [
    "### Running Models with the Training data\n",
    "Details about the network layers:\n",
    "- A first affine layer has 784 inputs and does 100 affine transforms. These are followed by a Relu\n",
    "- A second affine layer has 100 inputs from the 100 activations of the past layer, and does 100 affine transforms. These are followed by a Relu\n",
    "- A third affine layer has 100 activations and does 2 affine transformations to create an embedding for visualization. There is no non-linearity here.\n",
    "- A final \"logistic regression\" which has an affine transform from 2 inputs to 1 output, which is squeezed through a sigmoid.\n"
   ]
  },
  {
   "cell_type": "code",
   "execution_count": 17,
   "id": "2b9c66db",
   "metadata": {
    "execution": {
     "iopub.execute_input": "2021-12-28T00:24:23.217906Z",
     "iopub.status.busy": "2021-12-28T00:24:23.216767Z",
     "iopub.status.idle": "2021-12-28T00:24:23.229059Z",
     "shell.execute_reply": "2021-12-28T00:24:23.228648Z"
    },
    "papermill": {
     "duration": 0.039297,
     "end_time": "2021-12-28T00:24:23.229181",
     "exception": false,
     "start_time": "2021-12-28T00:24:23.189884",
     "status": "completed"
    },
    "tags": []
   },
   "outputs": [],
   "source": [
    "data = Data(X_train, y_train.reshape(-1,1))\n",
    "sampler = Sampler(data, config.bs, shuffle=True)\n",
    "\n",
    "dl = Dataloader(data, sampler)\n",
    "\n",
    "opt = GD(config.lr)\n",
    "loss = MSE()"
   ]
  },
  {
   "cell_type": "code",
   "execution_count": 18,
   "id": "b275e4c2",
   "metadata": {
    "execution": {
     "iopub.execute_input": "2021-12-28T00:24:23.279769Z",
     "iopub.status.busy": "2021-12-28T00:24:23.279307Z",
     "iopub.status.idle": "2021-12-28T00:24:23.290440Z",
     "shell.execute_reply": "2021-12-28T00:24:23.290782Z"
    },
    "papermill": {
     "duration": 0.038272,
     "end_time": "2021-12-28T00:24:23.290902",
     "exception": false,
     "start_time": "2021-12-28T00:24:23.252630",
     "status": "completed"
    },
    "tags": []
   },
   "outputs": [],
   "source": [
    "training_data_x = X_train\n",
    "testing_data_x = X_test\n",
    "training_data_y = y_train.reshape(-1,1)\n",
    "testing_data_y = y_test.reshape(-1,1)"
   ]
  },
  {
   "cell_type": "code",
   "execution_count": 19,
   "id": "76951160",
   "metadata": {
    "execution": {
     "iopub.execute_input": "2021-12-28T00:24:23.343184Z",
     "iopub.status.busy": "2021-12-28T00:24:23.342712Z",
     "iopub.status.idle": "2021-12-28T00:24:23.355887Z",
     "shell.execute_reply": "2021-12-28T00:24:23.356226Z"
    },
    "papermill": {
     "duration": 0.042028,
     "end_time": "2021-12-28T00:24:23.356344",
     "exception": false,
     "start_time": "2021-12-28T00:24:23.314316",
     "status": "completed"
    },
    "tags": []
   },
   "outputs": [
    {
     "name": "stdout",
     "output_type": "stream",
     "text": [
      "xavier\n",
      "xavier\n",
      "xavier\n",
      "xavier\n",
      "xavier\n"
     ]
    }
   ],
   "source": [
    "layers = [Affine(\"first\", 784, 100), Relu(\"first\"), Affine(\"second\", 100, 100), Relu(\"second\"), Affine(\"third\", 100, 2), Affine(\"last\", 2, 1), Sigmoid(\"last\")]\n",
    "model_nn = Model(layers)\n",
    "model_lr = Model([Affine(\"logits\", 784, 1), Sigmoid(\"sigmoid\")])"
   ]
  },
  {
   "cell_type": "code",
   "execution_count": 20,
   "id": "6eede77a",
   "metadata": {
    "execution": {
     "iopub.execute_input": "2021-12-28T00:24:23.410259Z",
     "iopub.status.busy": "2021-12-28T00:24:23.409799Z",
     "iopub.status.idle": "2021-12-28T00:24:23.421359Z",
     "shell.execute_reply": "2021-12-28T00:24:23.420971Z"
    },
    "papermill": {
     "duration": 0.041333,
     "end_time": "2021-12-28T00:24:23.421464",
     "exception": false,
     "start_time": "2021-12-28T00:24:23.380131",
     "status": "completed"
    },
    "tags": []
   },
   "outputs": [],
   "source": [
    "nn_learner = Learner(loss, model_nn, opt, config.num_epochs)\n",
    "acc_nn = ClfCallback(nn_learner, config.bs, training_data_x , testing_data_x, training_data_y, testing_data_y)\n",
    "nn_learner.set_callbacks([acc_nn])"
   ]
  },
  {
   "cell_type": "code",
   "execution_count": 21,
   "id": "877b6cc7",
   "metadata": {
    "execution": {
     "iopub.execute_input": "2021-12-28T00:24:23.472648Z",
     "iopub.status.busy": "2021-12-28T00:24:23.472194Z",
     "iopub.status.idle": "2021-12-28T00:24:23.484207Z",
     "shell.execute_reply": "2021-12-28T00:24:23.483838Z"
    },
    "papermill": {
     "duration": 0.03928,
     "end_time": "2021-12-28T00:24:23.484309",
     "exception": false,
     "start_time": "2021-12-28T00:24:23.445029",
     "status": "completed"
    },
    "tags": []
   },
   "outputs": [],
   "source": [
    "lr_learner = Learner(loss, model_lr, opt, config.num_epochs)\n",
    "acc_lr = ClfCallback(lr_learner, config.bs, training_data_x , testing_data_x, training_data_y, testing_data_y)\n",
    "lr_learner.set_callbacks([acc_lr])"
   ]
  },
  {
   "cell_type": "code",
   "execution_count": 22,
   "id": "d9b133c3",
   "metadata": {
    "execution": {
     "iopub.execute_input": "2021-12-28T00:24:23.535841Z",
     "iopub.status.busy": "2021-12-28T00:24:23.535390Z",
     "iopub.status.idle": "2021-12-28T00:25:41.065767Z",
     "shell.execute_reply": "2021-12-28T00:25:41.066470Z"
    },
    "papermill": {
     "duration": 77.558459,
     "end_time": "2021-12-28T00:25:41.066614",
     "exception": false,
     "start_time": "2021-12-28T00:24:23.508155",
     "status": "completed"
    },
    "tags": []
   },
   "outputs": [
    {
     "name": "stdout",
     "output_type": "stream",
     "text": [
      "Epoch 0, Loss 0.2441\n",
      "Training Accuracy: 0.6419, Testing Accuracy: 0.5983\n",
      "\n"
     ]
    },
    {
     "name": "stdout",
     "output_type": "stream",
     "text": [
      "Epoch 10, Loss 0.1247\n",
      "Training Accuracy: 0.8969, Testing Accuracy: 0.8982\n",
      "\n"
     ]
    },
    {
     "name": "stdout",
     "output_type": "stream",
     "text": [
      "Epoch 20, Loss 0.066\n",
      "Training Accuracy: 0.9362, Testing Accuracy: 0.9420\n",
      "\n"
     ]
    },
    {
     "name": "stdout",
     "output_type": "stream",
     "text": [
      "Epoch 30, Loss 0.0481\n",
      "Training Accuracy: 0.9495, Testing Accuracy: 0.9546\n",
      "\n"
     ]
    },
    {
     "name": "stdout",
     "output_type": "stream",
     "text": [
      "Epoch 40, Loss 0.0402\n",
      "Training Accuracy: 0.9555, Testing Accuracy: 0.9587\n",
      "\n"
     ]
    },
    {
     "name": "stdout",
     "output_type": "stream",
     "text": [
      "Epoch 50, Loss 0.0359\n",
      "Training Accuracy: 0.9591, Testing Accuracy: 0.9637\n",
      "\n"
     ]
    },
    {
     "name": "stdout",
     "output_type": "stream",
     "text": [
      "Epoch 60, Loss 0.033\n",
      "Training Accuracy: 0.9625, Testing Accuracy: 0.9662\n",
      "\n"
     ]
    },
    {
     "name": "stdout",
     "output_type": "stream",
     "text": [
      "Epoch 70, Loss 0.0309\n",
      "Training Accuracy: 0.9654, Testing Accuracy: 0.9693\n",
      "\n"
     ]
    },
    {
     "name": "stdout",
     "output_type": "stream",
     "text": [
      "Epoch 80, Loss 0.0293\n",
      "Training Accuracy: 0.9669, Testing Accuracy: 0.9698\n",
      "\n"
     ]
    },
    {
     "name": "stdout",
     "output_type": "stream",
     "text": [
      "Epoch 90, Loss 0.028\n",
      "Training Accuracy: 0.9680, Testing Accuracy: 0.9688\n",
      "\n"
     ]
    },
    {
     "name": "stdout",
     "output_type": "stream",
     "text": [
      "Epoch 100, Loss 0.0269\n",
      "Training Accuracy: 0.9695, Testing Accuracy: 0.9682\n",
      "\n"
     ]
    },
    {
     "name": "stdout",
     "output_type": "stream",
     "text": [
      "Epoch 110, Loss 0.026\n",
      "Training Accuracy: 0.9704, Testing Accuracy: 0.9688\n",
      "\n"
     ]
    },
    {
     "name": "stdout",
     "output_type": "stream",
     "text": [
      "Epoch 120, Loss 0.0252\n",
      "Training Accuracy: 0.9710, Testing Accuracy: 0.9688\n",
      "\n"
     ]
    },
    {
     "name": "stdout",
     "output_type": "stream",
     "text": [
      "Epoch 130, Loss 0.0245\n",
      "Training Accuracy: 0.9714, Testing Accuracy: 0.9698\n",
      "\n"
     ]
    },
    {
     "name": "stdout",
     "output_type": "stream",
     "text": [
      "Epoch 140, Loss 0.0238\n",
      "Training Accuracy: 0.9724, Testing Accuracy: 0.9713\n",
      "\n"
     ]
    },
    {
     "name": "stdout",
     "output_type": "stream",
     "text": [
      "Epoch 150, Loss 0.0232\n",
      "Training Accuracy: 0.9728, Testing Accuracy: 0.9713\n",
      "\n"
     ]
    },
    {
     "name": "stdout",
     "output_type": "stream",
     "text": [
      "Epoch 160, Loss 0.0226\n",
      "Training Accuracy: 0.9741, Testing Accuracy: 0.9718\n",
      "\n"
     ]
    },
    {
     "name": "stdout",
     "output_type": "stream",
     "text": [
      "Epoch 170, Loss 0.0221\n",
      "Training Accuracy: 0.9751, Testing Accuracy: 0.9718\n",
      "\n"
     ]
    },
    {
     "name": "stdout",
     "output_type": "stream",
     "text": [
      "Epoch 180, Loss 0.0216\n",
      "Training Accuracy: 0.9761, Testing Accuracy: 0.9723\n",
      "\n"
     ]
    },
    {
     "name": "stdout",
     "output_type": "stream",
     "text": [
      "Epoch 190, Loss 0.0211\n",
      "Training Accuracy: 0.9768, Testing Accuracy: 0.9723\n",
      "\n"
     ]
    },
    {
     "name": "stdout",
     "output_type": "stream",
     "text": [
      "Epoch 200, Loss 0.0207\n",
      "Training Accuracy: 0.9770, Testing Accuracy: 0.9718\n",
      "\n"
     ]
    },
    {
     "name": "stdout",
     "output_type": "stream",
     "text": [
      "Epoch 210, Loss 0.0203\n",
      "Training Accuracy: 0.9773, Testing Accuracy: 0.9728\n",
      "\n"
     ]
    },
    {
     "name": "stdout",
     "output_type": "stream",
     "text": [
      "Epoch 220, Loss 0.0199\n",
      "Training Accuracy: 0.9775, Testing Accuracy: 0.9738\n",
      "\n"
     ]
    },
    {
     "name": "stdout",
     "output_type": "stream",
     "text": [
      "Epoch 230, Loss 0.0195\n",
      "Training Accuracy: 0.9779, Testing Accuracy: 0.9738\n",
      "\n"
     ]
    },
    {
     "name": "stdout",
     "output_type": "stream",
     "text": [
      "Epoch 240, Loss 0.0191\n",
      "Training Accuracy: 0.9786, Testing Accuracy: 0.9738\n",
      "\n"
     ]
    },
    {
     "data": {
      "text/plain": [
       "0.002695001234722206"
      ]
     },
     "execution_count": 22,
     "metadata": {},
     "output_type": "execute_result"
    }
   ],
   "source": [
    "nn_learner.train_loop(dl)"
   ]
  },
  {
   "cell_type": "code",
   "execution_count": 23,
   "id": "e0163366",
   "metadata": {
    "execution": {
     "iopub.execute_input": "2021-12-28T00:25:41.138519Z",
     "iopub.status.busy": "2021-12-28T00:25:41.138036Z",
     "iopub.status.idle": "2021-12-28T00:25:54.982018Z",
     "shell.execute_reply": "2021-12-28T00:25:54.982405Z"
    },
    "papermill": {
     "duration": 13.885455,
     "end_time": "2021-12-28T00:25:54.982539",
     "exception": false,
     "start_time": "2021-12-28T00:25:41.097084",
     "status": "completed"
    },
    "tags": []
   },
   "outputs": [
    {
     "name": "stdout",
     "output_type": "stream",
     "text": [
      "Epoch 0, Loss 0.262\n",
      "Training Accuracy: 0.6104, Testing Accuracy: 0.5927\n",
      "\n"
     ]
    },
    {
     "name": "stdout",
     "output_type": "stream",
     "text": [
      "Epoch 10, Loss 0.1073\n",
      "Training Accuracy: 0.9052, Testing Accuracy: 0.9118\n",
      "\n"
     ]
    },
    {
     "name": "stdout",
     "output_type": "stream",
     "text": [
      "Epoch 20, Loss 0.0813\n",
      "Training Accuracy: 0.9261, Testing Accuracy: 0.9380\n",
      "\n"
     ]
    },
    {
     "name": "stdout",
     "output_type": "stream",
     "text": [
      "Epoch 30, Loss 0.0696\n",
      "Training Accuracy: 0.9342, Testing Accuracy: 0.9456\n",
      "\n"
     ]
    },
    {
     "name": "stdout",
     "output_type": "stream",
     "text": [
      "Epoch 40, Loss 0.0626\n",
      "Training Accuracy: 0.9407, Testing Accuracy: 0.9511\n",
      "\n"
     ]
    },
    {
     "name": "stdout",
     "output_type": "stream",
     "text": [
      "Epoch 50, Loss 0.0579\n",
      "Training Accuracy: 0.9443, Testing Accuracy: 0.9536\n",
      "\n"
     ]
    },
    {
     "name": "stdout",
     "output_type": "stream",
     "text": [
      "Epoch 60, Loss 0.0545\n",
      "Training Accuracy: 0.9468, Testing Accuracy: 0.9567\n",
      "\n"
     ]
    },
    {
     "name": "stdout",
     "output_type": "stream",
     "text": [
      "Epoch 70, Loss 0.0518\n",
      "Training Accuracy: 0.9490, Testing Accuracy: 0.9577\n",
      "\n"
     ]
    },
    {
     "name": "stdout",
     "output_type": "stream",
     "text": [
      "Epoch 80, Loss 0.0497\n",
      "Training Accuracy: 0.9504, Testing Accuracy: 0.9582\n",
      "\n"
     ]
    },
    {
     "name": "stdout",
     "output_type": "stream",
     "text": [
      "Epoch 90, Loss 0.048\n",
      "Training Accuracy: 0.9510, Testing Accuracy: 0.9602\n",
      "\n"
     ]
    },
    {
     "name": "stdout",
     "output_type": "stream",
     "text": [
      "Epoch 100, Loss 0.0466\n",
      "Training Accuracy: 0.9523, Testing Accuracy: 0.9602\n",
      "\n"
     ]
    },
    {
     "name": "stdout",
     "output_type": "stream",
     "text": [
      "Epoch 110, Loss 0.0453\n",
      "Training Accuracy: 0.9533, Testing Accuracy: 0.9617\n",
      "\n"
     ]
    },
    {
     "name": "stdout",
     "output_type": "stream",
     "text": [
      "Epoch 120, Loss 0.0442\n",
      "Training Accuracy: 0.9537, Testing Accuracy: 0.9627\n",
      "\n"
     ]
    },
    {
     "name": "stdout",
     "output_type": "stream",
     "text": [
      "Epoch 130, Loss 0.0433\n",
      "Training Accuracy: 0.9550, Testing Accuracy: 0.9637\n",
      "\n"
     ]
    },
    {
     "name": "stdout",
     "output_type": "stream",
     "text": [
      "Epoch 140, Loss 0.0424\n",
      "Training Accuracy: 0.9554, Testing Accuracy: 0.9642\n",
      "\n"
     ]
    },
    {
     "name": "stdout",
     "output_type": "stream",
     "text": [
      "Epoch 150, Loss 0.0417\n",
      "Training Accuracy: 0.9563, Testing Accuracy: 0.9642\n",
      "\n"
     ]
    },
    {
     "name": "stdout",
     "output_type": "stream",
     "text": [
      "Epoch 160, Loss 0.041\n",
      "Training Accuracy: 0.9569, Testing Accuracy: 0.9652\n",
      "\n"
     ]
    },
    {
     "name": "stdout",
     "output_type": "stream",
     "text": [
      "Epoch 170, Loss 0.0404\n",
      "Training Accuracy: 0.9571, Testing Accuracy: 0.9652\n",
      "\n"
     ]
    },
    {
     "name": "stdout",
     "output_type": "stream",
     "text": [
      "Epoch 180, Loss 0.0398\n",
      "Training Accuracy: 0.9572, Testing Accuracy: 0.9652\n",
      "\n"
     ]
    },
    {
     "name": "stdout",
     "output_type": "stream",
     "text": [
      "Epoch 190, Loss 0.0393\n",
      "Training Accuracy: 0.9577, Testing Accuracy: 0.9657\n",
      "\n"
     ]
    },
    {
     "name": "stdout",
     "output_type": "stream",
     "text": [
      "Epoch 200, Loss 0.0388\n",
      "Training Accuracy: 0.9583, Testing Accuracy: 0.9657\n",
      "\n"
     ]
    },
    {
     "name": "stdout",
     "output_type": "stream",
     "text": [
      "Epoch 210, Loss 0.0383\n",
      "Training Accuracy: 0.9587, Testing Accuracy: 0.9657\n",
      "\n"
     ]
    },
    {
     "name": "stdout",
     "output_type": "stream",
     "text": [
      "Epoch 220, Loss 0.0379\n",
      "Training Accuracy: 0.9591, Testing Accuracy: 0.9657\n",
      "\n"
     ]
    },
    {
     "name": "stdout",
     "output_type": "stream",
     "text": [
      "Epoch 230, Loss 0.0375\n",
      "Training Accuracy: 0.9599, Testing Accuracy: 0.9657\n",
      "\n"
     ]
    },
    {
     "name": "stdout",
     "output_type": "stream",
     "text": [
      "Epoch 240, Loss 0.0371\n",
      "Training Accuracy: 0.9601, Testing Accuracy: 0.9662\n",
      "\n"
     ]
    },
    {
     "data": {
      "text/plain": [
       "0.027202799669425275"
      ]
     },
     "execution_count": 23,
     "metadata": {},
     "output_type": "execute_result"
    }
   ],
   "source": [
    "lr_learner.train_loop(dl)"
   ]
  },
  {
   "cell_type": "code",
   "execution_count": 24,
   "id": "ca410940",
   "metadata": {
    "execution": {
     "iopub.execute_input": "2021-12-28T00:25:55.062702Z",
     "iopub.status.busy": "2021-12-28T00:25:55.062214Z",
     "iopub.status.idle": "2021-12-28T00:25:55.274727Z",
     "shell.execute_reply": "2021-12-28T00:25:55.274314Z"
    },
    "papermill": {
     "duration": 0.255807,
     "end_time": "2021-12-28T00:25:55.274838",
     "exception": false,
     "start_time": "2021-12-28T00:25:55.019031",
     "status": "completed"
    },
    "tags": []
   },
   "outputs": [
    {
     "data": {
      "text/plain": [
       "<matplotlib.legend.Legend at 0x7fc577be7c18>"
      ]
     },
     "execution_count": 24,
     "metadata": {},
     "output_type": "execute_result"
    },
    {
     "data": {
      "image/png": "[encoded data removed]",
      "text/plain": [
       "<Figure size 1080x720 with 1 Axes>"
      ]
     },
     "metadata": {
      "needs_background": "light"
     },
     "output_type": "display_data"
    }
   ],
   "source": [
    "#comparing the results of NN and LR\n",
    "plt.figure(figsize=(15,10))\n",
    "\n",
    "# Neural Network plots\n",
    "plt.plot(acc_nn.accuracies, 'r-', label = \"Training Accuracies - NN\")\n",
    "plt.plot(acc_nn.test_accuracies, 'g-', label = \"Testing Accuracies - NN\")\n",
    "\n",
    "# Logistic Regression plots\n",
    "plt.plot(acc_lr.accuracies, 'k-', label = \"Training Accuracies - LR\")\n",
    "plt.plot(acc_lr.test_accuracies, 'b-', label = \"Testing Accuracies - LR\")\n",
    "plt.legend()"
   ]
  },
  {
   "cell_type": "markdown",
   "id": "80dfb35c",
   "metadata": {
    "papermill": {
     "duration": 0.037479,
     "end_time": "2021-12-28T00:25:55.349599",
     "exception": false,
     "start_time": "2021-12-28T00:25:55.312120",
     "status": "completed"
    },
    "tags": []
   },
   "source": [
    "#### Plotting the outputs of this layer of the NN.\n"
   ]
  },
  {
   "cell_type": "code",
   "execution_count": 25,
   "id": "45eb2ff5",
   "metadata": {
    "execution": {
     "iopub.execute_input": "2021-12-28T00:25:55.430264Z",
     "iopub.status.busy": "2021-12-28T00:25:55.429779Z",
     "iopub.status.idle": "2021-12-28T00:25:55.447287Z",
     "shell.execute_reply": "2021-12-28T00:25:55.446878Z"
    },
    "papermill": {
     "duration": 0.060557,
     "end_time": "2021-12-28T00:25:55.447399",
     "exception": false,
     "start_time": "2021-12-28T00:25:55.386842",
     "status": "completed"
    },
    "tags": []
   },
   "outputs": [],
   "source": [
    "new_model = Model(layers[:-2])\n",
    "testing_plot = new_model(testing_data_x)"
   ]
  },
  {
   "cell_type": "code",
   "execution_count": 26,
   "id": "4c0a5485",
   "metadata": {
    "execution": {
     "iopub.execute_input": "2021-12-28T00:25:55.530003Z",
     "iopub.status.busy": "2021-12-28T00:25:55.528477Z",
     "iopub.status.idle": "2021-12-28T00:25:55.703576Z",
     "shell.execute_reply": "2021-12-28T00:25:55.703148Z"
    },
    "papermill": {
     "duration": 0.21772,
     "end_time": "2021-12-28T00:25:55.703688",
     "exception": false,
     "start_time": "2021-12-28T00:25:55.485968",
     "status": "completed"
    },
    "tags": []
   },
   "outputs": [
    {
     "data": {
      "text/plain": [
       "Text(0.5, 1.0, 'Outputs')"
      ]
     },
     "execution_count": 26,
     "metadata": {},
     "output_type": "execute_result"
    },
    {
     "data": {
      "image/png": "[encoded data removed]",
      "text/plain": [
       "<Figure size 576x504 with 1 Axes>"
      ]
     },
     "metadata": {
      "needs_background": "light"
     },
     "output_type": "display_data"
    }
   ],
   "source": [
    "# Plotting the scatter plot of points and color coding by class\n",
    "plt.figure(figsize=(8,7))\n",
    "plt.scatter(testing_plot[:,0], testing_plot[:,1], alpha = 0.1, c = y_test.ravel());\n",
    "plt.title('Outputs')"
   ]
  },
  {
   "cell_type": "markdown",
   "id": "a74fcf8f",
   "metadata": {
    "papermill": {
     "duration": 0.038354,
     "end_time": "2021-12-28T00:25:55.781129",
     "exception": false,
     "start_time": "2021-12-28T00:25:55.742775",
     "status": "completed"
    },
    "tags": []
   },
   "source": [
    "Probability contours"
   ]
  },
  {
   "cell_type": "code",
   "execution_count": 27,
   "id": "d0afc8e3",
   "metadata": {
    "execution": {
     "iopub.execute_input": "2021-12-28T00:25:55.862368Z",
     "iopub.status.busy": "2021-12-28T00:25:55.861889Z",
     "iopub.status.idle": "2021-12-28T00:25:55.873096Z",
     "shell.execute_reply": "2021-12-28T00:25:55.872705Z"
    },
    "papermill": {
     "duration": 0.053702,
     "end_time": "2021-12-28T00:25:55.873222",
     "exception": false,
     "start_time": "2021-12-28T00:25:55.819520",
     "status": "completed"
    },
    "tags": []
   },
   "outputs": [],
   "source": [
    "model_prob = Model(layers[-2:]) "
   ]
  },
  {
   "cell_type": "code",
   "execution_count": 28,
   "id": "9b96e238",
   "metadata": {
    "execution": {
     "iopub.execute_input": "2021-12-28T00:25:55.954203Z",
     "iopub.status.busy": "2021-12-28T00:25:55.953725Z",
     "iopub.status.idle": "2021-12-28T00:25:55.966610Z",
     "shell.execute_reply": "2021-12-28T00:25:55.966984Z"
    },
    "papermill": {
     "duration": 0.055561,
     "end_time": "2021-12-28T00:25:55.967112",
     "exception": false,
     "start_time": "2021-12-28T00:25:55.911551",
     "status": "completed"
    },
    "tags": []
   },
   "outputs": [],
   "source": [
    "#creating the x and y ranges according to the above generated plot.\n",
    "x_range = np.linspace(-4, 1, 100) \n",
    "y_range = np.linspace(-6, 6, 100) \n",
    "x_grid, y_grid = np.meshgrid(x_range, y_range) # x_grid and y_grig are of size 100 X 100\n",
    "\n",
    "# converting x_grid and y_grid to continuous arrays\n",
    "x_gridflat = np.ravel(x_grid)\n",
    "y_gridflat = np.ravel(y_grid)\n",
    "\n",
    "# The last layer of the current model takes two columns as input. Hence transpose of np.vstack() is required.\n",
    "X = np.vstack((x_gridflat, y_gridflat)).T\n",
    "\n",
    "prob_contour = model_prob(X).reshape(100,100) "
   ]
  },
  {
   "cell_type": "code",
   "execution_count": 29,
   "id": "da72499a",
   "metadata": {
    "execution": {
     "iopub.execute_input": "2021-12-28T00:25:56.081480Z",
     "iopub.status.busy": "2021-12-28T00:25:56.080307Z",
     "iopub.status.idle": "2021-12-28T00:25:56.297388Z",
     "shell.execute_reply": "2021-12-28T00:25:56.297762Z"
    },
    "papermill": {
     "duration": 0.290439,
     "end_time": "2021-12-28T00:25:56.297890",
     "exception": false,
     "start_time": "2021-12-28T00:25:56.007451",
     "status": "completed"
    },
    "tags": []
   },
   "outputs": [
    {
     "data": {
      "image/png": "[encoded data removed]",
      "text/plain": [
       "<Figure size 720x648 with 1 Axes>"
      ]
     },
     "metadata": {
      "needs_background": "light"
     },
     "output_type": "display_data"
    }
   ],
   "source": [
    "plt.figure(figsize=(10,9))\n",
    "plt.scatter(testing_plot[:,0], testing_plot[:,1], alpha = 0.1, c = y_test.ravel())\n",
    "contours = plt.contour(x_grid,y_grid,prob_contour)\n",
    "plt.title('Probability Contours')\n",
    "plt.clabel(contours, inline = True );"
   ]
  },
  {
   "cell_type": "code",
   "execution_count": null,
   "id": "e81b4ac7",
   "metadata": {
    "papermill": {
     "duration": 0.040117,
     "end_time": "2021-12-28T00:25:56.378865",
     "exception": false,
     "start_time": "2021-12-28T00:25:56.338748",
     "status": "completed"
    },
    "tags": []
   },
   "outputs": [],
   "source": []
  }
 ],
 "metadata": {
  "kernelspec": {
   "display_name": "Python 3",
   "language": "python",
   "name": "python3"
  },
  "language_info": {
   "codemirror_mode": {
    "name": "ipython",
    "version": 3
   },
   "file_extension": ".py",
   "mimetype": "text/x-python",
   "name": "python",
   "nbconvert_exporter": "python",
   "pygments_lexer": "ipython3",
   "version": "3.6.15"
  },
  "papermill": {
   "default_parameters": {},
   "duration": 99.808402,
   "end_time": "2021-12-28T00:25:56.828060",
   "environment_variables": {},
   "exception": null,
   "input_path": "2020-08-11-part2.ipynb",
   "output_path": "2020-08-11-part2.ipynb",
   "parameters": {},
   "start_time": "2021-12-28T00:24:17.019658",
   "version": "2.3.3"
  }
 },
 "nbformat": 4,
 "nbformat_minor": 5
}