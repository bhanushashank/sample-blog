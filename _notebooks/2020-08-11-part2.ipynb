{
 "cells": [
  {
   "cell_type": "markdown",
   "id": "98380cd3",
   "metadata": {
    "papermill": {
     "duration": 0.028565,
     "end_time": "2021-11-16T00:26:54.967742",
     "exception": false,
     "start_time": "2021-11-16T00:26:54.939177",
     "status": "completed"
    },
    "tags": []
   },
   "source": [
    "# Distinguish Your Own Digits (DYOD)"
   ]
  },
  {
   "cell_type": "markdown",
   "id": "ef31240d",
   "metadata": {
    "papermill": {
     "duration": 0.025625,
     "end_time": "2021-11-16T00:26:55.018293",
     "exception": false,
     "start_time": "2021-11-16T00:26:54.992668",
     "status": "completed"
    },
    "tags": []
   },
   "source": [
    "You are going to write a classifier that distinguishes between the number 3 and number 8."
   ]
  },
  {
   "cell_type": "code",
   "execution_count": 1,
   "id": "b15c8646",
   "metadata": {
    "execution": {
     "iopub.execute_input": "2021-11-16T00:26:55.077826Z",
     "iopub.status.busy": "2021-11-16T00:26:55.077260Z",
     "iopub.status.idle": "2021-11-16T00:26:55.088165Z",
     "shell.execute_reply": "2021-11-16T00:26:55.087701Z"
    },
    "papermill": {
     "duration": 0.045876,
     "end_time": "2021-11-16T00:26:55.088305",
     "exception": false,
     "start_time": "2021-11-16T00:26:55.042429",
     "status": "completed"
    },
    "tags": []
   },
   "outputs": [],
   "source": [
    "%load_ext autoreload\n",
    "%autoreload 2"
   ]
  },
  {
   "cell_type": "code",
   "execution_count": 2,
   "id": "22ef38dc",
   "metadata": {
    "execution": {
     "iopub.execute_input": "2021-11-16T00:26:55.143700Z",
     "iopub.status.busy": "2021-11-16T00:26:55.143139Z",
     "iopub.status.idle": "2021-11-16T00:26:55.672444Z",
     "shell.execute_reply": "2021-11-16T00:26:55.672929Z"
    },
    "papermill": {
     "duration": 0.560492,
     "end_time": "2021-11-16T00:26:55.673091",
     "exception": false,
     "start_time": "2021-11-16T00:26:55.112599",
     "status": "completed"
    },
    "tags": []
   },
   "outputs": [],
   "source": [
    "%matplotlib inline\n",
    "import numpy as np\n",
    "import matplotlib.pyplot as plt\n",
    "import pandas as pd"
   ]
  },
  {
   "cell_type": "markdown",
   "id": "ba036198",
   "metadata": {
    "papermill": {
     "duration": 0.024059,
     "end_time": "2021-11-16T00:26:55.722035",
     "exception": false,
     "start_time": "2021-11-16T00:26:55.697976",
     "status": "completed"
    },
    "tags": []
   },
   "source": [
    "From the command line run `pip install mnist`. This is a library that will help you bring down the mnist dataset. If you run this from a notebook, you need to put  `!pip install mnist` in a cell by itself."
   ]
  },
  {
   "cell_type": "code",
   "execution_count": 3,
   "id": "bb6ad8a1",
   "metadata": {
    "execution": {
     "iopub.execute_input": "2021-11-16T00:26:55.775583Z",
     "iopub.status.busy": "2021-11-16T00:26:55.775062Z",
     "iopub.status.idle": "2021-11-16T00:26:58.108140Z",
     "shell.execute_reply": "2021-11-16T00:26:58.107612Z"
    },
    "papermill": {
     "duration": 2.361887,
     "end_time": "2021-11-16T00:26:58.108278",
     "exception": false,
     "start_time": "2021-11-16T00:26:55.746391",
     "status": "completed"
    },
    "tags": []
   },
   "outputs": [
    {
     "name": "stdout",
     "output_type": "stream",
     "text": [
      "Collecting mnist\r\n"
     ]
    },
    {
     "name": "stdout",
     "output_type": "stream",
     "text": [
      "  Downloading mnist-0.2.2-py2.py3-none-any.whl (3.5 kB)\r\n",
      "Requirement already satisfied: numpy in /opt/hostedtoolcache/Python/3.6.15/x64/lib/python3.6/site-packages (from mnist) (1.19.5)\r\n"
     ]
    },
    {
     "name": "stdout",
     "output_type": "stream",
     "text": [
      "Installing collected packages: mnist\r\n"
     ]
    },
    {
     "name": "stdout",
     "output_type": "stream",
     "text": [
      "Successfully installed mnist-0.2.2\r\n"
     ]
    }
   ],
   "source": [
    "!pip install mnist"
   ]
  },
  {
   "cell_type": "markdown",
   "id": "69df9c9a",
   "metadata": {
    "papermill": {
     "duration": 0.025441,
     "end_time": "2021-11-16T00:26:58.159251",
     "exception": false,
     "start_time": "2021-11-16T00:26:58.133810",
     "status": "completed"
    },
    "tags": []
   },
   "source": [
    "## Preparing the Data"
   ]
  },
  {
   "cell_type": "code",
   "execution_count": 4,
   "id": "7f69d806",
   "metadata": {
    "execution": {
     "iopub.execute_input": "2021-11-16T00:26:58.214020Z",
     "iopub.status.busy": "2021-11-16T00:26:58.213506Z",
     "iopub.status.idle": "2021-11-16T00:26:58.228733Z",
     "shell.execute_reply": "2021-11-16T00:26:58.228287Z"
    },
    "papermill": {
     "duration": 0.044017,
     "end_time": "2021-11-16T00:26:58.228855",
     "exception": false,
     "start_time": "2021-11-16T00:26:58.184838",
     "status": "completed"
    },
    "tags": []
   },
   "outputs": [],
   "source": [
    "import mnist"
   ]
  },
  {
   "cell_type": "code",
   "execution_count": 5,
   "id": "a411e44f",
   "metadata": {
    "execution": {
     "iopub.execute_input": "2021-11-16T00:26:58.283357Z",
     "iopub.status.busy": "2021-11-16T00:26:58.282836Z",
     "iopub.status.idle": "2021-11-16T00:26:58.911514Z",
     "shell.execute_reply": "2021-11-16T00:26:58.910984Z"
    },
    "papermill": {
     "duration": 0.657488,
     "end_time": "2021-11-16T00:26:58.911653",
     "exception": false,
     "start_time": "2021-11-16T00:26:58.254165",
     "status": "completed"
    },
    "tags": []
   },
   "outputs": [],
   "source": [
    "train_images = mnist.train_images()\n",
    "train_labels = mnist.train_labels()"
   ]
  },
  {
   "cell_type": "code",
   "execution_count": 6,
   "id": "dceab3a5",
   "metadata": {
    "execution": {
     "iopub.execute_input": "2021-11-16T00:26:58.967581Z",
     "iopub.status.busy": "2021-11-16T00:26:58.967062Z",
     "iopub.status.idle": "2021-11-16T00:26:58.980609Z",
     "shell.execute_reply": "2021-11-16T00:26:58.981020Z"
    },
    "papermill": {
     "duration": 0.043721,
     "end_time": "2021-11-16T00:26:58.981151",
     "exception": false,
     "start_time": "2021-11-16T00:26:58.937430",
     "status": "completed"
    },
    "tags": []
   },
   "outputs": [
    {
     "data": {
      "text/plain": [
       "((60000, 28, 28), (60000,))"
      ]
     },
     "execution_count": 6,
     "metadata": {},
     "output_type": "execute_result"
    }
   ],
   "source": [
    "train_images.shape, train_labels.shape"
   ]
  },
  {
   "cell_type": "code",
   "execution_count": 7,
   "id": "f50dc2bb",
   "metadata": {
    "execution": {
     "iopub.execute_input": "2021-11-16T00:26:59.040145Z",
     "iopub.status.busy": "2021-11-16T00:26:59.039607Z",
     "iopub.status.idle": "2021-11-16T00:26:59.289500Z",
     "shell.execute_reply": "2021-11-16T00:26:59.288934Z"
    },
    "papermill": {
     "duration": 0.283082,
     "end_time": "2021-11-16T00:26:59.289631",
     "exception": false,
     "start_time": "2021-11-16T00:26:59.006549",
     "status": "completed"
    },
    "tags": []
   },
   "outputs": [],
   "source": [
    "test_images = mnist.test_images()\n",
    "test_labels = mnist.test_labels()"
   ]
  },
  {
   "cell_type": "code",
   "execution_count": 8,
   "id": "fc38cf1b",
   "metadata": {
    "execution": {
     "iopub.execute_input": "2021-11-16T00:26:59.344897Z",
     "iopub.status.busy": "2021-11-16T00:26:59.344379Z",
     "iopub.status.idle": "2021-11-16T00:26:59.357508Z",
     "shell.execute_reply": "2021-11-16T00:26:59.357089Z"
    },
    "papermill": {
     "duration": 0.041779,
     "end_time": "2021-11-16T00:26:59.357624",
     "exception": false,
     "start_time": "2021-11-16T00:26:59.315845",
     "status": "completed"
    },
    "tags": []
   },
   "outputs": [
    {
     "data": {
      "text/plain": [
       "((10000, 28, 28), (10000,))"
      ]
     },
     "execution_count": 8,
     "metadata": {},
     "output_type": "execute_result"
    }
   ],
   "source": [
    "test_images.shape, test_labels.shape"
   ]
  },
  {
   "cell_type": "code",
   "execution_count": 9,
   "id": "f9ed8fe0",
   "metadata": {
    "execution": {
     "iopub.execute_input": "2021-11-16T00:26:59.417705Z",
     "iopub.status.busy": "2021-11-16T00:26:59.417149Z",
     "iopub.status.idle": "2021-11-16T00:26:59.552993Z",
     "shell.execute_reply": "2021-11-16T00:26:59.553394Z"
    },
    "papermill": {
     "duration": 0.17013,
     "end_time": "2021-11-16T00:26:59.553536",
     "exception": false,
     "start_time": "2021-11-16T00:26:59.383406",
     "status": "completed"
    },
    "tags": []
   },
   "outputs": [
    {
     "name": "stdout",
     "output_type": "stream",
     "text": [
      "2\n"
     ]
    },
    {
     "data": {
      "text/plain": [
       "<matplotlib.image.AxesImage at 0x7f0e938de0b8>"
      ]
     },
     "execution_count": 9,
     "metadata": {},
     "output_type": "execute_result"
    },
    {
     "data": {
      "image/png": "[encoded data removed]",
      "text/plain": [
       "<Figure size 432x288 with 1 Axes>"
      ]
     },
     "metadata": {
      "needs_background": "light"
     },
     "output_type": "display_data"
    }
   ],
   "source": [
    "image_index = 7776 # You may select anything up to 60,000\n",
    "print(train_labels[image_index]) \n",
    "plt.imshow(train_images[image_index], cmap='Greys')"
   ]
  },
  {
   "cell_type": "markdown",
   "id": "a8d2388d",
   "metadata": {
    "papermill": {
     "duration": 0.026945,
     "end_time": "2021-11-16T00:26:59.607400",
     "exception": false,
     "start_time": "2021-11-16T00:26:59.580455",
     "status": "completed"
    },
    "tags": []
   },
   "source": [
    "## Filter data to get 3 and 8 out"
   ]
  },
  {
   "cell_type": "code",
   "execution_count": 10,
   "id": "776f7fc7",
   "metadata": {
    "execution": {
     "iopub.execute_input": "2021-11-16T00:26:59.665454Z",
     "iopub.status.busy": "2021-11-16T00:26:59.664909Z",
     "iopub.status.idle": "2021-11-16T00:26:59.683573Z",
     "shell.execute_reply": "2021-11-16T00:26:59.684024Z"
    },
    "papermill": {
     "duration": 0.050055,
     "end_time": "2021-11-16T00:26:59.684166",
     "exception": false,
     "start_time": "2021-11-16T00:26:59.634111",
     "status": "completed"
    },
    "tags": []
   },
   "outputs": [],
   "source": [
    "train_filter = np.where((train_labels == 3 ) | (train_labels == 8))\n",
    "test_filter = np.where((test_labels == 3) | (test_labels == 8))\n",
    "X_train, y_train = train_images[train_filter], train_labels[train_filter]\n",
    "X_test, y_test = test_images[test_filter], test_labels[test_filter]"
   ]
  },
  {
   "cell_type": "markdown",
   "id": "948f0b7e",
   "metadata": {
    "papermill": {
     "duration": 0.026706,
     "end_time": "2021-11-16T00:26:59.737796",
     "exception": false,
     "start_time": "2021-11-16T00:26:59.711090",
     "status": "completed"
    },
    "tags": []
   },
   "source": [
    "We normalize the pizel values in the 0 to 1 range"
   ]
  },
  {
   "cell_type": "code",
   "execution_count": 11,
   "id": "ee4c2166",
   "metadata": {
    "execution": {
     "iopub.execute_input": "2021-11-16T00:26:59.795063Z",
     "iopub.status.busy": "2021-11-16T00:26:59.794526Z",
     "iopub.status.idle": "2021-11-16T00:26:59.841441Z",
     "shell.execute_reply": "2021-11-16T00:26:59.840939Z"
    },
    "papermill": {
     "duration": 0.077076,
     "end_time": "2021-11-16T00:26:59.841575",
     "exception": false,
     "start_time": "2021-11-16T00:26:59.764499",
     "status": "completed"
    },
    "tags": []
   },
   "outputs": [],
   "source": [
    "X_train = X_train/255.\n",
    "X_test = X_test/255."
   ]
  },
  {
   "cell_type": "markdown",
   "id": "ddcf4fab",
   "metadata": {
    "papermill": {
     "duration": 0.026691,
     "end_time": "2021-11-16T00:26:59.895825",
     "exception": false,
     "start_time": "2021-11-16T00:26:59.869134",
     "status": "completed"
    },
    "tags": []
   },
   "source": [
    "And setup the labels as 1 (when the digit is 3) and 0 (when the digit is 8)"
   ]
  },
  {
   "cell_type": "code",
   "execution_count": 12,
   "id": "7dc908f2",
   "metadata": {
    "execution": {
     "iopub.execute_input": "2021-11-16T00:26:59.953495Z",
     "iopub.status.busy": "2021-11-16T00:26:59.952705Z",
     "iopub.status.idle": "2021-11-16T00:26:59.965771Z",
     "shell.execute_reply": "2021-11-16T00:26:59.965345Z"
    },
    "papermill": {
     "duration": 0.043339,
     "end_time": "2021-11-16T00:26:59.965890",
     "exception": false,
     "start_time": "2021-11-16T00:26:59.922551",
     "status": "completed"
    },
    "tags": []
   },
   "outputs": [],
   "source": [
    "y_train = 1*(y_train==3)\n",
    "y_test = 1*(y_test==3)"
   ]
  },
  {
   "cell_type": "code",
   "execution_count": 13,
   "id": "01e4e969",
   "metadata": {
    "execution": {
     "iopub.execute_input": "2021-11-16T00:27:00.023477Z",
     "iopub.status.busy": "2021-11-16T00:27:00.022898Z",
     "iopub.status.idle": "2021-11-16T00:27:00.037487Z",
     "shell.execute_reply": "2021-11-16T00:27:00.037047Z"
    },
    "papermill": {
     "duration": 0.044913,
     "end_time": "2021-11-16T00:27:00.037609",
     "exception": false,
     "start_time": "2021-11-16T00:26:59.992696",
     "status": "completed"
    },
    "tags": []
   },
   "outputs": [
    {
     "data": {
      "text/plain": [
       "((11982, 28, 28), (1984, 28, 28))"
      ]
     },
     "execution_count": 13,
     "metadata": {},
     "output_type": "execute_result"
    }
   ],
   "source": [
    "X_train.shape, X_test.shape"
   ]
  },
  {
   "cell_type": "markdown",
   "id": "5ccf3f85",
   "metadata": {
    "papermill": {
     "duration": 0.027309,
     "end_time": "2021-11-16T00:27:00.092092",
     "exception": false,
     "start_time": "2021-11-16T00:27:00.064783",
     "status": "completed"
    },
    "tags": []
   },
   "source": [
    "We reshape the data to flatten the image pixels into a set of features or co-variates:"
   ]
  },
  {
   "cell_type": "code",
   "execution_count": 14,
   "id": "5286a4a3",
   "metadata": {
    "execution": {
     "iopub.execute_input": "2021-11-16T00:27:00.151090Z",
     "iopub.status.busy": "2021-11-16T00:27:00.150531Z",
     "iopub.status.idle": "2021-11-16T00:27:00.164269Z",
     "shell.execute_reply": "2021-11-16T00:27:00.164669Z"
    },
    "papermill": {
     "duration": 0.045401,
     "end_time": "2021-11-16T00:27:00.164810",
     "exception": false,
     "start_time": "2021-11-16T00:27:00.119409",
     "status": "completed"
    },
    "tags": []
   },
   "outputs": [
    {
     "data": {
      "text/plain": [
       "((11982, 784), (1984, 784))"
      ]
     },
     "execution_count": 14,
     "metadata": {},
     "output_type": "execute_result"
    }
   ],
   "source": [
    "X_train = X_train.reshape(X_train.shape[0], -1)\n",
    "X_test = X_test.reshape(X_test.shape[0], -1)\n",
    "X_train.shape, X_test.shape"
   ]
  },
  {
   "cell_type": "code",
   "execution_count": 15,
   "id": "73c5f88a",
   "metadata": {
    "execution": {
     "iopub.execute_input": "2021-11-16T00:27:00.257283Z",
     "iopub.status.busy": "2021-11-16T00:27:00.256282Z",
     "iopub.status.idle": "2021-11-16T00:27:00.265912Z",
     "shell.execute_reply": "2021-11-16T00:27:00.266343Z"
    },
    "papermill": {
     "duration": 0.073927,
     "end_time": "2021-11-16T00:27:00.266492",
     "exception": false,
     "start_time": "2021-11-16T00:27:00.192565",
     "status": "completed"
    },
    "tags": []
   },
   "outputs": [],
   "source": [
    "#Impoting functions from 'Kudzu'\n",
    "from kudzu.model import Model\n",
    "from kudzu.train import Learner\n",
    "from kudzu.optim import GD\n",
    "from kudzu.data import Data, Sampler,Dataloader\n",
    "\n",
    "from kudzu.callbacks import AccCallback\n",
    "from kudzu.callbacks import ClfCallback\n",
    "\n",
    "from kudzu.loss import MSE\n",
    "\n",
    "from kudzu.layer import Sigmoid,Relu\n",
    "from kudzu.layer import Affine"
   ]
  },
  {
   "cell_type": "markdown",
   "id": "bc01172a",
   "metadata": {
    "papermill": {
     "duration": 0.027375,
     "end_time": "2021-11-16T00:27:00.321390",
     "exception": false,
     "start_time": "2021-11-16T00:27:00.294015",
     "status": "completed"
    },
    "tags": []
   },
   "source": [
    "### Let us create a `Config` class, to store important parameters. \n",
    "This class essentially plays the role of a dictionary."
   ]
  },
  {
   "cell_type": "code",
   "execution_count": 16,
   "id": "978281aa",
   "metadata": {
    "execution": {
     "iopub.execute_input": "2021-11-16T00:27:00.383472Z",
     "iopub.status.busy": "2021-11-16T00:27:00.379298Z",
     "iopub.status.idle": "2021-11-16T00:27:00.392028Z",
     "shell.execute_reply": "2021-11-16T00:27:00.391584Z"
    },
    "papermill": {
     "duration": 0.043479,
     "end_time": "2021-11-16T00:27:00.392145",
     "exception": false,
     "start_time": "2021-11-16T00:27:00.348666",
     "status": "completed"
    },
    "tags": []
   },
   "outputs": [],
   "source": [
    "class Config:\n",
    "    pass\n",
    "config = Config()\n",
    "config.lr = 0.001\n",
    "config.num_epochs = 250\n",
    "config.bs = 50"
   ]
  },
  {
   "cell_type": "markdown",
   "id": "1385fa59",
   "metadata": {
    "papermill": {
     "duration": 0.027228,
     "end_time": "2021-11-16T00:27:00.446812",
     "exception": false,
     "start_time": "2021-11-16T00:27:00.419584",
     "status": "completed"
    },
    "tags": []
   },
   "source": [
    "### Running Models with the Training data\n",
    "Details about the network layers:\n",
    "- A first affine layer has 784 inputs and does 100 affine transforms. These are followed by a Relu\n",
    "- A second affine layer has 100 inputs from the 100 activations of the past layer, and does 100 affine transforms. These are followed by a Relu\n",
    "- A third affine layer has 100 activations and does 2 affine transformations to create an embedding for visualization. There is no non-linearity here.\n",
    "- A final \"logistic regression\" which has an affine transform from 2 inputs to 1 output, which is squeezed through a sigmoid.\n"
   ]
  },
  {
   "cell_type": "code",
   "execution_count": 17,
   "id": "2b9c66db",
   "metadata": {
    "execution": {
     "iopub.execute_input": "2021-11-16T00:27:00.516193Z",
     "iopub.status.busy": "2021-11-16T00:27:00.508051Z",
     "iopub.status.idle": "2021-11-16T00:27:00.518664Z",
     "shell.execute_reply": "2021-11-16T00:27:00.518199Z"
    },
    "papermill": {
     "duration": 0.044726,
     "end_time": "2021-11-16T00:27:00.518787",
     "exception": false,
     "start_time": "2021-11-16T00:27:00.474061",
     "status": "completed"
    },
    "tags": []
   },
   "outputs": [],
   "source": [
    "data = Data(X_train, y_train.reshape(-1,1))\n",
    "sampler = Sampler(data, config.bs, shuffle=True)\n",
    "\n",
    "dl = Dataloader(data, sampler)\n",
    "\n",
    "opt = GD(config.lr)\n",
    "loss = MSE()"
   ]
  },
  {
   "cell_type": "code",
   "execution_count": 18,
   "id": "b275e4c2",
   "metadata": {
    "execution": {
     "iopub.execute_input": "2021-11-16T00:27:00.578857Z",
     "iopub.status.busy": "2021-11-16T00:27:00.578293Z",
     "iopub.status.idle": "2021-11-16T00:27:00.589667Z",
     "shell.execute_reply": "2021-11-16T00:27:00.589236Z"
    },
    "papermill": {
     "duration": 0.043483,
     "end_time": "2021-11-16T00:27:00.589785",
     "exception": false,
     "start_time": "2021-11-16T00:27:00.546302",
     "status": "completed"
    },
    "tags": []
   },
   "outputs": [],
   "source": [
    "training_data_x = X_train\n",
    "testing_data_x = X_test\n",
    "training_data_y = y_train.reshape(-1,1)\n",
    "testing_data_y = y_test.reshape(-1,1)"
   ]
  },
  {
   "cell_type": "code",
   "execution_count": 19,
   "id": "76951160",
   "metadata": {
    "execution": {
     "iopub.execute_input": "2021-11-16T00:27:00.652637Z",
     "iopub.status.busy": "2021-11-16T00:27:00.652103Z",
     "iopub.status.idle": "2021-11-16T00:27:00.667242Z",
     "shell.execute_reply": "2021-11-16T00:27:00.666798Z"
    },
    "papermill": {
     "duration": 0.050229,
     "end_time": "2021-11-16T00:27:00.667357",
     "exception": false,
     "start_time": "2021-11-16T00:27:00.617128",
     "status": "completed"
    },
    "tags": []
   },
   "outputs": [
    {
     "name": "stdout",
     "output_type": "stream",
     "text": [
      "xavier\n",
      "xavier\n",
      "xavier\n",
      "xavier\n",
      "xavier\n"
     ]
    }
   ],
   "source": [
    "layers = [Affine(\"first\", 784, 100), Relu(\"first\"), Affine(\"second\", 100, 100), Relu(\"second\"), Affine(\"third\", 100, 2), Affine(\"last\", 2, 1), Sigmoid(\"last\")]\n",
    "model_nn = Model(layers)\n",
    "model_lr = Model([Affine(\"logits\", 784, 1), Sigmoid(\"sigmoid\")])"
   ]
  },
  {
   "cell_type": "code",
   "execution_count": 20,
   "id": "6eede77a",
   "metadata": {
    "execution": {
     "iopub.execute_input": "2021-11-16T00:27:00.732991Z",
     "iopub.status.busy": "2021-11-16T00:27:00.731870Z",
     "iopub.status.idle": "2021-11-16T00:27:00.741430Z",
     "shell.execute_reply": "2021-11-16T00:27:00.741011Z"
    },
    "papermill": {
     "duration": 0.046446,
     "end_time": "2021-11-16T00:27:00.741548",
     "exception": false,
     "start_time": "2021-11-16T00:27:00.695102",
     "status": "completed"
    },
    "tags": []
   },
   "outputs": [],
   "source": [
    "nn_learner = Learner(loss, model_nn, opt, config.num_epochs)\n",
    "acc_nn = ClfCallback(nn_learner, config.bs, training_data_x , testing_data_x, training_data_y, testing_data_y)\n",
    "nn_learner.set_callbacks([acc_nn])"
   ]
  },
  {
   "cell_type": "code",
   "execution_count": 21,
   "id": "877b6cc7",
   "metadata": {
    "execution": {
     "iopub.execute_input": "2021-11-16T00:27:00.801039Z",
     "iopub.status.busy": "2021-11-16T00:27:00.800490Z",
     "iopub.status.idle": "2021-11-16T00:27:00.812666Z",
     "shell.execute_reply": "2021-11-16T00:27:00.812250Z"
    },
    "papermill": {
     "duration": 0.043648,
     "end_time": "2021-11-16T00:27:00.812782",
     "exception": false,
     "start_time": "2021-11-16T00:27:00.769134",
     "status": "completed"
    },
    "tags": []
   },
   "outputs": [],
   "source": [
    "lr_learner = Learner(loss, model_lr, opt, config.num_epochs)\n",
    "acc_lr = ClfCallback(lr_learner, config.bs, training_data_x , testing_data_x, training_data_y, testing_data_y)\n",
    "lr_learner.set_callbacks([acc_lr])"
   ]
  },
  {
   "cell_type": "code",
   "execution_count": 22,
   "id": "d9b133c3",
   "metadata": {
    "execution": {
     "iopub.execute_input": "2021-11-16T00:27:00.883058Z",
     "iopub.status.busy": "2021-11-16T00:27:00.879887Z",
     "iopub.status.idle": "2021-11-16T00:28:22.219074Z",
     "shell.execute_reply": "2021-11-16T00:28:22.219569Z"
    },
    "papermill": {
     "duration": 81.379275,
     "end_time": "2021-11-16T00:28:22.219705",
     "exception": false,
     "start_time": "2021-11-16T00:27:00.840430",
     "status": "completed"
    },
    "tags": []
   },
   "outputs": [
    {
     "name": "stdout",
     "output_type": "stream",
     "text": [
      "Epoch 0, Loss 0.2337\n",
      "Training Accuracy: 0.7320, Testing Accuracy: 0.7510\n",
      "\n"
     ]
    },
    {
     "name": "stdout",
     "output_type": "stream",
     "text": [
      "Epoch 10, Loss 0.0678\n",
      "Training Accuracy: 0.9283, Testing Accuracy: 0.9345\n",
      "\n"
     ]
    },
    {
     "name": "stdout",
     "output_type": "stream",
     "text": [
      "Epoch 20, Loss 0.0457\n",
      "Training Accuracy: 0.9503, Testing Accuracy: 0.9551\n",
      "\n"
     ]
    },
    {
     "name": "stdout",
     "output_type": "stream",
     "text": [
      "Epoch 30, Loss 0.0378\n",
      "Training Accuracy: 0.9569, Testing Accuracy: 0.9622\n",
      "\n"
     ]
    },
    {
     "name": "stdout",
     "output_type": "stream",
     "text": [
      "Epoch 40, Loss 0.0335\n",
      "Training Accuracy: 0.9613, Testing Accuracy: 0.9637\n",
      "\n"
     ]
    },
    {
     "name": "stdout",
     "output_type": "stream",
     "text": [
      "Epoch 50, Loss 0.0308\n",
      "Training Accuracy: 0.9637, Testing Accuracy: 0.9652\n",
      "\n"
     ]
    },
    {
     "name": "stdout",
     "output_type": "stream",
     "text": [
      "Epoch 60, Loss 0.0288\n",
      "Training Accuracy: 0.9668, Testing Accuracy: 0.9657\n",
      "\n"
     ]
    },
    {
     "name": "stdout",
     "output_type": "stream",
     "text": [
      "Epoch 70, Loss 0.0272\n",
      "Training Accuracy: 0.9686, Testing Accuracy: 0.9682\n",
      "\n"
     ]
    },
    {
     "name": "stdout",
     "output_type": "stream",
     "text": [
      "Epoch 80, Loss 0.026\n",
      "Training Accuracy: 0.9697, Testing Accuracy: 0.9688\n",
      "\n"
     ]
    },
    {
     "name": "stdout",
     "output_type": "stream",
     "text": [
      "Epoch 90, Loss 0.0249\n",
      "Training Accuracy: 0.9712, Testing Accuracy: 0.9703\n",
      "\n"
     ]
    },
    {
     "name": "stdout",
     "output_type": "stream",
     "text": [
      "Epoch 100, Loss 0.024\n",
      "Training Accuracy: 0.9725, Testing Accuracy: 0.9708\n",
      "\n"
     ]
    },
    {
     "name": "stdout",
     "output_type": "stream",
     "text": [
      "Epoch 110, Loss 0.0231\n",
      "Training Accuracy: 0.9733, Testing Accuracy: 0.9713\n",
      "\n"
     ]
    },
    {
     "name": "stdout",
     "output_type": "stream",
     "text": [
      "Epoch 120, Loss 0.0224\n",
      "Training Accuracy: 0.9742, Testing Accuracy: 0.9713\n",
      "\n"
     ]
    },
    {
     "name": "stdout",
     "output_type": "stream",
     "text": [
      "Epoch 130, Loss 0.0217\n",
      "Training Accuracy: 0.9750, Testing Accuracy: 0.9713\n",
      "\n"
     ]
    },
    {
     "name": "stdout",
     "output_type": "stream",
     "text": [
      "Epoch 140, Loss 0.0211\n",
      "Training Accuracy: 0.9759, Testing Accuracy: 0.9713\n",
      "\n"
     ]
    },
    {
     "name": "stdout",
     "output_type": "stream",
     "text": [
      "Epoch 150, Loss 0.0205\n",
      "Training Accuracy: 0.9765, Testing Accuracy: 0.9728\n",
      "\n"
     ]
    },
    {
     "name": "stdout",
     "output_type": "stream",
     "text": [
      "Epoch 160, Loss 0.02\n",
      "Training Accuracy: 0.9772, Testing Accuracy: 0.9728\n",
      "\n"
     ]
    },
    {
     "name": "stdout",
     "output_type": "stream",
     "text": [
      "Epoch 170, Loss 0.0194\n",
      "Training Accuracy: 0.9781, Testing Accuracy: 0.9733\n",
      "\n"
     ]
    },
    {
     "name": "stdout",
     "output_type": "stream",
     "text": [
      "Epoch 180, Loss 0.019\n",
      "Training Accuracy: 0.9786, Testing Accuracy: 0.9733\n",
      "\n"
     ]
    },
    {
     "name": "stdout",
     "output_type": "stream",
     "text": [
      "Epoch 190, Loss 0.0185\n",
      "Training Accuracy: 0.9788, Testing Accuracy: 0.9733\n",
      "\n"
     ]
    },
    {
     "name": "stdout",
     "output_type": "stream",
     "text": [
      "Epoch 200, Loss 0.0181\n",
      "Training Accuracy: 0.9796, Testing Accuracy: 0.9738\n",
      "\n"
     ]
    },
    {
     "name": "stdout",
     "output_type": "stream",
     "text": [
      "Epoch 210, Loss 0.0177\n",
      "Training Accuracy: 0.9799, Testing Accuracy: 0.9743\n",
      "\n"
     ]
    },
    {
     "name": "stdout",
     "output_type": "stream",
     "text": [
      "Epoch 220, Loss 0.0173\n",
      "Training Accuracy: 0.9808, Testing Accuracy: 0.9738\n",
      "\n"
     ]
    },
    {
     "name": "stdout",
     "output_type": "stream",
     "text": [
      "Epoch 230, Loss 0.0169\n",
      "Training Accuracy: 0.9814, Testing Accuracy: 0.9748\n",
      "\n"
     ]
    },
    {
     "name": "stdout",
     "output_type": "stream",
     "text": [
      "Epoch 240, Loss 0.0166\n",
      "Training Accuracy: 0.9819, Testing Accuracy: 0.9753\n",
      "\n"
     ]
    },
    {
     "data": {
      "text/plain": [
       "0.004765930254856133"
      ]
     },
     "execution_count": 22,
     "metadata": {},
     "output_type": "execute_result"
    }
   ],
   "source": [
    "nn_learner.train_loop(dl)"
   ]
  },
  {
   "cell_type": "code",
   "execution_count": 23,
   "id": "e0163366",
   "metadata": {
    "execution": {
     "iopub.execute_input": "2021-11-16T00:28:22.299885Z",
     "iopub.status.busy": "2021-11-16T00:28:22.299327Z",
     "iopub.status.idle": "2021-11-16T00:28:36.877608Z",
     "shell.execute_reply": "2021-11-16T00:28:36.877174Z"
    },
    "papermill": {
     "duration": 14.623135,
     "end_time": "2021-11-16T00:28:36.877732",
     "exception": false,
     "start_time": "2021-11-16T00:28:22.254597",
     "status": "completed"
    },
    "tags": []
   },
   "outputs": [
    {
     "name": "stdout",
     "output_type": "stream",
     "text": [
      "Epoch 0, Loss 0.257\n",
      "Training Accuracy: 0.6375, Testing Accuracy: 0.6497\n",
      "\n"
     ]
    },
    {
     "name": "stdout",
     "output_type": "stream",
     "text": [
      "Epoch 10, Loss 0.1007\n",
      "Training Accuracy: 0.9181, Testing Accuracy: 0.9320\n",
      "\n"
     ]
    },
    {
     "name": "stdout",
     "output_type": "stream",
     "text": [
      "Epoch 20, Loss 0.0773\n",
      "Training Accuracy: 0.9331, Testing Accuracy: 0.9435\n",
      "\n"
     ]
    },
    {
     "name": "stdout",
     "output_type": "stream",
     "text": [
      "Epoch 30, Loss 0.0668\n",
      "Training Accuracy: 0.9392, Testing Accuracy: 0.9516\n",
      "\n"
     ]
    },
    {
     "name": "stdout",
     "output_type": "stream",
     "text": [
      "Epoch 40, Loss 0.0606\n",
      "Training Accuracy: 0.9437, Testing Accuracy: 0.9536\n",
      "\n"
     ]
    },
    {
     "name": "stdout",
     "output_type": "stream",
     "text": [
      "Epoch 50, Loss 0.0563\n",
      "Training Accuracy: 0.9468, Testing Accuracy: 0.9561\n",
      "\n"
     ]
    },
    {
     "name": "stdout",
     "output_type": "stream",
     "text": [
      "Epoch 60, Loss 0.0532\n",
      "Training Accuracy: 0.9488, Testing Accuracy: 0.9567\n",
      "\n"
     ]
    },
    {
     "name": "stdout",
     "output_type": "stream",
     "text": [
      "Epoch 70, Loss 0.0507\n",
      "Training Accuracy: 0.9508, Testing Accuracy: 0.9577\n",
      "\n"
     ]
    },
    {
     "name": "stdout",
     "output_type": "stream",
     "text": [
      "Epoch 80, Loss 0.0488\n",
      "Training Accuracy: 0.9516, Testing Accuracy: 0.9587\n",
      "\n"
     ]
    },
    {
     "name": "stdout",
     "output_type": "stream",
     "text": [
      "Epoch 90, Loss 0.0472\n",
      "Training Accuracy: 0.9528, Testing Accuracy: 0.9592\n",
      "\n"
     ]
    },
    {
     "name": "stdout",
     "output_type": "stream",
     "text": [
      "Epoch 100, Loss 0.0458\n",
      "Training Accuracy: 0.9536, Testing Accuracy: 0.9602\n",
      "\n"
     ]
    },
    {
     "name": "stdout",
     "output_type": "stream",
     "text": [
      "Epoch 110, Loss 0.0446\n",
      "Training Accuracy: 0.9543, Testing Accuracy: 0.9617\n",
      "\n"
     ]
    },
    {
     "name": "stdout",
     "output_type": "stream",
     "text": [
      "Epoch 120, Loss 0.0436\n",
      "Training Accuracy: 0.9558, Testing Accuracy: 0.9632\n",
      "\n"
     ]
    },
    {
     "name": "stdout",
     "output_type": "stream",
     "text": [
      "Epoch 130, Loss 0.0427\n",
      "Training Accuracy: 0.9568, Testing Accuracy: 0.9637\n",
      "\n"
     ]
    },
    {
     "name": "stdout",
     "output_type": "stream",
     "text": [
      "Epoch 140, Loss 0.0419\n",
      "Training Accuracy: 0.9573, Testing Accuracy: 0.9637\n",
      "\n"
     ]
    },
    {
     "name": "stdout",
     "output_type": "stream",
     "text": [
      "Epoch 150, Loss 0.0411\n",
      "Training Accuracy: 0.9579, Testing Accuracy: 0.9642\n",
      "\n"
     ]
    },
    {
     "name": "stdout",
     "output_type": "stream",
     "text": [
      "Epoch 160, Loss 0.0405\n",
      "Training Accuracy: 0.9583, Testing Accuracy: 0.9642\n",
      "\n"
     ]
    },
    {
     "name": "stdout",
     "output_type": "stream",
     "text": [
      "Epoch 170, Loss 0.0399\n",
      "Training Accuracy: 0.9588, Testing Accuracy: 0.9642\n",
      "\n"
     ]
    },
    {
     "name": "stdout",
     "output_type": "stream",
     "text": [
      "Epoch 180, Loss 0.0393\n",
      "Training Accuracy: 0.9590, Testing Accuracy: 0.9652\n",
      "\n"
     ]
    },
    {
     "name": "stdout",
     "output_type": "stream",
     "text": [
      "Epoch 190, Loss 0.0388\n",
      "Training Accuracy: 0.9594, Testing Accuracy: 0.9652\n",
      "\n"
     ]
    },
    {
     "name": "stdout",
     "output_type": "stream",
     "text": [
      "Epoch 200, Loss 0.0384\n",
      "Training Accuracy: 0.9601, Testing Accuracy: 0.9652\n",
      "\n"
     ]
    },
    {
     "name": "stdout",
     "output_type": "stream",
     "text": [
      "Epoch 210, Loss 0.0379\n",
      "Training Accuracy: 0.9603, Testing Accuracy: 0.9657\n",
      "\n"
     ]
    },
    {
     "name": "stdout",
     "output_type": "stream",
     "text": [
      "Epoch 220, Loss 0.0375\n",
      "Training Accuracy: 0.9608, Testing Accuracy: 0.9667\n",
      "\n"
     ]
    },
    {
     "name": "stdout",
     "output_type": "stream",
     "text": [
      "Epoch 230, Loss 0.0371\n",
      "Training Accuracy: 0.9610, Testing Accuracy: 0.9667\n",
      "\n"
     ]
    },
    {
     "name": "stdout",
     "output_type": "stream",
     "text": [
      "Epoch 240, Loss 0.0368\n",
      "Training Accuracy: 0.9613, Testing Accuracy: 0.9667\n",
      "\n"
     ]
    },
    {
     "data": {
      "text/plain": [
       "0.037065363722079595"
      ]
     },
     "execution_count": 23,
     "metadata": {},
     "output_type": "execute_result"
    }
   ],
   "source": [
    "lr_learner.train_loop(dl)"
   ]
  },
  {
   "cell_type": "code",
   "execution_count": 24,
   "id": "ca410940",
   "metadata": {
    "execution": {
     "iopub.execute_input": "2021-11-16T00:28:36.973849Z",
     "iopub.status.busy": "2021-11-16T00:28:36.972929Z",
     "iopub.status.idle": "2021-11-16T00:28:37.200920Z",
     "shell.execute_reply": "2021-11-16T00:28:37.201373Z"
    },
    "papermill": {
     "duration": 0.282496,
     "end_time": "2021-11-16T00:28:37.201527",
     "exception": false,
     "start_time": "2021-11-16T00:28:36.919031",
     "status": "completed"
    },
    "tags": []
   },
   "outputs": [
    {
     "data": {
      "text/plain": [
       "<matplotlib.legend.Legend at 0x7f0e934427f0>"
      ]
     },
     "execution_count": 24,
     "metadata": {},
     "output_type": "execute_result"
    },
    {
     "data": {
      "image/png": "[encoded data removed]",
      "text/plain": [
       "<Figure size 1080x720 with 1 Axes>"
      ]
     },
     "metadata": {
      "needs_background": "light"
     },
     "output_type": "display_data"
    }
   ],
   "source": [
    "#comparing the results of NN and LR\n",
    "plt.figure(figsize=(15,10))\n",
    "\n",
    "# Neural Network plots\n",
    "plt.plot(acc_nn.accuracies, 'r-', label = \"Training Accuracies - NN\")\n",
    "plt.plot(acc_nn.test_accuracies, 'g-', label = \"Testing Accuracies - NN\")\n",
    "\n",
    "# Logistic Regression plots\n",
    "plt.plot(acc_lr.accuracies, 'k-', label = \"Training Accuracies - LR\")\n",
    "plt.plot(acc_lr.test_accuracies, 'b-', label = \"Testing Accuracies - LR\")\n",
    "plt.legend()"
   ]
  },
  {
   "cell_type": "markdown",
   "id": "80dfb35c",
   "metadata": {
    "papermill": {
     "duration": 0.042508,
     "end_time": "2021-11-16T00:28:37.287530",
     "exception": false,
     "start_time": "2021-11-16T00:28:37.245022",
     "status": "completed"
    },
    "tags": []
   },
   "source": [
    "#### Plotting the outputs of this layer of the NN.\n"
   ]
  },
  {
   "cell_type": "code",
   "execution_count": 25,
   "id": "45eb2ff5",
   "metadata": {
    "execution": {
     "iopub.execute_input": "2021-11-16T00:28:37.375269Z",
     "iopub.status.busy": "2021-11-16T00:28:37.374684Z",
     "iopub.status.idle": "2021-11-16T00:28:37.394754Z",
     "shell.execute_reply": "2021-11-16T00:28:37.395213Z"
    },
    "papermill": {
     "duration": 0.065558,
     "end_time": "2021-11-16T00:28:37.395353",
     "exception": false,
     "start_time": "2021-11-16T00:28:37.329795",
     "status": "completed"
    },
    "tags": []
   },
   "outputs": [],
   "source": [
    "new_model = Model(layers[:-2])\n",
    "testing_plot = new_model(testing_data_x)"
   ]
  },
  {
   "cell_type": "code",
   "execution_count": 26,
   "id": "4c0a5485",
   "metadata": {
    "execution": {
     "iopub.execute_input": "2021-11-16T00:28:37.496983Z",
     "iopub.status.busy": "2021-11-16T00:28:37.495977Z",
     "iopub.status.idle": "2021-11-16T00:28:37.689020Z",
     "shell.execute_reply": "2021-11-16T00:28:37.689472Z"
    },
    "papermill": {
     "duration": 0.25142,
     "end_time": "2021-11-16T00:28:37.689612",
     "exception": false,
     "start_time": "2021-11-16T00:28:37.438192",
     "status": "completed"
    },
    "tags": []
   },
   "outputs": [
    {
     "data": {
      "text/plain": [
       "Text(0.5, 1.0, 'Outputs')"
      ]
     },
     "execution_count": 26,
     "metadata": {},
     "output_type": "execute_result"
    },
    {
     "data": {
      "image/png": "[encoded data removed]",
      "text/plain": [
       "<Figure size 576x504 with 1 Axes>"
      ]
     },
     "metadata": {
      "needs_background": "light"
     },
     "output_type": "display_data"
    }
   ],
   "source": [
    "# Plotting the scatter plot of points and color coding by class\n",
    "plt.figure(figsize=(8,7))\n",
    "plt.scatter(testing_plot[:,0], testing_plot[:,1], alpha = 0.1, c = y_test.ravel());\n",
    "plt.title('Outputs')"
   ]
  },
  {
   "cell_type": "markdown",
   "id": "a74fcf8f",
   "metadata": {
    "papermill": {
     "duration": 0.044672,
     "end_time": "2021-11-16T00:28:37.778985",
     "exception": false,
     "start_time": "2021-11-16T00:28:37.734313",
     "status": "completed"
    },
    "tags": []
   },
   "source": [
    "Probability contours"
   ]
  },
  {
   "cell_type": "code",
   "execution_count": 27,
   "id": "d0afc8e3",
   "metadata": {
    "execution": {
     "iopub.execute_input": "2021-11-16T00:28:37.875256Z",
     "iopub.status.busy": "2021-11-16T00:28:37.872678Z",
     "iopub.status.idle": "2021-11-16T00:28:37.884540Z",
     "shell.execute_reply": "2021-11-16T00:28:37.884072Z"
    },
    "papermill": {
     "duration": 0.060404,
     "end_time": "2021-11-16T00:28:37.884657",
     "exception": false,
     "start_time": "2021-11-16T00:28:37.824253",
     "status": "completed"
    },
    "tags": []
   },
   "outputs": [],
   "source": [
    "model_prob = Model(layers[-2:]) "
   ]
  },
  {
   "cell_type": "code",
   "execution_count": 28,
   "id": "9b96e238",
   "metadata": {
    "execution": {
     "iopub.execute_input": "2021-11-16T00:28:38.012558Z",
     "iopub.status.busy": "2021-11-16T00:28:38.012015Z",
     "iopub.status.idle": "2021-11-16T00:28:38.024432Z",
     "shell.execute_reply": "2021-11-16T00:28:38.024841Z"
    },
    "papermill": {
     "duration": 0.062517,
     "end_time": "2021-11-16T00:28:38.024979",
     "exception": false,
     "start_time": "2021-11-16T00:28:37.962462",
     "status": "completed"
    },
    "tags": []
   },
   "outputs": [],
   "source": [
    "#creating the x and y ranges according to the above generated plot.\n",
    "x_range = np.linspace(-4, 1, 100) \n",
    "y_range = np.linspace(-6, 6, 100) \n",
    "x_grid, y_grid = np.meshgrid(x_range, y_range) # x_grid and y_grig are of size 100 X 100\n",
    "\n",
    "# converting x_grid and y_grid to continuous arrays\n",
    "x_gridflat = np.ravel(x_grid)\n",
    "y_gridflat = np.ravel(y_grid)\n",
    "\n",
    "# The last layer of the current model takes two columns as input. Hence transpose of np.vstack() is required.\n",
    "X = np.vstack((x_gridflat, y_gridflat)).T\n",
    "\n",
    "prob_contour = model_prob(X).reshape(100,100) "
   ]
  },
  {
   "cell_type": "code",
   "execution_count": 29,
   "id": "da72499a",
   "metadata": {
    "execution": {
     "iopub.execute_input": "2021-11-16T00:28:38.124280Z",
     "iopub.status.busy": "2021-11-16T00:28:38.123733Z",
     "iopub.status.idle": "2021-11-16T00:28:38.376589Z",
     "shell.execute_reply": "2021-11-16T00:28:38.377023Z"
    },
    "papermill": {
     "duration": 0.30715,
     "end_time": "2021-11-16T00:28:38.377161",
     "exception": false,
     "start_time": "2021-11-16T00:28:38.070011",
     "status": "completed"
    },
    "tags": []
   },
   "outputs": [
    {
     "data": {
      "image/png": "[encoded data removed]",
      "text/plain": [
       "<Figure size 720x648 with 1 Axes>"
      ]
     },
     "metadata": {
      "needs_background": "light"
     },
     "output_type": "display_data"
    }
   ],
   "source": [
    "plt.figure(figsize=(10,9))\n",
    "plt.scatter(testing_plot[:,0], testing_plot[:,1], alpha = 0.1, c = y_test.ravel())\n",
    "contours = plt.contour(x_grid,y_grid,prob_contour)\n",
    "plt.title('Probability Contours')\n",
    "plt.clabel(contours, inline = True );"
   ]
  },
  {
   "cell_type": "code",
   "execution_count": null,
   "id": "e81b4ac7",
   "metadata": {
    "papermill": {
     "duration": 0.047708,
     "end_time": "2021-11-16T00:28:38.473013",
     "exception": false,
     "start_time": "2021-11-16T00:28:38.425305",
     "status": "completed"
    },
    "tags": []
   },
   "outputs": [],
   "source": []
  }
 ],
 "metadata": {
  "kernelspec": {
   "display_name": "Python 3",
   "language": "python",
   "name": "python3"
  },
  "language_info": {
   "codemirror_mode": {
    "name": "ipython",
    "version": 3
   },
   "file_extension": ".py",
   "mimetype": "text/x-python",
   "name": "python",
   "nbconvert_exporter": "python",
   "pygments_lexer": "ipython3",
   "version": "3.6.15"
  },
  "papermill": {
   "default_parameters": {},
   "duration": 105.030765,
   "end_time": "2021-11-16T00:28:38.929186",
   "environment_variables": {},
   "exception": null,
   "input_path": "2020-08-11-part2.ipynb",
   "output_path": "2020-08-11-part2.ipynb",
   "parameters": {},
   "start_time": "2021-11-16T00:26:53.898421",
   "version": "2.3.3"
  }
 },
 "nbformat": 4,
 "nbformat_minor": 5
}