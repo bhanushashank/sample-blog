{
 "cells": [
  {
   "cell_type": "markdown",
   "id": "98380cd3",
   "metadata": {
    "papermill": {
     "duration": 0.036233,
     "end_time": "2022-07-05T00:41:56.090428",
     "exception": false,
     "start_time": "2022-07-05T00:41:56.054195",
     "status": "completed"
    },
    "tags": []
   },
   "source": [
    "# Distinguish Your Own Digits (DYOD)"
   ]
  },
  {
   "cell_type": "markdown",
   "id": "ef31240d",
   "metadata": {
    "papermill": {
     "duration": 0.028386,
     "end_time": "2022-07-05T00:41:56.147823",
     "exception": false,
     "start_time": "2022-07-05T00:41:56.119437",
     "status": "completed"
    },
    "tags": []
   },
   "source": [
    "You are going to write a classifier that distinguishes between the number 3 and number 8."
   ]
  },
  {
   "cell_type": "code",
   "execution_count": 1,
   "id": "b15c8646",
   "metadata": {
    "execution": {
     "iopub.execute_input": "2022-07-05T00:41:56.231046Z",
     "iopub.status.busy": "2022-07-05T00:41:56.230348Z",
     "iopub.status.idle": "2022-07-05T00:41:56.241971Z",
     "shell.execute_reply": "2022-07-05T00:41:56.242492Z"
    },
    "papermill": {
     "duration": 0.057613,
     "end_time": "2022-07-05T00:41:56.242643",
     "exception": false,
     "start_time": "2022-07-05T00:41:56.185030",
     "status": "completed"
    },
    "tags": []
   },
   "outputs": [],
   "source": [
    "%load_ext autoreload\n",
    "%autoreload 2"
   ]
  },
  {
   "cell_type": "code",
   "execution_count": 2,
   "id": "22ef38dc",
   "metadata": {
    "execution": {
     "iopub.execute_input": "2022-07-05T00:41:56.307217Z",
     "iopub.status.busy": "2022-07-05T00:41:56.306577Z",
     "iopub.status.idle": "2022-07-05T00:41:56.948113Z",
     "shell.execute_reply": "2022-07-05T00:41:56.947516Z"
    },
    "papermill": {
     "duration": 0.674689,
     "end_time": "2022-07-05T00:41:56.948248",
     "exception": false,
     "start_time": "2022-07-05T00:41:56.273559",
     "status": "completed"
    },
    "tags": []
   },
   "outputs": [],
   "source": [
    "%matplotlib inline\n",
    "import numpy as np\n",
    "import matplotlib.pyplot as plt\n",
    "import pandas as pd"
   ]
  },
  {
   "cell_type": "markdown",
   "id": "ba036198",
   "metadata": {
    "papermill": {
     "duration": 0.027017,
     "end_time": "2022-07-05T00:41:57.006372",
     "exception": false,
     "start_time": "2022-07-05T00:41:56.979355",
     "status": "completed"
    },
    "tags": []
   },
   "source": [
    "From the command line run `pip install mnist`. This is a library that will help you bring down the mnist dataset. If you run this from a notebook, you need to put  `!pip install mnist` in a cell by itself."
   ]
  },
  {
   "cell_type": "code",
   "execution_count": 3,
   "id": "bb6ad8a1",
   "metadata": {
    "execution": {
     "iopub.execute_input": "2022-07-05T00:41:57.077749Z",
     "iopub.status.busy": "2022-07-05T00:41:57.076862Z",
     "iopub.status.idle": "2022-07-05T00:41:59.029675Z",
     "shell.execute_reply": "2022-07-05T00:41:59.028997Z"
    },
    "papermill": {
     "duration": 1.991207,
     "end_time": "2022-07-05T00:41:59.029858",
     "exception": false,
     "start_time": "2022-07-05T00:41:57.038651",
     "status": "completed"
    },
    "tags": []
   },
   "outputs": [
    {
     "name": "stdout",
     "output_type": "stream",
     "text": [
      "Collecting mnist\r\n"
     ]
    },
    {
     "name": "stdout",
     "output_type": "stream",
     "text": [
      "  Downloading mnist-0.2.2-py2.py3-none-any.whl (3.5 kB)\r\n",
      "Requirement already satisfied: numpy in /opt/hostedtoolcache/Python/3.6.15/x64/lib/python3.6/site-packages (from mnist) (1.19.5)\r\n"
     ]
    },
    {
     "name": "stdout",
     "output_type": "stream",
     "text": [
      "Installing collected packages: mnist\r\n"
     ]
    },
    {
     "name": "stdout",
     "output_type": "stream",
     "text": [
      "Successfully installed mnist-0.2.2\r\n"
     ]
    }
   ],
   "source": [
    "!pip install mnist"
   ]
  },
  {
   "cell_type": "markdown",
   "id": "69df9c9a",
   "metadata": {
    "papermill": {
     "duration": 0.03319,
     "end_time": "2022-07-05T00:41:59.099977",
     "exception": false,
     "start_time": "2022-07-05T00:41:59.066787",
     "status": "completed"
    },
    "tags": []
   },
   "source": [
    "## Preparing the Data"
   ]
  },
  {
   "cell_type": "code",
   "execution_count": 4,
   "id": "7f69d806",
   "metadata": {
    "execution": {
     "iopub.execute_input": "2022-07-05T00:41:59.167210Z",
     "iopub.status.busy": "2022-07-05T00:41:59.166335Z",
     "iopub.status.idle": "2022-07-05T00:41:59.182652Z",
     "shell.execute_reply": "2022-07-05T00:41:59.182024Z"
    },
    "papermill": {
     "duration": 0.05225,
     "end_time": "2022-07-05T00:41:59.182767",
     "exception": false,
     "start_time": "2022-07-05T00:41:59.130517",
     "status": "completed"
    },
    "tags": []
   },
   "outputs": [],
   "source": [
    "import mnist"
   ]
  },
  {
   "cell_type": "code",
   "execution_count": 5,
   "id": "a411e44f",
   "metadata": {
    "execution": {
     "iopub.execute_input": "2022-07-05T00:41:59.250855Z",
     "iopub.status.busy": "2022-07-05T00:41:59.250099Z",
     "iopub.status.idle": "2022-07-05T00:41:59.839197Z",
     "shell.execute_reply": "2022-07-05T00:41:59.838552Z"
    },
    "papermill": {
     "duration": 0.626196,
     "end_time": "2022-07-05T00:41:59.839339",
     "exception": false,
     "start_time": "2022-07-05T00:41:59.213143",
     "status": "completed"
    },
    "tags": []
   },
   "outputs": [],
   "source": [
    "train_images = mnist.train_images()\n",
    "train_labels = mnist.train_labels()"
   ]
  },
  {
   "cell_type": "code",
   "execution_count": 6,
   "id": "dceab3a5",
   "metadata": {
    "execution": {
     "iopub.execute_input": "2022-07-05T00:41:59.910443Z",
     "iopub.status.busy": "2022-07-05T00:41:59.909674Z",
     "iopub.status.idle": "2022-07-05T00:41:59.926824Z",
     "shell.execute_reply": "2022-07-05T00:41:59.926111Z"
    },
    "papermill": {
     "duration": 0.056198,
     "end_time": "2022-07-05T00:41:59.926951",
     "exception": false,
     "start_time": "2022-07-05T00:41:59.870753",
     "status": "completed"
    },
    "tags": []
   },
   "outputs": [
    {
     "data": {
      "text/plain": [
       "((60000, 28, 28), (60000,))"
      ]
     },
     "execution_count": 6,
     "metadata": {},
     "output_type": "execute_result"
    }
   ],
   "source": [
    "train_images.shape, train_labels.shape"
   ]
  },
  {
   "cell_type": "code",
   "execution_count": 7,
   "id": "f50dc2bb",
   "metadata": {
    "execution": {
     "iopub.execute_input": "2022-07-05T00:41:59.991936Z",
     "iopub.status.busy": "2022-07-05T00:41:59.991178Z",
     "iopub.status.idle": "2022-07-05T00:42:00.162126Z",
     "shell.execute_reply": "2022-07-05T00:42:00.161512Z"
    },
    "papermill": {
     "duration": 0.204454,
     "end_time": "2022-07-05T00:42:00.162275",
     "exception": false,
     "start_time": "2022-07-05T00:41:59.957821",
     "status": "completed"
    },
    "tags": []
   },
   "outputs": [],
   "source": [
    "test_images = mnist.test_images()\n",
    "test_labels = mnist.test_labels()"
   ]
  },
  {
   "cell_type": "code",
   "execution_count": 8,
   "id": "fc38cf1b",
   "metadata": {
    "execution": {
     "iopub.execute_input": "2022-07-05T00:42:00.233813Z",
     "iopub.status.busy": "2022-07-05T00:42:00.233006Z",
     "iopub.status.idle": "2022-07-05T00:42:00.249362Z",
     "shell.execute_reply": "2022-07-05T00:42:00.248622Z"
    },
    "papermill": {
     "duration": 0.055412,
     "end_time": "2022-07-05T00:42:00.249512",
     "exception": false,
     "start_time": "2022-07-05T00:42:00.194100",
     "status": "completed"
    },
    "tags": []
   },
   "outputs": [
    {
     "data": {
      "text/plain": [
       "((10000, 28, 28), (10000,))"
      ]
     },
     "execution_count": 8,
     "metadata": {},
     "output_type": "execute_result"
    }
   ],
   "source": [
    "test_images.shape, test_labels.shape"
   ]
  },
  {
   "cell_type": "code",
   "execution_count": 9,
   "id": "f9ed8fe0",
   "metadata": {
    "execution": {
     "iopub.execute_input": "2022-07-05T00:42:00.326158Z",
     "iopub.status.busy": "2022-07-05T00:42:00.323107Z",
     "iopub.status.idle": "2022-07-05T00:42:00.521984Z",
     "shell.execute_reply": "2022-07-05T00:42:00.520835Z"
    },
    "papermill": {
     "duration": 0.240808,
     "end_time": "2022-07-05T00:42:00.522131",
     "exception": false,
     "start_time": "2022-07-05T00:42:00.281323",
     "status": "completed"
    },
    "tags": []
   },
   "outputs": [
    {
     "name": "stdout",
     "output_type": "stream",
     "text": [
      "2\n"
     ]
    },
    {
     "data": {
      "text/plain": [
       "<matplotlib.image.AxesImage at 0x7fa939cf04a8>"
      ]
     },
     "execution_count": 9,
     "metadata": {},
     "output_type": "execute_result"
    },
    {
     "data": {
      "image/png": "[encoded data removed]",
      "text/plain": [
       "<Figure size 432x288 with 1 Axes>"
      ]
     },
     "metadata": {
      "needs_background": "light"
     },
     "output_type": "display_data"
    }
   ],
   "source": [
    "image_index = 7776 # You may select anything up to 60,000\n",
    "print(train_labels[image_index]) \n",
    "plt.imshow(train_images[image_index], cmap='Greys')"
   ]
  },
  {
   "cell_type": "markdown",
   "id": "a8d2388d",
   "metadata": {
    "papermill": {
     "duration": 0.032618,
     "end_time": "2022-07-05T00:42:00.588000",
     "exception": false,
     "start_time": "2022-07-05T00:42:00.555382",
     "status": "completed"
    },
    "tags": []
   },
   "source": [
    "## Filter data to get 3 and 8 out"
   ]
  },
  {
   "cell_type": "code",
   "execution_count": 10,
   "id": "776f7fc7",
   "metadata": {
    "execution": {
     "iopub.execute_input": "2022-07-05T00:42:00.661883Z",
     "iopub.status.busy": "2022-07-05T00:42:00.660636Z",
     "iopub.status.idle": "2022-07-05T00:42:00.682404Z",
     "shell.execute_reply": "2022-07-05T00:42:00.681753Z"
    },
    "papermill": {
     "duration": 0.059509,
     "end_time": "2022-07-05T00:42:00.682528",
     "exception": false,
     "start_time": "2022-07-05T00:42:00.623019",
     "status": "completed"
    },
    "tags": []
   },
   "outputs": [],
   "source": [
    "train_filter = np.where((train_labels == 3 ) | (train_labels == 8))\n",
    "test_filter = np.where((test_labels == 3) | (test_labels == 8))\n",
    "X_train, y_train = train_images[train_filter], train_labels[train_filter]\n",
    "X_test, y_test = test_images[test_filter], test_labels[test_filter]"
   ]
  },
  {
   "cell_type": "markdown",
   "id": "948f0b7e",
   "metadata": {
    "papermill": {
     "duration": 0.033098,
     "end_time": "2022-07-05T00:42:00.748381",
     "exception": false,
     "start_time": "2022-07-05T00:42:00.715283",
     "status": "completed"
    },
    "tags": []
   },
   "source": [
    "We normalize the pizel values in the 0 to 1 range"
   ]
  },
  {
   "cell_type": "code",
   "execution_count": 11,
   "id": "ee4c2166",
   "metadata": {
    "execution": {
     "iopub.execute_input": "2022-07-05T00:42:00.822248Z",
     "iopub.status.busy": "2022-07-05T00:42:00.819264Z",
     "iopub.status.idle": "2022-07-05T00:42:00.883511Z",
     "shell.execute_reply": "2022-07-05T00:42:00.882976Z"
    },
    "papermill": {
     "duration": 0.102326,
     "end_time": "2022-07-05T00:42:00.883698",
     "exception": false,
     "start_time": "2022-07-05T00:42:00.781372",
     "status": "completed"
    },
    "tags": []
   },
   "outputs": [],
   "source": [
    "X_train = X_train/255.\n",
    "X_test = X_test/255."
   ]
  },
  {
   "cell_type": "markdown",
   "id": "ddcf4fab",
   "metadata": {
    "papermill": {
     "duration": 0.033672,
     "end_time": "2022-07-05T00:42:00.953349",
     "exception": false,
     "start_time": "2022-07-05T00:42:00.919677",
     "status": "completed"
    },
    "tags": []
   },
   "source": [
    "And setup the labels as 1 (when the digit is 3) and 0 (when the digit is 8)"
   ]
  },
  {
   "cell_type": "code",
   "execution_count": 12,
   "id": "7dc908f2",
   "metadata": {
    "execution": {
     "iopub.execute_input": "2022-07-05T00:42:01.024102Z",
     "iopub.status.busy": "2022-07-05T00:42:01.023425Z",
     "iopub.status.idle": "2022-07-05T00:42:01.037544Z",
     "shell.execute_reply": "2022-07-05T00:42:01.036871Z"
    },
    "papermill": {
     "duration": 0.052154,
     "end_time": "2022-07-05T00:42:01.037677",
     "exception": false,
     "start_time": "2022-07-05T00:42:00.985523",
     "status": "completed"
    },
    "tags": []
   },
   "outputs": [],
   "source": [
    "y_train = 1*(y_train==3)\n",
    "y_test = 1*(y_test==3)"
   ]
  },
  {
   "cell_type": "code",
   "execution_count": 13,
   "id": "01e4e969",
   "metadata": {
    "execution": {
     "iopub.execute_input": "2022-07-05T00:42:01.110812Z",
     "iopub.status.busy": "2022-07-05T00:42:01.110099Z",
     "iopub.status.idle": "2022-07-05T00:42:01.125518Z",
     "shell.execute_reply": "2022-07-05T00:42:01.124926Z"
    },
    "papermill": {
     "duration": 0.055542,
     "end_time": "2022-07-05T00:42:01.125660",
     "exception": false,
     "start_time": "2022-07-05T00:42:01.070118",
     "status": "completed"
    },
    "tags": []
   },
   "outputs": [
    {
     "data": {
      "text/plain": [
       "((11982, 28, 28), (1984, 28, 28))"
      ]
     },
     "execution_count": 13,
     "metadata": {},
     "output_type": "execute_result"
    }
   ],
   "source": [
    "X_train.shape, X_test.shape"
   ]
  },
  {
   "cell_type": "markdown",
   "id": "5ccf3f85",
   "metadata": {
    "papermill": {
     "duration": 0.033991,
     "end_time": "2022-07-05T00:42:01.192757",
     "exception": false,
     "start_time": "2022-07-05T00:42:01.158766",
     "status": "completed"
    },
    "tags": []
   },
   "source": [
    "We reshape the data to flatten the image pixels into a set of features or co-variates:"
   ]
  },
  {
   "cell_type": "code",
   "execution_count": 14,
   "id": "5286a4a3",
   "metadata": {
    "execution": {
     "iopub.execute_input": "2022-07-05T00:42:01.271195Z",
     "iopub.status.busy": "2022-07-05T00:42:01.270379Z",
     "iopub.status.idle": "2022-07-05T00:42:01.285763Z",
     "shell.execute_reply": "2022-07-05T00:42:01.286594Z"
    },
    "papermill": {
     "duration": 0.057651,
     "end_time": "2022-07-05T00:42:01.286762",
     "exception": false,
     "start_time": "2022-07-05T00:42:01.229111",
     "status": "completed"
    },
    "tags": []
   },
   "outputs": [
    {
     "data": {
      "text/plain": [
       "((11982, 784), (1984, 784))"
      ]
     },
     "execution_count": 14,
     "metadata": {},
     "output_type": "execute_result"
    }
   ],
   "source": [
    "X_train = X_train.reshape(X_train.shape[0], -1)\n",
    "X_test = X_test.reshape(X_test.shape[0], -1)\n",
    "X_train.shape, X_test.shape"
   ]
  },
  {
   "cell_type": "code",
   "execution_count": 15,
   "id": "73c5f88a",
   "metadata": {
    "execution": {
     "iopub.execute_input": "2022-07-05T00:42:01.364436Z",
     "iopub.status.busy": "2022-07-05T00:42:01.363726Z",
     "iopub.status.idle": "2022-07-05T00:42:01.384993Z",
     "shell.execute_reply": "2022-07-05T00:42:01.384449Z"
    },
    "papermill": {
     "duration": 0.061143,
     "end_time": "2022-07-05T00:42:01.385110",
     "exception": false,
     "start_time": "2022-07-05T00:42:01.323967",
     "status": "completed"
    },
    "tags": []
   },
   "outputs": [],
   "source": [
    "#Impoting functions from 'Kudzu'\n",
    "from kudzu.model import Model\n",
    "from kudzu.train import Learner\n",
    "from kudzu.optim import GD\n",
    "from kudzu.data import Data, Sampler,Dataloader\n",
    "\n",
    "from kudzu.callbacks import AccCallback\n",
    "from kudzu.callbacks import ClfCallback\n",
    "\n",
    "from kudzu.loss import MSE\n",
    "\n",
    "from kudzu.layer import Sigmoid,Relu\n",
    "from kudzu.layer import Affine"
   ]
  },
  {
   "cell_type": "markdown",
   "id": "bc01172a",
   "metadata": {
    "papermill": {
     "duration": 0.035259,
     "end_time": "2022-07-05T00:42:01.454323",
     "exception": false,
     "start_time": "2022-07-05T00:42:01.419064",
     "status": "completed"
    },
    "tags": []
   },
   "source": [
    "### Let us create a `Config` class, to store important parameters. \n",
    "This class essentially plays the role of a dictionary."
   ]
  },
  {
   "cell_type": "code",
   "execution_count": 16,
   "id": "978281aa",
   "metadata": {
    "execution": {
     "iopub.execute_input": "2022-07-05T00:42:01.532772Z",
     "iopub.status.busy": "2022-07-05T00:42:01.532000Z",
     "iopub.status.idle": "2022-07-05T00:42:01.547583Z",
     "shell.execute_reply": "2022-07-05T00:42:01.548097Z"
    },
    "papermill": {
     "duration": 0.060308,
     "end_time": "2022-07-05T00:42:01.548251",
     "exception": false,
     "start_time": "2022-07-05T00:42:01.487943",
     "status": "completed"
    },
    "tags": []
   },
   "outputs": [],
   "source": [
    "class Config:\n",
    "    pass\n",
    "config = Config()\n",
    "config.lr = 0.001\n",
    "config.num_epochs = 250\n",
    "config.bs = 50"
   ]
  },
  {
   "cell_type": "markdown",
   "id": "1385fa59",
   "metadata": {
    "papermill": {
     "duration": 0.035034,
     "end_time": "2022-07-05T00:42:01.618509",
     "exception": false,
     "start_time": "2022-07-05T00:42:01.583475",
     "status": "completed"
    },
    "tags": []
   },
   "source": [
    "### Running Models with the Training data\n",
    "Details about the network layers:\n",
    "- A first affine layer has 784 inputs and does 100 affine transforms. These are followed by a Relu\n",
    "- A second affine layer has 100 inputs from the 100 activations of the past layer, and does 100 affine transforms. These are followed by a Relu\n",
    "- A third affine layer has 100 activations and does 2 affine transformations to create an embedding for visualization. There is no non-linearity here.\n",
    "- A final \"logistic regression\" which has an affine transform from 2 inputs to 1 output, which is squeezed through a sigmoid.\n"
   ]
  },
  {
   "cell_type": "code",
   "execution_count": 17,
   "id": "2b9c66db",
   "metadata": {
    "execution": {
     "iopub.execute_input": "2022-07-05T00:42:01.695165Z",
     "iopub.status.busy": "2022-07-05T00:42:01.694350Z",
     "iopub.status.idle": "2022-07-05T00:42:01.708193Z",
     "shell.execute_reply": "2022-07-05T00:42:01.707568Z"
    },
    "papermill": {
     "duration": 0.055643,
     "end_time": "2022-07-05T00:42:01.708326",
     "exception": false,
     "start_time": "2022-07-05T00:42:01.652683",
     "status": "completed"
    },
    "tags": []
   },
   "outputs": [],
   "source": [
    "data = Data(X_train, y_train.reshape(-1,1))\n",
    "sampler = Sampler(data, config.bs, shuffle=True)\n",
    "\n",
    "dl = Dataloader(data, sampler)\n",
    "\n",
    "opt = GD(config.lr)\n",
    "loss = MSE()"
   ]
  },
  {
   "cell_type": "code",
   "execution_count": 18,
   "id": "b275e4c2",
   "metadata": {
    "execution": {
     "iopub.execute_input": "2022-07-05T00:42:01.783932Z",
     "iopub.status.busy": "2022-07-05T00:42:01.783181Z",
     "iopub.status.idle": "2022-07-05T00:42:01.798561Z",
     "shell.execute_reply": "2022-07-05T00:42:01.797944Z"
    },
    "papermill": {
     "duration": 0.057144,
     "end_time": "2022-07-05T00:42:01.798694",
     "exception": false,
     "start_time": "2022-07-05T00:42:01.741550",
     "status": "completed"
    },
    "tags": []
   },
   "outputs": [],
   "source": [
    "training_data_x = X_train\n",
    "testing_data_x = X_test\n",
    "training_data_y = y_train.reshape(-1,1)\n",
    "testing_data_y = y_test.reshape(-1,1)"
   ]
  },
  {
   "cell_type": "code",
   "execution_count": 19,
   "id": "76951160",
   "metadata": {
    "execution": {
     "iopub.execute_input": "2022-07-05T00:42:01.873743Z",
     "iopub.status.busy": "2022-07-05T00:42:01.872602Z",
     "iopub.status.idle": "2022-07-05T00:42:01.893414Z",
     "shell.execute_reply": "2022-07-05T00:42:01.892817Z"
    },
    "papermill": {
     "duration": 0.060953,
     "end_time": "2022-07-05T00:42:01.893573",
     "exception": false,
     "start_time": "2022-07-05T00:42:01.832620",
     "status": "completed"
    },
    "tags": []
   },
   "outputs": [
    {
     "name": "stdout",
     "output_type": "stream",
     "text": [
      "xavier\n",
      "xavier\n",
      "xavier\n",
      "xavier\n",
      "xavier\n"
     ]
    }
   ],
   "source": [
    "layers = [Affine(\"first\", 784, 100), Relu(\"first\"), Affine(\"second\", 100, 100), Relu(\"second\"), Affine(\"third\", 100, 2), Affine(\"last\", 2, 1), Sigmoid(\"last\")]\n",
    "model_nn = Model(layers)\n",
    "model_lr = Model([Affine(\"logits\", 784, 1), Sigmoid(\"sigmoid\")])"
   ]
  },
  {
   "cell_type": "code",
   "execution_count": 20,
   "id": "6eede77a",
   "metadata": {
    "execution": {
     "iopub.execute_input": "2022-07-05T00:42:01.965442Z",
     "iopub.status.busy": "2022-07-05T00:42:01.964634Z",
     "iopub.status.idle": "2022-07-05T00:42:01.981308Z",
     "shell.execute_reply": "2022-07-05T00:42:01.980513Z"
    },
    "papermill": {
     "duration": 0.05388,
     "end_time": "2022-07-05T00:42:01.981498",
     "exception": false,
     "start_time": "2022-07-05T00:42:01.927618",
     "status": "completed"
    },
    "tags": []
   },
   "outputs": [],
   "source": [
    "nn_learner = Learner(loss, model_nn, opt, config.num_epochs)\n",
    "acc_nn = ClfCallback(nn_learner, config.bs, training_data_x , testing_data_x, training_data_y, testing_data_y)\n",
    "nn_learner.set_callbacks([acc_nn])"
   ]
  },
  {
   "cell_type": "code",
   "execution_count": 21,
   "id": "877b6cc7",
   "metadata": {
    "execution": {
     "iopub.execute_input": "2022-07-05T00:42:02.055893Z",
     "iopub.status.busy": "2022-07-05T00:42:02.055122Z",
     "iopub.status.idle": "2022-07-05T00:42:02.071787Z",
     "shell.execute_reply": "2022-07-05T00:42:02.069834Z"
    },
    "papermill": {
     "duration": 0.054742,
     "end_time": "2022-07-05T00:42:02.071964",
     "exception": false,
     "start_time": "2022-07-05T00:42:02.017222",
     "status": "completed"
    },
    "tags": []
   },
   "outputs": [],
   "source": [
    "lr_learner = Learner(loss, model_lr, opt, config.num_epochs)\n",
    "acc_lr = ClfCallback(lr_learner, config.bs, training_data_x , testing_data_x, training_data_y, testing_data_y)\n",
    "lr_learner.set_callbacks([acc_lr])"
   ]
  },
  {
   "cell_type": "code",
   "execution_count": 22,
   "id": "d9b133c3",
   "metadata": {
    "execution": {
     "iopub.execute_input": "2022-07-05T00:42:02.144753Z",
     "iopub.status.busy": "2022-07-05T00:42:02.144060Z",
     "iopub.status.idle": "2022-07-05T00:44:26.899388Z",
     "shell.execute_reply": "2022-07-05T00:44:26.900544Z"
    },
    "papermill": {
     "duration": 144.795367,
     "end_time": "2022-07-05T00:44:26.900705",
     "exception": false,
     "start_time": "2022-07-05T00:42:02.105338",
     "status": "completed"
    },
    "tags": []
   },
   "outputs": [
    {
     "name": "stdout",
     "output_type": "stream",
     "text": [
      "Epoch 0, Loss 0.243\n",
      "Training Accuracy: 0.5646, Testing Accuracy: 0.5917\n",
      "\n"
     ]
    },
    {
     "name": "stdout",
     "output_type": "stream",
     "text": [
      "Epoch 10, Loss 0.1613\n",
      "Training Accuracy: 0.8696, Testing Accuracy: 0.8851\n",
      "\n"
     ]
    },
    {
     "name": "stdout",
     "output_type": "stream",
     "text": [
      "Epoch 20, Loss 0.0869\n",
      "Training Accuracy: 0.9090, Testing Accuracy: 0.9239\n",
      "\n"
     ]
    },
    {
     "name": "stdout",
     "output_type": "stream",
     "text": [
      "Epoch 30, Loss 0.0603\n",
      "Training Accuracy: 0.9322, Testing Accuracy: 0.9451\n",
      "\n"
     ]
    },
    {
     "name": "stdout",
     "output_type": "stream",
     "text": [
      "Epoch 40, Loss 0.0483\n",
      "Training Accuracy: 0.9442, Testing Accuracy: 0.9556\n",
      "\n"
     ]
    },
    {
     "name": "stdout",
     "output_type": "stream",
     "text": [
      "Epoch 50, Loss 0.0418\n",
      "Training Accuracy: 0.9513, Testing Accuracy: 0.9602\n",
      "\n"
     ]
    },
    {
     "name": "stdout",
     "output_type": "stream",
     "text": [
      "Epoch 60, Loss 0.0377\n",
      "Training Accuracy: 0.9564, Testing Accuracy: 0.9647\n",
      "\n"
     ]
    },
    {
     "name": "stdout",
     "output_type": "stream",
     "text": [
      "Epoch 70, Loss 0.0349\n",
      "Training Accuracy: 0.9596, Testing Accuracy: 0.9662\n",
      "\n"
     ]
    },
    {
     "name": "stdout",
     "output_type": "stream",
     "text": [
      "Epoch 80, Loss 0.0328\n",
      "Training Accuracy: 0.9615, Testing Accuracy: 0.9677\n",
      "\n"
     ]
    },
    {
     "name": "stdout",
     "output_type": "stream",
     "text": [
      "Epoch 90, Loss 0.0312\n",
      "Training Accuracy: 0.9634, Testing Accuracy: 0.9698\n",
      "\n"
     ]
    },
    {
     "name": "stdout",
     "output_type": "stream",
     "text": [
      "Epoch 100, Loss 0.0298\n",
      "Training Accuracy: 0.9654, Testing Accuracy: 0.9698\n",
      "\n"
     ]
    },
    {
     "name": "stdout",
     "output_type": "stream",
     "text": [
      "Epoch 110, Loss 0.0286\n",
      "Training Accuracy: 0.9664, Testing Accuracy: 0.9703\n",
      "\n"
     ]
    },
    {
     "name": "stdout",
     "output_type": "stream",
     "text": [
      "Epoch 120, Loss 0.0276\n",
      "Training Accuracy: 0.9675, Testing Accuracy: 0.9708\n",
      "\n"
     ]
    },
    {
     "name": "stdout",
     "output_type": "stream",
     "text": [
      "Epoch 130, Loss 0.0267\n",
      "Training Accuracy: 0.9683, Testing Accuracy: 0.9713\n",
      "\n"
     ]
    },
    {
     "name": "stdout",
     "output_type": "stream",
     "text": [
      "Epoch 140, Loss 0.0259\n",
      "Training Accuracy: 0.9690, Testing Accuracy: 0.9723\n",
      "\n"
     ]
    },
    {
     "name": "stdout",
     "output_type": "stream",
     "text": [
      "Epoch 150, Loss 0.0251\n",
      "Training Accuracy: 0.9702, Testing Accuracy: 0.9713\n",
      "\n"
     ]
    },
    {
     "name": "stdout",
     "output_type": "stream",
     "text": [
      "Epoch 160, Loss 0.0245\n",
      "Training Accuracy: 0.9710, Testing Accuracy: 0.9718\n",
      "\n"
     ]
    },
    {
     "name": "stdout",
     "output_type": "stream",
     "text": [
      "Epoch 170, Loss 0.0238\n",
      "Training Accuracy: 0.9717, Testing Accuracy: 0.9718\n",
      "\n"
     ]
    },
    {
     "name": "stdout",
     "output_type": "stream",
     "text": [
      "Epoch 180, Loss 0.0233\n",
      "Training Accuracy: 0.9727, Testing Accuracy: 0.9733\n",
      "\n"
     ]
    },
    {
     "name": "stdout",
     "output_type": "stream",
     "text": [
      "Epoch 190, Loss 0.0227\n",
      "Training Accuracy: 0.9735, Testing Accuracy: 0.9723\n",
      "\n"
     ]
    },
    {
     "name": "stdout",
     "output_type": "stream",
     "text": [
      "Epoch 200, Loss 0.0222\n",
      "Training Accuracy: 0.9746, Testing Accuracy: 0.9723\n",
      "\n"
     ]
    },
    {
     "name": "stdout",
     "output_type": "stream",
     "text": [
      "Epoch 210, Loss 0.0217\n",
      "Training Accuracy: 0.9757, Testing Accuracy: 0.9723\n",
      "\n"
     ]
    },
    {
     "name": "stdout",
     "output_type": "stream",
     "text": [
      "Epoch 220, Loss 0.0213\n",
      "Training Accuracy: 0.9762, Testing Accuracy: 0.9718\n",
      "\n"
     ]
    },
    {
     "name": "stdout",
     "output_type": "stream",
     "text": [
      "Epoch 230, Loss 0.0209\n",
      "Training Accuracy: 0.9768, Testing Accuracy: 0.9728\n",
      "\n"
     ]
    },
    {
     "name": "stdout",
     "output_type": "stream",
     "text": [
      "Epoch 240, Loss 0.0205\n",
      "Training Accuracy: 0.9775, Testing Accuracy: 0.9728\n",
      "\n"
     ]
    },
    {
     "data": {
      "text/plain": [
       "0.02458718397163943"
      ]
     },
     "execution_count": 22,
     "metadata": {},
     "output_type": "execute_result"
    }
   ],
   "source": [
    "nn_learner.train_loop(dl)"
   ]
  },
  {
   "cell_type": "code",
   "execution_count": 23,
   "id": "e0163366",
   "metadata": {
    "execution": {
     "iopub.execute_input": "2022-07-05T00:44:27.035197Z",
     "iopub.status.busy": "2022-07-05T00:44:27.034442Z",
     "iopub.status.idle": "2022-07-05T00:44:47.494308Z",
     "shell.execute_reply": "2022-07-05T00:44:47.495247Z"
    },
    "papermill": {
     "duration": 20.550313,
     "end_time": "2022-07-05T00:44:47.495398",
     "exception": false,
     "start_time": "2022-07-05T00:44:26.945085",
     "status": "completed"
    },
    "tags": []
   },
   "outputs": [
    {
     "name": "stdout",
     "output_type": "stream",
     "text": [
      "Epoch 0, Loss 0.2237\n",
      "Training Accuracy: 0.7281, Testing Accuracy: 0.7535\n",
      "\n"
     ]
    },
    {
     "name": "stdout",
     "output_type": "stream",
     "text": [
      "Epoch 10, Loss 0.1081\n",
      "Training Accuracy: 0.8911, Testing Accuracy: 0.9032\n",
      "\n"
     ]
    },
    {
     "name": "stdout",
     "output_type": "stream",
     "text": [
      "Epoch 20, Loss 0.083\n",
      "Training Accuracy: 0.9192, Testing Accuracy: 0.9249\n",
      "\n"
     ]
    },
    {
     "name": "stdout",
     "output_type": "stream",
     "text": [
      "Epoch 30, Loss 0.071\n",
      "Training Accuracy: 0.9309, Testing Accuracy: 0.9375\n",
      "\n"
     ]
    },
    {
     "name": "stdout",
     "output_type": "stream",
     "text": [
      "Epoch 40, Loss 0.0637\n",
      "Training Accuracy: 0.9375, Testing Accuracy: 0.9461\n",
      "\n"
     ]
    },
    {
     "name": "stdout",
     "output_type": "stream",
     "text": [
      "Epoch 50, Loss 0.0588\n",
      "Training Accuracy: 0.9422, Testing Accuracy: 0.9486\n",
      "\n"
     ]
    },
    {
     "name": "stdout",
     "output_type": "stream",
     "text": [
      "Epoch 60, Loss 0.0552\n",
      "Training Accuracy: 0.9448, Testing Accuracy: 0.9526\n",
      "\n"
     ]
    },
    {
     "name": "stdout",
     "output_type": "stream",
     "text": [
      "Epoch 70, Loss 0.0524\n",
      "Training Accuracy: 0.9474, Testing Accuracy: 0.9536\n",
      "\n"
     ]
    },
    {
     "name": "stdout",
     "output_type": "stream",
     "text": [
      "Epoch 80, Loss 0.0502\n",
      "Training Accuracy: 0.9489, Testing Accuracy: 0.9546\n",
      "\n"
     ]
    },
    {
     "name": "stdout",
     "output_type": "stream",
     "text": [
      "Epoch 90, Loss 0.0484\n",
      "Training Accuracy: 0.9506, Testing Accuracy: 0.9572\n",
      "\n"
     ]
    },
    {
     "name": "stdout",
     "output_type": "stream",
     "text": [
      "Epoch 100, Loss 0.0468\n",
      "Training Accuracy: 0.9517, Testing Accuracy: 0.9592\n",
      "\n"
     ]
    },
    {
     "name": "stdout",
     "output_type": "stream",
     "text": [
      "Epoch 110, Loss 0.0455\n",
      "Training Accuracy: 0.9529, Testing Accuracy: 0.9602\n",
      "\n"
     ]
    },
    {
     "name": "stdout",
     "output_type": "stream",
     "text": [
      "Epoch 120, Loss 0.0444\n",
      "Training Accuracy: 0.9538, Testing Accuracy: 0.9617\n",
      "\n"
     ]
    },
    {
     "name": "stdout",
     "output_type": "stream",
     "text": [
      "Epoch 130, Loss 0.0434\n",
      "Training Accuracy: 0.9549, Testing Accuracy: 0.9637\n",
      "\n"
     ]
    },
    {
     "name": "stdout",
     "output_type": "stream",
     "text": [
      "Epoch 140, Loss 0.0425\n",
      "Training Accuracy: 0.9558, Testing Accuracy: 0.9632\n",
      "\n"
     ]
    },
    {
     "name": "stdout",
     "output_type": "stream",
     "text": [
      "Epoch 150, Loss 0.0418\n",
      "Training Accuracy: 0.9565, Testing Accuracy: 0.9652\n",
      "\n"
     ]
    },
    {
     "name": "stdout",
     "output_type": "stream",
     "text": [
      "Epoch 160, Loss 0.041\n",
      "Training Accuracy: 0.9573, Testing Accuracy: 0.9652\n",
      "\n"
     ]
    },
    {
     "name": "stdout",
     "output_type": "stream",
     "text": [
      "Epoch 170, Loss 0.0404\n",
      "Training Accuracy: 0.9575, Testing Accuracy: 0.9652\n",
      "\n"
     ]
    },
    {
     "name": "stdout",
     "output_type": "stream",
     "text": [
      "Epoch 180, Loss 0.0398\n",
      "Training Accuracy: 0.9582, Testing Accuracy: 0.9652\n",
      "\n"
     ]
    },
    {
     "name": "stdout",
     "output_type": "stream",
     "text": [
      "Epoch 190, Loss 0.0393\n",
      "Training Accuracy: 0.9589, Testing Accuracy: 0.9647\n",
      "\n"
     ]
    },
    {
     "name": "stdout",
     "output_type": "stream",
     "text": [
      "Epoch 200, Loss 0.0388\n",
      "Training Accuracy: 0.9592, Testing Accuracy: 0.9657\n",
      "\n"
     ]
    },
    {
     "name": "stdout",
     "output_type": "stream",
     "text": [
      "Epoch 210, Loss 0.0383\n",
      "Training Accuracy: 0.9596, Testing Accuracy: 0.9662\n",
      "\n"
     ]
    },
    {
     "name": "stdout",
     "output_type": "stream",
     "text": [
      "Epoch 220, Loss 0.0379\n",
      "Training Accuracy: 0.9601, Testing Accuracy: 0.9667\n",
      "\n"
     ]
    },
    {
     "name": "stdout",
     "output_type": "stream",
     "text": [
      "Epoch 230, Loss 0.0375\n",
      "Training Accuracy: 0.9604, Testing Accuracy: 0.9667\n",
      "\n"
     ]
    },
    {
     "name": "stdout",
     "output_type": "stream",
     "text": [
      "Epoch 240, Loss 0.0371\n",
      "Training Accuracy: 0.9609, Testing Accuracy: 0.9667\n",
      "\n"
     ]
    },
    {
     "data": {
      "text/plain": [
       "0.03617720601502189"
      ]
     },
     "execution_count": 23,
     "metadata": {},
     "output_type": "execute_result"
    }
   ],
   "source": [
    "lr_learner.train_loop(dl)"
   ]
  },
  {
   "cell_type": "code",
   "execution_count": 24,
   "id": "ca410940",
   "metadata": {
    "execution": {
     "iopub.execute_input": "2022-07-05T00:44:47.606927Z",
     "iopub.status.busy": "2022-07-05T00:44:47.606124Z",
     "iopub.status.idle": "2022-07-05T00:44:47.900997Z",
     "shell.execute_reply": "2022-07-05T00:44:47.901638Z"
    },
    "papermill": {
     "duration": 0.35273,
     "end_time": "2022-07-05T00:44:47.901800",
     "exception": false,
     "start_time": "2022-07-05T00:44:47.549070",
     "status": "completed"
    },
    "tags": []
   },
   "outputs": [
    {
     "data": {
      "text/plain": [
       "<matplotlib.legend.Legend at 0x7fa939852ac8>"
      ]
     },
     "execution_count": 24,
     "metadata": {},
     "output_type": "execute_result"
    },
    {
     "data": {
      "image/png": "[encoded data removed]",
      "text/plain": [
       "<Figure size 1080x720 with 1 Axes>"
      ]
     },
     "metadata": {
      "needs_background": "light"
     },
     "output_type": "display_data"
    }
   ],
   "source": [
    "#comparing the results of NN and LR\n",
    "plt.figure(figsize=(15,10))\n",
    "\n",
    "# Neural Network plots\n",
    "plt.plot(acc_nn.accuracies, 'r-', label = \"Training Accuracies - NN\")\n",
    "plt.plot(acc_nn.test_accuracies, 'g-', label = \"Testing Accuracies - NN\")\n",
    "\n",
    "# Logistic Regression plots\n",
    "plt.plot(acc_lr.accuracies, 'k-', label = \"Training Accuracies - LR\")\n",
    "plt.plot(acc_lr.test_accuracies, 'b-', label = \"Testing Accuracies - LR\")\n",
    "plt.legend()"
   ]
  },
  {
   "cell_type": "markdown",
   "id": "80dfb35c",
   "metadata": {
    "papermill": {
     "duration": 0.052723,
     "end_time": "2022-07-05T00:44:48.008171",
     "exception": false,
     "start_time": "2022-07-05T00:44:47.955448",
     "status": "completed"
    },
    "tags": []
   },
   "source": [
    "#### Plotting the outputs of this layer of the NN.\n"
   ]
  },
  {
   "cell_type": "code",
   "execution_count": 25,
   "id": "45eb2ff5",
   "metadata": {
    "execution": {
     "iopub.execute_input": "2022-07-05T00:44:48.122828Z",
     "iopub.status.busy": "2022-07-05T00:44:48.121544Z",
     "iopub.status.idle": "2022-07-05T00:44:48.158812Z",
     "shell.execute_reply": "2022-07-05T00:44:48.158048Z"
    },
    "papermill": {
     "duration": 0.097159,
     "end_time": "2022-07-05T00:44:48.158993",
     "exception": false,
     "start_time": "2022-07-05T00:44:48.061834",
     "status": "completed"
    },
    "tags": []
   },
   "outputs": [],
   "source": [
    "new_model = Model(layers[:-2])\n",
    "testing_plot = new_model(testing_data_x)"
   ]
  },
  {
   "cell_type": "code",
   "execution_count": 26,
   "id": "4c0a5485",
   "metadata": {
    "execution": {
     "iopub.execute_input": "2022-07-05T00:44:48.285846Z",
     "iopub.status.busy": "2022-07-05T00:44:48.283681Z",
     "iopub.status.idle": "2022-07-05T00:44:48.534089Z",
     "shell.execute_reply": "2022-07-05T00:44:48.533548Z"
    },
    "papermill": {
     "duration": 0.313581,
     "end_time": "2022-07-05T00:44:48.534238",
     "exception": false,
     "start_time": "2022-07-05T00:44:48.220657",
     "status": "completed"
    },
    "tags": []
   },
   "outputs": [
    {
     "data": {
      "text/plain": [
       "Text(0.5, 1.0, 'Outputs')"
      ]
     },
     "execution_count": 26,
     "metadata": {},
     "output_type": "execute_result"
    },
    {
     "data": {
      "image/png": "[encoded data removed]",
      "text/plain": [
       "<Figure size 576x504 with 1 Axes>"
      ]
     },
     "metadata": {
      "needs_background": "light"
     },
     "output_type": "display_data"
    }
   ],
   "source": [
    "# Plotting the scatter plot of points and color coding by class\n",
    "plt.figure(figsize=(8,7))\n",
    "plt.scatter(testing_plot[:,0], testing_plot[:,1], alpha = 0.1, c = y_test.ravel());\n",
    "plt.title('Outputs')"
   ]
  },
  {
   "cell_type": "markdown",
   "id": "a74fcf8f",
   "metadata": {
    "papermill": {
     "duration": 0.089851,
     "end_time": "2022-07-05T00:44:48.682047",
     "exception": false,
     "start_time": "2022-07-05T00:44:48.592196",
     "status": "completed"
    },
    "tags": []
   },
   "source": [
    "Probability contours"
   ]
  },
  {
   "cell_type": "code",
   "execution_count": 27,
   "id": "d0afc8e3",
   "metadata": {
    "execution": {
     "iopub.execute_input": "2022-07-05T00:44:48.796393Z",
     "iopub.status.busy": "2022-07-05T00:44:48.795762Z",
     "iopub.status.idle": "2022-07-05T00:44:48.808012Z",
     "shell.execute_reply": "2022-07-05T00:44:48.808650Z"
    },
    "papermill": {
     "duration": 0.073567,
     "end_time": "2022-07-05T00:44:48.808773",
     "exception": false,
     "start_time": "2022-07-05T00:44:48.735206",
     "status": "completed"
    },
    "tags": []
   },
   "outputs": [],
   "source": [
    "model_prob = Model(layers[-2:]) "
   ]
  },
  {
   "cell_type": "code",
   "execution_count": 28,
   "id": "9b96e238",
   "metadata": {
    "execution": {
     "iopub.execute_input": "2022-07-05T00:44:48.915258Z",
     "iopub.status.busy": "2022-07-05T00:44:48.914643Z",
     "iopub.status.idle": "2022-07-05T00:44:48.929512Z",
     "shell.execute_reply": "2022-07-05T00:44:48.930130Z"
    },
    "papermill": {
     "duration": 0.071407,
     "end_time": "2022-07-05T00:44:48.930335",
     "exception": false,
     "start_time": "2022-07-05T00:44:48.858928",
     "status": "completed"
    },
    "tags": []
   },
   "outputs": [],
   "source": [
    "#creating the x and y ranges according to the above generated plot.\n",
    "x_range = np.linspace(-4, 1, 100) \n",
    "y_range = np.linspace(-6, 6, 100) \n",
    "x_grid, y_grid = np.meshgrid(x_range, y_range) # x_grid and y_grig are of size 100 X 100\n",
    "\n",
    "# converting x_grid and y_grid to continuous arrays\n",
    "x_gridflat = np.ravel(x_grid)\n",
    "y_gridflat = np.ravel(y_grid)\n",
    "\n",
    "# The last layer of the current model takes two columns as input. Hence transpose of np.vstack() is required.\n",
    "X = np.vstack((x_gridflat, y_gridflat)).T\n",
    "\n",
    "prob_contour = model_prob(X).reshape(100,100) "
   ]
  },
  {
   "cell_type": "code",
   "execution_count": 29,
   "id": "da72499a",
   "metadata": {
    "execution": {
     "iopub.execute_input": "2022-07-05T00:44:49.048432Z",
     "iopub.status.busy": "2022-07-05T00:44:49.047098Z",
     "iopub.status.idle": "2022-07-05T00:44:49.383721Z",
     "shell.execute_reply": "2022-07-05T00:44:49.383173Z"
    },
    "papermill": {
     "duration": 0.39516,
     "end_time": "2022-07-05T00:44:49.383848",
     "exception": false,
     "start_time": "2022-07-05T00:44:48.988688",
     "status": "completed"
    },
    "tags": []
   },
   "outputs": [
    {
     "data": {
      "image/png": "[encoded data removed]",
      "text/plain": [
       "<Figure size 720x648 with 1 Axes>"
      ]
     },
     "metadata": {
      "needs_background": "light"
     },
     "output_type": "display_data"
    }
   ],
   "source": [
    "plt.figure(figsize=(10,9))\n",
    "plt.scatter(testing_plot[:,0], testing_plot[:,1], alpha = 0.1, c = y_test.ravel())\n",
    "contours = plt.contour(x_grid,y_grid,prob_contour)\n",
    "plt.title('Probability Contours')\n",
    "plt.clabel(contours, inline = True );"
   ]
  },
  {
   "cell_type": "code",
   "execution_count": null,
   "id": "e81b4ac7",
   "metadata": {
    "papermill": {
     "duration": 0.056856,
     "end_time": "2022-07-05T00:44:49.494930",
     "exception": false,
     "start_time": "2022-07-05T00:44:49.438074",
     "status": "completed"
    },
    "tags": []
   },
   "outputs": [],
   "source": []
  }
 ],
 "metadata": {
  "kernelspec": {
   "display_name": "Python 3",
   "language": "python",
   "name": "python3"
  },
  "language_info": {
   "codemirror_mode": {
    "name": "ipython",
    "version": 3
   },
   "file_extension": ".py",
   "mimetype": "text/x-python",
   "name": "python",
   "nbconvert_exporter": "python",
   "pygments_lexer": "ipython3",
   "version": "3.6.15"
  },
  "papermill": {
   "default_parameters": {},
   "duration": 175.235923,
   "end_time": "2022-07-05T00:44:49.969470",
   "environment_variables": {},
   "exception": null,
   "input_path": "2020-08-11-part2.ipynb",
   "output_path": "2020-08-11-part2.ipynb",
   "parameters": {},
   "start_time": "2022-07-05T00:41:54.733547",
   "version": "2.3.3"
  }
 },
 "nbformat": 4,
 "nbformat_minor": 5
}