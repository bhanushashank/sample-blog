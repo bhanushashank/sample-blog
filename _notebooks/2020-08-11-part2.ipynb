{
 "cells": [
  {
   "cell_type": "markdown",
   "id": "98380cd3",
   "metadata": {
    "papermill": {
     "duration": 0.040323,
     "end_time": "2022-03-25T10:10:42.191759",
     "exception": false,
     "start_time": "2022-03-25T10:10:42.151436",
     "status": "completed"
    },
    "tags": []
   },
   "source": [
    "# Distinguish Your Own Digits (DYOD)"
   ]
  },
  {
   "cell_type": "markdown",
   "id": "ef31240d",
   "metadata": {
    "papermill": {
     "duration": 0.026166,
     "end_time": "2022-03-25T10:10:42.244201",
     "exception": false,
     "start_time": "2022-03-25T10:10:42.218035",
     "status": "completed"
    },
    "tags": []
   },
   "source": [
    "You are going to write a classifier that distinguishes between the number 3 and number 8."
   ]
  },
  {
   "cell_type": "code",
   "execution_count": 1,
   "id": "b15c8646",
   "metadata": {
    "execution": {
     "iopub.execute_input": "2022-03-25T10:10:42.304083Z",
     "iopub.status.busy": "2022-03-25T10:10:42.303492Z",
     "iopub.status.idle": "2022-03-25T10:10:42.314166Z",
     "shell.execute_reply": "2022-03-25T10:10:42.313643Z"
    },
    "papermill": {
     "duration": 0.045842,
     "end_time": "2022-03-25T10:10:42.314325",
     "exception": false,
     "start_time": "2022-03-25T10:10:42.268483",
     "status": "completed"
    },
    "tags": []
   },
   "outputs": [],
   "source": [
    "%load_ext autoreload\n",
    "%autoreload 2"
   ]
  },
  {
   "cell_type": "code",
   "execution_count": 2,
   "id": "22ef38dc",
   "metadata": {
    "execution": {
     "iopub.execute_input": "2022-03-25T10:10:42.375033Z",
     "iopub.status.busy": "2022-03-25T10:10:42.374257Z",
     "iopub.status.idle": "2022-03-25T10:10:43.018389Z",
     "shell.execute_reply": "2022-03-25T10:10:43.017403Z"
    },
    "papermill": {
     "duration": 0.679652,
     "end_time": "2022-03-25T10:10:43.018550",
     "exception": false,
     "start_time": "2022-03-25T10:10:42.338898",
     "status": "completed"
    },
    "tags": []
   },
   "outputs": [],
   "source": [
    "%matplotlib inline\n",
    "import numpy as np\n",
    "import matplotlib.pyplot as plt\n",
    "import pandas as pd"
   ]
  },
  {
   "cell_type": "markdown",
   "id": "ba036198",
   "metadata": {
    "papermill": {
     "duration": 0.024485,
     "end_time": "2022-03-25T10:10:43.067555",
     "exception": false,
     "start_time": "2022-03-25T10:10:43.043070",
     "status": "completed"
    },
    "tags": []
   },
   "source": [
    "From the command line run `pip install mnist`. This is a library that will help you bring down the mnist dataset. If you run this from a notebook, you need to put  `!pip install mnist` in a cell by itself."
   ]
  },
  {
   "cell_type": "code",
   "execution_count": 3,
   "id": "bb6ad8a1",
   "metadata": {
    "execution": {
     "iopub.execute_input": "2022-03-25T10:10:43.121615Z",
     "iopub.status.busy": "2022-03-25T10:10:43.121008Z",
     "iopub.status.idle": "2022-03-25T10:10:45.808496Z",
     "shell.execute_reply": "2022-03-25T10:10:45.808963Z"
    },
    "papermill": {
     "duration": 2.716963,
     "end_time": "2022-03-25T10:10:45.809121",
     "exception": false,
     "start_time": "2022-03-25T10:10:43.092158",
     "status": "completed"
    },
    "tags": []
   },
   "outputs": [
    {
     "name": "stdout",
     "output_type": "stream",
     "text": [
      "Collecting mnist\r\n"
     ]
    },
    {
     "name": "stdout",
     "output_type": "stream",
     "text": [
      "  Downloading mnist-0.2.2-py2.py3-none-any.whl (3.5 kB)\r\n"
     ]
    },
    {
     "name": "stdout",
     "output_type": "stream",
     "text": [
      "Requirement already satisfied: numpy in /opt/hostedtoolcache/Python/3.6.15/x64/lib/python3.6/site-packages (from mnist) (1.19.5)\r\n"
     ]
    },
    {
     "name": "stdout",
     "output_type": "stream",
     "text": [
      "Installing collected packages: mnist\r\n"
     ]
    },
    {
     "name": "stdout",
     "output_type": "stream",
     "text": [
      "Successfully installed mnist-0.2.2\r\n"
     ]
    }
   ],
   "source": [
    "!pip install mnist"
   ]
  },
  {
   "cell_type": "markdown",
   "id": "69df9c9a",
   "metadata": {
    "papermill": {
     "duration": 0.025741,
     "end_time": "2022-03-25T10:10:45.860909",
     "exception": false,
     "start_time": "2022-03-25T10:10:45.835168",
     "status": "completed"
    },
    "tags": []
   },
   "source": [
    "## Preparing the Data"
   ]
  },
  {
   "cell_type": "code",
   "execution_count": 4,
   "id": "7f69d806",
   "metadata": {
    "execution": {
     "iopub.execute_input": "2022-03-25T10:10:45.926726Z",
     "iopub.status.busy": "2022-03-25T10:10:45.923484Z",
     "iopub.status.idle": "2022-03-25T10:10:45.933426Z",
     "shell.execute_reply": "2022-03-25T10:10:45.933866Z"
    },
    "papermill": {
     "duration": 0.047507,
     "end_time": "2022-03-25T10:10:45.934016",
     "exception": false,
     "start_time": "2022-03-25T10:10:45.886509",
     "status": "completed"
    },
    "tags": []
   },
   "outputs": [],
   "source": [
    "import mnist"
   ]
  },
  {
   "cell_type": "code",
   "execution_count": 5,
   "id": "a411e44f",
   "metadata": {
    "execution": {
     "iopub.execute_input": "2022-03-25T10:10:45.989667Z",
     "iopub.status.busy": "2022-03-25T10:10:45.989144Z",
     "iopub.status.idle": "2022-03-25T10:10:46.647163Z",
     "shell.execute_reply": "2022-03-25T10:10:46.646623Z"
    },
    "papermill": {
     "duration": 0.687437,
     "end_time": "2022-03-25T10:10:46.647306",
     "exception": false,
     "start_time": "2022-03-25T10:10:45.959869",
     "status": "completed"
    },
    "tags": []
   },
   "outputs": [],
   "source": [
    "train_images = mnist.train_images()\n",
    "train_labels = mnist.train_labels()"
   ]
  },
  {
   "cell_type": "code",
   "execution_count": 6,
   "id": "dceab3a5",
   "metadata": {
    "execution": {
     "iopub.execute_input": "2022-03-25T10:10:46.704408Z",
     "iopub.status.busy": "2022-03-25T10:10:46.703830Z",
     "iopub.status.idle": "2022-03-25T10:10:46.727279Z",
     "shell.execute_reply": "2022-03-25T10:10:46.726797Z"
    },
    "papermill": {
     "duration": 0.053966,
     "end_time": "2022-03-25T10:10:46.727416",
     "exception": false,
     "start_time": "2022-03-25T10:10:46.673450",
     "status": "completed"
    },
    "tags": []
   },
   "outputs": [
    {
     "data": {
      "text/plain": [
       "((60000, 28, 28), (60000,))"
      ]
     },
     "execution_count": 6,
     "metadata": {},
     "output_type": "execute_result"
    }
   ],
   "source": [
    "train_images.shape, train_labels.shape"
   ]
  },
  {
   "cell_type": "code",
   "execution_count": 7,
   "id": "f50dc2bb",
   "metadata": {
    "execution": {
     "iopub.execute_input": "2022-03-25T10:10:46.784249Z",
     "iopub.status.busy": "2022-03-25T10:10:46.783684Z",
     "iopub.status.idle": "2022-03-25T10:10:47.037172Z",
     "shell.execute_reply": "2022-03-25T10:10:47.036667Z"
    },
    "papermill": {
     "duration": 0.28369,
     "end_time": "2022-03-25T10:10:47.037311",
     "exception": false,
     "start_time": "2022-03-25T10:10:46.753621",
     "status": "completed"
    },
    "tags": []
   },
   "outputs": [],
   "source": [
    "test_images = mnist.test_images()\n",
    "test_labels = mnist.test_labels()"
   ]
  },
  {
   "cell_type": "code",
   "execution_count": 8,
   "id": "fc38cf1b",
   "metadata": {
    "execution": {
     "iopub.execute_input": "2022-03-25T10:10:47.094702Z",
     "iopub.status.busy": "2022-03-25T10:10:47.094115Z",
     "iopub.status.idle": "2022-03-25T10:10:47.113106Z",
     "shell.execute_reply": "2022-03-25T10:10:47.112658Z"
    },
    "papermill": {
     "duration": 0.049397,
     "end_time": "2022-03-25T10:10:47.113238",
     "exception": false,
     "start_time": "2022-03-25T10:10:47.063841",
     "status": "completed"
    },
    "tags": []
   },
   "outputs": [
    {
     "data": {
      "text/plain": [
       "((10000, 28, 28), (10000,))"
      ]
     },
     "execution_count": 8,
     "metadata": {},
     "output_type": "execute_result"
    }
   ],
   "source": [
    "test_images.shape, test_labels.shape"
   ]
  },
  {
   "cell_type": "code",
   "execution_count": 9,
   "id": "f9ed8fe0",
   "metadata": {
    "execution": {
     "iopub.execute_input": "2022-03-25T10:10:47.170927Z",
     "iopub.status.busy": "2022-03-25T10:10:47.170364Z",
     "iopub.status.idle": "2022-03-25T10:10:47.359604Z",
     "shell.execute_reply": "2022-03-25T10:10:47.359018Z"
    },
    "papermill": {
     "duration": 0.220018,
     "end_time": "2022-03-25T10:10:47.359755",
     "exception": false,
     "start_time": "2022-03-25T10:10:47.139737",
     "status": "completed"
    },
    "tags": []
   },
   "outputs": [
    {
     "name": "stdout",
     "output_type": "stream",
     "text": [
      "2\n"
     ]
    },
    {
     "data": {
      "text/plain": [
       "<matplotlib.image.AxesImage at 0x7f23d1ba35c0>"
      ]
     },
     "execution_count": 9,
     "metadata": {},
     "output_type": "execute_result"
    },
    {
     "data": {
      "image/png": "[encoded data removed]",
      "text/plain": [
       "<Figure size 432x288 with 1 Axes>"
      ]
     },
     "metadata": {
      "needs_background": "light"
     },
     "output_type": "display_data"
    }
   ],
   "source": [
    "image_index = 7776 # You may select anything up to 60,000\n",
    "print(train_labels[image_index]) \n",
    "plt.imshow(train_images[image_index], cmap='Greys')"
   ]
  },
  {
   "cell_type": "markdown",
   "id": "a8d2388d",
   "metadata": {
    "papermill": {
     "duration": 0.03129,
     "end_time": "2022-03-25T10:10:47.421857",
     "exception": false,
     "start_time": "2022-03-25T10:10:47.390567",
     "status": "completed"
    },
    "tags": []
   },
   "source": [
    "## Filter data to get 3 and 8 out"
   ]
  },
  {
   "cell_type": "code",
   "execution_count": 10,
   "id": "776f7fc7",
   "metadata": {
    "execution": {
     "iopub.execute_input": "2022-03-25T10:10:47.484257Z",
     "iopub.status.busy": "2022-03-25T10:10:47.483644Z",
     "iopub.status.idle": "2022-03-25T10:10:47.503140Z",
     "shell.execute_reply": "2022-03-25T10:10:47.503627Z"
    },
    "papermill": {
     "duration": 0.054375,
     "end_time": "2022-03-25T10:10:47.503804",
     "exception": false,
     "start_time": "2022-03-25T10:10:47.449429",
     "status": "completed"
    },
    "tags": []
   },
   "outputs": [],
   "source": [
    "train_filter = np.where((train_labels == 3 ) | (train_labels == 8))\n",
    "test_filter = np.where((test_labels == 3) | (test_labels == 8))\n",
    "X_train, y_train = train_images[train_filter], train_labels[train_filter]\n",
    "X_test, y_test = test_images[test_filter], test_labels[test_filter]"
   ]
  },
  {
   "cell_type": "markdown",
   "id": "948f0b7e",
   "metadata": {
    "papermill": {
     "duration": 0.027469,
     "end_time": "2022-03-25T10:10:47.559528",
     "exception": false,
     "start_time": "2022-03-25T10:10:47.532059",
     "status": "completed"
    },
    "tags": []
   },
   "source": [
    "We normalize the pizel values in the 0 to 1 range"
   ]
  },
  {
   "cell_type": "code",
   "execution_count": 11,
   "id": "ee4c2166",
   "metadata": {
    "execution": {
     "iopub.execute_input": "2022-03-25T10:10:47.629343Z",
     "iopub.status.busy": "2022-03-25T10:10:47.621893Z",
     "iopub.status.idle": "2022-03-25T10:10:47.671402Z",
     "shell.execute_reply": "2022-03-25T10:10:47.670647Z"
    },
    "papermill": {
     "duration": 0.084981,
     "end_time": "2022-03-25T10:10:47.671886",
     "exception": false,
     "start_time": "2022-03-25T10:10:47.586905",
     "status": "completed"
    },
    "tags": []
   },
   "outputs": [],
   "source": [
    "X_train = X_train/255.\n",
    "X_test = X_test/255."
   ]
  },
  {
   "cell_type": "markdown",
   "id": "ddcf4fab",
   "metadata": {
    "papermill": {
     "duration": 0.027262,
     "end_time": "2022-03-25T10:10:47.728272",
     "exception": false,
     "start_time": "2022-03-25T10:10:47.701010",
     "status": "completed"
    },
    "tags": []
   },
   "source": [
    "And setup the labels as 1 (when the digit is 3) and 0 (when the digit is 8)"
   ]
  },
  {
   "cell_type": "code",
   "execution_count": 12,
   "id": "7dc908f2",
   "metadata": {
    "execution": {
     "iopub.execute_input": "2022-03-25T10:10:47.788726Z",
     "iopub.status.busy": "2022-03-25T10:10:47.788152Z",
     "iopub.status.idle": "2022-03-25T10:10:47.801037Z",
     "shell.execute_reply": "2022-03-25T10:10:47.800553Z"
    },
    "papermill": {
     "duration": 0.045503,
     "end_time": "2022-03-25T10:10:47.801166",
     "exception": false,
     "start_time": "2022-03-25T10:10:47.755663",
     "status": "completed"
    },
    "tags": []
   },
   "outputs": [],
   "source": [
    "y_train = 1*(y_train==3)\n",
    "y_test = 1*(y_test==3)"
   ]
  },
  {
   "cell_type": "code",
   "execution_count": 13,
   "id": "01e4e969",
   "metadata": {
    "execution": {
     "iopub.execute_input": "2022-03-25T10:10:47.866374Z",
     "iopub.status.busy": "2022-03-25T10:10:47.865691Z",
     "iopub.status.idle": "2022-03-25T10:10:47.877377Z",
     "shell.execute_reply": "2022-03-25T10:10:47.876918Z"
    },
    "papermill": {
     "duration": 0.048666,
     "end_time": "2022-03-25T10:10:47.877510",
     "exception": false,
     "start_time": "2022-03-25T10:10:47.828844",
     "status": "completed"
    },
    "tags": []
   },
   "outputs": [
    {
     "data": {
      "text/plain": [
       "((11982, 28, 28), (1984, 28, 28))"
      ]
     },
     "execution_count": 13,
     "metadata": {},
     "output_type": "execute_result"
    }
   ],
   "source": [
    "X_train.shape, X_test.shape"
   ]
  },
  {
   "cell_type": "markdown",
   "id": "5ccf3f85",
   "metadata": {
    "papermill": {
     "duration": 0.027513,
     "end_time": "2022-03-25T10:10:47.932746",
     "exception": false,
     "start_time": "2022-03-25T10:10:47.905233",
     "status": "completed"
    },
    "tags": []
   },
   "source": [
    "We reshape the data to flatten the image pixels into a set of features or co-variates:"
   ]
  },
  {
   "cell_type": "code",
   "execution_count": 14,
   "id": "5286a4a3",
   "metadata": {
    "execution": {
     "iopub.execute_input": "2022-03-25T10:10:47.992971Z",
     "iopub.status.busy": "2022-03-25T10:10:47.992427Z",
     "iopub.status.idle": "2022-03-25T10:10:48.018638Z",
     "shell.execute_reply": "2022-03-25T10:10:48.018126Z"
    },
    "papermill": {
     "duration": 0.058302,
     "end_time": "2022-03-25T10:10:48.018783",
     "exception": false,
     "start_time": "2022-03-25T10:10:47.960481",
     "status": "completed"
    },
    "tags": []
   },
   "outputs": [
    {
     "data": {
      "text/plain": [
       "((11982, 784), (1984, 784))"
      ]
     },
     "execution_count": 14,
     "metadata": {},
     "output_type": "execute_result"
    }
   ],
   "source": [
    "X_train = X_train.reshape(X_train.shape[0], -1)\n",
    "X_test = X_test.reshape(X_test.shape[0], -1)\n",
    "X_train.shape, X_test.shape"
   ]
  },
  {
   "cell_type": "code",
   "execution_count": 15,
   "id": "73c5f88a",
   "metadata": {
    "execution": {
     "iopub.execute_input": "2022-03-25T10:10:48.080025Z",
     "iopub.status.busy": "2022-03-25T10:10:48.079467Z",
     "iopub.status.idle": "2022-03-25T10:10:48.098424Z",
     "shell.execute_reply": "2022-03-25T10:10:48.097961Z"
    },
    "papermill": {
     "duration": 0.051724,
     "end_time": "2022-03-25T10:10:48.098552",
     "exception": false,
     "start_time": "2022-03-25T10:10:48.046828",
     "status": "completed"
    },
    "tags": []
   },
   "outputs": [],
   "source": [
    "#Impoting functions from 'Kudzu'\n",
    "from kudzu.model import Model\n",
    "from kudzu.train import Learner\n",
    "from kudzu.optim import GD\n",
    "from kudzu.data import Data, Sampler,Dataloader\n",
    "\n",
    "from kudzu.callbacks import AccCallback\n",
    "from kudzu.callbacks import ClfCallback\n",
    "\n",
    "from kudzu.loss import MSE\n",
    "\n",
    "from kudzu.layer import Sigmoid,Relu\n",
    "from kudzu.layer import Affine"
   ]
  },
  {
   "cell_type": "markdown",
   "id": "bc01172a",
   "metadata": {
    "papermill": {
     "duration": 0.027827,
     "end_time": "2022-03-25T10:10:48.154538",
     "exception": false,
     "start_time": "2022-03-25T10:10:48.126711",
     "status": "completed"
    },
    "tags": []
   },
   "source": [
    "### Let us create a `Config` class, to store important parameters. \n",
    "This class essentially plays the role of a dictionary."
   ]
  },
  {
   "cell_type": "code",
   "execution_count": 16,
   "id": "978281aa",
   "metadata": {
    "execution": {
     "iopub.execute_input": "2022-03-25T10:10:48.216270Z",
     "iopub.status.busy": "2022-03-25T10:10:48.215720Z",
     "iopub.status.idle": "2022-03-25T10:10:48.227647Z",
     "shell.execute_reply": "2022-03-25T10:10:48.227211Z"
    },
    "papermill": {
     "duration": 0.045394,
     "end_time": "2022-03-25T10:10:48.227773",
     "exception": false,
     "start_time": "2022-03-25T10:10:48.182379",
     "status": "completed"
    },
    "tags": []
   },
   "outputs": [],
   "source": [
    "class Config:\n",
    "    pass\n",
    "config = Config()\n",
    "config.lr = 0.001\n",
    "config.num_epochs = 250\n",
    "config.bs = 50"
   ]
  },
  {
   "cell_type": "markdown",
   "id": "1385fa59",
   "metadata": {
    "papermill": {
     "duration": 0.027843,
     "end_time": "2022-03-25T10:10:48.283807",
     "exception": false,
     "start_time": "2022-03-25T10:10:48.255964",
     "status": "completed"
    },
    "tags": []
   },
   "source": [
    "### Running Models with the Training data\n",
    "Details about the network layers:\n",
    "- A first affine layer has 784 inputs and does 100 affine transforms. These are followed by a Relu\n",
    "- A second affine layer has 100 inputs from the 100 activations of the past layer, and does 100 affine transforms. These are followed by a Relu\n",
    "- A third affine layer has 100 activations and does 2 affine transformations to create an embedding for visualization. There is no non-linearity here.\n",
    "- A final \"logistic regression\" which has an affine transform from 2 inputs to 1 output, which is squeezed through a sigmoid.\n"
   ]
  },
  {
   "cell_type": "code",
   "execution_count": 17,
   "id": "2b9c66db",
   "metadata": {
    "execution": {
     "iopub.execute_input": "2022-03-25T10:10:48.346011Z",
     "iopub.status.busy": "2022-03-25T10:10:48.345394Z",
     "iopub.status.idle": "2022-03-25T10:10:48.365909Z",
     "shell.execute_reply": "2022-03-25T10:10:48.365383Z"
    },
    "papermill": {
     "duration": 0.054196,
     "end_time": "2022-03-25T10:10:48.366049",
     "exception": false,
     "start_time": "2022-03-25T10:10:48.311853",
     "status": "completed"
    },
    "tags": []
   },
   "outputs": [],
   "source": [
    "data = Data(X_train, y_train.reshape(-1,1))\n",
    "sampler = Sampler(data, config.bs, shuffle=True)\n",
    "\n",
    "dl = Dataloader(data, sampler)\n",
    "\n",
    "opt = GD(config.lr)\n",
    "loss = MSE()"
   ]
  },
  {
   "cell_type": "code",
   "execution_count": 18,
   "id": "b275e4c2",
   "metadata": {
    "execution": {
     "iopub.execute_input": "2022-03-25T10:10:48.426477Z",
     "iopub.status.busy": "2022-03-25T10:10:48.425890Z",
     "iopub.status.idle": "2022-03-25T10:10:48.440916Z",
     "shell.execute_reply": "2022-03-25T10:10:48.440437Z"
    },
    "papermill": {
     "duration": 0.046686,
     "end_time": "2022-03-25T10:10:48.441051",
     "exception": false,
     "start_time": "2022-03-25T10:10:48.394365",
     "status": "completed"
    },
    "tags": []
   },
   "outputs": [],
   "source": [
    "training_data_x = X_train\n",
    "testing_data_x = X_test\n",
    "training_data_y = y_train.reshape(-1,1)\n",
    "testing_data_y = y_test.reshape(-1,1)"
   ]
  },
  {
   "cell_type": "code",
   "execution_count": 19,
   "id": "76951160",
   "metadata": {
    "execution": {
     "iopub.execute_input": "2022-03-25T10:10:48.502716Z",
     "iopub.status.busy": "2022-03-25T10:10:48.502125Z",
     "iopub.status.idle": "2022-03-25T10:10:48.519828Z",
     "shell.execute_reply": "2022-03-25T10:10:48.520291Z"
    },
    "papermill": {
     "duration": 0.051381,
     "end_time": "2022-03-25T10:10:48.520443",
     "exception": false,
     "start_time": "2022-03-25T10:10:48.469062",
     "status": "completed"
    },
    "tags": []
   },
   "outputs": [
    {
     "name": "stdout",
     "output_type": "stream",
     "text": [
      "xavier\n",
      "xavier\n",
      "xavier\n",
      "xavier\n",
      "xavier\n"
     ]
    }
   ],
   "source": [
    "layers = [Affine(\"first\", 784, 100), Relu(\"first\"), Affine(\"second\", 100, 100), Relu(\"second\"), Affine(\"third\", 100, 2), Affine(\"last\", 2, 1), Sigmoid(\"last\")]\n",
    "model_nn = Model(layers)\n",
    "model_lr = Model([Affine(\"logits\", 784, 1), Sigmoid(\"sigmoid\")])"
   ]
  },
  {
   "cell_type": "code",
   "execution_count": 20,
   "id": "6eede77a",
   "metadata": {
    "execution": {
     "iopub.execute_input": "2022-03-25T10:10:48.585343Z",
     "iopub.status.busy": "2022-03-25T10:10:48.584729Z",
     "iopub.status.idle": "2022-03-25T10:10:48.599017Z",
     "shell.execute_reply": "2022-03-25T10:10:48.598528Z"
    },
    "papermill": {
     "duration": 0.050164,
     "end_time": "2022-03-25T10:10:48.599153",
     "exception": false,
     "start_time": "2022-03-25T10:10:48.548989",
     "status": "completed"
    },
    "tags": []
   },
   "outputs": [],
   "source": [
    "nn_learner = Learner(loss, model_nn, opt, config.num_epochs)\n",
    "acc_nn = ClfCallback(nn_learner, config.bs, training_data_x , testing_data_x, training_data_y, testing_data_y)\n",
    "nn_learner.set_callbacks([acc_nn])"
   ]
  },
  {
   "cell_type": "code",
   "execution_count": 21,
   "id": "877b6cc7",
   "metadata": {
    "execution": {
     "iopub.execute_input": "2022-03-25T10:10:48.660311Z",
     "iopub.status.busy": "2022-03-25T10:10:48.659759Z",
     "iopub.status.idle": "2022-03-25T10:10:48.672899Z",
     "shell.execute_reply": "2022-03-25T10:10:48.672448Z"
    },
    "papermill": {
     "duration": 0.045591,
     "end_time": "2022-03-25T10:10:48.673028",
     "exception": false,
     "start_time": "2022-03-25T10:10:48.627437",
     "status": "completed"
    },
    "tags": []
   },
   "outputs": [],
   "source": [
    "lr_learner = Learner(loss, model_lr, opt, config.num_epochs)\n",
    "acc_lr = ClfCallback(lr_learner, config.bs, training_data_x , testing_data_x, training_data_y, testing_data_y)\n",
    "lr_learner.set_callbacks([acc_lr])"
   ]
  },
  {
   "cell_type": "code",
   "execution_count": 22,
   "id": "d9b133c3",
   "metadata": {
    "execution": {
     "iopub.execute_input": "2022-03-25T10:10:48.734619Z",
     "iopub.status.busy": "2022-03-25T10:10:48.734055Z",
     "iopub.status.idle": "2022-03-25T10:12:18.835278Z",
     "shell.execute_reply": "2022-03-25T10:12:18.836032Z"
    },
    "papermill": {
     "duration": 90.134592,
     "end_time": "2022-03-25T10:12:18.836185",
     "exception": false,
     "start_time": "2022-03-25T10:10:48.701593",
     "status": "completed"
    },
    "tags": []
   },
   "outputs": [
    {
     "name": "stdout",
     "output_type": "stream",
     "text": [
      "Epoch 0, Loss 0.2445\n",
      "Training Accuracy: 0.6435, Testing Accuracy: 0.6512\n",
      "\n"
     ]
    },
    {
     "name": "stdout",
     "output_type": "stream",
     "text": [
      "Epoch 10, Loss 0.1866\n",
      "Training Accuracy: 0.8514, Testing Accuracy: 0.8710\n",
      "\n"
     ]
    },
    {
     "name": "stdout",
     "output_type": "stream",
     "text": [
      "Epoch 20, Loss 0.0967\n",
      "Training Accuracy: 0.9034, Testing Accuracy: 0.9163\n",
      "\n"
     ]
    },
    {
     "name": "stdout",
     "output_type": "stream",
     "text": [
      "Epoch 30, Loss 0.0631\n",
      "Training Accuracy: 0.9334, Testing Accuracy: 0.9420\n",
      "\n"
     ]
    },
    {
     "name": "stdout",
     "output_type": "stream",
     "text": [
      "Epoch 40, Loss 0.0487\n",
      "Training Accuracy: 0.9452, Testing Accuracy: 0.9546\n",
      "\n"
     ]
    },
    {
     "name": "stdout",
     "output_type": "stream",
     "text": [
      "Epoch 50, Loss 0.0413\n",
      "Training Accuracy: 0.9524, Testing Accuracy: 0.9627\n",
      "\n"
     ]
    },
    {
     "name": "stdout",
     "output_type": "stream",
     "text": [
      "Epoch 60, Loss 0.0368\n",
      "Training Accuracy: 0.9573, Testing Accuracy: 0.9672\n",
      "\n"
     ]
    },
    {
     "name": "stdout",
     "output_type": "stream",
     "text": [
      "Epoch 70, Loss 0.0338\n",
      "Training Accuracy: 0.9604, Testing Accuracy: 0.9698\n",
      "\n"
     ]
    },
    {
     "name": "stdout",
     "output_type": "stream",
     "text": [
      "Epoch 80, Loss 0.0315\n",
      "Training Accuracy: 0.9628, Testing Accuracy: 0.9713\n",
      "\n"
     ]
    },
    {
     "name": "stdout",
     "output_type": "stream",
     "text": [
      "Epoch 90, Loss 0.0298\n",
      "Training Accuracy: 0.9653, Testing Accuracy: 0.9728\n",
      "\n"
     ]
    },
    {
     "name": "stdout",
     "output_type": "stream",
     "text": [
      "Epoch 100, Loss 0.0284\n",
      "Training Accuracy: 0.9664, Testing Accuracy: 0.9748\n",
      "\n"
     ]
    },
    {
     "name": "stdout",
     "output_type": "stream",
     "text": [
      "Epoch 110, Loss 0.0272\n",
      "Training Accuracy: 0.9680, Testing Accuracy: 0.9758\n",
      "\n"
     ]
    },
    {
     "name": "stdout",
     "output_type": "stream",
     "text": [
      "Epoch 120, Loss 0.0261\n",
      "Training Accuracy: 0.9700, Testing Accuracy: 0.9753\n",
      "\n"
     ]
    },
    {
     "name": "stdout",
     "output_type": "stream",
     "text": [
      "Epoch 130, Loss 0.0252\n",
      "Training Accuracy: 0.9708, Testing Accuracy: 0.9753\n",
      "\n"
     ]
    },
    {
     "name": "stdout",
     "output_type": "stream",
     "text": [
      "Epoch 140, Loss 0.0244\n",
      "Training Accuracy: 0.9720, Testing Accuracy: 0.9748\n",
      "\n"
     ]
    },
    {
     "name": "stdout",
     "output_type": "stream",
     "text": [
      "Epoch 150, Loss 0.0237\n",
      "Training Accuracy: 0.9734, Testing Accuracy: 0.9733\n",
      "\n"
     ]
    },
    {
     "name": "stdout",
     "output_type": "stream",
     "text": [
      "Epoch 160, Loss 0.023\n",
      "Training Accuracy: 0.9745, Testing Accuracy: 0.9748\n",
      "\n"
     ]
    },
    {
     "name": "stdout",
     "output_type": "stream",
     "text": [
      "Epoch 170, Loss 0.0224\n",
      "Training Accuracy: 0.9752, Testing Accuracy: 0.9753\n",
      "\n"
     ]
    },
    {
     "name": "stdout",
     "output_type": "stream",
     "text": [
      "Epoch 180, Loss 0.0219\n",
      "Training Accuracy: 0.9758, Testing Accuracy: 0.9753\n",
      "\n"
     ]
    },
    {
     "name": "stdout",
     "output_type": "stream",
     "text": [
      "Epoch 190, Loss 0.0214\n",
      "Training Accuracy: 0.9764, Testing Accuracy: 0.9748\n",
      "\n"
     ]
    },
    {
     "name": "stdout",
     "output_type": "stream",
     "text": [
      "Epoch 200, Loss 0.0209\n",
      "Training Accuracy: 0.9768, Testing Accuracy: 0.9748\n",
      "\n"
     ]
    },
    {
     "name": "stdout",
     "output_type": "stream",
     "text": [
      "Epoch 210, Loss 0.0204\n",
      "Training Accuracy: 0.9770, Testing Accuracy: 0.9758\n",
      "\n"
     ]
    },
    {
     "name": "stdout",
     "output_type": "stream",
     "text": [
      "Epoch 220, Loss 0.02\n",
      "Training Accuracy: 0.9773, Testing Accuracy: 0.9763\n",
      "\n"
     ]
    },
    {
     "name": "stdout",
     "output_type": "stream",
     "text": [
      "Epoch 230, Loss 0.0196\n",
      "Training Accuracy: 0.9782, Testing Accuracy: 0.9768\n",
      "\n"
     ]
    },
    {
     "name": "stdout",
     "output_type": "stream",
     "text": [
      "Epoch 240, Loss 0.0193\n",
      "Training Accuracy: 0.9784, Testing Accuracy: 0.9773\n",
      "\n"
     ]
    },
    {
     "data": {
      "text/plain": [
       "0.021159955041768225"
      ]
     },
     "execution_count": 22,
     "metadata": {},
     "output_type": "execute_result"
    }
   ],
   "source": [
    "nn_learner.train_loop(dl)"
   ]
  },
  {
   "cell_type": "code",
   "execution_count": 23,
   "id": "e0163366",
   "metadata": {
    "execution": {
     "iopub.execute_input": "2022-03-25T10:12:18.915561Z",
     "iopub.status.busy": "2022-03-25T10:12:18.915034Z",
     "iopub.status.idle": "2022-03-25T10:12:34.824316Z",
     "shell.execute_reply": "2022-03-25T10:12:34.825081Z"
    },
    "papermill": {
     "duration": 15.953828,
     "end_time": "2022-03-25T10:12:34.825236",
     "exception": false,
     "start_time": "2022-03-25T10:12:18.871408",
     "status": "completed"
    },
    "tags": []
   },
   "outputs": [
    {
     "name": "stdout",
     "output_type": "stream",
     "text": [
      "Epoch 0, Loss 0.2102\n",
      "Training Accuracy: 0.7751, Testing Accuracy: 0.7853\n",
      "\n"
     ]
    },
    {
     "name": "stdout",
     "output_type": "stream",
     "text": [
      "Epoch 10, Loss 0.1002\n",
      "Training Accuracy: 0.9130, Testing Accuracy: 0.9234\n",
      "\n"
     ]
    },
    {
     "name": "stdout",
     "output_type": "stream",
     "text": [
      "Epoch 20, Loss 0.0776\n",
      "Training Accuracy: 0.9311, Testing Accuracy: 0.9451\n",
      "\n"
     ]
    },
    {
     "name": "stdout",
     "output_type": "stream",
     "text": [
      "Epoch 30, Loss 0.067\n",
      "Training Accuracy: 0.9368, Testing Accuracy: 0.9541\n",
      "\n"
     ]
    },
    {
     "name": "stdout",
     "output_type": "stream",
     "text": [
      "Epoch 40, Loss 0.0606\n",
      "Training Accuracy: 0.9425, Testing Accuracy: 0.9582\n",
      "\n"
     ]
    },
    {
     "name": "stdout",
     "output_type": "stream",
     "text": [
      "Epoch 50, Loss 0.0562\n",
      "Training Accuracy: 0.9454, Testing Accuracy: 0.9592\n",
      "\n"
     ]
    },
    {
     "name": "stdout",
     "output_type": "stream",
     "text": [
      "Epoch 60, Loss 0.053\n",
      "Training Accuracy: 0.9486, Testing Accuracy: 0.9602\n",
      "\n"
     ]
    },
    {
     "name": "stdout",
     "output_type": "stream",
     "text": [
      "Epoch 70, Loss 0.0506\n",
      "Training Accuracy: 0.9504, Testing Accuracy: 0.9617\n",
      "\n"
     ]
    },
    {
     "name": "stdout",
     "output_type": "stream",
     "text": [
      "Epoch 80, Loss 0.0486\n",
      "Training Accuracy: 0.9518, Testing Accuracy: 0.9622\n",
      "\n"
     ]
    },
    {
     "name": "stdout",
     "output_type": "stream",
     "text": [
      "Epoch 90, Loss 0.047\n",
      "Training Accuracy: 0.9532, Testing Accuracy: 0.9627\n",
      "\n"
     ]
    },
    {
     "name": "stdout",
     "output_type": "stream",
     "text": [
      "Epoch 100, Loss 0.0456\n",
      "Training Accuracy: 0.9538, Testing Accuracy: 0.9637\n",
      "\n"
     ]
    },
    {
     "name": "stdout",
     "output_type": "stream",
     "text": [
      "Epoch 110, Loss 0.0444\n",
      "Training Accuracy: 0.9542, Testing Accuracy: 0.9652\n",
      "\n"
     ]
    },
    {
     "name": "stdout",
     "output_type": "stream",
     "text": [
      "Epoch 120, Loss 0.0434\n",
      "Training Accuracy: 0.9545, Testing Accuracy: 0.9657\n",
      "\n"
     ]
    },
    {
     "name": "stdout",
     "output_type": "stream",
     "text": [
      "Epoch 130, Loss 0.0425\n",
      "Training Accuracy: 0.9554, Testing Accuracy: 0.9657\n",
      "\n"
     ]
    },
    {
     "name": "stdout",
     "output_type": "stream",
     "text": [
      "Epoch 140, Loss 0.0417\n",
      "Training Accuracy: 0.9559, Testing Accuracy: 0.9657\n",
      "\n"
     ]
    },
    {
     "name": "stdout",
     "output_type": "stream",
     "text": [
      "Epoch 150, Loss 0.041\n",
      "Training Accuracy: 0.9564, Testing Accuracy: 0.9662\n",
      "\n"
     ]
    },
    {
     "name": "stdout",
     "output_type": "stream",
     "text": [
      "Epoch 160, Loss 0.0403\n",
      "Training Accuracy: 0.9575, Testing Accuracy: 0.9672\n",
      "\n"
     ]
    },
    {
     "name": "stdout",
     "output_type": "stream",
     "text": [
      "Epoch 170, Loss 0.0398\n",
      "Training Accuracy: 0.9578, Testing Accuracy: 0.9677\n",
      "\n"
     ]
    },
    {
     "name": "stdout",
     "output_type": "stream",
     "text": [
      "Epoch 180, Loss 0.0392\n",
      "Training Accuracy: 0.9583, Testing Accuracy: 0.9682\n",
      "\n"
     ]
    },
    {
     "name": "stdout",
     "output_type": "stream",
     "text": [
      "Epoch 190, Loss 0.0387\n",
      "Training Accuracy: 0.9590, Testing Accuracy: 0.9682\n",
      "\n"
     ]
    },
    {
     "name": "stdout",
     "output_type": "stream",
     "text": [
      "Epoch 200, Loss 0.0383\n",
      "Training Accuracy: 0.9594, Testing Accuracy: 0.9682\n",
      "\n"
     ]
    },
    {
     "name": "stdout",
     "output_type": "stream",
     "text": [
      "Epoch 210, Loss 0.0378\n",
      "Training Accuracy: 0.9598, Testing Accuracy: 0.9677\n",
      "\n"
     ]
    },
    {
     "name": "stdout",
     "output_type": "stream",
     "text": [
      "Epoch 220, Loss 0.0374\n",
      "Training Accuracy: 0.9601, Testing Accuracy: 0.9682\n",
      "\n"
     ]
    },
    {
     "name": "stdout",
     "output_type": "stream",
     "text": [
      "Epoch 230, Loss 0.0371\n",
      "Training Accuracy: 0.9604, Testing Accuracy: 0.9682\n",
      "\n"
     ]
    },
    {
     "name": "stdout",
     "output_type": "stream",
     "text": [
      "Epoch 240, Loss 0.0367\n",
      "Training Accuracy: 0.9608, Testing Accuracy: 0.9682\n",
      "\n"
     ]
    },
    {
     "data": {
      "text/plain": [
       "0.04746396412907766"
      ]
     },
     "execution_count": 23,
     "metadata": {},
     "output_type": "execute_result"
    }
   ],
   "source": [
    "lr_learner.train_loop(dl)"
   ]
  },
  {
   "cell_type": "code",
   "execution_count": 24,
   "id": "ca410940",
   "metadata": {
    "execution": {
     "iopub.execute_input": "2022-03-25T10:12:34.919182Z",
     "iopub.status.busy": "2022-03-25T10:12:34.918615Z",
     "iopub.status.idle": "2022-03-25T10:12:35.151754Z",
     "shell.execute_reply": "2022-03-25T10:12:35.151281Z"
    },
    "papermill": {
     "duration": 0.284857,
     "end_time": "2022-03-25T10:12:35.151879",
     "exception": false,
     "start_time": "2022-03-25T10:12:34.867022",
     "status": "completed"
    },
    "tags": []
   },
   "outputs": [
    {
     "data": {
      "text/plain": [
       "<matplotlib.legend.Legend at 0x7f23d177dd30>"
      ]
     },
     "execution_count": 24,
     "metadata": {},
     "output_type": "execute_result"
    },
    {
     "data": {
      "image/png": "[encoded data removed]",
      "text/plain": [
       "<Figure size 1080x720 with 1 Axes>"
      ]
     },
     "metadata": {
      "needs_background": "light"
     },
     "output_type": "display_data"
    }
   ],
   "source": [
    "#comparing the results of NN and LR\n",
    "plt.figure(figsize=(15,10))\n",
    "\n",
    "# Neural Network plots\n",
    "plt.plot(acc_nn.accuracies, 'r-', label = \"Training Accuracies - NN\")\n",
    "plt.plot(acc_nn.test_accuracies, 'g-', label = \"Testing Accuracies - NN\")\n",
    "\n",
    "# Logistic Regression plots\n",
    "plt.plot(acc_lr.accuracies, 'k-', label = \"Training Accuracies - LR\")\n",
    "plt.plot(acc_lr.test_accuracies, 'b-', label = \"Testing Accuracies - LR\")\n",
    "plt.legend()"
   ]
  },
  {
   "cell_type": "markdown",
   "id": "80dfb35c",
   "metadata": {
    "papermill": {
     "duration": 0.043065,
     "end_time": "2022-03-25T10:12:35.238251",
     "exception": false,
     "start_time": "2022-03-25T10:12:35.195186",
     "status": "completed"
    },
    "tags": []
   },
   "source": [
    "#### Plotting the outputs of this layer of the NN.\n"
   ]
  },
  {
   "cell_type": "code",
   "execution_count": 25,
   "id": "45eb2ff5",
   "metadata": {
    "execution": {
     "iopub.execute_input": "2022-03-25T10:12:35.338399Z",
     "iopub.status.busy": "2022-03-25T10:12:35.337445Z",
     "iopub.status.idle": "2022-03-25T10:12:35.353144Z",
     "shell.execute_reply": "2022-03-25T10:12:35.353577Z"
    },
    "papermill": {
     "duration": 0.071972,
     "end_time": "2022-03-25T10:12:35.353743",
     "exception": false,
     "start_time": "2022-03-25T10:12:35.281771",
     "status": "completed"
    },
    "tags": []
   },
   "outputs": [],
   "source": [
    "new_model = Model(layers[:-2])\n",
    "testing_plot = new_model(testing_data_x)"
   ]
  },
  {
   "cell_type": "code",
   "execution_count": 26,
   "id": "4c0a5485",
   "metadata": {
    "execution": {
     "iopub.execute_input": "2022-03-25T10:12:35.444832Z",
     "iopub.status.busy": "2022-03-25T10:12:35.444302Z",
     "iopub.status.idle": "2022-03-25T10:12:35.649657Z",
     "shell.execute_reply": "2022-03-25T10:12:35.650088Z"
    },
    "papermill": {
     "duration": 0.253148,
     "end_time": "2022-03-25T10:12:35.650239",
     "exception": false,
     "start_time": "2022-03-25T10:12:35.397091",
     "status": "completed"
    },
    "tags": []
   },
   "outputs": [
    {
     "data": {
      "text/plain": [
       "Text(0.5, 1.0, 'Outputs')"
      ]
     },
     "execution_count": 26,
     "metadata": {},
     "output_type": "execute_result"
    },
    {
     "data": {
      "image/png": "[encoded data removed]",
      "text/plain": [
       "<Figure size 576x504 with 1 Axes>"
      ]
     },
     "metadata": {
      "needs_background": "light"
     },
     "output_type": "display_data"
    }
   ],
   "source": [
    "# Plotting the scatter plot of points and color coding by class\n",
    "plt.figure(figsize=(8,7))\n",
    "plt.scatter(testing_plot[:,0], testing_plot[:,1], alpha = 0.1, c = y_test.ravel());\n",
    "plt.title('Outputs')"
   ]
  },
  {
   "cell_type": "markdown",
   "id": "a74fcf8f",
   "metadata": {
    "papermill": {
     "duration": 0.045684,
     "end_time": "2022-03-25T10:12:35.741494",
     "exception": false,
     "start_time": "2022-03-25T10:12:35.695810",
     "status": "completed"
    },
    "tags": []
   },
   "source": [
    "Probability contours"
   ]
  },
  {
   "cell_type": "code",
   "execution_count": 27,
   "id": "d0afc8e3",
   "metadata": {
    "execution": {
     "iopub.execute_input": "2022-03-25T10:12:35.871353Z",
     "iopub.status.busy": "2022-03-25T10:12:35.870823Z",
     "iopub.status.idle": "2022-03-25T10:12:35.882139Z",
     "shell.execute_reply": "2022-03-25T10:12:35.881693Z"
    },
    "papermill": {
     "duration": 0.094954,
     "end_time": "2022-03-25T10:12:35.882257",
     "exception": false,
     "start_time": "2022-03-25T10:12:35.787303",
     "status": "completed"
    },
    "tags": []
   },
   "outputs": [],
   "source": [
    "model_prob = Model(layers[-2:]) "
   ]
  },
  {
   "cell_type": "code",
   "execution_count": 28,
   "id": "9b96e238",
   "metadata": {
    "execution": {
     "iopub.execute_input": "2022-03-25T10:12:35.978341Z",
     "iopub.status.busy": "2022-03-25T10:12:35.977752Z",
     "iopub.status.idle": "2022-03-25T10:12:35.991404Z",
     "shell.execute_reply": "2022-03-25T10:12:35.991824Z"
    },
    "papermill": {
     "duration": 0.064326,
     "end_time": "2022-03-25T10:12:35.991972",
     "exception": false,
     "start_time": "2022-03-25T10:12:35.927646",
     "status": "completed"
    },
    "tags": []
   },
   "outputs": [],
   "source": [
    "#creating the x and y ranges according to the above generated plot.\n",
    "x_range = np.linspace(-4, 1, 100) \n",
    "y_range = np.linspace(-6, 6, 100) \n",
    "x_grid, y_grid = np.meshgrid(x_range, y_range) # x_grid and y_grig are of size 100 X 100\n",
    "\n",
    "# converting x_grid and y_grid to continuous arrays\n",
    "x_gridflat = np.ravel(x_grid)\n",
    "y_gridflat = np.ravel(y_grid)\n",
    "\n",
    "# The last layer of the current model takes two columns as input. Hence transpose of np.vstack() is required.\n",
    "X = np.vstack((x_gridflat, y_gridflat)).T\n",
    "\n",
    "prob_contour = model_prob(X).reshape(100,100) "
   ]
  },
  {
   "cell_type": "code",
   "execution_count": 29,
   "id": "da72499a",
   "metadata": {
    "execution": {
     "iopub.execute_input": "2022-03-25T10:12:36.091384Z",
     "iopub.status.busy": "2022-03-25T10:12:36.090843Z",
     "iopub.status.idle": "2022-03-25T10:12:36.341088Z",
     "shell.execute_reply": "2022-03-25T10:12:36.340188Z"
    },
    "papermill": {
     "duration": 0.303702,
     "end_time": "2022-03-25T10:12:36.341241",
     "exception": false,
     "start_time": "2022-03-25T10:12:36.037539",
     "status": "completed"
    },
    "tags": []
   },
   "outputs": [
    {
     "data": {
      "image/png": "[encoded data removed]",
      "text/plain": [
       "<Figure size 720x648 with 1 Axes>"
      ]
     },
     "metadata": {
      "needs_background": "light"
     },
     "output_type": "display_data"
    }
   ],
   "source": [
    "plt.figure(figsize=(10,9))\n",
    "plt.scatter(testing_plot[:,0], testing_plot[:,1], alpha = 0.1, c = y_test.ravel())\n",
    "contours = plt.contour(x_grid,y_grid,prob_contour)\n",
    "plt.title('Probability Contours')\n",
    "plt.clabel(contours, inline = True );"
   ]
  },
  {
   "cell_type": "code",
   "execution_count": null,
   "id": "e81b4ac7",
   "metadata": {
    "papermill": {
     "duration": 0.048853,
     "end_time": "2022-03-25T10:12:36.439307",
     "exception": false,
     "start_time": "2022-03-25T10:12:36.390454",
     "status": "completed"
    },
    "tags": []
   },
   "outputs": [],
   "source": []
  }
 ],
 "metadata": {
  "kernelspec": {
   "display_name": "Python 3",
   "language": "python",
   "name": "python3"
  },
  "language_info": {
   "codemirror_mode": {
    "name": "ipython",
    "version": 3
   },
   "file_extension": ".py",
   "mimetype": "text/x-python",
   "name": "python",
   "nbconvert_exporter": "python",
   "pygments_lexer": "ipython3",
   "version": "3.6.15"
  },
  "papermill": {
   "default_parameters": {},
   "duration": 116.029246,
   "end_time": "2022-03-25T10:12:36.907123",
   "environment_variables": {},
   "exception": null,
   "input_path": "2020-08-11-part2.ipynb",
   "output_path": "2020-08-11-part2.ipynb",
   "parameters": {},
   "start_time": "2022-03-25T10:10:40.877877",
   "version": "2.3.3"
  }
 },
 "nbformat": 4,
 "nbformat_minor": 5
}