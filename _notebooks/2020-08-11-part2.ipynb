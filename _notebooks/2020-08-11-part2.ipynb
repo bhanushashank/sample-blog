{
 "cells": [
  {
   "cell_type": "markdown",
   "id": "98380cd3",
   "metadata": {
    "papermill": {
     "duration": 0.031391,
     "end_time": "2022-11-16T10:10:59.668199",
     "exception": false,
     "start_time": "2022-11-16T10:10:59.636808",
     "status": "completed"
    },
    "tags": []
   },
   "source": [
    "# Distinguish Your Own Digits (DYOD)"
   ]
  },
  {
   "cell_type": "markdown",
   "id": "ef31240d",
   "metadata": {
    "papermill": {
     "duration": 0.022571,
     "end_time": "2022-11-16T10:10:59.714680",
     "exception": false,
     "start_time": "2022-11-16T10:10:59.692109",
     "status": "completed"
    },
    "tags": []
   },
   "source": [
    "You are going to write a classifier that distinguishes between the number 3 and number 8."
   ]
  },
  {
   "cell_type": "code",
   "execution_count": 1,
   "id": "b15c8646",
   "metadata": {
    "execution": {
     "iopub.execute_input": "2022-11-16T10:10:59.770317Z",
     "iopub.status.busy": "2022-11-16T10:10:59.769613Z",
     "iopub.status.idle": "2022-11-16T10:10:59.780637Z",
     "shell.execute_reply": "2022-11-16T10:10:59.779968Z"
    },
    "papermill": {
     "duration": 0.04477,
     "end_time": "2022-11-16T10:10:59.780772",
     "exception": false,
     "start_time": "2022-11-16T10:10:59.736002",
     "status": "completed"
    },
    "tags": []
   },
   "outputs": [],
   "source": [
    "%load_ext autoreload\n",
    "%autoreload 2"
   ]
  },
  {
   "cell_type": "code",
   "execution_count": 2,
   "id": "22ef38dc",
   "metadata": {
    "execution": {
     "iopub.execute_input": "2022-11-16T10:10:59.829000Z",
     "iopub.status.busy": "2022-11-16T10:10:59.828371Z",
     "iopub.status.idle": "2022-11-16T10:11:00.381709Z",
     "shell.execute_reply": "2022-11-16T10:11:00.381082Z"
    },
    "papermill": {
     "duration": 0.578205,
     "end_time": "2022-11-16T10:11:00.381848",
     "exception": false,
     "start_time": "2022-11-16T10:10:59.803643",
     "status": "completed"
    },
    "tags": []
   },
   "outputs": [],
   "source": [
    "%matplotlib inline\n",
    "import numpy as np\n",
    "import matplotlib.pyplot as plt\n",
    "import pandas as pd"
   ]
  },
  {
   "cell_type": "markdown",
   "id": "ba036198",
   "metadata": {
    "papermill": {
     "duration": 0.022425,
     "end_time": "2022-11-16T10:11:00.430384",
     "exception": false,
     "start_time": "2022-11-16T10:11:00.407959",
     "status": "completed"
    },
    "tags": []
   },
   "source": [
    "From the command line run `pip install mnist`. This is a library that will help you bring down the mnist dataset. If you run this from a notebook, you need to put  `!pip install mnist` in a cell by itself."
   ]
  },
  {
   "cell_type": "code",
   "execution_count": 3,
   "id": "bb6ad8a1",
   "metadata": {
    "execution": {
     "iopub.execute_input": "2022-11-16T10:11:00.488074Z",
     "iopub.status.busy": "2022-11-16T10:11:00.487425Z",
     "iopub.status.idle": "2022-11-16T10:11:02.171988Z",
     "shell.execute_reply": "2022-11-16T10:11:02.173659Z"
    },
    "papermill": {
     "duration": 1.722478,
     "end_time": "2022-11-16T10:11:02.173836",
     "exception": false,
     "start_time": "2022-11-16T10:11:00.451358",
     "status": "completed"
    },
    "tags": []
   },
   "outputs": [
    {
     "name": "stdout",
     "output_type": "stream",
     "text": [
      "Collecting mnist\r\n",
      "  Downloading mnist-0.2.2-py2.py3-none-any.whl (3.5 kB)\r\n",
      "Requirement already satisfied: numpy in /opt/hostedtoolcache/Python/3.6.15/x64/lib/python3.6/site-packages (from mnist) (1.19.5)\r\n"
     ]
    },
    {
     "name": "stdout",
     "output_type": "stream",
     "text": [
      "Installing collected packages: mnist\r\n"
     ]
    },
    {
     "name": "stdout",
     "output_type": "stream",
     "text": [
      "Successfully installed mnist-0.2.2\r\n"
     ]
    }
   ],
   "source": [
    "!pip install mnist"
   ]
  },
  {
   "cell_type": "markdown",
   "id": "69df9c9a",
   "metadata": {
    "papermill": {
     "duration": 0.027421,
     "end_time": "2022-11-16T10:11:02.230791",
     "exception": false,
     "start_time": "2022-11-16T10:11:02.203370",
     "status": "completed"
    },
    "tags": []
   },
   "source": [
    "## Preparing the Data"
   ]
  },
  {
   "cell_type": "code",
   "execution_count": 4,
   "id": "7f69d806",
   "metadata": {
    "execution": {
     "iopub.execute_input": "2022-11-16T10:11:02.284513Z",
     "iopub.status.busy": "2022-11-16T10:11:02.283960Z",
     "iopub.status.idle": "2022-11-16T10:11:02.300775Z",
     "shell.execute_reply": "2022-11-16T10:11:02.299816Z"
    },
    "papermill": {
     "duration": 0.046146,
     "end_time": "2022-11-16T10:11:02.300975",
     "exception": false,
     "start_time": "2022-11-16T10:11:02.254829",
     "status": "completed"
    },
    "tags": []
   },
   "outputs": [],
   "source": [
    "import mnist"
   ]
  },
  {
   "cell_type": "code",
   "execution_count": 5,
   "id": "a411e44f",
   "metadata": {
    "execution": {
     "iopub.execute_input": "2022-11-16T10:11:02.355039Z",
     "iopub.status.busy": "2022-11-16T10:11:02.354332Z",
     "iopub.status.idle": "2022-11-16T10:11:02.910744Z",
     "shell.execute_reply": "2022-11-16T10:11:02.911956Z"
    },
    "papermill": {
     "duration": 0.586109,
     "end_time": "2022-11-16T10:11:02.912242",
     "exception": false,
     "start_time": "2022-11-16T10:11:02.326133",
     "status": "completed"
    },
    "tags": []
   },
   "outputs": [],
   "source": [
    "train_images = mnist.train_images()\n",
    "train_labels = mnist.train_labels()"
   ]
  },
  {
   "cell_type": "code",
   "execution_count": 6,
   "id": "dceab3a5",
   "metadata": {
    "execution": {
     "iopub.execute_input": "2022-11-16T10:11:02.972621Z",
     "iopub.status.busy": "2022-11-16T10:11:02.971897Z",
     "iopub.status.idle": "2022-11-16T10:11:02.990023Z",
     "shell.execute_reply": "2022-11-16T10:11:02.990455Z"
    },
    "papermill": {
     "duration": 0.051412,
     "end_time": "2022-11-16T10:11:02.990642",
     "exception": false,
     "start_time": "2022-11-16T10:11:02.939230",
     "status": "completed"
    },
    "tags": []
   },
   "outputs": [
    {
     "data": {
      "text/plain": [
       "((60000, 28, 28), (60000,))"
      ]
     },
     "execution_count": 6,
     "metadata": {},
     "output_type": "execute_result"
    }
   ],
   "source": [
    "train_images.shape, train_labels.shape"
   ]
  },
  {
   "cell_type": "code",
   "execution_count": 7,
   "id": "f50dc2bb",
   "metadata": {
    "execution": {
     "iopub.execute_input": "2022-11-16T10:11:03.052441Z",
     "iopub.status.busy": "2022-11-16T10:11:03.051360Z",
     "iopub.status.idle": "2022-11-16T10:11:03.179398Z",
     "shell.execute_reply": "2022-11-16T10:11:03.178418Z"
    },
    "papermill": {
     "duration": 0.163736,
     "end_time": "2022-11-16T10:11:03.179537",
     "exception": false,
     "start_time": "2022-11-16T10:11:03.015801",
     "status": "completed"
    },
    "tags": []
   },
   "outputs": [],
   "source": [
    "test_images = mnist.test_images()\n",
    "test_labels = mnist.test_labels()"
   ]
  },
  {
   "cell_type": "code",
   "execution_count": 8,
   "id": "fc38cf1b",
   "metadata": {
    "execution": {
     "iopub.execute_input": "2022-11-16T10:11:03.242491Z",
     "iopub.status.busy": "2022-11-16T10:11:03.241467Z",
     "iopub.status.idle": "2022-11-16T10:11:03.256860Z",
     "shell.execute_reply": "2022-11-16T10:11:03.257365Z"
    },
    "papermill": {
     "duration": 0.049659,
     "end_time": "2022-11-16T10:11:03.257509",
     "exception": false,
     "start_time": "2022-11-16T10:11:03.207850",
     "status": "completed"
    },
    "tags": []
   },
   "outputs": [
    {
     "data": {
      "text/plain": [
       "((10000, 28, 28), (10000,))"
      ]
     },
     "execution_count": 8,
     "metadata": {},
     "output_type": "execute_result"
    }
   ],
   "source": [
    "test_images.shape, test_labels.shape"
   ]
  },
  {
   "cell_type": "code",
   "execution_count": 9,
   "id": "f9ed8fe0",
   "metadata": {
    "execution": {
     "iopub.execute_input": "2022-11-16T10:11:03.316742Z",
     "iopub.status.busy": "2022-11-16T10:11:03.316115Z",
     "iopub.status.idle": "2022-11-16T10:11:03.466140Z",
     "shell.execute_reply": "2022-11-16T10:11:03.465687Z"
    },
    "papermill": {
     "duration": 0.181343,
     "end_time": "2022-11-16T10:11:03.466259",
     "exception": false,
     "start_time": "2022-11-16T10:11:03.284916",
     "status": "completed"
    },
    "tags": []
   },
   "outputs": [
    {
     "name": "stdout",
     "output_type": "stream",
     "text": [
      "2\n"
     ]
    },
    {
     "data": {
      "text/plain": [
       "<matplotlib.image.AxesImage at 0x7ffa12045e48>"
      ]
     },
     "execution_count": 9,
     "metadata": {},
     "output_type": "execute_result"
    },
    {
     "data": {
      "image/png": "[encoded data removed]",
      "text/plain": [
       "<Figure size 432x288 with 1 Axes>"
      ]
     },
     "metadata": {
      "needs_background": "light"
     },
     "output_type": "display_data"
    }
   ],
   "source": [
    "image_index = 7776 # You may select anything up to 60,000\n",
    "print(train_labels[image_index]) \n",
    "plt.imshow(train_images[image_index], cmap='Greys')"
   ]
  },
  {
   "cell_type": "markdown",
   "id": "a8d2388d",
   "metadata": {
    "papermill": {
     "duration": 0.027546,
     "end_time": "2022-11-16T10:11:03.520765",
     "exception": false,
     "start_time": "2022-11-16T10:11:03.493219",
     "status": "completed"
    },
    "tags": []
   },
   "source": [
    "## Filter data to get 3 and 8 out"
   ]
  },
  {
   "cell_type": "code",
   "execution_count": 10,
   "id": "776f7fc7",
   "metadata": {
    "execution": {
     "iopub.execute_input": "2022-11-16T10:11:03.575832Z",
     "iopub.status.busy": "2022-11-16T10:11:03.575191Z",
     "iopub.status.idle": "2022-11-16T10:11:03.603315Z",
     "shell.execute_reply": "2022-11-16T10:11:03.602287Z"
    },
    "papermill": {
     "duration": 0.057993,
     "end_time": "2022-11-16T10:11:03.603484",
     "exception": false,
     "start_time": "2022-11-16T10:11:03.545491",
     "status": "completed"
    },
    "tags": []
   },
   "outputs": [],
   "source": [
    "train_filter = np.where((train_labels == 3 ) | (train_labels == 8))\n",
    "test_filter = np.where((test_labels == 3) | (test_labels == 8))\n",
    "X_train, y_train = train_images[train_filter], train_labels[train_filter]\n",
    "X_test, y_test = test_images[test_filter], test_labels[test_filter]"
   ]
  },
  {
   "cell_type": "markdown",
   "id": "948f0b7e",
   "metadata": {
    "papermill": {
     "duration": 0.025049,
     "end_time": "2022-11-16T10:11:03.653372",
     "exception": false,
     "start_time": "2022-11-16T10:11:03.628323",
     "status": "completed"
    },
    "tags": []
   },
   "source": [
    "We normalize the pizel values in the 0 to 1 range"
   ]
  },
  {
   "cell_type": "code",
   "execution_count": 11,
   "id": "ee4c2166",
   "metadata": {
    "execution": {
     "iopub.execute_input": "2022-11-16T10:11:03.713814Z",
     "iopub.status.busy": "2022-11-16T10:11:03.713225Z",
     "iopub.status.idle": "2022-11-16T10:11:03.767857Z",
     "shell.execute_reply": "2022-11-16T10:11:03.767357Z"
    },
    "papermill": {
     "duration": 0.088957,
     "end_time": "2022-11-16T10:11:03.767974",
     "exception": false,
     "start_time": "2022-11-16T10:11:03.679017",
     "status": "completed"
    },
    "tags": []
   },
   "outputs": [],
   "source": [
    "X_train = X_train/255.\n",
    "X_test = X_test/255."
   ]
  },
  {
   "cell_type": "markdown",
   "id": "ddcf4fab",
   "metadata": {
    "papermill": {
     "duration": 0.029797,
     "end_time": "2022-11-16T10:11:03.823200",
     "exception": false,
     "start_time": "2022-11-16T10:11:03.793403",
     "status": "completed"
    },
    "tags": []
   },
   "source": [
    "And setup the labels as 1 (when the digit is 3) and 0 (when the digit is 8)"
   ]
  },
  {
   "cell_type": "code",
   "execution_count": 12,
   "id": "7dc908f2",
   "metadata": {
    "execution": {
     "iopub.execute_input": "2022-11-16T10:11:03.887097Z",
     "iopub.status.busy": "2022-11-16T10:11:03.886376Z",
     "iopub.status.idle": "2022-11-16T10:11:03.902525Z",
     "shell.execute_reply": "2022-11-16T10:11:03.901586Z"
    },
    "papermill": {
     "duration": 0.050059,
     "end_time": "2022-11-16T10:11:03.902753",
     "exception": false,
     "start_time": "2022-11-16T10:11:03.852694",
     "status": "completed"
    },
    "tags": []
   },
   "outputs": [],
   "source": [
    "y_train = 1*(y_train==3)\n",
    "y_test = 1*(y_test==3)"
   ]
  },
  {
   "cell_type": "code",
   "execution_count": 13,
   "id": "01e4e969",
   "metadata": {
    "execution": {
     "iopub.execute_input": "2022-11-16T10:11:03.970084Z",
     "iopub.status.busy": "2022-11-16T10:11:03.969319Z",
     "iopub.status.idle": "2022-11-16T10:11:03.984449Z",
     "shell.execute_reply": "2022-11-16T10:11:03.983995Z"
    },
    "papermill": {
     "duration": 0.050906,
     "end_time": "2022-11-16T10:11:03.984556",
     "exception": false,
     "start_time": "2022-11-16T10:11:03.933650",
     "status": "completed"
    },
    "tags": []
   },
   "outputs": [
    {
     "data": {
      "text/plain": [
       "((11982, 28, 28), (1984, 28, 28))"
      ]
     },
     "execution_count": 13,
     "metadata": {},
     "output_type": "execute_result"
    }
   ],
   "source": [
    "X_train.shape, X_test.shape"
   ]
  },
  {
   "cell_type": "markdown",
   "id": "5ccf3f85",
   "metadata": {
    "papermill": {
     "duration": 0.02502,
     "end_time": "2022-11-16T10:11:04.032952",
     "exception": false,
     "start_time": "2022-11-16T10:11:04.007932",
     "status": "completed"
    },
    "tags": []
   },
   "source": [
    "We reshape the data to flatten the image pixels into a set of features or co-variates:"
   ]
  },
  {
   "cell_type": "code",
   "execution_count": 14,
   "id": "5286a4a3",
   "metadata": {
    "execution": {
     "iopub.execute_input": "2022-11-16T10:11:04.094024Z",
     "iopub.status.busy": "2022-11-16T10:11:04.093346Z",
     "iopub.status.idle": "2022-11-16T10:11:04.108050Z",
     "shell.execute_reply": "2022-11-16T10:11:04.107595Z"
    },
    "papermill": {
     "duration": 0.049816,
     "end_time": "2022-11-16T10:11:04.108156",
     "exception": false,
     "start_time": "2022-11-16T10:11:04.058340",
     "status": "completed"
    },
    "tags": []
   },
   "outputs": [
    {
     "data": {
      "text/plain": [
       "((11982, 784), (1984, 784))"
      ]
     },
     "execution_count": 14,
     "metadata": {},
     "output_type": "execute_result"
    }
   ],
   "source": [
    "X_train = X_train.reshape(X_train.shape[0], -1)\n",
    "X_test = X_test.reshape(X_test.shape[0], -1)\n",
    "X_train.shape, X_test.shape"
   ]
  },
  {
   "cell_type": "code",
   "execution_count": 15,
   "id": "73c5f88a",
   "metadata": {
    "execution": {
     "iopub.execute_input": "2022-11-16T10:11:04.161129Z",
     "iopub.status.busy": "2022-11-16T10:11:04.160469Z",
     "iopub.status.idle": "2022-11-16T10:11:04.181700Z",
     "shell.execute_reply": "2022-11-16T10:11:04.181179Z"
    },
    "papermill": {
     "duration": 0.048931,
     "end_time": "2022-11-16T10:11:04.181807",
     "exception": false,
     "start_time": "2022-11-16T10:11:04.132876",
     "status": "completed"
    },
    "tags": []
   },
   "outputs": [],
   "source": [
    "#Impoting functions from 'Kudzu'\n",
    "from kudzu.model import Model\n",
    "from kudzu.train import Learner\n",
    "from kudzu.optim import GD\n",
    "from kudzu.data import Data, Sampler,Dataloader\n",
    "\n",
    "from kudzu.callbacks import AccCallback\n",
    "from kudzu.callbacks import ClfCallback\n",
    "\n",
    "from kudzu.loss import MSE\n",
    "\n",
    "from kudzu.layer import Sigmoid,Relu\n",
    "from kudzu.layer import Affine"
   ]
  },
  {
   "cell_type": "markdown",
   "id": "bc01172a",
   "metadata": {
    "papermill": {
     "duration": 0.025008,
     "end_time": "2022-11-16T10:11:04.231353",
     "exception": false,
     "start_time": "2022-11-16T10:11:04.206345",
     "status": "completed"
    },
    "tags": []
   },
   "source": [
    "### Let us create a `Config` class, to store important parameters. \n",
    "This class essentially plays the role of a dictionary."
   ]
  },
  {
   "cell_type": "code",
   "execution_count": 16,
   "id": "978281aa",
   "metadata": {
    "execution": {
     "iopub.execute_input": "2022-11-16T10:11:04.292725Z",
     "iopub.status.busy": "2022-11-16T10:11:04.292090Z",
     "iopub.status.idle": "2022-11-16T10:11:04.306171Z",
     "shell.execute_reply": "2022-11-16T10:11:04.305585Z"
    },
    "papermill": {
     "duration": 0.049078,
     "end_time": "2022-11-16T10:11:04.306283",
     "exception": false,
     "start_time": "2022-11-16T10:11:04.257205",
     "status": "completed"
    },
    "tags": []
   },
   "outputs": [],
   "source": [
    "class Config:\n",
    "    pass\n",
    "config = Config()\n",
    "config.lr = 0.001\n",
    "config.num_epochs = 250\n",
    "config.bs = 50"
   ]
  },
  {
   "cell_type": "markdown",
   "id": "1385fa59",
   "metadata": {
    "papermill": {
     "duration": 0.024355,
     "end_time": "2022-11-16T10:11:04.357191",
     "exception": false,
     "start_time": "2022-11-16T10:11:04.332836",
     "status": "completed"
    },
    "tags": []
   },
   "source": [
    "### Running Models with the Training data\n",
    "Details about the network layers:\n",
    "- A first affine layer has 784 inputs and does 100 affine transforms. These are followed by a Relu\n",
    "- A second affine layer has 100 inputs from the 100 activations of the past layer, and does 100 affine transforms. These are followed by a Relu\n",
    "- A third affine layer has 100 activations and does 2 affine transformations to create an embedding for visualization. There is no non-linearity here.\n",
    "- A final \"logistic regression\" which has an affine transform from 2 inputs to 1 output, which is squeezed through a sigmoid.\n"
   ]
  },
  {
   "cell_type": "code",
   "execution_count": 17,
   "id": "2b9c66db",
   "metadata": {
    "execution": {
     "iopub.execute_input": "2022-11-16T10:11:04.420731Z",
     "iopub.status.busy": "2022-11-16T10:11:04.420018Z",
     "iopub.status.idle": "2022-11-16T10:11:04.437576Z",
     "shell.execute_reply": "2022-11-16T10:11:04.436965Z"
    },
    "papermill": {
     "duration": 0.053569,
     "end_time": "2022-11-16T10:11:04.437719",
     "exception": false,
     "start_time": "2022-11-16T10:11:04.384150",
     "status": "completed"
    },
    "tags": []
   },
   "outputs": [],
   "source": [
    "data = Data(X_train, y_train.reshape(-1,1))\n",
    "sampler = Sampler(data, config.bs, shuffle=True)\n",
    "\n",
    "dl = Dataloader(data, sampler)\n",
    "\n",
    "opt = GD(config.lr)\n",
    "loss = MSE()"
   ]
  },
  {
   "cell_type": "code",
   "execution_count": 18,
   "id": "b275e4c2",
   "metadata": {
    "execution": {
     "iopub.execute_input": "2022-11-16T10:11:04.503819Z",
     "iopub.status.busy": "2022-11-16T10:11:04.503188Z",
     "iopub.status.idle": "2022-11-16T10:11:04.518245Z",
     "shell.execute_reply": "2022-11-16T10:11:04.517628Z"
    },
    "papermill": {
     "duration": 0.050231,
     "end_time": "2022-11-16T10:11:04.518365",
     "exception": false,
     "start_time": "2022-11-16T10:11:04.468134",
     "status": "completed"
    },
    "tags": []
   },
   "outputs": [],
   "source": [
    "training_data_x = X_train\n",
    "testing_data_x = X_test\n",
    "training_data_y = y_train.reshape(-1,1)\n",
    "testing_data_y = y_test.reshape(-1,1)"
   ]
  },
  {
   "cell_type": "code",
   "execution_count": 19,
   "id": "76951160",
   "metadata": {
    "execution": {
     "iopub.execute_input": "2022-11-16T10:11:04.575878Z",
     "iopub.status.busy": "2022-11-16T10:11:04.575283Z",
     "iopub.status.idle": "2022-11-16T10:11:04.593718Z",
     "shell.execute_reply": "2022-11-16T10:11:04.594230Z"
    },
    "papermill": {
     "duration": 0.04981,
     "end_time": "2022-11-16T10:11:04.594347",
     "exception": false,
     "start_time": "2022-11-16T10:11:04.544537",
     "status": "completed"
    },
    "tags": []
   },
   "outputs": [
    {
     "name": "stdout",
     "output_type": "stream",
     "text": [
      "xavier\n",
      "xavier\n",
      "xavier\n",
      "xavier\n",
      "xavier\n"
     ]
    }
   ],
   "source": [
    "layers = [Affine(\"first\", 784, 100), Relu(\"first\"), Affine(\"second\", 100, 100), Relu(\"second\"), Affine(\"third\", 100, 2), Affine(\"last\", 2, 1), Sigmoid(\"last\")]\n",
    "model_nn = Model(layers)\n",
    "model_lr = Model([Affine(\"logits\", 784, 1), Sigmoid(\"sigmoid\")])"
   ]
  },
  {
   "cell_type": "code",
   "execution_count": 20,
   "id": "6eede77a",
   "metadata": {
    "execution": {
     "iopub.execute_input": "2022-11-16T10:11:04.651031Z",
     "iopub.status.busy": "2022-11-16T10:11:04.650354Z",
     "iopub.status.idle": "2022-11-16T10:11:04.666725Z",
     "shell.execute_reply": "2022-11-16T10:11:04.665548Z"
    },
    "papermill": {
     "duration": 0.045842,
     "end_time": "2022-11-16T10:11:04.666968",
     "exception": false,
     "start_time": "2022-11-16T10:11:04.621126",
     "status": "completed"
    },
    "tags": []
   },
   "outputs": [],
   "source": [
    "nn_learner = Learner(loss, model_nn, opt, config.num_epochs)\n",
    "acc_nn = ClfCallback(nn_learner, config.bs, training_data_x , testing_data_x, training_data_y, testing_data_y)\n",
    "nn_learner.set_callbacks([acc_nn])"
   ]
  },
  {
   "cell_type": "code",
   "execution_count": 21,
   "id": "877b6cc7",
   "metadata": {
    "execution": {
     "iopub.execute_input": "2022-11-16T10:11:04.739292Z",
     "iopub.status.busy": "2022-11-16T10:11:04.738644Z",
     "iopub.status.idle": "2022-11-16T10:11:04.753054Z",
     "shell.execute_reply": "2022-11-16T10:11:04.752513Z"
    },
    "papermill": {
     "duration": 0.051805,
     "end_time": "2022-11-16T10:11:04.753175",
     "exception": false,
     "start_time": "2022-11-16T10:11:04.701370",
     "status": "completed"
    },
    "tags": []
   },
   "outputs": [],
   "source": [
    "lr_learner = Learner(loss, model_lr, opt, config.num_epochs)\n",
    "acc_lr = ClfCallback(lr_learner, config.bs, training_data_x , testing_data_x, training_data_y, testing_data_y)\n",
    "lr_learner.set_callbacks([acc_lr])"
   ]
  },
  {
   "cell_type": "code",
   "execution_count": 22,
   "id": "d9b133c3",
   "metadata": {
    "execution": {
     "iopub.execute_input": "2022-11-16T10:11:04.812974Z",
     "iopub.status.busy": "2022-11-16T10:11:04.812430Z",
     "iopub.status.idle": "2022-11-16T10:12:23.688867Z",
     "shell.execute_reply": "2022-11-16T10:12:23.689830Z"
    },
    "papermill": {
     "duration": 78.908029,
     "end_time": "2022-11-16T10:12:23.689988",
     "exception": false,
     "start_time": "2022-11-16T10:11:04.781959",
     "status": "completed"
    },
    "tags": []
   },
   "outputs": [
    {
     "name": "stdout",
     "output_type": "stream",
     "text": [
      "Epoch 0, Loss 0.2467\n",
      "Training Accuracy: 0.6236, Testing Accuracy: 0.6321\n",
      "\n"
     ]
    },
    {
     "name": "stdout",
     "output_type": "stream",
     "text": [
      "Epoch 10, Loss 0.1394\n",
      "Training Accuracy: 0.9069, Testing Accuracy: 0.9168\n",
      "\n"
     ]
    },
    {
     "name": "stdout",
     "output_type": "stream",
     "text": [
      "Epoch 20, Loss 0.071\n",
      "Training Accuracy: 0.9337, Testing Accuracy: 0.9461\n",
      "\n"
     ]
    },
    {
     "name": "stdout",
     "output_type": "stream",
     "text": [
      "Epoch 30, Loss 0.0516\n",
      "Training Accuracy: 0.9454, Testing Accuracy: 0.9556\n",
      "\n"
     ]
    },
    {
     "name": "stdout",
     "output_type": "stream",
     "text": [
      "Epoch 40, Loss 0.0432\n",
      "Training Accuracy: 0.9520, Testing Accuracy: 0.9627\n",
      "\n"
     ]
    },
    {
     "name": "stdout",
     "output_type": "stream",
     "text": [
      "Epoch 50, Loss 0.0385\n",
      "Training Accuracy: 0.9559, Testing Accuracy: 0.9652\n",
      "\n"
     ]
    },
    {
     "name": "stdout",
     "output_type": "stream",
     "text": [
      "Epoch 60, Loss 0.0355\n",
      "Training Accuracy: 0.9589, Testing Accuracy: 0.9657\n",
      "\n"
     ]
    },
    {
     "name": "stdout",
     "output_type": "stream",
     "text": [
      "Epoch 70, Loss 0.0332\n",
      "Training Accuracy: 0.9610, Testing Accuracy: 0.9662\n",
      "\n"
     ]
    },
    {
     "name": "stdout",
     "output_type": "stream",
     "text": [
      "Epoch 80, Loss 0.0316\n",
      "Training Accuracy: 0.9630, Testing Accuracy: 0.9677\n",
      "\n"
     ]
    },
    {
     "name": "stdout",
     "output_type": "stream",
     "text": [
      "Epoch 90, Loss 0.0302\n",
      "Training Accuracy: 0.9648, Testing Accuracy: 0.9682\n",
      "\n"
     ]
    },
    {
     "name": "stdout",
     "output_type": "stream",
     "text": [
      "Epoch 100, Loss 0.029\n",
      "Training Accuracy: 0.9659, Testing Accuracy: 0.9688\n",
      "\n"
     ]
    },
    {
     "name": "stdout",
     "output_type": "stream",
     "text": [
      "Epoch 110, Loss 0.028\n",
      "Training Accuracy: 0.9672, Testing Accuracy: 0.9698\n",
      "\n"
     ]
    },
    {
     "name": "stdout",
     "output_type": "stream",
     "text": [
      "Epoch 120, Loss 0.0272\n",
      "Training Accuracy: 0.9683, Testing Accuracy: 0.9698\n",
      "\n"
     ]
    },
    {
     "name": "stdout",
     "output_type": "stream",
     "text": [
      "Epoch 130, Loss 0.0264\n",
      "Training Accuracy: 0.9687, Testing Accuracy: 0.9693\n",
      "\n"
     ]
    },
    {
     "name": "stdout",
     "output_type": "stream",
     "text": [
      "Epoch 140, Loss 0.0257\n",
      "Training Accuracy: 0.9693, Testing Accuracy: 0.9698\n",
      "\n"
     ]
    },
    {
     "name": "stdout",
     "output_type": "stream",
     "text": [
      "Epoch 150, Loss 0.025\n",
      "Training Accuracy: 0.9704, Testing Accuracy: 0.9708\n",
      "\n"
     ]
    },
    {
     "name": "stdout",
     "output_type": "stream",
     "text": [
      "Epoch 160, Loss 0.0244\n",
      "Training Accuracy: 0.9716, Testing Accuracy: 0.9713\n",
      "\n"
     ]
    },
    {
     "name": "stdout",
     "output_type": "stream",
     "text": [
      "Epoch 170, Loss 0.0238\n",
      "Training Accuracy: 0.9726, Testing Accuracy: 0.9708\n",
      "\n"
     ]
    },
    {
     "name": "stdout",
     "output_type": "stream",
     "text": [
      "Epoch 180, Loss 0.0233\n",
      "Training Accuracy: 0.9734, Testing Accuracy: 0.9713\n",
      "\n"
     ]
    },
    {
     "name": "stdout",
     "output_type": "stream",
     "text": [
      "Epoch 190, Loss 0.0228\n",
      "Training Accuracy: 0.9735, Testing Accuracy: 0.9698\n",
      "\n"
     ]
    },
    {
     "name": "stdout",
     "output_type": "stream",
     "text": [
      "Epoch 200, Loss 0.0223\n",
      "Training Accuracy: 0.9743, Testing Accuracy: 0.9713\n",
      "\n"
     ]
    },
    {
     "name": "stdout",
     "output_type": "stream",
     "text": [
      "Epoch 210, Loss 0.0219\n",
      "Training Accuracy: 0.9751, Testing Accuracy: 0.9723\n",
      "\n"
     ]
    },
    {
     "name": "stdout",
     "output_type": "stream",
     "text": [
      "Epoch 220, Loss 0.0214\n",
      "Training Accuracy: 0.9760, Testing Accuracy: 0.9723\n",
      "\n"
     ]
    },
    {
     "name": "stdout",
     "output_type": "stream",
     "text": [
      "Epoch 230, Loss 0.021\n",
      "Training Accuracy: 0.9760, Testing Accuracy: 0.9718\n",
      "\n"
     ]
    },
    {
     "name": "stdout",
     "output_type": "stream",
     "text": [
      "Epoch 240, Loss 0.0206\n",
      "Training Accuracy: 0.9766, Testing Accuracy: 0.9718\n",
      "\n"
     ]
    },
    {
     "data": {
      "text/plain": [
       "0.0004448413820353562"
      ]
     },
     "execution_count": 22,
     "metadata": {},
     "output_type": "execute_result"
    }
   ],
   "source": [
    "nn_learner.train_loop(dl)"
   ]
  },
  {
   "cell_type": "code",
   "execution_count": 23,
   "id": "e0163366",
   "metadata": {
    "execution": {
     "iopub.execute_input": "2022-11-16T10:12:23.771868Z",
     "iopub.status.busy": "2022-11-16T10:12:23.771322Z",
     "iopub.status.idle": "2022-11-16T10:12:37.091798Z",
     "shell.execute_reply": "2022-11-16T10:12:37.092791Z"
    },
    "papermill": {
     "duration": 13.366528,
     "end_time": "2022-11-16T10:12:37.092963",
     "exception": false,
     "start_time": "2022-11-16T10:12:23.726435",
     "status": "completed"
    },
    "tags": []
   },
   "outputs": [
    {
     "name": "stdout",
     "output_type": "stream",
     "text": [
      "Epoch 0, Loss 0.2229\n",
      "Training Accuracy: 0.7373, Testing Accuracy: 0.7283\n",
      "\n"
     ]
    },
    {
     "name": "stdout",
     "output_type": "stream",
     "text": [
      "Epoch 10, Loss 0.1038\n",
      "Training Accuracy: 0.9042, Testing Accuracy: 0.9183\n",
      "\n"
     ]
    },
    {
     "name": "stdout",
     "output_type": "stream",
     "text": [
      "Epoch 20, Loss 0.0804\n",
      "Training Accuracy: 0.9256, Testing Accuracy: 0.9360\n",
      "\n"
     ]
    },
    {
     "name": "stdout",
     "output_type": "stream",
     "text": [
      "Epoch 30, Loss 0.0693\n",
      "Training Accuracy: 0.9339, Testing Accuracy: 0.9451\n",
      "\n"
     ]
    },
    {
     "name": "stdout",
     "output_type": "stream",
     "text": [
      "Epoch 40, Loss 0.0626\n",
      "Training Accuracy: 0.9404, Testing Accuracy: 0.9521\n",
      "\n"
     ]
    },
    {
     "name": "stdout",
     "output_type": "stream",
     "text": [
      "Epoch 50, Loss 0.058\n",
      "Training Accuracy: 0.9432, Testing Accuracy: 0.9531\n",
      "\n"
     ]
    },
    {
     "name": "stdout",
     "output_type": "stream",
     "text": [
      "Epoch 60, Loss 0.0546\n",
      "Training Accuracy: 0.9465, Testing Accuracy: 0.9551\n",
      "\n"
     ]
    },
    {
     "name": "stdout",
     "output_type": "stream",
     "text": [
      "Epoch 70, Loss 0.0519\n",
      "Training Accuracy: 0.9483, Testing Accuracy: 0.9541\n",
      "\n"
     ]
    },
    {
     "name": "stdout",
     "output_type": "stream",
     "text": [
      "Epoch 80, Loss 0.0498\n",
      "Training Accuracy: 0.9496, Testing Accuracy: 0.9561\n",
      "\n"
     ]
    },
    {
     "name": "stdout",
     "output_type": "stream",
     "text": [
      "Epoch 90, Loss 0.0481\n",
      "Training Accuracy: 0.9508, Testing Accuracy: 0.9592\n",
      "\n"
     ]
    },
    {
     "name": "stdout",
     "output_type": "stream",
     "text": [
      "Epoch 100, Loss 0.0466\n",
      "Training Accuracy: 0.9520, Testing Accuracy: 0.9597\n",
      "\n"
     ]
    },
    {
     "name": "stdout",
     "output_type": "stream",
     "text": [
      "Epoch 110, Loss 0.0454\n",
      "Training Accuracy: 0.9532, Testing Accuracy: 0.9597\n",
      "\n"
     ]
    },
    {
     "name": "stdout",
     "output_type": "stream",
     "text": [
      "Epoch 120, Loss 0.0443\n",
      "Training Accuracy: 0.9538, Testing Accuracy: 0.9612\n",
      "\n"
     ]
    },
    {
     "name": "stdout",
     "output_type": "stream",
     "text": [
      "Epoch 130, Loss 0.0433\n",
      "Training Accuracy: 0.9549, Testing Accuracy: 0.9622\n",
      "\n"
     ]
    },
    {
     "name": "stdout",
     "output_type": "stream",
     "text": [
      "Epoch 140, Loss 0.0424\n",
      "Training Accuracy: 0.9557, Testing Accuracy: 0.9622\n",
      "\n"
     ]
    },
    {
     "name": "stdout",
     "output_type": "stream",
     "text": [
      "Epoch 150, Loss 0.0417\n",
      "Training Accuracy: 0.9559, Testing Accuracy: 0.9627\n",
      "\n"
     ]
    },
    {
     "name": "stdout",
     "output_type": "stream",
     "text": [
      "Epoch 160, Loss 0.041\n",
      "Training Accuracy: 0.9564, Testing Accuracy: 0.9632\n",
      "\n"
     ]
    },
    {
     "name": "stdout",
     "output_type": "stream",
     "text": [
      "Epoch 170, Loss 0.0403\n",
      "Training Accuracy: 0.9567, Testing Accuracy: 0.9637\n",
      "\n"
     ]
    },
    {
     "name": "stdout",
     "output_type": "stream",
     "text": [
      "Epoch 180, Loss 0.0398\n",
      "Training Accuracy: 0.9573, Testing Accuracy: 0.9642\n",
      "\n"
     ]
    },
    {
     "name": "stdout",
     "output_type": "stream",
     "text": [
      "Epoch 190, Loss 0.0392\n",
      "Training Accuracy: 0.9576, Testing Accuracy: 0.9642\n",
      "\n"
     ]
    },
    {
     "name": "stdout",
     "output_type": "stream",
     "text": [
      "Epoch 200, Loss 0.0387\n",
      "Training Accuracy: 0.9578, Testing Accuracy: 0.9642\n",
      "\n"
     ]
    },
    {
     "name": "stdout",
     "output_type": "stream",
     "text": [
      "Epoch 210, Loss 0.0383\n",
      "Training Accuracy: 0.9585, Testing Accuracy: 0.9652\n",
      "\n"
     ]
    },
    {
     "name": "stdout",
     "output_type": "stream",
     "text": [
      "Epoch 220, Loss 0.0379\n",
      "Training Accuracy: 0.9591, Testing Accuracy: 0.9652\n",
      "\n"
     ]
    },
    {
     "name": "stdout",
     "output_type": "stream",
     "text": [
      "Epoch 230, Loss 0.0375\n",
      "Training Accuracy: 0.9597, Testing Accuracy: 0.9652\n",
      "\n"
     ]
    },
    {
     "name": "stdout",
     "output_type": "stream",
     "text": [
      "Epoch 240, Loss 0.0371\n",
      "Training Accuracy: 0.9598, Testing Accuracy: 0.9652\n",
      "\n"
     ]
    },
    {
     "data": {
      "text/plain": [
       "0.029405330445007254"
      ]
     },
     "execution_count": 23,
     "metadata": {},
     "output_type": "execute_result"
    }
   ],
   "source": [
    "lr_learner.train_loop(dl)"
   ]
  },
  {
   "cell_type": "code",
   "execution_count": 24,
   "id": "ca410940",
   "metadata": {
    "execution": {
     "iopub.execute_input": "2022-11-16T10:12:37.187844Z",
     "iopub.status.busy": "2022-11-16T10:12:37.187288Z",
     "iopub.status.idle": "2022-11-16T10:12:37.408032Z",
     "shell.execute_reply": "2022-11-16T10:12:37.408717Z"
    },
    "papermill": {
     "duration": 0.273458,
     "end_time": "2022-11-16T10:12:37.408846",
     "exception": false,
     "start_time": "2022-11-16T10:12:37.135388",
     "status": "completed"
    },
    "tags": []
   },
   "outputs": [
    {
     "data": {
      "text/plain": [
       "<matplotlib.legend.Legend at 0x7ffa11bb25c0>"
      ]
     },
     "execution_count": 24,
     "metadata": {},
     "output_type": "execute_result"
    },
    {
     "data": {
      "image/png": "[encoded data removed]",
      "text/plain": [
       "<Figure size 1080x720 with 1 Axes>"
      ]
     },
     "metadata": {
      "needs_background": "light"
     },
     "output_type": "display_data"
    }
   ],
   "source": [
    "#comparing the results of NN and LR\n",
    "plt.figure(figsize=(15,10))\n",
    "\n",
    "# Neural Network plots\n",
    "plt.plot(acc_nn.accuracies, 'r-', label = \"Training Accuracies - NN\")\n",
    "plt.plot(acc_nn.test_accuracies, 'g-', label = \"Testing Accuracies - NN\")\n",
    "\n",
    "# Logistic Regression plots\n",
    "plt.plot(acc_lr.accuracies, 'k-', label = \"Training Accuracies - LR\")\n",
    "plt.plot(acc_lr.test_accuracies, 'b-', label = \"Testing Accuracies - LR\")\n",
    "plt.legend()"
   ]
  },
  {
   "cell_type": "markdown",
   "id": "80dfb35c",
   "metadata": {
    "papermill": {
     "duration": 0.039981,
     "end_time": "2022-11-16T10:12:37.487987",
     "exception": false,
     "start_time": "2022-11-16T10:12:37.448006",
     "status": "completed"
    },
    "tags": []
   },
   "source": [
    "#### Plotting the outputs of this layer of the NN.\n"
   ]
  },
  {
   "cell_type": "code",
   "execution_count": 25,
   "id": "45eb2ff5",
   "metadata": {
    "execution": {
     "iopub.execute_input": "2022-11-16T10:12:37.566604Z",
     "iopub.status.busy": "2022-11-16T10:12:37.566093Z",
     "iopub.status.idle": "2022-11-16T10:12:37.585652Z",
     "shell.execute_reply": "2022-11-16T10:12:37.586026Z"
    },
    "papermill": {
     "duration": 0.061206,
     "end_time": "2022-11-16T10:12:37.586136",
     "exception": false,
     "start_time": "2022-11-16T10:12:37.524930",
     "status": "completed"
    },
    "tags": []
   },
   "outputs": [],
   "source": [
    "new_model = Model(layers[:-2])\n",
    "testing_plot = new_model(testing_data_x)"
   ]
  },
  {
   "cell_type": "code",
   "execution_count": 26,
   "id": "4c0a5485",
   "metadata": {
    "execution": {
     "iopub.execute_input": "2022-11-16T10:12:37.667862Z",
     "iopub.status.busy": "2022-11-16T10:12:37.667246Z",
     "iopub.status.idle": "2022-11-16T10:12:37.873899Z",
     "shell.execute_reply": "2022-11-16T10:12:37.873516Z"
    },
    "papermill": {
     "duration": 0.248895,
     "end_time": "2022-11-16T10:12:37.873996",
     "exception": false,
     "start_time": "2022-11-16T10:12:37.625101",
     "status": "completed"
    },
    "tags": []
   },
   "outputs": [
    {
     "data": {
      "text/plain": [
       "Text(0.5, 1.0, 'Outputs')"
      ]
     },
     "execution_count": 26,
     "metadata": {},
     "output_type": "execute_result"
    },
    {
     "data": {
      "image/png": "[encoded data removed]",
      "text/plain": [
       "<Figure size 576x504 with 1 Axes>"
      ]
     },
     "metadata": {
      "needs_background": "light"
     },
     "output_type": "display_data"
    }
   ],
   "source": [
    "# Plotting the scatter plot of points and color coding by class\n",
    "plt.figure(figsize=(8,7))\n",
    "plt.scatter(testing_plot[:,0], testing_plot[:,1], alpha = 0.1, c = y_test.ravel());\n",
    "plt.title('Outputs')"
   ]
  },
  {
   "cell_type": "markdown",
   "id": "a74fcf8f",
   "metadata": {
    "papermill": {
     "duration": 0.037544,
     "end_time": "2022-11-16T10:12:37.949902",
     "exception": false,
     "start_time": "2022-11-16T10:12:37.912358",
     "status": "completed"
    },
    "tags": []
   },
   "source": [
    "Probability contours"
   ]
  },
  {
   "cell_type": "code",
   "execution_count": 27,
   "id": "d0afc8e3",
   "metadata": {
    "execution": {
     "iopub.execute_input": "2022-11-16T10:12:38.032107Z",
     "iopub.status.busy": "2022-11-16T10:12:38.031542Z",
     "iopub.status.idle": "2022-11-16T10:12:38.043924Z",
     "shell.execute_reply": "2022-11-16T10:12:38.044471Z"
    },
    "papermill": {
     "duration": 0.056368,
     "end_time": "2022-11-16T10:12:38.044616",
     "exception": false,
     "start_time": "2022-11-16T10:12:37.988248",
     "status": "completed"
    },
    "tags": []
   },
   "outputs": [],
   "source": [
    "model_prob = Model(layers[-2:]) "
   ]
  },
  {
   "cell_type": "code",
   "execution_count": 28,
   "id": "9b96e238",
   "metadata": {
    "execution": {
     "iopub.execute_input": "2022-11-16T10:12:38.136465Z",
     "iopub.status.busy": "2022-11-16T10:12:38.135910Z",
     "iopub.status.idle": "2022-11-16T10:12:38.147683Z",
     "shell.execute_reply": "2022-11-16T10:12:38.148041Z"
    },
    "papermill": {
     "duration": 0.059378,
     "end_time": "2022-11-16T10:12:38.148147",
     "exception": false,
     "start_time": "2022-11-16T10:12:38.088769",
     "status": "completed"
    },
    "tags": []
   },
   "outputs": [],
   "source": [
    "#creating the x and y ranges according to the above generated plot.\n",
    "x_range = np.linspace(-4, 1, 100) \n",
    "y_range = np.linspace(-6, 6, 100) \n",
    "x_grid, y_grid = np.meshgrid(x_range, y_range) # x_grid and y_grig are of size 100 X 100\n",
    "\n",
    "# converting x_grid and y_grid to continuous arrays\n",
    "x_gridflat = np.ravel(x_grid)\n",
    "y_gridflat = np.ravel(y_grid)\n",
    "\n",
    "# The last layer of the current model takes two columns as input. Hence transpose of np.vstack() is required.\n",
    "X = np.vstack((x_gridflat, y_gridflat)).T\n",
    "\n",
    "prob_contour = model_prob(X).reshape(100,100) "
   ]
  },
  {
   "cell_type": "code",
   "execution_count": 29,
   "id": "da72499a",
   "metadata": {
    "execution": {
     "iopub.execute_input": "2022-11-16T10:12:38.273828Z",
     "iopub.status.busy": "2022-11-16T10:12:38.273268Z",
     "iopub.status.idle": "2022-11-16T10:12:38.509089Z",
     "shell.execute_reply": "2022-11-16T10:12:38.508233Z"
    },
    "papermill": {
     "duration": 0.293792,
     "end_time": "2022-11-16T10:12:38.509224",
     "exception": false,
     "start_time": "2022-11-16T10:12:38.215432",
     "status": "completed"
    },
    "tags": []
   },
   "outputs": [
    {
     "data": {
      "image/png": "[encoded data removed]",
      "text/plain": [
       "<Figure size 720x648 with 1 Axes>"
      ]
     },
     "metadata": {
      "needs_background": "light"
     },
     "output_type": "display_data"
    }
   ],
   "source": [
    "plt.figure(figsize=(10,9))\n",
    "plt.scatter(testing_plot[:,0], testing_plot[:,1], alpha = 0.1, c = y_test.ravel())\n",
    "contours = plt.contour(x_grid,y_grid,prob_contour)\n",
    "plt.title('Probability Contours')\n",
    "plt.clabel(contours, inline = True );"
   ]
  },
  {
   "cell_type": "code",
   "execution_count": null,
   "id": "e81b4ac7",
   "metadata": {
    "papermill": {
     "duration": 0.041479,
     "end_time": "2022-11-16T10:12:38.592736",
     "exception": false,
     "start_time": "2022-11-16T10:12:38.551257",
     "status": "completed"
    },
    "tags": []
   },
   "outputs": [],
   "source": []
  }
 ],
 "metadata": {
  "kernelspec": {
   "display_name": "Python 3",
   "language": "python",
   "name": "python3"
  },
  "language_info": {
   "codemirror_mode": {
    "name": "ipython",
    "version": 3
   },
   "file_extension": ".py",
   "mimetype": "text/x-python",
   "name": "python",
   "nbconvert_exporter": "python",
   "pygments_lexer": "ipython3",
   "version": "3.6.15"
  },
  "papermill": {
   "default_parameters": {},
   "duration": 100.6555,
   "end_time": "2022-11-16T10:12:39.055857",
   "environment_variables": {},
   "exception": null,
   "input_path": "2020-08-11-part2.ipynb",
   "output_path": "2020-08-11-part2.ipynb",
   "parameters": {},
   "start_time": "2022-11-16T10:10:58.400357",
   "version": "2.3.3"
  }
 },
 "nbformat": 4,
 "nbformat_minor": 5
}