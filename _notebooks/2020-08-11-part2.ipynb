{
 "cells": [
  {
   "cell_type": "markdown",
   "id": "98380cd3",
   "metadata": {
    "papermill": {
     "duration": 0.032481,
     "end_time": "2022-01-02T10:08:22.868855",
     "exception": false,
     "start_time": "2022-01-02T10:08:22.836374",
     "status": "completed"
    },
    "tags": []
   },
   "source": [
    "# Distinguish Your Own Digits (DYOD)"
   ]
  },
  {
   "cell_type": "markdown",
   "id": "ef31240d",
   "metadata": {
    "papermill": {
     "duration": 0.03043,
     "end_time": "2022-01-02T10:08:22.927892",
     "exception": false,
     "start_time": "2022-01-02T10:08:22.897462",
     "status": "completed"
    },
    "tags": []
   },
   "source": [
    "You are going to write a classifier that distinguishes between the number 3 and number 8."
   ]
  },
  {
   "cell_type": "code",
   "execution_count": 1,
   "id": "b15c8646",
   "metadata": {
    "execution": {
     "iopub.execute_input": "2022-01-02T10:08:22.996105Z",
     "iopub.status.busy": "2022-01-02T10:08:22.995452Z",
     "iopub.status.idle": "2022-01-02T10:08:23.006019Z",
     "shell.execute_reply": "2022-01-02T10:08:23.006458Z"
    },
    "papermill": {
     "duration": 0.050401,
     "end_time": "2022-01-02T10:08:23.006602",
     "exception": false,
     "start_time": "2022-01-02T10:08:22.956201",
     "status": "completed"
    },
    "tags": []
   },
   "outputs": [],
   "source": [
    "%load_ext autoreload\n",
    "%autoreload 2"
   ]
  },
  {
   "cell_type": "code",
   "execution_count": 2,
   "id": "22ef38dc",
   "metadata": {
    "execution": {
     "iopub.execute_input": "2022-01-02T10:08:23.069338Z",
     "iopub.status.busy": "2022-01-02T10:08:23.068718Z",
     "iopub.status.idle": "2022-01-02T10:08:23.693157Z",
     "shell.execute_reply": "2022-01-02T10:08:23.692633Z"
    },
    "papermill": {
     "duration": 0.658627,
     "end_time": "2022-01-02T10:08:23.693309",
     "exception": false,
     "start_time": "2022-01-02T10:08:23.034682",
     "status": "completed"
    },
    "tags": []
   },
   "outputs": [],
   "source": [
    "%matplotlib inline\n",
    "import numpy as np\n",
    "import matplotlib.pyplot as plt\n",
    "import pandas as pd"
   ]
  },
  {
   "cell_type": "markdown",
   "id": "ba036198",
   "metadata": {
    "papermill": {
     "duration": 0.02935,
     "end_time": "2022-01-02T10:08:23.751604",
     "exception": false,
     "start_time": "2022-01-02T10:08:23.722254",
     "status": "completed"
    },
    "tags": []
   },
   "source": [
    "From the command line run `pip install mnist`. This is a library that will help you bring down the mnist dataset. If you run this from a notebook, you need to put  `!pip install mnist` in a cell by itself."
   ]
  },
  {
   "cell_type": "code",
   "execution_count": 3,
   "id": "bb6ad8a1",
   "metadata": {
    "execution": {
     "iopub.execute_input": "2022-01-02T10:08:23.811870Z",
     "iopub.status.busy": "2022-01-02T10:08:23.811227Z",
     "iopub.status.idle": "2022-01-02T10:08:26.535276Z",
     "shell.execute_reply": "2022-01-02T10:08:26.535828Z"
    },
    "papermill": {
     "duration": 2.756694,
     "end_time": "2022-01-02T10:08:26.535990",
     "exception": false,
     "start_time": "2022-01-02T10:08:23.779296",
     "status": "completed"
    },
    "tags": []
   },
   "outputs": [
    {
     "name": "stdout",
     "output_type": "stream",
     "text": [
      "Collecting mnist\r\n"
     ]
    },
    {
     "name": "stdout",
     "output_type": "stream",
     "text": [
      "  Downloading mnist-0.2.2-py2.py3-none-any.whl (3.5 kB)\r\n",
      "Requirement already satisfied: numpy in /opt/hostedtoolcache/Python/3.6.15/x64/lib/python3.6/site-packages (from mnist) (1.19.5)\r\n"
     ]
    },
    {
     "name": "stdout",
     "output_type": "stream",
     "text": [
      "Installing collected packages: mnist\r\n",
      "Successfully installed mnist-0.2.2\r\n"
     ]
    }
   ],
   "source": [
    "!pip install mnist"
   ]
  },
  {
   "cell_type": "markdown",
   "id": "69df9c9a",
   "metadata": {
    "papermill": {
     "duration": 0.031138,
     "end_time": "2022-01-02T10:08:26.597647",
     "exception": false,
     "start_time": "2022-01-02T10:08:26.566509",
     "status": "completed"
    },
    "tags": []
   },
   "source": [
    "## Preparing the Data"
   ]
  },
  {
   "cell_type": "code",
   "execution_count": 4,
   "id": "7f69d806",
   "metadata": {
    "execution": {
     "iopub.execute_input": "2022-01-02T10:08:26.660299Z",
     "iopub.status.busy": "2022-01-02T10:08:26.659631Z",
     "iopub.status.idle": "2022-01-02T10:08:26.673802Z",
     "shell.execute_reply": "2022-01-02T10:08:26.673020Z"
    },
    "papermill": {
     "duration": 0.049018,
     "end_time": "2022-01-02T10:08:26.673939",
     "exception": false,
     "start_time": "2022-01-02T10:08:26.624921",
     "status": "completed"
    },
    "tags": []
   },
   "outputs": [],
   "source": [
    "import mnist"
   ]
  },
  {
   "cell_type": "code",
   "execution_count": 5,
   "id": "a411e44f",
   "metadata": {
    "execution": {
     "iopub.execute_input": "2022-01-02T10:08:26.734751Z",
     "iopub.status.busy": "2022-01-02T10:08:26.734140Z",
     "iopub.status.idle": "2022-01-02T10:08:27.271974Z",
     "shell.execute_reply": "2022-01-02T10:08:27.272546Z"
    },
    "papermill": {
     "duration": 0.57136,
     "end_time": "2022-01-02T10:08:27.272718",
     "exception": false,
     "start_time": "2022-01-02T10:08:26.701358",
     "status": "completed"
    },
    "tags": []
   },
   "outputs": [],
   "source": [
    "train_images = mnist.train_images()\n",
    "train_labels = mnist.train_labels()"
   ]
  },
  {
   "cell_type": "code",
   "execution_count": 6,
   "id": "dceab3a5",
   "metadata": {
    "execution": {
     "iopub.execute_input": "2022-01-02T10:08:27.335683Z",
     "iopub.status.busy": "2022-01-02T10:08:27.334892Z",
     "iopub.status.idle": "2022-01-02T10:08:27.351509Z",
     "shell.execute_reply": "2022-01-02T10:08:27.351987Z"
    },
    "papermill": {
     "duration": 0.049035,
     "end_time": "2022-01-02T10:08:27.352111",
     "exception": false,
     "start_time": "2022-01-02T10:08:27.303076",
     "status": "completed"
    },
    "tags": []
   },
   "outputs": [
    {
     "data": {
      "text/plain": [
       "((60000, 28, 28), (60000,))"
      ]
     },
     "execution_count": 6,
     "metadata": {},
     "output_type": "execute_result"
    }
   ],
   "source": [
    "train_images.shape, train_labels.shape"
   ]
  },
  {
   "cell_type": "code",
   "execution_count": 7,
   "id": "f50dc2bb",
   "metadata": {
    "execution": {
     "iopub.execute_input": "2022-01-02T10:08:27.417963Z",
     "iopub.status.busy": "2022-01-02T10:08:27.417353Z",
     "iopub.status.idle": "2022-01-02T10:08:27.535312Z",
     "shell.execute_reply": "2022-01-02T10:08:27.534727Z"
    },
    "papermill": {
     "duration": 0.15197,
     "end_time": "2022-01-02T10:08:27.535464",
     "exception": false,
     "start_time": "2022-01-02T10:08:27.383494",
     "status": "completed"
    },
    "tags": []
   },
   "outputs": [],
   "source": [
    "test_images = mnist.test_images()\n",
    "test_labels = mnist.test_labels()"
   ]
  },
  {
   "cell_type": "code",
   "execution_count": 8,
   "id": "fc38cf1b",
   "metadata": {
    "execution": {
     "iopub.execute_input": "2022-01-02T10:08:27.607096Z",
     "iopub.status.busy": "2022-01-02T10:08:27.606421Z",
     "iopub.status.idle": "2022-01-02T10:08:27.622627Z",
     "shell.execute_reply": "2022-01-02T10:08:27.622089Z"
    },
    "papermill": {
     "duration": 0.057048,
     "end_time": "2022-01-02T10:08:27.622762",
     "exception": false,
     "start_time": "2022-01-02T10:08:27.565714",
     "status": "completed"
    },
    "tags": []
   },
   "outputs": [
    {
     "data": {
      "text/plain": [
       "((10000, 28, 28), (10000,))"
      ]
     },
     "execution_count": 8,
     "metadata": {},
     "output_type": "execute_result"
    }
   ],
   "source": [
    "test_images.shape, test_labels.shape"
   ]
  },
  {
   "cell_type": "code",
   "execution_count": 9,
   "id": "f9ed8fe0",
   "metadata": {
    "execution": {
     "iopub.execute_input": "2022-01-02T10:08:27.685435Z",
     "iopub.status.busy": "2022-01-02T10:08:27.684867Z",
     "iopub.status.idle": "2022-01-02T10:08:27.876619Z",
     "shell.execute_reply": "2022-01-02T10:08:27.876075Z"
    },
    "papermill": {
     "duration": 0.225272,
     "end_time": "2022-01-02T10:08:27.876789",
     "exception": false,
     "start_time": "2022-01-02T10:08:27.651517",
     "status": "completed"
    },
    "tags": []
   },
   "outputs": [
    {
     "name": "stdout",
     "output_type": "stream",
     "text": [
      "2\n"
     ]
    },
    {
     "data": {
      "text/plain": [
       "<matplotlib.image.AxesImage at 0x7f77708f32e8>"
      ]
     },
     "execution_count": 9,
     "metadata": {},
     "output_type": "execute_result"
    },
    {
     "data": {
      "image/png": "[encoded data removed]",
      "text/plain": [
       "<Figure size 432x288 with 1 Axes>"
      ]
     },
     "metadata": {
      "needs_background": "light"
     },
     "output_type": "display_data"
    }
   ],
   "source": [
    "image_index = 7776 # You may select anything up to 60,000\n",
    "print(train_labels[image_index]) \n",
    "plt.imshow(train_images[image_index], cmap='Greys')"
   ]
  },
  {
   "cell_type": "markdown",
   "id": "a8d2388d",
   "metadata": {
    "papermill": {
     "duration": 0.03676,
     "end_time": "2022-01-02T10:08:27.943335",
     "exception": false,
     "start_time": "2022-01-02T10:08:27.906575",
     "status": "completed"
    },
    "tags": []
   },
   "source": [
    "## Filter data to get 3 and 8 out"
   ]
  },
  {
   "cell_type": "code",
   "execution_count": 10,
   "id": "776f7fc7",
   "metadata": {
    "execution": {
     "iopub.execute_input": "2022-01-02T10:08:28.011235Z",
     "iopub.status.busy": "2022-01-02T10:08:28.010674Z",
     "iopub.status.idle": "2022-01-02T10:08:28.032966Z",
     "shell.execute_reply": "2022-01-02T10:08:28.032372Z"
    },
    "papermill": {
     "duration": 0.055983,
     "end_time": "2022-01-02T10:08:28.033092",
     "exception": false,
     "start_time": "2022-01-02T10:08:27.977109",
     "status": "completed"
    },
    "tags": []
   },
   "outputs": [],
   "source": [
    "train_filter = np.where((train_labels == 3 ) | (train_labels == 8))\n",
    "test_filter = np.where((test_labels == 3) | (test_labels == 8))\n",
    "X_train, y_train = train_images[train_filter], train_labels[train_filter]\n",
    "X_test, y_test = test_images[test_filter], test_labels[test_filter]"
   ]
  },
  {
   "cell_type": "markdown",
   "id": "948f0b7e",
   "metadata": {
    "papermill": {
     "duration": 0.029852,
     "end_time": "2022-01-02T10:08:28.099189",
     "exception": false,
     "start_time": "2022-01-02T10:08:28.069337",
     "status": "completed"
    },
    "tags": []
   },
   "source": [
    "We normalize the pizel values in the 0 to 1 range"
   ]
  },
  {
   "cell_type": "code",
   "execution_count": 11,
   "id": "ee4c2166",
   "metadata": {
    "execution": {
     "iopub.execute_input": "2022-01-02T10:08:28.176597Z",
     "iopub.status.busy": "2022-01-02T10:08:28.174914Z",
     "iopub.status.idle": "2022-01-02T10:08:28.230619Z",
     "shell.execute_reply": "2022-01-02T10:08:28.230090Z"
    },
    "papermill": {
     "duration": 0.099596,
     "end_time": "2022-01-02T10:08:28.230751",
     "exception": false,
     "start_time": "2022-01-02T10:08:28.131155",
     "status": "completed"
    },
    "tags": []
   },
   "outputs": [],
   "source": [
    "X_train = X_train/255.\n",
    "X_test = X_test/255."
   ]
  },
  {
   "cell_type": "markdown",
   "id": "ddcf4fab",
   "metadata": {
    "papermill": {
     "duration": 0.031473,
     "end_time": "2022-01-02T10:08:28.292819",
     "exception": false,
     "start_time": "2022-01-02T10:08:28.261346",
     "status": "completed"
    },
    "tags": []
   },
   "source": [
    "And setup the labels as 1 (when the digit is 3) and 0 (when the digit is 8)"
   ]
  },
  {
   "cell_type": "code",
   "execution_count": 12,
   "id": "7dc908f2",
   "metadata": {
    "execution": {
     "iopub.execute_input": "2022-01-02T10:08:28.361771Z",
     "iopub.status.busy": "2022-01-02T10:08:28.357448Z",
     "iopub.status.idle": "2022-01-02T10:08:28.371357Z",
     "shell.execute_reply": "2022-01-02T10:08:28.370865Z"
    },
    "papermill": {
     "duration": 0.047755,
     "end_time": "2022-01-02T10:08:28.371476",
     "exception": false,
     "start_time": "2022-01-02T10:08:28.323721",
     "status": "completed"
    },
    "tags": []
   },
   "outputs": [],
   "source": [
    "y_train = 1*(y_train==3)\n",
    "y_test = 1*(y_test==3)"
   ]
  },
  {
   "cell_type": "code",
   "execution_count": 13,
   "id": "01e4e969",
   "metadata": {
    "execution": {
     "iopub.execute_input": "2022-01-02T10:08:28.438868Z",
     "iopub.status.busy": "2022-01-02T10:08:28.438255Z",
     "iopub.status.idle": "2022-01-02T10:08:28.451259Z",
     "shell.execute_reply": "2022-01-02T10:08:28.450807Z"
    },
    "papermill": {
     "duration": 0.049023,
     "end_time": "2022-01-02T10:08:28.451367",
     "exception": false,
     "start_time": "2022-01-02T10:08:28.402344",
     "status": "completed"
    },
    "tags": []
   },
   "outputs": [
    {
     "data": {
      "text/plain": [
       "((11982, 28, 28), (1984, 28, 28))"
      ]
     },
     "execution_count": 13,
     "metadata": {},
     "output_type": "execute_result"
    }
   ],
   "source": [
    "X_train.shape, X_test.shape"
   ]
  },
  {
   "cell_type": "markdown",
   "id": "5ccf3f85",
   "metadata": {
    "papermill": {
     "duration": 0.02794,
     "end_time": "2022-01-02T10:08:28.512766",
     "exception": false,
     "start_time": "2022-01-02T10:08:28.484826",
     "status": "completed"
    },
    "tags": []
   },
   "source": [
    "We reshape the data to flatten the image pixels into a set of features or co-variates:"
   ]
  },
  {
   "cell_type": "code",
   "execution_count": 14,
   "id": "5286a4a3",
   "metadata": {
    "execution": {
     "iopub.execute_input": "2022-01-02T10:08:28.586627Z",
     "iopub.status.busy": "2022-01-02T10:08:28.586096Z",
     "iopub.status.idle": "2022-01-02T10:08:28.598492Z",
     "shell.execute_reply": "2022-01-02T10:08:28.599367Z"
    },
    "papermill": {
     "duration": 0.052668,
     "end_time": "2022-01-02T10:08:28.599514",
     "exception": false,
     "start_time": "2022-01-02T10:08:28.546846",
     "status": "completed"
    },
    "tags": []
   },
   "outputs": [
    {
     "data": {
      "text/plain": [
       "((11982, 784), (1984, 784))"
      ]
     },
     "execution_count": 14,
     "metadata": {},
     "output_type": "execute_result"
    }
   ],
   "source": [
    "X_train = X_train.reshape(X_train.shape[0], -1)\n",
    "X_test = X_test.reshape(X_test.shape[0], -1)\n",
    "X_train.shape, X_test.shape"
   ]
  },
  {
   "cell_type": "code",
   "execution_count": 15,
   "id": "73c5f88a",
   "metadata": {
    "execution": {
     "iopub.execute_input": "2022-01-02T10:08:28.669251Z",
     "iopub.status.busy": "2022-01-02T10:08:28.668589Z",
     "iopub.status.idle": "2022-01-02T10:08:28.687932Z",
     "shell.execute_reply": "2022-01-02T10:08:28.688497Z"
    },
    "papermill": {
     "duration": 0.05402,
     "end_time": "2022-01-02T10:08:28.688619",
     "exception": false,
     "start_time": "2022-01-02T10:08:28.634599",
     "status": "completed"
    },
    "tags": []
   },
   "outputs": [],
   "source": [
    "#Impoting functions from 'Kudzu'\n",
    "from kudzu.model import Model\n",
    "from kudzu.train import Learner\n",
    "from kudzu.optim import GD\n",
    "from kudzu.data import Data, Sampler,Dataloader\n",
    "\n",
    "from kudzu.callbacks import AccCallback\n",
    "from kudzu.callbacks import ClfCallback\n",
    "\n",
    "from kudzu.loss import MSE\n",
    "\n",
    "from kudzu.layer import Sigmoid,Relu\n",
    "from kudzu.layer import Affine"
   ]
  },
  {
   "cell_type": "markdown",
   "id": "bc01172a",
   "metadata": {
    "papermill": {
     "duration": 0.030785,
     "end_time": "2022-01-02T10:08:28.753638",
     "exception": false,
     "start_time": "2022-01-02T10:08:28.722853",
     "status": "completed"
    },
    "tags": []
   },
   "source": [
    "### Let us create a `Config` class, to store important parameters. \n",
    "This class essentially plays the role of a dictionary."
   ]
  },
  {
   "cell_type": "code",
   "execution_count": 16,
   "id": "978281aa",
   "metadata": {
    "execution": {
     "iopub.execute_input": "2022-01-02T10:08:28.828683Z",
     "iopub.status.busy": "2022-01-02T10:08:28.828106Z",
     "iopub.status.idle": "2022-01-02T10:08:28.839638Z",
     "shell.execute_reply": "2022-01-02T10:08:28.839194Z"
    },
    "papermill": {
     "duration": 0.050889,
     "end_time": "2022-01-02T10:08:28.839776",
     "exception": false,
     "start_time": "2022-01-02T10:08:28.788887",
     "status": "completed"
    },
    "tags": []
   },
   "outputs": [],
   "source": [
    "class Config:\n",
    "    pass\n",
    "config = Config()\n",
    "config.lr = 0.001\n",
    "config.num_epochs = 250\n",
    "config.bs = 50"
   ]
  },
  {
   "cell_type": "markdown",
   "id": "1385fa59",
   "metadata": {
    "papermill": {
     "duration": 0.033626,
     "end_time": "2022-01-02T10:08:28.904496",
     "exception": false,
     "start_time": "2022-01-02T10:08:28.870870",
     "status": "completed"
    },
    "tags": []
   },
   "source": [
    "### Running Models with the Training data\n",
    "Details about the network layers:\n",
    "- A first affine layer has 784 inputs and does 100 affine transforms. These are followed by a Relu\n",
    "- A second affine layer has 100 inputs from the 100 activations of the past layer, and does 100 affine transforms. These are followed by a Relu\n",
    "- A third affine layer has 100 activations and does 2 affine transformations to create an embedding for visualization. There is no non-linearity here.\n",
    "- A final \"logistic regression\" which has an affine transform from 2 inputs to 1 output, which is squeezed through a sigmoid.\n"
   ]
  },
  {
   "cell_type": "code",
   "execution_count": 17,
   "id": "2b9c66db",
   "metadata": {
    "execution": {
     "iopub.execute_input": "2022-01-02T10:08:28.977801Z",
     "iopub.status.busy": "2022-01-02T10:08:28.977224Z",
     "iopub.status.idle": "2022-01-02T10:08:28.990060Z",
     "shell.execute_reply": "2022-01-02T10:08:28.990507Z"
    },
    "papermill": {
     "duration": 0.052132,
     "end_time": "2022-01-02T10:08:28.990631",
     "exception": false,
     "start_time": "2022-01-02T10:08:28.938499",
     "status": "completed"
    },
    "tags": []
   },
   "outputs": [],
   "source": [
    "data = Data(X_train, y_train.reshape(-1,1))\n",
    "sampler = Sampler(data, config.bs, shuffle=True)\n",
    "\n",
    "dl = Dataloader(data, sampler)\n",
    "\n",
    "opt = GD(config.lr)\n",
    "loss = MSE()"
   ]
  },
  {
   "cell_type": "code",
   "execution_count": 18,
   "id": "b275e4c2",
   "metadata": {
    "execution": {
     "iopub.execute_input": "2022-01-02T10:08:29.064586Z",
     "iopub.status.busy": "2022-01-02T10:08:29.063564Z",
     "iopub.status.idle": "2022-01-02T10:08:29.081969Z",
     "shell.execute_reply": "2022-01-02T10:08:29.082477Z"
    },
    "papermill": {
     "duration": 0.052386,
     "end_time": "2022-01-02T10:08:29.082636",
     "exception": false,
     "start_time": "2022-01-02T10:08:29.030250",
     "status": "completed"
    },
    "tags": []
   },
   "outputs": [],
   "source": [
    "training_data_x = X_train\n",
    "testing_data_x = X_test\n",
    "training_data_y = y_train.reshape(-1,1)\n",
    "testing_data_y = y_test.reshape(-1,1)"
   ]
  },
  {
   "cell_type": "code",
   "execution_count": 19,
   "id": "76951160",
   "metadata": {
    "execution": {
     "iopub.execute_input": "2022-01-02T10:08:29.156212Z",
     "iopub.status.busy": "2022-01-02T10:08:29.155582Z",
     "iopub.status.idle": "2022-01-02T10:08:29.174695Z",
     "shell.execute_reply": "2022-01-02T10:08:29.173149Z"
    },
    "papermill": {
     "duration": 0.056157,
     "end_time": "2022-01-02T10:08:29.174848",
     "exception": false,
     "start_time": "2022-01-02T10:08:29.118691",
     "status": "completed"
    },
    "tags": []
   },
   "outputs": [
    {
     "name": "stdout",
     "output_type": "stream",
     "text": [
      "xavier\n",
      "xavier\n",
      "xavier\n",
      "xavier\n",
      "xavier\n"
     ]
    }
   ],
   "source": [
    "layers = [Affine(\"first\", 784, 100), Relu(\"first\"), Affine(\"second\", 100, 100), Relu(\"second\"), Affine(\"third\", 100, 2), Affine(\"last\", 2, 1), Sigmoid(\"last\")]\n",
    "model_nn = Model(layers)\n",
    "model_lr = Model([Affine(\"logits\", 784, 1), Sigmoid(\"sigmoid\")])"
   ]
  },
  {
   "cell_type": "code",
   "execution_count": 20,
   "id": "6eede77a",
   "metadata": {
    "execution": {
     "iopub.execute_input": "2022-01-02T10:08:29.251873Z",
     "iopub.status.busy": "2022-01-02T10:08:29.251242Z",
     "iopub.status.idle": "2022-01-02T10:08:29.265223Z",
     "shell.execute_reply": "2022-01-02T10:08:29.265993Z"
    },
    "papermill": {
     "duration": 0.053095,
     "end_time": "2022-01-02T10:08:29.266177",
     "exception": false,
     "start_time": "2022-01-02T10:08:29.213082",
     "status": "completed"
    },
    "tags": []
   },
   "outputs": [],
   "source": [
    "nn_learner = Learner(loss, model_nn, opt, config.num_epochs)\n",
    "acc_nn = ClfCallback(nn_learner, config.bs, training_data_x , testing_data_x, training_data_y, testing_data_y)\n",
    "nn_learner.set_callbacks([acc_nn])"
   ]
  },
  {
   "cell_type": "code",
   "execution_count": 21,
   "id": "877b6cc7",
   "metadata": {
    "execution": {
     "iopub.execute_input": "2022-01-02T10:08:29.338431Z",
     "iopub.status.busy": "2022-01-02T10:08:29.337819Z",
     "iopub.status.idle": "2022-01-02T10:08:29.350291Z",
     "shell.execute_reply": "2022-01-02T10:08:29.350781Z"
    },
    "papermill": {
     "duration": 0.050472,
     "end_time": "2022-01-02T10:08:29.350932",
     "exception": false,
     "start_time": "2022-01-02T10:08:29.300460",
     "status": "completed"
    },
    "tags": []
   },
   "outputs": [],
   "source": [
    "lr_learner = Learner(loss, model_lr, opt, config.num_epochs)\n",
    "acc_lr = ClfCallback(lr_learner, config.bs, training_data_x , testing_data_x, training_data_y, testing_data_y)\n",
    "lr_learner.set_callbacks([acc_lr])"
   ]
  },
  {
   "cell_type": "code",
   "execution_count": 22,
   "id": "d9b133c3",
   "metadata": {
    "execution": {
     "iopub.execute_input": "2022-01-02T10:08:29.434148Z",
     "iopub.status.busy": "2022-01-02T10:08:29.433552Z",
     "iopub.status.idle": "2022-01-02T10:10:53.167881Z",
     "shell.execute_reply": "2022-01-02T10:10:53.168964Z"
    },
    "papermill": {
     "duration": 143.780967,
     "end_time": "2022-01-02T10:10:53.169123",
     "exception": false,
     "start_time": "2022-01-02T10:08:29.388156",
     "status": "completed"
    },
    "tags": []
   },
   "outputs": [
    {
     "name": "stdout",
     "output_type": "stream",
     "text": [
      "Epoch 0, Loss 0.2277\n",
      "Training Accuracy: 0.7626, Testing Accuracy: 0.7681\n",
      "\n"
     ]
    },
    {
     "name": "stdout",
     "output_type": "stream",
     "text": [
      "Epoch 10, Loss 0.0641\n",
      "Training Accuracy: 0.9353, Testing Accuracy: 0.9496\n",
      "\n"
     ]
    },
    {
     "name": "stdout",
     "output_type": "stream",
     "text": [
      "Epoch 20, Loss 0.0453\n",
      "Training Accuracy: 0.9511, Testing Accuracy: 0.9632\n",
      "\n"
     ]
    },
    {
     "name": "stdout",
     "output_type": "stream",
     "text": [
      "Epoch 30, Loss 0.0378\n",
      "Training Accuracy: 0.9576, Testing Accuracy: 0.9688\n",
      "\n"
     ]
    },
    {
     "name": "stdout",
     "output_type": "stream",
     "text": [
      "Epoch 40, Loss 0.0335\n",
      "Training Accuracy: 0.9616, Testing Accuracy: 0.9693\n",
      "\n"
     ]
    },
    {
     "name": "stdout",
     "output_type": "stream",
     "text": [
      "Epoch 50, Loss 0.0307\n",
      "Training Accuracy: 0.9648, Testing Accuracy: 0.9682\n",
      "\n"
     ]
    },
    {
     "name": "stdout",
     "output_type": "stream",
     "text": [
      "Epoch 60, Loss 0.0287\n",
      "Training Accuracy: 0.9667, Testing Accuracy: 0.9693\n",
      "\n"
     ]
    },
    {
     "name": "stdout",
     "output_type": "stream",
     "text": [
      "Epoch 70, Loss 0.0271\n",
      "Training Accuracy: 0.9688, Testing Accuracy: 0.9708\n",
      "\n"
     ]
    },
    {
     "name": "stdout",
     "output_type": "stream",
     "text": [
      "Epoch 80, Loss 0.0258\n",
      "Training Accuracy: 0.9703, Testing Accuracy: 0.9718\n",
      "\n"
     ]
    },
    {
     "name": "stdout",
     "output_type": "stream",
     "text": [
      "Epoch 90, Loss 0.0247\n",
      "Training Accuracy: 0.9716, Testing Accuracy: 0.9728\n",
      "\n"
     ]
    },
    {
     "name": "stdout",
     "output_type": "stream",
     "text": [
      "Epoch 100, Loss 0.0237\n",
      "Training Accuracy: 0.9734, Testing Accuracy: 0.9723\n",
      "\n"
     ]
    },
    {
     "name": "stdout",
     "output_type": "stream",
     "text": [
      "Epoch 110, Loss 0.0229\n",
      "Training Accuracy: 0.9743, Testing Accuracy: 0.9733\n",
      "\n"
     ]
    },
    {
     "name": "stdout",
     "output_type": "stream",
     "text": [
      "Epoch 120, Loss 0.0221\n",
      "Training Accuracy: 0.9752, Testing Accuracy: 0.9738\n",
      "\n"
     ]
    },
    {
     "name": "stdout",
     "output_type": "stream",
     "text": [
      "Epoch 130, Loss 0.0214\n",
      "Training Accuracy: 0.9757, Testing Accuracy: 0.9743\n",
      "\n"
     ]
    },
    {
     "name": "stdout",
     "output_type": "stream",
     "text": [
      "Epoch 140, Loss 0.0208\n",
      "Training Accuracy: 0.9770, Testing Accuracy: 0.9743\n",
      "\n"
     ]
    },
    {
     "name": "stdout",
     "output_type": "stream",
     "text": [
      "Epoch 150, Loss 0.0202\n",
      "Training Accuracy: 0.9778, Testing Accuracy: 0.9748\n",
      "\n"
     ]
    },
    {
     "name": "stdout",
     "output_type": "stream",
     "text": [
      "Epoch 160, Loss 0.0197\n",
      "Training Accuracy: 0.9783, Testing Accuracy: 0.9748\n",
      "\n"
     ]
    },
    {
     "name": "stdout",
     "output_type": "stream",
     "text": [
      "Epoch 170, Loss 0.0192\n",
      "Training Accuracy: 0.9786, Testing Accuracy: 0.9748\n",
      "\n"
     ]
    },
    {
     "name": "stdout",
     "output_type": "stream",
     "text": [
      "Epoch 180, Loss 0.0187\n",
      "Training Accuracy: 0.9796, Testing Accuracy: 0.9748\n",
      "\n"
     ]
    },
    {
     "name": "stdout",
     "output_type": "stream",
     "text": [
      "Epoch 190, Loss 0.0182\n",
      "Training Accuracy: 0.9801, Testing Accuracy: 0.9758\n",
      "\n"
     ]
    },
    {
     "name": "stdout",
     "output_type": "stream",
     "text": [
      "Epoch 200, Loss 0.0178\n",
      "Training Accuracy: 0.9806, Testing Accuracy: 0.9758\n",
      "\n"
     ]
    },
    {
     "name": "stdout",
     "output_type": "stream",
     "text": [
      "Epoch 210, Loss 0.0174\n",
      "Training Accuracy: 0.9811, Testing Accuracy: 0.9763\n",
      "\n"
     ]
    },
    {
     "name": "stdout",
     "output_type": "stream",
     "text": [
      "Epoch 220, Loss 0.017\n",
      "Training Accuracy: 0.9816, Testing Accuracy: 0.9768\n",
      "\n"
     ]
    },
    {
     "name": "stdout",
     "output_type": "stream",
     "text": [
      "Epoch 230, Loss 0.0166\n",
      "Training Accuracy: 0.9822, Testing Accuracy: 0.9768\n",
      "\n"
     ]
    },
    {
     "name": "stdout",
     "output_type": "stream",
     "text": [
      "Epoch 240, Loss 0.0162\n",
      "Training Accuracy: 0.9826, Testing Accuracy: 0.9773\n",
      "\n"
     ]
    },
    {
     "data": {
      "text/plain": [
       "0.019615661804064523"
      ]
     },
     "execution_count": 22,
     "metadata": {},
     "output_type": "execute_result"
    }
   ],
   "source": [
    "nn_learner.train_loop(dl)"
   ]
  },
  {
   "cell_type": "code",
   "execution_count": 23,
   "id": "e0163366",
   "metadata": {
    "execution": {
     "iopub.execute_input": "2022-01-02T10:10:53.261177Z",
     "iopub.status.busy": "2022-01-02T10:10:53.260548Z",
     "iopub.status.idle": "2022-01-02T10:11:13.167387Z",
     "shell.execute_reply": "2022-01-02T10:11:13.168313Z"
    },
    "papermill": {
     "duration": 19.959996,
     "end_time": "2022-01-02T10:11:13.168469",
     "exception": false,
     "start_time": "2022-01-02T10:10:53.208473",
     "status": "completed"
    },
    "tags": []
   },
   "outputs": [
    {
     "name": "stdout",
     "output_type": "stream",
     "text": [
      "Epoch 0, Loss 0.2421\n",
      "Training Accuracy: 0.6824, Testing Accuracy: 0.6739\n",
      "\n"
     ]
    },
    {
     "name": "stdout",
     "output_type": "stream",
     "text": [
      "Epoch 10, Loss 0.1013\n",
      "Training Accuracy: 0.9185, Testing Accuracy: 0.9299\n",
      "\n"
     ]
    },
    {
     "name": "stdout",
     "output_type": "stream",
     "text": [
      "Epoch 20, Loss 0.0781\n",
      "Training Accuracy: 0.9315, Testing Accuracy: 0.9415\n",
      "\n"
     ]
    },
    {
     "name": "stdout",
     "output_type": "stream",
     "text": [
      "Epoch 30, Loss 0.0675\n",
      "Training Accuracy: 0.9377, Testing Accuracy: 0.9466\n",
      "\n"
     ]
    },
    {
     "name": "stdout",
     "output_type": "stream",
     "text": [
      "Epoch 40, Loss 0.0612\n",
      "Training Accuracy: 0.9430, Testing Accuracy: 0.9516\n",
      "\n"
     ]
    },
    {
     "name": "stdout",
     "output_type": "stream",
     "text": [
      "Epoch 50, Loss 0.0568\n",
      "Training Accuracy: 0.9468, Testing Accuracy: 0.9546\n",
      "\n"
     ]
    },
    {
     "name": "stdout",
     "output_type": "stream",
     "text": [
      "Epoch 60, Loss 0.0536\n",
      "Training Accuracy: 0.9478, Testing Accuracy: 0.9561\n",
      "\n"
     ]
    },
    {
     "name": "stdout",
     "output_type": "stream",
     "text": [
      "Epoch 70, Loss 0.0512\n",
      "Training Accuracy: 0.9498, Testing Accuracy: 0.9587\n",
      "\n"
     ]
    },
    {
     "name": "stdout",
     "output_type": "stream",
     "text": [
      "Epoch 80, Loss 0.0492\n",
      "Training Accuracy: 0.9508, Testing Accuracy: 0.9612\n",
      "\n"
     ]
    },
    {
     "name": "stdout",
     "output_type": "stream",
     "text": [
      "Epoch 90, Loss 0.0475\n",
      "Training Accuracy: 0.9522, Testing Accuracy: 0.9632\n",
      "\n"
     ]
    },
    {
     "name": "stdout",
     "output_type": "stream",
     "text": [
      "Epoch 100, Loss 0.0461\n",
      "Training Accuracy: 0.9531, Testing Accuracy: 0.9632\n",
      "\n"
     ]
    },
    {
     "name": "stdout",
     "output_type": "stream",
     "text": [
      "Epoch 110, Loss 0.0449\n",
      "Training Accuracy: 0.9538, Testing Accuracy: 0.9642\n",
      "\n"
     ]
    },
    {
     "name": "stdout",
     "output_type": "stream",
     "text": [
      "Epoch 120, Loss 0.0438\n",
      "Training Accuracy: 0.9543, Testing Accuracy: 0.9647\n",
      "\n"
     ]
    },
    {
     "name": "stdout",
     "output_type": "stream",
     "text": [
      "Epoch 130, Loss 0.0429\n",
      "Training Accuracy: 0.9554, Testing Accuracy: 0.9652\n",
      "\n"
     ]
    },
    {
     "name": "stdout",
     "output_type": "stream",
     "text": [
      "Epoch 140, Loss 0.0421\n",
      "Training Accuracy: 0.9563, Testing Accuracy: 0.9652\n",
      "\n"
     ]
    },
    {
     "name": "stdout",
     "output_type": "stream",
     "text": [
      "Epoch 150, Loss 0.0414\n",
      "Training Accuracy: 0.9573, Testing Accuracy: 0.9652\n",
      "\n"
     ]
    },
    {
     "name": "stdout",
     "output_type": "stream",
     "text": [
      "Epoch 160, Loss 0.0407\n",
      "Training Accuracy: 0.9579, Testing Accuracy: 0.9652\n",
      "\n"
     ]
    },
    {
     "name": "stdout",
     "output_type": "stream",
     "text": [
      "Epoch 170, Loss 0.0401\n",
      "Training Accuracy: 0.9582, Testing Accuracy: 0.9662\n",
      "\n"
     ]
    },
    {
     "name": "stdout",
     "output_type": "stream",
     "text": [
      "Epoch 180, Loss 0.0395\n",
      "Training Accuracy: 0.9589, Testing Accuracy: 0.9662\n",
      "\n"
     ]
    },
    {
     "name": "stdout",
     "output_type": "stream",
     "text": [
      "Epoch 190, Loss 0.039\n",
      "Training Accuracy: 0.9594, Testing Accuracy: 0.9662\n",
      "\n"
     ]
    },
    {
     "name": "stdout",
     "output_type": "stream",
     "text": [
      "Epoch 200, Loss 0.0385\n",
      "Training Accuracy: 0.9596, Testing Accuracy: 0.9662\n",
      "\n"
     ]
    },
    {
     "name": "stdout",
     "output_type": "stream",
     "text": [
      "Epoch 210, Loss 0.0381\n",
      "Training Accuracy: 0.9600, Testing Accuracy: 0.9672\n",
      "\n"
     ]
    },
    {
     "name": "stdout",
     "output_type": "stream",
     "text": [
      "Epoch 220, Loss 0.0377\n",
      "Training Accuracy: 0.9604, Testing Accuracy: 0.9672\n",
      "\n"
     ]
    },
    {
     "name": "stdout",
     "output_type": "stream",
     "text": [
      "Epoch 230, Loss 0.0373\n",
      "Training Accuracy: 0.9607, Testing Accuracy: 0.9677\n",
      "\n"
     ]
    },
    {
     "name": "stdout",
     "output_type": "stream",
     "text": [
      "Epoch 240, Loss 0.0369\n",
      "Training Accuracy: 0.9607, Testing Accuracy: 0.9677\n",
      "\n"
     ]
    },
    {
     "data": {
      "text/plain": [
       "0.039625251132731465"
      ]
     },
     "execution_count": 23,
     "metadata": {},
     "output_type": "execute_result"
    }
   ],
   "source": [
    "lr_learner.train_loop(dl)"
   ]
  },
  {
   "cell_type": "code",
   "execution_count": 24,
   "id": "ca410940",
   "metadata": {
    "execution": {
     "iopub.execute_input": "2022-01-02T10:11:13.279470Z",
     "iopub.status.busy": "2022-01-02T10:11:13.278809Z",
     "iopub.status.idle": "2022-01-02T10:11:13.577091Z",
     "shell.execute_reply": "2022-01-02T10:11:13.576607Z"
    },
    "papermill": {
     "duration": 0.353712,
     "end_time": "2022-01-02T10:11:13.577224",
     "exception": false,
     "start_time": "2022-01-02T10:11:13.223512",
     "status": "completed"
    },
    "tags": []
   },
   "outputs": [
    {
     "data": {
      "text/plain": [
       "<matplotlib.legend.Legend at 0x7f7770450a58>"
      ]
     },
     "execution_count": 24,
     "metadata": {},
     "output_type": "execute_result"
    },
    {
     "data": {
      "image/png": "[encoded data removed]",
      "text/plain": [
       "<Figure size 1080x720 with 1 Axes>"
      ]
     },
     "metadata": {
      "needs_background": "light"
     },
     "output_type": "display_data"
    }
   ],
   "source": [
    "#comparing the results of NN and LR\n",
    "plt.figure(figsize=(15,10))\n",
    "\n",
    "# Neural Network plots\n",
    "plt.plot(acc_nn.accuracies, 'r-', label = \"Training Accuracies - NN\")\n",
    "plt.plot(acc_nn.test_accuracies, 'g-', label = \"Testing Accuracies - NN\")\n",
    "\n",
    "# Logistic Regression plots\n",
    "plt.plot(acc_lr.accuracies, 'k-', label = \"Training Accuracies - LR\")\n",
    "plt.plot(acc_lr.test_accuracies, 'b-', label = \"Testing Accuracies - LR\")\n",
    "plt.legend()"
   ]
  },
  {
   "cell_type": "markdown",
   "id": "80dfb35c",
   "metadata": {
    "papermill": {
     "duration": 0.046231,
     "end_time": "2022-01-02T10:11:13.674855",
     "exception": false,
     "start_time": "2022-01-02T10:11:13.628624",
     "status": "completed"
    },
    "tags": []
   },
   "source": [
    "#### Plotting the outputs of this layer of the NN.\n"
   ]
  },
  {
   "cell_type": "code",
   "execution_count": 25,
   "id": "45eb2ff5",
   "metadata": {
    "execution": {
     "iopub.execute_input": "2022-01-02T10:11:13.773649Z",
     "iopub.status.busy": "2022-01-02T10:11:13.773076Z",
     "iopub.status.idle": "2022-01-02T10:11:13.802130Z",
     "shell.execute_reply": "2022-01-02T10:11:13.802942Z"
    },
    "papermill": {
     "duration": 0.08365,
     "end_time": "2022-01-02T10:11:13.803121",
     "exception": false,
     "start_time": "2022-01-02T10:11:13.719471",
     "status": "completed"
    },
    "tags": []
   },
   "outputs": [],
   "source": [
    "new_model = Model(layers[:-2])\n",
    "testing_plot = new_model(testing_data_x)"
   ]
  },
  {
   "cell_type": "code",
   "execution_count": 26,
   "id": "4c0a5485",
   "metadata": {
    "execution": {
     "iopub.execute_input": "2022-01-02T10:11:13.916455Z",
     "iopub.status.busy": "2022-01-02T10:11:13.915846Z",
     "iopub.status.idle": "2022-01-02T10:11:14.134428Z",
     "shell.execute_reply": "2022-01-02T10:11:14.134939Z"
    },
    "papermill": {
     "duration": 0.279528,
     "end_time": "2022-01-02T10:11:14.135114",
     "exception": false,
     "start_time": "2022-01-02T10:11:13.855586",
     "status": "completed"
    },
    "tags": []
   },
   "outputs": [
    {
     "data": {
      "text/plain": [
       "Text(0.5, 1.0, 'Outputs')"
      ]
     },
     "execution_count": 26,
     "metadata": {},
     "output_type": "execute_result"
    },
    {
     "data": {
      "image/png": "[encoded data removed]",
      "text/plain": [
       "<Figure size 576x504 with 1 Axes>"
      ]
     },
     "metadata": {
      "needs_background": "light"
     },
     "output_type": "display_data"
    }
   ],
   "source": [
    "# Plotting the scatter plot of points and color coding by class\n",
    "plt.figure(figsize=(8,7))\n",
    "plt.scatter(testing_plot[:,0], testing_plot[:,1], alpha = 0.1, c = y_test.ravel());\n",
    "plt.title('Outputs')"
   ]
  },
  {
   "cell_type": "markdown",
   "id": "a74fcf8f",
   "metadata": {
    "papermill": {
     "duration": 0.053672,
     "end_time": "2022-01-02T10:11:14.236546",
     "exception": false,
     "start_time": "2022-01-02T10:11:14.182874",
     "status": "completed"
    },
    "tags": []
   },
   "source": [
    "Probability contours"
   ]
  },
  {
   "cell_type": "code",
   "execution_count": 27,
   "id": "d0afc8e3",
   "metadata": {
    "execution": {
     "iopub.execute_input": "2022-01-02T10:11:14.351710Z",
     "iopub.status.busy": "2022-01-02T10:11:14.350943Z",
     "iopub.status.idle": "2022-01-02T10:11:14.365377Z",
     "shell.execute_reply": "2022-01-02T10:11:14.363989Z"
    },
    "papermill": {
     "duration": 0.072218,
     "end_time": "2022-01-02T10:11:14.365667",
     "exception": false,
     "start_time": "2022-01-02T10:11:14.293449",
     "status": "completed"
    },
    "tags": []
   },
   "outputs": [],
   "source": [
    "model_prob = Model(layers[-2:]) "
   ]
  },
  {
   "cell_type": "code",
   "execution_count": 28,
   "id": "9b96e238",
   "metadata": {
    "execution": {
     "iopub.execute_input": "2022-01-02T10:11:14.473068Z",
     "iopub.status.busy": "2022-01-02T10:11:14.472435Z",
     "iopub.status.idle": "2022-01-02T10:11:14.486498Z",
     "shell.execute_reply": "2022-01-02T10:11:14.487001Z"
    },
    "papermill": {
     "duration": 0.071235,
     "end_time": "2022-01-02T10:11:14.487137",
     "exception": false,
     "start_time": "2022-01-02T10:11:14.415902",
     "status": "completed"
    },
    "tags": []
   },
   "outputs": [],
   "source": [
    "#creating the x and y ranges according to the above generated plot.\n",
    "x_range = np.linspace(-4, 1, 100) \n",
    "y_range = np.linspace(-6, 6, 100) \n",
    "x_grid, y_grid = np.meshgrid(x_range, y_range) # x_grid and y_grig are of size 100 X 100\n",
    "\n",
    "# converting x_grid and y_grid to continuous arrays\n",
    "x_gridflat = np.ravel(x_grid)\n",
    "y_gridflat = np.ravel(y_grid)\n",
    "\n",
    "# The last layer of the current model takes two columns as input. Hence transpose of np.vstack() is required.\n",
    "X = np.vstack((x_gridflat, y_gridflat)).T\n",
    "\n",
    "prob_contour = model_prob(X).reshape(100,100) "
   ]
  },
  {
   "cell_type": "code",
   "execution_count": 29,
   "id": "da72499a",
   "metadata": {
    "execution": {
     "iopub.execute_input": "2022-01-02T10:11:14.627353Z",
     "iopub.status.busy": "2022-01-02T10:11:14.626628Z",
     "iopub.status.idle": "2022-01-02T10:11:14.921828Z",
     "shell.execute_reply": "2022-01-02T10:11:14.921272Z"
    },
    "papermill": {
     "duration": 0.358125,
     "end_time": "2022-01-02T10:11:14.922013",
     "exception": false,
     "start_time": "2022-01-02T10:11:14.563888",
     "status": "completed"
    },
    "tags": []
   },
   "outputs": [
    {
     "data": {
      "image/png": "[encoded data removed]",
      "text/plain": [
       "<Figure size 720x648 with 1 Axes>"
      ]
     },
     "metadata": {
      "needs_background": "light"
     },
     "output_type": "display_data"
    }
   ],
   "source": [
    "plt.figure(figsize=(10,9))\n",
    "plt.scatter(testing_plot[:,0], testing_plot[:,1], alpha = 0.1, c = y_test.ravel())\n",
    "contours = plt.contour(x_grid,y_grid,prob_contour)\n",
    "plt.title('Probability Contours')\n",
    "plt.clabel(contours, inline = True );"
   ]
  },
  {
   "cell_type": "code",
   "execution_count": null,
   "id": "e81b4ac7",
   "metadata": {
    "papermill": {
     "duration": 0.052341,
     "end_time": "2022-01-02T10:11:15.026800",
     "exception": false,
     "start_time": "2022-01-02T10:11:14.974459",
     "status": "completed"
    },
    "tags": []
   },
   "outputs": [],
   "source": []
  }
 ],
 "metadata": {
  "kernelspec": {
   "display_name": "Python 3",
   "language": "python",
   "name": "python3"
  },
  "language_info": {
   "codemirror_mode": {
    "name": "ipython",
    "version": 3
   },
   "file_extension": ".py",
   "mimetype": "text/x-python",
   "name": "python",
   "nbconvert_exporter": "python",
   "pygments_lexer": "ipython3",
   "version": "3.6.15"
  },
  "papermill": {
   "default_parameters": {},
   "duration": 173.939284,
   "end_time": "2022-01-02T10:11:15.489224",
   "environment_variables": {},
   "exception": null,
   "input_path": "2020-08-11-part2.ipynb",
   "output_path": "2020-08-11-part2.ipynb",
   "parameters": {},
   "start_time": "2022-01-02T10:08:21.549940",
   "version": "2.3.3"
  }
 },
 "nbformat": 4,
 "nbformat_minor": 5
}