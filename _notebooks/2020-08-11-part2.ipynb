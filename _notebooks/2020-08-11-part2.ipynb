{
 "cells": [
  {
   "cell_type": "markdown",
   "id": "98380cd3",
   "metadata": {
    "papermill": {
     "duration": 0.032554,
     "end_time": "2021-12-08T00:23:42.430209",
     "exception": false,
     "start_time": "2021-12-08T00:23:42.397655",
     "status": "completed"
    },
    "tags": []
   },
   "source": [
    "# Distinguish Your Own Digits (DYOD)"
   ]
  },
  {
   "cell_type": "markdown",
   "id": "ef31240d",
   "metadata": {
    "papermill": {
     "duration": 0.02639,
     "end_time": "2021-12-08T00:23:42.483522",
     "exception": false,
     "start_time": "2021-12-08T00:23:42.457132",
     "status": "completed"
    },
    "tags": []
   },
   "source": [
    "You are going to write a classifier that distinguishes between the number 3 and number 8."
   ]
  },
  {
   "cell_type": "code",
   "execution_count": 1,
   "id": "b15c8646",
   "metadata": {
    "execution": {
     "iopub.execute_input": "2021-12-08T00:23:42.554494Z",
     "iopub.status.busy": "2021-12-08T00:23:42.553832Z",
     "iopub.status.idle": "2021-12-08T00:23:42.566249Z",
     "shell.execute_reply": "2021-12-08T00:23:42.565722Z"
    },
    "papermill": {
     "duration": 0.055713,
     "end_time": "2021-12-08T00:23:42.566453",
     "exception": false,
     "start_time": "2021-12-08T00:23:42.510740",
     "status": "completed"
    },
    "tags": []
   },
   "outputs": [],
   "source": [
    "%load_ext autoreload\n",
    "%autoreload 2"
   ]
  },
  {
   "cell_type": "code",
   "execution_count": 2,
   "id": "22ef38dc",
   "metadata": {
    "execution": {
     "iopub.execute_input": "2021-12-08T00:23:42.626934Z",
     "iopub.status.busy": "2021-12-08T00:23:42.626297Z",
     "iopub.status.idle": "2021-12-08T00:23:43.331243Z",
     "shell.execute_reply": "2021-12-08T00:23:43.330699Z"
    },
    "papermill": {
     "duration": 0.737556,
     "end_time": "2021-12-08T00:23:43.331476",
     "exception": false,
     "start_time": "2021-12-08T00:23:42.593920",
     "status": "completed"
    },
    "tags": []
   },
   "outputs": [],
   "source": [
    "%matplotlib inline\n",
    "import numpy as np\n",
    "import matplotlib.pyplot as plt\n",
    "import pandas as pd"
   ]
  },
  {
   "cell_type": "markdown",
   "id": "ba036198",
   "metadata": {
    "papermill": {
     "duration": 0.027679,
     "end_time": "2021-12-08T00:23:43.386580",
     "exception": false,
     "start_time": "2021-12-08T00:23:43.358901",
     "status": "completed"
    },
    "tags": []
   },
   "source": [
    "From the command line run `pip install mnist`. This is a library that will help you bring down the mnist dataset. If you run this from a notebook, you need to put  `!pip install mnist` in a cell by itself."
   ]
  },
  {
   "cell_type": "code",
   "execution_count": 3,
   "id": "bb6ad8a1",
   "metadata": {
    "execution": {
     "iopub.execute_input": "2021-12-08T00:23:43.447481Z",
     "iopub.status.busy": "2021-12-08T00:23:43.445620Z",
     "iopub.status.idle": "2021-12-08T00:23:45.454378Z",
     "shell.execute_reply": "2021-12-08T00:23:45.453823Z"
    },
    "papermill": {
     "duration": 2.04116,
     "end_time": "2021-12-08T00:23:45.454563",
     "exception": false,
     "start_time": "2021-12-08T00:23:43.413403",
     "status": "completed"
    },
    "tags": []
   },
   "outputs": [
    {
     "name": "stdout",
     "output_type": "stream",
     "text": [
      "Collecting mnist\r\n"
     ]
    },
    {
     "name": "stdout",
     "output_type": "stream",
     "text": [
      "  Downloading mnist-0.2.2-py2.py3-none-any.whl (3.5 kB)\r\n",
      "Requirement already satisfied: numpy in /opt/hostedtoolcache/Python/3.6.15/x64/lib/python3.6/site-packages (from mnist) (1.19.5)\r\n"
     ]
    },
    {
     "name": "stdout",
     "output_type": "stream",
     "text": [
      "Installing collected packages: mnist\r\n"
     ]
    },
    {
     "name": "stdout",
     "output_type": "stream",
     "text": [
      "Successfully installed mnist-0.2.2\r\n"
     ]
    }
   ],
   "source": [
    "!pip install mnist"
   ]
  },
  {
   "cell_type": "markdown",
   "id": "69df9c9a",
   "metadata": {
    "papermill": {
     "duration": 0.027856,
     "end_time": "2021-12-08T00:23:45.508689",
     "exception": false,
     "start_time": "2021-12-08T00:23:45.480833",
     "status": "completed"
    },
    "tags": []
   },
   "source": [
    "## Preparing the Data"
   ]
  },
  {
   "cell_type": "code",
   "execution_count": 4,
   "id": "7f69d806",
   "metadata": {
    "execution": {
     "iopub.execute_input": "2021-12-08T00:23:45.566915Z",
     "iopub.status.busy": "2021-12-08T00:23:45.566274Z",
     "iopub.status.idle": "2021-12-08T00:23:45.581683Z",
     "shell.execute_reply": "2021-12-08T00:23:45.582240Z"
    },
    "papermill": {
     "duration": 0.046195,
     "end_time": "2021-12-08T00:23:45.582388",
     "exception": false,
     "start_time": "2021-12-08T00:23:45.536193",
     "status": "completed"
    },
    "tags": []
   },
   "outputs": [],
   "source": [
    "import mnist"
   ]
  },
  {
   "cell_type": "code",
   "execution_count": 5,
   "id": "a411e44f",
   "metadata": {
    "execution": {
     "iopub.execute_input": "2021-12-08T00:23:45.642338Z",
     "iopub.status.busy": "2021-12-08T00:23:45.641743Z",
     "iopub.status.idle": "2021-12-08T00:23:46.455079Z",
     "shell.execute_reply": "2021-12-08T00:23:46.454531Z"
    },
    "papermill": {
     "duration": 0.845364,
     "end_time": "2021-12-08T00:23:46.455208",
     "exception": false,
     "start_time": "2021-12-08T00:23:45.609844",
     "status": "completed"
    },
    "tags": []
   },
   "outputs": [],
   "source": [
    "train_images = mnist.train_images()\n",
    "train_labels = mnist.train_labels()"
   ]
  },
  {
   "cell_type": "code",
   "execution_count": 6,
   "id": "dceab3a5",
   "metadata": {
    "execution": {
     "iopub.execute_input": "2021-12-08T00:23:46.516540Z",
     "iopub.status.busy": "2021-12-08T00:23:46.515645Z",
     "iopub.status.idle": "2021-12-08T00:23:46.533654Z",
     "shell.execute_reply": "2021-12-08T00:23:46.533239Z"
    },
    "papermill": {
     "duration": 0.049731,
     "end_time": "2021-12-08T00:23:46.533764",
     "exception": false,
     "start_time": "2021-12-08T00:23:46.484033",
     "status": "completed"
    },
    "tags": []
   },
   "outputs": [
    {
     "data": {
      "text/plain": [
       "((60000, 28, 28), (60000,))"
      ]
     },
     "execution_count": 6,
     "metadata": {},
     "output_type": "execute_result"
    }
   ],
   "source": [
    "train_images.shape, train_labels.shape"
   ]
  },
  {
   "cell_type": "code",
   "execution_count": 7,
   "id": "f50dc2bb",
   "metadata": {
    "execution": {
     "iopub.execute_input": "2021-12-08T00:23:46.597044Z",
     "iopub.status.busy": "2021-12-08T00:23:46.596237Z",
     "iopub.status.idle": "2021-12-08T00:23:46.889719Z",
     "shell.execute_reply": "2021-12-08T00:23:46.890656Z"
    },
    "papermill": {
     "duration": 0.330735,
     "end_time": "2021-12-08T00:23:46.891013",
     "exception": false,
     "start_time": "2021-12-08T00:23:46.560278",
     "status": "completed"
    },
    "tags": []
   },
   "outputs": [],
   "source": [
    "test_images = mnist.test_images()\n",
    "test_labels = mnist.test_labels()"
   ]
  },
  {
   "cell_type": "code",
   "execution_count": 8,
   "id": "fc38cf1b",
   "metadata": {
    "execution": {
     "iopub.execute_input": "2021-12-08T00:23:46.957432Z",
     "iopub.status.busy": "2021-12-08T00:23:46.956829Z",
     "iopub.status.idle": "2021-12-08T00:23:46.971957Z",
     "shell.execute_reply": "2021-12-08T00:23:46.972530Z"
    },
    "papermill": {
     "duration": 0.049299,
     "end_time": "2021-12-08T00:23:46.972703",
     "exception": false,
     "start_time": "2021-12-08T00:23:46.923404",
     "status": "completed"
    },
    "tags": []
   },
   "outputs": [
    {
     "data": {
      "text/plain": [
       "((10000, 28, 28), (10000,))"
      ]
     },
     "execution_count": 8,
     "metadata": {},
     "output_type": "execute_result"
    }
   ],
   "source": [
    "test_images.shape, test_labels.shape"
   ]
  },
  {
   "cell_type": "code",
   "execution_count": 9,
   "id": "f9ed8fe0",
   "metadata": {
    "execution": {
     "iopub.execute_input": "2021-12-08T00:23:47.035740Z",
     "iopub.status.busy": "2021-12-08T00:23:47.035129Z",
     "iopub.status.idle": "2021-12-08T00:23:47.193437Z",
     "shell.execute_reply": "2021-12-08T00:23:47.193926Z"
    },
    "papermill": {
     "duration": 0.193239,
     "end_time": "2021-12-08T00:23:47.194073",
     "exception": false,
     "start_time": "2021-12-08T00:23:47.000834",
     "status": "completed"
    },
    "tags": []
   },
   "outputs": [
    {
     "name": "stdout",
     "output_type": "stream",
     "text": [
      "2\n"
     ]
    },
    {
     "data": {
      "text/plain": [
       "<matplotlib.image.AxesImage at 0x7f836d02e4e0>"
      ]
     },
     "execution_count": 9,
     "metadata": {},
     "output_type": "execute_result"
    },
    {
     "data": {
      "image/png": "[encoded data removed]",
      "text/plain": [
       "<Figure size 432x288 with 1 Axes>"
      ]
     },
     "metadata": {
      "needs_background": "light"
     },
     "output_type": "display_data"
    }
   ],
   "source": [
    "image_index = 7776 # You may select anything up to 60,000\n",
    "print(train_labels[image_index]) \n",
    "plt.imshow(train_images[image_index], cmap='Greys')"
   ]
  },
  {
   "cell_type": "markdown",
   "id": "a8d2388d",
   "metadata": {
    "papermill": {
     "duration": 0.031408,
     "end_time": "2021-12-08T00:23:47.256744",
     "exception": false,
     "start_time": "2021-12-08T00:23:47.225336",
     "status": "completed"
    },
    "tags": []
   },
   "source": [
    "## Filter data to get 3 and 8 out"
   ]
  },
  {
   "cell_type": "code",
   "execution_count": 10,
   "id": "776f7fc7",
   "metadata": {
    "execution": {
     "iopub.execute_input": "2021-12-08T00:23:47.323806Z",
     "iopub.status.busy": "2021-12-08T00:23:47.323181Z",
     "iopub.status.idle": "2021-12-08T00:23:47.342190Z",
     "shell.execute_reply": "2021-12-08T00:23:47.341108Z"
    },
    "papermill": {
     "duration": 0.054915,
     "end_time": "2021-12-08T00:23:47.342318",
     "exception": false,
     "start_time": "2021-12-08T00:23:47.287403",
     "status": "completed"
    },
    "tags": []
   },
   "outputs": [],
   "source": [
    "train_filter = np.where((train_labels == 3 ) | (train_labels == 8))\n",
    "test_filter = np.where((test_labels == 3) | (test_labels == 8))\n",
    "X_train, y_train = train_images[train_filter], train_labels[train_filter]\n",
    "X_test, y_test = test_images[test_filter], test_labels[test_filter]"
   ]
  },
  {
   "cell_type": "markdown",
   "id": "948f0b7e",
   "metadata": {
    "papermill": {
     "duration": 0.032788,
     "end_time": "2021-12-08T00:23:47.405216",
     "exception": false,
     "start_time": "2021-12-08T00:23:47.372428",
     "status": "completed"
    },
    "tags": []
   },
   "source": [
    "We normalize the pizel values in the 0 to 1 range"
   ]
  },
  {
   "cell_type": "code",
   "execution_count": 11,
   "id": "ee4c2166",
   "metadata": {
    "execution": {
     "iopub.execute_input": "2021-12-08T00:23:47.468014Z",
     "iopub.status.busy": "2021-12-08T00:23:47.465214Z",
     "iopub.status.idle": "2021-12-08T00:23:47.512241Z",
     "shell.execute_reply": "2021-12-08T00:23:47.511726Z"
    },
    "papermill": {
     "duration": 0.079301,
     "end_time": "2021-12-08T00:23:47.512381",
     "exception": false,
     "start_time": "2021-12-08T00:23:47.433080",
     "status": "completed"
    },
    "tags": []
   },
   "outputs": [],
   "source": [
    "X_train = X_train/255.\n",
    "X_test = X_test/255."
   ]
  },
  {
   "cell_type": "markdown",
   "id": "ddcf4fab",
   "metadata": {
    "papermill": {
     "duration": 0.030171,
     "end_time": "2021-12-08T00:23:47.572130",
     "exception": false,
     "start_time": "2021-12-08T00:23:47.541959",
     "status": "completed"
    },
    "tags": []
   },
   "source": [
    "And setup the labels as 1 (when the digit is 3) and 0 (when the digit is 8)"
   ]
  },
  {
   "cell_type": "code",
   "execution_count": 12,
   "id": "7dc908f2",
   "metadata": {
    "execution": {
     "iopub.execute_input": "2021-12-08T00:23:47.636273Z",
     "iopub.status.busy": "2021-12-08T00:23:47.635685Z",
     "iopub.status.idle": "2021-12-08T00:23:47.646051Z",
     "shell.execute_reply": "2021-12-08T00:23:47.645568Z"
    },
    "papermill": {
     "duration": 0.044968,
     "end_time": "2021-12-08T00:23:47.646179",
     "exception": false,
     "start_time": "2021-12-08T00:23:47.601211",
     "status": "completed"
    },
    "tags": []
   },
   "outputs": [],
   "source": [
    "y_train = 1*(y_train==3)\n",
    "y_test = 1*(y_test==3)"
   ]
  },
  {
   "cell_type": "code",
   "execution_count": 13,
   "id": "01e4e969",
   "metadata": {
    "execution": {
     "iopub.execute_input": "2021-12-08T00:23:47.711997Z",
     "iopub.status.busy": "2021-12-08T00:23:47.711386Z",
     "iopub.status.idle": "2021-12-08T00:23:47.726001Z",
     "shell.execute_reply": "2021-12-08T00:23:47.725476Z"
    },
    "papermill": {
     "duration": 0.050508,
     "end_time": "2021-12-08T00:23:47.726129",
     "exception": false,
     "start_time": "2021-12-08T00:23:47.675621",
     "status": "completed"
    },
    "tags": []
   },
   "outputs": [
    {
     "data": {
      "text/plain": [
       "((11982, 28, 28), (1984, 28, 28))"
      ]
     },
     "execution_count": 13,
     "metadata": {},
     "output_type": "execute_result"
    }
   ],
   "source": [
    "X_train.shape, X_test.shape"
   ]
  },
  {
   "cell_type": "markdown",
   "id": "5ccf3f85",
   "metadata": {
    "papermill": {
     "duration": 0.03014,
     "end_time": "2021-12-08T00:23:47.786166",
     "exception": false,
     "start_time": "2021-12-08T00:23:47.756026",
     "status": "completed"
    },
    "tags": []
   },
   "source": [
    "We reshape the data to flatten the image pixels into a set of features or co-variates:"
   ]
  },
  {
   "cell_type": "code",
   "execution_count": 14,
   "id": "5286a4a3",
   "metadata": {
    "execution": {
     "iopub.execute_input": "2021-12-08T00:23:47.847367Z",
     "iopub.status.busy": "2021-12-08T00:23:47.846779Z",
     "iopub.status.idle": "2021-12-08T00:23:47.862135Z",
     "shell.execute_reply": "2021-12-08T00:23:47.863831Z"
    },
    "papermill": {
     "duration": 0.048776,
     "end_time": "2021-12-08T00:23:47.864097",
     "exception": false,
     "start_time": "2021-12-08T00:23:47.815321",
     "status": "completed"
    },
    "tags": []
   },
   "outputs": [
    {
     "data": {
      "text/plain": [
       "((11982, 784), (1984, 784))"
      ]
     },
     "execution_count": 14,
     "metadata": {},
     "output_type": "execute_result"
    }
   ],
   "source": [
    "X_train = X_train.reshape(X_train.shape[0], -1)\n",
    "X_test = X_test.reshape(X_test.shape[0], -1)\n",
    "X_train.shape, X_test.shape"
   ]
  },
  {
   "cell_type": "code",
   "execution_count": 15,
   "id": "73c5f88a",
   "metadata": {
    "execution": {
     "iopub.execute_input": "2021-12-08T00:23:47.933647Z",
     "iopub.status.busy": "2021-12-08T00:23:47.933034Z",
     "iopub.status.idle": "2021-12-08T00:23:47.955761Z",
     "shell.execute_reply": "2021-12-08T00:23:47.954846Z"
    },
    "papermill": {
     "duration": 0.05643,
     "end_time": "2021-12-08T00:23:47.955931",
     "exception": false,
     "start_time": "2021-12-08T00:23:47.899501",
     "status": "completed"
    },
    "tags": []
   },
   "outputs": [],
   "source": [
    "#Impoting functions from 'Kudzu'\n",
    "from kudzu.model import Model\n",
    "from kudzu.train import Learner\n",
    "from kudzu.optim import GD\n",
    "from kudzu.data import Data, Sampler,Dataloader\n",
    "\n",
    "from kudzu.callbacks import AccCallback\n",
    "from kudzu.callbacks import ClfCallback\n",
    "\n",
    "from kudzu.loss import MSE\n",
    "\n",
    "from kudzu.layer import Sigmoid,Relu\n",
    "from kudzu.layer import Affine"
   ]
  },
  {
   "cell_type": "markdown",
   "id": "bc01172a",
   "metadata": {
    "papermill": {
     "duration": 0.031334,
     "end_time": "2021-12-08T00:23:48.017056",
     "exception": false,
     "start_time": "2021-12-08T00:23:47.985722",
     "status": "completed"
    },
    "tags": []
   },
   "source": [
    "### Let us create a `Config` class, to store important parameters. \n",
    "This class essentially plays the role of a dictionary."
   ]
  },
  {
   "cell_type": "code",
   "execution_count": 16,
   "id": "978281aa",
   "metadata": {
    "execution": {
     "iopub.execute_input": "2021-12-08T00:23:48.089707Z",
     "iopub.status.busy": "2021-12-08T00:23:48.089137Z",
     "iopub.status.idle": "2021-12-08T00:23:48.101257Z",
     "shell.execute_reply": "2021-12-08T00:23:48.100769Z"
    },
    "papermill": {
     "duration": 0.049301,
     "end_time": "2021-12-08T00:23:48.101379",
     "exception": false,
     "start_time": "2021-12-08T00:23:48.052078",
     "status": "completed"
    },
    "tags": []
   },
   "outputs": [],
   "source": [
    "class Config:\n",
    "    pass\n",
    "config = Config()\n",
    "config.lr = 0.001\n",
    "config.num_epochs = 250\n",
    "config.bs = 50"
   ]
  },
  {
   "cell_type": "markdown",
   "id": "1385fa59",
   "metadata": {
    "papermill": {
     "duration": 0.029201,
     "end_time": "2021-12-08T00:23:48.161003",
     "exception": false,
     "start_time": "2021-12-08T00:23:48.131802",
     "status": "completed"
    },
    "tags": []
   },
   "source": [
    "### Running Models with the Training data\n",
    "Details about the network layers:\n",
    "- A first affine layer has 784 inputs and does 100 affine transforms. These are followed by a Relu\n",
    "- A second affine layer has 100 inputs from the 100 activations of the past layer, and does 100 affine transforms. These are followed by a Relu\n",
    "- A third affine layer has 100 activations and does 2 affine transformations to create an embedding for visualization. There is no non-linearity here.\n",
    "- A final \"logistic regression\" which has an affine transform from 2 inputs to 1 output, which is squeezed through a sigmoid.\n"
   ]
  },
  {
   "cell_type": "code",
   "execution_count": 17,
   "id": "2b9c66db",
   "metadata": {
    "execution": {
     "iopub.execute_input": "2021-12-08T00:23:48.226556Z",
     "iopub.status.busy": "2021-12-08T00:23:48.225913Z",
     "iopub.status.idle": "2021-12-08T00:23:48.243833Z",
     "shell.execute_reply": "2021-12-08T00:23:48.243253Z"
    },
    "papermill": {
     "duration": 0.052432,
     "end_time": "2021-12-08T00:23:48.243977",
     "exception": false,
     "start_time": "2021-12-08T00:23:48.191545",
     "status": "completed"
    },
    "tags": []
   },
   "outputs": [],
   "source": [
    "data = Data(X_train, y_train.reshape(-1,1))\n",
    "sampler = Sampler(data, config.bs, shuffle=True)\n",
    "\n",
    "dl = Dataloader(data, sampler)\n",
    "\n",
    "opt = GD(config.lr)\n",
    "loss = MSE()"
   ]
  },
  {
   "cell_type": "code",
   "execution_count": 18,
   "id": "b275e4c2",
   "metadata": {
    "execution": {
     "iopub.execute_input": "2021-12-08T00:23:48.311882Z",
     "iopub.status.busy": "2021-12-08T00:23:48.311318Z",
     "iopub.status.idle": "2021-12-08T00:23:48.323354Z",
     "shell.execute_reply": "2021-12-08T00:23:48.323862Z"
    },
    "papermill": {
     "duration": 0.050362,
     "end_time": "2021-12-08T00:23:48.324013",
     "exception": false,
     "start_time": "2021-12-08T00:23:48.273651",
     "status": "completed"
    },
    "tags": []
   },
   "outputs": [],
   "source": [
    "training_data_x = X_train\n",
    "testing_data_x = X_test\n",
    "training_data_y = y_train.reshape(-1,1)\n",
    "testing_data_y = y_test.reshape(-1,1)"
   ]
  },
  {
   "cell_type": "code",
   "execution_count": 19,
   "id": "76951160",
   "metadata": {
    "execution": {
     "iopub.execute_input": "2021-12-08T00:23:48.390699Z",
     "iopub.status.busy": "2021-12-08T00:23:48.390102Z",
     "iopub.status.idle": "2021-12-08T00:23:48.408355Z",
     "shell.execute_reply": "2021-12-08T00:23:48.407867Z"
    },
    "papermill": {
     "duration": 0.054133,
     "end_time": "2021-12-08T00:23:48.408510",
     "exception": false,
     "start_time": "2021-12-08T00:23:48.354377",
     "status": "completed"
    },
    "tags": []
   },
   "outputs": [
    {
     "name": "stdout",
     "output_type": "stream",
     "text": [
      "xavier\n",
      "xavier\n",
      "xavier\n",
      "xavier\n",
      "xavier\n"
     ]
    }
   ],
   "source": [
    "layers = [Affine(\"first\", 784, 100), Relu(\"first\"), Affine(\"second\", 100, 100), Relu(\"second\"), Affine(\"third\", 100, 2), Affine(\"last\", 2, 1), Sigmoid(\"last\")]\n",
    "model_nn = Model(layers)\n",
    "model_lr = Model([Affine(\"logits\", 784, 1), Sigmoid(\"sigmoid\")])"
   ]
  },
  {
   "cell_type": "code",
   "execution_count": 20,
   "id": "6eede77a",
   "metadata": {
    "execution": {
     "iopub.execute_input": "2021-12-08T00:23:48.473703Z",
     "iopub.status.busy": "2021-12-08T00:23:48.473149Z",
     "iopub.status.idle": "2021-12-08T00:23:48.485839Z",
     "shell.execute_reply": "2021-12-08T00:23:48.485391Z"
    },
    "papermill": {
     "duration": 0.048096,
     "end_time": "2021-12-08T00:23:48.485958",
     "exception": false,
     "start_time": "2021-12-08T00:23:48.437862",
     "status": "completed"
    },
    "tags": []
   },
   "outputs": [],
   "source": [
    "nn_learner = Learner(loss, model_nn, opt, config.num_epochs)\n",
    "acc_nn = ClfCallback(nn_learner, config.bs, training_data_x , testing_data_x, training_data_y, testing_data_y)\n",
    "nn_learner.set_callbacks([acc_nn])"
   ]
  },
  {
   "cell_type": "code",
   "execution_count": 21,
   "id": "877b6cc7",
   "metadata": {
    "execution": {
     "iopub.execute_input": "2021-12-08T00:23:48.552213Z",
     "iopub.status.busy": "2021-12-08T00:23:48.551634Z",
     "iopub.status.idle": "2021-12-08T00:23:48.567650Z",
     "shell.execute_reply": "2021-12-08T00:23:48.567202Z"
    },
    "papermill": {
     "duration": 0.052341,
     "end_time": "2021-12-08T00:23:48.567772",
     "exception": false,
     "start_time": "2021-12-08T00:23:48.515431",
     "status": "completed"
    },
    "tags": []
   },
   "outputs": [],
   "source": [
    "lr_learner = Learner(loss, model_lr, opt, config.num_epochs)\n",
    "acc_lr = ClfCallback(lr_learner, config.bs, training_data_x , testing_data_x, training_data_y, testing_data_y)\n",
    "lr_learner.set_callbacks([acc_lr])"
   ]
  },
  {
   "cell_type": "code",
   "execution_count": 22,
   "id": "d9b133c3",
   "metadata": {
    "execution": {
     "iopub.execute_input": "2021-12-08T00:23:48.631830Z",
     "iopub.status.busy": "2021-12-08T00:23:48.631241Z",
     "iopub.status.idle": "2021-12-08T00:25:15.815246Z",
     "shell.execute_reply": "2021-12-08T00:25:15.815806Z"
    },
    "papermill": {
     "duration": 87.218528,
     "end_time": "2021-12-08T00:25:15.815964",
     "exception": false,
     "start_time": "2021-12-08T00:23:48.597436",
     "status": "completed"
    },
    "tags": []
   },
   "outputs": [
    {
     "name": "stdout",
     "output_type": "stream",
     "text": [
      "Epoch 0, Loss 0.2547\n",
      "Training Accuracy: 0.4859, Testing Accuracy: 0.4884\n",
      "\n"
     ]
    },
    {
     "name": "stdout",
     "output_type": "stream",
     "text": [
      "Epoch 10, Loss 0.2431\n",
      "Training Accuracy: 0.6332, Testing Accuracy: 0.6477\n",
      "\n"
     ]
    },
    {
     "name": "stdout",
     "output_type": "stream",
     "text": [
      "Epoch 20, Loss 0.2091\n",
      "Training Accuracy: 0.8421, Testing Accuracy: 0.8629\n",
      "\n"
     ]
    },
    {
     "name": "stdout",
     "output_type": "stream",
     "text": [
      "Epoch 30, Loss 0.1151\n",
      "Training Accuracy: 0.9049, Testing Accuracy: 0.9173\n",
      "\n"
     ]
    },
    {
     "name": "stdout",
     "output_type": "stream",
     "text": [
      "Epoch 40, Loss 0.0683\n",
      "Training Accuracy: 0.9298, Testing Accuracy: 0.9420\n",
      "\n"
     ]
    },
    {
     "name": "stdout",
     "output_type": "stream",
     "text": [
      "Epoch 50, Loss 0.0518\n",
      "Training Accuracy: 0.9436, Testing Accuracy: 0.9531\n",
      "\n"
     ]
    },
    {
     "name": "stdout",
     "output_type": "stream",
     "text": [
      "Epoch 60, Loss 0.0437\n",
      "Training Accuracy: 0.9490, Testing Accuracy: 0.9572\n",
      "\n"
     ]
    },
    {
     "name": "stdout",
     "output_type": "stream",
     "text": [
      "Epoch 70, Loss 0.039\n",
      "Training Accuracy: 0.9559, Testing Accuracy: 0.9602\n",
      "\n"
     ]
    },
    {
     "name": "stdout",
     "output_type": "stream",
     "text": [
      "Epoch 80, Loss 0.0358\n",
      "Training Accuracy: 0.9591, Testing Accuracy: 0.9642\n",
      "\n"
     ]
    },
    {
     "name": "stdout",
     "output_type": "stream",
     "text": [
      "Epoch 90, Loss 0.0335\n",
      "Training Accuracy: 0.9615, Testing Accuracy: 0.9677\n",
      "\n"
     ]
    },
    {
     "name": "stdout",
     "output_type": "stream",
     "text": [
      "Epoch 100, Loss 0.0318\n",
      "Training Accuracy: 0.9626, Testing Accuracy: 0.9688\n",
      "\n"
     ]
    },
    {
     "name": "stdout",
     "output_type": "stream",
     "text": [
      "Epoch 110, Loss 0.0304\n",
      "Training Accuracy: 0.9643, Testing Accuracy: 0.9703\n",
      "\n"
     ]
    },
    {
     "name": "stdout",
     "output_type": "stream",
     "text": [
      "Epoch 120, Loss 0.0292\n",
      "Training Accuracy: 0.9661, Testing Accuracy: 0.9708\n",
      "\n"
     ]
    },
    {
     "name": "stdout",
     "output_type": "stream",
     "text": [
      "Epoch 130, Loss 0.0282\n",
      "Training Accuracy: 0.9669, Testing Accuracy: 0.9698\n",
      "\n"
     ]
    },
    {
     "name": "stdout",
     "output_type": "stream",
     "text": [
      "Epoch 140, Loss 0.0273\n",
      "Training Accuracy: 0.9682, Testing Accuracy: 0.9693\n",
      "\n"
     ]
    },
    {
     "name": "stdout",
     "output_type": "stream",
     "text": [
      "Epoch 150, Loss 0.0265\n",
      "Training Accuracy: 0.9693, Testing Accuracy: 0.9708\n",
      "\n"
     ]
    },
    {
     "name": "stdout",
     "output_type": "stream",
     "text": [
      "Epoch 160, Loss 0.0258\n",
      "Training Accuracy: 0.9709, Testing Accuracy: 0.9713\n",
      "\n"
     ]
    },
    {
     "name": "stdout",
     "output_type": "stream",
     "text": [
      "Epoch 170, Loss 0.0251\n",
      "Training Accuracy: 0.9712, Testing Accuracy: 0.9718\n",
      "\n"
     ]
    },
    {
     "name": "stdout",
     "output_type": "stream",
     "text": [
      "Epoch 180, Loss 0.0245\n",
      "Training Accuracy: 0.9723, Testing Accuracy: 0.9723\n",
      "\n"
     ]
    },
    {
     "name": "stdout",
     "output_type": "stream",
     "text": [
      "Epoch 190, Loss 0.024\n",
      "Training Accuracy: 0.9728, Testing Accuracy: 0.9728\n",
      "\n"
     ]
    },
    {
     "name": "stdout",
     "output_type": "stream",
     "text": [
      "Epoch 200, Loss 0.0235\n",
      "Training Accuracy: 0.9733, Testing Accuracy: 0.9733\n",
      "\n"
     ]
    },
    {
     "name": "stdout",
     "output_type": "stream",
     "text": [
      "Epoch 210, Loss 0.023\n",
      "Training Accuracy: 0.9737, Testing Accuracy: 0.9728\n",
      "\n"
     ]
    },
    {
     "name": "stdout",
     "output_type": "stream",
     "text": [
      "Epoch 220, Loss 0.0226\n",
      "Training Accuracy: 0.9748, Testing Accuracy: 0.9733\n",
      "\n"
     ]
    },
    {
     "name": "stdout",
     "output_type": "stream",
     "text": [
      "Epoch 230, Loss 0.0221\n",
      "Training Accuracy: 0.9749, Testing Accuracy: 0.9723\n",
      "\n"
     ]
    },
    {
     "name": "stdout",
     "output_type": "stream",
     "text": [
      "Epoch 240, Loss 0.0217\n",
      "Training Accuracy: 0.9755, Testing Accuracy: 0.9728\n",
      "\n"
     ]
    },
    {
     "data": {
      "text/plain": [
       "0.031767014513818435"
      ]
     },
     "execution_count": 22,
     "metadata": {},
     "output_type": "execute_result"
    }
   ],
   "source": [
    "nn_learner.train_loop(dl)"
   ]
  },
  {
   "cell_type": "code",
   "execution_count": 23,
   "id": "e0163366",
   "metadata": {
    "execution": {
     "iopub.execute_input": "2021-12-08T00:25:15.904098Z",
     "iopub.status.busy": "2021-12-08T00:25:15.903496Z",
     "iopub.status.idle": "2021-12-08T00:25:31.257834Z",
     "shell.execute_reply": "2021-12-08T00:25:31.258657Z"
    },
    "papermill": {
     "duration": 15.403544,
     "end_time": "2021-12-08T00:25:31.258819",
     "exception": false,
     "start_time": "2021-12-08T00:25:15.855275",
     "status": "completed"
    },
    "tags": []
   },
   "outputs": [
    {
     "name": "stdout",
     "output_type": "stream",
     "text": [
      "Epoch 0, Loss 0.268\n",
      "Training Accuracy: 0.5769, Testing Accuracy: 0.5575\n",
      "\n"
     ]
    },
    {
     "name": "stdout",
     "output_type": "stream",
     "text": [
      "Epoch 10, Loss 0.1034\n",
      "Training Accuracy: 0.9105, Testing Accuracy: 0.9194\n",
      "\n"
     ]
    },
    {
     "name": "stdout",
     "output_type": "stream",
     "text": [
      "Epoch 20, Loss 0.0793\n",
      "Training Accuracy: 0.9257, Testing Accuracy: 0.9405\n",
      "\n"
     ]
    },
    {
     "name": "stdout",
     "output_type": "stream",
     "text": [
      "Epoch 30, Loss 0.0685\n",
      "Training Accuracy: 0.9342, Testing Accuracy: 0.9466\n",
      "\n"
     ]
    },
    {
     "name": "stdout",
     "output_type": "stream",
     "text": [
      "Epoch 40, Loss 0.062\n",
      "Training Accuracy: 0.9383, Testing Accuracy: 0.9526\n",
      "\n"
     ]
    },
    {
     "name": "stdout",
     "output_type": "stream",
     "text": [
      "Epoch 50, Loss 0.0575\n",
      "Training Accuracy: 0.9424, Testing Accuracy: 0.9546\n",
      "\n"
     ]
    },
    {
     "name": "stdout",
     "output_type": "stream",
     "text": [
      "Epoch 60, Loss 0.0543\n",
      "Training Accuracy: 0.9456, Testing Accuracy: 0.9572\n",
      "\n"
     ]
    },
    {
     "name": "stdout",
     "output_type": "stream",
     "text": [
      "Epoch 70, Loss 0.0517\n",
      "Training Accuracy: 0.9483, Testing Accuracy: 0.9592\n",
      "\n"
     ]
    },
    {
     "name": "stdout",
     "output_type": "stream",
     "text": [
      "Epoch 80, Loss 0.0497\n",
      "Training Accuracy: 0.9500, Testing Accuracy: 0.9612\n",
      "\n"
     ]
    },
    {
     "name": "stdout",
     "output_type": "stream",
     "text": [
      "Epoch 90, Loss 0.048\n",
      "Training Accuracy: 0.9513, Testing Accuracy: 0.9622\n",
      "\n"
     ]
    },
    {
     "name": "stdout",
     "output_type": "stream",
     "text": [
      "Epoch 100, Loss 0.0465\n",
      "Training Accuracy: 0.9525, Testing Accuracy: 0.9622\n",
      "\n"
     ]
    },
    {
     "name": "stdout",
     "output_type": "stream",
     "text": [
      "Epoch 110, Loss 0.0453\n",
      "Training Accuracy: 0.9532, Testing Accuracy: 0.9622\n",
      "\n"
     ]
    },
    {
     "name": "stdout",
     "output_type": "stream",
     "text": [
      "Epoch 120, Loss 0.0442\n",
      "Training Accuracy: 0.9536, Testing Accuracy: 0.9622\n",
      "\n"
     ]
    },
    {
     "name": "stdout",
     "output_type": "stream",
     "text": [
      "Epoch 130, Loss 0.0433\n",
      "Training Accuracy: 0.9546, Testing Accuracy: 0.9632\n",
      "\n"
     ]
    },
    {
     "name": "stdout",
     "output_type": "stream",
     "text": [
      "Epoch 140, Loss 0.0425\n",
      "Training Accuracy: 0.9557, Testing Accuracy: 0.9647\n",
      "\n"
     ]
    },
    {
     "name": "stdout",
     "output_type": "stream",
     "text": [
      "Epoch 150, Loss 0.0417\n",
      "Training Accuracy: 0.9564, Testing Accuracy: 0.9647\n",
      "\n"
     ]
    },
    {
     "name": "stdout",
     "output_type": "stream",
     "text": [
      "Epoch 160, Loss 0.041\n",
      "Training Accuracy: 0.9572, Testing Accuracy: 0.9652\n",
      "\n"
     ]
    },
    {
     "name": "stdout",
     "output_type": "stream",
     "text": [
      "Epoch 170, Loss 0.0404\n",
      "Training Accuracy: 0.9575, Testing Accuracy: 0.9657\n",
      "\n"
     ]
    },
    {
     "name": "stdout",
     "output_type": "stream",
     "text": [
      "Epoch 180, Loss 0.0398\n",
      "Training Accuracy: 0.9579, Testing Accuracy: 0.9657\n",
      "\n"
     ]
    },
    {
     "name": "stdout",
     "output_type": "stream",
     "text": [
      "Epoch 190, Loss 0.0393\n",
      "Training Accuracy: 0.9589, Testing Accuracy: 0.9657\n",
      "\n"
     ]
    },
    {
     "name": "stdout",
     "output_type": "stream",
     "text": [
      "Epoch 200, Loss 0.0388\n",
      "Training Accuracy: 0.9592, Testing Accuracy: 0.9667\n",
      "\n"
     ]
    },
    {
     "name": "stdout",
     "output_type": "stream",
     "text": [
      "Epoch 210, Loss 0.0384\n",
      "Training Accuracy: 0.9595, Testing Accuracy: 0.9672\n",
      "\n"
     ]
    },
    {
     "name": "stdout",
     "output_type": "stream",
     "text": [
      "Epoch 220, Loss 0.0379\n",
      "Training Accuracy: 0.9601, Testing Accuracy: 0.9672\n",
      "\n"
     ]
    },
    {
     "name": "stdout",
     "output_type": "stream",
     "text": [
      "Epoch 230, Loss 0.0376\n",
      "Training Accuracy: 0.9604, Testing Accuracy: 0.9672\n",
      "\n"
     ]
    },
    {
     "name": "stdout",
     "output_type": "stream",
     "text": [
      "Epoch 240, Loss 0.0372\n",
      "Training Accuracy: 0.9605, Testing Accuracy: 0.9677\n",
      "\n"
     ]
    },
    {
     "data": {
      "text/plain": [
       "0.06329780769323297"
      ]
     },
     "execution_count": 23,
     "metadata": {},
     "output_type": "execute_result"
    }
   ],
   "source": [
    "lr_learner.train_loop(dl)"
   ]
  },
  {
   "cell_type": "code",
   "execution_count": 24,
   "id": "ca410940",
   "metadata": {
    "execution": {
     "iopub.execute_input": "2021-12-08T00:25:31.364119Z",
     "iopub.status.busy": "2021-12-08T00:25:31.363488Z",
     "iopub.status.idle": "2021-12-08T00:25:31.609535Z",
     "shell.execute_reply": "2021-12-08T00:25:31.610033Z"
    },
    "papermill": {
     "duration": 0.307271,
     "end_time": "2021-12-08T00:25:31.610188",
     "exception": false,
     "start_time": "2021-12-08T00:25:31.302917",
     "status": "completed"
    },
    "tags": []
   },
   "outputs": [
    {
     "data": {
      "text/plain": [
       "<matplotlib.legend.Legend at 0x7f836045cbe0>"
      ]
     },
     "execution_count": 24,
     "metadata": {},
     "output_type": "execute_result"
    },
    {
     "data": {
      "image/png": "[encoded data removed]",
      "text/plain": [
       "<Figure size 1080x720 with 1 Axes>"
      ]
     },
     "metadata": {
      "needs_background": "light"
     },
     "output_type": "display_data"
    }
   ],
   "source": [
    "#comparing the results of NN and LR\n",
    "plt.figure(figsize=(15,10))\n",
    "\n",
    "# Neural Network plots\n",
    "plt.plot(acc_nn.accuracies, 'r-', label = \"Training Accuracies - NN\")\n",
    "plt.plot(acc_nn.test_accuracies, 'g-', label = \"Testing Accuracies - NN\")\n",
    "\n",
    "# Logistic Regression plots\n",
    "plt.plot(acc_lr.accuracies, 'k-', label = \"Training Accuracies - LR\")\n",
    "plt.plot(acc_lr.test_accuracies, 'b-', label = \"Testing Accuracies - LR\")\n",
    "plt.legend()"
   ]
  },
  {
   "cell_type": "markdown",
   "id": "80dfb35c",
   "metadata": {
    "papermill": {
     "duration": 0.044266,
     "end_time": "2021-12-08T00:25:31.698986",
     "exception": false,
     "start_time": "2021-12-08T00:25:31.654720",
     "status": "completed"
    },
    "tags": []
   },
   "source": [
    "#### Plotting the outputs of this layer of the NN.\n"
   ]
  },
  {
   "cell_type": "code",
   "execution_count": 25,
   "id": "45eb2ff5",
   "metadata": {
    "execution": {
     "iopub.execute_input": "2021-12-08T00:25:31.792485Z",
     "iopub.status.busy": "2021-12-08T00:25:31.791460Z",
     "iopub.status.idle": "2021-12-08T00:25:31.811836Z",
     "shell.execute_reply": "2021-12-08T00:25:31.812396Z"
    },
    "papermill": {
     "duration": 0.070601,
     "end_time": "2021-12-08T00:25:31.812551",
     "exception": false,
     "start_time": "2021-12-08T00:25:31.741950",
     "status": "completed"
    },
    "tags": []
   },
   "outputs": [],
   "source": [
    "new_model = Model(layers[:-2])\n",
    "testing_plot = new_model(testing_data_x)"
   ]
  },
  {
   "cell_type": "code",
   "execution_count": 26,
   "id": "4c0a5485",
   "metadata": {
    "execution": {
     "iopub.execute_input": "2021-12-08T00:25:31.922793Z",
     "iopub.status.busy": "2021-12-08T00:25:31.922120Z",
     "iopub.status.idle": "2021-12-08T00:25:32.149524Z",
     "shell.execute_reply": "2021-12-08T00:25:32.149030Z"
    },
    "papermill": {
     "duration": 0.288724,
     "end_time": "2021-12-08T00:25:32.149652",
     "exception": false,
     "start_time": "2021-12-08T00:25:31.860928",
     "status": "completed"
    },
    "tags": []
   },
   "outputs": [
    {
     "data": {
      "text/plain": [
       "Text(0.5, 1.0, 'Outputs')"
      ]
     },
     "execution_count": 26,
     "metadata": {},
     "output_type": "execute_result"
    },
    {
     "data": {
      "image/png": "[encoded data removed]",
      "text/plain": [
       "<Figure size 576x504 with 1 Axes>"
      ]
     },
     "metadata": {
      "needs_background": "light"
     },
     "output_type": "display_data"
    }
   ],
   "source": [
    "# Plotting the scatter plot of points and color coding by class\n",
    "plt.figure(figsize=(8,7))\n",
    "plt.scatter(testing_plot[:,0], testing_plot[:,1], alpha = 0.1, c = y_test.ravel());\n",
    "plt.title('Outputs')"
   ]
  },
  {
   "cell_type": "markdown",
   "id": "a74fcf8f",
   "metadata": {
    "papermill": {
     "duration": 0.047166,
     "end_time": "2021-12-08T00:25:32.244216",
     "exception": false,
     "start_time": "2021-12-08T00:25:32.197050",
     "status": "completed"
    },
    "tags": []
   },
   "source": [
    "Probability contours"
   ]
  },
  {
   "cell_type": "code",
   "execution_count": 27,
   "id": "d0afc8e3",
   "metadata": {
    "execution": {
     "iopub.execute_input": "2021-12-08T00:25:32.345232Z",
     "iopub.status.busy": "2021-12-08T00:25:32.343030Z",
     "iopub.status.idle": "2021-12-08T00:25:32.354915Z",
     "shell.execute_reply": "2021-12-08T00:25:32.355363Z"
    },
    "papermill": {
     "duration": 0.065226,
     "end_time": "2021-12-08T00:25:32.355507",
     "exception": false,
     "start_time": "2021-12-08T00:25:32.290281",
     "status": "completed"
    },
    "tags": []
   },
   "outputs": [],
   "source": [
    "model_prob = Model(layers[-2:]) "
   ]
  },
  {
   "cell_type": "code",
   "execution_count": 28,
   "id": "9b96e238",
   "metadata": {
    "execution": {
     "iopub.execute_input": "2021-12-08T00:25:32.493584Z",
     "iopub.status.busy": "2021-12-08T00:25:32.492971Z",
     "iopub.status.idle": "2021-12-08T00:25:32.508709Z",
     "shell.execute_reply": "2021-12-08T00:25:32.509166Z"
    },
    "papermill": {
     "duration": 0.074084,
     "end_time": "2021-12-08T00:25:32.509324",
     "exception": false,
     "start_time": "2021-12-08T00:25:32.435240",
     "status": "completed"
    },
    "tags": []
   },
   "outputs": [],
   "source": [
    "#creating the x and y ranges according to the above generated plot.\n",
    "x_range = np.linspace(-4, 1, 100) \n",
    "y_range = np.linspace(-6, 6, 100) \n",
    "x_grid, y_grid = np.meshgrid(x_range, y_range) # x_grid and y_grig are of size 100 X 100\n",
    "\n",
    "# converting x_grid and y_grid to continuous arrays\n",
    "x_gridflat = np.ravel(x_grid)\n",
    "y_gridflat = np.ravel(y_grid)\n",
    "\n",
    "# The last layer of the current model takes two columns as input. Hence transpose of np.vstack() is required.\n",
    "X = np.vstack((x_gridflat, y_gridflat)).T\n",
    "\n",
    "prob_contour = model_prob(X).reshape(100,100) "
   ]
  },
  {
   "cell_type": "code",
   "execution_count": 29,
   "id": "da72499a",
   "metadata": {
    "execution": {
     "iopub.execute_input": "2021-12-08T00:25:32.627135Z",
     "iopub.status.busy": "2021-12-08T00:25:32.626477Z",
     "iopub.status.idle": "2021-12-08T00:25:32.911410Z",
     "shell.execute_reply": "2021-12-08T00:25:32.911891Z"
    },
    "papermill": {
     "duration": 0.352738,
     "end_time": "2021-12-08T00:25:32.912050",
     "exception": false,
     "start_time": "2021-12-08T00:25:32.559312",
     "status": "completed"
    },
    "tags": []
   },
   "outputs": [
    {
     "data": {
      "image/png": "[encoded data removed]",
      "text/plain": [
       "<Figure size 720x648 with 1 Axes>"
      ]
     },
     "metadata": {
      "needs_background": "light"
     },
     "output_type": "display_data"
    }
   ],
   "source": [
    "plt.figure(figsize=(10,9))\n",
    "plt.scatter(testing_plot[:,0], testing_plot[:,1], alpha = 0.1, c = y_test.ravel())\n",
    "contours = plt.contour(x_grid,y_grid,prob_contour)\n",
    "plt.title('Probability Contours')\n",
    "plt.clabel(contours, inline = True );"
   ]
  },
  {
   "cell_type": "code",
   "execution_count": null,
   "id": "e81b4ac7",
   "metadata": {
    "papermill": {
     "duration": 0.051503,
     "end_time": "2021-12-08T00:25:33.016696",
     "exception": false,
     "start_time": "2021-12-08T00:25:32.965193",
     "status": "completed"
    },
    "tags": []
   },
   "outputs": [],
   "source": []
  }
 ],
 "metadata": {
  "kernelspec": {
   "display_name": "Python 3",
   "language": "python",
   "name": "python3"
  },
  "language_info": {
   "codemirror_mode": {
    "name": "ipython",
    "version": 3
   },
   "file_extension": ".py",
   "mimetype": "text/x-python",
   "name": "python",
   "nbconvert_exporter": "python",
   "pygments_lexer": "ipython3",
   "version": "3.6.15"
  },
  "papermill": {
   "default_parameters": {},
   "duration": 112.37324,
   "end_time": "2021-12-08T00:25:33.479045",
   "environment_variables": {},
   "exception": null,
   "input_path": "2020-08-11-part2.ipynb",
   "output_path": "2020-08-11-part2.ipynb",
   "parameters": {},
   "start_time": "2021-12-08T00:23:41.105805",
   "version": "2.3.3"
  }
 },
 "nbformat": 4,
 "nbformat_minor": 5
}