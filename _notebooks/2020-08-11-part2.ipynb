{
 "cells": [
  {
   "cell_type": "markdown",
   "id": "98380cd3",
   "metadata": {
    "papermill": {
     "duration": 0.02879,
     "end_time": "2022-02-18T00:27:57.349662",
     "exception": false,
     "start_time": "2022-02-18T00:27:57.320872",
     "status": "completed"
    },
    "tags": []
   },
   "source": [
    "# Distinguish Your Own Digits (DYOD)"
   ]
  },
  {
   "cell_type": "markdown",
   "id": "ef31240d",
   "metadata": {
    "papermill": {
     "duration": 0.024804,
     "end_time": "2022-02-18T00:27:57.398702",
     "exception": false,
     "start_time": "2022-02-18T00:27:57.373898",
     "status": "completed"
    },
    "tags": []
   },
   "source": [
    "You are going to write a classifier that distinguishes between the number 3 and number 8."
   ]
  },
  {
   "cell_type": "code",
   "execution_count": 1,
   "id": "b15c8646",
   "metadata": {
    "execution": {
     "iopub.execute_input": "2022-02-18T00:27:57.456492Z",
     "iopub.status.busy": "2022-02-18T00:27:57.455941Z",
     "iopub.status.idle": "2022-02-18T00:27:57.465487Z",
     "shell.execute_reply": "2022-02-18T00:27:57.465872Z"
    },
    "papermill": {
     "duration": 0.043751,
     "end_time": "2022-02-18T00:27:57.466020",
     "exception": false,
     "start_time": "2022-02-18T00:27:57.422269",
     "status": "completed"
    },
    "tags": []
   },
   "outputs": [],
   "source": [
    "%load_ext autoreload\n",
    "%autoreload 2"
   ]
  },
  {
   "cell_type": "code",
   "execution_count": 2,
   "id": "22ef38dc",
   "metadata": {
    "execution": {
     "iopub.execute_input": "2022-02-18T00:27:57.528596Z",
     "iopub.status.busy": "2022-02-18T00:27:57.523478Z",
     "iopub.status.idle": "2022-02-18T00:27:58.087272Z",
     "shell.execute_reply": "2022-02-18T00:27:58.086744Z"
    },
    "papermill": {
     "duration": 0.597694,
     "end_time": "2022-02-18T00:27:58.087412",
     "exception": false,
     "start_time": "2022-02-18T00:27:57.489718",
     "status": "completed"
    },
    "tags": []
   },
   "outputs": [],
   "source": [
    "%matplotlib inline\n",
    "import numpy as np\n",
    "import matplotlib.pyplot as plt\n",
    "import pandas as pd"
   ]
  },
  {
   "cell_type": "markdown",
   "id": "ba036198",
   "metadata": {
    "papermill": {
     "duration": 0.023771,
     "end_time": "2022-02-18T00:27:58.135190",
     "exception": false,
     "start_time": "2022-02-18T00:27:58.111419",
     "status": "completed"
    },
    "tags": []
   },
   "source": [
    "From the command line run `pip install mnist`. This is a library that will help you bring down the mnist dataset. If you run this from a notebook, you need to put  `!pip install mnist` in a cell by itself."
   ]
  },
  {
   "cell_type": "code",
   "execution_count": 3,
   "id": "bb6ad8a1",
   "metadata": {
    "execution": {
     "iopub.execute_input": "2022-02-18T00:27:58.189031Z",
     "iopub.status.busy": "2022-02-18T00:27:58.188529Z",
     "iopub.status.idle": "2022-02-18T00:27:59.810334Z",
     "shell.execute_reply": "2022-02-18T00:27:59.809801Z"
    },
    "papermill": {
     "duration": 1.651521,
     "end_time": "2022-02-18T00:27:59.810470",
     "exception": false,
     "start_time": "2022-02-18T00:27:58.158949",
     "status": "completed"
    },
    "tags": []
   },
   "outputs": [
    {
     "name": "stdout",
     "output_type": "stream",
     "text": [
      "Collecting mnist\r\n"
     ]
    },
    {
     "name": "stdout",
     "output_type": "stream",
     "text": [
      "  Downloading mnist-0.2.2-py2.py3-none-any.whl (3.5 kB)\r\n",
      "Requirement already satisfied: numpy in /opt/hostedtoolcache/Python/3.6.15/x64/lib/python3.6/site-packages (from mnist) (1.19.5)\r\n"
     ]
    },
    {
     "name": "stdout",
     "output_type": "stream",
     "text": [
      "Installing collected packages: mnist\r\n",
      "Successfully installed mnist-0.2.2\r\n"
     ]
    }
   ],
   "source": [
    "!pip install mnist"
   ]
  },
  {
   "cell_type": "markdown",
   "id": "69df9c9a",
   "metadata": {
    "papermill": {
     "duration": 0.024756,
     "end_time": "2022-02-18T00:27:59.860972",
     "exception": false,
     "start_time": "2022-02-18T00:27:59.836216",
     "status": "completed"
    },
    "tags": []
   },
   "source": [
    "## Preparing the Data"
   ]
  },
  {
   "cell_type": "code",
   "execution_count": 4,
   "id": "7f69d806",
   "metadata": {
    "execution": {
     "iopub.execute_input": "2022-02-18T00:27:59.925022Z",
     "iopub.status.busy": "2022-02-18T00:27:59.924520Z",
     "iopub.status.idle": "2022-02-18T00:27:59.931273Z",
     "shell.execute_reply": "2022-02-18T00:27:59.930865Z"
    },
    "papermill": {
     "duration": 0.04612,
     "end_time": "2022-02-18T00:27:59.931381",
     "exception": false,
     "start_time": "2022-02-18T00:27:59.885261",
     "status": "completed"
    },
    "tags": []
   },
   "outputs": [],
   "source": [
    "import mnist"
   ]
  },
  {
   "cell_type": "code",
   "execution_count": 5,
   "id": "a411e44f",
   "metadata": {
    "execution": {
     "iopub.execute_input": "2022-02-18T00:27:59.991726Z",
     "iopub.status.busy": "2022-02-18T00:27:59.991226Z",
     "iopub.status.idle": "2022-02-18T00:28:00.510891Z",
     "shell.execute_reply": "2022-02-18T00:28:00.510379Z"
    },
    "papermill": {
     "duration": 0.554993,
     "end_time": "2022-02-18T00:28:00.511026",
     "exception": false,
     "start_time": "2022-02-18T00:27:59.956033",
     "status": "completed"
    },
    "tags": []
   },
   "outputs": [],
   "source": [
    "train_images = mnist.train_images()\n",
    "train_labels = mnist.train_labels()"
   ]
  },
  {
   "cell_type": "code",
   "execution_count": 6,
   "id": "dceab3a5",
   "metadata": {
    "execution": {
     "iopub.execute_input": "2022-02-18T00:28:00.570346Z",
     "iopub.status.busy": "2022-02-18T00:28:00.569828Z",
     "iopub.status.idle": "2022-02-18T00:28:00.583214Z",
     "shell.execute_reply": "2022-02-18T00:28:00.582783Z"
    },
    "papermill": {
     "duration": 0.046617,
     "end_time": "2022-02-18T00:28:00.583324",
     "exception": false,
     "start_time": "2022-02-18T00:28:00.536707",
     "status": "completed"
    },
    "tags": []
   },
   "outputs": [
    {
     "data": {
      "text/plain": [
       "((60000, 28, 28), (60000,))"
      ]
     },
     "execution_count": 6,
     "metadata": {},
     "output_type": "execute_result"
    }
   ],
   "source": [
    "train_images.shape, train_labels.shape"
   ]
  },
  {
   "cell_type": "code",
   "execution_count": 7,
   "id": "f50dc2bb",
   "metadata": {
    "execution": {
     "iopub.execute_input": "2022-02-18T00:28:00.649081Z",
     "iopub.status.busy": "2022-02-18T00:28:00.648568Z",
     "iopub.status.idle": "2022-02-18T00:28:00.774809Z",
     "shell.execute_reply": "2022-02-18T00:28:00.774285Z"
    },
    "papermill": {
     "duration": 0.166825,
     "end_time": "2022-02-18T00:28:00.774944",
     "exception": false,
     "start_time": "2022-02-18T00:28:00.608119",
     "status": "completed"
    },
    "tags": []
   },
   "outputs": [],
   "source": [
    "test_images = mnist.test_images()\n",
    "test_labels = mnist.test_labels()"
   ]
  },
  {
   "cell_type": "code",
   "execution_count": 8,
   "id": "fc38cf1b",
   "metadata": {
    "execution": {
     "iopub.execute_input": "2022-02-18T00:28:00.836431Z",
     "iopub.status.busy": "2022-02-18T00:28:00.835917Z",
     "iopub.status.idle": "2022-02-18T00:28:00.844637Z",
     "shell.execute_reply": "2022-02-18T00:28:00.844234Z"
    },
    "papermill": {
     "duration": 0.043532,
     "end_time": "2022-02-18T00:28:00.844744",
     "exception": false,
     "start_time": "2022-02-18T00:28:00.801212",
     "status": "completed"
    },
    "tags": []
   },
   "outputs": [
    {
     "data": {
      "text/plain": [
       "((10000, 28, 28), (10000,))"
      ]
     },
     "execution_count": 8,
     "metadata": {},
     "output_type": "execute_result"
    }
   ],
   "source": [
    "test_images.shape, test_labels.shape"
   ]
  },
  {
   "cell_type": "code",
   "execution_count": 9,
   "id": "f9ed8fe0",
   "metadata": {
    "execution": {
     "iopub.execute_input": "2022-02-18T00:28:00.897790Z",
     "iopub.status.busy": "2022-02-18T00:28:00.897297Z",
     "iopub.status.idle": "2022-02-18T00:28:01.032175Z",
     "shell.execute_reply": "2022-02-18T00:28:01.032592Z"
    },
    "papermill": {
     "duration": 0.163039,
     "end_time": "2022-02-18T00:28:01.032724",
     "exception": false,
     "start_time": "2022-02-18T00:28:00.869685",
     "status": "completed"
    },
    "tags": []
   },
   "outputs": [
    {
     "name": "stdout",
     "output_type": "stream",
     "text": [
      "2\n"
     ]
    },
    {
     "data": {
      "text/plain": [
       "<matplotlib.image.AxesImage at 0x7f5d04e8c518>"
      ]
     },
     "execution_count": 9,
     "metadata": {},
     "output_type": "execute_result"
    },
    {
     "data": {
      "image/png": "[encoded data removed]",
      "text/plain": [
       "<Figure size 432x288 with 1 Axes>"
      ]
     },
     "metadata": {
      "needs_background": "light"
     },
     "output_type": "display_data"
    }
   ],
   "source": [
    "image_index = 7776 # You may select anything up to 60,000\n",
    "print(train_labels[image_index]) \n",
    "plt.imshow(train_images[image_index], cmap='Greys')"
   ]
  },
  {
   "cell_type": "markdown",
   "id": "a8d2388d",
   "metadata": {
    "papermill": {
     "duration": 0.026517,
     "end_time": "2022-02-18T00:28:01.085550",
     "exception": false,
     "start_time": "2022-02-18T00:28:01.059033",
     "status": "completed"
    },
    "tags": []
   },
   "source": [
    "## Filter data to get 3 and 8 out"
   ]
  },
  {
   "cell_type": "code",
   "execution_count": 10,
   "id": "776f7fc7",
   "metadata": {
    "execution": {
     "iopub.execute_input": "2022-02-18T00:28:01.152573Z",
     "iopub.status.busy": "2022-02-18T00:28:01.150698Z",
     "iopub.status.idle": "2022-02-18T00:28:01.163090Z",
     "shell.execute_reply": "2022-02-18T00:28:01.163497Z"
    },
    "papermill": {
     "duration": 0.051898,
     "end_time": "2022-02-18T00:28:01.163634",
     "exception": false,
     "start_time": "2022-02-18T00:28:01.111736",
     "status": "completed"
    },
    "tags": []
   },
   "outputs": [],
   "source": [
    "train_filter = np.where((train_labels == 3 ) | (train_labels == 8))\n",
    "test_filter = np.where((test_labels == 3) | (test_labels == 8))\n",
    "X_train, y_train = train_images[train_filter], train_labels[train_filter]\n",
    "X_test, y_test = test_images[test_filter], test_labels[test_filter]"
   ]
  },
  {
   "cell_type": "markdown",
   "id": "948f0b7e",
   "metadata": {
    "papermill": {
     "duration": 0.02613,
     "end_time": "2022-02-18T00:28:01.215974",
     "exception": false,
     "start_time": "2022-02-18T00:28:01.189844",
     "status": "completed"
    },
    "tags": []
   },
   "source": [
    "We normalize the pizel values in the 0 to 1 range"
   ]
  },
  {
   "cell_type": "code",
   "execution_count": 11,
   "id": "ee4c2166",
   "metadata": {
    "execution": {
     "iopub.execute_input": "2022-02-18T00:28:01.284147Z",
     "iopub.status.busy": "2022-02-18T00:28:01.270818Z",
     "iopub.status.idle": "2022-02-18T00:28:01.322021Z",
     "shell.execute_reply": "2022-02-18T00:28:01.321549Z"
    },
    "papermill": {
     "duration": 0.080191,
     "end_time": "2022-02-18T00:28:01.322147",
     "exception": false,
     "start_time": "2022-02-18T00:28:01.241956",
     "status": "completed"
    },
    "tags": []
   },
   "outputs": [],
   "source": [
    "X_train = X_train/255.\n",
    "X_test = X_test/255."
   ]
  },
  {
   "cell_type": "markdown",
   "id": "ddcf4fab",
   "metadata": {
    "papermill": {
     "duration": 0.026225,
     "end_time": "2022-02-18T00:28:01.375355",
     "exception": false,
     "start_time": "2022-02-18T00:28:01.349130",
     "status": "completed"
    },
    "tags": []
   },
   "source": [
    "And setup the labels as 1 (when the digit is 3) and 0 (when the digit is 8)"
   ]
  },
  {
   "cell_type": "code",
   "execution_count": 12,
   "id": "7dc908f2",
   "metadata": {
    "execution": {
     "iopub.execute_input": "2022-02-18T00:28:01.431206Z",
     "iopub.status.busy": "2022-02-18T00:28:01.430698Z",
     "iopub.status.idle": "2022-02-18T00:28:01.442513Z",
     "shell.execute_reply": "2022-02-18T00:28:01.442108Z"
    },
    "papermill": {
     "duration": 0.041065,
     "end_time": "2022-02-18T00:28:01.442621",
     "exception": false,
     "start_time": "2022-02-18T00:28:01.401556",
     "status": "completed"
    },
    "tags": []
   },
   "outputs": [],
   "source": [
    "y_train = 1*(y_train==3)\n",
    "y_test = 1*(y_test==3)"
   ]
  },
  {
   "cell_type": "code",
   "execution_count": 13,
   "id": "01e4e969",
   "metadata": {
    "execution": {
     "iopub.execute_input": "2022-02-18T00:28:01.512141Z",
     "iopub.status.busy": "2022-02-18T00:28:01.508651Z",
     "iopub.status.idle": "2022-02-18T00:28:01.514775Z",
     "shell.execute_reply": "2022-02-18T00:28:01.515203Z"
    },
    "papermill": {
     "duration": 0.046432,
     "end_time": "2022-02-18T00:28:01.515324",
     "exception": false,
     "start_time": "2022-02-18T00:28:01.468892",
     "status": "completed"
    },
    "tags": []
   },
   "outputs": [
    {
     "data": {
      "text/plain": [
       "((11982, 28, 28), (1984, 28, 28))"
      ]
     },
     "execution_count": 13,
     "metadata": {},
     "output_type": "execute_result"
    }
   ],
   "source": [
    "X_train.shape, X_test.shape"
   ]
  },
  {
   "cell_type": "markdown",
   "id": "5ccf3f85",
   "metadata": {
    "papermill": {
     "duration": 0.026077,
     "end_time": "2022-02-18T00:28:01.567630",
     "exception": false,
     "start_time": "2022-02-18T00:28:01.541553",
     "status": "completed"
    },
    "tags": []
   },
   "source": [
    "We reshape the data to flatten the image pixels into a set of features or co-variates:"
   ]
  },
  {
   "cell_type": "code",
   "execution_count": 14,
   "id": "5286a4a3",
   "metadata": {
    "execution": {
     "iopub.execute_input": "2022-02-18T00:28:01.630016Z",
     "iopub.status.busy": "2022-02-18T00:28:01.629498Z",
     "iopub.status.idle": "2022-02-18T00:28:01.639113Z",
     "shell.execute_reply": "2022-02-18T00:28:01.638706Z"
    },
    "papermill": {
     "duration": 0.045338,
     "end_time": "2022-02-18T00:28:01.639221",
     "exception": false,
     "start_time": "2022-02-18T00:28:01.593883",
     "status": "completed"
    },
    "tags": []
   },
   "outputs": [
    {
     "data": {
      "text/plain": [
       "((11982, 784), (1984, 784))"
      ]
     },
     "execution_count": 14,
     "metadata": {},
     "output_type": "execute_result"
    }
   ],
   "source": [
    "X_train = X_train.reshape(X_train.shape[0], -1)\n",
    "X_test = X_test.reshape(X_test.shape[0], -1)\n",
    "X_train.shape, X_test.shape"
   ]
  },
  {
   "cell_type": "code",
   "execution_count": 15,
   "id": "73c5f88a",
   "metadata": {
    "execution": {
     "iopub.execute_input": "2022-02-18T00:28:01.696926Z",
     "iopub.status.busy": "2022-02-18T00:28:01.696429Z",
     "iopub.status.idle": "2022-02-18T00:28:01.714028Z",
     "shell.execute_reply": "2022-02-18T00:28:01.713617Z"
    },
    "papermill": {
     "duration": 0.048373,
     "end_time": "2022-02-18T00:28:01.714135",
     "exception": false,
     "start_time": "2022-02-18T00:28:01.665762",
     "status": "completed"
    },
    "tags": []
   },
   "outputs": [],
   "source": [
    "#Impoting functions from 'Kudzu'\n",
    "from kudzu.model import Model\n",
    "from kudzu.train import Learner\n",
    "from kudzu.optim import GD\n",
    "from kudzu.data import Data, Sampler,Dataloader\n",
    "\n",
    "from kudzu.callbacks import AccCallback\n",
    "from kudzu.callbacks import ClfCallback\n",
    "\n",
    "from kudzu.loss import MSE\n",
    "\n",
    "from kudzu.layer import Sigmoid,Relu\n",
    "from kudzu.layer import Affine"
   ]
  },
  {
   "cell_type": "markdown",
   "id": "bc01172a",
   "metadata": {
    "papermill": {
     "duration": 0.026479,
     "end_time": "2022-02-18T00:28:01.767239",
     "exception": false,
     "start_time": "2022-02-18T00:28:01.740760",
     "status": "completed"
    },
    "tags": []
   },
   "source": [
    "### Let us create a `Config` class, to store important parameters. \n",
    "This class essentially plays the role of a dictionary."
   ]
  },
  {
   "cell_type": "code",
   "execution_count": 16,
   "id": "978281aa",
   "metadata": {
    "execution": {
     "iopub.execute_input": "2022-02-18T00:28:01.825831Z",
     "iopub.status.busy": "2022-02-18T00:28:01.825278Z",
     "iopub.status.idle": "2022-02-18T00:28:01.836324Z",
     "shell.execute_reply": "2022-02-18T00:28:01.835864Z"
    },
    "papermill": {
     "duration": 0.04276,
     "end_time": "2022-02-18T00:28:01.836428",
     "exception": false,
     "start_time": "2022-02-18T00:28:01.793668",
     "status": "completed"
    },
    "tags": []
   },
   "outputs": [],
   "source": [
    "class Config:\n",
    "    pass\n",
    "config = Config()\n",
    "config.lr = 0.001\n",
    "config.num_epochs = 250\n",
    "config.bs = 50"
   ]
  },
  {
   "cell_type": "markdown",
   "id": "1385fa59",
   "metadata": {
    "papermill": {
     "duration": 0.026403,
     "end_time": "2022-02-18T00:28:01.889445",
     "exception": false,
     "start_time": "2022-02-18T00:28:01.863042",
     "status": "completed"
    },
    "tags": []
   },
   "source": [
    "### Running Models with the Training data\n",
    "Details about the network layers:\n",
    "- A first affine layer has 784 inputs and does 100 affine transforms. These are followed by a Relu\n",
    "- A second affine layer has 100 inputs from the 100 activations of the past layer, and does 100 affine transforms. These are followed by a Relu\n",
    "- A third affine layer has 100 activations and does 2 affine transformations to create an embedding for visualization. There is no non-linearity here.\n",
    "- A final \"logistic regression\" which has an affine transform from 2 inputs to 1 output, which is squeezed through a sigmoid.\n"
   ]
  },
  {
   "cell_type": "code",
   "execution_count": 17,
   "id": "2b9c66db",
   "metadata": {
    "execution": {
     "iopub.execute_input": "2022-02-18T00:28:01.959676Z",
     "iopub.status.busy": "2022-02-18T00:28:01.956608Z",
     "iopub.status.idle": "2022-02-18T00:28:01.961600Z",
     "shell.execute_reply": "2022-02-18T00:28:01.961981Z"
    },
    "papermill": {
     "duration": 0.046168,
     "end_time": "2022-02-18T00:28:01.962108",
     "exception": false,
     "start_time": "2022-02-18T00:28:01.915940",
     "status": "completed"
    },
    "tags": []
   },
   "outputs": [],
   "source": [
    "data = Data(X_train, y_train.reshape(-1,1))\n",
    "sampler = Sampler(data, config.bs, shuffle=True)\n",
    "\n",
    "dl = Dataloader(data, sampler)\n",
    "\n",
    "opt = GD(config.lr)\n",
    "loss = MSE()"
   ]
  },
  {
   "cell_type": "code",
   "execution_count": 18,
   "id": "b275e4c2",
   "metadata": {
    "execution": {
     "iopub.execute_input": "2022-02-18T00:28:02.022136Z",
     "iopub.status.busy": "2022-02-18T00:28:02.021279Z",
     "iopub.status.idle": "2022-02-18T00:28:02.031592Z",
     "shell.execute_reply": "2022-02-18T00:28:02.032000Z"
    },
    "papermill": {
     "duration": 0.043306,
     "end_time": "2022-02-18T00:28:02.032126",
     "exception": false,
     "start_time": "2022-02-18T00:28:01.988820",
     "status": "completed"
    },
    "tags": []
   },
   "outputs": [],
   "source": [
    "training_data_x = X_train\n",
    "testing_data_x = X_test\n",
    "training_data_y = y_train.reshape(-1,1)\n",
    "testing_data_y = y_test.reshape(-1,1)"
   ]
  },
  {
   "cell_type": "code",
   "execution_count": 19,
   "id": "76951160",
   "metadata": {
    "execution": {
     "iopub.execute_input": "2022-02-18T00:28:02.089313Z",
     "iopub.status.busy": "2022-02-18T00:28:02.088799Z",
     "iopub.status.idle": "2022-02-18T00:28:02.104611Z",
     "shell.execute_reply": "2022-02-18T00:28:02.104180Z"
    },
    "papermill": {
     "duration": 0.046099,
     "end_time": "2022-02-18T00:28:02.104714",
     "exception": false,
     "start_time": "2022-02-18T00:28:02.058615",
     "status": "completed"
    },
    "tags": []
   },
   "outputs": [
    {
     "name": "stdout",
     "output_type": "stream",
     "text": [
      "xavier\n",
      "xavier\n",
      "xavier\n",
      "xavier\n",
      "xavier\n"
     ]
    }
   ],
   "source": [
    "layers = [Affine(\"first\", 784, 100), Relu(\"first\"), Affine(\"second\", 100, 100), Relu(\"second\"), Affine(\"third\", 100, 2), Affine(\"last\", 2, 1), Sigmoid(\"last\")]\n",
    "model_nn = Model(layers)\n",
    "model_lr = Model([Affine(\"logits\", 784, 1), Sigmoid(\"sigmoid\")])"
   ]
  },
  {
   "cell_type": "code",
   "execution_count": 20,
   "id": "6eede77a",
   "metadata": {
    "execution": {
     "iopub.execute_input": "2022-02-18T00:28:02.164988Z",
     "iopub.status.busy": "2022-02-18T00:28:02.164485Z",
     "iopub.status.idle": "2022-02-18T00:28:02.174108Z",
     "shell.execute_reply": "2022-02-18T00:28:02.173706Z"
    },
    "papermill": {
     "duration": 0.042236,
     "end_time": "2022-02-18T00:28:02.174212",
     "exception": false,
     "start_time": "2022-02-18T00:28:02.131976",
     "status": "completed"
    },
    "tags": []
   },
   "outputs": [],
   "source": [
    "nn_learner = Learner(loss, model_nn, opt, config.num_epochs)\n",
    "acc_nn = ClfCallback(nn_learner, config.bs, training_data_x , testing_data_x, training_data_y, testing_data_y)\n",
    "nn_learner.set_callbacks([acc_nn])"
   ]
  },
  {
   "cell_type": "code",
   "execution_count": 21,
   "id": "877b6cc7",
   "metadata": {
    "execution": {
     "iopub.execute_input": "2022-02-18T00:28:02.233023Z",
     "iopub.status.busy": "2022-02-18T00:28:02.232510Z",
     "iopub.status.idle": "2022-02-18T00:28:02.242697Z",
     "shell.execute_reply": "2022-02-18T00:28:02.243082Z"
    },
    "papermill": {
     "duration": 0.04219,
     "end_time": "2022-02-18T00:28:02.243206",
     "exception": false,
     "start_time": "2022-02-18T00:28:02.201016",
     "status": "completed"
    },
    "tags": []
   },
   "outputs": [],
   "source": [
    "lr_learner = Learner(loss, model_lr, opt, config.num_epochs)\n",
    "acc_lr = ClfCallback(lr_learner, config.bs, training_data_x , testing_data_x, training_data_y, testing_data_y)\n",
    "lr_learner.set_callbacks([acc_lr])"
   ]
  },
  {
   "cell_type": "code",
   "execution_count": 22,
   "id": "d9b133c3",
   "metadata": {
    "execution": {
     "iopub.execute_input": "2022-02-18T00:28:02.313116Z",
     "iopub.status.busy": "2022-02-18T00:28:02.312608Z",
     "iopub.status.idle": "2022-02-18T00:29:16.040804Z",
     "shell.execute_reply": "2022-02-18T00:29:16.041560Z"
    },
    "papermill": {
     "duration": 73.771667,
     "end_time": "2022-02-18T00:29:16.041704",
     "exception": false,
     "start_time": "2022-02-18T00:28:02.270037",
     "status": "completed"
    },
    "tags": []
   },
   "outputs": [
    {
     "name": "stdout",
     "output_type": "stream",
     "text": [
      "Epoch 0, Loss 0.2438\n",
      "Training Accuracy: 0.6537, Testing Accuracy: 0.6568\n",
      "\n"
     ]
    },
    {
     "name": "stdout",
     "output_type": "stream",
     "text": [
      "Epoch 10, Loss 0.1481\n",
      "Training Accuracy: 0.8832, Testing Accuracy: 0.8886\n",
      "\n"
     ]
    },
    {
     "name": "stdout",
     "output_type": "stream",
     "text": [
      "Epoch 20, Loss 0.0765\n",
      "Training Accuracy: 0.9216, Testing Accuracy: 0.9299\n",
      "\n"
     ]
    },
    {
     "name": "stdout",
     "output_type": "stream",
     "text": [
      "Epoch 30, Loss 0.0537\n",
      "Training Accuracy: 0.9420, Testing Accuracy: 0.9511\n",
      "\n"
     ]
    },
    {
     "name": "stdout",
     "output_type": "stream",
     "text": [
      "Epoch 40, Loss 0.0436\n",
      "Training Accuracy: 0.9508, Testing Accuracy: 0.9587\n",
      "\n"
     ]
    },
    {
     "name": "stdout",
     "output_type": "stream",
     "text": [
      "Epoch 50, Loss 0.0381\n",
      "Training Accuracy: 0.9561, Testing Accuracy: 0.9647\n",
      "\n"
     ]
    },
    {
     "name": "stdout",
     "output_type": "stream",
     "text": [
      "Epoch 60, Loss 0.0345\n",
      "Training Accuracy: 0.9608, Testing Accuracy: 0.9657\n",
      "\n"
     ]
    },
    {
     "name": "stdout",
     "output_type": "stream",
     "text": [
      "Epoch 70, Loss 0.0321\n",
      "Training Accuracy: 0.9634, Testing Accuracy: 0.9667\n",
      "\n"
     ]
    },
    {
     "name": "stdout",
     "output_type": "stream",
     "text": [
      "Epoch 80, Loss 0.0302\n",
      "Training Accuracy: 0.9649, Testing Accuracy: 0.9667\n",
      "\n"
     ]
    },
    {
     "name": "stdout",
     "output_type": "stream",
     "text": [
      "Epoch 90, Loss 0.0287\n",
      "Training Accuracy: 0.9672, Testing Accuracy: 0.9688\n",
      "\n"
     ]
    },
    {
     "name": "stdout",
     "output_type": "stream",
     "text": [
      "Epoch 100, Loss 0.0274\n",
      "Training Accuracy: 0.9679, Testing Accuracy: 0.9693\n",
      "\n"
     ]
    },
    {
     "name": "stdout",
     "output_type": "stream",
     "text": [
      "Epoch 110, Loss 0.0263\n",
      "Training Accuracy: 0.9697, Testing Accuracy: 0.9708\n",
      "\n"
     ]
    },
    {
     "name": "stdout",
     "output_type": "stream",
     "text": [
      "Epoch 120, Loss 0.0254\n",
      "Training Accuracy: 0.9708, Testing Accuracy: 0.9708\n",
      "\n"
     ]
    },
    {
     "name": "stdout",
     "output_type": "stream",
     "text": [
      "Epoch 130, Loss 0.0245\n",
      "Training Accuracy: 0.9715, Testing Accuracy: 0.9723\n",
      "\n"
     ]
    },
    {
     "name": "stdout",
     "output_type": "stream",
     "text": [
      "Epoch 140, Loss 0.0238\n",
      "Training Accuracy: 0.9725, Testing Accuracy: 0.9728\n",
      "\n"
     ]
    },
    {
     "name": "stdout",
     "output_type": "stream",
     "text": [
      "Epoch 150, Loss 0.0231\n",
      "Training Accuracy: 0.9730, Testing Accuracy: 0.9743\n",
      "\n"
     ]
    },
    {
     "name": "stdout",
     "output_type": "stream",
     "text": [
      "Epoch 160, Loss 0.0224\n",
      "Training Accuracy: 0.9740, Testing Accuracy: 0.9743\n",
      "\n"
     ]
    },
    {
     "name": "stdout",
     "output_type": "stream",
     "text": [
      "Epoch 170, Loss 0.0218\n",
      "Training Accuracy: 0.9747, Testing Accuracy: 0.9748\n",
      "\n"
     ]
    },
    {
     "name": "stdout",
     "output_type": "stream",
     "text": [
      "Epoch 180, Loss 0.0212\n",
      "Training Accuracy: 0.9757, Testing Accuracy: 0.9753\n",
      "\n"
     ]
    },
    {
     "name": "stdout",
     "output_type": "stream",
     "text": [
      "Epoch 190, Loss 0.0207\n",
      "Training Accuracy: 0.9768, Testing Accuracy: 0.9758\n",
      "\n"
     ]
    },
    {
     "name": "stdout",
     "output_type": "stream",
     "text": [
      "Epoch 200, Loss 0.0202\n",
      "Training Accuracy: 0.9772, Testing Accuracy: 0.9758\n",
      "\n"
     ]
    },
    {
     "name": "stdout",
     "output_type": "stream",
     "text": [
      "Epoch 210, Loss 0.0198\n",
      "Training Accuracy: 0.9777, Testing Accuracy: 0.9763\n",
      "\n"
     ]
    },
    {
     "name": "stdout",
     "output_type": "stream",
     "text": [
      "Epoch 220, Loss 0.0193\n",
      "Training Accuracy: 0.9782, Testing Accuracy: 0.9768\n",
      "\n"
     ]
    },
    {
     "name": "stdout",
     "output_type": "stream",
     "text": [
      "Epoch 230, Loss 0.0189\n",
      "Training Accuracy: 0.9786, Testing Accuracy: 0.9778\n",
      "\n"
     ]
    },
    {
     "name": "stdout",
     "output_type": "stream",
     "text": [
      "Epoch 240, Loss 0.0185\n",
      "Training Accuracy: 0.9791, Testing Accuracy: 0.9778\n",
      "\n"
     ]
    },
    {
     "data": {
      "text/plain": [
       "0.04421713266114196"
      ]
     },
     "execution_count": 22,
     "metadata": {},
     "output_type": "execute_result"
    }
   ],
   "source": [
    "nn_learner.train_loop(dl)"
   ]
  },
  {
   "cell_type": "code",
   "execution_count": 23,
   "id": "e0163366",
   "metadata": {
    "execution": {
     "iopub.execute_input": "2022-02-18T00:29:16.119569Z",
     "iopub.status.busy": "2022-02-18T00:29:16.119061Z",
     "iopub.status.idle": "2022-02-18T00:29:29.433664Z",
     "shell.execute_reply": "2022-02-18T00:29:29.434392Z"
    },
    "papermill": {
     "duration": 13.35825,
     "end_time": "2022-02-18T00:29:29.434536",
     "exception": false,
     "start_time": "2022-02-18T00:29:16.076286",
     "status": "completed"
    },
    "tags": []
   },
   "outputs": [
    {
     "name": "stdout",
     "output_type": "stream",
     "text": [
      "Epoch 0, Loss 0.2244\n",
      "Training Accuracy: 0.7693, Testing Accuracy: 0.7611\n",
      "\n"
     ]
    },
    {
     "name": "stdout",
     "output_type": "stream",
     "text": [
      "Epoch 10, Loss 0.1004\n",
      "Training Accuracy: 0.9107, Testing Accuracy: 0.9229\n",
      "\n"
     ]
    },
    {
     "name": "stdout",
     "output_type": "stream",
     "text": [
      "Epoch 20, Loss 0.0779\n",
      "Training Accuracy: 0.9292, Testing Accuracy: 0.9420\n",
      "\n"
     ]
    },
    {
     "name": "stdout",
     "output_type": "stream",
     "text": [
      "Epoch 30, Loss 0.0672\n",
      "Training Accuracy: 0.9374, Testing Accuracy: 0.9456\n",
      "\n"
     ]
    },
    {
     "name": "stdout",
     "output_type": "stream",
     "text": [
      "Epoch 40, Loss 0.0608\n",
      "Training Accuracy: 0.9441, Testing Accuracy: 0.9496\n",
      "\n"
     ]
    },
    {
     "name": "stdout",
     "output_type": "stream",
     "text": [
      "Epoch 50, Loss 0.0563\n",
      "Training Accuracy: 0.9477, Testing Accuracy: 0.9541\n",
      "\n"
     ]
    },
    {
     "name": "stdout",
     "output_type": "stream",
     "text": [
      "Epoch 60, Loss 0.0531\n",
      "Training Accuracy: 0.9494, Testing Accuracy: 0.9572\n",
      "\n"
     ]
    },
    {
     "name": "stdout",
     "output_type": "stream",
     "text": [
      "Epoch 70, Loss 0.0506\n",
      "Training Accuracy: 0.9512, Testing Accuracy: 0.9592\n",
      "\n"
     ]
    },
    {
     "name": "stdout",
     "output_type": "stream",
     "text": [
      "Epoch 80, Loss 0.0486\n",
      "Training Accuracy: 0.9531, Testing Accuracy: 0.9617\n",
      "\n"
     ]
    },
    {
     "name": "stdout",
     "output_type": "stream",
     "text": [
      "Epoch 90, Loss 0.0469\n",
      "Training Accuracy: 0.9543, Testing Accuracy: 0.9622\n",
      "\n"
     ]
    },
    {
     "name": "stdout",
     "output_type": "stream",
     "text": [
      "Epoch 100, Loss 0.0455\n",
      "Training Accuracy: 0.9557, Testing Accuracy: 0.9627\n",
      "\n"
     ]
    },
    {
     "name": "stdout",
     "output_type": "stream",
     "text": [
      "Epoch 110, Loss 0.0443\n",
      "Training Accuracy: 0.9566, Testing Accuracy: 0.9627\n",
      "\n"
     ]
    },
    {
     "name": "stdout",
     "output_type": "stream",
     "text": [
      "Epoch 120, Loss 0.0432\n",
      "Training Accuracy: 0.9573, Testing Accuracy: 0.9632\n",
      "\n"
     ]
    },
    {
     "name": "stdout",
     "output_type": "stream",
     "text": [
      "Epoch 130, Loss 0.0423\n",
      "Training Accuracy: 0.9582, Testing Accuracy: 0.9642\n",
      "\n"
     ]
    },
    {
     "name": "stdout",
     "output_type": "stream",
     "text": [
      "Epoch 140, Loss 0.0415\n",
      "Training Accuracy: 0.9587, Testing Accuracy: 0.9652\n",
      "\n"
     ]
    },
    {
     "name": "stdout",
     "output_type": "stream",
     "text": [
      "Epoch 150, Loss 0.0408\n",
      "Training Accuracy: 0.9590, Testing Accuracy: 0.9657\n",
      "\n"
     ]
    },
    {
     "name": "stdout",
     "output_type": "stream",
     "text": [
      "Epoch 160, Loss 0.0401\n",
      "Training Accuracy: 0.9594, Testing Accuracy: 0.9662\n",
      "\n"
     ]
    },
    {
     "name": "stdout",
     "output_type": "stream",
     "text": [
      "Epoch 170, Loss 0.0395\n",
      "Training Accuracy: 0.9597, Testing Accuracy: 0.9667\n",
      "\n"
     ]
    },
    {
     "name": "stdout",
     "output_type": "stream",
     "text": [
      "Epoch 180, Loss 0.039\n",
      "Training Accuracy: 0.9600, Testing Accuracy: 0.9672\n",
      "\n"
     ]
    },
    {
     "name": "stdout",
     "output_type": "stream",
     "text": [
      "Epoch 190, Loss 0.0385\n",
      "Training Accuracy: 0.9603, Testing Accuracy: 0.9672\n",
      "\n"
     ]
    },
    {
     "name": "stdout",
     "output_type": "stream",
     "text": [
      "Epoch 200, Loss 0.038\n",
      "Training Accuracy: 0.9604, Testing Accuracy: 0.9677\n",
      "\n"
     ]
    },
    {
     "name": "stdout",
     "output_type": "stream",
     "text": [
      "Epoch 210, Loss 0.0376\n",
      "Training Accuracy: 0.9608, Testing Accuracy: 0.9677\n",
      "\n"
     ]
    },
    {
     "name": "stdout",
     "output_type": "stream",
     "text": [
      "Epoch 220, Loss 0.0372\n",
      "Training Accuracy: 0.9614, Testing Accuracy: 0.9677\n",
      "\n"
     ]
    },
    {
     "name": "stdout",
     "output_type": "stream",
     "text": [
      "Epoch 230, Loss 0.0368\n",
      "Training Accuracy: 0.9614, Testing Accuracy: 0.9677\n",
      "\n"
     ]
    },
    {
     "name": "stdout",
     "output_type": "stream",
     "text": [
      "Epoch 240, Loss 0.0364\n",
      "Training Accuracy: 0.9616, Testing Accuracy: 0.9677\n",
      "\n"
     ]
    },
    {
     "data": {
      "text/plain": [
       "0.03725469206104247"
      ]
     },
     "execution_count": 23,
     "metadata": {},
     "output_type": "execute_result"
    }
   ],
   "source": [
    "lr_learner.train_loop(dl)"
   ]
  },
  {
   "cell_type": "code",
   "execution_count": 24,
   "id": "ca410940",
   "metadata": {
    "execution": {
     "iopub.execute_input": "2022-02-18T00:29:29.525409Z",
     "iopub.status.busy": "2022-02-18T00:29:29.524888Z",
     "iopub.status.idle": "2022-02-18T00:29:29.750854Z",
     "shell.execute_reply": "2022-02-18T00:29:29.750405Z"
    },
    "papermill": {
     "duration": 0.275296,
     "end_time": "2022-02-18T00:29:29.750970",
     "exception": false,
     "start_time": "2022-02-18T00:29:29.475674",
     "status": "completed"
    },
    "tags": []
   },
   "outputs": [
    {
     "data": {
      "text/plain": [
       "<matplotlib.legend.Legend at 0x7f5d04a69c88>"
      ]
     },
     "execution_count": 24,
     "metadata": {},
     "output_type": "execute_result"
    },
    {
     "data": {
      "image/png": "[encoded data removed]",
      "text/plain": [
       "<Figure size 1080x720 with 1 Axes>"
      ]
     },
     "metadata": {
      "needs_background": "light"
     },
     "output_type": "display_data"
    }
   ],
   "source": [
    "#comparing the results of NN and LR\n",
    "plt.figure(figsize=(15,10))\n",
    "\n",
    "# Neural Network plots\n",
    "plt.plot(acc_nn.accuracies, 'r-', label = \"Training Accuracies - NN\")\n",
    "plt.plot(acc_nn.test_accuracies, 'g-', label = \"Testing Accuracies - NN\")\n",
    "\n",
    "# Logistic Regression plots\n",
    "plt.plot(acc_lr.accuracies, 'k-', label = \"Training Accuracies - LR\")\n",
    "plt.plot(acc_lr.test_accuracies, 'b-', label = \"Testing Accuracies - LR\")\n",
    "plt.legend()"
   ]
  },
  {
   "cell_type": "markdown",
   "id": "80dfb35c",
   "metadata": {
    "papermill": {
     "duration": 0.041479,
     "end_time": "2022-02-18T00:29:29.834483",
     "exception": false,
     "start_time": "2022-02-18T00:29:29.793004",
     "status": "completed"
    },
    "tags": []
   },
   "source": [
    "#### Plotting the outputs of this layer of the NN.\n"
   ]
  },
  {
   "cell_type": "code",
   "execution_count": 25,
   "id": "45eb2ff5",
   "metadata": {
    "execution": {
     "iopub.execute_input": "2022-02-18T00:29:29.921233Z",
     "iopub.status.busy": "2022-02-18T00:29:29.920725Z",
     "iopub.status.idle": "2022-02-18T00:29:29.940895Z",
     "shell.execute_reply": "2022-02-18T00:29:29.940448Z"
    },
    "papermill": {
     "duration": 0.064975,
     "end_time": "2022-02-18T00:29:29.941006",
     "exception": false,
     "start_time": "2022-02-18T00:29:29.876031",
     "status": "completed"
    },
    "tags": []
   },
   "outputs": [],
   "source": [
    "new_model = Model(layers[:-2])\n",
    "testing_plot = new_model(testing_data_x)"
   ]
  },
  {
   "cell_type": "code",
   "execution_count": 26,
   "id": "4c0a5485",
   "metadata": {
    "execution": {
     "iopub.execute_input": "2022-02-18T00:29:30.036483Z",
     "iopub.status.busy": "2022-02-18T00:29:30.029611Z",
     "iopub.status.idle": "2022-02-18T00:29:30.241587Z",
     "shell.execute_reply": "2022-02-18T00:29:30.241102Z"
    },
    "papermill": {
     "duration": 0.258833,
     "end_time": "2022-02-18T00:29:30.241717",
     "exception": false,
     "start_time": "2022-02-18T00:29:29.982884",
     "status": "completed"
    },
    "tags": []
   },
   "outputs": [
    {
     "data": {
      "text/plain": [
       "Text(0.5, 1.0, 'Outputs')"
      ]
     },
     "execution_count": 26,
     "metadata": {},
     "output_type": "execute_result"
    },
    {
     "data": {
      "image/png": "[encoded data removed]",
      "text/plain": [
       "<Figure size 576x504 with 1 Axes>"
      ]
     },
     "metadata": {
      "needs_background": "light"
     },
     "output_type": "display_data"
    }
   ],
   "source": [
    "# Plotting the scatter plot of points and color coding by class\n",
    "plt.figure(figsize=(8,7))\n",
    "plt.scatter(testing_plot[:,0], testing_plot[:,1], alpha = 0.1, c = y_test.ravel());\n",
    "plt.title('Outputs')"
   ]
  },
  {
   "cell_type": "markdown",
   "id": "a74fcf8f",
   "metadata": {
    "papermill": {
     "duration": 0.044178,
     "end_time": "2022-02-18T00:29:30.330618",
     "exception": false,
     "start_time": "2022-02-18T00:29:30.286440",
     "status": "completed"
    },
    "tags": []
   },
   "source": [
    "Probability contours"
   ]
  },
  {
   "cell_type": "code",
   "execution_count": 27,
   "id": "d0afc8e3",
   "metadata": {
    "execution": {
     "iopub.execute_input": "2022-02-18T00:29:30.436487Z",
     "iopub.status.busy": "2022-02-18T00:29:30.423306Z",
     "iopub.status.idle": "2022-02-18T00:29:30.439849Z",
     "shell.execute_reply": "2022-02-18T00:29:30.439423Z"
    },
    "papermill": {
     "duration": 0.064981,
     "end_time": "2022-02-18T00:29:30.439961",
     "exception": false,
     "start_time": "2022-02-18T00:29:30.374980",
     "status": "completed"
    },
    "tags": []
   },
   "outputs": [],
   "source": [
    "model_prob = Model(layers[-2:]) "
   ]
  },
  {
   "cell_type": "code",
   "execution_count": 28,
   "id": "9b96e238",
   "metadata": {
    "execution": {
     "iopub.execute_input": "2022-02-18T00:29:30.537611Z",
     "iopub.status.busy": "2022-02-18T00:29:30.537081Z",
     "iopub.status.idle": "2022-02-18T00:29:30.548490Z",
     "shell.execute_reply": "2022-02-18T00:29:30.548872Z"
    },
    "papermill": {
     "duration": 0.064742,
     "end_time": "2022-02-18T00:29:30.548998",
     "exception": false,
     "start_time": "2022-02-18T00:29:30.484256",
     "status": "completed"
    },
    "tags": []
   },
   "outputs": [],
   "source": [
    "#creating the x and y ranges according to the above generated plot.\n",
    "x_range = np.linspace(-4, 1, 100) \n",
    "y_range = np.linspace(-6, 6, 100) \n",
    "x_grid, y_grid = np.meshgrid(x_range, y_range) # x_grid and y_grig are of size 100 X 100\n",
    "\n",
    "# converting x_grid and y_grid to continuous arrays\n",
    "x_gridflat = np.ravel(x_grid)\n",
    "y_gridflat = np.ravel(y_grid)\n",
    "\n",
    "# The last layer of the current model takes two columns as input. Hence transpose of np.vstack() is required.\n",
    "X = np.vstack((x_gridflat, y_gridflat)).T\n",
    "\n",
    "prob_contour = model_prob(X).reshape(100,100) "
   ]
  },
  {
   "cell_type": "code",
   "execution_count": 29,
   "id": "da72499a",
   "metadata": {
    "execution": {
     "iopub.execute_input": "2022-02-18T00:29:30.673037Z",
     "iopub.status.busy": "2022-02-18T00:29:30.668869Z",
     "iopub.status.idle": "2022-02-18T00:29:30.917779Z",
     "shell.execute_reply": "2022-02-18T00:29:30.917354Z"
    },
    "papermill": {
     "duration": 0.324046,
     "end_time": "2022-02-18T00:29:30.917898",
     "exception": false,
     "start_time": "2022-02-18T00:29:30.593852",
     "status": "completed"
    },
    "tags": []
   },
   "outputs": [
    {
     "data": {
      "image/png": "[encoded data removed]",
      "text/plain": [
       "<Figure size 720x648 with 1 Axes>"
      ]
     },
     "metadata": {
      "needs_background": "light"
     },
     "output_type": "display_data"
    }
   ],
   "source": [
    "plt.figure(figsize=(10,9))\n",
    "plt.scatter(testing_plot[:,0], testing_plot[:,1], alpha = 0.1, c = y_test.ravel())\n",
    "contours = plt.contour(x_grid,y_grid,prob_contour)\n",
    "plt.title('Probability Contours')\n",
    "plt.clabel(contours, inline = True );"
   ]
  },
  {
   "cell_type": "code",
   "execution_count": null,
   "id": "e81b4ac7",
   "metadata": {
    "papermill": {
     "duration": 0.052495,
     "end_time": "2022-02-18T00:29:31.018103",
     "exception": false,
     "start_time": "2022-02-18T00:29:30.965608",
     "status": "completed"
    },
    "tags": []
   },
   "outputs": [],
   "source": []
  }
 ],
 "metadata": {
  "kernelspec": {
   "display_name": "Python 3",
   "language": "python",
   "name": "python3"
  },
  "language_info": {
   "codemirror_mode": {
    "name": "ipython",
    "version": 3
   },
   "file_extension": ".py",
   "mimetype": "text/x-python",
   "name": "python",
   "nbconvert_exporter": "python",
   "pygments_lexer": "ipython3",
   "version": "3.6.15"
  },
  "papermill": {
   "default_parameters": {},
   "duration": 95.081067,
   "end_time": "2022-02-18T00:29:31.483583",
   "environment_variables": {},
   "exception": null,
   "input_path": "2020-08-11-part2.ipynb",
   "output_path": "2020-08-11-part2.ipynb",
   "parameters": {},
   "start_time": "2022-02-18T00:27:56.402516",
   "version": "2.3.3"
  }
 },
 "nbformat": 4,
 "nbformat_minor": 5
}