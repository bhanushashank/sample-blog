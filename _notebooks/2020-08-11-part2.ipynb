{
 "cells": [
  {
   "cell_type": "markdown",
   "id": "98380cd3",
   "metadata": {
    "papermill": {
     "duration": 0.033408,
     "end_time": "2021-10-10T10:07:13.056654",
     "exception": false,
     "start_time": "2021-10-10T10:07:13.023246",
     "status": "completed"
    },
    "tags": []
   },
   "source": [
    "# Distinguish Your Own Digits (DYOD)"
   ]
  },
  {
   "cell_type": "markdown",
   "id": "ef31240d",
   "metadata": {
    "papermill": {
     "duration": 0.027885,
     "end_time": "2021-10-10T10:07:13.114112",
     "exception": false,
     "start_time": "2021-10-10T10:07:13.086227",
     "status": "completed"
    },
    "tags": []
   },
   "source": [
    "You are going to write a classifier that distinguishes between the number 3 and number 8."
   ]
  },
  {
   "cell_type": "code",
   "execution_count": 1,
   "id": "b15c8646",
   "metadata": {
    "execution": {
     "iopub.execute_input": "2021-10-10T10:07:13.181007Z",
     "iopub.status.busy": "2021-10-10T10:07:13.178429Z",
     "iopub.status.idle": "2021-10-10T10:07:13.192069Z",
     "shell.execute_reply": "2021-10-10T10:07:13.191576Z"
    },
    "papermill": {
     "duration": 0.049,
     "end_time": "2021-10-10T10:07:13.192207",
     "exception": false,
     "start_time": "2021-10-10T10:07:13.143207",
     "status": "completed"
    },
    "tags": []
   },
   "outputs": [],
   "source": [
    "%load_ext autoreload\n",
    "%autoreload 2"
   ]
  },
  {
   "cell_type": "code",
   "execution_count": 2,
   "id": "22ef38dc",
   "metadata": {
    "execution": {
     "iopub.execute_input": "2021-10-10T10:07:13.249902Z",
     "iopub.status.busy": "2021-10-10T10:07:13.249256Z",
     "iopub.status.idle": "2021-10-10T10:07:13.831926Z",
     "shell.execute_reply": "2021-10-10T10:07:13.831379Z"
    },
    "papermill": {
     "duration": 0.613566,
     "end_time": "2021-10-10T10:07:13.832083",
     "exception": false,
     "start_time": "2021-10-10T10:07:13.218517",
     "status": "completed"
    },
    "tags": []
   },
   "outputs": [],
   "source": [
    "%matplotlib inline\n",
    "import numpy as np\n",
    "import matplotlib.pyplot as plt\n",
    "import pandas as pd"
   ]
  },
  {
   "cell_type": "markdown",
   "id": "ba036198",
   "metadata": {
    "papermill": {
     "duration": 0.029724,
     "end_time": "2021-10-10T10:07:13.889914",
     "exception": false,
     "start_time": "2021-10-10T10:07:13.860190",
     "status": "completed"
    },
    "tags": []
   },
   "source": [
    "From the command line run `pip install mnist`. This is a library that will help you bring down the mnist dataset. If you run this from a notebook, you need to put  `!pip install mnist` in a cell by itself."
   ]
  },
  {
   "cell_type": "code",
   "execution_count": 3,
   "id": "bb6ad8a1",
   "metadata": {
    "execution": {
     "iopub.execute_input": "2021-10-10T10:07:13.956735Z",
     "iopub.status.busy": "2021-10-10T10:07:13.956133Z",
     "iopub.status.idle": "2021-10-10T10:07:15.837505Z",
     "shell.execute_reply": "2021-10-10T10:07:15.837945Z"
    },
    "papermill": {
     "duration": 1.916267,
     "end_time": "2021-10-10T10:07:15.838122",
     "exception": false,
     "start_time": "2021-10-10T10:07:13.921855",
     "status": "completed"
    },
    "tags": []
   },
   "outputs": [
    {
     "name": "stdout",
     "output_type": "stream",
     "text": [
      "Collecting mnist\r\n"
     ]
    },
    {
     "name": "stdout",
     "output_type": "stream",
     "text": [
      "  Downloading mnist-0.2.2-py2.py3-none-any.whl (3.5 kB)\r\n",
      "Requirement already satisfied: numpy in /opt/hostedtoolcache/Python/3.6.15/x64/lib/python3.6/site-packages (from mnist) (1.19.5)\r\n"
     ]
    },
    {
     "name": "stdout",
     "output_type": "stream",
     "text": [
      "Installing collected packages: mnist\r\n"
     ]
    },
    {
     "name": "stdout",
     "output_type": "stream",
     "text": [
      "Successfully installed mnist-0.2.2\r\n"
     ]
    }
   ],
   "source": [
    "!pip install mnist"
   ]
  },
  {
   "cell_type": "markdown",
   "id": "69df9c9a",
   "metadata": {
    "papermill": {
     "duration": 0.027713,
     "end_time": "2021-10-10T10:07:15.892959",
     "exception": false,
     "start_time": "2021-10-10T10:07:15.865246",
     "status": "completed"
    },
    "tags": []
   },
   "source": [
    "## Preparing the Data"
   ]
  },
  {
   "cell_type": "code",
   "execution_count": 4,
   "id": "7f69d806",
   "metadata": {
    "execution": {
     "iopub.execute_input": "2021-10-10T10:07:15.954873Z",
     "iopub.status.busy": "2021-10-10T10:07:15.954354Z",
     "iopub.status.idle": "2021-10-10T10:07:15.968318Z",
     "shell.execute_reply": "2021-10-10T10:07:15.968955Z"
    },
    "papermill": {
     "duration": 0.043679,
     "end_time": "2021-10-10T10:07:15.969107",
     "exception": false,
     "start_time": "2021-10-10T10:07:15.925428",
     "status": "completed"
    },
    "tags": []
   },
   "outputs": [],
   "source": [
    "import mnist"
   ]
  },
  {
   "cell_type": "code",
   "execution_count": 5,
   "id": "a411e44f",
   "metadata": {
    "execution": {
     "iopub.execute_input": "2021-10-10T10:07:16.047106Z",
     "iopub.status.busy": "2021-10-10T10:07:16.040433Z",
     "iopub.status.idle": "2021-10-10T10:07:16.618865Z",
     "shell.execute_reply": "2021-10-10T10:07:16.619425Z"
    },
    "papermill": {
     "duration": 0.620628,
     "end_time": "2021-10-10T10:07:16.619625",
     "exception": false,
     "start_time": "2021-10-10T10:07:15.998997",
     "status": "completed"
    },
    "tags": []
   },
   "outputs": [],
   "source": [
    "train_images = mnist.train_images()\n",
    "train_labels = mnist.train_labels()"
   ]
  },
  {
   "cell_type": "code",
   "execution_count": 6,
   "id": "dceab3a5",
   "metadata": {
    "execution": {
     "iopub.execute_input": "2021-10-10T10:07:16.679182Z",
     "iopub.status.busy": "2021-10-10T10:07:16.678665Z",
     "iopub.status.idle": "2021-10-10T10:07:16.692658Z",
     "shell.execute_reply": "2021-10-10T10:07:16.692135Z"
    },
    "papermill": {
     "duration": 0.042797,
     "end_time": "2021-10-10T10:07:16.692854",
     "exception": false,
     "start_time": "2021-10-10T10:07:16.650057",
     "status": "completed"
    },
    "tags": []
   },
   "outputs": [
    {
     "data": {
      "text/plain": [
       "((60000, 28, 28), (60000,))"
      ]
     },
     "execution_count": 6,
     "metadata": {},
     "output_type": "execute_result"
    }
   ],
   "source": [
    "train_images.shape, train_labels.shape"
   ]
  },
  {
   "cell_type": "code",
   "execution_count": 7,
   "id": "f50dc2bb",
   "metadata": {
    "execution": {
     "iopub.execute_input": "2021-10-10T10:07:16.765639Z",
     "iopub.status.busy": "2021-10-10T10:07:16.764988Z",
     "iopub.status.idle": "2021-10-10T10:07:16.902040Z",
     "shell.execute_reply": "2021-10-10T10:07:16.901546Z"
    },
    "papermill": {
     "duration": 0.174805,
     "end_time": "2021-10-10T10:07:16.902198",
     "exception": false,
     "start_time": "2021-10-10T10:07:16.727393",
     "status": "completed"
    },
    "tags": []
   },
   "outputs": [],
   "source": [
    "test_images = mnist.test_images()\n",
    "test_labels = mnist.test_labels()"
   ]
  },
  {
   "cell_type": "code",
   "execution_count": 8,
   "id": "fc38cf1b",
   "metadata": {
    "execution": {
     "iopub.execute_input": "2021-10-10T10:07:16.968896Z",
     "iopub.status.busy": "2021-10-10T10:07:16.968298Z",
     "iopub.status.idle": "2021-10-10T10:07:16.984416Z",
     "shell.execute_reply": "2021-10-10T10:07:16.983967Z"
    },
    "papermill": {
     "duration": 0.049032,
     "end_time": "2021-10-10T10:07:16.984541",
     "exception": false,
     "start_time": "2021-10-10T10:07:16.935509",
     "status": "completed"
    },
    "tags": []
   },
   "outputs": [
    {
     "data": {
      "text/plain": [
       "((10000, 28, 28), (10000,))"
      ]
     },
     "execution_count": 8,
     "metadata": {},
     "output_type": "execute_result"
    }
   ],
   "source": [
    "test_images.shape, test_labels.shape"
   ]
  },
  {
   "cell_type": "code",
   "execution_count": 9,
   "id": "f9ed8fe0",
   "metadata": {
    "execution": {
     "iopub.execute_input": "2021-10-10T10:07:17.051185Z",
     "iopub.status.busy": "2021-10-10T10:07:17.050486Z",
     "iopub.status.idle": "2021-10-10T10:07:17.229922Z",
     "shell.execute_reply": "2021-10-10T10:07:17.230620Z"
    },
    "papermill": {
     "duration": 0.216481,
     "end_time": "2021-10-10T10:07:17.230770",
     "exception": false,
     "start_time": "2021-10-10T10:07:17.014289",
     "status": "completed"
    },
    "tags": []
   },
   "outputs": [
    {
     "name": "stdout",
     "output_type": "stream",
     "text": [
      "2\n"
     ]
    },
    {
     "data": {
      "text/plain": [
       "<matplotlib.image.AxesImage at 0x7fe36b6307f0>"
      ]
     },
     "execution_count": 9,
     "metadata": {},
     "output_type": "execute_result"
    },
    {
     "data": {
      "image/png": "[encoded data removed]",
      "text/plain": [
       "<Figure size 432x288 with 1 Axes>"
      ]
     },
     "metadata": {
      "needs_background": "light"
     },
     "output_type": "display_data"
    }
   ],
   "source": [
    "image_index = 7776 # You may select anything up to 60,000\n",
    "print(train_labels[image_index]) \n",
    "plt.imshow(train_images[image_index], cmap='Greys')"
   ]
  },
  {
   "cell_type": "markdown",
   "id": "a8d2388d",
   "metadata": {
    "papermill": {
     "duration": 0.034404,
     "end_time": "2021-10-10T10:07:17.299324",
     "exception": false,
     "start_time": "2021-10-10T10:07:17.264920",
     "status": "completed"
    },
    "tags": []
   },
   "source": [
    "## Filter data to get 3 and 8 out"
   ]
  },
  {
   "cell_type": "code",
   "execution_count": 10,
   "id": "776f7fc7",
   "metadata": {
    "execution": {
     "iopub.execute_input": "2021-10-10T10:07:17.368845Z",
     "iopub.status.busy": "2021-10-10T10:07:17.368210Z",
     "iopub.status.idle": "2021-10-10T10:07:17.384681Z",
     "shell.execute_reply": "2021-10-10T10:07:17.385126Z"
    },
    "papermill": {
     "duration": 0.052011,
     "end_time": "2021-10-10T10:07:17.385268",
     "exception": false,
     "start_time": "2021-10-10T10:07:17.333257",
     "status": "completed"
    },
    "tags": []
   },
   "outputs": [],
   "source": [
    "train_filter = np.where((train_labels == 3 ) | (train_labels == 8))\n",
    "test_filter = np.where((test_labels == 3) | (test_labels == 8))\n",
    "X_train, y_train = train_images[train_filter], train_labels[train_filter]\n",
    "X_test, y_test = test_images[test_filter], test_labels[test_filter]"
   ]
  },
  {
   "cell_type": "markdown",
   "id": "948f0b7e",
   "metadata": {
    "papermill": {
     "duration": 0.033111,
     "end_time": "2021-10-10T10:07:17.450943",
     "exception": false,
     "start_time": "2021-10-10T10:07:17.417832",
     "status": "completed"
    },
    "tags": []
   },
   "source": [
    "We normalize the pizel values in the 0 to 1 range"
   ]
  },
  {
   "cell_type": "code",
   "execution_count": 11,
   "id": "ee4c2166",
   "metadata": {
    "execution": {
     "iopub.execute_input": "2021-10-10T10:07:17.517943Z",
     "iopub.status.busy": "2021-10-10T10:07:17.517226Z",
     "iopub.status.idle": "2021-10-10T10:07:17.578617Z",
     "shell.execute_reply": "2021-10-10T10:07:17.578010Z"
    },
    "papermill": {
     "duration": 0.096564,
     "end_time": "2021-10-10T10:07:17.578763",
     "exception": false,
     "start_time": "2021-10-10T10:07:17.482199",
     "status": "completed"
    },
    "tags": []
   },
   "outputs": [],
   "source": [
    "X_train = X_train/255.\n",
    "X_test = X_test/255."
   ]
  },
  {
   "cell_type": "markdown",
   "id": "ddcf4fab",
   "metadata": {
    "papermill": {
     "duration": 0.033648,
     "end_time": "2021-10-10T10:07:17.642826",
     "exception": false,
     "start_time": "2021-10-10T10:07:17.609178",
     "status": "completed"
    },
    "tags": []
   },
   "source": [
    "And setup the labels as 1 (when the digit is 3) and 0 (when the digit is 8)"
   ]
  },
  {
   "cell_type": "code",
   "execution_count": 12,
   "id": "7dc908f2",
   "metadata": {
    "execution": {
     "iopub.execute_input": "2021-10-10T10:07:17.704441Z",
     "iopub.status.busy": "2021-10-10T10:07:17.703693Z",
     "iopub.status.idle": "2021-10-10T10:07:17.719075Z",
     "shell.execute_reply": "2021-10-10T10:07:17.718480Z"
    },
    "papermill": {
     "duration": 0.047384,
     "end_time": "2021-10-10T10:07:17.719234",
     "exception": false,
     "start_time": "2021-10-10T10:07:17.671850",
     "status": "completed"
    },
    "tags": []
   },
   "outputs": [],
   "source": [
    "y_train = 1*(y_train==3)\n",
    "y_test = 1*(y_test==3)"
   ]
  },
  {
   "cell_type": "code",
   "execution_count": 13,
   "id": "01e4e969",
   "metadata": {
    "execution": {
     "iopub.execute_input": "2021-10-10T10:07:17.780338Z",
     "iopub.status.busy": "2021-10-10T10:07:17.779623Z",
     "iopub.status.idle": "2021-10-10T10:07:17.792706Z",
     "shell.execute_reply": "2021-10-10T10:07:17.793230Z"
    },
    "papermill": {
     "duration": 0.044241,
     "end_time": "2021-10-10T10:07:17.793375",
     "exception": false,
     "start_time": "2021-10-10T10:07:17.749134",
     "status": "completed"
    },
    "tags": []
   },
   "outputs": [
    {
     "data": {
      "text/plain": [
       "((11982, 28, 28), (1984, 28, 28))"
      ]
     },
     "execution_count": 13,
     "metadata": {},
     "output_type": "execute_result"
    }
   ],
   "source": [
    "X_train.shape, X_test.shape"
   ]
  },
  {
   "cell_type": "markdown",
   "id": "5ccf3f85",
   "metadata": {
    "papermill": {
     "duration": 0.027052,
     "end_time": "2021-10-10T10:07:17.853599",
     "exception": false,
     "start_time": "2021-10-10T10:07:17.826547",
     "status": "completed"
    },
    "tags": []
   },
   "source": [
    "We reshape the data to flatten the image pixels into a set of features or co-variates:"
   ]
  },
  {
   "cell_type": "code",
   "execution_count": 14,
   "id": "5286a4a3",
   "metadata": {
    "execution": {
     "iopub.execute_input": "2021-10-10T10:07:17.916349Z",
     "iopub.status.busy": "2021-10-10T10:07:17.914285Z",
     "iopub.status.idle": "2021-10-10T10:07:17.930229Z",
     "shell.execute_reply": "2021-10-10T10:07:17.930790Z"
    },
    "papermill": {
     "duration": 0.049425,
     "end_time": "2021-10-10T10:07:17.930922",
     "exception": false,
     "start_time": "2021-10-10T10:07:17.881497",
     "status": "completed"
    },
    "tags": []
   },
   "outputs": [
    {
     "data": {
      "text/plain": [
       "((11982, 784), (1984, 784))"
      ]
     },
     "execution_count": 14,
     "metadata": {},
     "output_type": "execute_result"
    }
   ],
   "source": [
    "X_train = X_train.reshape(X_train.shape[0], -1)\n",
    "X_test = X_test.reshape(X_test.shape[0], -1)\n",
    "X_train.shape, X_test.shape"
   ]
  },
  {
   "cell_type": "code",
   "execution_count": 15,
   "id": "73c5f88a",
   "metadata": {
    "execution": {
     "iopub.execute_input": "2021-10-10T10:07:17.999347Z",
     "iopub.status.busy": "2021-10-10T10:07:17.998793Z",
     "iopub.status.idle": "2021-10-10T10:07:18.019953Z",
     "shell.execute_reply": "2021-10-10T10:07:18.019267Z"
    },
    "papermill": {
     "duration": 0.05874,
     "end_time": "2021-10-10T10:07:18.020143",
     "exception": false,
     "start_time": "2021-10-10T10:07:17.961403",
     "status": "completed"
    },
    "tags": []
   },
   "outputs": [],
   "source": [
    "#Impoting functions from 'Kudzu'\n",
    "from kudzu.model import Model\n",
    "from kudzu.train import Learner\n",
    "from kudzu.optim import GD\n",
    "from kudzu.data import Data, Sampler,Dataloader\n",
    "\n",
    "from kudzu.callbacks import AccCallback\n",
    "from kudzu.callbacks import ClfCallback\n",
    "\n",
    "from kudzu.loss import MSE\n",
    "\n",
    "from kudzu.layer import Sigmoid,Relu\n",
    "from kudzu.layer import Affine"
   ]
  },
  {
   "cell_type": "markdown",
   "id": "bc01172a",
   "metadata": {
    "papermill": {
     "duration": 0.029185,
     "end_time": "2021-10-10T10:07:18.082255",
     "exception": false,
     "start_time": "2021-10-10T10:07:18.053070",
     "status": "completed"
    },
    "tags": []
   },
   "source": [
    "### Let us create a `Config` class, to store important parameters. \n",
    "This class essentially plays the role of a dictionary."
   ]
  },
  {
   "cell_type": "code",
   "execution_count": 16,
   "id": "978281aa",
   "metadata": {
    "execution": {
     "iopub.execute_input": "2021-10-10T10:07:18.153496Z",
     "iopub.status.busy": "2021-10-10T10:07:18.152777Z",
     "iopub.status.idle": "2021-10-10T10:07:18.165394Z",
     "shell.execute_reply": "2021-10-10T10:07:18.166059Z"
    },
    "papermill": {
     "duration": 0.055009,
     "end_time": "2021-10-10T10:07:18.166253",
     "exception": false,
     "start_time": "2021-10-10T10:07:18.111244",
     "status": "completed"
    },
    "tags": []
   },
   "outputs": [],
   "source": [
    "class Config:\n",
    "    pass\n",
    "config = Config()\n",
    "config.lr = 0.001\n",
    "config.num_epochs = 250\n",
    "config.bs = 50"
   ]
  },
  {
   "cell_type": "markdown",
   "id": "1385fa59",
   "metadata": {
    "papermill": {
     "duration": 0.038568,
     "end_time": "2021-10-10T10:07:18.236719",
     "exception": false,
     "start_time": "2021-10-10T10:07:18.198151",
     "status": "completed"
    },
    "tags": []
   },
   "source": [
    "### Running Models with the Training data\n",
    "Details about the network layers:\n",
    "- A first affine layer has 784 inputs and does 100 affine transforms. These are followed by a Relu\n",
    "- A second affine layer has 100 inputs from the 100 activations of the past layer, and does 100 affine transforms. These are followed by a Relu\n",
    "- A third affine layer has 100 activations and does 2 affine transformations to create an embedding for visualization. There is no non-linearity here.\n",
    "- A final \"logistic regression\" which has an affine transform from 2 inputs to 1 output, which is squeezed through a sigmoid.\n"
   ]
  },
  {
   "cell_type": "code",
   "execution_count": 17,
   "id": "2b9c66db",
   "metadata": {
    "execution": {
     "iopub.execute_input": "2021-10-10T10:07:18.307888Z",
     "iopub.status.busy": "2021-10-10T10:07:18.307130Z",
     "iopub.status.idle": "2021-10-10T10:07:18.324118Z",
     "shell.execute_reply": "2021-10-10T10:07:18.323577Z"
    },
    "papermill": {
     "duration": 0.054773,
     "end_time": "2021-10-10T10:07:18.324268",
     "exception": false,
     "start_time": "2021-10-10T10:07:18.269495",
     "status": "completed"
    },
    "tags": []
   },
   "outputs": [],
   "source": [
    "data = Data(X_train, y_train.reshape(-1,1))\n",
    "sampler = Sampler(data, config.bs, shuffle=True)\n",
    "\n",
    "dl = Dataloader(data, sampler)\n",
    "\n",
    "opt = GD(config.lr)\n",
    "loss = MSE()"
   ]
  },
  {
   "cell_type": "code",
   "execution_count": 18,
   "id": "b275e4c2",
   "metadata": {
    "execution": {
     "iopub.execute_input": "2021-10-10T10:07:18.389872Z",
     "iopub.status.busy": "2021-10-10T10:07:18.389107Z",
     "iopub.status.idle": "2021-10-10T10:07:18.403984Z",
     "shell.execute_reply": "2021-10-10T10:07:18.404617Z"
    },
    "papermill": {
     "duration": 0.049903,
     "end_time": "2021-10-10T10:07:18.404763",
     "exception": false,
     "start_time": "2021-10-10T10:07:18.354860",
     "status": "completed"
    },
    "tags": []
   },
   "outputs": [],
   "source": [
    "training_data_x = X_train\n",
    "testing_data_x = X_test\n",
    "training_data_y = y_train.reshape(-1,1)\n",
    "testing_data_y = y_test.reshape(-1,1)"
   ]
  },
  {
   "cell_type": "code",
   "execution_count": 19,
   "id": "76951160",
   "metadata": {
    "execution": {
     "iopub.execute_input": "2021-10-10T10:07:18.479386Z",
     "iopub.status.busy": "2021-10-10T10:07:18.478628Z",
     "iopub.status.idle": "2021-10-10T10:07:18.498818Z",
     "shell.execute_reply": "2021-10-10T10:07:18.499337Z"
    },
    "papermill": {
     "duration": 0.056777,
     "end_time": "2021-10-10T10:07:18.499534",
     "exception": false,
     "start_time": "2021-10-10T10:07:18.442757",
     "status": "completed"
    },
    "tags": []
   },
   "outputs": [
    {
     "name": "stdout",
     "output_type": "stream",
     "text": [
      "xavier\n",
      "xavier\n",
      "xavier\n",
      "xavier\n",
      "xavier\n"
     ]
    }
   ],
   "source": [
    "layers = [Affine(\"first\", 784, 100), Relu(\"first\"), Affine(\"second\", 100, 100), Relu(\"second\"), Affine(\"third\", 100, 2), Affine(\"last\", 2, 1), Sigmoid(\"last\")]\n",
    "model_nn = Model(layers)\n",
    "model_lr = Model([Affine(\"logits\", 784, 1), Sigmoid(\"sigmoid\")])"
   ]
  },
  {
   "cell_type": "code",
   "execution_count": 20,
   "id": "6eede77a",
   "metadata": {
    "execution": {
     "iopub.execute_input": "2021-10-10T10:07:18.578778Z",
     "iopub.status.busy": "2021-10-10T10:07:18.578147Z",
     "iopub.status.idle": "2021-10-10T10:07:18.592855Z",
     "shell.execute_reply": "2021-10-10T10:07:18.592262Z"
    },
    "papermill": {
     "duration": 0.050466,
     "end_time": "2021-10-10T10:07:18.592978",
     "exception": false,
     "start_time": "2021-10-10T10:07:18.542512",
     "status": "completed"
    },
    "tags": []
   },
   "outputs": [],
   "source": [
    "nn_learner = Learner(loss, model_nn, opt, config.num_epochs)\n",
    "acc_nn = ClfCallback(nn_learner, config.bs, training_data_x , testing_data_x, training_data_y, testing_data_y)\n",
    "nn_learner.set_callbacks([acc_nn])"
   ]
  },
  {
   "cell_type": "code",
   "execution_count": 21,
   "id": "877b6cc7",
   "metadata": {
    "execution": {
     "iopub.execute_input": "2021-10-10T10:07:18.665084Z",
     "iopub.status.busy": "2021-10-10T10:07:18.664400Z",
     "iopub.status.idle": "2021-10-10T10:07:18.676746Z",
     "shell.execute_reply": "2021-10-10T10:07:18.677408Z"
    },
    "papermill": {
     "duration": 0.049303,
     "end_time": "2021-10-10T10:07:18.677549",
     "exception": false,
     "start_time": "2021-10-10T10:07:18.628246",
     "status": "completed"
    },
    "tags": []
   },
   "outputs": [],
   "source": [
    "lr_learner = Learner(loss, model_lr, opt, config.num_epochs)\n",
    "acc_lr = ClfCallback(lr_learner, config.bs, training_data_x , testing_data_x, training_data_y, testing_data_y)\n",
    "lr_learner.set_callbacks([acc_lr])"
   ]
  },
  {
   "cell_type": "code",
   "execution_count": 22,
   "id": "d9b133c3",
   "metadata": {
    "execution": {
     "iopub.execute_input": "2021-10-10T10:07:18.751558Z",
     "iopub.status.busy": "2021-10-10T10:07:18.750920Z",
     "iopub.status.idle": "2021-10-10T10:09:39.686934Z",
     "shell.execute_reply": "2021-10-10T10:09:39.687904Z"
    },
    "papermill": {
     "duration": 140.978615,
     "end_time": "2021-10-10T10:09:39.688080",
     "exception": false,
     "start_time": "2021-10-10T10:07:18.709465",
     "status": "completed"
    },
    "tags": []
   },
   "outputs": [
    {
     "name": "stdout",
     "output_type": "stream",
     "text": [
      "Epoch 0, Loss 0.2267\n",
      "Training Accuracy: 0.8160, Testing Accuracy: 0.8281\n",
      "\n"
     ]
    },
    {
     "name": "stdout",
     "output_type": "stream",
     "text": [
      "Epoch 10, Loss 0.0623\n",
      "Training Accuracy: 0.9377, Testing Accuracy: 0.9476\n",
      "\n"
     ]
    },
    {
     "name": "stdout",
     "output_type": "stream",
     "text": [
      "Epoch 20, Loss 0.0441\n",
      "Training Accuracy: 0.9523, Testing Accuracy: 0.9592\n",
      "\n"
     ]
    },
    {
     "name": "stdout",
     "output_type": "stream",
     "text": [
      "Epoch 30, Loss 0.0369\n",
      "Training Accuracy: 0.9588, Testing Accuracy: 0.9652\n",
      "\n"
     ]
    },
    {
     "name": "stdout",
     "output_type": "stream",
     "text": [
      "Epoch 40, Loss 0.033\n",
      "Training Accuracy: 0.9621, Testing Accuracy: 0.9647\n",
      "\n"
     ]
    },
    {
     "name": "stdout",
     "output_type": "stream",
     "text": [
      "Epoch 50, Loss 0.0304\n",
      "Training Accuracy: 0.9648, Testing Accuracy: 0.9652\n",
      "\n"
     ]
    },
    {
     "name": "stdout",
     "output_type": "stream",
     "text": [
      "Epoch 60, Loss 0.0285\n",
      "Training Accuracy: 0.9673, Testing Accuracy: 0.9667\n",
      "\n"
     ]
    },
    {
     "name": "stdout",
     "output_type": "stream",
     "text": [
      "Epoch 70, Loss 0.027\n",
      "Training Accuracy: 0.9683, Testing Accuracy: 0.9672\n",
      "\n"
     ]
    },
    {
     "name": "stdout",
     "output_type": "stream",
     "text": [
      "Epoch 80, Loss 0.0258\n",
      "Training Accuracy: 0.9695, Testing Accuracy: 0.9698\n",
      "\n"
     ]
    },
    {
     "name": "stdout",
     "output_type": "stream",
     "text": [
      "Epoch 90, Loss 0.0248\n",
      "Training Accuracy: 0.9705, Testing Accuracy: 0.9708\n",
      "\n"
     ]
    },
    {
     "name": "stdout",
     "output_type": "stream",
     "text": [
      "Epoch 100, Loss 0.0239\n",
      "Training Accuracy: 0.9717, Testing Accuracy: 0.9703\n",
      "\n"
     ]
    },
    {
     "name": "stdout",
     "output_type": "stream",
     "text": [
      "Epoch 110, Loss 0.0231\n",
      "Training Accuracy: 0.9734, Testing Accuracy: 0.9698\n",
      "\n"
     ]
    },
    {
     "name": "stdout",
     "output_type": "stream",
     "text": [
      "Epoch 120, Loss 0.0224\n",
      "Training Accuracy: 0.9742, Testing Accuracy: 0.9703\n",
      "\n"
     ]
    },
    {
     "name": "stdout",
     "output_type": "stream",
     "text": [
      "Epoch 130, Loss 0.0217\n",
      "Training Accuracy: 0.9753, Testing Accuracy: 0.9708\n",
      "\n"
     ]
    },
    {
     "name": "stdout",
     "output_type": "stream",
     "text": [
      "Epoch 140, Loss 0.0211\n",
      "Training Accuracy: 0.9760, Testing Accuracy: 0.9708\n",
      "\n"
     ]
    },
    {
     "name": "stdout",
     "output_type": "stream",
     "text": [
      "Epoch 150, Loss 0.0206\n",
      "Training Accuracy: 0.9765, Testing Accuracy: 0.9708\n",
      "\n"
     ]
    },
    {
     "name": "stdout",
     "output_type": "stream",
     "text": [
      "Epoch 160, Loss 0.0201\n",
      "Training Accuracy: 0.9776, Testing Accuracy: 0.9708\n",
      "\n"
     ]
    },
    {
     "name": "stdout",
     "output_type": "stream",
     "text": [
      "Epoch 170, Loss 0.0196\n",
      "Training Accuracy: 0.9781, Testing Accuracy: 0.9708\n",
      "\n"
     ]
    },
    {
     "name": "stdout",
     "output_type": "stream",
     "text": [
      "Epoch 180, Loss 0.0191\n",
      "Training Accuracy: 0.9783, Testing Accuracy: 0.9708\n",
      "\n"
     ]
    },
    {
     "name": "stdout",
     "output_type": "stream",
     "text": [
      "Epoch 190, Loss 0.0187\n",
      "Training Accuracy: 0.9789, Testing Accuracy: 0.9718\n",
      "\n"
     ]
    },
    {
     "name": "stdout",
     "output_type": "stream",
     "text": [
      "Epoch 200, Loss 0.0182\n",
      "Training Accuracy: 0.9797, Testing Accuracy: 0.9723\n",
      "\n"
     ]
    },
    {
     "name": "stdout",
     "output_type": "stream",
     "text": [
      "Epoch 210, Loss 0.0178\n",
      "Training Accuracy: 0.9801, Testing Accuracy: 0.9733\n",
      "\n"
     ]
    },
    {
     "name": "stdout",
     "output_type": "stream",
     "text": [
      "Epoch 220, Loss 0.0174\n",
      "Training Accuracy: 0.9806, Testing Accuracy: 0.9738\n",
      "\n"
     ]
    },
    {
     "name": "stdout",
     "output_type": "stream",
     "text": [
      "Epoch 230, Loss 0.0171\n",
      "Training Accuracy: 0.9810, Testing Accuracy: 0.9738\n",
      "\n"
     ]
    },
    {
     "name": "stdout",
     "output_type": "stream",
     "text": [
      "Epoch 240, Loss 0.0167\n",
      "Training Accuracy: 0.9816, Testing Accuracy: 0.9748\n",
      "\n"
     ]
    },
    {
     "data": {
      "text/plain": [
       "0.005644178166211686"
      ]
     },
     "execution_count": 22,
     "metadata": {},
     "output_type": "execute_result"
    }
   ],
   "source": [
    "nn_learner.train_loop(dl)"
   ]
  },
  {
   "cell_type": "code",
   "execution_count": 23,
   "id": "e0163366",
   "metadata": {
    "execution": {
     "iopub.execute_input": "2021-10-10T10:09:39.789320Z",
     "iopub.status.busy": "2021-10-10T10:09:39.788642Z",
     "iopub.status.idle": "2021-10-10T10:10:01.006797Z",
     "shell.execute_reply": "2021-10-10T10:10:01.007866Z"
    },
    "papermill": {
     "duration": 21.274861,
     "end_time": "2021-10-10T10:10:01.008046",
     "exception": false,
     "start_time": "2021-10-10T10:09:39.733185",
     "status": "completed"
    },
    "tags": []
   },
   "outputs": [
    {
     "name": "stdout",
     "output_type": "stream",
     "text": [
      "Epoch 0, Loss 0.2364\n",
      "Training Accuracy: 0.7153, Testing Accuracy: 0.7344\n",
      "\n"
     ]
    },
    {
     "name": "stdout",
     "output_type": "stream",
     "text": [
      "Epoch 10, Loss 0.1022\n",
      "Training Accuracy: 0.9115, Testing Accuracy: 0.9234\n",
      "\n"
     ]
    },
    {
     "name": "stdout",
     "output_type": "stream",
     "text": [
      "Epoch 20, Loss 0.079\n",
      "Training Accuracy: 0.9297, Testing Accuracy: 0.9385\n",
      "\n"
     ]
    },
    {
     "name": "stdout",
     "output_type": "stream",
     "text": [
      "Epoch 30, Loss 0.0682\n",
      "Training Accuracy: 0.9363, Testing Accuracy: 0.9466\n",
      "\n"
     ]
    },
    {
     "name": "stdout",
     "output_type": "stream",
     "text": [
      "Epoch 40, Loss 0.0617\n",
      "Training Accuracy: 0.9413, Testing Accuracy: 0.9506\n",
      "\n"
     ]
    },
    {
     "name": "stdout",
     "output_type": "stream",
     "text": [
      "Epoch 50, Loss 0.0573\n",
      "Training Accuracy: 0.9442, Testing Accuracy: 0.9551\n",
      "\n"
     ]
    },
    {
     "name": "stdout",
     "output_type": "stream",
     "text": [
      "Epoch 60, Loss 0.054\n",
      "Training Accuracy: 0.9465, Testing Accuracy: 0.9582\n",
      "\n"
     ]
    },
    {
     "name": "stdout",
     "output_type": "stream",
     "text": [
      "Epoch 70, Loss 0.0514\n",
      "Training Accuracy: 0.9474, Testing Accuracy: 0.9577\n",
      "\n"
     ]
    },
    {
     "name": "stdout",
     "output_type": "stream",
     "text": [
      "Epoch 80, Loss 0.0494\n",
      "Training Accuracy: 0.9495, Testing Accuracy: 0.9587\n",
      "\n"
     ]
    },
    {
     "name": "stdout",
     "output_type": "stream",
     "text": [
      "Epoch 90, Loss 0.0477\n",
      "Training Accuracy: 0.9505, Testing Accuracy: 0.9597\n",
      "\n"
     ]
    },
    {
     "name": "stdout",
     "output_type": "stream",
     "text": [
      "Epoch 100, Loss 0.0462\n",
      "Training Accuracy: 0.9520, Testing Accuracy: 0.9612\n",
      "\n"
     ]
    },
    {
     "name": "stdout",
     "output_type": "stream",
     "text": [
      "Epoch 110, Loss 0.045\n",
      "Training Accuracy: 0.9532, Testing Accuracy: 0.9627\n",
      "\n"
     ]
    },
    {
     "name": "stdout",
     "output_type": "stream",
     "text": [
      "Epoch 120, Loss 0.044\n",
      "Training Accuracy: 0.9545, Testing Accuracy: 0.9627\n",
      "\n"
     ]
    },
    {
     "name": "stdout",
     "output_type": "stream",
     "text": [
      "Epoch 130, Loss 0.043\n",
      "Training Accuracy: 0.9554, Testing Accuracy: 0.9632\n",
      "\n"
     ]
    },
    {
     "name": "stdout",
     "output_type": "stream",
     "text": [
      "Epoch 140, Loss 0.0422\n",
      "Training Accuracy: 0.9562, Testing Accuracy: 0.9627\n",
      "\n"
     ]
    },
    {
     "name": "stdout",
     "output_type": "stream",
     "text": [
      "Epoch 150, Loss 0.0414\n",
      "Training Accuracy: 0.9564, Testing Accuracy: 0.9637\n",
      "\n"
     ]
    },
    {
     "name": "stdout",
     "output_type": "stream",
     "text": [
      "Epoch 160, Loss 0.0407\n",
      "Training Accuracy: 0.9573, Testing Accuracy: 0.9642\n",
      "\n"
     ]
    },
    {
     "name": "stdout",
     "output_type": "stream",
     "text": [
      "Epoch 170, Loss 0.0401\n",
      "Training Accuracy: 0.9577, Testing Accuracy: 0.9652\n",
      "\n"
     ]
    },
    {
     "name": "stdout",
     "output_type": "stream",
     "text": [
      "Epoch 180, Loss 0.0396\n",
      "Training Accuracy: 0.9583, Testing Accuracy: 0.9647\n",
      "\n"
     ]
    },
    {
     "name": "stdout",
     "output_type": "stream",
     "text": [
      "Epoch 190, Loss 0.039\n",
      "Training Accuracy: 0.9586, Testing Accuracy: 0.9652\n",
      "\n"
     ]
    },
    {
     "name": "stdout",
     "output_type": "stream",
     "text": [
      "Epoch 200, Loss 0.0386\n",
      "Training Accuracy: 0.9589, Testing Accuracy: 0.9652\n",
      "\n"
     ]
    },
    {
     "name": "stdout",
     "output_type": "stream",
     "text": [
      "Epoch 210, Loss 0.0381\n",
      "Training Accuracy: 0.9594, Testing Accuracy: 0.9647\n",
      "\n"
     ]
    },
    {
     "name": "stdout",
     "output_type": "stream",
     "text": [
      "Epoch 220, Loss 0.0377\n",
      "Training Accuracy: 0.9598, Testing Accuracy: 0.9652\n",
      "\n"
     ]
    },
    {
     "name": "stdout",
     "output_type": "stream",
     "text": [
      "Epoch 230, Loss 0.0373\n",
      "Training Accuracy: 0.9602, Testing Accuracy: 0.9652\n",
      "\n"
     ]
    },
    {
     "name": "stdout",
     "output_type": "stream",
     "text": [
      "Epoch 240, Loss 0.0369\n",
      "Training Accuracy: 0.9603, Testing Accuracy: 0.9652\n",
      "\n"
     ]
    },
    {
     "data": {
      "text/plain": [
       "0.02667722979454517"
      ]
     },
     "execution_count": 23,
     "metadata": {},
     "output_type": "execute_result"
    }
   ],
   "source": [
    "lr_learner.train_loop(dl)"
   ]
  },
  {
   "cell_type": "code",
   "execution_count": 24,
   "id": "ca410940",
   "metadata": {
    "execution": {
     "iopub.execute_input": "2021-10-10T10:10:01.125352Z",
     "iopub.status.busy": "2021-10-10T10:10:01.124658Z",
     "iopub.status.idle": "2021-10-10T10:10:01.447561Z",
     "shell.execute_reply": "2021-10-10T10:10:01.446949Z"
    },
    "papermill": {
     "duration": 0.381967,
     "end_time": "2021-10-10T10:10:01.447723",
     "exception": false,
     "start_time": "2021-10-10T10:10:01.065756",
     "status": "completed"
    },
    "tags": []
   },
   "outputs": [
    {
     "data": {
      "text/plain": [
       "<matplotlib.legend.Legend at 0x7fe35de07908>"
      ]
     },
     "execution_count": 24,
     "metadata": {},
     "output_type": "execute_result"
    },
    {
     "data": {
      "image/png": "[encoded data removed]",
      "text/plain": [
       "<Figure size 1080x720 with 1 Axes>"
      ]
     },
     "metadata": {
      "needs_background": "light"
     },
     "output_type": "display_data"
    }
   ],
   "source": [
    "#comparing the results of NN and LR\n",
    "plt.figure(figsize=(15,10))\n",
    "\n",
    "# Neural Network plots\n",
    "plt.plot(acc_nn.accuracies, 'r-', label = \"Training Accuracies - NN\")\n",
    "plt.plot(acc_nn.test_accuracies, 'g-', label = \"Testing Accuracies - NN\")\n",
    "\n",
    "# Logistic Regression plots\n",
    "plt.plot(acc_lr.accuracies, 'k-', label = \"Training Accuracies - LR\")\n",
    "plt.plot(acc_lr.test_accuracies, 'b-', label = \"Testing Accuracies - LR\")\n",
    "plt.legend()"
   ]
  },
  {
   "cell_type": "markdown",
   "id": "80dfb35c",
   "metadata": {
    "papermill": {
     "duration": 0.060013,
     "end_time": "2021-10-10T10:10:01.564053",
     "exception": false,
     "start_time": "2021-10-10T10:10:01.504040",
     "status": "completed"
    },
    "tags": []
   },
   "source": [
    "#### Plotting the outputs of this layer of the NN.\n"
   ]
  },
  {
   "cell_type": "code",
   "execution_count": 25,
   "id": "45eb2ff5",
   "metadata": {
    "execution": {
     "iopub.execute_input": "2021-10-10T10:10:01.707014Z",
     "iopub.status.busy": "2021-10-10T10:10:01.706288Z",
     "iopub.status.idle": "2021-10-10T10:10:01.733986Z",
     "shell.execute_reply": "2021-10-10T10:10:01.735056Z"
    },
    "papermill": {
     "duration": 0.105992,
     "end_time": "2021-10-10T10:10:01.735249",
     "exception": false,
     "start_time": "2021-10-10T10:10:01.629257",
     "status": "completed"
    },
    "tags": []
   },
   "outputs": [],
   "source": [
    "new_model = Model(layers[:-2])\n",
    "testing_plot = new_model(testing_data_x)"
   ]
  },
  {
   "cell_type": "code",
   "execution_count": 26,
   "id": "4c0a5485",
   "metadata": {
    "execution": {
     "iopub.execute_input": "2021-10-10T10:10:01.870658Z",
     "iopub.status.busy": "2021-10-10T10:10:01.868809Z",
     "iopub.status.idle": "2021-10-10T10:10:02.154202Z",
     "shell.execute_reply": "2021-10-10T10:10:02.153626Z"
    },
    "papermill": {
     "duration": 0.355615,
     "end_time": "2021-10-10T10:10:02.154358",
     "exception": false,
     "start_time": "2021-10-10T10:10:01.798743",
     "status": "completed"
    },
    "tags": []
   },
   "outputs": [
    {
     "data": {
      "text/plain": [
       "Text(0.5, 1.0, 'Outputs')"
      ]
     },
     "execution_count": 26,
     "metadata": {},
     "output_type": "execute_result"
    },
    {
     "data": {
      "image/png": "[encoded data removed]",
      "text/plain": [
       "<Figure size 576x504 with 1 Axes>"
      ]
     },
     "metadata": {
      "needs_background": "light"
     },
     "output_type": "display_data"
    }
   ],
   "source": [
    "# Plotting the scatter plot of points and color coding by class\n",
    "plt.figure(figsize=(8,7))\n",
    "plt.scatter(testing_plot[:,0], testing_plot[:,1], alpha = 0.1, c = y_test.ravel());\n",
    "plt.title('Outputs')"
   ]
  },
  {
   "cell_type": "markdown",
   "id": "a74fcf8f",
   "metadata": {
    "papermill": {
     "duration": 0.057558,
     "end_time": "2021-10-10T10:10:02.272969",
     "exception": false,
     "start_time": "2021-10-10T10:10:02.215411",
     "status": "completed"
    },
    "tags": []
   },
   "source": [
    "Probability contours"
   ]
  },
  {
   "cell_type": "code",
   "execution_count": 27,
   "id": "d0afc8e3",
   "metadata": {
    "execution": {
     "iopub.execute_input": "2021-10-10T10:10:02.431840Z",
     "iopub.status.busy": "2021-10-10T10:10:02.430991Z",
     "iopub.status.idle": "2021-10-10T10:10:02.445983Z",
     "shell.execute_reply": "2021-10-10T10:10:02.445378Z"
    },
    "papermill": {
     "duration": 0.110777,
     "end_time": "2021-10-10T10:10:02.446145",
     "exception": false,
     "start_time": "2021-10-10T10:10:02.335368",
     "status": "completed"
    },
    "tags": []
   },
   "outputs": [],
   "source": [
    "model_prob = Model(layers[-2:]) "
   ]
  },
  {
   "cell_type": "code",
   "execution_count": 28,
   "id": "9b96e238",
   "metadata": {
    "execution": {
     "iopub.execute_input": "2021-10-10T10:10:02.574225Z",
     "iopub.status.busy": "2021-10-10T10:10:02.573521Z",
     "iopub.status.idle": "2021-10-10T10:10:02.590107Z",
     "shell.execute_reply": "2021-10-10T10:10:02.590657Z"
    },
    "papermill": {
     "duration": 0.085573,
     "end_time": "2021-10-10T10:10:02.590848",
     "exception": false,
     "start_time": "2021-10-10T10:10:02.505275",
     "status": "completed"
    },
    "tags": []
   },
   "outputs": [],
   "source": [
    "#creating the x and y ranges according to the above generated plot.\n",
    "x_range = np.linspace(-4, 1, 100) \n",
    "y_range = np.linspace(-6, 6, 100) \n",
    "x_grid, y_grid = np.meshgrid(x_range, y_range) # x_grid and y_grig are of size 100 X 100\n",
    "\n",
    "# converting x_grid and y_grid to continuous arrays\n",
    "x_gridflat = np.ravel(x_grid)\n",
    "y_gridflat = np.ravel(y_grid)\n",
    "\n",
    "# The last layer of the current model takes two columns as input. Hence transpose of np.vstack() is required.\n",
    "X = np.vstack((x_gridflat, y_gridflat)).T\n",
    "\n",
    "prob_contour = model_prob(X).reshape(100,100) "
   ]
  },
  {
   "cell_type": "code",
   "execution_count": 29,
   "id": "da72499a",
   "metadata": {
    "execution": {
     "iopub.execute_input": "2021-10-10T10:10:02.722026Z",
     "iopub.status.busy": "2021-10-10T10:10:02.721326Z",
     "iopub.status.idle": "2021-10-10T10:10:03.086807Z",
     "shell.execute_reply": "2021-10-10T10:10:03.086232Z"
    },
    "papermill": {
     "duration": 0.429911,
     "end_time": "2021-10-10T10:10:03.086964",
     "exception": false,
     "start_time": "2021-10-10T10:10:02.657053",
     "status": "completed"
    },
    "tags": []
   },
   "outputs": [
    {
     "data": {
      "image/png": "[encoded data removed]",
      "text/plain": [
       "<Figure size 720x648 with 1 Axes>"
      ]
     },
     "metadata": {
      "needs_background": "light"
     },
     "output_type": "display_data"
    }
   ],
   "source": [
    "plt.figure(figsize=(10,9))\n",
    "plt.scatter(testing_plot[:,0], testing_plot[:,1], alpha = 0.1, c = y_test.ravel())\n",
    "contours = plt.contour(x_grid,y_grid,prob_contour)\n",
    "plt.title('Probability Contours')\n",
    "plt.clabel(contours, inline = True );"
   ]
  },
  {
   "cell_type": "code",
   "execution_count": null,
   "id": "e81b4ac7",
   "metadata": {
    "papermill": {
     "duration": 0.064048,
     "end_time": "2021-10-10T10:10:03.213413",
     "exception": false,
     "start_time": "2021-10-10T10:10:03.149365",
     "status": "completed"
    },
    "tags": []
   },
   "outputs": [],
   "source": []
  }
 ],
 "metadata": {
  "kernelspec": {
   "display_name": "Python 3",
   "language": "python",
   "name": "python3"
  },
  "language_info": {
   "codemirror_mode": {
    "name": "ipython",
    "version": 3
   },
   "file_extension": ".py",
   "mimetype": "text/x-python",
   "name": "python",
   "nbconvert_exporter": "python",
   "pygments_lexer": "ipython3",
   "version": "3.6.15"
  },
  "papermill": {
   "default_parameters": {},
   "duration": 171.912372,
   "end_time": "2021-10-10T10:10:03.784563",
   "environment_variables": {},
   "exception": null,
   "input_path": "2020-08-11-part2.ipynb",
   "output_path": "2020-08-11-part2.ipynb",
   "parameters": {},
   "start_time": "2021-10-10T10:07:11.872191",
   "version": "2.3.3"
  }
 },
 "nbformat": 4,
 "nbformat_minor": 5
}