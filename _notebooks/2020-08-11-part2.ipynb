{
 "cells": [
  {
   "cell_type": "markdown",
   "id": "98380cd3",
   "metadata": {
    "papermill": {
     "duration": 0.033344,
     "end_time": "2021-09-13T00:21:22.355304",
     "exception": false,
     "start_time": "2021-09-13T00:21:22.321960",
     "status": "completed"
    },
    "tags": []
   },
   "source": [
    "# Distinguish Your Own Digits (DYOD)"
   ]
  },
  {
   "cell_type": "markdown",
   "id": "ef31240d",
   "metadata": {
    "papermill": {
     "duration": 0.026564,
     "end_time": "2021-09-13T00:21:22.408645",
     "exception": false,
     "start_time": "2021-09-13T00:21:22.382081",
     "status": "completed"
    },
    "tags": []
   },
   "source": [
    "You are going to write a classifier that distinguishes between the number 3 and number 8."
   ]
  },
  {
   "cell_type": "code",
   "execution_count": 1,
   "id": "b15c8646",
   "metadata": {
    "execution": {
     "iopub.execute_input": "2021-09-13T00:21:22.469344Z",
     "iopub.status.busy": "2021-09-13T00:21:22.468761Z",
     "iopub.status.idle": "2021-09-13T00:21:22.479886Z",
     "shell.execute_reply": "2021-09-13T00:21:22.479368Z"
    },
    "papermill": {
     "duration": 0.047232,
     "end_time": "2021-09-13T00:21:22.480011",
     "exception": false,
     "start_time": "2021-09-13T00:21:22.432779",
     "status": "completed"
    },
    "tags": []
   },
   "outputs": [],
   "source": [
    "%load_ext autoreload\n",
    "%autoreload 2"
   ]
  },
  {
   "cell_type": "code",
   "execution_count": 2,
   "id": "22ef38dc",
   "metadata": {
    "execution": {
     "iopub.execute_input": "2021-09-13T00:21:22.538155Z",
     "iopub.status.busy": "2021-09-13T00:21:22.537524Z",
     "iopub.status.idle": "2021-09-13T00:21:23.092200Z",
     "shell.execute_reply": "2021-09-13T00:21:23.091691Z"
    },
    "papermill": {
     "duration": 0.586751,
     "end_time": "2021-09-13T00:21:23.092330",
     "exception": false,
     "start_time": "2021-09-13T00:21:22.505579",
     "status": "completed"
    },
    "tags": []
   },
   "outputs": [],
   "source": [
    "%matplotlib inline\n",
    "import numpy as np\n",
    "import matplotlib.pyplot as plt\n",
    "import pandas as pd"
   ]
  },
  {
   "cell_type": "markdown",
   "id": "ba036198",
   "metadata": {
    "papermill": {
     "duration": 0.028995,
     "end_time": "2021-09-13T00:21:23.148140",
     "exception": false,
     "start_time": "2021-09-13T00:21:23.119145",
     "status": "completed"
    },
    "tags": []
   },
   "source": [
    "From the command line run `pip install mnist`. This is a library that will help you bring down the mnist dataset. If you run this from a notebook, you need to put  `!pip install mnist` in a cell by itself."
   ]
  },
  {
   "cell_type": "code",
   "execution_count": 3,
   "id": "bb6ad8a1",
   "metadata": {
    "execution": {
     "iopub.execute_input": "2021-09-13T00:21:23.204062Z",
     "iopub.status.busy": "2021-09-13T00:21:23.203510Z",
     "iopub.status.idle": "2021-09-13T00:21:25.122637Z",
     "shell.execute_reply": "2021-09-13T00:21:25.121248Z"
    },
    "papermill": {
     "duration": 1.948903,
     "end_time": "2021-09-13T00:21:25.122864",
     "exception": false,
     "start_time": "2021-09-13T00:21:23.173961",
     "status": "completed"
    },
    "tags": []
   },
   "outputs": [
    {
     "name": "stdout",
     "output_type": "stream",
     "text": [
      "Collecting mnist\r\n"
     ]
    },
    {
     "name": "stdout",
     "output_type": "stream",
     "text": [
      "  Downloading mnist-0.2.2-py2.py3-none-any.whl (3.5 kB)\r\n",
      "Requirement already satisfied: numpy in /opt/hostedtoolcache/Python/3.6.14/x64/lib/python3.6/site-packages (from mnist) (1.19.5)\r\n"
     ]
    },
    {
     "name": "stdout",
     "output_type": "stream",
     "text": [
      "Installing collected packages: mnist\r\n",
      "Successfully installed mnist-0.2.2\r\n"
     ]
    }
   ],
   "source": [
    "!pip install mnist"
   ]
  },
  {
   "cell_type": "markdown",
   "id": "69df9c9a",
   "metadata": {
    "papermill": {
     "duration": 0.027312,
     "end_time": "2021-09-13T00:21:25.179607",
     "exception": false,
     "start_time": "2021-09-13T00:21:25.152295",
     "status": "completed"
    },
    "tags": []
   },
   "source": [
    "## Preparing the Data"
   ]
  },
  {
   "cell_type": "code",
   "execution_count": 4,
   "id": "7f69d806",
   "metadata": {
    "execution": {
     "iopub.execute_input": "2021-09-13T00:21:25.237931Z",
     "iopub.status.busy": "2021-09-13T00:21:25.237308Z",
     "iopub.status.idle": "2021-09-13T00:21:25.253522Z",
     "shell.execute_reply": "2021-09-13T00:21:25.254048Z"
    },
    "papermill": {
     "duration": 0.047913,
     "end_time": "2021-09-13T00:21:25.254192",
     "exception": false,
     "start_time": "2021-09-13T00:21:25.206279",
     "status": "completed"
    },
    "tags": []
   },
   "outputs": [],
   "source": [
    "import mnist"
   ]
  },
  {
   "cell_type": "code",
   "execution_count": 5,
   "id": "a411e44f",
   "metadata": {
    "execution": {
     "iopub.execute_input": "2021-09-13T00:21:25.311435Z",
     "iopub.status.busy": "2021-09-13T00:21:25.310847Z",
     "iopub.status.idle": "2021-09-13T00:21:26.019325Z",
     "shell.execute_reply": "2021-09-13T00:21:26.019794Z"
    },
    "papermill": {
     "duration": 0.738747,
     "end_time": "2021-09-13T00:21:26.020049",
     "exception": false,
     "start_time": "2021-09-13T00:21:25.281302",
     "status": "completed"
    },
    "tags": []
   },
   "outputs": [],
   "source": [
    "train_images = mnist.train_images()\n",
    "train_labels = mnist.train_labels()"
   ]
  },
  {
   "cell_type": "code",
   "execution_count": 6,
   "id": "dceab3a5",
   "metadata": {
    "execution": {
     "iopub.execute_input": "2021-09-13T00:21:26.080338Z",
     "iopub.status.busy": "2021-09-13T00:21:26.079782Z",
     "iopub.status.idle": "2021-09-13T00:21:26.095607Z",
     "shell.execute_reply": "2021-09-13T00:21:26.096159Z"
    },
    "papermill": {
     "duration": 0.048057,
     "end_time": "2021-09-13T00:21:26.096309",
     "exception": false,
     "start_time": "2021-09-13T00:21:26.048252",
     "status": "completed"
    },
    "tags": []
   },
   "outputs": [
    {
     "data": {
      "text/plain": [
       "((60000, 28, 28), (60000,))"
      ]
     },
     "execution_count": 6,
     "metadata": {},
     "output_type": "execute_result"
    }
   ],
   "source": [
    "train_images.shape, train_labels.shape"
   ]
  },
  {
   "cell_type": "code",
   "execution_count": 7,
   "id": "f50dc2bb",
   "metadata": {
    "execution": {
     "iopub.execute_input": "2021-09-13T00:21:26.158942Z",
     "iopub.status.busy": "2021-09-13T00:21:26.154977Z",
     "iopub.status.idle": "2021-09-13T00:21:26.501185Z",
     "shell.execute_reply": "2021-09-13T00:21:26.502064Z"
    },
    "papermill": {
     "duration": 0.378654,
     "end_time": "2021-09-13T00:21:26.502227",
     "exception": false,
     "start_time": "2021-09-13T00:21:26.123573",
     "status": "completed"
    },
    "tags": []
   },
   "outputs": [],
   "source": [
    "test_images = mnist.test_images()\n",
    "test_labels = mnist.test_labels()"
   ]
  },
  {
   "cell_type": "code",
   "execution_count": 8,
   "id": "fc38cf1b",
   "metadata": {
    "execution": {
     "iopub.execute_input": "2021-09-13T00:21:26.563261Z",
     "iopub.status.busy": "2021-09-13T00:21:26.562711Z",
     "iopub.status.idle": "2021-09-13T00:21:26.577841Z",
     "shell.execute_reply": "2021-09-13T00:21:26.577244Z"
    },
    "papermill": {
     "duration": 0.046015,
     "end_time": "2021-09-13T00:21:26.577958",
     "exception": false,
     "start_time": "2021-09-13T00:21:26.531943",
     "status": "completed"
    },
    "tags": []
   },
   "outputs": [
    {
     "data": {
      "text/plain": [
       "((10000, 28, 28), (10000,))"
      ]
     },
     "execution_count": 8,
     "metadata": {},
     "output_type": "execute_result"
    }
   ],
   "source": [
    "test_images.shape, test_labels.shape"
   ]
  },
  {
   "cell_type": "code",
   "execution_count": 9,
   "id": "f9ed8fe0",
   "metadata": {
    "execution": {
     "iopub.execute_input": "2021-09-13T00:21:26.635664Z",
     "iopub.status.busy": "2021-09-13T00:21:26.635130Z",
     "iopub.status.idle": "2021-09-13T00:21:26.790441Z",
     "shell.execute_reply": "2021-09-13T00:21:26.789910Z"
    },
    "papermill": {
     "duration": 0.186875,
     "end_time": "2021-09-13T00:21:26.790567",
     "exception": false,
     "start_time": "2021-09-13T00:21:26.603692",
     "status": "completed"
    },
    "tags": []
   },
   "outputs": [
    {
     "name": "stdout",
     "output_type": "stream",
     "text": [
      "2\n"
     ]
    },
    {
     "data": {
      "text/plain": [
       "<matplotlib.image.AxesImage at 0x7f06607deeb8>"
      ]
     },
     "execution_count": 9,
     "metadata": {},
     "output_type": "execute_result"
    },
    {
     "data": {
      "image/png": "[encoded data removed]",
      "text/plain": [
       "<Figure size 432x288 with 1 Axes>"
      ]
     },
     "metadata": {
      "needs_background": "light"
     },
     "output_type": "display_data"
    }
   ],
   "source": [
    "image_index = 7776 # You may select anything up to 60,000\n",
    "print(train_labels[image_index]) \n",
    "plt.imshow(train_images[image_index], cmap='Greys')"
   ]
  },
  {
   "cell_type": "markdown",
   "id": "a8d2388d",
   "metadata": {
    "papermill": {
     "duration": 0.029546,
     "end_time": "2021-09-13T00:21:26.850141",
     "exception": false,
     "start_time": "2021-09-13T00:21:26.820595",
     "status": "completed"
    },
    "tags": []
   },
   "source": [
    "## Filter data to get 3 and 8 out"
   ]
  },
  {
   "cell_type": "code",
   "execution_count": 10,
   "id": "776f7fc7",
   "metadata": {
    "execution": {
     "iopub.execute_input": "2021-09-13T00:21:26.912705Z",
     "iopub.status.busy": "2021-09-13T00:21:26.912119Z",
     "iopub.status.idle": "2021-09-13T00:21:26.931773Z",
     "shell.execute_reply": "2021-09-13T00:21:26.931299Z"
    },
    "papermill": {
     "duration": 0.052879,
     "end_time": "2021-09-13T00:21:26.931896",
     "exception": false,
     "start_time": "2021-09-13T00:21:26.879017",
     "status": "completed"
    },
    "tags": []
   },
   "outputs": [],
   "source": [
    "train_filter = np.where((train_labels == 3 ) | (train_labels == 8))\n",
    "test_filter = np.where((test_labels == 3) | (test_labels == 8))\n",
    "X_train, y_train = train_images[train_filter], train_labels[train_filter]\n",
    "X_test, y_test = test_images[test_filter], test_labels[test_filter]"
   ]
  },
  {
   "cell_type": "markdown",
   "id": "948f0b7e",
   "metadata": {
    "papermill": {
     "duration": 0.027997,
     "end_time": "2021-09-13T00:21:26.987597",
     "exception": false,
     "start_time": "2021-09-13T00:21:26.959600",
     "status": "completed"
    },
    "tags": []
   },
   "source": [
    "We normalize the pizel values in the 0 to 1 range"
   ]
  },
  {
   "cell_type": "code",
   "execution_count": 11,
   "id": "ee4c2166",
   "metadata": {
    "execution": {
     "iopub.execute_input": "2021-09-13T00:21:27.050059Z",
     "iopub.status.busy": "2021-09-13T00:21:27.049452Z",
     "iopub.status.idle": "2021-09-13T00:21:27.104671Z",
     "shell.execute_reply": "2021-09-13T00:21:27.104177Z"
    },
    "papermill": {
     "duration": 0.08928,
     "end_time": "2021-09-13T00:21:27.104791",
     "exception": false,
     "start_time": "2021-09-13T00:21:27.015511",
     "status": "completed"
    },
    "tags": []
   },
   "outputs": [],
   "source": [
    "X_train = X_train/255.\n",
    "X_test = X_test/255."
   ]
  },
  {
   "cell_type": "markdown",
   "id": "ddcf4fab",
   "metadata": {
    "papermill": {
     "duration": 0.028905,
     "end_time": "2021-09-13T00:21:27.162498",
     "exception": false,
     "start_time": "2021-09-13T00:21:27.133593",
     "status": "completed"
    },
    "tags": []
   },
   "source": [
    "And setup the labels as 1 (when the digit is 3) and 0 (when the digit is 8)"
   ]
  },
  {
   "cell_type": "code",
   "execution_count": 12,
   "id": "7dc908f2",
   "metadata": {
    "execution": {
     "iopub.execute_input": "2021-09-13T00:21:27.228207Z",
     "iopub.status.busy": "2021-09-13T00:21:27.227655Z",
     "iopub.status.idle": "2021-09-13T00:21:27.238612Z",
     "shell.execute_reply": "2021-09-13T00:21:27.239185Z"
    },
    "papermill": {
     "duration": 0.04772,
     "end_time": "2021-09-13T00:21:27.239319",
     "exception": false,
     "start_time": "2021-09-13T00:21:27.191599",
     "status": "completed"
    },
    "tags": []
   },
   "outputs": [],
   "source": [
    "y_train = 1*(y_train==3)\n",
    "y_test = 1*(y_test==3)"
   ]
  },
  {
   "cell_type": "code",
   "execution_count": 13,
   "id": "01e4e969",
   "metadata": {
    "execution": {
     "iopub.execute_input": "2021-09-13T00:21:27.299287Z",
     "iopub.status.busy": "2021-09-13T00:21:27.298714Z",
     "iopub.status.idle": "2021-09-13T00:21:27.313804Z",
     "shell.execute_reply": "2021-09-13T00:21:27.313338Z"
    },
    "papermill": {
     "duration": 0.046477,
     "end_time": "2021-09-13T00:21:27.313920",
     "exception": false,
     "start_time": "2021-09-13T00:21:27.267443",
     "status": "completed"
    },
    "tags": []
   },
   "outputs": [
    {
     "data": {
      "text/plain": [
       "((11982, 28, 28), (1984, 28, 28))"
      ]
     },
     "execution_count": 13,
     "metadata": {},
     "output_type": "execute_result"
    }
   ],
   "source": [
    "X_train.shape, X_test.shape"
   ]
  },
  {
   "cell_type": "markdown",
   "id": "5ccf3f85",
   "metadata": {
    "papermill": {
     "duration": 0.028745,
     "end_time": "2021-09-13T00:21:27.371160",
     "exception": false,
     "start_time": "2021-09-13T00:21:27.342415",
     "status": "completed"
    },
    "tags": []
   },
   "source": [
    "We reshape the data to flatten the image pixels into a set of features or co-variates:"
   ]
  },
  {
   "cell_type": "code",
   "execution_count": 14,
   "id": "5286a4a3",
   "metadata": {
    "execution": {
     "iopub.execute_input": "2021-09-13T00:21:27.434674Z",
     "iopub.status.busy": "2021-09-13T00:21:27.434078Z",
     "iopub.status.idle": "2021-09-13T00:21:27.448326Z",
     "shell.execute_reply": "2021-09-13T00:21:27.447832Z"
    },
    "papermill": {
     "duration": 0.048452,
     "end_time": "2021-09-13T00:21:27.448443",
     "exception": false,
     "start_time": "2021-09-13T00:21:27.399991",
     "status": "completed"
    },
    "tags": []
   },
   "outputs": [
    {
     "data": {
      "text/plain": [
       "((11982, 784), (1984, 784))"
      ]
     },
     "execution_count": 14,
     "metadata": {},
     "output_type": "execute_result"
    }
   ],
   "source": [
    "X_train = X_train.reshape(X_train.shape[0], -1)\n",
    "X_test = X_test.reshape(X_test.shape[0], -1)\n",
    "X_train.shape, X_test.shape"
   ]
  },
  {
   "cell_type": "code",
   "execution_count": 15,
   "id": "73c5f88a",
   "metadata": {
    "execution": {
     "iopub.execute_input": "2021-09-13T00:21:27.510564Z",
     "iopub.status.busy": "2021-09-13T00:21:27.509982Z",
     "iopub.status.idle": "2021-09-13T00:21:27.529399Z",
     "shell.execute_reply": "2021-09-13T00:21:27.529879Z"
    },
    "papermill": {
     "duration": 0.05266,
     "end_time": "2021-09-13T00:21:27.530018",
     "exception": false,
     "start_time": "2021-09-13T00:21:27.477358",
     "status": "completed"
    },
    "tags": []
   },
   "outputs": [],
   "source": [
    "#Impoting functions from 'Kudzu'\n",
    "from kudzu.model import Model\n",
    "from kudzu.train import Learner\n",
    "from kudzu.optim import GD\n",
    "from kudzu.data import Data, Sampler,Dataloader\n",
    "\n",
    "from kudzu.callbacks import AccCallback\n",
    "from kudzu.callbacks import ClfCallback\n",
    "\n",
    "from kudzu.loss import MSE\n",
    "\n",
    "from kudzu.layer import Sigmoid,Relu\n",
    "from kudzu.layer import Affine"
   ]
  },
  {
   "cell_type": "markdown",
   "id": "bc01172a",
   "metadata": {
    "papermill": {
     "duration": 0.028963,
     "end_time": "2021-09-13T00:21:27.587166",
     "exception": false,
     "start_time": "2021-09-13T00:21:27.558203",
     "status": "completed"
    },
    "tags": []
   },
   "source": [
    "### Let us create a `Config` class, to store important parameters. \n",
    "This class essentially plays the role of a dictionary."
   ]
  },
  {
   "cell_type": "code",
   "execution_count": 16,
   "id": "978281aa",
   "metadata": {
    "execution": {
     "iopub.execute_input": "2021-09-13T00:21:27.651867Z",
     "iopub.status.busy": "2021-09-13T00:21:27.651309Z",
     "iopub.status.idle": "2021-09-13T00:21:27.663953Z",
     "shell.execute_reply": "2021-09-13T00:21:27.664599Z"
    },
    "papermill": {
     "duration": 0.049443,
     "end_time": "2021-09-13T00:21:27.664773",
     "exception": false,
     "start_time": "2021-09-13T00:21:27.615330",
     "status": "completed"
    },
    "tags": []
   },
   "outputs": [],
   "source": [
    "class Config:\n",
    "    pass\n",
    "config = Config()\n",
    "config.lr = 0.001\n",
    "config.num_epochs = 250\n",
    "config.bs = 50"
   ]
  },
  {
   "cell_type": "markdown",
   "id": "1385fa59",
   "metadata": {
    "papermill": {
     "duration": 0.029074,
     "end_time": "2021-09-13T00:21:27.724535",
     "exception": false,
     "start_time": "2021-09-13T00:21:27.695461",
     "status": "completed"
    },
    "tags": []
   },
   "source": [
    "### Running Models with the Training data\n",
    "Details about the network layers:\n",
    "- A first affine layer has 784 inputs and does 100 affine transforms. These are followed by a Relu\n",
    "- A second affine layer has 100 inputs from the 100 activations of the past layer, and does 100 affine transforms. These are followed by a Relu\n",
    "- A third affine layer has 100 activations and does 2 affine transformations to create an embedding for visualization. There is no non-linearity here.\n",
    "- A final \"logistic regression\" which has an affine transform from 2 inputs to 1 output, which is squeezed through a sigmoid.\n"
   ]
  },
  {
   "cell_type": "code",
   "execution_count": 17,
   "id": "2b9c66db",
   "metadata": {
    "execution": {
     "iopub.execute_input": "2021-09-13T00:21:27.787788Z",
     "iopub.status.busy": "2021-09-13T00:21:27.787233Z",
     "iopub.status.idle": "2021-09-13T00:21:27.801554Z",
     "shell.execute_reply": "2021-09-13T00:21:27.801113Z"
    },
    "papermill": {
     "duration": 0.048593,
     "end_time": "2021-09-13T00:21:27.801694",
     "exception": false,
     "start_time": "2021-09-13T00:21:27.753101",
     "status": "completed"
    },
    "tags": []
   },
   "outputs": [],
   "source": [
    "data = Data(X_train, y_train.reshape(-1,1))\n",
    "sampler = Sampler(data, config.bs, shuffle=True)\n",
    "\n",
    "dl = Dataloader(data, sampler)\n",
    "\n",
    "opt = GD(config.lr)\n",
    "loss = MSE()"
   ]
  },
  {
   "cell_type": "code",
   "execution_count": 18,
   "id": "b275e4c2",
   "metadata": {
    "execution": {
     "iopub.execute_input": "2021-09-13T00:21:27.863474Z",
     "iopub.status.busy": "2021-09-13T00:21:27.862893Z",
     "iopub.status.idle": "2021-09-13T00:21:27.874979Z",
     "shell.execute_reply": "2021-09-13T00:21:27.875423Z"
    },
    "papermill": {
     "duration": 0.045086,
     "end_time": "2021-09-13T00:21:27.875551",
     "exception": false,
     "start_time": "2021-09-13T00:21:27.830465",
     "status": "completed"
    },
    "tags": []
   },
   "outputs": [],
   "source": [
    "training_data_x = X_train\n",
    "testing_data_x = X_test\n",
    "training_data_y = y_train.reshape(-1,1)\n",
    "testing_data_y = y_test.reshape(-1,1)"
   ]
  },
  {
   "cell_type": "code",
   "execution_count": 19,
   "id": "76951160",
   "metadata": {
    "execution": {
     "iopub.execute_input": "2021-09-13T00:21:27.938543Z",
     "iopub.status.busy": "2021-09-13T00:21:27.937927Z",
     "iopub.status.idle": "2021-09-13T00:21:27.956443Z",
     "shell.execute_reply": "2021-09-13T00:21:27.955970Z"
    },
    "papermill": {
     "duration": 0.051947,
     "end_time": "2021-09-13T00:21:27.956566",
     "exception": false,
     "start_time": "2021-09-13T00:21:27.904619",
     "status": "completed"
    },
    "tags": []
   },
   "outputs": [
    {
     "name": "stdout",
     "output_type": "stream",
     "text": [
      "xavier\n",
      "xavier\n",
      "xavier\n",
      "xavier\n",
      "xavier\n"
     ]
    }
   ],
   "source": [
    "layers = [Affine(\"first\", 784, 100), Relu(\"first\"), Affine(\"second\", 100, 100), Relu(\"second\"), Affine(\"third\", 100, 2), Affine(\"last\", 2, 1), Sigmoid(\"last\")]\n",
    "model_nn = Model(layers)\n",
    "model_lr = Model([Affine(\"logits\", 784, 1), Sigmoid(\"sigmoid\")])"
   ]
  },
  {
   "cell_type": "code",
   "execution_count": 20,
   "id": "6eede77a",
   "metadata": {
    "execution": {
     "iopub.execute_input": "2021-09-13T00:21:28.021649Z",
     "iopub.status.busy": "2021-09-13T00:21:28.021060Z",
     "iopub.status.idle": "2021-09-13T00:21:28.036645Z",
     "shell.execute_reply": "2021-09-13T00:21:28.036151Z"
    },
    "papermill": {
     "duration": 0.050009,
     "end_time": "2021-09-13T00:21:28.036758",
     "exception": false,
     "start_time": "2021-09-13T00:21:27.986749",
     "status": "completed"
    },
    "tags": []
   },
   "outputs": [],
   "source": [
    "nn_learner = Learner(loss, model_nn, opt, config.num_epochs)\n",
    "acc_nn = ClfCallback(nn_learner, config.bs, training_data_x , testing_data_x, training_data_y, testing_data_y)\n",
    "nn_learner.set_callbacks([acc_nn])"
   ]
  },
  {
   "cell_type": "code",
   "execution_count": 21,
   "id": "877b6cc7",
   "metadata": {
    "execution": {
     "iopub.execute_input": "2021-09-13T00:21:28.101353Z",
     "iopub.status.busy": "2021-09-13T00:21:28.100774Z",
     "iopub.status.idle": "2021-09-13T00:21:28.113482Z",
     "shell.execute_reply": "2021-09-13T00:21:28.112997Z"
    },
    "papermill": {
     "duration": 0.046702,
     "end_time": "2021-09-13T00:21:28.113613",
     "exception": false,
     "start_time": "2021-09-13T00:21:28.066911",
     "status": "completed"
    },
    "tags": []
   },
   "outputs": [],
   "source": [
    "lr_learner = Learner(loss, model_lr, opt, config.num_epochs)\n",
    "acc_lr = ClfCallback(lr_learner, config.bs, training_data_x , testing_data_x, training_data_y, testing_data_y)\n",
    "lr_learner.set_callbacks([acc_lr])"
   ]
  },
  {
   "cell_type": "code",
   "execution_count": 22,
   "id": "d9b133c3",
   "metadata": {
    "execution": {
     "iopub.execute_input": "2021-09-13T00:21:28.177971Z",
     "iopub.status.busy": "2021-09-13T00:21:28.177367Z",
     "iopub.status.idle": "2021-09-13T00:22:53.192015Z",
     "shell.execute_reply": "2021-09-13T00:22:53.192819Z"
    },
    "papermill": {
     "duration": 85.049417,
     "end_time": "2021-09-13T00:22:53.192977",
     "exception": false,
     "start_time": "2021-09-13T00:21:28.143560",
     "status": "completed"
    },
    "tags": []
   },
   "outputs": [
    {
     "name": "stdout",
     "output_type": "stream",
     "text": [
      "Epoch 0, Loss 0.2304\n",
      "Training Accuracy: 0.7402, Testing Accuracy: 0.7364\n",
      "\n"
     ]
    },
    {
     "name": "stdout",
     "output_type": "stream",
     "text": [
      "Epoch 10, Loss 0.0814\n",
      "Training Accuracy: 0.9273, Testing Accuracy: 0.9370\n",
      "\n"
     ]
    },
    {
     "name": "stdout",
     "output_type": "stream",
     "text": [
      "Epoch 20, Loss 0.0522\n",
      "Training Accuracy: 0.9474, Testing Accuracy: 0.9582\n",
      "\n"
     ]
    },
    {
     "name": "stdout",
     "output_type": "stream",
     "text": [
      "Epoch 30, Loss 0.0419\n",
      "Training Accuracy: 0.9543, Testing Accuracy: 0.9637\n",
      "\n"
     ]
    },
    {
     "name": "stdout",
     "output_type": "stream",
     "text": [
      "Epoch 40, Loss 0.0368\n",
      "Training Accuracy: 0.9588, Testing Accuracy: 0.9688\n",
      "\n"
     ]
    },
    {
     "name": "stdout",
     "output_type": "stream",
     "text": [
      "Epoch 50, Loss 0.0335\n",
      "Training Accuracy: 0.9625, Testing Accuracy: 0.9693\n",
      "\n"
     ]
    },
    {
     "name": "stdout",
     "output_type": "stream",
     "text": [
      "Epoch 60, Loss 0.0312\n",
      "Training Accuracy: 0.9650, Testing Accuracy: 0.9703\n",
      "\n"
     ]
    },
    {
     "name": "stdout",
     "output_type": "stream",
     "text": [
      "Epoch 70, Loss 0.0294\n",
      "Training Accuracy: 0.9663, Testing Accuracy: 0.9698\n",
      "\n"
     ]
    },
    {
     "name": "stdout",
     "output_type": "stream",
     "text": [
      "Epoch 80, Loss 0.028\n",
      "Training Accuracy: 0.9684, Testing Accuracy: 0.9733\n",
      "\n"
     ]
    },
    {
     "name": "stdout",
     "output_type": "stream",
     "text": [
      "Epoch 90, Loss 0.0268\n",
      "Training Accuracy: 0.9705, Testing Accuracy: 0.9728\n",
      "\n"
     ]
    },
    {
     "name": "stdout",
     "output_type": "stream",
     "text": [
      "Epoch 100, Loss 0.0258\n",
      "Training Accuracy: 0.9716, Testing Accuracy: 0.9728\n",
      "\n"
     ]
    },
    {
     "name": "stdout",
     "output_type": "stream",
     "text": [
      "Epoch 110, Loss 0.025\n",
      "Training Accuracy: 0.9726, Testing Accuracy: 0.9723\n",
      "\n"
     ]
    },
    {
     "name": "stdout",
     "output_type": "stream",
     "text": [
      "Epoch 120, Loss 0.0242\n",
      "Training Accuracy: 0.9733, Testing Accuracy: 0.9723\n",
      "\n"
     ]
    },
    {
     "name": "stdout",
     "output_type": "stream",
     "text": [
      "Epoch 130, Loss 0.0235\n",
      "Training Accuracy: 0.9737, Testing Accuracy: 0.9728\n",
      "\n"
     ]
    },
    {
     "name": "stdout",
     "output_type": "stream",
     "text": [
      "Epoch 140, Loss 0.0229\n",
      "Training Accuracy: 0.9741, Testing Accuracy: 0.9733\n",
      "\n"
     ]
    },
    {
     "name": "stdout",
     "output_type": "stream",
     "text": [
      "Epoch 150, Loss 0.0223\n",
      "Training Accuracy: 0.9747, Testing Accuracy: 0.9733\n",
      "\n"
     ]
    },
    {
     "name": "stdout",
     "output_type": "stream",
     "text": [
      "Epoch 160, Loss 0.0218\n",
      "Training Accuracy: 0.9759, Testing Accuracy: 0.9743\n",
      "\n"
     ]
    },
    {
     "name": "stdout",
     "output_type": "stream",
     "text": [
      "Epoch 170, Loss 0.0213\n",
      "Training Accuracy: 0.9766, Testing Accuracy: 0.9748\n",
      "\n"
     ]
    },
    {
     "name": "stdout",
     "output_type": "stream",
     "text": [
      "Epoch 180, Loss 0.0209\n",
      "Training Accuracy: 0.9774, Testing Accuracy: 0.9748\n",
      "\n"
     ]
    },
    {
     "name": "stdout",
     "output_type": "stream",
     "text": [
      "Epoch 190, Loss 0.0204\n",
      "Training Accuracy: 0.9782, Testing Accuracy: 0.9748\n",
      "\n"
     ]
    },
    {
     "name": "stdout",
     "output_type": "stream",
     "text": [
      "Epoch 200, Loss 0.02\n",
      "Training Accuracy: 0.9786, Testing Accuracy: 0.9748\n",
      "\n"
     ]
    },
    {
     "name": "stdout",
     "output_type": "stream",
     "text": [
      "Epoch 210, Loss 0.0196\n",
      "Training Accuracy: 0.9788, Testing Accuracy: 0.9748\n",
      "\n"
     ]
    },
    {
     "name": "stdout",
     "output_type": "stream",
     "text": [
      "Epoch 220, Loss 0.0192\n",
      "Training Accuracy: 0.9793, Testing Accuracy: 0.9753\n",
      "\n"
     ]
    },
    {
     "name": "stdout",
     "output_type": "stream",
     "text": [
      "Epoch 230, Loss 0.0188\n",
      "Training Accuracy: 0.9801, Testing Accuracy: 0.9758\n",
      "\n"
     ]
    },
    {
     "name": "stdout",
     "output_type": "stream",
     "text": [
      "Epoch 240, Loss 0.0184\n",
      "Training Accuracy: 0.9803, Testing Accuracy: 0.9758\n",
      "\n"
     ]
    },
    {
     "data": {
      "text/plain": [
       "0.01116318595655118"
      ]
     },
     "execution_count": 22,
     "metadata": {},
     "output_type": "execute_result"
    }
   ],
   "source": [
    "nn_learner.train_loop(dl)"
   ]
  },
  {
   "cell_type": "code",
   "execution_count": 23,
   "id": "e0163366",
   "metadata": {
    "execution": {
     "iopub.execute_input": "2021-09-13T00:22:53.283148Z",
     "iopub.status.busy": "2021-09-13T00:22:53.282551Z",
     "iopub.status.idle": "2021-09-13T00:23:08.366207Z",
     "shell.execute_reply": "2021-09-13T00:23:08.367011Z"
    },
    "papermill": {
     "duration": 15.135312,
     "end_time": "2021-09-13T00:23:08.367166",
     "exception": false,
     "start_time": "2021-09-13T00:22:53.231854",
     "status": "completed"
    },
    "tags": []
   },
   "outputs": [
    {
     "name": "stdout",
     "output_type": "stream",
     "text": [
      "Epoch 0, Loss 0.2063\n",
      "Training Accuracy: 0.8114, Testing Accuracy: 0.8291\n",
      "\n"
     ]
    },
    {
     "name": "stdout",
     "output_type": "stream",
     "text": [
      "Epoch 10, Loss 0.097\n",
      "Training Accuracy: 0.9188, Testing Accuracy: 0.9340\n",
      "\n"
     ]
    },
    {
     "name": "stdout",
     "output_type": "stream",
     "text": [
      "Epoch 20, Loss 0.0766\n",
      "Training Accuracy: 0.9306, Testing Accuracy: 0.9451\n",
      "\n"
     ]
    },
    {
     "name": "stdout",
     "output_type": "stream",
     "text": [
      "Epoch 30, Loss 0.0669\n",
      "Training Accuracy: 0.9367, Testing Accuracy: 0.9501\n",
      "\n"
     ]
    },
    {
     "name": "stdout",
     "output_type": "stream",
     "text": [
      "Epoch 40, Loss 0.0609\n",
      "Training Accuracy: 0.9420, Testing Accuracy: 0.9536\n",
      "\n"
     ]
    },
    {
     "name": "stdout",
     "output_type": "stream",
     "text": [
      "Epoch 50, Loss 0.0567\n",
      "Training Accuracy: 0.9454, Testing Accuracy: 0.9551\n",
      "\n"
     ]
    },
    {
     "name": "stdout",
     "output_type": "stream",
     "text": [
      "Epoch 60, Loss 0.0536\n",
      "Training Accuracy: 0.9478, Testing Accuracy: 0.9572\n",
      "\n"
     ]
    },
    {
     "name": "stdout",
     "output_type": "stream",
     "text": [
      "Epoch 70, Loss 0.0512\n",
      "Training Accuracy: 0.9493, Testing Accuracy: 0.9607\n",
      "\n"
     ]
    },
    {
     "name": "stdout",
     "output_type": "stream",
     "text": [
      "Epoch 80, Loss 0.0492\n",
      "Training Accuracy: 0.9513, Testing Accuracy: 0.9627\n",
      "\n"
     ]
    },
    {
     "name": "stdout",
     "output_type": "stream",
     "text": [
      "Epoch 90, Loss 0.0476\n",
      "Training Accuracy: 0.9525, Testing Accuracy: 0.9627\n",
      "\n"
     ]
    },
    {
     "name": "stdout",
     "output_type": "stream",
     "text": [
      "Epoch 100, Loss 0.0462\n",
      "Training Accuracy: 0.9533, Testing Accuracy: 0.9637\n",
      "\n"
     ]
    },
    {
     "name": "stdout",
     "output_type": "stream",
     "text": [
      "Epoch 110, Loss 0.045\n",
      "Training Accuracy: 0.9538, Testing Accuracy: 0.9647\n",
      "\n"
     ]
    },
    {
     "name": "stdout",
     "output_type": "stream",
     "text": [
      "Epoch 120, Loss 0.044\n",
      "Training Accuracy: 0.9545, Testing Accuracy: 0.9667\n",
      "\n"
     ]
    },
    {
     "name": "stdout",
     "output_type": "stream",
     "text": [
      "Epoch 130, Loss 0.0431\n",
      "Training Accuracy: 0.9552, Testing Accuracy: 0.9667\n",
      "\n"
     ]
    },
    {
     "name": "stdout",
     "output_type": "stream",
     "text": [
      "Epoch 140, Loss 0.0423\n",
      "Training Accuracy: 0.9553, Testing Accuracy: 0.9672\n",
      "\n"
     ]
    },
    {
     "name": "stdout",
     "output_type": "stream",
     "text": [
      "Epoch 150, Loss 0.0416\n",
      "Training Accuracy: 0.9563, Testing Accuracy: 0.9672\n",
      "\n"
     ]
    },
    {
     "name": "stdout",
     "output_type": "stream",
     "text": [
      "Epoch 160, Loss 0.0409\n",
      "Training Accuracy: 0.9568, Testing Accuracy: 0.9672\n",
      "\n"
     ]
    },
    {
     "name": "stdout",
     "output_type": "stream",
     "text": [
      "Epoch 170, Loss 0.0403\n",
      "Training Accuracy: 0.9573, Testing Accuracy: 0.9672\n",
      "\n"
     ]
    },
    {
     "name": "stdout",
     "output_type": "stream",
     "text": [
      "Epoch 180, Loss 0.0397\n",
      "Training Accuracy: 0.9581, Testing Accuracy: 0.9667\n",
      "\n"
     ]
    },
    {
     "name": "stdout",
     "output_type": "stream",
     "text": [
      "Epoch 190, Loss 0.0392\n",
      "Training Accuracy: 0.9586, Testing Accuracy: 0.9662\n",
      "\n"
     ]
    },
    {
     "name": "stdout",
     "output_type": "stream",
     "text": [
      "Epoch 200, Loss 0.0387\n",
      "Training Accuracy: 0.9590, Testing Accuracy: 0.9662\n",
      "\n"
     ]
    },
    {
     "name": "stdout",
     "output_type": "stream",
     "text": [
      "Epoch 210, Loss 0.0383\n",
      "Training Accuracy: 0.9594, Testing Accuracy: 0.9667\n",
      "\n"
     ]
    },
    {
     "name": "stdout",
     "output_type": "stream",
     "text": [
      "Epoch 220, Loss 0.0379\n",
      "Training Accuracy: 0.9595, Testing Accuracy: 0.9667\n",
      "\n"
     ]
    },
    {
     "name": "stdout",
     "output_type": "stream",
     "text": [
      "Epoch 230, Loss 0.0375\n",
      "Training Accuracy: 0.9598, Testing Accuracy: 0.9667\n",
      "\n"
     ]
    },
    {
     "name": "stdout",
     "output_type": "stream",
     "text": [
      "Epoch 240, Loss 0.0372\n",
      "Training Accuracy: 0.9601, Testing Accuracy: 0.9667\n",
      "\n"
     ]
    },
    {
     "data": {
      "text/plain": [
       "0.03371028501054631"
      ]
     },
     "execution_count": 23,
     "metadata": {},
     "output_type": "execute_result"
    }
   ],
   "source": [
    "lr_learner.train_loop(dl)"
   ]
  },
  {
   "cell_type": "code",
   "execution_count": 24,
   "id": "ca410940",
   "metadata": {
    "execution": {
     "iopub.execute_input": "2021-09-13T00:23:08.467219Z",
     "iopub.status.busy": "2021-09-13T00:23:08.466624Z",
     "iopub.status.idle": "2021-09-13T00:23:08.708659Z",
     "shell.execute_reply": "2021-09-13T00:23:08.708177Z"
    },
    "papermill": {
     "duration": 0.297095,
     "end_time": "2021-09-13T00:23:08.708800",
     "exception": false,
     "start_time": "2021-09-13T00:23:08.411705",
     "status": "completed"
    },
    "tags": []
   },
   "outputs": [
    {
     "data": {
      "text/plain": [
       "<matplotlib.legend.Legend at 0x7f06603bdf98>"
      ]
     },
     "execution_count": 24,
     "metadata": {},
     "output_type": "execute_result"
    },
    {
     "data": {
      "image/png": "[encoded data removed]",
      "text/plain": [
       "<Figure size 1080x720 with 1 Axes>"
      ]
     },
     "metadata": {
      "needs_background": "light"
     },
     "output_type": "display_data"
    }
   ],
   "source": [
    "#comparing the results of NN and LR\n",
    "plt.figure(figsize=(15,10))\n",
    "\n",
    "# Neural Network plots\n",
    "plt.plot(acc_nn.accuracies, 'r-', label = \"Training Accuracies - NN\")\n",
    "plt.plot(acc_nn.test_accuracies, 'g-', label = \"Testing Accuracies - NN\")\n",
    "\n",
    "# Logistic Regression plots\n",
    "plt.plot(acc_lr.accuracies, 'k-', label = \"Training Accuracies - LR\")\n",
    "plt.plot(acc_lr.test_accuracies, 'b-', label = \"Testing Accuracies - LR\")\n",
    "plt.legend()"
   ]
  },
  {
   "cell_type": "markdown",
   "id": "80dfb35c",
   "metadata": {
    "papermill": {
     "duration": 0.045433,
     "end_time": "2021-09-13T00:23:08.800343",
     "exception": false,
     "start_time": "2021-09-13T00:23:08.754910",
     "status": "completed"
    },
    "tags": []
   },
   "source": [
    "#### Plotting the outputs of this layer of the NN.\n"
   ]
  },
  {
   "cell_type": "code",
   "execution_count": 25,
   "id": "45eb2ff5",
   "metadata": {
    "execution": {
     "iopub.execute_input": "2021-09-13T00:23:08.899438Z",
     "iopub.status.busy": "2021-09-13T00:23:08.898859Z",
     "iopub.status.idle": "2021-09-13T00:23:08.919511Z",
     "shell.execute_reply": "2021-09-13T00:23:08.920271Z"
    },
    "papermill": {
     "duration": 0.074647,
     "end_time": "2021-09-13T00:23:08.920424",
     "exception": false,
     "start_time": "2021-09-13T00:23:08.845777",
     "status": "completed"
    },
    "tags": []
   },
   "outputs": [],
   "source": [
    "new_model = Model(layers[:-2])\n",
    "testing_plot = new_model(testing_data_x)"
   ]
  },
  {
   "cell_type": "code",
   "execution_count": 26,
   "id": "4c0a5485",
   "metadata": {
    "execution": {
     "iopub.execute_input": "2021-09-13T00:23:09.019155Z",
     "iopub.status.busy": "2021-09-13T00:23:09.018559Z",
     "iopub.status.idle": "2021-09-13T00:23:09.245055Z",
     "shell.execute_reply": "2021-09-13T00:23:09.244575Z"
    },
    "papermill": {
     "duration": 0.277793,
     "end_time": "2021-09-13T00:23:09.245172",
     "exception": false,
     "start_time": "2021-09-13T00:23:08.967379",
     "status": "completed"
    },
    "tags": []
   },
   "outputs": [
    {
     "data": {
      "text/plain": [
       "Text(0.5, 1.0, 'Outputs')"
      ]
     },
     "execution_count": 26,
     "metadata": {},
     "output_type": "execute_result"
    },
    {
     "data": {
      "image/png": "[encoded data removed]",
      "text/plain": [
       "<Figure size 576x504 with 1 Axes>"
      ]
     },
     "metadata": {
      "needs_background": "light"
     },
     "output_type": "display_data"
    }
   ],
   "source": [
    "# Plotting the scatter plot of points and color coding by class\n",
    "plt.figure(figsize=(8,7))\n",
    "plt.scatter(testing_plot[:,0], testing_plot[:,1], alpha = 0.1, c = y_test.ravel());\n",
    "plt.title('Outputs')"
   ]
  },
  {
   "cell_type": "markdown",
   "id": "a74fcf8f",
   "metadata": {
    "papermill": {
     "duration": 0.04796,
     "end_time": "2021-09-13T00:23:09.342081",
     "exception": false,
     "start_time": "2021-09-13T00:23:09.294121",
     "status": "completed"
    },
    "tags": []
   },
   "source": [
    "Probability contours"
   ]
  },
  {
   "cell_type": "code",
   "execution_count": 27,
   "id": "d0afc8e3",
   "metadata": {
    "execution": {
     "iopub.execute_input": "2021-09-13T00:23:09.443620Z",
     "iopub.status.busy": "2021-09-13T00:23:09.443065Z",
     "iopub.status.idle": "2021-09-13T00:23:09.455820Z",
     "shell.execute_reply": "2021-09-13T00:23:09.455343Z"
    },
    "papermill": {
     "duration": 0.066953,
     "end_time": "2021-09-13T00:23:09.455941",
     "exception": false,
     "start_time": "2021-09-13T00:23:09.388988",
     "status": "completed"
    },
    "tags": []
   },
   "outputs": [],
   "source": [
    "model_prob = Model(layers[-2:]) "
   ]
  },
  {
   "cell_type": "code",
   "execution_count": 28,
   "id": "9b96e238",
   "metadata": {
    "execution": {
     "iopub.execute_input": "2021-09-13T00:23:09.559216Z",
     "iopub.status.busy": "2021-09-13T00:23:09.558612Z",
     "iopub.status.idle": "2021-09-13T00:23:09.574640Z",
     "shell.execute_reply": "2021-09-13T00:23:09.575084Z"
    },
    "papermill": {
     "duration": 0.070764,
     "end_time": "2021-09-13T00:23:09.575244",
     "exception": false,
     "start_time": "2021-09-13T00:23:09.504480",
     "status": "completed"
    },
    "tags": []
   },
   "outputs": [],
   "source": [
    "#creating the x and y ranges according to the above generated plot.\n",
    "x_range = np.linspace(-4, 1, 100) \n",
    "y_range = np.linspace(-6, 6, 100) \n",
    "x_grid, y_grid = np.meshgrid(x_range, y_range) # x_grid and y_grig are of size 100 X 100\n",
    "\n",
    "# converting x_grid and y_grid to continuous arrays\n",
    "x_gridflat = np.ravel(x_grid)\n",
    "y_gridflat = np.ravel(y_grid)\n",
    "\n",
    "# The last layer of the current model takes two columns as input. Hence transpose of np.vstack() is required.\n",
    "X = np.vstack((x_gridflat, y_gridflat)).T\n",
    "\n",
    "prob_contour = model_prob(X).reshape(100,100) "
   ]
  },
  {
   "cell_type": "code",
   "execution_count": 29,
   "id": "da72499a",
   "metadata": {
    "execution": {
     "iopub.execute_input": "2021-09-13T00:23:09.684414Z",
     "iopub.status.busy": "2021-09-13T00:23:09.683811Z",
     "iopub.status.idle": "2021-09-13T00:23:09.960709Z",
     "shell.execute_reply": "2021-09-13T00:23:09.961293Z"
    },
    "papermill": {
     "duration": 0.332306,
     "end_time": "2021-09-13T00:23:09.961485",
     "exception": false,
     "start_time": "2021-09-13T00:23:09.629179",
     "status": "completed"
    },
    "tags": []
   },
   "outputs": [
    {
     "data": {
      "image/png": "[encoded data removed]",
      "text/plain": [
       "<Figure size 720x648 with 1 Axes>"
      ]
     },
     "metadata": {
      "needs_background": "light"
     },
     "output_type": "display_data"
    }
   ],
   "source": [
    "plt.figure(figsize=(10,9))\n",
    "plt.scatter(testing_plot[:,0], testing_plot[:,1], alpha = 0.1, c = y_test.ravel())\n",
    "contours = plt.contour(x_grid,y_grid,prob_contour)\n",
    "plt.title('Probability Contours')\n",
    "plt.clabel(contours, inline = True );"
   ]
  },
  {
   "cell_type": "code",
   "execution_count": null,
   "id": "e81b4ac7",
   "metadata": {
    "papermill": {
     "duration": 0.0815,
     "end_time": "2021-09-13T00:23:10.096050",
     "exception": false,
     "start_time": "2021-09-13T00:23:10.014550",
     "status": "completed"
    },
    "tags": []
   },
   "outputs": [],
   "source": []
  }
 ],
 "metadata": {
  "kernelspec": {
   "display_name": "Python 3",
   "language": "python",
   "name": "python3"
  },
  "language_info": {
   "codemirror_mode": {
    "name": "ipython",
    "version": 3
   },
   "file_extension": ".py",
   "mimetype": "text/x-python",
   "name": "python",
   "nbconvert_exporter": "python",
   "pygments_lexer": "ipython3",
   "version": "3.6.14"
  },
  "papermill": {
   "default_parameters": {},
   "duration": 109.465111,
   "end_time": "2021-09-13T00:23:10.559508",
   "environment_variables": {},
   "exception": null,
   "input_path": "2020-08-11-part2.ipynb",
   "output_path": "2020-08-11-part2.ipynb",
   "parameters": {},
   "start_time": "2021-09-13T00:21:21.094397",
   "version": "2.3.3"
  }
 },
 "nbformat": 4,
 "nbformat_minor": 5
}