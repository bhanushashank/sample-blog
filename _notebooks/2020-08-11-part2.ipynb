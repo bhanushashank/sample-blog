{
 "cells": [
  {
   "cell_type": "markdown",
   "id": "98380cd3",
   "metadata": {
    "papermill": {
     "duration": 0.027837,
     "end_time": "2022-01-04T10:08:50.865332",
     "exception": false,
     "start_time": "2022-01-04T10:08:50.837495",
     "status": "completed"
    },
    "tags": []
   },
   "source": [
    "# Distinguish Your Own Digits (DYOD)"
   ]
  },
  {
   "cell_type": "markdown",
   "id": "ef31240d",
   "metadata": {
    "papermill": {
     "duration": 0.023635,
     "end_time": "2022-01-04T10:08:50.913285",
     "exception": false,
     "start_time": "2022-01-04T10:08:50.889650",
     "status": "completed"
    },
    "tags": []
   },
   "source": [
    "You are going to write a classifier that distinguishes between the number 3 and number 8."
   ]
  },
  {
   "cell_type": "code",
   "execution_count": 1,
   "id": "b15c8646",
   "metadata": {
    "execution": {
     "iopub.execute_input": "2022-01-04T10:08:50.971687Z",
     "iopub.status.busy": "2022-01-04T10:08:50.971159Z",
     "iopub.status.idle": "2022-01-04T10:08:50.980964Z",
     "shell.execute_reply": "2022-01-04T10:08:50.981365Z"
    },
    "papermill": {
     "duration": 0.044626,
     "end_time": "2022-01-04T10:08:50.981516",
     "exception": false,
     "start_time": "2022-01-04T10:08:50.936890",
     "status": "completed"
    },
    "tags": []
   },
   "outputs": [],
   "source": [
    "%load_ext autoreload\n",
    "%autoreload 2"
   ]
  },
  {
   "cell_type": "code",
   "execution_count": 2,
   "id": "22ef38dc",
   "metadata": {
    "execution": {
     "iopub.execute_input": "2022-01-04T10:08:51.033798Z",
     "iopub.status.busy": "2022-01-04T10:08:51.033269Z",
     "iopub.status.idle": "2022-01-04T10:08:51.613377Z",
     "shell.execute_reply": "2022-01-04T10:08:51.612841Z"
    },
    "papermill": {
     "duration": 0.607947,
     "end_time": "2022-01-04T10:08:51.613520",
     "exception": false,
     "start_time": "2022-01-04T10:08:51.005573",
     "status": "completed"
    },
    "tags": []
   },
   "outputs": [],
   "source": [
    "%matplotlib inline\n",
    "import numpy as np\n",
    "import matplotlib.pyplot as plt\n",
    "import pandas as pd"
   ]
  },
  {
   "cell_type": "markdown",
   "id": "ba036198",
   "metadata": {
    "papermill": {
     "duration": 0.023918,
     "end_time": "2022-01-04T10:08:51.661821",
     "exception": false,
     "start_time": "2022-01-04T10:08:51.637903",
     "status": "completed"
    },
    "tags": []
   },
   "source": [
    "From the command line run `pip install mnist`. This is a library that will help you bring down the mnist dataset. If you run this from a notebook, you need to put  `!pip install mnist` in a cell by itself."
   ]
  },
  {
   "cell_type": "code",
   "execution_count": 3,
   "id": "bb6ad8a1",
   "metadata": {
    "execution": {
     "iopub.execute_input": "2022-01-04T10:08:51.718193Z",
     "iopub.status.busy": "2022-01-04T10:08:51.717591Z",
     "iopub.status.idle": "2022-01-04T10:08:53.365790Z",
     "shell.execute_reply": "2022-01-04T10:08:53.365268Z"
    },
    "papermill": {
     "duration": 1.68025,
     "end_time": "2022-01-04T10:08:53.365931",
     "exception": false,
     "start_time": "2022-01-04T10:08:51.685681",
     "status": "completed"
    },
    "tags": []
   },
   "outputs": [
    {
     "name": "stdout",
     "output_type": "stream",
     "text": [
      "Collecting mnist\r\n",
      "  Downloading mnist-0.2.2-py2.py3-none-any.whl (3.5 kB)\r\n",
      "Requirement already satisfied: numpy in /opt/hostedtoolcache/Python/3.6.15/x64/lib/python3.6/site-packages (from mnist) (1.19.5)\r\n"
     ]
    },
    {
     "name": "stdout",
     "output_type": "stream",
     "text": [
      "Installing collected packages: mnist\r\n"
     ]
    },
    {
     "name": "stdout",
     "output_type": "stream",
     "text": [
      "Successfully installed mnist-0.2.2\r\n"
     ]
    }
   ],
   "source": [
    "!pip install mnist"
   ]
  },
  {
   "cell_type": "markdown",
   "id": "69df9c9a",
   "metadata": {
    "papermill": {
     "duration": 0.024469,
     "end_time": "2022-01-04T10:08:53.416082",
     "exception": false,
     "start_time": "2022-01-04T10:08:53.391613",
     "status": "completed"
    },
    "tags": []
   },
   "source": [
    "## Preparing the Data"
   ]
  },
  {
   "cell_type": "code",
   "execution_count": 4,
   "id": "7f69d806",
   "metadata": {
    "execution": {
     "iopub.execute_input": "2022-01-04T10:08:53.468674Z",
     "iopub.status.busy": "2022-01-04T10:08:53.468173Z",
     "iopub.status.idle": "2022-01-04T10:08:53.482916Z",
     "shell.execute_reply": "2022-01-04T10:08:53.482505Z"
    },
    "papermill": {
     "duration": 0.042599,
     "end_time": "2022-01-04T10:08:53.483029",
     "exception": false,
     "start_time": "2022-01-04T10:08:53.440430",
     "status": "completed"
    },
    "tags": []
   },
   "outputs": [],
   "source": [
    "import mnist"
   ]
  },
  {
   "cell_type": "code",
   "execution_count": 5,
   "id": "a411e44f",
   "metadata": {
    "execution": {
     "iopub.execute_input": "2022-01-04T10:08:53.538131Z",
     "iopub.status.busy": "2022-01-04T10:08:53.537625Z",
     "iopub.status.idle": "2022-01-04T10:08:54.000646Z",
     "shell.execute_reply": "2022-01-04T10:08:54.000127Z"
    },
    "papermill": {
     "duration": 0.493256,
     "end_time": "2022-01-04T10:08:54.000809",
     "exception": false,
     "start_time": "2022-01-04T10:08:53.507553",
     "status": "completed"
    },
    "tags": []
   },
   "outputs": [],
   "source": [
    "train_images = mnist.train_images()\n",
    "train_labels = mnist.train_labels()"
   ]
  },
  {
   "cell_type": "code",
   "execution_count": 6,
   "id": "dceab3a5",
   "metadata": {
    "execution": {
     "iopub.execute_input": "2022-01-04T10:08:54.054640Z",
     "iopub.status.busy": "2022-01-04T10:08:54.054136Z",
     "iopub.status.idle": "2022-01-04T10:08:54.068715Z",
     "shell.execute_reply": "2022-01-04T10:08:54.068305Z"
    },
    "papermill": {
     "duration": 0.042868,
     "end_time": "2022-01-04T10:08:54.068858",
     "exception": false,
     "start_time": "2022-01-04T10:08:54.025990",
     "status": "completed"
    },
    "tags": []
   },
   "outputs": [
    {
     "data": {
      "text/plain": [
       "((60000, 28, 28), (60000,))"
      ]
     },
     "execution_count": 6,
     "metadata": {},
     "output_type": "execute_result"
    }
   ],
   "source": [
    "train_images.shape, train_labels.shape"
   ]
  },
  {
   "cell_type": "code",
   "execution_count": 7,
   "id": "f50dc2bb",
   "metadata": {
    "execution": {
     "iopub.execute_input": "2022-01-04T10:08:54.122165Z",
     "iopub.status.busy": "2022-01-04T10:08:54.121648Z",
     "iopub.status.idle": "2022-01-04T10:08:54.230588Z",
     "shell.execute_reply": "2022-01-04T10:08:54.230124Z"
    },
    "papermill": {
     "duration": 0.137086,
     "end_time": "2022-01-04T10:08:54.230712",
     "exception": false,
     "start_time": "2022-01-04T10:08:54.093626",
     "status": "completed"
    },
    "tags": []
   },
   "outputs": [],
   "source": [
    "test_images = mnist.test_images()\n",
    "test_labels = mnist.test_labels()"
   ]
  },
  {
   "cell_type": "code",
   "execution_count": 8,
   "id": "fc38cf1b",
   "metadata": {
    "execution": {
     "iopub.execute_input": "2022-01-04T10:08:54.284100Z",
     "iopub.status.busy": "2022-01-04T10:08:54.283591Z",
     "iopub.status.idle": "2022-01-04T10:08:54.297087Z",
     "shell.execute_reply": "2022-01-04T10:08:54.296634Z"
    },
    "papermill": {
     "duration": 0.041447,
     "end_time": "2022-01-04T10:08:54.297205",
     "exception": false,
     "start_time": "2022-01-04T10:08:54.255758",
     "status": "completed"
    },
    "tags": []
   },
   "outputs": [
    {
     "data": {
      "text/plain": [
       "((10000, 28, 28), (10000,))"
      ]
     },
     "execution_count": 8,
     "metadata": {},
     "output_type": "execute_result"
    }
   ],
   "source": [
    "test_images.shape, test_labels.shape"
   ]
  },
  {
   "cell_type": "code",
   "execution_count": 9,
   "id": "f9ed8fe0",
   "metadata": {
    "execution": {
     "iopub.execute_input": "2022-01-04T10:08:54.350729Z",
     "iopub.status.busy": "2022-01-04T10:08:54.350221Z",
     "iopub.status.idle": "2022-01-04T10:08:54.487787Z",
     "shell.execute_reply": "2022-01-04T10:08:54.487349Z"
    },
    "papermill": {
     "duration": 0.165705,
     "end_time": "2022-01-04T10:08:54.487909",
     "exception": false,
     "start_time": "2022-01-04T10:08:54.322204",
     "status": "completed"
    },
    "tags": []
   },
   "outputs": [
    {
     "name": "stdout",
     "output_type": "stream",
     "text": [
      "2\n"
     ]
    },
    {
     "data": {
      "text/plain": [
       "<matplotlib.image.AxesImage at 0x7f20a07022e8>"
      ]
     },
     "execution_count": 9,
     "metadata": {},
     "output_type": "execute_result"
    },
    {
     "data": {
      "image/png": "[encoded data removed]",
      "text/plain": [
       "<Figure size 432x288 with 1 Axes>"
      ]
     },
     "metadata": {
      "needs_background": "light"
     },
     "output_type": "display_data"
    }
   ],
   "source": [
    "image_index = 7776 # You may select anything up to 60,000\n",
    "print(train_labels[image_index]) \n",
    "plt.imshow(train_images[image_index], cmap='Greys')"
   ]
  },
  {
   "cell_type": "markdown",
   "id": "a8d2388d",
   "metadata": {
    "papermill": {
     "duration": 0.026007,
     "end_time": "2022-01-04T10:08:54.540199",
     "exception": false,
     "start_time": "2022-01-04T10:08:54.514192",
     "status": "completed"
    },
    "tags": []
   },
   "source": [
    "## Filter data to get 3 and 8 out"
   ]
  },
  {
   "cell_type": "code",
   "execution_count": 10,
   "id": "776f7fc7",
   "metadata": {
    "execution": {
     "iopub.execute_input": "2022-01-04T10:08:54.597750Z",
     "iopub.status.busy": "2022-01-04T10:08:54.596013Z",
     "iopub.status.idle": "2022-01-04T10:08:54.613957Z",
     "shell.execute_reply": "2022-01-04T10:08:54.613507Z"
    },
    "papermill": {
     "duration": 0.047893,
     "end_time": "2022-01-04T10:08:54.614080",
     "exception": false,
     "start_time": "2022-01-04T10:08:54.566187",
     "status": "completed"
    },
    "tags": []
   },
   "outputs": [],
   "source": [
    "train_filter = np.where((train_labels == 3 ) | (train_labels == 8))\n",
    "test_filter = np.where((test_labels == 3) | (test_labels == 8))\n",
    "X_train, y_train = train_images[train_filter], train_labels[train_filter]\n",
    "X_test, y_test = test_images[test_filter], test_labels[test_filter]"
   ]
  },
  {
   "cell_type": "markdown",
   "id": "948f0b7e",
   "metadata": {
    "papermill": {
     "duration": 0.026023,
     "end_time": "2022-01-04T10:08:54.666217",
     "exception": false,
     "start_time": "2022-01-04T10:08:54.640194",
     "status": "completed"
    },
    "tags": []
   },
   "source": [
    "We normalize the pizel values in the 0 to 1 range"
   ]
  },
  {
   "cell_type": "code",
   "execution_count": 11,
   "id": "ee4c2166",
   "metadata": {
    "execution": {
     "iopub.execute_input": "2022-01-04T10:08:54.721750Z",
     "iopub.status.busy": "2022-01-04T10:08:54.721231Z",
     "iopub.status.idle": "2022-01-04T10:08:54.769243Z",
     "shell.execute_reply": "2022-01-04T10:08:54.768678Z"
    },
    "papermill": {
     "duration": 0.077218,
     "end_time": "2022-01-04T10:08:54.769387",
     "exception": false,
     "start_time": "2022-01-04T10:08:54.692169",
     "status": "completed"
    },
    "tags": []
   },
   "outputs": [],
   "source": [
    "X_train = X_train/255.\n",
    "X_test = X_test/255."
   ]
  },
  {
   "cell_type": "markdown",
   "id": "ddcf4fab",
   "metadata": {
    "papermill": {
     "duration": 0.026021,
     "end_time": "2022-01-04T10:08:54.822633",
     "exception": false,
     "start_time": "2022-01-04T10:08:54.796612",
     "status": "completed"
    },
    "tags": []
   },
   "source": [
    "And setup the labels as 1 (when the digit is 3) and 0 (when the digit is 8)"
   ]
  },
  {
   "cell_type": "code",
   "execution_count": 12,
   "id": "7dc908f2",
   "metadata": {
    "execution": {
     "iopub.execute_input": "2022-01-04T10:08:54.878724Z",
     "iopub.status.busy": "2022-01-04T10:08:54.878205Z",
     "iopub.status.idle": "2022-01-04T10:08:54.890011Z",
     "shell.execute_reply": "2022-01-04T10:08:54.889601Z"
    },
    "papermill": {
     "duration": 0.041465,
     "end_time": "2022-01-04T10:08:54.890124",
     "exception": false,
     "start_time": "2022-01-04T10:08:54.848659",
     "status": "completed"
    },
    "tags": []
   },
   "outputs": [],
   "source": [
    "y_train = 1*(y_train==3)\n",
    "y_test = 1*(y_test==3)"
   ]
  },
  {
   "cell_type": "code",
   "execution_count": 13,
   "id": "01e4e969",
   "metadata": {
    "execution": {
     "iopub.execute_input": "2022-01-04T10:08:54.946320Z",
     "iopub.status.busy": "2022-01-04T10:08:54.945804Z",
     "iopub.status.idle": "2022-01-04T10:08:54.958919Z",
     "shell.execute_reply": "2022-01-04T10:08:54.958510Z"
    },
    "papermill": {
     "duration": 0.042971,
     "end_time": "2022-01-04T10:08:54.959030",
     "exception": false,
     "start_time": "2022-01-04T10:08:54.916059",
     "status": "completed"
    },
    "tags": []
   },
   "outputs": [
    {
     "data": {
      "text/plain": [
       "((11982, 28, 28), (1984, 28, 28))"
      ]
     },
     "execution_count": 13,
     "metadata": {},
     "output_type": "execute_result"
    }
   ],
   "source": [
    "X_train.shape, X_test.shape"
   ]
  },
  {
   "cell_type": "markdown",
   "id": "5ccf3f85",
   "metadata": {
    "papermill": {
     "duration": 0.025941,
     "end_time": "2022-01-04T10:08:55.011076",
     "exception": false,
     "start_time": "2022-01-04T10:08:54.985135",
     "status": "completed"
    },
    "tags": []
   },
   "source": [
    "We reshape the data to flatten the image pixels into a set of features or co-variates:"
   ]
  },
  {
   "cell_type": "code",
   "execution_count": 14,
   "id": "5286a4a3",
   "metadata": {
    "execution": {
     "iopub.execute_input": "2022-01-04T10:08:55.067757Z",
     "iopub.status.busy": "2022-01-04T10:08:55.067244Z",
     "iopub.status.idle": "2022-01-04T10:08:55.080500Z",
     "shell.execute_reply": "2022-01-04T10:08:55.080958Z"
    },
    "papermill": {
     "duration": 0.04374,
     "end_time": "2022-01-04T10:08:55.081094",
     "exception": false,
     "start_time": "2022-01-04T10:08:55.037354",
     "status": "completed"
    },
    "tags": []
   },
   "outputs": [
    {
     "data": {
      "text/plain": [
       "((11982, 784), (1984, 784))"
      ]
     },
     "execution_count": 14,
     "metadata": {},
     "output_type": "execute_result"
    }
   ],
   "source": [
    "X_train = X_train.reshape(X_train.shape[0], -1)\n",
    "X_test = X_test.reshape(X_test.shape[0], -1)\n",
    "X_train.shape, X_test.shape"
   ]
  },
  {
   "cell_type": "code",
   "execution_count": 15,
   "id": "73c5f88a",
   "metadata": {
    "execution": {
     "iopub.execute_input": "2022-01-04T10:08:55.142007Z",
     "iopub.status.busy": "2022-01-04T10:08:55.141490Z",
     "iopub.status.idle": "2022-01-04T10:08:55.157526Z",
     "shell.execute_reply": "2022-01-04T10:08:55.157911Z"
    },
    "papermill": {
     "duration": 0.050554,
     "end_time": "2022-01-04T10:08:55.158052",
     "exception": false,
     "start_time": "2022-01-04T10:08:55.107498",
     "status": "completed"
    },
    "tags": []
   },
   "outputs": [],
   "source": [
    "#Impoting functions from 'Kudzu'\n",
    "from kudzu.model import Model\n",
    "from kudzu.train import Learner\n",
    "from kudzu.optim import GD\n",
    "from kudzu.data import Data, Sampler,Dataloader\n",
    "\n",
    "from kudzu.callbacks import AccCallback\n",
    "from kudzu.callbacks import ClfCallback\n",
    "\n",
    "from kudzu.loss import MSE\n",
    "\n",
    "from kudzu.layer import Sigmoid,Relu\n",
    "from kudzu.layer import Affine"
   ]
  },
  {
   "cell_type": "markdown",
   "id": "bc01172a",
   "metadata": {
    "papermill": {
     "duration": 0.02625,
     "end_time": "2022-01-04T10:08:55.211276",
     "exception": false,
     "start_time": "2022-01-04T10:08:55.185026",
     "status": "completed"
    },
    "tags": []
   },
   "source": [
    "### Let us create a `Config` class, to store important parameters. \n",
    "This class essentially plays the role of a dictionary."
   ]
  },
  {
   "cell_type": "code",
   "execution_count": 16,
   "id": "978281aa",
   "metadata": {
    "execution": {
     "iopub.execute_input": "2022-01-04T10:08:55.268615Z",
     "iopub.status.busy": "2022-01-04T10:08:55.268098Z",
     "iopub.status.idle": "2022-01-04T10:08:55.280304Z",
     "shell.execute_reply": "2022-01-04T10:08:55.279886Z"
    },
    "papermill": {
     "duration": 0.042619,
     "end_time": "2022-01-04T10:08:55.280420",
     "exception": false,
     "start_time": "2022-01-04T10:08:55.237801",
     "status": "completed"
    },
    "tags": []
   },
   "outputs": [],
   "source": [
    "class Config:\n",
    "    pass\n",
    "config = Config()\n",
    "config.lr = 0.001\n",
    "config.num_epochs = 250\n",
    "config.bs = 50"
   ]
  },
  {
   "cell_type": "markdown",
   "id": "1385fa59",
   "metadata": {
    "papermill": {
     "duration": 0.026401,
     "end_time": "2022-01-04T10:08:55.333590",
     "exception": false,
     "start_time": "2022-01-04T10:08:55.307189",
     "status": "completed"
    },
    "tags": []
   },
   "source": [
    "### Running Models with the Training data\n",
    "Details about the network layers:\n",
    "- A first affine layer has 784 inputs and does 100 affine transforms. These are followed by a Relu\n",
    "- A second affine layer has 100 inputs from the 100 activations of the past layer, and does 100 affine transforms. These are followed by a Relu\n",
    "- A third affine layer has 100 activations and does 2 affine transformations to create an embedding for visualization. There is no non-linearity here.\n",
    "- A final \"logistic regression\" which has an affine transform from 2 inputs to 1 output, which is squeezed through a sigmoid.\n"
   ]
  },
  {
   "cell_type": "code",
   "execution_count": 17,
   "id": "2b9c66db",
   "metadata": {
    "execution": {
     "iopub.execute_input": "2022-01-04T10:08:55.391123Z",
     "iopub.status.busy": "2022-01-04T10:08:55.390602Z",
     "iopub.status.idle": "2022-01-04T10:08:55.402233Z",
     "shell.execute_reply": "2022-01-04T10:08:55.401817Z"
    },
    "papermill": {
     "duration": 0.042166,
     "end_time": "2022-01-04T10:08:55.402348",
     "exception": false,
     "start_time": "2022-01-04T10:08:55.360182",
     "status": "completed"
    },
    "tags": []
   },
   "outputs": [],
   "source": [
    "data = Data(X_train, y_train.reshape(-1,1))\n",
    "sampler = Sampler(data, config.bs, shuffle=True)\n",
    "\n",
    "dl = Dataloader(data, sampler)\n",
    "\n",
    "opt = GD(config.lr)\n",
    "loss = MSE()"
   ]
  },
  {
   "cell_type": "code",
   "execution_count": 18,
   "id": "b275e4c2",
   "metadata": {
    "execution": {
     "iopub.execute_input": "2022-01-04T10:08:55.460393Z",
     "iopub.status.busy": "2022-01-04T10:08:55.459876Z",
     "iopub.status.idle": "2022-01-04T10:08:55.470558Z",
     "shell.execute_reply": "2022-01-04T10:08:55.470943Z"
    },
    "papermill": {
     "duration": 0.041978,
     "end_time": "2022-01-04T10:08:55.471075",
     "exception": false,
     "start_time": "2022-01-04T10:08:55.429097",
     "status": "completed"
    },
    "tags": []
   },
   "outputs": [],
   "source": [
    "training_data_x = X_train\n",
    "testing_data_x = X_test\n",
    "training_data_y = y_train.reshape(-1,1)\n",
    "testing_data_y = y_test.reshape(-1,1)"
   ]
  },
  {
   "cell_type": "code",
   "execution_count": 19,
   "id": "76951160",
   "metadata": {
    "execution": {
     "iopub.execute_input": "2022-01-04T10:08:55.528210Z",
     "iopub.status.busy": "2022-01-04T10:08:55.527694Z",
     "iopub.status.idle": "2022-01-04T10:08:55.543104Z",
     "shell.execute_reply": "2022-01-04T10:08:55.543535Z"
    },
    "papermill": {
     "duration": 0.046163,
     "end_time": "2022-01-04T10:08:55.543666",
     "exception": false,
     "start_time": "2022-01-04T10:08:55.497503",
     "status": "completed"
    },
    "tags": []
   },
   "outputs": [
    {
     "name": "stdout",
     "output_type": "stream",
     "text": [
      "xavier\n",
      "xavier\n",
      "xavier\n",
      "xavier\n",
      "xavier\n"
     ]
    }
   ],
   "source": [
    "layers = [Affine(\"first\", 784, 100), Relu(\"first\"), Affine(\"second\", 100, 100), Relu(\"second\"), Affine(\"third\", 100, 2), Affine(\"last\", 2, 1), Sigmoid(\"last\")]\n",
    "model_nn = Model(layers)\n",
    "model_lr = Model([Affine(\"logits\", 784, 1), Sigmoid(\"sigmoid\")])"
   ]
  },
  {
   "cell_type": "code",
   "execution_count": 20,
   "id": "6eede77a",
   "metadata": {
    "execution": {
     "iopub.execute_input": "2022-01-04T10:08:55.601515Z",
     "iopub.status.busy": "2022-01-04T10:08:55.600994Z",
     "iopub.status.idle": "2022-01-04T10:08:55.612497Z",
     "shell.execute_reply": "2022-01-04T10:08:55.612087Z"
    },
    "papermill": {
     "duration": 0.041967,
     "end_time": "2022-01-04T10:08:55.612612",
     "exception": false,
     "start_time": "2022-01-04T10:08:55.570645",
     "status": "completed"
    },
    "tags": []
   },
   "outputs": [],
   "source": [
    "nn_learner = Learner(loss, model_nn, opt, config.num_epochs)\n",
    "acc_nn = ClfCallback(nn_learner, config.bs, training_data_x , testing_data_x, training_data_y, testing_data_y)\n",
    "nn_learner.set_callbacks([acc_nn])"
   ]
  },
  {
   "cell_type": "code",
   "execution_count": 21,
   "id": "877b6cc7",
   "metadata": {
    "execution": {
     "iopub.execute_input": "2022-01-04T10:08:55.671587Z",
     "iopub.status.busy": "2022-01-04T10:08:55.670314Z",
     "iopub.status.idle": "2022-01-04T10:08:55.681509Z",
     "shell.execute_reply": "2022-01-04T10:08:55.681942Z"
    },
    "papermill": {
     "duration": 0.042792,
     "end_time": "2022-01-04T10:08:55.682071",
     "exception": false,
     "start_time": "2022-01-04T10:08:55.639279",
     "status": "completed"
    },
    "tags": []
   },
   "outputs": [],
   "source": [
    "lr_learner = Learner(loss, model_lr, opt, config.num_epochs)\n",
    "acc_lr = ClfCallback(lr_learner, config.bs, training_data_x , testing_data_x, training_data_y, testing_data_y)\n",
    "lr_learner.set_callbacks([acc_lr])"
   ]
  },
  {
   "cell_type": "code",
   "execution_count": 22,
   "id": "d9b133c3",
   "metadata": {
    "execution": {
     "iopub.execute_input": "2022-01-04T10:08:55.739374Z",
     "iopub.status.busy": "2022-01-04T10:08:55.738851Z",
     "iopub.status.idle": "2022-01-04T10:10:10.304530Z",
     "shell.execute_reply": "2022-01-04T10:10:10.305014Z"
    },
    "papermill": {
     "duration": 74.596308,
     "end_time": "2022-01-04T10:10:10.305160",
     "exception": false,
     "start_time": "2022-01-04T10:08:55.708852",
     "status": "completed"
    },
    "tags": []
   },
   "outputs": [
    {
     "name": "stdout",
     "output_type": "stream",
     "text": [
      "Epoch 0, Loss 0.258\n",
      "Training Accuracy: 0.4929, Testing Accuracy: 0.4814\n",
      "\n"
     ]
    },
    {
     "name": "stdout",
     "output_type": "stream",
     "text": [
      "Epoch 10, Loss 0.1428\n",
      "Training Accuracy: 0.8964, Testing Accuracy: 0.9083\n",
      "\n"
     ]
    },
    {
     "name": "stdout",
     "output_type": "stream",
     "text": [
      "Epoch 20, Loss 0.0729\n",
      "Training Accuracy: 0.9324, Testing Accuracy: 0.9461\n",
      "\n"
     ]
    },
    {
     "name": "stdout",
     "output_type": "stream",
     "text": [
      "Epoch 30, Loss 0.0509\n",
      "Training Accuracy: 0.9468, Testing Accuracy: 0.9607\n",
      "\n"
     ]
    },
    {
     "name": "stdout",
     "output_type": "stream",
     "text": [
      "Epoch 40, Loss 0.0415\n",
      "Training Accuracy: 0.9548, Testing Accuracy: 0.9647\n",
      "\n"
     ]
    },
    {
     "name": "stdout",
     "output_type": "stream",
     "text": [
      "Epoch 50, Loss 0.0365\n",
      "Training Accuracy: 0.9606, Testing Accuracy: 0.9693\n",
      "\n"
     ]
    },
    {
     "name": "stdout",
     "output_type": "stream",
     "text": [
      "Epoch 60, Loss 0.0334\n",
      "Training Accuracy: 0.9632, Testing Accuracy: 0.9713\n",
      "\n"
     ]
    },
    {
     "name": "stdout",
     "output_type": "stream",
     "text": [
      "Epoch 70, Loss 0.0312\n",
      "Training Accuracy: 0.9654, Testing Accuracy: 0.9728\n",
      "\n"
     ]
    },
    {
     "name": "stdout",
     "output_type": "stream",
     "text": [
      "Epoch 80, Loss 0.0296\n",
      "Training Accuracy: 0.9667, Testing Accuracy: 0.9723\n",
      "\n"
     ]
    },
    {
     "name": "stdout",
     "output_type": "stream",
     "text": [
      "Epoch 90, Loss 0.0283\n",
      "Training Accuracy: 0.9684, Testing Accuracy: 0.9723\n",
      "\n"
     ]
    },
    {
     "name": "stdout",
     "output_type": "stream",
     "text": [
      "Epoch 100, Loss 0.0272\n",
      "Training Accuracy: 0.9691, Testing Accuracy: 0.9728\n",
      "\n"
     ]
    },
    {
     "name": "stdout",
     "output_type": "stream",
     "text": [
      "Epoch 110, Loss 0.0263\n",
      "Training Accuracy: 0.9701, Testing Accuracy: 0.9723\n",
      "\n"
     ]
    },
    {
     "name": "stdout",
     "output_type": "stream",
     "text": [
      "Epoch 120, Loss 0.0254\n",
      "Training Accuracy: 0.9707, Testing Accuracy: 0.9728\n",
      "\n"
     ]
    },
    {
     "name": "stdout",
     "output_type": "stream",
     "text": [
      "Epoch 130, Loss 0.0247\n",
      "Training Accuracy: 0.9717, Testing Accuracy: 0.9723\n",
      "\n"
     ]
    },
    {
     "name": "stdout",
     "output_type": "stream",
     "text": [
      "Epoch 140, Loss 0.024\n",
      "Training Accuracy: 0.9729, Testing Accuracy: 0.9738\n",
      "\n"
     ]
    },
    {
     "name": "stdout",
     "output_type": "stream",
     "text": [
      "Epoch 150, Loss 0.0234\n",
      "Training Accuracy: 0.9738, Testing Accuracy: 0.9743\n",
      "\n"
     ]
    },
    {
     "name": "stdout",
     "output_type": "stream",
     "text": [
      "Epoch 160, Loss 0.0228\n",
      "Training Accuracy: 0.9740, Testing Accuracy: 0.9748\n",
      "\n"
     ]
    },
    {
     "name": "stdout",
     "output_type": "stream",
     "text": [
      "Epoch 170, Loss 0.0223\n",
      "Training Accuracy: 0.9750, Testing Accuracy: 0.9758\n",
      "\n"
     ]
    },
    {
     "name": "stdout",
     "output_type": "stream",
     "text": [
      "Epoch 180, Loss 0.0217\n",
      "Training Accuracy: 0.9755, Testing Accuracy: 0.9758\n",
      "\n"
     ]
    },
    {
     "name": "stdout",
     "output_type": "stream",
     "text": [
      "Epoch 190, Loss 0.0212\n",
      "Training Accuracy: 0.9759, Testing Accuracy: 0.9758\n",
      "\n"
     ]
    },
    {
     "name": "stdout",
     "output_type": "stream",
     "text": [
      "Epoch 200, Loss 0.0208\n",
      "Training Accuracy: 0.9761, Testing Accuracy: 0.9758\n",
      "\n"
     ]
    },
    {
     "name": "stdout",
     "output_type": "stream",
     "text": [
      "Epoch 210, Loss 0.0203\n",
      "Training Accuracy: 0.9767, Testing Accuracy: 0.9758\n",
      "\n"
     ]
    },
    {
     "name": "stdout",
     "output_type": "stream",
     "text": [
      "Epoch 220, Loss 0.0199\n",
      "Training Accuracy: 0.9770, Testing Accuracy: 0.9753\n",
      "\n"
     ]
    },
    {
     "name": "stdout",
     "output_type": "stream",
     "text": [
      "Epoch 230, Loss 0.0195\n",
      "Training Accuracy: 0.9775, Testing Accuracy: 0.9753\n",
      "\n"
     ]
    },
    {
     "name": "stdout",
     "output_type": "stream",
     "text": [
      "Epoch 240, Loss 0.0191\n",
      "Training Accuracy: 0.9780, Testing Accuracy: 0.9758\n",
      "\n"
     ]
    },
    {
     "data": {
      "text/plain": [
       "0.005886368926027672"
      ]
     },
     "execution_count": 22,
     "metadata": {},
     "output_type": "execute_result"
    }
   ],
   "source": [
    "nn_learner.train_loop(dl)"
   ]
  },
  {
   "cell_type": "code",
   "execution_count": 23,
   "id": "e0163366",
   "metadata": {
    "execution": {
     "iopub.execute_input": "2022-01-04T10:10:10.382218Z",
     "iopub.status.busy": "2022-01-04T10:10:10.381695Z",
     "iopub.status.idle": "2022-01-04T10:10:23.522217Z",
     "shell.execute_reply": "2022-01-04T10:10:23.522964Z"
    },
    "papermill": {
     "duration": 13.183974,
     "end_time": "2022-01-04T10:10:23.523116",
     "exception": false,
     "start_time": "2022-01-04T10:10:10.339142",
     "status": "completed"
    },
    "tags": []
   },
   "outputs": [
    {
     "name": "stdout",
     "output_type": "stream",
     "text": [
      "Epoch 0, Loss 0.2419\n",
      "Training Accuracy: 0.6882, Testing Accuracy: 0.6910\n",
      "\n"
     ]
    },
    {
     "name": "stdout",
     "output_type": "stream",
     "text": [
      "Epoch 10, Loss 0.1037\n",
      "Training Accuracy: 0.9096, Testing Accuracy: 0.9183\n",
      "\n"
     ]
    },
    {
     "name": "stdout",
     "output_type": "stream",
     "text": [
      "Epoch 20, Loss 0.0796\n",
      "Training Accuracy: 0.9286, Testing Accuracy: 0.9355\n",
      "\n"
     ]
    },
    {
     "name": "stdout",
     "output_type": "stream",
     "text": [
      "Epoch 30, Loss 0.0686\n",
      "Training Accuracy: 0.9362, Testing Accuracy: 0.9425\n",
      "\n"
     ]
    },
    {
     "name": "stdout",
     "output_type": "stream",
     "text": [
      "Epoch 40, Loss 0.0619\n",
      "Training Accuracy: 0.9411, Testing Accuracy: 0.9496\n",
      "\n"
     ]
    },
    {
     "name": "stdout",
     "output_type": "stream",
     "text": [
      "Epoch 50, Loss 0.0574\n",
      "Training Accuracy: 0.9447, Testing Accuracy: 0.9521\n",
      "\n"
     ]
    },
    {
     "name": "stdout",
     "output_type": "stream",
     "text": [
      "Epoch 60, Loss 0.054\n",
      "Training Accuracy: 0.9473, Testing Accuracy: 0.9556\n",
      "\n"
     ]
    },
    {
     "name": "stdout",
     "output_type": "stream",
     "text": [
      "Epoch 70, Loss 0.0515\n",
      "Training Accuracy: 0.9487, Testing Accuracy: 0.9567\n",
      "\n"
     ]
    },
    {
     "name": "stdout",
     "output_type": "stream",
     "text": [
      "Epoch 80, Loss 0.0494\n",
      "Training Accuracy: 0.9500, Testing Accuracy: 0.9587\n",
      "\n"
     ]
    },
    {
     "name": "stdout",
     "output_type": "stream",
     "text": [
      "Epoch 90, Loss 0.0477\n",
      "Training Accuracy: 0.9513, Testing Accuracy: 0.9587\n",
      "\n"
     ]
    },
    {
     "name": "stdout",
     "output_type": "stream",
     "text": [
      "Epoch 100, Loss 0.0463\n",
      "Training Accuracy: 0.9523, Testing Accuracy: 0.9602\n",
      "\n"
     ]
    },
    {
     "name": "stdout",
     "output_type": "stream",
     "text": [
      "Epoch 110, Loss 0.045\n",
      "Training Accuracy: 0.9533, Testing Accuracy: 0.9622\n",
      "\n"
     ]
    },
    {
     "name": "stdout",
     "output_type": "stream",
     "text": [
      "Epoch 120, Loss 0.044\n",
      "Training Accuracy: 0.9545, Testing Accuracy: 0.9642\n",
      "\n"
     ]
    },
    {
     "name": "stdout",
     "output_type": "stream",
     "text": [
      "Epoch 130, Loss 0.043\n",
      "Training Accuracy: 0.9553, Testing Accuracy: 0.9647\n",
      "\n"
     ]
    },
    {
     "name": "stdout",
     "output_type": "stream",
     "text": [
      "Epoch 140, Loss 0.0422\n",
      "Training Accuracy: 0.9564, Testing Accuracy: 0.9647\n",
      "\n"
     ]
    },
    {
     "name": "stdout",
     "output_type": "stream",
     "text": [
      "Epoch 150, Loss 0.0414\n",
      "Training Accuracy: 0.9569, Testing Accuracy: 0.9647\n",
      "\n"
     ]
    },
    {
     "name": "stdout",
     "output_type": "stream",
     "text": [
      "Epoch 160, Loss 0.0407\n",
      "Training Accuracy: 0.9574, Testing Accuracy: 0.9652\n",
      "\n"
     ]
    },
    {
     "name": "stdout",
     "output_type": "stream",
     "text": [
      "Epoch 170, Loss 0.0401\n",
      "Training Accuracy: 0.9582, Testing Accuracy: 0.9657\n",
      "\n"
     ]
    },
    {
     "name": "stdout",
     "output_type": "stream",
     "text": [
      "Epoch 180, Loss 0.0395\n",
      "Training Accuracy: 0.9590, Testing Accuracy: 0.9657\n",
      "\n"
     ]
    },
    {
     "name": "stdout",
     "output_type": "stream",
     "text": [
      "Epoch 190, Loss 0.039\n",
      "Training Accuracy: 0.9597, Testing Accuracy: 0.9657\n",
      "\n"
     ]
    },
    {
     "name": "stdout",
     "output_type": "stream",
     "text": [
      "Epoch 200, Loss 0.0385\n",
      "Training Accuracy: 0.9600, Testing Accuracy: 0.9657\n",
      "\n"
     ]
    },
    {
     "name": "stdout",
     "output_type": "stream",
     "text": [
      "Epoch 210, Loss 0.0381\n",
      "Training Accuracy: 0.9603, Testing Accuracy: 0.9662\n",
      "\n"
     ]
    },
    {
     "name": "stdout",
     "output_type": "stream",
     "text": [
      "Epoch 220, Loss 0.0377\n",
      "Training Accuracy: 0.9604, Testing Accuracy: 0.9667\n",
      "\n"
     ]
    },
    {
     "name": "stdout",
     "output_type": "stream",
     "text": [
      "Epoch 230, Loss 0.0373\n",
      "Training Accuracy: 0.9605, Testing Accuracy: 0.9667\n",
      "\n"
     ]
    },
    {
     "name": "stdout",
     "output_type": "stream",
     "text": [
      "Epoch 240, Loss 0.0369\n",
      "Training Accuracy: 0.9606, Testing Accuracy: 0.9667\n",
      "\n"
     ]
    },
    {
     "data": {
      "text/plain": [
       "0.059477519438663966"
      ]
     },
     "execution_count": 23,
     "metadata": {},
     "output_type": "execute_result"
    }
   ],
   "source": [
    "lr_learner.train_loop(dl)"
   ]
  },
  {
   "cell_type": "code",
   "execution_count": 24,
   "id": "ca410940",
   "metadata": {
    "execution": {
     "iopub.execute_input": "2022-01-04T10:10:23.614181Z",
     "iopub.status.busy": "2022-01-04T10:10:23.613645Z",
     "iopub.status.idle": "2022-01-04T10:10:23.841226Z",
     "shell.execute_reply": "2022-01-04T10:10:23.840781Z"
    },
    "papermill": {
     "duration": 0.277322,
     "end_time": "2022-01-04T10:10:23.841348",
     "exception": false,
     "start_time": "2022-01-04T10:10:23.564026",
     "status": "completed"
    },
    "tags": []
   },
   "outputs": [
    {
     "data": {
      "text/plain": [
       "<matplotlib.legend.Legend at 0x7f20a027db38>"
      ]
     },
     "execution_count": 24,
     "metadata": {},
     "output_type": "execute_result"
    },
    {
     "data": {
      "image/png": "[encoded data removed]",
      "text/plain": [
       "<Figure size 1080x720 with 1 Axes>"
      ]
     },
     "metadata": {
      "needs_background": "light"
     },
     "output_type": "display_data"
    }
   ],
   "source": [
    "#comparing the results of NN and LR\n",
    "plt.figure(figsize=(15,10))\n",
    "\n",
    "# Neural Network plots\n",
    "plt.plot(acc_nn.accuracies, 'r-', label = \"Training Accuracies - NN\")\n",
    "plt.plot(acc_nn.test_accuracies, 'g-', label = \"Testing Accuracies - NN\")\n",
    "\n",
    "# Logistic Regression plots\n",
    "plt.plot(acc_lr.accuracies, 'k-', label = \"Training Accuracies - LR\")\n",
    "plt.plot(acc_lr.test_accuracies, 'b-', label = \"Testing Accuracies - LR\")\n",
    "plt.legend()"
   ]
  },
  {
   "cell_type": "markdown",
   "id": "80dfb35c",
   "metadata": {
    "papermill": {
     "duration": 0.041651,
     "end_time": "2022-01-04T10:10:23.925021",
     "exception": false,
     "start_time": "2022-01-04T10:10:23.883370",
     "status": "completed"
    },
    "tags": []
   },
   "source": [
    "#### Plotting the outputs of this layer of the NN.\n"
   ]
  },
  {
   "cell_type": "code",
   "execution_count": 25,
   "id": "45eb2ff5",
   "metadata": {
    "execution": {
     "iopub.execute_input": "2022-01-04T10:10:24.015124Z",
     "iopub.status.busy": "2022-01-04T10:10:24.012567Z",
     "iopub.status.idle": "2022-01-04T10:10:24.032341Z",
     "shell.execute_reply": "2022-01-04T10:10:24.032746Z"
    },
    "papermill": {
     "duration": 0.066351,
     "end_time": "2022-01-04T10:10:24.032889",
     "exception": false,
     "start_time": "2022-01-04T10:10:23.966538",
     "status": "completed"
    },
    "tags": []
   },
   "outputs": [],
   "source": [
    "new_model = Model(layers[:-2])\n",
    "testing_plot = new_model(testing_data_x)"
   ]
  },
  {
   "cell_type": "code",
   "execution_count": 26,
   "id": "4c0a5485",
   "metadata": {
    "execution": {
     "iopub.execute_input": "2022-01-04T10:10:24.125272Z",
     "iopub.status.busy": "2022-01-04T10:10:24.124676Z",
     "iopub.status.idle": "2022-01-04T10:10:24.314769Z",
     "shell.execute_reply": "2022-01-04T10:10:24.315189Z"
    },
    "papermill": {
     "duration": 0.24035,
     "end_time": "2022-01-04T10:10:24.315329",
     "exception": false,
     "start_time": "2022-01-04T10:10:24.074979",
     "status": "completed"
    },
    "tags": []
   },
   "outputs": [
    {
     "data": {
      "text/plain": [
       "Text(0.5, 1.0, 'Outputs')"
      ]
     },
     "execution_count": 26,
     "metadata": {},
     "output_type": "execute_result"
    },
    {
     "data": {
      "image/png": "[encoded data removed]",
      "text/plain": [
       "<Figure size 576x504 with 1 Axes>"
      ]
     },
     "metadata": {
      "needs_background": "light"
     },
     "output_type": "display_data"
    }
   ],
   "source": [
    "# Plotting the scatter plot of points and color coding by class\n",
    "plt.figure(figsize=(8,7))\n",
    "plt.scatter(testing_plot[:,0], testing_plot[:,1], alpha = 0.1, c = y_test.ravel());\n",
    "plt.title('Outputs')"
   ]
  },
  {
   "cell_type": "markdown",
   "id": "a74fcf8f",
   "metadata": {
    "papermill": {
     "duration": 0.043662,
     "end_time": "2022-01-04T10:10:24.402936",
     "exception": false,
     "start_time": "2022-01-04T10:10:24.359274",
     "status": "completed"
    },
    "tags": []
   },
   "source": [
    "Probability contours"
   ]
  },
  {
   "cell_type": "code",
   "execution_count": 27,
   "id": "d0afc8e3",
   "metadata": {
    "execution": {
     "iopub.execute_input": "2022-01-04T10:10:24.499128Z",
     "iopub.status.busy": "2022-01-04T10:10:24.498592Z",
     "iopub.status.idle": "2022-01-04T10:10:24.509575Z",
     "shell.execute_reply": "2022-01-04T10:10:24.510090Z"
    },
    "papermill": {
     "duration": 0.063477,
     "end_time": "2022-01-04T10:10:24.510230",
     "exception": false,
     "start_time": "2022-01-04T10:10:24.446753",
     "status": "completed"
    },
    "tags": []
   },
   "outputs": [],
   "source": [
    "model_prob = Model(layers[-2:]) "
   ]
  },
  {
   "cell_type": "code",
   "execution_count": 28,
   "id": "9b96e238",
   "metadata": {
    "execution": {
     "iopub.execute_input": "2022-01-04T10:10:24.607388Z",
     "iopub.status.busy": "2022-01-04T10:10:24.604886Z",
     "iopub.status.idle": "2022-01-04T10:10:24.617401Z",
     "shell.execute_reply": "2022-01-04T10:10:24.617794Z"
    },
    "papermill": {
     "duration": 0.063715,
     "end_time": "2022-01-04T10:10:24.617935",
     "exception": false,
     "start_time": "2022-01-04T10:10:24.554220",
     "status": "completed"
    },
    "tags": []
   },
   "outputs": [],
   "source": [
    "#creating the x and y ranges according to the above generated plot.\n",
    "x_range = np.linspace(-4, 1, 100) \n",
    "y_range = np.linspace(-6, 6, 100) \n",
    "x_grid, y_grid = np.meshgrid(x_range, y_range) # x_grid and y_grig are of size 100 X 100\n",
    "\n",
    "# converting x_grid and y_grid to continuous arrays\n",
    "x_gridflat = np.ravel(x_grid)\n",
    "y_gridflat = np.ravel(y_grid)\n",
    "\n",
    "# The last layer of the current model takes two columns as input. Hence transpose of np.vstack() is required.\n",
    "X = np.vstack((x_gridflat, y_gridflat)).T\n",
    "\n",
    "prob_contour = model_prob(X).reshape(100,100) "
   ]
  },
  {
   "cell_type": "code",
   "execution_count": 29,
   "id": "da72499a",
   "metadata": {
    "execution": {
     "iopub.execute_input": "2022-01-04T10:10:24.717600Z",
     "iopub.status.busy": "2022-01-04T10:10:24.716564Z",
     "iopub.status.idle": "2022-01-04T10:10:24.959365Z",
     "shell.execute_reply": "2022-01-04T10:10:24.958903Z"
    },
    "papermill": {
     "duration": 0.29703,
     "end_time": "2022-01-04T10:10:24.959484",
     "exception": false,
     "start_time": "2022-01-04T10:10:24.662454",
     "status": "completed"
    },
    "tags": []
   },
   "outputs": [
    {
     "data": {
      "image/png": "[encoded data removed]",
      "text/plain": [
       "<Figure size 720x648 with 1 Axes>"
      ]
     },
     "metadata": {
      "needs_background": "light"
     },
     "output_type": "display_data"
    }
   ],
   "source": [
    "plt.figure(figsize=(10,9))\n",
    "plt.scatter(testing_plot[:,0], testing_plot[:,1], alpha = 0.1, c = y_test.ravel())\n",
    "contours = plt.contour(x_grid,y_grid,prob_contour)\n",
    "plt.title('Probability Contours')\n",
    "plt.clabel(contours, inline = True );"
   ]
  },
  {
   "cell_type": "code",
   "execution_count": null,
   "id": "e81b4ac7",
   "metadata": {
    "papermill": {
     "duration": 0.046518,
     "end_time": "2022-01-04T10:10:25.084267",
     "exception": false,
     "start_time": "2022-01-04T10:10:25.037749",
     "status": "completed"
    },
    "tags": []
   },
   "outputs": [],
   "source": []
  }
 ],
 "metadata": {
  "kernelspec": {
   "display_name": "Python 3",
   "language": "python",
   "name": "python3"
  },
  "language_info": {
   "codemirror_mode": {
    "name": "ipython",
    "version": 3
   },
   "file_extension": ".py",
   "mimetype": "text/x-python",
   "name": "python",
   "nbconvert_exporter": "python",
   "pygments_lexer": "ipython3",
   "version": "3.6.15"
  },
  "papermill": {
   "default_parameters": {},
   "duration": 95.634275,
   "end_time": "2022-01-04T10:10:25.538987",
   "environment_variables": {},
   "exception": null,
   "input_path": "2020-08-11-part2.ipynb",
   "output_path": "2020-08-11-part2.ipynb",
   "parameters": {},
   "start_time": "2022-01-04T10:08:49.904712",
   "version": "2.3.3"
  }
 },
 "nbformat": 4,
 "nbformat_minor": 5
}