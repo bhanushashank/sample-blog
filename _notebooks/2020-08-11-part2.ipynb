{
 "cells": [
  {
   "cell_type": "markdown",
   "id": "98380cd3",
   "metadata": {
    "papermill": {
     "duration": 0.02831,
     "end_time": "2021-10-02T10:08:33.507594",
     "exception": false,
     "start_time": "2021-10-02T10:08:33.479284",
     "status": "completed"
    },
    "tags": []
   },
   "source": [
    "# Distinguish Your Own Digits (DYOD)"
   ]
  },
  {
   "cell_type": "markdown",
   "id": "ef31240d",
   "metadata": {
    "papermill": {
     "duration": 0.024341,
     "end_time": "2021-10-02T10:08:33.557095",
     "exception": false,
     "start_time": "2021-10-02T10:08:33.532754",
     "status": "completed"
    },
    "tags": []
   },
   "source": [
    "You are going to write a classifier that distinguishes between the number 3 and number 8."
   ]
  },
  {
   "cell_type": "code",
   "execution_count": 1,
   "id": "b15c8646",
   "metadata": {
    "execution": {
     "iopub.execute_input": "2021-10-02T10:08:33.618756Z",
     "iopub.status.busy": "2021-10-02T10:08:33.618181Z",
     "iopub.status.idle": "2021-10-02T10:08:33.628623Z",
     "shell.execute_reply": "2021-10-02T10:08:33.628147Z"
    },
    "papermill": {
     "duration": 0.047029,
     "end_time": "2021-10-02T10:08:33.628769",
     "exception": false,
     "start_time": "2021-10-02T10:08:33.581740",
     "status": "completed"
    },
    "tags": []
   },
   "outputs": [],
   "source": [
    "%load_ext autoreload\n",
    "%autoreload 2"
   ]
  },
  {
   "cell_type": "code",
   "execution_count": 2,
   "id": "22ef38dc",
   "metadata": {
    "execution": {
     "iopub.execute_input": "2021-10-02T10:08:33.686486Z",
     "iopub.status.busy": "2021-10-02T10:08:33.685908Z",
     "iopub.status.idle": "2021-10-02T10:08:34.220794Z",
     "shell.execute_reply": "2021-10-02T10:08:34.220262Z"
    },
    "papermill": {
     "duration": 0.567457,
     "end_time": "2021-10-02T10:08:34.220940",
     "exception": false,
     "start_time": "2021-10-02T10:08:33.653483",
     "status": "completed"
    },
    "tags": []
   },
   "outputs": [],
   "source": [
    "%matplotlib inline\n",
    "import numpy as np\n",
    "import matplotlib.pyplot as plt\n",
    "import pandas as pd"
   ]
  },
  {
   "cell_type": "markdown",
   "id": "ba036198",
   "metadata": {
    "papermill": {
     "duration": 0.024478,
     "end_time": "2021-10-02T10:08:34.270624",
     "exception": false,
     "start_time": "2021-10-02T10:08:34.246146",
     "status": "completed"
    },
    "tags": []
   },
   "source": [
    "From the command line run `pip install mnist`. This is a library that will help you bring down the mnist dataset. If you run this from a notebook, you need to put  `!pip install mnist` in a cell by itself."
   ]
  },
  {
   "cell_type": "code",
   "execution_count": 3,
   "id": "bb6ad8a1",
   "metadata": {
    "execution": {
     "iopub.execute_input": "2021-10-02T10:08:34.327117Z",
     "iopub.status.busy": "2021-10-02T10:08:34.326555Z",
     "iopub.status.idle": "2021-10-02T10:08:35.986222Z",
     "shell.execute_reply": "2021-10-02T10:08:35.985693Z"
    },
    "papermill": {
     "duration": 1.691179,
     "end_time": "2021-10-02T10:08:35.986369",
     "exception": false,
     "start_time": "2021-10-02T10:08:34.295190",
     "status": "completed"
    },
    "tags": []
   },
   "outputs": [
    {
     "name": "stdout",
     "output_type": "stream",
     "text": [
      "Collecting mnist\r\n"
     ]
    },
    {
     "name": "stdout",
     "output_type": "stream",
     "text": [
      "  Downloading mnist-0.2.2-py2.py3-none-any.whl (3.5 kB)\r\n",
      "Requirement already satisfied: numpy in /opt/hostedtoolcache/Python/3.6.15/x64/lib/python3.6/site-packages (from mnist) (1.19.5)\r\n"
     ]
    },
    {
     "name": "stdout",
     "output_type": "stream",
     "text": [
      "Installing collected packages: mnist\r\n"
     ]
    },
    {
     "name": "stdout",
     "output_type": "stream",
     "text": [
      "Successfully installed mnist-0.2.2\r\n"
     ]
    }
   ],
   "source": [
    "!pip install mnist"
   ]
  },
  {
   "cell_type": "markdown",
   "id": "69df9c9a",
   "metadata": {
    "papermill": {
     "duration": 0.025726,
     "end_time": "2021-10-02T10:08:36.038017",
     "exception": false,
     "start_time": "2021-10-02T10:08:36.012291",
     "status": "completed"
    },
    "tags": []
   },
   "source": [
    "## Preparing the Data"
   ]
  },
  {
   "cell_type": "code",
   "execution_count": 4,
   "id": "7f69d806",
   "metadata": {
    "execution": {
     "iopub.execute_input": "2021-10-02T10:08:36.109417Z",
     "iopub.status.busy": "2021-10-02T10:08:36.108800Z",
     "iopub.status.idle": "2021-10-02T10:08:36.113752Z",
     "shell.execute_reply": "2021-10-02T10:08:36.114165Z"
    },
    "papermill": {
     "duration": 0.050782,
     "end_time": "2021-10-02T10:08:36.114315",
     "exception": false,
     "start_time": "2021-10-02T10:08:36.063533",
     "status": "completed"
    },
    "tags": []
   },
   "outputs": [],
   "source": [
    "import mnist"
   ]
  },
  {
   "cell_type": "code",
   "execution_count": 5,
   "id": "a411e44f",
   "metadata": {
    "execution": {
     "iopub.execute_input": "2021-10-02T10:08:36.187929Z",
     "iopub.status.busy": "2021-10-02T10:08:36.181889Z",
     "iopub.status.idle": "2021-10-02T10:08:36.654231Z",
     "shell.execute_reply": "2021-10-02T10:08:36.653719Z"
    },
    "papermill": {
     "duration": 0.514137,
     "end_time": "2021-10-02T10:08:36.654356",
     "exception": false,
     "start_time": "2021-10-02T10:08:36.140219",
     "status": "completed"
    },
    "tags": []
   },
   "outputs": [],
   "source": [
    "train_images = mnist.train_images()\n",
    "train_labels = mnist.train_labels()"
   ]
  },
  {
   "cell_type": "code",
   "execution_count": 6,
   "id": "dceab3a5",
   "metadata": {
    "execution": {
     "iopub.execute_input": "2021-10-02T10:08:36.710826Z",
     "iopub.status.busy": "2021-10-02T10:08:36.710259Z",
     "iopub.status.idle": "2021-10-02T10:08:36.723788Z",
     "shell.execute_reply": "2021-10-02T10:08:36.724204Z"
    },
    "papermill": {
     "duration": 0.044204,
     "end_time": "2021-10-02T10:08:36.724344",
     "exception": false,
     "start_time": "2021-10-02T10:08:36.680140",
     "status": "completed"
    },
    "tags": []
   },
   "outputs": [
    {
     "data": {
      "text/plain": [
       "((60000, 28, 28), (60000,))"
      ]
     },
     "execution_count": 6,
     "metadata": {},
     "output_type": "execute_result"
    }
   ],
   "source": [
    "train_images.shape, train_labels.shape"
   ]
  },
  {
   "cell_type": "code",
   "execution_count": 7,
   "id": "f50dc2bb",
   "metadata": {
    "execution": {
     "iopub.execute_input": "2021-10-02T10:08:36.780521Z",
     "iopub.status.busy": "2021-10-02T10:08:36.779990Z",
     "iopub.status.idle": "2021-10-02T10:08:36.890024Z",
     "shell.execute_reply": "2021-10-02T10:08:36.889455Z"
    },
    "papermill": {
     "duration": 0.140037,
     "end_time": "2021-10-02T10:08:36.890168",
     "exception": false,
     "start_time": "2021-10-02T10:08:36.750131",
     "status": "completed"
    },
    "tags": []
   },
   "outputs": [],
   "source": [
    "test_images = mnist.test_images()\n",
    "test_labels = mnist.test_labels()"
   ]
  },
  {
   "cell_type": "code",
   "execution_count": 8,
   "id": "fc38cf1b",
   "metadata": {
    "execution": {
     "iopub.execute_input": "2021-10-02T10:08:36.958603Z",
     "iopub.status.busy": "2021-10-02T10:08:36.958043Z",
     "iopub.status.idle": "2021-10-02T10:08:36.965587Z",
     "shell.execute_reply": "2021-10-02T10:08:36.965157Z"
    },
    "papermill": {
     "duration": 0.049037,
     "end_time": "2021-10-02T10:08:36.965716",
     "exception": false,
     "start_time": "2021-10-02T10:08:36.916679",
     "status": "completed"
    },
    "tags": []
   },
   "outputs": [
    {
     "data": {
      "text/plain": [
       "((10000, 28, 28), (10000,))"
      ]
     },
     "execution_count": 8,
     "metadata": {},
     "output_type": "execute_result"
    }
   ],
   "source": [
    "test_images.shape, test_labels.shape"
   ]
  },
  {
   "cell_type": "code",
   "execution_count": 9,
   "id": "f9ed8fe0",
   "metadata": {
    "execution": {
     "iopub.execute_input": "2021-10-02T10:08:37.050311Z",
     "iopub.status.busy": "2021-10-02T10:08:37.034041Z",
     "iopub.status.idle": "2021-10-02T10:08:37.171403Z",
     "shell.execute_reply": "2021-10-02T10:08:37.170937Z"
    },
    "papermill": {
     "duration": 0.179721,
     "end_time": "2021-10-02T10:08:37.171528",
     "exception": false,
     "start_time": "2021-10-02T10:08:36.991807",
     "status": "completed"
    },
    "tags": []
   },
   "outputs": [
    {
     "name": "stdout",
     "output_type": "stream",
     "text": [
      "2\n"
     ]
    },
    {
     "data": {
      "text/plain": [
       "<matplotlib.image.AxesImage at 0x7f7d93a49860>"
      ]
     },
     "execution_count": 9,
     "metadata": {},
     "output_type": "execute_result"
    },
    {
     "data": {
      "image/png": "[encoded data removed]",
      "text/plain": [
       "<Figure size 432x288 with 1 Axes>"
      ]
     },
     "metadata": {
      "needs_background": "light"
     },
     "output_type": "display_data"
    }
   ],
   "source": [
    "image_index = 7776 # You may select anything up to 60,000\n",
    "print(train_labels[image_index]) \n",
    "plt.imshow(train_images[image_index], cmap='Greys')"
   ]
  },
  {
   "cell_type": "markdown",
   "id": "a8d2388d",
   "metadata": {
    "papermill": {
     "duration": 0.027116,
     "end_time": "2021-10-02T10:08:37.226083",
     "exception": false,
     "start_time": "2021-10-02T10:08:37.198967",
     "status": "completed"
    },
    "tags": []
   },
   "source": [
    "## Filter data to get 3 and 8 out"
   ]
  },
  {
   "cell_type": "code",
   "execution_count": 10,
   "id": "776f7fc7",
   "metadata": {
    "execution": {
     "iopub.execute_input": "2021-10-02T10:08:37.300533Z",
     "iopub.status.busy": "2021-10-02T10:08:37.299587Z",
     "iopub.status.idle": "2021-10-02T10:08:37.306032Z",
     "shell.execute_reply": "2021-10-02T10:08:37.305601Z"
    },
    "papermill": {
     "duration": 0.053019,
     "end_time": "2021-10-02T10:08:37.306156",
     "exception": false,
     "start_time": "2021-10-02T10:08:37.253137",
     "status": "completed"
    },
    "tags": []
   },
   "outputs": [],
   "source": [
    "train_filter = np.where((train_labels == 3 ) | (train_labels == 8))\n",
    "test_filter = np.where((test_labels == 3) | (test_labels == 8))\n",
    "X_train, y_train = train_images[train_filter], train_labels[train_filter]\n",
    "X_test, y_test = test_images[test_filter], test_labels[test_filter]"
   ]
  },
  {
   "cell_type": "markdown",
   "id": "948f0b7e",
   "metadata": {
    "papermill": {
     "duration": 0.026955,
     "end_time": "2021-10-02T10:08:37.360372",
     "exception": false,
     "start_time": "2021-10-02T10:08:37.333417",
     "status": "completed"
    },
    "tags": []
   },
   "source": [
    "We normalize the pizel values in the 0 to 1 range"
   ]
  },
  {
   "cell_type": "code",
   "execution_count": 11,
   "id": "ee4c2166",
   "metadata": {
    "execution": {
     "iopub.execute_input": "2021-10-02T10:08:37.434306Z",
     "iopub.status.busy": "2021-10-02T10:08:37.431844Z",
     "iopub.status.idle": "2021-10-02T10:08:37.472893Z",
     "shell.execute_reply": "2021-10-02T10:08:37.472386Z"
    },
    "papermill": {
     "duration": 0.085523,
     "end_time": "2021-10-02T10:08:37.473062",
     "exception": false,
     "start_time": "2021-10-02T10:08:37.387539",
     "status": "completed"
    },
    "tags": []
   },
   "outputs": [],
   "source": [
    "X_train = X_train/255.\n",
    "X_test = X_test/255."
   ]
  },
  {
   "cell_type": "markdown",
   "id": "ddcf4fab",
   "metadata": {
    "papermill": {
     "duration": 0.027162,
     "end_time": "2021-10-02T10:08:37.528082",
     "exception": false,
     "start_time": "2021-10-02T10:08:37.500920",
     "status": "completed"
    },
    "tags": []
   },
   "source": [
    "And setup the labels as 1 (when the digit is 3) and 0 (when the digit is 8)"
   ]
  },
  {
   "cell_type": "code",
   "execution_count": 12,
   "id": "7dc908f2",
   "metadata": {
    "execution": {
     "iopub.execute_input": "2021-10-02T10:08:37.600280Z",
     "iopub.status.busy": "2021-10-02T10:08:37.593520Z",
     "iopub.status.idle": "2021-10-02T10:08:37.603526Z",
     "shell.execute_reply": "2021-10-02T10:08:37.603064Z"
    },
    "papermill": {
     "duration": 0.048576,
     "end_time": "2021-10-02T10:08:37.603653",
     "exception": false,
     "start_time": "2021-10-02T10:08:37.555077",
     "status": "completed"
    },
    "tags": []
   },
   "outputs": [],
   "source": [
    "y_train = 1*(y_train==3)\n",
    "y_test = 1*(y_test==3)"
   ]
  },
  {
   "cell_type": "code",
   "execution_count": 13,
   "id": "01e4e969",
   "metadata": {
    "execution": {
     "iopub.execute_input": "2021-10-02T10:08:37.677741Z",
     "iopub.status.busy": "2021-10-02T10:08:37.677168Z",
     "iopub.status.idle": "2021-10-02T10:08:37.681182Z",
     "shell.execute_reply": "2021-10-02T10:08:37.680385Z"
    },
    "papermill": {
     "duration": 0.050307,
     "end_time": "2021-10-02T10:08:37.681311",
     "exception": false,
     "start_time": "2021-10-02T10:08:37.631004",
     "status": "completed"
    },
    "tags": []
   },
   "outputs": [
    {
     "data": {
      "text/plain": [
       "((11982, 28, 28), (1984, 28, 28))"
      ]
     },
     "execution_count": 13,
     "metadata": {},
     "output_type": "execute_result"
    }
   ],
   "source": [
    "X_train.shape, X_test.shape"
   ]
  },
  {
   "cell_type": "markdown",
   "id": "5ccf3f85",
   "metadata": {
    "papermill": {
     "duration": 0.027385,
     "end_time": "2021-10-02T10:08:37.736103",
     "exception": false,
     "start_time": "2021-10-02T10:08:37.708718",
     "status": "completed"
    },
    "tags": []
   },
   "source": [
    "We reshape the data to flatten the image pixels into a set of features or co-variates:"
   ]
  },
  {
   "cell_type": "code",
   "execution_count": 14,
   "id": "5286a4a3",
   "metadata": {
    "execution": {
     "iopub.execute_input": "2021-10-02T10:08:37.801562Z",
     "iopub.status.busy": "2021-10-02T10:08:37.800660Z",
     "iopub.status.idle": "2021-10-02T10:08:37.811793Z",
     "shell.execute_reply": "2021-10-02T10:08:37.811303Z"
    },
    "papermill": {
     "duration": 0.048344,
     "end_time": "2021-10-02T10:08:37.811914",
     "exception": false,
     "start_time": "2021-10-02T10:08:37.763570",
     "status": "completed"
    },
    "tags": []
   },
   "outputs": [
    {
     "data": {
      "text/plain": [
       "((11982, 784), (1984, 784))"
      ]
     },
     "execution_count": 14,
     "metadata": {},
     "output_type": "execute_result"
    }
   ],
   "source": [
    "X_train = X_train.reshape(X_train.shape[0], -1)\n",
    "X_test = X_test.reshape(X_test.shape[0], -1)\n",
    "X_train.shape, X_test.shape"
   ]
  },
  {
   "cell_type": "code",
   "execution_count": 15,
   "id": "73c5f88a",
   "metadata": {
    "execution": {
     "iopub.execute_input": "2021-10-02T10:08:37.874784Z",
     "iopub.status.busy": "2021-10-02T10:08:37.871572Z",
     "iopub.status.idle": "2021-10-02T10:08:37.891647Z",
     "shell.execute_reply": "2021-10-02T10:08:37.892074Z"
    },
    "papermill": {
     "duration": 0.052497,
     "end_time": "2021-10-02T10:08:37.892230",
     "exception": false,
     "start_time": "2021-10-02T10:08:37.839733",
     "status": "completed"
    },
    "tags": []
   },
   "outputs": [],
   "source": [
    "#Impoting functions from 'Kudzu'\n",
    "from kudzu.model import Model\n",
    "from kudzu.train import Learner\n",
    "from kudzu.optim import GD\n",
    "from kudzu.data import Data, Sampler,Dataloader\n",
    "\n",
    "from kudzu.callbacks import AccCallback\n",
    "from kudzu.callbacks import ClfCallback\n",
    "\n",
    "from kudzu.loss import MSE\n",
    "\n",
    "from kudzu.layer import Sigmoid,Relu\n",
    "from kudzu.layer import Affine"
   ]
  },
  {
   "cell_type": "markdown",
   "id": "bc01172a",
   "metadata": {
    "papermill": {
     "duration": 0.027883,
     "end_time": "2021-10-02T10:08:37.947986",
     "exception": false,
     "start_time": "2021-10-02T10:08:37.920103",
     "status": "completed"
    },
    "tags": []
   },
   "source": [
    "### Let us create a `Config` class, to store important parameters. \n",
    "This class essentially plays the role of a dictionary."
   ]
  },
  {
   "cell_type": "code",
   "execution_count": 16,
   "id": "978281aa",
   "metadata": {
    "execution": {
     "iopub.execute_input": "2021-10-02T10:08:38.022933Z",
     "iopub.status.busy": "2021-10-02T10:08:38.022367Z",
     "iopub.status.idle": "2021-10-02T10:08:38.024419Z",
     "shell.execute_reply": "2021-10-02T10:08:38.024835Z"
    },
    "papermill": {
     "duration": 0.049515,
     "end_time": "2021-10-02T10:08:38.025010",
     "exception": false,
     "start_time": "2021-10-02T10:08:37.975495",
     "status": "completed"
    },
    "tags": []
   },
   "outputs": [],
   "source": [
    "class Config:\n",
    "    pass\n",
    "config = Config()\n",
    "config.lr = 0.001\n",
    "config.num_epochs = 250\n",
    "config.bs = 50"
   ]
  },
  {
   "cell_type": "markdown",
   "id": "1385fa59",
   "metadata": {
    "papermill": {
     "duration": 0.027733,
     "end_time": "2021-10-02T10:08:38.080565",
     "exception": false,
     "start_time": "2021-10-02T10:08:38.052832",
     "status": "completed"
    },
    "tags": []
   },
   "source": [
    "### Running Models with the Training data\n",
    "Details about the network layers:\n",
    "- A first affine layer has 784 inputs and does 100 affine transforms. These are followed by a Relu\n",
    "- A second affine layer has 100 inputs from the 100 activations of the past layer, and does 100 affine transforms. These are followed by a Relu\n",
    "- A third affine layer has 100 activations and does 2 affine transformations to create an embedding for visualization. There is no non-linearity here.\n",
    "- A final \"logistic regression\" which has an affine transform from 2 inputs to 1 output, which is squeezed through a sigmoid.\n"
   ]
  },
  {
   "cell_type": "code",
   "execution_count": 17,
   "id": "2b9c66db",
   "metadata": {
    "execution": {
     "iopub.execute_input": "2021-10-02T10:08:38.149884Z",
     "iopub.status.busy": "2021-10-02T10:08:38.139726Z",
     "iopub.status.idle": "2021-10-02T10:08:38.155605Z",
     "shell.execute_reply": "2021-10-02T10:08:38.155152Z"
    },
    "papermill": {
     "duration": 0.047551,
     "end_time": "2021-10-02T10:08:38.155725",
     "exception": false,
     "start_time": "2021-10-02T10:08:38.108174",
     "status": "completed"
    },
    "tags": []
   },
   "outputs": [],
   "source": [
    "data = Data(X_train, y_train.reshape(-1,1))\n",
    "sampler = Sampler(data, config.bs, shuffle=True)\n",
    "\n",
    "dl = Dataloader(data, sampler)\n",
    "\n",
    "opt = GD(config.lr)\n",
    "loss = MSE()"
   ]
  },
  {
   "cell_type": "code",
   "execution_count": 18,
   "id": "b275e4c2",
   "metadata": {
    "execution": {
     "iopub.execute_input": "2021-10-02T10:08:38.231442Z",
     "iopub.status.busy": "2021-10-02T10:08:38.230860Z",
     "iopub.status.idle": "2021-10-02T10:08:38.233565Z",
     "shell.execute_reply": "2021-10-02T10:08:38.232837Z"
    },
    "papermill": {
     "duration": 0.050143,
     "end_time": "2021-10-02T10:08:38.233695",
     "exception": false,
     "start_time": "2021-10-02T10:08:38.183552",
     "status": "completed"
    },
    "tags": []
   },
   "outputs": [],
   "source": [
    "training_data_x = X_train\n",
    "testing_data_x = X_test\n",
    "training_data_y = y_train.reshape(-1,1)\n",
    "testing_data_y = y_test.reshape(-1,1)"
   ]
  },
  {
   "cell_type": "code",
   "execution_count": 19,
   "id": "76951160",
   "metadata": {
    "execution": {
     "iopub.execute_input": "2021-10-02T10:08:38.309494Z",
     "iopub.status.busy": "2021-10-02T10:08:38.301165Z",
     "iopub.status.idle": "2021-10-02T10:08:38.312612Z",
     "shell.execute_reply": "2021-10-02T10:08:38.312185Z"
    },
    "papermill": {
     "duration": 0.051432,
     "end_time": "2021-10-02T10:08:38.312742",
     "exception": false,
     "start_time": "2021-10-02T10:08:38.261310",
     "status": "completed"
    },
    "tags": []
   },
   "outputs": [
    {
     "name": "stdout",
     "output_type": "stream",
     "text": [
      "xavier\n",
      "xavier\n",
      "xavier\n",
      "xavier\n",
      "xavier\n"
     ]
    }
   ],
   "source": [
    "layers = [Affine(\"first\", 784, 100), Relu(\"first\"), Affine(\"second\", 100, 100), Relu(\"second\"), Affine(\"third\", 100, 2), Affine(\"last\", 2, 1), Sigmoid(\"last\")]\n",
    "model_nn = Model(layers)\n",
    "model_lr = Model([Affine(\"logits\", 784, 1), Sigmoid(\"sigmoid\")])"
   ]
  },
  {
   "cell_type": "code",
   "execution_count": 20,
   "id": "6eede77a",
   "metadata": {
    "execution": {
     "iopub.execute_input": "2021-10-02T10:08:38.379536Z",
     "iopub.status.busy": "2021-10-02T10:08:38.378976Z",
     "iopub.status.idle": "2021-10-02T10:08:38.387902Z",
     "shell.execute_reply": "2021-10-02T10:08:38.387442Z"
    },
    "papermill": {
     "duration": 0.047145,
     "end_time": "2021-10-02T10:08:38.388027",
     "exception": false,
     "start_time": "2021-10-02T10:08:38.340882",
     "status": "completed"
    },
    "tags": []
   },
   "outputs": [],
   "source": [
    "nn_learner = Learner(loss, model_nn, opt, config.num_epochs)\n",
    "acc_nn = ClfCallback(nn_learner, config.bs, training_data_x , testing_data_x, training_data_y, testing_data_y)\n",
    "nn_learner.set_callbacks([acc_nn])"
   ]
  },
  {
   "cell_type": "code",
   "execution_count": 21,
   "id": "877b6cc7",
   "metadata": {
    "execution": {
     "iopub.execute_input": "2021-10-02T10:08:38.448382Z",
     "iopub.status.busy": "2021-10-02T10:08:38.447861Z",
     "iopub.status.idle": "2021-10-02T10:08:38.460915Z",
     "shell.execute_reply": "2021-10-02T10:08:38.460440Z"
    },
    "papermill": {
     "duration": 0.045047,
     "end_time": "2021-10-02T10:08:38.461071",
     "exception": false,
     "start_time": "2021-10-02T10:08:38.416024",
     "status": "completed"
    },
    "tags": []
   },
   "outputs": [],
   "source": [
    "lr_learner = Learner(loss, model_lr, opt, config.num_epochs)\n",
    "acc_lr = ClfCallback(lr_learner, config.bs, training_data_x , testing_data_x, training_data_y, testing_data_y)\n",
    "lr_learner.set_callbacks([acc_lr])"
   ]
  },
  {
   "cell_type": "code",
   "execution_count": 22,
   "id": "d9b133c3",
   "metadata": {
    "execution": {
     "iopub.execute_input": "2021-10-02T10:08:38.535432Z",
     "iopub.status.busy": "2021-10-02T10:08:38.534870Z",
     "iopub.status.idle": "2021-10-02T10:09:54.862307Z",
     "shell.execute_reply": "2021-10-02T10:09:54.862725Z"
    },
    "papermill": {
     "duration": 76.373763,
     "end_time": "2021-10-02T10:09:54.862889",
     "exception": false,
     "start_time": "2021-10-02T10:08:38.489126",
     "status": "completed"
    },
    "tags": []
   },
   "outputs": [
    {
     "name": "stdout",
     "output_type": "stream",
     "text": [
      "Epoch 0, Loss 0.2441\n",
      "Training Accuracy: 0.6234, Testing Accuracy: 0.6356\n",
      "\n"
     ]
    },
    {
     "name": "stdout",
     "output_type": "stream",
     "text": [
      "Epoch 10, Loss 0.1458\n",
      "Training Accuracy: 0.9063, Testing Accuracy: 0.9254\n",
      "\n"
     ]
    },
    {
     "name": "stdout",
     "output_type": "stream",
     "text": [
      "Epoch 20, Loss 0.0715\n",
      "Training Accuracy: 0.9338, Testing Accuracy: 0.9486\n",
      "\n"
     ]
    },
    {
     "name": "stdout",
     "output_type": "stream",
     "text": [
      "Epoch 30, Loss 0.051\n",
      "Training Accuracy: 0.9459, Testing Accuracy: 0.9572\n",
      "\n"
     ]
    },
    {
     "name": "stdout",
     "output_type": "stream",
     "text": [
      "Epoch 40, Loss 0.0424\n",
      "Training Accuracy: 0.9525, Testing Accuracy: 0.9612\n",
      "\n"
     ]
    },
    {
     "name": "stdout",
     "output_type": "stream",
     "text": [
      "Epoch 50, Loss 0.0375\n",
      "Training Accuracy: 0.9572, Testing Accuracy: 0.9657\n",
      "\n"
     ]
    },
    {
     "name": "stdout",
     "output_type": "stream",
     "text": [
      "Epoch 60, Loss 0.0344\n",
      "Training Accuracy: 0.9608, Testing Accuracy: 0.9682\n",
      "\n"
     ]
    },
    {
     "name": "stdout",
     "output_type": "stream",
     "text": [
      "Epoch 70, Loss 0.0321\n",
      "Training Accuracy: 0.9634, Testing Accuracy: 0.9682\n",
      "\n"
     ]
    },
    {
     "name": "stdout",
     "output_type": "stream",
     "text": [
      "Epoch 80, Loss 0.0303\n",
      "Training Accuracy: 0.9654, Testing Accuracy: 0.9713\n",
      "\n"
     ]
    },
    {
     "name": "stdout",
     "output_type": "stream",
     "text": [
      "Epoch 90, Loss 0.0288\n",
      "Training Accuracy: 0.9670, Testing Accuracy: 0.9718\n",
      "\n"
     ]
    },
    {
     "name": "stdout",
     "output_type": "stream",
     "text": [
      "Epoch 100, Loss 0.0277\n",
      "Training Accuracy: 0.9681, Testing Accuracy: 0.9718\n",
      "\n"
     ]
    },
    {
     "name": "stdout",
     "output_type": "stream",
     "text": [
      "Epoch 110, Loss 0.0267\n",
      "Training Accuracy: 0.9696, Testing Accuracy: 0.9723\n",
      "\n"
     ]
    },
    {
     "name": "stdout",
     "output_type": "stream",
     "text": [
      "Epoch 120, Loss 0.0258\n",
      "Training Accuracy: 0.9708, Testing Accuracy: 0.9728\n",
      "\n"
     ]
    },
    {
     "name": "stdout",
     "output_type": "stream",
     "text": [
      "Epoch 130, Loss 0.025\n",
      "Training Accuracy: 0.9714, Testing Accuracy: 0.9728\n",
      "\n"
     ]
    },
    {
     "name": "stdout",
     "output_type": "stream",
     "text": [
      "Epoch 140, Loss 0.0244\n",
      "Training Accuracy: 0.9718, Testing Accuracy: 0.9728\n",
      "\n"
     ]
    },
    {
     "name": "stdout",
     "output_type": "stream",
     "text": [
      "Epoch 150, Loss 0.0237\n",
      "Training Accuracy: 0.9725, Testing Accuracy: 0.9733\n",
      "\n"
     ]
    },
    {
     "name": "stdout",
     "output_type": "stream",
     "text": [
      "Epoch 160, Loss 0.0232\n",
      "Training Accuracy: 0.9732, Testing Accuracy: 0.9733\n",
      "\n"
     ]
    },
    {
     "name": "stdout",
     "output_type": "stream",
     "text": [
      "Epoch 170, Loss 0.0226\n",
      "Training Accuracy: 0.9735, Testing Accuracy: 0.9733\n",
      "\n"
     ]
    },
    {
     "name": "stdout",
     "output_type": "stream",
     "text": [
      "Epoch 180, Loss 0.0221\n",
      "Training Accuracy: 0.9744, Testing Accuracy: 0.9733\n",
      "\n"
     ]
    },
    {
     "name": "stdout",
     "output_type": "stream",
     "text": [
      "Epoch 190, Loss 0.0217\n",
      "Training Accuracy: 0.9750, Testing Accuracy: 0.9728\n",
      "\n"
     ]
    },
    {
     "name": "stdout",
     "output_type": "stream",
     "text": [
      "Epoch 200, Loss 0.0212\n",
      "Training Accuracy: 0.9758, Testing Accuracy: 0.9733\n",
      "\n"
     ]
    },
    {
     "name": "stdout",
     "output_type": "stream",
     "text": [
      "Epoch 210, Loss 0.0208\n",
      "Training Accuracy: 0.9760, Testing Accuracy: 0.9728\n",
      "\n"
     ]
    },
    {
     "name": "stdout",
     "output_type": "stream",
     "text": [
      "Epoch 220, Loss 0.0204\n",
      "Training Accuracy: 0.9770, Testing Accuracy: 0.9723\n",
      "\n"
     ]
    },
    {
     "name": "stdout",
     "output_type": "stream",
     "text": [
      "Epoch 230, Loss 0.02\n",
      "Training Accuracy: 0.9775, Testing Accuracy: 0.9728\n",
      "\n"
     ]
    },
    {
     "name": "stdout",
     "output_type": "stream",
     "text": [
      "Epoch 240, Loss 0.0196\n",
      "Training Accuracy: 0.9779, Testing Accuracy: 0.9728\n",
      "\n"
     ]
    },
    {
     "data": {
      "text/plain": [
       "0.031605590367365814"
      ]
     },
     "execution_count": 22,
     "metadata": {},
     "output_type": "execute_result"
    }
   ],
   "source": [
    "nn_learner.train_loop(dl)"
   ]
  },
  {
   "cell_type": "code",
   "execution_count": 23,
   "id": "e0163366",
   "metadata": {
    "execution": {
     "iopub.execute_input": "2021-10-02T10:09:54.946383Z",
     "iopub.status.busy": "2021-10-02T10:09:54.945825Z",
     "iopub.status.idle": "2021-10-02T10:10:08.682058Z",
     "shell.execute_reply": "2021-10-02T10:10:08.682851Z"
    },
    "papermill": {
     "duration": 13.784888,
     "end_time": "2021-10-02T10:10:08.683008",
     "exception": false,
     "start_time": "2021-10-02T10:09:54.898120",
     "status": "completed"
    },
    "tags": []
   },
   "outputs": [
    {
     "name": "stdout",
     "output_type": "stream",
     "text": [
      "Epoch 0, Loss 0.2609\n",
      "Training Accuracy: 0.6169, Testing Accuracy: 0.6205\n",
      "\n"
     ]
    },
    {
     "name": "stdout",
     "output_type": "stream",
     "text": [
      "Epoch 10, Loss 0.1056\n",
      "Training Accuracy: 0.9055, Testing Accuracy: 0.9183\n",
      "\n"
     ]
    },
    {
     "name": "stdout",
     "output_type": "stream",
     "text": [
      "Epoch 20, Loss 0.0801\n",
      "Training Accuracy: 0.9276, Testing Accuracy: 0.9390\n",
      "\n"
     ]
    },
    {
     "name": "stdout",
     "output_type": "stream",
     "text": [
      "Epoch 30, Loss 0.0686\n",
      "Training Accuracy: 0.9363, Testing Accuracy: 0.9456\n",
      "\n"
     ]
    },
    {
     "name": "stdout",
     "output_type": "stream",
     "text": [
      "Epoch 40, Loss 0.0617\n",
      "Training Accuracy: 0.9415, Testing Accuracy: 0.9481\n",
      "\n"
     ]
    },
    {
     "name": "stdout",
     "output_type": "stream",
     "text": [
      "Epoch 50, Loss 0.0571\n",
      "Training Accuracy: 0.9444, Testing Accuracy: 0.9536\n",
      "\n"
     ]
    },
    {
     "name": "stdout",
     "output_type": "stream",
     "text": [
      "Epoch 60, Loss 0.0538\n",
      "Training Accuracy: 0.9469, Testing Accuracy: 0.9567\n",
      "\n"
     ]
    },
    {
     "name": "stdout",
     "output_type": "stream",
     "text": [
      "Epoch 70, Loss 0.0512\n",
      "Training Accuracy: 0.9492, Testing Accuracy: 0.9582\n",
      "\n"
     ]
    },
    {
     "name": "stdout",
     "output_type": "stream",
     "text": [
      "Epoch 80, Loss 0.0491\n",
      "Training Accuracy: 0.9508, Testing Accuracy: 0.9587\n",
      "\n"
     ]
    },
    {
     "name": "stdout",
     "output_type": "stream",
     "text": [
      "Epoch 90, Loss 0.0474\n",
      "Training Accuracy: 0.9524, Testing Accuracy: 0.9597\n",
      "\n"
     ]
    },
    {
     "name": "stdout",
     "output_type": "stream",
     "text": [
      "Epoch 100, Loss 0.046\n",
      "Training Accuracy: 0.9531, Testing Accuracy: 0.9602\n",
      "\n"
     ]
    },
    {
     "name": "stdout",
     "output_type": "stream",
     "text": [
      "Epoch 110, Loss 0.0448\n",
      "Training Accuracy: 0.9541, Testing Accuracy: 0.9612\n",
      "\n"
     ]
    },
    {
     "name": "stdout",
     "output_type": "stream",
     "text": [
      "Epoch 120, Loss 0.0437\n",
      "Training Accuracy: 0.9548, Testing Accuracy: 0.9622\n",
      "\n"
     ]
    },
    {
     "name": "stdout",
     "output_type": "stream",
     "text": [
      "Epoch 130, Loss 0.0428\n",
      "Training Accuracy: 0.9552, Testing Accuracy: 0.9642\n",
      "\n"
     ]
    },
    {
     "name": "stdout",
     "output_type": "stream",
     "text": [
      "Epoch 140, Loss 0.0419\n",
      "Training Accuracy: 0.9559, Testing Accuracy: 0.9637\n",
      "\n"
     ]
    },
    {
     "name": "stdout",
     "output_type": "stream",
     "text": [
      "Epoch 150, Loss 0.0412\n",
      "Training Accuracy: 0.9569, Testing Accuracy: 0.9647\n",
      "\n"
     ]
    },
    {
     "name": "stdout",
     "output_type": "stream",
     "text": [
      "Epoch 160, Loss 0.0405\n",
      "Training Accuracy: 0.9573, Testing Accuracy: 0.9652\n",
      "\n"
     ]
    },
    {
     "name": "stdout",
     "output_type": "stream",
     "text": [
      "Epoch 170, Loss 0.0399\n",
      "Training Accuracy: 0.9578, Testing Accuracy: 0.9657\n",
      "\n"
     ]
    },
    {
     "name": "stdout",
     "output_type": "stream",
     "text": [
      "Epoch 180, Loss 0.0393\n",
      "Training Accuracy: 0.9579, Testing Accuracy: 0.9657\n",
      "\n"
     ]
    },
    {
     "name": "stdout",
     "output_type": "stream",
     "text": [
      "Epoch 190, Loss 0.0388\n",
      "Training Accuracy: 0.9586, Testing Accuracy: 0.9662\n",
      "\n"
     ]
    },
    {
     "name": "stdout",
     "output_type": "stream",
     "text": [
      "Epoch 200, Loss 0.0383\n",
      "Training Accuracy: 0.9594, Testing Accuracy: 0.9662\n",
      "\n"
     ]
    },
    {
     "name": "stdout",
     "output_type": "stream",
     "text": [
      "Epoch 210, Loss 0.0379\n",
      "Training Accuracy: 0.9599, Testing Accuracy: 0.9662\n",
      "\n"
     ]
    },
    {
     "name": "stdout",
     "output_type": "stream",
     "text": [
      "Epoch 220, Loss 0.0375\n",
      "Training Accuracy: 0.9601, Testing Accuracy: 0.9672\n",
      "\n"
     ]
    },
    {
     "name": "stdout",
     "output_type": "stream",
     "text": [
      "Epoch 230, Loss 0.0371\n",
      "Training Accuracy: 0.9603, Testing Accuracy: 0.9677\n",
      "\n"
     ]
    },
    {
     "name": "stdout",
     "output_type": "stream",
     "text": [
      "Epoch 240, Loss 0.0367\n",
      "Training Accuracy: 0.9604, Testing Accuracy: 0.9677\n",
      "\n"
     ]
    },
    {
     "data": {
      "text/plain": [
       "0.01321000435981027"
      ]
     },
     "execution_count": 23,
     "metadata": {},
     "output_type": "execute_result"
    }
   ],
   "source": [
    "lr_learner.train_loop(dl)"
   ]
  },
  {
   "cell_type": "code",
   "execution_count": 24,
   "id": "ca410940",
   "metadata": {
    "execution": {
     "iopub.execute_input": "2021-10-02T10:10:08.778371Z",
     "iopub.status.busy": "2021-10-02T10:10:08.777809Z",
     "iopub.status.idle": "2021-10-02T10:10:09.012791Z",
     "shell.execute_reply": "2021-10-02T10:10:09.012327Z"
    },
    "papermill": {
     "duration": 0.287977,
     "end_time": "2021-10-02T10:10:09.012916",
     "exception": false,
     "start_time": "2021-10-02T10:10:08.724939",
     "status": "completed"
    },
    "tags": []
   },
   "outputs": [
    {
     "data": {
      "text/plain": [
       "<matplotlib.legend.Legend at 0x7f7d86222860>"
      ]
     },
     "execution_count": 24,
     "metadata": {},
     "output_type": "execute_result"
    },
    {
     "data": {
      "image/png": "[encoded data removed]",
      "text/plain": [
       "<Figure size 1080x720 with 1 Axes>"
      ]
     },
     "metadata": {
      "needs_background": "light"
     },
     "output_type": "display_data"
    }
   ],
   "source": [
    "#comparing the results of NN and LR\n",
    "plt.figure(figsize=(15,10))\n",
    "\n",
    "# Neural Network plots\n",
    "plt.plot(acc_nn.accuracies, 'r-', label = \"Training Accuracies - NN\")\n",
    "plt.plot(acc_nn.test_accuracies, 'g-', label = \"Testing Accuracies - NN\")\n",
    "\n",
    "# Logistic Regression plots\n",
    "plt.plot(acc_lr.accuracies, 'k-', label = \"Training Accuracies - LR\")\n",
    "plt.plot(acc_lr.test_accuracies, 'b-', label = \"Testing Accuracies - LR\")\n",
    "plt.legend()"
   ]
  },
  {
   "cell_type": "markdown",
   "id": "80dfb35c",
   "metadata": {
    "papermill": {
     "duration": 0.043055,
     "end_time": "2021-10-02T10:10:09.098998",
     "exception": false,
     "start_time": "2021-10-02T10:10:09.055943",
     "status": "completed"
    },
    "tags": []
   },
   "source": [
    "#### Plotting the outputs of this layer of the NN.\n"
   ]
  },
  {
   "cell_type": "code",
   "execution_count": 25,
   "id": "45eb2ff5",
   "metadata": {
    "execution": {
     "iopub.execute_input": "2021-10-02T10:10:09.188863Z",
     "iopub.status.busy": "2021-10-02T10:10:09.188326Z",
     "iopub.status.idle": "2021-10-02T10:10:09.208596Z",
     "shell.execute_reply": "2021-10-02T10:10:09.209059Z"
    },
    "papermill": {
     "duration": 0.06743,
     "end_time": "2021-10-02T10:10:09.209218",
     "exception": false,
     "start_time": "2021-10-02T10:10:09.141788",
     "status": "completed"
    },
    "tags": []
   },
   "outputs": [],
   "source": [
    "new_model = Model(layers[:-2])\n",
    "testing_plot = new_model(testing_data_x)"
   ]
  },
  {
   "cell_type": "code",
   "execution_count": 26,
   "id": "4c0a5485",
   "metadata": {
    "execution": {
     "iopub.execute_input": "2021-10-02T10:10:09.310427Z",
     "iopub.status.busy": "2021-10-02T10:10:09.309888Z",
     "iopub.status.idle": "2021-10-02T10:10:09.515110Z",
     "shell.execute_reply": "2021-10-02T10:10:09.515531Z"
    },
    "papermill": {
     "duration": 0.254343,
     "end_time": "2021-10-02T10:10:09.515675",
     "exception": false,
     "start_time": "2021-10-02T10:10:09.261332",
     "status": "completed"
    },
    "tags": []
   },
   "outputs": [
    {
     "data": {
      "text/plain": [
       "Text(0.5, 1.0, 'Outputs')"
      ]
     },
     "execution_count": 26,
     "metadata": {},
     "output_type": "execute_result"
    },
    {
     "data": {
      "image/png": "[encoded data removed]",
      "text/plain": [
       "<Figure size 576x504 with 1 Axes>"
      ]
     },
     "metadata": {
      "needs_background": "light"
     },
     "output_type": "display_data"
    }
   ],
   "source": [
    "# Plotting the scatter plot of points and color coding by class\n",
    "plt.figure(figsize=(8,7))\n",
    "plt.scatter(testing_plot[:,0], testing_plot[:,1], alpha = 0.1, c = y_test.ravel());\n",
    "plt.title('Outputs')"
   ]
  },
  {
   "cell_type": "markdown",
   "id": "a74fcf8f",
   "metadata": {
    "papermill": {
     "duration": 0.044645,
     "end_time": "2021-10-02T10:10:09.605137",
     "exception": false,
     "start_time": "2021-10-02T10:10:09.560492",
     "status": "completed"
    },
    "tags": []
   },
   "source": [
    "Probability contours"
   ]
  },
  {
   "cell_type": "code",
   "execution_count": 27,
   "id": "d0afc8e3",
   "metadata": {
    "execution": {
     "iopub.execute_input": "2021-10-02T10:10:09.711113Z",
     "iopub.status.busy": "2021-10-02T10:10:09.710098Z",
     "iopub.status.idle": "2021-10-02T10:10:09.716130Z",
     "shell.execute_reply": "2021-10-02T10:10:09.715446Z"
    },
    "papermill": {
     "duration": 0.065591,
     "end_time": "2021-10-02T10:10:09.716256",
     "exception": false,
     "start_time": "2021-10-02T10:10:09.650665",
     "status": "completed"
    },
    "tags": []
   },
   "outputs": [],
   "source": [
    "model_prob = Model(layers[-2:]) "
   ]
  },
  {
   "cell_type": "code",
   "execution_count": 28,
   "id": "9b96e238",
   "metadata": {
    "execution": {
     "iopub.execute_input": "2021-10-02T10:10:09.855386Z",
     "iopub.status.busy": "2021-10-02T10:10:09.850234Z",
     "iopub.status.idle": "2021-10-02T10:10:09.861504Z",
     "shell.execute_reply": "2021-10-02T10:10:09.861077Z"
    },
    "papermill": {
     "duration": 0.100158,
     "end_time": "2021-10-02T10:10:09.861633",
     "exception": false,
     "start_time": "2021-10-02T10:10:09.761475",
     "status": "completed"
    },
    "tags": []
   },
   "outputs": [],
   "source": [
    "#creating the x and y ranges according to the above generated plot.\n",
    "x_range = np.linspace(-4, 1, 100) \n",
    "y_range = np.linspace(-6, 6, 100) \n",
    "x_grid, y_grid = np.meshgrid(x_range, y_range) # x_grid and y_grig are of size 100 X 100\n",
    "\n",
    "# converting x_grid and y_grid to continuous arrays\n",
    "x_gridflat = np.ravel(x_grid)\n",
    "y_gridflat = np.ravel(y_grid)\n",
    "\n",
    "# The last layer of the current model takes two columns as input. Hence transpose of np.vstack() is required.\n",
    "X = np.vstack((x_gridflat, y_gridflat)).T\n",
    "\n",
    "prob_contour = model_prob(X).reshape(100,100) "
   ]
  },
  {
   "cell_type": "code",
   "execution_count": 29,
   "id": "da72499a",
   "metadata": {
    "execution": {
     "iopub.execute_input": "2021-10-02T10:10:09.962584Z",
     "iopub.status.busy": "2021-10-02T10:10:09.962060Z",
     "iopub.status.idle": "2021-10-02T10:10:10.210329Z",
     "shell.execute_reply": "2021-10-02T10:10:10.209819Z"
    },
    "papermill": {
     "duration": 0.297242,
     "end_time": "2021-10-02T10:10:10.210470",
     "exception": false,
     "start_time": "2021-10-02T10:10:09.913228",
     "status": "completed"
    },
    "tags": []
   },
   "outputs": [
    {
     "data": {
      "image/png": "[encoded data removed]",
      "text/plain": [
       "<Figure size 720x648 with 1 Axes>"
      ]
     },
     "metadata": {
      "needs_background": "light"
     },
     "output_type": "display_data"
    }
   ],
   "source": [
    "plt.figure(figsize=(10,9))\n",
    "plt.scatter(testing_plot[:,0], testing_plot[:,1], alpha = 0.1, c = y_test.ravel())\n",
    "contours = plt.contour(x_grid,y_grid,prob_contour)\n",
    "plt.title('Probability Contours')\n",
    "plt.clabel(contours, inline = True );"
   ]
  },
  {
   "cell_type": "code",
   "execution_count": null,
   "id": "e81b4ac7",
   "metadata": {
    "papermill": {
     "duration": 0.047168,
     "end_time": "2021-10-02T10:10:10.306029",
     "exception": false,
     "start_time": "2021-10-02T10:10:10.258861",
     "status": "completed"
    },
    "tags": []
   },
   "outputs": [],
   "source": []
  }
 ],
 "metadata": {
  "kernelspec": {
   "display_name": "Python 3",
   "language": "python",
   "name": "python3"
  },
  "language_info": {
   "codemirror_mode": {
    "name": "ipython",
    "version": 3
   },
   "file_extension": ".py",
   "mimetype": "text/x-python",
   "name": "python",
   "nbconvert_exporter": "python",
   "pygments_lexer": "ipython3",
   "version": "3.6.15"
  },
  "papermill": {
   "default_parameters": {},
   "duration": 98.464002,
   "end_time": "2021-10-02T10:10:10.761710",
   "environment_variables": {},
   "exception": null,
   "input_path": "2020-08-11-part2.ipynb",
   "output_path": "2020-08-11-part2.ipynb",
   "parameters": {},
   "start_time": "2021-10-02T10:08:32.297708",
   "version": "2.3.3"
  }
 },
 "nbformat": 4,
 "nbformat_minor": 5
}