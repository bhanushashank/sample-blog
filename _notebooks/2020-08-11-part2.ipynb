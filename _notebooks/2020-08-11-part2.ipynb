{
 "cells": [
  {
   "cell_type": "markdown",
   "id": "98380cd3",
   "metadata": {
    "papermill": {
     "duration": 0.028258,
     "end_time": "2022-04-20T20:11:13.823907",
     "exception": false,
     "start_time": "2022-04-20T20:11:13.795649",
     "status": "completed"
    },
    "tags": []
   },
   "source": [
    "# Distinguish Your Own Digits (DYOD)"
   ]
  },
  {
   "cell_type": "markdown",
   "id": "ef31240d",
   "metadata": {
    "papermill": {
     "duration": 0.02555,
     "end_time": "2022-04-20T20:11:13.873702",
     "exception": false,
     "start_time": "2022-04-20T20:11:13.848152",
     "status": "completed"
    },
    "tags": []
   },
   "source": [
    "You are going to write a classifier that distinguishes between the number 3 and number 8."
   ]
  },
  {
   "cell_type": "code",
   "execution_count": 1,
   "id": "b15c8646",
   "metadata": {
    "execution": {
     "iopub.execute_input": "2022-04-20T20:11:13.930718Z",
     "iopub.status.busy": "2022-04-20T20:11:13.930173Z",
     "iopub.status.idle": "2022-04-20T20:11:13.940957Z",
     "shell.execute_reply": "2022-04-20T20:11:13.940545Z"
    },
    "papermill": {
     "duration": 0.043833,
     "end_time": "2022-04-20T20:11:13.941075",
     "exception": false,
     "start_time": "2022-04-20T20:11:13.897242",
     "status": "completed"
    },
    "tags": []
   },
   "outputs": [],
   "source": [
    "%load_ext autoreload\n",
    "%autoreload 2"
   ]
  },
  {
   "cell_type": "code",
   "execution_count": 2,
   "id": "22ef38dc",
   "metadata": {
    "execution": {
     "iopub.execute_input": "2022-04-20T20:11:13.991828Z",
     "iopub.status.busy": "2022-04-20T20:11:13.991319Z",
     "iopub.status.idle": "2022-04-20T20:11:14.520300Z",
     "shell.execute_reply": "2022-04-20T20:11:14.519755Z"
    },
    "papermill": {
     "duration": 0.555796,
     "end_time": "2022-04-20T20:11:14.520442",
     "exception": false,
     "start_time": "2022-04-20T20:11:13.964646",
     "status": "completed"
    },
    "tags": []
   },
   "outputs": [],
   "source": [
    "%matplotlib inline\n",
    "import numpy as np\n",
    "import matplotlib.pyplot as plt\n",
    "import pandas as pd"
   ]
  },
  {
   "cell_type": "markdown",
   "id": "ba036198",
   "metadata": {
    "papermill": {
     "duration": 0.023799,
     "end_time": "2022-04-20T20:11:14.568073",
     "exception": false,
     "start_time": "2022-04-20T20:11:14.544274",
     "status": "completed"
    },
    "tags": []
   },
   "source": [
    "From the command line run `pip install mnist`. This is a library that will help you bring down the mnist dataset. If you run this from a notebook, you need to put  `!pip install mnist` in a cell by itself."
   ]
  },
  {
   "cell_type": "code",
   "execution_count": 3,
   "id": "bb6ad8a1",
   "metadata": {
    "execution": {
     "iopub.execute_input": "2022-04-20T20:11:14.624027Z",
     "iopub.status.busy": "2022-04-20T20:11:14.623508Z",
     "iopub.status.idle": "2022-04-20T20:11:16.287816Z",
     "shell.execute_reply": "2022-04-20T20:11:16.288295Z"
    },
    "papermill": {
     "duration": 1.696584,
     "end_time": "2022-04-20T20:11:16.288463",
     "exception": false,
     "start_time": "2022-04-20T20:11:14.591879",
     "status": "completed"
    },
    "tags": []
   },
   "outputs": [
    {
     "name": "stdout",
     "output_type": "stream",
     "text": [
      "Collecting mnist\r\n"
     ]
    },
    {
     "name": "stdout",
     "output_type": "stream",
     "text": [
      "  Downloading mnist-0.2.2-py2.py3-none-any.whl (3.5 kB)\r\n",
      "Requirement already satisfied: numpy in /opt/hostedtoolcache/Python/3.6.15/x64/lib/python3.6/site-packages (from mnist) (1.19.5)\r\n"
     ]
    },
    {
     "name": "stdout",
     "output_type": "stream",
     "text": [
      "Installing collected packages: mnist\r\n"
     ]
    },
    {
     "name": "stdout",
     "output_type": "stream",
     "text": [
      "Successfully installed mnist-0.2.2\r\n"
     ]
    }
   ],
   "source": [
    "!pip install mnist"
   ]
  },
  {
   "cell_type": "markdown",
   "id": "69df9c9a",
   "metadata": {
    "papermill": {
     "duration": 0.02532,
     "end_time": "2022-04-20T20:11:16.339964",
     "exception": false,
     "start_time": "2022-04-20T20:11:16.314644",
     "status": "completed"
    },
    "tags": []
   },
   "source": [
    "## Preparing the Data"
   ]
  },
  {
   "cell_type": "code",
   "execution_count": 4,
   "id": "7f69d806",
   "metadata": {
    "execution": {
     "iopub.execute_input": "2022-04-20T20:11:16.393331Z",
     "iopub.status.busy": "2022-04-20T20:11:16.392828Z",
     "iopub.status.idle": "2022-04-20T20:11:16.421925Z",
     "shell.execute_reply": "2022-04-20T20:11:16.421466Z"
    },
    "papermill": {
     "duration": 0.057374,
     "end_time": "2022-04-20T20:11:16.422041",
     "exception": false,
     "start_time": "2022-04-20T20:11:16.364667",
     "status": "completed"
    },
    "tags": []
   },
   "outputs": [],
   "source": [
    "import mnist"
   ]
  },
  {
   "cell_type": "code",
   "execution_count": 5,
   "id": "a411e44f",
   "metadata": {
    "execution": {
     "iopub.execute_input": "2022-04-20T20:11:16.475501Z",
     "iopub.status.busy": "2022-04-20T20:11:16.474992Z",
     "iopub.status.idle": "2022-04-20T20:11:17.007006Z",
     "shell.execute_reply": "2022-04-20T20:11:17.006429Z"
    },
    "papermill": {
     "duration": 0.559629,
     "end_time": "2022-04-20T20:11:17.007156",
     "exception": false,
     "start_time": "2022-04-20T20:11:16.447527",
     "status": "completed"
    },
    "tags": []
   },
   "outputs": [],
   "source": [
    "train_images = mnist.train_images()\n",
    "train_labels = mnist.train_labels()"
   ]
  },
  {
   "cell_type": "code",
   "execution_count": 6,
   "id": "dceab3a5",
   "metadata": {
    "execution": {
     "iopub.execute_input": "2022-04-20T20:11:17.070519Z",
     "iopub.status.busy": "2022-04-20T20:11:17.069984Z",
     "iopub.status.idle": "2022-04-20T20:11:17.080525Z",
     "shell.execute_reply": "2022-04-20T20:11:17.079780Z"
    },
    "papermill": {
     "duration": 0.048199,
     "end_time": "2022-04-20T20:11:17.080636",
     "exception": false,
     "start_time": "2022-04-20T20:11:17.032437",
     "status": "completed"
    },
    "tags": []
   },
   "outputs": [
    {
     "data": {
      "text/plain": [
       "((60000, 28, 28), (60000,))"
      ]
     },
     "execution_count": 6,
     "metadata": {},
     "output_type": "execute_result"
    }
   ],
   "source": [
    "train_images.shape, train_labels.shape"
   ]
  },
  {
   "cell_type": "code",
   "execution_count": 7,
   "id": "f50dc2bb",
   "metadata": {
    "execution": {
     "iopub.execute_input": "2022-04-20T20:11:17.142957Z",
     "iopub.status.busy": "2022-04-20T20:11:17.133269Z",
     "iopub.status.idle": "2022-04-20T20:11:17.294087Z",
     "shell.execute_reply": "2022-04-20T20:11:17.294564Z"
    },
    "papermill": {
     "duration": 0.189142,
     "end_time": "2022-04-20T20:11:17.294758",
     "exception": false,
     "start_time": "2022-04-20T20:11:17.105616",
     "status": "completed"
    },
    "tags": []
   },
   "outputs": [],
   "source": [
    "test_images = mnist.test_images()\n",
    "test_labels = mnist.test_labels()"
   ]
  },
  {
   "cell_type": "code",
   "execution_count": 8,
   "id": "fc38cf1b",
   "metadata": {
    "execution": {
     "iopub.execute_input": "2022-04-20T20:11:17.349602Z",
     "iopub.status.busy": "2022-04-20T20:11:17.349095Z",
     "iopub.status.idle": "2022-04-20T20:11:17.362447Z",
     "shell.execute_reply": "2022-04-20T20:11:17.362022Z"
    },
    "papermill": {
     "duration": 0.041444,
     "end_time": "2022-04-20T20:11:17.362557",
     "exception": false,
     "start_time": "2022-04-20T20:11:17.321113",
     "status": "completed"
    },
    "tags": []
   },
   "outputs": [
    {
     "data": {
      "text/plain": [
       "((10000, 28, 28), (10000,))"
      ]
     },
     "execution_count": 8,
     "metadata": {},
     "output_type": "execute_result"
    }
   ],
   "source": [
    "test_images.shape, test_labels.shape"
   ]
  },
  {
   "cell_type": "code",
   "execution_count": 9,
   "id": "f9ed8fe0",
   "metadata": {
    "execution": {
     "iopub.execute_input": "2022-04-20T20:11:17.427913Z",
     "iopub.status.busy": "2022-04-20T20:11:17.424549Z",
     "iopub.status.idle": "2022-04-20T20:11:17.556371Z",
     "shell.execute_reply": "2022-04-20T20:11:17.555913Z"
    },
    "papermill": {
     "duration": 0.168523,
     "end_time": "2022-04-20T20:11:17.556480",
     "exception": false,
     "start_time": "2022-04-20T20:11:17.387957",
     "status": "completed"
    },
    "tags": []
   },
   "outputs": [
    {
     "name": "stdout",
     "output_type": "stream",
     "text": [
      "2\n"
     ]
    },
    {
     "data": {
      "text/plain": [
       "<matplotlib.image.AxesImage at 0x7fde80228358>"
      ]
     },
     "execution_count": 9,
     "metadata": {},
     "output_type": "execute_result"
    },
    {
     "data": {
      "image/png": "[encoded data removed]",
      "text/plain": [
       "<Figure size 432x288 with 1 Axes>"
      ]
     },
     "metadata": {
      "needs_background": "light"
     },
     "output_type": "display_data"
    }
   ],
   "source": [
    "image_index = 7776 # You may select anything up to 60,000\n",
    "print(train_labels[image_index]) \n",
    "plt.imshow(train_images[image_index], cmap='Greys')"
   ]
  },
  {
   "cell_type": "markdown",
   "id": "a8d2388d",
   "metadata": {
    "papermill": {
     "duration": 0.026159,
     "end_time": "2022-04-20T20:11:17.609003",
     "exception": false,
     "start_time": "2022-04-20T20:11:17.582844",
     "status": "completed"
    },
    "tags": []
   },
   "source": [
    "## Filter data to get 3 and 8 out"
   ]
  },
  {
   "cell_type": "code",
   "execution_count": 10,
   "id": "776f7fc7",
   "metadata": {
    "execution": {
     "iopub.execute_input": "2022-04-20T20:11:17.679364Z",
     "iopub.status.busy": "2022-04-20T20:11:17.675490Z",
     "iopub.status.idle": "2022-04-20T20:11:17.687693Z",
     "shell.execute_reply": "2022-04-20T20:11:17.687262Z"
    },
    "papermill": {
     "duration": 0.05245,
     "end_time": "2022-04-20T20:11:17.687796",
     "exception": false,
     "start_time": "2022-04-20T20:11:17.635346",
     "status": "completed"
    },
    "tags": []
   },
   "outputs": [],
   "source": [
    "train_filter = np.where((train_labels == 3 ) | (train_labels == 8))\n",
    "test_filter = np.where((test_labels == 3) | (test_labels == 8))\n",
    "X_train, y_train = train_images[train_filter], train_labels[train_filter]\n",
    "X_test, y_test = test_images[test_filter], test_labels[test_filter]"
   ]
  },
  {
   "cell_type": "markdown",
   "id": "948f0b7e",
   "metadata": {
    "papermill": {
     "duration": 0.026139,
     "end_time": "2022-04-20T20:11:17.740213",
     "exception": false,
     "start_time": "2022-04-20T20:11:17.714074",
     "status": "completed"
    },
    "tags": []
   },
   "source": [
    "We normalize the pizel values in the 0 to 1 range"
   ]
  },
  {
   "cell_type": "code",
   "execution_count": 11,
   "id": "ee4c2166",
   "metadata": {
    "execution": {
     "iopub.execute_input": "2022-04-20T20:11:17.795662Z",
     "iopub.status.busy": "2022-04-20T20:11:17.795153Z",
     "iopub.status.idle": "2022-04-20T20:11:17.843372Z",
     "shell.execute_reply": "2022-04-20T20:11:17.843843Z"
    },
    "papermill": {
     "duration": 0.077631,
     "end_time": "2022-04-20T20:11:17.844015",
     "exception": false,
     "start_time": "2022-04-20T20:11:17.766384",
     "status": "completed"
    },
    "tags": []
   },
   "outputs": [],
   "source": [
    "X_train = X_train/255.\n",
    "X_test = X_test/255."
   ]
  },
  {
   "cell_type": "markdown",
   "id": "ddcf4fab",
   "metadata": {
    "papermill": {
     "duration": 0.026387,
     "end_time": "2022-04-20T20:11:17.897884",
     "exception": false,
     "start_time": "2022-04-20T20:11:17.871497",
     "status": "completed"
    },
    "tags": []
   },
   "source": [
    "And setup the labels as 1 (when the digit is 3) and 0 (when the digit is 8)"
   ]
  },
  {
   "cell_type": "code",
   "execution_count": 12,
   "id": "7dc908f2",
   "metadata": {
    "execution": {
     "iopub.execute_input": "2022-04-20T20:11:17.957276Z",
     "iopub.status.busy": "2022-04-20T20:11:17.956741Z",
     "iopub.status.idle": "2022-04-20T20:11:17.967484Z",
     "shell.execute_reply": "2022-04-20T20:11:17.967041Z"
    },
    "papermill": {
     "duration": 0.043379,
     "end_time": "2022-04-20T20:11:17.967588",
     "exception": false,
     "start_time": "2022-04-20T20:11:17.924209",
     "status": "completed"
    },
    "tags": []
   },
   "outputs": [],
   "source": [
    "y_train = 1*(y_train==3)\n",
    "y_test = 1*(y_test==3)"
   ]
  },
  {
   "cell_type": "code",
   "execution_count": 13,
   "id": "01e4e969",
   "metadata": {
    "execution": {
     "iopub.execute_input": "2022-04-20T20:11:18.027788Z",
     "iopub.status.busy": "2022-04-20T20:11:18.027285Z",
     "iopub.status.idle": "2022-04-20T20:11:18.037203Z",
     "shell.execute_reply": "2022-04-20T20:11:18.036801Z"
    },
    "papermill": {
     "duration": 0.043555,
     "end_time": "2022-04-20T20:11:18.037306",
     "exception": false,
     "start_time": "2022-04-20T20:11:17.993751",
     "status": "completed"
    },
    "tags": []
   },
   "outputs": [
    {
     "data": {
      "text/plain": [
       "((11982, 28, 28), (1984, 28, 28))"
      ]
     },
     "execution_count": 13,
     "metadata": {},
     "output_type": "execute_result"
    }
   ],
   "source": [
    "X_train.shape, X_test.shape"
   ]
  },
  {
   "cell_type": "markdown",
   "id": "5ccf3f85",
   "metadata": {
    "papermill": {
     "duration": 0.029795,
     "end_time": "2022-04-20T20:11:18.093481",
     "exception": false,
     "start_time": "2022-04-20T20:11:18.063686",
     "status": "completed"
    },
    "tags": []
   },
   "source": [
    "We reshape the data to flatten the image pixels into a set of features or co-variates:"
   ]
  },
  {
   "cell_type": "code",
   "execution_count": 14,
   "id": "5286a4a3",
   "metadata": {
    "execution": {
     "iopub.execute_input": "2022-04-20T20:11:18.151773Z",
     "iopub.status.busy": "2022-04-20T20:11:18.151270Z",
     "iopub.status.idle": "2022-04-20T20:11:18.163049Z",
     "shell.execute_reply": "2022-04-20T20:11:18.163430Z"
    },
    "papermill": {
     "duration": 0.043512,
     "end_time": "2022-04-20T20:11:18.163546",
     "exception": false,
     "start_time": "2022-04-20T20:11:18.120034",
     "status": "completed"
    },
    "tags": []
   },
   "outputs": [
    {
     "data": {
      "text/plain": [
       "((11982, 784), (1984, 784))"
      ]
     },
     "execution_count": 14,
     "metadata": {},
     "output_type": "execute_result"
    }
   ],
   "source": [
    "X_train = X_train.reshape(X_train.shape[0], -1)\n",
    "X_test = X_test.reshape(X_test.shape[0], -1)\n",
    "X_train.shape, X_test.shape"
   ]
  },
  {
   "cell_type": "code",
   "execution_count": 15,
   "id": "73c5f88a",
   "metadata": {
    "execution": {
     "iopub.execute_input": "2022-04-20T20:11:18.224712Z",
     "iopub.status.busy": "2022-04-20T20:11:18.224203Z",
     "iopub.status.idle": "2022-04-20T20:11:18.239650Z",
     "shell.execute_reply": "2022-04-20T20:11:18.240057Z"
    },
    "papermill": {
     "duration": 0.049865,
     "end_time": "2022-04-20T20:11:18.240168",
     "exception": false,
     "start_time": "2022-04-20T20:11:18.190303",
     "status": "completed"
    },
    "tags": []
   },
   "outputs": [],
   "source": [
    "#Impoting functions from 'Kudzu'\n",
    "from kudzu.model import Model\n",
    "from kudzu.train import Learner\n",
    "from kudzu.optim import GD\n",
    "from kudzu.data import Data, Sampler,Dataloader\n",
    "\n",
    "from kudzu.callbacks import AccCallback\n",
    "from kudzu.callbacks import ClfCallback\n",
    "\n",
    "from kudzu.loss import MSE\n",
    "\n",
    "from kudzu.layer import Sigmoid,Relu\n",
    "from kudzu.layer import Affine"
   ]
  },
  {
   "cell_type": "markdown",
   "id": "bc01172a",
   "metadata": {
    "papermill": {
     "duration": 0.026827,
     "end_time": "2022-04-20T20:11:18.293817",
     "exception": false,
     "start_time": "2022-04-20T20:11:18.266990",
     "status": "completed"
    },
    "tags": []
   },
   "source": [
    "### Let us create a `Config` class, to store important parameters. \n",
    "This class essentially plays the role of a dictionary."
   ]
  },
  {
   "cell_type": "code",
   "execution_count": 16,
   "id": "978281aa",
   "metadata": {
    "execution": {
     "iopub.execute_input": "2022-04-20T20:11:18.355997Z",
     "iopub.status.busy": "2022-04-20T20:11:18.355415Z",
     "iopub.status.idle": "2022-04-20T20:11:18.366159Z",
     "shell.execute_reply": "2022-04-20T20:11:18.365735Z"
    },
    "papermill": {
     "duration": 0.044816,
     "end_time": "2022-04-20T20:11:18.366255",
     "exception": false,
     "start_time": "2022-04-20T20:11:18.321439",
     "status": "completed"
    },
    "tags": []
   },
   "outputs": [],
   "source": [
    "class Config:\n",
    "    pass\n",
    "config = Config()\n",
    "config.lr = 0.001\n",
    "config.num_epochs = 250\n",
    "config.bs = 50"
   ]
  },
  {
   "cell_type": "markdown",
   "id": "1385fa59",
   "metadata": {
    "papermill": {
     "duration": 0.026771,
     "end_time": "2022-04-20T20:11:18.419880",
     "exception": false,
     "start_time": "2022-04-20T20:11:18.393109",
     "status": "completed"
    },
    "tags": []
   },
   "source": [
    "### Running Models with the Training data\n",
    "Details about the network layers:\n",
    "- A first affine layer has 784 inputs and does 100 affine transforms. These are followed by a Relu\n",
    "- A second affine layer has 100 inputs from the 100 activations of the past layer, and does 100 affine transforms. These are followed by a Relu\n",
    "- A third affine layer has 100 activations and does 2 affine transformations to create an embedding for visualization. There is no non-linearity here.\n",
    "- A final \"logistic regression\" which has an affine transform from 2 inputs to 1 output, which is squeezed through a sigmoid.\n"
   ]
  },
  {
   "cell_type": "code",
   "execution_count": 17,
   "id": "2b9c66db",
   "metadata": {
    "execution": {
     "iopub.execute_input": "2022-04-20T20:11:18.479995Z",
     "iopub.status.busy": "2022-04-20T20:11:18.479437Z",
     "iopub.status.idle": "2022-04-20T20:11:18.490309Z",
     "shell.execute_reply": "2022-04-20T20:11:18.490747Z"
    },
    "papermill": {
     "duration": 0.044118,
     "end_time": "2022-04-20T20:11:18.490863",
     "exception": false,
     "start_time": "2022-04-20T20:11:18.446745",
     "status": "completed"
    },
    "tags": []
   },
   "outputs": [],
   "source": [
    "data = Data(X_train, y_train.reshape(-1,1))\n",
    "sampler = Sampler(data, config.bs, shuffle=True)\n",
    "\n",
    "dl = Dataloader(data, sampler)\n",
    "\n",
    "opt = GD(config.lr)\n",
    "loss = MSE()"
   ]
  },
  {
   "cell_type": "code",
   "execution_count": 18,
   "id": "b275e4c2",
   "metadata": {
    "execution": {
     "iopub.execute_input": "2022-04-20T20:11:18.553454Z",
     "iopub.status.busy": "2022-04-20T20:11:18.552949Z",
     "iopub.status.idle": "2022-04-20T20:11:18.560478Z",
     "shell.execute_reply": "2022-04-20T20:11:18.560859Z"
    },
    "papermill": {
     "duration": 0.043322,
     "end_time": "2022-04-20T20:11:18.560972",
     "exception": false,
     "start_time": "2022-04-20T20:11:18.517650",
     "status": "completed"
    },
    "tags": []
   },
   "outputs": [],
   "source": [
    "training_data_x = X_train\n",
    "testing_data_x = X_test\n",
    "training_data_y = y_train.reshape(-1,1)\n",
    "testing_data_y = y_test.reshape(-1,1)"
   ]
  },
  {
   "cell_type": "code",
   "execution_count": 19,
   "id": "76951160",
   "metadata": {
    "execution": {
     "iopub.execute_input": "2022-04-20T20:11:18.619148Z",
     "iopub.status.busy": "2022-04-20T20:11:18.618602Z",
     "iopub.status.idle": "2022-04-20T20:11:18.632880Z",
     "shell.execute_reply": "2022-04-20T20:11:18.633314Z"
    },
    "papermill": {
     "duration": 0.045756,
     "end_time": "2022-04-20T20:11:18.633423",
     "exception": false,
     "start_time": "2022-04-20T20:11:18.587667",
     "status": "completed"
    },
    "tags": []
   },
   "outputs": [
    {
     "name": "stdout",
     "output_type": "stream",
     "text": [
      "xavier\n",
      "xavier\n",
      "xavier\n",
      "xavier\n",
      "xavier\n"
     ]
    }
   ],
   "source": [
    "layers = [Affine(\"first\", 784, 100), Relu(\"first\"), Affine(\"second\", 100, 100), Relu(\"second\"), Affine(\"third\", 100, 2), Affine(\"last\", 2, 1), Sigmoid(\"last\")]\n",
    "model_nn = Model(layers)\n",
    "model_lr = Model([Affine(\"logits\", 784, 1), Sigmoid(\"sigmoid\")])"
   ]
  },
  {
   "cell_type": "code",
   "execution_count": 20,
   "id": "6eede77a",
   "metadata": {
    "execution": {
     "iopub.execute_input": "2022-04-20T20:11:18.692883Z",
     "iopub.status.busy": "2022-04-20T20:11:18.692382Z",
     "iopub.status.idle": "2022-04-20T20:11:18.702115Z",
     "shell.execute_reply": "2022-04-20T20:11:18.702547Z"
    },
    "papermill": {
     "duration": 0.042186,
     "end_time": "2022-04-20T20:11:18.702679",
     "exception": false,
     "start_time": "2022-04-20T20:11:18.660493",
     "status": "completed"
    },
    "tags": []
   },
   "outputs": [],
   "source": [
    "nn_learner = Learner(loss, model_nn, opt, config.num_epochs)\n",
    "acc_nn = ClfCallback(nn_learner, config.bs, training_data_x , testing_data_x, training_data_y, testing_data_y)\n",
    "nn_learner.set_callbacks([acc_nn])"
   ]
  },
  {
   "cell_type": "code",
   "execution_count": 21,
   "id": "877b6cc7",
   "metadata": {
    "execution": {
     "iopub.execute_input": "2022-04-20T20:11:18.770988Z",
     "iopub.status.busy": "2022-04-20T20:11:18.765781Z",
     "iopub.status.idle": "2022-04-20T20:11:18.773116Z",
     "shell.execute_reply": "2022-04-20T20:11:18.772692Z"
    },
    "papermill": {
     "duration": 0.0435,
     "end_time": "2022-04-20T20:11:18.773213",
     "exception": false,
     "start_time": "2022-04-20T20:11:18.729713",
     "status": "completed"
    },
    "tags": []
   },
   "outputs": [],
   "source": [
    "lr_learner = Learner(loss, model_lr, opt, config.num_epochs)\n",
    "acc_lr = ClfCallback(lr_learner, config.bs, training_data_x , testing_data_x, training_data_y, testing_data_y)\n",
    "lr_learner.set_callbacks([acc_lr])"
   ]
  },
  {
   "cell_type": "code",
   "execution_count": 22,
   "id": "d9b133c3",
   "metadata": {
    "execution": {
     "iopub.execute_input": "2022-04-20T20:11:18.839376Z",
     "iopub.status.busy": "2022-04-20T20:11:18.835804Z",
     "iopub.status.idle": "2022-04-20T20:12:34.020186Z",
     "shell.execute_reply": "2022-04-20T20:12:34.020929Z"
    },
    "papermill": {
     "duration": 75.220762,
     "end_time": "2022-04-20T20:12:34.021084",
     "exception": false,
     "start_time": "2022-04-20T20:11:18.800322",
     "status": "completed"
    },
    "tags": []
   },
   "outputs": [
    {
     "name": "stdout",
     "output_type": "stream",
     "text": [
      "Epoch 0, Loss 0.2293\n",
      "Training Accuracy: 0.7448, Testing Accuracy: 0.7550\n",
      "\n"
     ]
    },
    {
     "name": "stdout",
     "output_type": "stream",
     "text": [
      "Epoch 10, Loss 0.0669\n",
      "Training Accuracy: 0.9326, Testing Accuracy: 0.9430\n",
      "\n"
     ]
    },
    {
     "name": "stdout",
     "output_type": "stream",
     "text": [
      "Epoch 20, Loss 0.0454\n",
      "Training Accuracy: 0.9529, Testing Accuracy: 0.9622\n",
      "\n"
     ]
    },
    {
     "name": "stdout",
     "output_type": "stream",
     "text": [
      "Epoch 30, Loss 0.0374\n",
      "Training Accuracy: 0.9593, Testing Accuracy: 0.9682\n",
      "\n"
     ]
    },
    {
     "name": "stdout",
     "output_type": "stream",
     "text": [
      "Epoch 40, Loss 0.033\n",
      "Training Accuracy: 0.9639, Testing Accuracy: 0.9698\n",
      "\n"
     ]
    },
    {
     "name": "stdout",
     "output_type": "stream",
     "text": [
      "Epoch 50, Loss 0.0302\n",
      "Training Accuracy: 0.9665, Testing Accuracy: 0.9713\n",
      "\n"
     ]
    },
    {
     "name": "stdout",
     "output_type": "stream",
     "text": [
      "Epoch 60, Loss 0.0282\n",
      "Training Accuracy: 0.9688, Testing Accuracy: 0.9708\n",
      "\n"
     ]
    },
    {
     "name": "stdout",
     "output_type": "stream",
     "text": [
      "Epoch 70, Loss 0.0267\n",
      "Training Accuracy: 0.9700, Testing Accuracy: 0.9708\n",
      "\n"
     ]
    },
    {
     "name": "stdout",
     "output_type": "stream",
     "text": [
      "Epoch 80, Loss 0.0255\n",
      "Training Accuracy: 0.9711, Testing Accuracy: 0.9708\n",
      "\n"
     ]
    },
    {
     "name": "stdout",
     "output_type": "stream",
     "text": [
      "Epoch 90, Loss 0.0244\n",
      "Training Accuracy: 0.9725, Testing Accuracy: 0.9708\n",
      "\n"
     ]
    },
    {
     "name": "stdout",
     "output_type": "stream",
     "text": [
      "Epoch 100, Loss 0.0235\n",
      "Training Accuracy: 0.9742, Testing Accuracy: 0.9708\n",
      "\n"
     ]
    },
    {
     "name": "stdout",
     "output_type": "stream",
     "text": [
      "Epoch 110, Loss 0.0227\n",
      "Training Accuracy: 0.9747, Testing Accuracy: 0.9718\n",
      "\n"
     ]
    },
    {
     "name": "stdout",
     "output_type": "stream",
     "text": [
      "Epoch 120, Loss 0.022\n",
      "Training Accuracy: 0.9755, Testing Accuracy: 0.9723\n",
      "\n"
     ]
    },
    {
     "name": "stdout",
     "output_type": "stream",
     "text": [
      "Epoch 130, Loss 0.0213\n",
      "Training Accuracy: 0.9767, Testing Accuracy: 0.9733\n",
      "\n"
     ]
    },
    {
     "name": "stdout",
     "output_type": "stream",
     "text": [
      "Epoch 140, Loss 0.0207\n",
      "Training Accuracy: 0.9772, Testing Accuracy: 0.9738\n",
      "\n"
     ]
    },
    {
     "name": "stdout",
     "output_type": "stream",
     "text": [
      "Epoch 150, Loss 0.0202\n",
      "Training Accuracy: 0.9778, Testing Accuracy: 0.9733\n",
      "\n"
     ]
    },
    {
     "name": "stdout",
     "output_type": "stream",
     "text": [
      "Epoch 160, Loss 0.0196\n",
      "Training Accuracy: 0.9783, Testing Accuracy: 0.9738\n",
      "\n"
     ]
    },
    {
     "name": "stdout",
     "output_type": "stream",
     "text": [
      "Epoch 170, Loss 0.0192\n",
      "Training Accuracy: 0.9787, Testing Accuracy: 0.9743\n",
      "\n"
     ]
    },
    {
     "name": "stdout",
     "output_type": "stream",
     "text": [
      "Epoch 180, Loss 0.0187\n",
      "Training Accuracy: 0.9791, Testing Accuracy: 0.9748\n",
      "\n"
     ]
    },
    {
     "name": "stdout",
     "output_type": "stream",
     "text": [
      "Epoch 190, Loss 0.0182\n",
      "Training Accuracy: 0.9796, Testing Accuracy: 0.9748\n",
      "\n"
     ]
    },
    {
     "name": "stdout",
     "output_type": "stream",
     "text": [
      "Epoch 200, Loss 0.0178\n",
      "Training Accuracy: 0.9801, Testing Accuracy: 0.9748\n",
      "\n"
     ]
    },
    {
     "name": "stdout",
     "output_type": "stream",
     "text": [
      "Epoch 210, Loss 0.0174\n",
      "Training Accuracy: 0.9805, Testing Accuracy: 0.9753\n",
      "\n"
     ]
    },
    {
     "name": "stdout",
     "output_type": "stream",
     "text": [
      "Epoch 220, Loss 0.017\n",
      "Training Accuracy: 0.9809, Testing Accuracy: 0.9763\n",
      "\n"
     ]
    },
    {
     "name": "stdout",
     "output_type": "stream",
     "text": [
      "Epoch 230, Loss 0.0167\n",
      "Training Accuracy: 0.9811, Testing Accuracy: 0.9773\n",
      "\n"
     ]
    },
    {
     "name": "stdout",
     "output_type": "stream",
     "text": [
      "Epoch 240, Loss 0.0163\n",
      "Training Accuracy: 0.9815, Testing Accuracy: 0.9768\n",
      "\n"
     ]
    },
    {
     "data": {
      "text/plain": [
       "0.022567323893205857"
      ]
     },
     "execution_count": 22,
     "metadata": {},
     "output_type": "execute_result"
    }
   ],
   "source": [
    "nn_learner.train_loop(dl)"
   ]
  },
  {
   "cell_type": "code",
   "execution_count": 23,
   "id": "e0163366",
   "metadata": {
    "execution": {
     "iopub.execute_input": "2022-04-20T20:12:34.102464Z",
     "iopub.status.busy": "2022-04-20T20:12:34.101955Z",
     "iopub.status.idle": "2022-04-20T20:12:47.561419Z",
     "shell.execute_reply": "2022-04-20T20:12:47.562156Z"
    },
    "papermill": {
     "duration": 13.506311,
     "end_time": "2022-04-20T20:12:47.562311",
     "exception": false,
     "start_time": "2022-04-20T20:12:34.056000",
     "status": "completed"
    },
    "tags": []
   },
   "outputs": [
    {
     "name": "stdout",
     "output_type": "stream",
     "text": [
      "Epoch 0, Loss 0.2297\n",
      "Training Accuracy: 0.7173, Testing Accuracy: 0.7329\n",
      "\n"
     ]
    },
    {
     "name": "stdout",
     "output_type": "stream",
     "text": [
      "Epoch 10, Loss 0.1044\n",
      "Training Accuracy: 0.9064, Testing Accuracy: 0.9138\n",
      "\n"
     ]
    },
    {
     "name": "stdout",
     "output_type": "stream",
     "text": [
      "Epoch 20, Loss 0.0802\n",
      "Training Accuracy: 0.9273, Testing Accuracy: 0.9355\n",
      "\n"
     ]
    },
    {
     "name": "stdout",
     "output_type": "stream",
     "text": [
      "Epoch 30, Loss 0.069\n",
      "Training Accuracy: 0.9339, Testing Accuracy: 0.9446\n",
      "\n"
     ]
    },
    {
     "name": "stdout",
     "output_type": "stream",
     "text": [
      "Epoch 40, Loss 0.0622\n",
      "Training Accuracy: 0.9387, Testing Accuracy: 0.9526\n",
      "\n"
     ]
    },
    {
     "name": "stdout",
     "output_type": "stream",
     "text": [
      "Epoch 50, Loss 0.0576\n",
      "Training Accuracy: 0.9425, Testing Accuracy: 0.9546\n",
      "\n"
     ]
    },
    {
     "name": "stdout",
     "output_type": "stream",
     "text": [
      "Epoch 60, Loss 0.0542\n",
      "Training Accuracy: 0.9453, Testing Accuracy: 0.9561\n",
      "\n"
     ]
    },
    {
     "name": "stdout",
     "output_type": "stream",
     "text": [
      "Epoch 70, Loss 0.0516\n",
      "Training Accuracy: 0.9471, Testing Accuracy: 0.9577\n",
      "\n"
     ]
    },
    {
     "name": "stdout",
     "output_type": "stream",
     "text": [
      "Epoch 80, Loss 0.0495\n",
      "Training Accuracy: 0.9490, Testing Accuracy: 0.9597\n",
      "\n"
     ]
    },
    {
     "name": "stdout",
     "output_type": "stream",
     "text": [
      "Epoch 90, Loss 0.0478\n",
      "Training Accuracy: 0.9508, Testing Accuracy: 0.9617\n",
      "\n"
     ]
    },
    {
     "name": "stdout",
     "output_type": "stream",
     "text": [
      "Epoch 100, Loss 0.0464\n",
      "Training Accuracy: 0.9525, Testing Accuracy: 0.9622\n",
      "\n"
     ]
    },
    {
     "name": "stdout",
     "output_type": "stream",
     "text": [
      "Epoch 110, Loss 0.0451\n",
      "Training Accuracy: 0.9537, Testing Accuracy: 0.9632\n",
      "\n"
     ]
    },
    {
     "name": "stdout",
     "output_type": "stream",
     "text": [
      "Epoch 120, Loss 0.044\n",
      "Training Accuracy: 0.9545, Testing Accuracy: 0.9637\n",
      "\n"
     ]
    },
    {
     "name": "stdout",
     "output_type": "stream",
     "text": [
      "Epoch 130, Loss 0.0431\n",
      "Training Accuracy: 0.9555, Testing Accuracy: 0.9632\n",
      "\n"
     ]
    },
    {
     "name": "stdout",
     "output_type": "stream",
     "text": [
      "Epoch 140, Loss 0.0423\n",
      "Training Accuracy: 0.9559, Testing Accuracy: 0.9632\n",
      "\n"
     ]
    },
    {
     "name": "stdout",
     "output_type": "stream",
     "text": [
      "Epoch 150, Loss 0.0415\n",
      "Training Accuracy: 0.9563, Testing Accuracy: 0.9632\n",
      "\n"
     ]
    },
    {
     "name": "stdout",
     "output_type": "stream",
     "text": [
      "Epoch 160, Loss 0.0408\n",
      "Training Accuracy: 0.9567, Testing Accuracy: 0.9632\n",
      "\n"
     ]
    },
    {
     "name": "stdout",
     "output_type": "stream",
     "text": [
      "Epoch 170, Loss 0.0402\n",
      "Training Accuracy: 0.9569, Testing Accuracy: 0.9637\n",
      "\n"
     ]
    },
    {
     "name": "stdout",
     "output_type": "stream",
     "text": [
      "Epoch 180, Loss 0.0396\n",
      "Training Accuracy: 0.9574, Testing Accuracy: 0.9657\n",
      "\n"
     ]
    },
    {
     "name": "stdout",
     "output_type": "stream",
     "text": [
      "Epoch 190, Loss 0.0391\n",
      "Training Accuracy: 0.9580, Testing Accuracy: 0.9657\n",
      "\n"
     ]
    },
    {
     "name": "stdout",
     "output_type": "stream",
     "text": [
      "Epoch 200, Loss 0.0386\n",
      "Training Accuracy: 0.9586, Testing Accuracy: 0.9662\n",
      "\n"
     ]
    },
    {
     "name": "stdout",
     "output_type": "stream",
     "text": [
      "Epoch 210, Loss 0.0382\n",
      "Training Accuracy: 0.9592, Testing Accuracy: 0.9667\n",
      "\n"
     ]
    },
    {
     "name": "stdout",
     "output_type": "stream",
     "text": [
      "Epoch 220, Loss 0.0378\n",
      "Training Accuracy: 0.9596, Testing Accuracy: 0.9667\n",
      "\n"
     ]
    },
    {
     "name": "stdout",
     "output_type": "stream",
     "text": [
      "Epoch 230, Loss 0.0374\n",
      "Training Accuracy: 0.9603, Testing Accuracy: 0.9672\n",
      "\n"
     ]
    },
    {
     "name": "stdout",
     "output_type": "stream",
     "text": [
      "Epoch 240, Loss 0.037\n",
      "Training Accuracy: 0.9609, Testing Accuracy: 0.9677\n",
      "\n"
     ]
    },
    {
     "data": {
      "text/plain": [
       "0.03304079476809013"
      ]
     },
     "execution_count": 23,
     "metadata": {},
     "output_type": "execute_result"
    }
   ],
   "source": [
    "lr_learner.train_loop(dl)"
   ]
  },
  {
   "cell_type": "code",
   "execution_count": 24,
   "id": "ca410940",
   "metadata": {
    "execution": {
     "iopub.execute_input": "2022-04-20T20:12:47.655889Z",
     "iopub.status.busy": "2022-04-20T20:12:47.655375Z",
     "iopub.status.idle": "2022-04-20T20:12:47.873742Z",
     "shell.execute_reply": "2022-04-20T20:12:47.873244Z"
    },
    "papermill": {
     "duration": 0.270189,
     "end_time": "2022-04-20T20:12:47.873882",
     "exception": false,
     "start_time": "2022-04-20T20:12:47.603693",
     "status": "completed"
    },
    "tags": []
   },
   "outputs": [
    {
     "data": {
      "text/plain": [
       "<matplotlib.legend.Legend at 0x7fde7fe04b00>"
      ]
     },
     "execution_count": 24,
     "metadata": {},
     "output_type": "execute_result"
    },
    {
     "data": {
      "image/png": "[encoded data removed]",
      "text/plain": [
       "<Figure size 1080x720 with 1 Axes>"
      ]
     },
     "metadata": {
      "needs_background": "light"
     },
     "output_type": "display_data"
    }
   ],
   "source": [
    "#comparing the results of NN and LR\n",
    "plt.figure(figsize=(15,10))\n",
    "\n",
    "# Neural Network plots\n",
    "plt.plot(acc_nn.accuracies, 'r-', label = \"Training Accuracies - NN\")\n",
    "plt.plot(acc_nn.test_accuracies, 'g-', label = \"Testing Accuracies - NN\")\n",
    "\n",
    "# Logistic Regression plots\n",
    "plt.plot(acc_lr.accuracies, 'k-', label = \"Training Accuracies - LR\")\n",
    "plt.plot(acc_lr.test_accuracies, 'b-', label = \"Testing Accuracies - LR\")\n",
    "plt.legend()"
   ]
  },
  {
   "cell_type": "markdown",
   "id": "80dfb35c",
   "metadata": {
    "papermill": {
     "duration": 0.042472,
     "end_time": "2022-04-20T20:12:47.959596",
     "exception": false,
     "start_time": "2022-04-20T20:12:47.917124",
     "status": "completed"
    },
    "tags": []
   },
   "source": [
    "#### Plotting the outputs of this layer of the NN.\n"
   ]
  },
  {
   "cell_type": "code",
   "execution_count": 25,
   "id": "45eb2ff5",
   "metadata": {
    "execution": {
     "iopub.execute_input": "2022-04-20T20:12:48.049909Z",
     "iopub.status.busy": "2022-04-20T20:12:48.049377Z",
     "iopub.status.idle": "2022-04-20T20:12:48.068625Z",
     "shell.execute_reply": "2022-04-20T20:12:48.069260Z"
    },
    "papermill": {
     "duration": 0.067824,
     "end_time": "2022-04-20T20:12:48.069394",
     "exception": false,
     "start_time": "2022-04-20T20:12:48.001570",
     "status": "completed"
    },
    "tags": []
   },
   "outputs": [],
   "source": [
    "new_model = Model(layers[:-2])\n",
    "testing_plot = new_model(testing_data_x)"
   ]
  },
  {
   "cell_type": "code",
   "execution_count": 26,
   "id": "4c0a5485",
   "metadata": {
    "execution": {
     "iopub.execute_input": "2022-04-20T20:12:48.167792Z",
     "iopub.status.busy": "2022-04-20T20:12:48.167286Z",
     "iopub.status.idle": "2022-04-20T20:12:48.377076Z",
     "shell.execute_reply": "2022-04-20T20:12:48.377465Z"
    },
    "papermill": {
     "duration": 0.265276,
     "end_time": "2022-04-20T20:12:48.377605",
     "exception": false,
     "start_time": "2022-04-20T20:12:48.112329",
     "status": "completed"
    },
    "tags": []
   },
   "outputs": [
    {
     "data": {
      "text/plain": [
       "Text(0.5, 1.0, 'Outputs')"
      ]
     },
     "execution_count": 26,
     "metadata": {},
     "output_type": "execute_result"
    },
    {
     "data": {
      "image/png": "[encoded data removed]",
      "text/plain": [
       "<Figure size 576x504 with 1 Axes>"
      ]
     },
     "metadata": {
      "needs_background": "light"
     },
     "output_type": "display_data"
    }
   ],
   "source": [
    "# Plotting the scatter plot of points and color coding by class\n",
    "plt.figure(figsize=(8,7))\n",
    "plt.scatter(testing_plot[:,0], testing_plot[:,1], alpha = 0.1, c = y_test.ravel());\n",
    "plt.title('Outputs')"
   ]
  },
  {
   "cell_type": "markdown",
   "id": "a74fcf8f",
   "metadata": {
    "papermill": {
     "duration": 0.045578,
     "end_time": "2022-04-20T20:12:48.468841",
     "exception": false,
     "start_time": "2022-04-20T20:12:48.423263",
     "status": "completed"
    },
    "tags": []
   },
   "source": [
    "Probability contours"
   ]
  },
  {
   "cell_type": "code",
   "execution_count": 27,
   "id": "d0afc8e3",
   "metadata": {
    "execution": {
     "iopub.execute_input": "2022-04-20T20:12:48.564434Z",
     "iopub.status.busy": "2022-04-20T20:12:48.563892Z",
     "iopub.status.idle": "2022-04-20T20:12:48.575649Z",
     "shell.execute_reply": "2022-04-20T20:12:48.576054Z"
    },
    "papermill": {
     "duration": 0.061706,
     "end_time": "2022-04-20T20:12:48.576180",
     "exception": false,
     "start_time": "2022-04-20T20:12:48.514474",
     "status": "completed"
    },
    "tags": []
   },
   "outputs": [],
   "source": [
    "model_prob = Model(layers[-2:]) "
   ]
  },
  {
   "cell_type": "code",
   "execution_count": 28,
   "id": "9b96e238",
   "metadata": {
    "execution": {
     "iopub.execute_input": "2022-04-20T20:12:48.715977Z",
     "iopub.status.busy": "2022-04-20T20:12:48.711393Z",
     "iopub.status.idle": "2022-04-20T20:12:48.717544Z",
     "shell.execute_reply": "2022-04-20T20:12:48.718268Z"
    },
    "papermill": {
     "duration": 0.067899,
     "end_time": "2022-04-20T20:12:48.718396",
     "exception": false,
     "start_time": "2022-04-20T20:12:48.650497",
     "status": "completed"
    },
    "tags": []
   },
   "outputs": [],
   "source": [
    "#creating the x and y ranges according to the above generated plot.\n",
    "x_range = np.linspace(-4, 1, 100) \n",
    "y_range = np.linspace(-6, 6, 100) \n",
    "x_grid, y_grid = np.meshgrid(x_range, y_range) # x_grid and y_grig are of size 100 X 100\n",
    "\n",
    "# converting x_grid and y_grid to continuous arrays\n",
    "x_gridflat = np.ravel(x_grid)\n",
    "y_gridflat = np.ravel(y_grid)\n",
    "\n",
    "# The last layer of the current model takes two columns as input. Hence transpose of np.vstack() is required.\n",
    "X = np.vstack((x_gridflat, y_gridflat)).T\n",
    "\n",
    "prob_contour = model_prob(X).reshape(100,100) "
   ]
  },
  {
   "cell_type": "code",
   "execution_count": 29,
   "id": "da72499a",
   "metadata": {
    "execution": {
     "iopub.execute_input": "2022-04-20T20:12:48.823847Z",
     "iopub.status.busy": "2022-04-20T20:12:48.823353Z",
     "iopub.status.idle": "2022-04-20T20:12:49.056916Z",
     "shell.execute_reply": "2022-04-20T20:12:49.057440Z"
    },
    "papermill": {
     "duration": 0.293063,
     "end_time": "2022-04-20T20:12:49.057604",
     "exception": false,
     "start_time": "2022-04-20T20:12:48.764541",
     "status": "completed"
    },
    "tags": []
   },
   "outputs": [
    {
     "data": {
      "image/png": "[encoded data removed]",
      "text/plain": [
       "<Figure size 720x648 with 1 Axes>"
      ]
     },
     "metadata": {
      "needs_background": "light"
     },
     "output_type": "display_data"
    }
   ],
   "source": [
    "plt.figure(figsize=(10,9))\n",
    "plt.scatter(testing_plot[:,0], testing_plot[:,1], alpha = 0.1, c = y_test.ravel())\n",
    "contours = plt.contour(x_grid,y_grid,prob_contour)\n",
    "plt.title('Probability Contours')\n",
    "plt.clabel(contours, inline = True );"
   ]
  },
  {
   "cell_type": "code",
   "execution_count": null,
   "id": "e81b4ac7",
   "metadata": {
    "papermill": {
     "duration": 0.047658,
     "end_time": "2022-04-20T20:12:49.154374",
     "exception": false,
     "start_time": "2022-04-20T20:12:49.106716",
     "status": "completed"
    },
    "tags": []
   },
   "outputs": [],
   "source": []
  }
 ],
 "metadata": {
  "kernelspec": {
   "display_name": "Python 3",
   "language": "python",
   "name": "python3"
  },
  "language_info": {
   "codemirror_mode": {
    "name": "ipython",
    "version": 3
   },
   "file_extension": ".py",
   "mimetype": "text/x-python",
   "name": "python",
   "nbconvert_exporter": "python",
   "pygments_lexer": "ipython3",
   "version": "3.6.15"
  },
  "papermill": {
   "default_parameters": {},
   "duration": 96.743765,
   "end_time": "2022-04-20T20:12:49.620158",
   "environment_variables": {},
   "exception": null,
   "input_path": "2020-08-11-part2.ipynb",
   "output_path": "2020-08-11-part2.ipynb",
   "parameters": {},
   "start_time": "2022-04-20T20:11:12.876393",
   "version": "2.3.3"
  }
 },
 "nbformat": 4,
 "nbformat_minor": 5
}