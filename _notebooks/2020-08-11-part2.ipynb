{
 "cells": [
  {
   "cell_type": "markdown",
   "id": "98380cd3",
   "metadata": {
    "papermill": {
     "duration": 0.034324,
     "end_time": "2022-09-14T00:46:31.901489",
     "exception": false,
     "start_time": "2022-09-14T00:46:31.867165",
     "status": "completed"
    },
    "tags": []
   },
   "source": [
    "# Distinguish Your Own Digits (DYOD)"
   ]
  },
  {
   "cell_type": "markdown",
   "id": "ef31240d",
   "metadata": {
    "papermill": {
     "duration": 0.026631,
     "end_time": "2022-09-14T00:46:31.955464",
     "exception": false,
     "start_time": "2022-09-14T00:46:31.928833",
     "status": "completed"
    },
    "tags": []
   },
   "source": [
    "You are going to write a classifier that distinguishes between the number 3 and number 8."
   ]
  },
  {
   "cell_type": "code",
   "execution_count": 1,
   "id": "b15c8646",
   "metadata": {
    "execution": {
     "iopub.execute_input": "2022-09-14T00:46:32.021562Z",
     "iopub.status.busy": "2022-09-14T00:46:32.020847Z",
     "iopub.status.idle": "2022-09-14T00:46:32.033335Z",
     "shell.execute_reply": "2022-09-14T00:46:32.032667Z"
    },
    "papermill": {
     "duration": 0.051714,
     "end_time": "2022-09-14T00:46:32.033475",
     "exception": false,
     "start_time": "2022-09-14T00:46:31.981761",
     "status": "completed"
    },
    "tags": []
   },
   "outputs": [],
   "source": [
    "%load_ext autoreload\n",
    "%autoreload 2"
   ]
  },
  {
   "cell_type": "code",
   "execution_count": 2,
   "id": "22ef38dc",
   "metadata": {
    "execution": {
     "iopub.execute_input": "2022-09-14T00:46:32.093171Z",
     "iopub.status.busy": "2022-09-14T00:46:32.092486Z",
     "iopub.status.idle": "2022-09-14T00:46:32.707165Z",
     "shell.execute_reply": "2022-09-14T00:46:32.706567Z"
    },
    "papermill": {
     "duration": 0.647615,
     "end_time": "2022-09-14T00:46:32.707295",
     "exception": false,
     "start_time": "2022-09-14T00:46:32.059680",
     "status": "completed"
    },
    "tags": []
   },
   "outputs": [],
   "source": [
    "%matplotlib inline\n",
    "import numpy as np\n",
    "import matplotlib.pyplot as plt\n",
    "import pandas as pd"
   ]
  },
  {
   "cell_type": "markdown",
   "id": "ba036198",
   "metadata": {
    "papermill": {
     "duration": 0.026555,
     "end_time": "2022-09-14T00:46:32.760735",
     "exception": false,
     "start_time": "2022-09-14T00:46:32.734180",
     "status": "completed"
    },
    "tags": []
   },
   "source": [
    "From the command line run `pip install mnist`. This is a library that will help you bring down the mnist dataset. If you run this from a notebook, you need to put  `!pip install mnist` in a cell by itself."
   ]
  },
  {
   "cell_type": "code",
   "execution_count": 3,
   "id": "bb6ad8a1",
   "metadata": {
    "execution": {
     "iopub.execute_input": "2022-09-14T00:46:32.817953Z",
     "iopub.status.busy": "2022-09-14T00:46:32.817283Z",
     "iopub.status.idle": "2022-09-14T00:46:34.726027Z",
     "shell.execute_reply": "2022-09-14T00:46:34.724859Z"
    },
    "papermill": {
     "duration": 1.939613,
     "end_time": "2022-09-14T00:46:34.726180",
     "exception": false,
     "start_time": "2022-09-14T00:46:32.786567",
     "status": "completed"
    },
    "tags": []
   },
   "outputs": [
    {
     "name": "stdout",
     "output_type": "stream",
     "text": [
      "Collecting mnist\r\n"
     ]
    },
    {
     "name": "stdout",
     "output_type": "stream",
     "text": [
      "  Downloading mnist-0.2.2-py2.py3-none-any.whl (3.5 kB)\r\n",
      "Requirement already satisfied: numpy in /opt/hostedtoolcache/Python/3.6.15/x64/lib/python3.6/site-packages (from mnist) (1.19.5)\r\n"
     ]
    },
    {
     "name": "stdout",
     "output_type": "stream",
     "text": [
      "Installing collected packages: mnist\r\n"
     ]
    },
    {
     "name": "stdout",
     "output_type": "stream",
     "text": [
      "Successfully installed mnist-0.2.2\r\n"
     ]
    }
   ],
   "source": [
    "!pip install mnist"
   ]
  },
  {
   "cell_type": "markdown",
   "id": "69df9c9a",
   "metadata": {
    "papermill": {
     "duration": 0.027565,
     "end_time": "2022-09-14T00:46:34.780736",
     "exception": false,
     "start_time": "2022-09-14T00:46:34.753171",
     "status": "completed"
    },
    "tags": []
   },
   "source": [
    "## Preparing the Data"
   ]
  },
  {
   "cell_type": "code",
   "execution_count": 4,
   "id": "7f69d806",
   "metadata": {
    "execution": {
     "iopub.execute_input": "2022-09-14T00:46:34.842178Z",
     "iopub.status.busy": "2022-09-14T00:46:34.841490Z",
     "iopub.status.idle": "2022-09-14T00:46:34.861116Z",
     "shell.execute_reply": "2022-09-14T00:46:34.860358Z"
    },
    "papermill": {
     "duration": 0.052638,
     "end_time": "2022-09-14T00:46:34.861287",
     "exception": false,
     "start_time": "2022-09-14T00:46:34.808649",
     "status": "completed"
    },
    "tags": []
   },
   "outputs": [],
   "source": [
    "import mnist"
   ]
  },
  {
   "cell_type": "code",
   "execution_count": 5,
   "id": "a411e44f",
   "metadata": {
    "execution": {
     "iopub.execute_input": "2022-09-14T00:46:34.921754Z",
     "iopub.status.busy": "2022-09-14T00:46:34.921023Z",
     "iopub.status.idle": "2022-09-14T00:46:35.609029Z",
     "shell.execute_reply": "2022-09-14T00:46:35.607601Z"
    },
    "papermill": {
     "duration": 0.7186,
     "end_time": "2022-09-14T00:46:35.609174",
     "exception": false,
     "start_time": "2022-09-14T00:46:34.890574",
     "status": "completed"
    },
    "tags": []
   },
   "outputs": [],
   "source": [
    "train_images = mnist.train_images()\n",
    "train_labels = mnist.train_labels()"
   ]
  },
  {
   "cell_type": "code",
   "execution_count": 6,
   "id": "dceab3a5",
   "metadata": {
    "execution": {
     "iopub.execute_input": "2022-09-14T00:46:35.670793Z",
     "iopub.status.busy": "2022-09-14T00:46:35.669502Z",
     "iopub.status.idle": "2022-09-14T00:46:35.685734Z",
     "shell.execute_reply": "2022-09-14T00:46:35.685029Z"
    },
    "papermill": {
     "duration": 0.049285,
     "end_time": "2022-09-14T00:46:35.685878",
     "exception": false,
     "start_time": "2022-09-14T00:46:35.636593",
     "status": "completed"
    },
    "tags": []
   },
   "outputs": [
    {
     "data": {
      "text/plain": [
       "((60000, 28, 28), (60000,))"
      ]
     },
     "execution_count": 6,
     "metadata": {},
     "output_type": "execute_result"
    }
   ],
   "source": [
    "train_images.shape, train_labels.shape"
   ]
  },
  {
   "cell_type": "code",
   "execution_count": 7,
   "id": "f50dc2bb",
   "metadata": {
    "execution": {
     "iopub.execute_input": "2022-09-14T00:46:35.747652Z",
     "iopub.status.busy": "2022-09-14T00:46:35.746963Z",
     "iopub.status.idle": "2022-09-14T00:46:36.102977Z",
     "shell.execute_reply": "2022-09-14T00:46:36.102222Z"
    },
    "papermill": {
     "duration": 0.389256,
     "end_time": "2022-09-14T00:46:36.103116",
     "exception": false,
     "start_time": "2022-09-14T00:46:35.713860",
     "status": "completed"
    },
    "tags": []
   },
   "outputs": [],
   "source": [
    "test_images = mnist.test_images()\n",
    "test_labels = mnist.test_labels()"
   ]
  },
  {
   "cell_type": "code",
   "execution_count": 8,
   "id": "fc38cf1b",
   "metadata": {
    "execution": {
     "iopub.execute_input": "2022-09-14T00:46:36.163326Z",
     "iopub.status.busy": "2022-09-14T00:46:36.162664Z",
     "iopub.status.idle": "2022-09-14T00:46:36.177142Z",
     "shell.execute_reply": "2022-09-14T00:46:36.176588Z"
    },
    "papermill": {
     "duration": 0.045925,
     "end_time": "2022-09-14T00:46:36.177262",
     "exception": false,
     "start_time": "2022-09-14T00:46:36.131337",
     "status": "completed"
    },
    "tags": []
   },
   "outputs": [
    {
     "data": {
      "text/plain": [
       "((10000, 28, 28), (10000,))"
      ]
     },
     "execution_count": 8,
     "metadata": {},
     "output_type": "execute_result"
    }
   ],
   "source": [
    "test_images.shape, test_labels.shape"
   ]
  },
  {
   "cell_type": "code",
   "execution_count": 9,
   "id": "f9ed8fe0",
   "metadata": {
    "execution": {
     "iopub.execute_input": "2022-09-14T00:46:36.238144Z",
     "iopub.status.busy": "2022-09-14T00:46:36.237402Z",
     "iopub.status.idle": "2022-09-14T00:46:36.398154Z",
     "shell.execute_reply": "2022-09-14T00:46:36.397597Z"
    },
    "papermill": {
     "duration": 0.19366,
     "end_time": "2022-09-14T00:46:36.398293",
     "exception": false,
     "start_time": "2022-09-14T00:46:36.204633",
     "status": "completed"
    },
    "tags": []
   },
   "outputs": [
    {
     "name": "stdout",
     "output_type": "stream",
     "text": [
      "2\n"
     ]
    },
    {
     "data": {
      "text/plain": [
       "<matplotlib.image.AxesImage at 0x7fc3f2d59c88>"
      ]
     },
     "execution_count": 9,
     "metadata": {},
     "output_type": "execute_result"
    },
    {
     "data": {
      "image/png": "[encoded data removed]",
      "text/plain": [
       "<Figure size 432x288 with 1 Axes>"
      ]
     },
     "metadata": {
      "needs_background": "light"
     },
     "output_type": "display_data"
    }
   ],
   "source": [
    "image_index = 7776 # You may select anything up to 60,000\n",
    "print(train_labels[image_index]) \n",
    "plt.imshow(train_images[image_index], cmap='Greys')"
   ]
  },
  {
   "cell_type": "markdown",
   "id": "a8d2388d",
   "metadata": {
    "papermill": {
     "duration": 0.028871,
     "end_time": "2022-09-14T00:46:36.455944",
     "exception": false,
     "start_time": "2022-09-14T00:46:36.427073",
     "status": "completed"
    },
    "tags": []
   },
   "source": [
    "## Filter data to get 3 and 8 out"
   ]
  },
  {
   "cell_type": "code",
   "execution_count": 10,
   "id": "776f7fc7",
   "metadata": {
    "execution": {
     "iopub.execute_input": "2022-09-14T00:46:36.522601Z",
     "iopub.status.busy": "2022-09-14T00:46:36.520298Z",
     "iopub.status.idle": "2022-09-14T00:46:36.541932Z",
     "shell.execute_reply": "2022-09-14T00:46:36.541256Z"
    },
    "papermill": {
     "duration": 0.056674,
     "end_time": "2022-09-14T00:46:36.542086",
     "exception": false,
     "start_time": "2022-09-14T00:46:36.485412",
     "status": "completed"
    },
    "tags": []
   },
   "outputs": [],
   "source": [
    "train_filter = np.where((train_labels == 3 ) | (train_labels == 8))\n",
    "test_filter = np.where((test_labels == 3) | (test_labels == 8))\n",
    "X_train, y_train = train_images[train_filter], train_labels[train_filter]\n",
    "X_test, y_test = test_images[test_filter], test_labels[test_filter]"
   ]
  },
  {
   "cell_type": "markdown",
   "id": "948f0b7e",
   "metadata": {
    "papermill": {
     "duration": 0.029508,
     "end_time": "2022-09-14T00:46:36.601372",
     "exception": false,
     "start_time": "2022-09-14T00:46:36.571864",
     "status": "completed"
    },
    "tags": []
   },
   "source": [
    "We normalize the pizel values in the 0 to 1 range"
   ]
  },
  {
   "cell_type": "code",
   "execution_count": 11,
   "id": "ee4c2166",
   "metadata": {
    "execution": {
     "iopub.execute_input": "2022-09-14T00:46:36.674900Z",
     "iopub.status.busy": "2022-09-14T00:46:36.666535Z",
     "iopub.status.idle": "2022-09-14T00:46:36.722268Z",
     "shell.execute_reply": "2022-09-14T00:46:36.721592Z"
    },
    "papermill": {
     "duration": 0.09116,
     "end_time": "2022-09-14T00:46:36.722412",
     "exception": false,
     "start_time": "2022-09-14T00:46:36.631252",
     "status": "completed"
    },
    "tags": []
   },
   "outputs": [],
   "source": [
    "X_train = X_train/255.\n",
    "X_test = X_test/255."
   ]
  },
  {
   "cell_type": "markdown",
   "id": "ddcf4fab",
   "metadata": {
    "papermill": {
     "duration": 0.029625,
     "end_time": "2022-09-14T00:46:36.781879",
     "exception": false,
     "start_time": "2022-09-14T00:46:36.752254",
     "status": "completed"
    },
    "tags": []
   },
   "source": [
    "And setup the labels as 1 (when the digit is 3) and 0 (when the digit is 8)"
   ]
  },
  {
   "cell_type": "code",
   "execution_count": 12,
   "id": "7dc908f2",
   "metadata": {
    "execution": {
     "iopub.execute_input": "2022-09-14T00:46:36.850093Z",
     "iopub.status.busy": "2022-09-14T00:46:36.849015Z",
     "iopub.status.idle": "2022-09-14T00:46:36.861257Z",
     "shell.execute_reply": "2022-09-14T00:46:36.860728Z"
    },
    "papermill": {
     "duration": 0.050097,
     "end_time": "2022-09-14T00:46:36.861385",
     "exception": false,
     "start_time": "2022-09-14T00:46:36.811288",
     "status": "completed"
    },
    "tags": []
   },
   "outputs": [],
   "source": [
    "y_train = 1*(y_train==3)\n",
    "y_test = 1*(y_test==3)"
   ]
  },
  {
   "cell_type": "code",
   "execution_count": 13,
   "id": "01e4e969",
   "metadata": {
    "execution": {
     "iopub.execute_input": "2022-09-14T00:46:36.927487Z",
     "iopub.status.busy": "2022-09-14T00:46:36.926795Z",
     "iopub.status.idle": "2022-09-14T00:46:36.940795Z",
     "shell.execute_reply": "2022-09-14T00:46:36.940127Z"
    },
    "papermill": {
     "duration": 0.050645,
     "end_time": "2022-09-14T00:46:36.940928",
     "exception": false,
     "start_time": "2022-09-14T00:46:36.890283",
     "status": "completed"
    },
    "tags": []
   },
   "outputs": [
    {
     "data": {
      "text/plain": [
       "((11982, 28, 28), (1984, 28, 28))"
      ]
     },
     "execution_count": 13,
     "metadata": {},
     "output_type": "execute_result"
    }
   ],
   "source": [
    "X_train.shape, X_test.shape"
   ]
  },
  {
   "cell_type": "markdown",
   "id": "5ccf3f85",
   "metadata": {
    "papermill": {
     "duration": 0.029255,
     "end_time": "2022-09-14T00:46:36.998506",
     "exception": false,
     "start_time": "2022-09-14T00:46:36.969251",
     "status": "completed"
    },
    "tags": []
   },
   "source": [
    "We reshape the data to flatten the image pixels into a set of features or co-variates:"
   ]
  },
  {
   "cell_type": "code",
   "execution_count": 14,
   "id": "5286a4a3",
   "metadata": {
    "execution": {
     "iopub.execute_input": "2022-09-14T00:46:37.074732Z",
     "iopub.status.busy": "2022-09-14T00:46:37.068981Z",
     "iopub.status.idle": "2022-09-14T00:46:37.081954Z",
     "shell.execute_reply": "2022-09-14T00:46:37.082461Z"
    },
    "papermill": {
     "duration": 0.054323,
     "end_time": "2022-09-14T00:46:37.082619",
     "exception": false,
     "start_time": "2022-09-14T00:46:37.028296",
     "status": "completed"
    },
    "tags": []
   },
   "outputs": [
    {
     "data": {
      "text/plain": [
       "((11982, 784), (1984, 784))"
      ]
     },
     "execution_count": 14,
     "metadata": {},
     "output_type": "execute_result"
    }
   ],
   "source": [
    "X_train = X_train.reshape(X_train.shape[0], -1)\n",
    "X_test = X_test.reshape(X_test.shape[0], -1)\n",
    "X_train.shape, X_test.shape"
   ]
  },
  {
   "cell_type": "code",
   "execution_count": 15,
   "id": "73c5f88a",
   "metadata": {
    "execution": {
     "iopub.execute_input": "2022-09-14T00:46:37.150793Z",
     "iopub.status.busy": "2022-09-14T00:46:37.145612Z",
     "iopub.status.idle": "2022-09-14T00:46:37.167534Z",
     "shell.execute_reply": "2022-09-14T00:46:37.166629Z"
    },
    "papermill": {
     "duration": 0.055625,
     "end_time": "2022-09-14T00:46:37.167671",
     "exception": false,
     "start_time": "2022-09-14T00:46:37.112046",
     "status": "completed"
    },
    "tags": []
   },
   "outputs": [],
   "source": [
    "#Impoting functions from 'Kudzu'\n",
    "from kudzu.model import Model\n",
    "from kudzu.train import Learner\n",
    "from kudzu.optim import GD\n",
    "from kudzu.data import Data, Sampler,Dataloader\n",
    "\n",
    "from kudzu.callbacks import AccCallback\n",
    "from kudzu.callbacks import ClfCallback\n",
    "\n",
    "from kudzu.loss import MSE\n",
    "\n",
    "from kudzu.layer import Sigmoid,Relu\n",
    "from kudzu.layer import Affine"
   ]
  },
  {
   "cell_type": "markdown",
   "id": "bc01172a",
   "metadata": {
    "papermill": {
     "duration": 0.030336,
     "end_time": "2022-09-14T00:46:37.228582",
     "exception": false,
     "start_time": "2022-09-14T00:46:37.198246",
     "status": "completed"
    },
    "tags": []
   },
   "source": [
    "### Let us create a `Config` class, to store important parameters. \n",
    "This class essentially plays the role of a dictionary."
   ]
  },
  {
   "cell_type": "code",
   "execution_count": 16,
   "id": "978281aa",
   "metadata": {
    "execution": {
     "iopub.execute_input": "2022-09-14T00:46:37.295376Z",
     "iopub.status.busy": "2022-09-14T00:46:37.294682Z",
     "iopub.status.idle": "2022-09-14T00:46:37.310878Z",
     "shell.execute_reply": "2022-09-14T00:46:37.310351Z"
    },
    "papermill": {
     "duration": 0.053046,
     "end_time": "2022-09-14T00:46:37.311001",
     "exception": false,
     "start_time": "2022-09-14T00:46:37.257955",
     "status": "completed"
    },
    "tags": []
   },
   "outputs": [],
   "source": [
    "class Config:\n",
    "    pass\n",
    "config = Config()\n",
    "config.lr = 0.001\n",
    "config.num_epochs = 250\n",
    "config.bs = 50"
   ]
  },
  {
   "cell_type": "markdown",
   "id": "1385fa59",
   "metadata": {
    "papermill": {
     "duration": 0.029218,
     "end_time": "2022-09-14T00:46:37.369120",
     "exception": false,
     "start_time": "2022-09-14T00:46:37.339902",
     "status": "completed"
    },
    "tags": []
   },
   "source": [
    "### Running Models with the Training data\n",
    "Details about the network layers:\n",
    "- A first affine layer has 784 inputs and does 100 affine transforms. These are followed by a Relu\n",
    "- A second affine layer has 100 inputs from the 100 activations of the past layer, and does 100 affine transforms. These are followed by a Relu\n",
    "- A third affine layer has 100 activations and does 2 affine transformations to create an embedding for visualization. There is no non-linearity here.\n",
    "- A final \"logistic regression\" which has an affine transform from 2 inputs to 1 output, which is squeezed through a sigmoid.\n"
   ]
  },
  {
   "cell_type": "code",
   "execution_count": 17,
   "id": "2b9c66db",
   "metadata": {
    "execution": {
     "iopub.execute_input": "2022-09-14T00:46:37.433954Z",
     "iopub.status.busy": "2022-09-14T00:46:37.433221Z",
     "iopub.status.idle": "2022-09-14T00:46:37.447307Z",
     "shell.execute_reply": "2022-09-14T00:46:37.446665Z"
    },
    "papermill": {
     "duration": 0.048867,
     "end_time": "2022-09-14T00:46:37.447427",
     "exception": false,
     "start_time": "2022-09-14T00:46:37.398560",
     "status": "completed"
    },
    "tags": []
   },
   "outputs": [],
   "source": [
    "data = Data(X_train, y_train.reshape(-1,1))\n",
    "sampler = Sampler(data, config.bs, shuffle=True)\n",
    "\n",
    "dl = Dataloader(data, sampler)\n",
    "\n",
    "opt = GD(config.lr)\n",
    "loss = MSE()"
   ]
  },
  {
   "cell_type": "code",
   "execution_count": 18,
   "id": "b275e4c2",
   "metadata": {
    "execution": {
     "iopub.execute_input": "2022-09-14T00:46:37.514013Z",
     "iopub.status.busy": "2022-09-14T00:46:37.513299Z",
     "iopub.status.idle": "2022-09-14T00:46:37.526486Z",
     "shell.execute_reply": "2022-09-14T00:46:37.525948Z"
    },
    "papermill": {
     "duration": 0.049648,
     "end_time": "2022-09-14T00:46:37.526611",
     "exception": false,
     "start_time": "2022-09-14T00:46:37.476963",
     "status": "completed"
    },
    "tags": []
   },
   "outputs": [],
   "source": [
    "training_data_x = X_train\n",
    "testing_data_x = X_test\n",
    "training_data_y = y_train.reshape(-1,1)\n",
    "testing_data_y = y_test.reshape(-1,1)"
   ]
  },
  {
   "cell_type": "code",
   "execution_count": 19,
   "id": "76951160",
   "metadata": {
    "execution": {
     "iopub.execute_input": "2022-09-14T00:46:37.591021Z",
     "iopub.status.busy": "2022-09-14T00:46:37.590328Z",
     "iopub.status.idle": "2022-09-14T00:46:37.610494Z",
     "shell.execute_reply": "2022-09-14T00:46:37.609823Z"
    },
    "papermill": {
     "duration": 0.055257,
     "end_time": "2022-09-14T00:46:37.610625",
     "exception": false,
     "start_time": "2022-09-14T00:46:37.555368",
     "status": "completed"
    },
    "tags": []
   },
   "outputs": [
    {
     "name": "stdout",
     "output_type": "stream",
     "text": [
      "xavier\n",
      "xavier\n",
      "xavier\n",
      "xavier\n",
      "xavier\n"
     ]
    }
   ],
   "source": [
    "layers = [Affine(\"first\", 784, 100), Relu(\"first\"), Affine(\"second\", 100, 100), Relu(\"second\"), Affine(\"third\", 100, 2), Affine(\"last\", 2, 1), Sigmoid(\"last\")]\n",
    "model_nn = Model(layers)\n",
    "model_lr = Model([Affine(\"logits\", 784, 1), Sigmoid(\"sigmoid\")])"
   ]
  },
  {
   "cell_type": "code",
   "execution_count": 20,
   "id": "6eede77a",
   "metadata": {
    "execution": {
     "iopub.execute_input": "2022-09-14T00:46:37.674867Z",
     "iopub.status.busy": "2022-09-14T00:46:37.674237Z",
     "iopub.status.idle": "2022-09-14T00:46:37.687940Z",
     "shell.execute_reply": "2022-09-14T00:46:37.687277Z"
    },
    "papermill": {
     "duration": 0.047614,
     "end_time": "2022-09-14T00:46:37.688073",
     "exception": false,
     "start_time": "2022-09-14T00:46:37.640459",
     "status": "completed"
    },
    "tags": []
   },
   "outputs": [],
   "source": [
    "nn_learner = Learner(loss, model_nn, opt, config.num_epochs)\n",
    "acc_nn = ClfCallback(nn_learner, config.bs, training_data_x , testing_data_x, training_data_y, testing_data_y)\n",
    "nn_learner.set_callbacks([acc_nn])"
   ]
  },
  {
   "cell_type": "code",
   "execution_count": 21,
   "id": "877b6cc7",
   "metadata": {
    "execution": {
     "iopub.execute_input": "2022-09-14T00:46:37.753634Z",
     "iopub.status.busy": "2022-09-14T00:46:37.752950Z",
     "iopub.status.idle": "2022-09-14T00:46:37.769320Z",
     "shell.execute_reply": "2022-09-14T00:46:37.768650Z"
    },
    "papermill": {
     "duration": 0.052177,
     "end_time": "2022-09-14T00:46:37.769452",
     "exception": false,
     "start_time": "2022-09-14T00:46:37.717275",
     "status": "completed"
    },
    "tags": []
   },
   "outputs": [],
   "source": [
    "lr_learner = Learner(loss, model_lr, opt, config.num_epochs)\n",
    "acc_lr = ClfCallback(lr_learner, config.bs, training_data_x , testing_data_x, training_data_y, testing_data_y)\n",
    "lr_learner.set_callbacks([acc_lr])"
   ]
  },
  {
   "cell_type": "code",
   "execution_count": 22,
   "id": "d9b133c3",
   "metadata": {
    "execution": {
     "iopub.execute_input": "2022-09-14T00:46:37.835030Z",
     "iopub.status.busy": "2022-09-14T00:46:37.834337Z",
     "iopub.status.idle": "2022-09-14T00:48:00.641702Z",
     "shell.execute_reply": "2022-09-14T00:48:00.642688Z"
    },
    "papermill": {
     "duration": 82.843609,
     "end_time": "2022-09-14T00:48:00.642854",
     "exception": false,
     "start_time": "2022-09-14T00:46:37.799245",
     "status": "completed"
    },
    "tags": []
   },
   "outputs": [
    {
     "name": "stdout",
     "output_type": "stream",
     "text": [
      "Epoch 0, Loss 0.252\n",
      "Training Accuracy: 0.5299, Testing Accuracy: 0.5242\n",
      "\n"
     ]
    },
    {
     "name": "stdout",
     "output_type": "stream",
     "text": [
      "Epoch 10, Loss 0.1859\n",
      "Training Accuracy: 0.8912, Testing Accuracy: 0.9057\n",
      "\n"
     ]
    },
    {
     "name": "stdout",
     "output_type": "stream",
     "text": [
      "Epoch 20, Loss 0.0888\n",
      "Training Accuracy: 0.9166, Testing Accuracy: 0.9325\n",
      "\n"
     ]
    },
    {
     "name": "stdout",
     "output_type": "stream",
     "text": [
      "Epoch 30, Loss 0.0585\n",
      "Training Accuracy: 0.9361, Testing Accuracy: 0.9476\n",
      "\n"
     ]
    },
    {
     "name": "stdout",
     "output_type": "stream",
     "text": [
      "Epoch 40, Loss 0.0466\n",
      "Training Accuracy: 0.9473, Testing Accuracy: 0.9572\n",
      "\n"
     ]
    },
    {
     "name": "stdout",
     "output_type": "stream",
     "text": [
      "Epoch 50, Loss 0.0403\n",
      "Training Accuracy: 0.9531, Testing Accuracy: 0.9637\n",
      "\n"
     ]
    },
    {
     "name": "stdout",
     "output_type": "stream",
     "text": [
      "Epoch 60, Loss 0.0364\n",
      "Training Accuracy: 0.9571, Testing Accuracy: 0.9652\n",
      "\n"
     ]
    },
    {
     "name": "stdout",
     "output_type": "stream",
     "text": [
      "Epoch 70, Loss 0.0337\n",
      "Training Accuracy: 0.9598, Testing Accuracy: 0.9682\n",
      "\n"
     ]
    },
    {
     "name": "stdout",
     "output_type": "stream",
     "text": [
      "Epoch 80, Loss 0.0317\n",
      "Training Accuracy: 0.9627, Testing Accuracy: 0.9688\n",
      "\n"
     ]
    },
    {
     "name": "stdout",
     "output_type": "stream",
     "text": [
      "Epoch 90, Loss 0.0301\n",
      "Training Accuracy: 0.9649, Testing Accuracy: 0.9693\n",
      "\n"
     ]
    },
    {
     "name": "stdout",
     "output_type": "stream",
     "text": [
      "Epoch 100, Loss 0.0288\n",
      "Training Accuracy: 0.9669, Testing Accuracy: 0.9698\n",
      "\n"
     ]
    },
    {
     "name": "stdout",
     "output_type": "stream",
     "text": [
      "Epoch 110, Loss 0.0277\n",
      "Training Accuracy: 0.9680, Testing Accuracy: 0.9693\n",
      "\n"
     ]
    },
    {
     "name": "stdout",
     "output_type": "stream",
     "text": [
      "Epoch 120, Loss 0.0267\n",
      "Training Accuracy: 0.9691, Testing Accuracy: 0.9708\n",
      "\n"
     ]
    },
    {
     "name": "stdout",
     "output_type": "stream",
     "text": [
      "Epoch 130, Loss 0.0259\n",
      "Training Accuracy: 0.9697, Testing Accuracy: 0.9703\n",
      "\n"
     ]
    },
    {
     "name": "stdout",
     "output_type": "stream",
     "text": [
      "Epoch 140, Loss 0.0251\n",
      "Training Accuracy: 0.9710, Testing Accuracy: 0.9718\n",
      "\n"
     ]
    },
    {
     "name": "stdout",
     "output_type": "stream",
     "text": [
      "Epoch 150, Loss 0.0244\n",
      "Training Accuracy: 0.9715, Testing Accuracy: 0.9728\n",
      "\n"
     ]
    },
    {
     "name": "stdout",
     "output_type": "stream",
     "text": [
      "Epoch 160, Loss 0.0238\n",
      "Training Accuracy: 0.9725, Testing Accuracy: 0.9733\n",
      "\n"
     ]
    },
    {
     "name": "stdout",
     "output_type": "stream",
     "text": [
      "Epoch 170, Loss 0.0232\n",
      "Training Accuracy: 0.9730, Testing Accuracy: 0.9728\n",
      "\n"
     ]
    },
    {
     "name": "stdout",
     "output_type": "stream",
     "text": [
      "Epoch 180, Loss 0.0227\n",
      "Training Accuracy: 0.9736, Testing Accuracy: 0.9723\n",
      "\n"
     ]
    },
    {
     "name": "stdout",
     "output_type": "stream",
     "text": [
      "Epoch 190, Loss 0.0222\n",
      "Training Accuracy: 0.9745, Testing Accuracy: 0.9733\n",
      "\n"
     ]
    },
    {
     "name": "stdout",
     "output_type": "stream",
     "text": [
      "Epoch 200, Loss 0.0217\n",
      "Training Accuracy: 0.9753, Testing Accuracy: 0.9738\n",
      "\n"
     ]
    },
    {
     "name": "stdout",
     "output_type": "stream",
     "text": [
      "Epoch 210, Loss 0.0212\n",
      "Training Accuracy: 0.9760, Testing Accuracy: 0.9738\n",
      "\n"
     ]
    },
    {
     "name": "stdout",
     "output_type": "stream",
     "text": [
      "Epoch 220, Loss 0.0208\n",
      "Training Accuracy: 0.9766, Testing Accuracy: 0.9748\n",
      "\n"
     ]
    },
    {
     "name": "stdout",
     "output_type": "stream",
     "text": [
      "Epoch 230, Loss 0.0204\n",
      "Training Accuracy: 0.9774, Testing Accuracy: 0.9748\n",
      "\n"
     ]
    },
    {
     "name": "stdout",
     "output_type": "stream",
     "text": [
      "Epoch 240, Loss 0.02\n",
      "Training Accuracy: 0.9777, Testing Accuracy: 0.9758\n",
      "\n"
     ]
    },
    {
     "data": {
      "text/plain": [
       "0.00498209549384965"
      ]
     },
     "execution_count": 22,
     "metadata": {},
     "output_type": "execute_result"
    }
   ],
   "source": [
    "nn_learner.train_loop(dl)"
   ]
  },
  {
   "cell_type": "code",
   "execution_count": 23,
   "id": "e0163366",
   "metadata": {
    "execution": {
     "iopub.execute_input": "2022-09-14T00:48:00.729373Z",
     "iopub.status.busy": "2022-09-14T00:48:00.728767Z",
     "iopub.status.idle": "2022-09-14T00:48:15.275777Z",
     "shell.execute_reply": "2022-09-14T00:48:15.276767Z"
    },
    "papermill": {
     "duration": 14.597455,
     "end_time": "2022-09-14T00:48:15.276934",
     "exception": false,
     "start_time": "2022-09-14T00:48:00.679479",
     "status": "completed"
    },
    "tags": []
   },
   "outputs": [
    {
     "name": "stdout",
     "output_type": "stream",
     "text": [
      "Epoch 0, Loss 0.2306\n",
      "Training Accuracy: 0.7177, Testing Accuracy: 0.7102\n",
      "\n"
     ]
    },
    {
     "name": "stdout",
     "output_type": "stream",
     "text": [
      "Epoch 10, Loss 0.1003\n",
      "Training Accuracy: 0.9100, Testing Accuracy: 0.9209\n",
      "\n"
     ]
    },
    {
     "name": "stdout",
     "output_type": "stream",
     "text": [
      "Epoch 20, Loss 0.0776\n",
      "Training Accuracy: 0.9281, Testing Accuracy: 0.9360\n",
      "\n"
     ]
    },
    {
     "name": "stdout",
     "output_type": "stream",
     "text": [
      "Epoch 30, Loss 0.0673\n",
      "Training Accuracy: 0.9364, Testing Accuracy: 0.9441\n",
      "\n"
     ]
    },
    {
     "name": "stdout",
     "output_type": "stream",
     "text": [
      "Epoch 40, Loss 0.061\n",
      "Training Accuracy: 0.9414, Testing Accuracy: 0.9506\n",
      "\n"
     ]
    },
    {
     "name": "stdout",
     "output_type": "stream",
     "text": [
      "Epoch 50, Loss 0.0567\n",
      "Training Accuracy: 0.9448, Testing Accuracy: 0.9521\n",
      "\n"
     ]
    },
    {
     "name": "stdout",
     "output_type": "stream",
     "text": [
      "Epoch 60, Loss 0.0535\n",
      "Training Accuracy: 0.9466, Testing Accuracy: 0.9551\n",
      "\n"
     ]
    },
    {
     "name": "stdout",
     "output_type": "stream",
     "text": [
      "Epoch 70, Loss 0.051\n",
      "Training Accuracy: 0.9479, Testing Accuracy: 0.9587\n",
      "\n"
     ]
    },
    {
     "name": "stdout",
     "output_type": "stream",
     "text": [
      "Epoch 80, Loss 0.0491\n",
      "Training Accuracy: 0.9506, Testing Accuracy: 0.9607\n",
      "\n"
     ]
    },
    {
     "name": "stdout",
     "output_type": "stream",
     "text": [
      "Epoch 90, Loss 0.0474\n",
      "Training Accuracy: 0.9521, Testing Accuracy: 0.9612\n",
      "\n"
     ]
    },
    {
     "name": "stdout",
     "output_type": "stream",
     "text": [
      "Epoch 100, Loss 0.046\n",
      "Training Accuracy: 0.9533, Testing Accuracy: 0.9622\n",
      "\n"
     ]
    },
    {
     "name": "stdout",
     "output_type": "stream",
     "text": [
      "Epoch 110, Loss 0.0448\n",
      "Training Accuracy: 0.9544, Testing Accuracy: 0.9622\n",
      "\n"
     ]
    },
    {
     "name": "stdout",
     "output_type": "stream",
     "text": [
      "Epoch 120, Loss 0.0438\n",
      "Training Accuracy: 0.9551, Testing Accuracy: 0.9637\n",
      "\n"
     ]
    },
    {
     "name": "stdout",
     "output_type": "stream",
     "text": [
      "Epoch 130, Loss 0.0429\n",
      "Training Accuracy: 0.9558, Testing Accuracy: 0.9647\n",
      "\n"
     ]
    },
    {
     "name": "stdout",
     "output_type": "stream",
     "text": [
      "Epoch 140, Loss 0.0421\n",
      "Training Accuracy: 0.9565, Testing Accuracy: 0.9642\n",
      "\n"
     ]
    },
    {
     "name": "stdout",
     "output_type": "stream",
     "text": [
      "Epoch 150, Loss 0.0413\n",
      "Training Accuracy: 0.9574, Testing Accuracy: 0.9642\n",
      "\n"
     ]
    },
    {
     "name": "stdout",
     "output_type": "stream",
     "text": [
      "Epoch 160, Loss 0.0407\n",
      "Training Accuracy: 0.9583, Testing Accuracy: 0.9652\n",
      "\n"
     ]
    },
    {
     "name": "stdout",
     "output_type": "stream",
     "text": [
      "Epoch 170, Loss 0.0401\n",
      "Training Accuracy: 0.9589, Testing Accuracy: 0.9657\n",
      "\n"
     ]
    },
    {
     "name": "stdout",
     "output_type": "stream",
     "text": [
      "Epoch 180, Loss 0.0395\n",
      "Training Accuracy: 0.9593, Testing Accuracy: 0.9652\n",
      "\n"
     ]
    },
    {
     "name": "stdout",
     "output_type": "stream",
     "text": [
      "Epoch 190, Loss 0.039\n",
      "Training Accuracy: 0.9595, Testing Accuracy: 0.9662\n",
      "\n"
     ]
    },
    {
     "name": "stdout",
     "output_type": "stream",
     "text": [
      "Epoch 200, Loss 0.0385\n",
      "Training Accuracy: 0.9599, Testing Accuracy: 0.9667\n",
      "\n"
     ]
    },
    {
     "name": "stdout",
     "output_type": "stream",
     "text": [
      "Epoch 210, Loss 0.0381\n",
      "Training Accuracy: 0.9599, Testing Accuracy: 0.9667\n",
      "\n"
     ]
    },
    {
     "name": "stdout",
     "output_type": "stream",
     "text": [
      "Epoch 220, Loss 0.0377\n",
      "Training Accuracy: 0.9605, Testing Accuracy: 0.9667\n",
      "\n"
     ]
    },
    {
     "name": "stdout",
     "output_type": "stream",
     "text": [
      "Epoch 230, Loss 0.0373\n",
      "Training Accuracy: 0.9607, Testing Accuracy: 0.9672\n",
      "\n"
     ]
    },
    {
     "name": "stdout",
     "output_type": "stream",
     "text": [
      "Epoch 240, Loss 0.0369\n",
      "Training Accuracy: 0.9609, Testing Accuracy: 0.9667\n",
      "\n"
     ]
    },
    {
     "data": {
      "text/plain": [
       "0.022989613439347634"
      ]
     },
     "execution_count": 23,
     "metadata": {},
     "output_type": "execute_result"
    }
   ],
   "source": [
    "lr_learner.train_loop(dl)"
   ]
  },
  {
   "cell_type": "code",
   "execution_count": 24,
   "id": "ca410940",
   "metadata": {
    "execution": {
     "iopub.execute_input": "2022-09-14T00:48:15.375736Z",
     "iopub.status.busy": "2022-09-14T00:48:15.375075Z",
     "iopub.status.idle": "2022-09-14T00:48:15.609405Z",
     "shell.execute_reply": "2022-09-14T00:48:15.608285Z"
    },
    "papermill": {
     "duration": 0.288378,
     "end_time": "2022-09-14T00:48:15.609576",
     "exception": false,
     "start_time": "2022-09-14T00:48:15.321198",
     "status": "completed"
    },
    "tags": []
   },
   "outputs": [
    {
     "data": {
      "text/plain": [
       "<matplotlib.legend.Legend at 0x7fc3f28c82e8>"
      ]
     },
     "execution_count": 24,
     "metadata": {},
     "output_type": "execute_result"
    },
    {
     "data": {
      "image/png": "[encoded data removed]",
      "text/plain": [
       "<Figure size 1080x720 with 1 Axes>"
      ]
     },
     "metadata": {
      "needs_background": "light"
     },
     "output_type": "display_data"
    }
   ],
   "source": [
    "#comparing the results of NN and LR\n",
    "plt.figure(figsize=(15,10))\n",
    "\n",
    "# Neural Network plots\n",
    "plt.plot(acc_nn.accuracies, 'r-', label = \"Training Accuracies - NN\")\n",
    "plt.plot(acc_nn.test_accuracies, 'g-', label = \"Testing Accuracies - NN\")\n",
    "\n",
    "# Logistic Regression plots\n",
    "plt.plot(acc_lr.accuracies, 'k-', label = \"Training Accuracies - LR\")\n",
    "plt.plot(acc_lr.test_accuracies, 'b-', label = \"Testing Accuracies - LR\")\n",
    "plt.legend()"
   ]
  },
  {
   "cell_type": "markdown",
   "id": "80dfb35c",
   "metadata": {
    "papermill": {
     "duration": 0.042337,
     "end_time": "2022-09-14T00:48:15.694732",
     "exception": false,
     "start_time": "2022-09-14T00:48:15.652395",
     "status": "completed"
    },
    "tags": []
   },
   "source": [
    "#### Plotting the outputs of this layer of the NN.\n"
   ]
  },
  {
   "cell_type": "code",
   "execution_count": 25,
   "id": "45eb2ff5",
   "metadata": {
    "execution": {
     "iopub.execute_input": "2022-09-14T00:48:15.788541Z",
     "iopub.status.busy": "2022-09-14T00:48:15.786085Z",
     "iopub.status.idle": "2022-09-14T00:48:15.806966Z",
     "shell.execute_reply": "2022-09-14T00:48:15.807404Z"
    },
    "papermill": {
     "duration": 0.07043,
     "end_time": "2022-09-14T00:48:15.807533",
     "exception": false,
     "start_time": "2022-09-14T00:48:15.737103",
     "status": "completed"
    },
    "tags": []
   },
   "outputs": [],
   "source": [
    "new_model = Model(layers[:-2])\n",
    "testing_plot = new_model(testing_data_x)"
   ]
  },
  {
   "cell_type": "code",
   "execution_count": 26,
   "id": "4c0a5485",
   "metadata": {
    "execution": {
     "iopub.execute_input": "2022-09-14T00:48:15.899277Z",
     "iopub.status.busy": "2022-09-14T00:48:15.898620Z",
     "iopub.status.idle": "2022-09-14T00:48:16.136457Z",
     "shell.execute_reply": "2022-09-14T00:48:16.135936Z"
    },
    "papermill": {
     "duration": 0.286455,
     "end_time": "2022-09-14T00:48:16.136575",
     "exception": false,
     "start_time": "2022-09-14T00:48:15.850120",
     "status": "completed"
    },
    "tags": []
   },
   "outputs": [
    {
     "data": {
      "text/plain": [
       "Text(0.5, 1.0, 'Outputs')"
      ]
     },
     "execution_count": 26,
     "metadata": {},
     "output_type": "execute_result"
    },
    {
     "data": {
      "image/png": "[encoded data removed]",
      "text/plain": [
       "<Figure size 576x504 with 1 Axes>"
      ]
     },
     "metadata": {
      "needs_background": "light"
     },
     "output_type": "display_data"
    }
   ],
   "source": [
    "# Plotting the scatter plot of points and color coding by class\n",
    "plt.figure(figsize=(8,7))\n",
    "plt.scatter(testing_plot[:,0], testing_plot[:,1], alpha = 0.1, c = y_test.ravel());\n",
    "plt.title('Outputs')"
   ]
  },
  {
   "cell_type": "markdown",
   "id": "a74fcf8f",
   "metadata": {
    "papermill": {
     "duration": 0.0472,
     "end_time": "2022-09-14T00:48:16.230876",
     "exception": false,
     "start_time": "2022-09-14T00:48:16.183676",
     "status": "completed"
    },
    "tags": []
   },
   "source": [
    "Probability contours"
   ]
  },
  {
   "cell_type": "code",
   "execution_count": 27,
   "id": "d0afc8e3",
   "metadata": {
    "execution": {
     "iopub.execute_input": "2022-09-14T00:48:16.362545Z",
     "iopub.status.busy": "2022-09-14T00:48:16.360689Z",
     "iopub.status.idle": "2022-09-14T00:48:16.373506Z",
     "shell.execute_reply": "2022-09-14T00:48:16.374069Z"
    },
    "papermill": {
     "duration": 0.06824,
     "end_time": "2022-09-14T00:48:16.374226",
     "exception": false,
     "start_time": "2022-09-14T00:48:16.305986",
     "status": "completed"
    },
    "tags": []
   },
   "outputs": [],
   "source": [
    "model_prob = Model(layers[-2:]) "
   ]
  },
  {
   "cell_type": "code",
   "execution_count": 28,
   "id": "9b96e238",
   "metadata": {
    "execution": {
     "iopub.execute_input": "2022-09-14T00:48:16.473457Z",
     "iopub.status.busy": "2022-09-14T00:48:16.472818Z",
     "iopub.status.idle": "2022-09-14T00:48:16.486525Z",
     "shell.execute_reply": "2022-09-14T00:48:16.486941Z"
    },
    "papermill": {
     "duration": 0.065084,
     "end_time": "2022-09-14T00:48:16.487068",
     "exception": false,
     "start_time": "2022-09-14T00:48:16.421984",
     "status": "completed"
    },
    "tags": []
   },
   "outputs": [],
   "source": [
    "#creating the x and y ranges according to the above generated plot.\n",
    "x_range = np.linspace(-4, 1, 100) \n",
    "y_range = np.linspace(-6, 6, 100) \n",
    "x_grid, y_grid = np.meshgrid(x_range, y_range) # x_grid and y_grig are of size 100 X 100\n",
    "\n",
    "# converting x_grid and y_grid to continuous arrays\n",
    "x_gridflat = np.ravel(x_grid)\n",
    "y_gridflat = np.ravel(y_grid)\n",
    "\n",
    "# The last layer of the current model takes two columns as input. Hence transpose of np.vstack() is required.\n",
    "X = np.vstack((x_gridflat, y_gridflat)).T\n",
    "\n",
    "prob_contour = model_prob(X).reshape(100,100) "
   ]
  },
  {
   "cell_type": "code",
   "execution_count": 29,
   "id": "da72499a",
   "metadata": {
    "execution": {
     "iopub.execute_input": "2022-09-14T00:48:16.596044Z",
     "iopub.status.busy": "2022-09-14T00:48:16.595405Z",
     "iopub.status.idle": "2022-09-14T00:48:16.877136Z",
     "shell.execute_reply": "2022-09-14T00:48:16.877636Z"
    },
    "papermill": {
     "duration": 0.34152,
     "end_time": "2022-09-14T00:48:16.877832",
     "exception": false,
     "start_time": "2022-09-14T00:48:16.536312",
     "status": "completed"
    },
    "tags": []
   },
   "outputs": [
    {
     "data": {
      "image/png": "[encoded data removed]",
      "text/plain": [
       "<Figure size 720x648 with 1 Axes>"
      ]
     },
     "metadata": {
      "needs_background": "light"
     },
     "output_type": "display_data"
    }
   ],
   "source": [
    "plt.figure(figsize=(10,9))\n",
    "plt.scatter(testing_plot[:,0], testing_plot[:,1], alpha = 0.1, c = y_test.ravel())\n",
    "contours = plt.contour(x_grid,y_grid,prob_contour)\n",
    "plt.title('Probability Contours')\n",
    "plt.clabel(contours, inline = True );"
   ]
  },
  {
   "cell_type": "code",
   "execution_count": null,
   "id": "e81b4ac7",
   "metadata": {
    "papermill": {
     "duration": 0.051589,
     "end_time": "2022-09-14T00:48:16.981668",
     "exception": false,
     "start_time": "2022-09-14T00:48:16.930079",
     "status": "completed"
    },
    "tags": []
   },
   "outputs": [],
   "source": []
  }
 ],
 "metadata": {
  "kernelspec": {
   "display_name": "Python 3",
   "language": "python",
   "name": "python3"
  },
  "language_info": {
   "codemirror_mode": {
    "name": "ipython",
    "version": 3
   },
   "file_extension": ".py",
   "mimetype": "text/x-python",
   "name": "python",
   "nbconvert_exporter": "python",
   "pygments_lexer": "ipython3",
   "version": "3.6.15"
  },
  "papermill": {
   "default_parameters": {},
   "duration": 106.882035,
   "end_time": "2022-09-14T00:48:17.455294",
   "environment_variables": {},
   "exception": null,
   "input_path": "2020-08-11-part2.ipynb",
   "output_path": "2020-08-11-part2.ipynb",
   "parameters": {},
   "start_time": "2022-09-14T00:46:30.573259",
   "version": "2.3.3"
  }
 },
 "nbformat": 4,
 "nbformat_minor": 5
}