{
 "cells": [
  {
   "cell_type": "markdown",
   "id": "98380cd3",
   "metadata": {
    "papermill": {
     "duration": 0.029051,
     "end_time": "2021-10-09T10:06:57.261554",
     "exception": false,
     "start_time": "2021-10-09T10:06:57.232503",
     "status": "completed"
    },
    "tags": []
   },
   "source": [
    "# Distinguish Your Own Digits (DYOD)"
   ]
  },
  {
   "cell_type": "markdown",
   "id": "ef31240d",
   "metadata": {
    "papermill": {
     "duration": 0.023991,
     "end_time": "2021-10-09T10:06:57.311427",
     "exception": false,
     "start_time": "2021-10-09T10:06:57.287436",
     "status": "completed"
    },
    "tags": []
   },
   "source": [
    "You are going to write a classifier that distinguishes between the number 3 and number 8."
   ]
  },
  {
   "cell_type": "code",
   "execution_count": 1,
   "id": "b15c8646",
   "metadata": {
    "execution": {
     "iopub.execute_input": "2021-10-09T10:06:57.370844Z",
     "iopub.status.busy": "2021-10-09T10:06:57.370301Z",
     "iopub.status.idle": "2021-10-09T10:06:57.380467Z",
     "shell.execute_reply": "2021-10-09T10:06:57.380030Z"
    },
    "papermill": {
     "duration": 0.045235,
     "end_time": "2021-10-09T10:06:57.380595",
     "exception": false,
     "start_time": "2021-10-09T10:06:57.335360",
     "status": "completed"
    },
    "tags": []
   },
   "outputs": [],
   "source": [
    "%load_ext autoreload\n",
    "%autoreload 2"
   ]
  },
  {
   "cell_type": "code",
   "execution_count": 2,
   "id": "22ef38dc",
   "metadata": {
    "execution": {
     "iopub.execute_input": "2021-10-09T10:06:57.433536Z",
     "iopub.status.busy": "2021-10-09T10:06:57.433008Z",
     "iopub.status.idle": "2021-10-09T10:06:57.938201Z",
     "shell.execute_reply": "2021-10-09T10:06:57.937676Z"
    },
    "papermill": {
     "duration": 0.533466,
     "end_time": "2021-10-09T10:06:57.938344",
     "exception": false,
     "start_time": "2021-10-09T10:06:57.404878",
     "status": "completed"
    },
    "tags": []
   },
   "outputs": [],
   "source": [
    "%matplotlib inline\n",
    "import numpy as np\n",
    "import matplotlib.pyplot as plt\n",
    "import pandas as pd"
   ]
  },
  {
   "cell_type": "markdown",
   "id": "ba036198",
   "metadata": {
    "papermill": {
     "duration": 0.024241,
     "end_time": "2021-10-09T10:06:57.987451",
     "exception": false,
     "start_time": "2021-10-09T10:06:57.963210",
     "status": "completed"
    },
    "tags": []
   },
   "source": [
    "From the command line run `pip install mnist`. This is a library that will help you bring down the mnist dataset. If you run this from a notebook, you need to put  `!pip install mnist` in a cell by itself."
   ]
  },
  {
   "cell_type": "code",
   "execution_count": 3,
   "id": "bb6ad8a1",
   "metadata": {
    "execution": {
     "iopub.execute_input": "2021-10-09T10:06:58.044010Z",
     "iopub.status.busy": "2021-10-09T10:06:58.043457Z",
     "iopub.status.idle": "2021-10-09T10:06:59.673355Z",
     "shell.execute_reply": "2021-10-09T10:06:59.672839Z"
    },
    "papermill": {
     "duration": 1.661889,
     "end_time": "2021-10-09T10:06:59.673488",
     "exception": false,
     "start_time": "2021-10-09T10:06:58.011599",
     "status": "completed"
    },
    "tags": []
   },
   "outputs": [
    {
     "name": "stdout",
     "output_type": "stream",
     "text": [
      "Collecting mnist\r\n"
     ]
    },
    {
     "name": "stdout",
     "output_type": "stream",
     "text": [
      "  Downloading mnist-0.2.2-py2.py3-none-any.whl (3.5 kB)\r\n",
      "Requirement already satisfied: numpy in /opt/hostedtoolcache/Python/3.6.15/x64/lib/python3.6/site-packages (from mnist) (1.19.5)\r\n"
     ]
    },
    {
     "name": "stdout",
     "output_type": "stream",
     "text": [
      "Installing collected packages: mnist\r\n",
      "Successfully installed mnist-0.2.2\r\n"
     ]
    }
   ],
   "source": [
    "!pip install mnist"
   ]
  },
  {
   "cell_type": "markdown",
   "id": "69df9c9a",
   "metadata": {
    "papermill": {
     "duration": 0.025138,
     "end_time": "2021-10-09T10:06:59.723939",
     "exception": false,
     "start_time": "2021-10-09T10:06:59.698801",
     "status": "completed"
    },
    "tags": []
   },
   "source": [
    "## Preparing the Data"
   ]
  },
  {
   "cell_type": "code",
   "execution_count": 4,
   "id": "7f69d806",
   "metadata": {
    "execution": {
     "iopub.execute_input": "2021-10-09T10:06:59.794746Z",
     "iopub.status.busy": "2021-10-09T10:06:59.792616Z",
     "iopub.status.idle": "2021-10-09T10:06:59.797033Z",
     "shell.execute_reply": "2021-10-09T10:06:59.796531Z"
    },
    "papermill": {
     "duration": 0.048198,
     "end_time": "2021-10-09T10:06:59.797137",
     "exception": false,
     "start_time": "2021-10-09T10:06:59.748939",
     "status": "completed"
    },
    "tags": []
   },
   "outputs": [],
   "source": [
    "import mnist"
   ]
  },
  {
   "cell_type": "code",
   "execution_count": 5,
   "id": "a411e44f",
   "metadata": {
    "execution": {
     "iopub.execute_input": "2021-10-09T10:06:59.856442Z",
     "iopub.status.busy": "2021-10-09T10:06:59.852414Z",
     "iopub.status.idle": "2021-10-09T10:07:00.384130Z",
     "shell.execute_reply": "2021-10-09T10:07:00.383515Z"
    },
    "papermill": {
     "duration": 0.562235,
     "end_time": "2021-10-09T10:07:00.384282",
     "exception": false,
     "start_time": "2021-10-09T10:06:59.822047",
     "status": "completed"
    },
    "tags": []
   },
   "outputs": [],
   "source": [
    "train_images = mnist.train_images()\n",
    "train_labels = mnist.train_labels()"
   ]
  },
  {
   "cell_type": "code",
   "execution_count": 6,
   "id": "dceab3a5",
   "metadata": {
    "execution": {
     "iopub.execute_input": "2021-10-09T10:07:00.448934Z",
     "iopub.status.busy": "2021-10-09T10:07:00.445713Z",
     "iopub.status.idle": "2021-10-09T10:07:00.456038Z",
     "shell.execute_reply": "2021-10-09T10:07:00.455579Z"
    },
    "papermill": {
     "duration": 0.046597,
     "end_time": "2021-10-09T10:07:00.456151",
     "exception": false,
     "start_time": "2021-10-09T10:07:00.409554",
     "status": "completed"
    },
    "tags": []
   },
   "outputs": [
    {
     "data": {
      "text/plain": [
       "((60000, 28, 28), (60000,))"
      ]
     },
     "execution_count": 6,
     "metadata": {},
     "output_type": "execute_result"
    }
   ],
   "source": [
    "train_images.shape, train_labels.shape"
   ]
  },
  {
   "cell_type": "code",
   "execution_count": 7,
   "id": "f50dc2bb",
   "metadata": {
    "execution": {
     "iopub.execute_input": "2021-10-09T10:07:00.510250Z",
     "iopub.status.busy": "2021-10-09T10:07:00.509755Z",
     "iopub.status.idle": "2021-10-09T10:07:00.669227Z",
     "shell.execute_reply": "2021-10-09T10:07:00.668671Z"
    },
    "papermill": {
     "duration": 0.187659,
     "end_time": "2021-10-09T10:07:00.669362",
     "exception": false,
     "start_time": "2021-10-09T10:07:00.481703",
     "status": "completed"
    },
    "tags": []
   },
   "outputs": [],
   "source": [
    "test_images = mnist.test_images()\n",
    "test_labels = mnist.test_labels()"
   ]
  },
  {
   "cell_type": "code",
   "execution_count": 8,
   "id": "fc38cf1b",
   "metadata": {
    "execution": {
     "iopub.execute_input": "2021-10-09T10:07:00.724786Z",
     "iopub.status.busy": "2021-10-09T10:07:00.724284Z",
     "iopub.status.idle": "2021-10-09T10:07:00.737168Z",
     "shell.execute_reply": "2021-10-09T10:07:00.736734Z"
    },
    "papermill": {
     "duration": 0.042354,
     "end_time": "2021-10-09T10:07:00.737276",
     "exception": false,
     "start_time": "2021-10-09T10:07:00.694922",
     "status": "completed"
    },
    "tags": []
   },
   "outputs": [
    {
     "data": {
      "text/plain": [
       "((10000, 28, 28), (10000,))"
      ]
     },
     "execution_count": 8,
     "metadata": {},
     "output_type": "execute_result"
    }
   ],
   "source": [
    "test_images.shape, test_labels.shape"
   ]
  },
  {
   "cell_type": "code",
   "execution_count": 9,
   "id": "f9ed8fe0",
   "metadata": {
    "execution": {
     "iopub.execute_input": "2021-10-09T10:07:00.791144Z",
     "iopub.status.busy": "2021-10-09T10:07:00.790649Z",
     "iopub.status.idle": "2021-10-09T10:07:00.925141Z",
     "shell.execute_reply": "2021-10-09T10:07:00.925552Z"
    },
    "papermill": {
     "duration": 0.163042,
     "end_time": "2021-10-09T10:07:00.925692",
     "exception": false,
     "start_time": "2021-10-09T10:07:00.762650",
     "status": "completed"
    },
    "tags": []
   },
   "outputs": [
    {
     "name": "stdout",
     "output_type": "stream",
     "text": [
      "2\n"
     ]
    },
    {
     "data": {
      "text/plain": [
       "<matplotlib.image.AxesImage at 0x7ff1263afd30>"
      ]
     },
     "execution_count": 9,
     "metadata": {},
     "output_type": "execute_result"
    },
    {
     "data": {
      "image/png": "[encoded data removed]",
      "text/plain": [
       "<Figure size 432x288 with 1 Axes>"
      ]
     },
     "metadata": {
      "needs_background": "light"
     },
     "output_type": "display_data"
    }
   ],
   "source": [
    "image_index = 7776 # You may select anything up to 60,000\n",
    "print(train_labels[image_index]) \n",
    "plt.imshow(train_images[image_index], cmap='Greys')"
   ]
  },
  {
   "cell_type": "markdown",
   "id": "a8d2388d",
   "metadata": {
    "papermill": {
     "duration": 0.026945,
     "end_time": "2021-10-09T10:07:00.979259",
     "exception": false,
     "start_time": "2021-10-09T10:07:00.952314",
     "status": "completed"
    },
    "tags": []
   },
   "source": [
    "## Filter data to get 3 and 8 out"
   ]
  },
  {
   "cell_type": "code",
   "execution_count": 10,
   "id": "776f7fc7",
   "metadata": {
    "execution": {
     "iopub.execute_input": "2021-10-09T10:07:01.036485Z",
     "iopub.status.busy": "2021-10-09T10:07:01.035962Z",
     "iopub.status.idle": "2021-10-09T10:07:01.053586Z",
     "shell.execute_reply": "2021-10-09T10:07:01.053153Z"
    },
    "papermill": {
     "duration": 0.047909,
     "end_time": "2021-10-09T10:07:01.053698",
     "exception": false,
     "start_time": "2021-10-09T10:07:01.005789",
     "status": "completed"
    },
    "tags": []
   },
   "outputs": [],
   "source": [
    "train_filter = np.where((train_labels == 3 ) | (train_labels == 8))\n",
    "test_filter = np.where((test_labels == 3) | (test_labels == 8))\n",
    "X_train, y_train = train_images[train_filter], train_labels[train_filter]\n",
    "X_test, y_test = test_images[test_filter], test_labels[test_filter]"
   ]
  },
  {
   "cell_type": "markdown",
   "id": "948f0b7e",
   "metadata": {
    "papermill": {
     "duration": 0.026414,
     "end_time": "2021-10-09T10:07:01.106948",
     "exception": false,
     "start_time": "2021-10-09T10:07:01.080534",
     "status": "completed"
    },
    "tags": []
   },
   "source": [
    "We normalize the pizel values in the 0 to 1 range"
   ]
  },
  {
   "cell_type": "code",
   "execution_count": 11,
   "id": "ee4c2166",
   "metadata": {
    "execution": {
     "iopub.execute_input": "2021-10-09T10:07:01.169090Z",
     "iopub.status.busy": "2021-10-09T10:07:01.168573Z",
     "iopub.status.idle": "2021-10-09T10:07:01.214698Z",
     "shell.execute_reply": "2021-10-09T10:07:01.214179Z"
    },
    "papermill": {
     "duration": 0.081442,
     "end_time": "2021-10-09T10:07:01.214836",
     "exception": false,
     "start_time": "2021-10-09T10:07:01.133394",
     "status": "completed"
    },
    "tags": []
   },
   "outputs": [],
   "source": [
    "X_train = X_train/255.\n",
    "X_test = X_test/255."
   ]
  },
  {
   "cell_type": "markdown",
   "id": "ddcf4fab",
   "metadata": {
    "papermill": {
     "duration": 0.0266,
     "end_time": "2021-10-09T10:07:01.268731",
     "exception": false,
     "start_time": "2021-10-09T10:07:01.242131",
     "status": "completed"
    },
    "tags": []
   },
   "source": [
    "And setup the labels as 1 (when the digit is 3) and 0 (when the digit is 8)"
   ]
  },
  {
   "cell_type": "code",
   "execution_count": 12,
   "id": "7dc908f2",
   "metadata": {
    "execution": {
     "iopub.execute_input": "2021-10-09T10:07:01.325865Z",
     "iopub.status.busy": "2021-10-09T10:07:01.325353Z",
     "iopub.status.idle": "2021-10-09T10:07:01.337749Z",
     "shell.execute_reply": "2021-10-09T10:07:01.337344Z"
    },
    "papermill": {
     "duration": 0.042247,
     "end_time": "2021-10-09T10:07:01.337859",
     "exception": false,
     "start_time": "2021-10-09T10:07:01.295612",
     "status": "completed"
    },
    "tags": []
   },
   "outputs": [],
   "source": [
    "y_train = 1*(y_train==3)\n",
    "y_test = 1*(y_test==3)"
   ]
  },
  {
   "cell_type": "code",
   "execution_count": 13,
   "id": "01e4e969",
   "metadata": {
    "execution": {
     "iopub.execute_input": "2021-10-09T10:07:01.396499Z",
     "iopub.status.busy": "2021-10-09T10:07:01.395993Z",
     "iopub.status.idle": "2021-10-09T10:07:01.407667Z",
     "shell.execute_reply": "2021-10-09T10:07:01.408133Z"
    },
    "papermill": {
     "duration": 0.043889,
     "end_time": "2021-10-09T10:07:01.408264",
     "exception": false,
     "start_time": "2021-10-09T10:07:01.364375",
     "status": "completed"
    },
    "tags": []
   },
   "outputs": [
    {
     "data": {
      "text/plain": [
       "((11982, 28, 28), (1984, 28, 28))"
      ]
     },
     "execution_count": 13,
     "metadata": {},
     "output_type": "execute_result"
    }
   ],
   "source": [
    "X_train.shape, X_test.shape"
   ]
  },
  {
   "cell_type": "markdown",
   "id": "5ccf3f85",
   "metadata": {
    "papermill": {
     "duration": 0.0266,
     "end_time": "2021-10-09T10:07:01.461513",
     "exception": false,
     "start_time": "2021-10-09T10:07:01.434913",
     "status": "completed"
    },
    "tags": []
   },
   "source": [
    "We reshape the data to flatten the image pixels into a set of features or co-variates:"
   ]
  },
  {
   "cell_type": "code",
   "execution_count": 14,
   "id": "5286a4a3",
   "metadata": {
    "execution": {
     "iopub.execute_input": "2021-10-09T10:07:01.519342Z",
     "iopub.status.busy": "2021-10-09T10:07:01.518822Z",
     "iopub.status.idle": "2021-10-09T10:07:01.532984Z",
     "shell.execute_reply": "2021-10-09T10:07:01.532573Z"
    },
    "papermill": {
     "duration": 0.044358,
     "end_time": "2021-10-09T10:07:01.533099",
     "exception": false,
     "start_time": "2021-10-09T10:07:01.488741",
     "status": "completed"
    },
    "tags": []
   },
   "outputs": [
    {
     "data": {
      "text/plain": [
       "((11982, 784), (1984, 784))"
      ]
     },
     "execution_count": 14,
     "metadata": {},
     "output_type": "execute_result"
    }
   ],
   "source": [
    "X_train = X_train.reshape(X_train.shape[0], -1)\n",
    "X_test = X_test.reshape(X_test.shape[0], -1)\n",
    "X_train.shape, X_test.shape"
   ]
  },
  {
   "cell_type": "code",
   "execution_count": 15,
   "id": "73c5f88a",
   "metadata": {
    "execution": {
     "iopub.execute_input": "2021-10-09T10:07:01.592256Z",
     "iopub.status.busy": "2021-10-09T10:07:01.591698Z",
     "iopub.status.idle": "2021-10-09T10:07:01.610667Z",
     "shell.execute_reply": "2021-10-09T10:07:01.610226Z"
    },
    "papermill": {
     "duration": 0.050243,
     "end_time": "2021-10-09T10:07:01.610786",
     "exception": false,
     "start_time": "2021-10-09T10:07:01.560543",
     "status": "completed"
    },
    "tags": []
   },
   "outputs": [],
   "source": [
    "#Impoting functions from 'Kudzu'\n",
    "from kudzu.model import Model\n",
    "from kudzu.train import Learner\n",
    "from kudzu.optim import GD\n",
    "from kudzu.data import Data, Sampler,Dataloader\n",
    "\n",
    "from kudzu.callbacks import AccCallback\n",
    "from kudzu.callbacks import ClfCallback\n",
    "\n",
    "from kudzu.loss import MSE\n",
    "\n",
    "from kudzu.layer import Sigmoid,Relu\n",
    "from kudzu.layer import Affine"
   ]
  },
  {
   "cell_type": "markdown",
   "id": "bc01172a",
   "metadata": {
    "papermill": {
     "duration": 0.02718,
     "end_time": "2021-10-09T10:07:01.665626",
     "exception": false,
     "start_time": "2021-10-09T10:07:01.638446",
     "status": "completed"
    },
    "tags": []
   },
   "source": [
    "### Let us create a `Config` class, to store important parameters. \n",
    "This class essentially plays the role of a dictionary."
   ]
  },
  {
   "cell_type": "code",
   "execution_count": 16,
   "id": "978281aa",
   "metadata": {
    "execution": {
     "iopub.execute_input": "2021-10-09T10:07:01.733155Z",
     "iopub.status.busy": "2021-10-09T10:07:01.730403Z",
     "iopub.status.idle": "2021-10-09T10:07:01.739740Z",
     "shell.execute_reply": "2021-10-09T10:07:01.739285Z"
    },
    "papermill": {
     "duration": 0.047061,
     "end_time": "2021-10-09T10:07:01.739884",
     "exception": false,
     "start_time": "2021-10-09T10:07:01.692823",
     "status": "completed"
    },
    "tags": []
   },
   "outputs": [],
   "source": [
    "class Config:\n",
    "    pass\n",
    "config = Config()\n",
    "config.lr = 0.001\n",
    "config.num_epochs = 250\n",
    "config.bs = 50"
   ]
  },
  {
   "cell_type": "markdown",
   "id": "1385fa59",
   "metadata": {
    "papermill": {
     "duration": 0.027753,
     "end_time": "2021-10-09T10:07:01.795068",
     "exception": false,
     "start_time": "2021-10-09T10:07:01.767315",
     "status": "completed"
    },
    "tags": []
   },
   "source": [
    "### Running Models with the Training data\n",
    "Details about the network layers:\n",
    "- A first affine layer has 784 inputs and does 100 affine transforms. These are followed by a Relu\n",
    "- A second affine layer has 100 inputs from the 100 activations of the past layer, and does 100 affine transforms. These are followed by a Relu\n",
    "- A third affine layer has 100 activations and does 2 affine transformations to create an embedding for visualization. There is no non-linearity here.\n",
    "- A final \"logistic regression\" which has an affine transform from 2 inputs to 1 output, which is squeezed through a sigmoid.\n"
   ]
  },
  {
   "cell_type": "code",
   "execution_count": 17,
   "id": "2b9c66db",
   "metadata": {
    "execution": {
     "iopub.execute_input": "2021-10-09T10:07:01.866868Z",
     "iopub.status.busy": "2021-10-09T10:07:01.855456Z",
     "iopub.status.idle": "2021-10-09T10:07:01.869333Z",
     "shell.execute_reply": "2021-10-09T10:07:01.868676Z"
    },
    "papermill": {
     "duration": 0.047199,
     "end_time": "2021-10-09T10:07:01.869449",
     "exception": false,
     "start_time": "2021-10-09T10:07:01.822250",
     "status": "completed"
    },
    "tags": []
   },
   "outputs": [],
   "source": [
    "data = Data(X_train, y_train.reshape(-1,1))\n",
    "sampler = Sampler(data, config.bs, shuffle=True)\n",
    "\n",
    "dl = Dataloader(data, sampler)\n",
    "\n",
    "opt = GD(config.lr)\n",
    "loss = MSE()"
   ]
  },
  {
   "cell_type": "code",
   "execution_count": 18,
   "id": "b275e4c2",
   "metadata": {
    "execution": {
     "iopub.execute_input": "2021-10-09T10:07:01.939815Z",
     "iopub.status.busy": "2021-10-09T10:07:01.938088Z",
     "iopub.status.idle": "2021-10-09T10:07:01.941846Z",
     "shell.execute_reply": "2021-10-09T10:07:01.941442Z"
    },
    "papermill": {
     "duration": 0.045331,
     "end_time": "2021-10-09T10:07:01.941958",
     "exception": false,
     "start_time": "2021-10-09T10:07:01.896627",
     "status": "completed"
    },
    "tags": []
   },
   "outputs": [],
   "source": [
    "training_data_x = X_train\n",
    "testing_data_x = X_test\n",
    "training_data_y = y_train.reshape(-1,1)\n",
    "testing_data_y = y_test.reshape(-1,1)"
   ]
  },
  {
   "cell_type": "code",
   "execution_count": 19,
   "id": "76951160",
   "metadata": {
    "execution": {
     "iopub.execute_input": "2021-10-09T10:07:02.000064Z",
     "iopub.status.busy": "2021-10-09T10:07:01.999511Z",
     "iopub.status.idle": "2021-10-09T10:07:02.015118Z",
     "shell.execute_reply": "2021-10-09T10:07:02.015497Z"
    },
    "papermill": {
     "duration": 0.04679,
     "end_time": "2021-10-09T10:07:02.015623",
     "exception": false,
     "start_time": "2021-10-09T10:07:01.968833",
     "status": "completed"
    },
    "tags": []
   },
   "outputs": [
    {
     "name": "stdout",
     "output_type": "stream",
     "text": [
      "xavier\n",
      "xavier\n",
      "xavier\n",
      "xavier\n",
      "xavier\n"
     ]
    }
   ],
   "source": [
    "layers = [Affine(\"first\", 784, 100), Relu(\"first\"), Affine(\"second\", 100, 100), Relu(\"second\"), Affine(\"third\", 100, 2), Affine(\"last\", 2, 1), Sigmoid(\"last\")]\n",
    "model_nn = Model(layers)\n",
    "model_lr = Model([Affine(\"logits\", 784, 1), Sigmoid(\"sigmoid\")])"
   ]
  },
  {
   "cell_type": "code",
   "execution_count": 20,
   "id": "6eede77a",
   "metadata": {
    "execution": {
     "iopub.execute_input": "2021-10-09T10:07:02.074869Z",
     "iopub.status.busy": "2021-10-09T10:07:02.074345Z",
     "iopub.status.idle": "2021-10-09T10:07:02.086448Z",
     "shell.execute_reply": "2021-10-09T10:07:02.086032Z"
    },
    "papermill": {
     "duration": 0.043513,
     "end_time": "2021-10-09T10:07:02.086560",
     "exception": false,
     "start_time": "2021-10-09T10:07:02.043047",
     "status": "completed"
    },
    "tags": []
   },
   "outputs": [],
   "source": [
    "nn_learner = Learner(loss, model_nn, opt, config.num_epochs)\n",
    "acc_nn = ClfCallback(nn_learner, config.bs, training_data_x , testing_data_x, training_data_y, testing_data_y)\n",
    "nn_learner.set_callbacks([acc_nn])"
   ]
  },
  {
   "cell_type": "code",
   "execution_count": 21,
   "id": "877b6cc7",
   "metadata": {
    "execution": {
     "iopub.execute_input": "2021-10-09T10:07:02.148021Z",
     "iopub.status.busy": "2021-10-09T10:07:02.147407Z",
     "iopub.status.idle": "2021-10-09T10:07:02.157880Z",
     "shell.execute_reply": "2021-10-09T10:07:02.157468Z"
    },
    "papermill": {
     "duration": 0.044002,
     "end_time": "2021-10-09T10:07:02.157990",
     "exception": false,
     "start_time": "2021-10-09T10:07:02.113988",
     "status": "completed"
    },
    "tags": []
   },
   "outputs": [],
   "source": [
    "lr_learner = Learner(loss, model_lr, opt, config.num_epochs)\n",
    "acc_lr = ClfCallback(lr_learner, config.bs, training_data_x , testing_data_x, training_data_y, testing_data_y)\n",
    "lr_learner.set_callbacks([acc_lr])"
   ]
  },
  {
   "cell_type": "code",
   "execution_count": 22,
   "id": "d9b133c3",
   "metadata": {
    "execution": {
     "iopub.execute_input": "2021-10-09T10:07:02.217028Z",
     "iopub.status.busy": "2021-10-09T10:07:02.216521Z",
     "iopub.status.idle": "2021-10-09T10:08:24.533896Z",
     "shell.execute_reply": "2021-10-09T10:08:24.534579Z"
    },
    "papermill": {
     "duration": 82.349221,
     "end_time": "2021-10-09T10:08:24.534735",
     "exception": false,
     "start_time": "2021-10-09T10:07:02.185514",
     "status": "completed"
    },
    "tags": []
   },
   "outputs": [
    {
     "name": "stdout",
     "output_type": "stream",
     "text": [
      "Epoch 0, Loss 0.2471\n",
      "Training Accuracy: 0.5812, Testing Accuracy: 0.5832\n",
      "\n"
     ]
    },
    {
     "name": "stdout",
     "output_type": "stream",
     "text": [
      "Epoch 10, Loss 0.1057\n",
      "Training Accuracy: 0.9061, Testing Accuracy: 0.9178\n",
      "\n"
     ]
    },
    {
     "name": "stdout",
     "output_type": "stream",
     "text": [
      "Epoch 20, Loss 0.0625\n",
      "Training Accuracy: 0.9372, Testing Accuracy: 0.9456\n",
      "\n"
     ]
    },
    {
     "name": "stdout",
     "output_type": "stream",
     "text": [
      "Epoch 30, Loss 0.0478\n",
      "Training Accuracy: 0.9469, Testing Accuracy: 0.9622\n",
      "\n"
     ]
    },
    {
     "name": "stdout",
     "output_type": "stream",
     "text": [
      "Epoch 40, Loss 0.0408\n",
      "Training Accuracy: 0.9533, Testing Accuracy: 0.9632\n",
      "\n"
     ]
    },
    {
     "name": "stdout",
     "output_type": "stream",
     "text": [
      "Epoch 50, Loss 0.0367\n",
      "Training Accuracy: 0.9579, Testing Accuracy: 0.9632\n",
      "\n"
     ]
    },
    {
     "name": "stdout",
     "output_type": "stream",
     "text": [
      "Epoch 60, Loss 0.034\n",
      "Training Accuracy: 0.9609, Testing Accuracy: 0.9657\n",
      "\n"
     ]
    },
    {
     "name": "stdout",
     "output_type": "stream",
     "text": [
      "Epoch 70, Loss 0.032\n",
      "Training Accuracy: 0.9630, Testing Accuracy: 0.9667\n",
      "\n"
     ]
    },
    {
     "name": "stdout",
     "output_type": "stream",
     "text": [
      "Epoch 80, Loss 0.0304\n",
      "Training Accuracy: 0.9644, Testing Accuracy: 0.9677\n",
      "\n"
     ]
    },
    {
     "name": "stdout",
     "output_type": "stream",
     "text": [
      "Epoch 90, Loss 0.0291\n",
      "Training Accuracy: 0.9658, Testing Accuracy: 0.9693\n",
      "\n"
     ]
    },
    {
     "name": "stdout",
     "output_type": "stream",
     "text": [
      "Epoch 100, Loss 0.028\n",
      "Training Accuracy: 0.9668, Testing Accuracy: 0.9693\n",
      "\n"
     ]
    },
    {
     "name": "stdout",
     "output_type": "stream",
     "text": [
      "Epoch 110, Loss 0.0271\n",
      "Training Accuracy: 0.9684, Testing Accuracy: 0.9693\n",
      "\n"
     ]
    },
    {
     "name": "stdout",
     "output_type": "stream",
     "text": [
      "Epoch 120, Loss 0.0263\n",
      "Training Accuracy: 0.9688, Testing Accuracy: 0.9693\n",
      "\n"
     ]
    },
    {
     "name": "stdout",
     "output_type": "stream",
     "text": [
      "Epoch 130, Loss 0.0256\n",
      "Training Accuracy: 0.9691, Testing Accuracy: 0.9698\n",
      "\n"
     ]
    },
    {
     "name": "stdout",
     "output_type": "stream",
     "text": [
      "Epoch 140, Loss 0.025\n",
      "Training Accuracy: 0.9703, Testing Accuracy: 0.9693\n",
      "\n"
     ]
    },
    {
     "name": "stdout",
     "output_type": "stream",
     "text": [
      "Epoch 150, Loss 0.0244\n",
      "Training Accuracy: 0.9710, Testing Accuracy: 0.9688\n",
      "\n"
     ]
    },
    {
     "name": "stdout",
     "output_type": "stream",
     "text": [
      "Epoch 160, Loss 0.0238\n",
      "Training Accuracy: 0.9722, Testing Accuracy: 0.9693\n",
      "\n"
     ]
    },
    {
     "name": "stdout",
     "output_type": "stream",
     "text": [
      "Epoch 170, Loss 0.0234\n",
      "Training Accuracy: 0.9734, Testing Accuracy: 0.9693\n",
      "\n"
     ]
    },
    {
     "name": "stdout",
     "output_type": "stream",
     "text": [
      "Epoch 180, Loss 0.0229\n",
      "Training Accuracy: 0.9740, Testing Accuracy: 0.9698\n",
      "\n"
     ]
    },
    {
     "name": "stdout",
     "output_type": "stream",
     "text": [
      "Epoch 190, Loss 0.0225\n",
      "Training Accuracy: 0.9742, Testing Accuracy: 0.9698\n",
      "\n"
     ]
    },
    {
     "name": "stdout",
     "output_type": "stream",
     "text": [
      "Epoch 200, Loss 0.0221\n",
      "Training Accuracy: 0.9752, Testing Accuracy: 0.9703\n",
      "\n"
     ]
    },
    {
     "name": "stdout",
     "output_type": "stream",
     "text": [
      "Epoch 210, Loss 0.0217\n",
      "Training Accuracy: 0.9753, Testing Accuracy: 0.9708\n",
      "\n"
     ]
    },
    {
     "name": "stdout",
     "output_type": "stream",
     "text": [
      "Epoch 220, Loss 0.0213\n",
      "Training Accuracy: 0.9765, Testing Accuracy: 0.9713\n",
      "\n"
     ]
    },
    {
     "name": "stdout",
     "output_type": "stream",
     "text": [
      "Epoch 230, Loss 0.0209\n",
      "Training Accuracy: 0.9761, Testing Accuracy: 0.9728\n",
      "\n"
     ]
    },
    {
     "name": "stdout",
     "output_type": "stream",
     "text": [
      "Epoch 240, Loss 0.0206\n",
      "Training Accuracy: 0.9769, Testing Accuracy: 0.9728\n",
      "\n"
     ]
    },
    {
     "data": {
      "text/plain": [
       "0.03553718886992223"
      ]
     },
     "execution_count": 22,
     "metadata": {},
     "output_type": "execute_result"
    }
   ],
   "source": [
    "nn_learner.train_loop(dl)"
   ]
  },
  {
   "cell_type": "code",
   "execution_count": 23,
   "id": "e0163366",
   "metadata": {
    "execution": {
     "iopub.execute_input": "2021-10-09T10:08:24.610965Z",
     "iopub.status.busy": "2021-10-09T10:08:24.610418Z",
     "iopub.status.idle": "2021-10-09T10:08:39.137333Z",
     "shell.execute_reply": "2021-10-09T10:08:39.138085Z"
    },
    "papermill": {
     "duration": 14.568039,
     "end_time": "2021-10-09T10:08:39.138242",
     "exception": false,
     "start_time": "2021-10-09T10:08:24.570203",
     "status": "completed"
    },
    "tags": []
   },
   "outputs": [
    {
     "name": "stdout",
     "output_type": "stream",
     "text": [
      "Epoch 0, Loss 0.2865\n",
      "Training Accuracy: 0.4952, Testing Accuracy: 0.5161\n",
      "\n"
     ]
    },
    {
     "name": "stdout",
     "output_type": "stream",
     "text": [
      "Epoch 10, Loss 0.1074\n",
      "Training Accuracy: 0.9040, Testing Accuracy: 0.9189\n",
      "\n"
     ]
    },
    {
     "name": "stdout",
     "output_type": "stream",
     "text": [
      "Epoch 20, Loss 0.081\n",
      "Training Accuracy: 0.9276, Testing Accuracy: 0.9390\n",
      "\n"
     ]
    },
    {
     "name": "stdout",
     "output_type": "stream",
     "text": [
      "Epoch 30, Loss 0.0693\n",
      "Training Accuracy: 0.9378, Testing Accuracy: 0.9496\n",
      "\n"
     ]
    },
    {
     "name": "stdout",
     "output_type": "stream",
     "text": [
      "Epoch 40, Loss 0.0624\n",
      "Training Accuracy: 0.9413, Testing Accuracy: 0.9531\n",
      "\n"
     ]
    },
    {
     "name": "stdout",
     "output_type": "stream",
     "text": [
      "Epoch 50, Loss 0.0577\n",
      "Training Accuracy: 0.9446, Testing Accuracy: 0.9587\n",
      "\n"
     ]
    },
    {
     "name": "stdout",
     "output_type": "stream",
     "text": [
      "Epoch 60, Loss 0.0543\n",
      "Training Accuracy: 0.9470, Testing Accuracy: 0.9602\n",
      "\n"
     ]
    },
    {
     "name": "stdout",
     "output_type": "stream",
     "text": [
      "Epoch 70, Loss 0.0517\n",
      "Training Accuracy: 0.9488, Testing Accuracy: 0.9612\n",
      "\n"
     ]
    },
    {
     "name": "stdout",
     "output_type": "stream",
     "text": [
      "Epoch 80, Loss 0.0495\n",
      "Training Accuracy: 0.9507, Testing Accuracy: 0.9617\n",
      "\n"
     ]
    },
    {
     "name": "stdout",
     "output_type": "stream",
     "text": [
      "Epoch 90, Loss 0.0478\n",
      "Training Accuracy: 0.9516, Testing Accuracy: 0.9622\n",
      "\n"
     ]
    },
    {
     "name": "stdout",
     "output_type": "stream",
     "text": [
      "Epoch 100, Loss 0.0464\n",
      "Training Accuracy: 0.9528, Testing Accuracy: 0.9632\n",
      "\n"
     ]
    },
    {
     "name": "stdout",
     "output_type": "stream",
     "text": [
      "Epoch 110, Loss 0.0451\n",
      "Training Accuracy: 0.9539, Testing Accuracy: 0.9632\n",
      "\n"
     ]
    },
    {
     "name": "stdout",
     "output_type": "stream",
     "text": [
      "Epoch 120, Loss 0.044\n",
      "Training Accuracy: 0.9549, Testing Accuracy: 0.9632\n",
      "\n"
     ]
    },
    {
     "name": "stdout",
     "output_type": "stream",
     "text": [
      "Epoch 130, Loss 0.0431\n",
      "Training Accuracy: 0.9553, Testing Accuracy: 0.9632\n",
      "\n"
     ]
    },
    {
     "name": "stdout",
     "output_type": "stream",
     "text": [
      "Epoch 140, Loss 0.0422\n",
      "Training Accuracy: 0.9559, Testing Accuracy: 0.9632\n",
      "\n"
     ]
    },
    {
     "name": "stdout",
     "output_type": "stream",
     "text": [
      "Epoch 150, Loss 0.0415\n",
      "Training Accuracy: 0.9562, Testing Accuracy: 0.9632\n",
      "\n"
     ]
    },
    {
     "name": "stdout",
     "output_type": "stream",
     "text": [
      "Epoch 160, Loss 0.0408\n",
      "Training Accuracy: 0.9570, Testing Accuracy: 0.9632\n",
      "\n"
     ]
    },
    {
     "name": "stdout",
     "output_type": "stream",
     "text": [
      "Epoch 170, Loss 0.0401\n",
      "Training Accuracy: 0.9582, Testing Accuracy: 0.9642\n",
      "\n"
     ]
    },
    {
     "name": "stdout",
     "output_type": "stream",
     "text": [
      "Epoch 180, Loss 0.0396\n",
      "Training Accuracy: 0.9592, Testing Accuracy: 0.9652\n",
      "\n"
     ]
    },
    {
     "name": "stdout",
     "output_type": "stream",
     "text": [
      "Epoch 190, Loss 0.0391\n",
      "Training Accuracy: 0.9596, Testing Accuracy: 0.9647\n",
      "\n"
     ]
    },
    {
     "name": "stdout",
     "output_type": "stream",
     "text": [
      "Epoch 200, Loss 0.0386\n",
      "Training Accuracy: 0.9599, Testing Accuracy: 0.9672\n",
      "\n"
     ]
    },
    {
     "name": "stdout",
     "output_type": "stream",
     "text": [
      "Epoch 210, Loss 0.0381\n",
      "Training Accuracy: 0.9603, Testing Accuracy: 0.9672\n",
      "\n"
     ]
    },
    {
     "name": "stdout",
     "output_type": "stream",
     "text": [
      "Epoch 220, Loss 0.0377\n",
      "Training Accuracy: 0.9606, Testing Accuracy: 0.9677\n",
      "\n"
     ]
    },
    {
     "name": "stdout",
     "output_type": "stream",
     "text": [
      "Epoch 230, Loss 0.0373\n",
      "Training Accuracy: 0.9606, Testing Accuracy: 0.9677\n",
      "\n"
     ]
    },
    {
     "name": "stdout",
     "output_type": "stream",
     "text": [
      "Epoch 240, Loss 0.0369\n",
      "Training Accuracy: 0.9613, Testing Accuracy: 0.9682\n",
      "\n"
     ]
    },
    {
     "data": {
      "text/plain": [
       "0.04091472691967739"
      ]
     },
     "execution_count": 23,
     "metadata": {},
     "output_type": "execute_result"
    }
   ],
   "source": [
    "lr_learner.train_loop(dl)"
   ]
  },
  {
   "cell_type": "code",
   "execution_count": 24,
   "id": "ca410940",
   "metadata": {
    "execution": {
     "iopub.execute_input": "2021-10-09T10:08:39.233118Z",
     "iopub.status.busy": "2021-10-09T10:08:39.232574Z",
     "iopub.status.idle": "2021-10-09T10:08:39.451382Z",
     "shell.execute_reply": "2021-10-09T10:08:39.451818Z"
    },
    "papermill": {
     "duration": 0.271902,
     "end_time": "2021-10-09T10:08:39.451967",
     "exception": false,
     "start_time": "2021-10-09T10:08:39.180065",
     "status": "completed"
    },
    "tags": []
   },
   "outputs": [
    {
     "data": {
      "text/plain": [
       "<matplotlib.legend.Legend at 0x7ff125f20978>"
      ]
     },
     "execution_count": 24,
     "metadata": {},
     "output_type": "execute_result"
    },
    {
     "data": {
      "image/png": "[encoded data removed]",
      "text/plain": [
       "<Figure size 1080x720 with 1 Axes>"
      ]
     },
     "metadata": {
      "needs_background": "light"
     },
     "output_type": "display_data"
    }
   ],
   "source": [
    "#comparing the results of NN and LR\n",
    "plt.figure(figsize=(15,10))\n",
    "\n",
    "# Neural Network plots\n",
    "plt.plot(acc_nn.accuracies, 'r-', label = \"Training Accuracies - NN\")\n",
    "plt.plot(acc_nn.test_accuracies, 'g-', label = \"Testing Accuracies - NN\")\n",
    "\n",
    "# Logistic Regression plots\n",
    "plt.plot(acc_lr.accuracies, 'k-', label = \"Training Accuracies - LR\")\n",
    "plt.plot(acc_lr.test_accuracies, 'b-', label = \"Testing Accuracies - LR\")\n",
    "plt.legend()"
   ]
  },
  {
   "cell_type": "markdown",
   "id": "80dfb35c",
   "metadata": {
    "papermill": {
     "duration": 0.042953,
     "end_time": "2021-10-09T10:08:39.537768",
     "exception": false,
     "start_time": "2021-10-09T10:08:39.494815",
     "status": "completed"
    },
    "tags": []
   },
   "source": [
    "#### Plotting the outputs of this layer of the NN.\n"
   ]
  },
  {
   "cell_type": "code",
   "execution_count": 25,
   "id": "45eb2ff5",
   "metadata": {
    "execution": {
     "iopub.execute_input": "2021-10-09T10:08:39.634454Z",
     "iopub.status.busy": "2021-10-09T10:08:39.633920Z",
     "iopub.status.idle": "2021-10-09T10:08:39.649897Z",
     "shell.execute_reply": "2021-10-09T10:08:39.650300Z"
    },
    "papermill": {
     "duration": 0.07001,
     "end_time": "2021-10-09T10:08:39.650445",
     "exception": false,
     "start_time": "2021-10-09T10:08:39.580435",
     "status": "completed"
    },
    "tags": []
   },
   "outputs": [],
   "source": [
    "new_model = Model(layers[:-2])\n",
    "testing_plot = new_model(testing_data_x)"
   ]
  },
  {
   "cell_type": "code",
   "execution_count": 26,
   "id": "4c0a5485",
   "metadata": {
    "execution": {
     "iopub.execute_input": "2021-10-09T10:08:39.758805Z",
     "iopub.status.busy": "2021-10-09T10:08:39.755658Z",
     "iopub.status.idle": "2021-10-09T10:08:39.951672Z",
     "shell.execute_reply": "2021-10-09T10:08:39.952098Z"
    },
    "papermill": {
     "duration": 0.250763,
     "end_time": "2021-10-09T10:08:39.952248",
     "exception": false,
     "start_time": "2021-10-09T10:08:39.701485",
     "status": "completed"
    },
    "tags": []
   },
   "outputs": [
    {
     "data": {
      "text/plain": [
       "Text(0.5, 1.0, 'Outputs')"
      ]
     },
     "execution_count": 26,
     "metadata": {},
     "output_type": "execute_result"
    },
    {
     "data": {
      "image/png": "[encoded data removed]",
      "text/plain": [
       "<Figure size 576x504 with 1 Axes>"
      ]
     },
     "metadata": {
      "needs_background": "light"
     },
     "output_type": "display_data"
    }
   ],
   "source": [
    "# Plotting the scatter plot of points and color coding by class\n",
    "plt.figure(figsize=(8,7))\n",
    "plt.scatter(testing_plot[:,0], testing_plot[:,1], alpha = 0.1, c = y_test.ravel());\n",
    "plt.title('Outputs')"
   ]
  },
  {
   "cell_type": "markdown",
   "id": "a74fcf8f",
   "metadata": {
    "papermill": {
     "duration": 0.044879,
     "end_time": "2021-10-09T10:08:40.042248",
     "exception": false,
     "start_time": "2021-10-09T10:08:39.997369",
     "status": "completed"
    },
    "tags": []
   },
   "source": [
    "Probability contours"
   ]
  },
  {
   "cell_type": "code",
   "execution_count": 27,
   "id": "d0afc8e3",
   "metadata": {
    "execution": {
     "iopub.execute_input": "2021-10-09T10:08:40.136102Z",
     "iopub.status.busy": "2021-10-09T10:08:40.135542Z",
     "iopub.status.idle": "2021-10-09T10:08:40.147588Z",
     "shell.execute_reply": "2021-10-09T10:08:40.148024Z"
    },
    "papermill": {
     "duration": 0.060876,
     "end_time": "2021-10-09T10:08:40.148158",
     "exception": false,
     "start_time": "2021-10-09T10:08:40.087282",
     "status": "completed"
    },
    "tags": []
   },
   "outputs": [],
   "source": [
    "model_prob = Model(layers[-2:]) "
   ]
  },
  {
   "cell_type": "code",
   "execution_count": 28,
   "id": "9b96e238",
   "metadata": {
    "execution": {
     "iopub.execute_input": "2021-10-09T10:08:40.245003Z",
     "iopub.status.busy": "2021-10-09T10:08:40.244479Z",
     "iopub.status.idle": "2021-10-09T10:08:40.256904Z",
     "shell.execute_reply": "2021-10-09T10:08:40.257283Z"
    },
    "papermill": {
     "duration": 0.064198,
     "end_time": "2021-10-09T10:08:40.257414",
     "exception": false,
     "start_time": "2021-10-09T10:08:40.193216",
     "status": "completed"
    },
    "tags": []
   },
   "outputs": [],
   "source": [
    "#creating the x and y ranges according to the above generated plot.\n",
    "x_range = np.linspace(-4, 1, 100) \n",
    "y_range = np.linspace(-6, 6, 100) \n",
    "x_grid, y_grid = np.meshgrid(x_range, y_range) # x_grid and y_grig are of size 100 X 100\n",
    "\n",
    "# converting x_grid and y_grid to continuous arrays\n",
    "x_gridflat = np.ravel(x_grid)\n",
    "y_gridflat = np.ravel(y_grid)\n",
    "\n",
    "# The last layer of the current model takes two columns as input. Hence transpose of np.vstack() is required.\n",
    "X = np.vstack((x_gridflat, y_gridflat)).T\n",
    "\n",
    "prob_contour = model_prob(X).reshape(100,100) "
   ]
  },
  {
   "cell_type": "code",
   "execution_count": 29,
   "id": "da72499a",
   "metadata": {
    "execution": {
     "iopub.execute_input": "2021-10-09T10:08:40.361943Z",
     "iopub.status.busy": "2021-10-09T10:08:40.361401Z",
     "iopub.status.idle": "2021-10-09T10:08:40.608692Z",
     "shell.execute_reply": "2021-10-09T10:08:40.608231Z"
    },
    "papermill": {
     "duration": 0.298752,
     "end_time": "2021-10-09T10:08:40.608816",
     "exception": false,
     "start_time": "2021-10-09T10:08:40.310064",
     "status": "completed"
    },
    "tags": []
   },
   "outputs": [
    {
     "data": {
      "image/png": "[encoded data removed]",
      "text/plain": [
       "<Figure size 720x648 with 1 Axes>"
      ]
     },
     "metadata": {
      "needs_background": "light"
     },
     "output_type": "display_data"
    }
   ],
   "source": [
    "plt.figure(figsize=(10,9))\n",
    "plt.scatter(testing_plot[:,0], testing_plot[:,1], alpha = 0.1, c = y_test.ravel())\n",
    "contours = plt.contour(x_grid,y_grid,prob_contour)\n",
    "plt.title('Probability Contours')\n",
    "plt.clabel(contours, inline = True );"
   ]
  },
  {
   "cell_type": "code",
   "execution_count": null,
   "id": "e81b4ac7",
   "metadata": {
    "papermill": {
     "duration": 0.047753,
     "end_time": "2021-10-09T10:08:40.733999",
     "exception": false,
     "start_time": "2021-10-09T10:08:40.686246",
     "status": "completed"
    },
    "tags": []
   },
   "outputs": [],
   "source": []
  }
 ],
 "metadata": {
  "kernelspec": {
   "display_name": "Python 3",
   "language": "python",
   "name": "python3"
  },
  "language_info": {
   "codemirror_mode": {
    "name": "ipython",
    "version": 3
   },
   "file_extension": ".py",
   "mimetype": "text/x-python",
   "name": "python",
   "nbconvert_exporter": "python",
   "pygments_lexer": "ipython3",
   "version": "3.6.15"
  },
  "papermill": {
   "default_parameters": {},
   "duration": 104.990851,
   "end_time": "2021-10-09T10:08:41.190276",
   "environment_variables": {},
   "exception": null,
   "input_path": "2020-08-11-part2.ipynb",
   "output_path": "2020-08-11-part2.ipynb",
   "parameters": {},
   "start_time": "2021-10-09T10:06:56.199425",
   "version": "2.3.3"
  }
 },
 "nbformat": 4,
 "nbformat_minor": 5
}