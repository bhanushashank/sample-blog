{
 "cells": [
  {
   "cell_type": "markdown",
   "id": "98380cd3",
   "metadata": {
    "papermill": {
     "duration": 0.030188,
     "end_time": "2022-06-23T00:34:24.618814",
     "exception": false,
     "start_time": "2022-06-23T00:34:24.588626",
     "status": "completed"
    },
    "tags": []
   },
   "source": [
    "# Distinguish Your Own Digits (DYOD)"
   ]
  },
  {
   "cell_type": "markdown",
   "id": "ef31240d",
   "metadata": {
    "papermill": {
     "duration": 0.024014,
     "end_time": "2022-06-23T00:34:24.667488",
     "exception": false,
     "start_time": "2022-06-23T00:34:24.643474",
     "status": "completed"
    },
    "tags": []
   },
   "source": [
    "You are going to write a classifier that distinguishes between the number 3 and number 8."
   ]
  },
  {
   "cell_type": "code",
   "execution_count": 1,
   "id": "b15c8646",
   "metadata": {
    "execution": {
     "iopub.execute_input": "2022-06-23T00:34:24.726929Z",
     "iopub.status.busy": "2022-06-23T00:34:24.726258Z",
     "iopub.status.idle": "2022-06-23T00:34:24.737368Z",
     "shell.execute_reply": "2022-06-23T00:34:24.736880Z"
    },
    "papermill": {
     "duration": 0.046149,
     "end_time": "2022-06-23T00:34:24.737507",
     "exception": false,
     "start_time": "2022-06-23T00:34:24.691358",
     "status": "completed"
    },
    "tags": []
   },
   "outputs": [],
   "source": [
    "%load_ext autoreload\n",
    "%autoreload 2"
   ]
  },
  {
   "cell_type": "code",
   "execution_count": 2,
   "id": "22ef38dc",
   "metadata": {
    "execution": {
     "iopub.execute_input": "2022-06-23T00:34:24.797080Z",
     "iopub.status.busy": "2022-06-23T00:34:24.796458Z",
     "iopub.status.idle": "2022-06-23T00:34:25.360253Z",
     "shell.execute_reply": "2022-06-23T00:34:25.359272Z"
    },
    "papermill": {
     "duration": 0.59888,
     "end_time": "2022-06-23T00:34:25.360404",
     "exception": false,
     "start_time": "2022-06-23T00:34:24.761524",
     "status": "completed"
    },
    "tags": []
   },
   "outputs": [],
   "source": [
    "%matplotlib inline\n",
    "import numpy as np\n",
    "import matplotlib.pyplot as plt\n",
    "import pandas as pd"
   ]
  },
  {
   "cell_type": "markdown",
   "id": "ba036198",
   "metadata": {
    "papermill": {
     "duration": 0.023923,
     "end_time": "2022-06-23T00:34:25.409048",
     "exception": false,
     "start_time": "2022-06-23T00:34:25.385125",
     "status": "completed"
    },
    "tags": []
   },
   "source": [
    "From the command line run `pip install mnist`. This is a library that will help you bring down the mnist dataset. If you run this from a notebook, you need to put  `!pip install mnist` in a cell by itself."
   ]
  },
  {
   "cell_type": "code",
   "execution_count": 3,
   "id": "bb6ad8a1",
   "metadata": {
    "execution": {
     "iopub.execute_input": "2022-06-23T00:34:25.460443Z",
     "iopub.status.busy": "2022-06-23T00:34:25.459789Z",
     "iopub.status.idle": "2022-06-23T00:34:27.219062Z",
     "shell.execute_reply": "2022-06-23T00:34:27.219925Z"
    },
    "papermill": {
     "duration": 1.786934,
     "end_time": "2022-06-23T00:34:27.220095",
     "exception": false,
     "start_time": "2022-06-23T00:34:25.433161",
     "status": "completed"
    },
    "tags": []
   },
   "outputs": [
    {
     "name": "stdout",
     "output_type": "stream",
     "text": [
      "Collecting mnist\r\n",
      "  Downloading mnist-0.2.2-py2.py3-none-any.whl (3.5 kB)\r\n",
      "Requirement already satisfied: numpy in /opt/hostedtoolcache/Python/3.6.15/x64/lib/python3.6/site-packages (from mnist) (1.19.5)\r\n"
     ]
    },
    {
     "name": "stdout",
     "output_type": "stream",
     "text": [
      "Installing collected packages: mnist\r\n",
      "Successfully installed mnist-0.2.2\r\n"
     ]
    }
   ],
   "source": [
    "!pip install mnist"
   ]
  },
  {
   "cell_type": "markdown",
   "id": "69df9c9a",
   "metadata": {
    "papermill": {
     "duration": 0.024412,
     "end_time": "2022-06-23T00:34:27.269236",
     "exception": false,
     "start_time": "2022-06-23T00:34:27.244824",
     "status": "completed"
    },
    "tags": []
   },
   "source": [
    "## Preparing the Data"
   ]
  },
  {
   "cell_type": "code",
   "execution_count": 4,
   "id": "7f69d806",
   "metadata": {
    "execution": {
     "iopub.execute_input": "2022-06-23T00:34:27.323990Z",
     "iopub.status.busy": "2022-06-23T00:34:27.323350Z",
     "iopub.status.idle": "2022-06-23T00:34:27.338442Z",
     "shell.execute_reply": "2022-06-23T00:34:27.337933Z"
    },
    "papermill": {
     "duration": 0.044813,
     "end_time": "2022-06-23T00:34:27.338571",
     "exception": false,
     "start_time": "2022-06-23T00:34:27.293758",
     "status": "completed"
    },
    "tags": []
   },
   "outputs": [],
   "source": [
    "import mnist"
   ]
  },
  {
   "cell_type": "code",
   "execution_count": 5,
   "id": "a411e44f",
   "metadata": {
    "execution": {
     "iopub.execute_input": "2022-06-23T00:34:27.392734Z",
     "iopub.status.busy": "2022-06-23T00:34:27.392114Z",
     "iopub.status.idle": "2022-06-23T00:34:27.911541Z",
     "shell.execute_reply": "2022-06-23T00:34:27.910843Z"
    },
    "papermill": {
     "duration": 0.548405,
     "end_time": "2022-06-23T00:34:27.911687",
     "exception": false,
     "start_time": "2022-06-23T00:34:27.363282",
     "status": "completed"
    },
    "tags": []
   },
   "outputs": [],
   "source": [
    "train_images = mnist.train_images()\n",
    "train_labels = mnist.train_labels()"
   ]
  },
  {
   "cell_type": "code",
   "execution_count": 6,
   "id": "dceab3a5",
   "metadata": {
    "execution": {
     "iopub.execute_input": "2022-06-23T00:34:27.966608Z",
     "iopub.status.busy": "2022-06-23T00:34:27.966017Z",
     "iopub.status.idle": "2022-06-23T00:34:27.981184Z",
     "shell.execute_reply": "2022-06-23T00:34:27.981661Z"
    },
    "papermill": {
     "duration": 0.044616,
     "end_time": "2022-06-23T00:34:27.981801",
     "exception": false,
     "start_time": "2022-06-23T00:34:27.937185",
     "status": "completed"
    },
    "tags": []
   },
   "outputs": [
    {
     "data": {
      "text/plain": [
       "((60000, 28, 28), (60000,))"
      ]
     },
     "execution_count": 6,
     "metadata": {},
     "output_type": "execute_result"
    }
   ],
   "source": [
    "train_images.shape, train_labels.shape"
   ]
  },
  {
   "cell_type": "code",
   "execution_count": 7,
   "id": "f50dc2bb",
   "metadata": {
    "execution": {
     "iopub.execute_input": "2022-06-23T00:34:28.044634Z",
     "iopub.status.busy": "2022-06-23T00:34:28.044018Z",
     "iopub.status.idle": "2022-06-23T00:34:28.172461Z",
     "shell.execute_reply": "2022-06-23T00:34:28.171433Z"
    },
    "papermill": {
     "duration": 0.166172,
     "end_time": "2022-06-23T00:34:28.172618",
     "exception": false,
     "start_time": "2022-06-23T00:34:28.006446",
     "status": "completed"
    },
    "tags": []
   },
   "outputs": [],
   "source": [
    "test_images = mnist.test_images()\n",
    "test_labels = mnist.test_labels()"
   ]
  },
  {
   "cell_type": "code",
   "execution_count": 8,
   "id": "fc38cf1b",
   "metadata": {
    "execution": {
     "iopub.execute_input": "2022-06-23T00:34:28.232379Z",
     "iopub.status.busy": "2022-06-23T00:34:28.231756Z",
     "iopub.status.idle": "2022-06-23T00:34:28.243817Z",
     "shell.execute_reply": "2022-06-23T00:34:28.243323Z"
    },
    "papermill": {
     "duration": 0.046129,
     "end_time": "2022-06-23T00:34:28.243942",
     "exception": false,
     "start_time": "2022-06-23T00:34:28.197813",
     "status": "completed"
    },
    "tags": []
   },
   "outputs": [
    {
     "data": {
      "text/plain": [
       "((10000, 28, 28), (10000,))"
      ]
     },
     "execution_count": 8,
     "metadata": {},
     "output_type": "execute_result"
    }
   ],
   "source": [
    "test_images.shape, test_labels.shape"
   ]
  },
  {
   "cell_type": "code",
   "execution_count": 9,
   "id": "f9ed8fe0",
   "metadata": {
    "execution": {
     "iopub.execute_input": "2022-06-23T00:34:28.304674Z",
     "iopub.status.busy": "2022-06-23T00:34:28.303949Z",
     "iopub.status.idle": "2022-06-23T00:34:28.447503Z",
     "shell.execute_reply": "2022-06-23T00:34:28.448027Z"
    },
    "papermill": {
     "duration": 0.179191,
     "end_time": "2022-06-23T00:34:28.448201",
     "exception": false,
     "start_time": "2022-06-23T00:34:28.269010",
     "status": "completed"
    },
    "tags": []
   },
   "outputs": [
    {
     "name": "stdout",
     "output_type": "stream",
     "text": [
      "2\n"
     ]
    },
    {
     "data": {
      "text/plain": [
       "<matplotlib.image.AxesImage at 0x7f95fefad390>"
      ]
     },
     "execution_count": 9,
     "metadata": {},
     "output_type": "execute_result"
    },
    {
     "data": {
      "image/png": "[encoded data removed]",
      "text/plain": [
       "<Figure size 432x288 with 1 Axes>"
      ]
     },
     "metadata": {
      "needs_background": "light"
     },
     "output_type": "display_data"
    }
   ],
   "source": [
    "image_index = 7776 # You may select anything up to 60,000\n",
    "print(train_labels[image_index]) \n",
    "plt.imshow(train_images[image_index], cmap='Greys')"
   ]
  },
  {
   "cell_type": "markdown",
   "id": "a8d2388d",
   "metadata": {
    "papermill": {
     "duration": 0.026446,
     "end_time": "2022-06-23T00:34:28.500863",
     "exception": false,
     "start_time": "2022-06-23T00:34:28.474417",
     "status": "completed"
    },
    "tags": []
   },
   "source": [
    "## Filter data to get 3 and 8 out"
   ]
  },
  {
   "cell_type": "code",
   "execution_count": 10,
   "id": "776f7fc7",
   "metadata": {
    "execution": {
     "iopub.execute_input": "2022-06-23T00:34:28.569510Z",
     "iopub.status.busy": "2022-06-23T00:34:28.565817Z",
     "iopub.status.idle": "2022-06-23T00:34:28.581703Z",
     "shell.execute_reply": "2022-06-23T00:34:28.581175Z"
    },
    "papermill": {
     "duration": 0.054846,
     "end_time": "2022-06-23T00:34:28.581830",
     "exception": false,
     "start_time": "2022-06-23T00:34:28.526984",
     "status": "completed"
    },
    "tags": []
   },
   "outputs": [],
   "source": [
    "train_filter = np.where((train_labels == 3 ) | (train_labels == 8))\n",
    "test_filter = np.where((test_labels == 3) | (test_labels == 8))\n",
    "X_train, y_train = train_images[train_filter], train_labels[train_filter]\n",
    "X_test, y_test = test_images[test_filter], test_labels[test_filter]"
   ]
  },
  {
   "cell_type": "markdown",
   "id": "948f0b7e",
   "metadata": {
    "papermill": {
     "duration": 0.026321,
     "end_time": "2022-06-23T00:34:28.634811",
     "exception": false,
     "start_time": "2022-06-23T00:34:28.608490",
     "status": "completed"
    },
    "tags": []
   },
   "source": [
    "We normalize the pizel values in the 0 to 1 range"
   ]
  },
  {
   "cell_type": "code",
   "execution_count": 11,
   "id": "ee4c2166",
   "metadata": {
    "execution": {
     "iopub.execute_input": "2022-06-23T00:34:28.695648Z",
     "iopub.status.busy": "2022-06-23T00:34:28.691687Z",
     "iopub.status.idle": "2022-06-23T00:34:28.742159Z",
     "shell.execute_reply": "2022-06-23T00:34:28.741581Z"
    },
    "papermill": {
     "duration": 0.081377,
     "end_time": "2022-06-23T00:34:28.742306",
     "exception": false,
     "start_time": "2022-06-23T00:34:28.660929",
     "status": "completed"
    },
    "tags": []
   },
   "outputs": [],
   "source": [
    "X_train = X_train/255.\n",
    "X_test = X_test/255."
   ]
  },
  {
   "cell_type": "markdown",
   "id": "ddcf4fab",
   "metadata": {
    "papermill": {
     "duration": 0.026263,
     "end_time": "2022-06-23T00:34:28.795231",
     "exception": false,
     "start_time": "2022-06-23T00:34:28.768968",
     "status": "completed"
    },
    "tags": []
   },
   "source": [
    "And setup the labels as 1 (when the digit is 3) and 0 (when the digit is 8)"
   ]
  },
  {
   "cell_type": "code",
   "execution_count": 12,
   "id": "7dc908f2",
   "metadata": {
    "execution": {
     "iopub.execute_input": "2022-06-23T00:34:28.867322Z",
     "iopub.status.busy": "2022-06-23T00:34:28.865557Z",
     "iopub.status.idle": "2022-06-23T00:34:28.869613Z",
     "shell.execute_reply": "2022-06-23T00:34:28.870038Z"
    },
    "papermill": {
     "duration": 0.048867,
     "end_time": "2022-06-23T00:34:28.870183",
     "exception": false,
     "start_time": "2022-06-23T00:34:28.821316",
     "status": "completed"
    },
    "tags": []
   },
   "outputs": [],
   "source": [
    "y_train = 1*(y_train==3)\n",
    "y_test = 1*(y_test==3)"
   ]
  },
  {
   "cell_type": "code",
   "execution_count": 13,
   "id": "01e4e969",
   "metadata": {
    "execution": {
     "iopub.execute_input": "2022-06-23T00:34:28.936520Z",
     "iopub.status.busy": "2022-06-23T00:34:28.926106Z",
     "iopub.status.idle": "2022-06-23T00:34:28.945715Z",
     "shell.execute_reply": "2022-06-23T00:34:28.946168Z"
    },
    "papermill": {
     "duration": 0.0501,
     "end_time": "2022-06-23T00:34:28.946315",
     "exception": false,
     "start_time": "2022-06-23T00:34:28.896215",
     "status": "completed"
    },
    "tags": []
   },
   "outputs": [
    {
     "data": {
      "text/plain": [
       "((11982, 28, 28), (1984, 28, 28))"
      ]
     },
     "execution_count": 13,
     "metadata": {},
     "output_type": "execute_result"
    }
   ],
   "source": [
    "X_train.shape, X_test.shape"
   ]
  },
  {
   "cell_type": "markdown",
   "id": "5ccf3f85",
   "metadata": {
    "papermill": {
     "duration": 0.026273,
     "end_time": "2022-06-23T00:34:28.998850",
     "exception": false,
     "start_time": "2022-06-23T00:34:28.972577",
     "status": "completed"
    },
    "tags": []
   },
   "source": [
    "We reshape the data to flatten the image pixels into a set of features or co-variates:"
   ]
  },
  {
   "cell_type": "code",
   "execution_count": 14,
   "id": "5286a4a3",
   "metadata": {
    "execution": {
     "iopub.execute_input": "2022-06-23T00:34:29.065657Z",
     "iopub.status.busy": "2022-06-23T00:34:29.065014Z",
     "iopub.status.idle": "2022-06-23T00:34:29.077214Z",
     "shell.execute_reply": "2022-06-23T00:34:29.077672Z"
    },
    "papermill": {
     "duration": 0.052413,
     "end_time": "2022-06-23T00:34:29.077818",
     "exception": false,
     "start_time": "2022-06-23T00:34:29.025405",
     "status": "completed"
    },
    "tags": []
   },
   "outputs": [
    {
     "data": {
      "text/plain": [
       "((11982, 784), (1984, 784))"
      ]
     },
     "execution_count": 14,
     "metadata": {},
     "output_type": "execute_result"
    }
   ],
   "source": [
    "X_train = X_train.reshape(X_train.shape[0], -1)\n",
    "X_test = X_test.reshape(X_test.shape[0], -1)\n",
    "X_train.shape, X_test.shape"
   ]
  },
  {
   "cell_type": "code",
   "execution_count": 15,
   "id": "73c5f88a",
   "metadata": {
    "execution": {
     "iopub.execute_input": "2022-06-23T00:34:29.149642Z",
     "iopub.status.busy": "2022-06-23T00:34:29.148990Z",
     "iopub.status.idle": "2022-06-23T00:34:29.160933Z",
     "shell.execute_reply": "2022-06-23T00:34:29.160433Z"
    },
    "papermill": {
     "duration": 0.056477,
     "end_time": "2022-06-23T00:34:29.161063",
     "exception": false,
     "start_time": "2022-06-23T00:34:29.104586",
     "status": "completed"
    },
    "tags": []
   },
   "outputs": [],
   "source": [
    "#Impoting functions from 'Kudzu'\n",
    "from kudzu.model import Model\n",
    "from kudzu.train import Learner\n",
    "from kudzu.optim import GD\n",
    "from kudzu.data import Data, Sampler,Dataloader\n",
    "\n",
    "from kudzu.callbacks import AccCallback\n",
    "from kudzu.callbacks import ClfCallback\n",
    "\n",
    "from kudzu.loss import MSE\n",
    "\n",
    "from kudzu.layer import Sigmoid,Relu\n",
    "from kudzu.layer import Affine"
   ]
  },
  {
   "cell_type": "markdown",
   "id": "bc01172a",
   "metadata": {
    "papermill": {
     "duration": 0.026621,
     "end_time": "2022-06-23T00:34:29.214653",
     "exception": false,
     "start_time": "2022-06-23T00:34:29.188032",
     "status": "completed"
    },
    "tags": []
   },
   "source": [
    "### Let us create a `Config` class, to store important parameters. \n",
    "This class essentially plays the role of a dictionary."
   ]
  },
  {
   "cell_type": "code",
   "execution_count": 16,
   "id": "978281aa",
   "metadata": {
    "execution": {
     "iopub.execute_input": "2022-06-23T00:34:29.273984Z",
     "iopub.status.busy": "2022-06-23T00:34:29.273361Z",
     "iopub.status.idle": "2022-06-23T00:34:29.286406Z",
     "shell.execute_reply": "2022-06-23T00:34:29.285894Z"
    },
    "papermill": {
     "duration": 0.045261,
     "end_time": "2022-06-23T00:34:29.286536",
     "exception": false,
     "start_time": "2022-06-23T00:34:29.241275",
     "status": "completed"
    },
    "tags": []
   },
   "outputs": [],
   "source": [
    "class Config:\n",
    "    pass\n",
    "config = Config()\n",
    "config.lr = 0.001\n",
    "config.num_epochs = 250\n",
    "config.bs = 50"
   ]
  },
  {
   "cell_type": "markdown",
   "id": "1385fa59",
   "metadata": {
    "papermill": {
     "duration": 0.026782,
     "end_time": "2022-06-23T00:34:29.340288",
     "exception": false,
     "start_time": "2022-06-23T00:34:29.313506",
     "status": "completed"
    },
    "tags": []
   },
   "source": [
    "### Running Models with the Training data\n",
    "Details about the network layers:\n",
    "- A first affine layer has 784 inputs and does 100 affine transforms. These are followed by a Relu\n",
    "- A second affine layer has 100 inputs from the 100 activations of the past layer, and does 100 affine transforms. These are followed by a Relu\n",
    "- A third affine layer has 100 activations and does 2 affine transformations to create an embedding for visualization. There is no non-linearity here.\n",
    "- A final \"logistic regression\" which has an affine transform from 2 inputs to 1 output, which is squeezed through a sigmoid.\n"
   ]
  },
  {
   "cell_type": "code",
   "execution_count": 17,
   "id": "2b9c66db",
   "metadata": {
    "execution": {
     "iopub.execute_input": "2022-06-23T00:34:29.414053Z",
     "iopub.status.busy": "2022-06-23T00:34:29.412561Z",
     "iopub.status.idle": "2022-06-23T00:34:29.416380Z",
     "shell.execute_reply": "2022-06-23T00:34:29.416809Z"
    },
    "papermill": {
     "duration": 0.049884,
     "end_time": "2022-06-23T00:34:29.416958",
     "exception": false,
     "start_time": "2022-06-23T00:34:29.367074",
     "status": "completed"
    },
    "tags": []
   },
   "outputs": [],
   "source": [
    "data = Data(X_train, y_train.reshape(-1,1))\n",
    "sampler = Sampler(data, config.bs, shuffle=True)\n",
    "\n",
    "dl = Dataloader(data, sampler)\n",
    "\n",
    "opt = GD(config.lr)\n",
    "loss = MSE()"
   ]
  },
  {
   "cell_type": "code",
   "execution_count": 18,
   "id": "b275e4c2",
   "metadata": {
    "execution": {
     "iopub.execute_input": "2022-06-23T00:34:29.484246Z",
     "iopub.status.busy": "2022-06-23T00:34:29.479419Z",
     "iopub.status.idle": "2022-06-23T00:34:29.489561Z",
     "shell.execute_reply": "2022-06-23T00:34:29.490022Z"
    },
    "papermill": {
     "duration": 0.046486,
     "end_time": "2022-06-23T00:34:29.490168",
     "exception": false,
     "start_time": "2022-06-23T00:34:29.443682",
     "status": "completed"
    },
    "tags": []
   },
   "outputs": [],
   "source": [
    "training_data_x = X_train\n",
    "testing_data_x = X_test\n",
    "training_data_y = y_train.reshape(-1,1)\n",
    "testing_data_y = y_test.reshape(-1,1)"
   ]
  },
  {
   "cell_type": "code",
   "execution_count": 19,
   "id": "76951160",
   "metadata": {
    "execution": {
     "iopub.execute_input": "2022-06-23T00:34:29.559072Z",
     "iopub.status.busy": "2022-06-23T00:34:29.558383Z",
     "iopub.status.idle": "2022-06-23T00:34:29.569564Z",
     "shell.execute_reply": "2022-06-23T00:34:29.570025Z"
    },
    "papermill": {
     "duration": 0.053471,
     "end_time": "2022-06-23T00:34:29.570176",
     "exception": false,
     "start_time": "2022-06-23T00:34:29.516705",
     "status": "completed"
    },
    "tags": []
   },
   "outputs": [
    {
     "name": "stdout",
     "output_type": "stream",
     "text": [
      "xavier\n",
      "xavier\n",
      "xavier\n",
      "xavier\n",
      "xavier\n"
     ]
    }
   ],
   "source": [
    "layers = [Affine(\"first\", 784, 100), Relu(\"first\"), Affine(\"second\", 100, 100), Relu(\"second\"), Affine(\"third\", 100, 2), Affine(\"last\", 2, 1), Sigmoid(\"last\")]\n",
    "model_nn = Model(layers)\n",
    "model_lr = Model([Affine(\"logits\", 784, 1), Sigmoid(\"sigmoid\")])"
   ]
  },
  {
   "cell_type": "code",
   "execution_count": 20,
   "id": "6eede77a",
   "metadata": {
    "execution": {
     "iopub.execute_input": "2022-06-23T00:34:29.639436Z",
     "iopub.status.busy": "2022-06-23T00:34:29.631255Z",
     "iopub.status.idle": "2022-06-23T00:34:29.641699Z",
     "shell.execute_reply": "2022-06-23T00:34:29.642175Z"
    },
    "papermill": {
     "duration": 0.044976,
     "end_time": "2022-06-23T00:34:29.642322",
     "exception": false,
     "start_time": "2022-06-23T00:34:29.597346",
     "status": "completed"
    },
    "tags": []
   },
   "outputs": [],
   "source": [
    "nn_learner = Learner(loss, model_nn, opt, config.num_epochs)\n",
    "acc_nn = ClfCallback(nn_learner, config.bs, training_data_x , testing_data_x, training_data_y, testing_data_y)\n",
    "nn_learner.set_callbacks([acc_nn])"
   ]
  },
  {
   "cell_type": "code",
   "execution_count": 21,
   "id": "877b6cc7",
   "metadata": {
    "execution": {
     "iopub.execute_input": "2022-06-23T00:34:29.700219Z",
     "iopub.status.busy": "2022-06-23T00:34:29.699620Z",
     "iopub.status.idle": "2022-06-23T00:34:29.712782Z",
     "shell.execute_reply": "2022-06-23T00:34:29.712303Z"
    },
    "papermill": {
     "duration": 0.043763,
     "end_time": "2022-06-23T00:34:29.712909",
     "exception": false,
     "start_time": "2022-06-23T00:34:29.669146",
     "status": "completed"
    },
    "tags": []
   },
   "outputs": [],
   "source": [
    "lr_learner = Learner(loss, model_lr, opt, config.num_epochs)\n",
    "acc_lr = ClfCallback(lr_learner, config.bs, training_data_x , testing_data_x, training_data_y, testing_data_y)\n",
    "lr_learner.set_callbacks([acc_lr])"
   ]
  },
  {
   "cell_type": "code",
   "execution_count": 22,
   "id": "d9b133c3",
   "metadata": {
    "execution": {
     "iopub.execute_input": "2022-06-23T00:34:29.784856Z",
     "iopub.status.busy": "2022-06-23T00:34:29.784229Z",
     "iopub.status.idle": "2022-06-23T00:35:52.019273Z",
     "shell.execute_reply": "2022-06-23T00:35:52.020169Z"
    },
    "papermill": {
     "duration": 82.280405,
     "end_time": "2022-06-23T00:35:52.020332",
     "exception": false,
     "start_time": "2022-06-23T00:34:29.739927",
     "status": "completed"
    },
    "tags": []
   },
   "outputs": [
    {
     "name": "stdout",
     "output_type": "stream",
     "text": [
      "Epoch 0, Loss 0.2569\n",
      "Training Accuracy: 0.4888, Testing Accuracy: 0.5101\n",
      "\n"
     ]
    },
    {
     "name": "stdout",
     "output_type": "stream",
     "text": [
      "Epoch 10, Loss 0.1491\n",
      "Training Accuracy: 0.8954, Testing Accuracy: 0.9068\n",
      "\n"
     ]
    },
    {
     "name": "stdout",
     "output_type": "stream",
     "text": [
      "Epoch 20, Loss 0.0723\n",
      "Training Accuracy: 0.9311, Testing Accuracy: 0.9451\n",
      "\n"
     ]
    },
    {
     "name": "stdout",
     "output_type": "stream",
     "text": [
      "Epoch 30, Loss 0.0506\n",
      "Training Accuracy: 0.9466, Testing Accuracy: 0.9551\n",
      "\n"
     ]
    },
    {
     "name": "stdout",
     "output_type": "stream",
     "text": [
      "Epoch 40, Loss 0.0418\n",
      "Training Accuracy: 0.9538, Testing Accuracy: 0.9637\n",
      "\n"
     ]
    },
    {
     "name": "stdout",
     "output_type": "stream",
     "text": [
      "Epoch 50, Loss 0.0371\n",
      "Training Accuracy: 0.9582, Testing Accuracy: 0.9652\n",
      "\n"
     ]
    },
    {
     "name": "stdout",
     "output_type": "stream",
     "text": [
      "Epoch 60, Loss 0.034\n",
      "Training Accuracy: 0.9608, Testing Accuracy: 0.9667\n",
      "\n"
     ]
    },
    {
     "name": "stdout",
     "output_type": "stream",
     "text": [
      "Epoch 70, Loss 0.0318\n",
      "Training Accuracy: 0.9627, Testing Accuracy: 0.9693\n",
      "\n"
     ]
    },
    {
     "name": "stdout",
     "output_type": "stream",
     "text": [
      "Epoch 80, Loss 0.0301\n",
      "Training Accuracy: 0.9645, Testing Accuracy: 0.9703\n",
      "\n"
     ]
    },
    {
     "name": "stdout",
     "output_type": "stream",
     "text": [
      "Epoch 90, Loss 0.0288\n",
      "Training Accuracy: 0.9665, Testing Accuracy: 0.9703\n",
      "\n"
     ]
    },
    {
     "name": "stdout",
     "output_type": "stream",
     "text": [
      "Epoch 100, Loss 0.0276\n",
      "Training Accuracy: 0.9673, Testing Accuracy: 0.9713\n",
      "\n"
     ]
    },
    {
     "name": "stdout",
     "output_type": "stream",
     "text": [
      "Epoch 110, Loss 0.0267\n",
      "Training Accuracy: 0.9690, Testing Accuracy: 0.9708\n",
      "\n"
     ]
    },
    {
     "name": "stdout",
     "output_type": "stream",
     "text": [
      "Epoch 120, Loss 0.0258\n",
      "Training Accuracy: 0.9699, Testing Accuracy: 0.9708\n",
      "\n"
     ]
    },
    {
     "name": "stdout",
     "output_type": "stream",
     "text": [
      "Epoch 130, Loss 0.0251\n",
      "Training Accuracy: 0.9705, Testing Accuracy: 0.9713\n",
      "\n"
     ]
    },
    {
     "name": "stdout",
     "output_type": "stream",
     "text": [
      "Epoch 140, Loss 0.0244\n",
      "Training Accuracy: 0.9715, Testing Accuracy: 0.9708\n",
      "\n"
     ]
    },
    {
     "name": "stdout",
     "output_type": "stream",
     "text": [
      "Epoch 150, Loss 0.0238\n",
      "Training Accuracy: 0.9720, Testing Accuracy: 0.9728\n",
      "\n"
     ]
    },
    {
     "name": "stdout",
     "output_type": "stream",
     "text": [
      "Epoch 160, Loss 0.0232\n",
      "Training Accuracy: 0.9729, Testing Accuracy: 0.9723\n",
      "\n"
     ]
    },
    {
     "name": "stdout",
     "output_type": "stream",
     "text": [
      "Epoch 170, Loss 0.0226\n",
      "Training Accuracy: 0.9734, Testing Accuracy: 0.9733\n",
      "\n"
     ]
    },
    {
     "name": "stdout",
     "output_type": "stream",
     "text": [
      "Epoch 180, Loss 0.0221\n",
      "Training Accuracy: 0.9741, Testing Accuracy: 0.9743\n",
      "\n"
     ]
    },
    {
     "name": "stdout",
     "output_type": "stream",
     "text": [
      "Epoch 190, Loss 0.0217\n",
      "Training Accuracy: 0.9749, Testing Accuracy: 0.9743\n",
      "\n"
     ]
    },
    {
     "name": "stdout",
     "output_type": "stream",
     "text": [
      "Epoch 200, Loss 0.0212\n",
      "Training Accuracy: 0.9752, Testing Accuracy: 0.9748\n",
      "\n"
     ]
    },
    {
     "name": "stdout",
     "output_type": "stream",
     "text": [
      "Epoch 210, Loss 0.0208\n",
      "Training Accuracy: 0.9755, Testing Accuracy: 0.9748\n",
      "\n"
     ]
    },
    {
     "name": "stdout",
     "output_type": "stream",
     "text": [
      "Epoch 220, Loss 0.0204\n",
      "Training Accuracy: 0.9761, Testing Accuracy: 0.9748\n",
      "\n"
     ]
    },
    {
     "name": "stdout",
     "output_type": "stream",
     "text": [
      "Epoch 230, Loss 0.02\n",
      "Training Accuracy: 0.9768, Testing Accuracy: 0.9748\n",
      "\n"
     ]
    },
    {
     "name": "stdout",
     "output_type": "stream",
     "text": [
      "Epoch 240, Loss 0.0197\n",
      "Training Accuracy: 0.9774, Testing Accuracy: 0.9748\n",
      "\n"
     ]
    },
    {
     "data": {
      "text/plain": [
       "0.002555352885300563"
      ]
     },
     "execution_count": 22,
     "metadata": {},
     "output_type": "execute_result"
    }
   ],
   "source": [
    "nn_learner.train_loop(dl)"
   ]
  },
  {
   "cell_type": "code",
   "execution_count": 23,
   "id": "e0163366",
   "metadata": {
    "execution": {
     "iopub.execute_input": "2022-06-23T00:35:52.100528Z",
     "iopub.status.busy": "2022-06-23T00:35:52.099897Z",
     "iopub.status.idle": "2022-06-23T00:36:06.841604Z",
     "shell.execute_reply": "2022-06-23T00:36:06.842458Z"
    },
    "papermill": {
     "duration": 14.787682,
     "end_time": "2022-06-23T00:36:06.842615",
     "exception": false,
     "start_time": "2022-06-23T00:35:52.054933",
     "status": "completed"
    },
    "tags": []
   },
   "outputs": [
    {
     "name": "stdout",
     "output_type": "stream",
     "text": [
      "Epoch 0, Loss 0.2216\n",
      "Training Accuracy: 0.7475, Testing Accuracy: 0.7686\n",
      "\n"
     ]
    },
    {
     "name": "stdout",
     "output_type": "stream",
     "text": [
      "Epoch 10, Loss 0.0997\n",
      "Training Accuracy: 0.9123, Testing Accuracy: 0.9234\n",
      "\n"
     ]
    },
    {
     "name": "stdout",
     "output_type": "stream",
     "text": [
      "Epoch 20, Loss 0.0781\n",
      "Training Accuracy: 0.9270, Testing Accuracy: 0.9380\n",
      "\n"
     ]
    },
    {
     "name": "stdout",
     "output_type": "stream",
     "text": [
      "Epoch 30, Loss 0.0677\n",
      "Training Accuracy: 0.9356, Testing Accuracy: 0.9435\n",
      "\n"
     ]
    },
    {
     "name": "stdout",
     "output_type": "stream",
     "text": [
      "Epoch 40, Loss 0.0614\n",
      "Training Accuracy: 0.9415, Testing Accuracy: 0.9496\n",
      "\n"
     ]
    },
    {
     "name": "stdout",
     "output_type": "stream",
     "text": [
      "Epoch 50, Loss 0.057\n",
      "Training Accuracy: 0.9448, Testing Accuracy: 0.9521\n",
      "\n"
     ]
    },
    {
     "name": "stdout",
     "output_type": "stream",
     "text": [
      "Epoch 60, Loss 0.0537\n",
      "Training Accuracy: 0.9471, Testing Accuracy: 0.9521\n",
      "\n"
     ]
    },
    {
     "name": "stdout",
     "output_type": "stream",
     "text": [
      "Epoch 70, Loss 0.0512\n",
      "Training Accuracy: 0.9491, Testing Accuracy: 0.9556\n",
      "\n"
     ]
    },
    {
     "name": "stdout",
     "output_type": "stream",
     "text": [
      "Epoch 80, Loss 0.0492\n",
      "Training Accuracy: 0.9505, Testing Accuracy: 0.9572\n",
      "\n"
     ]
    },
    {
     "name": "stdout",
     "output_type": "stream",
     "text": [
      "Epoch 90, Loss 0.0475\n",
      "Training Accuracy: 0.9523, Testing Accuracy: 0.9597\n",
      "\n"
     ]
    },
    {
     "name": "stdout",
     "output_type": "stream",
     "text": [
      "Epoch 100, Loss 0.0461\n",
      "Training Accuracy: 0.9537, Testing Accuracy: 0.9627\n",
      "\n"
     ]
    },
    {
     "name": "stdout",
     "output_type": "stream",
     "text": [
      "Epoch 110, Loss 0.0449\n",
      "Training Accuracy: 0.9545, Testing Accuracy: 0.9637\n",
      "\n"
     ]
    },
    {
     "name": "stdout",
     "output_type": "stream",
     "text": [
      "Epoch 120, Loss 0.0438\n",
      "Training Accuracy: 0.9553, Testing Accuracy: 0.9652\n",
      "\n"
     ]
    },
    {
     "name": "stdout",
     "output_type": "stream",
     "text": [
      "Epoch 130, Loss 0.0429\n",
      "Training Accuracy: 0.9563, Testing Accuracy: 0.9662\n",
      "\n"
     ]
    },
    {
     "name": "stdout",
     "output_type": "stream",
     "text": [
      "Epoch 140, Loss 0.042\n",
      "Training Accuracy: 0.9572, Testing Accuracy: 0.9667\n",
      "\n"
     ]
    },
    {
     "name": "stdout",
     "output_type": "stream",
     "text": [
      "Epoch 150, Loss 0.0413\n",
      "Training Accuracy: 0.9578, Testing Accuracy: 0.9667\n",
      "\n"
     ]
    },
    {
     "name": "stdout",
     "output_type": "stream",
     "text": [
      "Epoch 160, Loss 0.0406\n",
      "Training Accuracy: 0.9587, Testing Accuracy: 0.9662\n",
      "\n"
     ]
    },
    {
     "name": "stdout",
     "output_type": "stream",
     "text": [
      "Epoch 170, Loss 0.04\n",
      "Training Accuracy: 0.9592, Testing Accuracy: 0.9667\n",
      "\n"
     ]
    },
    {
     "name": "stdout",
     "output_type": "stream",
     "text": [
      "Epoch 180, Loss 0.0394\n",
      "Training Accuracy: 0.9593, Testing Accuracy: 0.9667\n",
      "\n"
     ]
    },
    {
     "name": "stdout",
     "output_type": "stream",
     "text": [
      "Epoch 190, Loss 0.0389\n",
      "Training Accuracy: 0.9596, Testing Accuracy: 0.9672\n",
      "\n"
     ]
    },
    {
     "name": "stdout",
     "output_type": "stream",
     "text": [
      "Epoch 200, Loss 0.0384\n",
      "Training Accuracy: 0.9597, Testing Accuracy: 0.9672\n",
      "\n"
     ]
    },
    {
     "name": "stdout",
     "output_type": "stream",
     "text": [
      "Epoch 210, Loss 0.038\n",
      "Training Accuracy: 0.9602, Testing Accuracy: 0.9672\n",
      "\n"
     ]
    },
    {
     "name": "stdout",
     "output_type": "stream",
     "text": [
      "Epoch 220, Loss 0.0376\n",
      "Training Accuracy: 0.9603, Testing Accuracy: 0.9682\n",
      "\n"
     ]
    },
    {
     "name": "stdout",
     "output_type": "stream",
     "text": [
      "Epoch 230, Loss 0.0372\n",
      "Training Accuracy: 0.9609, Testing Accuracy: 0.9682\n",
      "\n"
     ]
    },
    {
     "name": "stdout",
     "output_type": "stream",
     "text": [
      "Epoch 240, Loss 0.0368\n",
      "Training Accuracy: 0.9609, Testing Accuracy: 0.9677\n",
      "\n"
     ]
    },
    {
     "data": {
      "text/plain": [
       "0.028265120853402388"
      ]
     },
     "execution_count": 23,
     "metadata": {},
     "output_type": "execute_result"
    }
   ],
   "source": [
    "lr_learner.train_loop(dl)"
   ]
  },
  {
   "cell_type": "code",
   "execution_count": 24,
   "id": "ca410940",
   "metadata": {
    "execution": {
     "iopub.execute_input": "2022-06-23T00:36:06.932809Z",
     "iopub.status.busy": "2022-06-23T00:36:06.932198Z",
     "iopub.status.idle": "2022-06-23T00:36:07.165716Z",
     "shell.execute_reply": "2022-06-23T00:36:07.165161Z"
    },
    "papermill": {
     "duration": 0.281802,
     "end_time": "2022-06-23T00:36:07.165850",
     "exception": false,
     "start_time": "2022-06-23T00:36:06.884048",
     "status": "completed"
    },
    "tags": []
   },
   "outputs": [
    {
     "data": {
      "text/plain": [
       "<matplotlib.legend.Legend at 0x7f95feb0aa20>"
      ]
     },
     "execution_count": 24,
     "metadata": {},
     "output_type": "execute_result"
    },
    {
     "data": {
      "image/png": "[encoded data removed]",
      "text/plain": [
       "<Figure size 1080x720 with 1 Axes>"
      ]
     },
     "metadata": {
      "needs_background": "light"
     },
     "output_type": "display_data"
    }
   ],
   "source": [
    "#comparing the results of NN and LR\n",
    "plt.figure(figsize=(15,10))\n",
    "\n",
    "# Neural Network plots\n",
    "plt.plot(acc_nn.accuracies, 'r-', label = \"Training Accuracies - NN\")\n",
    "plt.plot(acc_nn.test_accuracies, 'g-', label = \"Testing Accuracies - NN\")\n",
    "\n",
    "# Logistic Regression plots\n",
    "plt.plot(acc_lr.accuracies, 'k-', label = \"Training Accuracies - LR\")\n",
    "plt.plot(acc_lr.test_accuracies, 'b-', label = \"Testing Accuracies - LR\")\n",
    "plt.legend()"
   ]
  },
  {
   "cell_type": "markdown",
   "id": "80dfb35c",
   "metadata": {
    "papermill": {
     "duration": 0.041901,
     "end_time": "2022-06-23T00:36:07.249986",
     "exception": false,
     "start_time": "2022-06-23T00:36:07.208085",
     "status": "completed"
    },
    "tags": []
   },
   "source": [
    "#### Plotting the outputs of this layer of the NN.\n"
   ]
  },
  {
   "cell_type": "code",
   "execution_count": 25,
   "id": "45eb2ff5",
   "metadata": {
    "execution": {
     "iopub.execute_input": "2022-06-23T00:36:07.345817Z",
     "iopub.status.busy": "2022-06-23T00:36:07.345153Z",
     "iopub.status.idle": "2022-06-23T00:36:07.363523Z",
     "shell.execute_reply": "2022-06-23T00:36:07.363004Z"
    },
    "papermill": {
     "duration": 0.072063,
     "end_time": "2022-06-23T00:36:07.363654",
     "exception": false,
     "start_time": "2022-06-23T00:36:07.291591",
     "status": "completed"
    },
    "tags": []
   },
   "outputs": [],
   "source": [
    "new_model = Model(layers[:-2])\n",
    "testing_plot = new_model(testing_data_x)"
   ]
  },
  {
   "cell_type": "code",
   "execution_count": 26,
   "id": "4c0a5485",
   "metadata": {
    "execution": {
     "iopub.execute_input": "2022-06-23T00:36:07.464079Z",
     "iopub.status.busy": "2022-06-23T00:36:07.463458Z",
     "iopub.status.idle": "2022-06-23T00:36:07.662288Z",
     "shell.execute_reply": "2022-06-23T00:36:07.662743Z"
    },
    "papermill": {
     "duration": 0.256525,
     "end_time": "2022-06-23T00:36:07.662919",
     "exception": false,
     "start_time": "2022-06-23T00:36:07.406394",
     "status": "completed"
    },
    "tags": []
   },
   "outputs": [
    {
     "data": {
      "text/plain": [
       "Text(0.5, 1.0, 'Outputs')"
      ]
     },
     "execution_count": 26,
     "metadata": {},
     "output_type": "execute_result"
    },
    {
     "data": {
      "image/png": "[encoded data removed]",
      "text/plain": [
       "<Figure size 576x504 with 1 Axes>"
      ]
     },
     "metadata": {
      "needs_background": "light"
     },
     "output_type": "display_data"
    }
   ],
   "source": [
    "# Plotting the scatter plot of points and color coding by class\n",
    "plt.figure(figsize=(8,7))\n",
    "plt.scatter(testing_plot[:,0], testing_plot[:,1], alpha = 0.1, c = y_test.ravel());\n",
    "plt.title('Outputs')"
   ]
  },
  {
   "cell_type": "markdown",
   "id": "a74fcf8f",
   "metadata": {
    "papermill": {
     "duration": 0.044635,
     "end_time": "2022-06-23T00:36:07.752315",
     "exception": false,
     "start_time": "2022-06-23T00:36:07.707680",
     "status": "completed"
    },
    "tags": []
   },
   "source": [
    "Probability contours"
   ]
  },
  {
   "cell_type": "code",
   "execution_count": 27,
   "id": "d0afc8e3",
   "metadata": {
    "execution": {
     "iopub.execute_input": "2022-06-23T00:36:07.846639Z",
     "iopub.status.busy": "2022-06-23T00:36:07.846046Z",
     "iopub.status.idle": "2022-06-23T00:36:07.858828Z",
     "shell.execute_reply": "2022-06-23T00:36:07.859315Z"
    },
    "papermill": {
     "duration": 0.062285,
     "end_time": "2022-06-23T00:36:07.859458",
     "exception": false,
     "start_time": "2022-06-23T00:36:07.797173",
     "status": "completed"
    },
    "tags": []
   },
   "outputs": [],
   "source": [
    "model_prob = Model(layers[-2:]) "
   ]
  },
  {
   "cell_type": "code",
   "execution_count": 28,
   "id": "9b96e238",
   "metadata": {
    "execution": {
     "iopub.execute_input": "2022-06-23T00:36:07.955715Z",
     "iopub.status.busy": "2022-06-23T00:36:07.955103Z",
     "iopub.status.idle": "2022-06-23T00:36:07.968291Z",
     "shell.execute_reply": "2022-06-23T00:36:07.968728Z"
    },
    "papermill": {
     "duration": 0.064521,
     "end_time": "2022-06-23T00:36:07.968878",
     "exception": false,
     "start_time": "2022-06-23T00:36:07.904357",
     "status": "completed"
    },
    "tags": []
   },
   "outputs": [],
   "source": [
    "#creating the x and y ranges according to the above generated plot.\n",
    "x_range = np.linspace(-4, 1, 100) \n",
    "y_range = np.linspace(-6, 6, 100) \n",
    "x_grid, y_grid = np.meshgrid(x_range, y_range) # x_grid and y_grig are of size 100 X 100\n",
    "\n",
    "# converting x_grid and y_grid to continuous arrays\n",
    "x_gridflat = np.ravel(x_grid)\n",
    "y_gridflat = np.ravel(y_grid)\n",
    "\n",
    "# The last layer of the current model takes two columns as input. Hence transpose of np.vstack() is required.\n",
    "X = np.vstack((x_gridflat, y_gridflat)).T\n",
    "\n",
    "prob_contour = model_prob(X).reshape(100,100) "
   ]
  },
  {
   "cell_type": "code",
   "execution_count": 29,
   "id": "da72499a",
   "metadata": {
    "execution": {
     "iopub.execute_input": "2022-06-23T00:36:08.101162Z",
     "iopub.status.busy": "2022-06-23T00:36:08.100459Z",
     "iopub.status.idle": "2022-06-23T00:36:08.353157Z",
     "shell.execute_reply": "2022-06-23T00:36:08.352378Z"
    },
    "papermill": {
     "duration": 0.302879,
     "end_time": "2022-06-23T00:36:08.353298",
     "exception": false,
     "start_time": "2022-06-23T00:36:08.050419",
     "status": "completed"
    },
    "tags": []
   },
   "outputs": [
    {
     "data": {
      "image/png": "[encoded data removed]",
      "text/plain": [
       "<Figure size 720x648 with 1 Axes>"
      ]
     },
     "metadata": {
      "needs_background": "light"
     },
     "output_type": "display_data"
    }
   ],
   "source": [
    "plt.figure(figsize=(10,9))\n",
    "plt.scatter(testing_plot[:,0], testing_plot[:,1], alpha = 0.1, c = y_test.ravel())\n",
    "contours = plt.contour(x_grid,y_grid,prob_contour)\n",
    "plt.title('Probability Contours')\n",
    "plt.clabel(contours, inline = True );"
   ]
  },
  {
   "cell_type": "code",
   "execution_count": null,
   "id": "e81b4ac7",
   "metadata": {
    "papermill": {
     "duration": 0.047586,
     "end_time": "2022-06-23T00:36:08.449063",
     "exception": false,
     "start_time": "2022-06-23T00:36:08.401477",
     "status": "completed"
    },
    "tags": []
   },
   "outputs": [],
   "source": []
  }
 ],
 "metadata": {
  "kernelspec": {
   "display_name": "Python 3",
   "language": "python",
   "name": "python3"
  },
  "language_info": {
   "codemirror_mode": {
    "name": "ipython",
    "version": 3
   },
   "file_extension": ".py",
   "mimetype": "text/x-python",
   "name": "python",
   "nbconvert_exporter": "python",
   "pygments_lexer": "ipython3",
   "version": "3.6.15"
  },
  "papermill": {
   "default_parameters": {},
   "duration": 105.478333,
   "end_time": "2022-06-23T00:36:09.017318",
   "environment_variables": {},
   "exception": null,
   "input_path": "2020-08-11-part2.ipynb",
   "output_path": "2020-08-11-part2.ipynb",
   "parameters": {},
   "start_time": "2022-06-23T00:34:23.538985",
   "version": "2.3.3"
  }
 },
 "nbformat": 4,
 "nbformat_minor": 5
}