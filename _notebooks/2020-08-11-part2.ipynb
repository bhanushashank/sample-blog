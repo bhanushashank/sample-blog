{
 "cells": [
  {
   "cell_type": "markdown",
   "id": "98380cd3",
   "metadata": {
    "papermill": {
     "duration": 0.030118,
     "end_time": "2022-08-02T10:10:43.143597",
     "exception": false,
     "start_time": "2022-08-02T10:10:43.113479",
     "status": "completed"
    },
    "tags": []
   },
   "source": [
    "# Distinguish Your Own Digits (DYOD)"
   ]
  },
  {
   "cell_type": "markdown",
   "id": "ef31240d",
   "metadata": {
    "papermill": {
     "duration": 0.024053,
     "end_time": "2022-08-02T10:10:43.192114",
     "exception": false,
     "start_time": "2022-08-02T10:10:43.168061",
     "status": "completed"
    },
    "tags": []
   },
   "source": [
    "You are going to write a classifier that distinguishes between the number 3 and number 8."
   ]
  },
  {
   "cell_type": "code",
   "execution_count": 1,
   "id": "b15c8646",
   "metadata": {
    "execution": {
     "iopub.execute_input": "2022-08-02T10:10:43.250138Z",
     "iopub.status.busy": "2022-08-02T10:10:43.249520Z",
     "iopub.status.idle": "2022-08-02T10:10:43.260785Z",
     "shell.execute_reply": "2022-08-02T10:10:43.260287Z"
    },
    "papermill": {
     "duration": 0.045096,
     "end_time": "2022-08-02T10:10:43.260921",
     "exception": false,
     "start_time": "2022-08-02T10:10:43.215825",
     "status": "completed"
    },
    "tags": []
   },
   "outputs": [],
   "source": [
    "%load_ext autoreload\n",
    "%autoreload 2"
   ]
  },
  {
   "cell_type": "code",
   "execution_count": 2,
   "id": "22ef38dc",
   "metadata": {
    "execution": {
     "iopub.execute_input": "2022-08-02T10:10:43.313321Z",
     "iopub.status.busy": "2022-08-02T10:10:43.312705Z",
     "iopub.status.idle": "2022-08-02T10:10:43.891438Z",
     "shell.execute_reply": "2022-08-02T10:10:43.890840Z"
    },
    "papermill": {
     "duration": 0.607064,
     "end_time": "2022-08-02T10:10:43.891584",
     "exception": false,
     "start_time": "2022-08-02T10:10:43.284520",
     "status": "completed"
    },
    "tags": []
   },
   "outputs": [],
   "source": [
    "%matplotlib inline\n",
    "import numpy as np\n",
    "import matplotlib.pyplot as plt\n",
    "import pandas as pd"
   ]
  },
  {
   "cell_type": "markdown",
   "id": "ba036198",
   "metadata": {
    "papermill": {
     "duration": 0.023771,
     "end_time": "2022-08-02T10:10:43.939796",
     "exception": false,
     "start_time": "2022-08-02T10:10:43.916025",
     "status": "completed"
    },
    "tags": []
   },
   "source": [
    "From the command line run `pip install mnist`. This is a library that will help you bring down the mnist dataset. If you run this from a notebook, you need to put  `!pip install mnist` in a cell by itself."
   ]
  },
  {
   "cell_type": "code",
   "execution_count": 3,
   "id": "bb6ad8a1",
   "metadata": {
    "execution": {
     "iopub.execute_input": "2022-08-02T10:10:44.000740Z",
     "iopub.status.busy": "2022-08-02T10:10:44.000127Z",
     "iopub.status.idle": "2022-08-02T10:10:45.762298Z",
     "shell.execute_reply": "2022-08-02T10:10:45.761695Z"
    },
    "papermill": {
     "duration": 1.79891,
     "end_time": "2022-08-02T10:10:45.762472",
     "exception": false,
     "start_time": "2022-08-02T10:10:43.963562",
     "status": "completed"
    },
    "tags": []
   },
   "outputs": [
    {
     "name": "stdout",
     "output_type": "stream",
     "text": [
      "Collecting mnist\r\n"
     ]
    },
    {
     "name": "stdout",
     "output_type": "stream",
     "text": [
      "  Downloading mnist-0.2.2-py2.py3-none-any.whl (3.5 kB)\r\n",
      "Requirement already satisfied: numpy in /opt/hostedtoolcache/Python/3.6.15/x64/lib/python3.6/site-packages (from mnist) (1.19.5)\r\n"
     ]
    },
    {
     "name": "stdout",
     "output_type": "stream",
     "text": [
      "Installing collected packages: mnist\r\n",
      "Successfully installed mnist-0.2.2\r\n"
     ]
    }
   ],
   "source": [
    "!pip install mnist"
   ]
  },
  {
   "cell_type": "markdown",
   "id": "69df9c9a",
   "metadata": {
    "papermill": {
     "duration": 0.024719,
     "end_time": "2022-08-02T10:10:45.812462",
     "exception": false,
     "start_time": "2022-08-02T10:10:45.787743",
     "status": "completed"
    },
    "tags": []
   },
   "source": [
    "## Preparing the Data"
   ]
  },
  {
   "cell_type": "code",
   "execution_count": 4,
   "id": "7f69d806",
   "metadata": {
    "execution": {
     "iopub.execute_input": "2022-08-02T10:10:45.872213Z",
     "iopub.status.busy": "2022-08-02T10:10:45.871572Z",
     "iopub.status.idle": "2022-08-02T10:10:45.883854Z",
     "shell.execute_reply": "2022-08-02T10:10:45.883341Z"
    },
    "papermill": {
     "duration": 0.04694,
     "end_time": "2022-08-02T10:10:45.883979",
     "exception": false,
     "start_time": "2022-08-02T10:10:45.837039",
     "status": "completed"
    },
    "tags": []
   },
   "outputs": [],
   "source": [
    "import mnist"
   ]
  },
  {
   "cell_type": "code",
   "execution_count": 5,
   "id": "a411e44f",
   "metadata": {
    "execution": {
     "iopub.execute_input": "2022-08-02T10:10:45.947984Z",
     "iopub.status.busy": "2022-08-02T10:10:45.938829Z",
     "iopub.status.idle": "2022-08-02T10:10:46.515155Z",
     "shell.execute_reply": "2022-08-02T10:10:46.514558Z"
    },
    "papermill": {
     "duration": 0.606584,
     "end_time": "2022-08-02T10:10:46.515288",
     "exception": false,
     "start_time": "2022-08-02T10:10:45.908704",
     "status": "completed"
    },
    "tags": []
   },
   "outputs": [],
   "source": [
    "train_images = mnist.train_images()\n",
    "train_labels = mnist.train_labels()"
   ]
  },
  {
   "cell_type": "code",
   "execution_count": 6,
   "id": "dceab3a5",
   "metadata": {
    "execution": {
     "iopub.execute_input": "2022-08-02T10:10:46.571757Z",
     "iopub.status.busy": "2022-08-02T10:10:46.571147Z",
     "iopub.status.idle": "2022-08-02T10:10:46.584931Z",
     "shell.execute_reply": "2022-08-02T10:10:46.585501Z"
    },
    "papermill": {
     "duration": 0.04568,
     "end_time": "2022-08-02T10:10:46.585653",
     "exception": false,
     "start_time": "2022-08-02T10:10:46.539973",
     "status": "completed"
    },
    "tags": []
   },
   "outputs": [
    {
     "data": {
      "text/plain": [
       "((60000, 28, 28), (60000,))"
      ]
     },
     "execution_count": 6,
     "metadata": {},
     "output_type": "execute_result"
    }
   ],
   "source": [
    "train_images.shape, train_labels.shape"
   ]
  },
  {
   "cell_type": "code",
   "execution_count": 7,
   "id": "f50dc2bb",
   "metadata": {
    "execution": {
     "iopub.execute_input": "2022-08-02T10:10:46.641114Z",
     "iopub.status.busy": "2022-08-02T10:10:46.640512Z",
     "iopub.status.idle": "2022-08-02T10:10:46.749597Z",
     "shell.execute_reply": "2022-08-02T10:10:46.748956Z"
    },
    "papermill": {
     "duration": 0.139414,
     "end_time": "2022-08-02T10:10:46.749742",
     "exception": false,
     "start_time": "2022-08-02T10:10:46.610328",
     "status": "completed"
    },
    "tags": []
   },
   "outputs": [],
   "source": [
    "test_images = mnist.test_images()\n",
    "test_labels = mnist.test_labels()"
   ]
  },
  {
   "cell_type": "code",
   "execution_count": 8,
   "id": "fc38cf1b",
   "metadata": {
    "execution": {
     "iopub.execute_input": "2022-08-02T10:10:46.806007Z",
     "iopub.status.busy": "2022-08-02T10:10:46.805384Z",
     "iopub.status.idle": "2022-08-02T10:10:46.819954Z",
     "shell.execute_reply": "2022-08-02T10:10:46.819351Z"
    },
    "papermill": {
     "duration": 0.044734,
     "end_time": "2022-08-02T10:10:46.820077",
     "exception": false,
     "start_time": "2022-08-02T10:10:46.775343",
     "status": "completed"
    },
    "tags": []
   },
   "outputs": [
    {
     "data": {
      "text/plain": [
       "((10000, 28, 28), (10000,))"
      ]
     },
     "execution_count": 8,
     "metadata": {},
     "output_type": "execute_result"
    }
   ],
   "source": [
    "test_images.shape, test_labels.shape"
   ]
  },
  {
   "cell_type": "code",
   "execution_count": 9,
   "id": "f9ed8fe0",
   "metadata": {
    "execution": {
     "iopub.execute_input": "2022-08-02T10:10:46.874301Z",
     "iopub.status.busy": "2022-08-02T10:10:46.873702Z",
     "iopub.status.idle": "2022-08-02T10:10:47.018377Z",
     "shell.execute_reply": "2022-08-02T10:10:47.017778Z"
    },
    "papermill": {
     "duration": 0.173476,
     "end_time": "2022-08-02T10:10:47.018533",
     "exception": false,
     "start_time": "2022-08-02T10:10:46.845057",
     "status": "completed"
    },
    "tags": []
   },
   "outputs": [
    {
     "name": "stdout",
     "output_type": "stream",
     "text": [
      "2\n"
     ]
    },
    {
     "data": {
      "text/plain": [
       "<matplotlib.image.AxesImage at 0x7f602e0a74a8>"
      ]
     },
     "execution_count": 9,
     "metadata": {},
     "output_type": "execute_result"
    },
    {
     "data": {
      "image/png": "[encoded data removed]",
      "text/plain": [
       "<Figure size 432x288 with 1 Axes>"
      ]
     },
     "metadata": {
      "needs_background": "light"
     },
     "output_type": "display_data"
    }
   ],
   "source": [
    "image_index = 7776 # You may select anything up to 60,000\n",
    "print(train_labels[image_index]) \n",
    "plt.imshow(train_images[image_index], cmap='Greys')"
   ]
  },
  {
   "cell_type": "markdown",
   "id": "a8d2388d",
   "metadata": {
    "papermill": {
     "duration": 0.026149,
     "end_time": "2022-08-02T10:10:47.071158",
     "exception": false,
     "start_time": "2022-08-02T10:10:47.045009",
     "status": "completed"
    },
    "tags": []
   },
   "source": [
    "## Filter data to get 3 and 8 out"
   ]
  },
  {
   "cell_type": "code",
   "execution_count": 10,
   "id": "776f7fc7",
   "metadata": {
    "execution": {
     "iopub.execute_input": "2022-08-02T10:10:47.128711Z",
     "iopub.status.busy": "2022-08-02T10:10:47.128091Z",
     "iopub.status.idle": "2022-08-02T10:10:47.146455Z",
     "shell.execute_reply": "2022-08-02T10:10:47.145843Z"
    },
    "papermill": {
     "duration": 0.04924,
     "end_time": "2022-08-02T10:10:47.146594",
     "exception": false,
     "start_time": "2022-08-02T10:10:47.097354",
     "status": "completed"
    },
    "tags": []
   },
   "outputs": [],
   "source": [
    "train_filter = np.where((train_labels == 3 ) | (train_labels == 8))\n",
    "test_filter = np.where((test_labels == 3) | (test_labels == 8))\n",
    "X_train, y_train = train_images[train_filter], train_labels[train_filter]\n",
    "X_test, y_test = test_images[test_filter], test_labels[test_filter]"
   ]
  },
  {
   "cell_type": "markdown",
   "id": "948f0b7e",
   "metadata": {
    "papermill": {
     "duration": 0.02607,
     "end_time": "2022-08-02T10:10:47.199725",
     "exception": false,
     "start_time": "2022-08-02T10:10:47.173655",
     "status": "completed"
    },
    "tags": []
   },
   "source": [
    "We normalize the pizel values in the 0 to 1 range"
   ]
  },
  {
   "cell_type": "code",
   "execution_count": 11,
   "id": "ee4c2166",
   "metadata": {
    "execution": {
     "iopub.execute_input": "2022-08-02T10:10:47.256107Z",
     "iopub.status.busy": "2022-08-02T10:10:47.255496Z",
     "iopub.status.idle": "2022-08-02T10:10:47.303459Z",
     "shell.execute_reply": "2022-08-02T10:10:47.302865Z"
    },
    "papermill": {
     "duration": 0.077778,
     "end_time": "2022-08-02T10:10:47.303610",
     "exception": false,
     "start_time": "2022-08-02T10:10:47.225832",
     "status": "completed"
    },
    "tags": []
   },
   "outputs": [],
   "source": [
    "X_train = X_train/255.\n",
    "X_test = X_test/255."
   ]
  },
  {
   "cell_type": "markdown",
   "id": "ddcf4fab",
   "metadata": {
    "papermill": {
     "duration": 0.026632,
     "end_time": "2022-08-02T10:10:47.356830",
     "exception": false,
     "start_time": "2022-08-02T10:10:47.330198",
     "status": "completed"
    },
    "tags": []
   },
   "source": [
    "And setup the labels as 1 (when the digit is 3) and 0 (when the digit is 8)"
   ]
  },
  {
   "cell_type": "code",
   "execution_count": 12,
   "id": "7dc908f2",
   "metadata": {
    "execution": {
     "iopub.execute_input": "2022-08-02T10:10:47.414079Z",
     "iopub.status.busy": "2022-08-02T10:10:47.413489Z",
     "iopub.status.idle": "2022-08-02T10:10:47.427114Z",
     "shell.execute_reply": "2022-08-02T10:10:47.426619Z"
    },
    "papermill": {
     "duration": 0.044204,
     "end_time": "2022-08-02T10:10:47.427235",
     "exception": false,
     "start_time": "2022-08-02T10:10:47.383031",
     "status": "completed"
    },
    "tags": []
   },
   "outputs": [],
   "source": [
    "y_train = 1*(y_train==3)\n",
    "y_test = 1*(y_test==3)"
   ]
  },
  {
   "cell_type": "code",
   "execution_count": 13,
   "id": "01e4e969",
   "metadata": {
    "execution": {
     "iopub.execute_input": "2022-08-02T10:10:47.484343Z",
     "iopub.status.busy": "2022-08-02T10:10:47.483751Z",
     "iopub.status.idle": "2022-08-02T10:10:47.498993Z",
     "shell.execute_reply": "2022-08-02T10:10:47.499478Z"
    },
    "papermill": {
     "duration": 0.046246,
     "end_time": "2022-08-02T10:10:47.499621",
     "exception": false,
     "start_time": "2022-08-02T10:10:47.453375",
     "status": "completed"
    },
    "tags": []
   },
   "outputs": [
    {
     "data": {
      "text/plain": [
       "((11982, 28, 28), (1984, 28, 28))"
      ]
     },
     "execution_count": 13,
     "metadata": {},
     "output_type": "execute_result"
    }
   ],
   "source": [
    "X_train.shape, X_test.shape"
   ]
  },
  {
   "cell_type": "markdown",
   "id": "5ccf3f85",
   "metadata": {
    "papermill": {
     "duration": 0.026295,
     "end_time": "2022-08-02T10:10:47.552400",
     "exception": false,
     "start_time": "2022-08-02T10:10:47.526105",
     "status": "completed"
    },
    "tags": []
   },
   "source": [
    "We reshape the data to flatten the image pixels into a set of features or co-variates:"
   ]
  },
  {
   "cell_type": "code",
   "execution_count": 14,
   "id": "5286a4a3",
   "metadata": {
    "execution": {
     "iopub.execute_input": "2022-08-02T10:10:47.614139Z",
     "iopub.status.busy": "2022-08-02T10:10:47.613520Z",
     "iopub.status.idle": "2022-08-02T10:10:47.625856Z",
     "shell.execute_reply": "2022-08-02T10:10:47.625264Z"
    },
    "papermill": {
     "duration": 0.047121,
     "end_time": "2022-08-02T10:10:47.625980",
     "exception": false,
     "start_time": "2022-08-02T10:10:47.578859",
     "status": "completed"
    },
    "tags": []
   },
   "outputs": [
    {
     "data": {
      "text/plain": [
       "((11982, 784), (1984, 784))"
      ]
     },
     "execution_count": 14,
     "metadata": {},
     "output_type": "execute_result"
    }
   ],
   "source": [
    "X_train = X_train.reshape(X_train.shape[0], -1)\n",
    "X_test = X_test.reshape(X_test.shape[0], -1)\n",
    "X_train.shape, X_test.shape"
   ]
  },
  {
   "cell_type": "code",
   "execution_count": 15,
   "id": "73c5f88a",
   "metadata": {
    "execution": {
     "iopub.execute_input": "2022-08-02T10:10:47.684605Z",
     "iopub.status.busy": "2022-08-02T10:10:47.683992Z",
     "iopub.status.idle": "2022-08-02T10:10:47.709385Z",
     "shell.execute_reply": "2022-08-02T10:10:47.708804Z"
    },
    "papermill": {
     "duration": 0.056833,
     "end_time": "2022-08-02T10:10:47.709525",
     "exception": false,
     "start_time": "2022-08-02T10:10:47.652692",
     "status": "completed"
    },
    "tags": []
   },
   "outputs": [],
   "source": [
    "#Impoting functions from 'Kudzu'\n",
    "from kudzu.model import Model\n",
    "from kudzu.train import Learner\n",
    "from kudzu.optim import GD\n",
    "from kudzu.data import Data, Sampler,Dataloader\n",
    "\n",
    "from kudzu.callbacks import AccCallback\n",
    "from kudzu.callbacks import ClfCallback\n",
    "\n",
    "from kudzu.loss import MSE\n",
    "\n",
    "from kudzu.layer import Sigmoid,Relu\n",
    "from kudzu.layer import Affine"
   ]
  },
  {
   "cell_type": "markdown",
   "id": "bc01172a",
   "metadata": {
    "papermill": {
     "duration": 0.026863,
     "end_time": "2022-08-02T10:10:47.763859",
     "exception": false,
     "start_time": "2022-08-02T10:10:47.736996",
     "status": "completed"
    },
    "tags": []
   },
   "source": [
    "### Let us create a `Config` class, to store important parameters. \n",
    "This class essentially plays the role of a dictionary."
   ]
  },
  {
   "cell_type": "code",
   "execution_count": 16,
   "id": "978281aa",
   "metadata": {
    "execution": {
     "iopub.execute_input": "2022-08-02T10:10:47.821812Z",
     "iopub.status.busy": "2022-08-02T10:10:47.821199Z",
     "iopub.status.idle": "2022-08-02T10:10:47.834967Z",
     "shell.execute_reply": "2022-08-02T10:10:47.835418Z"
    },
    "papermill": {
     "duration": 0.045018,
     "end_time": "2022-08-02T10:10:47.835572",
     "exception": false,
     "start_time": "2022-08-02T10:10:47.790554",
     "status": "completed"
    },
    "tags": []
   },
   "outputs": [],
   "source": [
    "class Config:\n",
    "    pass\n",
    "config = Config()\n",
    "config.lr = 0.001\n",
    "config.num_epochs = 250\n",
    "config.bs = 50"
   ]
  },
  {
   "cell_type": "markdown",
   "id": "1385fa59",
   "metadata": {
    "papermill": {
     "duration": 0.026836,
     "end_time": "2022-08-02T10:10:47.889547",
     "exception": false,
     "start_time": "2022-08-02T10:10:47.862711",
     "status": "completed"
    },
    "tags": []
   },
   "source": [
    "### Running Models with the Training data\n",
    "Details about the network layers:\n",
    "- A first affine layer has 784 inputs and does 100 affine transforms. These are followed by a Relu\n",
    "- A second affine layer has 100 inputs from the 100 activations of the past layer, and does 100 affine transforms. These are followed by a Relu\n",
    "- A third affine layer has 100 activations and does 2 affine transformations to create an embedding for visualization. There is no non-linearity here.\n",
    "- A final \"logistic regression\" which has an affine transform from 2 inputs to 1 output, which is squeezed through a sigmoid.\n"
   ]
  },
  {
   "cell_type": "code",
   "execution_count": 17,
   "id": "2b9c66db",
   "metadata": {
    "execution": {
     "iopub.execute_input": "2022-08-02T10:10:47.947806Z",
     "iopub.status.busy": "2022-08-02T10:10:47.947208Z",
     "iopub.status.idle": "2022-08-02T10:10:47.961200Z",
     "shell.execute_reply": "2022-08-02T10:10:47.960694Z"
    },
    "papermill": {
     "duration": 0.045003,
     "end_time": "2022-08-02T10:10:47.961330",
     "exception": false,
     "start_time": "2022-08-02T10:10:47.916327",
     "status": "completed"
    },
    "tags": []
   },
   "outputs": [],
   "source": [
    "data = Data(X_train, y_train.reshape(-1,1))\n",
    "sampler = Sampler(data, config.bs, shuffle=True)\n",
    "\n",
    "dl = Dataloader(data, sampler)\n",
    "\n",
    "opt = GD(config.lr)\n",
    "loss = MSE()"
   ]
  },
  {
   "cell_type": "code",
   "execution_count": 18,
   "id": "b275e4c2",
   "metadata": {
    "execution": {
     "iopub.execute_input": "2022-08-02T10:10:48.022037Z",
     "iopub.status.busy": "2022-08-02T10:10:48.021411Z",
     "iopub.status.idle": "2022-08-02T10:10:48.033871Z",
     "shell.execute_reply": "2022-08-02T10:10:48.033364Z"
    },
    "papermill": {
     "duration": 0.045378,
     "end_time": "2022-08-02T10:10:48.033998",
     "exception": false,
     "start_time": "2022-08-02T10:10:47.988620",
     "status": "completed"
    },
    "tags": []
   },
   "outputs": [],
   "source": [
    "training_data_x = X_train\n",
    "testing_data_x = X_test\n",
    "training_data_y = y_train.reshape(-1,1)\n",
    "testing_data_y = y_test.reshape(-1,1)"
   ]
  },
  {
   "cell_type": "code",
   "execution_count": 19,
   "id": "76951160",
   "metadata": {
    "execution": {
     "iopub.execute_input": "2022-08-02T10:10:48.092532Z",
     "iopub.status.busy": "2022-08-02T10:10:48.091922Z",
     "iopub.status.idle": "2022-08-02T10:10:48.109041Z",
     "shell.execute_reply": "2022-08-02T10:10:48.109523Z"
    },
    "papermill": {
     "duration": 0.049012,
     "end_time": "2022-08-02T10:10:48.109668",
     "exception": false,
     "start_time": "2022-08-02T10:10:48.060656",
     "status": "completed"
    },
    "tags": []
   },
   "outputs": [
    {
     "name": "stdout",
     "output_type": "stream",
     "text": [
      "xavier\n",
      "xavier\n",
      "xavier\n",
      "xavier\n",
      "xavier\n"
     ]
    }
   ],
   "source": [
    "layers = [Affine(\"first\", 784, 100), Relu(\"first\"), Affine(\"second\", 100, 100), Relu(\"second\"), Affine(\"third\", 100, 2), Affine(\"last\", 2, 1), Sigmoid(\"last\")]\n",
    "model_nn = Model(layers)\n",
    "model_lr = Model([Affine(\"logits\", 784, 1), Sigmoid(\"sigmoid\")])"
   ]
  },
  {
   "cell_type": "code",
   "execution_count": 20,
   "id": "6eede77a",
   "metadata": {
    "execution": {
     "iopub.execute_input": "2022-08-02T10:10:48.183500Z",
     "iopub.status.busy": "2022-08-02T10:10:48.182850Z",
     "iopub.status.idle": "2022-08-02T10:10:48.185199Z",
     "shell.execute_reply": "2022-08-02T10:10:48.185655Z"
    },
    "papermill": {
     "duration": 0.048956,
     "end_time": "2022-08-02T10:10:48.185798",
     "exception": false,
     "start_time": "2022-08-02T10:10:48.136842",
     "status": "completed"
    },
    "tags": []
   },
   "outputs": [],
   "source": [
    "nn_learner = Learner(loss, model_nn, opt, config.num_epochs)\n",
    "acc_nn = ClfCallback(nn_learner, config.bs, training_data_x , testing_data_x, training_data_y, testing_data_y)\n",
    "nn_learner.set_callbacks([acc_nn])"
   ]
  },
  {
   "cell_type": "code",
   "execution_count": 21,
   "id": "877b6cc7",
   "metadata": {
    "execution": {
     "iopub.execute_input": "2022-08-02T10:10:48.244676Z",
     "iopub.status.busy": "2022-08-02T10:10:48.244071Z",
     "iopub.status.idle": "2022-08-02T10:10:48.257693Z",
     "shell.execute_reply": "2022-08-02T10:10:48.257208Z"
    },
    "papermill": {
     "duration": 0.044969,
     "end_time": "2022-08-02T10:10:48.257828",
     "exception": false,
     "start_time": "2022-08-02T10:10:48.212859",
     "status": "completed"
    },
    "tags": []
   },
   "outputs": [],
   "source": [
    "lr_learner = Learner(loss, model_lr, opt, config.num_epochs)\n",
    "acc_lr = ClfCallback(lr_learner, config.bs, training_data_x , testing_data_x, training_data_y, testing_data_y)\n",
    "lr_learner.set_callbacks([acc_lr])"
   ]
  },
  {
   "cell_type": "code",
   "execution_count": 22,
   "id": "d9b133c3",
   "metadata": {
    "execution": {
     "iopub.execute_input": "2022-08-02T10:10:48.316758Z",
     "iopub.status.busy": "2022-08-02T10:10:48.316170Z",
     "iopub.status.idle": "2022-08-02T10:12:07.122849Z",
     "shell.execute_reply": "2022-08-02T10:12:07.123723Z"
    },
    "papermill": {
     "duration": 78.838843,
     "end_time": "2022-08-02T10:12:07.123882",
     "exception": false,
     "start_time": "2022-08-02T10:10:48.285039",
     "status": "completed"
    },
    "tags": []
   },
   "outputs": [
    {
     "name": "stdout",
     "output_type": "stream",
     "text": [
      "Epoch 0, Loss 0.2424\n",
      "Training Accuracy: 0.6475, Testing Accuracy: 0.6411\n",
      "\n"
     ]
    },
    {
     "name": "stdout",
     "output_type": "stream",
     "text": [
      "Epoch 10, Loss 0.0922\n",
      "Training Accuracy: 0.9179, Testing Accuracy: 0.9279\n",
      "\n"
     ]
    },
    {
     "name": "stdout",
     "output_type": "stream",
     "text": [
      "Epoch 20, Loss 0.056\n",
      "Training Accuracy: 0.9422, Testing Accuracy: 0.9582\n",
      "\n"
     ]
    },
    {
     "name": "stdout",
     "output_type": "stream",
     "text": [
      "Epoch 30, Loss 0.0438\n",
      "Training Accuracy: 0.9533, Testing Accuracy: 0.9667\n",
      "\n"
     ]
    },
    {
     "name": "stdout",
     "output_type": "stream",
     "text": [
      "Epoch 40, Loss 0.0378\n",
      "Training Accuracy: 0.9573, Testing Accuracy: 0.9688\n",
      "\n"
     ]
    },
    {
     "name": "stdout",
     "output_type": "stream",
     "text": [
      "Epoch 50, Loss 0.0343\n",
      "Training Accuracy: 0.9603, Testing Accuracy: 0.9693\n",
      "\n"
     ]
    },
    {
     "name": "stdout",
     "output_type": "stream",
     "text": [
      "Epoch 60, Loss 0.0318\n",
      "Training Accuracy: 0.9632, Testing Accuracy: 0.9708\n",
      "\n"
     ]
    },
    {
     "name": "stdout",
     "output_type": "stream",
     "text": [
      "Epoch 70, Loss 0.0299\n",
      "Training Accuracy: 0.9654, Testing Accuracy: 0.9728\n",
      "\n"
     ]
    },
    {
     "name": "stdout",
     "output_type": "stream",
     "text": [
      "Epoch 80, Loss 0.0284\n",
      "Training Accuracy: 0.9674, Testing Accuracy: 0.9723\n",
      "\n"
     ]
    },
    {
     "name": "stdout",
     "output_type": "stream",
     "text": [
      "Epoch 90, Loss 0.0272\n",
      "Training Accuracy: 0.9684, Testing Accuracy: 0.9723\n",
      "\n"
     ]
    },
    {
     "name": "stdout",
     "output_type": "stream",
     "text": [
      "Epoch 100, Loss 0.0261\n",
      "Training Accuracy: 0.9698, Testing Accuracy: 0.9733\n",
      "\n"
     ]
    },
    {
     "name": "stdout",
     "output_type": "stream",
     "text": [
      "Epoch 110, Loss 0.0252\n",
      "Training Accuracy: 0.9709, Testing Accuracy: 0.9733\n",
      "\n"
     ]
    },
    {
     "name": "stdout",
     "output_type": "stream",
     "text": [
      "Epoch 120, Loss 0.0243\n",
      "Training Accuracy: 0.9724, Testing Accuracy: 0.9738\n",
      "\n"
     ]
    },
    {
     "name": "stdout",
     "output_type": "stream",
     "text": [
      "Epoch 130, Loss 0.0235\n",
      "Training Accuracy: 0.9730, Testing Accuracy: 0.9733\n",
      "\n"
     ]
    },
    {
     "name": "stdout",
     "output_type": "stream",
     "text": [
      "Epoch 140, Loss 0.0228\n",
      "Training Accuracy: 0.9737, Testing Accuracy: 0.9738\n",
      "\n"
     ]
    },
    {
     "name": "stdout",
     "output_type": "stream",
     "text": [
      "Epoch 150, Loss 0.0222\n",
      "Training Accuracy: 0.9745, Testing Accuracy: 0.9738\n",
      "\n"
     ]
    },
    {
     "name": "stdout",
     "output_type": "stream",
     "text": [
      "Epoch 160, Loss 0.0216\n",
      "Training Accuracy: 0.9752, Testing Accuracy: 0.9738\n",
      "\n"
     ]
    },
    {
     "name": "stdout",
     "output_type": "stream",
     "text": [
      "Epoch 170, Loss 0.021\n",
      "Training Accuracy: 0.9759, Testing Accuracy: 0.9743\n",
      "\n"
     ]
    },
    {
     "name": "stdout",
     "output_type": "stream",
     "text": [
      "Epoch 180, Loss 0.0204\n",
      "Training Accuracy: 0.9765, Testing Accuracy: 0.9738\n",
      "\n"
     ]
    },
    {
     "name": "stdout",
     "output_type": "stream",
     "text": [
      "Epoch 190, Loss 0.0199\n",
      "Training Accuracy: 0.9770, Testing Accuracy: 0.9753\n",
      "\n"
     ]
    },
    {
     "name": "stdout",
     "output_type": "stream",
     "text": [
      "Epoch 200, Loss 0.0194\n",
      "Training Accuracy: 0.9774, Testing Accuracy: 0.9758\n",
      "\n"
     ]
    },
    {
     "name": "stdout",
     "output_type": "stream",
     "text": [
      "Epoch 210, Loss 0.019\n",
      "Training Accuracy: 0.9780, Testing Accuracy: 0.9758\n",
      "\n"
     ]
    },
    {
     "name": "stdout",
     "output_type": "stream",
     "text": [
      "Epoch 220, Loss 0.0185\n",
      "Training Accuracy: 0.9787, Testing Accuracy: 0.9758\n",
      "\n"
     ]
    },
    {
     "name": "stdout",
     "output_type": "stream",
     "text": [
      "Epoch 230, Loss 0.0181\n",
      "Training Accuracy: 0.9794, Testing Accuracy: 0.9763\n",
      "\n"
     ]
    },
    {
     "name": "stdout",
     "output_type": "stream",
     "text": [
      "Epoch 240, Loss 0.0177\n",
      "Training Accuracy: 0.9800, Testing Accuracy: 0.9763\n",
      "\n"
     ]
    },
    {
     "data": {
      "text/plain": [
       "0.04342248288194492"
      ]
     },
     "execution_count": 22,
     "metadata": {},
     "output_type": "execute_result"
    }
   ],
   "source": [
    "nn_learner.train_loop(dl)"
   ]
  },
  {
   "cell_type": "code",
   "execution_count": 23,
   "id": "e0163366",
   "metadata": {
    "execution": {
     "iopub.execute_input": "2022-08-02T10:12:07.204489Z",
     "iopub.status.busy": "2022-08-02T10:12:07.203886Z",
     "iopub.status.idle": "2022-08-02T10:12:21.502805Z",
     "shell.execute_reply": "2022-08-02T10:12:21.503669Z"
    },
    "papermill": {
     "duration": 14.345612,
     "end_time": "2022-08-02T10:12:21.503825",
     "exception": false,
     "start_time": "2022-08-02T10:12:07.158213",
     "status": "completed"
    },
    "tags": []
   },
   "outputs": [
    {
     "name": "stdout",
     "output_type": "stream",
     "text": [
      "Epoch 0, Loss 0.2203\n",
      "Training Accuracy: 0.7788, Testing Accuracy: 0.7959\n",
      "\n"
     ]
    },
    {
     "name": "stdout",
     "output_type": "stream",
     "text": [
      "Epoch 10, Loss 0.1009\n",
      "Training Accuracy: 0.9105, Testing Accuracy: 0.9219\n",
      "\n"
     ]
    },
    {
     "name": "stdout",
     "output_type": "stream",
     "text": [
      "Epoch 20, Loss 0.0786\n",
      "Training Accuracy: 0.9266, Testing Accuracy: 0.9390\n",
      "\n"
     ]
    },
    {
     "name": "stdout",
     "output_type": "stream",
     "text": [
      "Epoch 30, Loss 0.0681\n",
      "Training Accuracy: 0.9357, Testing Accuracy: 0.9486\n",
      "\n"
     ]
    },
    {
     "name": "stdout",
     "output_type": "stream",
     "text": [
      "Epoch 40, Loss 0.0617\n",
      "Training Accuracy: 0.9404, Testing Accuracy: 0.9521\n",
      "\n"
     ]
    },
    {
     "name": "stdout",
     "output_type": "stream",
     "text": [
      "Epoch 50, Loss 0.0573\n",
      "Training Accuracy: 0.9444, Testing Accuracy: 0.9541\n",
      "\n"
     ]
    },
    {
     "name": "stdout",
     "output_type": "stream",
     "text": [
      "Epoch 60, Loss 0.054\n",
      "Training Accuracy: 0.9468, Testing Accuracy: 0.9567\n",
      "\n"
     ]
    },
    {
     "name": "stdout",
     "output_type": "stream",
     "text": [
      "Epoch 70, Loss 0.0515\n",
      "Training Accuracy: 0.9486, Testing Accuracy: 0.9587\n",
      "\n"
     ]
    },
    {
     "name": "stdout",
     "output_type": "stream",
     "text": [
      "Epoch 80, Loss 0.0495\n",
      "Training Accuracy: 0.9506, Testing Accuracy: 0.9597\n",
      "\n"
     ]
    },
    {
     "name": "stdout",
     "output_type": "stream",
     "text": [
      "Epoch 90, Loss 0.0478\n",
      "Training Accuracy: 0.9519, Testing Accuracy: 0.9592\n",
      "\n"
     ]
    },
    {
     "name": "stdout",
     "output_type": "stream",
     "text": [
      "Epoch 100, Loss 0.0464\n",
      "Training Accuracy: 0.9524, Testing Accuracy: 0.9592\n",
      "\n"
     ]
    },
    {
     "name": "stdout",
     "output_type": "stream",
     "text": [
      "Epoch 110, Loss 0.0451\n",
      "Training Accuracy: 0.9532, Testing Accuracy: 0.9602\n",
      "\n"
     ]
    },
    {
     "name": "stdout",
     "output_type": "stream",
     "text": [
      "Epoch 120, Loss 0.0441\n",
      "Training Accuracy: 0.9546, Testing Accuracy: 0.9622\n",
      "\n"
     ]
    },
    {
     "name": "stdout",
     "output_type": "stream",
     "text": [
      "Epoch 130, Loss 0.0431\n",
      "Training Accuracy: 0.9556, Testing Accuracy: 0.9642\n",
      "\n"
     ]
    },
    {
     "name": "stdout",
     "output_type": "stream",
     "text": [
      "Epoch 140, Loss 0.0423\n",
      "Training Accuracy: 0.9560, Testing Accuracy: 0.9642\n",
      "\n"
     ]
    },
    {
     "name": "stdout",
     "output_type": "stream",
     "text": [
      "Epoch 150, Loss 0.0415\n",
      "Training Accuracy: 0.9568, Testing Accuracy: 0.9647\n",
      "\n"
     ]
    },
    {
     "name": "stdout",
     "output_type": "stream",
     "text": [
      "Epoch 160, Loss 0.0409\n",
      "Training Accuracy: 0.9569, Testing Accuracy: 0.9647\n",
      "\n"
     ]
    },
    {
     "name": "stdout",
     "output_type": "stream",
     "text": [
      "Epoch 170, Loss 0.0402\n",
      "Training Accuracy: 0.9571, Testing Accuracy: 0.9652\n",
      "\n"
     ]
    },
    {
     "name": "stdout",
     "output_type": "stream",
     "text": [
      "Epoch 180, Loss 0.0397\n",
      "Training Accuracy: 0.9574, Testing Accuracy: 0.9652\n",
      "\n"
     ]
    },
    {
     "name": "stdout",
     "output_type": "stream",
     "text": [
      "Epoch 190, Loss 0.0392\n",
      "Training Accuracy: 0.9579, Testing Accuracy: 0.9657\n",
      "\n"
     ]
    },
    {
     "name": "stdout",
     "output_type": "stream",
     "text": [
      "Epoch 200, Loss 0.0387\n",
      "Training Accuracy: 0.9583, Testing Accuracy: 0.9652\n",
      "\n"
     ]
    },
    {
     "name": "stdout",
     "output_type": "stream",
     "text": [
      "Epoch 210, Loss 0.0382\n",
      "Training Accuracy: 0.9589, Testing Accuracy: 0.9652\n",
      "\n"
     ]
    },
    {
     "name": "stdout",
     "output_type": "stream",
     "text": [
      "Epoch 220, Loss 0.0378\n",
      "Training Accuracy: 0.9593, Testing Accuracy: 0.9647\n",
      "\n"
     ]
    },
    {
     "name": "stdout",
     "output_type": "stream",
     "text": [
      "Epoch 230, Loss 0.0374\n",
      "Training Accuracy: 0.9597, Testing Accuracy: 0.9647\n",
      "\n"
     ]
    },
    {
     "name": "stdout",
     "output_type": "stream",
     "text": [
      "Epoch 240, Loss 0.0371\n",
      "Training Accuracy: 0.9599, Testing Accuracy: 0.9652\n",
      "\n"
     ]
    },
    {
     "data": {
      "text/plain": [
       "0.028663396208496266"
      ]
     },
     "execution_count": 23,
     "metadata": {},
     "output_type": "execute_result"
    }
   ],
   "source": [
    "lr_learner.train_loop(dl)"
   ]
  },
  {
   "cell_type": "code",
   "execution_count": 24,
   "id": "ca410940",
   "metadata": {
    "execution": {
     "iopub.execute_input": "2022-08-02T10:12:21.599749Z",
     "iopub.status.busy": "2022-08-02T10:12:21.599132Z",
     "iopub.status.idle": "2022-08-02T10:12:21.828554Z",
     "shell.execute_reply": "2022-08-02T10:12:21.827989Z"
    },
    "papermill": {
     "duration": 0.283396,
     "end_time": "2022-08-02T10:12:21.828687",
     "exception": false,
     "start_time": "2022-08-02T10:12:21.545291",
     "status": "completed"
    },
    "tags": []
   },
   "outputs": [
    {
     "data": {
      "text/plain": [
       "<matplotlib.legend.Legend at 0x7f6021459ac8>"
      ]
     },
     "execution_count": 24,
     "metadata": {},
     "output_type": "execute_result"
    },
    {
     "data": {
      "image/png": "[encoded data removed]",
      "text/plain": [
       "<Figure size 1080x720 with 1 Axes>"
      ]
     },
     "metadata": {
      "needs_background": "light"
     },
     "output_type": "display_data"
    }
   ],
   "source": [
    "#comparing the results of NN and LR\n",
    "plt.figure(figsize=(15,10))\n",
    "\n",
    "# Neural Network plots\n",
    "plt.plot(acc_nn.accuracies, 'r-', label = \"Training Accuracies - NN\")\n",
    "plt.plot(acc_nn.test_accuracies, 'g-', label = \"Testing Accuracies - NN\")\n",
    "\n",
    "# Logistic Regression plots\n",
    "plt.plot(acc_lr.accuracies, 'k-', label = \"Training Accuracies - LR\")\n",
    "plt.plot(acc_lr.test_accuracies, 'b-', label = \"Testing Accuracies - LR\")\n",
    "plt.legend()"
   ]
  },
  {
   "cell_type": "markdown",
   "id": "80dfb35c",
   "metadata": {
    "papermill": {
     "duration": 0.041297,
     "end_time": "2022-08-02T10:12:21.912262",
     "exception": false,
     "start_time": "2022-08-02T10:12:21.870965",
     "status": "completed"
    },
    "tags": []
   },
   "source": [
    "#### Plotting the outputs of this layer of the NN.\n"
   ]
  },
  {
   "cell_type": "code",
   "execution_count": 25,
   "id": "45eb2ff5",
   "metadata": {
    "execution": {
     "iopub.execute_input": "2022-08-02T10:12:22.008205Z",
     "iopub.status.busy": "2022-08-02T10:12:22.006117Z",
     "iopub.status.idle": "2022-08-02T10:12:22.024104Z",
     "shell.execute_reply": "2022-08-02T10:12:22.023605Z"
    },
    "papermill": {
     "duration": 0.070588,
     "end_time": "2022-08-02T10:12:22.024234",
     "exception": false,
     "start_time": "2022-08-02T10:12:21.953646",
     "status": "completed"
    },
    "tags": []
   },
   "outputs": [],
   "source": [
    "new_model = Model(layers[:-2])\n",
    "testing_plot = new_model(testing_data_x)"
   ]
  },
  {
   "cell_type": "code",
   "execution_count": 26,
   "id": "4c0a5485",
   "metadata": {
    "execution": {
     "iopub.execute_input": "2022-08-02T10:12:22.114562Z",
     "iopub.status.busy": "2022-08-02T10:12:22.113930Z",
     "iopub.status.idle": "2022-08-02T10:12:22.311819Z",
     "shell.execute_reply": "2022-08-02T10:12:22.312296Z"
    },
    "papermill": {
     "duration": 0.244024,
     "end_time": "2022-08-02T10:12:22.312443",
     "exception": false,
     "start_time": "2022-08-02T10:12:22.068419",
     "status": "completed"
    },
    "tags": []
   },
   "outputs": [
    {
     "data": {
      "text/plain": [
       "Text(0.5, 1.0, 'Outputs')"
      ]
     },
     "execution_count": 26,
     "metadata": {},
     "output_type": "execute_result"
    },
    {
     "data": {
      "image/png": "[encoded data removed]",
      "text/plain": [
       "<Figure size 576x504 with 1 Axes>"
      ]
     },
     "metadata": {
      "needs_background": "light"
     },
     "output_type": "display_data"
    }
   ],
   "source": [
    "# Plotting the scatter plot of points and color coding by class\n",
    "plt.figure(figsize=(8,7))\n",
    "plt.scatter(testing_plot[:,0], testing_plot[:,1], alpha = 0.1, c = y_test.ravel());\n",
    "plt.title('Outputs')"
   ]
  },
  {
   "cell_type": "markdown",
   "id": "a74fcf8f",
   "metadata": {
    "papermill": {
     "duration": 0.043786,
     "end_time": "2022-08-02T10:12:22.400220",
     "exception": false,
     "start_time": "2022-08-02T10:12:22.356434",
     "status": "completed"
    },
    "tags": []
   },
   "source": [
    "Probability contours"
   ]
  },
  {
   "cell_type": "code",
   "execution_count": 27,
   "id": "d0afc8e3",
   "metadata": {
    "execution": {
     "iopub.execute_input": "2022-08-02T10:12:22.492061Z",
     "iopub.status.busy": "2022-08-02T10:12:22.491470Z",
     "iopub.status.idle": "2022-08-02T10:12:22.504115Z",
     "shell.execute_reply": "2022-08-02T10:12:22.503624Z"
    },
    "papermill": {
     "duration": 0.060234,
     "end_time": "2022-08-02T10:12:22.504231",
     "exception": false,
     "start_time": "2022-08-02T10:12:22.443997",
     "status": "completed"
    },
    "tags": []
   },
   "outputs": [],
   "source": [
    "model_prob = Model(layers[-2:]) "
   ]
  },
  {
   "cell_type": "code",
   "execution_count": 28,
   "id": "9b96e238",
   "metadata": {
    "execution": {
     "iopub.execute_input": "2022-08-02T10:12:22.612118Z",
     "iopub.status.busy": "2022-08-02T10:12:22.611490Z",
     "iopub.status.idle": "2022-08-02T10:12:22.619622Z",
     "shell.execute_reply": "2022-08-02T10:12:22.619136Z"
    },
    "papermill": {
     "duration": 0.071704,
     "end_time": "2022-08-02T10:12:22.619748",
     "exception": false,
     "start_time": "2022-08-02T10:12:22.548044",
     "status": "completed"
    },
    "tags": []
   },
   "outputs": [],
   "source": [
    "#creating the x and y ranges according to the above generated plot.\n",
    "x_range = np.linspace(-4, 1, 100) \n",
    "y_range = np.linspace(-6, 6, 100) \n",
    "x_grid, y_grid = np.meshgrid(x_range, y_range) # x_grid and y_grig are of size 100 X 100\n",
    "\n",
    "# converting x_grid and y_grid to continuous arrays\n",
    "x_gridflat = np.ravel(x_grid)\n",
    "y_gridflat = np.ravel(y_grid)\n",
    "\n",
    "# The last layer of the current model takes two columns as input. Hence transpose of np.vstack() is required.\n",
    "X = np.vstack((x_gridflat, y_gridflat)).T\n",
    "\n",
    "prob_contour = model_prob(X).reshape(100,100) "
   ]
  },
  {
   "cell_type": "code",
   "execution_count": 29,
   "id": "da72499a",
   "metadata": {
    "execution": {
     "iopub.execute_input": "2022-08-02T10:12:22.743679Z",
     "iopub.status.busy": "2022-08-02T10:12:22.742991Z",
     "iopub.status.idle": "2022-08-02T10:12:22.993380Z",
     "shell.execute_reply": "2022-08-02T10:12:22.992901Z"
    },
    "papermill": {
     "duration": 0.299382,
     "end_time": "2022-08-02T10:12:22.993511",
     "exception": false,
     "start_time": "2022-08-02T10:12:22.694129",
     "status": "completed"
    },
    "tags": []
   },
   "outputs": [
    {
     "data": {
      "image/png": "[encoded data removed]",
      "text/plain": [
       "<Figure size 720x648 with 1 Axes>"
      ]
     },
     "metadata": {
      "needs_background": "light"
     },
     "output_type": "display_data"
    }
   ],
   "source": [
    "plt.figure(figsize=(10,9))\n",
    "plt.scatter(testing_plot[:,0], testing_plot[:,1], alpha = 0.1, c = y_test.ravel())\n",
    "contours = plt.contour(x_grid,y_grid,prob_contour)\n",
    "plt.title('Probability Contours')\n",
    "plt.clabel(contours, inline = True );"
   ]
  },
  {
   "cell_type": "code",
   "execution_count": null,
   "id": "e81b4ac7",
   "metadata": {
    "papermill": {
     "duration": 0.047389,
     "end_time": "2022-08-02T10:12:23.088038",
     "exception": false,
     "start_time": "2022-08-02T10:12:23.040649",
     "status": "completed"
    },
    "tags": []
   },
   "outputs": [],
   "source": []
  }
 ],
 "metadata": {
  "kernelspec": {
   "display_name": "Python 3",
   "language": "python",
   "name": "python3"
  },
  "language_info": {
   "codemirror_mode": {
    "name": "ipython",
    "version": 3
   },
   "file_extension": ".py",
   "mimetype": "text/x-python",
   "name": "python",
   "nbconvert_exporter": "python",
   "pygments_lexer": "ipython3",
   "version": "3.6.15"
  },
  "papermill": {
   "default_parameters": {},
   "duration": 101.491207,
   "end_time": "2022-08-02T10:12:23.554369",
   "environment_variables": {},
   "exception": null,
   "input_path": "2020-08-11-part2.ipynb",
   "output_path": "2020-08-11-part2.ipynb",
   "parameters": {},
   "start_time": "2022-08-02T10:10:42.063162",
   "version": "2.3.3"
  }
 },
 "nbformat": 4,
 "nbformat_minor": 5
}