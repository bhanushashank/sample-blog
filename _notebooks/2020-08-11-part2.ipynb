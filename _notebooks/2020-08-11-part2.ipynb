{
 "cells": [
  {
   "cell_type": "markdown",
   "id": "98380cd3",
   "metadata": {
    "papermill": {
     "duration": 0.027804,
     "end_time": "2021-10-24T00:23:13.464338",
     "exception": false,
     "start_time": "2021-10-24T00:23:13.436534",
     "status": "completed"
    },
    "tags": []
   },
   "source": [
    "# Distinguish Your Own Digits (DYOD)"
   ]
  },
  {
   "cell_type": "markdown",
   "id": "ef31240d",
   "metadata": {
    "papermill": {
     "duration": 0.02578,
     "end_time": "2021-10-24T00:23:13.515943",
     "exception": false,
     "start_time": "2021-10-24T00:23:13.490163",
     "status": "completed"
    },
    "tags": []
   },
   "source": [
    "You are going to write a classifier that distinguishes between the number 3 and number 8."
   ]
  },
  {
   "cell_type": "code",
   "execution_count": 1,
   "id": "b15c8646",
   "metadata": {
    "execution": {
     "iopub.execute_input": "2021-10-24T00:23:13.576901Z",
     "iopub.status.busy": "2021-10-24T00:23:13.576350Z",
     "iopub.status.idle": "2021-10-24T00:23:13.588450Z",
     "shell.execute_reply": "2021-10-24T00:23:13.587995Z"
    },
    "papermill": {
     "duration": 0.046676,
     "end_time": "2021-10-24T00:23:13.588569",
     "exception": false,
     "start_time": "2021-10-24T00:23:13.541893",
     "status": "completed"
    },
    "tags": []
   },
   "outputs": [],
   "source": [
    "%load_ext autoreload\n",
    "%autoreload 2"
   ]
  },
  {
   "cell_type": "code",
   "execution_count": 2,
   "id": "22ef38dc",
   "metadata": {
    "execution": {
     "iopub.execute_input": "2021-10-24T00:23:13.647776Z",
     "iopub.status.busy": "2021-10-24T00:23:13.647163Z",
     "iopub.status.idle": "2021-10-24T00:23:14.266885Z",
     "shell.execute_reply": "2021-10-24T00:23:14.266354Z"
    },
    "papermill": {
     "duration": 0.653088,
     "end_time": "2021-10-24T00:23:14.267038",
     "exception": false,
     "start_time": "2021-10-24T00:23:13.613950",
     "status": "completed"
    },
    "tags": []
   },
   "outputs": [],
   "source": [
    "%matplotlib inline\n",
    "import numpy as np\n",
    "import matplotlib.pyplot as plt\n",
    "import pandas as pd"
   ]
  },
  {
   "cell_type": "markdown",
   "id": "ba036198",
   "metadata": {
    "papermill": {
     "duration": 0.025058,
     "end_time": "2021-10-24T00:23:14.317998",
     "exception": false,
     "start_time": "2021-10-24T00:23:14.292940",
     "status": "completed"
    },
    "tags": []
   },
   "source": [
    "From the command line run `pip install mnist`. This is a library that will help you bring down the mnist dataset. If you run this from a notebook, you need to put  `!pip install mnist` in a cell by itself."
   ]
  },
  {
   "cell_type": "code",
   "execution_count": 3,
   "id": "bb6ad8a1",
   "metadata": {
    "execution": {
     "iopub.execute_input": "2021-10-24T00:23:14.375531Z",
     "iopub.status.busy": "2021-10-24T00:23:14.374925Z",
     "iopub.status.idle": "2021-10-24T00:23:17.045872Z",
     "shell.execute_reply": "2021-10-24T00:23:17.045232Z"
    },
    "papermill": {
     "duration": 2.701898,
     "end_time": "2021-10-24T00:23:17.046011",
     "exception": false,
     "start_time": "2021-10-24T00:23:14.344113",
     "status": "completed"
    },
    "tags": []
   },
   "outputs": [
    {
     "name": "stdout",
     "output_type": "stream",
     "text": [
      "Collecting mnist\r\n"
     ]
    },
    {
     "name": "stdout",
     "output_type": "stream",
     "text": [
      "  Downloading mnist-0.2.2-py2.py3-none-any.whl (3.5 kB)\r\n",
      "Requirement already satisfied: numpy in /opt/hostedtoolcache/Python/3.6.15/x64/lib/python3.6/site-packages (from mnist) (1.19.5)\r\n"
     ]
    },
    {
     "name": "stdout",
     "output_type": "stream",
     "text": [
      "Installing collected packages: mnist\r\n"
     ]
    },
    {
     "name": "stdout",
     "output_type": "stream",
     "text": [
      "Successfully installed mnist-0.2.2\r\n"
     ]
    },
    {
     "name": "stdout",
     "output_type": "stream",
     "text": [
      "\u001b[33mWARNING: You are using pip version 21.3; however, version 21.3.1 is available.\r\n",
      "You should consider upgrading via the '/opt/hostedtoolcache/Python/3.6.15/x64/bin/python -m pip install --upgrade pip' command.\u001b[0m\r\n"
     ]
    }
   ],
   "source": [
    "!pip install mnist"
   ]
  },
  {
   "cell_type": "markdown",
   "id": "69df9c9a",
   "metadata": {
    "papermill": {
     "duration": 0.027529,
     "end_time": "2021-10-24T00:23:17.102483",
     "exception": false,
     "start_time": "2021-10-24T00:23:17.074954",
     "status": "completed"
    },
    "tags": []
   },
   "source": [
    "## Preparing the Data"
   ]
  },
  {
   "cell_type": "code",
   "execution_count": 4,
   "id": "7f69d806",
   "metadata": {
    "execution": {
     "iopub.execute_input": "2021-10-24T00:23:17.167566Z",
     "iopub.status.busy": "2021-10-24T00:23:17.167022Z",
     "iopub.status.idle": "2021-10-24T00:23:17.182737Z",
     "shell.execute_reply": "2021-10-24T00:23:17.183179Z"
    },
    "papermill": {
     "duration": 0.053291,
     "end_time": "2021-10-24T00:23:17.183330",
     "exception": false,
     "start_time": "2021-10-24T00:23:17.130039",
     "status": "completed"
    },
    "tags": []
   },
   "outputs": [],
   "source": [
    "import mnist"
   ]
  },
  {
   "cell_type": "code",
   "execution_count": 5,
   "id": "a411e44f",
   "metadata": {
    "execution": {
     "iopub.execute_input": "2021-10-24T00:23:17.260839Z",
     "iopub.status.busy": "2021-10-24T00:23:17.260151Z",
     "iopub.status.idle": "2021-10-24T00:23:17.807064Z",
     "shell.execute_reply": "2021-10-24T00:23:17.807515Z"
    },
    "papermill": {
     "duration": 0.595735,
     "end_time": "2021-10-24T00:23:17.807667",
     "exception": false,
     "start_time": "2021-10-24T00:23:17.211932",
     "status": "completed"
    },
    "tags": []
   },
   "outputs": [],
   "source": [
    "train_images = mnist.train_images()\n",
    "train_labels = mnist.train_labels()"
   ]
  },
  {
   "cell_type": "code",
   "execution_count": 6,
   "id": "dceab3a5",
   "metadata": {
    "execution": {
     "iopub.execute_input": "2021-10-24T00:23:17.868257Z",
     "iopub.status.busy": "2021-10-24T00:23:17.867708Z",
     "iopub.status.idle": "2021-10-24T00:23:17.883603Z",
     "shell.execute_reply": "2021-10-24T00:23:17.883126Z"
    },
    "papermill": {
     "duration": 0.046651,
     "end_time": "2021-10-24T00:23:17.883722",
     "exception": false,
     "start_time": "2021-10-24T00:23:17.837071",
     "status": "completed"
    },
    "tags": []
   },
   "outputs": [
    {
     "data": {
      "text/plain": [
       "((60000, 28, 28), (60000,))"
      ]
     },
     "execution_count": 6,
     "metadata": {},
     "output_type": "execute_result"
    }
   ],
   "source": [
    "train_images.shape, train_labels.shape"
   ]
  },
  {
   "cell_type": "code",
   "execution_count": 7,
   "id": "f50dc2bb",
   "metadata": {
    "execution": {
     "iopub.execute_input": "2021-10-24T00:23:17.944104Z",
     "iopub.status.busy": "2021-10-24T00:23:17.943558Z",
     "iopub.status.idle": "2021-10-24T00:23:18.100357Z",
     "shell.execute_reply": "2021-10-24T00:23:18.099204Z"
    },
    "papermill": {
     "duration": 0.188779,
     "end_time": "2021-10-24T00:23:18.100522",
     "exception": false,
     "start_time": "2021-10-24T00:23:17.911743",
     "status": "completed"
    },
    "tags": []
   },
   "outputs": [],
   "source": [
    "test_images = mnist.test_images()\n",
    "test_labels = mnist.test_labels()"
   ]
  },
  {
   "cell_type": "code",
   "execution_count": 8,
   "id": "fc38cf1b",
   "metadata": {
    "execution": {
     "iopub.execute_input": "2021-10-24T00:23:18.166384Z",
     "iopub.status.busy": "2021-10-24T00:23:18.162552Z",
     "iopub.status.idle": "2021-10-24T00:23:18.175776Z",
     "shell.execute_reply": "2021-10-24T00:23:18.175313Z"
    },
    "papermill": {
     "duration": 0.04743,
     "end_time": "2021-10-24T00:23:18.175888",
     "exception": false,
     "start_time": "2021-10-24T00:23:18.128458",
     "status": "completed"
    },
    "tags": []
   },
   "outputs": [
    {
     "data": {
      "text/plain": [
       "((10000, 28, 28), (10000,))"
      ]
     },
     "execution_count": 8,
     "metadata": {},
     "output_type": "execute_result"
    }
   ],
   "source": [
    "test_images.shape, test_labels.shape"
   ]
  },
  {
   "cell_type": "code",
   "execution_count": 9,
   "id": "f9ed8fe0",
   "metadata": {
    "execution": {
     "iopub.execute_input": "2021-10-24T00:23:18.244774Z",
     "iopub.status.busy": "2021-10-24T00:23:18.244143Z",
     "iopub.status.idle": "2021-10-24T00:23:18.415039Z",
     "shell.execute_reply": "2021-10-24T00:23:18.414495Z"
    },
    "papermill": {
     "duration": 0.207875,
     "end_time": "2021-10-24T00:23:18.415165",
     "exception": false,
     "start_time": "2021-10-24T00:23:18.207290",
     "status": "completed"
    },
    "tags": []
   },
   "outputs": [
    {
     "name": "stdout",
     "output_type": "stream",
     "text": [
      "2\n"
     ]
    },
    {
     "data": {
      "text/plain": [
       "<matplotlib.image.AxesImage at 0x7f75f3183860>"
      ]
     },
     "execution_count": 9,
     "metadata": {},
     "output_type": "execute_result"
    },
    {
     "data": {
      "image/png": "[encoded data removed]",
      "text/plain": [
       "<Figure size 432x288 with 1 Axes>"
      ]
     },
     "metadata": {
      "needs_background": "light"
     },
     "output_type": "display_data"
    }
   ],
   "source": [
    "image_index = 7776 # You may select anything up to 60,000\n",
    "print(train_labels[image_index]) \n",
    "plt.imshow(train_images[image_index], cmap='Greys')"
   ]
  },
  {
   "cell_type": "markdown",
   "id": "a8d2388d",
   "metadata": {
    "papermill": {
     "duration": 0.028917,
     "end_time": "2021-10-24T00:23:18.475132",
     "exception": false,
     "start_time": "2021-10-24T00:23:18.446215",
     "status": "completed"
    },
    "tags": []
   },
   "source": [
    "## Filter data to get 3 and 8 out"
   ]
  },
  {
   "cell_type": "code",
   "execution_count": 10,
   "id": "776f7fc7",
   "metadata": {
    "execution": {
     "iopub.execute_input": "2021-10-24T00:23:18.538869Z",
     "iopub.status.busy": "2021-10-24T00:23:18.538342Z",
     "iopub.status.idle": "2021-10-24T00:23:18.553696Z",
     "shell.execute_reply": "2021-10-24T00:23:18.553191Z"
    },
    "papermill": {
     "duration": 0.050062,
     "end_time": "2021-10-24T00:23:18.553814",
     "exception": false,
     "start_time": "2021-10-24T00:23:18.503752",
     "status": "completed"
    },
    "tags": []
   },
   "outputs": [],
   "source": [
    "train_filter = np.where((train_labels == 3 ) | (train_labels == 8))\n",
    "test_filter = np.where((test_labels == 3) | (test_labels == 8))\n",
    "X_train, y_train = train_images[train_filter], train_labels[train_filter]\n",
    "X_test, y_test = test_images[test_filter], test_labels[test_filter]"
   ]
  },
  {
   "cell_type": "markdown",
   "id": "948f0b7e",
   "metadata": {
    "papermill": {
     "duration": 0.027719,
     "end_time": "2021-10-24T00:23:18.612179",
     "exception": false,
     "start_time": "2021-10-24T00:23:18.584460",
     "status": "completed"
    },
    "tags": []
   },
   "source": [
    "We normalize the pizel values in the 0 to 1 range"
   ]
  },
  {
   "cell_type": "code",
   "execution_count": 11,
   "id": "ee4c2166",
   "metadata": {
    "execution": {
     "iopub.execute_input": "2021-10-24T00:23:18.673014Z",
     "iopub.status.busy": "2021-10-24T00:23:18.672406Z",
     "iopub.status.idle": "2021-10-24T00:23:18.732888Z",
     "shell.execute_reply": "2021-10-24T00:23:18.732258Z"
    },
    "papermill": {
     "duration": 0.092266,
     "end_time": "2021-10-24T00:23:18.733017",
     "exception": false,
     "start_time": "2021-10-24T00:23:18.640751",
     "status": "completed"
    },
    "tags": []
   },
   "outputs": [],
   "source": [
    "X_train = X_train/255.\n",
    "X_test = X_test/255."
   ]
  },
  {
   "cell_type": "markdown",
   "id": "ddcf4fab",
   "metadata": {
    "papermill": {
     "duration": 0.028862,
     "end_time": "2021-10-24T00:23:18.794767",
     "exception": false,
     "start_time": "2021-10-24T00:23:18.765905",
     "status": "completed"
    },
    "tags": []
   },
   "source": [
    "And setup the labels as 1 (when the digit is 3) and 0 (when the digit is 8)"
   ]
  },
  {
   "cell_type": "code",
   "execution_count": 12,
   "id": "7dc908f2",
   "metadata": {
    "execution": {
     "iopub.execute_input": "2021-10-24T00:23:18.856235Z",
     "iopub.status.busy": "2021-10-24T00:23:18.855547Z",
     "iopub.status.idle": "2021-10-24T00:23:18.868759Z",
     "shell.execute_reply": "2021-10-24T00:23:18.869373Z"
    },
    "papermill": {
     "duration": 0.045901,
     "end_time": "2021-10-24T00:23:18.869547",
     "exception": false,
     "start_time": "2021-10-24T00:23:18.823646",
     "status": "completed"
    },
    "tags": []
   },
   "outputs": [],
   "source": [
    "y_train = 1*(y_train==3)\n",
    "y_test = 1*(y_test==3)"
   ]
  },
  {
   "cell_type": "code",
   "execution_count": 13,
   "id": "01e4e969",
   "metadata": {
    "execution": {
     "iopub.execute_input": "2021-10-24T00:23:18.934430Z",
     "iopub.status.busy": "2021-10-24T00:23:18.933885Z",
     "iopub.status.idle": "2021-10-24T00:23:18.944931Z",
     "shell.execute_reply": "2021-10-24T00:23:18.945555Z"
    },
    "papermill": {
     "duration": 0.045493,
     "end_time": "2021-10-24T00:23:18.945700",
     "exception": false,
     "start_time": "2021-10-24T00:23:18.900207",
     "status": "completed"
    },
    "tags": []
   },
   "outputs": [
    {
     "data": {
      "text/plain": [
       "((11982, 28, 28), (1984, 28, 28))"
      ]
     },
     "execution_count": 13,
     "metadata": {},
     "output_type": "execute_result"
    }
   ],
   "source": [
    "X_train.shape, X_test.shape"
   ]
  },
  {
   "cell_type": "markdown",
   "id": "5ccf3f85",
   "metadata": {
    "papermill": {
     "duration": 0.027981,
     "end_time": "2021-10-24T00:23:19.001676",
     "exception": false,
     "start_time": "2021-10-24T00:23:18.973695",
     "status": "completed"
    },
    "tags": []
   },
   "source": [
    "We reshape the data to flatten the image pixels into a set of features or co-variates:"
   ]
  },
  {
   "cell_type": "code",
   "execution_count": 14,
   "id": "5286a4a3",
   "metadata": {
    "execution": {
     "iopub.execute_input": "2021-10-24T00:23:19.066162Z",
     "iopub.status.busy": "2021-10-24T00:23:19.065498Z",
     "iopub.status.idle": "2021-10-24T00:23:19.077241Z",
     "shell.execute_reply": "2021-10-24T00:23:19.077807Z"
    },
    "papermill": {
     "duration": 0.048067,
     "end_time": "2021-10-24T00:23:19.077928",
     "exception": false,
     "start_time": "2021-10-24T00:23:19.029861",
     "status": "completed"
    },
    "tags": []
   },
   "outputs": [
    {
     "data": {
      "text/plain": [
       "((11982, 784), (1984, 784))"
      ]
     },
     "execution_count": 14,
     "metadata": {},
     "output_type": "execute_result"
    }
   ],
   "source": [
    "X_train = X_train.reshape(X_train.shape[0], -1)\n",
    "X_test = X_test.reshape(X_test.shape[0], -1)\n",
    "X_train.shape, X_test.shape"
   ]
  },
  {
   "cell_type": "code",
   "execution_count": 15,
   "id": "73c5f88a",
   "metadata": {
    "execution": {
     "iopub.execute_input": "2021-10-24T00:23:19.140307Z",
     "iopub.status.busy": "2021-10-24T00:23:19.139658Z",
     "iopub.status.idle": "2021-10-24T00:23:19.155695Z",
     "shell.execute_reply": "2021-10-24T00:23:19.156161Z"
    },
    "papermill": {
     "duration": 0.050864,
     "end_time": "2021-10-24T00:23:19.156287",
     "exception": false,
     "start_time": "2021-10-24T00:23:19.105423",
     "status": "completed"
    },
    "tags": []
   },
   "outputs": [],
   "source": [
    "#Impoting functions from 'Kudzu'\n",
    "from kudzu.model import Model\n",
    "from kudzu.train import Learner\n",
    "from kudzu.optim import GD\n",
    "from kudzu.data import Data, Sampler,Dataloader\n",
    "\n",
    "from kudzu.callbacks import AccCallback\n",
    "from kudzu.callbacks import ClfCallback\n",
    "\n",
    "from kudzu.loss import MSE\n",
    "\n",
    "from kudzu.layer import Sigmoid,Relu\n",
    "from kudzu.layer import Affine"
   ]
  },
  {
   "cell_type": "markdown",
   "id": "bc01172a",
   "metadata": {
    "papermill": {
     "duration": 0.027945,
     "end_time": "2021-10-24T00:23:19.215629",
     "exception": false,
     "start_time": "2021-10-24T00:23:19.187684",
     "status": "completed"
    },
    "tags": []
   },
   "source": [
    "### Let us create a `Config` class, to store important parameters. \n",
    "This class essentially plays the role of a dictionary."
   ]
  },
  {
   "cell_type": "code",
   "execution_count": 16,
   "id": "978281aa",
   "metadata": {
    "execution": {
     "iopub.execute_input": "2021-10-24T00:23:19.286227Z",
     "iopub.status.busy": "2021-10-24T00:23:19.277993Z",
     "iopub.status.idle": "2021-10-24T00:23:19.288404Z",
     "shell.execute_reply": "2021-10-24T00:23:19.288912Z"
    },
    "papermill": {
     "duration": 0.045451,
     "end_time": "2021-10-24T00:23:19.289038",
     "exception": false,
     "start_time": "2021-10-24T00:23:19.243587",
     "status": "completed"
    },
    "tags": []
   },
   "outputs": [],
   "source": [
    "class Config:\n",
    "    pass\n",
    "config = Config()\n",
    "config.lr = 0.001\n",
    "config.num_epochs = 250\n",
    "config.bs = 50"
   ]
  },
  {
   "cell_type": "markdown",
   "id": "1385fa59",
   "metadata": {
    "papermill": {
     "duration": 0.02769,
     "end_time": "2021-10-24T00:23:19.344948",
     "exception": false,
     "start_time": "2021-10-24T00:23:19.317258",
     "status": "completed"
    },
    "tags": []
   },
   "source": [
    "### Running Models with the Training data\n",
    "Details about the network layers:\n",
    "- A first affine layer has 784 inputs and does 100 affine transforms. These are followed by a Relu\n",
    "- A second affine layer has 100 inputs from the 100 activations of the past layer, and does 100 affine transforms. These are followed by a Relu\n",
    "- A third affine layer has 100 activations and does 2 affine transformations to create an embedding for visualization. There is no non-linearity here.\n",
    "- A final \"logistic regression\" which has an affine transform from 2 inputs to 1 output, which is squeezed through a sigmoid.\n"
   ]
  },
  {
   "cell_type": "code",
   "execution_count": 17,
   "id": "2b9c66db",
   "metadata": {
    "execution": {
     "iopub.execute_input": "2021-10-24T00:23:19.411022Z",
     "iopub.status.busy": "2021-10-24T00:23:19.408147Z",
     "iopub.status.idle": "2021-10-24T00:23:19.422657Z",
     "shell.execute_reply": "2021-10-24T00:23:19.422101Z"
    },
    "papermill": {
     "duration": 0.049099,
     "end_time": "2021-10-24T00:23:19.422770",
     "exception": false,
     "start_time": "2021-10-24T00:23:19.373671",
     "status": "completed"
    },
    "tags": []
   },
   "outputs": [],
   "source": [
    "data = Data(X_train, y_train.reshape(-1,1))\n",
    "sampler = Sampler(data, config.bs, shuffle=True)\n",
    "\n",
    "dl = Dataloader(data, sampler)\n",
    "\n",
    "opt = GD(config.lr)\n",
    "loss = MSE()"
   ]
  },
  {
   "cell_type": "code",
   "execution_count": 18,
   "id": "b275e4c2",
   "metadata": {
    "execution": {
     "iopub.execute_input": "2021-10-24T00:23:19.495631Z",
     "iopub.status.busy": "2021-10-24T00:23:19.491740Z",
     "iopub.status.idle": "2021-10-24T00:23:19.501773Z",
     "shell.execute_reply": "2021-10-24T00:23:19.502265Z"
    },
    "papermill": {
     "duration": 0.049015,
     "end_time": "2021-10-24T00:23:19.502402",
     "exception": false,
     "start_time": "2021-10-24T00:23:19.453387",
     "status": "completed"
    },
    "tags": []
   },
   "outputs": [],
   "source": [
    "training_data_x = X_train\n",
    "testing_data_x = X_test\n",
    "training_data_y = y_train.reshape(-1,1)\n",
    "testing_data_y = y_test.reshape(-1,1)"
   ]
  },
  {
   "cell_type": "code",
   "execution_count": 19,
   "id": "76951160",
   "metadata": {
    "execution": {
     "iopub.execute_input": "2021-10-24T00:23:19.564087Z",
     "iopub.status.busy": "2021-10-24T00:23:19.563484Z",
     "iopub.status.idle": "2021-10-24T00:23:19.578852Z",
     "shell.execute_reply": "2021-10-24T00:23:19.579358Z"
    },
    "papermill": {
     "duration": 0.048414,
     "end_time": "2021-10-24T00:23:19.579581",
     "exception": false,
     "start_time": "2021-10-24T00:23:19.531167",
     "status": "completed"
    },
    "tags": []
   },
   "outputs": [
    {
     "name": "stdout",
     "output_type": "stream",
     "text": [
      "xavier\n",
      "xavier\n",
      "xavier\n",
      "xavier\n",
      "xavier\n"
     ]
    }
   ],
   "source": [
    "layers = [Affine(\"first\", 784, 100), Relu(\"first\"), Affine(\"second\", 100, 100), Relu(\"second\"), Affine(\"third\", 100, 2), Affine(\"last\", 2, 1), Sigmoid(\"last\")]\n",
    "model_nn = Model(layers)\n",
    "model_lr = Model([Affine(\"logits\", 784, 1), Sigmoid(\"sigmoid\")])"
   ]
  },
  {
   "cell_type": "code",
   "execution_count": 20,
   "id": "6eede77a",
   "metadata": {
    "execution": {
     "iopub.execute_input": "2021-10-24T00:23:19.640232Z",
     "iopub.status.busy": "2021-10-24T00:23:19.639523Z",
     "iopub.status.idle": "2021-10-24T00:23:19.652443Z",
     "shell.execute_reply": "2021-10-24T00:23:19.652888Z"
    },
    "papermill": {
     "duration": 0.045034,
     "end_time": "2021-10-24T00:23:19.653013",
     "exception": false,
     "start_time": "2021-10-24T00:23:19.607979",
     "status": "completed"
    },
    "tags": []
   },
   "outputs": [],
   "source": [
    "nn_learner = Learner(loss, model_nn, opt, config.num_epochs)\n",
    "acc_nn = ClfCallback(nn_learner, config.bs, training_data_x , testing_data_x, training_data_y, testing_data_y)\n",
    "nn_learner.set_callbacks([acc_nn])"
   ]
  },
  {
   "cell_type": "code",
   "execution_count": 21,
   "id": "877b6cc7",
   "metadata": {
    "execution": {
     "iopub.execute_input": "2021-10-24T00:23:19.717973Z",
     "iopub.status.busy": "2021-10-24T00:23:19.717355Z",
     "iopub.status.idle": "2021-10-24T00:23:19.729366Z",
     "shell.execute_reply": "2021-10-24T00:23:19.729952Z"
    },
    "papermill": {
     "duration": 0.046423,
     "end_time": "2021-10-24T00:23:19.730091",
     "exception": false,
     "start_time": "2021-10-24T00:23:19.683668",
     "status": "completed"
    },
    "tags": []
   },
   "outputs": [],
   "source": [
    "lr_learner = Learner(loss, model_lr, opt, config.num_epochs)\n",
    "acc_lr = ClfCallback(lr_learner, config.bs, training_data_x , testing_data_x, training_data_y, testing_data_y)\n",
    "lr_learner.set_callbacks([acc_lr])"
   ]
  },
  {
   "cell_type": "code",
   "execution_count": 22,
   "id": "d9b133c3",
   "metadata": {
    "execution": {
     "iopub.execute_input": "2021-10-24T00:23:19.801423Z",
     "iopub.status.busy": "2021-10-24T00:23:19.800725Z",
     "iopub.status.idle": "2021-10-24T00:25:38.538923Z",
     "shell.execute_reply": "2021-10-24T00:25:38.539818Z"
    },
    "papermill": {
     "duration": 138.777364,
     "end_time": "2021-10-24T00:25:38.539991",
     "exception": false,
     "start_time": "2021-10-24T00:23:19.762627",
     "status": "completed"
    },
    "tags": []
   },
   "outputs": [
    {
     "name": "stdout",
     "output_type": "stream",
     "text": [
      "Epoch 0, Loss 0.2332\n",
      "Training Accuracy: 0.7027, Testing Accuracy: 0.7475\n",
      "\n"
     ]
    },
    {
     "name": "stdout",
     "output_type": "stream",
     "text": [
      "Epoch 10, Loss 0.0938\n",
      "Training Accuracy: 0.9150, Testing Accuracy: 0.9315\n",
      "\n"
     ]
    },
    {
     "name": "stdout",
     "output_type": "stream",
     "text": [
      "Epoch 20, Loss 0.0574\n",
      "Training Accuracy: 0.9389, Testing Accuracy: 0.9491\n",
      "\n"
     ]
    },
    {
     "name": "stdout",
     "output_type": "stream",
     "text": [
      "Epoch 30, Loss 0.045\n",
      "Training Accuracy: 0.9493, Testing Accuracy: 0.9567\n",
      "\n"
     ]
    },
    {
     "name": "stdout",
     "output_type": "stream",
     "text": [
      "Epoch 40, Loss 0.0389\n",
      "Training Accuracy: 0.9553, Testing Accuracy: 0.9637\n",
      "\n"
     ]
    },
    {
     "name": "stdout",
     "output_type": "stream",
     "text": [
      "Epoch 50, Loss 0.0352\n",
      "Training Accuracy: 0.9596, Testing Accuracy: 0.9667\n",
      "\n"
     ]
    },
    {
     "name": "stdout",
     "output_type": "stream",
     "text": [
      "Epoch 60, Loss 0.0327\n",
      "Training Accuracy: 0.9624, Testing Accuracy: 0.9688\n",
      "\n"
     ]
    },
    {
     "name": "stdout",
     "output_type": "stream",
     "text": [
      "Epoch 70, Loss 0.0309\n",
      "Training Accuracy: 0.9642, Testing Accuracy: 0.9698\n",
      "\n"
     ]
    },
    {
     "name": "stdout",
     "output_type": "stream",
     "text": [
      "Epoch 80, Loss 0.0294\n",
      "Training Accuracy: 0.9659, Testing Accuracy: 0.9698\n",
      "\n"
     ]
    },
    {
     "name": "stdout",
     "output_type": "stream",
     "text": [
      "Epoch 90, Loss 0.0282\n",
      "Training Accuracy: 0.9677, Testing Accuracy: 0.9693\n",
      "\n"
     ]
    },
    {
     "name": "stdout",
     "output_type": "stream",
     "text": [
      "Epoch 100, Loss 0.0272\n",
      "Training Accuracy: 0.9687, Testing Accuracy: 0.9688\n",
      "\n"
     ]
    },
    {
     "name": "stdout",
     "output_type": "stream",
     "text": [
      "Epoch 110, Loss 0.0263\n",
      "Training Accuracy: 0.9694, Testing Accuracy: 0.9682\n",
      "\n"
     ]
    },
    {
     "name": "stdout",
     "output_type": "stream",
     "text": [
      "Epoch 120, Loss 0.0255\n",
      "Training Accuracy: 0.9705, Testing Accuracy: 0.9677\n",
      "\n"
     ]
    },
    {
     "name": "stdout",
     "output_type": "stream",
     "text": [
      "Epoch 130, Loss 0.0248\n",
      "Training Accuracy: 0.9718, Testing Accuracy: 0.9688\n",
      "\n"
     ]
    },
    {
     "name": "stdout",
     "output_type": "stream",
     "text": [
      "Epoch 140, Loss 0.0241\n",
      "Training Accuracy: 0.9723, Testing Accuracy: 0.9698\n",
      "\n"
     ]
    },
    {
     "name": "stdout",
     "output_type": "stream",
     "text": [
      "Epoch 150, Loss 0.0235\n",
      "Training Accuracy: 0.9726, Testing Accuracy: 0.9708\n",
      "\n"
     ]
    },
    {
     "name": "stdout",
     "output_type": "stream",
     "text": [
      "Epoch 160, Loss 0.023\n",
      "Training Accuracy: 0.9737, Testing Accuracy: 0.9708\n",
      "\n"
     ]
    },
    {
     "name": "stdout",
     "output_type": "stream",
     "text": [
      "Epoch 170, Loss 0.0224\n",
      "Training Accuracy: 0.9740, Testing Accuracy: 0.9723\n",
      "\n"
     ]
    },
    {
     "name": "stdout",
     "output_type": "stream",
     "text": [
      "Epoch 180, Loss 0.022\n",
      "Training Accuracy: 0.9745, Testing Accuracy: 0.9723\n",
      "\n"
     ]
    },
    {
     "name": "stdout",
     "output_type": "stream",
     "text": [
      "Epoch 190, Loss 0.0215\n",
      "Training Accuracy: 0.9753, Testing Accuracy: 0.9723\n",
      "\n"
     ]
    },
    {
     "name": "stdout",
     "output_type": "stream",
     "text": [
      "Epoch 200, Loss 0.0211\n",
      "Training Accuracy: 0.9760, Testing Accuracy: 0.9728\n",
      "\n"
     ]
    },
    {
     "name": "stdout",
     "output_type": "stream",
     "text": [
      "Epoch 210, Loss 0.0207\n",
      "Training Accuracy: 0.9766, Testing Accuracy: 0.9733\n",
      "\n"
     ]
    },
    {
     "name": "stdout",
     "output_type": "stream",
     "text": [
      "Epoch 220, Loss 0.0203\n",
      "Training Accuracy: 0.9770, Testing Accuracy: 0.9728\n",
      "\n"
     ]
    },
    {
     "name": "stdout",
     "output_type": "stream",
     "text": [
      "Epoch 230, Loss 0.0199\n",
      "Training Accuracy: 0.9775, Testing Accuracy: 0.9738\n",
      "\n"
     ]
    },
    {
     "name": "stdout",
     "output_type": "stream",
     "text": [
      "Epoch 240, Loss 0.0195\n",
      "Training Accuracy: 0.9780, Testing Accuracy: 0.9738\n",
      "\n"
     ]
    },
    {
     "data": {
      "text/plain": [
       "0.04807969348237211"
      ]
     },
     "execution_count": 22,
     "metadata": {},
     "output_type": "execute_result"
    }
   ],
   "source": [
    "nn_learner.train_loop(dl)"
   ]
  },
  {
   "cell_type": "code",
   "execution_count": 23,
   "id": "e0163366",
   "metadata": {
    "execution": {
     "iopub.execute_input": "2021-10-24T00:25:38.634888Z",
     "iopub.status.busy": "2021-10-24T00:25:38.634296Z",
     "iopub.status.idle": "2021-10-24T00:25:57.954447Z",
     "shell.execute_reply": "2021-10-24T00:25:57.955464Z"
    },
    "papermill": {
     "duration": 19.37456,
     "end_time": "2021-10-24T00:25:57.955611",
     "exception": false,
     "start_time": "2021-10-24T00:25:38.581051",
     "status": "completed"
    },
    "tags": []
   },
   "outputs": [
    {
     "name": "stdout",
     "output_type": "stream",
     "text": [
      "Epoch 0, Loss 0.2465\n",
      "Training Accuracy: 0.6708, Testing Accuracy: 0.6784\n",
      "\n"
     ]
    },
    {
     "name": "stdout",
     "output_type": "stream",
     "text": [
      "Epoch 10, Loss 0.1073\n",
      "Training Accuracy: 0.8978, Testing Accuracy: 0.9113\n",
      "\n"
     ]
    },
    {
     "name": "stdout",
     "output_type": "stream",
     "text": [
      "Epoch 20, Loss 0.082\n",
      "Training Accuracy: 0.9223, Testing Accuracy: 0.9365\n",
      "\n"
     ]
    },
    {
     "name": "stdout",
     "output_type": "stream",
     "text": [
      "Epoch 30, Loss 0.0702\n",
      "Training Accuracy: 0.9333, Testing Accuracy: 0.9486\n",
      "\n"
     ]
    },
    {
     "name": "stdout",
     "output_type": "stream",
     "text": [
      "Epoch 40, Loss 0.0632\n",
      "Training Accuracy: 0.9391, Testing Accuracy: 0.9536\n",
      "\n"
     ]
    },
    {
     "name": "stdout",
     "output_type": "stream",
     "text": [
      "Epoch 50, Loss 0.0584\n",
      "Training Accuracy: 0.9433, Testing Accuracy: 0.9582\n",
      "\n"
     ]
    },
    {
     "name": "stdout",
     "output_type": "stream",
     "text": [
      "Epoch 60, Loss 0.0549\n",
      "Training Accuracy: 0.9457, Testing Accuracy: 0.9602\n",
      "\n"
     ]
    },
    {
     "name": "stdout",
     "output_type": "stream",
     "text": [
      "Epoch 70, Loss 0.0522\n",
      "Training Accuracy: 0.9478, Testing Accuracy: 0.9627\n",
      "\n"
     ]
    },
    {
     "name": "stdout",
     "output_type": "stream",
     "text": [
      "Epoch 80, Loss 0.05\n",
      "Training Accuracy: 0.9494, Testing Accuracy: 0.9642\n",
      "\n"
     ]
    },
    {
     "name": "stdout",
     "output_type": "stream",
     "text": [
      "Epoch 90, Loss 0.0483\n",
      "Training Accuracy: 0.9506, Testing Accuracy: 0.9627\n",
      "\n"
     ]
    },
    {
     "name": "stdout",
     "output_type": "stream",
     "text": [
      "Epoch 100, Loss 0.0468\n",
      "Training Accuracy: 0.9513, Testing Accuracy: 0.9637\n",
      "\n"
     ]
    },
    {
     "name": "stdout",
     "output_type": "stream",
     "text": [
      "Epoch 110, Loss 0.0455\n",
      "Training Accuracy: 0.9527, Testing Accuracy: 0.9637\n",
      "\n"
     ]
    },
    {
     "name": "stdout",
     "output_type": "stream",
     "text": [
      "Epoch 120, Loss 0.0444\n",
      "Training Accuracy: 0.9530, Testing Accuracy: 0.9647\n",
      "\n"
     ]
    },
    {
     "name": "stdout",
     "output_type": "stream",
     "text": [
      "Epoch 130, Loss 0.0435\n",
      "Training Accuracy: 0.9540, Testing Accuracy: 0.9647\n",
      "\n"
     ]
    },
    {
     "name": "stdout",
     "output_type": "stream",
     "text": [
      "Epoch 140, Loss 0.0426\n",
      "Training Accuracy: 0.9542, Testing Accuracy: 0.9647\n",
      "\n"
     ]
    },
    {
     "name": "stdout",
     "output_type": "stream",
     "text": [
      "Epoch 150, Loss 0.0419\n",
      "Training Accuracy: 0.9553, Testing Accuracy: 0.9647\n",
      "\n"
     ]
    },
    {
     "name": "stdout",
     "output_type": "stream",
     "text": [
      "Epoch 160, Loss 0.0412\n",
      "Training Accuracy: 0.9556, Testing Accuracy: 0.9652\n",
      "\n"
     ]
    },
    {
     "name": "stdout",
     "output_type": "stream",
     "text": [
      "Epoch 170, Loss 0.0405\n",
      "Training Accuracy: 0.9566, Testing Accuracy: 0.9662\n",
      "\n"
     ]
    },
    {
     "name": "stdout",
     "output_type": "stream",
     "text": [
      "Epoch 180, Loss 0.04\n",
      "Training Accuracy: 0.9566, Testing Accuracy: 0.9667\n",
      "\n"
     ]
    },
    {
     "name": "stdout",
     "output_type": "stream",
     "text": [
      "Epoch 190, Loss 0.0394\n",
      "Training Accuracy: 0.9571, Testing Accuracy: 0.9667\n",
      "\n"
     ]
    },
    {
     "name": "stdout",
     "output_type": "stream",
     "text": [
      "Epoch 200, Loss 0.0389\n",
      "Training Accuracy: 0.9576, Testing Accuracy: 0.9677\n",
      "\n"
     ]
    },
    {
     "name": "stdout",
     "output_type": "stream",
     "text": [
      "Epoch 210, Loss 0.0385\n",
      "Training Accuracy: 0.9581, Testing Accuracy: 0.9688\n",
      "\n"
     ]
    },
    {
     "name": "stdout",
     "output_type": "stream",
     "text": [
      "Epoch 220, Loss 0.0381\n",
      "Training Accuracy: 0.9583, Testing Accuracy: 0.9688\n",
      "\n"
     ]
    },
    {
     "name": "stdout",
     "output_type": "stream",
     "text": [
      "Epoch 230, Loss 0.0377\n",
      "Training Accuracy: 0.9587, Testing Accuracy: 0.9693\n",
      "\n"
     ]
    },
    {
     "name": "stdout",
     "output_type": "stream",
     "text": [
      "Epoch 240, Loss 0.0373\n",
      "Training Accuracy: 0.9593, Testing Accuracy: 0.9693\n",
      "\n"
     ]
    },
    {
     "data": {
      "text/plain": [
       "0.06829299161399398"
      ]
     },
     "execution_count": 23,
     "metadata": {},
     "output_type": "execute_result"
    }
   ],
   "source": [
    "lr_learner.train_loop(dl)"
   ]
  },
  {
   "cell_type": "code",
   "execution_count": 24,
   "id": "ca410940",
   "metadata": {
    "execution": {
     "iopub.execute_input": "2021-10-24T00:25:58.058882Z",
     "iopub.status.busy": "2021-10-24T00:25:58.058313Z",
     "iopub.status.idle": "2021-10-24T00:25:58.324716Z",
     "shell.execute_reply": "2021-10-24T00:25:58.323904Z"
    },
    "papermill": {
     "duration": 0.324505,
     "end_time": "2021-10-24T00:25:58.324843",
     "exception": false,
     "start_time": "2021-10-24T00:25:58.000338",
     "status": "completed"
    },
    "tags": []
   },
   "outputs": [
    {
     "data": {
      "text/plain": [
       "<matplotlib.legend.Legend at 0x7f75e59d5e10>"
      ]
     },
     "execution_count": 24,
     "metadata": {},
     "output_type": "execute_result"
    },
    {
     "data": {
      "image/png": "[encoded data removed]",
      "text/plain": [
       "<Figure size 1080x720 with 1 Axes>"
      ]
     },
     "metadata": {
      "needs_background": "light"
     },
     "output_type": "display_data"
    }
   ],
   "source": [
    "#comparing the results of NN and LR\n",
    "plt.figure(figsize=(15,10))\n",
    "\n",
    "# Neural Network plots\n",
    "plt.plot(acc_nn.accuracies, 'r-', label = \"Training Accuracies - NN\")\n",
    "plt.plot(acc_nn.test_accuracies, 'g-', label = \"Testing Accuracies - NN\")\n",
    "\n",
    "# Logistic Regression plots\n",
    "plt.plot(acc_lr.accuracies, 'k-', label = \"Training Accuracies - LR\")\n",
    "plt.plot(acc_lr.test_accuracies, 'b-', label = \"Testing Accuracies - LR\")\n",
    "plt.legend()"
   ]
  },
  {
   "cell_type": "markdown",
   "id": "80dfb35c",
   "metadata": {
    "papermill": {
     "duration": 0.048686,
     "end_time": "2021-10-24T00:25:58.420745",
     "exception": false,
     "start_time": "2021-10-24T00:25:58.372059",
     "status": "completed"
    },
    "tags": []
   },
   "source": [
    "#### Plotting the outputs of this layer of the NN.\n"
   ]
  },
  {
   "cell_type": "code",
   "execution_count": 25,
   "id": "45eb2ff5",
   "metadata": {
    "execution": {
     "iopub.execute_input": "2021-10-24T00:25:58.516799Z",
     "iopub.status.busy": "2021-10-24T00:25:58.516170Z",
     "iopub.status.idle": "2021-10-24T00:25:58.543707Z",
     "shell.execute_reply": "2021-10-24T00:25:58.543129Z"
    },
    "papermill": {
     "duration": 0.078175,
     "end_time": "2021-10-24T00:25:58.543832",
     "exception": false,
     "start_time": "2021-10-24T00:25:58.465657",
     "status": "completed"
    },
    "tags": []
   },
   "outputs": [],
   "source": [
    "new_model = Model(layers[:-2])\n",
    "testing_plot = new_model(testing_data_x)"
   ]
  },
  {
   "cell_type": "code",
   "execution_count": 26,
   "id": "4c0a5485",
   "metadata": {
    "execution": {
     "iopub.execute_input": "2021-10-24T00:25:58.660895Z",
     "iopub.status.busy": "2021-10-24T00:25:58.660003Z",
     "iopub.status.idle": "2021-10-24T00:25:58.887018Z",
     "shell.execute_reply": "2021-10-24T00:25:58.887463Z"
    },
    "papermill": {
     "duration": 0.284931,
     "end_time": "2021-10-24T00:25:58.887609",
     "exception": false,
     "start_time": "2021-10-24T00:25:58.602678",
     "status": "completed"
    },
    "tags": []
   },
   "outputs": [
    {
     "data": {
      "text/plain": [
       "Text(0.5, 1.0, 'Outputs')"
      ]
     },
     "execution_count": 26,
     "metadata": {},
     "output_type": "execute_result"
    },
    {
     "data": {
      "image/png": "[encoded data removed]",
      "text/plain": [
       "<Figure size 576x504 with 1 Axes>"
      ]
     },
     "metadata": {
      "needs_background": "light"
     },
     "output_type": "display_data"
    }
   ],
   "source": [
    "# Plotting the scatter plot of points and color coding by class\n",
    "plt.figure(figsize=(8,7))\n",
    "plt.scatter(testing_plot[:,0], testing_plot[:,1], alpha = 0.1, c = y_test.ravel());\n",
    "plt.title('Outputs')"
   ]
  },
  {
   "cell_type": "markdown",
   "id": "a74fcf8f",
   "metadata": {
    "papermill": {
     "duration": 0.047007,
     "end_time": "2021-10-24T00:25:58.982300",
     "exception": false,
     "start_time": "2021-10-24T00:25:58.935293",
     "status": "completed"
    },
    "tags": []
   },
   "source": [
    "Probability contours"
   ]
  },
  {
   "cell_type": "code",
   "execution_count": 27,
   "id": "d0afc8e3",
   "metadata": {
    "execution": {
     "iopub.execute_input": "2021-10-24T00:25:59.106635Z",
     "iopub.status.busy": "2021-10-24T00:25:59.105380Z",
     "iopub.status.idle": "2021-10-24T00:25:59.117191Z",
     "shell.execute_reply": "2021-10-24T00:25:59.116340Z"
    },
    "papermill": {
     "duration": 0.08655,
     "end_time": "2021-10-24T00:25:59.117303",
     "exception": false,
     "start_time": "2021-10-24T00:25:59.030753",
     "status": "completed"
    },
    "tags": []
   },
   "outputs": [],
   "source": [
    "model_prob = Model(layers[-2:]) "
   ]
  },
  {
   "cell_type": "code",
   "execution_count": 28,
   "id": "9b96e238",
   "metadata": {
    "execution": {
     "iopub.execute_input": "2021-10-24T00:25:59.223253Z",
     "iopub.status.busy": "2021-10-24T00:25:59.218605Z",
     "iopub.status.idle": "2021-10-24T00:25:59.233796Z",
     "shell.execute_reply": "2021-10-24T00:25:59.234218Z"
    },
    "papermill": {
     "duration": 0.065776,
     "end_time": "2021-10-24T00:25:59.234345",
     "exception": false,
     "start_time": "2021-10-24T00:25:59.168569",
     "status": "completed"
    },
    "tags": []
   },
   "outputs": [],
   "source": [
    "#creating the x and y ranges according to the above generated plot.\n",
    "x_range = np.linspace(-4, 1, 100) \n",
    "y_range = np.linspace(-6, 6, 100) \n",
    "x_grid, y_grid = np.meshgrid(x_range, y_range) # x_grid and y_grig are of size 100 X 100\n",
    "\n",
    "# converting x_grid and y_grid to continuous arrays\n",
    "x_gridflat = np.ravel(x_grid)\n",
    "y_gridflat = np.ravel(y_grid)\n",
    "\n",
    "# The last layer of the current model takes two columns as input. Hence transpose of np.vstack() is required.\n",
    "X = np.vstack((x_gridflat, y_gridflat)).T\n",
    "\n",
    "prob_contour = model_prob(X).reshape(100,100) "
   ]
  },
  {
   "cell_type": "code",
   "execution_count": 29,
   "id": "da72499a",
   "metadata": {
    "execution": {
     "iopub.execute_input": "2021-10-24T00:25:59.343191Z",
     "iopub.status.busy": "2021-10-24T00:25:59.342654Z",
     "iopub.status.idle": "2021-10-24T00:25:59.654519Z",
     "shell.execute_reply": "2021-10-24T00:25:59.654043Z"
    },
    "papermill": {
     "duration": 0.368207,
     "end_time": "2021-10-24T00:25:59.654664",
     "exception": false,
     "start_time": "2021-10-24T00:25:59.286457",
     "status": "completed"
    },
    "tags": []
   },
   "outputs": [
    {
     "data": {
      "image/png": "[encoded data removed]",
      "text/plain": [
       "<Figure size 720x648 with 1 Axes>"
      ]
     },
     "metadata": {
      "needs_background": "light"
     },
     "output_type": "display_data"
    }
   ],
   "source": [
    "plt.figure(figsize=(10,9))\n",
    "plt.scatter(testing_plot[:,0], testing_plot[:,1], alpha = 0.1, c = y_test.ravel())\n",
    "contours = plt.contour(x_grid,y_grid,prob_contour)\n",
    "plt.title('Probability Contours')\n",
    "plt.clabel(contours, inline = True );"
   ]
  },
  {
   "cell_type": "code",
   "execution_count": null,
   "id": "e81b4ac7",
   "metadata": {
    "papermill": {
     "duration": 0.050134,
     "end_time": "2021-10-24T00:25:59.754020",
     "exception": false,
     "start_time": "2021-10-24T00:25:59.703886",
     "status": "completed"
    },
    "tags": []
   },
   "outputs": [],
   "source": []
  }
 ],
 "metadata": {
  "kernelspec": {
   "display_name": "Python 3",
   "language": "python",
   "name": "python3"
  },
  "language_info": {
   "codemirror_mode": {
    "name": "ipython",
    "version": 3
   },
   "file_extension": ".py",
   "mimetype": "text/x-python",
   "name": "python",
   "nbconvert_exporter": "python",
   "pygments_lexer": "ipython3",
   "version": "3.6.15"
  },
  "papermill": {
   "default_parameters": {},
   "duration": 168.002497,
   "end_time": "2021-10-24T00:26:00.212308",
   "environment_variables": {},
   "exception": null,
   "input_path": "2020-08-11-part2.ipynb",
   "output_path": "2020-08-11-part2.ipynb",
   "parameters": {},
   "start_time": "2021-10-24T00:23:12.209811",
   "version": "2.3.3"
  }
 },
 "nbformat": 4,
 "nbformat_minor": 5
}