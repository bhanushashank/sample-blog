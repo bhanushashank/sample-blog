{
 "cells": [
  {
   "cell_type": "markdown",
   "id": "98380cd3",
   "metadata": {
    "papermill": {
     "duration": 0.028058,
     "end_time": "2021-09-25T20:06:36.503212",
     "exception": false,
     "start_time": "2021-09-25T20:06:36.475154",
     "status": "completed"
    },
    "tags": []
   },
   "source": [
    "# Distinguish Your Own Digits (DYOD)"
   ]
  },
  {
   "cell_type": "markdown",
   "id": "ef31240d",
   "metadata": {
    "papermill": {
     "duration": 0.024993,
     "end_time": "2021-09-25T20:06:36.552818",
     "exception": false,
     "start_time": "2021-09-25T20:06:36.527825",
     "status": "completed"
    },
    "tags": []
   },
   "source": [
    "You are going to write a classifier that distinguishes between the number 3 and number 8."
   ]
  },
  {
   "cell_type": "code",
   "execution_count": 1,
   "id": "b15c8646",
   "metadata": {
    "execution": {
     "iopub.execute_input": "2021-09-25T20:06:36.611688Z",
     "iopub.status.busy": "2021-09-25T20:06:36.611165Z",
     "iopub.status.idle": "2021-09-25T20:06:36.621357Z",
     "shell.execute_reply": "2021-09-25T20:06:36.620877Z"
    },
    "papermill": {
     "duration": 0.044864,
     "end_time": "2021-09-25T20:06:36.621479",
     "exception": false,
     "start_time": "2021-09-25T20:06:36.576615",
     "status": "completed"
    },
    "tags": []
   },
   "outputs": [],
   "source": [
    "%load_ext autoreload\n",
    "%autoreload 2"
   ]
  },
  {
   "cell_type": "code",
   "execution_count": 2,
   "id": "22ef38dc",
   "metadata": {
    "execution": {
     "iopub.execute_input": "2021-09-25T20:06:36.681316Z",
     "iopub.status.busy": "2021-09-25T20:06:36.680782Z",
     "iopub.status.idle": "2021-09-25T20:06:37.174961Z",
     "shell.execute_reply": "2021-09-25T20:06:37.174419Z"
    },
    "papermill": {
     "duration": 0.529633,
     "end_time": "2021-09-25T20:06:37.175113",
     "exception": false,
     "start_time": "2021-09-25T20:06:36.645480",
     "status": "completed"
    },
    "tags": []
   },
   "outputs": [],
   "source": [
    "%matplotlib inline\n",
    "import numpy as np\n",
    "import matplotlib.pyplot as plt\n",
    "import pandas as pd"
   ]
  },
  {
   "cell_type": "markdown",
   "id": "ba036198",
   "metadata": {
    "papermill": {
     "duration": 0.024153,
     "end_time": "2021-09-25T20:06:37.223711",
     "exception": false,
     "start_time": "2021-09-25T20:06:37.199558",
     "status": "completed"
    },
    "tags": []
   },
   "source": [
    "From the command line run `pip install mnist`. This is a library that will help you bring down the mnist dataset. If you run this from a notebook, you need to put  `!pip install mnist` in a cell by itself."
   ]
  },
  {
   "cell_type": "code",
   "execution_count": 3,
   "id": "bb6ad8a1",
   "metadata": {
    "execution": {
     "iopub.execute_input": "2021-09-25T20:06:37.281324Z",
     "iopub.status.busy": "2021-09-25T20:06:37.280771Z",
     "iopub.status.idle": "2021-09-25T20:06:38.943240Z",
     "shell.execute_reply": "2021-09-25T20:06:38.942717Z"
    },
    "papermill": {
     "duration": 1.694309,
     "end_time": "2021-09-25T20:06:38.943383",
     "exception": false,
     "start_time": "2021-09-25T20:06:37.249074",
     "status": "completed"
    },
    "tags": []
   },
   "outputs": [
    {
     "name": "stdout",
     "output_type": "stream",
     "text": [
      "Collecting mnist\r\n"
     ]
    },
    {
     "name": "stdout",
     "output_type": "stream",
     "text": [
      "  Downloading mnist-0.2.2-py2.py3-none-any.whl (3.5 kB)\r\n",
      "Requirement already satisfied: numpy in /opt/hostedtoolcache/Python/3.6.15/x64/lib/python3.6/site-packages (from mnist) (1.19.5)\r\n"
     ]
    },
    {
     "name": "stdout",
     "output_type": "stream",
     "text": [
      "Installing collected packages: mnist\r\n"
     ]
    },
    {
     "name": "stdout",
     "output_type": "stream",
     "text": [
      "Successfully installed mnist-0.2.2\r\n"
     ]
    }
   ],
   "source": [
    "!pip install mnist"
   ]
  },
  {
   "cell_type": "markdown",
   "id": "69df9c9a",
   "metadata": {
    "papermill": {
     "duration": 0.025073,
     "end_time": "2021-09-25T20:06:38.994163",
     "exception": false,
     "start_time": "2021-09-25T20:06:38.969090",
     "status": "completed"
    },
    "tags": []
   },
   "source": [
    "## Preparing the Data"
   ]
  },
  {
   "cell_type": "code",
   "execution_count": 4,
   "id": "7f69d806",
   "metadata": {
    "execution": {
     "iopub.execute_input": "2021-09-25T20:06:39.047370Z",
     "iopub.status.busy": "2021-09-25T20:06:39.046863Z",
     "iopub.status.idle": "2021-09-25T20:06:39.062244Z",
     "shell.execute_reply": "2021-09-25T20:06:39.061844Z"
    },
    "papermill": {
     "duration": 0.043303,
     "end_time": "2021-09-25T20:06:39.062351",
     "exception": false,
     "start_time": "2021-09-25T20:06:39.019048",
     "status": "completed"
    },
    "tags": []
   },
   "outputs": [],
   "source": [
    "import mnist"
   ]
  },
  {
   "cell_type": "code",
   "execution_count": 5,
   "id": "a411e44f",
   "metadata": {
    "execution": {
     "iopub.execute_input": "2021-09-25T20:06:39.119200Z",
     "iopub.status.busy": "2021-09-25T20:06:39.118691Z",
     "iopub.status.idle": "2021-09-25T20:06:39.738844Z",
     "shell.execute_reply": "2021-09-25T20:06:39.738284Z"
    },
    "papermill": {
     "duration": 0.651561,
     "end_time": "2021-09-25T20:06:39.738984",
     "exception": false,
     "start_time": "2021-09-25T20:06:39.087423",
     "status": "completed"
    },
    "tags": []
   },
   "outputs": [],
   "source": [
    "train_images = mnist.train_images()\n",
    "train_labels = mnist.train_labels()"
   ]
  },
  {
   "cell_type": "code",
   "execution_count": 6,
   "id": "dceab3a5",
   "metadata": {
    "execution": {
     "iopub.execute_input": "2021-09-25T20:06:39.797503Z",
     "iopub.status.busy": "2021-09-25T20:06:39.796991Z",
     "iopub.status.idle": "2021-09-25T20:06:39.809506Z",
     "shell.execute_reply": "2021-09-25T20:06:39.809092Z"
    },
    "papermill": {
     "duration": 0.044385,
     "end_time": "2021-09-25T20:06:39.809616",
     "exception": false,
     "start_time": "2021-09-25T20:06:39.765231",
     "status": "completed"
    },
    "tags": []
   },
   "outputs": [
    {
     "data": {
      "text/plain": [
       "((60000, 28, 28), (60000,))"
      ]
     },
     "execution_count": 6,
     "metadata": {},
     "output_type": "execute_result"
    }
   ],
   "source": [
    "train_images.shape, train_labels.shape"
   ]
  },
  {
   "cell_type": "code",
   "execution_count": 7,
   "id": "f50dc2bb",
   "metadata": {
    "execution": {
     "iopub.execute_input": "2021-09-25T20:06:39.866028Z",
     "iopub.status.busy": "2021-09-25T20:06:39.865532Z",
     "iopub.status.idle": "2021-09-25T20:06:40.049489Z",
     "shell.execute_reply": "2021-09-25T20:06:40.048396Z"
    },
    "papermill": {
     "duration": 0.214754,
     "end_time": "2021-09-25T20:06:40.049629",
     "exception": false,
     "start_time": "2021-09-25T20:06:39.834875",
     "status": "completed"
    },
    "tags": []
   },
   "outputs": [],
   "source": [
    "test_images = mnist.test_images()\n",
    "test_labels = mnist.test_labels()"
   ]
  },
  {
   "cell_type": "code",
   "execution_count": 8,
   "id": "fc38cf1b",
   "metadata": {
    "execution": {
     "iopub.execute_input": "2021-09-25T20:06:40.106141Z",
     "iopub.status.busy": "2021-09-25T20:06:40.105053Z",
     "iopub.status.idle": "2021-09-25T20:06:40.116716Z",
     "shell.execute_reply": "2021-09-25T20:06:40.117230Z"
    },
    "papermill": {
     "duration": 0.040011,
     "end_time": "2021-09-25T20:06:40.117351",
     "exception": false,
     "start_time": "2021-09-25T20:06:40.077340",
     "status": "completed"
    },
    "tags": []
   },
   "outputs": [
    {
     "data": {
      "text/plain": [
       "((10000, 28, 28), (10000,))"
      ]
     },
     "execution_count": 8,
     "metadata": {},
     "output_type": "execute_result"
    }
   ],
   "source": [
    "test_images.shape, test_labels.shape"
   ]
  },
  {
   "cell_type": "code",
   "execution_count": 9,
   "id": "f9ed8fe0",
   "metadata": {
    "execution": {
     "iopub.execute_input": "2021-09-25T20:06:40.172443Z",
     "iopub.status.busy": "2021-09-25T20:06:40.171944Z",
     "iopub.status.idle": "2021-09-25T20:06:40.307596Z",
     "shell.execute_reply": "2021-09-25T20:06:40.307123Z"
    },
    "papermill": {
     "duration": 0.164797,
     "end_time": "2021-09-25T20:06:40.307720",
     "exception": false,
     "start_time": "2021-09-25T20:06:40.142923",
     "status": "completed"
    },
    "tags": []
   },
   "outputs": [
    {
     "name": "stdout",
     "output_type": "stream",
     "text": [
      "2\n"
     ]
    },
    {
     "data": {
      "text/plain": [
       "<matplotlib.image.AxesImage at 0x7f483a5fe8d0>"
      ]
     },
     "execution_count": 9,
     "metadata": {},
     "output_type": "execute_result"
    },
    {
     "data": {
      "image/png": "[encoded data removed]",
      "text/plain": [
       "<Figure size 432x288 with 1 Axes>"
      ]
     },
     "metadata": {
      "needs_background": "light"
     },
     "output_type": "display_data"
    }
   ],
   "source": [
    "image_index = 7776 # You may select anything up to 60,000\n",
    "print(train_labels[image_index]) \n",
    "plt.imshow(train_images[image_index], cmap='Greys')"
   ]
  },
  {
   "cell_type": "markdown",
   "id": "a8d2388d",
   "metadata": {
    "papermill": {
     "duration": 0.02692,
     "end_time": "2021-09-25T20:06:40.362097",
     "exception": false,
     "start_time": "2021-09-25T20:06:40.335177",
     "status": "completed"
    },
    "tags": []
   },
   "source": [
    "## Filter data to get 3 and 8 out"
   ]
  },
  {
   "cell_type": "code",
   "execution_count": 10,
   "id": "776f7fc7",
   "metadata": {
    "execution": {
     "iopub.execute_input": "2021-09-25T20:06:40.425487Z",
     "iopub.status.busy": "2021-09-25T20:06:40.424957Z",
     "iopub.status.idle": "2021-09-25T20:06:40.436290Z",
     "shell.execute_reply": "2021-09-25T20:06:40.436676Z"
    },
    "papermill": {
     "duration": 0.048212,
     "end_time": "2021-09-25T20:06:40.436793",
     "exception": false,
     "start_time": "2021-09-25T20:06:40.388581",
     "status": "completed"
    },
    "tags": []
   },
   "outputs": [],
   "source": [
    "train_filter = np.where((train_labels == 3 ) | (train_labels == 8))\n",
    "test_filter = np.where((test_labels == 3) | (test_labels == 8))\n",
    "X_train, y_train = train_images[train_filter], train_labels[train_filter]\n",
    "X_test, y_test = test_images[test_filter], test_labels[test_filter]"
   ]
  },
  {
   "cell_type": "markdown",
   "id": "948f0b7e",
   "metadata": {
    "papermill": {
     "duration": 0.026311,
     "end_time": "2021-09-25T20:06:40.489502",
     "exception": false,
     "start_time": "2021-09-25T20:06:40.463191",
     "status": "completed"
    },
    "tags": []
   },
   "source": [
    "We normalize the pizel values in the 0 to 1 range"
   ]
  },
  {
   "cell_type": "code",
   "execution_count": 11,
   "id": "ee4c2166",
   "metadata": {
    "execution": {
     "iopub.execute_input": "2021-09-25T20:06:40.550079Z",
     "iopub.status.busy": "2021-09-25T20:06:40.547026Z",
     "iopub.status.idle": "2021-09-25T20:06:40.593287Z",
     "shell.execute_reply": "2021-09-25T20:06:40.593796Z"
    },
    "papermill": {
     "duration": 0.078086,
     "end_time": "2021-09-25T20:06:40.593975",
     "exception": false,
     "start_time": "2021-09-25T20:06:40.515889",
     "status": "completed"
    },
    "tags": []
   },
   "outputs": [],
   "source": [
    "X_train = X_train/255.\n",
    "X_test = X_test/255."
   ]
  },
  {
   "cell_type": "markdown",
   "id": "ddcf4fab",
   "metadata": {
    "papermill": {
     "duration": 0.026613,
     "end_time": "2021-09-25T20:06:40.647888",
     "exception": false,
     "start_time": "2021-09-25T20:06:40.621275",
     "status": "completed"
    },
    "tags": []
   },
   "source": [
    "And setup the labels as 1 (when the digit is 3) and 0 (when the digit is 8)"
   ]
  },
  {
   "cell_type": "code",
   "execution_count": 12,
   "id": "7dc908f2",
   "metadata": {
    "execution": {
     "iopub.execute_input": "2021-09-25T20:06:40.715628Z",
     "iopub.status.busy": "2021-09-25T20:06:40.703722Z",
     "iopub.status.idle": "2021-09-25T20:06:40.717869Z",
     "shell.execute_reply": "2021-09-25T20:06:40.717438Z"
    },
    "papermill": {
     "duration": 0.043641,
     "end_time": "2021-09-25T20:06:40.717973",
     "exception": false,
     "start_time": "2021-09-25T20:06:40.674332",
     "status": "completed"
    },
    "tags": []
   },
   "outputs": [],
   "source": [
    "y_train = 1*(y_train==3)\n",
    "y_test = 1*(y_test==3)"
   ]
  },
  {
   "cell_type": "code",
   "execution_count": 13,
   "id": "01e4e969",
   "metadata": {
    "execution": {
     "iopub.execute_input": "2021-09-25T20:06:40.779400Z",
     "iopub.status.busy": "2021-09-25T20:06:40.773544Z",
     "iopub.status.idle": "2021-09-25T20:06:40.786999Z",
     "shell.execute_reply": "2021-09-25T20:06:40.786597Z"
    },
    "papermill": {
     "duration": 0.042763,
     "end_time": "2021-09-25T20:06:40.787107",
     "exception": false,
     "start_time": "2021-09-25T20:06:40.744344",
     "status": "completed"
    },
    "tags": []
   },
   "outputs": [
    {
     "data": {
      "text/plain": [
       "((11982, 28, 28), (1984, 28, 28))"
      ]
     },
     "execution_count": 13,
     "metadata": {},
     "output_type": "execute_result"
    }
   ],
   "source": [
    "X_train.shape, X_test.shape"
   ]
  },
  {
   "cell_type": "markdown",
   "id": "5ccf3f85",
   "metadata": {
    "papermill": {
     "duration": 0.026798,
     "end_time": "2021-09-25T20:06:40.841054",
     "exception": false,
     "start_time": "2021-09-25T20:06:40.814256",
     "status": "completed"
    },
    "tags": []
   },
   "source": [
    "We reshape the data to flatten the image pixels into a set of features or co-variates:"
   ]
  },
  {
   "cell_type": "code",
   "execution_count": 14,
   "id": "5286a4a3",
   "metadata": {
    "execution": {
     "iopub.execute_input": "2021-09-25T20:06:40.902199Z",
     "iopub.status.busy": "2021-09-25T20:06:40.901690Z",
     "iopub.status.idle": "2021-09-25T20:06:40.911752Z",
     "shell.execute_reply": "2021-09-25T20:06:40.911351Z"
    },
    "papermill": {
     "duration": 0.043859,
     "end_time": "2021-09-25T20:06:40.911858",
     "exception": false,
     "start_time": "2021-09-25T20:06:40.867999",
     "status": "completed"
    },
    "tags": []
   },
   "outputs": [
    {
     "data": {
      "text/plain": [
       "((11982, 784), (1984, 784))"
      ]
     },
     "execution_count": 14,
     "metadata": {},
     "output_type": "execute_result"
    }
   ],
   "source": [
    "X_train = X_train.reshape(X_train.shape[0], -1)\n",
    "X_test = X_test.reshape(X_test.shape[0], -1)\n",
    "X_train.shape, X_test.shape"
   ]
  },
  {
   "cell_type": "code",
   "execution_count": 15,
   "id": "73c5f88a",
   "metadata": {
    "execution": {
     "iopub.execute_input": "2021-09-25T20:06:40.972875Z",
     "iopub.status.busy": "2021-09-25T20:06:40.972352Z",
     "iopub.status.idle": "2021-09-25T20:06:40.987339Z",
     "shell.execute_reply": "2021-09-25T20:06:40.987769Z"
    },
    "papermill": {
     "duration": 0.048984,
     "end_time": "2021-09-25T20:06:40.987882",
     "exception": false,
     "start_time": "2021-09-25T20:06:40.938898",
     "status": "completed"
    },
    "tags": []
   },
   "outputs": [],
   "source": [
    "#Impoting functions from 'Kudzu'\n",
    "from kudzu.model import Model\n",
    "from kudzu.train import Learner\n",
    "from kudzu.optim import GD\n",
    "from kudzu.data import Data, Sampler,Dataloader\n",
    "\n",
    "from kudzu.callbacks import AccCallback\n",
    "from kudzu.callbacks import ClfCallback\n",
    "\n",
    "from kudzu.loss import MSE\n",
    "\n",
    "from kudzu.layer import Sigmoid,Relu\n",
    "from kudzu.layer import Affine"
   ]
  },
  {
   "cell_type": "markdown",
   "id": "bc01172a",
   "metadata": {
    "papermill": {
     "duration": 0.026965,
     "end_time": "2021-09-25T20:06:41.041862",
     "exception": false,
     "start_time": "2021-09-25T20:06:41.014897",
     "status": "completed"
    },
    "tags": []
   },
   "source": [
    "### Let us create a `Config` class, to store important parameters. \n",
    "This class essentially plays the role of a dictionary."
   ]
  },
  {
   "cell_type": "code",
   "execution_count": 16,
   "id": "978281aa",
   "metadata": {
    "execution": {
     "iopub.execute_input": "2021-09-25T20:06:41.101140Z",
     "iopub.status.busy": "2021-09-25T20:06:41.100589Z",
     "iopub.status.idle": "2021-09-25T20:06:41.110936Z",
     "shell.execute_reply": "2021-09-25T20:06:41.111340Z"
    },
    "papermill": {
     "duration": 0.04262,
     "end_time": "2021-09-25T20:06:41.111451",
     "exception": false,
     "start_time": "2021-09-25T20:06:41.068831",
     "status": "completed"
    },
    "tags": []
   },
   "outputs": [],
   "source": [
    "class Config:\n",
    "    pass\n",
    "config = Config()\n",
    "config.lr = 0.001\n",
    "config.num_epochs = 250\n",
    "config.bs = 50"
   ]
  },
  {
   "cell_type": "markdown",
   "id": "1385fa59",
   "metadata": {
    "papermill": {
     "duration": 0.027012,
     "end_time": "2021-09-25T20:06:41.165494",
     "exception": false,
     "start_time": "2021-09-25T20:06:41.138482",
     "status": "completed"
    },
    "tags": []
   },
   "source": [
    "### Running Models with the Training data\n",
    "Details about the network layers:\n",
    "- A first affine layer has 784 inputs and does 100 affine transforms. These are followed by a Relu\n",
    "- A second affine layer has 100 inputs from the 100 activations of the past layer, and does 100 affine transforms. These are followed by a Relu\n",
    "- A third affine layer has 100 activations and does 2 affine transformations to create an embedding for visualization. There is no non-linearity here.\n",
    "- A final \"logistic regression\" which has an affine transform from 2 inputs to 1 output, which is squeezed through a sigmoid.\n"
   ]
  },
  {
   "cell_type": "code",
   "execution_count": 17,
   "id": "2b9c66db",
   "metadata": {
    "execution": {
     "iopub.execute_input": "2021-09-25T20:06:41.225795Z",
     "iopub.status.busy": "2021-09-25T20:06:41.225287Z",
     "iopub.status.idle": "2021-09-25T20:06:41.235219Z",
     "shell.execute_reply": "2021-09-25T20:06:41.234796Z"
    },
    "papermill": {
     "duration": 0.042874,
     "end_time": "2021-09-25T20:06:41.235315",
     "exception": false,
     "start_time": "2021-09-25T20:06:41.192441",
     "status": "completed"
    },
    "tags": []
   },
   "outputs": [],
   "source": [
    "data = Data(X_train, y_train.reshape(-1,1))\n",
    "sampler = Sampler(data, config.bs, shuffle=True)\n",
    "\n",
    "dl = Dataloader(data, sampler)\n",
    "\n",
    "opt = GD(config.lr)\n",
    "loss = MSE()"
   ]
  },
  {
   "cell_type": "code",
   "execution_count": 18,
   "id": "b275e4c2",
   "metadata": {
    "execution": {
     "iopub.execute_input": "2021-09-25T20:06:41.292345Z",
     "iopub.status.busy": "2021-09-25T20:06:41.291842Z",
     "iopub.status.idle": "2021-09-25T20:06:41.302452Z",
     "shell.execute_reply": "2021-09-25T20:06:41.302834Z"
    },
    "papermill": {
     "duration": 0.040696,
     "end_time": "2021-09-25T20:06:41.302948",
     "exception": false,
     "start_time": "2021-09-25T20:06:41.262252",
     "status": "completed"
    },
    "tags": []
   },
   "outputs": [],
   "source": [
    "training_data_x = X_train\n",
    "testing_data_x = X_test\n",
    "training_data_y = y_train.reshape(-1,1)\n",
    "testing_data_y = y_test.reshape(-1,1)"
   ]
  },
  {
   "cell_type": "code",
   "execution_count": 19,
   "id": "76951160",
   "metadata": {
    "execution": {
     "iopub.execute_input": "2021-09-25T20:06:41.361230Z",
     "iopub.status.busy": "2021-09-25T20:06:41.360616Z",
     "iopub.status.idle": "2021-09-25T20:06:41.375657Z",
     "shell.execute_reply": "2021-09-25T20:06:41.375230Z"
    },
    "papermill": {
     "duration": 0.045961,
     "end_time": "2021-09-25T20:06:41.375757",
     "exception": false,
     "start_time": "2021-09-25T20:06:41.329796",
     "status": "completed"
    },
    "tags": []
   },
   "outputs": [
    {
     "name": "stdout",
     "output_type": "stream",
     "text": [
      "xavier\n",
      "xavier\n",
      "xavier\n",
      "xavier\n",
      "xavier\n"
     ]
    }
   ],
   "source": [
    "layers = [Affine(\"first\", 784, 100), Relu(\"first\"), Affine(\"second\", 100, 100), Relu(\"second\"), Affine(\"third\", 100, 2), Affine(\"last\", 2, 1), Sigmoid(\"last\")]\n",
    "model_nn = Model(layers)\n",
    "model_lr = Model([Affine(\"logits\", 784, 1), Sigmoid(\"sigmoid\")])"
   ]
  },
  {
   "cell_type": "code",
   "execution_count": 20,
   "id": "6eede77a",
   "metadata": {
    "execution": {
     "iopub.execute_input": "2021-09-25T20:06:41.434122Z",
     "iopub.status.busy": "2021-09-25T20:06:41.433603Z",
     "iopub.status.idle": "2021-09-25T20:06:41.444580Z",
     "shell.execute_reply": "2021-09-25T20:06:41.445118Z"
    },
    "papermill": {
     "duration": 0.04207,
     "end_time": "2021-09-25T20:06:41.445239",
     "exception": false,
     "start_time": "2021-09-25T20:06:41.403169",
     "status": "completed"
    },
    "tags": []
   },
   "outputs": [],
   "source": [
    "nn_learner = Learner(loss, model_nn, opt, config.num_epochs)\n",
    "acc_nn = ClfCallback(nn_learner, config.bs, training_data_x , testing_data_x, training_data_y, testing_data_y)\n",
    "nn_learner.set_callbacks([acc_nn])"
   ]
  },
  {
   "cell_type": "code",
   "execution_count": 21,
   "id": "877b6cc7",
   "metadata": {
    "execution": {
     "iopub.execute_input": "2021-09-25T20:06:41.502716Z",
     "iopub.status.busy": "2021-09-25T20:06:41.502219Z",
     "iopub.status.idle": "2021-09-25T20:06:41.514106Z",
     "shell.execute_reply": "2021-09-25T20:06:41.513685Z"
    },
    "papermill": {
     "duration": 0.041789,
     "end_time": "2021-09-25T20:06:41.514205",
     "exception": false,
     "start_time": "2021-09-25T20:06:41.472416",
     "status": "completed"
    },
    "tags": []
   },
   "outputs": [],
   "source": [
    "lr_learner = Learner(loss, model_lr, opt, config.num_epochs)\n",
    "acc_lr = ClfCallback(lr_learner, config.bs, training_data_x , testing_data_x, training_data_y, testing_data_y)\n",
    "lr_learner.set_callbacks([acc_lr])"
   ]
  },
  {
   "cell_type": "code",
   "execution_count": 22,
   "id": "d9b133c3",
   "metadata": {
    "execution": {
     "iopub.execute_input": "2021-09-25T20:06:41.581717Z",
     "iopub.status.busy": "2021-09-25T20:06:41.579694Z",
     "iopub.status.idle": "2021-09-25T20:07:55.584561Z",
     "shell.execute_reply": "2021-09-25T20:07:55.585319Z"
    },
    "papermill": {
     "duration": 74.043963,
     "end_time": "2021-09-25T20:07:55.585471",
     "exception": false,
     "start_time": "2021-09-25T20:06:41.541508",
     "status": "completed"
    },
    "tags": []
   },
   "outputs": [
    {
     "name": "stdout",
     "output_type": "stream",
     "text": [
      "Epoch 0, Loss 0.2385\n",
      "Training Accuracy: 0.7048, Testing Accuracy: 0.7051\n",
      "\n"
     ]
    },
    {
     "name": "stdout",
     "output_type": "stream",
     "text": [
      "Epoch 10, Loss 0.1068\n",
      "Training Accuracy: 0.9081, Testing Accuracy: 0.9173\n",
      "\n"
     ]
    },
    {
     "name": "stdout",
     "output_type": "stream",
     "text": [
      "Epoch 20, Loss 0.0619\n",
      "Training Accuracy: 0.9373, Testing Accuracy: 0.9471\n",
      "\n"
     ]
    },
    {
     "name": "stdout",
     "output_type": "stream",
     "text": [
      "Epoch 30, Loss 0.0472\n",
      "Training Accuracy: 0.9496, Testing Accuracy: 0.9572\n",
      "\n"
     ]
    },
    {
     "name": "stdout",
     "output_type": "stream",
     "text": [
      "Epoch 40, Loss 0.0402\n",
      "Training Accuracy: 0.9554, Testing Accuracy: 0.9632\n",
      "\n"
     ]
    },
    {
     "name": "stdout",
     "output_type": "stream",
     "text": [
      "Epoch 50, Loss 0.0361\n",
      "Training Accuracy: 0.9594, Testing Accuracy: 0.9677\n",
      "\n"
     ]
    },
    {
     "name": "stdout",
     "output_type": "stream",
     "text": [
      "Epoch 60, Loss 0.0333\n",
      "Training Accuracy: 0.9619, Testing Accuracy: 0.9688\n",
      "\n"
     ]
    },
    {
     "name": "stdout",
     "output_type": "stream",
     "text": [
      "Epoch 70, Loss 0.0313\n",
      "Training Accuracy: 0.9632, Testing Accuracy: 0.9698\n",
      "\n"
     ]
    },
    {
     "name": "stdout",
     "output_type": "stream",
     "text": [
      "Epoch 80, Loss 0.0297\n",
      "Training Accuracy: 0.9650, Testing Accuracy: 0.9698\n",
      "\n"
     ]
    },
    {
     "name": "stdout",
     "output_type": "stream",
     "text": [
      "Epoch 90, Loss 0.0284\n",
      "Training Accuracy: 0.9663, Testing Accuracy: 0.9713\n",
      "\n"
     ]
    },
    {
     "name": "stdout",
     "output_type": "stream",
     "text": [
      "Epoch 100, Loss 0.0274\n",
      "Training Accuracy: 0.9674, Testing Accuracy: 0.9718\n",
      "\n"
     ]
    },
    {
     "name": "stdout",
     "output_type": "stream",
     "text": [
      "Epoch 110, Loss 0.0265\n",
      "Training Accuracy: 0.9692, Testing Accuracy: 0.9738\n",
      "\n"
     ]
    },
    {
     "name": "stdout",
     "output_type": "stream",
     "text": [
      "Epoch 120, Loss 0.0256\n",
      "Training Accuracy: 0.9705, Testing Accuracy: 0.9743\n",
      "\n"
     ]
    },
    {
     "name": "stdout",
     "output_type": "stream",
     "text": [
      "Epoch 130, Loss 0.0249\n",
      "Training Accuracy: 0.9715, Testing Accuracy: 0.9733\n",
      "\n"
     ]
    },
    {
     "name": "stdout",
     "output_type": "stream",
     "text": [
      "Epoch 140, Loss 0.0243\n",
      "Training Accuracy: 0.9720, Testing Accuracy: 0.9743\n",
      "\n"
     ]
    },
    {
     "name": "stdout",
     "output_type": "stream",
     "text": [
      "Epoch 150, Loss 0.0237\n",
      "Training Accuracy: 0.9725, Testing Accuracy: 0.9738\n",
      "\n"
     ]
    },
    {
     "name": "stdout",
     "output_type": "stream",
     "text": [
      "Epoch 160, Loss 0.0231\n",
      "Training Accuracy: 0.9733, Testing Accuracy: 0.9738\n",
      "\n"
     ]
    },
    {
     "name": "stdout",
     "output_type": "stream",
     "text": [
      "Epoch 170, Loss 0.0225\n",
      "Training Accuracy: 0.9744, Testing Accuracy: 0.9733\n",
      "\n"
     ]
    },
    {
     "name": "stdout",
     "output_type": "stream",
     "text": [
      "Epoch 180, Loss 0.022\n",
      "Training Accuracy: 0.9750, Testing Accuracy: 0.9728\n",
      "\n"
     ]
    },
    {
     "name": "stdout",
     "output_type": "stream",
     "text": [
      "Epoch 190, Loss 0.0215\n",
      "Training Accuracy: 0.9757, Testing Accuracy: 0.9723\n",
      "\n"
     ]
    },
    {
     "name": "stdout",
     "output_type": "stream",
     "text": [
      "Epoch 200, Loss 0.0211\n",
      "Training Accuracy: 0.9761, Testing Accuracy: 0.9733\n",
      "\n"
     ]
    },
    {
     "name": "stdout",
     "output_type": "stream",
     "text": [
      "Epoch 210, Loss 0.0206\n",
      "Training Accuracy: 0.9766, Testing Accuracy: 0.9728\n",
      "\n"
     ]
    },
    {
     "name": "stdout",
     "output_type": "stream",
     "text": [
      "Epoch 220, Loss 0.0202\n",
      "Training Accuracy: 0.9771, Testing Accuracy: 0.9733\n",
      "\n"
     ]
    },
    {
     "name": "stdout",
     "output_type": "stream",
     "text": [
      "Epoch 230, Loss 0.0198\n",
      "Training Accuracy: 0.9779, Testing Accuracy: 0.9733\n",
      "\n"
     ]
    },
    {
     "name": "stdout",
     "output_type": "stream",
     "text": [
      "Epoch 240, Loss 0.0194\n",
      "Training Accuracy: 0.9783, Testing Accuracy: 0.9728\n",
      "\n"
     ]
    },
    {
     "data": {
      "text/plain": [
       "0.002502938281590273"
      ]
     },
     "execution_count": 22,
     "metadata": {},
     "output_type": "execute_result"
    }
   ],
   "source": [
    "nn_learner.train_loop(dl)"
   ]
  },
  {
   "cell_type": "code",
   "execution_count": 23,
   "id": "e0163366",
   "metadata": {
    "execution": {
     "iopub.execute_input": "2021-09-25T20:07:55.666125Z",
     "iopub.status.busy": "2021-09-25T20:07:55.665624Z",
     "iopub.status.idle": "2021-09-25T20:08:09.120461Z",
     "shell.execute_reply": "2021-09-25T20:08:09.121219Z"
    },
    "papermill": {
     "duration": 13.500508,
     "end_time": "2021-09-25T20:08:09.121375",
     "exception": false,
     "start_time": "2021-09-25T20:07:55.620867",
     "status": "completed"
    },
    "tags": []
   },
   "outputs": [
    {
     "name": "stdout",
     "output_type": "stream",
     "text": [
      "Epoch 0, Loss 0.2684\n",
      "Training Accuracy: 0.5689, Testing Accuracy: 0.5852\n",
      "\n"
     ]
    },
    {
     "name": "stdout",
     "output_type": "stream",
     "text": [
      "Epoch 10, Loss 0.1061\n",
      "Training Accuracy: 0.9029, Testing Accuracy: 0.9158\n",
      "\n"
     ]
    },
    {
     "name": "stdout",
     "output_type": "stream",
     "text": [
      "Epoch 20, Loss 0.0811\n",
      "Training Accuracy: 0.9238, Testing Accuracy: 0.9320\n",
      "\n"
     ]
    },
    {
     "name": "stdout",
     "output_type": "stream",
     "text": [
      "Epoch 30, Loss 0.0697\n",
      "Training Accuracy: 0.9325, Testing Accuracy: 0.9400\n",
      "\n"
     ]
    },
    {
     "name": "stdout",
     "output_type": "stream",
     "text": [
      "Epoch 40, Loss 0.0629\n",
      "Training Accuracy: 0.9377, Testing Accuracy: 0.9461\n",
      "\n"
     ]
    },
    {
     "name": "stdout",
     "output_type": "stream",
     "text": [
      "Epoch 50, Loss 0.0582\n",
      "Training Accuracy: 0.9428, Testing Accuracy: 0.9506\n",
      "\n"
     ]
    },
    {
     "name": "stdout",
     "output_type": "stream",
     "text": [
      "Epoch 60, Loss 0.0548\n",
      "Training Accuracy: 0.9456, Testing Accuracy: 0.9551\n",
      "\n"
     ]
    },
    {
     "name": "stdout",
     "output_type": "stream",
     "text": [
      "Epoch 70, Loss 0.0521\n",
      "Training Accuracy: 0.9483, Testing Accuracy: 0.9572\n",
      "\n"
     ]
    },
    {
     "name": "stdout",
     "output_type": "stream",
     "text": [
      "Epoch 80, Loss 0.05\n",
      "Training Accuracy: 0.9502, Testing Accuracy: 0.9577\n",
      "\n"
     ]
    },
    {
     "name": "stdout",
     "output_type": "stream",
     "text": [
      "Epoch 90, Loss 0.0482\n",
      "Training Accuracy: 0.9520, Testing Accuracy: 0.9587\n",
      "\n"
     ]
    },
    {
     "name": "stdout",
     "output_type": "stream",
     "text": [
      "Epoch 100, Loss 0.0467\n",
      "Training Accuracy: 0.9533, Testing Accuracy: 0.9612\n",
      "\n"
     ]
    },
    {
     "name": "stdout",
     "output_type": "stream",
     "text": [
      "Epoch 110, Loss 0.0455\n",
      "Training Accuracy: 0.9547, Testing Accuracy: 0.9637\n",
      "\n"
     ]
    },
    {
     "name": "stdout",
     "output_type": "stream",
     "text": [
      "Epoch 120, Loss 0.0443\n",
      "Training Accuracy: 0.9554, Testing Accuracy: 0.9642\n",
      "\n"
     ]
    },
    {
     "name": "stdout",
     "output_type": "stream",
     "text": [
      "Epoch 130, Loss 0.0434\n",
      "Training Accuracy: 0.9556, Testing Accuracy: 0.9657\n",
      "\n"
     ]
    },
    {
     "name": "stdout",
     "output_type": "stream",
     "text": [
      "Epoch 140, Loss 0.0425\n",
      "Training Accuracy: 0.9564, Testing Accuracy: 0.9652\n",
      "\n"
     ]
    },
    {
     "name": "stdout",
     "output_type": "stream",
     "text": [
      "Epoch 150, Loss 0.0417\n",
      "Training Accuracy: 0.9569, Testing Accuracy: 0.9652\n",
      "\n"
     ]
    },
    {
     "name": "stdout",
     "output_type": "stream",
     "text": [
      "Epoch 160, Loss 0.041\n",
      "Training Accuracy: 0.9572, Testing Accuracy: 0.9652\n",
      "\n"
     ]
    },
    {
     "name": "stdout",
     "output_type": "stream",
     "text": [
      "Epoch 170, Loss 0.0404\n",
      "Training Accuracy: 0.9577, Testing Accuracy: 0.9662\n",
      "\n"
     ]
    },
    {
     "name": "stdout",
     "output_type": "stream",
     "text": [
      "Epoch 180, Loss 0.0398\n",
      "Training Accuracy: 0.9582, Testing Accuracy: 0.9662\n",
      "\n"
     ]
    },
    {
     "name": "stdout",
     "output_type": "stream",
     "text": [
      "Epoch 190, Loss 0.0393\n",
      "Training Accuracy: 0.9584, Testing Accuracy: 0.9662\n",
      "\n"
     ]
    },
    {
     "name": "stdout",
     "output_type": "stream",
     "text": [
      "Epoch 200, Loss 0.0388\n",
      "Training Accuracy: 0.9586, Testing Accuracy: 0.9662\n",
      "\n"
     ]
    },
    {
     "name": "stdout",
     "output_type": "stream",
     "text": [
      "Epoch 210, Loss 0.0383\n",
      "Training Accuracy: 0.9594, Testing Accuracy: 0.9662\n",
      "\n"
     ]
    },
    {
     "name": "stdout",
     "output_type": "stream",
     "text": [
      "Epoch 220, Loss 0.0379\n",
      "Training Accuracy: 0.9599, Testing Accuracy: 0.9672\n",
      "\n"
     ]
    },
    {
     "name": "stdout",
     "output_type": "stream",
     "text": [
      "Epoch 230, Loss 0.0375\n",
      "Training Accuracy: 0.9601, Testing Accuracy: 0.9677\n",
      "\n"
     ]
    },
    {
     "name": "stdout",
     "output_type": "stream",
     "text": [
      "Epoch 240, Loss 0.0371\n",
      "Training Accuracy: 0.9606, Testing Accuracy: 0.9688\n",
      "\n"
     ]
    },
    {
     "data": {
      "text/plain": [
       "0.06971111360121147"
      ]
     },
     "execution_count": 23,
     "metadata": {},
     "output_type": "execute_result"
    }
   ],
   "source": [
    "lr_learner.train_loop(dl)"
   ]
  },
  {
   "cell_type": "code",
   "execution_count": 24,
   "id": "ca410940",
   "metadata": {
    "execution": {
     "iopub.execute_input": "2021-09-25T20:08:09.213277Z",
     "iopub.status.busy": "2021-09-25T20:08:09.212731Z",
     "iopub.status.idle": "2021-09-25T20:08:09.423429Z",
     "shell.execute_reply": "2021-09-25T20:08:09.423873Z"
    },
    "papermill": {
     "duration": 0.260534,
     "end_time": "2021-09-25T20:08:09.424029",
     "exception": false,
     "start_time": "2021-09-25T20:08:09.163495",
     "status": "completed"
    },
    "tags": []
   },
   "outputs": [
    {
     "data": {
      "text/plain": [
       "<matplotlib.legend.Legend at 0x7f482cdd69b0>"
      ]
     },
     "execution_count": 24,
     "metadata": {},
     "output_type": "execute_result"
    },
    {
     "data": {
      "image/png": "[encoded data removed]",
      "text/plain": [
       "<Figure size 1080x720 with 1 Axes>"
      ]
     },
     "metadata": {
      "needs_background": "light"
     },
     "output_type": "display_data"
    }
   ],
   "source": [
    "#comparing the results of NN and LR\n",
    "plt.figure(figsize=(15,10))\n",
    "\n",
    "# Neural Network plots\n",
    "plt.plot(acc_nn.accuracies, 'r-', label = \"Training Accuracies - NN\")\n",
    "plt.plot(acc_nn.test_accuracies, 'g-', label = \"Testing Accuracies - NN\")\n",
    "\n",
    "# Logistic Regression plots\n",
    "plt.plot(acc_lr.accuracies, 'k-', label = \"Training Accuracies - LR\")\n",
    "plt.plot(acc_lr.test_accuracies, 'b-', label = \"Testing Accuracies - LR\")\n",
    "plt.legend()"
   ]
  },
  {
   "cell_type": "markdown",
   "id": "80dfb35c",
   "metadata": {
    "papermill": {
     "duration": 0.042063,
     "end_time": "2021-09-25T20:08:09.509015",
     "exception": false,
     "start_time": "2021-09-25T20:08:09.466952",
     "status": "completed"
    },
    "tags": []
   },
   "source": [
    "#### Plotting the outputs of this layer of the NN.\n"
   ]
  },
  {
   "cell_type": "code",
   "execution_count": 25,
   "id": "45eb2ff5",
   "metadata": {
    "execution": {
     "iopub.execute_input": "2021-09-25T20:08:09.597283Z",
     "iopub.status.busy": "2021-09-25T20:08:09.596712Z",
     "iopub.status.idle": "2021-09-25T20:08:09.616183Z",
     "shell.execute_reply": "2021-09-25T20:08:09.616592Z"
    },
    "papermill": {
     "duration": 0.065693,
     "end_time": "2021-09-25T20:08:09.616715",
     "exception": false,
     "start_time": "2021-09-25T20:08:09.551022",
     "status": "completed"
    },
    "tags": []
   },
   "outputs": [],
   "source": [
    "new_model = Model(layers[:-2])\n",
    "testing_plot = new_model(testing_data_x)"
   ]
  },
  {
   "cell_type": "code",
   "execution_count": 26,
   "id": "4c0a5485",
   "metadata": {
    "execution": {
     "iopub.execute_input": "2021-09-25T20:08:09.725998Z",
     "iopub.status.busy": "2021-09-25T20:08:09.725497Z",
     "iopub.status.idle": "2021-09-25T20:08:09.911064Z",
     "shell.execute_reply": "2021-09-25T20:08:09.910303Z"
    },
    "papermill": {
     "duration": 0.242674,
     "end_time": "2021-09-25T20:08:09.911189",
     "exception": false,
     "start_time": "2021-09-25T20:08:09.668515",
     "status": "completed"
    },
    "tags": []
   },
   "outputs": [
    {
     "data": {
      "text/plain": [
       "Text(0.5, 1.0, 'Outputs')"
      ]
     },
     "execution_count": 26,
     "metadata": {},
     "output_type": "execute_result"
    },
    {
     "data": {
      "image/png": "[encoded data removed]",
      "text/plain": [
       "<Figure size 576x504 with 1 Axes>"
      ]
     },
     "metadata": {
      "needs_background": "light"
     },
     "output_type": "display_data"
    }
   ],
   "source": [
    "# Plotting the scatter plot of points and color coding by class\n",
    "plt.figure(figsize=(8,7))\n",
    "plt.scatter(testing_plot[:,0], testing_plot[:,1], alpha = 0.1, c = y_test.ravel());\n",
    "plt.title('Outputs')"
   ]
  },
  {
   "cell_type": "markdown",
   "id": "a74fcf8f",
   "metadata": {
    "papermill": {
     "duration": 0.044608,
     "end_time": "2021-09-25T20:08:10.000413",
     "exception": false,
     "start_time": "2021-09-25T20:08:09.955805",
     "status": "completed"
    },
    "tags": []
   },
   "source": [
    "Probability contours"
   ]
  },
  {
   "cell_type": "code",
   "execution_count": 27,
   "id": "d0afc8e3",
   "metadata": {
    "execution": {
     "iopub.execute_input": "2021-09-25T20:08:10.094164Z",
     "iopub.status.busy": "2021-09-25T20:08:10.093577Z",
     "iopub.status.idle": "2021-09-25T20:08:10.104332Z",
     "shell.execute_reply": "2021-09-25T20:08:10.104721Z"
    },
    "papermill": {
     "duration": 0.059901,
     "end_time": "2021-09-25T20:08:10.104849",
     "exception": false,
     "start_time": "2021-09-25T20:08:10.044948",
     "status": "completed"
    },
    "tags": []
   },
   "outputs": [],
   "source": [
    "model_prob = Model(layers[-2:]) "
   ]
  },
  {
   "cell_type": "code",
   "execution_count": 28,
   "id": "9b96e238",
   "metadata": {
    "execution": {
     "iopub.execute_input": "2021-09-25T20:08:10.228631Z",
     "iopub.status.busy": "2021-09-25T20:08:10.228098Z",
     "iopub.status.idle": "2021-09-25T20:08:10.243142Z",
     "shell.execute_reply": "2021-09-25T20:08:10.242739Z"
    },
    "papermill": {
     "duration": 0.093792,
     "end_time": "2021-09-25T20:08:10.243250",
     "exception": false,
     "start_time": "2021-09-25T20:08:10.149458",
     "status": "completed"
    },
    "tags": []
   },
   "outputs": [],
   "source": [
    "#creating the x and y ranges according to the above generated plot.\n",
    "x_range = np.linspace(-4, 1, 100) \n",
    "y_range = np.linspace(-6, 6, 100) \n",
    "x_grid, y_grid = np.meshgrid(x_range, y_range) # x_grid and y_grig are of size 100 X 100\n",
    "\n",
    "# converting x_grid and y_grid to continuous arrays\n",
    "x_gridflat = np.ravel(x_grid)\n",
    "y_gridflat = np.ravel(y_grid)\n",
    "\n",
    "# The last layer of the current model takes two columns as input. Hence transpose of np.vstack() is required.\n",
    "X = np.vstack((x_gridflat, y_gridflat)).T\n",
    "\n",
    "prob_contour = model_prob(X).reshape(100,100) "
   ]
  },
  {
   "cell_type": "code",
   "execution_count": 29,
   "id": "da72499a",
   "metadata": {
    "execution": {
     "iopub.execute_input": "2021-09-25T20:08:10.367299Z",
     "iopub.status.busy": "2021-09-25T20:08:10.348994Z",
     "iopub.status.idle": "2021-09-25T20:08:10.589860Z",
     "shell.execute_reply": "2021-09-25T20:08:10.590250Z"
    },
    "papermill": {
     "duration": 0.295646,
     "end_time": "2021-09-25T20:08:10.590382",
     "exception": false,
     "start_time": "2021-09-25T20:08:10.294736",
     "status": "completed"
    },
    "tags": []
   },
   "outputs": [
    {
     "data": {
      "image/png": "[encoded data removed]",
      "text/plain": [
       "<Figure size 720x648 with 1 Axes>"
      ]
     },
     "metadata": {
      "needs_background": "light"
     },
     "output_type": "display_data"
    }
   ],
   "source": [
    "plt.figure(figsize=(10,9))\n",
    "plt.scatter(testing_plot[:,0], testing_plot[:,1], alpha = 0.1, c = y_test.ravel())\n",
    "contours = plt.contour(x_grid,y_grid,prob_contour)\n",
    "plt.title('Probability Contours')\n",
    "plt.clabel(contours, inline = True );"
   ]
  },
  {
   "cell_type": "code",
   "execution_count": null,
   "id": "e81b4ac7",
   "metadata": {
    "papermill": {
     "duration": 0.046697,
     "end_time": "2021-09-25T20:08:10.684341",
     "exception": false,
     "start_time": "2021-09-25T20:08:10.637644",
     "status": "completed"
    },
    "tags": []
   },
   "outputs": [],
   "source": []
  }
 ],
 "metadata": {
  "kernelspec": {
   "display_name": "Python 3",
   "language": "python",
   "name": "python3"
  },
  "language_info": {
   "codemirror_mode": {
    "name": "ipython",
    "version": 3
   },
   "file_extension": ".py",
   "mimetype": "text/x-python",
   "name": "python",
   "nbconvert_exporter": "python",
   "pygments_lexer": "ipython3",
   "version": "3.6.15"
  },
  "papermill": {
   "default_parameters": {},
   "duration": 95.525403,
   "end_time": "2021-09-25T20:08:11.038979",
   "environment_variables": {},
   "exception": null,
   "input_path": "2020-08-11-part2.ipynb",
   "output_path": "2020-08-11-part2.ipynb",
   "parameters": {},
   "start_time": "2021-09-25T20:06:35.513576",
   "version": "2.3.3"
  }
 },
 "nbformat": 4,
 "nbformat_minor": 5
}