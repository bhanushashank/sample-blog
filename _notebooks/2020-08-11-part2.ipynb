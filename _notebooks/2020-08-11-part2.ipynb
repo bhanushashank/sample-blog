{
 "cells": [
  {
   "cell_type": "markdown",
   "id": "98380cd3",
   "metadata": {
    "papermill": {
     "duration": 0.038477,
     "end_time": "2022-09-06T20:10:51.583297",
     "exception": false,
     "start_time": "2022-09-06T20:10:51.544820",
     "status": "completed"
    },
    "tags": []
   },
   "source": [
    "# Distinguish Your Own Digits (DYOD)"
   ]
  },
  {
   "cell_type": "markdown",
   "id": "ef31240d",
   "metadata": {
    "papermill": {
     "duration": 0.030546,
     "end_time": "2022-09-06T20:10:51.644923",
     "exception": false,
     "start_time": "2022-09-06T20:10:51.614377",
     "status": "completed"
    },
    "tags": []
   },
   "source": [
    "You are going to write a classifier that distinguishes between the number 3 and number 8."
   ]
  },
  {
   "cell_type": "code",
   "execution_count": 1,
   "id": "b15c8646",
   "metadata": {
    "execution": {
     "iopub.execute_input": "2022-09-06T20:10:51.719508Z",
     "iopub.status.busy": "2022-09-06T20:10:51.718751Z",
     "iopub.status.idle": "2022-09-06T20:10:51.731681Z",
     "shell.execute_reply": "2022-09-06T20:10:51.730917Z"
    },
    "papermill": {
     "duration": 0.05491,
     "end_time": "2022-09-06T20:10:51.731841",
     "exception": false,
     "start_time": "2022-09-06T20:10:51.676931",
     "status": "completed"
    },
    "tags": []
   },
   "outputs": [],
   "source": [
    "%load_ext autoreload\n",
    "%autoreload 2"
   ]
  },
  {
   "cell_type": "code",
   "execution_count": 2,
   "id": "22ef38dc",
   "metadata": {
    "execution": {
     "iopub.execute_input": "2022-09-06T20:10:51.803824Z",
     "iopub.status.busy": "2022-09-06T20:10:51.803073Z",
     "iopub.status.idle": "2022-09-06T20:10:52.460452Z",
     "shell.execute_reply": "2022-09-06T20:10:52.459825Z"
    },
    "papermill": {
     "duration": 0.696775,
     "end_time": "2022-09-06T20:10:52.460623",
     "exception": false,
     "start_time": "2022-09-06T20:10:51.763848",
     "status": "completed"
    },
    "tags": []
   },
   "outputs": [],
   "source": [
    "%matplotlib inline\n",
    "import numpy as np\n",
    "import matplotlib.pyplot as plt\n",
    "import pandas as pd"
   ]
  },
  {
   "cell_type": "markdown",
   "id": "ba036198",
   "metadata": {
    "papermill": {
     "duration": 0.030645,
     "end_time": "2022-09-06T20:10:52.521898",
     "exception": false,
     "start_time": "2022-09-06T20:10:52.491253",
     "status": "completed"
    },
    "tags": []
   },
   "source": [
    "From the command line run `pip install mnist`. This is a library that will help you bring down the mnist dataset. If you run this from a notebook, you need to put  `!pip install mnist` in a cell by itself."
   ]
  },
  {
   "cell_type": "code",
   "execution_count": 3,
   "id": "bb6ad8a1",
   "metadata": {
    "execution": {
     "iopub.execute_input": "2022-09-06T20:10:52.594143Z",
     "iopub.status.busy": "2022-09-06T20:10:52.592878Z",
     "iopub.status.idle": "2022-09-06T20:10:54.542676Z",
     "shell.execute_reply": "2022-09-06T20:10:54.541662Z"
    },
    "papermill": {
     "duration": 1.991275,
     "end_time": "2022-09-06T20:10:54.542823",
     "exception": false,
     "start_time": "2022-09-06T20:10:52.551548",
     "status": "completed"
    },
    "tags": []
   },
   "outputs": [
    {
     "name": "stdout",
     "output_type": "stream",
     "text": [
      "Collecting mnist\r\n"
     ]
    },
    {
     "name": "stdout",
     "output_type": "stream",
     "text": [
      "  Downloading mnist-0.2.2-py2.py3-none-any.whl (3.5 kB)\r\n",
      "Requirement already satisfied: numpy in /opt/hostedtoolcache/Python/3.6.15/x64/lib/python3.6/site-packages (from mnist) (1.19.5)\r\n"
     ]
    },
    {
     "name": "stdout",
     "output_type": "stream",
     "text": [
      "Installing collected packages: mnist\r\n"
     ]
    },
    {
     "name": "stdout",
     "output_type": "stream",
     "text": [
      "Successfully installed mnist-0.2.2\r\n"
     ]
    }
   ],
   "source": [
    "!pip install mnist"
   ]
  },
  {
   "cell_type": "markdown",
   "id": "69df9c9a",
   "metadata": {
    "papermill": {
     "duration": 0.032267,
     "end_time": "2022-09-06T20:10:54.612253",
     "exception": false,
     "start_time": "2022-09-06T20:10:54.579986",
     "status": "completed"
    },
    "tags": []
   },
   "source": [
    "## Preparing the Data"
   ]
  },
  {
   "cell_type": "code",
   "execution_count": 4,
   "id": "7f69d806",
   "metadata": {
    "execution": {
     "iopub.execute_input": "2022-09-06T20:10:54.681598Z",
     "iopub.status.busy": "2022-09-06T20:10:54.680729Z",
     "iopub.status.idle": "2022-09-06T20:10:54.697083Z",
     "shell.execute_reply": "2022-09-06T20:10:54.696499Z"
    },
    "papermill": {
     "duration": 0.053845,
     "end_time": "2022-09-06T20:10:54.697222",
     "exception": false,
     "start_time": "2022-09-06T20:10:54.643377",
     "status": "completed"
    },
    "tags": []
   },
   "outputs": [],
   "source": [
    "import mnist"
   ]
  },
  {
   "cell_type": "code",
   "execution_count": 5,
   "id": "a411e44f",
   "metadata": {
    "execution": {
     "iopub.execute_input": "2022-09-06T20:10:54.780132Z",
     "iopub.status.busy": "2022-09-06T20:10:54.778715Z",
     "iopub.status.idle": "2022-09-06T20:10:55.531784Z",
     "shell.execute_reply": "2022-09-06T20:10:55.532359Z"
    },
    "papermill": {
     "duration": 0.803862,
     "end_time": "2022-09-06T20:10:55.532537",
     "exception": false,
     "start_time": "2022-09-06T20:10:54.728675",
     "status": "completed"
    },
    "tags": []
   },
   "outputs": [],
   "source": [
    "train_images = mnist.train_images()\n",
    "train_labels = mnist.train_labels()"
   ]
  },
  {
   "cell_type": "code",
   "execution_count": 6,
   "id": "dceab3a5",
   "metadata": {
    "execution": {
     "iopub.execute_input": "2022-09-06T20:10:55.604845Z",
     "iopub.status.busy": "2022-09-06T20:10:55.604078Z",
     "iopub.status.idle": "2022-09-06T20:10:55.623539Z",
     "shell.execute_reply": "2022-09-06T20:10:55.622920Z"
    },
    "papermill": {
     "duration": 0.056566,
     "end_time": "2022-09-06T20:10:55.623676",
     "exception": false,
     "start_time": "2022-09-06T20:10:55.567110",
     "status": "completed"
    },
    "tags": []
   },
   "outputs": [
    {
     "data": {
      "text/plain": [
       "((60000, 28, 28), (60000,))"
      ]
     },
     "execution_count": 6,
     "metadata": {},
     "output_type": "execute_result"
    }
   ],
   "source": [
    "train_images.shape, train_labels.shape"
   ]
  },
  {
   "cell_type": "code",
   "execution_count": 7,
   "id": "f50dc2bb",
   "metadata": {
    "execution": {
     "iopub.execute_input": "2022-09-06T20:10:55.692219Z",
     "iopub.status.busy": "2022-09-06T20:10:55.691476Z",
     "iopub.status.idle": "2022-09-06T20:10:55.895938Z",
     "shell.execute_reply": "2022-09-06T20:10:55.895281Z"
    },
    "papermill": {
     "duration": 0.240956,
     "end_time": "2022-09-06T20:10:55.896087",
     "exception": false,
     "start_time": "2022-09-06T20:10:55.655131",
     "status": "completed"
    },
    "tags": []
   },
   "outputs": [],
   "source": [
    "test_images = mnist.test_images()\n",
    "test_labels = mnist.test_labels()"
   ]
  },
  {
   "cell_type": "code",
   "execution_count": 8,
   "id": "fc38cf1b",
   "metadata": {
    "execution": {
     "iopub.execute_input": "2022-09-06T20:10:55.971164Z",
     "iopub.status.busy": "2022-09-06T20:10:55.970420Z",
     "iopub.status.idle": "2022-09-06T20:10:55.984302Z",
     "shell.execute_reply": "2022-09-06T20:10:55.983680Z"
    },
    "papermill": {
     "duration": 0.054505,
     "end_time": "2022-09-06T20:10:55.984444",
     "exception": false,
     "start_time": "2022-09-06T20:10:55.929939",
     "status": "completed"
    },
    "tags": []
   },
   "outputs": [
    {
     "data": {
      "text/plain": [
       "((10000, 28, 28), (10000,))"
      ]
     },
     "execution_count": 8,
     "metadata": {},
     "output_type": "execute_result"
    }
   ],
   "source": [
    "test_images.shape, test_labels.shape"
   ]
  },
  {
   "cell_type": "code",
   "execution_count": 9,
   "id": "f9ed8fe0",
   "metadata": {
    "execution": {
     "iopub.execute_input": "2022-09-06T20:10:56.065541Z",
     "iopub.status.busy": "2022-09-06T20:10:56.064720Z",
     "iopub.status.idle": "2022-09-06T20:10:56.244687Z",
     "shell.execute_reply": "2022-09-06T20:10:56.245652Z"
    },
    "papermill": {
     "duration": 0.229202,
     "end_time": "2022-09-06T20:10:56.245823",
     "exception": false,
     "start_time": "2022-09-06T20:10:56.016621",
     "status": "completed"
    },
    "tags": []
   },
   "outputs": [
    {
     "name": "stdout",
     "output_type": "stream",
     "text": [
      "2\n"
     ]
    },
    {
     "data": {
      "text/plain": [
       "<matplotlib.image.AxesImage at 0x7f3516842c88>"
      ]
     },
     "execution_count": 9,
     "metadata": {},
     "output_type": "execute_result"
    },
    {
     "data": {
      "image/png": "[encoded data removed]",
      "text/plain": [
       "<Figure size 432x288 with 1 Axes>"
      ]
     },
     "metadata": {
      "needs_background": "light"
     },
     "output_type": "display_data"
    }
   ],
   "source": [
    "image_index = 7776 # You may select anything up to 60,000\n",
    "print(train_labels[image_index]) \n",
    "plt.imshow(train_images[image_index], cmap='Greys')"
   ]
  },
  {
   "cell_type": "markdown",
   "id": "a8d2388d",
   "metadata": {
    "papermill": {
     "duration": 0.036513,
     "end_time": "2022-09-06T20:10:56.316230",
     "exception": false,
     "start_time": "2022-09-06T20:10:56.279717",
     "status": "completed"
    },
    "tags": []
   },
   "source": [
    "## Filter data to get 3 and 8 out"
   ]
  },
  {
   "cell_type": "code",
   "execution_count": 10,
   "id": "776f7fc7",
   "metadata": {
    "execution": {
     "iopub.execute_input": "2022-09-06T20:10:56.406613Z",
     "iopub.status.busy": "2022-09-06T20:10:56.397489Z",
     "iopub.status.idle": "2022-09-06T20:10:56.419903Z",
     "shell.execute_reply": "2022-09-06T20:10:56.419261Z"
    },
    "papermill": {
     "duration": 0.068823,
     "end_time": "2022-09-06T20:10:56.420051",
     "exception": false,
     "start_time": "2022-09-06T20:10:56.351228",
     "status": "completed"
    },
    "tags": []
   },
   "outputs": [],
   "source": [
    "train_filter = np.where((train_labels == 3 ) | (train_labels == 8))\n",
    "test_filter = np.where((test_labels == 3) | (test_labels == 8))\n",
    "X_train, y_train = train_images[train_filter], train_labels[train_filter]\n",
    "X_test, y_test = test_images[test_filter], test_labels[test_filter]"
   ]
  },
  {
   "cell_type": "markdown",
   "id": "948f0b7e",
   "metadata": {
    "papermill": {
     "duration": 0.036844,
     "end_time": "2022-09-06T20:10:56.490269",
     "exception": false,
     "start_time": "2022-09-06T20:10:56.453425",
     "status": "completed"
    },
    "tags": []
   },
   "source": [
    "We normalize the pizel values in the 0 to 1 range"
   ]
  },
  {
   "cell_type": "code",
   "execution_count": 11,
   "id": "ee4c2166",
   "metadata": {
    "execution": {
     "iopub.execute_input": "2022-09-06T20:10:56.575595Z",
     "iopub.status.busy": "2022-09-06T20:10:56.574859Z",
     "iopub.status.idle": "2022-09-06T20:10:56.637298Z",
     "shell.execute_reply": "2022-09-06T20:10:56.636644Z"
    },
    "papermill": {
     "duration": 0.10095,
     "end_time": "2022-09-06T20:10:56.637444",
     "exception": false,
     "start_time": "2022-09-06T20:10:56.536494",
     "status": "completed"
    },
    "tags": []
   },
   "outputs": [],
   "source": [
    "X_train = X_train/255.\n",
    "X_test = X_test/255."
   ]
  },
  {
   "cell_type": "markdown",
   "id": "ddcf4fab",
   "metadata": {
    "papermill": {
     "duration": 0.034967,
     "end_time": "2022-09-06T20:10:56.705845",
     "exception": false,
     "start_time": "2022-09-06T20:10:56.670878",
     "status": "completed"
    },
    "tags": []
   },
   "source": [
    "And setup the labels as 1 (when the digit is 3) and 0 (when the digit is 8)"
   ]
  },
  {
   "cell_type": "code",
   "execution_count": 12,
   "id": "7dc908f2",
   "metadata": {
    "execution": {
     "iopub.execute_input": "2022-09-06T20:10:56.777229Z",
     "iopub.status.busy": "2022-09-06T20:10:56.776500Z",
     "iopub.status.idle": "2022-09-06T20:10:56.791545Z",
     "shell.execute_reply": "2022-09-06T20:10:56.790921Z"
    },
    "papermill": {
     "duration": 0.052938,
     "end_time": "2022-09-06T20:10:56.791685",
     "exception": false,
     "start_time": "2022-09-06T20:10:56.738747",
     "status": "completed"
    },
    "tags": []
   },
   "outputs": [],
   "source": [
    "y_train = 1*(y_train==3)\n",
    "y_test = 1*(y_test==3)"
   ]
  },
  {
   "cell_type": "code",
   "execution_count": 13,
   "id": "01e4e969",
   "metadata": {
    "execution": {
     "iopub.execute_input": "2022-09-06T20:10:56.865599Z",
     "iopub.status.busy": "2022-09-06T20:10:56.864674Z",
     "iopub.status.idle": "2022-09-06T20:10:56.881358Z",
     "shell.execute_reply": "2022-09-06T20:10:56.881953Z"
    },
    "papermill": {
     "duration": 0.057174,
     "end_time": "2022-09-06T20:10:56.882126",
     "exception": false,
     "start_time": "2022-09-06T20:10:56.824952",
     "status": "completed"
    },
    "tags": []
   },
   "outputs": [
    {
     "data": {
      "text/plain": [
       "((11982, 28, 28), (1984, 28, 28))"
      ]
     },
     "execution_count": 13,
     "metadata": {},
     "output_type": "execute_result"
    }
   ],
   "source": [
    "X_train.shape, X_test.shape"
   ]
  },
  {
   "cell_type": "markdown",
   "id": "5ccf3f85",
   "metadata": {
    "papermill": {
     "duration": 0.033709,
     "end_time": "2022-09-06T20:10:56.949985",
     "exception": false,
     "start_time": "2022-09-06T20:10:56.916276",
     "status": "completed"
    },
    "tags": []
   },
   "source": [
    "We reshape the data to flatten the image pixels into a set of features or co-variates:"
   ]
  },
  {
   "cell_type": "code",
   "execution_count": 14,
   "id": "5286a4a3",
   "metadata": {
    "execution": {
     "iopub.execute_input": "2022-09-06T20:10:57.027458Z",
     "iopub.status.busy": "2022-09-06T20:10:57.024857Z",
     "iopub.status.idle": "2022-09-06T20:10:57.041490Z",
     "shell.execute_reply": "2022-09-06T20:10:57.042083Z"
    },
    "papermill": {
     "duration": 0.058599,
     "end_time": "2022-09-06T20:10:57.042241",
     "exception": false,
     "start_time": "2022-09-06T20:10:56.983642",
     "status": "completed"
    },
    "tags": []
   },
   "outputs": [
    {
     "data": {
      "text/plain": [
       "((11982, 784), (1984, 784))"
      ]
     },
     "execution_count": 14,
     "metadata": {},
     "output_type": "execute_result"
    }
   ],
   "source": [
    "X_train = X_train.reshape(X_train.shape[0], -1)\n",
    "X_test = X_test.reshape(X_test.shape[0], -1)\n",
    "X_train.shape, X_test.shape"
   ]
  },
  {
   "cell_type": "code",
   "execution_count": 15,
   "id": "73c5f88a",
   "metadata": {
    "execution": {
     "iopub.execute_input": "2022-09-06T20:10:57.134003Z",
     "iopub.status.busy": "2022-09-06T20:10:57.133224Z",
     "iopub.status.idle": "2022-09-06T20:10:57.155220Z",
     "shell.execute_reply": "2022-09-06T20:10:57.155785Z"
    },
    "papermill": {
     "duration": 0.071206,
     "end_time": "2022-09-06T20:10:57.155954",
     "exception": false,
     "start_time": "2022-09-06T20:10:57.084748",
     "status": "completed"
    },
    "tags": []
   },
   "outputs": [],
   "source": [
    "#Impoting functions from 'Kudzu'\n",
    "from kudzu.model import Model\n",
    "from kudzu.train import Learner\n",
    "from kudzu.optim import GD\n",
    "from kudzu.data import Data, Sampler,Dataloader\n",
    "\n",
    "from kudzu.callbacks import AccCallback\n",
    "from kudzu.callbacks import ClfCallback\n",
    "\n",
    "from kudzu.loss import MSE\n",
    "\n",
    "from kudzu.layer import Sigmoid,Relu\n",
    "from kudzu.layer import Affine"
   ]
  },
  {
   "cell_type": "markdown",
   "id": "bc01172a",
   "metadata": {
    "papermill": {
     "duration": 0.034539,
     "end_time": "2022-09-06T20:10:57.226882",
     "exception": false,
     "start_time": "2022-09-06T20:10:57.192343",
     "status": "completed"
    },
    "tags": []
   },
   "source": [
    "### Let us create a `Config` class, to store important parameters. \n",
    "This class essentially plays the role of a dictionary."
   ]
  },
  {
   "cell_type": "code",
   "execution_count": 16,
   "id": "978281aa",
   "metadata": {
    "execution": {
     "iopub.execute_input": "2022-09-06T20:10:57.303380Z",
     "iopub.status.busy": "2022-09-06T20:10:57.302617Z",
     "iopub.status.idle": "2022-09-06T20:10:57.315975Z",
     "shell.execute_reply": "2022-09-06T20:10:57.316589Z"
    },
    "papermill": {
     "duration": 0.056052,
     "end_time": "2022-09-06T20:10:57.316744",
     "exception": false,
     "start_time": "2022-09-06T20:10:57.260692",
     "status": "completed"
    },
    "tags": []
   },
   "outputs": [],
   "source": [
    "class Config:\n",
    "    pass\n",
    "config = Config()\n",
    "config.lr = 0.001\n",
    "config.num_epochs = 250\n",
    "config.bs = 50"
   ]
  },
  {
   "cell_type": "markdown",
   "id": "1385fa59",
   "metadata": {
    "papermill": {
     "duration": 0.033723,
     "end_time": "2022-09-06T20:10:57.384378",
     "exception": false,
     "start_time": "2022-09-06T20:10:57.350655",
     "status": "completed"
    },
    "tags": []
   },
   "source": [
    "### Running Models with the Training data\n",
    "Details about the network layers:\n",
    "- A first affine layer has 784 inputs and does 100 affine transforms. These are followed by a Relu\n",
    "- A second affine layer has 100 inputs from the 100 activations of the past layer, and does 100 affine transforms. These are followed by a Relu\n",
    "- A third affine layer has 100 activations and does 2 affine transformations to create an embedding for visualization. There is no non-linearity here.\n",
    "- A final \"logistic regression\" which has an affine transform from 2 inputs to 1 output, which is squeezed through a sigmoid.\n"
   ]
  },
  {
   "cell_type": "code",
   "execution_count": 17,
   "id": "2b9c66db",
   "metadata": {
    "execution": {
     "iopub.execute_input": "2022-09-06T20:10:57.461366Z",
     "iopub.status.busy": "2022-09-06T20:10:57.460617Z",
     "iopub.status.idle": "2022-09-06T20:10:57.474965Z",
     "shell.execute_reply": "2022-09-06T20:10:57.474343Z"
    },
    "papermill": {
     "duration": 0.055763,
     "end_time": "2022-09-06T20:10:57.475104",
     "exception": false,
     "start_time": "2022-09-06T20:10:57.419341",
     "status": "completed"
    },
    "tags": []
   },
   "outputs": [],
   "source": [
    "data = Data(X_train, y_train.reshape(-1,1))\n",
    "sampler = Sampler(data, config.bs, shuffle=True)\n",
    "\n",
    "dl = Dataloader(data, sampler)\n",
    "\n",
    "opt = GD(config.lr)\n",
    "loss = MSE()"
   ]
  },
  {
   "cell_type": "code",
   "execution_count": 18,
   "id": "b275e4c2",
   "metadata": {
    "execution": {
     "iopub.execute_input": "2022-09-06T20:10:57.566020Z",
     "iopub.status.busy": "2022-09-06T20:10:57.565227Z",
     "iopub.status.idle": "2022-09-06T20:10:57.578757Z",
     "shell.execute_reply": "2022-09-06T20:10:57.578001Z"
    },
    "papermill": {
     "duration": 0.063474,
     "end_time": "2022-09-06T20:10:57.578901",
     "exception": false,
     "start_time": "2022-09-06T20:10:57.515427",
     "status": "completed"
    },
    "tags": []
   },
   "outputs": [],
   "source": [
    "training_data_x = X_train\n",
    "testing_data_x = X_test\n",
    "training_data_y = y_train.reshape(-1,1)\n",
    "testing_data_y = y_test.reshape(-1,1)"
   ]
  },
  {
   "cell_type": "code",
   "execution_count": 19,
   "id": "76951160",
   "metadata": {
    "execution": {
     "iopub.execute_input": "2022-09-06T20:10:57.659551Z",
     "iopub.status.busy": "2022-09-06T20:10:57.658795Z",
     "iopub.status.idle": "2022-09-06T20:10:57.675074Z",
     "shell.execute_reply": "2022-09-06T20:10:57.674490Z"
    },
    "papermill": {
     "duration": 0.061244,
     "end_time": "2022-09-06T20:10:57.675213",
     "exception": false,
     "start_time": "2022-09-06T20:10:57.613969",
     "status": "completed"
    },
    "tags": []
   },
   "outputs": [
    {
     "name": "stdout",
     "output_type": "stream",
     "text": [
      "xavier\n",
      "xavier\n",
      "xavier\n",
      "xavier\n",
      "xavier\n"
     ]
    }
   ],
   "source": [
    "layers = [Affine(\"first\", 784, 100), Relu(\"first\"), Affine(\"second\", 100, 100), Relu(\"second\"), Affine(\"third\", 100, 2), Affine(\"last\", 2, 1), Sigmoid(\"last\")]\n",
    "model_nn = Model(layers)\n",
    "model_lr = Model([Affine(\"logits\", 784, 1), Sigmoid(\"sigmoid\")])"
   ]
  },
  {
   "cell_type": "code",
   "execution_count": 20,
   "id": "6eede77a",
   "metadata": {
    "execution": {
     "iopub.execute_input": "2022-09-06T20:10:57.754470Z",
     "iopub.status.busy": "2022-09-06T20:10:57.751710Z",
     "iopub.status.idle": "2022-09-06T20:10:57.764741Z",
     "shell.execute_reply": "2022-09-06T20:10:57.765322Z"
    },
    "papermill": {
     "duration": 0.055428,
     "end_time": "2022-09-06T20:10:57.765496",
     "exception": false,
     "start_time": "2022-09-06T20:10:57.710068",
     "status": "completed"
    },
    "tags": []
   },
   "outputs": [],
   "source": [
    "nn_learner = Learner(loss, model_nn, opt, config.num_epochs)\n",
    "acc_nn = ClfCallback(nn_learner, config.bs, training_data_x , testing_data_x, training_data_y, testing_data_y)\n",
    "nn_learner.set_callbacks([acc_nn])"
   ]
  },
  {
   "cell_type": "code",
   "execution_count": 21,
   "id": "877b6cc7",
   "metadata": {
    "execution": {
     "iopub.execute_input": "2022-09-06T20:10:57.842042Z",
     "iopub.status.busy": "2022-09-06T20:10:57.841264Z",
     "iopub.status.idle": "2022-09-06T20:10:57.854281Z",
     "shell.execute_reply": "2022-09-06T20:10:57.853673Z"
    },
    "papermill": {
     "duration": 0.054388,
     "end_time": "2022-09-06T20:10:57.854416",
     "exception": false,
     "start_time": "2022-09-06T20:10:57.800028",
     "status": "completed"
    },
    "tags": []
   },
   "outputs": [],
   "source": [
    "lr_learner = Learner(loss, model_lr, opt, config.num_epochs)\n",
    "acc_lr = ClfCallback(lr_learner, config.bs, training_data_x , testing_data_x, training_data_y, testing_data_y)\n",
    "lr_learner.set_callbacks([acc_lr])"
   ]
  },
  {
   "cell_type": "code",
   "execution_count": 22,
   "id": "d9b133c3",
   "metadata": {
    "execution": {
     "iopub.execute_input": "2022-09-06T20:10:57.931935Z",
     "iopub.status.busy": "2022-09-06T20:10:57.931073Z",
     "iopub.status.idle": "2022-09-06T20:13:07.843557Z",
     "shell.execute_reply": "2022-09-06T20:13:07.844568Z"
    },
    "papermill": {
     "duration": 129.95494,
     "end_time": "2022-09-06T20:13:07.844739",
     "exception": false,
     "start_time": "2022-09-06T20:10:57.889799",
     "status": "completed"
    },
    "tags": []
   },
   "outputs": [
    {
     "name": "stdout",
     "output_type": "stream",
     "text": [
      "Epoch 0, Loss 0.2537\n",
      "Training Accuracy: 0.4389, Testing Accuracy: 0.4340\n",
      "\n"
     ]
    },
    {
     "name": "stdout",
     "output_type": "stream",
     "text": [
      "Epoch 10, Loss 0.22\n",
      "Training Accuracy: 0.8489, Testing Accuracy: 0.8574\n",
      "\n"
     ]
    },
    {
     "name": "stdout",
     "output_type": "stream",
     "text": [
      "Epoch 20, Loss 0.1321\n",
      "Training Accuracy: 0.8975, Testing Accuracy: 0.9068\n",
      "\n"
     ]
    },
    {
     "name": "stdout",
     "output_type": "stream",
     "text": [
      "Epoch 30, Loss 0.0728\n",
      "Training Accuracy: 0.9270, Testing Accuracy: 0.9335\n",
      "\n"
     ]
    },
    {
     "name": "stdout",
     "output_type": "stream",
     "text": [
      "Epoch 40, Loss 0.0532\n",
      "Training Accuracy: 0.9419, Testing Accuracy: 0.9536\n",
      "\n"
     ]
    },
    {
     "name": "stdout",
     "output_type": "stream",
     "text": [
      "Epoch 50, Loss 0.0442\n",
      "Training Accuracy: 0.9492, Testing Accuracy: 0.9612\n",
      "\n"
     ]
    },
    {
     "name": "stdout",
     "output_type": "stream",
     "text": [
      "Epoch 60, Loss 0.039\n",
      "Training Accuracy: 0.9543, Testing Accuracy: 0.9642\n",
      "\n"
     ]
    },
    {
     "name": "stdout",
     "output_type": "stream",
     "text": [
      "Epoch 70, Loss 0.0357\n",
      "Training Accuracy: 0.9580, Testing Accuracy: 0.9642\n",
      "\n"
     ]
    },
    {
     "name": "stdout",
     "output_type": "stream",
     "text": [
      "Epoch 80, Loss 0.0333\n",
      "Training Accuracy: 0.9606, Testing Accuracy: 0.9677\n",
      "\n"
     ]
    },
    {
     "name": "stdout",
     "output_type": "stream",
     "text": [
      "Epoch 90, Loss 0.0314\n",
      "Training Accuracy: 0.9624, Testing Accuracy: 0.9688\n",
      "\n"
     ]
    },
    {
     "name": "stdout",
     "output_type": "stream",
     "text": [
      "Epoch 100, Loss 0.03\n",
      "Training Accuracy: 0.9644, Testing Accuracy: 0.9693\n",
      "\n"
     ]
    },
    {
     "name": "stdout",
     "output_type": "stream",
     "text": [
      "Epoch 110, Loss 0.0287\n",
      "Training Accuracy: 0.9665, Testing Accuracy: 0.9693\n",
      "\n"
     ]
    },
    {
     "name": "stdout",
     "output_type": "stream",
     "text": [
      "Epoch 120, Loss 0.0277\n",
      "Training Accuracy: 0.9680, Testing Accuracy: 0.9698\n",
      "\n"
     ]
    },
    {
     "name": "stdout",
     "output_type": "stream",
     "text": [
      "Epoch 130, Loss 0.0268\n",
      "Training Accuracy: 0.9696, Testing Accuracy: 0.9698\n",
      "\n"
     ]
    },
    {
     "name": "stdout",
     "output_type": "stream",
     "text": [
      "Epoch 140, Loss 0.026\n",
      "Training Accuracy: 0.9702, Testing Accuracy: 0.9698\n",
      "\n"
     ]
    },
    {
     "name": "stdout",
     "output_type": "stream",
     "text": [
      "Epoch 150, Loss 0.0252\n",
      "Training Accuracy: 0.9708, Testing Accuracy: 0.9698\n",
      "\n"
     ]
    },
    {
     "name": "stdout",
     "output_type": "stream",
     "text": [
      "Epoch 160, Loss 0.0246\n",
      "Training Accuracy: 0.9716, Testing Accuracy: 0.9708\n",
      "\n"
     ]
    },
    {
     "name": "stdout",
     "output_type": "stream",
     "text": [
      "Epoch 170, Loss 0.024\n",
      "Training Accuracy: 0.9726, Testing Accuracy: 0.9708\n",
      "\n"
     ]
    },
    {
     "name": "stdout",
     "output_type": "stream",
     "text": [
      "Epoch 180, Loss 0.0235\n",
      "Training Accuracy: 0.9733, Testing Accuracy: 0.9703\n",
      "\n"
     ]
    },
    {
     "name": "stdout",
     "output_type": "stream",
     "text": [
      "Epoch 190, Loss 0.023\n",
      "Training Accuracy: 0.9740, Testing Accuracy: 0.9708\n",
      "\n"
     ]
    },
    {
     "name": "stdout",
     "output_type": "stream",
     "text": [
      "Epoch 200, Loss 0.0225\n",
      "Training Accuracy: 0.9747, Testing Accuracy: 0.9708\n",
      "\n"
     ]
    },
    {
     "name": "stdout",
     "output_type": "stream",
     "text": [
      "Epoch 210, Loss 0.022\n",
      "Training Accuracy: 0.9750, Testing Accuracy: 0.9713\n",
      "\n"
     ]
    },
    {
     "name": "stdout",
     "output_type": "stream",
     "text": [
      "Epoch 220, Loss 0.0216\n",
      "Training Accuracy: 0.9755, Testing Accuracy: 0.9718\n",
      "\n"
     ]
    },
    {
     "name": "stdout",
     "output_type": "stream",
     "text": [
      "Epoch 230, Loss 0.0212\n",
      "Training Accuracy: 0.9761, Testing Accuracy: 0.9718\n",
      "\n"
     ]
    },
    {
     "name": "stdout",
     "output_type": "stream",
     "text": [
      "Epoch 240, Loss 0.0208\n",
      "Training Accuracy: 0.9762, Testing Accuracy: 0.9718\n",
      "\n"
     ]
    },
    {
     "data": {
      "text/plain": [
       "0.03687964221088253"
      ]
     },
     "execution_count": 22,
     "metadata": {},
     "output_type": "execute_result"
    }
   ],
   "source": [
    "nn_learner.train_loop(dl)"
   ]
  },
  {
   "cell_type": "code",
   "execution_count": 23,
   "id": "e0163366",
   "metadata": {
    "execution": {
     "iopub.execute_input": "2022-09-06T20:13:07.955918Z",
     "iopub.status.busy": "2022-09-06T20:13:07.955164Z",
     "iopub.status.idle": "2022-09-06T20:13:26.530205Z",
     "shell.execute_reply": "2022-09-06T20:13:26.531225Z"
    },
    "papermill": {
     "duration": 18.637649,
     "end_time": "2022-09-06T20:13:26.531392",
     "exception": false,
     "start_time": "2022-09-06T20:13:07.893743",
     "status": "completed"
    },
    "tags": []
   },
   "outputs": [
    {
     "name": "stdout",
     "output_type": "stream",
     "text": [
      "Epoch 0, Loss 0.214\n",
      "Training Accuracy: 0.7828, Testing Accuracy: 0.8014\n",
      "\n"
     ]
    },
    {
     "name": "stdout",
     "output_type": "stream",
     "text": [
      "Epoch 10, Loss 0.0996\n",
      "Training Accuracy: 0.9141, Testing Accuracy: 0.9158\n",
      "\n"
     ]
    },
    {
     "name": "stdout",
     "output_type": "stream",
     "text": [
      "Epoch 20, Loss 0.0778\n",
      "Training Accuracy: 0.9302, Testing Accuracy: 0.9360\n",
      "\n"
     ]
    },
    {
     "name": "stdout",
     "output_type": "stream",
     "text": [
      "Epoch 30, Loss 0.0675\n",
      "Training Accuracy: 0.9364, Testing Accuracy: 0.9466\n",
      "\n"
     ]
    },
    {
     "name": "stdout",
     "output_type": "stream",
     "text": [
      "Epoch 40, Loss 0.0612\n",
      "Training Accuracy: 0.9406, Testing Accuracy: 0.9501\n",
      "\n"
     ]
    },
    {
     "name": "stdout",
     "output_type": "stream",
     "text": [
      "Epoch 50, Loss 0.0569\n",
      "Training Accuracy: 0.9433, Testing Accuracy: 0.9521\n",
      "\n"
     ]
    },
    {
     "name": "stdout",
     "output_type": "stream",
     "text": [
      "Epoch 60, Loss 0.0537\n",
      "Training Accuracy: 0.9460, Testing Accuracy: 0.9546\n",
      "\n"
     ]
    },
    {
     "name": "stdout",
     "output_type": "stream",
     "text": [
      "Epoch 70, Loss 0.0512\n",
      "Training Accuracy: 0.9483, Testing Accuracy: 0.9577\n",
      "\n"
     ]
    },
    {
     "name": "stdout",
     "output_type": "stream",
     "text": [
      "Epoch 80, Loss 0.0492\n",
      "Training Accuracy: 0.9503, Testing Accuracy: 0.9587\n",
      "\n"
     ]
    },
    {
     "name": "stdout",
     "output_type": "stream",
     "text": [
      "Epoch 90, Loss 0.0475\n",
      "Training Accuracy: 0.9517, Testing Accuracy: 0.9592\n",
      "\n"
     ]
    },
    {
     "name": "stdout",
     "output_type": "stream",
     "text": [
      "Epoch 100, Loss 0.0461\n",
      "Training Accuracy: 0.9523, Testing Accuracy: 0.9607\n",
      "\n"
     ]
    },
    {
     "name": "stdout",
     "output_type": "stream",
     "text": [
      "Epoch 110, Loss 0.0449\n",
      "Training Accuracy: 0.9530, Testing Accuracy: 0.9607\n",
      "\n"
     ]
    },
    {
     "name": "stdout",
     "output_type": "stream",
     "text": [
      "Epoch 120, Loss 0.0439\n",
      "Training Accuracy: 0.9539, Testing Accuracy: 0.9617\n",
      "\n"
     ]
    },
    {
     "name": "stdout",
     "output_type": "stream",
     "text": [
      "Epoch 130, Loss 0.0429\n",
      "Training Accuracy: 0.9550, Testing Accuracy: 0.9622\n",
      "\n"
     ]
    },
    {
     "name": "stdout",
     "output_type": "stream",
     "text": [
      "Epoch 140, Loss 0.0421\n",
      "Training Accuracy: 0.9556, Testing Accuracy: 0.9632\n",
      "\n"
     ]
    },
    {
     "name": "stdout",
     "output_type": "stream",
     "text": [
      "Epoch 150, Loss 0.0414\n",
      "Training Accuracy: 0.9565, Testing Accuracy: 0.9647\n",
      "\n"
     ]
    },
    {
     "name": "stdout",
     "output_type": "stream",
     "text": [
      "Epoch 160, Loss 0.0407\n",
      "Training Accuracy: 0.9569, Testing Accuracy: 0.9647\n",
      "\n"
     ]
    },
    {
     "name": "stdout",
     "output_type": "stream",
     "text": [
      "Epoch 170, Loss 0.0401\n",
      "Training Accuracy: 0.9575, Testing Accuracy: 0.9647\n",
      "\n"
     ]
    },
    {
     "name": "stdout",
     "output_type": "stream",
     "text": [
      "Epoch 180, Loss 0.0395\n",
      "Training Accuracy: 0.9583, Testing Accuracy: 0.9647\n",
      "\n"
     ]
    },
    {
     "name": "stdout",
     "output_type": "stream",
     "text": [
      "Epoch 190, Loss 0.039\n",
      "Training Accuracy: 0.9586, Testing Accuracy: 0.9642\n",
      "\n"
     ]
    },
    {
     "name": "stdout",
     "output_type": "stream",
     "text": [
      "Epoch 200, Loss 0.0385\n",
      "Training Accuracy: 0.9590, Testing Accuracy: 0.9637\n",
      "\n"
     ]
    },
    {
     "name": "stdout",
     "output_type": "stream",
     "text": [
      "Epoch 210, Loss 0.0381\n",
      "Training Accuracy: 0.9593, Testing Accuracy: 0.9642\n",
      "\n"
     ]
    },
    {
     "name": "stdout",
     "output_type": "stream",
     "text": [
      "Epoch 220, Loss 0.0377\n",
      "Training Accuracy: 0.9598, Testing Accuracy: 0.9642\n",
      "\n"
     ]
    },
    {
     "name": "stdout",
     "output_type": "stream",
     "text": [
      "Epoch 230, Loss 0.0373\n",
      "Training Accuracy: 0.9600, Testing Accuracy: 0.9647\n",
      "\n"
     ]
    },
    {
     "name": "stdout",
     "output_type": "stream",
     "text": [
      "Epoch 240, Loss 0.0369\n",
      "Training Accuracy: 0.9606, Testing Accuracy: 0.9642\n",
      "\n"
     ]
    },
    {
     "data": {
      "text/plain": [
       "0.037439261881781094"
      ]
     },
     "execution_count": 23,
     "metadata": {},
     "output_type": "execute_result"
    }
   ],
   "source": [
    "lr_learner.train_loop(dl)"
   ]
  },
  {
   "cell_type": "code",
   "execution_count": 24,
   "id": "ca410940",
   "metadata": {
    "execution": {
     "iopub.execute_input": "2022-09-06T20:13:26.656063Z",
     "iopub.status.busy": "2022-09-06T20:13:26.655302Z",
     "iopub.status.idle": "2022-09-06T20:13:26.948726Z",
     "shell.execute_reply": "2022-09-06T20:13:26.948099Z"
    },
    "papermill": {
     "duration": 0.360426,
     "end_time": "2022-09-06T20:13:26.948869",
     "exception": false,
     "start_time": "2022-09-06T20:13:26.588443",
     "status": "completed"
    },
    "tags": []
   },
   "outputs": [
    {
     "data": {
      "text/plain": [
       "<matplotlib.legend.Legend at 0x7f35163b0358>"
      ]
     },
     "execution_count": 24,
     "metadata": {},
     "output_type": "execute_result"
    },
    {
     "data": {
      "image/png": "[encoded data removed]",
      "text/plain": [
       "<Figure size 1080x720 with 1 Axes>"
      ]
     },
     "metadata": {
      "needs_background": "light"
     },
     "output_type": "display_data"
    }
   ],
   "source": [
    "#comparing the results of NN and LR\n",
    "plt.figure(figsize=(15,10))\n",
    "\n",
    "# Neural Network plots\n",
    "plt.plot(acc_nn.accuracies, 'r-', label = \"Training Accuracies - NN\")\n",
    "plt.plot(acc_nn.test_accuracies, 'g-', label = \"Testing Accuracies - NN\")\n",
    "\n",
    "# Logistic Regression plots\n",
    "plt.plot(acc_lr.accuracies, 'k-', label = \"Training Accuracies - LR\")\n",
    "plt.plot(acc_lr.test_accuracies, 'b-', label = \"Testing Accuracies - LR\")\n",
    "plt.legend()"
   ]
  },
  {
   "cell_type": "markdown",
   "id": "80dfb35c",
   "metadata": {
    "papermill": {
     "duration": 0.057963,
     "end_time": "2022-09-06T20:13:27.060825",
     "exception": false,
     "start_time": "2022-09-06T20:13:27.002862",
     "status": "completed"
    },
    "tags": []
   },
   "source": [
    "#### Plotting the outputs of this layer of the NN.\n"
   ]
  },
  {
   "cell_type": "code",
   "execution_count": 25,
   "id": "45eb2ff5",
   "metadata": {
    "execution": {
     "iopub.execute_input": "2022-09-06T20:13:27.179316Z",
     "iopub.status.busy": "2022-09-06T20:13:27.177034Z",
     "iopub.status.idle": "2022-09-06T20:13:27.204864Z",
     "shell.execute_reply": "2022-09-06T20:13:27.205495Z"
    },
    "papermill": {
     "duration": 0.087409,
     "end_time": "2022-09-06T20:13:27.205673",
     "exception": false,
     "start_time": "2022-09-06T20:13:27.118264",
     "status": "completed"
    },
    "tags": []
   },
   "outputs": [],
   "source": [
    "new_model = Model(layers[:-2])\n",
    "testing_plot = new_model(testing_data_x)"
   ]
  },
  {
   "cell_type": "code",
   "execution_count": 26,
   "id": "4c0a5485",
   "metadata": {
    "execution": {
     "iopub.execute_input": "2022-09-06T20:13:27.326823Z",
     "iopub.status.busy": "2022-09-06T20:13:27.326062Z",
     "iopub.status.idle": "2022-09-06T20:13:27.615039Z",
     "shell.execute_reply": "2022-09-06T20:13:27.616703Z"
    },
    "papermill": {
     "duration": 0.352955,
     "end_time": "2022-09-06T20:13:27.616885",
     "exception": false,
     "start_time": "2022-09-06T20:13:27.263930",
     "status": "completed"
    },
    "tags": []
   },
   "outputs": [
    {
     "data": {
      "text/plain": [
       "Text(0.5, 1.0, 'Outputs')"
      ]
     },
     "execution_count": 26,
     "metadata": {},
     "output_type": "execute_result"
    },
    {
     "data": {
      "image/png": "[encoded data removed]",
      "text/plain": [
       "<Figure size 576x504 with 1 Axes>"
      ]
     },
     "metadata": {
      "needs_background": "light"
     },
     "output_type": "display_data"
    }
   ],
   "source": [
    "# Plotting the scatter plot of points and color coding by class\n",
    "plt.figure(figsize=(8,7))\n",
    "plt.scatter(testing_plot[:,0], testing_plot[:,1], alpha = 0.1, c = y_test.ravel());\n",
    "plt.title('Outputs')"
   ]
  },
  {
   "cell_type": "markdown",
   "id": "a74fcf8f",
   "metadata": {
    "papermill": {
     "duration": 0.084326,
     "end_time": "2022-09-06T20:13:27.759783",
     "exception": false,
     "start_time": "2022-09-06T20:13:27.675457",
     "status": "completed"
    },
    "tags": []
   },
   "source": [
    "Probability contours"
   ]
  },
  {
   "cell_type": "code",
   "execution_count": 27,
   "id": "d0afc8e3",
   "metadata": {
    "execution": {
     "iopub.execute_input": "2022-09-06T20:13:27.888141Z",
     "iopub.status.busy": "2022-09-06T20:13:27.887108Z",
     "iopub.status.idle": "2022-09-06T20:13:27.901283Z",
     "shell.execute_reply": "2022-09-06T20:13:27.900645Z"
    },
    "papermill": {
     "duration": 0.082368,
     "end_time": "2022-09-06T20:13:27.901425",
     "exception": false,
     "start_time": "2022-09-06T20:13:27.819057",
     "status": "completed"
    },
    "tags": []
   },
   "outputs": [],
   "source": [
    "model_prob = Model(layers[-2:]) "
   ]
  },
  {
   "cell_type": "code",
   "execution_count": 28,
   "id": "9b96e238",
   "metadata": {
    "execution": {
     "iopub.execute_input": "2022-09-06T20:13:28.025399Z",
     "iopub.status.busy": "2022-09-06T20:13:28.024634Z",
     "iopub.status.idle": "2022-09-06T20:13:28.040200Z",
     "shell.execute_reply": "2022-09-06T20:13:28.040769Z"
    },
    "papermill": {
     "duration": 0.078558,
     "end_time": "2022-09-06T20:13:28.040934",
     "exception": false,
     "start_time": "2022-09-06T20:13:27.962376",
     "status": "completed"
    },
    "tags": []
   },
   "outputs": [],
   "source": [
    "#creating the x and y ranges according to the above generated plot.\n",
    "x_range = np.linspace(-4, 1, 100) \n",
    "y_range = np.linspace(-6, 6, 100) \n",
    "x_grid, y_grid = np.meshgrid(x_range, y_range) # x_grid and y_grig are of size 100 X 100\n",
    "\n",
    "# converting x_grid and y_grid to continuous arrays\n",
    "x_gridflat = np.ravel(x_grid)\n",
    "y_gridflat = np.ravel(y_grid)\n",
    "\n",
    "# The last layer of the current model takes two columns as input. Hence transpose of np.vstack() is required.\n",
    "X = np.vstack((x_gridflat, y_gridflat)).T\n",
    "\n",
    "prob_contour = model_prob(X).reshape(100,100) "
   ]
  },
  {
   "cell_type": "code",
   "execution_count": 29,
   "id": "da72499a",
   "metadata": {
    "execution": {
     "iopub.execute_input": "2022-09-06T20:13:28.173598Z",
     "iopub.status.busy": "2022-09-06T20:13:28.172793Z",
     "iopub.status.idle": "2022-09-06T20:13:28.501680Z",
     "shell.execute_reply": "2022-09-06T20:13:28.500720Z"
    },
    "papermill": {
     "duration": 0.392681,
     "end_time": "2022-09-06T20:13:28.501826",
     "exception": false,
     "start_time": "2022-09-06T20:13:28.109145",
     "status": "completed"
    },
    "tags": []
   },
   "outputs": [
    {
     "data": {
      "image/png": "[encoded data removed]",
      "text/plain": [
       "<Figure size 720x648 with 1 Axes>"
      ]
     },
     "metadata": {
      "needs_background": "light"
     },
     "output_type": "display_data"
    }
   ],
   "source": [
    "plt.figure(figsize=(10,9))\n",
    "plt.scatter(testing_plot[:,0], testing_plot[:,1], alpha = 0.1, c = y_test.ravel())\n",
    "contours = plt.contour(x_grid,y_grid,prob_contour)\n",
    "plt.title('Probability Contours')\n",
    "plt.clabel(contours, inline = True );"
   ]
  },
  {
   "cell_type": "code",
   "execution_count": null,
   "id": "e81b4ac7",
   "metadata": {
    "papermill": {
     "duration": 0.062393,
     "end_time": "2022-09-06T20:13:28.630360",
     "exception": false,
     "start_time": "2022-09-06T20:13:28.567967",
     "status": "completed"
    },
    "tags": []
   },
   "outputs": [],
   "source": []
  }
 ],
 "metadata": {
  "kernelspec": {
   "display_name": "Python 3",
   "language": "python",
   "name": "python3"
  },
  "language_info": {
   "codemirror_mode": {
    "name": "ipython",
    "version": 3
   },
   "file_extension": ".py",
   "mimetype": "text/x-python",
   "name": "python",
   "nbconvert_exporter": "python",
   "pygments_lexer": "ipython3",
   "version": "3.6.15"
  },
  "papermill": {
   "default_parameters": {},
   "duration": 158.991576,
   "end_time": "2022-09-06T20:13:29.210158",
   "environment_variables": {},
   "exception": null,
   "input_path": "2020-08-11-part2.ipynb",
   "output_path": "2020-08-11-part2.ipynb",
   "parameters": {},
   "start_time": "2022-09-06T20:10:50.218582",
   "version": "2.3.3"
  }
 },
 "nbformat": 4,
 "nbformat_minor": 5
}