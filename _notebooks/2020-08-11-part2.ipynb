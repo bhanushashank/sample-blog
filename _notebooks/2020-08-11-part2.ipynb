{
 "cells": [
  {
   "cell_type": "markdown",
   "id": "98380cd3",
   "metadata": {
    "papermill": {
     "duration": 0.02895,
     "end_time": "2022-08-19T20:10:31.610416",
     "exception": false,
     "start_time": "2022-08-19T20:10:31.581466",
     "status": "completed"
    },
    "tags": []
   },
   "source": [
    "# Distinguish Your Own Digits (DYOD)"
   ]
  },
  {
   "cell_type": "markdown",
   "id": "ef31240d",
   "metadata": {
    "papermill": {
     "duration": 0.024218,
     "end_time": "2022-08-19T20:10:31.659459",
     "exception": false,
     "start_time": "2022-08-19T20:10:31.635241",
     "status": "completed"
    },
    "tags": []
   },
   "source": [
    "You are going to write a classifier that distinguishes between the number 3 and number 8."
   ]
  },
  {
   "cell_type": "code",
   "execution_count": 1,
   "id": "b15c8646",
   "metadata": {
    "execution": {
     "iopub.execute_input": "2022-08-19T20:10:31.717652Z",
     "iopub.status.busy": "2022-08-19T20:10:31.717093Z",
     "iopub.status.idle": "2022-08-19T20:10:31.727584Z",
     "shell.execute_reply": "2022-08-19T20:10:31.727127Z"
    },
    "papermill": {
     "duration": 0.04408,
     "end_time": "2022-08-19T20:10:31.727692",
     "exception": false,
     "start_time": "2022-08-19T20:10:31.683612",
     "status": "completed"
    },
    "tags": []
   },
   "outputs": [],
   "source": [
    "%load_ext autoreload\n",
    "%autoreload 2"
   ]
  },
  {
   "cell_type": "code",
   "execution_count": 2,
   "id": "22ef38dc",
   "metadata": {
    "execution": {
     "iopub.execute_input": "2022-08-19T20:10:31.779351Z",
     "iopub.status.busy": "2022-08-19T20:10:31.778800Z",
     "iopub.status.idle": "2022-08-19T20:10:32.280388Z",
     "shell.execute_reply": "2022-08-19T20:10:32.280836Z"
    },
    "papermill": {
     "duration": 0.529122,
     "end_time": "2022-08-19T20:10:32.280975",
     "exception": false,
     "start_time": "2022-08-19T20:10:31.751853",
     "status": "completed"
    },
    "tags": []
   },
   "outputs": [],
   "source": [
    "%matplotlib inline\n",
    "import numpy as np\n",
    "import matplotlib.pyplot as plt\n",
    "import pandas as pd"
   ]
  },
  {
   "cell_type": "markdown",
   "id": "ba036198",
   "metadata": {
    "papermill": {
     "duration": 0.024212,
     "end_time": "2022-08-19T20:10:32.329520",
     "exception": false,
     "start_time": "2022-08-19T20:10:32.305308",
     "status": "completed"
    },
    "tags": []
   },
   "source": [
    "From the command line run `pip install mnist`. This is a library that will help you bring down the mnist dataset. If you run this from a notebook, you need to put  `!pip install mnist` in a cell by itself."
   ]
  },
  {
   "cell_type": "code",
   "execution_count": 3,
   "id": "bb6ad8a1",
   "metadata": {
    "execution": {
     "iopub.execute_input": "2022-08-19T20:10:32.383736Z",
     "iopub.status.busy": "2022-08-19T20:10:32.383190Z",
     "iopub.status.idle": "2022-08-19T20:10:34.106290Z",
     "shell.execute_reply": "2022-08-19T20:10:34.106740Z"
    },
    "papermill": {
     "duration": 1.751121,
     "end_time": "2022-08-19T20:10:34.106876",
     "exception": false,
     "start_time": "2022-08-19T20:10:32.355755",
     "status": "completed"
    },
    "tags": []
   },
   "outputs": [
    {
     "name": "stdout",
     "output_type": "stream",
     "text": [
      "Collecting mnist\r\n"
     ]
    },
    {
     "name": "stdout",
     "output_type": "stream",
     "text": [
      "  Downloading mnist-0.2.2-py2.py3-none-any.whl (3.5 kB)\r\n",
      "Requirement already satisfied: numpy in /opt/hostedtoolcache/Python/3.6.15/x64/lib/python3.6/site-packages (from mnist) (1.19.5)\r\n"
     ]
    },
    {
     "name": "stdout",
     "output_type": "stream",
     "text": [
      "Installing collected packages: mnist\r\n"
     ]
    },
    {
     "name": "stdout",
     "output_type": "stream",
     "text": [
      "Successfully installed mnist-0.2.2\r\n"
     ]
    }
   ],
   "source": [
    "!pip install mnist"
   ]
  },
  {
   "cell_type": "markdown",
   "id": "69df9c9a",
   "metadata": {
    "papermill": {
     "duration": 0.025401,
     "end_time": "2022-08-19T20:10:34.157829",
     "exception": false,
     "start_time": "2022-08-19T20:10:34.132428",
     "status": "completed"
    },
    "tags": []
   },
   "source": [
    "## Preparing the Data"
   ]
  },
  {
   "cell_type": "code",
   "execution_count": 4,
   "id": "7f69d806",
   "metadata": {
    "execution": {
     "iopub.execute_input": "2022-08-19T20:10:34.212108Z",
     "iopub.status.busy": "2022-08-19T20:10:34.211559Z",
     "iopub.status.idle": "2022-08-19T20:10:34.226056Z",
     "shell.execute_reply": "2022-08-19T20:10:34.225589Z"
    },
    "papermill": {
     "duration": 0.043166,
     "end_time": "2022-08-19T20:10:34.226154",
     "exception": false,
     "start_time": "2022-08-19T20:10:34.182988",
     "status": "completed"
    },
    "tags": []
   },
   "outputs": [],
   "source": [
    "import mnist"
   ]
  },
  {
   "cell_type": "code",
   "execution_count": 5,
   "id": "a411e44f",
   "metadata": {
    "execution": {
     "iopub.execute_input": "2022-08-19T20:10:34.279112Z",
     "iopub.status.busy": "2022-08-19T20:10:34.278553Z",
     "iopub.status.idle": "2022-08-19T20:10:35.133962Z",
     "shell.execute_reply": "2022-08-19T20:10:35.133464Z"
    },
    "papermill": {
     "duration": 0.882646,
     "end_time": "2022-08-19T20:10:35.134080",
     "exception": false,
     "start_time": "2022-08-19T20:10:34.251434",
     "status": "completed"
    },
    "tags": []
   },
   "outputs": [],
   "source": [
    "train_images = mnist.train_images()\n",
    "train_labels = mnist.train_labels()"
   ]
  },
  {
   "cell_type": "code",
   "execution_count": 6,
   "id": "dceab3a5",
   "metadata": {
    "execution": {
     "iopub.execute_input": "2022-08-19T20:10:35.188385Z",
     "iopub.status.busy": "2022-08-19T20:10:35.187828Z",
     "iopub.status.idle": "2022-08-19T20:10:35.202102Z",
     "shell.execute_reply": "2022-08-19T20:10:35.201548Z"
    },
    "papermill": {
     "duration": 0.042673,
     "end_time": "2022-08-19T20:10:35.202202",
     "exception": false,
     "start_time": "2022-08-19T20:10:35.159529",
     "status": "completed"
    },
    "tags": []
   },
   "outputs": [
    {
     "data": {
      "text/plain": [
       "((60000, 28, 28), (60000,))"
      ]
     },
     "execution_count": 6,
     "metadata": {},
     "output_type": "execute_result"
    }
   ],
   "source": [
    "train_images.shape, train_labels.shape"
   ]
  },
  {
   "cell_type": "code",
   "execution_count": 7,
   "id": "f50dc2bb",
   "metadata": {
    "execution": {
     "iopub.execute_input": "2022-08-19T20:10:35.256309Z",
     "iopub.status.busy": "2022-08-19T20:10:35.255761Z",
     "iopub.status.idle": "2022-08-19T20:10:35.498226Z",
     "shell.execute_reply": "2022-08-19T20:10:35.497702Z"
    },
    "papermill": {
     "duration": 0.270669,
     "end_time": "2022-08-19T20:10:35.498336",
     "exception": false,
     "start_time": "2022-08-19T20:10:35.227667",
     "status": "completed"
    },
    "tags": []
   },
   "outputs": [],
   "source": [
    "test_images = mnist.test_images()\n",
    "test_labels = mnist.test_labels()"
   ]
  },
  {
   "cell_type": "code",
   "execution_count": 8,
   "id": "fc38cf1b",
   "metadata": {
    "execution": {
     "iopub.execute_input": "2022-08-19T20:10:35.553126Z",
     "iopub.status.busy": "2022-08-19T20:10:35.552577Z",
     "iopub.status.idle": "2022-08-19T20:10:35.565500Z",
     "shell.execute_reply": "2022-08-19T20:10:35.565054Z"
    },
    "papermill": {
     "duration": 0.041466,
     "end_time": "2022-08-19T20:10:35.565596",
     "exception": false,
     "start_time": "2022-08-19T20:10:35.524130",
     "status": "completed"
    },
    "tags": []
   },
   "outputs": [
    {
     "data": {
      "text/plain": [
       "((10000, 28, 28), (10000,))"
      ]
     },
     "execution_count": 8,
     "metadata": {},
     "output_type": "execute_result"
    }
   ],
   "source": [
    "test_images.shape, test_labels.shape"
   ]
  },
  {
   "cell_type": "code",
   "execution_count": 9,
   "id": "f9ed8fe0",
   "metadata": {
    "execution": {
     "iopub.execute_input": "2022-08-19T20:10:35.620549Z",
     "iopub.status.busy": "2022-08-19T20:10:35.620003Z",
     "iopub.status.idle": "2022-08-19T20:10:35.750250Z",
     "shell.execute_reply": "2022-08-19T20:10:35.750685Z"
    },
    "papermill": {
     "duration": 0.159442,
     "end_time": "2022-08-19T20:10:35.750804",
     "exception": false,
     "start_time": "2022-08-19T20:10:35.591362",
     "status": "completed"
    },
    "tags": []
   },
   "outputs": [
    {
     "name": "stdout",
     "output_type": "stream",
     "text": [
      "2\n"
     ]
    },
    {
     "data": {
      "text/plain": [
       "<matplotlib.image.AxesImage at 0x7fd488dfbef0>"
      ]
     },
     "execution_count": 9,
     "metadata": {},
     "output_type": "execute_result"
    },
    {
     "data": {
      "image/png": "[encoded data removed]",
      "text/plain": [
       "<Figure size 432x288 with 1 Axes>"
      ]
     },
     "metadata": {
      "needs_background": "light"
     },
     "output_type": "display_data"
    }
   ],
   "source": [
    "image_index = 7776 # You may select anything up to 60,000\n",
    "print(train_labels[image_index]) \n",
    "plt.imshow(train_images[image_index], cmap='Greys')"
   ]
  },
  {
   "cell_type": "markdown",
   "id": "a8d2388d",
   "metadata": {
    "papermill": {
     "duration": 0.026981,
     "end_time": "2022-08-19T20:10:35.804744",
     "exception": false,
     "start_time": "2022-08-19T20:10:35.777763",
     "status": "completed"
    },
    "tags": []
   },
   "source": [
    "## Filter data to get 3 and 8 out"
   ]
  },
  {
   "cell_type": "code",
   "execution_count": 10,
   "id": "776f7fc7",
   "metadata": {
    "execution": {
     "iopub.execute_input": "2022-08-19T20:10:35.862909Z",
     "iopub.status.busy": "2022-08-19T20:10:35.862354Z",
     "iopub.status.idle": "2022-08-19T20:10:35.879724Z",
     "shell.execute_reply": "2022-08-19T20:10:35.879176Z"
    },
    "papermill": {
     "duration": 0.048227,
     "end_time": "2022-08-19T20:10:35.879824",
     "exception": false,
     "start_time": "2022-08-19T20:10:35.831597",
     "status": "completed"
    },
    "tags": []
   },
   "outputs": [],
   "source": [
    "train_filter = np.where((train_labels == 3 ) | (train_labels == 8))\n",
    "test_filter = np.where((test_labels == 3) | (test_labels == 8))\n",
    "X_train, y_train = train_images[train_filter], train_labels[train_filter]\n",
    "X_test, y_test = test_images[test_filter], test_labels[test_filter]"
   ]
  },
  {
   "cell_type": "markdown",
   "id": "948f0b7e",
   "metadata": {
    "papermill": {
     "duration": 0.026756,
     "end_time": "2022-08-19T20:10:35.933583",
     "exception": false,
     "start_time": "2022-08-19T20:10:35.906827",
     "status": "completed"
    },
    "tags": []
   },
   "source": [
    "We normalize the pizel values in the 0 to 1 range"
   ]
  },
  {
   "cell_type": "code",
   "execution_count": 11,
   "id": "ee4c2166",
   "metadata": {
    "execution": {
     "iopub.execute_input": "2022-08-19T20:10:35.991084Z",
     "iopub.status.busy": "2022-08-19T20:10:35.990531Z",
     "iopub.status.idle": "2022-08-19T20:10:36.031926Z",
     "shell.execute_reply": "2022-08-19T20:10:36.031433Z"
    },
    "papermill": {
     "duration": 0.071403,
     "end_time": "2022-08-19T20:10:36.032034",
     "exception": false,
     "start_time": "2022-08-19T20:10:35.960631",
     "status": "completed"
    },
    "tags": []
   },
   "outputs": [],
   "source": [
    "X_train = X_train/255.\n",
    "X_test = X_test/255."
   ]
  },
  {
   "cell_type": "markdown",
   "id": "ddcf4fab",
   "metadata": {
    "papermill": {
     "duration": 0.027298,
     "end_time": "2022-08-19T20:10:36.086446",
     "exception": false,
     "start_time": "2022-08-19T20:10:36.059148",
     "status": "completed"
    },
    "tags": []
   },
   "source": [
    "And setup the labels as 1 (when the digit is 3) and 0 (when the digit is 8)"
   ]
  },
  {
   "cell_type": "code",
   "execution_count": 12,
   "id": "7dc908f2",
   "metadata": {
    "execution": {
     "iopub.execute_input": "2022-08-19T20:10:36.143475Z",
     "iopub.status.busy": "2022-08-19T20:10:36.142928Z",
     "iopub.status.idle": "2022-08-19T20:10:36.154660Z",
     "shell.execute_reply": "2022-08-19T20:10:36.154216Z"
    },
    "papermill": {
     "duration": 0.041521,
     "end_time": "2022-08-19T20:10:36.154756",
     "exception": false,
     "start_time": "2022-08-19T20:10:36.113235",
     "status": "completed"
    },
    "tags": []
   },
   "outputs": [],
   "source": [
    "y_train = 1*(y_train==3)\n",
    "y_test = 1*(y_test==3)"
   ]
  },
  {
   "cell_type": "code",
   "execution_count": 13,
   "id": "01e4e969",
   "metadata": {
    "execution": {
     "iopub.execute_input": "2022-08-19T20:10:36.211728Z",
     "iopub.status.busy": "2022-08-19T20:10:36.211168Z",
     "iopub.status.idle": "2022-08-19T20:10:36.223643Z",
     "shell.execute_reply": "2022-08-19T20:10:36.223117Z"
    },
    "papermill": {
     "duration": 0.042085,
     "end_time": "2022-08-19T20:10:36.223739",
     "exception": false,
     "start_time": "2022-08-19T20:10:36.181654",
     "status": "completed"
    },
    "tags": []
   },
   "outputs": [
    {
     "data": {
      "text/plain": [
       "((11982, 28, 28), (1984, 28, 28))"
      ]
     },
     "execution_count": 13,
     "metadata": {},
     "output_type": "execute_result"
    }
   ],
   "source": [
    "X_train.shape, X_test.shape"
   ]
  },
  {
   "cell_type": "markdown",
   "id": "5ccf3f85",
   "metadata": {
    "papermill": {
     "duration": 0.027064,
     "end_time": "2022-08-19T20:10:36.277753",
     "exception": false,
     "start_time": "2022-08-19T20:10:36.250689",
     "status": "completed"
    },
    "tags": []
   },
   "source": [
    "We reshape the data to flatten the image pixels into a set of features or co-variates:"
   ]
  },
  {
   "cell_type": "code",
   "execution_count": 14,
   "id": "5286a4a3",
   "metadata": {
    "execution": {
     "iopub.execute_input": "2022-08-19T20:10:36.335451Z",
     "iopub.status.busy": "2022-08-19T20:10:36.334913Z",
     "iopub.status.idle": "2022-08-19T20:10:36.348091Z",
     "shell.execute_reply": "2022-08-19T20:10:36.347551Z"
    },
    "papermill": {
     "duration": 0.043121,
     "end_time": "2022-08-19T20:10:36.348189",
     "exception": false,
     "start_time": "2022-08-19T20:10:36.305068",
     "status": "completed"
    },
    "tags": []
   },
   "outputs": [
    {
     "data": {
      "text/plain": [
       "((11982, 784), (1984, 784))"
      ]
     },
     "execution_count": 14,
     "metadata": {},
     "output_type": "execute_result"
    }
   ],
   "source": [
    "X_train = X_train.reshape(X_train.shape[0], -1)\n",
    "X_test = X_test.reshape(X_test.shape[0], -1)\n",
    "X_train.shape, X_test.shape"
   ]
  },
  {
   "cell_type": "code",
   "execution_count": 15,
   "id": "73c5f88a",
   "metadata": {
    "execution": {
     "iopub.execute_input": "2022-08-19T20:10:36.406495Z",
     "iopub.status.busy": "2022-08-19T20:10:36.405933Z",
     "iopub.status.idle": "2022-08-19T20:10:36.423590Z",
     "shell.execute_reply": "2022-08-19T20:10:36.423149Z"
    },
    "papermill": {
     "duration": 0.048103,
     "end_time": "2022-08-19T20:10:36.423684",
     "exception": false,
     "start_time": "2022-08-19T20:10:36.375581",
     "status": "completed"
    },
    "tags": []
   },
   "outputs": [],
   "source": [
    "#Impoting functions from 'Kudzu'\n",
    "from kudzu.model import Model\n",
    "from kudzu.train import Learner\n",
    "from kudzu.optim import GD\n",
    "from kudzu.data import Data, Sampler,Dataloader\n",
    "\n",
    "from kudzu.callbacks import AccCallback\n",
    "from kudzu.callbacks import ClfCallback\n",
    "\n",
    "from kudzu.loss import MSE\n",
    "\n",
    "from kudzu.layer import Sigmoid,Relu\n",
    "from kudzu.layer import Affine"
   ]
  },
  {
   "cell_type": "markdown",
   "id": "bc01172a",
   "metadata": {
    "papermill": {
     "duration": 0.0272,
     "end_time": "2022-08-19T20:10:36.478540",
     "exception": false,
     "start_time": "2022-08-19T20:10:36.451340",
     "status": "completed"
    },
    "tags": []
   },
   "source": [
    "### Let us create a `Config` class, to store important parameters. \n",
    "This class essentially plays the role of a dictionary."
   ]
  },
  {
   "cell_type": "code",
   "execution_count": 16,
   "id": "978281aa",
   "metadata": {
    "execution": {
     "iopub.execute_input": "2022-08-19T20:10:36.536791Z",
     "iopub.status.busy": "2022-08-19T20:10:36.536216Z",
     "iopub.status.idle": "2022-08-19T20:10:36.547995Z",
     "shell.execute_reply": "2022-08-19T20:10:36.547534Z"
    },
    "papermill": {
     "duration": 0.042256,
     "end_time": "2022-08-19T20:10:36.548093",
     "exception": false,
     "start_time": "2022-08-19T20:10:36.505837",
     "status": "completed"
    },
    "tags": []
   },
   "outputs": [],
   "source": [
    "class Config:\n",
    "    pass\n",
    "config = Config()\n",
    "config.lr = 0.001\n",
    "config.num_epochs = 250\n",
    "config.bs = 50"
   ]
  },
  {
   "cell_type": "markdown",
   "id": "1385fa59",
   "metadata": {
    "papermill": {
     "duration": 0.027124,
     "end_time": "2022-08-19T20:10:36.602630",
     "exception": false,
     "start_time": "2022-08-19T20:10:36.575506",
     "status": "completed"
    },
    "tags": []
   },
   "source": [
    "### Running Models with the Training data\n",
    "Details about the network layers:\n",
    "- A first affine layer has 784 inputs and does 100 affine transforms. These are followed by a Relu\n",
    "- A second affine layer has 100 inputs from the 100 activations of the past layer, and does 100 affine transforms. These are followed by a Relu\n",
    "- A third affine layer has 100 activations and does 2 affine transformations to create an embedding for visualization. There is no non-linearity here.\n",
    "- A final \"logistic regression\" which has an affine transform from 2 inputs to 1 output, which is squeezed through a sigmoid.\n"
   ]
  },
  {
   "cell_type": "code",
   "execution_count": 17,
   "id": "2b9c66db",
   "metadata": {
    "execution": {
     "iopub.execute_input": "2022-08-19T20:10:36.660904Z",
     "iopub.status.busy": "2022-08-19T20:10:36.660355Z",
     "iopub.status.idle": "2022-08-19T20:10:36.672024Z",
     "shell.execute_reply": "2022-08-19T20:10:36.672472Z"
    },
    "papermill": {
     "duration": 0.042593,
     "end_time": "2022-08-19T20:10:36.672582",
     "exception": false,
     "start_time": "2022-08-19T20:10:36.629989",
     "status": "completed"
    },
    "tags": []
   },
   "outputs": [],
   "source": [
    "data = Data(X_train, y_train.reshape(-1,1))\n",
    "sampler = Sampler(data, config.bs, shuffle=True)\n",
    "\n",
    "dl = Dataloader(data, sampler)\n",
    "\n",
    "opt = GD(config.lr)\n",
    "loss = MSE()"
   ]
  },
  {
   "cell_type": "code",
   "execution_count": 18,
   "id": "b275e4c2",
   "metadata": {
    "execution": {
     "iopub.execute_input": "2022-08-19T20:10:36.730453Z",
     "iopub.status.busy": "2022-08-19T20:10:36.729889Z",
     "iopub.status.idle": "2022-08-19T20:10:36.741207Z",
     "shell.execute_reply": "2022-08-19T20:10:36.740763Z"
    },
    "papermill": {
     "duration": 0.041297,
     "end_time": "2022-08-19T20:10:36.741300",
     "exception": false,
     "start_time": "2022-08-19T20:10:36.700003",
     "status": "completed"
    },
    "tags": []
   },
   "outputs": [],
   "source": [
    "training_data_x = X_train\n",
    "testing_data_x = X_test\n",
    "training_data_y = y_train.reshape(-1,1)\n",
    "testing_data_y = y_test.reshape(-1,1)"
   ]
  },
  {
   "cell_type": "code",
   "execution_count": 19,
   "id": "76951160",
   "metadata": {
    "execution": {
     "iopub.execute_input": "2022-08-19T20:10:36.799336Z",
     "iopub.status.busy": "2022-08-19T20:10:36.798777Z",
     "iopub.status.idle": "2022-08-19T20:10:36.815069Z",
     "shell.execute_reply": "2022-08-19T20:10:36.814615Z"
    },
    "papermill": {
     "duration": 0.046631,
     "end_time": "2022-08-19T20:10:36.815164",
     "exception": false,
     "start_time": "2022-08-19T20:10:36.768533",
     "status": "completed"
    },
    "tags": []
   },
   "outputs": [
    {
     "name": "stdout",
     "output_type": "stream",
     "text": [
      "xavier\n",
      "xavier\n",
      "xavier\n",
      "xavier\n",
      "xavier\n"
     ]
    }
   ],
   "source": [
    "layers = [Affine(\"first\", 784, 100), Relu(\"first\"), Affine(\"second\", 100, 100), Relu(\"second\"), Affine(\"third\", 100, 2), Affine(\"last\", 2, 1), Sigmoid(\"last\")]\n",
    "model_nn = Model(layers)\n",
    "model_lr = Model([Affine(\"logits\", 784, 1), Sigmoid(\"sigmoid\")])"
   ]
  },
  {
   "cell_type": "code",
   "execution_count": 20,
   "id": "6eede77a",
   "metadata": {
    "execution": {
     "iopub.execute_input": "2022-08-19T20:10:36.874124Z",
     "iopub.status.busy": "2022-08-19T20:10:36.873543Z",
     "iopub.status.idle": "2022-08-19T20:10:36.885462Z",
     "shell.execute_reply": "2022-08-19T20:10:36.885013Z"
    },
    "papermill": {
     "duration": 0.042672,
     "end_time": "2022-08-19T20:10:36.885557",
     "exception": false,
     "start_time": "2022-08-19T20:10:36.842885",
     "status": "completed"
    },
    "tags": []
   },
   "outputs": [],
   "source": [
    "nn_learner = Learner(loss, model_nn, opt, config.num_epochs)\n",
    "acc_nn = ClfCallback(nn_learner, config.bs, training_data_x , testing_data_x, training_data_y, testing_data_y)\n",
    "nn_learner.set_callbacks([acc_nn])"
   ]
  },
  {
   "cell_type": "code",
   "execution_count": 21,
   "id": "877b6cc7",
   "metadata": {
    "execution": {
     "iopub.execute_input": "2022-08-19T20:10:36.944247Z",
     "iopub.status.busy": "2022-08-19T20:10:36.943694Z",
     "iopub.status.idle": "2022-08-19T20:10:36.955581Z",
     "shell.execute_reply": "2022-08-19T20:10:36.955138Z"
    },
    "papermill": {
     "duration": 0.042478,
     "end_time": "2022-08-19T20:10:36.955676",
     "exception": false,
     "start_time": "2022-08-19T20:10:36.913198",
     "status": "completed"
    },
    "tags": []
   },
   "outputs": [],
   "source": [
    "lr_learner = Learner(loss, model_lr, opt, config.num_epochs)\n",
    "acc_lr = ClfCallback(lr_learner, config.bs, training_data_x , testing_data_x, training_data_y, testing_data_y)\n",
    "lr_learner.set_callbacks([acc_lr])"
   ]
  },
  {
   "cell_type": "code",
   "execution_count": 22,
   "id": "d9b133c3",
   "metadata": {
    "execution": {
     "iopub.execute_input": "2022-08-19T20:10:37.013616Z",
     "iopub.status.busy": "2022-08-19T20:10:37.013078Z",
     "iopub.status.idle": "2022-08-19T20:13:31.793593Z",
     "shell.execute_reply": "2022-08-19T20:13:31.794099Z"
    },
    "papermill": {
     "duration": 174.810934,
     "end_time": "2022-08-19T20:13:31.794232",
     "exception": false,
     "start_time": "2022-08-19T20:10:36.983298",
     "status": "completed"
    },
    "tags": []
   },
   "outputs": [
    {
     "name": "stdout",
     "output_type": "stream",
     "text": [
      "Epoch 0, Loss 0.2475\n",
      "Training Accuracy: 0.5770, Testing Accuracy: 0.5907\n",
      "\n"
     ]
    },
    {
     "name": "stdout",
     "output_type": "stream",
     "text": [
      "Epoch 10, Loss 0.2351\n",
      "Training Accuracy: 0.8158, Testing Accuracy: 0.8367\n",
      "\n"
     ]
    },
    {
     "name": "stdout",
     "output_type": "stream",
     "text": [
      "Epoch 20, Loss 0.1755\n",
      "Training Accuracy: 0.8788, Testing Accuracy: 0.8931\n",
      "\n"
     ]
    },
    {
     "name": "stdout",
     "output_type": "stream",
     "text": [
      "Epoch 30, Loss 0.0906\n",
      "Training Accuracy: 0.9109, Testing Accuracy: 0.9204\n",
      "\n"
     ]
    },
    {
     "name": "stdout",
     "output_type": "stream",
     "text": [
      "Epoch 40, Loss 0.061\n",
      "Training Accuracy: 0.9334, Testing Accuracy: 0.9456\n",
      "\n"
     ]
    },
    {
     "name": "stdout",
     "output_type": "stream",
     "text": [
      "Epoch 50, Loss 0.0485\n",
      "Training Accuracy: 0.9464, Testing Accuracy: 0.9551\n",
      "\n"
     ]
    },
    {
     "name": "stdout",
     "output_type": "stream",
     "text": [
      "Epoch 60, Loss 0.0418\n",
      "Training Accuracy: 0.9528, Testing Accuracy: 0.9602\n",
      "\n"
     ]
    },
    {
     "name": "stdout",
     "output_type": "stream",
     "text": [
      "Epoch 70, Loss 0.0377\n",
      "Training Accuracy: 0.9567, Testing Accuracy: 0.9627\n",
      "\n"
     ]
    },
    {
     "name": "stdout",
     "output_type": "stream",
     "text": [
      "Epoch 80, Loss 0.0349\n",
      "Training Accuracy: 0.9597, Testing Accuracy: 0.9632\n",
      "\n"
     ]
    },
    {
     "name": "stdout",
     "output_type": "stream",
     "text": [
      "Epoch 90, Loss 0.0328\n",
      "Training Accuracy: 0.9619, Testing Accuracy: 0.9657\n",
      "\n"
     ]
    },
    {
     "name": "stdout",
     "output_type": "stream",
     "text": [
      "Epoch 100, Loss 0.0311\n",
      "Training Accuracy: 0.9638, Testing Accuracy: 0.9667\n",
      "\n"
     ]
    },
    {
     "name": "stdout",
     "output_type": "stream",
     "text": [
      "Epoch 110, Loss 0.0297\n",
      "Training Accuracy: 0.9659, Testing Accuracy: 0.9682\n",
      "\n"
     ]
    },
    {
     "name": "stdout",
     "output_type": "stream",
     "text": [
      "Epoch 120, Loss 0.0286\n",
      "Training Accuracy: 0.9671, Testing Accuracy: 0.9682\n",
      "\n"
     ]
    },
    {
     "name": "stdout",
     "output_type": "stream",
     "text": [
      "Epoch 130, Loss 0.0276\n",
      "Training Accuracy: 0.9680, Testing Accuracy: 0.9682\n",
      "\n"
     ]
    },
    {
     "name": "stdout",
     "output_type": "stream",
     "text": [
      "Epoch 140, Loss 0.0267\n",
      "Training Accuracy: 0.9690, Testing Accuracy: 0.9693\n",
      "\n"
     ]
    },
    {
     "name": "stdout",
     "output_type": "stream",
     "text": [
      "Epoch 150, Loss 0.026\n",
      "Training Accuracy: 0.9700, Testing Accuracy: 0.9682\n",
      "\n"
     ]
    },
    {
     "name": "stdout",
     "output_type": "stream",
     "text": [
      "Epoch 160, Loss 0.0253\n",
      "Training Accuracy: 0.9705, Testing Accuracy: 0.9672\n",
      "\n"
     ]
    },
    {
     "name": "stdout",
     "output_type": "stream",
     "text": [
      "Epoch 170, Loss 0.0247\n",
      "Training Accuracy: 0.9710, Testing Accuracy: 0.9677\n",
      "\n"
     ]
    },
    {
     "name": "stdout",
     "output_type": "stream",
     "text": [
      "Epoch 180, Loss 0.0241\n",
      "Training Accuracy: 0.9716, Testing Accuracy: 0.9667\n",
      "\n"
     ]
    },
    {
     "name": "stdout",
     "output_type": "stream",
     "text": [
      "Epoch 190, Loss 0.0235\n",
      "Training Accuracy: 0.9725, Testing Accuracy: 0.9672\n",
      "\n"
     ]
    },
    {
     "name": "stdout",
     "output_type": "stream",
     "text": [
      "Epoch 200, Loss 0.023\n",
      "Training Accuracy: 0.9734, Testing Accuracy: 0.9682\n",
      "\n"
     ]
    },
    {
     "name": "stdout",
     "output_type": "stream",
     "text": [
      "Epoch 210, Loss 0.0226\n",
      "Training Accuracy: 0.9740, Testing Accuracy: 0.9688\n",
      "\n"
     ]
    },
    {
     "name": "stdout",
     "output_type": "stream",
     "text": [
      "Epoch 220, Loss 0.0221\n",
      "Training Accuracy: 0.9743, Testing Accuracy: 0.9693\n",
      "\n"
     ]
    },
    {
     "name": "stdout",
     "output_type": "stream",
     "text": [
      "Epoch 230, Loss 0.0217\n",
      "Training Accuracy: 0.9750, Testing Accuracy: 0.9693\n",
      "\n"
     ]
    },
    {
     "name": "stdout",
     "output_type": "stream",
     "text": [
      "Epoch 240, Loss 0.0213\n",
      "Training Accuracy: 0.9755, Testing Accuracy: 0.9713\n",
      "\n"
     ]
    },
    {
     "data": {
      "text/plain": [
       "0.0017571310228757134"
      ]
     },
     "execution_count": 22,
     "metadata": {},
     "output_type": "execute_result"
    }
   ],
   "source": [
    "nn_learner.train_loop(dl)"
   ]
  },
  {
   "cell_type": "code",
   "execution_count": 23,
   "id": "e0163366",
   "metadata": {
    "execution": {
     "iopub.execute_input": "2022-08-19T20:13:31.879061Z",
     "iopub.status.busy": "2022-08-19T20:13:31.878489Z",
     "iopub.status.idle": "2022-08-19T20:13:43.852285Z",
     "shell.execute_reply": "2022-08-19T20:13:43.853064Z"
    },
    "papermill": {
     "duration": 12.023805,
     "end_time": "2022-08-19T20:13:43.853196",
     "exception": false,
     "start_time": "2022-08-19T20:13:31.829391",
     "status": "completed"
    },
    "tags": []
   },
   "outputs": [
    {
     "name": "stdout",
     "output_type": "stream",
     "text": [
      "Epoch 0, Loss 0.2503\n",
      "Training Accuracy: 0.6577, Testing Accuracy: 0.6663\n",
      "\n"
     ]
    },
    {
     "name": "stdout",
     "output_type": "stream",
     "text": [
      "Epoch 10, Loss 0.1029\n",
      "Training Accuracy: 0.9109, Testing Accuracy: 0.9148\n",
      "\n"
     ]
    },
    {
     "name": "stdout",
     "output_type": "stream",
     "text": [
      "Epoch 20, Loss 0.0791\n",
      "Training Accuracy: 0.9283, Testing Accuracy: 0.9315\n",
      "\n"
     ]
    },
    {
     "name": "stdout",
     "output_type": "stream",
     "text": [
      "Epoch 30, Loss 0.0682\n",
      "Training Accuracy: 0.9362, Testing Accuracy: 0.9410\n",
      "\n"
     ]
    },
    {
     "name": "stdout",
     "output_type": "stream",
     "text": [
      "Epoch 40, Loss 0.0616\n",
      "Training Accuracy: 0.9413, Testing Accuracy: 0.9531\n",
      "\n"
     ]
    },
    {
     "name": "stdout",
     "output_type": "stream",
     "text": [
      "Epoch 50, Loss 0.0571\n",
      "Training Accuracy: 0.9448, Testing Accuracy: 0.9561\n",
      "\n"
     ]
    },
    {
     "name": "stdout",
     "output_type": "stream",
     "text": [
      "Epoch 60, Loss 0.0539\n",
      "Training Accuracy: 0.9479, Testing Accuracy: 0.9582\n",
      "\n"
     ]
    },
    {
     "name": "stdout",
     "output_type": "stream",
     "text": [
      "Epoch 70, Loss 0.0513\n",
      "Training Accuracy: 0.9495, Testing Accuracy: 0.9597\n",
      "\n"
     ]
    },
    {
     "name": "stdout",
     "output_type": "stream",
     "text": [
      "Epoch 80, Loss 0.0493\n",
      "Training Accuracy: 0.9511, Testing Accuracy: 0.9607\n",
      "\n"
     ]
    },
    {
     "name": "stdout",
     "output_type": "stream",
     "text": [
      "Epoch 90, Loss 0.0476\n",
      "Training Accuracy: 0.9524, Testing Accuracy: 0.9622\n",
      "\n"
     ]
    },
    {
     "name": "stdout",
     "output_type": "stream",
     "text": [
      "Epoch 100, Loss 0.0462\n",
      "Training Accuracy: 0.9533, Testing Accuracy: 0.9622\n",
      "\n"
     ]
    },
    {
     "name": "stdout",
     "output_type": "stream",
     "text": [
      "Epoch 110, Loss 0.0449\n",
      "Training Accuracy: 0.9542, Testing Accuracy: 0.9617\n",
      "\n"
     ]
    },
    {
     "name": "stdout",
     "output_type": "stream",
     "text": [
      "Epoch 120, Loss 0.0439\n",
      "Training Accuracy: 0.9548, Testing Accuracy: 0.9627\n",
      "\n"
     ]
    },
    {
     "name": "stdout",
     "output_type": "stream",
     "text": [
      "Epoch 130, Loss 0.043\n",
      "Training Accuracy: 0.9554, Testing Accuracy: 0.9642\n",
      "\n"
     ]
    },
    {
     "name": "stdout",
     "output_type": "stream",
     "text": [
      "Epoch 140, Loss 0.0421\n",
      "Training Accuracy: 0.9558, Testing Accuracy: 0.9662\n",
      "\n"
     ]
    },
    {
     "name": "stdout",
     "output_type": "stream",
     "text": [
      "Epoch 150, Loss 0.0414\n",
      "Training Accuracy: 0.9564, Testing Accuracy: 0.9662\n",
      "\n"
     ]
    },
    {
     "name": "stdout",
     "output_type": "stream",
     "text": [
      "Epoch 160, Loss 0.0407\n",
      "Training Accuracy: 0.9569, Testing Accuracy: 0.9667\n",
      "\n"
     ]
    },
    {
     "name": "stdout",
     "output_type": "stream",
     "text": [
      "Epoch 170, Loss 0.0401\n",
      "Training Accuracy: 0.9575, Testing Accuracy: 0.9667\n",
      "\n"
     ]
    },
    {
     "name": "stdout",
     "output_type": "stream",
     "text": [
      "Epoch 180, Loss 0.0395\n",
      "Training Accuracy: 0.9584, Testing Accuracy: 0.9662\n",
      "\n"
     ]
    },
    {
     "name": "stdout",
     "output_type": "stream",
     "text": [
      "Epoch 190, Loss 0.039\n",
      "Training Accuracy: 0.9587, Testing Accuracy: 0.9662\n",
      "\n"
     ]
    },
    {
     "name": "stdout",
     "output_type": "stream",
     "text": [
      "Epoch 200, Loss 0.0385\n",
      "Training Accuracy: 0.9589, Testing Accuracy: 0.9662\n",
      "\n"
     ]
    },
    {
     "name": "stdout",
     "output_type": "stream",
     "text": [
      "Epoch 210, Loss 0.0381\n",
      "Training Accuracy: 0.9591, Testing Accuracy: 0.9662\n",
      "\n"
     ]
    },
    {
     "name": "stdout",
     "output_type": "stream",
     "text": [
      "Epoch 220, Loss 0.0377\n",
      "Training Accuracy: 0.9594, Testing Accuracy: 0.9662\n",
      "\n"
     ]
    },
    {
     "name": "stdout",
     "output_type": "stream",
     "text": [
      "Epoch 230, Loss 0.0373\n",
      "Training Accuracy: 0.9599, Testing Accuracy: 0.9662\n",
      "\n"
     ]
    },
    {
     "name": "stdout",
     "output_type": "stream",
     "text": [
      "Epoch 240, Loss 0.0369\n",
      "Training Accuracy: 0.9603, Testing Accuracy: 0.9662\n",
      "\n"
     ]
    },
    {
     "data": {
      "text/plain": [
       "0.03072860589620556"
      ]
     },
     "execution_count": 23,
     "metadata": {},
     "output_type": "execute_result"
    }
   ],
   "source": [
    "lr_learner.train_loop(dl)"
   ]
  },
  {
   "cell_type": "code",
   "execution_count": 24,
   "id": "ca410940",
   "metadata": {
    "execution": {
     "iopub.execute_input": "2022-08-19T20:13:43.944568Z",
     "iopub.status.busy": "2022-08-19T20:13:43.943996Z",
     "iopub.status.idle": "2022-08-19T20:13:44.179408Z",
     "shell.execute_reply": "2022-08-19T20:13:44.178923Z"
    },
    "papermill": {
     "duration": 0.283978,
     "end_time": "2022-08-19T20:13:44.179515",
     "exception": false,
     "start_time": "2022-08-19T20:13:43.895537",
     "status": "completed"
    },
    "tags": []
   },
   "outputs": [
    {
     "data": {
      "text/plain": [
       "<matplotlib.legend.Legend at 0x7fd48896be80>"
      ]
     },
     "execution_count": 24,
     "metadata": {},
     "output_type": "execute_result"
    },
    {
     "data": {
      "image/png": "[encoded data removed]",
      "text/plain": [
       "<Figure size 1080x720 with 1 Axes>"
      ]
     },
     "metadata": {
      "needs_background": "light"
     },
     "output_type": "display_data"
    }
   ],
   "source": [
    "#comparing the results of NN and LR\n",
    "plt.figure(figsize=(15,10))\n",
    "\n",
    "# Neural Network plots\n",
    "plt.plot(acc_nn.accuracies, 'r-', label = \"Training Accuracies - NN\")\n",
    "plt.plot(acc_nn.test_accuracies, 'g-', label = \"Testing Accuracies - NN\")\n",
    "\n",
    "# Logistic Regression plots\n",
    "plt.plot(acc_lr.accuracies, 'k-', label = \"Training Accuracies - LR\")\n",
    "plt.plot(acc_lr.test_accuracies, 'b-', label = \"Testing Accuracies - LR\")\n",
    "plt.legend()"
   ]
  },
  {
   "cell_type": "markdown",
   "id": "80dfb35c",
   "metadata": {
    "papermill": {
     "duration": 0.042797,
     "end_time": "2022-08-19T20:13:44.265305",
     "exception": false,
     "start_time": "2022-08-19T20:13:44.222508",
     "status": "completed"
    },
    "tags": []
   },
   "source": [
    "#### Plotting the outputs of this layer of the NN.\n"
   ]
  },
  {
   "cell_type": "code",
   "execution_count": 25,
   "id": "45eb2ff5",
   "metadata": {
    "execution": {
     "iopub.execute_input": "2022-08-19T20:13:44.355033Z",
     "iopub.status.busy": "2022-08-19T20:13:44.354463Z",
     "iopub.status.idle": "2022-08-19T20:13:44.391512Z",
     "shell.execute_reply": "2022-08-19T20:13:44.391053Z"
    },
    "papermill": {
     "duration": 0.08352,
     "end_time": "2022-08-19T20:13:44.391624",
     "exception": false,
     "start_time": "2022-08-19T20:13:44.308104",
     "status": "completed"
    },
    "tags": []
   },
   "outputs": [],
   "source": [
    "new_model = Model(layers[:-2])\n",
    "testing_plot = new_model(testing_data_x)"
   ]
  },
  {
   "cell_type": "code",
   "execution_count": 26,
   "id": "4c0a5485",
   "metadata": {
    "execution": {
     "iopub.execute_input": "2022-08-19T20:13:44.489096Z",
     "iopub.status.busy": "2022-08-19T20:13:44.486838Z",
     "iopub.status.idle": "2022-08-19T20:13:44.686617Z",
     "shell.execute_reply": "2022-08-19T20:13:44.687036Z"
    },
    "papermill": {
     "duration": 0.251509,
     "end_time": "2022-08-19T20:13:44.687169",
     "exception": false,
     "start_time": "2022-08-19T20:13:44.435660",
     "status": "completed"
    },
    "tags": []
   },
   "outputs": [
    {
     "data": {
      "text/plain": [
       "Text(0.5, 1.0, 'Outputs')"
      ]
     },
     "execution_count": 26,
     "metadata": {},
     "output_type": "execute_result"
    },
    {
     "data": {
      "image/png": "[encoded data removed]",
      "text/plain": [
       "<Figure size 576x504 with 1 Axes>"
      ]
     },
     "metadata": {
      "needs_background": "light"
     },
     "output_type": "display_data"
    }
   ],
   "source": [
    "# Plotting the scatter plot of points and color coding by class\n",
    "plt.figure(figsize=(8,7))\n",
    "plt.scatter(testing_plot[:,0], testing_plot[:,1], alpha = 0.1, c = y_test.ravel());\n",
    "plt.title('Outputs')"
   ]
  },
  {
   "cell_type": "markdown",
   "id": "a74fcf8f",
   "metadata": {
    "papermill": {
     "duration": 0.045031,
     "end_time": "2022-08-19T20:13:44.798344",
     "exception": false,
     "start_time": "2022-08-19T20:13:44.753313",
     "status": "completed"
    },
    "tags": []
   },
   "source": [
    "Probability contours"
   ]
  },
  {
   "cell_type": "code",
   "execution_count": 27,
   "id": "d0afc8e3",
   "metadata": {
    "execution": {
     "iopub.execute_input": "2022-08-19T20:13:44.892368Z",
     "iopub.status.busy": "2022-08-19T20:13:44.891804Z",
     "iopub.status.idle": "2022-08-19T20:13:44.904989Z",
     "shell.execute_reply": "2022-08-19T20:13:44.904247Z"
    },
    "papermill": {
     "duration": 0.061682,
     "end_time": "2022-08-19T20:13:44.905098",
     "exception": false,
     "start_time": "2022-08-19T20:13:44.843416",
     "status": "completed"
    },
    "tags": []
   },
   "outputs": [],
   "source": [
    "model_prob = Model(layers[-2:]) "
   ]
  },
  {
   "cell_type": "code",
   "execution_count": 28,
   "id": "9b96e238",
   "metadata": {
    "execution": {
     "iopub.execute_input": "2022-08-19T20:13:44.999497Z",
     "iopub.status.busy": "2022-08-19T20:13:44.998928Z",
     "iopub.status.idle": "2022-08-19T20:13:45.013333Z",
     "shell.execute_reply": "2022-08-19T20:13:45.012373Z"
    },
    "papermill": {
     "duration": 0.06323,
     "end_time": "2022-08-19T20:13:45.013444",
     "exception": false,
     "start_time": "2022-08-19T20:13:44.950214",
     "status": "completed"
    },
    "tags": []
   },
   "outputs": [],
   "source": [
    "#creating the x and y ranges according to the above generated plot.\n",
    "x_range = np.linspace(-4, 1, 100) \n",
    "y_range = np.linspace(-6, 6, 100) \n",
    "x_grid, y_grid = np.meshgrid(x_range, y_range) # x_grid and y_grig are of size 100 X 100\n",
    "\n",
    "# converting x_grid and y_grid to continuous arrays\n",
    "x_gridflat = np.ravel(x_grid)\n",
    "y_gridflat = np.ravel(y_grid)\n",
    "\n",
    "# The last layer of the current model takes two columns as input. Hence transpose of np.vstack() is required.\n",
    "X = np.vstack((x_gridflat, y_gridflat)).T\n",
    "\n",
    "prob_contour = model_prob(X).reshape(100,100) "
   ]
  },
  {
   "cell_type": "code",
   "execution_count": 29,
   "id": "da72499a",
   "metadata": {
    "execution": {
     "iopub.execute_input": "2022-08-19T20:13:45.114082Z",
     "iopub.status.busy": "2022-08-19T20:13:45.111070Z",
     "iopub.status.idle": "2022-08-19T20:13:45.356386Z",
     "shell.execute_reply": "2022-08-19T20:13:45.355912Z"
    },
    "papermill": {
     "duration": 0.297065,
     "end_time": "2022-08-19T20:13:45.356495",
     "exception": false,
     "start_time": "2022-08-19T20:13:45.059430",
     "status": "completed"
    },
    "tags": []
   },
   "outputs": [
    {
     "data": {
      "image/png": "[encoded data removed]",
      "text/plain": [
       "<Figure size 720x648 with 1 Axes>"
      ]
     },
     "metadata": {
      "needs_background": "light"
     },
     "output_type": "display_data"
    }
   ],
   "source": [
    "plt.figure(figsize=(10,9))\n",
    "plt.scatter(testing_plot[:,0], testing_plot[:,1], alpha = 0.1, c = y_test.ravel())\n",
    "contours = plt.contour(x_grid,y_grid,prob_contour)\n",
    "plt.title('Probability Contours')\n",
    "plt.clabel(contours, inline = True );"
   ]
  },
  {
   "cell_type": "code",
   "execution_count": null,
   "id": "e81b4ac7",
   "metadata": {
    "papermill": {
     "duration": 0.047019,
     "end_time": "2022-08-19T20:13:45.451084",
     "exception": false,
     "start_time": "2022-08-19T20:13:45.404065",
     "status": "completed"
    },
    "tags": []
   },
   "outputs": [],
   "source": []
  }
 ],
 "metadata": {
  "kernelspec": {
   "display_name": "Python 3",
   "language": "python",
   "name": "python3"
  },
  "language_info": {
   "codemirror_mode": {
    "name": "ipython",
    "version": 3
   },
   "file_extension": ".py",
   "mimetype": "text/x-python",
   "name": "python",
   "nbconvert_exporter": "python",
   "pygments_lexer": "ipython3",
   "version": "3.6.15"
  },
  "papermill": {
   "default_parameters": {},
   "duration": 195.150653,
   "end_time": "2022-08-19T20:13:45.817058",
   "environment_variables": {},
   "exception": null,
   "input_path": "2020-08-11-part2.ipynb",
   "output_path": "2020-08-11-part2.ipynb",
   "parameters": {},
   "start_time": "2022-08-19T20:10:30.666405",
   "version": "2.3.3"
  }
 },
 "nbformat": 4,
 "nbformat_minor": 5
}