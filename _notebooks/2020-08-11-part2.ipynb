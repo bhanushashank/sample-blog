{
 "cells": [
  {
   "cell_type": "markdown",
   "id": "98380cd3",
   "metadata": {
    "papermill": {
     "duration": 0.028667,
     "end_time": "2022-04-18T10:10:40.734773",
     "exception": false,
     "start_time": "2022-04-18T10:10:40.706106",
     "status": "completed"
    },
    "tags": []
   },
   "source": [
    "# Distinguish Your Own Digits (DYOD)"
   ]
  },
  {
   "cell_type": "markdown",
   "id": "ef31240d",
   "metadata": {
    "papermill": {
     "duration": 0.025221,
     "end_time": "2022-04-18T10:10:40.784803",
     "exception": false,
     "start_time": "2022-04-18T10:10:40.759582",
     "status": "completed"
    },
    "tags": []
   },
   "source": [
    "You are going to write a classifier that distinguishes between the number 3 and number 8."
   ]
  },
  {
   "cell_type": "code",
   "execution_count": 1,
   "id": "b15c8646",
   "metadata": {
    "execution": {
     "iopub.execute_input": "2022-04-18T10:10:40.843321Z",
     "iopub.status.busy": "2022-04-18T10:10:40.842780Z",
     "iopub.status.idle": "2022-04-18T10:10:40.853188Z",
     "shell.execute_reply": "2022-04-18T10:10:40.852729Z"
    },
    "papermill": {
     "duration": 0.044764,
     "end_time": "2022-04-18T10:10:40.853322",
     "exception": false,
     "start_time": "2022-04-18T10:10:40.808558",
     "status": "completed"
    },
    "tags": []
   },
   "outputs": [],
   "source": [
    "%load_ext autoreload\n",
    "%autoreload 2"
   ]
  },
  {
   "cell_type": "code",
   "execution_count": 2,
   "id": "22ef38dc",
   "metadata": {
    "execution": {
     "iopub.execute_input": "2022-04-18T10:10:40.905273Z",
     "iopub.status.busy": "2022-04-18T10:10:40.904719Z",
     "iopub.status.idle": "2022-04-18T10:10:41.436205Z",
     "shell.execute_reply": "2022-04-18T10:10:41.436683Z"
    },
    "papermill": {
     "duration": 0.559499,
     "end_time": "2022-04-18T10:10:41.436845",
     "exception": false,
     "start_time": "2022-04-18T10:10:40.877346",
     "status": "completed"
    },
    "tags": []
   },
   "outputs": [],
   "source": [
    "%matplotlib inline\n",
    "import numpy as np\n",
    "import matplotlib.pyplot as plt\n",
    "import pandas as pd"
   ]
  },
  {
   "cell_type": "markdown",
   "id": "ba036198",
   "metadata": {
    "papermill": {
     "duration": 0.024067,
     "end_time": "2022-04-18T10:10:41.485261",
     "exception": false,
     "start_time": "2022-04-18T10:10:41.461194",
     "status": "completed"
    },
    "tags": []
   },
   "source": [
    "From the command line run `pip install mnist`. This is a library that will help you bring down the mnist dataset. If you run this from a notebook, you need to put  `!pip install mnist` in a cell by itself."
   ]
  },
  {
   "cell_type": "code",
   "execution_count": 3,
   "id": "bb6ad8a1",
   "metadata": {
    "execution": {
     "iopub.execute_input": "2022-04-18T10:10:41.553299Z",
     "iopub.status.busy": "2022-04-18T10:10:41.541947Z",
     "iopub.status.idle": "2022-04-18T10:10:43.388397Z",
     "shell.execute_reply": "2022-04-18T10:10:43.387842Z"
    },
    "papermill": {
     "duration": 1.879122,
     "end_time": "2022-04-18T10:10:43.388516",
     "exception": false,
     "start_time": "2022-04-18T10:10:41.509394",
     "status": "completed"
    },
    "tags": []
   },
   "outputs": [
    {
     "name": "stdout",
     "output_type": "stream",
     "text": [
      "Collecting mnist\r\n"
     ]
    },
    {
     "name": "stdout",
     "output_type": "stream",
     "text": [
      "  Downloading mnist-0.2.2-py2.py3-none-any.whl (3.5 kB)\r\n",
      "Requirement already satisfied: numpy in /opt/hostedtoolcache/Python/3.6.15/x64/lib/python3.6/site-packages (from mnist) (1.19.5)\r\n"
     ]
    },
    {
     "name": "stdout",
     "output_type": "stream",
     "text": [
      "Installing collected packages: mnist\r\n"
     ]
    },
    {
     "name": "stdout",
     "output_type": "stream",
     "text": [
      "Successfully installed mnist-0.2.2\r\n"
     ]
    }
   ],
   "source": [
    "!pip install mnist"
   ]
  },
  {
   "cell_type": "markdown",
   "id": "69df9c9a",
   "metadata": {
    "papermill": {
     "duration": 0.025167,
     "end_time": "2022-04-18T10:10:43.438976",
     "exception": false,
     "start_time": "2022-04-18T10:10:43.413809",
     "status": "completed"
    },
    "tags": []
   },
   "source": [
    "## Preparing the Data"
   ]
  },
  {
   "cell_type": "code",
   "execution_count": 4,
   "id": "7f69d806",
   "metadata": {
    "execution": {
     "iopub.execute_input": "2022-04-18T10:10:43.506569Z",
     "iopub.status.busy": "2022-04-18T10:10:43.506028Z",
     "iopub.status.idle": "2022-04-18T10:10:43.522638Z",
     "shell.execute_reply": "2022-04-18T10:10:43.522184Z"
    },
    "papermill": {
     "duration": 0.058687,
     "end_time": "2022-04-18T10:10:43.522755",
     "exception": false,
     "start_time": "2022-04-18T10:10:43.464068",
     "status": "completed"
    },
    "tags": []
   },
   "outputs": [],
   "source": [
    "import mnist"
   ]
  },
  {
   "cell_type": "code",
   "execution_count": 5,
   "id": "a411e44f",
   "metadata": {
    "execution": {
     "iopub.execute_input": "2022-04-18T10:10:43.577167Z",
     "iopub.status.busy": "2022-04-18T10:10:43.576621Z",
     "iopub.status.idle": "2022-04-18T10:10:44.297298Z",
     "shell.execute_reply": "2022-04-18T10:10:44.296710Z"
    },
    "papermill": {
     "duration": 0.749308,
     "end_time": "2022-04-18T10:10:44.297437",
     "exception": false,
     "start_time": "2022-04-18T10:10:43.548129",
     "status": "completed"
    },
    "tags": []
   },
   "outputs": [],
   "source": [
    "train_images = mnist.train_images()\n",
    "train_labels = mnist.train_labels()"
   ]
  },
  {
   "cell_type": "code",
   "execution_count": 6,
   "id": "dceab3a5",
   "metadata": {
    "execution": {
     "iopub.execute_input": "2022-04-18T10:10:44.353975Z",
     "iopub.status.busy": "2022-04-18T10:10:44.353443Z",
     "iopub.status.idle": "2022-04-18T10:10:44.366628Z",
     "shell.execute_reply": "2022-04-18T10:10:44.367066Z"
    },
    "papermill": {
     "duration": 0.04368,
     "end_time": "2022-04-18T10:10:44.367194",
     "exception": false,
     "start_time": "2022-04-18T10:10:44.323514",
     "status": "completed"
    },
    "tags": []
   },
   "outputs": [
    {
     "data": {
      "text/plain": [
       "((60000, 28, 28), (60000,))"
      ]
     },
     "execution_count": 6,
     "metadata": {},
     "output_type": "execute_result"
    }
   ],
   "source": [
    "train_images.shape, train_labels.shape"
   ]
  },
  {
   "cell_type": "code",
   "execution_count": 7,
   "id": "f50dc2bb",
   "metadata": {
    "execution": {
     "iopub.execute_input": "2022-04-18T10:10:44.434057Z",
     "iopub.status.busy": "2022-04-18T10:10:44.433513Z",
     "iopub.status.idle": "2022-04-18T10:10:44.812183Z",
     "shell.execute_reply": "2022-04-18T10:10:44.811688Z"
    },
    "papermill": {
     "duration": 0.416088,
     "end_time": "2022-04-18T10:10:44.812305",
     "exception": false,
     "start_time": "2022-04-18T10:10:44.396217",
     "status": "completed"
    },
    "tags": []
   },
   "outputs": [],
   "source": [
    "test_images = mnist.test_images()\n",
    "test_labels = mnist.test_labels()"
   ]
  },
  {
   "cell_type": "code",
   "execution_count": 8,
   "id": "fc38cf1b",
   "metadata": {
    "execution": {
     "iopub.execute_input": "2022-04-18T10:10:44.877885Z",
     "iopub.status.busy": "2022-04-18T10:10:44.876724Z",
     "iopub.status.idle": "2022-04-18T10:10:44.883824Z",
     "shell.execute_reply": "2022-04-18T10:10:44.883412Z"
    },
    "papermill": {
     "duration": 0.04585,
     "end_time": "2022-04-18T10:10:44.883939",
     "exception": false,
     "start_time": "2022-04-18T10:10:44.838089",
     "status": "completed"
    },
    "tags": []
   },
   "outputs": [
    {
     "data": {
      "text/plain": [
       "((10000, 28, 28), (10000,))"
      ]
     },
     "execution_count": 8,
     "metadata": {},
     "output_type": "execute_result"
    }
   ],
   "source": [
    "test_images.shape, test_labels.shape"
   ]
  },
  {
   "cell_type": "code",
   "execution_count": 9,
   "id": "f9ed8fe0",
   "metadata": {
    "execution": {
     "iopub.execute_input": "2022-04-18T10:10:44.950721Z",
     "iopub.status.busy": "2022-04-18T10:10:44.950184Z",
     "iopub.status.idle": "2022-04-18T10:10:45.085078Z",
     "shell.execute_reply": "2022-04-18T10:10:45.084619Z"
    },
    "papermill": {
     "duration": 0.175602,
     "end_time": "2022-04-18T10:10:45.085224",
     "exception": false,
     "start_time": "2022-04-18T10:10:44.909622",
     "status": "completed"
    },
    "tags": []
   },
   "outputs": [
    {
     "name": "stdout",
     "output_type": "stream",
     "text": [
      "2\n"
     ]
    },
    {
     "data": {
      "text/plain": [
       "<matplotlib.image.AxesImage at 0x7f6981eaa390>"
      ]
     },
     "execution_count": 9,
     "metadata": {},
     "output_type": "execute_result"
    },
    {
     "data": {
      "image/png": "[encoded data removed]",
      "text/plain": [
       "<Figure size 432x288 with 1 Axes>"
      ]
     },
     "metadata": {
      "needs_background": "light"
     },
     "output_type": "display_data"
    }
   ],
   "source": [
    "image_index = 7776 # You may select anything up to 60,000\n",
    "print(train_labels[image_index]) \n",
    "plt.imshow(train_images[image_index], cmap='Greys')"
   ]
  },
  {
   "cell_type": "markdown",
   "id": "a8d2388d",
   "metadata": {
    "papermill": {
     "duration": 0.027021,
     "end_time": "2022-04-18T10:10:45.139290",
     "exception": false,
     "start_time": "2022-04-18T10:10:45.112269",
     "status": "completed"
    },
    "tags": []
   },
   "source": [
    "## Filter data to get 3 and 8 out"
   ]
  },
  {
   "cell_type": "code",
   "execution_count": 10,
   "id": "776f7fc7",
   "metadata": {
    "execution": {
     "iopub.execute_input": "2022-04-18T10:10:45.197821Z",
     "iopub.status.busy": "2022-04-18T10:10:45.197253Z",
     "iopub.status.idle": "2022-04-18T10:10:45.216416Z",
     "shell.execute_reply": "2022-04-18T10:10:45.215862Z"
    },
    "papermill": {
     "duration": 0.050531,
     "end_time": "2022-04-18T10:10:45.216534",
     "exception": false,
     "start_time": "2022-04-18T10:10:45.166003",
     "status": "completed"
    },
    "tags": []
   },
   "outputs": [],
   "source": [
    "train_filter = np.where((train_labels == 3 ) | (train_labels == 8))\n",
    "test_filter = np.where((test_labels == 3) | (test_labels == 8))\n",
    "X_train, y_train = train_images[train_filter], train_labels[train_filter]\n",
    "X_test, y_test = test_images[test_filter], test_labels[test_filter]"
   ]
  },
  {
   "cell_type": "markdown",
   "id": "948f0b7e",
   "metadata": {
    "papermill": {
     "duration": 0.026666,
     "end_time": "2022-04-18T10:10:45.270099",
     "exception": false,
     "start_time": "2022-04-18T10:10:45.243433",
     "status": "completed"
    },
    "tags": []
   },
   "source": [
    "We normalize the pizel values in the 0 to 1 range"
   ]
  },
  {
   "cell_type": "code",
   "execution_count": 11,
   "id": "ee4c2166",
   "metadata": {
    "execution": {
     "iopub.execute_input": "2022-04-18T10:10:45.328557Z",
     "iopub.status.busy": "2022-04-18T10:10:45.328027Z",
     "iopub.status.idle": "2022-04-18T10:10:45.374235Z",
     "shell.execute_reply": "2022-04-18T10:10:45.373728Z"
    },
    "papermill": {
     "duration": 0.077682,
     "end_time": "2022-04-18T10:10:45.374374",
     "exception": false,
     "start_time": "2022-04-18T10:10:45.296692",
     "status": "completed"
    },
    "tags": []
   },
   "outputs": [],
   "source": [
    "X_train = X_train/255.\n",
    "X_test = X_test/255."
   ]
  },
  {
   "cell_type": "markdown",
   "id": "ddcf4fab",
   "metadata": {
    "papermill": {
     "duration": 0.026611,
     "end_time": "2022-04-18T10:10:45.428404",
     "exception": false,
     "start_time": "2022-04-18T10:10:45.401793",
     "status": "completed"
    },
    "tags": []
   },
   "source": [
    "And setup the labels as 1 (when the digit is 3) and 0 (when the digit is 8)"
   ]
  },
  {
   "cell_type": "code",
   "execution_count": 12,
   "id": "7dc908f2",
   "metadata": {
    "execution": {
     "iopub.execute_input": "2022-04-18T10:10:45.485857Z",
     "iopub.status.busy": "2022-04-18T10:10:45.485316Z",
     "iopub.status.idle": "2022-04-18T10:10:45.497223Z",
     "shell.execute_reply": "2022-04-18T10:10:45.497613Z"
    },
    "papermill": {
     "duration": 0.042495,
     "end_time": "2022-04-18T10:10:45.497749",
     "exception": false,
     "start_time": "2022-04-18T10:10:45.455254",
     "status": "completed"
    },
    "tags": []
   },
   "outputs": [],
   "source": [
    "y_train = 1*(y_train==3)\n",
    "y_test = 1*(y_test==3)"
   ]
  },
  {
   "cell_type": "code",
   "execution_count": 13,
   "id": "01e4e969",
   "metadata": {
    "execution": {
     "iopub.execute_input": "2022-04-18T10:10:45.562894Z",
     "iopub.status.busy": "2022-04-18T10:10:45.561971Z",
     "iopub.status.idle": "2022-04-18T10:10:45.571824Z",
     "shell.execute_reply": "2022-04-18T10:10:45.571382Z"
    },
    "papermill": {
     "duration": 0.047358,
     "end_time": "2022-04-18T10:10:45.571939",
     "exception": false,
     "start_time": "2022-04-18T10:10:45.524581",
     "status": "completed"
    },
    "tags": []
   },
   "outputs": [
    {
     "data": {
      "text/plain": [
       "((11982, 28, 28), (1984, 28, 28))"
      ]
     },
     "execution_count": 13,
     "metadata": {},
     "output_type": "execute_result"
    }
   ],
   "source": [
    "X_train.shape, X_test.shape"
   ]
  },
  {
   "cell_type": "markdown",
   "id": "5ccf3f85",
   "metadata": {
    "papermill": {
     "duration": 0.026818,
     "end_time": "2022-04-18T10:10:45.625652",
     "exception": false,
     "start_time": "2022-04-18T10:10:45.598834",
     "status": "completed"
    },
    "tags": []
   },
   "source": [
    "We reshape the data to flatten the image pixels into a set of features or co-variates:"
   ]
  },
  {
   "cell_type": "code",
   "execution_count": 14,
   "id": "5286a4a3",
   "metadata": {
    "execution": {
     "iopub.execute_input": "2022-04-18T10:10:45.683879Z",
     "iopub.status.busy": "2022-04-18T10:10:45.683355Z",
     "iopub.status.idle": "2022-04-18T10:10:45.696306Z",
     "shell.execute_reply": "2022-04-18T10:10:45.696687Z"
    },
    "papermill": {
     "duration": 0.044046,
     "end_time": "2022-04-18T10:10:45.696827",
     "exception": false,
     "start_time": "2022-04-18T10:10:45.652781",
     "status": "completed"
    },
    "tags": []
   },
   "outputs": [
    {
     "data": {
      "text/plain": [
       "((11982, 784), (1984, 784))"
      ]
     },
     "execution_count": 14,
     "metadata": {},
     "output_type": "execute_result"
    }
   ],
   "source": [
    "X_train = X_train.reshape(X_train.shape[0], -1)\n",
    "X_test = X_test.reshape(X_test.shape[0], -1)\n",
    "X_train.shape, X_test.shape"
   ]
  },
  {
   "cell_type": "code",
   "execution_count": 15,
   "id": "73c5f88a",
   "metadata": {
    "execution": {
     "iopub.execute_input": "2022-04-18T10:10:45.756523Z",
     "iopub.status.busy": "2022-04-18T10:10:45.755988Z",
     "iopub.status.idle": "2022-04-18T10:10:45.774235Z",
     "shell.execute_reply": "2022-04-18T10:10:45.773783Z"
    },
    "papermill": {
     "duration": 0.05018,
     "end_time": "2022-04-18T10:10:45.774350",
     "exception": false,
     "start_time": "2022-04-18T10:10:45.724170",
     "status": "completed"
    },
    "tags": []
   },
   "outputs": [],
   "source": [
    "#Impoting functions from 'Kudzu'\n",
    "from kudzu.model import Model\n",
    "from kudzu.train import Learner\n",
    "from kudzu.optim import GD\n",
    "from kudzu.data import Data, Sampler,Dataloader\n",
    "\n",
    "from kudzu.callbacks import AccCallback\n",
    "from kudzu.callbacks import ClfCallback\n",
    "\n",
    "from kudzu.loss import MSE\n",
    "\n",
    "from kudzu.layer import Sigmoid,Relu\n",
    "from kudzu.layer import Affine"
   ]
  },
  {
   "cell_type": "markdown",
   "id": "bc01172a",
   "metadata": {
    "papermill": {
     "duration": 0.027209,
     "end_time": "2022-04-18T10:10:45.829089",
     "exception": false,
     "start_time": "2022-04-18T10:10:45.801880",
     "status": "completed"
    },
    "tags": []
   },
   "source": [
    "### Let us create a `Config` class, to store important parameters. \n",
    "This class essentially plays the role of a dictionary."
   ]
  },
  {
   "cell_type": "code",
   "execution_count": 16,
   "id": "978281aa",
   "metadata": {
    "execution": {
     "iopub.execute_input": "2022-04-18T10:10:45.902152Z",
     "iopub.status.busy": "2022-04-18T10:10:45.900872Z",
     "iopub.status.idle": "2022-04-18T10:10:45.904801Z",
     "shell.execute_reply": "2022-04-18T10:10:45.905213Z"
    },
    "papermill": {
     "duration": 0.049119,
     "end_time": "2022-04-18T10:10:45.905354",
     "exception": false,
     "start_time": "2022-04-18T10:10:45.856235",
     "status": "completed"
    },
    "tags": []
   },
   "outputs": [],
   "source": [
    "class Config:\n",
    "    pass\n",
    "config = Config()\n",
    "config.lr = 0.001\n",
    "config.num_epochs = 250\n",
    "config.bs = 50"
   ]
  },
  {
   "cell_type": "markdown",
   "id": "1385fa59",
   "metadata": {
    "papermill": {
     "duration": 0.02734,
     "end_time": "2022-04-18T10:10:45.960078",
     "exception": false,
     "start_time": "2022-04-18T10:10:45.932738",
     "status": "completed"
    },
    "tags": []
   },
   "source": [
    "### Running Models with the Training data\n",
    "Details about the network layers:\n",
    "- A first affine layer has 784 inputs and does 100 affine transforms. These are followed by a Relu\n",
    "- A second affine layer has 100 inputs from the 100 activations of the past layer, and does 100 affine transforms. These are followed by a Relu\n",
    "- A third affine layer has 100 activations and does 2 affine transformations to create an embedding for visualization. There is no non-linearity here.\n",
    "- A final \"logistic regression\" which has an affine transform from 2 inputs to 1 output, which is squeezed through a sigmoid.\n"
   ]
  },
  {
   "cell_type": "code",
   "execution_count": 17,
   "id": "2b9c66db",
   "metadata": {
    "execution": {
     "iopub.execute_input": "2022-04-18T10:10:46.022505Z",
     "iopub.status.busy": "2022-04-18T10:10:46.021959Z",
     "iopub.status.idle": "2022-04-18T10:10:46.032139Z",
     "shell.execute_reply": "2022-04-18T10:10:46.031694Z"
    },
    "papermill": {
     "duration": 0.044802,
     "end_time": "2022-04-18T10:10:46.032253",
     "exception": false,
     "start_time": "2022-04-18T10:10:45.987451",
     "status": "completed"
    },
    "tags": []
   },
   "outputs": [],
   "source": [
    "data = Data(X_train, y_train.reshape(-1,1))\n",
    "sampler = Sampler(data, config.bs, shuffle=True)\n",
    "\n",
    "dl = Dataloader(data, sampler)\n",
    "\n",
    "opt = GD(config.lr)\n",
    "loss = MSE()"
   ]
  },
  {
   "cell_type": "code",
   "execution_count": 18,
   "id": "b275e4c2",
   "metadata": {
    "execution": {
     "iopub.execute_input": "2022-04-18T10:10:46.101974Z",
     "iopub.status.busy": "2022-04-18T10:10:46.094910Z",
     "iopub.status.idle": "2022-04-18T10:10:46.105382Z",
     "shell.execute_reply": "2022-04-18T10:10:46.105807Z"
    },
    "papermill": {
     "duration": 0.045883,
     "end_time": "2022-04-18T10:10:46.105944",
     "exception": false,
     "start_time": "2022-04-18T10:10:46.060061",
     "status": "completed"
    },
    "tags": []
   },
   "outputs": [],
   "source": [
    "training_data_x = X_train\n",
    "testing_data_x = X_test\n",
    "training_data_y = y_train.reshape(-1,1)\n",
    "testing_data_y = y_test.reshape(-1,1)"
   ]
  },
  {
   "cell_type": "code",
   "execution_count": 19,
   "id": "76951160",
   "metadata": {
    "execution": {
     "iopub.execute_input": "2022-04-18T10:10:46.177971Z",
     "iopub.status.busy": "2022-04-18T10:10:46.172276Z",
     "iopub.status.idle": "2022-04-18T10:10:46.185250Z",
     "shell.execute_reply": "2022-04-18T10:10:46.184781Z"
    },
    "papermill": {
     "duration": 0.05215,
     "end_time": "2022-04-18T10:10:46.185378",
     "exception": false,
     "start_time": "2022-04-18T10:10:46.133228",
     "status": "completed"
    },
    "tags": []
   },
   "outputs": [
    {
     "name": "stdout",
     "output_type": "stream",
     "text": [
      "xavier\n",
      "xavier\n",
      "xavier\n",
      "xavier\n",
      "xavier\n"
     ]
    }
   ],
   "source": [
    "layers = [Affine(\"first\", 784, 100), Relu(\"first\"), Affine(\"second\", 100, 100), Relu(\"second\"), Affine(\"third\", 100, 2), Affine(\"last\", 2, 1), Sigmoid(\"last\")]\n",
    "model_nn = Model(layers)\n",
    "model_lr = Model([Affine(\"logits\", 784, 1), Sigmoid(\"sigmoid\")])"
   ]
  },
  {
   "cell_type": "code",
   "execution_count": 20,
   "id": "6eede77a",
   "metadata": {
    "execution": {
     "iopub.execute_input": "2022-04-18T10:10:46.255491Z",
     "iopub.status.busy": "2022-04-18T10:10:46.254938Z",
     "iopub.status.idle": "2022-04-18T10:10:46.262330Z",
     "shell.execute_reply": "2022-04-18T10:10:46.261905Z"
    },
    "papermill": {
     "duration": 0.049186,
     "end_time": "2022-04-18T10:10:46.262449",
     "exception": false,
     "start_time": "2022-04-18T10:10:46.213263",
     "status": "completed"
    },
    "tags": []
   },
   "outputs": [],
   "source": [
    "nn_learner = Learner(loss, model_nn, opt, config.num_epochs)\n",
    "acc_nn = ClfCallback(nn_learner, config.bs, training_data_x , testing_data_x, training_data_y, testing_data_y)\n",
    "nn_learner.set_callbacks([acc_nn])"
   ]
  },
  {
   "cell_type": "code",
   "execution_count": 21,
   "id": "877b6cc7",
   "metadata": {
    "execution": {
     "iopub.execute_input": "2022-04-18T10:10:46.326472Z",
     "iopub.status.busy": "2022-04-18T10:10:46.325933Z",
     "iopub.status.idle": "2022-04-18T10:10:46.335703Z",
     "shell.execute_reply": "2022-04-18T10:10:46.335236Z"
    },
    "papermill": {
     "duration": 0.045699,
     "end_time": "2022-04-18T10:10:46.335818",
     "exception": false,
     "start_time": "2022-04-18T10:10:46.290119",
     "status": "completed"
    },
    "tags": []
   },
   "outputs": [],
   "source": [
    "lr_learner = Learner(loss, model_lr, opt, config.num_epochs)\n",
    "acc_lr = ClfCallback(lr_learner, config.bs, training_data_x , testing_data_x, training_data_y, testing_data_y)\n",
    "lr_learner.set_callbacks([acc_lr])"
   ]
  },
  {
   "cell_type": "code",
   "execution_count": 22,
   "id": "d9b133c3",
   "metadata": {
    "execution": {
     "iopub.execute_input": "2022-04-18T10:10:46.407983Z",
     "iopub.status.busy": "2022-04-18T10:10:46.407425Z",
     "iopub.status.idle": "2022-04-18T10:12:05.343345Z",
     "shell.execute_reply": "2022-04-18T10:12:05.344130Z"
    },
    "papermill": {
     "duration": 78.980637,
     "end_time": "2022-04-18T10:12:05.344283",
     "exception": false,
     "start_time": "2022-04-18T10:10:46.363646",
     "status": "completed"
    },
    "tags": []
   },
   "outputs": [
    {
     "name": "stdout",
     "output_type": "stream",
     "text": [
      "Epoch 0, Loss 0.2407\n",
      "Training Accuracy: 0.6451, Testing Accuracy: 0.6603\n",
      "\n"
     ]
    },
    {
     "name": "stdout",
     "output_type": "stream",
     "text": [
      "Epoch 10, Loss 0.1266\n",
      "Training Accuracy: 0.9119, Testing Accuracy: 0.9168\n",
      "\n"
     ]
    },
    {
     "name": "stdout",
     "output_type": "stream",
     "text": [
      "Epoch 20, Loss 0.0683\n",
      "Training Accuracy: 0.9341, Testing Accuracy: 0.9435\n",
      "\n"
     ]
    },
    {
     "name": "stdout",
     "output_type": "stream",
     "text": [
      "Epoch 30, Loss 0.051\n",
      "Training Accuracy: 0.9448, Testing Accuracy: 0.9531\n",
      "\n"
     ]
    },
    {
     "name": "stdout",
     "output_type": "stream",
     "text": [
      "Epoch 40, Loss 0.0432\n",
      "Training Accuracy: 0.9508, Testing Accuracy: 0.9587\n",
      "\n"
     ]
    },
    {
     "name": "stdout",
     "output_type": "stream",
     "text": [
      "Epoch 50, Loss 0.0387\n",
      "Training Accuracy: 0.9552, Testing Accuracy: 0.9612\n",
      "\n"
     ]
    },
    {
     "name": "stdout",
     "output_type": "stream",
     "text": [
      "Epoch 60, Loss 0.0357\n",
      "Training Accuracy: 0.9582, Testing Accuracy: 0.9637\n",
      "\n"
     ]
    },
    {
     "name": "stdout",
     "output_type": "stream",
     "text": [
      "Epoch 70, Loss 0.0334\n",
      "Training Accuracy: 0.9612, Testing Accuracy: 0.9657\n",
      "\n"
     ]
    },
    {
     "name": "stdout",
     "output_type": "stream",
     "text": [
      "Epoch 80, Loss 0.0317\n",
      "Training Accuracy: 0.9628, Testing Accuracy: 0.9682\n",
      "\n"
     ]
    },
    {
     "name": "stdout",
     "output_type": "stream",
     "text": [
      "Epoch 90, Loss 0.0302\n",
      "Training Accuracy: 0.9644, Testing Accuracy: 0.9677\n",
      "\n"
     ]
    },
    {
     "name": "stdout",
     "output_type": "stream",
     "text": [
      "Epoch 100, Loss 0.029\n",
      "Training Accuracy: 0.9663, Testing Accuracy: 0.9682\n",
      "\n"
     ]
    },
    {
     "name": "stdout",
     "output_type": "stream",
     "text": [
      "Epoch 110, Loss 0.028\n",
      "Training Accuracy: 0.9675, Testing Accuracy: 0.9682\n",
      "\n"
     ]
    },
    {
     "name": "stdout",
     "output_type": "stream",
     "text": [
      "Epoch 120, Loss 0.0271\n",
      "Training Accuracy: 0.9685, Testing Accuracy: 0.9688\n",
      "\n"
     ]
    },
    {
     "name": "stdout",
     "output_type": "stream",
     "text": [
      "Epoch 130, Loss 0.0262\n",
      "Training Accuracy: 0.9697, Testing Accuracy: 0.9688\n",
      "\n"
     ]
    },
    {
     "name": "stdout",
     "output_type": "stream",
     "text": [
      "Epoch 140, Loss 0.0255\n",
      "Training Accuracy: 0.9706, Testing Accuracy: 0.9688\n",
      "\n"
     ]
    },
    {
     "name": "stdout",
     "output_type": "stream",
     "text": [
      "Epoch 150, Loss 0.0248\n",
      "Training Accuracy: 0.9715, Testing Accuracy: 0.9677\n",
      "\n"
     ]
    },
    {
     "name": "stdout",
     "output_type": "stream",
     "text": [
      "Epoch 160, Loss 0.0242\n",
      "Training Accuracy: 0.9726, Testing Accuracy: 0.9677\n",
      "\n"
     ]
    },
    {
     "name": "stdout",
     "output_type": "stream",
     "text": [
      "Epoch 170, Loss 0.0236\n",
      "Training Accuracy: 0.9732, Testing Accuracy: 0.9688\n",
      "\n"
     ]
    },
    {
     "name": "stdout",
     "output_type": "stream",
     "text": [
      "Epoch 180, Loss 0.023\n",
      "Training Accuracy: 0.9735, Testing Accuracy: 0.9688\n",
      "\n"
     ]
    },
    {
     "name": "stdout",
     "output_type": "stream",
     "text": [
      "Epoch 190, Loss 0.0225\n",
      "Training Accuracy: 0.9742, Testing Accuracy: 0.9703\n",
      "\n"
     ]
    },
    {
     "name": "stdout",
     "output_type": "stream",
     "text": [
      "Epoch 200, Loss 0.022\n",
      "Training Accuracy: 0.9750, Testing Accuracy: 0.9698\n",
      "\n"
     ]
    },
    {
     "name": "stdout",
     "output_type": "stream",
     "text": [
      "Epoch 210, Loss 0.0215\n",
      "Training Accuracy: 0.9757, Testing Accuracy: 0.9703\n",
      "\n"
     ]
    },
    {
     "name": "stdout",
     "output_type": "stream",
     "text": [
      "Epoch 220, Loss 0.021\n",
      "Training Accuracy: 0.9763, Testing Accuracy: 0.9708\n",
      "\n"
     ]
    },
    {
     "name": "stdout",
     "output_type": "stream",
     "text": [
      "Epoch 230, Loss 0.0206\n",
      "Training Accuracy: 0.9766, Testing Accuracy: 0.9713\n",
      "\n"
     ]
    },
    {
     "name": "stdout",
     "output_type": "stream",
     "text": [
      "Epoch 240, Loss 0.0201\n",
      "Training Accuracy: 0.9775, Testing Accuracy: 0.9723\n",
      "\n"
     ]
    },
    {
     "data": {
      "text/plain": [
       "0.009696843963434397"
      ]
     },
     "execution_count": 22,
     "metadata": {},
     "output_type": "execute_result"
    }
   ],
   "source": [
    "nn_learner.train_loop(dl)"
   ]
  },
  {
   "cell_type": "code",
   "execution_count": 23,
   "id": "e0163366",
   "metadata": {
    "execution": {
     "iopub.execute_input": "2022-04-18T10:12:05.428283Z",
     "iopub.status.busy": "2022-04-18T10:12:05.427711Z",
     "iopub.status.idle": "2022-04-18T10:12:18.790671Z",
     "shell.execute_reply": "2022-04-18T10:12:18.791399Z"
    },
    "papermill": {
     "duration": 13.411218,
     "end_time": "2022-04-18T10:12:18.791549",
     "exception": false,
     "start_time": "2022-04-18T10:12:05.380331",
     "status": "completed"
    },
    "tags": []
   },
   "outputs": [
    {
     "name": "stdout",
     "output_type": "stream",
     "text": [
      "Epoch 0, Loss 0.226\n",
      "Training Accuracy: 0.7776, Testing Accuracy: 0.7772\n",
      "\n"
     ]
    },
    {
     "name": "stdout",
     "output_type": "stream",
     "text": [
      "Epoch 10, Loss 0.0963\n",
      "Training Accuracy: 0.9249, Testing Accuracy: 0.9309\n",
      "\n"
     ]
    },
    {
     "name": "stdout",
     "output_type": "stream",
     "text": [
      "Epoch 20, Loss 0.075\n",
      "Training Accuracy: 0.9348, Testing Accuracy: 0.9435\n",
      "\n"
     ]
    },
    {
     "name": "stdout",
     "output_type": "stream",
     "text": [
      "Epoch 30, Loss 0.065\n",
      "Training Accuracy: 0.9420, Testing Accuracy: 0.9511\n",
      "\n"
     ]
    },
    {
     "name": "stdout",
     "output_type": "stream",
     "text": [
      "Epoch 40, Loss 0.059\n",
      "Training Accuracy: 0.9467, Testing Accuracy: 0.9536\n",
      "\n"
     ]
    },
    {
     "name": "stdout",
     "output_type": "stream",
     "text": [
      "Epoch 50, Loss 0.0549\n",
      "Training Accuracy: 0.9490, Testing Accuracy: 0.9577\n",
      "\n"
     ]
    },
    {
     "name": "stdout",
     "output_type": "stream",
     "text": [
      "Epoch 60, Loss 0.0519\n",
      "Training Accuracy: 0.9508, Testing Accuracy: 0.9592\n",
      "\n"
     ]
    },
    {
     "name": "stdout",
     "output_type": "stream",
     "text": [
      "Epoch 70, Loss 0.0496\n",
      "Training Accuracy: 0.9518, Testing Accuracy: 0.9592\n",
      "\n"
     ]
    },
    {
     "name": "stdout",
     "output_type": "stream",
     "text": [
      "Epoch 80, Loss 0.0477\n",
      "Training Accuracy: 0.9536, Testing Accuracy: 0.9612\n",
      "\n"
     ]
    },
    {
     "name": "stdout",
     "output_type": "stream",
     "text": [
      "Epoch 90, Loss 0.0461\n",
      "Training Accuracy: 0.9548, Testing Accuracy: 0.9627\n",
      "\n"
     ]
    },
    {
     "name": "stdout",
     "output_type": "stream",
     "text": [
      "Epoch 100, Loss 0.0448\n",
      "Training Accuracy: 0.9553, Testing Accuracy: 0.9637\n",
      "\n"
     ]
    },
    {
     "name": "stdout",
     "output_type": "stream",
     "text": [
      "Epoch 110, Loss 0.0437\n",
      "Training Accuracy: 0.9557, Testing Accuracy: 0.9642\n",
      "\n"
     ]
    },
    {
     "name": "stdout",
     "output_type": "stream",
     "text": [
      "Epoch 120, Loss 0.0427\n",
      "Training Accuracy: 0.9560, Testing Accuracy: 0.9652\n",
      "\n"
     ]
    },
    {
     "name": "stdout",
     "output_type": "stream",
     "text": [
      "Epoch 130, Loss 0.0419\n",
      "Training Accuracy: 0.9572, Testing Accuracy: 0.9667\n",
      "\n"
     ]
    },
    {
     "name": "stdout",
     "output_type": "stream",
     "text": [
      "Epoch 140, Loss 0.0411\n",
      "Training Accuracy: 0.9577, Testing Accuracy: 0.9667\n",
      "\n"
     ]
    },
    {
     "name": "stdout",
     "output_type": "stream",
     "text": [
      "Epoch 150, Loss 0.0404\n",
      "Training Accuracy: 0.9583, Testing Accuracy: 0.9667\n",
      "\n"
     ]
    },
    {
     "name": "stdout",
     "output_type": "stream",
     "text": [
      "Epoch 160, Loss 0.0398\n",
      "Training Accuracy: 0.9588, Testing Accuracy: 0.9667\n",
      "\n"
     ]
    },
    {
     "name": "stdout",
     "output_type": "stream",
     "text": [
      "Epoch 170, Loss 0.0392\n",
      "Training Accuracy: 0.9589, Testing Accuracy: 0.9667\n",
      "\n"
     ]
    },
    {
     "name": "stdout",
     "output_type": "stream",
     "text": [
      "Epoch 180, Loss 0.0387\n",
      "Training Accuracy: 0.9592, Testing Accuracy: 0.9657\n",
      "\n"
     ]
    },
    {
     "name": "stdout",
     "output_type": "stream",
     "text": [
      "Epoch 190, Loss 0.0382\n",
      "Training Accuracy: 0.9596, Testing Accuracy: 0.9657\n",
      "\n"
     ]
    },
    {
     "name": "stdout",
     "output_type": "stream",
     "text": [
      "Epoch 200, Loss 0.0378\n",
      "Training Accuracy: 0.9599, Testing Accuracy: 0.9657\n",
      "\n"
     ]
    },
    {
     "name": "stdout",
     "output_type": "stream",
     "text": [
      "Epoch 210, Loss 0.0374\n",
      "Training Accuracy: 0.9603, Testing Accuracy: 0.9657\n",
      "\n"
     ]
    },
    {
     "name": "stdout",
     "output_type": "stream",
     "text": [
      "Epoch 220, Loss 0.037\n",
      "Training Accuracy: 0.9606, Testing Accuracy: 0.9662\n",
      "\n"
     ]
    },
    {
     "name": "stdout",
     "output_type": "stream",
     "text": [
      "Epoch 230, Loss 0.0366\n",
      "Training Accuracy: 0.9608, Testing Accuracy: 0.9667\n",
      "\n"
     ]
    },
    {
     "name": "stdout",
     "output_type": "stream",
     "text": [
      "Epoch 240, Loss 0.0363\n",
      "Training Accuracy: 0.9608, Testing Accuracy: 0.9667\n",
      "\n"
     ]
    },
    {
     "data": {
      "text/plain": [
       "0.03877497880748353"
      ]
     },
     "execution_count": 23,
     "metadata": {},
     "output_type": "execute_result"
    }
   ],
   "source": [
    "lr_learner.train_loop(dl)"
   ]
  },
  {
   "cell_type": "code",
   "execution_count": 24,
   "id": "ca410940",
   "metadata": {
    "execution": {
     "iopub.execute_input": "2022-04-18T10:12:18.882761Z",
     "iopub.status.busy": "2022-04-18T10:12:18.882234Z",
     "iopub.status.idle": "2022-04-18T10:12:19.111442Z",
     "shell.execute_reply": "2022-04-18T10:12:19.111874Z"
    },
    "papermill": {
     "duration": 0.279062,
     "end_time": "2022-04-18T10:12:19.112015",
     "exception": false,
     "start_time": "2022-04-18T10:12:18.832953",
     "status": "completed"
    },
    "tags": []
   },
   "outputs": [
    {
     "data": {
      "text/plain": [
       "<matplotlib.legend.Legend at 0x7f6981a89b00>"
      ]
     },
     "execution_count": 24,
     "metadata": {},
     "output_type": "execute_result"
    },
    {
     "data": {
      "image/png": "[encoded data removed]",
      "text/plain": [
       "<Figure size 1080x720 with 1 Axes>"
      ]
     },
     "metadata": {
      "needs_background": "light"
     },
     "output_type": "display_data"
    }
   ],
   "source": [
    "#comparing the results of NN and LR\n",
    "plt.figure(figsize=(15,10))\n",
    "\n",
    "# Neural Network plots\n",
    "plt.plot(acc_nn.accuracies, 'r-', label = \"Training Accuracies - NN\")\n",
    "plt.plot(acc_nn.test_accuracies, 'g-', label = \"Testing Accuracies - NN\")\n",
    "\n",
    "# Logistic Regression plots\n",
    "plt.plot(acc_lr.accuracies, 'k-', label = \"Training Accuracies - LR\")\n",
    "plt.plot(acc_lr.test_accuracies, 'b-', label = \"Testing Accuracies - LR\")\n",
    "plt.legend()"
   ]
  },
  {
   "cell_type": "markdown",
   "id": "80dfb35c",
   "metadata": {
    "papermill": {
     "duration": 0.042242,
     "end_time": "2022-04-18T10:12:19.196864",
     "exception": false,
     "start_time": "2022-04-18T10:12:19.154622",
     "status": "completed"
    },
    "tags": []
   },
   "source": [
    "#### Plotting the outputs of this layer of the NN.\n"
   ]
  },
  {
   "cell_type": "code",
   "execution_count": 25,
   "id": "45eb2ff5",
   "metadata": {
    "execution": {
     "iopub.execute_input": "2022-04-18T10:12:19.301295Z",
     "iopub.status.busy": "2022-04-18T10:12:19.300723Z",
     "iopub.status.idle": "2022-04-18T10:12:19.313173Z",
     "shell.execute_reply": "2022-04-18T10:12:19.313901Z"
    },
    "papermill": {
     "duration": 0.075061,
     "end_time": "2022-04-18T10:12:19.314044",
     "exception": false,
     "start_time": "2022-04-18T10:12:19.238983",
     "status": "completed"
    },
    "tags": []
   },
   "outputs": [],
   "source": [
    "new_model = Model(layers[:-2])\n",
    "testing_plot = new_model(testing_data_x)"
   ]
  },
  {
   "cell_type": "code",
   "execution_count": 26,
   "id": "4c0a5485",
   "metadata": {
    "execution": {
     "iopub.execute_input": "2022-04-18T10:12:19.406537Z",
     "iopub.status.busy": "2022-04-18T10:12:19.406026Z",
     "iopub.status.idle": "2022-04-18T10:12:19.620148Z",
     "shell.execute_reply": "2022-04-18T10:12:19.620561Z"
    },
    "papermill": {
     "duration": 0.2638,
     "end_time": "2022-04-18T10:12:19.620702",
     "exception": false,
     "start_time": "2022-04-18T10:12:19.356902",
     "status": "completed"
    },
    "tags": []
   },
   "outputs": [
    {
     "data": {
      "text/plain": [
       "Text(0.5, 1.0, 'Outputs')"
      ]
     },
     "execution_count": 26,
     "metadata": {},
     "output_type": "execute_result"
    },
    {
     "data": {
      "image/png": "[encoded data removed]",
      "text/plain": [
       "<Figure size 576x504 with 1 Axes>"
      ]
     },
     "metadata": {
      "needs_background": "light"
     },
     "output_type": "display_data"
    }
   ],
   "source": [
    "# Plotting the scatter plot of points and color coding by class\n",
    "plt.figure(figsize=(8,7))\n",
    "plt.scatter(testing_plot[:,0], testing_plot[:,1], alpha = 0.1, c = y_test.ravel());\n",
    "plt.title('Outputs')"
   ]
  },
  {
   "cell_type": "markdown",
   "id": "a74fcf8f",
   "metadata": {
    "papermill": {
     "duration": 0.045875,
     "end_time": "2022-04-18T10:12:19.712557",
     "exception": false,
     "start_time": "2022-04-18T10:12:19.666682",
     "status": "completed"
    },
    "tags": []
   },
   "source": [
    "Probability contours"
   ]
  },
  {
   "cell_type": "code",
   "execution_count": 27,
   "id": "d0afc8e3",
   "metadata": {
    "execution": {
     "iopub.execute_input": "2022-04-18T10:12:19.809396Z",
     "iopub.status.busy": "2022-04-18T10:12:19.808809Z",
     "iopub.status.idle": "2022-04-18T10:12:19.820575Z",
     "shell.execute_reply": "2022-04-18T10:12:19.820162Z"
    },
    "papermill": {
     "duration": 0.062111,
     "end_time": "2022-04-18T10:12:19.820686",
     "exception": false,
     "start_time": "2022-04-18T10:12:19.758575",
     "status": "completed"
    },
    "tags": []
   },
   "outputs": [],
   "source": [
    "model_prob = Model(layers[-2:]) "
   ]
  },
  {
   "cell_type": "code",
   "execution_count": 28,
   "id": "9b96e238",
   "metadata": {
    "execution": {
     "iopub.execute_input": "2022-04-18T10:12:19.958405Z",
     "iopub.status.busy": "2022-04-18T10:12:19.954154Z",
     "iopub.status.idle": "2022-04-18T10:12:19.959921Z",
     "shell.execute_reply": "2022-04-18T10:12:19.960636Z"
    },
    "papermill": {
     "duration": 0.068055,
     "end_time": "2022-04-18T10:12:19.960770",
     "exception": false,
     "start_time": "2022-04-18T10:12:19.892715",
     "status": "completed"
    },
    "tags": []
   },
   "outputs": [],
   "source": [
    "#creating the x and y ranges according to the above generated plot.\n",
    "x_range = np.linspace(-4, 1, 100) \n",
    "y_range = np.linspace(-6, 6, 100) \n",
    "x_grid, y_grid = np.meshgrid(x_range, y_range) # x_grid and y_grig are of size 100 X 100\n",
    "\n",
    "# converting x_grid and y_grid to continuous arrays\n",
    "x_gridflat = np.ravel(x_grid)\n",
    "y_gridflat = np.ravel(y_grid)\n",
    "\n",
    "# The last layer of the current model takes two columns as input. Hence transpose of np.vstack() is required.\n",
    "X = np.vstack((x_gridflat, y_gridflat)).T\n",
    "\n",
    "prob_contour = model_prob(X).reshape(100,100) "
   ]
  },
  {
   "cell_type": "code",
   "execution_count": 29,
   "id": "da72499a",
   "metadata": {
    "execution": {
     "iopub.execute_input": "2022-04-18T10:12:20.063051Z",
     "iopub.status.busy": "2022-04-18T10:12:20.062533Z",
     "iopub.status.idle": "2022-04-18T10:12:20.299238Z",
     "shell.execute_reply": "2022-04-18T10:12:20.299913Z"
    },
    "papermill": {
     "duration": 0.292775,
     "end_time": "2022-04-18T10:12:20.300054",
     "exception": false,
     "start_time": "2022-04-18T10:12:20.007279",
     "status": "completed"
    },
    "tags": []
   },
   "outputs": [
    {
     "data": {
      "image/png": "[encoded data removed]",
      "text/plain": [
       "<Figure size 720x648 with 1 Axes>"
      ]
     },
     "metadata": {
      "needs_background": "light"
     },
     "output_type": "display_data"
    }
   ],
   "source": [
    "plt.figure(figsize=(10,9))\n",
    "plt.scatter(testing_plot[:,0], testing_plot[:,1], alpha = 0.1, c = y_test.ravel())\n",
    "contours = plt.contour(x_grid,y_grid,prob_contour)\n",
    "plt.title('Probability Contours')\n",
    "plt.clabel(contours, inline = True );"
   ]
  },
  {
   "cell_type": "code",
   "execution_count": null,
   "id": "e81b4ac7",
   "metadata": {
    "papermill": {
     "duration": 0.048058,
     "end_time": "2022-04-18T10:12:20.396588",
     "exception": false,
     "start_time": "2022-04-18T10:12:20.348530",
     "status": "completed"
    },
    "tags": []
   },
   "outputs": [],
   "source": []
  }
 ],
 "metadata": {
  "kernelspec": {
   "display_name": "Python 3",
   "language": "python",
   "name": "python3"
  },
  "language_info": {
   "codemirror_mode": {
    "name": "ipython",
    "version": 3
   },
   "file_extension": ".py",
   "mimetype": "text/x-python",
   "name": "python",
   "nbconvert_exporter": "python",
   "pygments_lexer": "ipython3",
   "version": "3.6.15"
  },
  "papermill": {
   "default_parameters": {},
   "duration": 101.095091,
   "end_time": "2022-04-18T10:12:20.863349",
   "environment_variables": {},
   "exception": null,
   "input_path": "2020-08-11-part2.ipynb",
   "output_path": "2020-08-11-part2.ipynb",
   "parameters": {},
   "start_time": "2022-04-18T10:10:39.768258",
   "version": "2.3.3"
  }
 },
 "nbformat": 4,
 "nbformat_minor": 5
}