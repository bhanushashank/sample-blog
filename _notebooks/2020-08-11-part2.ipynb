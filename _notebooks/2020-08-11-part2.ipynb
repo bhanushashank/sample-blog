{
 "cells": [
  {
   "cell_type": "markdown",
   "id": "98380cd3",
   "metadata": {
    "papermill": {
     "duration": 0.029148,
     "end_time": "2022-03-05T20:08:41.269907",
     "exception": false,
     "start_time": "2022-03-05T20:08:41.240759",
     "status": "completed"
    },
    "tags": []
   },
   "source": [
    "# Distinguish Your Own Digits (DYOD)"
   ]
  },
  {
   "cell_type": "markdown",
   "id": "ef31240d",
   "metadata": {
    "papermill": {
     "duration": 0.025153,
     "end_time": "2022-03-05T20:08:41.319459",
     "exception": false,
     "start_time": "2022-03-05T20:08:41.294306",
     "status": "completed"
    },
    "tags": []
   },
   "source": [
    "You are going to write a classifier that distinguishes between the number 3 and number 8."
   ]
  },
  {
   "cell_type": "code",
   "execution_count": 1,
   "id": "b15c8646",
   "metadata": {
    "execution": {
     "iopub.execute_input": "2022-03-05T20:08:41.377385Z",
     "iopub.status.busy": "2022-03-05T20:08:41.376845Z",
     "iopub.status.idle": "2022-03-05T20:08:41.386839Z",
     "shell.execute_reply": "2022-03-05T20:08:41.387283Z"
    },
    "papermill": {
     "duration": 0.044428,
     "end_time": "2022-03-05T20:08:41.387440",
     "exception": false,
     "start_time": "2022-03-05T20:08:41.343012",
     "status": "completed"
    },
    "tags": []
   },
   "outputs": [],
   "source": [
    "%load_ext autoreload\n",
    "%autoreload 2"
   ]
  },
  {
   "cell_type": "code",
   "execution_count": 2,
   "id": "22ef38dc",
   "metadata": {
    "execution": {
     "iopub.execute_input": "2022-03-05T20:08:41.438632Z",
     "iopub.status.busy": "2022-03-05T20:08:41.438109Z",
     "iopub.status.idle": "2022-03-05T20:08:42.026625Z",
     "shell.execute_reply": "2022-03-05T20:08:42.026053Z"
    },
    "papermill": {
     "duration": 0.615583,
     "end_time": "2022-03-05T20:08:42.026776",
     "exception": false,
     "start_time": "2022-03-05T20:08:41.411193",
     "status": "completed"
    },
    "tags": []
   },
   "outputs": [],
   "source": [
    "%matplotlib inline\n",
    "import numpy as np\n",
    "import matplotlib.pyplot as plt\n",
    "import pandas as pd"
   ]
  },
  {
   "cell_type": "markdown",
   "id": "ba036198",
   "metadata": {
    "papermill": {
     "duration": 0.023793,
     "end_time": "2022-03-05T20:08:42.075333",
     "exception": false,
     "start_time": "2022-03-05T20:08:42.051540",
     "status": "completed"
    },
    "tags": []
   },
   "source": [
    "From the command line run `pip install mnist`. This is a library that will help you bring down the mnist dataset. If you run this from a notebook, you need to put  `!pip install mnist` in a cell by itself."
   ]
  },
  {
   "cell_type": "code",
   "execution_count": 3,
   "id": "bb6ad8a1",
   "metadata": {
    "execution": {
     "iopub.execute_input": "2022-03-05T20:08:42.131231Z",
     "iopub.status.busy": "2022-03-05T20:08:42.130716Z",
     "iopub.status.idle": "2022-03-05T20:08:44.608519Z",
     "shell.execute_reply": "2022-03-05T20:08:44.607953Z"
    },
    "papermill": {
     "duration": 2.509407,
     "end_time": "2022-03-05T20:08:44.608657",
     "exception": false,
     "start_time": "2022-03-05T20:08:42.099250",
     "status": "completed"
    },
    "tags": []
   },
   "outputs": [
    {
     "name": "stdout",
     "output_type": "stream",
     "text": [
      "Collecting mnist\r\n"
     ]
    },
    {
     "name": "stdout",
     "output_type": "stream",
     "text": [
      "  Downloading mnist-0.2.2-py2.py3-none-any.whl (3.5 kB)\r\n",
      "Requirement already satisfied: numpy in /opt/hostedtoolcache/Python/3.6.15/x64/lib/python3.6/site-packages (from mnist) (1.19.5)\r\n"
     ]
    },
    {
     "name": "stdout",
     "output_type": "stream",
     "text": [
      "Installing collected packages: mnist\r\n"
     ]
    },
    {
     "name": "stdout",
     "output_type": "stream",
     "text": [
      "Successfully installed mnist-0.2.2\r\n"
     ]
    }
   ],
   "source": [
    "!pip install mnist"
   ]
  },
  {
   "cell_type": "markdown",
   "id": "69df9c9a",
   "metadata": {
    "papermill": {
     "duration": 0.025,
     "end_time": "2022-03-05T20:08:44.659163",
     "exception": false,
     "start_time": "2022-03-05T20:08:44.634163",
     "status": "completed"
    },
    "tags": []
   },
   "source": [
    "## Preparing the Data"
   ]
  },
  {
   "cell_type": "code",
   "execution_count": 4,
   "id": "7f69d806",
   "metadata": {
    "execution": {
     "iopub.execute_input": "2022-03-05T20:08:44.726775Z",
     "iopub.status.busy": "2022-03-05T20:08:44.714081Z",
     "iopub.status.idle": "2022-03-05T20:08:44.731602Z",
     "shell.execute_reply": "2022-03-05T20:08:44.730920Z"
    },
    "papermill": {
     "duration": 0.047662,
     "end_time": "2022-03-05T20:08:44.731726",
     "exception": false,
     "start_time": "2022-03-05T20:08:44.684064",
     "status": "completed"
    },
    "tags": []
   },
   "outputs": [],
   "source": [
    "import mnist"
   ]
  },
  {
   "cell_type": "code",
   "execution_count": 5,
   "id": "a411e44f",
   "metadata": {
    "execution": {
     "iopub.execute_input": "2022-03-05T20:08:44.788214Z",
     "iopub.status.busy": "2022-03-05T20:08:44.787701Z",
     "iopub.status.idle": "2022-03-05T20:08:45.307182Z",
     "shell.execute_reply": "2022-03-05T20:08:45.306610Z"
    },
    "papermill": {
     "duration": 0.550375,
     "end_time": "2022-03-05T20:08:45.307324",
     "exception": false,
     "start_time": "2022-03-05T20:08:44.756949",
     "status": "completed"
    },
    "tags": []
   },
   "outputs": [],
   "source": [
    "train_images = mnist.train_images()\n",
    "train_labels = mnist.train_labels()"
   ]
  },
  {
   "cell_type": "code",
   "execution_count": 6,
   "id": "dceab3a5",
   "metadata": {
    "execution": {
     "iopub.execute_input": "2022-03-05T20:08:45.376510Z",
     "iopub.status.busy": "2022-03-05T20:08:45.370749Z",
     "iopub.status.idle": "2022-03-05T20:08:45.381131Z",
     "shell.execute_reply": "2022-03-05T20:08:45.380694Z"
    },
    "papermill": {
     "duration": 0.048045,
     "end_time": "2022-03-05T20:08:45.381252",
     "exception": false,
     "start_time": "2022-03-05T20:08:45.333207",
     "status": "completed"
    },
    "tags": []
   },
   "outputs": [
    {
     "data": {
      "text/plain": [
       "((60000, 28, 28), (60000,))"
      ]
     },
     "execution_count": 6,
     "metadata": {},
     "output_type": "execute_result"
    }
   ],
   "source": [
    "train_images.shape, train_labels.shape"
   ]
  },
  {
   "cell_type": "code",
   "execution_count": 7,
   "id": "f50dc2bb",
   "metadata": {
    "execution": {
     "iopub.execute_input": "2022-03-05T20:08:45.435850Z",
     "iopub.status.busy": "2022-03-05T20:08:45.435338Z",
     "iopub.status.idle": "2022-03-05T20:08:45.584472Z",
     "shell.execute_reply": "2022-03-05T20:08:45.583920Z"
    },
    "papermill": {
     "duration": 0.178158,
     "end_time": "2022-03-05T20:08:45.584622",
     "exception": false,
     "start_time": "2022-03-05T20:08:45.406464",
     "status": "completed"
    },
    "tags": []
   },
   "outputs": [],
   "source": [
    "test_images = mnist.test_images()\n",
    "test_labels = mnist.test_labels()"
   ]
  },
  {
   "cell_type": "code",
   "execution_count": 8,
   "id": "fc38cf1b",
   "metadata": {
    "execution": {
     "iopub.execute_input": "2022-03-05T20:08:45.639862Z",
     "iopub.status.busy": "2022-03-05T20:08:45.639343Z",
     "iopub.status.idle": "2022-03-05T20:08:45.653273Z",
     "shell.execute_reply": "2022-03-05T20:08:45.652824Z"
    },
    "papermill": {
     "duration": 0.042636,
     "end_time": "2022-03-05T20:08:45.653389",
     "exception": false,
     "start_time": "2022-03-05T20:08:45.610753",
     "status": "completed"
    },
    "tags": []
   },
   "outputs": [
    {
     "data": {
      "text/plain": [
       "((10000, 28, 28), (10000,))"
      ]
     },
     "execution_count": 8,
     "metadata": {},
     "output_type": "execute_result"
    }
   ],
   "source": [
    "test_images.shape, test_labels.shape"
   ]
  },
  {
   "cell_type": "code",
   "execution_count": 9,
   "id": "f9ed8fe0",
   "metadata": {
    "execution": {
     "iopub.execute_input": "2022-03-05T20:08:45.710468Z",
     "iopub.status.busy": "2022-03-05T20:08:45.709934Z",
     "iopub.status.idle": "2022-03-05T20:08:45.849903Z",
     "shell.execute_reply": "2022-03-05T20:08:45.849444Z"
    },
    "papermill": {
     "duration": 0.171155,
     "end_time": "2022-03-05T20:08:45.850050",
     "exception": false,
     "start_time": "2022-03-05T20:08:45.678895",
     "status": "completed"
    },
    "tags": []
   },
   "outputs": [
    {
     "name": "stdout",
     "output_type": "stream",
     "text": [
      "2\n"
     ]
    },
    {
     "data": {
      "text/plain": [
       "<matplotlib.image.AxesImage at 0x7f15a0d0d5f8>"
      ]
     },
     "execution_count": 9,
     "metadata": {},
     "output_type": "execute_result"
    },
    {
     "data": {
      "image/png": "[encoded data removed]",
      "text/plain": [
       "<Figure size 432x288 with 1 Axes>"
      ]
     },
     "metadata": {
      "needs_background": "light"
     },
     "output_type": "display_data"
    }
   ],
   "source": [
    "image_index = 7776 # You may select anything up to 60,000\n",
    "print(train_labels[image_index]) \n",
    "plt.imshow(train_images[image_index], cmap='Greys')"
   ]
  },
  {
   "cell_type": "markdown",
   "id": "a8d2388d",
   "metadata": {
    "papermill": {
     "duration": 0.026274,
     "end_time": "2022-03-05T20:08:45.902952",
     "exception": false,
     "start_time": "2022-03-05T20:08:45.876678",
     "status": "completed"
    },
    "tags": []
   },
   "source": [
    "## Filter data to get 3 and 8 out"
   ]
  },
  {
   "cell_type": "code",
   "execution_count": 10,
   "id": "776f7fc7",
   "metadata": {
    "execution": {
     "iopub.execute_input": "2022-03-05T20:08:45.966626Z",
     "iopub.status.busy": "2022-03-05T20:08:45.959205Z",
     "iopub.status.idle": "2022-03-05T20:08:45.980713Z",
     "shell.execute_reply": "2022-03-05T20:08:45.980241Z"
    },
    "papermill": {
     "duration": 0.051562,
     "end_time": "2022-03-05T20:08:45.980829",
     "exception": false,
     "start_time": "2022-03-05T20:08:45.929267",
     "status": "completed"
    },
    "tags": []
   },
   "outputs": [],
   "source": [
    "train_filter = np.where((train_labels == 3 ) | (train_labels == 8))\n",
    "test_filter = np.where((test_labels == 3) | (test_labels == 8))\n",
    "X_train, y_train = train_images[train_filter], train_labels[train_filter]\n",
    "X_test, y_test = test_images[test_filter], test_labels[test_filter]"
   ]
  },
  {
   "cell_type": "markdown",
   "id": "948f0b7e",
   "metadata": {
    "papermill": {
     "duration": 0.026753,
     "end_time": "2022-03-05T20:08:46.034155",
     "exception": false,
     "start_time": "2022-03-05T20:08:46.007402",
     "status": "completed"
    },
    "tags": []
   },
   "source": [
    "We normalize the pizel values in the 0 to 1 range"
   ]
  },
  {
   "cell_type": "code",
   "execution_count": 11,
   "id": "ee4c2166",
   "metadata": {
    "execution": {
     "iopub.execute_input": "2022-03-05T20:08:46.090662Z",
     "iopub.status.busy": "2022-03-05T20:08:46.090132Z",
     "iopub.status.idle": "2022-03-05T20:08:46.138946Z",
     "shell.execute_reply": "2022-03-05T20:08:46.138426Z"
    },
    "papermill": {
     "duration": 0.078492,
     "end_time": "2022-03-05T20:08:46.139087",
     "exception": false,
     "start_time": "2022-03-05T20:08:46.060595",
     "status": "completed"
    },
    "tags": []
   },
   "outputs": [],
   "source": [
    "X_train = X_train/255.\n",
    "X_test = X_test/255."
   ]
  },
  {
   "cell_type": "markdown",
   "id": "ddcf4fab",
   "metadata": {
    "papermill": {
     "duration": 0.026693,
     "end_time": "2022-03-05T20:08:46.193232",
     "exception": false,
     "start_time": "2022-03-05T20:08:46.166539",
     "status": "completed"
    },
    "tags": []
   },
   "source": [
    "And setup the labels as 1 (when the digit is 3) and 0 (when the digit is 8)"
   ]
  },
  {
   "cell_type": "code",
   "execution_count": 12,
   "id": "7dc908f2",
   "metadata": {
    "execution": {
     "iopub.execute_input": "2022-03-05T20:08:46.249715Z",
     "iopub.status.busy": "2022-03-05T20:08:46.249184Z",
     "iopub.status.idle": "2022-03-05T20:08:46.262021Z",
     "shell.execute_reply": "2022-03-05T20:08:46.261580Z"
    },
    "papermill": {
     "duration": 0.042244,
     "end_time": "2022-03-05T20:08:46.262138",
     "exception": false,
     "start_time": "2022-03-05T20:08:46.219894",
     "status": "completed"
    },
    "tags": []
   },
   "outputs": [],
   "source": [
    "y_train = 1*(y_train==3)\n",
    "y_test = 1*(y_test==3)"
   ]
  },
  {
   "cell_type": "code",
   "execution_count": 13,
   "id": "01e4e969",
   "metadata": {
    "execution": {
     "iopub.execute_input": "2022-03-05T20:08:46.318513Z",
     "iopub.status.busy": "2022-03-05T20:08:46.317991Z",
     "iopub.status.idle": "2022-03-05T20:08:46.330180Z",
     "shell.execute_reply": "2022-03-05T20:08:46.330630Z"
    },
    "papermill": {
     "duration": 0.042311,
     "end_time": "2022-03-05T20:08:46.330758",
     "exception": false,
     "start_time": "2022-03-05T20:08:46.288447",
     "status": "completed"
    },
    "tags": []
   },
   "outputs": [
    {
     "data": {
      "text/plain": [
       "((11982, 28, 28), (1984, 28, 28))"
      ]
     },
     "execution_count": 13,
     "metadata": {},
     "output_type": "execute_result"
    }
   ],
   "source": [
    "X_train.shape, X_test.shape"
   ]
  },
  {
   "cell_type": "markdown",
   "id": "5ccf3f85",
   "metadata": {
    "papermill": {
     "duration": 0.026474,
     "end_time": "2022-03-05T20:08:46.383640",
     "exception": false,
     "start_time": "2022-03-05T20:08:46.357166",
     "status": "completed"
    },
    "tags": []
   },
   "source": [
    "We reshape the data to flatten the image pixels into a set of features or co-variates:"
   ]
  },
  {
   "cell_type": "code",
   "execution_count": 14,
   "id": "5286a4a3",
   "metadata": {
    "execution": {
     "iopub.execute_input": "2022-03-05T20:08:46.440556Z",
     "iopub.status.busy": "2022-03-05T20:08:46.440039Z",
     "iopub.status.idle": "2022-03-05T20:08:46.453512Z",
     "shell.execute_reply": "2022-03-05T20:08:46.453099Z"
    },
    "papermill": {
     "duration": 0.043332,
     "end_time": "2022-03-05T20:08:46.453625",
     "exception": false,
     "start_time": "2022-03-05T20:08:46.410293",
     "status": "completed"
    },
    "tags": []
   },
   "outputs": [
    {
     "data": {
      "text/plain": [
       "((11982, 784), (1984, 784))"
      ]
     },
     "execution_count": 14,
     "metadata": {},
     "output_type": "execute_result"
    }
   ],
   "source": [
    "X_train = X_train.reshape(X_train.shape[0], -1)\n",
    "X_test = X_test.reshape(X_test.shape[0], -1)\n",
    "X_train.shape, X_test.shape"
   ]
  },
  {
   "cell_type": "code",
   "execution_count": 15,
   "id": "73c5f88a",
   "metadata": {
    "execution": {
     "iopub.execute_input": "2022-03-05T20:08:46.512064Z",
     "iopub.status.busy": "2022-03-05T20:08:46.511539Z",
     "iopub.status.idle": "2022-03-05T20:08:46.529855Z",
     "shell.execute_reply": "2022-03-05T20:08:46.529432Z"
    },
    "papermill": {
     "duration": 0.049425,
     "end_time": "2022-03-05T20:08:46.529997",
     "exception": false,
     "start_time": "2022-03-05T20:08:46.480572",
     "status": "completed"
    },
    "tags": []
   },
   "outputs": [],
   "source": [
    "#Impoting functions from 'Kudzu'\n",
    "from kudzu.model import Model\n",
    "from kudzu.train import Learner\n",
    "from kudzu.optim import GD\n",
    "from kudzu.data import Data, Sampler,Dataloader\n",
    "\n",
    "from kudzu.callbacks import AccCallback\n",
    "from kudzu.callbacks import ClfCallback\n",
    "\n",
    "from kudzu.loss import MSE\n",
    "\n",
    "from kudzu.layer import Sigmoid,Relu\n",
    "from kudzu.layer import Affine"
   ]
  },
  {
   "cell_type": "markdown",
   "id": "bc01172a",
   "metadata": {
    "papermill": {
     "duration": 0.027268,
     "end_time": "2022-03-05T20:08:46.584229",
     "exception": false,
     "start_time": "2022-03-05T20:08:46.556961",
     "status": "completed"
    },
    "tags": []
   },
   "source": [
    "### Let us create a `Config` class, to store important parameters. \n",
    "This class essentially plays the role of a dictionary."
   ]
  },
  {
   "cell_type": "code",
   "execution_count": 16,
   "id": "978281aa",
   "metadata": {
    "execution": {
     "iopub.execute_input": "2022-03-05T20:08:46.642879Z",
     "iopub.status.busy": "2022-03-05T20:08:46.642350Z",
     "iopub.status.idle": "2022-03-05T20:08:46.653593Z",
     "shell.execute_reply": "2022-03-05T20:08:46.654069Z"
    },
    "papermill": {
     "duration": 0.042469,
     "end_time": "2022-03-05T20:08:46.654207",
     "exception": false,
     "start_time": "2022-03-05T20:08:46.611738",
     "status": "completed"
    },
    "tags": []
   },
   "outputs": [],
   "source": [
    "class Config:\n",
    "    pass\n",
    "config = Config()\n",
    "config.lr = 0.001\n",
    "config.num_epochs = 250\n",
    "config.bs = 50"
   ]
  },
  {
   "cell_type": "markdown",
   "id": "1385fa59",
   "metadata": {
    "papermill": {
     "duration": 0.026863,
     "end_time": "2022-03-05T20:08:46.708047",
     "exception": false,
     "start_time": "2022-03-05T20:08:46.681184",
     "status": "completed"
    },
    "tags": []
   },
   "source": [
    "### Running Models with the Training data\n",
    "Details about the network layers:\n",
    "- A first affine layer has 784 inputs and does 100 affine transforms. These are followed by a Relu\n",
    "- A second affine layer has 100 inputs from the 100 activations of the past layer, and does 100 affine transforms. These are followed by a Relu\n",
    "- A third affine layer has 100 activations and does 2 affine transformations to create an embedding for visualization. There is no non-linearity here.\n",
    "- A final \"logistic regression\" which has an affine transform from 2 inputs to 1 output, which is squeezed through a sigmoid.\n"
   ]
  },
  {
   "cell_type": "code",
   "execution_count": 17,
   "id": "2b9c66db",
   "metadata": {
    "execution": {
     "iopub.execute_input": "2022-03-05T20:08:46.767226Z",
     "iopub.status.busy": "2022-03-05T20:08:46.766697Z",
     "iopub.status.idle": "2022-03-05T20:08:46.778219Z",
     "shell.execute_reply": "2022-03-05T20:08:46.778662Z"
    },
    "papermill": {
     "duration": 0.043809,
     "end_time": "2022-03-05T20:08:46.778793",
     "exception": false,
     "start_time": "2022-03-05T20:08:46.734984",
     "status": "completed"
    },
    "tags": []
   },
   "outputs": [],
   "source": [
    "data = Data(X_train, y_train.reshape(-1,1))\n",
    "sampler = Sampler(data, config.bs, shuffle=True)\n",
    "\n",
    "dl = Dataloader(data, sampler)\n",
    "\n",
    "opt = GD(config.lr)\n",
    "loss = MSE()"
   ]
  },
  {
   "cell_type": "code",
   "execution_count": 18,
   "id": "b275e4c2",
   "metadata": {
    "execution": {
     "iopub.execute_input": "2022-03-05T20:08:46.837520Z",
     "iopub.status.busy": "2022-03-05T20:08:46.836967Z",
     "iopub.status.idle": "2022-03-05T20:08:46.848174Z",
     "shell.execute_reply": "2022-03-05T20:08:46.847734Z"
    },
    "papermill": {
     "duration": 0.042562,
     "end_time": "2022-03-05T20:08:46.848285",
     "exception": false,
     "start_time": "2022-03-05T20:08:46.805723",
     "status": "completed"
    },
    "tags": []
   },
   "outputs": [],
   "source": [
    "training_data_x = X_train\n",
    "testing_data_x = X_test\n",
    "training_data_y = y_train.reshape(-1,1)\n",
    "testing_data_y = y_test.reshape(-1,1)"
   ]
  },
  {
   "cell_type": "code",
   "execution_count": 19,
   "id": "76951160",
   "metadata": {
    "execution": {
     "iopub.execute_input": "2022-03-05T20:08:46.905800Z",
     "iopub.status.busy": "2022-03-05T20:08:46.905280Z",
     "iopub.status.idle": "2022-03-05T20:08:46.921099Z",
     "shell.execute_reply": "2022-03-05T20:08:46.921485Z"
    },
    "papermill": {
     "duration": 0.046501,
     "end_time": "2022-03-05T20:08:46.921612",
     "exception": false,
     "start_time": "2022-03-05T20:08:46.875111",
     "status": "completed"
    },
    "tags": []
   },
   "outputs": [
    {
     "name": "stdout",
     "output_type": "stream",
     "text": [
      "xavier\n",
      "xavier\n",
      "xavier\n",
      "xavier\n",
      "xavier\n"
     ]
    }
   ],
   "source": [
    "layers = [Affine(\"first\", 784, 100), Relu(\"first\"), Affine(\"second\", 100, 100), Relu(\"second\"), Affine(\"third\", 100, 2), Affine(\"last\", 2, 1), Sigmoid(\"last\")]\n",
    "model_nn = Model(layers)\n",
    "model_lr = Model([Affine(\"logits\", 784, 1), Sigmoid(\"sigmoid\")])"
   ]
  },
  {
   "cell_type": "code",
   "execution_count": 20,
   "id": "6eede77a",
   "metadata": {
    "execution": {
     "iopub.execute_input": "2022-03-05T20:08:46.992882Z",
     "iopub.status.busy": "2022-03-05T20:08:46.992081Z",
     "iopub.status.idle": "2022-03-05T20:08:46.996287Z",
     "shell.execute_reply": "2022-03-05T20:08:46.996697Z"
    },
    "papermill": {
     "duration": 0.048055,
     "end_time": "2022-03-05T20:08:46.996831",
     "exception": false,
     "start_time": "2022-03-05T20:08:46.948776",
     "status": "completed"
    },
    "tags": []
   },
   "outputs": [],
   "source": [
    "nn_learner = Learner(loss, model_nn, opt, config.num_epochs)\n",
    "acc_nn = ClfCallback(nn_learner, config.bs, training_data_x , testing_data_x, training_data_y, testing_data_y)\n",
    "nn_learner.set_callbacks([acc_nn])"
   ]
  },
  {
   "cell_type": "code",
   "execution_count": 21,
   "id": "877b6cc7",
   "metadata": {
    "execution": {
     "iopub.execute_input": "2022-03-05T20:08:47.055339Z",
     "iopub.status.busy": "2022-03-05T20:08:47.054535Z",
     "iopub.status.idle": "2022-03-05T20:08:47.070109Z",
     "shell.execute_reply": "2022-03-05T20:08:47.069668Z"
    },
    "papermill": {
     "duration": 0.046242,
     "end_time": "2022-03-05T20:08:47.070228",
     "exception": false,
     "start_time": "2022-03-05T20:08:47.023986",
     "status": "completed"
    },
    "tags": []
   },
   "outputs": [],
   "source": [
    "lr_learner = Learner(loss, model_lr, opt, config.num_epochs)\n",
    "acc_lr = ClfCallback(lr_learner, config.bs, training_data_x , testing_data_x, training_data_y, testing_data_y)\n",
    "lr_learner.set_callbacks([acc_lr])"
   ]
  },
  {
   "cell_type": "code",
   "execution_count": 22,
   "id": "d9b133c3",
   "metadata": {
    "execution": {
     "iopub.execute_input": "2022-03-05T20:08:47.139266Z",
     "iopub.status.busy": "2022-03-05T20:08:47.138753Z",
     "iopub.status.idle": "2022-03-05T20:10:02.986508Z",
     "shell.execute_reply": "2022-03-05T20:10:02.987208Z"
    },
    "papermill": {
     "duration": 75.889956,
     "end_time": "2022-03-05T20:10:02.987362",
     "exception": false,
     "start_time": "2022-03-05T20:08:47.097406",
     "status": "completed"
    },
    "tags": []
   },
   "outputs": [
    {
     "name": "stdout",
     "output_type": "stream",
     "text": [
      "Epoch 0, Loss 0.2441\n",
      "Training Accuracy: 0.5821, Testing Accuracy: 0.5716\n",
      "\n"
     ]
    },
    {
     "name": "stdout",
     "output_type": "stream",
     "text": [
      "Epoch 10, Loss 0.1809\n",
      "Training Accuracy: 0.8804, Testing Accuracy: 0.8856\n",
      "\n"
     ]
    },
    {
     "name": "stdout",
     "output_type": "stream",
     "text": [
      "Epoch 20, Loss 0.0909\n",
      "Training Accuracy: 0.9127, Testing Accuracy: 0.9219\n",
      "\n"
     ]
    },
    {
     "name": "stdout",
     "output_type": "stream",
     "text": [
      "Epoch 30, Loss 0.061\n",
      "Training Accuracy: 0.9347, Testing Accuracy: 0.9441\n",
      "\n"
     ]
    },
    {
     "name": "stdout",
     "output_type": "stream",
     "text": [
      "Epoch 40, Loss 0.0485\n",
      "Training Accuracy: 0.9459, Testing Accuracy: 0.9556\n",
      "\n"
     ]
    },
    {
     "name": "stdout",
     "output_type": "stream",
     "text": [
      "Epoch 50, Loss 0.042\n",
      "Training Accuracy: 0.9526, Testing Accuracy: 0.9612\n",
      "\n"
     ]
    },
    {
     "name": "stdout",
     "output_type": "stream",
     "text": [
      "Epoch 60, Loss 0.038\n",
      "Training Accuracy: 0.9562, Testing Accuracy: 0.9622\n",
      "\n"
     ]
    },
    {
     "name": "stdout",
     "output_type": "stream",
     "text": [
      "Epoch 70, Loss 0.0353\n",
      "Training Accuracy: 0.9596, Testing Accuracy: 0.9617\n",
      "\n"
     ]
    },
    {
     "name": "stdout",
     "output_type": "stream",
     "text": [
      "Epoch 80, Loss 0.0333\n",
      "Training Accuracy: 0.9618, Testing Accuracy: 0.9652\n",
      "\n"
     ]
    },
    {
     "name": "stdout",
     "output_type": "stream",
     "text": [
      "Epoch 90, Loss 0.0317\n",
      "Training Accuracy: 0.9630, Testing Accuracy: 0.9657\n",
      "\n"
     ]
    },
    {
     "name": "stdout",
     "output_type": "stream",
     "text": [
      "Epoch 100, Loss 0.0304\n",
      "Training Accuracy: 0.9644, Testing Accuracy: 0.9677\n",
      "\n"
     ]
    },
    {
     "name": "stdout",
     "output_type": "stream",
     "text": [
      "Epoch 110, Loss 0.0293\n",
      "Training Accuracy: 0.9659, Testing Accuracy: 0.9688\n",
      "\n"
     ]
    },
    {
     "name": "stdout",
     "output_type": "stream",
     "text": [
      "Epoch 120, Loss 0.0283\n",
      "Training Accuracy: 0.9668, Testing Accuracy: 0.9693\n",
      "\n"
     ]
    },
    {
     "name": "stdout",
     "output_type": "stream",
     "text": [
      "Epoch 130, Loss 0.0275\n",
      "Training Accuracy: 0.9675, Testing Accuracy: 0.9703\n",
      "\n"
     ]
    },
    {
     "name": "stdout",
     "output_type": "stream",
     "text": [
      "Epoch 140, Loss 0.0267\n",
      "Training Accuracy: 0.9686, Testing Accuracy: 0.9713\n",
      "\n"
     ]
    },
    {
     "name": "stdout",
     "output_type": "stream",
     "text": [
      "Epoch 150, Loss 0.0261\n",
      "Training Accuracy: 0.9690, Testing Accuracy: 0.9708\n",
      "\n"
     ]
    },
    {
     "name": "stdout",
     "output_type": "stream",
     "text": [
      "Epoch 160, Loss 0.0255\n",
      "Training Accuracy: 0.9699, Testing Accuracy: 0.9713\n",
      "\n"
     ]
    },
    {
     "name": "stdout",
     "output_type": "stream",
     "text": [
      "Epoch 170, Loss 0.0249\n",
      "Training Accuracy: 0.9705, Testing Accuracy: 0.9713\n",
      "\n"
     ]
    },
    {
     "name": "stdout",
     "output_type": "stream",
     "text": [
      "Epoch 180, Loss 0.0244\n",
      "Training Accuracy: 0.9709, Testing Accuracy: 0.9693\n",
      "\n"
     ]
    },
    {
     "name": "stdout",
     "output_type": "stream",
     "text": [
      "Epoch 190, Loss 0.0239\n",
      "Training Accuracy: 0.9716, Testing Accuracy: 0.9708\n",
      "\n"
     ]
    },
    {
     "name": "stdout",
     "output_type": "stream",
     "text": [
      "Epoch 200, Loss 0.0234\n",
      "Training Accuracy: 0.9725, Testing Accuracy: 0.9708\n",
      "\n"
     ]
    },
    {
     "name": "stdout",
     "output_type": "stream",
     "text": [
      "Epoch 210, Loss 0.0229\n",
      "Training Accuracy: 0.9728, Testing Accuracy: 0.9713\n",
      "\n"
     ]
    },
    {
     "name": "stdout",
     "output_type": "stream",
     "text": [
      "Epoch 220, Loss 0.0225\n",
      "Training Accuracy: 0.9732, Testing Accuracy: 0.9718\n",
      "\n"
     ]
    },
    {
     "name": "stdout",
     "output_type": "stream",
     "text": [
      "Epoch 230, Loss 0.0221\n",
      "Training Accuracy: 0.9741, Testing Accuracy: 0.9713\n",
      "\n"
     ]
    },
    {
     "name": "stdout",
     "output_type": "stream",
     "text": [
      "Epoch 240, Loss 0.0217\n",
      "Training Accuracy: 0.9745, Testing Accuracy: 0.9723\n",
      "\n"
     ]
    },
    {
     "data": {
      "text/plain": [
       "0.005628934000005298"
      ]
     },
     "execution_count": 22,
     "metadata": {},
     "output_type": "execute_result"
    }
   ],
   "source": [
    "nn_learner.train_loop(dl)"
   ]
  },
  {
   "cell_type": "code",
   "execution_count": 23,
   "id": "e0163366",
   "metadata": {
    "execution": {
     "iopub.execute_input": "2022-03-05T20:10:03.067187Z",
     "iopub.status.busy": "2022-03-05T20:10:03.066664Z",
     "iopub.status.idle": "2022-03-05T20:10:16.864996Z",
     "shell.execute_reply": "2022-03-05T20:10:16.865790Z"
    },
    "papermill": {
     "duration": 13.844158,
     "end_time": "2022-03-05T20:10:16.865967",
     "exception": false,
     "start_time": "2022-03-05T20:10:03.021809",
     "status": "completed"
    },
    "tags": []
   },
   "outputs": [
    {
     "name": "stdout",
     "output_type": "stream",
     "text": [
      "Epoch 0, Loss 0.2156\n",
      "Training Accuracy: 0.7735, Testing Accuracy: 0.7737\n",
      "\n"
     ]
    },
    {
     "name": "stdout",
     "output_type": "stream",
     "text": [
      "Epoch 10, Loss 0.0999\n",
      "Training Accuracy: 0.9121, Testing Accuracy: 0.9204\n",
      "\n"
     ]
    },
    {
     "name": "stdout",
     "output_type": "stream",
     "text": [
      "Epoch 20, Loss 0.078\n",
      "Training Accuracy: 0.9291, Testing Accuracy: 0.9365\n",
      "\n"
     ]
    },
    {
     "name": "stdout",
     "output_type": "stream",
     "text": [
      "Epoch 30, Loss 0.0676\n",
      "Training Accuracy: 0.9358, Testing Accuracy: 0.9451\n",
      "\n"
     ]
    },
    {
     "name": "stdout",
     "output_type": "stream",
     "text": [
      "Epoch 40, Loss 0.0613\n",
      "Training Accuracy: 0.9407, Testing Accuracy: 0.9506\n",
      "\n"
     ]
    },
    {
     "name": "stdout",
     "output_type": "stream",
     "text": [
      "Epoch 50, Loss 0.0569\n",
      "Training Accuracy: 0.9436, Testing Accuracy: 0.9521\n",
      "\n"
     ]
    },
    {
     "name": "stdout",
     "output_type": "stream",
     "text": [
      "Epoch 60, Loss 0.0537\n",
      "Training Accuracy: 0.9468, Testing Accuracy: 0.9531\n",
      "\n"
     ]
    },
    {
     "name": "stdout",
     "output_type": "stream",
     "text": [
      "Epoch 70, Loss 0.0512\n",
      "Training Accuracy: 0.9486, Testing Accuracy: 0.9536\n",
      "\n"
     ]
    },
    {
     "name": "stdout",
     "output_type": "stream",
     "text": [
      "Epoch 80, Loss 0.0492\n",
      "Training Accuracy: 0.9503, Testing Accuracy: 0.9561\n",
      "\n"
     ]
    },
    {
     "name": "stdout",
     "output_type": "stream",
     "text": [
      "Epoch 90, Loss 0.0475\n",
      "Training Accuracy: 0.9515, Testing Accuracy: 0.9597\n",
      "\n"
     ]
    },
    {
     "name": "stdout",
     "output_type": "stream",
     "text": [
      "Epoch 100, Loss 0.0461\n",
      "Training Accuracy: 0.9528, Testing Accuracy: 0.9607\n",
      "\n"
     ]
    },
    {
     "name": "stdout",
     "output_type": "stream",
     "text": [
      "Epoch 110, Loss 0.0449\n",
      "Training Accuracy: 0.9538, Testing Accuracy: 0.9622\n",
      "\n"
     ]
    },
    {
     "name": "stdout",
     "output_type": "stream",
     "text": [
      "Epoch 120, Loss 0.0438\n",
      "Training Accuracy: 0.9548, Testing Accuracy: 0.9632\n",
      "\n"
     ]
    },
    {
     "name": "stdout",
     "output_type": "stream",
     "text": [
      "Epoch 130, Loss 0.0429\n",
      "Training Accuracy: 0.9559, Testing Accuracy: 0.9637\n",
      "\n"
     ]
    },
    {
     "name": "stdout",
     "output_type": "stream",
     "text": [
      "Epoch 140, Loss 0.0421\n",
      "Training Accuracy: 0.9562, Testing Accuracy: 0.9652\n",
      "\n"
     ]
    },
    {
     "name": "stdout",
     "output_type": "stream",
     "text": [
      "Epoch 150, Loss 0.0413\n",
      "Training Accuracy: 0.9564, Testing Accuracy: 0.9662\n",
      "\n"
     ]
    },
    {
     "name": "stdout",
     "output_type": "stream",
     "text": [
      "Epoch 160, Loss 0.0406\n",
      "Training Accuracy: 0.9564, Testing Accuracy: 0.9662\n",
      "\n"
     ]
    },
    {
     "name": "stdout",
     "output_type": "stream",
     "text": [
      "Epoch 170, Loss 0.04\n",
      "Training Accuracy: 0.9573, Testing Accuracy: 0.9662\n",
      "\n"
     ]
    },
    {
     "name": "stdout",
     "output_type": "stream",
     "text": [
      "Epoch 180, Loss 0.0395\n",
      "Training Accuracy: 0.9584, Testing Accuracy: 0.9662\n",
      "\n"
     ]
    },
    {
     "name": "stdout",
     "output_type": "stream",
     "text": [
      "Epoch 190, Loss 0.039\n",
      "Training Accuracy: 0.9588, Testing Accuracy: 0.9662\n",
      "\n"
     ]
    },
    {
     "name": "stdout",
     "output_type": "stream",
     "text": [
      "Epoch 200, Loss 0.0385\n",
      "Training Accuracy: 0.9591, Testing Accuracy: 0.9667\n",
      "\n"
     ]
    },
    {
     "name": "stdout",
     "output_type": "stream",
     "text": [
      "Epoch 210, Loss 0.038\n",
      "Training Accuracy: 0.9599, Testing Accuracy: 0.9672\n",
      "\n"
     ]
    },
    {
     "name": "stdout",
     "output_type": "stream",
     "text": [
      "Epoch 220, Loss 0.0376\n",
      "Training Accuracy: 0.9604, Testing Accuracy: 0.9672\n",
      "\n"
     ]
    },
    {
     "name": "stdout",
     "output_type": "stream",
     "text": [
      "Epoch 230, Loss 0.0372\n",
      "Training Accuracy: 0.9607, Testing Accuracy: 0.9672\n",
      "\n"
     ]
    },
    {
     "name": "stdout",
     "output_type": "stream",
     "text": [
      "Epoch 240, Loss 0.0369\n",
      "Training Accuracy: 0.9609, Testing Accuracy: 0.9672\n",
      "\n"
     ]
    },
    {
     "data": {
      "text/plain": [
       "0.042859145931564466"
      ]
     },
     "execution_count": 23,
     "metadata": {},
     "output_type": "execute_result"
    }
   ],
   "source": [
    "lr_learner.train_loop(dl)"
   ]
  },
  {
   "cell_type": "code",
   "execution_count": 24,
   "id": "ca410940",
   "metadata": {
    "execution": {
     "iopub.execute_input": "2022-03-05T20:10:16.959366Z",
     "iopub.status.busy": "2022-03-05T20:10:16.958789Z",
     "iopub.status.idle": "2022-03-05T20:10:17.197113Z",
     "shell.execute_reply": "2022-03-05T20:10:17.196616Z"
    },
    "papermill": {
     "duration": 0.289263,
     "end_time": "2022-03-05T20:10:17.197253",
     "exception": false,
     "start_time": "2022-03-05T20:10:16.907990",
     "status": "completed"
    },
    "tags": []
   },
   "outputs": [
    {
     "data": {
      "text/plain": [
       "<matplotlib.legend.Legend at 0x7f15a08e8da0>"
      ]
     },
     "execution_count": 24,
     "metadata": {},
     "output_type": "execute_result"
    },
    {
     "data": {
      "image/png": "[encoded data removed]",
      "text/plain": [
       "<Figure size 1080x720 with 1 Axes>"
      ]
     },
     "metadata": {
      "needs_background": "light"
     },
     "output_type": "display_data"
    }
   ],
   "source": [
    "#comparing the results of NN and LR\n",
    "plt.figure(figsize=(15,10))\n",
    "\n",
    "# Neural Network plots\n",
    "plt.plot(acc_nn.accuracies, 'r-', label = \"Training Accuracies - NN\")\n",
    "plt.plot(acc_nn.test_accuracies, 'g-', label = \"Testing Accuracies - NN\")\n",
    "\n",
    "# Logistic Regression plots\n",
    "plt.plot(acc_lr.accuracies, 'k-', label = \"Training Accuracies - LR\")\n",
    "plt.plot(acc_lr.test_accuracies, 'b-', label = \"Testing Accuracies - LR\")\n",
    "plt.legend()"
   ]
  },
  {
   "cell_type": "markdown",
   "id": "80dfb35c",
   "metadata": {
    "papermill": {
     "duration": 0.043518,
     "end_time": "2022-03-05T20:10:17.284164",
     "exception": false,
     "start_time": "2022-03-05T20:10:17.240646",
     "status": "completed"
    },
    "tags": []
   },
   "source": [
    "#### Plotting the outputs of this layer of the NN.\n"
   ]
  },
  {
   "cell_type": "code",
   "execution_count": 25,
   "id": "45eb2ff5",
   "metadata": {
    "execution": {
     "iopub.execute_input": "2022-03-05T20:10:17.373672Z",
     "iopub.status.busy": "2022-03-05T20:10:17.373102Z",
     "iopub.status.idle": "2022-03-05T20:10:17.394153Z",
     "shell.execute_reply": "2022-03-05T20:10:17.394590Z"
    },
    "papermill": {
     "duration": 0.068177,
     "end_time": "2022-03-05T20:10:17.394749",
     "exception": false,
     "start_time": "2022-03-05T20:10:17.326572",
     "status": "completed"
    },
    "tags": []
   },
   "outputs": [],
   "source": [
    "new_model = Model(layers[:-2])\n",
    "testing_plot = new_model(testing_data_x)"
   ]
  },
  {
   "cell_type": "code",
   "execution_count": 26,
   "id": "4c0a5485",
   "metadata": {
    "execution": {
     "iopub.execute_input": "2022-03-05T20:10:17.495367Z",
     "iopub.status.busy": "2022-03-05T20:10:17.494819Z",
     "iopub.status.idle": "2022-03-05T20:10:17.692750Z",
     "shell.execute_reply": "2022-03-05T20:10:17.692276Z"
    },
    "papermill": {
     "duration": 0.253916,
     "end_time": "2022-03-05T20:10:17.692874",
     "exception": false,
     "start_time": "2022-03-05T20:10:17.438958",
     "status": "completed"
    },
    "tags": []
   },
   "outputs": [
    {
     "data": {
      "text/plain": [
       "Text(0.5, 1.0, 'Outputs')"
      ]
     },
     "execution_count": 26,
     "metadata": {},
     "output_type": "execute_result"
    },
    {
     "data": {
      "image/png": "[encoded data removed]",
      "text/plain": [
       "<Figure size 576x504 with 1 Axes>"
      ]
     },
     "metadata": {
      "needs_background": "light"
     },
     "output_type": "display_data"
    }
   ],
   "source": [
    "# Plotting the scatter plot of points and color coding by class\n",
    "plt.figure(figsize=(8,7))\n",
    "plt.scatter(testing_plot[:,0], testing_plot[:,1], alpha = 0.1, c = y_test.ravel());\n",
    "plt.title('Outputs')"
   ]
  },
  {
   "cell_type": "markdown",
   "id": "a74fcf8f",
   "metadata": {
    "papermill": {
     "duration": 0.044841,
     "end_time": "2022-03-05T20:10:17.782637",
     "exception": false,
     "start_time": "2022-03-05T20:10:17.737796",
     "status": "completed"
    },
    "tags": []
   },
   "source": [
    "Probability contours"
   ]
  },
  {
   "cell_type": "code",
   "execution_count": 27,
   "id": "d0afc8e3",
   "metadata": {
    "execution": {
     "iopub.execute_input": "2022-03-05T20:10:17.885474Z",
     "iopub.status.busy": "2022-03-05T20:10:17.884909Z",
     "iopub.status.idle": "2022-03-05T20:10:17.891888Z",
     "shell.execute_reply": "2022-03-05T20:10:17.891462Z"
    },
    "papermill": {
     "duration": 0.064438,
     "end_time": "2022-03-05T20:10:17.892009",
     "exception": false,
     "start_time": "2022-03-05T20:10:17.827571",
     "status": "completed"
    },
    "tags": []
   },
   "outputs": [],
   "source": [
    "model_prob = Model(layers[-2:]) "
   ]
  },
  {
   "cell_type": "code",
   "execution_count": 28,
   "id": "9b96e238",
   "metadata": {
    "execution": {
     "iopub.execute_input": "2022-03-05T20:10:18.023630Z",
     "iopub.status.busy": "2022-03-05T20:10:18.023057Z",
     "iopub.status.idle": "2022-03-05T20:10:18.033388Z",
     "shell.execute_reply": "2022-03-05T20:10:18.032966Z"
    },
    "papermill": {
     "duration": 0.067015,
     "end_time": "2022-03-05T20:10:18.033511",
     "exception": false,
     "start_time": "2022-03-05T20:10:17.966496",
     "status": "completed"
    },
    "tags": []
   },
   "outputs": [],
   "source": [
    "#creating the x and y ranges according to the above generated plot.\n",
    "x_range = np.linspace(-4, 1, 100) \n",
    "y_range = np.linspace(-6, 6, 100) \n",
    "x_grid, y_grid = np.meshgrid(x_range, y_range) # x_grid and y_grig are of size 100 X 100\n",
    "\n",
    "# converting x_grid and y_grid to continuous arrays\n",
    "x_gridflat = np.ravel(x_grid)\n",
    "y_gridflat = np.ravel(y_grid)\n",
    "\n",
    "# The last layer of the current model takes two columns as input. Hence transpose of np.vstack() is required.\n",
    "X = np.vstack((x_gridflat, y_gridflat)).T\n",
    "\n",
    "prob_contour = model_prob(X).reshape(100,100) "
   ]
  },
  {
   "cell_type": "code",
   "execution_count": 29,
   "id": "da72499a",
   "metadata": {
    "execution": {
     "iopub.execute_input": "2022-03-05T20:10:18.131512Z",
     "iopub.status.busy": "2022-03-05T20:10:18.130984Z",
     "iopub.status.idle": "2022-03-05T20:10:18.380645Z",
     "shell.execute_reply": "2022-03-05T20:10:18.381037Z"
    },
    "papermill": {
     "duration": 0.30286,
     "end_time": "2022-03-05T20:10:18.381187",
     "exception": false,
     "start_time": "2022-03-05T20:10:18.078327",
     "status": "completed"
    },
    "tags": []
   },
   "outputs": [
    {
     "data": {
      "image/png": "[encoded data removed]",
      "text/plain": [
       "<Figure size 720x648 with 1 Axes>"
      ]
     },
     "metadata": {
      "needs_background": "light"
     },
     "output_type": "display_data"
    }
   ],
   "source": [
    "plt.figure(figsize=(10,9))\n",
    "plt.scatter(testing_plot[:,0], testing_plot[:,1], alpha = 0.1, c = y_test.ravel())\n",
    "contours = plt.contour(x_grid,y_grid,prob_contour)\n",
    "plt.title('Probability Contours')\n",
    "plt.clabel(contours, inline = True );"
   ]
  },
  {
   "cell_type": "code",
   "execution_count": null,
   "id": "e81b4ac7",
   "metadata": {
    "papermill": {
     "duration": 0.047709,
     "end_time": "2022-03-05T20:10:18.477108",
     "exception": false,
     "start_time": "2022-03-05T20:10:18.429399",
     "status": "completed"
    },
    "tags": []
   },
   "outputs": [],
   "source": []
  }
 ],
 "metadata": {
  "kernelspec": {
   "display_name": "Python 3",
   "language": "python",
   "name": "python3"
  },
  "language_info": {
   "codemirror_mode": {
    "name": "ipython",
    "version": 3
   },
   "file_extension": ".py",
   "mimetype": "text/x-python",
   "name": "python",
   "nbconvert_exporter": "python",
   "pygments_lexer": "ipython3",
   "version": "3.6.15"
  },
  "papermill": {
   "default_parameters": {},
   "duration": 98.638898,
   "end_time": "2022-03-05T20:10:18.945355",
   "environment_variables": {},
   "exception": null,
   "input_path": "2020-08-11-part2.ipynb",
   "output_path": "2020-08-11-part2.ipynb",
   "parameters": {},
   "start_time": "2022-03-05T20:08:40.306457",
   "version": "2.3.3"
  }
 },
 "nbformat": 4,
 "nbformat_minor": 5
}