{
 "cells": [
  {
   "cell_type": "markdown",
   "id": "98380cd3",
   "metadata": {
    "papermill": {
     "duration": 0.043127,
     "end_time": "2022-07-08T00:44:46.758832",
     "exception": false,
     "start_time": "2022-07-08T00:44:46.715705",
     "status": "completed"
    },
    "tags": []
   },
   "source": [
    "# Distinguish Your Own Digits (DYOD)"
   ]
  },
  {
   "cell_type": "markdown",
   "id": "ef31240d",
   "metadata": {
    "papermill": {
     "duration": 0.033733,
     "end_time": "2022-07-08T00:44:46.830861",
     "exception": false,
     "start_time": "2022-07-08T00:44:46.797128",
     "status": "completed"
    },
    "tags": []
   },
   "source": [
    "You are going to write a classifier that distinguishes between the number 3 and number 8."
   ]
  },
  {
   "cell_type": "code",
   "execution_count": 1,
   "id": "b15c8646",
   "metadata": {
    "execution": {
     "iopub.execute_input": "2022-07-08T00:44:46.913621Z",
     "iopub.status.busy": "2022-07-08T00:44:46.912627Z",
     "iopub.status.idle": "2022-07-08T00:44:46.928101Z",
     "shell.execute_reply": "2022-07-08T00:44:46.927310Z"
    },
    "papermill": {
     "duration": 0.063179,
     "end_time": "2022-07-08T00:44:46.928282",
     "exception": false,
     "start_time": "2022-07-08T00:44:46.865103",
     "status": "completed"
    },
    "tags": []
   },
   "outputs": [],
   "source": [
    "%load_ext autoreload\n",
    "%autoreload 2"
   ]
  },
  {
   "cell_type": "code",
   "execution_count": 2,
   "id": "22ef38dc",
   "metadata": {
    "execution": {
     "iopub.execute_input": "2022-07-08T00:44:47.001709Z",
     "iopub.status.busy": "2022-07-08T00:44:47.000850Z",
     "iopub.status.idle": "2022-07-08T00:44:47.757913Z",
     "shell.execute_reply": "2022-07-08T00:44:47.757185Z"
    },
    "papermill": {
     "duration": 0.796332,
     "end_time": "2022-07-08T00:44:47.758184",
     "exception": false,
     "start_time": "2022-07-08T00:44:46.961852",
     "status": "completed"
    },
    "tags": []
   },
   "outputs": [],
   "source": [
    "%matplotlib inline\n",
    "import numpy as np\n",
    "import matplotlib.pyplot as plt\n",
    "import pandas as pd"
   ]
  },
  {
   "cell_type": "markdown",
   "id": "ba036198",
   "metadata": {
    "papermill": {
     "duration": 0.033344,
     "end_time": "2022-07-08T00:44:47.826675",
     "exception": false,
     "start_time": "2022-07-08T00:44:47.793331",
     "status": "completed"
    },
    "tags": []
   },
   "source": [
    "From the command line run `pip install mnist`. This is a library that will help you bring down the mnist dataset. If you run this from a notebook, you need to put  `!pip install mnist` in a cell by itself."
   ]
  },
  {
   "cell_type": "code",
   "execution_count": 3,
   "id": "bb6ad8a1",
   "metadata": {
    "execution": {
     "iopub.execute_input": "2022-07-08T00:44:47.901248Z",
     "iopub.status.busy": "2022-07-08T00:44:47.900364Z",
     "iopub.status.idle": "2022-07-08T00:44:50.210768Z",
     "shell.execute_reply": "2022-07-08T00:44:50.210141Z"
    },
    "papermill": {
     "duration": 2.35146,
     "end_time": "2022-07-08T00:44:50.210925",
     "exception": false,
     "start_time": "2022-07-08T00:44:47.859465",
     "status": "completed"
    },
    "tags": []
   },
   "outputs": [
    {
     "name": "stdout",
     "output_type": "stream",
     "text": [
      "Collecting mnist\r\n"
     ]
    },
    {
     "name": "stdout",
     "output_type": "stream",
     "text": [
      "  Downloading mnist-0.2.2-py2.py3-none-any.whl (3.5 kB)\r\n",
      "Requirement already satisfied: numpy in /opt/hostedtoolcache/Python/3.6.15/x64/lib/python3.6/site-packages (from mnist) (1.19.5)\r\n"
     ]
    },
    {
     "name": "stdout",
     "output_type": "stream",
     "text": [
      "Installing collected packages: mnist\r\n"
     ]
    },
    {
     "name": "stdout",
     "output_type": "stream",
     "text": [
      "Successfully installed mnist-0.2.2\r\n"
     ]
    }
   ],
   "source": [
    "!pip install mnist"
   ]
  },
  {
   "cell_type": "markdown",
   "id": "69df9c9a",
   "metadata": {
    "papermill": {
     "duration": 0.035417,
     "end_time": "2022-07-08T00:44:50.286079",
     "exception": false,
     "start_time": "2022-07-08T00:44:50.250662",
     "status": "completed"
    },
    "tags": []
   },
   "source": [
    "## Preparing the Data"
   ]
  },
  {
   "cell_type": "code",
   "execution_count": 4,
   "id": "7f69d806",
   "metadata": {
    "execution": {
     "iopub.execute_input": "2022-07-08T00:44:50.387179Z",
     "iopub.status.busy": "2022-07-08T00:44:50.375921Z",
     "iopub.status.idle": "2022-07-08T00:44:50.394866Z",
     "shell.execute_reply": "2022-07-08T00:44:50.394169Z"
    },
    "papermill": {
     "duration": 0.066878,
     "end_time": "2022-07-08T00:44:50.395025",
     "exception": false,
     "start_time": "2022-07-08T00:44:50.328147",
     "status": "completed"
    },
    "tags": []
   },
   "outputs": [],
   "source": [
    "import mnist"
   ]
  },
  {
   "cell_type": "code",
   "execution_count": 5,
   "id": "a411e44f",
   "metadata": {
    "execution": {
     "iopub.execute_input": "2022-07-08T00:44:50.474763Z",
     "iopub.status.busy": "2022-07-08T00:44:50.473930Z",
     "iopub.status.idle": "2022-07-08T00:44:51.172096Z",
     "shell.execute_reply": "2022-07-08T00:44:51.171412Z"
    },
    "papermill": {
     "duration": 0.741842,
     "end_time": "2022-07-08T00:44:51.172272",
     "exception": false,
     "start_time": "2022-07-08T00:44:50.430430",
     "status": "completed"
    },
    "tags": []
   },
   "outputs": [],
   "source": [
    "train_images = mnist.train_images()\n",
    "train_labels = mnist.train_labels()"
   ]
  },
  {
   "cell_type": "code",
   "execution_count": 6,
   "id": "dceab3a5",
   "metadata": {
    "execution": {
     "iopub.execute_input": "2022-07-08T00:44:51.246595Z",
     "iopub.status.busy": "2022-07-08T00:44:51.245795Z",
     "iopub.status.idle": "2022-07-08T00:44:51.263988Z",
     "shell.execute_reply": "2022-07-08T00:44:51.264602Z"
    },
    "papermill": {
     "duration": 0.058057,
     "end_time": "2022-07-08T00:44:51.264778",
     "exception": false,
     "start_time": "2022-07-08T00:44:51.206721",
     "status": "completed"
    },
    "tags": []
   },
   "outputs": [
    {
     "data": {
      "text/plain": [
       "((60000, 28, 28), (60000,))"
      ]
     },
     "execution_count": 6,
     "metadata": {},
     "output_type": "execute_result"
    }
   ],
   "source": [
    "train_images.shape, train_labels.shape"
   ]
  },
  {
   "cell_type": "code",
   "execution_count": 7,
   "id": "f50dc2bb",
   "metadata": {
    "execution": {
     "iopub.execute_input": "2022-07-08T00:44:51.342721Z",
     "iopub.status.busy": "2022-07-08T00:44:51.341934Z",
     "iopub.status.idle": "2022-07-08T00:44:51.544253Z",
     "shell.execute_reply": "2022-07-08T00:44:51.543595Z"
    },
    "papermill": {
     "duration": 0.245059,
     "end_time": "2022-07-08T00:44:51.544406",
     "exception": false,
     "start_time": "2022-07-08T00:44:51.299347",
     "status": "completed"
    },
    "tags": []
   },
   "outputs": [],
   "source": [
    "test_images = mnist.test_images()\n",
    "test_labels = mnist.test_labels()"
   ]
  },
  {
   "cell_type": "code",
   "execution_count": 8,
   "id": "fc38cf1b",
   "metadata": {
    "execution": {
     "iopub.execute_input": "2022-07-08T00:44:51.620639Z",
     "iopub.status.busy": "2022-07-08T00:44:51.619666Z",
     "iopub.status.idle": "2022-07-08T00:44:51.635751Z",
     "shell.execute_reply": "2022-07-08T00:44:51.636534Z"
    },
    "papermill": {
     "duration": 0.05739,
     "end_time": "2022-07-08T00:44:51.636704",
     "exception": false,
     "start_time": "2022-07-08T00:44:51.579314",
     "status": "completed"
    },
    "tags": []
   },
   "outputs": [
    {
     "data": {
      "text/plain": [
       "((10000, 28, 28), (10000,))"
      ]
     },
     "execution_count": 8,
     "metadata": {},
     "output_type": "execute_result"
    }
   ],
   "source": [
    "test_images.shape, test_labels.shape"
   ]
  },
  {
   "cell_type": "code",
   "execution_count": 9,
   "id": "f9ed8fe0",
   "metadata": {
    "execution": {
     "iopub.execute_input": "2022-07-08T00:44:51.713118Z",
     "iopub.status.busy": "2022-07-08T00:44:51.712279Z",
     "iopub.status.idle": "2022-07-08T00:44:51.920282Z",
     "shell.execute_reply": "2022-07-08T00:44:51.919608Z"
    },
    "papermill": {
     "duration": 0.248511,
     "end_time": "2022-07-08T00:44:51.920465",
     "exception": false,
     "start_time": "2022-07-08T00:44:51.671954",
     "status": "completed"
    },
    "tags": []
   },
   "outputs": [
    {
     "name": "stdout",
     "output_type": "stream",
     "text": [
      "2\n"
     ]
    },
    {
     "data": {
      "text/plain": [
       "<matplotlib.image.AxesImage at 0x7ffbadf0c4a8>"
      ]
     },
     "execution_count": 9,
     "metadata": {},
     "output_type": "execute_result"
    },
    {
     "data": {
      "image/png": "[encoded data removed]",
      "text/plain": [
       "<Figure size 432x288 with 1 Axes>"
      ]
     },
     "metadata": {
      "needs_background": "light"
     },
     "output_type": "display_data"
    }
   ],
   "source": [
    "image_index = 7776 # You may select anything up to 60,000\n",
    "print(train_labels[image_index]) \n",
    "plt.imshow(train_images[image_index], cmap='Greys')"
   ]
  },
  {
   "cell_type": "markdown",
   "id": "a8d2388d",
   "metadata": {
    "papermill": {
     "duration": 0.035749,
     "end_time": "2022-07-08T00:44:51.993530",
     "exception": false,
     "start_time": "2022-07-08T00:44:51.957781",
     "status": "completed"
    },
    "tags": []
   },
   "source": [
    "## Filter data to get 3 and 8 out"
   ]
  },
  {
   "cell_type": "code",
   "execution_count": 10,
   "id": "776f7fc7",
   "metadata": {
    "execution": {
     "iopub.execute_input": "2022-07-08T00:44:52.076761Z",
     "iopub.status.busy": "2022-07-08T00:44:52.075169Z",
     "iopub.status.idle": "2022-07-08T00:44:52.099740Z",
     "shell.execute_reply": "2022-07-08T00:44:52.099028Z"
    },
    "papermill": {
     "duration": 0.06728,
     "end_time": "2022-07-08T00:44:52.099902",
     "exception": false,
     "start_time": "2022-07-08T00:44:52.032622",
     "status": "completed"
    },
    "tags": []
   },
   "outputs": [],
   "source": [
    "train_filter = np.where((train_labels == 3 ) | (train_labels == 8))\n",
    "test_filter = np.where((test_labels == 3) | (test_labels == 8))\n",
    "X_train, y_train = train_images[train_filter], train_labels[train_filter]\n",
    "X_test, y_test = test_images[test_filter], test_labels[test_filter]"
   ]
  },
  {
   "cell_type": "markdown",
   "id": "948f0b7e",
   "metadata": {
    "papermill": {
     "duration": 0.036563,
     "end_time": "2022-07-08T00:44:52.173467",
     "exception": false,
     "start_time": "2022-07-08T00:44:52.136904",
     "status": "completed"
    },
    "tags": []
   },
   "source": [
    "We normalize the pizel values in the 0 to 1 range"
   ]
  },
  {
   "cell_type": "code",
   "execution_count": 11,
   "id": "ee4c2166",
   "metadata": {
    "execution": {
     "iopub.execute_input": "2022-07-08T00:44:52.251566Z",
     "iopub.status.busy": "2022-07-08T00:44:52.250729Z",
     "iopub.status.idle": "2022-07-08T00:44:52.318608Z",
     "shell.execute_reply": "2022-07-08T00:44:52.319204Z"
    },
    "papermill": {
     "duration": 0.109326,
     "end_time": "2022-07-08T00:44:52.319394",
     "exception": false,
     "start_time": "2022-07-08T00:44:52.210068",
     "status": "completed"
    },
    "tags": []
   },
   "outputs": [],
   "source": [
    "X_train = X_train/255.\n",
    "X_test = X_test/255."
   ]
  },
  {
   "cell_type": "markdown",
   "id": "ddcf4fab",
   "metadata": {
    "papermill": {
     "duration": 0.036425,
     "end_time": "2022-07-08T00:44:52.392159",
     "exception": false,
     "start_time": "2022-07-08T00:44:52.355734",
     "status": "completed"
    },
    "tags": []
   },
   "source": [
    "And setup the labels as 1 (when the digit is 3) and 0 (when the digit is 8)"
   ]
  },
  {
   "cell_type": "code",
   "execution_count": 12,
   "id": "7dc908f2",
   "metadata": {
    "execution": {
     "iopub.execute_input": "2022-07-08T00:44:52.469794Z",
     "iopub.status.busy": "2022-07-08T00:44:52.468965Z",
     "iopub.status.idle": "2022-07-08T00:44:52.486569Z",
     "shell.execute_reply": "2022-07-08T00:44:52.485840Z"
    },
    "papermill": {
     "duration": 0.057971,
     "end_time": "2022-07-08T00:44:52.486729",
     "exception": false,
     "start_time": "2022-07-08T00:44:52.428758",
     "status": "completed"
    },
    "tags": []
   },
   "outputs": [],
   "source": [
    "y_train = 1*(y_train==3)\n",
    "y_test = 1*(y_test==3)"
   ]
  },
  {
   "cell_type": "code",
   "execution_count": 13,
   "id": "01e4e969",
   "metadata": {
    "execution": {
     "iopub.execute_input": "2022-07-08T00:44:52.566170Z",
     "iopub.status.busy": "2022-07-08T00:44:52.564938Z",
     "iopub.status.idle": "2022-07-08T00:44:52.582230Z",
     "shell.execute_reply": "2022-07-08T00:44:52.581276Z"
    },
    "papermill": {
     "duration": 0.058907,
     "end_time": "2022-07-08T00:44:52.582431",
     "exception": false,
     "start_time": "2022-07-08T00:44:52.523524",
     "status": "completed"
    },
    "tags": []
   },
   "outputs": [
    {
     "data": {
      "text/plain": [
       "((11982, 28, 28), (1984, 28, 28))"
      ]
     },
     "execution_count": 13,
     "metadata": {},
     "output_type": "execute_result"
    }
   ],
   "source": [
    "X_train.shape, X_test.shape"
   ]
  },
  {
   "cell_type": "markdown",
   "id": "5ccf3f85",
   "metadata": {
    "papermill": {
     "duration": 0.036969,
     "end_time": "2022-07-08T00:44:52.657273",
     "exception": false,
     "start_time": "2022-07-08T00:44:52.620304",
     "status": "completed"
    },
    "tags": []
   },
   "source": [
    "We reshape the data to flatten the image pixels into a set of features or co-variates:"
   ]
  },
  {
   "cell_type": "code",
   "execution_count": 14,
   "id": "5286a4a3",
   "metadata": {
    "execution": {
     "iopub.execute_input": "2022-07-08T00:44:52.746881Z",
     "iopub.status.busy": "2022-07-08T00:44:52.746086Z",
     "iopub.status.idle": "2022-07-08T00:44:52.766097Z",
     "shell.execute_reply": "2022-07-08T00:44:52.765262Z"
    },
    "papermill": {
     "duration": 0.070965,
     "end_time": "2022-07-08T00:44:52.766255",
     "exception": false,
     "start_time": "2022-07-08T00:44:52.695290",
     "status": "completed"
    },
    "tags": []
   },
   "outputs": [
    {
     "data": {
      "text/plain": [
       "((11982, 784), (1984, 784))"
      ]
     },
     "execution_count": 14,
     "metadata": {},
     "output_type": "execute_result"
    }
   ],
   "source": [
    "X_train = X_train.reshape(X_train.shape[0], -1)\n",
    "X_test = X_test.reshape(X_test.shape[0], -1)\n",
    "X_train.shape, X_test.shape"
   ]
  },
  {
   "cell_type": "code",
   "execution_count": 15,
   "id": "73c5f88a",
   "metadata": {
    "execution": {
     "iopub.execute_input": "2022-07-08T00:44:52.858288Z",
     "iopub.status.busy": "2022-07-08T00:44:52.852296Z",
     "iopub.status.idle": "2022-07-08T00:44:52.879741Z",
     "shell.execute_reply": "2022-07-08T00:44:52.879076Z"
    },
    "papermill": {
     "duration": 0.073102,
     "end_time": "2022-07-08T00:44:52.879892",
     "exception": false,
     "start_time": "2022-07-08T00:44:52.806790",
     "status": "completed"
    },
    "tags": []
   },
   "outputs": [],
   "source": [
    "#Impoting functions from 'Kudzu'\n",
    "from kudzu.model import Model\n",
    "from kudzu.train import Learner\n",
    "from kudzu.optim import GD\n",
    "from kudzu.data import Data, Sampler,Dataloader\n",
    "\n",
    "from kudzu.callbacks import AccCallback\n",
    "from kudzu.callbacks import ClfCallback\n",
    "\n",
    "from kudzu.loss import MSE\n",
    "\n",
    "from kudzu.layer import Sigmoid,Relu\n",
    "from kudzu.layer import Affine"
   ]
  },
  {
   "cell_type": "markdown",
   "id": "bc01172a",
   "metadata": {
    "papermill": {
     "duration": 0.040217,
     "end_time": "2022-07-08T00:44:52.960349",
     "exception": false,
     "start_time": "2022-07-08T00:44:52.920132",
     "status": "completed"
    },
    "tags": []
   },
   "source": [
    "### Let us create a `Config` class, to store important parameters. \n",
    "This class essentially plays the role of a dictionary."
   ]
  },
  {
   "cell_type": "code",
   "execution_count": 16,
   "id": "978281aa",
   "metadata": {
    "execution": {
     "iopub.execute_input": "2022-07-08T00:44:53.046099Z",
     "iopub.status.busy": "2022-07-08T00:44:53.045168Z",
     "iopub.status.idle": "2022-07-08T00:44:53.062048Z",
     "shell.execute_reply": "2022-07-08T00:44:53.061388Z"
    },
    "papermill": {
     "duration": 0.060815,
     "end_time": "2022-07-08T00:44:53.062203",
     "exception": false,
     "start_time": "2022-07-08T00:44:53.001388",
     "status": "completed"
    },
    "tags": []
   },
   "outputs": [],
   "source": [
    "class Config:\n",
    "    pass\n",
    "config = Config()\n",
    "config.lr = 0.001\n",
    "config.num_epochs = 250\n",
    "config.bs = 50"
   ]
  },
  {
   "cell_type": "markdown",
   "id": "1385fa59",
   "metadata": {
    "papermill": {
     "duration": 0.038485,
     "end_time": "2022-07-08T00:44:53.138756",
     "exception": false,
     "start_time": "2022-07-08T00:44:53.100271",
     "status": "completed"
    },
    "tags": []
   },
   "source": [
    "### Running Models with the Training data\n",
    "Details about the network layers:\n",
    "- A first affine layer has 784 inputs and does 100 affine transforms. These are followed by a Relu\n",
    "- A second affine layer has 100 inputs from the 100 activations of the past layer, and does 100 affine transforms. These are followed by a Relu\n",
    "- A third affine layer has 100 activations and does 2 affine transformations to create an embedding for visualization. There is no non-linearity here.\n",
    "- A final \"logistic regression\" which has an affine transform from 2 inputs to 1 output, which is squeezed through a sigmoid.\n"
   ]
  },
  {
   "cell_type": "code",
   "execution_count": 17,
   "id": "2b9c66db",
   "metadata": {
    "execution": {
     "iopub.execute_input": "2022-07-08T00:44:53.222567Z",
     "iopub.status.busy": "2022-07-08T00:44:53.221737Z",
     "iopub.status.idle": "2022-07-08T00:44:53.235941Z",
     "shell.execute_reply": "2022-07-08T00:44:53.235265Z"
    },
    "papermill": {
     "duration": 0.059251,
     "end_time": "2022-07-08T00:44:53.236171",
     "exception": false,
     "start_time": "2022-07-08T00:44:53.176920",
     "status": "completed"
    },
    "tags": []
   },
   "outputs": [],
   "source": [
    "data = Data(X_train, y_train.reshape(-1,1))\n",
    "sampler = Sampler(data, config.bs, shuffle=True)\n",
    "\n",
    "dl = Dataloader(data, sampler)\n",
    "\n",
    "opt = GD(config.lr)\n",
    "loss = MSE()"
   ]
  },
  {
   "cell_type": "code",
   "execution_count": 18,
   "id": "b275e4c2",
   "metadata": {
    "execution": {
     "iopub.execute_input": "2022-07-08T00:44:53.330372Z",
     "iopub.status.busy": "2022-07-08T00:44:53.329437Z",
     "iopub.status.idle": "2022-07-08T00:44:53.345334Z",
     "shell.execute_reply": "2022-07-08T00:44:53.344607Z"
    },
    "papermill": {
     "duration": 0.07096,
     "end_time": "2022-07-08T00:44:53.345479",
     "exception": false,
     "start_time": "2022-07-08T00:44:53.274519",
     "status": "completed"
    },
    "tags": []
   },
   "outputs": [],
   "source": [
    "training_data_x = X_train\n",
    "testing_data_x = X_test\n",
    "training_data_y = y_train.reshape(-1,1)\n",
    "testing_data_y = y_test.reshape(-1,1)"
   ]
  },
  {
   "cell_type": "code",
   "execution_count": 19,
   "id": "76951160",
   "metadata": {
    "execution": {
     "iopub.execute_input": "2022-07-08T00:44:53.428563Z",
     "iopub.status.busy": "2022-07-08T00:44:53.427789Z",
     "iopub.status.idle": "2022-07-08T00:44:53.448928Z",
     "shell.execute_reply": "2022-07-08T00:44:53.448282Z"
    },
    "papermill": {
     "duration": 0.066327,
     "end_time": "2022-07-08T00:44:53.449106",
     "exception": false,
     "start_time": "2022-07-08T00:44:53.382779",
     "status": "completed"
    },
    "tags": []
   },
   "outputs": [
    {
     "name": "stdout",
     "output_type": "stream",
     "text": [
      "xavier\n",
      "xavier\n",
      "xavier\n",
      "xavier\n",
      "xavier\n"
     ]
    }
   ],
   "source": [
    "layers = [Affine(\"first\", 784, 100), Relu(\"first\"), Affine(\"second\", 100, 100), Relu(\"second\"), Affine(\"third\", 100, 2), Affine(\"last\", 2, 1), Sigmoid(\"last\")]\n",
    "model_nn = Model(layers)\n",
    "model_lr = Model([Affine(\"logits\", 784, 1), Sigmoid(\"sigmoid\")])"
   ]
  },
  {
   "cell_type": "code",
   "execution_count": 20,
   "id": "6eede77a",
   "metadata": {
    "execution": {
     "iopub.execute_input": "2022-07-08T00:44:53.530772Z",
     "iopub.status.busy": "2022-07-08T00:44:53.529989Z",
     "iopub.status.idle": "2022-07-08T00:44:53.546450Z",
     "shell.execute_reply": "2022-07-08T00:44:53.545595Z"
    },
    "papermill": {
     "duration": 0.058644,
     "end_time": "2022-07-08T00:44:53.546661",
     "exception": false,
     "start_time": "2022-07-08T00:44:53.488017",
     "status": "completed"
    },
    "tags": []
   },
   "outputs": [],
   "source": [
    "nn_learner = Learner(loss, model_nn, opt, config.num_epochs)\n",
    "acc_nn = ClfCallback(nn_learner, config.bs, training_data_x , testing_data_x, training_data_y, testing_data_y)\n",
    "nn_learner.set_callbacks([acc_nn])"
   ]
  },
  {
   "cell_type": "code",
   "execution_count": 21,
   "id": "877b6cc7",
   "metadata": {
    "execution": {
     "iopub.execute_input": "2022-07-08T00:44:53.630981Z",
     "iopub.status.busy": "2022-07-08T00:44:53.630209Z",
     "iopub.status.idle": "2022-07-08T00:44:53.645685Z",
     "shell.execute_reply": "2022-07-08T00:44:53.644992Z"
    },
    "papermill": {
     "duration": 0.059338,
     "end_time": "2022-07-08T00:44:53.645838",
     "exception": false,
     "start_time": "2022-07-08T00:44:53.586500",
     "status": "completed"
    },
    "tags": []
   },
   "outputs": [],
   "source": [
    "lr_learner = Learner(loss, model_lr, opt, config.num_epochs)\n",
    "acc_lr = ClfCallback(lr_learner, config.bs, training_data_x , testing_data_x, training_data_y, testing_data_y)\n",
    "lr_learner.set_callbacks([acc_lr])"
   ]
  },
  {
   "cell_type": "code",
   "execution_count": 22,
   "id": "d9b133c3",
   "metadata": {
    "execution": {
     "iopub.execute_input": "2022-07-08T00:44:53.731085Z",
     "iopub.status.busy": "2022-07-08T00:44:53.730155Z",
     "iopub.status.idle": "2022-07-08T00:47:21.580283Z",
     "shell.execute_reply": "2022-07-08T00:47:21.581394Z"
    },
    "papermill": {
     "duration": 147.896782,
     "end_time": "2022-07-08T00:47:21.581589",
     "exception": false,
     "start_time": "2022-07-08T00:44:53.684807",
     "status": "completed"
    },
    "tags": []
   },
   "outputs": [
    {
     "name": "stdout",
     "output_type": "stream",
     "text": [
      "Epoch 0, Loss 0.2371\n",
      "Training Accuracy: 0.7530, Testing Accuracy: 0.7576\n",
      "\n"
     ]
    },
    {
     "name": "stdout",
     "output_type": "stream",
     "text": [
      "Epoch 10, Loss 0.085\n",
      "Training Accuracy: 0.9317, Testing Accuracy: 0.9395\n",
      "\n"
     ]
    },
    {
     "name": "stdout",
     "output_type": "stream",
     "text": [
      "Epoch 20, Loss 0.0522\n",
      "Training Accuracy: 0.9480, Testing Accuracy: 0.9531\n",
      "\n"
     ]
    },
    {
     "name": "stdout",
     "output_type": "stream",
     "text": [
      "Epoch 30, Loss 0.0416\n",
      "Training Accuracy: 0.9559, Testing Accuracy: 0.9602\n",
      "\n"
     ]
    },
    {
     "name": "stdout",
     "output_type": "stream",
     "text": [
      "Epoch 40, Loss 0.0362\n",
      "Training Accuracy: 0.9608, Testing Accuracy: 0.9647\n",
      "\n"
     ]
    },
    {
     "name": "stdout",
     "output_type": "stream",
     "text": [
      "Epoch 50, Loss 0.033\n",
      "Training Accuracy: 0.9633, Testing Accuracy: 0.9662\n",
      "\n"
     ]
    },
    {
     "name": "stdout",
     "output_type": "stream",
     "text": [
      "Epoch 60, Loss 0.0307\n",
      "Training Accuracy: 0.9659, Testing Accuracy: 0.9682\n",
      "\n"
     ]
    },
    {
     "name": "stdout",
     "output_type": "stream",
     "text": [
      "Epoch 70, Loss 0.029\n",
      "Training Accuracy: 0.9673, Testing Accuracy: 0.9682\n",
      "\n"
     ]
    },
    {
     "name": "stdout",
     "output_type": "stream",
     "text": [
      "Epoch 80, Loss 0.0276\n",
      "Training Accuracy: 0.9690, Testing Accuracy: 0.9677\n",
      "\n"
     ]
    },
    {
     "name": "stdout",
     "output_type": "stream",
     "text": [
      "Epoch 90, Loss 0.0265\n",
      "Training Accuracy: 0.9700, Testing Accuracy: 0.9677\n",
      "\n"
     ]
    },
    {
     "name": "stdout",
     "output_type": "stream",
     "text": [
      "Epoch 100, Loss 0.0255\n",
      "Training Accuracy: 0.9711, Testing Accuracy: 0.9682\n",
      "\n"
     ]
    },
    {
     "name": "stdout",
     "output_type": "stream",
     "text": [
      "Epoch 110, Loss 0.0247\n",
      "Training Accuracy: 0.9718, Testing Accuracy: 0.9682\n",
      "\n"
     ]
    },
    {
     "name": "stdout",
     "output_type": "stream",
     "text": [
      "Epoch 120, Loss 0.024\n",
      "Training Accuracy: 0.9725, Testing Accuracy: 0.9703\n",
      "\n"
     ]
    },
    {
     "name": "stdout",
     "output_type": "stream",
     "text": [
      "Epoch 130, Loss 0.0233\n",
      "Training Accuracy: 0.9734, Testing Accuracy: 0.9708\n",
      "\n"
     ]
    },
    {
     "name": "stdout",
     "output_type": "stream",
     "text": [
      "Epoch 140, Loss 0.0227\n",
      "Training Accuracy: 0.9738, Testing Accuracy: 0.9713\n",
      "\n"
     ]
    },
    {
     "name": "stdout",
     "output_type": "stream",
     "text": [
      "Epoch 150, Loss 0.0222\n",
      "Training Accuracy: 0.9746, Testing Accuracy: 0.9713\n",
      "\n"
     ]
    },
    {
     "name": "stdout",
     "output_type": "stream",
     "text": [
      "Epoch 160, Loss 0.0216\n",
      "Training Accuracy: 0.9749, Testing Accuracy: 0.9718\n",
      "\n"
     ]
    },
    {
     "name": "stdout",
     "output_type": "stream",
     "text": [
      "Epoch 170, Loss 0.0211\n",
      "Training Accuracy: 0.9755, Testing Accuracy: 0.9723\n",
      "\n"
     ]
    },
    {
     "name": "stdout",
     "output_type": "stream",
     "text": [
      "Epoch 180, Loss 0.0207\n",
      "Training Accuracy: 0.9763, Testing Accuracy: 0.9728\n",
      "\n"
     ]
    },
    {
     "name": "stdout",
     "output_type": "stream",
     "text": [
      "Epoch 190, Loss 0.0202\n",
      "Training Accuracy: 0.9773, Testing Accuracy: 0.9733\n",
      "\n"
     ]
    },
    {
     "name": "stdout",
     "output_type": "stream",
     "text": [
      "Epoch 200, Loss 0.0198\n",
      "Training Accuracy: 0.9777, Testing Accuracy: 0.9733\n",
      "\n"
     ]
    },
    {
     "name": "stdout",
     "output_type": "stream",
     "text": [
      "Epoch 210, Loss 0.0194\n",
      "Training Accuracy: 0.9784, Testing Accuracy: 0.9733\n",
      "\n"
     ]
    },
    {
     "name": "stdout",
     "output_type": "stream",
     "text": [
      "Epoch 220, Loss 0.0189\n",
      "Training Accuracy: 0.9792, Testing Accuracy: 0.9733\n",
      "\n"
     ]
    },
    {
     "name": "stdout",
     "output_type": "stream",
     "text": [
      "Epoch 230, Loss 0.0186\n",
      "Training Accuracy: 0.9801, Testing Accuracy: 0.9733\n",
      "\n"
     ]
    },
    {
     "name": "stdout",
     "output_type": "stream",
     "text": [
      "Epoch 240, Loss 0.0182\n",
      "Training Accuracy: 0.9806, Testing Accuracy: 0.9738\n",
      "\n"
     ]
    },
    {
     "data": {
      "text/plain": [
       "0.07728909799989253"
      ]
     },
     "execution_count": 22,
     "metadata": {},
     "output_type": "execute_result"
    }
   ],
   "source": [
    "nn_learner.train_loop(dl)"
   ]
  },
  {
   "cell_type": "code",
   "execution_count": 23,
   "id": "e0163366",
   "metadata": {
    "execution": {
     "iopub.execute_input": "2022-07-08T00:47:21.692282Z",
     "iopub.status.busy": "2022-07-08T00:47:21.691373Z",
     "iopub.status.idle": "2022-07-08T00:47:42.469207Z",
     "shell.execute_reply": "2022-07-08T00:47:42.470604Z"
    },
    "papermill": {
     "duration": 20.841663,
     "end_time": "2022-07-08T00:47:42.470798",
     "exception": false,
     "start_time": "2022-07-08T00:47:21.629135",
     "status": "completed"
    },
    "tags": []
   },
   "outputs": [
    {
     "name": "stdout",
     "output_type": "stream",
     "text": [
      "Epoch 0, Loss 0.2651\n",
      "Training Accuracy: 0.5971, Testing Accuracy: 0.5761\n",
      "\n"
     ]
    },
    {
     "name": "stdout",
     "output_type": "stream",
     "text": [
      "Epoch 10, Loss 0.1049\n",
      "Training Accuracy: 0.9078, Testing Accuracy: 0.9153\n",
      "\n"
     ]
    },
    {
     "name": "stdout",
     "output_type": "stream",
     "text": [
      "Epoch 20, Loss 0.0797\n",
      "Training Accuracy: 0.9266, Testing Accuracy: 0.9380\n",
      "\n"
     ]
    },
    {
     "name": "stdout",
     "output_type": "stream",
     "text": [
      "Epoch 30, Loss 0.0684\n",
      "Training Accuracy: 0.9351, Testing Accuracy: 0.9481\n",
      "\n"
     ]
    },
    {
     "name": "stdout",
     "output_type": "stream",
     "text": [
      "Epoch 40, Loss 0.0617\n",
      "Training Accuracy: 0.9392, Testing Accuracy: 0.9526\n",
      "\n"
     ]
    },
    {
     "name": "stdout",
     "output_type": "stream",
     "text": [
      "Epoch 50, Loss 0.0572\n",
      "Training Accuracy: 0.9431, Testing Accuracy: 0.9551\n",
      "\n"
     ]
    },
    {
     "name": "stdout",
     "output_type": "stream",
     "text": [
      "Epoch 60, Loss 0.0538\n",
      "Training Accuracy: 0.9456, Testing Accuracy: 0.9551\n",
      "\n"
     ]
    },
    {
     "name": "stdout",
     "output_type": "stream",
     "text": [
      "Epoch 70, Loss 0.0513\n",
      "Training Accuracy: 0.9476, Testing Accuracy: 0.9567\n",
      "\n"
     ]
    },
    {
     "name": "stdout",
     "output_type": "stream",
     "text": [
      "Epoch 80, Loss 0.0492\n",
      "Training Accuracy: 0.9488, Testing Accuracy: 0.9587\n",
      "\n"
     ]
    },
    {
     "name": "stdout",
     "output_type": "stream",
     "text": [
      "Epoch 90, Loss 0.0475\n",
      "Training Accuracy: 0.9505, Testing Accuracy: 0.9597\n",
      "\n"
     ]
    },
    {
     "name": "stdout",
     "output_type": "stream",
     "text": [
      "Epoch 100, Loss 0.0461\n",
      "Training Accuracy: 0.9515, Testing Accuracy: 0.9607\n",
      "\n"
     ]
    },
    {
     "name": "stdout",
     "output_type": "stream",
     "text": [
      "Epoch 110, Loss 0.0449\n",
      "Training Accuracy: 0.9523, Testing Accuracy: 0.9602\n",
      "\n"
     ]
    },
    {
     "name": "stdout",
     "output_type": "stream",
     "text": [
      "Epoch 120, Loss 0.0438\n",
      "Training Accuracy: 0.9531, Testing Accuracy: 0.9602\n",
      "\n"
     ]
    },
    {
     "name": "stdout",
     "output_type": "stream",
     "text": [
      "Epoch 130, Loss 0.0429\n",
      "Training Accuracy: 0.9541, Testing Accuracy: 0.9607\n",
      "\n"
     ]
    },
    {
     "name": "stdout",
     "output_type": "stream",
     "text": [
      "Epoch 140, Loss 0.042\n",
      "Training Accuracy: 0.9548, Testing Accuracy: 0.9612\n",
      "\n"
     ]
    },
    {
     "name": "stdout",
     "output_type": "stream",
     "text": [
      "Epoch 150, Loss 0.0413\n",
      "Training Accuracy: 0.9555, Testing Accuracy: 0.9617\n",
      "\n"
     ]
    },
    {
     "name": "stdout",
     "output_type": "stream",
     "text": [
      "Epoch 160, Loss 0.0406\n",
      "Training Accuracy: 0.9560, Testing Accuracy: 0.9632\n",
      "\n"
     ]
    },
    {
     "name": "stdout",
     "output_type": "stream",
     "text": [
      "Epoch 170, Loss 0.04\n",
      "Training Accuracy: 0.9570, Testing Accuracy: 0.9632\n",
      "\n"
     ]
    },
    {
     "name": "stdout",
     "output_type": "stream",
     "text": [
      "Epoch 180, Loss 0.0394\n",
      "Training Accuracy: 0.9579, Testing Accuracy: 0.9637\n",
      "\n"
     ]
    },
    {
     "name": "stdout",
     "output_type": "stream",
     "text": [
      "Epoch 190, Loss 0.0389\n",
      "Training Accuracy: 0.9584, Testing Accuracy: 0.9642\n",
      "\n"
     ]
    },
    {
     "name": "stdout",
     "output_type": "stream",
     "text": [
      "Epoch 200, Loss 0.0384\n",
      "Training Accuracy: 0.9589, Testing Accuracy: 0.9642\n",
      "\n"
     ]
    },
    {
     "name": "stdout",
     "output_type": "stream",
     "text": [
      "Epoch 210, Loss 0.038\n",
      "Training Accuracy: 0.9594, Testing Accuracy: 0.9642\n",
      "\n"
     ]
    },
    {
     "name": "stdout",
     "output_type": "stream",
     "text": [
      "Epoch 220, Loss 0.0376\n",
      "Training Accuracy: 0.9597, Testing Accuracy: 0.9652\n",
      "\n"
     ]
    },
    {
     "name": "stdout",
     "output_type": "stream",
     "text": [
      "Epoch 230, Loss 0.0372\n",
      "Training Accuracy: 0.9599, Testing Accuracy: 0.9652\n",
      "\n"
     ]
    },
    {
     "name": "stdout",
     "output_type": "stream",
     "text": [
      "Epoch 240, Loss 0.0368\n",
      "Training Accuracy: 0.9604, Testing Accuracy: 0.9647\n",
      "\n"
     ]
    },
    {
     "data": {
      "text/plain": [
       "0.043493098112682746"
      ]
     },
     "execution_count": 23,
     "metadata": {},
     "output_type": "execute_result"
    }
   ],
   "source": [
    "lr_learner.train_loop(dl)"
   ]
  },
  {
   "cell_type": "code",
   "execution_count": 24,
   "id": "ca410940",
   "metadata": {
    "execution": {
     "iopub.execute_input": "2022-07-08T00:47:42.588878Z",
     "iopub.status.busy": "2022-07-08T00:47:42.588067Z",
     "iopub.status.idle": "2022-07-08T00:47:42.959294Z",
     "shell.execute_reply": "2022-07-08T00:47:42.959922Z"
    },
    "papermill": {
     "duration": 0.433909,
     "end_time": "2022-07-08T00:47:42.960123",
     "exception": false,
     "start_time": "2022-07-08T00:47:42.526214",
     "status": "completed"
    },
    "tags": []
   },
   "outputs": [
    {
     "data": {
      "text/plain": [
       "<matplotlib.legend.Legend at 0x7ffbada68c88>"
      ]
     },
     "execution_count": 24,
     "metadata": {},
     "output_type": "execute_result"
    },
    {
     "data": {
      "image/png": "[encoded data removed]",
      "text/plain": [
       "<Figure size 1080x720 with 1 Axes>"
      ]
     },
     "metadata": {
      "needs_background": "light"
     },
     "output_type": "display_data"
    }
   ],
   "source": [
    "#comparing the results of NN and LR\n",
    "plt.figure(figsize=(15,10))\n",
    "\n",
    "# Neural Network plots\n",
    "plt.plot(acc_nn.accuracies, 'r-', label = \"Training Accuracies - NN\")\n",
    "plt.plot(acc_nn.test_accuracies, 'g-', label = \"Testing Accuracies - NN\")\n",
    "\n",
    "# Logistic Regression plots\n",
    "plt.plot(acc_lr.accuracies, 'k-', label = \"Training Accuracies - LR\")\n",
    "plt.plot(acc_lr.test_accuracies, 'b-', label = \"Testing Accuracies - LR\")\n",
    "plt.legend()"
   ]
  },
  {
   "cell_type": "markdown",
   "id": "80dfb35c",
   "metadata": {
    "papermill": {
     "duration": 0.056814,
     "end_time": "2022-07-08T00:47:43.074991",
     "exception": false,
     "start_time": "2022-07-08T00:47:43.018177",
     "status": "completed"
    },
    "tags": []
   },
   "source": [
    "#### Plotting the outputs of this layer of the NN.\n"
   ]
  },
  {
   "cell_type": "code",
   "execution_count": 25,
   "id": "45eb2ff5",
   "metadata": {
    "execution": {
     "iopub.execute_input": "2022-07-08T00:47:43.198140Z",
     "iopub.status.busy": "2022-07-08T00:47:43.197331Z",
     "iopub.status.idle": "2022-07-08T00:47:43.227018Z",
     "shell.execute_reply": "2022-07-08T00:47:43.228093Z"
    },
    "papermill": {
     "duration": 0.094977,
     "end_time": "2022-07-08T00:47:43.228299",
     "exception": false,
     "start_time": "2022-07-08T00:47:43.133322",
     "status": "completed"
    },
    "tags": []
   },
   "outputs": [],
   "source": [
    "new_model = Model(layers[:-2])\n",
    "testing_plot = new_model(testing_data_x)"
   ]
  },
  {
   "cell_type": "code",
   "execution_count": 26,
   "id": "4c0a5485",
   "metadata": {
    "execution": {
     "iopub.execute_input": "2022-07-08T00:47:43.351549Z",
     "iopub.status.busy": "2022-07-08T00:47:43.350753Z",
     "iopub.status.idle": "2022-07-08T00:47:43.641115Z",
     "shell.execute_reply": "2022-07-08T00:47:43.640170Z"
    },
    "papermill": {
     "duration": 0.354759,
     "end_time": "2022-07-08T00:47:43.641312",
     "exception": false,
     "start_time": "2022-07-08T00:47:43.286553",
     "status": "completed"
    },
    "tags": []
   },
   "outputs": [
    {
     "data": {
      "text/plain": [
       "Text(0.5, 1.0, 'Outputs')"
      ]
     },
     "execution_count": 26,
     "metadata": {},
     "output_type": "execute_result"
    },
    {
     "data": {
      "image/png": "[encoded data removed]",
      "text/plain": [
       "<Figure size 576x504 with 1 Axes>"
      ]
     },
     "metadata": {
      "needs_background": "light"
     },
     "output_type": "display_data"
    }
   ],
   "source": [
    "# Plotting the scatter plot of points and color coding by class\n",
    "plt.figure(figsize=(8,7))\n",
    "plt.scatter(testing_plot[:,0], testing_plot[:,1], alpha = 0.1, c = y_test.ravel());\n",
    "plt.title('Outputs')"
   ]
  },
  {
   "cell_type": "markdown",
   "id": "a74fcf8f",
   "metadata": {
    "papermill": {
     "duration": 0.089674,
     "end_time": "2022-07-08T00:47:43.791907",
     "exception": false,
     "start_time": "2022-07-08T00:47:43.702233",
     "status": "completed"
    },
    "tags": []
   },
   "source": [
    "Probability contours"
   ]
  },
  {
   "cell_type": "code",
   "execution_count": 27,
   "id": "d0afc8e3",
   "metadata": {
    "execution": {
     "iopub.execute_input": "2022-07-08T00:47:43.927288Z",
     "iopub.status.busy": "2022-07-08T00:47:43.926004Z",
     "iopub.status.idle": "2022-07-08T00:47:43.938049Z",
     "shell.execute_reply": "2022-07-08T00:47:43.938649Z"
    },
    "papermill": {
     "duration": 0.082805,
     "end_time": "2022-07-08T00:47:43.938830",
     "exception": false,
     "start_time": "2022-07-08T00:47:43.856025",
     "status": "completed"
    },
    "tags": []
   },
   "outputs": [],
   "source": [
    "model_prob = Model(layers[-2:]) "
   ]
  },
  {
   "cell_type": "code",
   "execution_count": 28,
   "id": "9b96e238",
   "metadata": {
    "execution": {
     "iopub.execute_input": "2022-07-08T00:47:44.071492Z",
     "iopub.status.busy": "2022-07-08T00:47:44.070722Z",
     "iopub.status.idle": "2022-07-08T00:47:44.089180Z",
     "shell.execute_reply": "2022-07-08T00:47:44.089990Z"
    },
    "papermill": {
     "duration": 0.088163,
     "end_time": "2022-07-08T00:47:44.090175",
     "exception": false,
     "start_time": "2022-07-08T00:47:44.002012",
     "status": "completed"
    },
    "tags": []
   },
   "outputs": [],
   "source": [
    "#creating the x and y ranges according to the above generated plot.\n",
    "x_range = np.linspace(-4, 1, 100) \n",
    "y_range = np.linspace(-6, 6, 100) \n",
    "x_grid, y_grid = np.meshgrid(x_range, y_range) # x_grid and y_grig are of size 100 X 100\n",
    "\n",
    "# converting x_grid and y_grid to continuous arrays\n",
    "x_gridflat = np.ravel(x_grid)\n",
    "y_gridflat = np.ravel(y_grid)\n",
    "\n",
    "# The last layer of the current model takes two columns as input. Hence transpose of np.vstack() is required.\n",
    "X = np.vstack((x_gridflat, y_gridflat)).T\n",
    "\n",
    "prob_contour = model_prob(X).reshape(100,100) "
   ]
  },
  {
   "cell_type": "code",
   "execution_count": 29,
   "id": "da72499a",
   "metadata": {
    "execution": {
     "iopub.execute_input": "2022-07-08T00:47:44.222081Z",
     "iopub.status.busy": "2022-07-08T00:47:44.221283Z",
     "iopub.status.idle": "2022-07-08T00:47:44.577822Z",
     "shell.execute_reply": "2022-07-08T00:47:44.578441Z"
    },
    "papermill": {
     "duration": 0.424737,
     "end_time": "2022-07-08T00:47:44.578640",
     "exception": false,
     "start_time": "2022-07-08T00:47:44.153903",
     "status": "completed"
    },
    "tags": []
   },
   "outputs": [
    {
     "data": {
      "image/png": "[encoded data removed]",
      "text/plain": [
       "<Figure size 720x648 with 1 Axes>"
      ]
     },
     "metadata": {
      "needs_background": "light"
     },
     "output_type": "display_data"
    }
   ],
   "source": [
    "plt.figure(figsize=(10,9))\n",
    "plt.scatter(testing_plot[:,0], testing_plot[:,1], alpha = 0.1, c = y_test.ravel())\n",
    "contours = plt.contour(x_grid,y_grid,prob_contour)\n",
    "plt.title('Probability Contours')\n",
    "plt.clabel(contours, inline = True );"
   ]
  },
  {
   "cell_type": "code",
   "execution_count": null,
   "id": "e81b4ac7",
   "metadata": {
    "papermill": {
     "duration": 0.064146,
     "end_time": "2022-07-08T00:47:44.706249",
     "exception": false,
     "start_time": "2022-07-08T00:47:44.642103",
     "status": "completed"
    },
    "tags": []
   },
   "outputs": [],
   "source": []
  }
 ],
 "metadata": {
  "kernelspec": {
   "display_name": "Python 3",
   "language": "python",
   "name": "python3"
  },
  "language_info": {
   "codemirror_mode": {
    "name": "ipython",
    "version": 3
   },
   "file_extension": ".py",
   "mimetype": "text/x-python",
   "name": "python",
   "nbconvert_exporter": "python",
   "pygments_lexer": "ipython3",
   "version": "3.6.15"
  },
  "papermill": {
   "default_parameters": {},
   "duration": 179.737611,
   "end_time": "2022-07-08T00:47:45.191125",
   "environment_variables": {},
   "exception": null,
   "input_path": "2020-08-11-part2.ipynb",
   "output_path": "2020-08-11-part2.ipynb",
   "parameters": {},
   "start_time": "2022-07-08T00:44:45.453514",
   "version": "2.3.3"
  }
 },
 "nbformat": 4,
 "nbformat_minor": 5
}