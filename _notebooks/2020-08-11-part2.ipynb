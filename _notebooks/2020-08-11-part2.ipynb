{
 "cells": [
  {
   "cell_type": "markdown",
   "id": "98380cd3",
   "metadata": {
    "papermill": {
     "duration": 0.037334,
     "end_time": "2021-11-08T00:23:33.192007",
     "exception": false,
     "start_time": "2021-11-08T00:23:33.154673",
     "status": "completed"
    },
    "tags": []
   },
   "source": [
    "# Distinguish Your Own Digits (DYOD)"
   ]
  },
  {
   "cell_type": "markdown",
   "id": "ef31240d",
   "metadata": {
    "papermill": {
     "duration": 0.031967,
     "end_time": "2021-11-08T00:23:33.257166",
     "exception": false,
     "start_time": "2021-11-08T00:23:33.225199",
     "status": "completed"
    },
    "tags": []
   },
   "source": [
    "You are going to write a classifier that distinguishes between the number 3 and number 8."
   ]
  },
  {
   "cell_type": "code",
   "execution_count": 1,
   "id": "b15c8646",
   "metadata": {
    "execution": {
     "iopub.execute_input": "2021-11-08T00:23:33.334802Z",
     "iopub.status.busy": "2021-11-08T00:23:33.334100Z",
     "iopub.status.idle": "2021-11-08T00:23:33.347155Z",
     "shell.execute_reply": "2021-11-08T00:23:33.346590Z"
    },
    "papermill": {
     "duration": 0.058207,
     "end_time": "2021-11-08T00:23:33.347314",
     "exception": false,
     "start_time": "2021-11-08T00:23:33.289107",
     "status": "completed"
    },
    "tags": []
   },
   "outputs": [],
   "source": [
    "%load_ext autoreload\n",
    "%autoreload 2"
   ]
  },
  {
   "cell_type": "code",
   "execution_count": 2,
   "id": "22ef38dc",
   "metadata": {
    "execution": {
     "iopub.execute_input": "2021-11-08T00:23:33.416873Z",
     "iopub.status.busy": "2021-11-08T00:23:33.416045Z",
     "iopub.status.idle": "2021-11-08T00:23:34.102155Z",
     "shell.execute_reply": "2021-11-08T00:23:34.101519Z"
    },
    "papermill": {
     "duration": 0.722253,
     "end_time": "2021-11-08T00:23:34.102316",
     "exception": false,
     "start_time": "2021-11-08T00:23:33.380063",
     "status": "completed"
    },
    "tags": []
   },
   "outputs": [],
   "source": [
    "%matplotlib inline\n",
    "import numpy as np\n",
    "import matplotlib.pyplot as plt\n",
    "import pandas as pd"
   ]
  },
  {
   "cell_type": "markdown",
   "id": "ba036198",
   "metadata": {
    "papermill": {
     "duration": 0.03284,
     "end_time": "2021-11-08T00:23:34.168848",
     "exception": false,
     "start_time": "2021-11-08T00:23:34.136008",
     "status": "completed"
    },
    "tags": []
   },
   "source": [
    "From the command line run `pip install mnist`. This is a library that will help you bring down the mnist dataset. If you run this from a notebook, you need to put  `!pip install mnist` in a cell by itself."
   ]
  },
  {
   "cell_type": "code",
   "execution_count": 3,
   "id": "bb6ad8a1",
   "metadata": {
    "execution": {
     "iopub.execute_input": "2021-11-08T00:23:34.249781Z",
     "iopub.status.busy": "2021-11-08T00:23:34.244466Z",
     "iopub.status.idle": "2021-11-08T00:23:36.610433Z",
     "shell.execute_reply": "2021-11-08T00:23:36.609385Z"
    },
    "papermill": {
     "duration": 2.409067,
     "end_time": "2021-11-08T00:23:36.610599",
     "exception": false,
     "start_time": "2021-11-08T00:23:34.201532",
     "status": "completed"
    },
    "tags": []
   },
   "outputs": [
    {
     "name": "stdout",
     "output_type": "stream",
     "text": [
      "Collecting mnist\r\n"
     ]
    },
    {
     "name": "stdout",
     "output_type": "stream",
     "text": [
      "  Downloading mnist-0.2.2-py2.py3-none-any.whl (3.5 kB)\r\n",
      "Requirement already satisfied: numpy in /opt/hostedtoolcache/Python/3.6.15/x64/lib/python3.6/site-packages (from mnist) (1.19.5)\r\n"
     ]
    },
    {
     "name": "stdout",
     "output_type": "stream",
     "text": [
      "Installing collected packages: mnist\r\n"
     ]
    },
    {
     "name": "stdout",
     "output_type": "stream",
     "text": [
      "Successfully installed mnist-0.2.2\r\n"
     ]
    }
   ],
   "source": [
    "!pip install mnist"
   ]
  },
  {
   "cell_type": "markdown",
   "id": "69df9c9a",
   "metadata": {
    "papermill": {
     "duration": 0.036791,
     "end_time": "2021-11-08T00:23:36.681310",
     "exception": false,
     "start_time": "2021-11-08T00:23:36.644519",
     "status": "completed"
    },
    "tags": []
   },
   "source": [
    "## Preparing the Data"
   ]
  },
  {
   "cell_type": "code",
   "execution_count": 4,
   "id": "7f69d806",
   "metadata": {
    "execution": {
     "iopub.execute_input": "2021-11-08T00:23:36.765557Z",
     "iopub.status.busy": "2021-11-08T00:23:36.759576Z",
     "iopub.status.idle": "2021-11-08T00:23:36.774703Z",
     "shell.execute_reply": "2021-11-08T00:23:36.774039Z"
    },
    "papermill": {
     "duration": 0.058342,
     "end_time": "2021-11-08T00:23:36.774889",
     "exception": false,
     "start_time": "2021-11-08T00:23:36.716547",
     "status": "completed"
    },
    "tags": []
   },
   "outputs": [],
   "source": [
    "import mnist"
   ]
  },
  {
   "cell_type": "code",
   "execution_count": 5,
   "id": "a411e44f",
   "metadata": {
    "execution": {
     "iopub.execute_input": "2021-11-08T00:23:36.854619Z",
     "iopub.status.busy": "2021-11-08T00:23:36.853923Z",
     "iopub.status.idle": "2021-11-08T00:23:37.717986Z",
     "shell.execute_reply": "2021-11-08T00:23:37.717441Z"
    },
    "papermill": {
     "duration": 0.909748,
     "end_time": "2021-11-08T00:23:37.718131",
     "exception": false,
     "start_time": "2021-11-08T00:23:36.808383",
     "status": "completed"
    },
    "tags": []
   },
   "outputs": [],
   "source": [
    "train_images = mnist.train_images()\n",
    "train_labels = mnist.train_labels()"
   ]
  },
  {
   "cell_type": "code",
   "execution_count": 6,
   "id": "dceab3a5",
   "metadata": {
    "execution": {
     "iopub.execute_input": "2021-11-08T00:23:37.791142Z",
     "iopub.status.busy": "2021-11-08T00:23:37.790452Z",
     "iopub.status.idle": "2021-11-08T00:23:37.809204Z",
     "shell.execute_reply": "2021-11-08T00:23:37.809766Z"
    },
    "papermill": {
     "duration": 0.056765,
     "end_time": "2021-11-08T00:23:37.809945",
     "exception": false,
     "start_time": "2021-11-08T00:23:37.753180",
     "status": "completed"
    },
    "tags": []
   },
   "outputs": [
    {
     "data": {
      "text/plain": [
       "((60000, 28, 28), (60000,))"
      ]
     },
     "execution_count": 6,
     "metadata": {},
     "output_type": "execute_result"
    }
   ],
   "source": [
    "train_images.shape, train_labels.shape"
   ]
  },
  {
   "cell_type": "code",
   "execution_count": 7,
   "id": "f50dc2bb",
   "metadata": {
    "execution": {
     "iopub.execute_input": "2021-11-08T00:23:37.883235Z",
     "iopub.status.busy": "2021-11-08T00:23:37.882472Z",
     "iopub.status.idle": "2021-11-08T00:23:38.142143Z",
     "shell.execute_reply": "2021-11-08T00:23:38.141474Z"
    },
    "papermill": {
     "duration": 0.299135,
     "end_time": "2021-11-08T00:23:38.143961",
     "exception": false,
     "start_time": "2021-11-08T00:23:37.844826",
     "status": "completed"
    },
    "tags": []
   },
   "outputs": [],
   "source": [
    "test_images = mnist.test_images()\n",
    "test_labels = mnist.test_labels()"
   ]
  },
  {
   "cell_type": "code",
   "execution_count": 8,
   "id": "fc38cf1b",
   "metadata": {
    "execution": {
     "iopub.execute_input": "2021-11-08T00:23:38.218928Z",
     "iopub.status.busy": "2021-11-08T00:23:38.218233Z",
     "iopub.status.idle": "2021-11-08T00:23:38.233572Z",
     "shell.execute_reply": "2021-11-08T00:23:38.234365Z"
    },
    "papermill": {
     "duration": 0.055749,
     "end_time": "2021-11-08T00:23:38.234553",
     "exception": false,
     "start_time": "2021-11-08T00:23:38.178804",
     "status": "completed"
    },
    "tags": []
   },
   "outputs": [
    {
     "data": {
      "text/plain": [
       "((10000, 28, 28), (10000,))"
      ]
     },
     "execution_count": 8,
     "metadata": {},
     "output_type": "execute_result"
    }
   ],
   "source": [
    "test_images.shape, test_labels.shape"
   ]
  },
  {
   "cell_type": "code",
   "execution_count": 9,
   "id": "f9ed8fe0",
   "metadata": {
    "execution": {
     "iopub.execute_input": "2021-11-08T00:23:38.309518Z",
     "iopub.status.busy": "2021-11-08T00:23:38.308803Z",
     "iopub.status.idle": "2021-11-08T00:23:38.508114Z",
     "shell.execute_reply": "2021-11-08T00:23:38.508690Z"
    },
    "papermill": {
     "duration": 0.23946,
     "end_time": "2021-11-08T00:23:38.508862",
     "exception": false,
     "start_time": "2021-11-08T00:23:38.269402",
     "status": "completed"
    },
    "tags": []
   },
   "outputs": [
    {
     "name": "stdout",
     "output_type": "stream",
     "text": [
      "2\n"
     ]
    },
    {
     "data": {
      "text/plain": [
       "<matplotlib.image.AxesImage at 0x7f42454cb0b8>"
      ]
     },
     "execution_count": 9,
     "metadata": {},
     "output_type": "execute_result"
    },
    {
     "data": {
      "image/png": "[encoded data removed]",
      "text/plain": [
       "<Figure size 432x288 with 1 Axes>"
      ]
     },
     "metadata": {
      "needs_background": "light"
     },
     "output_type": "display_data"
    }
   ],
   "source": [
    "image_index = 7776 # You may select anything up to 60,000\n",
    "print(train_labels[image_index]) \n",
    "plt.imshow(train_images[image_index], cmap='Greys')"
   ]
  },
  {
   "cell_type": "markdown",
   "id": "a8d2388d",
   "metadata": {
    "papermill": {
     "duration": 0.035487,
     "end_time": "2021-11-08T00:23:38.581294",
     "exception": false,
     "start_time": "2021-11-08T00:23:38.545807",
     "status": "completed"
    },
    "tags": []
   },
   "source": [
    "## Filter data to get 3 and 8 out"
   ]
  },
  {
   "cell_type": "code",
   "execution_count": 10,
   "id": "776f7fc7",
   "metadata": {
    "execution": {
     "iopub.execute_input": "2021-11-08T00:23:38.660309Z",
     "iopub.status.busy": "2021-11-08T00:23:38.659488Z",
     "iopub.status.idle": "2021-11-08T00:23:38.682991Z",
     "shell.execute_reply": "2021-11-08T00:23:38.682348Z"
    },
    "papermill": {
     "duration": 0.066958,
     "end_time": "2021-11-08T00:23:38.683164",
     "exception": false,
     "start_time": "2021-11-08T00:23:38.616206",
     "status": "completed"
    },
    "tags": []
   },
   "outputs": [],
   "source": [
    "train_filter = np.where((train_labels == 3 ) | (train_labels == 8))\n",
    "test_filter = np.where((test_labels == 3) | (test_labels == 8))\n",
    "X_train, y_train = train_images[train_filter], train_labels[train_filter]\n",
    "X_test, y_test = test_images[test_filter], test_labels[test_filter]"
   ]
  },
  {
   "cell_type": "markdown",
   "id": "948f0b7e",
   "metadata": {
    "papermill": {
     "duration": 0.034959,
     "end_time": "2021-11-08T00:23:38.753903",
     "exception": false,
     "start_time": "2021-11-08T00:23:38.718944",
     "status": "completed"
    },
    "tags": []
   },
   "source": [
    "We normalize the pizel values in the 0 to 1 range"
   ]
  },
  {
   "cell_type": "code",
   "execution_count": 11,
   "id": "ee4c2166",
   "metadata": {
    "execution": {
     "iopub.execute_input": "2021-11-08T00:23:38.829084Z",
     "iopub.status.busy": "2021-11-08T00:23:38.828346Z",
     "iopub.status.idle": "2021-11-08T00:23:38.896521Z",
     "shell.execute_reply": "2021-11-08T00:23:38.897114Z"
    },
    "papermill": {
     "duration": 0.1089,
     "end_time": "2021-11-08T00:23:38.897341",
     "exception": false,
     "start_time": "2021-11-08T00:23:38.788441",
     "status": "completed"
    },
    "tags": []
   },
   "outputs": [],
   "source": [
    "X_train = X_train/255.\n",
    "X_test = X_test/255."
   ]
  },
  {
   "cell_type": "markdown",
   "id": "ddcf4fab",
   "metadata": {
    "papermill": {
     "duration": 0.038734,
     "end_time": "2021-11-08T00:23:38.973745",
     "exception": false,
     "start_time": "2021-11-08T00:23:38.935011",
     "status": "completed"
    },
    "tags": []
   },
   "source": [
    "And setup the labels as 1 (when the digit is 3) and 0 (when the digit is 8)"
   ]
  },
  {
   "cell_type": "code",
   "execution_count": 12,
   "id": "7dc908f2",
   "metadata": {
    "execution": {
     "iopub.execute_input": "2021-11-08T00:23:39.056418Z",
     "iopub.status.busy": "2021-11-08T00:23:39.055014Z",
     "iopub.status.idle": "2021-11-08T00:23:39.071007Z",
     "shell.execute_reply": "2021-11-08T00:23:39.070407Z"
    },
    "papermill": {
     "duration": 0.0581,
     "end_time": "2021-11-08T00:23:39.071168",
     "exception": false,
     "start_time": "2021-11-08T00:23:39.013068",
     "status": "completed"
    },
    "tags": []
   },
   "outputs": [],
   "source": [
    "y_train = 1*(y_train==3)\n",
    "y_test = 1*(y_test==3)"
   ]
  },
  {
   "cell_type": "code",
   "execution_count": 13,
   "id": "01e4e969",
   "metadata": {
    "execution": {
     "iopub.execute_input": "2021-11-08T00:23:39.149759Z",
     "iopub.status.busy": "2021-11-08T00:23:39.149090Z",
     "iopub.status.idle": "2021-11-08T00:23:39.164805Z",
     "shell.execute_reply": "2021-11-08T00:23:39.164161Z"
    },
    "papermill": {
     "duration": 0.057528,
     "end_time": "2021-11-08T00:23:39.164989",
     "exception": false,
     "start_time": "2021-11-08T00:23:39.107461",
     "status": "completed"
    },
    "tags": []
   },
   "outputs": [
    {
     "data": {
      "text/plain": [
       "((11982, 28, 28), (1984, 28, 28))"
      ]
     },
     "execution_count": 13,
     "metadata": {},
     "output_type": "execute_result"
    }
   ],
   "source": [
    "X_train.shape, X_test.shape"
   ]
  },
  {
   "cell_type": "markdown",
   "id": "5ccf3f85",
   "metadata": {
    "papermill": {
     "duration": 0.035907,
     "end_time": "2021-11-08T00:23:39.237252",
     "exception": false,
     "start_time": "2021-11-08T00:23:39.201345",
     "status": "completed"
    },
    "tags": []
   },
   "source": [
    "We reshape the data to flatten the image pixels into a set of features or co-variates:"
   ]
  },
  {
   "cell_type": "code",
   "execution_count": 14,
   "id": "5286a4a3",
   "metadata": {
    "execution": {
     "iopub.execute_input": "2021-11-08T00:23:39.319748Z",
     "iopub.status.busy": "2021-11-08T00:23:39.319028Z",
     "iopub.status.idle": "2021-11-08T00:23:39.333614Z",
     "shell.execute_reply": "2021-11-08T00:23:39.334196Z"
    },
    "papermill": {
     "duration": 0.060431,
     "end_time": "2021-11-08T00:23:39.334372",
     "exception": false,
     "start_time": "2021-11-08T00:23:39.273941",
     "status": "completed"
    },
    "tags": []
   },
   "outputs": [
    {
     "data": {
      "text/plain": [
       "((11982, 784), (1984, 784))"
      ]
     },
     "execution_count": 14,
     "metadata": {},
     "output_type": "execute_result"
    }
   ],
   "source": [
    "X_train = X_train.reshape(X_train.shape[0], -1)\n",
    "X_test = X_test.reshape(X_test.shape[0], -1)\n",
    "X_train.shape, X_test.shape"
   ]
  },
  {
   "cell_type": "code",
   "execution_count": 15,
   "id": "73c5f88a",
   "metadata": {
    "execution": {
     "iopub.execute_input": "2021-11-08T00:23:39.415353Z",
     "iopub.status.busy": "2021-11-08T00:23:39.414429Z",
     "iopub.status.idle": "2021-11-08T00:23:39.439223Z",
     "shell.execute_reply": "2021-11-08T00:23:39.438516Z"
    },
    "papermill": {
     "duration": 0.068055,
     "end_time": "2021-11-08T00:23:39.439389",
     "exception": false,
     "start_time": "2021-11-08T00:23:39.371334",
     "status": "completed"
    },
    "tags": []
   },
   "outputs": [],
   "source": [
    "#Impoting functions from 'Kudzu'\n",
    "from kudzu.model import Model\n",
    "from kudzu.train import Learner\n",
    "from kudzu.optim import GD\n",
    "from kudzu.data import Data, Sampler,Dataloader\n",
    "\n",
    "from kudzu.callbacks import AccCallback\n",
    "from kudzu.callbacks import ClfCallback\n",
    "\n",
    "from kudzu.loss import MSE\n",
    "\n",
    "from kudzu.layer import Sigmoid,Relu\n",
    "from kudzu.layer import Affine"
   ]
  },
  {
   "cell_type": "markdown",
   "id": "bc01172a",
   "metadata": {
    "papermill": {
     "duration": 0.035625,
     "end_time": "2021-11-08T00:23:39.511062",
     "exception": false,
     "start_time": "2021-11-08T00:23:39.475437",
     "status": "completed"
    },
    "tags": []
   },
   "source": [
    "### Let us create a `Config` class, to store important parameters. \n",
    "This class essentially plays the role of a dictionary."
   ]
  },
  {
   "cell_type": "code",
   "execution_count": 16,
   "id": "978281aa",
   "metadata": {
    "execution": {
     "iopub.execute_input": "2021-11-08T00:23:39.591126Z",
     "iopub.status.busy": "2021-11-08T00:23:39.590309Z",
     "iopub.status.idle": "2021-11-08T00:23:39.608225Z",
     "shell.execute_reply": "2021-11-08T00:23:39.607647Z"
    },
    "papermill": {
     "duration": 0.061482,
     "end_time": "2021-11-08T00:23:39.608372",
     "exception": false,
     "start_time": "2021-11-08T00:23:39.546890",
     "status": "completed"
    },
    "tags": []
   },
   "outputs": [],
   "source": [
    "class Config:\n",
    "    pass\n",
    "config = Config()\n",
    "config.lr = 0.001\n",
    "config.num_epochs = 250\n",
    "config.bs = 50"
   ]
  },
  {
   "cell_type": "markdown",
   "id": "1385fa59",
   "metadata": {
    "papermill": {
     "duration": 0.037008,
     "end_time": "2021-11-08T00:23:39.682982",
     "exception": false,
     "start_time": "2021-11-08T00:23:39.645974",
     "status": "completed"
    },
    "tags": []
   },
   "source": [
    "### Running Models with the Training data\n",
    "Details about the network layers:\n",
    "- A first affine layer has 784 inputs and does 100 affine transforms. These are followed by a Relu\n",
    "- A second affine layer has 100 inputs from the 100 activations of the past layer, and does 100 affine transforms. These are followed by a Relu\n",
    "- A third affine layer has 100 activations and does 2 affine transformations to create an embedding for visualization. There is no non-linearity here.\n",
    "- A final \"logistic regression\" which has an affine transform from 2 inputs to 1 output, which is squeezed through a sigmoid.\n"
   ]
  },
  {
   "cell_type": "code",
   "execution_count": 17,
   "id": "2b9c66db",
   "metadata": {
    "execution": {
     "iopub.execute_input": "2021-11-08T00:23:39.765664Z",
     "iopub.status.busy": "2021-11-08T00:23:39.763232Z",
     "iopub.status.idle": "2021-11-08T00:23:39.777589Z",
     "shell.execute_reply": "2021-11-08T00:23:39.778295Z"
    },
    "papermill": {
     "duration": 0.057011,
     "end_time": "2021-11-08T00:23:39.778453",
     "exception": false,
     "start_time": "2021-11-08T00:23:39.721442",
     "status": "completed"
    },
    "tags": []
   },
   "outputs": [],
   "source": [
    "data = Data(X_train, y_train.reshape(-1,1))\n",
    "sampler = Sampler(data, config.bs, shuffle=True)\n",
    "\n",
    "dl = Dataloader(data, sampler)\n",
    "\n",
    "opt = GD(config.lr)\n",
    "loss = MSE()"
   ]
  },
  {
   "cell_type": "code",
   "execution_count": 18,
   "id": "b275e4c2",
   "metadata": {
    "execution": {
     "iopub.execute_input": "2021-11-08T00:23:39.856562Z",
     "iopub.status.busy": "2021-11-08T00:23:39.855894Z",
     "iopub.status.idle": "2021-11-08T00:23:39.870005Z",
     "shell.execute_reply": "2021-11-08T00:23:39.870576Z"
    },
    "papermill": {
     "duration": 0.056202,
     "end_time": "2021-11-08T00:23:39.870806",
     "exception": false,
     "start_time": "2021-11-08T00:23:39.814604",
     "status": "completed"
    },
    "tags": []
   },
   "outputs": [],
   "source": [
    "training_data_x = X_train\n",
    "testing_data_x = X_test\n",
    "training_data_y = y_train.reshape(-1,1)\n",
    "testing_data_y = y_test.reshape(-1,1)"
   ]
  },
  {
   "cell_type": "code",
   "execution_count": 19,
   "id": "76951160",
   "metadata": {
    "execution": {
     "iopub.execute_input": "2021-11-08T00:23:39.948682Z",
     "iopub.status.busy": "2021-11-08T00:23:39.947980Z",
     "iopub.status.idle": "2021-11-08T00:23:39.971063Z",
     "shell.execute_reply": "2021-11-08T00:23:39.970459Z"
    },
    "papermill": {
     "duration": 0.062684,
     "end_time": "2021-11-08T00:23:39.971220",
     "exception": false,
     "start_time": "2021-11-08T00:23:39.908536",
     "status": "completed"
    },
    "tags": []
   },
   "outputs": [
    {
     "name": "stdout",
     "output_type": "stream",
     "text": [
      "xavier\n",
      "xavier\n",
      "xavier\n",
      "xavier\n",
      "xavier\n"
     ]
    }
   ],
   "source": [
    "layers = [Affine(\"first\", 784, 100), Relu(\"first\"), Affine(\"second\", 100, 100), Relu(\"second\"), Affine(\"third\", 100, 2), Affine(\"last\", 2, 1), Sigmoid(\"last\")]\n",
    "model_nn = Model(layers)\n",
    "model_lr = Model([Affine(\"logits\", 784, 1), Sigmoid(\"sigmoid\")])"
   ]
  },
  {
   "cell_type": "code",
   "execution_count": 20,
   "id": "6eede77a",
   "metadata": {
    "execution": {
     "iopub.execute_input": "2021-11-08T00:23:40.048786Z",
     "iopub.status.busy": "2021-11-08T00:23:40.048019Z",
     "iopub.status.idle": "2021-11-08T00:23:40.063894Z",
     "shell.execute_reply": "2021-11-08T00:23:40.063304Z"
    },
    "papermill": {
     "duration": 0.055771,
     "end_time": "2021-11-08T00:23:40.064052",
     "exception": false,
     "start_time": "2021-11-08T00:23:40.008281",
     "status": "completed"
    },
    "tags": []
   },
   "outputs": [],
   "source": [
    "nn_learner = Learner(loss, model_nn, opt, config.num_epochs)\n",
    "acc_nn = ClfCallback(nn_learner, config.bs, training_data_x , testing_data_x, training_data_y, testing_data_y)\n",
    "nn_learner.set_callbacks([acc_nn])"
   ]
  },
  {
   "cell_type": "code",
   "execution_count": 21,
   "id": "877b6cc7",
   "metadata": {
    "execution": {
     "iopub.execute_input": "2021-11-08T00:23:40.143916Z",
     "iopub.status.busy": "2021-11-08T00:23:40.143220Z",
     "iopub.status.idle": "2021-11-08T00:23:40.159484Z",
     "shell.execute_reply": "2021-11-08T00:23:40.158797Z"
    },
    "papermill": {
     "duration": 0.059451,
     "end_time": "2021-11-08T00:23:40.159710",
     "exception": false,
     "start_time": "2021-11-08T00:23:40.100259",
     "status": "completed"
    },
    "tags": []
   },
   "outputs": [],
   "source": [
    "lr_learner = Learner(loss, model_lr, opt, config.num_epochs)\n",
    "acc_lr = ClfCallback(lr_learner, config.bs, training_data_x , testing_data_x, training_data_y, testing_data_y)\n",
    "lr_learner.set_callbacks([acc_lr])"
   ]
  },
  {
   "cell_type": "code",
   "execution_count": 22,
   "id": "d9b133c3",
   "metadata": {
    "execution": {
     "iopub.execute_input": "2021-11-08T00:23:40.241482Z",
     "iopub.status.busy": "2021-11-08T00:23:40.240799Z",
     "iopub.status.idle": "2021-11-08T00:26:06.203505Z",
     "shell.execute_reply": "2021-11-08T00:26:06.204475Z"
    },
    "papermill": {
     "duration": 146.005749,
     "end_time": "2021-11-08T00:26:06.204690",
     "exception": false,
     "start_time": "2021-11-08T00:23:40.198941",
     "status": "completed"
    },
    "tags": []
   },
   "outputs": [
    {
     "name": "stdout",
     "output_type": "stream",
     "text": [
      "Epoch 0, Loss 0.2444\n",
      "Training Accuracy: 0.6303, Testing Accuracy: 0.6164\n",
      "\n"
     ]
    },
    {
     "name": "stdout",
     "output_type": "stream",
     "text": [
      "Epoch 10, Loss 0.107\n",
      "Training Accuracy: 0.9138, Testing Accuracy: 0.9309\n",
      "\n"
     ]
    },
    {
     "name": "stdout",
     "output_type": "stream",
     "text": [
      "Epoch 20, Loss 0.0608\n",
      "Training Accuracy: 0.9387, Testing Accuracy: 0.9531\n",
      "\n"
     ]
    },
    {
     "name": "stdout",
     "output_type": "stream",
     "text": [
      "Epoch 30, Loss 0.0465\n",
      "Training Accuracy: 0.9509, Testing Accuracy: 0.9597\n",
      "\n"
     ]
    },
    {
     "name": "stdout",
     "output_type": "stream",
     "text": [
      "Epoch 40, Loss 0.0396\n",
      "Training Accuracy: 0.9567, Testing Accuracy: 0.9627\n",
      "\n"
     ]
    },
    {
     "name": "stdout",
     "output_type": "stream",
     "text": [
      "Epoch 50, Loss 0.0355\n",
      "Training Accuracy: 0.9606, Testing Accuracy: 0.9637\n",
      "\n"
     ]
    },
    {
     "name": "stdout",
     "output_type": "stream",
     "text": [
      "Epoch 60, Loss 0.0326\n",
      "Training Accuracy: 0.9632, Testing Accuracy: 0.9662\n",
      "\n"
     ]
    },
    {
     "name": "stdout",
     "output_type": "stream",
     "text": [
      "Epoch 70, Loss 0.0305\n",
      "Training Accuracy: 0.9650, Testing Accuracy: 0.9677\n",
      "\n"
     ]
    },
    {
     "name": "stdout",
     "output_type": "stream",
     "text": [
      "Epoch 80, Loss 0.0289\n",
      "Training Accuracy: 0.9659, Testing Accuracy: 0.9688\n",
      "\n"
     ]
    },
    {
     "name": "stdout",
     "output_type": "stream",
     "text": [
      "Epoch 90, Loss 0.0275\n",
      "Training Accuracy: 0.9667, Testing Accuracy: 0.9688\n",
      "\n"
     ]
    },
    {
     "name": "stdout",
     "output_type": "stream",
     "text": [
      "Epoch 100, Loss 0.0264\n",
      "Training Accuracy: 0.9680, Testing Accuracy: 0.9682\n",
      "\n"
     ]
    },
    {
     "name": "stdout",
     "output_type": "stream",
     "text": [
      "Epoch 110, Loss 0.0254\n",
      "Training Accuracy: 0.9695, Testing Accuracy: 0.9693\n",
      "\n"
     ]
    },
    {
     "name": "stdout",
     "output_type": "stream",
     "text": [
      "Epoch 120, Loss 0.0246\n",
      "Training Accuracy: 0.9709, Testing Accuracy: 0.9693\n",
      "\n"
     ]
    },
    {
     "name": "stdout",
     "output_type": "stream",
     "text": [
      "Epoch 130, Loss 0.0238\n",
      "Training Accuracy: 0.9721, Testing Accuracy: 0.9703\n",
      "\n"
     ]
    },
    {
     "name": "stdout",
     "output_type": "stream",
     "text": [
      "Epoch 140, Loss 0.0231\n",
      "Training Accuracy: 0.9730, Testing Accuracy: 0.9703\n",
      "\n"
     ]
    },
    {
     "name": "stdout",
     "output_type": "stream",
     "text": [
      "Epoch 150, Loss 0.0224\n",
      "Training Accuracy: 0.9742, Testing Accuracy: 0.9713\n",
      "\n"
     ]
    },
    {
     "name": "stdout",
     "output_type": "stream",
     "text": [
      "Epoch 160, Loss 0.0218\n",
      "Training Accuracy: 0.9747, Testing Accuracy: 0.9718\n",
      "\n"
     ]
    },
    {
     "name": "stdout",
     "output_type": "stream",
     "text": [
      "Epoch 170, Loss 0.0213\n",
      "Training Accuracy: 0.9754, Testing Accuracy: 0.9723\n",
      "\n"
     ]
    },
    {
     "name": "stdout",
     "output_type": "stream",
     "text": [
      "Epoch 180, Loss 0.0208\n",
      "Training Accuracy: 0.9761, Testing Accuracy: 0.9723\n",
      "\n"
     ]
    },
    {
     "name": "stdout",
     "output_type": "stream",
     "text": [
      "Epoch 190, Loss 0.0203\n",
      "Training Accuracy: 0.9770, Testing Accuracy: 0.9723\n",
      "\n"
     ]
    },
    {
     "name": "stdout",
     "output_type": "stream",
     "text": [
      "Epoch 200, Loss 0.0198\n",
      "Training Accuracy: 0.9776, Testing Accuracy: 0.9733\n",
      "\n"
     ]
    },
    {
     "name": "stdout",
     "output_type": "stream",
     "text": [
      "Epoch 210, Loss 0.0194\n",
      "Training Accuracy: 0.9784, Testing Accuracy: 0.9733\n",
      "\n"
     ]
    },
    {
     "name": "stdout",
     "output_type": "stream",
     "text": [
      "Epoch 220, Loss 0.0189\n",
      "Training Accuracy: 0.9788, Testing Accuracy: 0.9733\n",
      "\n"
     ]
    },
    {
     "name": "stdout",
     "output_type": "stream",
     "text": [
      "Epoch 230, Loss 0.0185\n",
      "Training Accuracy: 0.9797, Testing Accuracy: 0.9738\n",
      "\n"
     ]
    },
    {
     "name": "stdout",
     "output_type": "stream",
     "text": [
      "Epoch 240, Loss 0.0181\n",
      "Training Accuracy: 0.9801, Testing Accuracy: 0.9743\n",
      "\n"
     ]
    },
    {
     "data": {
      "text/plain": [
       "0.0016024198854258044"
      ]
     },
     "execution_count": 22,
     "metadata": {},
     "output_type": "execute_result"
    }
   ],
   "source": [
    "nn_learner.train_loop(dl)"
   ]
  },
  {
   "cell_type": "code",
   "execution_count": 23,
   "id": "e0163366",
   "metadata": {
    "execution": {
     "iopub.execute_input": "2021-11-08T00:26:06.310648Z",
     "iopub.status.busy": "2021-11-08T00:26:06.309836Z",
     "iopub.status.idle": "2021-11-08T00:26:27.145785Z",
     "shell.execute_reply": "2021-11-08T00:26:27.146832Z"
    },
    "papermill": {
     "duration": 20.894999,
     "end_time": "2021-11-08T00:26:27.147048",
     "exception": false,
     "start_time": "2021-11-08T00:26:06.252049",
     "status": "completed"
    },
    "tags": []
   },
   "outputs": [
    {
     "name": "stdout",
     "output_type": "stream",
     "text": [
      "Epoch 0, Loss 0.2287\n",
      "Training Accuracy: 0.7113, Testing Accuracy: 0.7016\n",
      "\n"
     ]
    },
    {
     "name": "stdout",
     "output_type": "stream",
     "text": [
      "Epoch 10, Loss 0.1042\n",
      "Training Accuracy: 0.9045, Testing Accuracy: 0.9173\n",
      "\n"
     ]
    },
    {
     "name": "stdout",
     "output_type": "stream",
     "text": [
      "Epoch 20, Loss 0.0796\n",
      "Training Accuracy: 0.9265, Testing Accuracy: 0.9400\n",
      "\n"
     ]
    },
    {
     "name": "stdout",
     "output_type": "stream",
     "text": [
      "Epoch 30, Loss 0.0682\n",
      "Training Accuracy: 0.9363, Testing Accuracy: 0.9486\n",
      "\n"
     ]
    },
    {
     "name": "stdout",
     "output_type": "stream",
     "text": [
      "Epoch 40, Loss 0.0614\n",
      "Training Accuracy: 0.9423, Testing Accuracy: 0.9516\n",
      "\n"
     ]
    },
    {
     "name": "stdout",
     "output_type": "stream",
     "text": [
      "Epoch 50, Loss 0.0568\n",
      "Training Accuracy: 0.9458, Testing Accuracy: 0.9567\n",
      "\n"
     ]
    },
    {
     "name": "stdout",
     "output_type": "stream",
     "text": [
      "Epoch 60, Loss 0.0535\n",
      "Training Accuracy: 0.9484, Testing Accuracy: 0.9592\n",
      "\n"
     ]
    },
    {
     "name": "stdout",
     "output_type": "stream",
     "text": [
      "Epoch 70, Loss 0.051\n",
      "Training Accuracy: 0.9502, Testing Accuracy: 0.9607\n",
      "\n"
     ]
    },
    {
     "name": "stdout",
     "output_type": "stream",
     "text": [
      "Epoch 80, Loss 0.049\n",
      "Training Accuracy: 0.9515, Testing Accuracy: 0.9617\n",
      "\n"
     ]
    },
    {
     "name": "stdout",
     "output_type": "stream",
     "text": [
      "Epoch 90, Loss 0.0473\n",
      "Training Accuracy: 0.9531, Testing Accuracy: 0.9627\n",
      "\n"
     ]
    },
    {
     "name": "stdout",
     "output_type": "stream",
     "text": [
      "Epoch 100, Loss 0.0459\n",
      "Training Accuracy: 0.9538, Testing Accuracy: 0.9632\n",
      "\n"
     ]
    },
    {
     "name": "stdout",
     "output_type": "stream",
     "text": [
      "Epoch 110, Loss 0.0447\n",
      "Training Accuracy: 0.9547, Testing Accuracy: 0.9632\n",
      "\n"
     ]
    },
    {
     "name": "stdout",
     "output_type": "stream",
     "text": [
      "Epoch 120, Loss 0.0437\n",
      "Training Accuracy: 0.9553, Testing Accuracy: 0.9637\n",
      "\n"
     ]
    },
    {
     "name": "stdout",
     "output_type": "stream",
     "text": [
      "Epoch 130, Loss 0.0428\n",
      "Training Accuracy: 0.9559, Testing Accuracy: 0.9642\n",
      "\n"
     ]
    },
    {
     "name": "stdout",
     "output_type": "stream",
     "text": [
      "Epoch 140, Loss 0.042\n",
      "Training Accuracy: 0.9562, Testing Accuracy: 0.9652\n",
      "\n"
     ]
    },
    {
     "name": "stdout",
     "output_type": "stream",
     "text": [
      "Epoch 150, Loss 0.0413\n",
      "Training Accuracy: 0.9569, Testing Accuracy: 0.9657\n",
      "\n"
     ]
    },
    {
     "name": "stdout",
     "output_type": "stream",
     "text": [
      "Epoch 160, Loss 0.0406\n",
      "Training Accuracy: 0.9574, Testing Accuracy: 0.9657\n",
      "\n"
     ]
    },
    {
     "name": "stdout",
     "output_type": "stream",
     "text": [
      "Epoch 170, Loss 0.04\n",
      "Training Accuracy: 0.9578, Testing Accuracy: 0.9657\n",
      "\n"
     ]
    },
    {
     "name": "stdout",
     "output_type": "stream",
     "text": [
      "Epoch 180, Loss 0.0395\n",
      "Training Accuracy: 0.9585, Testing Accuracy: 0.9662\n",
      "\n"
     ]
    },
    {
     "name": "stdout",
     "output_type": "stream",
     "text": [
      "Epoch 190, Loss 0.039\n",
      "Training Accuracy: 0.9586, Testing Accuracy: 0.9662\n",
      "\n"
     ]
    },
    {
     "name": "stdout",
     "output_type": "stream",
     "text": [
      "Epoch 200, Loss 0.0385\n",
      "Training Accuracy: 0.9592, Testing Accuracy: 0.9657\n",
      "\n"
     ]
    },
    {
     "name": "stdout",
     "output_type": "stream",
     "text": [
      "Epoch 210, Loss 0.0381\n",
      "Training Accuracy: 0.9596, Testing Accuracy: 0.9657\n",
      "\n"
     ]
    },
    {
     "name": "stdout",
     "output_type": "stream",
     "text": [
      "Epoch 220, Loss 0.0377\n",
      "Training Accuracy: 0.9598, Testing Accuracy: 0.9657\n",
      "\n"
     ]
    },
    {
     "name": "stdout",
     "output_type": "stream",
     "text": [
      "Epoch 230, Loss 0.0373\n",
      "Training Accuracy: 0.9601, Testing Accuracy: 0.9662\n",
      "\n"
     ]
    },
    {
     "name": "stdout",
     "output_type": "stream",
     "text": [
      "Epoch 240, Loss 0.0369\n",
      "Training Accuracy: 0.9607, Testing Accuracy: 0.9657\n",
      "\n"
     ]
    },
    {
     "data": {
      "text/plain": [
       "0.06178124792092672"
      ]
     },
     "execution_count": 23,
     "metadata": {},
     "output_type": "execute_result"
    }
   ],
   "source": [
    "lr_learner.train_loop(dl)"
   ]
  },
  {
   "cell_type": "code",
   "execution_count": 24,
   "id": "ca410940",
   "metadata": {
    "execution": {
     "iopub.execute_input": "2021-11-08T00:26:27.266687Z",
     "iopub.status.busy": "2021-11-08T00:26:27.265959Z",
     "iopub.status.idle": "2021-11-08T00:26:27.602868Z",
     "shell.execute_reply": "2021-11-08T00:26:27.601650Z"
    },
    "papermill": {
     "duration": 0.399206,
     "end_time": "2021-11-08T00:26:27.603044",
     "exception": false,
     "start_time": "2021-11-08T00:26:27.203838",
     "status": "completed"
    },
    "tags": []
   },
   "outputs": [
    {
     "data": {
      "text/plain": [
       "<matplotlib.legend.Legend at 0x7f424502f828>"
      ]
     },
     "execution_count": 24,
     "metadata": {},
     "output_type": "execute_result"
    },
    {
     "data": {
      "image/png": "[encoded data removed]",
      "text/plain": [
       "<Figure size 1080x720 with 1 Axes>"
      ]
     },
     "metadata": {
      "needs_background": "light"
     },
     "output_type": "display_data"
    }
   ],
   "source": [
    "#comparing the results of NN and LR\n",
    "plt.figure(figsize=(15,10))\n",
    "\n",
    "# Neural Network plots\n",
    "plt.plot(acc_nn.accuracies, 'r-', label = \"Training Accuracies - NN\")\n",
    "plt.plot(acc_nn.test_accuracies, 'g-', label = \"Testing Accuracies - NN\")\n",
    "\n",
    "# Logistic Regression plots\n",
    "plt.plot(acc_lr.accuracies, 'k-', label = \"Training Accuracies - LR\")\n",
    "plt.plot(acc_lr.test_accuracies, 'b-', label = \"Testing Accuracies - LR\")\n",
    "plt.legend()"
   ]
  },
  {
   "cell_type": "markdown",
   "id": "80dfb35c",
   "metadata": {
    "papermill": {
     "duration": 0.061539,
     "end_time": "2021-11-08T00:26:27.722211",
     "exception": false,
     "start_time": "2021-11-08T00:26:27.660672",
     "status": "completed"
    },
    "tags": []
   },
   "source": [
    "#### Plotting the outputs of this layer of the NN.\n"
   ]
  },
  {
   "cell_type": "code",
   "execution_count": 25,
   "id": "45eb2ff5",
   "metadata": {
    "execution": {
     "iopub.execute_input": "2021-11-08T00:26:27.846059Z",
     "iopub.status.busy": "2021-11-08T00:26:27.845368Z",
     "iopub.status.idle": "2021-11-08T00:26:27.873345Z",
     "shell.execute_reply": "2021-11-08T00:26:27.873921Z"
    },
    "papermill": {
     "duration": 0.092523,
     "end_time": "2021-11-08T00:26:27.874171",
     "exception": false,
     "start_time": "2021-11-08T00:26:27.781648",
     "status": "completed"
    },
    "tags": []
   },
   "outputs": [],
   "source": [
    "new_model = Model(layers[:-2])\n",
    "testing_plot = new_model(testing_data_x)"
   ]
  },
  {
   "cell_type": "code",
   "execution_count": 26,
   "id": "4c0a5485",
   "metadata": {
    "execution": {
     "iopub.execute_input": "2021-11-08T00:26:27.996704Z",
     "iopub.status.busy": "2021-11-08T00:26:27.995883Z",
     "iopub.status.idle": "2021-11-08T00:26:28.313979Z",
     "shell.execute_reply": "2021-11-08T00:26:28.314536Z"
    },
    "papermill": {
     "duration": 0.381154,
     "end_time": "2021-11-08T00:26:28.314714",
     "exception": false,
     "start_time": "2021-11-08T00:26:27.933560",
     "status": "completed"
    },
    "tags": []
   },
   "outputs": [
    {
     "data": {
      "text/plain": [
       "Text(0.5, 1.0, 'Outputs')"
      ]
     },
     "execution_count": 26,
     "metadata": {},
     "output_type": "execute_result"
    },
    {
     "data": {
      "image/png": "[encoded data removed]",
      "text/plain": [
       "<Figure size 576x504 with 1 Axes>"
      ]
     },
     "metadata": {
      "needs_background": "light"
     },
     "output_type": "display_data"
    }
   ],
   "source": [
    "# Plotting the scatter plot of points and color coding by class\n",
    "plt.figure(figsize=(8,7))\n",
    "plt.scatter(testing_plot[:,0], testing_plot[:,1], alpha = 0.1, c = y_test.ravel());\n",
    "plt.title('Outputs')"
   ]
  },
  {
   "cell_type": "markdown",
   "id": "a74fcf8f",
   "metadata": {
    "papermill": {
     "duration": 0.060545,
     "end_time": "2021-11-08T00:26:28.433575",
     "exception": false,
     "start_time": "2021-11-08T00:26:28.373030",
     "status": "completed"
    },
    "tags": []
   },
   "source": [
    "Probability contours"
   ]
  },
  {
   "cell_type": "code",
   "execution_count": 27,
   "id": "d0afc8e3",
   "metadata": {
    "execution": {
     "iopub.execute_input": "2021-11-08T00:26:28.566195Z",
     "iopub.status.busy": "2021-11-08T00:26:28.565516Z",
     "iopub.status.idle": "2021-11-08T00:26:28.580090Z",
     "shell.execute_reply": "2021-11-08T00:26:28.579470Z"
    },
    "papermill": {
     "duration": 0.084975,
     "end_time": "2021-11-08T00:26:28.580230",
     "exception": false,
     "start_time": "2021-11-08T00:26:28.495255",
     "status": "completed"
    },
    "tags": []
   },
   "outputs": [],
   "source": [
    "model_prob = Model(layers[-2:]) "
   ]
  },
  {
   "cell_type": "code",
   "execution_count": 28,
   "id": "9b96e238",
   "metadata": {
    "execution": {
     "iopub.execute_input": "2021-11-08T00:26:28.738484Z",
     "iopub.status.busy": "2021-11-08T00:26:28.737754Z",
     "iopub.status.idle": "2021-11-08T00:26:28.754196Z",
     "shell.execute_reply": "2021-11-08T00:26:28.753522Z"
    },
    "papermill": {
     "duration": 0.112454,
     "end_time": "2021-11-08T00:26:28.754358",
     "exception": false,
     "start_time": "2021-11-08T00:26:28.641904",
     "status": "completed"
    },
    "tags": []
   },
   "outputs": [],
   "source": [
    "#creating the x and y ranges according to the above generated plot.\n",
    "x_range = np.linspace(-4, 1, 100) \n",
    "y_range = np.linspace(-6, 6, 100) \n",
    "x_grid, y_grid = np.meshgrid(x_range, y_range) # x_grid and y_grig are of size 100 X 100\n",
    "\n",
    "# converting x_grid and y_grid to continuous arrays\n",
    "x_gridflat = np.ravel(x_grid)\n",
    "y_gridflat = np.ravel(y_grid)\n",
    "\n",
    "# The last layer of the current model takes two columns as input. Hence transpose of np.vstack() is required.\n",
    "X = np.vstack((x_gridflat, y_gridflat)).T\n",
    "\n",
    "prob_contour = model_prob(X).reshape(100,100) "
   ]
  },
  {
   "cell_type": "code",
   "execution_count": 29,
   "id": "da72499a",
   "metadata": {
    "execution": {
     "iopub.execute_input": "2021-11-08T00:26:28.882360Z",
     "iopub.status.busy": "2021-11-08T00:26:28.881617Z",
     "iopub.status.idle": "2021-11-08T00:26:29.243652Z",
     "shell.execute_reply": "2021-11-08T00:26:29.244243Z"
    },
    "papermill": {
     "duration": 0.429355,
     "end_time": "2021-11-08T00:26:29.244444",
     "exception": false,
     "start_time": "2021-11-08T00:26:28.815089",
     "status": "completed"
    },
    "tags": []
   },
   "outputs": [
    {
     "data": {
      "image/png": "[encoded data removed]",
      "text/plain": [
       "<Figure size 720x648 with 1 Axes>"
      ]
     },
     "metadata": {
      "needs_background": "light"
     },
     "output_type": "display_data"
    }
   ],
   "source": [
    "plt.figure(figsize=(10,9))\n",
    "plt.scatter(testing_plot[:,0], testing_plot[:,1], alpha = 0.1, c = y_test.ravel())\n",
    "contours = plt.contour(x_grid,y_grid,prob_contour)\n",
    "plt.title('Probability Contours')\n",
    "plt.clabel(contours, inline = True );"
   ]
  },
  {
   "cell_type": "code",
   "execution_count": null,
   "id": "e81b4ac7",
   "metadata": {
    "papermill": {
     "duration": 0.061027,
     "end_time": "2021-11-08T00:26:29.368519",
     "exception": false,
     "start_time": "2021-11-08T00:26:29.307492",
     "status": "completed"
    },
    "tags": []
   },
   "outputs": [],
   "source": []
  }
 ],
 "metadata": {
  "kernelspec": {
   "display_name": "Python 3",
   "language": "python",
   "name": "python3"
  },
  "language_info": {
   "codemirror_mode": {
    "name": "ipython",
    "version": 3
   },
   "file_extension": ".py",
   "mimetype": "text/x-python",
   "name": "python",
   "nbconvert_exporter": "python",
   "pygments_lexer": "ipython3",
   "version": "3.6.15"
  },
  "papermill": {
   "default_parameters": {},
   "duration": 177.904265,
   "end_time": "2021-11-08T00:26:29.845280",
   "environment_variables": {},
   "exception": null,
   "input_path": "2020-08-11-part2.ipynb",
   "output_path": "2020-08-11-part2.ipynb",
   "parameters": {},
   "start_time": "2021-11-08T00:23:31.941015",
   "version": "2.3.3"
  }
 },
 "nbformat": 4,
 "nbformat_minor": 5
}