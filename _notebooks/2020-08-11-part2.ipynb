{
 "cells": [
  {
   "cell_type": "markdown",
   "id": "98380cd3",
   "metadata": {
    "papermill": {
     "duration": 0.033046,
     "end_time": "2022-04-22T10:10:54.514440",
     "exception": false,
     "start_time": "2022-04-22T10:10:54.481394",
     "status": "completed"
    },
    "tags": []
   },
   "source": [
    "# Distinguish Your Own Digits (DYOD)"
   ]
  },
  {
   "cell_type": "markdown",
   "id": "ef31240d",
   "metadata": {
    "papermill": {
     "duration": 0.028327,
     "end_time": "2022-04-22T10:10:54.569761",
     "exception": false,
     "start_time": "2022-04-22T10:10:54.541434",
     "status": "completed"
    },
    "tags": []
   },
   "source": [
    "You are going to write a classifier that distinguishes between the number 3 and number 8."
   ]
  },
  {
   "cell_type": "code",
   "execution_count": 1,
   "id": "b15c8646",
   "metadata": {
    "execution": {
     "iopub.execute_input": "2022-04-22T10:10:54.635149Z",
     "iopub.status.busy": "2022-04-22T10:10:54.634514Z",
     "iopub.status.idle": "2022-04-22T10:10:54.647567Z",
     "shell.execute_reply": "2022-04-22T10:10:54.647037Z"
    },
    "papermill": {
     "duration": 0.051502,
     "end_time": "2022-04-22T10:10:54.647705",
     "exception": false,
     "start_time": "2022-04-22T10:10:54.596203",
     "status": "completed"
    },
    "tags": []
   },
   "outputs": [],
   "source": [
    "%load_ext autoreload\n",
    "%autoreload 2"
   ]
  },
  {
   "cell_type": "code",
   "execution_count": 2,
   "id": "22ef38dc",
   "metadata": {
    "execution": {
     "iopub.execute_input": "2022-04-22T10:10:54.705283Z",
     "iopub.status.busy": "2022-04-22T10:10:54.704677Z",
     "iopub.status.idle": "2022-04-22T10:10:55.308504Z",
     "shell.execute_reply": "2022-04-22T10:10:55.307299Z"
    },
    "papermill": {
     "duration": 0.634354,
     "end_time": "2022-04-22T10:10:55.308656",
     "exception": false,
     "start_time": "2022-04-22T10:10:54.674302",
     "status": "completed"
    },
    "tags": []
   },
   "outputs": [],
   "source": [
    "%matplotlib inline\n",
    "import numpy as np\n",
    "import matplotlib.pyplot as plt\n",
    "import pandas as pd"
   ]
  },
  {
   "cell_type": "markdown",
   "id": "ba036198",
   "metadata": {
    "papermill": {
     "duration": 0.026658,
     "end_time": "2022-04-22T10:10:55.362285",
     "exception": false,
     "start_time": "2022-04-22T10:10:55.335627",
     "status": "completed"
    },
    "tags": []
   },
   "source": [
    "From the command line run `pip install mnist`. This is a library that will help you bring down the mnist dataset. If you run this from a notebook, you need to put  `!pip install mnist` in a cell by itself."
   ]
  },
  {
   "cell_type": "code",
   "execution_count": 3,
   "id": "bb6ad8a1",
   "metadata": {
    "execution": {
     "iopub.execute_input": "2022-04-22T10:10:55.423320Z",
     "iopub.status.busy": "2022-04-22T10:10:55.419243Z",
     "iopub.status.idle": "2022-04-22T10:10:57.294388Z",
     "shell.execute_reply": "2022-04-22T10:10:57.293427Z"
    },
    "papermill": {
     "duration": 1.905791,
     "end_time": "2022-04-22T10:10:57.294540",
     "exception": false,
     "start_time": "2022-04-22T10:10:55.388749",
     "status": "completed"
    },
    "tags": []
   },
   "outputs": [
    {
     "name": "stdout",
     "output_type": "stream",
     "text": [
      "Collecting mnist\r\n"
     ]
    },
    {
     "name": "stdout",
     "output_type": "stream",
     "text": [
      "  Downloading mnist-0.2.2-py2.py3-none-any.whl (3.5 kB)\r\n",
      "Requirement already satisfied: numpy in /opt/hostedtoolcache/Python/3.6.15/x64/lib/python3.6/site-packages (from mnist) (1.19.5)\r\n"
     ]
    },
    {
     "name": "stdout",
     "output_type": "stream",
     "text": [
      "Installing collected packages: mnist\r\n",
      "Successfully installed mnist-0.2.2\r\n"
     ]
    }
   ],
   "source": [
    "!pip install mnist"
   ]
  },
  {
   "cell_type": "markdown",
   "id": "69df9c9a",
   "metadata": {
    "papermill": {
     "duration": 0.027807,
     "end_time": "2022-04-22T10:10:57.350296",
     "exception": false,
     "start_time": "2022-04-22T10:10:57.322489",
     "status": "completed"
    },
    "tags": []
   },
   "source": [
    "## Preparing the Data"
   ]
  },
  {
   "cell_type": "code",
   "execution_count": 4,
   "id": "7f69d806",
   "metadata": {
    "execution": {
     "iopub.execute_input": "2022-04-22T10:10:57.415239Z",
     "iopub.status.busy": "2022-04-22T10:10:57.410474Z",
     "iopub.status.idle": "2022-04-22T10:10:57.427454Z",
     "shell.execute_reply": "2022-04-22T10:10:57.426946Z"
    },
    "papermill": {
     "duration": 0.04979,
     "end_time": "2022-04-22T10:10:57.427577",
     "exception": false,
     "start_time": "2022-04-22T10:10:57.377787",
     "status": "completed"
    },
    "tags": []
   },
   "outputs": [],
   "source": [
    "import mnist"
   ]
  },
  {
   "cell_type": "code",
   "execution_count": 5,
   "id": "a411e44f",
   "metadata": {
    "execution": {
     "iopub.execute_input": "2022-04-22T10:10:57.491033Z",
     "iopub.status.busy": "2022-04-22T10:10:57.486792Z",
     "iopub.status.idle": "2022-04-22T10:10:58.100618Z",
     "shell.execute_reply": "2022-04-22T10:10:58.100084Z"
    },
    "papermill": {
     "duration": 0.645512,
     "end_time": "2022-04-22T10:10:58.100759",
     "exception": false,
     "start_time": "2022-04-22T10:10:57.455247",
     "status": "completed"
    },
    "tags": []
   },
   "outputs": [],
   "source": [
    "train_images = mnist.train_images()\n",
    "train_labels = mnist.train_labels()"
   ]
  },
  {
   "cell_type": "code",
   "execution_count": 6,
   "id": "dceab3a5",
   "metadata": {
    "execution": {
     "iopub.execute_input": "2022-04-22T10:10:58.165800Z",
     "iopub.status.busy": "2022-04-22T10:10:58.165191Z",
     "iopub.status.idle": "2022-04-22T10:10:58.181761Z",
     "shell.execute_reply": "2022-04-22T10:10:58.182266Z"
    },
    "papermill": {
     "duration": 0.052735,
     "end_time": "2022-04-22T10:10:58.182411",
     "exception": false,
     "start_time": "2022-04-22T10:10:58.129676",
     "status": "completed"
    },
    "tags": []
   },
   "outputs": [
    {
     "data": {
      "text/plain": [
       "((60000, 28, 28), (60000,))"
      ]
     },
     "execution_count": 6,
     "metadata": {},
     "output_type": "execute_result"
    }
   ],
   "source": [
    "train_images.shape, train_labels.shape"
   ]
  },
  {
   "cell_type": "code",
   "execution_count": 7,
   "id": "f50dc2bb",
   "metadata": {
    "execution": {
     "iopub.execute_input": "2022-04-22T10:10:58.245457Z",
     "iopub.status.busy": "2022-04-22T10:10:58.244810Z",
     "iopub.status.idle": "2022-04-22T10:10:58.425389Z",
     "shell.execute_reply": "2022-04-22T10:10:58.424499Z"
    },
    "papermill": {
     "duration": 0.214697,
     "end_time": "2022-04-22T10:10:58.425605",
     "exception": false,
     "start_time": "2022-04-22T10:10:58.210908",
     "status": "completed"
    },
    "tags": []
   },
   "outputs": [],
   "source": [
    "test_images = mnist.test_images()\n",
    "test_labels = mnist.test_labels()"
   ]
  },
  {
   "cell_type": "code",
   "execution_count": 8,
   "id": "fc38cf1b",
   "metadata": {
    "execution": {
     "iopub.execute_input": "2022-04-22T10:10:58.488749Z",
     "iopub.status.busy": "2022-04-22T10:10:58.488147Z",
     "iopub.status.idle": "2022-04-22T10:10:58.502835Z",
     "shell.execute_reply": "2022-04-22T10:10:58.502321Z"
    },
    "papermill": {
     "duration": 0.046404,
     "end_time": "2022-04-22T10:10:58.502960",
     "exception": false,
     "start_time": "2022-04-22T10:10:58.456556",
     "status": "completed"
    },
    "tags": []
   },
   "outputs": [
    {
     "data": {
      "text/plain": [
       "((10000, 28, 28), (10000,))"
      ]
     },
     "execution_count": 8,
     "metadata": {},
     "output_type": "execute_result"
    }
   ],
   "source": [
    "test_images.shape, test_labels.shape"
   ]
  },
  {
   "cell_type": "code",
   "execution_count": 9,
   "id": "f9ed8fe0",
   "metadata": {
    "execution": {
     "iopub.execute_input": "2022-04-22T10:10:58.565178Z",
     "iopub.status.busy": "2022-04-22T10:10:58.564581Z",
     "iopub.status.idle": "2022-04-22T10:10:58.722338Z",
     "shell.execute_reply": "2022-04-22T10:10:58.721802Z"
    },
    "papermill": {
     "duration": 0.190695,
     "end_time": "2022-04-22T10:10:58.722478",
     "exception": false,
     "start_time": "2022-04-22T10:10:58.531783",
     "status": "completed"
    },
    "tags": []
   },
   "outputs": [
    {
     "name": "stdout",
     "output_type": "stream",
     "text": [
      "2\n"
     ]
    },
    {
     "data": {
      "text/plain": [
       "<matplotlib.image.AxesImage at 0x7fe5db689358>"
      ]
     },
     "execution_count": 9,
     "metadata": {},
     "output_type": "execute_result"
    },
    {
     "data": {
      "image/png": "[encoded data removed]",
      "text/plain": [
       "<Figure size 432x288 with 1 Axes>"
      ]
     },
     "metadata": {
      "needs_background": "light"
     },
     "output_type": "display_data"
    }
   ],
   "source": [
    "image_index = 7776 # You may select anything up to 60,000\n",
    "print(train_labels[image_index]) \n",
    "plt.imshow(train_images[image_index], cmap='Greys')"
   ]
  },
  {
   "cell_type": "markdown",
   "id": "a8d2388d",
   "metadata": {
    "papermill": {
     "duration": 0.029445,
     "end_time": "2022-04-22T10:10:58.781604",
     "exception": false,
     "start_time": "2022-04-22T10:10:58.752159",
     "status": "completed"
    },
    "tags": []
   },
   "source": [
    "## Filter data to get 3 and 8 out"
   ]
  },
  {
   "cell_type": "code",
   "execution_count": 10,
   "id": "776f7fc7",
   "metadata": {
    "execution": {
     "iopub.execute_input": "2022-04-22T10:10:58.848044Z",
     "iopub.status.busy": "2022-04-22T10:10:58.847394Z",
     "iopub.status.idle": "2022-04-22T10:10:58.865829Z",
     "shell.execute_reply": "2022-04-22T10:10:58.865303Z"
    },
    "papermill": {
     "duration": 0.054825,
     "end_time": "2022-04-22T10:10:58.865964",
     "exception": false,
     "start_time": "2022-04-22T10:10:58.811139",
     "status": "completed"
    },
    "tags": []
   },
   "outputs": [],
   "source": [
    "train_filter = np.where((train_labels == 3 ) | (train_labels == 8))\n",
    "test_filter = np.where((test_labels == 3) | (test_labels == 8))\n",
    "X_train, y_train = train_images[train_filter], train_labels[train_filter]\n",
    "X_test, y_test = test_images[test_filter], test_labels[test_filter]"
   ]
  },
  {
   "cell_type": "markdown",
   "id": "948f0b7e",
   "metadata": {
    "papermill": {
     "duration": 0.029328,
     "end_time": "2022-04-22T10:10:58.925034",
     "exception": false,
     "start_time": "2022-04-22T10:10:58.895706",
     "status": "completed"
    },
    "tags": []
   },
   "source": [
    "We normalize the pizel values in the 0 to 1 range"
   ]
  },
  {
   "cell_type": "code",
   "execution_count": 11,
   "id": "ee4c2166",
   "metadata": {
    "execution": {
     "iopub.execute_input": "2022-04-22T10:10:58.988271Z",
     "iopub.status.busy": "2022-04-22T10:10:58.987506Z",
     "iopub.status.idle": "2022-04-22T10:10:59.042900Z",
     "shell.execute_reply": "2022-04-22T10:10:59.042305Z"
    },
    "papermill": {
     "duration": 0.088695,
     "end_time": "2022-04-22T10:10:59.043034",
     "exception": false,
     "start_time": "2022-04-22T10:10:58.954339",
     "status": "completed"
    },
    "tags": []
   },
   "outputs": [],
   "source": [
    "X_train = X_train/255.\n",
    "X_test = X_test/255."
   ]
  },
  {
   "cell_type": "markdown",
   "id": "ddcf4fab",
   "metadata": {
    "papermill": {
     "duration": 0.029548,
     "end_time": "2022-04-22T10:10:59.102280",
     "exception": false,
     "start_time": "2022-04-22T10:10:59.072732",
     "status": "completed"
    },
    "tags": []
   },
   "source": [
    "And setup the labels as 1 (when the digit is 3) and 0 (when the digit is 8)"
   ]
  },
  {
   "cell_type": "code",
   "execution_count": 12,
   "id": "7dc908f2",
   "metadata": {
    "execution": {
     "iopub.execute_input": "2022-04-22T10:10:59.166292Z",
     "iopub.status.busy": "2022-04-22T10:10:59.165664Z",
     "iopub.status.idle": "2022-04-22T10:10:59.179988Z",
     "shell.execute_reply": "2022-04-22T10:10:59.179481Z"
    },
    "papermill": {
     "duration": 0.048484,
     "end_time": "2022-04-22T10:10:59.180109",
     "exception": false,
     "start_time": "2022-04-22T10:10:59.131625",
     "status": "completed"
    },
    "tags": []
   },
   "outputs": [],
   "source": [
    "y_train = 1*(y_train==3)\n",
    "y_test = 1*(y_test==3)"
   ]
  },
  {
   "cell_type": "code",
   "execution_count": 13,
   "id": "01e4e969",
   "metadata": {
    "execution": {
     "iopub.execute_input": "2022-04-22T10:10:59.243338Z",
     "iopub.status.busy": "2022-04-22T10:10:59.242728Z",
     "iopub.status.idle": "2022-04-22T10:10:59.258726Z",
     "shell.execute_reply": "2022-04-22T10:10:59.258239Z"
    },
    "papermill": {
     "duration": 0.049278,
     "end_time": "2022-04-22T10:10:59.258853",
     "exception": false,
     "start_time": "2022-04-22T10:10:59.209575",
     "status": "completed"
    },
    "tags": []
   },
   "outputs": [
    {
     "data": {
      "text/plain": [
       "((11982, 28, 28), (1984, 28, 28))"
      ]
     },
     "execution_count": 13,
     "metadata": {},
     "output_type": "execute_result"
    }
   ],
   "source": [
    "X_train.shape, X_test.shape"
   ]
  },
  {
   "cell_type": "markdown",
   "id": "5ccf3f85",
   "metadata": {
    "papermill": {
     "duration": 0.029364,
     "end_time": "2022-04-22T10:10:59.318074",
     "exception": false,
     "start_time": "2022-04-22T10:10:59.288710",
     "status": "completed"
    },
    "tags": []
   },
   "source": [
    "We reshape the data to flatten the image pixels into a set of features or co-variates:"
   ]
  },
  {
   "cell_type": "code",
   "execution_count": 14,
   "id": "5286a4a3",
   "metadata": {
    "execution": {
     "iopub.execute_input": "2022-04-22T10:10:59.382487Z",
     "iopub.status.busy": "2022-04-22T10:10:59.381844Z",
     "iopub.status.idle": "2022-04-22T10:10:59.398342Z",
     "shell.execute_reply": "2022-04-22T10:10:59.397832Z"
    },
    "papermill": {
     "duration": 0.050703,
     "end_time": "2022-04-22T10:10:59.398471",
     "exception": false,
     "start_time": "2022-04-22T10:10:59.347768",
     "status": "completed"
    },
    "tags": []
   },
   "outputs": [
    {
     "data": {
      "text/plain": [
       "((11982, 784), (1984, 784))"
      ]
     },
     "execution_count": 14,
     "metadata": {},
     "output_type": "execute_result"
    }
   ],
   "source": [
    "X_train = X_train.reshape(X_train.shape[0], -1)\n",
    "X_test = X_test.reshape(X_test.shape[0], -1)\n",
    "X_train.shape, X_test.shape"
   ]
  },
  {
   "cell_type": "code",
   "execution_count": 15,
   "id": "73c5f88a",
   "metadata": {
    "execution": {
     "iopub.execute_input": "2022-04-22T10:10:59.465997Z",
     "iopub.status.busy": "2022-04-22T10:10:59.465379Z",
     "iopub.status.idle": "2022-04-22T10:10:59.485490Z",
     "shell.execute_reply": "2022-04-22T10:10:59.486003Z"
    },
    "papermill": {
     "duration": 0.057574,
     "end_time": "2022-04-22T10:10:59.486181",
     "exception": false,
     "start_time": "2022-04-22T10:10:59.428607",
     "status": "completed"
    },
    "tags": []
   },
   "outputs": [],
   "source": [
    "#Impoting functions from 'Kudzu'\n",
    "from kudzu.model import Model\n",
    "from kudzu.train import Learner\n",
    "from kudzu.optim import GD\n",
    "from kudzu.data import Data, Sampler,Dataloader\n",
    "\n",
    "from kudzu.callbacks import AccCallback\n",
    "from kudzu.callbacks import ClfCallback\n",
    "\n",
    "from kudzu.loss import MSE\n",
    "\n",
    "from kudzu.layer import Sigmoid,Relu\n",
    "from kudzu.layer import Affine"
   ]
  },
  {
   "cell_type": "markdown",
   "id": "bc01172a",
   "metadata": {
    "papermill": {
     "duration": 0.030533,
     "end_time": "2022-04-22T10:10:59.546797",
     "exception": false,
     "start_time": "2022-04-22T10:10:59.516264",
     "status": "completed"
    },
    "tags": []
   },
   "source": [
    "### Let us create a `Config` class, to store important parameters. \n",
    "This class essentially plays the role of a dictionary."
   ]
  },
  {
   "cell_type": "code",
   "execution_count": 16,
   "id": "978281aa",
   "metadata": {
    "execution": {
     "iopub.execute_input": "2022-04-22T10:10:59.610405Z",
     "iopub.status.busy": "2022-04-22T10:10:59.609766Z",
     "iopub.status.idle": "2022-04-22T10:10:59.625845Z",
     "shell.execute_reply": "2022-04-22T10:10:59.625368Z"
    },
    "papermill": {
     "duration": 0.04968,
     "end_time": "2022-04-22T10:10:59.625968",
     "exception": false,
     "start_time": "2022-04-22T10:10:59.576288",
     "status": "completed"
    },
    "tags": []
   },
   "outputs": [],
   "source": [
    "class Config:\n",
    "    pass\n",
    "config = Config()\n",
    "config.lr = 0.001\n",
    "config.num_epochs = 250\n",
    "config.bs = 50"
   ]
  },
  {
   "cell_type": "markdown",
   "id": "1385fa59",
   "metadata": {
    "papermill": {
     "duration": 0.029831,
     "end_time": "2022-04-22T10:10:59.685737",
     "exception": false,
     "start_time": "2022-04-22T10:10:59.655906",
     "status": "completed"
    },
    "tags": []
   },
   "source": [
    "### Running Models with the Training data\n",
    "Details about the network layers:\n",
    "- A first affine layer has 784 inputs and does 100 affine transforms. These are followed by a Relu\n",
    "- A second affine layer has 100 inputs from the 100 activations of the past layer, and does 100 affine transforms. These are followed by a Relu\n",
    "- A third affine layer has 100 activations and does 2 affine transformations to create an embedding for visualization. There is no non-linearity here.\n",
    "- A final \"logistic regression\" which has an affine transform from 2 inputs to 1 output, which is squeezed through a sigmoid.\n"
   ]
  },
  {
   "cell_type": "code",
   "execution_count": 17,
   "id": "2b9c66db",
   "metadata": {
    "execution": {
     "iopub.execute_input": "2022-04-22T10:10:59.750878Z",
     "iopub.status.busy": "2022-04-22T10:10:59.750191Z",
     "iopub.status.idle": "2022-04-22T10:10:59.766868Z",
     "shell.execute_reply": "2022-04-22T10:10:59.767324Z"
    },
    "papermill": {
     "duration": 0.051584,
     "end_time": "2022-04-22T10:10:59.767458",
     "exception": false,
     "start_time": "2022-04-22T10:10:59.715874",
     "status": "completed"
    },
    "tags": []
   },
   "outputs": [],
   "source": [
    "data = Data(X_train, y_train.reshape(-1,1))\n",
    "sampler = Sampler(data, config.bs, shuffle=True)\n",
    "\n",
    "dl = Dataloader(data, sampler)\n",
    "\n",
    "opt = GD(config.lr)\n",
    "loss = MSE()"
   ]
  },
  {
   "cell_type": "code",
   "execution_count": 18,
   "id": "b275e4c2",
   "metadata": {
    "execution": {
     "iopub.execute_input": "2022-04-22T10:10:59.832206Z",
     "iopub.status.busy": "2022-04-22T10:10:59.831603Z",
     "iopub.status.idle": "2022-04-22T10:10:59.845080Z",
     "shell.execute_reply": "2022-04-22T10:10:59.844597Z"
    },
    "papermill": {
     "duration": 0.047708,
     "end_time": "2022-04-22T10:10:59.845205",
     "exception": false,
     "start_time": "2022-04-22T10:10:59.797497",
     "status": "completed"
    },
    "tags": []
   },
   "outputs": [],
   "source": [
    "training_data_x = X_train\n",
    "testing_data_x = X_test\n",
    "training_data_y = y_train.reshape(-1,1)\n",
    "testing_data_y = y_test.reshape(-1,1)"
   ]
  },
  {
   "cell_type": "code",
   "execution_count": 19,
   "id": "76951160",
   "metadata": {
    "execution": {
     "iopub.execute_input": "2022-04-22T10:10:59.910858Z",
     "iopub.status.busy": "2022-04-22T10:10:59.910254Z",
     "iopub.status.idle": "2022-04-22T10:10:59.928484Z",
     "shell.execute_reply": "2022-04-22T10:10:59.928009Z"
    },
    "papermill": {
     "duration": 0.053511,
     "end_time": "2022-04-22T10:10:59.928604",
     "exception": false,
     "start_time": "2022-04-22T10:10:59.875093",
     "status": "completed"
    },
    "tags": []
   },
   "outputs": [
    {
     "name": "stdout",
     "output_type": "stream",
     "text": [
      "xavier\n",
      "xavier\n",
      "xavier\n",
      "xavier\n",
      "xavier\n"
     ]
    }
   ],
   "source": [
    "layers = [Affine(\"first\", 784, 100), Relu(\"first\"), Affine(\"second\", 100, 100), Relu(\"second\"), Affine(\"third\", 100, 2), Affine(\"last\", 2, 1), Sigmoid(\"last\")]\n",
    "model_nn = Model(layers)\n",
    "model_lr = Model([Affine(\"logits\", 784, 1), Sigmoid(\"sigmoid\")])"
   ]
  },
  {
   "cell_type": "code",
   "execution_count": 20,
   "id": "6eede77a",
   "metadata": {
    "execution": {
     "iopub.execute_input": "2022-04-22T10:10:59.994311Z",
     "iopub.status.busy": "2022-04-22T10:10:59.993651Z",
     "iopub.status.idle": "2022-04-22T10:11:00.006653Z",
     "shell.execute_reply": "2022-04-22T10:11:00.007114Z"
    },
    "papermill": {
     "duration": 0.048372,
     "end_time": "2022-04-22T10:11:00.007259",
     "exception": false,
     "start_time": "2022-04-22T10:10:59.958887",
     "status": "completed"
    },
    "tags": []
   },
   "outputs": [],
   "source": [
    "nn_learner = Learner(loss, model_nn, opt, config.num_epochs)\n",
    "acc_nn = ClfCallback(nn_learner, config.bs, training_data_x , testing_data_x, training_data_y, testing_data_y)\n",
    "nn_learner.set_callbacks([acc_nn])"
   ]
  },
  {
   "cell_type": "code",
   "execution_count": 21,
   "id": "877b6cc7",
   "metadata": {
    "execution": {
     "iopub.execute_input": "2022-04-22T10:11:00.072563Z",
     "iopub.status.busy": "2022-04-22T10:11:00.071392Z",
     "iopub.status.idle": "2022-04-22T10:11:00.086829Z",
     "shell.execute_reply": "2022-04-22T10:11:00.086341Z"
    },
    "papermill": {
     "duration": 0.048988,
     "end_time": "2022-04-22T10:11:00.086954",
     "exception": false,
     "start_time": "2022-04-22T10:11:00.037966",
     "status": "completed"
    },
    "tags": []
   },
   "outputs": [],
   "source": [
    "lr_learner = Learner(loss, model_lr, opt, config.num_epochs)\n",
    "acc_lr = ClfCallback(lr_learner, config.bs, training_data_x , testing_data_x, training_data_y, testing_data_y)\n",
    "lr_learner.set_callbacks([acc_lr])"
   ]
  },
  {
   "cell_type": "code",
   "execution_count": 22,
   "id": "d9b133c3",
   "metadata": {
    "execution": {
     "iopub.execute_input": "2022-04-22T10:11:00.155325Z",
     "iopub.status.busy": "2022-04-22T10:11:00.154732Z",
     "iopub.status.idle": "2022-04-22T10:12:28.174711Z",
     "shell.execute_reply": "2022-04-22T10:12:28.175285Z"
    },
    "papermill": {
     "duration": 88.057962,
     "end_time": "2022-04-22T10:12:28.175441",
     "exception": false,
     "start_time": "2022-04-22T10:11:00.117479",
     "status": "completed"
    },
    "tags": []
   },
   "outputs": [
    {
     "name": "stdout",
     "output_type": "stream",
     "text": [
      "Epoch 0, Loss 0.2495\n",
      "Training Accuracy: 0.5582, Testing Accuracy: 0.5433\n",
      "\n"
     ]
    },
    {
     "name": "stdout",
     "output_type": "stream",
     "text": [
      "Epoch 10, Loss 0.1678\n",
      "Training Accuracy: 0.8577, Testing Accuracy: 0.8574\n",
      "\n"
     ]
    },
    {
     "name": "stdout",
     "output_type": "stream",
     "text": [
      "Epoch 20, Loss 0.088\n",
      "Training Accuracy: 0.9110, Testing Accuracy: 0.9229\n",
      "\n"
     ]
    },
    {
     "name": "stdout",
     "output_type": "stream",
     "text": [
      "Epoch 30, Loss 0.0581\n",
      "Training Accuracy: 0.9393, Testing Accuracy: 0.9476\n",
      "\n"
     ]
    },
    {
     "name": "stdout",
     "output_type": "stream",
     "text": [
      "Epoch 40, Loss 0.0455\n",
      "Training Accuracy: 0.9511, Testing Accuracy: 0.9556\n",
      "\n"
     ]
    },
    {
     "name": "stdout",
     "output_type": "stream",
     "text": [
      "Epoch 50, Loss 0.0391\n",
      "Training Accuracy: 0.9577, Testing Accuracy: 0.9662\n",
      "\n"
     ]
    },
    {
     "name": "stdout",
     "output_type": "stream",
     "text": [
      "Epoch 60, Loss 0.0352\n",
      "Training Accuracy: 0.9612, Testing Accuracy: 0.9703\n",
      "\n"
     ]
    },
    {
     "name": "stdout",
     "output_type": "stream",
     "text": [
      "Epoch 70, Loss 0.0326\n",
      "Training Accuracy: 0.9634, Testing Accuracy: 0.9693\n",
      "\n"
     ]
    },
    {
     "name": "stdout",
     "output_type": "stream",
     "text": [
      "Epoch 80, Loss 0.0307\n",
      "Training Accuracy: 0.9649, Testing Accuracy: 0.9698\n",
      "\n"
     ]
    },
    {
     "name": "stdout",
     "output_type": "stream",
     "text": [
      "Epoch 90, Loss 0.0292\n",
      "Training Accuracy: 0.9668, Testing Accuracy: 0.9718\n",
      "\n"
     ]
    },
    {
     "name": "stdout",
     "output_type": "stream",
     "text": [
      "Epoch 100, Loss 0.028\n",
      "Training Accuracy: 0.9678, Testing Accuracy: 0.9733\n",
      "\n"
     ]
    },
    {
     "name": "stdout",
     "output_type": "stream",
     "text": [
      "Epoch 110, Loss 0.027\n",
      "Training Accuracy: 0.9690, Testing Accuracy: 0.9733\n",
      "\n"
     ]
    },
    {
     "name": "stdout",
     "output_type": "stream",
     "text": [
      "Epoch 120, Loss 0.0261\n",
      "Training Accuracy: 0.9704, Testing Accuracy: 0.9733\n",
      "\n"
     ]
    },
    {
     "name": "stdout",
     "output_type": "stream",
     "text": [
      "Epoch 130, Loss 0.0253\n",
      "Training Accuracy: 0.9714, Testing Accuracy: 0.9733\n",
      "\n"
     ]
    },
    {
     "name": "stdout",
     "output_type": "stream",
     "text": [
      "Epoch 140, Loss 0.0246\n",
      "Training Accuracy: 0.9719, Testing Accuracy: 0.9733\n",
      "\n"
     ]
    },
    {
     "name": "stdout",
     "output_type": "stream",
     "text": [
      "Epoch 150, Loss 0.024\n",
      "Training Accuracy: 0.9726, Testing Accuracy: 0.9723\n",
      "\n"
     ]
    },
    {
     "name": "stdout",
     "output_type": "stream",
     "text": [
      "Epoch 160, Loss 0.0234\n",
      "Training Accuracy: 0.9732, Testing Accuracy: 0.9733\n",
      "\n"
     ]
    },
    {
     "name": "stdout",
     "output_type": "stream",
     "text": [
      "Epoch 170, Loss 0.0228\n",
      "Training Accuracy: 0.9742, Testing Accuracy: 0.9723\n",
      "\n"
     ]
    },
    {
     "name": "stdout",
     "output_type": "stream",
     "text": [
      "Epoch 180, Loss 0.0223\n",
      "Training Accuracy: 0.9747, Testing Accuracy: 0.9728\n",
      "\n"
     ]
    },
    {
     "name": "stdout",
     "output_type": "stream",
     "text": [
      "Epoch 190, Loss 0.0218\n",
      "Training Accuracy: 0.9755, Testing Accuracy: 0.9728\n",
      "\n"
     ]
    },
    {
     "name": "stdout",
     "output_type": "stream",
     "text": [
      "Epoch 200, Loss 0.0213\n",
      "Training Accuracy: 0.9760, Testing Accuracy: 0.9718\n",
      "\n"
     ]
    },
    {
     "name": "stdout",
     "output_type": "stream",
     "text": [
      "Epoch 210, Loss 0.0209\n",
      "Training Accuracy: 0.9769, Testing Accuracy: 0.9728\n",
      "\n"
     ]
    },
    {
     "name": "stdout",
     "output_type": "stream",
     "text": [
      "Epoch 220, Loss 0.0205\n",
      "Training Accuracy: 0.9775, Testing Accuracy: 0.9728\n",
      "\n"
     ]
    },
    {
     "name": "stdout",
     "output_type": "stream",
     "text": [
      "Epoch 230, Loss 0.0201\n",
      "Training Accuracy: 0.9777, Testing Accuracy: 0.9728\n",
      "\n"
     ]
    },
    {
     "name": "stdout",
     "output_type": "stream",
     "text": [
      "Epoch 240, Loss 0.0197\n",
      "Training Accuracy: 0.9783, Testing Accuracy: 0.9733\n",
      "\n"
     ]
    },
    {
     "data": {
      "text/plain": [
       "0.009409185911200454"
      ]
     },
     "execution_count": 22,
     "metadata": {},
     "output_type": "execute_result"
    }
   ],
   "source": [
    "nn_learner.train_loop(dl)"
   ]
  },
  {
   "cell_type": "code",
   "execution_count": 23,
   "id": "e0163366",
   "metadata": {
    "execution": {
     "iopub.execute_input": "2022-04-22T10:12:28.263775Z",
     "iopub.status.busy": "2022-04-22T10:12:28.263154Z",
     "iopub.status.idle": "2022-04-22T10:12:43.652097Z",
     "shell.execute_reply": "2022-04-22T10:12:43.652960Z"
    },
    "papermill": {
     "duration": 15.438986,
     "end_time": "2022-04-22T10:12:43.653131",
     "exception": false,
     "start_time": "2022-04-22T10:12:28.214145",
     "status": "completed"
    },
    "tags": []
   },
   "outputs": [
    {
     "name": "stdout",
     "output_type": "stream",
     "text": [
      "Epoch 0, Loss 0.2412\n",
      "Training Accuracy: 0.6946, Testing Accuracy: 0.7167\n",
      "\n"
     ]
    },
    {
     "name": "stdout",
     "output_type": "stream",
     "text": [
      "Epoch 10, Loss 0.1033\n",
      "Training Accuracy: 0.9059, Testing Accuracy: 0.9224\n",
      "\n"
     ]
    },
    {
     "name": "stdout",
     "output_type": "stream",
     "text": [
      "Epoch 20, Loss 0.0796\n",
      "Training Accuracy: 0.9252, Testing Accuracy: 0.9395\n",
      "\n"
     ]
    },
    {
     "name": "stdout",
     "output_type": "stream",
     "text": [
      "Epoch 30, Loss 0.0686\n",
      "Training Accuracy: 0.9356, Testing Accuracy: 0.9496\n",
      "\n"
     ]
    },
    {
     "name": "stdout",
     "output_type": "stream",
     "text": [
      "Epoch 40, Loss 0.0619\n",
      "Training Accuracy: 0.9412, Testing Accuracy: 0.9546\n",
      "\n"
     ]
    },
    {
     "name": "stdout",
     "output_type": "stream",
     "text": [
      "Epoch 50, Loss 0.0573\n",
      "Training Accuracy: 0.9454, Testing Accuracy: 0.9572\n",
      "\n"
     ]
    },
    {
     "name": "stdout",
     "output_type": "stream",
     "text": [
      "Epoch 60, Loss 0.054\n",
      "Training Accuracy: 0.9483, Testing Accuracy: 0.9587\n",
      "\n"
     ]
    },
    {
     "name": "stdout",
     "output_type": "stream",
     "text": [
      "Epoch 70, Loss 0.0514\n",
      "Training Accuracy: 0.9497, Testing Accuracy: 0.9592\n",
      "\n"
     ]
    },
    {
     "name": "stdout",
     "output_type": "stream",
     "text": [
      "Epoch 80, Loss 0.0493\n",
      "Training Accuracy: 0.9514, Testing Accuracy: 0.9587\n",
      "\n"
     ]
    },
    {
     "name": "stdout",
     "output_type": "stream",
     "text": [
      "Epoch 90, Loss 0.0476\n",
      "Training Accuracy: 0.9522, Testing Accuracy: 0.9612\n",
      "\n"
     ]
    },
    {
     "name": "stdout",
     "output_type": "stream",
     "text": [
      "Epoch 100, Loss 0.0462\n",
      "Training Accuracy: 0.9538, Testing Accuracy: 0.9632\n",
      "\n"
     ]
    },
    {
     "name": "stdout",
     "output_type": "stream",
     "text": [
      "Epoch 110, Loss 0.0449\n",
      "Training Accuracy: 0.9545, Testing Accuracy: 0.9627\n",
      "\n"
     ]
    },
    {
     "name": "stdout",
     "output_type": "stream",
     "text": [
      "Epoch 120, Loss 0.0439\n",
      "Training Accuracy: 0.9552, Testing Accuracy: 0.9642\n",
      "\n"
     ]
    },
    {
     "name": "stdout",
     "output_type": "stream",
     "text": [
      "Epoch 130, Loss 0.0429\n",
      "Training Accuracy: 0.9562, Testing Accuracy: 0.9642\n",
      "\n"
     ]
    },
    {
     "name": "stdout",
     "output_type": "stream",
     "text": [
      "Epoch 140, Loss 0.0421\n",
      "Training Accuracy: 0.9568, Testing Accuracy: 0.9647\n",
      "\n"
     ]
    },
    {
     "name": "stdout",
     "output_type": "stream",
     "text": [
      "Epoch 150, Loss 0.0413\n",
      "Training Accuracy: 0.9576, Testing Accuracy: 0.9647\n",
      "\n"
     ]
    },
    {
     "name": "stdout",
     "output_type": "stream",
     "text": [
      "Epoch 160, Loss 0.0406\n",
      "Training Accuracy: 0.9581, Testing Accuracy: 0.9657\n",
      "\n"
     ]
    },
    {
     "name": "stdout",
     "output_type": "stream",
     "text": [
      "Epoch 170, Loss 0.04\n",
      "Training Accuracy: 0.9585, Testing Accuracy: 0.9672\n",
      "\n"
     ]
    },
    {
     "name": "stdout",
     "output_type": "stream",
     "text": [
      "Epoch 180, Loss 0.0395\n",
      "Training Accuracy: 0.9588, Testing Accuracy: 0.9682\n",
      "\n"
     ]
    },
    {
     "name": "stdout",
     "output_type": "stream",
     "text": [
      "Epoch 190, Loss 0.0389\n",
      "Training Accuracy: 0.9589, Testing Accuracy: 0.9682\n",
      "\n"
     ]
    },
    {
     "name": "stdout",
     "output_type": "stream",
     "text": [
      "Epoch 200, Loss 0.0385\n",
      "Training Accuracy: 0.9592, Testing Accuracy: 0.9682\n",
      "\n"
     ]
    },
    {
     "name": "stdout",
     "output_type": "stream",
     "text": [
      "Epoch 210, Loss 0.038\n",
      "Training Accuracy: 0.9595, Testing Accuracy: 0.9677\n",
      "\n"
     ]
    },
    {
     "name": "stdout",
     "output_type": "stream",
     "text": [
      "Epoch 220, Loss 0.0376\n",
      "Training Accuracy: 0.9595, Testing Accuracy: 0.9677\n",
      "\n"
     ]
    },
    {
     "name": "stdout",
     "output_type": "stream",
     "text": [
      "Epoch 230, Loss 0.0372\n",
      "Training Accuracy: 0.9599, Testing Accuracy: 0.9682\n",
      "\n"
     ]
    },
    {
     "name": "stdout",
     "output_type": "stream",
     "text": [
      "Epoch 240, Loss 0.0368\n",
      "Training Accuracy: 0.9602, Testing Accuracy: 0.9682\n",
      "\n"
     ]
    },
    {
     "data": {
      "text/plain": [
       "0.025121929967347453"
      ]
     },
     "execution_count": 23,
     "metadata": {},
     "output_type": "execute_result"
    }
   ],
   "source": [
    "lr_learner.train_loop(dl)"
   ]
  },
  {
   "cell_type": "code",
   "execution_count": 24,
   "id": "ca410940",
   "metadata": {
    "execution": {
     "iopub.execute_input": "2022-04-22T10:12:43.755951Z",
     "iopub.status.busy": "2022-04-22T10:12:43.754891Z",
     "iopub.status.idle": "2022-04-22T10:12:44.012828Z",
     "shell.execute_reply": "2022-04-22T10:12:44.011737Z"
    },
    "papermill": {
     "duration": 0.313806,
     "end_time": "2022-04-22T10:12:44.012978",
     "exception": false,
     "start_time": "2022-04-22T10:12:43.699172",
     "status": "completed"
    },
    "tags": []
   },
   "outputs": [
    {
     "data": {
      "text/plain": [
       "<matplotlib.legend.Legend at 0x7fe5db269ac8>"
      ]
     },
     "execution_count": 24,
     "metadata": {},
     "output_type": "execute_result"
    },
    {
     "data": {
      "image/png": "[encoded data removed]",
      "text/plain": [
       "<Figure size 1080x720 with 1 Axes>"
      ]
     },
     "metadata": {
      "needs_background": "light"
     },
     "output_type": "display_data"
    }
   ],
   "source": [
    "#comparing the results of NN and LR\n",
    "plt.figure(figsize=(15,10))\n",
    "\n",
    "# Neural Network plots\n",
    "plt.plot(acc_nn.accuracies, 'r-', label = \"Training Accuracies - NN\")\n",
    "plt.plot(acc_nn.test_accuracies, 'g-', label = \"Testing Accuracies - NN\")\n",
    "\n",
    "# Logistic Regression plots\n",
    "plt.plot(acc_lr.accuracies, 'k-', label = \"Training Accuracies - LR\")\n",
    "plt.plot(acc_lr.test_accuracies, 'b-', label = \"Testing Accuracies - LR\")\n",
    "plt.legend()"
   ]
  },
  {
   "cell_type": "markdown",
   "id": "80dfb35c",
   "metadata": {
    "papermill": {
     "duration": 0.047012,
     "end_time": "2022-04-22T10:12:44.107362",
     "exception": false,
     "start_time": "2022-04-22T10:12:44.060350",
     "status": "completed"
    },
    "tags": []
   },
   "source": [
    "#### Plotting the outputs of this layer of the NN.\n"
   ]
  },
  {
   "cell_type": "code",
   "execution_count": 25,
   "id": "45eb2ff5",
   "metadata": {
    "execution": {
     "iopub.execute_input": "2022-04-22T10:12:44.206726Z",
     "iopub.status.busy": "2022-04-22T10:12:44.205829Z",
     "iopub.status.idle": "2022-04-22T10:12:44.227211Z",
     "shell.execute_reply": "2022-04-22T10:12:44.227685Z"
    },
    "papermill": {
     "duration": 0.073526,
     "end_time": "2022-04-22T10:12:44.227845",
     "exception": false,
     "start_time": "2022-04-22T10:12:44.154319",
     "status": "completed"
    },
    "tags": []
   },
   "outputs": [],
   "source": [
    "new_model = Model(layers[:-2])\n",
    "testing_plot = new_model(testing_data_x)"
   ]
  },
  {
   "cell_type": "code",
   "execution_count": 26,
   "id": "4c0a5485",
   "metadata": {
    "execution": {
     "iopub.execute_input": "2022-04-22T10:12:44.329627Z",
     "iopub.status.busy": "2022-04-22T10:12:44.329025Z",
     "iopub.status.idle": "2022-04-22T10:12:44.550694Z",
     "shell.execute_reply": "2022-04-22T10:12:44.551719Z"
    },
    "papermill": {
     "duration": 0.275612,
     "end_time": "2022-04-22T10:12:44.551998",
     "exception": false,
     "start_time": "2022-04-22T10:12:44.276386",
     "status": "completed"
    },
    "tags": []
   },
   "outputs": [
    {
     "data": {
      "text/plain": [
       "Text(0.5, 1.0, 'Outputs')"
      ]
     },
     "execution_count": 26,
     "metadata": {},
     "output_type": "execute_result"
    },
    {
     "data": {
      "image/png": "[encoded data removed]",
      "text/plain": [
       "<Figure size 576x504 with 1 Axes>"
      ]
     },
     "metadata": {
      "needs_background": "light"
     },
     "output_type": "display_data"
    }
   ],
   "source": [
    "# Plotting the scatter plot of points and color coding by class\n",
    "plt.figure(figsize=(8,7))\n",
    "plt.scatter(testing_plot[:,0], testing_plot[:,1], alpha = 0.1, c = y_test.ravel());\n",
    "plt.title('Outputs')"
   ]
  },
  {
   "cell_type": "markdown",
   "id": "a74fcf8f",
   "metadata": {
    "papermill": {
     "duration": 0.049806,
     "end_time": "2022-04-22T10:12:44.652618",
     "exception": false,
     "start_time": "2022-04-22T10:12:44.602812",
     "status": "completed"
    },
    "tags": []
   },
   "source": [
    "Probability contours"
   ]
  },
  {
   "cell_type": "code",
   "execution_count": 27,
   "id": "d0afc8e3",
   "metadata": {
    "execution": {
     "iopub.execute_input": "2022-04-22T10:12:44.756574Z",
     "iopub.status.busy": "2022-04-22T10:12:44.755967Z",
     "iopub.status.idle": "2022-04-22T10:12:44.769617Z",
     "shell.execute_reply": "2022-04-22T10:12:44.769075Z"
    },
    "papermill": {
     "duration": 0.067833,
     "end_time": "2022-04-22T10:12:44.769745",
     "exception": false,
     "start_time": "2022-04-22T10:12:44.701912",
     "status": "completed"
    },
    "tags": []
   },
   "outputs": [],
   "source": [
    "model_prob = Model(layers[-2:]) "
   ]
  },
  {
   "cell_type": "code",
   "execution_count": 28,
   "id": "9b96e238",
   "metadata": {
    "execution": {
     "iopub.execute_input": "2022-04-22T10:12:44.878672Z",
     "iopub.status.busy": "2022-04-22T10:12:44.878025Z",
     "iopub.status.idle": "2022-04-22T10:12:44.891209Z",
     "shell.execute_reply": "2022-04-22T10:12:44.891664Z"
    },
    "papermill": {
     "duration": 0.071106,
     "end_time": "2022-04-22T10:12:44.891807",
     "exception": false,
     "start_time": "2022-04-22T10:12:44.820701",
     "status": "completed"
    },
    "tags": []
   },
   "outputs": [],
   "source": [
    "#creating the x and y ranges according to the above generated plot.\n",
    "x_range = np.linspace(-4, 1, 100) \n",
    "y_range = np.linspace(-6, 6, 100) \n",
    "x_grid, y_grid = np.meshgrid(x_range, y_range) # x_grid and y_grig are of size 100 X 100\n",
    "\n",
    "# converting x_grid and y_grid to continuous arrays\n",
    "x_gridflat = np.ravel(x_grid)\n",
    "y_gridflat = np.ravel(y_grid)\n",
    "\n",
    "# The last layer of the current model takes two columns as input. Hence transpose of np.vstack() is required.\n",
    "X = np.vstack((x_gridflat, y_gridflat)).T\n",
    "\n",
    "prob_contour = model_prob(X).reshape(100,100) "
   ]
  },
  {
   "cell_type": "code",
   "execution_count": 29,
   "id": "da72499a",
   "metadata": {
    "execution": {
     "iopub.execute_input": "2022-04-22T10:12:45.025406Z",
     "iopub.status.busy": "2022-04-22T10:12:45.024803Z",
     "iopub.status.idle": "2022-04-22T10:12:45.304818Z",
     "shell.execute_reply": "2022-04-22T10:12:45.305300Z"
    },
    "papermill": {
     "duration": 0.335306,
     "end_time": "2022-04-22T10:12:45.305454",
     "exception": false,
     "start_time": "2022-04-22T10:12:44.970148",
     "status": "completed"
    },
    "tags": []
   },
   "outputs": [
    {
     "data": {
      "image/png": "[encoded data removed]",
      "text/plain": [
       "<Figure size 720x648 with 1 Axes>"
      ]
     },
     "metadata": {
      "needs_background": "light"
     },
     "output_type": "display_data"
    }
   ],
   "source": [
    "plt.figure(figsize=(10,9))\n",
    "plt.scatter(testing_plot[:,0], testing_plot[:,1], alpha = 0.1, c = y_test.ravel())\n",
    "contours = plt.contour(x_grid,y_grid,prob_contour)\n",
    "plt.title('Probability Contours')\n",
    "plt.clabel(contours, inline = True );"
   ]
  },
  {
   "cell_type": "code",
   "execution_count": null,
   "id": "e81b4ac7",
   "metadata": {
    "papermill": {
     "duration": 0.052423,
     "end_time": "2022-04-22T10:12:45.411620",
     "exception": false,
     "start_time": "2022-04-22T10:12:45.359197",
     "status": "completed"
    },
    "tags": []
   },
   "outputs": [],
   "source": []
  }
 ],
 "metadata": {
  "kernelspec": {
   "display_name": "Python 3",
   "language": "python",
   "name": "python3"
  },
  "language_info": {
   "codemirror_mode": {
    "name": "ipython",
    "version": 3
   },
   "file_extension": ".py",
   "mimetype": "text/x-python",
   "name": "python",
   "nbconvert_exporter": "python",
   "pygments_lexer": "ipython3",
   "version": "3.6.15"
  },
  "papermill": {
   "default_parameters": {},
   "duration": 112.689075,
   "end_time": "2022-04-22T10:12:45.884995",
   "environment_variables": {},
   "exception": null,
   "input_path": "2020-08-11-part2.ipynb",
   "output_path": "2020-08-11-part2.ipynb",
   "parameters": {},
   "start_time": "2022-04-22T10:10:53.195920",
   "version": "2.3.3"
  }
 },
 "nbformat": 4,
 "nbformat_minor": 5
}