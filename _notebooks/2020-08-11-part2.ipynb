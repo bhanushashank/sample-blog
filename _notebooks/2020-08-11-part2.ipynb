{
 "cells": [
  {
   "cell_type": "markdown",
   "id": "98380cd3",
   "metadata": {
    "papermill": {
     "duration": 0.028304,
     "end_time": "2022-05-13T20:11:20.180491",
     "exception": false,
     "start_time": "2022-05-13T20:11:20.152187",
     "status": "completed"
    },
    "tags": []
   },
   "source": [
    "# Distinguish Your Own Digits (DYOD)"
   ]
  },
  {
   "cell_type": "markdown",
   "id": "ef31240d",
   "metadata": {
    "papermill": {
     "duration": 0.025571,
     "end_time": "2022-05-13T20:11:20.230422",
     "exception": false,
     "start_time": "2022-05-13T20:11:20.204851",
     "status": "completed"
    },
    "tags": []
   },
   "source": [
    "You are going to write a classifier that distinguishes between the number 3 and number 8."
   ]
  },
  {
   "cell_type": "code",
   "execution_count": 1,
   "id": "b15c8646",
   "metadata": {
    "execution": {
     "iopub.execute_input": "2022-05-13T20:11:20.287353Z",
     "iopub.status.busy": "2022-05-13T20:11:20.286862Z",
     "iopub.status.idle": "2022-05-13T20:11:20.297870Z",
     "shell.execute_reply": "2022-05-13T20:11:20.298244Z"
    },
    "papermill": {
     "duration": 0.044449,
     "end_time": "2022-05-13T20:11:20.298380",
     "exception": false,
     "start_time": "2022-05-13T20:11:20.253931",
     "status": "completed"
    },
    "tags": []
   },
   "outputs": [],
   "source": [
    "%load_ext autoreload\n",
    "%autoreload 2"
   ]
  },
  {
   "cell_type": "code",
   "execution_count": 2,
   "id": "22ef38dc",
   "metadata": {
    "execution": {
     "iopub.execute_input": "2022-05-13T20:11:20.343448Z",
     "iopub.status.busy": "2022-05-13T20:11:20.342991Z",
     "iopub.status.idle": "2022-05-13T20:11:20.870700Z",
     "shell.execute_reply": "2022-05-13T20:11:20.871095Z"
    },
    "papermill": {
     "duration": 0.552005,
     "end_time": "2022-05-13T20:11:20.871232",
     "exception": false,
     "start_time": "2022-05-13T20:11:20.319227",
     "status": "completed"
    },
    "tags": []
   },
   "outputs": [],
   "source": [
    "%matplotlib inline\n",
    "import numpy as np\n",
    "import matplotlib.pyplot as plt\n",
    "import pandas as pd"
   ]
  },
  {
   "cell_type": "markdown",
   "id": "ba036198",
   "metadata": {
    "papermill": {
     "duration": 0.020781,
     "end_time": "2022-05-13T20:11:20.912910",
     "exception": false,
     "start_time": "2022-05-13T20:11:20.892129",
     "status": "completed"
    },
    "tags": []
   },
   "source": [
    "From the command line run `pip install mnist`. This is a library that will help you bring down the mnist dataset. If you run this from a notebook, you need to put  `!pip install mnist` in a cell by itself."
   ]
  },
  {
   "cell_type": "code",
   "execution_count": 3,
   "id": "bb6ad8a1",
   "metadata": {
    "execution": {
     "iopub.execute_input": "2022-05-13T20:11:20.968485Z",
     "iopub.status.busy": "2022-05-13T20:11:20.967942Z",
     "iopub.status.idle": "2022-05-13T20:11:22.650756Z",
     "shell.execute_reply": "2022-05-13T20:11:22.650229Z"
    },
    "papermill": {
     "duration": 1.717151,
     "end_time": "2022-05-13T20:11:22.650895",
     "exception": false,
     "start_time": "2022-05-13T20:11:20.933744",
     "status": "completed"
    },
    "tags": []
   },
   "outputs": [
    {
     "name": "stdout",
     "output_type": "stream",
     "text": [
      "Collecting mnist\r\n"
     ]
    },
    {
     "name": "stdout",
     "output_type": "stream",
     "text": [
      "  Downloading mnist-0.2.2-py2.py3-none-any.whl (3.5 kB)\r\n",
      "Requirement already satisfied: numpy in /opt/hostedtoolcache/Python/3.6.15/x64/lib/python3.6/site-packages (from mnist) (1.19.5)\r\n"
     ]
    },
    {
     "name": "stdout",
     "output_type": "stream",
     "text": [
      "Installing collected packages: mnist\r\n",
      "Successfully installed mnist-0.2.2\r\n"
     ]
    }
   ],
   "source": [
    "!pip install mnist"
   ]
  },
  {
   "cell_type": "markdown",
   "id": "69df9c9a",
   "metadata": {
    "papermill": {
     "duration": 0.024849,
     "end_time": "2022-05-13T20:11:22.700546",
     "exception": false,
     "start_time": "2022-05-13T20:11:22.675697",
     "status": "completed"
    },
    "tags": []
   },
   "source": [
    "## Preparing the Data"
   ]
  },
  {
   "cell_type": "code",
   "execution_count": 4,
   "id": "7f69d806",
   "metadata": {
    "execution": {
     "iopub.execute_input": "2022-05-13T20:11:22.769234Z",
     "iopub.status.busy": "2022-05-13T20:11:22.766016Z",
     "iopub.status.idle": "2022-05-13T20:11:22.771506Z",
     "shell.execute_reply": "2022-05-13T20:11:22.771095Z"
    },
    "papermill": {
     "duration": 0.046738,
     "end_time": "2022-05-13T20:11:22.771616",
     "exception": false,
     "start_time": "2022-05-13T20:11:22.724878",
     "status": "completed"
    },
    "tags": []
   },
   "outputs": [],
   "source": [
    "import mnist"
   ]
  },
  {
   "cell_type": "code",
   "execution_count": 5,
   "id": "a411e44f",
   "metadata": {
    "execution": {
     "iopub.execute_input": "2022-05-13T20:11:22.829295Z",
     "iopub.status.busy": "2022-05-13T20:11:22.828786Z",
     "iopub.status.idle": "2022-05-13T20:11:23.378844Z",
     "shell.execute_reply": "2022-05-13T20:11:23.378342Z"
    },
    "papermill": {
     "duration": 0.58284,
     "end_time": "2022-05-13T20:11:23.378978",
     "exception": false,
     "start_time": "2022-05-13T20:11:22.796138",
     "status": "completed"
    },
    "tags": []
   },
   "outputs": [],
   "source": [
    "train_images = mnist.train_images()\n",
    "train_labels = mnist.train_labels()"
   ]
  },
  {
   "cell_type": "code",
   "execution_count": 6,
   "id": "dceab3a5",
   "metadata": {
    "execution": {
     "iopub.execute_input": "2022-05-13T20:11:23.448043Z",
     "iopub.status.busy": "2022-05-13T20:11:23.444918Z",
     "iopub.status.idle": "2022-05-13T20:11:23.452763Z",
     "shell.execute_reply": "2022-05-13T20:11:23.452325Z"
    },
    "papermill": {
     "duration": 0.04859,
     "end_time": "2022-05-13T20:11:23.452873",
     "exception": false,
     "start_time": "2022-05-13T20:11:23.404283",
     "status": "completed"
    },
    "tags": []
   },
   "outputs": [
    {
     "data": {
      "text/plain": [
       "((60000, 28, 28), (60000,))"
      ]
     },
     "execution_count": 6,
     "metadata": {},
     "output_type": "execute_result"
    }
   ],
   "source": [
    "train_images.shape, train_labels.shape"
   ]
  },
  {
   "cell_type": "code",
   "execution_count": 7,
   "id": "f50dc2bb",
   "metadata": {
    "execution": {
     "iopub.execute_input": "2022-05-13T20:11:23.518621Z",
     "iopub.status.busy": "2022-05-13T20:11:23.515746Z",
     "iopub.status.idle": "2022-05-13T20:11:23.660134Z",
     "shell.execute_reply": "2022-05-13T20:11:23.659602Z"
    },
    "papermill": {
     "duration": 0.182752,
     "end_time": "2022-05-13T20:11:23.660258",
     "exception": false,
     "start_time": "2022-05-13T20:11:23.477506",
     "status": "completed"
    },
    "tags": []
   },
   "outputs": [],
   "source": [
    "test_images = mnist.test_images()\n",
    "test_labels = mnist.test_labels()"
   ]
  },
  {
   "cell_type": "code",
   "execution_count": 8,
   "id": "fc38cf1b",
   "metadata": {
    "execution": {
     "iopub.execute_input": "2022-05-13T20:11:23.718799Z",
     "iopub.status.busy": "2022-05-13T20:11:23.718261Z",
     "iopub.status.idle": "2022-05-13T20:11:23.730430Z",
     "shell.execute_reply": "2022-05-13T20:11:23.729992Z"
    },
    "papermill": {
     "duration": 0.044218,
     "end_time": "2022-05-13T20:11:23.730541",
     "exception": false,
     "start_time": "2022-05-13T20:11:23.686323",
     "status": "completed"
    },
    "tags": []
   },
   "outputs": [
    {
     "data": {
      "text/plain": [
       "((10000, 28, 28), (10000,))"
      ]
     },
     "execution_count": 8,
     "metadata": {},
     "output_type": "execute_result"
    }
   ],
   "source": [
    "test_images.shape, test_labels.shape"
   ]
  },
  {
   "cell_type": "code",
   "execution_count": 9,
   "id": "f9ed8fe0",
   "metadata": {
    "execution": {
     "iopub.execute_input": "2022-05-13T20:11:23.784348Z",
     "iopub.status.busy": "2022-05-13T20:11:23.783784Z",
     "iopub.status.idle": "2022-05-13T20:11:23.923209Z",
     "shell.execute_reply": "2022-05-13T20:11:23.922711Z"
    },
    "papermill": {
     "duration": 0.167833,
     "end_time": "2022-05-13T20:11:23.923342",
     "exception": false,
     "start_time": "2022-05-13T20:11:23.755509",
     "status": "completed"
    },
    "tags": []
   },
   "outputs": [
    {
     "name": "stdout",
     "output_type": "stream",
     "text": [
      "2\n"
     ]
    },
    {
     "data": {
      "text/plain": [
       "<matplotlib.image.AxesImage at 0x7f7b2cf844e0>"
      ]
     },
     "execution_count": 9,
     "metadata": {},
     "output_type": "execute_result"
    },
    {
     "data": {
      "image/png": "[encoded data removed]",
      "text/plain": [
       "<Figure size 432x288 with 1 Axes>"
      ]
     },
     "metadata": {
      "needs_background": "light"
     },
     "output_type": "display_data"
    }
   ],
   "source": [
    "image_index = 7776 # You may select anything up to 60,000\n",
    "print(train_labels[image_index]) \n",
    "plt.imshow(train_images[image_index], cmap='Greys')"
   ]
  },
  {
   "cell_type": "markdown",
   "id": "a8d2388d",
   "metadata": {
    "papermill": {
     "duration": 0.026098,
     "end_time": "2022-05-13T20:11:23.976225",
     "exception": false,
     "start_time": "2022-05-13T20:11:23.950127",
     "status": "completed"
    },
    "tags": []
   },
   "source": [
    "## Filter data to get 3 and 8 out"
   ]
  },
  {
   "cell_type": "code",
   "execution_count": 10,
   "id": "776f7fc7",
   "metadata": {
    "execution": {
     "iopub.execute_input": "2022-05-13T20:11:24.041389Z",
     "iopub.status.busy": "2022-05-13T20:11:24.040858Z",
     "iopub.status.idle": "2022-05-13T20:11:24.053849Z",
     "shell.execute_reply": "2022-05-13T20:11:24.053397Z"
    },
    "papermill": {
     "duration": 0.05165,
     "end_time": "2022-05-13T20:11:24.053961",
     "exception": false,
     "start_time": "2022-05-13T20:11:24.002311",
     "status": "completed"
    },
    "tags": []
   },
   "outputs": [],
   "source": [
    "train_filter = np.where((train_labels == 3 ) | (train_labels == 8))\n",
    "test_filter = np.where((test_labels == 3) | (test_labels == 8))\n",
    "X_train, y_train = train_images[train_filter], train_labels[train_filter]\n",
    "X_test, y_test = test_images[test_filter], test_labels[test_filter]"
   ]
  },
  {
   "cell_type": "markdown",
   "id": "948f0b7e",
   "metadata": {
    "papermill": {
     "duration": 0.025815,
     "end_time": "2022-05-13T20:11:24.105791",
     "exception": false,
     "start_time": "2022-05-13T20:11:24.079976",
     "status": "completed"
    },
    "tags": []
   },
   "source": [
    "We normalize the pizel values in the 0 to 1 range"
   ]
  },
  {
   "cell_type": "code",
   "execution_count": 11,
   "id": "ee4c2166",
   "metadata": {
    "execution": {
     "iopub.execute_input": "2022-05-13T20:11:24.177434Z",
     "iopub.status.busy": "2022-05-13T20:11:24.176900Z",
     "iopub.status.idle": "2022-05-13T20:11:24.217735Z",
     "shell.execute_reply": "2022-05-13T20:11:24.217232Z"
    },
    "papermill": {
     "duration": 0.086357,
     "end_time": "2022-05-13T20:11:24.217871",
     "exception": false,
     "start_time": "2022-05-13T20:11:24.131514",
     "status": "completed"
    },
    "tags": []
   },
   "outputs": [],
   "source": [
    "X_train = X_train/255.\n",
    "X_test = X_test/255."
   ]
  },
  {
   "cell_type": "markdown",
   "id": "ddcf4fab",
   "metadata": {
    "papermill": {
     "duration": 0.026044,
     "end_time": "2022-05-13T20:11:24.271355",
     "exception": false,
     "start_time": "2022-05-13T20:11:24.245311",
     "status": "completed"
    },
    "tags": []
   },
   "source": [
    "And setup the labels as 1 (when the digit is 3) and 0 (when the digit is 8)"
   ]
  },
  {
   "cell_type": "code",
   "execution_count": 12,
   "id": "7dc908f2",
   "metadata": {
    "execution": {
     "iopub.execute_input": "2022-05-13T20:11:24.329356Z",
     "iopub.status.busy": "2022-05-13T20:11:24.328840Z",
     "iopub.status.idle": "2022-05-13T20:11:24.339257Z",
     "shell.execute_reply": "2022-05-13T20:11:24.338809Z"
    },
    "papermill": {
     "duration": 0.041887,
     "end_time": "2022-05-13T20:11:24.339371",
     "exception": false,
     "start_time": "2022-05-13T20:11:24.297484",
     "status": "completed"
    },
    "tags": []
   },
   "outputs": [],
   "source": [
    "y_train = 1*(y_train==3)\n",
    "y_test = 1*(y_test==3)"
   ]
  },
  {
   "cell_type": "code",
   "execution_count": 13,
   "id": "01e4e969",
   "metadata": {
    "execution": {
     "iopub.execute_input": "2022-05-13T20:11:24.394661Z",
     "iopub.status.busy": "2022-05-13T20:11:24.394147Z",
     "iopub.status.idle": "2022-05-13T20:11:24.407257Z",
     "shell.execute_reply": "2022-05-13T20:11:24.407693Z"
    },
    "papermill": {
     "duration": 0.042448,
     "end_time": "2022-05-13T20:11:24.407822",
     "exception": false,
     "start_time": "2022-05-13T20:11:24.365374",
     "status": "completed"
    },
    "tags": []
   },
   "outputs": [
    {
     "data": {
      "text/plain": [
       "((11982, 28, 28), (1984, 28, 28))"
      ]
     },
     "execution_count": 13,
     "metadata": {},
     "output_type": "execute_result"
    }
   ],
   "source": [
    "X_train.shape, X_test.shape"
   ]
  },
  {
   "cell_type": "markdown",
   "id": "5ccf3f85",
   "metadata": {
    "papermill": {
     "duration": 0.026164,
     "end_time": "2022-05-13T20:11:24.460270",
     "exception": false,
     "start_time": "2022-05-13T20:11:24.434106",
     "status": "completed"
    },
    "tags": []
   },
   "source": [
    "We reshape the data to flatten the image pixels into a set of features or co-variates:"
   ]
  },
  {
   "cell_type": "code",
   "execution_count": 14,
   "id": "5286a4a3",
   "metadata": {
    "execution": {
     "iopub.execute_input": "2022-05-13T20:11:24.530598Z",
     "iopub.status.busy": "2022-05-13T20:11:24.521870Z",
     "iopub.status.idle": "2022-05-13T20:11:24.534196Z",
     "shell.execute_reply": "2022-05-13T20:11:24.534580Z"
    },
    "papermill": {
     "duration": 0.048138,
     "end_time": "2022-05-13T20:11:24.534716",
     "exception": false,
     "start_time": "2022-05-13T20:11:24.486578",
     "status": "completed"
    },
    "tags": []
   },
   "outputs": [
    {
     "data": {
      "text/plain": [
       "((11982, 784), (1984, 784))"
      ]
     },
     "execution_count": 14,
     "metadata": {},
     "output_type": "execute_result"
    }
   ],
   "source": [
    "X_train = X_train.reshape(X_train.shape[0], -1)\n",
    "X_test = X_test.reshape(X_test.shape[0], -1)\n",
    "X_train.shape, X_test.shape"
   ]
  },
  {
   "cell_type": "code",
   "execution_count": 15,
   "id": "73c5f88a",
   "metadata": {
    "execution": {
     "iopub.execute_input": "2022-05-13T20:11:24.601481Z",
     "iopub.status.busy": "2022-05-13T20:11:24.600966Z",
     "iopub.status.idle": "2022-05-13T20:11:24.614742Z",
     "shell.execute_reply": "2022-05-13T20:11:24.615126Z"
    },
    "papermill": {
     "duration": 0.05392,
     "end_time": "2022-05-13T20:11:24.615257",
     "exception": false,
     "start_time": "2022-05-13T20:11:24.561337",
     "status": "completed"
    },
    "tags": []
   },
   "outputs": [],
   "source": [
    "#Impoting functions from 'Kudzu'\n",
    "from kudzu.model import Model\n",
    "from kudzu.train import Learner\n",
    "from kudzu.optim import GD\n",
    "from kudzu.data import Data, Sampler,Dataloader\n",
    "\n",
    "from kudzu.callbacks import AccCallback\n",
    "from kudzu.callbacks import ClfCallback\n",
    "\n",
    "from kudzu.loss import MSE\n",
    "\n",
    "from kudzu.layer import Sigmoid,Relu\n",
    "from kudzu.layer import Affine"
   ]
  },
  {
   "cell_type": "markdown",
   "id": "bc01172a",
   "metadata": {
    "papermill": {
     "duration": 0.026246,
     "end_time": "2022-05-13T20:11:24.668008",
     "exception": false,
     "start_time": "2022-05-13T20:11:24.641762",
     "status": "completed"
    },
    "tags": []
   },
   "source": [
    "### Let us create a `Config` class, to store important parameters. \n",
    "This class essentially plays the role of a dictionary."
   ]
  },
  {
   "cell_type": "code",
   "execution_count": 16,
   "id": "978281aa",
   "metadata": {
    "execution": {
     "iopub.execute_input": "2022-05-13T20:11:24.729516Z",
     "iopub.status.busy": "2022-05-13T20:11:24.724006Z",
     "iopub.status.idle": "2022-05-13T20:11:24.737296Z",
     "shell.execute_reply": "2022-05-13T20:11:24.737706Z"
    },
    "papermill": {
     "duration": 0.043446,
     "end_time": "2022-05-13T20:11:24.737836",
     "exception": false,
     "start_time": "2022-05-13T20:11:24.694390",
     "status": "completed"
    },
    "tags": []
   },
   "outputs": [],
   "source": [
    "class Config:\n",
    "    pass\n",
    "config = Config()\n",
    "config.lr = 0.001\n",
    "config.num_epochs = 250\n",
    "config.bs = 50"
   ]
  },
  {
   "cell_type": "markdown",
   "id": "1385fa59",
   "metadata": {
    "papermill": {
     "duration": 0.026612,
     "end_time": "2022-05-13T20:11:24.791114",
     "exception": false,
     "start_time": "2022-05-13T20:11:24.764502",
     "status": "completed"
    },
    "tags": []
   },
   "source": [
    "### Running Models with the Training data\n",
    "Details about the network layers:\n",
    "- A first affine layer has 784 inputs and does 100 affine transforms. These are followed by a Relu\n",
    "- A second affine layer has 100 inputs from the 100 activations of the past layer, and does 100 affine transforms. These are followed by a Relu\n",
    "- A third affine layer has 100 activations and does 2 affine transformations to create an embedding for visualization. There is no non-linearity here.\n",
    "- A final \"logistic regression\" which has an affine transform from 2 inputs to 1 output, which is squeezed through a sigmoid.\n"
   ]
  },
  {
   "cell_type": "code",
   "execution_count": 17,
   "id": "2b9c66db",
   "metadata": {
    "execution": {
     "iopub.execute_input": "2022-05-13T20:11:24.856260Z",
     "iopub.status.busy": "2022-05-13T20:11:24.855689Z",
     "iopub.status.idle": "2022-05-13T20:11:24.863689Z",
     "shell.execute_reply": "2022-05-13T20:11:24.863276Z"
    },
    "papermill": {
     "duration": 0.046049,
     "end_time": "2022-05-13T20:11:24.863801",
     "exception": false,
     "start_time": "2022-05-13T20:11:24.817752",
     "status": "completed"
    },
    "tags": []
   },
   "outputs": [],
   "source": [
    "data = Data(X_train, y_train.reshape(-1,1))\n",
    "sampler = Sampler(data, config.bs, shuffle=True)\n",
    "\n",
    "dl = Dataloader(data, sampler)\n",
    "\n",
    "opt = GD(config.lr)\n",
    "loss = MSE()"
   ]
  },
  {
   "cell_type": "code",
   "execution_count": 18,
   "id": "b275e4c2",
   "metadata": {
    "execution": {
     "iopub.execute_input": "2022-05-13T20:11:24.925359Z",
     "iopub.status.busy": "2022-05-13T20:11:24.924831Z",
     "iopub.status.idle": "2022-05-13T20:11:24.933646Z",
     "shell.execute_reply": "2022-05-13T20:11:24.934037Z"
    },
    "papermill": {
     "duration": 0.043709,
     "end_time": "2022-05-13T20:11:24.934172",
     "exception": false,
     "start_time": "2022-05-13T20:11:24.890463",
     "status": "completed"
    },
    "tags": []
   },
   "outputs": [],
   "source": [
    "training_data_x = X_train\n",
    "testing_data_x = X_test\n",
    "training_data_y = y_train.reshape(-1,1)\n",
    "testing_data_y = y_test.reshape(-1,1)"
   ]
  },
  {
   "cell_type": "code",
   "execution_count": 19,
   "id": "76951160",
   "metadata": {
    "execution": {
     "iopub.execute_input": "2022-05-13T20:11:24.993604Z",
     "iopub.status.busy": "2022-05-13T20:11:24.993073Z",
     "iopub.status.idle": "2022-05-13T20:11:25.008476Z",
     "shell.execute_reply": "2022-05-13T20:11:25.008007Z"
    },
    "papermill": {
     "duration": 0.047582,
     "end_time": "2022-05-13T20:11:25.008590",
     "exception": false,
     "start_time": "2022-05-13T20:11:24.961008",
     "status": "completed"
    },
    "tags": []
   },
   "outputs": [
    {
     "name": "stdout",
     "output_type": "stream",
     "text": [
      "xavier\n",
      "xavier\n",
      "xavier\n",
      "xavier\n",
      "xavier\n"
     ]
    }
   ],
   "source": [
    "layers = [Affine(\"first\", 784, 100), Relu(\"first\"), Affine(\"second\", 100, 100), Relu(\"second\"), Affine(\"third\", 100, 2), Affine(\"last\", 2, 1), Sigmoid(\"last\")]\n",
    "model_nn = Model(layers)\n",
    "model_lr = Model([Affine(\"logits\", 784, 1), Sigmoid(\"sigmoid\")])"
   ]
  },
  {
   "cell_type": "code",
   "execution_count": 20,
   "id": "6eede77a",
   "metadata": {
    "execution": {
     "iopub.execute_input": "2022-05-13T20:11:25.066494Z",
     "iopub.status.busy": "2022-05-13T20:11:25.065981Z",
     "iopub.status.idle": "2022-05-13T20:11:25.078533Z",
     "shell.execute_reply": "2022-05-13T20:11:25.078105Z"
    },
    "papermill": {
     "duration": 0.043146,
     "end_time": "2022-05-13T20:11:25.078650",
     "exception": false,
     "start_time": "2022-05-13T20:11:25.035504",
     "status": "completed"
    },
    "tags": []
   },
   "outputs": [],
   "source": [
    "nn_learner = Learner(loss, model_nn, opt, config.num_epochs)\n",
    "acc_nn = ClfCallback(nn_learner, config.bs, training_data_x , testing_data_x, training_data_y, testing_data_y)\n",
    "nn_learner.set_callbacks([acc_nn])"
   ]
  },
  {
   "cell_type": "code",
   "execution_count": 21,
   "id": "877b6cc7",
   "metadata": {
    "execution": {
     "iopub.execute_input": "2022-05-13T20:11:25.136384Z",
     "iopub.status.busy": "2022-05-13T20:11:25.135829Z",
     "iopub.status.idle": "2022-05-13T20:11:25.148026Z",
     "shell.execute_reply": "2022-05-13T20:11:25.148448Z"
    },
    "papermill": {
     "duration": 0.042932,
     "end_time": "2022-05-13T20:11:25.148584",
     "exception": false,
     "start_time": "2022-05-13T20:11:25.105652",
     "status": "completed"
    },
    "tags": []
   },
   "outputs": [],
   "source": [
    "lr_learner = Learner(loss, model_lr, opt, config.num_epochs)\n",
    "acc_lr = ClfCallback(lr_learner, config.bs, training_data_x , testing_data_x, training_data_y, testing_data_y)\n",
    "lr_learner.set_callbacks([acc_lr])"
   ]
  },
  {
   "cell_type": "code",
   "execution_count": 22,
   "id": "d9b133c3",
   "metadata": {
    "execution": {
     "iopub.execute_input": "2022-05-13T20:11:25.206917Z",
     "iopub.status.busy": "2022-05-13T20:11:25.206399Z",
     "iopub.status.idle": "2022-05-13T20:12:40.075233Z",
     "shell.execute_reply": "2022-05-13T20:12:40.075976Z"
    },
    "papermill": {
     "duration": 74.900549,
     "end_time": "2022-05-13T20:12:40.076145",
     "exception": false,
     "start_time": "2022-05-13T20:11:25.175596",
     "status": "completed"
    },
    "tags": []
   },
   "outputs": [
    {
     "name": "stdout",
     "output_type": "stream",
     "text": [
      "Epoch 0, Loss 0.2541\n",
      "Training Accuracy: 0.4742, Testing Accuracy: 0.4798\n",
      "\n"
     ]
    },
    {
     "name": "stdout",
     "output_type": "stream",
     "text": [
      "Epoch 10, Loss 0.1842\n",
      "Training Accuracy: 0.8630, Testing Accuracy: 0.8745\n",
      "\n"
     ]
    },
    {
     "name": "stdout",
     "output_type": "stream",
     "text": [
      "Epoch 20, Loss 0.0937\n",
      "Training Accuracy: 0.9101, Testing Accuracy: 0.9259\n",
      "\n"
     ]
    },
    {
     "name": "stdout",
     "output_type": "stream",
     "text": [
      "Epoch 30, Loss 0.0607\n",
      "Training Accuracy: 0.9353, Testing Accuracy: 0.9531\n",
      "\n"
     ]
    },
    {
     "name": "stdout",
     "output_type": "stream",
     "text": [
      "Epoch 40, Loss 0.0472\n",
      "Training Accuracy: 0.9472, Testing Accuracy: 0.9607\n",
      "\n"
     ]
    },
    {
     "name": "stdout",
     "output_type": "stream",
     "text": [
      "Epoch 50, Loss 0.0403\n",
      "Training Accuracy: 0.9546, Testing Accuracy: 0.9657\n",
      "\n"
     ]
    },
    {
     "name": "stdout",
     "output_type": "stream",
     "text": [
      "Epoch 60, Loss 0.0362\n",
      "Training Accuracy: 0.9582, Testing Accuracy: 0.9652\n",
      "\n"
     ]
    },
    {
     "name": "stdout",
     "output_type": "stream",
     "text": [
      "Epoch 70, Loss 0.0334\n",
      "Training Accuracy: 0.9607, Testing Accuracy: 0.9647\n",
      "\n"
     ]
    },
    {
     "name": "stdout",
     "output_type": "stream",
     "text": [
      "Epoch 80, Loss 0.0314\n",
      "Training Accuracy: 0.9636, Testing Accuracy: 0.9662\n",
      "\n"
     ]
    },
    {
     "name": "stdout",
     "output_type": "stream",
     "text": [
      "Epoch 90, Loss 0.0298\n",
      "Training Accuracy: 0.9653, Testing Accuracy: 0.9672\n",
      "\n"
     ]
    },
    {
     "name": "stdout",
     "output_type": "stream",
     "text": [
      "Epoch 100, Loss 0.0285\n",
      "Training Accuracy: 0.9669, Testing Accuracy: 0.9677\n",
      "\n"
     ]
    },
    {
     "name": "stdout",
     "output_type": "stream",
     "text": [
      "Epoch 110, Loss 0.0275\n",
      "Training Accuracy: 0.9679, Testing Accuracy: 0.9672\n",
      "\n"
     ]
    },
    {
     "name": "stdout",
     "output_type": "stream",
     "text": [
      "Epoch 120, Loss 0.0266\n",
      "Training Accuracy: 0.9688, Testing Accuracy: 0.9682\n",
      "\n"
     ]
    },
    {
     "name": "stdout",
     "output_type": "stream",
     "text": [
      "Epoch 130, Loss 0.0258\n",
      "Training Accuracy: 0.9701, Testing Accuracy: 0.9682\n",
      "\n"
     ]
    },
    {
     "name": "stdout",
     "output_type": "stream",
     "text": [
      "Epoch 140, Loss 0.0251\n",
      "Training Accuracy: 0.9711, Testing Accuracy: 0.9682\n",
      "\n"
     ]
    },
    {
     "name": "stdout",
     "output_type": "stream",
     "text": [
      "Epoch 150, Loss 0.0244\n",
      "Training Accuracy: 0.9719, Testing Accuracy: 0.9682\n",
      "\n"
     ]
    },
    {
     "name": "stdout",
     "output_type": "stream",
     "text": [
      "Epoch 160, Loss 0.0239\n",
      "Training Accuracy: 0.9727, Testing Accuracy: 0.9688\n",
      "\n"
     ]
    },
    {
     "name": "stdout",
     "output_type": "stream",
     "text": [
      "Epoch 170, Loss 0.0233\n",
      "Training Accuracy: 0.9733, Testing Accuracy: 0.9703\n",
      "\n"
     ]
    },
    {
     "name": "stdout",
     "output_type": "stream",
     "text": [
      "Epoch 180, Loss 0.0229\n",
      "Training Accuracy: 0.9739, Testing Accuracy: 0.9708\n",
      "\n"
     ]
    },
    {
     "name": "stdout",
     "output_type": "stream",
     "text": [
      "Epoch 190, Loss 0.0224\n",
      "Training Accuracy: 0.9745, Testing Accuracy: 0.9718\n",
      "\n"
     ]
    },
    {
     "name": "stdout",
     "output_type": "stream",
     "text": [
      "Epoch 200, Loss 0.022\n",
      "Training Accuracy: 0.9748, Testing Accuracy: 0.9723\n",
      "\n"
     ]
    },
    {
     "name": "stdout",
     "output_type": "stream",
     "text": [
      "Epoch 210, Loss 0.0216\n",
      "Training Accuracy: 0.9759, Testing Accuracy: 0.9723\n",
      "\n"
     ]
    },
    {
     "name": "stdout",
     "output_type": "stream",
     "text": [
      "Epoch 220, Loss 0.0212\n",
      "Training Accuracy: 0.9759, Testing Accuracy: 0.9728\n",
      "\n"
     ]
    },
    {
     "name": "stdout",
     "output_type": "stream",
     "text": [
      "Epoch 230, Loss 0.0208\n",
      "Training Accuracy: 0.9765, Testing Accuracy: 0.9728\n",
      "\n"
     ]
    },
    {
     "name": "stdout",
     "output_type": "stream",
     "text": [
      "Epoch 240, Loss 0.0205\n",
      "Training Accuracy: 0.9770, Testing Accuracy: 0.9728\n",
      "\n"
     ]
    },
    {
     "data": {
      "text/plain": [
       "0.036088695451322095"
      ]
     },
     "execution_count": 22,
     "metadata": {},
     "output_type": "execute_result"
    }
   ],
   "source": [
    "nn_learner.train_loop(dl)"
   ]
  },
  {
   "cell_type": "code",
   "execution_count": 23,
   "id": "e0163366",
   "metadata": {
    "execution": {
     "iopub.execute_input": "2022-05-13T20:12:40.155872Z",
     "iopub.status.busy": "2022-05-13T20:12:40.155347Z",
     "iopub.status.idle": "2022-05-13T20:12:54.085918Z",
     "shell.execute_reply": "2022-05-13T20:12:54.086643Z"
    },
    "papermill": {
     "duration": 13.976877,
     "end_time": "2022-05-13T20:12:54.086790",
     "exception": false,
     "start_time": "2022-05-13T20:12:40.109913",
     "status": "completed"
    },
    "tags": []
   },
   "outputs": [
    {
     "name": "stdout",
     "output_type": "stream",
     "text": [
      "Epoch 0, Loss 0.255\n",
      "Training Accuracy: 0.6082, Testing Accuracy: 0.5978\n",
      "\n"
     ]
    },
    {
     "name": "stdout",
     "output_type": "stream",
     "text": [
      "Epoch 10, Loss 0.1077\n",
      "Training Accuracy: 0.9028, Testing Accuracy: 0.9204\n",
      "\n"
     ]
    },
    {
     "name": "stdout",
     "output_type": "stream",
     "text": [
      "Epoch 20, Loss 0.0809\n",
      "Training Accuracy: 0.9279, Testing Accuracy: 0.9420\n",
      "\n"
     ]
    },
    {
     "name": "stdout",
     "output_type": "stream",
     "text": [
      "Epoch 30, Loss 0.0689\n",
      "Training Accuracy: 0.9378, Testing Accuracy: 0.9486\n",
      "\n"
     ]
    },
    {
     "name": "stdout",
     "output_type": "stream",
     "text": [
      "Epoch 40, Loss 0.062\n",
      "Training Accuracy: 0.9421, Testing Accuracy: 0.9526\n",
      "\n"
     ]
    },
    {
     "name": "stdout",
     "output_type": "stream",
     "text": [
      "Epoch 50, Loss 0.0573\n",
      "Training Accuracy: 0.9463, Testing Accuracy: 0.9551\n",
      "\n"
     ]
    },
    {
     "name": "stdout",
     "output_type": "stream",
     "text": [
      "Epoch 60, Loss 0.0539\n",
      "Training Accuracy: 0.9484, Testing Accuracy: 0.9577\n",
      "\n"
     ]
    },
    {
     "name": "stdout",
     "output_type": "stream",
     "text": [
      "Epoch 70, Loss 0.0513\n",
      "Training Accuracy: 0.9496, Testing Accuracy: 0.9592\n",
      "\n"
     ]
    },
    {
     "name": "stdout",
     "output_type": "stream",
     "text": [
      "Epoch 80, Loss 0.0492\n",
      "Training Accuracy: 0.9518, Testing Accuracy: 0.9612\n",
      "\n"
     ]
    },
    {
     "name": "stdout",
     "output_type": "stream",
     "text": [
      "Epoch 90, Loss 0.0475\n",
      "Training Accuracy: 0.9528, Testing Accuracy: 0.9627\n",
      "\n"
     ]
    },
    {
     "name": "stdout",
     "output_type": "stream",
     "text": [
      "Epoch 100, Loss 0.0461\n",
      "Training Accuracy: 0.9544, Testing Accuracy: 0.9627\n",
      "\n"
     ]
    },
    {
     "name": "stdout",
     "output_type": "stream",
     "text": [
      "Epoch 110, Loss 0.0448\n",
      "Training Accuracy: 0.9549, Testing Accuracy: 0.9647\n",
      "\n"
     ]
    },
    {
     "name": "stdout",
     "output_type": "stream",
     "text": [
      "Epoch 120, Loss 0.0438\n",
      "Training Accuracy: 0.9558, Testing Accuracy: 0.9652\n",
      "\n"
     ]
    },
    {
     "name": "stdout",
     "output_type": "stream",
     "text": [
      "Epoch 130, Loss 0.0429\n",
      "Training Accuracy: 0.9566, Testing Accuracy: 0.9657\n",
      "\n"
     ]
    },
    {
     "name": "stdout",
     "output_type": "stream",
     "text": [
      "Epoch 140, Loss 0.042\n",
      "Training Accuracy: 0.9570, Testing Accuracy: 0.9657\n",
      "\n"
     ]
    },
    {
     "name": "stdout",
     "output_type": "stream",
     "text": [
      "Epoch 150, Loss 0.0413\n",
      "Training Accuracy: 0.9577, Testing Accuracy: 0.9667\n",
      "\n"
     ]
    },
    {
     "name": "stdout",
     "output_type": "stream",
     "text": [
      "Epoch 160, Loss 0.0406\n",
      "Training Accuracy: 0.9580, Testing Accuracy: 0.9667\n",
      "\n"
     ]
    },
    {
     "name": "stdout",
     "output_type": "stream",
     "text": [
      "Epoch 170, Loss 0.04\n",
      "Training Accuracy: 0.9585, Testing Accuracy: 0.9667\n",
      "\n"
     ]
    },
    {
     "name": "stdout",
     "output_type": "stream",
     "text": [
      "Epoch 180, Loss 0.0395\n",
      "Training Accuracy: 0.9592, Testing Accuracy: 0.9672\n",
      "\n"
     ]
    },
    {
     "name": "stdout",
     "output_type": "stream",
     "text": [
      "Epoch 190, Loss 0.039\n",
      "Training Accuracy: 0.9598, Testing Accuracy: 0.9672\n",
      "\n"
     ]
    },
    {
     "name": "stdout",
     "output_type": "stream",
     "text": [
      "Epoch 200, Loss 0.0385\n",
      "Training Accuracy: 0.9599, Testing Accuracy: 0.9672\n",
      "\n"
     ]
    },
    {
     "name": "stdout",
     "output_type": "stream",
     "text": [
      "Epoch 210, Loss 0.038\n",
      "Training Accuracy: 0.9606, Testing Accuracy: 0.9672\n",
      "\n"
     ]
    },
    {
     "name": "stdout",
     "output_type": "stream",
     "text": [
      "Epoch 220, Loss 0.0376\n",
      "Training Accuracy: 0.9609, Testing Accuracy: 0.9677\n",
      "\n"
     ]
    },
    {
     "name": "stdout",
     "output_type": "stream",
     "text": [
      "Epoch 230, Loss 0.0373\n",
      "Training Accuracy: 0.9611, Testing Accuracy: 0.9672\n",
      "\n"
     ]
    },
    {
     "name": "stdout",
     "output_type": "stream",
     "text": [
      "Epoch 240, Loss 0.0369\n",
      "Training Accuracy: 0.9613, Testing Accuracy: 0.9672\n",
      "\n"
     ]
    },
    {
     "data": {
      "text/plain": [
       "0.018053452579556976"
      ]
     },
     "execution_count": 23,
     "metadata": {},
     "output_type": "execute_result"
    }
   ],
   "source": [
    "lr_learner.train_loop(dl)"
   ]
  },
  {
   "cell_type": "code",
   "execution_count": 24,
   "id": "ca410940",
   "metadata": {
    "execution": {
     "iopub.execute_input": "2022-05-13T20:12:54.177474Z",
     "iopub.status.busy": "2022-05-13T20:12:54.176950Z",
     "iopub.status.idle": "2022-05-13T20:12:54.404502Z",
     "shell.execute_reply": "2022-05-13T20:12:54.404924Z"
    },
    "papermill": {
     "duration": 0.277552,
     "end_time": "2022-05-13T20:12:54.405063",
     "exception": false,
     "start_time": "2022-05-13T20:12:54.127511",
     "status": "completed"
    },
    "tags": []
   },
   "outputs": [
    {
     "data": {
      "text/plain": [
       "<matplotlib.legend.Legend at 0x7f7b2cb63be0>"
      ]
     },
     "execution_count": 24,
     "metadata": {},
     "output_type": "execute_result"
    },
    {
     "data": {
      "image/png": "[encoded data removed]",
      "text/plain": [
       "<Figure size 1080x720 with 1 Axes>"
      ]
     },
     "metadata": {
      "needs_background": "light"
     },
     "output_type": "display_data"
    }
   ],
   "source": [
    "#comparing the results of NN and LR\n",
    "plt.figure(figsize=(15,10))\n",
    "\n",
    "# Neural Network plots\n",
    "plt.plot(acc_nn.accuracies, 'r-', label = \"Training Accuracies - NN\")\n",
    "plt.plot(acc_nn.test_accuracies, 'g-', label = \"Testing Accuracies - NN\")\n",
    "\n",
    "# Logistic Regression plots\n",
    "plt.plot(acc_lr.accuracies, 'k-', label = \"Training Accuracies - LR\")\n",
    "plt.plot(acc_lr.test_accuracies, 'b-', label = \"Testing Accuracies - LR\")\n",
    "plt.legend()"
   ]
  },
  {
   "cell_type": "markdown",
   "id": "80dfb35c",
   "metadata": {
    "papermill": {
     "duration": 0.041405,
     "end_time": "2022-05-13T20:12:54.488241",
     "exception": false,
     "start_time": "2022-05-13T20:12:54.446836",
     "status": "completed"
    },
    "tags": []
   },
   "source": [
    "#### Plotting the outputs of this layer of the NN.\n"
   ]
  },
  {
   "cell_type": "code",
   "execution_count": 25,
   "id": "45eb2ff5",
   "metadata": {
    "execution": {
     "iopub.execute_input": "2022-05-13T20:12:54.582121Z",
     "iopub.status.busy": "2022-05-13T20:12:54.581292Z",
     "iopub.status.idle": "2022-05-13T20:12:54.596344Z",
     "shell.execute_reply": "2022-05-13T20:12:54.596764Z"
    },
    "papermill": {
     "duration": 0.067116,
     "end_time": "2022-05-13T20:12:54.596900",
     "exception": false,
     "start_time": "2022-05-13T20:12:54.529784",
     "status": "completed"
    },
    "tags": []
   },
   "outputs": [],
   "source": [
    "new_model = Model(layers[:-2])\n",
    "testing_plot = new_model(testing_data_x)"
   ]
  },
  {
   "cell_type": "code",
   "execution_count": 26,
   "id": "4c0a5485",
   "metadata": {
    "execution": {
     "iopub.execute_input": "2022-05-13T20:12:54.688864Z",
     "iopub.status.busy": "2022-05-13T20:12:54.685597Z",
     "iopub.status.idle": "2022-05-13T20:12:54.858412Z",
     "shell.execute_reply": "2022-05-13T20:12:54.858009Z"
    },
    "papermill": {
     "duration": 0.219559,
     "end_time": "2022-05-13T20:12:54.858520",
     "exception": false,
     "start_time": "2022-05-13T20:12:54.638961",
     "status": "completed"
    },
    "tags": []
   },
   "outputs": [
    {
     "data": {
      "text/plain": [
       "Text(0.5, 1.0, 'Outputs')"
      ]
     },
     "execution_count": 26,
     "metadata": {},
     "output_type": "execute_result"
    },
    {
     "data": {
      "image/png": "[encoded data removed]",
      "text/plain": [
       "<Figure size 576x504 with 1 Axes>"
      ]
     },
     "metadata": {
      "needs_background": "light"
     },
     "output_type": "display_data"
    }
   ],
   "source": [
    "# Plotting the scatter plot of points and color coding by class\n",
    "plt.figure(figsize=(8,7))\n",
    "plt.scatter(testing_plot[:,0], testing_plot[:,1], alpha = 0.1, c = y_test.ravel());\n",
    "plt.title('Outputs')"
   ]
  },
  {
   "cell_type": "markdown",
   "id": "a74fcf8f",
   "metadata": {
    "papermill": {
     "duration": 0.038197,
     "end_time": "2022-05-13T20:12:54.935299",
     "exception": false,
     "start_time": "2022-05-13T20:12:54.897102",
     "status": "completed"
    },
    "tags": []
   },
   "source": [
    "Probability contours"
   ]
  },
  {
   "cell_type": "code",
   "execution_count": 27,
   "id": "d0afc8e3",
   "metadata": {
    "execution": {
     "iopub.execute_input": "2022-05-13T20:12:55.023886Z",
     "iopub.status.busy": "2022-05-13T20:12:55.019589Z",
     "iopub.status.idle": "2022-05-13T20:12:55.030921Z",
     "shell.execute_reply": "2022-05-13T20:12:55.030526Z"
    },
    "papermill": {
     "duration": 0.057423,
     "end_time": "2022-05-13T20:12:55.031021",
     "exception": false,
     "start_time": "2022-05-13T20:12:54.973598",
     "status": "completed"
    },
    "tags": []
   },
   "outputs": [],
   "source": [
    "model_prob = Model(layers[-2:]) "
   ]
  },
  {
   "cell_type": "code",
   "execution_count": 28,
   "id": "9b96e238",
   "metadata": {
    "execution": {
     "iopub.execute_input": "2022-05-13T20:12:55.116417Z",
     "iopub.status.busy": "2022-05-13T20:12:55.115890Z",
     "iopub.status.idle": "2022-05-13T20:12:55.126587Z",
     "shell.execute_reply": "2022-05-13T20:12:55.126981Z"
    },
    "papermill": {
     "duration": 0.057869,
     "end_time": "2022-05-13T20:12:55.127119",
     "exception": false,
     "start_time": "2022-05-13T20:12:55.069250",
     "status": "completed"
    },
    "tags": []
   },
   "outputs": [],
   "source": [
    "#creating the x and y ranges according to the above generated plot.\n",
    "x_range = np.linspace(-4, 1, 100) \n",
    "y_range = np.linspace(-6, 6, 100) \n",
    "x_grid, y_grid = np.meshgrid(x_range, y_range) # x_grid and y_grig are of size 100 X 100\n",
    "\n",
    "# converting x_grid and y_grid to continuous arrays\n",
    "x_gridflat = np.ravel(x_grid)\n",
    "y_gridflat = np.ravel(y_grid)\n",
    "\n",
    "# The last layer of the current model takes two columns as input. Hence transpose of np.vstack() is required.\n",
    "X = np.vstack((x_gridflat, y_gridflat)).T\n",
    "\n",
    "prob_contour = model_prob(X).reshape(100,100) "
   ]
  },
  {
   "cell_type": "code",
   "execution_count": 29,
   "id": "da72499a",
   "metadata": {
    "execution": {
     "iopub.execute_input": "2022-05-13T20:12:55.248176Z",
     "iopub.status.busy": "2022-05-13T20:12:55.247630Z",
     "iopub.status.idle": "2022-05-13T20:12:55.489608Z",
     "shell.execute_reply": "2022-05-13T20:12:55.490023Z"
    },
    "papermill": {
     "duration": 0.290967,
     "end_time": "2022-05-13T20:12:55.490171",
     "exception": false,
     "start_time": "2022-05-13T20:12:55.199204",
     "status": "completed"
    },
    "tags": []
   },
   "outputs": [
    {
     "data": {
      "image/png": "[encoded data removed]",
      "text/plain": [
       "<Figure size 720x648 with 1 Axes>"
      ]
     },
     "metadata": {
      "needs_background": "light"
     },
     "output_type": "display_data"
    }
   ],
   "source": [
    "plt.figure(figsize=(10,9))\n",
    "plt.scatter(testing_plot[:,0], testing_plot[:,1], alpha = 0.1, c = y_test.ravel())\n",
    "contours = plt.contour(x_grid,y_grid,prob_contour)\n",
    "plt.title('Probability Contours')\n",
    "plt.clabel(contours, inline = True );"
   ]
  },
  {
   "cell_type": "code",
   "execution_count": null,
   "id": "e81b4ac7",
   "metadata": {
    "papermill": {
     "duration": 0.046322,
     "end_time": "2022-05-13T20:12:55.582885",
     "exception": false,
     "start_time": "2022-05-13T20:12:55.536563",
     "status": "completed"
    },
    "tags": []
   },
   "outputs": [],
   "source": []
  }
 ],
 "metadata": {
  "kernelspec": {
   "display_name": "Python 3",
   "language": "python",
   "name": "python3"
  },
  "language_info": {
   "codemirror_mode": {
    "name": "ipython",
    "version": 3
   },
   "file_extension": ".py",
   "mimetype": "text/x-python",
   "name": "python",
   "nbconvert_exporter": "python",
   "pygments_lexer": "ipython3",
   "version": "3.6.15"
  },
  "papermill": {
   "default_parameters": {},
   "duration": 96.823191,
   "end_time": "2022-05-13T20:12:56.047057",
   "environment_variables": {},
   "exception": null,
   "input_path": "2020-08-11-part2.ipynb",
   "output_path": "2020-08-11-part2.ipynb",
   "parameters": {},
   "start_time": "2022-05-13T20:11:19.223866",
   "version": "2.3.3"
  }
 },
 "nbformat": 4,
 "nbformat_minor": 5
}