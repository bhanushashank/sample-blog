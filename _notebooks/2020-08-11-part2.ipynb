{
 "cells": [
  {
   "cell_type": "markdown",
   "id": "98380cd3",
   "metadata": {
    "papermill": {
     "duration": 0.029639,
     "end_time": "2022-12-02T10:09:40.525780",
     "exception": false,
     "start_time": "2022-12-02T10:09:40.496141",
     "status": "completed"
    },
    "tags": []
   },
   "source": [
    "# Distinguish Your Own Digits (DYOD)"
   ]
  },
  {
   "cell_type": "markdown",
   "id": "ef31240d",
   "metadata": {
    "papermill": {
     "duration": 0.024045,
     "end_time": "2022-12-02T10:09:40.574621",
     "exception": false,
     "start_time": "2022-12-02T10:09:40.550576",
     "status": "completed"
    },
    "tags": []
   },
   "source": [
    "You are going to write a classifier that distinguishes between the number 3 and number 8."
   ]
  },
  {
   "cell_type": "code",
   "execution_count": 1,
   "id": "b15c8646",
   "metadata": {
    "execution": {
     "iopub.execute_input": "2022-12-02T10:09:40.635148Z",
     "iopub.status.busy": "2022-12-02T10:09:40.634467Z",
     "iopub.status.idle": "2022-12-02T10:09:40.645604Z",
     "shell.execute_reply": "2022-12-02T10:09:40.644982Z"
    },
    "papermill": {
     "duration": 0.045797,
     "end_time": "2022-12-02T10:09:40.645742",
     "exception": false,
     "start_time": "2022-12-02T10:09:40.599945",
     "status": "completed"
    },
    "tags": []
   },
   "outputs": [],
   "source": [
    "%load_ext autoreload\n",
    "%autoreload 2"
   ]
  },
  {
   "cell_type": "code",
   "execution_count": 2,
   "id": "22ef38dc",
   "metadata": {
    "execution": {
     "iopub.execute_input": "2022-12-02T10:09:40.702988Z",
     "iopub.status.busy": "2022-12-02T10:09:40.702293Z",
     "iopub.status.idle": "2022-12-02T10:09:41.260711Z",
     "shell.execute_reply": "2022-12-02T10:09:41.260076Z"
    },
    "papermill": {
     "duration": 0.590915,
     "end_time": "2022-12-02T10:09:41.260846",
     "exception": false,
     "start_time": "2022-12-02T10:09:40.669931",
     "status": "completed"
    },
    "tags": []
   },
   "outputs": [],
   "source": [
    "%matplotlib inline\n",
    "import numpy as np\n",
    "import matplotlib.pyplot as plt\n",
    "import pandas as pd"
   ]
  },
  {
   "cell_type": "markdown",
   "id": "ba036198",
   "metadata": {
    "papermill": {
     "duration": 0.024556,
     "end_time": "2022-12-02T10:09:41.310253",
     "exception": false,
     "start_time": "2022-12-02T10:09:41.285697",
     "status": "completed"
    },
    "tags": []
   },
   "source": [
    "From the command line run `pip install mnist`. This is a library that will help you bring down the mnist dataset. If you run this from a notebook, you need to put  `!pip install mnist` in a cell by itself."
   ]
  },
  {
   "cell_type": "code",
   "execution_count": 3,
   "id": "bb6ad8a1",
   "metadata": {
    "execution": {
     "iopub.execute_input": "2022-12-02T10:09:41.369987Z",
     "iopub.status.busy": "2022-12-02T10:09:41.368314Z",
     "iopub.status.idle": "2022-12-02T10:09:43.862564Z",
     "shell.execute_reply": "2022-12-02T10:09:43.861573Z"
    },
    "papermill": {
     "duration": 2.528175,
     "end_time": "2022-12-02T10:09:43.862708",
     "exception": false,
     "start_time": "2022-12-02T10:09:41.334533",
     "status": "completed"
    },
    "tags": []
   },
   "outputs": [
    {
     "name": "stdout",
     "output_type": "stream",
     "text": [
      "Collecting mnist\r\n"
     ]
    },
    {
     "name": "stdout",
     "output_type": "stream",
     "text": [
      "  Downloading mnist-0.2.2-py2.py3-none-any.whl (3.5 kB)\r\n",
      "Requirement already satisfied: numpy in /opt/hostedtoolcache/Python/3.6.15/x64/lib/python3.6/site-packages (from mnist) (1.19.5)\r\n"
     ]
    },
    {
     "name": "stdout",
     "output_type": "stream",
     "text": [
      "Installing collected packages: mnist\r\n"
     ]
    },
    {
     "name": "stdout",
     "output_type": "stream",
     "text": [
      "Successfully installed mnist-0.2.2\r\n"
     ]
    }
   ],
   "source": [
    "!pip install mnist"
   ]
  },
  {
   "cell_type": "markdown",
   "id": "69df9c9a",
   "metadata": {
    "papermill": {
     "duration": 0.025285,
     "end_time": "2022-12-02T10:09:43.913826",
     "exception": false,
     "start_time": "2022-12-02T10:09:43.888541",
     "status": "completed"
    },
    "tags": []
   },
   "source": [
    "## Preparing the Data"
   ]
  },
  {
   "cell_type": "code",
   "execution_count": 4,
   "id": "7f69d806",
   "metadata": {
    "execution": {
     "iopub.execute_input": "2022-12-02T10:09:43.968573Z",
     "iopub.status.busy": "2022-12-02T10:09:43.967974Z",
     "iopub.status.idle": "2022-12-02T10:09:43.982687Z",
     "shell.execute_reply": "2022-12-02T10:09:43.982192Z"
    },
    "papermill": {
     "duration": 0.043721,
     "end_time": "2022-12-02T10:09:43.982802",
     "exception": false,
     "start_time": "2022-12-02T10:09:43.939081",
     "status": "completed"
    },
    "tags": []
   },
   "outputs": [],
   "source": [
    "import mnist"
   ]
  },
  {
   "cell_type": "code",
   "execution_count": 5,
   "id": "a411e44f",
   "metadata": {
    "execution": {
     "iopub.execute_input": "2022-12-02T10:09:44.038614Z",
     "iopub.status.busy": "2022-12-02T10:09:44.038002Z",
     "iopub.status.idle": "2022-12-02T10:09:44.778434Z",
     "shell.execute_reply": "2022-12-02T10:09:44.777791Z"
    },
    "papermill": {
     "duration": 0.770422,
     "end_time": "2022-12-02T10:09:44.778580",
     "exception": false,
     "start_time": "2022-12-02T10:09:44.008158",
     "status": "completed"
    },
    "tags": []
   },
   "outputs": [],
   "source": [
    "train_images = mnist.train_images()\n",
    "train_labels = mnist.train_labels()"
   ]
  },
  {
   "cell_type": "code",
   "execution_count": 6,
   "id": "dceab3a5",
   "metadata": {
    "execution": {
     "iopub.execute_input": "2022-12-02T10:09:44.836548Z",
     "iopub.status.busy": "2022-12-02T10:09:44.835942Z",
     "iopub.status.idle": "2022-12-02T10:09:44.850219Z",
     "shell.execute_reply": "2022-12-02T10:09:44.849719Z"
    },
    "papermill": {
     "duration": 0.045324,
     "end_time": "2022-12-02T10:09:44.850337",
     "exception": false,
     "start_time": "2022-12-02T10:09:44.805013",
     "status": "completed"
    },
    "tags": []
   },
   "outputs": [
    {
     "data": {
      "text/plain": [
       "((60000, 28, 28), (60000,))"
      ]
     },
     "execution_count": 6,
     "metadata": {},
     "output_type": "execute_result"
    }
   ],
   "source": [
    "train_images.shape, train_labels.shape"
   ]
  },
  {
   "cell_type": "code",
   "execution_count": 7,
   "id": "f50dc2bb",
   "metadata": {
    "execution": {
     "iopub.execute_input": "2022-12-02T10:09:44.904807Z",
     "iopub.status.busy": "2022-12-02T10:09:44.904210Z",
     "iopub.status.idle": "2022-12-02T10:09:45.073298Z",
     "shell.execute_reply": "2022-12-02T10:09:45.072658Z"
    },
    "papermill": {
     "duration": 0.197427,
     "end_time": "2022-12-02T10:09:45.073434",
     "exception": false,
     "start_time": "2022-12-02T10:09:44.876007",
     "status": "completed"
    },
    "tags": []
   },
   "outputs": [],
   "source": [
    "test_images = mnist.test_images()\n",
    "test_labels = mnist.test_labels()"
   ]
  },
  {
   "cell_type": "code",
   "execution_count": 8,
   "id": "fc38cf1b",
   "metadata": {
    "execution": {
     "iopub.execute_input": "2022-12-02T10:09:45.129888Z",
     "iopub.status.busy": "2022-12-02T10:09:45.129287Z",
     "iopub.status.idle": "2022-12-02T10:09:45.143263Z",
     "shell.execute_reply": "2022-12-02T10:09:45.142730Z"
    },
    "papermill": {
     "duration": 0.043214,
     "end_time": "2022-12-02T10:09:45.143381",
     "exception": false,
     "start_time": "2022-12-02T10:09:45.100167",
     "status": "completed"
    },
    "tags": []
   },
   "outputs": [
    {
     "data": {
      "text/plain": [
       "((10000, 28, 28), (10000,))"
      ]
     },
     "execution_count": 8,
     "metadata": {},
     "output_type": "execute_result"
    }
   ],
   "source": [
    "test_images.shape, test_labels.shape"
   ]
  },
  {
   "cell_type": "code",
   "execution_count": 9,
   "id": "f9ed8fe0",
   "metadata": {
    "execution": {
     "iopub.execute_input": "2022-12-02T10:09:45.205507Z",
     "iopub.status.busy": "2022-12-02T10:09:45.204878Z",
     "iopub.status.idle": "2022-12-02T10:09:45.342115Z",
     "shell.execute_reply": "2022-12-02T10:09:45.341603Z"
    },
    "papermill": {
     "duration": 0.173271,
     "end_time": "2022-12-02T10:09:45.342245",
     "exception": false,
     "start_time": "2022-12-02T10:09:45.168974",
     "status": "completed"
    },
    "tags": []
   },
   "outputs": [
    {
     "name": "stdout",
     "output_type": "stream",
     "text": [
      "2\n"
     ]
    },
    {
     "data": {
      "text/plain": [
       "<matplotlib.image.AxesImage at 0x7fb196ac0dd8>"
      ]
     },
     "execution_count": 9,
     "metadata": {},
     "output_type": "execute_result"
    },
    {
     "data": {
      "image/png": "[encoded data removed]",
      "text/plain": [
       "<Figure size 432x288 with 1 Axes>"
      ]
     },
     "metadata": {
      "needs_background": "light"
     },
     "output_type": "display_data"
    }
   ],
   "source": [
    "image_index = 7776 # You may select anything up to 60,000\n",
    "print(train_labels[image_index]) \n",
    "plt.imshow(train_images[image_index], cmap='Greys')"
   ]
  },
  {
   "cell_type": "markdown",
   "id": "a8d2388d",
   "metadata": {
    "papermill": {
     "duration": 0.026998,
     "end_time": "2022-12-02T10:09:45.396355",
     "exception": false,
     "start_time": "2022-12-02T10:09:45.369357",
     "status": "completed"
    },
    "tags": []
   },
   "source": [
    "## Filter data to get 3 and 8 out"
   ]
  },
  {
   "cell_type": "code",
   "execution_count": 10,
   "id": "776f7fc7",
   "metadata": {
    "execution": {
     "iopub.execute_input": "2022-12-02T10:09:45.456187Z",
     "iopub.status.busy": "2022-12-02T10:09:45.455547Z",
     "iopub.status.idle": "2022-12-02T10:09:45.473118Z",
     "shell.execute_reply": "2022-12-02T10:09:45.473641Z"
    },
    "papermill": {
     "duration": 0.0506,
     "end_time": "2022-12-02T10:09:45.473785",
     "exception": false,
     "start_time": "2022-12-02T10:09:45.423185",
     "status": "completed"
    },
    "tags": []
   },
   "outputs": [],
   "source": [
    "train_filter = np.where((train_labels == 3 ) | (train_labels == 8))\n",
    "test_filter = np.where((test_labels == 3) | (test_labels == 8))\n",
    "X_train, y_train = train_images[train_filter], train_labels[train_filter]\n",
    "X_test, y_test = test_images[test_filter], test_labels[test_filter]"
   ]
  },
  {
   "cell_type": "markdown",
   "id": "948f0b7e",
   "metadata": {
    "papermill": {
     "duration": 0.026782,
     "end_time": "2022-12-02T10:09:45.527752",
     "exception": false,
     "start_time": "2022-12-02T10:09:45.500970",
     "status": "completed"
    },
    "tags": []
   },
   "source": [
    "We normalize the pizel values in the 0 to 1 range"
   ]
  },
  {
   "cell_type": "code",
   "execution_count": 11,
   "id": "ee4c2166",
   "metadata": {
    "execution": {
     "iopub.execute_input": "2022-12-02T10:09:45.585176Z",
     "iopub.status.busy": "2022-12-02T10:09:45.584422Z",
     "iopub.status.idle": "2022-12-02T10:09:45.633648Z",
     "shell.execute_reply": "2022-12-02T10:09:45.633053Z"
    },
    "papermill": {
     "duration": 0.07939,
     "end_time": "2022-12-02T10:09:45.633783",
     "exception": false,
     "start_time": "2022-12-02T10:09:45.554393",
     "status": "completed"
    },
    "tags": []
   },
   "outputs": [],
   "source": [
    "X_train = X_train/255.\n",
    "X_test = X_test/255."
   ]
  },
  {
   "cell_type": "markdown",
   "id": "ddcf4fab",
   "metadata": {
    "papermill": {
     "duration": 0.026616,
     "end_time": "2022-12-02T10:09:45.688479",
     "exception": false,
     "start_time": "2022-12-02T10:09:45.661863",
     "status": "completed"
    },
    "tags": []
   },
   "source": [
    "And setup the labels as 1 (when the digit is 3) and 0 (when the digit is 8)"
   ]
  },
  {
   "cell_type": "code",
   "execution_count": 12,
   "id": "7dc908f2",
   "metadata": {
    "execution": {
     "iopub.execute_input": "2022-12-02T10:09:45.746156Z",
     "iopub.status.busy": "2022-12-02T10:09:45.745562Z",
     "iopub.status.idle": "2022-12-02T10:09:45.757118Z",
     "shell.execute_reply": "2022-12-02T10:09:45.757692Z"
    },
    "papermill": {
     "duration": 0.042782,
     "end_time": "2022-12-02T10:09:45.757831",
     "exception": false,
     "start_time": "2022-12-02T10:09:45.715049",
     "status": "completed"
    },
    "tags": []
   },
   "outputs": [],
   "source": [
    "y_train = 1*(y_train==3)\n",
    "y_test = 1*(y_test==3)"
   ]
  },
  {
   "cell_type": "code",
   "execution_count": 13,
   "id": "01e4e969",
   "metadata": {
    "execution": {
     "iopub.execute_input": "2022-12-02T10:09:45.815539Z",
     "iopub.status.busy": "2022-12-02T10:09:45.814923Z",
     "iopub.status.idle": "2022-12-02T10:09:45.828487Z",
     "shell.execute_reply": "2022-12-02T10:09:45.828974Z"
    },
    "papermill": {
     "duration": 0.044215,
     "end_time": "2022-12-02T10:09:45.829113",
     "exception": false,
     "start_time": "2022-12-02T10:09:45.784898",
     "status": "completed"
    },
    "tags": []
   },
   "outputs": [
    {
     "data": {
      "text/plain": [
       "((11982, 28, 28), (1984, 28, 28))"
      ]
     },
     "execution_count": 13,
     "metadata": {},
     "output_type": "execute_result"
    }
   ],
   "source": [
    "X_train.shape, X_test.shape"
   ]
  },
  {
   "cell_type": "markdown",
   "id": "5ccf3f85",
   "metadata": {
    "papermill": {
     "duration": 0.026765,
     "end_time": "2022-12-02T10:09:45.882683",
     "exception": false,
     "start_time": "2022-12-02T10:09:45.855918",
     "status": "completed"
    },
    "tags": []
   },
   "source": [
    "We reshape the data to flatten the image pixels into a set of features or co-variates:"
   ]
  },
  {
   "cell_type": "code",
   "execution_count": 14,
   "id": "5286a4a3",
   "metadata": {
    "execution": {
     "iopub.execute_input": "2022-12-02T10:09:45.949324Z",
     "iopub.status.busy": "2022-12-02T10:09:45.948701Z",
     "iopub.status.idle": "2022-12-02T10:09:45.958017Z",
     "shell.execute_reply": "2022-12-02T10:09:45.957525Z"
    },
    "papermill": {
     "duration": 0.048326,
     "end_time": "2022-12-02T10:09:45.958134",
     "exception": false,
     "start_time": "2022-12-02T10:09:45.909808",
     "status": "completed"
    },
    "tags": []
   },
   "outputs": [
    {
     "data": {
      "text/plain": [
       "((11982, 784), (1984, 784))"
      ]
     },
     "execution_count": 14,
     "metadata": {},
     "output_type": "execute_result"
    }
   ],
   "source": [
    "X_train = X_train.reshape(X_train.shape[0], -1)\n",
    "X_test = X_test.reshape(X_test.shape[0], -1)\n",
    "X_train.shape, X_test.shape"
   ]
  },
  {
   "cell_type": "code",
   "execution_count": 15,
   "id": "73c5f88a",
   "metadata": {
    "execution": {
     "iopub.execute_input": "2022-12-02T10:09:46.018294Z",
     "iopub.status.busy": "2022-12-02T10:09:46.017686Z",
     "iopub.status.idle": "2022-12-02T10:09:46.036683Z",
     "shell.execute_reply": "2022-12-02T10:09:46.036178Z"
    },
    "papermill": {
     "duration": 0.051117,
     "end_time": "2022-12-02T10:09:46.036801",
     "exception": false,
     "start_time": "2022-12-02T10:09:45.985684",
     "status": "completed"
    },
    "tags": []
   },
   "outputs": [],
   "source": [
    "#Impoting functions from 'Kudzu'\n",
    "from kudzu.model import Model\n",
    "from kudzu.train import Learner\n",
    "from kudzu.optim import GD\n",
    "from kudzu.data import Data, Sampler,Dataloader\n",
    "\n",
    "from kudzu.callbacks import AccCallback\n",
    "from kudzu.callbacks import ClfCallback\n",
    "\n",
    "from kudzu.loss import MSE\n",
    "\n",
    "from kudzu.layer import Sigmoid,Relu\n",
    "from kudzu.layer import Affine"
   ]
  },
  {
   "cell_type": "markdown",
   "id": "bc01172a",
   "metadata": {
    "papermill": {
     "duration": 0.027133,
     "end_time": "2022-12-02T10:09:46.091358",
     "exception": false,
     "start_time": "2022-12-02T10:09:46.064225",
     "status": "completed"
    },
    "tags": []
   },
   "source": [
    "### Let us create a `Config` class, to store important parameters. \n",
    "This class essentially plays the role of a dictionary."
   ]
  },
  {
   "cell_type": "code",
   "execution_count": 16,
   "id": "978281aa",
   "metadata": {
    "execution": {
     "iopub.execute_input": "2022-12-02T10:09:46.149123Z",
     "iopub.status.busy": "2022-12-02T10:09:46.148523Z",
     "iopub.status.idle": "2022-12-02T10:09:46.162428Z",
     "shell.execute_reply": "2022-12-02T10:09:46.161841Z"
    },
    "papermill": {
     "duration": 0.043864,
     "end_time": "2022-12-02T10:09:46.162540",
     "exception": false,
     "start_time": "2022-12-02T10:09:46.118676",
     "status": "completed"
    },
    "tags": []
   },
   "outputs": [],
   "source": [
    "class Config:\n",
    "    pass\n",
    "config = Config()\n",
    "config.lr = 0.001\n",
    "config.num_epochs = 250\n",
    "config.bs = 50"
   ]
  },
  {
   "cell_type": "markdown",
   "id": "1385fa59",
   "metadata": {
    "papermill": {
     "duration": 0.027215,
     "end_time": "2022-12-02T10:09:46.217088",
     "exception": false,
     "start_time": "2022-12-02T10:09:46.189873",
     "status": "completed"
    },
    "tags": []
   },
   "source": [
    "### Running Models with the Training data\n",
    "Details about the network layers:\n",
    "- A first affine layer has 784 inputs and does 100 affine transforms. These are followed by a Relu\n",
    "- A second affine layer has 100 inputs from the 100 activations of the past layer, and does 100 affine transforms. These are followed by a Relu\n",
    "- A third affine layer has 100 activations and does 2 affine transformations to create an embedding for visualization. There is no non-linearity here.\n",
    "- A final \"logistic regression\" which has an affine transform from 2 inputs to 1 output, which is squeezed through a sigmoid.\n"
   ]
  },
  {
   "cell_type": "code",
   "execution_count": 17,
   "id": "2b9c66db",
   "metadata": {
    "execution": {
     "iopub.execute_input": "2022-12-02T10:09:46.277412Z",
     "iopub.status.busy": "2022-12-02T10:09:46.276796Z",
     "iopub.status.idle": "2022-12-02T10:09:46.289216Z",
     "shell.execute_reply": "2022-12-02T10:09:46.288729Z"
    },
    "papermill": {
     "duration": 0.04464,
     "end_time": "2022-12-02T10:09:46.289331",
     "exception": false,
     "start_time": "2022-12-02T10:09:46.244691",
     "status": "completed"
    },
    "tags": []
   },
   "outputs": [],
   "source": [
    "data = Data(X_train, y_train.reshape(-1,1))\n",
    "sampler = Sampler(data, config.bs, shuffle=True)\n",
    "\n",
    "dl = Dataloader(data, sampler)\n",
    "\n",
    "opt = GD(config.lr)\n",
    "loss = MSE()"
   ]
  },
  {
   "cell_type": "code",
   "execution_count": 18,
   "id": "b275e4c2",
   "metadata": {
    "execution": {
     "iopub.execute_input": "2022-12-02T10:09:46.349296Z",
     "iopub.status.busy": "2022-12-02T10:09:46.348668Z",
     "iopub.status.idle": "2022-12-02T10:09:46.359359Z",
     "shell.execute_reply": "2022-12-02T10:09:46.359915Z"
    },
    "papermill": {
     "duration": 0.043365,
     "end_time": "2022-12-02T10:09:46.360048",
     "exception": false,
     "start_time": "2022-12-02T10:09:46.316683",
     "status": "completed"
    },
    "tags": []
   },
   "outputs": [],
   "source": [
    "training_data_x = X_train\n",
    "testing_data_x = X_test\n",
    "training_data_y = y_train.reshape(-1,1)\n",
    "testing_data_y = y_test.reshape(-1,1)"
   ]
  },
  {
   "cell_type": "code",
   "execution_count": 19,
   "id": "76951160",
   "metadata": {
    "execution": {
     "iopub.execute_input": "2022-12-02T10:09:46.420124Z",
     "iopub.status.busy": "2022-12-02T10:09:46.419506Z",
     "iopub.status.idle": "2022-12-02T10:09:46.434966Z",
     "shell.execute_reply": "2022-12-02T10:09:46.435410Z"
    },
    "papermill": {
     "duration": 0.048304,
     "end_time": "2022-12-02T10:09:46.435554",
     "exception": false,
     "start_time": "2022-12-02T10:09:46.387250",
     "status": "completed"
    },
    "tags": []
   },
   "outputs": [
    {
     "name": "stdout",
     "output_type": "stream",
     "text": [
      "xavier\n",
      "xavier\n",
      "xavier\n",
      "xavier\n",
      "xavier\n"
     ]
    }
   ],
   "source": [
    "layers = [Affine(\"first\", 784, 100), Relu(\"first\"), Affine(\"second\", 100, 100), Relu(\"second\"), Affine(\"third\", 100, 2), Affine(\"last\", 2, 1), Sigmoid(\"last\")]\n",
    "model_nn = Model(layers)\n",
    "model_lr = Model([Affine(\"logits\", 784, 1), Sigmoid(\"sigmoid\")])"
   ]
  },
  {
   "cell_type": "code",
   "execution_count": 20,
   "id": "6eede77a",
   "metadata": {
    "execution": {
     "iopub.execute_input": "2022-12-02T10:09:46.497158Z",
     "iopub.status.busy": "2022-12-02T10:09:46.496548Z",
     "iopub.status.idle": "2022-12-02T10:09:46.508590Z",
     "shell.execute_reply": "2022-12-02T10:09:46.508086Z"
    },
    "papermill": {
     "duration": 0.045323,
     "end_time": "2022-12-02T10:09:46.508709",
     "exception": false,
     "start_time": "2022-12-02T10:09:46.463386",
     "status": "completed"
    },
    "tags": []
   },
   "outputs": [],
   "source": [
    "nn_learner = Learner(loss, model_nn, opt, config.num_epochs)\n",
    "acc_nn = ClfCallback(nn_learner, config.bs, training_data_x , testing_data_x, training_data_y, testing_data_y)\n",
    "nn_learner.set_callbacks([acc_nn])"
   ]
  },
  {
   "cell_type": "code",
   "execution_count": 21,
   "id": "877b6cc7",
   "metadata": {
    "execution": {
     "iopub.execute_input": "2022-12-02T10:09:46.570891Z",
     "iopub.status.busy": "2022-12-02T10:09:46.570257Z",
     "iopub.status.idle": "2022-12-02T10:09:46.581557Z",
     "shell.execute_reply": "2022-12-02T10:09:46.581061Z"
    },
    "papermill": {
     "duration": 0.045283,
     "end_time": "2022-12-02T10:09:46.581674",
     "exception": false,
     "start_time": "2022-12-02T10:09:46.536391",
     "status": "completed"
    },
    "tags": []
   },
   "outputs": [],
   "source": [
    "lr_learner = Learner(loss, model_lr, opt, config.num_epochs)\n",
    "acc_lr = ClfCallback(lr_learner, config.bs, training_data_x , testing_data_x, training_data_y, testing_data_y)\n",
    "lr_learner.set_callbacks([acc_lr])"
   ]
  },
  {
   "cell_type": "code",
   "execution_count": 22,
   "id": "d9b133c3",
   "metadata": {
    "execution": {
     "iopub.execute_input": "2022-12-02T10:09:46.642867Z",
     "iopub.status.busy": "2022-12-02T10:09:46.642241Z",
     "iopub.status.idle": "2022-12-02T10:11:03.012406Z",
     "shell.execute_reply": "2022-12-02T10:11:03.013284Z"
    },
    "papermill": {
     "duration": 76.403888,
     "end_time": "2022-12-02T10:11:03.013437",
     "exception": false,
     "start_time": "2022-12-02T10:09:46.609549",
     "status": "completed"
    },
    "tags": []
   },
   "outputs": [
    {
     "name": "stdout",
     "output_type": "stream",
     "text": [
      "Epoch 0, Loss 0.2501\n",
      "Training Accuracy: 0.6013, Testing Accuracy: 0.5857\n",
      "\n"
     ]
    },
    {
     "name": "stdout",
     "output_type": "stream",
     "text": [
      "Epoch 10, Loss 0.1096\n",
      "Training Accuracy: 0.9009, Testing Accuracy: 0.9083\n",
      "\n"
     ]
    },
    {
     "name": "stdout",
     "output_type": "stream",
     "text": [
      "Epoch 20, Loss 0.0628\n",
      "Training Accuracy: 0.9353, Testing Accuracy: 0.9446\n",
      "\n"
     ]
    },
    {
     "name": "stdout",
     "output_type": "stream",
     "text": [
      "Epoch 30, Loss 0.0471\n",
      "Training Accuracy: 0.9490, Testing Accuracy: 0.9602\n",
      "\n"
     ]
    },
    {
     "name": "stdout",
     "output_type": "stream",
     "text": [
      "Epoch 40, Loss 0.0398\n",
      "Training Accuracy: 0.9564, Testing Accuracy: 0.9672\n",
      "\n"
     ]
    },
    {
     "name": "stdout",
     "output_type": "stream",
     "text": [
      "Epoch 50, Loss 0.0354\n",
      "Training Accuracy: 0.9617, Testing Accuracy: 0.9688\n",
      "\n"
     ]
    },
    {
     "name": "stdout",
     "output_type": "stream",
     "text": [
      "Epoch 60, Loss 0.0324\n",
      "Training Accuracy: 0.9642, Testing Accuracy: 0.9703\n",
      "\n"
     ]
    },
    {
     "name": "stdout",
     "output_type": "stream",
     "text": [
      "Epoch 70, Loss 0.0302\n",
      "Training Accuracy: 0.9662, Testing Accuracy: 0.9723\n",
      "\n"
     ]
    },
    {
     "name": "stdout",
     "output_type": "stream",
     "text": [
      "Epoch 80, Loss 0.0285\n",
      "Training Accuracy: 0.9683, Testing Accuracy: 0.9728\n",
      "\n"
     ]
    },
    {
     "name": "stdout",
     "output_type": "stream",
     "text": [
      "Epoch 90, Loss 0.0272\n",
      "Training Accuracy: 0.9696, Testing Accuracy: 0.9728\n",
      "\n"
     ]
    },
    {
     "name": "stdout",
     "output_type": "stream",
     "text": [
      "Epoch 100, Loss 0.026\n",
      "Training Accuracy: 0.9703, Testing Accuracy: 0.9723\n",
      "\n"
     ]
    },
    {
     "name": "stdout",
     "output_type": "stream",
     "text": [
      "Epoch 110, Loss 0.025\n",
      "Training Accuracy: 0.9717, Testing Accuracy: 0.9723\n",
      "\n"
     ]
    },
    {
     "name": "stdout",
     "output_type": "stream",
     "text": [
      "Epoch 120, Loss 0.0241\n",
      "Training Accuracy: 0.9726, Testing Accuracy: 0.9723\n",
      "\n"
     ]
    },
    {
     "name": "stdout",
     "output_type": "stream",
     "text": [
      "Epoch 130, Loss 0.0233\n",
      "Training Accuracy: 0.9737, Testing Accuracy: 0.9728\n",
      "\n"
     ]
    },
    {
     "name": "stdout",
     "output_type": "stream",
     "text": [
      "Epoch 140, Loss 0.0226\n",
      "Training Accuracy: 0.9745, Testing Accuracy: 0.9728\n",
      "\n"
     ]
    },
    {
     "name": "stdout",
     "output_type": "stream",
     "text": [
      "Epoch 150, Loss 0.0219\n",
      "Training Accuracy: 0.9749, Testing Accuracy: 0.9738\n",
      "\n"
     ]
    },
    {
     "name": "stdout",
     "output_type": "stream",
     "text": [
      "Epoch 160, Loss 0.0213\n",
      "Training Accuracy: 0.9760, Testing Accuracy: 0.9743\n",
      "\n"
     ]
    },
    {
     "name": "stdout",
     "output_type": "stream",
     "text": [
      "Epoch 170, Loss 0.0207\n",
      "Training Accuracy: 0.9767, Testing Accuracy: 0.9748\n",
      "\n"
     ]
    },
    {
     "name": "stdout",
     "output_type": "stream",
     "text": [
      "Epoch 180, Loss 0.0201\n",
      "Training Accuracy: 0.9779, Testing Accuracy: 0.9753\n",
      "\n"
     ]
    },
    {
     "name": "stdout",
     "output_type": "stream",
     "text": [
      "Epoch 190, Loss 0.0196\n",
      "Training Accuracy: 0.9786, Testing Accuracy: 0.9763\n",
      "\n"
     ]
    },
    {
     "name": "stdout",
     "output_type": "stream",
     "text": [
      "Epoch 200, Loss 0.0191\n",
      "Training Accuracy: 0.9793, Testing Accuracy: 0.9768\n",
      "\n"
     ]
    },
    {
     "name": "stdout",
     "output_type": "stream",
     "text": [
      "Epoch 210, Loss 0.0186\n",
      "Training Accuracy: 0.9798, Testing Accuracy: 0.9768\n",
      "\n"
     ]
    },
    {
     "name": "stdout",
     "output_type": "stream",
     "text": [
      "Epoch 220, Loss 0.0182\n",
      "Training Accuracy: 0.9807, Testing Accuracy: 0.9768\n",
      "\n"
     ]
    },
    {
     "name": "stdout",
     "output_type": "stream",
     "text": [
      "Epoch 230, Loss 0.0178\n",
      "Training Accuracy: 0.9809, Testing Accuracy: 0.9778\n",
      "\n"
     ]
    },
    {
     "name": "stdout",
     "output_type": "stream",
     "text": [
      "Epoch 240, Loss 0.0173\n",
      "Training Accuracy: 0.9814, Testing Accuracy: 0.9778\n",
      "\n"
     ]
    },
    {
     "data": {
      "text/plain": [
       "0.028866670183431923"
      ]
     },
     "execution_count": 22,
     "metadata": {},
     "output_type": "execute_result"
    }
   ],
   "source": [
    "nn_learner.train_loop(dl)"
   ]
  },
  {
   "cell_type": "code",
   "execution_count": 23,
   "id": "e0163366",
   "metadata": {
    "execution": {
     "iopub.execute_input": "2022-12-02T10:11:03.093152Z",
     "iopub.status.busy": "2022-12-02T10:11:03.092526Z",
     "iopub.status.idle": "2022-12-02T10:11:16.478811Z",
     "shell.execute_reply": "2022-12-02T10:11:16.479680Z"
    },
    "papermill": {
     "duration": 13.431379,
     "end_time": "2022-12-02T10:11:16.479829",
     "exception": false,
     "start_time": "2022-12-02T10:11:03.048450",
     "status": "completed"
    },
    "tags": []
   },
   "outputs": [
    {
     "name": "stdout",
     "output_type": "stream",
     "text": [
      "Epoch 0, Loss 0.2269\n",
      "Training Accuracy: 0.7337, Testing Accuracy: 0.7041\n",
      "\n"
     ]
    },
    {
     "name": "stdout",
     "output_type": "stream",
     "text": [
      "Epoch 10, Loss 0.1015\n",
      "Training Accuracy: 0.9109, Testing Accuracy: 0.9254\n",
      "\n"
     ]
    },
    {
     "name": "stdout",
     "output_type": "stream",
     "text": [
      "Epoch 20, Loss 0.0786\n",
      "Training Accuracy: 0.9282, Testing Accuracy: 0.9385\n",
      "\n"
     ]
    },
    {
     "name": "stdout",
     "output_type": "stream",
     "text": [
      "Epoch 30, Loss 0.0678\n",
      "Training Accuracy: 0.9367, Testing Accuracy: 0.9481\n",
      "\n"
     ]
    },
    {
     "name": "stdout",
     "output_type": "stream",
     "text": [
      "Epoch 40, Loss 0.0613\n",
      "Training Accuracy: 0.9427, Testing Accuracy: 0.9516\n",
      "\n"
     ]
    },
    {
     "name": "stdout",
     "output_type": "stream",
     "text": [
      "Epoch 50, Loss 0.0568\n",
      "Training Accuracy: 0.9466, Testing Accuracy: 0.9551\n",
      "\n"
     ]
    },
    {
     "name": "stdout",
     "output_type": "stream",
     "text": [
      "Epoch 60, Loss 0.0535\n",
      "Training Accuracy: 0.9487, Testing Accuracy: 0.9546\n",
      "\n"
     ]
    },
    {
     "name": "stdout",
     "output_type": "stream",
     "text": [
      "Epoch 70, Loss 0.051\n",
      "Training Accuracy: 0.9499, Testing Accuracy: 0.9556\n",
      "\n"
     ]
    },
    {
     "name": "stdout",
     "output_type": "stream",
     "text": [
      "Epoch 80, Loss 0.049\n",
      "Training Accuracy: 0.9513, Testing Accuracy: 0.9577\n",
      "\n"
     ]
    },
    {
     "name": "stdout",
     "output_type": "stream",
     "text": [
      "Epoch 90, Loss 0.0473\n",
      "Training Accuracy: 0.9521, Testing Accuracy: 0.9592\n",
      "\n"
     ]
    },
    {
     "name": "stdout",
     "output_type": "stream",
     "text": [
      "Epoch 100, Loss 0.0459\n",
      "Training Accuracy: 0.9530, Testing Accuracy: 0.9612\n",
      "\n"
     ]
    },
    {
     "name": "stdout",
     "output_type": "stream",
     "text": [
      "Epoch 110, Loss 0.0447\n",
      "Training Accuracy: 0.9538, Testing Accuracy: 0.9617\n",
      "\n"
     ]
    },
    {
     "name": "stdout",
     "output_type": "stream",
     "text": [
      "Epoch 120, Loss 0.0436\n",
      "Training Accuracy: 0.9544, Testing Accuracy: 0.9627\n",
      "\n"
     ]
    },
    {
     "name": "stdout",
     "output_type": "stream",
     "text": [
      "Epoch 130, Loss 0.0427\n",
      "Training Accuracy: 0.9551, Testing Accuracy: 0.9642\n",
      "\n"
     ]
    },
    {
     "name": "stdout",
     "output_type": "stream",
     "text": [
      "Epoch 140, Loss 0.0419\n",
      "Training Accuracy: 0.9557, Testing Accuracy: 0.9657\n",
      "\n"
     ]
    },
    {
     "name": "stdout",
     "output_type": "stream",
     "text": [
      "Epoch 150, Loss 0.0411\n",
      "Training Accuracy: 0.9567, Testing Accuracy: 0.9662\n",
      "\n"
     ]
    },
    {
     "name": "stdout",
     "output_type": "stream",
     "text": [
      "Epoch 160, Loss 0.0405\n",
      "Training Accuracy: 0.9572, Testing Accuracy: 0.9662\n",
      "\n"
     ]
    },
    {
     "name": "stdout",
     "output_type": "stream",
     "text": [
      "Epoch 170, Loss 0.0399\n",
      "Training Accuracy: 0.9577, Testing Accuracy: 0.9662\n",
      "\n"
     ]
    },
    {
     "name": "stdout",
     "output_type": "stream",
     "text": [
      "Epoch 180, Loss 0.0393\n",
      "Training Accuracy: 0.9581, Testing Accuracy: 0.9662\n",
      "\n"
     ]
    },
    {
     "name": "stdout",
     "output_type": "stream",
     "text": [
      "Epoch 190, Loss 0.0388\n",
      "Training Accuracy: 0.9594, Testing Accuracy: 0.9662\n",
      "\n"
     ]
    },
    {
     "name": "stdout",
     "output_type": "stream",
     "text": [
      "Epoch 200, Loss 0.0383\n",
      "Training Accuracy: 0.9599, Testing Accuracy: 0.9662\n",
      "\n"
     ]
    },
    {
     "name": "stdout",
     "output_type": "stream",
     "text": [
      "Epoch 210, Loss 0.0379\n",
      "Training Accuracy: 0.9602, Testing Accuracy: 0.9667\n",
      "\n"
     ]
    },
    {
     "name": "stdout",
     "output_type": "stream",
     "text": [
      "Epoch 220, Loss 0.0375\n",
      "Training Accuracy: 0.9606, Testing Accuracy: 0.9667\n",
      "\n"
     ]
    },
    {
     "name": "stdout",
     "output_type": "stream",
     "text": [
      "Epoch 230, Loss 0.0371\n",
      "Training Accuracy: 0.9609, Testing Accuracy: 0.9662\n",
      "\n"
     ]
    },
    {
     "name": "stdout",
     "output_type": "stream",
     "text": [
      "Epoch 240, Loss 0.0368\n",
      "Training Accuracy: 0.9612, Testing Accuracy: 0.9662\n",
      "\n"
     ]
    },
    {
     "data": {
      "text/plain": [
       "0.01545903356501195"
      ]
     },
     "execution_count": 23,
     "metadata": {},
     "output_type": "execute_result"
    }
   ],
   "source": [
    "lr_learner.train_loop(dl)"
   ]
  },
  {
   "cell_type": "code",
   "execution_count": 24,
   "id": "ca410940",
   "metadata": {
    "execution": {
     "iopub.execute_input": "2022-12-02T10:11:16.577316Z",
     "iopub.status.busy": "2022-12-02T10:11:16.576674Z",
     "iopub.status.idle": "2022-12-02T10:11:16.809727Z",
     "shell.execute_reply": "2022-12-02T10:11:16.810168Z"
    },
    "papermill": {
     "duration": 0.288009,
     "end_time": "2022-12-02T10:11:16.810316",
     "exception": false,
     "start_time": "2022-12-02T10:11:16.522307",
     "status": "completed"
    },
    "tags": []
   },
   "outputs": [
    {
     "data": {
      "text/plain": [
       "<matplotlib.legend.Legend at 0x7fb19662e550>"
      ]
     },
     "execution_count": 24,
     "metadata": {},
     "output_type": "execute_result"
    },
    {
     "data": {
      "image/png": "[encoded data removed]",
      "text/plain": [
       "<Figure size 1080x720 with 1 Axes>"
      ]
     },
     "metadata": {
      "needs_background": "light"
     },
     "output_type": "display_data"
    }
   ],
   "source": [
    "#comparing the results of NN and LR\n",
    "plt.figure(figsize=(15,10))\n",
    "\n",
    "# Neural Network plots\n",
    "plt.plot(acc_nn.accuracies, 'r-', label = \"Training Accuracies - NN\")\n",
    "plt.plot(acc_nn.test_accuracies, 'g-', label = \"Testing Accuracies - NN\")\n",
    "\n",
    "# Logistic Regression plots\n",
    "plt.plot(acc_lr.accuracies, 'k-', label = \"Training Accuracies - LR\")\n",
    "plt.plot(acc_lr.test_accuracies, 'b-', label = \"Testing Accuracies - LR\")\n",
    "plt.legend()"
   ]
  },
  {
   "cell_type": "markdown",
   "id": "80dfb35c",
   "metadata": {
    "papermill": {
     "duration": 0.042595,
     "end_time": "2022-12-02T10:11:16.895757",
     "exception": false,
     "start_time": "2022-12-02T10:11:16.853162",
     "status": "completed"
    },
    "tags": []
   },
   "source": [
    "#### Plotting the outputs of this layer of the NN.\n"
   ]
  },
  {
   "cell_type": "code",
   "execution_count": 25,
   "id": "45eb2ff5",
   "metadata": {
    "execution": {
     "iopub.execute_input": "2022-12-02T10:11:16.990923Z",
     "iopub.status.busy": "2022-12-02T10:11:16.987507Z",
     "iopub.status.idle": "2022-12-02T10:11:17.007764Z",
     "shell.execute_reply": "2022-12-02T10:11:17.007241Z"
    },
    "papermill": {
     "duration": 0.069549,
     "end_time": "2022-12-02T10:11:17.007893",
     "exception": false,
     "start_time": "2022-12-02T10:11:16.938344",
     "status": "completed"
    },
    "tags": []
   },
   "outputs": [],
   "source": [
    "new_model = Model(layers[:-2])\n",
    "testing_plot = new_model(testing_data_x)"
   ]
  },
  {
   "cell_type": "code",
   "execution_count": 26,
   "id": "4c0a5485",
   "metadata": {
    "execution": {
     "iopub.execute_input": "2022-12-02T10:11:17.101784Z",
     "iopub.status.busy": "2022-12-02T10:11:17.099324Z",
     "iopub.status.idle": "2022-12-02T10:11:17.285644Z",
     "shell.execute_reply": "2022-12-02T10:11:17.285142Z"
    },
    "papermill": {
     "duration": 0.234503,
     "end_time": "2022-12-02T10:11:17.285762",
     "exception": false,
     "start_time": "2022-12-02T10:11:17.051259",
     "status": "completed"
    },
    "tags": []
   },
   "outputs": [
    {
     "data": {
      "text/plain": [
       "Text(0.5, 1.0, 'Outputs')"
      ]
     },
     "execution_count": 26,
     "metadata": {},
     "output_type": "execute_result"
    },
    {
     "data": {
      "image/png": "[encoded data removed]",
      "text/plain": [
       "<Figure size 576x504 with 1 Axes>"
      ]
     },
     "metadata": {
      "needs_background": "light"
     },
     "output_type": "display_data"
    }
   ],
   "source": [
    "# Plotting the scatter plot of points and color coding by class\n",
    "plt.figure(figsize=(8,7))\n",
    "plt.scatter(testing_plot[:,0], testing_plot[:,1], alpha = 0.1, c = y_test.ravel());\n",
    "plt.title('Outputs')"
   ]
  },
  {
   "cell_type": "markdown",
   "id": "a74fcf8f",
   "metadata": {
    "papermill": {
     "duration": 0.044531,
     "end_time": "2022-12-02T10:11:17.375190",
     "exception": false,
     "start_time": "2022-12-02T10:11:17.330659",
     "status": "completed"
    },
    "tags": []
   },
   "source": [
    "Probability contours"
   ]
  },
  {
   "cell_type": "code",
   "execution_count": 27,
   "id": "d0afc8e3",
   "metadata": {
    "execution": {
     "iopub.execute_input": "2022-12-02T10:11:17.499028Z",
     "iopub.status.busy": "2022-12-02T10:11:17.497287Z",
     "iopub.status.idle": "2022-12-02T10:11:17.508936Z",
     "shell.execute_reply": "2022-12-02T10:11:17.509398Z"
    },
    "papermill": {
     "duration": 0.089677,
     "end_time": "2022-12-02T10:11:17.509536",
     "exception": false,
     "start_time": "2022-12-02T10:11:17.419859",
     "status": "completed"
    },
    "tags": []
   },
   "outputs": [],
   "source": [
    "model_prob = Model(layers[-2:]) "
   ]
  },
  {
   "cell_type": "code",
   "execution_count": 28,
   "id": "9b96e238",
   "metadata": {
    "execution": {
     "iopub.execute_input": "2022-12-02T10:11:17.605669Z",
     "iopub.status.busy": "2022-12-02T10:11:17.603655Z",
     "iopub.status.idle": "2022-12-02T10:11:17.617745Z",
     "shell.execute_reply": "2022-12-02T10:11:17.618178Z"
    },
    "papermill": {
     "duration": 0.064019,
     "end_time": "2022-12-02T10:11:17.618319",
     "exception": false,
     "start_time": "2022-12-02T10:11:17.554300",
     "status": "completed"
    },
    "tags": []
   },
   "outputs": [],
   "source": [
    "#creating the x and y ranges according to the above generated plot.\n",
    "x_range = np.linspace(-4, 1, 100) \n",
    "y_range = np.linspace(-6, 6, 100) \n",
    "x_grid, y_grid = np.meshgrid(x_range, y_range) # x_grid and y_grig are of size 100 X 100\n",
    "\n",
    "# converting x_grid and y_grid to continuous arrays\n",
    "x_gridflat = np.ravel(x_grid)\n",
    "y_gridflat = np.ravel(y_grid)\n",
    "\n",
    "# The last layer of the current model takes two columns as input. Hence transpose of np.vstack() is required.\n",
    "X = np.vstack((x_gridflat, y_gridflat)).T\n",
    "\n",
    "prob_contour = model_prob(X).reshape(100,100) "
   ]
  },
  {
   "cell_type": "code",
   "execution_count": 29,
   "id": "da72499a",
   "metadata": {
    "execution": {
     "iopub.execute_input": "2022-12-02T10:11:17.712516Z",
     "iopub.status.busy": "2022-12-02T10:11:17.711929Z",
     "iopub.status.idle": "2022-12-02T10:11:17.954703Z",
     "shell.execute_reply": "2022-12-02T10:11:17.955260Z"
    },
    "papermill": {
     "duration": 0.292389,
     "end_time": "2022-12-02T10:11:17.955419",
     "exception": false,
     "start_time": "2022-12-02T10:11:17.663030",
     "status": "completed"
    },
    "tags": []
   },
   "outputs": [
    {
     "data": {
      "image/png": "[encoded data removed]",
      "text/plain": [
       "<Figure size 720x648 with 1 Axes>"
      ]
     },
     "metadata": {
      "needs_background": "light"
     },
     "output_type": "display_data"
    }
   ],
   "source": [
    "plt.figure(figsize=(10,9))\n",
    "plt.scatter(testing_plot[:,0], testing_plot[:,1], alpha = 0.1, c = y_test.ravel())\n",
    "contours = plt.contour(x_grid,y_grid,prob_contour)\n",
    "plt.title('Probability Contours')\n",
    "plt.clabel(contours, inline = True );"
   ]
  },
  {
   "cell_type": "code",
   "execution_count": null,
   "id": "e81b4ac7",
   "metadata": {
    "papermill": {
     "duration": 0.047398,
     "end_time": "2022-12-02T10:11:18.050495",
     "exception": false,
     "start_time": "2022-12-02T10:11:18.003097",
     "status": "completed"
    },
    "tags": []
   },
   "outputs": [],
   "source": []
  }
 ],
 "metadata": {
  "kernelspec": {
   "display_name": "Python 3",
   "language": "python",
   "name": "python3"
  },
  "language_info": {
   "codemirror_mode": {
    "name": "ipython",
    "version": 3
   },
   "file_extension": ".py",
   "mimetype": "text/x-python",
   "name": "python",
   "nbconvert_exporter": "python",
   "pygments_lexer": "ipython3",
   "version": "3.6.15"
  },
  "papermill": {
   "default_parameters": {},
   "duration": 99.070801,
   "end_time": "2022-12-02T10:11:18.516249",
   "environment_variables": {},
   "exception": null,
   "input_path": "2020-08-11-part2.ipynb",
   "output_path": "2020-08-11-part2.ipynb",
   "parameters": {},
   "start_time": "2022-12-02T10:09:39.445448",
   "version": "2.3.3"
  }
 },
 "nbformat": 4,
 "nbformat_minor": 5
}