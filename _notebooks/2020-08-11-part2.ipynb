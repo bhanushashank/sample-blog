{
 "cells": [
  {
   "cell_type": "markdown",
   "id": "98380cd3",
   "metadata": {
    "papermill": {
     "duration": 0.029354,
     "end_time": "2022-03-29T20:09:32.406170",
     "exception": false,
     "start_time": "2022-03-29T20:09:32.376816",
     "status": "completed"
    },
    "tags": []
   },
   "source": [
    "# Distinguish Your Own Digits (DYOD)"
   ]
  },
  {
   "cell_type": "markdown",
   "id": "ef31240d",
   "metadata": {
    "papermill": {
     "duration": 0.025422,
     "end_time": "2022-03-29T20:09:32.456538",
     "exception": false,
     "start_time": "2022-03-29T20:09:32.431116",
     "status": "completed"
    },
    "tags": []
   },
   "source": [
    "You are going to write a classifier that distinguishes between the number 3 and number 8."
   ]
  },
  {
   "cell_type": "code",
   "execution_count": 1,
   "id": "b15c8646",
   "metadata": {
    "execution": {
     "iopub.execute_input": "2022-03-29T20:09:32.515501Z",
     "iopub.status.busy": "2022-03-29T20:09:32.514929Z",
     "iopub.status.idle": "2022-03-29T20:09:32.525979Z",
     "shell.execute_reply": "2022-03-29T20:09:32.525519Z"
    },
    "papermill": {
     "duration": 0.045676,
     "end_time": "2022-03-29T20:09:32.526122",
     "exception": false,
     "start_time": "2022-03-29T20:09:32.480446",
     "status": "completed"
    },
    "tags": []
   },
   "outputs": [],
   "source": [
    "%load_ext autoreload\n",
    "%autoreload 2"
   ]
  },
  {
   "cell_type": "code",
   "execution_count": 2,
   "id": "22ef38dc",
   "metadata": {
    "execution": {
     "iopub.execute_input": "2022-03-29T20:09:32.578791Z",
     "iopub.status.busy": "2022-03-29T20:09:32.578258Z",
     "iopub.status.idle": "2022-03-29T20:09:33.189526Z",
     "shell.execute_reply": "2022-03-29T20:09:33.189096Z"
    },
    "papermill": {
     "duration": 0.63921,
     "end_time": "2022-03-29T20:09:33.189653",
     "exception": false,
     "start_time": "2022-03-29T20:09:32.550443",
     "status": "completed"
    },
    "tags": []
   },
   "outputs": [],
   "source": [
    "%matplotlib inline\n",
    "import numpy as np\n",
    "import matplotlib.pyplot as plt\n",
    "import pandas as pd"
   ]
  },
  {
   "cell_type": "markdown",
   "id": "ba036198",
   "metadata": {
    "papermill": {
     "duration": 0.021449,
     "end_time": "2022-03-29T20:09:33.232581",
     "exception": false,
     "start_time": "2022-03-29T20:09:33.211132",
     "status": "completed"
    },
    "tags": []
   },
   "source": [
    "From the command line run `pip install mnist`. This is a library that will help you bring down the mnist dataset. If you run this from a notebook, you need to put  `!pip install mnist` in a cell by itself."
   ]
  },
  {
   "cell_type": "code",
   "execution_count": 3,
   "id": "bb6ad8a1",
   "metadata": {
    "execution": {
     "iopub.execute_input": "2022-03-29T20:09:33.279993Z",
     "iopub.status.busy": "2022-03-29T20:09:33.279531Z",
     "iopub.status.idle": "2022-03-29T20:09:35.043247Z",
     "shell.execute_reply": "2022-03-29T20:09:35.042677Z"
    },
    "papermill": {
     "duration": 1.789435,
     "end_time": "2022-03-29T20:09:35.043387",
     "exception": false,
     "start_time": "2022-03-29T20:09:33.253952",
     "status": "completed"
    },
    "tags": []
   },
   "outputs": [
    {
     "name": "stdout",
     "output_type": "stream",
     "text": [
      "Collecting mnist\r\n"
     ]
    },
    {
     "name": "stdout",
     "output_type": "stream",
     "text": [
      "  Downloading mnist-0.2.2-py2.py3-none-any.whl (3.5 kB)\r\n"
     ]
    },
    {
     "name": "stdout",
     "output_type": "stream",
     "text": [
      "Requirement already satisfied: numpy in /opt/hostedtoolcache/Python/3.6.15/x64/lib/python3.6/site-packages (from mnist) (1.19.5)\r\n"
     ]
    },
    {
     "name": "stdout",
     "output_type": "stream",
     "text": [
      "Installing collected packages: mnist\r\n",
      "Successfully installed mnist-0.2.2\r\n"
     ]
    }
   ],
   "source": [
    "!pip install mnist"
   ]
  },
  {
   "cell_type": "markdown",
   "id": "69df9c9a",
   "metadata": {
    "papermill": {
     "duration": 0.025524,
     "end_time": "2022-03-29T20:09:35.094870",
     "exception": false,
     "start_time": "2022-03-29T20:09:35.069346",
     "status": "completed"
    },
    "tags": []
   },
   "source": [
    "## Preparing the Data"
   ]
  },
  {
   "cell_type": "code",
   "execution_count": 4,
   "id": "7f69d806",
   "metadata": {
    "execution": {
     "iopub.execute_input": "2022-03-29T20:09:35.149905Z",
     "iopub.status.busy": "2022-03-29T20:09:35.149369Z",
     "iopub.status.idle": "2022-03-29T20:09:35.164410Z",
     "shell.execute_reply": "2022-03-29T20:09:35.163903Z"
    },
    "papermill": {
     "duration": 0.044552,
     "end_time": "2022-03-29T20:09:35.164582",
     "exception": false,
     "start_time": "2022-03-29T20:09:35.120030",
     "status": "completed"
    },
    "tags": []
   },
   "outputs": [],
   "source": [
    "import mnist"
   ]
  },
  {
   "cell_type": "code",
   "execution_count": 5,
   "id": "a411e44f",
   "metadata": {
    "execution": {
     "iopub.execute_input": "2022-03-29T20:09:35.221343Z",
     "iopub.status.busy": "2022-03-29T20:09:35.220804Z",
     "iopub.status.idle": "2022-03-29T20:09:35.801094Z",
     "shell.execute_reply": "2022-03-29T20:09:35.800573Z"
    },
    "papermill": {
     "duration": 0.610279,
     "end_time": "2022-03-29T20:09:35.801225",
     "exception": false,
     "start_time": "2022-03-29T20:09:35.190946",
     "status": "completed"
    },
    "tags": []
   },
   "outputs": [],
   "source": [
    "train_images = mnist.train_images()\n",
    "train_labels = mnist.train_labels()"
   ]
  },
  {
   "cell_type": "code",
   "execution_count": 6,
   "id": "dceab3a5",
   "metadata": {
    "execution": {
     "iopub.execute_input": "2022-03-29T20:09:35.859068Z",
     "iopub.status.busy": "2022-03-29T20:09:35.858496Z",
     "iopub.status.idle": "2022-03-29T20:09:35.871889Z",
     "shell.execute_reply": "2022-03-29T20:09:35.872308Z"
    },
    "papermill": {
     "duration": 0.0458,
     "end_time": "2022-03-29T20:09:35.872459",
     "exception": false,
     "start_time": "2022-03-29T20:09:35.826659",
     "status": "completed"
    },
    "tags": []
   },
   "outputs": [
    {
     "data": {
      "text/plain": [
       "((60000, 28, 28), (60000,))"
      ]
     },
     "execution_count": 6,
     "metadata": {},
     "output_type": "execute_result"
    }
   ],
   "source": [
    "train_images.shape, train_labels.shape"
   ]
  },
  {
   "cell_type": "code",
   "execution_count": 7,
   "id": "f50dc2bb",
   "metadata": {
    "execution": {
     "iopub.execute_input": "2022-03-29T20:09:35.931148Z",
     "iopub.status.busy": "2022-03-29T20:09:35.930608Z",
     "iopub.status.idle": "2022-03-29T20:09:36.132551Z",
     "shell.execute_reply": "2022-03-29T20:09:36.133055Z"
    },
    "papermill": {
     "duration": 0.235393,
     "end_time": "2022-03-29T20:09:36.133229",
     "exception": false,
     "start_time": "2022-03-29T20:09:35.897836",
     "status": "completed"
    },
    "tags": []
   },
   "outputs": [],
   "source": [
    "test_images = mnist.test_images()\n",
    "test_labels = mnist.test_labels()"
   ]
  },
  {
   "cell_type": "code",
   "execution_count": 8,
   "id": "fc38cf1b",
   "metadata": {
    "execution": {
     "iopub.execute_input": "2022-03-29T20:09:36.189609Z",
     "iopub.status.busy": "2022-03-29T20:09:36.189080Z",
     "iopub.status.idle": "2022-03-29T20:09:36.203061Z",
     "shell.execute_reply": "2022-03-29T20:09:36.202621Z"
    },
    "papermill": {
     "duration": 0.043378,
     "end_time": "2022-03-29T20:09:36.203213",
     "exception": false,
     "start_time": "2022-03-29T20:09:36.159835",
     "status": "completed"
    },
    "tags": []
   },
   "outputs": [
    {
     "data": {
      "text/plain": [
       "((10000, 28, 28), (10000,))"
      ]
     },
     "execution_count": 8,
     "metadata": {},
     "output_type": "execute_result"
    }
   ],
   "source": [
    "test_images.shape, test_labels.shape"
   ]
  },
  {
   "cell_type": "code",
   "execution_count": 9,
   "id": "f9ed8fe0",
   "metadata": {
    "execution": {
     "iopub.execute_input": "2022-03-29T20:09:36.262640Z",
     "iopub.status.busy": "2022-03-29T20:09:36.262089Z",
     "iopub.status.idle": "2022-03-29T20:09:36.403355Z",
     "shell.execute_reply": "2022-03-29T20:09:36.402836Z"
    },
    "papermill": {
     "duration": 0.174164,
     "end_time": "2022-03-29T20:09:36.403497",
     "exception": false,
     "start_time": "2022-03-29T20:09:36.229333",
     "status": "completed"
    },
    "tags": []
   },
   "outputs": [
    {
     "name": "stdout",
     "output_type": "stream",
     "text": [
      "2\n"
     ]
    },
    {
     "data": {
      "text/plain": [
       "<matplotlib.image.AxesImage at 0x7f8120ba25c0>"
      ]
     },
     "execution_count": 9,
     "metadata": {},
     "output_type": "execute_result"
    },
    {
     "data": {
      "image/png": "[encoded data removed]",
      "text/plain": [
       "<Figure size 432x288 with 1 Axes>"
      ]
     },
     "metadata": {
      "needs_background": "light"
     },
     "output_type": "display_data"
    }
   ],
   "source": [
    "image_index = 7776 # You may select anything up to 60,000\n",
    "print(train_labels[image_index]) \n",
    "plt.imshow(train_images[image_index], cmap='Greys')"
   ]
  },
  {
   "cell_type": "markdown",
   "id": "a8d2388d",
   "metadata": {
    "papermill": {
     "duration": 0.027178,
     "end_time": "2022-03-29T20:09:36.458721",
     "exception": false,
     "start_time": "2022-03-29T20:09:36.431543",
     "status": "completed"
    },
    "tags": []
   },
   "source": [
    "## Filter data to get 3 and 8 out"
   ]
  },
  {
   "cell_type": "code",
   "execution_count": 10,
   "id": "776f7fc7",
   "metadata": {
    "execution": {
     "iopub.execute_input": "2022-03-29T20:09:36.529231Z",
     "iopub.status.busy": "2022-03-29T20:09:36.526959Z",
     "iopub.status.idle": "2022-03-29T20:09:36.540447Z",
     "shell.execute_reply": "2022-03-29T20:09:36.540001Z"
    },
    "papermill": {
     "duration": 0.053968,
     "end_time": "2022-03-29T20:09:36.540599",
     "exception": false,
     "start_time": "2022-03-29T20:09:36.486631",
     "status": "completed"
    },
    "tags": []
   },
   "outputs": [],
   "source": [
    "train_filter = np.where((train_labels == 3 ) | (train_labels == 8))\n",
    "test_filter = np.where((test_labels == 3) | (test_labels == 8))\n",
    "X_train, y_train = train_images[train_filter], train_labels[train_filter]\n",
    "X_test, y_test = test_images[test_filter], test_labels[test_filter]"
   ]
  },
  {
   "cell_type": "markdown",
   "id": "948f0b7e",
   "metadata": {
    "papermill": {
     "duration": 0.026686,
     "end_time": "2022-03-29T20:09:36.594290",
     "exception": false,
     "start_time": "2022-03-29T20:09:36.567604",
     "status": "completed"
    },
    "tags": []
   },
   "source": [
    "We normalize the pizel values in the 0 to 1 range"
   ]
  },
  {
   "cell_type": "code",
   "execution_count": 11,
   "id": "ee4c2166",
   "metadata": {
    "execution": {
     "iopub.execute_input": "2022-03-29T20:09:36.651885Z",
     "iopub.status.busy": "2022-03-29T20:09:36.651356Z",
     "iopub.status.idle": "2022-03-29T20:09:36.701395Z",
     "shell.execute_reply": "2022-03-29T20:09:36.700812Z"
    },
    "papermill": {
     "duration": 0.080454,
     "end_time": "2022-03-29T20:09:36.701538",
     "exception": false,
     "start_time": "2022-03-29T20:09:36.621084",
     "status": "completed"
    },
    "tags": []
   },
   "outputs": [],
   "source": [
    "X_train = X_train/255.\n",
    "X_test = X_test/255."
   ]
  },
  {
   "cell_type": "markdown",
   "id": "ddcf4fab",
   "metadata": {
    "papermill": {
     "duration": 0.026822,
     "end_time": "2022-03-29T20:09:36.756249",
     "exception": false,
     "start_time": "2022-03-29T20:09:36.729427",
     "status": "completed"
    },
    "tags": []
   },
   "source": [
    "And setup the labels as 1 (when the digit is 3) and 0 (when the digit is 8)"
   ]
  },
  {
   "cell_type": "code",
   "execution_count": 12,
   "id": "7dc908f2",
   "metadata": {
    "execution": {
     "iopub.execute_input": "2022-03-29T20:09:36.817033Z",
     "iopub.status.busy": "2022-03-29T20:09:36.816445Z",
     "iopub.status.idle": "2022-03-29T20:09:36.827132Z",
     "shell.execute_reply": "2022-03-29T20:09:36.827585Z"
    },
    "papermill": {
     "duration": 0.04442,
     "end_time": "2022-03-29T20:09:36.827734",
     "exception": false,
     "start_time": "2022-03-29T20:09:36.783314",
     "status": "completed"
    },
    "tags": []
   },
   "outputs": [],
   "source": [
    "y_train = 1*(y_train==3)\n",
    "y_test = 1*(y_test==3)"
   ]
  },
  {
   "cell_type": "code",
   "execution_count": 13,
   "id": "01e4e969",
   "metadata": {
    "execution": {
     "iopub.execute_input": "2022-03-29T20:09:36.885524Z",
     "iopub.status.busy": "2022-03-29T20:09:36.884983Z",
     "iopub.status.idle": "2022-03-29T20:09:36.899620Z",
     "shell.execute_reply": "2022-03-29T20:09:36.899184Z"
    },
    "papermill": {
     "duration": 0.045072,
     "end_time": "2022-03-29T20:09:36.899751",
     "exception": false,
     "start_time": "2022-03-29T20:09:36.854679",
     "status": "completed"
    },
    "tags": []
   },
   "outputs": [
    {
     "data": {
      "text/plain": [
       "((11982, 28, 28), (1984, 28, 28))"
      ]
     },
     "execution_count": 13,
     "metadata": {},
     "output_type": "execute_result"
    }
   ],
   "source": [
    "X_train.shape, X_test.shape"
   ]
  },
  {
   "cell_type": "markdown",
   "id": "5ccf3f85",
   "metadata": {
    "papermill": {
     "duration": 0.027328,
     "end_time": "2022-03-29T20:09:36.954326",
     "exception": false,
     "start_time": "2022-03-29T20:09:36.926998",
     "status": "completed"
    },
    "tags": []
   },
   "source": [
    "We reshape the data to flatten the image pixels into a set of features or co-variates:"
   ]
  },
  {
   "cell_type": "code",
   "execution_count": 14,
   "id": "5286a4a3",
   "metadata": {
    "execution": {
     "iopub.execute_input": "2022-03-29T20:09:37.013549Z",
     "iopub.status.busy": "2022-03-29T20:09:37.013012Z",
     "iopub.status.idle": "2022-03-29T20:09:37.026759Z",
     "shell.execute_reply": "2022-03-29T20:09:37.027207Z"
    },
    "papermill": {
     "duration": 0.045582,
     "end_time": "2022-03-29T20:09:37.027354",
     "exception": false,
     "start_time": "2022-03-29T20:09:36.981772",
     "status": "completed"
    },
    "tags": []
   },
   "outputs": [
    {
     "data": {
      "text/plain": [
       "((11982, 784), (1984, 784))"
      ]
     },
     "execution_count": 14,
     "metadata": {},
     "output_type": "execute_result"
    }
   ],
   "source": [
    "X_train = X_train.reshape(X_train.shape[0], -1)\n",
    "X_test = X_test.reshape(X_test.shape[0], -1)\n",
    "X_train.shape, X_test.shape"
   ]
  },
  {
   "cell_type": "code",
   "execution_count": 15,
   "id": "73c5f88a",
   "metadata": {
    "execution": {
     "iopub.execute_input": "2022-03-29T20:09:37.087775Z",
     "iopub.status.busy": "2022-03-29T20:09:37.087234Z",
     "iopub.status.idle": "2022-03-29T20:09:37.103885Z",
     "shell.execute_reply": "2022-03-29T20:09:37.103449Z"
    },
    "papermill": {
     "duration": 0.049157,
     "end_time": "2022-03-29T20:09:37.104011",
     "exception": false,
     "start_time": "2022-03-29T20:09:37.054854",
     "status": "completed"
    },
    "tags": []
   },
   "outputs": [],
   "source": [
    "#Impoting functions from 'Kudzu'\n",
    "from kudzu.model import Model\n",
    "from kudzu.train import Learner\n",
    "from kudzu.optim import GD\n",
    "from kudzu.data import Data, Sampler,Dataloader\n",
    "\n",
    "from kudzu.callbacks import AccCallback\n",
    "from kudzu.callbacks import ClfCallback\n",
    "\n",
    "from kudzu.loss import MSE\n",
    "\n",
    "from kudzu.layer import Sigmoid,Relu\n",
    "from kudzu.layer import Affine"
   ]
  },
  {
   "cell_type": "markdown",
   "id": "bc01172a",
   "metadata": {
    "papermill": {
     "duration": 0.027445,
     "end_time": "2022-03-29T20:09:37.159125",
     "exception": false,
     "start_time": "2022-03-29T20:09:37.131680",
     "status": "completed"
    },
    "tags": []
   },
   "source": [
    "### Let us create a `Config` class, to store important parameters. \n",
    "This class essentially plays the role of a dictionary."
   ]
  },
  {
   "cell_type": "code",
   "execution_count": 16,
   "id": "978281aa",
   "metadata": {
    "execution": {
     "iopub.execute_input": "2022-03-29T20:09:37.218786Z",
     "iopub.status.busy": "2022-03-29T20:09:37.218246Z",
     "iopub.status.idle": "2022-03-29T20:09:37.230020Z",
     "shell.execute_reply": "2022-03-29T20:09:37.230418Z"
    },
    "papermill": {
     "duration": 0.044112,
     "end_time": "2022-03-29T20:09:37.230568",
     "exception": false,
     "start_time": "2022-03-29T20:09:37.186456",
     "status": "completed"
    },
    "tags": []
   },
   "outputs": [],
   "source": [
    "class Config:\n",
    "    pass\n",
    "config = Config()\n",
    "config.lr = 0.001\n",
    "config.num_epochs = 250\n",
    "config.bs = 50"
   ]
  },
  {
   "cell_type": "markdown",
   "id": "1385fa59",
   "metadata": {
    "papermill": {
     "duration": 0.027249,
     "end_time": "2022-03-29T20:09:37.285290",
     "exception": false,
     "start_time": "2022-03-29T20:09:37.258041",
     "status": "completed"
    },
    "tags": []
   },
   "source": [
    "### Running Models with the Training data\n",
    "Details about the network layers:\n",
    "- A first affine layer has 784 inputs and does 100 affine transforms. These are followed by a Relu\n",
    "- A second affine layer has 100 inputs from the 100 activations of the past layer, and does 100 affine transforms. These are followed by a Relu\n",
    "- A third affine layer has 100 activations and does 2 affine transformations to create an embedding for visualization. There is no non-linearity here.\n",
    "- A final \"logistic regression\" which has an affine transform from 2 inputs to 1 output, which is squeezed through a sigmoid.\n"
   ]
  },
  {
   "cell_type": "code",
   "execution_count": 17,
   "id": "2b9c66db",
   "metadata": {
    "execution": {
     "iopub.execute_input": "2022-03-29T20:09:37.344442Z",
     "iopub.status.busy": "2022-03-29T20:09:37.343911Z",
     "iopub.status.idle": "2022-03-29T20:09:37.357278Z",
     "shell.execute_reply": "2022-03-29T20:09:37.357702Z"
    },
    "papermill": {
     "duration": 0.045196,
     "end_time": "2022-03-29T20:09:37.357844",
     "exception": false,
     "start_time": "2022-03-29T20:09:37.312648",
     "status": "completed"
    },
    "tags": []
   },
   "outputs": [],
   "source": [
    "data = Data(X_train, y_train.reshape(-1,1))\n",
    "sampler = Sampler(data, config.bs, shuffle=True)\n",
    "\n",
    "dl = Dataloader(data, sampler)\n",
    "\n",
    "opt = GD(config.lr)\n",
    "loss = MSE()"
   ]
  },
  {
   "cell_type": "code",
   "execution_count": 18,
   "id": "b275e4c2",
   "metadata": {
    "execution": {
     "iopub.execute_input": "2022-03-29T20:09:37.417914Z",
     "iopub.status.busy": "2022-03-29T20:09:37.417375Z",
     "iopub.status.idle": "2022-03-29T20:09:37.429603Z",
     "shell.execute_reply": "2022-03-29T20:09:37.429164Z"
    },
    "papermill": {
     "duration": 0.044545,
     "end_time": "2022-03-29T20:09:37.429728",
     "exception": false,
     "start_time": "2022-03-29T20:09:37.385183",
     "status": "completed"
    },
    "tags": []
   },
   "outputs": [],
   "source": [
    "training_data_x = X_train\n",
    "testing_data_x = X_test\n",
    "training_data_y = y_train.reshape(-1,1)\n",
    "testing_data_y = y_test.reshape(-1,1)"
   ]
  },
  {
   "cell_type": "code",
   "execution_count": 19,
   "id": "76951160",
   "metadata": {
    "execution": {
     "iopub.execute_input": "2022-03-29T20:09:37.491772Z",
     "iopub.status.busy": "2022-03-29T20:09:37.491233Z",
     "iopub.status.idle": "2022-03-29T20:09:37.506284Z",
     "shell.execute_reply": "2022-03-29T20:09:37.505855Z"
    },
    "papermill": {
     "duration": 0.049289,
     "end_time": "2022-03-29T20:09:37.506409",
     "exception": false,
     "start_time": "2022-03-29T20:09:37.457120",
     "status": "completed"
    },
    "tags": []
   },
   "outputs": [
    {
     "name": "stdout",
     "output_type": "stream",
     "text": [
      "xavier\n",
      "xavier\n",
      "xavier\n",
      "xavier\n",
      "xavier\n"
     ]
    }
   ],
   "source": [
    "layers = [Affine(\"first\", 784, 100), Relu(\"first\"), Affine(\"second\", 100, 100), Relu(\"second\"), Affine(\"third\", 100, 2), Affine(\"last\", 2, 1), Sigmoid(\"last\")]\n",
    "model_nn = Model(layers)\n",
    "model_lr = Model([Affine(\"logits\", 784, 1), Sigmoid(\"sigmoid\")])"
   ]
  },
  {
   "cell_type": "code",
   "execution_count": 20,
   "id": "6eede77a",
   "metadata": {
    "execution": {
     "iopub.execute_input": "2022-03-29T20:09:37.566079Z",
     "iopub.status.busy": "2022-03-29T20:09:37.565547Z",
     "iopub.status.idle": "2022-03-29T20:09:37.578550Z",
     "shell.execute_reply": "2022-03-29T20:09:37.578047Z"
    },
    "papermill": {
     "duration": 0.044413,
     "end_time": "2022-03-29T20:09:37.578688",
     "exception": false,
     "start_time": "2022-03-29T20:09:37.534275",
     "status": "completed"
    },
    "tags": []
   },
   "outputs": [],
   "source": [
    "nn_learner = Learner(loss, model_nn, opt, config.num_epochs)\n",
    "acc_nn = ClfCallback(nn_learner, config.bs, training_data_x , testing_data_x, training_data_y, testing_data_y)\n",
    "nn_learner.set_callbacks([acc_nn])"
   ]
  },
  {
   "cell_type": "code",
   "execution_count": 21,
   "id": "877b6cc7",
   "metadata": {
    "execution": {
     "iopub.execute_input": "2022-03-29T20:09:37.639710Z",
     "iopub.status.busy": "2022-03-29T20:09:37.639182Z",
     "iopub.status.idle": "2022-03-29T20:09:37.651736Z",
     "shell.execute_reply": "2022-03-29T20:09:37.651291Z"
    },
    "papermill": {
     "duration": 0.044132,
     "end_time": "2022-03-29T20:09:37.651863",
     "exception": false,
     "start_time": "2022-03-29T20:09:37.607731",
     "status": "completed"
    },
    "tags": []
   },
   "outputs": [],
   "source": [
    "lr_learner = Learner(loss, model_lr, opt, config.num_epochs)\n",
    "acc_lr = ClfCallback(lr_learner, config.bs, training_data_x , testing_data_x, training_data_y, testing_data_y)\n",
    "lr_learner.set_callbacks([acc_lr])"
   ]
  },
  {
   "cell_type": "code",
   "execution_count": 22,
   "id": "d9b133c3",
   "metadata": {
    "execution": {
     "iopub.execute_input": "2022-03-29T20:09:37.712672Z",
     "iopub.status.busy": "2022-03-29T20:09:37.712110Z",
     "iopub.status.idle": "2022-03-29T20:11:00.742889Z",
     "shell.execute_reply": "2022-03-29T20:11:00.743634Z"
    },
    "papermill": {
     "duration": 83.064222,
     "end_time": "2022-03-29T20:11:00.743791",
     "exception": false,
     "start_time": "2022-03-29T20:09:37.679569",
     "status": "completed"
    },
    "tags": []
   },
   "outputs": [
    {
     "name": "stdout",
     "output_type": "stream",
     "text": [
      "Epoch 0, Loss 0.2448\n",
      "Training Accuracy: 0.5411, Testing Accuracy: 0.5544\n",
      "\n"
     ]
    },
    {
     "name": "stdout",
     "output_type": "stream",
     "text": [
      "Epoch 10, Loss 0.2\n",
      "Training Accuracy: 0.8418, Testing Accuracy: 0.8291\n",
      "\n"
     ]
    },
    {
     "name": "stdout",
     "output_type": "stream",
     "text": [
      "Epoch 20, Loss 0.1048\n",
      "Training Accuracy: 0.9128, Testing Accuracy: 0.9229\n",
      "\n"
     ]
    },
    {
     "name": "stdout",
     "output_type": "stream",
     "text": [
      "Epoch 30, Loss 0.0604\n",
      "Training Accuracy: 0.9381, Testing Accuracy: 0.9456\n",
      "\n"
     ]
    },
    {
     "name": "stdout",
     "output_type": "stream",
     "text": [
      "Epoch 40, Loss 0.0462\n",
      "Training Accuracy: 0.9515, Testing Accuracy: 0.9572\n",
      "\n"
     ]
    },
    {
     "name": "stdout",
     "output_type": "stream",
     "text": [
      "Epoch 50, Loss 0.0397\n",
      "Training Accuracy: 0.9553, Testing Accuracy: 0.9612\n",
      "\n"
     ]
    },
    {
     "name": "stdout",
     "output_type": "stream",
     "text": [
      "Epoch 60, Loss 0.036\n",
      "Training Accuracy: 0.9589, Testing Accuracy: 0.9647\n",
      "\n"
     ]
    },
    {
     "name": "stdout",
     "output_type": "stream",
     "text": [
      "Epoch 70, Loss 0.0335\n",
      "Training Accuracy: 0.9610, Testing Accuracy: 0.9667\n",
      "\n"
     ]
    },
    {
     "name": "stdout",
     "output_type": "stream",
     "text": [
      "Epoch 80, Loss 0.0316\n",
      "Training Accuracy: 0.9625, Testing Accuracy: 0.9677\n",
      "\n"
     ]
    },
    {
     "name": "stdout",
     "output_type": "stream",
     "text": [
      "Epoch 90, Loss 0.0302\n",
      "Training Accuracy: 0.9646, Testing Accuracy: 0.9677\n",
      "\n"
     ]
    },
    {
     "name": "stdout",
     "output_type": "stream",
     "text": [
      "Epoch 100, Loss 0.0289\n",
      "Training Accuracy: 0.9662, Testing Accuracy: 0.9672\n",
      "\n"
     ]
    },
    {
     "name": "stdout",
     "output_type": "stream",
     "text": [
      "Epoch 110, Loss 0.0279\n",
      "Training Accuracy: 0.9672, Testing Accuracy: 0.9693\n",
      "\n"
     ]
    },
    {
     "name": "stdout",
     "output_type": "stream",
     "text": [
      "Epoch 120, Loss 0.027\n",
      "Training Accuracy: 0.9684, Testing Accuracy: 0.9698\n",
      "\n"
     ]
    },
    {
     "name": "stdout",
     "output_type": "stream",
     "text": [
      "Epoch 130, Loss 0.0262\n",
      "Training Accuracy: 0.9697, Testing Accuracy: 0.9708\n",
      "\n"
     ]
    },
    {
     "name": "stdout",
     "output_type": "stream",
     "text": [
      "Epoch 140, Loss 0.0255\n",
      "Training Accuracy: 0.9700, Testing Accuracy: 0.9708\n",
      "\n"
     ]
    },
    {
     "name": "stdout",
     "output_type": "stream",
     "text": [
      "Epoch 150, Loss 0.0248\n",
      "Training Accuracy: 0.9706, Testing Accuracy: 0.9713\n",
      "\n"
     ]
    },
    {
     "name": "stdout",
     "output_type": "stream",
     "text": [
      "Epoch 160, Loss 0.0242\n",
      "Training Accuracy: 0.9713, Testing Accuracy: 0.9718\n",
      "\n"
     ]
    },
    {
     "name": "stdout",
     "output_type": "stream",
     "text": [
      "Epoch 170, Loss 0.0237\n",
      "Training Accuracy: 0.9718, Testing Accuracy: 0.9723\n",
      "\n"
     ]
    },
    {
     "name": "stdout",
     "output_type": "stream",
     "text": [
      "Epoch 180, Loss 0.0232\n",
      "Training Accuracy: 0.9721, Testing Accuracy: 0.9728\n",
      "\n"
     ]
    },
    {
     "name": "stdout",
     "output_type": "stream",
     "text": [
      "Epoch 190, Loss 0.0227\n",
      "Training Accuracy: 0.9727, Testing Accuracy: 0.9738\n",
      "\n"
     ]
    },
    {
     "name": "stdout",
     "output_type": "stream",
     "text": [
      "Epoch 200, Loss 0.0222\n",
      "Training Accuracy: 0.9735, Testing Accuracy: 0.9738\n",
      "\n"
     ]
    },
    {
     "name": "stdout",
     "output_type": "stream",
     "text": [
      "Epoch 210, Loss 0.0218\n",
      "Training Accuracy: 0.9742, Testing Accuracy: 0.9738\n",
      "\n"
     ]
    },
    {
     "name": "stdout",
     "output_type": "stream",
     "text": [
      "Epoch 220, Loss 0.0213\n",
      "Training Accuracy: 0.9750, Testing Accuracy: 0.9738\n",
      "\n"
     ]
    },
    {
     "name": "stdout",
     "output_type": "stream",
     "text": [
      "Epoch 230, Loss 0.0209\n",
      "Training Accuracy: 0.9752, Testing Accuracy: 0.9748\n",
      "\n"
     ]
    },
    {
     "name": "stdout",
     "output_type": "stream",
     "text": [
      "Epoch 240, Loss 0.0205\n",
      "Training Accuracy: 0.9758, Testing Accuracy: 0.9743\n",
      "\n"
     ]
    },
    {
     "data": {
      "text/plain": [
       "0.003276521807920858"
      ]
     },
     "execution_count": 22,
     "metadata": {},
     "output_type": "execute_result"
    }
   ],
   "source": [
    "nn_learner.train_loop(dl)"
   ]
  },
  {
   "cell_type": "code",
   "execution_count": 23,
   "id": "e0163366",
   "metadata": {
    "execution": {
     "iopub.execute_input": "2022-03-29T20:11:00.822536Z",
     "iopub.status.busy": "2022-03-29T20:11:00.821995Z",
     "iopub.status.idle": "2022-03-29T20:11:15.952202Z",
     "shell.execute_reply": "2022-03-29T20:11:15.952956Z"
    },
    "papermill": {
     "duration": 15.17377,
     "end_time": "2022-03-29T20:11:15.953115",
     "exception": false,
     "start_time": "2022-03-29T20:11:00.779345",
     "status": "completed"
    },
    "tags": []
   },
   "outputs": [
    {
     "name": "stdout",
     "output_type": "stream",
     "text": [
      "Epoch 0, Loss 0.2294\n",
      "Training Accuracy: 0.7276, Testing Accuracy: 0.7480\n",
      "\n"
     ]
    },
    {
     "name": "stdout",
     "output_type": "stream",
     "text": [
      "Epoch 10, Loss 0.105\n",
      "Training Accuracy: 0.8995, Testing Accuracy: 0.9118\n",
      "\n"
     ]
    },
    {
     "name": "stdout",
     "output_type": "stream",
     "text": [
      "Epoch 20, Loss 0.081\n",
      "Training Accuracy: 0.9215, Testing Accuracy: 0.9330\n",
      "\n"
     ]
    },
    {
     "name": "stdout",
     "output_type": "stream",
     "text": [
      "Epoch 30, Loss 0.0697\n",
      "Training Accuracy: 0.9331, Testing Accuracy: 0.9456\n",
      "\n"
     ]
    },
    {
     "name": "stdout",
     "output_type": "stream",
     "text": [
      "Epoch 40, Loss 0.0628\n",
      "Training Accuracy: 0.9398, Testing Accuracy: 0.9501\n",
      "\n"
     ]
    },
    {
     "name": "stdout",
     "output_type": "stream",
     "text": [
      "Epoch 50, Loss 0.0581\n",
      "Training Accuracy: 0.9428, Testing Accuracy: 0.9526\n",
      "\n"
     ]
    },
    {
     "name": "stdout",
     "output_type": "stream",
     "text": [
      "Epoch 60, Loss 0.0547\n",
      "Training Accuracy: 0.9453, Testing Accuracy: 0.9567\n",
      "\n"
     ]
    },
    {
     "name": "stdout",
     "output_type": "stream",
     "text": [
      "Epoch 70, Loss 0.052\n",
      "Training Accuracy: 0.9469, Testing Accuracy: 0.9587\n",
      "\n"
     ]
    },
    {
     "name": "stdout",
     "output_type": "stream",
     "text": [
      "Epoch 80, Loss 0.0499\n",
      "Training Accuracy: 0.9490, Testing Accuracy: 0.9607\n",
      "\n"
     ]
    },
    {
     "name": "stdout",
     "output_type": "stream",
     "text": [
      "Epoch 90, Loss 0.0482\n",
      "Training Accuracy: 0.9504, Testing Accuracy: 0.9622\n",
      "\n"
     ]
    },
    {
     "name": "stdout",
     "output_type": "stream",
     "text": [
      "Epoch 100, Loss 0.0467\n",
      "Training Accuracy: 0.9515, Testing Accuracy: 0.9632\n",
      "\n"
     ]
    },
    {
     "name": "stdout",
     "output_type": "stream",
     "text": [
      "Epoch 110, Loss 0.0455\n",
      "Training Accuracy: 0.9523, Testing Accuracy: 0.9637\n",
      "\n"
     ]
    },
    {
     "name": "stdout",
     "output_type": "stream",
     "text": [
      "Epoch 120, Loss 0.0444\n",
      "Training Accuracy: 0.9535, Testing Accuracy: 0.9637\n",
      "\n"
     ]
    },
    {
     "name": "stdout",
     "output_type": "stream",
     "text": [
      "Epoch 130, Loss 0.0434\n",
      "Training Accuracy: 0.9550, Testing Accuracy: 0.9647\n",
      "\n"
     ]
    },
    {
     "name": "stdout",
     "output_type": "stream",
     "text": [
      "Epoch 140, Loss 0.0426\n",
      "Training Accuracy: 0.9553, Testing Accuracy: 0.9657\n",
      "\n"
     ]
    },
    {
     "name": "stdout",
     "output_type": "stream",
     "text": [
      "Epoch 150, Loss 0.0418\n",
      "Training Accuracy: 0.9559, Testing Accuracy: 0.9657\n",
      "\n"
     ]
    },
    {
     "name": "stdout",
     "output_type": "stream",
     "text": [
      "Epoch 160, Loss 0.0411\n",
      "Training Accuracy: 0.9568, Testing Accuracy: 0.9662\n",
      "\n"
     ]
    },
    {
     "name": "stdout",
     "output_type": "stream",
     "text": [
      "Epoch 170, Loss 0.0405\n",
      "Training Accuracy: 0.9573, Testing Accuracy: 0.9667\n",
      "\n"
     ]
    },
    {
     "name": "stdout",
     "output_type": "stream",
     "text": [
      "Epoch 180, Loss 0.0399\n",
      "Training Accuracy: 0.9579, Testing Accuracy: 0.9667\n",
      "\n"
     ]
    },
    {
     "name": "stdout",
     "output_type": "stream",
     "text": [
      "Epoch 190, Loss 0.0394\n",
      "Training Accuracy: 0.9581, Testing Accuracy: 0.9667\n",
      "\n"
     ]
    },
    {
     "name": "stdout",
     "output_type": "stream",
     "text": [
      "Epoch 200, Loss 0.0389\n",
      "Training Accuracy: 0.9583, Testing Accuracy: 0.9667\n",
      "\n"
     ]
    },
    {
     "name": "stdout",
     "output_type": "stream",
     "text": [
      "Epoch 210, Loss 0.0384\n",
      "Training Accuracy: 0.9586, Testing Accuracy: 0.9667\n",
      "\n"
     ]
    },
    {
     "name": "stdout",
     "output_type": "stream",
     "text": [
      "Epoch 220, Loss 0.038\n",
      "Training Accuracy: 0.9592, Testing Accuracy: 0.9667\n",
      "\n"
     ]
    },
    {
     "name": "stdout",
     "output_type": "stream",
     "text": [
      "Epoch 230, Loss 0.0376\n",
      "Training Accuracy: 0.9595, Testing Accuracy: 0.9667\n",
      "\n"
     ]
    },
    {
     "name": "stdout",
     "output_type": "stream",
     "text": [
      "Epoch 240, Loss 0.0372\n",
      "Training Accuracy: 0.9597, Testing Accuracy: 0.9667\n",
      "\n"
     ]
    },
    {
     "data": {
      "text/plain": [
       "0.025647301847279137"
      ]
     },
     "execution_count": 23,
     "metadata": {},
     "output_type": "execute_result"
    }
   ],
   "source": [
    "lr_learner.train_loop(dl)"
   ]
  },
  {
   "cell_type": "code",
   "execution_count": 24,
   "id": "ca410940",
   "metadata": {
    "execution": {
     "iopub.execute_input": "2022-03-29T20:11:16.050029Z",
     "iopub.status.busy": "2022-03-29T20:11:16.049479Z",
     "iopub.status.idle": "2022-03-29T20:11:16.262549Z",
     "shell.execute_reply": "2022-03-29T20:11:16.262093Z"
    },
    "papermill": {
     "duration": 0.268091,
     "end_time": "2022-03-29T20:11:16.262679",
     "exception": false,
     "start_time": "2022-03-29T20:11:15.994588",
     "status": "completed"
    },
    "tags": []
   },
   "outputs": [
    {
     "data": {
      "text/plain": [
       "<matplotlib.legend.Legend at 0x7f812077dd30>"
      ]
     },
     "execution_count": 24,
     "metadata": {},
     "output_type": "execute_result"
    },
    {
     "data": {
      "image/png": "[encoded data removed]",
      "text/plain": [
       "<Figure size 1080x720 with 1 Axes>"
      ]
     },
     "metadata": {
      "needs_background": "light"
     },
     "output_type": "display_data"
    }
   ],
   "source": [
    "#comparing the results of NN and LR\n",
    "plt.figure(figsize=(15,10))\n",
    "\n",
    "# Neural Network plots\n",
    "plt.plot(acc_nn.accuracies, 'r-', label = \"Training Accuracies - NN\")\n",
    "plt.plot(acc_nn.test_accuracies, 'g-', label = \"Testing Accuracies - NN\")\n",
    "\n",
    "# Logistic Regression plots\n",
    "plt.plot(acc_lr.accuracies, 'k-', label = \"Training Accuracies - LR\")\n",
    "plt.plot(acc_lr.test_accuracies, 'b-', label = \"Testing Accuracies - LR\")\n",
    "plt.legend()"
   ]
  },
  {
   "cell_type": "markdown",
   "id": "80dfb35c",
   "metadata": {
    "papermill": {
     "duration": 0.042431,
     "end_time": "2022-03-29T20:11:16.347816",
     "exception": false,
     "start_time": "2022-03-29T20:11:16.305385",
     "status": "completed"
    },
    "tags": []
   },
   "source": [
    "#### Plotting the outputs of this layer of the NN.\n"
   ]
  },
  {
   "cell_type": "code",
   "execution_count": 25,
   "id": "45eb2ff5",
   "metadata": {
    "execution": {
     "iopub.execute_input": "2022-03-29T20:11:16.437364Z",
     "iopub.status.busy": "2022-03-29T20:11:16.436804Z",
     "iopub.status.idle": "2022-03-29T20:11:16.461609Z",
     "shell.execute_reply": "2022-03-29T20:11:16.462070Z"
    },
    "papermill": {
     "duration": 0.072138,
     "end_time": "2022-03-29T20:11:16.462230",
     "exception": false,
     "start_time": "2022-03-29T20:11:16.390092",
     "status": "completed"
    },
    "tags": []
   },
   "outputs": [],
   "source": [
    "new_model = Model(layers[:-2])\n",
    "testing_plot = new_model(testing_data_x)"
   ]
  },
  {
   "cell_type": "code",
   "execution_count": 26,
   "id": "4c0a5485",
   "metadata": {
    "execution": {
     "iopub.execute_input": "2022-03-29T20:11:16.555054Z",
     "iopub.status.busy": "2022-03-29T20:11:16.553551Z",
     "iopub.status.idle": "2022-03-29T20:11:16.762424Z",
     "shell.execute_reply": "2022-03-29T20:11:16.761979Z"
    },
    "papermill": {
     "duration": 0.2571,
     "end_time": "2022-03-29T20:11:16.762553",
     "exception": false,
     "start_time": "2022-03-29T20:11:16.505453",
     "status": "completed"
    },
    "tags": []
   },
   "outputs": [
    {
     "data": {
      "text/plain": [
       "Text(0.5, 1.0, 'Outputs')"
      ]
     },
     "execution_count": 26,
     "metadata": {},
     "output_type": "execute_result"
    },
    {
     "data": {
      "image/png": "[encoded data removed]",
      "text/plain": [
       "<Figure size 576x504 with 1 Axes>"
      ]
     },
     "metadata": {
      "needs_background": "light"
     },
     "output_type": "display_data"
    }
   ],
   "source": [
    "# Plotting the scatter plot of points and color coding by class\n",
    "plt.figure(figsize=(8,7))\n",
    "plt.scatter(testing_plot[:,0], testing_plot[:,1], alpha = 0.1, c = y_test.ravel());\n",
    "plt.title('Outputs')"
   ]
  },
  {
   "cell_type": "markdown",
   "id": "a74fcf8f",
   "metadata": {
    "papermill": {
     "duration": 0.044689,
     "end_time": "2022-03-29T20:11:16.852406",
     "exception": false,
     "start_time": "2022-03-29T20:11:16.807717",
     "status": "completed"
    },
    "tags": []
   },
   "source": [
    "Probability contours"
   ]
  },
  {
   "cell_type": "code",
   "execution_count": 27,
   "id": "d0afc8e3",
   "metadata": {
    "execution": {
     "iopub.execute_input": "2022-03-29T20:11:16.988173Z",
     "iopub.status.busy": "2022-03-29T20:11:16.985735Z",
     "iopub.status.idle": "2022-03-29T20:11:16.997614Z",
     "shell.execute_reply": "2022-03-29T20:11:16.997154Z"
    },
    "papermill": {
     "duration": 0.100363,
     "end_time": "2022-03-29T20:11:16.997748",
     "exception": false,
     "start_time": "2022-03-29T20:11:16.897385",
     "status": "completed"
    },
    "tags": []
   },
   "outputs": [],
   "source": [
    "model_prob = Model(layers[-2:]) "
   ]
  },
  {
   "cell_type": "code",
   "execution_count": 28,
   "id": "9b96e238",
   "metadata": {
    "execution": {
     "iopub.execute_input": "2022-03-29T20:11:17.094322Z",
     "iopub.status.busy": "2022-03-29T20:11:17.093773Z",
     "iopub.status.idle": "2022-03-29T20:11:17.105974Z",
     "shell.execute_reply": "2022-03-29T20:11:17.106385Z"
    },
    "papermill": {
     "duration": 0.063861,
     "end_time": "2022-03-29T20:11:17.106545",
     "exception": false,
     "start_time": "2022-03-29T20:11:17.042684",
     "status": "completed"
    },
    "tags": []
   },
   "outputs": [],
   "source": [
    "#creating the x and y ranges according to the above generated plot.\n",
    "x_range = np.linspace(-4, 1, 100) \n",
    "y_range = np.linspace(-6, 6, 100) \n",
    "x_grid, y_grid = np.meshgrid(x_range, y_range) # x_grid and y_grig are of size 100 X 100\n",
    "\n",
    "# converting x_grid and y_grid to continuous arrays\n",
    "x_gridflat = np.ravel(x_grid)\n",
    "y_gridflat = np.ravel(y_grid)\n",
    "\n",
    "# The last layer of the current model takes two columns as input. Hence transpose of np.vstack() is required.\n",
    "X = np.vstack((x_gridflat, y_gridflat)).T\n",
    "\n",
    "prob_contour = model_prob(X).reshape(100,100) "
   ]
  },
  {
   "cell_type": "code",
   "execution_count": 29,
   "id": "da72499a",
   "metadata": {
    "execution": {
     "iopub.execute_input": "2022-03-29T20:11:17.206525Z",
     "iopub.status.busy": "2022-03-29T20:11:17.205993Z",
     "iopub.status.idle": "2022-03-29T20:11:17.457743Z",
     "shell.execute_reply": "2022-03-29T20:11:17.458171Z"
    },
    "papermill": {
     "duration": 0.306454,
     "end_time": "2022-03-29T20:11:17.458323",
     "exception": false,
     "start_time": "2022-03-29T20:11:17.151869",
     "status": "completed"
    },
    "tags": []
   },
   "outputs": [
    {
     "data": {
      "image/png": "[encoded data removed]",
      "text/plain": [
       "<Figure size 720x648 with 1 Axes>"
      ]
     },
     "metadata": {
      "needs_background": "light"
     },
     "output_type": "display_data"
    }
   ],
   "source": [
    "plt.figure(figsize=(10,9))\n",
    "plt.scatter(testing_plot[:,0], testing_plot[:,1], alpha = 0.1, c = y_test.ravel())\n",
    "contours = plt.contour(x_grid,y_grid,prob_contour)\n",
    "plt.title('Probability Contours')\n",
    "plt.clabel(contours, inline = True );"
   ]
  },
  {
   "cell_type": "code",
   "execution_count": null,
   "id": "e81b4ac7",
   "metadata": {
    "papermill": {
     "duration": 0.04739,
     "end_time": "2022-03-29T20:11:17.553756",
     "exception": false,
     "start_time": "2022-03-29T20:11:17.506366",
     "status": "completed"
    },
    "tags": []
   },
   "outputs": [],
   "source": []
  }
 ],
 "metadata": {
  "kernelspec": {
   "display_name": "Python 3",
   "language": "python",
   "name": "python3"
  },
  "language_info": {
   "codemirror_mode": {
    "name": "ipython",
    "version": 3
   },
   "file_extension": ".py",
   "mimetype": "text/x-python",
   "name": "python",
   "nbconvert_exporter": "python",
   "pygments_lexer": "ipython3",
   "version": "3.6.15"
  },
  "papermill": {
   "default_parameters": {},
   "duration": 106.596244,
   "end_time": "2022-03-29T20:11:18.020999",
   "environment_variables": {},
   "exception": null,
   "input_path": "2020-08-11-part2.ipynb",
   "output_path": "2020-08-11-part2.ipynb",
   "parameters": {},
   "start_time": "2022-03-29T20:09:31.424755",
   "version": "2.3.3"
  }
 },
 "nbformat": 4,
 "nbformat_minor": 5
}