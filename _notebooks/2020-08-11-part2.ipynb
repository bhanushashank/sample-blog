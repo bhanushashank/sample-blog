{
 "cells": [
  {
   "cell_type": "markdown",
   "id": "98380cd3",
   "metadata": {
    "papermill": {
     "duration": 0.036463,
     "end_time": "2022-09-29T10:13:06.549895",
     "exception": false,
     "start_time": "2022-09-29T10:13:06.513432",
     "status": "completed"
    },
    "tags": []
   },
   "source": [
    "# Distinguish Your Own Digits (DYOD)"
   ]
  },
  {
   "cell_type": "markdown",
   "id": "ef31240d",
   "metadata": {
    "papermill": {
     "duration": 0.031985,
     "end_time": "2022-09-29T10:13:06.614205",
     "exception": false,
     "start_time": "2022-09-29T10:13:06.582220",
     "status": "completed"
    },
    "tags": []
   },
   "source": [
    "You are going to write a classifier that distinguishes between the number 3 and number 8."
   ]
  },
  {
   "cell_type": "code",
   "execution_count": 1,
   "id": "b15c8646",
   "metadata": {
    "execution": {
     "iopub.execute_input": "2022-09-29T10:13:06.688082Z",
     "iopub.status.busy": "2022-09-29T10:13:06.687318Z",
     "iopub.status.idle": "2022-09-29T10:13:06.700707Z",
     "shell.execute_reply": "2022-09-29T10:13:06.700059Z"
    },
    "papermill": {
     "duration": 0.056941,
     "end_time": "2022-09-29T10:13:06.700863",
     "exception": false,
     "start_time": "2022-09-29T10:13:06.643922",
     "status": "completed"
    },
    "tags": []
   },
   "outputs": [],
   "source": [
    "%load_ext autoreload\n",
    "%autoreload 2"
   ]
  },
  {
   "cell_type": "code",
   "execution_count": 2,
   "id": "22ef38dc",
   "metadata": {
    "execution": {
     "iopub.execute_input": "2022-09-29T10:13:06.769959Z",
     "iopub.status.busy": "2022-09-29T10:13:06.769198Z",
     "iopub.status.idle": "2022-09-29T10:13:07.479606Z",
     "shell.execute_reply": "2022-09-29T10:13:07.480180Z"
    },
    "papermill": {
     "duration": 0.748773,
     "end_time": "2022-09-29T10:13:07.480357",
     "exception": false,
     "start_time": "2022-09-29T10:13:06.731584",
     "status": "completed"
    },
    "tags": []
   },
   "outputs": [],
   "source": [
    "%matplotlib inline\n",
    "import numpy as np\n",
    "import matplotlib.pyplot as plt\n",
    "import pandas as pd"
   ]
  },
  {
   "cell_type": "markdown",
   "id": "ba036198",
   "metadata": {
    "papermill": {
     "duration": 0.02941,
     "end_time": "2022-09-29T10:13:07.541009",
     "exception": false,
     "start_time": "2022-09-29T10:13:07.511599",
     "status": "completed"
    },
    "tags": []
   },
   "source": [
    "From the command line run `pip install mnist`. This is a library that will help you bring down the mnist dataset. If you run this from a notebook, you need to put  `!pip install mnist` in a cell by itself."
   ]
  },
  {
   "cell_type": "code",
   "execution_count": 3,
   "id": "bb6ad8a1",
   "metadata": {
    "execution": {
     "iopub.execute_input": "2022-09-29T10:13:07.601834Z",
     "iopub.status.busy": "2022-09-29T10:13:07.601111Z",
     "iopub.status.idle": "2022-09-29T10:13:09.544176Z",
     "shell.execute_reply": "2022-09-29T10:13:09.542193Z"
    },
    "papermill": {
     "duration": 1.976278,
     "end_time": "2022-09-29T10:13:09.544352",
     "exception": false,
     "start_time": "2022-09-29T10:13:07.568074",
     "status": "completed"
    },
    "tags": []
   },
   "outputs": [
    {
     "name": "stdout",
     "output_type": "stream",
     "text": [
      "Collecting mnist\r\n",
      "  Downloading mnist-0.2.2-py2.py3-none-any.whl (3.5 kB)\r\n",
      "Requirement already satisfied: numpy in /opt/hostedtoolcache/Python/3.6.15/x64/lib/python3.6/site-packages (from mnist) (1.19.5)\r\n"
     ]
    },
    {
     "name": "stdout",
     "output_type": "stream",
     "text": [
      "Installing collected packages: mnist\r\n"
     ]
    },
    {
     "name": "stdout",
     "output_type": "stream",
     "text": [
      "Successfully installed mnist-0.2.2\r\n"
     ]
    }
   ],
   "source": [
    "!pip install mnist"
   ]
  },
  {
   "cell_type": "markdown",
   "id": "69df9c9a",
   "metadata": {
    "papermill": {
     "duration": 0.032411,
     "end_time": "2022-09-29T10:13:09.614052",
     "exception": false,
     "start_time": "2022-09-29T10:13:09.581641",
     "status": "completed"
    },
    "tags": []
   },
   "source": [
    "## Preparing the Data"
   ]
  },
  {
   "cell_type": "code",
   "execution_count": 4,
   "id": "7f69d806",
   "metadata": {
    "execution": {
     "iopub.execute_input": "2022-09-29T10:13:09.682084Z",
     "iopub.status.busy": "2022-09-29T10:13:09.681383Z",
     "iopub.status.idle": "2022-09-29T10:13:09.699252Z",
     "shell.execute_reply": "2022-09-29T10:13:09.698683Z"
    },
    "papermill": {
     "duration": 0.053729,
     "end_time": "2022-09-29T10:13:09.699379",
     "exception": false,
     "start_time": "2022-09-29T10:13:09.645650",
     "status": "completed"
    },
    "tags": []
   },
   "outputs": [],
   "source": [
    "import mnist"
   ]
  },
  {
   "cell_type": "code",
   "execution_count": 5,
   "id": "a411e44f",
   "metadata": {
    "execution": {
     "iopub.execute_input": "2022-09-29T10:13:09.763357Z",
     "iopub.status.busy": "2022-09-29T10:13:09.762616Z",
     "iopub.status.idle": "2022-09-29T10:13:10.330218Z",
     "shell.execute_reply": "2022-09-29T10:13:10.329576Z"
    },
    "papermill": {
     "duration": 0.601398,
     "end_time": "2022-09-29T10:13:10.330375",
     "exception": false,
     "start_time": "2022-09-29T10:13:09.728977",
     "status": "completed"
    },
    "tags": []
   },
   "outputs": [],
   "source": [
    "train_images = mnist.train_images()\n",
    "train_labels = mnist.train_labels()"
   ]
  },
  {
   "cell_type": "code",
   "execution_count": 6,
   "id": "dceab3a5",
   "metadata": {
    "execution": {
     "iopub.execute_input": "2022-09-29T10:13:10.407035Z",
     "iopub.status.busy": "2022-09-29T10:13:10.406226Z",
     "iopub.status.idle": "2022-09-29T10:13:10.424752Z",
     "shell.execute_reply": "2022-09-29T10:13:10.425431Z"
    },
    "papermill": {
     "duration": 0.058299,
     "end_time": "2022-09-29T10:13:10.425582",
     "exception": false,
     "start_time": "2022-09-29T10:13:10.367283",
     "status": "completed"
    },
    "tags": []
   },
   "outputs": [
    {
     "data": {
      "text/plain": [
       "((60000, 28, 28), (60000,))"
      ]
     },
     "execution_count": 6,
     "metadata": {},
     "output_type": "execute_result"
    }
   ],
   "source": [
    "train_images.shape, train_labels.shape"
   ]
  },
  {
   "cell_type": "code",
   "execution_count": 7,
   "id": "f50dc2bb",
   "metadata": {
    "execution": {
     "iopub.execute_input": "2022-09-29T10:13:10.496368Z",
     "iopub.status.busy": "2022-09-29T10:13:10.495695Z",
     "iopub.status.idle": "2022-09-29T10:13:10.609766Z",
     "shell.execute_reply": "2022-09-29T10:13:10.609019Z"
    },
    "papermill": {
     "duration": 0.152499,
     "end_time": "2022-09-29T10:13:10.609923",
     "exception": false,
     "start_time": "2022-09-29T10:13:10.457424",
     "status": "completed"
    },
    "tags": []
   },
   "outputs": [],
   "source": [
    "test_images = mnist.test_images()\n",
    "test_labels = mnist.test_labels()"
   ]
  },
  {
   "cell_type": "code",
   "execution_count": 8,
   "id": "fc38cf1b",
   "metadata": {
    "execution": {
     "iopub.execute_input": "2022-09-29T10:13:10.673750Z",
     "iopub.status.busy": "2022-09-29T10:13:10.673007Z",
     "iopub.status.idle": "2022-09-29T10:13:10.689163Z",
     "shell.execute_reply": "2022-09-29T10:13:10.689710Z"
    },
    "papermill": {
     "duration": 0.048782,
     "end_time": "2022-09-29T10:13:10.689853",
     "exception": false,
     "start_time": "2022-09-29T10:13:10.641071",
     "status": "completed"
    },
    "tags": []
   },
   "outputs": [
    {
     "data": {
      "text/plain": [
       "((10000, 28, 28), (10000,))"
      ]
     },
     "execution_count": 8,
     "metadata": {},
     "output_type": "execute_result"
    }
   ],
   "source": [
    "test_images.shape, test_labels.shape"
   ]
  },
  {
   "cell_type": "code",
   "execution_count": 9,
   "id": "f9ed8fe0",
   "metadata": {
    "execution": {
     "iopub.execute_input": "2022-09-29T10:13:10.753282Z",
     "iopub.status.busy": "2022-09-29T10:13:10.752620Z",
     "iopub.status.idle": "2022-09-29T10:13:10.931807Z",
     "shell.execute_reply": "2022-09-29T10:13:10.932322Z"
    },
    "papermill": {
     "duration": 0.211982,
     "end_time": "2022-09-29T10:13:10.932500",
     "exception": false,
     "start_time": "2022-09-29T10:13:10.720518",
     "status": "completed"
    },
    "tags": []
   },
   "outputs": [
    {
     "name": "stdout",
     "output_type": "stream",
     "text": [
      "2\n"
     ]
    },
    {
     "data": {
      "text/plain": [
       "<matplotlib.image.AxesImage at 0x7fc780490cc0>"
      ]
     },
     "execution_count": 9,
     "metadata": {},
     "output_type": "execute_result"
    },
    {
     "data": {
      "image/png": "[encoded data removed]",
      "text/plain": [
       "<Figure size 432x288 with 1 Axes>"
      ]
     },
     "metadata": {
      "needs_background": "light"
     },
     "output_type": "display_data"
    }
   ],
   "source": [
    "image_index = 7776 # You may select anything up to 60,000\n",
    "print(train_labels[image_index]) \n",
    "plt.imshow(train_images[image_index], cmap='Greys')"
   ]
  },
  {
   "cell_type": "markdown",
   "id": "a8d2388d",
   "metadata": {
    "papermill": {
     "duration": 0.031782,
     "end_time": "2022-09-29T10:13:10.995544",
     "exception": false,
     "start_time": "2022-09-29T10:13:10.963762",
     "status": "completed"
    },
    "tags": []
   },
   "source": [
    "## Filter data to get 3 and 8 out"
   ]
  },
  {
   "cell_type": "code",
   "execution_count": 10,
   "id": "776f7fc7",
   "metadata": {
    "execution": {
     "iopub.execute_input": "2022-09-29T10:13:11.068456Z",
     "iopub.status.busy": "2022-09-29T10:13:11.067617Z",
     "iopub.status.idle": "2022-09-29T10:13:11.099043Z",
     "shell.execute_reply": "2022-09-29T10:13:11.098209Z"
    },
    "papermill": {
     "duration": 0.071198,
     "end_time": "2022-09-29T10:13:11.099213",
     "exception": false,
     "start_time": "2022-09-29T10:13:11.028015",
     "status": "completed"
    },
    "tags": []
   },
   "outputs": [],
   "source": [
    "train_filter = np.where((train_labels == 3 ) | (train_labels == 8))\n",
    "test_filter = np.where((test_labels == 3) | (test_labels == 8))\n",
    "X_train, y_train = train_images[train_filter], train_labels[train_filter]\n",
    "X_test, y_test = test_images[test_filter], test_labels[test_filter]"
   ]
  },
  {
   "cell_type": "markdown",
   "id": "948f0b7e",
   "metadata": {
    "papermill": {
     "duration": 0.03694,
     "end_time": "2022-09-29T10:13:11.169781",
     "exception": false,
     "start_time": "2022-09-29T10:13:11.132841",
     "status": "completed"
    },
    "tags": []
   },
   "source": [
    "We normalize the pizel values in the 0 to 1 range"
   ]
  },
  {
   "cell_type": "code",
   "execution_count": 11,
   "id": "ee4c2166",
   "metadata": {
    "execution": {
     "iopub.execute_input": "2022-09-29T10:13:11.247334Z",
     "iopub.status.busy": "2022-09-29T10:13:11.244103Z",
     "iopub.status.idle": "2022-09-29T10:13:11.312441Z",
     "shell.execute_reply": "2022-09-29T10:13:11.311783Z"
    },
    "papermill": {
     "duration": 0.108768,
     "end_time": "2022-09-29T10:13:11.312613",
     "exception": false,
     "start_time": "2022-09-29T10:13:11.203845",
     "status": "completed"
    },
    "tags": []
   },
   "outputs": [],
   "source": [
    "X_train = X_train/255.\n",
    "X_test = X_test/255."
   ]
  },
  {
   "cell_type": "markdown",
   "id": "ddcf4fab",
   "metadata": {
    "papermill": {
     "duration": 0.033961,
     "end_time": "2022-09-29T10:13:11.381627",
     "exception": false,
     "start_time": "2022-09-29T10:13:11.347666",
     "status": "completed"
    },
    "tags": []
   },
   "source": [
    "And setup the labels as 1 (when the digit is 3) and 0 (when the digit is 8)"
   ]
  },
  {
   "cell_type": "code",
   "execution_count": 12,
   "id": "7dc908f2",
   "metadata": {
    "execution": {
     "iopub.execute_input": "2022-09-29T10:13:11.456835Z",
     "iopub.status.busy": "2022-09-29T10:13:11.456074Z",
     "iopub.status.idle": "2022-09-29T10:13:11.473428Z",
     "shell.execute_reply": "2022-09-29T10:13:11.474266Z"
    },
    "papermill": {
     "duration": 0.060039,
     "end_time": "2022-09-29T10:13:11.474456",
     "exception": false,
     "start_time": "2022-09-29T10:13:11.414417",
     "status": "completed"
    },
    "tags": []
   },
   "outputs": [],
   "source": [
    "y_train = 1*(y_train==3)\n",
    "y_test = 1*(y_test==3)"
   ]
  },
  {
   "cell_type": "code",
   "execution_count": 13,
   "id": "01e4e969",
   "metadata": {
    "execution": {
     "iopub.execute_input": "2022-09-29T10:13:11.561355Z",
     "iopub.status.busy": "2022-09-29T10:13:11.560580Z",
     "iopub.status.idle": "2022-09-29T10:13:11.583578Z",
     "shell.execute_reply": "2022-09-29T10:13:11.584610Z"
    },
    "papermill": {
     "duration": 0.071696,
     "end_time": "2022-09-29T10:13:11.584812",
     "exception": false,
     "start_time": "2022-09-29T10:13:11.513116",
     "status": "completed"
    },
    "tags": []
   },
   "outputs": [
    {
     "data": {
      "text/plain": [
       "((11982, 28, 28), (1984, 28, 28))"
      ]
     },
     "execution_count": 13,
     "metadata": {},
     "output_type": "execute_result"
    }
   ],
   "source": [
    "X_train.shape, X_test.shape"
   ]
  },
  {
   "cell_type": "markdown",
   "id": "5ccf3f85",
   "metadata": {
    "papermill": {
     "duration": 0.033677,
     "end_time": "2022-09-29T10:13:11.654785",
     "exception": false,
     "start_time": "2022-09-29T10:13:11.621108",
     "status": "completed"
    },
    "tags": []
   },
   "source": [
    "We reshape the data to flatten the image pixels into a set of features or co-variates:"
   ]
  },
  {
   "cell_type": "code",
   "execution_count": 14,
   "id": "5286a4a3",
   "metadata": {
    "execution": {
     "iopub.execute_input": "2022-09-29T10:13:11.727631Z",
     "iopub.status.busy": "2022-09-29T10:13:11.726928Z",
     "iopub.status.idle": "2022-09-29T10:13:11.744808Z",
     "shell.execute_reply": "2022-09-29T10:13:11.744139Z"
    },
    "papermill": {
     "duration": 0.05781,
     "end_time": "2022-09-29T10:13:11.744975",
     "exception": false,
     "start_time": "2022-09-29T10:13:11.687165",
     "status": "completed"
    },
    "tags": []
   },
   "outputs": [
    {
     "data": {
      "text/plain": [
       "((11982, 784), (1984, 784))"
      ]
     },
     "execution_count": 14,
     "metadata": {},
     "output_type": "execute_result"
    }
   ],
   "source": [
    "X_train = X_train.reshape(X_train.shape[0], -1)\n",
    "X_test = X_test.reshape(X_test.shape[0], -1)\n",
    "X_train.shape, X_test.shape"
   ]
  },
  {
   "cell_type": "code",
   "execution_count": 15,
   "id": "73c5f88a",
   "metadata": {
    "execution": {
     "iopub.execute_input": "2022-09-29T10:13:11.815811Z",
     "iopub.status.busy": "2022-09-29T10:13:11.814989Z",
     "iopub.status.idle": "2022-09-29T10:13:11.835961Z",
     "shell.execute_reply": "2022-09-29T10:13:11.836582Z"
    },
    "papermill": {
     "duration": 0.059237,
     "end_time": "2022-09-29T10:13:11.836841",
     "exception": false,
     "start_time": "2022-09-29T10:13:11.777604",
     "status": "completed"
    },
    "tags": []
   },
   "outputs": [],
   "source": [
    "#Impoting functions from 'Kudzu'\n",
    "from kudzu.model import Model\n",
    "from kudzu.train import Learner\n",
    "from kudzu.optim import GD\n",
    "from kudzu.data import Data, Sampler,Dataloader\n",
    "\n",
    "from kudzu.callbacks import AccCallback\n",
    "from kudzu.callbacks import ClfCallback\n",
    "\n",
    "from kudzu.loss import MSE\n",
    "\n",
    "from kudzu.layer import Sigmoid,Relu\n",
    "from kudzu.layer import Affine"
   ]
  },
  {
   "cell_type": "markdown",
   "id": "bc01172a",
   "metadata": {
    "papermill": {
     "duration": 0.033448,
     "end_time": "2022-09-29T10:13:11.901480",
     "exception": false,
     "start_time": "2022-09-29T10:13:11.868032",
     "status": "completed"
    },
    "tags": []
   },
   "source": [
    "### Let us create a `Config` class, to store important parameters. \n",
    "This class essentially plays the role of a dictionary."
   ]
  },
  {
   "cell_type": "code",
   "execution_count": 16,
   "id": "978281aa",
   "metadata": {
    "execution": {
     "iopub.execute_input": "2022-09-29T10:13:11.988219Z",
     "iopub.status.busy": "2022-09-29T10:13:11.987320Z",
     "iopub.status.idle": "2022-09-29T10:13:12.003567Z",
     "shell.execute_reply": "2022-09-29T10:13:12.002845Z"
    },
    "papermill": {
     "duration": 0.0698,
     "end_time": "2022-09-29T10:13:12.003837",
     "exception": false,
     "start_time": "2022-09-29T10:13:11.934037",
     "status": "completed"
    },
    "tags": []
   },
   "outputs": [],
   "source": [
    "class Config:\n",
    "    pass\n",
    "config = Config()\n",
    "config.lr = 0.001\n",
    "config.num_epochs = 250\n",
    "config.bs = 50"
   ]
  },
  {
   "cell_type": "markdown",
   "id": "1385fa59",
   "metadata": {
    "papermill": {
     "duration": 0.03272,
     "end_time": "2022-09-29T10:13:12.072771",
     "exception": false,
     "start_time": "2022-09-29T10:13:12.040051",
     "status": "completed"
    },
    "tags": []
   },
   "source": [
    "### Running Models with the Training data\n",
    "Details about the network layers:\n",
    "- A first affine layer has 784 inputs and does 100 affine transforms. These are followed by a Relu\n",
    "- A second affine layer has 100 inputs from the 100 activations of the past layer, and does 100 affine transforms. These are followed by a Relu\n",
    "- A third affine layer has 100 activations and does 2 affine transformations to create an embedding for visualization. There is no non-linearity here.\n",
    "- A final \"logistic regression\" which has an affine transform from 2 inputs to 1 output, which is squeezed through a sigmoid.\n"
   ]
  },
  {
   "cell_type": "code",
   "execution_count": 17,
   "id": "2b9c66db",
   "metadata": {
    "execution": {
     "iopub.execute_input": "2022-09-29T10:13:12.143056Z",
     "iopub.status.busy": "2022-09-29T10:13:12.142309Z",
     "iopub.status.idle": "2022-09-29T10:13:12.157053Z",
     "shell.execute_reply": "2022-09-29T10:13:12.156508Z"
    },
    "papermill": {
     "duration": 0.052179,
     "end_time": "2022-09-29T10:13:12.157176",
     "exception": false,
     "start_time": "2022-09-29T10:13:12.104997",
     "status": "completed"
    },
    "tags": []
   },
   "outputs": [],
   "source": [
    "data = Data(X_train, y_train.reshape(-1,1))\n",
    "sampler = Sampler(data, config.bs, shuffle=True)\n",
    "\n",
    "dl = Dataloader(data, sampler)\n",
    "\n",
    "opt = GD(config.lr)\n",
    "loss = MSE()"
   ]
  },
  {
   "cell_type": "code",
   "execution_count": 18,
   "id": "b275e4c2",
   "metadata": {
    "execution": {
     "iopub.execute_input": "2022-09-29T10:13:12.226511Z",
     "iopub.status.busy": "2022-09-29T10:13:12.225794Z",
     "iopub.status.idle": "2022-09-29T10:13:12.239256Z",
     "shell.execute_reply": "2022-09-29T10:13:12.239805Z"
    },
    "papermill": {
     "duration": 0.050012,
     "end_time": "2022-09-29T10:13:12.240031",
     "exception": false,
     "start_time": "2022-09-29T10:13:12.190019",
     "status": "completed"
    },
    "tags": []
   },
   "outputs": [],
   "source": [
    "training_data_x = X_train\n",
    "testing_data_x = X_test\n",
    "training_data_y = y_train.reshape(-1,1)\n",
    "testing_data_y = y_test.reshape(-1,1)"
   ]
  },
  {
   "cell_type": "code",
   "execution_count": 19,
   "id": "76951160",
   "metadata": {
    "execution": {
     "iopub.execute_input": "2022-09-29T10:13:12.309097Z",
     "iopub.status.busy": "2022-09-29T10:13:12.308428Z",
     "iopub.status.idle": "2022-09-29T10:13:12.327990Z",
     "shell.execute_reply": "2022-09-29T10:13:12.328736Z"
    },
    "papermill": {
     "duration": 0.058403,
     "end_time": "2022-09-29T10:13:12.328903",
     "exception": false,
     "start_time": "2022-09-29T10:13:12.270500",
     "status": "completed"
    },
    "tags": []
   },
   "outputs": [
    {
     "name": "stdout",
     "output_type": "stream",
     "text": [
      "xavier\n",
      "xavier\n",
      "xavier\n",
      "xavier\n",
      "xavier\n"
     ]
    }
   ],
   "source": [
    "layers = [Affine(\"first\", 784, 100), Relu(\"first\"), Affine(\"second\", 100, 100), Relu(\"second\"), Affine(\"third\", 100, 2), Affine(\"last\", 2, 1), Sigmoid(\"last\")]\n",
    "model_nn = Model(layers)\n",
    "model_lr = Model([Affine(\"logits\", 784, 1), Sigmoid(\"sigmoid\")])"
   ]
  },
  {
   "cell_type": "code",
   "execution_count": 20,
   "id": "6eede77a",
   "metadata": {
    "execution": {
     "iopub.execute_input": "2022-09-29T10:13:12.400104Z",
     "iopub.status.busy": "2022-09-29T10:13:12.399379Z",
     "iopub.status.idle": "2022-09-29T10:13:12.413554Z",
     "shell.execute_reply": "2022-09-29T10:13:12.414235Z"
    },
    "papermill": {
     "duration": 0.052524,
     "end_time": "2022-09-29T10:13:12.414383",
     "exception": false,
     "start_time": "2022-09-29T10:13:12.361859",
     "status": "completed"
    },
    "tags": []
   },
   "outputs": [],
   "source": [
    "nn_learner = Learner(loss, model_nn, opt, config.num_epochs)\n",
    "acc_nn = ClfCallback(nn_learner, config.bs, training_data_x , testing_data_x, training_data_y, testing_data_y)\n",
    "nn_learner.set_callbacks([acc_nn])"
   ]
  },
  {
   "cell_type": "code",
   "execution_count": 21,
   "id": "877b6cc7",
   "metadata": {
    "execution": {
     "iopub.execute_input": "2022-09-29T10:13:12.483789Z",
     "iopub.status.busy": "2022-09-29T10:13:12.483122Z",
     "iopub.status.idle": "2022-09-29T10:13:12.498901Z",
     "shell.execute_reply": "2022-09-29T10:13:12.498323Z"
    },
    "papermill": {
     "duration": 0.049617,
     "end_time": "2022-09-29T10:13:12.499024",
     "exception": false,
     "start_time": "2022-09-29T10:13:12.449407",
     "status": "completed"
    },
    "tags": []
   },
   "outputs": [],
   "source": [
    "lr_learner = Learner(loss, model_lr, opt, config.num_epochs)\n",
    "acc_lr = ClfCallback(lr_learner, config.bs, training_data_x , testing_data_x, training_data_y, testing_data_y)\n",
    "lr_learner.set_callbacks([acc_lr])"
   ]
  },
  {
   "cell_type": "code",
   "execution_count": 22,
   "id": "d9b133c3",
   "metadata": {
    "execution": {
     "iopub.execute_input": "2022-09-29T10:13:12.571503Z",
     "iopub.status.busy": "2022-09-29T10:13:12.570813Z",
     "iopub.status.idle": "2022-09-29T10:15:25.401118Z",
     "shell.execute_reply": "2022-09-29T10:15:25.401851Z"
    },
    "papermill": {
     "duration": 132.867408,
     "end_time": "2022-09-29T10:15:25.402040",
     "exception": false,
     "start_time": "2022-09-29T10:13:12.534632",
     "status": "completed"
    },
    "tags": []
   },
   "outputs": [
    {
     "name": "stdout",
     "output_type": "stream",
     "text": [
      "Epoch 0, Loss 0.2398\n",
      "Training Accuracy: 0.6734, Testing Accuracy: 0.6825\n",
      "\n"
     ]
    },
    {
     "name": "stdout",
     "output_type": "stream",
     "text": [
      "Epoch 10, Loss 0.0835\n",
      "Training Accuracy: 0.9170, Testing Accuracy: 0.9244\n",
      "\n"
     ]
    },
    {
     "name": "stdout",
     "output_type": "stream",
     "text": [
      "Epoch 20, Loss 0.0544\n",
      "Training Accuracy: 0.9430, Testing Accuracy: 0.9496\n",
      "\n"
     ]
    },
    {
     "name": "stdout",
     "output_type": "stream",
     "text": [
      "Epoch 30, Loss 0.0435\n",
      "Training Accuracy: 0.9514, Testing Accuracy: 0.9587\n",
      "\n"
     ]
    },
    {
     "name": "stdout",
     "output_type": "stream",
     "text": [
      "Epoch 40, Loss 0.0379\n",
      "Training Accuracy: 0.9566, Testing Accuracy: 0.9637\n",
      "\n"
     ]
    },
    {
     "name": "stdout",
     "output_type": "stream",
     "text": [
      "Epoch 50, Loss 0.0344\n",
      "Training Accuracy: 0.9604, Testing Accuracy: 0.9667\n",
      "\n"
     ]
    },
    {
     "name": "stdout",
     "output_type": "stream",
     "text": [
      "Epoch 60, Loss 0.032\n",
      "Training Accuracy: 0.9632, Testing Accuracy: 0.9682\n",
      "\n"
     ]
    },
    {
     "name": "stdout",
     "output_type": "stream",
     "text": [
      "Epoch 70, Loss 0.0302\n",
      "Training Accuracy: 0.9646, Testing Accuracy: 0.9667\n",
      "\n"
     ]
    },
    {
     "name": "stdout",
     "output_type": "stream",
     "text": [
      "Epoch 80, Loss 0.0288\n",
      "Training Accuracy: 0.9672, Testing Accuracy: 0.9662\n",
      "\n"
     ]
    },
    {
     "name": "stdout",
     "output_type": "stream",
     "text": [
      "Epoch 90, Loss 0.0276\n",
      "Training Accuracy: 0.9679, Testing Accuracy: 0.9672\n",
      "\n"
     ]
    },
    {
     "name": "stdout",
     "output_type": "stream",
     "text": [
      "Epoch 100, Loss 0.0266\n",
      "Training Accuracy: 0.9691, Testing Accuracy: 0.9677\n",
      "\n"
     ]
    },
    {
     "name": "stdout",
     "output_type": "stream",
     "text": [
      "Epoch 110, Loss 0.0258\n",
      "Training Accuracy: 0.9705, Testing Accuracy: 0.9677\n",
      "\n"
     ]
    },
    {
     "name": "stdout",
     "output_type": "stream",
     "text": [
      "Epoch 120, Loss 0.025\n",
      "Training Accuracy: 0.9713, Testing Accuracy: 0.9682\n",
      "\n"
     ]
    },
    {
     "name": "stdout",
     "output_type": "stream",
     "text": [
      "Epoch 130, Loss 0.0243\n",
      "Training Accuracy: 0.9720, Testing Accuracy: 0.9688\n",
      "\n"
     ]
    },
    {
     "name": "stdout",
     "output_type": "stream",
     "text": [
      "Epoch 140, Loss 0.0236\n",
      "Training Accuracy: 0.9728, Testing Accuracy: 0.9688\n",
      "\n"
     ]
    },
    {
     "name": "stdout",
     "output_type": "stream",
     "text": [
      "Epoch 150, Loss 0.023\n",
      "Training Accuracy: 0.9734, Testing Accuracy: 0.9688\n",
      "\n"
     ]
    },
    {
     "name": "stdout",
     "output_type": "stream",
     "text": [
      "Epoch 160, Loss 0.0225\n",
      "Training Accuracy: 0.9741, Testing Accuracy: 0.9688\n",
      "\n"
     ]
    },
    {
     "name": "stdout",
     "output_type": "stream",
     "text": [
      "Epoch 170, Loss 0.0219\n",
      "Training Accuracy: 0.9750, Testing Accuracy: 0.9688\n",
      "\n"
     ]
    },
    {
     "name": "stdout",
     "output_type": "stream",
     "text": [
      "Epoch 180, Loss 0.0214\n",
      "Training Accuracy: 0.9755, Testing Accuracy: 0.9688\n",
      "\n"
     ]
    },
    {
     "name": "stdout",
     "output_type": "stream",
     "text": [
      "Epoch 190, Loss 0.0209\n",
      "Training Accuracy: 0.9761, Testing Accuracy: 0.9688\n",
      "\n"
     ]
    },
    {
     "name": "stdout",
     "output_type": "stream",
     "text": [
      "Epoch 200, Loss 0.0204\n",
      "Training Accuracy: 0.9770, Testing Accuracy: 0.9703\n",
      "\n"
     ]
    },
    {
     "name": "stdout",
     "output_type": "stream",
     "text": [
      "Epoch 210, Loss 0.02\n",
      "Training Accuracy: 0.9775, Testing Accuracy: 0.9703\n",
      "\n"
     ]
    },
    {
     "name": "stdout",
     "output_type": "stream",
     "text": [
      "Epoch 220, Loss 0.0195\n",
      "Training Accuracy: 0.9779, Testing Accuracy: 0.9708\n",
      "\n"
     ]
    },
    {
     "name": "stdout",
     "output_type": "stream",
     "text": [
      "Epoch 230, Loss 0.0191\n",
      "Training Accuracy: 0.9785, Testing Accuracy: 0.9708\n",
      "\n"
     ]
    },
    {
     "name": "stdout",
     "output_type": "stream",
     "text": [
      "Epoch 240, Loss 0.0187\n",
      "Training Accuracy: 0.9788, Testing Accuracy: 0.9708\n",
      "\n"
     ]
    },
    {
     "data": {
      "text/plain": [
       "0.003979183556147126"
      ]
     },
     "execution_count": 22,
     "metadata": {},
     "output_type": "execute_result"
    }
   ],
   "source": [
    "nn_learner.train_loop(dl)"
   ]
  },
  {
   "cell_type": "code",
   "execution_count": 23,
   "id": "e0163366",
   "metadata": {
    "execution": {
     "iopub.execute_input": "2022-09-29T10:15:25.504824Z",
     "iopub.status.busy": "2022-09-29T10:15:25.504069Z",
     "iopub.status.idle": "2022-09-29T10:15:46.068922Z",
     "shell.execute_reply": "2022-09-29T10:15:46.067908Z"
    },
    "papermill": {
     "duration": 20.619779,
     "end_time": "2022-09-29T10:15:46.069078",
     "exception": false,
     "start_time": "2022-09-29T10:15:25.449299",
     "status": "completed"
    },
    "tags": []
   },
   "outputs": [
    {
     "name": "stdout",
     "output_type": "stream",
     "text": [
      "Epoch 0, Loss 0.2404\n",
      "Training Accuracy: 0.7248, Testing Accuracy: 0.7490\n",
      "\n"
     ]
    },
    {
     "name": "stdout",
     "output_type": "stream",
     "text": [
      "Epoch 10, Loss 0.098\n",
      "Training Accuracy: 0.9251, Testing Accuracy: 0.9365\n",
      "\n"
     ]
    },
    {
     "name": "stdout",
     "output_type": "stream",
     "text": [
      "Epoch 20, Loss 0.0758\n",
      "Training Accuracy: 0.9357, Testing Accuracy: 0.9435\n",
      "\n"
     ]
    },
    {
     "name": "stdout",
     "output_type": "stream",
     "text": [
      "Epoch 30, Loss 0.0657\n",
      "Training Accuracy: 0.9420, Testing Accuracy: 0.9501\n",
      "\n"
     ]
    },
    {
     "name": "stdout",
     "output_type": "stream",
     "text": [
      "Epoch 40, Loss 0.0596\n",
      "Training Accuracy: 0.9458, Testing Accuracy: 0.9541\n",
      "\n"
     ]
    },
    {
     "name": "stdout",
     "output_type": "stream",
     "text": [
      "Epoch 50, Loss 0.0555\n",
      "Training Accuracy: 0.9482, Testing Accuracy: 0.9592\n",
      "\n"
     ]
    },
    {
     "name": "stdout",
     "output_type": "stream",
     "text": [
      "Epoch 60, Loss 0.0524\n",
      "Training Accuracy: 0.9503, Testing Accuracy: 0.9607\n",
      "\n"
     ]
    },
    {
     "name": "stdout",
     "output_type": "stream",
     "text": [
      "Epoch 70, Loss 0.05\n",
      "Training Accuracy: 0.9522, Testing Accuracy: 0.9617\n",
      "\n"
     ]
    },
    {
     "name": "stdout",
     "output_type": "stream",
     "text": [
      "Epoch 80, Loss 0.0481\n",
      "Training Accuracy: 0.9534, Testing Accuracy: 0.9602\n",
      "\n"
     ]
    },
    {
     "name": "stdout",
     "output_type": "stream",
     "text": [
      "Epoch 90, Loss 0.0465\n",
      "Training Accuracy: 0.9540, Testing Accuracy: 0.9617\n",
      "\n"
     ]
    },
    {
     "name": "stdout",
     "output_type": "stream",
     "text": [
      "Epoch 100, Loss 0.0452\n",
      "Training Accuracy: 0.9548, Testing Accuracy: 0.9622\n",
      "\n"
     ]
    },
    {
     "name": "stdout",
     "output_type": "stream",
     "text": [
      "Epoch 110, Loss 0.0441\n",
      "Training Accuracy: 0.9553, Testing Accuracy: 0.9627\n",
      "\n"
     ]
    },
    {
     "name": "stdout",
     "output_type": "stream",
     "text": [
      "Epoch 120, Loss 0.0431\n",
      "Training Accuracy: 0.9560, Testing Accuracy: 0.9637\n",
      "\n"
     ]
    },
    {
     "name": "stdout",
     "output_type": "stream",
     "text": [
      "Epoch 130, Loss 0.0422\n",
      "Training Accuracy: 0.9571, Testing Accuracy: 0.9642\n",
      "\n"
     ]
    },
    {
     "name": "stdout",
     "output_type": "stream",
     "text": [
      "Epoch 140, Loss 0.0414\n",
      "Training Accuracy: 0.9579, Testing Accuracy: 0.9652\n",
      "\n"
     ]
    },
    {
     "name": "stdout",
     "output_type": "stream",
     "text": [
      "Epoch 150, Loss 0.0407\n",
      "Training Accuracy: 0.9581, Testing Accuracy: 0.9652\n",
      "\n"
     ]
    },
    {
     "name": "stdout",
     "output_type": "stream",
     "text": [
      "Epoch 160, Loss 0.04\n",
      "Training Accuracy: 0.9583, Testing Accuracy: 0.9657\n",
      "\n"
     ]
    },
    {
     "name": "stdout",
     "output_type": "stream",
     "text": [
      "Epoch 170, Loss 0.0395\n",
      "Training Accuracy: 0.9588, Testing Accuracy: 0.9652\n",
      "\n"
     ]
    },
    {
     "name": "stdout",
     "output_type": "stream",
     "text": [
      "Epoch 180, Loss 0.0389\n",
      "Training Accuracy: 0.9593, Testing Accuracy: 0.9652\n",
      "\n"
     ]
    },
    {
     "name": "stdout",
     "output_type": "stream",
     "text": [
      "Epoch 190, Loss 0.0384\n",
      "Training Accuracy: 0.9594, Testing Accuracy: 0.9657\n",
      "\n"
     ]
    },
    {
     "name": "stdout",
     "output_type": "stream",
     "text": [
      "Epoch 200, Loss 0.038\n",
      "Training Accuracy: 0.9600, Testing Accuracy: 0.9652\n",
      "\n"
     ]
    },
    {
     "name": "stdout",
     "output_type": "stream",
     "text": [
      "Epoch 210, Loss 0.0376\n",
      "Training Accuracy: 0.9604, Testing Accuracy: 0.9657\n",
      "\n"
     ]
    },
    {
     "name": "stdout",
     "output_type": "stream",
     "text": [
      "Epoch 220, Loss 0.0372\n",
      "Training Accuracy: 0.9607, Testing Accuracy: 0.9657\n",
      "\n"
     ]
    },
    {
     "name": "stdout",
     "output_type": "stream",
     "text": [
      "Epoch 230, Loss 0.0368\n",
      "Training Accuracy: 0.9610, Testing Accuracy: 0.9657\n",
      "\n"
     ]
    },
    {
     "name": "stdout",
     "output_type": "stream",
     "text": [
      "Epoch 240, Loss 0.0364\n",
      "Training Accuracy: 0.9614, Testing Accuracy: 0.9657\n",
      "\n"
     ]
    },
    {
     "data": {
      "text/plain": [
       "0.02129336451510375"
      ]
     },
     "execution_count": 23,
     "metadata": {},
     "output_type": "execute_result"
    }
   ],
   "source": [
    "lr_learner.train_loop(dl)"
   ]
  },
  {
   "cell_type": "code",
   "execution_count": 24,
   "id": "ca410940",
   "metadata": {
    "execution": {
     "iopub.execute_input": "2022-09-29T10:15:46.176969Z",
     "iopub.status.busy": "2022-09-29T10:15:46.176268Z",
     "iopub.status.idle": "2022-09-29T10:15:46.474449Z",
     "shell.execute_reply": "2022-09-29T10:15:46.475235Z"
    },
    "papermill": {
     "duration": 0.353266,
     "end_time": "2022-09-29T10:15:46.475432",
     "exception": false,
     "start_time": "2022-09-29T10:15:46.122166",
     "status": "completed"
    },
    "tags": []
   },
   "outputs": [
    {
     "data": {
      "text/plain": [
       "<matplotlib.legend.Legend at 0x7fc77fffd470>"
      ]
     },
     "execution_count": 24,
     "metadata": {},
     "output_type": "execute_result"
    },
    {
     "data": {
      "image/png": "[encoded data removed]",
      "text/plain": [
       "<Figure size 1080x720 with 1 Axes>"
      ]
     },
     "metadata": {
      "needs_background": "light"
     },
     "output_type": "display_data"
    }
   ],
   "source": [
    "#comparing the results of NN and LR\n",
    "plt.figure(figsize=(15,10))\n",
    "\n",
    "# Neural Network plots\n",
    "plt.plot(acc_nn.accuracies, 'r-', label = \"Training Accuracies - NN\")\n",
    "plt.plot(acc_nn.test_accuracies, 'g-', label = \"Testing Accuracies - NN\")\n",
    "\n",
    "# Logistic Regression plots\n",
    "plt.plot(acc_lr.accuracies, 'k-', label = \"Training Accuracies - LR\")\n",
    "plt.plot(acc_lr.test_accuracies, 'b-', label = \"Testing Accuracies - LR\")\n",
    "plt.legend()"
   ]
  },
  {
   "cell_type": "markdown",
   "id": "80dfb35c",
   "metadata": {
    "papermill": {
     "duration": 0.049537,
     "end_time": "2022-09-29T10:15:46.584750",
     "exception": false,
     "start_time": "2022-09-29T10:15:46.535213",
     "status": "completed"
    },
    "tags": []
   },
   "source": [
    "#### Plotting the outputs of this layer of the NN.\n"
   ]
  },
  {
   "cell_type": "code",
   "execution_count": 25,
   "id": "45eb2ff5",
   "metadata": {
    "execution": {
     "iopub.execute_input": "2022-09-29T10:15:46.686846Z",
     "iopub.status.busy": "2022-09-29T10:15:46.686105Z",
     "iopub.status.idle": "2022-09-29T10:15:46.714644Z",
     "shell.execute_reply": "2022-09-29T10:15:46.715272Z"
    },
    "papermill": {
     "duration": 0.081934,
     "end_time": "2022-09-29T10:15:46.715497",
     "exception": false,
     "start_time": "2022-09-29T10:15:46.633563",
     "status": "completed"
    },
    "tags": []
   },
   "outputs": [],
   "source": [
    "new_model = Model(layers[:-2])\n",
    "testing_plot = new_model(testing_data_x)"
   ]
  },
  {
   "cell_type": "code",
   "execution_count": 26,
   "id": "4c0a5485",
   "metadata": {
    "execution": {
     "iopub.execute_input": "2022-09-29T10:15:46.837243Z",
     "iopub.status.busy": "2022-09-29T10:15:46.836509Z",
     "iopub.status.idle": "2022-09-29T10:15:47.104982Z",
     "shell.execute_reply": "2022-09-29T10:15:47.104394Z"
    },
    "papermill": {
     "duration": 0.332285,
     "end_time": "2022-09-29T10:15:47.105131",
     "exception": false,
     "start_time": "2022-09-29T10:15:46.772846",
     "status": "completed"
    },
    "tags": []
   },
   "outputs": [
    {
     "data": {
      "text/plain": [
       "Text(0.5, 1.0, 'Outputs')"
      ]
     },
     "execution_count": 26,
     "metadata": {},
     "output_type": "execute_result"
    },
    {
     "data": {
      "image/png": "[encoded data removed]",
      "text/plain": [
       "<Figure size 576x504 with 1 Axes>"
      ]
     },
     "metadata": {
      "needs_background": "light"
     },
     "output_type": "display_data"
    }
   ],
   "source": [
    "# Plotting the scatter plot of points and color coding by class\n",
    "plt.figure(figsize=(8,7))\n",
    "plt.scatter(testing_plot[:,0], testing_plot[:,1], alpha = 0.1, c = y_test.ravel());\n",
    "plt.title('Outputs')"
   ]
  },
  {
   "cell_type": "markdown",
   "id": "a74fcf8f",
   "metadata": {
    "papermill": {
     "duration": 0.054084,
     "end_time": "2022-09-29T10:15:47.211036",
     "exception": false,
     "start_time": "2022-09-29T10:15:47.156952",
     "status": "completed"
    },
    "tags": []
   },
   "source": [
    "Probability contours"
   ]
  },
  {
   "cell_type": "code",
   "execution_count": 27,
   "id": "d0afc8e3",
   "metadata": {
    "execution": {
     "iopub.execute_input": "2022-09-29T10:15:47.328518Z",
     "iopub.status.busy": "2022-09-29T10:15:47.327716Z",
     "iopub.status.idle": "2022-09-29T10:15:47.343495Z",
     "shell.execute_reply": "2022-09-29T10:15:47.344146Z"
    },
    "papermill": {
     "duration": 0.076783,
     "end_time": "2022-09-29T10:15:47.344444",
     "exception": false,
     "start_time": "2022-09-29T10:15:47.267661",
     "status": "completed"
    },
    "tags": []
   },
   "outputs": [],
   "source": [
    "model_prob = Model(layers[-2:]) "
   ]
  },
  {
   "cell_type": "code",
   "execution_count": 28,
   "id": "9b96e238",
   "metadata": {
    "execution": {
     "iopub.execute_input": "2022-09-29T10:15:47.518290Z",
     "iopub.status.busy": "2022-09-29T10:15:47.517413Z",
     "iopub.status.idle": "2022-09-29T10:15:47.540617Z",
     "shell.execute_reply": "2022-09-29T10:15:47.541262Z"
    },
    "papermill": {
     "duration": 0.086764,
     "end_time": "2022-09-29T10:15:47.541454",
     "exception": false,
     "start_time": "2022-09-29T10:15:47.454690",
     "status": "completed"
    },
    "tags": []
   },
   "outputs": [],
   "source": [
    "#creating the x and y ranges according to the above generated plot.\n",
    "x_range = np.linspace(-4, 1, 100) \n",
    "y_range = np.linspace(-6, 6, 100) \n",
    "x_grid, y_grid = np.meshgrid(x_range, y_range) # x_grid and y_grig are of size 100 X 100\n",
    "\n",
    "# converting x_grid and y_grid to continuous arrays\n",
    "x_gridflat = np.ravel(x_grid)\n",
    "y_gridflat = np.ravel(y_grid)\n",
    "\n",
    "# The last layer of the current model takes two columns as input. Hence transpose of np.vstack() is required.\n",
    "X = np.vstack((x_gridflat, y_gridflat)).T\n",
    "\n",
    "prob_contour = model_prob(X).reshape(100,100) "
   ]
  },
  {
   "cell_type": "code",
   "execution_count": 29,
   "id": "da72499a",
   "metadata": {
    "execution": {
     "iopub.execute_input": "2022-09-29T10:15:47.657157Z",
     "iopub.status.busy": "2022-09-29T10:15:47.656451Z",
     "iopub.status.idle": "2022-09-29T10:15:47.981526Z",
     "shell.execute_reply": "2022-09-29T10:15:47.982144Z"
    },
    "papermill": {
     "duration": 0.38483,
     "end_time": "2022-09-29T10:15:47.982326",
     "exception": false,
     "start_time": "2022-09-29T10:15:47.597496",
     "status": "completed"
    },
    "tags": []
   },
   "outputs": [
    {
     "data": {
      "image/png": "[encoded data removed]",
      "text/plain": [
       "<Figure size 720x648 with 1 Axes>"
      ]
     },
     "metadata": {
      "needs_background": "light"
     },
     "output_type": "display_data"
    }
   ],
   "source": [
    "plt.figure(figsize=(10,9))\n",
    "plt.scatter(testing_plot[:,0], testing_plot[:,1], alpha = 0.1, c = y_test.ravel())\n",
    "contours = plt.contour(x_grid,y_grid,prob_contour)\n",
    "plt.title('Probability Contours')\n",
    "plt.clabel(contours, inline = True );"
   ]
  },
  {
   "cell_type": "code",
   "execution_count": null,
   "id": "e81b4ac7",
   "metadata": {
    "papermill": {
     "duration": 0.059476,
     "end_time": "2022-09-29T10:15:48.106308",
     "exception": false,
     "start_time": "2022-09-29T10:15:48.046832",
     "status": "completed"
    },
    "tags": []
   },
   "outputs": [],
   "source": []
  }
 ],
 "metadata": {
  "kernelspec": {
   "display_name": "Python 3",
   "language": "python",
   "name": "python3"
  },
  "language_info": {
   "codemirror_mode": {
    "name": "ipython",
    "version": 3
   },
   "file_extension": ".py",
   "mimetype": "text/x-python",
   "name": "python",
   "nbconvert_exporter": "python",
   "pygments_lexer": "ipython3",
   "version": "3.6.15"
  },
  "papermill": {
   "default_parameters": {},
   "duration": 163.550314,
   "end_time": "2022-09-29T10:15:48.686136",
   "environment_variables": {},
   "exception": null,
   "input_path": "2020-08-11-part2.ipynb",
   "output_path": "2020-08-11-part2.ipynb",
   "parameters": {},
   "start_time": "2022-09-29T10:13:05.135822",
   "version": "2.3.3"
  }
 },
 "nbformat": 4,
 "nbformat_minor": 5
}