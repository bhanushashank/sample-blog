{
 "cells": [
  {
   "cell_type": "markdown",
   "id": "98380cd3",
   "metadata": {
    "papermill": {
     "duration": 0.034942,
     "end_time": "2022-05-09T10:11:09.194402",
     "exception": false,
     "start_time": "2022-05-09T10:11:09.159460",
     "status": "completed"
    },
    "tags": []
   },
   "source": [
    "# Distinguish Your Own Digits (DYOD)"
   ]
  },
  {
   "cell_type": "markdown",
   "id": "ef31240d",
   "metadata": {
    "papermill": {
     "duration": 0.03083,
     "end_time": "2022-05-09T10:11:09.254843",
     "exception": false,
     "start_time": "2022-05-09T10:11:09.224013",
     "status": "completed"
    },
    "tags": []
   },
   "source": [
    "You are going to write a classifier that distinguishes between the number 3 and number 8."
   ]
  },
  {
   "cell_type": "code",
   "execution_count": 1,
   "id": "b15c8646",
   "metadata": {
    "execution": {
     "iopub.execute_input": "2022-05-09T10:11:09.323491Z",
     "iopub.status.busy": "2022-05-09T10:11:09.322826Z",
     "iopub.status.idle": "2022-05-09T10:11:09.335789Z",
     "shell.execute_reply": "2022-05-09T10:11:09.335272Z"
    },
    "papermill": {
     "duration": 0.05171,
     "end_time": "2022-05-09T10:11:09.335939",
     "exception": false,
     "start_time": "2022-05-09T10:11:09.284229",
     "status": "completed"
    },
    "tags": []
   },
   "outputs": [],
   "source": [
    "%load_ext autoreload\n",
    "%autoreload 2"
   ]
  },
  {
   "cell_type": "code",
   "execution_count": 2,
   "id": "22ef38dc",
   "metadata": {
    "execution": {
     "iopub.execute_input": "2022-05-09T10:11:09.401089Z",
     "iopub.status.busy": "2022-05-09T10:11:09.400467Z",
     "iopub.status.idle": "2022-05-09T10:11:10.094935Z",
     "shell.execute_reply": "2022-05-09T10:11:10.094325Z"
    },
    "papermill": {
     "duration": 0.730992,
     "end_time": "2022-05-09T10:11:10.095084",
     "exception": false,
     "start_time": "2022-05-09T10:11:09.364092",
     "status": "completed"
    },
    "tags": []
   },
   "outputs": [],
   "source": [
    "%matplotlib inline\n",
    "import numpy as np\n",
    "import matplotlib.pyplot as plt\n",
    "import pandas as pd"
   ]
  },
  {
   "cell_type": "markdown",
   "id": "ba036198",
   "metadata": {
    "papermill": {
     "duration": 0.028735,
     "end_time": "2022-05-09T10:11:10.155658",
     "exception": false,
     "start_time": "2022-05-09T10:11:10.126923",
     "status": "completed"
    },
    "tags": []
   },
   "source": [
    "From the command line run `pip install mnist`. This is a library that will help you bring down the mnist dataset. If you run this from a notebook, you need to put  `!pip install mnist` in a cell by itself."
   ]
  },
  {
   "cell_type": "code",
   "execution_count": 3,
   "id": "bb6ad8a1",
   "metadata": {
    "execution": {
     "iopub.execute_input": "2022-05-09T10:11:10.219275Z",
     "iopub.status.busy": "2022-05-09T10:11:10.218656Z",
     "iopub.status.idle": "2022-05-09T10:11:12.287998Z",
     "shell.execute_reply": "2022-05-09T10:11:12.287454Z"
    },
    "papermill": {
     "duration": 2.104027,
     "end_time": "2022-05-09T10:11:12.288140",
     "exception": false,
     "start_time": "2022-05-09T10:11:10.184113",
     "status": "completed"
    },
    "tags": []
   },
   "outputs": [
    {
     "name": "stdout",
     "output_type": "stream",
     "text": [
      "Collecting mnist\r\n"
     ]
    },
    {
     "name": "stdout",
     "output_type": "stream",
     "text": [
      "  Downloading mnist-0.2.2-py2.py3-none-any.whl (3.5 kB)\r\n"
     ]
    },
    {
     "name": "stdout",
     "output_type": "stream",
     "text": [
      "Requirement already satisfied: numpy in /opt/hostedtoolcache/Python/3.6.15/x64/lib/python3.6/site-packages (from mnist) (1.19.5)\r\n"
     ]
    },
    {
     "name": "stdout",
     "output_type": "stream",
     "text": [
      "Installing collected packages: mnist\r\n"
     ]
    },
    {
     "name": "stdout",
     "output_type": "stream",
     "text": [
      "Successfully installed mnist-0.2.2\r\n"
     ]
    }
   ],
   "source": [
    "!pip install mnist"
   ]
  },
  {
   "cell_type": "markdown",
   "id": "69df9c9a",
   "metadata": {
    "papermill": {
     "duration": 0.029416,
     "end_time": "2022-05-09T10:11:12.349092",
     "exception": false,
     "start_time": "2022-05-09T10:11:12.319676",
     "status": "completed"
    },
    "tags": []
   },
   "source": [
    "## Preparing the Data"
   ]
  },
  {
   "cell_type": "code",
   "execution_count": 4,
   "id": "7f69d806",
   "metadata": {
    "execution": {
     "iopub.execute_input": "2022-05-09T10:11:12.417150Z",
     "iopub.status.busy": "2022-05-09T10:11:12.413549Z",
     "iopub.status.idle": "2022-05-09T10:11:12.434277Z",
     "shell.execute_reply": "2022-05-09T10:11:12.434840Z"
    },
    "papermill": {
     "duration": 0.055033,
     "end_time": "2022-05-09T10:11:12.435007",
     "exception": false,
     "start_time": "2022-05-09T10:11:12.379974",
     "status": "completed"
    },
    "tags": []
   },
   "outputs": [],
   "source": [
    "import mnist"
   ]
  },
  {
   "cell_type": "code",
   "execution_count": 5,
   "id": "a411e44f",
   "metadata": {
    "execution": {
     "iopub.execute_input": "2022-05-09T10:11:12.500362Z",
     "iopub.status.busy": "2022-05-09T10:11:12.499721Z",
     "iopub.status.idle": "2022-05-09T10:11:13.338859Z",
     "shell.execute_reply": "2022-05-09T10:11:13.338254Z"
    },
    "papermill": {
     "duration": 0.874324,
     "end_time": "2022-05-09T10:11:13.339012",
     "exception": false,
     "start_time": "2022-05-09T10:11:12.464688",
     "status": "completed"
    },
    "tags": []
   },
   "outputs": [],
   "source": [
    "train_images = mnist.train_images()\n",
    "train_labels = mnist.train_labels()"
   ]
  },
  {
   "cell_type": "code",
   "execution_count": 6,
   "id": "dceab3a5",
   "metadata": {
    "execution": {
     "iopub.execute_input": "2022-05-09T10:11:13.402422Z",
     "iopub.status.busy": "2022-05-09T10:11:13.401752Z",
     "iopub.status.idle": "2022-05-09T10:11:13.419714Z",
     "shell.execute_reply": "2022-05-09T10:11:13.420208Z"
    },
    "papermill": {
     "duration": 0.05183,
     "end_time": "2022-05-09T10:11:13.420361",
     "exception": false,
     "start_time": "2022-05-09T10:11:13.368531",
     "status": "completed"
    },
    "tags": []
   },
   "outputs": [
    {
     "data": {
      "text/plain": [
       "((60000, 28, 28), (60000,))"
      ]
     },
     "execution_count": 6,
     "metadata": {},
     "output_type": "execute_result"
    }
   ],
   "source": [
    "train_images.shape, train_labels.shape"
   ]
  },
  {
   "cell_type": "code",
   "execution_count": 7,
   "id": "f50dc2bb",
   "metadata": {
    "execution": {
     "iopub.execute_input": "2022-05-09T10:11:13.484940Z",
     "iopub.status.busy": "2022-05-09T10:11:13.484322Z",
     "iopub.status.idle": "2022-05-09T10:11:13.841199Z",
     "shell.execute_reply": "2022-05-09T10:11:13.841906Z"
    },
    "papermill": {
     "duration": 0.391847,
     "end_time": "2022-05-09T10:11:13.842093",
     "exception": false,
     "start_time": "2022-05-09T10:11:13.450246",
     "status": "completed"
    },
    "tags": []
   },
   "outputs": [],
   "source": [
    "test_images = mnist.test_images()\n",
    "test_labels = mnist.test_labels()"
   ]
  },
  {
   "cell_type": "code",
   "execution_count": 8,
   "id": "fc38cf1b",
   "metadata": {
    "execution": {
     "iopub.execute_input": "2022-05-09T10:11:13.909934Z",
     "iopub.status.busy": "2022-05-09T10:11:13.909317Z",
     "iopub.status.idle": "2022-05-09T10:11:13.929503Z",
     "shell.execute_reply": "2022-05-09T10:11:13.930092Z"
    },
    "papermill": {
     "duration": 0.056871,
     "end_time": "2022-05-09T10:11:13.930253",
     "exception": false,
     "start_time": "2022-05-09T10:11:13.873382",
     "status": "completed"
    },
    "tags": []
   },
   "outputs": [
    {
     "data": {
      "text/plain": [
       "((10000, 28, 28), (10000,))"
      ]
     },
     "execution_count": 8,
     "metadata": {},
     "output_type": "execute_result"
    }
   ],
   "source": [
    "test_images.shape, test_labels.shape"
   ]
  },
  {
   "cell_type": "code",
   "execution_count": 9,
   "id": "f9ed8fe0",
   "metadata": {
    "execution": {
     "iopub.execute_input": "2022-05-09T10:11:13.999752Z",
     "iopub.status.busy": "2022-05-09T10:11:13.999135Z",
     "iopub.status.idle": "2022-05-09T10:11:14.186954Z",
     "shell.execute_reply": "2022-05-09T10:11:14.186337Z"
    },
    "papermill": {
     "duration": 0.222421,
     "end_time": "2022-05-09T10:11:14.187161",
     "exception": false,
     "start_time": "2022-05-09T10:11:13.964740",
     "status": "completed"
    },
    "tags": []
   },
   "outputs": [
    {
     "name": "stdout",
     "output_type": "stream",
     "text": [
      "2\n"
     ]
    },
    {
     "data": {
      "text/plain": [
       "<matplotlib.image.AxesImage at 0x7f53c3d9acc0>"
      ]
     },
     "execution_count": 9,
     "metadata": {},
     "output_type": "execute_result"
    },
    {
     "data": {
      "image/png": "[encoded data removed]",
      "text/plain": [
       "<Figure size 432x288 with 1 Axes>"
      ]
     },
     "metadata": {
      "needs_background": "light"
     },
     "output_type": "display_data"
    }
   ],
   "source": [
    "image_index = 7776 # You may select anything up to 60,000\n",
    "print(train_labels[image_index]) \n",
    "plt.imshow(train_images[image_index], cmap='Greys')"
   ]
  },
  {
   "cell_type": "markdown",
   "id": "a8d2388d",
   "metadata": {
    "papermill": {
     "duration": 0.03378,
     "end_time": "2022-05-09T10:11:14.258692",
     "exception": false,
     "start_time": "2022-05-09T10:11:14.224912",
     "status": "completed"
    },
    "tags": []
   },
   "source": [
    "## Filter data to get 3 and 8 out"
   ]
  },
  {
   "cell_type": "code",
   "execution_count": 10,
   "id": "776f7fc7",
   "metadata": {
    "execution": {
     "iopub.execute_input": "2022-05-09T10:11:14.336405Z",
     "iopub.status.busy": "2022-05-09T10:11:14.335671Z",
     "iopub.status.idle": "2022-05-09T10:11:14.355922Z",
     "shell.execute_reply": "2022-05-09T10:11:14.355396Z"
    },
    "papermill": {
     "duration": 0.058739,
     "end_time": "2022-05-09T10:11:14.356062",
     "exception": false,
     "start_time": "2022-05-09T10:11:14.297323",
     "status": "completed"
    },
    "tags": []
   },
   "outputs": [],
   "source": [
    "train_filter = np.where((train_labels == 3 ) | (train_labels == 8))\n",
    "test_filter = np.where((test_labels == 3) | (test_labels == 8))\n",
    "X_train, y_train = train_images[train_filter], train_labels[train_filter]\n",
    "X_test, y_test = test_images[test_filter], test_labels[test_filter]"
   ]
  },
  {
   "cell_type": "markdown",
   "id": "948f0b7e",
   "metadata": {
    "papermill": {
     "duration": 0.033888,
     "end_time": "2022-05-09T10:11:14.425228",
     "exception": false,
     "start_time": "2022-05-09T10:11:14.391340",
     "status": "completed"
    },
    "tags": []
   },
   "source": [
    "We normalize the pizel values in the 0 to 1 range"
   ]
  },
  {
   "cell_type": "code",
   "execution_count": 11,
   "id": "ee4c2166",
   "metadata": {
    "execution": {
     "iopub.execute_input": "2022-05-09T10:11:14.499361Z",
     "iopub.status.busy": "2022-05-09T10:11:14.494986Z",
     "iopub.status.idle": "2022-05-09T10:11:14.547607Z",
     "shell.execute_reply": "2022-05-09T10:11:14.547013Z"
    },
    "papermill": {
     "duration": 0.087642,
     "end_time": "2022-05-09T10:11:14.547753",
     "exception": false,
     "start_time": "2022-05-09T10:11:14.460111",
     "status": "completed"
    },
    "tags": []
   },
   "outputs": [],
   "source": [
    "X_train = X_train/255.\n",
    "X_test = X_test/255."
   ]
  },
  {
   "cell_type": "markdown",
   "id": "ddcf4fab",
   "metadata": {
    "papermill": {
     "duration": 0.032303,
     "end_time": "2022-05-09T10:11:14.612915",
     "exception": false,
     "start_time": "2022-05-09T10:11:14.580612",
     "status": "completed"
    },
    "tags": []
   },
   "source": [
    "And setup the labels as 1 (when the digit is 3) and 0 (when the digit is 8)"
   ]
  },
  {
   "cell_type": "code",
   "execution_count": 12,
   "id": "7dc908f2",
   "metadata": {
    "execution": {
     "iopub.execute_input": "2022-05-09T10:11:14.681605Z",
     "iopub.status.busy": "2022-05-09T10:11:14.680953Z",
     "iopub.status.idle": "2022-05-09T10:11:14.695214Z",
     "shell.execute_reply": "2022-05-09T10:11:14.694673Z"
    },
    "papermill": {
     "duration": 0.050956,
     "end_time": "2022-05-09T10:11:14.695421",
     "exception": false,
     "start_time": "2022-05-09T10:11:14.644465",
     "status": "completed"
    },
    "tags": []
   },
   "outputs": [],
   "source": [
    "y_train = 1*(y_train==3)\n",
    "y_test = 1*(y_test==3)"
   ]
  },
  {
   "cell_type": "code",
   "execution_count": 13,
   "id": "01e4e969",
   "metadata": {
    "execution": {
     "iopub.execute_input": "2022-05-09T10:11:14.771450Z",
     "iopub.status.busy": "2022-05-09T10:11:14.770807Z",
     "iopub.status.idle": "2022-05-09T10:11:14.786684Z",
     "shell.execute_reply": "2022-05-09T10:11:14.787205Z"
    },
    "papermill": {
     "duration": 0.053276,
     "end_time": "2022-05-09T10:11:14.787363",
     "exception": false,
     "start_time": "2022-05-09T10:11:14.734087",
     "status": "completed"
    },
    "tags": []
   },
   "outputs": [
    {
     "data": {
      "text/plain": [
       "((11982, 28, 28), (1984, 28, 28))"
      ]
     },
     "execution_count": 13,
     "metadata": {},
     "output_type": "execute_result"
    }
   ],
   "source": [
    "X_train.shape, X_test.shape"
   ]
  },
  {
   "cell_type": "markdown",
   "id": "5ccf3f85",
   "metadata": {
    "papermill": {
     "duration": 0.032545,
     "end_time": "2022-05-09T10:11:14.853209",
     "exception": false,
     "start_time": "2022-05-09T10:11:14.820664",
     "status": "completed"
    },
    "tags": []
   },
   "source": [
    "We reshape the data to flatten the image pixels into a set of features or co-variates:"
   ]
  },
  {
   "cell_type": "code",
   "execution_count": 14,
   "id": "5286a4a3",
   "metadata": {
    "execution": {
     "iopub.execute_input": "2022-05-09T10:11:14.927273Z",
     "iopub.status.busy": "2022-05-09T10:11:14.926638Z",
     "iopub.status.idle": "2022-05-09T10:11:14.943021Z",
     "shell.execute_reply": "2022-05-09T10:11:14.942373Z"
    },
    "papermill": {
     "duration": 0.05456,
     "end_time": "2022-05-09T10:11:14.943172",
     "exception": false,
     "start_time": "2022-05-09T10:11:14.888612",
     "status": "completed"
    },
    "tags": []
   },
   "outputs": [
    {
     "data": {
      "text/plain": [
       "((11982, 784), (1984, 784))"
      ]
     },
     "execution_count": 14,
     "metadata": {},
     "output_type": "execute_result"
    }
   ],
   "source": [
    "X_train = X_train.reshape(X_train.shape[0], -1)\n",
    "X_test = X_test.reshape(X_test.shape[0], -1)\n",
    "X_train.shape, X_test.shape"
   ]
  },
  {
   "cell_type": "code",
   "execution_count": 15,
   "id": "73c5f88a",
   "metadata": {
    "execution": {
     "iopub.execute_input": "2022-05-09T10:11:15.016069Z",
     "iopub.status.busy": "2022-05-09T10:11:15.015032Z",
     "iopub.status.idle": "2022-05-09T10:11:15.040543Z",
     "shell.execute_reply": "2022-05-09T10:11:15.039852Z"
    },
    "papermill": {
     "duration": 0.063613,
     "end_time": "2022-05-09T10:11:15.040697",
     "exception": false,
     "start_time": "2022-05-09T10:11:14.977084",
     "status": "completed"
    },
    "tags": []
   },
   "outputs": [],
   "source": [
    "#Impoting functions from 'Kudzu'\n",
    "from kudzu.model import Model\n",
    "from kudzu.train import Learner\n",
    "from kudzu.optim import GD\n",
    "from kudzu.data import Data, Sampler,Dataloader\n",
    "\n",
    "from kudzu.callbacks import AccCallback\n",
    "from kudzu.callbacks import ClfCallback\n",
    "\n",
    "from kudzu.loss import MSE\n",
    "\n",
    "from kudzu.layer import Sigmoid,Relu\n",
    "from kudzu.layer import Affine"
   ]
  },
  {
   "cell_type": "markdown",
   "id": "bc01172a",
   "metadata": {
    "papermill": {
     "duration": 0.037534,
     "end_time": "2022-05-09T10:11:15.111065",
     "exception": false,
     "start_time": "2022-05-09T10:11:15.073531",
     "status": "completed"
    },
    "tags": []
   },
   "source": [
    "### Let us create a `Config` class, to store important parameters. \n",
    "This class essentially plays the role of a dictionary."
   ]
  },
  {
   "cell_type": "code",
   "execution_count": 16,
   "id": "978281aa",
   "metadata": {
    "execution": {
     "iopub.execute_input": "2022-05-09T10:11:15.183665Z",
     "iopub.status.busy": "2022-05-09T10:11:15.183012Z",
     "iopub.status.idle": "2022-05-09T10:11:15.193292Z",
     "shell.execute_reply": "2022-05-09T10:11:15.192790Z"
    },
    "papermill": {
     "duration": 0.050675,
     "end_time": "2022-05-09T10:11:15.193430",
     "exception": false,
     "start_time": "2022-05-09T10:11:15.142755",
     "status": "completed"
    },
    "tags": []
   },
   "outputs": [],
   "source": [
    "class Config:\n",
    "    pass\n",
    "config = Config()\n",
    "config.lr = 0.001\n",
    "config.num_epochs = 250\n",
    "config.bs = 50"
   ]
  },
  {
   "cell_type": "markdown",
   "id": "1385fa59",
   "metadata": {
    "papermill": {
     "duration": 0.033127,
     "end_time": "2022-05-09T10:11:15.259186",
     "exception": false,
     "start_time": "2022-05-09T10:11:15.226059",
     "status": "completed"
    },
    "tags": []
   },
   "source": [
    "### Running Models with the Training data\n",
    "Details about the network layers:\n",
    "- A first affine layer has 784 inputs and does 100 affine transforms. These are followed by a Relu\n",
    "- A second affine layer has 100 inputs from the 100 activations of the past layer, and does 100 affine transforms. These are followed by a Relu\n",
    "- A third affine layer has 100 activations and does 2 affine transformations to create an embedding for visualization. There is no non-linearity here.\n",
    "- A final \"logistic regression\" which has an affine transform from 2 inputs to 1 output, which is squeezed through a sigmoid.\n"
   ]
  },
  {
   "cell_type": "code",
   "execution_count": 17,
   "id": "2b9c66db",
   "metadata": {
    "execution": {
     "iopub.execute_input": "2022-05-09T10:11:15.333369Z",
     "iopub.status.busy": "2022-05-09T10:11:15.332736Z",
     "iopub.status.idle": "2022-05-09T10:11:15.347339Z",
     "shell.execute_reply": "2022-05-09T10:11:15.346793Z"
    },
    "papermill": {
     "duration": 0.051614,
     "end_time": "2022-05-09T10:11:15.347539",
     "exception": false,
     "start_time": "2022-05-09T10:11:15.295925",
     "status": "completed"
    },
    "tags": []
   },
   "outputs": [],
   "source": [
    "data = Data(X_train, y_train.reshape(-1,1))\n",
    "sampler = Sampler(data, config.bs, shuffle=True)\n",
    "\n",
    "dl = Dataloader(data, sampler)\n",
    "\n",
    "opt = GD(config.lr)\n",
    "loss = MSE()"
   ]
  },
  {
   "cell_type": "code",
   "execution_count": 18,
   "id": "b275e4c2",
   "metadata": {
    "execution": {
     "iopub.execute_input": "2022-05-09T10:11:15.418969Z",
     "iopub.status.busy": "2022-05-09T10:11:15.418323Z",
     "iopub.status.idle": "2022-05-09T10:11:15.432062Z",
     "shell.execute_reply": "2022-05-09T10:11:15.431563Z"
    },
    "papermill": {
     "duration": 0.052393,
     "end_time": "2022-05-09T10:11:15.432195",
     "exception": false,
     "start_time": "2022-05-09T10:11:15.379802",
     "status": "completed"
    },
    "tags": []
   },
   "outputs": [],
   "source": [
    "training_data_x = X_train\n",
    "testing_data_x = X_test\n",
    "training_data_y = y_train.reshape(-1,1)\n",
    "testing_data_y = y_test.reshape(-1,1)"
   ]
  },
  {
   "cell_type": "code",
   "execution_count": 19,
   "id": "76951160",
   "metadata": {
    "execution": {
     "iopub.execute_input": "2022-05-09T10:11:15.506876Z",
     "iopub.status.busy": "2022-05-09T10:11:15.506184Z",
     "iopub.status.idle": "2022-05-09T10:11:15.524777Z",
     "shell.execute_reply": "2022-05-09T10:11:15.524253Z"
    },
    "papermill": {
     "duration": 0.057294,
     "end_time": "2022-05-09T10:11:15.524906",
     "exception": false,
     "start_time": "2022-05-09T10:11:15.467612",
     "status": "completed"
    },
    "tags": []
   },
   "outputs": [
    {
     "name": "stdout",
     "output_type": "stream",
     "text": [
      "xavier\n",
      "xavier\n",
      "xavier\n",
      "xavier\n",
      "xavier\n"
     ]
    }
   ],
   "source": [
    "layers = [Affine(\"first\", 784, 100), Relu(\"first\"), Affine(\"second\", 100, 100), Relu(\"second\"), Affine(\"third\", 100, 2), Affine(\"last\", 2, 1), Sigmoid(\"last\")]\n",
    "model_nn = Model(layers)\n",
    "model_lr = Model([Affine(\"logits\", 784, 1), Sigmoid(\"sigmoid\")])"
   ]
  },
  {
   "cell_type": "code",
   "execution_count": 20,
   "id": "6eede77a",
   "metadata": {
    "execution": {
     "iopub.execute_input": "2022-05-09T10:11:15.610958Z",
     "iopub.status.busy": "2022-05-09T10:11:15.610291Z",
     "iopub.status.idle": "2022-05-09T10:11:15.626797Z",
     "shell.execute_reply": "2022-05-09T10:11:15.627287Z"
    },
    "papermill": {
     "duration": 0.061803,
     "end_time": "2022-05-09T10:11:15.627453",
     "exception": false,
     "start_time": "2022-05-09T10:11:15.565650",
     "status": "completed"
    },
    "tags": []
   },
   "outputs": [],
   "source": [
    "nn_learner = Learner(loss, model_nn, opt, config.num_epochs)\n",
    "acc_nn = ClfCallback(nn_learner, config.bs, training_data_x , testing_data_x, training_data_y, testing_data_y)\n",
    "nn_learner.set_callbacks([acc_nn])"
   ]
  },
  {
   "cell_type": "code",
   "execution_count": 21,
   "id": "877b6cc7",
   "metadata": {
    "execution": {
     "iopub.execute_input": "2022-05-09T10:11:15.703925Z",
     "iopub.status.busy": "2022-05-09T10:11:15.703290Z",
     "iopub.status.idle": "2022-05-09T10:11:15.718297Z",
     "shell.execute_reply": "2022-05-09T10:11:15.717639Z"
    },
    "papermill": {
     "duration": 0.057268,
     "end_time": "2022-05-09T10:11:15.718460",
     "exception": false,
     "start_time": "2022-05-09T10:11:15.661192",
     "status": "completed"
    },
    "tags": []
   },
   "outputs": [],
   "source": [
    "lr_learner = Learner(loss, model_lr, opt, config.num_epochs)\n",
    "acc_lr = ClfCallback(lr_learner, config.bs, training_data_x , testing_data_x, training_data_y, testing_data_y)\n",
    "lr_learner.set_callbacks([acc_lr])"
   ]
  },
  {
   "cell_type": "code",
   "execution_count": 22,
   "id": "d9b133c3",
   "metadata": {
    "execution": {
     "iopub.execute_input": "2022-05-09T10:11:15.792553Z",
     "iopub.status.busy": "2022-05-09T10:11:15.791948Z",
     "iopub.status.idle": "2022-05-09T10:12:47.065741Z",
     "shell.execute_reply": "2022-05-09T10:12:47.066643Z"
    },
    "papermill": {
     "duration": 91.313426,
     "end_time": "2022-05-09T10:12:47.066811",
     "exception": false,
     "start_time": "2022-05-09T10:11:15.753385",
     "status": "completed"
    },
    "tags": []
   },
   "outputs": [
    {
     "name": "stdout",
     "output_type": "stream",
     "text": [
      "Epoch 0, Loss 0.2509\n",
      "Training Accuracy: 0.5155, Testing Accuracy: 0.5126\n",
      "\n"
     ]
    },
    {
     "name": "stdout",
     "output_type": "stream",
     "text": [
      "Epoch 10, Loss 0.2307\n",
      "Training Accuracy: 0.8049, Testing Accuracy: 0.7928\n",
      "\n"
     ]
    },
    {
     "name": "stdout",
     "output_type": "stream",
     "text": [
      "Epoch 20, Loss 0.1544\n",
      "Training Accuracy: 0.9003, Testing Accuracy: 0.9062\n",
      "\n"
     ]
    },
    {
     "name": "stdout",
     "output_type": "stream",
     "text": [
      "Epoch 30, Loss 0.0784\n",
      "Training Accuracy: 0.9241, Testing Accuracy: 0.9365\n",
      "\n"
     ]
    },
    {
     "name": "stdout",
     "output_type": "stream",
     "text": [
      "Epoch 40, Loss 0.0552\n",
      "Training Accuracy: 0.9405, Testing Accuracy: 0.9516\n",
      "\n"
     ]
    },
    {
     "name": "stdout",
     "output_type": "stream",
     "text": [
      "Epoch 50, Loss 0.0449\n",
      "Training Accuracy: 0.9491, Testing Accuracy: 0.9582\n",
      "\n"
     ]
    },
    {
     "name": "stdout",
     "output_type": "stream",
     "text": [
      "Epoch 60, Loss 0.0393\n",
      "Training Accuracy: 0.9549, Testing Accuracy: 0.9627\n",
      "\n"
     ]
    },
    {
     "name": "stdout",
     "output_type": "stream",
     "text": [
      "Epoch 70, Loss 0.0358\n",
      "Training Accuracy: 0.9592, Testing Accuracy: 0.9652\n",
      "\n"
     ]
    },
    {
     "name": "stdout",
     "output_type": "stream",
     "text": [
      "Epoch 80, Loss 0.0333\n",
      "Training Accuracy: 0.9619, Testing Accuracy: 0.9672\n",
      "\n"
     ]
    },
    {
     "name": "stdout",
     "output_type": "stream",
     "text": [
      "Epoch 90, Loss 0.0315\n",
      "Training Accuracy: 0.9643, Testing Accuracy: 0.9693\n",
      "\n"
     ]
    },
    {
     "name": "stdout",
     "output_type": "stream",
     "text": [
      "Epoch 100, Loss 0.03\n",
      "Training Accuracy: 0.9655, Testing Accuracy: 0.9703\n",
      "\n"
     ]
    },
    {
     "name": "stdout",
     "output_type": "stream",
     "text": [
      "Epoch 110, Loss 0.0288\n",
      "Training Accuracy: 0.9664, Testing Accuracy: 0.9698\n",
      "\n"
     ]
    },
    {
     "name": "stdout",
     "output_type": "stream",
     "text": [
      "Epoch 120, Loss 0.0278\n",
      "Training Accuracy: 0.9680, Testing Accuracy: 0.9708\n",
      "\n"
     ]
    },
    {
     "name": "stdout",
     "output_type": "stream",
     "text": [
      "Epoch 130, Loss 0.0268\n",
      "Training Accuracy: 0.9685, Testing Accuracy: 0.9703\n",
      "\n"
     ]
    },
    {
     "name": "stdout",
     "output_type": "stream",
     "text": [
      "Epoch 140, Loss 0.026\n",
      "Training Accuracy: 0.9695, Testing Accuracy: 0.9718\n",
      "\n"
     ]
    },
    {
     "name": "stdout",
     "output_type": "stream",
     "text": [
      "Epoch 150, Loss 0.0253\n",
      "Training Accuracy: 0.9704, Testing Accuracy: 0.9728\n",
      "\n"
     ]
    },
    {
     "name": "stdout",
     "output_type": "stream",
     "text": [
      "Epoch 160, Loss 0.0247\n",
      "Training Accuracy: 0.9715, Testing Accuracy: 0.9733\n",
      "\n"
     ]
    },
    {
     "name": "stdout",
     "output_type": "stream",
     "text": [
      "Epoch 170, Loss 0.0241\n",
      "Training Accuracy: 0.9723, Testing Accuracy: 0.9738\n",
      "\n"
     ]
    },
    {
     "name": "stdout",
     "output_type": "stream",
     "text": [
      "Epoch 180, Loss 0.0235\n",
      "Training Accuracy: 0.9733, Testing Accuracy: 0.9743\n",
      "\n"
     ]
    },
    {
     "name": "stdout",
     "output_type": "stream",
     "text": [
      "Epoch 190, Loss 0.023\n",
      "Training Accuracy: 0.9735, Testing Accuracy: 0.9743\n",
      "\n"
     ]
    },
    {
     "name": "stdout",
     "output_type": "stream",
     "text": [
      "Epoch 200, Loss 0.0225\n",
      "Training Accuracy: 0.9740, Testing Accuracy: 0.9743\n",
      "\n"
     ]
    },
    {
     "name": "stdout",
     "output_type": "stream",
     "text": [
      "Epoch 210, Loss 0.0221\n",
      "Training Accuracy: 0.9745, Testing Accuracy: 0.9748\n",
      "\n"
     ]
    },
    {
     "name": "stdout",
     "output_type": "stream",
     "text": [
      "Epoch 220, Loss 0.0216\n",
      "Training Accuracy: 0.9753, Testing Accuracy: 0.9748\n",
      "\n"
     ]
    },
    {
     "name": "stdout",
     "output_type": "stream",
     "text": [
      "Epoch 230, Loss 0.0212\n",
      "Training Accuracy: 0.9757, Testing Accuracy: 0.9748\n",
      "\n"
     ]
    },
    {
     "name": "stdout",
     "output_type": "stream",
     "text": [
      "Epoch 240, Loss 0.0208\n",
      "Training Accuracy: 0.9762, Testing Accuracy: 0.9743\n",
      "\n"
     ]
    },
    {
     "data": {
      "text/plain": [
       "0.009783230120129058"
      ]
     },
     "execution_count": 22,
     "metadata": {},
     "output_type": "execute_result"
    }
   ],
   "source": [
    "nn_learner.train_loop(dl)"
   ]
  },
  {
   "cell_type": "code",
   "execution_count": 23,
   "id": "e0163366",
   "metadata": {
    "execution": {
     "iopub.execute_input": "2022-05-09T10:12:47.160189Z",
     "iopub.status.busy": "2022-05-09T10:12:47.159550Z",
     "iopub.status.idle": "2022-05-09T10:13:03.241401Z",
     "shell.execute_reply": "2022-05-09T10:13:03.242252Z"
    },
    "papermill": {
     "duration": 16.135707,
     "end_time": "2022-05-09T10:13:03.242417",
     "exception": false,
     "start_time": "2022-05-09T10:12:47.106710",
     "status": "completed"
    },
    "tags": []
   },
   "outputs": [
    {
     "name": "stdout",
     "output_type": "stream",
     "text": [
      "Epoch 0, Loss 0.2463\n",
      "Training Accuracy: 0.6758, Testing Accuracy: 0.6769\n",
      "\n"
     ]
    },
    {
     "name": "stdout",
     "output_type": "stream",
     "text": [
      "Epoch 10, Loss 0.1028\n",
      "Training Accuracy: 0.9101, Testing Accuracy: 0.9219\n",
      "\n"
     ]
    },
    {
     "name": "stdout",
     "output_type": "stream",
     "text": [
      "Epoch 20, Loss 0.0793\n",
      "Training Accuracy: 0.9278, Testing Accuracy: 0.9360\n",
      "\n"
     ]
    },
    {
     "name": "stdout",
     "output_type": "stream",
     "text": [
      "Epoch 30, Loss 0.0684\n",
      "Training Accuracy: 0.9348, Testing Accuracy: 0.9410\n",
      "\n"
     ]
    },
    {
     "name": "stdout",
     "output_type": "stream",
     "text": [
      "Epoch 40, Loss 0.0619\n",
      "Training Accuracy: 0.9392, Testing Accuracy: 0.9491\n",
      "\n"
     ]
    },
    {
     "name": "stdout",
     "output_type": "stream",
     "text": [
      "Epoch 50, Loss 0.0574\n",
      "Training Accuracy: 0.9427, Testing Accuracy: 0.9516\n",
      "\n"
     ]
    },
    {
     "name": "stdout",
     "output_type": "stream",
     "text": [
      "Epoch 60, Loss 0.0541\n",
      "Training Accuracy: 0.9457, Testing Accuracy: 0.9556\n",
      "\n"
     ]
    },
    {
     "name": "stdout",
     "output_type": "stream",
     "text": [
      "Epoch 70, Loss 0.0515\n",
      "Training Accuracy: 0.9482, Testing Accuracy: 0.9572\n",
      "\n"
     ]
    },
    {
     "name": "stdout",
     "output_type": "stream",
     "text": [
      "Epoch 80, Loss 0.0495\n",
      "Training Accuracy: 0.9500, Testing Accuracy: 0.9577\n",
      "\n"
     ]
    },
    {
     "name": "stdout",
     "output_type": "stream",
     "text": [
      "Epoch 90, Loss 0.0478\n",
      "Training Accuracy: 0.9512, Testing Accuracy: 0.9582\n",
      "\n"
     ]
    },
    {
     "name": "stdout",
     "output_type": "stream",
     "text": [
      "Epoch 100, Loss 0.0464\n",
      "Training Accuracy: 0.9518, Testing Accuracy: 0.9587\n",
      "\n"
     ]
    },
    {
     "name": "stdout",
     "output_type": "stream",
     "text": [
      "Epoch 110, Loss 0.0452\n",
      "Training Accuracy: 0.9533, Testing Accuracy: 0.9607\n",
      "\n"
     ]
    },
    {
     "name": "stdout",
     "output_type": "stream",
     "text": [
      "Epoch 120, Loss 0.0441\n",
      "Training Accuracy: 0.9544, Testing Accuracy: 0.9627\n",
      "\n"
     ]
    },
    {
     "name": "stdout",
     "output_type": "stream",
     "text": [
      "Epoch 130, Loss 0.0432\n",
      "Training Accuracy: 0.9555, Testing Accuracy: 0.9632\n",
      "\n"
     ]
    },
    {
     "name": "stdout",
     "output_type": "stream",
     "text": [
      "Epoch 140, Loss 0.0423\n",
      "Training Accuracy: 0.9555, Testing Accuracy: 0.9632\n",
      "\n"
     ]
    },
    {
     "name": "stdout",
     "output_type": "stream",
     "text": [
      "Epoch 150, Loss 0.0416\n",
      "Training Accuracy: 0.9559, Testing Accuracy: 0.9637\n",
      "\n"
     ]
    },
    {
     "name": "stdout",
     "output_type": "stream",
     "text": [
      "Epoch 160, Loss 0.0409\n",
      "Training Accuracy: 0.9565, Testing Accuracy: 0.9637\n",
      "\n"
     ]
    },
    {
     "name": "stdout",
     "output_type": "stream",
     "text": [
      "Epoch 170, Loss 0.0403\n",
      "Training Accuracy: 0.9568, Testing Accuracy: 0.9642\n",
      "\n"
     ]
    },
    {
     "name": "stdout",
     "output_type": "stream",
     "text": [
      "Epoch 180, Loss 0.0397\n",
      "Training Accuracy: 0.9578, Testing Accuracy: 0.9652\n",
      "\n"
     ]
    },
    {
     "name": "stdout",
     "output_type": "stream",
     "text": [
      "Epoch 190, Loss 0.0392\n",
      "Training Accuracy: 0.9582, Testing Accuracy: 0.9652\n",
      "\n"
     ]
    },
    {
     "name": "stdout",
     "output_type": "stream",
     "text": [
      "Epoch 200, Loss 0.0387\n",
      "Training Accuracy: 0.9587, Testing Accuracy: 0.9652\n",
      "\n"
     ]
    },
    {
     "name": "stdout",
     "output_type": "stream",
     "text": [
      "Epoch 210, Loss 0.0383\n",
      "Training Accuracy: 0.9589, Testing Accuracy: 0.9647\n",
      "\n"
     ]
    },
    {
     "name": "stdout",
     "output_type": "stream",
     "text": [
      "Epoch 220, Loss 0.0378\n",
      "Training Accuracy: 0.9593, Testing Accuracy: 0.9657\n",
      "\n"
     ]
    },
    {
     "name": "stdout",
     "output_type": "stream",
     "text": [
      "Epoch 230, Loss 0.0374\n",
      "Training Accuracy: 0.9599, Testing Accuracy: 0.9657\n",
      "\n"
     ]
    },
    {
     "name": "stdout",
     "output_type": "stream",
     "text": [
      "Epoch 240, Loss 0.0371\n",
      "Training Accuracy: 0.9604, Testing Accuracy: 0.9657\n",
      "\n"
     ]
    },
    {
     "data": {
      "text/plain": [
       "0.022345528046432667"
      ]
     },
     "execution_count": 23,
     "metadata": {},
     "output_type": "execute_result"
    }
   ],
   "source": [
    "lr_learner.train_loop(dl)"
   ]
  },
  {
   "cell_type": "code",
   "execution_count": 24,
   "id": "ca410940",
   "metadata": {
    "execution": {
     "iopub.execute_input": "2022-05-09T10:13:03.348077Z",
     "iopub.status.busy": "2022-05-09T10:13:03.347447Z",
     "iopub.status.idle": "2022-05-09T10:13:03.605060Z",
     "shell.execute_reply": "2022-05-09T10:13:03.604520Z"
    },
    "papermill": {
     "duration": 0.315132,
     "end_time": "2022-05-09T10:13:03.605191",
     "exception": false,
     "start_time": "2022-05-09T10:13:03.290059",
     "status": "completed"
    },
    "tags": []
   },
   "outputs": [
    {
     "data": {
      "text/plain": [
       "<matplotlib.legend.Legend at 0x7f53c0be6b00>"
      ]
     },
     "execution_count": 24,
     "metadata": {},
     "output_type": "execute_result"
    },
    {
     "data": {
      "image/png": "[encoded data removed]",
      "text/plain": [
       "<Figure size 1080x720 with 1 Axes>"
      ]
     },
     "metadata": {
      "needs_background": "light"
     },
     "output_type": "display_data"
    }
   ],
   "source": [
    "#comparing the results of NN and LR\n",
    "plt.figure(figsize=(15,10))\n",
    "\n",
    "# Neural Network plots\n",
    "plt.plot(acc_nn.accuracies, 'r-', label = \"Training Accuracies - NN\")\n",
    "plt.plot(acc_nn.test_accuracies, 'g-', label = \"Testing Accuracies - NN\")\n",
    "\n",
    "# Logistic Regression plots\n",
    "plt.plot(acc_lr.accuracies, 'k-', label = \"Training Accuracies - LR\")\n",
    "plt.plot(acc_lr.test_accuracies, 'b-', label = \"Testing Accuracies - LR\")\n",
    "plt.legend()"
   ]
  },
  {
   "cell_type": "markdown",
   "id": "80dfb35c",
   "metadata": {
    "papermill": {
     "duration": 0.050418,
     "end_time": "2022-05-09T10:13:03.710023",
     "exception": false,
     "start_time": "2022-05-09T10:13:03.659605",
     "status": "completed"
    },
    "tags": []
   },
   "source": [
    "#### Plotting the outputs of this layer of the NN.\n"
   ]
  },
  {
   "cell_type": "code",
   "execution_count": 25,
   "id": "45eb2ff5",
   "metadata": {
    "execution": {
     "iopub.execute_input": "2022-05-09T10:13:03.819484Z",
     "iopub.status.busy": "2022-05-09T10:13:03.818761Z",
     "iopub.status.idle": "2022-05-09T10:13:03.843327Z",
     "shell.execute_reply": "2022-05-09T10:13:03.843845Z"
    },
    "papermill": {
     "duration": 0.081707,
     "end_time": "2022-05-09T10:13:03.844000",
     "exception": false,
     "start_time": "2022-05-09T10:13:03.762293",
     "status": "completed"
    },
    "tags": []
   },
   "outputs": [],
   "source": [
    "new_model = Model(layers[:-2])\n",
    "testing_plot = new_model(testing_data_x)"
   ]
  },
  {
   "cell_type": "code",
   "execution_count": 26,
   "id": "4c0a5485",
   "metadata": {
    "execution": {
     "iopub.execute_input": "2022-05-09T10:13:03.957946Z",
     "iopub.status.busy": "2022-05-09T10:13:03.956420Z",
     "iopub.status.idle": "2022-05-09T10:13:04.192678Z",
     "shell.execute_reply": "2022-05-09T10:13:04.192143Z"
    },
    "papermill": {
     "duration": 0.296147,
     "end_time": "2022-05-09T10:13:04.192810",
     "exception": false,
     "start_time": "2022-05-09T10:13:03.896663",
     "status": "completed"
    },
    "tags": []
   },
   "outputs": [
    {
     "data": {
      "text/plain": [
       "Text(0.5, 1.0, 'Outputs')"
      ]
     },
     "execution_count": 26,
     "metadata": {},
     "output_type": "execute_result"
    },
    {
     "data": {
      "image/png": "[encoded data removed]",
      "text/plain": [
       "<Figure size 576x504 with 1 Axes>"
      ]
     },
     "metadata": {
      "needs_background": "light"
     },
     "output_type": "display_data"
    }
   ],
   "source": [
    "# Plotting the scatter plot of points and color coding by class\n",
    "plt.figure(figsize=(8,7))\n",
    "plt.scatter(testing_plot[:,0], testing_plot[:,1], alpha = 0.1, c = y_test.ravel());\n",
    "plt.title('Outputs')"
   ]
  },
  {
   "cell_type": "markdown",
   "id": "a74fcf8f",
   "metadata": {
    "papermill": {
     "duration": 0.051361,
     "end_time": "2022-05-09T10:13:04.295334",
     "exception": false,
     "start_time": "2022-05-09T10:13:04.243973",
     "status": "completed"
    },
    "tags": []
   },
   "source": [
    "Probability contours"
   ]
  },
  {
   "cell_type": "code",
   "execution_count": 27,
   "id": "d0afc8e3",
   "metadata": {
    "execution": {
     "iopub.execute_input": "2022-05-09T10:13:04.431334Z",
     "iopub.status.busy": "2022-05-09T10:13:04.430676Z",
     "iopub.status.idle": "2022-05-09T10:13:04.445330Z",
     "shell.execute_reply": "2022-05-09T10:13:04.444786Z"
    },
    "papermill": {
     "duration": 0.099122,
     "end_time": "2022-05-09T10:13:04.445462",
     "exception": false,
     "start_time": "2022-05-09T10:13:04.346340",
     "status": "completed"
    },
    "tags": []
   },
   "outputs": [],
   "source": [
    "model_prob = Model(layers[-2:]) "
   ]
  },
  {
   "cell_type": "code",
   "execution_count": 28,
   "id": "9b96e238",
   "metadata": {
    "execution": {
     "iopub.execute_input": "2022-05-09T10:13:04.558332Z",
     "iopub.status.busy": "2022-05-09T10:13:04.557675Z",
     "iopub.status.idle": "2022-05-09T10:13:04.574256Z",
     "shell.execute_reply": "2022-05-09T10:13:04.574751Z"
    },
    "papermill": {
     "duration": 0.076846,
     "end_time": "2022-05-09T10:13:04.574917",
     "exception": false,
     "start_time": "2022-05-09T10:13:04.498071",
     "status": "completed"
    },
    "tags": []
   },
   "outputs": [],
   "source": [
    "#creating the x and y ranges according to the above generated plot.\n",
    "x_range = np.linspace(-4, 1, 100) \n",
    "y_range = np.linspace(-6, 6, 100) \n",
    "x_grid, y_grid = np.meshgrid(x_range, y_range) # x_grid and y_grig are of size 100 X 100\n",
    "\n",
    "# converting x_grid and y_grid to continuous arrays\n",
    "x_gridflat = np.ravel(x_grid)\n",
    "y_gridflat = np.ravel(y_grid)\n",
    "\n",
    "# The last layer of the current model takes two columns as input. Hence transpose of np.vstack() is required.\n",
    "X = np.vstack((x_gridflat, y_gridflat)).T\n",
    "\n",
    "prob_contour = model_prob(X).reshape(100,100) "
   ]
  },
  {
   "cell_type": "code",
   "execution_count": 29,
   "id": "da72499a",
   "metadata": {
    "execution": {
     "iopub.execute_input": "2022-05-09T10:13:04.685847Z",
     "iopub.status.busy": "2022-05-09T10:13:04.683896Z",
     "iopub.status.idle": "2022-05-09T10:13:04.977233Z",
     "shell.execute_reply": "2022-05-09T10:13:04.977735Z"
    },
    "papermill": {
     "duration": 0.350894,
     "end_time": "2022-05-09T10:13:04.977893",
     "exception": false,
     "start_time": "2022-05-09T10:13:04.626999",
     "status": "completed"
    },
    "tags": []
   },
   "outputs": [
    {
     "data": {
      "image/png": "[encoded data removed]",
      "text/plain": [
       "<Figure size 720x648 with 1 Axes>"
      ]
     },
     "metadata": {
      "needs_background": "light"
     },
     "output_type": "display_data"
    }
   ],
   "source": [
    "plt.figure(figsize=(10,9))\n",
    "plt.scatter(testing_plot[:,0], testing_plot[:,1], alpha = 0.1, c = y_test.ravel())\n",
    "contours = plt.contour(x_grid,y_grid,prob_contour)\n",
    "plt.title('Probability Contours')\n",
    "plt.clabel(contours, inline = True );"
   ]
  },
  {
   "cell_type": "code",
   "execution_count": null,
   "id": "e81b4ac7",
   "metadata": {
    "papermill": {
     "duration": 0.066017,
     "end_time": "2022-05-09T10:13:05.101006",
     "exception": false,
     "start_time": "2022-05-09T10:13:05.034989",
     "status": "completed"
    },
    "tags": []
   },
   "outputs": [],
   "source": []
  }
 ],
 "metadata": {
  "kernelspec": {
   "display_name": "Python 3",
   "language": "python",
   "name": "python3"
  },
  "language_info": {
   "codemirror_mode": {
    "name": "ipython",
    "version": 3
   },
   "file_extension": ".py",
   "mimetype": "text/x-python",
   "name": "python",
   "nbconvert_exporter": "python",
   "pygments_lexer": "ipython3",
   "version": "3.6.15"
  },
  "papermill": {
   "default_parameters": {},
   "duration": 117.71977,
   "end_time": "2022-05-09T10:13:05.581752",
   "environment_variables": {},
   "exception": null,
   "input_path": "2020-08-11-part2.ipynb",
   "output_path": "2020-08-11-part2.ipynb",
   "parameters": {},
   "start_time": "2022-05-09T10:11:07.861982",
   "version": "2.3.3"
  }
 },
 "nbformat": 4,
 "nbformat_minor": 5
}