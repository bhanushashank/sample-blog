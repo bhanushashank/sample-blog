{
 "cells": [
  {
   "cell_type": "markdown",
   "id": "98380cd3",
   "metadata": {
    "papermill": {
     "duration": 0.031953,
     "end_time": "2021-10-29T00:20:34.654393",
     "exception": false,
     "start_time": "2021-10-29T00:20:34.622440",
     "status": "completed"
    },
    "tags": []
   },
   "source": [
    "# Distinguish Your Own Digits (DYOD)"
   ]
  },
  {
   "cell_type": "markdown",
   "id": "ef31240d",
   "metadata": {
    "papermill": {
     "duration": 0.028599,
     "end_time": "2021-10-29T00:20:34.712715",
     "exception": false,
     "start_time": "2021-10-29T00:20:34.684116",
     "status": "completed"
    },
    "tags": []
   },
   "source": [
    "You are going to write a classifier that distinguishes between the number 3 and number 8."
   ]
  },
  {
   "cell_type": "code",
   "execution_count": 1,
   "id": "b15c8646",
   "metadata": {
    "execution": {
     "iopub.execute_input": "2021-10-29T00:20:34.784085Z",
     "iopub.status.busy": "2021-10-29T00:20:34.783333Z",
     "iopub.status.idle": "2021-10-29T00:20:34.794024Z",
     "shell.execute_reply": "2021-10-29T00:20:34.794531Z"
    },
    "papermill": {
     "duration": 0.051017,
     "end_time": "2021-10-29T00:20:34.794691",
     "exception": false,
     "start_time": "2021-10-29T00:20:34.743674",
     "status": "completed"
    },
    "tags": []
   },
   "outputs": [],
   "source": [
    "%load_ext autoreload\n",
    "%autoreload 2"
   ]
  },
  {
   "cell_type": "code",
   "execution_count": 2,
   "id": "22ef38dc",
   "metadata": {
    "execution": {
     "iopub.execute_input": "2021-10-29T00:20:34.857376Z",
     "iopub.status.busy": "2021-10-29T00:20:34.856743Z",
     "iopub.status.idle": "2021-10-29T00:20:35.521325Z",
     "shell.execute_reply": "2021-10-29T00:20:35.520768Z"
    },
    "papermill": {
     "duration": 0.696596,
     "end_time": "2021-10-29T00:20:35.521454",
     "exception": false,
     "start_time": "2021-10-29T00:20:34.824858",
     "status": "completed"
    },
    "tags": []
   },
   "outputs": [],
   "source": [
    "%matplotlib inline\n",
    "import numpy as np\n",
    "import matplotlib.pyplot as plt\n",
    "import pandas as pd"
   ]
  },
  {
   "cell_type": "markdown",
   "id": "ba036198",
   "metadata": {
    "papermill": {
     "duration": 0.028864,
     "end_time": "2021-10-29T00:20:35.580819",
     "exception": false,
     "start_time": "2021-10-29T00:20:35.551955",
     "status": "completed"
    },
    "tags": []
   },
   "source": [
    "From the command line run `pip install mnist`. This is a library that will help you bring down the mnist dataset. If you run this from a notebook, you need to put  `!pip install mnist` in a cell by itself."
   ]
  },
  {
   "cell_type": "code",
   "execution_count": 3,
   "id": "bb6ad8a1",
   "metadata": {
    "execution": {
     "iopub.execute_input": "2021-10-29T00:20:35.643036Z",
     "iopub.status.busy": "2021-10-29T00:20:35.642445Z",
     "iopub.status.idle": "2021-10-29T00:20:37.582896Z",
     "shell.execute_reply": "2021-10-29T00:20:37.582270Z"
    },
    "papermill": {
     "duration": 1.973566,
     "end_time": "2021-10-29T00:20:37.583045",
     "exception": false,
     "start_time": "2021-10-29T00:20:35.609479",
     "status": "completed"
    },
    "tags": []
   },
   "outputs": [
    {
     "name": "stdout",
     "output_type": "stream",
     "text": [
      "Collecting mnist\r\n"
     ]
    },
    {
     "name": "stdout",
     "output_type": "stream",
     "text": [
      "  Downloading mnist-0.2.2-py2.py3-none-any.whl (3.5 kB)\r\n",
      "Requirement already satisfied: numpy in /opt/hostedtoolcache/Python/3.6.15/x64/lib/python3.6/site-packages (from mnist) (1.19.5)\r\n"
     ]
    },
    {
     "name": "stdout",
     "output_type": "stream",
     "text": [
      "Installing collected packages: mnist\r\n"
     ]
    },
    {
     "name": "stdout",
     "output_type": "stream",
     "text": [
      "Successfully installed mnist-0.2.2\r\n"
     ]
    },
    {
     "name": "stdout",
     "output_type": "stream",
     "text": [
      "\u001b[33mWARNING: You are using pip version 21.3; however, version 21.3.1 is available.\r\n",
      "You should consider upgrading via the '/opt/hostedtoolcache/Python/3.6.15/x64/bin/python -m pip install --upgrade pip' command.\u001b[0m\r\n"
     ]
    }
   ],
   "source": [
    "!pip install mnist"
   ]
  },
  {
   "cell_type": "markdown",
   "id": "69df9c9a",
   "metadata": {
    "papermill": {
     "duration": 0.03089,
     "end_time": "2021-10-29T00:20:37.646537",
     "exception": false,
     "start_time": "2021-10-29T00:20:37.615647",
     "status": "completed"
    },
    "tags": []
   },
   "source": [
    "## Preparing the Data"
   ]
  },
  {
   "cell_type": "code",
   "execution_count": 4,
   "id": "7f69d806",
   "metadata": {
    "execution": {
     "iopub.execute_input": "2021-10-29T00:20:37.712761Z",
     "iopub.status.busy": "2021-10-29T00:20:37.712145Z",
     "iopub.status.idle": "2021-10-29T00:20:37.726764Z",
     "shell.execute_reply": "2021-10-29T00:20:37.727315Z"
    },
    "papermill": {
     "duration": 0.050265,
     "end_time": "2021-10-29T00:20:37.727477",
     "exception": false,
     "start_time": "2021-10-29T00:20:37.677212",
     "status": "completed"
    },
    "tags": []
   },
   "outputs": [],
   "source": [
    "import mnist"
   ]
  },
  {
   "cell_type": "code",
   "execution_count": 5,
   "id": "a411e44f",
   "metadata": {
    "execution": {
     "iopub.execute_input": "2021-10-29T00:20:37.792560Z",
     "iopub.status.busy": "2021-10-29T00:20:37.791624Z",
     "iopub.status.idle": "2021-10-29T00:20:38.371735Z",
     "shell.execute_reply": "2021-10-29T00:20:38.371021Z"
    },
    "papermill": {
     "duration": 0.615331,
     "end_time": "2021-10-29T00:20:38.371933",
     "exception": false,
     "start_time": "2021-10-29T00:20:37.756602",
     "status": "completed"
    },
    "tags": []
   },
   "outputs": [],
   "source": [
    "train_images = mnist.train_images()\n",
    "train_labels = mnist.train_labels()"
   ]
  },
  {
   "cell_type": "code",
   "execution_count": 6,
   "id": "dceab3a5",
   "metadata": {
    "execution": {
     "iopub.execute_input": "2021-10-29T00:20:38.437226Z",
     "iopub.status.busy": "2021-10-29T00:20:38.436538Z",
     "iopub.status.idle": "2021-10-29T00:20:38.452709Z",
     "shell.execute_reply": "2021-10-29T00:20:38.452193Z"
    },
    "papermill": {
     "duration": 0.049835,
     "end_time": "2021-10-29T00:20:38.452820",
     "exception": false,
     "start_time": "2021-10-29T00:20:38.402985",
     "status": "completed"
    },
    "tags": []
   },
   "outputs": [
    {
     "data": {
      "text/plain": [
       "((60000, 28, 28), (60000,))"
      ]
     },
     "execution_count": 6,
     "metadata": {},
     "output_type": "execute_result"
    }
   ],
   "source": [
    "train_images.shape, train_labels.shape"
   ]
  },
  {
   "cell_type": "code",
   "execution_count": 7,
   "id": "f50dc2bb",
   "metadata": {
    "execution": {
     "iopub.execute_input": "2021-10-29T00:20:38.518085Z",
     "iopub.status.busy": "2021-10-29T00:20:38.517486Z",
     "iopub.status.idle": "2021-10-29T00:20:38.668230Z",
     "shell.execute_reply": "2021-10-29T00:20:38.667639Z"
    },
    "papermill": {
     "duration": 0.185055,
     "end_time": "2021-10-29T00:20:38.668372",
     "exception": false,
     "start_time": "2021-10-29T00:20:38.483317",
     "status": "completed"
    },
    "tags": []
   },
   "outputs": [],
   "source": [
    "test_images = mnist.test_images()\n",
    "test_labels = mnist.test_labels()"
   ]
  },
  {
   "cell_type": "code",
   "execution_count": 8,
   "id": "fc38cf1b",
   "metadata": {
    "execution": {
     "iopub.execute_input": "2021-10-29T00:20:38.736994Z",
     "iopub.status.busy": "2021-10-29T00:20:38.736408Z",
     "iopub.status.idle": "2021-10-29T00:20:38.750138Z",
     "shell.execute_reply": "2021-10-29T00:20:38.749625Z"
    },
    "papermill": {
     "duration": 0.049994,
     "end_time": "2021-10-29T00:20:38.750243",
     "exception": false,
     "start_time": "2021-10-29T00:20:38.700249",
     "status": "completed"
    },
    "tags": []
   },
   "outputs": [
    {
     "data": {
      "text/plain": [
       "((10000, 28, 28), (10000,))"
      ]
     },
     "execution_count": 8,
     "metadata": {},
     "output_type": "execute_result"
    }
   ],
   "source": [
    "test_images.shape, test_labels.shape"
   ]
  },
  {
   "cell_type": "code",
   "execution_count": 9,
   "id": "f9ed8fe0",
   "metadata": {
    "execution": {
     "iopub.execute_input": "2021-10-29T00:20:38.819363Z",
     "iopub.status.busy": "2021-10-29T00:20:38.818106Z",
     "iopub.status.idle": "2021-10-29T00:20:39.012349Z",
     "shell.execute_reply": "2021-10-29T00:20:39.011379Z"
    },
    "papermill": {
     "duration": 0.231194,
     "end_time": "2021-10-29T00:20:39.012478",
     "exception": false,
     "start_time": "2021-10-29T00:20:38.781284",
     "status": "completed"
    },
    "tags": []
   },
   "outputs": [
    {
     "name": "stdout",
     "output_type": "stream",
     "text": [
      "2\n"
     ]
    },
    {
     "data": {
      "text/plain": [
       "<matplotlib.image.AxesImage at 0x7f1580b31208>"
      ]
     },
     "execution_count": 9,
     "metadata": {},
     "output_type": "execute_result"
    },
    {
     "data": {
      "image/png": "[encoded data removed]",
      "text/plain": [
       "<Figure size 432x288 with 1 Axes>"
      ]
     },
     "metadata": {
      "needs_background": "light"
     },
     "output_type": "display_data"
    }
   ],
   "source": [
    "image_index = 7776 # You may select anything up to 60,000\n",
    "print(train_labels[image_index]) \n",
    "plt.imshow(train_images[image_index], cmap='Greys')"
   ]
  },
  {
   "cell_type": "markdown",
   "id": "a8d2388d",
   "metadata": {
    "papermill": {
     "duration": 0.036058,
     "end_time": "2021-10-29T00:20:39.080809",
     "exception": false,
     "start_time": "2021-10-29T00:20:39.044751",
     "status": "completed"
    },
    "tags": []
   },
   "source": [
    "## Filter data to get 3 and 8 out"
   ]
  },
  {
   "cell_type": "code",
   "execution_count": 10,
   "id": "776f7fc7",
   "metadata": {
    "execution": {
     "iopub.execute_input": "2021-10-29T00:20:39.152545Z",
     "iopub.status.busy": "2021-10-29T00:20:39.148404Z",
     "iopub.status.idle": "2021-10-29T00:20:39.168429Z",
     "shell.execute_reply": "2021-10-29T00:20:39.168940Z"
    },
    "papermill": {
     "duration": 0.055013,
     "end_time": "2021-10-29T00:20:39.169065",
     "exception": false,
     "start_time": "2021-10-29T00:20:39.114052",
     "status": "completed"
    },
    "tags": []
   },
   "outputs": [],
   "source": [
    "train_filter = np.where((train_labels == 3 ) | (train_labels == 8))\n",
    "test_filter = np.where((test_labels == 3) | (test_labels == 8))\n",
    "X_train, y_train = train_images[train_filter], train_labels[train_filter]\n",
    "X_test, y_test = test_images[test_filter], test_labels[test_filter]"
   ]
  },
  {
   "cell_type": "markdown",
   "id": "948f0b7e",
   "metadata": {
    "papermill": {
     "duration": 0.032087,
     "end_time": "2021-10-29T00:20:39.232529",
     "exception": false,
     "start_time": "2021-10-29T00:20:39.200442",
     "status": "completed"
    },
    "tags": []
   },
   "source": [
    "We normalize the pizel values in the 0 to 1 range"
   ]
  },
  {
   "cell_type": "code",
   "execution_count": 11,
   "id": "ee4c2166",
   "metadata": {
    "execution": {
     "iopub.execute_input": "2021-10-29T00:20:39.300629Z",
     "iopub.status.busy": "2021-10-29T00:20:39.299381Z",
     "iopub.status.idle": "2021-10-29T00:20:39.360569Z",
     "shell.execute_reply": "2021-10-29T00:20:39.359502Z"
    },
    "papermill": {
     "duration": 0.096911,
     "end_time": "2021-10-29T00:20:39.360717",
     "exception": false,
     "start_time": "2021-10-29T00:20:39.263806",
     "status": "completed"
    },
    "tags": []
   },
   "outputs": [],
   "source": [
    "X_train = X_train/255.\n",
    "X_test = X_test/255."
   ]
  },
  {
   "cell_type": "markdown",
   "id": "ddcf4fab",
   "metadata": {
    "papermill": {
     "duration": 0.031582,
     "end_time": "2021-10-29T00:20:39.425358",
     "exception": false,
     "start_time": "2021-10-29T00:20:39.393776",
     "status": "completed"
    },
    "tags": []
   },
   "source": [
    "And setup the labels as 1 (when the digit is 3) and 0 (when the digit is 8)"
   ]
  },
  {
   "cell_type": "code",
   "execution_count": 12,
   "id": "7dc908f2",
   "metadata": {
    "execution": {
     "iopub.execute_input": "2021-10-29T00:20:39.488929Z",
     "iopub.status.busy": "2021-10-29T00:20:39.488286Z",
     "iopub.status.idle": "2021-10-29T00:20:39.499952Z",
     "shell.execute_reply": "2021-10-29T00:20:39.500426Z"
    },
    "papermill": {
     "duration": 0.045285,
     "end_time": "2021-10-29T00:20:39.500589",
     "exception": false,
     "start_time": "2021-10-29T00:20:39.455304",
     "status": "completed"
    },
    "tags": []
   },
   "outputs": [],
   "source": [
    "y_train = 1*(y_train==3)\n",
    "y_test = 1*(y_test==3)"
   ]
  },
  {
   "cell_type": "code",
   "execution_count": 13,
   "id": "01e4e969",
   "metadata": {
    "execution": {
     "iopub.execute_input": "2021-10-29T00:20:39.572723Z",
     "iopub.status.busy": "2021-10-29T00:20:39.568928Z",
     "iopub.status.idle": "2021-10-29T00:20:39.582594Z",
     "shell.execute_reply": "2021-10-29T00:20:39.581452Z"
    },
    "papermill": {
     "duration": 0.049078,
     "end_time": "2021-10-29T00:20:39.582723",
     "exception": false,
     "start_time": "2021-10-29T00:20:39.533645",
     "status": "completed"
    },
    "tags": []
   },
   "outputs": [
    {
     "data": {
      "text/plain": [
       "((11982, 28, 28), (1984, 28, 28))"
      ]
     },
     "execution_count": 13,
     "metadata": {},
     "output_type": "execute_result"
    }
   ],
   "source": [
    "X_train.shape, X_test.shape"
   ]
  },
  {
   "cell_type": "markdown",
   "id": "5ccf3f85",
   "metadata": {
    "papermill": {
     "duration": 0.031787,
     "end_time": "2021-10-29T00:20:39.647067",
     "exception": false,
     "start_time": "2021-10-29T00:20:39.615280",
     "status": "completed"
    },
    "tags": []
   },
   "source": [
    "We reshape the data to flatten the image pixels into a set of features or co-variates:"
   ]
  },
  {
   "cell_type": "code",
   "execution_count": 14,
   "id": "5286a4a3",
   "metadata": {
    "execution": {
     "iopub.execute_input": "2021-10-29T00:20:39.717649Z",
     "iopub.status.busy": "2021-10-29T00:20:39.716400Z",
     "iopub.status.idle": "2021-10-29T00:20:39.729768Z",
     "shell.execute_reply": "2021-10-29T00:20:39.730279Z"
    },
    "papermill": {
     "duration": 0.051301,
     "end_time": "2021-10-29T00:20:39.730434",
     "exception": false,
     "start_time": "2021-10-29T00:20:39.679133",
     "status": "completed"
    },
    "tags": []
   },
   "outputs": [
    {
     "data": {
      "text/plain": [
       "((11982, 784), (1984, 784))"
      ]
     },
     "execution_count": 14,
     "metadata": {},
     "output_type": "execute_result"
    }
   ],
   "source": [
    "X_train = X_train.reshape(X_train.shape[0], -1)\n",
    "X_test = X_test.reshape(X_test.shape[0], -1)\n",
    "X_train.shape, X_test.shape"
   ]
  },
  {
   "cell_type": "code",
   "execution_count": 15,
   "id": "73c5f88a",
   "metadata": {
    "execution": {
     "iopub.execute_input": "2021-10-29T00:20:39.801574Z",
     "iopub.status.busy": "2021-10-29T00:20:39.800863Z",
     "iopub.status.idle": "2021-10-29T00:20:39.820108Z",
     "shell.execute_reply": "2021-10-29T00:20:39.820588Z"
    },
    "papermill": {
     "duration": 0.056921,
     "end_time": "2021-10-29T00:20:39.820758",
     "exception": false,
     "start_time": "2021-10-29T00:20:39.763837",
     "status": "completed"
    },
    "tags": []
   },
   "outputs": [],
   "source": [
    "#Impoting functions from 'Kudzu'\n",
    "from kudzu.model import Model\n",
    "from kudzu.train import Learner\n",
    "from kudzu.optim import GD\n",
    "from kudzu.data import Data, Sampler,Dataloader\n",
    "\n",
    "from kudzu.callbacks import AccCallback\n",
    "from kudzu.callbacks import ClfCallback\n",
    "\n",
    "from kudzu.loss import MSE\n",
    "\n",
    "from kudzu.layer import Sigmoid,Relu\n",
    "from kudzu.layer import Affine"
   ]
  },
  {
   "cell_type": "markdown",
   "id": "bc01172a",
   "metadata": {
    "papermill": {
     "duration": 0.030948,
     "end_time": "2021-10-29T00:20:39.882169",
     "exception": false,
     "start_time": "2021-10-29T00:20:39.851221",
     "status": "completed"
    },
    "tags": []
   },
   "source": [
    "### Let us create a `Config` class, to store important parameters. \n",
    "This class essentially plays the role of a dictionary."
   ]
  },
  {
   "cell_type": "code",
   "execution_count": 16,
   "id": "978281aa",
   "metadata": {
    "execution": {
     "iopub.execute_input": "2021-10-29T00:20:39.953065Z",
     "iopub.status.busy": "2021-10-29T00:20:39.952416Z",
     "iopub.status.idle": "2021-10-29T00:20:39.963432Z",
     "shell.execute_reply": "2021-10-29T00:20:39.964004Z"
    },
    "papermill": {
     "duration": 0.049297,
     "end_time": "2021-10-29T00:20:39.964126",
     "exception": false,
     "start_time": "2021-10-29T00:20:39.914829",
     "status": "completed"
    },
    "tags": []
   },
   "outputs": [],
   "source": [
    "class Config:\n",
    "    pass\n",
    "config = Config()\n",
    "config.lr = 0.001\n",
    "config.num_epochs = 250\n",
    "config.bs = 50"
   ]
  },
  {
   "cell_type": "markdown",
   "id": "1385fa59",
   "metadata": {
    "papermill": {
     "duration": 0.032431,
     "end_time": "2021-10-29T00:20:40.029426",
     "exception": false,
     "start_time": "2021-10-29T00:20:39.996995",
     "status": "completed"
    },
    "tags": []
   },
   "source": [
    "### Running Models with the Training data\n",
    "Details about the network layers:\n",
    "- A first affine layer has 784 inputs and does 100 affine transforms. These are followed by a Relu\n",
    "- A second affine layer has 100 inputs from the 100 activations of the past layer, and does 100 affine transforms. These are followed by a Relu\n",
    "- A third affine layer has 100 activations and does 2 affine transformations to create an embedding for visualization. There is no non-linearity here.\n",
    "- A final \"logistic regression\" which has an affine transform from 2 inputs to 1 output, which is squeezed through a sigmoid.\n"
   ]
  },
  {
   "cell_type": "code",
   "execution_count": 17,
   "id": "2b9c66db",
   "metadata": {
    "execution": {
     "iopub.execute_input": "2021-10-29T00:20:40.094903Z",
     "iopub.status.busy": "2021-10-29T00:20:40.094323Z",
     "iopub.status.idle": "2021-10-29T00:20:40.106933Z",
     "shell.execute_reply": "2021-10-29T00:20:40.106359Z"
    },
    "papermill": {
     "duration": 0.045966,
     "end_time": "2021-10-29T00:20:40.107353",
     "exception": false,
     "start_time": "2021-10-29T00:20:40.061387",
     "status": "completed"
    },
    "tags": []
   },
   "outputs": [],
   "source": [
    "data = Data(X_train, y_train.reshape(-1,1))\n",
    "sampler = Sampler(data, config.bs, shuffle=True)\n",
    "\n",
    "dl = Dataloader(data, sampler)\n",
    "\n",
    "opt = GD(config.lr)\n",
    "loss = MSE()"
   ]
  },
  {
   "cell_type": "code",
   "execution_count": 18,
   "id": "b275e4c2",
   "metadata": {
    "execution": {
     "iopub.execute_input": "2021-10-29T00:20:40.175021Z",
     "iopub.status.busy": "2021-10-29T00:20:40.174419Z",
     "iopub.status.idle": "2021-10-29T00:20:40.186525Z",
     "shell.execute_reply": "2021-10-29T00:20:40.185986Z"
    },
    "papermill": {
     "duration": 0.04646,
     "end_time": "2021-10-29T00:20:40.186720",
     "exception": false,
     "start_time": "2021-10-29T00:20:40.140260",
     "status": "completed"
    },
    "tags": []
   },
   "outputs": [],
   "source": [
    "training_data_x = X_train\n",
    "testing_data_x = X_test\n",
    "training_data_y = y_train.reshape(-1,1)\n",
    "testing_data_y = y_test.reshape(-1,1)"
   ]
  },
  {
   "cell_type": "code",
   "execution_count": 19,
   "id": "76951160",
   "metadata": {
    "execution": {
     "iopub.execute_input": "2021-10-29T00:20:40.256355Z",
     "iopub.status.busy": "2021-10-29T00:20:40.255724Z",
     "iopub.status.idle": "2021-10-29T00:20:40.271164Z",
     "shell.execute_reply": "2021-10-29T00:20:40.271813Z"
    },
    "papermill": {
     "duration": 0.052196,
     "end_time": "2021-10-29T00:20:40.271931",
     "exception": false,
     "start_time": "2021-10-29T00:20:40.219735",
     "status": "completed"
    },
    "tags": []
   },
   "outputs": [
    {
     "name": "stdout",
     "output_type": "stream",
     "text": [
      "xavier\n",
      "xavier\n",
      "xavier\n",
      "xavier\n",
      "xavier\n"
     ]
    }
   ],
   "source": [
    "layers = [Affine(\"first\", 784, 100), Relu(\"first\"), Affine(\"second\", 100, 100), Relu(\"second\"), Affine(\"third\", 100, 2), Affine(\"last\", 2, 1), Sigmoid(\"last\")]\n",
    "model_nn = Model(layers)\n",
    "model_lr = Model([Affine(\"logits\", 784, 1), Sigmoid(\"sigmoid\")])"
   ]
  },
  {
   "cell_type": "code",
   "execution_count": 20,
   "id": "6eede77a",
   "metadata": {
    "execution": {
     "iopub.execute_input": "2021-10-29T00:20:40.347297Z",
     "iopub.status.busy": "2021-10-29T00:20:40.346714Z",
     "iopub.status.idle": "2021-10-29T00:20:40.361617Z",
     "shell.execute_reply": "2021-10-29T00:20:40.361036Z"
    },
    "papermill": {
     "duration": 0.053867,
     "end_time": "2021-10-29T00:20:40.361741",
     "exception": false,
     "start_time": "2021-10-29T00:20:40.307874",
     "status": "completed"
    },
    "tags": []
   },
   "outputs": [],
   "source": [
    "nn_learner = Learner(loss, model_nn, opt, config.num_epochs)\n",
    "acc_nn = ClfCallback(nn_learner, config.bs, training_data_x , testing_data_x, training_data_y, testing_data_y)\n",
    "nn_learner.set_callbacks([acc_nn])"
   ]
  },
  {
   "cell_type": "code",
   "execution_count": 21,
   "id": "877b6cc7",
   "metadata": {
    "execution": {
     "iopub.execute_input": "2021-10-29T00:20:40.437157Z",
     "iopub.status.busy": "2021-10-29T00:20:40.436591Z",
     "iopub.status.idle": "2021-10-29T00:20:40.447082Z",
     "shell.execute_reply": "2021-10-29T00:20:40.447581Z"
    },
    "papermill": {
     "duration": 0.049933,
     "end_time": "2021-10-29T00:20:40.447710",
     "exception": false,
     "start_time": "2021-10-29T00:20:40.397777",
     "status": "completed"
    },
    "tags": []
   },
   "outputs": [],
   "source": [
    "lr_learner = Learner(loss, model_lr, opt, config.num_epochs)\n",
    "acc_lr = ClfCallback(lr_learner, config.bs, training_data_x , testing_data_x, training_data_y, testing_data_y)\n",
    "lr_learner.set_callbacks([acc_lr])"
   ]
  },
  {
   "cell_type": "code",
   "execution_count": 22,
   "id": "d9b133c3",
   "metadata": {
    "execution": {
     "iopub.execute_input": "2021-10-29T00:20:40.516539Z",
     "iopub.status.busy": "2021-10-29T00:20:40.515964Z",
     "iopub.status.idle": "2021-10-29T00:23:01.196151Z",
     "shell.execute_reply": "2021-10-29T00:23:01.196966Z"
    },
    "papermill": {
     "duration": 140.717704,
     "end_time": "2021-10-29T00:23:01.197136",
     "exception": false,
     "start_time": "2021-10-29T00:20:40.479432",
     "status": "completed"
    },
    "tags": []
   },
   "outputs": [
    {
     "name": "stdout",
     "output_type": "stream",
     "text": [
      "Epoch 0, Loss 0.2657\n",
      "Training Accuracy: 0.5651, Testing Accuracy: 0.5590\n",
      "\n"
     ]
    },
    {
     "name": "stdout",
     "output_type": "stream",
     "text": [
      "Epoch 10, Loss 0.088\n",
      "Training Accuracy: 0.9135, Testing Accuracy: 0.9289\n",
      "\n"
     ]
    },
    {
     "name": "stdout",
     "output_type": "stream",
     "text": [
      "Epoch 20, Loss 0.0537\n",
      "Training Accuracy: 0.9438, Testing Accuracy: 0.9531\n",
      "\n"
     ]
    },
    {
     "name": "stdout",
     "output_type": "stream",
     "text": [
      "Epoch 30, Loss 0.0425\n",
      "Training Accuracy: 0.9523, Testing Accuracy: 0.9597\n",
      "\n"
     ]
    },
    {
     "name": "stdout",
     "output_type": "stream",
     "text": [
      "Epoch 40, Loss 0.037\n",
      "Training Accuracy: 0.9577, Testing Accuracy: 0.9662\n",
      "\n"
     ]
    },
    {
     "name": "stdout",
     "output_type": "stream",
     "text": [
      "Epoch 50, Loss 0.0335\n",
      "Training Accuracy: 0.9617, Testing Accuracy: 0.9698\n",
      "\n"
     ]
    },
    {
     "name": "stdout",
     "output_type": "stream",
     "text": [
      "Epoch 60, Loss 0.0311\n",
      "Training Accuracy: 0.9641, Testing Accuracy: 0.9693\n",
      "\n"
     ]
    },
    {
     "name": "stdout",
     "output_type": "stream",
     "text": [
      "Epoch 70, Loss 0.0292\n",
      "Training Accuracy: 0.9659, Testing Accuracy: 0.9698\n",
      "\n"
     ]
    },
    {
     "name": "stdout",
     "output_type": "stream",
     "text": [
      "Epoch 80, Loss 0.0278\n",
      "Training Accuracy: 0.9673, Testing Accuracy: 0.9703\n",
      "\n"
     ]
    },
    {
     "name": "stdout",
     "output_type": "stream",
     "text": [
      "Epoch 90, Loss 0.0265\n",
      "Training Accuracy: 0.9687, Testing Accuracy: 0.9713\n",
      "\n"
     ]
    },
    {
     "name": "stdout",
     "output_type": "stream",
     "text": [
      "Epoch 100, Loss 0.0254\n",
      "Training Accuracy: 0.9699, Testing Accuracy: 0.9708\n",
      "\n"
     ]
    },
    {
     "name": "stdout",
     "output_type": "stream",
     "text": [
      "Epoch 110, Loss 0.0245\n",
      "Training Accuracy: 0.9711, Testing Accuracy: 0.9718\n",
      "\n"
     ]
    },
    {
     "name": "stdout",
     "output_type": "stream",
     "text": [
      "Epoch 120, Loss 0.0237\n",
      "Training Accuracy: 0.9719, Testing Accuracy: 0.9718\n",
      "\n"
     ]
    },
    {
     "name": "stdout",
     "output_type": "stream",
     "text": [
      "Epoch 130, Loss 0.0229\n",
      "Training Accuracy: 0.9724, Testing Accuracy: 0.9733\n",
      "\n"
     ]
    },
    {
     "name": "stdout",
     "output_type": "stream",
     "text": [
      "Epoch 140, Loss 0.0222\n",
      "Training Accuracy: 0.9735, Testing Accuracy: 0.9723\n",
      "\n"
     ]
    },
    {
     "name": "stdout",
     "output_type": "stream",
     "text": [
      "Epoch 150, Loss 0.0216\n",
      "Training Accuracy: 0.9746, Testing Accuracy: 0.9743\n",
      "\n"
     ]
    },
    {
     "name": "stdout",
     "output_type": "stream",
     "text": [
      "Epoch 160, Loss 0.021\n",
      "Training Accuracy: 0.9753, Testing Accuracy: 0.9748\n",
      "\n"
     ]
    },
    {
     "name": "stdout",
     "output_type": "stream",
     "text": [
      "Epoch 170, Loss 0.0204\n",
      "Training Accuracy: 0.9763, Testing Accuracy: 0.9743\n",
      "\n"
     ]
    },
    {
     "name": "stdout",
     "output_type": "stream",
     "text": [
      "Epoch 180, Loss 0.0199\n",
      "Training Accuracy: 0.9770, Testing Accuracy: 0.9753\n",
      "\n"
     ]
    },
    {
     "name": "stdout",
     "output_type": "stream",
     "text": [
      "Epoch 190, Loss 0.0193\n",
      "Training Accuracy: 0.9780, Testing Accuracy: 0.9753\n",
      "\n"
     ]
    },
    {
     "name": "stdout",
     "output_type": "stream",
     "text": [
      "Epoch 200, Loss 0.0188\n",
      "Training Accuracy: 0.9788, Testing Accuracy: 0.9753\n",
      "\n"
     ]
    },
    {
     "name": "stdout",
     "output_type": "stream",
     "text": [
      "Epoch 210, Loss 0.0183\n",
      "Training Accuracy: 0.9799, Testing Accuracy: 0.9753\n",
      "\n"
     ]
    },
    {
     "name": "stdout",
     "output_type": "stream",
     "text": [
      "Epoch 220, Loss 0.0179\n",
      "Training Accuracy: 0.9809, Testing Accuracy: 0.9763\n",
      "\n"
     ]
    },
    {
     "name": "stdout",
     "output_type": "stream",
     "text": [
      "Epoch 230, Loss 0.0174\n",
      "Training Accuracy: 0.9811, Testing Accuracy: 0.9773\n",
      "\n"
     ]
    },
    {
     "name": "stdout",
     "output_type": "stream",
     "text": [
      "Epoch 240, Loss 0.017\n",
      "Training Accuracy: 0.9816, Testing Accuracy: 0.9773\n",
      "\n"
     ]
    },
    {
     "data": {
      "text/plain": [
       "0.023278176084200672"
      ]
     },
     "execution_count": 22,
     "metadata": {},
     "output_type": "execute_result"
    }
   ],
   "source": [
    "nn_learner.train_loop(dl)"
   ]
  },
  {
   "cell_type": "code",
   "execution_count": 23,
   "id": "e0163366",
   "metadata": {
    "execution": {
     "iopub.execute_input": "2021-10-29T00:23:01.297263Z",
     "iopub.status.busy": "2021-10-29T00:23:01.296601Z",
     "iopub.status.idle": "2021-10-29T00:23:21.174962Z",
     "shell.execute_reply": "2021-10-29T00:23:21.176012Z"
    },
    "papermill": {
     "duration": 19.935816,
     "end_time": "2021-10-29T00:23:21.176180",
     "exception": false,
     "start_time": "2021-10-29T00:23:01.240364",
     "status": "completed"
    },
    "tags": []
   },
   "outputs": [
    {
     "name": "stdout",
     "output_type": "stream",
     "text": [
      "Epoch 0, Loss 0.2564\n",
      "Training Accuracy: 0.6398, Testing Accuracy: 0.6452\n",
      "\n"
     ]
    },
    {
     "name": "stdout",
     "output_type": "stream",
     "text": [
      "Epoch 10, Loss 0.1057\n",
      "Training Accuracy: 0.9024, Testing Accuracy: 0.9042\n",
      "\n"
     ]
    },
    {
     "name": "stdout",
     "output_type": "stream",
     "text": [
      "Epoch 20, Loss 0.081\n",
      "Training Accuracy: 0.9246, Testing Accuracy: 0.9309\n",
      "\n"
     ]
    },
    {
     "name": "stdout",
     "output_type": "stream",
     "text": [
      "Epoch 30, Loss 0.0695\n",
      "Training Accuracy: 0.9342, Testing Accuracy: 0.9435\n",
      "\n"
     ]
    },
    {
     "name": "stdout",
     "output_type": "stream",
     "text": [
      "Epoch 40, Loss 0.0626\n",
      "Training Accuracy: 0.9389, Testing Accuracy: 0.9486\n",
      "\n"
     ]
    },
    {
     "name": "stdout",
     "output_type": "stream",
     "text": [
      "Epoch 50, Loss 0.0579\n",
      "Training Accuracy: 0.9426, Testing Accuracy: 0.9521\n",
      "\n"
     ]
    },
    {
     "name": "stdout",
     "output_type": "stream",
     "text": [
      "Epoch 60, Loss 0.0545\n",
      "Training Accuracy: 0.9452, Testing Accuracy: 0.9541\n",
      "\n"
     ]
    },
    {
     "name": "stdout",
     "output_type": "stream",
     "text": [
      "Epoch 70, Loss 0.0518\n",
      "Training Accuracy: 0.9474, Testing Accuracy: 0.9587\n",
      "\n"
     ]
    },
    {
     "name": "stdout",
     "output_type": "stream",
     "text": [
      "Epoch 80, Loss 0.0497\n",
      "Training Accuracy: 0.9498, Testing Accuracy: 0.9592\n",
      "\n"
     ]
    },
    {
     "name": "stdout",
     "output_type": "stream",
     "text": [
      "Epoch 90, Loss 0.048\n",
      "Training Accuracy: 0.9513, Testing Accuracy: 0.9597\n",
      "\n"
     ]
    },
    {
     "name": "stdout",
     "output_type": "stream",
     "text": [
      "Epoch 100, Loss 0.0465\n",
      "Training Accuracy: 0.9528, Testing Accuracy: 0.9607\n",
      "\n"
     ]
    },
    {
     "name": "stdout",
     "output_type": "stream",
     "text": [
      "Epoch 110, Loss 0.0453\n",
      "Training Accuracy: 0.9539, Testing Accuracy: 0.9612\n",
      "\n"
     ]
    },
    {
     "name": "stdout",
     "output_type": "stream",
     "text": [
      "Epoch 120, Loss 0.0442\n",
      "Training Accuracy: 0.9545, Testing Accuracy: 0.9632\n",
      "\n"
     ]
    },
    {
     "name": "stdout",
     "output_type": "stream",
     "text": [
      "Epoch 130, Loss 0.0432\n",
      "Training Accuracy: 0.9554, Testing Accuracy: 0.9637\n",
      "\n"
     ]
    },
    {
     "name": "stdout",
     "output_type": "stream",
     "text": [
      "Epoch 140, Loss 0.0424\n",
      "Training Accuracy: 0.9564, Testing Accuracy: 0.9637\n",
      "\n"
     ]
    },
    {
     "name": "stdout",
     "output_type": "stream",
     "text": [
      "Epoch 150, Loss 0.0416\n",
      "Training Accuracy: 0.9573, Testing Accuracy: 0.9637\n",
      "\n"
     ]
    },
    {
     "name": "stdout",
     "output_type": "stream",
     "text": [
      "Epoch 160, Loss 0.0409\n",
      "Training Accuracy: 0.9580, Testing Accuracy: 0.9637\n",
      "\n"
     ]
    },
    {
     "name": "stdout",
     "output_type": "stream",
     "text": [
      "Epoch 170, Loss 0.0403\n",
      "Training Accuracy: 0.9584, Testing Accuracy: 0.9637\n",
      "\n"
     ]
    },
    {
     "name": "stdout",
     "output_type": "stream",
     "text": [
      "Epoch 180, Loss 0.0397\n",
      "Training Accuracy: 0.9587, Testing Accuracy: 0.9647\n",
      "\n"
     ]
    },
    {
     "name": "stdout",
     "output_type": "stream",
     "text": [
      "Epoch 190, Loss 0.0392\n",
      "Training Accuracy: 0.9592, Testing Accuracy: 0.9662\n",
      "\n"
     ]
    },
    {
     "name": "stdout",
     "output_type": "stream",
     "text": [
      "Epoch 200, Loss 0.0387\n",
      "Training Accuracy: 0.9594, Testing Accuracy: 0.9667\n",
      "\n"
     ]
    },
    {
     "name": "stdout",
     "output_type": "stream",
     "text": [
      "Epoch 210, Loss 0.0382\n",
      "Training Accuracy: 0.9597, Testing Accuracy: 0.9672\n",
      "\n"
     ]
    },
    {
     "name": "stdout",
     "output_type": "stream",
     "text": [
      "Epoch 220, Loss 0.0378\n",
      "Training Accuracy: 0.9601, Testing Accuracy: 0.9672\n",
      "\n"
     ]
    },
    {
     "name": "stdout",
     "output_type": "stream",
     "text": [
      "Epoch 230, Loss 0.0374\n",
      "Training Accuracy: 0.9604, Testing Accuracy: 0.9677\n",
      "\n"
     ]
    },
    {
     "name": "stdout",
     "output_type": "stream",
     "text": [
      "Epoch 240, Loss 0.0371\n",
      "Training Accuracy: 0.9609, Testing Accuracy: 0.9677\n",
      "\n"
     ]
    },
    {
     "data": {
      "text/plain": [
       "0.024551739711289638"
      ]
     },
     "execution_count": 23,
     "metadata": {},
     "output_type": "execute_result"
    }
   ],
   "source": [
    "lr_learner.train_loop(dl)"
   ]
  },
  {
   "cell_type": "code",
   "execution_count": 24,
   "id": "ca410940",
   "metadata": {
    "execution": {
     "iopub.execute_input": "2021-10-29T00:23:21.289253Z",
     "iopub.status.busy": "2021-10-29T00:23:21.288596Z",
     "iopub.status.idle": "2021-10-29T00:23:21.566395Z",
     "shell.execute_reply": "2021-10-29T00:23:21.566927Z"
    },
    "papermill": {
     "duration": 0.339584,
     "end_time": "2021-10-29T00:23:21.567131",
     "exception": false,
     "start_time": "2021-10-29T00:23:21.227547",
     "status": "completed"
    },
    "tags": []
   },
   "outputs": [
    {
     "data": {
      "text/plain": [
       "<matplotlib.legend.Legend at 0x7f1580714978>"
      ]
     },
     "execution_count": 24,
     "metadata": {},
     "output_type": "execute_result"
    },
    {
     "data": {
      "image/png": "[encoded data removed]",
      "text/plain": [
       "<Figure size 1080x720 with 1 Axes>"
      ]
     },
     "metadata": {
      "needs_background": "light"
     },
     "output_type": "display_data"
    }
   ],
   "source": [
    "#comparing the results of NN and LR\n",
    "plt.figure(figsize=(15,10))\n",
    "\n",
    "# Neural Network plots\n",
    "plt.plot(acc_nn.accuracies, 'r-', label = \"Training Accuracies - NN\")\n",
    "plt.plot(acc_nn.test_accuracies, 'g-', label = \"Testing Accuracies - NN\")\n",
    "\n",
    "# Logistic Regression plots\n",
    "plt.plot(acc_lr.accuracies, 'k-', label = \"Training Accuracies - LR\")\n",
    "plt.plot(acc_lr.test_accuracies, 'b-', label = \"Testing Accuracies - LR\")\n",
    "plt.legend()"
   ]
  },
  {
   "cell_type": "markdown",
   "id": "80dfb35c",
   "metadata": {
    "papermill": {
     "duration": 0.05125,
     "end_time": "2021-10-29T00:23:21.670579",
     "exception": false,
     "start_time": "2021-10-29T00:23:21.619329",
     "status": "completed"
    },
    "tags": []
   },
   "source": [
    "#### Plotting the outputs of this layer of the NN.\n"
   ]
  },
  {
   "cell_type": "code",
   "execution_count": 25,
   "id": "45eb2ff5",
   "metadata": {
    "execution": {
     "iopub.execute_input": "2021-10-29T00:23:21.776944Z",
     "iopub.status.busy": "2021-10-29T00:23:21.774651Z",
     "iopub.status.idle": "2021-10-29T00:23:21.802027Z",
     "shell.execute_reply": "2021-10-29T00:23:21.802520Z"
    },
    "papermill": {
     "duration": 0.081016,
     "end_time": "2021-10-29T00:23:21.802651",
     "exception": false,
     "start_time": "2021-10-29T00:23:21.721635",
     "status": "completed"
    },
    "tags": []
   },
   "outputs": [],
   "source": [
    "new_model = Model(layers[:-2])\n",
    "testing_plot = new_model(testing_data_x)"
   ]
  },
  {
   "cell_type": "code",
   "execution_count": 26,
   "id": "4c0a5485",
   "metadata": {
    "execution": {
     "iopub.execute_input": "2021-10-29T00:23:21.922371Z",
     "iopub.status.busy": "2021-10-29T00:23:21.921250Z",
     "iopub.status.idle": "2021-10-29T00:23:22.169415Z",
     "shell.execute_reply": "2021-10-29T00:23:22.168860Z"
    },
    "papermill": {
     "duration": 0.304776,
     "end_time": "2021-10-29T00:23:22.169537",
     "exception": false,
     "start_time": "2021-10-29T00:23:21.864761",
     "status": "completed"
    },
    "tags": []
   },
   "outputs": [
    {
     "data": {
      "text/plain": [
       "Text(0.5, 1.0, 'Outputs')"
      ]
     },
     "execution_count": 26,
     "metadata": {},
     "output_type": "execute_result"
    },
    {
     "data": {
      "image/png": "[encoded data removed]",
      "text/plain": [
       "<Figure size 576x504 with 1 Axes>"
      ]
     },
     "metadata": {
      "needs_background": "light"
     },
     "output_type": "display_data"
    }
   ],
   "source": [
    "# Plotting the scatter plot of points and color coding by class\n",
    "plt.figure(figsize=(8,7))\n",
    "plt.scatter(testing_plot[:,0], testing_plot[:,1], alpha = 0.1, c = y_test.ravel());\n",
    "plt.title('Outputs')"
   ]
  },
  {
   "cell_type": "markdown",
   "id": "a74fcf8f",
   "metadata": {
    "papermill": {
     "duration": 0.050235,
     "end_time": "2021-10-29T00:23:22.272223",
     "exception": false,
     "start_time": "2021-10-29T00:23:22.221988",
     "status": "completed"
    },
    "tags": []
   },
   "source": [
    "Probability contours"
   ]
  },
  {
   "cell_type": "code",
   "execution_count": 27,
   "id": "d0afc8e3",
   "metadata": {
    "execution": {
     "iopub.execute_input": "2021-10-29T00:23:22.400890Z",
     "iopub.status.busy": "2021-10-29T00:23:22.400296Z",
     "iopub.status.idle": "2021-10-29T00:23:22.412804Z",
     "shell.execute_reply": "2021-10-29T00:23:22.413337Z"
    },
    "papermill": {
     "duration": 0.090079,
     "end_time": "2021-10-29T00:23:22.413608",
     "exception": false,
     "start_time": "2021-10-29T00:23:22.323529",
     "status": "completed"
    },
    "tags": []
   },
   "outputs": [],
   "source": [
    "model_prob = Model(layers[-2:]) "
   ]
  },
  {
   "cell_type": "code",
   "execution_count": 28,
   "id": "9b96e238",
   "metadata": {
    "execution": {
     "iopub.execute_input": "2021-10-29T00:23:22.523796Z",
     "iopub.status.busy": "2021-10-29T00:23:22.523189Z",
     "iopub.status.idle": "2021-10-29T00:23:22.536473Z",
     "shell.execute_reply": "2021-10-29T00:23:22.537022Z"
    },
    "papermill": {
     "duration": 0.069542,
     "end_time": "2021-10-29T00:23:22.537169",
     "exception": false,
     "start_time": "2021-10-29T00:23:22.467627",
     "status": "completed"
    },
    "tags": []
   },
   "outputs": [],
   "source": [
    "#creating the x and y ranges according to the above generated plot.\n",
    "x_range = np.linspace(-4, 1, 100) \n",
    "y_range = np.linspace(-6, 6, 100) \n",
    "x_grid, y_grid = np.meshgrid(x_range, y_range) # x_grid and y_grig are of size 100 X 100\n",
    "\n",
    "# converting x_grid and y_grid to continuous arrays\n",
    "x_gridflat = np.ravel(x_grid)\n",
    "y_gridflat = np.ravel(y_grid)\n",
    "\n",
    "# The last layer of the current model takes two columns as input. Hence transpose of np.vstack() is required.\n",
    "X = np.vstack((x_gridflat, y_gridflat)).T\n",
    "\n",
    "prob_contour = model_prob(X).reshape(100,100) "
   ]
  },
  {
   "cell_type": "code",
   "execution_count": 29,
   "id": "da72499a",
   "metadata": {
    "execution": {
     "iopub.execute_input": "2021-10-29T00:23:22.653621Z",
     "iopub.status.busy": "2021-10-29T00:23:22.653097Z",
     "iopub.status.idle": "2021-10-29T00:23:22.978731Z",
     "shell.execute_reply": "2021-10-29T00:23:22.979209Z"
    },
    "papermill": {
     "duration": 0.380822,
     "end_time": "2021-10-29T00:23:22.979402",
     "exception": false,
     "start_time": "2021-10-29T00:23:22.598580",
     "status": "completed"
    },
    "tags": []
   },
   "outputs": [
    {
     "data": {
      "image/png": "[encoded data removed]",
      "text/plain": [
       "<Figure size 720x648 with 1 Axes>"
      ]
     },
     "metadata": {
      "needs_background": "light"
     },
     "output_type": "display_data"
    }
   ],
   "source": [
    "plt.figure(figsize=(10,9))\n",
    "plt.scatter(testing_plot[:,0], testing_plot[:,1], alpha = 0.1, c = y_test.ravel())\n",
    "contours = plt.contour(x_grid,y_grid,prob_contour)\n",
    "plt.title('Probability Contours')\n",
    "plt.clabel(contours, inline = True );"
   ]
  },
  {
   "cell_type": "code",
   "execution_count": null,
   "id": "e81b4ac7",
   "metadata": {
    "papermill": {
     "duration": 0.052159,
     "end_time": "2021-10-29T00:23:23.086640",
     "exception": false,
     "start_time": "2021-10-29T00:23:23.034481",
     "status": "completed"
    },
    "tags": []
   },
   "outputs": [],
   "source": []
  }
 ],
 "metadata": {
  "kernelspec": {
   "display_name": "Python 3",
   "language": "python",
   "name": "python3"
  },
  "language_info": {
   "codemirror_mode": {
    "name": "ipython",
    "version": 3
   },
   "file_extension": ".py",
   "mimetype": "text/x-python",
   "name": "python",
   "nbconvert_exporter": "python",
   "pygments_lexer": "ipython3",
   "version": "3.6.15"
  },
  "papermill": {
   "default_parameters": {},
   "duration": 169.958072,
   "end_time": "2021-10-29T00:23:23.451467",
   "environment_variables": {},
   "exception": null,
   "input_path": "2020-08-11-part2.ipynb",
   "output_path": "2020-08-11-part2.ipynb",
   "parameters": {},
   "start_time": "2021-10-29T00:20:33.493395",
   "version": "2.3.3"
  }
 },
 "nbformat": 4,
 "nbformat_minor": 5
}