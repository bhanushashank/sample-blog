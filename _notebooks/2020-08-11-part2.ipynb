{
 "cells": [
  {
   "cell_type": "markdown",
   "id": "98380cd3",
   "metadata": {
    "papermill": {
     "duration": 0.0347,
     "end_time": "2021-09-05T20:07:23.379986",
     "exception": false,
     "start_time": "2021-09-05T20:07:23.345286",
     "status": "completed"
    },
    "tags": []
   },
   "source": [
    "# Distinguish Your Own Digits (DYOD)"
   ]
  },
  {
   "cell_type": "markdown",
   "id": "ef31240d",
   "metadata": {
    "papermill": {
     "duration": 0.026816,
     "end_time": "2021-09-05T20:07:23.435293",
     "exception": false,
     "start_time": "2021-09-05T20:07:23.408477",
     "status": "completed"
    },
    "tags": []
   },
   "source": [
    "You are going to write a classifier that distinguishes between the number 3 and number 8."
   ]
  },
  {
   "cell_type": "code",
   "execution_count": 1,
   "id": "b15c8646",
   "metadata": {
    "execution": {
     "iopub.execute_input": "2021-09-05T20:07:23.502845Z",
     "iopub.status.busy": "2021-09-05T20:07:23.497821Z",
     "iopub.status.idle": "2021-09-05T20:07:23.515615Z",
     "shell.execute_reply": "2021-09-05T20:07:23.514917Z"
    },
    "papermill": {
     "duration": 0.053883,
     "end_time": "2021-09-05T20:07:23.515808",
     "exception": false,
     "start_time": "2021-09-05T20:07:23.461925",
     "status": "completed"
    },
    "tags": []
   },
   "outputs": [],
   "source": [
    "%load_ext autoreload\n",
    "%autoreload 2"
   ]
  },
  {
   "cell_type": "code",
   "execution_count": 2,
   "id": "22ef38dc",
   "metadata": {
    "execution": {
     "iopub.execute_input": "2021-09-05T20:07:23.578914Z",
     "iopub.status.busy": "2021-09-05T20:07:23.578304Z",
     "iopub.status.idle": "2021-09-05T20:07:24.177385Z",
     "shell.execute_reply": "2021-09-05T20:07:24.176832Z"
    },
    "papermill": {
     "duration": 0.633215,
     "end_time": "2021-09-05T20:07:24.177529",
     "exception": false,
     "start_time": "2021-09-05T20:07:23.544314",
     "status": "completed"
    },
    "tags": []
   },
   "outputs": [],
   "source": [
    "%matplotlib inline\n",
    "import numpy as np\n",
    "import matplotlib.pyplot as plt\n",
    "import pandas as pd"
   ]
  },
  {
   "cell_type": "markdown",
   "id": "ba036198",
   "metadata": {
    "papermill": {
     "duration": 0.028369,
     "end_time": "2021-09-05T20:07:24.233317",
     "exception": false,
     "start_time": "2021-09-05T20:07:24.204948",
     "status": "completed"
    },
    "tags": []
   },
   "source": [
    "From the command line run `pip install mnist`. This is a library that will help you bring down the mnist dataset. If you run this from a notebook, you need to put  `!pip install mnist` in a cell by itself."
   ]
  },
  {
   "cell_type": "code",
   "execution_count": 3,
   "id": "bb6ad8a1",
   "metadata": {
    "execution": {
     "iopub.execute_input": "2021-09-05T20:07:24.291963Z",
     "iopub.status.busy": "2021-09-05T20:07:24.291275Z",
     "iopub.status.idle": "2021-09-05T20:07:27.013329Z",
     "shell.execute_reply": "2021-09-05T20:07:27.011925Z"
    },
    "papermill": {
     "duration": 2.753517,
     "end_time": "2021-09-05T20:07:27.013548",
     "exception": false,
     "start_time": "2021-09-05T20:07:24.260031",
     "status": "completed"
    },
    "tags": []
   },
   "outputs": [
    {
     "name": "stdout",
     "output_type": "stream",
     "text": [
      "Collecting mnist\r\n"
     ]
    },
    {
     "name": "stdout",
     "output_type": "stream",
     "text": [
      "  Downloading mnist-0.2.2-py2.py3-none-any.whl (3.5 kB)\r\n",
      "Requirement already satisfied: numpy in /opt/hostedtoolcache/Python/3.6.14/x64/lib/python3.6/site-packages (from mnist) (1.19.5)\r\n"
     ]
    },
    {
     "name": "stdout",
     "output_type": "stream",
     "text": [
      "Installing collected packages: mnist\r\n"
     ]
    },
    {
     "name": "stdout",
     "output_type": "stream",
     "text": [
      "Successfully installed mnist-0.2.2\r\n"
     ]
    }
   ],
   "source": [
    "!pip install mnist"
   ]
  },
  {
   "cell_type": "markdown",
   "id": "69df9c9a",
   "metadata": {
    "papermill": {
     "duration": 0.02826,
     "end_time": "2021-09-05T20:07:27.071144",
     "exception": false,
     "start_time": "2021-09-05T20:07:27.042884",
     "status": "completed"
    },
    "tags": []
   },
   "source": [
    "## Preparing the Data"
   ]
  },
  {
   "cell_type": "code",
   "execution_count": 4,
   "id": "7f69d806",
   "metadata": {
    "execution": {
     "iopub.execute_input": "2021-09-05T20:07:27.132501Z",
     "iopub.status.busy": "2021-09-05T20:07:27.131444Z",
     "iopub.status.idle": "2021-09-05T20:07:27.154535Z",
     "shell.execute_reply": "2021-09-05T20:07:27.153823Z"
    },
    "papermill": {
     "duration": 0.055427,
     "end_time": "2021-09-05T20:07:27.154706",
     "exception": false,
     "start_time": "2021-09-05T20:07:27.099279",
     "status": "completed"
    },
    "tags": []
   },
   "outputs": [],
   "source": [
    "import mnist"
   ]
  },
  {
   "cell_type": "code",
   "execution_count": 5,
   "id": "a411e44f",
   "metadata": {
    "execution": {
     "iopub.execute_input": "2021-09-05T20:07:27.217002Z",
     "iopub.status.busy": "2021-09-05T20:07:27.216369Z",
     "iopub.status.idle": "2021-09-05T20:07:27.810868Z",
     "shell.execute_reply": "2021-09-05T20:07:27.810322Z"
    },
    "papermill": {
     "duration": 0.626755,
     "end_time": "2021-09-05T20:07:27.811007",
     "exception": false,
     "start_time": "2021-09-05T20:07:27.184252",
     "status": "completed"
    },
    "tags": []
   },
   "outputs": [],
   "source": [
    "train_images = mnist.train_images()\n",
    "train_labels = mnist.train_labels()"
   ]
  },
  {
   "cell_type": "code",
   "execution_count": 6,
   "id": "dceab3a5",
   "metadata": {
    "execution": {
     "iopub.execute_input": "2021-09-05T20:07:27.872515Z",
     "iopub.status.busy": "2021-09-05T20:07:27.871897Z",
     "iopub.status.idle": "2021-09-05T20:07:27.889377Z",
     "shell.execute_reply": "2021-09-05T20:07:27.888841Z"
    },
    "papermill": {
     "duration": 0.050074,
     "end_time": "2021-09-05T20:07:27.889509",
     "exception": false,
     "start_time": "2021-09-05T20:07:27.839435",
     "status": "completed"
    },
    "tags": []
   },
   "outputs": [
    {
     "data": {
      "text/plain": [
       "((60000, 28, 28), (60000,))"
      ]
     },
     "execution_count": 6,
     "metadata": {},
     "output_type": "execute_result"
    }
   ],
   "source": [
    "train_images.shape, train_labels.shape"
   ]
  },
  {
   "cell_type": "code",
   "execution_count": 7,
   "id": "f50dc2bb",
   "metadata": {
    "execution": {
     "iopub.execute_input": "2021-09-05T20:07:27.953580Z",
     "iopub.status.busy": "2021-09-05T20:07:27.953025Z",
     "iopub.status.idle": "2021-09-05T20:07:28.105775Z",
     "shell.execute_reply": "2021-09-05T20:07:28.105168Z"
    },
    "papermill": {
     "duration": 0.186934,
     "end_time": "2021-09-05T20:07:28.105932",
     "exception": false,
     "start_time": "2021-09-05T20:07:27.918998",
     "status": "completed"
    },
    "tags": []
   },
   "outputs": [],
   "source": [
    "test_images = mnist.test_images()\n",
    "test_labels = mnist.test_labels()"
   ]
  },
  {
   "cell_type": "code",
   "execution_count": 8,
   "id": "fc38cf1b",
   "metadata": {
    "execution": {
     "iopub.execute_input": "2021-09-05T20:07:28.168852Z",
     "iopub.status.busy": "2021-09-05T20:07:28.168225Z",
     "iopub.status.idle": "2021-09-05T20:07:28.184859Z",
     "shell.execute_reply": "2021-09-05T20:07:28.185455Z"
    },
    "papermill": {
     "duration": 0.049966,
     "end_time": "2021-09-05T20:07:28.185610",
     "exception": false,
     "start_time": "2021-09-05T20:07:28.135644",
     "status": "completed"
    },
    "tags": []
   },
   "outputs": [
    {
     "data": {
      "text/plain": [
       "((10000, 28, 28), (10000,))"
      ]
     },
     "execution_count": 8,
     "metadata": {},
     "output_type": "execute_result"
    }
   ],
   "source": [
    "test_images.shape, test_labels.shape"
   ]
  },
  {
   "cell_type": "code",
   "execution_count": 9,
   "id": "f9ed8fe0",
   "metadata": {
    "execution": {
     "iopub.execute_input": "2021-09-05T20:07:28.247007Z",
     "iopub.status.busy": "2021-09-05T20:07:28.246437Z",
     "iopub.status.idle": "2021-09-05T20:07:28.405896Z",
     "shell.execute_reply": "2021-09-05T20:07:28.405342Z"
    },
    "papermill": {
     "duration": 0.192203,
     "end_time": "2021-09-05T20:07:28.406025",
     "exception": false,
     "start_time": "2021-09-05T20:07:28.213822",
     "status": "completed"
    },
    "tags": []
   },
   "outputs": [
    {
     "name": "stdout",
     "output_type": "stream",
     "text": [
      "2\n"
     ]
    },
    {
     "data": {
      "text/plain": [
       "<matplotlib.image.AxesImage at 0x7f575eaf4d68>"
      ]
     },
     "execution_count": 9,
     "metadata": {},
     "output_type": "execute_result"
    },
    {
     "data": {
      "image/png": "[encoded data removed]",
      "text/plain": [
       "<Figure size 432x288 with 1 Axes>"
      ]
     },
     "metadata": {
      "needs_background": "light"
     },
     "output_type": "display_data"
    }
   ],
   "source": [
    "image_index = 7776 # You may select anything up to 60,000\n",
    "print(train_labels[image_index]) \n",
    "plt.imshow(train_images[image_index], cmap='Greys')"
   ]
  },
  {
   "cell_type": "markdown",
   "id": "a8d2388d",
   "metadata": {
    "papermill": {
     "duration": 0.029888,
     "end_time": "2021-09-05T20:07:28.465873",
     "exception": false,
     "start_time": "2021-09-05T20:07:28.435985",
     "status": "completed"
    },
    "tags": []
   },
   "source": [
    "## Filter data to get 3 and 8 out"
   ]
  },
  {
   "cell_type": "code",
   "execution_count": 10,
   "id": "776f7fc7",
   "metadata": {
    "execution": {
     "iopub.execute_input": "2021-09-05T20:07:28.531167Z",
     "iopub.status.busy": "2021-09-05T20:07:28.530550Z",
     "iopub.status.idle": "2021-09-05T20:07:28.546331Z",
     "shell.execute_reply": "2021-09-05T20:07:28.546767Z"
    },
    "papermill": {
     "duration": 0.051147,
     "end_time": "2021-09-05T20:07:28.546914",
     "exception": false,
     "start_time": "2021-09-05T20:07:28.495767",
     "status": "completed"
    },
    "tags": []
   },
   "outputs": [],
   "source": [
    "train_filter = np.where((train_labels == 3 ) | (train_labels == 8))\n",
    "test_filter = np.where((test_labels == 3) | (test_labels == 8))\n",
    "X_train, y_train = train_images[train_filter], train_labels[train_filter]\n",
    "X_test, y_test = test_images[test_filter], test_labels[test_filter]"
   ]
  },
  {
   "cell_type": "markdown",
   "id": "948f0b7e",
   "metadata": {
    "papermill": {
     "duration": 0.030566,
     "end_time": "2021-09-05T20:07:28.607368",
     "exception": false,
     "start_time": "2021-09-05T20:07:28.576802",
     "status": "completed"
    },
    "tags": []
   },
   "source": [
    "We normalize the pizel values in the 0 to 1 range"
   ]
  },
  {
   "cell_type": "code",
   "execution_count": 11,
   "id": "ee4c2166",
   "metadata": {
    "execution": {
     "iopub.execute_input": "2021-09-05T20:07:28.671269Z",
     "iopub.status.busy": "2021-09-05T20:07:28.670670Z",
     "iopub.status.idle": "2021-09-05T20:07:28.720808Z",
     "shell.execute_reply": "2021-09-05T20:07:28.719864Z"
    },
    "papermill": {
     "duration": 0.084064,
     "end_time": "2021-09-05T20:07:28.721024",
     "exception": false,
     "start_time": "2021-09-05T20:07:28.636960",
     "status": "completed"
    },
    "tags": []
   },
   "outputs": [],
   "source": [
    "X_train = X_train/255.\n",
    "X_test = X_test/255."
   ]
  },
  {
   "cell_type": "markdown",
   "id": "ddcf4fab",
   "metadata": {
    "papermill": {
     "duration": 0.029452,
     "end_time": "2021-09-05T20:07:28.781394",
     "exception": false,
     "start_time": "2021-09-05T20:07:28.751942",
     "status": "completed"
    },
    "tags": []
   },
   "source": [
    "And setup the labels as 1 (when the digit is 3) and 0 (when the digit is 8)"
   ]
  },
  {
   "cell_type": "code",
   "execution_count": 12,
   "id": "7dc908f2",
   "metadata": {
    "execution": {
     "iopub.execute_input": "2021-09-05T20:07:28.844544Z",
     "iopub.status.busy": "2021-09-05T20:07:28.843926Z",
     "iopub.status.idle": "2021-09-05T20:07:28.859310Z",
     "shell.execute_reply": "2021-09-05T20:07:28.858811Z"
    },
    "papermill": {
     "duration": 0.048715,
     "end_time": "2021-09-05T20:07:28.859462",
     "exception": false,
     "start_time": "2021-09-05T20:07:28.810747",
     "status": "completed"
    },
    "tags": []
   },
   "outputs": [],
   "source": [
    "y_train = 1*(y_train==3)\n",
    "y_test = 1*(y_test==3)"
   ]
  },
  {
   "cell_type": "code",
   "execution_count": 13,
   "id": "01e4e969",
   "metadata": {
    "execution": {
     "iopub.execute_input": "2021-09-05T20:07:28.923842Z",
     "iopub.status.busy": "2021-09-05T20:07:28.923232Z",
     "iopub.status.idle": "2021-09-05T20:07:28.938383Z",
     "shell.execute_reply": "2021-09-05T20:07:28.937896Z"
    },
    "papermill": {
     "duration": 0.050093,
     "end_time": "2021-09-05T20:07:28.938514",
     "exception": false,
     "start_time": "2021-09-05T20:07:28.888421",
     "status": "completed"
    },
    "tags": []
   },
   "outputs": [
    {
     "data": {
      "text/plain": [
       "((11982, 28, 28), (1984, 28, 28))"
      ]
     },
     "execution_count": 13,
     "metadata": {},
     "output_type": "execute_result"
    }
   ],
   "source": [
    "X_train.shape, X_test.shape"
   ]
  },
  {
   "cell_type": "markdown",
   "id": "5ccf3f85",
   "metadata": {
    "papermill": {
     "duration": 0.029208,
     "end_time": "2021-09-05T20:07:28.997022",
     "exception": false,
     "start_time": "2021-09-05T20:07:28.967814",
     "status": "completed"
    },
    "tags": []
   },
   "source": [
    "We reshape the data to flatten the image pixels into a set of features or co-variates:"
   ]
  },
  {
   "cell_type": "code",
   "execution_count": 14,
   "id": "5286a4a3",
   "metadata": {
    "execution": {
     "iopub.execute_input": "2021-09-05T20:07:29.065665Z",
     "iopub.status.busy": "2021-09-05T20:07:29.065049Z",
     "iopub.status.idle": "2021-09-05T20:07:29.078576Z",
     "shell.execute_reply": "2021-09-05T20:07:29.078070Z"
    },
    "papermill": {
     "duration": 0.051852,
     "end_time": "2021-09-05T20:07:29.078707",
     "exception": false,
     "start_time": "2021-09-05T20:07:29.026855",
     "status": "completed"
    },
    "tags": []
   },
   "outputs": [
    {
     "data": {
      "text/plain": [
       "((11982, 784), (1984, 784))"
      ]
     },
     "execution_count": 14,
     "metadata": {},
     "output_type": "execute_result"
    }
   ],
   "source": [
    "X_train = X_train.reshape(X_train.shape[0], -1)\n",
    "X_test = X_test.reshape(X_test.shape[0], -1)\n",
    "X_train.shape, X_test.shape"
   ]
  },
  {
   "cell_type": "code",
   "execution_count": 15,
   "id": "73c5f88a",
   "metadata": {
    "execution": {
     "iopub.execute_input": "2021-09-05T20:07:29.152052Z",
     "iopub.status.busy": "2021-09-05T20:07:29.151424Z",
     "iopub.status.idle": "2021-09-05T20:07:29.169172Z",
     "shell.execute_reply": "2021-09-05T20:07:29.168620Z"
    },
    "papermill": {
     "duration": 0.060342,
     "end_time": "2021-09-05T20:07:29.169310",
     "exception": false,
     "start_time": "2021-09-05T20:07:29.108968",
     "status": "completed"
    },
    "tags": []
   },
   "outputs": [],
   "source": [
    "#Impoting functions from 'Kudzu'\n",
    "from kudzu.model import Model\n",
    "from kudzu.train import Learner\n",
    "from kudzu.optim import GD\n",
    "from kudzu.data import Data, Sampler,Dataloader\n",
    "\n",
    "from kudzu.callbacks import AccCallback\n",
    "from kudzu.callbacks import ClfCallback\n",
    "\n",
    "from kudzu.loss import MSE\n",
    "\n",
    "from kudzu.layer import Sigmoid,Relu\n",
    "from kudzu.layer import Affine"
   ]
  },
  {
   "cell_type": "markdown",
   "id": "bc01172a",
   "metadata": {
    "papermill": {
     "duration": 0.029644,
     "end_time": "2021-09-05T20:07:29.228581",
     "exception": false,
     "start_time": "2021-09-05T20:07:29.198937",
     "status": "completed"
    },
    "tags": []
   },
   "source": [
    "### Let us create a `Config` class, to store important parameters. \n",
    "This class essentially plays the role of a dictionary."
   ]
  },
  {
   "cell_type": "code",
   "execution_count": 16,
   "id": "978281aa",
   "metadata": {
    "execution": {
     "iopub.execute_input": "2021-09-05T20:07:29.293694Z",
     "iopub.status.busy": "2021-09-05T20:07:29.293065Z",
     "iopub.status.idle": "2021-09-05T20:07:29.306366Z",
     "shell.execute_reply": "2021-09-05T20:07:29.305906Z"
    },
    "papermill": {
     "duration": 0.048023,
     "end_time": "2021-09-05T20:07:29.306493",
     "exception": false,
     "start_time": "2021-09-05T20:07:29.258470",
     "status": "completed"
    },
    "tags": []
   },
   "outputs": [],
   "source": [
    "class Config:\n",
    "    pass\n",
    "config = Config()\n",
    "config.lr = 0.001\n",
    "config.num_epochs = 250\n",
    "config.bs = 50"
   ]
  },
  {
   "cell_type": "markdown",
   "id": "1385fa59",
   "metadata": {
    "papermill": {
     "duration": 0.030566,
     "end_time": "2021-09-05T20:07:29.367153",
     "exception": false,
     "start_time": "2021-09-05T20:07:29.336587",
     "status": "completed"
    },
    "tags": []
   },
   "source": [
    "### Running Models with the Training data\n",
    "Details about the network layers:\n",
    "- A first affine layer has 784 inputs and does 100 affine transforms. These are followed by a Relu\n",
    "- A second affine layer has 100 inputs from the 100 activations of the past layer, and does 100 affine transforms. These are followed by a Relu\n",
    "- A third affine layer has 100 activations and does 2 affine transformations to create an embedding for visualization. There is no non-linearity here.\n",
    "- A final \"logistic regression\" which has an affine transform from 2 inputs to 1 output, which is squeezed through a sigmoid.\n"
   ]
  },
  {
   "cell_type": "code",
   "execution_count": 17,
   "id": "2b9c66db",
   "metadata": {
    "execution": {
     "iopub.execute_input": "2021-09-05T20:07:29.435766Z",
     "iopub.status.busy": "2021-09-05T20:07:29.435106Z",
     "iopub.status.idle": "2021-09-05T20:07:29.447276Z",
     "shell.execute_reply": "2021-09-05T20:07:29.447782Z"
    },
    "papermill": {
     "duration": 0.05108,
     "end_time": "2021-09-05T20:07:29.447953",
     "exception": false,
     "start_time": "2021-09-05T20:07:29.396873",
     "status": "completed"
    },
    "tags": []
   },
   "outputs": [],
   "source": [
    "data = Data(X_train, y_train.reshape(-1,1))\n",
    "sampler = Sampler(data, config.bs, shuffle=True)\n",
    "\n",
    "dl = Dataloader(data, sampler)\n",
    "\n",
    "opt = GD(config.lr)\n",
    "loss = MSE()"
   ]
  },
  {
   "cell_type": "code",
   "execution_count": 18,
   "id": "b275e4c2",
   "metadata": {
    "execution": {
     "iopub.execute_input": "2021-09-05T20:07:29.514169Z",
     "iopub.status.busy": "2021-09-05T20:07:29.513567Z",
     "iopub.status.idle": "2021-09-05T20:07:29.527374Z",
     "shell.execute_reply": "2021-09-05T20:07:29.526882Z"
    },
    "papermill": {
     "duration": 0.049051,
     "end_time": "2021-09-05T20:07:29.527505",
     "exception": false,
     "start_time": "2021-09-05T20:07:29.478454",
     "status": "completed"
    },
    "tags": []
   },
   "outputs": [],
   "source": [
    "training_data_x = X_train\n",
    "testing_data_x = X_test\n",
    "training_data_y = y_train.reshape(-1,1)\n",
    "testing_data_y = y_test.reshape(-1,1)"
   ]
  },
  {
   "cell_type": "code",
   "execution_count": 19,
   "id": "76951160",
   "metadata": {
    "execution": {
     "iopub.execute_input": "2021-09-05T20:07:29.593947Z",
     "iopub.status.busy": "2021-09-05T20:07:29.593390Z",
     "iopub.status.idle": "2021-09-05T20:07:29.613079Z",
     "shell.execute_reply": "2021-09-05T20:07:29.612543Z"
    },
    "papermill": {
     "duration": 0.055154,
     "end_time": "2021-09-05T20:07:29.613209",
     "exception": false,
     "start_time": "2021-09-05T20:07:29.558055",
     "status": "completed"
    },
    "tags": []
   },
   "outputs": [
    {
     "name": "stdout",
     "output_type": "stream",
     "text": [
      "xavier\n",
      "xavier\n",
      "xavier\n",
      "xavier\n",
      "xavier\n"
     ]
    }
   ],
   "source": [
    "layers = [Affine(\"first\", 784, 100), Relu(\"first\"), Affine(\"second\", 100, 100), Relu(\"second\"), Affine(\"third\", 100, 2), Affine(\"last\", 2, 1), Sigmoid(\"last\")]\n",
    "model_nn = Model(layers)\n",
    "model_lr = Model([Affine(\"logits\", 784, 1), Sigmoid(\"sigmoid\")])"
   ]
  },
  {
   "cell_type": "code",
   "execution_count": 20,
   "id": "6eede77a",
   "metadata": {
    "execution": {
     "iopub.execute_input": "2021-09-05T20:07:29.680554Z",
     "iopub.status.busy": "2021-09-05T20:07:29.679944Z",
     "iopub.status.idle": "2021-09-05T20:07:29.693376Z",
     "shell.execute_reply": "2021-09-05T20:07:29.692858Z"
    },
    "papermill": {
     "duration": 0.049202,
     "end_time": "2021-09-05T20:07:29.693506",
     "exception": false,
     "start_time": "2021-09-05T20:07:29.644304",
     "status": "completed"
    },
    "tags": []
   },
   "outputs": [],
   "source": [
    "nn_learner = Learner(loss, model_nn, opt, config.num_epochs)\n",
    "acc_nn = ClfCallback(nn_learner, config.bs, training_data_x , testing_data_x, training_data_y, testing_data_y)\n",
    "nn_learner.set_callbacks([acc_nn])"
   ]
  },
  {
   "cell_type": "code",
   "execution_count": 21,
   "id": "877b6cc7",
   "metadata": {
    "execution": {
     "iopub.execute_input": "2021-09-05T20:07:29.758068Z",
     "iopub.status.busy": "2021-09-05T20:07:29.757457Z",
     "iopub.status.idle": "2021-09-05T20:07:29.771896Z",
     "shell.execute_reply": "2021-09-05T20:07:29.771439Z"
    },
    "papermill": {
     "duration": 0.048951,
     "end_time": "2021-09-05T20:07:29.772024",
     "exception": false,
     "start_time": "2021-09-05T20:07:29.723073",
     "status": "completed"
    },
    "tags": []
   },
   "outputs": [],
   "source": [
    "lr_learner = Learner(loss, model_lr, opt, config.num_epochs)\n",
    "acc_lr = ClfCallback(lr_learner, config.bs, training_data_x , testing_data_x, training_data_y, testing_data_y)\n",
    "lr_learner.set_callbacks([acc_lr])"
   ]
  },
  {
   "cell_type": "code",
   "execution_count": 22,
   "id": "d9b133c3",
   "metadata": {
    "execution": {
     "iopub.execute_input": "2021-09-05T20:07:29.839996Z",
     "iopub.status.busy": "2021-09-05T20:07:29.839340Z",
     "iopub.status.idle": "2021-09-05T20:08:56.129904Z",
     "shell.execute_reply": "2021-09-05T20:08:56.130788Z"
    },
    "papermill": {
     "duration": 86.330021,
     "end_time": "2021-09-05T20:08:56.130968",
     "exception": false,
     "start_time": "2021-09-05T20:07:29.800947",
     "status": "completed"
    },
    "tags": []
   },
   "outputs": [
    {
     "name": "stdout",
     "output_type": "stream",
     "text": [
      "Epoch 0, Loss 0.2547\n",
      "Training Accuracy: 0.5048, Testing Accuracy: 0.5030\n",
      "\n"
     ]
    },
    {
     "name": "stdout",
     "output_type": "stream",
     "text": [
      "Epoch 10, Loss 0.1652\n",
      "Training Accuracy: 0.8782, Testing Accuracy: 0.8810\n",
      "\n"
     ]
    },
    {
     "name": "stdout",
     "output_type": "stream",
     "text": [
      "Epoch 20, Loss 0.0823\n",
      "Training Accuracy: 0.9214, Testing Accuracy: 0.9304\n",
      "\n"
     ]
    },
    {
     "name": "stdout",
     "output_type": "stream",
     "text": [
      "Epoch 30, Loss 0.0561\n",
      "Training Accuracy: 0.9407, Testing Accuracy: 0.9521\n",
      "\n"
     ]
    },
    {
     "name": "stdout",
     "output_type": "stream",
     "text": [
      "Epoch 40, Loss 0.0452\n",
      "Training Accuracy: 0.9484, Testing Accuracy: 0.9597\n",
      "\n"
     ]
    },
    {
     "name": "stdout",
     "output_type": "stream",
     "text": [
      "Epoch 50, Loss 0.0393\n",
      "Training Accuracy: 0.9546, Testing Accuracy: 0.9652\n",
      "\n"
     ]
    },
    {
     "name": "stdout",
     "output_type": "stream",
     "text": [
      "Epoch 60, Loss 0.0356\n",
      "Training Accuracy: 0.9589, Testing Accuracy: 0.9667\n",
      "\n"
     ]
    },
    {
     "name": "stdout",
     "output_type": "stream",
     "text": [
      "Epoch 70, Loss 0.033\n",
      "Training Accuracy: 0.9618, Testing Accuracy: 0.9672\n",
      "\n"
     ]
    },
    {
     "name": "stdout",
     "output_type": "stream",
     "text": [
      "Epoch 80, Loss 0.0311\n",
      "Training Accuracy: 0.9644, Testing Accuracy: 0.9677\n",
      "\n"
     ]
    },
    {
     "name": "stdout",
     "output_type": "stream",
     "text": [
      "Epoch 90, Loss 0.0295\n",
      "Training Accuracy: 0.9667, Testing Accuracy: 0.9688\n",
      "\n"
     ]
    },
    {
     "name": "stdout",
     "output_type": "stream",
     "text": [
      "Epoch 100, Loss 0.0283\n",
      "Training Accuracy: 0.9679, Testing Accuracy: 0.9677\n",
      "\n"
     ]
    },
    {
     "name": "stdout",
     "output_type": "stream",
     "text": [
      "Epoch 110, Loss 0.0272\n",
      "Training Accuracy: 0.9690, Testing Accuracy: 0.9677\n",
      "\n"
     ]
    },
    {
     "name": "stdout",
     "output_type": "stream",
     "text": [
      "Epoch 120, Loss 0.0263\n",
      "Training Accuracy: 0.9697, Testing Accuracy: 0.9682\n",
      "\n"
     ]
    },
    {
     "name": "stdout",
     "output_type": "stream",
     "text": [
      "Epoch 130, Loss 0.0254\n",
      "Training Accuracy: 0.9705, Testing Accuracy: 0.9682\n",
      "\n"
     ]
    },
    {
     "name": "stdout",
     "output_type": "stream",
     "text": [
      "Epoch 140, Loss 0.0247\n",
      "Training Accuracy: 0.9711, Testing Accuracy: 0.9698\n",
      "\n"
     ]
    },
    {
     "name": "stdout",
     "output_type": "stream",
     "text": [
      "Epoch 150, Loss 0.0241\n",
      "Training Accuracy: 0.9720, Testing Accuracy: 0.9703\n",
      "\n"
     ]
    },
    {
     "name": "stdout",
     "output_type": "stream",
     "text": [
      "Epoch 160, Loss 0.0235\n",
      "Training Accuracy: 0.9729, Testing Accuracy: 0.9713\n",
      "\n"
     ]
    },
    {
     "name": "stdout",
     "output_type": "stream",
     "text": [
      "Epoch 170, Loss 0.0229\n",
      "Training Accuracy: 0.9733, Testing Accuracy: 0.9718\n",
      "\n"
     ]
    },
    {
     "name": "stdout",
     "output_type": "stream",
     "text": [
      "Epoch 180, Loss 0.0224\n",
      "Training Accuracy: 0.9735, Testing Accuracy: 0.9713\n",
      "\n"
     ]
    },
    {
     "name": "stdout",
     "output_type": "stream",
     "text": [
      "Epoch 190, Loss 0.0219\n",
      "Training Accuracy: 0.9738, Testing Accuracy: 0.9713\n",
      "\n"
     ]
    },
    {
     "name": "stdout",
     "output_type": "stream",
     "text": [
      "Epoch 200, Loss 0.0214\n",
      "Training Accuracy: 0.9749, Testing Accuracy: 0.9723\n",
      "\n"
     ]
    },
    {
     "name": "stdout",
     "output_type": "stream",
     "text": [
      "Epoch 210, Loss 0.021\n",
      "Training Accuracy: 0.9754, Testing Accuracy: 0.9713\n",
      "\n"
     ]
    },
    {
     "name": "stdout",
     "output_type": "stream",
     "text": [
      "Epoch 220, Loss 0.0206\n",
      "Training Accuracy: 0.9760, Testing Accuracy: 0.9713\n",
      "\n"
     ]
    },
    {
     "name": "stdout",
     "output_type": "stream",
     "text": [
      "Epoch 230, Loss 0.0201\n",
      "Training Accuracy: 0.9770, Testing Accuracy: 0.9713\n",
      "\n"
     ]
    },
    {
     "name": "stdout",
     "output_type": "stream",
     "text": [
      "Epoch 240, Loss 0.0197\n",
      "Training Accuracy: 0.9775, Testing Accuracy: 0.9718\n",
      "\n"
     ]
    },
    {
     "data": {
      "text/plain": [
       "0.023770128611547453"
      ]
     },
     "execution_count": 22,
     "metadata": {},
     "output_type": "execute_result"
    }
   ],
   "source": [
    "nn_learner.train_loop(dl)"
   ]
  },
  {
   "cell_type": "code",
   "execution_count": 23,
   "id": "e0163366",
   "metadata": {
    "execution": {
     "iopub.execute_input": "2021-09-05T20:08:56.221460Z",
     "iopub.status.busy": "2021-09-05T20:08:56.220831Z",
     "iopub.status.idle": "2021-09-05T20:09:11.583461Z",
     "shell.execute_reply": "2021-09-05T20:09:11.584288Z"
    },
    "papermill": {
     "duration": 15.415346,
     "end_time": "2021-09-05T20:09:11.584451",
     "exception": false,
     "start_time": "2021-09-05T20:08:56.169105",
     "status": "completed"
    },
    "tags": []
   },
   "outputs": [
    {
     "name": "stdout",
     "output_type": "stream",
     "text": [
      "Epoch 0, Loss 0.2435\n",
      "Training Accuracy: 0.6776, Testing Accuracy: 0.6870\n",
      "\n"
     ]
    },
    {
     "name": "stdout",
     "output_type": "stream",
     "text": [
      "Epoch 10, Loss 0.1038\n",
      "Training Accuracy: 0.9053, Testing Accuracy: 0.9168\n",
      "\n"
     ]
    },
    {
     "name": "stdout",
     "output_type": "stream",
     "text": [
      "Epoch 20, Loss 0.08\n",
      "Training Accuracy: 0.9244, Testing Accuracy: 0.9340\n",
      "\n"
     ]
    },
    {
     "name": "stdout",
     "output_type": "stream",
     "text": [
      "Epoch 30, Loss 0.0691\n",
      "Training Accuracy: 0.9324, Testing Accuracy: 0.9435\n",
      "\n"
     ]
    },
    {
     "name": "stdout",
     "output_type": "stream",
     "text": [
      "Epoch 40, Loss 0.0624\n",
      "Training Accuracy: 0.9386, Testing Accuracy: 0.9476\n",
      "\n"
     ]
    },
    {
     "name": "stdout",
     "output_type": "stream",
     "text": [
      "Epoch 50, Loss 0.0579\n",
      "Training Accuracy: 0.9428, Testing Accuracy: 0.9521\n",
      "\n"
     ]
    },
    {
     "name": "stdout",
     "output_type": "stream",
     "text": [
      "Epoch 60, Loss 0.0546\n",
      "Training Accuracy: 0.9448, Testing Accuracy: 0.9556\n",
      "\n"
     ]
    },
    {
     "name": "stdout",
     "output_type": "stream",
     "text": [
      "Epoch 70, Loss 0.052\n",
      "Training Accuracy: 0.9477, Testing Accuracy: 0.9582\n",
      "\n"
     ]
    },
    {
     "name": "stdout",
     "output_type": "stream",
     "text": [
      "Epoch 80, Loss 0.0499\n",
      "Training Accuracy: 0.9500, Testing Accuracy: 0.9597\n",
      "\n"
     ]
    },
    {
     "name": "stdout",
     "output_type": "stream",
     "text": [
      "Epoch 90, Loss 0.0482\n",
      "Training Accuracy: 0.9513, Testing Accuracy: 0.9607\n",
      "\n"
     ]
    },
    {
     "name": "stdout",
     "output_type": "stream",
     "text": [
      "Epoch 100, Loss 0.0467\n",
      "Training Accuracy: 0.9522, Testing Accuracy: 0.9607\n",
      "\n"
     ]
    },
    {
     "name": "stdout",
     "output_type": "stream",
     "text": [
      "Epoch 110, Loss 0.0455\n",
      "Training Accuracy: 0.9534, Testing Accuracy: 0.9612\n",
      "\n"
     ]
    },
    {
     "name": "stdout",
     "output_type": "stream",
     "text": [
      "Epoch 120, Loss 0.0444\n",
      "Training Accuracy: 0.9543, Testing Accuracy: 0.9622\n",
      "\n"
     ]
    },
    {
     "name": "stdout",
     "output_type": "stream",
     "text": [
      "Epoch 130, Loss 0.0434\n",
      "Training Accuracy: 0.9552, Testing Accuracy: 0.9632\n",
      "\n"
     ]
    },
    {
     "name": "stdout",
     "output_type": "stream",
     "text": [
      "Epoch 140, Loss 0.0426\n",
      "Training Accuracy: 0.9563, Testing Accuracy: 0.9627\n",
      "\n"
     ]
    },
    {
     "name": "stdout",
     "output_type": "stream",
     "text": [
      "Epoch 150, Loss 0.0418\n",
      "Training Accuracy: 0.9572, Testing Accuracy: 0.9637\n",
      "\n"
     ]
    },
    {
     "name": "stdout",
     "output_type": "stream",
     "text": [
      "Epoch 160, Loss 0.0411\n",
      "Training Accuracy: 0.9574, Testing Accuracy: 0.9637\n",
      "\n"
     ]
    },
    {
     "name": "stdout",
     "output_type": "stream",
     "text": [
      "Epoch 170, Loss 0.0405\n",
      "Training Accuracy: 0.9579, Testing Accuracy: 0.9642\n",
      "\n"
     ]
    },
    {
     "name": "stdout",
     "output_type": "stream",
     "text": [
      "Epoch 180, Loss 0.0399\n",
      "Training Accuracy: 0.9587, Testing Accuracy: 0.9642\n",
      "\n"
     ]
    },
    {
     "name": "stdout",
     "output_type": "stream",
     "text": [
      "Epoch 190, Loss 0.0394\n",
      "Training Accuracy: 0.9590, Testing Accuracy: 0.9642\n",
      "\n"
     ]
    },
    {
     "name": "stdout",
     "output_type": "stream",
     "text": [
      "Epoch 200, Loss 0.0389\n",
      "Training Accuracy: 0.9596, Testing Accuracy: 0.9647\n",
      "\n"
     ]
    },
    {
     "name": "stdout",
     "output_type": "stream",
     "text": [
      "Epoch 210, Loss 0.0385\n",
      "Training Accuracy: 0.9598, Testing Accuracy: 0.9652\n",
      "\n"
     ]
    },
    {
     "name": "stdout",
     "output_type": "stream",
     "text": [
      "Epoch 220, Loss 0.038\n",
      "Training Accuracy: 0.9599, Testing Accuracy: 0.9652\n",
      "\n"
     ]
    },
    {
     "name": "stdout",
     "output_type": "stream",
     "text": [
      "Epoch 230, Loss 0.0376\n",
      "Training Accuracy: 0.9600, Testing Accuracy: 0.9657\n",
      "\n"
     ]
    },
    {
     "name": "stdout",
     "output_type": "stream",
     "text": [
      "Epoch 240, Loss 0.0373\n",
      "Training Accuracy: 0.9604, Testing Accuracy: 0.9667\n",
      "\n"
     ]
    },
    {
     "data": {
      "text/plain": [
       "0.03756102654961284"
      ]
     },
     "execution_count": 23,
     "metadata": {},
     "output_type": "execute_result"
    }
   ],
   "source": [
    "lr_learner.train_loop(dl)"
   ]
  },
  {
   "cell_type": "code",
   "execution_count": 24,
   "id": "ca410940",
   "metadata": {
    "execution": {
     "iopub.execute_input": "2021-09-05T20:09:11.690338Z",
     "iopub.status.busy": "2021-09-05T20:09:11.689725Z",
     "iopub.status.idle": "2021-09-05T20:09:11.940953Z",
     "shell.execute_reply": "2021-09-05T20:09:11.940029Z"
    },
    "papermill": {
     "duration": 0.310919,
     "end_time": "2021-09-05T20:09:11.941166",
     "exception": false,
     "start_time": "2021-09-05T20:09:11.630247",
     "status": "completed"
    },
    "tags": []
   },
   "outputs": [
    {
     "data": {
      "text/plain": [
       "<matplotlib.legend.Legend at 0x7f5751f27e48>"
      ]
     },
     "execution_count": 24,
     "metadata": {},
     "output_type": "execute_result"
    },
    {
     "data": {
      "image/png": "[encoded data removed]",
      "text/plain": [
       "<Figure size 1080x720 with 1 Axes>"
      ]
     },
     "metadata": {
      "needs_background": "light"
     },
     "output_type": "display_data"
    }
   ],
   "source": [
    "#comparing the results of NN and LR\n",
    "plt.figure(figsize=(15,10))\n",
    "\n",
    "# Neural Network plots\n",
    "plt.plot(acc_nn.accuracies, 'r-', label = \"Training Accuracies - NN\")\n",
    "plt.plot(acc_nn.test_accuracies, 'g-', label = \"Testing Accuracies - NN\")\n",
    "\n",
    "# Logistic Regression plots\n",
    "plt.plot(acc_lr.accuracies, 'k-', label = \"Training Accuracies - LR\")\n",
    "plt.plot(acc_lr.test_accuracies, 'b-', label = \"Testing Accuracies - LR\")\n",
    "plt.legend()"
   ]
  },
  {
   "cell_type": "markdown",
   "id": "80dfb35c",
   "metadata": {
    "papermill": {
     "duration": 0.048471,
     "end_time": "2021-09-05T20:09:12.039222",
     "exception": false,
     "start_time": "2021-09-05T20:09:11.990751",
     "status": "completed"
    },
    "tags": []
   },
   "source": [
    "#### Plotting the outputs of this layer of the NN.\n"
   ]
  },
  {
   "cell_type": "code",
   "execution_count": 25,
   "id": "45eb2ff5",
   "metadata": {
    "execution": {
     "iopub.execute_input": "2021-09-05T20:09:12.148212Z",
     "iopub.status.busy": "2021-09-05T20:09:12.147218Z",
     "iopub.status.idle": "2021-09-05T20:09:12.168593Z",
     "shell.execute_reply": "2021-09-05T20:09:12.169125Z"
    },
    "papermill": {
     "duration": 0.079472,
     "end_time": "2021-09-05T20:09:12.169284",
     "exception": false,
     "start_time": "2021-09-05T20:09:12.089812",
     "status": "completed"
    },
    "tags": []
   },
   "outputs": [],
   "source": [
    "new_model = Model(layers[:-2])\n",
    "testing_plot = new_model(testing_data_x)"
   ]
  },
  {
   "cell_type": "code",
   "execution_count": 26,
   "id": "4c0a5485",
   "metadata": {
    "execution": {
     "iopub.execute_input": "2021-09-05T20:09:12.285830Z",
     "iopub.status.busy": "2021-09-05T20:09:12.285203Z",
     "iopub.status.idle": "2021-09-05T20:09:12.502821Z",
     "shell.execute_reply": "2021-09-05T20:09:12.502234Z"
    },
    "papermill": {
     "duration": 0.275963,
     "end_time": "2021-09-05T20:09:12.502949",
     "exception": false,
     "start_time": "2021-09-05T20:09:12.226986",
     "status": "completed"
    },
    "tags": []
   },
   "outputs": [
    {
     "data": {
      "text/plain": [
       "Text(0.5, 1.0, 'Outputs')"
      ]
     },
     "execution_count": 26,
     "metadata": {},
     "output_type": "execute_result"
    },
    {
     "data": {
      "image/png": "[encoded data removed]",
      "text/plain": [
       "<Figure size 576x504 with 1 Axes>"
      ]
     },
     "metadata": {
      "needs_background": "light"
     },
     "output_type": "display_data"
    }
   ],
   "source": [
    "# Plotting the scatter plot of points and color coding by class\n",
    "plt.figure(figsize=(8,7))\n",
    "plt.scatter(testing_plot[:,0], testing_plot[:,1], alpha = 0.1, c = y_test.ravel());\n",
    "plt.title('Outputs')"
   ]
  },
  {
   "cell_type": "markdown",
   "id": "a74fcf8f",
   "metadata": {
    "papermill": {
     "duration": 0.048552,
     "end_time": "2021-09-05T20:09:12.601122",
     "exception": false,
     "start_time": "2021-09-05T20:09:12.552570",
     "status": "completed"
    },
    "tags": []
   },
   "source": [
    "Probability contours"
   ]
  },
  {
   "cell_type": "code",
   "execution_count": 27,
   "id": "d0afc8e3",
   "metadata": {
    "execution": {
     "iopub.execute_input": "2021-09-05T20:09:12.710022Z",
     "iopub.status.busy": "2021-09-05T20:09:12.709336Z",
     "iopub.status.idle": "2021-09-05T20:09:12.715422Z",
     "shell.execute_reply": "2021-09-05T20:09:12.714927Z"
    },
    "papermill": {
     "duration": 0.066221,
     "end_time": "2021-09-05T20:09:12.715559",
     "exception": false,
     "start_time": "2021-09-05T20:09:12.649338",
     "status": "completed"
    },
    "tags": []
   },
   "outputs": [],
   "source": [
    "model_prob = Model(layers[-2:]) "
   ]
  },
  {
   "cell_type": "code",
   "execution_count": 28,
   "id": "9b96e238",
   "metadata": {
    "execution": {
     "iopub.execute_input": "2021-09-05T20:09:12.821768Z",
     "iopub.status.busy": "2021-09-05T20:09:12.821194Z",
     "iopub.status.idle": "2021-09-05T20:09:12.838117Z",
     "shell.execute_reply": "2021-09-05T20:09:12.838574Z"
    },
    "papermill": {
     "duration": 0.073477,
     "end_time": "2021-09-05T20:09:12.838730",
     "exception": false,
     "start_time": "2021-09-05T20:09:12.765253",
     "status": "completed"
    },
    "tags": []
   },
   "outputs": [],
   "source": [
    "#creating the x and y ranges according to the above generated plot.\n",
    "x_range = np.linspace(-4, 1, 100) \n",
    "y_range = np.linspace(-6, 6, 100) \n",
    "x_grid, y_grid = np.meshgrid(x_range, y_range) # x_grid and y_grig are of size 100 X 100\n",
    "\n",
    "# converting x_grid and y_grid to continuous arrays\n",
    "x_gridflat = np.ravel(x_grid)\n",
    "y_gridflat = np.ravel(y_grid)\n",
    "\n",
    "# The last layer of the current model takes two columns as input. Hence transpose of np.vstack() is required.\n",
    "X = np.vstack((x_gridflat, y_gridflat)).T\n",
    "\n",
    "prob_contour = model_prob(X).reshape(100,100) "
   ]
  },
  {
   "cell_type": "code",
   "execution_count": 29,
   "id": "da72499a",
   "metadata": {
    "execution": {
     "iopub.execute_input": "2021-09-05T20:09:12.994098Z",
     "iopub.status.busy": "2021-09-05T20:09:12.993473Z",
     "iopub.status.idle": "2021-09-05T20:09:13.284882Z",
     "shell.execute_reply": "2021-09-05T20:09:13.284346Z"
    },
    "papermill": {
     "duration": 0.35667,
     "end_time": "2021-09-05T20:09:13.285072",
     "exception": false,
     "start_time": "2021-09-05T20:09:12.928402",
     "status": "completed"
    },
    "tags": []
   },
   "outputs": [
    {
     "data": {
      "image/png": "[encoded data removed]",
      "text/plain": [
       "<Figure size 720x648 with 1 Axes>"
      ]
     },
     "metadata": {
      "needs_background": "light"
     },
     "output_type": "display_data"
    }
   ],
   "source": [
    "plt.figure(figsize=(10,9))\n",
    "plt.scatter(testing_plot[:,0], testing_plot[:,1], alpha = 0.1, c = y_test.ravel())\n",
    "contours = plt.contour(x_grid,y_grid,prob_contour)\n",
    "plt.title('Probability Contours')\n",
    "plt.clabel(contours, inline = True );"
   ]
  },
  {
   "cell_type": "code",
   "execution_count": null,
   "id": "e81b4ac7",
   "metadata": {
    "papermill": {
     "duration": 0.054973,
     "end_time": "2021-09-05T20:09:13.400064",
     "exception": false,
     "start_time": "2021-09-05T20:09:13.345091",
     "status": "completed"
    },
    "tags": []
   },
   "outputs": [],
   "source": []
  }
 ],
 "metadata": {
  "kernelspec": {
   "display_name": "Python 3",
   "language": "python",
   "name": "python3"
  },
  "language_info": {
   "codemirror_mode": {
    "name": "ipython",
    "version": 3
   },
   "file_extension": ".py",
   "mimetype": "text/x-python",
   "name": "python",
   "nbconvert_exporter": "python",
   "pygments_lexer": "ipython3",
   "version": "3.6.14"
  },
  "papermill": {
   "default_parameters": {},
   "duration": 111.606908,
   "end_time": "2021-09-05T20:09:13.864518",
   "environment_variables": {},
   "exception": null,
   "input_path": "2020-08-11-part2.ipynb",
   "output_path": "2020-08-11-part2.ipynb",
   "parameters": {},
   "start_time": "2021-09-05T20:07:22.257610",
   "version": "2.3.3"
  }
 },
 "nbformat": 4,
 "nbformat_minor": 5
}