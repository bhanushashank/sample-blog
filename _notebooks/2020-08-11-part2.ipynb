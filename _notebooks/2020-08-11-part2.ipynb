{
 "cells": [
  {
   "cell_type": "markdown",
   "id": "98380cd3",
   "metadata": {
    "papermill": {
     "duration": 0.029826,
     "end_time": "2022-06-16T20:09:35.681042",
     "exception": false,
     "start_time": "2022-06-16T20:09:35.651216",
     "status": "completed"
    },
    "tags": []
   },
   "source": [
    "# Distinguish Your Own Digits (DYOD)"
   ]
  },
  {
   "cell_type": "markdown",
   "id": "ef31240d",
   "metadata": {
    "papermill": {
     "duration": 0.024495,
     "end_time": "2022-06-16T20:09:35.730315",
     "exception": false,
     "start_time": "2022-06-16T20:09:35.705820",
     "status": "completed"
    },
    "tags": []
   },
   "source": [
    "You are going to write a classifier that distinguishes between the number 3 and number 8."
   ]
  },
  {
   "cell_type": "code",
   "execution_count": 1,
   "id": "b15c8646",
   "metadata": {
    "execution": {
     "iopub.execute_input": "2022-06-16T20:09:35.788394Z",
     "iopub.status.busy": "2022-06-16T20:09:35.787827Z",
     "iopub.status.idle": "2022-06-16T20:09:35.798335Z",
     "shell.execute_reply": "2022-06-16T20:09:35.797902Z"
    },
    "papermill": {
     "duration": 0.044086,
     "end_time": "2022-06-16T20:09:35.798451",
     "exception": false,
     "start_time": "2022-06-16T20:09:35.754365",
     "status": "completed"
    },
    "tags": []
   },
   "outputs": [],
   "source": [
    "%load_ext autoreload\n",
    "%autoreload 2"
   ]
  },
  {
   "cell_type": "code",
   "execution_count": 2,
   "id": "22ef38dc",
   "metadata": {
    "execution": {
     "iopub.execute_input": "2022-06-16T20:09:35.850267Z",
     "iopub.status.busy": "2022-06-16T20:09:35.849730Z",
     "iopub.status.idle": "2022-06-16T20:09:36.356677Z",
     "shell.execute_reply": "2022-06-16T20:09:36.356193Z"
    },
    "papermill": {
     "duration": 0.53421,
     "end_time": "2022-06-16T20:09:36.356794",
     "exception": false,
     "start_time": "2022-06-16T20:09:35.822584",
     "status": "completed"
    },
    "tags": []
   },
   "outputs": [],
   "source": [
    "%matplotlib inline\n",
    "import numpy as np\n",
    "import matplotlib.pyplot as plt\n",
    "import pandas as pd"
   ]
  },
  {
   "cell_type": "markdown",
   "id": "ba036198",
   "metadata": {
    "papermill": {
     "duration": 0.02401,
     "end_time": "2022-06-16T20:09:36.404918",
     "exception": false,
     "start_time": "2022-06-16T20:09:36.380908",
     "status": "completed"
    },
    "tags": []
   },
   "source": [
    "From the command line run `pip install mnist`. This is a library that will help you bring down the mnist dataset. If you run this from a notebook, you need to put  `!pip install mnist` in a cell by itself."
   ]
  },
  {
   "cell_type": "code",
   "execution_count": 3,
   "id": "bb6ad8a1",
   "metadata": {
    "execution": {
     "iopub.execute_input": "2022-06-16T20:09:36.459221Z",
     "iopub.status.busy": "2022-06-16T20:09:36.457835Z",
     "iopub.status.idle": "2022-06-16T20:09:38.095190Z",
     "shell.execute_reply": "2022-06-16T20:09:38.094683Z"
    },
    "papermill": {
     "duration": 1.666252,
     "end_time": "2022-06-16T20:09:38.095305",
     "exception": false,
     "start_time": "2022-06-16T20:09:36.429053",
     "status": "completed"
    },
    "tags": []
   },
   "outputs": [
    {
     "name": "stdout",
     "output_type": "stream",
     "text": [
      "Collecting mnist\r\n",
      "  Downloading mnist-0.2.2-py2.py3-none-any.whl (3.5 kB)\r\n",
      "Requirement already satisfied: numpy in /opt/hostedtoolcache/Python/3.6.15/x64/lib/python3.6/site-packages (from mnist) (1.19.5)\r\n"
     ]
    },
    {
     "name": "stdout",
     "output_type": "stream",
     "text": [
      "Installing collected packages: mnist\r\n"
     ]
    },
    {
     "name": "stdout",
     "output_type": "stream",
     "text": [
      "Successfully installed mnist-0.2.2\r\n"
     ]
    }
   ],
   "source": [
    "!pip install mnist"
   ]
  },
  {
   "cell_type": "markdown",
   "id": "69df9c9a",
   "metadata": {
    "papermill": {
     "duration": 0.025098,
     "end_time": "2022-06-16T20:09:38.145556",
     "exception": false,
     "start_time": "2022-06-16T20:09:38.120458",
     "status": "completed"
    },
    "tags": []
   },
   "source": [
    "## Preparing the Data"
   ]
  },
  {
   "cell_type": "code",
   "execution_count": 4,
   "id": "7f69d806",
   "metadata": {
    "execution": {
     "iopub.execute_input": "2022-06-16T20:09:38.199473Z",
     "iopub.status.busy": "2022-06-16T20:09:38.198903Z",
     "iopub.status.idle": "2022-06-16T20:09:38.212877Z",
     "shell.execute_reply": "2022-06-16T20:09:38.212437Z"
    },
    "papermill": {
     "duration": 0.042485,
     "end_time": "2022-06-16T20:09:38.212980",
     "exception": false,
     "start_time": "2022-06-16T20:09:38.170495",
     "status": "completed"
    },
    "tags": []
   },
   "outputs": [],
   "source": [
    "import mnist"
   ]
  },
  {
   "cell_type": "code",
   "execution_count": 5,
   "id": "a411e44f",
   "metadata": {
    "execution": {
     "iopub.execute_input": "2022-06-16T20:09:38.266106Z",
     "iopub.status.busy": "2022-06-16T20:09:38.265554Z",
     "iopub.status.idle": "2022-06-16T20:09:38.913433Z",
     "shell.execute_reply": "2022-06-16T20:09:38.912828Z"
    },
    "papermill": {
     "duration": 0.675608,
     "end_time": "2022-06-16T20:09:38.913547",
     "exception": false,
     "start_time": "2022-06-16T20:09:38.237939",
     "status": "completed"
    },
    "tags": []
   },
   "outputs": [],
   "source": [
    "train_images = mnist.train_images()\n",
    "train_labels = mnist.train_labels()"
   ]
  },
  {
   "cell_type": "code",
   "execution_count": 6,
   "id": "dceab3a5",
   "metadata": {
    "execution": {
     "iopub.execute_input": "2022-06-16T20:09:38.967432Z",
     "iopub.status.busy": "2022-06-16T20:09:38.966867Z",
     "iopub.status.idle": "2022-06-16T20:09:38.980881Z",
     "shell.execute_reply": "2022-06-16T20:09:38.981423Z"
    },
    "papermill": {
     "duration": 0.042945,
     "end_time": "2022-06-16T20:09:38.981542",
     "exception": false,
     "start_time": "2022-06-16T20:09:38.938597",
     "status": "completed"
    },
    "tags": []
   },
   "outputs": [
    {
     "data": {
      "text/plain": [
       "((60000, 28, 28), (60000,))"
      ]
     },
     "execution_count": 6,
     "metadata": {},
     "output_type": "execute_result"
    }
   ],
   "source": [
    "train_images.shape, train_labels.shape"
   ]
  },
  {
   "cell_type": "code",
   "execution_count": 7,
   "id": "f50dc2bb",
   "metadata": {
    "execution": {
     "iopub.execute_input": "2022-06-16T20:09:39.035568Z",
     "iopub.status.busy": "2022-06-16T20:09:39.035023Z",
     "iopub.status.idle": "2022-06-16T20:09:39.180913Z",
     "shell.execute_reply": "2022-06-16T20:09:39.180406Z"
    },
    "papermill": {
     "duration": 0.174097,
     "end_time": "2022-06-16T20:09:39.181025",
     "exception": false,
     "start_time": "2022-06-16T20:09:39.006928",
     "status": "completed"
    },
    "tags": []
   },
   "outputs": [],
   "source": [
    "test_images = mnist.test_images()\n",
    "test_labels = mnist.test_labels()"
   ]
  },
  {
   "cell_type": "code",
   "execution_count": 8,
   "id": "fc38cf1b",
   "metadata": {
    "execution": {
     "iopub.execute_input": "2022-06-16T20:09:39.235385Z",
     "iopub.status.busy": "2022-06-16T20:09:39.234829Z",
     "iopub.status.idle": "2022-06-16T20:09:39.249048Z",
     "shell.execute_reply": "2022-06-16T20:09:39.248335Z"
    },
    "papermill": {
     "duration": 0.042596,
     "end_time": "2022-06-16T20:09:39.249155",
     "exception": false,
     "start_time": "2022-06-16T20:09:39.206559",
     "status": "completed"
    },
    "tags": []
   },
   "outputs": [
    {
     "data": {
      "text/plain": [
       "((10000, 28, 28), (10000,))"
      ]
     },
     "execution_count": 8,
     "metadata": {},
     "output_type": "execute_result"
    }
   ],
   "source": [
    "test_images.shape, test_labels.shape"
   ]
  },
  {
   "cell_type": "code",
   "execution_count": 9,
   "id": "f9ed8fe0",
   "metadata": {
    "execution": {
     "iopub.execute_input": "2022-06-16T20:09:39.303811Z",
     "iopub.status.busy": "2022-06-16T20:09:39.303273Z",
     "iopub.status.idle": "2022-06-16T20:09:39.433904Z",
     "shell.execute_reply": "2022-06-16T20:09:39.434332Z"
    },
    "papermill": {
     "duration": 0.159672,
     "end_time": "2022-06-16T20:09:39.434452",
     "exception": false,
     "start_time": "2022-06-16T20:09:39.274780",
     "status": "completed"
    },
    "tags": []
   },
   "outputs": [
    {
     "name": "stdout",
     "output_type": "stream",
     "text": [
      "2\n"
     ]
    },
    {
     "data": {
      "text/plain": [
       "<matplotlib.image.AxesImage at 0x7f55bd2e4978>"
      ]
     },
     "execution_count": 9,
     "metadata": {},
     "output_type": "execute_result"
    },
    {
     "data": {
      "image/png": "[encoded data removed]",
      "text/plain": [
       "<Figure size 432x288 with 1 Axes>"
      ]
     },
     "metadata": {
      "needs_background": "light"
     },
     "output_type": "display_data"
    }
   ],
   "source": [
    "image_index = 7776 # You may select anything up to 60,000\n",
    "print(train_labels[image_index]) \n",
    "plt.imshow(train_images[image_index], cmap='Greys')"
   ]
  },
  {
   "cell_type": "markdown",
   "id": "a8d2388d",
   "metadata": {
    "papermill": {
     "duration": 0.026581,
     "end_time": "2022-06-16T20:09:39.487902",
     "exception": false,
     "start_time": "2022-06-16T20:09:39.461321",
     "status": "completed"
    },
    "tags": []
   },
   "source": [
    "## Filter data to get 3 and 8 out"
   ]
  },
  {
   "cell_type": "code",
   "execution_count": 10,
   "id": "776f7fc7",
   "metadata": {
    "execution": {
     "iopub.execute_input": "2022-06-16T20:09:39.545569Z",
     "iopub.status.busy": "2022-06-16T20:09:39.544506Z",
     "iopub.status.idle": "2022-06-16T20:09:39.561655Z",
     "shell.execute_reply": "2022-06-16T20:09:39.561183Z"
    },
    "papermill": {
     "duration": 0.047427,
     "end_time": "2022-06-16T20:09:39.561758",
     "exception": false,
     "start_time": "2022-06-16T20:09:39.514331",
     "status": "completed"
    },
    "tags": []
   },
   "outputs": [],
   "source": [
    "train_filter = np.where((train_labels == 3 ) | (train_labels == 8))\n",
    "test_filter = np.where((test_labels == 3) | (test_labels == 8))\n",
    "X_train, y_train = train_images[train_filter], train_labels[train_filter]\n",
    "X_test, y_test = test_images[test_filter], test_labels[test_filter]"
   ]
  },
  {
   "cell_type": "markdown",
   "id": "948f0b7e",
   "metadata": {
    "papermill": {
     "duration": 0.026374,
     "end_time": "2022-06-16T20:09:39.614864",
     "exception": false,
     "start_time": "2022-06-16T20:09:39.588490",
     "status": "completed"
    },
    "tags": []
   },
   "source": [
    "We normalize the pizel values in the 0 to 1 range"
   ]
  },
  {
   "cell_type": "code",
   "execution_count": 11,
   "id": "ee4c2166",
   "metadata": {
    "execution": {
     "iopub.execute_input": "2022-06-16T20:09:39.670843Z",
     "iopub.status.busy": "2022-06-16T20:09:39.670295Z",
     "iopub.status.idle": "2022-06-16T20:09:39.710208Z",
     "shell.execute_reply": "2022-06-16T20:09:39.709740Z"
    },
    "papermill": {
     "duration": 0.069151,
     "end_time": "2022-06-16T20:09:39.710319",
     "exception": false,
     "start_time": "2022-06-16T20:09:39.641168",
     "status": "completed"
    },
    "tags": []
   },
   "outputs": [],
   "source": [
    "X_train = X_train/255.\n",
    "X_test = X_test/255."
   ]
  },
  {
   "cell_type": "markdown",
   "id": "ddcf4fab",
   "metadata": {
    "papermill": {
     "duration": 0.026465,
     "end_time": "2022-06-16T20:09:39.763561",
     "exception": false,
     "start_time": "2022-06-16T20:09:39.737096",
     "status": "completed"
    },
    "tags": []
   },
   "source": [
    "And setup the labels as 1 (when the digit is 3) and 0 (when the digit is 8)"
   ]
  },
  {
   "cell_type": "code",
   "execution_count": 12,
   "id": "7dc908f2",
   "metadata": {
    "execution": {
     "iopub.execute_input": "2022-06-16T20:09:39.819994Z",
     "iopub.status.busy": "2022-06-16T20:09:39.819429Z",
     "iopub.status.idle": "2022-06-16T20:09:39.831262Z",
     "shell.execute_reply": "2022-06-16T20:09:39.830820Z"
    },
    "papermill": {
     "duration": 0.041365,
     "end_time": "2022-06-16T20:09:39.831360",
     "exception": false,
     "start_time": "2022-06-16T20:09:39.789995",
     "status": "completed"
    },
    "tags": []
   },
   "outputs": [],
   "source": [
    "y_train = 1*(y_train==3)\n",
    "y_test = 1*(y_test==3)"
   ]
  },
  {
   "cell_type": "code",
   "execution_count": 13,
   "id": "01e4e969",
   "metadata": {
    "execution": {
     "iopub.execute_input": "2022-06-16T20:09:39.887234Z",
     "iopub.status.busy": "2022-06-16T20:09:39.886679Z",
     "iopub.status.idle": "2022-06-16T20:09:39.899686Z",
     "shell.execute_reply": "2022-06-16T20:09:39.899234Z"
    },
    "papermill": {
     "duration": 0.041945,
     "end_time": "2022-06-16T20:09:39.899784",
     "exception": false,
     "start_time": "2022-06-16T20:09:39.857839",
     "status": "completed"
    },
    "tags": []
   },
   "outputs": [
    {
     "data": {
      "text/plain": [
       "((11982, 28, 28), (1984, 28, 28))"
      ]
     },
     "execution_count": 13,
     "metadata": {},
     "output_type": "execute_result"
    }
   ],
   "source": [
    "X_train.shape, X_test.shape"
   ]
  },
  {
   "cell_type": "markdown",
   "id": "5ccf3f85",
   "metadata": {
    "papermill": {
     "duration": 0.026905,
     "end_time": "2022-06-16T20:09:39.953427",
     "exception": false,
     "start_time": "2022-06-16T20:09:39.926522",
     "status": "completed"
    },
    "tags": []
   },
   "source": [
    "We reshape the data to flatten the image pixels into a set of features or co-variates:"
   ]
  },
  {
   "cell_type": "code",
   "execution_count": 14,
   "id": "5286a4a3",
   "metadata": {
    "execution": {
     "iopub.execute_input": "2022-06-16T20:09:40.011361Z",
     "iopub.status.busy": "2022-06-16T20:09:40.010796Z",
     "iopub.status.idle": "2022-06-16T20:09:40.023979Z",
     "shell.execute_reply": "2022-06-16T20:09:40.023532Z"
    },
    "papermill": {
     "duration": 0.043712,
     "end_time": "2022-06-16T20:09:40.024081",
     "exception": false,
     "start_time": "2022-06-16T20:09:39.980369",
     "status": "completed"
    },
    "tags": []
   },
   "outputs": [
    {
     "data": {
      "text/plain": [
       "((11982, 784), (1984, 784))"
      ]
     },
     "execution_count": 14,
     "metadata": {},
     "output_type": "execute_result"
    }
   ],
   "source": [
    "X_train = X_train.reshape(X_train.shape[0], -1)\n",
    "X_test = X_test.reshape(X_test.shape[0], -1)\n",
    "X_train.shape, X_test.shape"
   ]
  },
  {
   "cell_type": "code",
   "execution_count": 15,
   "id": "73c5f88a",
   "metadata": {
    "execution": {
     "iopub.execute_input": "2022-06-16T20:09:40.082922Z",
     "iopub.status.busy": "2022-06-16T20:09:40.082364Z",
     "iopub.status.idle": "2022-06-16T20:09:40.100428Z",
     "shell.execute_reply": "2022-06-16T20:09:40.099970Z"
    },
    "papermill": {
     "duration": 0.049286,
     "end_time": "2022-06-16T20:09:40.100530",
     "exception": false,
     "start_time": "2022-06-16T20:09:40.051244",
     "status": "completed"
    },
    "tags": []
   },
   "outputs": [],
   "source": [
    "#Impoting functions from 'Kudzu'\n",
    "from kudzu.model import Model\n",
    "from kudzu.train import Learner\n",
    "from kudzu.optim import GD\n",
    "from kudzu.data import Data, Sampler,Dataloader\n",
    "\n",
    "from kudzu.callbacks import AccCallback\n",
    "from kudzu.callbacks import ClfCallback\n",
    "\n",
    "from kudzu.loss import MSE\n",
    "\n",
    "from kudzu.layer import Sigmoid,Relu\n",
    "from kudzu.layer import Affine"
   ]
  },
  {
   "cell_type": "markdown",
   "id": "bc01172a",
   "metadata": {
    "papermill": {
     "duration": 0.02712,
     "end_time": "2022-06-16T20:09:40.154996",
     "exception": false,
     "start_time": "2022-06-16T20:09:40.127876",
     "status": "completed"
    },
    "tags": []
   },
   "source": [
    "### Let us create a `Config` class, to store important parameters. \n",
    "This class essentially plays the role of a dictionary."
   ]
  },
  {
   "cell_type": "code",
   "execution_count": 16,
   "id": "978281aa",
   "metadata": {
    "execution": {
     "iopub.execute_input": "2022-06-16T20:09:40.212846Z",
     "iopub.status.busy": "2022-06-16T20:09:40.212284Z",
     "iopub.status.idle": "2022-06-16T20:09:40.225442Z",
     "shell.execute_reply": "2022-06-16T20:09:40.224716Z"
    },
    "papermill": {
     "duration": 0.043621,
     "end_time": "2022-06-16T20:09:40.225552",
     "exception": false,
     "start_time": "2022-06-16T20:09:40.181931",
     "status": "completed"
    },
    "tags": []
   },
   "outputs": [],
   "source": [
    "class Config:\n",
    "    pass\n",
    "config = Config()\n",
    "config.lr = 0.001\n",
    "config.num_epochs = 250\n",
    "config.bs = 50"
   ]
  },
  {
   "cell_type": "markdown",
   "id": "1385fa59",
   "metadata": {
    "papermill": {
     "duration": 0.027098,
     "end_time": "2022-06-16T20:09:40.279765",
     "exception": false,
     "start_time": "2022-06-16T20:09:40.252667",
     "status": "completed"
    },
    "tags": []
   },
   "source": [
    "### Running Models with the Training data\n",
    "Details about the network layers:\n",
    "- A first affine layer has 784 inputs and does 100 affine transforms. These are followed by a Relu\n",
    "- A second affine layer has 100 inputs from the 100 activations of the past layer, and does 100 affine transforms. These are followed by a Relu\n",
    "- A third affine layer has 100 activations and does 2 affine transformations to create an embedding for visualization. There is no non-linearity here.\n",
    "- A final \"logistic regression\" which has an affine transform from 2 inputs to 1 output, which is squeezed through a sigmoid.\n"
   ]
  },
  {
   "cell_type": "code",
   "execution_count": 17,
   "id": "2b9c66db",
   "metadata": {
    "execution": {
     "iopub.execute_input": "2022-06-16T20:09:40.337725Z",
     "iopub.status.busy": "2022-06-16T20:09:40.337132Z",
     "iopub.status.idle": "2022-06-16T20:09:40.349874Z",
     "shell.execute_reply": "2022-06-16T20:09:40.349410Z"
    },
    "papermill": {
     "duration": 0.043091,
     "end_time": "2022-06-16T20:09:40.349973",
     "exception": false,
     "start_time": "2022-06-16T20:09:40.306882",
     "status": "completed"
    },
    "tags": []
   },
   "outputs": [],
   "source": [
    "data = Data(X_train, y_train.reshape(-1,1))\n",
    "sampler = Sampler(data, config.bs, shuffle=True)\n",
    "\n",
    "dl = Dataloader(data, sampler)\n",
    "\n",
    "opt = GD(config.lr)\n",
    "loss = MSE()"
   ]
  },
  {
   "cell_type": "code",
   "execution_count": 18,
   "id": "b275e4c2",
   "metadata": {
    "execution": {
     "iopub.execute_input": "2022-06-16T20:09:40.407831Z",
     "iopub.status.busy": "2022-06-16T20:09:40.407275Z",
     "iopub.status.idle": "2022-06-16T20:09:40.419040Z",
     "shell.execute_reply": "2022-06-16T20:09:40.418518Z"
    },
    "papermill": {
     "duration": 0.042104,
     "end_time": "2022-06-16T20:09:40.419142",
     "exception": false,
     "start_time": "2022-06-16T20:09:40.377038",
     "status": "completed"
    },
    "tags": []
   },
   "outputs": [],
   "source": [
    "training_data_x = X_train\n",
    "testing_data_x = X_test\n",
    "training_data_y = y_train.reshape(-1,1)\n",
    "testing_data_y = y_test.reshape(-1,1)"
   ]
  },
  {
   "cell_type": "code",
   "execution_count": 19,
   "id": "76951160",
   "metadata": {
    "execution": {
     "iopub.execute_input": "2022-06-16T20:09:40.477310Z",
     "iopub.status.busy": "2022-06-16T20:09:40.476729Z",
     "iopub.status.idle": "2022-06-16T20:09:40.492850Z",
     "shell.execute_reply": "2022-06-16T20:09:40.493333Z"
    },
    "papermill": {
     "duration": 0.047328,
     "end_time": "2022-06-16T20:09:40.493452",
     "exception": false,
     "start_time": "2022-06-16T20:09:40.446124",
     "status": "completed"
    },
    "tags": []
   },
   "outputs": [
    {
     "name": "stdout",
     "output_type": "stream",
     "text": [
      "xavier\n",
      "xavier\n",
      "xavier\n",
      "xavier\n",
      "xavier\n"
     ]
    }
   ],
   "source": [
    "layers = [Affine(\"first\", 784, 100), Relu(\"first\"), Affine(\"second\", 100, 100), Relu(\"second\"), Affine(\"third\", 100, 2), Affine(\"last\", 2, 1), Sigmoid(\"last\")]\n",
    "model_nn = Model(layers)\n",
    "model_lr = Model([Affine(\"logits\", 784, 1), Sigmoid(\"sigmoid\")])"
   ]
  },
  {
   "cell_type": "code",
   "execution_count": 20,
   "id": "6eede77a",
   "metadata": {
    "execution": {
     "iopub.execute_input": "2022-06-16T20:09:40.551341Z",
     "iopub.status.busy": "2022-06-16T20:09:40.550792Z",
     "iopub.status.idle": "2022-06-16T20:09:40.562268Z",
     "shell.execute_reply": "2022-06-16T20:09:40.562715Z"
    },
    "papermill": {
     "duration": 0.04203,
     "end_time": "2022-06-16T20:09:40.562826",
     "exception": false,
     "start_time": "2022-06-16T20:09:40.520796",
     "status": "completed"
    },
    "tags": []
   },
   "outputs": [],
   "source": [
    "nn_learner = Learner(loss, model_nn, opt, config.num_epochs)\n",
    "acc_nn = ClfCallback(nn_learner, config.bs, training_data_x , testing_data_x, training_data_y, testing_data_y)\n",
    "nn_learner.set_callbacks([acc_nn])"
   ]
  },
  {
   "cell_type": "code",
   "execution_count": 21,
   "id": "877b6cc7",
   "metadata": {
    "execution": {
     "iopub.execute_input": "2022-06-16T20:09:40.621013Z",
     "iopub.status.busy": "2022-06-16T20:09:40.620459Z",
     "iopub.status.idle": "2022-06-16T20:09:40.631770Z",
     "shell.execute_reply": "2022-06-16T20:09:40.632212Z"
    },
    "papermill": {
     "duration": 0.042186,
     "end_time": "2022-06-16T20:09:40.632325",
     "exception": false,
     "start_time": "2022-06-16T20:09:40.590139",
     "status": "completed"
    },
    "tags": []
   },
   "outputs": [],
   "source": [
    "lr_learner = Learner(loss, model_lr, opt, config.num_epochs)\n",
    "acc_lr = ClfCallback(lr_learner, config.bs, training_data_x , testing_data_x, training_data_y, testing_data_y)\n",
    "lr_learner.set_callbacks([acc_lr])"
   ]
  },
  {
   "cell_type": "code",
   "execution_count": 22,
   "id": "d9b133c3",
   "metadata": {
    "execution": {
     "iopub.execute_input": "2022-06-16T20:09:40.690056Z",
     "iopub.status.busy": "2022-06-16T20:09:40.689494Z",
     "iopub.status.idle": "2022-06-16T20:12:34.869540Z",
     "shell.execute_reply": "2022-06-16T20:12:34.869998Z"
    },
    "papermill": {
     "duration": 174.2104,
     "end_time": "2022-06-16T20:12:34.870128",
     "exception": false,
     "start_time": "2022-06-16T20:09:40.659728",
     "status": "completed"
    },
    "tags": []
   },
   "outputs": [
    {
     "name": "stdout",
     "output_type": "stream",
     "text": [
      "Epoch 0, Loss 0.2501\n",
      "Training Accuracy: 0.4920, Testing Accuracy: 0.4929\n",
      "\n"
     ]
    },
    {
     "name": "stdout",
     "output_type": "stream",
     "text": [
      "Epoch 10, Loss 0.2498\n",
      "Training Accuracy: 0.5538, Testing Accuracy: 0.5665\n",
      "\n"
     ]
    },
    {
     "name": "stdout",
     "output_type": "stream",
     "text": [
      "Epoch 20, Loss 0.2491\n",
      "Training Accuracy: 0.6301, Testing Accuracy: 0.6411\n",
      "\n"
     ]
    },
    {
     "name": "stdout",
     "output_type": "stream",
     "text": [
      "Epoch 30, Loss 0.2464\n",
      "Training Accuracy: 0.7238, Testing Accuracy: 0.7445\n",
      "\n"
     ]
    },
    {
     "name": "stdout",
     "output_type": "stream",
     "text": [
      "Epoch 40, Loss 0.231\n",
      "Training Accuracy: 0.8309, Testing Accuracy: 0.8483\n",
      "\n"
     ]
    },
    {
     "name": "stdout",
     "output_type": "stream",
     "text": [
      "Epoch 50, Loss 0.1445\n",
      "Training Accuracy: 0.9074, Testing Accuracy: 0.9178\n",
      "\n"
     ]
    },
    {
     "name": "stdout",
     "output_type": "stream",
     "text": [
      "Epoch 60, Loss 0.071\n",
      "Training Accuracy: 0.9311, Testing Accuracy: 0.9430\n",
      "\n"
     ]
    },
    {
     "name": "stdout",
     "output_type": "stream",
     "text": [
      "Epoch 70, Loss 0.0511\n",
      "Training Accuracy: 0.9437, Testing Accuracy: 0.9506\n",
      "\n"
     ]
    },
    {
     "name": "stdout",
     "output_type": "stream",
     "text": [
      "Epoch 80, Loss 0.0428\n",
      "Training Accuracy: 0.9493, Testing Accuracy: 0.9577\n",
      "\n"
     ]
    },
    {
     "name": "stdout",
     "output_type": "stream",
     "text": [
      "Epoch 90, Loss 0.0382\n",
      "Training Accuracy: 0.9548, Testing Accuracy: 0.9592\n",
      "\n"
     ]
    },
    {
     "name": "stdout",
     "output_type": "stream",
     "text": [
      "Epoch 100, Loss 0.0351\n",
      "Training Accuracy: 0.9576, Testing Accuracy: 0.9612\n",
      "\n"
     ]
    },
    {
     "name": "stdout",
     "output_type": "stream",
     "text": [
      "Epoch 110, Loss 0.0329\n",
      "Training Accuracy: 0.9606, Testing Accuracy: 0.9642\n",
      "\n"
     ]
    },
    {
     "name": "stdout",
     "output_type": "stream",
     "text": [
      "Epoch 120, Loss 0.0312\n",
      "Training Accuracy: 0.9624, Testing Accuracy: 0.9657\n",
      "\n"
     ]
    },
    {
     "name": "stdout",
     "output_type": "stream",
     "text": [
      "Epoch 130, Loss 0.0297\n",
      "Training Accuracy: 0.9645, Testing Accuracy: 0.9662\n",
      "\n"
     ]
    },
    {
     "name": "stdout",
     "output_type": "stream",
     "text": [
      "Epoch 140, Loss 0.0286\n",
      "Training Accuracy: 0.9658, Testing Accuracy: 0.9662\n",
      "\n"
     ]
    },
    {
     "name": "stdout",
     "output_type": "stream",
     "text": [
      "Epoch 150, Loss 0.0276\n",
      "Training Accuracy: 0.9670, Testing Accuracy: 0.9662\n",
      "\n"
     ]
    },
    {
     "name": "stdout",
     "output_type": "stream",
     "text": [
      "Epoch 160, Loss 0.0267\n",
      "Training Accuracy: 0.9685, Testing Accuracy: 0.9667\n",
      "\n"
     ]
    },
    {
     "name": "stdout",
     "output_type": "stream",
     "text": [
      "Epoch 170, Loss 0.0259\n",
      "Training Accuracy: 0.9691, Testing Accuracy: 0.9682\n",
      "\n"
     ]
    },
    {
     "name": "stdout",
     "output_type": "stream",
     "text": [
      "Epoch 180, Loss 0.0252\n",
      "Training Accuracy: 0.9701, Testing Accuracy: 0.9677\n",
      "\n"
     ]
    },
    {
     "name": "stdout",
     "output_type": "stream",
     "text": [
      "Epoch 190, Loss 0.0245\n",
      "Training Accuracy: 0.9710, Testing Accuracy: 0.9682\n",
      "\n"
     ]
    },
    {
     "name": "stdout",
     "output_type": "stream",
     "text": [
      "Epoch 200, Loss 0.0239\n",
      "Training Accuracy: 0.9720, Testing Accuracy: 0.9682\n",
      "\n"
     ]
    },
    {
     "name": "stdout",
     "output_type": "stream",
     "text": [
      "Epoch 210, Loss 0.0233\n",
      "Training Accuracy: 0.9722, Testing Accuracy: 0.9698\n",
      "\n"
     ]
    },
    {
     "name": "stdout",
     "output_type": "stream",
     "text": [
      "Epoch 220, Loss 0.0228\n",
      "Training Accuracy: 0.9730, Testing Accuracy: 0.9698\n",
      "\n"
     ]
    },
    {
     "name": "stdout",
     "output_type": "stream",
     "text": [
      "Epoch 230, Loss 0.0223\n",
      "Training Accuracy: 0.9744, Testing Accuracy: 0.9713\n",
      "\n"
     ]
    },
    {
     "name": "stdout",
     "output_type": "stream",
     "text": [
      "Epoch 240, Loss 0.0218\n",
      "Training Accuracy: 0.9754, Testing Accuracy: 0.9713\n",
      "\n"
     ]
    },
    {
     "data": {
      "text/plain": [
       "0.00778960624368564"
      ]
     },
     "execution_count": 22,
     "metadata": {},
     "output_type": "execute_result"
    }
   ],
   "source": [
    "nn_learner.train_loop(dl)"
   ]
  },
  {
   "cell_type": "code",
   "execution_count": 23,
   "id": "e0163366",
   "metadata": {
    "execution": {
     "iopub.execute_input": "2022-06-16T20:12:34.945410Z",
     "iopub.status.busy": "2022-06-16T20:12:34.943673Z",
     "iopub.status.idle": "2022-06-16T20:12:46.910614Z",
     "shell.execute_reply": "2022-06-16T20:12:46.911370Z"
    },
    "papermill": {
     "duration": 12.00684,
     "end_time": "2022-06-16T20:12:46.911507",
     "exception": false,
     "start_time": "2022-06-16T20:12:34.904667",
     "status": "completed"
    },
    "tags": []
   },
   "outputs": [
    {
     "name": "stdout",
     "output_type": "stream",
     "text": [
      "Epoch 0, Loss 0.2459\n",
      "Training Accuracy: 0.6678, Testing Accuracy: 0.6845\n",
      "\n"
     ]
    },
    {
     "name": "stdout",
     "output_type": "stream",
     "text": [
      "Epoch 10, Loss 0.101\n",
      "Training Accuracy: 0.9131, Testing Accuracy: 0.9214\n",
      "\n"
     ]
    },
    {
     "name": "stdout",
     "output_type": "stream",
     "text": [
      "Epoch 20, Loss 0.0776\n",
      "Training Accuracy: 0.9293, Testing Accuracy: 0.9400\n",
      "\n"
     ]
    },
    {
     "name": "stdout",
     "output_type": "stream",
     "text": [
      "Epoch 30, Loss 0.067\n",
      "Training Accuracy: 0.9388, Testing Accuracy: 0.9481\n",
      "\n"
     ]
    },
    {
     "name": "stdout",
     "output_type": "stream",
     "text": [
      "Epoch 40, Loss 0.0606\n",
      "Training Accuracy: 0.9442, Testing Accuracy: 0.9516\n",
      "\n"
     ]
    },
    {
     "name": "stdout",
     "output_type": "stream",
     "text": [
      "Epoch 50, Loss 0.0563\n",
      "Training Accuracy: 0.9468, Testing Accuracy: 0.9541\n",
      "\n"
     ]
    },
    {
     "name": "stdout",
     "output_type": "stream",
     "text": [
      "Epoch 60, Loss 0.0531\n",
      "Training Accuracy: 0.9483, Testing Accuracy: 0.9577\n",
      "\n"
     ]
    },
    {
     "name": "stdout",
     "output_type": "stream",
     "text": [
      "Epoch 70, Loss 0.0506\n",
      "Training Accuracy: 0.9496, Testing Accuracy: 0.9592\n",
      "\n"
     ]
    },
    {
     "name": "stdout",
     "output_type": "stream",
     "text": [
      "Epoch 80, Loss 0.0486\n",
      "Training Accuracy: 0.9510, Testing Accuracy: 0.9587\n",
      "\n"
     ]
    },
    {
     "name": "stdout",
     "output_type": "stream",
     "text": [
      "Epoch 90, Loss 0.047\n",
      "Training Accuracy: 0.9526, Testing Accuracy: 0.9602\n",
      "\n"
     ]
    },
    {
     "name": "stdout",
     "output_type": "stream",
     "text": [
      "Epoch 100, Loss 0.0456\n",
      "Training Accuracy: 0.9538, Testing Accuracy: 0.9607\n",
      "\n"
     ]
    },
    {
     "name": "stdout",
     "output_type": "stream",
     "text": [
      "Epoch 110, Loss 0.0444\n",
      "Training Accuracy: 0.9543, Testing Accuracy: 0.9607\n",
      "\n"
     ]
    },
    {
     "name": "stdout",
     "output_type": "stream",
     "text": [
      "Epoch 120, Loss 0.0434\n",
      "Training Accuracy: 0.9553, Testing Accuracy: 0.9622\n",
      "\n"
     ]
    },
    {
     "name": "stdout",
     "output_type": "stream",
     "text": [
      "Epoch 130, Loss 0.0425\n",
      "Training Accuracy: 0.9562, Testing Accuracy: 0.9632\n",
      "\n"
     ]
    },
    {
     "name": "stdout",
     "output_type": "stream",
     "text": [
      "Epoch 140, Loss 0.0417\n",
      "Training Accuracy: 0.9567, Testing Accuracy: 0.9632\n",
      "\n"
     ]
    },
    {
     "name": "stdout",
     "output_type": "stream",
     "text": [
      "Epoch 150, Loss 0.041\n",
      "Training Accuracy: 0.9571, Testing Accuracy: 0.9632\n",
      "\n"
     ]
    },
    {
     "name": "stdout",
     "output_type": "stream",
     "text": [
      "Epoch 160, Loss 0.0403\n",
      "Training Accuracy: 0.9575, Testing Accuracy: 0.9637\n",
      "\n"
     ]
    },
    {
     "name": "stdout",
     "output_type": "stream",
     "text": [
      "Epoch 170, Loss 0.0397\n",
      "Training Accuracy: 0.9580, Testing Accuracy: 0.9647\n",
      "\n"
     ]
    },
    {
     "name": "stdout",
     "output_type": "stream",
     "text": [
      "Epoch 180, Loss 0.0392\n",
      "Training Accuracy: 0.9584, Testing Accuracy: 0.9652\n",
      "\n"
     ]
    },
    {
     "name": "stdout",
     "output_type": "stream",
     "text": [
      "Epoch 190, Loss 0.0387\n",
      "Training Accuracy: 0.9589, Testing Accuracy: 0.9652\n",
      "\n"
     ]
    },
    {
     "name": "stdout",
     "output_type": "stream",
     "text": [
      "Epoch 200, Loss 0.0382\n",
      "Training Accuracy: 0.9596, Testing Accuracy: 0.9657\n",
      "\n"
     ]
    },
    {
     "name": "stdout",
     "output_type": "stream",
     "text": [
      "Epoch 210, Loss 0.0378\n",
      "Training Accuracy: 0.9598, Testing Accuracy: 0.9657\n",
      "\n"
     ]
    },
    {
     "name": "stdout",
     "output_type": "stream",
     "text": [
      "Epoch 220, Loss 0.0374\n",
      "Training Accuracy: 0.9601, Testing Accuracy: 0.9662\n",
      "\n"
     ]
    },
    {
     "name": "stdout",
     "output_type": "stream",
     "text": [
      "Epoch 230, Loss 0.037\n",
      "Training Accuracy: 0.9604, Testing Accuracy: 0.9667\n",
      "\n"
     ]
    },
    {
     "name": "stdout",
     "output_type": "stream",
     "text": [
      "Epoch 240, Loss 0.0366\n",
      "Training Accuracy: 0.9604, Testing Accuracy: 0.9667\n",
      "\n"
     ]
    },
    {
     "data": {
      "text/plain": [
       "0.055726731569557736"
      ]
     },
     "execution_count": 23,
     "metadata": {},
     "output_type": "execute_result"
    }
   ],
   "source": [
    "lr_learner.train_loop(dl)"
   ]
  },
  {
   "cell_type": "code",
   "execution_count": 24,
   "id": "ca410940",
   "metadata": {
    "execution": {
     "iopub.execute_input": "2022-06-16T20:12:47.003363Z",
     "iopub.status.busy": "2022-06-16T20:12:47.002782Z",
     "iopub.status.idle": "2022-06-16T20:12:47.222624Z",
     "shell.execute_reply": "2022-06-16T20:12:47.222136Z"
    },
    "papermill": {
     "duration": 0.269509,
     "end_time": "2022-06-16T20:12:47.222736",
     "exception": false,
     "start_time": "2022-06-16T20:12:46.953227",
     "status": "completed"
    },
    "tags": []
   },
   "outputs": [
    {
     "data": {
      "text/plain": [
       "<matplotlib.legend.Legend at 0x7f55bce52b00>"
      ]
     },
     "execution_count": 24,
     "metadata": {},
     "output_type": "execute_result"
    },
    {
     "data": {
      "image/png": "[encoded data removed]",
      "text/plain": [
       "<Figure size 1080x720 with 1 Axes>"
      ]
     },
     "metadata": {
      "needs_background": "light"
     },
     "output_type": "display_data"
    }
   ],
   "source": [
    "#comparing the results of NN and LR\n",
    "plt.figure(figsize=(15,10))\n",
    "\n",
    "# Neural Network plots\n",
    "plt.plot(acc_nn.accuracies, 'r-', label = \"Training Accuracies - NN\")\n",
    "plt.plot(acc_nn.test_accuracies, 'g-', label = \"Testing Accuracies - NN\")\n",
    "\n",
    "# Logistic Regression plots\n",
    "plt.plot(acc_lr.accuracies, 'k-', label = \"Training Accuracies - LR\")\n",
    "plt.plot(acc_lr.test_accuracies, 'b-', label = \"Testing Accuracies - LR\")\n",
    "plt.legend()"
   ]
  },
  {
   "cell_type": "markdown",
   "id": "80dfb35c",
   "metadata": {
    "papermill": {
     "duration": 0.042578,
     "end_time": "2022-06-16T20:12:47.308074",
     "exception": false,
     "start_time": "2022-06-16T20:12:47.265496",
     "status": "completed"
    },
    "tags": []
   },
   "source": [
    "#### Plotting the outputs of this layer of the NN.\n"
   ]
  },
  {
   "cell_type": "code",
   "execution_count": 25,
   "id": "45eb2ff5",
   "metadata": {
    "execution": {
     "iopub.execute_input": "2022-06-16T20:12:47.396771Z",
     "iopub.status.busy": "2022-06-16T20:12:47.396210Z",
     "iopub.status.idle": "2022-06-16T20:12:47.431224Z",
     "shell.execute_reply": "2022-06-16T20:12:47.432004Z"
    },
    "papermill": {
     "duration": 0.081692,
     "end_time": "2022-06-16T20:12:47.432142",
     "exception": false,
     "start_time": "2022-06-16T20:12:47.350450",
     "status": "completed"
    },
    "tags": []
   },
   "outputs": [],
   "source": [
    "new_model = Model(layers[:-2])\n",
    "testing_plot = new_model(testing_data_x)"
   ]
  },
  {
   "cell_type": "code",
   "execution_count": 26,
   "id": "4c0a5485",
   "metadata": {
    "execution": {
     "iopub.execute_input": "2022-06-16T20:12:47.524586Z",
     "iopub.status.busy": "2022-06-16T20:12:47.524039Z",
     "iopub.status.idle": "2022-06-16T20:12:47.710059Z",
     "shell.execute_reply": "2022-06-16T20:12:47.709572Z"
    },
    "papermill": {
     "duration": 0.235135,
     "end_time": "2022-06-16T20:12:47.710169",
     "exception": false,
     "start_time": "2022-06-16T20:12:47.475034",
     "status": "completed"
    },
    "tags": []
   },
   "outputs": [
    {
     "data": {
      "text/plain": [
       "Text(0.5, 1.0, 'Outputs')"
      ]
     },
     "execution_count": 26,
     "metadata": {},
     "output_type": "execute_result"
    },
    {
     "data": {
      "image/png": "[encoded data removed]",
      "text/plain": [
       "<Figure size 576x504 with 1 Axes>"
      ]
     },
     "metadata": {
      "needs_background": "light"
     },
     "output_type": "display_data"
    }
   ],
   "source": [
    "# Plotting the scatter plot of points and color coding by class\n",
    "plt.figure(figsize=(8,7))\n",
    "plt.scatter(testing_plot[:,0], testing_plot[:,1], alpha = 0.1, c = y_test.ravel());\n",
    "plt.title('Outputs')"
   ]
  },
  {
   "cell_type": "markdown",
   "id": "a74fcf8f",
   "metadata": {
    "papermill": {
     "duration": 0.044155,
     "end_time": "2022-06-16T20:12:47.798904",
     "exception": false,
     "start_time": "2022-06-16T20:12:47.754749",
     "status": "completed"
    },
    "tags": []
   },
   "source": [
    "Probability contours"
   ]
  },
  {
   "cell_type": "code",
   "execution_count": 27,
   "id": "d0afc8e3",
   "metadata": {
    "execution": {
     "iopub.execute_input": "2022-06-16T20:12:47.913069Z",
     "iopub.status.busy": "2022-06-16T20:12:47.912522Z",
     "iopub.status.idle": "2022-06-16T20:12:47.924101Z",
     "shell.execute_reply": "2022-06-16T20:12:47.923647Z"
    },
    "papermill": {
     "duration": 0.080962,
     "end_time": "2022-06-16T20:12:47.924206",
     "exception": false,
     "start_time": "2022-06-16T20:12:47.843244",
     "status": "completed"
    },
    "tags": []
   },
   "outputs": [],
   "source": [
    "model_prob = Model(layers[-2:]) "
   ]
  },
  {
   "cell_type": "code",
   "execution_count": 28,
   "id": "9b96e238",
   "metadata": {
    "execution": {
     "iopub.execute_input": "2022-06-16T20:12:48.018118Z",
     "iopub.status.busy": "2022-06-16T20:12:48.017553Z",
     "iopub.status.idle": "2022-06-16T20:12:48.030632Z",
     "shell.execute_reply": "2022-06-16T20:12:48.031393Z"
    },
    "papermill": {
     "duration": 0.062733,
     "end_time": "2022-06-16T20:12:48.031512",
     "exception": false,
     "start_time": "2022-06-16T20:12:47.968779",
     "status": "completed"
    },
    "tags": []
   },
   "outputs": [],
   "source": [
    "#creating the x and y ranges according to the above generated plot.\n",
    "x_range = np.linspace(-4, 1, 100) \n",
    "y_range = np.linspace(-6, 6, 100) \n",
    "x_grid, y_grid = np.meshgrid(x_range, y_range) # x_grid and y_grig are of size 100 X 100\n",
    "\n",
    "# converting x_grid and y_grid to continuous arrays\n",
    "x_gridflat = np.ravel(x_grid)\n",
    "y_gridflat = np.ravel(y_grid)\n",
    "\n",
    "# The last layer of the current model takes two columns as input. Hence transpose of np.vstack() is required.\n",
    "X = np.vstack((x_gridflat, y_gridflat)).T\n",
    "\n",
    "prob_contour = model_prob(X).reshape(100,100) "
   ]
  },
  {
   "cell_type": "code",
   "execution_count": 29,
   "id": "da72499a",
   "metadata": {
    "execution": {
     "iopub.execute_input": "2022-06-16T20:12:48.126080Z",
     "iopub.status.busy": "2022-06-16T20:12:48.125514Z",
     "iopub.status.idle": "2022-06-16T20:12:48.367279Z",
     "shell.execute_reply": "2022-06-16T20:12:48.366800Z"
    },
    "papermill": {
     "duration": 0.290604,
     "end_time": "2022-06-16T20:12:48.367389",
     "exception": false,
     "start_time": "2022-06-16T20:12:48.076785",
     "status": "completed"
    },
    "tags": []
   },
   "outputs": [
    {
     "data": {
      "image/png": "[encoded data removed]",
      "text/plain": [
       "<Figure size 720x648 with 1 Axes>"
      ]
     },
     "metadata": {
      "needs_background": "light"
     },
     "output_type": "display_data"
    }
   ],
   "source": [
    "plt.figure(figsize=(10,9))\n",
    "plt.scatter(testing_plot[:,0], testing_plot[:,1], alpha = 0.1, c = y_test.ravel())\n",
    "contours = plt.contour(x_grid,y_grid,prob_contour)\n",
    "plt.title('Probability Contours')\n",
    "plt.clabel(contours, inline = True );"
   ]
  },
  {
   "cell_type": "code",
   "execution_count": null,
   "id": "e81b4ac7",
   "metadata": {
    "papermill": {
     "duration": 0.046949,
     "end_time": "2022-06-16T20:12:48.461484",
     "exception": false,
     "start_time": "2022-06-16T20:12:48.414535",
     "status": "completed"
    },
    "tags": []
   },
   "outputs": [],
   "source": []
  }
 ],
 "metadata": {
  "kernelspec": {
   "display_name": "Python 3",
   "language": "python",
   "name": "python3"
  },
  "language_info": {
   "codemirror_mode": {
    "name": "ipython",
    "version": 3
   },
   "file_extension": ".py",
   "mimetype": "text/x-python",
   "name": "python",
   "nbconvert_exporter": "python",
   "pygments_lexer": "ipython3",
   "version": "3.6.15"
  },
  "papermill": {
   "default_parameters": {},
   "duration": 194.096433,
   "end_time": "2022-06-16T20:12:48.827370",
   "environment_variables": {},
   "exception": null,
   "input_path": "2020-08-11-part2.ipynb",
   "output_path": "2020-08-11-part2.ipynb",
   "parameters": {},
   "start_time": "2022-06-16T20:09:34.730937",
   "version": "2.3.3"
  }
 },
 "nbformat": 4,
 "nbformat_minor": 5
}