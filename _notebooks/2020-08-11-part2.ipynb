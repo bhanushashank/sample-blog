{
 "cells": [
  {
   "cell_type": "markdown",
   "id": "98380cd3",
   "metadata": {
    "papermill": {
     "duration": 0.029249,
     "end_time": "2022-08-21T10:10:04.378984",
     "exception": false,
     "start_time": "2022-08-21T10:10:04.349735",
     "status": "completed"
    },
    "tags": []
   },
   "source": [
    "# Distinguish Your Own Digits (DYOD)"
   ]
  },
  {
   "cell_type": "markdown",
   "id": "ef31240d",
   "metadata": {
    "papermill": {
     "duration": 0.024133,
     "end_time": "2022-08-21T10:10:04.427909",
     "exception": false,
     "start_time": "2022-08-21T10:10:04.403776",
     "status": "completed"
    },
    "tags": []
   },
   "source": [
    "You are going to write a classifier that distinguishes between the number 3 and number 8."
   ]
  },
  {
   "cell_type": "code",
   "execution_count": 1,
   "id": "b15c8646",
   "metadata": {
    "execution": {
     "iopub.execute_input": "2022-08-21T10:10:04.485936Z",
     "iopub.status.busy": "2022-08-21T10:10:04.485380Z",
     "iopub.status.idle": "2022-08-21T10:10:04.496250Z",
     "shell.execute_reply": "2022-08-21T10:10:04.495671Z"
    },
    "papermill": {
     "duration": 0.044296,
     "end_time": "2022-08-21T10:10:04.496362",
     "exception": false,
     "start_time": "2022-08-21T10:10:04.452066",
     "status": "completed"
    },
    "tags": []
   },
   "outputs": [],
   "source": [
    "%load_ext autoreload\n",
    "%autoreload 2"
   ]
  },
  {
   "cell_type": "code",
   "execution_count": 2,
   "id": "22ef38dc",
   "metadata": {
    "execution": {
     "iopub.execute_input": "2022-08-21T10:10:04.548157Z",
     "iopub.status.busy": "2022-08-21T10:10:04.547608Z",
     "iopub.status.idle": "2022-08-21T10:10:05.046346Z",
     "shell.execute_reply": "2022-08-21T10:10:05.045843Z"
    },
    "papermill": {
     "duration": 0.525932,
     "end_time": "2022-08-21T10:10:05.046464",
     "exception": false,
     "start_time": "2022-08-21T10:10:04.520532",
     "status": "completed"
    },
    "tags": []
   },
   "outputs": [],
   "source": [
    "%matplotlib inline\n",
    "import numpy as np\n",
    "import matplotlib.pyplot as plt\n",
    "import pandas as pd"
   ]
  },
  {
   "cell_type": "markdown",
   "id": "ba036198",
   "metadata": {
    "papermill": {
     "duration": 0.024102,
     "end_time": "2022-08-21T10:10:05.094662",
     "exception": false,
     "start_time": "2022-08-21T10:10:05.070560",
     "status": "completed"
    },
    "tags": []
   },
   "source": [
    "From the command line run `pip install mnist`. This is a library that will help you bring down the mnist dataset. If you run this from a notebook, you need to put  `!pip install mnist` in a cell by itself."
   ]
  },
  {
   "cell_type": "code",
   "execution_count": 3,
   "id": "bb6ad8a1",
   "metadata": {
    "execution": {
     "iopub.execute_input": "2022-08-21T10:10:05.146492Z",
     "iopub.status.busy": "2022-08-21T10:10:05.145916Z",
     "iopub.status.idle": "2022-08-21T10:10:06.760970Z",
     "shell.execute_reply": "2022-08-21T10:10:06.760472Z"
    },
    "papermill": {
     "duration": 1.642309,
     "end_time": "2022-08-21T10:10:06.761081",
     "exception": false,
     "start_time": "2022-08-21T10:10:05.118772",
     "status": "completed"
    },
    "tags": []
   },
   "outputs": [
    {
     "name": "stdout",
     "output_type": "stream",
     "text": [
      "Collecting mnist\r\n"
     ]
    },
    {
     "name": "stdout",
     "output_type": "stream",
     "text": [
      "  Downloading mnist-0.2.2-py2.py3-none-any.whl (3.5 kB)\r\n"
     ]
    },
    {
     "name": "stdout",
     "output_type": "stream",
     "text": [
      "Requirement already satisfied: numpy in /opt/hostedtoolcache/Python/3.6.15/x64/lib/python3.6/site-packages (from mnist) (1.19.5)\r\n"
     ]
    },
    {
     "name": "stdout",
     "output_type": "stream",
     "text": [
      "Installing collected packages: mnist\r\n"
     ]
    },
    {
     "name": "stdout",
     "output_type": "stream",
     "text": [
      "Successfully installed mnist-0.2.2\r\n"
     ]
    }
   ],
   "source": [
    "!pip install mnist"
   ]
  },
  {
   "cell_type": "markdown",
   "id": "69df9c9a",
   "metadata": {
    "papermill": {
     "duration": 0.02552,
     "end_time": "2022-08-21T10:10:06.812321",
     "exception": false,
     "start_time": "2022-08-21T10:10:06.786801",
     "status": "completed"
    },
    "tags": []
   },
   "source": [
    "## Preparing the Data"
   ]
  },
  {
   "cell_type": "code",
   "execution_count": 4,
   "id": "7f69d806",
   "metadata": {
    "execution": {
     "iopub.execute_input": "2022-08-21T10:10:06.866591Z",
     "iopub.status.busy": "2022-08-21T10:10:06.866012Z",
     "iopub.status.idle": "2022-08-21T10:10:06.880407Z",
     "shell.execute_reply": "2022-08-21T10:10:06.879947Z"
    },
    "papermill": {
     "duration": 0.042809,
     "end_time": "2022-08-21T10:10:06.880512",
     "exception": false,
     "start_time": "2022-08-21T10:10:06.837703",
     "status": "completed"
    },
    "tags": []
   },
   "outputs": [],
   "source": [
    "import mnist"
   ]
  },
  {
   "cell_type": "code",
   "execution_count": 5,
   "id": "a411e44f",
   "metadata": {
    "execution": {
     "iopub.execute_input": "2022-08-21T10:10:06.935279Z",
     "iopub.status.busy": "2022-08-21T10:10:06.934723Z",
     "iopub.status.idle": "2022-08-21T10:10:07.444036Z",
     "shell.execute_reply": "2022-08-21T10:10:07.443539Z"
    },
    "papermill": {
     "duration": 0.537982,
     "end_time": "2022-08-21T10:10:07.444147",
     "exception": false,
     "start_time": "2022-08-21T10:10:06.906165",
     "status": "completed"
    },
    "tags": []
   },
   "outputs": [],
   "source": [
    "train_images = mnist.train_images()\n",
    "train_labels = mnist.train_labels()"
   ]
  },
  {
   "cell_type": "code",
   "execution_count": 6,
   "id": "dceab3a5",
   "metadata": {
    "execution": {
     "iopub.execute_input": "2022-08-21T10:10:07.498737Z",
     "iopub.status.busy": "2022-08-21T10:10:07.498167Z",
     "iopub.status.idle": "2022-08-21T10:10:07.512595Z",
     "shell.execute_reply": "2022-08-21T10:10:07.512159Z"
    },
    "papermill": {
     "duration": 0.042848,
     "end_time": "2022-08-21T10:10:07.512693",
     "exception": false,
     "start_time": "2022-08-21T10:10:07.469845",
     "status": "completed"
    },
    "tags": []
   },
   "outputs": [
    {
     "data": {
      "text/plain": [
       "((60000, 28, 28), (60000,))"
      ]
     },
     "execution_count": 6,
     "metadata": {},
     "output_type": "execute_result"
    }
   ],
   "source": [
    "train_images.shape, train_labels.shape"
   ]
  },
  {
   "cell_type": "code",
   "execution_count": 7,
   "id": "f50dc2bb",
   "metadata": {
    "execution": {
     "iopub.execute_input": "2022-08-21T10:10:07.567170Z",
     "iopub.status.busy": "2022-08-21T10:10:07.566629Z",
     "iopub.status.idle": "2022-08-21T10:10:07.731530Z",
     "shell.execute_reply": "2022-08-21T10:10:07.730437Z"
    },
    "papermill": {
     "duration": 0.193386,
     "end_time": "2022-08-21T10:10:07.731648",
     "exception": false,
     "start_time": "2022-08-21T10:10:07.538262",
     "status": "completed"
    },
    "tags": []
   },
   "outputs": [],
   "source": [
    "test_images = mnist.test_images()\n",
    "test_labels = mnist.test_labels()"
   ]
  },
  {
   "cell_type": "code",
   "execution_count": 8,
   "id": "fc38cf1b",
   "metadata": {
    "execution": {
     "iopub.execute_input": "2022-08-21T10:10:07.790986Z",
     "iopub.status.busy": "2022-08-21T10:10:07.786236Z",
     "iopub.status.idle": "2022-08-21T10:10:07.798932Z",
     "shell.execute_reply": "2022-08-21T10:10:07.798387Z"
    },
    "papermill": {
     "duration": 0.041408,
     "end_time": "2022-08-21T10:10:07.799032",
     "exception": false,
     "start_time": "2022-08-21T10:10:07.757624",
     "status": "completed"
    },
    "tags": []
   },
   "outputs": [
    {
     "data": {
      "text/plain": [
       "((10000, 28, 28), (10000,))"
      ]
     },
     "execution_count": 8,
     "metadata": {},
     "output_type": "execute_result"
    }
   ],
   "source": [
    "test_images.shape, test_labels.shape"
   ]
  },
  {
   "cell_type": "code",
   "execution_count": 9,
   "id": "f9ed8fe0",
   "metadata": {
    "execution": {
     "iopub.execute_input": "2022-08-21T10:10:07.854346Z",
     "iopub.status.busy": "2022-08-21T10:10:07.853775Z",
     "iopub.status.idle": "2022-08-21T10:10:07.985728Z",
     "shell.execute_reply": "2022-08-21T10:10:07.986181Z"
    },
    "papermill": {
     "duration": 0.161255,
     "end_time": "2022-08-21T10:10:07.986310",
     "exception": false,
     "start_time": "2022-08-21T10:10:07.825055",
     "status": "completed"
    },
    "tags": []
   },
   "outputs": [
    {
     "name": "stdout",
     "output_type": "stream",
     "text": [
      "2\n"
     ]
    },
    {
     "data": {
      "text/plain": [
       "<matplotlib.image.AxesImage at 0x7fc241c5b8d0>"
      ]
     },
     "execution_count": 9,
     "metadata": {},
     "output_type": "execute_result"
    },
    {
     "data": {
      "image/png": "[encoded data removed]",
      "text/plain": [
       "<Figure size 432x288 with 1 Axes>"
      ]
     },
     "metadata": {
      "needs_background": "light"
     },
     "output_type": "display_data"
    }
   ],
   "source": [
    "image_index = 7776 # You may select anything up to 60,000\n",
    "print(train_labels[image_index]) \n",
    "plt.imshow(train_images[image_index], cmap='Greys')"
   ]
  },
  {
   "cell_type": "markdown",
   "id": "a8d2388d",
   "metadata": {
    "papermill": {
     "duration": 0.027344,
     "end_time": "2022-08-21T10:10:08.040851",
     "exception": false,
     "start_time": "2022-08-21T10:10:08.013507",
     "status": "completed"
    },
    "tags": []
   },
   "source": [
    "## Filter data to get 3 and 8 out"
   ]
  },
  {
   "cell_type": "code",
   "execution_count": 10,
   "id": "776f7fc7",
   "metadata": {
    "execution": {
     "iopub.execute_input": "2022-08-21T10:10:08.099661Z",
     "iopub.status.busy": "2022-08-21T10:10:08.099095Z",
     "iopub.status.idle": "2022-08-21T10:10:08.115911Z",
     "shell.execute_reply": "2022-08-21T10:10:08.115445Z"
    },
    "papermill": {
     "duration": 0.047962,
     "end_time": "2022-08-21T10:10:08.116016",
     "exception": false,
     "start_time": "2022-08-21T10:10:08.068054",
     "status": "completed"
    },
    "tags": []
   },
   "outputs": [],
   "source": [
    "train_filter = np.where((train_labels == 3 ) | (train_labels == 8))\n",
    "test_filter = np.where((test_labels == 3) | (test_labels == 8))\n",
    "X_train, y_train = train_images[train_filter], train_labels[train_filter]\n",
    "X_test, y_test = test_images[test_filter], test_labels[test_filter]"
   ]
  },
  {
   "cell_type": "markdown",
   "id": "948f0b7e",
   "metadata": {
    "papermill": {
     "duration": 0.027214,
     "end_time": "2022-08-21T10:10:08.170465",
     "exception": false,
     "start_time": "2022-08-21T10:10:08.143251",
     "status": "completed"
    },
    "tags": []
   },
   "source": [
    "We normalize the pizel values in the 0 to 1 range"
   ]
  },
  {
   "cell_type": "code",
   "execution_count": 11,
   "id": "ee4c2166",
   "metadata": {
    "execution": {
     "iopub.execute_input": "2022-08-21T10:10:08.228383Z",
     "iopub.status.busy": "2022-08-21T10:10:08.227822Z",
     "iopub.status.idle": "2022-08-21T10:10:08.268025Z",
     "shell.execute_reply": "2022-08-21T10:10:08.268432Z"
    },
    "papermill": {
     "duration": 0.070932,
     "end_time": "2022-08-21T10:10:08.268566",
     "exception": false,
     "start_time": "2022-08-21T10:10:08.197634",
     "status": "completed"
    },
    "tags": []
   },
   "outputs": [],
   "source": [
    "X_train = X_train/255.\n",
    "X_test = X_test/255."
   ]
  },
  {
   "cell_type": "markdown",
   "id": "ddcf4fab",
   "metadata": {
    "papermill": {
     "duration": 0.027262,
     "end_time": "2022-08-21T10:10:08.323261",
     "exception": false,
     "start_time": "2022-08-21T10:10:08.295999",
     "status": "completed"
    },
    "tags": []
   },
   "source": [
    "And setup the labels as 1 (when the digit is 3) and 0 (when the digit is 8)"
   ]
  },
  {
   "cell_type": "code",
   "execution_count": 12,
   "id": "7dc908f2",
   "metadata": {
    "execution": {
     "iopub.execute_input": "2022-08-21T10:10:08.381127Z",
     "iopub.status.busy": "2022-08-21T10:10:08.380578Z",
     "iopub.status.idle": "2022-08-21T10:10:08.392524Z",
     "shell.execute_reply": "2022-08-21T10:10:08.391982Z"
    },
    "papermill": {
     "duration": 0.04221,
     "end_time": "2022-08-21T10:10:08.392624",
     "exception": false,
     "start_time": "2022-08-21T10:10:08.350414",
     "status": "completed"
    },
    "tags": []
   },
   "outputs": [],
   "source": [
    "y_train = 1*(y_train==3)\n",
    "y_test = 1*(y_test==3)"
   ]
  },
  {
   "cell_type": "code",
   "execution_count": 13,
   "id": "01e4e969",
   "metadata": {
    "execution": {
     "iopub.execute_input": "2022-08-21T10:10:08.450797Z",
     "iopub.status.busy": "2022-08-21T10:10:08.450237Z",
     "iopub.status.idle": "2022-08-21T10:10:08.462993Z",
     "shell.execute_reply": "2022-08-21T10:10:08.462551Z"
    },
    "papermill": {
     "duration": 0.04329,
     "end_time": "2022-08-21T10:10:08.463091",
     "exception": false,
     "start_time": "2022-08-21T10:10:08.419801",
     "status": "completed"
    },
    "tags": []
   },
   "outputs": [
    {
     "data": {
      "text/plain": [
       "((11982, 28, 28), (1984, 28, 28))"
      ]
     },
     "execution_count": 13,
     "metadata": {},
     "output_type": "execute_result"
    }
   ],
   "source": [
    "X_train.shape, X_test.shape"
   ]
  },
  {
   "cell_type": "markdown",
   "id": "5ccf3f85",
   "metadata": {
    "papermill": {
     "duration": 0.027183,
     "end_time": "2022-08-21T10:10:08.517546",
     "exception": false,
     "start_time": "2022-08-21T10:10:08.490363",
     "status": "completed"
    },
    "tags": []
   },
   "source": [
    "We reshape the data to flatten the image pixels into a set of features or co-variates:"
   ]
  },
  {
   "cell_type": "code",
   "execution_count": 14,
   "id": "5286a4a3",
   "metadata": {
    "execution": {
     "iopub.execute_input": "2022-08-21T10:10:08.575951Z",
     "iopub.status.busy": "2022-08-21T10:10:08.575398Z",
     "iopub.status.idle": "2022-08-21T10:10:08.588922Z",
     "shell.execute_reply": "2022-08-21T10:10:08.588383Z"
    },
    "papermill": {
     "duration": 0.044072,
     "end_time": "2022-08-21T10:10:08.589022",
     "exception": false,
     "start_time": "2022-08-21T10:10:08.544950",
     "status": "completed"
    },
    "tags": []
   },
   "outputs": [
    {
     "data": {
      "text/plain": [
       "((11982, 784), (1984, 784))"
      ]
     },
     "execution_count": 14,
     "metadata": {},
     "output_type": "execute_result"
    }
   ],
   "source": [
    "X_train = X_train.reshape(X_train.shape[0], -1)\n",
    "X_test = X_test.reshape(X_test.shape[0], -1)\n",
    "X_train.shape, X_test.shape"
   ]
  },
  {
   "cell_type": "code",
   "execution_count": 15,
   "id": "73c5f88a",
   "metadata": {
    "execution": {
     "iopub.execute_input": "2022-08-21T10:10:08.648376Z",
     "iopub.status.busy": "2022-08-21T10:10:08.647818Z",
     "iopub.status.idle": "2022-08-21T10:10:08.665670Z",
     "shell.execute_reply": "2022-08-21T10:10:08.665237Z"
    },
    "papermill": {
     "duration": 0.049166,
     "end_time": "2022-08-21T10:10:08.665774",
     "exception": false,
     "start_time": "2022-08-21T10:10:08.616608",
     "status": "completed"
    },
    "tags": []
   },
   "outputs": [],
   "source": [
    "#Impoting functions from 'Kudzu'\n",
    "from kudzu.model import Model\n",
    "from kudzu.train import Learner\n",
    "from kudzu.optim import GD\n",
    "from kudzu.data import Data, Sampler,Dataloader\n",
    "\n",
    "from kudzu.callbacks import AccCallback\n",
    "from kudzu.callbacks import ClfCallback\n",
    "\n",
    "from kudzu.loss import MSE\n",
    "\n",
    "from kudzu.layer import Sigmoid,Relu\n",
    "from kudzu.layer import Affine"
   ]
  },
  {
   "cell_type": "markdown",
   "id": "bc01172a",
   "metadata": {
    "papermill": {
     "duration": 0.027939,
     "end_time": "2022-08-21T10:10:08.721468",
     "exception": false,
     "start_time": "2022-08-21T10:10:08.693529",
     "status": "completed"
    },
    "tags": []
   },
   "source": [
    "### Let us create a `Config` class, to store important parameters. \n",
    "This class essentially plays the role of a dictionary."
   ]
  },
  {
   "cell_type": "code",
   "execution_count": 16,
   "id": "978281aa",
   "metadata": {
    "execution": {
     "iopub.execute_input": "2022-08-21T10:10:08.780984Z",
     "iopub.status.busy": "2022-08-21T10:10:08.780439Z",
     "iopub.status.idle": "2022-08-21T10:10:08.792166Z",
     "shell.execute_reply": "2022-08-21T10:10:08.791623Z"
    },
    "papermill": {
     "duration": 0.043289,
     "end_time": "2022-08-21T10:10:08.792268",
     "exception": false,
     "start_time": "2022-08-21T10:10:08.748979",
     "status": "completed"
    },
    "tags": []
   },
   "outputs": [],
   "source": [
    "class Config:\n",
    "    pass\n",
    "config = Config()\n",
    "config.lr = 0.001\n",
    "config.num_epochs = 250\n",
    "config.bs = 50"
   ]
  },
  {
   "cell_type": "markdown",
   "id": "1385fa59",
   "metadata": {
    "papermill": {
     "duration": 0.027482,
     "end_time": "2022-08-21T10:10:08.847494",
     "exception": false,
     "start_time": "2022-08-21T10:10:08.820012",
     "status": "completed"
    },
    "tags": []
   },
   "source": [
    "### Running Models with the Training data\n",
    "Details about the network layers:\n",
    "- A first affine layer has 784 inputs and does 100 affine transforms. These are followed by a Relu\n",
    "- A second affine layer has 100 inputs from the 100 activations of the past layer, and does 100 affine transforms. These are followed by a Relu\n",
    "- A third affine layer has 100 activations and does 2 affine transformations to create an embedding for visualization. There is no non-linearity here.\n",
    "- A final \"logistic regression\" which has an affine transform from 2 inputs to 1 output, which is squeezed through a sigmoid.\n"
   ]
  },
  {
   "cell_type": "code",
   "execution_count": 17,
   "id": "2b9c66db",
   "metadata": {
    "execution": {
     "iopub.execute_input": "2022-08-21T10:10:08.906581Z",
     "iopub.status.busy": "2022-08-21T10:10:08.906009Z",
     "iopub.status.idle": "2022-08-21T10:10:08.917679Z",
     "shell.execute_reply": "2022-08-21T10:10:08.917240Z"
    },
    "papermill": {
     "duration": 0.042875,
     "end_time": "2022-08-21T10:10:08.917778",
     "exception": false,
     "start_time": "2022-08-21T10:10:08.874903",
     "status": "completed"
    },
    "tags": []
   },
   "outputs": [],
   "source": [
    "data = Data(X_train, y_train.reshape(-1,1))\n",
    "sampler = Sampler(data, config.bs, shuffle=True)\n",
    "\n",
    "dl = Dataloader(data, sampler)\n",
    "\n",
    "opt = GD(config.lr)\n",
    "loss = MSE()"
   ]
  },
  {
   "cell_type": "code",
   "execution_count": 18,
   "id": "b275e4c2",
   "metadata": {
    "execution": {
     "iopub.execute_input": "2022-08-21T10:10:08.976724Z",
     "iopub.status.busy": "2022-08-21T10:10:08.976167Z",
     "iopub.status.idle": "2022-08-21T10:10:08.987806Z",
     "shell.execute_reply": "2022-08-21T10:10:08.987349Z"
    },
    "papermill": {
     "duration": 0.042557,
     "end_time": "2022-08-21T10:10:08.987907",
     "exception": false,
     "start_time": "2022-08-21T10:10:08.945350",
     "status": "completed"
    },
    "tags": []
   },
   "outputs": [],
   "source": [
    "training_data_x = X_train\n",
    "testing_data_x = X_test\n",
    "training_data_y = y_train.reshape(-1,1)\n",
    "testing_data_y = y_test.reshape(-1,1)"
   ]
  },
  {
   "cell_type": "code",
   "execution_count": 19,
   "id": "76951160",
   "metadata": {
    "execution": {
     "iopub.execute_input": "2022-08-21T10:10:09.047991Z",
     "iopub.status.busy": "2022-08-21T10:10:09.047430Z",
     "iopub.status.idle": "2022-08-21T10:10:09.064301Z",
     "shell.execute_reply": "2022-08-21T10:10:09.063847Z"
    },
    "papermill": {
     "duration": 0.048794,
     "end_time": "2022-08-21T10:10:09.064403",
     "exception": false,
     "start_time": "2022-08-21T10:10:09.015609",
     "status": "completed"
    },
    "tags": []
   },
   "outputs": [
    {
     "name": "stdout",
     "output_type": "stream",
     "text": [
      "xavier\n",
      "xavier\n",
      "xavier\n",
      "xavier\n",
      "xavier\n"
     ]
    }
   ],
   "source": [
    "layers = [Affine(\"first\", 784, 100), Relu(\"first\"), Affine(\"second\", 100, 100), Relu(\"second\"), Affine(\"third\", 100, 2), Affine(\"last\", 2, 1), Sigmoid(\"last\")]\n",
    "model_nn = Model(layers)\n",
    "model_lr = Model([Affine(\"logits\", 784, 1), Sigmoid(\"sigmoid\")])"
   ]
  },
  {
   "cell_type": "code",
   "execution_count": 20,
   "id": "6eede77a",
   "metadata": {
    "execution": {
     "iopub.execute_input": "2022-08-21T10:10:09.128751Z",
     "iopub.status.busy": "2022-08-21T10:10:09.125707Z",
     "iopub.status.idle": "2022-08-21T10:10:09.138161Z",
     "shell.execute_reply": "2022-08-21T10:10:09.137595Z"
    },
    "papermill": {
     "duration": 0.045499,
     "end_time": "2022-08-21T10:10:09.138267",
     "exception": false,
     "start_time": "2022-08-21T10:10:09.092768",
     "status": "completed"
    },
    "tags": []
   },
   "outputs": [],
   "source": [
    "nn_learner = Learner(loss, model_nn, opt, config.num_epochs)\n",
    "acc_nn = ClfCallback(nn_learner, config.bs, training_data_x , testing_data_x, training_data_y, testing_data_y)\n",
    "nn_learner.set_callbacks([acc_nn])"
   ]
  },
  {
   "cell_type": "code",
   "execution_count": 21,
   "id": "877b6cc7",
   "metadata": {
    "execution": {
     "iopub.execute_input": "2022-08-21T10:10:09.203144Z",
     "iopub.status.busy": "2022-08-21T10:10:09.198986Z",
     "iopub.status.idle": "2022-08-21T10:10:09.209594Z",
     "shell.execute_reply": "2022-08-21T10:10:09.209139Z"
    },
    "papermill": {
     "duration": 0.043586,
     "end_time": "2022-08-21T10:10:09.209696",
     "exception": false,
     "start_time": "2022-08-21T10:10:09.166110",
     "status": "completed"
    },
    "tags": []
   },
   "outputs": [],
   "source": [
    "lr_learner = Learner(loss, model_lr, opt, config.num_epochs)\n",
    "acc_lr = ClfCallback(lr_learner, config.bs, training_data_x , testing_data_x, training_data_y, testing_data_y)\n",
    "lr_learner.set_callbacks([acc_lr])"
   ]
  },
  {
   "cell_type": "code",
   "execution_count": 22,
   "id": "d9b133c3",
   "metadata": {
    "execution": {
     "iopub.execute_input": "2022-08-21T10:10:09.269090Z",
     "iopub.status.busy": "2022-08-21T10:10:09.268546Z",
     "iopub.status.idle": "2022-08-21T10:13:05.949704Z",
     "shell.execute_reply": "2022-08-21T10:13:05.950190Z"
    },
    "papermill": {
     "duration": 176.712702,
     "end_time": "2022-08-21T10:13:05.950320",
     "exception": false,
     "start_time": "2022-08-21T10:10:09.237618",
     "status": "completed"
    },
    "tags": []
   },
   "outputs": [
    {
     "name": "stdout",
     "output_type": "stream",
     "text": [
      "Epoch 0, Loss 0.2564\n",
      "Training Accuracy: 0.5545, Testing Accuracy: 0.5247\n",
      "\n"
     ]
    },
    {
     "name": "stdout",
     "output_type": "stream",
     "text": [
      "Epoch 10, Loss 0.1091\n",
      "Training Accuracy: 0.9165, Testing Accuracy: 0.9320\n",
      "\n"
     ]
    },
    {
     "name": "stdout",
     "output_type": "stream",
     "text": [
      "Epoch 20, Loss 0.06\n",
      "Training Accuracy: 0.9419, Testing Accuracy: 0.9561\n",
      "\n"
     ]
    },
    {
     "name": "stdout",
     "output_type": "stream",
     "text": [
      "Epoch 30, Loss 0.0453\n",
      "Training Accuracy: 0.9518, Testing Accuracy: 0.9637\n",
      "\n"
     ]
    },
    {
     "name": "stdout",
     "output_type": "stream",
     "text": [
      "Epoch 40, Loss 0.0387\n",
      "Training Accuracy: 0.9571, Testing Accuracy: 0.9672\n",
      "\n"
     ]
    },
    {
     "name": "stdout",
     "output_type": "stream",
     "text": [
      "Epoch 50, Loss 0.0348\n",
      "Training Accuracy: 0.9609, Testing Accuracy: 0.9672\n",
      "\n"
     ]
    },
    {
     "name": "stdout",
     "output_type": "stream",
     "text": [
      "Epoch 60, Loss 0.0323\n",
      "Training Accuracy: 0.9635, Testing Accuracy: 0.9682\n",
      "\n"
     ]
    },
    {
     "name": "stdout",
     "output_type": "stream",
     "text": [
      "Epoch 70, Loss 0.0304\n",
      "Training Accuracy: 0.9648, Testing Accuracy: 0.9677\n",
      "\n"
     ]
    },
    {
     "name": "stdout",
     "output_type": "stream",
     "text": [
      "Epoch 80, Loss 0.0289\n",
      "Training Accuracy: 0.9667, Testing Accuracy: 0.9682\n",
      "\n"
     ]
    },
    {
     "name": "stdout",
     "output_type": "stream",
     "text": [
      "Epoch 90, Loss 0.0277\n",
      "Training Accuracy: 0.9680, Testing Accuracy: 0.9688\n",
      "\n"
     ]
    },
    {
     "name": "stdout",
     "output_type": "stream",
     "text": [
      "Epoch 100, Loss 0.0267\n",
      "Training Accuracy: 0.9695, Testing Accuracy: 0.9698\n",
      "\n"
     ]
    },
    {
     "name": "stdout",
     "output_type": "stream",
     "text": [
      "Epoch 110, Loss 0.0258\n",
      "Training Accuracy: 0.9706, Testing Accuracy: 0.9698\n",
      "\n"
     ]
    },
    {
     "name": "stdout",
     "output_type": "stream",
     "text": [
      "Epoch 120, Loss 0.025\n",
      "Training Accuracy: 0.9715, Testing Accuracy: 0.9703\n",
      "\n"
     ]
    },
    {
     "name": "stdout",
     "output_type": "stream",
     "text": [
      "Epoch 130, Loss 0.0243\n",
      "Training Accuracy: 0.9721, Testing Accuracy: 0.9703\n",
      "\n"
     ]
    },
    {
     "name": "stdout",
     "output_type": "stream",
     "text": [
      "Epoch 140, Loss 0.0237\n",
      "Training Accuracy: 0.9726, Testing Accuracy: 0.9693\n",
      "\n"
     ]
    },
    {
     "name": "stdout",
     "output_type": "stream",
     "text": [
      "Epoch 150, Loss 0.0231\n",
      "Training Accuracy: 0.9731, Testing Accuracy: 0.9698\n",
      "\n"
     ]
    },
    {
     "name": "stdout",
     "output_type": "stream",
     "text": [
      "Epoch 160, Loss 0.0225\n",
      "Training Accuracy: 0.9735, Testing Accuracy: 0.9698\n",
      "\n"
     ]
    },
    {
     "name": "stdout",
     "output_type": "stream",
     "text": [
      "Epoch 170, Loss 0.022\n",
      "Training Accuracy: 0.9739, Testing Accuracy: 0.9703\n",
      "\n"
     ]
    },
    {
     "name": "stdout",
     "output_type": "stream",
     "text": [
      "Epoch 180, Loss 0.0215\n",
      "Training Accuracy: 0.9748, Testing Accuracy: 0.9708\n",
      "\n"
     ]
    },
    {
     "name": "stdout",
     "output_type": "stream",
     "text": [
      "Epoch 190, Loss 0.021\n",
      "Training Accuracy: 0.9752, Testing Accuracy: 0.9713\n",
      "\n"
     ]
    },
    {
     "name": "stdout",
     "output_type": "stream",
     "text": [
      "Epoch 200, Loss 0.0206\n",
      "Training Accuracy: 0.9761, Testing Accuracy: 0.9723\n",
      "\n"
     ]
    },
    {
     "name": "stdout",
     "output_type": "stream",
     "text": [
      "Epoch 210, Loss 0.0201\n",
      "Training Accuracy: 0.9768, Testing Accuracy: 0.9743\n",
      "\n"
     ]
    },
    {
     "name": "stdout",
     "output_type": "stream",
     "text": [
      "Epoch 220, Loss 0.0197\n",
      "Training Accuracy: 0.9776, Testing Accuracy: 0.9743\n",
      "\n"
     ]
    },
    {
     "name": "stdout",
     "output_type": "stream",
     "text": [
      "Epoch 230, Loss 0.0193\n",
      "Training Accuracy: 0.9779, Testing Accuracy: 0.9743\n",
      "\n"
     ]
    },
    {
     "name": "stdout",
     "output_type": "stream",
     "text": [
      "Epoch 240, Loss 0.019\n",
      "Training Accuracy: 0.9784, Testing Accuracy: 0.9743\n",
      "\n"
     ]
    },
    {
     "data": {
      "text/plain": [
       "0.02579819756630271"
      ]
     },
     "execution_count": 22,
     "metadata": {},
     "output_type": "execute_result"
    }
   ],
   "source": [
    "nn_learner.train_loop(dl)"
   ]
  },
  {
   "cell_type": "code",
   "execution_count": 23,
   "id": "e0163366",
   "metadata": {
    "execution": {
     "iopub.execute_input": "2022-08-21T10:13:06.027430Z",
     "iopub.status.busy": "2022-08-21T10:13:06.026849Z",
     "iopub.status.idle": "2022-08-21T10:13:18.235887Z",
     "shell.execute_reply": "2022-08-21T10:13:18.236678Z"
    },
    "papermill": {
     "duration": 12.251407,
     "end_time": "2022-08-21T10:13:18.236810",
     "exception": false,
     "start_time": "2022-08-21T10:13:05.985403",
     "status": "completed"
    },
    "tags": []
   },
   "outputs": [
    {
     "name": "stdout",
     "output_type": "stream",
     "text": [
      "Epoch 0, Loss 0.2352\n",
      "Training Accuracy: 0.7161, Testing Accuracy: 0.7122\n",
      "\n"
     ]
    },
    {
     "name": "stdout",
     "output_type": "stream",
     "text": [
      "Epoch 10, Loss 0.1018\n",
      "Training Accuracy: 0.9093, Testing Accuracy: 0.9239\n",
      "\n"
     ]
    },
    {
     "name": "stdout",
     "output_type": "stream",
     "text": [
      "Epoch 20, Loss 0.079\n",
      "Training Accuracy: 0.9264, Testing Accuracy: 0.9375\n",
      "\n"
     ]
    },
    {
     "name": "stdout",
     "output_type": "stream",
     "text": [
      "Epoch 30, Loss 0.0685\n",
      "Training Accuracy: 0.9361, Testing Accuracy: 0.9456\n",
      "\n"
     ]
    },
    {
     "name": "stdout",
     "output_type": "stream",
     "text": [
      "Epoch 40, Loss 0.0621\n",
      "Training Accuracy: 0.9390, Testing Accuracy: 0.9511\n",
      "\n"
     ]
    },
    {
     "name": "stdout",
     "output_type": "stream",
     "text": [
      "Epoch 50, Loss 0.0576\n",
      "Training Accuracy: 0.9415, Testing Accuracy: 0.9541\n",
      "\n"
     ]
    },
    {
     "name": "stdout",
     "output_type": "stream",
     "text": [
      "Epoch 60, Loss 0.0544\n",
      "Training Accuracy: 0.9450, Testing Accuracy: 0.9572\n",
      "\n"
     ]
    },
    {
     "name": "stdout",
     "output_type": "stream",
     "text": [
      "Epoch 70, Loss 0.0518\n",
      "Training Accuracy: 0.9473, Testing Accuracy: 0.9592\n",
      "\n"
     ]
    },
    {
     "name": "stdout",
     "output_type": "stream",
     "text": [
      "Epoch 80, Loss 0.0498\n",
      "Training Accuracy: 0.9496, Testing Accuracy: 0.9607\n",
      "\n"
     ]
    },
    {
     "name": "stdout",
     "output_type": "stream",
     "text": [
      "Epoch 90, Loss 0.0481\n",
      "Training Accuracy: 0.9511, Testing Accuracy: 0.9622\n",
      "\n"
     ]
    },
    {
     "name": "stdout",
     "output_type": "stream",
     "text": [
      "Epoch 100, Loss 0.0466\n",
      "Training Accuracy: 0.9519, Testing Accuracy: 0.9637\n",
      "\n"
     ]
    },
    {
     "name": "stdout",
     "output_type": "stream",
     "text": [
      "Epoch 110, Loss 0.0454\n",
      "Training Accuracy: 0.9534, Testing Accuracy: 0.9642\n",
      "\n"
     ]
    },
    {
     "name": "stdout",
     "output_type": "stream",
     "text": [
      "Epoch 120, Loss 0.0443\n",
      "Training Accuracy: 0.9544, Testing Accuracy: 0.9647\n",
      "\n"
     ]
    },
    {
     "name": "stdout",
     "output_type": "stream",
     "text": [
      "Epoch 130, Loss 0.0434\n",
      "Training Accuracy: 0.9552, Testing Accuracy: 0.9652\n",
      "\n"
     ]
    },
    {
     "name": "stdout",
     "output_type": "stream",
     "text": [
      "Epoch 140, Loss 0.0425\n",
      "Training Accuracy: 0.9559, Testing Accuracy: 0.9657\n",
      "\n"
     ]
    },
    {
     "name": "stdout",
     "output_type": "stream",
     "text": [
      "Epoch 150, Loss 0.0417\n",
      "Training Accuracy: 0.9563, Testing Accuracy: 0.9657\n",
      "\n"
     ]
    },
    {
     "name": "stdout",
     "output_type": "stream",
     "text": [
      "Epoch 160, Loss 0.0411\n",
      "Training Accuracy: 0.9569, Testing Accuracy: 0.9652\n",
      "\n"
     ]
    },
    {
     "name": "stdout",
     "output_type": "stream",
     "text": [
      "Epoch 170, Loss 0.0404\n",
      "Training Accuracy: 0.9574, Testing Accuracy: 0.9657\n",
      "\n"
     ]
    },
    {
     "name": "stdout",
     "output_type": "stream",
     "text": [
      "Epoch 180, Loss 0.0399\n",
      "Training Accuracy: 0.9580, Testing Accuracy: 0.9662\n",
      "\n"
     ]
    },
    {
     "name": "stdout",
     "output_type": "stream",
     "text": [
      "Epoch 190, Loss 0.0393\n",
      "Training Accuracy: 0.9583, Testing Accuracy: 0.9672\n",
      "\n"
     ]
    },
    {
     "name": "stdout",
     "output_type": "stream",
     "text": [
      "Epoch 200, Loss 0.0388\n",
      "Training Accuracy: 0.9588, Testing Accuracy: 0.9682\n",
      "\n"
     ]
    },
    {
     "name": "stdout",
     "output_type": "stream",
     "text": [
      "Epoch 210, Loss 0.0384\n",
      "Training Accuracy: 0.9591, Testing Accuracy: 0.9672\n",
      "\n"
     ]
    },
    {
     "name": "stdout",
     "output_type": "stream",
     "text": [
      "Epoch 220, Loss 0.038\n",
      "Training Accuracy: 0.9592, Testing Accuracy: 0.9672\n",
      "\n"
     ]
    },
    {
     "name": "stdout",
     "output_type": "stream",
     "text": [
      "Epoch 230, Loss 0.0376\n",
      "Training Accuracy: 0.9595, Testing Accuracy: 0.9672\n",
      "\n"
     ]
    },
    {
     "name": "stdout",
     "output_type": "stream",
     "text": [
      "Epoch 240, Loss 0.0372\n",
      "Training Accuracy: 0.9594, Testing Accuracy: 0.9672\n",
      "\n"
     ]
    },
    {
     "data": {
      "text/plain": [
       "0.05899434490218494"
      ]
     },
     "execution_count": 23,
     "metadata": {},
     "output_type": "execute_result"
    }
   ],
   "source": [
    "lr_learner.train_loop(dl)"
   ]
  },
  {
   "cell_type": "code",
   "execution_count": 24,
   "id": "ca410940",
   "metadata": {
    "execution": {
     "iopub.execute_input": "2022-08-21T10:13:18.331482Z",
     "iopub.status.busy": "2022-08-21T10:13:18.329716Z",
     "iopub.status.idle": "2022-08-21T10:13:18.550951Z",
     "shell.execute_reply": "2022-08-21T10:13:18.551384Z"
    },
    "papermill": {
     "duration": 0.271785,
     "end_time": "2022-08-21T10:13:18.551511",
     "exception": false,
     "start_time": "2022-08-21T10:13:18.279726",
     "status": "completed"
    },
    "tags": []
   },
   "outputs": [
    {
     "data": {
      "text/plain": [
       "<matplotlib.legend.Legend at 0x7fc2417bce48>"
      ]
     },
     "execution_count": 24,
     "metadata": {},
     "output_type": "execute_result"
    },
    {
     "data": {
      "image/png": "[encoded data removed]",
      "text/plain": [
       "<Figure size 1080x720 with 1 Axes>"
      ]
     },
     "metadata": {
      "needs_background": "light"
     },
     "output_type": "display_data"
    }
   ],
   "source": [
    "#comparing the results of NN and LR\n",
    "plt.figure(figsize=(15,10))\n",
    "\n",
    "# Neural Network plots\n",
    "plt.plot(acc_nn.accuracies, 'r-', label = \"Training Accuracies - NN\")\n",
    "plt.plot(acc_nn.test_accuracies, 'g-', label = \"Testing Accuracies - NN\")\n",
    "\n",
    "# Logistic Regression plots\n",
    "plt.plot(acc_lr.accuracies, 'k-', label = \"Training Accuracies - LR\")\n",
    "plt.plot(acc_lr.test_accuracies, 'b-', label = \"Testing Accuracies - LR\")\n",
    "plt.legend()"
   ]
  },
  {
   "cell_type": "markdown",
   "id": "80dfb35c",
   "metadata": {
    "papermill": {
     "duration": 0.042838,
     "end_time": "2022-08-21T10:13:18.637548",
     "exception": false,
     "start_time": "2022-08-21T10:13:18.594710",
     "status": "completed"
    },
    "tags": []
   },
   "source": [
    "#### Plotting the outputs of this layer of the NN.\n"
   ]
  },
  {
   "cell_type": "code",
   "execution_count": 25,
   "id": "45eb2ff5",
   "metadata": {
    "execution": {
     "iopub.execute_input": "2022-08-21T10:13:18.731163Z",
     "iopub.status.busy": "2022-08-21T10:13:18.728116Z",
     "iopub.status.idle": "2022-08-21T10:13:18.765118Z",
     "shell.execute_reply": "2022-08-21T10:13:18.764640Z"
    },
    "papermill": {
     "duration": 0.084867,
     "end_time": "2022-08-21T10:13:18.765235",
     "exception": false,
     "start_time": "2022-08-21T10:13:18.680368",
     "status": "completed"
    },
    "tags": []
   },
   "outputs": [],
   "source": [
    "new_model = Model(layers[:-2])\n",
    "testing_plot = new_model(testing_data_x)"
   ]
  },
  {
   "cell_type": "code",
   "execution_count": 26,
   "id": "4c0a5485",
   "metadata": {
    "execution": {
     "iopub.execute_input": "2022-08-21T10:13:18.861317Z",
     "iopub.status.busy": "2022-08-21T10:13:18.859843Z",
     "iopub.status.idle": "2022-08-21T10:13:19.072380Z",
     "shell.execute_reply": "2022-08-21T10:13:19.071901Z"
    },
    "papermill": {
     "duration": 0.263094,
     "end_time": "2022-08-21T10:13:19.072488",
     "exception": false,
     "start_time": "2022-08-21T10:13:18.809394",
     "status": "completed"
    },
    "tags": []
   },
   "outputs": [
    {
     "data": {
      "text/plain": [
       "Text(0.5, 1.0, 'Outputs')"
      ]
     },
     "execution_count": 26,
     "metadata": {},
     "output_type": "execute_result"
    },
    {
     "data": {
      "image/png": "[encoded data removed]",
      "text/plain": [
       "<Figure size 576x504 with 1 Axes>"
      ]
     },
     "metadata": {
      "needs_background": "light"
     },
     "output_type": "display_data"
    }
   ],
   "source": [
    "# Plotting the scatter plot of points and color coding by class\n",
    "plt.figure(figsize=(8,7))\n",
    "plt.scatter(testing_plot[:,0], testing_plot[:,1], alpha = 0.1, c = y_test.ravel());\n",
    "plt.title('Outputs')"
   ]
  },
  {
   "cell_type": "markdown",
   "id": "a74fcf8f",
   "metadata": {
    "papermill": {
     "duration": 0.045731,
     "end_time": "2022-08-21T10:13:19.188101",
     "exception": false,
     "start_time": "2022-08-21T10:13:19.142370",
     "status": "completed"
    },
    "tags": []
   },
   "source": [
    "Probability contours"
   ]
  },
  {
   "cell_type": "code",
   "execution_count": 27,
   "id": "d0afc8e3",
   "metadata": {
    "execution": {
     "iopub.execute_input": "2022-08-21T10:13:19.286019Z",
     "iopub.status.busy": "2022-08-21T10:13:19.284549Z",
     "iopub.status.idle": "2022-08-21T10:13:19.295859Z",
     "shell.execute_reply": "2022-08-21T10:13:19.295379Z"
    },
    "papermill": {
     "duration": 0.062016,
     "end_time": "2022-08-21T10:13:19.295973",
     "exception": false,
     "start_time": "2022-08-21T10:13:19.233957",
     "status": "completed"
    },
    "tags": []
   },
   "outputs": [],
   "source": [
    "model_prob = Model(layers[-2:]) "
   ]
  },
  {
   "cell_type": "code",
   "execution_count": 28,
   "id": "9b96e238",
   "metadata": {
    "execution": {
     "iopub.execute_input": "2022-08-21T10:13:19.394694Z",
     "iopub.status.busy": "2022-08-21T10:13:19.394103Z",
     "iopub.status.idle": "2022-08-21T10:13:19.407350Z",
     "shell.execute_reply": "2022-08-21T10:13:19.407774Z"
    },
    "papermill": {
     "duration": 0.063762,
     "end_time": "2022-08-21T10:13:19.407911",
     "exception": false,
     "start_time": "2022-08-21T10:13:19.344149",
     "status": "completed"
    },
    "tags": []
   },
   "outputs": [],
   "source": [
    "#creating the x and y ranges according to the above generated plot.\n",
    "x_range = np.linspace(-4, 1, 100) \n",
    "y_range = np.linspace(-6, 6, 100) \n",
    "x_grid, y_grid = np.meshgrid(x_range, y_range) # x_grid and y_grig are of size 100 X 100\n",
    "\n",
    "# converting x_grid and y_grid to continuous arrays\n",
    "x_gridflat = np.ravel(x_grid)\n",
    "y_gridflat = np.ravel(y_grid)\n",
    "\n",
    "# The last layer of the current model takes two columns as input. Hence transpose of np.vstack() is required.\n",
    "X = np.vstack((x_gridflat, y_gridflat)).T\n",
    "\n",
    "prob_contour = model_prob(X).reshape(100,100) "
   ]
  },
  {
   "cell_type": "code",
   "execution_count": 29,
   "id": "da72499a",
   "metadata": {
    "execution": {
     "iopub.execute_input": "2022-08-21T10:13:19.508708Z",
     "iopub.status.busy": "2022-08-21T10:13:19.505649Z",
     "iopub.status.idle": "2022-08-21T10:13:19.765223Z",
     "shell.execute_reply": "2022-08-21T10:13:19.764761Z"
    },
    "papermill": {
     "duration": 0.31125,
     "end_time": "2022-08-21T10:13:19.765337",
     "exception": false,
     "start_time": "2022-08-21T10:13:19.454087",
     "status": "completed"
    },
    "tags": []
   },
   "outputs": [
    {
     "data": {
      "image/png": "[encoded data removed]",
      "text/plain": [
       "<Figure size 720x648 with 1 Axes>"
      ]
     },
     "metadata": {
      "needs_background": "light"
     },
     "output_type": "display_data"
    }
   ],
   "source": [
    "plt.figure(figsize=(10,9))\n",
    "plt.scatter(testing_plot[:,0], testing_plot[:,1], alpha = 0.1, c = y_test.ravel())\n",
    "contours = plt.contour(x_grid,y_grid,prob_contour)\n",
    "plt.title('Probability Contours')\n",
    "plt.clabel(contours, inline = True );"
   ]
  },
  {
   "cell_type": "code",
   "execution_count": null,
   "id": "e81b4ac7",
   "metadata": {
    "papermill": {
     "duration": 0.048341,
     "end_time": "2022-08-21T10:13:19.863614",
     "exception": false,
     "start_time": "2022-08-21T10:13:19.815273",
     "status": "completed"
    },
    "tags": []
   },
   "outputs": [],
   "source": []
  }
 ],
 "metadata": {
  "kernelspec": {
   "display_name": "Python 3",
   "language": "python",
   "name": "python3"
  },
  "language_info": {
   "codemirror_mode": {
    "name": "ipython",
    "version": 3
   },
   "file_extension": ".py",
   "mimetype": "text/x-python",
   "name": "python",
   "nbconvert_exporter": "python",
   "pygments_lexer": "ipython3",
   "version": "3.6.15"
  },
  "papermill": {
   "default_parameters": {},
   "duration": 196.90304,
   "end_time": "2022-08-21T10:13:20.330925",
   "environment_variables": {},
   "exception": null,
   "input_path": "2020-08-11-part2.ipynb",
   "output_path": "2020-08-11-part2.ipynb",
   "parameters": {},
   "start_time": "2022-08-21T10:10:03.427885",
   "version": "2.3.3"
  }
 },
 "nbformat": 4,
 "nbformat_minor": 5
}