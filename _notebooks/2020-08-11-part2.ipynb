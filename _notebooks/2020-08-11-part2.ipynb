{
 "cells": [
  {
   "cell_type": "markdown",
   "id": "98380cd3",
   "metadata": {
    "papermill": {
     "duration": 0.036062,
     "end_time": "2022-08-29T00:45:50.687241",
     "exception": false,
     "start_time": "2022-08-29T00:45:50.651179",
     "status": "completed"
    },
    "tags": []
   },
   "source": [
    "# Distinguish Your Own Digits (DYOD)"
   ]
  },
  {
   "cell_type": "markdown",
   "id": "ef31240d",
   "metadata": {
    "papermill": {
     "duration": 0.027823,
     "end_time": "2022-08-29T00:45:50.743706",
     "exception": false,
     "start_time": "2022-08-29T00:45:50.715883",
     "status": "completed"
    },
    "tags": []
   },
   "source": [
    "You are going to write a classifier that distinguishes between the number 3 and number 8."
   ]
  },
  {
   "cell_type": "code",
   "execution_count": 1,
   "id": "b15c8646",
   "metadata": {
    "execution": {
     "iopub.execute_input": "2022-08-29T00:45:50.813938Z",
     "iopub.status.busy": "2022-08-29T00:45:50.813180Z",
     "iopub.status.idle": "2022-08-29T00:45:50.826184Z",
     "shell.execute_reply": "2022-08-29T00:45:50.825563Z"
    },
    "papermill": {
     "duration": 0.054823,
     "end_time": "2022-08-29T00:45:50.826341",
     "exception": false,
     "start_time": "2022-08-29T00:45:50.771518",
     "status": "completed"
    },
    "tags": []
   },
   "outputs": [],
   "source": [
    "%load_ext autoreload\n",
    "%autoreload 2"
   ]
  },
  {
   "cell_type": "code",
   "execution_count": 2,
   "id": "22ef38dc",
   "metadata": {
    "execution": {
     "iopub.execute_input": "2022-08-29T00:45:50.890424Z",
     "iopub.status.busy": "2022-08-29T00:45:50.889698Z",
     "iopub.status.idle": "2022-08-29T00:45:51.539080Z",
     "shell.execute_reply": "2022-08-29T00:45:51.538343Z"
    },
    "papermill": {
     "duration": 0.684893,
     "end_time": "2022-08-29T00:45:51.539238",
     "exception": false,
     "start_time": "2022-08-29T00:45:50.854345",
     "status": "completed"
    },
    "tags": []
   },
   "outputs": [],
   "source": [
    "%matplotlib inline\n",
    "import numpy as np\n",
    "import matplotlib.pyplot as plt\n",
    "import pandas as pd"
   ]
  },
  {
   "cell_type": "markdown",
   "id": "ba036198",
   "metadata": {
    "papermill": {
     "duration": 0.028257,
     "end_time": "2022-08-29T00:45:51.597012",
     "exception": false,
     "start_time": "2022-08-29T00:45:51.568755",
     "status": "completed"
    },
    "tags": []
   },
   "source": [
    "From the command line run `pip install mnist`. This is a library that will help you bring down the mnist dataset. If you run this from a notebook, you need to put  `!pip install mnist` in a cell by itself."
   ]
  },
  {
   "cell_type": "code",
   "execution_count": 3,
   "id": "bb6ad8a1",
   "metadata": {
    "execution": {
     "iopub.execute_input": "2022-08-29T00:45:51.657814Z",
     "iopub.status.busy": "2022-08-29T00:45:51.657073Z",
     "iopub.status.idle": "2022-08-29T00:45:53.618596Z",
     "shell.execute_reply": "2022-08-29T00:45:53.617621Z"
    },
    "papermill": {
     "duration": 1.993893,
     "end_time": "2022-08-29T00:45:53.618743",
     "exception": false,
     "start_time": "2022-08-29T00:45:51.624850",
     "status": "completed"
    },
    "tags": []
   },
   "outputs": [
    {
     "name": "stdout",
     "output_type": "stream",
     "text": [
      "Collecting mnist\r\n"
     ]
    },
    {
     "name": "stdout",
     "output_type": "stream",
     "text": [
      "  Downloading mnist-0.2.2-py2.py3-none-any.whl (3.5 kB)\r\n",
      "Requirement already satisfied: numpy in /opt/hostedtoolcache/Python/3.6.15/x64/lib/python3.6/site-packages (from mnist) (1.19.5)\r\n"
     ]
    },
    {
     "name": "stdout",
     "output_type": "stream",
     "text": [
      "Installing collected packages: mnist\r\n"
     ]
    },
    {
     "name": "stdout",
     "output_type": "stream",
     "text": [
      "Successfully installed mnist-0.2.2\r\n"
     ]
    }
   ],
   "source": [
    "!pip install mnist"
   ]
  },
  {
   "cell_type": "markdown",
   "id": "69df9c9a",
   "metadata": {
    "papermill": {
     "duration": 0.029697,
     "end_time": "2022-08-29T00:45:53.677880",
     "exception": false,
     "start_time": "2022-08-29T00:45:53.648183",
     "status": "completed"
    },
    "tags": []
   },
   "source": [
    "## Preparing the Data"
   ]
  },
  {
   "cell_type": "code",
   "execution_count": 4,
   "id": "7f69d806",
   "metadata": {
    "execution": {
     "iopub.execute_input": "2022-08-29T00:45:53.741928Z",
     "iopub.status.busy": "2022-08-29T00:45:53.741205Z",
     "iopub.status.idle": "2022-08-29T00:45:53.759612Z",
     "shell.execute_reply": "2022-08-29T00:45:53.758989Z"
    },
    "papermill": {
     "duration": 0.05215,
     "end_time": "2022-08-29T00:45:53.759754",
     "exception": false,
     "start_time": "2022-08-29T00:45:53.707604",
     "status": "completed"
    },
    "tags": []
   },
   "outputs": [],
   "source": [
    "import mnist"
   ]
  },
  {
   "cell_type": "code",
   "execution_count": 5,
   "id": "a411e44f",
   "metadata": {
    "execution": {
     "iopub.execute_input": "2022-08-29T00:45:53.823809Z",
     "iopub.status.busy": "2022-08-29T00:45:53.823094Z",
     "iopub.status.idle": "2022-08-29T00:45:54.496942Z",
     "shell.execute_reply": "2022-08-29T00:45:54.496313Z"
    },
    "papermill": {
     "duration": 0.707617,
     "end_time": "2022-08-29T00:45:54.497110",
     "exception": false,
     "start_time": "2022-08-29T00:45:53.789493",
     "status": "completed"
    },
    "tags": []
   },
   "outputs": [],
   "source": [
    "train_images = mnist.train_images()\n",
    "train_labels = mnist.train_labels()"
   ]
  },
  {
   "cell_type": "code",
   "execution_count": 6,
   "id": "dceab3a5",
   "metadata": {
    "execution": {
     "iopub.execute_input": "2022-08-29T00:45:54.560167Z",
     "iopub.status.busy": "2022-08-29T00:45:54.559460Z",
     "iopub.status.idle": "2022-08-29T00:45:54.577289Z",
     "shell.execute_reply": "2022-08-29T00:45:54.577966Z"
    },
    "papermill": {
     "duration": 0.051403,
     "end_time": "2022-08-29T00:45:54.578117",
     "exception": false,
     "start_time": "2022-08-29T00:45:54.526714",
     "status": "completed"
    },
    "tags": []
   },
   "outputs": [
    {
     "data": {
      "text/plain": [
       "((60000, 28, 28), (60000,))"
      ]
     },
     "execution_count": 6,
     "metadata": {},
     "output_type": "execute_result"
    }
   ],
   "source": [
    "train_images.shape, train_labels.shape"
   ]
  },
  {
   "cell_type": "code",
   "execution_count": 7,
   "id": "f50dc2bb",
   "metadata": {
    "execution": {
     "iopub.execute_input": "2022-08-29T00:45:54.640935Z",
     "iopub.status.busy": "2022-08-29T00:45:54.640237Z",
     "iopub.status.idle": "2022-08-29T00:45:54.862538Z",
     "shell.execute_reply": "2022-08-29T00:45:54.861877Z"
    },
    "papermill": {
     "duration": 0.255299,
     "end_time": "2022-08-29T00:45:54.862679",
     "exception": false,
     "start_time": "2022-08-29T00:45:54.607380",
     "status": "completed"
    },
    "tags": []
   },
   "outputs": [],
   "source": [
    "test_images = mnist.test_images()\n",
    "test_labels = mnist.test_labels()"
   ]
  },
  {
   "cell_type": "code",
   "execution_count": 8,
   "id": "fc38cf1b",
   "metadata": {
    "execution": {
     "iopub.execute_input": "2022-08-29T00:45:54.927961Z",
     "iopub.status.busy": "2022-08-29T00:45:54.927260Z",
     "iopub.status.idle": "2022-08-29T00:45:54.943352Z",
     "shell.execute_reply": "2022-08-29T00:45:54.942772Z"
    },
    "papermill": {
     "duration": 0.051194,
     "end_time": "2022-08-29T00:45:54.943486",
     "exception": false,
     "start_time": "2022-08-29T00:45:54.892292",
     "status": "completed"
    },
    "tags": []
   },
   "outputs": [
    {
     "data": {
      "text/plain": [
       "((10000, 28, 28), (10000,))"
      ]
     },
     "execution_count": 8,
     "metadata": {},
     "output_type": "execute_result"
    }
   ],
   "source": [
    "test_images.shape, test_labels.shape"
   ]
  },
  {
   "cell_type": "code",
   "execution_count": 9,
   "id": "f9ed8fe0",
   "metadata": {
    "execution": {
     "iopub.execute_input": "2022-08-29T00:45:55.006899Z",
     "iopub.status.busy": "2022-08-29T00:45:55.006010Z",
     "iopub.status.idle": "2022-08-29T00:45:55.176550Z",
     "shell.execute_reply": "2022-08-29T00:45:55.177115Z"
    },
    "papermill": {
     "duration": 0.204128,
     "end_time": "2022-08-29T00:45:55.177284",
     "exception": false,
     "start_time": "2022-08-29T00:45:54.973156",
     "status": "completed"
    },
    "tags": []
   },
   "outputs": [
    {
     "name": "stdout",
     "output_type": "stream",
     "text": [
      "2\n"
     ]
    },
    {
     "data": {
      "text/plain": [
       "<matplotlib.image.AxesImage at 0x7f3c6b7969b0>"
      ]
     },
     "execution_count": 9,
     "metadata": {},
     "output_type": "execute_result"
    },
    {
     "data": {
      "image/png": "[encoded data removed]",
      "text/plain": [
       "<Figure size 432x288 with 1 Axes>"
      ]
     },
     "metadata": {
      "needs_background": "light"
     },
     "output_type": "display_data"
    }
   ],
   "source": [
    "image_index = 7776 # You may select anything up to 60,000\n",
    "print(train_labels[image_index]) \n",
    "plt.imshow(train_images[image_index], cmap='Greys')"
   ]
  },
  {
   "cell_type": "markdown",
   "id": "a8d2388d",
   "metadata": {
    "papermill": {
     "duration": 0.030977,
     "end_time": "2022-08-29T00:45:55.239306",
     "exception": false,
     "start_time": "2022-08-29T00:45:55.208329",
     "status": "completed"
    },
    "tags": []
   },
   "source": [
    "## Filter data to get 3 and 8 out"
   ]
  },
  {
   "cell_type": "code",
   "execution_count": 10,
   "id": "776f7fc7",
   "metadata": {
    "execution": {
     "iopub.execute_input": "2022-08-29T00:45:55.309471Z",
     "iopub.status.busy": "2022-08-29T00:45:55.308668Z",
     "iopub.status.idle": "2022-08-29T00:45:55.328818Z",
     "shell.execute_reply": "2022-08-29T00:45:55.328218Z"
    },
    "papermill": {
     "duration": 0.058599,
     "end_time": "2022-08-29T00:45:55.328954",
     "exception": false,
     "start_time": "2022-08-29T00:45:55.270355",
     "status": "completed"
    },
    "tags": []
   },
   "outputs": [],
   "source": [
    "train_filter = np.where((train_labels == 3 ) | (train_labels == 8))\n",
    "test_filter = np.where((test_labels == 3) | (test_labels == 8))\n",
    "X_train, y_train = train_images[train_filter], train_labels[train_filter]\n",
    "X_test, y_test = test_images[test_filter], test_labels[test_filter]"
   ]
  },
  {
   "cell_type": "markdown",
   "id": "948f0b7e",
   "metadata": {
    "papermill": {
     "duration": 0.030794,
     "end_time": "2022-08-29T00:45:55.390959",
     "exception": false,
     "start_time": "2022-08-29T00:45:55.360165",
     "status": "completed"
    },
    "tags": []
   },
   "source": [
    "We normalize the pizel values in the 0 to 1 range"
   ]
  },
  {
   "cell_type": "code",
   "execution_count": 11,
   "id": "ee4c2166",
   "metadata": {
    "execution": {
     "iopub.execute_input": "2022-08-29T00:45:55.458868Z",
     "iopub.status.busy": "2022-08-29T00:45:55.458048Z",
     "iopub.status.idle": "2022-08-29T00:45:55.514645Z",
     "shell.execute_reply": "2022-08-29T00:45:55.514009Z"
    },
    "papermill": {
     "duration": 0.093133,
     "end_time": "2022-08-29T00:45:55.514788",
     "exception": false,
     "start_time": "2022-08-29T00:45:55.421655",
     "status": "completed"
    },
    "tags": []
   },
   "outputs": [],
   "source": [
    "X_train = X_train/255.\n",
    "X_test = X_test/255."
   ]
  },
  {
   "cell_type": "markdown",
   "id": "ddcf4fab",
   "metadata": {
    "papermill": {
     "duration": 0.031497,
     "end_time": "2022-08-29T00:45:55.577627",
     "exception": false,
     "start_time": "2022-08-29T00:45:55.546130",
     "status": "completed"
    },
    "tags": []
   },
   "source": [
    "And setup the labels as 1 (when the digit is 3) and 0 (when the digit is 8)"
   ]
  },
  {
   "cell_type": "code",
   "execution_count": 12,
   "id": "7dc908f2",
   "metadata": {
    "execution": {
     "iopub.execute_input": "2022-08-29T00:45:55.644501Z",
     "iopub.status.busy": "2022-08-29T00:45:55.643777Z",
     "iopub.status.idle": "2022-08-29T00:45:55.658582Z",
     "shell.execute_reply": "2022-08-29T00:45:55.657998Z"
    },
    "papermill": {
     "duration": 0.050062,
     "end_time": "2022-08-29T00:45:55.658719",
     "exception": false,
     "start_time": "2022-08-29T00:45:55.608657",
     "status": "completed"
    },
    "tags": []
   },
   "outputs": [],
   "source": [
    "y_train = 1*(y_train==3)\n",
    "y_test = 1*(y_test==3)"
   ]
  },
  {
   "cell_type": "code",
   "execution_count": 13,
   "id": "01e4e969",
   "metadata": {
    "execution": {
     "iopub.execute_input": "2022-08-29T00:45:55.726669Z",
     "iopub.status.busy": "2022-08-29T00:45:55.725966Z",
     "iopub.status.idle": "2022-08-29T00:45:55.742063Z",
     "shell.execute_reply": "2022-08-29T00:45:55.741370Z"
    },
    "papermill": {
     "duration": 0.052362,
     "end_time": "2022-08-29T00:45:55.742194",
     "exception": false,
     "start_time": "2022-08-29T00:45:55.689832",
     "status": "completed"
    },
    "tags": []
   },
   "outputs": [
    {
     "data": {
      "text/plain": [
       "((11982, 28, 28), (1984, 28, 28))"
      ]
     },
     "execution_count": 13,
     "metadata": {},
     "output_type": "execute_result"
    }
   ],
   "source": [
    "X_train.shape, X_test.shape"
   ]
  },
  {
   "cell_type": "markdown",
   "id": "5ccf3f85",
   "metadata": {
    "papermill": {
     "duration": 0.031051,
     "end_time": "2022-08-29T00:45:55.804364",
     "exception": false,
     "start_time": "2022-08-29T00:45:55.773313",
     "status": "completed"
    },
    "tags": []
   },
   "source": [
    "We reshape the data to flatten the image pixels into a set of features or co-variates:"
   ]
  },
  {
   "cell_type": "code",
   "execution_count": 14,
   "id": "5286a4a3",
   "metadata": {
    "execution": {
     "iopub.execute_input": "2022-08-29T00:45:55.873933Z",
     "iopub.status.busy": "2022-08-29T00:45:55.873204Z",
     "iopub.status.idle": "2022-08-29T00:45:55.889506Z",
     "shell.execute_reply": "2022-08-29T00:45:55.888894Z"
    },
    "papermill": {
     "duration": 0.053867,
     "end_time": "2022-08-29T00:45:55.889644",
     "exception": false,
     "start_time": "2022-08-29T00:45:55.835777",
     "status": "completed"
    },
    "tags": []
   },
   "outputs": [
    {
     "data": {
      "text/plain": [
       "((11982, 784), (1984, 784))"
      ]
     },
     "execution_count": 14,
     "metadata": {},
     "output_type": "execute_result"
    }
   ],
   "source": [
    "X_train = X_train.reshape(X_train.shape[0], -1)\n",
    "X_test = X_test.reshape(X_test.shape[0], -1)\n",
    "X_train.shape, X_test.shape"
   ]
  },
  {
   "cell_type": "code",
   "execution_count": 15,
   "id": "73c5f88a",
   "metadata": {
    "execution": {
     "iopub.execute_input": "2022-08-29T00:45:55.961240Z",
     "iopub.status.busy": "2022-08-29T00:45:55.960453Z",
     "iopub.status.idle": "2022-08-29T00:45:55.981538Z",
     "shell.execute_reply": "2022-08-29T00:45:55.980891Z"
    },
    "papermill": {
     "duration": 0.059915,
     "end_time": "2022-08-29T00:45:55.981679",
     "exception": false,
     "start_time": "2022-08-29T00:45:55.921764",
     "status": "completed"
    },
    "tags": []
   },
   "outputs": [],
   "source": [
    "#Impoting functions from 'Kudzu'\n",
    "from kudzu.model import Model\n",
    "from kudzu.train import Learner\n",
    "from kudzu.optim import GD\n",
    "from kudzu.data import Data, Sampler,Dataloader\n",
    "\n",
    "from kudzu.callbacks import AccCallback\n",
    "from kudzu.callbacks import ClfCallback\n",
    "\n",
    "from kudzu.loss import MSE\n",
    "\n",
    "from kudzu.layer import Sigmoid,Relu\n",
    "from kudzu.layer import Affine"
   ]
  },
  {
   "cell_type": "markdown",
   "id": "bc01172a",
   "metadata": {
    "papermill": {
     "duration": 0.031592,
     "end_time": "2022-08-29T00:45:56.045189",
     "exception": false,
     "start_time": "2022-08-29T00:45:56.013597",
     "status": "completed"
    },
    "tags": []
   },
   "source": [
    "### Let us create a `Config` class, to store important parameters. \n",
    "This class essentially plays the role of a dictionary."
   ]
  },
  {
   "cell_type": "code",
   "execution_count": 16,
   "id": "978281aa",
   "metadata": {
    "execution": {
     "iopub.execute_input": "2022-08-29T00:45:56.113645Z",
     "iopub.status.busy": "2022-08-29T00:45:56.112882Z",
     "iopub.status.idle": "2022-08-29T00:45:56.127592Z",
     "shell.execute_reply": "2022-08-29T00:45:56.128146Z"
    },
    "papermill": {
     "duration": 0.05142,
     "end_time": "2022-08-29T00:45:56.128305",
     "exception": false,
     "start_time": "2022-08-29T00:45:56.076885",
     "status": "completed"
    },
    "tags": []
   },
   "outputs": [],
   "source": [
    "class Config:\n",
    "    pass\n",
    "config = Config()\n",
    "config.lr = 0.001\n",
    "config.num_epochs = 250\n",
    "config.bs = 50"
   ]
  },
  {
   "cell_type": "markdown",
   "id": "1385fa59",
   "metadata": {
    "papermill": {
     "duration": 0.031425,
     "end_time": "2022-08-29T00:45:56.191430",
     "exception": false,
     "start_time": "2022-08-29T00:45:56.160005",
     "status": "completed"
    },
    "tags": []
   },
   "source": [
    "### Running Models with the Training data\n",
    "Details about the network layers:\n",
    "- A first affine layer has 784 inputs and does 100 affine transforms. These are followed by a Relu\n",
    "- A second affine layer has 100 inputs from the 100 activations of the past layer, and does 100 affine transforms. These are followed by a Relu\n",
    "- A third affine layer has 100 activations and does 2 affine transformations to create an embedding for visualization. There is no non-linearity here.\n",
    "- A final \"logistic regression\" which has an affine transform from 2 inputs to 1 output, which is squeezed through a sigmoid.\n"
   ]
  },
  {
   "cell_type": "code",
   "execution_count": 17,
   "id": "2b9c66db",
   "metadata": {
    "execution": {
     "iopub.execute_input": "2022-08-29T00:45:56.259835Z",
     "iopub.status.busy": "2022-08-29T00:45:56.259112Z",
     "iopub.status.idle": "2022-08-29T00:45:56.274501Z",
     "shell.execute_reply": "2022-08-29T00:45:56.275056Z"
    },
    "papermill": {
     "duration": 0.052277,
     "end_time": "2022-08-29T00:45:56.275216",
     "exception": false,
     "start_time": "2022-08-29T00:45:56.222939",
     "status": "completed"
    },
    "tags": []
   },
   "outputs": [],
   "source": [
    "data = Data(X_train, y_train.reshape(-1,1))\n",
    "sampler = Sampler(data, config.bs, shuffle=True)\n",
    "\n",
    "dl = Dataloader(data, sampler)\n",
    "\n",
    "opt = GD(config.lr)\n",
    "loss = MSE()"
   ]
  },
  {
   "cell_type": "code",
   "execution_count": 18,
   "id": "b275e4c2",
   "metadata": {
    "execution": {
     "iopub.execute_input": "2022-08-29T00:45:56.344220Z",
     "iopub.status.busy": "2022-08-29T00:45:56.343482Z",
     "iopub.status.idle": "2022-08-29T00:45:56.359150Z",
     "shell.execute_reply": "2022-08-29T00:45:56.358438Z"
    },
    "papermill": {
     "duration": 0.052183,
     "end_time": "2022-08-29T00:45:56.359300",
     "exception": false,
     "start_time": "2022-08-29T00:45:56.307117",
     "status": "completed"
    },
    "tags": []
   },
   "outputs": [],
   "source": [
    "training_data_x = X_train\n",
    "testing_data_x = X_test\n",
    "training_data_y = y_train.reshape(-1,1)\n",
    "testing_data_y = y_test.reshape(-1,1)"
   ]
  },
  {
   "cell_type": "code",
   "execution_count": 19,
   "id": "76951160",
   "metadata": {
    "execution": {
     "iopub.execute_input": "2022-08-29T00:45:56.428659Z",
     "iopub.status.busy": "2022-08-29T00:45:56.427927Z",
     "iopub.status.idle": "2022-08-29T00:45:56.448009Z",
     "shell.execute_reply": "2022-08-29T00:45:56.448591Z"
    },
    "papermill": {
     "duration": 0.057769,
     "end_time": "2022-08-29T00:45:56.448751",
     "exception": false,
     "start_time": "2022-08-29T00:45:56.390982",
     "status": "completed"
    },
    "tags": []
   },
   "outputs": [
    {
     "name": "stdout",
     "output_type": "stream",
     "text": [
      "xavier\n",
      "xavier\n",
      "xavier\n",
      "xavier\n",
      "xavier\n"
     ]
    }
   ],
   "source": [
    "layers = [Affine(\"first\", 784, 100), Relu(\"first\"), Affine(\"second\", 100, 100), Relu(\"second\"), Affine(\"third\", 100, 2), Affine(\"last\", 2, 1), Sigmoid(\"last\")]\n",
    "model_nn = Model(layers)\n",
    "model_lr = Model([Affine(\"logits\", 784, 1), Sigmoid(\"sigmoid\")])"
   ]
  },
  {
   "cell_type": "code",
   "execution_count": 20,
   "id": "6eede77a",
   "metadata": {
    "execution": {
     "iopub.execute_input": "2022-08-29T00:45:56.517092Z",
     "iopub.status.busy": "2022-08-29T00:45:56.516360Z",
     "iopub.status.idle": "2022-08-29T00:45:56.531722Z",
     "shell.execute_reply": "2022-08-29T00:45:56.532414Z"
    },
    "papermill": {
     "duration": 0.051915,
     "end_time": "2022-08-29T00:45:56.532571",
     "exception": false,
     "start_time": "2022-08-29T00:45:56.480656",
     "status": "completed"
    },
    "tags": []
   },
   "outputs": [],
   "source": [
    "nn_learner = Learner(loss, model_nn, opt, config.num_epochs)\n",
    "acc_nn = ClfCallback(nn_learner, config.bs, training_data_x , testing_data_x, training_data_y, testing_data_y)\n",
    "nn_learner.set_callbacks([acc_nn])"
   ]
  },
  {
   "cell_type": "code",
   "execution_count": 21,
   "id": "877b6cc7",
   "metadata": {
    "execution": {
     "iopub.execute_input": "2022-08-29T00:45:56.601251Z",
     "iopub.status.busy": "2022-08-29T00:45:56.600495Z",
     "iopub.status.idle": "2022-08-29T00:45:56.615664Z",
     "shell.execute_reply": "2022-08-29T00:45:56.615083Z"
    },
    "papermill": {
     "duration": 0.051449,
     "end_time": "2022-08-29T00:45:56.615801",
     "exception": false,
     "start_time": "2022-08-29T00:45:56.564352",
     "status": "completed"
    },
    "tags": []
   },
   "outputs": [],
   "source": [
    "lr_learner = Learner(loss, model_lr, opt, config.num_epochs)\n",
    "acc_lr = ClfCallback(lr_learner, config.bs, training_data_x , testing_data_x, training_data_y, testing_data_y)\n",
    "lr_learner.set_callbacks([acc_lr])"
   ]
  },
  {
   "cell_type": "code",
   "execution_count": 22,
   "id": "d9b133c3",
   "metadata": {
    "execution": {
     "iopub.execute_input": "2022-08-29T00:45:56.684362Z",
     "iopub.status.busy": "2022-08-29T00:45:56.683662Z",
     "iopub.status.idle": "2022-08-29T00:47:29.140233Z",
     "shell.execute_reply": "2022-08-29T00:47:29.141438Z"
    },
    "papermill": {
     "duration": 92.493741,
     "end_time": "2022-08-29T00:47:29.141621",
     "exception": false,
     "start_time": "2022-08-29T00:45:56.647880",
     "status": "completed"
    },
    "tags": []
   },
   "outputs": [
    {
     "name": "stdout",
     "output_type": "stream",
     "text": [
      "Epoch 0, Loss 0.2171\n",
      "Training Accuracy: 0.8046, Testing Accuracy: 0.8397\n",
      "\n"
     ]
    },
    {
     "name": "stdout",
     "output_type": "stream",
     "text": [
      "Epoch 10, Loss 0.0694\n",
      "Training Accuracy: 0.9305, Testing Accuracy: 0.9410\n",
      "\n"
     ]
    },
    {
     "name": "stdout",
     "output_type": "stream",
     "text": [
      "Epoch 20, Loss 0.0478\n",
      "Training Accuracy: 0.9488, Testing Accuracy: 0.9572\n",
      "\n"
     ]
    },
    {
     "name": "stdout",
     "output_type": "stream",
     "text": [
      "Epoch 30, Loss 0.0394\n",
      "Training Accuracy: 0.9566, Testing Accuracy: 0.9652\n",
      "\n"
     ]
    },
    {
     "name": "stdout",
     "output_type": "stream",
     "text": [
      "Epoch 40, Loss 0.0348\n",
      "Training Accuracy: 0.9604, Testing Accuracy: 0.9672\n",
      "\n"
     ]
    },
    {
     "name": "stdout",
     "output_type": "stream",
     "text": [
      "Epoch 50, Loss 0.0317\n",
      "Training Accuracy: 0.9634, Testing Accuracy: 0.9682\n",
      "\n"
     ]
    },
    {
     "name": "stdout",
     "output_type": "stream",
     "text": [
      "Epoch 60, Loss 0.0295\n",
      "Training Accuracy: 0.9659, Testing Accuracy: 0.9693\n",
      "\n"
     ]
    },
    {
     "name": "stdout",
     "output_type": "stream",
     "text": [
      "Epoch 70, Loss 0.0277\n",
      "Training Accuracy: 0.9679, Testing Accuracy: 0.9718\n",
      "\n"
     ]
    },
    {
     "name": "stdout",
     "output_type": "stream",
     "text": [
      "Epoch 80, Loss 0.0263\n",
      "Training Accuracy: 0.9701, Testing Accuracy: 0.9728\n",
      "\n"
     ]
    },
    {
     "name": "stdout",
     "output_type": "stream",
     "text": [
      "Epoch 90, Loss 0.0251\n",
      "Training Accuracy: 0.9716, Testing Accuracy: 0.9738\n",
      "\n"
     ]
    },
    {
     "name": "stdout",
     "output_type": "stream",
     "text": [
      "Epoch 100, Loss 0.024\n",
      "Training Accuracy: 0.9725, Testing Accuracy: 0.9743\n",
      "\n"
     ]
    },
    {
     "name": "stdout",
     "output_type": "stream",
     "text": [
      "Epoch 110, Loss 0.0231\n",
      "Training Accuracy: 0.9739, Testing Accuracy: 0.9748\n",
      "\n"
     ]
    },
    {
     "name": "stdout",
     "output_type": "stream",
     "text": [
      "Epoch 120, Loss 0.0222\n",
      "Training Accuracy: 0.9747, Testing Accuracy: 0.9733\n",
      "\n"
     ]
    },
    {
     "name": "stdout",
     "output_type": "stream",
     "text": [
      "Epoch 130, Loss 0.0214\n",
      "Training Accuracy: 0.9762, Testing Accuracy: 0.9728\n",
      "\n"
     ]
    },
    {
     "name": "stdout",
     "output_type": "stream",
     "text": [
      "Epoch 140, Loss 0.0207\n",
      "Training Accuracy: 0.9769, Testing Accuracy: 0.9738\n",
      "\n"
     ]
    },
    {
     "name": "stdout",
     "output_type": "stream",
     "text": [
      "Epoch 150, Loss 0.0201\n",
      "Training Accuracy: 0.9776, Testing Accuracy: 0.9738\n",
      "\n"
     ]
    },
    {
     "name": "stdout",
     "output_type": "stream",
     "text": [
      "Epoch 160, Loss 0.0195\n",
      "Training Accuracy: 0.9782, Testing Accuracy: 0.9743\n",
      "\n"
     ]
    },
    {
     "name": "stdout",
     "output_type": "stream",
     "text": [
      "Epoch 170, Loss 0.0189\n",
      "Training Accuracy: 0.9786, Testing Accuracy: 0.9743\n",
      "\n"
     ]
    },
    {
     "name": "stdout",
     "output_type": "stream",
     "text": [
      "Epoch 180, Loss 0.0183\n",
      "Training Accuracy: 0.9796, Testing Accuracy: 0.9758\n",
      "\n"
     ]
    },
    {
     "name": "stdout",
     "output_type": "stream",
     "text": [
      "Epoch 190, Loss 0.0178\n",
      "Training Accuracy: 0.9801, Testing Accuracy: 0.9753\n",
      "\n"
     ]
    },
    {
     "name": "stdout",
     "output_type": "stream",
     "text": [
      "Epoch 200, Loss 0.0173\n",
      "Training Accuracy: 0.9811, Testing Accuracy: 0.9773\n",
      "\n"
     ]
    },
    {
     "name": "stdout",
     "output_type": "stream",
     "text": [
      "Epoch 210, Loss 0.0169\n",
      "Training Accuracy: 0.9819, Testing Accuracy: 0.9783\n",
      "\n"
     ]
    },
    {
     "name": "stdout",
     "output_type": "stream",
     "text": [
      "Epoch 220, Loss 0.0164\n",
      "Training Accuracy: 0.9826, Testing Accuracy: 0.9788\n",
      "\n"
     ]
    },
    {
     "name": "stdout",
     "output_type": "stream",
     "text": [
      "Epoch 230, Loss 0.016\n",
      "Training Accuracy: 0.9828, Testing Accuracy: 0.9788\n",
      "\n"
     ]
    },
    {
     "name": "stdout",
     "output_type": "stream",
     "text": [
      "Epoch 240, Loss 0.0156\n",
      "Training Accuracy: 0.9837, Testing Accuracy: 0.9788\n",
      "\n"
     ]
    },
    {
     "data": {
      "text/plain": [
       "0.02069968645469038"
      ]
     },
     "execution_count": 22,
     "metadata": {},
     "output_type": "execute_result"
    }
   ],
   "source": [
    "nn_learner.train_loop(dl)"
   ]
  },
  {
   "cell_type": "code",
   "execution_count": 23,
   "id": "e0163366",
   "metadata": {
    "execution": {
     "iopub.execute_input": "2022-08-29T00:47:29.242724Z",
     "iopub.status.busy": "2022-08-29T00:47:29.241963Z",
     "iopub.status.idle": "2022-08-29T00:47:45.603854Z",
     "shell.execute_reply": "2022-08-29T00:47:45.604864Z"
    },
    "papermill": {
     "duration": 16.422055,
     "end_time": "2022-08-29T00:47:45.605056",
     "exception": false,
     "start_time": "2022-08-29T00:47:29.183001",
     "status": "completed"
    },
    "tags": []
   },
   "outputs": [
    {
     "name": "stdout",
     "output_type": "stream",
     "text": [
      "Epoch 0, Loss 0.2264\n",
      "Training Accuracy: 0.7434, Testing Accuracy: 0.7545\n",
      "\n"
     ]
    },
    {
     "name": "stdout",
     "output_type": "stream",
     "text": [
      "Epoch 10, Loss 0.0977\n",
      "Training Accuracy: 0.9185, Testing Accuracy: 0.9355\n",
      "\n"
     ]
    },
    {
     "name": "stdout",
     "output_type": "stream",
     "text": [
      "Epoch 20, Loss 0.0763\n",
      "Training Accuracy: 0.9308, Testing Accuracy: 0.9461\n",
      "\n"
     ]
    },
    {
     "name": "stdout",
     "output_type": "stream",
     "text": [
      "Epoch 30, Loss 0.0664\n",
      "Training Accuracy: 0.9382, Testing Accuracy: 0.9526\n",
      "\n"
     ]
    },
    {
     "name": "stdout",
     "output_type": "stream",
     "text": [
      "Epoch 40, Loss 0.0604\n",
      "Training Accuracy: 0.9418, Testing Accuracy: 0.9541\n",
      "\n"
     ]
    },
    {
     "name": "stdout",
     "output_type": "stream",
     "text": [
      "Epoch 50, Loss 0.0562\n",
      "Training Accuracy: 0.9459, Testing Accuracy: 0.9592\n",
      "\n"
     ]
    },
    {
     "name": "stdout",
     "output_type": "stream",
     "text": [
      "Epoch 60, Loss 0.0531\n",
      "Training Accuracy: 0.9483, Testing Accuracy: 0.9602\n",
      "\n"
     ]
    },
    {
     "name": "stdout",
     "output_type": "stream",
     "text": [
      "Epoch 70, Loss 0.0507\n",
      "Training Accuracy: 0.9502, Testing Accuracy: 0.9607\n",
      "\n"
     ]
    },
    {
     "name": "stdout",
     "output_type": "stream",
     "text": [
      "Epoch 80, Loss 0.0488\n",
      "Training Accuracy: 0.9519, Testing Accuracy: 0.9607\n",
      "\n"
     ]
    },
    {
     "name": "stdout",
     "output_type": "stream",
     "text": [
      "Epoch 90, Loss 0.0471\n",
      "Training Accuracy: 0.9533, Testing Accuracy: 0.9617\n",
      "\n"
     ]
    },
    {
     "name": "stdout",
     "output_type": "stream",
     "text": [
      "Epoch 100, Loss 0.0458\n",
      "Training Accuracy: 0.9538, Testing Accuracy: 0.9637\n",
      "\n"
     ]
    },
    {
     "name": "stdout",
     "output_type": "stream",
     "text": [
      "Epoch 110, Loss 0.0446\n",
      "Training Accuracy: 0.9548, Testing Accuracy: 0.9642\n",
      "\n"
     ]
    },
    {
     "name": "stdout",
     "output_type": "stream",
     "text": [
      "Epoch 120, Loss 0.0436\n",
      "Training Accuracy: 0.9559, Testing Accuracy: 0.9647\n",
      "\n"
     ]
    },
    {
     "name": "stdout",
     "output_type": "stream",
     "text": [
      "Epoch 130, Loss 0.0427\n",
      "Training Accuracy: 0.9564, Testing Accuracy: 0.9657\n",
      "\n"
     ]
    },
    {
     "name": "stdout",
     "output_type": "stream",
     "text": [
      "Epoch 140, Loss 0.0418\n",
      "Training Accuracy: 0.9568, Testing Accuracy: 0.9657\n",
      "\n"
     ]
    },
    {
     "name": "stdout",
     "output_type": "stream",
     "text": [
      "Epoch 150, Loss 0.0411\n",
      "Training Accuracy: 0.9574, Testing Accuracy: 0.9662\n",
      "\n"
     ]
    },
    {
     "name": "stdout",
     "output_type": "stream",
     "text": [
      "Epoch 160, Loss 0.0405\n",
      "Training Accuracy: 0.9577, Testing Accuracy: 0.9667\n",
      "\n"
     ]
    },
    {
     "name": "stdout",
     "output_type": "stream",
     "text": [
      "Epoch 170, Loss 0.0399\n",
      "Training Accuracy: 0.9580, Testing Accuracy: 0.9667\n",
      "\n"
     ]
    },
    {
     "name": "stdout",
     "output_type": "stream",
     "text": [
      "Epoch 180, Loss 0.0393\n",
      "Training Accuracy: 0.9586, Testing Accuracy: 0.9672\n",
      "\n"
     ]
    },
    {
     "name": "stdout",
     "output_type": "stream",
     "text": [
      "Epoch 190, Loss 0.0388\n",
      "Training Accuracy: 0.9592, Testing Accuracy: 0.9672\n",
      "\n"
     ]
    },
    {
     "name": "stdout",
     "output_type": "stream",
     "text": [
      "Epoch 200, Loss 0.0383\n",
      "Training Accuracy: 0.9599, Testing Accuracy: 0.9672\n",
      "\n"
     ]
    },
    {
     "name": "stdout",
     "output_type": "stream",
     "text": [
      "Epoch 210, Loss 0.0379\n",
      "Training Accuracy: 0.9603, Testing Accuracy: 0.9682\n",
      "\n"
     ]
    },
    {
     "name": "stdout",
     "output_type": "stream",
     "text": [
      "Epoch 220, Loss 0.0375\n",
      "Training Accuracy: 0.9604, Testing Accuracy: 0.9693\n",
      "\n"
     ]
    },
    {
     "name": "stdout",
     "output_type": "stream",
     "text": [
      "Epoch 230, Loss 0.0371\n",
      "Training Accuracy: 0.9607, Testing Accuracy: 0.9693\n",
      "\n"
     ]
    },
    {
     "name": "stdout",
     "output_type": "stream",
     "text": [
      "Epoch 240, Loss 0.0367\n",
      "Training Accuracy: 0.9614, Testing Accuracy: 0.9693\n",
      "\n"
     ]
    },
    {
     "data": {
      "text/plain": [
       "0.008995896929305873"
      ]
     },
     "execution_count": 23,
     "metadata": {},
     "output_type": "execute_result"
    }
   ],
   "source": [
    "lr_learner.train_loop(dl)"
   ]
  },
  {
   "cell_type": "code",
   "execution_count": 24,
   "id": "ca410940",
   "metadata": {
    "execution": {
     "iopub.execute_input": "2022-08-29T00:47:45.714812Z",
     "iopub.status.busy": "2022-08-29T00:47:45.714087Z",
     "iopub.status.idle": "2022-08-29T00:47:45.980143Z",
     "shell.execute_reply": "2022-08-29T00:47:45.979540Z"
    },
    "papermill": {
     "duration": 0.327185,
     "end_time": "2022-08-29T00:47:45.980283",
     "exception": false,
     "start_time": "2022-08-29T00:47:45.653098",
     "status": "completed"
    },
    "tags": []
   },
   "outputs": [
    {
     "data": {
      "text/plain": [
       "<matplotlib.legend.Legend at 0x7f3c6b2f6f98>"
      ]
     },
     "execution_count": 24,
     "metadata": {},
     "output_type": "execute_result"
    },
    {
     "data": {
      "image/png": "[encoded data removed]",
      "text/plain": [
       "<Figure size 1080x720 with 1 Axes>"
      ]
     },
     "metadata": {
      "needs_background": "light"
     },
     "output_type": "display_data"
    }
   ],
   "source": [
    "#comparing the results of NN and LR\n",
    "plt.figure(figsize=(15,10))\n",
    "\n",
    "# Neural Network plots\n",
    "plt.plot(acc_nn.accuracies, 'r-', label = \"Training Accuracies - NN\")\n",
    "plt.plot(acc_nn.test_accuracies, 'g-', label = \"Testing Accuracies - NN\")\n",
    "\n",
    "# Logistic Regression plots\n",
    "plt.plot(acc_lr.accuracies, 'k-', label = \"Training Accuracies - LR\")\n",
    "plt.plot(acc_lr.test_accuracies, 'b-', label = \"Testing Accuracies - LR\")\n",
    "plt.legend()"
   ]
  },
  {
   "cell_type": "markdown",
   "id": "80dfb35c",
   "metadata": {
    "papermill": {
     "duration": 0.049443,
     "end_time": "2022-08-29T00:47:46.079950",
     "exception": false,
     "start_time": "2022-08-29T00:47:46.030507",
     "status": "completed"
    },
    "tags": []
   },
   "source": [
    "#### Plotting the outputs of this layer of the NN.\n"
   ]
  },
  {
   "cell_type": "code",
   "execution_count": 25,
   "id": "45eb2ff5",
   "metadata": {
    "execution": {
     "iopub.execute_input": "2022-08-29T00:47:46.186495Z",
     "iopub.status.busy": "2022-08-29T00:47:46.183784Z",
     "iopub.status.idle": "2022-08-29T00:47:46.207432Z",
     "shell.execute_reply": "2022-08-29T00:47:46.207988Z"
    },
    "papermill": {
     "duration": 0.079199,
     "end_time": "2022-08-29T00:47:46.208149",
     "exception": false,
     "start_time": "2022-08-29T00:47:46.128950",
     "status": "completed"
    },
    "tags": []
   },
   "outputs": [],
   "source": [
    "new_model = Model(layers[:-2])\n",
    "testing_plot = new_model(testing_data_x)"
   ]
  },
  {
   "cell_type": "code",
   "execution_count": 26,
   "id": "4c0a5485",
   "metadata": {
    "execution": {
     "iopub.execute_input": "2022-08-29T00:47:46.313810Z",
     "iopub.status.busy": "2022-08-29T00:47:46.313079Z",
     "iopub.status.idle": "2022-08-29T00:47:46.526397Z",
     "shell.execute_reply": "2022-08-29T00:47:46.526925Z"
    },
    "papermill": {
     "duration": 0.268987,
     "end_time": "2022-08-29T00:47:46.527091",
     "exception": false,
     "start_time": "2022-08-29T00:47:46.258104",
     "status": "completed"
    },
    "tags": []
   },
   "outputs": [
    {
     "data": {
      "text/plain": [
       "Text(0.5, 1.0, 'Outputs')"
      ]
     },
     "execution_count": 26,
     "metadata": {},
     "output_type": "execute_result"
    },
    {
     "data": {
      "image/png": "[encoded data removed]",
      "text/plain": [
       "<Figure size 576x504 with 1 Axes>"
      ]
     },
     "metadata": {
      "needs_background": "light"
     },
     "output_type": "display_data"
    }
   ],
   "source": [
    "# Plotting the scatter plot of points and color coding by class\n",
    "plt.figure(figsize=(8,7))\n",
    "plt.scatter(testing_plot[:,0], testing_plot[:,1], alpha = 0.1, c = y_test.ravel());\n",
    "plt.title('Outputs')"
   ]
  },
  {
   "cell_type": "markdown",
   "id": "a74fcf8f",
   "metadata": {
    "papermill": {
     "duration": 0.051512,
     "end_time": "2022-08-29T00:47:46.630685",
     "exception": false,
     "start_time": "2022-08-29T00:47:46.579173",
     "status": "completed"
    },
    "tags": []
   },
   "source": [
    "Probability contours"
   ]
  },
  {
   "cell_type": "code",
   "execution_count": 27,
   "id": "d0afc8e3",
   "metadata": {
    "execution": {
     "iopub.execute_input": "2022-08-29T00:47:46.767134Z",
     "iopub.status.busy": "2022-08-29T00:47:46.766414Z",
     "iopub.status.idle": "2022-08-29T00:47:46.783143Z",
     "shell.execute_reply": "2022-08-29T00:47:46.782447Z"
    },
    "papermill": {
     "duration": 0.071612,
     "end_time": "2022-08-29T00:47:46.783273",
     "exception": false,
     "start_time": "2022-08-29T00:47:46.711661",
     "status": "completed"
    },
    "tags": []
   },
   "outputs": [],
   "source": [
    "model_prob = Model(layers[-2:]) "
   ]
  },
  {
   "cell_type": "code",
   "execution_count": 28,
   "id": "9b96e238",
   "metadata": {
    "execution": {
     "iopub.execute_input": "2022-08-29T00:47:46.892576Z",
     "iopub.status.busy": "2022-08-29T00:47:46.891646Z",
     "iopub.status.idle": "2022-08-29T00:47:46.907829Z",
     "shell.execute_reply": "2022-08-29T00:47:46.908360Z"
    },
    "papermill": {
     "duration": 0.07381,
     "end_time": "2022-08-29T00:47:46.908521",
     "exception": false,
     "start_time": "2022-08-29T00:47:46.834711",
     "status": "completed"
    },
    "tags": []
   },
   "outputs": [],
   "source": [
    "#creating the x and y ranges according to the above generated plot.\n",
    "x_range = np.linspace(-4, 1, 100) \n",
    "y_range = np.linspace(-6, 6, 100) \n",
    "x_grid, y_grid = np.meshgrid(x_range, y_range) # x_grid and y_grig are of size 100 X 100\n",
    "\n",
    "# converting x_grid and y_grid to continuous arrays\n",
    "x_gridflat = np.ravel(x_grid)\n",
    "y_gridflat = np.ravel(y_grid)\n",
    "\n",
    "# The last layer of the current model takes two columns as input. Hence transpose of np.vstack() is required.\n",
    "X = np.vstack((x_gridflat, y_gridflat)).T\n",
    "\n",
    "prob_contour = model_prob(X).reshape(100,100) "
   ]
  },
  {
   "cell_type": "code",
   "execution_count": 29,
   "id": "da72499a",
   "metadata": {
    "execution": {
     "iopub.execute_input": "2022-08-29T00:47:47.032638Z",
     "iopub.status.busy": "2022-08-29T00:47:47.023061Z",
     "iopub.status.idle": "2022-08-29T00:47:47.308720Z",
     "shell.execute_reply": "2022-08-29T00:47:47.308009Z"
    },
    "papermill": {
     "duration": 0.347539,
     "end_time": "2022-08-29T00:47:47.308858",
     "exception": false,
     "start_time": "2022-08-29T00:47:46.961319",
     "status": "completed"
    },
    "tags": []
   },
   "outputs": [
    {
     "data": {
      "image/png": "[encoded data removed]",
      "text/plain": [
       "<Figure size 720x648 with 1 Axes>"
      ]
     },
     "metadata": {
      "needs_background": "light"
     },
     "output_type": "display_data"
    }
   ],
   "source": [
    "plt.figure(figsize=(10,9))\n",
    "plt.scatter(testing_plot[:,0], testing_plot[:,1], alpha = 0.1, c = y_test.ravel())\n",
    "contours = plt.contour(x_grid,y_grid,prob_contour)\n",
    "plt.title('Probability Contours')\n",
    "plt.clabel(contours, inline = True );"
   ]
  },
  {
   "cell_type": "code",
   "execution_count": null,
   "id": "e81b4ac7",
   "metadata": {
    "papermill": {
     "duration": 0.054955,
     "end_time": "2022-08-29T00:47:47.419473",
     "exception": false,
     "start_time": "2022-08-29T00:47:47.364518",
     "status": "completed"
    },
    "tags": []
   },
   "outputs": [],
   "source": []
  }
 ],
 "metadata": {
  "kernelspec": {
   "display_name": "Python 3",
   "language": "python",
   "name": "python3"
  },
  "language_info": {
   "codemirror_mode": {
    "name": "ipython",
    "version": 3
   },
   "file_extension": ".py",
   "mimetype": "text/x-python",
   "name": "python",
   "nbconvert_exporter": "python",
   "pygments_lexer": "ipython3",
   "version": "3.6.15"
  },
  "papermill": {
   "default_parameters": {},
   "duration": 118.560884,
   "end_time": "2022-08-29T00:47:47.894669",
   "environment_variables": {},
   "exception": null,
   "input_path": "2020-08-11-part2.ipynb",
   "output_path": "2020-08-11-part2.ipynb",
   "parameters": {},
   "start_time": "2022-08-29T00:45:49.333785",
   "version": "2.3.3"
  }
 },
 "nbformat": 4,
 "nbformat_minor": 5
}