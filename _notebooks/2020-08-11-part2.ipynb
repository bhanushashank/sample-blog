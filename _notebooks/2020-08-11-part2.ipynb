{
 "cells": [
  {
   "cell_type": "markdown",
   "id": "98380cd3",
   "metadata": {
    "papermill": {
     "duration": 0.03147,
     "end_time": "2022-02-26T10:09:06.991147",
     "exception": false,
     "start_time": "2022-02-26T10:09:06.959677",
     "status": "completed"
    },
    "tags": []
   },
   "source": [
    "# Distinguish Your Own Digits (DYOD)"
   ]
  },
  {
   "cell_type": "markdown",
   "id": "ef31240d",
   "metadata": {
    "papermill": {
     "duration": 0.025802,
     "end_time": "2022-02-26T10:09:07.042797",
     "exception": false,
     "start_time": "2022-02-26T10:09:07.016995",
     "status": "completed"
    },
    "tags": []
   },
   "source": [
    "You are going to write a classifier that distinguishes between the number 3 and number 8."
   ]
  },
  {
   "cell_type": "code",
   "execution_count": 1,
   "id": "b15c8646",
   "metadata": {
    "execution": {
     "iopub.execute_input": "2022-02-26T10:09:07.109811Z",
     "iopub.status.busy": "2022-02-26T10:09:07.109226Z",
     "iopub.status.idle": "2022-02-26T10:09:07.120742Z",
     "shell.execute_reply": "2022-02-26T10:09:07.120189Z"
    },
    "papermill": {
     "duration": 0.051621,
     "end_time": "2022-02-26T10:09:07.120874",
     "exception": false,
     "start_time": "2022-02-26T10:09:07.069253",
     "status": "completed"
    },
    "tags": []
   },
   "outputs": [],
   "source": [
    "%load_ext autoreload\n",
    "%autoreload 2"
   ]
  },
  {
   "cell_type": "code",
   "execution_count": 2,
   "id": "22ef38dc",
   "metadata": {
    "execution": {
     "iopub.execute_input": "2022-02-26T10:09:07.179015Z",
     "iopub.status.busy": "2022-02-26T10:09:07.178401Z",
     "iopub.status.idle": "2022-02-26T10:09:07.822376Z",
     "shell.execute_reply": "2022-02-26T10:09:07.821501Z"
    },
    "papermill": {
     "duration": 0.675853,
     "end_time": "2022-02-26T10:09:07.822639",
     "exception": false,
     "start_time": "2022-02-26T10:09:07.146786",
     "status": "completed"
    },
    "tags": []
   },
   "outputs": [],
   "source": [
    "%matplotlib inline\n",
    "import numpy as np\n",
    "import matplotlib.pyplot as plt\n",
    "import pandas as pd"
   ]
  },
  {
   "cell_type": "markdown",
   "id": "ba036198",
   "metadata": {
    "papermill": {
     "duration": 0.027115,
     "end_time": "2022-02-26T10:09:07.878215",
     "exception": false,
     "start_time": "2022-02-26T10:09:07.851100",
     "status": "completed"
    },
    "tags": []
   },
   "source": [
    "From the command line run `pip install mnist`. This is a library that will help you bring down the mnist dataset. If you run this from a notebook, you need to put  `!pip install mnist` in a cell by itself."
   ]
  },
  {
   "cell_type": "code",
   "execution_count": 3,
   "id": "bb6ad8a1",
   "metadata": {
    "execution": {
     "iopub.execute_input": "2022-02-26T10:09:07.938169Z",
     "iopub.status.busy": "2022-02-26T10:09:07.936862Z",
     "iopub.status.idle": "2022-02-26T10:09:09.775843Z",
     "shell.execute_reply": "2022-02-26T10:09:09.775303Z"
    },
    "papermill": {
     "duration": 1.871908,
     "end_time": "2022-02-26T10:09:09.775986",
     "exception": false,
     "start_time": "2022-02-26T10:09:07.904078",
     "status": "completed"
    },
    "tags": []
   },
   "outputs": [
    {
     "name": "stdout",
     "output_type": "stream",
     "text": [
      "Collecting mnist\r\n"
     ]
    },
    {
     "name": "stdout",
     "output_type": "stream",
     "text": [
      "  Downloading mnist-0.2.2-py2.py3-none-any.whl (3.5 kB)\r\n",
      "Requirement already satisfied: numpy in /opt/hostedtoolcache/Python/3.6.15/x64/lib/python3.6/site-packages (from mnist) (1.19.5)\r\n"
     ]
    },
    {
     "name": "stdout",
     "output_type": "stream",
     "text": [
      "Installing collected packages: mnist\r\n"
     ]
    },
    {
     "name": "stdout",
     "output_type": "stream",
     "text": [
      "Successfully installed mnist-0.2.2\r\n"
     ]
    }
   ],
   "source": [
    "!pip install mnist"
   ]
  },
  {
   "cell_type": "markdown",
   "id": "69df9c9a",
   "metadata": {
    "papermill": {
     "duration": 0.026364,
     "end_time": "2022-02-26T10:09:09.828840",
     "exception": false,
     "start_time": "2022-02-26T10:09:09.802476",
     "status": "completed"
    },
    "tags": []
   },
   "source": [
    "## Preparing the Data"
   ]
  },
  {
   "cell_type": "code",
   "execution_count": 4,
   "id": "7f69d806",
   "metadata": {
    "execution": {
     "iopub.execute_input": "2022-02-26T10:09:09.885634Z",
     "iopub.status.busy": "2022-02-26T10:09:09.884582Z",
     "iopub.status.idle": "2022-02-26T10:09:09.901803Z",
     "shell.execute_reply": "2022-02-26T10:09:09.901402Z"
    },
    "papermill": {
     "duration": 0.046415,
     "end_time": "2022-02-26T10:09:09.901894",
     "exception": false,
     "start_time": "2022-02-26T10:09:09.855479",
     "status": "completed"
    },
    "tags": []
   },
   "outputs": [],
   "source": [
    "import mnist"
   ]
  },
  {
   "cell_type": "code",
   "execution_count": 5,
   "id": "a411e44f",
   "metadata": {
    "execution": {
     "iopub.execute_input": "2022-02-26T10:09:09.958335Z",
     "iopub.status.busy": "2022-02-26T10:09:09.957754Z",
     "iopub.status.idle": "2022-02-26T10:09:10.569949Z",
     "shell.execute_reply": "2022-02-26T10:09:10.569071Z"
    },
    "papermill": {
     "duration": 0.642811,
     "end_time": "2022-02-26T10:09:10.570170",
     "exception": false,
     "start_time": "2022-02-26T10:09:09.927359",
     "status": "completed"
    },
    "tags": []
   },
   "outputs": [],
   "source": [
    "train_images = mnist.train_images()\n",
    "train_labels = mnist.train_labels()"
   ]
  },
  {
   "cell_type": "code",
   "execution_count": 6,
   "id": "dceab3a5",
   "metadata": {
    "execution": {
     "iopub.execute_input": "2022-02-26T10:09:10.632623Z",
     "iopub.status.busy": "2022-02-26T10:09:10.632030Z",
     "iopub.status.idle": "2022-02-26T10:09:10.647605Z",
     "shell.execute_reply": "2022-02-26T10:09:10.647118Z"
    },
    "papermill": {
     "duration": 0.048136,
     "end_time": "2022-02-26T10:09:10.647727",
     "exception": false,
     "start_time": "2022-02-26T10:09:10.599591",
     "status": "completed"
    },
    "tags": []
   },
   "outputs": [
    {
     "data": {
      "text/plain": [
       "((60000, 28, 28), (60000,))"
      ]
     },
     "execution_count": 6,
     "metadata": {},
     "output_type": "execute_result"
    }
   ],
   "source": [
    "train_images.shape, train_labels.shape"
   ]
  },
  {
   "cell_type": "code",
   "execution_count": 7,
   "id": "f50dc2bb",
   "metadata": {
    "execution": {
     "iopub.execute_input": "2022-02-26T10:09:10.708781Z",
     "iopub.status.busy": "2022-02-26T10:09:10.708202Z",
     "iopub.status.idle": "2022-02-26T10:09:10.882947Z",
     "shell.execute_reply": "2022-02-26T10:09:10.882109Z"
    },
    "papermill": {
     "duration": 0.207581,
     "end_time": "2022-02-26T10:09:10.883152",
     "exception": false,
     "start_time": "2022-02-26T10:09:10.675571",
     "status": "completed"
    },
    "tags": []
   },
   "outputs": [],
   "source": [
    "test_images = mnist.test_images()\n",
    "test_labels = mnist.test_labels()"
   ]
  },
  {
   "cell_type": "code",
   "execution_count": 8,
   "id": "fc38cf1b",
   "metadata": {
    "execution": {
     "iopub.execute_input": "2022-02-26T10:09:10.948654Z",
     "iopub.status.busy": "2022-02-26T10:09:10.948051Z",
     "iopub.status.idle": "2022-02-26T10:09:10.963585Z",
     "shell.execute_reply": "2022-02-26T10:09:10.963106Z"
    },
    "papermill": {
     "duration": 0.049347,
     "end_time": "2022-02-26T10:09:10.963708",
     "exception": false,
     "start_time": "2022-02-26T10:09:10.914361",
     "status": "completed"
    },
    "tags": []
   },
   "outputs": [
    {
     "data": {
      "text/plain": [
       "((10000, 28, 28), (10000,))"
      ]
     },
     "execution_count": 8,
     "metadata": {},
     "output_type": "execute_result"
    }
   ],
   "source": [
    "test_images.shape, test_labels.shape"
   ]
  },
  {
   "cell_type": "code",
   "execution_count": 9,
   "id": "f9ed8fe0",
   "metadata": {
    "execution": {
     "iopub.execute_input": "2022-02-26T10:09:11.025120Z",
     "iopub.status.busy": "2022-02-26T10:09:11.024523Z",
     "iopub.status.idle": "2022-02-26T10:09:11.176823Z",
     "shell.execute_reply": "2022-02-26T10:09:11.176361Z"
    },
    "papermill": {
     "duration": 0.185018,
     "end_time": "2022-02-26T10:09:11.176946",
     "exception": false,
     "start_time": "2022-02-26T10:09:10.991928",
     "status": "completed"
    },
    "tags": []
   },
   "outputs": [
    {
     "name": "stdout",
     "output_type": "stream",
     "text": [
      "2\n"
     ]
    },
    {
     "data": {
      "text/plain": [
       "<matplotlib.image.AxesImage at 0x7f32749c6588>"
      ]
     },
     "execution_count": 9,
     "metadata": {},
     "output_type": "execute_result"
    },
    {
     "data": {
      "image/png": "[encoded data removed]",
      "text/plain": [
       "<Figure size 432x288 with 1 Axes>"
      ]
     },
     "metadata": {
      "needs_background": "light"
     },
     "output_type": "display_data"
    }
   ],
   "source": [
    "image_index = 7776 # You may select anything up to 60,000\n",
    "print(train_labels[image_index]) \n",
    "plt.imshow(train_images[image_index], cmap='Greys')"
   ]
  },
  {
   "cell_type": "markdown",
   "id": "a8d2388d",
   "metadata": {
    "papermill": {
     "duration": 0.029124,
     "end_time": "2022-02-26T10:09:11.235641",
     "exception": false,
     "start_time": "2022-02-26T10:09:11.206517",
     "status": "completed"
    },
    "tags": []
   },
   "source": [
    "## Filter data to get 3 and 8 out"
   ]
  },
  {
   "cell_type": "code",
   "execution_count": 10,
   "id": "776f7fc7",
   "metadata": {
    "execution": {
     "iopub.execute_input": "2022-02-26T10:09:11.300534Z",
     "iopub.status.busy": "2022-02-26T10:09:11.298942Z",
     "iopub.status.idle": "2022-02-26T10:09:11.317803Z",
     "shell.execute_reply": "2022-02-26T10:09:11.317279Z"
    },
    "papermill": {
     "duration": 0.05287,
     "end_time": "2022-02-26T10:09:11.317920",
     "exception": false,
     "start_time": "2022-02-26T10:09:11.265050",
     "status": "completed"
    },
    "tags": []
   },
   "outputs": [],
   "source": [
    "train_filter = np.where((train_labels == 3 ) | (train_labels == 8))\n",
    "test_filter = np.where((test_labels == 3) | (test_labels == 8))\n",
    "X_train, y_train = train_images[train_filter], train_labels[train_filter]\n",
    "X_test, y_test = test_images[test_filter], test_labels[test_filter]"
   ]
  },
  {
   "cell_type": "markdown",
   "id": "948f0b7e",
   "metadata": {
    "papermill": {
     "duration": 0.029662,
     "end_time": "2022-02-26T10:09:11.377140",
     "exception": false,
     "start_time": "2022-02-26T10:09:11.347478",
     "status": "completed"
    },
    "tags": []
   },
   "source": [
    "We normalize the pizel values in the 0 to 1 range"
   ]
  },
  {
   "cell_type": "code",
   "execution_count": 11,
   "id": "ee4c2166",
   "metadata": {
    "execution": {
     "iopub.execute_input": "2022-02-26T10:09:11.440632Z",
     "iopub.status.busy": "2022-02-26T10:09:11.440058Z",
     "iopub.status.idle": "2022-02-26T10:09:11.495322Z",
     "shell.execute_reply": "2022-02-26T10:09:11.494332Z"
    },
    "papermill": {
     "duration": 0.08912,
     "end_time": "2022-02-26T10:09:11.495538",
     "exception": false,
     "start_time": "2022-02-26T10:09:11.406418",
     "status": "completed"
    },
    "tags": []
   },
   "outputs": [],
   "source": [
    "X_train = X_train/255.\n",
    "X_test = X_test/255."
   ]
  },
  {
   "cell_type": "markdown",
   "id": "ddcf4fab",
   "metadata": {
    "papermill": {
     "duration": 0.030602,
     "end_time": "2022-02-26T10:09:11.558179",
     "exception": false,
     "start_time": "2022-02-26T10:09:11.527577",
     "status": "completed"
    },
    "tags": []
   },
   "source": [
    "And setup the labels as 1 (when the digit is 3) and 0 (when the digit is 8)"
   ]
  },
  {
   "cell_type": "code",
   "execution_count": 12,
   "id": "7dc908f2",
   "metadata": {
    "execution": {
     "iopub.execute_input": "2022-02-26T10:09:11.620198Z",
     "iopub.status.busy": "2022-02-26T10:09:11.619616Z",
     "iopub.status.idle": "2022-02-26T10:09:11.634321Z",
     "shell.execute_reply": "2022-02-26T10:09:11.633850Z"
    },
    "papermill": {
     "duration": 0.047009,
     "end_time": "2022-02-26T10:09:11.634434",
     "exception": false,
     "start_time": "2022-02-26T10:09:11.587425",
     "status": "completed"
    },
    "tags": []
   },
   "outputs": [],
   "source": [
    "y_train = 1*(y_train==3)\n",
    "y_test = 1*(y_test==3)"
   ]
  },
  {
   "cell_type": "code",
   "execution_count": 13,
   "id": "01e4e969",
   "metadata": {
    "execution": {
     "iopub.execute_input": "2022-02-26T10:09:11.699248Z",
     "iopub.status.busy": "2022-02-26T10:09:11.698646Z",
     "iopub.status.idle": "2022-02-26T10:09:11.714240Z",
     "shell.execute_reply": "2022-02-26T10:09:11.713774Z"
    },
    "papermill": {
     "duration": 0.050703,
     "end_time": "2022-02-26T10:09:11.714352",
     "exception": false,
     "start_time": "2022-02-26T10:09:11.663649",
     "status": "completed"
    },
    "tags": []
   },
   "outputs": [
    {
     "data": {
      "text/plain": [
       "((11982, 28, 28), (1984, 28, 28))"
      ]
     },
     "execution_count": 13,
     "metadata": {},
     "output_type": "execute_result"
    }
   ],
   "source": [
    "X_train.shape, X_test.shape"
   ]
  },
  {
   "cell_type": "markdown",
   "id": "5ccf3f85",
   "metadata": {
    "papermill": {
     "duration": 0.029816,
     "end_time": "2022-02-26T10:09:11.773417",
     "exception": false,
     "start_time": "2022-02-26T10:09:11.743601",
     "status": "completed"
    },
    "tags": []
   },
   "source": [
    "We reshape the data to flatten the image pixels into a set of features or co-variates:"
   ]
  },
  {
   "cell_type": "code",
   "execution_count": 14,
   "id": "5286a4a3",
   "metadata": {
    "execution": {
     "iopub.execute_input": "2022-02-26T10:09:11.837587Z",
     "iopub.status.busy": "2022-02-26T10:09:11.836954Z",
     "iopub.status.idle": "2022-02-26T10:09:11.853011Z",
     "shell.execute_reply": "2022-02-26T10:09:11.853510Z"
    },
    "papermill": {
     "duration": 0.050627,
     "end_time": "2022-02-26T10:09:11.853649",
     "exception": false,
     "start_time": "2022-02-26T10:09:11.803022",
     "status": "completed"
    },
    "tags": []
   },
   "outputs": [
    {
     "data": {
      "text/plain": [
       "((11982, 784), (1984, 784))"
      ]
     },
     "execution_count": 14,
     "metadata": {},
     "output_type": "execute_result"
    }
   ],
   "source": [
    "X_train = X_train.reshape(X_train.shape[0], -1)\n",
    "X_test = X_test.reshape(X_test.shape[0], -1)\n",
    "X_train.shape, X_test.shape"
   ]
  },
  {
   "cell_type": "code",
   "execution_count": 15,
   "id": "73c5f88a",
   "metadata": {
    "execution": {
     "iopub.execute_input": "2022-02-26T10:09:11.918801Z",
     "iopub.status.busy": "2022-02-26T10:09:11.918165Z",
     "iopub.status.idle": "2022-02-26T10:09:11.939149Z",
     "shell.execute_reply": "2022-02-26T10:09:11.939601Z"
    },
    "papermill": {
     "duration": 0.055878,
     "end_time": "2022-02-26T10:09:11.939738",
     "exception": false,
     "start_time": "2022-02-26T10:09:11.883860",
     "status": "completed"
    },
    "tags": []
   },
   "outputs": [],
   "source": [
    "#Impoting functions from 'Kudzu'\n",
    "from kudzu.model import Model\n",
    "from kudzu.train import Learner\n",
    "from kudzu.optim import GD\n",
    "from kudzu.data import Data, Sampler,Dataloader\n",
    "\n",
    "from kudzu.callbacks import AccCallback\n",
    "from kudzu.callbacks import ClfCallback\n",
    "\n",
    "from kudzu.loss import MSE\n",
    "\n",
    "from kudzu.layer import Sigmoid,Relu\n",
    "from kudzu.layer import Affine"
   ]
  },
  {
   "cell_type": "markdown",
   "id": "bc01172a",
   "metadata": {
    "papermill": {
     "duration": 0.029981,
     "end_time": "2022-02-26T10:09:11.999602",
     "exception": false,
     "start_time": "2022-02-26T10:09:11.969621",
     "status": "completed"
    },
    "tags": []
   },
   "source": [
    "### Let us create a `Config` class, to store important parameters. \n",
    "This class essentially plays the role of a dictionary."
   ]
  },
  {
   "cell_type": "code",
   "execution_count": 16,
   "id": "978281aa",
   "metadata": {
    "execution": {
     "iopub.execute_input": "2022-02-26T10:09:12.066149Z",
     "iopub.status.busy": "2022-02-26T10:09:12.065587Z",
     "iopub.status.idle": "2022-02-26T10:09:12.078741Z",
     "shell.execute_reply": "2022-02-26T10:09:12.078221Z"
    },
    "papermill": {
     "duration": 0.048798,
     "end_time": "2022-02-26T10:09:12.078858",
     "exception": false,
     "start_time": "2022-02-26T10:09:12.030060",
     "status": "completed"
    },
    "tags": []
   },
   "outputs": [],
   "source": [
    "class Config:\n",
    "    pass\n",
    "config = Config()\n",
    "config.lr = 0.001\n",
    "config.num_epochs = 250\n",
    "config.bs = 50"
   ]
  },
  {
   "cell_type": "markdown",
   "id": "1385fa59",
   "metadata": {
    "papermill": {
     "duration": 0.029321,
     "end_time": "2022-02-26T10:09:12.137629",
     "exception": false,
     "start_time": "2022-02-26T10:09:12.108308",
     "status": "completed"
    },
    "tags": []
   },
   "source": [
    "### Running Models with the Training data\n",
    "Details about the network layers:\n",
    "- A first affine layer has 784 inputs and does 100 affine transforms. These are followed by a Relu\n",
    "- A second affine layer has 100 inputs from the 100 activations of the past layer, and does 100 affine transforms. These are followed by a Relu\n",
    "- A third affine layer has 100 activations and does 2 affine transformations to create an embedding for visualization. There is no non-linearity here.\n",
    "- A final \"logistic regression\" which has an affine transform from 2 inputs to 1 output, which is squeezed through a sigmoid.\n"
   ]
  },
  {
   "cell_type": "code",
   "execution_count": 17,
   "id": "2b9c66db",
   "metadata": {
    "execution": {
     "iopub.execute_input": "2022-02-26T10:09:12.202593Z",
     "iopub.status.busy": "2022-02-26T10:09:12.201976Z",
     "iopub.status.idle": "2022-02-26T10:09:12.215748Z",
     "shell.execute_reply": "2022-02-26T10:09:12.215271Z"
    },
    "papermill": {
     "duration": 0.048012,
     "end_time": "2022-02-26T10:09:12.215882",
     "exception": false,
     "start_time": "2022-02-26T10:09:12.167870",
     "status": "completed"
    },
    "tags": []
   },
   "outputs": [],
   "source": [
    "data = Data(X_train, y_train.reshape(-1,1))\n",
    "sampler = Sampler(data, config.bs, shuffle=True)\n",
    "\n",
    "dl = Dataloader(data, sampler)\n",
    "\n",
    "opt = GD(config.lr)\n",
    "loss = MSE()"
   ]
  },
  {
   "cell_type": "code",
   "execution_count": 18,
   "id": "b275e4c2",
   "metadata": {
    "execution": {
     "iopub.execute_input": "2022-02-26T10:09:12.280128Z",
     "iopub.status.busy": "2022-02-26T10:09:12.278644Z",
     "iopub.status.idle": "2022-02-26T10:09:12.294234Z",
     "shell.execute_reply": "2022-02-26T10:09:12.293751Z"
    },
    "papermill": {
     "duration": 0.048295,
     "end_time": "2022-02-26T10:09:12.294347",
     "exception": false,
     "start_time": "2022-02-26T10:09:12.246052",
     "status": "completed"
    },
    "tags": []
   },
   "outputs": [],
   "source": [
    "training_data_x = X_train\n",
    "testing_data_x = X_test\n",
    "training_data_y = y_train.reshape(-1,1)\n",
    "testing_data_y = y_test.reshape(-1,1)"
   ]
  },
  {
   "cell_type": "code",
   "execution_count": 19,
   "id": "76951160",
   "metadata": {
    "execution": {
     "iopub.execute_input": "2022-02-26T10:09:12.359591Z",
     "iopub.status.busy": "2022-02-26T10:09:12.359014Z",
     "iopub.status.idle": "2022-02-26T10:09:12.377045Z",
     "shell.execute_reply": "2022-02-26T10:09:12.376583Z"
    },
    "papermill": {
     "duration": 0.053748,
     "end_time": "2022-02-26T10:09:12.377154",
     "exception": false,
     "start_time": "2022-02-26T10:09:12.323406",
     "status": "completed"
    },
    "tags": []
   },
   "outputs": [
    {
     "name": "stdout",
     "output_type": "stream",
     "text": [
      "xavier\n",
      "xavier\n",
      "xavier\n",
      "xavier\n",
      "xavier\n"
     ]
    }
   ],
   "source": [
    "layers = [Affine(\"first\", 784, 100), Relu(\"first\"), Affine(\"second\", 100, 100), Relu(\"second\"), Affine(\"third\", 100, 2), Affine(\"last\", 2, 1), Sigmoid(\"last\")]\n",
    "model_nn = Model(layers)\n",
    "model_lr = Model([Affine(\"logits\", 784, 1), Sigmoid(\"sigmoid\")])"
   ]
  },
  {
   "cell_type": "code",
   "execution_count": 20,
   "id": "6eede77a",
   "metadata": {
    "execution": {
     "iopub.execute_input": "2022-02-26T10:09:12.439916Z",
     "iopub.status.busy": "2022-02-26T10:09:12.439327Z",
     "iopub.status.idle": "2022-02-26T10:09:12.454306Z",
     "shell.execute_reply": "2022-02-26T10:09:12.453832Z"
    },
    "papermill": {
     "duration": 0.048782,
     "end_time": "2022-02-26T10:09:12.454435",
     "exception": false,
     "start_time": "2022-02-26T10:09:12.405653",
     "status": "completed"
    },
    "tags": []
   },
   "outputs": [],
   "source": [
    "nn_learner = Learner(loss, model_nn, opt, config.num_epochs)\n",
    "acc_nn = ClfCallback(nn_learner, config.bs, training_data_x , testing_data_x, training_data_y, testing_data_y)\n",
    "nn_learner.set_callbacks([acc_nn])"
   ]
  },
  {
   "cell_type": "code",
   "execution_count": 21,
   "id": "877b6cc7",
   "metadata": {
    "execution": {
     "iopub.execute_input": "2022-02-26T10:09:12.522590Z",
     "iopub.status.busy": "2022-02-26T10:09:12.521978Z",
     "iopub.status.idle": "2022-02-26T10:09:12.534654Z",
     "shell.execute_reply": "2022-02-26T10:09:12.534158Z"
    },
    "papermill": {
     "duration": 0.050572,
     "end_time": "2022-02-26T10:09:12.534780",
     "exception": false,
     "start_time": "2022-02-26T10:09:12.484208",
     "status": "completed"
    },
    "tags": []
   },
   "outputs": [],
   "source": [
    "lr_learner = Learner(loss, model_lr, opt, config.num_epochs)\n",
    "acc_lr = ClfCallback(lr_learner, config.bs, training_data_x , testing_data_x, training_data_y, testing_data_y)\n",
    "lr_learner.set_callbacks([acc_lr])"
   ]
  },
  {
   "cell_type": "code",
   "execution_count": 22,
   "id": "d9b133c3",
   "metadata": {
    "execution": {
     "iopub.execute_input": "2022-02-26T10:09:12.606092Z",
     "iopub.status.busy": "2022-02-26T10:09:12.605527Z",
     "iopub.status.idle": "2022-02-26T10:10:39.056821Z",
     "shell.execute_reply": "2022-02-26T10:10:39.057694Z"
    },
    "papermill": {
     "duration": 86.492703,
     "end_time": "2022-02-26T10:10:39.057865",
     "exception": false,
     "start_time": "2022-02-26T10:09:12.565162",
     "status": "completed"
    },
    "tags": []
   },
   "outputs": [
    {
     "name": "stdout",
     "output_type": "stream",
     "text": [
      "Epoch 0, Loss 0.2371\n",
      "Training Accuracy: 0.7026, Testing Accuracy: 0.6689\n",
      "\n"
     ]
    },
    {
     "name": "stdout",
     "output_type": "stream",
     "text": [
      "Epoch 10, Loss 0.0968\n",
      "Training Accuracy: 0.9060, Testing Accuracy: 0.9103\n",
      "\n"
     ]
    },
    {
     "name": "stdout",
     "output_type": "stream",
     "text": [
      "Epoch 20, Loss 0.059\n",
      "Training Accuracy: 0.9373, Testing Accuracy: 0.9461\n",
      "\n"
     ]
    },
    {
     "name": "stdout",
     "output_type": "stream",
     "text": [
      "Epoch 30, Loss 0.0461\n",
      "Training Accuracy: 0.9488, Testing Accuracy: 0.9536\n",
      "\n"
     ]
    },
    {
     "name": "stdout",
     "output_type": "stream",
     "text": [
      "Epoch 40, Loss 0.0398\n",
      "Training Accuracy: 0.9539, Testing Accuracy: 0.9612\n",
      "\n"
     ]
    },
    {
     "name": "stdout",
     "output_type": "stream",
     "text": [
      "Epoch 50, Loss 0.036\n",
      "Training Accuracy: 0.9575, Testing Accuracy: 0.9642\n",
      "\n"
     ]
    },
    {
     "name": "stdout",
     "output_type": "stream",
     "text": [
      "Epoch 60, Loss 0.0334\n",
      "Training Accuracy: 0.9602, Testing Accuracy: 0.9667\n",
      "\n"
     ]
    },
    {
     "name": "stdout",
     "output_type": "stream",
     "text": [
      "Epoch 70, Loss 0.0314\n",
      "Training Accuracy: 0.9620, Testing Accuracy: 0.9677\n",
      "\n"
     ]
    },
    {
     "name": "stdout",
     "output_type": "stream",
     "text": [
      "Epoch 80, Loss 0.0299\n",
      "Training Accuracy: 0.9639, Testing Accuracy: 0.9688\n",
      "\n"
     ]
    },
    {
     "name": "stdout",
     "output_type": "stream",
     "text": [
      "Epoch 90, Loss 0.0286\n",
      "Training Accuracy: 0.9659, Testing Accuracy: 0.9703\n",
      "\n"
     ]
    },
    {
     "name": "stdout",
     "output_type": "stream",
     "text": [
      "Epoch 100, Loss 0.0275\n",
      "Training Accuracy: 0.9674, Testing Accuracy: 0.9698\n",
      "\n"
     ]
    },
    {
     "name": "stdout",
     "output_type": "stream",
     "text": [
      "Epoch 110, Loss 0.0265\n",
      "Training Accuracy: 0.9691, Testing Accuracy: 0.9708\n",
      "\n"
     ]
    },
    {
     "name": "stdout",
     "output_type": "stream",
     "text": [
      "Epoch 120, Loss 0.0257\n",
      "Training Accuracy: 0.9699, Testing Accuracy: 0.9713\n",
      "\n"
     ]
    },
    {
     "name": "stdout",
     "output_type": "stream",
     "text": [
      "Epoch 130, Loss 0.0249\n",
      "Training Accuracy: 0.9710, Testing Accuracy: 0.9708\n",
      "\n"
     ]
    },
    {
     "name": "stdout",
     "output_type": "stream",
     "text": [
      "Epoch 140, Loss 0.0242\n",
      "Training Accuracy: 0.9720, Testing Accuracy: 0.9708\n",
      "\n"
     ]
    },
    {
     "name": "stdout",
     "output_type": "stream",
     "text": [
      "Epoch 150, Loss 0.0236\n",
      "Training Accuracy: 0.9735, Testing Accuracy: 0.9703\n",
      "\n"
     ]
    },
    {
     "name": "stdout",
     "output_type": "stream",
     "text": [
      "Epoch 160, Loss 0.023\n",
      "Training Accuracy: 0.9742, Testing Accuracy: 0.9708\n",
      "\n"
     ]
    },
    {
     "name": "stdout",
     "output_type": "stream",
     "text": [
      "Epoch 170, Loss 0.0225\n",
      "Training Accuracy: 0.9748, Testing Accuracy: 0.9708\n",
      "\n"
     ]
    },
    {
     "name": "stdout",
     "output_type": "stream",
     "text": [
      "Epoch 180, Loss 0.0219\n",
      "Training Accuracy: 0.9750, Testing Accuracy: 0.9718\n",
      "\n"
     ]
    },
    {
     "name": "stdout",
     "output_type": "stream",
     "text": [
      "Epoch 190, Loss 0.0214\n",
      "Training Accuracy: 0.9750, Testing Accuracy: 0.9713\n",
      "\n"
     ]
    },
    {
     "name": "stdout",
     "output_type": "stream",
     "text": [
      "Epoch 200, Loss 0.021\n",
      "Training Accuracy: 0.9755, Testing Accuracy: 0.9718\n",
      "\n"
     ]
    },
    {
     "name": "stdout",
     "output_type": "stream",
     "text": [
      "Epoch 210, Loss 0.0205\n",
      "Training Accuracy: 0.9760, Testing Accuracy: 0.9718\n",
      "\n"
     ]
    },
    {
     "name": "stdout",
     "output_type": "stream",
     "text": [
      "Epoch 220, Loss 0.0201\n",
      "Training Accuracy: 0.9765, Testing Accuracy: 0.9718\n",
      "\n"
     ]
    },
    {
     "name": "stdout",
     "output_type": "stream",
     "text": [
      "Epoch 230, Loss 0.0197\n",
      "Training Accuracy: 0.9775, Testing Accuracy: 0.9723\n",
      "\n"
     ]
    },
    {
     "name": "stdout",
     "output_type": "stream",
     "text": [
      "Epoch 240, Loss 0.0193\n",
      "Training Accuracy: 0.9779, Testing Accuracy: 0.9723\n",
      "\n"
     ]
    },
    {
     "data": {
      "text/plain": [
       "0.003991636152106122"
      ]
     },
     "execution_count": 22,
     "metadata": {},
     "output_type": "execute_result"
    }
   ],
   "source": [
    "nn_learner.train_loop(dl)"
   ]
  },
  {
   "cell_type": "code",
   "execution_count": 23,
   "id": "e0163366",
   "metadata": {
    "execution": {
     "iopub.execute_input": "2022-02-26T10:10:39.150737Z",
     "iopub.status.busy": "2022-02-26T10:10:39.149826Z",
     "iopub.status.idle": "2022-02-26T10:10:54.168479Z",
     "shell.execute_reply": "2022-02-26T10:10:54.169281Z"
    },
    "papermill": {
     "duration": 15.072605,
     "end_time": "2022-02-26T10:10:54.169445",
     "exception": false,
     "start_time": "2022-02-26T10:10:39.096840",
     "status": "completed"
    },
    "tags": []
   },
   "outputs": [
    {
     "name": "stdout",
     "output_type": "stream",
     "text": [
      "Epoch 0, Loss 0.2184\n",
      "Training Accuracy: 0.7593, Testing Accuracy: 0.7707\n",
      "\n"
     ]
    },
    {
     "name": "stdout",
     "output_type": "stream",
     "text": [
      "Epoch 10, Loss 0.1013\n",
      "Training Accuracy: 0.9079, Testing Accuracy: 0.9138\n",
      "\n"
     ]
    },
    {
     "name": "stdout",
     "output_type": "stream",
     "text": [
      "Epoch 20, Loss 0.0791\n",
      "Training Accuracy: 0.9250, Testing Accuracy: 0.9355\n",
      "\n"
     ]
    },
    {
     "name": "stdout",
     "output_type": "stream",
     "text": [
      "Epoch 30, Loss 0.0685\n",
      "Training Accuracy: 0.9325, Testing Accuracy: 0.9425\n",
      "\n"
     ]
    },
    {
     "name": "stdout",
     "output_type": "stream",
     "text": [
      "Epoch 40, Loss 0.062\n",
      "Training Accuracy: 0.9386, Testing Accuracy: 0.9516\n",
      "\n"
     ]
    },
    {
     "name": "stdout",
     "output_type": "stream",
     "text": [
      "Epoch 50, Loss 0.0575\n",
      "Training Accuracy: 0.9423, Testing Accuracy: 0.9556\n",
      "\n"
     ]
    },
    {
     "name": "stdout",
     "output_type": "stream",
     "text": [
      "Epoch 60, Loss 0.0542\n",
      "Training Accuracy: 0.9451, Testing Accuracy: 0.9577\n",
      "\n"
     ]
    },
    {
     "name": "stdout",
     "output_type": "stream",
     "text": [
      "Epoch 70, Loss 0.0517\n",
      "Training Accuracy: 0.9473, Testing Accuracy: 0.9607\n",
      "\n"
     ]
    },
    {
     "name": "stdout",
     "output_type": "stream",
     "text": [
      "Epoch 80, Loss 0.0496\n",
      "Training Accuracy: 0.9483, Testing Accuracy: 0.9612\n",
      "\n"
     ]
    },
    {
     "name": "stdout",
     "output_type": "stream",
     "text": [
      "Epoch 90, Loss 0.0479\n",
      "Training Accuracy: 0.9498, Testing Accuracy: 0.9627\n",
      "\n"
     ]
    },
    {
     "name": "stdout",
     "output_type": "stream",
     "text": [
      "Epoch 100, Loss 0.0464\n",
      "Training Accuracy: 0.9511, Testing Accuracy: 0.9637\n",
      "\n"
     ]
    },
    {
     "name": "stdout",
     "output_type": "stream",
     "text": [
      "Epoch 110, Loss 0.0452\n",
      "Training Accuracy: 0.9522, Testing Accuracy: 0.9637\n",
      "\n"
     ]
    },
    {
     "name": "stdout",
     "output_type": "stream",
     "text": [
      "Epoch 120, Loss 0.0441\n",
      "Training Accuracy: 0.9530, Testing Accuracy: 0.9632\n",
      "\n"
     ]
    },
    {
     "name": "stdout",
     "output_type": "stream",
     "text": [
      "Epoch 130, Loss 0.0432\n",
      "Training Accuracy: 0.9543, Testing Accuracy: 0.9632\n",
      "\n"
     ]
    },
    {
     "name": "stdout",
     "output_type": "stream",
     "text": [
      "Epoch 140, Loss 0.0423\n",
      "Training Accuracy: 0.9549, Testing Accuracy: 0.9632\n",
      "\n"
     ]
    },
    {
     "name": "stdout",
     "output_type": "stream",
     "text": [
      "Epoch 150, Loss 0.0416\n",
      "Training Accuracy: 0.9560, Testing Accuracy: 0.9637\n",
      "\n"
     ]
    },
    {
     "name": "stdout",
     "output_type": "stream",
     "text": [
      "Epoch 160, Loss 0.0409\n",
      "Training Accuracy: 0.9569, Testing Accuracy: 0.9647\n",
      "\n"
     ]
    },
    {
     "name": "stdout",
     "output_type": "stream",
     "text": [
      "Epoch 170, Loss 0.0403\n",
      "Training Accuracy: 0.9578, Testing Accuracy: 0.9657\n",
      "\n"
     ]
    },
    {
     "name": "stdout",
     "output_type": "stream",
     "text": [
      "Epoch 180, Loss 0.0397\n",
      "Training Accuracy: 0.9584, Testing Accuracy: 0.9657\n",
      "\n"
     ]
    },
    {
     "name": "stdout",
     "output_type": "stream",
     "text": [
      "Epoch 190, Loss 0.0392\n",
      "Training Accuracy: 0.9589, Testing Accuracy: 0.9657\n",
      "\n"
     ]
    },
    {
     "name": "stdout",
     "output_type": "stream",
     "text": [
      "Epoch 200, Loss 0.0387\n",
      "Training Accuracy: 0.9594, Testing Accuracy: 0.9657\n",
      "\n"
     ]
    },
    {
     "name": "stdout",
     "output_type": "stream",
     "text": [
      "Epoch 210, Loss 0.0382\n",
      "Training Accuracy: 0.9596, Testing Accuracy: 0.9657\n",
      "\n"
     ]
    },
    {
     "name": "stdout",
     "output_type": "stream",
     "text": [
      "Epoch 220, Loss 0.0378\n",
      "Training Accuracy: 0.9598, Testing Accuracy: 0.9662\n",
      "\n"
     ]
    },
    {
     "name": "stdout",
     "output_type": "stream",
     "text": [
      "Epoch 230, Loss 0.0374\n",
      "Training Accuracy: 0.9602, Testing Accuracy: 0.9662\n",
      "\n"
     ]
    },
    {
     "name": "stdout",
     "output_type": "stream",
     "text": [
      "Epoch 240, Loss 0.0371\n",
      "Training Accuracy: 0.9605, Testing Accuracy: 0.9662\n",
      "\n"
     ]
    },
    {
     "data": {
      "text/plain": [
       "0.011035934387820513"
      ]
     },
     "execution_count": 23,
     "metadata": {},
     "output_type": "execute_result"
    }
   ],
   "source": [
    "lr_learner.train_loop(dl)"
   ]
  },
  {
   "cell_type": "code",
   "execution_count": 24,
   "id": "ca410940",
   "metadata": {
    "execution": {
     "iopub.execute_input": "2022-02-26T10:10:54.279300Z",
     "iopub.status.busy": "2022-02-26T10:10:54.278604Z",
     "iopub.status.idle": "2022-02-26T10:10:54.520120Z",
     "shell.execute_reply": "2022-02-26T10:10:54.520733Z"
    },
    "papermill": {
     "duration": 0.30616,
     "end_time": "2022-02-26T10:10:54.520883",
     "exception": false,
     "start_time": "2022-02-26T10:10:54.214723",
     "status": "completed"
    },
    "tags": []
   },
   "outputs": [
    {
     "data": {
      "text/plain": [
       "<matplotlib.legend.Legend at 0x7f32745a2cf8>"
      ]
     },
     "execution_count": 24,
     "metadata": {},
     "output_type": "execute_result"
    },
    {
     "data": {
      "image/png": "[encoded data removed]",
      "text/plain": [
       "<Figure size 1080x720 with 1 Axes>"
      ]
     },
     "metadata": {
      "needs_background": "light"
     },
     "output_type": "display_data"
    }
   ],
   "source": [
    "#comparing the results of NN and LR\n",
    "plt.figure(figsize=(15,10))\n",
    "\n",
    "# Neural Network plots\n",
    "plt.plot(acc_nn.accuracies, 'r-', label = \"Training Accuracies - NN\")\n",
    "plt.plot(acc_nn.test_accuracies, 'g-', label = \"Testing Accuracies - NN\")\n",
    "\n",
    "# Logistic Regression plots\n",
    "plt.plot(acc_lr.accuracies, 'k-', label = \"Training Accuracies - LR\")\n",
    "plt.plot(acc_lr.test_accuracies, 'b-', label = \"Testing Accuracies - LR\")\n",
    "plt.legend()"
   ]
  },
  {
   "cell_type": "markdown",
   "id": "80dfb35c",
   "metadata": {
    "papermill": {
     "duration": 0.046223,
     "end_time": "2022-02-26T10:10:54.612434",
     "exception": false,
     "start_time": "2022-02-26T10:10:54.566211",
     "status": "completed"
    },
    "tags": []
   },
   "source": [
    "#### Plotting the outputs of this layer of the NN.\n"
   ]
  },
  {
   "cell_type": "code",
   "execution_count": 25,
   "id": "45eb2ff5",
   "metadata": {
    "execution": {
     "iopub.execute_input": "2022-02-26T10:10:54.711897Z",
     "iopub.status.busy": "2022-02-26T10:10:54.711282Z",
     "iopub.status.idle": "2022-02-26T10:10:54.735076Z",
     "shell.execute_reply": "2022-02-26T10:10:54.735823Z"
    },
    "papermill": {
     "duration": 0.076424,
     "end_time": "2022-02-26T10:10:54.735974",
     "exception": false,
     "start_time": "2022-02-26T10:10:54.659550",
     "status": "completed"
    },
    "tags": []
   },
   "outputs": [],
   "source": [
    "new_model = Model(layers[:-2])\n",
    "testing_plot = new_model(testing_data_x)"
   ]
  },
  {
   "cell_type": "code",
   "execution_count": 26,
   "id": "4c0a5485",
   "metadata": {
    "execution": {
     "iopub.execute_input": "2022-02-26T10:10:54.840161Z",
     "iopub.status.busy": "2022-02-26T10:10:54.839572Z",
     "iopub.status.idle": "2022-02-26T10:10:55.042166Z",
     "shell.execute_reply": "2022-02-26T10:10:55.041558Z"
    },
    "papermill": {
     "duration": 0.259739,
     "end_time": "2022-02-26T10:10:55.042296",
     "exception": false,
     "start_time": "2022-02-26T10:10:54.782557",
     "status": "completed"
    },
    "tags": []
   },
   "outputs": [
    {
     "data": {
      "text/plain": [
       "Text(0.5, 1.0, 'Outputs')"
      ]
     },
     "execution_count": 26,
     "metadata": {},
     "output_type": "execute_result"
    },
    {
     "data": {
      "image/png": "[encoded data removed]",
      "text/plain": [
       "<Figure size 576x504 with 1 Axes>"
      ]
     },
     "metadata": {
      "needs_background": "light"
     },
     "output_type": "display_data"
    }
   ],
   "source": [
    "# Plotting the scatter plot of points and color coding by class\n",
    "plt.figure(figsize=(8,7))\n",
    "plt.scatter(testing_plot[:,0], testing_plot[:,1], alpha = 0.1, c = y_test.ravel());\n",
    "plt.title('Outputs')"
   ]
  },
  {
   "cell_type": "markdown",
   "id": "a74fcf8f",
   "metadata": {
    "papermill": {
     "duration": 0.049023,
     "end_time": "2022-02-26T10:10:55.141757",
     "exception": false,
     "start_time": "2022-02-26T10:10:55.092734",
     "status": "completed"
    },
    "tags": []
   },
   "source": [
    "Probability contours"
   ]
  },
  {
   "cell_type": "code",
   "execution_count": 27,
   "id": "d0afc8e3",
   "metadata": {
    "execution": {
     "iopub.execute_input": "2022-02-26T10:10:55.273920Z",
     "iopub.status.busy": "2022-02-26T10:10:55.272522Z",
     "iopub.status.idle": "2022-02-26T10:10:55.286083Z",
     "shell.execute_reply": "2022-02-26T10:10:55.286539Z"
    },
    "papermill": {
     "duration": 0.096106,
     "end_time": "2022-02-26T10:10:55.286697",
     "exception": false,
     "start_time": "2022-02-26T10:10:55.190591",
     "status": "completed"
    },
    "tags": []
   },
   "outputs": [],
   "source": [
    "model_prob = Model(layers[-2:]) "
   ]
  },
  {
   "cell_type": "code",
   "execution_count": 28,
   "id": "9b96e238",
   "metadata": {
    "execution": {
     "iopub.execute_input": "2022-02-26T10:10:55.389258Z",
     "iopub.status.busy": "2022-02-26T10:10:55.388696Z",
     "iopub.status.idle": "2022-02-26T10:10:55.403309Z",
     "shell.execute_reply": "2022-02-26T10:10:55.403759Z"
    },
    "papermill": {
     "duration": 0.069635,
     "end_time": "2022-02-26T10:10:55.403906",
     "exception": false,
     "start_time": "2022-02-26T10:10:55.334271",
     "status": "completed"
    },
    "tags": []
   },
   "outputs": [],
   "source": [
    "#creating the x and y ranges according to the above generated plot.\n",
    "x_range = np.linspace(-4, 1, 100) \n",
    "y_range = np.linspace(-6, 6, 100) \n",
    "x_grid, y_grid = np.meshgrid(x_range, y_range) # x_grid and y_grig are of size 100 X 100\n",
    "\n",
    "# converting x_grid and y_grid to continuous arrays\n",
    "x_gridflat = np.ravel(x_grid)\n",
    "y_gridflat = np.ravel(y_grid)\n",
    "\n",
    "# The last layer of the current model takes two columns as input. Hence transpose of np.vstack() is required.\n",
    "X = np.vstack((x_gridflat, y_gridflat)).T\n",
    "\n",
    "prob_contour = model_prob(X).reshape(100,100) "
   ]
  },
  {
   "cell_type": "code",
   "execution_count": 29,
   "id": "da72499a",
   "metadata": {
    "execution": {
     "iopub.execute_input": "2022-02-26T10:10:55.516130Z",
     "iopub.status.busy": "2022-02-26T10:10:55.515538Z",
     "iopub.status.idle": "2022-02-26T10:10:55.786839Z",
     "shell.execute_reply": "2022-02-26T10:10:55.787324Z"
    },
    "papermill": {
     "duration": 0.333754,
     "end_time": "2022-02-26T10:10:55.787476",
     "exception": false,
     "start_time": "2022-02-26T10:10:55.453722",
     "status": "completed"
    },
    "tags": []
   },
   "outputs": [
    {
     "data": {
      "image/png": "[encoded data removed]",
      "text/plain": [
       "<Figure size 720x648 with 1 Axes>"
      ]
     },
     "metadata": {
      "needs_background": "light"
     },
     "output_type": "display_data"
    }
   ],
   "source": [
    "plt.figure(figsize=(10,9))\n",
    "plt.scatter(testing_plot[:,0], testing_plot[:,1], alpha = 0.1, c = y_test.ravel())\n",
    "contours = plt.contour(x_grid,y_grid,prob_contour)\n",
    "plt.title('Probability Contours')\n",
    "plt.clabel(contours, inline = True );"
   ]
  },
  {
   "cell_type": "code",
   "execution_count": null,
   "id": "e81b4ac7",
   "metadata": {
    "papermill": {
     "duration": 0.053052,
     "end_time": "2022-02-26T10:10:55.894009",
     "exception": false,
     "start_time": "2022-02-26T10:10:55.840957",
     "status": "completed"
    },
    "tags": []
   },
   "outputs": [],
   "source": []
  }
 ],
 "metadata": {
  "kernelspec": {
   "display_name": "Python 3",
   "language": "python",
   "name": "python3"
  },
  "language_info": {
   "codemirror_mode": {
    "name": "ipython",
    "version": 3
   },
   "file_extension": ".py",
   "mimetype": "text/x-python",
   "name": "python",
   "nbconvert_exporter": "python",
   "pygments_lexer": "ipython3",
   "version": "3.6.15"
  },
  "papermill": {
   "default_parameters": {},
   "duration": 110.695019,
   "end_time": "2022-02-26T10:10:56.369631",
   "environment_variables": {},
   "exception": null,
   "input_path": "2020-08-11-part2.ipynb",
   "output_path": "2020-08-11-part2.ipynb",
   "parameters": {},
   "start_time": "2022-02-26T10:09:05.674612",
   "version": "2.3.3"
  }
 },
 "nbformat": 4,
 "nbformat_minor": 5
}