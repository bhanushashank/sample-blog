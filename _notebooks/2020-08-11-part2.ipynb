{
 "cells": [
  {
   "cell_type": "markdown",
   "id": "98380cd3",
   "metadata": {
    "papermill": {
     "duration": 0.041955,
     "end_time": "2022-09-25T00:45:27.550023",
     "exception": false,
     "start_time": "2022-09-25T00:45:27.508068",
     "status": "completed"
    },
    "tags": []
   },
   "source": [
    "# Distinguish Your Own Digits (DYOD)"
   ]
  },
  {
   "cell_type": "markdown",
   "id": "ef31240d",
   "metadata": {
    "papermill": {
     "duration": 0.030038,
     "end_time": "2022-09-25T00:45:27.615390",
     "exception": false,
     "start_time": "2022-09-25T00:45:27.585352",
     "status": "completed"
    },
    "tags": []
   },
   "source": [
    "You are going to write a classifier that distinguishes between the number 3 and number 8."
   ]
  },
  {
   "cell_type": "code",
   "execution_count": 1,
   "id": "b15c8646",
   "metadata": {
    "execution": {
     "iopub.execute_input": "2022-09-25T00:45:27.686775Z",
     "iopub.status.busy": "2022-09-25T00:45:27.686059Z",
     "iopub.status.idle": "2022-09-25T00:45:27.698903Z",
     "shell.execute_reply": "2022-09-25T00:45:27.699449Z"
    },
    "papermill": {
     "duration": 0.054633,
     "end_time": "2022-09-25T00:45:27.699607",
     "exception": false,
     "start_time": "2022-09-25T00:45:27.644974",
     "status": "completed"
    },
    "tags": []
   },
   "outputs": [],
   "source": [
    "%load_ext autoreload\n",
    "%autoreload 2"
   ]
  },
  {
   "cell_type": "code",
   "execution_count": 2,
   "id": "22ef38dc",
   "metadata": {
    "execution": {
     "iopub.execute_input": "2022-09-25T00:45:27.772120Z",
     "iopub.status.busy": "2022-09-25T00:45:27.770987Z",
     "iopub.status.idle": "2022-09-25T00:45:28.428083Z",
     "shell.execute_reply": "2022-09-25T00:45:28.427435Z"
    },
    "papermill": {
     "duration": 0.697575,
     "end_time": "2022-09-25T00:45:28.428235",
     "exception": false,
     "start_time": "2022-09-25T00:45:27.730660",
     "status": "completed"
    },
    "tags": []
   },
   "outputs": [],
   "source": [
    "%matplotlib inline\n",
    "import numpy as np\n",
    "import matplotlib.pyplot as plt\n",
    "import pandas as pd"
   ]
  },
  {
   "cell_type": "markdown",
   "id": "ba036198",
   "metadata": {
    "papermill": {
     "duration": 0.031323,
     "end_time": "2022-09-25T00:45:28.489938",
     "exception": false,
     "start_time": "2022-09-25T00:45:28.458615",
     "status": "completed"
    },
    "tags": []
   },
   "source": [
    "From the command line run `pip install mnist`. This is a library that will help you bring down the mnist dataset. If you run this from a notebook, you need to put  `!pip install mnist` in a cell by itself."
   ]
  },
  {
   "cell_type": "code",
   "execution_count": 3,
   "id": "bb6ad8a1",
   "metadata": {
    "execution": {
     "iopub.execute_input": "2022-09-25T00:45:28.558820Z",
     "iopub.status.busy": "2022-09-25T00:45:28.558000Z",
     "iopub.status.idle": "2022-09-25T00:45:31.447581Z",
     "shell.execute_reply": "2022-09-25T00:45:31.446947Z"
    },
    "papermill": {
     "duration": 2.926938,
     "end_time": "2022-09-25T00:45:31.447710",
     "exception": false,
     "start_time": "2022-09-25T00:45:28.520772",
     "status": "completed"
    },
    "tags": []
   },
   "outputs": [
    {
     "name": "stdout",
     "output_type": "stream",
     "text": [
      "Collecting mnist\r\n"
     ]
    },
    {
     "name": "stdout",
     "output_type": "stream",
     "text": [
      "  Downloading mnist-0.2.2-py2.py3-none-any.whl (3.5 kB)\r\n",
      "Requirement already satisfied: numpy in /opt/hostedtoolcache/Python/3.6.15/x64/lib/python3.6/site-packages (from mnist) (1.19.5)\r\n"
     ]
    },
    {
     "name": "stdout",
     "output_type": "stream",
     "text": [
      "Installing collected packages: mnist\r\n"
     ]
    },
    {
     "name": "stdout",
     "output_type": "stream",
     "text": [
      "Successfully installed mnist-0.2.2\r\n"
     ]
    }
   ],
   "source": [
    "!pip install mnist"
   ]
  },
  {
   "cell_type": "markdown",
   "id": "69df9c9a",
   "metadata": {
    "papermill": {
     "duration": 0.03136,
     "end_time": "2022-09-25T00:45:31.514066",
     "exception": false,
     "start_time": "2022-09-25T00:45:31.482706",
     "status": "completed"
    },
    "tags": []
   },
   "source": [
    "## Preparing the Data"
   ]
  },
  {
   "cell_type": "code",
   "execution_count": 4,
   "id": "7f69d806",
   "metadata": {
    "execution": {
     "iopub.execute_input": "2022-09-25T00:45:31.597786Z",
     "iopub.status.busy": "2022-09-25T00:45:31.585248Z",
     "iopub.status.idle": "2022-09-25T00:45:31.606192Z",
     "shell.execute_reply": "2022-09-25T00:45:31.606885Z"
    },
    "papermill": {
     "duration": 0.058951,
     "end_time": "2022-09-25T00:45:31.607076",
     "exception": false,
     "start_time": "2022-09-25T00:45:31.548125",
     "status": "completed"
    },
    "tags": []
   },
   "outputs": [],
   "source": [
    "import mnist"
   ]
  },
  {
   "cell_type": "code",
   "execution_count": 5,
   "id": "a411e44f",
   "metadata": {
    "execution": {
     "iopub.execute_input": "2022-09-25T00:45:31.677269Z",
     "iopub.status.busy": "2022-09-25T00:45:31.676001Z",
     "iopub.status.idle": "2022-09-25T00:45:32.352121Z",
     "shell.execute_reply": "2022-09-25T00:45:32.351498Z"
    },
    "papermill": {
     "duration": 0.712134,
     "end_time": "2022-09-25T00:45:32.352265",
     "exception": false,
     "start_time": "2022-09-25T00:45:31.640131",
     "status": "completed"
    },
    "tags": []
   },
   "outputs": [],
   "source": [
    "train_images = mnist.train_images()\n",
    "train_labels = mnist.train_labels()"
   ]
  },
  {
   "cell_type": "code",
   "execution_count": 6,
   "id": "dceab3a5",
   "metadata": {
    "execution": {
     "iopub.execute_input": "2022-09-25T00:45:32.421687Z",
     "iopub.status.busy": "2022-09-25T00:45:32.421019Z",
     "iopub.status.idle": "2022-09-25T00:45:32.439610Z",
     "shell.execute_reply": "2022-09-25T00:45:32.438982Z"
    },
    "papermill": {
     "duration": 0.054432,
     "end_time": "2022-09-25T00:45:32.439733",
     "exception": false,
     "start_time": "2022-09-25T00:45:32.385301",
     "status": "completed"
    },
    "tags": []
   },
   "outputs": [
    {
     "data": {
      "text/plain": [
       "((60000, 28, 28), (60000,))"
      ]
     },
     "execution_count": 6,
     "metadata": {},
     "output_type": "execute_result"
    }
   ],
   "source": [
    "train_images.shape, train_labels.shape"
   ]
  },
  {
   "cell_type": "code",
   "execution_count": 7,
   "id": "f50dc2bb",
   "metadata": {
    "execution": {
     "iopub.execute_input": "2022-09-25T00:45:32.513519Z",
     "iopub.status.busy": "2022-09-25T00:45:32.511589Z",
     "iopub.status.idle": "2022-09-25T00:45:32.725308Z",
     "shell.execute_reply": "2022-09-25T00:45:32.725885Z"
    },
    "papermill": {
     "duration": 0.253013,
     "end_time": "2022-09-25T00:45:32.726050",
     "exception": false,
     "start_time": "2022-09-25T00:45:32.473037",
     "status": "completed"
    },
    "tags": []
   },
   "outputs": [],
   "source": [
    "test_images = mnist.test_images()\n",
    "test_labels = mnist.test_labels()"
   ]
  },
  {
   "cell_type": "code",
   "execution_count": 8,
   "id": "fc38cf1b",
   "metadata": {
    "execution": {
     "iopub.execute_input": "2022-09-25T00:45:32.797024Z",
     "iopub.status.busy": "2022-09-25T00:45:32.796202Z",
     "iopub.status.idle": "2022-09-25T00:45:32.811705Z",
     "shell.execute_reply": "2022-09-25T00:45:32.812416Z"
    },
    "papermill": {
     "duration": 0.055392,
     "end_time": "2022-09-25T00:45:32.812559",
     "exception": false,
     "start_time": "2022-09-25T00:45:32.757167",
     "status": "completed"
    },
    "tags": []
   },
   "outputs": [
    {
     "data": {
      "text/plain": [
       "((10000, 28, 28), (10000,))"
      ]
     },
     "execution_count": 8,
     "metadata": {},
     "output_type": "execute_result"
    }
   ],
   "source": [
    "test_images.shape, test_labels.shape"
   ]
  },
  {
   "cell_type": "code",
   "execution_count": 9,
   "id": "f9ed8fe0",
   "metadata": {
    "execution": {
     "iopub.execute_input": "2022-09-25T00:45:32.882572Z",
     "iopub.status.busy": "2022-09-25T00:45:32.881576Z",
     "iopub.status.idle": "2022-09-25T00:45:33.080596Z",
     "shell.execute_reply": "2022-09-25T00:45:33.079981Z"
    },
    "papermill": {
     "duration": 0.236346,
     "end_time": "2022-09-25T00:45:33.080736",
     "exception": false,
     "start_time": "2022-09-25T00:45:32.844390",
     "status": "completed"
    },
    "tags": []
   },
   "outputs": [
    {
     "name": "stdout",
     "output_type": "stream",
     "text": [
      "2\n"
     ]
    },
    {
     "data": {
      "text/plain": [
       "<matplotlib.image.AxesImage at 0x7f68c3ae9c88>"
      ]
     },
     "execution_count": 9,
     "metadata": {},
     "output_type": "execute_result"
    },
    {
     "data": {
      "image/png": "[encoded data removed]",
      "text/plain": [
       "<Figure size 432x288 with 1 Axes>"
      ]
     },
     "metadata": {
      "needs_background": "light"
     },
     "output_type": "display_data"
    }
   ],
   "source": [
    "image_index = 7776 # You may select anything up to 60,000\n",
    "print(train_labels[image_index]) \n",
    "plt.imshow(train_images[image_index], cmap='Greys')"
   ]
  },
  {
   "cell_type": "markdown",
   "id": "a8d2388d",
   "metadata": {
    "papermill": {
     "duration": 0.033775,
     "end_time": "2022-09-25T00:45:33.148741",
     "exception": false,
     "start_time": "2022-09-25T00:45:33.114966",
     "status": "completed"
    },
    "tags": []
   },
   "source": [
    "## Filter data to get 3 and 8 out"
   ]
  },
  {
   "cell_type": "code",
   "execution_count": 10,
   "id": "776f7fc7",
   "metadata": {
    "execution": {
     "iopub.execute_input": "2022-09-25T00:45:33.217997Z",
     "iopub.status.busy": "2022-09-25T00:45:33.217298Z",
     "iopub.status.idle": "2022-09-25T00:45:33.239498Z",
     "shell.execute_reply": "2022-09-25T00:45:33.238758Z"
    },
    "papermill": {
     "duration": 0.058569,
     "end_time": "2022-09-25T00:45:33.239636",
     "exception": false,
     "start_time": "2022-09-25T00:45:33.181067",
     "status": "completed"
    },
    "tags": []
   },
   "outputs": [],
   "source": [
    "train_filter = np.where((train_labels == 3 ) | (train_labels == 8))\n",
    "test_filter = np.where((test_labels == 3) | (test_labels == 8))\n",
    "X_train, y_train = train_images[train_filter], train_labels[train_filter]\n",
    "X_test, y_test = test_images[test_filter], test_labels[test_filter]"
   ]
  },
  {
   "cell_type": "markdown",
   "id": "948f0b7e",
   "metadata": {
    "papermill": {
     "duration": 0.034335,
     "end_time": "2022-09-25T00:45:33.308512",
     "exception": false,
     "start_time": "2022-09-25T00:45:33.274177",
     "status": "completed"
    },
    "tags": []
   },
   "source": [
    "We normalize the pizel values in the 0 to 1 range"
   ]
  },
  {
   "cell_type": "code",
   "execution_count": 11,
   "id": "ee4c2166",
   "metadata": {
    "execution": {
     "iopub.execute_input": "2022-09-25T00:45:33.381734Z",
     "iopub.status.busy": "2022-09-25T00:45:33.381065Z",
     "iopub.status.idle": "2022-09-25T00:45:33.449278Z",
     "shell.execute_reply": "2022-09-25T00:45:33.448461Z"
    },
    "papermill": {
     "duration": 0.107464,
     "end_time": "2022-09-25T00:45:33.449435",
     "exception": false,
     "start_time": "2022-09-25T00:45:33.341971",
     "status": "completed"
    },
    "tags": []
   },
   "outputs": [],
   "source": [
    "X_train = X_train/255.\n",
    "X_test = X_test/255."
   ]
  },
  {
   "cell_type": "markdown",
   "id": "ddcf4fab",
   "metadata": {
    "papermill": {
     "duration": 0.033078,
     "end_time": "2022-09-25T00:45:33.519814",
     "exception": false,
     "start_time": "2022-09-25T00:45:33.486736",
     "status": "completed"
    },
    "tags": []
   },
   "source": [
    "And setup the labels as 1 (when the digit is 3) and 0 (when the digit is 8)"
   ]
  },
  {
   "cell_type": "code",
   "execution_count": 12,
   "id": "7dc908f2",
   "metadata": {
    "execution": {
     "iopub.execute_input": "2022-09-25T00:45:33.592234Z",
     "iopub.status.busy": "2022-09-25T00:45:33.591445Z",
     "iopub.status.idle": "2022-09-25T00:45:33.608703Z",
     "shell.execute_reply": "2022-09-25T00:45:33.609294Z"
    },
    "papermill": {
     "duration": 0.053564,
     "end_time": "2022-09-25T00:45:33.609439",
     "exception": false,
     "start_time": "2022-09-25T00:45:33.555875",
     "status": "completed"
    },
    "tags": []
   },
   "outputs": [],
   "source": [
    "y_train = 1*(y_train==3)\n",
    "y_test = 1*(y_test==3)"
   ]
  },
  {
   "cell_type": "code",
   "execution_count": 13,
   "id": "01e4e969",
   "metadata": {
    "execution": {
     "iopub.execute_input": "2022-09-25T00:45:33.678865Z",
     "iopub.status.busy": "2022-09-25T00:45:33.677989Z",
     "iopub.status.idle": "2022-09-25T00:45:33.692593Z",
     "shell.execute_reply": "2022-09-25T00:45:33.693202Z"
    },
    "papermill": {
     "duration": 0.050343,
     "end_time": "2022-09-25T00:45:33.693320",
     "exception": false,
     "start_time": "2022-09-25T00:45:33.642977",
     "status": "completed"
    },
    "tags": []
   },
   "outputs": [
    {
     "data": {
      "text/plain": [
       "((11982, 28, 28), (1984, 28, 28))"
      ]
     },
     "execution_count": 13,
     "metadata": {},
     "output_type": "execute_result"
    }
   ],
   "source": [
    "X_train.shape, X_test.shape"
   ]
  },
  {
   "cell_type": "markdown",
   "id": "5ccf3f85",
   "metadata": {
    "papermill": {
     "duration": 0.030314,
     "end_time": "2022-09-25T00:45:33.752768",
     "exception": false,
     "start_time": "2022-09-25T00:45:33.722454",
     "status": "completed"
    },
    "tags": []
   },
   "source": [
    "We reshape the data to flatten the image pixels into a set of features or co-variates:"
   ]
  },
  {
   "cell_type": "code",
   "execution_count": 14,
   "id": "5286a4a3",
   "metadata": {
    "execution": {
     "iopub.execute_input": "2022-09-25T00:45:33.823191Z",
     "iopub.status.busy": "2022-09-25T00:45:33.822348Z",
     "iopub.status.idle": "2022-09-25T00:45:33.838428Z",
     "shell.execute_reply": "2022-09-25T00:45:33.839128Z"
    },
    "papermill": {
     "duration": 0.054553,
     "end_time": "2022-09-25T00:45:33.839264",
     "exception": false,
     "start_time": "2022-09-25T00:45:33.784711",
     "status": "completed"
    },
    "tags": []
   },
   "outputs": [
    {
     "data": {
      "text/plain": [
       "((11982, 784), (1984, 784))"
      ]
     },
     "execution_count": 14,
     "metadata": {},
     "output_type": "execute_result"
    }
   ],
   "source": [
    "X_train = X_train.reshape(X_train.shape[0], -1)\n",
    "X_test = X_test.reshape(X_test.shape[0], -1)\n",
    "X_train.shape, X_test.shape"
   ]
  },
  {
   "cell_type": "code",
   "execution_count": 15,
   "id": "73c5f88a",
   "metadata": {
    "execution": {
     "iopub.execute_input": "2022-09-25T00:45:33.915430Z",
     "iopub.status.busy": "2022-09-25T00:45:33.914578Z",
     "iopub.status.idle": "2022-09-25T00:45:33.941558Z",
     "shell.execute_reply": "2022-09-25T00:45:33.942770Z"
    },
    "papermill": {
     "duration": 0.069096,
     "end_time": "2022-09-25T00:45:33.943031",
     "exception": false,
     "start_time": "2022-09-25T00:45:33.873935",
     "status": "completed"
    },
    "tags": []
   },
   "outputs": [],
   "source": [
    "#Impoting functions from 'Kudzu'\n",
    "from kudzu.model import Model\n",
    "from kudzu.train import Learner\n",
    "from kudzu.optim import GD\n",
    "from kudzu.data import Data, Sampler,Dataloader\n",
    "\n",
    "from kudzu.callbacks import AccCallback\n",
    "from kudzu.callbacks import ClfCallback\n",
    "\n",
    "from kudzu.loss import MSE\n",
    "\n",
    "from kudzu.layer import Sigmoid,Relu\n",
    "from kudzu.layer import Affine"
   ]
  },
  {
   "cell_type": "markdown",
   "id": "bc01172a",
   "metadata": {
    "papermill": {
     "duration": 0.03774,
     "end_time": "2022-09-25T00:45:34.017199",
     "exception": false,
     "start_time": "2022-09-25T00:45:33.979459",
     "status": "completed"
    },
    "tags": []
   },
   "source": [
    "### Let us create a `Config` class, to store important parameters. \n",
    "This class essentially plays the role of a dictionary."
   ]
  },
  {
   "cell_type": "code",
   "execution_count": 16,
   "id": "978281aa",
   "metadata": {
    "execution": {
     "iopub.execute_input": "2022-09-25T00:45:34.101664Z",
     "iopub.status.busy": "2022-09-25T00:45:34.100828Z",
     "iopub.status.idle": "2022-09-25T00:45:34.113696Z",
     "shell.execute_reply": "2022-09-25T00:45:34.113069Z"
    },
    "papermill": {
     "duration": 0.059076,
     "end_time": "2022-09-25T00:45:34.113827",
     "exception": false,
     "start_time": "2022-09-25T00:45:34.054751",
     "status": "completed"
    },
    "tags": []
   },
   "outputs": [],
   "source": [
    "class Config:\n",
    "    pass\n",
    "config = Config()\n",
    "config.lr = 0.001\n",
    "config.num_epochs = 250\n",
    "config.bs = 50"
   ]
  },
  {
   "cell_type": "markdown",
   "id": "1385fa59",
   "metadata": {
    "papermill": {
     "duration": 0.034208,
     "end_time": "2022-09-25T00:45:34.180569",
     "exception": false,
     "start_time": "2022-09-25T00:45:34.146361",
     "status": "completed"
    },
    "tags": []
   },
   "source": [
    "### Running Models with the Training data\n",
    "Details about the network layers:\n",
    "- A first affine layer has 784 inputs and does 100 affine transforms. These are followed by a Relu\n",
    "- A second affine layer has 100 inputs from the 100 activations of the past layer, and does 100 affine transforms. These are followed by a Relu\n",
    "- A third affine layer has 100 activations and does 2 affine transformations to create an embedding for visualization. There is no non-linearity here.\n",
    "- A final \"logistic regression\" which has an affine transform from 2 inputs to 1 output, which is squeezed through a sigmoid.\n"
   ]
  },
  {
   "cell_type": "code",
   "execution_count": 17,
   "id": "2b9c66db",
   "metadata": {
    "execution": {
     "iopub.execute_input": "2022-09-25T00:45:34.256286Z",
     "iopub.status.busy": "2022-09-25T00:45:34.255545Z",
     "iopub.status.idle": "2022-09-25T00:45:34.270325Z",
     "shell.execute_reply": "2022-09-25T00:45:34.269551Z"
    },
    "papermill": {
     "duration": 0.0552,
     "end_time": "2022-09-25T00:45:34.270522",
     "exception": false,
     "start_time": "2022-09-25T00:45:34.215322",
     "status": "completed"
    },
    "tags": []
   },
   "outputs": [],
   "source": [
    "data = Data(X_train, y_train.reshape(-1,1))\n",
    "sampler = Sampler(data, config.bs, shuffle=True)\n",
    "\n",
    "dl = Dataloader(data, sampler)\n",
    "\n",
    "opt = GD(config.lr)\n",
    "loss = MSE()"
   ]
  },
  {
   "cell_type": "code",
   "execution_count": 18,
   "id": "b275e4c2",
   "metadata": {
    "execution": {
     "iopub.execute_input": "2022-09-25T00:45:34.341868Z",
     "iopub.status.busy": "2022-09-25T00:45:34.341152Z",
     "iopub.status.idle": "2022-09-25T00:45:34.355256Z",
     "shell.execute_reply": "2022-09-25T00:45:34.354690Z"
    },
    "papermill": {
     "duration": 0.052646,
     "end_time": "2022-09-25T00:45:34.355388",
     "exception": false,
     "start_time": "2022-09-25T00:45:34.302742",
     "status": "completed"
    },
    "tags": []
   },
   "outputs": [],
   "source": [
    "training_data_x = X_train\n",
    "testing_data_x = X_test\n",
    "training_data_y = y_train.reshape(-1,1)\n",
    "testing_data_y = y_test.reshape(-1,1)"
   ]
  },
  {
   "cell_type": "code",
   "execution_count": 19,
   "id": "76951160",
   "metadata": {
    "execution": {
     "iopub.execute_input": "2022-09-25T00:45:34.434133Z",
     "iopub.status.busy": "2022-09-25T00:45:34.433402Z",
     "iopub.status.idle": "2022-09-25T00:45:34.458056Z",
     "shell.execute_reply": "2022-09-25T00:45:34.457367Z"
    },
    "papermill": {
     "duration": 0.067866,
     "end_time": "2022-09-25T00:45:34.458197",
     "exception": false,
     "start_time": "2022-09-25T00:45:34.390331",
     "status": "completed"
    },
    "tags": []
   },
   "outputs": [
    {
     "name": "stdout",
     "output_type": "stream",
     "text": [
      "xavier\n",
      "xavier\n",
      "xavier\n",
      "xavier\n",
      "xavier\n"
     ]
    }
   ],
   "source": [
    "layers = [Affine(\"first\", 784, 100), Relu(\"first\"), Affine(\"second\", 100, 100), Relu(\"second\"), Affine(\"third\", 100, 2), Affine(\"last\", 2, 1), Sigmoid(\"last\")]\n",
    "model_nn = Model(layers)\n",
    "model_lr = Model([Affine(\"logits\", 784, 1), Sigmoid(\"sigmoid\")])"
   ]
  },
  {
   "cell_type": "code",
   "execution_count": 20,
   "id": "6eede77a",
   "metadata": {
    "execution": {
     "iopub.execute_input": "2022-09-25T00:45:34.530841Z",
     "iopub.status.busy": "2022-09-25T00:45:34.529606Z",
     "iopub.status.idle": "2022-09-25T00:45:34.543800Z",
     "shell.execute_reply": "2022-09-25T00:45:34.543195Z"
    },
    "papermill": {
     "duration": 0.051172,
     "end_time": "2022-09-25T00:45:34.543915",
     "exception": false,
     "start_time": "2022-09-25T00:45:34.492743",
     "status": "completed"
    },
    "tags": []
   },
   "outputs": [],
   "source": [
    "nn_learner = Learner(loss, model_nn, opt, config.num_epochs)\n",
    "acc_nn = ClfCallback(nn_learner, config.bs, training_data_x , testing_data_x, training_data_y, testing_data_y)\n",
    "nn_learner.set_callbacks([acc_nn])"
   ]
  },
  {
   "cell_type": "code",
   "execution_count": 21,
   "id": "877b6cc7",
   "metadata": {
    "execution": {
     "iopub.execute_input": "2022-09-25T00:45:34.623477Z",
     "iopub.status.busy": "2022-09-25T00:45:34.622461Z",
     "iopub.status.idle": "2022-09-25T00:45:34.637251Z",
     "shell.execute_reply": "2022-09-25T00:45:34.638121Z"
    },
    "papermill": {
     "duration": 0.05825,
     "end_time": "2022-09-25T00:45:34.638414",
     "exception": false,
     "start_time": "2022-09-25T00:45:34.580164",
     "status": "completed"
    },
    "tags": []
   },
   "outputs": [],
   "source": [
    "lr_learner = Learner(loss, model_lr, opt, config.num_epochs)\n",
    "acc_lr = ClfCallback(lr_learner, config.bs, training_data_x , testing_data_x, training_data_y, testing_data_y)\n",
    "lr_learner.set_callbacks([acc_lr])"
   ]
  },
  {
   "cell_type": "code",
   "execution_count": 22,
   "id": "d9b133c3",
   "metadata": {
    "execution": {
     "iopub.execute_input": "2022-09-25T00:45:34.718871Z",
     "iopub.status.busy": "2022-09-25T00:45:34.717932Z",
     "iopub.status.idle": "2022-09-25T00:47:58.440211Z",
     "shell.execute_reply": "2022-09-25T00:47:58.441282Z"
    },
    "papermill": {
     "duration": 143.76608,
     "end_time": "2022-09-25T00:47:58.441451",
     "exception": false,
     "start_time": "2022-09-25T00:45:34.675371",
     "status": "completed"
    },
    "tags": []
   },
   "outputs": [
    {
     "name": "stdout",
     "output_type": "stream",
     "text": [
      "Epoch 0, Loss 0.249\n",
      "Training Accuracy: 0.5977, Testing Accuracy: 0.5756\n",
      "\n"
     ]
    },
    {
     "name": "stdout",
     "output_type": "stream",
     "text": [
      "Epoch 10, Loss 0.098\n",
      "Training Accuracy: 0.9098, Testing Accuracy: 0.9204\n",
      "\n"
     ]
    },
    {
     "name": "stdout",
     "output_type": "stream",
     "text": [
      "Epoch 20, Loss 0.0593\n",
      "Training Accuracy: 0.9382, Testing Accuracy: 0.9476\n",
      "\n"
     ]
    },
    {
     "name": "stdout",
     "output_type": "stream",
     "text": [
      "Epoch 30, Loss 0.0461\n",
      "Training Accuracy: 0.9503, Testing Accuracy: 0.9561\n",
      "\n"
     ]
    },
    {
     "name": "stdout",
     "output_type": "stream",
     "text": [
      "Epoch 40, Loss 0.0398\n",
      "Training Accuracy: 0.9560, Testing Accuracy: 0.9602\n",
      "\n"
     ]
    },
    {
     "name": "stdout",
     "output_type": "stream",
     "text": [
      "Epoch 50, Loss 0.036\n",
      "Training Accuracy: 0.9594, Testing Accuracy: 0.9637\n",
      "\n"
     ]
    },
    {
     "name": "stdout",
     "output_type": "stream",
     "text": [
      "Epoch 60, Loss 0.0335\n",
      "Training Accuracy: 0.9615, Testing Accuracy: 0.9642\n",
      "\n"
     ]
    },
    {
     "name": "stdout",
     "output_type": "stream",
     "text": [
      "Epoch 70, Loss 0.0316\n",
      "Training Accuracy: 0.9630, Testing Accuracy: 0.9642\n",
      "\n"
     ]
    },
    {
     "name": "stdout",
     "output_type": "stream",
     "text": [
      "Epoch 80, Loss 0.0302\n",
      "Training Accuracy: 0.9643, Testing Accuracy: 0.9652\n",
      "\n"
     ]
    },
    {
     "name": "stdout",
     "output_type": "stream",
     "text": [
      "Epoch 90, Loss 0.0289\n",
      "Training Accuracy: 0.9662, Testing Accuracy: 0.9667\n",
      "\n"
     ]
    },
    {
     "name": "stdout",
     "output_type": "stream",
     "text": [
      "Epoch 100, Loss 0.0279\n",
      "Training Accuracy: 0.9671, Testing Accuracy: 0.9672\n",
      "\n"
     ]
    },
    {
     "name": "stdout",
     "output_type": "stream",
     "text": [
      "Epoch 110, Loss 0.027\n",
      "Training Accuracy: 0.9684, Testing Accuracy: 0.9688\n",
      "\n"
     ]
    },
    {
     "name": "stdout",
     "output_type": "stream",
     "text": [
      "Epoch 120, Loss 0.0262\n",
      "Training Accuracy: 0.9690, Testing Accuracy: 0.9693\n",
      "\n"
     ]
    },
    {
     "name": "stdout",
     "output_type": "stream",
     "text": [
      "Epoch 130, Loss 0.0254\n",
      "Training Accuracy: 0.9698, Testing Accuracy: 0.9688\n",
      "\n"
     ]
    },
    {
     "name": "stdout",
     "output_type": "stream",
     "text": [
      "Epoch 140, Loss 0.0248\n",
      "Training Accuracy: 0.9702, Testing Accuracy: 0.9693\n",
      "\n"
     ]
    },
    {
     "name": "stdout",
     "output_type": "stream",
     "text": [
      "Epoch 150, Loss 0.0241\n",
      "Training Accuracy: 0.9706, Testing Accuracy: 0.9713\n",
      "\n"
     ]
    },
    {
     "name": "stdout",
     "output_type": "stream",
     "text": [
      "Epoch 160, Loss 0.0235\n",
      "Training Accuracy: 0.9720, Testing Accuracy: 0.9713\n",
      "\n"
     ]
    },
    {
     "name": "stdout",
     "output_type": "stream",
     "text": [
      "Epoch 170, Loss 0.023\n",
      "Training Accuracy: 0.9730, Testing Accuracy: 0.9718\n",
      "\n"
     ]
    },
    {
     "name": "stdout",
     "output_type": "stream",
     "text": [
      "Epoch 180, Loss 0.0224\n",
      "Training Accuracy: 0.9741, Testing Accuracy: 0.9723\n",
      "\n"
     ]
    },
    {
     "name": "stdout",
     "output_type": "stream",
     "text": [
      "Epoch 190, Loss 0.0219\n",
      "Training Accuracy: 0.9749, Testing Accuracy: 0.9728\n",
      "\n"
     ]
    },
    {
     "name": "stdout",
     "output_type": "stream",
     "text": [
      "Epoch 200, Loss 0.0214\n",
      "Training Accuracy: 0.9754, Testing Accuracy: 0.9728\n",
      "\n"
     ]
    },
    {
     "name": "stdout",
     "output_type": "stream",
     "text": [
      "Epoch 210, Loss 0.021\n",
      "Training Accuracy: 0.9760, Testing Accuracy: 0.9733\n",
      "\n"
     ]
    },
    {
     "name": "stdout",
     "output_type": "stream",
     "text": [
      "Epoch 220, Loss 0.0205\n",
      "Training Accuracy: 0.9766, Testing Accuracy: 0.9738\n",
      "\n"
     ]
    },
    {
     "name": "stdout",
     "output_type": "stream",
     "text": [
      "Epoch 230, Loss 0.0201\n",
      "Training Accuracy: 0.9775, Testing Accuracy: 0.9738\n",
      "\n"
     ]
    },
    {
     "name": "stdout",
     "output_type": "stream",
     "text": [
      "Epoch 240, Loss 0.0197\n",
      "Training Accuracy: 0.9779, Testing Accuracy: 0.9728\n",
      "\n"
     ]
    },
    {
     "data": {
      "text/plain": [
       "0.03304409403108512"
      ]
     },
     "execution_count": 22,
     "metadata": {},
     "output_type": "execute_result"
    }
   ],
   "source": [
    "nn_learner.train_loop(dl)"
   ]
  },
  {
   "cell_type": "code",
   "execution_count": 23,
   "id": "e0163366",
   "metadata": {
    "execution": {
     "iopub.execute_input": "2022-09-25T00:47:58.546942Z",
     "iopub.status.busy": "2022-09-25T00:47:58.546104Z",
     "iopub.status.idle": "2022-09-25T00:48:19.297141Z",
     "shell.execute_reply": "2022-09-25T00:48:19.298199Z"
    },
    "papermill": {
     "duration": 20.811143,
     "end_time": "2022-09-25T00:48:19.298359",
     "exception": false,
     "start_time": "2022-09-25T00:47:58.487216",
     "status": "completed"
    },
    "tags": []
   },
   "outputs": [
    {
     "name": "stdout",
     "output_type": "stream",
     "text": [
      "Epoch 0, Loss 0.2326\n",
      "Training Accuracy: 0.7304, Testing Accuracy: 0.7440\n",
      "\n"
     ]
    },
    {
     "name": "stdout",
     "output_type": "stream",
     "text": [
      "Epoch 10, Loss 0.0995\n",
      "Training Accuracy: 0.9168, Testing Accuracy: 0.9244\n",
      "\n"
     ]
    },
    {
     "name": "stdout",
     "output_type": "stream",
     "text": [
      "Epoch 20, Loss 0.0767\n",
      "Training Accuracy: 0.9331, Testing Accuracy: 0.9405\n",
      "\n"
     ]
    },
    {
     "name": "stdout",
     "output_type": "stream",
     "text": [
      "Epoch 30, Loss 0.0664\n",
      "Training Accuracy: 0.9393, Testing Accuracy: 0.9466\n",
      "\n"
     ]
    },
    {
     "name": "stdout",
     "output_type": "stream",
     "text": [
      "Epoch 40, Loss 0.0602\n",
      "Training Accuracy: 0.9435, Testing Accuracy: 0.9486\n",
      "\n"
     ]
    },
    {
     "name": "stdout",
     "output_type": "stream",
     "text": [
      "Epoch 50, Loss 0.0559\n",
      "Training Accuracy: 0.9467, Testing Accuracy: 0.9531\n",
      "\n"
     ]
    },
    {
     "name": "stdout",
     "output_type": "stream",
     "text": [
      "Epoch 60, Loss 0.0528\n",
      "Training Accuracy: 0.9489, Testing Accuracy: 0.9551\n",
      "\n"
     ]
    },
    {
     "name": "stdout",
     "output_type": "stream",
     "text": [
      "Epoch 70, Loss 0.0504\n",
      "Training Accuracy: 0.9502, Testing Accuracy: 0.9561\n",
      "\n"
     ]
    },
    {
     "name": "stdout",
     "output_type": "stream",
     "text": [
      "Epoch 80, Loss 0.0485\n",
      "Training Accuracy: 0.9515, Testing Accuracy: 0.9572\n",
      "\n"
     ]
    },
    {
     "name": "stdout",
     "output_type": "stream",
     "text": [
      "Epoch 90, Loss 0.0469\n",
      "Training Accuracy: 0.9527, Testing Accuracy: 0.9592\n",
      "\n"
     ]
    },
    {
     "name": "stdout",
     "output_type": "stream",
     "text": [
      "Epoch 100, Loss 0.0455\n",
      "Training Accuracy: 0.9541, Testing Accuracy: 0.9602\n",
      "\n"
     ]
    },
    {
     "name": "stdout",
     "output_type": "stream",
     "text": [
      "Epoch 110, Loss 0.0444\n",
      "Training Accuracy: 0.9554, Testing Accuracy: 0.9612\n",
      "\n"
     ]
    },
    {
     "name": "stdout",
     "output_type": "stream",
     "text": [
      "Epoch 120, Loss 0.0434\n",
      "Training Accuracy: 0.9560, Testing Accuracy: 0.9617\n",
      "\n"
     ]
    },
    {
     "name": "stdout",
     "output_type": "stream",
     "text": [
      "Epoch 130, Loss 0.0425\n",
      "Training Accuracy: 0.9564, Testing Accuracy: 0.9627\n",
      "\n"
     ]
    },
    {
     "name": "stdout",
     "output_type": "stream",
     "text": [
      "Epoch 140, Loss 0.0417\n",
      "Training Accuracy: 0.9574, Testing Accuracy: 0.9637\n",
      "\n"
     ]
    },
    {
     "name": "stdout",
     "output_type": "stream",
     "text": [
      "Epoch 150, Loss 0.041\n",
      "Training Accuracy: 0.9583, Testing Accuracy: 0.9637\n",
      "\n"
     ]
    },
    {
     "name": "stdout",
     "output_type": "stream",
     "text": [
      "Epoch 160, Loss 0.0403\n",
      "Training Accuracy: 0.9586, Testing Accuracy: 0.9652\n",
      "\n"
     ]
    },
    {
     "name": "stdout",
     "output_type": "stream",
     "text": [
      "Epoch 170, Loss 0.0397\n",
      "Training Accuracy: 0.9589, Testing Accuracy: 0.9652\n",
      "\n"
     ]
    },
    {
     "name": "stdout",
     "output_type": "stream",
     "text": [
      "Epoch 180, Loss 0.0392\n",
      "Training Accuracy: 0.9596, Testing Accuracy: 0.9652\n",
      "\n"
     ]
    },
    {
     "name": "stdout",
     "output_type": "stream",
     "text": [
      "Epoch 190, Loss 0.0387\n",
      "Training Accuracy: 0.9602, Testing Accuracy: 0.9652\n",
      "\n"
     ]
    },
    {
     "name": "stdout",
     "output_type": "stream",
     "text": [
      "Epoch 200, Loss 0.0382\n",
      "Training Accuracy: 0.9607, Testing Accuracy: 0.9652\n",
      "\n"
     ]
    },
    {
     "name": "stdout",
     "output_type": "stream",
     "text": [
      "Epoch 210, Loss 0.0378\n",
      "Training Accuracy: 0.9613, Testing Accuracy: 0.9652\n",
      "\n"
     ]
    },
    {
     "name": "stdout",
     "output_type": "stream",
     "text": [
      "Epoch 220, Loss 0.0374\n",
      "Training Accuracy: 0.9615, Testing Accuracy: 0.9657\n",
      "\n"
     ]
    },
    {
     "name": "stdout",
     "output_type": "stream",
     "text": [
      "Epoch 230, Loss 0.037\n",
      "Training Accuracy: 0.9619, Testing Accuracy: 0.9657\n",
      "\n"
     ]
    },
    {
     "name": "stdout",
     "output_type": "stream",
     "text": [
      "Epoch 240, Loss 0.0367\n",
      "Training Accuracy: 0.9625, Testing Accuracy: 0.9662\n",
      "\n"
     ]
    },
    {
     "data": {
      "text/plain": [
       "0.04758682197386788"
      ]
     },
     "execution_count": 23,
     "metadata": {},
     "output_type": "execute_result"
    }
   ],
   "source": [
    "lr_learner.train_loop(dl)"
   ]
  },
  {
   "cell_type": "code",
   "execution_count": 24,
   "id": "ca410940",
   "metadata": {
    "execution": {
     "iopub.execute_input": "2022-09-25T00:48:19.414607Z",
     "iopub.status.busy": "2022-09-25T00:48:19.413730Z",
     "iopub.status.idle": "2022-09-25T00:48:19.744013Z",
     "shell.execute_reply": "2022-09-25T00:48:19.743321Z"
    },
    "papermill": {
     "duration": 0.394201,
     "end_time": "2022-09-25T00:48:19.744235",
     "exception": false,
     "start_time": "2022-09-25T00:48:19.350034",
     "status": "completed"
    },
    "tags": []
   },
   "outputs": [
    {
     "data": {
      "text/plain": [
       "<matplotlib.legend.Legend at 0x7f68c36582e8>"
      ]
     },
     "execution_count": 24,
     "metadata": {},
     "output_type": "execute_result"
    },
    {
     "data": {
      "image/png": "[encoded data removed]",
      "text/plain": [
       "<Figure size 1080x720 with 1 Axes>"
      ]
     },
     "metadata": {
      "needs_background": "light"
     },
     "output_type": "display_data"
    }
   ],
   "source": [
    "#comparing the results of NN and LR\n",
    "plt.figure(figsize=(15,10))\n",
    "\n",
    "# Neural Network plots\n",
    "plt.plot(acc_nn.accuracies, 'r-', label = \"Training Accuracies - NN\")\n",
    "plt.plot(acc_nn.test_accuracies, 'g-', label = \"Testing Accuracies - NN\")\n",
    "\n",
    "# Logistic Regression plots\n",
    "plt.plot(acc_lr.accuracies, 'k-', label = \"Training Accuracies - LR\")\n",
    "plt.plot(acc_lr.test_accuracies, 'b-', label = \"Testing Accuracies - LR\")\n",
    "plt.legend()"
   ]
  },
  {
   "cell_type": "markdown",
   "id": "80dfb35c",
   "metadata": {
    "papermill": {
     "duration": 0.050584,
     "end_time": "2022-09-25T00:48:19.846990",
     "exception": false,
     "start_time": "2022-09-25T00:48:19.796406",
     "status": "completed"
    },
    "tags": []
   },
   "source": [
    "#### Plotting the outputs of this layer of the NN.\n"
   ]
  },
  {
   "cell_type": "code",
   "execution_count": 25,
   "id": "45eb2ff5",
   "metadata": {
    "execution": {
     "iopub.execute_input": "2022-09-25T00:48:19.959688Z",
     "iopub.status.busy": "2022-09-25T00:48:19.957958Z",
     "iopub.status.idle": "2022-09-25T00:48:19.987223Z",
     "shell.execute_reply": "2022-09-25T00:48:19.988200Z"
    },
    "papermill": {
     "duration": 0.086103,
     "end_time": "2022-09-25T00:48:19.988367",
     "exception": false,
     "start_time": "2022-09-25T00:48:19.902264",
     "status": "completed"
    },
    "tags": []
   },
   "outputs": [],
   "source": [
    "new_model = Model(layers[:-2])\n",
    "testing_plot = new_model(testing_data_x)"
   ]
  },
  {
   "cell_type": "code",
   "execution_count": 26,
   "id": "4c0a5485",
   "metadata": {
    "execution": {
     "iopub.execute_input": "2022-09-25T00:48:20.112211Z",
     "iopub.status.busy": "2022-09-25T00:48:20.109982Z",
     "iopub.status.idle": "2022-09-25T00:48:20.387982Z",
     "shell.execute_reply": "2022-09-25T00:48:20.388495Z"
    },
    "papermill": {
     "duration": 0.342562,
     "end_time": "2022-09-25T00:48:20.388642",
     "exception": false,
     "start_time": "2022-09-25T00:48:20.046080",
     "status": "completed"
    },
    "tags": []
   },
   "outputs": [
    {
     "data": {
      "text/plain": [
       "Text(0.5, 1.0, 'Outputs')"
      ]
     },
     "execution_count": 26,
     "metadata": {},
     "output_type": "execute_result"
    },
    {
     "data": {
      "image/png": "[encoded data removed]",
      "text/plain": [
       "<Figure size 576x504 with 1 Axes>"
      ]
     },
     "metadata": {
      "needs_background": "light"
     },
     "output_type": "display_data"
    }
   ],
   "source": [
    "# Plotting the scatter plot of points and color coding by class\n",
    "plt.figure(figsize=(8,7))\n",
    "plt.scatter(testing_plot[:,0], testing_plot[:,1], alpha = 0.1, c = y_test.ravel());\n",
    "plt.title('Outputs')"
   ]
  },
  {
   "cell_type": "markdown",
   "id": "a74fcf8f",
   "metadata": {
    "papermill": {
     "duration": 0.081747,
     "end_time": "2022-09-25T00:48:20.524406",
     "exception": false,
     "start_time": "2022-09-25T00:48:20.442659",
     "status": "completed"
    },
    "tags": []
   },
   "source": [
    "Probability contours"
   ]
  },
  {
   "cell_type": "code",
   "execution_count": 27,
   "id": "d0afc8e3",
   "metadata": {
    "execution": {
     "iopub.execute_input": "2022-09-25T00:48:20.648505Z",
     "iopub.status.busy": "2022-09-25T00:48:20.647665Z",
     "iopub.status.idle": "2022-09-25T00:48:20.660756Z",
     "shell.execute_reply": "2022-09-25T00:48:20.660088Z"
    },
    "papermill": {
     "duration": 0.081739,
     "end_time": "2022-09-25T00:48:20.660955",
     "exception": false,
     "start_time": "2022-09-25T00:48:20.579216",
     "status": "completed"
    },
    "tags": []
   },
   "outputs": [],
   "source": [
    "model_prob = Model(layers[-2:]) "
   ]
  },
  {
   "cell_type": "code",
   "execution_count": 28,
   "id": "9b96e238",
   "metadata": {
    "execution": {
     "iopub.execute_input": "2022-09-25T00:48:20.782315Z",
     "iopub.status.busy": "2022-09-25T00:48:20.781622Z",
     "iopub.status.idle": "2022-09-25T00:48:20.800151Z",
     "shell.execute_reply": "2022-09-25T00:48:20.800761Z"
    },
    "papermill": {
     "duration": 0.081352,
     "end_time": "2022-09-25T00:48:20.800956",
     "exception": false,
     "start_time": "2022-09-25T00:48:20.719604",
     "status": "completed"
    },
    "tags": []
   },
   "outputs": [],
   "source": [
    "#creating the x and y ranges according to the above generated plot.\n",
    "x_range = np.linspace(-4, 1, 100) \n",
    "y_range = np.linspace(-6, 6, 100) \n",
    "x_grid, y_grid = np.meshgrid(x_range, y_range) # x_grid and y_grig are of size 100 X 100\n",
    "\n",
    "# converting x_grid and y_grid to continuous arrays\n",
    "x_gridflat = np.ravel(x_grid)\n",
    "y_gridflat = np.ravel(y_grid)\n",
    "\n",
    "# The last layer of the current model takes two columns as input. Hence transpose of np.vstack() is required.\n",
    "X = np.vstack((x_gridflat, y_gridflat)).T\n",
    "\n",
    "prob_contour = model_prob(X).reshape(100,100) "
   ]
  },
  {
   "cell_type": "code",
   "execution_count": 29,
   "id": "da72499a",
   "metadata": {
    "execution": {
     "iopub.execute_input": "2022-09-25T00:48:20.920765Z",
     "iopub.status.busy": "2022-09-25T00:48:20.920048Z",
     "iopub.status.idle": "2022-09-25T00:48:21.257760Z",
     "shell.execute_reply": "2022-09-25T00:48:21.256160Z"
    },
    "papermill": {
     "duration": 0.400658,
     "end_time": "2022-09-25T00:48:21.257895",
     "exception": false,
     "start_time": "2022-09-25T00:48:20.857237",
     "status": "completed"
    },
    "tags": []
   },
   "outputs": [
    {
     "data": {
      "image/png": "[encoded data removed]",
      "text/plain": [
       "<Figure size 720x648 with 1 Axes>"
      ]
     },
     "metadata": {
      "needs_background": "light"
     },
     "output_type": "display_data"
    }
   ],
   "source": [
    "plt.figure(figsize=(10,9))\n",
    "plt.scatter(testing_plot[:,0], testing_plot[:,1], alpha = 0.1, c = y_test.ravel())\n",
    "contours = plt.contour(x_grid,y_grid,prob_contour)\n",
    "plt.title('Probability Contours')\n",
    "plt.clabel(contours, inline = True );"
   ]
  },
  {
   "cell_type": "code",
   "execution_count": null,
   "id": "e81b4ac7",
   "metadata": {
    "papermill": {
     "duration": 0.056879,
     "end_time": "2022-09-25T00:48:21.370867",
     "exception": false,
     "start_time": "2022-09-25T00:48:21.313988",
     "status": "completed"
    },
    "tags": []
   },
   "outputs": [],
   "source": []
  }
 ],
 "metadata": {
  "kernelspec": {
   "display_name": "Python 3",
   "language": "python",
   "name": "python3"
  },
  "language_info": {
   "codemirror_mode": {
    "name": "ipython",
    "version": 3
   },
   "file_extension": ".py",
   "mimetype": "text/x-python",
   "name": "python",
   "nbconvert_exporter": "python",
   "pygments_lexer": "ipython3",
   "version": "3.6.15"
  },
  "papermill": {
   "default_parameters": {},
   "duration": 175.682759,
   "end_time": "2022-09-25T00:48:21.848327",
   "environment_variables": {},
   "exception": null,
   "input_path": "2020-08-11-part2.ipynb",
   "output_path": "2020-08-11-part2.ipynb",
   "parameters": {},
   "start_time": "2022-09-25T00:45:26.165568",
   "version": "2.3.3"
  }
 },
 "nbformat": 4,
 "nbformat_minor": 5
}