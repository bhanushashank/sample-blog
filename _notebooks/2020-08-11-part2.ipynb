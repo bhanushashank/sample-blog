{
 "cells": [
  {
   "cell_type": "markdown",
   "id": "98380cd3",
   "metadata": {
    "papermill": {
     "duration": 0.03774,
     "end_time": "2022-03-02T20:07:58.853494",
     "exception": false,
     "start_time": "2022-03-02T20:07:58.815754",
     "status": "completed"
    },
    "tags": []
   },
   "source": [
    "# Distinguish Your Own Digits (DYOD)"
   ]
  },
  {
   "cell_type": "markdown",
   "id": "ef31240d",
   "metadata": {
    "papermill": {
     "duration": 0.038665,
     "end_time": "2022-03-02T20:07:58.924526",
     "exception": false,
     "start_time": "2022-03-02T20:07:58.885861",
     "status": "completed"
    },
    "tags": []
   },
   "source": [
    "You are going to write a classifier that distinguishes between the number 3 and number 8."
   ]
  },
  {
   "cell_type": "code",
   "execution_count": 1,
   "id": "b15c8646",
   "metadata": {
    "execution": {
     "iopub.execute_input": "2022-03-02T20:07:59.006939Z",
     "iopub.status.busy": "2022-03-02T20:07:59.006122Z",
     "iopub.status.idle": "2022-03-02T20:07:59.038274Z",
     "shell.execute_reply": "2022-03-02T20:07:59.037487Z"
    },
    "papermill": {
     "duration": 0.079421,
     "end_time": "2022-03-02T20:07:59.038449",
     "exception": false,
     "start_time": "2022-03-02T20:07:58.959028",
     "status": "completed"
    },
    "tags": []
   },
   "outputs": [],
   "source": [
    "%load_ext autoreload\n",
    "%autoreload 2"
   ]
  },
  {
   "cell_type": "code",
   "execution_count": 2,
   "id": "22ef38dc",
   "metadata": {
    "execution": {
     "iopub.execute_input": "2022-03-02T20:07:59.136713Z",
     "iopub.status.busy": "2022-03-02T20:07:59.126205Z",
     "iopub.status.idle": "2022-03-02T20:07:59.894323Z",
     "shell.execute_reply": "2022-03-02T20:07:59.893648Z"
    },
    "papermill": {
     "duration": 0.81826,
     "end_time": "2022-03-02T20:07:59.894484",
     "exception": false,
     "start_time": "2022-03-02T20:07:59.076224",
     "status": "completed"
    },
    "tags": []
   },
   "outputs": [],
   "source": [
    "%matplotlib inline\n",
    "import numpy as np\n",
    "import matplotlib.pyplot as plt\n",
    "import pandas as pd"
   ]
  },
  {
   "cell_type": "markdown",
   "id": "ba036198",
   "metadata": {
    "papermill": {
     "duration": 0.033193,
     "end_time": "2022-03-02T20:07:59.960418",
     "exception": false,
     "start_time": "2022-03-02T20:07:59.927225",
     "status": "completed"
    },
    "tags": []
   },
   "source": [
    "From the command line run `pip install mnist`. This is a library that will help you bring down the mnist dataset. If you run this from a notebook, you need to put  `!pip install mnist` in a cell by itself."
   ]
  },
  {
   "cell_type": "code",
   "execution_count": 3,
   "id": "bb6ad8a1",
   "metadata": {
    "execution": {
     "iopub.execute_input": "2022-03-02T20:08:00.033146Z",
     "iopub.status.busy": "2022-03-02T20:08:00.032222Z",
     "iopub.status.idle": "2022-03-02T20:08:02.193336Z",
     "shell.execute_reply": "2022-03-02T20:08:02.193870Z"
    },
    "papermill": {
     "duration": 2.199866,
     "end_time": "2022-03-02T20:08:02.194059",
     "exception": false,
     "start_time": "2022-03-02T20:07:59.994193",
     "status": "completed"
    },
    "tags": []
   },
   "outputs": [
    {
     "name": "stdout",
     "output_type": "stream",
     "text": [
      "Collecting mnist\r\n"
     ]
    },
    {
     "name": "stdout",
     "output_type": "stream",
     "text": [
      "  Downloading mnist-0.2.2-py2.py3-none-any.whl (3.5 kB)\r\n",
      "Requirement already satisfied: numpy in /opt/hostedtoolcache/Python/3.6.15/x64/lib/python3.6/site-packages (from mnist) (1.19.5)\r\n"
     ]
    },
    {
     "name": "stdout",
     "output_type": "stream",
     "text": [
      "Installing collected packages: mnist\r\n",
      "Successfully installed mnist-0.2.2\r\n"
     ]
    }
   ],
   "source": [
    "!pip install mnist"
   ]
  },
  {
   "cell_type": "markdown",
   "id": "69df9c9a",
   "metadata": {
    "papermill": {
     "duration": 0.033809,
     "end_time": "2022-03-02T20:08:02.261969",
     "exception": false,
     "start_time": "2022-03-02T20:08:02.228160",
     "status": "completed"
    },
    "tags": []
   },
   "source": [
    "## Preparing the Data"
   ]
  },
  {
   "cell_type": "code",
   "execution_count": 4,
   "id": "7f69d806",
   "metadata": {
    "execution": {
     "iopub.execute_input": "2022-03-02T20:08:02.339927Z",
     "iopub.status.busy": "2022-03-02T20:08:02.339158Z",
     "iopub.status.idle": "2022-03-02T20:08:02.356316Z",
     "shell.execute_reply": "2022-03-02T20:08:02.355605Z"
    },
    "papermill": {
     "duration": 0.059319,
     "end_time": "2022-03-02T20:08:02.356498",
     "exception": false,
     "start_time": "2022-03-02T20:08:02.297179",
     "status": "completed"
    },
    "tags": []
   },
   "outputs": [],
   "source": [
    "import mnist"
   ]
  },
  {
   "cell_type": "code",
   "execution_count": 5,
   "id": "a411e44f",
   "metadata": {
    "execution": {
     "iopub.execute_input": "2022-03-02T20:08:02.431440Z",
     "iopub.status.busy": "2022-03-02T20:08:02.429936Z",
     "iopub.status.idle": "2022-03-02T20:08:03.032888Z",
     "shell.execute_reply": "2022-03-02T20:08:03.031811Z"
    },
    "papermill": {
     "duration": 0.64119,
     "end_time": "2022-03-02T20:08:03.033092",
     "exception": false,
     "start_time": "2022-03-02T20:08:02.391902",
     "status": "completed"
    },
    "tags": []
   },
   "outputs": [],
   "source": [
    "train_images = mnist.train_images()\n",
    "train_labels = mnist.train_labels()"
   ]
  },
  {
   "cell_type": "code",
   "execution_count": 6,
   "id": "dceab3a5",
   "metadata": {
    "execution": {
     "iopub.execute_input": "2022-03-02T20:08:03.106011Z",
     "iopub.status.busy": "2022-03-02T20:08:03.105292Z",
     "iopub.status.idle": "2022-03-02T20:08:03.122806Z",
     "shell.execute_reply": "2022-03-02T20:08:03.122109Z"
    },
    "papermill": {
     "duration": 0.05613,
     "end_time": "2022-03-02T20:08:03.122955",
     "exception": false,
     "start_time": "2022-03-02T20:08:03.066825",
     "status": "completed"
    },
    "tags": []
   },
   "outputs": [
    {
     "data": {
      "text/plain": [
       "((60000, 28, 28), (60000,))"
      ]
     },
     "execution_count": 6,
     "metadata": {},
     "output_type": "execute_result"
    }
   ],
   "source": [
    "train_images.shape, train_labels.shape"
   ]
  },
  {
   "cell_type": "code",
   "execution_count": 7,
   "id": "f50dc2bb",
   "metadata": {
    "execution": {
     "iopub.execute_input": "2022-03-02T20:08:03.201642Z",
     "iopub.status.busy": "2022-03-02T20:08:03.200873Z",
     "iopub.status.idle": "2022-03-02T20:08:03.348930Z",
     "shell.execute_reply": "2022-03-02T20:08:03.349502Z"
    },
    "papermill": {
     "duration": 0.192909,
     "end_time": "2022-03-02T20:08:03.349689",
     "exception": false,
     "start_time": "2022-03-02T20:08:03.156780",
     "status": "completed"
    },
    "tags": []
   },
   "outputs": [],
   "source": [
    "test_images = mnist.test_images()\n",
    "test_labels = mnist.test_labels()"
   ]
  },
  {
   "cell_type": "code",
   "execution_count": 8,
   "id": "fc38cf1b",
   "metadata": {
    "execution": {
     "iopub.execute_input": "2022-03-02T20:08:03.425925Z",
     "iopub.status.busy": "2022-03-02T20:08:03.424001Z",
     "iopub.status.idle": "2022-03-02T20:08:03.441495Z",
     "shell.execute_reply": "2022-03-02T20:08:03.440870Z"
    },
    "papermill": {
     "duration": 0.056978,
     "end_time": "2022-03-02T20:08:03.441663",
     "exception": false,
     "start_time": "2022-03-02T20:08:03.384685",
     "status": "completed"
    },
    "tags": []
   },
   "outputs": [
    {
     "data": {
      "text/plain": [
       "((10000, 28, 28), (10000,))"
      ]
     },
     "execution_count": 8,
     "metadata": {},
     "output_type": "execute_result"
    }
   ],
   "source": [
    "test_images.shape, test_labels.shape"
   ]
  },
  {
   "cell_type": "code",
   "execution_count": 9,
   "id": "f9ed8fe0",
   "metadata": {
    "execution": {
     "iopub.execute_input": "2022-03-02T20:08:03.517128Z",
     "iopub.status.busy": "2022-03-02T20:08:03.516367Z",
     "iopub.status.idle": "2022-03-02T20:08:03.718947Z",
     "shell.execute_reply": "2022-03-02T20:08:03.718279Z"
    },
    "papermill": {
     "duration": 0.24327,
     "end_time": "2022-03-02T20:08:03.719105",
     "exception": false,
     "start_time": "2022-03-02T20:08:03.475835",
     "status": "completed"
    },
    "tags": []
   },
   "outputs": [
    {
     "name": "stdout",
     "output_type": "stream",
     "text": [
      "2\n"
     ]
    },
    {
     "data": {
      "text/plain": [
       "<matplotlib.image.AxesImage at 0x7fc2713c4588>"
      ]
     },
     "execution_count": 9,
     "metadata": {},
     "output_type": "execute_result"
    },
    {
     "data": {
      "image/png": "[encoded data removed]",
      "text/plain": [
       "<Figure size 432x288 with 1 Axes>"
      ]
     },
     "metadata": {
      "needs_background": "light"
     },
     "output_type": "display_data"
    }
   ],
   "source": [
    "image_index = 7776 # You may select anything up to 60,000\n",
    "print(train_labels[image_index]) \n",
    "plt.imshow(train_images[image_index], cmap='Greys')"
   ]
  },
  {
   "cell_type": "markdown",
   "id": "a8d2388d",
   "metadata": {
    "papermill": {
     "duration": 0.036804,
     "end_time": "2022-03-02T20:08:03.792143",
     "exception": false,
     "start_time": "2022-03-02T20:08:03.755339",
     "status": "completed"
    },
    "tags": []
   },
   "source": [
    "## Filter data to get 3 and 8 out"
   ]
  },
  {
   "cell_type": "code",
   "execution_count": 10,
   "id": "776f7fc7",
   "metadata": {
    "execution": {
     "iopub.execute_input": "2022-03-02T20:08:03.871316Z",
     "iopub.status.busy": "2022-03-02T20:08:03.870601Z",
     "iopub.status.idle": "2022-03-02T20:08:03.893412Z",
     "shell.execute_reply": "2022-03-02T20:08:03.892709Z"
    },
    "papermill": {
     "duration": 0.064194,
     "end_time": "2022-03-02T20:08:03.893573",
     "exception": false,
     "start_time": "2022-03-02T20:08:03.829379",
     "status": "completed"
    },
    "tags": []
   },
   "outputs": [],
   "source": [
    "train_filter = np.where((train_labels == 3 ) | (train_labels == 8))\n",
    "test_filter = np.where((test_labels == 3) | (test_labels == 8))\n",
    "X_train, y_train = train_images[train_filter], train_labels[train_filter]\n",
    "X_test, y_test = test_images[test_filter], test_labels[test_filter]"
   ]
  },
  {
   "cell_type": "markdown",
   "id": "948f0b7e",
   "metadata": {
    "papermill": {
     "duration": 0.036809,
     "end_time": "2022-03-02T20:08:03.966424",
     "exception": false,
     "start_time": "2022-03-02T20:08:03.929615",
     "status": "completed"
    },
    "tags": []
   },
   "source": [
    "We normalize the pizel values in the 0 to 1 range"
   ]
  },
  {
   "cell_type": "code",
   "execution_count": 11,
   "id": "ee4c2166",
   "metadata": {
    "execution": {
     "iopub.execute_input": "2022-03-02T20:08:04.049860Z",
     "iopub.status.busy": "2022-03-02T20:08:04.049128Z",
     "iopub.status.idle": "2022-03-02T20:08:04.114744Z",
     "shell.execute_reply": "2022-03-02T20:08:04.114161Z"
    },
    "papermill": {
     "duration": 0.111517,
     "end_time": "2022-03-02T20:08:04.114917",
     "exception": false,
     "start_time": "2022-03-02T20:08:04.003400",
     "status": "completed"
    },
    "tags": []
   },
   "outputs": [],
   "source": [
    "X_train = X_train/255.\n",
    "X_test = X_test/255."
   ]
  },
  {
   "cell_type": "markdown",
   "id": "ddcf4fab",
   "metadata": {
    "papermill": {
     "duration": 0.035845,
     "end_time": "2022-03-02T20:08:04.186199",
     "exception": false,
     "start_time": "2022-03-02T20:08:04.150354",
     "status": "completed"
    },
    "tags": []
   },
   "source": [
    "And setup the labels as 1 (when the digit is 3) and 0 (when the digit is 8)"
   ]
  },
  {
   "cell_type": "code",
   "execution_count": 12,
   "id": "7dc908f2",
   "metadata": {
    "execution": {
     "iopub.execute_input": "2022-03-02T20:08:04.262852Z",
     "iopub.status.busy": "2022-03-02T20:08:04.262139Z",
     "iopub.status.idle": "2022-03-02T20:08:04.278788Z",
     "shell.execute_reply": "2022-03-02T20:08:04.278149Z"
    },
    "papermill": {
     "duration": 0.05686,
     "end_time": "2022-03-02T20:08:04.278965",
     "exception": false,
     "start_time": "2022-03-02T20:08:04.222105",
     "status": "completed"
    },
    "tags": []
   },
   "outputs": [],
   "source": [
    "y_train = 1*(y_train==3)\n",
    "y_test = 1*(y_test==3)"
   ]
  },
  {
   "cell_type": "code",
   "execution_count": 13,
   "id": "01e4e969",
   "metadata": {
    "execution": {
     "iopub.execute_input": "2022-03-02T20:08:04.355636Z",
     "iopub.status.busy": "2022-03-02T20:08:04.354914Z",
     "iopub.status.idle": "2022-03-02T20:08:04.370029Z",
     "shell.execute_reply": "2022-03-02T20:08:04.370600Z"
    },
    "papermill": {
     "duration": 0.056195,
     "end_time": "2022-03-02T20:08:04.370778",
     "exception": false,
     "start_time": "2022-03-02T20:08:04.314583",
     "status": "completed"
    },
    "tags": []
   },
   "outputs": [
    {
     "data": {
      "text/plain": [
       "((11982, 28, 28), (1984, 28, 28))"
      ]
     },
     "execution_count": 13,
     "metadata": {},
     "output_type": "execute_result"
    }
   ],
   "source": [
    "X_train.shape, X_test.shape"
   ]
  },
  {
   "cell_type": "markdown",
   "id": "5ccf3f85",
   "metadata": {
    "papermill": {
     "duration": 0.036119,
     "end_time": "2022-03-02T20:08:04.443185",
     "exception": false,
     "start_time": "2022-03-02T20:08:04.407066",
     "status": "completed"
    },
    "tags": []
   },
   "source": [
    "We reshape the data to flatten the image pixels into a set of features or co-variates:"
   ]
  },
  {
   "cell_type": "code",
   "execution_count": 14,
   "id": "5286a4a3",
   "metadata": {
    "execution": {
     "iopub.execute_input": "2022-03-02T20:08:04.522704Z",
     "iopub.status.busy": "2022-03-02T20:08:04.521978Z",
     "iopub.status.idle": "2022-03-02T20:08:04.537466Z",
     "shell.execute_reply": "2022-03-02T20:08:04.538058Z"
    },
    "papermill": {
     "duration": 0.057649,
     "end_time": "2022-03-02T20:08:04.538255",
     "exception": false,
     "start_time": "2022-03-02T20:08:04.480606",
     "status": "completed"
    },
    "tags": []
   },
   "outputs": [
    {
     "data": {
      "text/plain": [
       "((11982, 784), (1984, 784))"
      ]
     },
     "execution_count": 14,
     "metadata": {},
     "output_type": "execute_result"
    }
   ],
   "source": [
    "X_train = X_train.reshape(X_train.shape[0], -1)\n",
    "X_test = X_test.reshape(X_test.shape[0], -1)\n",
    "X_train.shape, X_test.shape"
   ]
  },
  {
   "cell_type": "code",
   "execution_count": 15,
   "id": "73c5f88a",
   "metadata": {
    "execution": {
     "iopub.execute_input": "2022-03-02T20:08:04.619297Z",
     "iopub.status.busy": "2022-03-02T20:08:04.618546Z",
     "iopub.status.idle": "2022-03-02T20:08:04.640050Z",
     "shell.execute_reply": "2022-03-02T20:08:04.639403Z"
    },
    "papermill": {
     "duration": 0.066776,
     "end_time": "2022-03-02T20:08:04.640212",
     "exception": false,
     "start_time": "2022-03-02T20:08:04.573436",
     "status": "completed"
    },
    "tags": []
   },
   "outputs": [],
   "source": [
    "#Impoting functions from 'Kudzu'\n",
    "from kudzu.model import Model\n",
    "from kudzu.train import Learner\n",
    "from kudzu.optim import GD\n",
    "from kudzu.data import Data, Sampler,Dataloader\n",
    "\n",
    "from kudzu.callbacks import AccCallback\n",
    "from kudzu.callbacks import ClfCallback\n",
    "\n",
    "from kudzu.loss import MSE\n",
    "\n",
    "from kudzu.layer import Sigmoid,Relu\n",
    "from kudzu.layer import Affine"
   ]
  },
  {
   "cell_type": "markdown",
   "id": "bc01172a",
   "metadata": {
    "papermill": {
     "duration": 0.036015,
     "end_time": "2022-03-02T20:08:04.712731",
     "exception": false,
     "start_time": "2022-03-02T20:08:04.676716",
     "status": "completed"
    },
    "tags": []
   },
   "source": [
    "### Let us create a `Config` class, to store important parameters. \n",
    "This class essentially plays the role of a dictionary."
   ]
  },
  {
   "cell_type": "code",
   "execution_count": 16,
   "id": "978281aa",
   "metadata": {
    "execution": {
     "iopub.execute_input": "2022-03-02T20:08:04.790431Z",
     "iopub.status.busy": "2022-03-02T20:08:04.789650Z",
     "iopub.status.idle": "2022-03-02T20:08:04.801757Z",
     "shell.execute_reply": "2022-03-02T20:08:04.802292Z"
    },
    "papermill": {
     "duration": 0.054899,
     "end_time": "2022-03-02T20:08:04.802460",
     "exception": false,
     "start_time": "2022-03-02T20:08:04.747561",
     "status": "completed"
    },
    "tags": []
   },
   "outputs": [],
   "source": [
    "class Config:\n",
    "    pass\n",
    "config = Config()\n",
    "config.lr = 0.001\n",
    "config.num_epochs = 250\n",
    "config.bs = 50"
   ]
  },
  {
   "cell_type": "markdown",
   "id": "1385fa59",
   "metadata": {
    "papermill": {
     "duration": 0.034917,
     "end_time": "2022-03-02T20:08:04.872721",
     "exception": false,
     "start_time": "2022-03-02T20:08:04.837804",
     "status": "completed"
    },
    "tags": []
   },
   "source": [
    "### Running Models with the Training data\n",
    "Details about the network layers:\n",
    "- A first affine layer has 784 inputs and does 100 affine transforms. These are followed by a Relu\n",
    "- A second affine layer has 100 inputs from the 100 activations of the past layer, and does 100 affine transforms. These are followed by a Relu\n",
    "- A third affine layer has 100 activations and does 2 affine transformations to create an embedding for visualization. There is no non-linearity here.\n",
    "- A final \"logistic regression\" which has an affine transform from 2 inputs to 1 output, which is squeezed through a sigmoid.\n"
   ]
  },
  {
   "cell_type": "code",
   "execution_count": 17,
   "id": "2b9c66db",
   "metadata": {
    "execution": {
     "iopub.execute_input": "2022-03-02T20:08:04.947300Z",
     "iopub.status.busy": "2022-03-02T20:08:04.946667Z",
     "iopub.status.idle": "2022-03-02T20:08:04.963107Z",
     "shell.execute_reply": "2022-03-02T20:08:04.962314Z"
    },
    "papermill": {
     "duration": 0.056328,
     "end_time": "2022-03-02T20:08:04.963254",
     "exception": false,
     "start_time": "2022-03-02T20:08:04.906926",
     "status": "completed"
    },
    "tags": []
   },
   "outputs": [],
   "source": [
    "data = Data(X_train, y_train.reshape(-1,1))\n",
    "sampler = Sampler(data, config.bs, shuffle=True)\n",
    "\n",
    "dl = Dataloader(data, sampler)\n",
    "\n",
    "opt = GD(config.lr)\n",
    "loss = MSE()"
   ]
  },
  {
   "cell_type": "code",
   "execution_count": 18,
   "id": "b275e4c2",
   "metadata": {
    "execution": {
     "iopub.execute_input": "2022-03-02T20:08:05.041701Z",
     "iopub.status.busy": "2022-03-02T20:08:05.040805Z",
     "iopub.status.idle": "2022-03-02T20:08:05.053742Z",
     "shell.execute_reply": "2022-03-02T20:08:05.053098Z"
    },
    "papermill": {
     "duration": 0.055559,
     "end_time": "2022-03-02T20:08:05.053891",
     "exception": false,
     "start_time": "2022-03-02T20:08:04.998332",
     "status": "completed"
    },
    "tags": []
   },
   "outputs": [],
   "source": [
    "training_data_x = X_train\n",
    "testing_data_x = X_test\n",
    "training_data_y = y_train.reshape(-1,1)\n",
    "testing_data_y = y_test.reshape(-1,1)"
   ]
  },
  {
   "cell_type": "code",
   "execution_count": 19,
   "id": "76951160",
   "metadata": {
    "execution": {
     "iopub.execute_input": "2022-03-02T20:08:05.133998Z",
     "iopub.status.busy": "2022-03-02T20:08:05.133248Z",
     "iopub.status.idle": "2022-03-02T20:08:05.152480Z",
     "shell.execute_reply": "2022-03-02T20:08:05.151882Z"
    },
    "papermill": {
     "duration": 0.063478,
     "end_time": "2022-03-02T20:08:05.152622",
     "exception": false,
     "start_time": "2022-03-02T20:08:05.089144",
     "status": "completed"
    },
    "tags": []
   },
   "outputs": [
    {
     "name": "stdout",
     "output_type": "stream",
     "text": [
      "xavier\n",
      "xavier\n",
      "xavier\n",
      "xavier\n",
      "xavier\n"
     ]
    }
   ],
   "source": [
    "layers = [Affine(\"first\", 784, 100), Relu(\"first\"), Affine(\"second\", 100, 100), Relu(\"second\"), Affine(\"third\", 100, 2), Affine(\"last\", 2, 1), Sigmoid(\"last\")]\n",
    "model_nn = Model(layers)\n",
    "model_lr = Model([Affine(\"logits\", 784, 1), Sigmoid(\"sigmoid\")])"
   ]
  },
  {
   "cell_type": "code",
   "execution_count": 20,
   "id": "6eede77a",
   "metadata": {
    "execution": {
     "iopub.execute_input": "2022-03-02T20:08:05.230199Z",
     "iopub.status.busy": "2022-03-02T20:08:05.229476Z",
     "iopub.status.idle": "2022-03-02T20:08:05.243261Z",
     "shell.execute_reply": "2022-03-02T20:08:05.242724Z"
    },
    "papermill": {
     "duration": 0.054284,
     "end_time": "2022-03-02T20:08:05.243400",
     "exception": false,
     "start_time": "2022-03-02T20:08:05.189116",
     "status": "completed"
    },
    "tags": []
   },
   "outputs": [],
   "source": [
    "nn_learner = Learner(loss, model_nn, opt, config.num_epochs)\n",
    "acc_nn = ClfCallback(nn_learner, config.bs, training_data_x , testing_data_x, training_data_y, testing_data_y)\n",
    "nn_learner.set_callbacks([acc_nn])"
   ]
  },
  {
   "cell_type": "code",
   "execution_count": 21,
   "id": "877b6cc7",
   "metadata": {
    "execution": {
     "iopub.execute_input": "2022-03-02T20:08:05.320536Z",
     "iopub.status.busy": "2022-03-02T20:08:05.319842Z",
     "iopub.status.idle": "2022-03-02T20:08:05.334906Z",
     "shell.execute_reply": "2022-03-02T20:08:05.334320Z"
    },
    "papermill": {
     "duration": 0.057207,
     "end_time": "2022-03-02T20:08:05.335057",
     "exception": false,
     "start_time": "2022-03-02T20:08:05.277850",
     "status": "completed"
    },
    "tags": []
   },
   "outputs": [],
   "source": [
    "lr_learner = Learner(loss, model_lr, opt, config.num_epochs)\n",
    "acc_lr = ClfCallback(lr_learner, config.bs, training_data_x , testing_data_x, training_data_y, testing_data_y)\n",
    "lr_learner.set_callbacks([acc_lr])"
   ]
  },
  {
   "cell_type": "code",
   "execution_count": 22,
   "id": "d9b133c3",
   "metadata": {
    "execution": {
     "iopub.execute_input": "2022-03-02T20:08:05.415315Z",
     "iopub.status.busy": "2022-03-02T20:08:05.414652Z",
     "iopub.status.idle": "2022-03-02T20:10:32.103731Z",
     "shell.execute_reply": "2022-03-02T20:10:32.104677Z"
    },
    "papermill": {
     "duration": 146.732845,
     "end_time": "2022-03-02T20:10:32.104877",
     "exception": false,
     "start_time": "2022-03-02T20:08:05.372032",
     "status": "completed"
    },
    "tags": []
   },
   "outputs": [
    {
     "name": "stdout",
     "output_type": "stream",
     "text": [
      "Epoch 0, Loss 0.2482\n",
      "Training Accuracy: 0.5302, Testing Accuracy: 0.5272\n",
      "\n"
     ]
    },
    {
     "name": "stdout",
     "output_type": "stream",
     "text": [
      "Epoch 10, Loss 0.1003\n",
      "Training Accuracy: 0.9181, Testing Accuracy: 0.9299\n",
      "\n"
     ]
    },
    {
     "name": "stdout",
     "output_type": "stream",
     "text": [
      "Epoch 20, Loss 0.0585\n",
      "Training Accuracy: 0.9413, Testing Accuracy: 0.9471\n",
      "\n"
     ]
    },
    {
     "name": "stdout",
     "output_type": "stream",
     "text": [
      "Epoch 30, Loss 0.0454\n",
      "Training Accuracy: 0.9510, Testing Accuracy: 0.9551\n",
      "\n"
     ]
    },
    {
     "name": "stdout",
     "output_type": "stream",
     "text": [
      "Epoch 40, Loss 0.0391\n",
      "Training Accuracy: 0.9556, Testing Accuracy: 0.9597\n",
      "\n"
     ]
    },
    {
     "name": "stdout",
     "output_type": "stream",
     "text": [
      "Epoch 50, Loss 0.0354\n",
      "Training Accuracy: 0.9579, Testing Accuracy: 0.9652\n",
      "\n"
     ]
    },
    {
     "name": "stdout",
     "output_type": "stream",
     "text": [
      "Epoch 60, Loss 0.0329\n",
      "Training Accuracy: 0.9604, Testing Accuracy: 0.9657\n",
      "\n"
     ]
    },
    {
     "name": "stdout",
     "output_type": "stream",
     "text": [
      "Epoch 70, Loss 0.0311\n",
      "Training Accuracy: 0.9638, Testing Accuracy: 0.9667\n",
      "\n"
     ]
    },
    {
     "name": "stdout",
     "output_type": "stream",
     "text": [
      "Epoch 80, Loss 0.0296\n",
      "Training Accuracy: 0.9657, Testing Accuracy: 0.9693\n",
      "\n"
     ]
    },
    {
     "name": "stdout",
     "output_type": "stream",
     "text": [
      "Epoch 90, Loss 0.0284\n",
      "Training Accuracy: 0.9670, Testing Accuracy: 0.9708\n",
      "\n"
     ]
    },
    {
     "name": "stdout",
     "output_type": "stream",
     "text": [
      "Epoch 100, Loss 0.0274\n",
      "Training Accuracy: 0.9677, Testing Accuracy: 0.9708\n",
      "\n"
     ]
    },
    {
     "name": "stdout",
     "output_type": "stream",
     "text": [
      "Epoch 110, Loss 0.0265\n",
      "Training Accuracy: 0.9688, Testing Accuracy: 0.9713\n",
      "\n"
     ]
    },
    {
     "name": "stdout",
     "output_type": "stream",
     "text": [
      "Epoch 120, Loss 0.0257\n",
      "Training Accuracy: 0.9697, Testing Accuracy: 0.9713\n",
      "\n"
     ]
    },
    {
     "name": "stdout",
     "output_type": "stream",
     "text": [
      "Epoch 130, Loss 0.025\n",
      "Training Accuracy: 0.9706, Testing Accuracy: 0.9708\n",
      "\n"
     ]
    },
    {
     "name": "stdout",
     "output_type": "stream",
     "text": [
      "Epoch 140, Loss 0.0243\n",
      "Training Accuracy: 0.9713, Testing Accuracy: 0.9703\n",
      "\n"
     ]
    },
    {
     "name": "stdout",
     "output_type": "stream",
     "text": [
      "Epoch 150, Loss 0.0237\n",
      "Training Accuracy: 0.9721, Testing Accuracy: 0.9718\n",
      "\n"
     ]
    },
    {
     "name": "stdout",
     "output_type": "stream",
     "text": [
      "Epoch 160, Loss 0.0232\n",
      "Training Accuracy: 0.9731, Testing Accuracy: 0.9718\n",
      "\n"
     ]
    },
    {
     "name": "stdout",
     "output_type": "stream",
     "text": [
      "Epoch 170, Loss 0.0226\n",
      "Training Accuracy: 0.9737, Testing Accuracy: 0.9723\n",
      "\n"
     ]
    },
    {
     "name": "stdout",
     "output_type": "stream",
     "text": [
      "Epoch 180, Loss 0.0221\n",
      "Training Accuracy: 0.9740, Testing Accuracy: 0.9728\n",
      "\n"
     ]
    },
    {
     "name": "stdout",
     "output_type": "stream",
     "text": [
      "Epoch 190, Loss 0.0216\n",
      "Training Accuracy: 0.9747, Testing Accuracy: 0.9728\n",
      "\n"
     ]
    },
    {
     "name": "stdout",
     "output_type": "stream",
     "text": [
      "Epoch 200, Loss 0.0212\n",
      "Training Accuracy: 0.9755, Testing Accuracy: 0.9733\n",
      "\n"
     ]
    },
    {
     "name": "stdout",
     "output_type": "stream",
     "text": [
      "Epoch 210, Loss 0.0207\n",
      "Training Accuracy: 0.9763, Testing Accuracy: 0.9738\n",
      "\n"
     ]
    },
    {
     "name": "stdout",
     "output_type": "stream",
     "text": [
      "Epoch 220, Loss 0.0203\n",
      "Training Accuracy: 0.9770, Testing Accuracy: 0.9738\n",
      "\n"
     ]
    },
    {
     "name": "stdout",
     "output_type": "stream",
     "text": [
      "Epoch 230, Loss 0.0199\n",
      "Training Accuracy: 0.9776, Testing Accuracy: 0.9748\n",
      "\n"
     ]
    },
    {
     "name": "stdout",
     "output_type": "stream",
     "text": [
      "Epoch 240, Loss 0.0195\n",
      "Training Accuracy: 0.9785, Testing Accuracy: 0.9758\n",
      "\n"
     ]
    },
    {
     "data": {
      "text/plain": [
       "0.0026578992794443713"
      ]
     },
     "execution_count": 22,
     "metadata": {},
     "output_type": "execute_result"
    }
   ],
   "source": [
    "nn_learner.train_loop(dl)"
   ]
  },
  {
   "cell_type": "code",
   "execution_count": 23,
   "id": "e0163366",
   "metadata": {
    "execution": {
     "iopub.execute_input": "2022-03-02T20:10:32.207199Z",
     "iopub.status.busy": "2022-03-02T20:10:32.206487Z",
     "iopub.status.idle": "2022-03-02T20:10:53.236074Z",
     "shell.execute_reply": "2022-03-02T20:10:53.237130Z"
    },
    "papermill": {
     "duration": 21.085625,
     "end_time": "2022-03-02T20:10:53.237370",
     "exception": false,
     "start_time": "2022-03-02T20:10:32.151745",
     "status": "completed"
    },
    "tags": []
   },
   "outputs": [
    {
     "name": "stdout",
     "output_type": "stream",
     "text": [
      "Epoch 0, Loss 0.2266\n",
      "Training Accuracy: 0.7408, Testing Accuracy: 0.7429\n",
      "\n"
     ]
    },
    {
     "name": "stdout",
     "output_type": "stream",
     "text": [
      "Epoch 10, Loss 0.1008\n",
      "Training Accuracy: 0.9127, Testing Accuracy: 0.9244\n",
      "\n"
     ]
    },
    {
     "name": "stdout",
     "output_type": "stream",
     "text": [
      "Epoch 20, Loss 0.0785\n",
      "Training Accuracy: 0.9278, Testing Accuracy: 0.9385\n",
      "\n"
     ]
    },
    {
     "name": "stdout",
     "output_type": "stream",
     "text": [
      "Epoch 30, Loss 0.068\n",
      "Training Accuracy: 0.9352, Testing Accuracy: 0.9461\n",
      "\n"
     ]
    },
    {
     "name": "stdout",
     "output_type": "stream",
     "text": [
      "Epoch 40, Loss 0.0617\n",
      "Training Accuracy: 0.9401, Testing Accuracy: 0.9536\n",
      "\n"
     ]
    },
    {
     "name": "stdout",
     "output_type": "stream",
     "text": [
      "Epoch 50, Loss 0.0573\n",
      "Training Accuracy: 0.9431, Testing Accuracy: 0.9556\n",
      "\n"
     ]
    },
    {
     "name": "stdout",
     "output_type": "stream",
     "text": [
      "Epoch 60, Loss 0.0541\n",
      "Training Accuracy: 0.9461, Testing Accuracy: 0.9572\n",
      "\n"
     ]
    },
    {
     "name": "stdout",
     "output_type": "stream",
     "text": [
      "Epoch 70, Loss 0.0516\n",
      "Training Accuracy: 0.9483, Testing Accuracy: 0.9587\n",
      "\n"
     ]
    },
    {
     "name": "stdout",
     "output_type": "stream",
     "text": [
      "Epoch 80, Loss 0.0495\n",
      "Training Accuracy: 0.9507, Testing Accuracy: 0.9597\n",
      "\n"
     ]
    },
    {
     "name": "stdout",
     "output_type": "stream",
     "text": [
      "Epoch 90, Loss 0.0478\n",
      "Training Accuracy: 0.9522, Testing Accuracy: 0.9602\n",
      "\n"
     ]
    },
    {
     "name": "stdout",
     "output_type": "stream",
     "text": [
      "Epoch 100, Loss 0.0464\n",
      "Training Accuracy: 0.9527, Testing Accuracy: 0.9597\n",
      "\n"
     ]
    },
    {
     "name": "stdout",
     "output_type": "stream",
     "text": [
      "Epoch 110, Loss 0.0452\n",
      "Training Accuracy: 0.9528, Testing Accuracy: 0.9607\n",
      "\n"
     ]
    },
    {
     "name": "stdout",
     "output_type": "stream",
     "text": [
      "Epoch 120, Loss 0.0441\n",
      "Training Accuracy: 0.9540, Testing Accuracy: 0.9617\n",
      "\n"
     ]
    },
    {
     "name": "stdout",
     "output_type": "stream",
     "text": [
      "Epoch 130, Loss 0.0432\n",
      "Training Accuracy: 0.9548, Testing Accuracy: 0.9622\n",
      "\n"
     ]
    },
    {
     "name": "stdout",
     "output_type": "stream",
     "text": [
      "Epoch 140, Loss 0.0424\n",
      "Training Accuracy: 0.9557, Testing Accuracy: 0.9622\n",
      "\n"
     ]
    },
    {
     "name": "stdout",
     "output_type": "stream",
     "text": [
      "Epoch 150, Loss 0.0416\n",
      "Training Accuracy: 0.9565, Testing Accuracy: 0.9632\n",
      "\n"
     ]
    },
    {
     "name": "stdout",
     "output_type": "stream",
     "text": [
      "Epoch 160, Loss 0.0409\n",
      "Training Accuracy: 0.9571, Testing Accuracy: 0.9632\n",
      "\n"
     ]
    },
    {
     "name": "stdout",
     "output_type": "stream",
     "text": [
      "Epoch 170, Loss 0.0403\n",
      "Training Accuracy: 0.9575, Testing Accuracy: 0.9632\n",
      "\n"
     ]
    },
    {
     "name": "stdout",
     "output_type": "stream",
     "text": [
      "Epoch 180, Loss 0.0397\n",
      "Training Accuracy: 0.9579, Testing Accuracy: 0.9637\n",
      "\n"
     ]
    },
    {
     "name": "stdout",
     "output_type": "stream",
     "text": [
      "Epoch 190, Loss 0.0392\n",
      "Training Accuracy: 0.9582, Testing Accuracy: 0.9637\n",
      "\n"
     ]
    },
    {
     "name": "stdout",
     "output_type": "stream",
     "text": [
      "Epoch 200, Loss 0.0387\n",
      "Training Accuracy: 0.9589, Testing Accuracy: 0.9647\n",
      "\n"
     ]
    },
    {
     "name": "stdout",
     "output_type": "stream",
     "text": [
      "Epoch 210, Loss 0.0383\n",
      "Training Accuracy: 0.9590, Testing Accuracy: 0.9652\n",
      "\n"
     ]
    },
    {
     "name": "stdout",
     "output_type": "stream",
     "text": [
      "Epoch 220, Loss 0.0379\n",
      "Training Accuracy: 0.9595, Testing Accuracy: 0.9652\n",
      "\n"
     ]
    },
    {
     "name": "stdout",
     "output_type": "stream",
     "text": [
      "Epoch 230, Loss 0.0375\n",
      "Training Accuracy: 0.9596, Testing Accuracy: 0.9657\n",
      "\n"
     ]
    },
    {
     "name": "stdout",
     "output_type": "stream",
     "text": [
      "Epoch 240, Loss 0.0371\n",
      "Training Accuracy: 0.9597, Testing Accuracy: 0.9662\n",
      "\n"
     ]
    },
    {
     "data": {
      "text/plain": [
       "0.0443438483825744"
      ]
     },
     "execution_count": 23,
     "metadata": {},
     "output_type": "execute_result"
    }
   ],
   "source": [
    "lr_learner.train_loop(dl)"
   ]
  },
  {
   "cell_type": "code",
   "execution_count": 24,
   "id": "ca410940",
   "metadata": {
    "execution": {
     "iopub.execute_input": "2022-03-02T20:10:53.358607Z",
     "iopub.status.busy": "2022-03-02T20:10:53.356647Z",
     "iopub.status.idle": "2022-03-02T20:10:53.676653Z",
     "shell.execute_reply": "2022-03-02T20:10:53.676039Z"
    },
    "papermill": {
     "duration": 0.381708,
     "end_time": "2022-03-02T20:10:53.676841",
     "exception": false,
     "start_time": "2022-03-02T20:10:53.295133",
     "status": "completed"
    },
    "tags": []
   },
   "outputs": [
    {
     "data": {
      "text/plain": [
       "<matplotlib.legend.Legend at 0x7fc270fa1c88>"
      ]
     },
     "execution_count": 24,
     "metadata": {},
     "output_type": "execute_result"
    },
    {
     "data": {
      "image/png": "[encoded data removed]",
      "text/plain": [
       "<Figure size 1080x720 with 1 Axes>"
      ]
     },
     "metadata": {
      "needs_background": "light"
     },
     "output_type": "display_data"
    }
   ],
   "source": [
    "#comparing the results of NN and LR\n",
    "plt.figure(figsize=(15,10))\n",
    "\n",
    "# Neural Network plots\n",
    "plt.plot(acc_nn.accuracies, 'r-', label = \"Training Accuracies - NN\")\n",
    "plt.plot(acc_nn.test_accuracies, 'g-', label = \"Testing Accuracies - NN\")\n",
    "\n",
    "# Logistic Regression plots\n",
    "plt.plot(acc_lr.accuracies, 'k-', label = \"Training Accuracies - LR\")\n",
    "plt.plot(acc_lr.test_accuracies, 'b-', label = \"Testing Accuracies - LR\")\n",
    "plt.legend()"
   ]
  },
  {
   "cell_type": "markdown",
   "id": "80dfb35c",
   "metadata": {
    "papermill": {
     "duration": 0.055116,
     "end_time": "2022-03-02T20:10:53.788805",
     "exception": false,
     "start_time": "2022-03-02T20:10:53.733689",
     "status": "completed"
    },
    "tags": []
   },
   "source": [
    "#### Plotting the outputs of this layer of the NN.\n"
   ]
  },
  {
   "cell_type": "code",
   "execution_count": 25,
   "id": "45eb2ff5",
   "metadata": {
    "execution": {
     "iopub.execute_input": "2022-03-02T20:10:53.905071Z",
     "iopub.status.busy": "2022-03-02T20:10:53.904230Z",
     "iopub.status.idle": "2022-03-02T20:10:53.933674Z",
     "shell.execute_reply": "2022-03-02T20:10:53.934543Z"
    },
    "papermill": {
     "duration": 0.091059,
     "end_time": "2022-03-02T20:10:53.934737",
     "exception": false,
     "start_time": "2022-03-02T20:10:53.843678",
     "status": "completed"
    },
    "tags": []
   },
   "outputs": [],
   "source": [
    "new_model = Model(layers[:-2])\n",
    "testing_plot = new_model(testing_data_x)"
   ]
  },
  {
   "cell_type": "code",
   "execution_count": 26,
   "id": "4c0a5485",
   "metadata": {
    "execution": {
     "iopub.execute_input": "2022-03-02T20:10:54.059038Z",
     "iopub.status.busy": "2022-03-02T20:10:54.057901Z",
     "iopub.status.idle": "2022-03-02T20:10:54.331694Z",
     "shell.execute_reply": "2022-03-02T20:10:54.332825Z"
    },
    "papermill": {
     "duration": 0.339804,
     "end_time": "2022-03-02T20:10:54.333039",
     "exception": false,
     "start_time": "2022-03-02T20:10:53.993235",
     "status": "completed"
    },
    "tags": []
   },
   "outputs": [
    {
     "data": {
      "text/plain": [
       "Text(0.5, 1.0, 'Outputs')"
      ]
     },
     "execution_count": 26,
     "metadata": {},
     "output_type": "execute_result"
    },
    {
     "data": {
      "image/png": "[encoded data removed]",
      "text/plain": [
       "<Figure size 576x504 with 1 Axes>"
      ]
     },
     "metadata": {
      "needs_background": "light"
     },
     "output_type": "display_data"
    }
   ],
   "source": [
    "# Plotting the scatter plot of points and color coding by class\n",
    "plt.figure(figsize=(8,7))\n",
    "plt.scatter(testing_plot[:,0], testing_plot[:,1], alpha = 0.1, c = y_test.ravel());\n",
    "plt.title('Outputs')"
   ]
  },
  {
   "cell_type": "markdown",
   "id": "a74fcf8f",
   "metadata": {
    "papermill": {
     "duration": 0.058281,
     "end_time": "2022-03-02T20:10:54.450717",
     "exception": false,
     "start_time": "2022-03-02T20:10:54.392436",
     "status": "completed"
    },
    "tags": []
   },
   "source": [
    "Probability contours"
   ]
  },
  {
   "cell_type": "code",
   "execution_count": 27,
   "id": "d0afc8e3",
   "metadata": {
    "execution": {
     "iopub.execute_input": "2022-03-02T20:10:54.573315Z",
     "iopub.status.busy": "2022-03-02T20:10:54.571964Z",
     "iopub.status.idle": "2022-03-02T20:10:54.586260Z",
     "shell.execute_reply": "2022-03-02T20:10:54.585627Z"
    },
    "papermill": {
     "duration": 0.07665,
     "end_time": "2022-03-02T20:10:54.586462",
     "exception": false,
     "start_time": "2022-03-02T20:10:54.509812",
     "status": "completed"
    },
    "tags": []
   },
   "outputs": [],
   "source": [
    "model_prob = Model(layers[-2:]) "
   ]
  },
  {
   "cell_type": "code",
   "execution_count": 28,
   "id": "9b96e238",
   "metadata": {
    "execution": {
     "iopub.execute_input": "2022-03-02T20:10:54.749214Z",
     "iopub.status.busy": "2022-03-02T20:10:54.748404Z",
     "iopub.status.idle": "2022-03-02T20:10:54.766622Z",
     "shell.execute_reply": "2022-03-02T20:10:54.766008Z"
    },
    "papermill": {
     "duration": 0.118492,
     "end_time": "2022-03-02T20:10:54.766790",
     "exception": false,
     "start_time": "2022-03-02T20:10:54.648298",
     "status": "completed"
    },
    "tags": []
   },
   "outputs": [],
   "source": [
    "#creating the x and y ranges according to the above generated plot.\n",
    "x_range = np.linspace(-4, 1, 100) \n",
    "y_range = np.linspace(-6, 6, 100) \n",
    "x_grid, y_grid = np.meshgrid(x_range, y_range) # x_grid and y_grig are of size 100 X 100\n",
    "\n",
    "# converting x_grid and y_grid to continuous arrays\n",
    "x_gridflat = np.ravel(x_grid)\n",
    "y_gridflat = np.ravel(y_grid)\n",
    "\n",
    "# The last layer of the current model takes two columns as input. Hence transpose of np.vstack() is required.\n",
    "X = np.vstack((x_gridflat, y_gridflat)).T\n",
    "\n",
    "prob_contour = model_prob(X).reshape(100,100) "
   ]
  },
  {
   "cell_type": "code",
   "execution_count": 29,
   "id": "da72499a",
   "metadata": {
    "execution": {
     "iopub.execute_input": "2022-03-02T20:10:54.890593Z",
     "iopub.status.busy": "2022-03-02T20:10:54.889779Z",
     "iopub.status.idle": "2022-03-02T20:10:55.237095Z",
     "shell.execute_reply": "2022-03-02T20:10:55.236402Z"
    },
    "papermill": {
     "duration": 0.411631,
     "end_time": "2022-03-02T20:10:55.237232",
     "exception": false,
     "start_time": "2022-03-02T20:10:54.825601",
     "status": "completed"
    },
    "tags": []
   },
   "outputs": [
    {
     "data": {
      "image/png": "[encoded data removed]",
      "text/plain": [
       "<Figure size 720x648 with 1 Axes>"
      ]
     },
     "metadata": {
      "needs_background": "light"
     },
     "output_type": "display_data"
    }
   ],
   "source": [
    "plt.figure(figsize=(10,9))\n",
    "plt.scatter(testing_plot[:,0], testing_plot[:,1], alpha = 0.1, c = y_test.ravel())\n",
    "contours = plt.contour(x_grid,y_grid,prob_contour)\n",
    "plt.title('Probability Contours')\n",
    "plt.clabel(contours, inline = True );"
   ]
  },
  {
   "cell_type": "code",
   "execution_count": null,
   "id": "e81b4ac7",
   "metadata": {
    "papermill": {
     "duration": 0.061386,
     "end_time": "2022-03-02T20:10:55.361915",
     "exception": false,
     "start_time": "2022-03-02T20:10:55.300529",
     "status": "completed"
    },
    "tags": []
   },
   "outputs": [],
   "source": []
  }
 ],
 "metadata": {
  "kernelspec": {
   "display_name": "Python 3",
   "language": "python",
   "name": "python3"
  },
  "language_info": {
   "codemirror_mode": {
    "name": "ipython",
    "version": 3
   },
   "file_extension": ".py",
   "mimetype": "text/x-python",
   "name": "python",
   "nbconvert_exporter": "python",
   "pygments_lexer": "ipython3",
   "version": "3.6.15"
  },
  "papermill": {
   "default_parameters": {},
   "duration": 178.381326,
   "end_time": "2022-03-02T20:10:55.943304",
   "environment_variables": {},
   "exception": null,
   "input_path": "2020-08-11-part2.ipynb",
   "output_path": "2020-08-11-part2.ipynb",
   "parameters": {},
   "start_time": "2022-03-02T20:07:57.561978",
   "version": "2.3.3"
  }
 },
 "nbformat": 4,
 "nbformat_minor": 5
}