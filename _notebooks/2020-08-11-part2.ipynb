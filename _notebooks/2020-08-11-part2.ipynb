{
 "cells": [
  {
   "cell_type": "markdown",
   "id": "98380cd3",
   "metadata": {
    "papermill": {
     "duration": 0.031117,
     "end_time": "2022-08-11T00:41:58.468631",
     "exception": false,
     "start_time": "2022-08-11T00:41:58.437514",
     "status": "completed"
    },
    "tags": []
   },
   "source": [
    "# Distinguish Your Own Digits (DYOD)"
   ]
  },
  {
   "cell_type": "markdown",
   "id": "ef31240d",
   "metadata": {
    "papermill": {
     "duration": 0.024539,
     "end_time": "2022-08-11T00:41:58.517871",
     "exception": false,
     "start_time": "2022-08-11T00:41:58.493332",
     "status": "completed"
    },
    "tags": []
   },
   "source": [
    "You are going to write a classifier that distinguishes between the number 3 and number 8."
   ]
  },
  {
   "cell_type": "code",
   "execution_count": 1,
   "id": "b15c8646",
   "metadata": {
    "execution": {
     "iopub.execute_input": "2022-08-11T00:41:58.577571Z",
     "iopub.status.busy": "2022-08-11T00:41:58.576941Z",
     "iopub.status.idle": "2022-08-11T00:41:58.587792Z",
     "shell.execute_reply": "2022-08-11T00:41:58.587298Z"
    },
    "papermill": {
     "duration": 0.045995,
     "end_time": "2022-08-11T00:41:58.587920",
     "exception": false,
     "start_time": "2022-08-11T00:41:58.541925",
     "status": "completed"
    },
    "tags": []
   },
   "outputs": [],
   "source": [
    "%load_ext autoreload\n",
    "%autoreload 2"
   ]
  },
  {
   "cell_type": "code",
   "execution_count": 2,
   "id": "22ef38dc",
   "metadata": {
    "execution": {
     "iopub.execute_input": "2022-08-11T00:41:58.641317Z",
     "iopub.status.busy": "2022-08-11T00:41:58.640736Z",
     "iopub.status.idle": "2022-08-11T00:41:59.203195Z",
     "shell.execute_reply": "2022-08-11T00:41:59.202646Z"
    },
    "papermill": {
     "duration": 0.591344,
     "end_time": "2022-08-11T00:41:59.203324",
     "exception": false,
     "start_time": "2022-08-11T00:41:58.611980",
     "status": "completed"
    },
    "tags": []
   },
   "outputs": [],
   "source": [
    "%matplotlib inline\n",
    "import numpy as np\n",
    "import matplotlib.pyplot as plt\n",
    "import pandas as pd"
   ]
  },
  {
   "cell_type": "markdown",
   "id": "ba036198",
   "metadata": {
    "papermill": {
     "duration": 0.02409,
     "end_time": "2022-08-11T00:41:59.251414",
     "exception": false,
     "start_time": "2022-08-11T00:41:59.227324",
     "status": "completed"
    },
    "tags": []
   },
   "source": [
    "From the command line run `pip install mnist`. This is a library that will help you bring down the mnist dataset. If you run this from a notebook, you need to put  `!pip install mnist` in a cell by itself."
   ]
  },
  {
   "cell_type": "code",
   "execution_count": 3,
   "id": "bb6ad8a1",
   "metadata": {
    "execution": {
     "iopub.execute_input": "2022-08-11T00:41:59.304141Z",
     "iopub.status.busy": "2022-08-11T00:41:59.303572Z",
     "iopub.status.idle": "2022-08-11T00:42:00.973741Z",
     "shell.execute_reply": "2022-08-11T00:42:00.973139Z"
    },
    "papermill": {
     "duration": 1.698271,
     "end_time": "2022-08-11T00:42:00.973875",
     "exception": false,
     "start_time": "2022-08-11T00:41:59.275604",
     "status": "completed"
    },
    "tags": []
   },
   "outputs": [
    {
     "name": "stdout",
     "output_type": "stream",
     "text": [
      "Collecting mnist\r\n"
     ]
    },
    {
     "name": "stdout",
     "output_type": "stream",
     "text": [
      "  Downloading mnist-0.2.2-py2.py3-none-any.whl (3.5 kB)\r\n",
      "Requirement already satisfied: numpy in /opt/hostedtoolcache/Python/3.6.15/x64/lib/python3.6/site-packages (from mnist) (1.19.5)\r\n"
     ]
    },
    {
     "name": "stdout",
     "output_type": "stream",
     "text": [
      "Installing collected packages: mnist\r\n",
      "Successfully installed mnist-0.2.2\r\n"
     ]
    }
   ],
   "source": [
    "!pip install mnist"
   ]
  },
  {
   "cell_type": "markdown",
   "id": "69df9c9a",
   "metadata": {
    "papermill": {
     "duration": 0.024748,
     "end_time": "2022-08-11T00:42:01.023760",
     "exception": false,
     "start_time": "2022-08-11T00:42:00.999012",
     "status": "completed"
    },
    "tags": []
   },
   "source": [
    "## Preparing the Data"
   ]
  },
  {
   "cell_type": "code",
   "execution_count": 4,
   "id": "7f69d806",
   "metadata": {
    "execution": {
     "iopub.execute_input": "2022-08-11T00:42:01.091728Z",
     "iopub.status.busy": "2022-08-11T00:42:01.088781Z",
     "iopub.status.idle": "2022-08-11T00:42:01.096427Z",
     "shell.execute_reply": "2022-08-11T00:42:01.096871Z"
    },
    "papermill": {
     "duration": 0.048466,
     "end_time": "2022-08-11T00:42:01.096999",
     "exception": false,
     "start_time": "2022-08-11T00:42:01.048533",
     "status": "completed"
    },
    "tags": []
   },
   "outputs": [],
   "source": [
    "import mnist"
   ]
  },
  {
   "cell_type": "code",
   "execution_count": 5,
   "id": "a411e44f",
   "metadata": {
    "execution": {
     "iopub.execute_input": "2022-08-11T00:42:01.163514Z",
     "iopub.status.busy": "2022-08-11T00:42:01.151218Z",
     "iopub.status.idle": "2022-08-11T00:42:01.750119Z",
     "shell.execute_reply": "2022-08-11T00:42:01.749574Z"
    },
    "papermill": {
     "duration": 0.628481,
     "end_time": "2022-08-11T00:42:01.750244",
     "exception": false,
     "start_time": "2022-08-11T00:42:01.121763",
     "status": "completed"
    },
    "tags": []
   },
   "outputs": [],
   "source": [
    "train_images = mnist.train_images()\n",
    "train_labels = mnist.train_labels()"
   ]
  },
  {
   "cell_type": "code",
   "execution_count": 6,
   "id": "dceab3a5",
   "metadata": {
    "execution": {
     "iopub.execute_input": "2022-08-11T00:42:01.805736Z",
     "iopub.status.busy": "2022-08-11T00:42:01.804815Z",
     "iopub.status.idle": "2022-08-11T00:42:01.821762Z",
     "shell.execute_reply": "2022-08-11T00:42:01.821295Z"
    },
    "papermill": {
     "duration": 0.045441,
     "end_time": "2022-08-11T00:42:01.821873",
     "exception": false,
     "start_time": "2022-08-11T00:42:01.776432",
     "status": "completed"
    },
    "tags": []
   },
   "outputs": [
    {
     "data": {
      "text/plain": [
       "((60000, 28, 28), (60000,))"
      ]
     },
     "execution_count": 6,
     "metadata": {},
     "output_type": "execute_result"
    }
   ],
   "source": [
    "train_images.shape, train_labels.shape"
   ]
  },
  {
   "cell_type": "code",
   "execution_count": 7,
   "id": "f50dc2bb",
   "metadata": {
    "execution": {
     "iopub.execute_input": "2022-08-11T00:42:01.876346Z",
     "iopub.status.busy": "2022-08-11T00:42:01.875690Z",
     "iopub.status.idle": "2022-08-11T00:42:02.005631Z",
     "shell.execute_reply": "2022-08-11T00:42:02.005023Z"
    },
    "papermill": {
     "duration": 0.158694,
     "end_time": "2022-08-11T00:42:02.005766",
     "exception": false,
     "start_time": "2022-08-11T00:42:01.847072",
     "status": "completed"
    },
    "tags": []
   },
   "outputs": [],
   "source": [
    "test_images = mnist.test_images()\n",
    "test_labels = mnist.test_labels()"
   ]
  },
  {
   "cell_type": "code",
   "execution_count": 8,
   "id": "fc38cf1b",
   "metadata": {
    "execution": {
     "iopub.execute_input": "2022-08-11T00:42:02.069641Z",
     "iopub.status.busy": "2022-08-11T00:42:02.069030Z",
     "iopub.status.idle": "2022-08-11T00:42:02.078634Z",
     "shell.execute_reply": "2022-08-11T00:42:02.079121Z"
    },
    "papermill": {
     "duration": 0.047579,
     "end_time": "2022-08-11T00:42:02.079262",
     "exception": false,
     "start_time": "2022-08-11T00:42:02.031683",
     "status": "completed"
    },
    "tags": []
   },
   "outputs": [
    {
     "data": {
      "text/plain": [
       "((10000, 28, 28), (10000,))"
      ]
     },
     "execution_count": 8,
     "metadata": {},
     "output_type": "execute_result"
    }
   ],
   "source": [
    "test_images.shape, test_labels.shape"
   ]
  },
  {
   "cell_type": "code",
   "execution_count": 9,
   "id": "f9ed8fe0",
   "metadata": {
    "execution": {
     "iopub.execute_input": "2022-08-11T00:42:02.136494Z",
     "iopub.status.busy": "2022-08-11T00:42:02.135558Z",
     "iopub.status.idle": "2022-08-11T00:42:02.278227Z",
     "shell.execute_reply": "2022-08-11T00:42:02.277759Z"
    },
    "papermill": {
     "duration": 0.173779,
     "end_time": "2022-08-11T00:42:02.278355",
     "exception": false,
     "start_time": "2022-08-11T00:42:02.104576",
     "status": "completed"
    },
    "tags": []
   },
   "outputs": [
    {
     "name": "stdout",
     "output_type": "stream",
     "text": [
      "2\n"
     ]
    },
    {
     "data": {
      "text/plain": [
       "<matplotlib.image.AxesImage at 0x7fef7fbac4a8>"
      ]
     },
     "execution_count": 9,
     "metadata": {},
     "output_type": "execute_result"
    },
    {
     "data": {
      "image/png": "[encoded data removed]",
      "text/plain": [
       "<Figure size 432x288 with 1 Axes>"
      ]
     },
     "metadata": {
      "needs_background": "light"
     },
     "output_type": "display_data"
    }
   ],
   "source": [
    "image_index = 7776 # You may select anything up to 60,000\n",
    "print(train_labels[image_index]) \n",
    "plt.imshow(train_images[image_index], cmap='Greys')"
   ]
  },
  {
   "cell_type": "markdown",
   "id": "a8d2388d",
   "metadata": {
    "papermill": {
     "duration": 0.026353,
     "end_time": "2022-08-11T00:42:02.331600",
     "exception": false,
     "start_time": "2022-08-11T00:42:02.305247",
     "status": "completed"
    },
    "tags": []
   },
   "source": [
    "## Filter data to get 3 and 8 out"
   ]
  },
  {
   "cell_type": "code",
   "execution_count": 10,
   "id": "776f7fc7",
   "metadata": {
    "execution": {
     "iopub.execute_input": "2022-08-11T00:42:02.397562Z",
     "iopub.status.busy": "2022-08-11T00:42:02.396935Z",
     "iopub.status.idle": "2022-08-11T00:42:02.411997Z",
     "shell.execute_reply": "2022-08-11T00:42:02.412458Z"
    },
    "papermill": {
     "duration": 0.054613,
     "end_time": "2022-08-11T00:42:02.412603",
     "exception": false,
     "start_time": "2022-08-11T00:42:02.357990",
     "status": "completed"
    },
    "tags": []
   },
   "outputs": [],
   "source": [
    "train_filter = np.where((train_labels == 3 ) | (train_labels == 8))\n",
    "test_filter = np.where((test_labels == 3) | (test_labels == 8))\n",
    "X_train, y_train = train_images[train_filter], train_labels[train_filter]\n",
    "X_test, y_test = test_images[test_filter], test_labels[test_filter]"
   ]
  },
  {
   "cell_type": "markdown",
   "id": "948f0b7e",
   "metadata": {
    "papermill": {
     "duration": 0.026701,
     "end_time": "2022-08-11T00:42:02.465953",
     "exception": false,
     "start_time": "2022-08-11T00:42:02.439252",
     "status": "completed"
    },
    "tags": []
   },
   "source": [
    "We normalize the pizel values in the 0 to 1 range"
   ]
  },
  {
   "cell_type": "code",
   "execution_count": 11,
   "id": "ee4c2166",
   "metadata": {
    "execution": {
     "iopub.execute_input": "2022-08-11T00:42:02.523179Z",
     "iopub.status.busy": "2022-08-11T00:42:02.522554Z",
     "iopub.status.idle": "2022-08-11T00:42:02.572041Z",
     "shell.execute_reply": "2022-08-11T00:42:02.571505Z"
    },
    "papermill": {
     "duration": 0.079857,
     "end_time": "2022-08-11T00:42:02.572177",
     "exception": false,
     "start_time": "2022-08-11T00:42:02.492320",
     "status": "completed"
    },
    "tags": []
   },
   "outputs": [],
   "source": [
    "X_train = X_train/255.\n",
    "X_test = X_test/255."
   ]
  },
  {
   "cell_type": "markdown",
   "id": "ddcf4fab",
   "metadata": {
    "papermill": {
     "duration": 0.026491,
     "end_time": "2022-08-11T00:42:02.626964",
     "exception": false,
     "start_time": "2022-08-11T00:42:02.600473",
     "status": "completed"
    },
    "tags": []
   },
   "source": [
    "And setup the labels as 1 (when the digit is 3) and 0 (when the digit is 8)"
   ]
  },
  {
   "cell_type": "code",
   "execution_count": 12,
   "id": "7dc908f2",
   "metadata": {
    "execution": {
     "iopub.execute_input": "2022-08-11T00:42:02.686213Z",
     "iopub.status.busy": "2022-08-11T00:42:02.685027Z",
     "iopub.status.idle": "2022-08-11T00:42:02.697257Z",
     "shell.execute_reply": "2022-08-11T00:42:02.696787Z"
    },
    "papermill": {
     "duration": 0.044149,
     "end_time": "2022-08-11T00:42:02.697367",
     "exception": false,
     "start_time": "2022-08-11T00:42:02.653218",
     "status": "completed"
    },
    "tags": []
   },
   "outputs": [],
   "source": [
    "y_train = 1*(y_train==3)\n",
    "y_test = 1*(y_test==3)"
   ]
  },
  {
   "cell_type": "code",
   "execution_count": 13,
   "id": "01e4e969",
   "metadata": {
    "execution": {
     "iopub.execute_input": "2022-08-11T00:42:02.764484Z",
     "iopub.status.busy": "2022-08-11T00:42:02.763896Z",
     "iopub.status.idle": "2022-08-11T00:42:02.772680Z",
     "shell.execute_reply": "2022-08-11T00:42:02.772212Z"
    },
    "papermill": {
     "duration": 0.048967,
     "end_time": "2022-08-11T00:42:02.772793",
     "exception": false,
     "start_time": "2022-08-11T00:42:02.723826",
     "status": "completed"
    },
    "tags": []
   },
   "outputs": [
    {
     "data": {
      "text/plain": [
       "((11982, 28, 28), (1984, 28, 28))"
      ]
     },
     "execution_count": 13,
     "metadata": {},
     "output_type": "execute_result"
    }
   ],
   "source": [
    "X_train.shape, X_test.shape"
   ]
  },
  {
   "cell_type": "markdown",
   "id": "5ccf3f85",
   "metadata": {
    "papermill": {
     "duration": 0.026484,
     "end_time": "2022-08-11T00:42:02.825805",
     "exception": false,
     "start_time": "2022-08-11T00:42:02.799321",
     "status": "completed"
    },
    "tags": []
   },
   "source": [
    "We reshape the data to flatten the image pixels into a set of features or co-variates:"
   ]
  },
  {
   "cell_type": "code",
   "execution_count": 14,
   "id": "5286a4a3",
   "metadata": {
    "execution": {
     "iopub.execute_input": "2022-08-11T00:42:02.884118Z",
     "iopub.status.busy": "2022-08-11T00:42:02.883074Z",
     "iopub.status.idle": "2022-08-11T00:42:02.898238Z",
     "shell.execute_reply": "2022-08-11T00:42:02.898658Z"
    },
    "papermill": {
     "duration": 0.046338,
     "end_time": "2022-08-11T00:42:02.898810",
     "exception": false,
     "start_time": "2022-08-11T00:42:02.852472",
     "status": "completed"
    },
    "tags": []
   },
   "outputs": [
    {
     "data": {
      "text/plain": [
       "((11982, 784), (1984, 784))"
      ]
     },
     "execution_count": 14,
     "metadata": {},
     "output_type": "execute_result"
    }
   ],
   "source": [
    "X_train = X_train.reshape(X_train.shape[0], -1)\n",
    "X_test = X_test.reshape(X_test.shape[0], -1)\n",
    "X_train.shape, X_test.shape"
   ]
  },
  {
   "cell_type": "code",
   "execution_count": 15,
   "id": "73c5f88a",
   "metadata": {
    "execution": {
     "iopub.execute_input": "2022-08-11T00:42:02.957334Z",
     "iopub.status.busy": "2022-08-11T00:42:02.956750Z",
     "iopub.status.idle": "2022-08-11T00:42:02.975970Z",
     "shell.execute_reply": "2022-08-11T00:42:02.975499Z"
    },
    "papermill": {
     "duration": 0.050507,
     "end_time": "2022-08-11T00:42:02.976081",
     "exception": false,
     "start_time": "2022-08-11T00:42:02.925574",
     "status": "completed"
    },
    "tags": []
   },
   "outputs": [],
   "source": [
    "#Impoting functions from 'Kudzu'\n",
    "from kudzu.model import Model\n",
    "from kudzu.train import Learner\n",
    "from kudzu.optim import GD\n",
    "from kudzu.data import Data, Sampler,Dataloader\n",
    "\n",
    "from kudzu.callbacks import AccCallback\n",
    "from kudzu.callbacks import ClfCallback\n",
    "\n",
    "from kudzu.loss import MSE\n",
    "\n",
    "from kudzu.layer import Sigmoid,Relu\n",
    "from kudzu.layer import Affine"
   ]
  },
  {
   "cell_type": "markdown",
   "id": "bc01172a",
   "metadata": {
    "papermill": {
     "duration": 0.026728,
     "end_time": "2022-08-11T00:42:03.029691",
     "exception": false,
     "start_time": "2022-08-11T00:42:03.002963",
     "status": "completed"
    },
    "tags": []
   },
   "source": [
    "### Let us create a `Config` class, to store important parameters. \n",
    "This class essentially plays the role of a dictionary."
   ]
  },
  {
   "cell_type": "code",
   "execution_count": 16,
   "id": "978281aa",
   "metadata": {
    "execution": {
     "iopub.execute_input": "2022-08-11T00:42:03.093166Z",
     "iopub.status.busy": "2022-08-11T00:42:03.092578Z",
     "iopub.status.idle": "2022-08-11T00:42:03.101846Z",
     "shell.execute_reply": "2022-08-11T00:42:03.102268Z"
    },
    "papermill": {
     "duration": 0.045803,
     "end_time": "2022-08-11T00:42:03.102402",
     "exception": false,
     "start_time": "2022-08-11T00:42:03.056599",
     "status": "completed"
    },
    "tags": []
   },
   "outputs": [],
   "source": [
    "class Config:\n",
    "    pass\n",
    "config = Config()\n",
    "config.lr = 0.001\n",
    "config.num_epochs = 250\n",
    "config.bs = 50"
   ]
  },
  {
   "cell_type": "markdown",
   "id": "1385fa59",
   "metadata": {
    "papermill": {
     "duration": 0.026734,
     "end_time": "2022-08-11T00:42:03.156116",
     "exception": false,
     "start_time": "2022-08-11T00:42:03.129382",
     "status": "completed"
    },
    "tags": []
   },
   "source": [
    "### Running Models with the Training data\n",
    "Details about the network layers:\n",
    "- A first affine layer has 784 inputs and does 100 affine transforms. These are followed by a Relu\n",
    "- A second affine layer has 100 inputs from the 100 activations of the past layer, and does 100 affine transforms. These are followed by a Relu\n",
    "- A third affine layer has 100 activations and does 2 affine transformations to create an embedding for visualization. There is no non-linearity here.\n",
    "- A final \"logistic regression\" which has an affine transform from 2 inputs to 1 output, which is squeezed through a sigmoid.\n"
   ]
  },
  {
   "cell_type": "code",
   "execution_count": 17,
   "id": "2b9c66db",
   "metadata": {
    "execution": {
     "iopub.execute_input": "2022-08-11T00:42:03.219455Z",
     "iopub.status.busy": "2022-08-11T00:42:03.218841Z",
     "iopub.status.idle": "2022-08-11T00:42:03.228835Z",
     "shell.execute_reply": "2022-08-11T00:42:03.228358Z"
    },
    "papermill": {
     "duration": 0.045986,
     "end_time": "2022-08-11T00:42:03.228950",
     "exception": false,
     "start_time": "2022-08-11T00:42:03.182964",
     "status": "completed"
    },
    "tags": []
   },
   "outputs": [],
   "source": [
    "data = Data(X_train, y_train.reshape(-1,1))\n",
    "sampler = Sampler(data, config.bs, shuffle=True)\n",
    "\n",
    "dl = Dataloader(data, sampler)\n",
    "\n",
    "opt = GD(config.lr)\n",
    "loss = MSE()"
   ]
  },
  {
   "cell_type": "code",
   "execution_count": 18,
   "id": "b275e4c2",
   "metadata": {
    "execution": {
     "iopub.execute_input": "2022-08-11T00:42:03.294295Z",
     "iopub.status.busy": "2022-08-11T00:42:03.293709Z",
     "iopub.status.idle": "2022-08-11T00:42:03.302082Z",
     "shell.execute_reply": "2022-08-11T00:42:03.302498Z"
    },
    "papermill": {
     "duration": 0.046756,
     "end_time": "2022-08-11T00:42:03.302638",
     "exception": false,
     "start_time": "2022-08-11T00:42:03.255882",
     "status": "completed"
    },
    "tags": []
   },
   "outputs": [],
   "source": [
    "training_data_x = X_train\n",
    "testing_data_x = X_test\n",
    "training_data_y = y_train.reshape(-1,1)\n",
    "testing_data_y = y_test.reshape(-1,1)"
   ]
  },
  {
   "cell_type": "code",
   "execution_count": 19,
   "id": "76951160",
   "metadata": {
    "execution": {
     "iopub.execute_input": "2022-08-11T00:42:03.360993Z",
     "iopub.status.busy": "2022-08-11T00:42:03.360409Z",
     "iopub.status.idle": "2022-08-11T00:42:03.377155Z",
     "shell.execute_reply": "2022-08-11T00:42:03.377582Z"
    },
    "papermill": {
     "duration": 0.048373,
     "end_time": "2022-08-11T00:42:03.377721",
     "exception": false,
     "start_time": "2022-08-11T00:42:03.329348",
     "status": "completed"
    },
    "tags": []
   },
   "outputs": [
    {
     "name": "stdout",
     "output_type": "stream",
     "text": [
      "xavier\n",
      "xavier\n",
      "xavier\n",
      "xavier\n",
      "xavier\n"
     ]
    }
   ],
   "source": [
    "layers = [Affine(\"first\", 784, 100), Relu(\"first\"), Affine(\"second\", 100, 100), Relu(\"second\"), Affine(\"third\", 100, 2), Affine(\"last\", 2, 1), Sigmoid(\"last\")]\n",
    "model_nn = Model(layers)\n",
    "model_lr = Model([Affine(\"logits\", 784, 1), Sigmoid(\"sigmoid\")])"
   ]
  },
  {
   "cell_type": "code",
   "execution_count": 20,
   "id": "6eede77a",
   "metadata": {
    "execution": {
     "iopub.execute_input": "2022-08-11T00:42:03.436344Z",
     "iopub.status.busy": "2022-08-11T00:42:03.435778Z",
     "iopub.status.idle": "2022-08-11T00:42:03.448268Z",
     "shell.execute_reply": "2022-08-11T00:42:03.447693Z"
    },
    "papermill": {
     "duration": 0.04349,
     "end_time": "2022-08-11T00:42:03.448375",
     "exception": false,
     "start_time": "2022-08-11T00:42:03.404885",
     "status": "completed"
    },
    "tags": []
   },
   "outputs": [],
   "source": [
    "nn_learner = Learner(loss, model_nn, opt, config.num_epochs)\n",
    "acc_nn = ClfCallback(nn_learner, config.bs, training_data_x , testing_data_x, training_data_y, testing_data_y)\n",
    "nn_learner.set_callbacks([acc_nn])"
   ]
  },
  {
   "cell_type": "code",
   "execution_count": 21,
   "id": "877b6cc7",
   "metadata": {
    "execution": {
     "iopub.execute_input": "2022-08-11T00:42:03.506939Z",
     "iopub.status.busy": "2022-08-11T00:42:03.506347Z",
     "iopub.status.idle": "2022-08-11T00:42:03.518731Z",
     "shell.execute_reply": "2022-08-11T00:42:03.518249Z"
    },
    "papermill": {
     "duration": 0.043343,
     "end_time": "2022-08-11T00:42:03.518843",
     "exception": false,
     "start_time": "2022-08-11T00:42:03.475500",
     "status": "completed"
    },
    "tags": []
   },
   "outputs": [],
   "source": [
    "lr_learner = Learner(loss, model_lr, opt, config.num_epochs)\n",
    "acc_lr = ClfCallback(lr_learner, config.bs, training_data_x , testing_data_x, training_data_y, testing_data_y)\n",
    "lr_learner.set_callbacks([acc_lr])"
   ]
  },
  {
   "cell_type": "code",
   "execution_count": 22,
   "id": "d9b133c3",
   "metadata": {
    "execution": {
     "iopub.execute_input": "2022-08-11T00:42:03.577887Z",
     "iopub.status.busy": "2022-08-11T00:42:03.576972Z",
     "iopub.status.idle": "2022-08-11T00:43:18.991940Z",
     "shell.execute_reply": "2022-08-11T00:43:18.992798Z"
    },
    "papermill": {
     "duration": 75.44694,
     "end_time": "2022-08-11T00:43:18.992958",
     "exception": false,
     "start_time": "2022-08-11T00:42:03.546018",
     "status": "completed"
    },
    "tags": []
   },
   "outputs": [
    {
     "name": "stdout",
     "output_type": "stream",
     "text": [
      "Epoch 0, Loss 0.2547\n",
      "Training Accuracy: 0.5650, Testing Accuracy: 0.5403\n",
      "\n"
     ]
    },
    {
     "name": "stdout",
     "output_type": "stream",
     "text": [
      "Epoch 10, Loss 0.1025\n",
      "Training Accuracy: 0.9115, Testing Accuracy: 0.9229\n",
      "\n"
     ]
    },
    {
     "name": "stdout",
     "output_type": "stream",
     "text": [
      "Epoch 20, Loss 0.0599\n",
      "Training Accuracy: 0.9385, Testing Accuracy: 0.9471\n",
      "\n"
     ]
    },
    {
     "name": "stdout",
     "output_type": "stream",
     "text": [
      "Epoch 30, Loss 0.0463\n",
      "Training Accuracy: 0.9492, Testing Accuracy: 0.9592\n",
      "\n"
     ]
    },
    {
     "name": "stdout",
     "output_type": "stream",
     "text": [
      "Epoch 40, Loss 0.0398\n",
      "Training Accuracy: 0.9546, Testing Accuracy: 0.9637\n",
      "\n"
     ]
    },
    {
     "name": "stdout",
     "output_type": "stream",
     "text": [
      "Epoch 50, Loss 0.0358\n",
      "Training Accuracy: 0.9589, Testing Accuracy: 0.9662\n",
      "\n"
     ]
    },
    {
     "name": "stdout",
     "output_type": "stream",
     "text": [
      "Epoch 60, Loss 0.0331\n",
      "Training Accuracy: 0.9616, Testing Accuracy: 0.9672\n",
      "\n"
     ]
    },
    {
     "name": "stdout",
     "output_type": "stream",
     "text": [
      "Epoch 70, Loss 0.0311\n",
      "Training Accuracy: 0.9636, Testing Accuracy: 0.9688\n",
      "\n"
     ]
    },
    {
     "name": "stdout",
     "output_type": "stream",
     "text": [
      "Epoch 80, Loss 0.0294\n",
      "Training Accuracy: 0.9659, Testing Accuracy: 0.9698\n",
      "\n"
     ]
    },
    {
     "name": "stdout",
     "output_type": "stream",
     "text": [
      "Epoch 90, Loss 0.0281\n",
      "Training Accuracy: 0.9674, Testing Accuracy: 0.9703\n",
      "\n"
     ]
    },
    {
     "name": "stdout",
     "output_type": "stream",
     "text": [
      "Epoch 100, Loss 0.027\n",
      "Training Accuracy: 0.9685, Testing Accuracy: 0.9682\n",
      "\n"
     ]
    },
    {
     "name": "stdout",
     "output_type": "stream",
     "text": [
      "Epoch 110, Loss 0.026\n",
      "Training Accuracy: 0.9700, Testing Accuracy: 0.9682\n",
      "\n"
     ]
    },
    {
     "name": "stdout",
     "output_type": "stream",
     "text": [
      "Epoch 120, Loss 0.0251\n",
      "Training Accuracy: 0.9708, Testing Accuracy: 0.9688\n",
      "\n"
     ]
    },
    {
     "name": "stdout",
     "output_type": "stream",
     "text": [
      "Epoch 130, Loss 0.0243\n",
      "Training Accuracy: 0.9716, Testing Accuracy: 0.9698\n",
      "\n"
     ]
    },
    {
     "name": "stdout",
     "output_type": "stream",
     "text": [
      "Epoch 140, Loss 0.0236\n",
      "Training Accuracy: 0.9723, Testing Accuracy: 0.9703\n",
      "\n"
     ]
    },
    {
     "name": "stdout",
     "output_type": "stream",
     "text": [
      "Epoch 150, Loss 0.023\n",
      "Training Accuracy: 0.9730, Testing Accuracy: 0.9713\n",
      "\n"
     ]
    },
    {
     "name": "stdout",
     "output_type": "stream",
     "text": [
      "Epoch 160, Loss 0.0224\n",
      "Training Accuracy: 0.9743, Testing Accuracy: 0.9718\n",
      "\n"
     ]
    },
    {
     "name": "stdout",
     "output_type": "stream",
     "text": [
      "Epoch 170, Loss 0.0218\n",
      "Training Accuracy: 0.9748, Testing Accuracy: 0.9718\n",
      "\n"
     ]
    },
    {
     "name": "stdout",
     "output_type": "stream",
     "text": [
      "Epoch 180, Loss 0.0213\n",
      "Training Accuracy: 0.9758, Testing Accuracy: 0.9728\n",
      "\n"
     ]
    },
    {
     "name": "stdout",
     "output_type": "stream",
     "text": [
      "Epoch 190, Loss 0.0208\n",
      "Training Accuracy: 0.9766, Testing Accuracy: 0.9733\n",
      "\n"
     ]
    },
    {
     "name": "stdout",
     "output_type": "stream",
     "text": [
      "Epoch 200, Loss 0.0204\n",
      "Training Accuracy: 0.9775, Testing Accuracy: 0.9743\n",
      "\n"
     ]
    },
    {
     "name": "stdout",
     "output_type": "stream",
     "text": [
      "Epoch 210, Loss 0.0199\n",
      "Training Accuracy: 0.9782, Testing Accuracy: 0.9743\n",
      "\n"
     ]
    },
    {
     "name": "stdout",
     "output_type": "stream",
     "text": [
      "Epoch 220, Loss 0.0195\n",
      "Training Accuracy: 0.9789, Testing Accuracy: 0.9743\n",
      "\n"
     ]
    },
    {
     "name": "stdout",
     "output_type": "stream",
     "text": [
      "Epoch 230, Loss 0.0191\n",
      "Training Accuracy: 0.9791, Testing Accuracy: 0.9748\n",
      "\n"
     ]
    },
    {
     "name": "stdout",
     "output_type": "stream",
     "text": [
      "Epoch 240, Loss 0.0187\n",
      "Training Accuracy: 0.9792, Testing Accuracy: 0.9753\n",
      "\n"
     ]
    },
    {
     "data": {
      "text/plain": [
       "0.032081473033172145"
      ]
     },
     "execution_count": 22,
     "metadata": {},
     "output_type": "execute_result"
    }
   ],
   "source": [
    "nn_learner.train_loop(dl)"
   ]
  },
  {
   "cell_type": "code",
   "execution_count": 23,
   "id": "e0163366",
   "metadata": {
    "execution": {
     "iopub.execute_input": "2022-08-11T00:43:19.076201Z",
     "iopub.status.busy": "2022-08-11T00:43:19.075619Z",
     "iopub.status.idle": "2022-08-11T00:43:32.785889Z",
     "shell.execute_reply": "2022-08-11T00:43:32.786745Z"
    },
    "papermill": {
     "duration": 13.759156,
     "end_time": "2022-08-11T00:43:32.786900",
     "exception": false,
     "start_time": "2022-08-11T00:43:19.027744",
     "status": "completed"
    },
    "tags": []
   },
   "outputs": [
    {
     "name": "stdout",
     "output_type": "stream",
     "text": [
      "Epoch 0, Loss 0.2509\n",
      "Training Accuracy: 0.6511, Testing Accuracy: 0.6507\n",
      "\n"
     ]
    },
    {
     "name": "stdout",
     "output_type": "stream",
     "text": [
      "Epoch 10, Loss 0.0985\n",
      "Training Accuracy: 0.9228, Testing Accuracy: 0.9360\n",
      "\n"
     ]
    },
    {
     "name": "stdout",
     "output_type": "stream",
     "text": [
      "Epoch 20, Loss 0.0759\n",
      "Training Accuracy: 0.9352, Testing Accuracy: 0.9415\n",
      "\n"
     ]
    },
    {
     "name": "stdout",
     "output_type": "stream",
     "text": [
      "Epoch 30, Loss 0.0657\n",
      "Training Accuracy: 0.9419, Testing Accuracy: 0.9511\n",
      "\n"
     ]
    },
    {
     "name": "stdout",
     "output_type": "stream",
     "text": [
      "Epoch 40, Loss 0.0596\n",
      "Training Accuracy: 0.9453, Testing Accuracy: 0.9536\n",
      "\n"
     ]
    },
    {
     "name": "stdout",
     "output_type": "stream",
     "text": [
      "Epoch 50, Loss 0.0554\n",
      "Training Accuracy: 0.9482, Testing Accuracy: 0.9567\n",
      "\n"
     ]
    },
    {
     "name": "stdout",
     "output_type": "stream",
     "text": [
      "Epoch 60, Loss 0.0523\n",
      "Training Accuracy: 0.9503, Testing Accuracy: 0.9582\n",
      "\n"
     ]
    },
    {
     "name": "stdout",
     "output_type": "stream",
     "text": [
      "Epoch 70, Loss 0.0499\n",
      "Training Accuracy: 0.9520, Testing Accuracy: 0.9582\n",
      "\n"
     ]
    },
    {
     "name": "stdout",
     "output_type": "stream",
     "text": [
      "Epoch 80, Loss 0.048\n",
      "Training Accuracy: 0.9533, Testing Accuracy: 0.9597\n",
      "\n"
     ]
    },
    {
     "name": "stdout",
     "output_type": "stream",
     "text": [
      "Epoch 90, Loss 0.0464\n",
      "Training Accuracy: 0.9543, Testing Accuracy: 0.9602\n",
      "\n"
     ]
    },
    {
     "name": "stdout",
     "output_type": "stream",
     "text": [
      "Epoch 100, Loss 0.0451\n",
      "Training Accuracy: 0.9550, Testing Accuracy: 0.9622\n",
      "\n"
     ]
    },
    {
     "name": "stdout",
     "output_type": "stream",
     "text": [
      "Epoch 110, Loss 0.044\n",
      "Training Accuracy: 0.9558, Testing Accuracy: 0.9627\n",
      "\n"
     ]
    },
    {
     "name": "stdout",
     "output_type": "stream",
     "text": [
      "Epoch 120, Loss 0.043\n",
      "Training Accuracy: 0.9564, Testing Accuracy: 0.9632\n",
      "\n"
     ]
    },
    {
     "name": "stdout",
     "output_type": "stream",
     "text": [
      "Epoch 130, Loss 0.0421\n",
      "Training Accuracy: 0.9575, Testing Accuracy: 0.9637\n",
      "\n"
     ]
    },
    {
     "name": "stdout",
     "output_type": "stream",
     "text": [
      "Epoch 140, Loss 0.0413\n",
      "Training Accuracy: 0.9581, Testing Accuracy: 0.9637\n",
      "\n"
     ]
    },
    {
     "name": "stdout",
     "output_type": "stream",
     "text": [
      "Epoch 150, Loss 0.0406\n",
      "Training Accuracy: 0.9584, Testing Accuracy: 0.9637\n",
      "\n"
     ]
    },
    {
     "name": "stdout",
     "output_type": "stream",
     "text": [
      "Epoch 160, Loss 0.04\n",
      "Training Accuracy: 0.9593, Testing Accuracy: 0.9652\n",
      "\n"
     ]
    },
    {
     "name": "stdout",
     "output_type": "stream",
     "text": [
      "Epoch 170, Loss 0.0394\n",
      "Training Accuracy: 0.9597, Testing Accuracy: 0.9652\n",
      "\n"
     ]
    },
    {
     "name": "stdout",
     "output_type": "stream",
     "text": [
      "Epoch 180, Loss 0.0389\n",
      "Training Accuracy: 0.9599, Testing Accuracy: 0.9657\n",
      "\n"
     ]
    },
    {
     "name": "stdout",
     "output_type": "stream",
     "text": [
      "Epoch 190, Loss 0.0384\n",
      "Training Accuracy: 0.9603, Testing Accuracy: 0.9657\n",
      "\n"
     ]
    },
    {
     "name": "stdout",
     "output_type": "stream",
     "text": [
      "Epoch 200, Loss 0.0379\n",
      "Training Accuracy: 0.9607, Testing Accuracy: 0.9657\n",
      "\n"
     ]
    },
    {
     "name": "stdout",
     "output_type": "stream",
     "text": [
      "Epoch 210, Loss 0.0375\n",
      "Training Accuracy: 0.9609, Testing Accuracy: 0.9667\n",
      "\n"
     ]
    },
    {
     "name": "stdout",
     "output_type": "stream",
     "text": [
      "Epoch 220, Loss 0.0371\n",
      "Training Accuracy: 0.9613, Testing Accuracy: 0.9662\n",
      "\n"
     ]
    },
    {
     "name": "stdout",
     "output_type": "stream",
     "text": [
      "Epoch 230, Loss 0.0367\n",
      "Training Accuracy: 0.9614, Testing Accuracy: 0.9662\n",
      "\n"
     ]
    },
    {
     "name": "stdout",
     "output_type": "stream",
     "text": [
      "Epoch 240, Loss 0.0364\n",
      "Training Accuracy: 0.9618, Testing Accuracy: 0.9667\n",
      "\n"
     ]
    },
    {
     "data": {
      "text/plain": [
       "0.031862028446888166"
      ]
     },
     "execution_count": 23,
     "metadata": {},
     "output_type": "execute_result"
    }
   ],
   "source": [
    "lr_learner.train_loop(dl)"
   ]
  },
  {
   "cell_type": "code",
   "execution_count": 24,
   "id": "ca410940",
   "metadata": {
    "execution": {
     "iopub.execute_input": "2022-08-11T00:43:32.884362Z",
     "iopub.status.busy": "2022-08-11T00:43:32.883731Z",
     "iopub.status.idle": "2022-08-11T00:43:33.097797Z",
     "shell.execute_reply": "2022-08-11T00:43:33.098251Z"
    },
    "papermill": {
     "duration": 0.269962,
     "end_time": "2022-08-11T00:43:33.098395",
     "exception": false,
     "start_time": "2022-08-11T00:43:32.828433",
     "status": "completed"
    },
    "tags": []
   },
   "outputs": [
    {
     "data": {
      "text/plain": [
       "<matplotlib.legend.Legend at 0x7fef7f70cb00>"
      ]
     },
     "execution_count": 24,
     "metadata": {},
     "output_type": "execute_result"
    },
    {
     "data": {
      "image/png": "[encoded data removed]",
      "text/plain": [
       "<Figure size 1080x720 with 1 Axes>"
      ]
     },
     "metadata": {
      "needs_background": "light"
     },
     "output_type": "display_data"
    }
   ],
   "source": [
    "#comparing the results of NN and LR\n",
    "plt.figure(figsize=(15,10))\n",
    "\n",
    "# Neural Network plots\n",
    "plt.plot(acc_nn.accuracies, 'r-', label = \"Training Accuracies - NN\")\n",
    "plt.plot(acc_nn.test_accuracies, 'g-', label = \"Testing Accuracies - NN\")\n",
    "\n",
    "# Logistic Regression plots\n",
    "plt.plot(acc_lr.accuracies, 'k-', label = \"Training Accuracies - LR\")\n",
    "plt.plot(acc_lr.test_accuracies, 'b-', label = \"Testing Accuracies - LR\")\n",
    "plt.legend()"
   ]
  },
  {
   "cell_type": "markdown",
   "id": "80dfb35c",
   "metadata": {
    "papermill": {
     "duration": 0.041895,
     "end_time": "2022-08-11T00:43:33.182747",
     "exception": false,
     "start_time": "2022-08-11T00:43:33.140852",
     "status": "completed"
    },
    "tags": []
   },
   "source": [
    "#### Plotting the outputs of this layer of the NN.\n"
   ]
  },
  {
   "cell_type": "code",
   "execution_count": 25,
   "id": "45eb2ff5",
   "metadata": {
    "execution": {
     "iopub.execute_input": "2022-08-11T00:43:33.276626Z",
     "iopub.status.busy": "2022-08-11T00:43:33.275489Z",
     "iopub.status.idle": "2022-08-11T00:43:33.293653Z",
     "shell.execute_reply": "2022-08-11T00:43:33.293177Z"
    },
    "papermill": {
     "duration": 0.069016,
     "end_time": "2022-08-11T00:43:33.293783",
     "exception": false,
     "start_time": "2022-08-11T00:43:33.224767",
     "status": "completed"
    },
    "tags": []
   },
   "outputs": [],
   "source": [
    "new_model = Model(layers[:-2])\n",
    "testing_plot = new_model(testing_data_x)"
   ]
  },
  {
   "cell_type": "code",
   "execution_count": 26,
   "id": "4c0a5485",
   "metadata": {
    "execution": {
     "iopub.execute_input": "2022-08-11T00:43:33.385305Z",
     "iopub.status.busy": "2022-08-11T00:43:33.384710Z",
     "iopub.status.idle": "2022-08-11T00:43:33.593605Z",
     "shell.execute_reply": "2022-08-11T00:43:33.593138Z"
    },
    "papermill": {
     "duration": 0.25678,
     "end_time": "2022-08-11T00:43:33.593730",
     "exception": false,
     "start_time": "2022-08-11T00:43:33.336950",
     "status": "completed"
    },
    "tags": []
   },
   "outputs": [
    {
     "data": {
      "text/plain": [
       "Text(0.5, 1.0, 'Outputs')"
      ]
     },
     "execution_count": 26,
     "metadata": {},
     "output_type": "execute_result"
    },
    {
     "data": {
      "image/png": "[encoded data removed]",
      "text/plain": [
       "<Figure size 576x504 with 1 Axes>"
      ]
     },
     "metadata": {
      "needs_background": "light"
     },
     "output_type": "display_data"
    }
   ],
   "source": [
    "# Plotting the scatter plot of points and color coding by class\n",
    "plt.figure(figsize=(8,7))\n",
    "plt.scatter(testing_plot[:,0], testing_plot[:,1], alpha = 0.1, c = y_test.ravel());\n",
    "plt.title('Outputs')"
   ]
  },
  {
   "cell_type": "markdown",
   "id": "a74fcf8f",
   "metadata": {
    "papermill": {
     "duration": 0.044479,
     "end_time": "2022-08-11T00:43:33.682938",
     "exception": false,
     "start_time": "2022-08-11T00:43:33.638459",
     "status": "completed"
    },
    "tags": []
   },
   "source": [
    "Probability contours"
   ]
  },
  {
   "cell_type": "code",
   "execution_count": 27,
   "id": "d0afc8e3",
   "metadata": {
    "execution": {
     "iopub.execute_input": "2022-08-11T00:43:33.777819Z",
     "iopub.status.busy": "2022-08-11T00:43:33.777237Z",
     "iopub.status.idle": "2022-08-11T00:43:33.790332Z",
     "shell.execute_reply": "2022-08-11T00:43:33.790828Z"
    },
    "papermill": {
     "duration": 0.06298,
     "end_time": "2022-08-11T00:43:33.790961",
     "exception": false,
     "start_time": "2022-08-11T00:43:33.727981",
     "status": "completed"
    },
    "tags": []
   },
   "outputs": [],
   "source": [
    "model_prob = Model(layers[-2:]) "
   ]
  },
  {
   "cell_type": "code",
   "execution_count": 28,
   "id": "9b96e238",
   "metadata": {
    "execution": {
     "iopub.execute_input": "2022-08-11T00:43:33.885270Z",
     "iopub.status.busy": "2022-08-11T00:43:33.884669Z",
     "iopub.status.idle": "2022-08-11T00:43:33.900303Z",
     "shell.execute_reply": "2022-08-11T00:43:33.899862Z"
    },
    "papermill": {
     "duration": 0.065216,
     "end_time": "2022-08-11T00:43:33.900417",
     "exception": false,
     "start_time": "2022-08-11T00:43:33.835201",
     "status": "completed"
    },
    "tags": []
   },
   "outputs": [],
   "source": [
    "#creating the x and y ranges according to the above generated plot.\n",
    "x_range = np.linspace(-4, 1, 100) \n",
    "y_range = np.linspace(-6, 6, 100) \n",
    "x_grid, y_grid = np.meshgrid(x_range, y_range) # x_grid and y_grig are of size 100 X 100\n",
    "\n",
    "# converting x_grid and y_grid to continuous arrays\n",
    "x_gridflat = np.ravel(x_grid)\n",
    "y_gridflat = np.ravel(y_grid)\n",
    "\n",
    "# The last layer of the current model takes two columns as input. Hence transpose of np.vstack() is required.\n",
    "X = np.vstack((x_gridflat, y_gridflat)).T\n",
    "\n",
    "prob_contour = model_prob(X).reshape(100,100) "
   ]
  },
  {
   "cell_type": "code",
   "execution_count": 29,
   "id": "da72499a",
   "metadata": {
    "execution": {
     "iopub.execute_input": "2022-08-11T00:43:34.032081Z",
     "iopub.status.busy": "2022-08-11T00:43:34.031480Z",
     "iopub.status.idle": "2022-08-11T00:43:34.289500Z",
     "shell.execute_reply": "2022-08-11T00:43:34.288933Z"
    },
    "papermill": {
     "duration": 0.310193,
     "end_time": "2022-08-11T00:43:34.289633",
     "exception": false,
     "start_time": "2022-08-11T00:43:33.979440",
     "status": "completed"
    },
    "tags": []
   },
   "outputs": [
    {
     "data": {
      "image/png": "[encoded data removed]",
      "text/plain": [
       "<Figure size 720x648 with 1 Axes>"
      ]
     },
     "metadata": {
      "needs_background": "light"
     },
     "output_type": "display_data"
    }
   ],
   "source": [
    "plt.figure(figsize=(10,9))\n",
    "plt.scatter(testing_plot[:,0], testing_plot[:,1], alpha = 0.1, c = y_test.ravel())\n",
    "contours = plt.contour(x_grid,y_grid,prob_contour)\n",
    "plt.title('Probability Contours')\n",
    "plt.clabel(contours, inline = True );"
   ]
  },
  {
   "cell_type": "code",
   "execution_count": null,
   "id": "e81b4ac7",
   "metadata": {
    "papermill": {
     "duration": 0.046787,
     "end_time": "2022-08-11T00:43:34.383990",
     "exception": false,
     "start_time": "2022-08-11T00:43:34.337203",
     "status": "completed"
    },
    "tags": []
   },
   "outputs": [],
   "source": []
  }
 ],
 "metadata": {
  "kernelspec": {
   "display_name": "Python 3",
   "language": "python",
   "name": "python3"
  },
  "language_info": {
   "codemirror_mode": {
    "name": "ipython",
    "version": 3
   },
   "file_extension": ".py",
   "mimetype": "text/x-python",
   "name": "python",
   "nbconvert_exporter": "python",
   "pygments_lexer": "ipython3",
   "version": "3.6.15"
  },
  "papermill": {
   "default_parameters": {},
   "duration": 97.46119,
   "end_time": "2022-08-11T00:43:34.850002",
   "environment_variables": {},
   "exception": null,
   "input_path": "2020-08-11-part2.ipynb",
   "output_path": "2020-08-11-part2.ipynb",
   "parameters": {},
   "start_time": "2022-08-11T00:41:57.388812",
   "version": "2.3.3"
  }
 },
 "nbformat": 4,
 "nbformat_minor": 5
}