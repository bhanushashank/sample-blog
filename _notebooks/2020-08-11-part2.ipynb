{
 "cells": [
  {
   "cell_type": "markdown",
   "id": "98380cd3",
   "metadata": {
    "papermill": {
     "duration": 0.024892,
     "end_time": "2022-01-12T20:08:22.427748",
     "exception": false,
     "start_time": "2022-01-12T20:08:22.402856",
     "status": "completed"
    },
    "tags": []
   },
   "source": [
    "# Distinguish Your Own Digits (DYOD)"
   ]
  },
  {
   "cell_type": "markdown",
   "id": "ef31240d",
   "metadata": {
    "papermill": {
     "duration": 0.02109,
     "end_time": "2022-01-12T20:08:22.470688",
     "exception": false,
     "start_time": "2022-01-12T20:08:22.449598",
     "status": "completed"
    },
    "tags": []
   },
   "source": [
    "You are going to write a classifier that distinguishes between the number 3 and number 8."
   ]
  },
  {
   "cell_type": "code",
   "execution_count": 1,
   "id": "b15c8646",
   "metadata": {
    "execution": {
     "iopub.execute_input": "2022-01-12T20:08:22.523773Z",
     "iopub.status.busy": "2022-01-12T20:08:22.523289Z",
     "iopub.status.idle": "2022-01-12T20:08:22.532503Z",
     "shell.execute_reply": "2022-01-12T20:08:22.532853Z"
    },
    "papermill": {
     "duration": 0.041243,
     "end_time": "2022-01-12T20:08:22.533003",
     "exception": false,
     "start_time": "2022-01-12T20:08:22.491760",
     "status": "completed"
    },
    "tags": []
   },
   "outputs": [],
   "source": [
    "%load_ext autoreload\n",
    "%autoreload 2"
   ]
  },
  {
   "cell_type": "code",
   "execution_count": 2,
   "id": "22ef38dc",
   "metadata": {
    "execution": {
     "iopub.execute_input": "2022-01-12T20:08:22.581150Z",
     "iopub.status.busy": "2022-01-12T20:08:22.580691Z",
     "iopub.status.idle": "2022-01-12T20:08:23.122719Z",
     "shell.execute_reply": "2022-01-12T20:08:23.122054Z"
    },
    "papermill": {
     "duration": 0.568481,
     "end_time": "2022-01-12T20:08:23.122863",
     "exception": false,
     "start_time": "2022-01-12T20:08:22.554382",
     "status": "completed"
    },
    "tags": []
   },
   "outputs": [],
   "source": [
    "%matplotlib inline\n",
    "import numpy as np\n",
    "import matplotlib.pyplot as plt\n",
    "import pandas as pd"
   ]
  },
  {
   "cell_type": "markdown",
   "id": "ba036198",
   "metadata": {
    "papermill": {
     "duration": 0.021185,
     "end_time": "2022-01-12T20:08:23.167545",
     "exception": false,
     "start_time": "2022-01-12T20:08:23.146360",
     "status": "completed"
    },
    "tags": []
   },
   "source": [
    "From the command line run `pip install mnist`. This is a library that will help you bring down the mnist dataset. If you run this from a notebook, you need to put  `!pip install mnist` in a cell by itself."
   ]
  },
  {
   "cell_type": "code",
   "execution_count": 3,
   "id": "bb6ad8a1",
   "metadata": {
    "execution": {
     "iopub.execute_input": "2022-01-12T20:08:23.214623Z",
     "iopub.status.busy": "2022-01-12T20:08:23.214160Z",
     "iopub.status.idle": "2022-01-12T20:08:24.890987Z",
     "shell.execute_reply": "2022-01-12T20:08:24.890419Z"
    },
    "papermill": {
     "duration": 1.702308,
     "end_time": "2022-01-12T20:08:24.891128",
     "exception": false,
     "start_time": "2022-01-12T20:08:23.188820",
     "status": "completed"
    },
    "tags": []
   },
   "outputs": [
    {
     "name": "stdout",
     "output_type": "stream",
     "text": [
      "Collecting mnist\r\n"
     ]
    },
    {
     "name": "stdout",
     "output_type": "stream",
     "text": [
      "  Downloading mnist-0.2.2-py2.py3-none-any.whl (3.5 kB)\r\n",
      "Requirement already satisfied: numpy in /opt/hostedtoolcache/Python/3.6.15/x64/lib/python3.6/site-packages (from mnist) (1.19.5)\r\n"
     ]
    },
    {
     "name": "stdout",
     "output_type": "stream",
     "text": [
      "Installing collected packages: mnist\r\n"
     ]
    },
    {
     "name": "stdout",
     "output_type": "stream",
     "text": [
      "Successfully installed mnist-0.2.2\r\n"
     ]
    }
   ],
   "source": [
    "!pip install mnist"
   ]
  },
  {
   "cell_type": "markdown",
   "id": "69df9c9a",
   "metadata": {
    "papermill": {
     "duration": 0.022137,
     "end_time": "2022-01-12T20:08:24.935978",
     "exception": false,
     "start_time": "2022-01-12T20:08:24.913841",
     "status": "completed"
    },
    "tags": []
   },
   "source": [
    "## Preparing the Data"
   ]
  },
  {
   "cell_type": "code",
   "execution_count": 4,
   "id": "7f69d806",
   "metadata": {
    "execution": {
     "iopub.execute_input": "2022-01-12T20:08:24.984241Z",
     "iopub.status.busy": "2022-01-12T20:08:24.983775Z",
     "iopub.status.idle": "2022-01-12T20:08:24.997655Z",
     "shell.execute_reply": "2022-01-12T20:08:24.997252Z"
    },
    "papermill": {
     "duration": 0.039679,
     "end_time": "2022-01-12T20:08:24.997771",
     "exception": false,
     "start_time": "2022-01-12T20:08:24.958092",
     "status": "completed"
    },
    "tags": []
   },
   "outputs": [],
   "source": [
    "import mnist"
   ]
  },
  {
   "cell_type": "code",
   "execution_count": 5,
   "id": "a411e44f",
   "metadata": {
    "execution": {
     "iopub.execute_input": "2022-01-12T20:08:25.045969Z",
     "iopub.status.busy": "2022-01-12T20:08:25.045455Z",
     "iopub.status.idle": "2022-01-12T20:08:25.651031Z",
     "shell.execute_reply": "2022-01-12T20:08:25.650601Z"
    },
    "papermill": {
     "duration": 0.631055,
     "end_time": "2022-01-12T20:08:25.651152",
     "exception": false,
     "start_time": "2022-01-12T20:08:25.020097",
     "status": "completed"
    },
    "tags": []
   },
   "outputs": [],
   "source": [
    "train_images = mnist.train_images()\n",
    "train_labels = mnist.train_labels()"
   ]
  },
  {
   "cell_type": "code",
   "execution_count": 6,
   "id": "dceab3a5",
   "metadata": {
    "execution": {
     "iopub.execute_input": "2022-01-12T20:08:25.703812Z",
     "iopub.status.busy": "2022-01-12T20:08:25.703320Z",
     "iopub.status.idle": "2022-01-12T20:08:25.714256Z",
     "shell.execute_reply": "2022-01-12T20:08:25.713873Z"
    },
    "papermill": {
     "duration": 0.040804,
     "end_time": "2022-01-12T20:08:25.714368",
     "exception": false,
     "start_time": "2022-01-12T20:08:25.673564",
     "status": "completed"
    },
    "tags": []
   },
   "outputs": [
    {
     "data": {
      "text/plain": [
       "((60000, 28, 28), (60000,))"
      ]
     },
     "execution_count": 6,
     "metadata": {},
     "output_type": "execute_result"
    }
   ],
   "source": [
    "train_images.shape, train_labels.shape"
   ]
  },
  {
   "cell_type": "code",
   "execution_count": 7,
   "id": "f50dc2bb",
   "metadata": {
    "execution": {
     "iopub.execute_input": "2022-01-12T20:08:25.762701Z",
     "iopub.status.busy": "2022-01-12T20:08:25.762240Z",
     "iopub.status.idle": "2022-01-12T20:08:26.002573Z",
     "shell.execute_reply": "2022-01-12T20:08:26.002033Z"
    },
    "papermill": {
     "duration": 0.266007,
     "end_time": "2022-01-12T20:08:26.002725",
     "exception": false,
     "start_time": "2022-01-12T20:08:25.736718",
     "status": "completed"
    },
    "tags": []
   },
   "outputs": [],
   "source": [
    "test_images = mnist.test_images()\n",
    "test_labels = mnist.test_labels()"
   ]
  },
  {
   "cell_type": "code",
   "execution_count": 8,
   "id": "fc38cf1b",
   "metadata": {
    "execution": {
     "iopub.execute_input": "2022-01-12T20:08:26.053215Z",
     "iopub.status.busy": "2022-01-12T20:08:26.052757Z",
     "iopub.status.idle": "2022-01-12T20:08:26.065833Z",
     "shell.execute_reply": "2022-01-12T20:08:26.065443Z"
    },
    "papermill": {
     "duration": 0.03939,
     "end_time": "2022-01-12T20:08:26.065948",
     "exception": false,
     "start_time": "2022-01-12T20:08:26.026558",
     "status": "completed"
    },
    "tags": []
   },
   "outputs": [
    {
     "data": {
      "text/plain": [
       "((10000, 28, 28), (10000,))"
      ]
     },
     "execution_count": 8,
     "metadata": {},
     "output_type": "execute_result"
    }
   ],
   "source": [
    "test_images.shape, test_labels.shape"
   ]
  },
  {
   "cell_type": "code",
   "execution_count": 9,
   "id": "f9ed8fe0",
   "metadata": {
    "execution": {
     "iopub.execute_input": "2022-01-12T20:08:26.117464Z",
     "iopub.status.busy": "2022-01-12T20:08:26.117000Z",
     "iopub.status.idle": "2022-01-12T20:08:26.248503Z",
     "shell.execute_reply": "2022-01-12T20:08:26.248892Z"
    },
    "papermill": {
     "duration": 0.160595,
     "end_time": "2022-01-12T20:08:26.249025",
     "exception": false,
     "start_time": "2022-01-12T20:08:26.088430",
     "status": "completed"
    },
    "tags": []
   },
   "outputs": [
    {
     "name": "stdout",
     "output_type": "stream",
     "text": [
      "2\n"
     ]
    },
    {
     "data": {
      "text/plain": [
       "<matplotlib.image.AxesImage at 0x7ffb108ab7b8>"
      ]
     },
     "execution_count": 9,
     "metadata": {},
     "output_type": "execute_result"
    },
    {
     "data": {
      "image/png": "[encoded data removed]",
      "text/plain": [
       "<Figure size 432x288 with 1 Axes>"
      ]
     },
     "metadata": {
      "needs_background": "light"
     },
     "output_type": "display_data"
    }
   ],
   "source": [
    "image_index = 7776 # You may select anything up to 60,000\n",
    "print(train_labels[image_index]) \n",
    "plt.imshow(train_images[image_index], cmap='Greys')"
   ]
  },
  {
   "cell_type": "markdown",
   "id": "a8d2388d",
   "metadata": {
    "papermill": {
     "duration": 0.023464,
     "end_time": "2022-01-12T20:08:26.295928",
     "exception": false,
     "start_time": "2022-01-12T20:08:26.272464",
     "status": "completed"
    },
    "tags": []
   },
   "source": [
    "## Filter data to get 3 and 8 out"
   ]
  },
  {
   "cell_type": "code",
   "execution_count": 10,
   "id": "776f7fc7",
   "metadata": {
    "execution": {
     "iopub.execute_input": "2022-01-12T20:08:26.346800Z",
     "iopub.status.busy": "2022-01-12T20:08:26.345975Z",
     "iopub.status.idle": "2022-01-12T20:08:26.365697Z",
     "shell.execute_reply": "2022-01-12T20:08:26.366075Z"
    },
    "papermill": {
     "duration": 0.047066,
     "end_time": "2022-01-12T20:08:26.366203",
     "exception": false,
     "start_time": "2022-01-12T20:08:26.319137",
     "status": "completed"
    },
    "tags": []
   },
   "outputs": [],
   "source": [
    "train_filter = np.where((train_labels == 3 ) | (train_labels == 8))\n",
    "test_filter = np.where((test_labels == 3) | (test_labels == 8))\n",
    "X_train, y_train = train_images[train_filter], train_labels[train_filter]\n",
    "X_test, y_test = test_images[test_filter], test_labels[test_filter]"
   ]
  },
  {
   "cell_type": "markdown",
   "id": "948f0b7e",
   "metadata": {
    "papermill": {
     "duration": 0.02307,
     "end_time": "2022-01-12T20:08:26.412692",
     "exception": false,
     "start_time": "2022-01-12T20:08:26.389622",
     "status": "completed"
    },
    "tags": []
   },
   "source": [
    "We normalize the pizel values in the 0 to 1 range"
   ]
  },
  {
   "cell_type": "code",
   "execution_count": 11,
   "id": "ee4c2166",
   "metadata": {
    "execution": {
     "iopub.execute_input": "2022-01-12T20:08:26.462896Z",
     "iopub.status.busy": "2022-01-12T20:08:26.462409Z",
     "iopub.status.idle": "2022-01-12T20:08:26.508077Z",
     "shell.execute_reply": "2022-01-12T20:08:26.507623Z"
    },
    "papermill": {
     "duration": 0.072428,
     "end_time": "2022-01-12T20:08:26.508193",
     "exception": false,
     "start_time": "2022-01-12T20:08:26.435765",
     "status": "completed"
    },
    "tags": []
   },
   "outputs": [],
   "source": [
    "X_train = X_train/255.\n",
    "X_test = X_test/255."
   ]
  },
  {
   "cell_type": "markdown",
   "id": "ddcf4fab",
   "metadata": {
    "papermill": {
     "duration": 0.023586,
     "end_time": "2022-01-12T20:08:26.555614",
     "exception": false,
     "start_time": "2022-01-12T20:08:26.532028",
     "status": "completed"
    },
    "tags": []
   },
   "source": [
    "And setup the labels as 1 (when the digit is 3) and 0 (when the digit is 8)"
   ]
  },
  {
   "cell_type": "code",
   "execution_count": 12,
   "id": "7dc908f2",
   "metadata": {
    "execution": {
     "iopub.execute_input": "2022-01-12T20:08:26.605969Z",
     "iopub.status.busy": "2022-01-12T20:08:26.605466Z",
     "iopub.status.idle": "2022-01-12T20:08:26.617850Z",
     "shell.execute_reply": "2022-01-12T20:08:26.617458Z"
    },
    "papermill": {
     "duration": 0.038861,
     "end_time": "2022-01-12T20:08:26.617958",
     "exception": false,
     "start_time": "2022-01-12T20:08:26.579097",
     "status": "completed"
    },
    "tags": []
   },
   "outputs": [],
   "source": [
    "y_train = 1*(y_train==3)\n",
    "y_test = 1*(y_test==3)"
   ]
  },
  {
   "cell_type": "code",
   "execution_count": 13,
   "id": "01e4e969",
   "metadata": {
    "execution": {
     "iopub.execute_input": "2022-01-12T20:08:26.667925Z",
     "iopub.status.busy": "2022-01-12T20:08:26.667474Z",
     "iopub.status.idle": "2022-01-12T20:08:26.680527Z",
     "shell.execute_reply": "2022-01-12T20:08:26.680147Z"
    },
    "papermill": {
     "duration": 0.039458,
     "end_time": "2022-01-12T20:08:26.680625",
     "exception": false,
     "start_time": "2022-01-12T20:08:26.641167",
     "status": "completed"
    },
    "tags": []
   },
   "outputs": [
    {
     "data": {
      "text/plain": [
       "((11982, 28, 28), (1984, 28, 28))"
      ]
     },
     "execution_count": 13,
     "metadata": {},
     "output_type": "execute_result"
    }
   ],
   "source": [
    "X_train.shape, X_test.shape"
   ]
  },
  {
   "cell_type": "markdown",
   "id": "5ccf3f85",
   "metadata": {
    "papermill": {
     "duration": 0.02328,
     "end_time": "2022-01-12T20:08:26.727516",
     "exception": false,
     "start_time": "2022-01-12T20:08:26.704236",
     "status": "completed"
    },
    "tags": []
   },
   "source": [
    "We reshape the data to flatten the image pixels into a set of features or co-variates:"
   ]
  },
  {
   "cell_type": "code",
   "execution_count": 14,
   "id": "5286a4a3",
   "metadata": {
    "execution": {
     "iopub.execute_input": "2022-01-12T20:08:26.780686Z",
     "iopub.status.busy": "2022-01-12T20:08:26.780225Z",
     "iopub.status.idle": "2022-01-12T20:08:26.793014Z",
     "shell.execute_reply": "2022-01-12T20:08:26.792613Z"
    },
    "papermill": {
     "duration": 0.042114,
     "end_time": "2022-01-12T20:08:26.793122",
     "exception": false,
     "start_time": "2022-01-12T20:08:26.751008",
     "status": "completed"
    },
    "tags": []
   },
   "outputs": [
    {
     "data": {
      "text/plain": [
       "((11982, 784), (1984, 784))"
      ]
     },
     "execution_count": 14,
     "metadata": {},
     "output_type": "execute_result"
    }
   ],
   "source": [
    "X_train = X_train.reshape(X_train.shape[0], -1)\n",
    "X_test = X_test.reshape(X_test.shape[0], -1)\n",
    "X_train.shape, X_test.shape"
   ]
  },
  {
   "cell_type": "code",
   "execution_count": 15,
   "id": "73c5f88a",
   "metadata": {
    "execution": {
     "iopub.execute_input": "2022-01-12T20:08:26.847210Z",
     "iopub.status.busy": "2022-01-12T20:08:26.846737Z",
     "iopub.status.idle": "2022-01-12T20:08:26.863487Z",
     "shell.execute_reply": "2022-01-12T20:08:26.863843Z"
    },
    "papermill": {
     "duration": 0.046753,
     "end_time": "2022-01-12T20:08:26.863981",
     "exception": false,
     "start_time": "2022-01-12T20:08:26.817228",
     "status": "completed"
    },
    "tags": []
   },
   "outputs": [],
   "source": [
    "#Impoting functions from 'Kudzu'\n",
    "from kudzu.model import Model\n",
    "from kudzu.train import Learner\n",
    "from kudzu.optim import GD\n",
    "from kudzu.data import Data, Sampler,Dataloader\n",
    "\n",
    "from kudzu.callbacks import AccCallback\n",
    "from kudzu.callbacks import ClfCallback\n",
    "\n",
    "from kudzu.loss import MSE\n",
    "\n",
    "from kudzu.layer import Sigmoid,Relu\n",
    "from kudzu.layer import Affine"
   ]
  },
  {
   "cell_type": "markdown",
   "id": "bc01172a",
   "metadata": {
    "papermill": {
     "duration": 0.023958,
     "end_time": "2022-01-12T20:08:26.912121",
     "exception": false,
     "start_time": "2022-01-12T20:08:26.888163",
     "status": "completed"
    },
    "tags": []
   },
   "source": [
    "### Let us create a `Config` class, to store important parameters. \n",
    "This class essentially plays the role of a dictionary."
   ]
  },
  {
   "cell_type": "code",
   "execution_count": 16,
   "id": "978281aa",
   "metadata": {
    "execution": {
     "iopub.execute_input": "2022-01-12T20:08:26.963833Z",
     "iopub.status.busy": "2022-01-12T20:08:26.963364Z",
     "iopub.status.idle": "2022-01-12T20:08:26.976055Z",
     "shell.execute_reply": "2022-01-12T20:08:26.975673Z"
    },
    "papermill": {
     "duration": 0.040218,
     "end_time": "2022-01-12T20:08:26.976167",
     "exception": false,
     "start_time": "2022-01-12T20:08:26.935949",
     "status": "completed"
    },
    "tags": []
   },
   "outputs": [],
   "source": [
    "class Config:\n",
    "    pass\n",
    "config = Config()\n",
    "config.lr = 0.001\n",
    "config.num_epochs = 250\n",
    "config.bs = 50"
   ]
  },
  {
   "cell_type": "markdown",
   "id": "1385fa59",
   "metadata": {
    "papermill": {
     "duration": 0.023724,
     "end_time": "2022-01-12T20:08:27.024277",
     "exception": false,
     "start_time": "2022-01-12T20:08:27.000553",
     "status": "completed"
    },
    "tags": []
   },
   "source": [
    "### Running Models with the Training data\n",
    "Details about the network layers:\n",
    "- A first affine layer has 784 inputs and does 100 affine transforms. These are followed by a Relu\n",
    "- A second affine layer has 100 inputs from the 100 activations of the past layer, and does 100 affine transforms. These are followed by a Relu\n",
    "- A third affine layer has 100 activations and does 2 affine transformations to create an embedding for visualization. There is no non-linearity here.\n",
    "- A final \"logistic regression\" which has an affine transform from 2 inputs to 1 output, which is squeezed through a sigmoid.\n"
   ]
  },
  {
   "cell_type": "code",
   "execution_count": 17,
   "id": "2b9c66db",
   "metadata": {
    "execution": {
     "iopub.execute_input": "2022-01-12T20:08:27.078521Z",
     "iopub.status.busy": "2022-01-12T20:08:27.078035Z",
     "iopub.status.idle": "2022-01-12T20:08:27.089167Z",
     "shell.execute_reply": "2022-01-12T20:08:27.088802Z"
    },
    "papermill": {
     "duration": 0.040957,
     "end_time": "2022-01-12T20:08:27.089272",
     "exception": false,
     "start_time": "2022-01-12T20:08:27.048315",
     "status": "completed"
    },
    "tags": []
   },
   "outputs": [],
   "source": [
    "data = Data(X_train, y_train.reshape(-1,1))\n",
    "sampler = Sampler(data, config.bs, shuffle=True)\n",
    "\n",
    "dl = Dataloader(data, sampler)\n",
    "\n",
    "opt = GD(config.lr)\n",
    "loss = MSE()"
   ]
  },
  {
   "cell_type": "code",
   "execution_count": 18,
   "id": "b275e4c2",
   "metadata": {
    "execution": {
     "iopub.execute_input": "2022-01-12T20:08:27.142739Z",
     "iopub.status.busy": "2022-01-12T20:08:27.142278Z",
     "iopub.status.idle": "2022-01-12T20:08:27.152357Z",
     "shell.execute_reply": "2022-01-12T20:08:27.152701Z"
    },
    "papermill": {
     "duration": 0.039729,
     "end_time": "2022-01-12T20:08:27.152824",
     "exception": false,
     "start_time": "2022-01-12T20:08:27.113095",
     "status": "completed"
    },
    "tags": []
   },
   "outputs": [],
   "source": [
    "training_data_x = X_train\n",
    "testing_data_x = X_test\n",
    "training_data_y = y_train.reshape(-1,1)\n",
    "testing_data_y = y_test.reshape(-1,1)"
   ]
  },
  {
   "cell_type": "code",
   "execution_count": 19,
   "id": "76951160",
   "metadata": {
    "execution": {
     "iopub.execute_input": "2022-01-12T20:08:27.204525Z",
     "iopub.status.busy": "2022-01-12T20:08:27.204068Z",
     "iopub.status.idle": "2022-01-12T20:08:27.218916Z",
     "shell.execute_reply": "2022-01-12T20:08:27.218551Z"
    },
    "papermill": {
     "duration": 0.042502,
     "end_time": "2022-01-12T20:08:27.219027",
     "exception": false,
     "start_time": "2022-01-12T20:08:27.176525",
     "status": "completed"
    },
    "tags": []
   },
   "outputs": [
    {
     "name": "stdout",
     "output_type": "stream",
     "text": [
      "xavier\n",
      "xavier\n",
      "xavier\n",
      "xavier\n",
      "xavier\n"
     ]
    }
   ],
   "source": [
    "layers = [Affine(\"first\", 784, 100), Relu(\"first\"), Affine(\"second\", 100, 100), Relu(\"second\"), Affine(\"third\", 100, 2), Affine(\"last\", 2, 1), Sigmoid(\"last\")]\n",
    "model_nn = Model(layers)\n",
    "model_lr = Model([Affine(\"logits\", 784, 1), Sigmoid(\"sigmoid\")])"
   ]
  },
  {
   "cell_type": "code",
   "execution_count": 20,
   "id": "6eede77a",
   "metadata": {
    "execution": {
     "iopub.execute_input": "2022-01-12T20:08:27.272945Z",
     "iopub.status.busy": "2022-01-12T20:08:27.272490Z",
     "iopub.status.idle": "2022-01-12T20:08:27.283601Z",
     "shell.execute_reply": "2022-01-12T20:08:27.283221Z"
    },
    "papermill": {
     "duration": 0.040422,
     "end_time": "2022-01-12T20:08:27.283713",
     "exception": false,
     "start_time": "2022-01-12T20:08:27.243291",
     "status": "completed"
    },
    "tags": []
   },
   "outputs": [],
   "source": [
    "nn_learner = Learner(loss, model_nn, opt, config.num_epochs)\n",
    "acc_nn = ClfCallback(nn_learner, config.bs, training_data_x , testing_data_x, training_data_y, testing_data_y)\n",
    "nn_learner.set_callbacks([acc_nn])"
   ]
  },
  {
   "cell_type": "code",
   "execution_count": 21,
   "id": "877b6cc7",
   "metadata": {
    "execution": {
     "iopub.execute_input": "2022-01-12T20:08:27.346295Z",
     "iopub.status.busy": "2022-01-12T20:08:27.342349Z",
     "iopub.status.idle": "2022-01-12T20:08:27.349998Z",
     "shell.execute_reply": "2022-01-12T20:08:27.349614Z"
    },
    "papermill": {
     "duration": 0.042167,
     "end_time": "2022-01-12T20:08:27.350104",
     "exception": false,
     "start_time": "2022-01-12T20:08:27.307937",
     "status": "completed"
    },
    "tags": []
   },
   "outputs": [],
   "source": [
    "lr_learner = Learner(loss, model_lr, opt, config.num_epochs)\n",
    "acc_lr = ClfCallback(lr_learner, config.bs, training_data_x , testing_data_x, training_data_y, testing_data_y)\n",
    "lr_learner.set_callbacks([acc_lr])"
   ]
  },
  {
   "cell_type": "code",
   "execution_count": 22,
   "id": "d9b133c3",
   "metadata": {
    "execution": {
     "iopub.execute_input": "2022-01-12T20:08:27.405438Z",
     "iopub.status.busy": "2022-01-12T20:08:27.401374Z",
     "iopub.status.idle": "2022-01-12T20:09:44.331406Z",
     "shell.execute_reply": "2022-01-12T20:09:44.332103Z"
    },
    "papermill": {
     "duration": 76.958002,
     "end_time": "2022-01-12T20:09:44.332251",
     "exception": false,
     "start_time": "2022-01-12T20:08:27.374249",
     "status": "completed"
    },
    "tags": []
   },
   "outputs": [
    {
     "name": "stdout",
     "output_type": "stream",
     "text": [
      "Epoch 0, Loss 0.2514\n",
      "Training Accuracy: 0.5220, Testing Accuracy: 0.5126\n",
      "\n"
     ]
    },
    {
     "name": "stdout",
     "output_type": "stream",
     "text": [
      "Epoch 10, Loss 0.1884\n",
      "Training Accuracy: 0.8782, Testing Accuracy: 0.8906\n",
      "\n"
     ]
    },
    {
     "name": "stdout",
     "output_type": "stream",
     "text": [
      "Epoch 20, Loss 0.0972\n",
      "Training Accuracy: 0.9144, Testing Accuracy: 0.9259\n",
      "\n"
     ]
    },
    {
     "name": "stdout",
     "output_type": "stream",
     "text": [
      "Epoch 30, Loss 0.0622\n",
      "Training Accuracy: 0.9368, Testing Accuracy: 0.9471\n",
      "\n"
     ]
    },
    {
     "name": "stdout",
     "output_type": "stream",
     "text": [
      "Epoch 40, Loss 0.0488\n",
      "Training Accuracy: 0.9470, Testing Accuracy: 0.9556\n",
      "\n"
     ]
    },
    {
     "name": "stdout",
     "output_type": "stream",
     "text": [
      "Epoch 50, Loss 0.042\n",
      "Training Accuracy: 0.9528, Testing Accuracy: 0.9632\n",
      "\n"
     ]
    },
    {
     "name": "stdout",
     "output_type": "stream",
     "text": [
      "Epoch 60, Loss 0.0378\n",
      "Training Accuracy: 0.9558, Testing Accuracy: 0.9627\n",
      "\n"
     ]
    },
    {
     "name": "stdout",
     "output_type": "stream",
     "text": [
      "Epoch 70, Loss 0.0349\n",
      "Training Accuracy: 0.9594, Testing Accuracy: 0.9652\n",
      "\n"
     ]
    },
    {
     "name": "stdout",
     "output_type": "stream",
     "text": [
      "Epoch 80, Loss 0.0328\n",
      "Training Accuracy: 0.9615, Testing Accuracy: 0.9652\n",
      "\n"
     ]
    },
    {
     "name": "stdout",
     "output_type": "stream",
     "text": [
      "Epoch 90, Loss 0.0311\n",
      "Training Accuracy: 0.9634, Testing Accuracy: 0.9672\n",
      "\n"
     ]
    },
    {
     "name": "stdout",
     "output_type": "stream",
     "text": [
      "Epoch 100, Loss 0.0297\n",
      "Training Accuracy: 0.9654, Testing Accuracy: 0.9682\n",
      "\n"
     ]
    },
    {
     "name": "stdout",
     "output_type": "stream",
     "text": [
      "Epoch 110, Loss 0.0285\n",
      "Training Accuracy: 0.9666, Testing Accuracy: 0.9693\n",
      "\n"
     ]
    },
    {
     "name": "stdout",
     "output_type": "stream",
     "text": [
      "Epoch 120, Loss 0.0275\n",
      "Training Accuracy: 0.9677, Testing Accuracy: 0.9703\n",
      "\n"
     ]
    },
    {
     "name": "stdout",
     "output_type": "stream",
     "text": [
      "Epoch 130, Loss 0.0266\n",
      "Training Accuracy: 0.9685, Testing Accuracy: 0.9708\n",
      "\n"
     ]
    },
    {
     "name": "stdout",
     "output_type": "stream",
     "text": [
      "Epoch 140, Loss 0.0258\n",
      "Training Accuracy: 0.9695, Testing Accuracy: 0.9713\n",
      "\n"
     ]
    },
    {
     "name": "stdout",
     "output_type": "stream",
     "text": [
      "Epoch 150, Loss 0.0251\n",
      "Training Accuracy: 0.9703, Testing Accuracy: 0.9708\n",
      "\n"
     ]
    },
    {
     "name": "stdout",
     "output_type": "stream",
     "text": [
      "Epoch 160, Loss 0.0245\n",
      "Training Accuracy: 0.9710, Testing Accuracy: 0.9718\n",
      "\n"
     ]
    },
    {
     "name": "stdout",
     "output_type": "stream",
     "text": [
      "Epoch 170, Loss 0.0239\n",
      "Training Accuracy: 0.9719, Testing Accuracy: 0.9728\n",
      "\n"
     ]
    },
    {
     "name": "stdout",
     "output_type": "stream",
     "text": [
      "Epoch 180, Loss 0.0233\n",
      "Training Accuracy: 0.9729, Testing Accuracy: 0.9733\n",
      "\n"
     ]
    },
    {
     "name": "stdout",
     "output_type": "stream",
     "text": [
      "Epoch 190, Loss 0.0228\n",
      "Training Accuracy: 0.9739, Testing Accuracy: 0.9738\n",
      "\n"
     ]
    },
    {
     "name": "stdout",
     "output_type": "stream",
     "text": [
      "Epoch 200, Loss 0.0224\n",
      "Training Accuracy: 0.9746, Testing Accuracy: 0.9738\n",
      "\n"
     ]
    },
    {
     "name": "stdout",
     "output_type": "stream",
     "text": [
      "Epoch 210, Loss 0.0219\n",
      "Training Accuracy: 0.9750, Testing Accuracy: 0.9743\n",
      "\n"
     ]
    },
    {
     "name": "stdout",
     "output_type": "stream",
     "text": [
      "Epoch 220, Loss 0.0215\n",
      "Training Accuracy: 0.9758, Testing Accuracy: 0.9738\n",
      "\n"
     ]
    },
    {
     "name": "stdout",
     "output_type": "stream",
     "text": [
      "Epoch 230, Loss 0.0211\n",
      "Training Accuracy: 0.9764, Testing Accuracy: 0.9748\n",
      "\n"
     ]
    },
    {
     "name": "stdout",
     "output_type": "stream",
     "text": [
      "Epoch 240, Loss 0.0207\n",
      "Training Accuracy: 0.9767, Testing Accuracy: 0.9748\n",
      "\n"
     ]
    },
    {
     "data": {
      "text/plain": [
       "0.031061252855477582"
      ]
     },
     "execution_count": 22,
     "metadata": {},
     "output_type": "execute_result"
    }
   ],
   "source": [
    "nn_learner.train_loop(dl)"
   ]
  },
  {
   "cell_type": "code",
   "execution_count": 23,
   "id": "e0163366",
   "metadata": {
    "execution": {
     "iopub.execute_input": "2022-01-12T20:09:44.402920Z",
     "iopub.status.busy": "2022-01-12T20:09:44.402444Z",
     "iopub.status.idle": "2022-01-12T20:09:58.232497Z",
     "shell.execute_reply": "2022-01-12T20:09:58.233165Z"
    },
    "papermill": {
     "duration": 13.869942,
     "end_time": "2022-01-12T20:09:58.233304",
     "exception": false,
     "start_time": "2022-01-12T20:09:44.363362",
     "status": "completed"
    },
    "tags": []
   },
   "outputs": [
    {
     "name": "stdout",
     "output_type": "stream",
     "text": [
      "Epoch 0, Loss 0.2449\n",
      "Training Accuracy: 0.6867, Testing Accuracy: 0.7213\n",
      "\n"
     ]
    },
    {
     "name": "stdout",
     "output_type": "stream",
     "text": [
      "Epoch 10, Loss 0.1002\n",
      "Training Accuracy: 0.9180, Testing Accuracy: 0.9269\n",
      "\n"
     ]
    },
    {
     "name": "stdout",
     "output_type": "stream",
     "text": [
      "Epoch 20, Loss 0.0776\n",
      "Training Accuracy: 0.9310, Testing Accuracy: 0.9435\n",
      "\n"
     ]
    },
    {
     "name": "stdout",
     "output_type": "stream",
     "text": [
      "Epoch 30, Loss 0.0672\n",
      "Training Accuracy: 0.9380, Testing Accuracy: 0.9491\n",
      "\n"
     ]
    },
    {
     "name": "stdout",
     "output_type": "stream",
     "text": [
      "Epoch 40, Loss 0.0609\n",
      "Training Accuracy: 0.9412, Testing Accuracy: 0.9531\n",
      "\n"
     ]
    },
    {
     "name": "stdout",
     "output_type": "stream",
     "text": [
      "Epoch 50, Loss 0.0565\n",
      "Training Accuracy: 0.9440, Testing Accuracy: 0.9551\n",
      "\n"
     ]
    },
    {
     "name": "stdout",
     "output_type": "stream",
     "text": [
      "Epoch 60, Loss 0.0533\n",
      "Training Accuracy: 0.9476, Testing Accuracy: 0.9577\n",
      "\n"
     ]
    },
    {
     "name": "stdout",
     "output_type": "stream",
     "text": [
      "Epoch 70, Loss 0.0508\n",
      "Training Accuracy: 0.9490, Testing Accuracy: 0.9602\n",
      "\n"
     ]
    },
    {
     "name": "stdout",
     "output_type": "stream",
     "text": [
      "Epoch 80, Loss 0.0489\n",
      "Training Accuracy: 0.9505, Testing Accuracy: 0.9622\n",
      "\n"
     ]
    },
    {
     "name": "stdout",
     "output_type": "stream",
     "text": [
      "Epoch 90, Loss 0.0472\n",
      "Training Accuracy: 0.9516, Testing Accuracy: 0.9627\n",
      "\n"
     ]
    },
    {
     "name": "stdout",
     "output_type": "stream",
     "text": [
      "Epoch 100, Loss 0.0458\n",
      "Training Accuracy: 0.9521, Testing Accuracy: 0.9627\n",
      "\n"
     ]
    },
    {
     "name": "stdout",
     "output_type": "stream",
     "text": [
      "Epoch 110, Loss 0.0446\n",
      "Training Accuracy: 0.9529, Testing Accuracy: 0.9637\n",
      "\n"
     ]
    },
    {
     "name": "stdout",
     "output_type": "stream",
     "text": [
      "Epoch 120, Loss 0.0436\n",
      "Training Accuracy: 0.9533, Testing Accuracy: 0.9647\n",
      "\n"
     ]
    },
    {
     "name": "stdout",
     "output_type": "stream",
     "text": [
      "Epoch 130, Loss 0.0427\n",
      "Training Accuracy: 0.9543, Testing Accuracy: 0.9657\n",
      "\n"
     ]
    },
    {
     "name": "stdout",
     "output_type": "stream",
     "text": [
      "Epoch 140, Loss 0.0419\n",
      "Training Accuracy: 0.9548, Testing Accuracy: 0.9657\n",
      "\n"
     ]
    },
    {
     "name": "stdout",
     "output_type": "stream",
     "text": [
      "Epoch 150, Loss 0.0411\n",
      "Training Accuracy: 0.9558, Testing Accuracy: 0.9657\n",
      "\n"
     ]
    },
    {
     "name": "stdout",
     "output_type": "stream",
     "text": [
      "Epoch 160, Loss 0.0405\n",
      "Training Accuracy: 0.9570, Testing Accuracy: 0.9657\n",
      "\n"
     ]
    },
    {
     "name": "stdout",
     "output_type": "stream",
     "text": [
      "Epoch 170, Loss 0.0399\n",
      "Training Accuracy: 0.9576, Testing Accuracy: 0.9657\n",
      "\n"
     ]
    },
    {
     "name": "stdout",
     "output_type": "stream",
     "text": [
      "Epoch 180, Loss 0.0393\n",
      "Training Accuracy: 0.9579, Testing Accuracy: 0.9652\n",
      "\n"
     ]
    },
    {
     "name": "stdout",
     "output_type": "stream",
     "text": [
      "Epoch 190, Loss 0.0388\n",
      "Training Accuracy: 0.9584, Testing Accuracy: 0.9652\n",
      "\n"
     ]
    },
    {
     "name": "stdout",
     "output_type": "stream",
     "text": [
      "Epoch 200, Loss 0.0383\n",
      "Training Accuracy: 0.9586, Testing Accuracy: 0.9652\n",
      "\n"
     ]
    },
    {
     "name": "stdout",
     "output_type": "stream",
     "text": [
      "Epoch 210, Loss 0.0379\n",
      "Training Accuracy: 0.9589, Testing Accuracy: 0.9652\n",
      "\n"
     ]
    },
    {
     "name": "stdout",
     "output_type": "stream",
     "text": [
      "Epoch 220, Loss 0.0375\n",
      "Training Accuracy: 0.9594, Testing Accuracy: 0.9652\n",
      "\n"
     ]
    },
    {
     "name": "stdout",
     "output_type": "stream",
     "text": [
      "Epoch 230, Loss 0.0371\n",
      "Training Accuracy: 0.9595, Testing Accuracy: 0.9657\n",
      "\n"
     ]
    },
    {
     "name": "stdout",
     "output_type": "stream",
     "text": [
      "Epoch 240, Loss 0.0368\n",
      "Training Accuracy: 0.9599, Testing Accuracy: 0.9667\n",
      "\n"
     ]
    },
    {
     "data": {
      "text/plain": [
       "0.04213820288927862"
      ]
     },
     "execution_count": 23,
     "metadata": {},
     "output_type": "execute_result"
    }
   ],
   "source": [
    "lr_learner.train_loop(dl)"
   ]
  },
  {
   "cell_type": "code",
   "execution_count": 24,
   "id": "ca410940",
   "metadata": {
    "execution": {
     "iopub.execute_input": "2022-01-12T20:09:58.315041Z",
     "iopub.status.busy": "2022-01-12T20:09:58.314572Z",
     "iopub.status.idle": "2022-01-12T20:09:58.516616Z",
     "shell.execute_reply": "2022-01-12T20:09:58.516125Z"
    },
    "papermill": {
     "duration": 0.246567,
     "end_time": "2022-01-12T20:09:58.516755",
     "exception": false,
     "start_time": "2022-01-12T20:09:58.270188",
     "status": "completed"
    },
    "tags": []
   },
   "outputs": [
    {
     "data": {
      "text/plain": [
       "<matplotlib.legend.Legend at 0x7ffb10493a90>"
      ]
     },
     "execution_count": 24,
     "metadata": {},
     "output_type": "execute_result"
    },
    {
     "data": {
      "image/png": "[encoded data removed]",
      "text/plain": [
       "<Figure size 1080x720 with 1 Axes>"
      ]
     },
     "metadata": {
      "needs_background": "light"
     },
     "output_type": "display_data"
    }
   ],
   "source": [
    "#comparing the results of NN and LR\n",
    "plt.figure(figsize=(15,10))\n",
    "\n",
    "# Neural Network plots\n",
    "plt.plot(acc_nn.accuracies, 'r-', label = \"Training Accuracies - NN\")\n",
    "plt.plot(acc_nn.test_accuracies, 'g-', label = \"Testing Accuracies - NN\")\n",
    "\n",
    "# Logistic Regression plots\n",
    "plt.plot(acc_lr.accuracies, 'k-', label = \"Training Accuracies - LR\")\n",
    "plt.plot(acc_lr.test_accuracies, 'b-', label = \"Testing Accuracies - LR\")\n",
    "plt.legend()"
   ]
  },
  {
   "cell_type": "markdown",
   "id": "80dfb35c",
   "metadata": {
    "papermill": {
     "duration": 0.037438,
     "end_time": "2022-01-12T20:09:58.593223",
     "exception": false,
     "start_time": "2022-01-12T20:09:58.555785",
     "status": "completed"
    },
    "tags": []
   },
   "source": [
    "#### Plotting the outputs of this layer of the NN.\n"
   ]
  },
  {
   "cell_type": "code",
   "execution_count": 25,
   "id": "45eb2ff5",
   "metadata": {
    "execution": {
     "iopub.execute_input": "2022-01-12T20:09:58.673937Z",
     "iopub.status.busy": "2022-01-12T20:09:58.673428Z",
     "iopub.status.idle": "2022-01-12T20:09:58.692368Z",
     "shell.execute_reply": "2022-01-12T20:09:58.692762Z"
    },
    "papermill": {
     "duration": 0.061681,
     "end_time": "2022-01-12T20:09:58.692899",
     "exception": false,
     "start_time": "2022-01-12T20:09:58.631218",
     "status": "completed"
    },
    "tags": []
   },
   "outputs": [],
   "source": [
    "new_model = Model(layers[:-2])\n",
    "testing_plot = new_model(testing_data_x)"
   ]
  },
  {
   "cell_type": "code",
   "execution_count": 26,
   "id": "4c0a5485",
   "metadata": {
    "execution": {
     "iopub.execute_input": "2022-01-12T20:09:58.773074Z",
     "iopub.status.busy": "2022-01-12T20:09:58.772612Z",
     "iopub.status.idle": "2022-01-12T20:09:58.960133Z",
     "shell.execute_reply": "2022-01-12T20:09:58.959643Z"
    },
    "papermill": {
     "duration": 0.229095,
     "end_time": "2022-01-12T20:09:58.960270",
     "exception": false,
     "start_time": "2022-01-12T20:09:58.731175",
     "status": "completed"
    },
    "tags": []
   },
   "outputs": [
    {
     "data": {
      "text/plain": [
       "Text(0.5, 1.0, 'Outputs')"
      ]
     },
     "execution_count": 26,
     "metadata": {},
     "output_type": "execute_result"
    },
    {
     "data": {
      "image/png": "[encoded data removed]",
      "text/plain": [
       "<Figure size 576x504 with 1 Axes>"
      ]
     },
     "metadata": {
      "needs_background": "light"
     },
     "output_type": "display_data"
    }
   ],
   "source": [
    "# Plotting the scatter plot of points and color coding by class\n",
    "plt.figure(figsize=(8,7))\n",
    "plt.scatter(testing_plot[:,0], testing_plot[:,1], alpha = 0.1, c = y_test.ravel());\n",
    "plt.title('Outputs')"
   ]
  },
  {
   "cell_type": "markdown",
   "id": "a74fcf8f",
   "metadata": {
    "papermill": {
     "duration": 0.038588,
     "end_time": "2022-01-12T20:09:59.038875",
     "exception": false,
     "start_time": "2022-01-12T20:09:59.000287",
     "status": "completed"
    },
    "tags": []
   },
   "source": [
    "Probability contours"
   ]
  },
  {
   "cell_type": "code",
   "execution_count": 27,
   "id": "d0afc8e3",
   "metadata": {
    "execution": {
     "iopub.execute_input": "2022-01-12T20:09:59.133693Z",
     "iopub.status.busy": "2022-01-12T20:09:59.127854Z",
     "iopub.status.idle": "2022-01-12T20:09:59.136870Z",
     "shell.execute_reply": "2022-01-12T20:09:59.136500Z"
    },
    "papermill": {
     "duration": 0.059235,
     "end_time": "2022-01-12T20:09:59.136973",
     "exception": false,
     "start_time": "2022-01-12T20:09:59.077738",
     "status": "completed"
    },
    "tags": []
   },
   "outputs": [],
   "source": [
    "model_prob = Model(layers[-2:]) "
   ]
  },
  {
   "cell_type": "code",
   "execution_count": 28,
   "id": "9b96e238",
   "metadata": {
    "execution": {
     "iopub.execute_input": "2022-01-12T20:09:59.247832Z",
     "iopub.status.busy": "2022-01-12T20:09:59.247365Z",
     "iopub.status.idle": "2022-01-12T20:09:59.260056Z",
     "shell.execute_reply": "2022-01-12T20:09:59.260422Z"
    },
    "papermill": {
     "duration": 0.084975,
     "end_time": "2022-01-12T20:09:59.260539",
     "exception": false,
     "start_time": "2022-01-12T20:09:59.175564",
     "status": "completed"
    },
    "tags": []
   },
   "outputs": [],
   "source": [
    "#creating the x and y ranges according to the above generated plot.\n",
    "x_range = np.linspace(-4, 1, 100) \n",
    "y_range = np.linspace(-6, 6, 100) \n",
    "x_grid, y_grid = np.meshgrid(x_range, y_range) # x_grid and y_grig are of size 100 X 100\n",
    "\n",
    "# converting x_grid and y_grid to continuous arrays\n",
    "x_gridflat = np.ravel(x_grid)\n",
    "y_gridflat = np.ravel(y_grid)\n",
    "\n",
    "# The last layer of the current model takes two columns as input. Hence transpose of np.vstack() is required.\n",
    "X = np.vstack((x_gridflat, y_gridflat)).T\n",
    "\n",
    "prob_contour = model_prob(X).reshape(100,100) "
   ]
  },
  {
   "cell_type": "code",
   "execution_count": 29,
   "id": "da72499a",
   "metadata": {
    "execution": {
     "iopub.execute_input": "2022-01-12T20:09:59.350597Z",
     "iopub.status.busy": "2022-01-12T20:09:59.350133Z",
     "iopub.status.idle": "2022-01-12T20:09:59.566382Z",
     "shell.execute_reply": "2022-01-12T20:09:59.565945Z"
    },
    "papermill": {
     "duration": 0.266955,
     "end_time": "2022-01-12T20:09:59.566500",
     "exception": false,
     "start_time": "2022-01-12T20:09:59.299545",
     "status": "completed"
    },
    "tags": []
   },
   "outputs": [
    {
     "data": {
      "image/png": "[encoded data removed]",
      "text/plain": [
       "<Figure size 720x648 with 1 Axes>"
      ]
     },
     "metadata": {
      "needs_background": "light"
     },
     "output_type": "display_data"
    }
   ],
   "source": [
    "plt.figure(figsize=(10,9))\n",
    "plt.scatter(testing_plot[:,0], testing_plot[:,1], alpha = 0.1, c = y_test.ravel())\n",
    "contours = plt.contour(x_grid,y_grid,prob_contour)\n",
    "plt.title('Probability Contours')\n",
    "plt.clabel(contours, inline = True );"
   ]
  },
  {
   "cell_type": "code",
   "execution_count": null,
   "id": "e81b4ac7",
   "metadata": {
    "papermill": {
     "duration": 0.041389,
     "end_time": "2022-01-12T20:09:59.649274",
     "exception": false,
     "start_time": "2022-01-12T20:09:59.607885",
     "status": "completed"
    },
    "tags": []
   },
   "outputs": [],
   "source": []
  }
 ],
 "metadata": {
  "kernelspec": {
   "display_name": "Python 3",
   "language": "python",
   "name": "python3"
  },
  "language_info": {
   "codemirror_mode": {
    "name": "ipython",
    "version": 3
   },
   "file_extension": ".py",
   "mimetype": "text/x-python",
   "name": "python",
   "nbconvert_exporter": "python",
   "pygments_lexer": "ipython3",
   "version": "3.6.15"
  },
  "papermill": {
   "default_parameters": {},
   "duration": 98.781739,
   "end_time": "2022-01-12T20:10:00.098868",
   "environment_variables": {},
   "exception": null,
   "input_path": "2020-08-11-part2.ipynb",
   "output_path": "2020-08-11-part2.ipynb",
   "parameters": {},
   "start_time": "2022-01-12T20:08:21.317129",
   "version": "2.3.3"
  }
 },
 "nbformat": 4,
 "nbformat_minor": 5
}