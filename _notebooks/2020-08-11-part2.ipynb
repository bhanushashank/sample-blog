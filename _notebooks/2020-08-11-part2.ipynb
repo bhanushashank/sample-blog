{
 "cells": [
  {
   "cell_type": "markdown",
   "id": "98380cd3",
   "metadata": {
    "papermill": {
     "duration": 0.028164,
     "end_time": "2022-04-11T00:33:42.031880",
     "exception": false,
     "start_time": "2022-04-11T00:33:42.003716",
     "status": "completed"
    },
    "tags": []
   },
   "source": [
    "# Distinguish Your Own Digits (DYOD)"
   ]
  },
  {
   "cell_type": "markdown",
   "id": "ef31240d",
   "metadata": {
    "papermill": {
     "duration": 0.025798,
     "end_time": "2022-04-11T00:33:42.083052",
     "exception": false,
     "start_time": "2022-04-11T00:33:42.057254",
     "status": "completed"
    },
    "tags": []
   },
   "source": [
    "You are going to write a classifier that distinguishes between the number 3 and number 8."
   ]
  },
  {
   "cell_type": "code",
   "execution_count": 1,
   "id": "b15c8646",
   "metadata": {
    "execution": {
     "iopub.execute_input": "2022-04-11T00:33:42.141849Z",
     "iopub.status.busy": "2022-04-11T00:33:42.141347Z",
     "iopub.status.idle": "2022-04-11T00:33:42.151265Z",
     "shell.execute_reply": "2022-04-11T00:33:42.151633Z"
    },
    "papermill": {
     "duration": 0.044204,
     "end_time": "2022-04-11T00:33:42.151764",
     "exception": false,
     "start_time": "2022-04-11T00:33:42.107560",
     "status": "completed"
    },
    "tags": []
   },
   "outputs": [],
   "source": [
    "%load_ext autoreload\n",
    "%autoreload 2"
   ]
  },
  {
   "cell_type": "code",
   "execution_count": 2,
   "id": "22ef38dc",
   "metadata": {
    "execution": {
     "iopub.execute_input": "2022-04-11T00:33:42.204203Z",
     "iopub.status.busy": "2022-04-11T00:33:42.203681Z",
     "iopub.status.idle": "2022-04-11T00:33:42.703335Z",
     "shell.execute_reply": "2022-04-11T00:33:42.702459Z"
    },
    "papermill": {
     "duration": 0.52708,
     "end_time": "2022-04-11T00:33:42.703459",
     "exception": false,
     "start_time": "2022-04-11T00:33:42.176379",
     "status": "completed"
    },
    "tags": []
   },
   "outputs": [],
   "source": [
    "%matplotlib inline\n",
    "import numpy as np\n",
    "import matplotlib.pyplot as plt\n",
    "import pandas as pd"
   ]
  },
  {
   "cell_type": "markdown",
   "id": "ba036198",
   "metadata": {
    "papermill": {
     "duration": 0.024641,
     "end_time": "2022-04-11T00:33:42.752898",
     "exception": false,
     "start_time": "2022-04-11T00:33:42.728257",
     "status": "completed"
    },
    "tags": []
   },
   "source": [
    "From the command line run `pip install mnist`. This is a library that will help you bring down the mnist dataset. If you run this from a notebook, you need to put  `!pip install mnist` in a cell by itself."
   ]
  },
  {
   "cell_type": "code",
   "execution_count": 3,
   "id": "bb6ad8a1",
   "metadata": {
    "execution": {
     "iopub.execute_input": "2022-04-11T00:33:42.806160Z",
     "iopub.status.busy": "2022-04-11T00:33:42.805227Z",
     "iopub.status.idle": "2022-04-11T00:33:44.569368Z",
     "shell.execute_reply": "2022-04-11T00:33:44.568924Z"
    },
    "papermill": {
     "duration": 1.792017,
     "end_time": "2022-04-11T00:33:44.569480",
     "exception": false,
     "start_time": "2022-04-11T00:33:42.777463",
     "status": "completed"
    },
    "tags": []
   },
   "outputs": [
    {
     "name": "stdout",
     "output_type": "stream",
     "text": [
      "Collecting mnist\r\n"
     ]
    },
    {
     "name": "stdout",
     "output_type": "stream",
     "text": [
      "  Downloading mnist-0.2.2-py2.py3-none-any.whl (3.5 kB)\r\n",
      "Requirement already satisfied: numpy in /opt/hostedtoolcache/Python/3.6.15/x64/lib/python3.6/site-packages (from mnist) (1.19.5)\r\n"
     ]
    },
    {
     "name": "stdout",
     "output_type": "stream",
     "text": [
      "Installing collected packages: mnist\r\n"
     ]
    },
    {
     "name": "stdout",
     "output_type": "stream",
     "text": [
      "Successfully installed mnist-0.2.2\r\n"
     ]
    }
   ],
   "source": [
    "!pip install mnist"
   ]
  },
  {
   "cell_type": "markdown",
   "id": "69df9c9a",
   "metadata": {
    "papermill": {
     "duration": 0.02627,
     "end_time": "2022-04-11T00:33:44.621815",
     "exception": false,
     "start_time": "2022-04-11T00:33:44.595545",
     "status": "completed"
    },
    "tags": []
   },
   "source": [
    "## Preparing the Data"
   ]
  },
  {
   "cell_type": "code",
   "execution_count": 4,
   "id": "7f69d806",
   "metadata": {
    "execution": {
     "iopub.execute_input": "2022-04-11T00:33:44.676713Z",
     "iopub.status.busy": "2022-04-11T00:33:44.676206Z",
     "iopub.status.idle": "2022-04-11T00:33:44.700108Z",
     "shell.execute_reply": "2022-04-11T00:33:44.700514Z"
    },
    "papermill": {
     "duration": 0.053085,
     "end_time": "2022-04-11T00:33:44.700625",
     "exception": false,
     "start_time": "2022-04-11T00:33:44.647540",
     "status": "completed"
    },
    "tags": []
   },
   "outputs": [],
   "source": [
    "import mnist"
   ]
  },
  {
   "cell_type": "code",
   "execution_count": 5,
   "id": "a411e44f",
   "metadata": {
    "execution": {
     "iopub.execute_input": "2022-04-11T00:33:44.755810Z",
     "iopub.status.busy": "2022-04-11T00:33:44.755323Z",
     "iopub.status.idle": "2022-04-11T00:33:45.395660Z",
     "shell.execute_reply": "2022-04-11T00:33:45.394704Z"
    },
    "papermill": {
     "duration": 0.669406,
     "end_time": "2022-04-11T00:33:45.395783",
     "exception": false,
     "start_time": "2022-04-11T00:33:44.726377",
     "status": "completed"
    },
    "tags": []
   },
   "outputs": [],
   "source": [
    "train_images = mnist.train_images()\n",
    "train_labels = mnist.train_labels()"
   ]
  },
  {
   "cell_type": "code",
   "execution_count": 6,
   "id": "dceab3a5",
   "metadata": {
    "execution": {
     "iopub.execute_input": "2022-04-11T00:33:45.450912Z",
     "iopub.status.busy": "2022-04-11T00:33:45.450124Z",
     "iopub.status.idle": "2022-04-11T00:33:45.463639Z",
     "shell.execute_reply": "2022-04-11T00:33:45.463223Z"
    },
    "papermill": {
     "duration": 0.041815,
     "end_time": "2022-04-11T00:33:45.463735",
     "exception": false,
     "start_time": "2022-04-11T00:33:45.421920",
     "status": "completed"
    },
    "tags": []
   },
   "outputs": [
    {
     "data": {
      "text/plain": [
       "((60000, 28, 28), (60000,))"
      ]
     },
     "execution_count": 6,
     "metadata": {},
     "output_type": "execute_result"
    }
   ],
   "source": [
    "train_images.shape, train_labels.shape"
   ]
  },
  {
   "cell_type": "code",
   "execution_count": 7,
   "id": "f50dc2bb",
   "metadata": {
    "execution": {
     "iopub.execute_input": "2022-04-11T00:33:45.518605Z",
     "iopub.status.busy": "2022-04-11T00:33:45.518116Z",
     "iopub.status.idle": "2022-04-11T00:33:45.759584Z",
     "shell.execute_reply": "2022-04-11T00:33:45.759149Z"
    },
    "papermill": {
     "duration": 0.270055,
     "end_time": "2022-04-11T00:33:45.759692",
     "exception": false,
     "start_time": "2022-04-11T00:33:45.489637",
     "status": "completed"
    },
    "tags": []
   },
   "outputs": [],
   "source": [
    "test_images = mnist.test_images()\n",
    "test_labels = mnist.test_labels()"
   ]
  },
  {
   "cell_type": "code",
   "execution_count": 8,
   "id": "fc38cf1b",
   "metadata": {
    "execution": {
     "iopub.execute_input": "2022-04-11T00:33:45.816326Z",
     "iopub.status.busy": "2022-04-11T00:33:45.815815Z",
     "iopub.status.idle": "2022-04-11T00:33:45.826909Z",
     "shell.execute_reply": "2022-04-11T00:33:45.827358Z"
    },
    "papermill": {
     "duration": 0.041495,
     "end_time": "2022-04-11T00:33:45.827467",
     "exception": false,
     "start_time": "2022-04-11T00:33:45.785972",
     "status": "completed"
    },
    "tags": []
   },
   "outputs": [
    {
     "data": {
      "text/plain": [
       "((10000, 28, 28), (10000,))"
      ]
     },
     "execution_count": 8,
     "metadata": {},
     "output_type": "execute_result"
    }
   ],
   "source": [
    "test_images.shape, test_labels.shape"
   ]
  },
  {
   "cell_type": "code",
   "execution_count": 9,
   "id": "f9ed8fe0",
   "metadata": {
    "execution": {
     "iopub.execute_input": "2022-04-11T00:33:45.882904Z",
     "iopub.status.busy": "2022-04-11T00:33:45.882424Z",
     "iopub.status.idle": "2022-04-11T00:33:46.012151Z",
     "shell.execute_reply": "2022-04-11T00:33:46.011712Z"
    },
    "papermill": {
     "duration": 0.158472,
     "end_time": "2022-04-11T00:33:46.012253",
     "exception": false,
     "start_time": "2022-04-11T00:33:45.853781",
     "status": "completed"
    },
    "tags": []
   },
   "outputs": [
    {
     "name": "stdout",
     "output_type": "stream",
     "text": [
      "2\n"
     ]
    },
    {
     "data": {
      "text/plain": [
       "<matplotlib.image.AxesImage at 0x7f362dfa9390>"
      ]
     },
     "execution_count": 9,
     "metadata": {},
     "output_type": "execute_result"
    },
    {
     "data": {
      "image/png": "[encoded data removed]",
      "text/plain": [
       "<Figure size 432x288 with 1 Axes>"
      ]
     },
     "metadata": {
      "needs_background": "light"
     },
     "output_type": "display_data"
    }
   ],
   "source": [
    "image_index = 7776 # You may select anything up to 60,000\n",
    "print(train_labels[image_index]) \n",
    "plt.imshow(train_images[image_index], cmap='Greys')"
   ]
  },
  {
   "cell_type": "markdown",
   "id": "a8d2388d",
   "metadata": {
    "papermill": {
     "duration": 0.029091,
     "end_time": "2022-04-11T00:33:46.068572",
     "exception": false,
     "start_time": "2022-04-11T00:33:46.039481",
     "status": "completed"
    },
    "tags": []
   },
   "source": [
    "## Filter data to get 3 and 8 out"
   ]
  },
  {
   "cell_type": "code",
   "execution_count": 10,
   "id": "776f7fc7",
   "metadata": {
    "execution": {
     "iopub.execute_input": "2022-04-11T00:33:46.129202Z",
     "iopub.status.busy": "2022-04-11T00:33:46.128693Z",
     "iopub.status.idle": "2022-04-11T00:33:46.144411Z",
     "shell.execute_reply": "2022-04-11T00:33:46.143980Z"
    },
    "papermill": {
     "duration": 0.046814,
     "end_time": "2022-04-11T00:33:46.144508",
     "exception": false,
     "start_time": "2022-04-11T00:33:46.097694",
     "status": "completed"
    },
    "tags": []
   },
   "outputs": [],
   "source": [
    "train_filter = np.where((train_labels == 3 ) | (train_labels == 8))\n",
    "test_filter = np.where((test_labels == 3) | (test_labels == 8))\n",
    "X_train, y_train = train_images[train_filter], train_labels[train_filter]\n",
    "X_test, y_test = test_images[test_filter], test_labels[test_filter]"
   ]
  },
  {
   "cell_type": "markdown",
   "id": "948f0b7e",
   "metadata": {
    "papermill": {
     "duration": 0.027712,
     "end_time": "2022-04-11T00:33:46.199770",
     "exception": false,
     "start_time": "2022-04-11T00:33:46.172058",
     "status": "completed"
    },
    "tags": []
   },
   "source": [
    "We normalize the pizel values in the 0 to 1 range"
   ]
  },
  {
   "cell_type": "code",
   "execution_count": 11,
   "id": "ee4c2166",
   "metadata": {
    "execution": {
     "iopub.execute_input": "2022-04-11T00:33:46.258062Z",
     "iopub.status.busy": "2022-04-11T00:33:46.257575Z",
     "iopub.status.idle": "2022-04-11T00:33:46.298886Z",
     "shell.execute_reply": "2022-04-11T00:33:46.298467Z"
    },
    "papermill": {
     "duration": 0.071743,
     "end_time": "2022-04-11T00:33:46.298995",
     "exception": false,
     "start_time": "2022-04-11T00:33:46.227252",
     "status": "completed"
    },
    "tags": []
   },
   "outputs": [],
   "source": [
    "X_train = X_train/255.\n",
    "X_test = X_test/255."
   ]
  },
  {
   "cell_type": "markdown",
   "id": "ddcf4fab",
   "metadata": {
    "papermill": {
     "duration": 0.027699,
     "end_time": "2022-04-11T00:33:46.354314",
     "exception": false,
     "start_time": "2022-04-11T00:33:46.326615",
     "status": "completed"
    },
    "tags": []
   },
   "source": [
    "And setup the labels as 1 (when the digit is 3) and 0 (when the digit is 8)"
   ]
  },
  {
   "cell_type": "code",
   "execution_count": 12,
   "id": "7dc908f2",
   "metadata": {
    "execution": {
     "iopub.execute_input": "2022-04-11T00:33:46.416419Z",
     "iopub.status.busy": "2022-04-11T00:33:46.412694Z",
     "iopub.status.idle": "2022-04-11T00:33:46.425009Z",
     "shell.execute_reply": "2022-04-11T00:33:46.424605Z"
    },
    "papermill": {
     "duration": 0.043177,
     "end_time": "2022-04-11T00:33:46.425108",
     "exception": false,
     "start_time": "2022-04-11T00:33:46.381931",
     "status": "completed"
    },
    "tags": []
   },
   "outputs": [],
   "source": [
    "y_train = 1*(y_train==3)\n",
    "y_test = 1*(y_test==3)"
   ]
  },
  {
   "cell_type": "code",
   "execution_count": 13,
   "id": "01e4e969",
   "metadata": {
    "execution": {
     "iopub.execute_input": "2022-04-11T00:33:46.482894Z",
     "iopub.status.busy": "2022-04-11T00:33:46.482411Z",
     "iopub.status.idle": "2022-04-11T00:33:46.494940Z",
     "shell.execute_reply": "2022-04-11T00:33:46.494489Z"
    },
    "papermill": {
     "duration": 0.042604,
     "end_time": "2022-04-11T00:33:46.495035",
     "exception": false,
     "start_time": "2022-04-11T00:33:46.452431",
     "status": "completed"
    },
    "tags": []
   },
   "outputs": [
    {
     "data": {
      "text/plain": [
       "((11982, 28, 28), (1984, 28, 28))"
      ]
     },
     "execution_count": 13,
     "metadata": {},
     "output_type": "execute_result"
    }
   ],
   "source": [
    "X_train.shape, X_test.shape"
   ]
  },
  {
   "cell_type": "markdown",
   "id": "5ccf3f85",
   "metadata": {
    "papermill": {
     "duration": 0.027345,
     "end_time": "2022-04-11T00:33:46.549807",
     "exception": false,
     "start_time": "2022-04-11T00:33:46.522462",
     "status": "completed"
    },
    "tags": []
   },
   "source": [
    "We reshape the data to flatten the image pixels into a set of features or co-variates:"
   ]
  },
  {
   "cell_type": "code",
   "execution_count": 14,
   "id": "5286a4a3",
   "metadata": {
    "execution": {
     "iopub.execute_input": "2022-04-11T00:33:46.608346Z",
     "iopub.status.busy": "2022-04-11T00:33:46.607829Z",
     "iopub.status.idle": "2022-04-11T00:33:46.620035Z",
     "shell.execute_reply": "2022-04-11T00:33:46.620420Z"
    },
    "papermill": {
     "duration": 0.043118,
     "end_time": "2022-04-11T00:33:46.620534",
     "exception": false,
     "start_time": "2022-04-11T00:33:46.577416",
     "status": "completed"
    },
    "tags": []
   },
   "outputs": [
    {
     "data": {
      "text/plain": [
       "((11982, 784), (1984, 784))"
      ]
     },
     "execution_count": 14,
     "metadata": {},
     "output_type": "execute_result"
    }
   ],
   "source": [
    "X_train = X_train.reshape(X_train.shape[0], -1)\n",
    "X_test = X_test.reshape(X_test.shape[0], -1)\n",
    "X_train.shape, X_test.shape"
   ]
  },
  {
   "cell_type": "code",
   "execution_count": 15,
   "id": "73c5f88a",
   "metadata": {
    "execution": {
     "iopub.execute_input": "2022-04-11T00:33:46.679711Z",
     "iopub.status.busy": "2022-04-11T00:33:46.679219Z",
     "iopub.status.idle": "2022-04-11T00:33:46.695596Z",
     "shell.execute_reply": "2022-04-11T00:33:46.695965Z"
    },
    "papermill": {
     "duration": 0.047662,
     "end_time": "2022-04-11T00:33:46.696075",
     "exception": false,
     "start_time": "2022-04-11T00:33:46.648413",
     "status": "completed"
    },
    "tags": []
   },
   "outputs": [],
   "source": [
    "#Impoting functions from 'Kudzu'\n",
    "from kudzu.model import Model\n",
    "from kudzu.train import Learner\n",
    "from kudzu.optim import GD\n",
    "from kudzu.data import Data, Sampler,Dataloader\n",
    "\n",
    "from kudzu.callbacks import AccCallback\n",
    "from kudzu.callbacks import ClfCallback\n",
    "\n",
    "from kudzu.loss import MSE\n",
    "\n",
    "from kudzu.layer import Sigmoid,Relu\n",
    "from kudzu.layer import Affine"
   ]
  },
  {
   "cell_type": "markdown",
   "id": "bc01172a",
   "metadata": {
    "papermill": {
     "duration": 0.027996,
     "end_time": "2022-04-11T00:33:46.751867",
     "exception": false,
     "start_time": "2022-04-11T00:33:46.723871",
     "status": "completed"
    },
    "tags": []
   },
   "source": [
    "### Let us create a `Config` class, to store important parameters. \n",
    "This class essentially plays the role of a dictionary."
   ]
  },
  {
   "cell_type": "code",
   "execution_count": 16,
   "id": "978281aa",
   "metadata": {
    "execution": {
     "iopub.execute_input": "2022-04-11T00:33:46.810306Z",
     "iopub.status.busy": "2022-04-11T00:33:46.809820Z",
     "iopub.status.idle": "2022-04-11T00:33:46.821405Z",
     "shell.execute_reply": "2022-04-11T00:33:46.821005Z"
    },
    "papermill": {
     "duration": 0.041938,
     "end_time": "2022-04-11T00:33:46.821502",
     "exception": false,
     "start_time": "2022-04-11T00:33:46.779564",
     "status": "completed"
    },
    "tags": []
   },
   "outputs": [],
   "source": [
    "class Config:\n",
    "    pass\n",
    "config = Config()\n",
    "config.lr = 0.001\n",
    "config.num_epochs = 250\n",
    "config.bs = 50"
   ]
  },
  {
   "cell_type": "markdown",
   "id": "1385fa59",
   "metadata": {
    "papermill": {
     "duration": 0.027747,
     "end_time": "2022-04-11T00:33:46.877143",
     "exception": false,
     "start_time": "2022-04-11T00:33:46.849396",
     "status": "completed"
    },
    "tags": []
   },
   "source": [
    "### Running Models with the Training data\n",
    "Details about the network layers:\n",
    "- A first affine layer has 784 inputs and does 100 affine transforms. These are followed by a Relu\n",
    "- A second affine layer has 100 inputs from the 100 activations of the past layer, and does 100 affine transforms. These are followed by a Relu\n",
    "- A third affine layer has 100 activations and does 2 affine transformations to create an embedding for visualization. There is no non-linearity here.\n",
    "- A final \"logistic regression\" which has an affine transform from 2 inputs to 1 output, which is squeezed through a sigmoid.\n"
   ]
  },
  {
   "cell_type": "code",
   "execution_count": 17,
   "id": "2b9c66db",
   "metadata": {
    "execution": {
     "iopub.execute_input": "2022-04-11T00:33:46.936249Z",
     "iopub.status.busy": "2022-04-11T00:33:46.935747Z",
     "iopub.status.idle": "2022-04-11T00:33:46.947325Z",
     "shell.execute_reply": "2022-04-11T00:33:46.946924Z"
    },
    "papermill": {
     "duration": 0.04236,
     "end_time": "2022-04-11T00:33:46.947421",
     "exception": false,
     "start_time": "2022-04-11T00:33:46.905061",
     "status": "completed"
    },
    "tags": []
   },
   "outputs": [],
   "source": [
    "data = Data(X_train, y_train.reshape(-1,1))\n",
    "sampler = Sampler(data, config.bs, shuffle=True)\n",
    "\n",
    "dl = Dataloader(data, sampler)\n",
    "\n",
    "opt = GD(config.lr)\n",
    "loss = MSE()"
   ]
  },
  {
   "cell_type": "code",
   "execution_count": 18,
   "id": "b275e4c2",
   "metadata": {
    "execution": {
     "iopub.execute_input": "2022-04-11T00:33:47.006430Z",
     "iopub.status.busy": "2022-04-11T00:33:47.005928Z",
     "iopub.status.idle": "2022-04-11T00:33:47.017394Z",
     "shell.execute_reply": "2022-04-11T00:33:47.016976Z"
    },
    "papermill": {
     "duration": 0.042136,
     "end_time": "2022-04-11T00:33:47.017487",
     "exception": false,
     "start_time": "2022-04-11T00:33:46.975351",
     "status": "completed"
    },
    "tags": []
   },
   "outputs": [],
   "source": [
    "training_data_x = X_train\n",
    "testing_data_x = X_test\n",
    "training_data_y = y_train.reshape(-1,1)\n",
    "testing_data_y = y_test.reshape(-1,1)"
   ]
  },
  {
   "cell_type": "code",
   "execution_count": 19,
   "id": "76951160",
   "metadata": {
    "execution": {
     "iopub.execute_input": "2022-04-11T00:33:47.076733Z",
     "iopub.status.busy": "2022-04-11T00:33:47.076239Z",
     "iopub.status.idle": "2022-04-11T00:33:47.091730Z",
     "shell.execute_reply": "2022-04-11T00:33:47.091328Z"
    },
    "papermill": {
     "duration": 0.04668,
     "end_time": "2022-04-11T00:33:47.091830",
     "exception": false,
     "start_time": "2022-04-11T00:33:47.045150",
     "status": "completed"
    },
    "tags": []
   },
   "outputs": [
    {
     "name": "stdout",
     "output_type": "stream",
     "text": [
      "xavier\n",
      "xavier\n",
      "xavier\n",
      "xavier\n",
      "xavier\n"
     ]
    }
   ],
   "source": [
    "layers = [Affine(\"first\", 784, 100), Relu(\"first\"), Affine(\"second\", 100, 100), Relu(\"second\"), Affine(\"third\", 100, 2), Affine(\"last\", 2, 1), Sigmoid(\"last\")]\n",
    "model_nn = Model(layers)\n",
    "model_lr = Model([Affine(\"logits\", 784, 1), Sigmoid(\"sigmoid\")])"
   ]
  },
  {
   "cell_type": "code",
   "execution_count": 20,
   "id": "6eede77a",
   "metadata": {
    "execution": {
     "iopub.execute_input": "2022-04-11T00:33:47.151359Z",
     "iopub.status.busy": "2022-04-11T00:33:47.150860Z",
     "iopub.status.idle": "2022-04-11T00:33:47.162152Z",
     "shell.execute_reply": "2022-04-11T00:33:47.161753Z"
    },
    "papermill": {
     "duration": 0.042322,
     "end_time": "2022-04-11T00:33:47.162250",
     "exception": false,
     "start_time": "2022-04-11T00:33:47.119928",
     "status": "completed"
    },
    "tags": []
   },
   "outputs": [],
   "source": [
    "nn_learner = Learner(loss, model_nn, opt, config.num_epochs)\n",
    "acc_nn = ClfCallback(nn_learner, config.bs, training_data_x , testing_data_x, training_data_y, testing_data_y)\n",
    "nn_learner.set_callbacks([acc_nn])"
   ]
  },
  {
   "cell_type": "code",
   "execution_count": 21,
   "id": "877b6cc7",
   "metadata": {
    "execution": {
     "iopub.execute_input": "2022-04-11T00:33:47.221495Z",
     "iopub.status.busy": "2022-04-11T00:33:47.221006Z",
     "iopub.status.idle": "2022-04-11T00:33:47.232119Z",
     "shell.execute_reply": "2022-04-11T00:33:47.231731Z"
    },
    "papermill": {
     "duration": 0.041828,
     "end_time": "2022-04-11T00:33:47.232231",
     "exception": false,
     "start_time": "2022-04-11T00:33:47.190403",
     "status": "completed"
    },
    "tags": []
   },
   "outputs": [],
   "source": [
    "lr_learner = Learner(loss, model_lr, opt, config.num_epochs)\n",
    "acc_lr = ClfCallback(lr_learner, config.bs, training_data_x , testing_data_x, training_data_y, testing_data_y)\n",
    "lr_learner.set_callbacks([acc_lr])"
   ]
  },
  {
   "cell_type": "code",
   "execution_count": 22,
   "id": "d9b133c3",
   "metadata": {
    "execution": {
     "iopub.execute_input": "2022-04-11T00:33:47.291443Z",
     "iopub.status.busy": "2022-04-11T00:33:47.290961Z",
     "iopub.status.idle": "2022-04-11T00:36:42.071220Z",
     "shell.execute_reply": "2022-04-11T00:36:42.071635Z"
    },
    "papermill": {
     "duration": 174.811364,
     "end_time": "2022-04-11T00:36:42.071762",
     "exception": false,
     "start_time": "2022-04-11T00:33:47.260398",
     "status": "completed"
    },
    "tags": []
   },
   "outputs": [
    {
     "name": "stdout",
     "output_type": "stream",
     "text": [
      "Epoch 0, Loss 0.2483\n",
      "Training Accuracy: 0.6177, Testing Accuracy: 0.5842\n",
      "\n"
     ]
    },
    {
     "name": "stdout",
     "output_type": "stream",
     "text": [
      "Epoch 10, Loss 0.1437\n",
      "Training Accuracy: 0.8833, Testing Accuracy: 0.8891\n",
      "\n"
     ]
    },
    {
     "name": "stdout",
     "output_type": "stream",
     "text": [
      "Epoch 20, Loss 0.0749\n",
      "Training Accuracy: 0.9240, Testing Accuracy: 0.9380\n",
      "\n"
     ]
    },
    {
     "name": "stdout",
     "output_type": "stream",
     "text": [
      "Epoch 30, Loss 0.0538\n",
      "Training Accuracy: 0.9401, Testing Accuracy: 0.9501\n",
      "\n"
     ]
    },
    {
     "name": "stdout",
     "output_type": "stream",
     "text": [
      "Epoch 40, Loss 0.0444\n",
      "Training Accuracy: 0.9489, Testing Accuracy: 0.9572\n",
      "\n"
     ]
    },
    {
     "name": "stdout",
     "output_type": "stream",
     "text": [
      "Epoch 50, Loss 0.0391\n",
      "Training Accuracy: 0.9543, Testing Accuracy: 0.9627\n",
      "\n"
     ]
    },
    {
     "name": "stdout",
     "output_type": "stream",
     "text": [
      "Epoch 60, Loss 0.0356\n",
      "Training Accuracy: 0.9584, Testing Accuracy: 0.9652\n",
      "\n"
     ]
    },
    {
     "name": "stdout",
     "output_type": "stream",
     "text": [
      "Epoch 70, Loss 0.0331\n",
      "Training Accuracy: 0.9614, Testing Accuracy: 0.9677\n",
      "\n"
     ]
    },
    {
     "name": "stdout",
     "output_type": "stream",
     "text": [
      "Epoch 80, Loss 0.0312\n",
      "Training Accuracy: 0.9632, Testing Accuracy: 0.9682\n",
      "\n"
     ]
    },
    {
     "name": "stdout",
     "output_type": "stream",
     "text": [
      "Epoch 90, Loss 0.0297\n",
      "Training Accuracy: 0.9654, Testing Accuracy: 0.9708\n",
      "\n"
     ]
    },
    {
     "name": "stdout",
     "output_type": "stream",
     "text": [
      "Epoch 100, Loss 0.0284\n",
      "Training Accuracy: 0.9670, Testing Accuracy: 0.9713\n",
      "\n"
     ]
    },
    {
     "name": "stdout",
     "output_type": "stream",
     "text": [
      "Epoch 110, Loss 0.0273\n",
      "Training Accuracy: 0.9685, Testing Accuracy: 0.9713\n",
      "\n"
     ]
    },
    {
     "name": "stdout",
     "output_type": "stream",
     "text": [
      "Epoch 120, Loss 0.0264\n",
      "Training Accuracy: 0.9701, Testing Accuracy: 0.9718\n",
      "\n"
     ]
    },
    {
     "name": "stdout",
     "output_type": "stream",
     "text": [
      "Epoch 130, Loss 0.0256\n",
      "Training Accuracy: 0.9709, Testing Accuracy: 0.9728\n",
      "\n"
     ]
    },
    {
     "name": "stdout",
     "output_type": "stream",
     "text": [
      "Epoch 140, Loss 0.0248\n",
      "Training Accuracy: 0.9713, Testing Accuracy: 0.9728\n",
      "\n"
     ]
    },
    {
     "name": "stdout",
     "output_type": "stream",
     "text": [
      "Epoch 150, Loss 0.0241\n",
      "Training Accuracy: 0.9722, Testing Accuracy: 0.9733\n",
      "\n"
     ]
    },
    {
     "name": "stdout",
     "output_type": "stream",
     "text": [
      "Epoch 160, Loss 0.0235\n",
      "Training Accuracy: 0.9729, Testing Accuracy: 0.9728\n",
      "\n"
     ]
    },
    {
     "name": "stdout",
     "output_type": "stream",
     "text": [
      "Epoch 170, Loss 0.0229\n",
      "Training Accuracy: 0.9741, Testing Accuracy: 0.9723\n",
      "\n"
     ]
    },
    {
     "name": "stdout",
     "output_type": "stream",
     "text": [
      "Epoch 180, Loss 0.0223\n",
      "Training Accuracy: 0.9747, Testing Accuracy: 0.9728\n",
      "\n"
     ]
    },
    {
     "name": "stdout",
     "output_type": "stream",
     "text": [
      "Epoch 190, Loss 0.0218\n",
      "Training Accuracy: 0.9758, Testing Accuracy: 0.9728\n",
      "\n"
     ]
    },
    {
     "name": "stdout",
     "output_type": "stream",
     "text": [
      "Epoch 200, Loss 0.0214\n",
      "Training Accuracy: 0.9762, Testing Accuracy: 0.9733\n",
      "\n"
     ]
    },
    {
     "name": "stdout",
     "output_type": "stream",
     "text": [
      "Epoch 210, Loss 0.0209\n",
      "Training Accuracy: 0.9769, Testing Accuracy: 0.9738\n",
      "\n"
     ]
    },
    {
     "name": "stdout",
     "output_type": "stream",
     "text": [
      "Epoch 220, Loss 0.0205\n",
      "Training Accuracy: 0.9770, Testing Accuracy: 0.9748\n",
      "\n"
     ]
    },
    {
     "name": "stdout",
     "output_type": "stream",
     "text": [
      "Epoch 230, Loss 0.0201\n",
      "Training Accuracy: 0.9773, Testing Accuracy: 0.9758\n",
      "\n"
     ]
    },
    {
     "name": "stdout",
     "output_type": "stream",
     "text": [
      "Epoch 240, Loss 0.0197\n",
      "Training Accuracy: 0.9779, Testing Accuracy: 0.9753\n",
      "\n"
     ]
    },
    {
     "data": {
      "text/plain": [
       "0.0003241906760467395"
      ]
     },
     "execution_count": 22,
     "metadata": {},
     "output_type": "execute_result"
    }
   ],
   "source": [
    "nn_learner.train_loop(dl)"
   ]
  },
  {
   "cell_type": "code",
   "execution_count": 23,
   "id": "e0163366",
   "metadata": {
    "execution": {
     "iopub.execute_input": "2022-04-11T00:36:42.148419Z",
     "iopub.status.busy": "2022-04-11T00:36:42.146376Z",
     "iopub.status.idle": "2022-04-11T00:36:54.289502Z",
     "shell.execute_reply": "2022-04-11T00:36:54.289072Z"
    },
    "papermill": {
     "duration": 12.182038,
     "end_time": "2022-04-11T00:36:54.289611",
     "exception": false,
     "start_time": "2022-04-11T00:36:42.107573",
     "status": "completed"
    },
    "tags": []
   },
   "outputs": [
    {
     "name": "stdout",
     "output_type": "stream",
     "text": [
      "Epoch 0, Loss 0.2108\n",
      "Training Accuracy: 0.8108, Testing Accuracy: 0.8412\n",
      "\n"
     ]
    },
    {
     "name": "stdout",
     "output_type": "stream",
     "text": [
      "Epoch 10, Loss 0.0975\n",
      "Training Accuracy: 0.9184, Testing Accuracy: 0.9320\n",
      "\n"
     ]
    },
    {
     "name": "stdout",
     "output_type": "stream",
     "text": [
      "Epoch 20, Loss 0.0765\n",
      "Training Accuracy: 0.9305, Testing Accuracy: 0.9410\n",
      "\n"
     ]
    },
    {
     "name": "stdout",
     "output_type": "stream",
     "text": [
      "Epoch 30, Loss 0.0666\n",
      "Training Accuracy: 0.9372, Testing Accuracy: 0.9456\n",
      "\n"
     ]
    },
    {
     "name": "stdout",
     "output_type": "stream",
     "text": [
      "Epoch 40, Loss 0.0605\n",
      "Training Accuracy: 0.9417, Testing Accuracy: 0.9521\n",
      "\n"
     ]
    },
    {
     "name": "stdout",
     "output_type": "stream",
     "text": [
      "Epoch 50, Loss 0.0563\n",
      "Training Accuracy: 0.9448, Testing Accuracy: 0.9541\n",
      "\n"
     ]
    },
    {
     "name": "stdout",
     "output_type": "stream",
     "text": [
      "Epoch 60, Loss 0.0532\n",
      "Training Accuracy: 0.9463, Testing Accuracy: 0.9572\n",
      "\n"
     ]
    },
    {
     "name": "stdout",
     "output_type": "stream",
     "text": [
      "Epoch 70, Loss 0.0507\n",
      "Training Accuracy: 0.9488, Testing Accuracy: 0.9592\n",
      "\n"
     ]
    },
    {
     "name": "stdout",
     "output_type": "stream",
     "text": [
      "Epoch 80, Loss 0.0488\n",
      "Training Accuracy: 0.9506, Testing Accuracy: 0.9607\n",
      "\n"
     ]
    },
    {
     "name": "stdout",
     "output_type": "stream",
     "text": [
      "Epoch 90, Loss 0.0471\n",
      "Training Accuracy: 0.9518, Testing Accuracy: 0.9632\n",
      "\n"
     ]
    },
    {
     "name": "stdout",
     "output_type": "stream",
     "text": [
      "Epoch 100, Loss 0.0457\n",
      "Training Accuracy: 0.9526, Testing Accuracy: 0.9642\n",
      "\n"
     ]
    },
    {
     "name": "stdout",
     "output_type": "stream",
     "text": [
      "Epoch 110, Loss 0.0446\n",
      "Training Accuracy: 0.9542, Testing Accuracy: 0.9652\n",
      "\n"
     ]
    },
    {
     "name": "stdout",
     "output_type": "stream",
     "text": [
      "Epoch 120, Loss 0.0435\n",
      "Training Accuracy: 0.9547, Testing Accuracy: 0.9657\n",
      "\n"
     ]
    },
    {
     "name": "stdout",
     "output_type": "stream",
     "text": [
      "Epoch 130, Loss 0.0426\n",
      "Training Accuracy: 0.9555, Testing Accuracy: 0.9652\n",
      "\n"
     ]
    },
    {
     "name": "stdout",
     "output_type": "stream",
     "text": [
      "Epoch 140, Loss 0.0418\n",
      "Training Accuracy: 0.9562, Testing Accuracy: 0.9652\n",
      "\n"
     ]
    },
    {
     "name": "stdout",
     "output_type": "stream",
     "text": [
      "Epoch 150, Loss 0.0411\n",
      "Training Accuracy: 0.9571, Testing Accuracy: 0.9662\n",
      "\n"
     ]
    },
    {
     "name": "stdout",
     "output_type": "stream",
     "text": [
      "Epoch 160, Loss 0.0404\n",
      "Training Accuracy: 0.9574, Testing Accuracy: 0.9667\n",
      "\n"
     ]
    },
    {
     "name": "stdout",
     "output_type": "stream",
     "text": [
      "Epoch 170, Loss 0.0398\n",
      "Training Accuracy: 0.9576, Testing Accuracy: 0.9667\n",
      "\n"
     ]
    },
    {
     "name": "stdout",
     "output_type": "stream",
     "text": [
      "Epoch 180, Loss 0.0392\n",
      "Training Accuracy: 0.9580, Testing Accuracy: 0.9672\n",
      "\n"
     ]
    },
    {
     "name": "stdout",
     "output_type": "stream",
     "text": [
      "Epoch 190, Loss 0.0387\n",
      "Training Accuracy: 0.9588, Testing Accuracy: 0.9672\n",
      "\n"
     ]
    },
    {
     "name": "stdout",
     "output_type": "stream",
     "text": [
      "Epoch 200, Loss 0.0382\n",
      "Training Accuracy: 0.9589, Testing Accuracy: 0.9677\n",
      "\n"
     ]
    },
    {
     "name": "stdout",
     "output_type": "stream",
     "text": [
      "Epoch 210, Loss 0.0378\n",
      "Training Accuracy: 0.9594, Testing Accuracy: 0.9677\n",
      "\n"
     ]
    },
    {
     "name": "stdout",
     "output_type": "stream",
     "text": [
      "Epoch 220, Loss 0.0374\n",
      "Training Accuracy: 0.9596, Testing Accuracy: 0.9682\n",
      "\n"
     ]
    },
    {
     "name": "stdout",
     "output_type": "stream",
     "text": [
      "Epoch 230, Loss 0.037\n",
      "Training Accuracy: 0.9601, Testing Accuracy: 0.9677\n",
      "\n"
     ]
    },
    {
     "name": "stdout",
     "output_type": "stream",
     "text": [
      "Epoch 240, Loss 0.0367\n",
      "Training Accuracy: 0.9604, Testing Accuracy: 0.9677\n",
      "\n"
     ]
    },
    {
     "data": {
      "text/plain": [
       "0.04389803002045777"
      ]
     },
     "execution_count": 23,
     "metadata": {},
     "output_type": "execute_result"
    }
   ],
   "source": [
    "lr_learner.train_loop(dl)"
   ]
  },
  {
   "cell_type": "code",
   "execution_count": 24,
   "id": "ca410940",
   "metadata": {
    "execution": {
     "iopub.execute_input": "2022-04-11T00:36:54.380561Z",
     "iopub.status.busy": "2022-04-11T00:36:54.380023Z",
     "iopub.status.idle": "2022-04-11T00:36:54.625260Z",
     "shell.execute_reply": "2022-04-11T00:36:54.624841Z"
    },
    "papermill": {
     "duration": 0.293002,
     "end_time": "2022-04-11T00:36:54.625369",
     "exception": false,
     "start_time": "2022-04-11T00:36:54.332367",
     "status": "completed"
    },
    "tags": []
   },
   "outputs": [
    {
     "data": {
      "text/plain": [
       "<matplotlib.legend.Legend at 0x7f362db88b00>"
      ]
     },
     "execution_count": 24,
     "metadata": {},
     "output_type": "execute_result"
    },
    {
     "data": {
      "image/png": "[encoded data removed]",
      "text/plain": [
       "<Figure size 1080x720 with 1 Axes>"
      ]
     },
     "metadata": {
      "needs_background": "light"
     },
     "output_type": "display_data"
    }
   ],
   "source": [
    "#comparing the results of NN and LR\n",
    "plt.figure(figsize=(15,10))\n",
    "\n",
    "# Neural Network plots\n",
    "plt.plot(acc_nn.accuracies, 'r-', label = \"Training Accuracies - NN\")\n",
    "plt.plot(acc_nn.test_accuracies, 'g-', label = \"Testing Accuracies - NN\")\n",
    "\n",
    "# Logistic Regression plots\n",
    "plt.plot(acc_lr.accuracies, 'k-', label = \"Training Accuracies - LR\")\n",
    "plt.plot(acc_lr.test_accuracies, 'b-', label = \"Testing Accuracies - LR\")\n",
    "plt.legend()"
   ]
  },
  {
   "cell_type": "markdown",
   "id": "80dfb35c",
   "metadata": {
    "papermill": {
     "duration": 0.043644,
     "end_time": "2022-04-11T00:36:54.712883",
     "exception": false,
     "start_time": "2022-04-11T00:36:54.669239",
     "status": "completed"
    },
    "tags": []
   },
   "source": [
    "#### Plotting the outputs of this layer of the NN.\n"
   ]
  },
  {
   "cell_type": "code",
   "execution_count": 25,
   "id": "45eb2ff5",
   "metadata": {
    "execution": {
     "iopub.execute_input": "2022-04-11T00:36:54.805145Z",
     "iopub.status.busy": "2022-04-11T00:36:54.804045Z",
     "iopub.status.idle": "2022-04-11T00:36:54.838443Z",
     "shell.execute_reply": "2022-04-11T00:36:54.839133Z"
    },
    "papermill": {
     "duration": 0.083018,
     "end_time": "2022-04-11T00:36:54.839263",
     "exception": false,
     "start_time": "2022-04-11T00:36:54.756245",
     "status": "completed"
    },
    "tags": []
   },
   "outputs": [],
   "source": [
    "new_model = Model(layers[:-2])\n",
    "testing_plot = new_model(testing_data_x)"
   ]
  },
  {
   "cell_type": "code",
   "execution_count": 26,
   "id": "4c0a5485",
   "metadata": {
    "execution": {
     "iopub.execute_input": "2022-04-11T00:36:54.936212Z",
     "iopub.status.busy": "2022-04-11T00:36:54.934468Z",
     "iopub.status.idle": "2022-04-11T00:36:55.158331Z",
     "shell.execute_reply": "2022-04-11T00:36:55.158719Z"
    },
    "papermill": {
     "duration": 0.275861,
     "end_time": "2022-04-11T00:36:55.158843",
     "exception": false,
     "start_time": "2022-04-11T00:36:54.882982",
     "status": "completed"
    },
    "tags": []
   },
   "outputs": [
    {
     "data": {
      "text/plain": [
       "Text(0.5, 1.0, 'Outputs')"
      ]
     },
     "execution_count": 26,
     "metadata": {},
     "output_type": "execute_result"
    },
    {
     "data": {
      "image/png": "[encoded data removed]",
      "text/plain": [
       "<Figure size 576x504 with 1 Axes>"
      ]
     },
     "metadata": {
      "needs_background": "light"
     },
     "output_type": "display_data"
    }
   ],
   "source": [
    "# Plotting the scatter plot of points and color coding by class\n",
    "plt.figure(figsize=(8,7))\n",
    "plt.scatter(testing_plot[:,0], testing_plot[:,1], alpha = 0.1, c = y_test.ravel());\n",
    "plt.title('Outputs')"
   ]
  },
  {
   "cell_type": "markdown",
   "id": "a74fcf8f",
   "metadata": {
    "papermill": {
     "duration": 0.066866,
     "end_time": "2022-04-11T00:36:55.272853",
     "exception": false,
     "start_time": "2022-04-11T00:36:55.205987",
     "status": "completed"
    },
    "tags": []
   },
   "source": [
    "Probability contours"
   ]
  },
  {
   "cell_type": "code",
   "execution_count": 27,
   "id": "d0afc8e3",
   "metadata": {
    "execution": {
     "iopub.execute_input": "2022-04-11T00:36:55.371313Z",
     "iopub.status.busy": "2022-04-11T00:36:55.370820Z",
     "iopub.status.idle": "2022-04-11T00:36:55.382325Z",
     "shell.execute_reply": "2022-04-11T00:36:55.381938Z"
    },
    "papermill": {
     "duration": 0.061886,
     "end_time": "2022-04-11T00:36:55.382420",
     "exception": false,
     "start_time": "2022-04-11T00:36:55.320534",
     "status": "completed"
    },
    "tags": []
   },
   "outputs": [],
   "source": [
    "model_prob = Model(layers[-2:]) "
   ]
  },
  {
   "cell_type": "code",
   "execution_count": 28,
   "id": "9b96e238",
   "metadata": {
    "execution": {
     "iopub.execute_input": "2022-04-11T00:36:55.481034Z",
     "iopub.status.busy": "2022-04-11T00:36:55.480526Z",
     "iopub.status.idle": "2022-04-11T00:36:55.492813Z",
     "shell.execute_reply": "2022-04-11T00:36:55.493205Z"
    },
    "papermill": {
     "duration": 0.06388,
     "end_time": "2022-04-11T00:36:55.493319",
     "exception": false,
     "start_time": "2022-04-11T00:36:55.429439",
     "status": "completed"
    },
    "tags": []
   },
   "outputs": [],
   "source": [
    "#creating the x and y ranges according to the above generated plot.\n",
    "x_range = np.linspace(-4, 1, 100) \n",
    "y_range = np.linspace(-6, 6, 100) \n",
    "x_grid, y_grid = np.meshgrid(x_range, y_range) # x_grid and y_grig are of size 100 X 100\n",
    "\n",
    "# converting x_grid and y_grid to continuous arrays\n",
    "x_gridflat = np.ravel(x_grid)\n",
    "y_gridflat = np.ravel(y_grid)\n",
    "\n",
    "# The last layer of the current model takes two columns as input. Hence transpose of np.vstack() is required.\n",
    "X = np.vstack((x_gridflat, y_gridflat)).T\n",
    "\n",
    "prob_contour = model_prob(X).reshape(100,100) "
   ]
  },
  {
   "cell_type": "code",
   "execution_count": 29,
   "id": "da72499a",
   "metadata": {
    "execution": {
     "iopub.execute_input": "2022-04-11T00:36:55.592051Z",
     "iopub.status.busy": "2022-04-11T00:36:55.591581Z",
     "iopub.status.idle": "2022-04-11T00:36:55.838832Z",
     "shell.execute_reply": "2022-04-11T00:36:55.838418Z"
    },
    "papermill": {
     "duration": 0.297927,
     "end_time": "2022-04-11T00:36:55.838940",
     "exception": false,
     "start_time": "2022-04-11T00:36:55.541013",
     "status": "completed"
    },
    "tags": []
   },
   "outputs": [
    {
     "data": {
      "image/png": "[encoded data removed]",
      "text/plain": [
       "<Figure size 720x648 with 1 Axes>"
      ]
     },
     "metadata": {
      "needs_background": "light"
     },
     "output_type": "display_data"
    }
   ],
   "source": [
    "plt.figure(figsize=(10,9))\n",
    "plt.scatter(testing_plot[:,0], testing_plot[:,1], alpha = 0.1, c = y_test.ravel())\n",
    "contours = plt.contour(x_grid,y_grid,prob_contour)\n",
    "plt.title('Probability Contours')\n",
    "plt.clabel(contours, inline = True );"
   ]
  },
  {
   "cell_type": "code",
   "execution_count": null,
   "id": "e81b4ac7",
   "metadata": {
    "papermill": {
     "duration": 0.04917,
     "end_time": "2022-04-11T00:36:55.937971",
     "exception": false,
     "start_time": "2022-04-11T00:36:55.888801",
     "status": "completed"
    },
    "tags": []
   },
   "outputs": [],
   "source": []
  }
 ],
 "metadata": {
  "kernelspec": {
   "display_name": "Python 3",
   "language": "python",
   "name": "python3"
  },
  "language_info": {
   "codemirror_mode": {
    "name": "ipython",
    "version": 3
   },
   "file_extension": ".py",
   "mimetype": "text/x-python",
   "name": "python",
   "nbconvert_exporter": "python",
   "pygments_lexer": "ipython3",
   "version": "3.6.15"
  },
  "papermill": {
   "default_parameters": {},
   "duration": 195.201853,
   "end_time": "2022-04-11T00:36:56.304111",
   "environment_variables": {},
   "exception": null,
   "input_path": "2020-08-11-part2.ipynb",
   "output_path": "2020-08-11-part2.ipynb",
   "parameters": {},
   "start_time": "2022-04-11T00:33:41.102258",
   "version": "2.3.3"
  }
 },
 "nbformat": 4,
 "nbformat_minor": 5
}