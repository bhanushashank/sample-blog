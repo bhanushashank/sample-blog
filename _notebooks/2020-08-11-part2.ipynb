{
 "cells": [
  {
   "cell_type": "markdown",
   "id": "98380cd3",
   "metadata": {
    "papermill": {
     "duration": 0.029366,
     "end_time": "2022-11-25T20:09:52.206900",
     "exception": false,
     "start_time": "2022-11-25T20:09:52.177534",
     "status": "completed"
    },
    "tags": []
   },
   "source": [
    "# Distinguish Your Own Digits (DYOD)"
   ]
  },
  {
   "cell_type": "markdown",
   "id": "ef31240d",
   "metadata": {
    "papermill": {
     "duration": 0.024006,
     "end_time": "2022-11-25T20:09:52.255749",
     "exception": false,
     "start_time": "2022-11-25T20:09:52.231743",
     "status": "completed"
    },
    "tags": []
   },
   "source": [
    "You are going to write a classifier that distinguishes between the number 3 and number 8."
   ]
  },
  {
   "cell_type": "code",
   "execution_count": 1,
   "id": "b15c8646",
   "metadata": {
    "execution": {
     "iopub.execute_input": "2022-11-25T20:09:52.306528Z",
     "iopub.status.busy": "2022-11-25T20:09:52.305954Z",
     "iopub.status.idle": "2022-11-25T20:09:52.323387Z",
     "shell.execute_reply": "2022-11-25T20:09:52.323897Z"
    },
    "papermill": {
     "duration": 0.044253,
     "end_time": "2022-11-25T20:09:52.324025",
     "exception": false,
     "start_time": "2022-11-25T20:09:52.279772",
     "status": "completed"
    },
    "tags": []
   },
   "outputs": [],
   "source": [
    "%load_ext autoreload\n",
    "%autoreload 2"
   ]
  },
  {
   "cell_type": "code",
   "execution_count": 2,
   "id": "22ef38dc",
   "metadata": {
    "execution": {
     "iopub.execute_input": "2022-11-25T20:09:52.375871Z",
     "iopub.status.busy": "2022-11-25T20:09:52.375324Z",
     "iopub.status.idle": "2022-11-25T20:09:52.879812Z",
     "shell.execute_reply": "2022-11-25T20:09:52.878992Z"
    },
    "papermill": {
     "duration": 0.531796,
     "end_time": "2022-11-25T20:09:52.879930",
     "exception": false,
     "start_time": "2022-11-25T20:09:52.348134",
     "status": "completed"
    },
    "tags": []
   },
   "outputs": [],
   "source": [
    "%matplotlib inline\n",
    "import numpy as np\n",
    "import matplotlib.pyplot as plt\n",
    "import pandas as pd"
   ]
  },
  {
   "cell_type": "markdown",
   "id": "ba036198",
   "metadata": {
    "papermill": {
     "duration": 0.024227,
     "end_time": "2022-11-25T20:09:52.928369",
     "exception": false,
     "start_time": "2022-11-25T20:09:52.904142",
     "status": "completed"
    },
    "tags": []
   },
   "source": [
    "From the command line run `pip install mnist`. This is a library that will help you bring down the mnist dataset. If you run this from a notebook, you need to put  `!pip install mnist` in a cell by itself."
   ]
  },
  {
   "cell_type": "code",
   "execution_count": 3,
   "id": "bb6ad8a1",
   "metadata": {
    "execution": {
     "iopub.execute_input": "2022-11-25T20:09:52.980095Z",
     "iopub.status.busy": "2022-11-25T20:09:52.979550Z",
     "iopub.status.idle": "2022-11-25T20:09:54.643203Z",
     "shell.execute_reply": "2022-11-25T20:09:54.642725Z"
    },
    "papermill": {
     "duration": 1.690625,
     "end_time": "2022-11-25T20:09:54.643316",
     "exception": false,
     "start_time": "2022-11-25T20:09:52.952691",
     "status": "completed"
    },
    "tags": []
   },
   "outputs": [
    {
     "name": "stdout",
     "output_type": "stream",
     "text": [
      "Collecting mnist\r\n"
     ]
    },
    {
     "name": "stdout",
     "output_type": "stream",
     "text": [
      "  Downloading mnist-0.2.2-py2.py3-none-any.whl (3.5 kB)\r\n",
      "Requirement already satisfied: numpy in /opt/hostedtoolcache/Python/3.6.15/x64/lib/python3.6/site-packages (from mnist) (1.19.5)\r\n"
     ]
    },
    {
     "name": "stdout",
     "output_type": "stream",
     "text": [
      "Installing collected packages: mnist\r\n"
     ]
    },
    {
     "name": "stdout",
     "output_type": "stream",
     "text": [
      "Successfully installed mnist-0.2.2\r\n"
     ]
    }
   ],
   "source": [
    "!pip install mnist"
   ]
  },
  {
   "cell_type": "markdown",
   "id": "69df9c9a",
   "metadata": {
    "papermill": {
     "duration": 0.025422,
     "end_time": "2022-11-25T20:09:54.694406",
     "exception": false,
     "start_time": "2022-11-25T20:09:54.668984",
     "status": "completed"
    },
    "tags": []
   },
   "source": [
    "## Preparing the Data"
   ]
  },
  {
   "cell_type": "code",
   "execution_count": 4,
   "id": "7f69d806",
   "metadata": {
    "execution": {
     "iopub.execute_input": "2022-11-25T20:09:54.748594Z",
     "iopub.status.busy": "2022-11-25T20:09:54.748014Z",
     "iopub.status.idle": "2022-11-25T20:09:54.761972Z",
     "shell.execute_reply": "2022-11-25T20:09:54.761505Z"
    },
    "papermill": {
     "duration": 0.042492,
     "end_time": "2022-11-25T20:09:54.762072",
     "exception": false,
     "start_time": "2022-11-25T20:09:54.719580",
     "status": "completed"
    },
    "tags": []
   },
   "outputs": [],
   "source": [
    "import mnist"
   ]
  },
  {
   "cell_type": "code",
   "execution_count": 5,
   "id": "a411e44f",
   "metadata": {
    "execution": {
     "iopub.execute_input": "2022-11-25T20:09:54.815867Z",
     "iopub.status.busy": "2022-11-25T20:09:54.815317Z",
     "iopub.status.idle": "2022-11-25T20:09:55.785228Z",
     "shell.execute_reply": "2022-11-25T20:09:55.784470Z"
    },
    "papermill": {
     "duration": 0.997975,
     "end_time": "2022-11-25T20:09:55.785342",
     "exception": false,
     "start_time": "2022-11-25T20:09:54.787367",
     "status": "completed"
    },
    "tags": []
   },
   "outputs": [],
   "source": [
    "train_images = mnist.train_images()\n",
    "train_labels = mnist.train_labels()"
   ]
  },
  {
   "cell_type": "code",
   "execution_count": 6,
   "id": "dceab3a5",
   "metadata": {
    "execution": {
     "iopub.execute_input": "2022-11-25T20:09:55.839892Z",
     "iopub.status.busy": "2022-11-25T20:09:55.839335Z",
     "iopub.status.idle": "2022-11-25T20:09:55.853467Z",
     "shell.execute_reply": "2022-11-25T20:09:55.853008Z"
    },
    "papermill": {
     "duration": 0.042623,
     "end_time": "2022-11-25T20:09:55.853564",
     "exception": false,
     "start_time": "2022-11-25T20:09:55.810941",
     "status": "completed"
    },
    "tags": []
   },
   "outputs": [
    {
     "data": {
      "text/plain": [
       "((60000, 28, 28), (60000,))"
      ]
     },
     "execution_count": 6,
     "metadata": {},
     "output_type": "execute_result"
    }
   ],
   "source": [
    "train_images.shape, train_labels.shape"
   ]
  },
  {
   "cell_type": "code",
   "execution_count": 7,
   "id": "f50dc2bb",
   "metadata": {
    "execution": {
     "iopub.execute_input": "2022-11-25T20:09:55.908471Z",
     "iopub.status.busy": "2022-11-25T20:09:55.907921Z",
     "iopub.status.idle": "2022-11-25T20:09:56.347195Z",
     "shell.execute_reply": "2022-11-25T20:09:56.346688Z"
    },
    "papermill": {
     "duration": 0.46802,
     "end_time": "2022-11-25T20:09:56.347307",
     "exception": false,
     "start_time": "2022-11-25T20:09:55.879287",
     "status": "completed"
    },
    "tags": []
   },
   "outputs": [],
   "source": [
    "test_images = mnist.test_images()\n",
    "test_labels = mnist.test_labels()"
   ]
  },
  {
   "cell_type": "code",
   "execution_count": 8,
   "id": "fc38cf1b",
   "metadata": {
    "execution": {
     "iopub.execute_input": "2022-11-25T20:09:56.402416Z",
     "iopub.status.busy": "2022-11-25T20:09:56.401871Z",
     "iopub.status.idle": "2022-11-25T20:09:56.414819Z",
     "shell.execute_reply": "2022-11-25T20:09:56.414362Z"
    },
    "papermill": {
     "duration": 0.04178,
     "end_time": "2022-11-25T20:09:56.414921",
     "exception": false,
     "start_time": "2022-11-25T20:09:56.373141",
     "status": "completed"
    },
    "tags": []
   },
   "outputs": [
    {
     "data": {
      "text/plain": [
       "((10000, 28, 28), (10000,))"
      ]
     },
     "execution_count": 8,
     "metadata": {},
     "output_type": "execute_result"
    }
   ],
   "source": [
    "test_images.shape, test_labels.shape"
   ]
  },
  {
   "cell_type": "code",
   "execution_count": 9,
   "id": "f9ed8fe0",
   "metadata": {
    "execution": {
     "iopub.execute_input": "2022-11-25T20:09:56.470395Z",
     "iopub.status.busy": "2022-11-25T20:09:56.469844Z",
     "iopub.status.idle": "2022-11-25T20:09:56.600778Z",
     "shell.execute_reply": "2022-11-25T20:09:56.601210Z"
    },
    "papermill": {
     "duration": 0.160552,
     "end_time": "2022-11-25T20:09:56.601334",
     "exception": false,
     "start_time": "2022-11-25T20:09:56.440782",
     "status": "completed"
    },
    "tags": []
   },
   "outputs": [
    {
     "name": "stdout",
     "output_type": "stream",
     "text": [
      "2\n"
     ]
    },
    {
     "data": {
      "text/plain": [
       "<matplotlib.image.AxesImage at 0x7fd4c663fcf8>"
      ]
     },
     "execution_count": 9,
     "metadata": {},
     "output_type": "execute_result"
    },
    {
     "data": {
      "image/png": "[encoded data removed]",
      "text/plain": [
       "<Figure size 432x288 with 1 Axes>"
      ]
     },
     "metadata": {
      "needs_background": "light"
     },
     "output_type": "display_data"
    }
   ],
   "source": [
    "image_index = 7776 # You may select anything up to 60,000\n",
    "print(train_labels[image_index]) \n",
    "plt.imshow(train_images[image_index], cmap='Greys')"
   ]
  },
  {
   "cell_type": "markdown",
   "id": "a8d2388d",
   "metadata": {
    "papermill": {
     "duration": 0.027063,
     "end_time": "2022-11-25T20:09:56.656170",
     "exception": false,
     "start_time": "2022-11-25T20:09:56.629107",
     "status": "completed"
    },
    "tags": []
   },
   "source": [
    "## Filter data to get 3 and 8 out"
   ]
  },
  {
   "cell_type": "code",
   "execution_count": 10,
   "id": "776f7fc7",
   "metadata": {
    "execution": {
     "iopub.execute_input": "2022-11-25T20:09:56.714812Z",
     "iopub.status.busy": "2022-11-25T20:09:56.714230Z",
     "iopub.status.idle": "2022-11-25T20:09:56.731047Z",
     "shell.execute_reply": "2022-11-25T20:09:56.731543Z"
    },
    "papermill": {
     "duration": 0.048445,
     "end_time": "2022-11-25T20:09:56.731667",
     "exception": false,
     "start_time": "2022-11-25T20:09:56.683222",
     "status": "completed"
    },
    "tags": []
   },
   "outputs": [],
   "source": [
    "train_filter = np.where((train_labels == 3 ) | (train_labels == 8))\n",
    "test_filter = np.where((test_labels == 3) | (test_labels == 8))\n",
    "X_train, y_train = train_images[train_filter], train_labels[train_filter]\n",
    "X_test, y_test = test_images[test_filter], test_labels[test_filter]"
   ]
  },
  {
   "cell_type": "markdown",
   "id": "948f0b7e",
   "metadata": {
    "papermill": {
     "duration": 0.026974,
     "end_time": "2022-11-25T20:09:56.785842",
     "exception": false,
     "start_time": "2022-11-25T20:09:56.758868",
     "status": "completed"
    },
    "tags": []
   },
   "source": [
    "We normalize the pizel values in the 0 to 1 range"
   ]
  },
  {
   "cell_type": "code",
   "execution_count": 11,
   "id": "ee4c2166",
   "metadata": {
    "execution": {
     "iopub.execute_input": "2022-11-25T20:09:56.842535Z",
     "iopub.status.busy": "2022-11-25T20:09:56.841977Z",
     "iopub.status.idle": "2022-11-25T20:09:56.883633Z",
     "shell.execute_reply": "2022-11-25T20:09:56.883173Z"
    },
    "papermill": {
     "duration": 0.071,
     "end_time": "2022-11-25T20:09:56.883737",
     "exception": false,
     "start_time": "2022-11-25T20:09:56.812737",
     "status": "completed"
    },
    "tags": []
   },
   "outputs": [],
   "source": [
    "X_train = X_train/255.\n",
    "X_test = X_test/255."
   ]
  },
  {
   "cell_type": "markdown",
   "id": "ddcf4fab",
   "metadata": {
    "papermill": {
     "duration": 0.027012,
     "end_time": "2022-11-25T20:09:56.937812",
     "exception": false,
     "start_time": "2022-11-25T20:09:56.910800",
     "status": "completed"
    },
    "tags": []
   },
   "source": [
    "And setup the labels as 1 (when the digit is 3) and 0 (when the digit is 8)"
   ]
  },
  {
   "cell_type": "code",
   "execution_count": 12,
   "id": "7dc908f2",
   "metadata": {
    "execution": {
     "iopub.execute_input": "2022-11-25T20:09:56.995383Z",
     "iopub.status.busy": "2022-11-25T20:09:56.994816Z",
     "iopub.status.idle": "2022-11-25T20:09:57.005920Z",
     "shell.execute_reply": "2022-11-25T20:09:57.006336Z"
    },
    "papermill": {
     "duration": 0.04165,
     "end_time": "2022-11-25T20:09:57.006458",
     "exception": false,
     "start_time": "2022-11-25T20:09:56.964808",
     "status": "completed"
    },
    "tags": []
   },
   "outputs": [],
   "source": [
    "y_train = 1*(y_train==3)\n",
    "y_test = 1*(y_test==3)"
   ]
  },
  {
   "cell_type": "code",
   "execution_count": 13,
   "id": "01e4e969",
   "metadata": {
    "execution": {
     "iopub.execute_input": "2022-11-25T20:09:57.063814Z",
     "iopub.status.busy": "2022-11-25T20:09:57.063247Z",
     "iopub.status.idle": "2022-11-25T20:09:57.076099Z",
     "shell.execute_reply": "2022-11-25T20:09:57.075650Z"
    },
    "papermill": {
     "duration": 0.042872,
     "end_time": "2022-11-25T20:09:57.076198",
     "exception": false,
     "start_time": "2022-11-25T20:09:57.033326",
     "status": "completed"
    },
    "tags": []
   },
   "outputs": [
    {
     "data": {
      "text/plain": [
       "((11982, 28, 28), (1984, 28, 28))"
      ]
     },
     "execution_count": 13,
     "metadata": {},
     "output_type": "execute_result"
    }
   ],
   "source": [
    "X_train.shape, X_test.shape"
   ]
  },
  {
   "cell_type": "markdown",
   "id": "5ccf3f85",
   "metadata": {
    "papermill": {
     "duration": 0.027275,
     "end_time": "2022-11-25T20:09:57.130580",
     "exception": false,
     "start_time": "2022-11-25T20:09:57.103305",
     "status": "completed"
    },
    "tags": []
   },
   "source": [
    "We reshape the data to flatten the image pixels into a set of features or co-variates:"
   ]
  },
  {
   "cell_type": "code",
   "execution_count": 14,
   "id": "5286a4a3",
   "metadata": {
    "execution": {
     "iopub.execute_input": "2022-11-25T20:09:57.188578Z",
     "iopub.status.busy": "2022-11-25T20:09:57.187985Z",
     "iopub.status.idle": "2022-11-25T20:09:57.201249Z",
     "shell.execute_reply": "2022-11-25T20:09:57.200793Z"
    },
    "papermill": {
     "duration": 0.043555,
     "end_time": "2022-11-25T20:09:57.201348",
     "exception": false,
     "start_time": "2022-11-25T20:09:57.157793",
     "status": "completed"
    },
    "tags": []
   },
   "outputs": [
    {
     "data": {
      "text/plain": [
       "((11982, 784), (1984, 784))"
      ]
     },
     "execution_count": 14,
     "metadata": {},
     "output_type": "execute_result"
    }
   ],
   "source": [
    "X_train = X_train.reshape(X_train.shape[0], -1)\n",
    "X_test = X_test.reshape(X_test.shape[0], -1)\n",
    "X_train.shape, X_test.shape"
   ]
  },
  {
   "cell_type": "code",
   "execution_count": 15,
   "id": "73c5f88a",
   "metadata": {
    "execution": {
     "iopub.execute_input": "2022-11-25T20:09:57.260183Z",
     "iopub.status.busy": "2022-11-25T20:09:57.259568Z",
     "iopub.status.idle": "2022-11-25T20:09:57.277340Z",
     "shell.execute_reply": "2022-11-25T20:09:57.277768Z"
    },
    "papermill": {
     "duration": 0.049155,
     "end_time": "2022-11-25T20:09:57.277888",
     "exception": false,
     "start_time": "2022-11-25T20:09:57.228733",
     "status": "completed"
    },
    "tags": []
   },
   "outputs": [],
   "source": [
    "#Impoting functions from 'Kudzu'\n",
    "from kudzu.model import Model\n",
    "from kudzu.train import Learner\n",
    "from kudzu.optim import GD\n",
    "from kudzu.data import Data, Sampler,Dataloader\n",
    "\n",
    "from kudzu.callbacks import AccCallback\n",
    "from kudzu.callbacks import ClfCallback\n",
    "\n",
    "from kudzu.loss import MSE\n",
    "\n",
    "from kudzu.layer import Sigmoid,Relu\n",
    "from kudzu.layer import Affine"
   ]
  },
  {
   "cell_type": "markdown",
   "id": "bc01172a",
   "metadata": {
    "papermill": {
     "duration": 0.027415,
     "end_time": "2022-11-25T20:09:57.332743",
     "exception": false,
     "start_time": "2022-11-25T20:09:57.305328",
     "status": "completed"
    },
    "tags": []
   },
   "source": [
    "### Let us create a `Config` class, to store important parameters. \n",
    "This class essentially plays the role of a dictionary."
   ]
  },
  {
   "cell_type": "code",
   "execution_count": 16,
   "id": "978281aa",
   "metadata": {
    "execution": {
     "iopub.execute_input": "2022-11-25T20:09:57.391539Z",
     "iopub.status.busy": "2022-11-25T20:09:57.390980Z",
     "iopub.status.idle": "2022-11-25T20:09:57.402913Z",
     "shell.execute_reply": "2022-11-25T20:09:57.402470Z"
    },
    "papermill": {
     "duration": 0.04282,
     "end_time": "2022-11-25T20:09:57.403011",
     "exception": false,
     "start_time": "2022-11-25T20:09:57.360191",
     "status": "completed"
    },
    "tags": []
   },
   "outputs": [],
   "source": [
    "class Config:\n",
    "    pass\n",
    "config = Config()\n",
    "config.lr = 0.001\n",
    "config.num_epochs = 250\n",
    "config.bs = 50"
   ]
  },
  {
   "cell_type": "markdown",
   "id": "1385fa59",
   "metadata": {
    "papermill": {
     "duration": 0.0282,
     "end_time": "2022-11-25T20:09:57.458724",
     "exception": false,
     "start_time": "2022-11-25T20:09:57.430524",
     "status": "completed"
    },
    "tags": []
   },
   "source": [
    "### Running Models with the Training data\n",
    "Details about the network layers:\n",
    "- A first affine layer has 784 inputs and does 100 affine transforms. These are followed by a Relu\n",
    "- A second affine layer has 100 inputs from the 100 activations of the past layer, and does 100 affine transforms. These are followed by a Relu\n",
    "- A third affine layer has 100 activations and does 2 affine transformations to create an embedding for visualization. There is no non-linearity here.\n",
    "- A final \"logistic regression\" which has an affine transform from 2 inputs to 1 output, which is squeezed through a sigmoid.\n"
   ]
  },
  {
   "cell_type": "code",
   "execution_count": 17,
   "id": "2b9c66db",
   "metadata": {
    "execution": {
     "iopub.execute_input": "2022-11-25T20:09:57.517711Z",
     "iopub.status.busy": "2022-11-25T20:09:57.517170Z",
     "iopub.status.idle": "2022-11-25T20:09:57.529432Z",
     "shell.execute_reply": "2022-11-25T20:09:57.528953Z"
    },
    "papermill": {
     "duration": 0.043285,
     "end_time": "2022-11-25T20:09:57.529551",
     "exception": false,
     "start_time": "2022-11-25T20:09:57.486266",
     "status": "completed"
    },
    "tags": []
   },
   "outputs": [],
   "source": [
    "data = Data(X_train, y_train.reshape(-1,1))\n",
    "sampler = Sampler(data, config.bs, shuffle=True)\n",
    "\n",
    "dl = Dataloader(data, sampler)\n",
    "\n",
    "opt = GD(config.lr)\n",
    "loss = MSE()"
   ]
  },
  {
   "cell_type": "code",
   "execution_count": 18,
   "id": "b275e4c2",
   "metadata": {
    "execution": {
     "iopub.execute_input": "2022-11-25T20:09:57.588513Z",
     "iopub.status.busy": "2022-11-25T20:09:57.587937Z",
     "iopub.status.idle": "2022-11-25T20:09:57.599783Z",
     "shell.execute_reply": "2022-11-25T20:09:57.599331Z"
    },
    "papermill": {
     "duration": 0.042511,
     "end_time": "2022-11-25T20:09:57.599882",
     "exception": false,
     "start_time": "2022-11-25T20:09:57.557371",
     "status": "completed"
    },
    "tags": []
   },
   "outputs": [],
   "source": [
    "training_data_x = X_train\n",
    "testing_data_x = X_test\n",
    "training_data_y = y_train.reshape(-1,1)\n",
    "testing_data_y = y_test.reshape(-1,1)"
   ]
  },
  {
   "cell_type": "code",
   "execution_count": 19,
   "id": "76951160",
   "metadata": {
    "execution": {
     "iopub.execute_input": "2022-11-25T20:09:57.659241Z",
     "iopub.status.busy": "2022-11-25T20:09:57.658684Z",
     "iopub.status.idle": "2022-11-25T20:09:57.674694Z",
     "shell.execute_reply": "2022-11-25T20:09:57.674237Z"
    },
    "papermill": {
     "duration": 0.047525,
     "end_time": "2022-11-25T20:09:57.674794",
     "exception": false,
     "start_time": "2022-11-25T20:09:57.627269",
     "status": "completed"
    },
    "tags": []
   },
   "outputs": [
    {
     "name": "stdout",
     "output_type": "stream",
     "text": [
      "xavier\n",
      "xavier\n",
      "xavier\n",
      "xavier\n",
      "xavier\n"
     ]
    }
   ],
   "source": [
    "layers = [Affine(\"first\", 784, 100), Relu(\"first\"), Affine(\"second\", 100, 100), Relu(\"second\"), Affine(\"third\", 100, 2), Affine(\"last\", 2, 1), Sigmoid(\"last\")]\n",
    "model_nn = Model(layers)\n",
    "model_lr = Model([Affine(\"logits\", 784, 1), Sigmoid(\"sigmoid\")])"
   ]
  },
  {
   "cell_type": "code",
   "execution_count": 20,
   "id": "6eede77a",
   "metadata": {
    "execution": {
     "iopub.execute_input": "2022-11-25T20:09:57.734189Z",
     "iopub.status.busy": "2022-11-25T20:09:57.733625Z",
     "iopub.status.idle": "2022-11-25T20:09:57.745722Z",
     "shell.execute_reply": "2022-11-25T20:09:57.746148Z"
    },
    "papermill": {
     "duration": 0.043642,
     "end_time": "2022-11-25T20:09:57.746262",
     "exception": false,
     "start_time": "2022-11-25T20:09:57.702620",
     "status": "completed"
    },
    "tags": []
   },
   "outputs": [],
   "source": [
    "nn_learner = Learner(loss, model_nn, opt, config.num_epochs)\n",
    "acc_nn = ClfCallback(nn_learner, config.bs, training_data_x , testing_data_x, training_data_y, testing_data_y)\n",
    "nn_learner.set_callbacks([acc_nn])"
   ]
  },
  {
   "cell_type": "code",
   "execution_count": 21,
   "id": "877b6cc7",
   "metadata": {
    "execution": {
     "iopub.execute_input": "2022-11-25T20:09:57.805421Z",
     "iopub.status.busy": "2022-11-25T20:09:57.804873Z",
     "iopub.status.idle": "2022-11-25T20:09:57.816955Z",
     "shell.execute_reply": "2022-11-25T20:09:57.816508Z"
    },
    "papermill": {
     "duration": 0.04315,
     "end_time": "2022-11-25T20:09:57.817062",
     "exception": false,
     "start_time": "2022-11-25T20:09:57.773912",
     "status": "completed"
    },
    "tags": []
   },
   "outputs": [],
   "source": [
    "lr_learner = Learner(loss, model_lr, opt, config.num_epochs)\n",
    "acc_lr = ClfCallback(lr_learner, config.bs, training_data_x , testing_data_x, training_data_y, testing_data_y)\n",
    "lr_learner.set_callbacks([acc_lr])"
   ]
  },
  {
   "cell_type": "code",
   "execution_count": 22,
   "id": "d9b133c3",
   "metadata": {
    "execution": {
     "iopub.execute_input": "2022-11-25T20:09:57.876451Z",
     "iopub.status.busy": "2022-11-25T20:09:57.875898Z",
     "iopub.status.idle": "2022-11-25T20:12:54.126755Z",
     "shell.execute_reply": "2022-11-25T20:12:54.127196Z"
    },
    "papermill": {
     "duration": 176.282253,
     "end_time": "2022-11-25T20:12:54.127320",
     "exception": false,
     "start_time": "2022-11-25T20:09:57.845067",
     "status": "completed"
    },
    "tags": []
   },
   "outputs": [
    {
     "name": "stdout",
     "output_type": "stream",
     "text": [
      "Epoch 0, Loss 0.2449\n",
      "Training Accuracy: 0.6862, Testing Accuracy: 0.7152\n",
      "\n"
     ]
    },
    {
     "name": "stdout",
     "output_type": "stream",
     "text": [
      "Epoch 10, Loss 0.0792\n",
      "Training Accuracy: 0.9270, Testing Accuracy: 0.9355\n",
      "\n"
     ]
    },
    {
     "name": "stdout",
     "output_type": "stream",
     "text": [
      "Epoch 20, Loss 0.05\n",
      "Training Accuracy: 0.9468, Testing Accuracy: 0.9597\n",
      "\n"
     ]
    },
    {
     "name": "stdout",
     "output_type": "stream",
     "text": [
      "Epoch 30, Loss 0.0404\n",
      "Training Accuracy: 0.9549, Testing Accuracy: 0.9632\n",
      "\n"
     ]
    },
    {
     "name": "stdout",
     "output_type": "stream",
     "text": [
      "Epoch 40, Loss 0.0357\n",
      "Training Accuracy: 0.9596, Testing Accuracy: 0.9652\n",
      "\n"
     ]
    },
    {
     "name": "stdout",
     "output_type": "stream",
     "text": [
      "Epoch 50, Loss 0.0328\n",
      "Training Accuracy: 0.9624, Testing Accuracy: 0.9677\n",
      "\n"
     ]
    },
    {
     "name": "stdout",
     "output_type": "stream",
     "text": [
      "Epoch 60, Loss 0.0307\n",
      "Training Accuracy: 0.9635, Testing Accuracy: 0.9708\n",
      "\n"
     ]
    },
    {
     "name": "stdout",
     "output_type": "stream",
     "text": [
      "Epoch 70, Loss 0.0291\n",
      "Training Accuracy: 0.9656, Testing Accuracy: 0.9718\n",
      "\n"
     ]
    },
    {
     "name": "stdout",
     "output_type": "stream",
     "text": [
      "Epoch 80, Loss 0.0278\n",
      "Training Accuracy: 0.9676, Testing Accuracy: 0.9723\n",
      "\n"
     ]
    },
    {
     "name": "stdout",
     "output_type": "stream",
     "text": [
      "Epoch 90, Loss 0.0267\n",
      "Training Accuracy: 0.9683, Testing Accuracy: 0.9733\n",
      "\n"
     ]
    },
    {
     "name": "stdout",
     "output_type": "stream",
     "text": [
      "Epoch 100, Loss 0.0258\n",
      "Training Accuracy: 0.9693, Testing Accuracy: 0.9738\n",
      "\n"
     ]
    },
    {
     "name": "stdout",
     "output_type": "stream",
     "text": [
      "Epoch 110, Loss 0.0249\n",
      "Training Accuracy: 0.9704, Testing Accuracy: 0.9738\n",
      "\n"
     ]
    },
    {
     "name": "stdout",
     "output_type": "stream",
     "text": [
      "Epoch 120, Loss 0.0242\n",
      "Training Accuracy: 0.9714, Testing Accuracy: 0.9733\n",
      "\n"
     ]
    },
    {
     "name": "stdout",
     "output_type": "stream",
     "text": [
      "Epoch 130, Loss 0.0235\n",
      "Training Accuracy: 0.9730, Testing Accuracy: 0.9728\n",
      "\n"
     ]
    },
    {
     "name": "stdout",
     "output_type": "stream",
     "text": [
      "Epoch 140, Loss 0.0229\n",
      "Training Accuracy: 0.9735, Testing Accuracy: 0.9728\n",
      "\n"
     ]
    },
    {
     "name": "stdout",
     "output_type": "stream",
     "text": [
      "Epoch 150, Loss 0.0224\n",
      "Training Accuracy: 0.9743, Testing Accuracy: 0.9738\n",
      "\n"
     ]
    },
    {
     "name": "stdout",
     "output_type": "stream",
     "text": [
      "Epoch 160, Loss 0.0218\n",
      "Training Accuracy: 0.9747, Testing Accuracy: 0.9738\n",
      "\n"
     ]
    },
    {
     "name": "stdout",
     "output_type": "stream",
     "text": [
      "Epoch 170, Loss 0.0214\n",
      "Training Accuracy: 0.9756, Testing Accuracy: 0.9738\n",
      "\n"
     ]
    },
    {
     "name": "stdout",
     "output_type": "stream",
     "text": [
      "Epoch 180, Loss 0.0209\n",
      "Training Accuracy: 0.9761, Testing Accuracy: 0.9738\n",
      "\n"
     ]
    },
    {
     "name": "stdout",
     "output_type": "stream",
     "text": [
      "Epoch 190, Loss 0.0205\n",
      "Training Accuracy: 0.9764, Testing Accuracy: 0.9733\n",
      "\n"
     ]
    },
    {
     "name": "stdout",
     "output_type": "stream",
     "text": [
      "Epoch 200, Loss 0.02\n",
      "Training Accuracy: 0.9770, Testing Accuracy: 0.9738\n",
      "\n"
     ]
    },
    {
     "name": "stdout",
     "output_type": "stream",
     "text": [
      "Epoch 210, Loss 0.0196\n",
      "Training Accuracy: 0.9775, Testing Accuracy: 0.9738\n",
      "\n"
     ]
    },
    {
     "name": "stdout",
     "output_type": "stream",
     "text": [
      "Epoch 220, Loss 0.0193\n",
      "Training Accuracy: 0.9782, Testing Accuracy: 0.9743\n",
      "\n"
     ]
    },
    {
     "name": "stdout",
     "output_type": "stream",
     "text": [
      "Epoch 230, Loss 0.0189\n",
      "Training Accuracy: 0.9788, Testing Accuracy: 0.9743\n",
      "\n"
     ]
    },
    {
     "name": "stdout",
     "output_type": "stream",
     "text": [
      "Epoch 240, Loss 0.0185\n",
      "Training Accuracy: 0.9790, Testing Accuracy: 0.9738\n",
      "\n"
     ]
    },
    {
     "data": {
      "text/plain": [
       "0.008244713082386545"
      ]
     },
     "execution_count": 22,
     "metadata": {},
     "output_type": "execute_result"
    }
   ],
   "source": [
    "nn_learner.train_loop(dl)"
   ]
  },
  {
   "cell_type": "code",
   "execution_count": 23,
   "id": "e0163366",
   "metadata": {
    "execution": {
     "iopub.execute_input": "2022-11-25T20:12:54.202552Z",
     "iopub.status.busy": "2022-11-25T20:12:54.201986Z",
     "iopub.status.idle": "2022-11-25T20:13:06.391090Z",
     "shell.execute_reply": "2022-11-25T20:13:06.391712Z"
    },
    "papermill": {
     "duration": 12.229408,
     "end_time": "2022-11-25T20:13:06.391839",
     "exception": false,
     "start_time": "2022-11-25T20:12:54.162431",
     "status": "completed"
    },
    "tags": []
   },
   "outputs": [
    {
     "name": "stdout",
     "output_type": "stream",
     "text": [
      "Epoch 0, Loss 0.2504\n",
      "Training Accuracy: 0.6731, Testing Accuracy: 0.6694\n",
      "\n"
     ]
    },
    {
     "name": "stdout",
     "output_type": "stream",
     "text": [
      "Epoch 10, Loss 0.0988\n",
      "Training Accuracy: 0.9222, Testing Accuracy: 0.9335\n",
      "\n"
     ]
    },
    {
     "name": "stdout",
     "output_type": "stream",
     "text": [
      "Epoch 20, Loss 0.0767\n",
      "Training Accuracy: 0.9319, Testing Accuracy: 0.9410\n",
      "\n"
     ]
    },
    {
     "name": "stdout",
     "output_type": "stream",
     "text": [
      "Epoch 30, Loss 0.0667\n",
      "Training Accuracy: 0.9386, Testing Accuracy: 0.9456\n",
      "\n"
     ]
    },
    {
     "name": "stdout",
     "output_type": "stream",
     "text": [
      "Epoch 40, Loss 0.0607\n",
      "Training Accuracy: 0.9418, Testing Accuracy: 0.9541\n",
      "\n"
     ]
    },
    {
     "name": "stdout",
     "output_type": "stream",
     "text": [
      "Epoch 50, Loss 0.0565\n",
      "Training Accuracy: 0.9446, Testing Accuracy: 0.9561\n",
      "\n"
     ]
    },
    {
     "name": "stdout",
     "output_type": "stream",
     "text": [
      "Epoch 60, Loss 0.0534\n",
      "Training Accuracy: 0.9467, Testing Accuracy: 0.9567\n",
      "\n"
     ]
    },
    {
     "name": "stdout",
     "output_type": "stream",
     "text": [
      "Epoch 70, Loss 0.051\n",
      "Training Accuracy: 0.9485, Testing Accuracy: 0.9587\n",
      "\n"
     ]
    },
    {
     "name": "stdout",
     "output_type": "stream",
     "text": [
      "Epoch 80, Loss 0.049\n",
      "Training Accuracy: 0.9498, Testing Accuracy: 0.9602\n",
      "\n"
     ]
    },
    {
     "name": "stdout",
     "output_type": "stream",
     "text": [
      "Epoch 90, Loss 0.0474\n",
      "Training Accuracy: 0.9515, Testing Accuracy: 0.9602\n",
      "\n"
     ]
    },
    {
     "name": "stdout",
     "output_type": "stream",
     "text": [
      "Epoch 100, Loss 0.046\n",
      "Training Accuracy: 0.9528, Testing Accuracy: 0.9622\n",
      "\n"
     ]
    },
    {
     "name": "stdout",
     "output_type": "stream",
     "text": [
      "Epoch 110, Loss 0.0449\n",
      "Training Accuracy: 0.9541, Testing Accuracy: 0.9622\n",
      "\n"
     ]
    },
    {
     "name": "stdout",
     "output_type": "stream",
     "text": [
      "Epoch 120, Loss 0.0438\n",
      "Training Accuracy: 0.9551, Testing Accuracy: 0.9632\n",
      "\n"
     ]
    },
    {
     "name": "stdout",
     "output_type": "stream",
     "text": [
      "Epoch 130, Loss 0.0429\n",
      "Training Accuracy: 0.9555, Testing Accuracy: 0.9637\n",
      "\n"
     ]
    },
    {
     "name": "stdout",
     "output_type": "stream",
     "text": [
      "Epoch 140, Loss 0.0421\n",
      "Training Accuracy: 0.9561, Testing Accuracy: 0.9647\n",
      "\n"
     ]
    },
    {
     "name": "stdout",
     "output_type": "stream",
     "text": [
      "Epoch 150, Loss 0.0414\n",
      "Training Accuracy: 0.9564, Testing Accuracy: 0.9647\n",
      "\n"
     ]
    },
    {
     "name": "stdout",
     "output_type": "stream",
     "text": [
      "Epoch 160, Loss 0.0407\n",
      "Training Accuracy: 0.9570, Testing Accuracy: 0.9652\n",
      "\n"
     ]
    },
    {
     "name": "stdout",
     "output_type": "stream",
     "text": [
      "Epoch 170, Loss 0.0401\n",
      "Training Accuracy: 0.9579, Testing Accuracy: 0.9652\n",
      "\n"
     ]
    },
    {
     "name": "stdout",
     "output_type": "stream",
     "text": [
      "Epoch 180, Loss 0.0396\n",
      "Training Accuracy: 0.9582, Testing Accuracy: 0.9662\n",
      "\n"
     ]
    },
    {
     "name": "stdout",
     "output_type": "stream",
     "text": [
      "Epoch 190, Loss 0.0391\n",
      "Training Accuracy: 0.9584, Testing Accuracy: 0.9662\n",
      "\n"
     ]
    },
    {
     "name": "stdout",
     "output_type": "stream",
     "text": [
      "Epoch 200, Loss 0.0386\n",
      "Training Accuracy: 0.9589, Testing Accuracy: 0.9667\n",
      "\n"
     ]
    },
    {
     "name": "stdout",
     "output_type": "stream",
     "text": [
      "Epoch 210, Loss 0.0382\n",
      "Training Accuracy: 0.9593, Testing Accuracy: 0.9667\n",
      "\n"
     ]
    },
    {
     "name": "stdout",
     "output_type": "stream",
     "text": [
      "Epoch 220, Loss 0.0378\n",
      "Training Accuracy: 0.9599, Testing Accuracy: 0.9667\n",
      "\n"
     ]
    },
    {
     "name": "stdout",
     "output_type": "stream",
     "text": [
      "Epoch 230, Loss 0.0374\n",
      "Training Accuracy: 0.9602, Testing Accuracy: 0.9667\n",
      "\n"
     ]
    },
    {
     "name": "stdout",
     "output_type": "stream",
     "text": [
      "Epoch 240, Loss 0.037\n",
      "Training Accuracy: 0.9609, Testing Accuracy: 0.9662\n",
      "\n"
     ]
    },
    {
     "data": {
      "text/plain": [
       "0.037798632882882634"
      ]
     },
     "execution_count": 23,
     "metadata": {},
     "output_type": "execute_result"
    }
   ],
   "source": [
    "lr_learner.train_loop(dl)"
   ]
  },
  {
   "cell_type": "code",
   "execution_count": 24,
   "id": "ca410940",
   "metadata": {
    "execution": {
     "iopub.execute_input": "2022-11-25T20:13:06.482431Z",
     "iopub.status.busy": "2022-11-25T20:13:06.481545Z",
     "iopub.status.idle": "2022-11-25T20:13:06.705804Z",
     "shell.execute_reply": "2022-11-25T20:13:06.706238Z"
    },
    "papermill": {
     "duration": 0.272077,
     "end_time": "2022-11-25T20:13:06.706366",
     "exception": false,
     "start_time": "2022-11-25T20:13:06.434289",
     "status": "completed"
    },
    "tags": []
   },
   "outputs": [
    {
     "data": {
      "text/plain": [
       "<matplotlib.legend.Legend at 0x7fd4c61ad400>"
      ]
     },
     "execution_count": 24,
     "metadata": {},
     "output_type": "execute_result"
    },
    {
     "data": {
      "image/png": "[encoded data removed]",
      "text/plain": [
       "<Figure size 1080x720 with 1 Axes>"
      ]
     },
     "metadata": {
      "needs_background": "light"
     },
     "output_type": "display_data"
    }
   ],
   "source": [
    "#comparing the results of NN and LR\n",
    "plt.figure(figsize=(15,10))\n",
    "\n",
    "# Neural Network plots\n",
    "plt.plot(acc_nn.accuracies, 'r-', label = \"Training Accuracies - NN\")\n",
    "plt.plot(acc_nn.test_accuracies, 'g-', label = \"Testing Accuracies - NN\")\n",
    "\n",
    "# Logistic Regression plots\n",
    "plt.plot(acc_lr.accuracies, 'k-', label = \"Training Accuracies - LR\")\n",
    "plt.plot(acc_lr.test_accuracies, 'b-', label = \"Testing Accuracies - LR\")\n",
    "plt.legend()"
   ]
  },
  {
   "cell_type": "markdown",
   "id": "80dfb35c",
   "metadata": {
    "papermill": {
     "duration": 0.042905,
     "end_time": "2022-11-25T20:13:06.792397",
     "exception": false,
     "start_time": "2022-11-25T20:13:06.749492",
     "status": "completed"
    },
    "tags": []
   },
   "source": [
    "#### Plotting the outputs of this layer of the NN.\n"
   ]
  },
  {
   "cell_type": "code",
   "execution_count": 25,
   "id": "45eb2ff5",
   "metadata": {
    "execution": {
     "iopub.execute_input": "2022-11-25T20:13:06.884396Z",
     "iopub.status.busy": "2022-11-25T20:13:06.882989Z",
     "iopub.status.idle": "2022-11-25T20:13:06.919454Z",
     "shell.execute_reply": "2022-11-25T20:13:06.920261Z"
    },
    "papermill": {
     "duration": 0.085155,
     "end_time": "2022-11-25T20:13:06.920393",
     "exception": false,
     "start_time": "2022-11-25T20:13:06.835238",
     "status": "completed"
    },
    "tags": []
   },
   "outputs": [],
   "source": [
    "new_model = Model(layers[:-2])\n",
    "testing_plot = new_model(testing_data_x)"
   ]
  },
  {
   "cell_type": "code",
   "execution_count": 26,
   "id": "4c0a5485",
   "metadata": {
    "execution": {
     "iopub.execute_input": "2022-11-25T20:13:07.017972Z",
     "iopub.status.busy": "2022-11-25T20:13:07.017401Z",
     "iopub.status.idle": "2022-11-25T20:13:07.219384Z",
     "shell.execute_reply": "2022-11-25T20:13:07.218905Z"
    },
    "papermill": {
     "duration": 0.255212,
     "end_time": "2022-11-25T20:13:07.219494",
     "exception": false,
     "start_time": "2022-11-25T20:13:06.964282",
     "status": "completed"
    },
    "tags": []
   },
   "outputs": [
    {
     "data": {
      "text/plain": [
       "Text(0.5, 1.0, 'Outputs')"
      ]
     },
     "execution_count": 26,
     "metadata": {},
     "output_type": "execute_result"
    },
    {
     "data": {
      "image/png": "[encoded data removed]",
      "text/plain": [
       "<Figure size 576x504 with 1 Axes>"
      ]
     },
     "metadata": {
      "needs_background": "light"
     },
     "output_type": "display_data"
    }
   ],
   "source": [
    "# Plotting the scatter plot of points and color coding by class\n",
    "plt.figure(figsize=(8,7))\n",
    "plt.scatter(testing_plot[:,0], testing_plot[:,1], alpha = 0.1, c = y_test.ravel());\n",
    "plt.title('Outputs')"
   ]
  },
  {
   "cell_type": "markdown",
   "id": "a74fcf8f",
   "metadata": {
    "papermill": {
     "duration": 0.045604,
     "end_time": "2022-11-25T20:13:07.332830",
     "exception": false,
     "start_time": "2022-11-25T20:13:07.287226",
     "status": "completed"
    },
    "tags": []
   },
   "source": [
    "Probability contours"
   ]
  },
  {
   "cell_type": "code",
   "execution_count": 27,
   "id": "d0afc8e3",
   "metadata": {
    "execution": {
     "iopub.execute_input": "2022-11-25T20:13:07.432099Z",
     "iopub.status.busy": "2022-11-25T20:13:07.428928Z",
     "iopub.status.idle": "2022-11-25T20:13:07.440437Z",
     "shell.execute_reply": "2022-11-25T20:13:07.440885Z"
    },
    "papermill": {
     "duration": 0.062616,
     "end_time": "2022-11-25T20:13:07.441013",
     "exception": false,
     "start_time": "2022-11-25T20:13:07.378397",
     "status": "completed"
    },
    "tags": []
   },
   "outputs": [],
   "source": [
    "model_prob = Model(layers[-2:]) "
   ]
  },
  {
   "cell_type": "code",
   "execution_count": 28,
   "id": "9b96e238",
   "metadata": {
    "execution": {
     "iopub.execute_input": "2022-11-25T20:13:07.537657Z",
     "iopub.status.busy": "2022-11-25T20:13:07.537091Z",
     "iopub.status.idle": "2022-11-25T20:13:07.551657Z",
     "shell.execute_reply": "2022-11-25T20:13:07.550808Z"
    },
    "papermill": {
     "duration": 0.064167,
     "end_time": "2022-11-25T20:13:07.551768",
     "exception": false,
     "start_time": "2022-11-25T20:13:07.487601",
     "status": "completed"
    },
    "tags": []
   },
   "outputs": [],
   "source": [
    "#creating the x and y ranges according to the above generated plot.\n",
    "x_range = np.linspace(-4, 1, 100) \n",
    "y_range = np.linspace(-6, 6, 100) \n",
    "x_grid, y_grid = np.meshgrid(x_range, y_range) # x_grid and y_grig are of size 100 X 100\n",
    "\n",
    "# converting x_grid and y_grid to continuous arrays\n",
    "x_gridflat = np.ravel(x_grid)\n",
    "y_gridflat = np.ravel(y_grid)\n",
    "\n",
    "# The last layer of the current model takes two columns as input. Hence transpose of np.vstack() is required.\n",
    "X = np.vstack((x_gridflat, y_gridflat)).T\n",
    "\n",
    "prob_contour = model_prob(X).reshape(100,100) "
   ]
  },
  {
   "cell_type": "code",
   "execution_count": 29,
   "id": "da72499a",
   "metadata": {
    "execution": {
     "iopub.execute_input": "2022-11-25T20:13:07.652905Z",
     "iopub.status.busy": "2022-11-25T20:13:07.649841Z",
     "iopub.status.idle": "2022-11-25T20:13:07.890783Z",
     "shell.execute_reply": "2022-11-25T20:13:07.891318Z"
    },
    "papermill": {
     "duration": 0.293289,
     "end_time": "2022-11-25T20:13:07.891442",
     "exception": false,
     "start_time": "2022-11-25T20:13:07.598153",
     "status": "completed"
    },
    "tags": []
   },
   "outputs": [
    {
     "data": {
      "image/png": "[encoded data removed]",
      "text/plain": [
       "<Figure size 720x648 with 1 Axes>"
      ]
     },
     "metadata": {
      "needs_background": "light"
     },
     "output_type": "display_data"
    }
   ],
   "source": [
    "plt.figure(figsize=(10,9))\n",
    "plt.scatter(testing_plot[:,0], testing_plot[:,1], alpha = 0.1, c = y_test.ravel())\n",
    "contours = plt.contour(x_grid,y_grid,prob_contour)\n",
    "plt.title('Probability Contours')\n",
    "plt.clabel(contours, inline = True );"
   ]
  },
  {
   "cell_type": "code",
   "execution_count": null,
   "id": "e81b4ac7",
   "metadata": {
    "papermill": {
     "duration": 0.048156,
     "end_time": "2022-11-25T20:13:07.987906",
     "exception": false,
     "start_time": "2022-11-25T20:13:07.939750",
     "status": "completed"
    },
    "tags": []
   },
   "outputs": [],
   "source": []
  }
 ],
 "metadata": {
  "kernelspec": {
   "display_name": "Python 3",
   "language": "python",
   "name": "python3"
  },
  "language_info": {
   "codemirror_mode": {
    "name": "ipython",
    "version": 3
   },
   "file_extension": ".py",
   "mimetype": "text/x-python",
   "name": "python",
   "nbconvert_exporter": "python",
   "pygments_lexer": "ipython3",
   "version": "3.6.15"
  },
  "papermill": {
   "default_parameters": {},
   "duration": 197.095909,
   "end_time": "2022-11-25T20:13:08.352992",
   "environment_variables": {},
   "exception": null,
   "input_path": "2020-08-11-part2.ipynb",
   "output_path": "2020-08-11-part2.ipynb",
   "parameters": {},
   "start_time": "2022-11-25T20:09:51.257083",
   "version": "2.3.3"
  }
 },
 "nbformat": 4,
 "nbformat_minor": 5
}