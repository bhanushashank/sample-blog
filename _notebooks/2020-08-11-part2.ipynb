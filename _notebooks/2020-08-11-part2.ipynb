{
 "cells": [
  {
   "cell_type": "markdown",
   "id": "98380cd3",
   "metadata": {
    "papermill": {
     "duration": 0.036045,
     "end_time": "2022-10-18T00:55:47.524619",
     "exception": false,
     "start_time": "2022-10-18T00:55:47.488574",
     "status": "completed"
    },
    "tags": []
   },
   "source": [
    "# Distinguish Your Own Digits (DYOD)"
   ]
  },
  {
   "cell_type": "markdown",
   "id": "ef31240d",
   "metadata": {
    "papermill": {
     "duration": 0.027048,
     "end_time": "2022-10-18T00:55:47.579273",
     "exception": false,
     "start_time": "2022-10-18T00:55:47.552225",
     "status": "completed"
    },
    "tags": []
   },
   "source": [
    "You are going to write a classifier that distinguishes between the number 3 and number 8."
   ]
  },
  {
   "cell_type": "code",
   "execution_count": 1,
   "id": "b15c8646",
   "metadata": {
    "execution": {
     "iopub.execute_input": "2022-10-18T00:55:47.652217Z",
     "iopub.status.busy": "2022-10-18T00:55:47.647294Z",
     "iopub.status.idle": "2022-10-18T00:55:47.666695Z",
     "shell.execute_reply": "2022-10-18T00:55:47.667346Z"
    },
    "papermill": {
     "duration": 0.061454,
     "end_time": "2022-10-18T00:55:47.667523",
     "exception": false,
     "start_time": "2022-10-18T00:55:47.606069",
     "status": "completed"
    },
    "tags": []
   },
   "outputs": [],
   "source": [
    "%load_ext autoreload\n",
    "%autoreload 2"
   ]
  },
  {
   "cell_type": "code",
   "execution_count": 2,
   "id": "22ef38dc",
   "metadata": {
    "execution": {
     "iopub.execute_input": "2022-10-18T00:55:47.733957Z",
     "iopub.status.busy": "2022-10-18T00:55:47.733272Z",
     "iopub.status.idle": "2022-10-18T00:55:48.356656Z",
     "shell.execute_reply": "2022-10-18T00:55:48.357595Z"
    },
    "papermill": {
     "duration": 0.663227,
     "end_time": "2022-10-18T00:55:48.357854",
     "exception": false,
     "start_time": "2022-10-18T00:55:47.694627",
     "status": "completed"
    },
    "tags": []
   },
   "outputs": [],
   "source": [
    "%matplotlib inline\n",
    "import numpy as np\n",
    "import matplotlib.pyplot as plt\n",
    "import pandas as pd"
   ]
  },
  {
   "cell_type": "markdown",
   "id": "ba036198",
   "metadata": {
    "papermill": {
     "duration": 0.027392,
     "end_time": "2022-10-18T00:55:48.412617",
     "exception": false,
     "start_time": "2022-10-18T00:55:48.385225",
     "status": "completed"
    },
    "tags": []
   },
   "source": [
    "From the command line run `pip install mnist`. This is a library that will help you bring down the mnist dataset. If you run this from a notebook, you need to put  `!pip install mnist` in a cell by itself."
   ]
  },
  {
   "cell_type": "code",
   "execution_count": 3,
   "id": "bb6ad8a1",
   "metadata": {
    "execution": {
     "iopub.execute_input": "2022-10-18T00:55:48.472388Z",
     "iopub.status.busy": "2022-10-18T00:55:48.471684Z",
     "iopub.status.idle": "2022-10-18T00:55:50.381764Z",
     "shell.execute_reply": "2022-10-18T00:55:50.380787Z"
    },
    "papermill": {
     "duration": 1.942335,
     "end_time": "2022-10-18T00:55:50.381905",
     "exception": false,
     "start_time": "2022-10-18T00:55:48.439570",
     "status": "completed"
    },
    "tags": []
   },
   "outputs": [
    {
     "name": "stdout",
     "output_type": "stream",
     "text": [
      "Collecting mnist\r\n"
     ]
    },
    {
     "name": "stdout",
     "output_type": "stream",
     "text": [
      "  Downloading mnist-0.2.2-py2.py3-none-any.whl (3.5 kB)\r\n",
      "Requirement already satisfied: numpy in /opt/hostedtoolcache/Python/3.6.15/x64/lib/python3.6/site-packages (from mnist) (1.19.5)\r\n"
     ]
    },
    {
     "name": "stdout",
     "output_type": "stream",
     "text": [
      "Installing collected packages: mnist\r\n",
      "Successfully installed mnist-0.2.2\r\n"
     ]
    }
   ],
   "source": [
    "!pip install mnist"
   ]
  },
  {
   "cell_type": "markdown",
   "id": "69df9c9a",
   "metadata": {
    "papermill": {
     "duration": 0.030977,
     "end_time": "2022-10-18T00:55:50.443494",
     "exception": false,
     "start_time": "2022-10-18T00:55:50.412517",
     "status": "completed"
    },
    "tags": []
   },
   "source": [
    "## Preparing the Data"
   ]
  },
  {
   "cell_type": "code",
   "execution_count": 4,
   "id": "7f69d806",
   "metadata": {
    "execution": {
     "iopub.execute_input": "2022-10-18T00:55:50.517274Z",
     "iopub.status.busy": "2022-10-18T00:55:50.509182Z",
     "iopub.status.idle": "2022-10-18T00:55:50.526792Z",
     "shell.execute_reply": "2022-10-18T00:55:50.526232Z"
    },
    "papermill": {
     "duration": 0.053428,
     "end_time": "2022-10-18T00:55:50.526921",
     "exception": false,
     "start_time": "2022-10-18T00:55:50.473493",
     "status": "completed"
    },
    "tags": []
   },
   "outputs": [],
   "source": [
    "import mnist"
   ]
  },
  {
   "cell_type": "code",
   "execution_count": 5,
   "id": "a411e44f",
   "metadata": {
    "execution": {
     "iopub.execute_input": "2022-10-18T00:55:50.592938Z",
     "iopub.status.busy": "2022-10-18T00:55:50.592164Z",
     "iopub.status.idle": "2022-10-18T00:55:51.304084Z",
     "shell.execute_reply": "2022-10-18T00:55:51.302988Z"
    },
    "papermill": {
     "duration": 0.74882,
     "end_time": "2022-10-18T00:55:51.304252",
     "exception": false,
     "start_time": "2022-10-18T00:55:50.555432",
     "status": "completed"
    },
    "tags": []
   },
   "outputs": [],
   "source": [
    "train_images = mnist.train_images()\n",
    "train_labels = mnist.train_labels()"
   ]
  },
  {
   "cell_type": "code",
   "execution_count": 6,
   "id": "dceab3a5",
   "metadata": {
    "execution": {
     "iopub.execute_input": "2022-10-18T00:55:51.369151Z",
     "iopub.status.busy": "2022-10-18T00:55:51.368425Z",
     "iopub.status.idle": "2022-10-18T00:55:51.384417Z",
     "shell.execute_reply": "2022-10-18T00:55:51.383833Z"
    },
    "papermill": {
     "duration": 0.051994,
     "end_time": "2022-10-18T00:55:51.384552",
     "exception": false,
     "start_time": "2022-10-18T00:55:51.332558",
     "status": "completed"
    },
    "tags": []
   },
   "outputs": [
    {
     "data": {
      "text/plain": [
       "((60000, 28, 28), (60000,))"
      ]
     },
     "execution_count": 6,
     "metadata": {},
     "output_type": "execute_result"
    }
   ],
   "source": [
    "train_images.shape, train_labels.shape"
   ]
  },
  {
   "cell_type": "code",
   "execution_count": 7,
   "id": "f50dc2bb",
   "metadata": {
    "execution": {
     "iopub.execute_input": "2022-10-18T00:55:51.446152Z",
     "iopub.status.busy": "2022-10-18T00:55:51.445454Z",
     "iopub.status.idle": "2022-10-18T00:55:51.660000Z",
     "shell.execute_reply": "2022-10-18T00:55:51.658226Z"
    },
    "papermill": {
     "duration": 0.247405,
     "end_time": "2022-10-18T00:55:51.660236",
     "exception": false,
     "start_time": "2022-10-18T00:55:51.412831",
     "status": "completed"
    },
    "tags": []
   },
   "outputs": [],
   "source": [
    "test_images = mnist.test_images()\n",
    "test_labels = mnist.test_labels()"
   ]
  },
  {
   "cell_type": "code",
   "execution_count": 8,
   "id": "fc38cf1b",
   "metadata": {
    "execution": {
     "iopub.execute_input": "2022-10-18T00:55:51.725345Z",
     "iopub.status.busy": "2022-10-18T00:55:51.722709Z",
     "iopub.status.idle": "2022-10-18T00:55:51.739295Z",
     "shell.execute_reply": "2022-10-18T00:55:51.738597Z"
    },
    "papermill": {
     "duration": 0.050121,
     "end_time": "2022-10-18T00:55:51.739424",
     "exception": false,
     "start_time": "2022-10-18T00:55:51.689303",
     "status": "completed"
    },
    "tags": []
   },
   "outputs": [
    {
     "data": {
      "text/plain": [
       "((10000, 28, 28), (10000,))"
      ]
     },
     "execution_count": 8,
     "metadata": {},
     "output_type": "execute_result"
    }
   ],
   "source": [
    "test_images.shape, test_labels.shape"
   ]
  },
  {
   "cell_type": "code",
   "execution_count": 9,
   "id": "f9ed8fe0",
   "metadata": {
    "execution": {
     "iopub.execute_input": "2022-10-18T00:55:51.809356Z",
     "iopub.status.busy": "2022-10-18T00:55:51.806040Z",
     "iopub.status.idle": "2022-10-18T00:55:51.965412Z",
     "shell.execute_reply": "2022-10-18T00:55:51.964237Z"
    },
    "papermill": {
     "duration": 0.194043,
     "end_time": "2022-10-18T00:55:51.965558",
     "exception": false,
     "start_time": "2022-10-18T00:55:51.771515",
     "status": "completed"
    },
    "tags": []
   },
   "outputs": [
    {
     "name": "stdout",
     "output_type": "stream",
     "text": [
      "2\n"
     ]
    },
    {
     "data": {
      "text/plain": [
       "<matplotlib.image.AxesImage at 0x7fc9a163cda0>"
      ]
     },
     "execution_count": 9,
     "metadata": {},
     "output_type": "execute_result"
    },
    {
     "data": {
      "image/png": "[encoded data removed]",
      "text/plain": [
       "<Figure size 432x288 with 1 Axes>"
      ]
     },
     "metadata": {
      "needs_background": "light"
     },
     "output_type": "display_data"
    }
   ],
   "source": [
    "image_index = 7776 # You may select anything up to 60,000\n",
    "print(train_labels[image_index]) \n",
    "plt.imshow(train_images[image_index], cmap='Greys')"
   ]
  },
  {
   "cell_type": "markdown",
   "id": "a8d2388d",
   "metadata": {
    "papermill": {
     "duration": 0.034407,
     "end_time": "2022-10-18T00:55:52.031456",
     "exception": false,
     "start_time": "2022-10-18T00:55:51.997049",
     "status": "completed"
    },
    "tags": []
   },
   "source": [
    "## Filter data to get 3 and 8 out"
   ]
  },
  {
   "cell_type": "code",
   "execution_count": 10,
   "id": "776f7fc7",
   "metadata": {
    "execution": {
     "iopub.execute_input": "2022-10-18T00:55:52.097003Z",
     "iopub.status.busy": "2022-10-18T00:55:52.096247Z",
     "iopub.status.idle": "2022-10-18T00:55:52.118809Z",
     "shell.execute_reply": "2022-10-18T00:55:52.118234Z"
    },
    "papermill": {
     "duration": 0.057449,
     "end_time": "2022-10-18T00:55:52.118942",
     "exception": false,
     "start_time": "2022-10-18T00:55:52.061493",
     "status": "completed"
    },
    "tags": []
   },
   "outputs": [],
   "source": [
    "train_filter = np.where((train_labels == 3 ) | (train_labels == 8))\n",
    "test_filter = np.where((test_labels == 3) | (test_labels == 8))\n",
    "X_train, y_train = train_images[train_filter], train_labels[train_filter]\n",
    "X_test, y_test = test_images[test_filter], test_labels[test_filter]"
   ]
  },
  {
   "cell_type": "markdown",
   "id": "948f0b7e",
   "metadata": {
    "papermill": {
     "duration": 0.029774,
     "end_time": "2022-10-18T00:55:52.178807",
     "exception": false,
     "start_time": "2022-10-18T00:55:52.149033",
     "status": "completed"
    },
    "tags": []
   },
   "source": [
    "We normalize the pizel values in the 0 to 1 range"
   ]
  },
  {
   "cell_type": "code",
   "execution_count": 11,
   "id": "ee4c2166",
   "metadata": {
    "execution": {
     "iopub.execute_input": "2022-10-18T00:55:52.243822Z",
     "iopub.status.busy": "2022-10-18T00:55:52.243124Z",
     "iopub.status.idle": "2022-10-18T00:55:52.297816Z",
     "shell.execute_reply": "2022-10-18T00:55:52.297073Z"
    },
    "papermill": {
     "duration": 0.089298,
     "end_time": "2022-10-18T00:55:52.297953",
     "exception": false,
     "start_time": "2022-10-18T00:55:52.208655",
     "status": "completed"
    },
    "tags": []
   },
   "outputs": [],
   "source": [
    "X_train = X_train/255.\n",
    "X_test = X_test/255."
   ]
  },
  {
   "cell_type": "markdown",
   "id": "ddcf4fab",
   "metadata": {
    "papermill": {
     "duration": 0.031575,
     "end_time": "2022-10-18T00:55:52.362196",
     "exception": false,
     "start_time": "2022-10-18T00:55:52.330621",
     "status": "completed"
    },
    "tags": []
   },
   "source": [
    "And setup the labels as 1 (when the digit is 3) and 0 (when the digit is 8)"
   ]
  },
  {
   "cell_type": "code",
   "execution_count": 12,
   "id": "7dc908f2",
   "metadata": {
    "execution": {
     "iopub.execute_input": "2022-10-18T00:55:52.432054Z",
     "iopub.status.busy": "2022-10-18T00:55:52.431353Z",
     "iopub.status.idle": "2022-10-18T00:55:52.446875Z",
     "shell.execute_reply": "2022-10-18T00:55:52.446334Z"
    },
    "papermill": {
     "duration": 0.052728,
     "end_time": "2022-10-18T00:55:52.447007",
     "exception": false,
     "start_time": "2022-10-18T00:55:52.394279",
     "status": "completed"
    },
    "tags": []
   },
   "outputs": [],
   "source": [
    "y_train = 1*(y_train==3)\n",
    "y_test = 1*(y_test==3)"
   ]
  },
  {
   "cell_type": "code",
   "execution_count": 13,
   "id": "01e4e969",
   "metadata": {
    "execution": {
     "iopub.execute_input": "2022-10-18T00:55:52.517863Z",
     "iopub.status.busy": "2022-10-18T00:55:52.516870Z",
     "iopub.status.idle": "2022-10-18T00:55:52.531568Z",
     "shell.execute_reply": "2022-10-18T00:55:52.530890Z"
    },
    "papermill": {
     "duration": 0.05333,
     "end_time": "2022-10-18T00:55:52.531708",
     "exception": false,
     "start_time": "2022-10-18T00:55:52.478378",
     "status": "completed"
    },
    "tags": []
   },
   "outputs": [
    {
     "data": {
      "text/plain": [
       "((11982, 28, 28), (1984, 28, 28))"
      ]
     },
     "execution_count": 13,
     "metadata": {},
     "output_type": "execute_result"
    }
   ],
   "source": [
    "X_train.shape, X_test.shape"
   ]
  },
  {
   "cell_type": "markdown",
   "id": "5ccf3f85",
   "metadata": {
    "papermill": {
     "duration": 0.031046,
     "end_time": "2022-10-18T00:55:52.594249",
     "exception": false,
     "start_time": "2022-10-18T00:55:52.563203",
     "status": "completed"
    },
    "tags": []
   },
   "source": [
    "We reshape the data to flatten the image pixels into a set of features or co-variates:"
   ]
  },
  {
   "cell_type": "code",
   "execution_count": 14,
   "id": "5286a4a3",
   "metadata": {
    "execution": {
     "iopub.execute_input": "2022-10-18T00:55:52.665910Z",
     "iopub.status.busy": "2022-10-18T00:55:52.664696Z",
     "iopub.status.idle": "2022-10-18T00:55:52.679667Z",
     "shell.execute_reply": "2022-10-18T00:55:52.680227Z"
    },
    "papermill": {
     "duration": 0.054233,
     "end_time": "2022-10-18T00:55:52.680408",
     "exception": false,
     "start_time": "2022-10-18T00:55:52.626175",
     "status": "completed"
    },
    "tags": []
   },
   "outputs": [
    {
     "data": {
      "text/plain": [
       "((11982, 784), (1984, 784))"
      ]
     },
     "execution_count": 14,
     "metadata": {},
     "output_type": "execute_result"
    }
   ],
   "source": [
    "X_train = X_train.reshape(X_train.shape[0], -1)\n",
    "X_test = X_test.reshape(X_test.shape[0], -1)\n",
    "X_train.shape, X_test.shape"
   ]
  },
  {
   "cell_type": "code",
   "execution_count": 15,
   "id": "73c5f88a",
   "metadata": {
    "execution": {
     "iopub.execute_input": "2022-10-18T00:55:52.748352Z",
     "iopub.status.busy": "2022-10-18T00:55:52.747633Z",
     "iopub.status.idle": "2022-10-18T00:55:52.769983Z",
     "shell.execute_reply": "2022-10-18T00:55:52.769417Z"
    },
    "papermill": {
     "duration": 0.059179,
     "end_time": "2022-10-18T00:55:52.770113",
     "exception": false,
     "start_time": "2022-10-18T00:55:52.710934",
     "status": "completed"
    },
    "tags": []
   },
   "outputs": [],
   "source": [
    "#Impoting functions from 'Kudzu'\n",
    "from kudzu.model import Model\n",
    "from kudzu.train import Learner\n",
    "from kudzu.optim import GD\n",
    "from kudzu.data import Data, Sampler,Dataloader\n",
    "\n",
    "from kudzu.callbacks import AccCallback\n",
    "from kudzu.callbacks import ClfCallback\n",
    "\n",
    "from kudzu.loss import MSE\n",
    "\n",
    "from kudzu.layer import Sigmoid,Relu\n",
    "from kudzu.layer import Affine"
   ]
  },
  {
   "cell_type": "markdown",
   "id": "bc01172a",
   "metadata": {
    "papermill": {
     "duration": 0.030266,
     "end_time": "2022-10-18T00:55:52.830955",
     "exception": false,
     "start_time": "2022-10-18T00:55:52.800689",
     "status": "completed"
    },
    "tags": []
   },
   "source": [
    "### Let us create a `Config` class, to store important parameters. \n",
    "This class essentially plays the role of a dictionary."
   ]
  },
  {
   "cell_type": "code",
   "execution_count": 16,
   "id": "978281aa",
   "metadata": {
    "execution": {
     "iopub.execute_input": "2022-10-18T00:55:52.896761Z",
     "iopub.status.busy": "2022-10-18T00:55:52.896029Z",
     "iopub.status.idle": "2022-10-18T00:55:52.909925Z",
     "shell.execute_reply": "2022-10-18T00:55:52.909372Z"
    },
    "papermill": {
     "duration": 0.048815,
     "end_time": "2022-10-18T00:55:52.910052",
     "exception": false,
     "start_time": "2022-10-18T00:55:52.861237",
     "status": "completed"
    },
    "tags": []
   },
   "outputs": [],
   "source": [
    "class Config:\n",
    "    pass\n",
    "config = Config()\n",
    "config.lr = 0.001\n",
    "config.num_epochs = 250\n",
    "config.bs = 50"
   ]
  },
  {
   "cell_type": "markdown",
   "id": "1385fa59",
   "metadata": {
    "papermill": {
     "duration": 0.030214,
     "end_time": "2022-10-18T00:55:52.970693",
     "exception": false,
     "start_time": "2022-10-18T00:55:52.940479",
     "status": "completed"
    },
    "tags": []
   },
   "source": [
    "### Running Models with the Training data\n",
    "Details about the network layers:\n",
    "- A first affine layer has 784 inputs and does 100 affine transforms. These are followed by a Relu\n",
    "- A second affine layer has 100 inputs from the 100 activations of the past layer, and does 100 affine transforms. These are followed by a Relu\n",
    "- A third affine layer has 100 activations and does 2 affine transformations to create an embedding for visualization. There is no non-linearity here.\n",
    "- A final \"logistic regression\" which has an affine transform from 2 inputs to 1 output, which is squeezed through a sigmoid.\n"
   ]
  },
  {
   "cell_type": "code",
   "execution_count": 17,
   "id": "2b9c66db",
   "metadata": {
    "execution": {
     "iopub.execute_input": "2022-10-18T00:55:53.037064Z",
     "iopub.status.busy": "2022-10-18T00:55:53.036371Z",
     "iopub.status.idle": "2022-10-18T00:55:53.052754Z",
     "shell.execute_reply": "2022-10-18T00:55:53.052048Z"
    },
    "papermill": {
     "duration": 0.051633,
     "end_time": "2022-10-18T00:55:53.052890",
     "exception": false,
     "start_time": "2022-10-18T00:55:53.001257",
     "status": "completed"
    },
    "tags": []
   },
   "outputs": [],
   "source": [
    "data = Data(X_train, y_train.reshape(-1,1))\n",
    "sampler = Sampler(data, config.bs, shuffle=True)\n",
    "\n",
    "dl = Dataloader(data, sampler)\n",
    "\n",
    "opt = GD(config.lr)\n",
    "loss = MSE()"
   ]
  },
  {
   "cell_type": "code",
   "execution_count": 18,
   "id": "b275e4c2",
   "metadata": {
    "execution": {
     "iopub.execute_input": "2022-10-18T00:55:53.123974Z",
     "iopub.status.busy": "2022-10-18T00:55:53.123268Z",
     "iopub.status.idle": "2022-10-18T00:55:53.137594Z",
     "shell.execute_reply": "2022-10-18T00:55:53.137025Z"
    },
    "papermill": {
     "duration": 0.05437,
     "end_time": "2022-10-18T00:55:53.137723",
     "exception": false,
     "start_time": "2022-10-18T00:55:53.083353",
     "status": "completed"
    },
    "tags": []
   },
   "outputs": [],
   "source": [
    "training_data_x = X_train\n",
    "testing_data_x = X_test\n",
    "training_data_y = y_train.reshape(-1,1)\n",
    "testing_data_y = y_test.reshape(-1,1)"
   ]
  },
  {
   "cell_type": "code",
   "execution_count": 19,
   "id": "76951160",
   "metadata": {
    "execution": {
     "iopub.execute_input": "2022-10-18T00:55:53.204911Z",
     "iopub.status.busy": "2022-10-18T00:55:53.204183Z",
     "iopub.status.idle": "2022-10-18T00:55:53.224023Z",
     "shell.execute_reply": "2022-10-18T00:55:53.224600Z"
    },
    "papermill": {
     "duration": 0.056649,
     "end_time": "2022-10-18T00:55:53.224753",
     "exception": false,
     "start_time": "2022-10-18T00:55:53.168104",
     "status": "completed"
    },
    "tags": []
   },
   "outputs": [
    {
     "name": "stdout",
     "output_type": "stream",
     "text": [
      "xavier\n",
      "xavier\n",
      "xavier\n",
      "xavier\n",
      "xavier\n"
     ]
    }
   ],
   "source": [
    "layers = [Affine(\"first\", 784, 100), Relu(\"first\"), Affine(\"second\", 100, 100), Relu(\"second\"), Affine(\"third\", 100, 2), Affine(\"last\", 2, 1), Sigmoid(\"last\")]\n",
    "model_nn = Model(layers)\n",
    "model_lr = Model([Affine(\"logits\", 784, 1), Sigmoid(\"sigmoid\")])"
   ]
  },
  {
   "cell_type": "code",
   "execution_count": 20,
   "id": "6eede77a",
   "metadata": {
    "execution": {
     "iopub.execute_input": "2022-10-18T00:55:53.290872Z",
     "iopub.status.busy": "2022-10-18T00:55:53.290190Z",
     "iopub.status.idle": "2022-10-18T00:55:53.304431Z",
     "shell.execute_reply": "2022-10-18T00:55:53.303850Z"
    },
    "papermill": {
     "duration": 0.048963,
     "end_time": "2022-10-18T00:55:53.304562",
     "exception": false,
     "start_time": "2022-10-18T00:55:53.255599",
     "status": "completed"
    },
    "tags": []
   },
   "outputs": [],
   "source": [
    "nn_learner = Learner(loss, model_nn, opt, config.num_epochs)\n",
    "acc_nn = ClfCallback(nn_learner, config.bs, training_data_x , testing_data_x, training_data_y, testing_data_y)\n",
    "nn_learner.set_callbacks([acc_nn])"
   ]
  },
  {
   "cell_type": "code",
   "execution_count": 21,
   "id": "877b6cc7",
   "metadata": {
    "execution": {
     "iopub.execute_input": "2022-10-18T00:55:53.373534Z",
     "iopub.status.busy": "2022-10-18T00:55:53.372847Z",
     "iopub.status.idle": "2022-10-18T00:55:53.385743Z",
     "shell.execute_reply": "2022-10-18T00:55:53.385184Z"
    },
    "papermill": {
     "duration": 0.050577,
     "end_time": "2022-10-18T00:55:53.385869",
     "exception": false,
     "start_time": "2022-10-18T00:55:53.335292",
     "status": "completed"
    },
    "tags": []
   },
   "outputs": [],
   "source": [
    "lr_learner = Learner(loss, model_lr, opt, config.num_epochs)\n",
    "acc_lr = ClfCallback(lr_learner, config.bs, training_data_x , testing_data_x, training_data_y, testing_data_y)\n",
    "lr_learner.set_callbacks([acc_lr])"
   ]
  },
  {
   "cell_type": "code",
   "execution_count": 22,
   "id": "d9b133c3",
   "metadata": {
    "execution": {
     "iopub.execute_input": "2022-10-18T00:55:53.451540Z",
     "iopub.status.busy": "2022-10-18T00:55:53.450873Z",
     "iopub.status.idle": "2022-10-18T00:57:19.739454Z",
     "shell.execute_reply": "2022-10-18T00:57:19.740467Z"
    },
    "papermill": {
     "duration": 86.324052,
     "end_time": "2022-10-18T00:57:19.740636",
     "exception": false,
     "start_time": "2022-10-18T00:55:53.416584",
     "status": "completed"
    },
    "tags": []
   },
   "outputs": [
    {
     "name": "stdout",
     "output_type": "stream",
     "text": [
      "Epoch 0, Loss 0.256\n",
      "Training Accuracy: 0.5835, Testing Accuracy: 0.5822\n",
      "\n"
     ]
    },
    {
     "name": "stdout",
     "output_type": "stream",
     "text": [
      "Epoch 10, Loss 0.0913\n",
      "Training Accuracy: 0.9276, Testing Accuracy: 0.9380\n",
      "\n"
     ]
    },
    {
     "name": "stdout",
     "output_type": "stream",
     "text": [
      "Epoch 20, Loss 0.0546\n",
      "Training Accuracy: 0.9451, Testing Accuracy: 0.9602\n",
      "\n"
     ]
    },
    {
     "name": "stdout",
     "output_type": "stream",
     "text": [
      "Epoch 30, Loss 0.0432\n",
      "Training Accuracy: 0.9524, Testing Accuracy: 0.9647\n",
      "\n"
     ]
    },
    {
     "name": "stdout",
     "output_type": "stream",
     "text": [
      "Epoch 40, Loss 0.0376\n",
      "Training Accuracy: 0.9579, Testing Accuracy: 0.9662\n",
      "\n"
     ]
    },
    {
     "name": "stdout",
     "output_type": "stream",
     "text": [
      "Epoch 50, Loss 0.0341\n",
      "Training Accuracy: 0.9607, Testing Accuracy: 0.9672\n",
      "\n"
     ]
    },
    {
     "name": "stdout",
     "output_type": "stream",
     "text": [
      "Epoch 60, Loss 0.0317\n",
      "Training Accuracy: 0.9627, Testing Accuracy: 0.9688\n",
      "\n"
     ]
    },
    {
     "name": "stdout",
     "output_type": "stream",
     "text": [
      "Epoch 70, Loss 0.0299\n",
      "Training Accuracy: 0.9646, Testing Accuracy: 0.9698\n",
      "\n"
     ]
    },
    {
     "name": "stdout",
     "output_type": "stream",
     "text": [
      "Epoch 80, Loss 0.0285\n",
      "Training Accuracy: 0.9670, Testing Accuracy: 0.9698\n",
      "\n"
     ]
    },
    {
     "name": "stdout",
     "output_type": "stream",
     "text": [
      "Epoch 90, Loss 0.0273\n",
      "Training Accuracy: 0.9680, Testing Accuracy: 0.9713\n",
      "\n"
     ]
    },
    {
     "name": "stdout",
     "output_type": "stream",
     "text": [
      "Epoch 100, Loss 0.0263\n",
      "Training Accuracy: 0.9700, Testing Accuracy: 0.9723\n",
      "\n"
     ]
    },
    {
     "name": "stdout",
     "output_type": "stream",
     "text": [
      "Epoch 110, Loss 0.0254\n",
      "Training Accuracy: 0.9706, Testing Accuracy: 0.9723\n",
      "\n"
     ]
    },
    {
     "name": "stdout",
     "output_type": "stream",
     "text": [
      "Epoch 120, Loss 0.0247\n",
      "Training Accuracy: 0.9713, Testing Accuracy: 0.9723\n",
      "\n"
     ]
    },
    {
     "name": "stdout",
     "output_type": "stream",
     "text": [
      "Epoch 130, Loss 0.0239\n",
      "Training Accuracy: 0.9724, Testing Accuracy: 0.9723\n",
      "\n"
     ]
    },
    {
     "name": "stdout",
     "output_type": "stream",
     "text": [
      "Epoch 140, Loss 0.0233\n",
      "Training Accuracy: 0.9734, Testing Accuracy: 0.9728\n",
      "\n"
     ]
    },
    {
     "name": "stdout",
     "output_type": "stream",
     "text": [
      "Epoch 150, Loss 0.0227\n",
      "Training Accuracy: 0.9740, Testing Accuracy: 0.9733\n",
      "\n"
     ]
    },
    {
     "name": "stdout",
     "output_type": "stream",
     "text": [
      "Epoch 160, Loss 0.0221\n",
      "Training Accuracy: 0.9741, Testing Accuracy: 0.9743\n",
      "\n"
     ]
    },
    {
     "name": "stdout",
     "output_type": "stream",
     "text": [
      "Epoch 170, Loss 0.0216\n",
      "Training Accuracy: 0.9750, Testing Accuracy: 0.9743\n",
      "\n"
     ]
    },
    {
     "name": "stdout",
     "output_type": "stream",
     "text": [
      "Epoch 180, Loss 0.0212\n",
      "Training Accuracy: 0.9760, Testing Accuracy: 0.9743\n",
      "\n"
     ]
    },
    {
     "name": "stdout",
     "output_type": "stream",
     "text": [
      "Epoch 190, Loss 0.0207\n",
      "Training Accuracy: 0.9766, Testing Accuracy: 0.9753\n",
      "\n"
     ]
    },
    {
     "name": "stdout",
     "output_type": "stream",
     "text": [
      "Epoch 200, Loss 0.0203\n",
      "Training Accuracy: 0.9770, Testing Accuracy: 0.9748\n",
      "\n"
     ]
    },
    {
     "name": "stdout",
     "output_type": "stream",
     "text": [
      "Epoch 210, Loss 0.0198\n",
      "Training Accuracy: 0.9772, Testing Accuracy: 0.9748\n",
      "\n"
     ]
    },
    {
     "name": "stdout",
     "output_type": "stream",
     "text": [
      "Epoch 220, Loss 0.0194\n",
      "Training Accuracy: 0.9781, Testing Accuracy: 0.9748\n",
      "\n"
     ]
    },
    {
     "name": "stdout",
     "output_type": "stream",
     "text": [
      "Epoch 230, Loss 0.0191\n",
      "Training Accuracy: 0.9784, Testing Accuracy: 0.9748\n",
      "\n"
     ]
    },
    {
     "name": "stdout",
     "output_type": "stream",
     "text": [
      "Epoch 240, Loss 0.0187\n",
      "Training Accuracy: 0.9788, Testing Accuracy: 0.9758\n",
      "\n"
     ]
    },
    {
     "data": {
      "text/plain": [
       "0.007757216685621623"
      ]
     },
     "execution_count": 22,
     "metadata": {},
     "output_type": "execute_result"
    }
   ],
   "source": [
    "nn_learner.train_loop(dl)"
   ]
  },
  {
   "cell_type": "code",
   "execution_count": 23,
   "id": "e0163366",
   "metadata": {
    "execution": {
     "iopub.execute_input": "2022-10-18T00:57:19.830137Z",
     "iopub.status.busy": "2022-10-18T00:57:19.829431Z",
     "iopub.status.idle": "2022-10-18T00:57:35.773039Z",
     "shell.execute_reply": "2022-10-18T00:57:35.773990Z"
    },
    "papermill": {
     "duration": 15.994093,
     "end_time": "2022-10-18T00:57:35.774153",
     "exception": false,
     "start_time": "2022-10-18T00:57:19.780060",
     "status": "completed"
    },
    "tags": []
   },
   "outputs": [
    {
     "name": "stdout",
     "output_type": "stream",
     "text": [
      "Epoch 0, Loss 0.2398\n",
      "Training Accuracy: 0.6995, Testing Accuracy: 0.6996\n",
      "\n"
     ]
    },
    {
     "name": "stdout",
     "output_type": "stream",
     "text": [
      "Epoch 10, Loss 0.1032\n",
      "Training Accuracy: 0.9091, Testing Accuracy: 0.9234\n",
      "\n"
     ]
    },
    {
     "name": "stdout",
     "output_type": "stream",
     "text": [
      "Epoch 20, Loss 0.0794\n",
      "Training Accuracy: 0.9272, Testing Accuracy: 0.9400\n",
      "\n"
     ]
    },
    {
     "name": "stdout",
     "output_type": "stream",
     "text": [
      "Epoch 30, Loss 0.0684\n",
      "Training Accuracy: 0.9364, Testing Accuracy: 0.9486\n",
      "\n"
     ]
    },
    {
     "name": "stdout",
     "output_type": "stream",
     "text": [
      "Epoch 40, Loss 0.0618\n",
      "Training Accuracy: 0.9407, Testing Accuracy: 0.9521\n",
      "\n"
     ]
    },
    {
     "name": "stdout",
     "output_type": "stream",
     "text": [
      "Epoch 50, Loss 0.0574\n",
      "Training Accuracy: 0.9442, Testing Accuracy: 0.9546\n",
      "\n"
     ]
    },
    {
     "name": "stdout",
     "output_type": "stream",
     "text": [
      "Epoch 60, Loss 0.0541\n",
      "Training Accuracy: 0.9464, Testing Accuracy: 0.9567\n",
      "\n"
     ]
    },
    {
     "name": "stdout",
     "output_type": "stream",
     "text": [
      "Epoch 70, Loss 0.0516\n",
      "Training Accuracy: 0.9487, Testing Accuracy: 0.9592\n",
      "\n"
     ]
    },
    {
     "name": "stdout",
     "output_type": "stream",
     "text": [
      "Epoch 80, Loss 0.0495\n",
      "Training Accuracy: 0.9503, Testing Accuracy: 0.9602\n",
      "\n"
     ]
    },
    {
     "name": "stdout",
     "output_type": "stream",
     "text": [
      "Epoch 90, Loss 0.0478\n",
      "Training Accuracy: 0.9513, Testing Accuracy: 0.9607\n",
      "\n"
     ]
    },
    {
     "name": "stdout",
     "output_type": "stream",
     "text": [
      "Epoch 100, Loss 0.0464\n",
      "Training Accuracy: 0.9526, Testing Accuracy: 0.9617\n",
      "\n"
     ]
    },
    {
     "name": "stdout",
     "output_type": "stream",
     "text": [
      "Epoch 110, Loss 0.0452\n",
      "Training Accuracy: 0.9537, Testing Accuracy: 0.9622\n",
      "\n"
     ]
    },
    {
     "name": "stdout",
     "output_type": "stream",
     "text": [
      "Epoch 120, Loss 0.0441\n",
      "Training Accuracy: 0.9549, Testing Accuracy: 0.9627\n",
      "\n"
     ]
    },
    {
     "name": "stdout",
     "output_type": "stream",
     "text": [
      "Epoch 130, Loss 0.0432\n",
      "Training Accuracy: 0.9560, Testing Accuracy: 0.9637\n",
      "\n"
     ]
    },
    {
     "name": "stdout",
     "output_type": "stream",
     "text": [
      "Epoch 140, Loss 0.0424\n",
      "Training Accuracy: 0.9568, Testing Accuracy: 0.9652\n",
      "\n"
     ]
    },
    {
     "name": "stdout",
     "output_type": "stream",
     "text": [
      "Epoch 150, Loss 0.0416\n",
      "Training Accuracy: 0.9570, Testing Accuracy: 0.9657\n",
      "\n"
     ]
    },
    {
     "name": "stdout",
     "output_type": "stream",
     "text": [
      "Epoch 160, Loss 0.041\n",
      "Training Accuracy: 0.9574, Testing Accuracy: 0.9657\n",
      "\n"
     ]
    },
    {
     "name": "stdout",
     "output_type": "stream",
     "text": [
      "Epoch 170, Loss 0.0403\n",
      "Training Accuracy: 0.9578, Testing Accuracy: 0.9657\n",
      "\n"
     ]
    },
    {
     "name": "stdout",
     "output_type": "stream",
     "text": [
      "Epoch 180, Loss 0.0398\n",
      "Training Accuracy: 0.9582, Testing Accuracy: 0.9662\n",
      "\n"
     ]
    },
    {
     "name": "stdout",
     "output_type": "stream",
     "text": [
      "Epoch 190, Loss 0.0393\n",
      "Training Accuracy: 0.9584, Testing Accuracy: 0.9667\n",
      "\n"
     ]
    },
    {
     "name": "stdout",
     "output_type": "stream",
     "text": [
      "Epoch 200, Loss 0.0388\n",
      "Training Accuracy: 0.9593, Testing Accuracy: 0.9667\n",
      "\n"
     ]
    },
    {
     "name": "stdout",
     "output_type": "stream",
     "text": [
      "Epoch 210, Loss 0.0383\n",
      "Training Accuracy: 0.9599, Testing Accuracy: 0.9662\n",
      "\n"
     ]
    },
    {
     "name": "stdout",
     "output_type": "stream",
     "text": [
      "Epoch 220, Loss 0.0379\n",
      "Training Accuracy: 0.9605, Testing Accuracy: 0.9667\n",
      "\n"
     ]
    },
    {
     "name": "stdout",
     "output_type": "stream",
     "text": [
      "Epoch 230, Loss 0.0375\n",
      "Training Accuracy: 0.9606, Testing Accuracy: 0.9672\n",
      "\n"
     ]
    },
    {
     "name": "stdout",
     "output_type": "stream",
     "text": [
      "Epoch 240, Loss 0.0372\n",
      "Training Accuracy: 0.9609, Testing Accuracy: 0.9672\n",
      "\n"
     ]
    },
    {
     "data": {
      "text/plain": [
       "0.031035577960307356"
      ]
     },
     "execution_count": 23,
     "metadata": {},
     "output_type": "execute_result"
    }
   ],
   "source": [
    "lr_learner.train_loop(dl)"
   ]
  },
  {
   "cell_type": "code",
   "execution_count": 24,
   "id": "ca410940",
   "metadata": {
    "execution": {
     "iopub.execute_input": "2022-10-18T00:57:35.878167Z",
     "iopub.status.busy": "2022-10-18T00:57:35.877468Z",
     "iopub.status.idle": "2022-10-18T00:57:36.147513Z",
     "shell.execute_reply": "2022-10-18T00:57:36.146914Z"
    },
    "papermill": {
     "duration": 0.32705,
     "end_time": "2022-10-18T00:57:36.147648",
     "exception": false,
     "start_time": "2022-10-18T00:57:35.820598",
     "status": "completed"
    },
    "tags": []
   },
   "outputs": [
    {
     "data": {
      "text/plain": [
       "<matplotlib.legend.Legend at 0x7fc9a11ac358>"
      ]
     },
     "execution_count": 24,
     "metadata": {},
     "output_type": "execute_result"
    },
    {
     "data": {
      "image/png": "[encoded data removed]",
      "text/plain": [
       "<Figure size 1080x720 with 1 Axes>"
      ]
     },
     "metadata": {
      "needs_background": "light"
     },
     "output_type": "display_data"
    }
   ],
   "source": [
    "#comparing the results of NN and LR\n",
    "plt.figure(figsize=(15,10))\n",
    "\n",
    "# Neural Network plots\n",
    "plt.plot(acc_nn.accuracies, 'r-', label = \"Training Accuracies - NN\")\n",
    "plt.plot(acc_nn.test_accuracies, 'g-', label = \"Testing Accuracies - NN\")\n",
    "\n",
    "# Logistic Regression plots\n",
    "plt.plot(acc_lr.accuracies, 'k-', label = \"Training Accuracies - LR\")\n",
    "plt.plot(acc_lr.test_accuracies, 'b-', label = \"Testing Accuracies - LR\")\n",
    "plt.legend()"
   ]
  },
  {
   "cell_type": "markdown",
   "id": "80dfb35c",
   "metadata": {
    "papermill": {
     "duration": 0.047374,
     "end_time": "2022-10-18T00:57:36.242900",
     "exception": false,
     "start_time": "2022-10-18T00:57:36.195526",
     "status": "completed"
    },
    "tags": []
   },
   "source": [
    "#### Plotting the outputs of this layer of the NN.\n"
   ]
  },
  {
   "cell_type": "code",
   "execution_count": 25,
   "id": "45eb2ff5",
   "metadata": {
    "execution": {
     "iopub.execute_input": "2022-10-18T00:57:36.344303Z",
     "iopub.status.busy": "2022-10-18T00:57:36.343604Z",
     "iopub.status.idle": "2022-10-18T00:57:36.369107Z",
     "shell.execute_reply": "2022-10-18T00:57:36.369971Z"
    },
    "papermill": {
     "duration": 0.079834,
     "end_time": "2022-10-18T00:57:36.370130",
     "exception": false,
     "start_time": "2022-10-18T00:57:36.290296",
     "status": "completed"
    },
    "tags": []
   },
   "outputs": [],
   "source": [
    "new_model = Model(layers[:-2])\n",
    "testing_plot = new_model(testing_data_x)"
   ]
  },
  {
   "cell_type": "code",
   "execution_count": 26,
   "id": "4c0a5485",
   "metadata": {
    "execution": {
     "iopub.execute_input": "2022-10-18T00:57:36.476033Z",
     "iopub.status.busy": "2022-10-18T00:57:36.473863Z",
     "iopub.status.idle": "2022-10-18T00:57:36.694357Z",
     "shell.execute_reply": "2022-10-18T00:57:36.693787Z"
    },
    "papermill": {
     "duration": 0.274904,
     "end_time": "2022-10-18T00:57:36.694490",
     "exception": false,
     "start_time": "2022-10-18T00:57:36.419586",
     "status": "completed"
    },
    "tags": []
   },
   "outputs": [
    {
     "data": {
      "text/plain": [
       "Text(0.5, 1.0, 'Outputs')"
      ]
     },
     "execution_count": 26,
     "metadata": {},
     "output_type": "execute_result"
    },
    {
     "data": {
      "image/png": "[encoded data removed]",
      "text/plain": [
       "<Figure size 576x504 with 1 Axes>"
      ]
     },
     "metadata": {
      "needs_background": "light"
     },
     "output_type": "display_data"
    }
   ],
   "source": [
    "# Plotting the scatter plot of points and color coding by class\n",
    "plt.figure(figsize=(8,7))\n",
    "plt.scatter(testing_plot[:,0], testing_plot[:,1], alpha = 0.1, c = y_test.ravel());\n",
    "plt.title('Outputs')"
   ]
  },
  {
   "cell_type": "markdown",
   "id": "a74fcf8f",
   "metadata": {
    "papermill": {
     "duration": 0.049432,
     "end_time": "2022-10-18T00:57:36.793888",
     "exception": false,
     "start_time": "2022-10-18T00:57:36.744456",
     "status": "completed"
    },
    "tags": []
   },
   "source": [
    "Probability contours"
   ]
  },
  {
   "cell_type": "code",
   "execution_count": 27,
   "id": "d0afc8e3",
   "metadata": {
    "execution": {
     "iopub.execute_input": "2022-10-18T00:57:36.898704Z",
     "iopub.status.busy": "2022-10-18T00:57:36.897997Z",
     "iopub.status.idle": "2022-10-18T00:57:36.913517Z",
     "shell.execute_reply": "2022-10-18T00:57:36.911714Z"
    },
    "papermill": {
     "duration": 0.070398,
     "end_time": "2022-10-18T00:57:36.913827",
     "exception": false,
     "start_time": "2022-10-18T00:57:36.843429",
     "status": "completed"
    },
    "tags": []
   },
   "outputs": [],
   "source": [
    "model_prob = Model(layers[-2:]) "
   ]
  },
  {
   "cell_type": "code",
   "execution_count": 28,
   "id": "9b96e238",
   "metadata": {
    "execution": {
     "iopub.execute_input": "2022-10-18T00:57:37.051443Z",
     "iopub.status.busy": "2022-10-18T00:57:37.050758Z",
     "iopub.status.idle": "2022-10-18T00:57:37.067105Z",
     "shell.execute_reply": "2022-10-18T00:57:37.067639Z"
    },
    "papermill": {
     "duration": 0.101451,
     "end_time": "2022-10-18T00:57:37.067789",
     "exception": false,
     "start_time": "2022-10-18T00:57:36.966338",
     "status": "completed"
    },
    "tags": []
   },
   "outputs": [],
   "source": [
    "#creating the x and y ranges according to the above generated plot.\n",
    "x_range = np.linspace(-4, 1, 100) \n",
    "y_range = np.linspace(-6, 6, 100) \n",
    "x_grid, y_grid = np.meshgrid(x_range, y_range) # x_grid and y_grig are of size 100 X 100\n",
    "\n",
    "# converting x_grid and y_grid to continuous arrays\n",
    "x_gridflat = np.ravel(x_grid)\n",
    "y_gridflat = np.ravel(y_grid)\n",
    "\n",
    "# The last layer of the current model takes two columns as input. Hence transpose of np.vstack() is required.\n",
    "X = np.vstack((x_gridflat, y_gridflat)).T\n",
    "\n",
    "prob_contour = model_prob(X).reshape(100,100) "
   ]
  },
  {
   "cell_type": "code",
   "execution_count": 29,
   "id": "da72499a",
   "metadata": {
    "execution": {
     "iopub.execute_input": "2022-10-18T00:57:37.192690Z",
     "iopub.status.busy": "2022-10-18T00:57:37.191916Z",
     "iopub.status.idle": "2022-10-18T00:57:37.494707Z",
     "shell.execute_reply": "2022-10-18T00:57:37.495411Z"
    },
    "papermill": {
     "duration": 0.368431,
     "end_time": "2022-10-18T00:57:37.495571",
     "exception": false,
     "start_time": "2022-10-18T00:57:37.127140",
     "status": "completed"
    },
    "tags": []
   },
   "outputs": [
    {
     "data": {
      "image/png": "[encoded data removed]",
      "text/plain": [
       "<Figure size 720x648 with 1 Axes>"
      ]
     },
     "metadata": {
      "needs_background": "light"
     },
     "output_type": "display_data"
    }
   ],
   "source": [
    "plt.figure(figsize=(10,9))\n",
    "plt.scatter(testing_plot[:,0], testing_plot[:,1], alpha = 0.1, c = y_test.ravel())\n",
    "contours = plt.contour(x_grid,y_grid,prob_contour)\n",
    "plt.title('Probability Contours')\n",
    "plt.clabel(contours, inline = True );"
   ]
  },
  {
   "cell_type": "code",
   "execution_count": null,
   "id": "e81b4ac7",
   "metadata": {
    "papermill": {
     "duration": 0.052406,
     "end_time": "2022-10-18T00:57:37.601279",
     "exception": false,
     "start_time": "2022-10-18T00:57:37.548873",
     "status": "completed"
    },
    "tags": []
   },
   "outputs": [],
   "source": []
  }
 ],
 "metadata": {
  "kernelspec": {
   "display_name": "Python 3",
   "language": "python",
   "name": "python3"
  },
  "language_info": {
   "codemirror_mode": {
    "name": "ipython",
    "version": 3
   },
   "file_extension": ".py",
   "mimetype": "text/x-python",
   "name": "python",
   "nbconvert_exporter": "python",
   "pygments_lexer": "ipython3",
   "version": "3.6.15"
  },
  "papermill": {
   "default_parameters": {},
   "duration": 111.883712,
   "end_time": "2022-10-18T00:57:38.078224",
   "environment_variables": {},
   "exception": null,
   "input_path": "2020-08-11-part2.ipynb",
   "output_path": "2020-08-11-part2.ipynb",
   "parameters": {},
   "start_time": "2022-10-18T00:55:46.194512",
   "version": "2.3.3"
  }
 },
 "nbformat": 4,
 "nbformat_minor": 5
}