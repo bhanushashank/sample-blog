{
 "cells": [
  {
   "cell_type": "markdown",
   "id": "98380cd3",
   "metadata": {
    "papermill": {
     "duration": 0.029979,
     "end_time": "2022-06-12T00:38:12.742875",
     "exception": false,
     "start_time": "2022-06-12T00:38:12.712896",
     "status": "completed"
    },
    "tags": []
   },
   "source": [
    "# Distinguish Your Own Digits (DYOD)"
   ]
  },
  {
   "cell_type": "markdown",
   "id": "ef31240d",
   "metadata": {
    "papermill": {
     "duration": 0.024978,
     "end_time": "2022-06-12T00:38:12.793499",
     "exception": false,
     "start_time": "2022-06-12T00:38:12.768521",
     "status": "completed"
    },
    "tags": []
   },
   "source": [
    "You are going to write a classifier that distinguishes between the number 3 and number 8."
   ]
  },
  {
   "cell_type": "code",
   "execution_count": 1,
   "id": "b15c8646",
   "metadata": {
    "execution": {
     "iopub.execute_input": "2022-06-12T00:38:12.851725Z",
     "iopub.status.busy": "2022-06-12T00:38:12.850814Z",
     "iopub.status.idle": "2022-06-12T00:38:12.863915Z",
     "shell.execute_reply": "2022-06-12T00:38:12.863300Z"
    },
    "papermill": {
     "duration": 0.047078,
     "end_time": "2022-06-12T00:38:12.864070",
     "exception": false,
     "start_time": "2022-06-12T00:38:12.816992",
     "status": "completed"
    },
    "tags": []
   },
   "outputs": [],
   "source": [
    "%load_ext autoreload\n",
    "%autoreload 2"
   ]
  },
  {
   "cell_type": "code",
   "execution_count": 2,
   "id": "22ef38dc",
   "metadata": {
    "execution": {
     "iopub.execute_input": "2022-06-12T00:38:12.919761Z",
     "iopub.status.busy": "2022-06-12T00:38:12.919157Z",
     "iopub.status.idle": "2022-06-12T00:38:13.447886Z",
     "shell.execute_reply": "2022-06-12T00:38:13.447288Z"
    },
    "papermill": {
     "duration": 0.558619,
     "end_time": "2022-06-12T00:38:13.448019",
     "exception": false,
     "start_time": "2022-06-12T00:38:12.889400",
     "status": "completed"
    },
    "tags": []
   },
   "outputs": [],
   "source": [
    "%matplotlib inline\n",
    "import numpy as np\n",
    "import matplotlib.pyplot as plt\n",
    "import pandas as pd"
   ]
  },
  {
   "cell_type": "markdown",
   "id": "ba036198",
   "metadata": {
    "papermill": {
     "duration": 0.028844,
     "end_time": "2022-06-12T00:38:13.507070",
     "exception": false,
     "start_time": "2022-06-12T00:38:13.478226",
     "status": "completed"
    },
    "tags": []
   },
   "source": [
    "From the command line run `pip install mnist`. This is a library that will help you bring down the mnist dataset. If you run this from a notebook, you need to put  `!pip install mnist` in a cell by itself."
   ]
  },
  {
   "cell_type": "code",
   "execution_count": 3,
   "id": "bb6ad8a1",
   "metadata": {
    "execution": {
     "iopub.execute_input": "2022-06-12T00:38:13.563095Z",
     "iopub.status.busy": "2022-06-12T00:38:13.562471Z",
     "iopub.status.idle": "2022-06-12T00:38:15.361840Z",
     "shell.execute_reply": "2022-06-12T00:38:15.361310Z"
    },
    "papermill": {
     "duration": 1.829742,
     "end_time": "2022-06-12T00:38:15.361963",
     "exception": false,
     "start_time": "2022-06-12T00:38:13.532221",
     "status": "completed"
    },
    "tags": []
   },
   "outputs": [
    {
     "name": "stdout",
     "output_type": "stream",
     "text": [
      "Collecting mnist\r\n"
     ]
    },
    {
     "name": "stdout",
     "output_type": "stream",
     "text": [
      "  Downloading mnist-0.2.2-py2.py3-none-any.whl (3.5 kB)\r\n",
      "Requirement already satisfied: numpy in /opt/hostedtoolcache/Python/3.6.15/x64/lib/python3.6/site-packages (from mnist) (1.19.5)\r\n"
     ]
    },
    {
     "name": "stdout",
     "output_type": "stream",
     "text": [
      "Installing collected packages: mnist\r\n"
     ]
    },
    {
     "name": "stdout",
     "output_type": "stream",
     "text": [
      "Successfully installed mnist-0.2.2\r\n"
     ]
    }
   ],
   "source": [
    "!pip install mnist"
   ]
  },
  {
   "cell_type": "markdown",
   "id": "69df9c9a",
   "metadata": {
    "papermill": {
     "duration": 0.025574,
     "end_time": "2022-06-12T00:38:15.414651",
     "exception": false,
     "start_time": "2022-06-12T00:38:15.389077",
     "status": "completed"
    },
    "tags": []
   },
   "source": [
    "## Preparing the Data"
   ]
  },
  {
   "cell_type": "code",
   "execution_count": 4,
   "id": "7f69d806",
   "metadata": {
    "execution": {
     "iopub.execute_input": "2022-06-12T00:38:15.473225Z",
     "iopub.status.busy": "2022-06-12T00:38:15.472617Z",
     "iopub.status.idle": "2022-06-12T00:38:15.486751Z",
     "shell.execute_reply": "2022-06-12T00:38:15.485975Z"
    },
    "papermill": {
     "duration": 0.047125,
     "end_time": "2022-06-12T00:38:15.486882",
     "exception": false,
     "start_time": "2022-06-12T00:38:15.439757",
     "status": "completed"
    },
    "tags": []
   },
   "outputs": [],
   "source": [
    "import mnist"
   ]
  },
  {
   "cell_type": "code",
   "execution_count": 5,
   "id": "a411e44f",
   "metadata": {
    "execution": {
     "iopub.execute_input": "2022-06-12T00:38:15.547074Z",
     "iopub.status.busy": "2022-06-12T00:38:15.546289Z",
     "iopub.status.idle": "2022-06-12T00:38:16.119137Z",
     "shell.execute_reply": "2022-06-12T00:38:16.118636Z"
    },
    "papermill": {
     "duration": 0.603776,
     "end_time": "2022-06-12T00:38:16.119260",
     "exception": false,
     "start_time": "2022-06-12T00:38:15.515484",
     "status": "completed"
    },
    "tags": []
   },
   "outputs": [],
   "source": [
    "train_images = mnist.train_images()\n",
    "train_labels = mnist.train_labels()"
   ]
  },
  {
   "cell_type": "code",
   "execution_count": 6,
   "id": "dceab3a5",
   "metadata": {
    "execution": {
     "iopub.execute_input": "2022-06-12T00:38:16.173144Z",
     "iopub.status.busy": "2022-06-12T00:38:16.172550Z",
     "iopub.status.idle": "2022-06-12T00:38:16.187282Z",
     "shell.execute_reply": "2022-06-12T00:38:16.188009Z"
    },
    "papermill": {
     "duration": 0.044001,
     "end_time": "2022-06-12T00:38:16.188120",
     "exception": false,
     "start_time": "2022-06-12T00:38:16.144119",
     "status": "completed"
    },
    "tags": []
   },
   "outputs": [
    {
     "data": {
      "text/plain": [
       "((60000, 28, 28), (60000,))"
      ]
     },
     "execution_count": 6,
     "metadata": {},
     "output_type": "execute_result"
    }
   ],
   "source": [
    "train_images.shape, train_labels.shape"
   ]
  },
  {
   "cell_type": "code",
   "execution_count": 7,
   "id": "f50dc2bb",
   "metadata": {
    "execution": {
     "iopub.execute_input": "2022-06-12T00:38:16.245250Z",
     "iopub.status.busy": "2022-06-12T00:38:16.244611Z",
     "iopub.status.idle": "2022-06-12T00:38:16.367261Z",
     "shell.execute_reply": "2022-06-12T00:38:16.366724Z"
    },
    "papermill": {
     "duration": 0.152248,
     "end_time": "2022-06-12T00:38:16.367383",
     "exception": false,
     "start_time": "2022-06-12T00:38:16.215135",
     "status": "completed"
    },
    "tags": []
   },
   "outputs": [],
   "source": [
    "test_images = mnist.test_images()\n",
    "test_labels = mnist.test_labels()"
   ]
  },
  {
   "cell_type": "code",
   "execution_count": 8,
   "id": "fc38cf1b",
   "metadata": {
    "execution": {
     "iopub.execute_input": "2022-06-12T00:38:16.422635Z",
     "iopub.status.busy": "2022-06-12T00:38:16.422020Z",
     "iopub.status.idle": "2022-06-12T00:38:16.434512Z",
     "shell.execute_reply": "2022-06-12T00:38:16.435144Z"
    },
    "papermill": {
     "duration": 0.041405,
     "end_time": "2022-06-12T00:38:16.435255",
     "exception": false,
     "start_time": "2022-06-12T00:38:16.393850",
     "status": "completed"
    },
    "tags": []
   },
   "outputs": [
    {
     "data": {
      "text/plain": [
       "((10000, 28, 28), (10000,))"
      ]
     },
     "execution_count": 8,
     "metadata": {},
     "output_type": "execute_result"
    }
   ],
   "source": [
    "test_images.shape, test_labels.shape"
   ]
  },
  {
   "cell_type": "code",
   "execution_count": 9,
   "id": "f9ed8fe0",
   "metadata": {
    "execution": {
     "iopub.execute_input": "2022-06-12T00:38:16.492953Z",
     "iopub.status.busy": "2022-06-12T00:38:16.492170Z",
     "iopub.status.idle": "2022-06-12T00:38:16.668629Z",
     "shell.execute_reply": "2022-06-12T00:38:16.669130Z"
    },
    "papermill": {
     "duration": 0.206811,
     "end_time": "2022-06-12T00:38:16.669277",
     "exception": false,
     "start_time": "2022-06-12T00:38:16.462466",
     "status": "completed"
    },
    "tags": []
   },
   "outputs": [
    {
     "name": "stdout",
     "output_type": "stream",
     "text": [
      "2\n"
     ]
    },
    {
     "data": {
      "text/plain": [
       "<matplotlib.image.AxesImage at 0x7f9da20a53c8>"
      ]
     },
     "execution_count": 9,
     "metadata": {},
     "output_type": "execute_result"
    },
    {
     "data": {
      "image/png": "[encoded data removed]",
      "text/plain": [
       "<Figure size 432x288 with 1 Axes>"
      ]
     },
     "metadata": {
      "needs_background": "light"
     },
     "output_type": "display_data"
    }
   ],
   "source": [
    "image_index = 7776 # You may select anything up to 60,000\n",
    "print(train_labels[image_index]) \n",
    "plt.imshow(train_images[image_index], cmap='Greys')"
   ]
  },
  {
   "cell_type": "markdown",
   "id": "a8d2388d",
   "metadata": {
    "papermill": {
     "duration": 0.028292,
     "end_time": "2022-06-12T00:38:16.728119",
     "exception": false,
     "start_time": "2022-06-12T00:38:16.699827",
     "status": "completed"
    },
    "tags": []
   },
   "source": [
    "## Filter data to get 3 and 8 out"
   ]
  },
  {
   "cell_type": "code",
   "execution_count": 10,
   "id": "776f7fc7",
   "metadata": {
    "execution": {
     "iopub.execute_input": "2022-06-12T00:38:16.795339Z",
     "iopub.status.busy": "2022-06-12T00:38:16.794672Z",
     "iopub.status.idle": "2022-06-12T00:38:16.808751Z",
     "shell.execute_reply": "2022-06-12T00:38:16.809316Z"
    },
    "papermill": {
     "duration": 0.052105,
     "end_time": "2022-06-12T00:38:16.809445",
     "exception": false,
     "start_time": "2022-06-12T00:38:16.757340",
     "status": "completed"
    },
    "tags": []
   },
   "outputs": [],
   "source": [
    "train_filter = np.where((train_labels == 3 ) | (train_labels == 8))\n",
    "test_filter = np.where((test_labels == 3) | (test_labels == 8))\n",
    "X_train, y_train = train_images[train_filter], train_labels[train_filter]\n",
    "X_test, y_test = test_images[test_filter], test_labels[test_filter]"
   ]
  },
  {
   "cell_type": "markdown",
   "id": "948f0b7e",
   "metadata": {
    "papermill": {
     "duration": 0.0269,
     "end_time": "2022-06-12T00:38:16.862902",
     "exception": false,
     "start_time": "2022-06-12T00:38:16.836002",
     "status": "completed"
    },
    "tags": []
   },
   "source": [
    "We normalize the pizel values in the 0 to 1 range"
   ]
  },
  {
   "cell_type": "code",
   "execution_count": 11,
   "id": "ee4c2166",
   "metadata": {
    "execution": {
     "iopub.execute_input": "2022-06-12T00:38:16.924717Z",
     "iopub.status.busy": "2022-06-12T00:38:16.924073Z",
     "iopub.status.idle": "2022-06-12T00:38:16.976738Z",
     "shell.execute_reply": "2022-06-12T00:38:16.976217Z"
    },
    "papermill": {
     "duration": 0.08399,
     "end_time": "2022-06-12T00:38:16.976862",
     "exception": false,
     "start_time": "2022-06-12T00:38:16.892872",
     "status": "completed"
    },
    "tags": []
   },
   "outputs": [],
   "source": [
    "X_train = X_train/255.\n",
    "X_test = X_test/255."
   ]
  },
  {
   "cell_type": "markdown",
   "id": "ddcf4fab",
   "metadata": {
    "papermill": {
     "duration": 0.029433,
     "end_time": "2022-06-12T00:38:17.034038",
     "exception": false,
     "start_time": "2022-06-12T00:38:17.004605",
     "status": "completed"
    },
    "tags": []
   },
   "source": [
    "And setup the labels as 1 (when the digit is 3) and 0 (when the digit is 8)"
   ]
  },
  {
   "cell_type": "code",
   "execution_count": 12,
   "id": "7dc908f2",
   "metadata": {
    "execution": {
     "iopub.execute_input": "2022-06-12T00:38:17.101902Z",
     "iopub.status.busy": "2022-06-12T00:38:17.101163Z",
     "iopub.status.idle": "2022-06-12T00:38:17.115117Z",
     "shell.execute_reply": "2022-06-12T00:38:17.114545Z"
    },
    "papermill": {
     "duration": 0.054349,
     "end_time": "2022-06-12T00:38:17.115230",
     "exception": false,
     "start_time": "2022-06-12T00:38:17.060881",
     "status": "completed"
    },
    "tags": []
   },
   "outputs": [],
   "source": [
    "y_train = 1*(y_train==3)\n",
    "y_test = 1*(y_test==3)"
   ]
  },
  {
   "cell_type": "code",
   "execution_count": 13,
   "id": "01e4e969",
   "metadata": {
    "execution": {
     "iopub.execute_input": "2022-06-12T00:38:17.186748Z",
     "iopub.status.busy": "2022-06-12T00:38:17.185930Z",
     "iopub.status.idle": "2022-06-12T00:38:17.200767Z",
     "shell.execute_reply": "2022-06-12T00:38:17.200177Z"
    },
    "papermill": {
     "duration": 0.054438,
     "end_time": "2022-06-12T00:38:17.200884",
     "exception": false,
     "start_time": "2022-06-12T00:38:17.146446",
     "status": "completed"
    },
    "tags": []
   },
   "outputs": [
    {
     "data": {
      "text/plain": [
       "((11982, 28, 28), (1984, 28, 28))"
      ]
     },
     "execution_count": 13,
     "metadata": {},
     "output_type": "execute_result"
    }
   ],
   "source": [
    "X_train.shape, X_test.shape"
   ]
  },
  {
   "cell_type": "markdown",
   "id": "5ccf3f85",
   "metadata": {
    "papermill": {
     "duration": 0.028032,
     "end_time": "2022-06-12T00:38:17.259607",
     "exception": false,
     "start_time": "2022-06-12T00:38:17.231575",
     "status": "completed"
    },
    "tags": []
   },
   "source": [
    "We reshape the data to flatten the image pixels into a set of features or co-variates:"
   ]
  },
  {
   "cell_type": "code",
   "execution_count": 14,
   "id": "5286a4a3",
   "metadata": {
    "execution": {
     "iopub.execute_input": "2022-06-12T00:38:17.321345Z",
     "iopub.status.busy": "2022-06-12T00:38:17.320577Z",
     "iopub.status.idle": "2022-06-12T00:38:17.334661Z",
     "shell.execute_reply": "2022-06-12T00:38:17.335142Z"
    },
    "papermill": {
     "duration": 0.046063,
     "end_time": "2022-06-12T00:38:17.335259",
     "exception": false,
     "start_time": "2022-06-12T00:38:17.289196",
     "status": "completed"
    },
    "tags": []
   },
   "outputs": [
    {
     "data": {
      "text/plain": [
       "((11982, 784), (1984, 784))"
      ]
     },
     "execution_count": 14,
     "metadata": {},
     "output_type": "execute_result"
    }
   ],
   "source": [
    "X_train = X_train.reshape(X_train.shape[0], -1)\n",
    "X_test = X_test.reshape(X_test.shape[0], -1)\n",
    "X_train.shape, X_test.shape"
   ]
  },
  {
   "cell_type": "code",
   "execution_count": 15,
   "id": "73c5f88a",
   "metadata": {
    "execution": {
     "iopub.execute_input": "2022-06-12T00:38:17.397933Z",
     "iopub.status.busy": "2022-06-12T00:38:17.397348Z",
     "iopub.status.idle": "2022-06-12T00:38:17.413356Z",
     "shell.execute_reply": "2022-06-12T00:38:17.413813Z"
    },
    "papermill": {
     "duration": 0.050127,
     "end_time": "2022-06-12T00:38:17.413925",
     "exception": false,
     "start_time": "2022-06-12T00:38:17.363798",
     "status": "completed"
    },
    "tags": []
   },
   "outputs": [],
   "source": [
    "#Impoting functions from 'Kudzu'\n",
    "from kudzu.model import Model\n",
    "from kudzu.train import Learner\n",
    "from kudzu.optim import GD\n",
    "from kudzu.data import Data, Sampler,Dataloader\n",
    "\n",
    "from kudzu.callbacks import AccCallback\n",
    "from kudzu.callbacks import ClfCallback\n",
    "\n",
    "from kudzu.loss import MSE\n",
    "\n",
    "from kudzu.layer import Sigmoid,Relu\n",
    "from kudzu.layer import Affine"
   ]
  },
  {
   "cell_type": "markdown",
   "id": "bc01172a",
   "metadata": {
    "papermill": {
     "duration": 0.029124,
     "end_time": "2022-06-12T00:38:17.469846",
     "exception": false,
     "start_time": "2022-06-12T00:38:17.440722",
     "status": "completed"
    },
    "tags": []
   },
   "source": [
    "### Let us create a `Config` class, to store important parameters. \n",
    "This class essentially plays the role of a dictionary."
   ]
  },
  {
   "cell_type": "code",
   "execution_count": 16,
   "id": "978281aa",
   "metadata": {
    "execution": {
     "iopub.execute_input": "2022-06-12T00:38:17.528894Z",
     "iopub.status.busy": "2022-06-12T00:38:17.528223Z",
     "iopub.status.idle": "2022-06-12T00:38:17.540327Z",
     "shell.execute_reply": "2022-06-12T00:38:17.539853Z"
    },
    "papermill": {
     "duration": 0.043442,
     "end_time": "2022-06-12T00:38:17.540428",
     "exception": false,
     "start_time": "2022-06-12T00:38:17.496986",
     "status": "completed"
    },
    "tags": []
   },
   "outputs": [],
   "source": [
    "class Config:\n",
    "    pass\n",
    "config = Config()\n",
    "config.lr = 0.001\n",
    "config.num_epochs = 250\n",
    "config.bs = 50"
   ]
  },
  {
   "cell_type": "markdown",
   "id": "1385fa59",
   "metadata": {
    "papermill": {
     "duration": 0.028187,
     "end_time": "2022-06-12T00:38:17.597669",
     "exception": false,
     "start_time": "2022-06-12T00:38:17.569482",
     "status": "completed"
    },
    "tags": []
   },
   "source": [
    "### Running Models with the Training data\n",
    "Details about the network layers:\n",
    "- A first affine layer has 784 inputs and does 100 affine transforms. These are followed by a Relu\n",
    "- A second affine layer has 100 inputs from the 100 activations of the past layer, and does 100 affine transforms. These are followed by a Relu\n",
    "- A third affine layer has 100 activations and does 2 affine transformations to create an embedding for visualization. There is no non-linearity here.\n",
    "- A final \"logistic regression\" which has an affine transform from 2 inputs to 1 output, which is squeezed through a sigmoid.\n"
   ]
  },
  {
   "cell_type": "code",
   "execution_count": 17,
   "id": "2b9c66db",
   "metadata": {
    "execution": {
     "iopub.execute_input": "2022-06-12T00:38:17.663941Z",
     "iopub.status.busy": "2022-06-12T00:38:17.663160Z",
     "iopub.status.idle": "2022-06-12T00:38:17.678048Z",
     "shell.execute_reply": "2022-06-12T00:38:17.677542Z"
    },
    "papermill": {
     "duration": 0.05326,
     "end_time": "2022-06-12T00:38:17.678162",
     "exception": false,
     "start_time": "2022-06-12T00:38:17.624902",
     "status": "completed"
    },
    "tags": []
   },
   "outputs": [],
   "source": [
    "data = Data(X_train, y_train.reshape(-1,1))\n",
    "sampler = Sampler(data, config.bs, shuffle=True)\n",
    "\n",
    "dl = Dataloader(data, sampler)\n",
    "\n",
    "opt = GD(config.lr)\n",
    "loss = MSE()"
   ]
  },
  {
   "cell_type": "code",
   "execution_count": 18,
   "id": "b275e4c2",
   "metadata": {
    "execution": {
     "iopub.execute_input": "2022-06-12T00:38:17.743163Z",
     "iopub.status.busy": "2022-06-12T00:38:17.742524Z",
     "iopub.status.idle": "2022-06-12T00:38:17.755459Z",
     "shell.execute_reply": "2022-06-12T00:38:17.754955Z"
    },
    "papermill": {
     "duration": 0.046271,
     "end_time": "2022-06-12T00:38:17.755576",
     "exception": false,
     "start_time": "2022-06-12T00:38:17.709305",
     "status": "completed"
    },
    "tags": []
   },
   "outputs": [],
   "source": [
    "training_data_x = X_train\n",
    "testing_data_x = X_test\n",
    "training_data_y = y_train.reshape(-1,1)\n",
    "testing_data_y = y_test.reshape(-1,1)"
   ]
  },
  {
   "cell_type": "code",
   "execution_count": 19,
   "id": "76951160",
   "metadata": {
    "execution": {
     "iopub.execute_input": "2022-06-12T00:38:17.816936Z",
     "iopub.status.busy": "2022-06-12T00:38:17.816266Z",
     "iopub.status.idle": "2022-06-12T00:38:17.831465Z",
     "shell.execute_reply": "2022-06-12T00:38:17.830900Z"
    },
    "papermill": {
     "duration": 0.047055,
     "end_time": "2022-06-12T00:38:17.831567",
     "exception": false,
     "start_time": "2022-06-12T00:38:17.784512",
     "status": "completed"
    },
    "tags": []
   },
   "outputs": [
    {
     "name": "stdout",
     "output_type": "stream",
     "text": [
      "xavier\n",
      "xavier\n",
      "xavier\n",
      "xavier\n",
      "xavier\n"
     ]
    }
   ],
   "source": [
    "layers = [Affine(\"first\", 784, 100), Relu(\"first\"), Affine(\"second\", 100, 100), Relu(\"second\"), Affine(\"third\", 100, 2), Affine(\"last\", 2, 1), Sigmoid(\"last\")]\n",
    "model_nn = Model(layers)\n",
    "model_lr = Model([Affine(\"logits\", 784, 1), Sigmoid(\"sigmoid\")])"
   ]
  },
  {
   "cell_type": "code",
   "execution_count": 20,
   "id": "6eede77a",
   "metadata": {
    "execution": {
     "iopub.execute_input": "2022-06-12T00:38:17.893391Z",
     "iopub.status.busy": "2022-06-12T00:38:17.892639Z",
     "iopub.status.idle": "2022-06-12T00:38:17.904606Z",
     "shell.execute_reply": "2022-06-12T00:38:17.904035Z"
    },
    "papermill": {
     "duration": 0.045843,
     "end_time": "2022-06-12T00:38:17.904712",
     "exception": false,
     "start_time": "2022-06-12T00:38:17.858869",
     "status": "completed"
    },
    "tags": []
   },
   "outputs": [],
   "source": [
    "nn_learner = Learner(loss, model_nn, opt, config.num_epochs)\n",
    "acc_nn = ClfCallback(nn_learner, config.bs, training_data_x , testing_data_x, training_data_y, testing_data_y)\n",
    "nn_learner.set_callbacks([acc_nn])"
   ]
  },
  {
   "cell_type": "code",
   "execution_count": 21,
   "id": "877b6cc7",
   "metadata": {
    "execution": {
     "iopub.execute_input": "2022-06-12T00:38:17.964280Z",
     "iopub.status.busy": "2022-06-12T00:38:17.963694Z",
     "iopub.status.idle": "2022-06-12T00:38:17.974068Z",
     "shell.execute_reply": "2022-06-12T00:38:17.973503Z"
    },
    "papermill": {
     "duration": 0.041392,
     "end_time": "2022-06-12T00:38:17.974169",
     "exception": false,
     "start_time": "2022-06-12T00:38:17.932777",
     "status": "completed"
    },
    "tags": []
   },
   "outputs": [],
   "source": [
    "lr_learner = Learner(loss, model_lr, opt, config.num_epochs)\n",
    "acc_lr = ClfCallback(lr_learner, config.bs, training_data_x , testing_data_x, training_data_y, testing_data_y)\n",
    "lr_learner.set_callbacks([acc_lr])"
   ]
  },
  {
   "cell_type": "code",
   "execution_count": 22,
   "id": "d9b133c3",
   "metadata": {
    "execution": {
     "iopub.execute_input": "2022-06-12T00:38:18.033623Z",
     "iopub.status.busy": "2022-06-12T00:38:18.033046Z",
     "iopub.status.idle": "2022-06-12T00:40:31.530235Z",
     "shell.execute_reply": "2022-06-12T00:40:31.531063Z"
    },
    "papermill": {
     "duration": 133.528545,
     "end_time": "2022-06-12T00:40:31.531207",
     "exception": false,
     "start_time": "2022-06-12T00:38:18.002662",
     "status": "completed"
    },
    "tags": []
   },
   "outputs": [
    {
     "name": "stdout",
     "output_type": "stream",
     "text": [
      "Epoch 0, Loss 0.245\n",
      "Training Accuracy: 0.5164, Testing Accuracy: 0.5141\n",
      "\n"
     ]
    },
    {
     "name": "stdout",
     "output_type": "stream",
     "text": [
      "Epoch 10, Loss 0.1284\n",
      "Training Accuracy: 0.8923, Testing Accuracy: 0.9022\n",
      "\n"
     ]
    },
    {
     "name": "stdout",
     "output_type": "stream",
     "text": [
      "Epoch 20, Loss 0.0702\n",
      "Training Accuracy: 0.9308, Testing Accuracy: 0.9410\n",
      "\n"
     ]
    },
    {
     "name": "stdout",
     "output_type": "stream",
     "text": [
      "Epoch 30, Loss 0.0507\n",
      "Training Accuracy: 0.9474, Testing Accuracy: 0.9582\n",
      "\n"
     ]
    },
    {
     "name": "stdout",
     "output_type": "stream",
     "text": [
      "Epoch 40, Loss 0.042\n",
      "Training Accuracy: 0.9555, Testing Accuracy: 0.9632\n",
      "\n"
     ]
    },
    {
     "name": "stdout",
     "output_type": "stream",
     "text": [
      "Epoch 50, Loss 0.0372\n",
      "Training Accuracy: 0.9594, Testing Accuracy: 0.9652\n",
      "\n"
     ]
    },
    {
     "name": "stdout",
     "output_type": "stream",
     "text": [
      "Epoch 60, Loss 0.034\n",
      "Training Accuracy: 0.9623, Testing Accuracy: 0.9672\n",
      "\n"
     ]
    },
    {
     "name": "stdout",
     "output_type": "stream",
     "text": [
      "Epoch 70, Loss 0.0318\n",
      "Training Accuracy: 0.9641, Testing Accuracy: 0.9677\n",
      "\n"
     ]
    },
    {
     "name": "stdout",
     "output_type": "stream",
     "text": [
      "Epoch 80, Loss 0.0301\n",
      "Training Accuracy: 0.9657, Testing Accuracy: 0.9672\n",
      "\n"
     ]
    },
    {
     "name": "stdout",
     "output_type": "stream",
     "text": [
      "Epoch 90, Loss 0.0287\n",
      "Training Accuracy: 0.9673, Testing Accuracy: 0.9682\n",
      "\n"
     ]
    },
    {
     "name": "stdout",
     "output_type": "stream",
     "text": [
      "Epoch 100, Loss 0.0276\n",
      "Training Accuracy: 0.9685, Testing Accuracy: 0.9682\n",
      "\n"
     ]
    },
    {
     "name": "stdout",
     "output_type": "stream",
     "text": [
      "Epoch 110, Loss 0.0266\n",
      "Training Accuracy: 0.9699, Testing Accuracy: 0.9682\n",
      "\n"
     ]
    },
    {
     "name": "stdout",
     "output_type": "stream",
     "text": [
      "Epoch 120, Loss 0.0257\n",
      "Training Accuracy: 0.9704, Testing Accuracy: 0.9693\n",
      "\n"
     ]
    },
    {
     "name": "stdout",
     "output_type": "stream",
     "text": [
      "Epoch 130, Loss 0.0249\n",
      "Training Accuracy: 0.9711, Testing Accuracy: 0.9693\n",
      "\n"
     ]
    },
    {
     "name": "stdout",
     "output_type": "stream",
     "text": [
      "Epoch 140, Loss 0.0242\n",
      "Training Accuracy: 0.9720, Testing Accuracy: 0.9698\n",
      "\n"
     ]
    },
    {
     "name": "stdout",
     "output_type": "stream",
     "text": [
      "Epoch 150, Loss 0.0235\n",
      "Training Accuracy: 0.9728, Testing Accuracy: 0.9703\n",
      "\n"
     ]
    },
    {
     "name": "stdout",
     "output_type": "stream",
     "text": [
      "Epoch 160, Loss 0.0229\n",
      "Training Accuracy: 0.9736, Testing Accuracy: 0.9703\n",
      "\n"
     ]
    },
    {
     "name": "stdout",
     "output_type": "stream",
     "text": [
      "Epoch 170, Loss 0.0224\n",
      "Training Accuracy: 0.9744, Testing Accuracy: 0.9708\n",
      "\n"
     ]
    },
    {
     "name": "stdout",
     "output_type": "stream",
     "text": [
      "Epoch 180, Loss 0.0219\n",
      "Training Accuracy: 0.9746, Testing Accuracy: 0.9708\n",
      "\n"
     ]
    },
    {
     "name": "stdout",
     "output_type": "stream",
     "text": [
      "Epoch 190, Loss 0.0214\n",
      "Training Accuracy: 0.9753, Testing Accuracy: 0.9713\n",
      "\n"
     ]
    },
    {
     "name": "stdout",
     "output_type": "stream",
     "text": [
      "Epoch 200, Loss 0.0209\n",
      "Training Accuracy: 0.9760, Testing Accuracy: 0.9718\n",
      "\n"
     ]
    },
    {
     "name": "stdout",
     "output_type": "stream",
     "text": [
      "Epoch 210, Loss 0.0205\n",
      "Training Accuracy: 0.9768, Testing Accuracy: 0.9728\n",
      "\n"
     ]
    },
    {
     "name": "stdout",
     "output_type": "stream",
     "text": [
      "Epoch 220, Loss 0.0201\n",
      "Training Accuracy: 0.9777, Testing Accuracy: 0.9733\n",
      "\n"
     ]
    },
    {
     "name": "stdout",
     "output_type": "stream",
     "text": [
      "Epoch 230, Loss 0.0197\n",
      "Training Accuracy: 0.9785, Testing Accuracy: 0.9733\n",
      "\n"
     ]
    },
    {
     "name": "stdout",
     "output_type": "stream",
     "text": [
      "Epoch 240, Loss 0.0193\n",
      "Training Accuracy: 0.9790, Testing Accuracy: 0.9743\n",
      "\n"
     ]
    },
    {
     "data": {
      "text/plain": [
       "0.014249705035804819"
      ]
     },
     "execution_count": 22,
     "metadata": {},
     "output_type": "execute_result"
    }
   ],
   "source": [
    "nn_learner.train_loop(dl)"
   ]
  },
  {
   "cell_type": "code",
   "execution_count": 23,
   "id": "e0163366",
   "metadata": {
    "execution": {
     "iopub.execute_input": "2022-06-12T00:40:31.623785Z",
     "iopub.status.busy": "2022-06-12T00:40:31.623203Z",
     "iopub.status.idle": "2022-06-12T00:40:50.832458Z",
     "shell.execute_reply": "2022-06-12T00:40:50.833282Z"
    },
    "papermill": {
     "duration": 19.257334,
     "end_time": "2022-06-12T00:40:50.833428",
     "exception": false,
     "start_time": "2022-06-12T00:40:31.576094",
     "status": "completed"
    },
    "tags": []
   },
   "outputs": [
    {
     "name": "stdout",
     "output_type": "stream",
     "text": [
      "Epoch 0, Loss 0.2189\n",
      "Training Accuracy: 0.7235, Testing Accuracy: 0.7172\n",
      "\n"
     ]
    },
    {
     "name": "stdout",
     "output_type": "stream",
     "text": [
      "Epoch 10, Loss 0.1051\n",
      "Training Accuracy: 0.9001, Testing Accuracy: 0.9123\n",
      "\n"
     ]
    },
    {
     "name": "stdout",
     "output_type": "stream",
     "text": [
      "Epoch 20, Loss 0.08\n",
      "Training Accuracy: 0.9265, Testing Accuracy: 0.9380\n",
      "\n"
     ]
    },
    {
     "name": "stdout",
     "output_type": "stream",
     "text": [
      "Epoch 30, Loss 0.0682\n",
      "Training Accuracy: 0.9373, Testing Accuracy: 0.9496\n",
      "\n"
     ]
    },
    {
     "name": "stdout",
     "output_type": "stream",
     "text": [
      "Epoch 40, Loss 0.0612\n",
      "Training Accuracy: 0.9427, Testing Accuracy: 0.9551\n",
      "\n"
     ]
    },
    {
     "name": "stdout",
     "output_type": "stream",
     "text": [
      "Epoch 50, Loss 0.0566\n",
      "Training Accuracy: 0.9455, Testing Accuracy: 0.9577\n",
      "\n"
     ]
    },
    {
     "name": "stdout",
     "output_type": "stream",
     "text": [
      "Epoch 60, Loss 0.0532\n",
      "Training Accuracy: 0.9484, Testing Accuracy: 0.9597\n",
      "\n"
     ]
    },
    {
     "name": "stdout",
     "output_type": "stream",
     "text": [
      "Epoch 70, Loss 0.0506\n",
      "Training Accuracy: 0.9498, Testing Accuracy: 0.9607\n",
      "\n"
     ]
    },
    {
     "name": "stdout",
     "output_type": "stream",
     "text": [
      "Epoch 80, Loss 0.0486\n",
      "Training Accuracy: 0.9512, Testing Accuracy: 0.9622\n",
      "\n"
     ]
    },
    {
     "name": "stdout",
     "output_type": "stream",
     "text": [
      "Epoch 90, Loss 0.0469\n",
      "Training Accuracy: 0.9524, Testing Accuracy: 0.9632\n",
      "\n"
     ]
    },
    {
     "name": "stdout",
     "output_type": "stream",
     "text": [
      "Epoch 100, Loss 0.0455\n",
      "Training Accuracy: 0.9538, Testing Accuracy: 0.9632\n",
      "\n"
     ]
    },
    {
     "name": "stdout",
     "output_type": "stream",
     "text": [
      "Epoch 110, Loss 0.0443\n",
      "Training Accuracy: 0.9543, Testing Accuracy: 0.9642\n",
      "\n"
     ]
    },
    {
     "name": "stdout",
     "output_type": "stream",
     "text": [
      "Epoch 120, Loss 0.0433\n",
      "Training Accuracy: 0.9551, Testing Accuracy: 0.9642\n",
      "\n"
     ]
    },
    {
     "name": "stdout",
     "output_type": "stream",
     "text": [
      "Epoch 130, Loss 0.0424\n",
      "Training Accuracy: 0.9561, Testing Accuracy: 0.9647\n",
      "\n"
     ]
    },
    {
     "name": "stdout",
     "output_type": "stream",
     "text": [
      "Epoch 140, Loss 0.0416\n",
      "Training Accuracy: 0.9565, Testing Accuracy: 0.9662\n",
      "\n"
     ]
    },
    {
     "name": "stdout",
     "output_type": "stream",
     "text": [
      "Epoch 150, Loss 0.0409\n",
      "Training Accuracy: 0.9568, Testing Accuracy: 0.9672\n",
      "\n"
     ]
    },
    {
     "name": "stdout",
     "output_type": "stream",
     "text": [
      "Epoch 160, Loss 0.0402\n",
      "Training Accuracy: 0.9572, Testing Accuracy: 0.9672\n",
      "\n"
     ]
    },
    {
     "name": "stdout",
     "output_type": "stream",
     "text": [
      "Epoch 170, Loss 0.0396\n",
      "Training Accuracy: 0.9579, Testing Accuracy: 0.9672\n",
      "\n"
     ]
    },
    {
     "name": "stdout",
     "output_type": "stream",
     "text": [
      "Epoch 180, Loss 0.0391\n",
      "Training Accuracy: 0.9585, Testing Accuracy: 0.9667\n",
      "\n"
     ]
    },
    {
     "name": "stdout",
     "output_type": "stream",
     "text": [
      "Epoch 190, Loss 0.0386\n",
      "Training Accuracy: 0.9591, Testing Accuracy: 0.9667\n",
      "\n"
     ]
    },
    {
     "name": "stdout",
     "output_type": "stream",
     "text": [
      "Epoch 200, Loss 0.0381\n",
      "Training Accuracy: 0.9594, Testing Accuracy: 0.9667\n",
      "\n"
     ]
    },
    {
     "name": "stdout",
     "output_type": "stream",
     "text": [
      "Epoch 210, Loss 0.0377\n",
      "Training Accuracy: 0.9597, Testing Accuracy: 0.9667\n",
      "\n"
     ]
    },
    {
     "name": "stdout",
     "output_type": "stream",
     "text": [
      "Epoch 220, Loss 0.0373\n",
      "Training Accuracy: 0.9599, Testing Accuracy: 0.9667\n",
      "\n"
     ]
    },
    {
     "name": "stdout",
     "output_type": "stream",
     "text": [
      "Epoch 230, Loss 0.0369\n",
      "Training Accuracy: 0.9600, Testing Accuracy: 0.9662\n",
      "\n"
     ]
    },
    {
     "name": "stdout",
     "output_type": "stream",
     "text": [
      "Epoch 240, Loss 0.0366\n",
      "Training Accuracy: 0.9603, Testing Accuracy: 0.9672\n",
      "\n"
     ]
    },
    {
     "data": {
      "text/plain": [
       "0.009528284386510578"
      ]
     },
     "execution_count": 23,
     "metadata": {},
     "output_type": "execute_result"
    }
   ],
   "source": [
    "lr_learner.train_loop(dl)"
   ]
  },
  {
   "cell_type": "code",
   "execution_count": 24,
   "id": "ca410940",
   "metadata": {
    "execution": {
     "iopub.execute_input": "2022-06-12T00:40:50.939853Z",
     "iopub.status.busy": "2022-06-12T00:40:50.939249Z",
     "iopub.status.idle": "2022-06-12T00:40:51.195549Z",
     "shell.execute_reply": "2022-06-12T00:40:51.194741Z"
    },
    "papermill": {
     "duration": 0.314026,
     "end_time": "2022-06-12T00:40:51.195671",
     "exception": false,
     "start_time": "2022-06-12T00:40:50.881645",
     "status": "completed"
    },
    "tags": []
   },
   "outputs": [
    {
     "data": {
      "text/plain": [
       "<matplotlib.legend.Legend at 0x7f9d95459a58>"
      ]
     },
     "execution_count": 24,
     "metadata": {},
     "output_type": "execute_result"
    },
    {
     "data": {
      "image/png": "[encoded data removed]",
      "text/plain": [
       "<Figure size 1080x720 with 1 Axes>"
      ]
     },
     "metadata": {
      "needs_background": "light"
     },
     "output_type": "display_data"
    }
   ],
   "source": [
    "#comparing the results of NN and LR\n",
    "plt.figure(figsize=(15,10))\n",
    "\n",
    "# Neural Network plots\n",
    "plt.plot(acc_nn.accuracies, 'r-', label = \"Training Accuracies - NN\")\n",
    "plt.plot(acc_nn.test_accuracies, 'g-', label = \"Testing Accuracies - NN\")\n",
    "\n",
    "# Logistic Regression plots\n",
    "plt.plot(acc_lr.accuracies, 'k-', label = \"Training Accuracies - LR\")\n",
    "plt.plot(acc_lr.test_accuracies, 'b-', label = \"Testing Accuracies - LR\")\n",
    "plt.legend()"
   ]
  },
  {
   "cell_type": "markdown",
   "id": "80dfb35c",
   "metadata": {
    "papermill": {
     "duration": 0.044244,
     "end_time": "2022-06-12T00:40:51.284029",
     "exception": false,
     "start_time": "2022-06-12T00:40:51.239785",
     "status": "completed"
    },
    "tags": []
   },
   "source": [
    "#### Plotting the outputs of this layer of the NN.\n"
   ]
  },
  {
   "cell_type": "code",
   "execution_count": 25,
   "id": "45eb2ff5",
   "metadata": {
    "execution": {
     "iopub.execute_input": "2022-06-12T00:40:51.377727Z",
     "iopub.status.busy": "2022-06-12T00:40:51.377096Z",
     "iopub.status.idle": "2022-06-12T00:40:51.402352Z",
     "shell.execute_reply": "2022-06-12T00:40:51.403055Z"
    },
    "papermill": {
     "duration": 0.074546,
     "end_time": "2022-06-12T00:40:51.403217",
     "exception": false,
     "start_time": "2022-06-12T00:40:51.328671",
     "status": "completed"
    },
    "tags": []
   },
   "outputs": [],
   "source": [
    "new_model = Model(layers[:-2])\n",
    "testing_plot = new_model(testing_data_x)"
   ]
  },
  {
   "cell_type": "code",
   "execution_count": 26,
   "id": "4c0a5485",
   "metadata": {
    "execution": {
     "iopub.execute_input": "2022-06-12T00:40:51.516516Z",
     "iopub.status.busy": "2022-06-12T00:40:51.515906Z",
     "iopub.status.idle": "2022-06-12T00:40:51.748286Z",
     "shell.execute_reply": "2022-06-12T00:40:51.748743Z"
    },
    "papermill": {
     "duration": 0.281953,
     "end_time": "2022-06-12T00:40:51.748882",
     "exception": false,
     "start_time": "2022-06-12T00:40:51.466929",
     "status": "completed"
    },
    "tags": []
   },
   "outputs": [
    {
     "data": {
      "text/plain": [
       "Text(0.5, 1.0, 'Outputs')"
      ]
     },
     "execution_count": 26,
     "metadata": {},
     "output_type": "execute_result"
    },
    {
     "data": {
      "image/png": "[encoded data removed]",
      "text/plain": [
       "<Figure size 576x504 with 1 Axes>"
      ]
     },
     "metadata": {
      "needs_background": "light"
     },
     "output_type": "display_data"
    }
   ],
   "source": [
    "# Plotting the scatter plot of points and color coding by class\n",
    "plt.figure(figsize=(8,7))\n",
    "plt.scatter(testing_plot[:,0], testing_plot[:,1], alpha = 0.1, c = y_test.ravel());\n",
    "plt.title('Outputs')"
   ]
  },
  {
   "cell_type": "markdown",
   "id": "a74fcf8f",
   "metadata": {
    "papermill": {
     "duration": 0.064017,
     "end_time": "2022-06-12T00:40:51.859065",
     "exception": false,
     "start_time": "2022-06-12T00:40:51.795048",
     "status": "completed"
    },
    "tags": []
   },
   "source": [
    "Probability contours"
   ]
  },
  {
   "cell_type": "code",
   "execution_count": 27,
   "id": "d0afc8e3",
   "metadata": {
    "execution": {
     "iopub.execute_input": "2022-06-12T00:40:51.953501Z",
     "iopub.status.busy": "2022-06-12T00:40:51.952855Z",
     "iopub.status.idle": "2022-06-12T00:40:51.964185Z",
     "shell.execute_reply": "2022-06-12T00:40:51.964705Z"
    },
    "papermill": {
     "duration": 0.060932,
     "end_time": "2022-06-12T00:40:51.964834",
     "exception": false,
     "start_time": "2022-06-12T00:40:51.903902",
     "status": "completed"
    },
    "tags": []
   },
   "outputs": [],
   "source": [
    "model_prob = Model(layers[-2:]) "
   ]
  },
  {
   "cell_type": "code",
   "execution_count": 28,
   "id": "9b96e238",
   "metadata": {
    "execution": {
     "iopub.execute_input": "2022-06-12T00:40:52.063417Z",
     "iopub.status.busy": "2022-06-12T00:40:52.062794Z",
     "iopub.status.idle": "2022-06-12T00:40:52.076905Z",
     "shell.execute_reply": "2022-06-12T00:40:52.077367Z"
    },
    "papermill": {
     "duration": 0.066659,
     "end_time": "2022-06-12T00:40:52.077496",
     "exception": false,
     "start_time": "2022-06-12T00:40:52.010837",
     "status": "completed"
    },
    "tags": []
   },
   "outputs": [],
   "source": [
    "#creating the x and y ranges according to the above generated plot.\n",
    "x_range = np.linspace(-4, 1, 100) \n",
    "y_range = np.linspace(-6, 6, 100) \n",
    "x_grid, y_grid = np.meshgrid(x_range, y_range) # x_grid and y_grig are of size 100 X 100\n",
    "\n",
    "# converting x_grid and y_grid to continuous arrays\n",
    "x_gridflat = np.ravel(x_grid)\n",
    "y_gridflat = np.ravel(y_grid)\n",
    "\n",
    "# The last layer of the current model takes two columns as input. Hence transpose of np.vstack() is required.\n",
    "X = np.vstack((x_gridflat, y_gridflat)).T\n",
    "\n",
    "prob_contour = model_prob(X).reshape(100,100) "
   ]
  },
  {
   "cell_type": "code",
   "execution_count": 29,
   "id": "da72499a",
   "metadata": {
    "execution": {
     "iopub.execute_input": "2022-06-12T00:40:52.184364Z",
     "iopub.status.busy": "2022-06-12T00:40:52.183757Z",
     "iopub.status.idle": "2022-06-12T00:40:52.469986Z",
     "shell.execute_reply": "2022-06-12T00:40:52.470464Z"
    },
    "papermill": {
     "duration": 0.343912,
     "end_time": "2022-06-12T00:40:52.470607",
     "exception": false,
     "start_time": "2022-06-12T00:40:52.126695",
     "status": "completed"
    },
    "tags": []
   },
   "outputs": [
    {
     "data": {
      "image/png": "[encoded data removed]",
      "text/plain": [
       "<Figure size 720x648 with 1 Axes>"
      ]
     },
     "metadata": {
      "needs_background": "light"
     },
     "output_type": "display_data"
    }
   ],
   "source": [
    "plt.figure(figsize=(10,9))\n",
    "plt.scatter(testing_plot[:,0], testing_plot[:,1], alpha = 0.1, c = y_test.ravel())\n",
    "contours = plt.contour(x_grid,y_grid,prob_contour)\n",
    "plt.title('Probability Contours')\n",
    "plt.clabel(contours, inline = True );"
   ]
  },
  {
   "cell_type": "code",
   "execution_count": null,
   "id": "e81b4ac7",
   "metadata": {
    "papermill": {
     "duration": 0.047531,
     "end_time": "2022-06-12T00:40:52.564351",
     "exception": false,
     "start_time": "2022-06-12T00:40:52.516820",
     "status": "completed"
    },
    "tags": []
   },
   "outputs": [],
   "source": []
  }
 ],
 "metadata": {
  "kernelspec": {
   "display_name": "Python 3",
   "language": "python",
   "name": "python3"
  },
  "language_info": {
   "codemirror_mode": {
    "name": "ipython",
    "version": 3
   },
   "file_extension": ".py",
   "mimetype": "text/x-python",
   "name": "python",
   "nbconvert_exporter": "python",
   "pygments_lexer": "ipython3",
   "version": "3.6.15"
  },
  "papermill": {
   "default_parameters": {},
   "duration": 161.488409,
   "end_time": "2022-06-12T00:40:52.942579",
   "environment_variables": {},
   "exception": null,
   "input_path": "2020-08-11-part2.ipynb",
   "output_path": "2020-08-11-part2.ipynb",
   "parameters": {},
   "start_time": "2022-06-12T00:38:11.454170",
   "version": "2.3.3"
  }
 },
 "nbformat": 4,
 "nbformat_minor": 5
}