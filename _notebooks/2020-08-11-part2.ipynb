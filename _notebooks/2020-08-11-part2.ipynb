{
 "cells": [
  {
   "cell_type": "markdown",
   "id": "98380cd3",
   "metadata": {
    "papermill": {
     "duration": 0.028482,
     "end_time": "2022-05-08T20:09:47.190667",
     "exception": false,
     "start_time": "2022-05-08T20:09:47.162185",
     "status": "completed"
    },
    "tags": []
   },
   "source": [
    "# Distinguish Your Own Digits (DYOD)"
   ]
  },
  {
   "cell_type": "markdown",
   "id": "ef31240d",
   "metadata": {
    "papermill": {
     "duration": 0.024946,
     "end_time": "2022-05-08T20:09:47.239995",
     "exception": false,
     "start_time": "2022-05-08T20:09:47.215049",
     "status": "completed"
    },
    "tags": []
   },
   "source": [
    "You are going to write a classifier that distinguishes between the number 3 and number 8."
   ]
  },
  {
   "cell_type": "code",
   "execution_count": 1,
   "id": "b15c8646",
   "metadata": {
    "execution": {
     "iopub.execute_input": "2022-05-08T20:09:47.297609Z",
     "iopub.status.busy": "2022-05-08T20:09:47.297046Z",
     "iopub.status.idle": "2022-05-08T20:09:47.308044Z",
     "shell.execute_reply": "2022-05-08T20:09:47.308460Z"
    },
    "papermill": {
     "duration": 0.045121,
     "end_time": "2022-05-08T20:09:47.308643",
     "exception": false,
     "start_time": "2022-05-08T20:09:47.263522",
     "status": "completed"
    },
    "tags": []
   },
   "outputs": [],
   "source": [
    "%load_ext autoreload\n",
    "%autoreload 2"
   ]
  },
  {
   "cell_type": "code",
   "execution_count": 2,
   "id": "22ef38dc",
   "metadata": {
    "execution": {
     "iopub.execute_input": "2022-05-08T20:09:47.359890Z",
     "iopub.status.busy": "2022-05-08T20:09:47.359379Z",
     "iopub.status.idle": "2022-05-08T20:09:47.885656Z",
     "shell.execute_reply": "2022-05-08T20:09:47.885129Z"
    },
    "papermill": {
     "duration": 0.553548,
     "end_time": "2022-05-08T20:09:47.885794",
     "exception": false,
     "start_time": "2022-05-08T20:09:47.332246",
     "status": "completed"
    },
    "tags": []
   },
   "outputs": [],
   "source": [
    "%matplotlib inline\n",
    "import numpy as np\n",
    "import matplotlib.pyplot as plt\n",
    "import pandas as pd"
   ]
  },
  {
   "cell_type": "markdown",
   "id": "ba036198",
   "metadata": {
    "papermill": {
     "duration": 0.023598,
     "end_time": "2022-05-08T20:09:47.933391",
     "exception": false,
     "start_time": "2022-05-08T20:09:47.909793",
     "status": "completed"
    },
    "tags": []
   },
   "source": [
    "From the command line run `pip install mnist`. This is a library that will help you bring down the mnist dataset. If you run this from a notebook, you need to put  `!pip install mnist` in a cell by itself."
   ]
  },
  {
   "cell_type": "code",
   "execution_count": 3,
   "id": "bb6ad8a1",
   "metadata": {
    "execution": {
     "iopub.execute_input": "2022-05-08T20:09:47.985227Z",
     "iopub.status.busy": "2022-05-08T20:09:47.984714Z",
     "iopub.status.idle": "2022-05-08T20:09:50.441986Z",
     "shell.execute_reply": "2022-05-08T20:09:50.441491Z"
    },
    "papermill": {
     "duration": 2.485029,
     "end_time": "2022-05-08T20:09:50.442109",
     "exception": false,
     "start_time": "2022-05-08T20:09:47.957080",
     "status": "completed"
    },
    "tags": []
   },
   "outputs": [
    {
     "name": "stdout",
     "output_type": "stream",
     "text": [
      "Collecting mnist\r\n"
     ]
    },
    {
     "name": "stdout",
     "output_type": "stream",
     "text": [
      "  Downloading mnist-0.2.2-py2.py3-none-any.whl (3.5 kB)\r\n",
      "Requirement already satisfied: numpy in /opt/hostedtoolcache/Python/3.6.15/x64/lib/python3.6/site-packages (from mnist) (1.19.5)\r\n"
     ]
    },
    {
     "name": "stdout",
     "output_type": "stream",
     "text": [
      "Installing collected packages: mnist\r\n"
     ]
    },
    {
     "name": "stdout",
     "output_type": "stream",
     "text": [
      "Successfully installed mnist-0.2.2\r\n"
     ]
    }
   ],
   "source": [
    "!pip install mnist"
   ]
  },
  {
   "cell_type": "markdown",
   "id": "69df9c9a",
   "metadata": {
    "papermill": {
     "duration": 0.024633,
     "end_time": "2022-05-08T20:09:50.491523",
     "exception": false,
     "start_time": "2022-05-08T20:09:50.466890",
     "status": "completed"
    },
    "tags": []
   },
   "source": [
    "## Preparing the Data"
   ]
  },
  {
   "cell_type": "code",
   "execution_count": 4,
   "id": "7f69d806",
   "metadata": {
    "execution": {
     "iopub.execute_input": "2022-05-08T20:09:50.560331Z",
     "iopub.status.busy": "2022-05-08T20:09:50.557276Z",
     "iopub.status.idle": "2022-05-08T20:09:50.562231Z",
     "shell.execute_reply": "2022-05-08T20:09:50.562643Z"
    },
    "papermill": {
     "duration": 0.046741,
     "end_time": "2022-05-08T20:09:50.562774",
     "exception": false,
     "start_time": "2022-05-08T20:09:50.516033",
     "status": "completed"
    },
    "tags": []
   },
   "outputs": [],
   "source": [
    "import mnist"
   ]
  },
  {
   "cell_type": "code",
   "execution_count": 5,
   "id": "a411e44f",
   "metadata": {
    "execution": {
     "iopub.execute_input": "2022-05-08T20:09:50.625214Z",
     "iopub.status.busy": "2022-05-08T20:09:50.622090Z",
     "iopub.status.idle": "2022-05-08T20:09:51.082363Z",
     "shell.execute_reply": "2022-05-08T20:09:51.081863Z"
    },
    "papermill": {
     "duration": 0.49519,
     "end_time": "2022-05-08T20:09:51.082486",
     "exception": false,
     "start_time": "2022-05-08T20:09:50.587296",
     "status": "completed"
    },
    "tags": []
   },
   "outputs": [],
   "source": [
    "train_images = mnist.train_images()\n",
    "train_labels = mnist.train_labels()"
   ]
  },
  {
   "cell_type": "code",
   "execution_count": 6,
   "id": "dceab3a5",
   "metadata": {
    "execution": {
     "iopub.execute_input": "2022-05-08T20:09:51.156188Z",
     "iopub.status.busy": "2022-05-08T20:09:51.151093Z",
     "iopub.status.idle": "2022-05-08T20:09:51.159500Z",
     "shell.execute_reply": "2022-05-08T20:09:51.158817Z"
    },
    "papermill": {
     "duration": 0.052227,
     "end_time": "2022-05-08T20:09:51.159621",
     "exception": false,
     "start_time": "2022-05-08T20:09:51.107394",
     "status": "completed"
    },
    "tags": []
   },
   "outputs": [
    {
     "data": {
      "text/plain": [
       "((60000, 28, 28), (60000,))"
      ]
     },
     "execution_count": 6,
     "metadata": {},
     "output_type": "execute_result"
    }
   ],
   "source": [
    "train_images.shape, train_labels.shape"
   ]
  },
  {
   "cell_type": "code",
   "execution_count": 7,
   "id": "f50dc2bb",
   "metadata": {
    "execution": {
     "iopub.execute_input": "2022-05-08T20:09:51.213325Z",
     "iopub.status.busy": "2022-05-08T20:09:51.212795Z",
     "iopub.status.idle": "2022-05-08T20:09:51.329844Z",
     "shell.execute_reply": "2022-05-08T20:09:51.329293Z"
    },
    "papermill": {
     "duration": 0.145314,
     "end_time": "2022-05-08T20:09:51.329976",
     "exception": false,
     "start_time": "2022-05-08T20:09:51.184662",
     "status": "completed"
    },
    "tags": []
   },
   "outputs": [],
   "source": [
    "test_images = mnist.test_images()\n",
    "test_labels = mnist.test_labels()"
   ]
  },
  {
   "cell_type": "code",
   "execution_count": 8,
   "id": "fc38cf1b",
   "metadata": {
    "execution": {
     "iopub.execute_input": "2022-05-08T20:09:51.384147Z",
     "iopub.status.busy": "2022-05-08T20:09:51.383641Z",
     "iopub.status.idle": "2022-05-08T20:09:51.396277Z",
     "shell.execute_reply": "2022-05-08T20:09:51.396799Z"
    },
    "papermill": {
     "duration": 0.041154,
     "end_time": "2022-05-08T20:09:51.396933",
     "exception": false,
     "start_time": "2022-05-08T20:09:51.355779",
     "status": "completed"
    },
    "tags": []
   },
   "outputs": [
    {
     "data": {
      "text/plain": [
       "((10000, 28, 28), (10000,))"
      ]
     },
     "execution_count": 8,
     "metadata": {},
     "output_type": "execute_result"
    }
   ],
   "source": [
    "test_images.shape, test_labels.shape"
   ]
  },
  {
   "cell_type": "code",
   "execution_count": 9,
   "id": "f9ed8fe0",
   "metadata": {
    "execution": {
     "iopub.execute_input": "2022-05-08T20:09:51.477558Z",
     "iopub.status.busy": "2022-05-08T20:09:51.461075Z",
     "iopub.status.idle": "2022-05-08T20:09:51.593033Z",
     "shell.execute_reply": "2022-05-08T20:09:51.593985Z"
    },
    "papermill": {
     "duration": 0.172146,
     "end_time": "2022-05-08T20:09:51.594133",
     "exception": false,
     "start_time": "2022-05-08T20:09:51.421987",
     "status": "completed"
    },
    "tags": []
   },
   "outputs": [
    {
     "name": "stdout",
     "output_type": "stream",
     "text": [
      "2\n"
     ]
    },
    {
     "data": {
      "text/plain": [
       "<matplotlib.image.AxesImage at 0x7f98dec4d438>"
      ]
     },
     "execution_count": 9,
     "metadata": {},
     "output_type": "execute_result"
    },
    {
     "data": {
      "image/png": "[encoded data removed]",
      "text/plain": [
       "<Figure size 432x288 with 1 Axes>"
      ]
     },
     "metadata": {
      "needs_background": "light"
     },
     "output_type": "display_data"
    }
   ],
   "source": [
    "image_index = 7776 # You may select anything up to 60,000\n",
    "print(train_labels[image_index]) \n",
    "plt.imshow(train_images[image_index], cmap='Greys')"
   ]
  },
  {
   "cell_type": "markdown",
   "id": "a8d2388d",
   "metadata": {
    "papermill": {
     "duration": 0.026144,
     "end_time": "2022-05-08T20:09:51.646767",
     "exception": false,
     "start_time": "2022-05-08T20:09:51.620623",
     "status": "completed"
    },
    "tags": []
   },
   "source": [
    "## Filter data to get 3 and 8 out"
   ]
  },
  {
   "cell_type": "code",
   "execution_count": 10,
   "id": "776f7fc7",
   "metadata": {
    "execution": {
     "iopub.execute_input": "2022-05-08T20:09:51.703752Z",
     "iopub.status.busy": "2022-05-08T20:09:51.702833Z",
     "iopub.status.idle": "2022-05-08T20:09:51.720533Z",
     "shell.execute_reply": "2022-05-08T20:09:51.719977Z"
    },
    "papermill": {
     "duration": 0.047666,
     "end_time": "2022-05-08T20:09:51.720652",
     "exception": false,
     "start_time": "2022-05-08T20:09:51.672986",
     "status": "completed"
    },
    "tags": []
   },
   "outputs": [],
   "source": [
    "train_filter = np.where((train_labels == 3 ) | (train_labels == 8))\n",
    "test_filter = np.where((test_labels == 3) | (test_labels == 8))\n",
    "X_train, y_train = train_images[train_filter], train_labels[train_filter]\n",
    "X_test, y_test = test_images[test_filter], test_labels[test_filter]"
   ]
  },
  {
   "cell_type": "markdown",
   "id": "948f0b7e",
   "metadata": {
    "papermill": {
     "duration": 0.026175,
     "end_time": "2022-05-08T20:09:51.773116",
     "exception": false,
     "start_time": "2022-05-08T20:09:51.746941",
     "status": "completed"
    },
    "tags": []
   },
   "source": [
    "We normalize the pizel values in the 0 to 1 range"
   ]
  },
  {
   "cell_type": "code",
   "execution_count": 11,
   "id": "ee4c2166",
   "metadata": {
    "execution": {
     "iopub.execute_input": "2022-05-08T20:09:51.843283Z",
     "iopub.status.busy": "2022-05-08T20:09:51.842750Z",
     "iopub.status.idle": "2022-05-08T20:09:51.880645Z",
     "shell.execute_reply": "2022-05-08T20:09:51.880086Z"
    },
    "papermill": {
     "duration": 0.081544,
     "end_time": "2022-05-08T20:09:51.880795",
     "exception": false,
     "start_time": "2022-05-08T20:09:51.799251",
     "status": "completed"
    },
    "tags": []
   },
   "outputs": [],
   "source": [
    "X_train = X_train/255.\n",
    "X_test = X_test/255."
   ]
  },
  {
   "cell_type": "markdown",
   "id": "ddcf4fab",
   "metadata": {
    "papermill": {
     "duration": 0.02608,
     "end_time": "2022-05-08T20:09:51.933784",
     "exception": false,
     "start_time": "2022-05-08T20:09:51.907704",
     "status": "completed"
    },
    "tags": []
   },
   "source": [
    "And setup the labels as 1 (when the digit is 3) and 0 (when the digit is 8)"
   ]
  },
  {
   "cell_type": "code",
   "execution_count": 12,
   "id": "7dc908f2",
   "metadata": {
    "execution": {
     "iopub.execute_input": "2022-05-08T20:09:51.994160Z",
     "iopub.status.busy": "2022-05-08T20:09:51.993638Z",
     "iopub.status.idle": "2022-05-08T20:09:52.003142Z",
     "shell.execute_reply": "2022-05-08T20:09:52.002730Z"
    },
    "papermill": {
     "duration": 0.043381,
     "end_time": "2022-05-08T20:09:52.003252",
     "exception": false,
     "start_time": "2022-05-08T20:09:51.959871",
     "status": "completed"
    },
    "tags": []
   },
   "outputs": [],
   "source": [
    "y_train = 1*(y_train==3)\n",
    "y_test = 1*(y_test==3)"
   ]
  },
  {
   "cell_type": "code",
   "execution_count": 13,
   "id": "01e4e969",
   "metadata": {
    "execution": {
     "iopub.execute_input": "2022-05-08T20:09:52.060621Z",
     "iopub.status.busy": "2022-05-08T20:09:52.059979Z",
     "iopub.status.idle": "2022-05-08T20:09:52.072812Z",
     "shell.execute_reply": "2022-05-08T20:09:52.072369Z"
    },
    "papermill": {
     "duration": 0.043637,
     "end_time": "2022-05-08T20:09:52.072929",
     "exception": false,
     "start_time": "2022-05-08T20:09:52.029292",
     "status": "completed"
    },
    "tags": []
   },
   "outputs": [
    {
     "data": {
      "text/plain": [
       "((11982, 28, 28), (1984, 28, 28))"
      ]
     },
     "execution_count": 13,
     "metadata": {},
     "output_type": "execute_result"
    }
   ],
   "source": [
    "X_train.shape, X_test.shape"
   ]
  },
  {
   "cell_type": "markdown",
   "id": "5ccf3f85",
   "metadata": {
    "papermill": {
     "duration": 0.026253,
     "end_time": "2022-05-08T20:09:52.125563",
     "exception": false,
     "start_time": "2022-05-08T20:09:52.099310",
     "status": "completed"
    },
    "tags": []
   },
   "source": [
    "We reshape the data to flatten the image pixels into a set of features or co-variates:"
   ]
  },
  {
   "cell_type": "code",
   "execution_count": 14,
   "id": "5286a4a3",
   "metadata": {
    "execution": {
     "iopub.execute_input": "2022-05-08T20:09:52.183158Z",
     "iopub.status.busy": "2022-05-08T20:09:52.182635Z",
     "iopub.status.idle": "2022-05-08T20:09:52.196315Z",
     "shell.execute_reply": "2022-05-08T20:09:52.195878Z"
    },
    "papermill": {
     "duration": 0.044379,
     "end_time": "2022-05-08T20:09:52.196422",
     "exception": false,
     "start_time": "2022-05-08T20:09:52.152043",
     "status": "completed"
    },
    "tags": []
   },
   "outputs": [
    {
     "data": {
      "text/plain": [
       "((11982, 784), (1984, 784))"
      ]
     },
     "execution_count": 14,
     "metadata": {},
     "output_type": "execute_result"
    }
   ],
   "source": [
    "X_train = X_train.reshape(X_train.shape[0], -1)\n",
    "X_test = X_test.reshape(X_test.shape[0], -1)\n",
    "X_train.shape, X_test.shape"
   ]
  },
  {
   "cell_type": "code",
   "execution_count": 15,
   "id": "73c5f88a",
   "metadata": {
    "execution": {
     "iopub.execute_input": "2022-05-08T20:09:52.256706Z",
     "iopub.status.busy": "2022-05-08T20:09:52.256156Z",
     "iopub.status.idle": "2022-05-08T20:09:52.272980Z",
     "shell.execute_reply": "2022-05-08T20:09:52.272468Z"
    },
    "papermill": {
     "duration": 0.050064,
     "end_time": "2022-05-08T20:09:52.273102",
     "exception": false,
     "start_time": "2022-05-08T20:09:52.223038",
     "status": "completed"
    },
    "tags": []
   },
   "outputs": [],
   "source": [
    "#Impoting functions from 'Kudzu'\n",
    "from kudzu.model import Model\n",
    "from kudzu.train import Learner\n",
    "from kudzu.optim import GD\n",
    "from kudzu.data import Data, Sampler,Dataloader\n",
    "\n",
    "from kudzu.callbacks import AccCallback\n",
    "from kudzu.callbacks import ClfCallback\n",
    "\n",
    "from kudzu.loss import MSE\n",
    "\n",
    "from kudzu.layer import Sigmoid,Relu\n",
    "from kudzu.layer import Affine"
   ]
  },
  {
   "cell_type": "markdown",
   "id": "bc01172a",
   "metadata": {
    "papermill": {
     "duration": 0.026426,
     "end_time": "2022-05-08T20:09:52.326864",
     "exception": false,
     "start_time": "2022-05-08T20:09:52.300438",
     "status": "completed"
    },
    "tags": []
   },
   "source": [
    "### Let us create a `Config` class, to store important parameters. \n",
    "This class essentially plays the role of a dictionary."
   ]
  },
  {
   "cell_type": "code",
   "execution_count": 16,
   "id": "978281aa",
   "metadata": {
    "execution": {
     "iopub.execute_input": "2022-05-08T20:09:52.396890Z",
     "iopub.status.busy": "2022-05-08T20:09:52.392216Z",
     "iopub.status.idle": "2022-05-08T20:09:52.399215Z",
     "shell.execute_reply": "2022-05-08T20:09:52.398781Z"
    },
    "papermill": {
     "duration": 0.045751,
     "end_time": "2022-05-08T20:09:52.399322",
     "exception": false,
     "start_time": "2022-05-08T20:09:52.353571",
     "status": "completed"
    },
    "tags": []
   },
   "outputs": [],
   "source": [
    "class Config:\n",
    "    pass\n",
    "config = Config()\n",
    "config.lr = 0.001\n",
    "config.num_epochs = 250\n",
    "config.bs = 50"
   ]
  },
  {
   "cell_type": "markdown",
   "id": "1385fa59",
   "metadata": {
    "papermill": {
     "duration": 0.026475,
     "end_time": "2022-05-08T20:09:52.452440",
     "exception": false,
     "start_time": "2022-05-08T20:09:52.425965",
     "status": "completed"
    },
    "tags": []
   },
   "source": [
    "### Running Models with the Training data\n",
    "Details about the network layers:\n",
    "- A first affine layer has 784 inputs and does 100 affine transforms. These are followed by a Relu\n",
    "- A second affine layer has 100 inputs from the 100 activations of the past layer, and does 100 affine transforms. These are followed by a Relu\n",
    "- A third affine layer has 100 activations and does 2 affine transformations to create an embedding for visualization. There is no non-linearity here.\n",
    "- A final \"logistic regression\" which has an affine transform from 2 inputs to 1 output, which is squeezed through a sigmoid.\n"
   ]
  },
  {
   "cell_type": "code",
   "execution_count": 17,
   "id": "2b9c66db",
   "metadata": {
    "execution": {
     "iopub.execute_input": "2022-05-08T20:09:52.509944Z",
     "iopub.status.busy": "2022-05-08T20:09:52.509432Z",
     "iopub.status.idle": "2022-05-08T20:09:52.521623Z",
     "shell.execute_reply": "2022-05-08T20:09:52.522058Z"
    },
    "papermill": {
     "duration": 0.043018,
     "end_time": "2022-05-08T20:09:52.522188",
     "exception": false,
     "start_time": "2022-05-08T20:09:52.479170",
     "status": "completed"
    },
    "tags": []
   },
   "outputs": [],
   "source": [
    "data = Data(X_train, y_train.reshape(-1,1))\n",
    "sampler = Sampler(data, config.bs, shuffle=True)\n",
    "\n",
    "dl = Dataloader(data, sampler)\n",
    "\n",
    "opt = GD(config.lr)\n",
    "loss = MSE()"
   ]
  },
  {
   "cell_type": "code",
   "execution_count": 18,
   "id": "b275e4c2",
   "metadata": {
    "execution": {
     "iopub.execute_input": "2022-05-08T20:09:52.589886Z",
     "iopub.status.busy": "2022-05-08T20:09:52.589361Z",
     "iopub.status.idle": "2022-05-08T20:09:52.595210Z",
     "shell.execute_reply": "2022-05-08T20:09:52.594511Z"
    },
    "papermill": {
     "duration": 0.046092,
     "end_time": "2022-05-08T20:09:52.595322",
     "exception": false,
     "start_time": "2022-05-08T20:09:52.549230",
     "status": "completed"
    },
    "tags": []
   },
   "outputs": [],
   "source": [
    "training_data_x = X_train\n",
    "testing_data_x = X_test\n",
    "training_data_y = y_train.reshape(-1,1)\n",
    "testing_data_y = y_test.reshape(-1,1)"
   ]
  },
  {
   "cell_type": "code",
   "execution_count": 19,
   "id": "76951160",
   "metadata": {
    "execution": {
     "iopub.execute_input": "2022-05-08T20:09:52.662151Z",
     "iopub.status.busy": "2022-05-08T20:09:52.658909Z",
     "iopub.status.idle": "2022-05-08T20:09:52.670949Z",
     "shell.execute_reply": "2022-05-08T20:09:52.671331Z"
    },
    "papermill": {
     "duration": 0.049397,
     "end_time": "2022-05-08T20:09:52.671463",
     "exception": false,
     "start_time": "2022-05-08T20:09:52.622066",
     "status": "completed"
    },
    "tags": []
   },
   "outputs": [
    {
     "name": "stdout",
     "output_type": "stream",
     "text": [
      "xavier\n",
      "xavier\n",
      "xavier\n",
      "xavier\n",
      "xavier\n"
     ]
    }
   ],
   "source": [
    "layers = [Affine(\"first\", 784, 100), Relu(\"first\"), Affine(\"second\", 100, 100), Relu(\"second\"), Affine(\"third\", 100, 2), Affine(\"last\", 2, 1), Sigmoid(\"last\")]\n",
    "model_nn = Model(layers)\n",
    "model_lr = Model([Affine(\"logits\", 784, 1), Sigmoid(\"sigmoid\")])"
   ]
  },
  {
   "cell_type": "code",
   "execution_count": 20,
   "id": "6eede77a",
   "metadata": {
    "execution": {
     "iopub.execute_input": "2022-05-08T20:09:52.732410Z",
     "iopub.status.busy": "2022-05-08T20:09:52.731889Z",
     "iopub.status.idle": "2022-05-08T20:09:52.742884Z",
     "shell.execute_reply": "2022-05-08T20:09:52.742443Z"
    },
    "papermill": {
     "duration": 0.044498,
     "end_time": "2022-05-08T20:09:52.742993",
     "exception": false,
     "start_time": "2022-05-08T20:09:52.698495",
     "status": "completed"
    },
    "tags": []
   },
   "outputs": [],
   "source": [
    "nn_learner = Learner(loss, model_nn, opt, config.num_epochs)\n",
    "acc_nn = ClfCallback(nn_learner, config.bs, training_data_x , testing_data_x, training_data_y, testing_data_y)\n",
    "nn_learner.set_callbacks([acc_nn])"
   ]
  },
  {
   "cell_type": "code",
   "execution_count": 21,
   "id": "877b6cc7",
   "metadata": {
    "execution": {
     "iopub.execute_input": "2022-05-08T20:09:52.801701Z",
     "iopub.status.busy": "2022-05-08T20:09:52.801084Z",
     "iopub.status.idle": "2022-05-08T20:09:52.812819Z",
     "shell.execute_reply": "2022-05-08T20:09:52.812330Z"
    },
    "papermill": {
     "duration": 0.042874,
     "end_time": "2022-05-08T20:09:52.812937",
     "exception": false,
     "start_time": "2022-05-08T20:09:52.770063",
     "status": "completed"
    },
    "tags": []
   },
   "outputs": [],
   "source": [
    "lr_learner = Learner(loss, model_lr, opt, config.num_epochs)\n",
    "acc_lr = ClfCallback(lr_learner, config.bs, training_data_x , testing_data_x, training_data_y, testing_data_y)\n",
    "lr_learner.set_callbacks([acc_lr])"
   ]
  },
  {
   "cell_type": "code",
   "execution_count": 22,
   "id": "d9b133c3",
   "metadata": {
    "execution": {
     "iopub.execute_input": "2022-05-08T20:09:52.870593Z",
     "iopub.status.busy": "2022-05-08T20:09:52.870087Z",
     "iopub.status.idle": "2022-05-08T20:11:09.858412Z",
     "shell.execute_reply": "2022-05-08T20:11:09.859161Z"
    },
    "papermill": {
     "duration": 77.019195,
     "end_time": "2022-05-08T20:11:09.859313",
     "exception": false,
     "start_time": "2022-05-08T20:09:52.840118",
     "status": "completed"
    },
    "tags": []
   },
   "outputs": [
    {
     "name": "stdout",
     "output_type": "stream",
     "text": [
      "Epoch 0, Loss 0.2394\n",
      "Training Accuracy: 0.7060, Testing Accuracy: 0.7177\n",
      "\n"
     ]
    },
    {
     "name": "stdout",
     "output_type": "stream",
     "text": [
      "Epoch 10, Loss 0.1283\n",
      "Training Accuracy: 0.8952, Testing Accuracy: 0.9047\n",
      "\n"
     ]
    },
    {
     "name": "stdout",
     "output_type": "stream",
     "text": [
      "Epoch 20, Loss 0.0708\n",
      "Training Accuracy: 0.9268, Testing Accuracy: 0.9400\n",
      "\n"
     ]
    },
    {
     "name": "stdout",
     "output_type": "stream",
     "text": [
      "Epoch 30, Loss 0.0519\n",
      "Training Accuracy: 0.9428, Testing Accuracy: 0.9561\n",
      "\n"
     ]
    },
    {
     "name": "stdout",
     "output_type": "stream",
     "text": [
      "Epoch 40, Loss 0.0431\n",
      "Training Accuracy: 0.9519, Testing Accuracy: 0.9612\n",
      "\n"
     ]
    },
    {
     "name": "stdout",
     "output_type": "stream",
     "text": [
      "Epoch 50, Loss 0.0381\n",
      "Training Accuracy: 0.9571, Testing Accuracy: 0.9642\n",
      "\n"
     ]
    },
    {
     "name": "stdout",
     "output_type": "stream",
     "text": [
      "Epoch 60, Loss 0.0348\n",
      "Training Accuracy: 0.9609, Testing Accuracy: 0.9662\n",
      "\n"
     ]
    },
    {
     "name": "stdout",
     "output_type": "stream",
     "text": [
      "Epoch 70, Loss 0.0325\n",
      "Training Accuracy: 0.9630, Testing Accuracy: 0.9672\n",
      "\n"
     ]
    },
    {
     "name": "stdout",
     "output_type": "stream",
     "text": [
      "Epoch 80, Loss 0.0307\n",
      "Training Accuracy: 0.9646, Testing Accuracy: 0.9677\n",
      "\n"
     ]
    },
    {
     "name": "stdout",
     "output_type": "stream",
     "text": [
      "Epoch 90, Loss 0.0293\n",
      "Training Accuracy: 0.9661, Testing Accuracy: 0.9688\n",
      "\n"
     ]
    },
    {
     "name": "stdout",
     "output_type": "stream",
     "text": [
      "Epoch 100, Loss 0.0281\n",
      "Training Accuracy: 0.9670, Testing Accuracy: 0.9688\n",
      "\n"
     ]
    },
    {
     "name": "stdout",
     "output_type": "stream",
     "text": [
      "Epoch 110, Loss 0.0271\n",
      "Training Accuracy: 0.9675, Testing Accuracy: 0.9703\n",
      "\n"
     ]
    },
    {
     "name": "stdout",
     "output_type": "stream",
     "text": [
      "Epoch 120, Loss 0.0262\n",
      "Training Accuracy: 0.9687, Testing Accuracy: 0.9718\n",
      "\n"
     ]
    },
    {
     "name": "stdout",
     "output_type": "stream",
     "text": [
      "Epoch 130, Loss 0.0254\n",
      "Training Accuracy: 0.9695, Testing Accuracy: 0.9718\n",
      "\n"
     ]
    },
    {
     "name": "stdout",
     "output_type": "stream",
     "text": [
      "Epoch 140, Loss 0.0247\n",
      "Training Accuracy: 0.9705, Testing Accuracy: 0.9723\n",
      "\n"
     ]
    },
    {
     "name": "stdout",
     "output_type": "stream",
     "text": [
      "Epoch 150, Loss 0.0241\n",
      "Training Accuracy: 0.9711, Testing Accuracy: 0.9723\n",
      "\n"
     ]
    },
    {
     "name": "stdout",
     "output_type": "stream",
     "text": [
      "Epoch 160, Loss 0.0235\n",
      "Training Accuracy: 0.9722, Testing Accuracy: 0.9728\n",
      "\n"
     ]
    },
    {
     "name": "stdout",
     "output_type": "stream",
     "text": [
      "Epoch 170, Loss 0.0229\n",
      "Training Accuracy: 0.9730, Testing Accuracy: 0.9738\n",
      "\n"
     ]
    },
    {
     "name": "stdout",
     "output_type": "stream",
     "text": [
      "Epoch 180, Loss 0.0224\n",
      "Training Accuracy: 0.9738, Testing Accuracy: 0.9733\n",
      "\n"
     ]
    },
    {
     "name": "stdout",
     "output_type": "stream",
     "text": [
      "Epoch 190, Loss 0.0219\n",
      "Training Accuracy: 0.9741, Testing Accuracy: 0.9728\n",
      "\n"
     ]
    },
    {
     "name": "stdout",
     "output_type": "stream",
     "text": [
      "Epoch 200, Loss 0.0214\n",
      "Training Accuracy: 0.9750, Testing Accuracy: 0.9728\n",
      "\n"
     ]
    },
    {
     "name": "stdout",
     "output_type": "stream",
     "text": [
      "Epoch 210, Loss 0.021\n",
      "Training Accuracy: 0.9755, Testing Accuracy: 0.9733\n",
      "\n"
     ]
    },
    {
     "name": "stdout",
     "output_type": "stream",
     "text": [
      "Epoch 220, Loss 0.0206\n",
      "Training Accuracy: 0.9760, Testing Accuracy: 0.9733\n",
      "\n"
     ]
    },
    {
     "name": "stdout",
     "output_type": "stream",
     "text": [
      "Epoch 230, Loss 0.0202\n",
      "Training Accuracy: 0.9767, Testing Accuracy: 0.9728\n",
      "\n"
     ]
    },
    {
     "name": "stdout",
     "output_type": "stream",
     "text": [
      "Epoch 240, Loss 0.0198\n",
      "Training Accuracy: 0.9774, Testing Accuracy: 0.9728\n",
      "\n"
     ]
    },
    {
     "data": {
      "text/plain": [
       "0.0027892382177852745"
      ]
     },
     "execution_count": 22,
     "metadata": {},
     "output_type": "execute_result"
    }
   ],
   "source": [
    "nn_learner.train_loop(dl)"
   ]
  },
  {
   "cell_type": "code",
   "execution_count": 23,
   "id": "e0163366",
   "metadata": {
    "execution": {
     "iopub.execute_input": "2022-05-08T20:11:09.938376Z",
     "iopub.status.busy": "2022-05-08T20:11:09.937846Z",
     "iopub.status.idle": "2022-05-08T20:11:23.436684Z",
     "shell.execute_reply": "2022-05-08T20:11:23.437443Z"
    },
    "papermill": {
     "duration": 13.542009,
     "end_time": "2022-05-08T20:11:23.437594",
     "exception": false,
     "start_time": "2022-05-08T20:11:09.895585",
     "status": "completed"
    },
    "tags": []
   },
   "outputs": [
    {
     "name": "stdout",
     "output_type": "stream",
     "text": [
      "Epoch 0, Loss 0.2366\n",
      "Training Accuracy: 0.6948, Testing Accuracy: 0.7067\n",
      "\n"
     ]
    },
    {
     "name": "stdout",
     "output_type": "stream",
     "text": [
      "Epoch 10, Loss 0.1048\n",
      "Training Accuracy: 0.9011, Testing Accuracy: 0.9158\n",
      "\n"
     ]
    },
    {
     "name": "stdout",
     "output_type": "stream",
     "text": [
      "Epoch 20, Loss 0.0807\n",
      "Training Accuracy: 0.9234, Testing Accuracy: 0.9325\n",
      "\n"
     ]
    },
    {
     "name": "stdout",
     "output_type": "stream",
     "text": [
      "Epoch 30, Loss 0.0694\n",
      "Training Accuracy: 0.9335, Testing Accuracy: 0.9441\n",
      "\n"
     ]
    },
    {
     "name": "stdout",
     "output_type": "stream",
     "text": [
      "Epoch 40, Loss 0.0625\n",
      "Training Accuracy: 0.9387, Testing Accuracy: 0.9506\n",
      "\n"
     ]
    },
    {
     "name": "stdout",
     "output_type": "stream",
     "text": [
      "Epoch 50, Loss 0.0579\n",
      "Training Accuracy: 0.9417, Testing Accuracy: 0.9541\n",
      "\n"
     ]
    },
    {
     "name": "stdout",
     "output_type": "stream",
     "text": [
      "Epoch 60, Loss 0.0544\n",
      "Training Accuracy: 0.9452, Testing Accuracy: 0.9556\n",
      "\n"
     ]
    },
    {
     "name": "stdout",
     "output_type": "stream",
     "text": [
      "Epoch 70, Loss 0.0518\n",
      "Training Accuracy: 0.9480, Testing Accuracy: 0.9582\n",
      "\n"
     ]
    },
    {
     "name": "stdout",
     "output_type": "stream",
     "text": [
      "Epoch 80, Loss 0.0497\n",
      "Training Accuracy: 0.9493, Testing Accuracy: 0.9602\n",
      "\n"
     ]
    },
    {
     "name": "stdout",
     "output_type": "stream",
     "text": [
      "Epoch 90, Loss 0.0479\n",
      "Training Accuracy: 0.9510, Testing Accuracy: 0.9617\n",
      "\n"
     ]
    },
    {
     "name": "stdout",
     "output_type": "stream",
     "text": [
      "Epoch 100, Loss 0.0465\n",
      "Training Accuracy: 0.9530, Testing Accuracy: 0.9617\n",
      "\n"
     ]
    },
    {
     "name": "stdout",
     "output_type": "stream",
     "text": [
      "Epoch 110, Loss 0.0452\n",
      "Training Accuracy: 0.9539, Testing Accuracy: 0.9622\n",
      "\n"
     ]
    },
    {
     "name": "stdout",
     "output_type": "stream",
     "text": [
      "Epoch 120, Loss 0.0441\n",
      "Training Accuracy: 0.9543, Testing Accuracy: 0.9637\n",
      "\n"
     ]
    },
    {
     "name": "stdout",
     "output_type": "stream",
     "text": [
      "Epoch 130, Loss 0.0432\n",
      "Training Accuracy: 0.9545, Testing Accuracy: 0.9642\n",
      "\n"
     ]
    },
    {
     "name": "stdout",
     "output_type": "stream",
     "text": [
      "Epoch 140, Loss 0.0423\n",
      "Training Accuracy: 0.9555, Testing Accuracy: 0.9657\n",
      "\n"
     ]
    },
    {
     "name": "stdout",
     "output_type": "stream",
     "text": [
      "Epoch 150, Loss 0.0416\n",
      "Training Accuracy: 0.9560, Testing Accuracy: 0.9657\n",
      "\n"
     ]
    },
    {
     "name": "stdout",
     "output_type": "stream",
     "text": [
      "Epoch 160, Loss 0.0409\n",
      "Training Accuracy: 0.9567, Testing Accuracy: 0.9657\n",
      "\n"
     ]
    },
    {
     "name": "stdout",
     "output_type": "stream",
     "text": [
      "Epoch 170, Loss 0.0403\n",
      "Training Accuracy: 0.9571, Testing Accuracy: 0.9662\n",
      "\n"
     ]
    },
    {
     "name": "stdout",
     "output_type": "stream",
     "text": [
      "Epoch 180, Loss 0.0397\n",
      "Training Accuracy: 0.9576, Testing Accuracy: 0.9662\n",
      "\n"
     ]
    },
    {
     "name": "stdout",
     "output_type": "stream",
     "text": [
      "Epoch 190, Loss 0.0392\n",
      "Training Accuracy: 0.9580, Testing Accuracy: 0.9662\n",
      "\n"
     ]
    },
    {
     "name": "stdout",
     "output_type": "stream",
     "text": [
      "Epoch 200, Loss 0.0387\n",
      "Training Accuracy: 0.9584, Testing Accuracy: 0.9662\n",
      "\n"
     ]
    },
    {
     "name": "stdout",
     "output_type": "stream",
     "text": [
      "Epoch 210, Loss 0.0382\n",
      "Training Accuracy: 0.9589, Testing Accuracy: 0.9667\n",
      "\n"
     ]
    },
    {
     "name": "stdout",
     "output_type": "stream",
     "text": [
      "Epoch 220, Loss 0.0378\n",
      "Training Accuracy: 0.9590, Testing Accuracy: 0.9672\n",
      "\n"
     ]
    },
    {
     "name": "stdout",
     "output_type": "stream",
     "text": [
      "Epoch 230, Loss 0.0374\n",
      "Training Accuracy: 0.9596, Testing Accuracy: 0.9667\n",
      "\n"
     ]
    },
    {
     "name": "stdout",
     "output_type": "stream",
     "text": [
      "Epoch 240, Loss 0.037\n",
      "Training Accuracy: 0.9601, Testing Accuracy: 0.9662\n",
      "\n"
     ]
    },
    {
     "data": {
      "text/plain": [
       "0.012866910346308318"
      ]
     },
     "execution_count": 23,
     "metadata": {},
     "output_type": "execute_result"
    }
   ],
   "source": [
    "lr_learner.train_loop(dl)"
   ]
  },
  {
   "cell_type": "code",
   "execution_count": 24,
   "id": "ca410940",
   "metadata": {
    "execution": {
     "iopub.execute_input": "2022-05-08T20:11:23.526040Z",
     "iopub.status.busy": "2022-05-08T20:11:23.525508Z",
     "iopub.status.idle": "2022-05-08T20:11:23.750880Z",
     "shell.execute_reply": "2022-05-08T20:11:23.750377Z"
    },
    "papermill": {
     "duration": 0.272704,
     "end_time": "2022-05-08T20:11:23.751020",
     "exception": false,
     "start_time": "2022-05-08T20:11:23.478316",
     "status": "completed"
    },
    "tags": []
   },
   "outputs": [
    {
     "data": {
      "text/plain": [
       "<matplotlib.legend.Legend at 0x7f98de830a90>"
      ]
     },
     "execution_count": 24,
     "metadata": {},
     "output_type": "execute_result"
    },
    {
     "data": {
      "image/png": "[encoded data removed]",
      "text/plain": [
       "<Figure size 1080x720 with 1 Axes>"
      ]
     },
     "metadata": {
      "needs_background": "light"
     },
     "output_type": "display_data"
    }
   ],
   "source": [
    "#comparing the results of NN and LR\n",
    "plt.figure(figsize=(15,10))\n",
    "\n",
    "# Neural Network plots\n",
    "plt.plot(acc_nn.accuracies, 'r-', label = \"Training Accuracies - NN\")\n",
    "plt.plot(acc_nn.test_accuracies, 'g-', label = \"Testing Accuracies - NN\")\n",
    "\n",
    "# Logistic Regression plots\n",
    "plt.plot(acc_lr.accuracies, 'k-', label = \"Training Accuracies - LR\")\n",
    "plt.plot(acc_lr.test_accuracies, 'b-', label = \"Testing Accuracies - LR\")\n",
    "plt.legend()"
   ]
  },
  {
   "cell_type": "markdown",
   "id": "80dfb35c",
   "metadata": {
    "papermill": {
     "duration": 0.041631,
     "end_time": "2022-05-08T20:11:23.836188",
     "exception": false,
     "start_time": "2022-05-08T20:11:23.794557",
     "status": "completed"
    },
    "tags": []
   },
   "source": [
    "#### Plotting the outputs of this layer of the NN.\n"
   ]
  },
  {
   "cell_type": "code",
   "execution_count": 25,
   "id": "45eb2ff5",
   "metadata": {
    "execution": {
     "iopub.execute_input": "2022-05-08T20:11:23.934995Z",
     "iopub.status.busy": "2022-05-08T20:11:23.933965Z",
     "iopub.status.idle": "2022-05-08T20:11:23.947460Z",
     "shell.execute_reply": "2022-05-08T20:11:23.948103Z"
    },
    "papermill": {
     "duration": 0.070407,
     "end_time": "2022-05-08T20:11:23.948244",
     "exception": false,
     "start_time": "2022-05-08T20:11:23.877837",
     "status": "completed"
    },
    "tags": []
   },
   "outputs": [],
   "source": [
    "new_model = Model(layers[:-2])\n",
    "testing_plot = new_model(testing_data_x)"
   ]
  },
  {
   "cell_type": "code",
   "execution_count": 26,
   "id": "4c0a5485",
   "metadata": {
    "execution": {
     "iopub.execute_input": "2022-05-08T20:11:24.043895Z",
     "iopub.status.busy": "2022-05-08T20:11:24.043374Z",
     "iopub.status.idle": "2022-05-08T20:11:24.250929Z",
     "shell.execute_reply": "2022-05-08T20:11:24.251322Z"
    },
    "papermill": {
     "duration": 0.260435,
     "end_time": "2022-05-08T20:11:24.251464",
     "exception": false,
     "start_time": "2022-05-08T20:11:23.991029",
     "status": "completed"
    },
    "tags": []
   },
   "outputs": [
    {
     "data": {
      "text/plain": [
       "Text(0.5, 1.0, 'Outputs')"
      ]
     },
     "execution_count": 26,
     "metadata": {},
     "output_type": "execute_result"
    },
    {
     "data": {
      "image/png": "[encoded data removed]",
      "text/plain": [
       "<Figure size 576x504 with 1 Axes>"
      ]
     },
     "metadata": {
      "needs_background": "light"
     },
     "output_type": "display_data"
    }
   ],
   "source": [
    "# Plotting the scatter plot of points and color coding by class\n",
    "plt.figure(figsize=(8,7))\n",
    "plt.scatter(testing_plot[:,0], testing_plot[:,1], alpha = 0.1, c = y_test.ravel());\n",
    "plt.title('Outputs')"
   ]
  },
  {
   "cell_type": "markdown",
   "id": "a74fcf8f",
   "metadata": {
    "papermill": {
     "duration": 0.044272,
     "end_time": "2022-05-08T20:11:24.340304",
     "exception": false,
     "start_time": "2022-05-08T20:11:24.296032",
     "status": "completed"
    },
    "tags": []
   },
   "source": [
    "Probability contours"
   ]
  },
  {
   "cell_type": "code",
   "execution_count": 27,
   "id": "d0afc8e3",
   "metadata": {
    "execution": {
     "iopub.execute_input": "2022-05-08T20:11:24.433249Z",
     "iopub.status.busy": "2022-05-08T20:11:24.432718Z",
     "iopub.status.idle": "2022-05-08T20:11:24.445136Z",
     "shell.execute_reply": "2022-05-08T20:11:24.444710Z"
    },
    "papermill": {
     "duration": 0.060474,
     "end_time": "2022-05-08T20:11:24.445253",
     "exception": false,
     "start_time": "2022-05-08T20:11:24.384779",
     "status": "completed"
    },
    "tags": []
   },
   "outputs": [],
   "source": [
    "model_prob = Model(layers[-2:]) "
   ]
  },
  {
   "cell_type": "code",
   "execution_count": 28,
   "id": "9b96e238",
   "metadata": {
    "execution": {
     "iopub.execute_input": "2022-05-08T20:11:24.566477Z",
     "iopub.status.busy": "2022-05-08T20:11:24.565862Z",
     "iopub.status.idle": "2022-05-08T20:11:24.579741Z",
     "shell.execute_reply": "2022-05-08T20:11:24.580469Z"
    },
    "papermill": {
     "duration": 0.064017,
     "end_time": "2022-05-08T20:11:24.580627",
     "exception": false,
     "start_time": "2022-05-08T20:11:24.516610",
     "status": "completed"
    },
    "tags": []
   },
   "outputs": [],
   "source": [
    "#creating the x and y ranges according to the above generated plot.\n",
    "x_range = np.linspace(-4, 1, 100) \n",
    "y_range = np.linspace(-6, 6, 100) \n",
    "x_grid, y_grid = np.meshgrid(x_range, y_range) # x_grid and y_grig are of size 100 X 100\n",
    "\n",
    "# converting x_grid and y_grid to continuous arrays\n",
    "x_gridflat = np.ravel(x_grid)\n",
    "y_gridflat = np.ravel(y_grid)\n",
    "\n",
    "# The last layer of the current model takes two columns as input. Hence transpose of np.vstack() is required.\n",
    "X = np.vstack((x_gridflat, y_gridflat)).T\n",
    "\n",
    "prob_contour = model_prob(X).reshape(100,100) "
   ]
  },
  {
   "cell_type": "code",
   "execution_count": 29,
   "id": "da72499a",
   "metadata": {
    "execution": {
     "iopub.execute_input": "2022-05-08T20:11:24.678203Z",
     "iopub.status.busy": "2022-05-08T20:11:24.677676Z",
     "iopub.status.idle": "2022-05-08T20:11:24.919695Z",
     "shell.execute_reply": "2022-05-08T20:11:24.918899Z"
    },
    "papermill": {
     "duration": 0.293427,
     "end_time": "2022-05-08T20:11:24.919828",
     "exception": false,
     "start_time": "2022-05-08T20:11:24.626401",
     "status": "completed"
    },
    "tags": []
   },
   "outputs": [
    {
     "data": {
      "image/png": "[encoded data removed]",
      "text/plain": [
       "<Figure size 720x648 with 1 Axes>"
      ]
     },
     "metadata": {
      "needs_background": "light"
     },
     "output_type": "display_data"
    }
   ],
   "source": [
    "plt.figure(figsize=(10,9))\n",
    "plt.scatter(testing_plot[:,0], testing_plot[:,1], alpha = 0.1, c = y_test.ravel())\n",
    "contours = plt.contour(x_grid,y_grid,prob_contour)\n",
    "plt.title('Probability Contours')\n",
    "plt.clabel(contours, inline = True );"
   ]
  },
  {
   "cell_type": "code",
   "execution_count": null,
   "id": "e81b4ac7",
   "metadata": {
    "papermill": {
     "duration": 0.04676,
     "end_time": "2022-05-08T20:11:25.013974",
     "exception": false,
     "start_time": "2022-05-08T20:11:24.967214",
     "status": "completed"
    },
    "tags": []
   },
   "outputs": [],
   "source": []
  }
 ],
 "metadata": {
  "kernelspec": {
   "display_name": "Python 3",
   "language": "python",
   "name": "python3"
  },
  "language_info": {
   "codemirror_mode": {
    "name": "ipython",
    "version": 3
   },
   "file_extension": ".py",
   "mimetype": "text/x-python",
   "name": "python",
   "nbconvert_exporter": "python",
   "pygments_lexer": "ipython3",
   "version": "3.6.15"
  },
  "papermill": {
   "default_parameters": {},
   "duration": 99.240065,
   "end_time": "2022-05-08T20:11:25.479344",
   "environment_variables": {},
   "exception": null,
   "input_path": "2020-08-11-part2.ipynb",
   "output_path": "2020-08-11-part2.ipynb",
   "parameters": {},
   "start_time": "2022-05-08T20:09:46.239279",
   "version": "2.3.3"
  }
 },
 "nbformat": 4,
 "nbformat_minor": 5
}