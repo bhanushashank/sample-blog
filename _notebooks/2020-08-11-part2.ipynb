{
 "cells": [
  {
   "cell_type": "markdown",
   "id": "98380cd3",
   "metadata": {
    "papermill": {
     "duration": 0.046736,
     "end_time": "2022-07-25T20:11:03.029019",
     "exception": false,
     "start_time": "2022-07-25T20:11:02.982283",
     "status": "completed"
    },
    "tags": []
   },
   "source": [
    "# Distinguish Your Own Digits (DYOD)"
   ]
  },
  {
   "cell_type": "markdown",
   "id": "ef31240d",
   "metadata": {
    "papermill": {
     "duration": 0.036941,
     "end_time": "2022-07-25T20:11:03.099073",
     "exception": false,
     "start_time": "2022-07-25T20:11:03.062132",
     "status": "completed"
    },
    "tags": []
   },
   "source": [
    "You are going to write a classifier that distinguishes between the number 3 and number 8."
   ]
  },
  {
   "cell_type": "code",
   "execution_count": 1,
   "id": "b15c8646",
   "metadata": {
    "execution": {
     "iopub.execute_input": "2022-07-25T20:11:03.183269Z",
     "iopub.status.busy": "2022-07-25T20:11:03.181228Z",
     "iopub.status.idle": "2022-07-25T20:11:03.196948Z",
     "shell.execute_reply": "2022-07-25T20:11:03.197830Z"
    },
    "papermill": {
     "duration": 0.062949,
     "end_time": "2022-07-25T20:11:03.198050",
     "exception": false,
     "start_time": "2022-07-25T20:11:03.135101",
     "status": "completed"
    },
    "tags": []
   },
   "outputs": [],
   "source": [
    "%load_ext autoreload\n",
    "%autoreload 2"
   ]
  },
  {
   "cell_type": "code",
   "execution_count": 2,
   "id": "22ef38dc",
   "metadata": {
    "execution": {
     "iopub.execute_input": "2022-07-25T20:11:03.272994Z",
     "iopub.status.busy": "2022-07-25T20:11:03.272208Z",
     "iopub.status.idle": "2022-07-25T20:11:03.992668Z",
     "shell.execute_reply": "2022-07-25T20:11:03.991984Z"
    },
    "papermill": {
     "duration": 0.758854,
     "end_time": "2022-07-25T20:11:03.992852",
     "exception": false,
     "start_time": "2022-07-25T20:11:03.233998",
     "status": "completed"
    },
    "tags": []
   },
   "outputs": [],
   "source": [
    "%matplotlib inline\n",
    "import numpy as np\n",
    "import matplotlib.pyplot as plt\n",
    "import pandas as pd"
   ]
  },
  {
   "cell_type": "markdown",
   "id": "ba036198",
   "metadata": {
    "papermill": {
     "duration": 0.033355,
     "end_time": "2022-07-25T20:11:04.061198",
     "exception": false,
     "start_time": "2022-07-25T20:11:04.027843",
     "status": "completed"
    },
    "tags": []
   },
   "source": [
    "From the command line run `pip install mnist`. This is a library that will help you bring down the mnist dataset. If you run this from a notebook, you need to put  `!pip install mnist` in a cell by itself."
   ]
  },
  {
   "cell_type": "code",
   "execution_count": 3,
   "id": "bb6ad8a1",
   "metadata": {
    "execution": {
     "iopub.execute_input": "2022-07-25T20:11:04.138252Z",
     "iopub.status.busy": "2022-07-25T20:11:04.137457Z",
     "iopub.status.idle": "2022-07-25T20:11:06.335119Z",
     "shell.execute_reply": "2022-07-25T20:11:06.335715Z"
    },
    "papermill": {
     "duration": 2.238963,
     "end_time": "2022-07-25T20:11:06.335941",
     "exception": false,
     "start_time": "2022-07-25T20:11:04.096978",
     "status": "completed"
    },
    "tags": []
   },
   "outputs": [
    {
     "name": "stdout",
     "output_type": "stream",
     "text": [
      "Collecting mnist\r\n"
     ]
    },
    {
     "name": "stdout",
     "output_type": "stream",
     "text": [
      "  Downloading mnist-0.2.2-py2.py3-none-any.whl (3.5 kB)\r\n",
      "Requirement already satisfied: numpy in /opt/hostedtoolcache/Python/3.6.15/x64/lib/python3.6/site-packages (from mnist) (1.19.5)\r\n"
     ]
    },
    {
     "name": "stdout",
     "output_type": "stream",
     "text": [
      "Installing collected packages: mnist\r\n"
     ]
    },
    {
     "name": "stdout",
     "output_type": "stream",
     "text": [
      "Successfully installed mnist-0.2.2\r\n"
     ]
    }
   ],
   "source": [
    "!pip install mnist"
   ]
  },
  {
   "cell_type": "markdown",
   "id": "69df9c9a",
   "metadata": {
    "papermill": {
     "duration": 0.034672,
     "end_time": "2022-07-25T20:11:06.405192",
     "exception": false,
     "start_time": "2022-07-25T20:11:06.370520",
     "status": "completed"
    },
    "tags": []
   },
   "source": [
    "## Preparing the Data"
   ]
  },
  {
   "cell_type": "code",
   "execution_count": 4,
   "id": "7f69d806",
   "metadata": {
    "execution": {
     "iopub.execute_input": "2022-07-25T20:11:06.489490Z",
     "iopub.status.busy": "2022-07-25T20:11:06.482230Z",
     "iopub.status.idle": "2022-07-25T20:11:06.502814Z",
     "shell.execute_reply": "2022-07-25T20:11:06.502040Z"
    },
    "papermill": {
     "duration": 0.064044,
     "end_time": "2022-07-25T20:11:06.502969",
     "exception": false,
     "start_time": "2022-07-25T20:11:06.438925",
     "status": "completed"
    },
    "tags": []
   },
   "outputs": [],
   "source": [
    "import mnist"
   ]
  },
  {
   "cell_type": "code",
   "execution_count": 5,
   "id": "a411e44f",
   "metadata": {
    "execution": {
     "iopub.execute_input": "2022-07-25T20:11:06.581353Z",
     "iopub.status.busy": "2022-07-25T20:11:06.574440Z",
     "iopub.status.idle": "2022-07-25T20:11:07.537185Z",
     "shell.execute_reply": "2022-07-25T20:11:07.536512Z"
    },
    "papermill": {
     "duration": 1.000724,
     "end_time": "2022-07-25T20:11:07.537394",
     "exception": false,
     "start_time": "2022-07-25T20:11:06.536670",
     "status": "completed"
    },
    "tags": []
   },
   "outputs": [],
   "source": [
    "train_images = mnist.train_images()\n",
    "train_labels = mnist.train_labels()"
   ]
  },
  {
   "cell_type": "code",
   "execution_count": 6,
   "id": "dceab3a5",
   "metadata": {
    "execution": {
     "iopub.execute_input": "2022-07-25T20:11:07.619545Z",
     "iopub.status.busy": "2022-07-25T20:11:07.618744Z",
     "iopub.status.idle": "2022-07-25T20:11:07.647556Z",
     "shell.execute_reply": "2022-07-25T20:11:07.646746Z"
    },
    "papermill": {
     "duration": 0.074268,
     "end_time": "2022-07-25T20:11:07.647763",
     "exception": false,
     "start_time": "2022-07-25T20:11:07.573495",
     "status": "completed"
    },
    "tags": []
   },
   "outputs": [
    {
     "data": {
      "text/plain": [
       "((60000, 28, 28), (60000,))"
      ]
     },
     "execution_count": 6,
     "metadata": {},
     "output_type": "execute_result"
    }
   ],
   "source": [
    "train_images.shape, train_labels.shape"
   ]
  },
  {
   "cell_type": "code",
   "execution_count": 7,
   "id": "f50dc2bb",
   "metadata": {
    "execution": {
     "iopub.execute_input": "2022-07-25T20:11:07.726423Z",
     "iopub.status.busy": "2022-07-25T20:11:07.725286Z",
     "iopub.status.idle": "2022-07-25T20:11:07.914380Z",
     "shell.execute_reply": "2022-07-25T20:11:07.913691Z"
    },
    "papermill": {
     "duration": 0.22942,
     "end_time": "2022-07-25T20:11:07.914611",
     "exception": false,
     "start_time": "2022-07-25T20:11:07.685191",
     "status": "completed"
    },
    "tags": []
   },
   "outputs": [],
   "source": [
    "test_images = mnist.test_images()\n",
    "test_labels = mnist.test_labels()"
   ]
  },
  {
   "cell_type": "code",
   "execution_count": 8,
   "id": "fc38cf1b",
   "metadata": {
    "execution": {
     "iopub.execute_input": "2022-07-25T20:11:07.988298Z",
     "iopub.status.busy": "2022-07-25T20:11:07.987285Z",
     "iopub.status.idle": "2022-07-25T20:11:08.014832Z",
     "shell.execute_reply": "2022-07-25T20:11:08.015636Z"
    },
    "papermill": {
     "duration": 0.067578,
     "end_time": "2022-07-25T20:11:08.015883",
     "exception": false,
     "start_time": "2022-07-25T20:11:07.948305",
     "status": "completed"
    },
    "tags": []
   },
   "outputs": [
    {
     "data": {
      "text/plain": [
       "((10000, 28, 28), (10000,))"
      ]
     },
     "execution_count": 8,
     "metadata": {},
     "output_type": "execute_result"
    }
   ],
   "source": [
    "test_images.shape, test_labels.shape"
   ]
  },
  {
   "cell_type": "code",
   "execution_count": 9,
   "id": "f9ed8fe0",
   "metadata": {
    "execution": {
     "iopub.execute_input": "2022-07-25T20:11:08.092971Z",
     "iopub.status.busy": "2022-07-25T20:11:08.092194Z",
     "iopub.status.idle": "2022-07-25T20:11:08.318040Z",
     "shell.execute_reply": "2022-07-25T20:11:08.317402Z"
    },
    "papermill": {
     "duration": 0.265841,
     "end_time": "2022-07-25T20:11:08.318195",
     "exception": false,
     "start_time": "2022-07-25T20:11:08.052354",
     "status": "completed"
    },
    "tags": []
   },
   "outputs": [
    {
     "name": "stdout",
     "output_type": "stream",
     "text": [
      "2\n"
     ]
    },
    {
     "data": {
      "text/plain": [
       "<matplotlib.image.AxesImage at 0x7fc947e6d4a8>"
      ]
     },
     "execution_count": 9,
     "metadata": {},
     "output_type": "execute_result"
    },
    {
     "data": {
      "image/png": "[encoded data removed]",
      "text/plain": [
       "<Figure size 432x288 with 1 Axes>"
      ]
     },
     "metadata": {
      "needs_background": "light"
     },
     "output_type": "display_data"
    }
   ],
   "source": [
    "image_index = 7776 # You may select anything up to 60,000\n",
    "print(train_labels[image_index]) \n",
    "plt.imshow(train_images[image_index], cmap='Greys')"
   ]
  },
  {
   "cell_type": "markdown",
   "id": "a8d2388d",
   "metadata": {
    "papermill": {
     "duration": 0.036115,
     "end_time": "2022-07-25T20:11:08.390610",
     "exception": false,
     "start_time": "2022-07-25T20:11:08.354495",
     "status": "completed"
    },
    "tags": []
   },
   "source": [
    "## Filter data to get 3 and 8 out"
   ]
  },
  {
   "cell_type": "code",
   "execution_count": 10,
   "id": "776f7fc7",
   "metadata": {
    "execution": {
     "iopub.execute_input": "2022-07-25T20:11:08.469569Z",
     "iopub.status.busy": "2022-07-25T20:11:08.468668Z",
     "iopub.status.idle": "2022-07-25T20:11:08.499869Z",
     "shell.execute_reply": "2022-07-25T20:11:08.499123Z"
    },
    "papermill": {
     "duration": 0.072874,
     "end_time": "2022-07-25T20:11:08.500042",
     "exception": false,
     "start_time": "2022-07-25T20:11:08.427168",
     "status": "completed"
    },
    "tags": []
   },
   "outputs": [],
   "source": [
    "train_filter = np.where((train_labels == 3 ) | (train_labels == 8))\n",
    "test_filter = np.where((test_labels == 3) | (test_labels == 8))\n",
    "X_train, y_train = train_images[train_filter], train_labels[train_filter]\n",
    "X_test, y_test = test_images[test_filter], test_labels[test_filter]"
   ]
  },
  {
   "cell_type": "markdown",
   "id": "948f0b7e",
   "metadata": {
    "papermill": {
     "duration": 0.038108,
     "end_time": "2022-07-25T20:11:08.577848",
     "exception": false,
     "start_time": "2022-07-25T20:11:08.539740",
     "status": "completed"
    },
    "tags": []
   },
   "source": [
    "We normalize the pizel values in the 0 to 1 range"
   ]
  },
  {
   "cell_type": "code",
   "execution_count": 11,
   "id": "ee4c2166",
   "metadata": {
    "execution": {
     "iopub.execute_input": "2022-07-25T20:11:08.661691Z",
     "iopub.status.busy": "2022-07-25T20:11:08.660764Z",
     "iopub.status.idle": "2022-07-25T20:11:08.797476Z",
     "shell.execute_reply": "2022-07-25T20:11:08.798344Z"
    },
    "papermill": {
     "duration": 0.180816,
     "end_time": "2022-07-25T20:11:08.798550",
     "exception": false,
     "start_time": "2022-07-25T20:11:08.617734",
     "status": "completed"
    },
    "tags": []
   },
   "outputs": [],
   "source": [
    "X_train = X_train/255.\n",
    "X_test = X_test/255."
   ]
  },
  {
   "cell_type": "markdown",
   "id": "ddcf4fab",
   "metadata": {
    "papermill": {
     "duration": 0.037464,
     "end_time": "2022-07-25T20:11:08.873927",
     "exception": false,
     "start_time": "2022-07-25T20:11:08.836463",
     "status": "completed"
    },
    "tags": []
   },
   "source": [
    "And setup the labels as 1 (when the digit is 3) and 0 (when the digit is 8)"
   ]
  },
  {
   "cell_type": "code",
   "execution_count": 12,
   "id": "7dc908f2",
   "metadata": {
    "execution": {
     "iopub.execute_input": "2022-07-25T20:11:08.959685Z",
     "iopub.status.busy": "2022-07-25T20:11:08.958591Z",
     "iopub.status.idle": "2022-07-25T20:11:08.978461Z",
     "shell.execute_reply": "2022-07-25T20:11:08.977429Z"
    },
    "papermill": {
     "duration": 0.061745,
     "end_time": "2022-07-25T20:11:08.978616",
     "exception": false,
     "start_time": "2022-07-25T20:11:08.916871",
     "status": "completed"
    },
    "tags": []
   },
   "outputs": [],
   "source": [
    "y_train = 1*(y_train==3)\n",
    "y_test = 1*(y_test==3)"
   ]
  },
  {
   "cell_type": "code",
   "execution_count": 13,
   "id": "01e4e969",
   "metadata": {
    "execution": {
     "iopub.execute_input": "2022-07-25T20:11:09.058268Z",
     "iopub.status.busy": "2022-07-25T20:11:09.057463Z",
     "iopub.status.idle": "2022-07-25T20:11:09.077425Z",
     "shell.execute_reply": "2022-07-25T20:11:09.076776Z"
    },
    "papermill": {
     "duration": 0.061881,
     "end_time": "2022-07-25T20:11:09.077611",
     "exception": false,
     "start_time": "2022-07-25T20:11:09.015730",
     "status": "completed"
    },
    "tags": []
   },
   "outputs": [
    {
     "data": {
      "text/plain": [
       "((11982, 28, 28), (1984, 28, 28))"
      ]
     },
     "execution_count": 13,
     "metadata": {},
     "output_type": "execute_result"
    }
   ],
   "source": [
    "X_train.shape, X_test.shape"
   ]
  },
  {
   "cell_type": "markdown",
   "id": "5ccf3f85",
   "metadata": {
    "papermill": {
     "duration": 0.039038,
     "end_time": "2022-07-25T20:11:09.156162",
     "exception": false,
     "start_time": "2022-07-25T20:11:09.117124",
     "status": "completed"
    },
    "tags": []
   },
   "source": [
    "We reshape the data to flatten the image pixels into a set of features or co-variates:"
   ]
  },
  {
   "cell_type": "code",
   "execution_count": 14,
   "id": "5286a4a3",
   "metadata": {
    "execution": {
     "iopub.execute_input": "2022-07-25T20:11:09.239280Z",
     "iopub.status.busy": "2022-07-25T20:11:09.238449Z",
     "iopub.status.idle": "2022-07-25T20:11:09.259761Z",
     "shell.execute_reply": "2022-07-25T20:11:09.259075Z"
    },
    "papermill": {
     "duration": 0.065006,
     "end_time": "2022-07-25T20:11:09.259929",
     "exception": false,
     "start_time": "2022-07-25T20:11:09.194923",
     "status": "completed"
    },
    "tags": []
   },
   "outputs": [
    {
     "data": {
      "text/plain": [
       "((11982, 784), (1984, 784))"
      ]
     },
     "execution_count": 14,
     "metadata": {},
     "output_type": "execute_result"
    }
   ],
   "source": [
    "X_train = X_train.reshape(X_train.shape[0], -1)\n",
    "X_test = X_test.reshape(X_test.shape[0], -1)\n",
    "X_train.shape, X_test.shape"
   ]
  },
  {
   "cell_type": "code",
   "execution_count": 15,
   "id": "73c5f88a",
   "metadata": {
    "execution": {
     "iopub.execute_input": "2022-07-25T20:11:09.342092Z",
     "iopub.status.busy": "2022-07-25T20:11:09.341214Z",
     "iopub.status.idle": "2022-07-25T20:11:09.374466Z",
     "shell.execute_reply": "2022-07-25T20:11:09.372847Z"
    },
    "papermill": {
     "duration": 0.076162,
     "end_time": "2022-07-25T20:11:09.374627",
     "exception": false,
     "start_time": "2022-07-25T20:11:09.298465",
     "status": "completed"
    },
    "tags": []
   },
   "outputs": [],
   "source": [
    "#Impoting functions from 'Kudzu'\n",
    "from kudzu.model import Model\n",
    "from kudzu.train import Learner\n",
    "from kudzu.optim import GD\n",
    "from kudzu.data import Data, Sampler,Dataloader\n",
    "\n",
    "from kudzu.callbacks import AccCallback\n",
    "from kudzu.callbacks import ClfCallback\n",
    "\n",
    "from kudzu.loss import MSE\n",
    "\n",
    "from kudzu.layer import Sigmoid,Relu\n",
    "from kudzu.layer import Affine"
   ]
  },
  {
   "cell_type": "markdown",
   "id": "bc01172a",
   "metadata": {
    "papermill": {
     "duration": 0.038872,
     "end_time": "2022-07-25T20:11:09.451864",
     "exception": false,
     "start_time": "2022-07-25T20:11:09.412992",
     "status": "completed"
    },
    "tags": []
   },
   "source": [
    "### Let us create a `Config` class, to store important parameters. \n",
    "This class essentially plays the role of a dictionary."
   ]
  },
  {
   "cell_type": "code",
   "execution_count": 16,
   "id": "978281aa",
   "metadata": {
    "execution": {
     "iopub.execute_input": "2022-07-25T20:11:09.536479Z",
     "iopub.status.busy": "2022-07-25T20:11:09.534475Z",
     "iopub.status.idle": "2022-07-25T20:11:09.554165Z",
     "shell.execute_reply": "2022-07-25T20:11:09.553535Z"
    },
    "papermill": {
     "duration": 0.06308,
     "end_time": "2022-07-25T20:11:09.554328",
     "exception": false,
     "start_time": "2022-07-25T20:11:09.491248",
     "status": "completed"
    },
    "tags": []
   },
   "outputs": [],
   "source": [
    "class Config:\n",
    "    pass\n",
    "config = Config()\n",
    "config.lr = 0.001\n",
    "config.num_epochs = 250\n",
    "config.bs = 50"
   ]
  },
  {
   "cell_type": "markdown",
   "id": "1385fa59",
   "metadata": {
    "papermill": {
     "duration": 0.037653,
     "end_time": "2022-07-25T20:11:09.635370",
     "exception": false,
     "start_time": "2022-07-25T20:11:09.597717",
     "status": "completed"
    },
    "tags": []
   },
   "source": [
    "### Running Models with the Training data\n",
    "Details about the network layers:\n",
    "- A first affine layer has 784 inputs and does 100 affine transforms. These are followed by a Relu\n",
    "- A second affine layer has 100 inputs from the 100 activations of the past layer, and does 100 affine transforms. These are followed by a Relu\n",
    "- A third affine layer has 100 activations and does 2 affine transformations to create an embedding for visualization. There is no non-linearity here.\n",
    "- A final \"logistic regression\" which has an affine transform from 2 inputs to 1 output, which is squeezed through a sigmoid.\n"
   ]
  },
  {
   "cell_type": "code",
   "execution_count": 17,
   "id": "2b9c66db",
   "metadata": {
    "execution": {
     "iopub.execute_input": "2022-07-25T20:11:09.719515Z",
     "iopub.status.busy": "2022-07-25T20:11:09.718547Z",
     "iopub.status.idle": "2022-07-25T20:11:09.737325Z",
     "shell.execute_reply": "2022-07-25T20:11:09.736666Z"
    },
    "papermill": {
     "duration": 0.064634,
     "end_time": "2022-07-25T20:11:09.737480",
     "exception": false,
     "start_time": "2022-07-25T20:11:09.672846",
     "status": "completed"
    },
    "tags": []
   },
   "outputs": [],
   "source": [
    "data = Data(X_train, y_train.reshape(-1,1))\n",
    "sampler = Sampler(data, config.bs, shuffle=True)\n",
    "\n",
    "dl = Dataloader(data, sampler)\n",
    "\n",
    "opt = GD(config.lr)\n",
    "loss = MSE()"
   ]
  },
  {
   "cell_type": "code",
   "execution_count": 18,
   "id": "b275e4c2",
   "metadata": {
    "execution": {
     "iopub.execute_input": "2022-07-25T20:11:09.817075Z",
     "iopub.status.busy": "2022-07-25T20:11:09.816295Z",
     "iopub.status.idle": "2022-07-25T20:11:09.834926Z",
     "shell.execute_reply": "2022-07-25T20:11:09.835532Z"
    },
    "papermill": {
     "duration": 0.062563,
     "end_time": "2022-07-25T20:11:09.835696",
     "exception": false,
     "start_time": "2022-07-25T20:11:09.773133",
     "status": "completed"
    },
    "tags": []
   },
   "outputs": [],
   "source": [
    "training_data_x = X_train\n",
    "testing_data_x = X_test\n",
    "training_data_y = y_train.reshape(-1,1)\n",
    "testing_data_y = y_test.reshape(-1,1)"
   ]
  },
  {
   "cell_type": "code",
   "execution_count": 19,
   "id": "76951160",
   "metadata": {
    "execution": {
     "iopub.execute_input": "2022-07-25T20:11:09.918680Z",
     "iopub.status.busy": "2022-07-25T20:11:09.917708Z",
     "iopub.status.idle": "2022-07-25T20:11:09.941342Z",
     "shell.execute_reply": "2022-07-25T20:11:09.942000Z"
    },
    "papermill": {
     "duration": 0.070167,
     "end_time": "2022-07-25T20:11:09.942207",
     "exception": false,
     "start_time": "2022-07-25T20:11:09.872040",
     "status": "completed"
    },
    "tags": []
   },
   "outputs": [
    {
     "name": "stdout",
     "output_type": "stream",
     "text": [
      "xavier\n",
      "xavier\n",
      "xavier\n",
      "xavier\n",
      "xavier\n"
     ]
    }
   ],
   "source": [
    "layers = [Affine(\"first\", 784, 100), Relu(\"first\"), Affine(\"second\", 100, 100), Relu(\"second\"), Affine(\"third\", 100, 2), Affine(\"last\", 2, 1), Sigmoid(\"last\")]\n",
    "model_nn = Model(layers)\n",
    "model_lr = Model([Affine(\"logits\", 784, 1), Sigmoid(\"sigmoid\")])"
   ]
  },
  {
   "cell_type": "code",
   "execution_count": 20,
   "id": "6eede77a",
   "metadata": {
    "execution": {
     "iopub.execute_input": "2022-07-25T20:11:10.029563Z",
     "iopub.status.busy": "2022-07-25T20:11:10.028566Z",
     "iopub.status.idle": "2022-07-25T20:11:10.050794Z",
     "shell.execute_reply": "2022-07-25T20:11:10.050067Z"
    },
    "papermill": {
     "duration": 0.067695,
     "end_time": "2022-07-25T20:11:10.051037",
     "exception": false,
     "start_time": "2022-07-25T20:11:09.983342",
     "status": "completed"
    },
    "tags": []
   },
   "outputs": [],
   "source": [
    "nn_learner = Learner(loss, model_nn, opt, config.num_epochs)\n",
    "acc_nn = ClfCallback(nn_learner, config.bs, training_data_x , testing_data_x, training_data_y, testing_data_y)\n",
    "nn_learner.set_callbacks([acc_nn])"
   ]
  },
  {
   "cell_type": "code",
   "execution_count": 21,
   "id": "877b6cc7",
   "metadata": {
    "execution": {
     "iopub.execute_input": "2022-07-25T20:11:10.134006Z",
     "iopub.status.busy": "2022-07-25T20:11:10.133260Z",
     "iopub.status.idle": "2022-07-25T20:11:10.150096Z",
     "shell.execute_reply": "2022-07-25T20:11:10.150658Z"
    },
    "papermill": {
     "duration": 0.060904,
     "end_time": "2022-07-25T20:11:10.150828",
     "exception": false,
     "start_time": "2022-07-25T20:11:10.089924",
     "status": "completed"
    },
    "tags": []
   },
   "outputs": [],
   "source": [
    "lr_learner = Learner(loss, model_lr, opt, config.num_epochs)\n",
    "acc_lr = ClfCallback(lr_learner, config.bs, training_data_x , testing_data_x, training_data_y, testing_data_y)\n",
    "lr_learner.set_callbacks([acc_lr])"
   ]
  },
  {
   "cell_type": "code",
   "execution_count": 22,
   "id": "d9b133c3",
   "metadata": {
    "execution": {
     "iopub.execute_input": "2022-07-25T20:11:10.240154Z",
     "iopub.status.busy": "2022-07-25T20:11:10.239401Z",
     "iopub.status.idle": "2022-07-25T20:13:45.025234Z",
     "shell.execute_reply": "2022-07-25T20:13:45.024657Z"
    },
    "papermill": {
     "duration": 154.836579,
     "end_time": "2022-07-25T20:13:45.025399",
     "exception": false,
     "start_time": "2022-07-25T20:11:10.188820",
     "status": "completed"
    },
    "tags": []
   },
   "outputs": [
    {
     "name": "stdout",
     "output_type": "stream",
     "text": [
      "Epoch 0, Loss 0.2442\n",
      "Training Accuracy: 0.6947, Testing Accuracy: 0.7218\n",
      "\n"
     ]
    },
    {
     "name": "stdout",
     "output_type": "stream",
     "text": [
      "Epoch 10, Loss 0.0755\n",
      "Training Accuracy: 0.9252, Testing Accuracy: 0.9340\n",
      "\n"
     ]
    },
    {
     "name": "stdout",
     "output_type": "stream",
     "text": [
      "Epoch 20, Loss 0.0505\n",
      "Training Accuracy: 0.9450, Testing Accuracy: 0.9567\n",
      "\n"
     ]
    },
    {
     "name": "stdout",
     "output_type": "stream",
     "text": [
      "Epoch 30, Loss 0.0414\n",
      "Training Accuracy: 0.9530, Testing Accuracy: 0.9637\n",
      "\n"
     ]
    },
    {
     "name": "stdout",
     "output_type": "stream",
     "text": [
      "Epoch 40, Loss 0.0366\n",
      "Training Accuracy: 0.9581, Testing Accuracy: 0.9667\n",
      "\n"
     ]
    },
    {
     "name": "stdout",
     "output_type": "stream",
     "text": [
      "Epoch 50, Loss 0.0335\n",
      "Training Accuracy: 0.9610, Testing Accuracy: 0.9677\n",
      "\n"
     ]
    },
    {
     "name": "stdout",
     "output_type": "stream",
     "text": [
      "Epoch 60, Loss 0.0312\n",
      "Training Accuracy: 0.9635, Testing Accuracy: 0.9688\n",
      "\n"
     ]
    },
    {
     "name": "stdout",
     "output_type": "stream",
     "text": [
      "Epoch 70, Loss 0.0295\n",
      "Training Accuracy: 0.9662, Testing Accuracy: 0.9688\n",
      "\n"
     ]
    },
    {
     "name": "stdout",
     "output_type": "stream",
     "text": [
      "Epoch 80, Loss 0.0281\n",
      "Training Accuracy: 0.9674, Testing Accuracy: 0.9688\n",
      "\n"
     ]
    },
    {
     "name": "stdout",
     "output_type": "stream",
     "text": [
      "Epoch 90, Loss 0.027\n",
      "Training Accuracy: 0.9690, Testing Accuracy: 0.9682\n",
      "\n"
     ]
    },
    {
     "name": "stdout",
     "output_type": "stream",
     "text": [
      "Epoch 100, Loss 0.026\n",
      "Training Accuracy: 0.9703, Testing Accuracy: 0.9698\n",
      "\n"
     ]
    },
    {
     "name": "stdout",
     "output_type": "stream",
     "text": [
      "Epoch 110, Loss 0.0251\n",
      "Training Accuracy: 0.9712, Testing Accuracy: 0.9693\n",
      "\n"
     ]
    },
    {
     "name": "stdout",
     "output_type": "stream",
     "text": [
      "Epoch 120, Loss 0.0243\n",
      "Training Accuracy: 0.9718, Testing Accuracy: 0.9698\n",
      "\n"
     ]
    },
    {
     "name": "stdout",
     "output_type": "stream",
     "text": [
      "Epoch 130, Loss 0.0236\n",
      "Training Accuracy: 0.9726, Testing Accuracy: 0.9698\n",
      "\n"
     ]
    },
    {
     "name": "stdout",
     "output_type": "stream",
     "text": [
      "Epoch 140, Loss 0.023\n",
      "Training Accuracy: 0.9735, Testing Accuracy: 0.9708\n",
      "\n"
     ]
    },
    {
     "name": "stdout",
     "output_type": "stream",
     "text": [
      "Epoch 150, Loss 0.0224\n",
      "Training Accuracy: 0.9741, Testing Accuracy: 0.9713\n",
      "\n"
     ]
    },
    {
     "name": "stdout",
     "output_type": "stream",
     "text": [
      "Epoch 160, Loss 0.0218\n",
      "Training Accuracy: 0.9745, Testing Accuracy: 0.9713\n",
      "\n"
     ]
    },
    {
     "name": "stdout",
     "output_type": "stream",
     "text": [
      "Epoch 170, Loss 0.0213\n",
      "Training Accuracy: 0.9753, Testing Accuracy: 0.9723\n",
      "\n"
     ]
    },
    {
     "name": "stdout",
     "output_type": "stream",
     "text": [
      "Epoch 180, Loss 0.0208\n",
      "Training Accuracy: 0.9759, Testing Accuracy: 0.9723\n",
      "\n"
     ]
    },
    {
     "name": "stdout",
     "output_type": "stream",
     "text": [
      "Epoch 190, Loss 0.0203\n",
      "Training Accuracy: 0.9770, Testing Accuracy: 0.9723\n",
      "\n"
     ]
    },
    {
     "name": "stdout",
     "output_type": "stream",
     "text": [
      "Epoch 200, Loss 0.0199\n",
      "Training Accuracy: 0.9775, Testing Accuracy: 0.9733\n",
      "\n"
     ]
    },
    {
     "name": "stdout",
     "output_type": "stream",
     "text": [
      "Epoch 210, Loss 0.0194\n",
      "Training Accuracy: 0.9781, Testing Accuracy: 0.9738\n",
      "\n"
     ]
    },
    {
     "name": "stdout",
     "output_type": "stream",
     "text": [
      "Epoch 220, Loss 0.019\n",
      "Training Accuracy: 0.9789, Testing Accuracy: 0.9738\n",
      "\n"
     ]
    },
    {
     "name": "stdout",
     "output_type": "stream",
     "text": [
      "Epoch 230, Loss 0.0186\n",
      "Training Accuracy: 0.9793, Testing Accuracy: 0.9738\n",
      "\n"
     ]
    },
    {
     "name": "stdout",
     "output_type": "stream",
     "text": [
      "Epoch 240, Loss 0.0182\n",
      "Training Accuracy: 0.9798, Testing Accuracy: 0.9748\n",
      "\n"
     ]
    },
    {
     "data": {
      "text/plain": [
       "0.003479173490966343"
      ]
     },
     "execution_count": 22,
     "metadata": {},
     "output_type": "execute_result"
    }
   ],
   "source": [
    "nn_learner.train_loop(dl)"
   ]
  },
  {
   "cell_type": "code",
   "execution_count": 23,
   "id": "e0163366",
   "metadata": {
    "execution": {
     "iopub.execute_input": "2022-07-25T20:13:45.133578Z",
     "iopub.status.busy": "2022-07-25T20:13:45.132779Z",
     "iopub.status.idle": "2022-07-25T20:14:07.108445Z",
     "shell.execute_reply": "2022-07-25T20:14:07.107835Z"
    },
    "papermill": {
     "duration": 22.035541,
     "end_time": "2022-07-25T20:14:07.108603",
     "exception": false,
     "start_time": "2022-07-25T20:13:45.073062",
     "status": "completed"
    },
    "tags": []
   },
   "outputs": [
    {
     "name": "stdout",
     "output_type": "stream",
     "text": [
      "Epoch 0, Loss 0.2076\n",
      "Training Accuracy: 0.7525, Testing Accuracy: 0.7611\n",
      "\n"
     ]
    },
    {
     "name": "stdout",
     "output_type": "stream",
     "text": [
      "Epoch 10, Loss 0.1018\n",
      "Training Accuracy: 0.9080, Testing Accuracy: 0.9178\n",
      "\n"
     ]
    },
    {
     "name": "stdout",
     "output_type": "stream",
     "text": [
      "Epoch 20, Loss 0.0781\n",
      "Training Accuracy: 0.9297, Testing Accuracy: 0.9400\n",
      "\n"
     ]
    },
    {
     "name": "stdout",
     "output_type": "stream",
     "text": [
      "Epoch 30, Loss 0.067\n",
      "Training Accuracy: 0.9392, Testing Accuracy: 0.9491\n",
      "\n"
     ]
    },
    {
     "name": "stdout",
     "output_type": "stream",
     "text": [
      "Epoch 40, Loss 0.0604\n",
      "Training Accuracy: 0.9440, Testing Accuracy: 0.9541\n",
      "\n"
     ]
    },
    {
     "name": "stdout",
     "output_type": "stream",
     "text": [
      "Epoch 50, Loss 0.056\n",
      "Training Accuracy: 0.9466, Testing Accuracy: 0.9561\n",
      "\n"
     ]
    },
    {
     "name": "stdout",
     "output_type": "stream",
     "text": [
      "Epoch 60, Loss 0.0527\n",
      "Training Accuracy: 0.9488, Testing Accuracy: 0.9567\n",
      "\n"
     ]
    },
    {
     "name": "stdout",
     "output_type": "stream",
     "text": [
      "Epoch 70, Loss 0.0503\n",
      "Training Accuracy: 0.9498, Testing Accuracy: 0.9602\n",
      "\n"
     ]
    },
    {
     "name": "stdout",
     "output_type": "stream",
     "text": [
      "Epoch 80, Loss 0.0483\n",
      "Training Accuracy: 0.9515, Testing Accuracy: 0.9592\n",
      "\n"
     ]
    },
    {
     "name": "stdout",
     "output_type": "stream",
     "text": [
      "Epoch 90, Loss 0.0467\n",
      "Training Accuracy: 0.9529, Testing Accuracy: 0.9597\n",
      "\n"
     ]
    },
    {
     "name": "stdout",
     "output_type": "stream",
     "text": [
      "Epoch 100, Loss 0.0453\n",
      "Training Accuracy: 0.9538, Testing Accuracy: 0.9607\n",
      "\n"
     ]
    },
    {
     "name": "stdout",
     "output_type": "stream",
     "text": [
      "Epoch 110, Loss 0.0442\n",
      "Training Accuracy: 0.9548, Testing Accuracy: 0.9607\n",
      "\n"
     ]
    },
    {
     "name": "stdout",
     "output_type": "stream",
     "text": [
      "Epoch 120, Loss 0.0432\n",
      "Training Accuracy: 0.9558, Testing Accuracy: 0.9632\n",
      "\n"
     ]
    },
    {
     "name": "stdout",
     "output_type": "stream",
     "text": [
      "Epoch 130, Loss 0.0423\n",
      "Training Accuracy: 0.9567, Testing Accuracy: 0.9642\n",
      "\n"
     ]
    },
    {
     "name": "stdout",
     "output_type": "stream",
     "text": [
      "Epoch 140, Loss 0.0415\n",
      "Training Accuracy: 0.9571, Testing Accuracy: 0.9647\n",
      "\n"
     ]
    },
    {
     "name": "stdout",
     "output_type": "stream",
     "text": [
      "Epoch 150, Loss 0.0408\n",
      "Training Accuracy: 0.9575, Testing Accuracy: 0.9647\n",
      "\n"
     ]
    },
    {
     "name": "stdout",
     "output_type": "stream",
     "text": [
      "Epoch 160, Loss 0.0401\n",
      "Training Accuracy: 0.9583, Testing Accuracy: 0.9652\n",
      "\n"
     ]
    },
    {
     "name": "stdout",
     "output_type": "stream",
     "text": [
      "Epoch 170, Loss 0.0395\n",
      "Training Accuracy: 0.9589, Testing Accuracy: 0.9657\n",
      "\n"
     ]
    },
    {
     "name": "stdout",
     "output_type": "stream",
     "text": [
      "Epoch 180, Loss 0.039\n",
      "Training Accuracy: 0.9597, Testing Accuracy: 0.9657\n",
      "\n"
     ]
    },
    {
     "name": "stdout",
     "output_type": "stream",
     "text": [
      "Epoch 190, Loss 0.0385\n",
      "Training Accuracy: 0.9599, Testing Accuracy: 0.9657\n",
      "\n"
     ]
    },
    {
     "name": "stdout",
     "output_type": "stream",
     "text": [
      "Epoch 200, Loss 0.0381\n",
      "Training Accuracy: 0.9604, Testing Accuracy: 0.9657\n",
      "\n"
     ]
    },
    {
     "name": "stdout",
     "output_type": "stream",
     "text": [
      "Epoch 210, Loss 0.0376\n",
      "Training Accuracy: 0.9606, Testing Accuracy: 0.9657\n",
      "\n"
     ]
    },
    {
     "name": "stdout",
     "output_type": "stream",
     "text": [
      "Epoch 220, Loss 0.0372\n",
      "Training Accuracy: 0.9609, Testing Accuracy: 0.9662\n",
      "\n"
     ]
    },
    {
     "name": "stdout",
     "output_type": "stream",
     "text": [
      "Epoch 230, Loss 0.0369\n",
      "Training Accuracy: 0.9608, Testing Accuracy: 0.9662\n",
      "\n"
     ]
    },
    {
     "name": "stdout",
     "output_type": "stream",
     "text": [
      "Epoch 240, Loss 0.0365\n",
      "Training Accuracy: 0.9610, Testing Accuracy: 0.9662\n",
      "\n"
     ]
    },
    {
     "data": {
      "text/plain": [
       "0.05715004698375665"
      ]
     },
     "execution_count": 23,
     "metadata": {},
     "output_type": "execute_result"
    }
   ],
   "source": [
    "lr_learner.train_loop(dl)"
   ]
  },
  {
   "cell_type": "code",
   "execution_count": 24,
   "id": "ca410940",
   "metadata": {
    "execution": {
     "iopub.execute_input": "2022-07-25T20:14:07.237475Z",
     "iopub.status.busy": "2022-07-25T20:14:07.236657Z",
     "iopub.status.idle": "2022-07-25T20:14:07.595464Z",
     "shell.execute_reply": "2022-07-25T20:14:07.596453Z"
    },
    "papermill": {
     "duration": 0.427253,
     "end_time": "2022-07-25T20:14:07.596635",
     "exception": false,
     "start_time": "2022-07-25T20:14:07.169382",
     "status": "completed"
    },
    "tags": []
   },
   "outputs": [
    {
     "data": {
      "text/plain": [
       "<matplotlib.legend.Legend at 0x7fc9479caba8>"
      ]
     },
     "execution_count": 24,
     "metadata": {},
     "output_type": "execute_result"
    },
    {
     "data": {
      "image/png": "[encoded data removed]",
      "text/plain": [
       "<Figure size 1080x720 with 1 Axes>"
      ]
     },
     "metadata": {
      "needs_background": "light"
     },
     "output_type": "display_data"
    }
   ],
   "source": [
    "#comparing the results of NN and LR\n",
    "plt.figure(figsize=(15,10))\n",
    "\n",
    "# Neural Network plots\n",
    "plt.plot(acc_nn.accuracies, 'r-', label = \"Training Accuracies - NN\")\n",
    "plt.plot(acc_nn.test_accuracies, 'g-', label = \"Testing Accuracies - NN\")\n",
    "\n",
    "# Logistic Regression plots\n",
    "plt.plot(acc_lr.accuracies, 'k-', label = \"Training Accuracies - LR\")\n",
    "plt.plot(acc_lr.test_accuracies, 'b-', label = \"Testing Accuracies - LR\")\n",
    "plt.legend()"
   ]
  },
  {
   "cell_type": "markdown",
   "id": "80dfb35c",
   "metadata": {
    "papermill": {
     "duration": 0.05459,
     "end_time": "2022-07-25T20:14:07.706932",
     "exception": false,
     "start_time": "2022-07-25T20:14:07.652342",
     "status": "completed"
    },
    "tags": []
   },
   "source": [
    "#### Plotting the outputs of this layer of the NN.\n"
   ]
  },
  {
   "cell_type": "code",
   "execution_count": 25,
   "id": "45eb2ff5",
   "metadata": {
    "execution": {
     "iopub.execute_input": "2022-07-25T20:14:07.822207Z",
     "iopub.status.busy": "2022-07-25T20:14:07.821467Z",
     "iopub.status.idle": "2022-07-25T20:14:07.856290Z",
     "shell.execute_reply": "2022-07-25T20:14:07.855098Z"
    },
    "papermill": {
     "duration": 0.095684,
     "end_time": "2022-07-25T20:14:07.856449",
     "exception": false,
     "start_time": "2022-07-25T20:14:07.760765",
     "status": "completed"
    },
    "tags": []
   },
   "outputs": [],
   "source": [
    "new_model = Model(layers[:-2])\n",
    "testing_plot = new_model(testing_data_x)"
   ]
  },
  {
   "cell_type": "code",
   "execution_count": 26,
   "id": "4c0a5485",
   "metadata": {
    "execution": {
     "iopub.execute_input": "2022-07-25T20:14:07.982724Z",
     "iopub.status.busy": "2022-07-25T20:14:07.981936Z",
     "iopub.status.idle": "2022-07-25T20:14:08.297789Z",
     "shell.execute_reply": "2022-07-25T20:14:08.298338Z"
    },
    "papermill": {
     "duration": 0.385123,
     "end_time": "2022-07-25T20:14:08.298621",
     "exception": false,
     "start_time": "2022-07-25T20:14:07.913498",
     "status": "completed"
    },
    "tags": []
   },
   "outputs": [
    {
     "data": {
      "text/plain": [
       "Text(0.5, 1.0, 'Outputs')"
      ]
     },
     "execution_count": 26,
     "metadata": {},
     "output_type": "execute_result"
    },
    {
     "data": {
      "image/png": "[encoded data removed]",
      "text/plain": [
       "<Figure size 576x504 with 1 Axes>"
      ]
     },
     "metadata": {
      "needs_background": "light"
     },
     "output_type": "display_data"
    }
   ],
   "source": [
    "# Plotting the scatter plot of points and color coding by class\n",
    "plt.figure(figsize=(8,7))\n",
    "plt.scatter(testing_plot[:,0], testing_plot[:,1], alpha = 0.1, c = y_test.ravel());\n",
    "plt.title('Outputs')"
   ]
  },
  {
   "cell_type": "markdown",
   "id": "a74fcf8f",
   "metadata": {
    "papermill": {
     "duration": 0.063042,
     "end_time": "2022-07-25T20:14:08.445686",
     "exception": false,
     "start_time": "2022-07-25T20:14:08.382644",
     "status": "completed"
    },
    "tags": []
   },
   "source": [
    "Probability contours"
   ]
  },
  {
   "cell_type": "code",
   "execution_count": 27,
   "id": "d0afc8e3",
   "metadata": {
    "execution": {
     "iopub.execute_input": "2022-07-25T20:14:08.572096Z",
     "iopub.status.busy": "2022-07-25T20:14:08.571160Z",
     "iopub.status.idle": "2022-07-25T20:14:08.587439Z",
     "shell.execute_reply": "2022-07-25T20:14:08.586752Z"
    },
    "papermill": {
     "duration": 0.082825,
     "end_time": "2022-07-25T20:14:08.587606",
     "exception": false,
     "start_time": "2022-07-25T20:14:08.504781",
     "status": "completed"
    },
    "tags": []
   },
   "outputs": [],
   "source": [
    "model_prob = Model(layers[-2:]) "
   ]
  },
  {
   "cell_type": "code",
   "execution_count": 28,
   "id": "9b96e238",
   "metadata": {
    "execution": {
     "iopub.execute_input": "2022-07-25T20:14:08.710685Z",
     "iopub.status.busy": "2022-07-25T20:14:08.709955Z",
     "iopub.status.idle": "2022-07-25T20:14:08.728071Z",
     "shell.execute_reply": "2022-07-25T20:14:08.728610Z"
    },
    "papermill": {
     "duration": 0.08202,
     "end_time": "2022-07-25T20:14:08.728872",
     "exception": false,
     "start_time": "2022-07-25T20:14:08.646852",
     "status": "completed"
    },
    "tags": []
   },
   "outputs": [],
   "source": [
    "#creating the x and y ranges according to the above generated plot.\n",
    "x_range = np.linspace(-4, 1, 100) \n",
    "y_range = np.linspace(-6, 6, 100) \n",
    "x_grid, y_grid = np.meshgrid(x_range, y_range) # x_grid and y_grig are of size 100 X 100\n",
    "\n",
    "# converting x_grid and y_grid to continuous arrays\n",
    "x_gridflat = np.ravel(x_grid)\n",
    "y_gridflat = np.ravel(y_grid)\n",
    "\n",
    "# The last layer of the current model takes two columns as input. Hence transpose of np.vstack() is required.\n",
    "X = np.vstack((x_gridflat, y_gridflat)).T\n",
    "\n",
    "prob_contour = model_prob(X).reshape(100,100) "
   ]
  },
  {
   "cell_type": "code",
   "execution_count": 29,
   "id": "da72499a",
   "metadata": {
    "execution": {
     "iopub.execute_input": "2022-07-25T20:14:08.854360Z",
     "iopub.status.busy": "2022-07-25T20:14:08.853637Z",
     "iopub.status.idle": "2022-07-25T20:14:09.214563Z",
     "shell.execute_reply": "2022-07-25T20:14:09.215218Z"
    },
    "papermill": {
     "duration": 0.430833,
     "end_time": "2022-07-25T20:14:09.215490",
     "exception": false,
     "start_time": "2022-07-25T20:14:08.784657",
     "status": "completed"
    },
    "tags": []
   },
   "outputs": [
    {
     "data": {
      "image/png": "[encoded data removed]",
      "text/plain": [
       "<Figure size 720x648 with 1 Axes>"
      ]
     },
     "metadata": {
      "needs_background": "light"
     },
     "output_type": "display_data"
    }
   ],
   "source": [
    "plt.figure(figsize=(10,9))\n",
    "plt.scatter(testing_plot[:,0], testing_plot[:,1], alpha = 0.1, c = y_test.ravel())\n",
    "contours = plt.contour(x_grid,y_grid,prob_contour)\n",
    "plt.title('Probability Contours')\n",
    "plt.clabel(contours, inline = True );"
   ]
  },
  {
   "cell_type": "code",
   "execution_count": null,
   "id": "e81b4ac7",
   "metadata": {
    "papermill": {
     "duration": 0.059499,
     "end_time": "2022-07-25T20:14:09.339538",
     "exception": false,
     "start_time": "2022-07-25T20:14:09.280039",
     "status": "completed"
    },
    "tags": []
   },
   "outputs": [],
   "source": []
  }
 ],
 "metadata": {
  "kernelspec": {
   "display_name": "Python 3",
   "language": "python",
   "name": "python3"
  },
  "language_info": {
   "codemirror_mode": {
    "name": "ipython",
    "version": 3
   },
   "file_extension": ".py",
   "mimetype": "text/x-python",
   "name": "python",
   "nbconvert_exporter": "python",
   "pygments_lexer": "ipython3",
   "version": "3.6.15"
  },
  "papermill": {
   "default_parameters": {},
   "duration": 188.319034,
   "end_time": "2022-07-25T20:14:09.819866",
   "environment_variables": {},
   "exception": null,
   "input_path": "2020-08-11-part2.ipynb",
   "output_path": "2020-08-11-part2.ipynb",
   "parameters": {},
   "start_time": "2022-07-25T20:11:01.500832",
   "version": "2.3.3"
  }
 },
 "nbformat": 4,
 "nbformat_minor": 5
}