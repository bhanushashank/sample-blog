{
 "cells": [
  {
   "cell_type": "markdown",
   "id": "98380cd3",
   "metadata": {
    "papermill": {
     "duration": 0.024793,
     "end_time": "2021-08-31T00:19:51.135163",
     "exception": false,
     "start_time": "2021-08-31T00:19:51.110370",
     "status": "completed"
    },
    "tags": []
   },
   "source": [
    "# Distinguish Your Own Digits (DYOD)"
   ]
  },
  {
   "cell_type": "markdown",
   "id": "ef31240d",
   "metadata": {
    "papermill": {
     "duration": 0.020962,
     "end_time": "2021-08-31T00:19:51.177795",
     "exception": false,
     "start_time": "2021-08-31T00:19:51.156833",
     "status": "completed"
    },
    "tags": []
   },
   "source": [
    "You are going to write a classifier that distinguishes between the number 3 and number 8."
   ]
  },
  {
   "cell_type": "code",
   "execution_count": 1,
   "id": "b15c8646",
   "metadata": {
    "execution": {
     "iopub.execute_input": "2021-08-31T00:19:51.229495Z",
     "iopub.status.busy": "2021-08-31T00:19:51.229025Z",
     "iopub.status.idle": "2021-08-31T00:19:51.240057Z",
     "shell.execute_reply": "2021-08-31T00:19:51.239576Z"
    },
    "papermill": {
     "duration": 0.041639,
     "end_time": "2021-08-31T00:19:51.240164",
     "exception": false,
     "start_time": "2021-08-31T00:19:51.198525",
     "status": "completed"
    },
    "tags": []
   },
   "outputs": [],
   "source": [
    "%load_ext autoreload\n",
    "%autoreload 2"
   ]
  },
  {
   "cell_type": "code",
   "execution_count": 2,
   "id": "22ef38dc",
   "metadata": {
    "execution": {
     "iopub.execute_input": "2021-08-31T00:19:51.296453Z",
     "iopub.status.busy": "2021-08-31T00:19:51.290395Z",
     "iopub.status.idle": "2021-08-31T00:19:51.747035Z",
     "shell.execute_reply": "2021-08-31T00:19:51.747528Z"
    },
    "papermill": {
     "duration": 0.486621,
     "end_time": "2021-08-31T00:19:51.747728",
     "exception": false,
     "start_time": "2021-08-31T00:19:51.261107",
     "status": "completed"
    },
    "tags": []
   },
   "outputs": [],
   "source": [
    "%matplotlib inline\n",
    "import numpy as np\n",
    "import matplotlib.pyplot as plt\n",
    "import pandas as pd"
   ]
  },
  {
   "cell_type": "markdown",
   "id": "ba036198",
   "metadata": {
    "papermill": {
     "duration": 0.026014,
     "end_time": "2021-08-31T00:19:51.798670",
     "exception": false,
     "start_time": "2021-08-31T00:19:51.772656",
     "status": "completed"
    },
    "tags": []
   },
   "source": [
    "From the command line run `pip install mnist`. This is a library that will help you bring down the mnist dataset. If you run this from a notebook, you need to put  `!pip install mnist` in a cell by itself."
   ]
  },
  {
   "cell_type": "code",
   "execution_count": 3,
   "id": "bb6ad8a1",
   "metadata": {
    "execution": {
     "iopub.execute_input": "2021-08-31T00:19:51.851102Z",
     "iopub.status.busy": "2021-08-31T00:19:51.850576Z",
     "iopub.status.idle": "2021-08-31T00:19:54.305565Z",
     "shell.execute_reply": "2021-08-31T00:19:54.306048Z"
    },
    "papermill": {
     "duration": 2.48341,
     "end_time": "2021-08-31T00:19:54.306180",
     "exception": false,
     "start_time": "2021-08-31T00:19:51.822770",
     "status": "completed"
    },
    "tags": []
   },
   "outputs": [
    {
     "name": "stdout",
     "output_type": "stream",
     "text": [
      "Collecting mnist\r\n"
     ]
    },
    {
     "name": "stdout",
     "output_type": "stream",
     "text": [
      "  Downloading mnist-0.2.2-py2.py3-none-any.whl (3.5 kB)\r\n",
      "Requirement already satisfied: numpy in /opt/hostedtoolcache/Python/3.6.14/x64/lib/python3.6/site-packages (from mnist) (1.19.5)\r\n"
     ]
    },
    {
     "name": "stdout",
     "output_type": "stream",
     "text": [
      "Installing collected packages: mnist\r\n"
     ]
    },
    {
     "name": "stdout",
     "output_type": "stream",
     "text": [
      "Successfully installed mnist-0.2.2\r\n"
     ]
    }
   ],
   "source": [
    "!pip install mnist"
   ]
  },
  {
   "cell_type": "markdown",
   "id": "69df9c9a",
   "metadata": {
    "papermill": {
     "duration": 0.022244,
     "end_time": "2021-08-31T00:19:54.351022",
     "exception": false,
     "start_time": "2021-08-31T00:19:54.328778",
     "status": "completed"
    },
    "tags": []
   },
   "source": [
    "## Preparing the Data"
   ]
  },
  {
   "cell_type": "code",
   "execution_count": 4,
   "id": "7f69d806",
   "metadata": {
    "execution": {
     "iopub.execute_input": "2021-08-31T00:19:54.402725Z",
     "iopub.status.busy": "2021-08-31T00:19:54.402166Z",
     "iopub.status.idle": "2021-08-31T00:19:54.413300Z",
     "shell.execute_reply": "2021-08-31T00:19:54.412877Z"
    },
    "papermill": {
     "duration": 0.040294,
     "end_time": "2021-08-31T00:19:54.413416",
     "exception": false,
     "start_time": "2021-08-31T00:19:54.373122",
     "status": "completed"
    },
    "tags": []
   },
   "outputs": [],
   "source": [
    "import mnist"
   ]
  },
  {
   "cell_type": "code",
   "execution_count": 5,
   "id": "a411e44f",
   "metadata": {
    "execution": {
     "iopub.execute_input": "2021-08-31T00:19:54.466447Z",
     "iopub.status.busy": "2021-08-31T00:19:54.465940Z",
     "iopub.status.idle": "2021-08-31T00:19:55.071657Z",
     "shell.execute_reply": "2021-08-31T00:19:55.071083Z"
    },
    "papermill": {
     "duration": 0.633429,
     "end_time": "2021-08-31T00:19:55.071814",
     "exception": false,
     "start_time": "2021-08-31T00:19:54.438385",
     "status": "completed"
    },
    "tags": []
   },
   "outputs": [],
   "source": [
    "train_images = mnist.train_images()\n",
    "train_labels = mnist.train_labels()"
   ]
  },
  {
   "cell_type": "code",
   "execution_count": 6,
   "id": "dceab3a5",
   "metadata": {
    "execution": {
     "iopub.execute_input": "2021-08-31T00:19:55.126628Z",
     "iopub.status.busy": "2021-08-31T00:19:55.126111Z",
     "iopub.status.idle": "2021-08-31T00:19:55.139325Z",
     "shell.execute_reply": "2021-08-31T00:19:55.139769Z"
    },
    "papermill": {
     "duration": 0.041976,
     "end_time": "2021-08-31T00:19:55.139905",
     "exception": false,
     "start_time": "2021-08-31T00:19:55.097929",
     "status": "completed"
    },
    "tags": []
   },
   "outputs": [
    {
     "data": {
      "text/plain": [
       "((60000, 28, 28), (60000,))"
      ]
     },
     "execution_count": 6,
     "metadata": {},
     "output_type": "execute_result"
    }
   ],
   "source": [
    "train_images.shape, train_labels.shape"
   ]
  },
  {
   "cell_type": "code",
   "execution_count": 7,
   "id": "f50dc2bb",
   "metadata": {
    "execution": {
     "iopub.execute_input": "2021-08-31T00:19:55.194897Z",
     "iopub.status.busy": "2021-08-31T00:19:55.194366Z",
     "iopub.status.idle": "2021-08-31T00:19:55.404235Z",
     "shell.execute_reply": "2021-08-31T00:19:55.403736Z"
    },
    "papermill": {
     "duration": 0.239229,
     "end_time": "2021-08-31T00:19:55.404367",
     "exception": false,
     "start_time": "2021-08-31T00:19:55.165138",
     "status": "completed"
    },
    "tags": []
   },
   "outputs": [],
   "source": [
    "test_images = mnist.test_images()\n",
    "test_labels = mnist.test_labels()"
   ]
  },
  {
   "cell_type": "code",
   "execution_count": 8,
   "id": "fc38cf1b",
   "metadata": {
    "execution": {
     "iopub.execute_input": "2021-08-31T00:19:55.458931Z",
     "iopub.status.busy": "2021-08-31T00:19:55.458417Z",
     "iopub.status.idle": "2021-08-31T00:19:55.470949Z",
     "shell.execute_reply": "2021-08-31T00:19:55.470536Z"
    },
    "papermill": {
     "duration": 0.041047,
     "end_time": "2021-08-31T00:19:55.471063",
     "exception": false,
     "start_time": "2021-08-31T00:19:55.430016",
     "status": "completed"
    },
    "tags": []
   },
   "outputs": [
    {
     "data": {
      "text/plain": [
       "((10000, 28, 28), (10000,))"
      ]
     },
     "execution_count": 8,
     "metadata": {},
     "output_type": "execute_result"
    }
   ],
   "source": [
    "test_images.shape, test_labels.shape"
   ]
  },
  {
   "cell_type": "code",
   "execution_count": 9,
   "id": "f9ed8fe0",
   "metadata": {
    "execution": {
     "iopub.execute_input": "2021-08-31T00:19:55.530640Z",
     "iopub.status.busy": "2021-08-31T00:19:55.530107Z",
     "iopub.status.idle": "2021-08-31T00:19:55.668390Z",
     "shell.execute_reply": "2021-08-31T00:19:55.668812Z"
    },
    "papermill": {
     "duration": 0.172383,
     "end_time": "2021-08-31T00:19:55.668955",
     "exception": false,
     "start_time": "2021-08-31T00:19:55.496572",
     "status": "completed"
    },
    "tags": []
   },
   "outputs": [
    {
     "name": "stdout",
     "output_type": "stream",
     "text": [
      "2\n"
     ]
    },
    {
     "data": {
      "text/plain": [
       "<matplotlib.image.AxesImage at 0x7f0451719080>"
      ]
     },
     "execution_count": 9,
     "metadata": {},
     "output_type": "execute_result"
    },
    {
     "data": {
      "image/png": "[encoded data removed]",
      "text/plain": [
       "<Figure size 432x288 with 1 Axes>"
      ]
     },
     "metadata": {
      "needs_background": "light"
     },
     "output_type": "display_data"
    }
   ],
   "source": [
    "image_index = 7776 # You may select anything up to 60,000\n",
    "print(train_labels[image_index]) \n",
    "plt.imshow(train_images[image_index], cmap='Greys')"
   ]
  },
  {
   "cell_type": "markdown",
   "id": "a8d2388d",
   "metadata": {
    "papermill": {
     "duration": 0.02653,
     "end_time": "2021-08-31T00:19:55.722541",
     "exception": false,
     "start_time": "2021-08-31T00:19:55.696011",
     "status": "completed"
    },
    "tags": []
   },
   "source": [
    "## Filter data to get 3 and 8 out"
   ]
  },
  {
   "cell_type": "code",
   "execution_count": 10,
   "id": "776f7fc7",
   "metadata": {
    "execution": {
     "iopub.execute_input": "2021-08-31T00:19:55.786295Z",
     "iopub.status.busy": "2021-08-31T00:19:55.785756Z",
     "iopub.status.idle": "2021-08-31T00:19:55.797838Z",
     "shell.execute_reply": "2021-08-31T00:19:55.797418Z"
    },
    "papermill": {
     "duration": 0.048563,
     "end_time": "2021-08-31T00:19:55.797955",
     "exception": false,
     "start_time": "2021-08-31T00:19:55.749392",
     "status": "completed"
    },
    "tags": []
   },
   "outputs": [],
   "source": [
    "train_filter = np.where((train_labels == 3 ) | (train_labels == 8))\n",
    "test_filter = np.where((test_labels == 3) | (test_labels == 8))\n",
    "X_train, y_train = train_images[train_filter], train_labels[train_filter]\n",
    "X_test, y_test = test_images[test_filter], test_labels[test_filter]"
   ]
  },
  {
   "cell_type": "markdown",
   "id": "948f0b7e",
   "metadata": {
    "papermill": {
     "duration": 0.026383,
     "end_time": "2021-08-31T00:19:55.850982",
     "exception": false,
     "start_time": "2021-08-31T00:19:55.824599",
     "status": "completed"
    },
    "tags": []
   },
   "source": [
    "We normalize the pizel values in the 0 to 1 range"
   ]
  },
  {
   "cell_type": "code",
   "execution_count": 11,
   "id": "ee4c2166",
   "metadata": {
    "execution": {
     "iopub.execute_input": "2021-08-31T00:19:55.920248Z",
     "iopub.status.busy": "2021-08-31T00:19:55.913680Z",
     "iopub.status.idle": "2021-08-31T00:19:55.958402Z",
     "shell.execute_reply": "2021-08-31T00:19:55.957901Z"
    },
    "papermill": {
     "duration": 0.081156,
     "end_time": "2021-08-31T00:19:55.958542",
     "exception": false,
     "start_time": "2021-08-31T00:19:55.877386",
     "status": "completed"
    },
    "tags": []
   },
   "outputs": [],
   "source": [
    "X_train = X_train/255.\n",
    "X_test = X_test/255."
   ]
  },
  {
   "cell_type": "markdown",
   "id": "ddcf4fab",
   "metadata": {
    "papermill": {
     "duration": 0.026636,
     "end_time": "2021-08-31T00:19:56.012598",
     "exception": false,
     "start_time": "2021-08-31T00:19:55.985962",
     "status": "completed"
    },
    "tags": []
   },
   "source": [
    "And setup the labels as 1 (when the digit is 3) and 0 (when the digit is 8)"
   ]
  },
  {
   "cell_type": "code",
   "execution_count": 12,
   "id": "7dc908f2",
   "metadata": {
    "execution": {
     "iopub.execute_input": "2021-08-31T00:19:56.080349Z",
     "iopub.status.busy": "2021-08-31T00:19:56.074694Z",
     "iopub.status.idle": "2021-08-31T00:19:56.082904Z",
     "shell.execute_reply": "2021-08-31T00:19:56.083295Z"
    },
    "papermill": {
     "duration": 0.04423,
     "end_time": "2021-08-31T00:19:56.083426",
     "exception": false,
     "start_time": "2021-08-31T00:19:56.039196",
     "status": "completed"
    },
    "tags": []
   },
   "outputs": [],
   "source": [
    "y_train = 1*(y_train==3)\n",
    "y_test = 1*(y_test==3)"
   ]
  },
  {
   "cell_type": "code",
   "execution_count": 13,
   "id": "01e4e969",
   "metadata": {
    "execution": {
     "iopub.execute_input": "2021-08-31T00:19:56.150275Z",
     "iopub.status.busy": "2021-08-31T00:19:56.146739Z",
     "iopub.status.idle": "2021-08-31T00:19:56.157821Z",
     "shell.execute_reply": "2021-08-31T00:19:56.157390Z"
    },
    "papermill": {
     "duration": 0.048016,
     "end_time": "2021-08-31T00:19:56.157925",
     "exception": false,
     "start_time": "2021-08-31T00:19:56.109909",
     "status": "completed"
    },
    "tags": []
   },
   "outputs": [
    {
     "data": {
      "text/plain": [
       "((11982, 28, 28), (1984, 28, 28))"
      ]
     },
     "execution_count": 13,
     "metadata": {},
     "output_type": "execute_result"
    }
   ],
   "source": [
    "X_train.shape, X_test.shape"
   ]
  },
  {
   "cell_type": "markdown",
   "id": "5ccf3f85",
   "metadata": {
    "papermill": {
     "duration": 0.026344,
     "end_time": "2021-08-31T00:19:56.210812",
     "exception": false,
     "start_time": "2021-08-31T00:19:56.184468",
     "status": "completed"
    },
    "tags": []
   },
   "source": [
    "We reshape the data to flatten the image pixels into a set of features or co-variates:"
   ]
  },
  {
   "cell_type": "code",
   "execution_count": 14,
   "id": "5286a4a3",
   "metadata": {
    "execution": {
     "iopub.execute_input": "2021-08-31T00:19:56.268972Z",
     "iopub.status.busy": "2021-08-31T00:19:56.268439Z",
     "iopub.status.idle": "2021-08-31T00:19:56.280839Z",
     "shell.execute_reply": "2021-08-31T00:19:56.281253Z"
    },
    "papermill": {
     "duration": 0.043887,
     "end_time": "2021-08-31T00:19:56.281387",
     "exception": false,
     "start_time": "2021-08-31T00:19:56.237500",
     "status": "completed"
    },
    "tags": []
   },
   "outputs": [
    {
     "data": {
      "text/plain": [
       "((11982, 784), (1984, 784))"
      ]
     },
     "execution_count": 14,
     "metadata": {},
     "output_type": "execute_result"
    }
   ],
   "source": [
    "X_train = X_train.reshape(X_train.shape[0], -1)\n",
    "X_test = X_test.reshape(X_test.shape[0], -1)\n",
    "X_train.shape, X_test.shape"
   ]
  },
  {
   "cell_type": "code",
   "execution_count": 15,
   "id": "73c5f88a",
   "metadata": {
    "execution": {
     "iopub.execute_input": "2021-08-31T00:19:56.342633Z",
     "iopub.status.busy": "2021-08-31T00:19:56.342092Z",
     "iopub.status.idle": "2021-08-31T00:19:56.358367Z",
     "shell.execute_reply": "2021-08-31T00:19:56.358759Z"
    },
    "papermill": {
     "duration": 0.050346,
     "end_time": "2021-08-31T00:19:56.358900",
     "exception": false,
     "start_time": "2021-08-31T00:19:56.308554",
     "status": "completed"
    },
    "tags": []
   },
   "outputs": [],
   "source": [
    "#Impoting functions from 'Kudzu'\n",
    "from kudzu.model import Model\n",
    "from kudzu.train import Learner\n",
    "from kudzu.optim import GD\n",
    "from kudzu.data import Data, Sampler,Dataloader\n",
    "\n",
    "from kudzu.callbacks import AccCallback\n",
    "from kudzu.callbacks import ClfCallback\n",
    "\n",
    "from kudzu.loss import MSE\n",
    "\n",
    "from kudzu.layer import Sigmoid,Relu\n",
    "from kudzu.layer import Affine"
   ]
  },
  {
   "cell_type": "markdown",
   "id": "bc01172a",
   "metadata": {
    "papermill": {
     "duration": 0.027101,
     "end_time": "2021-08-31T00:19:56.413142",
     "exception": false,
     "start_time": "2021-08-31T00:19:56.386041",
     "status": "completed"
    },
    "tags": []
   },
   "source": [
    "### Let us create a `Config` class, to store important parameters. \n",
    "This class essentially plays the role of a dictionary."
   ]
  },
  {
   "cell_type": "code",
   "execution_count": 16,
   "id": "978281aa",
   "metadata": {
    "execution": {
     "iopub.execute_input": "2021-08-31T00:19:56.470693Z",
     "iopub.status.busy": "2021-08-31T00:19:56.470165Z",
     "iopub.status.idle": "2021-08-31T00:19:56.481916Z",
     "shell.execute_reply": "2021-08-31T00:19:56.481501Z"
    },
    "papermill": {
     "duration": 0.042019,
     "end_time": "2021-08-31T00:19:56.482033",
     "exception": false,
     "start_time": "2021-08-31T00:19:56.440014",
     "status": "completed"
    },
    "tags": []
   },
   "outputs": [],
   "source": [
    "class Config:\n",
    "    pass\n",
    "config = Config()\n",
    "config.lr = 0.001\n",
    "config.num_epochs = 250\n",
    "config.bs = 50"
   ]
  },
  {
   "cell_type": "markdown",
   "id": "1385fa59",
   "metadata": {
    "papermill": {
     "duration": 0.02707,
     "end_time": "2021-08-31T00:19:56.536394",
     "exception": false,
     "start_time": "2021-08-31T00:19:56.509324",
     "status": "completed"
    },
    "tags": []
   },
   "source": [
    "### Running Models with the Training data\n",
    "Details about the network layers:\n",
    "- A first affine layer has 784 inputs and does 100 affine transforms. These are followed by a Relu\n",
    "- A second affine layer has 100 inputs from the 100 activations of the past layer, and does 100 affine transforms. These are followed by a Relu\n",
    "- A third affine layer has 100 activations and does 2 affine transformations to create an embedding for visualization. There is no non-linearity here.\n",
    "- A final \"logistic regression\" which has an affine transform from 2 inputs to 1 output, which is squeezed through a sigmoid.\n"
   ]
  },
  {
   "cell_type": "code",
   "execution_count": 17,
   "id": "2b9c66db",
   "metadata": {
    "execution": {
     "iopub.execute_input": "2021-08-31T00:19:56.594621Z",
     "iopub.status.busy": "2021-08-31T00:19:56.594102Z",
     "iopub.status.idle": "2021-08-31T00:19:56.605421Z",
     "shell.execute_reply": "2021-08-31T00:19:56.605859Z"
    },
    "papermill": {
     "duration": 0.042623,
     "end_time": "2021-08-31T00:19:56.605986",
     "exception": false,
     "start_time": "2021-08-31T00:19:56.563363",
     "status": "completed"
    },
    "tags": []
   },
   "outputs": [],
   "source": [
    "data = Data(X_train, y_train.reshape(-1,1))\n",
    "sampler = Sampler(data, config.bs, shuffle=True)\n",
    "\n",
    "dl = Dataloader(data, sampler)\n",
    "\n",
    "opt = GD(config.lr)\n",
    "loss = MSE()"
   ]
  },
  {
   "cell_type": "code",
   "execution_count": 18,
   "id": "b275e4c2",
   "metadata": {
    "execution": {
     "iopub.execute_input": "2021-08-31T00:19:56.662461Z",
     "iopub.status.busy": "2021-08-31T00:19:56.661922Z",
     "iopub.status.idle": "2021-08-31T00:19:56.674443Z",
     "shell.execute_reply": "2021-08-31T00:19:56.674007Z"
    },
    "papermill": {
     "duration": 0.041612,
     "end_time": "2021-08-31T00:19:56.674553",
     "exception": false,
     "start_time": "2021-08-31T00:19:56.632941",
     "status": "completed"
    },
    "tags": []
   },
   "outputs": [],
   "source": [
    "training_data_x = X_train\n",
    "testing_data_x = X_test\n",
    "training_data_y = y_train.reshape(-1,1)\n",
    "testing_data_y = y_test.reshape(-1,1)"
   ]
  },
  {
   "cell_type": "code",
   "execution_count": 19,
   "id": "76951160",
   "metadata": {
    "execution": {
     "iopub.execute_input": "2021-08-31T00:19:56.738615Z",
     "iopub.status.busy": "2021-08-31T00:19:56.738096Z",
     "iopub.status.idle": "2021-08-31T00:19:56.749724Z",
     "shell.execute_reply": "2021-08-31T00:19:56.750112Z"
    },
    "papermill": {
     "duration": 0.048834,
     "end_time": "2021-08-31T00:19:56.750249",
     "exception": false,
     "start_time": "2021-08-31T00:19:56.701415",
     "status": "completed"
    },
    "tags": []
   },
   "outputs": [
    {
     "name": "stdout",
     "output_type": "stream",
     "text": [
      "xavier\n",
      "xavier\n",
      "xavier\n",
      "xavier\n",
      "xavier\n"
     ]
    }
   ],
   "source": [
    "layers = [Affine(\"first\", 784, 100), Relu(\"first\"), Affine(\"second\", 100, 100), Relu(\"second\"), Affine(\"third\", 100, 2), Affine(\"last\", 2, 1), Sigmoid(\"last\")]\n",
    "model_nn = Model(layers)\n",
    "model_lr = Model([Affine(\"logits\", 784, 1), Sigmoid(\"sigmoid\")])"
   ]
  },
  {
   "cell_type": "code",
   "execution_count": 20,
   "id": "6eede77a",
   "metadata": {
    "execution": {
     "iopub.execute_input": "2021-08-31T00:19:56.815253Z",
     "iopub.status.busy": "2021-08-31T00:19:56.814728Z",
     "iopub.status.idle": "2021-08-31T00:19:56.823860Z",
     "shell.execute_reply": "2021-08-31T00:19:56.823394Z"
    },
    "papermill": {
     "duration": 0.046254,
     "end_time": "2021-08-31T00:19:56.823975",
     "exception": false,
     "start_time": "2021-08-31T00:19:56.777721",
     "status": "completed"
    },
    "tags": []
   },
   "outputs": [],
   "source": [
    "nn_learner = Learner(loss, model_nn, opt, config.num_epochs)\n",
    "acc_nn = ClfCallback(nn_learner, config.bs, training_data_x , testing_data_x, training_data_y, testing_data_y)\n",
    "nn_learner.set_callbacks([acc_nn])"
   ]
  },
  {
   "cell_type": "code",
   "execution_count": 21,
   "id": "877b6cc7",
   "metadata": {
    "execution": {
     "iopub.execute_input": "2021-08-31T00:19:56.887111Z",
     "iopub.status.busy": "2021-08-31T00:19:56.881761Z",
     "iopub.status.idle": "2021-08-31T00:19:56.898192Z",
     "shell.execute_reply": "2021-08-31T00:19:56.897770Z"
    },
    "papermill": {
     "duration": 0.047006,
     "end_time": "2021-08-31T00:19:56.898310",
     "exception": false,
     "start_time": "2021-08-31T00:19:56.851304",
     "status": "completed"
    },
    "tags": []
   },
   "outputs": [],
   "source": [
    "lr_learner = Learner(loss, model_lr, opt, config.num_epochs)\n",
    "acc_lr = ClfCallback(lr_learner, config.bs, training_data_x , testing_data_x, training_data_y, testing_data_y)\n",
    "lr_learner.set_callbacks([acc_lr])"
   ]
  },
  {
   "cell_type": "code",
   "execution_count": 22,
   "id": "d9b133c3",
   "metadata": {
    "execution": {
     "iopub.execute_input": "2021-08-31T00:19:56.957527Z",
     "iopub.status.busy": "2021-08-31T00:19:56.957005Z",
     "iopub.status.idle": "2021-08-31T00:21:12.128912Z",
     "shell.execute_reply": "2021-08-31T00:21:12.129409Z"
    },
    "papermill": {
     "duration": 75.203661,
     "end_time": "2021-08-31T00:21:12.129553",
     "exception": false,
     "start_time": "2021-08-31T00:19:56.925892",
     "status": "completed"
    },
    "tags": []
   },
   "outputs": [
    {
     "name": "stdout",
     "output_type": "stream",
     "text": [
      "Epoch 0, Loss 0.2429\n",
      "Training Accuracy: 0.6673, Testing Accuracy: 0.6643\n",
      "\n"
     ]
    },
    {
     "name": "stdout",
     "output_type": "stream",
     "text": [
      "Epoch 10, Loss 0.1339\n",
      "Training Accuracy: 0.9051, Testing Accuracy: 0.9178\n",
      "\n"
     ]
    },
    {
     "name": "stdout",
     "output_type": "stream",
     "text": [
      "Epoch 20, Loss 0.0684\n",
      "Training Accuracy: 0.9338, Testing Accuracy: 0.9476\n",
      "\n"
     ]
    },
    {
     "name": "stdout",
     "output_type": "stream",
     "text": [
      "Epoch 30, Loss 0.0499\n",
      "Training Accuracy: 0.9467, Testing Accuracy: 0.9572\n",
      "\n"
     ]
    },
    {
     "name": "stdout",
     "output_type": "stream",
     "text": [
      "Epoch 40, Loss 0.0417\n",
      "Training Accuracy: 0.9529, Testing Accuracy: 0.9612\n",
      "\n"
     ]
    },
    {
     "name": "stdout",
     "output_type": "stream",
     "text": [
      "Epoch 50, Loss 0.0371\n",
      "Training Accuracy: 0.9569, Testing Accuracy: 0.9642\n",
      "\n"
     ]
    },
    {
     "name": "stdout",
     "output_type": "stream",
     "text": [
      "Epoch 60, Loss 0.034\n",
      "Training Accuracy: 0.9601, Testing Accuracy: 0.9662\n",
      "\n"
     ]
    },
    {
     "name": "stdout",
     "output_type": "stream",
     "text": [
      "Epoch 70, Loss 0.0318\n",
      "Training Accuracy: 0.9635, Testing Accuracy: 0.9693\n",
      "\n"
     ]
    },
    {
     "name": "stdout",
     "output_type": "stream",
     "text": [
      "Epoch 80, Loss 0.0301\n",
      "Training Accuracy: 0.9656, Testing Accuracy: 0.9693\n",
      "\n"
     ]
    },
    {
     "name": "stdout",
     "output_type": "stream",
     "text": [
      "Epoch 90, Loss 0.0288\n",
      "Training Accuracy: 0.9670, Testing Accuracy: 0.9703\n",
      "\n"
     ]
    },
    {
     "name": "stdout",
     "output_type": "stream",
     "text": [
      "Epoch 100, Loss 0.0276\n",
      "Training Accuracy: 0.9680, Testing Accuracy: 0.9713\n",
      "\n"
     ]
    },
    {
     "name": "stdout",
     "output_type": "stream",
     "text": [
      "Epoch 110, Loss 0.0266\n",
      "Training Accuracy: 0.9690, Testing Accuracy: 0.9713\n",
      "\n"
     ]
    },
    {
     "name": "stdout",
     "output_type": "stream",
     "text": [
      "Epoch 120, Loss 0.0258\n",
      "Training Accuracy: 0.9700, Testing Accuracy: 0.9723\n",
      "\n"
     ]
    },
    {
     "name": "stdout",
     "output_type": "stream",
     "text": [
      "Epoch 130, Loss 0.025\n",
      "Training Accuracy: 0.9710, Testing Accuracy: 0.9718\n",
      "\n"
     ]
    },
    {
     "name": "stdout",
     "output_type": "stream",
     "text": [
      "Epoch 140, Loss 0.0243\n",
      "Training Accuracy: 0.9715, Testing Accuracy: 0.9718\n",
      "\n"
     ]
    },
    {
     "name": "stdout",
     "output_type": "stream",
     "text": [
      "Epoch 150, Loss 0.0237\n",
      "Training Accuracy: 0.9720, Testing Accuracy: 0.9723\n",
      "\n"
     ]
    },
    {
     "name": "stdout",
     "output_type": "stream",
     "text": [
      "Epoch 160, Loss 0.0231\n",
      "Training Accuracy: 0.9729, Testing Accuracy: 0.9728\n",
      "\n"
     ]
    },
    {
     "name": "stdout",
     "output_type": "stream",
     "text": [
      "Epoch 170, Loss 0.0225\n",
      "Training Accuracy: 0.9739, Testing Accuracy: 0.9728\n",
      "\n"
     ]
    },
    {
     "name": "stdout",
     "output_type": "stream",
     "text": [
      "Epoch 180, Loss 0.022\n",
      "Training Accuracy: 0.9744, Testing Accuracy: 0.9733\n",
      "\n"
     ]
    },
    {
     "name": "stdout",
     "output_type": "stream",
     "text": [
      "Epoch 190, Loss 0.0215\n",
      "Training Accuracy: 0.9752, Testing Accuracy: 0.9733\n",
      "\n"
     ]
    },
    {
     "name": "stdout",
     "output_type": "stream",
     "text": [
      "Epoch 200, Loss 0.021\n",
      "Training Accuracy: 0.9759, Testing Accuracy: 0.9733\n",
      "\n"
     ]
    },
    {
     "name": "stdout",
     "output_type": "stream",
     "text": [
      "Epoch 210, Loss 0.0206\n",
      "Training Accuracy: 0.9766, Testing Accuracy: 0.9743\n",
      "\n"
     ]
    },
    {
     "name": "stdout",
     "output_type": "stream",
     "text": [
      "Epoch 220, Loss 0.0201\n",
      "Training Accuracy: 0.9773, Testing Accuracy: 0.9738\n",
      "\n"
     ]
    },
    {
     "name": "stdout",
     "output_type": "stream",
     "text": [
      "Epoch 230, Loss 0.0197\n",
      "Training Accuracy: 0.9778, Testing Accuracy: 0.9738\n",
      "\n"
     ]
    },
    {
     "name": "stdout",
     "output_type": "stream",
     "text": [
      "Epoch 240, Loss 0.0193\n",
      "Training Accuracy: 0.9781, Testing Accuracy: 0.9743\n",
      "\n"
     ]
    },
    {
     "data": {
      "text/plain": [
       "0.014979028195617068"
      ]
     },
     "execution_count": 22,
     "metadata": {},
     "output_type": "execute_result"
    }
   ],
   "source": [
    "nn_learner.train_loop(dl)"
   ]
  },
  {
   "cell_type": "code",
   "execution_count": 23,
   "id": "e0163366",
   "metadata": {
    "execution": {
     "iopub.execute_input": "2021-08-31T00:21:12.212867Z",
     "iopub.status.busy": "2021-08-31T00:21:12.212331Z",
     "iopub.status.idle": "2021-08-31T00:21:25.875856Z",
     "shell.execute_reply": "2021-08-31T00:21:25.876577Z"
    },
    "papermill": {
     "duration": 13.708665,
     "end_time": "2021-08-31T00:21:25.876727",
     "exception": false,
     "start_time": "2021-08-31T00:21:12.168062",
     "status": "completed"
    },
    "tags": []
   },
   "outputs": [
    {
     "name": "stdout",
     "output_type": "stream",
     "text": [
      "Epoch 0, Loss 0.2475\n",
      "Training Accuracy: 0.6466, Testing Accuracy: 0.6769\n",
      "\n"
     ]
    },
    {
     "name": "stdout",
     "output_type": "stream",
     "text": [
      "Epoch 10, Loss 0.1031\n",
      "Training Accuracy: 0.9116, Testing Accuracy: 0.9274\n",
      "\n"
     ]
    },
    {
     "name": "stdout",
     "output_type": "stream",
     "text": [
      "Epoch 20, Loss 0.0792\n",
      "Training Accuracy: 0.9293, Testing Accuracy: 0.9420\n",
      "\n"
     ]
    },
    {
     "name": "stdout",
     "output_type": "stream",
     "text": [
      "Epoch 30, Loss 0.0682\n",
      "Training Accuracy: 0.9382, Testing Accuracy: 0.9471\n",
      "\n"
     ]
    },
    {
     "name": "stdout",
     "output_type": "stream",
     "text": [
      "Epoch 40, Loss 0.0615\n",
      "Training Accuracy: 0.9424, Testing Accuracy: 0.9501\n",
      "\n"
     ]
    },
    {
     "name": "stdout",
     "output_type": "stream",
     "text": [
      "Epoch 50, Loss 0.057\n",
      "Training Accuracy: 0.9455, Testing Accuracy: 0.9541\n",
      "\n"
     ]
    },
    {
     "name": "stdout",
     "output_type": "stream",
     "text": [
      "Epoch 60, Loss 0.0536\n",
      "Training Accuracy: 0.9476, Testing Accuracy: 0.9561\n",
      "\n"
     ]
    },
    {
     "name": "stdout",
     "output_type": "stream",
     "text": [
      "Epoch 70, Loss 0.0511\n",
      "Training Accuracy: 0.9500, Testing Accuracy: 0.9561\n",
      "\n"
     ]
    },
    {
     "name": "stdout",
     "output_type": "stream",
     "text": [
      "Epoch 80, Loss 0.049\n",
      "Training Accuracy: 0.9518, Testing Accuracy: 0.9577\n",
      "\n"
     ]
    },
    {
     "name": "stdout",
     "output_type": "stream",
     "text": [
      "Epoch 90, Loss 0.0473\n",
      "Training Accuracy: 0.9530, Testing Accuracy: 0.9602\n",
      "\n"
     ]
    },
    {
     "name": "stdout",
     "output_type": "stream",
     "text": [
      "Epoch 100, Loss 0.0459\n",
      "Training Accuracy: 0.9538, Testing Accuracy: 0.9607\n",
      "\n"
     ]
    },
    {
     "name": "stdout",
     "output_type": "stream",
     "text": [
      "Epoch 110, Loss 0.0447\n",
      "Training Accuracy: 0.9547, Testing Accuracy: 0.9612\n",
      "\n"
     ]
    },
    {
     "name": "stdout",
     "output_type": "stream",
     "text": [
      "Epoch 120, Loss 0.0436\n",
      "Training Accuracy: 0.9553, Testing Accuracy: 0.9617\n",
      "\n"
     ]
    },
    {
     "name": "stdout",
     "output_type": "stream",
     "text": [
      "Epoch 130, Loss 0.0427\n",
      "Training Accuracy: 0.9558, Testing Accuracy: 0.9622\n",
      "\n"
     ]
    },
    {
     "name": "stdout",
     "output_type": "stream",
     "text": [
      "Epoch 140, Loss 0.0419\n",
      "Training Accuracy: 0.9564, Testing Accuracy: 0.9622\n",
      "\n"
     ]
    },
    {
     "name": "stdout",
     "output_type": "stream",
     "text": [
      "Epoch 150, Loss 0.0411\n",
      "Training Accuracy: 0.9566, Testing Accuracy: 0.9622\n",
      "\n"
     ]
    },
    {
     "name": "stdout",
     "output_type": "stream",
     "text": [
      "Epoch 160, Loss 0.0405\n",
      "Training Accuracy: 0.9574, Testing Accuracy: 0.9617\n",
      "\n"
     ]
    },
    {
     "name": "stdout",
     "output_type": "stream",
     "text": [
      "Epoch 170, Loss 0.0399\n",
      "Training Accuracy: 0.9579, Testing Accuracy: 0.9617\n",
      "\n"
     ]
    },
    {
     "name": "stdout",
     "output_type": "stream",
     "text": [
      "Epoch 180, Loss 0.0393\n",
      "Training Accuracy: 0.9586, Testing Accuracy: 0.9622\n",
      "\n"
     ]
    },
    {
     "name": "stdout",
     "output_type": "stream",
     "text": [
      "Epoch 190, Loss 0.0388\n",
      "Training Accuracy: 0.9591, Testing Accuracy: 0.9622\n",
      "\n"
     ]
    },
    {
     "name": "stdout",
     "output_type": "stream",
     "text": [
      "Epoch 200, Loss 0.0383\n",
      "Training Accuracy: 0.9595, Testing Accuracy: 0.9622\n",
      "\n"
     ]
    },
    {
     "name": "stdout",
     "output_type": "stream",
     "text": [
      "Epoch 210, Loss 0.0379\n",
      "Training Accuracy: 0.9599, Testing Accuracy: 0.9632\n",
      "\n"
     ]
    },
    {
     "name": "stdout",
     "output_type": "stream",
     "text": [
      "Epoch 220, Loss 0.0375\n",
      "Training Accuracy: 0.9601, Testing Accuracy: 0.9642\n",
      "\n"
     ]
    },
    {
     "name": "stdout",
     "output_type": "stream",
     "text": [
      "Epoch 230, Loss 0.0371\n",
      "Training Accuracy: 0.9605, Testing Accuracy: 0.9647\n",
      "\n"
     ]
    },
    {
     "name": "stdout",
     "output_type": "stream",
     "text": [
      "Epoch 240, Loss 0.0367\n",
      "Training Accuracy: 0.9608, Testing Accuracy: 0.9657\n",
      "\n"
     ]
    },
    {
     "data": {
      "text/plain": [
       "0.02895826905984754"
      ]
     },
     "execution_count": 23,
     "metadata": {},
     "output_type": "execute_result"
    }
   ],
   "source": [
    "lr_learner.train_loop(dl)"
   ]
  },
  {
   "cell_type": "code",
   "execution_count": 24,
   "id": "ca410940",
   "metadata": {
    "execution": {
     "iopub.execute_input": "2021-08-31T00:21:25.973066Z",
     "iopub.status.busy": "2021-08-31T00:21:25.972524Z",
     "iopub.status.idle": "2021-08-31T00:21:26.202505Z",
     "shell.execute_reply": "2021-08-31T00:21:26.203127Z"
    },
    "papermill": {
     "duration": 0.284662,
     "end_time": "2021-08-31T00:21:26.203279",
     "exception": false,
     "start_time": "2021-08-31T00:21:25.918617",
     "status": "completed"
    },
    "tags": []
   },
   "outputs": [
    {
     "data": {
      "text/plain": [
       "<matplotlib.legend.Legend at 0x7f0443f6fba8>"
      ]
     },
     "execution_count": 24,
     "metadata": {},
     "output_type": "execute_result"
    },
    {
     "data": {
      "image/png": "[encoded data removed]",
      "text/plain": [
       "<Figure size 1080x720 with 1 Axes>"
      ]
     },
     "metadata": {
      "needs_background": "light"
     },
     "output_type": "display_data"
    }
   ],
   "source": [
    "#comparing the results of NN and LR\n",
    "plt.figure(figsize=(15,10))\n",
    "\n",
    "# Neural Network plots\n",
    "plt.plot(acc_nn.accuracies, 'r-', label = \"Training Accuracies - NN\")\n",
    "plt.plot(acc_nn.test_accuracies, 'g-', label = \"Testing Accuracies - NN\")\n",
    "\n",
    "# Logistic Regression plots\n",
    "plt.plot(acc_lr.accuracies, 'k-', label = \"Training Accuracies - LR\")\n",
    "plt.plot(acc_lr.test_accuracies, 'b-', label = \"Testing Accuracies - LR\")\n",
    "plt.legend()"
   ]
  },
  {
   "cell_type": "markdown",
   "id": "80dfb35c",
   "metadata": {
    "papermill": {
     "duration": 0.042574,
     "end_time": "2021-08-31T00:21:26.288878",
     "exception": false,
     "start_time": "2021-08-31T00:21:26.246304",
     "status": "completed"
    },
    "tags": []
   },
   "source": [
    "#### Plotting the outputs of this layer of the NN.\n"
   ]
  },
  {
   "cell_type": "code",
   "execution_count": 25,
   "id": "45eb2ff5",
   "metadata": {
    "execution": {
     "iopub.execute_input": "2021-08-31T00:21:26.378592Z",
     "iopub.status.busy": "2021-08-31T00:21:26.378061Z",
     "iopub.status.idle": "2021-08-31T00:21:26.396574Z",
     "shell.execute_reply": "2021-08-31T00:21:26.397279Z"
    },
    "papermill": {
     "duration": 0.066376,
     "end_time": "2021-08-31T00:21:26.397431",
     "exception": false,
     "start_time": "2021-08-31T00:21:26.331055",
     "status": "completed"
    },
    "tags": []
   },
   "outputs": [],
   "source": [
    "new_model = Model(layers[:-2])\n",
    "testing_plot = new_model(testing_data_x)"
   ]
  },
  {
   "cell_type": "code",
   "execution_count": 26,
   "id": "4c0a5485",
   "metadata": {
    "execution": {
     "iopub.execute_input": "2021-08-31T00:21:26.497018Z",
     "iopub.status.busy": "2021-08-31T00:21:26.496480Z",
     "iopub.status.idle": "2021-08-31T00:21:26.675384Z",
     "shell.execute_reply": "2021-08-31T00:21:26.675836Z"
    },
    "papermill": {
     "duration": 0.235528,
     "end_time": "2021-08-31T00:21:26.675981",
     "exception": false,
     "start_time": "2021-08-31T00:21:26.440453",
     "status": "completed"
    },
    "tags": []
   },
   "outputs": [
    {
     "data": {
      "text/plain": [
       "Text(0.5, 1.0, 'Outputs')"
      ]
     },
     "execution_count": 26,
     "metadata": {},
     "output_type": "execute_result"
    },
    {
     "data": {
      "image/png": "[encoded data removed]",
      "text/plain": [
       "<Figure size 576x504 with 1 Axes>"
      ]
     },
     "metadata": {
      "needs_background": "light"
     },
     "output_type": "display_data"
    }
   ],
   "source": [
    "# Plotting the scatter plot of points and color coding by class\n",
    "plt.figure(figsize=(8,7))\n",
    "plt.scatter(testing_plot[:,0], testing_plot[:,1], alpha = 0.1, c = y_test.ravel());\n",
    "plt.title('Outputs')"
   ]
  },
  {
   "cell_type": "markdown",
   "id": "a74fcf8f",
   "metadata": {
    "papermill": {
     "duration": 0.043708,
     "end_time": "2021-08-31T00:21:26.763832",
     "exception": false,
     "start_time": "2021-08-31T00:21:26.720124",
     "status": "completed"
    },
    "tags": []
   },
   "source": [
    "Probability contours"
   ]
  },
  {
   "cell_type": "code",
   "execution_count": 27,
   "id": "d0afc8e3",
   "metadata": {
    "execution": {
     "iopub.execute_input": "2021-08-31T00:21:26.856368Z",
     "iopub.status.busy": "2021-08-31T00:21:26.855817Z",
     "iopub.status.idle": "2021-08-31T00:21:26.866268Z",
     "shell.execute_reply": "2021-08-31T00:21:26.866683Z"
    },
    "papermill": {
     "duration": 0.059114,
     "end_time": "2021-08-31T00:21:26.866818",
     "exception": false,
     "start_time": "2021-08-31T00:21:26.807704",
     "status": "completed"
    },
    "tags": []
   },
   "outputs": [],
   "source": [
    "model_prob = Model(layers[-2:]) "
   ]
  },
  {
   "cell_type": "code",
   "execution_count": 28,
   "id": "9b96e238",
   "metadata": {
    "execution": {
     "iopub.execute_input": "2021-08-31T00:21:26.960106Z",
     "iopub.status.busy": "2021-08-31T00:21:26.959532Z",
     "iopub.status.idle": "2021-08-31T00:21:26.975216Z",
     "shell.execute_reply": "2021-08-31T00:21:26.975605Z"
    },
    "papermill": {
     "duration": 0.065187,
     "end_time": "2021-08-31T00:21:26.975768",
     "exception": false,
     "start_time": "2021-08-31T00:21:26.910581",
     "status": "completed"
    },
    "tags": []
   },
   "outputs": [],
   "source": [
    "#creating the x and y ranges according to the above generated plot.\n",
    "x_range = np.linspace(-4, 1, 100) \n",
    "y_range = np.linspace(-6, 6, 100) \n",
    "x_grid, y_grid = np.meshgrid(x_range, y_range) # x_grid and y_grig are of size 100 X 100\n",
    "\n",
    "# converting x_grid and y_grid to continuous arrays\n",
    "x_gridflat = np.ravel(x_grid)\n",
    "y_gridflat = np.ravel(y_grid)\n",
    "\n",
    "# The last layer of the current model takes two columns as input. Hence transpose of np.vstack() is required.\n",
    "X = np.vstack((x_gridflat, y_gridflat)).T\n",
    "\n",
    "prob_contour = model_prob(X).reshape(100,100) "
   ]
  },
  {
   "cell_type": "code",
   "execution_count": 29,
   "id": "da72499a",
   "metadata": {
    "execution": {
     "iopub.execute_input": "2021-08-31T00:21:27.108044Z",
     "iopub.status.busy": "2021-08-31T00:21:27.107488Z",
     "iopub.status.idle": "2021-08-31T00:21:27.330622Z",
     "shell.execute_reply": "2021-08-31T00:21:27.331109Z"
    },
    "papermill": {
     "duration": 0.306369,
     "end_time": "2021-08-31T00:21:27.331268",
     "exception": false,
     "start_time": "2021-08-31T00:21:27.024899",
     "status": "completed"
    },
    "tags": []
   },
   "outputs": [
    {
     "data": {
      "image/png": "[encoded data removed]",
      "text/plain": [
       "<Figure size 720x648 with 1 Axes>"
      ]
     },
     "metadata": {
      "needs_background": "light"
     },
     "output_type": "display_data"
    }
   ],
   "source": [
    "plt.figure(figsize=(10,9))\n",
    "plt.scatter(testing_plot[:,0], testing_plot[:,1], alpha = 0.1, c = y_test.ravel())\n",
    "contours = plt.contour(x_grid,y_grid,prob_contour)\n",
    "plt.title('Probability Contours')\n",
    "plt.clabel(contours, inline = True );"
   ]
  },
  {
   "cell_type": "code",
   "execution_count": null,
   "id": "e81b4ac7",
   "metadata": {
    "papermill": {
     "duration": 0.046691,
     "end_time": "2021-08-31T00:21:27.424765",
     "exception": false,
     "start_time": "2021-08-31T00:21:27.378074",
     "status": "completed"
    },
    "tags": []
   },
   "outputs": [],
   "source": []
  }
 ],
 "metadata": {
  "kernelspec": {
   "display_name": "Python 3",
   "language": "python",
   "name": "python3"
  },
  "language_info": {
   "codemirror_mode": {
    "name": "ipython",
    "version": 3
   },
   "file_extension": ".py",
   "mimetype": "text/x-python",
   "name": "python",
   "nbconvert_exporter": "python",
   "pygments_lexer": "ipython3",
   "version": "3.6.14"
  },
  "papermill": {
   "default_parameters": {},
   "duration": 97.798579,
   "end_time": "2021-08-31T00:21:27.879759",
   "environment_variables": {},
   "exception": null,
   "input_path": "2020-08-11-part2.ipynb",
   "output_path": "2020-08-11-part2.ipynb",
   "parameters": {},
   "start_time": "2021-08-31T00:19:50.081180",
   "version": "2.3.3"
  }
 },
 "nbformat": 4,
 "nbformat_minor": 5
}