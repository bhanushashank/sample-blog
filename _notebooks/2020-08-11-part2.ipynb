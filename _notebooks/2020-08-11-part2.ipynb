{
 "cells": [
  {
   "cell_type": "markdown",
   "id": "98380cd3",
   "metadata": {
    "papermill": {
     "duration": 0.031939,
     "end_time": "2022-09-26T00:50:12.141050",
     "exception": false,
     "start_time": "2022-09-26T00:50:12.109111",
     "status": "completed"
    },
    "tags": []
   },
   "source": [
    "# Distinguish Your Own Digits (DYOD)"
   ]
  },
  {
   "cell_type": "markdown",
   "id": "ef31240d",
   "metadata": {
    "papermill": {
     "duration": 0.024431,
     "end_time": "2022-09-26T00:50:12.192678",
     "exception": false,
     "start_time": "2022-09-26T00:50:12.168247",
     "status": "completed"
    },
    "tags": []
   },
   "source": [
    "You are going to write a classifier that distinguishes between the number 3 and number 8."
   ]
  },
  {
   "cell_type": "code",
   "execution_count": 1,
   "id": "b15c8646",
   "metadata": {
    "execution": {
     "iopub.execute_input": "2022-09-26T00:50:12.255409Z",
     "iopub.status.busy": "2022-09-26T00:50:12.254709Z",
     "iopub.status.idle": "2022-09-26T00:50:12.266997Z",
     "shell.execute_reply": "2022-09-26T00:50:12.266419Z"
    },
    "papermill": {
     "duration": 0.0491,
     "end_time": "2022-09-26T00:50:12.267144",
     "exception": false,
     "start_time": "2022-09-26T00:50:12.218044",
     "status": "completed"
    },
    "tags": []
   },
   "outputs": [],
   "source": [
    "%load_ext autoreload\n",
    "%autoreload 2"
   ]
  },
  {
   "cell_type": "code",
   "execution_count": 2,
   "id": "22ef38dc",
   "metadata": {
    "execution": {
     "iopub.execute_input": "2022-09-26T00:50:12.321573Z",
     "iopub.status.busy": "2022-09-26T00:50:12.320889Z",
     "iopub.status.idle": "2022-09-26T00:50:12.903186Z",
     "shell.execute_reply": "2022-09-26T00:50:12.902292Z"
    },
    "papermill": {
     "duration": 0.611706,
     "end_time": "2022-09-26T00:50:12.903342",
     "exception": false,
     "start_time": "2022-09-26T00:50:12.291636",
     "status": "completed"
    },
    "tags": []
   },
   "outputs": [],
   "source": [
    "%matplotlib inline\n",
    "import numpy as np\n",
    "import matplotlib.pyplot as plt\n",
    "import pandas as pd"
   ]
  },
  {
   "cell_type": "markdown",
   "id": "ba036198",
   "metadata": {
    "papermill": {
     "duration": 0.024256,
     "end_time": "2022-09-26T00:50:12.951473",
     "exception": false,
     "start_time": "2022-09-26T00:50:12.927217",
     "status": "completed"
    },
    "tags": []
   },
   "source": [
    "From the command line run `pip install mnist`. This is a library that will help you bring down the mnist dataset. If you run this from a notebook, you need to put  `!pip install mnist` in a cell by itself."
   ]
  },
  {
   "cell_type": "code",
   "execution_count": 3,
   "id": "bb6ad8a1",
   "metadata": {
    "execution": {
     "iopub.execute_input": "2022-09-26T00:50:13.003513Z",
     "iopub.status.busy": "2022-09-26T00:50:13.002873Z",
     "iopub.status.idle": "2022-09-26T00:50:15.532415Z",
     "shell.execute_reply": "2022-09-26T00:50:15.533321Z"
    },
    "papermill": {
     "duration": 2.559089,
     "end_time": "2022-09-26T00:50:15.533486",
     "exception": false,
     "start_time": "2022-09-26T00:50:12.974397",
     "status": "completed"
    },
    "tags": []
   },
   "outputs": [
    {
     "name": "stdout",
     "output_type": "stream",
     "text": [
      "Collecting mnist\r\n"
     ]
    },
    {
     "name": "stdout",
     "output_type": "stream",
     "text": [
      "  Downloading mnist-0.2.2-py2.py3-none-any.whl (3.5 kB)\r\n",
      "Requirement already satisfied: numpy in /opt/hostedtoolcache/Python/3.6.15/x64/lib/python3.6/site-packages (from mnist) (1.19.5)\r\n"
     ]
    },
    {
     "name": "stdout",
     "output_type": "stream",
     "text": [
      "Installing collected packages: mnist\r\n"
     ]
    },
    {
     "name": "stdout",
     "output_type": "stream",
     "text": [
      "Successfully installed mnist-0.2.2\r\n"
     ]
    }
   ],
   "source": [
    "!pip install mnist"
   ]
  },
  {
   "cell_type": "markdown",
   "id": "69df9c9a",
   "metadata": {
    "papermill": {
     "duration": 0.028254,
     "end_time": "2022-09-26T00:50:15.590899",
     "exception": false,
     "start_time": "2022-09-26T00:50:15.562645",
     "status": "completed"
    },
    "tags": []
   },
   "source": [
    "## Preparing the Data"
   ]
  },
  {
   "cell_type": "code",
   "execution_count": 4,
   "id": "7f69d806",
   "metadata": {
    "execution": {
     "iopub.execute_input": "2022-09-26T00:50:15.663581Z",
     "iopub.status.busy": "2022-09-26T00:50:15.661942Z",
     "iopub.status.idle": "2022-09-26T00:50:15.677451Z",
     "shell.execute_reply": "2022-09-26T00:50:15.676890Z"
    },
    "papermill": {
     "duration": 0.057769,
     "end_time": "2022-09-26T00:50:15.677576",
     "exception": false,
     "start_time": "2022-09-26T00:50:15.619807",
     "status": "completed"
    },
    "tags": []
   },
   "outputs": [],
   "source": [
    "import mnist"
   ]
  },
  {
   "cell_type": "code",
   "execution_count": 5,
   "id": "a411e44f",
   "metadata": {
    "execution": {
     "iopub.execute_input": "2022-09-26T00:50:15.736261Z",
     "iopub.status.busy": "2022-09-26T00:50:15.735624Z",
     "iopub.status.idle": "2022-09-26T00:50:16.284147Z",
     "shell.execute_reply": "2022-09-26T00:50:16.283563Z"
    },
    "papermill": {
     "duration": 0.580718,
     "end_time": "2022-09-26T00:50:16.284280",
     "exception": false,
     "start_time": "2022-09-26T00:50:15.703562",
     "status": "completed"
    },
    "tags": []
   },
   "outputs": [],
   "source": [
    "train_images = mnist.train_images()\n",
    "train_labels = mnist.train_labels()"
   ]
  },
  {
   "cell_type": "code",
   "execution_count": 6,
   "id": "dceab3a5",
   "metadata": {
    "execution": {
     "iopub.execute_input": "2022-09-26T00:50:16.343661Z",
     "iopub.status.busy": "2022-09-26T00:50:16.342970Z",
     "iopub.status.idle": "2022-09-26T00:50:16.360222Z",
     "shell.execute_reply": "2022-09-26T00:50:16.359667Z"
    },
    "papermill": {
     "duration": 0.049178,
     "end_time": "2022-09-26T00:50:16.360349",
     "exception": false,
     "start_time": "2022-09-26T00:50:16.311171",
     "status": "completed"
    },
    "tags": []
   },
   "outputs": [
    {
     "data": {
      "text/plain": [
       "((60000, 28, 28), (60000,))"
      ]
     },
     "execution_count": 6,
     "metadata": {},
     "output_type": "execute_result"
    }
   ],
   "source": [
    "train_images.shape, train_labels.shape"
   ]
  },
  {
   "cell_type": "code",
   "execution_count": 7,
   "id": "f50dc2bb",
   "metadata": {
    "execution": {
     "iopub.execute_input": "2022-09-26T00:50:16.416475Z",
     "iopub.status.busy": "2022-09-26T00:50:16.415863Z",
     "iopub.status.idle": "2022-09-26T00:50:16.556116Z",
     "shell.execute_reply": "2022-09-26T00:50:16.554588Z"
    },
    "papermill": {
     "duration": 0.169405,
     "end_time": "2022-09-26T00:50:16.556282",
     "exception": false,
     "start_time": "2022-09-26T00:50:16.386877",
     "status": "completed"
    },
    "tags": []
   },
   "outputs": [],
   "source": [
    "test_images = mnist.test_images()\n",
    "test_labels = mnist.test_labels()"
   ]
  },
  {
   "cell_type": "code",
   "execution_count": 8,
   "id": "fc38cf1b",
   "metadata": {
    "execution": {
     "iopub.execute_input": "2022-09-26T00:50:16.618691Z",
     "iopub.status.busy": "2022-09-26T00:50:16.615789Z",
     "iopub.status.idle": "2022-09-26T00:50:16.630477Z",
     "shell.execute_reply": "2022-09-26T00:50:16.631076Z"
    },
    "papermill": {
     "duration": 0.046969,
     "end_time": "2022-09-26T00:50:16.631212",
     "exception": false,
     "start_time": "2022-09-26T00:50:16.584243",
     "status": "completed"
    },
    "tags": []
   },
   "outputs": [
    {
     "data": {
      "text/plain": [
       "((10000, 28, 28), (10000,))"
      ]
     },
     "execution_count": 8,
     "metadata": {},
     "output_type": "execute_result"
    }
   ],
   "source": [
    "test_images.shape, test_labels.shape"
   ]
  },
  {
   "cell_type": "code",
   "execution_count": 9,
   "id": "f9ed8fe0",
   "metadata": {
    "execution": {
     "iopub.execute_input": "2022-09-26T00:50:16.687549Z",
     "iopub.status.busy": "2022-09-26T00:50:16.686885Z",
     "iopub.status.idle": "2022-09-26T00:50:16.833103Z",
     "shell.execute_reply": "2022-09-26T00:50:16.833603Z"
    },
    "papermill": {
     "duration": 0.178103,
     "end_time": "2022-09-26T00:50:16.833765",
     "exception": false,
     "start_time": "2022-09-26T00:50:16.655662",
     "status": "completed"
    },
    "tags": []
   },
   "outputs": [
    {
     "name": "stdout",
     "output_type": "stream",
     "text": [
      "2\n"
     ]
    },
    {
     "data": {
      "text/plain": [
       "<matplotlib.image.AxesImage at 0x7f91ddf46d30>"
      ]
     },
     "execution_count": 9,
     "metadata": {},
     "output_type": "execute_result"
    },
    {
     "data": {
      "image/png": "[encoded data removed]",
      "text/plain": [
       "<Figure size 432x288 with 1 Axes>"
      ]
     },
     "metadata": {
      "needs_background": "light"
     },
     "output_type": "display_data"
    }
   ],
   "source": [
    "image_index = 7776 # You may select anything up to 60,000\n",
    "print(train_labels[image_index]) \n",
    "plt.imshow(train_images[image_index], cmap='Greys')"
   ]
  },
  {
   "cell_type": "markdown",
   "id": "a8d2388d",
   "metadata": {
    "papermill": {
     "duration": 0.026657,
     "end_time": "2022-09-26T00:50:16.888335",
     "exception": false,
     "start_time": "2022-09-26T00:50:16.861678",
     "status": "completed"
    },
    "tags": []
   },
   "source": [
    "## Filter data to get 3 and 8 out"
   ]
  },
  {
   "cell_type": "code",
   "execution_count": 10,
   "id": "776f7fc7",
   "metadata": {
    "execution": {
     "iopub.execute_input": "2022-09-26T00:50:16.947411Z",
     "iopub.status.busy": "2022-09-26T00:50:16.946765Z",
     "iopub.status.idle": "2022-09-26T00:50:16.965456Z",
     "shell.execute_reply": "2022-09-26T00:50:16.964684Z"
    },
    "papermill": {
     "duration": 0.050081,
     "end_time": "2022-09-26T00:50:16.965598",
     "exception": false,
     "start_time": "2022-09-26T00:50:16.915517",
     "status": "completed"
    },
    "tags": []
   },
   "outputs": [],
   "source": [
    "train_filter = np.where((train_labels == 3 ) | (train_labels == 8))\n",
    "test_filter = np.where((test_labels == 3) | (test_labels == 8))\n",
    "X_train, y_train = train_images[train_filter], train_labels[train_filter]\n",
    "X_test, y_test = test_images[test_filter], test_labels[test_filter]"
   ]
  },
  {
   "cell_type": "markdown",
   "id": "948f0b7e",
   "metadata": {
    "papermill": {
     "duration": 0.029268,
     "end_time": "2022-09-26T00:50:17.023620",
     "exception": false,
     "start_time": "2022-09-26T00:50:16.994352",
     "status": "completed"
    },
    "tags": []
   },
   "source": [
    "We normalize the pizel values in the 0 to 1 range"
   ]
  },
  {
   "cell_type": "code",
   "execution_count": 11,
   "id": "ee4c2166",
   "metadata": {
    "execution": {
     "iopub.execute_input": "2022-09-26T00:50:17.081141Z",
     "iopub.status.busy": "2022-09-26T00:50:17.080468Z",
     "iopub.status.idle": "2022-09-26T00:50:17.134104Z",
     "shell.execute_reply": "2022-09-26T00:50:17.133379Z"
    },
    "papermill": {
     "duration": 0.083882,
     "end_time": "2022-09-26T00:50:17.134264",
     "exception": false,
     "start_time": "2022-09-26T00:50:17.050382",
     "status": "completed"
    },
    "tags": []
   },
   "outputs": [],
   "source": [
    "X_train = X_train/255.\n",
    "X_test = X_test/255."
   ]
  },
  {
   "cell_type": "markdown",
   "id": "ddcf4fab",
   "metadata": {
    "papermill": {
     "duration": 0.026773,
     "end_time": "2022-09-26T00:50:17.189004",
     "exception": false,
     "start_time": "2022-09-26T00:50:17.162231",
     "status": "completed"
    },
    "tags": []
   },
   "source": [
    "And setup the labels as 1 (when the digit is 3) and 0 (when the digit is 8)"
   ]
  },
  {
   "cell_type": "code",
   "execution_count": 12,
   "id": "7dc908f2",
   "metadata": {
    "execution": {
     "iopub.execute_input": "2022-09-26T00:50:17.250389Z",
     "iopub.status.busy": "2022-09-26T00:50:17.249734Z",
     "iopub.status.idle": "2022-09-26T00:50:17.263223Z",
     "shell.execute_reply": "2022-09-26T00:50:17.262676Z"
    },
    "papermill": {
     "duration": 0.046135,
     "end_time": "2022-09-26T00:50:17.263342",
     "exception": false,
     "start_time": "2022-09-26T00:50:17.217207",
     "status": "completed"
    },
    "tags": []
   },
   "outputs": [],
   "source": [
    "y_train = 1*(y_train==3)\n",
    "y_test = 1*(y_test==3)"
   ]
  },
  {
   "cell_type": "code",
   "execution_count": 13,
   "id": "01e4e969",
   "metadata": {
    "execution": {
     "iopub.execute_input": "2022-09-26T00:50:17.326969Z",
     "iopub.status.busy": "2022-09-26T00:50:17.326301Z",
     "iopub.status.idle": "2022-09-26T00:50:17.340848Z",
     "shell.execute_reply": "2022-09-26T00:50:17.340237Z"
    },
    "papermill": {
     "duration": 0.049172,
     "end_time": "2022-09-26T00:50:17.340986",
     "exception": false,
     "start_time": "2022-09-26T00:50:17.291814",
     "status": "completed"
    },
    "tags": []
   },
   "outputs": [
    {
     "data": {
      "text/plain": [
       "((11982, 28, 28), (1984, 28, 28))"
      ]
     },
     "execution_count": 13,
     "metadata": {},
     "output_type": "execute_result"
    }
   ],
   "source": [
    "X_train.shape, X_test.shape"
   ]
  },
  {
   "cell_type": "markdown",
   "id": "5ccf3f85",
   "metadata": {
    "papermill": {
     "duration": 0.028482,
     "end_time": "2022-09-26T00:50:17.397464",
     "exception": false,
     "start_time": "2022-09-26T00:50:17.368982",
     "status": "completed"
    },
    "tags": []
   },
   "source": [
    "We reshape the data to flatten the image pixels into a set of features or co-variates:"
   ]
  },
  {
   "cell_type": "code",
   "execution_count": 14,
   "id": "5286a4a3",
   "metadata": {
    "execution": {
     "iopub.execute_input": "2022-09-26T00:50:17.459396Z",
     "iopub.status.busy": "2022-09-26T00:50:17.458728Z",
     "iopub.status.idle": "2022-09-26T00:50:17.474508Z",
     "shell.execute_reply": "2022-09-26T00:50:17.475028Z"
    },
    "papermill": {
     "duration": 0.048189,
     "end_time": "2022-09-26T00:50:17.475171",
     "exception": false,
     "start_time": "2022-09-26T00:50:17.426982",
     "status": "completed"
    },
    "tags": []
   },
   "outputs": [
    {
     "data": {
      "text/plain": [
       "((11982, 784), (1984, 784))"
      ]
     },
     "execution_count": 14,
     "metadata": {},
     "output_type": "execute_result"
    }
   ],
   "source": [
    "X_train = X_train.reshape(X_train.shape[0], -1)\n",
    "X_test = X_test.reshape(X_test.shape[0], -1)\n",
    "X_train.shape, X_test.shape"
   ]
  },
  {
   "cell_type": "code",
   "execution_count": 15,
   "id": "73c5f88a",
   "metadata": {
    "execution": {
     "iopub.execute_input": "2022-09-26T00:50:17.538104Z",
     "iopub.status.busy": "2022-09-26T00:50:17.537446Z",
     "iopub.status.idle": "2022-09-26T00:50:17.559929Z",
     "shell.execute_reply": "2022-09-26T00:50:17.559285Z"
    },
    "papermill": {
     "duration": 0.055604,
     "end_time": "2022-09-26T00:50:17.560071",
     "exception": false,
     "start_time": "2022-09-26T00:50:17.504467",
     "status": "completed"
    },
    "tags": []
   },
   "outputs": [],
   "source": [
    "#Impoting functions from 'Kudzu'\n",
    "from kudzu.model import Model\n",
    "from kudzu.train import Learner\n",
    "from kudzu.optim import GD\n",
    "from kudzu.data import Data, Sampler,Dataloader\n",
    "\n",
    "from kudzu.callbacks import AccCallback\n",
    "from kudzu.callbacks import ClfCallback\n",
    "\n",
    "from kudzu.loss import MSE\n",
    "\n",
    "from kudzu.layer import Sigmoid,Relu\n",
    "from kudzu.layer import Affine"
   ]
  },
  {
   "cell_type": "markdown",
   "id": "bc01172a",
   "metadata": {
    "papermill": {
     "duration": 0.02751,
     "end_time": "2022-09-26T00:50:17.615225",
     "exception": false,
     "start_time": "2022-09-26T00:50:17.587715",
     "status": "completed"
    },
    "tags": []
   },
   "source": [
    "### Let us create a `Config` class, to store important parameters. \n",
    "This class essentially plays the role of a dictionary."
   ]
  },
  {
   "cell_type": "code",
   "execution_count": 16,
   "id": "978281aa",
   "metadata": {
    "execution": {
     "iopub.execute_input": "2022-09-26T00:50:17.673691Z",
     "iopub.status.busy": "2022-09-26T00:50:17.673035Z",
     "iopub.status.idle": "2022-09-26T00:50:17.684025Z",
     "shell.execute_reply": "2022-09-26T00:50:17.684415Z"
    },
    "papermill": {
     "duration": 0.043801,
     "end_time": "2022-09-26T00:50:17.684540",
     "exception": false,
     "start_time": "2022-09-26T00:50:17.640739",
     "status": "completed"
    },
    "tags": []
   },
   "outputs": [],
   "source": [
    "class Config:\n",
    "    pass\n",
    "config = Config()\n",
    "config.lr = 0.001\n",
    "config.num_epochs = 250\n",
    "config.bs = 50"
   ]
  },
  {
   "cell_type": "markdown",
   "id": "1385fa59",
   "metadata": {
    "papermill": {
     "duration": 0.027788,
     "end_time": "2022-09-26T00:50:17.737522",
     "exception": false,
     "start_time": "2022-09-26T00:50:17.709734",
     "status": "completed"
    },
    "tags": []
   },
   "source": [
    "### Running Models with the Training data\n",
    "Details about the network layers:\n",
    "- A first affine layer has 784 inputs and does 100 affine transforms. These are followed by a Relu\n",
    "- A second affine layer has 100 inputs from the 100 activations of the past layer, and does 100 affine transforms. These are followed by a Relu\n",
    "- A third affine layer has 100 activations and does 2 affine transformations to create an embedding for visualization. There is no non-linearity here.\n",
    "- A final \"logistic regression\" which has an affine transform from 2 inputs to 1 output, which is squeezed through a sigmoid.\n"
   ]
  },
  {
   "cell_type": "code",
   "execution_count": 17,
   "id": "2b9c66db",
   "metadata": {
    "execution": {
     "iopub.execute_input": "2022-09-26T00:50:17.791963Z",
     "iopub.status.busy": "2022-09-26T00:50:17.791333Z",
     "iopub.status.idle": "2022-09-26T00:50:17.805248Z",
     "shell.execute_reply": "2022-09-26T00:50:17.804707Z"
    },
    "papermill": {
     "duration": 0.04222,
     "end_time": "2022-09-26T00:50:17.805375",
     "exception": false,
     "start_time": "2022-09-26T00:50:17.763155",
     "status": "completed"
    },
    "tags": []
   },
   "outputs": [],
   "source": [
    "data = Data(X_train, y_train.reshape(-1,1))\n",
    "sampler = Sampler(data, config.bs, shuffle=True)\n",
    "\n",
    "dl = Dataloader(data, sampler)\n",
    "\n",
    "opt = GD(config.lr)\n",
    "loss = MSE()"
   ]
  },
  {
   "cell_type": "code",
   "execution_count": 18,
   "id": "b275e4c2",
   "metadata": {
    "execution": {
     "iopub.execute_input": "2022-09-26T00:50:17.864014Z",
     "iopub.status.busy": "2022-09-26T00:50:17.863395Z",
     "iopub.status.idle": "2022-09-26T00:50:17.877522Z",
     "shell.execute_reply": "2022-09-26T00:50:17.876975Z"
    },
    "papermill": {
     "duration": 0.045149,
     "end_time": "2022-09-26T00:50:17.877633",
     "exception": false,
     "start_time": "2022-09-26T00:50:17.832484",
     "status": "completed"
    },
    "tags": []
   },
   "outputs": [],
   "source": [
    "training_data_x = X_train\n",
    "testing_data_x = X_test\n",
    "training_data_y = y_train.reshape(-1,1)\n",
    "testing_data_y = y_test.reshape(-1,1)"
   ]
  },
  {
   "cell_type": "code",
   "execution_count": 19,
   "id": "76951160",
   "metadata": {
    "execution": {
     "iopub.execute_input": "2022-09-26T00:50:17.937551Z",
     "iopub.status.busy": "2022-09-26T00:50:17.936892Z",
     "iopub.status.idle": "2022-09-26T00:50:17.955067Z",
     "shell.execute_reply": "2022-09-26T00:50:17.954567Z"
    },
    "papermill": {
     "duration": 0.050524,
     "end_time": "2022-09-26T00:50:17.955172",
     "exception": false,
     "start_time": "2022-09-26T00:50:17.904648",
     "status": "completed"
    },
    "tags": []
   },
   "outputs": [
    {
     "name": "stdout",
     "output_type": "stream",
     "text": [
      "xavier\n",
      "xavier\n",
      "xavier\n",
      "xavier\n",
      "xavier\n"
     ]
    }
   ],
   "source": [
    "layers = [Affine(\"first\", 784, 100), Relu(\"first\"), Affine(\"second\", 100, 100), Relu(\"second\"), Affine(\"third\", 100, 2), Affine(\"last\", 2, 1), Sigmoid(\"last\")]\n",
    "model_nn = Model(layers)\n",
    "model_lr = Model([Affine(\"logits\", 784, 1), Sigmoid(\"sigmoid\")])"
   ]
  },
  {
   "cell_type": "code",
   "execution_count": 20,
   "id": "6eede77a",
   "metadata": {
    "execution": {
     "iopub.execute_input": "2022-09-26T00:50:18.021101Z",
     "iopub.status.busy": "2022-09-26T00:50:18.020464Z",
     "iopub.status.idle": "2022-09-26T00:50:18.031982Z",
     "shell.execute_reply": "2022-09-26T00:50:18.032516Z"
    },
    "papermill": {
     "duration": 0.04854,
     "end_time": "2022-09-26T00:50:18.032658",
     "exception": false,
     "start_time": "2022-09-26T00:50:17.984118",
     "status": "completed"
    },
    "tags": []
   },
   "outputs": [],
   "source": [
    "nn_learner = Learner(loss, model_nn, opt, config.num_epochs)\n",
    "acc_nn = ClfCallback(nn_learner, config.bs, training_data_x , testing_data_x, training_data_y, testing_data_y)\n",
    "nn_learner.set_callbacks([acc_nn])"
   ]
  },
  {
   "cell_type": "code",
   "execution_count": 21,
   "id": "877b6cc7",
   "metadata": {
    "execution": {
     "iopub.execute_input": "2022-09-26T00:50:18.095807Z",
     "iopub.status.busy": "2022-09-26T00:50:18.095124Z",
     "iopub.status.idle": "2022-09-26T00:50:18.109942Z",
     "shell.execute_reply": "2022-09-26T00:50:18.109234Z"
    },
    "papermill": {
     "duration": 0.048287,
     "end_time": "2022-09-26T00:50:18.110069",
     "exception": false,
     "start_time": "2022-09-26T00:50:18.061782",
     "status": "completed"
    },
    "tags": []
   },
   "outputs": [],
   "source": [
    "lr_learner = Learner(loss, model_lr, opt, config.num_epochs)\n",
    "acc_lr = ClfCallback(lr_learner, config.bs, training_data_x , testing_data_x, training_data_y, testing_data_y)\n",
    "lr_learner.set_callbacks([acc_lr])"
   ]
  },
  {
   "cell_type": "code",
   "execution_count": 22,
   "id": "d9b133c3",
   "metadata": {
    "execution": {
     "iopub.execute_input": "2022-09-26T00:50:18.167498Z",
     "iopub.status.busy": "2022-09-26T00:50:18.166957Z",
     "iopub.status.idle": "2022-09-26T00:51:40.558848Z",
     "shell.execute_reply": "2022-09-26T00:51:40.559684Z"
    },
    "papermill": {
     "duration": 82.423787,
     "end_time": "2022-09-26T00:51:40.559825",
     "exception": false,
     "start_time": "2022-09-26T00:50:18.136038",
     "status": "completed"
    },
    "tags": []
   },
   "outputs": [
    {
     "name": "stdout",
     "output_type": "stream",
     "text": [
      "Epoch 0, Loss 0.2522\n",
      "Training Accuracy: 0.4528, Testing Accuracy: 0.4904\n",
      "\n"
     ]
    },
    {
     "name": "stdout",
     "output_type": "stream",
     "text": [
      "Epoch 10, Loss 0.24\n",
      "Training Accuracy: 0.7562, Testing Accuracy: 0.7712\n",
      "\n"
     ]
    },
    {
     "name": "stdout",
     "output_type": "stream",
     "text": [
      "Epoch 20, Loss 0.1861\n",
      "Training Accuracy: 0.8746, Testing Accuracy: 0.8876\n",
      "\n"
     ]
    },
    {
     "name": "stdout",
     "output_type": "stream",
     "text": [
      "Epoch 30, Loss 0.0924\n",
      "Training Accuracy: 0.9102, Testing Accuracy: 0.9274\n",
      "\n"
     ]
    },
    {
     "name": "stdout",
     "output_type": "stream",
     "text": [
      "Epoch 40, Loss 0.0605\n",
      "Training Accuracy: 0.9346, Testing Accuracy: 0.9526\n",
      "\n"
     ]
    },
    {
     "name": "stdout",
     "output_type": "stream",
     "text": [
      "Epoch 50, Loss 0.0479\n",
      "Training Accuracy: 0.9455, Testing Accuracy: 0.9602\n",
      "\n"
     ]
    },
    {
     "name": "stdout",
     "output_type": "stream",
     "text": [
      "Epoch 60, Loss 0.0414\n",
      "Training Accuracy: 0.9515, Testing Accuracy: 0.9632\n",
      "\n"
     ]
    },
    {
     "name": "stdout",
     "output_type": "stream",
     "text": [
      "Epoch 70, Loss 0.0375\n",
      "Training Accuracy: 0.9558, Testing Accuracy: 0.9667\n",
      "\n"
     ]
    },
    {
     "name": "stdout",
     "output_type": "stream",
     "text": [
      "Epoch 80, Loss 0.0348\n",
      "Training Accuracy: 0.9591, Testing Accuracy: 0.9672\n",
      "\n"
     ]
    },
    {
     "name": "stdout",
     "output_type": "stream",
     "text": [
      "Epoch 90, Loss 0.0328\n",
      "Training Accuracy: 0.9610, Testing Accuracy: 0.9682\n",
      "\n"
     ]
    },
    {
     "name": "stdout",
     "output_type": "stream",
     "text": [
      "Epoch 100, Loss 0.0312\n",
      "Training Accuracy: 0.9624, Testing Accuracy: 0.9672\n",
      "\n"
     ]
    },
    {
     "name": "stdout",
     "output_type": "stream",
     "text": [
      "Epoch 110, Loss 0.03\n",
      "Training Accuracy: 0.9640, Testing Accuracy: 0.9677\n",
      "\n"
     ]
    },
    {
     "name": "stdout",
     "output_type": "stream",
     "text": [
      "Epoch 120, Loss 0.0289\n",
      "Training Accuracy: 0.9651, Testing Accuracy: 0.9677\n",
      "\n"
     ]
    },
    {
     "name": "stdout",
     "output_type": "stream",
     "text": [
      "Epoch 130, Loss 0.0279\n",
      "Training Accuracy: 0.9663, Testing Accuracy: 0.9677\n",
      "\n"
     ]
    },
    {
     "name": "stdout",
     "output_type": "stream",
     "text": [
      "Epoch 140, Loss 0.0271\n",
      "Training Accuracy: 0.9673, Testing Accuracy: 0.9682\n",
      "\n"
     ]
    },
    {
     "name": "stdout",
     "output_type": "stream",
     "text": [
      "Epoch 150, Loss 0.0264\n",
      "Training Accuracy: 0.9688, Testing Accuracy: 0.9672\n",
      "\n"
     ]
    },
    {
     "name": "stdout",
     "output_type": "stream",
     "text": [
      "Epoch 160, Loss 0.0257\n",
      "Training Accuracy: 0.9699, Testing Accuracy: 0.9672\n",
      "\n"
     ]
    },
    {
     "name": "stdout",
     "output_type": "stream",
     "text": [
      "Epoch 170, Loss 0.0251\n",
      "Training Accuracy: 0.9709, Testing Accuracy: 0.9672\n",
      "\n"
     ]
    },
    {
     "name": "stdout",
     "output_type": "stream",
     "text": [
      "Epoch 180, Loss 0.0245\n",
      "Training Accuracy: 0.9716, Testing Accuracy: 0.9682\n",
      "\n"
     ]
    },
    {
     "name": "stdout",
     "output_type": "stream",
     "text": [
      "Epoch 190, Loss 0.0239\n",
      "Training Accuracy: 0.9725, Testing Accuracy: 0.9693\n",
      "\n"
     ]
    },
    {
     "name": "stdout",
     "output_type": "stream",
     "text": [
      "Epoch 200, Loss 0.0234\n",
      "Training Accuracy: 0.9729, Testing Accuracy: 0.9698\n",
      "\n"
     ]
    },
    {
     "name": "stdout",
     "output_type": "stream",
     "text": [
      "Epoch 210, Loss 0.023\n",
      "Training Accuracy: 0.9735, Testing Accuracy: 0.9698\n",
      "\n"
     ]
    },
    {
     "name": "stdout",
     "output_type": "stream",
     "text": [
      "Epoch 220, Loss 0.0225\n",
      "Training Accuracy: 0.9736, Testing Accuracy: 0.9708\n",
      "\n"
     ]
    },
    {
     "name": "stdout",
     "output_type": "stream",
     "text": [
      "Epoch 230, Loss 0.0221\n",
      "Training Accuracy: 0.9747, Testing Accuracy: 0.9708\n",
      "\n"
     ]
    },
    {
     "name": "stdout",
     "output_type": "stream",
     "text": [
      "Epoch 240, Loss 0.0217\n",
      "Training Accuracy: 0.9752, Testing Accuracy: 0.9713\n",
      "\n"
     ]
    },
    {
     "data": {
      "text/plain": [
       "0.03450379171724387"
      ]
     },
     "execution_count": 22,
     "metadata": {},
     "output_type": "execute_result"
    }
   ],
   "source": [
    "nn_learner.train_loop(dl)"
   ]
  },
  {
   "cell_type": "code",
   "execution_count": 23,
   "id": "e0163366",
   "metadata": {
    "execution": {
     "iopub.execute_input": "2022-09-26T00:51:40.643354Z",
     "iopub.status.busy": "2022-09-26T00:51:40.642740Z",
     "iopub.status.idle": "2022-09-26T00:51:56.391644Z",
     "shell.execute_reply": "2022-09-26T00:51:56.392602Z"
    },
    "papermill": {
     "duration": 15.796714,
     "end_time": "2022-09-26T00:51:56.392771",
     "exception": false,
     "start_time": "2022-09-26T00:51:40.596057",
     "status": "completed"
    },
    "tags": []
   },
   "outputs": [
    {
     "name": "stdout",
     "output_type": "stream",
     "text": [
      "Epoch 0, Loss 0.2243\n",
      "Training Accuracy: 0.7251, Testing Accuracy: 0.7676\n",
      "\n"
     ]
    },
    {
     "name": "stdout",
     "output_type": "stream",
     "text": [
      "Epoch 10, Loss 0.1039\n",
      "Training Accuracy: 0.9013, Testing Accuracy: 0.9153\n",
      "\n"
     ]
    },
    {
     "name": "stdout",
     "output_type": "stream",
     "text": [
      "Epoch 20, Loss 0.0801\n",
      "Training Accuracy: 0.9236, Testing Accuracy: 0.9370\n",
      "\n"
     ]
    },
    {
     "name": "stdout",
     "output_type": "stream",
     "text": [
      "Epoch 30, Loss 0.0689\n",
      "Training Accuracy: 0.9339, Testing Accuracy: 0.9451\n",
      "\n"
     ]
    },
    {
     "name": "stdout",
     "output_type": "stream",
     "text": [
      "Epoch 40, Loss 0.0622\n",
      "Training Accuracy: 0.9385, Testing Accuracy: 0.9491\n",
      "\n"
     ]
    },
    {
     "name": "stdout",
     "output_type": "stream",
     "text": [
      "Epoch 50, Loss 0.0577\n",
      "Training Accuracy: 0.9412, Testing Accuracy: 0.9556\n",
      "\n"
     ]
    },
    {
     "name": "stdout",
     "output_type": "stream",
     "text": [
      "Epoch 60, Loss 0.0543\n",
      "Training Accuracy: 0.9451, Testing Accuracy: 0.9567\n",
      "\n"
     ]
    },
    {
     "name": "stdout",
     "output_type": "stream",
     "text": [
      "Epoch 70, Loss 0.0518\n",
      "Training Accuracy: 0.9471, Testing Accuracy: 0.9592\n",
      "\n"
     ]
    },
    {
     "name": "stdout",
     "output_type": "stream",
     "text": [
      "Epoch 80, Loss 0.0497\n",
      "Training Accuracy: 0.9485, Testing Accuracy: 0.9582\n",
      "\n"
     ]
    },
    {
     "name": "stdout",
     "output_type": "stream",
     "text": [
      "Epoch 90, Loss 0.048\n",
      "Training Accuracy: 0.9506, Testing Accuracy: 0.9597\n",
      "\n"
     ]
    },
    {
     "name": "stdout",
     "output_type": "stream",
     "text": [
      "Epoch 100, Loss 0.0466\n",
      "Training Accuracy: 0.9518, Testing Accuracy: 0.9612\n",
      "\n"
     ]
    },
    {
     "name": "stdout",
     "output_type": "stream",
     "text": [
      "Epoch 110, Loss 0.0453\n",
      "Training Accuracy: 0.9530, Testing Accuracy: 0.9617\n",
      "\n"
     ]
    },
    {
     "name": "stdout",
     "output_type": "stream",
     "text": [
      "Epoch 120, Loss 0.0443\n",
      "Training Accuracy: 0.9533, Testing Accuracy: 0.9637\n",
      "\n"
     ]
    },
    {
     "name": "stdout",
     "output_type": "stream",
     "text": [
      "Epoch 130, Loss 0.0433\n",
      "Training Accuracy: 0.9540, Testing Accuracy: 0.9642\n",
      "\n"
     ]
    },
    {
     "name": "stdout",
     "output_type": "stream",
     "text": [
      "Epoch 140, Loss 0.0425\n",
      "Training Accuracy: 0.9550, Testing Accuracy: 0.9642\n",
      "\n"
     ]
    },
    {
     "name": "stdout",
     "output_type": "stream",
     "text": [
      "Epoch 150, Loss 0.0417\n",
      "Training Accuracy: 0.9554, Testing Accuracy: 0.9642\n",
      "\n"
     ]
    },
    {
     "name": "stdout",
     "output_type": "stream",
     "text": [
      "Epoch 160, Loss 0.0411\n",
      "Training Accuracy: 0.9561, Testing Accuracy: 0.9652\n",
      "\n"
     ]
    },
    {
     "name": "stdout",
     "output_type": "stream",
     "text": [
      "Epoch 170, Loss 0.0404\n",
      "Training Accuracy: 0.9566, Testing Accuracy: 0.9657\n",
      "\n"
     ]
    },
    {
     "name": "stdout",
     "output_type": "stream",
     "text": [
      "Epoch 180, Loss 0.0399\n",
      "Training Accuracy: 0.9573, Testing Accuracy: 0.9662\n",
      "\n"
     ]
    },
    {
     "name": "stdout",
     "output_type": "stream",
     "text": [
      "Epoch 190, Loss 0.0393\n",
      "Training Accuracy: 0.9577, Testing Accuracy: 0.9667\n",
      "\n"
     ]
    },
    {
     "name": "stdout",
     "output_type": "stream",
     "text": [
      "Epoch 200, Loss 0.0389\n",
      "Training Accuracy: 0.9579, Testing Accuracy: 0.9672\n",
      "\n"
     ]
    },
    {
     "name": "stdout",
     "output_type": "stream",
     "text": [
      "Epoch 210, Loss 0.0384\n",
      "Training Accuracy: 0.9584, Testing Accuracy: 0.9672\n",
      "\n"
     ]
    },
    {
     "name": "stdout",
     "output_type": "stream",
     "text": [
      "Epoch 220, Loss 0.038\n",
      "Training Accuracy: 0.9588, Testing Accuracy: 0.9672\n",
      "\n"
     ]
    },
    {
     "name": "stdout",
     "output_type": "stream",
     "text": [
      "Epoch 230, Loss 0.0376\n",
      "Training Accuracy: 0.9588, Testing Accuracy: 0.9667\n",
      "\n"
     ]
    },
    {
     "name": "stdout",
     "output_type": "stream",
     "text": [
      "Epoch 240, Loss 0.0372\n",
      "Training Accuracy: 0.9593, Testing Accuracy: 0.9662\n",
      "\n"
     ]
    },
    {
     "data": {
      "text/plain": [
       "0.04222404449006887"
      ]
     },
     "execution_count": 23,
     "metadata": {},
     "output_type": "execute_result"
    }
   ],
   "source": [
    "lr_learner.train_loop(dl)"
   ]
  },
  {
   "cell_type": "code",
   "execution_count": 24,
   "id": "ca410940",
   "metadata": {
    "execution": {
     "iopub.execute_input": "2022-09-26T00:51:56.499652Z",
     "iopub.status.busy": "2022-09-26T00:51:56.498952Z",
     "iopub.status.idle": "2022-09-26T00:51:56.763586Z",
     "shell.execute_reply": "2022-09-26T00:51:56.763009Z"
    },
    "papermill": {
     "duration": 0.321887,
     "end_time": "2022-09-26T00:51:56.763722",
     "exception": false,
     "start_time": "2022-09-26T00:51:56.441835",
     "status": "completed"
    },
    "tags": []
   },
   "outputs": [
    {
     "data": {
      "text/plain": [
       "<matplotlib.legend.Legend at 0x7f91d072c320>"
      ]
     },
     "execution_count": 24,
     "metadata": {},
     "output_type": "execute_result"
    },
    {
     "data": {
      "image/png": "[encoded data removed]",
      "text/plain": [
       "<Figure size 1080x720 with 1 Axes>"
      ]
     },
     "metadata": {
      "needs_background": "light"
     },
     "output_type": "display_data"
    }
   ],
   "source": [
    "#comparing the results of NN and LR\n",
    "plt.figure(figsize=(15,10))\n",
    "\n",
    "# Neural Network plots\n",
    "plt.plot(acc_nn.accuracies, 'r-', label = \"Training Accuracies - NN\")\n",
    "plt.plot(acc_nn.test_accuracies, 'g-', label = \"Testing Accuracies - NN\")\n",
    "\n",
    "# Logistic Regression plots\n",
    "plt.plot(acc_lr.accuracies, 'k-', label = \"Training Accuracies - LR\")\n",
    "plt.plot(acc_lr.test_accuracies, 'b-', label = \"Testing Accuracies - LR\")\n",
    "plt.legend()"
   ]
  },
  {
   "cell_type": "markdown",
   "id": "80dfb35c",
   "metadata": {
    "papermill": {
     "duration": 0.046914,
     "end_time": "2022-09-26T00:51:56.857527",
     "exception": false,
     "start_time": "2022-09-26T00:51:56.810613",
     "status": "completed"
    },
    "tags": []
   },
   "source": [
    "#### Plotting the outputs of this layer of the NN.\n"
   ]
  },
  {
   "cell_type": "code",
   "execution_count": 25,
   "id": "45eb2ff5",
   "metadata": {
    "execution": {
     "iopub.execute_input": "2022-09-26T00:51:56.957206Z",
     "iopub.status.busy": "2022-09-26T00:51:56.955965Z",
     "iopub.status.idle": "2022-09-26T00:51:56.978216Z",
     "shell.execute_reply": "2022-09-26T00:51:56.979103Z"
    },
    "papermill": {
     "duration": 0.074462,
     "end_time": "2022-09-26T00:51:56.979271",
     "exception": false,
     "start_time": "2022-09-26T00:51:56.904809",
     "status": "completed"
    },
    "tags": []
   },
   "outputs": [],
   "source": [
    "new_model = Model(layers[:-2])\n",
    "testing_plot = new_model(testing_data_x)"
   ]
  },
  {
   "cell_type": "code",
   "execution_count": 26,
   "id": "4c0a5485",
   "metadata": {
    "execution": {
     "iopub.execute_input": "2022-09-26T00:51:57.087303Z",
     "iopub.status.busy": "2022-09-26T00:51:57.086611Z",
     "iopub.status.idle": "2022-09-26T00:51:57.361652Z",
     "shell.execute_reply": "2022-09-26T00:51:57.362226Z"
    },
    "papermill": {
     "duration": 0.334878,
     "end_time": "2022-09-26T00:51:57.362387",
     "exception": false,
     "start_time": "2022-09-26T00:51:57.027509",
     "status": "completed"
    },
    "tags": []
   },
   "outputs": [
    {
     "data": {
      "text/plain": [
       "Text(0.5, 1.0, 'Outputs')"
      ]
     },
     "execution_count": 26,
     "metadata": {},
     "output_type": "execute_result"
    },
    {
     "data": {
      "image/png": "[encoded data removed]",
      "text/plain": [
       "<Figure size 576x504 with 1 Axes>"
      ]
     },
     "metadata": {
      "needs_background": "light"
     },
     "output_type": "display_data"
    }
   ],
   "source": [
    "# Plotting the scatter plot of points and color coding by class\n",
    "plt.figure(figsize=(8,7))\n",
    "plt.scatter(testing_plot[:,0], testing_plot[:,1], alpha = 0.1, c = y_test.ravel());\n",
    "plt.title('Outputs')"
   ]
  },
  {
   "cell_type": "markdown",
   "id": "a74fcf8f",
   "metadata": {
    "papermill": {
     "duration": 0.051382,
     "end_time": "2022-09-26T00:51:57.465686",
     "exception": false,
     "start_time": "2022-09-26T00:51:57.414304",
     "status": "completed"
    },
    "tags": []
   },
   "source": [
    "Probability contours"
   ]
  },
  {
   "cell_type": "code",
   "execution_count": 27,
   "id": "d0afc8e3",
   "metadata": {
    "execution": {
     "iopub.execute_input": "2022-09-26T00:51:57.607363Z",
     "iopub.status.busy": "2022-09-26T00:51:57.606681Z",
     "iopub.status.idle": "2022-09-26T00:51:57.621406Z",
     "shell.execute_reply": "2022-09-26T00:51:57.620849Z"
    },
    "papermill": {
     "duration": 0.104185,
     "end_time": "2022-09-26T00:51:57.621535",
     "exception": false,
     "start_time": "2022-09-26T00:51:57.517350",
     "status": "completed"
    },
    "tags": []
   },
   "outputs": [],
   "source": [
    "model_prob = Model(layers[-2:]) "
   ]
  },
  {
   "cell_type": "code",
   "execution_count": 28,
   "id": "9b96e238",
   "metadata": {
    "execution": {
     "iopub.execute_input": "2022-09-26T00:51:57.731975Z",
     "iopub.status.busy": "2022-09-26T00:51:57.731245Z",
     "iopub.status.idle": "2022-09-26T00:51:57.748211Z",
     "shell.execute_reply": "2022-09-26T00:51:57.748706Z"
    },
    "papermill": {
     "duration": 0.074977,
     "end_time": "2022-09-26T00:51:57.748866",
     "exception": false,
     "start_time": "2022-09-26T00:51:57.673889",
     "status": "completed"
    },
    "tags": []
   },
   "outputs": [],
   "source": [
    "#creating the x and y ranges according to the above generated plot.\n",
    "x_range = np.linspace(-4, 1, 100) \n",
    "y_range = np.linspace(-6, 6, 100) \n",
    "x_grid, y_grid = np.meshgrid(x_range, y_range) # x_grid and y_grig are of size 100 X 100\n",
    "\n",
    "# converting x_grid and y_grid to continuous arrays\n",
    "x_gridflat = np.ravel(x_grid)\n",
    "y_gridflat = np.ravel(y_grid)\n",
    "\n",
    "# The last layer of the current model takes two columns as input. Hence transpose of np.vstack() is required.\n",
    "X = np.vstack((x_gridflat, y_gridflat)).T\n",
    "\n",
    "prob_contour = model_prob(X).reshape(100,100) "
   ]
  },
  {
   "cell_type": "code",
   "execution_count": 29,
   "id": "da72499a",
   "metadata": {
    "execution": {
     "iopub.execute_input": "2022-09-26T00:51:57.859795Z",
     "iopub.status.busy": "2022-09-26T00:51:57.858999Z",
     "iopub.status.idle": "2022-09-26T00:51:58.177048Z",
     "shell.execute_reply": "2022-09-26T00:51:58.177555Z"
    },
    "papermill": {
     "duration": 0.376872,
     "end_time": "2022-09-26T00:51:58.177717",
     "exception": false,
     "start_time": "2022-09-26T00:51:57.800845",
     "status": "completed"
    },
    "tags": []
   },
   "outputs": [
    {
     "data": {
      "image/png": "[encoded data removed]",
      "text/plain": [
       "<Figure size 720x648 with 1 Axes>"
      ]
     },
     "metadata": {
      "needs_background": "light"
     },
     "output_type": "display_data"
    }
   ],
   "source": [
    "plt.figure(figsize=(10,9))\n",
    "plt.scatter(testing_plot[:,0], testing_plot[:,1], alpha = 0.1, c = y_test.ravel())\n",
    "contours = plt.contour(x_grid,y_grid,prob_contour)\n",
    "plt.title('Probability Contours')\n",
    "plt.clabel(contours, inline = True );"
   ]
  },
  {
   "cell_type": "code",
   "execution_count": null,
   "id": "e81b4ac7",
   "metadata": {
    "papermill": {
     "duration": 0.054677,
     "end_time": "2022-09-26T00:51:58.287396",
     "exception": false,
     "start_time": "2022-09-26T00:51:58.232719",
     "status": "completed"
    },
    "tags": []
   },
   "outputs": [],
   "source": []
  }
 ],
 "metadata": {
  "kernelspec": {
   "display_name": "Python 3",
   "language": "python",
   "name": "python3"
  },
  "language_info": {
   "codemirror_mode": {
    "name": "ipython",
    "version": 3
   },
   "file_extension": ".py",
   "mimetype": "text/x-python",
   "name": "python",
   "nbconvert_exporter": "python",
   "pygments_lexer": "ipython3",
   "version": "3.6.15"
  },
  "papermill": {
   "default_parameters": {},
   "duration": 107.907549,
   "end_time": "2022-09-26T00:51:58.763485",
   "environment_variables": {},
   "exception": null,
   "input_path": "2020-08-11-part2.ipynb",
   "output_path": "2020-08-11-part2.ipynb",
   "parameters": {},
   "start_time": "2022-09-26T00:50:10.855936",
   "version": "2.3.3"
  }
 },
 "nbformat": 4,
 "nbformat_minor": 5
}