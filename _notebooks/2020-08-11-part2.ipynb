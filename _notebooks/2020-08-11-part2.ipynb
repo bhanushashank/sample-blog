{
 "cells": [
  {
   "cell_type": "markdown",
   "id": "98380cd3",
   "metadata": {
    "papermill": {
     "duration": 0.029019,
     "end_time": "2022-07-16T00:42:31.286297",
     "exception": false,
     "start_time": "2022-07-16T00:42:31.257278",
     "status": "completed"
    },
    "tags": []
   },
   "source": [
    "# Distinguish Your Own Digits (DYOD)"
   ]
  },
  {
   "cell_type": "markdown",
   "id": "ef31240d",
   "metadata": {
    "papermill": {
     "duration": 0.023845,
     "end_time": "2022-07-16T00:42:31.334713",
     "exception": false,
     "start_time": "2022-07-16T00:42:31.310868",
     "status": "completed"
    },
    "tags": []
   },
   "source": [
    "You are going to write a classifier that distinguishes between the number 3 and number 8."
   ]
  },
  {
   "cell_type": "code",
   "execution_count": 1,
   "id": "b15c8646",
   "metadata": {
    "execution": {
     "iopub.execute_input": "2022-07-16T00:42:31.392189Z",
     "iopub.status.busy": "2022-07-16T00:42:31.389983Z",
     "iopub.status.idle": "2022-07-16T00:42:31.402352Z",
     "shell.execute_reply": "2022-07-16T00:42:31.401895Z"
    },
    "papermill": {
     "duration": 0.043975,
     "end_time": "2022-07-16T00:42:31.402465",
     "exception": false,
     "start_time": "2022-07-16T00:42:31.358490",
     "status": "completed"
    },
    "tags": []
   },
   "outputs": [],
   "source": [
    "%load_ext autoreload\n",
    "%autoreload 2"
   ]
  },
  {
   "cell_type": "code",
   "execution_count": 2,
   "id": "22ef38dc",
   "metadata": {
    "execution": {
     "iopub.execute_input": "2022-07-16T00:42:31.454603Z",
     "iopub.status.busy": "2022-07-16T00:42:31.454043Z",
     "iopub.status.idle": "2022-07-16T00:42:31.957788Z",
     "shell.execute_reply": "2022-07-16T00:42:31.956641Z"
    },
    "papermill": {
     "duration": 0.531415,
     "end_time": "2022-07-16T00:42:31.957915",
     "exception": false,
     "start_time": "2022-07-16T00:42:31.426500",
     "status": "completed"
    },
    "tags": []
   },
   "outputs": [],
   "source": [
    "%matplotlib inline\n",
    "import numpy as np\n",
    "import matplotlib.pyplot as plt\n",
    "import pandas as pd"
   ]
  },
  {
   "cell_type": "markdown",
   "id": "ba036198",
   "metadata": {
    "papermill": {
     "duration": 0.02396,
     "end_time": "2022-07-16T00:42:32.005867",
     "exception": false,
     "start_time": "2022-07-16T00:42:31.981907",
     "status": "completed"
    },
    "tags": []
   },
   "source": [
    "From the command line run `pip install mnist`. This is a library that will help you bring down the mnist dataset. If you run this from a notebook, you need to put  `!pip install mnist` in a cell by itself."
   ]
  },
  {
   "cell_type": "code",
   "execution_count": 3,
   "id": "bb6ad8a1",
   "metadata": {
    "execution": {
     "iopub.execute_input": "2022-07-16T00:42:32.060023Z",
     "iopub.status.busy": "2022-07-16T00:42:32.056731Z",
     "iopub.status.idle": "2022-07-16T00:42:33.742552Z",
     "shell.execute_reply": "2022-07-16T00:42:33.743019Z"
    },
    "papermill": {
     "duration": 1.713414,
     "end_time": "2022-07-16T00:42:33.743152",
     "exception": false,
     "start_time": "2022-07-16T00:42:32.029738",
     "status": "completed"
    },
    "tags": []
   },
   "outputs": [
    {
     "name": "stdout",
     "output_type": "stream",
     "text": [
      "Collecting mnist\r\n"
     ]
    },
    {
     "name": "stdout",
     "output_type": "stream",
     "text": [
      "  Downloading mnist-0.2.2-py2.py3-none-any.whl (3.5 kB)\r\n",
      "Requirement already satisfied: numpy in /opt/hostedtoolcache/Python/3.6.15/x64/lib/python3.6/site-packages (from mnist) (1.19.5)\r\n"
     ]
    },
    {
     "name": "stdout",
     "output_type": "stream",
     "text": [
      "Installing collected packages: mnist\r\n"
     ]
    },
    {
     "name": "stdout",
     "output_type": "stream",
     "text": [
      "Successfully installed mnist-0.2.2\r\n"
     ]
    }
   ],
   "source": [
    "!pip install mnist"
   ]
  },
  {
   "cell_type": "markdown",
   "id": "69df9c9a",
   "metadata": {
    "papermill": {
     "duration": 0.025114,
     "end_time": "2022-07-16T00:42:33.793556",
     "exception": false,
     "start_time": "2022-07-16T00:42:33.768442",
     "status": "completed"
    },
    "tags": []
   },
   "source": [
    "## Preparing the Data"
   ]
  },
  {
   "cell_type": "code",
   "execution_count": 4,
   "id": "7f69d806",
   "metadata": {
    "execution": {
     "iopub.execute_input": "2022-07-16T00:42:33.847514Z",
     "iopub.status.busy": "2022-07-16T00:42:33.846974Z",
     "iopub.status.idle": "2022-07-16T00:42:33.860278Z",
     "shell.execute_reply": "2022-07-16T00:42:33.860783Z"
    },
    "papermill": {
     "duration": 0.042386,
     "end_time": "2022-07-16T00:42:33.860898",
     "exception": false,
     "start_time": "2022-07-16T00:42:33.818512",
     "status": "completed"
    },
    "tags": []
   },
   "outputs": [],
   "source": [
    "import mnist"
   ]
  },
  {
   "cell_type": "code",
   "execution_count": 5,
   "id": "a411e44f",
   "metadata": {
    "execution": {
     "iopub.execute_input": "2022-07-16T00:42:33.913779Z",
     "iopub.status.busy": "2022-07-16T00:42:33.913228Z",
     "iopub.status.idle": "2022-07-16T00:42:34.656134Z",
     "shell.execute_reply": "2022-07-16T00:42:34.655631Z"
    },
    "papermill": {
     "duration": 0.77041,
     "end_time": "2022-07-16T00:42:34.656259",
     "exception": false,
     "start_time": "2022-07-16T00:42:33.885849",
     "status": "completed"
    },
    "tags": []
   },
   "outputs": [],
   "source": [
    "train_images = mnist.train_images()\n",
    "train_labels = mnist.train_labels()"
   ]
  },
  {
   "cell_type": "code",
   "execution_count": 6,
   "id": "dceab3a5",
   "metadata": {
    "execution": {
     "iopub.execute_input": "2022-07-16T00:42:34.710417Z",
     "iopub.status.busy": "2022-07-16T00:42:34.709864Z",
     "iopub.status.idle": "2022-07-16T00:42:34.724019Z",
     "shell.execute_reply": "2022-07-16T00:42:34.723551Z"
    },
    "papermill": {
     "duration": 0.042636,
     "end_time": "2022-07-16T00:42:34.724123",
     "exception": false,
     "start_time": "2022-07-16T00:42:34.681487",
     "status": "completed"
    },
    "tags": []
   },
   "outputs": [
    {
     "data": {
      "text/plain": [
       "((60000, 28, 28), (60000,))"
      ]
     },
     "execution_count": 6,
     "metadata": {},
     "output_type": "execute_result"
    }
   ],
   "source": [
    "train_images.shape, train_labels.shape"
   ]
  },
  {
   "cell_type": "code",
   "execution_count": 7,
   "id": "f50dc2bb",
   "metadata": {
    "execution": {
     "iopub.execute_input": "2022-07-16T00:42:34.778362Z",
     "iopub.status.busy": "2022-07-16T00:42:34.777816Z",
     "iopub.status.idle": "2022-07-16T00:42:34.986155Z",
     "shell.execute_reply": "2022-07-16T00:42:34.985636Z"
    },
    "papermill": {
     "duration": 0.236998,
     "end_time": "2022-07-16T00:42:34.986270",
     "exception": false,
     "start_time": "2022-07-16T00:42:34.749272",
     "status": "completed"
    },
    "tags": []
   },
   "outputs": [],
   "source": [
    "test_images = mnist.test_images()\n",
    "test_labels = mnist.test_labels()"
   ]
  },
  {
   "cell_type": "code",
   "execution_count": 8,
   "id": "fc38cf1b",
   "metadata": {
    "execution": {
     "iopub.execute_input": "2022-07-16T00:42:35.040573Z",
     "iopub.status.busy": "2022-07-16T00:42:35.040021Z",
     "iopub.status.idle": "2022-07-16T00:42:35.052907Z",
     "shell.execute_reply": "2022-07-16T00:42:35.052452Z"
    },
    "papermill": {
     "duration": 0.041285,
     "end_time": "2022-07-16T00:42:35.053008",
     "exception": false,
     "start_time": "2022-07-16T00:42:35.011723",
     "status": "completed"
    },
    "tags": []
   },
   "outputs": [
    {
     "data": {
      "text/plain": [
       "((10000, 28, 28), (10000,))"
      ]
     },
     "execution_count": 8,
     "metadata": {},
     "output_type": "execute_result"
    }
   ],
   "source": [
    "test_images.shape, test_labels.shape"
   ]
  },
  {
   "cell_type": "code",
   "execution_count": 9,
   "id": "f9ed8fe0",
   "metadata": {
    "execution": {
     "iopub.execute_input": "2022-07-16T00:42:35.107323Z",
     "iopub.status.busy": "2022-07-16T00:42:35.106780Z",
     "iopub.status.idle": "2022-07-16T00:42:35.237360Z",
     "shell.execute_reply": "2022-07-16T00:42:35.237789Z"
    },
    "papermill": {
     "duration": 0.159142,
     "end_time": "2022-07-16T00:42:35.237914",
     "exception": false,
     "start_time": "2022-07-16T00:42:35.078772",
     "status": "completed"
    },
    "tags": []
   },
   "outputs": [
    {
     "name": "stdout",
     "output_type": "stream",
     "text": [
      "2\n"
     ]
    },
    {
     "data": {
      "text/plain": [
       "<matplotlib.image.AxesImage at 0x7f2c8f418550>"
      ]
     },
     "execution_count": 9,
     "metadata": {},
     "output_type": "execute_result"
    },
    {
     "data": {
      "image/png": "[encoded data removed]",
      "text/plain": [
       "<Figure size 432x288 with 1 Axes>"
      ]
     },
     "metadata": {
      "needs_background": "light"
     },
     "output_type": "display_data"
    }
   ],
   "source": [
    "image_index = 7776 # You may select anything up to 60,000\n",
    "print(train_labels[image_index]) \n",
    "plt.imshow(train_images[image_index], cmap='Greys')"
   ]
  },
  {
   "cell_type": "markdown",
   "id": "a8d2388d",
   "metadata": {
    "papermill": {
     "duration": 0.026627,
     "end_time": "2022-07-16T00:42:35.291283",
     "exception": false,
     "start_time": "2022-07-16T00:42:35.264656",
     "status": "completed"
    },
    "tags": []
   },
   "source": [
    "## Filter data to get 3 and 8 out"
   ]
  },
  {
   "cell_type": "code",
   "execution_count": 10,
   "id": "776f7fc7",
   "metadata": {
    "execution": {
     "iopub.execute_input": "2022-07-16T00:42:35.348146Z",
     "iopub.status.busy": "2022-07-16T00:42:35.347558Z",
     "iopub.status.idle": "2022-07-16T00:42:35.364182Z",
     "shell.execute_reply": "2022-07-16T00:42:35.363724Z"
    },
    "papermill": {
     "duration": 0.046598,
     "end_time": "2022-07-16T00:42:35.364281",
     "exception": false,
     "start_time": "2022-07-16T00:42:35.317683",
     "status": "completed"
    },
    "tags": []
   },
   "outputs": [],
   "source": [
    "train_filter = np.where((train_labels == 3 ) | (train_labels == 8))\n",
    "test_filter = np.where((test_labels == 3) | (test_labels == 8))\n",
    "X_train, y_train = train_images[train_filter], train_labels[train_filter]\n",
    "X_test, y_test = test_images[test_filter], test_labels[test_filter]"
   ]
  },
  {
   "cell_type": "markdown",
   "id": "948f0b7e",
   "metadata": {
    "papermill": {
     "duration": 0.02647,
     "end_time": "2022-07-16T00:42:35.417415",
     "exception": false,
     "start_time": "2022-07-16T00:42:35.390945",
     "status": "completed"
    },
    "tags": []
   },
   "source": [
    "We normalize the pizel values in the 0 to 1 range"
   ]
  },
  {
   "cell_type": "code",
   "execution_count": 11,
   "id": "ee4c2166",
   "metadata": {
    "execution": {
     "iopub.execute_input": "2022-07-16T00:42:35.473539Z",
     "iopub.status.busy": "2022-07-16T00:42:35.472998Z",
     "iopub.status.idle": "2022-07-16T00:42:35.512699Z",
     "shell.execute_reply": "2022-07-16T00:42:35.513120Z"
    },
    "papermill": {
     "duration": 0.069408,
     "end_time": "2022-07-16T00:42:35.513254",
     "exception": false,
     "start_time": "2022-07-16T00:42:35.443846",
     "status": "completed"
    },
    "tags": []
   },
   "outputs": [],
   "source": [
    "X_train = X_train/255.\n",
    "X_test = X_test/255."
   ]
  },
  {
   "cell_type": "markdown",
   "id": "ddcf4fab",
   "metadata": {
    "papermill": {
     "duration": 0.027114,
     "end_time": "2022-07-16T00:42:35.567153",
     "exception": false,
     "start_time": "2022-07-16T00:42:35.540039",
     "status": "completed"
    },
    "tags": []
   },
   "source": [
    "And setup the labels as 1 (when the digit is 3) and 0 (when the digit is 8)"
   ]
  },
  {
   "cell_type": "code",
   "execution_count": 12,
   "id": "7dc908f2",
   "metadata": {
    "execution": {
     "iopub.execute_input": "2022-07-16T00:42:35.624059Z",
     "iopub.status.busy": "2022-07-16T00:42:35.623489Z",
     "iopub.status.idle": "2022-07-16T00:42:35.634950Z",
     "shell.execute_reply": "2022-07-16T00:42:35.634504Z"
    },
    "papermill": {
     "duration": 0.041388,
     "end_time": "2022-07-16T00:42:35.635047",
     "exception": false,
     "start_time": "2022-07-16T00:42:35.593659",
     "status": "completed"
    },
    "tags": []
   },
   "outputs": [],
   "source": [
    "y_train = 1*(y_train==3)\n",
    "y_test = 1*(y_test==3)"
   ]
  },
  {
   "cell_type": "code",
   "execution_count": 13,
   "id": "01e4e969",
   "metadata": {
    "execution": {
     "iopub.execute_input": "2022-07-16T00:42:35.691441Z",
     "iopub.status.busy": "2022-07-16T00:42:35.690901Z",
     "iopub.status.idle": "2022-07-16T00:42:35.703690Z",
     "shell.execute_reply": "2022-07-16T00:42:35.703252Z"
    },
    "papermill": {
     "duration": 0.042163,
     "end_time": "2022-07-16T00:42:35.703788",
     "exception": false,
     "start_time": "2022-07-16T00:42:35.661625",
     "status": "completed"
    },
    "tags": []
   },
   "outputs": [
    {
     "data": {
      "text/plain": [
       "((11982, 28, 28), (1984, 28, 28))"
      ]
     },
     "execution_count": 13,
     "metadata": {},
     "output_type": "execute_result"
    }
   ],
   "source": [
    "X_train.shape, X_test.shape"
   ]
  },
  {
   "cell_type": "markdown",
   "id": "5ccf3f85",
   "metadata": {
    "papermill": {
     "duration": 0.026762,
     "end_time": "2022-07-16T00:42:35.757338",
     "exception": false,
     "start_time": "2022-07-16T00:42:35.730576",
     "status": "completed"
    },
    "tags": []
   },
   "source": [
    "We reshape the data to flatten the image pixels into a set of features or co-variates:"
   ]
  },
  {
   "cell_type": "code",
   "execution_count": 14,
   "id": "5286a4a3",
   "metadata": {
    "execution": {
     "iopub.execute_input": "2022-07-16T00:42:35.814888Z",
     "iopub.status.busy": "2022-07-16T00:42:35.814326Z",
     "iopub.status.idle": "2022-07-16T00:42:35.827645Z",
     "shell.execute_reply": "2022-07-16T00:42:35.827112Z"
    },
    "papermill": {
     "duration": 0.043529,
     "end_time": "2022-07-16T00:42:35.827743",
     "exception": false,
     "start_time": "2022-07-16T00:42:35.784214",
     "status": "completed"
    },
    "tags": []
   },
   "outputs": [
    {
     "data": {
      "text/plain": [
       "((11982, 784), (1984, 784))"
      ]
     },
     "execution_count": 14,
     "metadata": {},
     "output_type": "execute_result"
    }
   ],
   "source": [
    "X_train = X_train.reshape(X_train.shape[0], -1)\n",
    "X_test = X_test.reshape(X_test.shape[0], -1)\n",
    "X_train.shape, X_test.shape"
   ]
  },
  {
   "cell_type": "code",
   "execution_count": 15,
   "id": "73c5f88a",
   "metadata": {
    "execution": {
     "iopub.execute_input": "2022-07-16T00:42:35.885675Z",
     "iopub.status.busy": "2022-07-16T00:42:35.885122Z",
     "iopub.status.idle": "2022-07-16T00:42:35.902775Z",
     "shell.execute_reply": "2022-07-16T00:42:35.902321Z"
    },
    "papermill": {
     "duration": 0.048111,
     "end_time": "2022-07-16T00:42:35.902873",
     "exception": false,
     "start_time": "2022-07-16T00:42:35.854762",
     "status": "completed"
    },
    "tags": []
   },
   "outputs": [],
   "source": [
    "#Impoting functions from 'Kudzu'\n",
    "from kudzu.model import Model\n",
    "from kudzu.train import Learner\n",
    "from kudzu.optim import GD\n",
    "from kudzu.data import Data, Sampler,Dataloader\n",
    "\n",
    "from kudzu.callbacks import AccCallback\n",
    "from kudzu.callbacks import ClfCallback\n",
    "\n",
    "from kudzu.loss import MSE\n",
    "\n",
    "from kudzu.layer import Sigmoid,Relu\n",
    "from kudzu.layer import Affine"
   ]
  },
  {
   "cell_type": "markdown",
   "id": "bc01172a",
   "metadata": {
    "papermill": {
     "duration": 0.027266,
     "end_time": "2022-07-16T00:42:35.957493",
     "exception": false,
     "start_time": "2022-07-16T00:42:35.930227",
     "status": "completed"
    },
    "tags": []
   },
   "source": [
    "### Let us create a `Config` class, to store important parameters. \n",
    "This class essentially plays the role of a dictionary."
   ]
  },
  {
   "cell_type": "code",
   "execution_count": 16,
   "id": "978281aa",
   "metadata": {
    "execution": {
     "iopub.execute_input": "2022-07-16T00:42:36.015231Z",
     "iopub.status.busy": "2022-07-16T00:42:36.014677Z",
     "iopub.status.idle": "2022-07-16T00:42:36.026668Z",
     "shell.execute_reply": "2022-07-16T00:42:36.026221Z"
    },
    "papermill": {
     "duration": 0.042231,
     "end_time": "2022-07-16T00:42:36.026769",
     "exception": false,
     "start_time": "2022-07-16T00:42:35.984538",
     "status": "completed"
    },
    "tags": []
   },
   "outputs": [],
   "source": [
    "class Config:\n",
    "    pass\n",
    "config = Config()\n",
    "config.lr = 0.001\n",
    "config.num_epochs = 250\n",
    "config.bs = 50"
   ]
  },
  {
   "cell_type": "markdown",
   "id": "1385fa59",
   "metadata": {
    "papermill": {
     "duration": 0.027068,
     "end_time": "2022-07-16T00:42:36.081030",
     "exception": false,
     "start_time": "2022-07-16T00:42:36.053962",
     "status": "completed"
    },
    "tags": []
   },
   "source": [
    "### Running Models with the Training data\n",
    "Details about the network layers:\n",
    "- A first affine layer has 784 inputs and does 100 affine transforms. These are followed by a Relu\n",
    "- A second affine layer has 100 inputs from the 100 activations of the past layer, and does 100 affine transforms. These are followed by a Relu\n",
    "- A third affine layer has 100 activations and does 2 affine transformations to create an embedding for visualization. There is no non-linearity here.\n",
    "- A final \"logistic regression\" which has an affine transform from 2 inputs to 1 output, which is squeezed through a sigmoid.\n"
   ]
  },
  {
   "cell_type": "code",
   "execution_count": 17,
   "id": "2b9c66db",
   "metadata": {
    "execution": {
     "iopub.execute_input": "2022-07-16T00:42:36.139051Z",
     "iopub.status.busy": "2022-07-16T00:42:36.138495Z",
     "iopub.status.idle": "2022-07-16T00:42:36.150463Z",
     "shell.execute_reply": "2022-07-16T00:42:36.150017Z"
    },
    "papermill": {
     "duration": 0.042423,
     "end_time": "2022-07-16T00:42:36.150558",
     "exception": false,
     "start_time": "2022-07-16T00:42:36.108135",
     "status": "completed"
    },
    "tags": []
   },
   "outputs": [],
   "source": [
    "data = Data(X_train, y_train.reshape(-1,1))\n",
    "sampler = Sampler(data, config.bs, shuffle=True)\n",
    "\n",
    "dl = Dataloader(data, sampler)\n",
    "\n",
    "opt = GD(config.lr)\n",
    "loss = MSE()"
   ]
  },
  {
   "cell_type": "code",
   "execution_count": 18,
   "id": "b275e4c2",
   "metadata": {
    "execution": {
     "iopub.execute_input": "2022-07-16T00:42:36.208419Z",
     "iopub.status.busy": "2022-07-16T00:42:36.207824Z",
     "iopub.status.idle": "2022-07-16T00:42:36.219340Z",
     "shell.execute_reply": "2022-07-16T00:42:36.219752Z"
    },
    "papermill": {
     "duration": 0.042188,
     "end_time": "2022-07-16T00:42:36.219880",
     "exception": false,
     "start_time": "2022-07-16T00:42:36.177692",
     "status": "completed"
    },
    "tags": []
   },
   "outputs": [],
   "source": [
    "training_data_x = X_train\n",
    "testing_data_x = X_test\n",
    "training_data_y = y_train.reshape(-1,1)\n",
    "testing_data_y = y_test.reshape(-1,1)"
   ]
  },
  {
   "cell_type": "code",
   "execution_count": 19,
   "id": "76951160",
   "metadata": {
    "execution": {
     "iopub.execute_input": "2022-07-16T00:42:36.278048Z",
     "iopub.status.busy": "2022-07-16T00:42:36.277479Z",
     "iopub.status.idle": "2022-07-16T00:42:36.293838Z",
     "shell.execute_reply": "2022-07-16T00:42:36.293308Z"
    },
    "papermill": {
     "duration": 0.047123,
     "end_time": "2022-07-16T00:42:36.293940",
     "exception": false,
     "start_time": "2022-07-16T00:42:36.246817",
     "status": "completed"
    },
    "tags": []
   },
   "outputs": [
    {
     "name": "stdout",
     "output_type": "stream",
     "text": [
      "xavier\n",
      "xavier\n",
      "xavier\n",
      "xavier\n",
      "xavier\n"
     ]
    }
   ],
   "source": [
    "layers = [Affine(\"first\", 784, 100), Relu(\"first\"), Affine(\"second\", 100, 100), Relu(\"second\"), Affine(\"third\", 100, 2), Affine(\"last\", 2, 1), Sigmoid(\"last\")]\n",
    "model_nn = Model(layers)\n",
    "model_lr = Model([Affine(\"logits\", 784, 1), Sigmoid(\"sigmoid\")])"
   ]
  },
  {
   "cell_type": "code",
   "execution_count": 20,
   "id": "6eede77a",
   "metadata": {
    "execution": {
     "iopub.execute_input": "2022-07-16T00:42:36.352591Z",
     "iopub.status.busy": "2022-07-16T00:42:36.352039Z",
     "iopub.status.idle": "2022-07-16T00:42:36.364102Z",
     "shell.execute_reply": "2022-07-16T00:42:36.363636Z"
    },
    "papermill": {
     "duration": 0.04262,
     "end_time": "2022-07-16T00:42:36.364203",
     "exception": false,
     "start_time": "2022-07-16T00:42:36.321583",
     "status": "completed"
    },
    "tags": []
   },
   "outputs": [],
   "source": [
    "nn_learner = Learner(loss, model_nn, opt, config.num_epochs)\n",
    "acc_nn = ClfCallback(nn_learner, config.bs, training_data_x , testing_data_x, training_data_y, testing_data_y)\n",
    "nn_learner.set_callbacks([acc_nn])"
   ]
  },
  {
   "cell_type": "code",
   "execution_count": 21,
   "id": "877b6cc7",
   "metadata": {
    "execution": {
     "iopub.execute_input": "2022-07-16T00:42:36.422587Z",
     "iopub.status.busy": "2022-07-16T00:42:36.422031Z",
     "iopub.status.idle": "2022-07-16T00:42:36.433796Z",
     "shell.execute_reply": "2022-07-16T00:42:36.434244Z"
    },
    "papermill": {
     "duration": 0.042551,
     "end_time": "2022-07-16T00:42:36.434356",
     "exception": false,
     "start_time": "2022-07-16T00:42:36.391805",
     "status": "completed"
    },
    "tags": []
   },
   "outputs": [],
   "source": [
    "lr_learner = Learner(loss, model_lr, opt, config.num_epochs)\n",
    "acc_lr = ClfCallback(lr_learner, config.bs, training_data_x , testing_data_x, training_data_y, testing_data_y)\n",
    "lr_learner.set_callbacks([acc_lr])"
   ]
  },
  {
   "cell_type": "code",
   "execution_count": 22,
   "id": "d9b133c3",
   "metadata": {
    "execution": {
     "iopub.execute_input": "2022-07-16T00:42:36.492136Z",
     "iopub.status.busy": "2022-07-16T00:42:36.491567Z",
     "iopub.status.idle": "2022-07-16T00:45:31.373897Z",
     "shell.execute_reply": "2022-07-16T00:45:31.374357Z"
    },
    "papermill": {
     "duration": 174.912677,
     "end_time": "2022-07-16T00:45:31.374489",
     "exception": false,
     "start_time": "2022-07-16T00:42:36.461812",
     "status": "completed"
    },
    "tags": []
   },
   "outputs": [
    {
     "name": "stdout",
     "output_type": "stream",
     "text": [
      "Epoch 0, Loss 0.2399\n",
      "Training Accuracy: 0.7439, Testing Accuracy: 0.7762\n",
      "\n"
     ]
    },
    {
     "name": "stdout",
     "output_type": "stream",
     "text": [
      "Epoch 10, Loss 0.0591\n",
      "Training Accuracy: 0.9397, Testing Accuracy: 0.9516\n",
      "\n"
     ]
    },
    {
     "name": "stdout",
     "output_type": "stream",
     "text": [
      "Epoch 20, Loss 0.0422\n",
      "Training Accuracy: 0.9529, Testing Accuracy: 0.9632\n",
      "\n"
     ]
    },
    {
     "name": "stdout",
     "output_type": "stream",
     "text": [
      "Epoch 30, Loss 0.0354\n",
      "Training Accuracy: 0.9604, Testing Accuracy: 0.9672\n",
      "\n"
     ]
    },
    {
     "name": "stdout",
     "output_type": "stream",
     "text": [
      "Epoch 40, Loss 0.0315\n",
      "Training Accuracy: 0.9654, Testing Accuracy: 0.9708\n",
      "\n"
     ]
    },
    {
     "name": "stdout",
     "output_type": "stream",
     "text": [
      "Epoch 50, Loss 0.0289\n",
      "Training Accuracy: 0.9675, Testing Accuracy: 0.9713\n",
      "\n"
     ]
    },
    {
     "name": "stdout",
     "output_type": "stream",
     "text": [
      "Epoch 60, Loss 0.027\n",
      "Training Accuracy: 0.9689, Testing Accuracy: 0.9728\n",
      "\n"
     ]
    },
    {
     "name": "stdout",
     "output_type": "stream",
     "text": [
      "Epoch 70, Loss 0.0255\n",
      "Training Accuracy: 0.9708, Testing Accuracy: 0.9738\n",
      "\n"
     ]
    },
    {
     "name": "stdout",
     "output_type": "stream",
     "text": [
      "Epoch 80, Loss 0.0243\n",
      "Training Accuracy: 0.9720, Testing Accuracy: 0.9733\n",
      "\n"
     ]
    },
    {
     "name": "stdout",
     "output_type": "stream",
     "text": [
      "Epoch 90, Loss 0.0233\n",
      "Training Accuracy: 0.9728, Testing Accuracy: 0.9723\n",
      "\n"
     ]
    },
    {
     "name": "stdout",
     "output_type": "stream",
     "text": [
      "Epoch 100, Loss 0.0224\n",
      "Training Accuracy: 0.9740, Testing Accuracy: 0.9738\n",
      "\n"
     ]
    },
    {
     "name": "stdout",
     "output_type": "stream",
     "text": [
      "Epoch 110, Loss 0.0216\n",
      "Training Accuracy: 0.9747, Testing Accuracy: 0.9743\n",
      "\n"
     ]
    },
    {
     "name": "stdout",
     "output_type": "stream",
     "text": [
      "Epoch 120, Loss 0.0209\n",
      "Training Accuracy: 0.9764, Testing Accuracy: 0.9748\n",
      "\n"
     ]
    },
    {
     "name": "stdout",
     "output_type": "stream",
     "text": [
      "Epoch 130, Loss 0.0203\n",
      "Training Accuracy: 0.9773, Testing Accuracy: 0.9758\n",
      "\n"
     ]
    },
    {
     "name": "stdout",
     "output_type": "stream",
     "text": [
      "Epoch 140, Loss 0.0197\n",
      "Training Accuracy: 0.9781, Testing Accuracy: 0.9758\n",
      "\n"
     ]
    },
    {
     "name": "stdout",
     "output_type": "stream",
     "text": [
      "Epoch 150, Loss 0.0191\n",
      "Training Accuracy: 0.9787, Testing Accuracy: 0.9763\n",
      "\n"
     ]
    },
    {
     "name": "stdout",
     "output_type": "stream",
     "text": [
      "Epoch 160, Loss 0.0186\n",
      "Training Accuracy: 0.9790, Testing Accuracy: 0.9768\n",
      "\n"
     ]
    },
    {
     "name": "stdout",
     "output_type": "stream",
     "text": [
      "Epoch 170, Loss 0.0181\n",
      "Training Accuracy: 0.9795, Testing Accuracy: 0.9768\n",
      "\n"
     ]
    },
    {
     "name": "stdout",
     "output_type": "stream",
     "text": [
      "Epoch 180, Loss 0.0177\n",
      "Training Accuracy: 0.9801, Testing Accuracy: 0.9768\n",
      "\n"
     ]
    },
    {
     "name": "stdout",
     "output_type": "stream",
     "text": [
      "Epoch 190, Loss 0.0172\n",
      "Training Accuracy: 0.9806, Testing Accuracy: 0.9768\n",
      "\n"
     ]
    },
    {
     "name": "stdout",
     "output_type": "stream",
     "text": [
      "Epoch 200, Loss 0.0168\n",
      "Training Accuracy: 0.9811, Testing Accuracy: 0.9768\n",
      "\n"
     ]
    },
    {
     "name": "stdout",
     "output_type": "stream",
     "text": [
      "Epoch 210, Loss 0.0164\n",
      "Training Accuracy: 0.9816, Testing Accuracy: 0.9778\n",
      "\n"
     ]
    },
    {
     "name": "stdout",
     "output_type": "stream",
     "text": [
      "Epoch 220, Loss 0.016\n",
      "Training Accuracy: 0.9822, Testing Accuracy: 0.9788\n",
      "\n"
     ]
    },
    {
     "name": "stdout",
     "output_type": "stream",
     "text": [
      "Epoch 230, Loss 0.0156\n",
      "Training Accuracy: 0.9826, Testing Accuracy: 0.9788\n",
      "\n"
     ]
    },
    {
     "name": "stdout",
     "output_type": "stream",
     "text": [
      "Epoch 240, Loss 0.0153\n",
      "Training Accuracy: 0.9836, Testing Accuracy: 0.9793\n",
      "\n"
     ]
    },
    {
     "data": {
      "text/plain": [
       "0.03146644787278434"
      ]
     },
     "execution_count": 22,
     "metadata": {},
     "output_type": "execute_result"
    }
   ],
   "source": [
    "nn_learner.train_loop(dl)"
   ]
  },
  {
   "cell_type": "code",
   "execution_count": 23,
   "id": "e0163366",
   "metadata": {
    "execution": {
     "iopub.execute_input": "2022-07-16T00:45:31.449040Z",
     "iopub.status.busy": "2022-07-16T00:45:31.448476Z",
     "iopub.status.idle": "2022-07-16T00:45:43.493176Z",
     "shell.execute_reply": "2022-07-16T00:45:43.492700Z"
    },
    "papermill": {
     "duration": 12.084077,
     "end_time": "2022-07-16T00:45:43.493288",
     "exception": false,
     "start_time": "2022-07-16T00:45:31.409211",
     "status": "completed"
    },
    "tags": []
   },
   "outputs": [
    {
     "name": "stdout",
     "output_type": "stream",
     "text": [
      "Epoch 0, Loss 0.234\n",
      "Training Accuracy: 0.6953, Testing Accuracy: 0.6951\n",
      "\n"
     ]
    },
    {
     "name": "stdout",
     "output_type": "stream",
     "text": [
      "Epoch 10, Loss 0.1034\n",
      "Training Accuracy: 0.9084, Testing Accuracy: 0.9183\n",
      "\n"
     ]
    },
    {
     "name": "stdout",
     "output_type": "stream",
     "text": [
      "Epoch 20, Loss 0.0789\n",
      "Training Accuracy: 0.9280, Testing Accuracy: 0.9405\n",
      "\n"
     ]
    },
    {
     "name": "stdout",
     "output_type": "stream",
     "text": [
      "Epoch 30, Loss 0.0677\n",
      "Training Accuracy: 0.9363, Testing Accuracy: 0.9486\n",
      "\n"
     ]
    },
    {
     "name": "stdout",
     "output_type": "stream",
     "text": [
      "Epoch 40, Loss 0.0611\n",
      "Training Accuracy: 0.9418, Testing Accuracy: 0.9526\n",
      "\n"
     ]
    },
    {
     "name": "stdout",
     "output_type": "stream",
     "text": [
      "Epoch 50, Loss 0.0566\n",
      "Training Accuracy: 0.9457, Testing Accuracy: 0.9551\n",
      "\n"
     ]
    },
    {
     "name": "stdout",
     "output_type": "stream",
     "text": [
      "Epoch 60, Loss 0.0533\n",
      "Training Accuracy: 0.9483, Testing Accuracy: 0.9582\n",
      "\n"
     ]
    },
    {
     "name": "stdout",
     "output_type": "stream",
     "text": [
      "Epoch 70, Loss 0.0508\n",
      "Training Accuracy: 0.9496, Testing Accuracy: 0.9597\n",
      "\n"
     ]
    },
    {
     "name": "stdout",
     "output_type": "stream",
     "text": [
      "Epoch 80, Loss 0.0488\n",
      "Training Accuracy: 0.9513, Testing Accuracy: 0.9612\n",
      "\n"
     ]
    },
    {
     "name": "stdout",
     "output_type": "stream",
     "text": [
      "Epoch 90, Loss 0.0471\n",
      "Training Accuracy: 0.9523, Testing Accuracy: 0.9617\n",
      "\n"
     ]
    },
    {
     "name": "stdout",
     "output_type": "stream",
     "text": [
      "Epoch 100, Loss 0.0457\n",
      "Training Accuracy: 0.9534, Testing Accuracy: 0.9627\n",
      "\n"
     ]
    },
    {
     "name": "stdout",
     "output_type": "stream",
     "text": [
      "Epoch 110, Loss 0.0445\n",
      "Training Accuracy: 0.9538, Testing Accuracy: 0.9637\n",
      "\n"
     ]
    },
    {
     "name": "stdout",
     "output_type": "stream",
     "text": [
      "Epoch 120, Loss 0.0435\n",
      "Training Accuracy: 0.9546, Testing Accuracy: 0.9637\n",
      "\n"
     ]
    },
    {
     "name": "stdout",
     "output_type": "stream",
     "text": [
      "Epoch 130, Loss 0.0426\n",
      "Training Accuracy: 0.9556, Testing Accuracy: 0.9647\n",
      "\n"
     ]
    },
    {
     "name": "stdout",
     "output_type": "stream",
     "text": [
      "Epoch 140, Loss 0.0418\n",
      "Training Accuracy: 0.9567, Testing Accuracy: 0.9657\n",
      "\n"
     ]
    },
    {
     "name": "stdout",
     "output_type": "stream",
     "text": [
      "Epoch 150, Loss 0.041\n",
      "Training Accuracy: 0.9575, Testing Accuracy: 0.9657\n",
      "\n"
     ]
    },
    {
     "name": "stdout",
     "output_type": "stream",
     "text": [
      "Epoch 160, Loss 0.0404\n",
      "Training Accuracy: 0.9580, Testing Accuracy: 0.9657\n",
      "\n"
     ]
    },
    {
     "name": "stdout",
     "output_type": "stream",
     "text": [
      "Epoch 170, Loss 0.0398\n",
      "Training Accuracy: 0.9588, Testing Accuracy: 0.9657\n",
      "\n"
     ]
    },
    {
     "name": "stdout",
     "output_type": "stream",
     "text": [
      "Epoch 180, Loss 0.0392\n",
      "Training Accuracy: 0.9593, Testing Accuracy: 0.9657\n",
      "\n"
     ]
    },
    {
     "name": "stdout",
     "output_type": "stream",
     "text": [
      "Epoch 190, Loss 0.0387\n",
      "Training Accuracy: 0.9596, Testing Accuracy: 0.9657\n",
      "\n"
     ]
    },
    {
     "name": "stdout",
     "output_type": "stream",
     "text": [
      "Epoch 200, Loss 0.0383\n",
      "Training Accuracy: 0.9604, Testing Accuracy: 0.9652\n",
      "\n"
     ]
    },
    {
     "name": "stdout",
     "output_type": "stream",
     "text": [
      "Epoch 210, Loss 0.0378\n",
      "Training Accuracy: 0.9607, Testing Accuracy: 0.9652\n",
      "\n"
     ]
    },
    {
     "name": "stdout",
     "output_type": "stream",
     "text": [
      "Epoch 220, Loss 0.0374\n",
      "Training Accuracy: 0.9610, Testing Accuracy: 0.9652\n",
      "\n"
     ]
    },
    {
     "name": "stdout",
     "output_type": "stream",
     "text": [
      "Epoch 230, Loss 0.0371\n",
      "Training Accuracy: 0.9614, Testing Accuracy: 0.9652\n",
      "\n"
     ]
    },
    {
     "name": "stdout",
     "output_type": "stream",
     "text": [
      "Epoch 240, Loss 0.0367\n",
      "Training Accuracy: 0.9616, Testing Accuracy: 0.9657\n",
      "\n"
     ]
    },
    {
     "data": {
      "text/plain": [
       "0.047820496345996874"
      ]
     },
     "execution_count": 23,
     "metadata": {},
     "output_type": "execute_result"
    }
   ],
   "source": [
    "lr_learner.train_loop(dl)"
   ]
  },
  {
   "cell_type": "code",
   "execution_count": 24,
   "id": "ca410940",
   "metadata": {
    "execution": {
     "iopub.execute_input": "2022-07-16T00:45:43.583960Z",
     "iopub.status.busy": "2022-07-16T00:45:43.583346Z",
     "iopub.status.idle": "2022-07-16T00:45:43.809161Z",
     "shell.execute_reply": "2022-07-16T00:45:43.809604Z"
    },
    "papermill": {
     "duration": 0.274825,
     "end_time": "2022-07-16T00:45:43.809733",
     "exception": false,
     "start_time": "2022-07-16T00:45:43.534908",
     "status": "completed"
    },
    "tags": []
   },
   "outputs": [
    {
     "data": {
      "text/plain": [
       "<matplotlib.legend.Legend at 0x7f2c8ef75b70>"
      ]
     },
     "execution_count": 24,
     "metadata": {},
     "output_type": "execute_result"
    },
    {
     "data": {
      "image/png": "[encoded data removed]",
      "text/plain": [
       "<Figure size 1080x720 with 1 Axes>"
      ]
     },
     "metadata": {
      "needs_background": "light"
     },
     "output_type": "display_data"
    }
   ],
   "source": [
    "#comparing the results of NN and LR\n",
    "plt.figure(figsize=(15,10))\n",
    "\n",
    "# Neural Network plots\n",
    "plt.plot(acc_nn.accuracies, 'r-', label = \"Training Accuracies - NN\")\n",
    "plt.plot(acc_nn.test_accuracies, 'g-', label = \"Testing Accuracies - NN\")\n",
    "\n",
    "# Logistic Regression plots\n",
    "plt.plot(acc_lr.accuracies, 'k-', label = \"Training Accuracies - LR\")\n",
    "plt.plot(acc_lr.test_accuracies, 'b-', label = \"Testing Accuracies - LR\")\n",
    "plt.legend()"
   ]
  },
  {
   "cell_type": "markdown",
   "id": "80dfb35c",
   "metadata": {
    "papermill": {
     "duration": 0.042311,
     "end_time": "2022-07-16T00:45:43.894700",
     "exception": false,
     "start_time": "2022-07-16T00:45:43.852389",
     "status": "completed"
    },
    "tags": []
   },
   "source": [
    "#### Plotting the outputs of this layer of the NN.\n"
   ]
  },
  {
   "cell_type": "code",
   "execution_count": 25,
   "id": "45eb2ff5",
   "metadata": {
    "execution": {
     "iopub.execute_input": "2022-07-16T00:45:43.985432Z",
     "iopub.status.busy": "2022-07-16T00:45:43.984010Z",
     "iopub.status.idle": "2022-07-16T00:45:44.020273Z",
     "shell.execute_reply": "2022-07-16T00:45:44.019772Z"
    },
    "papermill": {
     "duration": 0.083358,
     "end_time": "2022-07-16T00:45:44.020392",
     "exception": false,
     "start_time": "2022-07-16T00:45:43.937034",
     "status": "completed"
    },
    "tags": []
   },
   "outputs": [],
   "source": [
    "new_model = Model(layers[:-2])\n",
    "testing_plot = new_model(testing_data_x)"
   ]
  },
  {
   "cell_type": "code",
   "execution_count": 26,
   "id": "4c0a5485",
   "metadata": {
    "execution": {
     "iopub.execute_input": "2022-07-16T00:45:44.111553Z",
     "iopub.status.busy": "2022-07-16T00:45:44.110974Z",
     "iopub.status.idle": "2022-07-16T00:45:44.298505Z",
     "shell.execute_reply": "2022-07-16T00:45:44.297803Z"
    },
    "papermill": {
     "duration": 0.235048,
     "end_time": "2022-07-16T00:45:44.298621",
     "exception": false,
     "start_time": "2022-07-16T00:45:44.063573",
     "status": "completed"
    },
    "tags": []
   },
   "outputs": [
    {
     "data": {
      "text/plain": [
       "Text(0.5, 1.0, 'Outputs')"
      ]
     },
     "execution_count": 26,
     "metadata": {},
     "output_type": "execute_result"
    },
    {
     "data": {
      "image/png": "[encoded data removed]",
      "text/plain": [
       "<Figure size 576x504 with 1 Axes>"
      ]
     },
     "metadata": {
      "needs_background": "light"
     },
     "output_type": "display_data"
    }
   ],
   "source": [
    "# Plotting the scatter plot of points and color coding by class\n",
    "plt.figure(figsize=(8,7))\n",
    "plt.scatter(testing_plot[:,0], testing_plot[:,1], alpha = 0.1, c = y_test.ravel());\n",
    "plt.title('Outputs')"
   ]
  },
  {
   "cell_type": "markdown",
   "id": "a74fcf8f",
   "metadata": {
    "papermill": {
     "duration": 0.044795,
     "end_time": "2022-07-16T00:45:44.410811",
     "exception": false,
     "start_time": "2022-07-16T00:45:44.366016",
     "status": "completed"
    },
    "tags": []
   },
   "source": [
    "Probability contours"
   ]
  },
  {
   "cell_type": "code",
   "execution_count": 27,
   "id": "d0afc8e3",
   "metadata": {
    "execution": {
     "iopub.execute_input": "2022-07-16T00:45:44.508756Z",
     "iopub.status.busy": "2022-07-16T00:45:44.503519Z",
     "iopub.status.idle": "2022-07-16T00:45:44.515256Z",
     "shell.execute_reply": "2022-07-16T00:45:44.514798Z"
    },
    "papermill": {
     "duration": 0.059862,
     "end_time": "2022-07-16T00:45:44.515359",
     "exception": false,
     "start_time": "2022-07-16T00:45:44.455497",
     "status": "completed"
    },
    "tags": []
   },
   "outputs": [],
   "source": [
    "model_prob = Model(layers[-2:]) "
   ]
  },
  {
   "cell_type": "code",
   "execution_count": 28,
   "id": "9b96e238",
   "metadata": {
    "execution": {
     "iopub.execute_input": "2022-07-16T00:45:44.609032Z",
     "iopub.status.busy": "2022-07-16T00:45:44.608482Z",
     "iopub.status.idle": "2022-07-16T00:45:44.621346Z",
     "shell.execute_reply": "2022-07-16T00:45:44.621787Z"
    },
    "papermill": {
     "duration": 0.061943,
     "end_time": "2022-07-16T00:45:44.621919",
     "exception": false,
     "start_time": "2022-07-16T00:45:44.559976",
     "status": "completed"
    },
    "tags": []
   },
   "outputs": [],
   "source": [
    "#creating the x and y ranges according to the above generated plot.\n",
    "x_range = np.linspace(-4, 1, 100) \n",
    "y_range = np.linspace(-6, 6, 100) \n",
    "x_grid, y_grid = np.meshgrid(x_range, y_range) # x_grid and y_grig are of size 100 X 100\n",
    "\n",
    "# converting x_grid and y_grid to continuous arrays\n",
    "x_gridflat = np.ravel(x_grid)\n",
    "y_gridflat = np.ravel(y_grid)\n",
    "\n",
    "# The last layer of the current model takes two columns as input. Hence transpose of np.vstack() is required.\n",
    "X = np.vstack((x_gridflat, y_gridflat)).T\n",
    "\n",
    "prob_contour = model_prob(X).reshape(100,100) "
   ]
  },
  {
   "cell_type": "code",
   "execution_count": 29,
   "id": "da72499a",
   "metadata": {
    "execution": {
     "iopub.execute_input": "2022-07-16T00:45:44.717424Z",
     "iopub.status.busy": "2022-07-16T00:45:44.716876Z",
     "iopub.status.idle": "2022-07-16T00:45:44.951302Z",
     "shell.execute_reply": "2022-07-16T00:45:44.950354Z"
    },
    "papermill": {
     "duration": 0.284349,
     "end_time": "2022-07-16T00:45:44.951424",
     "exception": false,
     "start_time": "2022-07-16T00:45:44.667075",
     "status": "completed"
    },
    "tags": []
   },
   "outputs": [
    {
     "data": {
      "image/png": "[encoded data removed]",
      "text/plain": [
       "<Figure size 720x648 with 1 Axes>"
      ]
     },
     "metadata": {
      "needs_background": "light"
     },
     "output_type": "display_data"
    }
   ],
   "source": [
    "plt.figure(figsize=(10,9))\n",
    "plt.scatter(testing_plot[:,0], testing_plot[:,1], alpha = 0.1, c = y_test.ravel())\n",
    "contours = plt.contour(x_grid,y_grid,prob_contour)\n",
    "plt.title('Probability Contours')\n",
    "plt.clabel(contours, inline = True );"
   ]
  },
  {
   "cell_type": "code",
   "execution_count": null,
   "id": "e81b4ac7",
   "metadata": {
    "papermill": {
     "duration": 0.046983,
     "end_time": "2022-07-16T00:45:45.045744",
     "exception": false,
     "start_time": "2022-07-16T00:45:44.998761",
     "status": "completed"
    },
    "tags": []
   },
   "outputs": [],
   "source": []
  }
 ],
 "metadata": {
  "kernelspec": {
   "display_name": "Python 3",
   "language": "python",
   "name": "python3"
  },
  "language_info": {
   "codemirror_mode": {
    "name": "ipython",
    "version": 3
   },
   "file_extension": ".py",
   "mimetype": "text/x-python",
   "name": "python",
   "nbconvert_exporter": "python",
   "pygments_lexer": "ipython3",
   "version": "3.6.15"
  },
  "papermill": {
   "default_parameters": {},
   "duration": 195.072629,
   "end_time": "2022-07-16T00:45:45.411171",
   "environment_variables": {},
   "exception": null,
   "input_path": "2020-08-11-part2.ipynb",
   "output_path": "2020-08-11-part2.ipynb",
   "parameters": {},
   "start_time": "2022-07-16T00:42:30.338542",
   "version": "2.3.3"
  }
 },
 "nbformat": 4,
 "nbformat_minor": 5
}