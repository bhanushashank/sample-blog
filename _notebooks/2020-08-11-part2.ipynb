{
 "cells": [
  {
   "cell_type": "markdown",
   "id": "98380cd3",
   "metadata": {
    "papermill": {
     "duration": 0.031339,
     "end_time": "2022-08-15T10:11:00.561790",
     "exception": false,
     "start_time": "2022-08-15T10:11:00.530451",
     "status": "completed"
    },
    "tags": []
   },
   "source": [
    "# Distinguish Your Own Digits (DYOD)"
   ]
  },
  {
   "cell_type": "markdown",
   "id": "ef31240d",
   "metadata": {
    "papermill": {
     "duration": 0.024755,
     "end_time": "2022-08-15T10:11:00.611763",
     "exception": false,
     "start_time": "2022-08-15T10:11:00.587008",
     "status": "completed"
    },
    "tags": []
   },
   "source": [
    "You are going to write a classifier that distinguishes between the number 3 and number 8."
   ]
  },
  {
   "cell_type": "code",
   "execution_count": 1,
   "id": "b15c8646",
   "metadata": {
    "execution": {
     "iopub.execute_input": "2022-08-15T10:11:00.674762Z",
     "iopub.status.busy": "2022-08-15T10:11:00.674121Z",
     "iopub.status.idle": "2022-08-15T10:11:00.685007Z",
     "shell.execute_reply": "2022-08-15T10:11:00.684477Z"
    },
    "papermill": {
     "duration": 0.04889,
     "end_time": "2022-08-15T10:11:00.685143",
     "exception": false,
     "start_time": "2022-08-15T10:11:00.636253",
     "status": "completed"
    },
    "tags": []
   },
   "outputs": [],
   "source": [
    "%load_ext autoreload\n",
    "%autoreload 2"
   ]
  },
  {
   "cell_type": "code",
   "execution_count": 2,
   "id": "22ef38dc",
   "metadata": {
    "execution": {
     "iopub.execute_input": "2022-08-15T10:11:00.749566Z",
     "iopub.status.busy": "2022-08-15T10:11:00.744961Z",
     "iopub.status.idle": "2022-08-15T10:11:01.280944Z",
     "shell.execute_reply": "2022-08-15T10:11:01.280078Z"
    },
    "papermill": {
     "duration": 0.571557,
     "end_time": "2022-08-15T10:11:01.281072",
     "exception": false,
     "start_time": "2022-08-15T10:11:00.709515",
     "status": "completed"
    },
    "tags": []
   },
   "outputs": [],
   "source": [
    "%matplotlib inline\n",
    "import numpy as np\n",
    "import matplotlib.pyplot as plt\n",
    "import pandas as pd"
   ]
  },
  {
   "cell_type": "markdown",
   "id": "ba036198",
   "metadata": {
    "papermill": {
     "duration": 0.021571,
     "end_time": "2022-08-15T10:11:01.324345",
     "exception": false,
     "start_time": "2022-08-15T10:11:01.302774",
     "status": "completed"
    },
    "tags": []
   },
   "source": [
    "From the command line run `pip install mnist`. This is a library that will help you bring down the mnist dataset. If you run this from a notebook, you need to put  `!pip install mnist` in a cell by itself."
   ]
  },
  {
   "cell_type": "code",
   "execution_count": 3,
   "id": "bb6ad8a1",
   "metadata": {
    "execution": {
     "iopub.execute_input": "2022-08-15T10:11:01.372171Z",
     "iopub.status.busy": "2022-08-15T10:11:01.371407Z",
     "iopub.status.idle": "2022-08-15T10:11:03.044032Z",
     "shell.execute_reply": "2022-08-15T10:11:03.042910Z"
    },
    "papermill": {
     "duration": 1.698262,
     "end_time": "2022-08-15T10:11:03.044204",
     "exception": false,
     "start_time": "2022-08-15T10:11:01.345942",
     "status": "completed"
    },
    "tags": []
   },
   "outputs": [
    {
     "name": "stdout",
     "output_type": "stream",
     "text": [
      "Collecting mnist\r\n"
     ]
    },
    {
     "name": "stdout",
     "output_type": "stream",
     "text": [
      "  Downloading mnist-0.2.2-py2.py3-none-any.whl (3.5 kB)\r\n"
     ]
    },
    {
     "name": "stdout",
     "output_type": "stream",
     "text": [
      "Requirement already satisfied: numpy in /opt/hostedtoolcache/Python/3.6.15/x64/lib/python3.6/site-packages (from mnist) (1.19.5)\r\n"
     ]
    },
    {
     "name": "stdout",
     "output_type": "stream",
     "text": [
      "Installing collected packages: mnist\r\n",
      "Successfully installed mnist-0.2.2\r\n"
     ]
    }
   ],
   "source": [
    "!pip install mnist"
   ]
  },
  {
   "cell_type": "markdown",
   "id": "69df9c9a",
   "metadata": {
    "papermill": {
     "duration": 0.022404,
     "end_time": "2022-08-15T10:11:03.089300",
     "exception": false,
     "start_time": "2022-08-15T10:11:03.066896",
     "status": "completed"
    },
    "tags": []
   },
   "source": [
    "## Preparing the Data"
   ]
  },
  {
   "cell_type": "code",
   "execution_count": 4,
   "id": "7f69d806",
   "metadata": {
    "execution": {
     "iopub.execute_input": "2022-08-15T10:11:03.141186Z",
     "iopub.status.busy": "2022-08-15T10:11:03.137954Z",
     "iopub.status.idle": "2022-08-15T10:11:03.152345Z",
     "shell.execute_reply": "2022-08-15T10:11:03.151794Z"
    },
    "papermill": {
     "duration": 0.040718,
     "end_time": "2022-08-15T10:11:03.152471",
     "exception": false,
     "start_time": "2022-08-15T10:11:03.111753",
     "status": "completed"
    },
    "tags": []
   },
   "outputs": [],
   "source": [
    "import mnist"
   ]
  },
  {
   "cell_type": "code",
   "execution_count": 5,
   "id": "a411e44f",
   "metadata": {
    "execution": {
     "iopub.execute_input": "2022-08-15T10:11:03.208981Z",
     "iopub.status.busy": "2022-08-15T10:11:03.207144Z",
     "iopub.status.idle": "2022-08-15T10:11:03.771570Z",
     "shell.execute_reply": "2022-08-15T10:11:03.770993Z"
    },
    "papermill": {
     "duration": 0.593681,
     "end_time": "2022-08-15T10:11:03.771714",
     "exception": false,
     "start_time": "2022-08-15T10:11:03.178033",
     "status": "completed"
    },
    "tags": []
   },
   "outputs": [],
   "source": [
    "train_images = mnist.train_images()\n",
    "train_labels = mnist.train_labels()"
   ]
  },
  {
   "cell_type": "code",
   "execution_count": 6,
   "id": "dceab3a5",
   "metadata": {
    "execution": {
     "iopub.execute_input": "2022-08-15T10:11:03.833453Z",
     "iopub.status.busy": "2022-08-15T10:11:03.832821Z",
     "iopub.status.idle": "2022-08-15T10:11:03.848330Z",
     "shell.execute_reply": "2022-08-15T10:11:03.847157Z"
    },
    "papermill": {
     "duration": 0.050185,
     "end_time": "2022-08-15T10:11:03.848458",
     "exception": false,
     "start_time": "2022-08-15T10:11:03.798273",
     "status": "completed"
    },
    "tags": []
   },
   "outputs": [
    {
     "data": {
      "text/plain": [
       "((60000, 28, 28), (60000,))"
      ]
     },
     "execution_count": 6,
     "metadata": {},
     "output_type": "execute_result"
    }
   ],
   "source": [
    "train_images.shape, train_labels.shape"
   ]
  },
  {
   "cell_type": "code",
   "execution_count": 7,
   "id": "f50dc2bb",
   "metadata": {
    "execution": {
     "iopub.execute_input": "2022-08-15T10:11:03.904988Z",
     "iopub.status.busy": "2022-08-15T10:11:03.904365Z",
     "iopub.status.idle": "2022-08-15T10:11:04.102948Z",
     "shell.execute_reply": "2022-08-15T10:11:04.101971Z"
    },
    "papermill": {
     "duration": 0.22911,
     "end_time": "2022-08-15T10:11:04.103092",
     "exception": false,
     "start_time": "2022-08-15T10:11:03.873982",
     "status": "completed"
    },
    "tags": []
   },
   "outputs": [],
   "source": [
    "test_images = mnist.test_images()\n",
    "test_labels = mnist.test_labels()"
   ]
  },
  {
   "cell_type": "code",
   "execution_count": 8,
   "id": "fc38cf1b",
   "metadata": {
    "execution": {
     "iopub.execute_input": "2022-08-15T10:11:04.159768Z",
     "iopub.status.busy": "2022-08-15T10:11:04.159177Z",
     "iopub.status.idle": "2022-08-15T10:11:04.172666Z",
     "shell.execute_reply": "2022-08-15T10:11:04.172170Z"
    },
    "papermill": {
     "duration": 0.043299,
     "end_time": "2022-08-15T10:11:04.172784",
     "exception": false,
     "start_time": "2022-08-15T10:11:04.129485",
     "status": "completed"
    },
    "tags": []
   },
   "outputs": [
    {
     "data": {
      "text/plain": [
       "((10000, 28, 28), (10000,))"
      ]
     },
     "execution_count": 8,
     "metadata": {},
     "output_type": "execute_result"
    }
   ],
   "source": [
    "test_images.shape, test_labels.shape"
   ]
  },
  {
   "cell_type": "code",
   "execution_count": 9,
   "id": "f9ed8fe0",
   "metadata": {
    "execution": {
     "iopub.execute_input": "2022-08-15T10:11:04.254987Z",
     "iopub.status.busy": "2022-08-15T10:11:04.234328Z",
     "iopub.status.idle": "2022-08-15T10:11:04.374084Z",
     "shell.execute_reply": "2022-08-15T10:11:04.373636Z"
    },
    "papermill": {
     "duration": 0.175613,
     "end_time": "2022-08-15T10:11:04.374200",
     "exception": false,
     "start_time": "2022-08-15T10:11:04.198587",
     "status": "completed"
    },
    "tags": []
   },
   "outputs": [
    {
     "name": "stdout",
     "output_type": "stream",
     "text": [
      "2\n"
     ]
    },
    {
     "data": {
      "text/plain": [
       "<matplotlib.image.AxesImage at 0x7f73989ed5f8>"
      ]
     },
     "execution_count": 9,
     "metadata": {},
     "output_type": "execute_result"
    },
    {
     "data": {
      "image/png": "[encoded data removed]",
      "text/plain": [
       "<Figure size 432x288 with 1 Axes>"
      ]
     },
     "metadata": {
      "needs_background": "light"
     },
     "output_type": "display_data"
    }
   ],
   "source": [
    "image_index = 7776 # You may select anything up to 60,000\n",
    "print(train_labels[image_index]) \n",
    "plt.imshow(train_images[image_index], cmap='Greys')"
   ]
  },
  {
   "cell_type": "markdown",
   "id": "a8d2388d",
   "metadata": {
    "papermill": {
     "duration": 0.024197,
     "end_time": "2022-08-15T10:11:04.422745",
     "exception": false,
     "start_time": "2022-08-15T10:11:04.398548",
     "status": "completed"
    },
    "tags": []
   },
   "source": [
    "## Filter data to get 3 and 8 out"
   ]
  },
  {
   "cell_type": "code",
   "execution_count": 10,
   "id": "776f7fc7",
   "metadata": {
    "execution": {
     "iopub.execute_input": "2022-08-15T10:11:04.485829Z",
     "iopub.status.busy": "2022-08-15T10:11:04.481114Z",
     "iopub.status.idle": "2022-08-15T10:11:04.494424Z",
     "shell.execute_reply": "2022-08-15T10:11:04.494817Z"
    },
    "papermill": {
     "duration": 0.048331,
     "end_time": "2022-08-15T10:11:04.494958",
     "exception": false,
     "start_time": "2022-08-15T10:11:04.446627",
     "status": "completed"
    },
    "tags": []
   },
   "outputs": [],
   "source": [
    "train_filter = np.where((train_labels == 3 ) | (train_labels == 8))\n",
    "test_filter = np.where((test_labels == 3) | (test_labels == 8))\n",
    "X_train, y_train = train_images[train_filter], train_labels[train_filter]\n",
    "X_test, y_test = test_images[test_filter], test_labels[test_filter]"
   ]
  },
  {
   "cell_type": "markdown",
   "id": "948f0b7e",
   "metadata": {
    "papermill": {
     "duration": 0.023895,
     "end_time": "2022-08-15T10:11:04.543063",
     "exception": false,
     "start_time": "2022-08-15T10:11:04.519168",
     "status": "completed"
    },
    "tags": []
   },
   "source": [
    "We normalize the pizel values in the 0 to 1 range"
   ]
  },
  {
   "cell_type": "code",
   "execution_count": 11,
   "id": "ee4c2166",
   "metadata": {
    "execution": {
     "iopub.execute_input": "2022-08-15T10:11:04.605036Z",
     "iopub.status.busy": "2022-08-15T10:11:04.594326Z",
     "iopub.status.idle": "2022-08-15T10:11:04.645078Z",
     "shell.execute_reply": "2022-08-15T10:11:04.644540Z"
    },
    "papermill": {
     "duration": 0.078237,
     "end_time": "2022-08-15T10:11:04.645202",
     "exception": false,
     "start_time": "2022-08-15T10:11:04.566965",
     "status": "completed"
    },
    "tags": []
   },
   "outputs": [],
   "source": [
    "X_train = X_train/255.\n",
    "X_test = X_test/255."
   ]
  },
  {
   "cell_type": "markdown",
   "id": "ddcf4fab",
   "metadata": {
    "papermill": {
     "duration": 0.027052,
     "end_time": "2022-08-15T10:11:04.699616",
     "exception": false,
     "start_time": "2022-08-15T10:11:04.672564",
     "status": "completed"
    },
    "tags": []
   },
   "source": [
    "And setup the labels as 1 (when the digit is 3) and 0 (when the digit is 8)"
   ]
  },
  {
   "cell_type": "code",
   "execution_count": 12,
   "id": "7dc908f2",
   "metadata": {
    "execution": {
     "iopub.execute_input": "2022-08-15T10:11:04.765026Z",
     "iopub.status.busy": "2022-08-15T10:11:04.758735Z",
     "iopub.status.idle": "2022-08-15T10:11:04.771547Z",
     "shell.execute_reply": "2022-08-15T10:11:04.772010Z"
    },
    "papermill": {
     "duration": 0.045568,
     "end_time": "2022-08-15T10:11:04.772195",
     "exception": false,
     "start_time": "2022-08-15T10:11:04.726627",
     "status": "completed"
    },
    "tags": []
   },
   "outputs": [],
   "source": [
    "y_train = 1*(y_train==3)\n",
    "y_test = 1*(y_test==3)"
   ]
  },
  {
   "cell_type": "code",
   "execution_count": 13,
   "id": "01e4e969",
   "metadata": {
    "execution": {
     "iopub.execute_input": "2022-08-15T10:11:04.831246Z",
     "iopub.status.busy": "2022-08-15T10:11:04.830668Z",
     "iopub.status.idle": "2022-08-15T10:11:04.845034Z",
     "shell.execute_reply": "2022-08-15T10:11:04.844575Z"
    },
    "papermill": {
     "duration": 0.045769,
     "end_time": "2022-08-15T10:11:04.845146",
     "exception": false,
     "start_time": "2022-08-15T10:11:04.799377",
     "status": "completed"
    },
    "tags": []
   },
   "outputs": [
    {
     "data": {
      "text/plain": [
       "((11982, 28, 28), (1984, 28, 28))"
      ]
     },
     "execution_count": 13,
     "metadata": {},
     "output_type": "execute_result"
    }
   ],
   "source": [
    "X_train.shape, X_test.shape"
   ]
  },
  {
   "cell_type": "markdown",
   "id": "5ccf3f85",
   "metadata": {
    "papermill": {
     "duration": 0.02415,
     "end_time": "2022-08-15T10:11:04.893631",
     "exception": false,
     "start_time": "2022-08-15T10:11:04.869481",
     "status": "completed"
    },
    "tags": []
   },
   "source": [
    "We reshape the data to flatten the image pixels into a set of features or co-variates:"
   ]
  },
  {
   "cell_type": "code",
   "execution_count": 14,
   "id": "5286a4a3",
   "metadata": {
    "execution": {
     "iopub.execute_input": "2022-08-15T10:11:04.949489Z",
     "iopub.status.busy": "2022-08-15T10:11:04.948748Z",
     "iopub.status.idle": "2022-08-15T10:11:04.962430Z",
     "shell.execute_reply": "2022-08-15T10:11:04.961834Z"
    },
    "papermill": {
     "duration": 0.043873,
     "end_time": "2022-08-15T10:11:04.962553",
     "exception": false,
     "start_time": "2022-08-15T10:11:04.918680",
     "status": "completed"
    },
    "tags": []
   },
   "outputs": [
    {
     "data": {
      "text/plain": [
       "((11982, 784), (1984, 784))"
      ]
     },
     "execution_count": 14,
     "metadata": {},
     "output_type": "execute_result"
    }
   ],
   "source": [
    "X_train = X_train.reshape(X_train.shape[0], -1)\n",
    "X_test = X_test.reshape(X_test.shape[0], -1)\n",
    "X_train.shape, X_test.shape"
   ]
  },
  {
   "cell_type": "code",
   "execution_count": 15,
   "id": "73c5f88a",
   "metadata": {
    "execution": {
     "iopub.execute_input": "2022-08-15T10:11:05.023487Z",
     "iopub.status.busy": "2022-08-15T10:11:05.022851Z",
     "iopub.status.idle": "2022-08-15T10:11:05.041631Z",
     "shell.execute_reply": "2022-08-15T10:11:05.041138Z"
    },
    "papermill": {
     "duration": 0.05153,
     "end_time": "2022-08-15T10:11:05.041758",
     "exception": false,
     "start_time": "2022-08-15T10:11:04.990228",
     "status": "completed"
    },
    "tags": []
   },
   "outputs": [],
   "source": [
    "#Impoting functions from 'Kudzu'\n",
    "from kudzu.model import Model\n",
    "from kudzu.train import Learner\n",
    "from kudzu.optim import GD\n",
    "from kudzu.data import Data, Sampler,Dataloader\n",
    "\n",
    "from kudzu.callbacks import AccCallback\n",
    "from kudzu.callbacks import ClfCallback\n",
    "\n",
    "from kudzu.loss import MSE\n",
    "\n",
    "from kudzu.layer import Sigmoid,Relu\n",
    "from kudzu.layer import Affine"
   ]
  },
  {
   "cell_type": "markdown",
   "id": "bc01172a",
   "metadata": {
    "papermill": {
     "duration": 0.028931,
     "end_time": "2022-08-15T10:11:05.098540",
     "exception": false,
     "start_time": "2022-08-15T10:11:05.069609",
     "status": "completed"
    },
    "tags": []
   },
   "source": [
    "### Let us create a `Config` class, to store important parameters. \n",
    "This class essentially plays the role of a dictionary."
   ]
  },
  {
   "cell_type": "code",
   "execution_count": 16,
   "id": "978281aa",
   "metadata": {
    "execution": {
     "iopub.execute_input": "2022-08-15T10:11:05.167584Z",
     "iopub.status.busy": "2022-08-15T10:11:05.166920Z",
     "iopub.status.idle": "2022-08-15T10:11:05.174622Z",
     "shell.execute_reply": "2022-08-15T10:11:05.174141Z"
    },
    "papermill": {
     "duration": 0.048673,
     "end_time": "2022-08-15T10:11:05.174747",
     "exception": false,
     "start_time": "2022-08-15T10:11:05.126074",
     "status": "completed"
    },
    "tags": []
   },
   "outputs": [],
   "source": [
    "class Config:\n",
    "    pass\n",
    "config = Config()\n",
    "config.lr = 0.001\n",
    "config.num_epochs = 250\n",
    "config.bs = 50"
   ]
  },
  {
   "cell_type": "markdown",
   "id": "1385fa59",
   "metadata": {
    "papermill": {
     "duration": 0.027436,
     "end_time": "2022-08-15T10:11:05.229842",
     "exception": false,
     "start_time": "2022-08-15T10:11:05.202406",
     "status": "completed"
    },
    "tags": []
   },
   "source": [
    "### Running Models with the Training data\n",
    "Details about the network layers:\n",
    "- A first affine layer has 784 inputs and does 100 affine transforms. These are followed by a Relu\n",
    "- A second affine layer has 100 inputs from the 100 activations of the past layer, and does 100 affine transforms. These are followed by a Relu\n",
    "- A third affine layer has 100 activations and does 2 affine transformations to create an embedding for visualization. There is no non-linearity here.\n",
    "- A final \"logistic regression\" which has an affine transform from 2 inputs to 1 output, which is squeezed through a sigmoid.\n"
   ]
  },
  {
   "cell_type": "code",
   "execution_count": 17,
   "id": "2b9c66db",
   "metadata": {
    "execution": {
     "iopub.execute_input": "2022-08-15T10:11:05.298160Z",
     "iopub.status.busy": "2022-08-15T10:11:05.297502Z",
     "iopub.status.idle": "2022-08-15T10:11:05.306984Z",
     "shell.execute_reply": "2022-08-15T10:11:05.306485Z"
    },
    "papermill": {
     "duration": 0.049738,
     "end_time": "2022-08-15T10:11:05.307106",
     "exception": false,
     "start_time": "2022-08-15T10:11:05.257368",
     "status": "completed"
    },
    "tags": []
   },
   "outputs": [],
   "source": [
    "data = Data(X_train, y_train.reshape(-1,1))\n",
    "sampler = Sampler(data, config.bs, shuffle=True)\n",
    "\n",
    "dl = Dataloader(data, sampler)\n",
    "\n",
    "opt = GD(config.lr)\n",
    "loss = MSE()"
   ]
  },
  {
   "cell_type": "code",
   "execution_count": 18,
   "id": "b275e4c2",
   "metadata": {
    "execution": {
     "iopub.execute_input": "2022-08-15T10:11:05.369173Z",
     "iopub.status.busy": "2022-08-15T10:11:05.368576Z",
     "iopub.status.idle": "2022-08-15T10:11:05.379743Z",
     "shell.execute_reply": "2022-08-15T10:11:05.379241Z"
    },
    "papermill": {
     "duration": 0.044951,
     "end_time": "2022-08-15T10:11:05.379862",
     "exception": false,
     "start_time": "2022-08-15T10:11:05.334911",
     "status": "completed"
    },
    "tags": []
   },
   "outputs": [],
   "source": [
    "training_data_x = X_train\n",
    "testing_data_x = X_test\n",
    "training_data_y = y_train.reshape(-1,1)\n",
    "testing_data_y = y_test.reshape(-1,1)"
   ]
  },
  {
   "cell_type": "code",
   "execution_count": 19,
   "id": "76951160",
   "metadata": {
    "execution": {
     "iopub.execute_input": "2022-08-15T10:11:05.440174Z",
     "iopub.status.busy": "2022-08-15T10:11:05.439543Z",
     "iopub.status.idle": "2022-08-15T10:11:05.456285Z",
     "shell.execute_reply": "2022-08-15T10:11:05.455771Z"
    },
    "papermill": {
     "duration": 0.048962,
     "end_time": "2022-08-15T10:11:05.456409",
     "exception": false,
     "start_time": "2022-08-15T10:11:05.407447",
     "status": "completed"
    },
    "tags": []
   },
   "outputs": [
    {
     "name": "stdout",
     "output_type": "stream",
     "text": [
      "xavier\n",
      "xavier\n",
      "xavier\n",
      "xavier\n",
      "xavier\n"
     ]
    }
   ],
   "source": [
    "layers = [Affine(\"first\", 784, 100), Relu(\"first\"), Affine(\"second\", 100, 100), Relu(\"second\"), Affine(\"third\", 100, 2), Affine(\"last\", 2, 1), Sigmoid(\"last\")]\n",
    "model_nn = Model(layers)\n",
    "model_lr = Model([Affine(\"logits\", 784, 1), Sigmoid(\"sigmoid\")])"
   ]
  },
  {
   "cell_type": "code",
   "execution_count": 20,
   "id": "6eede77a",
   "metadata": {
    "execution": {
     "iopub.execute_input": "2022-08-15T10:11:05.517577Z",
     "iopub.status.busy": "2022-08-15T10:11:05.516983Z",
     "iopub.status.idle": "2022-08-15T10:11:05.530441Z",
     "shell.execute_reply": "2022-08-15T10:11:05.529960Z"
    },
    "papermill": {
     "duration": 0.04589,
     "end_time": "2022-08-15T10:11:05.530568",
     "exception": false,
     "start_time": "2022-08-15T10:11:05.484678",
     "status": "completed"
    },
    "tags": []
   },
   "outputs": [],
   "source": [
    "nn_learner = Learner(loss, model_nn, opt, config.num_epochs)\n",
    "acc_nn = ClfCallback(nn_learner, config.bs, training_data_x , testing_data_x, training_data_y, testing_data_y)\n",
    "nn_learner.set_callbacks([acc_nn])"
   ]
  },
  {
   "cell_type": "code",
   "execution_count": 21,
   "id": "877b6cc7",
   "metadata": {
    "execution": {
     "iopub.execute_input": "2022-08-15T10:11:05.595579Z",
     "iopub.status.busy": "2022-08-15T10:11:05.594962Z",
     "iopub.status.idle": "2022-08-15T10:11:05.605780Z",
     "shell.execute_reply": "2022-08-15T10:11:05.606238Z"
    },
    "papermill": {
     "duration": 0.04786,
     "end_time": "2022-08-15T10:11:05.606380",
     "exception": false,
     "start_time": "2022-08-15T10:11:05.558520",
     "status": "completed"
    },
    "tags": []
   },
   "outputs": [],
   "source": [
    "lr_learner = Learner(loss, model_lr, opt, config.num_epochs)\n",
    "acc_lr = ClfCallback(lr_learner, config.bs, training_data_x , testing_data_x, training_data_y, testing_data_y)\n",
    "lr_learner.set_callbacks([acc_lr])"
   ]
  },
  {
   "cell_type": "code",
   "execution_count": 22,
   "id": "d9b133c3",
   "metadata": {
    "execution": {
     "iopub.execute_input": "2022-08-15T10:11:05.676995Z",
     "iopub.status.busy": "2022-08-15T10:11:05.672263Z",
     "iopub.status.idle": "2022-08-15T10:12:24.802478Z",
     "shell.execute_reply": "2022-08-15T10:12:24.801600Z"
    },
    "papermill": {
     "duration": 79.168099,
     "end_time": "2022-08-15T10:12:24.802611",
     "exception": false,
     "start_time": "2022-08-15T10:11:05.634512",
     "status": "completed"
    },
    "tags": []
   },
   "outputs": [
    {
     "name": "stdout",
     "output_type": "stream",
     "text": [
      "Epoch 0, Loss 0.2528\n",
      "Training Accuracy: 0.5165, Testing Accuracy: 0.5156\n",
      "\n"
     ]
    },
    {
     "name": "stdout",
     "output_type": "stream",
     "text": [
      "Epoch 10, Loss 0.1712\n",
      "Training Accuracy: 0.8859, Testing Accuracy: 0.8962\n",
      "\n"
     ]
    },
    {
     "name": "stdout",
     "output_type": "stream",
     "text": [
      "Epoch 20, Loss 0.0836\n",
      "Training Accuracy: 0.9207, Testing Accuracy: 0.9269\n",
      "\n"
     ]
    },
    {
     "name": "stdout",
     "output_type": "stream",
     "text": [
      "Epoch 30, Loss 0.0556\n",
      "Training Accuracy: 0.9412, Testing Accuracy: 0.9526\n",
      "\n"
     ]
    },
    {
     "name": "stdout",
     "output_type": "stream",
     "text": [
      "Epoch 40, Loss 0.0445\n",
      "Training Accuracy: 0.9508, Testing Accuracy: 0.9567\n",
      "\n"
     ]
    },
    {
     "name": "stdout",
     "output_type": "stream",
     "text": [
      "Epoch 50, Loss 0.0388\n",
      "Training Accuracy: 0.9562, Testing Accuracy: 0.9612\n",
      "\n"
     ]
    },
    {
     "name": "stdout",
     "output_type": "stream",
     "text": [
      "Epoch 60, Loss 0.0353\n",
      "Training Accuracy: 0.9599, Testing Accuracy: 0.9657\n",
      "\n"
     ]
    },
    {
     "name": "stdout",
     "output_type": "stream",
     "text": [
      "Epoch 70, Loss 0.0328\n",
      "Training Accuracy: 0.9620, Testing Accuracy: 0.9657\n",
      "\n"
     ]
    },
    {
     "name": "stdout",
     "output_type": "stream",
     "text": [
      "Epoch 80, Loss 0.0311\n",
      "Training Accuracy: 0.9638, Testing Accuracy: 0.9667\n",
      "\n"
     ]
    },
    {
     "name": "stdout",
     "output_type": "stream",
     "text": [
      "Epoch 90, Loss 0.0297\n",
      "Training Accuracy: 0.9655, Testing Accuracy: 0.9677\n",
      "\n"
     ]
    },
    {
     "name": "stdout",
     "output_type": "stream",
     "text": [
      "Epoch 100, Loss 0.0286\n",
      "Training Accuracy: 0.9671, Testing Accuracy: 0.9682\n",
      "\n"
     ]
    },
    {
     "name": "stdout",
     "output_type": "stream",
     "text": [
      "Epoch 110, Loss 0.0276\n",
      "Training Accuracy: 0.9685, Testing Accuracy: 0.9667\n",
      "\n"
     ]
    },
    {
     "name": "stdout",
     "output_type": "stream",
     "text": [
      "Epoch 120, Loss 0.0269\n",
      "Training Accuracy: 0.9690, Testing Accuracy: 0.9672\n",
      "\n"
     ]
    },
    {
     "name": "stdout",
     "output_type": "stream",
     "text": [
      "Epoch 130, Loss 0.0262\n",
      "Training Accuracy: 0.9701, Testing Accuracy: 0.9677\n",
      "\n"
     ]
    },
    {
     "name": "stdout",
     "output_type": "stream",
     "text": [
      "Epoch 140, Loss 0.0255\n",
      "Training Accuracy: 0.9712, Testing Accuracy: 0.9672\n",
      "\n"
     ]
    },
    {
     "name": "stdout",
     "output_type": "stream",
     "text": [
      "Epoch 150, Loss 0.025\n",
      "Training Accuracy: 0.9718, Testing Accuracy: 0.9677\n",
      "\n"
     ]
    },
    {
     "name": "stdout",
     "output_type": "stream",
     "text": [
      "Epoch 160, Loss 0.0245\n",
      "Training Accuracy: 0.9722, Testing Accuracy: 0.9682\n",
      "\n"
     ]
    },
    {
     "name": "stdout",
     "output_type": "stream",
     "text": [
      "Epoch 170, Loss 0.024\n",
      "Training Accuracy: 0.9725, Testing Accuracy: 0.9682\n",
      "\n"
     ]
    },
    {
     "name": "stdout",
     "output_type": "stream",
     "text": [
      "Epoch 180, Loss 0.0236\n",
      "Training Accuracy: 0.9730, Testing Accuracy: 0.9682\n",
      "\n"
     ]
    },
    {
     "name": "stdout",
     "output_type": "stream",
     "text": [
      "Epoch 190, Loss 0.0232\n",
      "Training Accuracy: 0.9735, Testing Accuracy: 0.9688\n",
      "\n"
     ]
    },
    {
     "name": "stdout",
     "output_type": "stream",
     "text": [
      "Epoch 200, Loss 0.0228\n",
      "Training Accuracy: 0.9740, Testing Accuracy: 0.9693\n",
      "\n"
     ]
    },
    {
     "name": "stdout",
     "output_type": "stream",
     "text": [
      "Epoch 210, Loss 0.0224\n",
      "Training Accuracy: 0.9745, Testing Accuracy: 0.9693\n",
      "\n"
     ]
    },
    {
     "name": "stdout",
     "output_type": "stream",
     "text": [
      "Epoch 220, Loss 0.0221\n",
      "Training Accuracy: 0.9746, Testing Accuracy: 0.9698\n",
      "\n"
     ]
    },
    {
     "name": "stdout",
     "output_type": "stream",
     "text": [
      "Epoch 230, Loss 0.0218\n",
      "Training Accuracy: 0.9750, Testing Accuracy: 0.9698\n",
      "\n"
     ]
    },
    {
     "name": "stdout",
     "output_type": "stream",
     "text": [
      "Epoch 240, Loss 0.0215\n",
      "Training Accuracy: 0.9750, Testing Accuracy: 0.9703\n",
      "\n"
     ]
    },
    {
     "data": {
      "text/plain": [
       "0.027392352685357998"
      ]
     },
     "execution_count": 22,
     "metadata": {},
     "output_type": "execute_result"
    }
   ],
   "source": [
    "nn_learner.train_loop(dl)"
   ]
  },
  {
   "cell_type": "code",
   "execution_count": 23,
   "id": "e0163366",
   "metadata": {
    "execution": {
     "iopub.execute_input": "2022-08-15T10:12:24.877647Z",
     "iopub.status.busy": "2022-08-15T10:12:24.877038Z",
     "iopub.status.idle": "2022-08-15T10:12:39.276964Z",
     "shell.execute_reply": "2022-08-15T10:12:39.277426Z"
    },
    "papermill": {
     "duration": 14.439568,
     "end_time": "2022-08-15T10:12:39.277571",
     "exception": false,
     "start_time": "2022-08-15T10:12:24.838003",
     "status": "completed"
    },
    "tags": []
   },
   "outputs": [
    {
     "name": "stdout",
     "output_type": "stream",
     "text": [
      "Epoch 0, Loss 0.2433\n",
      "Training Accuracy: 0.6594, Testing Accuracy: 0.6537\n",
      "\n"
     ]
    },
    {
     "name": "stdout",
     "output_type": "stream",
     "text": [
      "Epoch 10, Loss 0.1071\n",
      "Training Accuracy: 0.8943, Testing Accuracy: 0.9078\n",
      "\n"
     ]
    },
    {
     "name": "stdout",
     "output_type": "stream",
     "text": [
      "Epoch 20, Loss 0.0819\n",
      "Training Accuracy: 0.9197, Testing Accuracy: 0.9320\n",
      "\n"
     ]
    },
    {
     "name": "stdout",
     "output_type": "stream",
     "text": [
      "Epoch 30, Loss 0.0702\n",
      "Training Accuracy: 0.9319, Testing Accuracy: 0.9415\n",
      "\n"
     ]
    },
    {
     "name": "stdout",
     "output_type": "stream",
     "text": [
      "Epoch 40, Loss 0.0632\n",
      "Training Accuracy: 0.9377, Testing Accuracy: 0.9461\n",
      "\n"
     ]
    },
    {
     "name": "stdout",
     "output_type": "stream",
     "text": [
      "Epoch 50, Loss 0.0585\n",
      "Training Accuracy: 0.9412, Testing Accuracy: 0.9516\n",
      "\n"
     ]
    },
    {
     "name": "stdout",
     "output_type": "stream",
     "text": [
      "Epoch 60, Loss 0.055\n",
      "Training Accuracy: 0.9446, Testing Accuracy: 0.9577\n",
      "\n"
     ]
    },
    {
     "name": "stdout",
     "output_type": "stream",
     "text": [
      "Epoch 70, Loss 0.0523\n",
      "Training Accuracy: 0.9463, Testing Accuracy: 0.9597\n",
      "\n"
     ]
    },
    {
     "name": "stdout",
     "output_type": "stream",
     "text": [
      "Epoch 80, Loss 0.0501\n",
      "Training Accuracy: 0.9485, Testing Accuracy: 0.9602\n",
      "\n"
     ]
    },
    {
     "name": "stdout",
     "output_type": "stream",
     "text": [
      "Epoch 90, Loss 0.0483\n",
      "Training Accuracy: 0.9501, Testing Accuracy: 0.9612\n",
      "\n"
     ]
    },
    {
     "name": "stdout",
     "output_type": "stream",
     "text": [
      "Epoch 100, Loss 0.0468\n",
      "Training Accuracy: 0.9512, Testing Accuracy: 0.9617\n",
      "\n"
     ]
    },
    {
     "name": "stdout",
     "output_type": "stream",
     "text": [
      "Epoch 110, Loss 0.0456\n",
      "Training Accuracy: 0.9520, Testing Accuracy: 0.9617\n",
      "\n"
     ]
    },
    {
     "name": "stdout",
     "output_type": "stream",
     "text": [
      "Epoch 120, Loss 0.0444\n",
      "Training Accuracy: 0.9528, Testing Accuracy: 0.9627\n",
      "\n"
     ]
    },
    {
     "name": "stdout",
     "output_type": "stream",
     "text": [
      "Epoch 130, Loss 0.0435\n",
      "Training Accuracy: 0.9533, Testing Accuracy: 0.9632\n",
      "\n"
     ]
    },
    {
     "name": "stdout",
     "output_type": "stream",
     "text": [
      "Epoch 140, Loss 0.0426\n",
      "Training Accuracy: 0.9545, Testing Accuracy: 0.9642\n",
      "\n"
     ]
    },
    {
     "name": "stdout",
     "output_type": "stream",
     "text": [
      "Epoch 150, Loss 0.0418\n",
      "Training Accuracy: 0.9555, Testing Accuracy: 0.9647\n",
      "\n"
     ]
    },
    {
     "name": "stdout",
     "output_type": "stream",
     "text": [
      "Epoch 160, Loss 0.0411\n",
      "Training Accuracy: 0.9564, Testing Accuracy: 0.9652\n",
      "\n"
     ]
    },
    {
     "name": "stdout",
     "output_type": "stream",
     "text": [
      "Epoch 170, Loss 0.0404\n",
      "Training Accuracy: 0.9567, Testing Accuracy: 0.9652\n",
      "\n"
     ]
    },
    {
     "name": "stdout",
     "output_type": "stream",
     "text": [
      "Epoch 180, Loss 0.0399\n",
      "Training Accuracy: 0.9569, Testing Accuracy: 0.9652\n",
      "\n"
     ]
    },
    {
     "name": "stdout",
     "output_type": "stream",
     "text": [
      "Epoch 190, Loss 0.0393\n",
      "Training Accuracy: 0.9574, Testing Accuracy: 0.9652\n",
      "\n"
     ]
    },
    {
     "name": "stdout",
     "output_type": "stream",
     "text": [
      "Epoch 200, Loss 0.0388\n",
      "Training Accuracy: 0.9575, Testing Accuracy: 0.9657\n",
      "\n"
     ]
    },
    {
     "name": "stdout",
     "output_type": "stream",
     "text": [
      "Epoch 210, Loss 0.0384\n",
      "Training Accuracy: 0.9580, Testing Accuracy: 0.9657\n",
      "\n"
     ]
    },
    {
     "name": "stdout",
     "output_type": "stream",
     "text": [
      "Epoch 220, Loss 0.0379\n",
      "Training Accuracy: 0.9588, Testing Accuracy: 0.9657\n",
      "\n"
     ]
    },
    {
     "name": "stdout",
     "output_type": "stream",
     "text": [
      "Epoch 230, Loss 0.0375\n",
      "Training Accuracy: 0.9591, Testing Accuracy: 0.9662\n",
      "\n"
     ]
    },
    {
     "name": "stdout",
     "output_type": "stream",
     "text": [
      "Epoch 240, Loss 0.0372\n",
      "Training Accuracy: 0.9595, Testing Accuracy: 0.9657\n",
      "\n"
     ]
    },
    {
     "data": {
      "text/plain": [
       "0.023745864832210216"
      ]
     },
     "execution_count": 23,
     "metadata": {},
     "output_type": "execute_result"
    }
   ],
   "source": [
    "lr_learner.train_loop(dl)"
   ]
  },
  {
   "cell_type": "code",
   "execution_count": 24,
   "id": "ca410940",
   "metadata": {
    "execution": {
     "iopub.execute_input": "2022-08-15T10:12:39.370758Z",
     "iopub.status.busy": "2022-08-15T10:12:39.370165Z",
     "iopub.status.idle": "2022-08-15T10:12:39.596449Z",
     "shell.execute_reply": "2022-08-15T10:12:39.597231Z"
    },
    "papermill": {
     "duration": 0.27741,
     "end_time": "2022-08-15T10:12:39.597388",
     "exception": false,
     "start_time": "2022-08-15T10:12:39.319978",
     "status": "completed"
    },
    "tags": []
   },
   "outputs": [
    {
     "data": {
      "text/plain": [
       "<matplotlib.legend.Legend at 0x7f738b1c0cf8>"
      ]
     },
     "execution_count": 24,
     "metadata": {},
     "output_type": "execute_result"
    },
    {
     "data": {
      "image/png": "[encoded data removed]",
      "text/plain": [
       "<Figure size 1080x720 with 1 Axes>"
      ]
     },
     "metadata": {
      "needs_background": "light"
     },
     "output_type": "display_data"
    }
   ],
   "source": [
    "#comparing the results of NN and LR\n",
    "plt.figure(figsize=(15,10))\n",
    "\n",
    "# Neural Network plots\n",
    "plt.plot(acc_nn.accuracies, 'r-', label = \"Training Accuracies - NN\")\n",
    "plt.plot(acc_nn.test_accuracies, 'g-', label = \"Testing Accuracies - NN\")\n",
    "\n",
    "# Logistic Regression plots\n",
    "plt.plot(acc_lr.accuracies, 'k-', label = \"Training Accuracies - LR\")\n",
    "plt.plot(acc_lr.test_accuracies, 'b-', label = \"Testing Accuracies - LR\")\n",
    "plt.legend()"
   ]
  },
  {
   "cell_type": "markdown",
   "id": "80dfb35c",
   "metadata": {
    "papermill": {
     "duration": 0.042825,
     "end_time": "2022-08-15T10:12:39.683427",
     "exception": false,
     "start_time": "2022-08-15T10:12:39.640602",
     "status": "completed"
    },
    "tags": []
   },
   "source": [
    "#### Plotting the outputs of this layer of the NN.\n"
   ]
  },
  {
   "cell_type": "code",
   "execution_count": 25,
   "id": "45eb2ff5",
   "metadata": {
    "execution": {
     "iopub.execute_input": "2022-08-15T10:12:39.779704Z",
     "iopub.status.busy": "2022-08-15T10:12:39.777200Z",
     "iopub.status.idle": "2022-08-15T10:12:39.796846Z",
     "shell.execute_reply": "2022-08-15T10:12:39.797350Z"
    },
    "papermill": {
     "duration": 0.06976,
     "end_time": "2022-08-15T10:12:39.797503",
     "exception": false,
     "start_time": "2022-08-15T10:12:39.727743",
     "status": "completed"
    },
    "tags": []
   },
   "outputs": [],
   "source": [
    "new_model = Model(layers[:-2])\n",
    "testing_plot = new_model(testing_data_x)"
   ]
  },
  {
   "cell_type": "code",
   "execution_count": 26,
   "id": "4c0a5485",
   "metadata": {
    "execution": {
     "iopub.execute_input": "2022-08-15T10:12:39.890866Z",
     "iopub.status.busy": "2022-08-15T10:12:39.890228Z",
     "iopub.status.idle": "2022-08-15T10:12:40.091539Z",
     "shell.execute_reply": "2022-08-15T10:12:40.091036Z"
    },
    "papermill": {
     "duration": 0.250756,
     "end_time": "2022-08-15T10:12:40.091659",
     "exception": false,
     "start_time": "2022-08-15T10:12:39.840903",
     "status": "completed"
    },
    "tags": []
   },
   "outputs": [
    {
     "data": {
      "text/plain": [
       "Text(0.5, 1.0, 'Outputs')"
      ]
     },
     "execution_count": 26,
     "metadata": {},
     "output_type": "execute_result"
    },
    {
     "data": {
      "image/png": "[encoded data removed]",
      "text/plain": [
       "<Figure size 576x504 with 1 Axes>"
      ]
     },
     "metadata": {
      "needs_background": "light"
     },
     "output_type": "display_data"
    }
   ],
   "source": [
    "# Plotting the scatter plot of points and color coding by class\n",
    "plt.figure(figsize=(8,7))\n",
    "plt.scatter(testing_plot[:,0], testing_plot[:,1], alpha = 0.1, c = y_test.ravel());\n",
    "plt.title('Outputs')"
   ]
  },
  {
   "cell_type": "markdown",
   "id": "a74fcf8f",
   "metadata": {
    "papermill": {
     "duration": 0.046081,
     "end_time": "2022-08-15T10:12:40.183922",
     "exception": false,
     "start_time": "2022-08-15T10:12:40.137841",
     "status": "completed"
    },
    "tags": []
   },
   "source": [
    "Probability contours"
   ]
  },
  {
   "cell_type": "code",
   "execution_count": 27,
   "id": "d0afc8e3",
   "metadata": {
    "execution": {
     "iopub.execute_input": "2022-08-15T10:12:40.318318Z",
     "iopub.status.busy": "2022-08-15T10:12:40.317708Z",
     "iopub.status.idle": "2022-08-15T10:12:40.330239Z",
     "shell.execute_reply": "2022-08-15T10:12:40.329731Z"
    },
    "papermill": {
     "duration": 0.100228,
     "end_time": "2022-08-15T10:12:40.330366",
     "exception": false,
     "start_time": "2022-08-15T10:12:40.230138",
     "status": "completed"
    },
    "tags": []
   },
   "outputs": [],
   "source": [
    "model_prob = Model(layers[-2:]) "
   ]
  },
  {
   "cell_type": "code",
   "execution_count": 28,
   "id": "9b96e238",
   "metadata": {
    "execution": {
     "iopub.execute_input": "2022-08-15T10:12:40.426144Z",
     "iopub.status.busy": "2022-08-15T10:12:40.425510Z",
     "iopub.status.idle": "2022-08-15T10:12:40.440275Z",
     "shell.execute_reply": "2022-08-15T10:12:40.440677Z"
    },
    "papermill": {
     "duration": 0.064256,
     "end_time": "2022-08-15T10:12:40.440819",
     "exception": false,
     "start_time": "2022-08-15T10:12:40.376563",
     "status": "completed"
    },
    "tags": []
   },
   "outputs": [],
   "source": [
    "#creating the x and y ranges according to the above generated plot.\n",
    "x_range = np.linspace(-4, 1, 100) \n",
    "y_range = np.linspace(-6, 6, 100) \n",
    "x_grid, y_grid = np.meshgrid(x_range, y_range) # x_grid and y_grig are of size 100 X 100\n",
    "\n",
    "# converting x_grid and y_grid to continuous arrays\n",
    "x_gridflat = np.ravel(x_grid)\n",
    "y_gridflat = np.ravel(y_grid)\n",
    "\n",
    "# The last layer of the current model takes two columns as input. Hence transpose of np.vstack() is required.\n",
    "X = np.vstack((x_gridflat, y_gridflat)).T\n",
    "\n",
    "prob_contour = model_prob(X).reshape(100,100) "
   ]
  },
  {
   "cell_type": "code",
   "execution_count": 29,
   "id": "da72499a",
   "metadata": {
    "execution": {
     "iopub.execute_input": "2022-08-15T10:12:40.537706Z",
     "iopub.status.busy": "2022-08-15T10:12:40.537145Z",
     "iopub.status.idle": "2022-08-15T10:12:40.771137Z",
     "shell.execute_reply": "2022-08-15T10:12:40.771535Z"
    },
    "papermill": {
     "duration": 0.289054,
     "end_time": "2022-08-15T10:12:40.771679",
     "exception": false,
     "start_time": "2022-08-15T10:12:40.482625",
     "status": "completed"
    },
    "tags": []
   },
   "outputs": [
    {
     "data": {
      "image/png": "[encoded data removed]",
      "text/plain": [
       "<Figure size 720x648 with 1 Axes>"
      ]
     },
     "metadata": {
      "needs_background": "light"
     },
     "output_type": "display_data"
    }
   ],
   "source": [
    "plt.figure(figsize=(10,9))\n",
    "plt.scatter(testing_plot[:,0], testing_plot[:,1], alpha = 0.1, c = y_test.ravel())\n",
    "contours = plt.contour(x_grid,y_grid,prob_contour)\n",
    "plt.title('Probability Contours')\n",
    "plt.clabel(contours, inline = True );"
   ]
  },
  {
   "cell_type": "code",
   "execution_count": null,
   "id": "e81b4ac7",
   "metadata": {
    "papermill": {
     "duration": 0.043036,
     "end_time": "2022-08-15T10:12:40.858606",
     "exception": false,
     "start_time": "2022-08-15T10:12:40.815570",
     "status": "completed"
    },
    "tags": []
   },
   "outputs": [],
   "source": []
  }
 ],
 "metadata": {
  "kernelspec": {
   "display_name": "Python 3",
   "language": "python",
   "name": "python3"
  },
  "language_info": {
   "codemirror_mode": {
    "name": "ipython",
    "version": 3
   },
   "file_extension": ".py",
   "mimetype": "text/x-python",
   "name": "python",
   "nbconvert_exporter": "python",
   "pygments_lexer": "ipython3",
   "version": "3.6.15"
  },
  "papermill": {
   "default_parameters": {},
   "duration": 101.835272,
   "end_time": "2022-08-15T10:12:41.422236",
   "environment_variables": {},
   "exception": null,
   "input_path": "2020-08-11-part2.ipynb",
   "output_path": "2020-08-11-part2.ipynb",
   "parameters": {},
   "start_time": "2022-08-15T10:10:59.586964",
   "version": "2.3.3"
  }
 },
 "nbformat": 4,
 "nbformat_minor": 5
}