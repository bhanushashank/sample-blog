{
 "cells": [
  {
   "cell_type": "markdown",
   "id": "98380cd3",
   "metadata": {
    "papermill": {
     "duration": 0.033002,
     "end_time": "2021-09-12T10:07:23.136535",
     "exception": false,
     "start_time": "2021-09-12T10:07:23.103533",
     "status": "completed"
    },
    "tags": []
   },
   "source": [
    "# Distinguish Your Own Digits (DYOD)"
   ]
  },
  {
   "cell_type": "markdown",
   "id": "ef31240d",
   "metadata": {
    "papermill": {
     "duration": 0.027222,
     "end_time": "2021-09-12T10:07:23.192009",
     "exception": false,
     "start_time": "2021-09-12T10:07:23.164787",
     "status": "completed"
    },
    "tags": []
   },
   "source": [
    "You are going to write a classifier that distinguishes between the number 3 and number 8."
   ]
  },
  {
   "cell_type": "code",
   "execution_count": 1,
   "id": "b15c8646",
   "metadata": {
    "execution": {
     "iopub.execute_input": "2021-09-12T10:07:23.259542Z",
     "iopub.status.busy": "2021-09-12T10:07:23.258911Z",
     "iopub.status.idle": "2021-09-12T10:07:23.272409Z",
     "shell.execute_reply": "2021-09-12T10:07:23.271755Z"
    },
    "papermill": {
     "duration": 0.053328,
     "end_time": "2021-09-12T10:07:23.272737",
     "exception": false,
     "start_time": "2021-09-12T10:07:23.219409",
     "status": "completed"
    },
    "tags": []
   },
   "outputs": [],
   "source": [
    "%load_ext autoreload\n",
    "%autoreload 2"
   ]
  },
  {
   "cell_type": "code",
   "execution_count": 2,
   "id": "22ef38dc",
   "metadata": {
    "execution": {
     "iopub.execute_input": "2021-09-12T10:07:23.332705Z",
     "iopub.status.busy": "2021-09-12T10:07:23.331972Z",
     "iopub.status.idle": "2021-09-12T10:07:23.898000Z",
     "shell.execute_reply": "2021-09-12T10:07:23.897487Z"
    },
    "papermill": {
     "duration": 0.598263,
     "end_time": "2021-09-12T10:07:23.898135",
     "exception": false,
     "start_time": "2021-09-12T10:07:23.299872",
     "status": "completed"
    },
    "tags": []
   },
   "outputs": [],
   "source": [
    "%matplotlib inline\n",
    "import numpy as np\n",
    "import matplotlib.pyplot as plt\n",
    "import pandas as pd"
   ]
  },
  {
   "cell_type": "markdown",
   "id": "ba036198",
   "metadata": {
    "papermill": {
     "duration": 0.028547,
     "end_time": "2021-09-12T10:07:23.955854",
     "exception": false,
     "start_time": "2021-09-12T10:07:23.927307",
     "status": "completed"
    },
    "tags": []
   },
   "source": [
    "From the command line run `pip install mnist`. This is a library that will help you bring down the mnist dataset. If you run this from a notebook, you need to put  `!pip install mnist` in a cell by itself."
   ]
  },
  {
   "cell_type": "code",
   "execution_count": 3,
   "id": "bb6ad8a1",
   "metadata": {
    "execution": {
     "iopub.execute_input": "2021-09-12T10:07:24.019533Z",
     "iopub.status.busy": "2021-09-12T10:07:24.018838Z",
     "iopub.status.idle": "2021-09-12T10:07:25.923943Z",
     "shell.execute_reply": "2021-09-12T10:07:25.924462Z"
    },
    "papermill": {
     "duration": 1.939292,
     "end_time": "2021-09-12T10:07:25.924623",
     "exception": false,
     "start_time": "2021-09-12T10:07:23.985331",
     "status": "completed"
    },
    "tags": []
   },
   "outputs": [
    {
     "name": "stdout",
     "output_type": "stream",
     "text": [
      "Collecting mnist\r\n"
     ]
    },
    {
     "name": "stdout",
     "output_type": "stream",
     "text": [
      "  Downloading mnist-0.2.2-py2.py3-none-any.whl (3.5 kB)\r\n",
      "Requirement already satisfied: numpy in /opt/hostedtoolcache/Python/3.6.14/x64/lib/python3.6/site-packages (from mnist) (1.19.5)\r\n"
     ]
    },
    {
     "name": "stdout",
     "output_type": "stream",
     "text": [
      "Installing collected packages: mnist\r\n"
     ]
    },
    {
     "name": "stdout",
     "output_type": "stream",
     "text": [
      "Successfully installed mnist-0.2.2\r\n"
     ]
    }
   ],
   "source": [
    "!pip install mnist"
   ]
  },
  {
   "cell_type": "markdown",
   "id": "69df9c9a",
   "metadata": {
    "papermill": {
     "duration": 0.029274,
     "end_time": "2021-09-12T10:07:25.983498",
     "exception": false,
     "start_time": "2021-09-12T10:07:25.954224",
     "status": "completed"
    },
    "tags": []
   },
   "source": [
    "## Preparing the Data"
   ]
  },
  {
   "cell_type": "code",
   "execution_count": 4,
   "id": "7f69d806",
   "metadata": {
    "execution": {
     "iopub.execute_input": "2021-09-12T10:07:26.050309Z",
     "iopub.status.busy": "2021-09-12T10:07:26.049240Z",
     "iopub.status.idle": "2021-09-12T10:07:26.063604Z",
     "shell.execute_reply": "2021-09-12T10:07:26.063099Z"
    },
    "papermill": {
     "duration": 0.049272,
     "end_time": "2021-09-12T10:07:26.063728",
     "exception": false,
     "start_time": "2021-09-12T10:07:26.014456",
     "status": "completed"
    },
    "tags": []
   },
   "outputs": [],
   "source": [
    "import mnist"
   ]
  },
  {
   "cell_type": "code",
   "execution_count": 5,
   "id": "a411e44f",
   "metadata": {
    "execution": {
     "iopub.execute_input": "2021-09-12T10:07:26.136991Z",
     "iopub.status.busy": "2021-09-12T10:07:26.136097Z",
     "iopub.status.idle": "2021-09-12T10:07:26.757772Z",
     "shell.execute_reply": "2021-09-12T10:07:26.757052Z"
    },
    "papermill": {
     "duration": 0.661314,
     "end_time": "2021-09-12T10:07:26.757930",
     "exception": false,
     "start_time": "2021-09-12T10:07:26.096616",
     "status": "completed"
    },
    "tags": []
   },
   "outputs": [],
   "source": [
    "train_images = mnist.train_images()\n",
    "train_labels = mnist.train_labels()"
   ]
  },
  {
   "cell_type": "code",
   "execution_count": 6,
   "id": "dceab3a5",
   "metadata": {
    "execution": {
     "iopub.execute_input": "2021-09-12T10:07:26.827990Z",
     "iopub.status.busy": "2021-09-12T10:07:26.827234Z",
     "iopub.status.idle": "2021-09-12T10:07:26.841348Z",
     "shell.execute_reply": "2021-09-12T10:07:26.841958Z"
    },
    "papermill": {
     "duration": 0.050405,
     "end_time": "2021-09-12T10:07:26.842138",
     "exception": false,
     "start_time": "2021-09-12T10:07:26.791733",
     "status": "completed"
    },
    "tags": []
   },
   "outputs": [
    {
     "data": {
      "text/plain": [
       "((60000, 28, 28), (60000,))"
      ]
     },
     "execution_count": 6,
     "metadata": {},
     "output_type": "execute_result"
    }
   ],
   "source": [
    "train_images.shape, train_labels.shape"
   ]
  },
  {
   "cell_type": "code",
   "execution_count": 7,
   "id": "f50dc2bb",
   "metadata": {
    "execution": {
     "iopub.execute_input": "2021-09-12T10:07:26.909832Z",
     "iopub.status.busy": "2021-09-12T10:07:26.909193Z",
     "iopub.status.idle": "2021-09-12T10:07:27.146177Z",
     "shell.execute_reply": "2021-09-12T10:07:27.145556Z"
    },
    "papermill": {
     "duration": 0.274853,
     "end_time": "2021-09-12T10:07:27.146315",
     "exception": false,
     "start_time": "2021-09-12T10:07:26.871462",
     "status": "completed"
    },
    "tags": []
   },
   "outputs": [],
   "source": [
    "test_images = mnist.test_images()\n",
    "test_labels = mnist.test_labels()"
   ]
  },
  {
   "cell_type": "code",
   "execution_count": 8,
   "id": "fc38cf1b",
   "metadata": {
    "execution": {
     "iopub.execute_input": "2021-09-12T10:07:27.219497Z",
     "iopub.status.busy": "2021-09-12T10:07:27.212687Z",
     "iopub.status.idle": "2021-09-12T10:07:27.228099Z",
     "shell.execute_reply": "2021-09-12T10:07:27.227602Z"
    },
    "papermill": {
     "duration": 0.050886,
     "end_time": "2021-09-12T10:07:27.228238",
     "exception": false,
     "start_time": "2021-09-12T10:07:27.177352",
     "status": "completed"
    },
    "tags": []
   },
   "outputs": [
    {
     "data": {
      "text/plain": [
       "((10000, 28, 28), (10000,))"
      ]
     },
     "execution_count": 8,
     "metadata": {},
     "output_type": "execute_result"
    }
   ],
   "source": [
    "test_images.shape, test_labels.shape"
   ]
  },
  {
   "cell_type": "code",
   "execution_count": 9,
   "id": "f9ed8fe0",
   "metadata": {
    "execution": {
     "iopub.execute_input": "2021-09-12T10:07:27.300968Z",
     "iopub.status.busy": "2021-09-12T10:07:27.294660Z",
     "iopub.status.idle": "2021-09-12T10:07:27.467590Z",
     "shell.execute_reply": "2021-09-12T10:07:27.467018Z"
    },
    "papermill": {
     "duration": 0.207379,
     "end_time": "2021-09-12T10:07:27.467743",
     "exception": false,
     "start_time": "2021-09-12T10:07:27.260364",
     "status": "completed"
    },
    "tags": []
   },
   "outputs": [
    {
     "name": "stdout",
     "output_type": "stream",
     "text": [
      "2\n"
     ]
    },
    {
     "data": {
      "text/plain": [
       "<matplotlib.image.AxesImage at 0x7f539844be10>"
      ]
     },
     "execution_count": 9,
     "metadata": {},
     "output_type": "execute_result"
    },
    {
     "data": {
      "image/png": "[encoded data removed]",
      "text/plain": [
       "<Figure size 432x288 with 1 Axes>"
      ]
     },
     "metadata": {
      "needs_background": "light"
     },
     "output_type": "display_data"
    }
   ],
   "source": [
    "image_index = 7776 # You may select anything up to 60,000\n",
    "print(train_labels[image_index]) \n",
    "plt.imshow(train_images[image_index], cmap='Greys')"
   ]
  },
  {
   "cell_type": "markdown",
   "id": "a8d2388d",
   "metadata": {
    "papermill": {
     "duration": 0.032453,
     "end_time": "2021-09-12T10:07:27.535764",
     "exception": false,
     "start_time": "2021-09-12T10:07:27.503311",
     "status": "completed"
    },
    "tags": []
   },
   "source": [
    "## Filter data to get 3 and 8 out"
   ]
  },
  {
   "cell_type": "code",
   "execution_count": 10,
   "id": "776f7fc7",
   "metadata": {
    "execution": {
     "iopub.execute_input": "2021-09-12T10:07:27.617218Z",
     "iopub.status.busy": "2021-09-12T10:07:27.609444Z",
     "iopub.status.idle": "2021-09-12T10:07:27.627698Z",
     "shell.execute_reply": "2021-09-12T10:07:27.627193Z"
    },
    "papermill": {
     "duration": 0.06018,
     "end_time": "2021-09-12T10:07:27.627850",
     "exception": false,
     "start_time": "2021-09-12T10:07:27.567670",
     "status": "completed"
    },
    "tags": []
   },
   "outputs": [],
   "source": [
    "train_filter = np.where((train_labels == 3 ) | (train_labels == 8))\n",
    "test_filter = np.where((test_labels == 3) | (test_labels == 8))\n",
    "X_train, y_train = train_images[train_filter], train_labels[train_filter]\n",
    "X_test, y_test = test_images[test_filter], test_labels[test_filter]"
   ]
  },
  {
   "cell_type": "markdown",
   "id": "948f0b7e",
   "metadata": {
    "papermill": {
     "duration": 0.031906,
     "end_time": "2021-09-12T10:07:27.693347",
     "exception": false,
     "start_time": "2021-09-12T10:07:27.661441",
     "status": "completed"
    },
    "tags": []
   },
   "source": [
    "We normalize the pizel values in the 0 to 1 range"
   ]
  },
  {
   "cell_type": "code",
   "execution_count": 11,
   "id": "ee4c2166",
   "metadata": {
    "execution": {
     "iopub.execute_input": "2021-09-12T10:07:27.765519Z",
     "iopub.status.busy": "2021-09-12T10:07:27.764855Z",
     "iopub.status.idle": "2021-09-12T10:07:27.826241Z",
     "shell.execute_reply": "2021-09-12T10:07:27.825647Z"
    },
    "papermill": {
     "duration": 0.099779,
     "end_time": "2021-09-12T10:07:27.826392",
     "exception": false,
     "start_time": "2021-09-12T10:07:27.726613",
     "status": "completed"
    },
    "tags": []
   },
   "outputs": [],
   "source": [
    "X_train = X_train/255.\n",
    "X_test = X_test/255."
   ]
  },
  {
   "cell_type": "markdown",
   "id": "ddcf4fab",
   "metadata": {
    "papermill": {
     "duration": 0.033468,
     "end_time": "2021-09-12T10:07:27.892370",
     "exception": false,
     "start_time": "2021-09-12T10:07:27.858902",
     "status": "completed"
    },
    "tags": []
   },
   "source": [
    "And setup the labels as 1 (when the digit is 3) and 0 (when the digit is 8)"
   ]
  },
  {
   "cell_type": "code",
   "execution_count": 12,
   "id": "7dc908f2",
   "metadata": {
    "execution": {
     "iopub.execute_input": "2021-09-12T10:07:27.961011Z",
     "iopub.status.busy": "2021-09-12T10:07:27.960319Z",
     "iopub.status.idle": "2021-09-12T10:07:27.973848Z",
     "shell.execute_reply": "2021-09-12T10:07:27.975969Z"
    },
    "papermill": {
     "duration": 0.050967,
     "end_time": "2021-09-12T10:07:27.976566",
     "exception": false,
     "start_time": "2021-09-12T10:07:27.925599",
     "status": "completed"
    },
    "tags": []
   },
   "outputs": [],
   "source": [
    "y_train = 1*(y_train==3)\n",
    "y_test = 1*(y_test==3)"
   ]
  },
  {
   "cell_type": "code",
   "execution_count": 13,
   "id": "01e4e969",
   "metadata": {
    "execution": {
     "iopub.execute_input": "2021-09-12T10:07:28.051142Z",
     "iopub.status.busy": "2021-09-12T10:07:28.050529Z",
     "iopub.status.idle": "2021-09-12T10:07:28.066439Z",
     "shell.execute_reply": "2021-09-12T10:07:28.067193Z"
    },
    "papermill": {
     "duration": 0.0531,
     "end_time": "2021-09-12T10:07:28.067355",
     "exception": false,
     "start_time": "2021-09-12T10:07:28.014255",
     "status": "completed"
    },
    "tags": []
   },
   "outputs": [
    {
     "data": {
      "text/plain": [
       "((11982, 28, 28), (1984, 28, 28))"
      ]
     },
     "execution_count": 13,
     "metadata": {},
     "output_type": "execute_result"
    }
   ],
   "source": [
    "X_train.shape, X_test.shape"
   ]
  },
  {
   "cell_type": "markdown",
   "id": "5ccf3f85",
   "metadata": {
    "papermill": {
     "duration": 0.032418,
     "end_time": "2021-09-12T10:07:28.134638",
     "exception": false,
     "start_time": "2021-09-12T10:07:28.102220",
     "status": "completed"
    },
    "tags": []
   },
   "source": [
    "We reshape the data to flatten the image pixels into a set of features or co-variates:"
   ]
  },
  {
   "cell_type": "code",
   "execution_count": 14,
   "id": "5286a4a3",
   "metadata": {
    "execution": {
     "iopub.execute_input": "2021-09-12T10:07:28.202589Z",
     "iopub.status.busy": "2021-09-12T10:07:28.201917Z",
     "iopub.status.idle": "2021-09-12T10:07:28.216640Z",
     "shell.execute_reply": "2021-09-12T10:07:28.217222Z"
    },
    "papermill": {
     "duration": 0.051588,
     "end_time": "2021-09-12T10:07:28.217393",
     "exception": false,
     "start_time": "2021-09-12T10:07:28.165805",
     "status": "completed"
    },
    "tags": []
   },
   "outputs": [
    {
     "data": {
      "text/plain": [
       "((11982, 784), (1984, 784))"
      ]
     },
     "execution_count": 14,
     "metadata": {},
     "output_type": "execute_result"
    }
   ],
   "source": [
    "X_train = X_train.reshape(X_train.shape[0], -1)\n",
    "X_test = X_test.reshape(X_test.shape[0], -1)\n",
    "X_train.shape, X_test.shape"
   ]
  },
  {
   "cell_type": "code",
   "execution_count": 15,
   "id": "73c5f88a",
   "metadata": {
    "execution": {
     "iopub.execute_input": "2021-09-12T10:07:28.288355Z",
     "iopub.status.busy": "2021-09-12T10:07:28.287705Z",
     "iopub.status.idle": "2021-09-12T10:07:28.307322Z",
     "shell.execute_reply": "2021-09-12T10:07:28.307917Z"
    },
    "papermill": {
     "duration": 0.05727,
     "end_time": "2021-09-12T10:07:28.308086",
     "exception": false,
     "start_time": "2021-09-12T10:07:28.250816",
     "status": "completed"
    },
    "tags": []
   },
   "outputs": [],
   "source": [
    "#Impoting functions from 'Kudzu'\n",
    "from kudzu.model import Model\n",
    "from kudzu.train import Learner\n",
    "from kudzu.optim import GD\n",
    "from kudzu.data import Data, Sampler,Dataloader\n",
    "\n",
    "from kudzu.callbacks import AccCallback\n",
    "from kudzu.callbacks import ClfCallback\n",
    "\n",
    "from kudzu.loss import MSE\n",
    "\n",
    "from kudzu.layer import Sigmoid,Relu\n",
    "from kudzu.layer import Affine"
   ]
  },
  {
   "cell_type": "markdown",
   "id": "bc01172a",
   "metadata": {
    "papermill": {
     "duration": 0.031529,
     "end_time": "2021-09-12T10:07:28.372267",
     "exception": false,
     "start_time": "2021-09-12T10:07:28.340738",
     "status": "completed"
    },
    "tags": []
   },
   "source": [
    "### Let us create a `Config` class, to store important parameters. \n",
    "This class essentially plays the role of a dictionary."
   ]
  },
  {
   "cell_type": "code",
   "execution_count": 16,
   "id": "978281aa",
   "metadata": {
    "execution": {
     "iopub.execute_input": "2021-09-12T10:07:28.452769Z",
     "iopub.status.busy": "2021-09-12T10:07:28.452058Z",
     "iopub.status.idle": "2021-09-12T10:07:28.464469Z",
     "shell.execute_reply": "2021-09-12T10:07:28.465045Z"
    },
    "papermill": {
     "duration": 0.053733,
     "end_time": "2021-09-12T10:07:28.465186",
     "exception": false,
     "start_time": "2021-09-12T10:07:28.411453",
     "status": "completed"
    },
    "tags": []
   },
   "outputs": [],
   "source": [
    "class Config:\n",
    "    pass\n",
    "config = Config()\n",
    "config.lr = 0.001\n",
    "config.num_epochs = 250\n",
    "config.bs = 50"
   ]
  },
  {
   "cell_type": "markdown",
   "id": "1385fa59",
   "metadata": {
    "papermill": {
     "duration": 0.031609,
     "end_time": "2021-09-12T10:07:28.526961",
     "exception": false,
     "start_time": "2021-09-12T10:07:28.495352",
     "status": "completed"
    },
    "tags": []
   },
   "source": [
    "### Running Models with the Training data\n",
    "Details about the network layers:\n",
    "- A first affine layer has 784 inputs and does 100 affine transforms. These are followed by a Relu\n",
    "- A second affine layer has 100 inputs from the 100 activations of the past layer, and does 100 affine transforms. These are followed by a Relu\n",
    "- A third affine layer has 100 activations and does 2 affine transformations to create an embedding for visualization. There is no non-linearity here.\n",
    "- A final \"logistic regression\" which has an affine transform from 2 inputs to 1 output, which is squeezed through a sigmoid.\n"
   ]
  },
  {
   "cell_type": "code",
   "execution_count": 17,
   "id": "2b9c66db",
   "metadata": {
    "execution": {
     "iopub.execute_input": "2021-09-12T10:07:28.595598Z",
     "iopub.status.busy": "2021-09-12T10:07:28.594982Z",
     "iopub.status.idle": "2021-09-12T10:07:28.606718Z",
     "shell.execute_reply": "2021-09-12T10:07:28.606224Z"
    },
    "papermill": {
     "duration": 0.048737,
     "end_time": "2021-09-12T10:07:28.606835",
     "exception": false,
     "start_time": "2021-09-12T10:07:28.558098",
     "status": "completed"
    },
    "tags": []
   },
   "outputs": [],
   "source": [
    "data = Data(X_train, y_train.reshape(-1,1))\n",
    "sampler = Sampler(data, config.bs, shuffle=True)\n",
    "\n",
    "dl = Dataloader(data, sampler)\n",
    "\n",
    "opt = GD(config.lr)\n",
    "loss = MSE()"
   ]
  },
  {
   "cell_type": "code",
   "execution_count": 18,
   "id": "b275e4c2",
   "metadata": {
    "execution": {
     "iopub.execute_input": "2021-09-12T10:07:28.677259Z",
     "iopub.status.busy": "2021-09-12T10:07:28.676659Z",
     "iopub.status.idle": "2021-09-12T10:07:28.687293Z",
     "shell.execute_reply": "2021-09-12T10:07:28.687805Z"
    },
    "papermill": {
     "duration": 0.049483,
     "end_time": "2021-09-12T10:07:28.687940",
     "exception": false,
     "start_time": "2021-09-12T10:07:28.638457",
     "status": "completed"
    },
    "tags": []
   },
   "outputs": [],
   "source": [
    "training_data_x = X_train\n",
    "testing_data_x = X_test\n",
    "training_data_y = y_train.reshape(-1,1)\n",
    "testing_data_y = y_test.reshape(-1,1)"
   ]
  },
  {
   "cell_type": "code",
   "execution_count": 19,
   "id": "76951160",
   "metadata": {
    "execution": {
     "iopub.execute_input": "2021-09-12T10:07:28.763666Z",
     "iopub.status.busy": "2021-09-12T10:07:28.763001Z",
     "iopub.status.idle": "2021-09-12T10:07:28.775843Z",
     "shell.execute_reply": "2021-09-12T10:07:28.776324Z"
    },
    "papermill": {
     "duration": 0.055941,
     "end_time": "2021-09-12T10:07:28.776472",
     "exception": false,
     "start_time": "2021-09-12T10:07:28.720531",
     "status": "completed"
    },
    "tags": []
   },
   "outputs": [
    {
     "name": "stdout",
     "output_type": "stream",
     "text": [
      "xavier\n",
      "xavier\n",
      "xavier\n",
      "xavier\n",
      "xavier\n"
     ]
    }
   ],
   "source": [
    "layers = [Affine(\"first\", 784, 100), Relu(\"first\"), Affine(\"second\", 100, 100), Relu(\"second\"), Affine(\"third\", 100, 2), Affine(\"last\", 2, 1), Sigmoid(\"last\")]\n",
    "model_nn = Model(layers)\n",
    "model_lr = Model([Affine(\"logits\", 784, 1), Sigmoid(\"sigmoid\")])"
   ]
  },
  {
   "cell_type": "code",
   "execution_count": 20,
   "id": "6eede77a",
   "metadata": {
    "execution": {
     "iopub.execute_input": "2021-09-12T10:07:28.855907Z",
     "iopub.status.busy": "2021-09-12T10:07:28.850120Z",
     "iopub.status.idle": "2021-09-12T10:07:28.859027Z",
     "shell.execute_reply": "2021-09-12T10:07:28.859502Z"
    },
    "papermill": {
     "duration": 0.05219,
     "end_time": "2021-09-12T10:07:28.859646",
     "exception": false,
     "start_time": "2021-09-12T10:07:28.807456",
     "status": "completed"
    },
    "tags": []
   },
   "outputs": [],
   "source": [
    "nn_learner = Learner(loss, model_nn, opt, config.num_epochs)\n",
    "acc_nn = ClfCallback(nn_learner, config.bs, training_data_x , testing_data_x, training_data_y, testing_data_y)\n",
    "nn_learner.set_callbacks([acc_nn])"
   ]
  },
  {
   "cell_type": "code",
   "execution_count": 21,
   "id": "877b6cc7",
   "metadata": {
    "execution": {
     "iopub.execute_input": "2021-09-12T10:07:28.934184Z",
     "iopub.status.busy": "2021-09-12T10:07:28.929777Z",
     "iopub.status.idle": "2021-09-12T10:07:28.943013Z",
     "shell.execute_reply": "2021-09-12T10:07:28.942435Z"
    },
    "papermill": {
     "duration": 0.051843,
     "end_time": "2021-09-12T10:07:28.943154",
     "exception": false,
     "start_time": "2021-09-12T10:07:28.891311",
     "status": "completed"
    },
    "tags": []
   },
   "outputs": [],
   "source": [
    "lr_learner = Learner(loss, model_lr, opt, config.num_epochs)\n",
    "acc_lr = ClfCallback(lr_learner, config.bs, training_data_x , testing_data_x, training_data_y, testing_data_y)\n",
    "lr_learner.set_callbacks([acc_lr])"
   ]
  },
  {
   "cell_type": "code",
   "execution_count": 22,
   "id": "d9b133c3",
   "metadata": {
    "execution": {
     "iopub.execute_input": "2021-09-12T10:07:29.013285Z",
     "iopub.status.busy": "2021-09-12T10:07:29.012688Z",
     "iopub.status.idle": "2021-09-12T10:09:37.784796Z",
     "shell.execute_reply": "2021-09-12T10:09:37.785645Z"
    },
    "papermill": {
     "duration": 128.810498,
     "end_time": "2021-09-12T10:09:37.785813",
     "exception": false,
     "start_time": "2021-09-12T10:07:28.975315",
     "status": "completed"
    },
    "tags": []
   },
   "outputs": [
    {
     "name": "stdout",
     "output_type": "stream",
     "text": [
      "Epoch 0, Loss 0.2629\n",
      "Training Accuracy: 0.4485, Testing Accuracy: 0.4541\n",
      "\n"
     ]
    },
    {
     "name": "stdout",
     "output_type": "stream",
     "text": [
      "Epoch 10, Loss 0.1359\n",
      "Training Accuracy: 0.8992, Testing Accuracy: 0.9163\n",
      "\n"
     ]
    },
    {
     "name": "stdout",
     "output_type": "stream",
     "text": [
      "Epoch 20, Loss 0.07\n",
      "Training Accuracy: 0.9321, Testing Accuracy: 0.9435\n",
      "\n"
     ]
    },
    {
     "name": "stdout",
     "output_type": "stream",
     "text": [
      "Epoch 30, Loss 0.0508\n",
      "Training Accuracy: 0.9451, Testing Accuracy: 0.9536\n",
      "\n"
     ]
    },
    {
     "name": "stdout",
     "output_type": "stream",
     "text": [
      "Epoch 40, Loss 0.0424\n",
      "Training Accuracy: 0.9523, Testing Accuracy: 0.9607\n",
      "\n"
     ]
    },
    {
     "name": "stdout",
     "output_type": "stream",
     "text": [
      "Epoch 50, Loss 0.0376\n",
      "Training Accuracy: 0.9575, Testing Accuracy: 0.9637\n",
      "\n"
     ]
    },
    {
     "name": "stdout",
     "output_type": "stream",
     "text": [
      "Epoch 60, Loss 0.0345\n",
      "Training Accuracy: 0.9604, Testing Accuracy: 0.9647\n",
      "\n"
     ]
    },
    {
     "name": "stdout",
     "output_type": "stream",
     "text": [
      "Epoch 70, Loss 0.0322\n",
      "Training Accuracy: 0.9625, Testing Accuracy: 0.9662\n",
      "\n"
     ]
    },
    {
     "name": "stdout",
     "output_type": "stream",
     "text": [
      "Epoch 80, Loss 0.0304\n",
      "Training Accuracy: 0.9649, Testing Accuracy: 0.9667\n",
      "\n"
     ]
    },
    {
     "name": "stdout",
     "output_type": "stream",
     "text": [
      "Epoch 90, Loss 0.029\n",
      "Training Accuracy: 0.9674, Testing Accuracy: 0.9693\n",
      "\n"
     ]
    },
    {
     "name": "stdout",
     "output_type": "stream",
     "text": [
      "Epoch 100, Loss 0.0278\n",
      "Training Accuracy: 0.9687, Testing Accuracy: 0.9708\n",
      "\n"
     ]
    },
    {
     "name": "stdout",
     "output_type": "stream",
     "text": [
      "Epoch 110, Loss 0.0268\n",
      "Training Accuracy: 0.9698, Testing Accuracy: 0.9703\n",
      "\n"
     ]
    },
    {
     "name": "stdout",
     "output_type": "stream",
     "text": [
      "Epoch 120, Loss 0.0259\n",
      "Training Accuracy: 0.9711, Testing Accuracy: 0.9703\n",
      "\n"
     ]
    },
    {
     "name": "stdout",
     "output_type": "stream",
     "text": [
      "Epoch 130, Loss 0.0252\n",
      "Training Accuracy: 0.9721, Testing Accuracy: 0.9703\n",
      "\n"
     ]
    },
    {
     "name": "stdout",
     "output_type": "stream",
     "text": [
      "Epoch 140, Loss 0.0245\n",
      "Training Accuracy: 0.9729, Testing Accuracy: 0.9718\n",
      "\n"
     ]
    },
    {
     "name": "stdout",
     "output_type": "stream",
     "text": [
      "Epoch 150, Loss 0.0239\n",
      "Training Accuracy: 0.9735, Testing Accuracy: 0.9718\n",
      "\n"
     ]
    },
    {
     "name": "stdout",
     "output_type": "stream",
     "text": [
      "Epoch 160, Loss 0.0233\n",
      "Training Accuracy: 0.9736, Testing Accuracy: 0.9723\n",
      "\n"
     ]
    },
    {
     "name": "stdout",
     "output_type": "stream",
     "text": [
      "Epoch 170, Loss 0.0228\n",
      "Training Accuracy: 0.9744, Testing Accuracy: 0.9743\n",
      "\n"
     ]
    },
    {
     "name": "stdout",
     "output_type": "stream",
     "text": [
      "Epoch 180, Loss 0.0223\n",
      "Training Accuracy: 0.9750, Testing Accuracy: 0.9743\n",
      "\n"
     ]
    },
    {
     "name": "stdout",
     "output_type": "stream",
     "text": [
      "Epoch 190, Loss 0.0218\n",
      "Training Accuracy: 0.9756, Testing Accuracy: 0.9738\n",
      "\n"
     ]
    },
    {
     "name": "stdout",
     "output_type": "stream",
     "text": [
      "Epoch 200, Loss 0.0214\n",
      "Training Accuracy: 0.9768, Testing Accuracy: 0.9748\n",
      "\n"
     ]
    },
    {
     "name": "stdout",
     "output_type": "stream",
     "text": [
      "Epoch 210, Loss 0.021\n",
      "Training Accuracy: 0.9769, Testing Accuracy: 0.9753\n",
      "\n"
     ]
    },
    {
     "name": "stdout",
     "output_type": "stream",
     "text": [
      "Epoch 220, Loss 0.0206\n",
      "Training Accuracy: 0.9775, Testing Accuracy: 0.9758\n",
      "\n"
     ]
    },
    {
     "name": "stdout",
     "output_type": "stream",
     "text": [
      "Epoch 230, Loss 0.0202\n",
      "Training Accuracy: 0.9774, Testing Accuracy: 0.9758\n",
      "\n"
     ]
    },
    {
     "name": "stdout",
     "output_type": "stream",
     "text": [
      "Epoch 240, Loss 0.0198\n",
      "Training Accuracy: 0.9777, Testing Accuracy: 0.9758\n",
      "\n"
     ]
    },
    {
     "data": {
      "text/plain": [
       "0.04264981154756033"
      ]
     },
     "execution_count": 22,
     "metadata": {},
     "output_type": "execute_result"
    }
   ],
   "source": [
    "nn_learner.train_loop(dl)"
   ]
  },
  {
   "cell_type": "code",
   "execution_count": 23,
   "id": "e0163366",
   "metadata": {
    "execution": {
     "iopub.execute_input": "2021-09-12T10:09:37.882092Z",
     "iopub.status.busy": "2021-09-12T10:09:37.881433Z",
     "iopub.status.idle": "2021-09-12T10:09:56.317035Z",
     "shell.execute_reply": "2021-09-12T10:09:56.317942Z"
    },
    "papermill": {
     "duration": 18.488649,
     "end_time": "2021-09-12T10:09:56.318102",
     "exception": false,
     "start_time": "2021-09-12T10:09:37.829453",
     "status": "completed"
    },
    "tags": []
   },
   "outputs": [
    {
     "name": "stdout",
     "output_type": "stream",
     "text": [
      "Epoch 0, Loss 0.2133\n",
      "Training Accuracy: 0.7949, Testing Accuracy: 0.8085\n",
      "\n"
     ]
    },
    {
     "name": "stdout",
     "output_type": "stream",
     "text": [
      "Epoch 10, Loss 0.0986\n",
      "Training Accuracy: 0.9179, Testing Accuracy: 0.9264\n",
      "\n"
     ]
    },
    {
     "name": "stdout",
     "output_type": "stream",
     "text": [
      "Epoch 20, Loss 0.077\n",
      "Training Accuracy: 0.9311, Testing Accuracy: 0.9446\n",
      "\n"
     ]
    },
    {
     "name": "stdout",
     "output_type": "stream",
     "text": [
      "Epoch 30, Loss 0.0668\n",
      "Training Accuracy: 0.9387, Testing Accuracy: 0.9521\n",
      "\n"
     ]
    },
    {
     "name": "stdout",
     "output_type": "stream",
     "text": [
      "Epoch 40, Loss 0.0605\n",
      "Training Accuracy: 0.9433, Testing Accuracy: 0.9526\n",
      "\n"
     ]
    },
    {
     "name": "stdout",
     "output_type": "stream",
     "text": [
      "Epoch 50, Loss 0.0562\n",
      "Training Accuracy: 0.9463, Testing Accuracy: 0.9546\n",
      "\n"
     ]
    },
    {
     "name": "stdout",
     "output_type": "stream",
     "text": [
      "Epoch 60, Loss 0.0531\n",
      "Training Accuracy: 0.9480, Testing Accuracy: 0.9597\n",
      "\n"
     ]
    },
    {
     "name": "stdout",
     "output_type": "stream",
     "text": [
      "Epoch 70, Loss 0.0506\n",
      "Training Accuracy: 0.9502, Testing Accuracy: 0.9607\n",
      "\n"
     ]
    },
    {
     "name": "stdout",
     "output_type": "stream",
     "text": [
      "Epoch 80, Loss 0.0487\n",
      "Training Accuracy: 0.9514, Testing Accuracy: 0.9622\n",
      "\n"
     ]
    },
    {
     "name": "stdout",
     "output_type": "stream",
     "text": [
      "Epoch 90, Loss 0.047\n",
      "Training Accuracy: 0.9529, Testing Accuracy: 0.9627\n",
      "\n"
     ]
    },
    {
     "name": "stdout",
     "output_type": "stream",
     "text": [
      "Epoch 100, Loss 0.0457\n",
      "Training Accuracy: 0.9539, Testing Accuracy: 0.9637\n",
      "\n"
     ]
    },
    {
     "name": "stdout",
     "output_type": "stream",
     "text": [
      "Epoch 110, Loss 0.0445\n",
      "Training Accuracy: 0.9548, Testing Accuracy: 0.9642\n",
      "\n"
     ]
    },
    {
     "name": "stdout",
     "output_type": "stream",
     "text": [
      "Epoch 120, Loss 0.0435\n",
      "Training Accuracy: 0.9553, Testing Accuracy: 0.9652\n",
      "\n"
     ]
    },
    {
     "name": "stdout",
     "output_type": "stream",
     "text": [
      "Epoch 130, Loss 0.0426\n",
      "Training Accuracy: 0.9556, Testing Accuracy: 0.9652\n",
      "\n"
     ]
    },
    {
     "name": "stdout",
     "output_type": "stream",
     "text": [
      "Epoch 140, Loss 0.0418\n",
      "Training Accuracy: 0.9562, Testing Accuracy: 0.9652\n",
      "\n"
     ]
    },
    {
     "name": "stdout",
     "output_type": "stream",
     "text": [
      "Epoch 150, Loss 0.041\n",
      "Training Accuracy: 0.9572, Testing Accuracy: 0.9657\n",
      "\n"
     ]
    },
    {
     "name": "stdout",
     "output_type": "stream",
     "text": [
      "Epoch 160, Loss 0.0404\n",
      "Training Accuracy: 0.9575, Testing Accuracy: 0.9657\n",
      "\n"
     ]
    },
    {
     "name": "stdout",
     "output_type": "stream",
     "text": [
      "Epoch 170, Loss 0.0398\n",
      "Training Accuracy: 0.9577, Testing Accuracy: 0.9657\n",
      "\n"
     ]
    },
    {
     "name": "stdout",
     "output_type": "stream",
     "text": [
      "Epoch 180, Loss 0.0393\n",
      "Training Accuracy: 0.9583, Testing Accuracy: 0.9662\n",
      "\n"
     ]
    },
    {
     "name": "stdout",
     "output_type": "stream",
     "text": [
      "Epoch 190, Loss 0.0388\n",
      "Training Accuracy: 0.9586, Testing Accuracy: 0.9667\n",
      "\n"
     ]
    },
    {
     "name": "stdout",
     "output_type": "stream",
     "text": [
      "Epoch 200, Loss 0.0383\n",
      "Training Accuracy: 0.9589, Testing Accuracy: 0.9677\n",
      "\n"
     ]
    },
    {
     "name": "stdout",
     "output_type": "stream",
     "text": [
      "Epoch 210, Loss 0.0379\n",
      "Training Accuracy: 0.9592, Testing Accuracy: 0.9672\n",
      "\n"
     ]
    },
    {
     "name": "stdout",
     "output_type": "stream",
     "text": [
      "Epoch 220, Loss 0.0375\n",
      "Training Accuracy: 0.9597, Testing Accuracy: 0.9672\n",
      "\n"
     ]
    },
    {
     "name": "stdout",
     "output_type": "stream",
     "text": [
      "Epoch 230, Loss 0.0371\n",
      "Training Accuracy: 0.9600, Testing Accuracy: 0.9672\n",
      "\n"
     ]
    },
    {
     "name": "stdout",
     "output_type": "stream",
     "text": [
      "Epoch 240, Loss 0.0367\n",
      "Training Accuracy: 0.9603, Testing Accuracy: 0.9667\n",
      "\n"
     ]
    },
    {
     "data": {
      "text/plain": [
       "0.040370814052038226"
      ]
     },
     "execution_count": 23,
     "metadata": {},
     "output_type": "execute_result"
    }
   ],
   "source": [
    "lr_learner.train_loop(dl)"
   ]
  },
  {
   "cell_type": "code",
   "execution_count": 24,
   "id": "ca410940",
   "metadata": {
    "execution": {
     "iopub.execute_input": "2021-09-12T10:09:56.425994Z",
     "iopub.status.busy": "2021-09-12T10:09:56.425344Z",
     "iopub.status.idle": "2021-09-12T10:09:56.702416Z",
     "shell.execute_reply": "2021-09-12T10:09:56.702962Z"
    },
    "papermill": {
     "duration": 0.334904,
     "end_time": "2021-09-12T10:09:56.703128",
     "exception": false,
     "start_time": "2021-09-12T10:09:56.368224",
     "status": "completed"
    },
    "tags": []
   },
   "outputs": [
    {
     "data": {
      "text/plain": [
       "<matplotlib.legend.Legend at 0x7f5398028eb8>"
      ]
     },
     "execution_count": 24,
     "metadata": {},
     "output_type": "execute_result"
    },
    {
     "data": {
      "image/png": "[encoded data removed]",
      "text/plain": [
       "<Figure size 1080x720 with 1 Axes>"
      ]
     },
     "metadata": {
      "needs_background": "light"
     },
     "output_type": "display_data"
    }
   ],
   "source": [
    "#comparing the results of NN and LR\n",
    "plt.figure(figsize=(15,10))\n",
    "\n",
    "# Neural Network plots\n",
    "plt.plot(acc_nn.accuracies, 'r-', label = \"Training Accuracies - NN\")\n",
    "plt.plot(acc_nn.test_accuracies, 'g-', label = \"Testing Accuracies - NN\")\n",
    "\n",
    "# Logistic Regression plots\n",
    "plt.plot(acc_lr.accuracies, 'k-', label = \"Training Accuracies - LR\")\n",
    "plt.plot(acc_lr.test_accuracies, 'b-', label = \"Testing Accuracies - LR\")\n",
    "plt.legend()"
   ]
  },
  {
   "cell_type": "markdown",
   "id": "80dfb35c",
   "metadata": {
    "papermill": {
     "duration": 0.052413,
     "end_time": "2021-09-12T10:09:56.807701",
     "exception": false,
     "start_time": "2021-09-12T10:09:56.755288",
     "status": "completed"
    },
    "tags": []
   },
   "source": [
    "#### Plotting the outputs of this layer of the NN.\n"
   ]
  },
  {
   "cell_type": "code",
   "execution_count": 25,
   "id": "45eb2ff5",
   "metadata": {
    "execution": {
     "iopub.execute_input": "2021-09-12T10:09:56.919064Z",
     "iopub.status.busy": "2021-09-12T10:09:56.918396Z",
     "iopub.status.idle": "2021-09-12T10:09:56.942471Z",
     "shell.execute_reply": "2021-09-12T10:09:56.943020Z"
    },
    "papermill": {
     "duration": 0.083175,
     "end_time": "2021-09-12T10:09:56.943259",
     "exception": false,
     "start_time": "2021-09-12T10:09:56.860084",
     "status": "completed"
    },
    "tags": []
   },
   "outputs": [],
   "source": [
    "new_model = Model(layers[:-2])\n",
    "testing_plot = new_model(testing_data_x)"
   ]
  },
  {
   "cell_type": "code",
   "execution_count": 26,
   "id": "4c0a5485",
   "metadata": {
    "execution": {
     "iopub.execute_input": "2021-09-12T10:09:57.070212Z",
     "iopub.status.busy": "2021-09-12T10:09:57.069292Z",
     "iopub.status.idle": "2021-09-12T10:09:57.363155Z",
     "shell.execute_reply": "2021-09-12T10:09:57.362592Z"
    },
    "papermill": {
     "duration": 0.357585,
     "end_time": "2021-09-12T10:09:57.363302",
     "exception": false,
     "start_time": "2021-09-12T10:09:57.005717",
     "status": "completed"
    },
    "tags": []
   },
   "outputs": [
    {
     "data": {
      "text/plain": [
       "Text(0.5, 1.0, 'Outputs')"
      ]
     },
     "execution_count": 26,
     "metadata": {},
     "output_type": "execute_result"
    },
    {
     "data": {
      "image/png": "[encoded data removed]",
      "text/plain": [
       "<Figure size 576x504 with 1 Axes>"
      ]
     },
     "metadata": {
      "needs_background": "light"
     },
     "output_type": "display_data"
    }
   ],
   "source": [
    "# Plotting the scatter plot of points and color coding by class\n",
    "plt.figure(figsize=(8,7))\n",
    "plt.scatter(testing_plot[:,0], testing_plot[:,1], alpha = 0.1, c = y_test.ravel());\n",
    "plt.title('Outputs')"
   ]
  },
  {
   "cell_type": "markdown",
   "id": "a74fcf8f",
   "metadata": {
    "papermill": {
     "duration": 0.058235,
     "end_time": "2021-09-12T10:09:57.478067",
     "exception": false,
     "start_time": "2021-09-12T10:09:57.419832",
     "status": "completed"
    },
    "tags": []
   },
   "source": [
    "Probability contours"
   ]
  },
  {
   "cell_type": "code",
   "execution_count": 27,
   "id": "d0afc8e3",
   "metadata": {
    "execution": {
     "iopub.execute_input": "2021-09-12T10:09:57.604111Z",
     "iopub.status.busy": "2021-09-12T10:09:57.603431Z",
     "iopub.status.idle": "2021-09-12T10:09:57.615554Z",
     "shell.execute_reply": "2021-09-12T10:09:57.614966Z"
    },
    "papermill": {
     "duration": 0.0783,
     "end_time": "2021-09-12T10:09:57.615699",
     "exception": false,
     "start_time": "2021-09-12T10:09:57.537399",
     "status": "completed"
    },
    "tags": []
   },
   "outputs": [],
   "source": [
    "model_prob = Model(layers[-2:]) "
   ]
  },
  {
   "cell_type": "code",
   "execution_count": 28,
   "id": "9b96e238",
   "metadata": {
    "execution": {
     "iopub.execute_input": "2021-09-12T10:09:57.761496Z",
     "iopub.status.busy": "2021-09-12T10:09:57.760833Z",
     "iopub.status.idle": "2021-09-12T10:09:57.777215Z",
     "shell.execute_reply": "2021-09-12T10:09:57.776649Z"
    },
    "papermill": {
     "duration": 0.105985,
     "end_time": "2021-09-12T10:09:57.777370",
     "exception": false,
     "start_time": "2021-09-12T10:09:57.671385",
     "status": "completed"
    },
    "tags": []
   },
   "outputs": [],
   "source": [
    "#creating the x and y ranges according to the above generated plot.\n",
    "x_range = np.linspace(-4, 1, 100) \n",
    "y_range = np.linspace(-6, 6, 100) \n",
    "x_grid, y_grid = np.meshgrid(x_range, y_range) # x_grid and y_grig are of size 100 X 100\n",
    "\n",
    "# converting x_grid and y_grid to continuous arrays\n",
    "x_gridflat = np.ravel(x_grid)\n",
    "y_gridflat = np.ravel(y_grid)\n",
    "\n",
    "# The last layer of the current model takes two columns as input. Hence transpose of np.vstack() is required.\n",
    "X = np.vstack((x_gridflat, y_gridflat)).T\n",
    "\n",
    "prob_contour = model_prob(X).reshape(100,100) "
   ]
  },
  {
   "cell_type": "code",
   "execution_count": 29,
   "id": "da72499a",
   "metadata": {
    "execution": {
     "iopub.execute_input": "2021-09-12T10:09:57.906106Z",
     "iopub.status.busy": "2021-09-12T10:09:57.904654Z",
     "iopub.status.idle": "2021-09-12T10:09:58.212946Z",
     "shell.execute_reply": "2021-09-12T10:09:58.212410Z"
    },
    "papermill": {
     "duration": 0.374641,
     "end_time": "2021-09-12T10:09:58.213089",
     "exception": false,
     "start_time": "2021-09-12T10:09:57.838448",
     "status": "completed"
    },
    "tags": []
   },
   "outputs": [
    {
     "data": {
      "image/png": "[encoded data removed]",
      "text/plain": [
       "<Figure size 720x648 with 1 Axes>"
      ]
     },
     "metadata": {
      "needs_background": "light"
     },
     "output_type": "display_data"
    }
   ],
   "source": [
    "plt.figure(figsize=(10,9))\n",
    "plt.scatter(testing_plot[:,0], testing_plot[:,1], alpha = 0.1, c = y_test.ravel())\n",
    "contours = plt.contour(x_grid,y_grid,prob_contour)\n",
    "plt.title('Probability Contours')\n",
    "plt.clabel(contours, inline = True );"
   ]
  },
  {
   "cell_type": "code",
   "execution_count": null,
   "id": "e81b4ac7",
   "metadata": {
    "papermill": {
     "duration": 0.060208,
     "end_time": "2021-09-12T10:09:58.334368",
     "exception": false,
     "start_time": "2021-09-12T10:09:58.274160",
     "status": "completed"
    },
    "tags": []
   },
   "outputs": [],
   "source": []
  }
 ],
 "metadata": {
  "kernelspec": {
   "display_name": "Python 3",
   "language": "python",
   "name": "python3"
  },
  "language_info": {
   "codemirror_mode": {
    "name": "ipython",
    "version": 3
   },
   "file_extension": ".py",
   "mimetype": "text/x-python",
   "name": "python",
   "nbconvert_exporter": "python",
   "pygments_lexer": "ipython3",
   "version": "3.6.14"
  },
  "papermill": {
   "default_parameters": {},
   "duration": 156.774593,
   "end_time": "2021-09-12T10:09:58.802644",
   "environment_variables": {},
   "exception": null,
   "input_path": "2020-08-11-part2.ipynb",
   "output_path": "2020-08-11-part2.ipynb",
   "parameters": {},
   "start_time": "2021-09-12T10:07:22.028051",
   "version": "2.3.3"
  }
 },
 "nbformat": 4,
 "nbformat_minor": 5
}