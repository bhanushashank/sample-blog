{
 "cells": [
  {
   "cell_type": "markdown",
   "id": "98380cd3",
   "metadata": {
    "papermill": {
     "duration": 0.030049,
     "end_time": "2021-11-15T20:08:03.615813",
     "exception": false,
     "start_time": "2021-11-15T20:08:03.585764",
     "status": "completed"
    },
    "tags": []
   },
   "source": [
    "# Distinguish Your Own Digits (DYOD)"
   ]
  },
  {
   "cell_type": "markdown",
   "id": "ef31240d",
   "metadata": {
    "papermill": {
     "duration": 0.031596,
     "end_time": "2021-11-15T20:08:03.680416",
     "exception": false,
     "start_time": "2021-11-15T20:08:03.648820",
     "status": "completed"
    },
    "tags": []
   },
   "source": [
    "You are going to write a classifier that distinguishes between the number 3 and number 8."
   ]
  },
  {
   "cell_type": "code",
   "execution_count": 1,
   "id": "b15c8646",
   "metadata": {
    "execution": {
     "iopub.execute_input": "2021-11-15T20:08:03.753030Z",
     "iopub.status.busy": "2021-11-15T20:08:03.752343Z",
     "iopub.status.idle": "2021-11-15T20:08:03.763795Z",
     "shell.execute_reply": "2021-11-15T20:08:03.763283Z"
    },
    "papermill": {
     "duration": 0.051006,
     "end_time": "2021-11-15T20:08:03.763937",
     "exception": false,
     "start_time": "2021-11-15T20:08:03.712931",
     "status": "completed"
    },
    "tags": []
   },
   "outputs": [],
   "source": [
    "%load_ext autoreload\n",
    "%autoreload 2"
   ]
  },
  {
   "cell_type": "code",
   "execution_count": 2,
   "id": "22ef38dc",
   "metadata": {
    "execution": {
     "iopub.execute_input": "2021-11-15T20:08:03.824710Z",
     "iopub.status.busy": "2021-11-15T20:08:03.823926Z",
     "iopub.status.idle": "2021-11-15T20:08:04.404042Z",
     "shell.execute_reply": "2021-11-15T20:08:04.402229Z"
    },
    "papermill": {
     "duration": 0.614004,
     "end_time": "2021-11-15T20:08:04.404216",
     "exception": false,
     "start_time": "2021-11-15T20:08:03.790212",
     "status": "completed"
    },
    "tags": []
   },
   "outputs": [],
   "source": [
    "%matplotlib inline\n",
    "import numpy as np\n",
    "import matplotlib.pyplot as plt\n",
    "import pandas as pd"
   ]
  },
  {
   "cell_type": "markdown",
   "id": "ba036198",
   "metadata": {
    "papermill": {
     "duration": 0.031198,
     "end_time": "2021-11-15T20:08:04.465048",
     "exception": false,
     "start_time": "2021-11-15T20:08:04.433850",
     "status": "completed"
    },
    "tags": []
   },
   "source": [
    "From the command line run `pip install mnist`. This is a library that will help you bring down the mnist dataset. If you run this from a notebook, you need to put  `!pip install mnist` in a cell by itself."
   ]
  },
  {
   "cell_type": "code",
   "execution_count": 3,
   "id": "bb6ad8a1",
   "metadata": {
    "execution": {
     "iopub.execute_input": "2021-11-15T20:08:04.524425Z",
     "iopub.status.busy": "2021-11-15T20:08:04.523761Z",
     "iopub.status.idle": "2021-11-15T20:08:06.529808Z",
     "shell.execute_reply": "2021-11-15T20:08:06.529254Z"
    },
    "papermill": {
     "duration": 2.038685,
     "end_time": "2021-11-15T20:08:06.529942",
     "exception": false,
     "start_time": "2021-11-15T20:08:04.491257",
     "status": "completed"
    },
    "tags": []
   },
   "outputs": [
    {
     "name": "stdout",
     "output_type": "stream",
     "text": [
      "Collecting mnist\r\n"
     ]
    },
    {
     "name": "stdout",
     "output_type": "stream",
     "text": [
      "  Downloading mnist-0.2.2-py2.py3-none-any.whl (3.5 kB)\r\n"
     ]
    },
    {
     "name": "stdout",
     "output_type": "stream",
     "text": [
      "Requirement already satisfied: numpy in /opt/hostedtoolcache/Python/3.6.15/x64/lib/python3.6/site-packages (from mnist) (1.19.5)\r\n"
     ]
    },
    {
     "name": "stdout",
     "output_type": "stream",
     "text": [
      "Installing collected packages: mnist\r\n"
     ]
    },
    {
     "name": "stdout",
     "output_type": "stream",
     "text": [
      "Successfully installed mnist-0.2.2\r\n"
     ]
    }
   ],
   "source": [
    "!pip install mnist"
   ]
  },
  {
   "cell_type": "markdown",
   "id": "69df9c9a",
   "metadata": {
    "papermill": {
     "duration": 0.028033,
     "end_time": "2021-11-15T20:08:06.586513",
     "exception": false,
     "start_time": "2021-11-15T20:08:06.558480",
     "status": "completed"
    },
    "tags": []
   },
   "source": [
    "## Preparing the Data"
   ]
  },
  {
   "cell_type": "code",
   "execution_count": 4,
   "id": "7f69d806",
   "metadata": {
    "execution": {
     "iopub.execute_input": "2021-11-15T20:08:06.650972Z",
     "iopub.status.busy": "2021-11-15T20:08:06.650219Z",
     "iopub.status.idle": "2021-11-15T20:08:06.664900Z",
     "shell.execute_reply": "2021-11-15T20:08:06.664351Z"
    },
    "papermill": {
     "duration": 0.050239,
     "end_time": "2021-11-15T20:08:06.665028",
     "exception": false,
     "start_time": "2021-11-15T20:08:06.614789",
     "status": "completed"
    },
    "tags": []
   },
   "outputs": [],
   "source": [
    "import mnist"
   ]
  },
  {
   "cell_type": "code",
   "execution_count": 5,
   "id": "a411e44f",
   "metadata": {
    "execution": {
     "iopub.execute_input": "2021-11-15T20:08:06.727389Z",
     "iopub.status.busy": "2021-11-15T20:08:06.726793Z",
     "iopub.status.idle": "2021-11-15T20:08:07.433268Z",
     "shell.execute_reply": "2021-11-15T20:08:07.432709Z"
    },
    "papermill": {
     "duration": 0.739846,
     "end_time": "2021-11-15T20:08:07.433412",
     "exception": false,
     "start_time": "2021-11-15T20:08:06.693566",
     "status": "completed"
    },
    "tags": []
   },
   "outputs": [],
   "source": [
    "train_images = mnist.train_images()\n",
    "train_labels = mnist.train_labels()"
   ]
  },
  {
   "cell_type": "code",
   "execution_count": 6,
   "id": "dceab3a5",
   "metadata": {
    "execution": {
     "iopub.execute_input": "2021-11-15T20:08:07.499142Z",
     "iopub.status.busy": "2021-11-15T20:08:07.498532Z",
     "iopub.status.idle": "2021-11-15T20:08:07.514208Z",
     "shell.execute_reply": "2021-11-15T20:08:07.514720Z"
    },
    "papermill": {
     "duration": 0.05264,
     "end_time": "2021-11-15T20:08:07.514868",
     "exception": false,
     "start_time": "2021-11-15T20:08:07.462228",
     "status": "completed"
    },
    "tags": []
   },
   "outputs": [
    {
     "data": {
      "text/plain": [
       "((60000, 28, 28), (60000,))"
      ]
     },
     "execution_count": 6,
     "metadata": {},
     "output_type": "execute_result"
    }
   ],
   "source": [
    "train_images.shape, train_labels.shape"
   ]
  },
  {
   "cell_type": "code",
   "execution_count": 7,
   "id": "f50dc2bb",
   "metadata": {
    "execution": {
     "iopub.execute_input": "2021-11-15T20:08:07.589511Z",
     "iopub.status.busy": "2021-11-15T20:08:07.584989Z",
     "iopub.status.idle": "2021-11-15T20:08:07.830241Z",
     "shell.execute_reply": "2021-11-15T20:08:07.829697Z"
    },
    "papermill": {
     "duration": 0.284497,
     "end_time": "2021-11-15T20:08:07.830387",
     "exception": false,
     "start_time": "2021-11-15T20:08:07.545890",
     "status": "completed"
    },
    "tags": []
   },
   "outputs": [],
   "source": [
    "test_images = mnist.test_images()\n",
    "test_labels = mnist.test_labels()"
   ]
  },
  {
   "cell_type": "code",
   "execution_count": 8,
   "id": "fc38cf1b",
   "metadata": {
    "execution": {
     "iopub.execute_input": "2021-11-15T20:08:07.902330Z",
     "iopub.status.busy": "2021-11-15T20:08:07.901720Z",
     "iopub.status.idle": "2021-11-15T20:08:07.918703Z",
     "shell.execute_reply": "2021-11-15T20:08:07.919265Z"
    },
    "papermill": {
     "duration": 0.053664,
     "end_time": "2021-11-15T20:08:07.919419",
     "exception": false,
     "start_time": "2021-11-15T20:08:07.865755",
     "status": "completed"
    },
    "tags": []
   },
   "outputs": [
    {
     "data": {
      "text/plain": [
       "((10000, 28, 28), (10000,))"
      ]
     },
     "execution_count": 8,
     "metadata": {},
     "output_type": "execute_result"
    }
   ],
   "source": [
    "test_images.shape, test_labels.shape"
   ]
  },
  {
   "cell_type": "code",
   "execution_count": 9,
   "id": "f9ed8fe0",
   "metadata": {
    "execution": {
     "iopub.execute_input": "2021-11-15T20:08:07.990378Z",
     "iopub.status.busy": "2021-11-15T20:08:07.989762Z",
     "iopub.status.idle": "2021-11-15T20:08:08.147407Z",
     "shell.execute_reply": "2021-11-15T20:08:08.146875Z"
    },
    "papermill": {
     "duration": 0.195919,
     "end_time": "2021-11-15T20:08:08.147542",
     "exception": false,
     "start_time": "2021-11-15T20:08:07.951623",
     "status": "completed"
    },
    "tags": []
   },
   "outputs": [
    {
     "name": "stdout",
     "output_type": "stream",
     "text": [
      "2\n"
     ]
    },
    {
     "data": {
      "text/plain": [
       "<matplotlib.image.AxesImage at 0x7f00d1e720b8>"
      ]
     },
     "execution_count": 9,
     "metadata": {},
     "output_type": "execute_result"
    },
    {
     "data": {
      "image/png": "[encoded data removed]",
      "text/plain": [
       "<Figure size 432x288 with 1 Axes>"
      ]
     },
     "metadata": {
      "needs_background": "light"
     },
     "output_type": "display_data"
    }
   ],
   "source": [
    "image_index = 7776 # You may select anything up to 60,000\n",
    "print(train_labels[image_index]) \n",
    "plt.imshow(train_images[image_index], cmap='Greys')"
   ]
  },
  {
   "cell_type": "markdown",
   "id": "a8d2388d",
   "metadata": {
    "papermill": {
     "duration": 0.030223,
     "end_time": "2021-11-15T20:08:08.208514",
     "exception": false,
     "start_time": "2021-11-15T20:08:08.178291",
     "status": "completed"
    },
    "tags": []
   },
   "source": [
    "## Filter data to get 3 and 8 out"
   ]
  },
  {
   "cell_type": "code",
   "execution_count": 10,
   "id": "776f7fc7",
   "metadata": {
    "execution": {
     "iopub.execute_input": "2021-11-15T20:08:08.278470Z",
     "iopub.status.busy": "2021-11-15T20:08:08.277569Z",
     "iopub.status.idle": "2021-11-15T20:08:08.291182Z",
     "shell.execute_reply": "2021-11-15T20:08:08.290461Z"
    },
    "papermill": {
     "duration": 0.052556,
     "end_time": "2021-11-15T20:08:08.291347",
     "exception": false,
     "start_time": "2021-11-15T20:08:08.238791",
     "status": "completed"
    },
    "tags": []
   },
   "outputs": [],
   "source": [
    "train_filter = np.where((train_labels == 3 ) | (train_labels == 8))\n",
    "test_filter = np.where((test_labels == 3) | (test_labels == 8))\n",
    "X_train, y_train = train_images[train_filter], train_labels[train_filter]\n",
    "X_test, y_test = test_images[test_filter], test_labels[test_filter]"
   ]
  },
  {
   "cell_type": "markdown",
   "id": "948f0b7e",
   "metadata": {
    "papermill": {
     "duration": 0.032344,
     "end_time": "2021-11-15T20:08:08.355874",
     "exception": false,
     "start_time": "2021-11-15T20:08:08.323530",
     "status": "completed"
    },
    "tags": []
   },
   "source": [
    "We normalize the pizel values in the 0 to 1 range"
   ]
  },
  {
   "cell_type": "code",
   "execution_count": 11,
   "id": "ee4c2166",
   "metadata": {
    "execution": {
     "iopub.execute_input": "2021-11-15T20:08:08.427525Z",
     "iopub.status.busy": "2021-11-15T20:08:08.426889Z",
     "iopub.status.idle": "2021-11-15T20:08:08.477162Z",
     "shell.execute_reply": "2021-11-15T20:08:08.476600Z"
    },
    "papermill": {
     "duration": 0.091195,
     "end_time": "2021-11-15T20:08:08.477313",
     "exception": false,
     "start_time": "2021-11-15T20:08:08.386118",
     "status": "completed"
    },
    "tags": []
   },
   "outputs": [],
   "source": [
    "X_train = X_train/255.\n",
    "X_test = X_test/255."
   ]
  },
  {
   "cell_type": "markdown",
   "id": "ddcf4fab",
   "metadata": {
    "papermill": {
     "duration": 0.030246,
     "end_time": "2021-11-15T20:08:08.538220",
     "exception": false,
     "start_time": "2021-11-15T20:08:08.507974",
     "status": "completed"
    },
    "tags": []
   },
   "source": [
    "And setup the labels as 1 (when the digit is 3) and 0 (when the digit is 8)"
   ]
  },
  {
   "cell_type": "code",
   "execution_count": 12,
   "id": "7dc908f2",
   "metadata": {
    "execution": {
     "iopub.execute_input": "2021-11-15T20:08:08.603786Z",
     "iopub.status.busy": "2021-11-15T20:08:08.602673Z",
     "iopub.status.idle": "2021-11-15T20:08:08.620224Z",
     "shell.execute_reply": "2021-11-15T20:08:08.619695Z"
    },
    "papermill": {
     "duration": 0.051846,
     "end_time": "2021-11-15T20:08:08.620357",
     "exception": false,
     "start_time": "2021-11-15T20:08:08.568511",
     "status": "completed"
    },
    "tags": []
   },
   "outputs": [],
   "source": [
    "y_train = 1*(y_train==3)\n",
    "y_test = 1*(y_test==3)"
   ]
  },
  {
   "cell_type": "code",
   "execution_count": 13,
   "id": "01e4e969",
   "metadata": {
    "execution": {
     "iopub.execute_input": "2021-11-15T20:08:08.692245Z",
     "iopub.status.busy": "2021-11-15T20:08:08.691633Z",
     "iopub.status.idle": "2021-11-15T20:08:08.706525Z",
     "shell.execute_reply": "2021-11-15T20:08:08.706028Z"
    },
    "papermill": {
     "duration": 0.053987,
     "end_time": "2021-11-15T20:08:08.706665",
     "exception": false,
     "start_time": "2021-11-15T20:08:08.652678",
     "status": "completed"
    },
    "tags": []
   },
   "outputs": [
    {
     "data": {
      "text/plain": [
       "((11982, 28, 28), (1984, 28, 28))"
      ]
     },
     "execution_count": 13,
     "metadata": {},
     "output_type": "execute_result"
    }
   ],
   "source": [
    "X_train.shape, X_test.shape"
   ]
  },
  {
   "cell_type": "markdown",
   "id": "5ccf3f85",
   "metadata": {
    "papermill": {
     "duration": 0.030572,
     "end_time": "2021-11-15T20:08:08.767961",
     "exception": false,
     "start_time": "2021-11-15T20:08:08.737389",
     "status": "completed"
    },
    "tags": []
   },
   "source": [
    "We reshape the data to flatten the image pixels into a set of features or co-variates:"
   ]
  },
  {
   "cell_type": "code",
   "execution_count": 14,
   "id": "5286a4a3",
   "metadata": {
    "execution": {
     "iopub.execute_input": "2021-11-15T20:08:08.834873Z",
     "iopub.status.busy": "2021-11-15T20:08:08.834248Z",
     "iopub.status.idle": "2021-11-15T20:08:08.849453Z",
     "shell.execute_reply": "2021-11-15T20:08:08.848932Z"
    },
    "papermill": {
     "duration": 0.050809,
     "end_time": "2021-11-15T20:08:08.849590",
     "exception": false,
     "start_time": "2021-11-15T20:08:08.798781",
     "status": "completed"
    },
    "tags": []
   },
   "outputs": [
    {
     "data": {
      "text/plain": [
       "((11982, 784), (1984, 784))"
      ]
     },
     "execution_count": 14,
     "metadata": {},
     "output_type": "execute_result"
    }
   ],
   "source": [
    "X_train = X_train.reshape(X_train.shape[0], -1)\n",
    "X_test = X_test.reshape(X_test.shape[0], -1)\n",
    "X_train.shape, X_test.shape"
   ]
  },
  {
   "cell_type": "code",
   "execution_count": 15,
   "id": "73c5f88a",
   "metadata": {
    "execution": {
     "iopub.execute_input": "2021-11-15T20:08:08.917580Z",
     "iopub.status.busy": "2021-11-15T20:08:08.916958Z",
     "iopub.status.idle": "2021-11-15T20:08:08.939564Z",
     "shell.execute_reply": "2021-11-15T20:08:08.938602Z"
    },
    "papermill": {
     "duration": 0.059363,
     "end_time": "2021-11-15T20:08:08.939777",
     "exception": false,
     "start_time": "2021-11-15T20:08:08.880414",
     "status": "completed"
    },
    "tags": []
   },
   "outputs": [],
   "source": [
    "#Impoting functions from 'Kudzu'\n",
    "from kudzu.model import Model\n",
    "from kudzu.train import Learner\n",
    "from kudzu.optim import GD\n",
    "from kudzu.data import Data, Sampler,Dataloader\n",
    "\n",
    "from kudzu.callbacks import AccCallback\n",
    "from kudzu.callbacks import ClfCallback\n",
    "\n",
    "from kudzu.loss import MSE\n",
    "\n",
    "from kudzu.layer import Sigmoid,Relu\n",
    "from kudzu.layer import Affine"
   ]
  },
  {
   "cell_type": "markdown",
   "id": "bc01172a",
   "metadata": {
    "papermill": {
     "duration": 0.034581,
     "end_time": "2021-11-15T20:08:09.009321",
     "exception": false,
     "start_time": "2021-11-15T20:08:08.974740",
     "status": "completed"
    },
    "tags": []
   },
   "source": [
    "### Let us create a `Config` class, to store important parameters. \n",
    "This class essentially plays the role of a dictionary."
   ]
  },
  {
   "cell_type": "code",
   "execution_count": 16,
   "id": "978281aa",
   "metadata": {
    "execution": {
     "iopub.execute_input": "2021-11-15T20:08:09.085399Z",
     "iopub.status.busy": "2021-11-15T20:08:09.084405Z",
     "iopub.status.idle": "2021-11-15T20:08:09.097398Z",
     "shell.execute_reply": "2021-11-15T20:08:09.097909Z"
    },
    "papermill": {
     "duration": 0.05338,
     "end_time": "2021-11-15T20:08:09.098070",
     "exception": false,
     "start_time": "2021-11-15T20:08:09.044690",
     "status": "completed"
    },
    "tags": []
   },
   "outputs": [],
   "source": [
    "class Config:\n",
    "    pass\n",
    "config = Config()\n",
    "config.lr = 0.001\n",
    "config.num_epochs = 250\n",
    "config.bs = 50"
   ]
  },
  {
   "cell_type": "markdown",
   "id": "1385fa59",
   "metadata": {
    "papermill": {
     "duration": 0.030828,
     "end_time": "2021-11-15T20:08:09.160076",
     "exception": false,
     "start_time": "2021-11-15T20:08:09.129248",
     "status": "completed"
    },
    "tags": []
   },
   "source": [
    "### Running Models with the Training data\n",
    "Details about the network layers:\n",
    "- A first affine layer has 784 inputs and does 100 affine transforms. These are followed by a Relu\n",
    "- A second affine layer has 100 inputs from the 100 activations of the past layer, and does 100 affine transforms. These are followed by a Relu\n",
    "- A third affine layer has 100 activations and does 2 affine transformations to create an embedding for visualization. There is no non-linearity here.\n",
    "- A final \"logistic regression\" which has an affine transform from 2 inputs to 1 output, which is squeezed through a sigmoid.\n"
   ]
  },
  {
   "cell_type": "code",
   "execution_count": 17,
   "id": "2b9c66db",
   "metadata": {
    "execution": {
     "iopub.execute_input": "2021-11-15T20:08:09.229958Z",
     "iopub.status.busy": "2021-11-15T20:08:09.229335Z",
     "iopub.status.idle": "2021-11-15T20:08:09.243203Z",
     "shell.execute_reply": "2021-11-15T20:08:09.242545Z"
    },
    "papermill": {
     "duration": 0.052317,
     "end_time": "2021-11-15T20:08:09.243390",
     "exception": false,
     "start_time": "2021-11-15T20:08:09.191073",
     "status": "completed"
    },
    "tags": []
   },
   "outputs": [],
   "source": [
    "data = Data(X_train, y_train.reshape(-1,1))\n",
    "sampler = Sampler(data, config.bs, shuffle=True)\n",
    "\n",
    "dl = Dataloader(data, sampler)\n",
    "\n",
    "opt = GD(config.lr)\n",
    "loss = MSE()"
   ]
  },
  {
   "cell_type": "code",
   "execution_count": 18,
   "id": "b275e4c2",
   "metadata": {
    "execution": {
     "iopub.execute_input": "2021-11-15T20:08:09.320101Z",
     "iopub.status.busy": "2021-11-15T20:08:09.319469Z",
     "iopub.status.idle": "2021-11-15T20:08:09.333406Z",
     "shell.execute_reply": "2021-11-15T20:08:09.332871Z"
    },
    "papermill": {
     "duration": 0.053186,
     "end_time": "2021-11-15T20:08:09.333550",
     "exception": false,
     "start_time": "2021-11-15T20:08:09.280364",
     "status": "completed"
    },
    "tags": []
   },
   "outputs": [],
   "source": [
    "training_data_x = X_train\n",
    "testing_data_x = X_test\n",
    "training_data_y = y_train.reshape(-1,1)\n",
    "testing_data_y = y_test.reshape(-1,1)"
   ]
  },
  {
   "cell_type": "code",
   "execution_count": 19,
   "id": "76951160",
   "metadata": {
    "execution": {
     "iopub.execute_input": "2021-11-15T20:08:09.401068Z",
     "iopub.status.busy": "2021-11-15T20:08:09.400398Z",
     "iopub.status.idle": "2021-11-15T20:08:09.419445Z",
     "shell.execute_reply": "2021-11-15T20:08:09.420010Z"
    },
    "papermill": {
     "duration": 0.055665,
     "end_time": "2021-11-15T20:08:09.420175",
     "exception": false,
     "start_time": "2021-11-15T20:08:09.364510",
     "status": "completed"
    },
    "tags": []
   },
   "outputs": [
    {
     "name": "stdout",
     "output_type": "stream",
     "text": [
      "xavier\n",
      "xavier\n",
      "xavier\n",
      "xavier\n",
      "xavier\n"
     ]
    }
   ],
   "source": [
    "layers = [Affine(\"first\", 784, 100), Relu(\"first\"), Affine(\"second\", 100, 100), Relu(\"second\"), Affine(\"third\", 100, 2), Affine(\"last\", 2, 1), Sigmoid(\"last\")]\n",
    "model_nn = Model(layers)\n",
    "model_lr = Model([Affine(\"logits\", 784, 1), Sigmoid(\"sigmoid\")])"
   ]
  },
  {
   "cell_type": "code",
   "execution_count": 20,
   "id": "6eede77a",
   "metadata": {
    "execution": {
     "iopub.execute_input": "2021-11-15T20:08:09.492722Z",
     "iopub.status.busy": "2021-11-15T20:08:09.492065Z",
     "iopub.status.idle": "2021-11-15T20:08:09.506469Z",
     "shell.execute_reply": "2021-11-15T20:08:09.506991Z"
    },
    "papermill": {
     "duration": 0.053457,
     "end_time": "2021-11-15T20:08:09.507148",
     "exception": false,
     "start_time": "2021-11-15T20:08:09.453691",
     "status": "completed"
    },
    "tags": []
   },
   "outputs": [],
   "source": [
    "nn_learner = Learner(loss, model_nn, opt, config.num_epochs)\n",
    "acc_nn = ClfCallback(nn_learner, config.bs, training_data_x , testing_data_x, training_data_y, testing_data_y)\n",
    "nn_learner.set_callbacks([acc_nn])"
   ]
  },
  {
   "cell_type": "code",
   "execution_count": 21,
   "id": "877b6cc7",
   "metadata": {
    "execution": {
     "iopub.execute_input": "2021-11-15T20:08:09.576415Z",
     "iopub.status.busy": "2021-11-15T20:08:09.575811Z",
     "iopub.status.idle": "2021-11-15T20:08:09.589301Z",
     "shell.execute_reply": "2021-11-15T20:08:09.588804Z"
    },
    "papermill": {
     "duration": 0.050282,
     "end_time": "2021-11-15T20:08:09.589436",
     "exception": false,
     "start_time": "2021-11-15T20:08:09.539154",
     "status": "completed"
    },
    "tags": []
   },
   "outputs": [],
   "source": [
    "lr_learner = Learner(loss, model_lr, opt, config.num_epochs)\n",
    "acc_lr = ClfCallback(lr_learner, config.bs, training_data_x , testing_data_x, training_data_y, testing_data_y)\n",
    "lr_learner.set_callbacks([acc_lr])"
   ]
  },
  {
   "cell_type": "code",
   "execution_count": 22,
   "id": "d9b133c3",
   "metadata": {
    "execution": {
     "iopub.execute_input": "2021-11-15T20:08:09.657649Z",
     "iopub.status.busy": "2021-11-15T20:08:09.657042Z",
     "iopub.status.idle": "2021-11-15T20:09:34.712672Z",
     "shell.execute_reply": "2021-11-15T20:09:34.713451Z"
    },
    "papermill": {
     "duration": 85.092751,
     "end_time": "2021-11-15T20:09:34.713622",
     "exception": false,
     "start_time": "2021-11-15T20:08:09.620871",
     "status": "completed"
    },
    "tags": []
   },
   "outputs": [
    {
     "name": "stdout",
     "output_type": "stream",
     "text": [
      "Epoch 0, Loss 0.2413\n",
      "Training Accuracy: 0.7354, Testing Accuracy: 0.7162\n",
      "\n"
     ]
    },
    {
     "name": "stdout",
     "output_type": "stream",
     "text": [
      "Epoch 10, Loss 0.0733\n",
      "Training Accuracy: 0.9275, Testing Accuracy: 0.9370\n",
      "\n"
     ]
    },
    {
     "name": "stdout",
     "output_type": "stream",
     "text": [
      "Epoch 20, Loss 0.0485\n",
      "Training Accuracy: 0.9488, Testing Accuracy: 0.9541\n",
      "\n"
     ]
    },
    {
     "name": "stdout",
     "output_type": "stream",
     "text": [
      "Epoch 30, Loss 0.0393\n",
      "Training Accuracy: 0.9579, Testing Accuracy: 0.9597\n",
      "\n"
     ]
    },
    {
     "name": "stdout",
     "output_type": "stream",
     "text": [
      "Epoch 40, Loss 0.0345\n",
      "Training Accuracy: 0.9624, Testing Accuracy: 0.9632\n",
      "\n"
     ]
    },
    {
     "name": "stdout",
     "output_type": "stream",
     "text": [
      "Epoch 50, Loss 0.0314\n",
      "Training Accuracy: 0.9656, Testing Accuracy: 0.9642\n",
      "\n"
     ]
    },
    {
     "name": "stdout",
     "output_type": "stream",
     "text": [
      "Epoch 60, Loss 0.0293\n",
      "Training Accuracy: 0.9669, Testing Accuracy: 0.9657\n",
      "\n"
     ]
    },
    {
     "name": "stdout",
     "output_type": "stream",
     "text": [
      "Epoch 70, Loss 0.0277\n",
      "Training Accuracy: 0.9686, Testing Accuracy: 0.9682\n",
      "\n"
     ]
    },
    {
     "name": "stdout",
     "output_type": "stream",
     "text": [
      "Epoch 80, Loss 0.0265\n",
      "Training Accuracy: 0.9703, Testing Accuracy: 0.9677\n",
      "\n"
     ]
    },
    {
     "name": "stdout",
     "output_type": "stream",
     "text": [
      "Epoch 90, Loss 0.0254\n",
      "Training Accuracy: 0.9715, Testing Accuracy: 0.9688\n",
      "\n"
     ]
    },
    {
     "name": "stdout",
     "output_type": "stream",
     "text": [
      "Epoch 100, Loss 0.0245\n",
      "Training Accuracy: 0.9725, Testing Accuracy: 0.9703\n",
      "\n"
     ]
    },
    {
     "name": "stdout",
     "output_type": "stream",
     "text": [
      "Epoch 110, Loss 0.0237\n",
      "Training Accuracy: 0.9734, Testing Accuracy: 0.9698\n",
      "\n"
     ]
    },
    {
     "name": "stdout",
     "output_type": "stream",
     "text": [
      "Epoch 120, Loss 0.023\n",
      "Training Accuracy: 0.9743, Testing Accuracy: 0.9703\n",
      "\n"
     ]
    },
    {
     "name": "stdout",
     "output_type": "stream",
     "text": [
      "Epoch 130, Loss 0.0223\n",
      "Training Accuracy: 0.9755, Testing Accuracy: 0.9703\n",
      "\n"
     ]
    },
    {
     "name": "stdout",
     "output_type": "stream",
     "text": [
      "Epoch 140, Loss 0.0217\n",
      "Training Accuracy: 0.9760, Testing Accuracy: 0.9713\n",
      "\n"
     ]
    },
    {
     "name": "stdout",
     "output_type": "stream",
     "text": [
      "Epoch 150, Loss 0.0212\n",
      "Training Accuracy: 0.9770, Testing Accuracy: 0.9713\n",
      "\n"
     ]
    },
    {
     "name": "stdout",
     "output_type": "stream",
     "text": [
      "Epoch 160, Loss 0.0207\n",
      "Training Accuracy: 0.9781, Testing Accuracy: 0.9708\n",
      "\n"
     ]
    },
    {
     "name": "stdout",
     "output_type": "stream",
     "text": [
      "Epoch 170, Loss 0.0202\n",
      "Training Accuracy: 0.9789, Testing Accuracy: 0.9708\n",
      "\n"
     ]
    },
    {
     "name": "stdout",
     "output_type": "stream",
     "text": [
      "Epoch 180, Loss 0.0197\n",
      "Training Accuracy: 0.9796, Testing Accuracy: 0.9713\n",
      "\n"
     ]
    },
    {
     "name": "stdout",
     "output_type": "stream",
     "text": [
      "Epoch 190, Loss 0.0193\n",
      "Training Accuracy: 0.9797, Testing Accuracy: 0.9718\n",
      "\n"
     ]
    },
    {
     "name": "stdout",
     "output_type": "stream",
     "text": [
      "Epoch 200, Loss 0.0189\n",
      "Training Accuracy: 0.9798, Testing Accuracy: 0.9723\n",
      "\n"
     ]
    },
    {
     "name": "stdout",
     "output_type": "stream",
     "text": [
      "Epoch 210, Loss 0.0185\n",
      "Training Accuracy: 0.9804, Testing Accuracy: 0.9723\n",
      "\n"
     ]
    },
    {
     "name": "stdout",
     "output_type": "stream",
     "text": [
      "Epoch 220, Loss 0.0181\n",
      "Training Accuracy: 0.9811, Testing Accuracy: 0.9728\n",
      "\n"
     ]
    },
    {
     "name": "stdout",
     "output_type": "stream",
     "text": [
      "Epoch 230, Loss 0.0178\n",
      "Training Accuracy: 0.9816, Testing Accuracy: 0.9733\n",
      "\n"
     ]
    },
    {
     "name": "stdout",
     "output_type": "stream",
     "text": [
      "Epoch 240, Loss 0.0174\n",
      "Training Accuracy: 0.9817, Testing Accuracy: 0.9738\n",
      "\n"
     ]
    },
    {
     "data": {
      "text/plain": [
       "0.009973643447661502"
      ]
     },
     "execution_count": 22,
     "metadata": {},
     "output_type": "execute_result"
    }
   ],
   "source": [
    "nn_learner.train_loop(dl)"
   ]
  },
  {
   "cell_type": "code",
   "execution_count": 23,
   "id": "e0163366",
   "metadata": {
    "execution": {
     "iopub.execute_input": "2021-11-15T20:09:34.806129Z",
     "iopub.status.busy": "2021-11-15T20:09:34.805530Z",
     "iopub.status.idle": "2021-11-15T20:09:49.809515Z",
     "shell.execute_reply": "2021-11-15T20:09:49.810367Z"
    },
    "papermill": {
     "duration": 15.057315,
     "end_time": "2021-11-15T20:09:49.810533",
     "exception": false,
     "start_time": "2021-11-15T20:09:34.753218",
     "status": "completed"
    },
    "tags": []
   },
   "outputs": [
    {
     "name": "stdout",
     "output_type": "stream",
     "text": [
      "Epoch 0, Loss 0.2359\n",
      "Training Accuracy: 0.7087, Testing Accuracy: 0.7369\n",
      "\n"
     ]
    },
    {
     "name": "stdout",
     "output_type": "stream",
     "text": [
      "Epoch 10, Loss 0.1043\n",
      "Training Accuracy: 0.9061, Testing Accuracy: 0.9204\n",
      "\n"
     ]
    },
    {
     "name": "stdout",
     "output_type": "stream",
     "text": [
      "Epoch 20, Loss 0.0801\n",
      "Training Accuracy: 0.9276, Testing Accuracy: 0.9360\n",
      "\n"
     ]
    },
    {
     "name": "stdout",
     "output_type": "stream",
     "text": [
      "Epoch 30, Loss 0.0687\n",
      "Training Accuracy: 0.9351, Testing Accuracy: 0.9486\n",
      "\n"
     ]
    },
    {
     "name": "stdout",
     "output_type": "stream",
     "text": [
      "Epoch 40, Loss 0.0618\n",
      "Training Accuracy: 0.9406, Testing Accuracy: 0.9546\n",
      "\n"
     ]
    },
    {
     "name": "stdout",
     "output_type": "stream",
     "text": [
      "Epoch 50, Loss 0.0572\n",
      "Training Accuracy: 0.9442, Testing Accuracy: 0.9572\n",
      "\n"
     ]
    },
    {
     "name": "stdout",
     "output_type": "stream",
     "text": [
      "Epoch 60, Loss 0.0537\n",
      "Training Accuracy: 0.9479, Testing Accuracy: 0.9587\n",
      "\n"
     ]
    },
    {
     "name": "stdout",
     "output_type": "stream",
     "text": [
      "Epoch 70, Loss 0.0511\n",
      "Training Accuracy: 0.9500, Testing Accuracy: 0.9602\n",
      "\n"
     ]
    },
    {
     "name": "stdout",
     "output_type": "stream",
     "text": [
      "Epoch 80, Loss 0.049\n",
      "Training Accuracy: 0.9513, Testing Accuracy: 0.9617\n",
      "\n"
     ]
    },
    {
     "name": "stdout",
     "output_type": "stream",
     "text": [
      "Epoch 90, Loss 0.0473\n",
      "Training Accuracy: 0.9528, Testing Accuracy: 0.9637\n",
      "\n"
     ]
    },
    {
     "name": "stdout",
     "output_type": "stream",
     "text": [
      "Epoch 100, Loss 0.0459\n",
      "Training Accuracy: 0.9539, Testing Accuracy: 0.9642\n",
      "\n"
     ]
    },
    {
     "name": "stdout",
     "output_type": "stream",
     "text": [
      "Epoch 110, Loss 0.0446\n",
      "Training Accuracy: 0.9552, Testing Accuracy: 0.9657\n",
      "\n"
     ]
    },
    {
     "name": "stdout",
     "output_type": "stream",
     "text": [
      "Epoch 120, Loss 0.0436\n",
      "Training Accuracy: 0.9562, Testing Accuracy: 0.9667\n",
      "\n"
     ]
    },
    {
     "name": "stdout",
     "output_type": "stream",
     "text": [
      "Epoch 130, Loss 0.0426\n",
      "Training Accuracy: 0.9569, Testing Accuracy: 0.9667\n",
      "\n"
     ]
    },
    {
     "name": "stdout",
     "output_type": "stream",
     "text": [
      "Epoch 140, Loss 0.0418\n",
      "Training Accuracy: 0.9580, Testing Accuracy: 0.9677\n",
      "\n"
     ]
    },
    {
     "name": "stdout",
     "output_type": "stream",
     "text": [
      "Epoch 150, Loss 0.041\n",
      "Training Accuracy: 0.9586, Testing Accuracy: 0.9677\n",
      "\n"
     ]
    },
    {
     "name": "stdout",
     "output_type": "stream",
     "text": [
      "Epoch 160, Loss 0.0404\n",
      "Training Accuracy: 0.9592, Testing Accuracy: 0.9672\n",
      "\n"
     ]
    },
    {
     "name": "stdout",
     "output_type": "stream",
     "text": [
      "Epoch 170, Loss 0.0398\n",
      "Training Accuracy: 0.9594, Testing Accuracy: 0.9667\n",
      "\n"
     ]
    },
    {
     "name": "stdout",
     "output_type": "stream",
     "text": [
      "Epoch 180, Loss 0.0392\n",
      "Training Accuracy: 0.9599, Testing Accuracy: 0.9667\n",
      "\n"
     ]
    },
    {
     "name": "stdout",
     "output_type": "stream",
     "text": [
      "Epoch 190, Loss 0.0387\n",
      "Training Accuracy: 0.9600, Testing Accuracy: 0.9662\n",
      "\n"
     ]
    },
    {
     "name": "stdout",
     "output_type": "stream",
     "text": [
      "Epoch 200, Loss 0.0382\n",
      "Training Accuracy: 0.9604, Testing Accuracy: 0.9662\n",
      "\n"
     ]
    },
    {
     "name": "stdout",
     "output_type": "stream",
     "text": [
      "Epoch 210, Loss 0.0378\n",
      "Training Accuracy: 0.9612, Testing Accuracy: 0.9662\n",
      "\n"
     ]
    },
    {
     "name": "stdout",
     "output_type": "stream",
     "text": [
      "Epoch 220, Loss 0.0374\n",
      "Training Accuracy: 0.9613, Testing Accuracy: 0.9662\n",
      "\n"
     ]
    },
    {
     "name": "stdout",
     "output_type": "stream",
     "text": [
      "Epoch 230, Loss 0.037\n",
      "Training Accuracy: 0.9614, Testing Accuracy: 0.9662\n",
      "\n"
     ]
    },
    {
     "name": "stdout",
     "output_type": "stream",
     "text": [
      "Epoch 240, Loss 0.0366\n",
      "Training Accuracy: 0.9614, Testing Accuracy: 0.9667\n",
      "\n"
     ]
    },
    {
     "data": {
      "text/plain": [
       "0.051374835654670825"
      ]
     },
     "execution_count": 23,
     "metadata": {},
     "output_type": "execute_result"
    }
   ],
   "source": [
    "lr_learner.train_loop(dl)"
   ]
  },
  {
   "cell_type": "code",
   "execution_count": 24,
   "id": "ca410940",
   "metadata": {
    "execution": {
     "iopub.execute_input": "2021-11-15T20:09:49.917971Z",
     "iopub.status.busy": "2021-11-15T20:09:49.917401Z",
     "iopub.status.idle": "2021-11-15T20:09:50.163519Z",
     "shell.execute_reply": "2021-11-15T20:09:50.164315Z"
    },
    "papermill": {
     "duration": 0.307486,
     "end_time": "2021-11-15T20:09:50.164601",
     "exception": false,
     "start_time": "2021-11-15T20:09:49.857115",
     "status": "completed"
    },
    "tags": []
   },
   "outputs": [
    {
     "data": {
      "text/plain": [
       "<matplotlib.legend.Legend at 0x7f00c464a550>"
      ]
     },
     "execution_count": 24,
     "metadata": {},
     "output_type": "execute_result"
    },
    {
     "data": {
      "image/png": "[encoded data removed]",
      "text/plain": [
       "<Figure size 1080x720 with 1 Axes>"
      ]
     },
     "metadata": {
      "needs_background": "light"
     },
     "output_type": "display_data"
    }
   ],
   "source": [
    "#comparing the results of NN and LR\n",
    "plt.figure(figsize=(15,10))\n",
    "\n",
    "# Neural Network plots\n",
    "plt.plot(acc_nn.accuracies, 'r-', label = \"Training Accuracies - NN\")\n",
    "plt.plot(acc_nn.test_accuracies, 'g-', label = \"Testing Accuracies - NN\")\n",
    "\n",
    "# Logistic Regression plots\n",
    "plt.plot(acc_lr.accuracies, 'k-', label = \"Training Accuracies - LR\")\n",
    "plt.plot(acc_lr.test_accuracies, 'b-', label = \"Testing Accuracies - LR\")\n",
    "plt.legend()"
   ]
  },
  {
   "cell_type": "markdown",
   "id": "80dfb35c",
   "metadata": {
    "papermill": {
     "duration": 0.049849,
     "end_time": "2021-11-15T20:09:50.264822",
     "exception": false,
     "start_time": "2021-11-15T20:09:50.214973",
     "status": "completed"
    },
    "tags": []
   },
   "source": [
    "#### Plotting the outputs of this layer of the NN.\n"
   ]
  },
  {
   "cell_type": "code",
   "execution_count": 25,
   "id": "45eb2ff5",
   "metadata": {
    "execution": {
     "iopub.execute_input": "2021-11-15T20:09:50.372557Z",
     "iopub.status.busy": "2021-11-15T20:09:50.371854Z",
     "iopub.status.idle": "2021-11-15T20:09:50.393037Z",
     "shell.execute_reply": "2021-11-15T20:09:50.393555Z"
    },
    "papermill": {
     "duration": 0.08026,
     "end_time": "2021-11-15T20:09:50.393708",
     "exception": false,
     "start_time": "2021-11-15T20:09:50.313448",
     "status": "completed"
    },
    "tags": []
   },
   "outputs": [],
   "source": [
    "new_model = Model(layers[:-2])\n",
    "testing_plot = new_model(testing_data_x)"
   ]
  },
  {
   "cell_type": "code",
   "execution_count": 26,
   "id": "4c0a5485",
   "metadata": {
    "execution": {
     "iopub.execute_input": "2021-11-15T20:09:50.517063Z",
     "iopub.status.busy": "2021-11-15T20:09:50.504109Z",
     "iopub.status.idle": "2021-11-15T20:09:50.732684Z",
     "shell.execute_reply": "2021-11-15T20:09:50.733146Z"
    },
    "papermill": {
     "duration": 0.284255,
     "end_time": "2021-11-15T20:09:50.733286",
     "exception": false,
     "start_time": "2021-11-15T20:09:50.449031",
     "status": "completed"
    },
    "tags": []
   },
   "outputs": [
    {
     "data": {
      "text/plain": [
       "Text(0.5, 1.0, 'Outputs')"
      ]
     },
     "execution_count": 26,
     "metadata": {},
     "output_type": "execute_result"
    },
    {
     "data": {
      "image/png": "[encoded data removed]",
      "text/plain": [
       "<Figure size 576x504 with 1 Axes>"
      ]
     },
     "metadata": {
      "needs_background": "light"
     },
     "output_type": "display_data"
    }
   ],
   "source": [
    "# Plotting the scatter plot of points and color coding by class\n",
    "plt.figure(figsize=(8,7))\n",
    "plt.scatter(testing_plot[:,0], testing_plot[:,1], alpha = 0.1, c = y_test.ravel());\n",
    "plt.title('Outputs')"
   ]
  },
  {
   "cell_type": "markdown",
   "id": "a74fcf8f",
   "metadata": {
    "papermill": {
     "duration": 0.048667,
     "end_time": "2021-11-15T20:09:50.827975",
     "exception": false,
     "start_time": "2021-11-15T20:09:50.779308",
     "status": "completed"
    },
    "tags": []
   },
   "source": [
    "Probability contours"
   ]
  },
  {
   "cell_type": "code",
   "execution_count": 27,
   "id": "d0afc8e3",
   "metadata": {
    "execution": {
     "iopub.execute_input": "2021-11-15T20:09:50.958614Z",
     "iopub.status.busy": "2021-11-15T20:09:50.957548Z",
     "iopub.status.idle": "2021-11-15T20:09:50.965645Z",
     "shell.execute_reply": "2021-11-15T20:09:50.966091Z"
    },
    "papermill": {
     "duration": 0.091321,
     "end_time": "2021-11-15T20:09:50.966245",
     "exception": false,
     "start_time": "2021-11-15T20:09:50.874924",
     "status": "completed"
    },
    "tags": []
   },
   "outputs": [],
   "source": [
    "model_prob = Model(layers[-2:]) "
   ]
  },
  {
   "cell_type": "code",
   "execution_count": 28,
   "id": "9b96e238",
   "metadata": {
    "execution": {
     "iopub.execute_input": "2021-11-15T20:09:51.071677Z",
     "iopub.status.busy": "2021-11-15T20:09:51.071033Z",
     "iopub.status.idle": "2021-11-15T20:09:51.087092Z",
     "shell.execute_reply": "2021-11-15T20:09:51.087579Z"
    },
    "papermill": {
     "duration": 0.071611,
     "end_time": "2021-11-15T20:09:51.087724",
     "exception": false,
     "start_time": "2021-11-15T20:09:51.016113",
     "status": "completed"
    },
    "tags": []
   },
   "outputs": [],
   "source": [
    "#creating the x and y ranges according to the above generated plot.\n",
    "x_range = np.linspace(-4, 1, 100) \n",
    "y_range = np.linspace(-6, 6, 100) \n",
    "x_grid, y_grid = np.meshgrid(x_range, y_range) # x_grid and y_grig are of size 100 X 100\n",
    "\n",
    "# converting x_grid and y_grid to continuous arrays\n",
    "x_gridflat = np.ravel(x_grid)\n",
    "y_gridflat = np.ravel(y_grid)\n",
    "\n",
    "# The last layer of the current model takes two columns as input. Hence transpose of np.vstack() is required.\n",
    "X = np.vstack((x_gridflat, y_gridflat)).T\n",
    "\n",
    "prob_contour = model_prob(X).reshape(100,100) "
   ]
  },
  {
   "cell_type": "code",
   "execution_count": 29,
   "id": "da72499a",
   "metadata": {
    "execution": {
     "iopub.execute_input": "2021-11-15T20:09:51.201428Z",
     "iopub.status.busy": "2021-11-15T20:09:51.199906Z",
     "iopub.status.idle": "2021-11-15T20:09:51.479806Z",
     "shell.execute_reply": "2021-11-15T20:09:51.480271Z"
    },
    "papermill": {
     "duration": 0.341937,
     "end_time": "2021-11-15T20:09:51.480435",
     "exception": false,
     "start_time": "2021-11-15T20:09:51.138498",
     "status": "completed"
    },
    "tags": []
   },
   "outputs": [
    {
     "data": {
      "image/png": "[encoded data removed]",
      "text/plain": [
       "<Figure size 720x648 with 1 Axes>"
      ]
     },
     "metadata": {
      "needs_background": "light"
     },
     "output_type": "display_data"
    }
   ],
   "source": [
    "plt.figure(figsize=(10,9))\n",
    "plt.scatter(testing_plot[:,0], testing_plot[:,1], alpha = 0.1, c = y_test.ravel())\n",
    "contours = plt.contour(x_grid,y_grid,prob_contour)\n",
    "plt.title('Probability Contours')\n",
    "plt.clabel(contours, inline = True );"
   ]
  },
  {
   "cell_type": "code",
   "execution_count": null,
   "id": "e81b4ac7",
   "metadata": {
    "papermill": {
     "duration": 0.053558,
     "end_time": "2021-11-15T20:09:51.588549",
     "exception": false,
     "start_time": "2021-11-15T20:09:51.534991",
     "status": "completed"
    },
    "tags": []
   },
   "outputs": [],
   "source": []
  }
 ],
 "metadata": {
  "kernelspec": {
   "display_name": "Python 3",
   "language": "python",
   "name": "python3"
  },
  "language_info": {
   "codemirror_mode": {
    "name": "ipython",
    "version": 3
   },
   "file_extension": ".py",
   "mimetype": "text/x-python",
   "name": "python",
   "nbconvert_exporter": "python",
   "pygments_lexer": "ipython3",
   "version": "3.6.15"
  },
  "papermill": {
   "default_parameters": {},
   "duration": 109.546529,
   "end_time": "2021-11-15T20:09:52.053037",
   "environment_variables": {},
   "exception": null,
   "input_path": "2020-08-11-part2.ipynb",
   "output_path": "2020-08-11-part2.ipynb",
   "parameters": {},
   "start_time": "2021-11-15T20:08:02.506508",
   "version": "2.3.3"
  }
 },
 "nbformat": 4,
 "nbformat_minor": 5
}