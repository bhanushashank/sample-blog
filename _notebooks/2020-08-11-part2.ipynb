{
 "cells": [
  {
   "cell_type": "markdown",
   "id": "98380cd3",
   "metadata": {
    "papermill": {
     "duration": 0.027374,
     "end_time": "2022-09-13T10:11:45.312599",
     "exception": false,
     "start_time": "2022-09-13T10:11:45.285225",
     "status": "completed"
    },
    "tags": []
   },
   "source": [
    "# Distinguish Your Own Digits (DYOD)"
   ]
  },
  {
   "cell_type": "markdown",
   "id": "ef31240d",
   "metadata": {
    "papermill": {
     "duration": 0.021406,
     "end_time": "2022-09-13T10:11:45.356090",
     "exception": false,
     "start_time": "2022-09-13T10:11:45.334684",
     "status": "completed"
    },
    "tags": []
   },
   "source": [
    "You are going to write a classifier that distinguishes between the number 3 and number 8."
   ]
  },
  {
   "cell_type": "code",
   "execution_count": 1,
   "id": "b15c8646",
   "metadata": {
    "execution": {
     "iopub.execute_input": "2022-09-13T10:11:45.412349Z",
     "iopub.status.busy": "2022-09-13T10:11:45.411735Z",
     "iopub.status.idle": "2022-09-13T10:11:45.423717Z",
     "shell.execute_reply": "2022-09-13T10:11:45.423244Z"
    },
    "papermill": {
     "duration": 0.046395,
     "end_time": "2022-09-13T10:11:45.423863",
     "exception": false,
     "start_time": "2022-09-13T10:11:45.377468",
     "status": "completed"
    },
    "tags": []
   },
   "outputs": [],
   "source": [
    "%load_ext autoreload\n",
    "%autoreload 2"
   ]
  },
  {
   "cell_type": "code",
   "execution_count": 2,
   "id": "22ef38dc",
   "metadata": {
    "execution": {
     "iopub.execute_input": "2022-09-13T10:11:45.471530Z",
     "iopub.status.busy": "2022-09-13T10:11:45.470919Z",
     "iopub.status.idle": "2022-09-13T10:11:46.074520Z",
     "shell.execute_reply": "2022-09-13T10:11:46.074020Z"
    },
    "papermill": {
     "duration": 0.629261,
     "end_time": "2022-09-13T10:11:46.074650",
     "exception": false,
     "start_time": "2022-09-13T10:11:45.445389",
     "status": "completed"
    },
    "tags": []
   },
   "outputs": [],
   "source": [
    "%matplotlib inline\n",
    "import numpy as np\n",
    "import matplotlib.pyplot as plt\n",
    "import pandas as pd"
   ]
  },
  {
   "cell_type": "markdown",
   "id": "ba036198",
   "metadata": {
    "papermill": {
     "duration": 0.021184,
     "end_time": "2022-09-13T10:11:46.117003",
     "exception": false,
     "start_time": "2022-09-13T10:11:46.095819",
     "status": "completed"
    },
    "tags": []
   },
   "source": [
    "From the command line run `pip install mnist`. This is a library that will help you bring down the mnist dataset. If you run this from a notebook, you need to put  `!pip install mnist` in a cell by itself."
   ]
  },
  {
   "cell_type": "code",
   "execution_count": 3,
   "id": "bb6ad8a1",
   "metadata": {
    "execution": {
     "iopub.execute_input": "2022-09-13T10:11:46.164024Z",
     "iopub.status.busy": "2022-09-13T10:11:46.163463Z",
     "iopub.status.idle": "2022-09-13T10:11:47.751489Z",
     "shell.execute_reply": "2022-09-13T10:11:47.752082Z"
    },
    "papermill": {
     "duration": 1.613972,
     "end_time": "2022-09-13T10:11:47.752246",
     "exception": false,
     "start_time": "2022-09-13T10:11:46.138274",
     "status": "completed"
    },
    "tags": []
   },
   "outputs": [
    {
     "name": "stdout",
     "output_type": "stream",
     "text": [
      "Collecting mnist\r\n"
     ]
    },
    {
     "name": "stdout",
     "output_type": "stream",
     "text": [
      "  Downloading mnist-0.2.2-py2.py3-none-any.whl (3.5 kB)\r\n",
      "Requirement already satisfied: numpy in /opt/hostedtoolcache/Python/3.6.15/x64/lib/python3.6/site-packages (from mnist) (1.19.5)\r\n"
     ]
    },
    {
     "name": "stdout",
     "output_type": "stream",
     "text": [
      "Installing collected packages: mnist\r\n"
     ]
    },
    {
     "name": "stdout",
     "output_type": "stream",
     "text": [
      "Successfully installed mnist-0.2.2\r\n"
     ]
    }
   ],
   "source": [
    "!pip install mnist"
   ]
  },
  {
   "cell_type": "markdown",
   "id": "69df9c9a",
   "metadata": {
    "papermill": {
     "duration": 0.025096,
     "end_time": "2022-09-13T10:11:47.802691",
     "exception": false,
     "start_time": "2022-09-13T10:11:47.777595",
     "status": "completed"
    },
    "tags": []
   },
   "source": [
    "## Preparing the Data"
   ]
  },
  {
   "cell_type": "code",
   "execution_count": 4,
   "id": "7f69d806",
   "metadata": {
    "execution": {
     "iopub.execute_input": "2022-09-13T10:11:47.857679Z",
     "iopub.status.busy": "2022-09-13T10:11:47.857053Z",
     "iopub.status.idle": "2022-09-13T10:11:47.873135Z",
     "shell.execute_reply": "2022-09-13T10:11:47.873585Z"
    },
    "papermill": {
     "duration": 0.046067,
     "end_time": "2022-09-13T10:11:47.873741",
     "exception": false,
     "start_time": "2022-09-13T10:11:47.827674",
     "status": "completed"
    },
    "tags": []
   },
   "outputs": [],
   "source": [
    "import mnist"
   ]
  },
  {
   "cell_type": "code",
   "execution_count": 5,
   "id": "a411e44f",
   "metadata": {
    "execution": {
     "iopub.execute_input": "2022-09-13T10:11:47.940886Z",
     "iopub.status.busy": "2022-09-13T10:11:47.928013Z",
     "iopub.status.idle": "2022-09-13T10:11:48.527761Z",
     "shell.execute_reply": "2022-09-13T10:11:48.527056Z"
    },
    "papermill": {
     "duration": 0.629009,
     "end_time": "2022-09-13T10:11:48.527912",
     "exception": false,
     "start_time": "2022-09-13T10:11:47.898903",
     "status": "completed"
    },
    "tags": []
   },
   "outputs": [],
   "source": [
    "train_images = mnist.train_images()\n",
    "train_labels = mnist.train_labels()"
   ]
  },
  {
   "cell_type": "code",
   "execution_count": 6,
   "id": "dceab3a5",
   "metadata": {
    "execution": {
     "iopub.execute_input": "2022-09-13T10:11:48.586186Z",
     "iopub.status.busy": "2022-09-13T10:11:48.585567Z",
     "iopub.status.idle": "2022-09-13T10:11:48.600485Z",
     "shell.execute_reply": "2022-09-13T10:11:48.600966Z"
    },
    "papermill": {
     "duration": 0.04497,
     "end_time": "2022-09-13T10:11:48.601105",
     "exception": false,
     "start_time": "2022-09-13T10:11:48.556135",
     "status": "completed"
    },
    "tags": []
   },
   "outputs": [
    {
     "data": {
      "text/plain": [
       "((60000, 28, 28), (60000,))"
      ]
     },
     "execution_count": 6,
     "metadata": {},
     "output_type": "execute_result"
    }
   ],
   "source": [
    "train_images.shape, train_labels.shape"
   ]
  },
  {
   "cell_type": "code",
   "execution_count": 7,
   "id": "f50dc2bb",
   "metadata": {
    "execution": {
     "iopub.execute_input": "2022-09-13T10:11:48.665539Z",
     "iopub.status.busy": "2022-09-13T10:11:48.659865Z",
     "iopub.status.idle": "2022-09-13T10:11:48.819749Z",
     "shell.execute_reply": "2022-09-13T10:11:48.819204Z"
    },
    "papermill": {
     "duration": 0.193867,
     "end_time": "2022-09-13T10:11:48.819892",
     "exception": false,
     "start_time": "2022-09-13T10:11:48.626025",
     "status": "completed"
    },
    "tags": []
   },
   "outputs": [],
   "source": [
    "test_images = mnist.test_images()\n",
    "test_labels = mnist.test_labels()"
   ]
  },
  {
   "cell_type": "code",
   "execution_count": 8,
   "id": "fc38cf1b",
   "metadata": {
    "execution": {
     "iopub.execute_input": "2022-09-13T10:11:48.876394Z",
     "iopub.status.busy": "2022-09-13T10:11:48.875792Z",
     "iopub.status.idle": "2022-09-13T10:11:48.889842Z",
     "shell.execute_reply": "2022-09-13T10:11:48.889403Z"
    },
    "papermill": {
     "duration": 0.044886,
     "end_time": "2022-09-13T10:11:48.889952",
     "exception": false,
     "start_time": "2022-09-13T10:11:48.845066",
     "status": "completed"
    },
    "tags": []
   },
   "outputs": [
    {
     "data": {
      "text/plain": [
       "((10000, 28, 28), (10000,))"
      ]
     },
     "execution_count": 8,
     "metadata": {},
     "output_type": "execute_result"
    }
   ],
   "source": [
    "test_images.shape, test_labels.shape"
   ]
  },
  {
   "cell_type": "code",
   "execution_count": 9,
   "id": "f9ed8fe0",
   "metadata": {
    "execution": {
     "iopub.execute_input": "2022-09-13T10:11:48.948947Z",
     "iopub.status.busy": "2022-09-13T10:11:48.948264Z",
     "iopub.status.idle": "2022-09-13T10:11:49.082511Z",
     "shell.execute_reply": "2022-09-13T10:11:49.082026Z"
    },
    "papermill": {
     "duration": 0.170193,
     "end_time": "2022-09-13T10:11:49.082638",
     "exception": false,
     "start_time": "2022-09-13T10:11:48.912445",
     "status": "completed"
    },
    "tags": []
   },
   "outputs": [
    {
     "name": "stdout",
     "output_type": "stream",
     "text": [
      "2\n"
     ]
    },
    {
     "data": {
      "text/plain": [
       "<matplotlib.image.AxesImage at 0x7f2ebd47fc88>"
      ]
     },
     "execution_count": 9,
     "metadata": {},
     "output_type": "execute_result"
    },
    {
     "data": {
      "image/png": "[encoded data removed]",
      "text/plain": [
       "<Figure size 432x288 with 1 Axes>"
      ]
     },
     "metadata": {
      "needs_background": "light"
     },
     "output_type": "display_data"
    }
   ],
   "source": [
    "image_index = 7776 # You may select anything up to 60,000\n",
    "print(train_labels[image_index]) \n",
    "plt.imshow(train_images[image_index], cmap='Greys')"
   ]
  },
  {
   "cell_type": "markdown",
   "id": "a8d2388d",
   "metadata": {
    "papermill": {
     "duration": 0.026663,
     "end_time": "2022-09-13T10:11:49.135769",
     "exception": false,
     "start_time": "2022-09-13T10:11:49.109106",
     "status": "completed"
    },
    "tags": []
   },
   "source": [
    "## Filter data to get 3 and 8 out"
   ]
  },
  {
   "cell_type": "code",
   "execution_count": 10,
   "id": "776f7fc7",
   "metadata": {
    "execution": {
     "iopub.execute_input": "2022-09-13T10:11:49.198077Z",
     "iopub.status.busy": "2022-09-13T10:11:49.197450Z",
     "iopub.status.idle": "2022-09-13T10:11:49.214474Z",
     "shell.execute_reply": "2022-09-13T10:11:49.213973Z"
    },
    "papermill": {
     "duration": 0.052646,
     "end_time": "2022-09-13T10:11:49.214602",
     "exception": false,
     "start_time": "2022-09-13T10:11:49.161956",
     "status": "completed"
    },
    "tags": []
   },
   "outputs": [],
   "source": [
    "train_filter = np.where((train_labels == 3 ) | (train_labels == 8))\n",
    "test_filter = np.where((test_labels == 3) | (test_labels == 8))\n",
    "X_train, y_train = train_images[train_filter], train_labels[train_filter]\n",
    "X_test, y_test = test_images[test_filter], test_labels[test_filter]"
   ]
  },
  {
   "cell_type": "markdown",
   "id": "948f0b7e",
   "metadata": {
    "papermill": {
     "duration": 0.026248,
     "end_time": "2022-09-13T10:11:49.267350",
     "exception": false,
     "start_time": "2022-09-13T10:11:49.241102",
     "status": "completed"
    },
    "tags": []
   },
   "source": [
    "We normalize the pizel values in the 0 to 1 range"
   ]
  },
  {
   "cell_type": "code",
   "execution_count": 11,
   "id": "ee4c2166",
   "metadata": {
    "execution": {
     "iopub.execute_input": "2022-09-13T10:11:49.331971Z",
     "iopub.status.busy": "2022-09-13T10:11:49.330297Z",
     "iopub.status.idle": "2022-09-13T10:11:49.375863Z",
     "shell.execute_reply": "2022-09-13T10:11:49.375313Z"
    },
    "papermill": {
     "duration": 0.082641,
     "end_time": "2022-09-13T10:11:49.375988",
     "exception": false,
     "start_time": "2022-09-13T10:11:49.293347",
     "status": "completed"
    },
    "tags": []
   },
   "outputs": [],
   "source": [
    "X_train = X_train/255.\n",
    "X_test = X_test/255."
   ]
  },
  {
   "cell_type": "markdown",
   "id": "ddcf4fab",
   "metadata": {
    "papermill": {
     "duration": 0.026552,
     "end_time": "2022-09-13T10:11:49.429811",
     "exception": false,
     "start_time": "2022-09-13T10:11:49.403259",
     "status": "completed"
    },
    "tags": []
   },
   "source": [
    "And setup the labels as 1 (when the digit is 3) and 0 (when the digit is 8)"
   ]
  },
  {
   "cell_type": "code",
   "execution_count": 12,
   "id": "7dc908f2",
   "metadata": {
    "execution": {
     "iopub.execute_input": "2022-09-13T10:11:49.487508Z",
     "iopub.status.busy": "2022-09-13T10:11:49.486846Z",
     "iopub.status.idle": "2022-09-13T10:11:49.498693Z",
     "shell.execute_reply": "2022-09-13T10:11:49.498215Z"
    },
    "papermill": {
     "duration": 0.042637,
     "end_time": "2022-09-13T10:11:49.498808",
     "exception": false,
     "start_time": "2022-09-13T10:11:49.456171",
     "status": "completed"
    },
    "tags": []
   },
   "outputs": [],
   "source": [
    "y_train = 1*(y_train==3)\n",
    "y_test = 1*(y_test==3)"
   ]
  },
  {
   "cell_type": "code",
   "execution_count": 13,
   "id": "01e4e969",
   "metadata": {
    "execution": {
     "iopub.execute_input": "2022-09-13T10:11:49.556768Z",
     "iopub.status.busy": "2022-09-13T10:11:49.556157Z",
     "iopub.status.idle": "2022-09-13T10:11:49.570932Z",
     "shell.execute_reply": "2022-09-13T10:11:49.570450Z"
    },
    "papermill": {
     "duration": 0.045644,
     "end_time": "2022-09-13T10:11:49.571049",
     "exception": false,
     "start_time": "2022-09-13T10:11:49.525405",
     "status": "completed"
    },
    "tags": []
   },
   "outputs": [
    {
     "data": {
      "text/plain": [
       "((11982, 28, 28), (1984, 28, 28))"
      ]
     },
     "execution_count": 13,
     "metadata": {},
     "output_type": "execute_result"
    }
   ],
   "source": [
    "X_train.shape, X_test.shape"
   ]
  },
  {
   "cell_type": "markdown",
   "id": "5ccf3f85",
   "metadata": {
    "papermill": {
     "duration": 0.02652,
     "end_time": "2022-09-13T10:11:49.624186",
     "exception": false,
     "start_time": "2022-09-13T10:11:49.597666",
     "status": "completed"
    },
    "tags": []
   },
   "source": [
    "We reshape the data to flatten the image pixels into a set of features or co-variates:"
   ]
  },
  {
   "cell_type": "code",
   "execution_count": 14,
   "id": "5286a4a3",
   "metadata": {
    "execution": {
     "iopub.execute_input": "2022-09-13T10:11:49.682351Z",
     "iopub.status.busy": "2022-09-13T10:11:49.681758Z",
     "iopub.status.idle": "2022-09-13T10:11:49.694332Z",
     "shell.execute_reply": "2022-09-13T10:11:49.694761Z"
    },
    "papermill": {
     "duration": 0.044102,
     "end_time": "2022-09-13T10:11:49.694896",
     "exception": false,
     "start_time": "2022-09-13T10:11:49.650794",
     "status": "completed"
    },
    "tags": []
   },
   "outputs": [
    {
     "data": {
      "text/plain": [
       "((11982, 784), (1984, 784))"
      ]
     },
     "execution_count": 14,
     "metadata": {},
     "output_type": "execute_result"
    }
   ],
   "source": [
    "X_train = X_train.reshape(X_train.shape[0], -1)\n",
    "X_test = X_test.reshape(X_test.shape[0], -1)\n",
    "X_train.shape, X_test.shape"
   ]
  },
  {
   "cell_type": "code",
   "execution_count": 15,
   "id": "73c5f88a",
   "metadata": {
    "execution": {
     "iopub.execute_input": "2022-09-13T10:11:49.760384Z",
     "iopub.status.busy": "2022-09-13T10:11:49.759739Z",
     "iopub.status.idle": "2022-09-13T10:11:49.774029Z",
     "shell.execute_reply": "2022-09-13T10:11:49.773551Z"
    },
    "papermill": {
     "duration": 0.052365,
     "end_time": "2022-09-13T10:11:49.774145",
     "exception": false,
     "start_time": "2022-09-13T10:11:49.721780",
     "status": "completed"
    },
    "tags": []
   },
   "outputs": [],
   "source": [
    "#Impoting functions from 'Kudzu'\n",
    "from kudzu.model import Model\n",
    "from kudzu.train import Learner\n",
    "from kudzu.optim import GD\n",
    "from kudzu.data import Data, Sampler,Dataloader\n",
    "\n",
    "from kudzu.callbacks import AccCallback\n",
    "from kudzu.callbacks import ClfCallback\n",
    "\n",
    "from kudzu.loss import MSE\n",
    "\n",
    "from kudzu.layer import Sigmoid,Relu\n",
    "from kudzu.layer import Affine"
   ]
  },
  {
   "cell_type": "markdown",
   "id": "bc01172a",
   "metadata": {
    "papermill": {
     "duration": 0.02657,
     "end_time": "2022-09-13T10:11:49.827648",
     "exception": false,
     "start_time": "2022-09-13T10:11:49.801078",
     "status": "completed"
    },
    "tags": []
   },
   "source": [
    "### Let us create a `Config` class, to store important parameters. \n",
    "This class essentially plays the role of a dictionary."
   ]
  },
  {
   "cell_type": "code",
   "execution_count": 16,
   "id": "978281aa",
   "metadata": {
    "execution": {
     "iopub.execute_input": "2022-09-13T10:11:49.887491Z",
     "iopub.status.busy": "2022-09-13T10:11:49.886817Z",
     "iopub.status.idle": "2022-09-13T10:11:49.897326Z",
     "shell.execute_reply": "2022-09-13T10:11:49.896845Z"
    },
    "papermill": {
     "duration": 0.04314,
     "end_time": "2022-09-13T10:11:49.897441",
     "exception": false,
     "start_time": "2022-09-13T10:11:49.854301",
     "status": "completed"
    },
    "tags": []
   },
   "outputs": [],
   "source": [
    "class Config:\n",
    "    pass\n",
    "config = Config()\n",
    "config.lr = 0.001\n",
    "config.num_epochs = 250\n",
    "config.bs = 50"
   ]
  },
  {
   "cell_type": "markdown",
   "id": "1385fa59",
   "metadata": {
    "papermill": {
     "duration": 0.02686,
     "end_time": "2022-09-13T10:11:49.951195",
     "exception": false,
     "start_time": "2022-09-13T10:11:49.924335",
     "status": "completed"
    },
    "tags": []
   },
   "source": [
    "### Running Models with the Training data\n",
    "Details about the network layers:\n",
    "- A first affine layer has 784 inputs and does 100 affine transforms. These are followed by a Relu\n",
    "- A second affine layer has 100 inputs from the 100 activations of the past layer, and does 100 affine transforms. These are followed by a Relu\n",
    "- A third affine layer has 100 activations and does 2 affine transformations to create an embedding for visualization. There is no non-linearity here.\n",
    "- A final \"logistic regression\" which has an affine transform from 2 inputs to 1 output, which is squeezed through a sigmoid.\n"
   ]
  },
  {
   "cell_type": "code",
   "execution_count": 17,
   "id": "2b9c66db",
   "metadata": {
    "execution": {
     "iopub.execute_input": "2022-09-13T10:11:50.012265Z",
     "iopub.status.busy": "2022-09-13T10:11:50.011600Z",
     "iopub.status.idle": "2022-09-13T10:11:50.023818Z",
     "shell.execute_reply": "2022-09-13T10:11:50.024305Z"
    },
    "papermill": {
     "duration": 0.046202,
     "end_time": "2022-09-13T10:11:50.024448",
     "exception": false,
     "start_time": "2022-09-13T10:11:49.978246",
     "status": "completed"
    },
    "tags": []
   },
   "outputs": [],
   "source": [
    "data = Data(X_train, y_train.reshape(-1,1))\n",
    "sampler = Sampler(data, config.bs, shuffle=True)\n",
    "\n",
    "dl = Dataloader(data, sampler)\n",
    "\n",
    "opt = GD(config.lr)\n",
    "loss = MSE()"
   ]
  },
  {
   "cell_type": "code",
   "execution_count": 18,
   "id": "b275e4c2",
   "metadata": {
    "execution": {
     "iopub.execute_input": "2022-09-13T10:11:50.083436Z",
     "iopub.status.busy": "2022-09-13T10:11:50.082805Z",
     "iopub.status.idle": "2022-09-13T10:11:50.103736Z",
     "shell.execute_reply": "2022-09-13T10:11:50.103250Z"
    },
    "papermill": {
     "duration": 0.052285,
     "end_time": "2022-09-13T10:11:50.103860",
     "exception": false,
     "start_time": "2022-09-13T10:11:50.051575",
     "status": "completed"
    },
    "tags": []
   },
   "outputs": [],
   "source": [
    "training_data_x = X_train\n",
    "testing_data_x = X_test\n",
    "training_data_y = y_train.reshape(-1,1)\n",
    "testing_data_y = y_test.reshape(-1,1)"
   ]
  },
  {
   "cell_type": "code",
   "execution_count": 19,
   "id": "76951160",
   "metadata": {
    "execution": {
     "iopub.execute_input": "2022-09-13T10:11:50.157646Z",
     "iopub.status.busy": "2022-09-13T10:11:50.157046Z",
     "iopub.status.idle": "2022-09-13T10:11:50.173330Z",
     "shell.execute_reply": "2022-09-13T10:11:50.172713Z"
    },
    "papermill": {
     "duration": 0.04525,
     "end_time": "2022-09-13T10:11:50.173458",
     "exception": false,
     "start_time": "2022-09-13T10:11:50.128208",
     "status": "completed"
    },
    "tags": []
   },
   "outputs": [
    {
     "name": "stdout",
     "output_type": "stream",
     "text": [
      "xavier\n",
      "xavier\n",
      "xavier\n",
      "xavier\n",
      "xavier\n"
     ]
    }
   ],
   "source": [
    "layers = [Affine(\"first\", 784, 100), Relu(\"first\"), Affine(\"second\", 100, 100), Relu(\"second\"), Affine(\"third\", 100, 2), Affine(\"last\", 2, 1), Sigmoid(\"last\")]\n",
    "model_nn = Model(layers)\n",
    "model_lr = Model([Affine(\"logits\", 784, 1), Sigmoid(\"sigmoid\")])"
   ]
  },
  {
   "cell_type": "code",
   "execution_count": 20,
   "id": "6eede77a",
   "metadata": {
    "execution": {
     "iopub.execute_input": "2022-09-13T10:11:50.243922Z",
     "iopub.status.busy": "2022-09-13T10:11:50.243223Z",
     "iopub.status.idle": "2022-09-13T10:11:50.252676Z",
     "shell.execute_reply": "2022-09-13T10:11:50.252196Z"
    },
    "papermill": {
     "duration": 0.051059,
     "end_time": "2022-09-13T10:11:50.252805",
     "exception": false,
     "start_time": "2022-09-13T10:11:50.201746",
     "status": "completed"
    },
    "tags": []
   },
   "outputs": [],
   "source": [
    "nn_learner = Learner(loss, model_nn, opt, config.num_epochs)\n",
    "acc_nn = ClfCallback(nn_learner, config.bs, training_data_x , testing_data_x, training_data_y, testing_data_y)\n",
    "nn_learner.set_callbacks([acc_nn])"
   ]
  },
  {
   "cell_type": "code",
   "execution_count": 21,
   "id": "877b6cc7",
   "metadata": {
    "execution": {
     "iopub.execute_input": "2022-09-13T10:11:50.325940Z",
     "iopub.status.busy": "2022-09-13T10:11:50.325283Z",
     "iopub.status.idle": "2022-09-13T10:11:50.336849Z",
     "shell.execute_reply": "2022-09-13T10:11:50.336418Z"
    },
    "papermill": {
     "duration": 0.055139,
     "end_time": "2022-09-13T10:11:50.336966",
     "exception": false,
     "start_time": "2022-09-13T10:11:50.281827",
     "status": "completed"
    },
    "tags": []
   },
   "outputs": [],
   "source": [
    "lr_learner = Learner(loss, model_lr, opt, config.num_epochs)\n",
    "acc_lr = ClfCallback(lr_learner, config.bs, training_data_x , testing_data_x, training_data_y, testing_data_y)\n",
    "lr_learner.set_callbacks([acc_lr])"
   ]
  },
  {
   "cell_type": "code",
   "execution_count": 22,
   "id": "d9b133c3",
   "metadata": {
    "execution": {
     "iopub.execute_input": "2022-09-13T10:11:50.390873Z",
     "iopub.status.busy": "2022-09-13T10:11:50.390298Z",
     "iopub.status.idle": "2022-09-13T10:13:17.855548Z",
     "shell.execute_reply": "2022-09-13T10:13:17.856457Z"
    },
    "papermill": {
     "duration": 87.49519,
     "end_time": "2022-09-13T10:13:17.856616",
     "exception": false,
     "start_time": "2022-09-13T10:11:50.361426",
     "status": "completed"
    },
    "tags": []
   },
   "outputs": [
    {
     "name": "stdout",
     "output_type": "stream",
     "text": [
      "Epoch 0, Loss 0.2505\n",
      "Training Accuracy: 0.4963, Testing Accuracy: 0.5015\n",
      "\n"
     ]
    },
    {
     "name": "stdout",
     "output_type": "stream",
     "text": [
      "Epoch 10, Loss 0.2251\n",
      "Training Accuracy: 0.8258, Testing Accuracy: 0.8347\n",
      "\n"
     ]
    },
    {
     "name": "stdout",
     "output_type": "stream",
     "text": [
      "Epoch 20, Loss 0.1439\n",
      "Training Accuracy: 0.8897, Testing Accuracy: 0.8992\n",
      "\n"
     ]
    },
    {
     "name": "stdout",
     "output_type": "stream",
     "text": [
      "Epoch 30, Loss 0.0756\n",
      "Training Accuracy: 0.9243, Testing Accuracy: 0.9365\n",
      "\n"
     ]
    },
    {
     "name": "stdout",
     "output_type": "stream",
     "text": [
      "Epoch 40, Loss 0.0542\n",
      "Training Accuracy: 0.9421, Testing Accuracy: 0.9511\n",
      "\n"
     ]
    },
    {
     "name": "stdout",
     "output_type": "stream",
     "text": [
      "Epoch 50, Loss 0.0449\n",
      "Training Accuracy: 0.9496, Testing Accuracy: 0.9597\n",
      "\n"
     ]
    },
    {
     "name": "stdout",
     "output_type": "stream",
     "text": [
      "Epoch 60, Loss 0.0397\n",
      "Training Accuracy: 0.9543, Testing Accuracy: 0.9622\n",
      "\n"
     ]
    },
    {
     "name": "stdout",
     "output_type": "stream",
     "text": [
      "Epoch 70, Loss 0.0364\n",
      "Training Accuracy: 0.9578, Testing Accuracy: 0.9662\n",
      "\n"
     ]
    },
    {
     "name": "stdout",
     "output_type": "stream",
     "text": [
      "Epoch 80, Loss 0.0341\n",
      "Training Accuracy: 0.9592, Testing Accuracy: 0.9657\n",
      "\n"
     ]
    },
    {
     "name": "stdout",
     "output_type": "stream",
     "text": [
      "Epoch 90, Loss 0.0324\n",
      "Training Accuracy: 0.9608, Testing Accuracy: 0.9677\n",
      "\n"
     ]
    },
    {
     "name": "stdout",
     "output_type": "stream",
     "text": [
      "Epoch 100, Loss 0.0309\n",
      "Training Accuracy: 0.9626, Testing Accuracy: 0.9693\n",
      "\n"
     ]
    },
    {
     "name": "stdout",
     "output_type": "stream",
     "text": [
      "Epoch 110, Loss 0.0298\n",
      "Training Accuracy: 0.9640, Testing Accuracy: 0.9698\n",
      "\n"
     ]
    },
    {
     "name": "stdout",
     "output_type": "stream",
     "text": [
      "Epoch 120, Loss 0.0288\n",
      "Training Accuracy: 0.9655, Testing Accuracy: 0.9703\n",
      "\n"
     ]
    },
    {
     "name": "stdout",
     "output_type": "stream",
     "text": [
      "Epoch 130, Loss 0.0279\n",
      "Training Accuracy: 0.9665, Testing Accuracy: 0.9708\n",
      "\n"
     ]
    },
    {
     "name": "stdout",
     "output_type": "stream",
     "text": [
      "Epoch 140, Loss 0.0272\n",
      "Training Accuracy: 0.9675, Testing Accuracy: 0.9693\n",
      "\n"
     ]
    },
    {
     "name": "stdout",
     "output_type": "stream",
     "text": [
      "Epoch 150, Loss 0.0265\n",
      "Training Accuracy: 0.9685, Testing Accuracy: 0.9698\n",
      "\n"
     ]
    },
    {
     "name": "stdout",
     "output_type": "stream",
     "text": [
      "Epoch 160, Loss 0.0259\n",
      "Training Accuracy: 0.9693, Testing Accuracy: 0.9703\n",
      "\n"
     ]
    },
    {
     "name": "stdout",
     "output_type": "stream",
     "text": [
      "Epoch 170, Loss 0.0253\n",
      "Training Accuracy: 0.9700, Testing Accuracy: 0.9708\n",
      "\n"
     ]
    },
    {
     "name": "stdout",
     "output_type": "stream",
     "text": [
      "Epoch 180, Loss 0.0248\n",
      "Training Accuracy: 0.9710, Testing Accuracy: 0.9713\n",
      "\n"
     ]
    },
    {
     "name": "stdout",
     "output_type": "stream",
     "text": [
      "Epoch 190, Loss 0.0243\n",
      "Training Accuracy: 0.9713, Testing Accuracy: 0.9718\n",
      "\n"
     ]
    },
    {
     "name": "stdout",
     "output_type": "stream",
     "text": [
      "Epoch 200, Loss 0.0239\n",
      "Training Accuracy: 0.9718, Testing Accuracy: 0.9713\n",
      "\n"
     ]
    },
    {
     "name": "stdout",
     "output_type": "stream",
     "text": [
      "Epoch 210, Loss 0.0235\n",
      "Training Accuracy: 0.9724, Testing Accuracy: 0.9718\n",
      "\n"
     ]
    },
    {
     "name": "stdout",
     "output_type": "stream",
     "text": [
      "Epoch 220, Loss 0.0231\n",
      "Training Accuracy: 0.9730, Testing Accuracy: 0.9718\n",
      "\n"
     ]
    },
    {
     "name": "stdout",
     "output_type": "stream",
     "text": [
      "Epoch 230, Loss 0.0227\n",
      "Training Accuracy: 0.9730, Testing Accuracy: 0.9723\n",
      "\n"
     ]
    },
    {
     "name": "stdout",
     "output_type": "stream",
     "text": [
      "Epoch 240, Loss 0.0223\n",
      "Training Accuracy: 0.9737, Testing Accuracy: 0.9728\n",
      "\n"
     ]
    },
    {
     "data": {
      "text/plain": [
       "0.051489283569492436"
      ]
     },
     "execution_count": 22,
     "metadata": {},
     "output_type": "execute_result"
    }
   ],
   "source": [
    "nn_learner.train_loop(dl)"
   ]
  },
  {
   "cell_type": "code",
   "execution_count": 23,
   "id": "e0163366",
   "metadata": {
    "execution": {
     "iopub.execute_input": "2022-09-13T10:13:17.936696Z",
     "iopub.status.busy": "2022-09-13T10:13:17.936105Z",
     "iopub.status.idle": "2022-09-13T10:13:33.644905Z",
     "shell.execute_reply": "2022-09-13T10:13:33.645783Z"
    },
    "papermill": {
     "duration": 15.754544,
     "end_time": "2022-09-13T10:13:33.645933",
     "exception": false,
     "start_time": "2022-09-13T10:13:17.891389",
     "status": "completed"
    },
    "tags": []
   },
   "outputs": [
    {
     "name": "stdout",
     "output_type": "stream",
     "text": [
      "Epoch 0, Loss 0.2102\n",
      "Training Accuracy: 0.7772, Testing Accuracy: 0.7979\n",
      "\n"
     ]
    },
    {
     "name": "stdout",
     "output_type": "stream",
     "text": [
      "Epoch 10, Loss 0.0998\n",
      "Training Accuracy: 0.9098, Testing Accuracy: 0.9194\n",
      "\n"
     ]
    },
    {
     "name": "stdout",
     "output_type": "stream",
     "text": [
      "Epoch 20, Loss 0.0776\n",
      "Training Accuracy: 0.9279, Testing Accuracy: 0.9461\n",
      "\n"
     ]
    },
    {
     "name": "stdout",
     "output_type": "stream",
     "text": [
      "Epoch 30, Loss 0.0671\n",
      "Training Accuracy: 0.9370, Testing Accuracy: 0.9516\n",
      "\n"
     ]
    },
    {
     "name": "stdout",
     "output_type": "stream",
     "text": [
      "Epoch 40, Loss 0.0608\n",
      "Training Accuracy: 0.9422, Testing Accuracy: 0.9526\n",
      "\n"
     ]
    },
    {
     "name": "stdout",
     "output_type": "stream",
     "text": [
      "Epoch 50, Loss 0.0564\n",
      "Training Accuracy: 0.9452, Testing Accuracy: 0.9536\n",
      "\n"
     ]
    },
    {
     "name": "stdout",
     "output_type": "stream",
     "text": [
      "Epoch 60, Loss 0.0532\n",
      "Training Accuracy: 0.9473, Testing Accuracy: 0.9561\n",
      "\n"
     ]
    },
    {
     "name": "stdout",
     "output_type": "stream",
     "text": [
      "Epoch 70, Loss 0.0507\n",
      "Training Accuracy: 0.9498, Testing Accuracy: 0.9572\n",
      "\n"
     ]
    },
    {
     "name": "stdout",
     "output_type": "stream",
     "text": [
      "Epoch 80, Loss 0.0487\n",
      "Training Accuracy: 0.9516, Testing Accuracy: 0.9592\n",
      "\n"
     ]
    },
    {
     "name": "stdout",
     "output_type": "stream",
     "text": [
      "Epoch 90, Loss 0.047\n",
      "Training Accuracy: 0.9520, Testing Accuracy: 0.9612\n",
      "\n"
     ]
    },
    {
     "name": "stdout",
     "output_type": "stream",
     "text": [
      "Epoch 100, Loss 0.0456\n",
      "Training Accuracy: 0.9529, Testing Accuracy: 0.9627\n",
      "\n"
     ]
    },
    {
     "name": "stdout",
     "output_type": "stream",
     "text": [
      "Epoch 110, Loss 0.0444\n",
      "Training Accuracy: 0.9540, Testing Accuracy: 0.9632\n",
      "\n"
     ]
    },
    {
     "name": "stdout",
     "output_type": "stream",
     "text": [
      "Epoch 120, Loss 0.0434\n",
      "Training Accuracy: 0.9553, Testing Accuracy: 0.9637\n",
      "\n"
     ]
    },
    {
     "name": "stdout",
     "output_type": "stream",
     "text": [
      "Epoch 130, Loss 0.0425\n",
      "Training Accuracy: 0.9559, Testing Accuracy: 0.9652\n",
      "\n"
     ]
    },
    {
     "name": "stdout",
     "output_type": "stream",
     "text": [
      "Epoch 140, Loss 0.0417\n",
      "Training Accuracy: 0.9563, Testing Accuracy: 0.9652\n",
      "\n"
     ]
    },
    {
     "name": "stdout",
     "output_type": "stream",
     "text": [
      "Epoch 150, Loss 0.0409\n",
      "Training Accuracy: 0.9566, Testing Accuracy: 0.9662\n",
      "\n"
     ]
    },
    {
     "name": "stdout",
     "output_type": "stream",
     "text": [
      "Epoch 160, Loss 0.0403\n",
      "Training Accuracy: 0.9573, Testing Accuracy: 0.9667\n",
      "\n"
     ]
    },
    {
     "name": "stdout",
     "output_type": "stream",
     "text": [
      "Epoch 170, Loss 0.0397\n",
      "Training Accuracy: 0.9581, Testing Accuracy: 0.9667\n",
      "\n"
     ]
    },
    {
     "name": "stdout",
     "output_type": "stream",
     "text": [
      "Epoch 180, Loss 0.0391\n",
      "Training Accuracy: 0.9588, Testing Accuracy: 0.9672\n",
      "\n"
     ]
    },
    {
     "name": "stdout",
     "output_type": "stream",
     "text": [
      "Epoch 190, Loss 0.0386\n",
      "Training Accuracy: 0.9594, Testing Accuracy: 0.9667\n",
      "\n"
     ]
    },
    {
     "name": "stdout",
     "output_type": "stream",
     "text": [
      "Epoch 200, Loss 0.0382\n",
      "Training Accuracy: 0.9597, Testing Accuracy: 0.9667\n",
      "\n"
     ]
    },
    {
     "name": "stdout",
     "output_type": "stream",
     "text": [
      "Epoch 210, Loss 0.0377\n",
      "Training Accuracy: 0.9599, Testing Accuracy: 0.9657\n",
      "\n"
     ]
    },
    {
     "name": "stdout",
     "output_type": "stream",
     "text": [
      "Epoch 220, Loss 0.0373\n",
      "Training Accuracy: 0.9599, Testing Accuracy: 0.9672\n",
      "\n"
     ]
    },
    {
     "name": "stdout",
     "output_type": "stream",
     "text": [
      "Epoch 230, Loss 0.0369\n",
      "Training Accuracy: 0.9599, Testing Accuracy: 0.9677\n",
      "\n"
     ]
    },
    {
     "name": "stdout",
     "output_type": "stream",
     "text": [
      "Epoch 240, Loss 0.0366\n",
      "Training Accuracy: 0.9608, Testing Accuracy: 0.9682\n",
      "\n"
     ]
    },
    {
     "data": {
      "text/plain": [
       "0.029183240645747562"
      ]
     },
     "execution_count": 23,
     "metadata": {},
     "output_type": "execute_result"
    }
   ],
   "source": [
    "lr_learner.train_loop(dl)"
   ]
  },
  {
   "cell_type": "code",
   "execution_count": 24,
   "id": "ca410940",
   "metadata": {
    "execution": {
     "iopub.execute_input": "2022-09-13T10:13:33.740955Z",
     "iopub.status.busy": "2022-09-13T10:13:33.740322Z",
     "iopub.status.idle": "2022-09-13T10:13:33.962572Z",
     "shell.execute_reply": "2022-09-13T10:13:33.962055Z"
    },
    "papermill": {
     "duration": 0.275237,
     "end_time": "2022-09-13T10:13:33.962698",
     "exception": false,
     "start_time": "2022-09-13T10:13:33.687461",
     "status": "completed"
    },
    "tags": []
   },
   "outputs": [
    {
     "data": {
      "text/plain": [
       "<matplotlib.legend.Legend at 0x7f2ebcff02b0>"
      ]
     },
     "execution_count": 24,
     "metadata": {},
     "output_type": "execute_result"
    },
    {
     "data": {
      "image/png": "[encoded data removed]",
      "text/plain": [
       "<Figure size 1080x720 with 1 Axes>"
      ]
     },
     "metadata": {
      "needs_background": "light"
     },
     "output_type": "display_data"
    }
   ],
   "source": [
    "#comparing the results of NN and LR\n",
    "plt.figure(figsize=(15,10))\n",
    "\n",
    "# Neural Network plots\n",
    "plt.plot(acc_nn.accuracies, 'r-', label = \"Training Accuracies - NN\")\n",
    "plt.plot(acc_nn.test_accuracies, 'g-', label = \"Testing Accuracies - NN\")\n",
    "\n",
    "# Logistic Regression plots\n",
    "plt.plot(acc_lr.accuracies, 'k-', label = \"Training Accuracies - LR\")\n",
    "plt.plot(acc_lr.test_accuracies, 'b-', label = \"Testing Accuracies - LR\")\n",
    "plt.legend()"
   ]
  },
  {
   "cell_type": "markdown",
   "id": "80dfb35c",
   "metadata": {
    "papermill": {
     "duration": 0.042065,
     "end_time": "2022-09-13T10:13:34.047211",
     "exception": false,
     "start_time": "2022-09-13T10:13:34.005146",
     "status": "completed"
    },
    "tags": []
   },
   "source": [
    "#### Plotting the outputs of this layer of the NN.\n"
   ]
  },
  {
   "cell_type": "code",
   "execution_count": 25,
   "id": "45eb2ff5",
   "metadata": {
    "execution": {
     "iopub.execute_input": "2022-09-13T10:13:34.136183Z",
     "iopub.status.busy": "2022-09-13T10:13:34.135518Z",
     "iopub.status.idle": "2022-09-13T10:13:34.158899Z",
     "shell.execute_reply": "2022-09-13T10:13:34.158373Z"
    },
    "papermill": {
     "duration": 0.069965,
     "end_time": "2022-09-13T10:13:34.159035",
     "exception": false,
     "start_time": "2022-09-13T10:13:34.089070",
     "status": "completed"
    },
    "tags": []
   },
   "outputs": [],
   "source": [
    "new_model = Model(layers[:-2])\n",
    "testing_plot = new_model(testing_data_x)"
   ]
  },
  {
   "cell_type": "code",
   "execution_count": 26,
   "id": "4c0a5485",
   "metadata": {
    "execution": {
     "iopub.execute_input": "2022-09-13T10:13:34.248809Z",
     "iopub.status.busy": "2022-09-13T10:13:34.248190Z",
     "iopub.status.idle": "2022-09-13T10:13:34.458858Z",
     "shell.execute_reply": "2022-09-13T10:13:34.458364Z"
    },
    "papermill": {
     "duration": 0.257578,
     "end_time": "2022-09-13T10:13:34.458988",
     "exception": false,
     "start_time": "2022-09-13T10:13:34.201410",
     "status": "completed"
    },
    "tags": []
   },
   "outputs": [
    {
     "data": {
      "text/plain": [
       "Text(0.5, 1.0, 'Outputs')"
      ]
     },
     "execution_count": 26,
     "metadata": {},
     "output_type": "execute_result"
    },
    {
     "data": {
      "image/png": "[encoded data removed]",
      "text/plain": [
       "<Figure size 576x504 with 1 Axes>"
      ]
     },
     "metadata": {
      "needs_background": "light"
     },
     "output_type": "display_data"
    }
   ],
   "source": [
    "# Plotting the scatter plot of points and color coding by class\n",
    "plt.figure(figsize=(8,7))\n",
    "plt.scatter(testing_plot[:,0], testing_plot[:,1], alpha = 0.1, c = y_test.ravel());\n",
    "plt.title('Outputs')"
   ]
  },
  {
   "cell_type": "markdown",
   "id": "a74fcf8f",
   "metadata": {
    "papermill": {
     "duration": 0.044131,
     "end_time": "2022-09-13T10:13:34.547581",
     "exception": false,
     "start_time": "2022-09-13T10:13:34.503450",
     "status": "completed"
    },
    "tags": []
   },
   "source": [
    "Probability contours"
   ]
  },
  {
   "cell_type": "code",
   "execution_count": 27,
   "id": "d0afc8e3",
   "metadata": {
    "execution": {
     "iopub.execute_input": "2022-09-13T10:13:34.681527Z",
     "iopub.status.busy": "2022-09-13T10:13:34.680938Z",
     "iopub.status.idle": "2022-09-13T10:13:34.694843Z",
     "shell.execute_reply": "2022-09-13T10:13:34.695311Z"
    },
    "papermill": {
     "duration": 0.063311,
     "end_time": "2022-09-13T10:13:34.695457",
     "exception": false,
     "start_time": "2022-09-13T10:13:34.632146",
     "status": "completed"
    },
    "tags": []
   },
   "outputs": [],
   "source": [
    "model_prob = Model(layers[-2:]) "
   ]
  },
  {
   "cell_type": "code",
   "execution_count": 28,
   "id": "9b96e238",
   "metadata": {
    "execution": {
     "iopub.execute_input": "2022-09-13T10:13:34.788127Z",
     "iopub.status.busy": "2022-09-13T10:13:34.779311Z",
     "iopub.status.idle": "2022-09-13T10:13:34.794585Z",
     "shell.execute_reply": "2022-09-13T10:13:34.794094Z"
    },
    "papermill": {
     "duration": 0.059374,
     "end_time": "2022-09-13T10:13:34.794703",
     "exception": false,
     "start_time": "2022-09-13T10:13:34.735329",
     "status": "completed"
    },
    "tags": []
   },
   "outputs": [],
   "source": [
    "#creating the x and y ranges according to the above generated plot.\n",
    "x_range = np.linspace(-4, 1, 100) \n",
    "y_range = np.linspace(-6, 6, 100) \n",
    "x_grid, y_grid = np.meshgrid(x_range, y_range) # x_grid and y_grig are of size 100 X 100\n",
    "\n",
    "# converting x_grid and y_grid to continuous arrays\n",
    "x_gridflat = np.ravel(x_grid)\n",
    "y_gridflat = np.ravel(y_grid)\n",
    "\n",
    "# The last layer of the current model takes two columns as input. Hence transpose of np.vstack() is required.\n",
    "X = np.vstack((x_gridflat, y_gridflat)).T\n",
    "\n",
    "prob_contour = model_prob(X).reshape(100,100) "
   ]
  },
  {
   "cell_type": "code",
   "execution_count": 29,
   "id": "da72499a",
   "metadata": {
    "execution": {
     "iopub.execute_input": "2022-09-13T10:13:34.883317Z",
     "iopub.status.busy": "2022-09-13T10:13:34.882690Z",
     "iopub.status.idle": "2022-09-13T10:13:35.106452Z",
     "shell.execute_reply": "2022-09-13T10:13:35.105861Z"
    },
    "papermill": {
     "duration": 0.272634,
     "end_time": "2022-09-13T10:13:35.106577",
     "exception": false,
     "start_time": "2022-09-13T10:13:34.833943",
     "status": "completed"
    },
    "tags": []
   },
   "outputs": [
    {
     "data": {
      "image/png": "[encoded data removed]",
      "text/plain": [
       "<Figure size 720x648 with 1 Axes>"
      ]
     },
     "metadata": {
      "needs_background": "light"
     },
     "output_type": "display_data"
    }
   ],
   "source": [
    "plt.figure(figsize=(10,9))\n",
    "plt.scatter(testing_plot[:,0], testing_plot[:,1], alpha = 0.1, c = y_test.ravel())\n",
    "contours = plt.contour(x_grid,y_grid,prob_contour)\n",
    "plt.title('Probability Contours')\n",
    "plt.clabel(contours, inline = True );"
   ]
  },
  {
   "cell_type": "code",
   "execution_count": null,
   "id": "e81b4ac7",
   "metadata": {
    "papermill": {
     "duration": 0.046768,
     "end_time": "2022-09-13T10:13:35.200521",
     "exception": false,
     "start_time": "2022-09-13T10:13:35.153753",
     "status": "completed"
    },
    "tags": []
   },
   "outputs": [],
   "source": []
  }
 ],
 "metadata": {
  "kernelspec": {
   "display_name": "Python 3",
   "language": "python",
   "name": "python3"
  },
  "language_info": {
   "codemirror_mode": {
    "name": "ipython",
    "version": 3
   },
   "file_extension": ".py",
   "mimetype": "text/x-python",
   "name": "python",
   "nbconvert_exporter": "python",
   "pygments_lexer": "ipython3",
   "version": "3.6.15"
  },
  "papermill": {
   "default_parameters": {},
   "duration": 111.390759,
   "end_time": "2022-09-13T10:13:35.766700",
   "environment_variables": {},
   "exception": null,
   "input_path": "2020-08-11-part2.ipynb",
   "output_path": "2020-08-11-part2.ipynb",
   "parameters": {},
   "start_time": "2022-09-13T10:11:44.375941",
   "version": "2.3.3"
  }
 },
 "nbformat": 4,
 "nbformat_minor": 5
}