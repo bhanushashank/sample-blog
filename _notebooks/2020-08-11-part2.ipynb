{
 "cells": [
  {
   "cell_type": "markdown",
   "id": "98380cd3",
   "metadata": {
    "papermill": {
     "duration": 0.032937,
     "end_time": "2022-04-08T20:10:34.561051",
     "exception": false,
     "start_time": "2022-04-08T20:10:34.528114",
     "status": "completed"
    },
    "tags": []
   },
   "source": [
    "# Distinguish Your Own Digits (DYOD)"
   ]
  },
  {
   "cell_type": "markdown",
   "id": "ef31240d",
   "metadata": {
    "papermill": {
     "duration": 0.030575,
     "end_time": "2022-04-08T20:10:34.621559",
     "exception": false,
     "start_time": "2022-04-08T20:10:34.590984",
     "status": "completed"
    },
    "tags": []
   },
   "source": [
    "You are going to write a classifier that distinguishes between the number 3 and number 8."
   ]
  },
  {
   "cell_type": "code",
   "execution_count": 1,
   "id": "b15c8646",
   "metadata": {
    "execution": {
     "iopub.execute_input": "2022-04-08T20:10:34.692421Z",
     "iopub.status.busy": "2022-04-08T20:10:34.690681Z",
     "iopub.status.idle": "2022-04-08T20:10:34.711118Z",
     "shell.execute_reply": "2022-04-08T20:10:34.710544Z"
    },
    "papermill": {
     "duration": 0.061256,
     "end_time": "2022-04-08T20:10:34.711282",
     "exception": false,
     "start_time": "2022-04-08T20:10:34.650026",
     "status": "completed"
    },
    "tags": []
   },
   "outputs": [],
   "source": [
    "%load_ext autoreload\n",
    "%autoreload 2"
   ]
  },
  {
   "cell_type": "code",
   "execution_count": 2,
   "id": "22ef38dc",
   "metadata": {
    "execution": {
     "iopub.execute_input": "2022-04-08T20:10:34.774229Z",
     "iopub.status.busy": "2022-04-08T20:10:34.773570Z",
     "iopub.status.idle": "2022-04-08T20:10:35.513291Z",
     "shell.execute_reply": "2022-04-08T20:10:35.514290Z"
    },
    "papermill": {
     "duration": 0.774934,
     "end_time": "2022-04-08T20:10:35.514484",
     "exception": false,
     "start_time": "2022-04-08T20:10:34.739550",
     "status": "completed"
    },
    "tags": []
   },
   "outputs": [],
   "source": [
    "%matplotlib inline\n",
    "import numpy as np\n",
    "import matplotlib.pyplot as plt\n",
    "import pandas as pd"
   ]
  },
  {
   "cell_type": "markdown",
   "id": "ba036198",
   "metadata": {
    "papermill": {
     "duration": 0.028089,
     "end_time": "2022-04-08T20:10:35.571021",
     "exception": false,
     "start_time": "2022-04-08T20:10:35.542932",
     "status": "completed"
    },
    "tags": []
   },
   "source": [
    "From the command line run `pip install mnist`. This is a library that will help you bring down the mnist dataset. If you run this from a notebook, you need to put  `!pip install mnist` in a cell by itself."
   ]
  },
  {
   "cell_type": "code",
   "execution_count": 3,
   "id": "bb6ad8a1",
   "metadata": {
    "execution": {
     "iopub.execute_input": "2022-04-08T20:10:35.633185Z",
     "iopub.status.busy": "2022-04-08T20:10:35.632521Z",
     "iopub.status.idle": "2022-04-08T20:10:37.791395Z",
     "shell.execute_reply": "2022-04-08T20:10:37.790838Z"
    },
    "papermill": {
     "duration": 2.193065,
     "end_time": "2022-04-08T20:10:37.791564",
     "exception": false,
     "start_time": "2022-04-08T20:10:35.598499",
     "status": "completed"
    },
    "tags": []
   },
   "outputs": [
    {
     "name": "stdout",
     "output_type": "stream",
     "text": [
      "Collecting mnist\r\n"
     ]
    },
    {
     "name": "stdout",
     "output_type": "stream",
     "text": [
      "  Downloading mnist-0.2.2-py2.py3-none-any.whl (3.5 kB)\r\n",
      "Requirement already satisfied: numpy in /opt/hostedtoolcache/Python/3.6.15/x64/lib/python3.6/site-packages (from mnist) (1.19.5)\r\n"
     ]
    },
    {
     "name": "stdout",
     "output_type": "stream",
     "text": [
      "Installing collected packages: mnist\r\n"
     ]
    },
    {
     "name": "stdout",
     "output_type": "stream",
     "text": [
      "Successfully installed mnist-0.2.2\r\n"
     ]
    }
   ],
   "source": [
    "!pip install mnist"
   ]
  },
  {
   "cell_type": "markdown",
   "id": "69df9c9a",
   "metadata": {
    "papermill": {
     "duration": 0.031735,
     "end_time": "2022-04-08T20:10:37.855072",
     "exception": false,
     "start_time": "2022-04-08T20:10:37.823337",
     "status": "completed"
    },
    "tags": []
   },
   "source": [
    "## Preparing the Data"
   ]
  },
  {
   "cell_type": "code",
   "execution_count": 4,
   "id": "7f69d806",
   "metadata": {
    "execution": {
     "iopub.execute_input": "2022-04-08T20:10:37.921025Z",
     "iopub.status.busy": "2022-04-08T20:10:37.920340Z",
     "iopub.status.idle": "2022-04-08T20:10:37.938504Z",
     "shell.execute_reply": "2022-04-08T20:10:37.937620Z"
    },
    "papermill": {
     "duration": 0.054124,
     "end_time": "2022-04-08T20:10:37.938661",
     "exception": false,
     "start_time": "2022-04-08T20:10:37.884537",
     "status": "completed"
    },
    "tags": []
   },
   "outputs": [],
   "source": [
    "import mnist"
   ]
  },
  {
   "cell_type": "code",
   "execution_count": 5,
   "id": "a411e44f",
   "metadata": {
    "execution": {
     "iopub.execute_input": "2022-04-08T20:10:38.005420Z",
     "iopub.status.busy": "2022-04-08T20:10:38.004748Z",
     "iopub.status.idle": "2022-04-08T20:10:38.750320Z",
     "shell.execute_reply": "2022-04-08T20:10:38.750845Z"
    },
    "papermill": {
     "duration": 0.78133,
     "end_time": "2022-04-08T20:10:38.751025",
     "exception": false,
     "start_time": "2022-04-08T20:10:37.969695",
     "status": "completed"
    },
    "tags": []
   },
   "outputs": [],
   "source": [
    "train_images = mnist.train_images()\n",
    "train_labels = mnist.train_labels()"
   ]
  },
  {
   "cell_type": "code",
   "execution_count": 6,
   "id": "dceab3a5",
   "metadata": {
    "execution": {
     "iopub.execute_input": "2022-04-08T20:10:38.815350Z",
     "iopub.status.busy": "2022-04-08T20:10:38.814681Z",
     "iopub.status.idle": "2022-04-08T20:10:38.831626Z",
     "shell.execute_reply": "2022-04-08T20:10:38.832156Z"
    },
    "papermill": {
     "duration": 0.051547,
     "end_time": "2022-04-08T20:10:38.832316",
     "exception": false,
     "start_time": "2022-04-08T20:10:38.780769",
     "status": "completed"
    },
    "tags": []
   },
   "outputs": [
    {
     "data": {
      "text/plain": [
       "((60000, 28, 28), (60000,))"
      ]
     },
     "execution_count": 6,
     "metadata": {},
     "output_type": "execute_result"
    }
   ],
   "source": [
    "train_images.shape, train_labels.shape"
   ]
  },
  {
   "cell_type": "code",
   "execution_count": 7,
   "id": "f50dc2bb",
   "metadata": {
    "execution": {
     "iopub.execute_input": "2022-04-08T20:10:38.898090Z",
     "iopub.status.busy": "2022-04-08T20:10:38.897241Z",
     "iopub.status.idle": "2022-04-08T20:10:39.152577Z",
     "shell.execute_reply": "2022-04-08T20:10:39.153128Z"
    },
    "papermill": {
     "duration": 0.290179,
     "end_time": "2022-04-08T20:10:39.153391",
     "exception": false,
     "start_time": "2022-04-08T20:10:38.863212",
     "status": "completed"
    },
    "tags": []
   },
   "outputs": [],
   "source": [
    "test_images = mnist.test_images()\n",
    "test_labels = mnist.test_labels()"
   ]
  },
  {
   "cell_type": "code",
   "execution_count": 8,
   "id": "fc38cf1b",
   "metadata": {
    "execution": {
     "iopub.execute_input": "2022-04-08T20:10:39.220662Z",
     "iopub.status.busy": "2022-04-08T20:10:39.220009Z",
     "iopub.status.idle": "2022-04-08T20:10:39.236988Z",
     "shell.execute_reply": "2022-04-08T20:10:39.237479Z"
    },
    "papermill": {
     "duration": 0.05348,
     "end_time": "2022-04-08T20:10:39.237640",
     "exception": false,
     "start_time": "2022-04-08T20:10:39.184160",
     "status": "completed"
    },
    "tags": []
   },
   "outputs": [
    {
     "data": {
      "text/plain": [
       "((10000, 28, 28), (10000,))"
      ]
     },
     "execution_count": 8,
     "metadata": {},
     "output_type": "execute_result"
    }
   ],
   "source": [
    "test_images.shape, test_labels.shape"
   ]
  },
  {
   "cell_type": "code",
   "execution_count": 9,
   "id": "f9ed8fe0",
   "metadata": {
    "execution": {
     "iopub.execute_input": "2022-04-08T20:10:39.305421Z",
     "iopub.status.busy": "2022-04-08T20:10:39.304750Z",
     "iopub.status.idle": "2022-04-08T20:10:39.475055Z",
     "shell.execute_reply": "2022-04-08T20:10:39.475581Z"
    },
    "papermill": {
     "duration": 0.207785,
     "end_time": "2022-04-08T20:10:39.475744",
     "exception": false,
     "start_time": "2022-04-08T20:10:39.267959",
     "status": "completed"
    },
    "tags": []
   },
   "outputs": [
    {
     "name": "stdout",
     "output_type": "stream",
     "text": [
      "2\n"
     ]
    },
    {
     "data": {
      "text/plain": [
       "<matplotlib.image.AxesImage at 0x7fb6b4e0e470>"
      ]
     },
     "execution_count": 9,
     "metadata": {},
     "output_type": "execute_result"
    },
    {
     "data": {
      "image/png": "[encoded data removed]",
      "text/plain": [
       "<Figure size 432x288 with 1 Axes>"
      ]
     },
     "metadata": {
      "needs_background": "light"
     },
     "output_type": "display_data"
    }
   ],
   "source": [
    "image_index = 7776 # You may select anything up to 60,000\n",
    "print(train_labels[image_index]) \n",
    "plt.imshow(train_images[image_index], cmap='Greys')"
   ]
  },
  {
   "cell_type": "markdown",
   "id": "a8d2388d",
   "metadata": {
    "papermill": {
     "duration": 0.031606,
     "end_time": "2022-04-08T20:10:39.539156",
     "exception": false,
     "start_time": "2022-04-08T20:10:39.507550",
     "status": "completed"
    },
    "tags": []
   },
   "source": [
    "## Filter data to get 3 and 8 out"
   ]
  },
  {
   "cell_type": "code",
   "execution_count": 10,
   "id": "776f7fc7",
   "metadata": {
    "execution": {
     "iopub.execute_input": "2022-04-08T20:10:39.607566Z",
     "iopub.status.busy": "2022-04-08T20:10:39.606813Z",
     "iopub.status.idle": "2022-04-08T20:10:39.627212Z",
     "shell.execute_reply": "2022-04-08T20:10:39.626705Z"
    },
    "papermill": {
     "duration": 0.057012,
     "end_time": "2022-04-08T20:10:39.627355",
     "exception": false,
     "start_time": "2022-04-08T20:10:39.570343",
     "status": "completed"
    },
    "tags": []
   },
   "outputs": [],
   "source": [
    "train_filter = np.where((train_labels == 3 ) | (train_labels == 8))\n",
    "test_filter = np.where((test_labels == 3) | (test_labels == 8))\n",
    "X_train, y_train = train_images[train_filter], train_labels[train_filter]\n",
    "X_test, y_test = test_images[test_filter], test_labels[test_filter]"
   ]
  },
  {
   "cell_type": "markdown",
   "id": "948f0b7e",
   "metadata": {
    "papermill": {
     "duration": 0.031693,
     "end_time": "2022-04-08T20:10:39.690089",
     "exception": false,
     "start_time": "2022-04-08T20:10:39.658396",
     "status": "completed"
    },
    "tags": []
   },
   "source": [
    "We normalize the pizel values in the 0 to 1 range"
   ]
  },
  {
   "cell_type": "code",
   "execution_count": 11,
   "id": "ee4c2166",
   "metadata": {
    "execution": {
     "iopub.execute_input": "2022-04-08T20:10:39.757425Z",
     "iopub.status.busy": "2022-04-08T20:10:39.756746Z",
     "iopub.status.idle": "2022-04-08T20:10:39.813953Z",
     "shell.execute_reply": "2022-04-08T20:10:39.813370Z"
    },
    "papermill": {
     "duration": 0.092948,
     "end_time": "2022-04-08T20:10:39.814095",
     "exception": false,
     "start_time": "2022-04-08T20:10:39.721147",
     "status": "completed"
    },
    "tags": []
   },
   "outputs": [],
   "source": [
    "X_train = X_train/255.\n",
    "X_test = X_test/255."
   ]
  },
  {
   "cell_type": "markdown",
   "id": "ddcf4fab",
   "metadata": {
    "papermill": {
     "duration": 0.030729,
     "end_time": "2022-04-08T20:10:39.876421",
     "exception": false,
     "start_time": "2022-04-08T20:10:39.845692",
     "status": "completed"
    },
    "tags": []
   },
   "source": [
    "And setup the labels as 1 (when the digit is 3) and 0 (when the digit is 8)"
   ]
  },
  {
   "cell_type": "code",
   "execution_count": 12,
   "id": "7dc908f2",
   "metadata": {
    "execution": {
     "iopub.execute_input": "2022-04-08T20:10:39.944123Z",
     "iopub.status.busy": "2022-04-08T20:10:39.943408Z",
     "iopub.status.idle": "2022-04-08T20:10:39.959468Z",
     "shell.execute_reply": "2022-04-08T20:10:39.958922Z"
    },
    "papermill": {
     "duration": 0.051949,
     "end_time": "2022-04-08T20:10:39.959641",
     "exception": false,
     "start_time": "2022-04-08T20:10:39.907692",
     "status": "completed"
    },
    "tags": []
   },
   "outputs": [],
   "source": [
    "y_train = 1*(y_train==3)\n",
    "y_test = 1*(y_test==3)"
   ]
  },
  {
   "cell_type": "code",
   "execution_count": 13,
   "id": "01e4e969",
   "metadata": {
    "execution": {
     "iopub.execute_input": "2022-04-08T20:10:40.026076Z",
     "iopub.status.busy": "2022-04-08T20:10:40.025397Z",
     "iopub.status.idle": "2022-04-08T20:10:40.041698Z",
     "shell.execute_reply": "2022-04-08T20:10:40.041165Z"
    },
    "papermill": {
     "duration": 0.051211,
     "end_time": "2022-04-08T20:10:40.041838",
     "exception": false,
     "start_time": "2022-04-08T20:10:39.990627",
     "status": "completed"
    },
    "tags": []
   },
   "outputs": [
    {
     "data": {
      "text/plain": [
       "((11982, 28, 28), (1984, 28, 28))"
      ]
     },
     "execution_count": 13,
     "metadata": {},
     "output_type": "execute_result"
    }
   ],
   "source": [
    "X_train.shape, X_test.shape"
   ]
  },
  {
   "cell_type": "markdown",
   "id": "5ccf3f85",
   "metadata": {
    "papermill": {
     "duration": 0.031704,
     "end_time": "2022-04-08T20:10:40.106332",
     "exception": false,
     "start_time": "2022-04-08T20:10:40.074628",
     "status": "completed"
    },
    "tags": []
   },
   "source": [
    "We reshape the data to flatten the image pixels into a set of features or co-variates:"
   ]
  },
  {
   "cell_type": "code",
   "execution_count": 14,
   "id": "5286a4a3",
   "metadata": {
    "execution": {
     "iopub.execute_input": "2022-04-08T20:10:40.175721Z",
     "iopub.status.busy": "2022-04-08T20:10:40.174988Z",
     "iopub.status.idle": "2022-04-08T20:10:40.193311Z",
     "shell.execute_reply": "2022-04-08T20:10:40.192490Z"
    },
    "papermill": {
     "duration": 0.055612,
     "end_time": "2022-04-08T20:10:40.193462",
     "exception": false,
     "start_time": "2022-04-08T20:10:40.137850",
     "status": "completed"
    },
    "tags": []
   },
   "outputs": [
    {
     "data": {
      "text/plain": [
       "((11982, 784), (1984, 784))"
      ]
     },
     "execution_count": 14,
     "metadata": {},
     "output_type": "execute_result"
    }
   ],
   "source": [
    "X_train = X_train.reshape(X_train.shape[0], -1)\n",
    "X_test = X_test.reshape(X_test.shape[0], -1)\n",
    "X_train.shape, X_test.shape"
   ]
  },
  {
   "cell_type": "code",
   "execution_count": 15,
   "id": "73c5f88a",
   "metadata": {
    "execution": {
     "iopub.execute_input": "2022-04-08T20:10:40.264749Z",
     "iopub.status.busy": "2022-04-08T20:10:40.263832Z",
     "iopub.status.idle": "2022-04-08T20:10:40.288947Z",
     "shell.execute_reply": "2022-04-08T20:10:40.288287Z"
    },
    "papermill": {
     "duration": 0.062809,
     "end_time": "2022-04-08T20:10:40.289084",
     "exception": false,
     "start_time": "2022-04-08T20:10:40.226275",
     "status": "completed"
    },
    "tags": []
   },
   "outputs": [],
   "source": [
    "#Impoting functions from 'Kudzu'\n",
    "from kudzu.model import Model\n",
    "from kudzu.train import Learner\n",
    "from kudzu.optim import GD\n",
    "from kudzu.data import Data, Sampler,Dataloader\n",
    "\n",
    "from kudzu.callbacks import AccCallback\n",
    "from kudzu.callbacks import ClfCallback\n",
    "\n",
    "from kudzu.loss import MSE\n",
    "\n",
    "from kudzu.layer import Sigmoid,Relu\n",
    "from kudzu.layer import Affine"
   ]
  },
  {
   "cell_type": "markdown",
   "id": "bc01172a",
   "metadata": {
    "papermill": {
     "duration": 0.031099,
     "end_time": "2022-04-08T20:10:40.351650",
     "exception": false,
     "start_time": "2022-04-08T20:10:40.320551",
     "status": "completed"
    },
    "tags": []
   },
   "source": [
    "### Let us create a `Config` class, to store important parameters. \n",
    "This class essentially plays the role of a dictionary."
   ]
  },
  {
   "cell_type": "code",
   "execution_count": 16,
   "id": "978281aa",
   "metadata": {
    "execution": {
     "iopub.execute_input": "2022-04-08T20:10:40.419839Z",
     "iopub.status.busy": "2022-04-08T20:10:40.419145Z",
     "iopub.status.idle": "2022-04-08T20:10:40.434527Z",
     "shell.execute_reply": "2022-04-08T20:10:40.435050Z"
    },
    "papermill": {
     "duration": 0.051347,
     "end_time": "2022-04-08T20:10:40.435215",
     "exception": false,
     "start_time": "2022-04-08T20:10:40.383868",
     "status": "completed"
    },
    "tags": []
   },
   "outputs": [],
   "source": [
    "class Config:\n",
    "    pass\n",
    "config = Config()\n",
    "config.lr = 0.001\n",
    "config.num_epochs = 250\n",
    "config.bs = 50"
   ]
  },
  {
   "cell_type": "markdown",
   "id": "1385fa59",
   "metadata": {
    "papermill": {
     "duration": 0.03129,
     "end_time": "2022-04-08T20:10:40.498059",
     "exception": false,
     "start_time": "2022-04-08T20:10:40.466769",
     "status": "completed"
    },
    "tags": []
   },
   "source": [
    "### Running Models with the Training data\n",
    "Details about the network layers:\n",
    "- A first affine layer has 784 inputs and does 100 affine transforms. These are followed by a Relu\n",
    "- A second affine layer has 100 inputs from the 100 activations of the past layer, and does 100 affine transforms. These are followed by a Relu\n",
    "- A third affine layer has 100 activations and does 2 affine transformations to create an embedding for visualization. There is no non-linearity here.\n",
    "- A final \"logistic regression\" which has an affine transform from 2 inputs to 1 output, which is squeezed through a sigmoid.\n"
   ]
  },
  {
   "cell_type": "code",
   "execution_count": 17,
   "id": "2b9c66db",
   "metadata": {
    "execution": {
     "iopub.execute_input": "2022-04-08T20:10:40.567620Z",
     "iopub.status.busy": "2022-04-08T20:10:40.566933Z",
     "iopub.status.idle": "2022-04-08T20:10:40.583185Z",
     "shell.execute_reply": "2022-04-08T20:10:40.582643Z"
    },
    "papermill": {
     "duration": 0.05361,
     "end_time": "2022-04-08T20:10:40.583327",
     "exception": false,
     "start_time": "2022-04-08T20:10:40.529717",
     "status": "completed"
    },
    "tags": []
   },
   "outputs": [],
   "source": [
    "data = Data(X_train, y_train.reshape(-1,1))\n",
    "sampler = Sampler(data, config.bs, shuffle=True)\n",
    "\n",
    "dl = Dataloader(data, sampler)\n",
    "\n",
    "opt = GD(config.lr)\n",
    "loss = MSE()"
   ]
  },
  {
   "cell_type": "code",
   "execution_count": 18,
   "id": "b275e4c2",
   "metadata": {
    "execution": {
     "iopub.execute_input": "2022-04-08T20:10:40.654743Z",
     "iopub.status.busy": "2022-04-08T20:10:40.654076Z",
     "iopub.status.idle": "2022-04-08T20:10:40.668492Z",
     "shell.execute_reply": "2022-04-08T20:10:40.667950Z"
    },
    "papermill": {
     "duration": 0.052221,
     "end_time": "2022-04-08T20:10:40.668637",
     "exception": false,
     "start_time": "2022-04-08T20:10:40.616416",
     "status": "completed"
    },
    "tags": []
   },
   "outputs": [],
   "source": [
    "training_data_x = X_train\n",
    "testing_data_x = X_test\n",
    "training_data_y = y_train.reshape(-1,1)\n",
    "testing_data_y = y_test.reshape(-1,1)"
   ]
  },
  {
   "cell_type": "code",
   "execution_count": 19,
   "id": "76951160",
   "metadata": {
    "execution": {
     "iopub.execute_input": "2022-04-08T20:10:40.739000Z",
     "iopub.status.busy": "2022-04-08T20:10:40.738300Z",
     "iopub.status.idle": "2022-04-08T20:10:40.756223Z",
     "shell.execute_reply": "2022-04-08T20:10:40.756688Z"
    },
    "papermill": {
     "duration": 0.056604,
     "end_time": "2022-04-08T20:10:40.756853",
     "exception": false,
     "start_time": "2022-04-08T20:10:40.700249",
     "status": "completed"
    },
    "tags": []
   },
   "outputs": [
    {
     "name": "stdout",
     "output_type": "stream",
     "text": [
      "xavier\n",
      "xavier\n",
      "xavier\n",
      "xavier\n",
      "xavier\n"
     ]
    }
   ],
   "source": [
    "layers = [Affine(\"first\", 784, 100), Relu(\"first\"), Affine(\"second\", 100, 100), Relu(\"second\"), Affine(\"third\", 100, 2), Affine(\"last\", 2, 1), Sigmoid(\"last\")]\n",
    "model_nn = Model(layers)\n",
    "model_lr = Model([Affine(\"logits\", 784, 1), Sigmoid(\"sigmoid\")])"
   ]
  },
  {
   "cell_type": "code",
   "execution_count": 20,
   "id": "6eede77a",
   "metadata": {
    "execution": {
     "iopub.execute_input": "2022-04-08T20:10:40.829452Z",
     "iopub.status.busy": "2022-04-08T20:10:40.828737Z",
     "iopub.status.idle": "2022-04-08T20:10:40.843366Z",
     "shell.execute_reply": "2022-04-08T20:10:40.844005Z"
    },
    "papermill": {
     "duration": 0.054223,
     "end_time": "2022-04-08T20:10:40.844190",
     "exception": false,
     "start_time": "2022-04-08T20:10:40.789967",
     "status": "completed"
    },
    "tags": []
   },
   "outputs": [],
   "source": [
    "nn_learner = Learner(loss, model_nn, opt, config.num_epochs)\n",
    "acc_nn = ClfCallback(nn_learner, config.bs, training_data_x , testing_data_x, training_data_y, testing_data_y)\n",
    "nn_learner.set_callbacks([acc_nn])"
   ]
  },
  {
   "cell_type": "code",
   "execution_count": 21,
   "id": "877b6cc7",
   "metadata": {
    "execution": {
     "iopub.execute_input": "2022-04-08T20:10:40.913788Z",
     "iopub.status.busy": "2022-04-08T20:10:40.913181Z",
     "iopub.status.idle": "2022-04-08T20:10:40.927488Z",
     "shell.execute_reply": "2022-04-08T20:10:40.926998Z"
    },
    "papermill": {
     "duration": 0.050923,
     "end_time": "2022-04-08T20:10:40.927649",
     "exception": false,
     "start_time": "2022-04-08T20:10:40.876726",
     "status": "completed"
    },
    "tags": []
   },
   "outputs": [],
   "source": [
    "lr_learner = Learner(loss, model_lr, opt, config.num_epochs)\n",
    "acc_lr = ClfCallback(lr_learner, config.bs, training_data_x , testing_data_x, training_data_y, testing_data_y)\n",
    "lr_learner.set_callbacks([acc_lr])"
   ]
  },
  {
   "cell_type": "code",
   "execution_count": 22,
   "id": "d9b133c3",
   "metadata": {
    "execution": {
     "iopub.execute_input": "2022-04-08T20:10:40.997082Z",
     "iopub.status.busy": "2022-04-08T20:10:40.996459Z",
     "iopub.status.idle": "2022-04-08T20:12:29.079902Z",
     "shell.execute_reply": "2022-04-08T20:12:29.080864Z"
    },
    "papermill": {
     "duration": 108.121777,
     "end_time": "2022-04-08T20:12:29.081040",
     "exception": false,
     "start_time": "2022-04-08T20:10:40.959263",
     "status": "completed"
    },
    "tags": []
   },
   "outputs": [
    {
     "name": "stdout",
     "output_type": "stream",
     "text": [
      "Epoch 0, Loss 0.2524\n",
      "Training Accuracy: 0.5759, Testing Accuracy: 0.6069\n",
      "\n"
     ]
    },
    {
     "name": "stdout",
     "output_type": "stream",
     "text": [
      "Epoch 10, Loss 0.0997\n",
      "Training Accuracy: 0.9155, Testing Accuracy: 0.9299\n",
      "\n"
     ]
    },
    {
     "name": "stdout",
     "output_type": "stream",
     "text": [
      "Epoch 20, Loss 0.0586\n",
      "Training Accuracy: 0.9396, Testing Accuracy: 0.9516\n",
      "\n"
     ]
    },
    {
     "name": "stdout",
     "output_type": "stream",
     "text": [
      "Epoch 30, Loss 0.0456\n",
      "Training Accuracy: 0.9502, Testing Accuracy: 0.9577\n",
      "\n"
     ]
    },
    {
     "name": "stdout",
     "output_type": "stream",
     "text": [
      "Epoch 40, Loss 0.0394\n",
      "Training Accuracy: 0.9557, Testing Accuracy: 0.9622\n",
      "\n"
     ]
    },
    {
     "name": "stdout",
     "output_type": "stream",
     "text": [
      "Epoch 50, Loss 0.0357\n",
      "Training Accuracy: 0.9592, Testing Accuracy: 0.9667\n",
      "\n"
     ]
    },
    {
     "name": "stdout",
     "output_type": "stream",
     "text": [
      "Epoch 60, Loss 0.0332\n",
      "Training Accuracy: 0.9621, Testing Accuracy: 0.9693\n",
      "\n"
     ]
    },
    {
     "name": "stdout",
     "output_type": "stream",
     "text": [
      "Epoch 70, Loss 0.0313\n",
      "Training Accuracy: 0.9644, Testing Accuracy: 0.9693\n",
      "\n"
     ]
    },
    {
     "name": "stdout",
     "output_type": "stream",
     "text": [
      "Epoch 80, Loss 0.0298\n",
      "Training Accuracy: 0.9660, Testing Accuracy: 0.9703\n",
      "\n"
     ]
    },
    {
     "name": "stdout",
     "output_type": "stream",
     "text": [
      "Epoch 90, Loss 0.0286\n",
      "Training Accuracy: 0.9671, Testing Accuracy: 0.9703\n",
      "\n"
     ]
    },
    {
     "name": "stdout",
     "output_type": "stream",
     "text": [
      "Epoch 100, Loss 0.0276\n",
      "Training Accuracy: 0.9685, Testing Accuracy: 0.9713\n",
      "\n"
     ]
    },
    {
     "name": "stdout",
     "output_type": "stream",
     "text": [
      "Epoch 110, Loss 0.0267\n",
      "Training Accuracy: 0.9693, Testing Accuracy: 0.9718\n",
      "\n"
     ]
    },
    {
     "name": "stdout",
     "output_type": "stream",
     "text": [
      "Epoch 120, Loss 0.0259\n",
      "Training Accuracy: 0.9699, Testing Accuracy: 0.9733\n",
      "\n"
     ]
    },
    {
     "name": "stdout",
     "output_type": "stream",
     "text": [
      "Epoch 130, Loss 0.0252\n",
      "Training Accuracy: 0.9707, Testing Accuracy: 0.9733\n",
      "\n"
     ]
    },
    {
     "name": "stdout",
     "output_type": "stream",
     "text": [
      "Epoch 140, Loss 0.0245\n",
      "Training Accuracy: 0.9715, Testing Accuracy: 0.9733\n",
      "\n"
     ]
    },
    {
     "name": "stdout",
     "output_type": "stream",
     "text": [
      "Epoch 150, Loss 0.0239\n",
      "Training Accuracy: 0.9726, Testing Accuracy: 0.9728\n",
      "\n"
     ]
    },
    {
     "name": "stdout",
     "output_type": "stream",
     "text": [
      "Epoch 160, Loss 0.0233\n",
      "Training Accuracy: 0.9729, Testing Accuracy: 0.9728\n",
      "\n"
     ]
    },
    {
     "name": "stdout",
     "output_type": "stream",
     "text": [
      "Epoch 170, Loss 0.0228\n",
      "Training Accuracy: 0.9740, Testing Accuracy: 0.9718\n",
      "\n"
     ]
    },
    {
     "name": "stdout",
     "output_type": "stream",
     "text": [
      "Epoch 180, Loss 0.0223\n",
      "Training Accuracy: 0.9744, Testing Accuracy: 0.9718\n",
      "\n"
     ]
    },
    {
     "name": "stdout",
     "output_type": "stream",
     "text": [
      "Epoch 190, Loss 0.0218\n",
      "Training Accuracy: 0.9750, Testing Accuracy: 0.9723\n",
      "\n"
     ]
    },
    {
     "name": "stdout",
     "output_type": "stream",
     "text": [
      "Epoch 200, Loss 0.0214\n",
      "Training Accuracy: 0.9750, Testing Accuracy: 0.9718\n",
      "\n"
     ]
    },
    {
     "name": "stdout",
     "output_type": "stream",
     "text": [
      "Epoch 210, Loss 0.0209\n",
      "Training Accuracy: 0.9756, Testing Accuracy: 0.9733\n",
      "\n"
     ]
    },
    {
     "name": "stdout",
     "output_type": "stream",
     "text": [
      "Epoch 220, Loss 0.0205\n",
      "Training Accuracy: 0.9759, Testing Accuracy: 0.9738\n",
      "\n"
     ]
    },
    {
     "name": "stdout",
     "output_type": "stream",
     "text": [
      "Epoch 230, Loss 0.0201\n",
      "Training Accuracy: 0.9767, Testing Accuracy: 0.9738\n",
      "\n"
     ]
    },
    {
     "name": "stdout",
     "output_type": "stream",
     "text": [
      "Epoch 240, Loss 0.0197\n",
      "Training Accuracy: 0.9773, Testing Accuracy: 0.9738\n",
      "\n"
     ]
    },
    {
     "data": {
      "text/plain": [
       "0.030719437103464094"
      ]
     },
     "execution_count": 22,
     "metadata": {},
     "output_type": "execute_result"
    }
   ],
   "source": [
    "nn_learner.train_loop(dl)"
   ]
  },
  {
   "cell_type": "code",
   "execution_count": 23,
   "id": "e0163366",
   "metadata": {
    "execution": {
     "iopub.execute_input": "2022-04-08T20:12:29.173208Z",
     "iopub.status.busy": "2022-04-08T20:12:29.172538Z",
     "iopub.status.idle": "2022-04-08T20:12:47.787280Z",
     "shell.execute_reply": "2022-04-08T20:12:47.788293Z"
    },
    "papermill": {
     "duration": 18.666935,
     "end_time": "2022-04-08T20:12:47.788472",
     "exception": false,
     "start_time": "2022-04-08T20:12:29.121537",
     "status": "completed"
    },
    "tags": []
   },
   "outputs": [
    {
     "name": "stdout",
     "output_type": "stream",
     "text": [
      "Epoch 0, Loss 0.2539\n",
      "Training Accuracy: 0.6348, Testing Accuracy: 0.6689\n",
      "\n"
     ]
    },
    {
     "name": "stdout",
     "output_type": "stream",
     "text": [
      "Epoch 10, Loss 0.1027\n",
      "Training Accuracy: 0.9150, Testing Accuracy: 0.9279\n",
      "\n"
     ]
    },
    {
     "name": "stdout",
     "output_type": "stream",
     "text": [
      "Epoch 20, Loss 0.0787\n",
      "Training Accuracy: 0.9301, Testing Accuracy: 0.9415\n",
      "\n"
     ]
    },
    {
     "name": "stdout",
     "output_type": "stream",
     "text": [
      "Epoch 30, Loss 0.0678\n",
      "Training Accuracy: 0.9386, Testing Accuracy: 0.9491\n",
      "\n"
     ]
    },
    {
     "name": "stdout",
     "output_type": "stream",
     "text": [
      "Epoch 40, Loss 0.0613\n",
      "Training Accuracy: 0.9416, Testing Accuracy: 0.9546\n",
      "\n"
     ]
    },
    {
     "name": "stdout",
     "output_type": "stream",
     "text": [
      "Epoch 50, Loss 0.0569\n",
      "Training Accuracy: 0.9451, Testing Accuracy: 0.9567\n",
      "\n"
     ]
    },
    {
     "name": "stdout",
     "output_type": "stream",
     "text": [
      "Epoch 60, Loss 0.0536\n",
      "Training Accuracy: 0.9473, Testing Accuracy: 0.9567\n",
      "\n"
     ]
    },
    {
     "name": "stdout",
     "output_type": "stream",
     "text": [
      "Epoch 70, Loss 0.0511\n",
      "Training Accuracy: 0.9492, Testing Accuracy: 0.9587\n",
      "\n"
     ]
    },
    {
     "name": "stdout",
     "output_type": "stream",
     "text": [
      "Epoch 80, Loss 0.0491\n",
      "Training Accuracy: 0.9503, Testing Accuracy: 0.9587\n",
      "\n"
     ]
    },
    {
     "name": "stdout",
     "output_type": "stream",
     "text": [
      "Epoch 90, Loss 0.0474\n",
      "Training Accuracy: 0.9515, Testing Accuracy: 0.9597\n",
      "\n"
     ]
    },
    {
     "name": "stdout",
     "output_type": "stream",
     "text": [
      "Epoch 100, Loss 0.046\n",
      "Training Accuracy: 0.9528, Testing Accuracy: 0.9612\n",
      "\n"
     ]
    },
    {
     "name": "stdout",
     "output_type": "stream",
     "text": [
      "Epoch 110, Loss 0.0448\n",
      "Training Accuracy: 0.9539, Testing Accuracy: 0.9622\n",
      "\n"
     ]
    },
    {
     "name": "stdout",
     "output_type": "stream",
     "text": [
      "Epoch 120, Loss 0.0438\n",
      "Training Accuracy: 0.9547, Testing Accuracy: 0.9632\n",
      "\n"
     ]
    },
    {
     "name": "stdout",
     "output_type": "stream",
     "text": [
      "Epoch 130, Loss 0.0428\n",
      "Training Accuracy: 0.9556, Testing Accuracy: 0.9642\n",
      "\n"
     ]
    },
    {
     "name": "stdout",
     "output_type": "stream",
     "text": [
      "Epoch 140, Loss 0.042\n",
      "Training Accuracy: 0.9562, Testing Accuracy: 0.9642\n",
      "\n"
     ]
    },
    {
     "name": "stdout",
     "output_type": "stream",
     "text": [
      "Epoch 150, Loss 0.0413\n",
      "Training Accuracy: 0.9569, Testing Accuracy: 0.9642\n",
      "\n"
     ]
    },
    {
     "name": "stdout",
     "output_type": "stream",
     "text": [
      "Epoch 160, Loss 0.0406\n",
      "Training Accuracy: 0.9577, Testing Accuracy: 0.9642\n",
      "\n"
     ]
    },
    {
     "name": "stdout",
     "output_type": "stream",
     "text": [
      "Epoch 170, Loss 0.04\n",
      "Training Accuracy: 0.9586, Testing Accuracy: 0.9642\n",
      "\n"
     ]
    },
    {
     "name": "stdout",
     "output_type": "stream",
     "text": [
      "Epoch 180, Loss 0.0395\n",
      "Training Accuracy: 0.9588, Testing Accuracy: 0.9642\n",
      "\n"
     ]
    },
    {
     "name": "stdout",
     "output_type": "stream",
     "text": [
      "Epoch 190, Loss 0.0389\n",
      "Training Accuracy: 0.9593, Testing Accuracy: 0.9637\n",
      "\n"
     ]
    },
    {
     "name": "stdout",
     "output_type": "stream",
     "text": [
      "Epoch 200, Loss 0.0385\n",
      "Training Accuracy: 0.9596, Testing Accuracy: 0.9647\n",
      "\n"
     ]
    },
    {
     "name": "stdout",
     "output_type": "stream",
     "text": [
      "Epoch 210, Loss 0.038\n",
      "Training Accuracy: 0.9599, Testing Accuracy: 0.9647\n",
      "\n"
     ]
    },
    {
     "name": "stdout",
     "output_type": "stream",
     "text": [
      "Epoch 220, Loss 0.0376\n",
      "Training Accuracy: 0.9604, Testing Accuracy: 0.9647\n",
      "\n"
     ]
    },
    {
     "name": "stdout",
     "output_type": "stream",
     "text": [
      "Epoch 230, Loss 0.0372\n",
      "Training Accuracy: 0.9606, Testing Accuracy: 0.9657\n",
      "\n"
     ]
    },
    {
     "name": "stdout",
     "output_type": "stream",
     "text": [
      "Epoch 240, Loss 0.0369\n",
      "Training Accuracy: 0.9606, Testing Accuracy: 0.9662\n",
      "\n"
     ]
    },
    {
     "data": {
      "text/plain": [
       "0.04036932629078685"
      ]
     },
     "execution_count": 23,
     "metadata": {},
     "output_type": "execute_result"
    }
   ],
   "source": [
    "lr_learner.train_loop(dl)"
   ]
  },
  {
   "cell_type": "code",
   "execution_count": 24,
   "id": "ca410940",
   "metadata": {
    "execution": {
     "iopub.execute_input": "2022-04-08T20:12:47.893270Z",
     "iopub.status.busy": "2022-04-08T20:12:47.892571Z",
     "iopub.status.idle": "2022-04-08T20:12:48.207004Z",
     "shell.execute_reply": "2022-04-08T20:12:48.206473Z"
    },
    "papermill": {
     "duration": 0.369543,
     "end_time": "2022-04-08T20:12:48.207143",
     "exception": false,
     "start_time": "2022-04-08T20:12:47.837600",
     "status": "completed"
    },
    "tags": []
   },
   "outputs": [
    {
     "data": {
      "text/plain": [
       "<matplotlib.legend.Legend at 0x7fb6b49ecba8>"
      ]
     },
     "execution_count": 24,
     "metadata": {},
     "output_type": "execute_result"
    },
    {
     "data": {
      "image/png": "[encoded data removed]",
      "text/plain": [
       "<Figure size 1080x720 with 1 Axes>"
      ]
     },
     "metadata": {
      "needs_background": "light"
     },
     "output_type": "display_data"
    }
   ],
   "source": [
    "#comparing the results of NN and LR\n",
    "plt.figure(figsize=(15,10))\n",
    "\n",
    "# Neural Network plots\n",
    "plt.plot(acc_nn.accuracies, 'r-', label = \"Training Accuracies - NN\")\n",
    "plt.plot(acc_nn.test_accuracies, 'g-', label = \"Testing Accuracies - NN\")\n",
    "\n",
    "# Logistic Regression plots\n",
    "plt.plot(acc_lr.accuracies, 'k-', label = \"Training Accuracies - LR\")\n",
    "plt.plot(acc_lr.test_accuracies, 'b-', label = \"Testing Accuracies - LR\")\n",
    "plt.legend()"
   ]
  },
  {
   "cell_type": "markdown",
   "id": "80dfb35c",
   "metadata": {
    "papermill": {
     "duration": 0.049015,
     "end_time": "2022-04-08T20:12:48.305332",
     "exception": false,
     "start_time": "2022-04-08T20:12:48.256317",
     "status": "completed"
    },
    "tags": []
   },
   "source": [
    "#### Plotting the outputs of this layer of the NN.\n"
   ]
  },
  {
   "cell_type": "code",
   "execution_count": 25,
   "id": "45eb2ff5",
   "metadata": {
    "execution": {
     "iopub.execute_input": "2022-04-08T20:12:48.412948Z",
     "iopub.status.busy": "2022-04-08T20:12:48.412300Z",
     "iopub.status.idle": "2022-04-08T20:12:48.434084Z",
     "shell.execute_reply": "2022-04-08T20:12:48.434958Z"
    },
    "papermill": {
     "duration": 0.081658,
     "end_time": "2022-04-08T20:12:48.435122",
     "exception": false,
     "start_time": "2022-04-08T20:12:48.353464",
     "status": "completed"
    },
    "tags": []
   },
   "outputs": [],
   "source": [
    "new_model = Model(layers[:-2])\n",
    "testing_plot = new_model(testing_data_x)"
   ]
  },
  {
   "cell_type": "code",
   "execution_count": 26,
   "id": "4c0a5485",
   "metadata": {
    "execution": {
     "iopub.execute_input": "2022-04-08T20:12:48.553252Z",
     "iopub.status.busy": "2022-04-08T20:12:48.552589Z",
     "iopub.status.idle": "2022-04-08T20:12:48.770452Z",
     "shell.execute_reply": "2022-04-08T20:12:48.770962Z"
    },
    "papermill": {
     "duration": 0.276421,
     "end_time": "2022-04-08T20:12:48.771126",
     "exception": false,
     "start_time": "2022-04-08T20:12:48.494705",
     "status": "completed"
    },
    "tags": []
   },
   "outputs": [
    {
     "data": {
      "text/plain": [
       "Text(0.5, 1.0, 'Outputs')"
      ]
     },
     "execution_count": 26,
     "metadata": {},
     "output_type": "execute_result"
    },
    {
     "data": {
      "image/png": "[encoded data removed]",
      "text/plain": [
       "<Figure size 576x504 with 1 Axes>"
      ]
     },
     "metadata": {
      "needs_background": "light"
     },
     "output_type": "display_data"
    }
   ],
   "source": [
    "# Plotting the scatter plot of points and color coding by class\n",
    "plt.figure(figsize=(8,7))\n",
    "plt.scatter(testing_plot[:,0], testing_plot[:,1], alpha = 0.1, c = y_test.ravel());\n",
    "plt.title('Outputs')"
   ]
  },
  {
   "cell_type": "markdown",
   "id": "a74fcf8f",
   "metadata": {
    "papermill": {
     "duration": 0.053825,
     "end_time": "2022-04-08T20:12:48.880279",
     "exception": false,
     "start_time": "2022-04-08T20:12:48.826454",
     "status": "completed"
    },
    "tags": []
   },
   "source": [
    "Probability contours"
   ]
  },
  {
   "cell_type": "code",
   "execution_count": 27,
   "id": "d0afc8e3",
   "metadata": {
    "execution": {
     "iopub.execute_input": "2022-04-08T20:12:49.018438Z",
     "iopub.status.busy": "2022-04-08T20:12:49.017784Z",
     "iopub.status.idle": "2022-04-08T20:12:49.032779Z",
     "shell.execute_reply": "2022-04-08T20:12:49.032282Z"
    },
    "papermill": {
     "duration": 0.101401,
     "end_time": "2022-04-08T20:12:49.032909",
     "exception": false,
     "start_time": "2022-04-08T20:12:48.931508",
     "status": "completed"
    },
    "tags": []
   },
   "outputs": [],
   "source": [
    "model_prob = Model(layers[-2:]) "
   ]
  },
  {
   "cell_type": "code",
   "execution_count": 28,
   "id": "9b96e238",
   "metadata": {
    "execution": {
     "iopub.execute_input": "2022-04-08T20:12:49.141734Z",
     "iopub.status.busy": "2022-04-08T20:12:49.141118Z",
     "iopub.status.idle": "2022-04-08T20:12:49.156671Z",
     "shell.execute_reply": "2022-04-08T20:12:49.157134Z"
    },
    "papermill": {
     "duration": 0.073498,
     "end_time": "2022-04-08T20:12:49.157292",
     "exception": false,
     "start_time": "2022-04-08T20:12:49.083794",
     "status": "completed"
    },
    "tags": []
   },
   "outputs": [],
   "source": [
    "#creating the x and y ranges according to the above generated plot.\n",
    "x_range = np.linspace(-4, 1, 100) \n",
    "y_range = np.linspace(-6, 6, 100) \n",
    "x_grid, y_grid = np.meshgrid(x_range, y_range) # x_grid and y_grig are of size 100 X 100\n",
    "\n",
    "# converting x_grid and y_grid to continuous arrays\n",
    "x_gridflat = np.ravel(x_grid)\n",
    "y_gridflat = np.ravel(y_grid)\n",
    "\n",
    "# The last layer of the current model takes two columns as input. Hence transpose of np.vstack() is required.\n",
    "X = np.vstack((x_gridflat, y_gridflat)).T\n",
    "\n",
    "prob_contour = model_prob(X).reshape(100,100) "
   ]
  },
  {
   "cell_type": "code",
   "execution_count": 29,
   "id": "da72499a",
   "metadata": {
    "execution": {
     "iopub.execute_input": "2022-04-08T20:12:49.270383Z",
     "iopub.status.busy": "2022-04-08T20:12:49.269608Z",
     "iopub.status.idle": "2022-04-08T20:12:49.559008Z",
     "shell.execute_reply": "2022-04-08T20:12:49.559500Z"
    },
    "papermill": {
     "duration": 0.351209,
     "end_time": "2022-04-08T20:12:49.559860",
     "exception": false,
     "start_time": "2022-04-08T20:12:49.208651",
     "status": "completed"
    },
    "tags": []
   },
   "outputs": [
    {
     "data": {
      "image/png": "[encoded data removed]",
      "text/plain": [
       "<Figure size 720x648 with 1 Axes>"
      ]
     },
     "metadata": {
      "needs_background": "light"
     },
     "output_type": "display_data"
    }
   ],
   "source": [
    "plt.figure(figsize=(10,9))\n",
    "plt.scatter(testing_plot[:,0], testing_plot[:,1], alpha = 0.1, c = y_test.ravel())\n",
    "contours = plt.contour(x_grid,y_grid,prob_contour)\n",
    "plt.title('Probability Contours')\n",
    "plt.clabel(contours, inline = True );"
   ]
  },
  {
   "cell_type": "code",
   "execution_count": null,
   "id": "e81b4ac7",
   "metadata": {
    "papermill": {
     "duration": 0.057117,
     "end_time": "2022-04-08T20:12:49.676300",
     "exception": false,
     "start_time": "2022-04-08T20:12:49.619183",
     "status": "completed"
    },
    "tags": []
   },
   "outputs": [],
   "source": []
  }
 ],
 "metadata": {
  "kernelspec": {
   "display_name": "Python 3",
   "language": "python",
   "name": "python3"
  },
  "language_info": {
   "codemirror_mode": {
    "name": "ipython",
    "version": 3
   },
   "file_extension": ".py",
   "mimetype": "text/x-python",
   "name": "python",
   "nbconvert_exporter": "python",
   "pygments_lexer": "ipython3",
   "version": "3.6.15"
  },
  "papermill": {
   "default_parameters": {},
   "duration": 137.090184,
   "end_time": "2022-04-08T20:12:50.252416",
   "environment_variables": {},
   "exception": null,
   "input_path": "2020-08-11-part2.ipynb",
   "output_path": "2020-08-11-part2.ipynb",
   "parameters": {},
   "start_time": "2022-04-08T20:10:33.162232",
   "version": "2.3.3"
  }
 },
 "nbformat": 4,
 "nbformat_minor": 5
}