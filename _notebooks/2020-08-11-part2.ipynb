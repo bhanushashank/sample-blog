{
 "cells": [
  {
   "cell_type": "markdown",
   "id": "98380cd3",
   "metadata": {
    "papermill": {
     "duration": 0.036688,
     "end_time": "2022-12-02T00:36:35.231627",
     "exception": false,
     "start_time": "2022-12-02T00:36:35.194939",
     "status": "completed"
    },
    "tags": []
   },
   "source": [
    "# Distinguish Your Own Digits (DYOD)"
   ]
  },
  {
   "cell_type": "markdown",
   "id": "ef31240d",
   "metadata": {
    "papermill": {
     "duration": 0.029884,
     "end_time": "2022-12-02T00:36:35.292422",
     "exception": false,
     "start_time": "2022-12-02T00:36:35.262538",
     "status": "completed"
    },
    "tags": []
   },
   "source": [
    "You are going to write a classifier that distinguishes between the number 3 and number 8."
   ]
  },
  {
   "cell_type": "code",
   "execution_count": 1,
   "id": "b15c8646",
   "metadata": {
    "execution": {
     "iopub.execute_input": "2022-12-02T00:36:35.364518Z",
     "iopub.status.busy": "2022-12-02T00:36:35.363658Z",
     "iopub.status.idle": "2022-12-02T00:36:35.375830Z",
     "shell.execute_reply": "2022-12-02T00:36:35.376491Z"
    },
    "papermill": {
     "duration": 0.053455,
     "end_time": "2022-12-02T00:36:35.376661",
     "exception": false,
     "start_time": "2022-12-02T00:36:35.323206",
     "status": "completed"
    },
    "tags": []
   },
   "outputs": [],
   "source": [
    "%load_ext autoreload\n",
    "%autoreload 2"
   ]
  },
  {
   "cell_type": "code",
   "execution_count": 2,
   "id": "22ef38dc",
   "metadata": {
    "execution": {
     "iopub.execute_input": "2022-12-02T00:36:35.440915Z",
     "iopub.status.busy": "2022-12-02T00:36:35.440238Z",
     "iopub.status.idle": "2022-12-02T00:36:36.108053Z",
     "shell.execute_reply": "2022-12-02T00:36:36.106622Z"
    },
    "papermill": {
     "duration": 0.702368,
     "end_time": "2022-12-02T00:36:36.108193",
     "exception": false,
     "start_time": "2022-12-02T00:36:35.405825",
     "status": "completed"
    },
    "tags": []
   },
   "outputs": [],
   "source": [
    "%matplotlib inline\n",
    "import numpy as np\n",
    "import matplotlib.pyplot as plt\n",
    "import pandas as pd"
   ]
  },
  {
   "cell_type": "markdown",
   "id": "ba036198",
   "metadata": {
    "papermill": {
     "duration": 0.031199,
     "end_time": "2022-12-02T00:36:36.171955",
     "exception": false,
     "start_time": "2022-12-02T00:36:36.140756",
     "status": "completed"
    },
    "tags": []
   },
   "source": [
    "From the command line run `pip install mnist`. This is a library that will help you bring down the mnist dataset. If you run this from a notebook, you need to put  `!pip install mnist` in a cell by itself."
   ]
  },
  {
   "cell_type": "code",
   "execution_count": 3,
   "id": "bb6ad8a1",
   "metadata": {
    "execution": {
     "iopub.execute_input": "2022-12-02T00:36:36.238938Z",
     "iopub.status.busy": "2022-12-02T00:36:36.238154Z",
     "iopub.status.idle": "2022-12-02T00:36:38.154654Z",
     "shell.execute_reply": "2022-12-02T00:36:38.153466Z"
    },
    "papermill": {
     "duration": 1.953268,
     "end_time": "2022-12-02T00:36:38.154827",
     "exception": false,
     "start_time": "2022-12-02T00:36:36.201559",
     "status": "completed"
    },
    "tags": []
   },
   "outputs": [
    {
     "name": "stdout",
     "output_type": "stream",
     "text": [
      "Collecting mnist\r\n"
     ]
    },
    {
     "name": "stdout",
     "output_type": "stream",
     "text": [
      "  Downloading mnist-0.2.2-py2.py3-none-any.whl (3.5 kB)\r\n",
      "Requirement already satisfied: numpy in /opt/hostedtoolcache/Python/3.6.15/x64/lib/python3.6/site-packages (from mnist) (1.19.5)\r\n"
     ]
    },
    {
     "name": "stdout",
     "output_type": "stream",
     "text": [
      "Installing collected packages: mnist\r\n"
     ]
    },
    {
     "name": "stdout",
     "output_type": "stream",
     "text": [
      "Successfully installed mnist-0.2.2\r\n"
     ]
    }
   ],
   "source": [
    "!pip install mnist"
   ]
  },
  {
   "cell_type": "markdown",
   "id": "69df9c9a",
   "metadata": {
    "papermill": {
     "duration": 0.03184,
     "end_time": "2022-12-02T00:36:38.219063",
     "exception": false,
     "start_time": "2022-12-02T00:36:38.187223",
     "status": "completed"
    },
    "tags": []
   },
   "source": [
    "## Preparing the Data"
   ]
  },
  {
   "cell_type": "code",
   "execution_count": 4,
   "id": "7f69d806",
   "metadata": {
    "execution": {
     "iopub.execute_input": "2022-12-02T00:36:38.292558Z",
     "iopub.status.busy": "2022-12-02T00:36:38.287798Z",
     "iopub.status.idle": "2022-12-02T00:36:38.305998Z",
     "shell.execute_reply": "2022-12-02T00:36:38.305295Z"
    },
    "papermill": {
     "duration": 0.056226,
     "end_time": "2022-12-02T00:36:38.306129",
     "exception": false,
     "start_time": "2022-12-02T00:36:38.249903",
     "status": "completed"
    },
    "tags": []
   },
   "outputs": [],
   "source": [
    "import mnist"
   ]
  },
  {
   "cell_type": "code",
   "execution_count": 5,
   "id": "a411e44f",
   "metadata": {
    "execution": {
     "iopub.execute_input": "2022-12-02T00:36:38.380932Z",
     "iopub.status.busy": "2022-12-02T00:36:38.380203Z",
     "iopub.status.idle": "2022-12-02T00:36:38.952249Z",
     "shell.execute_reply": "2022-12-02T00:36:38.952906Z"
    },
    "papermill": {
     "duration": 0.611441,
     "end_time": "2022-12-02T00:36:38.953150",
     "exception": false,
     "start_time": "2022-12-02T00:36:38.341709",
     "status": "completed"
    },
    "tags": []
   },
   "outputs": [],
   "source": [
    "train_images = mnist.train_images()\n",
    "train_labels = mnist.train_labels()"
   ]
  },
  {
   "cell_type": "code",
   "execution_count": 6,
   "id": "dceab3a5",
   "metadata": {
    "execution": {
     "iopub.execute_input": "2022-12-02T00:36:39.017141Z",
     "iopub.status.busy": "2022-12-02T00:36:39.016304Z",
     "iopub.status.idle": "2022-12-02T00:36:39.035687Z",
     "shell.execute_reply": "2022-12-02T00:36:39.034837Z"
    },
    "papermill": {
     "duration": 0.053278,
     "end_time": "2022-12-02T00:36:39.035816",
     "exception": false,
     "start_time": "2022-12-02T00:36:38.982538",
     "status": "completed"
    },
    "tags": []
   },
   "outputs": [
    {
     "data": {
      "text/plain": [
       "((60000, 28, 28), (60000,))"
      ]
     },
     "execution_count": 6,
     "metadata": {},
     "output_type": "execute_result"
    }
   ],
   "source": [
    "train_images.shape, train_labels.shape"
   ]
  },
  {
   "cell_type": "code",
   "execution_count": 7,
   "id": "f50dc2bb",
   "metadata": {
    "execution": {
     "iopub.execute_input": "2022-12-02T00:36:39.110315Z",
     "iopub.status.busy": "2022-12-02T00:36:39.109556Z",
     "iopub.status.idle": "2022-12-02T00:36:39.239181Z",
     "shell.execute_reply": "2022-12-02T00:36:39.238363Z"
    },
    "papermill": {
     "duration": 0.171009,
     "end_time": "2022-12-02T00:36:39.239316",
     "exception": false,
     "start_time": "2022-12-02T00:36:39.068307",
     "status": "completed"
    },
    "tags": []
   },
   "outputs": [],
   "source": [
    "test_images = mnist.test_images()\n",
    "test_labels = mnist.test_labels()"
   ]
  },
  {
   "cell_type": "code",
   "execution_count": 8,
   "id": "fc38cf1b",
   "metadata": {
    "execution": {
     "iopub.execute_input": "2022-12-02T00:36:39.310438Z",
     "iopub.status.busy": "2022-12-02T00:36:39.309735Z",
     "iopub.status.idle": "2022-12-02T00:36:39.324740Z",
     "shell.execute_reply": "2022-12-02T00:36:39.324031Z"
    },
    "papermill": {
     "duration": 0.05381,
     "end_time": "2022-12-02T00:36:39.324855",
     "exception": false,
     "start_time": "2022-12-02T00:36:39.271045",
     "status": "completed"
    },
    "tags": []
   },
   "outputs": [
    {
     "data": {
      "text/plain": [
       "((10000, 28, 28), (10000,))"
      ]
     },
     "execution_count": 8,
     "metadata": {},
     "output_type": "execute_result"
    }
   ],
   "source": [
    "test_images.shape, test_labels.shape"
   ]
  },
  {
   "cell_type": "code",
   "execution_count": 9,
   "id": "f9ed8fe0",
   "metadata": {
    "execution": {
     "iopub.execute_input": "2022-12-02T00:36:39.391043Z",
     "iopub.status.busy": "2022-12-02T00:36:39.390326Z",
     "iopub.status.idle": "2022-12-02T00:36:39.581201Z",
     "shell.execute_reply": "2022-12-02T00:36:39.581932Z"
    },
    "papermill": {
     "duration": 0.228041,
     "end_time": "2022-12-02T00:36:39.582104",
     "exception": false,
     "start_time": "2022-12-02T00:36:39.354063",
     "status": "completed"
    },
    "tags": []
   },
   "outputs": [
    {
     "name": "stdout",
     "output_type": "stream",
     "text": [
      "2\n"
     ]
    },
    {
     "data": {
      "text/plain": [
       "<matplotlib.image.AxesImage at 0x7f5502b15d68>"
      ]
     },
     "execution_count": 9,
     "metadata": {},
     "output_type": "execute_result"
    },
    {
     "data": {
      "image/png": "[encoded data removed]",
      "text/plain": [
       "<Figure size 432x288 with 1 Axes>"
      ]
     },
     "metadata": {
      "needs_background": "light"
     },
     "output_type": "display_data"
    }
   ],
   "source": [
    "image_index = 7776 # You may select anything up to 60,000\n",
    "print(train_labels[image_index]) \n",
    "plt.imshow(train_images[image_index], cmap='Greys')"
   ]
  },
  {
   "cell_type": "markdown",
   "id": "a8d2388d",
   "metadata": {
    "papermill": {
     "duration": 0.031863,
     "end_time": "2022-12-02T00:36:39.649119",
     "exception": false,
     "start_time": "2022-12-02T00:36:39.617256",
     "status": "completed"
    },
    "tags": []
   },
   "source": [
    "## Filter data to get 3 and 8 out"
   ]
  },
  {
   "cell_type": "code",
   "execution_count": 10,
   "id": "776f7fc7",
   "metadata": {
    "execution": {
     "iopub.execute_input": "2022-12-02T00:36:39.715149Z",
     "iopub.status.busy": "2022-12-02T00:36:39.714335Z",
     "iopub.status.idle": "2022-12-02T00:36:39.735012Z",
     "shell.execute_reply": "2022-12-02T00:36:39.734411Z"
    },
    "papermill": {
     "duration": 0.055668,
     "end_time": "2022-12-02T00:36:39.735156",
     "exception": false,
     "start_time": "2022-12-02T00:36:39.679488",
     "status": "completed"
    },
    "tags": []
   },
   "outputs": [],
   "source": [
    "train_filter = np.where((train_labels == 3 ) | (train_labels == 8))\n",
    "test_filter = np.where((test_labels == 3) | (test_labels == 8))\n",
    "X_train, y_train = train_images[train_filter], train_labels[train_filter]\n",
    "X_test, y_test = test_images[test_filter], test_labels[test_filter]"
   ]
  },
  {
   "cell_type": "markdown",
   "id": "948f0b7e",
   "metadata": {
    "papermill": {
     "duration": 0.032589,
     "end_time": "2022-12-02T00:36:39.799310",
     "exception": false,
     "start_time": "2022-12-02T00:36:39.766721",
     "status": "completed"
    },
    "tags": []
   },
   "source": [
    "We normalize the pizel values in the 0 to 1 range"
   ]
  },
  {
   "cell_type": "code",
   "execution_count": 11,
   "id": "ee4c2166",
   "metadata": {
    "execution": {
     "iopub.execute_input": "2022-12-02T00:36:39.872027Z",
     "iopub.status.busy": "2022-12-02T00:36:39.871274Z",
     "iopub.status.idle": "2022-12-02T00:36:39.935386Z",
     "shell.execute_reply": "2022-12-02T00:36:39.934797Z"
    },
    "papermill": {
     "duration": 0.102164,
     "end_time": "2022-12-02T00:36:39.935615",
     "exception": false,
     "start_time": "2022-12-02T00:36:39.833451",
     "status": "completed"
    },
    "tags": []
   },
   "outputs": [],
   "source": [
    "X_train = X_train/255.\n",
    "X_test = X_test/255."
   ]
  },
  {
   "cell_type": "markdown",
   "id": "ddcf4fab",
   "metadata": {
    "papermill": {
     "duration": 0.031806,
     "end_time": "2022-12-02T00:36:40.000563",
     "exception": false,
     "start_time": "2022-12-02T00:36:39.968757",
     "status": "completed"
    },
    "tags": []
   },
   "source": [
    "And setup the labels as 1 (when the digit is 3) and 0 (when the digit is 8)"
   ]
  },
  {
   "cell_type": "code",
   "execution_count": 12,
   "id": "7dc908f2",
   "metadata": {
    "execution": {
     "iopub.execute_input": "2022-12-02T00:36:40.070703Z",
     "iopub.status.busy": "2022-12-02T00:36:40.069980Z",
     "iopub.status.idle": "2022-12-02T00:36:40.084061Z",
     "shell.execute_reply": "2022-12-02T00:36:40.083537Z"
    },
    "papermill": {
     "duration": 0.049942,
     "end_time": "2022-12-02T00:36:40.084171",
     "exception": false,
     "start_time": "2022-12-02T00:36:40.034229",
     "status": "completed"
    },
    "tags": []
   },
   "outputs": [],
   "source": [
    "y_train = 1*(y_train==3)\n",
    "y_test = 1*(y_test==3)"
   ]
  },
  {
   "cell_type": "code",
   "execution_count": 13,
   "id": "01e4e969",
   "metadata": {
    "execution": {
     "iopub.execute_input": "2022-12-02T00:36:40.158659Z",
     "iopub.status.busy": "2022-12-02T00:36:40.158012Z",
     "iopub.status.idle": "2022-12-02T00:36:40.177826Z",
     "shell.execute_reply": "2022-12-02T00:36:40.178448Z"
    },
    "papermill": {
     "duration": 0.062865,
     "end_time": "2022-12-02T00:36:40.178611",
     "exception": false,
     "start_time": "2022-12-02T00:36:40.115746",
     "status": "completed"
    },
    "tags": []
   },
   "outputs": [
    {
     "data": {
      "text/plain": [
       "((11982, 28, 28), (1984, 28, 28))"
      ]
     },
     "execution_count": 13,
     "metadata": {},
     "output_type": "execute_result"
    }
   ],
   "source": [
    "X_train.shape, X_test.shape"
   ]
  },
  {
   "cell_type": "markdown",
   "id": "5ccf3f85",
   "metadata": {
    "papermill": {
     "duration": 0.034221,
     "end_time": "2022-12-02T00:36:40.248714",
     "exception": false,
     "start_time": "2022-12-02T00:36:40.214493",
     "status": "completed"
    },
    "tags": []
   },
   "source": [
    "We reshape the data to flatten the image pixels into a set of features or co-variates:"
   ]
  },
  {
   "cell_type": "code",
   "execution_count": 14,
   "id": "5286a4a3",
   "metadata": {
    "execution": {
     "iopub.execute_input": "2022-12-02T00:36:40.318077Z",
     "iopub.status.busy": "2022-12-02T00:36:40.317355Z",
     "iopub.status.idle": "2022-12-02T00:36:40.334960Z",
     "shell.execute_reply": "2022-12-02T00:36:40.335654Z"
    },
    "papermill": {
     "duration": 0.053353,
     "end_time": "2022-12-02T00:36:40.335829",
     "exception": false,
     "start_time": "2022-12-02T00:36:40.282476",
     "status": "completed"
    },
    "tags": []
   },
   "outputs": [
    {
     "data": {
      "text/plain": [
       "((11982, 784), (1984, 784))"
      ]
     },
     "execution_count": 14,
     "metadata": {},
     "output_type": "execute_result"
    }
   ],
   "source": [
    "X_train = X_train.reshape(X_train.shape[0], -1)\n",
    "X_test = X_test.reshape(X_test.shape[0], -1)\n",
    "X_train.shape, X_test.shape"
   ]
  },
  {
   "cell_type": "code",
   "execution_count": 15,
   "id": "73c5f88a",
   "metadata": {
    "execution": {
     "iopub.execute_input": "2022-12-02T00:36:40.408530Z",
     "iopub.status.busy": "2022-12-02T00:36:40.407852Z",
     "iopub.status.idle": "2022-12-02T00:36:40.429582Z",
     "shell.execute_reply": "2022-12-02T00:36:40.430166Z"
    },
    "papermill": {
     "duration": 0.060687,
     "end_time": "2022-12-02T00:36:40.430391",
     "exception": false,
     "start_time": "2022-12-02T00:36:40.369704",
     "status": "completed"
    },
    "tags": []
   },
   "outputs": [],
   "source": [
    "#Impoting functions from 'Kudzu'\n",
    "from kudzu.model import Model\n",
    "from kudzu.train import Learner\n",
    "from kudzu.optim import GD\n",
    "from kudzu.data import Data, Sampler,Dataloader\n",
    "\n",
    "from kudzu.callbacks import AccCallback\n",
    "from kudzu.callbacks import ClfCallback\n",
    "\n",
    "from kudzu.loss import MSE\n",
    "\n",
    "from kudzu.layer import Sigmoid,Relu\n",
    "from kudzu.layer import Affine"
   ]
  },
  {
   "cell_type": "markdown",
   "id": "bc01172a",
   "metadata": {
    "papermill": {
     "duration": 0.029577,
     "end_time": "2022-12-02T00:36:40.490107",
     "exception": false,
     "start_time": "2022-12-02T00:36:40.460530",
     "status": "completed"
    },
    "tags": []
   },
   "source": [
    "### Let us create a `Config` class, to store important parameters. \n",
    "This class essentially plays the role of a dictionary."
   ]
  },
  {
   "cell_type": "code",
   "execution_count": 16,
   "id": "978281aa",
   "metadata": {
    "execution": {
     "iopub.execute_input": "2022-12-02T00:36:40.562224Z",
     "iopub.status.busy": "2022-12-02T00:36:40.561294Z",
     "iopub.status.idle": "2022-12-02T00:36:40.576273Z",
     "shell.execute_reply": "2022-12-02T00:36:40.575615Z"
    },
    "papermill": {
     "duration": 0.053953,
     "end_time": "2022-12-02T00:36:40.576404",
     "exception": false,
     "start_time": "2022-12-02T00:36:40.522451",
     "status": "completed"
    },
    "tags": []
   },
   "outputs": [],
   "source": [
    "class Config:\n",
    "    pass\n",
    "config = Config()\n",
    "config.lr = 0.001\n",
    "config.num_epochs = 250\n",
    "config.bs = 50"
   ]
  },
  {
   "cell_type": "markdown",
   "id": "1385fa59",
   "metadata": {
    "papermill": {
     "duration": 0.034559,
     "end_time": "2022-12-02T00:36:40.644974",
     "exception": false,
     "start_time": "2022-12-02T00:36:40.610415",
     "status": "completed"
    },
    "tags": []
   },
   "source": [
    "### Running Models with the Training data\n",
    "Details about the network layers:\n",
    "- A first affine layer has 784 inputs and does 100 affine transforms. These are followed by a Relu\n",
    "- A second affine layer has 100 inputs from the 100 activations of the past layer, and does 100 affine transforms. These are followed by a Relu\n",
    "- A third affine layer has 100 activations and does 2 affine transformations to create an embedding for visualization. There is no non-linearity here.\n",
    "- A final \"logistic regression\" which has an affine transform from 2 inputs to 1 output, which is squeezed through a sigmoid.\n"
   ]
  },
  {
   "cell_type": "code",
   "execution_count": 17,
   "id": "2b9c66db",
   "metadata": {
    "execution": {
     "iopub.execute_input": "2022-12-02T00:36:40.719458Z",
     "iopub.status.busy": "2022-12-02T00:36:40.718665Z",
     "iopub.status.idle": "2022-12-02T00:36:40.733654Z",
     "shell.execute_reply": "2022-12-02T00:36:40.732915Z"
    },
    "papermill": {
     "duration": 0.05481,
     "end_time": "2022-12-02T00:36:40.733776",
     "exception": false,
     "start_time": "2022-12-02T00:36:40.678966",
     "status": "completed"
    },
    "tags": []
   },
   "outputs": [],
   "source": [
    "data = Data(X_train, y_train.reshape(-1,1))\n",
    "sampler = Sampler(data, config.bs, shuffle=True)\n",
    "\n",
    "dl = Dataloader(data, sampler)\n",
    "\n",
    "opt = GD(config.lr)\n",
    "loss = MSE()"
   ]
  },
  {
   "cell_type": "code",
   "execution_count": 18,
   "id": "b275e4c2",
   "metadata": {
    "execution": {
     "iopub.execute_input": "2022-12-02T00:36:40.802589Z",
     "iopub.status.busy": "2022-12-02T00:36:40.801884Z",
     "iopub.status.idle": "2022-12-02T00:36:40.816269Z",
     "shell.execute_reply": "2022-12-02T00:36:40.816796Z"
    },
    "papermill": {
     "duration": 0.050483,
     "end_time": "2022-12-02T00:36:40.816995",
     "exception": false,
     "start_time": "2022-12-02T00:36:40.766512",
     "status": "completed"
    },
    "tags": []
   },
   "outputs": [],
   "source": [
    "training_data_x = X_train\n",
    "testing_data_x = X_test\n",
    "training_data_y = y_train.reshape(-1,1)\n",
    "testing_data_y = y_test.reshape(-1,1)"
   ]
  },
  {
   "cell_type": "code",
   "execution_count": 19,
   "id": "76951160",
   "metadata": {
    "execution": {
     "iopub.execute_input": "2022-12-02T00:36:40.888297Z",
     "iopub.status.busy": "2022-12-02T00:36:40.887456Z",
     "iopub.status.idle": "2022-12-02T00:36:40.905333Z",
     "shell.execute_reply": "2022-12-02T00:36:40.905954Z"
    },
    "papermill": {
     "duration": 0.056114,
     "end_time": "2022-12-02T00:36:40.906289",
     "exception": false,
     "start_time": "2022-12-02T00:36:40.850175",
     "status": "completed"
    },
    "tags": []
   },
   "outputs": [
    {
     "name": "stdout",
     "output_type": "stream",
     "text": [
      "xavier\n",
      "xavier\n",
      "xavier\n",
      "xavier\n",
      "xavier\n"
     ]
    }
   ],
   "source": [
    "layers = [Affine(\"first\", 784, 100), Relu(\"first\"), Affine(\"second\", 100, 100), Relu(\"second\"), Affine(\"third\", 100, 2), Affine(\"last\", 2, 1), Sigmoid(\"last\")]\n",
    "model_nn = Model(layers)\n",
    "model_lr = Model([Affine(\"logits\", 784, 1), Sigmoid(\"sigmoid\")])"
   ]
  },
  {
   "cell_type": "code",
   "execution_count": 20,
   "id": "6eede77a",
   "metadata": {
    "execution": {
     "iopub.execute_input": "2022-12-02T00:36:40.980323Z",
     "iopub.status.busy": "2022-12-02T00:36:40.979684Z",
     "iopub.status.idle": "2022-12-02T00:36:40.994939Z",
     "shell.execute_reply": "2022-12-02T00:36:40.995599Z"
    },
    "papermill": {
     "duration": 0.055138,
     "end_time": "2022-12-02T00:36:40.995734",
     "exception": false,
     "start_time": "2022-12-02T00:36:40.940596",
     "status": "completed"
    },
    "tags": []
   },
   "outputs": [],
   "source": [
    "nn_learner = Learner(loss, model_nn, opt, config.num_epochs)\n",
    "acc_nn = ClfCallback(nn_learner, config.bs, training_data_x , testing_data_x, training_data_y, testing_data_y)\n",
    "nn_learner.set_callbacks([acc_nn])"
   ]
  },
  {
   "cell_type": "code",
   "execution_count": 21,
   "id": "877b6cc7",
   "metadata": {
    "execution": {
     "iopub.execute_input": "2022-12-02T00:36:41.069953Z",
     "iopub.status.busy": "2022-12-02T00:36:41.069269Z",
     "iopub.status.idle": "2022-12-02T00:36:41.083714Z",
     "shell.execute_reply": "2022-12-02T00:36:41.083082Z"
    },
    "papermill": {
     "duration": 0.056156,
     "end_time": "2022-12-02T00:36:41.083827",
     "exception": false,
     "start_time": "2022-12-02T00:36:41.027671",
     "status": "completed"
    },
    "tags": []
   },
   "outputs": [],
   "source": [
    "lr_learner = Learner(loss, model_lr, opt, config.num_epochs)\n",
    "acc_lr = ClfCallback(lr_learner, config.bs, training_data_x , testing_data_x, training_data_y, testing_data_y)\n",
    "lr_learner.set_callbacks([acc_lr])"
   ]
  },
  {
   "cell_type": "code",
   "execution_count": 22,
   "id": "d9b133c3",
   "metadata": {
    "execution": {
     "iopub.execute_input": "2022-12-02T00:36:41.163454Z",
     "iopub.status.busy": "2022-12-02T00:36:41.162651Z",
     "iopub.status.idle": "2022-12-02T00:39:02.957375Z",
     "shell.execute_reply": "2022-12-02T00:39:02.958524Z"
    },
    "papermill": {
     "duration": 141.839801,
     "end_time": "2022-12-02T00:39:02.958702",
     "exception": false,
     "start_time": "2022-12-02T00:36:41.118901",
     "status": "completed"
    },
    "tags": []
   },
   "outputs": [
    {
     "name": "stdout",
     "output_type": "stream",
     "text": [
      "Epoch 0, Loss 0.2389\n",
      "Training Accuracy: 0.7391, Testing Accuracy: 0.7314\n",
      "\n"
     ]
    },
    {
     "name": "stdout",
     "output_type": "stream",
     "text": [
      "Epoch 10, Loss 0.0668\n",
      "Training Accuracy: 0.9321, Testing Accuracy: 0.9390\n",
      "\n"
     ]
    },
    {
     "name": "stdout",
     "output_type": "stream",
     "text": [
      "Epoch 20, Loss 0.0468\n",
      "Training Accuracy: 0.9492, Testing Accuracy: 0.9561\n",
      "\n"
     ]
    },
    {
     "name": "stdout",
     "output_type": "stream",
     "text": [
      "Epoch 30, Loss 0.0389\n",
      "Training Accuracy: 0.9569, Testing Accuracy: 0.9592\n",
      "\n"
     ]
    },
    {
     "name": "stdout",
     "output_type": "stream",
     "text": [
      "Epoch 40, Loss 0.0346\n",
      "Training Accuracy: 0.9609, Testing Accuracy: 0.9657\n",
      "\n"
     ]
    },
    {
     "name": "stdout",
     "output_type": "stream",
     "text": [
      "Epoch 50, Loss 0.0317\n",
      "Training Accuracy: 0.9638, Testing Accuracy: 0.9667\n",
      "\n"
     ]
    },
    {
     "name": "stdout",
     "output_type": "stream",
     "text": [
      "Epoch 60, Loss 0.0296\n",
      "Training Accuracy: 0.9660, Testing Accuracy: 0.9688\n",
      "\n"
     ]
    },
    {
     "name": "stdout",
     "output_type": "stream",
     "text": [
      "Epoch 70, Loss 0.028\n",
      "Training Accuracy: 0.9674, Testing Accuracy: 0.9713\n",
      "\n"
     ]
    },
    {
     "name": "stdout",
     "output_type": "stream",
     "text": [
      "Epoch 80, Loss 0.0266\n",
      "Training Accuracy: 0.9688, Testing Accuracy: 0.9718\n",
      "\n"
     ]
    },
    {
     "name": "stdout",
     "output_type": "stream",
     "text": [
      "Epoch 90, Loss 0.0255\n",
      "Training Accuracy: 0.9700, Testing Accuracy: 0.9723\n",
      "\n"
     ]
    },
    {
     "name": "stdout",
     "output_type": "stream",
     "text": [
      "Epoch 100, Loss 0.0245\n",
      "Training Accuracy: 0.9710, Testing Accuracy: 0.9738\n",
      "\n"
     ]
    },
    {
     "name": "stdout",
     "output_type": "stream",
     "text": [
      "Epoch 110, Loss 0.0236\n",
      "Training Accuracy: 0.9727, Testing Accuracy: 0.9738\n",
      "\n"
     ]
    },
    {
     "name": "stdout",
     "output_type": "stream",
     "text": [
      "Epoch 120, Loss 0.0227\n",
      "Training Accuracy: 0.9738, Testing Accuracy: 0.9728\n",
      "\n"
     ]
    },
    {
     "name": "stdout",
     "output_type": "stream",
     "text": [
      "Epoch 130, Loss 0.022\n",
      "Training Accuracy: 0.9750, Testing Accuracy: 0.9743\n",
      "\n"
     ]
    },
    {
     "name": "stdout",
     "output_type": "stream",
     "text": [
      "Epoch 140, Loss 0.0213\n",
      "Training Accuracy: 0.9763, Testing Accuracy: 0.9743\n",
      "\n"
     ]
    },
    {
     "name": "stdout",
     "output_type": "stream",
     "text": [
      "Epoch 150, Loss 0.0206\n",
      "Training Accuracy: 0.9768, Testing Accuracy: 0.9758\n",
      "\n"
     ]
    },
    {
     "name": "stdout",
     "output_type": "stream",
     "text": [
      "Epoch 160, Loss 0.02\n",
      "Training Accuracy: 0.9781, Testing Accuracy: 0.9763\n",
      "\n"
     ]
    },
    {
     "name": "stdout",
     "output_type": "stream",
     "text": [
      "Epoch 170, Loss 0.0194\n",
      "Training Accuracy: 0.9788, Testing Accuracy: 0.9763\n",
      "\n"
     ]
    },
    {
     "name": "stdout",
     "output_type": "stream",
     "text": [
      "Epoch 180, Loss 0.0188\n",
      "Training Accuracy: 0.9793, Testing Accuracy: 0.9768\n",
      "\n"
     ]
    },
    {
     "name": "stdout",
     "output_type": "stream",
     "text": [
      "Epoch 190, Loss 0.0182\n",
      "Training Accuracy: 0.9800, Testing Accuracy: 0.9783\n",
      "\n"
     ]
    },
    {
     "name": "stdout",
     "output_type": "stream",
     "text": [
      "Epoch 200, Loss 0.0177\n",
      "Training Accuracy: 0.9805, Testing Accuracy: 0.9788\n",
      "\n"
     ]
    },
    {
     "name": "stdout",
     "output_type": "stream",
     "text": [
      "Epoch 210, Loss 0.0172\n",
      "Training Accuracy: 0.9810, Testing Accuracy: 0.9793\n",
      "\n"
     ]
    },
    {
     "name": "stdout",
     "output_type": "stream",
     "text": [
      "Epoch 220, Loss 0.0167\n",
      "Training Accuracy: 0.9818, Testing Accuracy: 0.9793\n",
      "\n"
     ]
    },
    {
     "name": "stdout",
     "output_type": "stream",
     "text": [
      "Epoch 230, Loss 0.0163\n",
      "Training Accuracy: 0.9821, Testing Accuracy: 0.9798\n",
      "\n"
     ]
    },
    {
     "name": "stdout",
     "output_type": "stream",
     "text": [
      "Epoch 240, Loss 0.0158\n",
      "Training Accuracy: 0.9827, Testing Accuracy: 0.9808\n",
      "\n"
     ]
    },
    {
     "data": {
      "text/plain": [
       "0.00514098667380312"
      ]
     },
     "execution_count": 22,
     "metadata": {},
     "output_type": "execute_result"
    }
   ],
   "source": [
    "nn_learner.train_loop(dl)"
   ]
  },
  {
   "cell_type": "code",
   "execution_count": 23,
   "id": "e0163366",
   "metadata": {
    "execution": {
     "iopub.execute_input": "2022-12-02T00:39:03.057761Z",
     "iopub.status.busy": "2022-12-02T00:39:03.056844Z",
     "iopub.status.idle": "2022-12-02T00:39:23.709106Z",
     "shell.execute_reply": "2022-12-02T00:39:23.710196Z"
    },
    "papermill": {
     "duration": 20.708904,
     "end_time": "2022-12-02T00:39:23.710404",
     "exception": false,
     "start_time": "2022-12-02T00:39:03.001500",
     "status": "completed"
    },
    "tags": []
   },
   "outputs": [
    {
     "name": "stdout",
     "output_type": "stream",
     "text": [
      "Epoch 0, Loss 0.2494\n",
      "Training Accuracy: 0.6613, Testing Accuracy: 0.6820\n",
      "\n"
     ]
    },
    {
     "name": "stdout",
     "output_type": "stream",
     "text": [
      "Epoch 10, Loss 0.1028\n",
      "Training Accuracy: 0.9140, Testing Accuracy: 0.9309\n",
      "\n"
     ]
    },
    {
     "name": "stdout",
     "output_type": "stream",
     "text": [
      "Epoch 20, Loss 0.0788\n",
      "Training Accuracy: 0.9302, Testing Accuracy: 0.9425\n",
      "\n"
     ]
    },
    {
     "name": "stdout",
     "output_type": "stream",
     "text": [
      "Epoch 30, Loss 0.0677\n",
      "Training Accuracy: 0.9376, Testing Accuracy: 0.9486\n",
      "\n"
     ]
    },
    {
     "name": "stdout",
     "output_type": "stream",
     "text": [
      "Epoch 40, Loss 0.0612\n",
      "Training Accuracy: 0.9433, Testing Accuracy: 0.9541\n",
      "\n"
     ]
    },
    {
     "name": "stdout",
     "output_type": "stream",
     "text": [
      "Epoch 50, Loss 0.0567\n",
      "Training Accuracy: 0.9469, Testing Accuracy: 0.9572\n",
      "\n"
     ]
    },
    {
     "name": "stdout",
     "output_type": "stream",
     "text": [
      "Epoch 60, Loss 0.0534\n",
      "Training Accuracy: 0.9492, Testing Accuracy: 0.9602\n",
      "\n"
     ]
    },
    {
     "name": "stdout",
     "output_type": "stream",
     "text": [
      "Epoch 70, Loss 0.0509\n",
      "Training Accuracy: 0.9509, Testing Accuracy: 0.9612\n",
      "\n"
     ]
    },
    {
     "name": "stdout",
     "output_type": "stream",
     "text": [
      "Epoch 80, Loss 0.0489\n",
      "Training Accuracy: 0.9525, Testing Accuracy: 0.9627\n",
      "\n"
     ]
    },
    {
     "name": "stdout",
     "output_type": "stream",
     "text": [
      "Epoch 90, Loss 0.0472\n",
      "Training Accuracy: 0.9542, Testing Accuracy: 0.9647\n",
      "\n"
     ]
    },
    {
     "name": "stdout",
     "output_type": "stream",
     "text": [
      "Epoch 100, Loss 0.0458\n",
      "Training Accuracy: 0.9545, Testing Accuracy: 0.9657\n",
      "\n"
     ]
    },
    {
     "name": "stdout",
     "output_type": "stream",
     "text": [
      "Epoch 110, Loss 0.0446\n",
      "Training Accuracy: 0.9556, Testing Accuracy: 0.9662\n",
      "\n"
     ]
    },
    {
     "name": "stdout",
     "output_type": "stream",
     "text": [
      "Epoch 120, Loss 0.0436\n",
      "Training Accuracy: 0.9566, Testing Accuracy: 0.9662\n",
      "\n"
     ]
    },
    {
     "name": "stdout",
     "output_type": "stream",
     "text": [
      "Epoch 130, Loss 0.0427\n",
      "Training Accuracy: 0.9574, Testing Accuracy: 0.9657\n",
      "\n"
     ]
    },
    {
     "name": "stdout",
     "output_type": "stream",
     "text": [
      "Epoch 140, Loss 0.0418\n",
      "Training Accuracy: 0.9576, Testing Accuracy: 0.9662\n",
      "\n"
     ]
    },
    {
     "name": "stdout",
     "output_type": "stream",
     "text": [
      "Epoch 150, Loss 0.0411\n",
      "Training Accuracy: 0.9583, Testing Accuracy: 0.9667\n",
      "\n"
     ]
    },
    {
     "name": "stdout",
     "output_type": "stream",
     "text": [
      "Epoch 160, Loss 0.0405\n",
      "Training Accuracy: 0.9586, Testing Accuracy: 0.9667\n",
      "\n"
     ]
    },
    {
     "name": "stdout",
     "output_type": "stream",
     "text": [
      "Epoch 170, Loss 0.0399\n",
      "Training Accuracy: 0.9587, Testing Accuracy: 0.9677\n",
      "\n"
     ]
    },
    {
     "name": "stdout",
     "output_type": "stream",
     "text": [
      "Epoch 180, Loss 0.0393\n",
      "Training Accuracy: 0.9589, Testing Accuracy: 0.9672\n",
      "\n"
     ]
    },
    {
     "name": "stdout",
     "output_type": "stream",
     "text": [
      "Epoch 190, Loss 0.0388\n",
      "Training Accuracy: 0.9594, Testing Accuracy: 0.9677\n",
      "\n"
     ]
    },
    {
     "name": "stdout",
     "output_type": "stream",
     "text": [
      "Epoch 200, Loss 0.0383\n",
      "Training Accuracy: 0.9598, Testing Accuracy: 0.9672\n",
      "\n"
     ]
    },
    {
     "name": "stdout",
     "output_type": "stream",
     "text": [
      "Epoch 210, Loss 0.0379\n",
      "Training Accuracy: 0.9601, Testing Accuracy: 0.9672\n",
      "\n"
     ]
    },
    {
     "name": "stdout",
     "output_type": "stream",
     "text": [
      "Epoch 220, Loss 0.0375\n",
      "Training Accuracy: 0.9603, Testing Accuracy: 0.9667\n",
      "\n"
     ]
    },
    {
     "name": "stdout",
     "output_type": "stream",
     "text": [
      "Epoch 230, Loss 0.0371\n",
      "Training Accuracy: 0.9604, Testing Accuracy: 0.9667\n",
      "\n"
     ]
    },
    {
     "name": "stdout",
     "output_type": "stream",
     "text": [
      "Epoch 240, Loss 0.0368\n",
      "Training Accuracy: 0.9605, Testing Accuracy: 0.9667\n",
      "\n"
     ]
    },
    {
     "data": {
      "text/plain": [
       "0.02675048322205859"
      ]
     },
     "execution_count": 23,
     "metadata": {},
     "output_type": "execute_result"
    }
   ],
   "source": [
    "lr_learner.train_loop(dl)"
   ]
  },
  {
   "cell_type": "code",
   "execution_count": 24,
   "id": "ca410940",
   "metadata": {
    "execution": {
     "iopub.execute_input": "2022-12-02T00:39:23.819822Z",
     "iopub.status.busy": "2022-12-02T00:39:23.818932Z",
     "iopub.status.idle": "2022-12-02T00:39:24.143329Z",
     "shell.execute_reply": "2022-12-02T00:39:24.142562Z"
    },
    "papermill": {
     "duration": 0.381029,
     "end_time": "2022-12-02T00:39:24.143518",
     "exception": false,
     "start_time": "2022-12-02T00:39:23.762489",
     "status": "completed"
    },
    "tags": []
   },
   "outputs": [
    {
     "data": {
      "text/plain": [
       "<matplotlib.legend.Legend at 0x7f54f52f7400>"
      ]
     },
     "execution_count": 24,
     "metadata": {},
     "output_type": "execute_result"
    },
    {
     "data": {
      "image/png": "[encoded data removed]",
      "text/plain": [
       "<Figure size 1080x720 with 1 Axes>"
      ]
     },
     "metadata": {
      "needs_background": "light"
     },
     "output_type": "display_data"
    }
   ],
   "source": [
    "#comparing the results of NN and LR\n",
    "plt.figure(figsize=(15,10))\n",
    "\n",
    "# Neural Network plots\n",
    "plt.plot(acc_nn.accuracies, 'r-', label = \"Training Accuracies - NN\")\n",
    "plt.plot(acc_nn.test_accuracies, 'g-', label = \"Testing Accuracies - NN\")\n",
    "\n",
    "# Logistic Regression plots\n",
    "plt.plot(acc_lr.accuracies, 'k-', label = \"Training Accuracies - LR\")\n",
    "plt.plot(acc_lr.test_accuracies, 'b-', label = \"Testing Accuracies - LR\")\n",
    "plt.legend()"
   ]
  },
  {
   "cell_type": "markdown",
   "id": "80dfb35c",
   "metadata": {
    "papermill": {
     "duration": 0.050247,
     "end_time": "2022-12-02T00:39:24.246225",
     "exception": false,
     "start_time": "2022-12-02T00:39:24.195978",
     "status": "completed"
    },
    "tags": []
   },
   "source": [
    "#### Plotting the outputs of this layer of the NN.\n"
   ]
  },
  {
   "cell_type": "code",
   "execution_count": 25,
   "id": "45eb2ff5",
   "metadata": {
    "execution": {
     "iopub.execute_input": "2022-12-02T00:39:24.361019Z",
     "iopub.status.busy": "2022-12-02T00:39:24.360279Z",
     "iopub.status.idle": "2022-12-02T00:39:24.387568Z",
     "shell.execute_reply": "2022-12-02T00:39:24.386371Z"
    },
    "papermill": {
     "duration": 0.088948,
     "end_time": "2022-12-02T00:39:24.387721",
     "exception": false,
     "start_time": "2022-12-02T00:39:24.298773",
     "status": "completed"
    },
    "tags": []
   },
   "outputs": [],
   "source": [
    "new_model = Model(layers[:-2])\n",
    "testing_plot = new_model(testing_data_x)"
   ]
  },
  {
   "cell_type": "code",
   "execution_count": 26,
   "id": "4c0a5485",
   "metadata": {
    "execution": {
     "iopub.execute_input": "2022-12-02T00:39:24.500437Z",
     "iopub.status.busy": "2022-12-02T00:39:24.499612Z",
     "iopub.status.idle": "2022-12-02T00:39:24.794288Z",
     "shell.execute_reply": "2022-12-02T00:39:24.794927Z"
    },
    "papermill": {
     "duration": 0.357582,
     "end_time": "2022-12-02T00:39:24.795112",
     "exception": false,
     "start_time": "2022-12-02T00:39:24.437530",
     "status": "completed"
    },
    "tags": []
   },
   "outputs": [
    {
     "data": {
      "text/plain": [
       "Text(0.5, 1.0, 'Outputs')"
      ]
     },
     "execution_count": 26,
     "metadata": {},
     "output_type": "execute_result"
    },
    {
     "data": {
      "image/png": "[encoded data removed]",
      "text/plain": [
       "<Figure size 576x504 with 1 Axes>"
      ]
     },
     "metadata": {
      "needs_background": "light"
     },
     "output_type": "display_data"
    }
   ],
   "source": [
    "# Plotting the scatter plot of points and color coding by class\n",
    "plt.figure(figsize=(8,7))\n",
    "plt.scatter(testing_plot[:,0], testing_plot[:,1], alpha = 0.1, c = y_test.ravel());\n",
    "plt.title('Outputs')"
   ]
  },
  {
   "cell_type": "markdown",
   "id": "a74fcf8f",
   "metadata": {
    "papermill": {
     "duration": 0.08501,
     "end_time": "2022-12-02T00:39:24.936911",
     "exception": false,
     "start_time": "2022-12-02T00:39:24.851901",
     "status": "completed"
    },
    "tags": []
   },
   "source": [
    "Probability contours"
   ]
  },
  {
   "cell_type": "code",
   "execution_count": 27,
   "id": "d0afc8e3",
   "metadata": {
    "execution": {
     "iopub.execute_input": "2022-12-02T00:39:25.051132Z",
     "iopub.status.busy": "2022-12-02T00:39:25.050484Z",
     "iopub.status.idle": "2022-12-02T00:39:25.074699Z",
     "shell.execute_reply": "2022-12-02T00:39:25.074114Z"
    },
    "papermill": {
     "duration": 0.085783,
     "end_time": "2022-12-02T00:39:25.074830",
     "exception": false,
     "start_time": "2022-12-02T00:39:24.989047",
     "status": "completed"
    },
    "tags": []
   },
   "outputs": [],
   "source": [
    "model_prob = Model(layers[-2:]) "
   ]
  },
  {
   "cell_type": "code",
   "execution_count": 28,
   "id": "9b96e238",
   "metadata": {
    "execution": {
     "iopub.execute_input": "2022-12-02T00:39:25.193988Z",
     "iopub.status.busy": "2022-12-02T00:39:25.193158Z",
     "iopub.status.idle": "2022-12-02T00:39:25.208584Z",
     "shell.execute_reply": "2022-12-02T00:39:25.209182Z"
    },
    "papermill": {
     "duration": 0.077343,
     "end_time": "2022-12-02T00:39:25.209360",
     "exception": false,
     "start_time": "2022-12-02T00:39:25.132017",
     "status": "completed"
    },
    "tags": []
   },
   "outputs": [],
   "source": [
    "#creating the x and y ranges according to the above generated plot.\n",
    "x_range = np.linspace(-4, 1, 100) \n",
    "y_range = np.linspace(-6, 6, 100) \n",
    "x_grid, y_grid = np.meshgrid(x_range, y_range) # x_grid and y_grig are of size 100 X 100\n",
    "\n",
    "# converting x_grid and y_grid to continuous arrays\n",
    "x_gridflat = np.ravel(x_grid)\n",
    "y_gridflat = np.ravel(y_grid)\n",
    "\n",
    "# The last layer of the current model takes two columns as input. Hence transpose of np.vstack() is required.\n",
    "X = np.vstack((x_gridflat, y_gridflat)).T\n",
    "\n",
    "prob_contour = model_prob(X).reshape(100,100) "
   ]
  },
  {
   "cell_type": "code",
   "execution_count": 29,
   "id": "da72499a",
   "metadata": {
    "execution": {
     "iopub.execute_input": "2022-12-02T00:39:25.330767Z",
     "iopub.status.busy": "2022-12-02T00:39:25.330091Z",
     "iopub.status.idle": "2022-12-02T00:39:25.645066Z",
     "shell.execute_reply": "2022-12-02T00:39:25.644201Z"
    },
    "papermill": {
     "duration": 0.379033,
     "end_time": "2022-12-02T00:39:25.645190",
     "exception": false,
     "start_time": "2022-12-02T00:39:25.266157",
     "status": "completed"
    },
    "tags": []
   },
   "outputs": [
    {
     "data": {
      "image/png": "[encoded data removed]",
      "text/plain": [
       "<Figure size 720x648 with 1 Axes>"
      ]
     },
     "metadata": {
      "needs_background": "light"
     },
     "output_type": "display_data"
    }
   ],
   "source": [
    "plt.figure(figsize=(10,9))\n",
    "plt.scatter(testing_plot[:,0], testing_plot[:,1], alpha = 0.1, c = y_test.ravel())\n",
    "contours = plt.contour(x_grid,y_grid,prob_contour)\n",
    "plt.title('Probability Contours')\n",
    "plt.clabel(contours, inline = True );"
   ]
  },
  {
   "cell_type": "code",
   "execution_count": null,
   "id": "e81b4ac7",
   "metadata": {
    "papermill": {
     "duration": 0.060556,
     "end_time": "2022-12-02T00:39:25.763742",
     "exception": false,
     "start_time": "2022-12-02T00:39:25.703186",
     "status": "completed"
    },
    "tags": []
   },
   "outputs": [],
   "source": []
  }
 ],
 "metadata": {
  "kernelspec": {
   "display_name": "Python 3",
   "language": "python",
   "name": "python3"
  },
  "language_info": {
   "codemirror_mode": {
    "name": "ipython",
    "version": 3
   },
   "file_extension": ".py",
   "mimetype": "text/x-python",
   "name": "python",
   "nbconvert_exporter": "python",
   "pygments_lexer": "ipython3",
   "version": "3.6.15"
  },
  "papermill": {
   "default_parameters": {},
   "duration": 172.385257,
   "end_time": "2022-12-02T00:39:26.245326",
   "environment_variables": {},
   "exception": null,
   "input_path": "2020-08-11-part2.ipynb",
   "output_path": "2020-08-11-part2.ipynb",
   "parameters": {},
   "start_time": "2022-12-02T00:36:33.860069",
   "version": "2.3.3"
  }
 },
 "nbformat": 4,
 "nbformat_minor": 5
}