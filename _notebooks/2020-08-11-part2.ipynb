{
 "cells": [
  {
   "cell_type": "markdown",
   "id": "98380cd3",
   "metadata": {
    "papermill": {
     "duration": 0.029138,
     "end_time": "2021-12-24T00:23:31.780809",
     "exception": false,
     "start_time": "2021-12-24T00:23:31.751671",
     "status": "completed"
    },
    "tags": []
   },
   "source": [
    "# Distinguish Your Own Digits (DYOD)"
   ]
  },
  {
   "cell_type": "markdown",
   "id": "ef31240d",
   "metadata": {
    "papermill": {
     "duration": 0.023962,
     "end_time": "2021-12-24T00:23:31.829369",
     "exception": false,
     "start_time": "2021-12-24T00:23:31.805407",
     "status": "completed"
    },
    "tags": []
   },
   "source": [
    "You are going to write a classifier that distinguishes between the number 3 and number 8."
   ]
  },
  {
   "cell_type": "code",
   "execution_count": 1,
   "id": "b15c8646",
   "metadata": {
    "execution": {
     "iopub.execute_input": "2021-12-24T00:23:31.889221Z",
     "iopub.status.busy": "2021-12-24T00:23:31.888683Z",
     "iopub.status.idle": "2021-12-24T00:23:31.898681Z",
     "shell.execute_reply": "2021-12-24T00:23:31.899166Z"
    },
    "papermill": {
     "duration": 0.046044,
     "end_time": "2021-12-24T00:23:31.899332",
     "exception": false,
     "start_time": "2021-12-24T00:23:31.853288",
     "status": "completed"
    },
    "tags": []
   },
   "outputs": [],
   "source": [
    "%load_ext autoreload\n",
    "%autoreload 2"
   ]
  },
  {
   "cell_type": "code",
   "execution_count": 2,
   "id": "22ef38dc",
   "metadata": {
    "execution": {
     "iopub.execute_input": "2021-12-24T00:23:31.952190Z",
     "iopub.status.busy": "2021-12-24T00:23:31.951629Z",
     "iopub.status.idle": "2021-12-24T00:23:32.548394Z",
     "shell.execute_reply": "2021-12-24T00:23:32.547860Z"
    },
    "papermill": {
     "duration": 0.624995,
     "end_time": "2021-12-24T00:23:32.548533",
     "exception": false,
     "start_time": "2021-12-24T00:23:31.923538",
     "status": "completed"
    },
    "tags": []
   },
   "outputs": [],
   "source": [
    "%matplotlib inline\n",
    "import numpy as np\n",
    "import matplotlib.pyplot as plt\n",
    "import pandas as pd"
   ]
  },
  {
   "cell_type": "markdown",
   "id": "ba036198",
   "metadata": {
    "papermill": {
     "duration": 0.024241,
     "end_time": "2021-12-24T00:23:32.597797",
     "exception": false,
     "start_time": "2021-12-24T00:23:32.573556",
     "status": "completed"
    },
    "tags": []
   },
   "source": [
    "From the command line run `pip install mnist`. This is a library that will help you bring down the mnist dataset. If you run this from a notebook, you need to put  `!pip install mnist` in a cell by itself."
   ]
  },
  {
   "cell_type": "code",
   "execution_count": 3,
   "id": "bb6ad8a1",
   "metadata": {
    "execution": {
     "iopub.execute_input": "2021-12-24T00:23:32.660656Z",
     "iopub.status.busy": "2021-12-24T00:23:32.660099Z",
     "iopub.status.idle": "2021-12-24T00:23:35.168333Z",
     "shell.execute_reply": "2021-12-24T00:23:35.167825Z"
    },
    "papermill": {
     "duration": 2.546279,
     "end_time": "2021-12-24T00:23:35.168456",
     "exception": false,
     "start_time": "2021-12-24T00:23:32.622177",
     "status": "completed"
    },
    "tags": []
   },
   "outputs": [
    {
     "name": "stdout",
     "output_type": "stream",
     "text": [
      "Collecting mnist\r\n"
     ]
    },
    {
     "name": "stdout",
     "output_type": "stream",
     "text": [
      "  Downloading mnist-0.2.2-py2.py3-none-any.whl (3.5 kB)\r\n",
      "Requirement already satisfied: numpy in /opt/hostedtoolcache/Python/3.6.15/x64/lib/python3.6/site-packages (from mnist) (1.19.5)\r\n"
     ]
    },
    {
     "name": "stdout",
     "output_type": "stream",
     "text": [
      "Installing collected packages: mnist\r\n",
      "Successfully installed mnist-0.2.2\r\n"
     ]
    }
   ],
   "source": [
    "!pip install mnist"
   ]
  },
  {
   "cell_type": "markdown",
   "id": "69df9c9a",
   "metadata": {
    "papermill": {
     "duration": 0.024763,
     "end_time": "2021-12-24T00:23:35.218469",
     "exception": false,
     "start_time": "2021-12-24T00:23:35.193706",
     "status": "completed"
    },
    "tags": []
   },
   "source": [
    "## Preparing the Data"
   ]
  },
  {
   "cell_type": "code",
   "execution_count": 4,
   "id": "7f69d806",
   "metadata": {
    "execution": {
     "iopub.execute_input": "2021-12-24T00:23:35.283860Z",
     "iopub.status.busy": "2021-12-24T00:23:35.273958Z",
     "iopub.status.idle": "2021-12-24T00:23:35.290362Z",
     "shell.execute_reply": "2021-12-24T00:23:35.289920Z"
    },
    "papermill": {
     "duration": 0.047157,
     "end_time": "2021-12-24T00:23:35.290475",
     "exception": false,
     "start_time": "2021-12-24T00:23:35.243318",
     "status": "completed"
    },
    "tags": []
   },
   "outputs": [],
   "source": [
    "import mnist"
   ]
  },
  {
   "cell_type": "code",
   "execution_count": 5,
   "id": "a411e44f",
   "metadata": {
    "execution": {
     "iopub.execute_input": "2021-12-24T00:23:35.347435Z",
     "iopub.status.busy": "2021-12-24T00:23:35.345159Z",
     "iopub.status.idle": "2021-12-24T00:23:35.868036Z",
     "shell.execute_reply": "2021-12-24T00:23:35.867467Z"
    },
    "papermill": {
     "duration": 0.552746,
     "end_time": "2021-12-24T00:23:35.868172",
     "exception": false,
     "start_time": "2021-12-24T00:23:35.315426",
     "status": "completed"
    },
    "tags": []
   },
   "outputs": [],
   "source": [
    "train_images = mnist.train_images()\n",
    "train_labels = mnist.train_labels()"
   ]
  },
  {
   "cell_type": "code",
   "execution_count": 6,
   "id": "dceab3a5",
   "metadata": {
    "execution": {
     "iopub.execute_input": "2021-12-24T00:23:35.929659Z",
     "iopub.status.busy": "2021-12-24T00:23:35.929134Z",
     "iopub.status.idle": "2021-12-24T00:23:35.939362Z",
     "shell.execute_reply": "2021-12-24T00:23:35.938917Z"
    },
    "papermill": {
     "duration": 0.04598,
     "end_time": "2021-12-24T00:23:35.939482",
     "exception": false,
     "start_time": "2021-12-24T00:23:35.893502",
     "status": "completed"
    },
    "tags": []
   },
   "outputs": [
    {
     "data": {
      "text/plain": [
       "((60000, 28, 28), (60000,))"
      ]
     },
     "execution_count": 6,
     "metadata": {},
     "output_type": "execute_result"
    }
   ],
   "source": [
    "train_images.shape, train_labels.shape"
   ]
  },
  {
   "cell_type": "code",
   "execution_count": 7,
   "id": "f50dc2bb",
   "metadata": {
    "execution": {
     "iopub.execute_input": "2021-12-24T00:23:36.005762Z",
     "iopub.status.busy": "2021-12-24T00:23:36.001083Z",
     "iopub.status.idle": "2021-12-24T00:23:36.147843Z",
     "shell.execute_reply": "2021-12-24T00:23:36.147298Z"
    },
    "papermill": {
     "duration": 0.183463,
     "end_time": "2021-12-24T00:23:36.147986",
     "exception": false,
     "start_time": "2021-12-24T00:23:35.964523",
     "status": "completed"
    },
    "tags": []
   },
   "outputs": [],
   "source": [
    "test_images = mnist.test_images()\n",
    "test_labels = mnist.test_labels()"
   ]
  },
  {
   "cell_type": "code",
   "execution_count": 8,
   "id": "fc38cf1b",
   "metadata": {
    "execution": {
     "iopub.execute_input": "2021-12-24T00:23:36.204295Z",
     "iopub.status.busy": "2021-12-24T00:23:36.203782Z",
     "iopub.status.idle": "2021-12-24T00:23:36.215817Z",
     "shell.execute_reply": "2021-12-24T00:23:36.215381Z"
    },
    "papermill": {
     "duration": 0.041799,
     "end_time": "2021-12-24T00:23:36.215946",
     "exception": false,
     "start_time": "2021-12-24T00:23:36.174147",
     "status": "completed"
    },
    "tags": []
   },
   "outputs": [
    {
     "data": {
      "text/plain": [
       "((10000, 28, 28), (10000,))"
      ]
     },
     "execution_count": 8,
     "metadata": {},
     "output_type": "execute_result"
    }
   ],
   "source": [
    "test_images.shape, test_labels.shape"
   ]
  },
  {
   "cell_type": "code",
   "execution_count": 9,
   "id": "f9ed8fe0",
   "metadata": {
    "execution": {
     "iopub.execute_input": "2021-12-24T00:23:36.275564Z",
     "iopub.status.busy": "2021-12-24T00:23:36.275046Z",
     "iopub.status.idle": "2021-12-24T00:23:36.409684Z",
     "shell.execute_reply": "2021-12-24T00:23:36.409251Z"
    },
    "papermill": {
     "duration": 0.168402,
     "end_time": "2021-12-24T00:23:36.409807",
     "exception": false,
     "start_time": "2021-12-24T00:23:36.241405",
     "status": "completed"
    },
    "tags": []
   },
   "outputs": [
    {
     "name": "stdout",
     "output_type": "stream",
     "text": [
      "2\n"
     ]
    },
    {
     "data": {
      "text/plain": [
       "<matplotlib.image.AxesImage at 0x7f020cc37518>"
      ]
     },
     "execution_count": 9,
     "metadata": {},
     "output_type": "execute_result"
    },
    {
     "data": {
      "image/png": "[encoded data removed]",
      "text/plain": [
       "<Figure size 432x288 with 1 Axes>"
      ]
     },
     "metadata": {
      "needs_background": "light"
     },
     "output_type": "display_data"
    }
   ],
   "source": [
    "image_index = 7776 # You may select anything up to 60,000\n",
    "print(train_labels[image_index]) \n",
    "plt.imshow(train_images[image_index], cmap='Greys')"
   ]
  },
  {
   "cell_type": "markdown",
   "id": "a8d2388d",
   "metadata": {
    "papermill": {
     "duration": 0.026408,
     "end_time": "2021-12-24T00:23:36.463336",
     "exception": false,
     "start_time": "2021-12-24T00:23:36.436928",
     "status": "completed"
    },
    "tags": []
   },
   "source": [
    "## Filter data to get 3 and 8 out"
   ]
  },
  {
   "cell_type": "code",
   "execution_count": 10,
   "id": "776f7fc7",
   "metadata": {
    "execution": {
     "iopub.execute_input": "2021-12-24T00:23:36.523881Z",
     "iopub.status.busy": "2021-12-24T00:23:36.520193Z",
     "iopub.status.idle": "2021-12-24T00:23:36.537266Z",
     "shell.execute_reply": "2021-12-24T00:23:36.536824Z"
    },
    "papermill": {
     "duration": 0.047727,
     "end_time": "2021-12-24T00:23:36.537379",
     "exception": false,
     "start_time": "2021-12-24T00:23:36.489652",
     "status": "completed"
    },
    "tags": []
   },
   "outputs": [],
   "source": [
    "train_filter = np.where((train_labels == 3 ) | (train_labels == 8))\n",
    "test_filter = np.where((test_labels == 3) | (test_labels == 8))\n",
    "X_train, y_train = train_images[train_filter], train_labels[train_filter]\n",
    "X_test, y_test = test_images[test_filter], test_labels[test_filter]"
   ]
  },
  {
   "cell_type": "markdown",
   "id": "948f0b7e",
   "metadata": {
    "papermill": {
     "duration": 0.026118,
     "end_time": "2021-12-24T00:23:36.589963",
     "exception": false,
     "start_time": "2021-12-24T00:23:36.563845",
     "status": "completed"
    },
    "tags": []
   },
   "source": [
    "We normalize the pizel values in the 0 to 1 range"
   ]
  },
  {
   "cell_type": "code",
   "execution_count": 11,
   "id": "ee4c2166",
   "metadata": {
    "execution": {
     "iopub.execute_input": "2021-12-24T00:23:36.648243Z",
     "iopub.status.busy": "2021-12-24T00:23:36.647731Z",
     "iopub.status.idle": "2021-12-24T00:23:36.695339Z",
     "shell.execute_reply": "2021-12-24T00:23:36.694798Z"
    },
    "papermill": {
     "duration": 0.079311,
     "end_time": "2021-12-24T00:23:36.695482",
     "exception": false,
     "start_time": "2021-12-24T00:23:36.616171",
     "status": "completed"
    },
    "tags": []
   },
   "outputs": [],
   "source": [
    "X_train = X_train/255.\n",
    "X_test = X_test/255."
   ]
  },
  {
   "cell_type": "markdown",
   "id": "ddcf4fab",
   "metadata": {
    "papermill": {
     "duration": 0.02898,
     "end_time": "2021-12-24T00:23:36.752143",
     "exception": false,
     "start_time": "2021-12-24T00:23:36.723163",
     "status": "completed"
    },
    "tags": []
   },
   "source": [
    "And setup the labels as 1 (when the digit is 3) and 0 (when the digit is 8)"
   ]
  },
  {
   "cell_type": "code",
   "execution_count": 12,
   "id": "7dc908f2",
   "metadata": {
    "execution": {
     "iopub.execute_input": "2021-12-24T00:23:36.808826Z",
     "iopub.status.busy": "2021-12-24T00:23:36.808287Z",
     "iopub.status.idle": "2021-12-24T00:23:36.820959Z",
     "shell.execute_reply": "2021-12-24T00:23:36.820540Z"
    },
    "papermill": {
     "duration": 0.042439,
     "end_time": "2021-12-24T00:23:36.821074",
     "exception": false,
     "start_time": "2021-12-24T00:23:36.778635",
     "status": "completed"
    },
    "tags": []
   },
   "outputs": [],
   "source": [
    "y_train = 1*(y_train==3)\n",
    "y_test = 1*(y_test==3)"
   ]
  },
  {
   "cell_type": "code",
   "execution_count": 13,
   "id": "01e4e969",
   "metadata": {
    "execution": {
     "iopub.execute_input": "2021-12-24T00:23:36.877880Z",
     "iopub.status.busy": "2021-12-24T00:23:36.877368Z",
     "iopub.status.idle": "2021-12-24T00:23:36.890546Z",
     "shell.execute_reply": "2021-12-24T00:23:36.890129Z"
    },
    "papermill": {
     "duration": 0.042752,
     "end_time": "2021-12-24T00:23:36.890658",
     "exception": false,
     "start_time": "2021-12-24T00:23:36.847906",
     "status": "completed"
    },
    "tags": []
   },
   "outputs": [
    {
     "data": {
      "text/plain": [
       "((11982, 28, 28), (1984, 28, 28))"
      ]
     },
     "execution_count": 13,
     "metadata": {},
     "output_type": "execute_result"
    }
   ],
   "source": [
    "X_train.shape, X_test.shape"
   ]
  },
  {
   "cell_type": "markdown",
   "id": "5ccf3f85",
   "metadata": {
    "papermill": {
     "duration": 0.026523,
     "end_time": "2021-12-24T00:23:36.943758",
     "exception": false,
     "start_time": "2021-12-24T00:23:36.917235",
     "status": "completed"
    },
    "tags": []
   },
   "source": [
    "We reshape the data to flatten the image pixels into a set of features or co-variates:"
   ]
  },
  {
   "cell_type": "code",
   "execution_count": 14,
   "id": "5286a4a3",
   "metadata": {
    "execution": {
     "iopub.execute_input": "2021-12-24T00:23:37.016148Z",
     "iopub.status.busy": "2021-12-24T00:23:37.012199Z",
     "iopub.status.idle": "2021-12-24T00:23:37.019293Z",
     "shell.execute_reply": "2021-12-24T00:23:37.018828Z"
    },
    "papermill": {
     "duration": 0.048858,
     "end_time": "2021-12-24T00:23:37.019407",
     "exception": false,
     "start_time": "2021-12-24T00:23:36.970549",
     "status": "completed"
    },
    "tags": []
   },
   "outputs": [
    {
     "data": {
      "text/plain": [
       "((11982, 784), (1984, 784))"
      ]
     },
     "execution_count": 14,
     "metadata": {},
     "output_type": "execute_result"
    }
   ],
   "source": [
    "X_train = X_train.reshape(X_train.shape[0], -1)\n",
    "X_test = X_test.reshape(X_test.shape[0], -1)\n",
    "X_train.shape, X_test.shape"
   ]
  },
  {
   "cell_type": "code",
   "execution_count": 15,
   "id": "73c5f88a",
   "metadata": {
    "execution": {
     "iopub.execute_input": "2021-12-24T00:23:37.080348Z",
     "iopub.status.busy": "2021-12-24T00:23:37.079810Z",
     "iopub.status.idle": "2021-12-24T00:23:37.097094Z",
     "shell.execute_reply": "2021-12-24T00:23:37.096675Z"
    },
    "papermill": {
     "duration": 0.050895,
     "end_time": "2021-12-24T00:23:37.097208",
     "exception": false,
     "start_time": "2021-12-24T00:23:37.046313",
     "status": "completed"
    },
    "tags": []
   },
   "outputs": [],
   "source": [
    "#Impoting functions from 'Kudzu'\n",
    "from kudzu.model import Model\n",
    "from kudzu.train import Learner\n",
    "from kudzu.optim import GD\n",
    "from kudzu.data import Data, Sampler,Dataloader\n",
    "\n",
    "from kudzu.callbacks import AccCallback\n",
    "from kudzu.callbacks import ClfCallback\n",
    "\n",
    "from kudzu.loss import MSE\n",
    "\n",
    "from kudzu.layer import Sigmoid,Relu\n",
    "from kudzu.layer import Affine"
   ]
  },
  {
   "cell_type": "markdown",
   "id": "bc01172a",
   "metadata": {
    "papermill": {
     "duration": 0.026784,
     "end_time": "2021-12-24T00:23:37.151117",
     "exception": false,
     "start_time": "2021-12-24T00:23:37.124333",
     "status": "completed"
    },
    "tags": []
   },
   "source": [
    "### Let us create a `Config` class, to store important parameters. \n",
    "This class essentially plays the role of a dictionary."
   ]
  },
  {
   "cell_type": "code",
   "execution_count": 16,
   "id": "978281aa",
   "metadata": {
    "execution": {
     "iopub.execute_input": "2021-12-24T00:23:37.221746Z",
     "iopub.status.busy": "2021-12-24T00:23:37.216595Z",
     "iopub.status.idle": "2021-12-24T00:23:37.224599Z",
     "shell.execute_reply": "2021-12-24T00:23:37.224071Z"
    },
    "papermill": {
     "duration": 0.046856,
     "end_time": "2021-12-24T00:23:37.224710",
     "exception": false,
     "start_time": "2021-12-24T00:23:37.177854",
     "status": "completed"
    },
    "tags": []
   },
   "outputs": [],
   "source": [
    "class Config:\n",
    "    pass\n",
    "config = Config()\n",
    "config.lr = 0.001\n",
    "config.num_epochs = 250\n",
    "config.bs = 50"
   ]
  },
  {
   "cell_type": "markdown",
   "id": "1385fa59",
   "metadata": {
    "papermill": {
     "duration": 0.02675,
     "end_time": "2021-12-24T00:23:37.279035",
     "exception": false,
     "start_time": "2021-12-24T00:23:37.252285",
     "status": "completed"
    },
    "tags": []
   },
   "source": [
    "### Running Models with the Training data\n",
    "Details about the network layers:\n",
    "- A first affine layer has 784 inputs and does 100 affine transforms. These are followed by a Relu\n",
    "- A second affine layer has 100 inputs from the 100 activations of the past layer, and does 100 affine transforms. These are followed by a Relu\n",
    "- A third affine layer has 100 activations and does 2 affine transformations to create an embedding for visualization. There is no non-linearity here.\n",
    "- A final \"logistic regression\" which has an affine transform from 2 inputs to 1 output, which is squeezed through a sigmoid.\n"
   ]
  },
  {
   "cell_type": "code",
   "execution_count": 17,
   "id": "2b9c66db",
   "metadata": {
    "execution": {
     "iopub.execute_input": "2021-12-24T00:23:37.347166Z",
     "iopub.status.busy": "2021-12-24T00:23:37.346597Z",
     "iopub.status.idle": "2021-12-24T00:23:37.349035Z",
     "shell.execute_reply": "2021-12-24T00:23:37.349428Z"
    },
    "papermill": {
     "duration": 0.043703,
     "end_time": "2021-12-24T00:23:37.349563",
     "exception": false,
     "start_time": "2021-12-24T00:23:37.305860",
     "status": "completed"
    },
    "tags": []
   },
   "outputs": [],
   "source": [
    "data = Data(X_train, y_train.reshape(-1,1))\n",
    "sampler = Sampler(data, config.bs, shuffle=True)\n",
    "\n",
    "dl = Dataloader(data, sampler)\n",
    "\n",
    "opt = GD(config.lr)\n",
    "loss = MSE()"
   ]
  },
  {
   "cell_type": "code",
   "execution_count": 18,
   "id": "b275e4c2",
   "metadata": {
    "execution": {
     "iopub.execute_input": "2021-12-24T00:23:37.416100Z",
     "iopub.status.busy": "2021-12-24T00:23:37.407877Z",
     "iopub.status.idle": "2021-12-24T00:23:37.421387Z",
     "shell.execute_reply": "2021-12-24T00:23:37.420946Z"
    },
    "papermill": {
     "duration": 0.044211,
     "end_time": "2021-12-24T00:23:37.421500",
     "exception": false,
     "start_time": "2021-12-24T00:23:37.377289",
     "status": "completed"
    },
    "tags": []
   },
   "outputs": [],
   "source": [
    "training_data_x = X_train\n",
    "testing_data_x = X_test\n",
    "training_data_y = y_train.reshape(-1,1)\n",
    "testing_data_y = y_test.reshape(-1,1)"
   ]
  },
  {
   "cell_type": "code",
   "execution_count": 19,
   "id": "76951160",
   "metadata": {
    "execution": {
     "iopub.execute_input": "2021-12-24T00:23:37.495714Z",
     "iopub.status.busy": "2021-12-24T00:23:37.491821Z",
     "iopub.status.idle": "2021-12-24T00:23:37.501504Z",
     "shell.execute_reply": "2021-12-24T00:23:37.501071Z"
    },
    "papermill": {
     "duration": 0.05272,
     "end_time": "2021-12-24T00:23:37.501615",
     "exception": false,
     "start_time": "2021-12-24T00:23:37.448895",
     "status": "completed"
    },
    "tags": []
   },
   "outputs": [
    {
     "name": "stdout",
     "output_type": "stream",
     "text": [
      "xavier\n",
      "xavier\n",
      "xavier\n",
      "xavier\n",
      "xavier\n"
     ]
    }
   ],
   "source": [
    "layers = [Affine(\"first\", 784, 100), Relu(\"first\"), Affine(\"second\", 100, 100), Relu(\"second\"), Affine(\"third\", 100, 2), Affine(\"last\", 2, 1), Sigmoid(\"last\")]\n",
    "model_nn = Model(layers)\n",
    "model_lr = Model([Affine(\"logits\", 784, 1), Sigmoid(\"sigmoid\")])"
   ]
  },
  {
   "cell_type": "code",
   "execution_count": 20,
   "id": "6eede77a",
   "metadata": {
    "execution": {
     "iopub.execute_input": "2021-12-24T00:23:37.566419Z",
     "iopub.status.busy": "2021-12-24T00:23:37.565916Z",
     "iopub.status.idle": "2021-12-24T00:23:37.576488Z",
     "shell.execute_reply": "2021-12-24T00:23:37.576078Z"
    },
    "papermill": {
     "duration": 0.046936,
     "end_time": "2021-12-24T00:23:37.576598",
     "exception": false,
     "start_time": "2021-12-24T00:23:37.529662",
     "status": "completed"
    },
    "tags": []
   },
   "outputs": [],
   "source": [
    "nn_learner = Learner(loss, model_nn, opt, config.num_epochs)\n",
    "acc_nn = ClfCallback(nn_learner, config.bs, training_data_x , testing_data_x, training_data_y, testing_data_y)\n",
    "nn_learner.set_callbacks([acc_nn])"
   ]
  },
  {
   "cell_type": "code",
   "execution_count": 21,
   "id": "877b6cc7",
   "metadata": {
    "execution": {
     "iopub.execute_input": "2021-12-24T00:23:37.635216Z",
     "iopub.status.busy": "2021-12-24T00:23:37.634680Z",
     "iopub.status.idle": "2021-12-24T00:23:37.647327Z",
     "shell.execute_reply": "2021-12-24T00:23:37.647722Z"
    },
    "papermill": {
     "duration": 0.044034,
     "end_time": "2021-12-24T00:23:37.647859",
     "exception": false,
     "start_time": "2021-12-24T00:23:37.603825",
     "status": "completed"
    },
    "tags": []
   },
   "outputs": [],
   "source": [
    "lr_learner = Learner(loss, model_lr, opt, config.num_epochs)\n",
    "acc_lr = ClfCallback(lr_learner, config.bs, training_data_x , testing_data_x, training_data_y, testing_data_y)\n",
    "lr_learner.set_callbacks([acc_lr])"
   ]
  },
  {
   "cell_type": "code",
   "execution_count": 22,
   "id": "d9b133c3",
   "metadata": {
    "execution": {
     "iopub.execute_input": "2021-12-24T00:23:37.710796Z",
     "iopub.status.busy": "2021-12-24T00:23:37.710263Z",
     "iopub.status.idle": "2021-12-24T00:24:56.013561Z",
     "shell.execute_reply": "2021-12-24T00:24:56.014311Z"
    },
    "papermill": {
     "duration": 78.339088,
     "end_time": "2021-12-24T00:24:56.014466",
     "exception": false,
     "start_time": "2021-12-24T00:23:37.675378",
     "status": "completed"
    },
    "tags": []
   },
   "outputs": [
    {
     "name": "stdout",
     "output_type": "stream",
     "text": [
      "Epoch 0, Loss 0.2502\n",
      "Training Accuracy: 0.5320, Testing Accuracy: 0.5282\n",
      "\n"
     ]
    },
    {
     "name": "stdout",
     "output_type": "stream",
     "text": [
      "Epoch 10, Loss 0.1553\n",
      "Training Accuracy: 0.9016, Testing Accuracy: 0.9219\n",
      "\n"
     ]
    },
    {
     "name": "stdout",
     "output_type": "stream",
     "text": [
      "Epoch 20, Loss 0.074\n",
      "Training Accuracy: 0.9295, Testing Accuracy: 0.9395\n",
      "\n"
     ]
    },
    {
     "name": "stdout",
     "output_type": "stream",
     "text": [
      "Epoch 30, Loss 0.0525\n",
      "Training Accuracy: 0.9441, Testing Accuracy: 0.9541\n",
      "\n"
     ]
    },
    {
     "name": "stdout",
     "output_type": "stream",
     "text": [
      "Epoch 40, Loss 0.0436\n",
      "Training Accuracy: 0.9518, Testing Accuracy: 0.9607\n",
      "\n"
     ]
    },
    {
     "name": "stdout",
     "output_type": "stream",
     "text": [
      "Epoch 50, Loss 0.0387\n",
      "Training Accuracy: 0.9556, Testing Accuracy: 0.9612\n",
      "\n"
     ]
    },
    {
     "name": "stdout",
     "output_type": "stream",
     "text": [
      "Epoch 60, Loss 0.0356\n",
      "Training Accuracy: 0.9594, Testing Accuracy: 0.9647\n",
      "\n"
     ]
    },
    {
     "name": "stdout",
     "output_type": "stream",
     "text": [
      "Epoch 70, Loss 0.0333\n",
      "Training Accuracy: 0.9612, Testing Accuracy: 0.9657\n",
      "\n"
     ]
    },
    {
     "name": "stdout",
     "output_type": "stream",
     "text": [
      "Epoch 80, Loss 0.0316\n",
      "Training Accuracy: 0.9626, Testing Accuracy: 0.9672\n",
      "\n"
     ]
    },
    {
     "name": "stdout",
     "output_type": "stream",
     "text": [
      "Epoch 90, Loss 0.0303\n",
      "Training Accuracy: 0.9638, Testing Accuracy: 0.9672\n",
      "\n"
     ]
    },
    {
     "name": "stdout",
     "output_type": "stream",
     "text": [
      "Epoch 100, Loss 0.0291\n",
      "Training Accuracy: 0.9652, Testing Accuracy: 0.9688\n",
      "\n"
     ]
    },
    {
     "name": "stdout",
     "output_type": "stream",
     "text": [
      "Epoch 110, Loss 0.0282\n",
      "Training Accuracy: 0.9665, Testing Accuracy: 0.9703\n",
      "\n"
     ]
    },
    {
     "name": "stdout",
     "output_type": "stream",
     "text": [
      "Epoch 120, Loss 0.0274\n",
      "Training Accuracy: 0.9675, Testing Accuracy: 0.9698\n",
      "\n"
     ]
    },
    {
     "name": "stdout",
     "output_type": "stream",
     "text": [
      "Epoch 130, Loss 0.0266\n",
      "Training Accuracy: 0.9687, Testing Accuracy: 0.9693\n",
      "\n"
     ]
    },
    {
     "name": "stdout",
     "output_type": "stream",
     "text": [
      "Epoch 140, Loss 0.026\n",
      "Training Accuracy: 0.9695, Testing Accuracy: 0.9693\n",
      "\n"
     ]
    },
    {
     "name": "stdout",
     "output_type": "stream",
     "text": [
      "Epoch 150, Loss 0.0254\n",
      "Training Accuracy: 0.9699, Testing Accuracy: 0.9693\n",
      "\n"
     ]
    },
    {
     "name": "stdout",
     "output_type": "stream",
     "text": [
      "Epoch 160, Loss 0.0248\n",
      "Training Accuracy: 0.9705, Testing Accuracy: 0.9698\n",
      "\n"
     ]
    },
    {
     "name": "stdout",
     "output_type": "stream",
     "text": [
      "Epoch 170, Loss 0.0243\n",
      "Training Accuracy: 0.9709, Testing Accuracy: 0.9708\n",
      "\n"
     ]
    },
    {
     "name": "stdout",
     "output_type": "stream",
     "text": [
      "Epoch 180, Loss 0.0239\n",
      "Training Accuracy: 0.9719, Testing Accuracy: 0.9703\n",
      "\n"
     ]
    },
    {
     "name": "stdout",
     "output_type": "stream",
     "text": [
      "Epoch 190, Loss 0.0234\n",
      "Training Accuracy: 0.9724, Testing Accuracy: 0.9708\n",
      "\n"
     ]
    },
    {
     "name": "stdout",
     "output_type": "stream",
     "text": [
      "Epoch 200, Loss 0.023\n",
      "Training Accuracy: 0.9732, Testing Accuracy: 0.9708\n",
      "\n"
     ]
    },
    {
     "name": "stdout",
     "output_type": "stream",
     "text": [
      "Epoch 210, Loss 0.0227\n",
      "Training Accuracy: 0.9740, Testing Accuracy: 0.9703\n",
      "\n"
     ]
    },
    {
     "name": "stdout",
     "output_type": "stream",
     "text": [
      "Epoch 220, Loss 0.0223\n",
      "Training Accuracy: 0.9741, Testing Accuracy: 0.9713\n",
      "\n"
     ]
    },
    {
     "name": "stdout",
     "output_type": "stream",
     "text": [
      "Epoch 230, Loss 0.0219\n",
      "Training Accuracy: 0.9743, Testing Accuracy: 0.9713\n",
      "\n"
     ]
    },
    {
     "name": "stdout",
     "output_type": "stream",
     "text": [
      "Epoch 240, Loss 0.0216\n",
      "Training Accuracy: 0.9751, Testing Accuracy: 0.9708\n",
      "\n"
     ]
    },
    {
     "data": {
      "text/plain": [
       "0.03760057479081613"
      ]
     },
     "execution_count": 22,
     "metadata": {},
     "output_type": "execute_result"
    }
   ],
   "source": [
    "nn_learner.train_loop(dl)"
   ]
  },
  {
   "cell_type": "code",
   "execution_count": 23,
   "id": "e0163366",
   "metadata": {
    "execution": {
     "iopub.execute_input": "2021-12-24T00:24:56.098135Z",
     "iopub.status.busy": "2021-12-24T00:24:56.097608Z",
     "iopub.status.idle": "2021-12-24T00:25:10.220746Z",
     "shell.execute_reply": "2021-12-24T00:25:10.221502Z"
    },
    "papermill": {
     "duration": 14.171924,
     "end_time": "2021-12-24T00:25:10.221651",
     "exception": false,
     "start_time": "2021-12-24T00:24:56.049727",
     "status": "completed"
    },
    "tags": []
   },
   "outputs": [
    {
     "name": "stdout",
     "output_type": "stream",
     "text": [
      "Epoch 0, Loss 0.2516\n",
      "Training Accuracy: 0.6748, Testing Accuracy: 0.6966\n",
      "\n"
     ]
    },
    {
     "name": "stdout",
     "output_type": "stream",
     "text": [
      "Epoch 10, Loss 0.1009\n",
      "Training Accuracy: 0.9176, Testing Accuracy: 0.9330\n",
      "\n"
     ]
    },
    {
     "name": "stdout",
     "output_type": "stream",
     "text": [
      "Epoch 20, Loss 0.0779\n",
      "Training Accuracy: 0.9299, Testing Accuracy: 0.9451\n",
      "\n"
     ]
    },
    {
     "name": "stdout",
     "output_type": "stream",
     "text": [
      "Epoch 30, Loss 0.0674\n",
      "Training Accuracy: 0.9378, Testing Accuracy: 0.9526\n",
      "\n"
     ]
    },
    {
     "name": "stdout",
     "output_type": "stream",
     "text": [
      "Epoch 40, Loss 0.0611\n",
      "Training Accuracy: 0.9434, Testing Accuracy: 0.9567\n",
      "\n"
     ]
    },
    {
     "name": "stdout",
     "output_type": "stream",
     "text": [
      "Epoch 50, Loss 0.0568\n",
      "Training Accuracy: 0.9467, Testing Accuracy: 0.9592\n",
      "\n"
     ]
    },
    {
     "name": "stdout",
     "output_type": "stream",
     "text": [
      "Epoch 60, Loss 0.0536\n",
      "Training Accuracy: 0.9491, Testing Accuracy: 0.9592\n",
      "\n"
     ]
    },
    {
     "name": "stdout",
     "output_type": "stream",
     "text": [
      "Epoch 70, Loss 0.0511\n",
      "Training Accuracy: 0.9500, Testing Accuracy: 0.9602\n",
      "\n"
     ]
    },
    {
     "name": "stdout",
     "output_type": "stream",
     "text": [
      "Epoch 80, Loss 0.0491\n",
      "Training Accuracy: 0.9513, Testing Accuracy: 0.9612\n",
      "\n"
     ]
    },
    {
     "name": "stdout",
     "output_type": "stream",
     "text": [
      "Epoch 90, Loss 0.0474\n",
      "Training Accuracy: 0.9519, Testing Accuracy: 0.9612\n",
      "\n"
     ]
    },
    {
     "name": "stdout",
     "output_type": "stream",
     "text": [
      "Epoch 100, Loss 0.046\n",
      "Training Accuracy: 0.9523, Testing Accuracy: 0.9617\n",
      "\n"
     ]
    },
    {
     "name": "stdout",
     "output_type": "stream",
     "text": [
      "Epoch 110, Loss 0.0448\n",
      "Training Accuracy: 0.9532, Testing Accuracy: 0.9632\n",
      "\n"
     ]
    },
    {
     "name": "stdout",
     "output_type": "stream",
     "text": [
      "Epoch 120, Loss 0.0438\n",
      "Training Accuracy: 0.9546, Testing Accuracy: 0.9657\n",
      "\n"
     ]
    },
    {
     "name": "stdout",
     "output_type": "stream",
     "text": [
      "Epoch 130, Loss 0.0429\n",
      "Training Accuracy: 0.9552, Testing Accuracy: 0.9662\n",
      "\n"
     ]
    },
    {
     "name": "stdout",
     "output_type": "stream",
     "text": [
      "Epoch 140, Loss 0.042\n",
      "Training Accuracy: 0.9564, Testing Accuracy: 0.9667\n",
      "\n"
     ]
    },
    {
     "name": "stdout",
     "output_type": "stream",
     "text": [
      "Epoch 150, Loss 0.0413\n",
      "Training Accuracy: 0.9572, Testing Accuracy: 0.9667\n",
      "\n"
     ]
    },
    {
     "name": "stdout",
     "output_type": "stream",
     "text": [
      "Epoch 160, Loss 0.0406\n",
      "Training Accuracy: 0.9582, Testing Accuracy: 0.9667\n",
      "\n"
     ]
    },
    {
     "name": "stdout",
     "output_type": "stream",
     "text": [
      "Epoch 170, Loss 0.04\n",
      "Training Accuracy: 0.9582, Testing Accuracy: 0.9667\n",
      "\n"
     ]
    },
    {
     "name": "stdout",
     "output_type": "stream",
     "text": [
      "Epoch 180, Loss 0.0395\n",
      "Training Accuracy: 0.9589, Testing Accuracy: 0.9667\n",
      "\n"
     ]
    },
    {
     "name": "stdout",
     "output_type": "stream",
     "text": [
      "Epoch 190, Loss 0.039\n",
      "Training Accuracy: 0.9599, Testing Accuracy: 0.9672\n",
      "\n"
     ]
    },
    {
     "name": "stdout",
     "output_type": "stream",
     "text": [
      "Epoch 200, Loss 0.0385\n",
      "Training Accuracy: 0.9599, Testing Accuracy: 0.9667\n",
      "\n"
     ]
    },
    {
     "name": "stdout",
     "output_type": "stream",
     "text": [
      "Epoch 210, Loss 0.038\n",
      "Training Accuracy: 0.9602, Testing Accuracy: 0.9667\n",
      "\n"
     ]
    },
    {
     "name": "stdout",
     "output_type": "stream",
     "text": [
      "Epoch 220, Loss 0.0376\n",
      "Training Accuracy: 0.9605, Testing Accuracy: 0.9662\n",
      "\n"
     ]
    },
    {
     "name": "stdout",
     "output_type": "stream",
     "text": [
      "Epoch 230, Loss 0.0372\n",
      "Training Accuracy: 0.9607, Testing Accuracy: 0.9667\n",
      "\n"
     ]
    },
    {
     "name": "stdout",
     "output_type": "stream",
     "text": [
      "Epoch 240, Loss 0.0369\n",
      "Training Accuracy: 0.9609, Testing Accuracy: 0.9667\n",
      "\n"
     ]
    },
    {
     "data": {
      "text/plain": [
       "0.032954380099580335"
      ]
     },
     "execution_count": 23,
     "metadata": {},
     "output_type": "execute_result"
    }
   ],
   "source": [
    "lr_learner.train_loop(dl)"
   ]
  },
  {
   "cell_type": "code",
   "execution_count": 24,
   "id": "ca410940",
   "metadata": {
    "execution": {
     "iopub.execute_input": "2021-12-24T00:25:10.312998Z",
     "iopub.status.busy": "2021-12-24T00:25:10.312452Z",
     "iopub.status.idle": "2021-12-24T00:25:10.528963Z",
     "shell.execute_reply": "2021-12-24T00:25:10.528504Z"
    },
    "papermill": {
     "duration": 0.265879,
     "end_time": "2021-12-24T00:25:10.529081",
     "exception": false,
     "start_time": "2021-12-24T00:25:10.263202",
     "status": "completed"
    },
    "tags": []
   },
   "outputs": [
    {
     "data": {
      "text/plain": [
       "<matplotlib.legend.Legend at 0x7f01ff487c50>"
      ]
     },
     "execution_count": 24,
     "metadata": {},
     "output_type": "execute_result"
    },
    {
     "data": {
      "image/png": "[encoded data removed]",
      "text/plain": [
       "<Figure size 1080x720 with 1 Axes>"
      ]
     },
     "metadata": {
      "needs_background": "light"
     },
     "output_type": "display_data"
    }
   ],
   "source": [
    "#comparing the results of NN and LR\n",
    "plt.figure(figsize=(15,10))\n",
    "\n",
    "# Neural Network plots\n",
    "plt.plot(acc_nn.accuracies, 'r-', label = \"Training Accuracies - NN\")\n",
    "plt.plot(acc_nn.test_accuracies, 'g-', label = \"Testing Accuracies - NN\")\n",
    "\n",
    "# Logistic Regression plots\n",
    "plt.plot(acc_lr.accuracies, 'k-', label = \"Training Accuracies - LR\")\n",
    "plt.plot(acc_lr.test_accuracies, 'b-', label = \"Testing Accuracies - LR\")\n",
    "plt.legend()"
   ]
  },
  {
   "cell_type": "markdown",
   "id": "80dfb35c",
   "metadata": {
    "papermill": {
     "duration": 0.042232,
     "end_time": "2021-12-24T00:25:10.613942",
     "exception": false,
     "start_time": "2021-12-24T00:25:10.571710",
     "status": "completed"
    },
    "tags": []
   },
   "source": [
    "#### Plotting the outputs of this layer of the NN.\n"
   ]
  },
  {
   "cell_type": "code",
   "execution_count": 25,
   "id": "45eb2ff5",
   "metadata": {
    "execution": {
     "iopub.execute_input": "2021-12-24T00:25:10.708253Z",
     "iopub.status.busy": "2021-12-24T00:25:10.707688Z",
     "iopub.status.idle": "2021-12-24T00:25:10.724921Z",
     "shell.execute_reply": "2021-12-24T00:25:10.725312Z"
    },
    "papermill": {
     "duration": 0.06903,
     "end_time": "2021-12-24T00:25:10.725459",
     "exception": false,
     "start_time": "2021-12-24T00:25:10.656429",
     "status": "completed"
    },
    "tags": []
   },
   "outputs": [],
   "source": [
    "new_model = Model(layers[:-2])\n",
    "testing_plot = new_model(testing_data_x)"
   ]
  },
  {
   "cell_type": "code",
   "execution_count": 26,
   "id": "4c0a5485",
   "metadata": {
    "execution": {
     "iopub.execute_input": "2021-12-24T00:25:10.818233Z",
     "iopub.status.busy": "2021-12-24T00:25:10.816418Z",
     "iopub.status.idle": "2021-12-24T00:25:11.024021Z",
     "shell.execute_reply": "2021-12-24T00:25:11.023581Z"
    },
    "papermill": {
     "duration": 0.255377,
     "end_time": "2021-12-24T00:25:11.024144",
     "exception": false,
     "start_time": "2021-12-24T00:25:10.768767",
     "status": "completed"
    },
    "tags": []
   },
   "outputs": [
    {
     "data": {
      "text/plain": [
       "Text(0.5, 1.0, 'Outputs')"
      ]
     },
     "execution_count": 26,
     "metadata": {},
     "output_type": "execute_result"
    },
    {
     "data": {
      "image/png": "[encoded data removed]",
      "text/plain": [
       "<Figure size 576x504 with 1 Axes>"
      ]
     },
     "metadata": {
      "needs_background": "light"
     },
     "output_type": "display_data"
    }
   ],
   "source": [
    "# Plotting the scatter plot of points and color coding by class\n",
    "plt.figure(figsize=(8,7))\n",
    "plt.scatter(testing_plot[:,0], testing_plot[:,1], alpha = 0.1, c = y_test.ravel());\n",
    "plt.title('Outputs')"
   ]
  },
  {
   "cell_type": "markdown",
   "id": "a74fcf8f",
   "metadata": {
    "papermill": {
     "duration": 0.044755,
     "end_time": "2021-12-24T00:25:11.113771",
     "exception": false,
     "start_time": "2021-12-24T00:25:11.069016",
     "status": "completed"
    },
    "tags": []
   },
   "source": [
    "Probability contours"
   ]
  },
  {
   "cell_type": "code",
   "execution_count": 27,
   "id": "d0afc8e3",
   "metadata": {
    "execution": {
     "iopub.execute_input": "2021-12-24T00:25:11.210025Z",
     "iopub.status.busy": "2021-12-24T00:25:11.209365Z",
     "iopub.status.idle": "2021-12-24T00:25:11.220060Z",
     "shell.execute_reply": "2021-12-24T00:25:11.219607Z"
    },
    "papermill": {
     "duration": 0.061078,
     "end_time": "2021-12-24T00:25:11.220178",
     "exception": false,
     "start_time": "2021-12-24T00:25:11.159100",
     "status": "completed"
    },
    "tags": []
   },
   "outputs": [],
   "source": [
    "model_prob = Model(layers[-2:]) "
   ]
  },
  {
   "cell_type": "code",
   "execution_count": 28,
   "id": "9b96e238",
   "metadata": {
    "execution": {
     "iopub.execute_input": "2021-12-24T00:25:11.316955Z",
     "iopub.status.busy": "2021-12-24T00:25:11.316415Z",
     "iopub.status.idle": "2021-12-24T00:25:11.329550Z",
     "shell.execute_reply": "2021-12-24T00:25:11.329931Z"
    },
    "papermill": {
     "duration": 0.065212,
     "end_time": "2021-12-24T00:25:11.330070",
     "exception": false,
     "start_time": "2021-12-24T00:25:11.264858",
     "status": "completed"
    },
    "tags": []
   },
   "outputs": [],
   "source": [
    "#creating the x and y ranges according to the above generated plot.\n",
    "x_range = np.linspace(-4, 1, 100) \n",
    "y_range = np.linspace(-6, 6, 100) \n",
    "x_grid, y_grid = np.meshgrid(x_range, y_range) # x_grid and y_grig are of size 100 X 100\n",
    "\n",
    "# converting x_grid and y_grid to continuous arrays\n",
    "x_gridflat = np.ravel(x_grid)\n",
    "y_gridflat = np.ravel(y_grid)\n",
    "\n",
    "# The last layer of the current model takes two columns as input. Hence transpose of np.vstack() is required.\n",
    "X = np.vstack((x_gridflat, y_gridflat)).T\n",
    "\n",
    "prob_contour = model_prob(X).reshape(100,100) "
   ]
  },
  {
   "cell_type": "code",
   "execution_count": 29,
   "id": "da72499a",
   "metadata": {
    "execution": {
     "iopub.execute_input": "2021-12-24T00:25:11.423719Z",
     "iopub.status.busy": "2021-12-24T00:25:11.423186Z",
     "iopub.status.idle": "2021-12-24T00:25:11.674381Z",
     "shell.execute_reply": "2021-12-24T00:25:11.673889Z"
    },
    "papermill": {
     "duration": 0.299822,
     "end_time": "2021-12-24T00:25:11.674507",
     "exception": false,
     "start_time": "2021-12-24T00:25:11.374685",
     "status": "completed"
    },
    "tags": []
   },
   "outputs": [
    {
     "data": {
      "image/png": "[encoded data removed]",
      "text/plain": [
       "<Figure size 720x648 with 1 Axes>"
      ]
     },
     "metadata": {
      "needs_background": "light"
     },
     "output_type": "display_data"
    }
   ],
   "source": [
    "plt.figure(figsize=(10,9))\n",
    "plt.scatter(testing_plot[:,0], testing_plot[:,1], alpha = 0.1, c = y_test.ravel())\n",
    "contours = plt.contour(x_grid,y_grid,prob_contour)\n",
    "plt.title('Probability Contours')\n",
    "plt.clabel(contours, inline = True );"
   ]
  },
  {
   "cell_type": "code",
   "execution_count": null,
   "id": "e81b4ac7",
   "metadata": {
    "papermill": {
     "duration": 0.047098,
     "end_time": "2021-12-24T00:25:11.798659",
     "exception": false,
     "start_time": "2021-12-24T00:25:11.751561",
     "status": "completed"
    },
    "tags": []
   },
   "outputs": [],
   "source": []
  }
 ],
 "metadata": {
  "kernelspec": {
   "display_name": "Python 3",
   "language": "python",
   "name": "python3"
  },
  "language_info": {
   "codemirror_mode": {
    "name": "ipython",
    "version": 3
   },
   "file_extension": ".py",
   "mimetype": "text/x-python",
   "name": "python",
   "nbconvert_exporter": "python",
   "pygments_lexer": "ipython3",
   "version": "3.6.15"
  },
  "papermill": {
   "default_parameters": {},
   "duration": 101.448119,
   "end_time": "2021-12-24T00:25:12.254577",
   "environment_variables": {},
   "exception": null,
   "input_path": "2020-08-11-part2.ipynb",
   "output_path": "2020-08-11-part2.ipynb",
   "parameters": {},
   "start_time": "2021-12-24T00:23:30.806458",
   "version": "2.3.3"
  }
 },
 "nbformat": 4,
 "nbformat_minor": 5
}