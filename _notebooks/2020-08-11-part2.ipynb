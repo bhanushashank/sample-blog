{
 "cells": [
  {
   "cell_type": "markdown",
   "id": "98380cd3",
   "metadata": {
    "papermill": {
     "duration": 0.031549,
     "end_time": "2022-03-25T00:30:40.295318",
     "exception": false,
     "start_time": "2022-03-25T00:30:40.263769",
     "status": "completed"
    },
    "tags": []
   },
   "source": [
    "# Distinguish Your Own Digits (DYOD)"
   ]
  },
  {
   "cell_type": "markdown",
   "id": "ef31240d",
   "metadata": {
    "papermill": {
     "duration": 0.027785,
     "end_time": "2022-03-25T00:30:40.352478",
     "exception": false,
     "start_time": "2022-03-25T00:30:40.324693",
     "status": "completed"
    },
    "tags": []
   },
   "source": [
    "You are going to write a classifier that distinguishes between the number 3 and number 8."
   ]
  },
  {
   "cell_type": "code",
   "execution_count": 1,
   "id": "b15c8646",
   "metadata": {
    "execution": {
     "iopub.execute_input": "2022-03-25T00:30:40.415659Z",
     "iopub.status.busy": "2022-03-25T00:30:40.413113Z",
     "iopub.status.idle": "2022-03-25T00:30:40.426111Z",
     "shell.execute_reply": "2022-03-25T00:30:40.426596Z"
    },
    "papermill": {
     "duration": 0.048259,
     "end_time": "2022-03-25T00:30:40.426750",
     "exception": false,
     "start_time": "2022-03-25T00:30:40.378491",
     "status": "completed"
    },
    "tags": []
   },
   "outputs": [],
   "source": [
    "%load_ext autoreload\n",
    "%autoreload 2"
   ]
  },
  {
   "cell_type": "code",
   "execution_count": 2,
   "id": "22ef38dc",
   "metadata": {
    "execution": {
     "iopub.execute_input": "2022-03-25T00:30:40.500829Z",
     "iopub.status.busy": "2022-03-25T00:30:40.492279Z",
     "iopub.status.idle": "2022-03-25T00:30:41.089793Z",
     "shell.execute_reply": "2022-03-25T00:30:41.089265Z"
    },
    "papermill": {
     "duration": 0.636204,
     "end_time": "2022-03-25T00:30:41.089932",
     "exception": false,
     "start_time": "2022-03-25T00:30:40.453728",
     "status": "completed"
    },
    "tags": []
   },
   "outputs": [],
   "source": [
    "%matplotlib inline\n",
    "import numpy as np\n",
    "import matplotlib.pyplot as plt\n",
    "import pandas as pd"
   ]
  },
  {
   "cell_type": "markdown",
   "id": "ba036198",
   "metadata": {
    "papermill": {
     "duration": 0.026442,
     "end_time": "2022-03-25T00:30:41.142853",
     "exception": false,
     "start_time": "2022-03-25T00:30:41.116411",
     "status": "completed"
    },
    "tags": []
   },
   "source": [
    "From the command line run `pip install mnist`. This is a library that will help you bring down the mnist dataset. If you run this from a notebook, you need to put  `!pip install mnist` in a cell by itself."
   ]
  },
  {
   "cell_type": "code",
   "execution_count": 3,
   "id": "bb6ad8a1",
   "metadata": {
    "execution": {
     "iopub.execute_input": "2022-03-25T00:30:41.199307Z",
     "iopub.status.busy": "2022-03-25T00:30:41.198728Z",
     "iopub.status.idle": "2022-03-25T00:30:43.023093Z",
     "shell.execute_reply": "2022-03-25T00:30:43.022082Z"
    },
    "papermill": {
     "duration": 1.854417,
     "end_time": "2022-03-25T00:30:43.023236",
     "exception": false,
     "start_time": "2022-03-25T00:30:41.168819",
     "status": "completed"
    },
    "tags": []
   },
   "outputs": [
    {
     "name": "stdout",
     "output_type": "stream",
     "text": [
      "Collecting mnist\r\n"
     ]
    },
    {
     "name": "stdout",
     "output_type": "stream",
     "text": [
      "  Downloading mnist-0.2.2-py2.py3-none-any.whl (3.5 kB)\r\n",
      "Requirement already satisfied: numpy in /opt/hostedtoolcache/Python/3.6.15/x64/lib/python3.6/site-packages (from mnist) (1.19.5)\r\n"
     ]
    },
    {
     "name": "stdout",
     "output_type": "stream",
     "text": [
      "Installing collected packages: mnist\r\n"
     ]
    },
    {
     "name": "stdout",
     "output_type": "stream",
     "text": [
      "Successfully installed mnist-0.2.2\r\n"
     ]
    }
   ],
   "source": [
    "!pip install mnist"
   ]
  },
  {
   "cell_type": "markdown",
   "id": "69df9c9a",
   "metadata": {
    "papermill": {
     "duration": 0.027865,
     "end_time": "2022-03-25T00:30:43.079126",
     "exception": false,
     "start_time": "2022-03-25T00:30:43.051261",
     "status": "completed"
    },
    "tags": []
   },
   "source": [
    "## Preparing the Data"
   ]
  },
  {
   "cell_type": "code",
   "execution_count": 4,
   "id": "7f69d806",
   "metadata": {
    "execution": {
     "iopub.execute_input": "2022-03-25T00:30:43.139852Z",
     "iopub.status.busy": "2022-03-25T00:30:43.139232Z",
     "iopub.status.idle": "2022-03-25T00:30:43.152810Z",
     "shell.execute_reply": "2022-03-25T00:30:43.153423Z"
    },
    "papermill": {
     "duration": 0.046702,
     "end_time": "2022-03-25T00:30:43.153568",
     "exception": false,
     "start_time": "2022-03-25T00:30:43.106866",
     "status": "completed"
    },
    "tags": []
   },
   "outputs": [],
   "source": [
    "import mnist"
   ]
  },
  {
   "cell_type": "code",
   "execution_count": 5,
   "id": "a411e44f",
   "metadata": {
    "execution": {
     "iopub.execute_input": "2022-03-25T00:30:43.211867Z",
     "iopub.status.busy": "2022-03-25T00:30:43.211240Z",
     "iopub.status.idle": "2022-03-25T00:30:44.161292Z",
     "shell.execute_reply": "2022-03-25T00:30:44.161803Z"
    },
    "papermill": {
     "duration": 0.981499,
     "end_time": "2022-03-25T00:30:44.162546",
     "exception": false,
     "start_time": "2022-03-25T00:30:43.181047",
     "status": "completed"
    },
    "tags": []
   },
   "outputs": [],
   "source": [
    "train_images = mnist.train_images()\n",
    "train_labels = mnist.train_labels()"
   ]
  },
  {
   "cell_type": "code",
   "execution_count": 6,
   "id": "dceab3a5",
   "metadata": {
    "execution": {
     "iopub.execute_input": "2022-03-25T00:30:44.221812Z",
     "iopub.status.busy": "2022-03-25T00:30:44.221217Z",
     "iopub.status.idle": "2022-03-25T00:30:44.235482Z",
     "shell.execute_reply": "2022-03-25T00:30:44.234983Z"
    },
    "papermill": {
     "duration": 0.044844,
     "end_time": "2022-03-25T00:30:44.235622",
     "exception": false,
     "start_time": "2022-03-25T00:30:44.190778",
     "status": "completed"
    },
    "tags": []
   },
   "outputs": [
    {
     "data": {
      "text/plain": [
       "((60000, 28, 28), (60000,))"
      ]
     },
     "execution_count": 6,
     "metadata": {},
     "output_type": "execute_result"
    }
   ],
   "source": [
    "train_images.shape, train_labels.shape"
   ]
  },
  {
   "cell_type": "code",
   "execution_count": 7,
   "id": "f50dc2bb",
   "metadata": {
    "execution": {
     "iopub.execute_input": "2022-03-25T00:30:44.309419Z",
     "iopub.status.busy": "2022-03-25T00:30:44.308806Z",
     "iopub.status.idle": "2022-03-25T00:30:44.659077Z",
     "shell.execute_reply": "2022-03-25T00:30:44.658494Z"
    },
    "papermill": {
     "duration": 0.394781,
     "end_time": "2022-03-25T00:30:44.659224",
     "exception": false,
     "start_time": "2022-03-25T00:30:44.264443",
     "status": "completed"
    },
    "tags": []
   },
   "outputs": [],
   "source": [
    "test_images = mnist.test_images()\n",
    "test_labels = mnist.test_labels()"
   ]
  },
  {
   "cell_type": "code",
   "execution_count": 8,
   "id": "fc38cf1b",
   "metadata": {
    "execution": {
     "iopub.execute_input": "2022-03-25T00:30:44.721139Z",
     "iopub.status.busy": "2022-03-25T00:30:44.720498Z",
     "iopub.status.idle": "2022-03-25T00:30:44.733363Z",
     "shell.execute_reply": "2022-03-25T00:30:44.733928Z"
    },
    "papermill": {
     "duration": 0.045592,
     "end_time": "2022-03-25T00:30:44.734060",
     "exception": false,
     "start_time": "2022-03-25T00:30:44.688468",
     "status": "completed"
    },
    "tags": []
   },
   "outputs": [
    {
     "data": {
      "text/plain": [
       "((10000, 28, 28), (10000,))"
      ]
     },
     "execution_count": 8,
     "metadata": {},
     "output_type": "execute_result"
    }
   ],
   "source": [
    "test_images.shape, test_labels.shape"
   ]
  },
  {
   "cell_type": "code",
   "execution_count": 9,
   "id": "f9ed8fe0",
   "metadata": {
    "execution": {
     "iopub.execute_input": "2022-03-25T00:30:44.798508Z",
     "iopub.status.busy": "2022-03-25T00:30:44.797925Z",
     "iopub.status.idle": "2022-03-25T00:30:44.954914Z",
     "shell.execute_reply": "2022-03-25T00:30:44.954436Z"
    },
    "papermill": {
     "duration": 0.191619,
     "end_time": "2022-03-25T00:30:44.955039",
     "exception": false,
     "start_time": "2022-03-25T00:30:44.763420",
     "status": "completed"
    },
    "tags": []
   },
   "outputs": [
    {
     "name": "stdout",
     "output_type": "stream",
     "text": [
      "2\n"
     ]
    },
    {
     "data": {
      "text/plain": [
       "<matplotlib.image.AxesImage at 0x7f5585801b38>"
      ]
     },
     "execution_count": 9,
     "metadata": {},
     "output_type": "execute_result"
    },
    {
     "data": {
      "image/png": "[encoded data removed]",
      "text/plain": [
       "<Figure size 432x288 with 1 Axes>"
      ]
     },
     "metadata": {
      "needs_background": "light"
     },
     "output_type": "display_data"
    }
   ],
   "source": [
    "image_index = 7776 # You may select anything up to 60,000\n",
    "print(train_labels[image_index]) \n",
    "plt.imshow(train_images[image_index], cmap='Greys')"
   ]
  },
  {
   "cell_type": "markdown",
   "id": "a8d2388d",
   "metadata": {
    "papermill": {
     "duration": 0.02993,
     "end_time": "2022-03-25T00:30:45.015154",
     "exception": false,
     "start_time": "2022-03-25T00:30:44.985224",
     "status": "completed"
    },
    "tags": []
   },
   "source": [
    "## Filter data to get 3 and 8 out"
   ]
  },
  {
   "cell_type": "code",
   "execution_count": 10,
   "id": "776f7fc7",
   "metadata": {
    "execution": {
     "iopub.execute_input": "2022-03-25T00:30:45.080908Z",
     "iopub.status.busy": "2022-03-25T00:30:45.080314Z",
     "iopub.status.idle": "2022-03-25T00:30:45.096811Z",
     "shell.execute_reply": "2022-03-25T00:30:45.097323Z"
    },
    "papermill": {
     "duration": 0.052738,
     "end_time": "2022-03-25T00:30:45.097472",
     "exception": false,
     "start_time": "2022-03-25T00:30:45.044734",
     "status": "completed"
    },
    "tags": []
   },
   "outputs": [],
   "source": [
    "train_filter = np.where((train_labels == 3 ) | (train_labels == 8))\n",
    "test_filter = np.where((test_labels == 3) | (test_labels == 8))\n",
    "X_train, y_train = train_images[train_filter], train_labels[train_filter]\n",
    "X_test, y_test = test_images[test_filter], test_labels[test_filter]"
   ]
  },
  {
   "cell_type": "markdown",
   "id": "948f0b7e",
   "metadata": {
    "papermill": {
     "duration": 0.030001,
     "end_time": "2022-03-25T00:30:45.163784",
     "exception": false,
     "start_time": "2022-03-25T00:30:45.133783",
     "status": "completed"
    },
    "tags": []
   },
   "source": [
    "We normalize the pizel values in the 0 to 1 range"
   ]
  },
  {
   "cell_type": "code",
   "execution_count": 11,
   "id": "ee4c2166",
   "metadata": {
    "execution": {
     "iopub.execute_input": "2022-03-25T00:30:45.228432Z",
     "iopub.status.busy": "2022-03-25T00:30:45.227840Z",
     "iopub.status.idle": "2022-03-25T00:30:45.284949Z",
     "shell.execute_reply": "2022-03-25T00:30:45.284428Z"
    },
    "papermill": {
     "duration": 0.091386,
     "end_time": "2022-03-25T00:30:45.285088",
     "exception": false,
     "start_time": "2022-03-25T00:30:45.193702",
     "status": "completed"
    },
    "tags": []
   },
   "outputs": [],
   "source": [
    "X_train = X_train/255.\n",
    "X_test = X_test/255."
   ]
  },
  {
   "cell_type": "markdown",
   "id": "ddcf4fab",
   "metadata": {
    "papermill": {
     "duration": 0.029406,
     "end_time": "2022-03-25T00:30:45.344944",
     "exception": false,
     "start_time": "2022-03-25T00:30:45.315538",
     "status": "completed"
    },
    "tags": []
   },
   "source": [
    "And setup the labels as 1 (when the digit is 3) and 0 (when the digit is 8)"
   ]
  },
  {
   "cell_type": "code",
   "execution_count": 12,
   "id": "7dc908f2",
   "metadata": {
    "execution": {
     "iopub.execute_input": "2022-03-25T00:30:45.413383Z",
     "iopub.status.busy": "2022-03-25T00:30:45.412772Z",
     "iopub.status.idle": "2022-03-25T00:30:45.423732Z",
     "shell.execute_reply": "2022-03-25T00:30:45.422892Z"
    },
    "papermill": {
     "duration": 0.048861,
     "end_time": "2022-03-25T00:30:45.423852",
     "exception": false,
     "start_time": "2022-03-25T00:30:45.374991",
     "status": "completed"
    },
    "tags": []
   },
   "outputs": [],
   "source": [
    "y_train = 1*(y_train==3)\n",
    "y_test = 1*(y_test==3)"
   ]
  },
  {
   "cell_type": "code",
   "execution_count": 13,
   "id": "01e4e969",
   "metadata": {
    "execution": {
     "iopub.execute_input": "2022-03-25T00:30:45.488426Z",
     "iopub.status.busy": "2022-03-25T00:30:45.484856Z",
     "iopub.status.idle": "2022-03-25T00:30:45.497159Z",
     "shell.execute_reply": "2022-03-25T00:30:45.496653Z"
    },
    "papermill": {
     "duration": 0.044067,
     "end_time": "2022-03-25T00:30:45.497274",
     "exception": false,
     "start_time": "2022-03-25T00:30:45.453207",
     "status": "completed"
    },
    "tags": []
   },
   "outputs": [
    {
     "data": {
      "text/plain": [
       "((11982, 28, 28), (1984, 28, 28))"
      ]
     },
     "execution_count": 13,
     "metadata": {},
     "output_type": "execute_result"
    }
   ],
   "source": [
    "X_train.shape, X_test.shape"
   ]
  },
  {
   "cell_type": "markdown",
   "id": "5ccf3f85",
   "metadata": {
    "papermill": {
     "duration": 0.030468,
     "end_time": "2022-03-25T00:30:45.557454",
     "exception": false,
     "start_time": "2022-03-25T00:30:45.526986",
     "status": "completed"
    },
    "tags": []
   },
   "source": [
    "We reshape the data to flatten the image pixels into a set of features or co-variates:"
   ]
  },
  {
   "cell_type": "code",
   "execution_count": 14,
   "id": "5286a4a3",
   "metadata": {
    "execution": {
     "iopub.execute_input": "2022-03-25T00:30:45.619994Z",
     "iopub.status.busy": "2022-03-25T00:30:45.619347Z",
     "iopub.status.idle": "2022-03-25T00:30:45.632159Z",
     "shell.execute_reply": "2022-03-25T00:30:45.631679Z"
    },
    "papermill": {
     "duration": 0.045254,
     "end_time": "2022-03-25T00:30:45.632278",
     "exception": false,
     "start_time": "2022-03-25T00:30:45.587024",
     "status": "completed"
    },
    "tags": []
   },
   "outputs": [
    {
     "data": {
      "text/plain": [
       "((11982, 784), (1984, 784))"
      ]
     },
     "execution_count": 14,
     "metadata": {},
     "output_type": "execute_result"
    }
   ],
   "source": [
    "X_train = X_train.reshape(X_train.shape[0], -1)\n",
    "X_test = X_test.reshape(X_test.shape[0], -1)\n",
    "X_train.shape, X_test.shape"
   ]
  },
  {
   "cell_type": "code",
   "execution_count": 15,
   "id": "73c5f88a",
   "metadata": {
    "execution": {
     "iopub.execute_input": "2022-03-25T00:30:45.695116Z",
     "iopub.status.busy": "2022-03-25T00:30:45.694473Z",
     "iopub.status.idle": "2022-03-25T00:30:45.711569Z",
     "shell.execute_reply": "2022-03-25T00:30:45.712054Z"
    },
    "papermill": {
     "duration": 0.050412,
     "end_time": "2022-03-25T00:30:45.712185",
     "exception": false,
     "start_time": "2022-03-25T00:30:45.661773",
     "status": "completed"
    },
    "tags": []
   },
   "outputs": [],
   "source": [
    "#Impoting functions from 'Kudzu'\n",
    "from kudzu.model import Model\n",
    "from kudzu.train import Learner\n",
    "from kudzu.optim import GD\n",
    "from kudzu.data import Data, Sampler,Dataloader\n",
    "\n",
    "from kudzu.callbacks import AccCallback\n",
    "from kudzu.callbacks import ClfCallback\n",
    "\n",
    "from kudzu.loss import MSE\n",
    "\n",
    "from kudzu.layer import Sigmoid,Relu\n",
    "from kudzu.layer import Affine"
   ]
  },
  {
   "cell_type": "markdown",
   "id": "bc01172a",
   "metadata": {
    "papermill": {
     "duration": 0.029991,
     "end_time": "2022-03-25T00:30:45.772645",
     "exception": false,
     "start_time": "2022-03-25T00:30:45.742654",
     "status": "completed"
    },
    "tags": []
   },
   "source": [
    "### Let us create a `Config` class, to store important parameters. \n",
    "This class essentially plays the role of a dictionary."
   ]
  },
  {
   "cell_type": "code",
   "execution_count": 16,
   "id": "978281aa",
   "metadata": {
    "execution": {
     "iopub.execute_input": "2022-03-25T00:30:45.834886Z",
     "iopub.status.busy": "2022-03-25T00:30:45.834288Z",
     "iopub.status.idle": "2022-03-25T00:30:45.845439Z",
     "shell.execute_reply": "2022-03-25T00:30:45.844934Z"
    },
    "papermill": {
     "duration": 0.043427,
     "end_time": "2022-03-25T00:30:45.845554",
     "exception": false,
     "start_time": "2022-03-25T00:30:45.802127",
     "status": "completed"
    },
    "tags": []
   },
   "outputs": [],
   "source": [
    "class Config:\n",
    "    pass\n",
    "config = Config()\n",
    "config.lr = 0.001\n",
    "config.num_epochs = 250\n",
    "config.bs = 50"
   ]
  },
  {
   "cell_type": "markdown",
   "id": "1385fa59",
   "metadata": {
    "papermill": {
     "duration": 0.029427,
     "end_time": "2022-03-25T00:30:45.905289",
     "exception": false,
     "start_time": "2022-03-25T00:30:45.875862",
     "status": "completed"
    },
    "tags": []
   },
   "source": [
    "### Running Models with the Training data\n",
    "Details about the network layers:\n",
    "- A first affine layer has 784 inputs and does 100 affine transforms. These are followed by a Relu\n",
    "- A second affine layer has 100 inputs from the 100 activations of the past layer, and does 100 affine transforms. These are followed by a Relu\n",
    "- A third affine layer has 100 activations and does 2 affine transformations to create an embedding for visualization. There is no non-linearity here.\n",
    "- A final \"logistic regression\" which has an affine transform from 2 inputs to 1 output, which is squeezed through a sigmoid.\n"
   ]
  },
  {
   "cell_type": "code",
   "execution_count": 17,
   "id": "2b9c66db",
   "metadata": {
    "execution": {
     "iopub.execute_input": "2022-03-25T00:30:45.968351Z",
     "iopub.status.busy": "2022-03-25T00:30:45.967751Z",
     "iopub.status.idle": "2022-03-25T00:30:45.978512Z",
     "shell.execute_reply": "2022-03-25T00:30:45.978969Z"
    },
    "papermill": {
     "duration": 0.043866,
     "end_time": "2022-03-25T00:30:45.979100",
     "exception": false,
     "start_time": "2022-03-25T00:30:45.935234",
     "status": "completed"
    },
    "tags": []
   },
   "outputs": [],
   "source": [
    "data = Data(X_train, y_train.reshape(-1,1))\n",
    "sampler = Sampler(data, config.bs, shuffle=True)\n",
    "\n",
    "dl = Dataloader(data, sampler)\n",
    "\n",
    "opt = GD(config.lr)\n",
    "loss = MSE()"
   ]
  },
  {
   "cell_type": "code",
   "execution_count": 18,
   "id": "b275e4c2",
   "metadata": {
    "execution": {
     "iopub.execute_input": "2022-03-25T00:30:46.042301Z",
     "iopub.status.busy": "2022-03-25T00:30:46.041704Z",
     "iopub.status.idle": "2022-03-25T00:30:46.052167Z",
     "shell.execute_reply": "2022-03-25T00:30:46.052625Z"
    },
    "papermill": {
     "duration": 0.04313,
     "end_time": "2022-03-25T00:30:46.052755",
     "exception": false,
     "start_time": "2022-03-25T00:30:46.009625",
     "status": "completed"
    },
    "tags": []
   },
   "outputs": [],
   "source": [
    "training_data_x = X_train\n",
    "testing_data_x = X_test\n",
    "training_data_y = y_train.reshape(-1,1)\n",
    "testing_data_y = y_test.reshape(-1,1)"
   ]
  },
  {
   "cell_type": "code",
   "execution_count": 19,
   "id": "76951160",
   "metadata": {
    "execution": {
     "iopub.execute_input": "2022-03-25T00:30:46.117894Z",
     "iopub.status.busy": "2022-03-25T00:30:46.117288Z",
     "iopub.status.idle": "2022-03-25T00:30:46.132142Z",
     "shell.execute_reply": "2022-03-25T00:30:46.131521Z"
    },
    "papermill": {
     "duration": 0.048172,
     "end_time": "2022-03-25T00:30:46.132256",
     "exception": false,
     "start_time": "2022-03-25T00:30:46.084084",
     "status": "completed"
    },
    "tags": []
   },
   "outputs": [
    {
     "name": "stdout",
     "output_type": "stream",
     "text": [
      "xavier\n",
      "xavier\n",
      "xavier\n",
      "xavier\n",
      "xavier\n"
     ]
    }
   ],
   "source": [
    "layers = [Affine(\"first\", 784, 100), Relu(\"first\"), Affine(\"second\", 100, 100), Relu(\"second\"), Affine(\"third\", 100, 2), Affine(\"last\", 2, 1), Sigmoid(\"last\")]\n",
    "model_nn = Model(layers)\n",
    "model_lr = Model([Affine(\"logits\", 784, 1), Sigmoid(\"sigmoid\")])"
   ]
  },
  {
   "cell_type": "code",
   "execution_count": 20,
   "id": "6eede77a",
   "metadata": {
    "execution": {
     "iopub.execute_input": "2022-03-25T00:30:46.198548Z",
     "iopub.status.busy": "2022-03-25T00:30:46.197949Z",
     "iopub.status.idle": "2022-03-25T00:30:46.209801Z",
     "shell.execute_reply": "2022-03-25T00:30:46.209209Z"
    },
    "papermill": {
     "duration": 0.047427,
     "end_time": "2022-03-25T00:30:46.209937",
     "exception": false,
     "start_time": "2022-03-25T00:30:46.162510",
     "status": "completed"
    },
    "tags": []
   },
   "outputs": [],
   "source": [
    "nn_learner = Learner(loss, model_nn, opt, config.num_epochs)\n",
    "acc_nn = ClfCallback(nn_learner, config.bs, training_data_x , testing_data_x, training_data_y, testing_data_y)\n",
    "nn_learner.set_callbacks([acc_nn])"
   ]
  },
  {
   "cell_type": "code",
   "execution_count": 21,
   "id": "877b6cc7",
   "metadata": {
    "execution": {
     "iopub.execute_input": "2022-03-25T00:30:46.290329Z",
     "iopub.status.busy": "2022-03-25T00:30:46.288109Z",
     "iopub.status.idle": "2022-03-25T00:30:46.292416Z",
     "shell.execute_reply": "2022-03-25T00:30:46.292865Z"
    },
    "papermill": {
     "duration": 0.048481,
     "end_time": "2022-03-25T00:30:46.292995",
     "exception": false,
     "start_time": "2022-03-25T00:30:46.244514",
     "status": "completed"
    },
    "tags": []
   },
   "outputs": [],
   "source": [
    "lr_learner = Learner(loss, model_lr, opt, config.num_epochs)\n",
    "acc_lr = ClfCallback(lr_learner, config.bs, training_data_x , testing_data_x, training_data_y, testing_data_y)\n",
    "lr_learner.set_callbacks([acc_lr])"
   ]
  },
  {
   "cell_type": "code",
   "execution_count": 22,
   "id": "d9b133c3",
   "metadata": {
    "execution": {
     "iopub.execute_input": "2022-03-25T00:30:46.364010Z",
     "iopub.status.busy": "2022-03-25T00:30:46.360863Z",
     "iopub.status.idle": "2022-03-25T00:32:44.697348Z",
     "shell.execute_reply": "2022-03-25T00:32:44.698175Z"
    },
    "papermill": {
     "duration": 118.374253,
     "end_time": "2022-03-25T00:32:44.698341",
     "exception": false,
     "start_time": "2022-03-25T00:30:46.324088",
     "status": "completed"
    },
    "tags": []
   },
   "outputs": [
    {
     "name": "stdout",
     "output_type": "stream",
     "text": [
      "Epoch 0, Loss 0.2451\n",
      "Training Accuracy: 0.6523, Testing Accuracy: 0.6457\n",
      "\n"
     ]
    },
    {
     "name": "stdout",
     "output_type": "stream",
     "text": [
      "Epoch 10, Loss 0.1245\n",
      "Training Accuracy: 0.9074, Testing Accuracy: 0.9103\n",
      "\n"
     ]
    },
    {
     "name": "stdout",
     "output_type": "stream",
     "text": [
      "Epoch 20, Loss 0.0668\n",
      "Training Accuracy: 0.9335, Testing Accuracy: 0.9390\n",
      "\n"
     ]
    },
    {
     "name": "stdout",
     "output_type": "stream",
     "text": [
      "Epoch 30, Loss 0.05\n",
      "Training Accuracy: 0.9448, Testing Accuracy: 0.9501\n",
      "\n"
     ]
    },
    {
     "name": "stdout",
     "output_type": "stream",
     "text": [
      "Epoch 40, Loss 0.0422\n",
      "Training Accuracy: 0.9508, Testing Accuracy: 0.9551\n",
      "\n"
     ]
    },
    {
     "name": "stdout",
     "output_type": "stream",
     "text": [
      "Epoch 50, Loss 0.0377\n",
      "Training Accuracy: 0.9560, Testing Accuracy: 0.9597\n",
      "\n"
     ]
    },
    {
     "name": "stdout",
     "output_type": "stream",
     "text": [
      "Epoch 60, Loss 0.0347\n",
      "Training Accuracy: 0.9591, Testing Accuracy: 0.9622\n",
      "\n"
     ]
    },
    {
     "name": "stdout",
     "output_type": "stream",
     "text": [
      "Epoch 70, Loss 0.0325\n",
      "Training Accuracy: 0.9615, Testing Accuracy: 0.9632\n",
      "\n"
     ]
    },
    {
     "name": "stdout",
     "output_type": "stream",
     "text": [
      "Epoch 80, Loss 0.0309\n",
      "Training Accuracy: 0.9627, Testing Accuracy: 0.9647\n",
      "\n"
     ]
    },
    {
     "name": "stdout",
     "output_type": "stream",
     "text": [
      "Epoch 90, Loss 0.0295\n",
      "Training Accuracy: 0.9645, Testing Accuracy: 0.9657\n",
      "\n"
     ]
    },
    {
     "name": "stdout",
     "output_type": "stream",
     "text": [
      "Epoch 100, Loss 0.0284\n",
      "Training Accuracy: 0.9659, Testing Accuracy: 0.9662\n",
      "\n"
     ]
    },
    {
     "name": "stdout",
     "output_type": "stream",
     "text": [
      "Epoch 110, Loss 0.0274\n",
      "Training Accuracy: 0.9665, Testing Accuracy: 0.9662\n",
      "\n"
     ]
    },
    {
     "name": "stdout",
     "output_type": "stream",
     "text": [
      "Epoch 120, Loss 0.0266\n",
      "Training Accuracy: 0.9677, Testing Accuracy: 0.9667\n",
      "\n"
     ]
    },
    {
     "name": "stdout",
     "output_type": "stream",
     "text": [
      "Epoch 130, Loss 0.0258\n",
      "Training Accuracy: 0.9682, Testing Accuracy: 0.9667\n",
      "\n"
     ]
    },
    {
     "name": "stdout",
     "output_type": "stream",
     "text": [
      "Epoch 140, Loss 0.0252\n",
      "Training Accuracy: 0.9693, Testing Accuracy: 0.9672\n",
      "\n"
     ]
    },
    {
     "name": "stdout",
     "output_type": "stream",
     "text": [
      "Epoch 150, Loss 0.0245\n",
      "Training Accuracy: 0.9703, Testing Accuracy: 0.9682\n",
      "\n"
     ]
    },
    {
     "name": "stdout",
     "output_type": "stream",
     "text": [
      "Epoch 160, Loss 0.024\n",
      "Training Accuracy: 0.9716, Testing Accuracy: 0.9688\n",
      "\n"
     ]
    },
    {
     "name": "stdout",
     "output_type": "stream",
     "text": [
      "Epoch 170, Loss 0.0234\n",
      "Training Accuracy: 0.9725, Testing Accuracy: 0.9688\n",
      "\n"
     ]
    },
    {
     "name": "stdout",
     "output_type": "stream",
     "text": [
      "Epoch 180, Loss 0.0229\n",
      "Training Accuracy: 0.9735, Testing Accuracy: 0.9688\n",
      "\n"
     ]
    },
    {
     "name": "stdout",
     "output_type": "stream",
     "text": [
      "Epoch 190, Loss 0.0224\n",
      "Training Accuracy: 0.9740, Testing Accuracy: 0.9688\n",
      "\n"
     ]
    },
    {
     "name": "stdout",
     "output_type": "stream",
     "text": [
      "Epoch 200, Loss 0.0219\n",
      "Training Accuracy: 0.9747, Testing Accuracy: 0.9693\n",
      "\n"
     ]
    },
    {
     "name": "stdout",
     "output_type": "stream",
     "text": [
      "Epoch 210, Loss 0.0214\n",
      "Training Accuracy: 0.9755, Testing Accuracy: 0.9693\n",
      "\n"
     ]
    },
    {
     "name": "stdout",
     "output_type": "stream",
     "text": [
      "Epoch 220, Loss 0.021\n",
      "Training Accuracy: 0.9757, Testing Accuracy: 0.9693\n",
      "\n"
     ]
    },
    {
     "name": "stdout",
     "output_type": "stream",
     "text": [
      "Epoch 230, Loss 0.0206\n",
      "Training Accuracy: 0.9765, Testing Accuracy: 0.9698\n",
      "\n"
     ]
    },
    {
     "name": "stdout",
     "output_type": "stream",
     "text": [
      "Epoch 240, Loss 0.0202\n",
      "Training Accuracy: 0.9778, Testing Accuracy: 0.9708\n",
      "\n"
     ]
    },
    {
     "data": {
      "text/plain": [
       "0.04163972418261865"
      ]
     },
     "execution_count": 22,
     "metadata": {},
     "output_type": "execute_result"
    }
   ],
   "source": [
    "nn_learner.train_loop(dl)"
   ]
  },
  {
   "cell_type": "code",
   "execution_count": 23,
   "id": "e0163366",
   "metadata": {
    "execution": {
     "iopub.execute_input": "2022-03-25T00:32:44.788829Z",
     "iopub.status.busy": "2022-03-25T00:32:44.788242Z",
     "iopub.status.idle": "2022-03-25T00:33:02.143639Z",
     "shell.execute_reply": "2022-03-25T00:33:02.144211Z"
    },
    "papermill": {
     "duration": 17.404746,
     "end_time": "2022-03-25T00:33:02.144369",
     "exception": false,
     "start_time": "2022-03-25T00:32:44.739623",
     "status": "completed"
    },
    "tags": []
   },
   "outputs": [
    {
     "name": "stdout",
     "output_type": "stream",
     "text": [
      "Epoch 0, Loss 0.2537\n",
      "Training Accuracy: 0.6353, Testing Accuracy: 0.6074\n",
      "\n"
     ]
    },
    {
     "name": "stdout",
     "output_type": "stream",
     "text": [
      "Epoch 10, Loss 0.107\n",
      "Training Accuracy: 0.8995, Testing Accuracy: 0.9057\n",
      "\n"
     ]
    },
    {
     "name": "stdout",
     "output_type": "stream",
     "text": [
      "Epoch 20, Loss 0.0813\n",
      "Training Accuracy: 0.9236, Testing Accuracy: 0.9309\n",
      "\n"
     ]
    },
    {
     "name": "stdout",
     "output_type": "stream",
     "text": [
      "Epoch 30, Loss 0.0695\n",
      "Training Accuracy: 0.9339, Testing Accuracy: 0.9446\n",
      "\n"
     ]
    },
    {
     "name": "stdout",
     "output_type": "stream",
     "text": [
      "Epoch 40, Loss 0.0624\n",
      "Training Accuracy: 0.9395, Testing Accuracy: 0.9496\n",
      "\n"
     ]
    },
    {
     "name": "stdout",
     "output_type": "stream",
     "text": [
      "Epoch 50, Loss 0.0576\n",
      "Training Accuracy: 0.9440, Testing Accuracy: 0.9541\n",
      "\n"
     ]
    },
    {
     "name": "stdout",
     "output_type": "stream",
     "text": [
      "Epoch 60, Loss 0.0541\n",
      "Training Accuracy: 0.9477, Testing Accuracy: 0.9556\n",
      "\n"
     ]
    },
    {
     "name": "stdout",
     "output_type": "stream",
     "text": [
      "Epoch 70, Loss 0.0515\n",
      "Training Accuracy: 0.9492, Testing Accuracy: 0.9572\n",
      "\n"
     ]
    },
    {
     "name": "stdout",
     "output_type": "stream",
     "text": [
      "Epoch 80, Loss 0.0493\n",
      "Training Accuracy: 0.9508, Testing Accuracy: 0.9577\n",
      "\n"
     ]
    },
    {
     "name": "stdout",
     "output_type": "stream",
     "text": [
      "Epoch 90, Loss 0.0476\n",
      "Training Accuracy: 0.9518, Testing Accuracy: 0.9587\n",
      "\n"
     ]
    },
    {
     "name": "stdout",
     "output_type": "stream",
     "text": [
      "Epoch 100, Loss 0.0461\n",
      "Training Accuracy: 0.9533, Testing Accuracy: 0.9592\n",
      "\n"
     ]
    },
    {
     "name": "stdout",
     "output_type": "stream",
     "text": [
      "Epoch 110, Loss 0.0449\n",
      "Training Accuracy: 0.9540, Testing Accuracy: 0.9612\n",
      "\n"
     ]
    },
    {
     "name": "stdout",
     "output_type": "stream",
     "text": [
      "Epoch 120, Loss 0.0438\n",
      "Training Accuracy: 0.9547, Testing Accuracy: 0.9617\n",
      "\n"
     ]
    },
    {
     "name": "stdout",
     "output_type": "stream",
     "text": [
      "Epoch 130, Loss 0.0428\n",
      "Training Accuracy: 0.9555, Testing Accuracy: 0.9617\n",
      "\n"
     ]
    },
    {
     "name": "stdout",
     "output_type": "stream",
     "text": [
      "Epoch 140, Loss 0.042\n",
      "Training Accuracy: 0.9566, Testing Accuracy: 0.9612\n",
      "\n"
     ]
    },
    {
     "name": "stdout",
     "output_type": "stream",
     "text": [
      "Epoch 150, Loss 0.0412\n",
      "Training Accuracy: 0.9571, Testing Accuracy: 0.9612\n",
      "\n"
     ]
    },
    {
     "name": "stdout",
     "output_type": "stream",
     "text": [
      "Epoch 160, Loss 0.0406\n",
      "Training Accuracy: 0.9576, Testing Accuracy: 0.9627\n",
      "\n"
     ]
    },
    {
     "name": "stdout",
     "output_type": "stream",
     "text": [
      "Epoch 170, Loss 0.0399\n",
      "Training Accuracy: 0.9582, Testing Accuracy: 0.9637\n",
      "\n"
     ]
    },
    {
     "name": "stdout",
     "output_type": "stream",
     "text": [
      "Epoch 180, Loss 0.0394\n",
      "Training Accuracy: 0.9584, Testing Accuracy: 0.9647\n",
      "\n"
     ]
    },
    {
     "name": "stdout",
     "output_type": "stream",
     "text": [
      "Epoch 190, Loss 0.0388\n",
      "Training Accuracy: 0.9586, Testing Accuracy: 0.9647\n",
      "\n"
     ]
    },
    {
     "name": "stdout",
     "output_type": "stream",
     "text": [
      "Epoch 200, Loss 0.0384\n",
      "Training Accuracy: 0.9592, Testing Accuracy: 0.9647\n",
      "\n"
     ]
    },
    {
     "name": "stdout",
     "output_type": "stream",
     "text": [
      "Epoch 210, Loss 0.0379\n",
      "Training Accuracy: 0.9599, Testing Accuracy: 0.9647\n",
      "\n"
     ]
    },
    {
     "name": "stdout",
     "output_type": "stream",
     "text": [
      "Epoch 220, Loss 0.0375\n",
      "Training Accuracy: 0.9603, Testing Accuracy: 0.9652\n",
      "\n"
     ]
    },
    {
     "name": "stdout",
     "output_type": "stream",
     "text": [
      "Epoch 230, Loss 0.0371\n",
      "Training Accuracy: 0.9609, Testing Accuracy: 0.9652\n",
      "\n"
     ]
    },
    {
     "name": "stdout",
     "output_type": "stream",
     "text": [
      "Epoch 240, Loss 0.0368\n",
      "Training Accuracy: 0.9613, Testing Accuracy: 0.9657\n",
      "\n"
     ]
    },
    {
     "data": {
      "text/plain": [
       "0.01816501428812271"
      ]
     },
     "execution_count": 23,
     "metadata": {},
     "output_type": "execute_result"
    }
   ],
   "source": [
    "lr_learner.train_loop(dl)"
   ]
  },
  {
   "cell_type": "code",
   "execution_count": 24,
   "id": "ca410940",
   "metadata": {
    "execution": {
     "iopub.execute_input": "2022-03-25T00:33:02.238131Z",
     "iopub.status.busy": "2022-03-25T00:33:02.237540Z",
     "iopub.status.idle": "2022-03-25T00:33:02.514914Z",
     "shell.execute_reply": "2022-03-25T00:33:02.514392Z"
    },
    "papermill": {
     "duration": 0.32586,
     "end_time": "2022-03-25T00:33:02.515046",
     "exception": false,
     "start_time": "2022-03-25T00:33:02.189186",
     "status": "completed"
    },
    "tags": []
   },
   "outputs": [
    {
     "data": {
      "text/plain": [
       "<matplotlib.legend.Legend at 0x7f558536acf8>"
      ]
     },
     "execution_count": 24,
     "metadata": {},
     "output_type": "execute_result"
    },
    {
     "data": {
      "image/png": "[encoded data removed]",
      "text/plain": [
       "<Figure size 1080x720 with 1 Axes>"
      ]
     },
     "metadata": {
      "needs_background": "light"
     },
     "output_type": "display_data"
    }
   ],
   "source": [
    "#comparing the results of NN and LR\n",
    "plt.figure(figsize=(15,10))\n",
    "\n",
    "# Neural Network plots\n",
    "plt.plot(acc_nn.accuracies, 'r-', label = \"Training Accuracies - NN\")\n",
    "plt.plot(acc_nn.test_accuracies, 'g-', label = \"Testing Accuracies - NN\")\n",
    "\n",
    "# Logistic Regression plots\n",
    "plt.plot(acc_lr.accuracies, 'k-', label = \"Training Accuracies - LR\")\n",
    "plt.plot(acc_lr.test_accuracies, 'b-', label = \"Testing Accuracies - LR\")\n",
    "plt.legend()"
   ]
  },
  {
   "cell_type": "markdown",
   "id": "80dfb35c",
   "metadata": {
    "papermill": {
     "duration": 0.046695,
     "end_time": "2022-03-25T00:33:02.608654",
     "exception": false,
     "start_time": "2022-03-25T00:33:02.561959",
     "status": "completed"
    },
    "tags": []
   },
   "source": [
    "#### Plotting the outputs of this layer of the NN.\n"
   ]
  },
  {
   "cell_type": "code",
   "execution_count": 25,
   "id": "45eb2ff5",
   "metadata": {
    "execution": {
     "iopub.execute_input": "2022-03-25T00:33:02.706776Z",
     "iopub.status.busy": "2022-03-25T00:33:02.706069Z",
     "iopub.status.idle": "2022-03-25T00:33:02.728827Z",
     "shell.execute_reply": "2022-03-25T00:33:02.729321Z"
    },
    "papermill": {
     "duration": 0.072971,
     "end_time": "2022-03-25T00:33:02.729475",
     "exception": false,
     "start_time": "2022-03-25T00:33:02.656504",
     "status": "completed"
    },
    "tags": []
   },
   "outputs": [],
   "source": [
    "new_model = Model(layers[:-2])\n",
    "testing_plot = new_model(testing_data_x)"
   ]
  },
  {
   "cell_type": "code",
   "execution_count": 26,
   "id": "4c0a5485",
   "metadata": {
    "execution": {
     "iopub.execute_input": "2022-03-25T00:33:02.834645Z",
     "iopub.status.busy": "2022-03-25T00:33:02.834024Z",
     "iopub.status.idle": "2022-03-25T00:33:03.063279Z",
     "shell.execute_reply": "2022-03-25T00:33:03.062683Z"
    },
    "papermill": {
     "duration": 0.287333,
     "end_time": "2022-03-25T00:33:03.063413",
     "exception": false,
     "start_time": "2022-03-25T00:33:02.776080",
     "status": "completed"
    },
    "tags": []
   },
   "outputs": [
    {
     "data": {
      "text/plain": [
       "Text(0.5, 1.0, 'Outputs')"
      ]
     },
     "execution_count": 26,
     "metadata": {},
     "output_type": "execute_result"
    },
    {
     "data": {
      "image/png": "[encoded data removed]",
      "text/plain": [
       "<Figure size 576x504 with 1 Axes>"
      ]
     },
     "metadata": {
      "needs_background": "light"
     },
     "output_type": "display_data"
    }
   ],
   "source": [
    "# Plotting the scatter plot of points and color coding by class\n",
    "plt.figure(figsize=(8,7))\n",
    "plt.scatter(testing_plot[:,0], testing_plot[:,1], alpha = 0.1, c = y_test.ravel());\n",
    "plt.title('Outputs')"
   ]
  },
  {
   "cell_type": "markdown",
   "id": "a74fcf8f",
   "metadata": {
    "papermill": {
     "duration": 0.048634,
     "end_time": "2022-03-25T00:33:03.162626",
     "exception": false,
     "start_time": "2022-03-25T00:33:03.113992",
     "status": "completed"
    },
    "tags": []
   },
   "source": [
    "Probability contours"
   ]
  },
  {
   "cell_type": "code",
   "execution_count": 27,
   "id": "d0afc8e3",
   "metadata": {
    "execution": {
     "iopub.execute_input": "2022-03-25T00:33:03.287500Z",
     "iopub.status.busy": "2022-03-25T00:33:03.286890Z",
     "iopub.status.idle": "2022-03-25T00:33:03.297492Z",
     "shell.execute_reply": "2022-03-25T00:33:03.296992Z"
    },
    "papermill": {
     "duration": 0.065443,
     "end_time": "2022-03-25T00:33:03.297611",
     "exception": false,
     "start_time": "2022-03-25T00:33:03.232168",
     "status": "completed"
    },
    "tags": []
   },
   "outputs": [],
   "source": [
    "model_prob = Model(layers[-2:]) "
   ]
  },
  {
   "cell_type": "code",
   "execution_count": 28,
   "id": "9b96e238",
   "metadata": {
    "execution": {
     "iopub.execute_input": "2022-03-25T00:33:03.405911Z",
     "iopub.status.busy": "2022-03-25T00:33:03.403810Z",
     "iopub.status.idle": "2022-03-25T00:33:03.420262Z",
     "shell.execute_reply": "2022-03-25T00:33:03.420906Z"
    },
    "papermill": {
     "duration": 0.074098,
     "end_time": "2022-03-25T00:33:03.421058",
     "exception": false,
     "start_time": "2022-03-25T00:33:03.346960",
     "status": "completed"
    },
    "tags": []
   },
   "outputs": [],
   "source": [
    "#creating the x and y ranges according to the above generated plot.\n",
    "x_range = np.linspace(-4, 1, 100) \n",
    "y_range = np.linspace(-6, 6, 100) \n",
    "x_grid, y_grid = np.meshgrid(x_range, y_range) # x_grid and y_grig are of size 100 X 100\n",
    "\n",
    "# converting x_grid and y_grid to continuous arrays\n",
    "x_gridflat = np.ravel(x_grid)\n",
    "y_gridflat = np.ravel(y_grid)\n",
    "\n",
    "# The last layer of the current model takes two columns as input. Hence transpose of np.vstack() is required.\n",
    "X = np.vstack((x_gridflat, y_gridflat)).T\n",
    "\n",
    "prob_contour = model_prob(X).reshape(100,100) "
   ]
  },
  {
   "cell_type": "code",
   "execution_count": 29,
   "id": "da72499a",
   "metadata": {
    "execution": {
     "iopub.execute_input": "2022-03-25T00:33:03.526300Z",
     "iopub.status.busy": "2022-03-25T00:33:03.525713Z",
     "iopub.status.idle": "2022-03-25T00:33:03.824436Z",
     "shell.execute_reply": "2022-03-25T00:33:03.823609Z"
    },
    "papermill": {
     "duration": 0.35243,
     "end_time": "2022-03-25T00:33:03.824565",
     "exception": false,
     "start_time": "2022-03-25T00:33:03.472135",
     "status": "completed"
    },
    "tags": []
   },
   "outputs": [
    {
     "data": {
      "image/png": "[encoded data removed]",
      "text/plain": [
       "<Figure size 720x648 with 1 Axes>"
      ]
     },
     "metadata": {
      "needs_background": "light"
     },
     "output_type": "display_data"
    }
   ],
   "source": [
    "plt.figure(figsize=(10,9))\n",
    "plt.scatter(testing_plot[:,0], testing_plot[:,1], alpha = 0.1, c = y_test.ravel())\n",
    "contours = plt.contour(x_grid,y_grid,prob_contour)\n",
    "plt.title('Probability Contours')\n",
    "plt.clabel(contours, inline = True );"
   ]
  },
  {
   "cell_type": "code",
   "execution_count": null,
   "id": "e81b4ac7",
   "metadata": {
    "papermill": {
     "duration": 0.051193,
     "end_time": "2022-03-25T00:33:03.927020",
     "exception": false,
     "start_time": "2022-03-25T00:33:03.875827",
     "status": "completed"
    },
    "tags": []
   },
   "outputs": [],
   "source": []
  }
 ],
 "metadata": {
  "kernelspec": {
   "display_name": "Python 3",
   "language": "python",
   "name": "python3"
  },
  "language_info": {
   "codemirror_mode": {
    "name": "ipython",
    "version": 3
   },
   "file_extension": ".py",
   "mimetype": "text/x-python",
   "name": "python",
   "nbconvert_exporter": "python",
   "pygments_lexer": "ipython3",
   "version": "3.6.15"
  },
  "papermill": {
   "default_parameters": {},
   "duration": 145.095085,
   "end_time": "2022-03-25T00:33:04.297122",
   "environment_variables": {},
   "exception": null,
   "input_path": "2020-08-11-part2.ipynb",
   "output_path": "2020-08-11-part2.ipynb",
   "parameters": {},
   "start_time": "2022-03-25T00:30:39.202037",
   "version": "2.3.3"
  }
 },
 "nbformat": 4,
 "nbformat_minor": 5
}