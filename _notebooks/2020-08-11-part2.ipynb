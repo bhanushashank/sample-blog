{
 "cells": [
  {
   "cell_type": "markdown",
   "id": "98380cd3",
   "metadata": {
    "papermill": {
     "duration": 0.027911,
     "end_time": "2021-09-11T10:06:50.446797",
     "exception": false,
     "start_time": "2021-09-11T10:06:50.418886",
     "status": "completed"
    },
    "tags": []
   },
   "source": [
    "# Distinguish Your Own Digits (DYOD)"
   ]
  },
  {
   "cell_type": "markdown",
   "id": "ef31240d",
   "metadata": {
    "papermill": {
     "duration": 0.02372,
     "end_time": "2021-09-11T10:06:50.494487",
     "exception": false,
     "start_time": "2021-09-11T10:06:50.470767",
     "status": "completed"
    },
    "tags": []
   },
   "source": [
    "You are going to write a classifier that distinguishes between the number 3 and number 8."
   ]
  },
  {
   "cell_type": "code",
   "execution_count": 1,
   "id": "b15c8646",
   "metadata": {
    "execution": {
     "iopub.execute_input": "2021-09-11T10:06:50.556689Z",
     "iopub.status.busy": "2021-09-11T10:06:50.556105Z",
     "iopub.status.idle": "2021-09-11T10:06:50.565107Z",
     "shell.execute_reply": "2021-09-11T10:06:50.565631Z"
    },
    "papermill": {
     "duration": 0.044958,
     "end_time": "2021-09-11T10:06:50.565764",
     "exception": false,
     "start_time": "2021-09-11T10:06:50.520806",
     "status": "completed"
    },
    "tags": []
   },
   "outputs": [],
   "source": [
    "%load_ext autoreload\n",
    "%autoreload 2"
   ]
  },
  {
   "cell_type": "code",
   "execution_count": 2,
   "id": "22ef38dc",
   "metadata": {
    "execution": {
     "iopub.execute_input": "2021-09-11T10:06:50.618242Z",
     "iopub.status.busy": "2021-09-11T10:06:50.617634Z",
     "iopub.status.idle": "2021-09-11T10:06:51.128091Z",
     "shell.execute_reply": "2021-09-11T10:06:51.127625Z"
    },
    "papermill": {
     "duration": 0.539223,
     "end_time": "2021-09-11T10:06:51.128216",
     "exception": false,
     "start_time": "2021-09-11T10:06:50.588993",
     "status": "completed"
    },
    "tags": []
   },
   "outputs": [],
   "source": [
    "%matplotlib inline\n",
    "import numpy as np\n",
    "import matplotlib.pyplot as plt\n",
    "import pandas as pd"
   ]
  },
  {
   "cell_type": "markdown",
   "id": "ba036198",
   "metadata": {
    "papermill": {
     "duration": 0.02434,
     "end_time": "2021-09-11T10:06:51.179575",
     "exception": false,
     "start_time": "2021-09-11T10:06:51.155235",
     "status": "completed"
    },
    "tags": []
   },
   "source": [
    "From the command line run `pip install mnist`. This is a library that will help you bring down the mnist dataset. If you run this from a notebook, you need to put  `!pip install mnist` in a cell by itself."
   ]
  },
  {
   "cell_type": "code",
   "execution_count": 3,
   "id": "bb6ad8a1",
   "metadata": {
    "execution": {
     "iopub.execute_input": "2021-09-11T10:06:51.233993Z",
     "iopub.status.busy": "2021-09-11T10:06:51.233283Z",
     "iopub.status.idle": "2021-09-11T10:06:53.010752Z",
     "shell.execute_reply": "2021-09-11T10:06:53.010265Z"
    },
    "papermill": {
     "duration": 1.805898,
     "end_time": "2021-09-11T10:06:53.010874",
     "exception": false,
     "start_time": "2021-09-11T10:06:51.204976",
     "status": "completed"
    },
    "tags": []
   },
   "outputs": [
    {
     "name": "stdout",
     "output_type": "stream",
     "text": [
      "Collecting mnist\r\n"
     ]
    },
    {
     "name": "stdout",
     "output_type": "stream",
     "text": [
      "  Downloading mnist-0.2.2-py2.py3-none-any.whl (3.5 kB)\r\n",
      "Requirement already satisfied: numpy in /opt/hostedtoolcache/Python/3.6.14/x64/lib/python3.6/site-packages (from mnist) (1.19.5)\r\n"
     ]
    },
    {
     "name": "stdout",
     "output_type": "stream",
     "text": [
      "Installing collected packages: mnist\r\n"
     ]
    },
    {
     "name": "stdout",
     "output_type": "stream",
     "text": [
      "Successfully installed mnist-0.2.2\r\n"
     ]
    }
   ],
   "source": [
    "!pip install mnist"
   ]
  },
  {
   "cell_type": "markdown",
   "id": "69df9c9a",
   "metadata": {
    "papermill": {
     "duration": 0.028864,
     "end_time": "2021-09-11T10:06:53.067060",
     "exception": false,
     "start_time": "2021-09-11T10:06:53.038196",
     "status": "completed"
    },
    "tags": []
   },
   "source": [
    "## Preparing the Data"
   ]
  },
  {
   "cell_type": "code",
   "execution_count": 4,
   "id": "7f69d806",
   "metadata": {
    "execution": {
     "iopub.execute_input": "2021-09-11T10:06:53.127060Z",
     "iopub.status.busy": "2021-09-11T10:06:53.126517Z",
     "iopub.status.idle": "2021-09-11T10:06:53.138946Z",
     "shell.execute_reply": "2021-09-11T10:06:53.139904Z"
    },
    "papermill": {
     "duration": 0.045681,
     "end_time": "2021-09-11T10:06:53.140063",
     "exception": false,
     "start_time": "2021-09-11T10:06:53.094382",
     "status": "completed"
    },
    "tags": []
   },
   "outputs": [],
   "source": [
    "import mnist"
   ]
  },
  {
   "cell_type": "code",
   "execution_count": 5,
   "id": "a411e44f",
   "metadata": {
    "execution": {
     "iopub.execute_input": "2021-09-11T10:06:53.194691Z",
     "iopub.status.busy": "2021-09-11T10:06:53.194160Z",
     "iopub.status.idle": "2021-09-11T10:06:53.888608Z",
     "shell.execute_reply": "2021-09-11T10:06:53.889026Z"
    },
    "papermill": {
     "duration": 0.722726,
     "end_time": "2021-09-11T10:06:53.889169",
     "exception": false,
     "start_time": "2021-09-11T10:06:53.166443",
     "status": "completed"
    },
    "tags": []
   },
   "outputs": [],
   "source": [
    "train_images = mnist.train_images()\n",
    "train_labels = mnist.train_labels()"
   ]
  },
  {
   "cell_type": "code",
   "execution_count": 6,
   "id": "dceab3a5",
   "metadata": {
    "execution": {
     "iopub.execute_input": "2021-09-11T10:06:53.948844Z",
     "iopub.status.busy": "2021-09-11T10:06:53.948231Z",
     "iopub.status.idle": "2021-09-11T10:06:53.957862Z",
     "shell.execute_reply": "2021-09-11T10:06:53.957309Z"
    },
    "papermill": {
     "duration": 0.043607,
     "end_time": "2021-09-11T10:06:53.957959",
     "exception": false,
     "start_time": "2021-09-11T10:06:53.914352",
     "status": "completed"
    },
    "tags": []
   },
   "outputs": [
    {
     "data": {
      "text/plain": [
       "((60000, 28, 28), (60000,))"
      ]
     },
     "execution_count": 6,
     "metadata": {},
     "output_type": "execute_result"
    }
   ],
   "source": [
    "train_images.shape, train_labels.shape"
   ]
  },
  {
   "cell_type": "code",
   "execution_count": 7,
   "id": "f50dc2bb",
   "metadata": {
    "execution": {
     "iopub.execute_input": "2021-09-11T10:06:54.018248Z",
     "iopub.status.busy": "2021-09-11T10:06:54.014850Z",
     "iopub.status.idle": "2021-09-11T10:06:54.285392Z",
     "shell.execute_reply": "2021-09-11T10:06:54.284934Z"
    },
    "papermill": {
     "duration": 0.300331,
     "end_time": "2021-09-11T10:06:54.285512",
     "exception": false,
     "start_time": "2021-09-11T10:06:53.985181",
     "status": "completed"
    },
    "tags": []
   },
   "outputs": [],
   "source": [
    "test_images = mnist.test_images()\n",
    "test_labels = mnist.test_labels()"
   ]
  },
  {
   "cell_type": "code",
   "execution_count": 8,
   "id": "fc38cf1b",
   "metadata": {
    "execution": {
     "iopub.execute_input": "2021-09-11T10:06:54.347791Z",
     "iopub.status.busy": "2021-09-11T10:06:54.347223Z",
     "iopub.status.idle": "2021-09-11T10:06:54.360512Z",
     "shell.execute_reply": "2021-09-11T10:06:54.360020Z"
    },
    "papermill": {
     "duration": 0.046709,
     "end_time": "2021-09-11T10:06:54.360625",
     "exception": false,
     "start_time": "2021-09-11T10:06:54.313916",
     "status": "completed"
    },
    "tags": []
   },
   "outputs": [
    {
     "data": {
      "text/plain": [
       "((10000, 28, 28), (10000,))"
      ]
     },
     "execution_count": 8,
     "metadata": {},
     "output_type": "execute_result"
    }
   ],
   "source": [
    "test_images.shape, test_labels.shape"
   ]
  },
  {
   "cell_type": "code",
   "execution_count": 9,
   "id": "f9ed8fe0",
   "metadata": {
    "execution": {
     "iopub.execute_input": "2021-09-11T10:06:54.419538Z",
     "iopub.status.busy": "2021-09-11T10:06:54.418944Z",
     "iopub.status.idle": "2021-09-11T10:06:54.585169Z",
     "shell.execute_reply": "2021-09-11T10:06:54.584630Z"
    },
    "papermill": {
     "duration": 0.197592,
     "end_time": "2021-09-11T10:06:54.585320",
     "exception": false,
     "start_time": "2021-09-11T10:06:54.387728",
     "status": "completed"
    },
    "tags": []
   },
   "outputs": [
    {
     "name": "stdout",
     "output_type": "stream",
     "text": [
      "2\n"
     ]
    },
    {
     "data": {
      "text/plain": [
       "<matplotlib.image.AxesImage at 0x7f6e30f1fe48>"
      ]
     },
     "execution_count": 9,
     "metadata": {},
     "output_type": "execute_result"
    },
    {
     "data": {
      "image/png": "[encoded data removed]",
      "text/plain": [
       "<Figure size 432x288 with 1 Axes>"
      ]
     },
     "metadata": {
      "needs_background": "light"
     },
     "output_type": "display_data"
    }
   ],
   "source": [
    "image_index = 7776 # You may select anything up to 60,000\n",
    "print(train_labels[image_index]) \n",
    "plt.imshow(train_images[image_index], cmap='Greys')"
   ]
  },
  {
   "cell_type": "markdown",
   "id": "a8d2388d",
   "metadata": {
    "papermill": {
     "duration": 0.026992,
     "end_time": "2021-09-11T10:06:54.639189",
     "exception": false,
     "start_time": "2021-09-11T10:06:54.612197",
     "status": "completed"
    },
    "tags": []
   },
   "source": [
    "## Filter data to get 3 and 8 out"
   ]
  },
  {
   "cell_type": "code",
   "execution_count": 10,
   "id": "776f7fc7",
   "metadata": {
    "execution": {
     "iopub.execute_input": "2021-09-11T10:06:54.702501Z",
     "iopub.status.busy": "2021-09-11T10:06:54.697890Z",
     "iopub.status.idle": "2021-09-11T10:06:54.714565Z",
     "shell.execute_reply": "2021-09-11T10:06:54.714998Z"
    },
    "papermill": {
     "duration": 0.048335,
     "end_time": "2021-09-11T10:06:54.715120",
     "exception": false,
     "start_time": "2021-09-11T10:06:54.666785",
     "status": "completed"
    },
    "tags": []
   },
   "outputs": [],
   "source": [
    "train_filter = np.where((train_labels == 3 ) | (train_labels == 8))\n",
    "test_filter = np.where((test_labels == 3) | (test_labels == 8))\n",
    "X_train, y_train = train_images[train_filter], train_labels[train_filter]\n",
    "X_test, y_test = test_images[test_filter], test_labels[test_filter]"
   ]
  },
  {
   "cell_type": "markdown",
   "id": "948f0b7e",
   "metadata": {
    "papermill": {
     "duration": 0.02699,
     "end_time": "2021-09-11T10:06:54.769359",
     "exception": false,
     "start_time": "2021-09-11T10:06:54.742369",
     "status": "completed"
    },
    "tags": []
   },
   "source": [
    "We normalize the pizel values in the 0 to 1 range"
   ]
  },
  {
   "cell_type": "code",
   "execution_count": 11,
   "id": "ee4c2166",
   "metadata": {
    "execution": {
     "iopub.execute_input": "2021-09-11T10:06:54.830976Z",
     "iopub.status.busy": "2021-09-11T10:06:54.830452Z",
     "iopub.status.idle": "2021-09-11T10:06:54.881874Z",
     "shell.execute_reply": "2021-09-11T10:06:54.881383Z"
    },
    "papermill": {
     "duration": 0.085757,
     "end_time": "2021-09-11T10:06:54.881992",
     "exception": false,
     "start_time": "2021-09-11T10:06:54.796235",
     "status": "completed"
    },
    "tags": []
   },
   "outputs": [],
   "source": [
    "X_train = X_train/255.\n",
    "X_test = X_test/255."
   ]
  },
  {
   "cell_type": "markdown",
   "id": "ddcf4fab",
   "metadata": {
    "papermill": {
     "duration": 0.0278,
     "end_time": "2021-09-11T10:06:54.937334",
     "exception": false,
     "start_time": "2021-09-11T10:06:54.909534",
     "status": "completed"
    },
    "tags": []
   },
   "source": [
    "And setup the labels as 1 (when the digit is 3) and 0 (when the digit is 8)"
   ]
  },
  {
   "cell_type": "code",
   "execution_count": 12,
   "id": "7dc908f2",
   "metadata": {
    "execution": {
     "iopub.execute_input": "2021-09-11T10:06:54.998749Z",
     "iopub.status.busy": "2021-09-11T10:06:54.998166Z",
     "iopub.status.idle": "2021-09-11T10:06:55.008634Z",
     "shell.execute_reply": "2021-09-11T10:06:55.009168Z"
    },
    "papermill": {
     "duration": 0.042801,
     "end_time": "2021-09-11T10:06:55.009295",
     "exception": false,
     "start_time": "2021-09-11T10:06:54.966494",
     "status": "completed"
    },
    "tags": []
   },
   "outputs": [],
   "source": [
    "y_train = 1*(y_train==3)\n",
    "y_test = 1*(y_test==3)"
   ]
  },
  {
   "cell_type": "code",
   "execution_count": 13,
   "id": "01e4e969",
   "metadata": {
    "execution": {
     "iopub.execute_input": "2021-09-11T10:06:55.072640Z",
     "iopub.status.busy": "2021-09-11T10:06:55.072074Z",
     "iopub.status.idle": "2021-09-11T10:06:55.085789Z",
     "shell.execute_reply": "2021-09-11T10:06:55.085297Z"
    },
    "papermill": {
     "duration": 0.048345,
     "end_time": "2021-09-11T10:06:55.085901",
     "exception": false,
     "start_time": "2021-09-11T10:06:55.037556",
     "status": "completed"
    },
    "tags": []
   },
   "outputs": [
    {
     "data": {
      "text/plain": [
       "((11982, 28, 28), (1984, 28, 28))"
      ]
     },
     "execution_count": 13,
     "metadata": {},
     "output_type": "execute_result"
    }
   ],
   "source": [
    "X_train.shape, X_test.shape"
   ]
  },
  {
   "cell_type": "markdown",
   "id": "5ccf3f85",
   "metadata": {
    "papermill": {
     "duration": 0.029117,
     "end_time": "2021-09-11T10:06:55.145657",
     "exception": false,
     "start_time": "2021-09-11T10:06:55.116540",
     "status": "completed"
    },
    "tags": []
   },
   "source": [
    "We reshape the data to flatten the image pixels into a set of features or co-variates:"
   ]
  },
  {
   "cell_type": "code",
   "execution_count": 14,
   "id": "5286a4a3",
   "metadata": {
    "execution": {
     "iopub.execute_input": "2021-09-11T10:06:55.213842Z",
     "iopub.status.busy": "2021-09-11T10:06:55.213226Z",
     "iopub.status.idle": "2021-09-11T10:06:55.226100Z",
     "shell.execute_reply": "2021-09-11T10:06:55.225630Z"
    },
    "papermill": {
     "duration": 0.050704,
     "end_time": "2021-09-11T10:06:55.226211",
     "exception": false,
     "start_time": "2021-09-11T10:06:55.175507",
     "status": "completed"
    },
    "tags": []
   },
   "outputs": [
    {
     "data": {
      "text/plain": [
       "((11982, 784), (1984, 784))"
      ]
     },
     "execution_count": 14,
     "metadata": {},
     "output_type": "execute_result"
    }
   ],
   "source": [
    "X_train = X_train.reshape(X_train.shape[0], -1)\n",
    "X_test = X_test.reshape(X_test.shape[0], -1)\n",
    "X_train.shape, X_test.shape"
   ]
  },
  {
   "cell_type": "code",
   "execution_count": 15,
   "id": "73c5f88a",
   "metadata": {
    "execution": {
     "iopub.execute_input": "2021-09-11T10:06:55.292642Z",
     "iopub.status.busy": "2021-09-11T10:06:55.292026Z",
     "iopub.status.idle": "2021-09-11T10:06:55.311625Z",
     "shell.execute_reply": "2021-09-11T10:06:55.311093Z"
    },
    "papermill": {
     "duration": 0.054422,
     "end_time": "2021-09-11T10:06:55.311752",
     "exception": false,
     "start_time": "2021-09-11T10:06:55.257330",
     "status": "completed"
    },
    "tags": []
   },
   "outputs": [],
   "source": [
    "#Impoting functions from 'Kudzu'\n",
    "from kudzu.model import Model\n",
    "from kudzu.train import Learner\n",
    "from kudzu.optim import GD\n",
    "from kudzu.data import Data, Sampler,Dataloader\n",
    "\n",
    "from kudzu.callbacks import AccCallback\n",
    "from kudzu.callbacks import ClfCallback\n",
    "\n",
    "from kudzu.loss import MSE\n",
    "\n",
    "from kudzu.layer import Sigmoid,Relu\n",
    "from kudzu.layer import Affine"
   ]
  },
  {
   "cell_type": "markdown",
   "id": "bc01172a",
   "metadata": {
    "papermill": {
     "duration": 0.030694,
     "end_time": "2021-09-11T10:06:55.374251",
     "exception": false,
     "start_time": "2021-09-11T10:06:55.343557",
     "status": "completed"
    },
    "tags": []
   },
   "source": [
    "### Let us create a `Config` class, to store important parameters. \n",
    "This class essentially plays the role of a dictionary."
   ]
  },
  {
   "cell_type": "code",
   "execution_count": 16,
   "id": "978281aa",
   "metadata": {
    "execution": {
     "iopub.execute_input": "2021-09-11T10:06:55.440022Z",
     "iopub.status.busy": "2021-09-11T10:06:55.439332Z",
     "iopub.status.idle": "2021-09-11T10:06:55.448462Z",
     "shell.execute_reply": "2021-09-11T10:06:55.448877Z"
    },
    "papermill": {
     "duration": 0.043682,
     "end_time": "2021-09-11T10:06:55.448998",
     "exception": false,
     "start_time": "2021-09-11T10:06:55.405316",
     "status": "completed"
    },
    "tags": []
   },
   "outputs": [],
   "source": [
    "class Config:\n",
    "    pass\n",
    "config = Config()\n",
    "config.lr = 0.001\n",
    "config.num_epochs = 250\n",
    "config.bs = 50"
   ]
  },
  {
   "cell_type": "markdown",
   "id": "1385fa59",
   "metadata": {
    "papermill": {
     "duration": 0.028627,
     "end_time": "2021-09-11T10:06:55.508051",
     "exception": false,
     "start_time": "2021-09-11T10:06:55.479424",
     "status": "completed"
    },
    "tags": []
   },
   "source": [
    "### Running Models with the Training data\n",
    "Details about the network layers:\n",
    "- A first affine layer has 784 inputs and does 100 affine transforms. These are followed by a Relu\n",
    "- A second affine layer has 100 inputs from the 100 activations of the past layer, and does 100 affine transforms. These are followed by a Relu\n",
    "- A third affine layer has 100 activations and does 2 affine transformations to create an embedding for visualization. There is no non-linearity here.\n",
    "- A final \"logistic regression\" which has an affine transform from 2 inputs to 1 output, which is squeezed through a sigmoid.\n"
   ]
  },
  {
   "cell_type": "code",
   "execution_count": 17,
   "id": "2b9c66db",
   "metadata": {
    "execution": {
     "iopub.execute_input": "2021-09-11T10:06:55.574984Z",
     "iopub.status.busy": "2021-09-11T10:06:55.574427Z",
     "iopub.status.idle": "2021-09-11T10:06:55.587197Z",
     "shell.execute_reply": "2021-09-11T10:06:55.586651Z"
    },
    "papermill": {
     "duration": 0.050757,
     "end_time": "2021-09-11T10:06:55.587339",
     "exception": false,
     "start_time": "2021-09-11T10:06:55.536582",
     "status": "completed"
    },
    "tags": []
   },
   "outputs": [],
   "source": [
    "data = Data(X_train, y_train.reshape(-1,1))\n",
    "sampler = Sampler(data, config.bs, shuffle=True)\n",
    "\n",
    "dl = Dataloader(data, sampler)\n",
    "\n",
    "opt = GD(config.lr)\n",
    "loss = MSE()"
   ]
  },
  {
   "cell_type": "code",
   "execution_count": 18,
   "id": "b275e4c2",
   "metadata": {
    "execution": {
     "iopub.execute_input": "2021-09-11T10:06:55.645366Z",
     "iopub.status.busy": "2021-09-11T10:06:55.644820Z",
     "iopub.status.idle": "2021-09-11T10:06:55.654768Z",
     "shell.execute_reply": "2021-09-11T10:06:55.655236Z"
    },
    "papermill": {
     "duration": 0.040401,
     "end_time": "2021-09-11T10:06:55.655371",
     "exception": false,
     "start_time": "2021-09-11T10:06:55.614970",
     "status": "completed"
    },
    "tags": []
   },
   "outputs": [],
   "source": [
    "training_data_x = X_train\n",
    "testing_data_x = X_test\n",
    "training_data_y = y_train.reshape(-1,1)\n",
    "testing_data_y = y_test.reshape(-1,1)"
   ]
  },
  {
   "cell_type": "code",
   "execution_count": 19,
   "id": "76951160",
   "metadata": {
    "execution": {
     "iopub.execute_input": "2021-09-11T10:06:55.714895Z",
     "iopub.status.busy": "2021-09-11T10:06:55.714363Z",
     "iopub.status.idle": "2021-09-11T10:06:55.727596Z",
     "shell.execute_reply": "2021-09-11T10:06:55.727149Z"
    },
    "papermill": {
     "duration": 0.044758,
     "end_time": "2021-09-11T10:06:55.727695",
     "exception": false,
     "start_time": "2021-09-11T10:06:55.682937",
     "status": "completed"
    },
    "tags": []
   },
   "outputs": [
    {
     "name": "stdout",
     "output_type": "stream",
     "text": [
      "xavier\n",
      "xavier\n",
      "xavier\n",
      "xavier\n",
      "xavier\n"
     ]
    }
   ],
   "source": [
    "layers = [Affine(\"first\", 784, 100), Relu(\"first\"), Affine(\"second\", 100, 100), Relu(\"second\"), Affine(\"third\", 100, 2), Affine(\"last\", 2, 1), Sigmoid(\"last\")]\n",
    "model_nn = Model(layers)\n",
    "model_lr = Model([Affine(\"logits\", 784, 1), Sigmoid(\"sigmoid\")])"
   ]
  },
  {
   "cell_type": "code",
   "execution_count": 20,
   "id": "6eede77a",
   "metadata": {
    "execution": {
     "iopub.execute_input": "2021-09-11T10:06:55.787867Z",
     "iopub.status.busy": "2021-09-11T10:06:55.787336Z",
     "iopub.status.idle": "2021-09-11T10:06:55.797252Z",
     "shell.execute_reply": "2021-09-11T10:06:55.796803Z"
    },
    "papermill": {
     "duration": 0.041788,
     "end_time": "2021-09-11T10:06:55.797350",
     "exception": false,
     "start_time": "2021-09-11T10:06:55.755562",
     "status": "completed"
    },
    "tags": []
   },
   "outputs": [],
   "source": [
    "nn_learner = Learner(loss, model_nn, opt, config.num_epochs)\n",
    "acc_nn = ClfCallback(nn_learner, config.bs, training_data_x , testing_data_x, training_data_y, testing_data_y)\n",
    "nn_learner.set_callbacks([acc_nn])"
   ]
  },
  {
   "cell_type": "code",
   "execution_count": 21,
   "id": "877b6cc7",
   "metadata": {
    "execution": {
     "iopub.execute_input": "2021-09-11T10:06:55.856937Z",
     "iopub.status.busy": "2021-09-11T10:06:55.856379Z",
     "iopub.status.idle": "2021-09-11T10:06:55.866383Z",
     "shell.execute_reply": "2021-09-11T10:06:55.865863Z"
    },
    "papermill": {
     "duration": 0.041334,
     "end_time": "2021-09-11T10:06:55.866481",
     "exception": false,
     "start_time": "2021-09-11T10:06:55.825147",
     "status": "completed"
    },
    "tags": []
   },
   "outputs": [],
   "source": [
    "lr_learner = Learner(loss, model_lr, opt, config.num_epochs)\n",
    "acc_lr = ClfCallback(lr_learner, config.bs, training_data_x , testing_data_x, training_data_y, testing_data_y)\n",
    "lr_learner.set_callbacks([acc_lr])"
   ]
  },
  {
   "cell_type": "code",
   "execution_count": 22,
   "id": "d9b133c3",
   "metadata": {
    "execution": {
     "iopub.execute_input": "2021-09-11T10:06:55.925763Z",
     "iopub.status.busy": "2021-09-11T10:06:55.925242Z",
     "iopub.status.idle": "2021-09-11T10:09:07.761549Z",
     "shell.execute_reply": "2021-09-11T10:09:07.762047Z"
    },
    "papermill": {
     "duration": 131.867349,
     "end_time": "2021-09-11T10:09:07.762182",
     "exception": false,
     "start_time": "2021-09-11T10:06:55.894833",
     "status": "completed"
    },
    "tags": []
   },
   "outputs": [
    {
     "name": "stdout",
     "output_type": "stream",
     "text": [
      "Epoch 0, Loss 0.262\n",
      "Training Accuracy: 0.5366, Testing Accuracy: 0.5252\n",
      "\n"
     ]
    },
    {
     "name": "stdout",
     "output_type": "stream",
     "text": [
      "Epoch 10, Loss 0.096\n",
      "Training Accuracy: 0.9099, Testing Accuracy: 0.9189\n",
      "\n"
     ]
    },
    {
     "name": "stdout",
     "output_type": "stream",
     "text": [
      "Epoch 20, Loss 0.059\n",
      "Training Accuracy: 0.9377, Testing Accuracy: 0.9456\n",
      "\n"
     ]
    },
    {
     "name": "stdout",
     "output_type": "stream",
     "text": [
      "Epoch 30, Loss 0.0464\n",
      "Training Accuracy: 0.9473, Testing Accuracy: 0.9541\n",
      "\n"
     ]
    },
    {
     "name": "stdout",
     "output_type": "stream",
     "text": [
      "Epoch 40, Loss 0.0401\n",
      "Training Accuracy: 0.9538, Testing Accuracy: 0.9602\n",
      "\n"
     ]
    },
    {
     "name": "stdout",
     "output_type": "stream",
     "text": [
      "Epoch 50, Loss 0.0363\n",
      "Training Accuracy: 0.9581, Testing Accuracy: 0.9637\n",
      "\n"
     ]
    },
    {
     "name": "stdout",
     "output_type": "stream",
     "text": [
      "Epoch 60, Loss 0.0337\n",
      "Training Accuracy: 0.9604, Testing Accuracy: 0.9647\n",
      "\n"
     ]
    },
    {
     "name": "stdout",
     "output_type": "stream",
     "text": [
      "Epoch 70, Loss 0.0318\n",
      "Training Accuracy: 0.9622, Testing Accuracy: 0.9662\n",
      "\n"
     ]
    },
    {
     "name": "stdout",
     "output_type": "stream",
     "text": [
      "Epoch 80, Loss 0.0303\n",
      "Training Accuracy: 0.9637, Testing Accuracy: 0.9662\n",
      "\n"
     ]
    },
    {
     "name": "stdout",
     "output_type": "stream",
     "text": [
      "Epoch 90, Loss 0.029\n",
      "Training Accuracy: 0.9653, Testing Accuracy: 0.9672\n",
      "\n"
     ]
    },
    {
     "name": "stdout",
     "output_type": "stream",
     "text": [
      "Epoch 100, Loss 0.028\n",
      "Training Accuracy: 0.9667, Testing Accuracy: 0.9682\n",
      "\n"
     ]
    },
    {
     "name": "stdout",
     "output_type": "stream",
     "text": [
      "Epoch 110, Loss 0.0271\n",
      "Training Accuracy: 0.9680, Testing Accuracy: 0.9682\n",
      "\n"
     ]
    },
    {
     "name": "stdout",
     "output_type": "stream",
     "text": [
      "Epoch 120, Loss 0.0263\n",
      "Training Accuracy: 0.9686, Testing Accuracy: 0.9688\n",
      "\n"
     ]
    },
    {
     "name": "stdout",
     "output_type": "stream",
     "text": [
      "Epoch 130, Loss 0.0257\n",
      "Training Accuracy: 0.9696, Testing Accuracy: 0.9688\n",
      "\n"
     ]
    },
    {
     "name": "stdout",
     "output_type": "stream",
     "text": [
      "Epoch 140, Loss 0.025\n",
      "Training Accuracy: 0.9704, Testing Accuracy: 0.9682\n",
      "\n"
     ]
    },
    {
     "name": "stdout",
     "output_type": "stream",
     "text": [
      "Epoch 150, Loss 0.0245\n",
      "Training Accuracy: 0.9710, Testing Accuracy: 0.9703\n",
      "\n"
     ]
    },
    {
     "name": "stdout",
     "output_type": "stream",
     "text": [
      "Epoch 160, Loss 0.0239\n",
      "Training Accuracy: 0.9716, Testing Accuracy: 0.9703\n",
      "\n"
     ]
    },
    {
     "name": "stdout",
     "output_type": "stream",
     "text": [
      "Epoch 170, Loss 0.0235\n",
      "Training Accuracy: 0.9723, Testing Accuracy: 0.9708\n",
      "\n"
     ]
    },
    {
     "name": "stdout",
     "output_type": "stream",
     "text": [
      "Epoch 180, Loss 0.023\n",
      "Training Accuracy: 0.9728, Testing Accuracy: 0.9713\n",
      "\n"
     ]
    },
    {
     "name": "stdout",
     "output_type": "stream",
     "text": [
      "Epoch 190, Loss 0.0226\n",
      "Training Accuracy: 0.9738, Testing Accuracy: 0.9718\n",
      "\n"
     ]
    },
    {
     "name": "stdout",
     "output_type": "stream",
     "text": [
      "Epoch 200, Loss 0.0222\n",
      "Training Accuracy: 0.9743, Testing Accuracy: 0.9718\n",
      "\n"
     ]
    },
    {
     "name": "stdout",
     "output_type": "stream",
     "text": [
      "Epoch 210, Loss 0.0218\n",
      "Training Accuracy: 0.9746, Testing Accuracy: 0.9723\n",
      "\n"
     ]
    },
    {
     "name": "stdout",
     "output_type": "stream",
     "text": [
      "Epoch 220, Loss 0.0214\n",
      "Training Accuracy: 0.9755, Testing Accuracy: 0.9723\n",
      "\n"
     ]
    },
    {
     "name": "stdout",
     "output_type": "stream",
     "text": [
      "Epoch 230, Loss 0.021\n",
      "Training Accuracy: 0.9758, Testing Accuracy: 0.9733\n",
      "\n"
     ]
    },
    {
     "name": "stdout",
     "output_type": "stream",
     "text": [
      "Epoch 240, Loss 0.0206\n",
      "Training Accuracy: 0.9766, Testing Accuracy: 0.9738\n",
      "\n"
     ]
    },
    {
     "data": {
      "text/plain": [
       "0.021652816576590163"
      ]
     },
     "execution_count": 22,
     "metadata": {},
     "output_type": "execute_result"
    }
   ],
   "source": [
    "nn_learner.train_loop(dl)"
   ]
  },
  {
   "cell_type": "code",
   "execution_count": 23,
   "id": "e0163366",
   "metadata": {
    "execution": {
     "iopub.execute_input": "2021-09-11T10:09:07.842429Z",
     "iopub.status.busy": "2021-09-11T10:09:07.841722Z",
     "iopub.status.idle": "2021-09-11T10:09:26.224217Z",
     "shell.execute_reply": "2021-09-11T10:09:26.225005Z"
    },
    "papermill": {
     "duration": 18.426892,
     "end_time": "2021-09-11T10:09:26.225148",
     "exception": false,
     "start_time": "2021-09-11T10:09:07.798256",
     "status": "completed"
    },
    "tags": []
   },
   "outputs": [
    {
     "name": "stdout",
     "output_type": "stream",
     "text": [
      "Epoch 0, Loss 0.2303\n",
      "Training Accuracy: 0.7445, Testing Accuracy: 0.7671\n",
      "\n"
     ]
    },
    {
     "name": "stdout",
     "output_type": "stream",
     "text": [
      "Epoch 10, Loss 0.1025\n",
      "Training Accuracy: 0.9106, Testing Accuracy: 0.9274\n",
      "\n"
     ]
    },
    {
     "name": "stdout",
     "output_type": "stream",
     "text": [
      "Epoch 20, Loss 0.0793\n",
      "Training Accuracy: 0.9266, Testing Accuracy: 0.9395\n",
      "\n"
     ]
    },
    {
     "name": "stdout",
     "output_type": "stream",
     "text": [
      "Epoch 30, Loss 0.0685\n",
      "Training Accuracy: 0.9366, Testing Accuracy: 0.9516\n",
      "\n"
     ]
    },
    {
     "name": "stdout",
     "output_type": "stream",
     "text": [
      "Epoch 40, Loss 0.062\n",
      "Training Accuracy: 0.9404, Testing Accuracy: 0.9536\n",
      "\n"
     ]
    },
    {
     "name": "stdout",
     "output_type": "stream",
     "text": [
      "Epoch 50, Loss 0.0575\n",
      "Training Accuracy: 0.9445, Testing Accuracy: 0.9572\n",
      "\n"
     ]
    },
    {
     "name": "stdout",
     "output_type": "stream",
     "text": [
      "Epoch 60, Loss 0.0542\n",
      "Training Accuracy: 0.9472, Testing Accuracy: 0.9587\n",
      "\n"
     ]
    },
    {
     "name": "stdout",
     "output_type": "stream",
     "text": [
      "Epoch 70, Loss 0.0516\n",
      "Training Accuracy: 0.9494, Testing Accuracy: 0.9607\n",
      "\n"
     ]
    },
    {
     "name": "stdout",
     "output_type": "stream",
     "text": [
      "Epoch 80, Loss 0.0495\n",
      "Training Accuracy: 0.9510, Testing Accuracy: 0.9627\n",
      "\n"
     ]
    },
    {
     "name": "stdout",
     "output_type": "stream",
     "text": [
      "Epoch 90, Loss 0.0478\n",
      "Training Accuracy: 0.9523, Testing Accuracy: 0.9627\n",
      "\n"
     ]
    },
    {
     "name": "stdout",
     "output_type": "stream",
     "text": [
      "Epoch 100, Loss 0.0464\n",
      "Training Accuracy: 0.9537, Testing Accuracy: 0.9622\n",
      "\n"
     ]
    },
    {
     "name": "stdout",
     "output_type": "stream",
     "text": [
      "Epoch 110, Loss 0.0452\n",
      "Training Accuracy: 0.9546, Testing Accuracy: 0.9637\n",
      "\n"
     ]
    },
    {
     "name": "stdout",
     "output_type": "stream",
     "text": [
      "Epoch 120, Loss 0.0441\n",
      "Training Accuracy: 0.9554, Testing Accuracy: 0.9642\n",
      "\n"
     ]
    },
    {
     "name": "stdout",
     "output_type": "stream",
     "text": [
      "Epoch 130, Loss 0.0432\n",
      "Training Accuracy: 0.9561, Testing Accuracy: 0.9652\n",
      "\n"
     ]
    },
    {
     "name": "stdout",
     "output_type": "stream",
     "text": [
      "Epoch 140, Loss 0.0423\n",
      "Training Accuracy: 0.9569, Testing Accuracy: 0.9662\n",
      "\n"
     ]
    },
    {
     "name": "stdout",
     "output_type": "stream",
     "text": [
      "Epoch 150, Loss 0.0416\n",
      "Training Accuracy: 0.9576, Testing Accuracy: 0.9662\n",
      "\n"
     ]
    },
    {
     "name": "stdout",
     "output_type": "stream",
     "text": [
      "Epoch 160, Loss 0.0409\n",
      "Training Accuracy: 0.9579, Testing Accuracy: 0.9662\n",
      "\n"
     ]
    },
    {
     "name": "stdout",
     "output_type": "stream",
     "text": [
      "Epoch 170, Loss 0.0403\n",
      "Training Accuracy: 0.9581, Testing Accuracy: 0.9667\n",
      "\n"
     ]
    },
    {
     "name": "stdout",
     "output_type": "stream",
     "text": [
      "Epoch 180, Loss 0.0397\n",
      "Training Accuracy: 0.9584, Testing Accuracy: 0.9667\n",
      "\n"
     ]
    },
    {
     "name": "stdout",
     "output_type": "stream",
     "text": [
      "Epoch 190, Loss 0.0392\n",
      "Training Accuracy: 0.9586, Testing Accuracy: 0.9667\n",
      "\n"
     ]
    },
    {
     "name": "stdout",
     "output_type": "stream",
     "text": [
      "Epoch 200, Loss 0.0387\n",
      "Training Accuracy: 0.9588, Testing Accuracy: 0.9672\n",
      "\n"
     ]
    },
    {
     "name": "stdout",
     "output_type": "stream",
     "text": [
      "Epoch 210, Loss 0.0382\n",
      "Training Accuracy: 0.9591, Testing Accuracy: 0.9667\n",
      "\n"
     ]
    },
    {
     "name": "stdout",
     "output_type": "stream",
     "text": [
      "Epoch 220, Loss 0.0378\n",
      "Training Accuracy: 0.9593, Testing Accuracy: 0.9672\n",
      "\n"
     ]
    },
    {
     "name": "stdout",
     "output_type": "stream",
     "text": [
      "Epoch 230, Loss 0.0374\n",
      "Training Accuracy: 0.9597, Testing Accuracy: 0.9677\n",
      "\n"
     ]
    },
    {
     "name": "stdout",
     "output_type": "stream",
     "text": [
      "Epoch 240, Loss 0.0371\n",
      "Training Accuracy: 0.9604, Testing Accuracy: 0.9677\n",
      "\n"
     ]
    },
    {
     "data": {
      "text/plain": [
       "0.014380069037586415"
      ]
     },
     "execution_count": 23,
     "metadata": {},
     "output_type": "execute_result"
    }
   ],
   "source": [
    "lr_learner.train_loop(dl)"
   ]
  },
  {
   "cell_type": "code",
   "execution_count": 24,
   "id": "ca410940",
   "metadata": {
    "execution": {
     "iopub.execute_input": "2021-09-11T10:09:26.325663Z",
     "iopub.status.busy": "2021-09-11T10:09:26.325126Z",
     "iopub.status.idle": "2021-09-11T10:09:26.574593Z",
     "shell.execute_reply": "2021-09-11T10:09:26.574099Z"
    },
    "papermill": {
     "duration": 0.304902,
     "end_time": "2021-09-11T10:09:26.574716",
     "exception": false,
     "start_time": "2021-09-11T10:09:26.269814",
     "status": "completed"
    },
    "tags": []
   },
   "outputs": [
    {
     "data": {
      "text/plain": [
       "<matplotlib.legend.Legend at 0x7f6e30afdf60>"
      ]
     },
     "execution_count": 24,
     "metadata": {},
     "output_type": "execute_result"
    },
    {
     "data": {
      "image/png": "[encoded data removed]",
      "text/plain": [
       "<Figure size 1080x720 with 1 Axes>"
      ]
     },
     "metadata": {
      "needs_background": "light"
     },
     "output_type": "display_data"
    }
   ],
   "source": [
    "#comparing the results of NN and LR\n",
    "plt.figure(figsize=(15,10))\n",
    "\n",
    "# Neural Network plots\n",
    "plt.plot(acc_nn.accuracies, 'r-', label = \"Training Accuracies - NN\")\n",
    "plt.plot(acc_nn.test_accuracies, 'g-', label = \"Testing Accuracies - NN\")\n",
    "\n",
    "# Logistic Regression plots\n",
    "plt.plot(acc_lr.accuracies, 'k-', label = \"Training Accuracies - LR\")\n",
    "plt.plot(acc_lr.test_accuracies, 'b-', label = \"Testing Accuracies - LR\")\n",
    "plt.legend()"
   ]
  },
  {
   "cell_type": "markdown",
   "id": "80dfb35c",
   "metadata": {
    "papermill": {
     "duration": 0.046781,
     "end_time": "2021-09-11T10:09:26.666032",
     "exception": false,
     "start_time": "2021-09-11T10:09:26.619251",
     "status": "completed"
    },
    "tags": []
   },
   "source": [
    "#### Plotting the outputs of this layer of the NN.\n"
   ]
  },
  {
   "cell_type": "code",
   "execution_count": 25,
   "id": "45eb2ff5",
   "metadata": {
    "execution": {
     "iopub.execute_input": "2021-09-11T10:09:26.779623Z",
     "iopub.status.busy": "2021-09-11T10:09:26.778981Z",
     "iopub.status.idle": "2021-09-11T10:09:26.789053Z",
     "shell.execute_reply": "2021-09-11T10:09:26.788571Z"
    },
    "papermill": {
     "duration": 0.078315,
     "end_time": "2021-09-11T10:09:26.789162",
     "exception": false,
     "start_time": "2021-09-11T10:09:26.710847",
     "status": "completed"
    },
    "tags": []
   },
   "outputs": [],
   "source": [
    "new_model = Model(layers[:-2])\n",
    "testing_plot = new_model(testing_data_x)"
   ]
  },
  {
   "cell_type": "code",
   "execution_count": 26,
   "id": "4c0a5485",
   "metadata": {
    "execution": {
     "iopub.execute_input": "2021-09-11T10:09:26.889521Z",
     "iopub.status.busy": "2021-09-11T10:09:26.889013Z",
     "iopub.status.idle": "2021-09-11T10:09:27.102752Z",
     "shell.execute_reply": "2021-09-11T10:09:27.102298Z"
    },
    "papermill": {
     "duration": 0.264227,
     "end_time": "2021-09-11T10:09:27.102864",
     "exception": false,
     "start_time": "2021-09-11T10:09:26.838637",
     "status": "completed"
    },
    "tags": []
   },
   "outputs": [
    {
     "data": {
      "text/plain": [
       "Text(0.5, 1.0, 'Outputs')"
      ]
     },
     "execution_count": 26,
     "metadata": {},
     "output_type": "execute_result"
    },
    {
     "data": {
      "image/png": "[encoded data removed]",
      "text/plain": [
       "<Figure size 576x504 with 1 Axes>"
      ]
     },
     "metadata": {
      "needs_background": "light"
     },
     "output_type": "display_data"
    }
   ],
   "source": [
    "# Plotting the scatter plot of points and color coding by class\n",
    "plt.figure(figsize=(8,7))\n",
    "plt.scatter(testing_plot[:,0], testing_plot[:,1], alpha = 0.1, c = y_test.ravel());\n",
    "plt.title('Outputs')"
   ]
  },
  {
   "cell_type": "markdown",
   "id": "a74fcf8f",
   "metadata": {
    "papermill": {
     "duration": 0.043774,
     "end_time": "2021-09-11T10:09:27.190547",
     "exception": false,
     "start_time": "2021-09-11T10:09:27.146773",
     "status": "completed"
    },
    "tags": []
   },
   "source": [
    "Probability contours"
   ]
  },
  {
   "cell_type": "code",
   "execution_count": 27,
   "id": "d0afc8e3",
   "metadata": {
    "execution": {
     "iopub.execute_input": "2021-09-11T10:09:27.294945Z",
     "iopub.status.busy": "2021-09-11T10:09:27.288387Z",
     "iopub.status.idle": "2021-09-11T10:09:27.298460Z",
     "shell.execute_reply": "2021-09-11T10:09:27.297996Z"
    },
    "papermill": {
     "duration": 0.063634,
     "end_time": "2021-09-11T10:09:27.298566",
     "exception": false,
     "start_time": "2021-09-11T10:09:27.234932",
     "status": "completed"
    },
    "tags": []
   },
   "outputs": [],
   "source": [
    "model_prob = Model(layers[-2:]) "
   ]
  },
  {
   "cell_type": "code",
   "execution_count": 28,
   "id": "9b96e238",
   "metadata": {
    "execution": {
     "iopub.execute_input": "2021-09-11T10:09:27.424111Z",
     "iopub.status.busy": "2021-09-11T10:09:27.419403Z",
     "iopub.status.idle": "2021-09-11T10:09:27.435912Z",
     "shell.execute_reply": "2021-09-11T10:09:27.436309Z"
    },
    "papermill": {
     "duration": 0.088676,
     "end_time": "2021-09-11T10:09:27.436441",
     "exception": false,
     "start_time": "2021-09-11T10:09:27.347765",
     "status": "completed"
    },
    "tags": []
   },
   "outputs": [],
   "source": [
    "#creating the x and y ranges according to the above generated plot.\n",
    "x_range = np.linspace(-4, 1, 100) \n",
    "y_range = np.linspace(-6, 6, 100) \n",
    "x_grid, y_grid = np.meshgrid(x_range, y_range) # x_grid and y_grig are of size 100 X 100\n",
    "\n",
    "# converting x_grid and y_grid to continuous arrays\n",
    "x_gridflat = np.ravel(x_grid)\n",
    "y_gridflat = np.ravel(y_grid)\n",
    "\n",
    "# The last layer of the current model takes two columns as input. Hence transpose of np.vstack() is required.\n",
    "X = np.vstack((x_gridflat, y_gridflat)).T\n",
    "\n",
    "prob_contour = model_prob(X).reshape(100,100) "
   ]
  },
  {
   "cell_type": "code",
   "execution_count": 29,
   "id": "da72499a",
   "metadata": {
    "execution": {
     "iopub.execute_input": "2021-09-11T10:09:27.569230Z",
     "iopub.status.busy": "2021-09-11T10:09:27.556697Z",
     "iopub.status.idle": "2021-09-11T10:09:27.834536Z",
     "shell.execute_reply": "2021-09-11T10:09:27.834083Z"
    },
    "papermill": {
     "duration": 0.344181,
     "end_time": "2021-09-11T10:09:27.834656",
     "exception": false,
     "start_time": "2021-09-11T10:09:27.490475",
     "status": "completed"
    },
    "tags": []
   },
   "outputs": [
    {
     "data": {
      "image/png": "[encoded data removed]",
      "text/plain": [
       "<Figure size 720x648 with 1 Axes>"
      ]
     },
     "metadata": {
      "needs_background": "light"
     },
     "output_type": "display_data"
    }
   ],
   "source": [
    "plt.figure(figsize=(10,9))\n",
    "plt.scatter(testing_plot[:,0], testing_plot[:,1], alpha = 0.1, c = y_test.ravel())\n",
    "contours = plt.contour(x_grid,y_grid,prob_contour)\n",
    "plt.title('Probability Contours')\n",
    "plt.clabel(contours, inline = True );"
   ]
  },
  {
   "cell_type": "code",
   "execution_count": null,
   "id": "e81b4ac7",
   "metadata": {
    "papermill": {
     "duration": 0.046466,
     "end_time": "2021-09-11T10:09:27.927876",
     "exception": false,
     "start_time": "2021-09-11T10:09:27.881410",
     "status": "completed"
    },
    "tags": []
   },
   "outputs": [],
   "source": []
  }
 ],
 "metadata": {
  "kernelspec": {
   "display_name": "Python 3",
   "language": "python",
   "name": "python3"
  },
  "language_info": {
   "codemirror_mode": {
    "name": "ipython",
    "version": 3
   },
   "file_extension": ".py",
   "mimetype": "text/x-python",
   "name": "python",
   "nbconvert_exporter": "python",
   "pygments_lexer": "ipython3",
   "version": "3.6.14"
  },
  "papermill": {
   "default_parameters": {},
   "duration": 158.904761,
   "end_time": "2021-09-11T10:09:28.282601",
   "environment_variables": {},
   "exception": null,
   "input_path": "2020-08-11-part2.ipynb",
   "output_path": "2020-08-11-part2.ipynb",
   "parameters": {},
   "start_time": "2021-09-11T10:06:49.377840",
   "version": "2.3.3"
  }
 },
 "nbformat": 4,
 "nbformat_minor": 5
}