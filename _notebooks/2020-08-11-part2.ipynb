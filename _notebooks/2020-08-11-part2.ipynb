{
 "cells": [
  {
   "cell_type": "markdown",
   "id": "98380cd3",
   "metadata": {
    "papermill": {
     "duration": 0.035983,
     "end_time": "2022-03-14T10:10:25.077590",
     "exception": false,
     "start_time": "2022-03-14T10:10:25.041607",
     "status": "completed"
    },
    "tags": []
   },
   "source": [
    "# Distinguish Your Own Digits (DYOD)"
   ]
  },
  {
   "cell_type": "markdown",
   "id": "ef31240d",
   "metadata": {
    "papermill": {
     "duration": 0.03141,
     "end_time": "2022-03-14T10:10:25.139281",
     "exception": false,
     "start_time": "2022-03-14T10:10:25.107871",
     "status": "completed"
    },
    "tags": []
   },
   "source": [
    "You are going to write a classifier that distinguishes between the number 3 and number 8."
   ]
  },
  {
   "cell_type": "code",
   "execution_count": 1,
   "id": "b15c8646",
   "metadata": {
    "execution": {
     "iopub.execute_input": "2022-03-14T10:10:25.212253Z",
     "iopub.status.busy": "2022-03-14T10:10:25.211588Z",
     "iopub.status.idle": "2022-03-14T10:10:25.225172Z",
     "shell.execute_reply": "2022-03-14T10:10:25.224507Z"
    },
    "papermill": {
     "duration": 0.055485,
     "end_time": "2022-03-14T10:10:25.225364",
     "exception": false,
     "start_time": "2022-03-14T10:10:25.169879",
     "status": "completed"
    },
    "tags": []
   },
   "outputs": [],
   "source": [
    "%load_ext autoreload\n",
    "%autoreload 2"
   ]
  },
  {
   "cell_type": "code",
   "execution_count": 2,
   "id": "22ef38dc",
   "metadata": {
    "execution": {
     "iopub.execute_input": "2022-03-14T10:10:25.290375Z",
     "iopub.status.busy": "2022-03-14T10:10:25.289710Z",
     "iopub.status.idle": "2022-03-14T10:10:25.975695Z",
     "shell.execute_reply": "2022-03-14T10:10:25.976226Z"
    },
    "papermill": {
     "duration": 0.719646,
     "end_time": "2022-03-14T10:10:25.976399",
     "exception": false,
     "start_time": "2022-03-14T10:10:25.256753",
     "status": "completed"
    },
    "tags": []
   },
   "outputs": [],
   "source": [
    "%matplotlib inline\n",
    "import numpy as np\n",
    "import matplotlib.pyplot as plt\n",
    "import pandas as pd"
   ]
  },
  {
   "cell_type": "markdown",
   "id": "ba036198",
   "metadata": {
    "papermill": {
     "duration": 0.030058,
     "end_time": "2022-03-14T10:10:26.036523",
     "exception": false,
     "start_time": "2022-03-14T10:10:26.006465",
     "status": "completed"
    },
    "tags": []
   },
   "source": [
    "From the command line run `pip install mnist`. This is a library that will help you bring down the mnist dataset. If you run this from a notebook, you need to put  `!pip install mnist` in a cell by itself."
   ]
  },
  {
   "cell_type": "code",
   "execution_count": 3,
   "id": "bb6ad8a1",
   "metadata": {
    "execution": {
     "iopub.execute_input": "2022-03-14T10:10:26.103590Z",
     "iopub.status.busy": "2022-03-14T10:10:26.102940Z",
     "iopub.status.idle": "2022-03-14T10:10:28.148170Z",
     "shell.execute_reply": "2022-03-14T10:10:28.147618Z"
    },
    "papermill": {
     "duration": 2.081292,
     "end_time": "2022-03-14T10:10:28.148309",
     "exception": false,
     "start_time": "2022-03-14T10:10:26.067017",
     "status": "completed"
    },
    "tags": []
   },
   "outputs": [
    {
     "name": "stdout",
     "output_type": "stream",
     "text": [
      "Collecting mnist\r\n"
     ]
    },
    {
     "name": "stdout",
     "output_type": "stream",
     "text": [
      "  Downloading mnist-0.2.2-py2.py3-none-any.whl (3.5 kB)\r\n",
      "Requirement already satisfied: numpy in /opt/hostedtoolcache/Python/3.6.15/x64/lib/python3.6/site-packages (from mnist) (1.19.5)\r\n"
     ]
    },
    {
     "name": "stdout",
     "output_type": "stream",
     "text": [
      "Installing collected packages: mnist\r\n"
     ]
    },
    {
     "name": "stdout",
     "output_type": "stream",
     "text": [
      "Successfully installed mnist-0.2.2\r\n"
     ]
    }
   ],
   "source": [
    "!pip install mnist"
   ]
  },
  {
   "cell_type": "markdown",
   "id": "69df9c9a",
   "metadata": {
    "papermill": {
     "duration": 0.030901,
     "end_time": "2022-03-14T10:10:28.212552",
     "exception": false,
     "start_time": "2022-03-14T10:10:28.181651",
     "status": "completed"
    },
    "tags": []
   },
   "source": [
    "## Preparing the Data"
   ]
  },
  {
   "cell_type": "code",
   "execution_count": 4,
   "id": "7f69d806",
   "metadata": {
    "execution": {
     "iopub.execute_input": "2022-03-14T10:10:28.284142Z",
     "iopub.status.busy": "2022-03-14T10:10:28.283539Z",
     "iopub.status.idle": "2022-03-14T10:10:28.297789Z",
     "shell.execute_reply": "2022-03-14T10:10:28.297225Z"
    },
    "papermill": {
     "duration": 0.054024,
     "end_time": "2022-03-14T10:10:28.297950",
     "exception": false,
     "start_time": "2022-03-14T10:10:28.243926",
     "status": "completed"
    },
    "tags": []
   },
   "outputs": [],
   "source": [
    "import mnist"
   ]
  },
  {
   "cell_type": "code",
   "execution_count": 5,
   "id": "a411e44f",
   "metadata": {
    "execution": {
     "iopub.execute_input": "2022-03-14T10:10:28.366498Z",
     "iopub.status.busy": "2022-03-14T10:10:28.365278Z",
     "iopub.status.idle": "2022-03-14T10:10:28.933467Z",
     "shell.execute_reply": "2022-03-14T10:10:28.932924Z"
    },
    "papermill": {
     "duration": 0.603712,
     "end_time": "2022-03-14T10:10:28.933603",
     "exception": false,
     "start_time": "2022-03-14T10:10:28.329891",
     "status": "completed"
    },
    "tags": []
   },
   "outputs": [],
   "source": [
    "train_images = mnist.train_images()\n",
    "train_labels = mnist.train_labels()"
   ]
  },
  {
   "cell_type": "code",
   "execution_count": 6,
   "id": "dceab3a5",
   "metadata": {
    "execution": {
     "iopub.execute_input": "2022-03-14T10:10:29.013359Z",
     "iopub.status.busy": "2022-03-14T10:10:29.012672Z",
     "iopub.status.idle": "2022-03-14T10:10:29.028143Z",
     "shell.execute_reply": "2022-03-14T10:10:29.027614Z"
    },
    "papermill": {
     "duration": 0.055418,
     "end_time": "2022-03-14T10:10:29.028276",
     "exception": false,
     "start_time": "2022-03-14T10:10:28.972858",
     "status": "completed"
    },
    "tags": []
   },
   "outputs": [
    {
     "data": {
      "text/plain": [
       "((60000, 28, 28), (60000,))"
      ]
     },
     "execution_count": 6,
     "metadata": {},
     "output_type": "execute_result"
    }
   ],
   "source": [
    "train_images.shape, train_labels.shape"
   ]
  },
  {
   "cell_type": "code",
   "execution_count": 7,
   "id": "f50dc2bb",
   "metadata": {
    "execution": {
     "iopub.execute_input": "2022-03-14T10:10:29.100108Z",
     "iopub.status.busy": "2022-03-14T10:10:29.099413Z",
     "iopub.status.idle": "2022-03-14T10:10:29.249008Z",
     "shell.execute_reply": "2022-03-14T10:10:29.248358Z"
    },
    "papermill": {
     "duration": 0.18881,
     "end_time": "2022-03-14T10:10:29.249160",
     "exception": false,
     "start_time": "2022-03-14T10:10:29.060350",
     "status": "completed"
    },
    "tags": []
   },
   "outputs": [],
   "source": [
    "test_images = mnist.test_images()\n",
    "test_labels = mnist.test_labels()"
   ]
  },
  {
   "cell_type": "code",
   "execution_count": 8,
   "id": "fc38cf1b",
   "metadata": {
    "execution": {
     "iopub.execute_input": "2022-03-14T10:10:29.322468Z",
     "iopub.status.busy": "2022-03-14T10:10:29.321778Z",
     "iopub.status.idle": "2022-03-14T10:10:29.335931Z",
     "shell.execute_reply": "2022-03-14T10:10:29.336553Z"
    },
    "papermill": {
     "duration": 0.053707,
     "end_time": "2022-03-14T10:10:29.336705",
     "exception": false,
     "start_time": "2022-03-14T10:10:29.282998",
     "status": "completed"
    },
    "tags": []
   },
   "outputs": [
    {
     "data": {
      "text/plain": [
       "((10000, 28, 28), (10000,))"
      ]
     },
     "execution_count": 8,
     "metadata": {},
     "output_type": "execute_result"
    }
   ],
   "source": [
    "test_images.shape, test_labels.shape"
   ]
  },
  {
   "cell_type": "code",
   "execution_count": 9,
   "id": "f9ed8fe0",
   "metadata": {
    "execution": {
     "iopub.execute_input": "2022-03-14T10:10:29.409485Z",
     "iopub.status.busy": "2022-03-14T10:10:29.408876Z",
     "iopub.status.idle": "2022-03-14T10:10:29.601266Z",
     "shell.execute_reply": "2022-03-14T10:10:29.602082Z"
    },
    "papermill": {
     "duration": 0.230854,
     "end_time": "2022-03-14T10:10:29.602246",
     "exception": false,
     "start_time": "2022-03-14T10:10:29.371392",
     "status": "completed"
    },
    "tags": []
   },
   "outputs": [
    {
     "name": "stdout",
     "output_type": "stream",
     "text": [
      "2\n"
     ]
    },
    {
     "data": {
      "text/plain": [
       "<matplotlib.image.AxesImage at 0x7f79ab9f8550>"
      ]
     },
     "execution_count": 9,
     "metadata": {},
     "output_type": "execute_result"
    },
    {
     "data": {
      "image/png": "[encoded data removed]",
      "text/plain": [
       "<Figure size 432x288 with 1 Axes>"
      ]
     },
     "metadata": {
      "needs_background": "light"
     },
     "output_type": "display_data"
    }
   ],
   "source": [
    "image_index = 7776 # You may select anything up to 60,000\n",
    "print(train_labels[image_index]) \n",
    "plt.imshow(train_images[image_index], cmap='Greys')"
   ]
  },
  {
   "cell_type": "markdown",
   "id": "a8d2388d",
   "metadata": {
    "papermill": {
     "duration": 0.033389,
     "end_time": "2022-03-14T10:10:29.668938",
     "exception": false,
     "start_time": "2022-03-14T10:10:29.635549",
     "status": "completed"
    },
    "tags": []
   },
   "source": [
    "## Filter data to get 3 and 8 out"
   ]
  },
  {
   "cell_type": "code",
   "execution_count": 10,
   "id": "776f7fc7",
   "metadata": {
    "execution": {
     "iopub.execute_input": "2022-03-14T10:10:29.747144Z",
     "iopub.status.busy": "2022-03-14T10:10:29.739182Z",
     "iopub.status.idle": "2022-03-14T10:10:29.756487Z",
     "shell.execute_reply": "2022-03-14T10:10:29.756945Z"
    },
    "papermill": {
     "duration": 0.055686,
     "end_time": "2022-03-14T10:10:29.757123",
     "exception": false,
     "start_time": "2022-03-14T10:10:29.701437",
     "status": "completed"
    },
    "tags": []
   },
   "outputs": [],
   "source": [
    "train_filter = np.where((train_labels == 3 ) | (train_labels == 8))\n",
    "test_filter = np.where((test_labels == 3) | (test_labels == 8))\n",
    "X_train, y_train = train_images[train_filter], train_labels[train_filter]\n",
    "X_test, y_test = test_images[test_filter], test_labels[test_filter]"
   ]
  },
  {
   "cell_type": "markdown",
   "id": "948f0b7e",
   "metadata": {
    "papermill": {
     "duration": 0.032082,
     "end_time": "2022-03-14T10:10:29.820396",
     "exception": false,
     "start_time": "2022-03-14T10:10:29.788314",
     "status": "completed"
    },
    "tags": []
   },
   "source": [
    "We normalize the pizel values in the 0 to 1 range"
   ]
  },
  {
   "cell_type": "code",
   "execution_count": 11,
   "id": "ee4c2166",
   "metadata": {
    "execution": {
     "iopub.execute_input": "2022-03-14T10:10:29.896775Z",
     "iopub.status.busy": "2022-03-14T10:10:29.890154Z",
     "iopub.status.idle": "2022-03-14T10:10:29.954368Z",
     "shell.execute_reply": "2022-03-14T10:10:29.954905Z"
    },
    "papermill": {
     "duration": 0.102292,
     "end_time": "2022-03-14T10:10:29.955132",
     "exception": false,
     "start_time": "2022-03-14T10:10:29.852840",
     "status": "completed"
    },
    "tags": []
   },
   "outputs": [],
   "source": [
    "X_train = X_train/255.\n",
    "X_test = X_test/255."
   ]
  },
  {
   "cell_type": "markdown",
   "id": "ddcf4fab",
   "metadata": {
    "papermill": {
     "duration": 0.034876,
     "end_time": "2022-03-14T10:10:30.023898",
     "exception": false,
     "start_time": "2022-03-14T10:10:29.989022",
     "status": "completed"
    },
    "tags": []
   },
   "source": [
    "And setup the labels as 1 (when the digit is 3) and 0 (when the digit is 8)"
   ]
  },
  {
   "cell_type": "code",
   "execution_count": 12,
   "id": "7dc908f2",
   "metadata": {
    "execution": {
     "iopub.execute_input": "2022-03-14T10:10:30.101615Z",
     "iopub.status.busy": "2022-03-14T10:10:30.101037Z",
     "iopub.status.idle": "2022-03-14T10:10:30.113384Z",
     "shell.execute_reply": "2022-03-14T10:10:30.112880Z"
    },
    "papermill": {
     "duration": 0.05141,
     "end_time": "2022-03-14T10:10:30.113518",
     "exception": false,
     "start_time": "2022-03-14T10:10:30.062108",
     "status": "completed"
    },
    "tags": []
   },
   "outputs": [],
   "source": [
    "y_train = 1*(y_train==3)\n",
    "y_test = 1*(y_test==3)"
   ]
  },
  {
   "cell_type": "code",
   "execution_count": 13,
   "id": "01e4e969",
   "metadata": {
    "execution": {
     "iopub.execute_input": "2022-03-14T10:10:30.181577Z",
     "iopub.status.busy": "2022-03-14T10:10:30.180787Z",
     "iopub.status.idle": "2022-03-14T10:10:30.196280Z",
     "shell.execute_reply": "2022-03-14T10:10:30.195679Z"
    },
    "papermill": {
     "duration": 0.051102,
     "end_time": "2022-03-14T10:10:30.196401",
     "exception": false,
     "start_time": "2022-03-14T10:10:30.145299",
     "status": "completed"
    },
    "tags": []
   },
   "outputs": [
    {
     "data": {
      "text/plain": [
       "((11982, 28, 28), (1984, 28, 28))"
      ]
     },
     "execution_count": 13,
     "metadata": {},
     "output_type": "execute_result"
    }
   ],
   "source": [
    "X_train.shape, X_test.shape"
   ]
  },
  {
   "cell_type": "markdown",
   "id": "5ccf3f85",
   "metadata": {
    "papermill": {
     "duration": 0.033336,
     "end_time": "2022-03-14T10:10:30.261111",
     "exception": false,
     "start_time": "2022-03-14T10:10:30.227775",
     "status": "completed"
    },
    "tags": []
   },
   "source": [
    "We reshape the data to flatten the image pixels into a set of features or co-variates:"
   ]
  },
  {
   "cell_type": "code",
   "execution_count": 14,
   "id": "5286a4a3",
   "metadata": {
    "execution": {
     "iopub.execute_input": "2022-03-14T10:10:30.332362Z",
     "iopub.status.busy": "2022-03-14T10:10:30.331473Z",
     "iopub.status.idle": "2022-03-14T10:10:30.348367Z",
     "shell.execute_reply": "2022-03-14T10:10:30.348857Z"
    },
    "papermill": {
     "duration": 0.055388,
     "end_time": "2022-03-14T10:10:30.348991",
     "exception": false,
     "start_time": "2022-03-14T10:10:30.293603",
     "status": "completed"
    },
    "tags": []
   },
   "outputs": [
    {
     "data": {
      "text/plain": [
       "((11982, 784), (1984, 784))"
      ]
     },
     "execution_count": 14,
     "metadata": {},
     "output_type": "execute_result"
    }
   ],
   "source": [
    "X_train = X_train.reshape(X_train.shape[0], -1)\n",
    "X_test = X_test.reshape(X_test.shape[0], -1)\n",
    "X_train.shape, X_test.shape"
   ]
  },
  {
   "cell_type": "code",
   "execution_count": 15,
   "id": "73c5f88a",
   "metadata": {
    "execution": {
     "iopub.execute_input": "2022-03-14T10:10:30.428001Z",
     "iopub.status.busy": "2022-03-14T10:10:30.422299Z",
     "iopub.status.idle": "2022-03-14T10:10:30.441875Z",
     "shell.execute_reply": "2022-03-14T10:10:30.440925Z"
    },
    "papermill": {
     "duration": 0.060557,
     "end_time": "2022-03-14T10:10:30.441994",
     "exception": false,
     "start_time": "2022-03-14T10:10:30.381437",
     "status": "completed"
    },
    "tags": []
   },
   "outputs": [],
   "source": [
    "#Impoting functions from 'Kudzu'\n",
    "from kudzu.model import Model\n",
    "from kudzu.train import Learner\n",
    "from kudzu.optim import GD\n",
    "from kudzu.data import Data, Sampler,Dataloader\n",
    "\n",
    "from kudzu.callbacks import AccCallback\n",
    "from kudzu.callbacks import ClfCallback\n",
    "\n",
    "from kudzu.loss import MSE\n",
    "\n",
    "from kudzu.layer import Sigmoid,Relu\n",
    "from kudzu.layer import Affine"
   ]
  },
  {
   "cell_type": "markdown",
   "id": "bc01172a",
   "metadata": {
    "papermill": {
     "duration": 0.033591,
     "end_time": "2022-03-14T10:10:30.512483",
     "exception": false,
     "start_time": "2022-03-14T10:10:30.478892",
     "status": "completed"
    },
    "tags": []
   },
   "source": [
    "### Let us create a `Config` class, to store important parameters. \n",
    "This class essentially plays the role of a dictionary."
   ]
  },
  {
   "cell_type": "code",
   "execution_count": 16,
   "id": "978281aa",
   "metadata": {
    "execution": {
     "iopub.execute_input": "2022-03-14T10:10:30.588753Z",
     "iopub.status.busy": "2022-03-14T10:10:30.588029Z",
     "iopub.status.idle": "2022-03-14T10:10:30.601238Z",
     "shell.execute_reply": "2022-03-14T10:10:30.600305Z"
    },
    "papermill": {
     "duration": 0.05539,
     "end_time": "2022-03-14T10:10:30.601375",
     "exception": false,
     "start_time": "2022-03-14T10:10:30.545985",
     "status": "completed"
    },
    "tags": []
   },
   "outputs": [],
   "source": [
    "class Config:\n",
    "    pass\n",
    "config = Config()\n",
    "config.lr = 0.001\n",
    "config.num_epochs = 250\n",
    "config.bs = 50"
   ]
  },
  {
   "cell_type": "markdown",
   "id": "1385fa59",
   "metadata": {
    "papermill": {
     "duration": 0.037158,
     "end_time": "2022-03-14T10:10:30.675446",
     "exception": false,
     "start_time": "2022-03-14T10:10:30.638288",
     "status": "completed"
    },
    "tags": []
   },
   "source": [
    "### Running Models with the Training data\n",
    "Details about the network layers:\n",
    "- A first affine layer has 784 inputs and does 100 affine transforms. These are followed by a Relu\n",
    "- A second affine layer has 100 inputs from the 100 activations of the past layer, and does 100 affine transforms. These are followed by a Relu\n",
    "- A third affine layer has 100 activations and does 2 affine transformations to create an embedding for visualization. There is no non-linearity here.\n",
    "- A final \"logistic regression\" which has an affine transform from 2 inputs to 1 output, which is squeezed through a sigmoid.\n"
   ]
  },
  {
   "cell_type": "code",
   "execution_count": 17,
   "id": "2b9c66db",
   "metadata": {
    "execution": {
     "iopub.execute_input": "2022-03-14T10:10:30.748943Z",
     "iopub.status.busy": "2022-03-14T10:10:30.748131Z",
     "iopub.status.idle": "2022-03-14T10:10:30.762831Z",
     "shell.execute_reply": "2022-03-14T10:10:30.762212Z"
    },
    "papermill": {
     "duration": 0.05363,
     "end_time": "2022-03-14T10:10:30.762964",
     "exception": false,
     "start_time": "2022-03-14T10:10:30.709334",
     "status": "completed"
    },
    "tags": []
   },
   "outputs": [],
   "source": [
    "data = Data(X_train, y_train.reshape(-1,1))\n",
    "sampler = Sampler(data, config.bs, shuffle=True)\n",
    "\n",
    "dl = Dataloader(data, sampler)\n",
    "\n",
    "opt = GD(config.lr)\n",
    "loss = MSE()"
   ]
  },
  {
   "cell_type": "code",
   "execution_count": 18,
   "id": "b275e4c2",
   "metadata": {
    "execution": {
     "iopub.execute_input": "2022-03-14T10:10:30.835548Z",
     "iopub.status.busy": "2022-03-14T10:10:30.834840Z",
     "iopub.status.idle": "2022-03-14T10:10:30.848712Z",
     "shell.execute_reply": "2022-03-14T10:10:30.848188Z"
    },
    "papermill": {
     "duration": 0.056026,
     "end_time": "2022-03-14T10:10:30.854231",
     "exception": false,
     "start_time": "2022-03-14T10:10:30.798205",
     "status": "completed"
    },
    "tags": []
   },
   "outputs": [],
   "source": [
    "training_data_x = X_train\n",
    "testing_data_x = X_test\n",
    "training_data_y = y_train.reshape(-1,1)\n",
    "testing_data_y = y_test.reshape(-1,1)"
   ]
  },
  {
   "cell_type": "code",
   "execution_count": 19,
   "id": "76951160",
   "metadata": {
    "execution": {
     "iopub.execute_input": "2022-03-14T10:10:30.930715Z",
     "iopub.status.busy": "2022-03-14T10:10:30.929812Z",
     "iopub.status.idle": "2022-03-14T10:10:30.948089Z",
     "shell.execute_reply": "2022-03-14T10:10:30.947376Z"
    },
    "papermill": {
     "duration": 0.056301,
     "end_time": "2022-03-14T10:10:30.948227",
     "exception": false,
     "start_time": "2022-03-14T10:10:30.891926",
     "status": "completed"
    },
    "tags": []
   },
   "outputs": [
    {
     "name": "stdout",
     "output_type": "stream",
     "text": [
      "xavier\n",
      "xavier\n",
      "xavier\n",
      "xavier\n",
      "xavier\n"
     ]
    }
   ],
   "source": [
    "layers = [Affine(\"first\", 784, 100), Relu(\"first\"), Affine(\"second\", 100, 100), Relu(\"second\"), Affine(\"third\", 100, 2), Affine(\"last\", 2, 1), Sigmoid(\"last\")]\n",
    "model_nn = Model(layers)\n",
    "model_lr = Model([Affine(\"logits\", 784, 1), Sigmoid(\"sigmoid\")])"
   ]
  },
  {
   "cell_type": "code",
   "execution_count": 20,
   "id": "6eede77a",
   "metadata": {
    "execution": {
     "iopub.execute_input": "2022-03-14T10:10:31.025130Z",
     "iopub.status.busy": "2022-03-14T10:10:31.019169Z",
     "iopub.status.idle": "2022-03-14T10:10:31.035612Z",
     "shell.execute_reply": "2022-03-14T10:10:31.036118Z"
    },
    "papermill": {
     "duration": 0.053483,
     "end_time": "2022-03-14T10:10:31.036339",
     "exception": false,
     "start_time": "2022-03-14T10:10:30.982856",
     "status": "completed"
    },
    "tags": []
   },
   "outputs": [],
   "source": [
    "nn_learner = Learner(loss, model_nn, opt, config.num_epochs)\n",
    "acc_nn = ClfCallback(nn_learner, config.bs, training_data_x , testing_data_x, training_data_y, testing_data_y)\n",
    "nn_learner.set_callbacks([acc_nn])"
   ]
  },
  {
   "cell_type": "code",
   "execution_count": 21,
   "id": "877b6cc7",
   "metadata": {
    "execution": {
     "iopub.execute_input": "2022-03-14T10:10:31.115215Z",
     "iopub.status.busy": "2022-03-14T10:10:31.110859Z",
     "iopub.status.idle": "2022-03-14T10:10:31.124036Z",
     "shell.execute_reply": "2022-03-14T10:10:31.123512Z"
    },
    "papermill": {
     "duration": 0.05309,
     "end_time": "2022-03-14T10:10:31.124176",
     "exception": false,
     "start_time": "2022-03-14T10:10:31.071086",
     "status": "completed"
    },
    "tags": []
   },
   "outputs": [],
   "source": [
    "lr_learner = Learner(loss, model_lr, opt, config.num_epochs)\n",
    "acc_lr = ClfCallback(lr_learner, config.bs, training_data_x , testing_data_x, training_data_y, testing_data_y)\n",
    "lr_learner.set_callbacks([acc_lr])"
   ]
  },
  {
   "cell_type": "code",
   "execution_count": 22,
   "id": "d9b133c3",
   "metadata": {
    "execution": {
     "iopub.execute_input": "2022-03-14T10:10:31.197321Z",
     "iopub.status.busy": "2022-03-14T10:10:31.196628Z",
     "iopub.status.idle": "2022-03-14T10:12:53.253913Z",
     "shell.execute_reply": "2022-03-14T10:12:53.254829Z"
    },
    "papermill": {
     "duration": 142.096885,
     "end_time": "2022-03-14T10:12:53.254990",
     "exception": false,
     "start_time": "2022-03-14T10:10:31.158105",
     "status": "completed"
    },
    "tags": []
   },
   "outputs": [
    {
     "name": "stdout",
     "output_type": "stream",
     "text": [
      "Epoch 0, Loss 0.2482\n",
      "Training Accuracy: 0.6183, Testing Accuracy: 0.6562\n",
      "\n"
     ]
    },
    {
     "name": "stdout",
     "output_type": "stream",
     "text": [
      "Epoch 10, Loss 0.2324\n",
      "Training Accuracy: 0.8209, Testing Accuracy: 0.8493\n",
      "\n"
     ]
    },
    {
     "name": "stdout",
     "output_type": "stream",
     "text": [
      "Epoch 20, Loss 0.1519\n",
      "Training Accuracy: 0.8845, Testing Accuracy: 0.8982\n",
      "\n"
     ]
    },
    {
     "name": "stdout",
     "output_type": "stream",
     "text": [
      "Epoch 30, Loss 0.0805\n",
      "Training Accuracy: 0.9154, Testing Accuracy: 0.9219\n",
      "\n"
     ]
    },
    {
     "name": "stdout",
     "output_type": "stream",
     "text": [
      "Epoch 40, Loss 0.0576\n",
      "Training Accuracy: 0.9344, Testing Accuracy: 0.9435\n",
      "\n"
     ]
    },
    {
     "name": "stdout",
     "output_type": "stream",
     "text": [
      "Epoch 50, Loss 0.047\n",
      "Training Accuracy: 0.9452, Testing Accuracy: 0.9556\n",
      "\n"
     ]
    },
    {
     "name": "stdout",
     "output_type": "stream",
     "text": [
      "Epoch 60, Loss 0.0411\n",
      "Training Accuracy: 0.9503, Testing Accuracy: 0.9632\n",
      "\n"
     ]
    },
    {
     "name": "stdout",
     "output_type": "stream",
     "text": [
      "Epoch 70, Loss 0.0374\n",
      "Training Accuracy: 0.9551, Testing Accuracy: 0.9652\n",
      "\n"
     ]
    },
    {
     "name": "stdout",
     "output_type": "stream",
     "text": [
      "Epoch 80, Loss 0.0348\n",
      "Training Accuracy: 0.9587, Testing Accuracy: 0.9672\n",
      "\n"
     ]
    },
    {
     "name": "stdout",
     "output_type": "stream",
     "text": [
      "Epoch 90, Loss 0.0329\n",
      "Training Accuracy: 0.9606, Testing Accuracy: 0.9667\n",
      "\n"
     ]
    },
    {
     "name": "stdout",
     "output_type": "stream",
     "text": [
      "Epoch 100, Loss 0.0313\n",
      "Training Accuracy: 0.9618, Testing Accuracy: 0.9677\n",
      "\n"
     ]
    },
    {
     "name": "stdout",
     "output_type": "stream",
     "text": [
      "Epoch 110, Loss 0.0301\n",
      "Training Accuracy: 0.9636, Testing Accuracy: 0.9693\n",
      "\n"
     ]
    },
    {
     "name": "stdout",
     "output_type": "stream",
     "text": [
      "Epoch 120, Loss 0.0291\n",
      "Training Accuracy: 0.9649, Testing Accuracy: 0.9703\n",
      "\n"
     ]
    },
    {
     "name": "stdout",
     "output_type": "stream",
     "text": [
      "Epoch 130, Loss 0.0282\n",
      "Training Accuracy: 0.9657, Testing Accuracy: 0.9703\n",
      "\n"
     ]
    },
    {
     "name": "stdout",
     "output_type": "stream",
     "text": [
      "Epoch 140, Loss 0.0274\n",
      "Training Accuracy: 0.9666, Testing Accuracy: 0.9698\n",
      "\n"
     ]
    },
    {
     "name": "stdout",
     "output_type": "stream",
     "text": [
      "Epoch 150, Loss 0.0267\n",
      "Training Accuracy: 0.9680, Testing Accuracy: 0.9693\n",
      "\n"
     ]
    },
    {
     "name": "stdout",
     "output_type": "stream",
     "text": [
      "Epoch 160, Loss 0.0261\n",
      "Training Accuracy: 0.9688, Testing Accuracy: 0.9698\n",
      "\n"
     ]
    },
    {
     "name": "stdout",
     "output_type": "stream",
     "text": [
      "Epoch 170, Loss 0.0255\n",
      "Training Accuracy: 0.9695, Testing Accuracy: 0.9703\n",
      "\n"
     ]
    },
    {
     "name": "stdout",
     "output_type": "stream",
     "text": [
      "Epoch 180, Loss 0.025\n",
      "Training Accuracy: 0.9700, Testing Accuracy: 0.9708\n",
      "\n"
     ]
    },
    {
     "name": "stdout",
     "output_type": "stream",
     "text": [
      "Epoch 190, Loss 0.0245\n",
      "Training Accuracy: 0.9707, Testing Accuracy: 0.9713\n",
      "\n"
     ]
    },
    {
     "name": "stdout",
     "output_type": "stream",
     "text": [
      "Epoch 200, Loss 0.024\n",
      "Training Accuracy: 0.9710, Testing Accuracy: 0.9713\n",
      "\n"
     ]
    },
    {
     "name": "stdout",
     "output_type": "stream",
     "text": [
      "Epoch 210, Loss 0.0236\n",
      "Training Accuracy: 0.9718, Testing Accuracy: 0.9718\n",
      "\n"
     ]
    },
    {
     "name": "stdout",
     "output_type": "stream",
     "text": [
      "Epoch 220, Loss 0.0231\n",
      "Training Accuracy: 0.9723, Testing Accuracy: 0.9728\n",
      "\n"
     ]
    },
    {
     "name": "stdout",
     "output_type": "stream",
     "text": [
      "Epoch 230, Loss 0.0227\n",
      "Training Accuracy: 0.9724, Testing Accuracy: 0.9733\n",
      "\n"
     ]
    },
    {
     "name": "stdout",
     "output_type": "stream",
     "text": [
      "Epoch 240, Loss 0.0223\n",
      "Training Accuracy: 0.9734, Testing Accuracy: 0.9733\n",
      "\n"
     ]
    },
    {
     "data": {
      "text/plain": [
       "0.029698159540029842"
      ]
     },
     "execution_count": 22,
     "metadata": {},
     "output_type": "execute_result"
    }
   ],
   "source": [
    "nn_learner.train_loop(dl)"
   ]
  },
  {
   "cell_type": "code",
   "execution_count": 23,
   "id": "e0163366",
   "metadata": {
    "execution": {
     "iopub.execute_input": "2022-03-14T10:12:53.359332Z",
     "iopub.status.busy": "2022-03-14T10:12:53.358611Z",
     "iopub.status.idle": "2022-03-14T10:13:13.594849Z",
     "shell.execute_reply": "2022-03-14T10:13:13.595815Z"
    },
    "papermill": {
     "duration": 20.298179,
     "end_time": "2022-03-14T10:13:13.595995",
     "exception": false,
     "start_time": "2022-03-14T10:12:53.297816",
     "status": "completed"
    },
    "tags": []
   },
   "outputs": [
    {
     "name": "stdout",
     "output_type": "stream",
     "text": [
      "Epoch 0, Loss 0.2474\n",
      "Training Accuracy: 0.6569, Testing Accuracy: 0.6331\n",
      "\n"
     ]
    },
    {
     "name": "stdout",
     "output_type": "stream",
     "text": [
      "Epoch 10, Loss 0.1076\n",
      "Training Accuracy: 0.8998, Testing Accuracy: 0.9113\n",
      "\n"
     ]
    },
    {
     "name": "stdout",
     "output_type": "stream",
     "text": [
      "Epoch 20, Loss 0.0818\n",
      "Training Accuracy: 0.9235, Testing Accuracy: 0.9340\n",
      "\n"
     ]
    },
    {
     "name": "stdout",
     "output_type": "stream",
     "text": [
      "Epoch 30, Loss 0.0699\n",
      "Training Accuracy: 0.9334, Testing Accuracy: 0.9435\n",
      "\n"
     ]
    },
    {
     "name": "stdout",
     "output_type": "stream",
     "text": [
      "Epoch 40, Loss 0.0628\n",
      "Training Accuracy: 0.9383, Testing Accuracy: 0.9491\n",
      "\n"
     ]
    },
    {
     "name": "stdout",
     "output_type": "stream",
     "text": [
      "Epoch 50, Loss 0.058\n",
      "Training Accuracy: 0.9424, Testing Accuracy: 0.9546\n",
      "\n"
     ]
    },
    {
     "name": "stdout",
     "output_type": "stream",
     "text": [
      "Epoch 60, Loss 0.0544\n",
      "Training Accuracy: 0.9447, Testing Accuracy: 0.9567\n",
      "\n"
     ]
    },
    {
     "name": "stdout",
     "output_type": "stream",
     "text": [
      "Epoch 70, Loss 0.0518\n",
      "Training Accuracy: 0.9473, Testing Accuracy: 0.9602\n",
      "\n"
     ]
    },
    {
     "name": "stdout",
     "output_type": "stream",
     "text": [
      "Epoch 80, Loss 0.0496\n",
      "Training Accuracy: 0.9493, Testing Accuracy: 0.9632\n",
      "\n"
     ]
    },
    {
     "name": "stdout",
     "output_type": "stream",
     "text": [
      "Epoch 90, Loss 0.0479\n",
      "Training Accuracy: 0.9510, Testing Accuracy: 0.9647\n",
      "\n"
     ]
    },
    {
     "name": "stdout",
     "output_type": "stream",
     "text": [
      "Epoch 100, Loss 0.0464\n",
      "Training Accuracy: 0.9527, Testing Accuracy: 0.9657\n",
      "\n"
     ]
    },
    {
     "name": "stdout",
     "output_type": "stream",
     "text": [
      "Epoch 110, Loss 0.0451\n",
      "Training Accuracy: 0.9534, Testing Accuracy: 0.9662\n",
      "\n"
     ]
    },
    {
     "name": "stdout",
     "output_type": "stream",
     "text": [
      "Epoch 120, Loss 0.044\n",
      "Training Accuracy: 0.9545, Testing Accuracy: 0.9672\n",
      "\n"
     ]
    },
    {
     "name": "stdout",
     "output_type": "stream",
     "text": [
      "Epoch 130, Loss 0.0431\n",
      "Training Accuracy: 0.9554, Testing Accuracy: 0.9667\n",
      "\n"
     ]
    },
    {
     "name": "stdout",
     "output_type": "stream",
     "text": [
      "Epoch 140, Loss 0.0422\n",
      "Training Accuracy: 0.9557, Testing Accuracy: 0.9667\n",
      "\n"
     ]
    },
    {
     "name": "stdout",
     "output_type": "stream",
     "text": [
      "Epoch 150, Loss 0.0415\n",
      "Training Accuracy: 0.9565, Testing Accuracy: 0.9672\n",
      "\n"
     ]
    },
    {
     "name": "stdout",
     "output_type": "stream",
     "text": [
      "Epoch 160, Loss 0.0408\n",
      "Training Accuracy: 0.9569, Testing Accuracy: 0.9672\n",
      "\n"
     ]
    },
    {
     "name": "stdout",
     "output_type": "stream",
     "text": [
      "Epoch 170, Loss 0.0402\n",
      "Training Accuracy: 0.9577, Testing Accuracy: 0.9672\n",
      "\n"
     ]
    },
    {
     "name": "stdout",
     "output_type": "stream",
     "text": [
      "Epoch 180, Loss 0.0396\n",
      "Training Accuracy: 0.9582, Testing Accuracy: 0.9677\n",
      "\n"
     ]
    },
    {
     "name": "stdout",
     "output_type": "stream",
     "text": [
      "Epoch 190, Loss 0.0391\n",
      "Training Accuracy: 0.9589, Testing Accuracy: 0.9677\n",
      "\n"
     ]
    },
    {
     "name": "stdout",
     "output_type": "stream",
     "text": [
      "Epoch 200, Loss 0.0386\n",
      "Training Accuracy: 0.9594, Testing Accuracy: 0.9682\n",
      "\n"
     ]
    },
    {
     "name": "stdout",
     "output_type": "stream",
     "text": [
      "Epoch 210, Loss 0.0382\n",
      "Training Accuracy: 0.9604, Testing Accuracy: 0.9682\n",
      "\n"
     ]
    },
    {
     "name": "stdout",
     "output_type": "stream",
     "text": [
      "Epoch 220, Loss 0.0377\n",
      "Training Accuracy: 0.9606, Testing Accuracy: 0.9682\n",
      "\n"
     ]
    },
    {
     "name": "stdout",
     "output_type": "stream",
     "text": [
      "Epoch 230, Loss 0.0373\n",
      "Training Accuracy: 0.9607, Testing Accuracy: 0.9693\n",
      "\n"
     ]
    },
    {
     "name": "stdout",
     "output_type": "stream",
     "text": [
      "Epoch 240, Loss 0.037\n",
      "Training Accuracy: 0.9609, Testing Accuracy: 0.9693\n",
      "\n"
     ]
    },
    {
     "data": {
      "text/plain": [
       "0.043962978762750834"
      ]
     },
     "execution_count": 23,
     "metadata": {},
     "output_type": "execute_result"
    }
   ],
   "source": [
    "lr_learner.train_loop(dl)"
   ]
  },
  {
   "cell_type": "code",
   "execution_count": 24,
   "id": "ca410940",
   "metadata": {
    "execution": {
     "iopub.execute_input": "2022-03-14T10:13:13.710657Z",
     "iopub.status.busy": "2022-03-14T10:13:13.709944Z",
     "iopub.status.idle": "2022-03-14T10:13:14.017773Z",
     "shell.execute_reply": "2022-03-14T10:13:14.017284Z"
    },
    "papermill": {
     "duration": 0.366798,
     "end_time": "2022-03-14T10:13:14.017903",
     "exception": false,
     "start_time": "2022-03-14T10:13:13.651105",
     "status": "completed"
    },
    "tags": []
   },
   "outputs": [
    {
     "data": {
      "text/plain": [
       "<matplotlib.legend.Legend at 0x7f799e248c88>"
      ]
     },
     "execution_count": 24,
     "metadata": {},
     "output_type": "execute_result"
    },
    {
     "data": {
      "image/png": "[encoded data removed]",
      "text/plain": [
       "<Figure size 1080x720 with 1 Axes>"
      ]
     },
     "metadata": {
      "needs_background": "light"
     },
     "output_type": "display_data"
    }
   ],
   "source": [
    "#comparing the results of NN and LR\n",
    "plt.figure(figsize=(15,10))\n",
    "\n",
    "# Neural Network plots\n",
    "plt.plot(acc_nn.accuracies, 'r-', label = \"Training Accuracies - NN\")\n",
    "plt.plot(acc_nn.test_accuracies, 'g-', label = \"Testing Accuracies - NN\")\n",
    "\n",
    "# Logistic Regression plots\n",
    "plt.plot(acc_lr.accuracies, 'k-', label = \"Training Accuracies - LR\")\n",
    "plt.plot(acc_lr.test_accuracies, 'b-', label = \"Testing Accuracies - LR\")\n",
    "plt.legend()"
   ]
  },
  {
   "cell_type": "markdown",
   "id": "80dfb35c",
   "metadata": {
    "papermill": {
     "duration": 0.051498,
     "end_time": "2022-03-14T10:13:14.120866",
     "exception": false,
     "start_time": "2022-03-14T10:13:14.069368",
     "status": "completed"
    },
    "tags": []
   },
   "source": [
    "#### Plotting the outputs of this layer of the NN.\n"
   ]
  },
  {
   "cell_type": "code",
   "execution_count": 25,
   "id": "45eb2ff5",
   "metadata": {
    "execution": {
     "iopub.execute_input": "2022-03-14T10:13:14.233733Z",
     "iopub.status.busy": "2022-03-14T10:13:14.232473Z",
     "iopub.status.idle": "2022-03-14T10:13:14.259904Z",
     "shell.execute_reply": "2022-03-14T10:13:14.260432Z"
    },
    "papermill": {
     "duration": 0.085977,
     "end_time": "2022-03-14T10:13:14.260595",
     "exception": false,
     "start_time": "2022-03-14T10:13:14.174618",
     "status": "completed"
    },
    "tags": []
   },
   "outputs": [],
   "source": [
    "new_model = Model(layers[:-2])\n",
    "testing_plot = new_model(testing_data_x)"
   ]
  },
  {
   "cell_type": "code",
   "execution_count": 26,
   "id": "4c0a5485",
   "metadata": {
    "execution": {
     "iopub.execute_input": "2022-03-14T10:13:14.375793Z",
     "iopub.status.busy": "2022-03-14T10:13:14.374989Z",
     "iopub.status.idle": "2022-03-14T10:13:14.644678Z",
     "shell.execute_reply": "2022-03-14T10:13:14.645214Z"
    },
    "papermill": {
     "duration": 0.332277,
     "end_time": "2022-03-14T10:13:14.645424",
     "exception": false,
     "start_time": "2022-03-14T10:13:14.313147",
     "status": "completed"
    },
    "tags": []
   },
   "outputs": [
    {
     "data": {
      "text/plain": [
       "Text(0.5, 1.0, 'Outputs')"
      ]
     },
     "execution_count": 26,
     "metadata": {},
     "output_type": "execute_result"
    },
    {
     "data": {
      "image/png": "[encoded data removed]",
      "text/plain": [
       "<Figure size 576x504 with 1 Axes>"
      ]
     },
     "metadata": {
      "needs_background": "light"
     },
     "output_type": "display_data"
    }
   ],
   "source": [
    "# Plotting the scatter plot of points and color coding by class\n",
    "plt.figure(figsize=(8,7))\n",
    "plt.scatter(testing_plot[:,0], testing_plot[:,1], alpha = 0.1, c = y_test.ravel());\n",
    "plt.title('Outputs')"
   ]
  },
  {
   "cell_type": "markdown",
   "id": "a74fcf8f",
   "metadata": {
    "papermill": {
     "duration": 0.057967,
     "end_time": "2022-03-14T10:13:14.758372",
     "exception": false,
     "start_time": "2022-03-14T10:13:14.700405",
     "status": "completed"
    },
    "tags": []
   },
   "source": [
    "Probability contours"
   ]
  },
  {
   "cell_type": "code",
   "execution_count": 27,
   "id": "d0afc8e3",
   "metadata": {
    "execution": {
     "iopub.execute_input": "2022-03-14T10:13:14.893636Z",
     "iopub.status.busy": "2022-03-14T10:13:14.892257Z",
     "iopub.status.idle": "2022-03-14T10:13:14.905501Z",
     "shell.execute_reply": "2022-03-14T10:13:14.905969Z"
    },
    "papermill": {
     "duration": 0.070006,
     "end_time": "2022-03-14T10:13:14.906116",
     "exception": false,
     "start_time": "2022-03-14T10:13:14.836110",
     "status": "completed"
    },
    "tags": []
   },
   "outputs": [],
   "source": [
    "model_prob = Model(layers[-2:]) "
   ]
  },
  {
   "cell_type": "code",
   "execution_count": 28,
   "id": "9b96e238",
   "metadata": {
    "execution": {
     "iopub.execute_input": "2022-03-14T10:13:15.021059Z",
     "iopub.status.busy": "2022-03-14T10:13:15.020426Z",
     "iopub.status.idle": "2022-03-14T10:13:15.034770Z",
     "shell.execute_reply": "2022-03-14T10:13:15.035264Z"
    },
    "papermill": {
     "duration": 0.075062,
     "end_time": "2022-03-14T10:13:15.035408",
     "exception": false,
     "start_time": "2022-03-14T10:13:14.960346",
     "status": "completed"
    },
    "tags": []
   },
   "outputs": [],
   "source": [
    "#creating the x and y ranges according to the above generated plot.\n",
    "x_range = np.linspace(-4, 1, 100) \n",
    "y_range = np.linspace(-6, 6, 100) \n",
    "x_grid, y_grid = np.meshgrid(x_range, y_range) # x_grid and y_grig are of size 100 X 100\n",
    "\n",
    "# converting x_grid and y_grid to continuous arrays\n",
    "x_gridflat = np.ravel(x_grid)\n",
    "y_gridflat = np.ravel(y_grid)\n",
    "\n",
    "# The last layer of the current model takes two columns as input. Hence transpose of np.vstack() is required.\n",
    "X = np.vstack((x_gridflat, y_gridflat)).T\n",
    "\n",
    "prob_contour = model_prob(X).reshape(100,100) "
   ]
  },
  {
   "cell_type": "code",
   "execution_count": 29,
   "id": "da72499a",
   "metadata": {
    "execution": {
     "iopub.execute_input": "2022-03-14T10:13:15.154211Z",
     "iopub.status.busy": "2022-03-14T10:13:15.153483Z",
     "iopub.status.idle": "2022-03-14T10:13:15.482693Z",
     "shell.execute_reply": "2022-03-14T10:13:15.483408Z"
    },
    "papermill": {
     "duration": 0.391309,
     "end_time": "2022-03-14T10:13:15.483590",
     "exception": false,
     "start_time": "2022-03-14T10:13:15.092281",
     "status": "completed"
    },
    "tags": []
   },
   "outputs": [
    {
     "data": {
      "image/png": "[encoded data removed]",
      "text/plain": [
       "<Figure size 720x648 with 1 Axes>"
      ]
     },
     "metadata": {
      "needs_background": "light"
     },
     "output_type": "display_data"
    }
   ],
   "source": [
    "plt.figure(figsize=(10,9))\n",
    "plt.scatter(testing_plot[:,0], testing_plot[:,1], alpha = 0.1, c = y_test.ravel())\n",
    "contours = plt.contour(x_grid,y_grid,prob_contour)\n",
    "plt.title('Probability Contours')\n",
    "plt.clabel(contours, inline = True );"
   ]
  },
  {
   "cell_type": "code",
   "execution_count": null,
   "id": "e81b4ac7",
   "metadata": {
    "papermill": {
     "duration": 0.05692,
     "end_time": "2022-03-14T10:13:15.599765",
     "exception": false,
     "start_time": "2022-03-14T10:13:15.542845",
     "status": "completed"
    },
    "tags": []
   },
   "outputs": [],
   "source": []
  }
 ],
 "metadata": {
  "kernelspec": {
   "display_name": "Python 3",
   "language": "python",
   "name": "python3"
  },
  "language_info": {
   "codemirror_mode": {
    "name": "ipython",
    "version": 3
   },
   "file_extension": ".py",
   "mimetype": "text/x-python",
   "name": "python",
   "nbconvert_exporter": "python",
   "pygments_lexer": "ipython3",
   "version": "3.6.15"
  },
  "papermill": {
   "default_parameters": {},
   "duration": 172.37513,
   "end_time": "2022-03-14T10:13:16.075587",
   "environment_variables": {},
   "exception": null,
   "input_path": "2020-08-11-part2.ipynb",
   "output_path": "2020-08-11-part2.ipynb",
   "parameters": {},
   "start_time": "2022-03-14T10:10:23.700457",
   "version": "2.3.3"
  }
 },
 "nbformat": 4,
 "nbformat_minor": 5
}