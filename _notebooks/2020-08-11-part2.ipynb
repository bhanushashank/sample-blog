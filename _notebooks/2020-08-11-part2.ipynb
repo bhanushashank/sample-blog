{
 "cells": [
  {
   "cell_type": "markdown",
   "id": "98380cd3",
   "metadata": {
    "papermill": {
     "duration": 0.030084,
     "end_time": "2022-10-28T00:48:44.774163",
     "exception": false,
     "start_time": "2022-10-28T00:48:44.744079",
     "status": "completed"
    },
    "tags": []
   },
   "source": [
    "# Distinguish Your Own Digits (DYOD)"
   ]
  },
  {
   "cell_type": "markdown",
   "id": "ef31240d",
   "metadata": {
    "papermill": {
     "duration": 0.023964,
     "end_time": "2022-10-28T00:48:44.822788",
     "exception": false,
     "start_time": "2022-10-28T00:48:44.798824",
     "status": "completed"
    },
    "tags": []
   },
   "source": [
    "You are going to write a classifier that distinguishes between the number 3 and number 8."
   ]
  },
  {
   "cell_type": "code",
   "execution_count": 1,
   "id": "b15c8646",
   "metadata": {
    "execution": {
     "iopub.execute_input": "2022-10-28T00:48:44.881484Z",
     "iopub.status.busy": "2022-10-28T00:48:44.880883Z",
     "iopub.status.idle": "2022-10-28T00:48:44.891850Z",
     "shell.execute_reply": "2022-10-28T00:48:44.891371Z"
    },
    "papermill": {
     "duration": 0.045291,
     "end_time": "2022-10-28T00:48:44.891985",
     "exception": false,
     "start_time": "2022-10-28T00:48:44.846694",
     "status": "completed"
    },
    "tags": []
   },
   "outputs": [],
   "source": [
    "%load_ext autoreload\n",
    "%autoreload 2"
   ]
  },
  {
   "cell_type": "code",
   "execution_count": 2,
   "id": "22ef38dc",
   "metadata": {
    "execution": {
     "iopub.execute_input": "2022-10-28T00:48:44.948498Z",
     "iopub.status.busy": "2022-10-28T00:48:44.947891Z",
     "iopub.status.idle": "2022-10-28T00:48:45.505958Z",
     "shell.execute_reply": "2022-10-28T00:48:45.506480Z"
    },
    "papermill": {
     "duration": 0.590491,
     "end_time": "2022-10-28T00:48:45.506643",
     "exception": false,
     "start_time": "2022-10-28T00:48:44.916152",
     "status": "completed"
    },
    "tags": []
   },
   "outputs": [],
   "source": [
    "%matplotlib inline\n",
    "import numpy as np\n",
    "import matplotlib.pyplot as plt\n",
    "import pandas as pd"
   ]
  },
  {
   "cell_type": "markdown",
   "id": "ba036198",
   "metadata": {
    "papermill": {
     "duration": 0.023865,
     "end_time": "2022-10-28T00:48:45.555303",
     "exception": false,
     "start_time": "2022-10-28T00:48:45.531438",
     "status": "completed"
    },
    "tags": []
   },
   "source": [
    "From the command line run `pip install mnist`. This is a library that will help you bring down the mnist dataset. If you run this from a notebook, you need to put  `!pip install mnist` in a cell by itself."
   ]
  },
  {
   "cell_type": "code",
   "execution_count": 3,
   "id": "bb6ad8a1",
   "metadata": {
    "execution": {
     "iopub.execute_input": "2022-10-28T00:48:45.625082Z",
     "iopub.status.busy": "2022-10-28T00:48:45.616575Z",
     "iopub.status.idle": "2022-10-28T00:48:47.259175Z",
     "shell.execute_reply": "2022-10-28T00:48:47.258623Z"
    },
    "papermill": {
     "duration": 1.680151,
     "end_time": "2022-10-28T00:48:47.259301",
     "exception": false,
     "start_time": "2022-10-28T00:48:45.579150",
     "status": "completed"
    },
    "tags": []
   },
   "outputs": [
    {
     "name": "stdout",
     "output_type": "stream",
     "text": [
      "Collecting mnist\r\n"
     ]
    },
    {
     "name": "stdout",
     "output_type": "stream",
     "text": [
      "  Downloading mnist-0.2.2-py2.py3-none-any.whl (3.5 kB)\r\n",
      "Requirement already satisfied: numpy in /opt/hostedtoolcache/Python/3.6.15/x64/lib/python3.6/site-packages (from mnist) (1.19.5)\r\n"
     ]
    },
    {
     "name": "stdout",
     "output_type": "stream",
     "text": [
      "Installing collected packages: mnist\r\n",
      "Successfully installed mnist-0.2.2\r\n"
     ]
    }
   ],
   "source": [
    "!pip install mnist"
   ]
  },
  {
   "cell_type": "markdown",
   "id": "69df9c9a",
   "metadata": {
    "papermill": {
     "duration": 0.024631,
     "end_time": "2022-10-28T00:48:47.308748",
     "exception": false,
     "start_time": "2022-10-28T00:48:47.284117",
     "status": "completed"
    },
    "tags": []
   },
   "source": [
    "## Preparing the Data"
   ]
  },
  {
   "cell_type": "code",
   "execution_count": 4,
   "id": "7f69d806",
   "metadata": {
    "execution": {
     "iopub.execute_input": "2022-10-28T00:48:47.377367Z",
     "iopub.status.busy": "2022-10-28T00:48:47.372013Z",
     "iopub.status.idle": "2022-10-28T00:48:47.380069Z",
     "shell.execute_reply": "2022-10-28T00:48:47.379488Z"
    },
    "papermill": {
     "duration": 0.046854,
     "end_time": "2022-10-28T00:48:47.380186",
     "exception": false,
     "start_time": "2022-10-28T00:48:47.333332",
     "status": "completed"
    },
    "tags": []
   },
   "outputs": [],
   "source": [
    "import mnist"
   ]
  },
  {
   "cell_type": "code",
   "execution_count": 5,
   "id": "a411e44f",
   "metadata": {
    "execution": {
     "iopub.execute_input": "2022-10-28T00:48:47.452382Z",
     "iopub.status.busy": "2022-10-28T00:48:47.448335Z",
     "iopub.status.idle": "2022-10-28T00:48:48.096824Z",
     "shell.execute_reply": "2022-10-28T00:48:48.096322Z"
    },
    "papermill": {
     "duration": 0.691952,
     "end_time": "2022-10-28T00:48:48.096953",
     "exception": false,
     "start_time": "2022-10-28T00:48:47.405001",
     "status": "completed"
    },
    "tags": []
   },
   "outputs": [],
   "source": [
    "train_images = mnist.train_images()\n",
    "train_labels = mnist.train_labels()"
   ]
  },
  {
   "cell_type": "code",
   "execution_count": 6,
   "id": "dceab3a5",
   "metadata": {
    "execution": {
     "iopub.execute_input": "2022-10-28T00:48:48.162219Z",
     "iopub.status.busy": "2022-10-28T00:48:48.157124Z",
     "iopub.status.idle": "2022-10-28T00:48:48.174247Z",
     "shell.execute_reply": "2022-10-28T00:48:48.173595Z"
    },
    "papermill": {
     "duration": 0.051941,
     "end_time": "2022-10-28T00:48:48.174436",
     "exception": false,
     "start_time": "2022-10-28T00:48:48.122495",
     "status": "completed"
    },
    "tags": []
   },
   "outputs": [
    {
     "data": {
      "text/plain": [
       "((60000, 28, 28), (60000,))"
      ]
     },
     "execution_count": 6,
     "metadata": {},
     "output_type": "execute_result"
    }
   ],
   "source": [
    "train_images.shape, train_labels.shape"
   ]
  },
  {
   "cell_type": "code",
   "execution_count": 7,
   "id": "f50dc2bb",
   "metadata": {
    "execution": {
     "iopub.execute_input": "2022-10-28T00:48:48.233445Z",
     "iopub.status.busy": "2022-10-28T00:48:48.232857Z",
     "iopub.status.idle": "2022-10-28T00:48:48.443857Z",
     "shell.execute_reply": "2022-10-28T00:48:48.444318Z"
    },
    "papermill": {
     "duration": 0.242352,
     "end_time": "2022-10-28T00:48:48.444470",
     "exception": false,
     "start_time": "2022-10-28T00:48:48.202118",
     "status": "completed"
    },
    "tags": []
   },
   "outputs": [],
   "source": [
    "test_images = mnist.test_images()\n",
    "test_labels = mnist.test_labels()"
   ]
  },
  {
   "cell_type": "code",
   "execution_count": 8,
   "id": "fc38cf1b",
   "metadata": {
    "execution": {
     "iopub.execute_input": "2022-10-28T00:48:48.498564Z",
     "iopub.status.busy": "2022-10-28T00:48:48.497981Z",
     "iopub.status.idle": "2022-10-28T00:48:48.511399Z",
     "shell.execute_reply": "2022-10-28T00:48:48.511948Z"
    },
    "papermill": {
     "duration": 0.042497,
     "end_time": "2022-10-28T00:48:48.512080",
     "exception": false,
     "start_time": "2022-10-28T00:48:48.469583",
     "status": "completed"
    },
    "tags": []
   },
   "outputs": [
    {
     "data": {
      "text/plain": [
       "((10000, 28, 28), (10000,))"
      ]
     },
     "execution_count": 8,
     "metadata": {},
     "output_type": "execute_result"
    }
   ],
   "source": [
    "test_images.shape, test_labels.shape"
   ]
  },
  {
   "cell_type": "code",
   "execution_count": 9,
   "id": "f9ed8fe0",
   "metadata": {
    "execution": {
     "iopub.execute_input": "2022-10-28T00:48:48.566352Z",
     "iopub.status.busy": "2022-10-28T00:48:48.565767Z",
     "iopub.status.idle": "2022-10-28T00:48:48.709328Z",
     "shell.execute_reply": "2022-10-28T00:48:48.708823Z"
    },
    "papermill": {
     "duration": 0.172311,
     "end_time": "2022-10-28T00:48:48.709446",
     "exception": false,
     "start_time": "2022-10-28T00:48:48.537135",
     "status": "completed"
    },
    "tags": []
   },
   "outputs": [
    {
     "name": "stdout",
     "output_type": "stream",
     "text": [
      "2\n"
     ]
    },
    {
     "data": {
      "text/plain": [
       "<matplotlib.image.AxesImage at 0x7fef28244d30>"
      ]
     },
     "execution_count": 9,
     "metadata": {},
     "output_type": "execute_result"
    },
    {
     "data": {
      "image/png": "[encoded data removed]",
      "text/plain": [
       "<Figure size 432x288 with 1 Axes>"
      ]
     },
     "metadata": {
      "needs_background": "light"
     },
     "output_type": "display_data"
    }
   ],
   "source": [
    "image_index = 7776 # You may select anything up to 60,000\n",
    "print(train_labels[image_index]) \n",
    "plt.imshow(train_images[image_index], cmap='Greys')"
   ]
  },
  {
   "cell_type": "markdown",
   "id": "a8d2388d",
   "metadata": {
    "papermill": {
     "duration": 0.02891,
     "end_time": "2022-10-28T00:48:48.765139",
     "exception": false,
     "start_time": "2022-10-28T00:48:48.736229",
     "status": "completed"
    },
    "tags": []
   },
   "source": [
    "## Filter data to get 3 and 8 out"
   ]
  },
  {
   "cell_type": "code",
   "execution_count": 10,
   "id": "776f7fc7",
   "metadata": {
    "execution": {
     "iopub.execute_input": "2022-10-28T00:48:48.822978Z",
     "iopub.status.busy": "2022-10-28T00:48:48.822258Z",
     "iopub.status.idle": "2022-10-28T00:48:48.841834Z",
     "shell.execute_reply": "2022-10-28T00:48:48.843076Z"
    },
    "papermill": {
     "duration": 0.051533,
     "end_time": "2022-10-28T00:48:48.843232",
     "exception": false,
     "start_time": "2022-10-28T00:48:48.791699",
     "status": "completed"
    },
    "tags": []
   },
   "outputs": [],
   "source": [
    "train_filter = np.where((train_labels == 3 ) | (train_labels == 8))\n",
    "test_filter = np.where((test_labels == 3) | (test_labels == 8))\n",
    "X_train, y_train = train_images[train_filter], train_labels[train_filter]\n",
    "X_test, y_test = test_images[test_filter], test_labels[test_filter]"
   ]
  },
  {
   "cell_type": "markdown",
   "id": "948f0b7e",
   "metadata": {
    "papermill": {
     "duration": 0.026279,
     "end_time": "2022-10-28T00:48:48.896219",
     "exception": false,
     "start_time": "2022-10-28T00:48:48.869940",
     "status": "completed"
    },
    "tags": []
   },
   "source": [
    "We normalize the pizel values in the 0 to 1 range"
   ]
  },
  {
   "cell_type": "code",
   "execution_count": 11,
   "id": "ee4c2166",
   "metadata": {
    "execution": {
     "iopub.execute_input": "2022-10-28T00:48:48.959807Z",
     "iopub.status.busy": "2022-10-28T00:48:48.952501Z",
     "iopub.status.idle": "2022-10-28T00:48:48.999916Z",
     "shell.execute_reply": "2022-10-28T00:48:48.999308Z"
    },
    "papermill": {
     "duration": 0.077528,
     "end_time": "2022-10-28T00:48:49.000051",
     "exception": false,
     "start_time": "2022-10-28T00:48:48.922523",
     "status": "completed"
    },
    "tags": []
   },
   "outputs": [],
   "source": [
    "X_train = X_train/255.\n",
    "X_test = X_test/255."
   ]
  },
  {
   "cell_type": "markdown",
   "id": "ddcf4fab",
   "metadata": {
    "papermill": {
     "duration": 0.030561,
     "end_time": "2022-10-28T00:48:49.057502",
     "exception": false,
     "start_time": "2022-10-28T00:48:49.026941",
     "status": "completed"
    },
    "tags": []
   },
   "source": [
    "And setup the labels as 1 (when the digit is 3) and 0 (when the digit is 8)"
   ]
  },
  {
   "cell_type": "code",
   "execution_count": 12,
   "id": "7dc908f2",
   "metadata": {
    "execution": {
     "iopub.execute_input": "2022-10-28T00:48:49.115044Z",
     "iopub.status.busy": "2022-10-28T00:48:49.114432Z",
     "iopub.status.idle": "2022-10-28T00:48:49.126158Z",
     "shell.execute_reply": "2022-10-28T00:48:49.126583Z"
    },
    "papermill": {
     "duration": 0.042429,
     "end_time": "2022-10-28T00:48:49.126721",
     "exception": false,
     "start_time": "2022-10-28T00:48:49.084292",
     "status": "completed"
    },
    "tags": []
   },
   "outputs": [],
   "source": [
    "y_train = 1*(y_train==3)\n",
    "y_test = 1*(y_test==3)"
   ]
  },
  {
   "cell_type": "code",
   "execution_count": 13,
   "id": "01e4e969",
   "metadata": {
    "execution": {
     "iopub.execute_input": "2022-10-28T00:48:49.188015Z",
     "iopub.status.busy": "2022-10-28T00:48:49.187431Z",
     "iopub.status.idle": "2022-10-28T00:48:49.201033Z",
     "shell.execute_reply": "2022-10-28T00:48:49.200566Z"
    },
    "papermill": {
     "duration": 0.04362,
     "end_time": "2022-10-28T00:48:49.201146",
     "exception": false,
     "start_time": "2022-10-28T00:48:49.157526",
     "status": "completed"
    },
    "tags": []
   },
   "outputs": [
    {
     "data": {
      "text/plain": [
       "((11982, 28, 28), (1984, 28, 28))"
      ]
     },
     "execution_count": 13,
     "metadata": {},
     "output_type": "execute_result"
    }
   ],
   "source": [
    "X_train.shape, X_test.shape"
   ]
  },
  {
   "cell_type": "markdown",
   "id": "5ccf3f85",
   "metadata": {
    "papermill": {
     "duration": 0.030923,
     "end_time": "2022-10-28T00:48:49.258713",
     "exception": false,
     "start_time": "2022-10-28T00:48:49.227790",
     "status": "completed"
    },
    "tags": []
   },
   "source": [
    "We reshape the data to flatten the image pixels into a set of features or co-variates:"
   ]
  },
  {
   "cell_type": "code",
   "execution_count": 14,
   "id": "5286a4a3",
   "metadata": {
    "execution": {
     "iopub.execute_input": "2022-10-28T00:48:49.319411Z",
     "iopub.status.busy": "2022-10-28T00:48:49.318772Z",
     "iopub.status.idle": "2022-10-28T00:48:49.330697Z",
     "shell.execute_reply": "2022-10-28T00:48:49.331193Z"
    },
    "papermill": {
     "duration": 0.045589,
     "end_time": "2022-10-28T00:48:49.331329",
     "exception": false,
     "start_time": "2022-10-28T00:48:49.285740",
     "status": "completed"
    },
    "tags": []
   },
   "outputs": [
    {
     "data": {
      "text/plain": [
       "((11982, 784), (1984, 784))"
      ]
     },
     "execution_count": 14,
     "metadata": {},
     "output_type": "execute_result"
    }
   ],
   "source": [
    "X_train = X_train.reshape(X_train.shape[0], -1)\n",
    "X_test = X_test.reshape(X_test.shape[0], -1)\n",
    "X_train.shape, X_test.shape"
   ]
  },
  {
   "cell_type": "code",
   "execution_count": 15,
   "id": "73c5f88a",
   "metadata": {
    "execution": {
     "iopub.execute_input": "2022-10-28T00:48:49.394603Z",
     "iopub.status.busy": "2022-10-28T00:48:49.393906Z",
     "iopub.status.idle": "2022-10-28T00:48:49.412538Z",
     "shell.execute_reply": "2022-10-28T00:48:49.412054Z"
    },
    "papermill": {
     "duration": 0.049988,
     "end_time": "2022-10-28T00:48:49.412651",
     "exception": false,
     "start_time": "2022-10-28T00:48:49.362663",
     "status": "completed"
    },
    "tags": []
   },
   "outputs": [],
   "source": [
    "#Impoting functions from 'Kudzu'\n",
    "from kudzu.model import Model\n",
    "from kudzu.train import Learner\n",
    "from kudzu.optim import GD\n",
    "from kudzu.data import Data, Sampler,Dataloader\n",
    "\n",
    "from kudzu.callbacks import AccCallback\n",
    "from kudzu.callbacks import ClfCallback\n",
    "\n",
    "from kudzu.loss import MSE\n",
    "\n",
    "from kudzu.layer import Sigmoid,Relu\n",
    "from kudzu.layer import Affine"
   ]
  },
  {
   "cell_type": "markdown",
   "id": "bc01172a",
   "metadata": {
    "papermill": {
     "duration": 0.028375,
     "end_time": "2022-10-28T00:48:49.471693",
     "exception": false,
     "start_time": "2022-10-28T00:48:49.443318",
     "status": "completed"
    },
    "tags": []
   },
   "source": [
    "### Let us create a `Config` class, to store important parameters. \n",
    "This class essentially plays the role of a dictionary."
   ]
  },
  {
   "cell_type": "code",
   "execution_count": 16,
   "id": "978281aa",
   "metadata": {
    "execution": {
     "iopub.execute_input": "2022-10-28T00:48:49.530167Z",
     "iopub.status.busy": "2022-10-28T00:48:49.529019Z",
     "iopub.status.idle": "2022-10-28T00:48:49.543861Z",
     "shell.execute_reply": "2022-10-28T00:48:49.544329Z"
    },
    "papermill": {
     "duration": 0.04601,
     "end_time": "2022-10-28T00:48:49.544465",
     "exception": false,
     "start_time": "2022-10-28T00:48:49.498455",
     "status": "completed"
    },
    "tags": []
   },
   "outputs": [],
   "source": [
    "class Config:\n",
    "    pass\n",
    "config = Config()\n",
    "config.lr = 0.001\n",
    "config.num_epochs = 250\n",
    "config.bs = 50"
   ]
  },
  {
   "cell_type": "markdown",
   "id": "1385fa59",
   "metadata": {
    "papermill": {
     "duration": 0.026821,
     "end_time": "2022-10-28T00:48:49.598285",
     "exception": false,
     "start_time": "2022-10-28T00:48:49.571464",
     "status": "completed"
    },
    "tags": []
   },
   "source": [
    "### Running Models with the Training data\n",
    "Details about the network layers:\n",
    "- A first affine layer has 784 inputs and does 100 affine transforms. These are followed by a Relu\n",
    "- A second affine layer has 100 inputs from the 100 activations of the past layer, and does 100 affine transforms. These are followed by a Relu\n",
    "- A third affine layer has 100 activations and does 2 affine transformations to create an embedding for visualization. There is no non-linearity here.\n",
    "- A final \"logistic regression\" which has an affine transform from 2 inputs to 1 output, which is squeezed through a sigmoid.\n"
   ]
  },
  {
   "cell_type": "code",
   "execution_count": 17,
   "id": "2b9c66db",
   "metadata": {
    "execution": {
     "iopub.execute_input": "2022-10-28T00:48:49.664371Z",
     "iopub.status.busy": "2022-10-28T00:48:49.663787Z",
     "iopub.status.idle": "2022-10-28T00:48:49.674999Z",
     "shell.execute_reply": "2022-10-28T00:48:49.674401Z"
    },
    "papermill": {
     "duration": 0.050058,
     "end_time": "2022-10-28T00:48:49.675116",
     "exception": false,
     "start_time": "2022-10-28T00:48:49.625058",
     "status": "completed"
    },
    "tags": []
   },
   "outputs": [],
   "source": [
    "data = Data(X_train, y_train.reshape(-1,1))\n",
    "sampler = Sampler(data, config.bs, shuffle=True)\n",
    "\n",
    "dl = Dataloader(data, sampler)\n",
    "\n",
    "opt = GD(config.lr)\n",
    "loss = MSE()"
   ]
  },
  {
   "cell_type": "code",
   "execution_count": 18,
   "id": "b275e4c2",
   "metadata": {
    "execution": {
     "iopub.execute_input": "2022-10-28T00:48:49.733530Z",
     "iopub.status.busy": "2022-10-28T00:48:49.732929Z",
     "iopub.status.idle": "2022-10-28T00:48:49.745731Z",
     "shell.execute_reply": "2022-10-28T00:48:49.746167Z"
    },
    "papermill": {
     "duration": 0.044196,
     "end_time": "2022-10-28T00:48:49.746310",
     "exception": false,
     "start_time": "2022-10-28T00:48:49.702114",
     "status": "completed"
    },
    "tags": []
   },
   "outputs": [],
   "source": [
    "training_data_x = X_train\n",
    "testing_data_x = X_test\n",
    "training_data_y = y_train.reshape(-1,1)\n",
    "testing_data_y = y_test.reshape(-1,1)"
   ]
  },
  {
   "cell_type": "code",
   "execution_count": 19,
   "id": "76951160",
   "metadata": {
    "execution": {
     "iopub.execute_input": "2022-10-28T00:48:49.804825Z",
     "iopub.status.busy": "2022-10-28T00:48:49.804232Z",
     "iopub.status.idle": "2022-10-28T00:48:49.821775Z",
     "shell.execute_reply": "2022-10-28T00:48:49.821211Z"
    },
    "papermill": {
     "duration": 0.048639,
     "end_time": "2022-10-28T00:48:49.821889",
     "exception": false,
     "start_time": "2022-10-28T00:48:49.773250",
     "status": "completed"
    },
    "tags": []
   },
   "outputs": [
    {
     "name": "stdout",
     "output_type": "stream",
     "text": [
      "xavier\n",
      "xavier\n",
      "xavier\n",
      "xavier\n",
      "xavier\n"
     ]
    }
   ],
   "source": [
    "layers = [Affine(\"first\", 784, 100), Relu(\"first\"), Affine(\"second\", 100, 100), Relu(\"second\"), Affine(\"third\", 100, 2), Affine(\"last\", 2, 1), Sigmoid(\"last\")]\n",
    "model_nn = Model(layers)\n",
    "model_lr = Model([Affine(\"logits\", 784, 1), Sigmoid(\"sigmoid\")])"
   ]
  },
  {
   "cell_type": "code",
   "execution_count": 20,
   "id": "6eede77a",
   "metadata": {
    "execution": {
     "iopub.execute_input": "2022-10-28T00:48:49.884816Z",
     "iopub.status.busy": "2022-10-28T00:48:49.884227Z",
     "iopub.status.idle": "2022-10-28T00:48:49.897394Z",
     "shell.execute_reply": "2022-10-28T00:48:49.896918Z"
    },
    "papermill": {
     "duration": 0.044217,
     "end_time": "2022-10-28T00:48:49.897510",
     "exception": false,
     "start_time": "2022-10-28T00:48:49.853293",
     "status": "completed"
    },
    "tags": []
   },
   "outputs": [],
   "source": [
    "nn_learner = Learner(loss, model_nn, opt, config.num_epochs)\n",
    "acc_nn = ClfCallback(nn_learner, config.bs, training_data_x , testing_data_x, training_data_y, testing_data_y)\n",
    "nn_learner.set_callbacks([acc_nn])"
   ]
  },
  {
   "cell_type": "code",
   "execution_count": 21,
   "id": "877b6cc7",
   "metadata": {
    "execution": {
     "iopub.execute_input": "2022-10-28T00:48:49.960971Z",
     "iopub.status.busy": "2022-10-28T00:48:49.960390Z",
     "iopub.status.idle": "2022-10-28T00:48:49.972581Z",
     "shell.execute_reply": "2022-10-28T00:48:49.973029Z"
    },
    "papermill": {
     "duration": 0.048518,
     "end_time": "2022-10-28T00:48:49.973164",
     "exception": false,
     "start_time": "2022-10-28T00:48:49.924646",
     "status": "completed"
    },
    "tags": []
   },
   "outputs": [],
   "source": [
    "lr_learner = Learner(loss, model_lr, opt, config.num_epochs)\n",
    "acc_lr = ClfCallback(lr_learner, config.bs, training_data_x , testing_data_x, training_data_y, testing_data_y)\n",
    "lr_learner.set_callbacks([acc_lr])"
   ]
  },
  {
   "cell_type": "code",
   "execution_count": 22,
   "id": "d9b133c3",
   "metadata": {
    "execution": {
     "iopub.execute_input": "2022-10-28T00:48:50.031654Z",
     "iopub.status.busy": "2022-10-28T00:48:50.031055Z",
     "iopub.status.idle": "2022-10-28T00:50:04.254501Z",
     "shell.execute_reply": "2022-10-28T00:50:04.255429Z"
    },
    "papermill": {
     "duration": 74.255062,
     "end_time": "2022-10-28T00:50:04.255587",
     "exception": false,
     "start_time": "2022-10-28T00:48:50.000525",
     "status": "completed"
    },
    "tags": []
   },
   "outputs": [
    {
     "name": "stdout",
     "output_type": "stream",
     "text": [
      "Epoch 0, Loss 0.2432\n",
      "Training Accuracy: 0.6474, Testing Accuracy: 0.6562\n",
      "\n"
     ]
    },
    {
     "name": "stdout",
     "output_type": "stream",
     "text": [
      "Epoch 10, Loss 0.1331\n",
      "Training Accuracy: 0.8865, Testing Accuracy: 0.9017\n",
      "\n"
     ]
    },
    {
     "name": "stdout",
     "output_type": "stream",
     "text": [
      "Epoch 20, Loss 0.0727\n",
      "Training Accuracy: 0.9256, Testing Accuracy: 0.9370\n",
      "\n"
     ]
    },
    {
     "name": "stdout",
     "output_type": "stream",
     "text": [
      "Epoch 30, Loss 0.0523\n",
      "Training Accuracy: 0.9444, Testing Accuracy: 0.9526\n",
      "\n"
     ]
    },
    {
     "name": "stdout",
     "output_type": "stream",
     "text": [
      "Epoch 40, Loss 0.0431\n",
      "Training Accuracy: 0.9535, Testing Accuracy: 0.9582\n",
      "\n"
     ]
    },
    {
     "name": "stdout",
     "output_type": "stream",
     "text": [
      "Epoch 50, Loss 0.0382\n",
      "Training Accuracy: 0.9567, Testing Accuracy: 0.9622\n",
      "\n"
     ]
    },
    {
     "name": "stdout",
     "output_type": "stream",
     "text": [
      "Epoch 60, Loss 0.0351\n",
      "Training Accuracy: 0.9599, Testing Accuracy: 0.9632\n",
      "\n"
     ]
    },
    {
     "name": "stdout",
     "output_type": "stream",
     "text": [
      "Epoch 70, Loss 0.0329\n",
      "Training Accuracy: 0.9619, Testing Accuracy: 0.9652\n",
      "\n"
     ]
    },
    {
     "name": "stdout",
     "output_type": "stream",
     "text": [
      "Epoch 80, Loss 0.0312\n",
      "Training Accuracy: 0.9639, Testing Accuracy: 0.9667\n",
      "\n"
     ]
    },
    {
     "name": "stdout",
     "output_type": "stream",
     "text": [
      "Epoch 90, Loss 0.0298\n",
      "Training Accuracy: 0.9653, Testing Accuracy: 0.9677\n",
      "\n"
     ]
    },
    {
     "name": "stdout",
     "output_type": "stream",
     "text": [
      "Epoch 100, Loss 0.0287\n",
      "Training Accuracy: 0.9670, Testing Accuracy: 0.9703\n",
      "\n"
     ]
    },
    {
     "name": "stdout",
     "output_type": "stream",
     "text": [
      "Epoch 110, Loss 0.0277\n",
      "Training Accuracy: 0.9677, Testing Accuracy: 0.9718\n",
      "\n"
     ]
    },
    {
     "name": "stdout",
     "output_type": "stream",
     "text": [
      "Epoch 120, Loss 0.0269\n",
      "Training Accuracy: 0.9689, Testing Accuracy: 0.9713\n",
      "\n"
     ]
    },
    {
     "name": "stdout",
     "output_type": "stream",
     "text": [
      "Epoch 130, Loss 0.0261\n",
      "Training Accuracy: 0.9698, Testing Accuracy: 0.9718\n",
      "\n"
     ]
    },
    {
     "name": "stdout",
     "output_type": "stream",
     "text": [
      "Epoch 140, Loss 0.0254\n",
      "Training Accuracy: 0.9707, Testing Accuracy: 0.9723\n",
      "\n"
     ]
    },
    {
     "name": "stdout",
     "output_type": "stream",
     "text": [
      "Epoch 150, Loss 0.0248\n",
      "Training Accuracy: 0.9717, Testing Accuracy: 0.9713\n",
      "\n"
     ]
    },
    {
     "name": "stdout",
     "output_type": "stream",
     "text": [
      "Epoch 160, Loss 0.0243\n",
      "Training Accuracy: 0.9720, Testing Accuracy: 0.9718\n",
      "\n"
     ]
    },
    {
     "name": "stdout",
     "output_type": "stream",
     "text": [
      "Epoch 170, Loss 0.0238\n",
      "Training Accuracy: 0.9730, Testing Accuracy: 0.9718\n",
      "\n"
     ]
    },
    {
     "name": "stdout",
     "output_type": "stream",
     "text": [
      "Epoch 180, Loss 0.0233\n",
      "Training Accuracy: 0.9738, Testing Accuracy: 0.9718\n",
      "\n"
     ]
    },
    {
     "name": "stdout",
     "output_type": "stream",
     "text": [
      "Epoch 190, Loss 0.0228\n",
      "Training Accuracy: 0.9739, Testing Accuracy: 0.9718\n",
      "\n"
     ]
    },
    {
     "name": "stdout",
     "output_type": "stream",
     "text": [
      "Epoch 200, Loss 0.0224\n",
      "Training Accuracy: 0.9746, Testing Accuracy: 0.9728\n",
      "\n"
     ]
    },
    {
     "name": "stdout",
     "output_type": "stream",
     "text": [
      "Epoch 210, Loss 0.022\n",
      "Training Accuracy: 0.9748, Testing Accuracy: 0.9728\n",
      "\n"
     ]
    },
    {
     "name": "stdout",
     "output_type": "stream",
     "text": [
      "Epoch 220, Loss 0.0216\n",
      "Training Accuracy: 0.9755, Testing Accuracy: 0.9728\n",
      "\n"
     ]
    },
    {
     "name": "stdout",
     "output_type": "stream",
     "text": [
      "Epoch 230, Loss 0.0212\n",
      "Training Accuracy: 0.9760, Testing Accuracy: 0.9733\n",
      "\n"
     ]
    },
    {
     "name": "stdout",
     "output_type": "stream",
     "text": [
      "Epoch 240, Loss 0.0209\n",
      "Training Accuracy: 0.9763, Testing Accuracy: 0.9738\n",
      "\n"
     ]
    },
    {
     "data": {
      "text/plain": [
       "0.000992494893177091"
      ]
     },
     "execution_count": 22,
     "metadata": {},
     "output_type": "execute_result"
    }
   ],
   "source": [
    "nn_learner.train_loop(dl)"
   ]
  },
  {
   "cell_type": "code",
   "execution_count": 23,
   "id": "e0163366",
   "metadata": {
    "execution": {
     "iopub.execute_input": "2022-10-28T00:50:04.332900Z",
     "iopub.status.busy": "2022-10-28T00:50:04.332301Z",
     "iopub.status.idle": "2022-10-28T00:50:17.628912Z",
     "shell.execute_reply": "2022-10-28T00:50:17.629750Z"
    },
    "papermill": {
     "duration": 13.339379,
     "end_time": "2022-10-28T00:50:17.629894",
     "exception": false,
     "start_time": "2022-10-28T00:50:04.290515",
     "status": "completed"
    },
    "tags": []
   },
   "outputs": [
    {
     "name": "stdout",
     "output_type": "stream",
     "text": [
      "Epoch 0, Loss 0.2713\n",
      "Training Accuracy: 0.5372, Testing Accuracy: 0.5554\n",
      "\n"
     ]
    },
    {
     "name": "stdout",
     "output_type": "stream",
     "text": [
      "Epoch 10, Loss 0.1077\n",
      "Training Accuracy: 0.8991, Testing Accuracy: 0.9057\n",
      "\n"
     ]
    },
    {
     "name": "stdout",
     "output_type": "stream",
     "text": [
      "Epoch 20, Loss 0.0811\n",
      "Training Accuracy: 0.9236, Testing Accuracy: 0.9304\n",
      "\n"
     ]
    },
    {
     "name": "stdout",
     "output_type": "stream",
     "text": [
      "Epoch 30, Loss 0.0691\n",
      "Training Accuracy: 0.9357, Testing Accuracy: 0.9446\n",
      "\n"
     ]
    },
    {
     "name": "stdout",
     "output_type": "stream",
     "text": [
      "Epoch 40, Loss 0.0621\n",
      "Training Accuracy: 0.9412, Testing Accuracy: 0.9496\n",
      "\n"
     ]
    },
    {
     "name": "stdout",
     "output_type": "stream",
     "text": [
      "Epoch 50, Loss 0.0574\n",
      "Training Accuracy: 0.9440, Testing Accuracy: 0.9531\n",
      "\n"
     ]
    },
    {
     "name": "stdout",
     "output_type": "stream",
     "text": [
      "Epoch 60, Loss 0.0539\n",
      "Training Accuracy: 0.9468, Testing Accuracy: 0.9561\n",
      "\n"
     ]
    },
    {
     "name": "stdout",
     "output_type": "stream",
     "text": [
      "Epoch 70, Loss 0.0513\n",
      "Training Accuracy: 0.9477, Testing Accuracy: 0.9577\n",
      "\n"
     ]
    },
    {
     "name": "stdout",
     "output_type": "stream",
     "text": [
      "Epoch 80, Loss 0.0492\n",
      "Training Accuracy: 0.9492, Testing Accuracy: 0.9612\n",
      "\n"
     ]
    },
    {
     "name": "stdout",
     "output_type": "stream",
     "text": [
      "Epoch 90, Loss 0.0475\n",
      "Training Accuracy: 0.9505, Testing Accuracy: 0.9632\n",
      "\n"
     ]
    },
    {
     "name": "stdout",
     "output_type": "stream",
     "text": [
      "Epoch 100, Loss 0.0461\n",
      "Training Accuracy: 0.9514, Testing Accuracy: 0.9637\n",
      "\n"
     ]
    },
    {
     "name": "stdout",
     "output_type": "stream",
     "text": [
      "Epoch 110, Loss 0.0449\n",
      "Training Accuracy: 0.9527, Testing Accuracy: 0.9647\n",
      "\n"
     ]
    },
    {
     "name": "stdout",
     "output_type": "stream",
     "text": [
      "Epoch 120, Loss 0.0438\n",
      "Training Accuracy: 0.9534, Testing Accuracy: 0.9662\n",
      "\n"
     ]
    },
    {
     "name": "stdout",
     "output_type": "stream",
     "text": [
      "Epoch 130, Loss 0.0429\n",
      "Training Accuracy: 0.9544, Testing Accuracy: 0.9672\n",
      "\n"
     ]
    },
    {
     "name": "stdout",
     "output_type": "stream",
     "text": [
      "Epoch 140, Loss 0.042\n",
      "Training Accuracy: 0.9553, Testing Accuracy: 0.9672\n",
      "\n"
     ]
    },
    {
     "name": "stdout",
     "output_type": "stream",
     "text": [
      "Epoch 150, Loss 0.0413\n",
      "Training Accuracy: 0.9561, Testing Accuracy: 0.9662\n",
      "\n"
     ]
    },
    {
     "name": "stdout",
     "output_type": "stream",
     "text": [
      "Epoch 160, Loss 0.0406\n",
      "Training Accuracy: 0.9567, Testing Accuracy: 0.9667\n",
      "\n"
     ]
    },
    {
     "name": "stdout",
     "output_type": "stream",
     "text": [
      "Epoch 170, Loss 0.04\n",
      "Training Accuracy: 0.9569, Testing Accuracy: 0.9667\n",
      "\n"
     ]
    },
    {
     "name": "stdout",
     "output_type": "stream",
     "text": [
      "Epoch 180, Loss 0.0395\n",
      "Training Accuracy: 0.9572, Testing Accuracy: 0.9667\n",
      "\n"
     ]
    },
    {
     "name": "stdout",
     "output_type": "stream",
     "text": [
      "Epoch 190, Loss 0.0389\n",
      "Training Accuracy: 0.9576, Testing Accuracy: 0.9667\n",
      "\n"
     ]
    },
    {
     "name": "stdout",
     "output_type": "stream",
     "text": [
      "Epoch 200, Loss 0.0385\n",
      "Training Accuracy: 0.9580, Testing Accuracy: 0.9672\n",
      "\n"
     ]
    },
    {
     "name": "stdout",
     "output_type": "stream",
     "text": [
      "Epoch 210, Loss 0.038\n",
      "Training Accuracy: 0.9584, Testing Accuracy: 0.9672\n",
      "\n"
     ]
    },
    {
     "name": "stdout",
     "output_type": "stream",
     "text": [
      "Epoch 220, Loss 0.0376\n",
      "Training Accuracy: 0.9586, Testing Accuracy: 0.9672\n",
      "\n"
     ]
    },
    {
     "name": "stdout",
     "output_type": "stream",
     "text": [
      "Epoch 230, Loss 0.0372\n",
      "Training Accuracy: 0.9591, Testing Accuracy: 0.9672\n",
      "\n"
     ]
    },
    {
     "name": "stdout",
     "output_type": "stream",
     "text": [
      "Epoch 240, Loss 0.0369\n",
      "Training Accuracy: 0.9593, Testing Accuracy: 0.9677\n",
      "\n"
     ]
    },
    {
     "data": {
      "text/plain": [
       "0.04439885661602117"
      ]
     },
     "execution_count": 23,
     "metadata": {},
     "output_type": "execute_result"
    }
   ],
   "source": [
    "lr_learner.train_loop(dl)"
   ]
  },
  {
   "cell_type": "code",
   "execution_count": 24,
   "id": "ca410940",
   "metadata": {
    "execution": {
     "iopub.execute_input": "2022-10-28T00:50:17.720860Z",
     "iopub.status.busy": "2022-10-28T00:50:17.720255Z",
     "iopub.status.idle": "2022-10-28T00:50:17.938143Z",
     "shell.execute_reply": "2022-10-28T00:50:17.937292Z"
    },
    "papermill": {
     "duration": 0.266345,
     "end_time": "2022-10-28T00:50:17.938271",
     "exception": false,
     "start_time": "2022-10-28T00:50:17.671926",
     "status": "completed"
    },
    "tags": []
   },
   "outputs": [
    {
     "data": {
      "text/plain": [
       "<matplotlib.legend.Legend at 0x7fef27db4358>"
      ]
     },
     "execution_count": 24,
     "metadata": {},
     "output_type": "execute_result"
    },
    {
     "data": {
      "image/png": "[encoded data removed]",
      "text/plain": [
       "<Figure size 1080x720 with 1 Axes>"
      ]
     },
     "metadata": {
      "needs_background": "light"
     },
     "output_type": "display_data"
    }
   ],
   "source": [
    "#comparing the results of NN and LR\n",
    "plt.figure(figsize=(15,10))\n",
    "\n",
    "# Neural Network plots\n",
    "plt.plot(acc_nn.accuracies, 'r-', label = \"Training Accuracies - NN\")\n",
    "plt.plot(acc_nn.test_accuracies, 'g-', label = \"Testing Accuracies - NN\")\n",
    "\n",
    "# Logistic Regression plots\n",
    "plt.plot(acc_lr.accuracies, 'k-', label = \"Training Accuracies - LR\")\n",
    "plt.plot(acc_lr.test_accuracies, 'b-', label = \"Testing Accuracies - LR\")\n",
    "plt.legend()"
   ]
  },
  {
   "cell_type": "markdown",
   "id": "80dfb35c",
   "metadata": {
    "papermill": {
     "duration": 0.043205,
     "end_time": "2022-10-28T00:50:18.027225",
     "exception": false,
     "start_time": "2022-10-28T00:50:17.984020",
     "status": "completed"
    },
    "tags": []
   },
   "source": [
    "#### Plotting the outputs of this layer of the NN.\n"
   ]
  },
  {
   "cell_type": "code",
   "execution_count": 25,
   "id": "45eb2ff5",
   "metadata": {
    "execution": {
     "iopub.execute_input": "2022-10-28T00:50:18.118580Z",
     "iopub.status.busy": "2022-10-28T00:50:18.117976Z",
     "iopub.status.idle": "2022-10-28T00:50:18.137404Z",
     "shell.execute_reply": "2022-10-28T00:50:18.136907Z"
    },
    "papermill": {
     "duration": 0.068335,
     "end_time": "2022-10-28T00:50:18.137531",
     "exception": false,
     "start_time": "2022-10-28T00:50:18.069196",
     "status": "completed"
    },
    "tags": []
   },
   "outputs": [],
   "source": [
    "new_model = Model(layers[:-2])\n",
    "testing_plot = new_model(testing_data_x)"
   ]
  },
  {
   "cell_type": "code",
   "execution_count": 26,
   "id": "4c0a5485",
   "metadata": {
    "execution": {
     "iopub.execute_input": "2022-10-28T00:50:18.236383Z",
     "iopub.status.busy": "2022-10-28T00:50:18.235789Z",
     "iopub.status.idle": "2022-10-28T00:50:18.449720Z",
     "shell.execute_reply": "2022-10-28T00:50:18.450167Z"
    },
    "papermill": {
     "duration": 0.268798,
     "end_time": "2022-10-28T00:50:18.450307",
     "exception": false,
     "start_time": "2022-10-28T00:50:18.181509",
     "status": "completed"
    },
    "tags": []
   },
   "outputs": [
    {
     "data": {
      "text/plain": [
       "Text(0.5, 1.0, 'Outputs')"
      ]
     },
     "execution_count": 26,
     "metadata": {},
     "output_type": "execute_result"
    },
    {
     "data": {
      "image/png": "[encoded data removed]",
      "text/plain": [
       "<Figure size 576x504 with 1 Axes>"
      ]
     },
     "metadata": {
      "needs_background": "light"
     },
     "output_type": "display_data"
    }
   ],
   "source": [
    "# Plotting the scatter plot of points and color coding by class\n",
    "plt.figure(figsize=(8,7))\n",
    "plt.scatter(testing_plot[:,0], testing_plot[:,1], alpha = 0.1, c = y_test.ravel());\n",
    "plt.title('Outputs')"
   ]
  },
  {
   "cell_type": "markdown",
   "id": "a74fcf8f",
   "metadata": {
    "papermill": {
     "duration": 0.044825,
     "end_time": "2022-10-28T00:50:18.540131",
     "exception": false,
     "start_time": "2022-10-28T00:50:18.495306",
     "status": "completed"
    },
    "tags": []
   },
   "source": [
    "Probability contours"
   ]
  },
  {
   "cell_type": "code",
   "execution_count": 27,
   "id": "d0afc8e3",
   "metadata": {
    "execution": {
     "iopub.execute_input": "2022-10-28T00:50:18.634620Z",
     "iopub.status.busy": "2022-10-28T00:50:18.634018Z",
     "iopub.status.idle": "2022-10-28T00:50:18.646653Z",
     "shell.execute_reply": "2022-10-28T00:50:18.646177Z"
    },
    "papermill": {
     "duration": 0.061647,
     "end_time": "2022-10-28T00:50:18.646768",
     "exception": false,
     "start_time": "2022-10-28T00:50:18.585121",
     "status": "completed"
    },
    "tags": []
   },
   "outputs": [],
   "source": [
    "model_prob = Model(layers[-2:]) "
   ]
  },
  {
   "cell_type": "code",
   "execution_count": 28,
   "id": "9b96e238",
   "metadata": {
    "execution": {
     "iopub.execute_input": "2022-10-28T00:50:18.748058Z",
     "iopub.status.busy": "2022-10-28T00:50:18.747441Z",
     "iopub.status.idle": "2022-10-28T00:50:18.759149Z",
     "shell.execute_reply": "2022-10-28T00:50:18.758234Z"
    },
    "papermill": {
     "duration": 0.06727,
     "end_time": "2022-10-28T00:50:18.759275",
     "exception": false,
     "start_time": "2022-10-28T00:50:18.692005",
     "status": "completed"
    },
    "tags": []
   },
   "outputs": [],
   "source": [
    "#creating the x and y ranges according to the above generated plot.\n",
    "x_range = np.linspace(-4, 1, 100) \n",
    "y_range = np.linspace(-6, 6, 100) \n",
    "x_grid, y_grid = np.meshgrid(x_range, y_range) # x_grid and y_grig are of size 100 X 100\n",
    "\n",
    "# converting x_grid and y_grid to continuous arrays\n",
    "x_gridflat = np.ravel(x_grid)\n",
    "y_gridflat = np.ravel(y_grid)\n",
    "\n",
    "# The last layer of the current model takes two columns as input. Hence transpose of np.vstack() is required.\n",
    "X = np.vstack((x_gridflat, y_gridflat)).T\n",
    "\n",
    "prob_contour = model_prob(X).reshape(100,100) "
   ]
  },
  {
   "cell_type": "code",
   "execution_count": 29,
   "id": "da72499a",
   "metadata": {
    "execution": {
     "iopub.execute_input": "2022-10-28T00:50:18.883354Z",
     "iopub.status.busy": "2022-10-28T00:50:18.882627Z",
     "iopub.status.idle": "2022-10-28T00:50:19.129354Z",
     "shell.execute_reply": "2022-10-28T00:50:19.129810Z"
    },
    "papermill": {
     "duration": 0.296733,
     "end_time": "2022-10-28T00:50:19.129950",
     "exception": false,
     "start_time": "2022-10-28T00:50:18.833217",
     "status": "completed"
    },
    "tags": []
   },
   "outputs": [
    {
     "data": {
      "image/png": "[encoded data removed]",
      "text/plain": [
       "<Figure size 720x648 with 1 Axes>"
      ]
     },
     "metadata": {
      "needs_background": "light"
     },
     "output_type": "display_data"
    }
   ],
   "source": [
    "plt.figure(figsize=(10,9))\n",
    "plt.scatter(testing_plot[:,0], testing_plot[:,1], alpha = 0.1, c = y_test.ravel())\n",
    "contours = plt.contour(x_grid,y_grid,prob_contour)\n",
    "plt.title('Probability Contours')\n",
    "plt.clabel(contours, inline = True );"
   ]
  },
  {
   "cell_type": "code",
   "execution_count": null,
   "id": "e81b4ac7",
   "metadata": {
    "papermill": {
     "duration": 0.047574,
     "end_time": "2022-10-28T00:50:19.225696",
     "exception": false,
     "start_time": "2022-10-28T00:50:19.178122",
     "status": "completed"
    },
    "tags": []
   },
   "outputs": [],
   "source": []
  }
 ],
 "metadata": {
  "kernelspec": {
   "display_name": "Python 3",
   "language": "python",
   "name": "python3"
  },
  "language_info": {
   "codemirror_mode": {
    "name": "ipython",
    "version": 3
   },
   "file_extension": ".py",
   "mimetype": "text/x-python",
   "name": "python",
   "nbconvert_exporter": "python",
   "pygments_lexer": "ipython3",
   "version": "3.6.15"
  },
  "papermill": {
   "default_parameters": {},
   "duration": 95.897327,
   "end_time": "2022-10-28T00:50:19.692034",
   "environment_variables": {},
   "exception": null,
   "input_path": "2020-08-11-part2.ipynb",
   "output_path": "2020-08-11-part2.ipynb",
   "parameters": {},
   "start_time": "2022-10-28T00:48:43.794707",
   "version": "2.3.3"
  }
 },
 "nbformat": 4,
 "nbformat_minor": 5
}