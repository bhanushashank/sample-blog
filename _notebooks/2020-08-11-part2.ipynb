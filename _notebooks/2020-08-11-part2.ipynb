{
 "cells": [
  {
   "cell_type": "markdown",
   "id": "98380cd3",
   "metadata": {
    "papermill": {
     "duration": 0.034167,
     "end_time": "2021-09-07T00:19:40.529988",
     "exception": false,
     "start_time": "2021-09-07T00:19:40.495821",
     "status": "completed"
    },
    "tags": []
   },
   "source": [
    "# Distinguish Your Own Digits (DYOD)"
   ]
  },
  {
   "cell_type": "markdown",
   "id": "ef31240d",
   "metadata": {
    "papermill": {
     "duration": 0.03266,
     "end_time": "2021-09-07T00:19:40.594005",
     "exception": false,
     "start_time": "2021-09-07T00:19:40.561345",
     "status": "completed"
    },
    "tags": []
   },
   "source": [
    "You are going to write a classifier that distinguishes between the number 3 and number 8."
   ]
  },
  {
   "cell_type": "code",
   "execution_count": 1,
   "id": "b15c8646",
   "metadata": {
    "execution": {
     "iopub.execute_input": "2021-09-07T00:19:40.666875Z",
     "iopub.status.busy": "2021-09-07T00:19:40.666223Z",
     "iopub.status.idle": "2021-09-07T00:19:40.679724Z",
     "shell.execute_reply": "2021-09-07T00:19:40.678570Z"
    },
    "papermill": {
     "duration": 0.054413,
     "end_time": "2021-09-07T00:19:40.679960",
     "exception": false,
     "start_time": "2021-09-07T00:19:40.625547",
     "status": "completed"
    },
    "tags": []
   },
   "outputs": [],
   "source": [
    "%load_ext autoreload\n",
    "%autoreload 2"
   ]
  },
  {
   "cell_type": "code",
   "execution_count": 2,
   "id": "22ef38dc",
   "metadata": {
    "execution": {
     "iopub.execute_input": "2021-09-07T00:19:40.747643Z",
     "iopub.status.busy": "2021-09-07T00:19:40.746977Z",
     "iopub.status.idle": "2021-09-07T00:19:41.349701Z",
     "shell.execute_reply": "2021-09-07T00:19:41.350224Z"
    },
    "papermill": {
     "duration": 0.639658,
     "end_time": "2021-09-07T00:19:41.350395",
     "exception": false,
     "start_time": "2021-09-07T00:19:40.710737",
     "status": "completed"
    },
    "tags": []
   },
   "outputs": [],
   "source": [
    "%matplotlib inline\n",
    "import numpy as np\n",
    "import matplotlib.pyplot as plt\n",
    "import pandas as pd"
   ]
  },
  {
   "cell_type": "markdown",
   "id": "ba036198",
   "metadata": {
    "papermill": {
     "duration": 0.030872,
     "end_time": "2021-09-07T00:19:41.417295",
     "exception": false,
     "start_time": "2021-09-07T00:19:41.386423",
     "status": "completed"
    },
    "tags": []
   },
   "source": [
    "From the command line run `pip install mnist`. This is a library that will help you bring down the mnist dataset. If you run this from a notebook, you need to put  `!pip install mnist` in a cell by itself."
   ]
  },
  {
   "cell_type": "code",
   "execution_count": 3,
   "id": "bb6ad8a1",
   "metadata": {
    "execution": {
     "iopub.execute_input": "2021-09-07T00:19:41.488159Z",
     "iopub.status.busy": "2021-09-07T00:19:41.487452Z",
     "iopub.status.idle": "2021-09-07T00:19:43.572884Z",
     "shell.execute_reply": "2021-09-07T00:19:43.573447Z"
    },
    "papermill": {
     "duration": 2.126303,
     "end_time": "2021-09-07T00:19:43.573721",
     "exception": false,
     "start_time": "2021-09-07T00:19:41.447418",
     "status": "completed"
    },
    "tags": []
   },
   "outputs": [
    {
     "name": "stdout",
     "output_type": "stream",
     "text": [
      "Collecting mnist\r\n"
     ]
    },
    {
     "name": "stdout",
     "output_type": "stream",
     "text": [
      "  Downloading mnist-0.2.2-py2.py3-none-any.whl (3.5 kB)\r\n"
     ]
    },
    {
     "name": "stdout",
     "output_type": "stream",
     "text": [
      "Requirement already satisfied: numpy in /opt/hostedtoolcache/Python/3.6.14/x64/lib/python3.6/site-packages (from mnist) (1.19.5)\r\n"
     ]
    },
    {
     "name": "stdout",
     "output_type": "stream",
     "text": [
      "Installing collected packages: mnist\r\n"
     ]
    },
    {
     "name": "stdout",
     "output_type": "stream",
     "text": [
      "Successfully installed mnist-0.2.2\r\n"
     ]
    }
   ],
   "source": [
    "!pip install mnist"
   ]
  },
  {
   "cell_type": "markdown",
   "id": "69df9c9a",
   "metadata": {
    "papermill": {
     "duration": 0.031896,
     "end_time": "2021-09-07T00:19:43.640947",
     "exception": false,
     "start_time": "2021-09-07T00:19:43.609051",
     "status": "completed"
    },
    "tags": []
   },
   "source": [
    "## Preparing the Data"
   ]
  },
  {
   "cell_type": "code",
   "execution_count": 4,
   "id": "7f69d806",
   "metadata": {
    "execution": {
     "iopub.execute_input": "2021-09-07T00:19:43.709325Z",
     "iopub.status.busy": "2021-09-07T00:19:43.708678Z",
     "iopub.status.idle": "2021-09-07T00:19:43.728722Z",
     "shell.execute_reply": "2021-09-07T00:19:43.729237Z"
    },
    "papermill": {
     "duration": 0.05566,
     "end_time": "2021-09-07T00:19:43.729406",
     "exception": false,
     "start_time": "2021-09-07T00:19:43.673746",
     "status": "completed"
    },
    "tags": []
   },
   "outputs": [],
   "source": [
    "import mnist"
   ]
  },
  {
   "cell_type": "code",
   "execution_count": 5,
   "id": "a411e44f",
   "metadata": {
    "execution": {
     "iopub.execute_input": "2021-09-07T00:19:43.801259Z",
     "iopub.status.busy": "2021-09-07T00:19:43.800608Z",
     "iopub.status.idle": "2021-09-07T00:19:44.518974Z",
     "shell.execute_reply": "2021-09-07T00:19:44.519497Z"
    },
    "papermill": {
     "duration": 0.754317,
     "end_time": "2021-09-07T00:19:44.519681",
     "exception": false,
     "start_time": "2021-09-07T00:19:43.765364",
     "status": "completed"
    },
    "tags": []
   },
   "outputs": [],
   "source": [
    "train_images = mnist.train_images()\n",
    "train_labels = mnist.train_labels()"
   ]
  },
  {
   "cell_type": "code",
   "execution_count": 6,
   "id": "dceab3a5",
   "metadata": {
    "execution": {
     "iopub.execute_input": "2021-09-07T00:19:44.593341Z",
     "iopub.status.busy": "2021-09-07T00:19:44.592700Z",
     "iopub.status.idle": "2021-09-07T00:19:44.610197Z",
     "shell.execute_reply": "2021-09-07T00:19:44.609630Z"
    },
    "papermill": {
     "duration": 0.056737,
     "end_time": "2021-09-07T00:19:44.610333",
     "exception": false,
     "start_time": "2021-09-07T00:19:44.553596",
     "status": "completed"
    },
    "tags": []
   },
   "outputs": [
    {
     "data": {
      "text/plain": [
       "((60000, 28, 28), (60000,))"
      ]
     },
     "execution_count": 6,
     "metadata": {},
     "output_type": "execute_result"
    }
   ],
   "source": [
    "train_images.shape, train_labels.shape"
   ]
  },
  {
   "cell_type": "code",
   "execution_count": 7,
   "id": "f50dc2bb",
   "metadata": {
    "execution": {
     "iopub.execute_input": "2021-09-07T00:19:44.683667Z",
     "iopub.status.busy": "2021-09-07T00:19:44.683004Z",
     "iopub.status.idle": "2021-09-07T00:19:44.862882Z",
     "shell.execute_reply": "2021-09-07T00:19:44.861362Z"
    },
    "papermill": {
     "duration": 0.217232,
     "end_time": "2021-09-07T00:19:44.863037",
     "exception": false,
     "start_time": "2021-09-07T00:19:44.645805",
     "status": "completed"
    },
    "tags": []
   },
   "outputs": [],
   "source": [
    "test_images = mnist.test_images()\n",
    "test_labels = mnist.test_labels()"
   ]
  },
  {
   "cell_type": "code",
   "execution_count": 8,
   "id": "fc38cf1b",
   "metadata": {
    "execution": {
     "iopub.execute_input": "2021-09-07T00:19:44.942027Z",
     "iopub.status.busy": "2021-09-07T00:19:44.941380Z",
     "iopub.status.idle": "2021-09-07T00:19:44.953636Z",
     "shell.execute_reply": "2021-09-07T00:19:44.953083Z"
    },
    "papermill": {
     "duration": 0.052669,
     "end_time": "2021-09-07T00:19:44.953769",
     "exception": false,
     "start_time": "2021-09-07T00:19:44.901100",
     "status": "completed"
    },
    "tags": []
   },
   "outputs": [
    {
     "data": {
      "text/plain": [
       "((10000, 28, 28), (10000,))"
      ]
     },
     "execution_count": 8,
     "metadata": {},
     "output_type": "execute_result"
    }
   ],
   "source": [
    "test_images.shape, test_labels.shape"
   ]
  },
  {
   "cell_type": "code",
   "execution_count": 9,
   "id": "f9ed8fe0",
   "metadata": {
    "execution": {
     "iopub.execute_input": "2021-09-07T00:19:45.022597Z",
     "iopub.status.busy": "2021-09-07T00:19:45.021954Z",
     "iopub.status.idle": "2021-09-07T00:19:45.223363Z",
     "shell.execute_reply": "2021-09-07T00:19:45.222734Z"
    },
    "papermill": {
     "duration": 0.237482,
     "end_time": "2021-09-07T00:19:45.223503",
     "exception": false,
     "start_time": "2021-09-07T00:19:44.986021",
     "status": "completed"
    },
    "tags": []
   },
   "outputs": [
    {
     "name": "stdout",
     "output_type": "stream",
     "text": [
      "2\n"
     ]
    },
    {
     "data": {
      "text/plain": [
       "<matplotlib.image.AxesImage at 0x7f438b476cc0>"
      ]
     },
     "execution_count": 9,
     "metadata": {},
     "output_type": "execute_result"
    },
    {
     "data": {
      "image/png": "[encoded data removed]",
      "text/plain": [
       "<Figure size 432x288 with 1 Axes>"
      ]
     },
     "metadata": {
      "needs_background": "light"
     },
     "output_type": "display_data"
    }
   ],
   "source": [
    "image_index = 7776 # You may select anything up to 60,000\n",
    "print(train_labels[image_index]) \n",
    "plt.imshow(train_images[image_index], cmap='Greys')"
   ]
  },
  {
   "cell_type": "markdown",
   "id": "a8d2388d",
   "metadata": {
    "papermill": {
     "duration": 0.035441,
     "end_time": "2021-09-07T00:19:45.293245",
     "exception": false,
     "start_time": "2021-09-07T00:19:45.257804",
     "status": "completed"
    },
    "tags": []
   },
   "source": [
    "## Filter data to get 3 and 8 out"
   ]
  },
  {
   "cell_type": "code",
   "execution_count": 10,
   "id": "776f7fc7",
   "metadata": {
    "execution": {
     "iopub.execute_input": "2021-09-07T00:19:45.381228Z",
     "iopub.status.busy": "2021-09-07T00:19:45.375266Z",
     "iopub.status.idle": "2021-09-07T00:19:45.385320Z",
     "shell.execute_reply": "2021-09-07T00:19:45.385881Z"
    },
    "papermill": {
     "duration": 0.058234,
     "end_time": "2021-09-07T00:19:45.386047",
     "exception": false,
     "start_time": "2021-09-07T00:19:45.327813",
     "status": "completed"
    },
    "tags": []
   },
   "outputs": [],
   "source": [
    "train_filter = np.where((train_labels == 3 ) | (train_labels == 8))\n",
    "test_filter = np.where((test_labels == 3) | (test_labels == 8))\n",
    "X_train, y_train = train_images[train_filter], train_labels[train_filter]\n",
    "X_test, y_test = test_images[test_filter], test_labels[test_filter]"
   ]
  },
  {
   "cell_type": "markdown",
   "id": "948f0b7e",
   "metadata": {
    "papermill": {
     "duration": 0.035903,
     "end_time": "2021-09-07T00:19:45.455203",
     "exception": false,
     "start_time": "2021-09-07T00:19:45.419300",
     "status": "completed"
    },
    "tags": []
   },
   "source": [
    "We normalize the pizel values in the 0 to 1 range"
   ]
  },
  {
   "cell_type": "code",
   "execution_count": 11,
   "id": "ee4c2166",
   "metadata": {
    "execution": {
     "iopub.execute_input": "2021-09-07T00:19:45.541891Z",
     "iopub.status.busy": "2021-09-07T00:19:45.541227Z",
     "iopub.status.idle": "2021-09-07T00:19:45.594982Z",
     "shell.execute_reply": "2021-09-07T00:19:45.594387Z"
    },
    "papermill": {
     "duration": 0.106264,
     "end_time": "2021-09-07T00:19:45.595125",
     "exception": false,
     "start_time": "2021-09-07T00:19:45.488861",
     "status": "completed"
    },
    "tags": []
   },
   "outputs": [],
   "source": [
    "X_train = X_train/255.\n",
    "X_test = X_test/255."
   ]
  },
  {
   "cell_type": "markdown",
   "id": "ddcf4fab",
   "metadata": {
    "papermill": {
     "duration": 0.033104,
     "end_time": "2021-09-07T00:19:45.662434",
     "exception": false,
     "start_time": "2021-09-07T00:19:45.629330",
     "status": "completed"
    },
    "tags": []
   },
   "source": [
    "And setup the labels as 1 (when the digit is 3) and 0 (when the digit is 8)"
   ]
  },
  {
   "cell_type": "code",
   "execution_count": 12,
   "id": "7dc908f2",
   "metadata": {
    "execution": {
     "iopub.execute_input": "2021-09-07T00:19:45.739373Z",
     "iopub.status.busy": "2021-09-07T00:19:45.738717Z",
     "iopub.status.idle": "2021-09-07T00:19:45.752558Z",
     "shell.execute_reply": "2021-09-07T00:19:45.751964Z"
    },
    "papermill": {
     "duration": 0.056367,
     "end_time": "2021-09-07T00:19:45.752696",
     "exception": false,
     "start_time": "2021-09-07T00:19:45.696329",
     "status": "completed"
    },
    "tags": []
   },
   "outputs": [],
   "source": [
    "y_train = 1*(y_train==3)\n",
    "y_test = 1*(y_test==3)"
   ]
  },
  {
   "cell_type": "code",
   "execution_count": 13,
   "id": "01e4e969",
   "metadata": {
    "execution": {
     "iopub.execute_input": "2021-09-07T00:19:45.827289Z",
     "iopub.status.busy": "2021-09-07T00:19:45.826640Z",
     "iopub.status.idle": "2021-09-07T00:19:45.839531Z",
     "shell.execute_reply": "2021-09-07T00:19:45.840152Z"
    },
    "papermill": {
     "duration": 0.052615,
     "end_time": "2021-09-07T00:19:45.840328",
     "exception": false,
     "start_time": "2021-09-07T00:19:45.787713",
     "status": "completed"
    },
    "tags": []
   },
   "outputs": [
    {
     "data": {
      "text/plain": [
       "((11982, 28, 28), (1984, 28, 28))"
      ]
     },
     "execution_count": 13,
     "metadata": {},
     "output_type": "execute_result"
    }
   ],
   "source": [
    "X_train.shape, X_test.shape"
   ]
  },
  {
   "cell_type": "markdown",
   "id": "5ccf3f85",
   "metadata": {
    "papermill": {
     "duration": 0.033618,
     "end_time": "2021-09-07T00:19:45.908773",
     "exception": false,
     "start_time": "2021-09-07T00:19:45.875155",
     "status": "completed"
    },
    "tags": []
   },
   "source": [
    "We reshape the data to flatten the image pixels into a set of features or co-variates:"
   ]
  },
  {
   "cell_type": "code",
   "execution_count": 14,
   "id": "5286a4a3",
   "metadata": {
    "execution": {
     "iopub.execute_input": "2021-09-07T00:19:45.983310Z",
     "iopub.status.busy": "2021-09-07T00:19:45.982663Z",
     "iopub.status.idle": "2021-09-07T00:19:45.996814Z",
     "shell.execute_reply": "2021-09-07T00:19:45.997497Z"
    },
    "papermill": {
     "duration": 0.053902,
     "end_time": "2021-09-07T00:19:45.997658",
     "exception": false,
     "start_time": "2021-09-07T00:19:45.943756",
     "status": "completed"
    },
    "tags": []
   },
   "outputs": [
    {
     "data": {
      "text/plain": [
       "((11982, 784), (1984, 784))"
      ]
     },
     "execution_count": 14,
     "metadata": {},
     "output_type": "execute_result"
    }
   ],
   "source": [
    "X_train = X_train.reshape(X_train.shape[0], -1)\n",
    "X_test = X_test.reshape(X_test.shape[0], -1)\n",
    "X_train.shape, X_test.shape"
   ]
  },
  {
   "cell_type": "code",
   "execution_count": 15,
   "id": "73c5f88a",
   "metadata": {
    "execution": {
     "iopub.execute_input": "2021-09-07T00:19:46.074599Z",
     "iopub.status.busy": "2021-09-07T00:19:46.073943Z",
     "iopub.status.idle": "2021-09-07T00:19:46.093571Z",
     "shell.execute_reply": "2021-09-07T00:19:46.093011Z"
    },
    "papermill": {
     "duration": 0.061134,
     "end_time": "2021-09-07T00:19:46.093703",
     "exception": false,
     "start_time": "2021-09-07T00:19:46.032569",
     "status": "completed"
    },
    "tags": []
   },
   "outputs": [],
   "source": [
    "#Impoting functions from 'Kudzu'\n",
    "from kudzu.model import Model\n",
    "from kudzu.train import Learner\n",
    "from kudzu.optim import GD\n",
    "from kudzu.data import Data, Sampler,Dataloader\n",
    "\n",
    "from kudzu.callbacks import AccCallback\n",
    "from kudzu.callbacks import ClfCallback\n",
    "\n",
    "from kudzu.loss import MSE\n",
    "\n",
    "from kudzu.layer import Sigmoid,Relu\n",
    "from kudzu.layer import Affine"
   ]
  },
  {
   "cell_type": "markdown",
   "id": "bc01172a",
   "metadata": {
    "papermill": {
     "duration": 0.033257,
     "end_time": "2021-09-07T00:19:46.163062",
     "exception": false,
     "start_time": "2021-09-07T00:19:46.129805",
     "status": "completed"
    },
    "tags": []
   },
   "source": [
    "### Let us create a `Config` class, to store important parameters. \n",
    "This class essentially plays the role of a dictionary."
   ]
  },
  {
   "cell_type": "code",
   "execution_count": 16,
   "id": "978281aa",
   "metadata": {
    "execution": {
     "iopub.execute_input": "2021-09-07T00:19:46.240245Z",
     "iopub.status.busy": "2021-09-07T00:19:46.239570Z",
     "iopub.status.idle": "2021-09-07T00:19:46.264282Z",
     "shell.execute_reply": "2021-09-07T00:19:46.263710Z"
    },
    "papermill": {
     "duration": 0.065037,
     "end_time": "2021-09-07T00:19:46.264426",
     "exception": false,
     "start_time": "2021-09-07T00:19:46.199389",
     "status": "completed"
    },
    "tags": []
   },
   "outputs": [],
   "source": [
    "class Config:\n",
    "    pass\n",
    "config = Config()\n",
    "config.lr = 0.001\n",
    "config.num_epochs = 250\n",
    "config.bs = 50"
   ]
  },
  {
   "cell_type": "markdown",
   "id": "1385fa59",
   "metadata": {
    "papermill": {
     "duration": 0.034474,
     "end_time": "2021-09-07T00:19:46.334276",
     "exception": false,
     "start_time": "2021-09-07T00:19:46.299802",
     "status": "completed"
    },
    "tags": []
   },
   "source": [
    "### Running Models with the Training data\n",
    "Details about the network layers:\n",
    "- A first affine layer has 784 inputs and does 100 affine transforms. These are followed by a Relu\n",
    "- A second affine layer has 100 inputs from the 100 activations of the past layer, and does 100 affine transforms. These are followed by a Relu\n",
    "- A third affine layer has 100 activations and does 2 affine transformations to create an embedding for visualization. There is no non-linearity here.\n",
    "- A final \"logistic regression\" which has an affine transform from 2 inputs to 1 output, which is squeezed through a sigmoid.\n"
   ]
  },
  {
   "cell_type": "code",
   "execution_count": 17,
   "id": "2b9c66db",
   "metadata": {
    "execution": {
     "iopub.execute_input": "2021-09-07T00:19:46.411333Z",
     "iopub.status.busy": "2021-09-07T00:19:46.410670Z",
     "iopub.status.idle": "2021-09-07T00:19:46.421958Z",
     "shell.execute_reply": "2021-09-07T00:19:46.421313Z"
    },
    "papermill": {
     "duration": 0.053896,
     "end_time": "2021-09-07T00:19:46.422092",
     "exception": false,
     "start_time": "2021-09-07T00:19:46.368196",
     "status": "completed"
    },
    "tags": []
   },
   "outputs": [],
   "source": [
    "data = Data(X_train, y_train.reshape(-1,1))\n",
    "sampler = Sampler(data, config.bs, shuffle=True)\n",
    "\n",
    "dl = Dataloader(data, sampler)\n",
    "\n",
    "opt = GD(config.lr)\n",
    "loss = MSE()"
   ]
  },
  {
   "cell_type": "code",
   "execution_count": 18,
   "id": "b275e4c2",
   "metadata": {
    "execution": {
     "iopub.execute_input": "2021-09-07T00:19:46.509164Z",
     "iopub.status.busy": "2021-09-07T00:19:46.502584Z",
     "iopub.status.idle": "2021-09-07T00:19:46.512875Z",
     "shell.execute_reply": "2021-09-07T00:19:46.512315Z"
    },
    "papermill": {
     "duration": 0.056587,
     "end_time": "2021-09-07T00:19:46.513009",
     "exception": false,
     "start_time": "2021-09-07T00:19:46.456422",
     "status": "completed"
    },
    "tags": []
   },
   "outputs": [],
   "source": [
    "training_data_x = X_train\n",
    "testing_data_x = X_test\n",
    "training_data_y = y_train.reshape(-1,1)\n",
    "testing_data_y = y_test.reshape(-1,1)"
   ]
  },
  {
   "cell_type": "code",
   "execution_count": 19,
   "id": "76951160",
   "metadata": {
    "execution": {
     "iopub.execute_input": "2021-09-07T00:19:46.587521Z",
     "iopub.status.busy": "2021-09-07T00:19:46.586853Z",
     "iopub.status.idle": "2021-09-07T00:19:46.605250Z",
     "shell.execute_reply": "2021-09-07T00:19:46.604625Z"
    },
    "papermill": {
     "duration": 0.057349,
     "end_time": "2021-09-07T00:19:46.605385",
     "exception": false,
     "start_time": "2021-09-07T00:19:46.548036",
     "status": "completed"
    },
    "tags": []
   },
   "outputs": [
    {
     "name": "stdout",
     "output_type": "stream",
     "text": [
      "xavier\n",
      "xavier\n",
      "xavier\n",
      "xavier\n",
      "xavier\n"
     ]
    }
   ],
   "source": [
    "layers = [Affine(\"first\", 784, 100), Relu(\"first\"), Affine(\"second\", 100, 100), Relu(\"second\"), Affine(\"third\", 100, 2), Affine(\"last\", 2, 1), Sigmoid(\"last\")]\n",
    "model_nn = Model(layers)\n",
    "model_lr = Model([Affine(\"logits\", 784, 1), Sigmoid(\"sigmoid\")])"
   ]
  },
  {
   "cell_type": "code",
   "execution_count": 20,
   "id": "6eede77a",
   "metadata": {
    "execution": {
     "iopub.execute_input": "2021-09-07T00:19:46.694298Z",
     "iopub.status.busy": "2021-09-07T00:19:46.691319Z",
     "iopub.status.idle": "2021-09-07T00:19:46.696594Z",
     "shell.execute_reply": "2021-09-07T00:19:46.697099Z"
    },
    "papermill": {
     "duration": 0.057098,
     "end_time": "2021-09-07T00:19:46.697257",
     "exception": false,
     "start_time": "2021-09-07T00:19:46.640159",
     "status": "completed"
    },
    "tags": []
   },
   "outputs": [],
   "source": [
    "nn_learner = Learner(loss, model_nn, opt, config.num_epochs)\n",
    "acc_nn = ClfCallback(nn_learner, config.bs, training_data_x , testing_data_x, training_data_y, testing_data_y)\n",
    "nn_learner.set_callbacks([acc_nn])"
   ]
  },
  {
   "cell_type": "code",
   "execution_count": 21,
   "id": "877b6cc7",
   "metadata": {
    "execution": {
     "iopub.execute_input": "2021-09-07T00:19:46.774508Z",
     "iopub.status.busy": "2021-09-07T00:19:46.773858Z",
     "iopub.status.idle": "2021-09-07T00:19:46.786487Z",
     "shell.execute_reply": "2021-09-07T00:19:46.785932Z"
    },
    "papermill": {
     "duration": 0.053504,
     "end_time": "2021-09-07T00:19:46.786620",
     "exception": false,
     "start_time": "2021-09-07T00:19:46.733116",
     "status": "completed"
    },
    "tags": []
   },
   "outputs": [],
   "source": [
    "lr_learner = Learner(loss, model_lr, opt, config.num_epochs)\n",
    "acc_lr = ClfCallback(lr_learner, config.bs, training_data_x , testing_data_x, training_data_y, testing_data_y)\n",
    "lr_learner.set_callbacks([acc_lr])"
   ]
  },
  {
   "cell_type": "code",
   "execution_count": 22,
   "id": "d9b133c3",
   "metadata": {
    "execution": {
     "iopub.execute_input": "2021-09-07T00:19:46.874163Z",
     "iopub.status.busy": "2021-09-07T00:19:46.863474Z",
     "iopub.status.idle": "2021-09-07T00:21:54.341168Z",
     "shell.execute_reply": "2021-09-07T00:21:54.342028Z"
    },
    "papermill": {
     "duration": 127.520842,
     "end_time": "2021-09-07T00:21:54.342200",
     "exception": false,
     "start_time": "2021-09-07T00:19:46.821358",
     "status": "completed"
    },
    "tags": []
   },
   "outputs": [
    {
     "name": "stdout",
     "output_type": "stream",
     "text": [
      "Epoch 0, Loss 0.2358\n",
      "Training Accuracy: 0.6773, Testing Accuracy: 0.6789\n",
      "\n"
     ]
    },
    {
     "name": "stdout",
     "output_type": "stream",
     "text": [
      "Epoch 10, Loss 0.0836\n",
      "Training Accuracy: 0.9224, Testing Accuracy: 0.9370\n",
      "\n"
     ]
    },
    {
     "name": "stdout",
     "output_type": "stream",
     "text": [
      "Epoch 20, Loss 0.054\n",
      "Training Accuracy: 0.9444, Testing Accuracy: 0.9551\n",
      "\n"
     ]
    },
    {
     "name": "stdout",
     "output_type": "stream",
     "text": [
      "Epoch 30, Loss 0.0434\n",
      "Training Accuracy: 0.9518, Testing Accuracy: 0.9647\n",
      "\n"
     ]
    },
    {
     "name": "stdout",
     "output_type": "stream",
     "text": [
      "Epoch 40, Loss 0.0379\n",
      "Training Accuracy: 0.9575, Testing Accuracy: 0.9703\n",
      "\n"
     ]
    },
    {
     "name": "stdout",
     "output_type": "stream",
     "text": [
      "Epoch 50, Loss 0.0346\n",
      "Training Accuracy: 0.9599, Testing Accuracy: 0.9693\n",
      "\n"
     ]
    },
    {
     "name": "stdout",
     "output_type": "stream",
     "text": [
      "Epoch 60, Loss 0.0322\n",
      "Training Accuracy: 0.9620, Testing Accuracy: 0.9703\n",
      "\n"
     ]
    },
    {
     "name": "stdout",
     "output_type": "stream",
     "text": [
      "Epoch 70, Loss 0.0304\n",
      "Training Accuracy: 0.9643, Testing Accuracy: 0.9688\n",
      "\n"
     ]
    },
    {
     "name": "stdout",
     "output_type": "stream",
     "text": [
      "Epoch 80, Loss 0.029\n",
      "Training Accuracy: 0.9657, Testing Accuracy: 0.9708\n",
      "\n"
     ]
    },
    {
     "name": "stdout",
     "output_type": "stream",
     "text": [
      "Epoch 90, Loss 0.0278\n",
      "Training Accuracy: 0.9670, Testing Accuracy: 0.9713\n",
      "\n"
     ]
    },
    {
     "name": "stdout",
     "output_type": "stream",
     "text": [
      "Epoch 100, Loss 0.0267\n",
      "Training Accuracy: 0.9682, Testing Accuracy: 0.9723\n",
      "\n"
     ]
    },
    {
     "name": "stdout",
     "output_type": "stream",
     "text": [
      "Epoch 110, Loss 0.0258\n",
      "Training Accuracy: 0.9704, Testing Accuracy: 0.9718\n",
      "\n"
     ]
    },
    {
     "name": "stdout",
     "output_type": "stream",
     "text": [
      "Epoch 120, Loss 0.025\n",
      "Training Accuracy: 0.9705, Testing Accuracy: 0.9728\n",
      "\n"
     ]
    },
    {
     "name": "stdout",
     "output_type": "stream",
     "text": [
      "Epoch 130, Loss 0.0242\n",
      "Training Accuracy: 0.9715, Testing Accuracy: 0.9733\n",
      "\n"
     ]
    },
    {
     "name": "stdout",
     "output_type": "stream",
     "text": [
      "Epoch 140, Loss 0.0235\n",
      "Training Accuracy: 0.9724, Testing Accuracy: 0.9738\n",
      "\n"
     ]
    },
    {
     "name": "stdout",
     "output_type": "stream",
     "text": [
      "Epoch 150, Loss 0.0229\n",
      "Training Accuracy: 0.9732, Testing Accuracy: 0.9748\n",
      "\n"
     ]
    },
    {
     "name": "stdout",
     "output_type": "stream",
     "text": [
      "Epoch 160, Loss 0.0223\n",
      "Training Accuracy: 0.9745, Testing Accuracy: 0.9758\n",
      "\n"
     ]
    },
    {
     "name": "stdout",
     "output_type": "stream",
     "text": [
      "Epoch 170, Loss 0.0218\n",
      "Training Accuracy: 0.9750, Testing Accuracy: 0.9768\n",
      "\n"
     ]
    },
    {
     "name": "stdout",
     "output_type": "stream",
     "text": [
      "Epoch 180, Loss 0.0213\n",
      "Training Accuracy: 0.9753, Testing Accuracy: 0.9763\n",
      "\n"
     ]
    },
    {
     "name": "stdout",
     "output_type": "stream",
     "text": [
      "Epoch 190, Loss 0.0208\n",
      "Training Accuracy: 0.9765, Testing Accuracy: 0.9768\n",
      "\n"
     ]
    },
    {
     "name": "stdout",
     "output_type": "stream",
     "text": [
      "Epoch 200, Loss 0.0203\n",
      "Training Accuracy: 0.9770, Testing Accuracy: 0.9758\n",
      "\n"
     ]
    },
    {
     "name": "stdout",
     "output_type": "stream",
     "text": [
      "Epoch 210, Loss 0.0198\n",
      "Training Accuracy: 0.9776, Testing Accuracy: 0.9773\n",
      "\n"
     ]
    },
    {
     "name": "stdout",
     "output_type": "stream",
     "text": [
      "Epoch 220, Loss 0.0194\n",
      "Training Accuracy: 0.9781, Testing Accuracy: 0.9768\n",
      "\n"
     ]
    },
    {
     "name": "stdout",
     "output_type": "stream",
     "text": [
      "Epoch 230, Loss 0.019\n",
      "Training Accuracy: 0.9787, Testing Accuracy: 0.9768\n",
      "\n"
     ]
    },
    {
     "name": "stdout",
     "output_type": "stream",
     "text": [
      "Epoch 240, Loss 0.0186\n",
      "Training Accuracy: 0.9791, Testing Accuracy: 0.9773\n",
      "\n"
     ]
    },
    {
     "data": {
      "text/plain": [
       "0.006787479047588506"
      ]
     },
     "execution_count": 22,
     "metadata": {},
     "output_type": "execute_result"
    }
   ],
   "source": [
    "nn_learner.train_loop(dl)"
   ]
  },
  {
   "cell_type": "code",
   "execution_count": 23,
   "id": "e0163366",
   "metadata": {
    "execution": {
     "iopub.execute_input": "2021-09-07T00:21:54.448387Z",
     "iopub.status.busy": "2021-09-07T00:21:54.447659Z",
     "iopub.status.idle": "2021-09-07T00:22:12.796606Z",
     "shell.execute_reply": "2021-09-07T00:22:12.797260Z"
    },
    "papermill": {
     "duration": 18.408157,
     "end_time": "2021-09-07T00:22:12.797426",
     "exception": false,
     "start_time": "2021-09-07T00:21:54.389269",
     "status": "completed"
    },
    "tags": []
   },
   "outputs": [
    {
     "name": "stdout",
     "output_type": "stream",
     "text": [
      "Epoch 0, Loss 0.234\n",
      "Training Accuracy: 0.7107, Testing Accuracy: 0.7238\n",
      "\n"
     ]
    },
    {
     "name": "stdout",
     "output_type": "stream",
     "text": [
      "Epoch 10, Loss 0.1029\n",
      "Training Accuracy: 0.9042, Testing Accuracy: 0.9108\n",
      "\n"
     ]
    },
    {
     "name": "stdout",
     "output_type": "stream",
     "text": [
      "Epoch 20, Loss 0.0795\n",
      "Training Accuracy: 0.9265, Testing Accuracy: 0.9345\n",
      "\n"
     ]
    },
    {
     "name": "stdout",
     "output_type": "stream",
     "text": [
      "Epoch 30, Loss 0.0685\n",
      "Training Accuracy: 0.9352, Testing Accuracy: 0.9461\n",
      "\n"
     ]
    },
    {
     "name": "stdout",
     "output_type": "stream",
     "text": [
      "Epoch 40, Loss 0.0618\n",
      "Training Accuracy: 0.9407, Testing Accuracy: 0.9516\n",
      "\n"
     ]
    },
    {
     "name": "stdout",
     "output_type": "stream",
     "text": [
      "Epoch 50, Loss 0.0573\n",
      "Training Accuracy: 0.9441, Testing Accuracy: 0.9546\n",
      "\n"
     ]
    },
    {
     "name": "stdout",
     "output_type": "stream",
     "text": [
      "Epoch 60, Loss 0.054\n",
      "Training Accuracy: 0.9468, Testing Accuracy: 0.9561\n",
      "\n"
     ]
    },
    {
     "name": "stdout",
     "output_type": "stream",
     "text": [
      "Epoch 70, Loss 0.0514\n",
      "Training Accuracy: 0.9486, Testing Accuracy: 0.9587\n",
      "\n"
     ]
    },
    {
     "name": "stdout",
     "output_type": "stream",
     "text": [
      "Epoch 80, Loss 0.0493\n",
      "Training Accuracy: 0.9514, Testing Accuracy: 0.9587\n",
      "\n"
     ]
    },
    {
     "name": "stdout",
     "output_type": "stream",
     "text": [
      "Epoch 90, Loss 0.0476\n",
      "Training Accuracy: 0.9528, Testing Accuracy: 0.9607\n",
      "\n"
     ]
    },
    {
     "name": "stdout",
     "output_type": "stream",
     "text": [
      "Epoch 100, Loss 0.0462\n",
      "Training Accuracy: 0.9539, Testing Accuracy: 0.9617\n",
      "\n"
     ]
    },
    {
     "name": "stdout",
     "output_type": "stream",
     "text": [
      "Epoch 110, Loss 0.0449\n",
      "Training Accuracy: 0.9548, Testing Accuracy: 0.9632\n",
      "\n"
     ]
    },
    {
     "name": "stdout",
     "output_type": "stream",
     "text": [
      "Epoch 120, Loss 0.0439\n",
      "Training Accuracy: 0.9554, Testing Accuracy: 0.9647\n",
      "\n"
     ]
    },
    {
     "name": "stdout",
     "output_type": "stream",
     "text": [
      "Epoch 130, Loss 0.0429\n",
      "Training Accuracy: 0.9556, Testing Accuracy: 0.9657\n",
      "\n"
     ]
    },
    {
     "name": "stdout",
     "output_type": "stream",
     "text": [
      "Epoch 140, Loss 0.0421\n",
      "Training Accuracy: 0.9563, Testing Accuracy: 0.9652\n",
      "\n"
     ]
    },
    {
     "name": "stdout",
     "output_type": "stream",
     "text": [
      "Epoch 150, Loss 0.0413\n",
      "Training Accuracy: 0.9571, Testing Accuracy: 0.9657\n",
      "\n"
     ]
    },
    {
     "name": "stdout",
     "output_type": "stream",
     "text": [
      "Epoch 160, Loss 0.0407\n",
      "Training Accuracy: 0.9578, Testing Accuracy: 0.9657\n",
      "\n"
     ]
    },
    {
     "name": "stdout",
     "output_type": "stream",
     "text": [
      "Epoch 170, Loss 0.04\n",
      "Training Accuracy: 0.9579, Testing Accuracy: 0.9662\n",
      "\n"
     ]
    },
    {
     "name": "stdout",
     "output_type": "stream",
     "text": [
      "Epoch 180, Loss 0.0395\n",
      "Training Accuracy: 0.9585, Testing Accuracy: 0.9667\n",
      "\n"
     ]
    },
    {
     "name": "stdout",
     "output_type": "stream",
     "text": [
      "Epoch 190, Loss 0.039\n",
      "Training Accuracy: 0.9588, Testing Accuracy: 0.9667\n",
      "\n"
     ]
    },
    {
     "name": "stdout",
     "output_type": "stream",
     "text": [
      "Epoch 200, Loss 0.0385\n",
      "Training Accuracy: 0.9594, Testing Accuracy: 0.9667\n",
      "\n"
     ]
    },
    {
     "name": "stdout",
     "output_type": "stream",
     "text": [
      "Epoch 210, Loss 0.038\n",
      "Training Accuracy: 0.9596, Testing Accuracy: 0.9672\n",
      "\n"
     ]
    },
    {
     "name": "stdout",
     "output_type": "stream",
     "text": [
      "Epoch 220, Loss 0.0376\n",
      "Training Accuracy: 0.9598, Testing Accuracy: 0.9682\n",
      "\n"
     ]
    },
    {
     "name": "stdout",
     "output_type": "stream",
     "text": [
      "Epoch 230, Loss 0.0372\n",
      "Training Accuracy: 0.9600, Testing Accuracy: 0.9682\n",
      "\n"
     ]
    },
    {
     "name": "stdout",
     "output_type": "stream",
     "text": [
      "Epoch 240, Loss 0.0369\n",
      "Training Accuracy: 0.9602, Testing Accuracy: 0.9682\n",
      "\n"
     ]
    },
    {
     "data": {
      "text/plain": [
       "0.01742680225979985"
      ]
     },
     "execution_count": 23,
     "metadata": {},
     "output_type": "execute_result"
    }
   ],
   "source": [
    "lr_learner.train_loop(dl)"
   ]
  },
  {
   "cell_type": "code",
   "execution_count": 24,
   "id": "ca410940",
   "metadata": {
    "execution": {
     "iopub.execute_input": "2021-09-07T00:22:12.908966Z",
     "iopub.status.busy": "2021-09-07T00:22:12.908293Z",
     "iopub.status.idle": "2021-09-07T00:22:13.202270Z",
     "shell.execute_reply": "2021-09-07T00:22:13.202842Z"
    },
    "papermill": {
     "duration": 0.351173,
     "end_time": "2021-09-07T00:22:13.203044",
     "exception": false,
     "start_time": "2021-09-07T00:22:12.851871",
     "status": "completed"
    },
    "tags": []
   },
   "outputs": [
    {
     "data": {
      "text/plain": [
       "<matplotlib.legend.Legend at 0x7f437dccadd8>"
      ]
     },
     "execution_count": 24,
     "metadata": {},
     "output_type": "execute_result"
    },
    {
     "data": {
      "image/png": "[encoded data removed]",
      "text/plain": [
       "<Figure size 1080x720 with 1 Axes>"
      ]
     },
     "metadata": {
      "needs_background": "light"
     },
     "output_type": "display_data"
    }
   ],
   "source": [
    "#comparing the results of NN and LR\n",
    "plt.figure(figsize=(15,10))\n",
    "\n",
    "# Neural Network plots\n",
    "plt.plot(acc_nn.accuracies, 'r-', label = \"Training Accuracies - NN\")\n",
    "plt.plot(acc_nn.test_accuracies, 'g-', label = \"Testing Accuracies - NN\")\n",
    "\n",
    "# Logistic Regression plots\n",
    "plt.plot(acc_lr.accuracies, 'k-', label = \"Training Accuracies - LR\")\n",
    "plt.plot(acc_lr.test_accuracies, 'b-', label = \"Testing Accuracies - LR\")\n",
    "plt.legend()"
   ]
  },
  {
   "cell_type": "markdown",
   "id": "80dfb35c",
   "metadata": {
    "papermill": {
     "duration": 0.051575,
     "end_time": "2021-09-07T00:22:13.309665",
     "exception": false,
     "start_time": "2021-09-07T00:22:13.258090",
     "status": "completed"
    },
    "tags": []
   },
   "source": [
    "#### Plotting the outputs of this layer of the NN.\n"
   ]
  },
  {
   "cell_type": "code",
   "execution_count": 25,
   "id": "45eb2ff5",
   "metadata": {
    "execution": {
     "iopub.execute_input": "2021-09-07T00:22:13.422465Z",
     "iopub.status.busy": "2021-09-07T00:22:13.421784Z",
     "iopub.status.idle": "2021-09-07T00:22:13.447654Z",
     "shell.execute_reply": "2021-09-07T00:22:13.448256Z"
    },
    "papermill": {
     "duration": 0.088098,
     "end_time": "2021-09-07T00:22:13.448422",
     "exception": false,
     "start_time": "2021-09-07T00:22:13.360324",
     "status": "completed"
    },
    "tags": []
   },
   "outputs": [],
   "source": [
    "new_model = Model(layers[:-2])\n",
    "testing_plot = new_model(testing_data_x)"
   ]
  },
  {
   "cell_type": "code",
   "execution_count": 26,
   "id": "4c0a5485",
   "metadata": {
    "execution": {
     "iopub.execute_input": "2021-09-07T00:22:13.573707Z",
     "iopub.status.busy": "2021-09-07T00:22:13.572927Z",
     "iopub.status.idle": "2021-09-07T00:22:13.813245Z",
     "shell.execute_reply": "2021-09-07T00:22:13.813759Z"
    },
    "papermill": {
     "duration": 0.30886,
     "end_time": "2021-09-07T00:22:13.813943",
     "exception": false,
     "start_time": "2021-09-07T00:22:13.505083",
     "status": "completed"
    },
    "tags": []
   },
   "outputs": [
    {
     "data": {
      "text/plain": [
       "Text(0.5, 1.0, 'Outputs')"
      ]
     },
     "execution_count": 26,
     "metadata": {},
     "output_type": "execute_result"
    },
    {
     "data": {
      "image/png": "[encoded data removed]",
      "text/plain": [
       "<Figure size 576x504 with 1 Axes>"
      ]
     },
     "metadata": {
      "needs_background": "light"
     },
     "output_type": "display_data"
    }
   ],
   "source": [
    "# Plotting the scatter plot of points and color coding by class\n",
    "plt.figure(figsize=(8,7))\n",
    "plt.scatter(testing_plot[:,0], testing_plot[:,1], alpha = 0.1, c = y_test.ravel());\n",
    "plt.title('Outputs')"
   ]
  },
  {
   "cell_type": "markdown",
   "id": "a74fcf8f",
   "metadata": {
    "papermill": {
     "duration": 0.056867,
     "end_time": "2021-09-07T00:22:13.927689",
     "exception": false,
     "start_time": "2021-09-07T00:22:13.870822",
     "status": "completed"
    },
    "tags": []
   },
   "source": [
    "Probability contours"
   ]
  },
  {
   "cell_type": "code",
   "execution_count": 27,
   "id": "d0afc8e3",
   "metadata": {
    "execution": {
     "iopub.execute_input": "2021-09-07T00:22:14.039816Z",
     "iopub.status.busy": "2021-09-07T00:22:14.039117Z",
     "iopub.status.idle": "2021-09-07T00:22:14.051117Z",
     "shell.execute_reply": "2021-09-07T00:22:14.051701Z"
    },
    "papermill": {
     "duration": 0.070554,
     "end_time": "2021-09-07T00:22:14.051847",
     "exception": false,
     "start_time": "2021-09-07T00:22:13.981293",
     "status": "completed"
    },
    "tags": []
   },
   "outputs": [],
   "source": [
    "model_prob = Model(layers[-2:]) "
   ]
  },
  {
   "cell_type": "code",
   "execution_count": 28,
   "id": "9b96e238",
   "metadata": {
    "execution": {
     "iopub.execute_input": "2021-09-07T00:22:14.204682Z",
     "iopub.status.busy": "2021-09-07T00:22:14.197012Z",
     "iopub.status.idle": "2021-09-07T00:22:14.212217Z",
     "shell.execute_reply": "2021-09-07T00:22:14.211623Z"
    },
    "papermill": {
     "duration": 0.105733,
     "end_time": "2021-09-07T00:22:14.212336",
     "exception": false,
     "start_time": "2021-09-07T00:22:14.106603",
     "status": "completed"
    },
    "tags": []
   },
   "outputs": [],
   "source": [
    "#creating the x and y ranges according to the above generated plot.\n",
    "x_range = np.linspace(-4, 1, 100) \n",
    "y_range = np.linspace(-6, 6, 100) \n",
    "x_grid, y_grid = np.meshgrid(x_range, y_range) # x_grid and y_grig are of size 100 X 100\n",
    "\n",
    "# converting x_grid and y_grid to continuous arrays\n",
    "x_gridflat = np.ravel(x_grid)\n",
    "y_gridflat = np.ravel(y_grid)\n",
    "\n",
    "# The last layer of the current model takes two columns as input. Hence transpose of np.vstack() is required.\n",
    "X = np.vstack((x_gridflat, y_gridflat)).T\n",
    "\n",
    "prob_contour = model_prob(X).reshape(100,100) "
   ]
  },
  {
   "cell_type": "code",
   "execution_count": 29,
   "id": "da72499a",
   "metadata": {
    "execution": {
     "iopub.execute_input": "2021-09-07T00:22:14.329700Z",
     "iopub.status.busy": "2021-09-07T00:22:14.329015Z",
     "iopub.status.idle": "2021-09-07T00:22:14.635934Z",
     "shell.execute_reply": "2021-09-07T00:22:14.635357Z"
    },
    "papermill": {
     "duration": 0.367748,
     "end_time": "2021-09-07T00:22:14.636073",
     "exception": false,
     "start_time": "2021-09-07T00:22:14.268325",
     "status": "completed"
    },
    "tags": []
   },
   "outputs": [
    {
     "data": {
      "image/png": "[encoded data removed]",
      "text/plain": [
       "<Figure size 720x648 with 1 Axes>"
      ]
     },
     "metadata": {
      "needs_background": "light"
     },
     "output_type": "display_data"
    }
   ],
   "source": [
    "plt.figure(figsize=(10,9))\n",
    "plt.scatter(testing_plot[:,0], testing_plot[:,1], alpha = 0.1, c = y_test.ravel())\n",
    "contours = plt.contour(x_grid,y_grid,prob_contour)\n",
    "plt.title('Probability Contours')\n",
    "plt.clabel(contours, inline = True );"
   ]
  },
  {
   "cell_type": "code",
   "execution_count": null,
   "id": "e81b4ac7",
   "metadata": {
    "papermill": {
     "duration": 0.073657,
     "end_time": "2021-09-07T00:22:14.788827",
     "exception": false,
     "start_time": "2021-09-07T00:22:14.715170",
     "status": "completed"
    },
    "tags": []
   },
   "outputs": [],
   "source": []
  }
 ],
 "metadata": {
  "kernelspec": {
   "display_name": "Python 3",
   "language": "python",
   "name": "python3"
  },
  "language_info": {
   "codemirror_mode": {
    "name": "ipython",
    "version": 3
   },
   "file_extension": ".py",
   "mimetype": "text/x-python",
   "name": "python",
   "nbconvert_exporter": "python",
   "pygments_lexer": "ipython3",
   "version": "3.6.14"
  },
  "papermill": {
   "default_parameters": {},
   "duration": 155.874509,
   "end_time": "2021-09-07T00:22:15.283622",
   "environment_variables": {},
   "exception": null,
   "input_path": "2020-08-11-part2.ipynb",
   "output_path": "2020-08-11-part2.ipynb",
   "parameters": {},
   "start_time": "2021-09-07T00:19:39.409113",
   "version": "2.3.3"
  }
 },
 "nbformat": 4,
 "nbformat_minor": 5
}