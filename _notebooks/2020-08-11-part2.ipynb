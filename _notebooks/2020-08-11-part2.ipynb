{
 "cells": [
  {
   "cell_type": "markdown",
   "id": "98380cd3",
   "metadata": {
    "papermill": {
     "duration": 0.029333,
     "end_time": "2022-05-05T00:35:19.167155",
     "exception": false,
     "start_time": "2022-05-05T00:35:19.137822",
     "status": "completed"
    },
    "tags": []
   },
   "source": [
    "# Distinguish Your Own Digits (DYOD)"
   ]
  },
  {
   "cell_type": "markdown",
   "id": "ef31240d",
   "metadata": {
    "papermill": {
     "duration": 0.025384,
     "end_time": "2022-05-05T00:35:19.217123",
     "exception": false,
     "start_time": "2022-05-05T00:35:19.191739",
     "status": "completed"
    },
    "tags": []
   },
   "source": [
    "You are going to write a classifier that distinguishes between the number 3 and number 8."
   ]
  },
  {
   "cell_type": "code",
   "execution_count": 1,
   "id": "b15c8646",
   "metadata": {
    "execution": {
     "iopub.execute_input": "2022-05-05T00:35:19.275397Z",
     "iopub.status.busy": "2022-05-05T00:35:19.274843Z",
     "iopub.status.idle": "2022-05-05T00:35:19.285097Z",
     "shell.execute_reply": "2022-05-05T00:35:19.284617Z"
    },
    "papermill": {
     "duration": 0.044072,
     "end_time": "2022-05-05T00:35:19.285283",
     "exception": false,
     "start_time": "2022-05-05T00:35:19.241211",
     "status": "completed"
    },
    "tags": []
   },
   "outputs": [],
   "source": [
    "%load_ext autoreload\n",
    "%autoreload 2"
   ]
  },
  {
   "cell_type": "code",
   "execution_count": 2,
   "id": "22ef38dc",
   "metadata": {
    "execution": {
     "iopub.execute_input": "2022-05-05T00:35:19.339465Z",
     "iopub.status.busy": "2022-05-05T00:35:19.338851Z",
     "iopub.status.idle": "2022-05-05T00:35:19.874224Z",
     "shell.execute_reply": "2022-05-05T00:35:19.873737Z"
    },
    "papermill": {
     "duration": 0.564963,
     "end_time": "2022-05-05T00:35:19.874342",
     "exception": false,
     "start_time": "2022-05-05T00:35:19.309379",
     "status": "completed"
    },
    "tags": []
   },
   "outputs": [],
   "source": [
    "%matplotlib inline\n",
    "import numpy as np\n",
    "import matplotlib.pyplot as plt\n",
    "import pandas as pd"
   ]
  },
  {
   "cell_type": "markdown",
   "id": "ba036198",
   "metadata": {
    "papermill": {
     "duration": 0.023996,
     "end_time": "2022-05-05T00:35:19.922291",
     "exception": false,
     "start_time": "2022-05-05T00:35:19.898295",
     "status": "completed"
    },
    "tags": []
   },
   "source": [
    "From the command line run `pip install mnist`. This is a library that will help you bring down the mnist dataset. If you run this from a notebook, you need to put  `!pip install mnist` in a cell by itself."
   ]
  },
  {
   "cell_type": "code",
   "execution_count": 3,
   "id": "bb6ad8a1",
   "metadata": {
    "execution": {
     "iopub.execute_input": "2022-05-05T00:35:19.985594Z",
     "iopub.status.busy": "2022-05-05T00:35:19.978672Z",
     "iopub.status.idle": "2022-05-05T00:35:21.719359Z",
     "shell.execute_reply": "2022-05-05T00:35:21.718870Z"
    },
    "papermill": {
     "duration": 1.773184,
     "end_time": "2022-05-05T00:35:21.719481",
     "exception": false,
     "start_time": "2022-05-05T00:35:19.946297",
     "status": "completed"
    },
    "tags": []
   },
   "outputs": [
    {
     "name": "stdout",
     "output_type": "stream",
     "text": [
      "Collecting mnist\r\n"
     ]
    },
    {
     "name": "stdout",
     "output_type": "stream",
     "text": [
      "  Downloading mnist-0.2.2-py2.py3-none-any.whl (3.5 kB)\r\n",
      "Requirement already satisfied: numpy in /opt/hostedtoolcache/Python/3.6.15/x64/lib/python3.6/site-packages (from mnist) (1.19.5)\r\n"
     ]
    },
    {
     "name": "stdout",
     "output_type": "stream",
     "text": [
      "Installing collected packages: mnist\r\n"
     ]
    },
    {
     "name": "stdout",
     "output_type": "stream",
     "text": [
      "Successfully installed mnist-0.2.2\r\n"
     ]
    }
   ],
   "source": [
    "!pip install mnist"
   ]
  },
  {
   "cell_type": "markdown",
   "id": "69df9c9a",
   "metadata": {
    "papermill": {
     "duration": 0.025449,
     "end_time": "2022-05-05T00:35:21.770249",
     "exception": false,
     "start_time": "2022-05-05T00:35:21.744800",
     "status": "completed"
    },
    "tags": []
   },
   "source": [
    "## Preparing the Data"
   ]
  },
  {
   "cell_type": "code",
   "execution_count": 4,
   "id": "7f69d806",
   "metadata": {
    "execution": {
     "iopub.execute_input": "2022-05-05T00:35:21.824443Z",
     "iopub.status.busy": "2022-05-05T00:35:21.823917Z",
     "iopub.status.idle": "2022-05-05T00:35:21.838664Z",
     "shell.execute_reply": "2022-05-05T00:35:21.838238Z"
    },
    "papermill": {
     "duration": 0.043582,
     "end_time": "2022-05-05T00:35:21.838782",
     "exception": false,
     "start_time": "2022-05-05T00:35:21.795200",
     "status": "completed"
    },
    "tags": []
   },
   "outputs": [],
   "source": [
    "import mnist"
   ]
  },
  {
   "cell_type": "code",
   "execution_count": 5,
   "id": "a411e44f",
   "metadata": {
    "execution": {
     "iopub.execute_input": "2022-05-05T00:35:21.893125Z",
     "iopub.status.busy": "2022-05-05T00:35:21.892573Z",
     "iopub.status.idle": "2022-05-05T00:35:22.530870Z",
     "shell.execute_reply": "2022-05-05T00:35:22.530409Z"
    },
    "papermill": {
     "duration": 0.66679,
     "end_time": "2022-05-05T00:35:22.530998",
     "exception": false,
     "start_time": "2022-05-05T00:35:21.864208",
     "status": "completed"
    },
    "tags": []
   },
   "outputs": [],
   "source": [
    "train_images = mnist.train_images()\n",
    "train_labels = mnist.train_labels()"
   ]
  },
  {
   "cell_type": "code",
   "execution_count": 6,
   "id": "dceab3a5",
   "metadata": {
    "execution": {
     "iopub.execute_input": "2022-05-05T00:35:22.585483Z",
     "iopub.status.busy": "2022-05-05T00:35:22.584957Z",
     "iopub.status.idle": "2022-05-05T00:35:22.599098Z",
     "shell.execute_reply": "2022-05-05T00:35:22.598681Z"
    },
    "papermill": {
     "duration": 0.042928,
     "end_time": "2022-05-05T00:35:22.599214",
     "exception": false,
     "start_time": "2022-05-05T00:35:22.556286",
     "status": "completed"
    },
    "tags": []
   },
   "outputs": [
    {
     "data": {
      "text/plain": [
       "((60000, 28, 28), (60000,))"
      ]
     },
     "execution_count": 6,
     "metadata": {},
     "output_type": "execute_result"
    }
   ],
   "source": [
    "train_images.shape, train_labels.shape"
   ]
  },
  {
   "cell_type": "code",
   "execution_count": 7,
   "id": "f50dc2bb",
   "metadata": {
    "execution": {
     "iopub.execute_input": "2022-05-05T00:35:22.653611Z",
     "iopub.status.busy": "2022-05-05T00:35:22.653079Z",
     "iopub.status.idle": "2022-05-05T00:35:22.915117Z",
     "shell.execute_reply": "2022-05-05T00:35:22.914591Z"
    },
    "papermill": {
     "duration": 0.290674,
     "end_time": "2022-05-05T00:35:22.915252",
     "exception": false,
     "start_time": "2022-05-05T00:35:22.624578",
     "status": "completed"
    },
    "tags": []
   },
   "outputs": [],
   "source": [
    "test_images = mnist.test_images()\n",
    "test_labels = mnist.test_labels()"
   ]
  },
  {
   "cell_type": "code",
   "execution_count": 8,
   "id": "fc38cf1b",
   "metadata": {
    "execution": {
     "iopub.execute_input": "2022-05-05T00:35:22.975509Z",
     "iopub.status.busy": "2022-05-05T00:35:22.974997Z",
     "iopub.status.idle": "2022-05-05T00:35:22.984349Z",
     "shell.execute_reply": "2022-05-05T00:35:22.984852Z"
    },
    "papermill": {
     "duration": 0.043355,
     "end_time": "2022-05-05T00:35:22.984982",
     "exception": false,
     "start_time": "2022-05-05T00:35:22.941627",
     "status": "completed"
    },
    "tags": []
   },
   "outputs": [
    {
     "data": {
      "text/plain": [
       "((10000, 28, 28), (10000,))"
      ]
     },
     "execution_count": 8,
     "metadata": {},
     "output_type": "execute_result"
    }
   ],
   "source": [
    "test_images.shape, test_labels.shape"
   ]
  },
  {
   "cell_type": "code",
   "execution_count": 9,
   "id": "f9ed8fe0",
   "metadata": {
    "execution": {
     "iopub.execute_input": "2022-05-05T00:35:23.039340Z",
     "iopub.status.busy": "2022-05-05T00:35:23.038826Z",
     "iopub.status.idle": "2022-05-05T00:35:23.175283Z",
     "shell.execute_reply": "2022-05-05T00:35:23.174777Z"
    },
    "papermill": {
     "duration": 0.165061,
     "end_time": "2022-05-05T00:35:23.175407",
     "exception": false,
     "start_time": "2022-05-05T00:35:23.010346",
     "status": "completed"
    },
    "tags": []
   },
   "outputs": [
    {
     "name": "stdout",
     "output_type": "stream",
     "text": [
      "2\n"
     ]
    },
    {
     "data": {
      "text/plain": [
       "<matplotlib.image.AxesImage at 0x7f421f8482e8>"
      ]
     },
     "execution_count": 9,
     "metadata": {},
     "output_type": "execute_result"
    },
    {
     "data": {
      "image/png": "[encoded data removed]",
      "text/plain": [
       "<Figure size 432x288 with 1 Axes>"
      ]
     },
     "metadata": {
      "needs_background": "light"
     },
     "output_type": "display_data"
    }
   ],
   "source": [
    "image_index = 7776 # You may select anything up to 60,000\n",
    "print(train_labels[image_index]) \n",
    "plt.imshow(train_images[image_index], cmap='Greys')"
   ]
  },
  {
   "cell_type": "markdown",
   "id": "a8d2388d",
   "metadata": {
    "papermill": {
     "duration": 0.02672,
     "end_time": "2022-05-05T00:35:23.228981",
     "exception": false,
     "start_time": "2022-05-05T00:35:23.202261",
     "status": "completed"
    },
    "tags": []
   },
   "source": [
    "## Filter data to get 3 and 8 out"
   ]
  },
  {
   "cell_type": "code",
   "execution_count": 10,
   "id": "776f7fc7",
   "metadata": {
    "execution": {
     "iopub.execute_input": "2022-05-05T00:35:23.290256Z",
     "iopub.status.busy": "2022-05-05T00:35:23.289728Z",
     "iopub.status.idle": "2022-05-05T00:35:23.307097Z",
     "shell.execute_reply": "2022-05-05T00:35:23.307518Z"
    },
    "papermill": {
     "duration": 0.051936,
     "end_time": "2022-05-05T00:35:23.307652",
     "exception": false,
     "start_time": "2022-05-05T00:35:23.255716",
     "status": "completed"
    },
    "tags": []
   },
   "outputs": [],
   "source": [
    "train_filter = np.where((train_labels == 3 ) | (train_labels == 8))\n",
    "test_filter = np.where((test_labels == 3) | (test_labels == 8))\n",
    "X_train, y_train = train_images[train_filter], train_labels[train_filter]\n",
    "X_test, y_test = test_images[test_filter], test_labels[test_filter]"
   ]
  },
  {
   "cell_type": "markdown",
   "id": "948f0b7e",
   "metadata": {
    "papermill": {
     "duration": 0.02652,
     "end_time": "2022-05-05T00:35:23.360917",
     "exception": false,
     "start_time": "2022-05-05T00:35:23.334397",
     "status": "completed"
    },
    "tags": []
   },
   "source": [
    "We normalize the pizel values in the 0 to 1 range"
   ]
  },
  {
   "cell_type": "code",
   "execution_count": 11,
   "id": "ee4c2166",
   "metadata": {
    "execution": {
     "iopub.execute_input": "2022-05-05T00:35:23.417479Z",
     "iopub.status.busy": "2022-05-05T00:35:23.416951Z",
     "iopub.status.idle": "2022-05-05T00:35:23.463761Z",
     "shell.execute_reply": "2022-05-05T00:35:23.463261Z"
    },
    "papermill": {
     "duration": 0.076574,
     "end_time": "2022-05-05T00:35:23.463896",
     "exception": false,
     "start_time": "2022-05-05T00:35:23.387322",
     "status": "completed"
    },
    "tags": []
   },
   "outputs": [],
   "source": [
    "X_train = X_train/255.\n",
    "X_test = X_test/255."
   ]
  },
  {
   "cell_type": "markdown",
   "id": "ddcf4fab",
   "metadata": {
    "papermill": {
     "duration": 0.026571,
     "end_time": "2022-05-05T00:35:23.518395",
     "exception": false,
     "start_time": "2022-05-05T00:35:23.491824",
     "status": "completed"
    },
    "tags": []
   },
   "source": [
    "And setup the labels as 1 (when the digit is 3) and 0 (when the digit is 8)"
   ]
  },
  {
   "cell_type": "code",
   "execution_count": 12,
   "id": "7dc908f2",
   "metadata": {
    "execution": {
     "iopub.execute_input": "2022-05-05T00:35:23.577927Z",
     "iopub.status.busy": "2022-05-05T00:35:23.577402Z",
     "iopub.status.idle": "2022-05-05T00:35:23.587775Z",
     "shell.execute_reply": "2022-05-05T00:35:23.588221Z"
    },
    "papermill": {
     "duration": 0.043443,
     "end_time": "2022-05-05T00:35:23.588352",
     "exception": false,
     "start_time": "2022-05-05T00:35:23.544909",
     "status": "completed"
    },
    "tags": []
   },
   "outputs": [],
   "source": [
    "y_train = 1*(y_train==3)\n",
    "y_test = 1*(y_test==3)"
   ]
  },
  {
   "cell_type": "code",
   "execution_count": 13,
   "id": "01e4e969",
   "metadata": {
    "execution": {
     "iopub.execute_input": "2022-05-05T00:35:23.645117Z",
     "iopub.status.busy": "2022-05-05T00:35:23.644571Z",
     "iopub.status.idle": "2022-05-05T00:35:23.658163Z",
     "shell.execute_reply": "2022-05-05T00:35:23.658546Z"
    },
    "papermill": {
     "duration": 0.043699,
     "end_time": "2022-05-05T00:35:23.658680",
     "exception": false,
     "start_time": "2022-05-05T00:35:23.614981",
     "status": "completed"
    },
    "tags": []
   },
   "outputs": [
    {
     "data": {
      "text/plain": [
       "((11982, 28, 28), (1984, 28, 28))"
      ]
     },
     "execution_count": 13,
     "metadata": {},
     "output_type": "execute_result"
    }
   ],
   "source": [
    "X_train.shape, X_test.shape"
   ]
  },
  {
   "cell_type": "markdown",
   "id": "5ccf3f85",
   "metadata": {
    "papermill": {
     "duration": 0.026832,
     "end_time": "2022-05-05T00:35:23.712512",
     "exception": false,
     "start_time": "2022-05-05T00:35:23.685680",
     "status": "completed"
    },
    "tags": []
   },
   "source": [
    "We reshape the data to flatten the image pixels into a set of features or co-variates:"
   ]
  },
  {
   "cell_type": "code",
   "execution_count": 14,
   "id": "5286a4a3",
   "metadata": {
    "execution": {
     "iopub.execute_input": "2022-05-05T00:35:23.774356Z",
     "iopub.status.busy": "2022-05-05T00:35:23.773832Z",
     "iopub.status.idle": "2022-05-05T00:35:23.785020Z",
     "shell.execute_reply": "2022-05-05T00:35:23.784583Z"
    },
    "papermill": {
     "duration": 0.045667,
     "end_time": "2022-05-05T00:35:23.785136",
     "exception": false,
     "start_time": "2022-05-05T00:35:23.739469",
     "status": "completed"
    },
    "tags": []
   },
   "outputs": [
    {
     "data": {
      "text/plain": [
       "((11982, 784), (1984, 784))"
      ]
     },
     "execution_count": 14,
     "metadata": {},
     "output_type": "execute_result"
    }
   ],
   "source": [
    "X_train = X_train.reshape(X_train.shape[0], -1)\n",
    "X_test = X_test.reshape(X_test.shape[0], -1)\n",
    "X_train.shape, X_test.shape"
   ]
  },
  {
   "cell_type": "code",
   "execution_count": 15,
   "id": "73c5f88a",
   "metadata": {
    "execution": {
     "iopub.execute_input": "2022-05-05T00:35:23.849162Z",
     "iopub.status.busy": "2022-05-05T00:35:23.848574Z",
     "iopub.status.idle": "2022-05-05T00:35:23.864138Z",
     "shell.execute_reply": "2022-05-05T00:35:23.863708Z"
    },
    "papermill": {
     "duration": 0.051841,
     "end_time": "2022-05-05T00:35:23.864253",
     "exception": false,
     "start_time": "2022-05-05T00:35:23.812412",
     "status": "completed"
    },
    "tags": []
   },
   "outputs": [],
   "source": [
    "#Impoting functions from 'Kudzu'\n",
    "from kudzu.model import Model\n",
    "from kudzu.train import Learner\n",
    "from kudzu.optim import GD\n",
    "from kudzu.data import Data, Sampler,Dataloader\n",
    "\n",
    "from kudzu.callbacks import AccCallback\n",
    "from kudzu.callbacks import ClfCallback\n",
    "\n",
    "from kudzu.loss import MSE\n",
    "\n",
    "from kudzu.layer import Sigmoid,Relu\n",
    "from kudzu.layer import Affine"
   ]
  },
  {
   "cell_type": "markdown",
   "id": "bc01172a",
   "metadata": {
    "papermill": {
     "duration": 0.027222,
     "end_time": "2022-05-05T00:35:23.918963",
     "exception": false,
     "start_time": "2022-05-05T00:35:23.891741",
     "status": "completed"
    },
    "tags": []
   },
   "source": [
    "### Let us create a `Config` class, to store important parameters. \n",
    "This class essentially plays the role of a dictionary."
   ]
  },
  {
   "cell_type": "code",
   "execution_count": 16,
   "id": "978281aa",
   "metadata": {
    "execution": {
     "iopub.execute_input": "2022-05-05T00:35:23.987764Z",
     "iopub.status.busy": "2022-05-05T00:35:23.987218Z",
     "iopub.status.idle": "2022-05-05T00:35:23.993210Z",
     "shell.execute_reply": "2022-05-05T00:35:23.992717Z"
    },
    "papermill": {
     "duration": 0.047112,
     "end_time": "2022-05-05T00:35:23.993324",
     "exception": false,
     "start_time": "2022-05-05T00:35:23.946212",
     "status": "completed"
    },
    "tags": []
   },
   "outputs": [],
   "source": [
    "class Config:\n",
    "    pass\n",
    "config = Config()\n",
    "config.lr = 0.001\n",
    "config.num_epochs = 250\n",
    "config.bs = 50"
   ]
  },
  {
   "cell_type": "markdown",
   "id": "1385fa59",
   "metadata": {
    "papermill": {
     "duration": 0.027391,
     "end_time": "2022-05-05T00:35:24.047983",
     "exception": false,
     "start_time": "2022-05-05T00:35:24.020592",
     "status": "completed"
    },
    "tags": []
   },
   "source": [
    "### Running Models with the Training data\n",
    "Details about the network layers:\n",
    "- A first affine layer has 784 inputs and does 100 affine transforms. These are followed by a Relu\n",
    "- A second affine layer has 100 inputs from the 100 activations of the past layer, and does 100 affine transforms. These are followed by a Relu\n",
    "- A third affine layer has 100 activations and does 2 affine transformations to create an embedding for visualization. There is no non-linearity here.\n",
    "- A final \"logistic regression\" which has an affine transform from 2 inputs to 1 output, which is squeezed through a sigmoid.\n"
   ]
  },
  {
   "cell_type": "code",
   "execution_count": 17,
   "id": "2b9c66db",
   "metadata": {
    "execution": {
     "iopub.execute_input": "2022-05-05T00:35:24.109555Z",
     "iopub.status.busy": "2022-05-05T00:35:24.108954Z",
     "iopub.status.idle": "2022-05-05T00:35:24.120220Z",
     "shell.execute_reply": "2022-05-05T00:35:24.119802Z"
    },
    "papermill": {
     "duration": 0.045057,
     "end_time": "2022-05-05T00:35:24.120332",
     "exception": false,
     "start_time": "2022-05-05T00:35:24.075275",
     "status": "completed"
    },
    "tags": []
   },
   "outputs": [],
   "source": [
    "data = Data(X_train, y_train.reshape(-1,1))\n",
    "sampler = Sampler(data, config.bs, shuffle=True)\n",
    "\n",
    "dl = Dataloader(data, sampler)\n",
    "\n",
    "opt = GD(config.lr)\n",
    "loss = MSE()"
   ]
  },
  {
   "cell_type": "code",
   "execution_count": 18,
   "id": "b275e4c2",
   "metadata": {
    "execution": {
     "iopub.execute_input": "2022-05-05T00:35:24.192555Z",
     "iopub.status.busy": "2022-05-05T00:35:24.185136Z",
     "iopub.status.idle": "2022-05-05T00:35:24.194339Z",
     "shell.execute_reply": "2022-05-05T00:35:24.194724Z"
    },
    "papermill": {
     "duration": 0.047219,
     "end_time": "2022-05-05T00:35:24.194850",
     "exception": false,
     "start_time": "2022-05-05T00:35:24.147631",
     "status": "completed"
    },
    "tags": []
   },
   "outputs": [],
   "source": [
    "training_data_x = X_train\n",
    "testing_data_x = X_test\n",
    "training_data_y = y_train.reshape(-1,1)\n",
    "testing_data_y = y_test.reshape(-1,1)"
   ]
  },
  {
   "cell_type": "code",
   "execution_count": 19,
   "id": "76951160",
   "metadata": {
    "execution": {
     "iopub.execute_input": "2022-05-05T00:35:24.265813Z",
     "iopub.status.busy": "2022-05-05T00:35:24.256439Z",
     "iopub.status.idle": "2022-05-05T00:35:24.274281Z",
     "shell.execute_reply": "2022-05-05T00:35:24.273846Z"
    },
    "papermill": {
     "duration": 0.0524,
     "end_time": "2022-05-05T00:35:24.274393",
     "exception": false,
     "start_time": "2022-05-05T00:35:24.221993",
     "status": "completed"
    },
    "tags": []
   },
   "outputs": [
    {
     "name": "stdout",
     "output_type": "stream",
     "text": [
      "xavier\n",
      "xavier\n",
      "xavier\n",
      "xavier\n",
      "xavier\n"
     ]
    }
   ],
   "source": [
    "layers = [Affine(\"first\", 784, 100), Relu(\"first\"), Affine(\"second\", 100, 100), Relu(\"second\"), Affine(\"third\", 100, 2), Affine(\"last\", 2, 1), Sigmoid(\"last\")]\n",
    "model_nn = Model(layers)\n",
    "model_lr = Model([Affine(\"logits\", 784, 1), Sigmoid(\"sigmoid\")])"
   ]
  },
  {
   "cell_type": "code",
   "execution_count": 20,
   "id": "6eede77a",
   "metadata": {
    "execution": {
     "iopub.execute_input": "2022-05-05T00:35:24.335471Z",
     "iopub.status.busy": "2022-05-05T00:35:24.334919Z",
     "iopub.status.idle": "2022-05-05T00:35:24.347406Z",
     "shell.execute_reply": "2022-05-05T00:35:24.346959Z"
    },
    "papermill": {
     "duration": 0.045331,
     "end_time": "2022-05-05T00:35:24.347519",
     "exception": false,
     "start_time": "2022-05-05T00:35:24.302188",
     "status": "completed"
    },
    "tags": []
   },
   "outputs": [],
   "source": [
    "nn_learner = Learner(loss, model_nn, opt, config.num_epochs)\n",
    "acc_nn = ClfCallback(nn_learner, config.bs, training_data_x , testing_data_x, training_data_y, testing_data_y)\n",
    "nn_learner.set_callbacks([acc_nn])"
   ]
  },
  {
   "cell_type": "code",
   "execution_count": 21,
   "id": "877b6cc7",
   "metadata": {
    "execution": {
     "iopub.execute_input": "2022-05-05T00:35:24.409431Z",
     "iopub.status.busy": "2022-05-05T00:35:24.408904Z",
     "iopub.status.idle": "2022-05-05T00:35:24.419560Z",
     "shell.execute_reply": "2022-05-05T00:35:24.419145Z"
    },
    "papermill": {
     "duration": 0.044514,
     "end_time": "2022-05-05T00:35:24.419671",
     "exception": false,
     "start_time": "2022-05-05T00:35:24.375157",
     "status": "completed"
    },
    "tags": []
   },
   "outputs": [],
   "source": [
    "lr_learner = Learner(loss, model_lr, opt, config.num_epochs)\n",
    "acc_lr = ClfCallback(lr_learner, config.bs, training_data_x , testing_data_x, training_data_y, testing_data_y)\n",
    "lr_learner.set_callbacks([acc_lr])"
   ]
  },
  {
   "cell_type": "code",
   "execution_count": 22,
   "id": "d9b133c3",
   "metadata": {
    "execution": {
     "iopub.execute_input": "2022-05-05T00:35:24.491589Z",
     "iopub.status.busy": "2022-05-05T00:35:24.486226Z",
     "iopub.status.idle": "2022-05-05T00:36:40.330203Z",
     "shell.execute_reply": "2022-05-05T00:36:40.330701Z"
    },
    "papermill": {
     "duration": 75.883333,
     "end_time": "2022-05-05T00:36:40.330841",
     "exception": false,
     "start_time": "2022-05-05T00:35:24.447508",
     "status": "completed"
    },
    "tags": []
   },
   "outputs": [
    {
     "name": "stdout",
     "output_type": "stream",
     "text": [
      "Epoch 0, Loss 0.2586\n",
      "Training Accuracy: 0.7257, Testing Accuracy: 0.7298\n",
      "\n"
     ]
    },
    {
     "name": "stdout",
     "output_type": "stream",
     "text": [
      "Epoch 10, Loss 0.0614\n",
      "Training Accuracy: 0.9340, Testing Accuracy: 0.9420\n",
      "\n"
     ]
    },
    {
     "name": "stdout",
     "output_type": "stream",
     "text": [
      "Epoch 20, Loss 0.0435\n",
      "Training Accuracy: 0.9506, Testing Accuracy: 0.9577\n",
      "\n"
     ]
    },
    {
     "name": "stdout",
     "output_type": "stream",
     "text": [
      "Epoch 30, Loss 0.0367\n",
      "Training Accuracy: 0.9584, Testing Accuracy: 0.9662\n",
      "\n"
     ]
    },
    {
     "name": "stdout",
     "output_type": "stream",
     "text": [
      "Epoch 40, Loss 0.0329\n",
      "Training Accuracy: 0.9617, Testing Accuracy: 0.9672\n",
      "\n"
     ]
    },
    {
     "name": "stdout",
     "output_type": "stream",
     "text": [
      "Epoch 50, Loss 0.0304\n",
      "Training Accuracy: 0.9639, Testing Accuracy: 0.9682\n",
      "\n"
     ]
    },
    {
     "name": "stdout",
     "output_type": "stream",
     "text": [
      "Epoch 60, Loss 0.0286\n",
      "Training Accuracy: 0.9661, Testing Accuracy: 0.9708\n",
      "\n"
     ]
    },
    {
     "name": "stdout",
     "output_type": "stream",
     "text": [
      "Epoch 70, Loss 0.0272\n",
      "Training Accuracy: 0.9678, Testing Accuracy: 0.9718\n",
      "\n"
     ]
    },
    {
     "name": "stdout",
     "output_type": "stream",
     "text": [
      "Epoch 80, Loss 0.026\n",
      "Training Accuracy: 0.9695, Testing Accuracy: 0.9723\n",
      "\n"
     ]
    },
    {
     "name": "stdout",
     "output_type": "stream",
     "text": [
      "Epoch 90, Loss 0.025\n",
      "Training Accuracy: 0.9708, Testing Accuracy: 0.9718\n",
      "\n"
     ]
    },
    {
     "name": "stdout",
     "output_type": "stream",
     "text": [
      "Epoch 100, Loss 0.0241\n",
      "Training Accuracy: 0.9718, Testing Accuracy: 0.9718\n",
      "\n"
     ]
    },
    {
     "name": "stdout",
     "output_type": "stream",
     "text": [
      "Epoch 110, Loss 0.0233\n",
      "Training Accuracy: 0.9732, Testing Accuracy: 0.9723\n",
      "\n"
     ]
    },
    {
     "name": "stdout",
     "output_type": "stream",
     "text": [
      "Epoch 120, Loss 0.0226\n",
      "Training Accuracy: 0.9746, Testing Accuracy: 0.9723\n",
      "\n"
     ]
    },
    {
     "name": "stdout",
     "output_type": "stream",
     "text": [
      "Epoch 130, Loss 0.022\n",
      "Training Accuracy: 0.9755, Testing Accuracy: 0.9728\n",
      "\n"
     ]
    },
    {
     "name": "stdout",
     "output_type": "stream",
     "text": [
      "Epoch 140, Loss 0.0214\n",
      "Training Accuracy: 0.9761, Testing Accuracy: 0.9723\n",
      "\n"
     ]
    },
    {
     "name": "stdout",
     "output_type": "stream",
     "text": [
      "Epoch 150, Loss 0.0208\n",
      "Training Accuracy: 0.9770, Testing Accuracy: 0.9723\n",
      "\n"
     ]
    },
    {
     "name": "stdout",
     "output_type": "stream",
     "text": [
      "Epoch 160, Loss 0.0203\n",
      "Training Accuracy: 0.9776, Testing Accuracy: 0.9718\n",
      "\n"
     ]
    },
    {
     "name": "stdout",
     "output_type": "stream",
     "text": [
      "Epoch 170, Loss 0.0198\n",
      "Training Accuracy: 0.9788, Testing Accuracy: 0.9718\n",
      "\n"
     ]
    },
    {
     "name": "stdout",
     "output_type": "stream",
     "text": [
      "Epoch 180, Loss 0.0193\n",
      "Training Accuracy: 0.9796, Testing Accuracy: 0.9718\n",
      "\n"
     ]
    },
    {
     "name": "stdout",
     "output_type": "stream",
     "text": [
      "Epoch 190, Loss 0.0188\n",
      "Training Accuracy: 0.9801, Testing Accuracy: 0.9718\n",
      "\n"
     ]
    },
    {
     "name": "stdout",
     "output_type": "stream",
     "text": [
      "Epoch 200, Loss 0.0184\n",
      "Training Accuracy: 0.9804, Testing Accuracy: 0.9718\n",
      "\n"
     ]
    },
    {
     "name": "stdout",
     "output_type": "stream",
     "text": [
      "Epoch 210, Loss 0.0179\n",
      "Training Accuracy: 0.9806, Testing Accuracy: 0.9713\n",
      "\n"
     ]
    },
    {
     "name": "stdout",
     "output_type": "stream",
     "text": [
      "Epoch 220, Loss 0.0175\n",
      "Training Accuracy: 0.9812, Testing Accuracy: 0.9723\n",
      "\n"
     ]
    },
    {
     "name": "stdout",
     "output_type": "stream",
     "text": [
      "Epoch 230, Loss 0.0171\n",
      "Training Accuracy: 0.9816, Testing Accuracy: 0.9733\n",
      "\n"
     ]
    },
    {
     "name": "stdout",
     "output_type": "stream",
     "text": [
      "Epoch 240, Loss 0.0167\n",
      "Training Accuracy: 0.9821, Testing Accuracy: 0.9738\n",
      "\n"
     ]
    },
    {
     "data": {
      "text/plain": [
       "0.005558070560768638"
      ]
     },
     "execution_count": 22,
     "metadata": {},
     "output_type": "execute_result"
    }
   ],
   "source": [
    "nn_learner.train_loop(dl)"
   ]
  },
  {
   "cell_type": "code",
   "execution_count": 23,
   "id": "e0163366",
   "metadata": {
    "execution": {
     "iopub.execute_input": "2022-05-05T00:36:40.410376Z",
     "iopub.status.busy": "2022-05-05T00:36:40.409839Z",
     "iopub.status.idle": "2022-05-05T00:36:54.124760Z",
     "shell.execute_reply": "2022-05-05T00:36:54.124329Z"
    },
    "papermill": {
     "duration": 13.759414,
     "end_time": "2022-05-05T00:36:54.124903",
     "exception": false,
     "start_time": "2022-05-05T00:36:40.365489",
     "status": "completed"
    },
    "tags": []
   },
   "outputs": [
    {
     "name": "stdout",
     "output_type": "stream",
     "text": [
      "Epoch 0, Loss 0.268\n",
      "Training Accuracy: 0.5573, Testing Accuracy: 0.5726\n",
      "\n"
     ]
    },
    {
     "name": "stdout",
     "output_type": "stream",
     "text": [
      "Epoch 10, Loss 0.1092\n",
      "Training Accuracy: 0.8985, Testing Accuracy: 0.9088\n",
      "\n"
     ]
    },
    {
     "name": "stdout",
     "output_type": "stream",
     "text": [
      "Epoch 20, Loss 0.0829\n",
      "Training Accuracy: 0.9212, Testing Accuracy: 0.9325\n",
      "\n"
     ]
    },
    {
     "name": "stdout",
     "output_type": "stream",
     "text": [
      "Epoch 30, Loss 0.071\n",
      "Training Accuracy: 0.9310, Testing Accuracy: 0.9451\n",
      "\n"
     ]
    },
    {
     "name": "stdout",
     "output_type": "stream",
     "text": [
      "Epoch 40, Loss 0.0639\n",
      "Training Accuracy: 0.9393, Testing Accuracy: 0.9491\n",
      "\n"
     ]
    },
    {
     "name": "stdout",
     "output_type": "stream",
     "text": [
      "Epoch 50, Loss 0.059\n",
      "Training Accuracy: 0.9420, Testing Accuracy: 0.9516\n",
      "\n"
     ]
    },
    {
     "name": "stdout",
     "output_type": "stream",
     "text": [
      "Epoch 60, Loss 0.0555\n",
      "Training Accuracy: 0.9452, Testing Accuracy: 0.9536\n",
      "\n"
     ]
    },
    {
     "name": "stdout",
     "output_type": "stream",
     "text": [
      "Epoch 70, Loss 0.0528\n",
      "Training Accuracy: 0.9464, Testing Accuracy: 0.9546\n",
      "\n"
     ]
    },
    {
     "name": "stdout",
     "output_type": "stream",
     "text": [
      "Epoch 80, Loss 0.0506\n",
      "Training Accuracy: 0.9488, Testing Accuracy: 0.9561\n",
      "\n"
     ]
    },
    {
     "name": "stdout",
     "output_type": "stream",
     "text": [
      "Epoch 90, Loss 0.0488\n",
      "Training Accuracy: 0.9500, Testing Accuracy: 0.9561\n",
      "\n"
     ]
    },
    {
     "name": "stdout",
     "output_type": "stream",
     "text": [
      "Epoch 100, Loss 0.0473\n",
      "Training Accuracy: 0.9514, Testing Accuracy: 0.9592\n",
      "\n"
     ]
    },
    {
     "name": "stdout",
     "output_type": "stream",
     "text": [
      "Epoch 110, Loss 0.046\n",
      "Training Accuracy: 0.9523, Testing Accuracy: 0.9607\n",
      "\n"
     ]
    },
    {
     "name": "stdout",
     "output_type": "stream",
     "text": [
      "Epoch 120, Loss 0.0449\n",
      "Training Accuracy: 0.9533, Testing Accuracy: 0.9627\n",
      "\n"
     ]
    },
    {
     "name": "stdout",
     "output_type": "stream",
     "text": [
      "Epoch 130, Loss 0.0439\n",
      "Training Accuracy: 0.9542, Testing Accuracy: 0.9632\n",
      "\n"
     ]
    },
    {
     "name": "stdout",
     "output_type": "stream",
     "text": [
      "Epoch 140, Loss 0.043\n",
      "Training Accuracy: 0.9545, Testing Accuracy: 0.9637\n",
      "\n"
     ]
    },
    {
     "name": "stdout",
     "output_type": "stream",
     "text": [
      "Epoch 150, Loss 0.0422\n",
      "Training Accuracy: 0.9556, Testing Accuracy: 0.9652\n",
      "\n"
     ]
    },
    {
     "name": "stdout",
     "output_type": "stream",
     "text": [
      "Epoch 160, Loss 0.0415\n",
      "Training Accuracy: 0.9564, Testing Accuracy: 0.9672\n",
      "\n"
     ]
    },
    {
     "name": "stdout",
     "output_type": "stream",
     "text": [
      "Epoch 170, Loss 0.0408\n",
      "Training Accuracy: 0.9566, Testing Accuracy: 0.9677\n",
      "\n"
     ]
    },
    {
     "name": "stdout",
     "output_type": "stream",
     "text": [
      "Epoch 180, Loss 0.0402\n",
      "Training Accuracy: 0.9570, Testing Accuracy: 0.9677\n",
      "\n"
     ]
    },
    {
     "name": "stdout",
     "output_type": "stream",
     "text": [
      "Epoch 190, Loss 0.0397\n",
      "Training Accuracy: 0.9574, Testing Accuracy: 0.9677\n",
      "\n"
     ]
    },
    {
     "name": "stdout",
     "output_type": "stream",
     "text": [
      "Epoch 200, Loss 0.0392\n",
      "Training Accuracy: 0.9577, Testing Accuracy: 0.9682\n",
      "\n"
     ]
    },
    {
     "name": "stdout",
     "output_type": "stream",
     "text": [
      "Epoch 210, Loss 0.0387\n",
      "Training Accuracy: 0.9581, Testing Accuracy: 0.9677\n",
      "\n"
     ]
    },
    {
     "name": "stdout",
     "output_type": "stream",
     "text": [
      "Epoch 220, Loss 0.0383\n",
      "Training Accuracy: 0.9584, Testing Accuracy: 0.9677\n",
      "\n"
     ]
    },
    {
     "name": "stdout",
     "output_type": "stream",
     "text": [
      "Epoch 230, Loss 0.0379\n",
      "Training Accuracy: 0.9589, Testing Accuracy: 0.9672\n",
      "\n"
     ]
    },
    {
     "name": "stdout",
     "output_type": "stream",
     "text": [
      "Epoch 240, Loss 0.0375\n",
      "Training Accuracy: 0.9590, Testing Accuracy: 0.9672\n",
      "\n"
     ]
    },
    {
     "data": {
      "text/plain": [
       "0.035439654910115304"
      ]
     },
     "execution_count": 23,
     "metadata": {},
     "output_type": "execute_result"
    }
   ],
   "source": [
    "lr_learner.train_loop(dl)"
   ]
  },
  {
   "cell_type": "code",
   "execution_count": 24,
   "id": "ca410940",
   "metadata": {
    "execution": {
     "iopub.execute_input": "2022-05-05T00:36:54.222457Z",
     "iopub.status.busy": "2022-05-05T00:36:54.221649Z",
     "iopub.status.idle": "2022-05-05T00:36:54.439415Z",
     "shell.execute_reply": "2022-05-05T00:36:54.439835Z"
    },
    "papermill": {
     "duration": 0.273472,
     "end_time": "2022-05-05T00:36:54.439976",
     "exception": false,
     "start_time": "2022-05-05T00:36:54.166504",
     "status": "completed"
    },
    "tags": []
   },
   "outputs": [
    {
     "data": {
      "text/plain": [
       "<matplotlib.legend.Legend at 0x7f421f426ac8>"
      ]
     },
     "execution_count": 24,
     "metadata": {},
     "output_type": "execute_result"
    },
    {
     "data": {
      "image/png": "[encoded data removed]",
      "text/plain": [
       "<Figure size 1080x720 with 1 Axes>"
      ]
     },
     "metadata": {
      "needs_background": "light"
     },
     "output_type": "display_data"
    }
   ],
   "source": [
    "#comparing the results of NN and LR\n",
    "plt.figure(figsize=(15,10))\n",
    "\n",
    "# Neural Network plots\n",
    "plt.plot(acc_nn.accuracies, 'r-', label = \"Training Accuracies - NN\")\n",
    "plt.plot(acc_nn.test_accuracies, 'g-', label = \"Testing Accuracies - NN\")\n",
    "\n",
    "# Logistic Regression plots\n",
    "plt.plot(acc_lr.accuracies, 'k-', label = \"Training Accuracies - LR\")\n",
    "plt.plot(acc_lr.test_accuracies, 'b-', label = \"Testing Accuracies - LR\")\n",
    "plt.legend()"
   ]
  },
  {
   "cell_type": "markdown",
   "id": "80dfb35c",
   "metadata": {
    "papermill": {
     "duration": 0.042422,
     "end_time": "2022-05-05T00:36:54.525256",
     "exception": false,
     "start_time": "2022-05-05T00:36:54.482834",
     "status": "completed"
    },
    "tags": []
   },
   "source": [
    "#### Plotting the outputs of this layer of the NN.\n"
   ]
  },
  {
   "cell_type": "code",
   "execution_count": 25,
   "id": "45eb2ff5",
   "metadata": {
    "execution": {
     "iopub.execute_input": "2022-05-05T00:36:54.626202Z",
     "iopub.status.busy": "2022-05-05T00:36:54.625579Z",
     "iopub.status.idle": "2022-05-05T00:36:54.631990Z",
     "shell.execute_reply": "2022-05-05T00:36:54.632397Z"
    },
    "papermill": {
     "duration": 0.064932,
     "end_time": "2022-05-05T00:36:54.632528",
     "exception": false,
     "start_time": "2022-05-05T00:36:54.567596",
     "status": "completed"
    },
    "tags": []
   },
   "outputs": [],
   "source": [
    "new_model = Model(layers[:-2])\n",
    "testing_plot = new_model(testing_data_x)"
   ]
  },
  {
   "cell_type": "code",
   "execution_count": 26,
   "id": "4c0a5485",
   "metadata": {
    "execution": {
     "iopub.execute_input": "2022-05-05T00:36:54.728090Z",
     "iopub.status.busy": "2022-05-05T00:36:54.727555Z",
     "iopub.status.idle": "2022-05-05T00:36:54.925841Z",
     "shell.execute_reply": "2022-05-05T00:36:54.925412Z"
    },
    "papermill": {
     "duration": 0.250707,
     "end_time": "2022-05-05T00:36:54.925963",
     "exception": false,
     "start_time": "2022-05-05T00:36:54.675256",
     "status": "completed"
    },
    "tags": []
   },
   "outputs": [
    {
     "data": {
      "text/plain": [
       "Text(0.5, 1.0, 'Outputs')"
      ]
     },
     "execution_count": 26,
     "metadata": {},
     "output_type": "execute_result"
    },
    {
     "data": {
      "image/png": "[encoded data removed]",
      "text/plain": [
       "<Figure size 576x504 with 1 Axes>"
      ]
     },
     "metadata": {
      "needs_background": "light"
     },
     "output_type": "display_data"
    }
   ],
   "source": [
    "# Plotting the scatter plot of points and color coding by class\n",
    "plt.figure(figsize=(8,7))\n",
    "plt.scatter(testing_plot[:,0], testing_plot[:,1], alpha = 0.1, c = y_test.ravel());\n",
    "plt.title('Outputs')"
   ]
  },
  {
   "cell_type": "markdown",
   "id": "a74fcf8f",
   "metadata": {
    "papermill": {
     "duration": 0.048904,
     "end_time": "2022-05-05T00:36:55.019656",
     "exception": false,
     "start_time": "2022-05-05T00:36:54.970752",
     "status": "completed"
    },
    "tags": []
   },
   "source": [
    "Probability contours"
   ]
  },
  {
   "cell_type": "code",
   "execution_count": 27,
   "id": "d0afc8e3",
   "metadata": {
    "execution": {
     "iopub.execute_input": "2022-05-05T00:36:55.119464Z",
     "iopub.status.busy": "2022-05-05T00:36:55.117776Z",
     "iopub.status.idle": "2022-05-05T00:36:55.133808Z",
     "shell.execute_reply": "2022-05-05T00:36:55.133396Z"
    },
    "papermill": {
     "duration": 0.069359,
     "end_time": "2022-05-05T00:36:55.133918",
     "exception": false,
     "start_time": "2022-05-05T00:36:55.064559",
     "status": "completed"
    },
    "tags": []
   },
   "outputs": [],
   "source": [
    "model_prob = Model(layers[-2:]) "
   ]
  },
  {
   "cell_type": "code",
   "execution_count": 28,
   "id": "9b96e238",
   "metadata": {
    "execution": {
     "iopub.execute_input": "2022-05-05T00:36:55.263685Z",
     "iopub.status.busy": "2022-05-05T00:36:55.261420Z",
     "iopub.status.idle": "2022-05-05T00:36:55.276171Z",
     "shell.execute_reply": "2022-05-05T00:36:55.276553Z"
    },
    "papermill": {
     "duration": 0.068075,
     "end_time": "2022-05-05T00:36:55.276681",
     "exception": false,
     "start_time": "2022-05-05T00:36:55.208606",
     "status": "completed"
    },
    "tags": []
   },
   "outputs": [],
   "source": [
    "#creating the x and y ranges according to the above generated plot.\n",
    "x_range = np.linspace(-4, 1, 100) \n",
    "y_range = np.linspace(-6, 6, 100) \n",
    "x_grid, y_grid = np.meshgrid(x_range, y_range) # x_grid and y_grig are of size 100 X 100\n",
    "\n",
    "# converting x_grid and y_grid to continuous arrays\n",
    "x_gridflat = np.ravel(x_grid)\n",
    "y_gridflat = np.ravel(y_grid)\n",
    "\n",
    "# The last layer of the current model takes two columns as input. Hence transpose of np.vstack() is required.\n",
    "X = np.vstack((x_gridflat, y_gridflat)).T\n",
    "\n",
    "prob_contour = model_prob(X).reshape(100,100) "
   ]
  },
  {
   "cell_type": "code",
   "execution_count": 29,
   "id": "da72499a",
   "metadata": {
    "execution": {
     "iopub.execute_input": "2022-05-05T00:36:55.390682Z",
     "iopub.status.busy": "2022-05-05T00:36:55.389776Z",
     "iopub.status.idle": "2022-05-05T00:36:55.623889Z",
     "shell.execute_reply": "2022-05-05T00:36:55.623096Z"
    },
    "papermill": {
     "duration": 0.293748,
     "end_time": "2022-05-05T00:36:55.624015",
     "exception": false,
     "start_time": "2022-05-05T00:36:55.330267",
     "status": "completed"
    },
    "tags": []
   },
   "outputs": [
    {
     "data": {
      "image/png": "[encoded data removed]",
      "text/plain": [
       "<Figure size 720x648 with 1 Axes>"
      ]
     },
     "metadata": {
      "needs_background": "light"
     },
     "output_type": "display_data"
    }
   ],
   "source": [
    "plt.figure(figsize=(10,9))\n",
    "plt.scatter(testing_plot[:,0], testing_plot[:,1], alpha = 0.1, c = y_test.ravel())\n",
    "contours = plt.contour(x_grid,y_grid,prob_contour)\n",
    "plt.title('Probability Contours')\n",
    "plt.clabel(contours, inline = True );"
   ]
  },
  {
   "cell_type": "code",
   "execution_count": null,
   "id": "e81b4ac7",
   "metadata": {
    "papermill": {
     "duration": 0.047846,
     "end_time": "2022-05-05T00:36:55.720036",
     "exception": false,
     "start_time": "2022-05-05T00:36:55.672190",
     "status": "completed"
    },
    "tags": []
   },
   "outputs": [],
   "source": []
  }
 ],
 "metadata": {
  "kernelspec": {
   "display_name": "Python 3",
   "language": "python",
   "name": "python3"
  },
  "language_info": {
   "codemirror_mode": {
    "name": "ipython",
    "version": 3
   },
   "file_extension": ".py",
   "mimetype": "text/x-python",
   "name": "python",
   "nbconvert_exporter": "python",
   "pygments_lexer": "ipython3",
   "version": "3.6.15"
  },
  "papermill": {
   "default_parameters": {},
   "duration": 97.97283,
   "end_time": "2022-05-05T00:36:56.186958",
   "environment_variables": {},
   "exception": null,
   "input_path": "2020-08-11-part2.ipynb",
   "output_path": "2020-08-11-part2.ipynb",
   "parameters": {},
   "start_time": "2022-05-05T00:35:18.214128",
   "version": "2.3.3"
  }
 },
 "nbformat": 4,
 "nbformat_minor": 5
}